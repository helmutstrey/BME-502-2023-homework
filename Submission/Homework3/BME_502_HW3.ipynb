{
 "cells": [
  {
   "cell_type": "markdown",
   "id": "1fbe377b",
   "metadata": {},
   "source": [
    "<h1>HW3</h1>"
   ]
  },
  {
   "cell_type": "markdown",
   "id": "79813e24",
   "metadata": {},
   "source": [
    "# Question 1\n",
    "### (Bayes Theorem) Read the following example and complete the exercises \n",
    "\n",
    "Trolls Under the Bridge\n",
    "1. Trolls(T) are bad\n",
    "2. Gnomes(G) are benign\n",
    "3. Every bridge has 5 creatures under it\n",
    "\n",
    "Below are the probabilities of what creatures live under a bridge:\n",
    "1. TTGGG: 20% (E1)\n",
    "2. TGGGG: 20% (E2)\n",
    "3. GGGGG: 60% (E3)\n",
    "\n",
    "A knight is approaching a bridge and he wants to know his chance of crossing the bridge safely."
   ]
  },
  {
   "cell_type": "markdown",
   "id": "425f8583",
   "metadata": {},
   "source": [
    "### 1.1 \n",
    "\n",
    "#### What is the chance of the knight crossing the bridge safely?\n"
   ]
  },
  {
   "cell_type": "code",
   "execution_count": 5,
   "id": "29bea308",
   "metadata": {},
   "outputs": [
    {
     "name": "stdout",
     "output_type": "stream",
     "text": [
      "60%"
     ]
    }
   ],
   "source": [
    "print(\"60%\")"
   ]
  },
  {
   "cell_type": "markdown",
   "id": "61f687e4",
   "metadata": {},
   "source": [
    "### 1.2\n",
    "\n",
    "#### Before crossing a bridge, a knight captures a troll. “I now have an 80% chance of crossing safely,” he reasons, “since only the case 20% had TTGGG (E1) now have TGGG is still a threat.”\n",
    "\n",
    "#### Do you agree with him? Why?"
   ]
  },
  {
   "cell_type": "markdown",
   "id": "09025213",
   "metadata": {},
   "source": [
    "No, because since he has now captured a troll, this means that E2 is now out of question. This means that there is now, according to Baye's theorem, 33% of crossing safely."
   ]
  },
  {
   "cell_type": "markdown",
   "id": "c1533b67",
   "metadata": {},
   "source": [
    "### 1.3\n",
    "\n",
    "#### Now he wants to use Bayes' theorem to calculate his chance of crossing safely given a troll captured \n",
    "\n",
    "\\begin{equation*}\n",
    "P(A|B) = \\frac{P(B|A)P(A)}{P(B)} \\\\\n",
    "P(A|B): Posteior \\\\\n",
    "P(B|A): Likelihood \\\\\n",
    "P(A): Prior \\\\\n",
    "P(B): Marginal Probability \\\\\n",
    "\\end{equation*}\n",
    "\n",
    "#### Given the three events, E1, E2, and E3, which two of the three events does the knight need to consider after a troll was captured?"
   ]
  },
  {
   "cell_type": "markdown",
   "id": "0adb7f0a",
   "metadata": {},
   "source": [
    "If he captures a troll, then he knows he is in E1 or E2."
   ]
  },
  {
   "cell_type": "markdown",
   "id": "e45e8fa6",
   "metadata": {},
   "source": [
    "### 1.4\n",
    "\n",
    "#### Use Bayes' theorem to calculate the probability of the two events in 1.3 (separately) given the troll was captured. "
   ]
  },
  {
   "cell_type": "markdown",
   "id": "5d9c3c0b",
   "metadata": {},
   "source": [
    "Probability of one event given a troll captured: "
   ]
  },
  {
   "cell_type": "code",
   "execution_count": 72,
   "id": "f2f0e7c8",
   "metadata": {},
   "outputs": [
    {
     "data": {
      "text/plain": [
       "0.6666666666666666"
      ]
     },
     "execution_count": 72,
     "metadata": {},
     "output_type": "execute_result"
    }
   ],
   "source": [
    "PE1 = .4\n",
    "PT_E1 = .2\n",
    "PE2 = .2\n",
    "PE3 = .6\n",
    "Unsafe = (PT_E1 * PE1)/((PE2 * PE2) + (PE1 * PE2) + (0 * PE3))"
   ]
  },
  {
   "cell_type": "markdown",
   "id": "37843aee",
   "metadata": {},
   "source": [
    "Probability of the other event given a troll captured: "
   ]
  },
  {
   "cell_type": "code",
   "execution_count": 74,
   "id": "5db10bc7",
   "metadata": {},
   "outputs": [
    {
     "data": {
      "text/plain": [
       "0.3333333333333333"
      ]
     },
     "execution_count": 74,
     "metadata": {},
     "output_type": "execute_result"
    }
   ],
   "source": [
    "PE1 = .4\n",
    "PT_E2 = .2\n",
    "PE2 = .2\n",
    "PE3 = .6\n",
    "Safe = (PT_E2 * PE2)/((PE2 * PE2) + (PE1 * PE2) + (0 * PE3))"
   ]
  },
  {
   "cell_type": "markdown",
   "id": "f3b7f049",
   "metadata": {},
   "source": [
    "### 1.5\n",
    "\n",
    "#### What is the chance of the knight crossing safely?"
   ]
  },
  {
   "cell_type": "code",
   "execution_count": 12,
   "id": "0f6fd73b",
   "metadata": {},
   "outputs": [
    {
     "name": "stdout",
     "output_type": "stream",
     "text": [
      "33.3%"
     ]
    }
   ],
   "source": [
    "print(\"33.3%\")"
   ]
  },
  {
   "cell_type": "markdown",
   "id": "7b815ae0",
   "metadata": {},
   "source": [
    "#### Now looking back to 1.1, the probabilities were changed after assimilating data! "
   ]
  },
  {
   "cell_type": "markdown",
   "id": "f1450094",
   "metadata": {},
   "source": [
    "# Question 2\n",
    "### (Polynomial Fitting) Read the following example and complete the exercises \n",
    "\n",
    "Biological data always comes with errors that influence the intepretation of the data significantly. In this question, we will simulate data and see how noises affect the parameter estimation."
   ]
  },
  {
   "cell_type": "code",
   "execution_count": 13,
   "id": "c20822fa",
   "metadata": {},
   "outputs": [
    {
     "name": "stderr",
     "output_type": "stream",
     "text": [
      "\u001b[32m\u001b[1m    Updating\u001b[22m\u001b[39m registry at `~/.julia/registries/General.toml`\n",
      "\u001b[32m\u001b[1m   Resolving\u001b[22m\u001b[39m package versions...\n",
      "\u001b[32m\u001b[1m  No Changes\u001b[22m\u001b[39m to `~/.julia/environments/v1.8/Project.toml`\n",
      "\u001b[32m\u001b[1m  No Changes\u001b[22m\u001b[39m to `~/.julia/environments/v1.8/Manifest.toml`\n"
     ]
    }
   ],
   "source": [
    "import Pkg\n",
    "Pkg.add([\"Distributions\", \"Plots\", \"Polynomials\", \"Random\"])"
   ]
  },
  {
   "cell_type": "code",
   "execution_count": 27,
   "id": "d7d1ca8d",
   "metadata": {},
   "outputs": [],
   "source": [
    "import Distributions as di\n",
    "import Plots\n",
    "import Polynomials\n",
    "import Random\n",
    "using Distributions\n",
    "using Plots\n",
    "using Polynomials\n",
    "using Random"
   ]
  },
  {
   "cell_type": "markdown",
   "id": "a90dd09d",
   "metadata": {},
   "source": [
    "### 2.1\n",
    "\n",
    "1. Generate the independent variable x ranging from -10 to 10 with an increment of 1\n",
    "2. Generate the dependent variable y_true using the equation y_true = x^2 + 3x - 2\n"
   ]
  },
  {
   "cell_type": "code",
   "execution_count": 16,
   "id": "6b0b33c5",
   "metadata": {},
   "outputs": [
    {
     "data": {
      "text/plain": [
       "21-element Vector{Int64}:\n",
       " -10\n",
       "  -9\n",
       "  -8\n",
       "  -7\n",
       "  -6\n",
       "  -5\n",
       "  -4\n",
       "  -3\n",
       "  -2\n",
       "  -1\n",
       "   0\n",
       "   1\n",
       "   2\n",
       "   3\n",
       "   4\n",
       "   5\n",
       "   6\n",
       "   7\n",
       "   8\n",
       "   9\n",
       "  10"
      ]
     },
     "execution_count": 16,
     "metadata": {},
     "output_type": "execute_result"
    }
   ],
   "source": [
    "x= -10:10\n",
    "collect(x)"
   ]
  },
  {
   "cell_type": "code",
   "execution_count": 19,
   "id": "2db358f5-fab2-41bd-8827-8cfead607188",
   "metadata": {},
   "outputs": [
    {
     "data": {
      "text/plain": [
       "21-element Vector{Int64}:\n",
       "  68\n",
       "  52\n",
       "  38\n",
       "  26\n",
       "  16\n",
       "   8\n",
       "   2\n",
       "  -2\n",
       "  -4\n",
       "  -4\n",
       "  -2\n",
       "   2\n",
       "   8\n",
       "  16\n",
       "  26\n",
       "  38\n",
       "  52\n",
       "  68\n",
       "  86\n",
       " 106\n",
       " 128"
      ]
     },
     "execution_count": 19,
     "metadata": {},
     "output_type": "execute_result"
    }
   ],
   "source": [
    "y_true = x .^ 2 + 3x .- 2"
   ]
  },
  {
   "cell_type": "markdown",
   "id": "74d2a191",
   "metadata": {},
   "source": [
    "### 2.2\n",
    "\n",
    "1. Generate the Guassian noises with zero mean and a standard deviation of 10\n",
    "\n",
    "2. Add the noises to y_true to obtain y_observed\n"
   ]
  },
  {
   "cell_type": "code",
   "execution_count": 22,
   "id": "7936417a",
   "metadata": {},
   "outputs": [
    {
     "data": {
      "text/plain": [
       "21-element Vector{Float64}:\n",
       "  64.93646167077574\n",
       "  51.19963850445408\n",
       "  39.21878124588651\n",
       "   1.9291303239475255\n",
       "   7.306198073846405\n",
       "  -3.363358362621236\n",
       " -10.602513913506906\n",
       "   2.1676958876802095\n",
       "  -3.360294974374958\n",
       "   6.438760651941852\n",
       "   0.3043941531342198\n",
       "  -5.234692476079251\n",
       "   9.338993999931462\n",
       "  14.782367862438006\n",
       "  30.151788607368683\n",
       "  33.4185123548126\n",
       "  48.807419426776626\n",
       "  70.54544161926233\n",
       "  96.94820442224565\n",
       "  96.95123235801947\n",
       " 129.73524324834327"
      ]
     },
     "execution_count": 22,
     "metadata": {},
     "output_type": "execute_result"
    }
   ],
   "source": [
    "x\n",
    "dataerr = 10\n",
    "noise = di.Normal(0,dataerr)\n",
    "y_observed = y_true + rand(noise, length(x))"
   ]
  },
  {
   "cell_type": "markdown",
   "id": "ecf2e554",
   "metadata": {},
   "source": [
    "### 2.3\n",
    "\n",
    "#### Fit the data (x, y_observed) with a second order polynomial. \n",
    "\n",
    "1. Make a scatter plot of y_observed along x\n",
    "2. Plot a line of y_true along x on the scatter plot\n",
    "3. Plot a line of the fitted polynomial along x on the same plot"
   ]
  },
  {
   "cell_type": "code",
   "execution_count": 25,
   "id": "d39a136b",
   "metadata": {},
   "outputs": [
    {
     "data": {
      "image/svg+xml": [
       "<?xml version=\"1.0\" encoding=\"utf-8\"?>\n",
       "<svg xmlns=\"http://www.w3.org/2000/svg\" xmlns:xlink=\"http://www.w3.org/1999/xlink\" width=\"600\" height=\"400\" viewBox=\"0 0 2400 1600\">\n",
       "<defs>\n",
       "  <clipPath id=\"clip370\">\n",
       "    <rect x=\"0\" y=\"0\" width=\"2400\" height=\"1600\"/>\n",
       "  </clipPath>\n",
       "</defs>\n",
       "<path clip-path=\"url(#clip370)\" d=\"M0 1600 L2400 1600 L2400 0 L0 0  Z\" fill=\"#ffffff\" fill-rule=\"evenodd\" fill-opacity=\"1\"/>\n",
       "<defs>\n",
       "  <clipPath id=\"clip371\">\n",
       "    <rect x=\"480\" y=\"0\" width=\"1681\" height=\"1600\"/>\n",
       "  </clipPath>\n",
       "</defs>\n",
       "<path clip-path=\"url(#clip370)\" d=\"M169.121 1486.45 L2352.76 1486.45 L2352.76 47.2441 L169.121 47.2441  Z\" fill=\"#ffffff\" fill-rule=\"evenodd\" fill-opacity=\"1\"/>\n",
       "<defs>\n",
       "  <clipPath id=\"clip372\">\n",
       "    <rect x=\"169\" y=\"47\" width=\"2185\" height=\"1440\"/>\n",
       "  </clipPath>\n",
       "</defs>\n",
       "<polyline clip-path=\"url(#clip372)\" style=\"stroke:#000000; stroke-linecap:round; stroke-linejoin:round; stroke-width:2; stroke-opacity:0.1; fill:none\" points=\"230.922,1486.45 230.922,47.2441 \"/>\n",
       "<polyline clip-path=\"url(#clip372)\" style=\"stroke:#000000; stroke-linecap:round; stroke-linejoin:round; stroke-width:2; stroke-opacity:0.1; fill:none\" points=\"745.93,1486.45 745.93,47.2441 \"/>\n",
       "<polyline clip-path=\"url(#clip372)\" style=\"stroke:#000000; stroke-linecap:round; stroke-linejoin:round; stroke-width:2; stroke-opacity:0.1; fill:none\" points=\"1260.94,1486.45 1260.94,47.2441 \"/>\n",
       "<polyline clip-path=\"url(#clip372)\" style=\"stroke:#000000; stroke-linecap:round; stroke-linejoin:round; stroke-width:2; stroke-opacity:0.1; fill:none\" points=\"1775.95,1486.45 1775.95,47.2441 \"/>\n",
       "<polyline clip-path=\"url(#clip372)\" style=\"stroke:#000000; stroke-linecap:round; stroke-linejoin:round; stroke-width:2; stroke-opacity:0.1; fill:none\" points=\"2290.95,1486.45 2290.95,47.2441 \"/>\n",
       "<polyline clip-path=\"url(#clip370)\" style=\"stroke:#000000; stroke-linecap:round; stroke-linejoin:round; stroke-width:4; stroke-opacity:1; fill:none\" points=\"169.121,1486.45 2352.76,1486.45 \"/>\n",
       "<polyline clip-path=\"url(#clip370)\" style=\"stroke:#000000; stroke-linecap:round; stroke-linejoin:round; stroke-width:4; stroke-opacity:1; fill:none\" points=\"230.922,1486.45 230.922,1467.55 \"/>\n",
       "<polyline clip-path=\"url(#clip370)\" style=\"stroke:#000000; stroke-linecap:round; stroke-linejoin:round; stroke-width:4; stroke-opacity:1; fill:none\" points=\"745.93,1486.45 745.93,1467.55 \"/>\n",
       "<polyline clip-path=\"url(#clip370)\" style=\"stroke:#000000; stroke-linecap:round; stroke-linejoin:round; stroke-width:4; stroke-opacity:1; fill:none\" points=\"1260.94,1486.45 1260.94,1467.55 \"/>\n",
       "<polyline clip-path=\"url(#clip370)\" style=\"stroke:#000000; stroke-linecap:round; stroke-linejoin:round; stroke-width:4; stroke-opacity:1; fill:none\" points=\"1775.95,1486.45 1775.95,1467.55 \"/>\n",
       "<polyline clip-path=\"url(#clip370)\" style=\"stroke:#000000; stroke-linecap:round; stroke-linejoin:round; stroke-width:4; stroke-opacity:1; fill:none\" points=\"2290.95,1486.45 2290.95,1467.55 \"/>\n",
       "<path clip-path=\"url(#clip370)\" d=\"M184.985 1532.02 L214.661 1532.02 L214.661 1535.95 L184.985 1535.95 L184.985 1532.02 Z\" fill=\"#000000\" fill-rule=\"evenodd\" fill-opacity=\"1\" /><path clip-path=\"url(#clip370)\" d=\"M225.564 1544.91 L233.202 1544.91 L233.202 1518.55 L224.892 1520.21 L224.892 1515.95 L233.156 1514.29 L237.832 1514.29 L237.832 1544.91 L245.471 1544.91 L245.471 1548.85 L225.564 1548.85 L225.564 1544.91 Z\" fill=\"#000000\" fill-rule=\"evenodd\" fill-opacity=\"1\" /><path clip-path=\"url(#clip370)\" d=\"M264.915 1517.37 Q261.304 1517.37 259.475 1520.93 Q257.67 1524.47 257.67 1531.6 Q257.67 1538.71 259.475 1542.27 Q261.304 1545.82 264.915 1545.82 Q268.549 1545.82 270.355 1542.27 Q272.184 1538.71 272.184 1531.6 Q272.184 1524.47 270.355 1520.93 Q268.549 1517.37 264.915 1517.37 M264.915 1513.66 Q270.725 1513.66 273.781 1518.27 Q276.86 1522.85 276.86 1531.6 Q276.86 1540.33 273.781 1544.94 Q270.725 1549.52 264.915 1549.52 Q259.105 1549.52 256.026 1544.94 Q252.971 1540.33 252.971 1531.6 Q252.971 1522.85 256.026 1518.27 Q259.105 1513.66 264.915 1513.66 Z\" fill=\"#000000\" fill-rule=\"evenodd\" fill-opacity=\"1\" /><path clip-path=\"url(#clip370)\" d=\"M715.572 1532.02 L745.248 1532.02 L745.248 1535.95 L715.572 1535.95 L715.572 1532.02 Z\" fill=\"#000000\" fill-rule=\"evenodd\" fill-opacity=\"1\" /><path clip-path=\"url(#clip370)\" d=\"M755.386 1514.29 L773.743 1514.29 L773.743 1518.22 L759.669 1518.22 L759.669 1526.7 Q760.687 1526.35 761.706 1526.19 Q762.724 1526 763.743 1526 Q769.53 1526 772.909 1529.17 Q776.289 1532.34 776.289 1537.76 Q776.289 1543.34 772.817 1546.44 Q769.345 1549.52 763.025 1549.52 Q760.849 1549.52 758.581 1549.15 Q756.335 1548.78 753.928 1548.04 L753.928 1543.34 Q756.011 1544.47 758.234 1545.03 Q760.456 1545.58 762.933 1545.58 Q766.937 1545.58 769.275 1543.48 Q771.613 1541.37 771.613 1537.76 Q771.613 1534.15 769.275 1532.04 Q766.937 1529.94 762.933 1529.94 Q761.058 1529.94 759.183 1530.35 Q757.331 1530.77 755.386 1531.65 L755.386 1514.29 Z\" fill=\"#000000\" fill-rule=\"evenodd\" fill-opacity=\"1\" /><path clip-path=\"url(#clip370)\" d=\"M1260.94 1517.37 Q1257.33 1517.37 1255.5 1520.93 Q1253.69 1524.47 1253.69 1531.6 Q1253.69 1538.71 1255.5 1542.27 Q1257.33 1545.82 1260.94 1545.82 Q1264.57 1545.82 1266.38 1542.27 Q1268.21 1538.71 1268.21 1531.6 Q1268.21 1524.47 1266.38 1520.93 Q1264.57 1517.37 1260.94 1517.37 M1260.94 1513.66 Q1266.75 1513.66 1269.8 1518.27 Q1272.88 1522.85 1272.88 1531.6 Q1272.88 1540.33 1269.8 1544.94 Q1266.75 1549.52 1260.94 1549.52 Q1255.13 1549.52 1252.05 1544.94 Q1248.99 1540.33 1248.99 1531.6 Q1248.99 1522.85 1252.05 1518.27 Q1255.13 1513.66 1260.94 1513.66 Z\" fill=\"#000000\" fill-rule=\"evenodd\" fill-opacity=\"1\" /><path clip-path=\"url(#clip370)\" d=\"M1766.22 1514.29 L1784.58 1514.29 L1784.58 1518.22 L1770.51 1518.22 L1770.51 1526.7 Q1771.53 1526.35 1772.54 1526.19 Q1773.56 1526 1774.58 1526 Q1780.37 1526 1783.75 1529.17 Q1787.13 1532.34 1787.13 1537.76 Q1787.13 1543.34 1783.66 1546.44 Q1780.18 1549.52 1773.86 1549.52 Q1771.69 1549.52 1769.42 1549.15 Q1767.17 1548.78 1764.77 1548.04 L1764.77 1543.34 Q1766.85 1544.47 1769.07 1545.03 Q1771.29 1545.58 1773.77 1545.58 Q1777.78 1545.58 1780.11 1543.48 Q1782.45 1541.37 1782.45 1537.76 Q1782.45 1534.15 1780.11 1532.04 Q1777.78 1529.94 1773.77 1529.94 Q1771.9 1529.94 1770.02 1530.35 Q1768.17 1530.77 1766.22 1531.65 L1766.22 1514.29 Z\" fill=\"#000000\" fill-rule=\"evenodd\" fill-opacity=\"1\" /><path clip-path=\"url(#clip370)\" d=\"M2265.64 1544.91 L2273.28 1544.91 L2273.28 1518.55 L2264.97 1520.21 L2264.97 1515.95 L2273.24 1514.29 L2277.91 1514.29 L2277.91 1544.91 L2285.55 1544.91 L2285.55 1548.85 L2265.64 1548.85 L2265.64 1544.91 Z\" fill=\"#000000\" fill-rule=\"evenodd\" fill-opacity=\"1\" /><path clip-path=\"url(#clip370)\" d=\"M2304.99 1517.37 Q2301.38 1517.37 2299.55 1520.93 Q2297.75 1524.47 2297.75 1531.6 Q2297.75 1538.71 2299.55 1542.27 Q2301.38 1545.82 2304.99 1545.82 Q2308.63 1545.82 2310.43 1542.27 Q2312.26 1538.71 2312.26 1531.6 Q2312.26 1524.47 2310.43 1520.93 Q2308.63 1517.37 2304.99 1517.37 M2304.99 1513.66 Q2310.8 1513.66 2313.86 1518.27 Q2316.94 1522.85 2316.94 1531.6 Q2316.94 1540.33 2313.86 1544.94 Q2310.8 1549.52 2304.99 1549.52 Q2299.18 1549.52 2296.11 1544.94 Q2293.05 1540.33 2293.05 1531.6 Q2293.05 1522.85 2296.11 1518.27 Q2299.18 1513.66 2304.99 1513.66 Z\" fill=\"#000000\" fill-rule=\"evenodd\" fill-opacity=\"1\" /><polyline clip-path=\"url(#clip372)\" style=\"stroke:#000000; stroke-linecap:round; stroke-linejoin:round; stroke-width:2; stroke-opacity:0.1; fill:none\" points=\"169.121,1343.14 2352.76,1343.14 \"/>\n",
       "<polyline clip-path=\"url(#clip372)\" style=\"stroke:#000000; stroke-linecap:round; stroke-linejoin:round; stroke-width:2; stroke-opacity:0.1; fill:none\" points=\"169.121,1149.64 2352.76,1149.64 \"/>\n",
       "<polyline clip-path=\"url(#clip372)\" style=\"stroke:#000000; stroke-linecap:round; stroke-linejoin:round; stroke-width:2; stroke-opacity:0.1; fill:none\" points=\"169.121,956.147 2352.76,956.147 \"/>\n",
       "<polyline clip-path=\"url(#clip372)\" style=\"stroke:#000000; stroke-linecap:round; stroke-linejoin:round; stroke-width:2; stroke-opacity:0.1; fill:none\" points=\"169.121,762.651 2352.76,762.651 \"/>\n",
       "<polyline clip-path=\"url(#clip372)\" style=\"stroke:#000000; stroke-linecap:round; stroke-linejoin:round; stroke-width:2; stroke-opacity:0.1; fill:none\" points=\"169.121,569.155 2352.76,569.155 \"/>\n",
       "<polyline clip-path=\"url(#clip372)\" style=\"stroke:#000000; stroke-linecap:round; stroke-linejoin:round; stroke-width:2; stroke-opacity:0.1; fill:none\" points=\"169.121,375.659 2352.76,375.659 \"/>\n",
       "<polyline clip-path=\"url(#clip372)\" style=\"stroke:#000000; stroke-linecap:round; stroke-linejoin:round; stroke-width:2; stroke-opacity:0.1; fill:none\" points=\"169.121,182.163 2352.76,182.163 \"/>\n",
       "<polyline clip-path=\"url(#clip370)\" style=\"stroke:#000000; stroke-linecap:round; stroke-linejoin:round; stroke-width:4; stroke-opacity:1; fill:none\" points=\"169.121,1486.45 169.121,47.2441 \"/>\n",
       "<polyline clip-path=\"url(#clip370)\" style=\"stroke:#000000; stroke-linecap:round; stroke-linejoin:round; stroke-width:4; stroke-opacity:1; fill:none\" points=\"169.121,1343.14 188.019,1343.14 \"/>\n",
       "<polyline clip-path=\"url(#clip370)\" style=\"stroke:#000000; stroke-linecap:round; stroke-linejoin:round; stroke-width:4; stroke-opacity:1; fill:none\" points=\"169.121,1149.64 188.019,1149.64 \"/>\n",
       "<polyline clip-path=\"url(#clip370)\" style=\"stroke:#000000; stroke-linecap:round; stroke-linejoin:round; stroke-width:4; stroke-opacity:1; fill:none\" points=\"169.121,956.147 188.019,956.147 \"/>\n",
       "<polyline clip-path=\"url(#clip370)\" style=\"stroke:#000000; stroke-linecap:round; stroke-linejoin:round; stroke-width:4; stroke-opacity:1; fill:none\" points=\"169.121,762.651 188.019,762.651 \"/>\n",
       "<polyline clip-path=\"url(#clip370)\" style=\"stroke:#000000; stroke-linecap:round; stroke-linejoin:round; stroke-width:4; stroke-opacity:1; fill:none\" points=\"169.121,569.155 188.019,569.155 \"/>\n",
       "<polyline clip-path=\"url(#clip370)\" style=\"stroke:#000000; stroke-linecap:round; stroke-linejoin:round; stroke-width:4; stroke-opacity:1; fill:none\" points=\"169.121,375.659 188.019,375.659 \"/>\n",
       "<polyline clip-path=\"url(#clip370)\" style=\"stroke:#000000; stroke-linecap:round; stroke-linejoin:round; stroke-width:4; stroke-opacity:1; fill:none\" points=\"169.121,182.163 188.019,182.163 \"/>\n",
       "<path clip-path=\"url(#clip370)\" d=\"M121.177 1328.94 Q117.566 1328.94 115.737 1332.5 Q113.932 1336.04 113.932 1343.17 Q113.932 1350.28 115.737 1353.84 Q117.566 1357.39 121.177 1357.39 Q124.811 1357.39 126.617 1353.84 Q128.445 1350.28 128.445 1343.17 Q128.445 1336.04 126.617 1332.5 Q124.811 1328.94 121.177 1328.94 M121.177 1325.23 Q126.987 1325.23 130.043 1329.84 Q133.121 1334.42 133.121 1343.17 Q133.121 1351.9 130.043 1356.51 Q126.987 1361.09 121.177 1361.09 Q115.367 1361.09 112.288 1356.51 Q109.233 1351.9 109.233 1343.17 Q109.233 1334.42 112.288 1329.84 Q115.367 1325.23 121.177 1325.23 Z\" fill=\"#000000\" fill-rule=\"evenodd\" fill-opacity=\"1\" /><path clip-path=\"url(#clip370)\" d=\"M85.0429 1162.99 L101.362 1162.99 L101.362 1166.92 L79.4179 1166.92 L79.4179 1162.99 Q82.0799 1160.23 86.6632 1155.6 Q91.2697 1150.95 92.4502 1149.61 Q94.6956 1147.08 95.5752 1145.35 Q96.478 1143.59 96.478 1141.9 Q96.478 1139.14 94.5336 1137.41 Q92.6123 1135.67 89.5104 1135.67 Q87.3114 1135.67 84.8577 1136.44 Q82.4271 1137.2 79.6494 1138.75 L79.6494 1134.03 Q82.4734 1132.89 84.9271 1132.32 Q87.3808 1131.74 89.4178 1131.74 Q94.7882 1131.74 97.9826 1134.42 Q101.177 1137.11 101.177 1141.6 Q101.177 1143.73 100.367 1145.65 Q99.5798 1147.55 97.4734 1150.14 Q96.8947 1150.81 93.7928 1154.03 Q90.691 1157.22 85.0429 1162.99 Z\" fill=\"#000000\" fill-rule=\"evenodd\" fill-opacity=\"1\" /><path clip-path=\"url(#clip370)\" d=\"M121.177 1135.44 Q117.566 1135.44 115.737 1139.01 Q113.932 1142.55 113.932 1149.68 Q113.932 1156.78 115.737 1160.35 Q117.566 1163.89 121.177 1163.89 Q124.811 1163.89 126.617 1160.35 Q128.445 1156.78 128.445 1149.68 Q128.445 1142.55 126.617 1139.01 Q124.811 1135.44 121.177 1135.44 M121.177 1131.74 Q126.987 1131.74 130.043 1136.34 Q133.121 1140.93 133.121 1149.68 Q133.121 1158.4 130.043 1163.01 Q126.987 1167.59 121.177 1167.59 Q115.367 1167.59 112.288 1163.01 Q109.233 1158.4 109.233 1149.68 Q109.233 1140.93 112.288 1136.34 Q115.367 1131.74 121.177 1131.74 Z\" fill=\"#000000\" fill-rule=\"evenodd\" fill-opacity=\"1\" /><path clip-path=\"url(#clip370)\" d=\"M93.8623 942.941 L82.0568 961.39 L93.8623 961.39 L93.8623 942.941 M92.6354 938.867 L98.515 938.867 L98.515 961.39 L103.446 961.39 L103.446 965.279 L98.515 965.279 L98.515 973.427 L93.8623 973.427 L93.8623 965.279 L78.2605 965.279 L78.2605 960.765 L92.6354 938.867 Z\" fill=\"#000000\" fill-rule=\"evenodd\" fill-opacity=\"1\" /><path clip-path=\"url(#clip370)\" d=\"M121.177 941.945 Q117.566 941.945 115.737 945.51 Q113.932 949.052 113.932 956.181 Q113.932 963.288 115.737 966.853 Q117.566 970.394 121.177 970.394 Q124.811 970.394 126.617 966.853 Q128.445 963.288 128.445 956.181 Q128.445 949.052 126.617 945.51 Q124.811 941.945 121.177 941.945 M121.177 938.242 Q126.987 938.242 130.043 942.848 Q133.121 947.431 133.121 956.181 Q133.121 964.908 130.043 969.515 Q126.987 974.098 121.177 974.098 Q115.367 974.098 112.288 969.515 Q109.233 964.908 109.233 956.181 Q109.233 947.431 112.288 942.848 Q115.367 938.242 121.177 938.242 Z\" fill=\"#000000\" fill-rule=\"evenodd\" fill-opacity=\"1\" /><path clip-path=\"url(#clip370)\" d=\"M91.5938 760.787 Q88.4456 760.787 86.5938 762.94 Q84.7651 765.093 84.7651 768.843 Q84.7651 772.57 86.5938 774.745 Q88.4456 776.898 91.5938 776.898 Q94.7419 776.898 96.5706 774.745 Q98.4224 772.57 98.4224 768.843 Q98.4224 765.093 96.5706 762.94 Q94.7419 760.787 91.5938 760.787 M100.876 746.135 L100.876 750.394 Q99.1169 749.56 97.3113 749.121 Q95.5289 748.681 93.7697 748.681 Q89.1401 748.681 86.6864 751.806 Q84.2558 754.931 83.9086 761.25 Q85.2743 759.236 87.3345 758.172 Q89.3947 757.084 91.8715 757.084 Q97.0798 757.084 100.089 760.255 Q103.121 763.403 103.121 768.843 Q103.121 774.167 99.9733 777.384 Q96.8252 780.602 91.5938 780.602 Q85.5984 780.602 82.4271 776.019 Q79.2559 771.412 79.2559 762.685 Q79.2559 754.491 83.1447 749.63 Q87.0336 744.746 93.5845 744.746 Q95.3437 744.746 97.1261 745.093 Q98.9317 745.44 100.876 746.135 Z\" fill=\"#000000\" fill-rule=\"evenodd\" fill-opacity=\"1\" /><path clip-path=\"url(#clip370)\" d=\"M121.177 748.449 Q117.566 748.449 115.737 752.014 Q113.932 755.556 113.932 762.685 Q113.932 769.792 115.737 773.357 Q117.566 776.898 121.177 776.898 Q124.811 776.898 126.617 773.357 Q128.445 769.792 128.445 762.685 Q128.445 755.556 126.617 752.014 Q124.811 748.449 121.177 748.449 M121.177 744.746 Q126.987 744.746 130.043 749.352 Q133.121 753.935 133.121 762.685 Q133.121 771.412 130.043 776.019 Q126.987 780.602 121.177 780.602 Q115.367 780.602 112.288 776.019 Q109.233 771.412 109.233 762.685 Q109.233 753.935 112.288 749.352 Q115.367 744.746 121.177 744.746 Z\" fill=\"#000000\" fill-rule=\"evenodd\" fill-opacity=\"1\" /><path clip-path=\"url(#clip370)\" d=\"M91.0151 570.023 Q87.6817 570.023 85.7605 571.805 Q83.8623 573.588 83.8623 576.713 Q83.8623 579.838 85.7605 581.62 Q87.6817 583.402 91.0151 583.402 Q94.3484 583.402 96.2697 581.62 Q98.1909 579.814 98.1909 576.713 Q98.1909 573.588 96.2697 571.805 Q94.3715 570.023 91.0151 570.023 M86.3392 568.032 Q83.3299 567.291 81.6401 565.231 Q79.9735 563.171 79.9735 560.208 Q79.9735 556.064 82.9133 553.657 Q85.8762 551.25 91.0151 551.25 Q96.1771 551.25 99.1169 553.657 Q102.057 556.064 102.057 560.208 Q102.057 563.171 100.367 565.231 Q98.7002 567.291 95.7141 568.032 Q99.0937 568.819 100.969 571.111 Q102.867 573.402 102.867 576.713 Q102.867 581.736 99.7882 584.421 Q96.7326 587.106 91.0151 587.106 Q85.2975 587.106 82.2188 584.421 Q79.1633 581.736 79.1633 576.713 Q79.1633 573.402 81.0614 571.111 Q82.9595 568.819 86.3392 568.032 M84.6262 560.648 Q84.6262 563.333 86.2929 564.838 Q87.9827 566.342 91.0151 566.342 Q94.0243 566.342 95.7141 564.838 Q97.4271 563.333 97.4271 560.648 Q97.4271 557.963 95.7141 556.458 Q94.0243 554.953 91.0151 554.953 Q87.9827 554.953 86.2929 556.458 Q84.6262 557.963 84.6262 560.648 Z\" fill=\"#000000\" fill-rule=\"evenodd\" fill-opacity=\"1\" /><path clip-path=\"url(#clip370)\" d=\"M121.177 554.953 Q117.566 554.953 115.737 558.518 Q113.932 562.06 113.932 569.189 Q113.932 576.296 115.737 579.861 Q117.566 583.402 121.177 583.402 Q124.811 583.402 126.617 579.861 Q128.445 576.296 128.445 569.189 Q128.445 562.06 126.617 558.518 Q124.811 554.953 121.177 554.953 M121.177 551.25 Q126.987 551.25 130.043 555.856 Q133.121 560.439 133.121 569.189 Q133.121 577.916 130.043 582.523 Q126.987 587.106 121.177 587.106 Q115.367 587.106 112.288 582.523 Q109.233 577.916 109.233 569.189 Q109.233 560.439 112.288 555.856 Q115.367 551.25 121.177 551.25 Z\" fill=\"#000000\" fill-rule=\"evenodd\" fill-opacity=\"1\" /><path clip-path=\"url(#clip370)\" d=\"M51.6634 389.004 L59.3023 389.004 L59.3023 362.638 L50.9921 364.305 L50.9921 360.045 L59.256 358.379 L63.9319 358.379 L63.9319 389.004 L71.5707 389.004 L71.5707 392.939 L51.6634 392.939 L51.6634 389.004 Z\" fill=\"#000000\" fill-rule=\"evenodd\" fill-opacity=\"1\" /><path clip-path=\"url(#clip370)\" d=\"M91.0151 361.457 Q87.404 361.457 85.5753 365.022 Q83.7697 368.564 83.7697 375.693 Q83.7697 382.8 85.5753 386.365 Q87.404 389.906 91.0151 389.906 Q94.6493 389.906 96.4548 386.365 Q98.2835 382.8 98.2835 375.693 Q98.2835 368.564 96.4548 365.022 Q94.6493 361.457 91.0151 361.457 M91.0151 357.754 Q96.8252 357.754 99.8808 362.36 Q102.959 366.944 102.959 375.693 Q102.959 384.42 99.8808 389.027 Q96.8252 393.61 91.0151 393.61 Q85.2049 393.61 82.1262 389.027 Q79.0707 384.42 79.0707 375.693 Q79.0707 366.944 82.1262 362.36 Q85.2049 357.754 91.0151 357.754 Z\" fill=\"#000000\" fill-rule=\"evenodd\" fill-opacity=\"1\" /><path clip-path=\"url(#clip370)\" d=\"M121.177 361.457 Q117.566 361.457 115.737 365.022 Q113.932 368.564 113.932 375.693 Q113.932 382.8 115.737 386.365 Q117.566 389.906 121.177 389.906 Q124.811 389.906 126.617 386.365 Q128.445 382.8 128.445 375.693 Q128.445 368.564 126.617 365.022 Q124.811 361.457 121.177 361.457 M121.177 357.754 Q126.987 357.754 130.043 362.36 Q133.121 366.944 133.121 375.693 Q133.121 384.42 130.043 389.027 Q126.987 393.61 121.177 393.61 Q115.367 393.61 112.288 389.027 Q109.233 384.42 109.233 375.693 Q109.233 366.944 112.288 362.36 Q115.367 357.754 121.177 357.754 Z\" fill=\"#000000\" fill-rule=\"evenodd\" fill-opacity=\"1\" /><path clip-path=\"url(#clip370)\" d=\"M51.6634 195.508 L59.3023 195.508 L59.3023 169.142 L50.9921 170.809 L50.9921 166.549 L59.256 164.883 L63.9319 164.883 L63.9319 195.508 L71.5707 195.508 L71.5707 199.443 L51.6634 199.443 L51.6634 195.508 Z\" fill=\"#000000\" fill-rule=\"evenodd\" fill-opacity=\"1\" /><path clip-path=\"url(#clip370)\" d=\"M85.0429 195.508 L101.362 195.508 L101.362 199.443 L79.4179 199.443 L79.4179 195.508 Q82.0799 192.753 86.6632 188.123 Q91.2697 183.471 92.4502 182.128 Q94.6956 179.605 95.5752 177.869 Q96.478 176.11 96.478 174.42 Q96.478 171.665 94.5336 169.929 Q92.6123 168.193 89.5104 168.193 Q87.3114 168.193 84.8577 168.957 Q82.4271 169.721 79.6494 171.272 L79.6494 166.549 Q82.4734 165.415 84.9271 164.836 Q87.3808 164.258 89.4178 164.258 Q94.7882 164.258 97.9826 166.943 Q101.177 169.628 101.177 174.119 Q101.177 176.248 100.367 178.17 Q99.5798 180.068 97.4734 182.66 Q96.8947 183.332 93.7928 186.549 Q90.691 189.744 85.0429 195.508 Z\" fill=\"#000000\" fill-rule=\"evenodd\" fill-opacity=\"1\" /><path clip-path=\"url(#clip370)\" d=\"M121.177 167.961 Q117.566 167.961 115.737 171.526 Q113.932 175.068 113.932 182.198 Q113.932 189.304 115.737 192.869 Q117.566 196.41 121.177 196.41 Q124.811 196.41 126.617 192.869 Q128.445 189.304 128.445 182.198 Q128.445 175.068 126.617 171.526 Q124.811 167.961 121.177 167.961 M121.177 164.258 Q126.987 164.258 130.043 168.864 Q133.121 173.448 133.121 182.198 Q133.121 190.924 130.043 195.531 Q126.987 200.114 121.177 200.114 Q115.367 200.114 112.288 195.531 Q109.233 190.924 109.233 182.198 Q109.233 173.448 112.288 168.864 Q115.367 164.258 121.177 164.258 Z\" fill=\"#000000\" fill-rule=\"evenodd\" fill-opacity=\"1\" /><circle clip-path=\"url(#clip372)\" cx=\"230.922\" cy=\"714.891\" r=\"14.4\" fill=\"#009af9\" fill-rule=\"evenodd\" fill-opacity=\"1\" stroke=\"#000000\" stroke-opacity=\"1\" stroke-width=\"3.2\"/>\n",
       "<circle clip-path=\"url(#clip372)\" cx=\"333.924\" cy=\"847.792\" r=\"14.4\" fill=\"#009af9\" fill-rule=\"evenodd\" fill-opacity=\"1\" stroke=\"#000000\" stroke-opacity=\"1\" stroke-width=\"3.2\"/>\n",
       "<circle clip-path=\"url(#clip372)\" cx=\"436.926\" cy=\"963.705\" r=\"14.4\" fill=\"#009af9\" fill-rule=\"evenodd\" fill-opacity=\"1\" stroke=\"#000000\" stroke-opacity=\"1\" stroke-width=\"3.2\"/>\n",
       "<circle clip-path=\"url(#clip372)\" cx=\"539.927\" cy=\"1324.47\" r=\"14.4\" fill=\"#009af9\" fill-rule=\"evenodd\" fill-opacity=\"1\" stroke=\"#000000\" stroke-opacity=\"1\" stroke-width=\"3.2\"/>\n",
       "<circle clip-path=\"url(#clip372)\" cx=\"642.929\" cy=\"1272.45\" r=\"14.4\" fill=\"#009af9\" fill-rule=\"evenodd\" fill-opacity=\"1\" stroke=\"#000000\" stroke-opacity=\"1\" stroke-width=\"3.2\"/>\n",
       "<circle clip-path=\"url(#clip372)\" cx=\"745.93\" cy=\"1375.68\" r=\"14.4\" fill=\"#009af9\" fill-rule=\"evenodd\" fill-opacity=\"1\" stroke=\"#000000\" stroke-opacity=\"1\" stroke-width=\"3.2\"/>\n",
       "<circle clip-path=\"url(#clip372)\" cx=\"848.932\" cy=\"1445.72\" r=\"14.4\" fill=\"#009af9\" fill-rule=\"evenodd\" fill-opacity=\"1\" stroke=\"#000000\" stroke-opacity=\"1\" stroke-width=\"3.2\"/>\n",
       "<circle clip-path=\"url(#clip372)\" cx=\"951.934\" cy=\"1322.17\" r=\"14.4\" fill=\"#009af9\" fill-rule=\"evenodd\" fill-opacity=\"1\" stroke=\"#000000\" stroke-opacity=\"1\" stroke-width=\"3.2\"/>\n",
       "<circle clip-path=\"url(#clip372)\" cx=\"1054.94\" cy=\"1375.65\" r=\"14.4\" fill=\"#009af9\" fill-rule=\"evenodd\" fill-opacity=\"1\" stroke=\"#000000\" stroke-opacity=\"1\" stroke-width=\"3.2\"/>\n",
       "<circle clip-path=\"url(#clip372)\" cx=\"1157.94\" cy=\"1280.84\" r=\"14.4\" fill=\"#009af9\" fill-rule=\"evenodd\" fill-opacity=\"1\" stroke=\"#000000\" stroke-opacity=\"1\" stroke-width=\"3.2\"/>\n",
       "<circle clip-path=\"url(#clip372)\" cx=\"1260.94\" cy=\"1340.19\" r=\"14.4\" fill=\"#009af9\" fill-rule=\"evenodd\" fill-opacity=\"1\" stroke=\"#000000\" stroke-opacity=\"1\" stroke-width=\"3.2\"/>\n",
       "<circle clip-path=\"url(#clip372)\" cx=\"1363.94\" cy=\"1393.78\" r=\"14.4\" fill=\"#009af9\" fill-rule=\"evenodd\" fill-opacity=\"1\" stroke=\"#000000\" stroke-opacity=\"1\" stroke-width=\"3.2\"/>\n",
       "<circle clip-path=\"url(#clip372)\" cx=\"1466.94\" cy=\"1252.79\" r=\"14.4\" fill=\"#009af9\" fill-rule=\"evenodd\" fill-opacity=\"1\" stroke=\"#000000\" stroke-opacity=\"1\" stroke-width=\"3.2\"/>\n",
       "<circle clip-path=\"url(#clip372)\" cx=\"1569.94\" cy=\"1200.12\" r=\"14.4\" fill=\"#009af9\" fill-rule=\"evenodd\" fill-opacity=\"1\" stroke=\"#000000\" stroke-opacity=\"1\" stroke-width=\"3.2\"/>\n",
       "<circle clip-path=\"url(#clip372)\" cx=\"1672.95\" cy=\"1051.43\" r=\"14.4\" fill=\"#009af9\" fill-rule=\"evenodd\" fill-opacity=\"1\" stroke=\"#000000\" stroke-opacity=\"1\" stroke-width=\"3.2\"/>\n",
       "<circle clip-path=\"url(#clip372)\" cx=\"1775.95\" cy=\"1019.82\" r=\"14.4\" fill=\"#009af9\" fill-rule=\"evenodd\" fill-opacity=\"1\" stroke=\"#000000\" stroke-opacity=\"1\" stroke-width=\"3.2\"/>\n",
       "<circle clip-path=\"url(#clip372)\" cx=\"1878.95\" cy=\"870.937\" r=\"14.4\" fill=\"#009af9\" fill-rule=\"evenodd\" fill-opacity=\"1\" stroke=\"#000000\" stroke-opacity=\"1\" stroke-width=\"3.2\"/>\n",
       "<circle clip-path=\"url(#clip372)\" cx=\"1981.95\" cy=\"660.626\" r=\"14.4\" fill=\"#009af9\" fill-rule=\"evenodd\" fill-opacity=\"1\" stroke=\"#000000\" stroke-opacity=\"1\" stroke-width=\"3.2\"/>\n",
       "<circle clip-path=\"url(#clip372)\" cx=\"2084.95\" cy=\"405.184\" r=\"14.4\" fill=\"#009af9\" fill-rule=\"evenodd\" fill-opacity=\"1\" stroke=\"#000000\" stroke-opacity=\"1\" stroke-width=\"3.2\"/>\n",
       "<circle clip-path=\"url(#clip372)\" cx=\"2187.95\" cy=\"405.155\" r=\"14.4\" fill=\"#009af9\" fill-rule=\"evenodd\" fill-opacity=\"1\" stroke=\"#000000\" stroke-opacity=\"1\" stroke-width=\"3.2\"/>\n",
       "<circle clip-path=\"url(#clip372)\" cx=\"2290.95\" cy=\"87.9763\" r=\"14.4\" fill=\"#009af9\" fill-rule=\"evenodd\" fill-opacity=\"1\" stroke=\"#000000\" stroke-opacity=\"1\" stroke-width=\"3.2\"/>\n",
       "<polyline clip-path=\"url(#clip372)\" style=\"stroke:#e26f46; stroke-linecap:round; stroke-linejoin:round; stroke-width:4; stroke-opacity:1; fill:none\" points=\"230.922,685.252 333.924,840.049 436.926,975.496 539.927,1091.59 642.929,1188.34 745.93,1265.74 848.932,1323.79 951.934,1362.49 1054.94,1381.84 1157.94,1381.84 1260.94,1362.49 1363.94,1323.79 1466.94,1265.74 1569.94,1188.34 1672.95,1091.59 1775.95,975.496 1878.95,840.049 1981.95,685.252 2084.95,511.106 2187.95,317.61 2290.95,104.764 \"/>\n",
       "<path clip-path=\"url(#clip370)\" d=\"M241.909 250.738 L512.703 250.738 L512.703 95.2176 L241.909 95.2176  Z\" fill=\"#ffffff\" fill-rule=\"evenodd\" fill-opacity=\"1\"/>\n",
       "<polyline clip-path=\"url(#clip370)\" style=\"stroke:#000000; stroke-linecap:round; stroke-linejoin:round; stroke-width:4; stroke-opacity:1; fill:none\" points=\"241.909,250.738 512.703,250.738 512.703,95.2176 241.909,95.2176 241.909,250.738 \"/>\n",
       "<circle clip-path=\"url(#clip370)\" cx=\"338.96\" cy=\"147.058\" r=\"23.04\" fill=\"#009af9\" fill-rule=\"evenodd\" fill-opacity=\"1\" stroke=\"#000000\" stroke-opacity=\"1\" stroke-width=\"5.12\"/>\n",
       "<path clip-path=\"url(#clip370)\" d=\"M449.853 166.745 Q448.047 171.375 446.334 172.787 Q444.621 174.199 441.751 174.199 L438.348 174.199 L438.348 170.634 L440.848 170.634 Q442.607 170.634 443.579 169.8 Q444.552 168.967 445.732 165.865 L446.496 163.921 L436.01 138.412 L440.524 138.412 L448.626 158.689 L456.727 138.412 L461.241 138.412 L449.853 166.745 Z\" fill=\"#000000\" fill-rule=\"evenodd\" fill-opacity=\"1\" /><path clip-path=\"url(#clip370)\" d=\"M468.533 160.402 L476.172 160.402 L476.172 134.037 L467.862 135.703 L467.862 131.444 L476.126 129.778 L480.801 129.778 L480.801 160.402 L488.44 160.402 L488.44 164.338 L468.533 164.338 L468.533 160.402 Z\" fill=\"#000000\" fill-rule=\"evenodd\" fill-opacity=\"1\" /><polyline clip-path=\"url(#clip370)\" style=\"stroke:#e26f46; stroke-linecap:round; stroke-linejoin:round; stroke-width:4; stroke-opacity:1; fill:none\" points=\"266.172,198.898 411.747,198.898 \"/>\n",
       "<path clip-path=\"url(#clip370)\" d=\"M449.853 218.585 Q448.047 223.215 446.334 224.627 Q444.621 226.039 441.751 226.039 L438.348 226.039 L438.348 222.474 L440.848 222.474 Q442.607 222.474 443.579 221.64 Q444.552 220.807 445.732 217.705 L446.496 215.761 L436.01 190.252 L440.524 190.252 L448.626 210.529 L456.727 190.252 L461.241 190.252 L449.853 218.585 Z\" fill=\"#000000\" fill-rule=\"evenodd\" fill-opacity=\"1\" /><path clip-path=\"url(#clip370)\" d=\"M471.751 212.242 L488.07 212.242 L488.07 216.178 L466.126 216.178 L466.126 212.242 Q468.788 209.488 473.371 204.858 Q477.977 200.205 479.158 198.863 Q481.403 196.34 482.283 194.604 Q483.186 192.844 483.186 191.155 Q483.186 188.4 481.241 186.664 Q479.32 184.928 476.218 184.928 Q474.019 184.928 471.565 185.692 Q469.135 186.455 466.357 188.006 L466.357 183.284 Q469.181 182.15 471.635 181.571 Q474.088 180.993 476.126 180.993 Q481.496 180.993 484.69 183.678 Q487.885 186.363 487.885 190.854 Q487.885 192.983 487.075 194.905 Q486.287 196.803 484.181 199.395 Q483.602 200.067 480.5 203.284 Q477.399 206.479 471.751 212.242 Z\" fill=\"#000000\" fill-rule=\"evenodd\" fill-opacity=\"1\" /></svg>\n"
      ]
     },
     "execution_count": 25,
     "metadata": {},
     "output_type": "execute_result"
    }
   ],
   "source": [
    "using Plots\n",
    "scatter(x, y_observed)\n",
    "plot!(x, y_true)"
   ]
  },
  {
   "cell_type": "code",
   "execution_count": 49,
   "id": "7e3a2a1c-8d02-46c4-933e-5bfff1f6a801",
   "metadata": {},
   "outputs": [
    {
     "data": {
      "image/svg+xml": [
       "<?xml version=\"1.0\" encoding=\"utf-8\"?>\n",
       "<svg xmlns=\"http://www.w3.org/2000/svg\" xmlns:xlink=\"http://www.w3.org/1999/xlink\" width=\"600\" height=\"400\" viewBox=\"0 0 2400 1600\">\n",
       "<defs>\n",
       "  <clipPath id=\"clip570\">\n",
       "    <rect x=\"0\" y=\"0\" width=\"2400\" height=\"1600\"/>\n",
       "  </clipPath>\n",
       "</defs>\n",
       "<path clip-path=\"url(#clip570)\" d=\"M0 1600 L2400 1600 L2400 0 L0 0  Z\" fill=\"#ffffff\" fill-rule=\"evenodd\" fill-opacity=\"1\"/>\n",
       "<defs>\n",
       "  <clipPath id=\"clip571\">\n",
       "    <rect x=\"480\" y=\"0\" width=\"1681\" height=\"1600\"/>\n",
       "  </clipPath>\n",
       "</defs>\n",
       "<path clip-path=\"url(#clip570)\" d=\"M169.121 1486.45 L2352.76 1486.45 L2352.76 47.2441 L169.121 47.2441  Z\" fill=\"#ffffff\" fill-rule=\"evenodd\" fill-opacity=\"1\"/>\n",
       "<defs>\n",
       "  <clipPath id=\"clip572\">\n",
       "    <rect x=\"169\" y=\"47\" width=\"2185\" height=\"1440\"/>\n",
       "  </clipPath>\n",
       "</defs>\n",
       "<polyline clip-path=\"url(#clip572)\" style=\"stroke:#000000; stroke-linecap:round; stroke-linejoin:round; stroke-width:2; stroke-opacity:0.1; fill:none\" points=\"230.922,1486.45 230.922,47.2441 \"/>\n",
       "<polyline clip-path=\"url(#clip572)\" style=\"stroke:#000000; stroke-linecap:round; stroke-linejoin:round; stroke-width:2; stroke-opacity:0.1; fill:none\" points=\"745.93,1486.45 745.93,47.2441 \"/>\n",
       "<polyline clip-path=\"url(#clip572)\" style=\"stroke:#000000; stroke-linecap:round; stroke-linejoin:round; stroke-width:2; stroke-opacity:0.1; fill:none\" points=\"1260.94,1486.45 1260.94,47.2441 \"/>\n",
       "<polyline clip-path=\"url(#clip572)\" style=\"stroke:#000000; stroke-linecap:round; stroke-linejoin:round; stroke-width:2; stroke-opacity:0.1; fill:none\" points=\"1775.95,1486.45 1775.95,47.2441 \"/>\n",
       "<polyline clip-path=\"url(#clip572)\" style=\"stroke:#000000; stroke-linecap:round; stroke-linejoin:round; stroke-width:2; stroke-opacity:0.1; fill:none\" points=\"2290.95,1486.45 2290.95,47.2441 \"/>\n",
       "<polyline clip-path=\"url(#clip570)\" style=\"stroke:#000000; stroke-linecap:round; stroke-linejoin:round; stroke-width:4; stroke-opacity:1; fill:none\" points=\"169.121,1486.45 2352.76,1486.45 \"/>\n",
       "<polyline clip-path=\"url(#clip570)\" style=\"stroke:#000000; stroke-linecap:round; stroke-linejoin:round; stroke-width:4; stroke-opacity:1; fill:none\" points=\"230.922,1486.45 230.922,1467.55 \"/>\n",
       "<polyline clip-path=\"url(#clip570)\" style=\"stroke:#000000; stroke-linecap:round; stroke-linejoin:round; stroke-width:4; stroke-opacity:1; fill:none\" points=\"745.93,1486.45 745.93,1467.55 \"/>\n",
       "<polyline clip-path=\"url(#clip570)\" style=\"stroke:#000000; stroke-linecap:round; stroke-linejoin:round; stroke-width:4; stroke-opacity:1; fill:none\" points=\"1260.94,1486.45 1260.94,1467.55 \"/>\n",
       "<polyline clip-path=\"url(#clip570)\" style=\"stroke:#000000; stroke-linecap:round; stroke-linejoin:round; stroke-width:4; stroke-opacity:1; fill:none\" points=\"1775.95,1486.45 1775.95,1467.55 \"/>\n",
       "<polyline clip-path=\"url(#clip570)\" style=\"stroke:#000000; stroke-linecap:round; stroke-linejoin:round; stroke-width:4; stroke-opacity:1; fill:none\" points=\"2290.95,1486.45 2290.95,1467.55 \"/>\n",
       "<path clip-path=\"url(#clip570)\" d=\"M184.985 1532.02 L214.661 1532.02 L214.661 1535.95 L184.985 1535.95 L184.985 1532.02 Z\" fill=\"#000000\" fill-rule=\"evenodd\" fill-opacity=\"1\" /><path clip-path=\"url(#clip570)\" d=\"M225.564 1544.91 L233.202 1544.91 L233.202 1518.55 L224.892 1520.21 L224.892 1515.95 L233.156 1514.29 L237.832 1514.29 L237.832 1544.91 L245.471 1544.91 L245.471 1548.85 L225.564 1548.85 L225.564 1544.91 Z\" fill=\"#000000\" fill-rule=\"evenodd\" fill-opacity=\"1\" /><path clip-path=\"url(#clip570)\" d=\"M264.915 1517.37 Q261.304 1517.37 259.475 1520.93 Q257.67 1524.47 257.67 1531.6 Q257.67 1538.71 259.475 1542.27 Q261.304 1545.82 264.915 1545.82 Q268.549 1545.82 270.355 1542.27 Q272.184 1538.71 272.184 1531.6 Q272.184 1524.47 270.355 1520.93 Q268.549 1517.37 264.915 1517.37 M264.915 1513.66 Q270.725 1513.66 273.781 1518.27 Q276.86 1522.85 276.86 1531.6 Q276.86 1540.33 273.781 1544.94 Q270.725 1549.52 264.915 1549.52 Q259.105 1549.52 256.026 1544.94 Q252.971 1540.33 252.971 1531.6 Q252.971 1522.85 256.026 1518.27 Q259.105 1513.66 264.915 1513.66 Z\" fill=\"#000000\" fill-rule=\"evenodd\" fill-opacity=\"1\" /><path clip-path=\"url(#clip570)\" d=\"M715.572 1532.02 L745.248 1532.02 L745.248 1535.95 L715.572 1535.95 L715.572 1532.02 Z\" fill=\"#000000\" fill-rule=\"evenodd\" fill-opacity=\"1\" /><path clip-path=\"url(#clip570)\" d=\"M755.386 1514.29 L773.743 1514.29 L773.743 1518.22 L759.669 1518.22 L759.669 1526.7 Q760.687 1526.35 761.706 1526.19 Q762.724 1526 763.743 1526 Q769.53 1526 772.909 1529.17 Q776.289 1532.34 776.289 1537.76 Q776.289 1543.34 772.817 1546.44 Q769.345 1549.52 763.025 1549.52 Q760.849 1549.52 758.581 1549.15 Q756.335 1548.78 753.928 1548.04 L753.928 1543.34 Q756.011 1544.47 758.234 1545.03 Q760.456 1545.58 762.933 1545.58 Q766.937 1545.58 769.275 1543.48 Q771.613 1541.37 771.613 1537.76 Q771.613 1534.15 769.275 1532.04 Q766.937 1529.94 762.933 1529.94 Q761.058 1529.94 759.183 1530.35 Q757.331 1530.77 755.386 1531.65 L755.386 1514.29 Z\" fill=\"#000000\" fill-rule=\"evenodd\" fill-opacity=\"1\" /><path clip-path=\"url(#clip570)\" d=\"M1260.94 1517.37 Q1257.33 1517.37 1255.5 1520.93 Q1253.69 1524.47 1253.69 1531.6 Q1253.69 1538.71 1255.5 1542.27 Q1257.33 1545.82 1260.94 1545.82 Q1264.57 1545.82 1266.38 1542.27 Q1268.21 1538.71 1268.21 1531.6 Q1268.21 1524.47 1266.38 1520.93 Q1264.57 1517.37 1260.94 1517.37 M1260.94 1513.66 Q1266.75 1513.66 1269.8 1518.27 Q1272.88 1522.85 1272.88 1531.6 Q1272.88 1540.33 1269.8 1544.94 Q1266.75 1549.52 1260.94 1549.52 Q1255.13 1549.52 1252.05 1544.94 Q1248.99 1540.33 1248.99 1531.6 Q1248.99 1522.85 1252.05 1518.27 Q1255.13 1513.66 1260.94 1513.66 Z\" fill=\"#000000\" fill-rule=\"evenodd\" fill-opacity=\"1\" /><path clip-path=\"url(#clip570)\" d=\"M1766.22 1514.29 L1784.58 1514.29 L1784.58 1518.22 L1770.51 1518.22 L1770.51 1526.7 Q1771.53 1526.35 1772.54 1526.19 Q1773.56 1526 1774.58 1526 Q1780.37 1526 1783.75 1529.17 Q1787.13 1532.34 1787.13 1537.76 Q1787.13 1543.34 1783.66 1546.44 Q1780.18 1549.52 1773.86 1549.52 Q1771.69 1549.52 1769.42 1549.15 Q1767.17 1548.78 1764.77 1548.04 L1764.77 1543.34 Q1766.85 1544.47 1769.07 1545.03 Q1771.29 1545.58 1773.77 1545.58 Q1777.78 1545.58 1780.11 1543.48 Q1782.45 1541.37 1782.45 1537.76 Q1782.45 1534.15 1780.11 1532.04 Q1777.78 1529.94 1773.77 1529.94 Q1771.9 1529.94 1770.02 1530.35 Q1768.17 1530.77 1766.22 1531.65 L1766.22 1514.29 Z\" fill=\"#000000\" fill-rule=\"evenodd\" fill-opacity=\"1\" /><path clip-path=\"url(#clip570)\" d=\"M2265.64 1544.91 L2273.28 1544.91 L2273.28 1518.55 L2264.97 1520.21 L2264.97 1515.95 L2273.24 1514.29 L2277.91 1514.29 L2277.91 1544.91 L2285.55 1544.91 L2285.55 1548.85 L2265.64 1548.85 L2265.64 1544.91 Z\" fill=\"#000000\" fill-rule=\"evenodd\" fill-opacity=\"1\" /><path clip-path=\"url(#clip570)\" d=\"M2304.99 1517.37 Q2301.38 1517.37 2299.55 1520.93 Q2297.75 1524.47 2297.75 1531.6 Q2297.75 1538.71 2299.55 1542.27 Q2301.38 1545.82 2304.99 1545.82 Q2308.63 1545.82 2310.43 1542.27 Q2312.26 1538.71 2312.26 1531.6 Q2312.26 1524.47 2310.43 1520.93 Q2308.63 1517.37 2304.99 1517.37 M2304.99 1513.66 Q2310.8 1513.66 2313.86 1518.27 Q2316.94 1522.85 2316.94 1531.6 Q2316.94 1540.33 2313.86 1544.94 Q2310.8 1549.52 2304.99 1549.52 Q2299.18 1549.52 2296.11 1544.94 Q2293.05 1540.33 2293.05 1531.6 Q2293.05 1522.85 2296.11 1518.27 Q2299.18 1513.66 2304.99 1513.66 Z\" fill=\"#000000\" fill-rule=\"evenodd\" fill-opacity=\"1\" /><polyline clip-path=\"url(#clip572)\" style=\"stroke:#000000; stroke-linecap:round; stroke-linejoin:round; stroke-width:2; stroke-opacity:0.1; fill:none\" points=\"169.121,1316.61 2352.76,1316.61 \"/>\n",
       "<polyline clip-path=\"url(#clip572)\" style=\"stroke:#000000; stroke-linecap:round; stroke-linejoin:round; stroke-width:2; stroke-opacity:0.1; fill:none\" points=\"169.121,1124.63 2352.76,1124.63 \"/>\n",
       "<polyline clip-path=\"url(#clip572)\" style=\"stroke:#000000; stroke-linecap:round; stroke-linejoin:round; stroke-width:2; stroke-opacity:0.1; fill:none\" points=\"169.121,932.659 2352.76,932.659 \"/>\n",
       "<polyline clip-path=\"url(#clip572)\" style=\"stroke:#000000; stroke-linecap:round; stroke-linejoin:round; stroke-width:2; stroke-opacity:0.1; fill:none\" points=\"169.121,740.685 2352.76,740.685 \"/>\n",
       "<polyline clip-path=\"url(#clip572)\" style=\"stroke:#000000; stroke-linecap:round; stroke-linejoin:round; stroke-width:2; stroke-opacity:0.1; fill:none\" points=\"169.121,548.712 2352.76,548.712 \"/>\n",
       "<polyline clip-path=\"url(#clip572)\" style=\"stroke:#000000; stroke-linecap:round; stroke-linejoin:round; stroke-width:2; stroke-opacity:0.1; fill:none\" points=\"169.121,356.739 2352.76,356.739 \"/>\n",
       "<polyline clip-path=\"url(#clip572)\" style=\"stroke:#000000; stroke-linecap:round; stroke-linejoin:round; stroke-width:2; stroke-opacity:0.1; fill:none\" points=\"169.121,164.766 2352.76,164.766 \"/>\n",
       "<polyline clip-path=\"url(#clip570)\" style=\"stroke:#000000; stroke-linecap:round; stroke-linejoin:round; stroke-width:4; stroke-opacity:1; fill:none\" points=\"169.121,1486.45 169.121,47.2441 \"/>\n",
       "<polyline clip-path=\"url(#clip570)\" style=\"stroke:#000000; stroke-linecap:round; stroke-linejoin:round; stroke-width:4; stroke-opacity:1; fill:none\" points=\"169.121,1316.61 188.019,1316.61 \"/>\n",
       "<polyline clip-path=\"url(#clip570)\" style=\"stroke:#000000; stroke-linecap:round; stroke-linejoin:round; stroke-width:4; stroke-opacity:1; fill:none\" points=\"169.121,1124.63 188.019,1124.63 \"/>\n",
       "<polyline clip-path=\"url(#clip570)\" style=\"stroke:#000000; stroke-linecap:round; stroke-linejoin:round; stroke-width:4; stroke-opacity:1; fill:none\" points=\"169.121,932.659 188.019,932.659 \"/>\n",
       "<polyline clip-path=\"url(#clip570)\" style=\"stroke:#000000; stroke-linecap:round; stroke-linejoin:round; stroke-width:4; stroke-opacity:1; fill:none\" points=\"169.121,740.685 188.019,740.685 \"/>\n",
       "<polyline clip-path=\"url(#clip570)\" style=\"stroke:#000000; stroke-linecap:round; stroke-linejoin:round; stroke-width:4; stroke-opacity:1; fill:none\" points=\"169.121,548.712 188.019,548.712 \"/>\n",
       "<polyline clip-path=\"url(#clip570)\" style=\"stroke:#000000; stroke-linecap:round; stroke-linejoin:round; stroke-width:4; stroke-opacity:1; fill:none\" points=\"169.121,356.739 188.019,356.739 \"/>\n",
       "<polyline clip-path=\"url(#clip570)\" style=\"stroke:#000000; stroke-linecap:round; stroke-linejoin:round; stroke-width:4; stroke-opacity:1; fill:none\" points=\"169.121,164.766 188.019,164.766 \"/>\n",
       "<path clip-path=\"url(#clip570)\" d=\"M121.177 1302.4 Q117.566 1302.4 115.737 1305.97 Q113.932 1309.51 113.932 1316.64 Q113.932 1323.75 115.737 1327.31 Q117.566 1330.85 121.177 1330.85 Q124.811 1330.85 126.617 1327.31 Q128.445 1323.75 128.445 1316.64 Q128.445 1309.51 126.617 1305.97 Q124.811 1302.4 121.177 1302.4 M121.177 1298.7 Q126.987 1298.7 130.043 1303.31 Q133.121 1307.89 133.121 1316.64 Q133.121 1325.37 130.043 1329.97 Q126.987 1334.56 121.177 1334.56 Q115.367 1334.56 112.288 1329.97 Q109.233 1325.37 109.233 1316.64 Q109.233 1307.89 112.288 1303.31 Q115.367 1298.7 121.177 1298.7 Z\" fill=\"#000000\" fill-rule=\"evenodd\" fill-opacity=\"1\" /><path clip-path=\"url(#clip570)\" d=\"M85.0429 1137.98 L101.362 1137.98 L101.362 1141.91 L79.4179 1141.91 L79.4179 1137.98 Q82.0799 1135.22 86.6632 1130.59 Q91.2697 1125.94 92.4502 1124.6 Q94.6956 1122.07 95.5752 1120.34 Q96.478 1118.58 96.478 1116.89 Q96.478 1114.13 94.5336 1112.4 Q92.6123 1110.66 89.5104 1110.66 Q87.3114 1110.66 84.8577 1111.43 Q82.4271 1112.19 79.6494 1113.74 L79.6494 1109.02 Q82.4734 1107.88 84.9271 1107.31 Q87.3808 1106.73 89.4178 1106.73 Q94.7882 1106.73 97.9826 1109.41 Q101.177 1112.1 101.177 1116.59 Q101.177 1118.72 100.367 1120.64 Q99.5798 1122.54 97.4734 1125.13 Q96.8947 1125.8 93.7928 1129.02 Q90.691 1132.21 85.0429 1137.98 Z\" fill=\"#000000\" fill-rule=\"evenodd\" fill-opacity=\"1\" /><path clip-path=\"url(#clip570)\" d=\"M121.177 1110.43 Q117.566 1110.43 115.737 1114 Q113.932 1117.54 113.932 1124.67 Q113.932 1131.77 115.737 1135.34 Q117.566 1138.88 121.177 1138.88 Q124.811 1138.88 126.617 1135.34 Q128.445 1131.77 128.445 1124.67 Q128.445 1117.54 126.617 1114 Q124.811 1110.43 121.177 1110.43 M121.177 1106.73 Q126.987 1106.73 130.043 1111.33 Q133.121 1115.92 133.121 1124.67 Q133.121 1133.39 130.043 1138 Q126.987 1142.58 121.177 1142.58 Q115.367 1142.58 112.288 1138 Q109.233 1133.39 109.233 1124.67 Q109.233 1115.92 112.288 1111.33 Q115.367 1106.73 121.177 1106.73 Z\" fill=\"#000000\" fill-rule=\"evenodd\" fill-opacity=\"1\" /><path clip-path=\"url(#clip570)\" d=\"M93.8623 919.453 L82.0568 937.902 L93.8623 937.902 L93.8623 919.453 M92.6354 915.379 L98.515 915.379 L98.515 937.902 L103.446 937.902 L103.446 941.79 L98.515 941.79 L98.515 949.939 L93.8623 949.939 L93.8623 941.79 L78.2605 941.79 L78.2605 937.277 L92.6354 915.379 Z\" fill=\"#000000\" fill-rule=\"evenodd\" fill-opacity=\"1\" /><path clip-path=\"url(#clip570)\" d=\"M121.177 918.457 Q117.566 918.457 115.737 922.022 Q113.932 925.564 113.932 932.693 Q113.932 939.8 115.737 943.365 Q117.566 946.906 121.177 946.906 Q124.811 946.906 126.617 943.365 Q128.445 939.8 128.445 932.693 Q128.445 925.564 126.617 922.022 Q124.811 918.457 121.177 918.457 M121.177 914.754 Q126.987 914.754 130.043 919.36 Q133.121 923.943 133.121 932.693 Q133.121 941.42 130.043 946.027 Q126.987 950.61 121.177 950.61 Q115.367 950.61 112.288 946.027 Q109.233 941.42 109.233 932.693 Q109.233 923.943 112.288 919.36 Q115.367 914.754 121.177 914.754 Z\" fill=\"#000000\" fill-rule=\"evenodd\" fill-opacity=\"1\" /><path clip-path=\"url(#clip570)\" d=\"M91.5938 738.822 Q88.4456 738.822 86.5938 740.975 Q84.7651 743.127 84.7651 746.877 Q84.7651 750.604 86.5938 752.78 Q88.4456 754.933 91.5938 754.933 Q94.7419 754.933 96.5706 752.78 Q98.4224 750.604 98.4224 746.877 Q98.4224 743.127 96.5706 740.975 Q94.7419 738.822 91.5938 738.822 M100.876 724.169 L100.876 728.428 Q99.1169 727.595 97.3113 727.155 Q95.5289 726.715 93.7697 726.715 Q89.1401 726.715 86.6864 729.84 Q84.2558 732.965 83.9086 739.285 Q85.2743 737.271 87.3345 736.206 Q89.3947 735.118 91.8715 735.118 Q97.0798 735.118 100.089 738.29 Q103.121 741.438 103.121 746.877 Q103.121 752.201 99.9733 755.419 Q96.8252 758.637 91.5938 758.637 Q85.5984 758.637 82.4271 754.053 Q79.2559 749.447 79.2559 740.72 Q79.2559 732.526 83.1447 727.665 Q87.0336 722.78 93.5845 722.78 Q95.3437 722.78 97.1261 723.128 Q98.9317 723.475 100.876 724.169 Z\" fill=\"#000000\" fill-rule=\"evenodd\" fill-opacity=\"1\" /><path clip-path=\"url(#clip570)\" d=\"M121.177 726.484 Q117.566 726.484 115.737 730.049 Q113.932 733.59 113.932 740.72 Q113.932 747.826 115.737 751.391 Q117.566 754.933 121.177 754.933 Q124.811 754.933 126.617 751.391 Q128.445 747.826 128.445 740.72 Q128.445 733.59 126.617 730.049 Q124.811 726.484 121.177 726.484 M121.177 722.78 Q126.987 722.78 130.043 727.387 Q133.121 731.97 133.121 740.72 Q133.121 749.447 130.043 754.053 Q126.987 758.637 121.177 758.637 Q115.367 758.637 112.288 754.053 Q109.233 749.447 109.233 740.72 Q109.233 731.97 112.288 727.387 Q115.367 722.78 121.177 722.78 Z\" fill=\"#000000\" fill-rule=\"evenodd\" fill-opacity=\"1\" /><path clip-path=\"url(#clip570)\" d=\"M91.0151 549.58 Q87.6817 549.58 85.7605 551.363 Q83.8623 553.145 83.8623 556.27 Q83.8623 559.395 85.7605 561.177 Q87.6817 562.96 91.0151 562.96 Q94.3484 562.96 96.2697 561.177 Q98.1909 559.372 98.1909 556.27 Q98.1909 553.145 96.2697 551.363 Q94.3715 549.58 91.0151 549.58 M86.3392 547.589 Q83.3299 546.849 81.6401 544.788 Q79.9735 542.728 79.9735 539.765 Q79.9735 535.622 82.9133 533.214 Q85.8762 530.807 91.0151 530.807 Q96.1771 530.807 99.1169 533.214 Q102.057 535.622 102.057 539.765 Q102.057 542.728 100.367 544.788 Q98.7002 546.849 95.7141 547.589 Q99.0937 548.376 100.969 550.668 Q102.867 552.96 102.867 556.27 Q102.867 561.293 99.7882 563.978 Q96.7326 566.663 91.0151 566.663 Q85.2975 566.663 82.2188 563.978 Q79.1633 561.293 79.1633 556.27 Q79.1633 552.96 81.0614 550.668 Q82.9595 548.376 86.3392 547.589 M84.6262 540.205 Q84.6262 542.89 86.2929 544.395 Q87.9827 545.9 91.0151 545.9 Q94.0243 545.9 95.7141 544.395 Q97.4271 542.89 97.4271 540.205 Q97.4271 537.52 95.7141 536.015 Q94.0243 534.511 91.0151 534.511 Q87.9827 534.511 86.2929 536.015 Q84.6262 537.52 84.6262 540.205 Z\" fill=\"#000000\" fill-rule=\"evenodd\" fill-opacity=\"1\" /><path clip-path=\"url(#clip570)\" d=\"M121.177 534.511 Q117.566 534.511 115.737 538.076 Q113.932 541.617 113.932 548.747 Q113.932 555.853 115.737 559.418 Q117.566 562.96 121.177 562.96 Q124.811 562.96 126.617 559.418 Q128.445 555.853 128.445 548.747 Q128.445 541.617 126.617 538.076 Q124.811 534.511 121.177 534.511 M121.177 530.807 Q126.987 530.807 130.043 535.414 Q133.121 539.997 133.121 548.747 Q133.121 557.474 130.043 562.08 Q126.987 566.663 121.177 566.663 Q115.367 566.663 112.288 562.08 Q109.233 557.474 109.233 548.747 Q109.233 539.997 112.288 535.414 Q115.367 530.807 121.177 530.807 Z\" fill=\"#000000\" fill-rule=\"evenodd\" fill-opacity=\"1\" /><path clip-path=\"url(#clip570)\" d=\"M51.6634 370.084 L59.3023 370.084 L59.3023 343.718 L50.9921 345.385 L50.9921 341.125 L59.256 339.459 L63.9319 339.459 L63.9319 370.084 L71.5707 370.084 L71.5707 374.019 L51.6634 374.019 L51.6634 370.084 Z\" fill=\"#000000\" fill-rule=\"evenodd\" fill-opacity=\"1\" /><path clip-path=\"url(#clip570)\" d=\"M91.0151 342.538 Q87.404 342.538 85.5753 346.102 Q83.7697 349.644 83.7697 356.774 Q83.7697 363.88 85.5753 367.445 Q87.404 370.986 91.0151 370.986 Q94.6493 370.986 96.4548 367.445 Q98.2835 363.88 98.2835 356.774 Q98.2835 349.644 96.4548 346.102 Q94.6493 342.538 91.0151 342.538 M91.0151 338.834 Q96.8252 338.834 99.8808 343.44 Q102.959 348.024 102.959 356.774 Q102.959 365.5 99.8808 370.107 Q96.8252 374.69 91.0151 374.69 Q85.2049 374.69 82.1262 370.107 Q79.0707 365.5 79.0707 356.774 Q79.0707 348.024 82.1262 343.44 Q85.2049 338.834 91.0151 338.834 Z\" fill=\"#000000\" fill-rule=\"evenodd\" fill-opacity=\"1\" /><path clip-path=\"url(#clip570)\" d=\"M121.177 342.538 Q117.566 342.538 115.737 346.102 Q113.932 349.644 113.932 356.774 Q113.932 363.88 115.737 367.445 Q117.566 370.986 121.177 370.986 Q124.811 370.986 126.617 367.445 Q128.445 363.88 128.445 356.774 Q128.445 349.644 126.617 346.102 Q124.811 342.538 121.177 342.538 M121.177 338.834 Q126.987 338.834 130.043 343.44 Q133.121 348.024 133.121 356.774 Q133.121 365.5 130.043 370.107 Q126.987 374.69 121.177 374.69 Q115.367 374.69 112.288 370.107 Q109.233 365.5 109.233 356.774 Q109.233 348.024 112.288 343.44 Q115.367 338.834 121.177 338.834 Z\" fill=\"#000000\" fill-rule=\"evenodd\" fill-opacity=\"1\" /><path clip-path=\"url(#clip570)\" d=\"M51.6634 178.11 L59.3023 178.11 L59.3023 151.745 L50.9921 153.411 L50.9921 149.152 L59.256 147.486 L63.9319 147.486 L63.9319 178.11 L71.5707 178.11 L71.5707 182.046 L51.6634 182.046 L51.6634 178.11 Z\" fill=\"#000000\" fill-rule=\"evenodd\" fill-opacity=\"1\" /><path clip-path=\"url(#clip570)\" d=\"M85.0429 178.11 L101.362 178.11 L101.362 182.046 L79.4179 182.046 L79.4179 178.11 Q82.0799 175.356 86.6632 170.726 Q91.2697 166.073 92.4502 164.731 Q94.6956 162.208 95.5752 160.472 Q96.478 158.712 96.478 157.023 Q96.478 154.268 94.5336 152.532 Q92.6123 150.796 89.5104 150.796 Q87.3114 150.796 84.8577 151.56 Q82.4271 152.324 79.6494 153.874 L79.6494 149.152 Q82.4734 148.018 84.9271 147.439 Q87.3808 146.861 89.4178 146.861 Q94.7882 146.861 97.9826 149.546 Q101.177 152.231 101.177 156.722 Q101.177 158.851 100.367 160.773 Q99.5798 162.671 97.4734 165.263 Q96.8947 165.935 93.7928 169.152 Q90.691 172.347 85.0429 178.11 Z\" fill=\"#000000\" fill-rule=\"evenodd\" fill-opacity=\"1\" /><path clip-path=\"url(#clip570)\" d=\"M121.177 150.564 Q117.566 150.564 115.737 154.129 Q113.932 157.671 113.932 164.8 Q113.932 171.907 115.737 175.472 Q117.566 179.013 121.177 179.013 Q124.811 179.013 126.617 175.472 Q128.445 171.907 128.445 164.8 Q128.445 157.671 126.617 154.129 Q124.811 150.564 121.177 150.564 M121.177 146.861 Q126.987 146.861 130.043 151.467 Q133.121 156.05 133.121 164.8 Q133.121 173.527 130.043 178.134 Q126.987 182.717 121.177 182.717 Q115.367 182.717 112.288 178.134 Q109.233 173.527 109.233 164.8 Q109.233 156.05 112.288 151.467 Q115.367 146.861 121.177 146.861 Z\" fill=\"#000000\" fill-rule=\"evenodd\" fill-opacity=\"1\" /><circle clip-path=\"url(#clip572)\" cx=\"230.922\" cy=\"674.877\" r=\"14.4\" fill=\"#009af9\" fill-rule=\"evenodd\" fill-opacity=\"1\" stroke=\"#000000\" stroke-opacity=\"1\" stroke-width=\"3.2\"/>\n",
       "<circle clip-path=\"url(#clip572)\" cx=\"333.924\" cy=\"851.961\" r=\"14.4\" fill=\"#009af9\" fill-rule=\"evenodd\" fill-opacity=\"1\" stroke=\"#000000\" stroke-opacity=\"1\" stroke-width=\"3.2\"/>\n",
       "<circle clip-path=\"url(#clip572)\" cx=\"436.926\" cy=\"799.409\" r=\"14.4\" fill=\"#009af9\" fill-rule=\"evenodd\" fill-opacity=\"1\" stroke=\"#000000\" stroke-opacity=\"1\" stroke-width=\"3.2\"/>\n",
       "<circle clip-path=\"url(#clip572)\" cx=\"539.927\" cy=\"1087.49\" r=\"14.4\" fill=\"#009af9\" fill-rule=\"evenodd\" fill-opacity=\"1\" stroke=\"#000000\" stroke-opacity=\"1\" stroke-width=\"3.2\"/>\n",
       "<circle clip-path=\"url(#clip572)\" cx=\"642.929\" cy=\"1212.56\" r=\"14.4\" fill=\"#009af9\" fill-rule=\"evenodd\" fill-opacity=\"1\" stroke=\"#000000\" stroke-opacity=\"1\" stroke-width=\"3.2\"/>\n",
       "<circle clip-path=\"url(#clip572)\" cx=\"745.93\" cy=\"1191.66\" r=\"14.4\" fill=\"#009af9\" fill-rule=\"evenodd\" fill-opacity=\"1\" stroke=\"#000000\" stroke-opacity=\"1\" stroke-width=\"3.2\"/>\n",
       "<circle clip-path=\"url(#clip572)\" cx=\"848.932\" cy=\"1314.42\" r=\"14.4\" fill=\"#009af9\" fill-rule=\"evenodd\" fill-opacity=\"1\" stroke=\"#000000\" stroke-opacity=\"1\" stroke-width=\"3.2\"/>\n",
       "<circle clip-path=\"url(#clip572)\" cx=\"951.934\" cy=\"1414.43\" r=\"14.4\" fill=\"#009af9\" fill-rule=\"evenodd\" fill-opacity=\"1\" stroke=\"#000000\" stroke-opacity=\"1\" stroke-width=\"3.2\"/>\n",
       "<circle clip-path=\"url(#clip572)\" cx=\"1054.94\" cy=\"1397.91\" r=\"14.4\" fill=\"#009af9\" fill-rule=\"evenodd\" fill-opacity=\"1\" stroke=\"#000000\" stroke-opacity=\"1\" stroke-width=\"3.2\"/>\n",
       "<circle clip-path=\"url(#clip572)\" cx=\"1157.94\" cy=\"1445.72\" r=\"14.4\" fill=\"#009af9\" fill-rule=\"evenodd\" fill-opacity=\"1\" stroke=\"#000000\" stroke-opacity=\"1\" stroke-width=\"3.2\"/>\n",
       "<circle clip-path=\"url(#clip572)\" cx=\"1260.94\" cy=\"1145.17\" r=\"14.4\" fill=\"#009af9\" fill-rule=\"evenodd\" fill-opacity=\"1\" stroke=\"#000000\" stroke-opacity=\"1\" stroke-width=\"3.2\"/>\n",
       "<circle clip-path=\"url(#clip572)\" cx=\"1363.94\" cy=\"1232.35\" r=\"14.4\" fill=\"#009af9\" fill-rule=\"evenodd\" fill-opacity=\"1\" stroke=\"#000000\" stroke-opacity=\"1\" stroke-width=\"3.2\"/>\n",
       "<circle clip-path=\"url(#clip572)\" cx=\"1466.94\" cy=\"1441.56\" r=\"14.4\" fill=\"#009af9\" fill-rule=\"evenodd\" fill-opacity=\"1\" stroke=\"#000000\" stroke-opacity=\"1\" stroke-width=\"3.2\"/>\n",
       "<circle clip-path=\"url(#clip572)\" cx=\"1569.94\" cy=\"1065.09\" r=\"14.4\" fill=\"#009af9\" fill-rule=\"evenodd\" fill-opacity=\"1\" stroke=\"#000000\" stroke-opacity=\"1\" stroke-width=\"3.2\"/>\n",
       "<circle clip-path=\"url(#clip572)\" cx=\"1672.95\" cy=\"987.403\" r=\"14.4\" fill=\"#009af9\" fill-rule=\"evenodd\" fill-opacity=\"1\" stroke=\"#000000\" stroke-opacity=\"1\" stroke-width=\"3.2\"/>\n",
       "<circle clip-path=\"url(#clip572)\" cx=\"1775.95\" cy=\"985.525\" r=\"14.4\" fill=\"#009af9\" fill-rule=\"evenodd\" fill-opacity=\"1\" stroke=\"#000000\" stroke-opacity=\"1\" stroke-width=\"3.2\"/>\n",
       "<circle clip-path=\"url(#clip572)\" cx=\"1878.95\" cy=\"791.347\" r=\"14.4\" fill=\"#009af9\" fill-rule=\"evenodd\" fill-opacity=\"1\" stroke=\"#000000\" stroke-opacity=\"1\" stroke-width=\"3.2\"/>\n",
       "<circle clip-path=\"url(#clip572)\" cx=\"1981.95\" cy=\"539.327\" r=\"14.4\" fill=\"#009af9\" fill-rule=\"evenodd\" fill-opacity=\"1\" stroke=\"#000000\" stroke-opacity=\"1\" stroke-width=\"3.2\"/>\n",
       "<circle clip-path=\"url(#clip572)\" cx=\"2084.95\" cy=\"501.608\" r=\"14.4\" fill=\"#009af9\" fill-rule=\"evenodd\" fill-opacity=\"1\" stroke=\"#000000\" stroke-opacity=\"1\" stroke-width=\"3.2\"/>\n",
       "<circle clip-path=\"url(#clip572)\" cx=\"2187.95\" cy=\"324.849\" r=\"14.4\" fill=\"#009af9\" fill-rule=\"evenodd\" fill-opacity=\"1\" stroke=\"#000000\" stroke-opacity=\"1\" stroke-width=\"3.2\"/>\n",
       "<circle clip-path=\"url(#clip572)\" cx=\"2290.95\" cy=\"290.851\" r=\"14.4\" fill=\"#009af9\" fill-rule=\"evenodd\" fill-opacity=\"1\" stroke=\"#000000\" stroke-opacity=\"1\" stroke-width=\"3.2\"/>\n",
       "<polyline clip-path=\"url(#clip572)\" style=\"stroke:#e26f46; stroke-linecap:round; stroke-linejoin:round; stroke-width:4; stroke-opacity:1; fill:none\" points=\"230.922,663.896 333.924,817.475 436.926,951.856 539.927,1067.04 642.929,1163.03 745.93,1239.82 848.932,1297.41 951.934,1335.8 1054.94,1355 1157.94,1355 1260.94,1335.8 1363.94,1297.41 1466.94,1239.82 1569.94,1163.03 1672.95,1067.04 1775.95,951.856 1878.95,817.475 1981.95,663.896 2084.95,491.12 2187.95,299.147 2290.95,87.9763 \"/>\n",
       "<polyline clip-path=\"url(#clip572)\" style=\"stroke:#3da44d; stroke-linecap:round; stroke-linejoin:round; stroke-width:4; stroke-opacity:1; fill:none\" points=\"230.922,679.659 333.924,825.552 436.926,953.238 539.927,1062.72 642.929,1153.99 745.93,1227.06 848.932,1281.92 951.934,1318.57 1054.94,1337.02 1157.94,1337.26 1260.94,1319.29 1363.94,1283.11 1466.94,1228.74 1569.94,1156.15 1672.95,1065.36 1775.95,956.356 1878.95,829.15 1981.95,683.737 2084.95,520.117 2187.95,338.291 2290.95,138.259 \"/>\n",
       "<path clip-path=\"url(#clip570)\" d=\"M241.909 302.578 L513.282 302.578 L513.282 95.2176 L241.909 95.2176  Z\" fill=\"#ffffff\" fill-rule=\"evenodd\" fill-opacity=\"1\"/>\n",
       "<polyline clip-path=\"url(#clip570)\" style=\"stroke:#000000; stroke-linecap:round; stroke-linejoin:round; stroke-width:4; stroke-opacity:1; fill:none\" points=\"241.909,302.578 513.282,302.578 513.282,95.2176 241.909,95.2176 241.909,302.578 \"/>\n",
       "<circle clip-path=\"url(#clip570)\" cx=\"338.96\" cy=\"147.058\" r=\"23.04\" fill=\"#009af9\" fill-rule=\"evenodd\" fill-opacity=\"1\" stroke=\"#000000\" stroke-opacity=\"1\" stroke-width=\"5.12\"/>\n",
       "<path clip-path=\"url(#clip570)\" d=\"M449.853 166.745 Q448.047 171.375 446.334 172.787 Q444.621 174.199 441.751 174.199 L438.348 174.199 L438.348 170.634 L440.848 170.634 Q442.607 170.634 443.579 169.8 Q444.552 168.967 445.732 165.865 L446.496 163.921 L436.01 138.412 L440.524 138.412 L448.626 158.689 L456.727 138.412 L461.241 138.412 L449.853 166.745 Z\" fill=\"#000000\" fill-rule=\"evenodd\" fill-opacity=\"1\" /><path clip-path=\"url(#clip570)\" d=\"M468.533 160.402 L476.172 160.402 L476.172 134.037 L467.862 135.703 L467.862 131.444 L476.126 129.778 L480.801 129.778 L480.801 160.402 L488.44 160.402 L488.44 164.338 L468.533 164.338 L468.533 160.402 Z\" fill=\"#000000\" fill-rule=\"evenodd\" fill-opacity=\"1\" /><polyline clip-path=\"url(#clip570)\" style=\"stroke:#e26f46; stroke-linecap:round; stroke-linejoin:round; stroke-width:4; stroke-opacity:1; fill:none\" points=\"266.172,198.898 411.747,198.898 \"/>\n",
       "<path clip-path=\"url(#clip570)\" d=\"M449.853 218.585 Q448.047 223.215 446.334 224.627 Q444.621 226.039 441.751 226.039 L438.348 226.039 L438.348 222.474 L440.848 222.474 Q442.607 222.474 443.579 221.64 Q444.552 220.807 445.732 217.705 L446.496 215.761 L436.01 190.252 L440.524 190.252 L448.626 210.529 L456.727 190.252 L461.241 190.252 L449.853 218.585 Z\" fill=\"#000000\" fill-rule=\"evenodd\" fill-opacity=\"1\" /><path clip-path=\"url(#clip570)\" d=\"M471.751 212.242 L488.07 212.242 L488.07 216.178 L466.126 216.178 L466.126 212.242 Q468.788 209.488 473.371 204.858 Q477.977 200.205 479.158 198.863 Q481.403 196.34 482.283 194.604 Q483.186 192.844 483.186 191.155 Q483.186 188.4 481.241 186.664 Q479.32 184.928 476.218 184.928 Q474.019 184.928 471.565 185.692 Q469.135 186.455 466.357 188.006 L466.357 183.284 Q469.181 182.15 471.635 181.571 Q474.088 180.993 476.126 180.993 Q481.496 180.993 484.69 183.678 Q487.885 186.363 487.885 190.854 Q487.885 192.983 487.075 194.905 Q486.287 196.803 484.181 199.395 Q483.602 200.067 480.5 203.284 Q477.399 206.479 471.751 212.242 Z\" fill=\"#000000\" fill-rule=\"evenodd\" fill-opacity=\"1\" /><polyline clip-path=\"url(#clip570)\" style=\"stroke:#3da44d; stroke-linecap:round; stroke-linejoin:round; stroke-width:4; stroke-opacity:1; fill:none\" points=\"266.172,250.738 411.747,250.738 \"/>\n",
       "<path clip-path=\"url(#clip570)\" d=\"M449.853 270.425 Q448.047 275.055 446.334 276.467 Q444.621 277.879 441.751 277.879 L438.348 277.879 L438.348 274.314 L440.848 274.314 Q442.607 274.314 443.579 273.48 Q444.552 272.647 445.732 269.545 L446.496 267.601 L436.01 242.092 L440.524 242.092 L448.626 262.369 L456.727 242.092 L461.241 242.092 L449.853 270.425 Z\" fill=\"#000000\" fill-rule=\"evenodd\" fill-opacity=\"1\" /><path clip-path=\"url(#clip570)\" d=\"M481.889 249.383 Q485.246 250.101 487.121 252.369 Q489.019 254.638 489.019 257.971 Q489.019 263.087 485.5 265.888 Q481.982 268.689 475.501 268.689 Q473.325 268.689 471.01 268.249 Q468.718 267.832 466.264 266.976 L466.264 262.462 Q468.209 263.596 470.524 264.175 Q472.838 264.754 475.362 264.754 Q479.76 264.754 482.051 263.018 Q484.366 261.281 484.366 257.971 Q484.366 254.916 482.213 253.203 Q480.084 251.467 476.264 251.467 L472.237 251.467 L472.237 247.624 L476.45 247.624 Q479.899 247.624 481.727 246.258 Q483.556 244.87 483.556 242.277 Q483.556 239.615 481.658 238.203 Q479.783 236.768 476.264 236.768 Q474.343 236.768 472.144 237.184 Q469.945 237.601 467.306 238.481 L467.306 234.314 Q469.968 233.573 472.283 233.203 Q474.621 232.833 476.681 232.833 Q482.005 232.833 485.107 235.263 Q488.209 237.67 488.209 241.791 Q488.209 244.661 486.565 246.652 Q484.922 248.62 481.889 249.383 Z\" fill=\"#000000\" fill-rule=\"evenodd\" fill-opacity=\"1\" /></svg>\n"
      ]
     },
     "execution_count": 49,
     "metadata": {},
     "output_type": "execute_result"
    }
   ],
   "source": [
    "using Polynomials: Polynomials, fit, coeffs\n",
    "Polynomial([-2,3,1])\n",
    "line_fit = fit(x,y_observed,2)\n",
    "fit_coeff = coeffs(line_fit)\n",
    "y_fitted = fit_coeff[1] .+ (fit_coeff[2] .* (x)) .+ ((fit_coeff[3]) .* (x.^2))\n",
    "scatter(x,y_observed)\n",
    "plot!(x,y_true)\n",
    "plot!(x,y_fitted)\n"
   ]
  },
  {
   "cell_type": "markdown",
   "id": "b3b5a343",
   "metadata": {},
   "source": [
    "### 2.4\n",
    "\n",
    "1. Repeat 2.2 and 2.3 with a noise with a standard deviation of 50"
   ]
  },
  {
   "cell_type": "code",
   "execution_count": 45,
   "id": "b4c08499",
   "metadata": {},
   "outputs": [
    {
     "data": {
      "image/svg+xml": [
       "<?xml version=\"1.0\" encoding=\"utf-8\"?>\n",
       "<svg xmlns=\"http://www.w3.org/2000/svg\" xmlns:xlink=\"http://www.w3.org/1999/xlink\" width=\"600\" height=\"400\" viewBox=\"0 0 2400 1600\">\n",
       "<defs>\n",
       "  <clipPath id=\"clip450\">\n",
       "    <rect x=\"0\" y=\"0\" width=\"2400\" height=\"1600\"/>\n",
       "  </clipPath>\n",
       "</defs>\n",
       "<path clip-path=\"url(#clip450)\" d=\"M0 1600 L2400 1600 L2400 0 L0 0  Z\" fill=\"#ffffff\" fill-rule=\"evenodd\" fill-opacity=\"1\"/>\n",
       "<defs>\n",
       "  <clipPath id=\"clip451\">\n",
       "    <rect x=\"480\" y=\"0\" width=\"1681\" height=\"1600\"/>\n",
       "  </clipPath>\n",
       "</defs>\n",
       "<path clip-path=\"url(#clip450)\" d=\"M209.029 1486.45 L2352.76 1486.45 L2352.76 47.2441 L209.029 47.2441  Z\" fill=\"#ffffff\" fill-rule=\"evenodd\" fill-opacity=\"1\"/>\n",
       "<defs>\n",
       "  <clipPath id=\"clip452\">\n",
       "    <rect x=\"209\" y=\"47\" width=\"2145\" height=\"1440\"/>\n",
       "  </clipPath>\n",
       "</defs>\n",
       "<polyline clip-path=\"url(#clip452)\" style=\"stroke:#000000; stroke-linecap:round; stroke-linejoin:round; stroke-width:2; stroke-opacity:0.1; fill:none\" points=\"269.7,1486.45 269.7,47.2441 \"/>\n",
       "<polyline clip-path=\"url(#clip452)\" style=\"stroke:#000000; stroke-linecap:round; stroke-linejoin:round; stroke-width:2; stroke-opacity:0.1; fill:none\" points=\"775.296,1486.45 775.296,47.2441 \"/>\n",
       "<polyline clip-path=\"url(#clip452)\" style=\"stroke:#000000; stroke-linecap:round; stroke-linejoin:round; stroke-width:2; stroke-opacity:0.1; fill:none\" points=\"1280.89,1486.45 1280.89,47.2441 \"/>\n",
       "<polyline clip-path=\"url(#clip452)\" style=\"stroke:#000000; stroke-linecap:round; stroke-linejoin:round; stroke-width:2; stroke-opacity:0.1; fill:none\" points=\"1786.49,1486.45 1786.49,47.2441 \"/>\n",
       "<polyline clip-path=\"url(#clip452)\" style=\"stroke:#000000; stroke-linecap:round; stroke-linejoin:round; stroke-width:2; stroke-opacity:0.1; fill:none\" points=\"2292.08,1486.45 2292.08,47.2441 \"/>\n",
       "<polyline clip-path=\"url(#clip450)\" style=\"stroke:#000000; stroke-linecap:round; stroke-linejoin:round; stroke-width:4; stroke-opacity:1; fill:none\" points=\"209.029,1486.45 2352.76,1486.45 \"/>\n",
       "<polyline clip-path=\"url(#clip450)\" style=\"stroke:#000000; stroke-linecap:round; stroke-linejoin:round; stroke-width:4; stroke-opacity:1; fill:none\" points=\"269.7,1486.45 269.7,1467.55 \"/>\n",
       "<polyline clip-path=\"url(#clip450)\" style=\"stroke:#000000; stroke-linecap:round; stroke-linejoin:round; stroke-width:4; stroke-opacity:1; fill:none\" points=\"775.296,1486.45 775.296,1467.55 \"/>\n",
       "<polyline clip-path=\"url(#clip450)\" style=\"stroke:#000000; stroke-linecap:round; stroke-linejoin:round; stroke-width:4; stroke-opacity:1; fill:none\" points=\"1280.89,1486.45 1280.89,1467.55 \"/>\n",
       "<polyline clip-path=\"url(#clip450)\" style=\"stroke:#000000; stroke-linecap:round; stroke-linejoin:round; stroke-width:4; stroke-opacity:1; fill:none\" points=\"1786.49,1486.45 1786.49,1467.55 \"/>\n",
       "<polyline clip-path=\"url(#clip450)\" style=\"stroke:#000000; stroke-linecap:round; stroke-linejoin:round; stroke-width:4; stroke-opacity:1; fill:none\" points=\"2292.08,1486.45 2292.08,1467.55 \"/>\n",
       "<path clip-path=\"url(#clip450)\" d=\"M223.763 1532.02 L253.439 1532.02 L253.439 1535.95 L223.763 1535.95 L223.763 1532.02 Z\" fill=\"#000000\" fill-rule=\"evenodd\" fill-opacity=\"1\" /><path clip-path=\"url(#clip450)\" d=\"M264.341 1544.91 L271.98 1544.91 L271.98 1518.55 L263.67 1520.21 L263.67 1515.95 L271.934 1514.29 L276.61 1514.29 L276.61 1544.91 L284.249 1544.91 L284.249 1548.85 L264.341 1548.85 L264.341 1544.91 Z\" fill=\"#000000\" fill-rule=\"evenodd\" fill-opacity=\"1\" /><path clip-path=\"url(#clip450)\" d=\"M303.693 1517.37 Q300.082 1517.37 298.253 1520.93 Q296.448 1524.47 296.448 1531.6 Q296.448 1538.71 298.253 1542.27 Q300.082 1545.82 303.693 1545.82 Q307.327 1545.82 309.133 1542.27 Q310.961 1538.71 310.961 1531.6 Q310.961 1524.47 309.133 1520.93 Q307.327 1517.37 303.693 1517.37 M303.693 1513.66 Q309.503 1513.66 312.559 1518.27 Q315.637 1522.85 315.637 1531.6 Q315.637 1540.33 312.559 1544.94 Q309.503 1549.52 303.693 1549.52 Q297.883 1549.52 294.804 1544.94 Q291.749 1540.33 291.749 1531.6 Q291.749 1522.85 294.804 1518.27 Q297.883 1513.66 303.693 1513.66 Z\" fill=\"#000000\" fill-rule=\"evenodd\" fill-opacity=\"1\" /><path clip-path=\"url(#clip450)\" d=\"M744.937 1532.02 L774.613 1532.02 L774.613 1535.95 L744.937 1535.95 L744.937 1532.02 Z\" fill=\"#000000\" fill-rule=\"evenodd\" fill-opacity=\"1\" /><path clip-path=\"url(#clip450)\" d=\"M784.752 1514.29 L803.108 1514.29 L803.108 1518.22 L789.034 1518.22 L789.034 1526.7 Q790.053 1526.35 791.072 1526.19 Q792.09 1526 793.109 1526 Q798.896 1526 802.275 1529.17 Q805.655 1532.34 805.655 1537.76 Q805.655 1543.34 802.183 1546.44 Q798.71 1549.52 792.391 1549.52 Q790.215 1549.52 787.947 1549.15 Q785.701 1548.78 783.294 1548.04 L783.294 1543.34 Q785.377 1544.47 787.599 1545.03 Q789.822 1545.58 792.298 1545.58 Q796.303 1545.58 798.641 1543.48 Q800.979 1541.37 800.979 1537.76 Q800.979 1534.15 798.641 1532.04 Q796.303 1529.94 792.298 1529.94 Q790.423 1529.94 788.548 1530.35 Q786.697 1530.77 784.752 1531.65 L784.752 1514.29 Z\" fill=\"#000000\" fill-rule=\"evenodd\" fill-opacity=\"1\" /><path clip-path=\"url(#clip450)\" d=\"M1280.89 1517.37 Q1277.28 1517.37 1275.45 1520.93 Q1273.65 1524.47 1273.65 1531.6 Q1273.65 1538.71 1275.45 1542.27 Q1277.28 1545.82 1280.89 1545.82 Q1284.53 1545.82 1286.33 1542.27 Q1288.16 1538.71 1288.16 1531.6 Q1288.16 1524.47 1286.33 1520.93 Q1284.53 1517.37 1280.89 1517.37 M1280.89 1513.66 Q1286.7 1513.66 1289.76 1518.27 Q1292.84 1522.85 1292.84 1531.6 Q1292.84 1540.33 1289.76 1544.94 Q1286.7 1549.52 1280.89 1549.52 Q1275.08 1549.52 1272 1544.94 Q1268.95 1540.33 1268.95 1531.6 Q1268.95 1522.85 1272 1518.27 Q1275.08 1513.66 1280.89 1513.66 Z\" fill=\"#000000\" fill-rule=\"evenodd\" fill-opacity=\"1\" /><path clip-path=\"url(#clip450)\" d=\"M1776.77 1514.29 L1795.12 1514.29 L1795.12 1518.22 L1781.05 1518.22 L1781.05 1526.7 Q1782.07 1526.35 1783.09 1526.19 Q1784.1 1526 1785.12 1526 Q1790.91 1526 1794.29 1529.17 Q1797.67 1532.34 1797.67 1537.76 Q1797.67 1543.34 1794.2 1546.44 Q1790.72 1549.52 1784.4 1549.52 Q1782.23 1549.52 1779.96 1549.15 Q1777.72 1548.78 1775.31 1548.04 L1775.31 1543.34 Q1777.39 1544.47 1779.61 1545.03 Q1781.84 1545.58 1784.31 1545.58 Q1788.32 1545.58 1790.65 1543.48 Q1792.99 1541.37 1792.99 1537.76 Q1792.99 1534.15 1790.65 1532.04 Q1788.32 1529.94 1784.31 1529.94 Q1782.44 1529.94 1780.56 1530.35 Q1778.71 1530.77 1776.77 1531.65 L1776.77 1514.29 Z\" fill=\"#000000\" fill-rule=\"evenodd\" fill-opacity=\"1\" /><path clip-path=\"url(#clip450)\" d=\"M2266.77 1544.91 L2274.41 1544.91 L2274.41 1518.55 L2266.1 1520.21 L2266.1 1515.95 L2274.36 1514.29 L2279.04 1514.29 L2279.04 1544.91 L2286.68 1544.91 L2286.68 1548.85 L2266.77 1548.85 L2266.77 1544.91 Z\" fill=\"#000000\" fill-rule=\"evenodd\" fill-opacity=\"1\" /><path clip-path=\"url(#clip450)\" d=\"M2306.12 1517.37 Q2302.51 1517.37 2300.68 1520.93 Q2298.88 1524.47 2298.88 1531.6 Q2298.88 1538.71 2300.68 1542.27 Q2302.51 1545.82 2306.12 1545.82 Q2309.76 1545.82 2311.56 1542.27 Q2313.39 1538.71 2313.39 1531.6 Q2313.39 1524.47 2311.56 1520.93 Q2309.76 1517.37 2306.12 1517.37 M2306.12 1513.66 Q2311.93 1513.66 2314.99 1518.27 Q2318.07 1522.85 2318.07 1531.6 Q2318.07 1540.33 2314.99 1544.94 Q2311.93 1549.52 2306.12 1549.52 Q2300.31 1549.52 2297.23 1544.94 Q2294.18 1540.33 2294.18 1531.6 Q2294.18 1522.85 2297.23 1518.27 Q2300.31 1513.66 2306.12 1513.66 Z\" fill=\"#000000\" fill-rule=\"evenodd\" fill-opacity=\"1\" /><polyline clip-path=\"url(#clip452)\" style=\"stroke:#000000; stroke-linecap:round; stroke-linejoin:round; stroke-width:2; stroke-opacity:0.1; fill:none\" points=\"209.029,1346.57 2352.76,1346.57 \"/>\n",
       "<polyline clip-path=\"url(#clip452)\" style=\"stroke:#000000; stroke-linecap:round; stroke-linejoin:round; stroke-width:2; stroke-opacity:0.1; fill:none\" points=\"209.029,1125.71 2352.76,1125.71 \"/>\n",
       "<polyline clip-path=\"url(#clip452)\" style=\"stroke:#000000; stroke-linecap:round; stroke-linejoin:round; stroke-width:2; stroke-opacity:0.1; fill:none\" points=\"209.029,904.857 2352.76,904.857 \"/>\n",
       "<polyline clip-path=\"url(#clip452)\" style=\"stroke:#000000; stroke-linecap:round; stroke-linejoin:round; stroke-width:2; stroke-opacity:0.1; fill:none\" points=\"209.029,683.999 2352.76,683.999 \"/>\n",
       "<polyline clip-path=\"url(#clip452)\" style=\"stroke:#000000; stroke-linecap:round; stroke-linejoin:round; stroke-width:2; stroke-opacity:0.1; fill:none\" points=\"209.029,463.141 2352.76,463.141 \"/>\n",
       "<polyline clip-path=\"url(#clip452)\" style=\"stroke:#000000; stroke-linecap:round; stroke-linejoin:round; stroke-width:2; stroke-opacity:0.1; fill:none\" points=\"209.029,242.283 2352.76,242.283 \"/>\n",
       "<polyline clip-path=\"url(#clip450)\" style=\"stroke:#000000; stroke-linecap:round; stroke-linejoin:round; stroke-width:4; stroke-opacity:1; fill:none\" points=\"209.029,1486.45 209.029,47.2441 \"/>\n",
       "<polyline clip-path=\"url(#clip450)\" style=\"stroke:#000000; stroke-linecap:round; stroke-linejoin:round; stroke-width:4; stroke-opacity:1; fill:none\" points=\"209.029,1346.57 227.926,1346.57 \"/>\n",
       "<polyline clip-path=\"url(#clip450)\" style=\"stroke:#000000; stroke-linecap:round; stroke-linejoin:round; stroke-width:4; stroke-opacity:1; fill:none\" points=\"209.029,1125.71 227.926,1125.71 \"/>\n",
       "<polyline clip-path=\"url(#clip450)\" style=\"stroke:#000000; stroke-linecap:round; stroke-linejoin:round; stroke-width:4; stroke-opacity:1; fill:none\" points=\"209.029,904.857 227.926,904.857 \"/>\n",
       "<polyline clip-path=\"url(#clip450)\" style=\"stroke:#000000; stroke-linecap:round; stroke-linejoin:round; stroke-width:4; stroke-opacity:1; fill:none\" points=\"209.029,683.999 227.926,683.999 \"/>\n",
       "<polyline clip-path=\"url(#clip450)\" style=\"stroke:#000000; stroke-linecap:round; stroke-linejoin:round; stroke-width:4; stroke-opacity:1; fill:none\" points=\"209.029,463.141 227.926,463.141 \"/>\n",
       "<polyline clip-path=\"url(#clip450)\" style=\"stroke:#000000; stroke-linecap:round; stroke-linejoin:round; stroke-width:4; stroke-opacity:1; fill:none\" points=\"209.029,242.283 227.926,242.283 \"/>\n",
       "<path clip-path=\"url(#clip450)\" d=\"M50.9921 1347.02 L80.6679 1347.02 L80.6679 1350.96 L50.9921 1350.96 L50.9921 1347.02 Z\" fill=\"#000000\" fill-rule=\"evenodd\" fill-opacity=\"1\" /><path clip-path=\"url(#clip450)\" d=\"M91.5706 1359.92 L99.2095 1359.92 L99.2095 1333.55 L90.8993 1335.22 L90.8993 1330.96 L99.1632 1329.29 L103.839 1329.29 L103.839 1359.92 L111.478 1359.92 L111.478 1363.85 L91.5706 1363.85 L91.5706 1359.92 Z\" fill=\"#000000\" fill-rule=\"evenodd\" fill-opacity=\"1\" /><path clip-path=\"url(#clip450)\" d=\"M130.922 1332.37 Q127.311 1332.37 125.482 1335.94 Q123.677 1339.48 123.677 1346.61 Q123.677 1353.71 125.482 1357.28 Q127.311 1360.82 130.922 1360.82 Q134.556 1360.82 136.362 1357.28 Q138.191 1353.71 138.191 1346.61 Q138.191 1339.48 136.362 1335.94 Q134.556 1332.37 130.922 1332.37 M130.922 1328.67 Q136.732 1328.67 139.788 1333.27 Q142.867 1337.86 142.867 1346.61 Q142.867 1355.33 139.788 1359.94 Q136.732 1364.52 130.922 1364.52 Q125.112 1364.52 122.033 1359.94 Q118.978 1355.33 118.978 1346.61 Q118.978 1337.86 122.033 1333.27 Q125.112 1328.67 130.922 1328.67 Z\" fill=\"#000000\" fill-rule=\"evenodd\" fill-opacity=\"1\" /><path clip-path=\"url(#clip450)\" d=\"M161.084 1332.37 Q157.473 1332.37 155.644 1335.94 Q153.839 1339.48 153.839 1346.61 Q153.839 1353.71 155.644 1357.28 Q157.473 1360.82 161.084 1360.82 Q164.718 1360.82 166.524 1357.28 Q168.353 1353.71 168.353 1346.61 Q168.353 1339.48 166.524 1335.94 Q164.718 1332.37 161.084 1332.37 M161.084 1328.67 Q166.894 1328.67 169.95 1333.27 Q173.029 1337.86 173.029 1346.61 Q173.029 1355.33 169.95 1359.94 Q166.894 1364.52 161.084 1364.52 Q155.274 1364.52 152.195 1359.94 Q149.14 1355.33 149.14 1346.61 Q149.14 1337.86 152.195 1333.27 Q155.274 1328.67 161.084 1328.67 Z\" fill=\"#000000\" fill-rule=\"evenodd\" fill-opacity=\"1\" /><path clip-path=\"url(#clip450)\" d=\"M81.154 1126.17 L110.83 1126.17 L110.83 1130.1 L81.154 1130.1 L81.154 1126.17 Z\" fill=\"#000000\" fill-rule=\"evenodd\" fill-opacity=\"1\" /><path clip-path=\"url(#clip450)\" d=\"M120.969 1108.43 L139.325 1108.43 L139.325 1112.37 L125.251 1112.37 L125.251 1120.84 Q126.27 1120.5 127.288 1120.33 Q128.307 1120.15 129.325 1120.15 Q135.112 1120.15 138.492 1123.32 Q141.871 1126.49 141.871 1131.91 Q141.871 1137.49 138.399 1140.59 Q134.927 1143.67 128.607 1143.67 Q126.432 1143.67 124.163 1143.3 Q121.918 1142.93 119.51 1142.18 L119.51 1137.49 Q121.594 1138.62 123.816 1139.18 Q126.038 1139.73 128.515 1139.73 Q132.519 1139.73 134.857 1137.62 Q137.195 1135.52 137.195 1131.91 Q137.195 1128.3 134.857 1126.19 Q132.519 1124.08 128.515 1124.08 Q126.64 1124.08 124.765 1124.5 Q122.913 1124.92 120.969 1125.8 L120.969 1108.43 Z\" fill=\"#000000\" fill-rule=\"evenodd\" fill-opacity=\"1\" /><path clip-path=\"url(#clip450)\" d=\"M161.084 1111.51 Q157.473 1111.51 155.644 1115.08 Q153.839 1118.62 153.839 1125.75 Q153.839 1132.86 155.644 1136.42 Q157.473 1139.96 161.084 1139.96 Q164.718 1139.96 166.524 1136.42 Q168.353 1132.86 168.353 1125.75 Q168.353 1118.62 166.524 1115.08 Q164.718 1111.51 161.084 1111.51 M161.084 1107.81 Q166.894 1107.81 169.95 1112.42 Q173.029 1117 173.029 1125.75 Q173.029 1134.48 169.95 1139.08 Q166.894 1143.67 161.084 1143.67 Q155.274 1143.67 152.195 1139.08 Q149.14 1134.48 149.14 1125.75 Q149.14 1117 152.195 1112.42 Q155.274 1107.81 161.084 1107.81 Z\" fill=\"#000000\" fill-rule=\"evenodd\" fill-opacity=\"1\" /><path clip-path=\"url(#clip450)\" d=\"M161.084 890.656 Q157.473 890.656 155.644 894.22 Q153.839 897.762 153.839 904.892 Q153.839 911.998 155.644 915.563 Q157.473 919.105 161.084 919.105 Q164.718 919.105 166.524 915.563 Q168.353 911.998 168.353 904.892 Q168.353 897.762 166.524 894.22 Q164.718 890.656 161.084 890.656 M161.084 886.952 Q166.894 886.952 169.95 891.558 Q173.029 896.142 173.029 904.892 Q173.029 913.618 169.95 918.225 Q166.894 922.808 161.084 922.808 Q155.274 922.808 152.195 918.225 Q149.14 913.618 149.14 904.892 Q149.14 896.142 152.195 891.558 Q155.274 886.952 161.084 886.952 Z\" fill=\"#000000\" fill-rule=\"evenodd\" fill-opacity=\"1\" /><path clip-path=\"url(#clip450)\" d=\"M120.969 666.719 L139.325 666.719 L139.325 670.654 L125.251 670.654 L125.251 679.126 Q126.27 678.779 127.288 678.617 Q128.307 678.432 129.325 678.432 Q135.112 678.432 138.492 681.603 Q141.871 684.774 141.871 690.191 Q141.871 695.77 138.399 698.872 Q134.927 701.95 128.607 701.95 Q126.432 701.95 124.163 701.58 Q121.918 701.21 119.51 700.469 L119.51 695.77 Q121.594 696.904 123.816 697.46 Q126.038 698.015 128.515 698.015 Q132.519 698.015 134.857 695.909 Q137.195 693.802 137.195 690.191 Q137.195 686.58 134.857 684.473 Q132.519 682.367 128.515 682.367 Q126.64 682.367 124.765 682.784 Q122.913 683.2 120.969 684.08 L120.969 666.719 Z\" fill=\"#000000\" fill-rule=\"evenodd\" fill-opacity=\"1\" /><path clip-path=\"url(#clip450)\" d=\"M161.084 669.798 Q157.473 669.798 155.644 673.362 Q153.839 676.904 153.839 684.034 Q153.839 691.14 155.644 694.705 Q157.473 698.247 161.084 698.247 Q164.718 698.247 166.524 694.705 Q168.353 691.14 168.353 684.034 Q168.353 676.904 166.524 673.362 Q164.718 669.798 161.084 669.798 M161.084 666.094 Q166.894 666.094 169.95 670.7 Q173.029 675.284 173.029 684.034 Q173.029 692.76 169.95 697.367 Q166.894 701.95 161.084 701.95 Q155.274 701.95 152.195 697.367 Q149.14 692.76 149.14 684.034 Q149.14 675.284 152.195 670.7 Q155.274 666.094 161.084 666.094 Z\" fill=\"#000000\" fill-rule=\"evenodd\" fill-opacity=\"1\" /><path clip-path=\"url(#clip450)\" d=\"M91.5706 476.486 L99.2095 476.486 L99.2095 450.12 L90.8993 451.787 L90.8993 447.528 L99.1632 445.861 L103.839 445.861 L103.839 476.486 L111.478 476.486 L111.478 480.421 L91.5706 480.421 L91.5706 476.486 Z\" fill=\"#000000\" fill-rule=\"evenodd\" fill-opacity=\"1\" /><path clip-path=\"url(#clip450)\" d=\"M130.922 448.94 Q127.311 448.94 125.482 452.504 Q123.677 456.046 123.677 463.176 Q123.677 470.282 125.482 473.847 Q127.311 477.389 130.922 477.389 Q134.556 477.389 136.362 473.847 Q138.191 470.282 138.191 463.176 Q138.191 456.046 136.362 452.504 Q134.556 448.94 130.922 448.94 M130.922 445.236 Q136.732 445.236 139.788 449.842 Q142.867 454.426 142.867 463.176 Q142.867 471.902 139.788 476.509 Q136.732 481.092 130.922 481.092 Q125.112 481.092 122.033 476.509 Q118.978 471.902 118.978 463.176 Q118.978 454.426 122.033 449.842 Q125.112 445.236 130.922 445.236 Z\" fill=\"#000000\" fill-rule=\"evenodd\" fill-opacity=\"1\" /><path clip-path=\"url(#clip450)\" d=\"M161.084 448.94 Q157.473 448.94 155.644 452.504 Q153.839 456.046 153.839 463.176 Q153.839 470.282 155.644 473.847 Q157.473 477.389 161.084 477.389 Q164.718 477.389 166.524 473.847 Q168.353 470.282 168.353 463.176 Q168.353 456.046 166.524 452.504 Q164.718 448.94 161.084 448.94 M161.084 445.236 Q166.894 445.236 169.95 449.842 Q173.029 454.426 173.029 463.176 Q173.029 471.902 169.95 476.509 Q166.894 481.092 161.084 481.092 Q155.274 481.092 152.195 476.509 Q149.14 471.902 149.14 463.176 Q149.14 454.426 152.195 449.842 Q155.274 445.236 161.084 445.236 Z\" fill=\"#000000\" fill-rule=\"evenodd\" fill-opacity=\"1\" /><path clip-path=\"url(#clip450)\" d=\"M91.5706 255.628 L99.2095 255.628 L99.2095 229.262 L90.8993 230.929 L90.8993 226.67 L99.1632 225.003 L103.839 225.003 L103.839 255.628 L111.478 255.628 L111.478 259.563 L91.5706 259.563 L91.5706 255.628 Z\" fill=\"#000000\" fill-rule=\"evenodd\" fill-opacity=\"1\" /><path clip-path=\"url(#clip450)\" d=\"M120.969 225.003 L139.325 225.003 L139.325 228.938 L125.251 228.938 L125.251 237.41 Q126.27 237.063 127.288 236.901 Q128.307 236.716 129.325 236.716 Q135.112 236.716 138.492 239.887 Q141.871 243.058 141.871 248.475 Q141.871 254.054 138.399 257.156 Q134.927 260.234 128.607 260.234 Q126.432 260.234 124.163 259.864 Q121.918 259.494 119.51 258.753 L119.51 254.054 Q121.594 255.188 123.816 255.744 Q126.038 256.299 128.515 256.299 Q132.519 256.299 134.857 254.193 Q137.195 252.086 137.195 248.475 Q137.195 244.864 134.857 242.757 Q132.519 240.651 128.515 240.651 Q126.64 240.651 124.765 241.068 Q122.913 241.484 120.969 242.364 L120.969 225.003 Z\" fill=\"#000000\" fill-rule=\"evenodd\" fill-opacity=\"1\" /><path clip-path=\"url(#clip450)\" d=\"M161.084 228.082 Q157.473 228.082 155.644 231.646 Q153.839 235.188 153.839 242.318 Q153.839 249.424 155.644 252.989 Q157.473 256.531 161.084 256.531 Q164.718 256.531 166.524 252.989 Q168.353 249.424 168.353 242.318 Q168.353 235.188 166.524 231.646 Q164.718 228.082 161.084 228.082 M161.084 224.378 Q166.894 224.378 169.95 228.984 Q173.029 233.568 173.029 242.318 Q173.029 251.044 169.95 255.651 Q166.894 260.234 161.084 260.234 Q155.274 260.234 152.195 255.651 Q149.14 251.044 149.14 242.318 Q149.14 233.568 152.195 228.984 Q155.274 224.378 161.084 224.378 Z\" fill=\"#000000\" fill-rule=\"evenodd\" fill-opacity=\"1\" /><circle clip-path=\"url(#clip452)\" cx=\"269.7\" cy=\"730.364\" r=\"14.4\" fill=\"#009af9\" fill-rule=\"evenodd\" fill-opacity=\"1\" stroke=\"#000000\" stroke-opacity=\"1\" stroke-width=\"3.2\"/>\n",
       "<circle clip-path=\"url(#clip452)\" cx=\"370.819\" cy=\"858.287\" r=\"14.4\" fill=\"#009af9\" fill-rule=\"evenodd\" fill-opacity=\"1\" stroke=\"#000000\" stroke-opacity=\"1\" stroke-width=\"3.2\"/>\n",
       "<circle clip-path=\"url(#clip452)\" cx=\"471.938\" cy=\"274.045\" r=\"14.4\" fill=\"#009af9\" fill-rule=\"evenodd\" fill-opacity=\"1\" stroke=\"#000000\" stroke-opacity=\"1\" stroke-width=\"3.2\"/>\n",
       "<circle clip-path=\"url(#clip452)\" cx=\"573.058\" cy=\"1110.55\" r=\"14.4\" fill=\"#009af9\" fill-rule=\"evenodd\" fill-opacity=\"1\" stroke=\"#000000\" stroke-opacity=\"1\" stroke-width=\"3.2\"/>\n",
       "<circle clip-path=\"url(#clip452)\" cx=\"674.177\" cy=\"919.075\" r=\"14.4\" fill=\"#009af9\" fill-rule=\"evenodd\" fill-opacity=\"1\" stroke=\"#000000\" stroke-opacity=\"1\" stroke-width=\"3.2\"/>\n",
       "<circle clip-path=\"url(#clip452)\" cx=\"775.296\" cy=\"777.961\" r=\"14.4\" fill=\"#009af9\" fill-rule=\"evenodd\" fill-opacity=\"1\" stroke=\"#000000\" stroke-opacity=\"1\" stroke-width=\"3.2\"/>\n",
       "<circle clip-path=\"url(#clip452)\" cx=\"876.415\" cy=\"846.641\" r=\"14.4\" fill=\"#009af9\" fill-rule=\"evenodd\" fill-opacity=\"1\" stroke=\"#000000\" stroke-opacity=\"1\" stroke-width=\"3.2\"/>\n",
       "<circle clip-path=\"url(#clip452)\" cx=\"977.535\" cy=\"1333.32\" r=\"14.4\" fill=\"#009af9\" fill-rule=\"evenodd\" fill-opacity=\"1\" stroke=\"#000000\" stroke-opacity=\"1\" stroke-width=\"3.2\"/>\n",
       "<circle clip-path=\"url(#clip452)\" cx=\"1078.65\" cy=\"813.525\" r=\"14.4\" fill=\"#009af9\" fill-rule=\"evenodd\" fill-opacity=\"1\" stroke=\"#000000\" stroke-opacity=\"1\" stroke-width=\"3.2\"/>\n",
       "<circle clip-path=\"url(#clip452)\" cx=\"1179.77\" cy=\"1369.45\" r=\"14.4\" fill=\"#009af9\" fill-rule=\"evenodd\" fill-opacity=\"1\" stroke=\"#000000\" stroke-opacity=\"1\" stroke-width=\"3.2\"/>\n",
       "<circle clip-path=\"url(#clip452)\" cx=\"1280.89\" cy=\"1445.72\" r=\"14.4\" fill=\"#009af9\" fill-rule=\"evenodd\" fill-opacity=\"1\" stroke=\"#000000\" stroke-opacity=\"1\" stroke-width=\"3.2\"/>\n",
       "<circle clip-path=\"url(#clip452)\" cx=\"1382.01\" cy=\"477.099\" r=\"14.4\" fill=\"#009af9\" fill-rule=\"evenodd\" fill-opacity=\"1\" stroke=\"#000000\" stroke-opacity=\"1\" stroke-width=\"3.2\"/>\n",
       "<circle clip-path=\"url(#clip452)\" cx=\"1483.13\" cy=\"1128.21\" r=\"14.4\" fill=\"#009af9\" fill-rule=\"evenodd\" fill-opacity=\"1\" stroke=\"#000000\" stroke-opacity=\"1\" stroke-width=\"3.2\"/>\n",
       "<circle clip-path=\"url(#clip452)\" cx=\"1584.25\" cy=\"1190.68\" r=\"14.4\" fill=\"#009af9\" fill-rule=\"evenodd\" fill-opacity=\"1\" stroke=\"#000000\" stroke-opacity=\"1\" stroke-width=\"3.2\"/>\n",
       "<circle clip-path=\"url(#clip452)\" cx=\"1685.37\" cy=\"693.103\" r=\"14.4\" fill=\"#009af9\" fill-rule=\"evenodd\" fill-opacity=\"1\" stroke=\"#000000\" stroke-opacity=\"1\" stroke-width=\"3.2\"/>\n",
       "<circle clip-path=\"url(#clip452)\" cx=\"1786.49\" cy=\"733.326\" r=\"14.4\" fill=\"#009af9\" fill-rule=\"evenodd\" fill-opacity=\"1\" stroke=\"#000000\" stroke-opacity=\"1\" stroke-width=\"3.2\"/>\n",
       "<circle clip-path=\"url(#clip452)\" cx=\"1887.61\" cy=\"876.945\" r=\"14.4\" fill=\"#009af9\" fill-rule=\"evenodd\" fill-opacity=\"1\" stroke=\"#000000\" stroke-opacity=\"1\" stroke-width=\"3.2\"/>\n",
       "<circle clip-path=\"url(#clip452)\" cx=\"1988.73\" cy=\"577.269\" r=\"14.4\" fill=\"#009af9\" fill-rule=\"evenodd\" fill-opacity=\"1\" stroke=\"#000000\" stroke-opacity=\"1\" stroke-width=\"3.2\"/>\n",
       "<circle clip-path=\"url(#clip452)\" cx=\"2089.85\" cy=\"454.842\" r=\"14.4\" fill=\"#009af9\" fill-rule=\"evenodd\" fill-opacity=\"1\" stroke=\"#000000\" stroke-opacity=\"1\" stroke-width=\"3.2\"/>\n",
       "<circle clip-path=\"url(#clip452)\" cx=\"2190.97\" cy=\"87.9763\" r=\"14.4\" fill=\"#009af9\" fill-rule=\"evenodd\" fill-opacity=\"1\" stroke=\"#000000\" stroke-opacity=\"1\" stroke-width=\"3.2\"/>\n",
       "<circle clip-path=\"url(#clip452)\" cx=\"2292.08\" cy=\"702.532\" r=\"14.4\" fill=\"#009af9\" fill-rule=\"evenodd\" fill-opacity=\"1\" stroke=\"#000000\" stroke-opacity=\"1\" stroke-width=\"3.2\"/>\n",
       "<polyline clip-path=\"url(#clip452)\" style=\"stroke:#e26f46; stroke-linecap:round; stroke-linejoin:round; stroke-width:4; stroke-opacity:1; fill:none\" points=\"269.7,604.49 370.819,675.165 471.938,737.005 573.058,790.011 674.177,834.182 775.296,869.52 876.415,896.023 977.535,913.691 1078.65,922.526 1179.77,922.526 1280.89,913.691 1382.01,896.023 1483.13,869.52 1584.25,834.182 1685.37,790.011 1786.49,737.005 1887.61,675.165 1988.73,604.49 2089.85,524.981 2190.97,436.638 2292.08,339.46 \"/>\n",
       "<path clip-path=\"url(#clip450)\" d=\"M2014.5 1438.47 L2281.3 1438.47 L2281.3 1282.95 L2014.5 1282.95  Z\" fill=\"#ffffff\" fill-rule=\"evenodd\" fill-opacity=\"1\"/>\n",
       "<polyline clip-path=\"url(#clip450)\" style=\"stroke:#000000; stroke-linecap:round; stroke-linejoin:round; stroke-width:4; stroke-opacity:1; fill:none\" points=\"2014.5,1438.47 2281.3,1438.47 2281.3,1282.95 2014.5,1282.95 2014.5,1438.47 \"/>\n",
       "<circle clip-path=\"url(#clip450)\" cx=\"2109.77\" cy=\"1334.79\" r=\"23.04\" fill=\"#009af9\" fill-rule=\"evenodd\" fill-opacity=\"1\" stroke=\"#000000\" stroke-opacity=\"1\" stroke-width=\"5.12\"/>\n",
       "<path clip-path=\"url(#clip450)\" d=\"M2218.89 1354.48 Q2217.09 1359.11 2215.37 1360.52 Q2213.66 1361.94 2210.79 1361.94 L2207.39 1361.94 L2207.39 1358.37 L2209.89 1358.37 Q2211.65 1358.37 2212.62 1357.54 Q2213.59 1356.7 2214.77 1353.6 L2215.53 1351.66 L2205.05 1326.15 L2209.56 1326.15 L2217.66 1346.43 L2225.77 1326.15 L2230.28 1326.15 L2218.89 1354.48 Z\" fill=\"#000000\" fill-rule=\"evenodd\" fill-opacity=\"1\" /><path clip-path=\"url(#clip450)\" d=\"M2237.57 1348.14 L2245.21 1348.14 L2245.21 1321.77 L2236.9 1323.44 L2236.9 1319.18 L2245.16 1317.51 L2249.84 1317.51 L2249.84 1348.14 L2257.48 1348.14 L2257.48 1352.07 L2237.57 1352.07 L2237.57 1348.14 Z\" fill=\"#000000\" fill-rule=\"evenodd\" fill-opacity=\"1\" /><polyline clip-path=\"url(#clip450)\" style=\"stroke:#e26f46; stroke-linecap:round; stroke-linejoin:round; stroke-width:4; stroke-opacity:1; fill:none\" points=\"2038.31,1386.63 2181.23,1386.63 \"/>\n",
       "<path clip-path=\"url(#clip450)\" d=\"M2218.89 1406.32 Q2217.09 1410.95 2215.37 1412.36 Q2213.66 1413.78 2210.79 1413.78 L2207.39 1413.78 L2207.39 1410.21 L2209.89 1410.21 Q2211.65 1410.21 2212.62 1409.38 Q2213.59 1408.54 2214.77 1405.44 L2215.53 1403.5 L2205.05 1377.99 L2209.56 1377.99 L2217.66 1398.27 L2225.77 1377.99 L2230.28 1377.99 L2218.89 1406.32 Z\" fill=\"#000000\" fill-rule=\"evenodd\" fill-opacity=\"1\" /><path clip-path=\"url(#clip450)\" d=\"M2240.79 1399.98 L2257.11 1399.98 L2257.11 1403.91 L2235.16 1403.91 L2235.16 1399.98 Q2237.83 1397.22 2242.41 1392.6 Q2247.02 1387.94 2248.2 1386.6 Q2250.44 1384.08 2251.32 1382.34 Q2252.22 1380.58 2252.22 1378.89 Q2252.22 1376.14 2250.28 1374.4 Q2248.36 1372.66 2245.26 1372.66 Q2243.06 1372.66 2240.6 1373.43 Q2238.17 1374.19 2235.4 1375.74 L2235.4 1371.02 Q2238.22 1369.89 2240.67 1369.31 Q2243.13 1368.73 2245.16 1368.73 Q2250.53 1368.73 2253.73 1371.41 Q2256.92 1374.1 2256.92 1378.59 Q2256.92 1380.72 2256.11 1382.64 Q2255.33 1384.54 2253.22 1387.13 Q2252.64 1387.8 2249.54 1391.02 Q2246.44 1394.22 2240.79 1399.98 Z\" fill=\"#000000\" fill-rule=\"evenodd\" fill-opacity=\"1\" /></svg>\n"
      ]
     },
     "execution_count": 45,
     "metadata": {},
     "output_type": "execute_result"
    }
   ],
   "source": [
    "x_2 = -10:10\n",
    "collect(x_2)\n",
    "dataerr = 50\n",
    "noise = di.Normal(0,dataerr)\n",
    "y_observed2 = y_true + rand(noise, length(x_2))\n",
    "scatter(x_2,y_observed2)\n",
    "plot!(x_2,y_true)"
   ]
  },
  {
   "cell_type": "code",
   "execution_count": 47,
   "id": "f3b26243-109a-4825-9cc8-2116bd46eb1c",
   "metadata": {},
   "outputs": [
    {
     "data": {
      "image/svg+xml": [
       "<?xml version=\"1.0\" encoding=\"utf-8\"?>\n",
       "<svg xmlns=\"http://www.w3.org/2000/svg\" xmlns:xlink=\"http://www.w3.org/1999/xlink\" width=\"600\" height=\"400\" viewBox=\"0 0 2400 1600\">\n",
       "<defs>\n",
       "  <clipPath id=\"clip490\">\n",
       "    <rect x=\"0\" y=\"0\" width=\"2400\" height=\"1600\"/>\n",
       "  </clipPath>\n",
       "</defs>\n",
       "<path clip-path=\"url(#clip490)\" d=\"M0 1600 L2400 1600 L2400 0 L0 0  Z\" fill=\"#ffffff\" fill-rule=\"evenodd\" fill-opacity=\"1\"/>\n",
       "<defs>\n",
       "  <clipPath id=\"clip491\">\n",
       "    <rect x=\"480\" y=\"0\" width=\"1681\" height=\"1600\"/>\n",
       "  </clipPath>\n",
       "</defs>\n",
       "<path clip-path=\"url(#clip490)\" d=\"M209.029 1486.45 L2352.76 1486.45 L2352.76 47.2441 L209.029 47.2441  Z\" fill=\"#ffffff\" fill-rule=\"evenodd\" fill-opacity=\"1\"/>\n",
       "<defs>\n",
       "  <clipPath id=\"clip492\">\n",
       "    <rect x=\"209\" y=\"47\" width=\"2145\" height=\"1440\"/>\n",
       "  </clipPath>\n",
       "</defs>\n",
       "<polyline clip-path=\"url(#clip492)\" style=\"stroke:#000000; stroke-linecap:round; stroke-linejoin:round; stroke-width:2; stroke-opacity:0.1; fill:none\" points=\"269.7,1486.45 269.7,47.2441 \"/>\n",
       "<polyline clip-path=\"url(#clip492)\" style=\"stroke:#000000; stroke-linecap:round; stroke-linejoin:round; stroke-width:2; stroke-opacity:0.1; fill:none\" points=\"775.296,1486.45 775.296,47.2441 \"/>\n",
       "<polyline clip-path=\"url(#clip492)\" style=\"stroke:#000000; stroke-linecap:round; stroke-linejoin:round; stroke-width:2; stroke-opacity:0.1; fill:none\" points=\"1280.89,1486.45 1280.89,47.2441 \"/>\n",
       "<polyline clip-path=\"url(#clip492)\" style=\"stroke:#000000; stroke-linecap:round; stroke-linejoin:round; stroke-width:2; stroke-opacity:0.1; fill:none\" points=\"1786.49,1486.45 1786.49,47.2441 \"/>\n",
       "<polyline clip-path=\"url(#clip492)\" style=\"stroke:#000000; stroke-linecap:round; stroke-linejoin:round; stroke-width:2; stroke-opacity:0.1; fill:none\" points=\"2292.08,1486.45 2292.08,47.2441 \"/>\n",
       "<polyline clip-path=\"url(#clip490)\" style=\"stroke:#000000; stroke-linecap:round; stroke-linejoin:round; stroke-width:4; stroke-opacity:1; fill:none\" points=\"209.029,1486.45 2352.76,1486.45 \"/>\n",
       "<polyline clip-path=\"url(#clip490)\" style=\"stroke:#000000; stroke-linecap:round; stroke-linejoin:round; stroke-width:4; stroke-opacity:1; fill:none\" points=\"269.7,1486.45 269.7,1467.55 \"/>\n",
       "<polyline clip-path=\"url(#clip490)\" style=\"stroke:#000000; stroke-linecap:round; stroke-linejoin:round; stroke-width:4; stroke-opacity:1; fill:none\" points=\"775.296,1486.45 775.296,1467.55 \"/>\n",
       "<polyline clip-path=\"url(#clip490)\" style=\"stroke:#000000; stroke-linecap:round; stroke-linejoin:round; stroke-width:4; stroke-opacity:1; fill:none\" points=\"1280.89,1486.45 1280.89,1467.55 \"/>\n",
       "<polyline clip-path=\"url(#clip490)\" style=\"stroke:#000000; stroke-linecap:round; stroke-linejoin:round; stroke-width:4; stroke-opacity:1; fill:none\" points=\"1786.49,1486.45 1786.49,1467.55 \"/>\n",
       "<polyline clip-path=\"url(#clip490)\" style=\"stroke:#000000; stroke-linecap:round; stroke-linejoin:round; stroke-width:4; stroke-opacity:1; fill:none\" points=\"2292.08,1486.45 2292.08,1467.55 \"/>\n",
       "<path clip-path=\"url(#clip490)\" d=\"M223.763 1532.02 L253.439 1532.02 L253.439 1535.95 L223.763 1535.95 L223.763 1532.02 Z\" fill=\"#000000\" fill-rule=\"evenodd\" fill-opacity=\"1\" /><path clip-path=\"url(#clip490)\" d=\"M264.341 1544.91 L271.98 1544.91 L271.98 1518.55 L263.67 1520.21 L263.67 1515.95 L271.934 1514.29 L276.61 1514.29 L276.61 1544.91 L284.249 1544.91 L284.249 1548.85 L264.341 1548.85 L264.341 1544.91 Z\" fill=\"#000000\" fill-rule=\"evenodd\" fill-opacity=\"1\" /><path clip-path=\"url(#clip490)\" d=\"M303.693 1517.37 Q300.082 1517.37 298.253 1520.93 Q296.448 1524.47 296.448 1531.6 Q296.448 1538.71 298.253 1542.27 Q300.082 1545.82 303.693 1545.82 Q307.327 1545.82 309.133 1542.27 Q310.961 1538.71 310.961 1531.6 Q310.961 1524.47 309.133 1520.93 Q307.327 1517.37 303.693 1517.37 M303.693 1513.66 Q309.503 1513.66 312.559 1518.27 Q315.637 1522.85 315.637 1531.6 Q315.637 1540.33 312.559 1544.94 Q309.503 1549.52 303.693 1549.52 Q297.883 1549.52 294.804 1544.94 Q291.749 1540.33 291.749 1531.6 Q291.749 1522.85 294.804 1518.27 Q297.883 1513.66 303.693 1513.66 Z\" fill=\"#000000\" fill-rule=\"evenodd\" fill-opacity=\"1\" /><path clip-path=\"url(#clip490)\" d=\"M744.937 1532.02 L774.613 1532.02 L774.613 1535.95 L744.937 1535.95 L744.937 1532.02 Z\" fill=\"#000000\" fill-rule=\"evenodd\" fill-opacity=\"1\" /><path clip-path=\"url(#clip490)\" d=\"M784.752 1514.29 L803.108 1514.29 L803.108 1518.22 L789.034 1518.22 L789.034 1526.7 Q790.053 1526.35 791.072 1526.19 Q792.09 1526 793.109 1526 Q798.896 1526 802.275 1529.17 Q805.655 1532.34 805.655 1537.76 Q805.655 1543.34 802.183 1546.44 Q798.71 1549.52 792.391 1549.52 Q790.215 1549.52 787.947 1549.15 Q785.701 1548.78 783.294 1548.04 L783.294 1543.34 Q785.377 1544.47 787.599 1545.03 Q789.822 1545.58 792.298 1545.58 Q796.303 1545.58 798.641 1543.48 Q800.979 1541.37 800.979 1537.76 Q800.979 1534.15 798.641 1532.04 Q796.303 1529.94 792.298 1529.94 Q790.423 1529.94 788.548 1530.35 Q786.697 1530.77 784.752 1531.65 L784.752 1514.29 Z\" fill=\"#000000\" fill-rule=\"evenodd\" fill-opacity=\"1\" /><path clip-path=\"url(#clip490)\" d=\"M1280.89 1517.37 Q1277.28 1517.37 1275.45 1520.93 Q1273.65 1524.47 1273.65 1531.6 Q1273.65 1538.71 1275.45 1542.27 Q1277.28 1545.82 1280.89 1545.82 Q1284.53 1545.82 1286.33 1542.27 Q1288.16 1538.71 1288.16 1531.6 Q1288.16 1524.47 1286.33 1520.93 Q1284.53 1517.37 1280.89 1517.37 M1280.89 1513.66 Q1286.7 1513.66 1289.76 1518.27 Q1292.84 1522.85 1292.84 1531.6 Q1292.84 1540.33 1289.76 1544.94 Q1286.7 1549.52 1280.89 1549.52 Q1275.08 1549.52 1272 1544.94 Q1268.95 1540.33 1268.95 1531.6 Q1268.95 1522.85 1272 1518.27 Q1275.08 1513.66 1280.89 1513.66 Z\" fill=\"#000000\" fill-rule=\"evenodd\" fill-opacity=\"1\" /><path clip-path=\"url(#clip490)\" d=\"M1776.77 1514.29 L1795.12 1514.29 L1795.12 1518.22 L1781.05 1518.22 L1781.05 1526.7 Q1782.07 1526.35 1783.09 1526.19 Q1784.1 1526 1785.12 1526 Q1790.91 1526 1794.29 1529.17 Q1797.67 1532.34 1797.67 1537.76 Q1797.67 1543.34 1794.2 1546.44 Q1790.72 1549.52 1784.4 1549.52 Q1782.23 1549.52 1779.96 1549.15 Q1777.72 1548.78 1775.31 1548.04 L1775.31 1543.34 Q1777.39 1544.47 1779.61 1545.03 Q1781.84 1545.58 1784.31 1545.58 Q1788.32 1545.58 1790.65 1543.48 Q1792.99 1541.37 1792.99 1537.76 Q1792.99 1534.15 1790.65 1532.04 Q1788.32 1529.94 1784.31 1529.94 Q1782.44 1529.94 1780.56 1530.35 Q1778.71 1530.77 1776.77 1531.65 L1776.77 1514.29 Z\" fill=\"#000000\" fill-rule=\"evenodd\" fill-opacity=\"1\" /><path clip-path=\"url(#clip490)\" d=\"M2266.77 1544.91 L2274.41 1544.91 L2274.41 1518.55 L2266.1 1520.21 L2266.1 1515.95 L2274.36 1514.29 L2279.04 1514.29 L2279.04 1544.91 L2286.68 1544.91 L2286.68 1548.85 L2266.77 1548.85 L2266.77 1544.91 Z\" fill=\"#000000\" fill-rule=\"evenodd\" fill-opacity=\"1\" /><path clip-path=\"url(#clip490)\" d=\"M2306.12 1517.37 Q2302.51 1517.37 2300.68 1520.93 Q2298.88 1524.47 2298.88 1531.6 Q2298.88 1538.71 2300.68 1542.27 Q2302.51 1545.82 2306.12 1545.82 Q2309.76 1545.82 2311.56 1542.27 Q2313.39 1538.71 2313.39 1531.6 Q2313.39 1524.47 2311.56 1520.93 Q2309.76 1517.37 2306.12 1517.37 M2306.12 1513.66 Q2311.93 1513.66 2314.99 1518.27 Q2318.07 1522.85 2318.07 1531.6 Q2318.07 1540.33 2314.99 1544.94 Q2311.93 1549.52 2306.12 1549.52 Q2300.31 1549.52 2297.23 1544.94 Q2294.18 1540.33 2294.18 1531.6 Q2294.18 1522.85 2297.23 1518.27 Q2300.31 1513.66 2306.12 1513.66 Z\" fill=\"#000000\" fill-rule=\"evenodd\" fill-opacity=\"1\" /><polyline clip-path=\"url(#clip492)\" style=\"stroke:#000000; stroke-linecap:round; stroke-linejoin:round; stroke-width:2; stroke-opacity:0.1; fill:none\" points=\"209.029,1346.57 2352.76,1346.57 \"/>\n",
       "<polyline clip-path=\"url(#clip492)\" style=\"stroke:#000000; stroke-linecap:round; stroke-linejoin:round; stroke-width:2; stroke-opacity:0.1; fill:none\" points=\"209.029,1125.71 2352.76,1125.71 \"/>\n",
       "<polyline clip-path=\"url(#clip492)\" style=\"stroke:#000000; stroke-linecap:round; stroke-linejoin:round; stroke-width:2; stroke-opacity:0.1; fill:none\" points=\"209.029,904.857 2352.76,904.857 \"/>\n",
       "<polyline clip-path=\"url(#clip492)\" style=\"stroke:#000000; stroke-linecap:round; stroke-linejoin:round; stroke-width:2; stroke-opacity:0.1; fill:none\" points=\"209.029,683.999 2352.76,683.999 \"/>\n",
       "<polyline clip-path=\"url(#clip492)\" style=\"stroke:#000000; stroke-linecap:round; stroke-linejoin:round; stroke-width:2; stroke-opacity:0.1; fill:none\" points=\"209.029,463.141 2352.76,463.141 \"/>\n",
       "<polyline clip-path=\"url(#clip492)\" style=\"stroke:#000000; stroke-linecap:round; stroke-linejoin:round; stroke-width:2; stroke-opacity:0.1; fill:none\" points=\"209.029,242.283 2352.76,242.283 \"/>\n",
       "<polyline clip-path=\"url(#clip490)\" style=\"stroke:#000000; stroke-linecap:round; stroke-linejoin:round; stroke-width:4; stroke-opacity:1; fill:none\" points=\"209.029,1486.45 209.029,47.2441 \"/>\n",
       "<polyline clip-path=\"url(#clip490)\" style=\"stroke:#000000; stroke-linecap:round; stroke-linejoin:round; stroke-width:4; stroke-opacity:1; fill:none\" points=\"209.029,1346.57 227.926,1346.57 \"/>\n",
       "<polyline clip-path=\"url(#clip490)\" style=\"stroke:#000000; stroke-linecap:round; stroke-linejoin:round; stroke-width:4; stroke-opacity:1; fill:none\" points=\"209.029,1125.71 227.926,1125.71 \"/>\n",
       "<polyline clip-path=\"url(#clip490)\" style=\"stroke:#000000; stroke-linecap:round; stroke-linejoin:round; stroke-width:4; stroke-opacity:1; fill:none\" points=\"209.029,904.857 227.926,904.857 \"/>\n",
       "<polyline clip-path=\"url(#clip490)\" style=\"stroke:#000000; stroke-linecap:round; stroke-linejoin:round; stroke-width:4; stroke-opacity:1; fill:none\" points=\"209.029,683.999 227.926,683.999 \"/>\n",
       "<polyline clip-path=\"url(#clip490)\" style=\"stroke:#000000; stroke-linecap:round; stroke-linejoin:round; stroke-width:4; stroke-opacity:1; fill:none\" points=\"209.029,463.141 227.926,463.141 \"/>\n",
       "<polyline clip-path=\"url(#clip490)\" style=\"stroke:#000000; stroke-linecap:round; stroke-linejoin:round; stroke-width:4; stroke-opacity:1; fill:none\" points=\"209.029,242.283 227.926,242.283 \"/>\n",
       "<path clip-path=\"url(#clip490)\" d=\"M50.9921 1347.02 L80.6679 1347.02 L80.6679 1350.96 L50.9921 1350.96 L50.9921 1347.02 Z\" fill=\"#000000\" fill-rule=\"evenodd\" fill-opacity=\"1\" /><path clip-path=\"url(#clip490)\" d=\"M91.5706 1359.92 L99.2095 1359.92 L99.2095 1333.55 L90.8993 1335.22 L90.8993 1330.96 L99.1632 1329.29 L103.839 1329.29 L103.839 1359.92 L111.478 1359.92 L111.478 1363.85 L91.5706 1363.85 L91.5706 1359.92 Z\" fill=\"#000000\" fill-rule=\"evenodd\" fill-opacity=\"1\" /><path clip-path=\"url(#clip490)\" d=\"M130.922 1332.37 Q127.311 1332.37 125.482 1335.94 Q123.677 1339.48 123.677 1346.61 Q123.677 1353.71 125.482 1357.28 Q127.311 1360.82 130.922 1360.82 Q134.556 1360.82 136.362 1357.28 Q138.191 1353.71 138.191 1346.61 Q138.191 1339.48 136.362 1335.94 Q134.556 1332.37 130.922 1332.37 M130.922 1328.67 Q136.732 1328.67 139.788 1333.27 Q142.867 1337.86 142.867 1346.61 Q142.867 1355.33 139.788 1359.94 Q136.732 1364.52 130.922 1364.52 Q125.112 1364.52 122.033 1359.94 Q118.978 1355.33 118.978 1346.61 Q118.978 1337.86 122.033 1333.27 Q125.112 1328.67 130.922 1328.67 Z\" fill=\"#000000\" fill-rule=\"evenodd\" fill-opacity=\"1\" /><path clip-path=\"url(#clip490)\" d=\"M161.084 1332.37 Q157.473 1332.37 155.644 1335.94 Q153.839 1339.48 153.839 1346.61 Q153.839 1353.71 155.644 1357.28 Q157.473 1360.82 161.084 1360.82 Q164.718 1360.82 166.524 1357.28 Q168.353 1353.71 168.353 1346.61 Q168.353 1339.48 166.524 1335.94 Q164.718 1332.37 161.084 1332.37 M161.084 1328.67 Q166.894 1328.67 169.95 1333.27 Q173.029 1337.86 173.029 1346.61 Q173.029 1355.33 169.95 1359.94 Q166.894 1364.52 161.084 1364.52 Q155.274 1364.52 152.195 1359.94 Q149.14 1355.33 149.14 1346.61 Q149.14 1337.86 152.195 1333.27 Q155.274 1328.67 161.084 1328.67 Z\" fill=\"#000000\" fill-rule=\"evenodd\" fill-opacity=\"1\" /><path clip-path=\"url(#clip490)\" d=\"M81.154 1126.17 L110.83 1126.17 L110.83 1130.1 L81.154 1130.1 L81.154 1126.17 Z\" fill=\"#000000\" fill-rule=\"evenodd\" fill-opacity=\"1\" /><path clip-path=\"url(#clip490)\" d=\"M120.969 1108.43 L139.325 1108.43 L139.325 1112.37 L125.251 1112.37 L125.251 1120.84 Q126.27 1120.5 127.288 1120.33 Q128.307 1120.15 129.325 1120.15 Q135.112 1120.15 138.492 1123.32 Q141.871 1126.49 141.871 1131.91 Q141.871 1137.49 138.399 1140.59 Q134.927 1143.67 128.607 1143.67 Q126.432 1143.67 124.163 1143.3 Q121.918 1142.93 119.51 1142.18 L119.51 1137.49 Q121.594 1138.62 123.816 1139.18 Q126.038 1139.73 128.515 1139.73 Q132.519 1139.73 134.857 1137.62 Q137.195 1135.52 137.195 1131.91 Q137.195 1128.3 134.857 1126.19 Q132.519 1124.08 128.515 1124.08 Q126.64 1124.08 124.765 1124.5 Q122.913 1124.92 120.969 1125.8 L120.969 1108.43 Z\" fill=\"#000000\" fill-rule=\"evenodd\" fill-opacity=\"1\" /><path clip-path=\"url(#clip490)\" d=\"M161.084 1111.51 Q157.473 1111.51 155.644 1115.08 Q153.839 1118.62 153.839 1125.75 Q153.839 1132.86 155.644 1136.42 Q157.473 1139.96 161.084 1139.96 Q164.718 1139.96 166.524 1136.42 Q168.353 1132.86 168.353 1125.75 Q168.353 1118.62 166.524 1115.08 Q164.718 1111.51 161.084 1111.51 M161.084 1107.81 Q166.894 1107.81 169.95 1112.42 Q173.029 1117 173.029 1125.75 Q173.029 1134.48 169.95 1139.08 Q166.894 1143.67 161.084 1143.67 Q155.274 1143.67 152.195 1139.08 Q149.14 1134.48 149.14 1125.75 Q149.14 1117 152.195 1112.42 Q155.274 1107.81 161.084 1107.81 Z\" fill=\"#000000\" fill-rule=\"evenodd\" fill-opacity=\"1\" /><path clip-path=\"url(#clip490)\" d=\"M161.084 890.656 Q157.473 890.656 155.644 894.22 Q153.839 897.762 153.839 904.892 Q153.839 911.998 155.644 915.563 Q157.473 919.105 161.084 919.105 Q164.718 919.105 166.524 915.563 Q168.353 911.998 168.353 904.892 Q168.353 897.762 166.524 894.22 Q164.718 890.656 161.084 890.656 M161.084 886.952 Q166.894 886.952 169.95 891.558 Q173.029 896.142 173.029 904.892 Q173.029 913.618 169.95 918.225 Q166.894 922.808 161.084 922.808 Q155.274 922.808 152.195 918.225 Q149.14 913.618 149.14 904.892 Q149.14 896.142 152.195 891.558 Q155.274 886.952 161.084 886.952 Z\" fill=\"#000000\" fill-rule=\"evenodd\" fill-opacity=\"1\" /><path clip-path=\"url(#clip490)\" d=\"M120.969 666.719 L139.325 666.719 L139.325 670.654 L125.251 670.654 L125.251 679.126 Q126.27 678.779 127.288 678.617 Q128.307 678.432 129.325 678.432 Q135.112 678.432 138.492 681.603 Q141.871 684.774 141.871 690.191 Q141.871 695.77 138.399 698.872 Q134.927 701.95 128.607 701.95 Q126.432 701.95 124.163 701.58 Q121.918 701.21 119.51 700.469 L119.51 695.77 Q121.594 696.904 123.816 697.46 Q126.038 698.015 128.515 698.015 Q132.519 698.015 134.857 695.909 Q137.195 693.802 137.195 690.191 Q137.195 686.58 134.857 684.473 Q132.519 682.367 128.515 682.367 Q126.64 682.367 124.765 682.784 Q122.913 683.2 120.969 684.08 L120.969 666.719 Z\" fill=\"#000000\" fill-rule=\"evenodd\" fill-opacity=\"1\" /><path clip-path=\"url(#clip490)\" d=\"M161.084 669.798 Q157.473 669.798 155.644 673.362 Q153.839 676.904 153.839 684.034 Q153.839 691.14 155.644 694.705 Q157.473 698.247 161.084 698.247 Q164.718 698.247 166.524 694.705 Q168.353 691.14 168.353 684.034 Q168.353 676.904 166.524 673.362 Q164.718 669.798 161.084 669.798 M161.084 666.094 Q166.894 666.094 169.95 670.7 Q173.029 675.284 173.029 684.034 Q173.029 692.76 169.95 697.367 Q166.894 701.95 161.084 701.95 Q155.274 701.95 152.195 697.367 Q149.14 692.76 149.14 684.034 Q149.14 675.284 152.195 670.7 Q155.274 666.094 161.084 666.094 Z\" fill=\"#000000\" fill-rule=\"evenodd\" fill-opacity=\"1\" /><path clip-path=\"url(#clip490)\" d=\"M91.5706 476.486 L99.2095 476.486 L99.2095 450.12 L90.8993 451.787 L90.8993 447.528 L99.1632 445.861 L103.839 445.861 L103.839 476.486 L111.478 476.486 L111.478 480.421 L91.5706 480.421 L91.5706 476.486 Z\" fill=\"#000000\" fill-rule=\"evenodd\" fill-opacity=\"1\" /><path clip-path=\"url(#clip490)\" d=\"M130.922 448.94 Q127.311 448.94 125.482 452.504 Q123.677 456.046 123.677 463.176 Q123.677 470.282 125.482 473.847 Q127.311 477.389 130.922 477.389 Q134.556 477.389 136.362 473.847 Q138.191 470.282 138.191 463.176 Q138.191 456.046 136.362 452.504 Q134.556 448.94 130.922 448.94 M130.922 445.236 Q136.732 445.236 139.788 449.842 Q142.867 454.426 142.867 463.176 Q142.867 471.902 139.788 476.509 Q136.732 481.092 130.922 481.092 Q125.112 481.092 122.033 476.509 Q118.978 471.902 118.978 463.176 Q118.978 454.426 122.033 449.842 Q125.112 445.236 130.922 445.236 Z\" fill=\"#000000\" fill-rule=\"evenodd\" fill-opacity=\"1\" /><path clip-path=\"url(#clip490)\" d=\"M161.084 448.94 Q157.473 448.94 155.644 452.504 Q153.839 456.046 153.839 463.176 Q153.839 470.282 155.644 473.847 Q157.473 477.389 161.084 477.389 Q164.718 477.389 166.524 473.847 Q168.353 470.282 168.353 463.176 Q168.353 456.046 166.524 452.504 Q164.718 448.94 161.084 448.94 M161.084 445.236 Q166.894 445.236 169.95 449.842 Q173.029 454.426 173.029 463.176 Q173.029 471.902 169.95 476.509 Q166.894 481.092 161.084 481.092 Q155.274 481.092 152.195 476.509 Q149.14 471.902 149.14 463.176 Q149.14 454.426 152.195 449.842 Q155.274 445.236 161.084 445.236 Z\" fill=\"#000000\" fill-rule=\"evenodd\" fill-opacity=\"1\" /><path clip-path=\"url(#clip490)\" d=\"M91.5706 255.628 L99.2095 255.628 L99.2095 229.262 L90.8993 230.929 L90.8993 226.67 L99.1632 225.003 L103.839 225.003 L103.839 255.628 L111.478 255.628 L111.478 259.563 L91.5706 259.563 L91.5706 255.628 Z\" fill=\"#000000\" fill-rule=\"evenodd\" fill-opacity=\"1\" /><path clip-path=\"url(#clip490)\" d=\"M120.969 225.003 L139.325 225.003 L139.325 228.938 L125.251 228.938 L125.251 237.41 Q126.27 237.063 127.288 236.901 Q128.307 236.716 129.325 236.716 Q135.112 236.716 138.492 239.887 Q141.871 243.058 141.871 248.475 Q141.871 254.054 138.399 257.156 Q134.927 260.234 128.607 260.234 Q126.432 260.234 124.163 259.864 Q121.918 259.494 119.51 258.753 L119.51 254.054 Q121.594 255.188 123.816 255.744 Q126.038 256.299 128.515 256.299 Q132.519 256.299 134.857 254.193 Q137.195 252.086 137.195 248.475 Q137.195 244.864 134.857 242.757 Q132.519 240.651 128.515 240.651 Q126.64 240.651 124.765 241.068 Q122.913 241.484 120.969 242.364 L120.969 225.003 Z\" fill=\"#000000\" fill-rule=\"evenodd\" fill-opacity=\"1\" /><path clip-path=\"url(#clip490)\" d=\"M161.084 228.082 Q157.473 228.082 155.644 231.646 Q153.839 235.188 153.839 242.318 Q153.839 249.424 155.644 252.989 Q157.473 256.531 161.084 256.531 Q164.718 256.531 166.524 252.989 Q168.353 249.424 168.353 242.318 Q168.353 235.188 166.524 231.646 Q164.718 228.082 161.084 228.082 M161.084 224.378 Q166.894 224.378 169.95 228.984 Q173.029 233.568 173.029 242.318 Q173.029 251.044 169.95 255.651 Q166.894 260.234 161.084 260.234 Q155.274 260.234 152.195 255.651 Q149.14 251.044 149.14 242.318 Q149.14 233.568 152.195 228.984 Q155.274 224.378 161.084 224.378 Z\" fill=\"#000000\" fill-rule=\"evenodd\" fill-opacity=\"1\" /><circle clip-path=\"url(#clip492)\" cx=\"269.7\" cy=\"730.364\" r=\"14.4\" fill=\"#009af9\" fill-rule=\"evenodd\" fill-opacity=\"1\" stroke=\"#000000\" stroke-opacity=\"1\" stroke-width=\"3.2\"/>\n",
       "<circle clip-path=\"url(#clip492)\" cx=\"370.819\" cy=\"858.287\" r=\"14.4\" fill=\"#009af9\" fill-rule=\"evenodd\" fill-opacity=\"1\" stroke=\"#000000\" stroke-opacity=\"1\" stroke-width=\"3.2\"/>\n",
       "<circle clip-path=\"url(#clip492)\" cx=\"471.938\" cy=\"274.045\" r=\"14.4\" fill=\"#009af9\" fill-rule=\"evenodd\" fill-opacity=\"1\" stroke=\"#000000\" stroke-opacity=\"1\" stroke-width=\"3.2\"/>\n",
       "<circle clip-path=\"url(#clip492)\" cx=\"573.058\" cy=\"1110.55\" r=\"14.4\" fill=\"#009af9\" fill-rule=\"evenodd\" fill-opacity=\"1\" stroke=\"#000000\" stroke-opacity=\"1\" stroke-width=\"3.2\"/>\n",
       "<circle clip-path=\"url(#clip492)\" cx=\"674.177\" cy=\"919.075\" r=\"14.4\" fill=\"#009af9\" fill-rule=\"evenodd\" fill-opacity=\"1\" stroke=\"#000000\" stroke-opacity=\"1\" stroke-width=\"3.2\"/>\n",
       "<circle clip-path=\"url(#clip492)\" cx=\"775.296\" cy=\"777.961\" r=\"14.4\" fill=\"#009af9\" fill-rule=\"evenodd\" fill-opacity=\"1\" stroke=\"#000000\" stroke-opacity=\"1\" stroke-width=\"3.2\"/>\n",
       "<circle clip-path=\"url(#clip492)\" cx=\"876.415\" cy=\"846.641\" r=\"14.4\" fill=\"#009af9\" fill-rule=\"evenodd\" fill-opacity=\"1\" stroke=\"#000000\" stroke-opacity=\"1\" stroke-width=\"3.2\"/>\n",
       "<circle clip-path=\"url(#clip492)\" cx=\"977.535\" cy=\"1333.32\" r=\"14.4\" fill=\"#009af9\" fill-rule=\"evenodd\" fill-opacity=\"1\" stroke=\"#000000\" stroke-opacity=\"1\" stroke-width=\"3.2\"/>\n",
       "<circle clip-path=\"url(#clip492)\" cx=\"1078.65\" cy=\"813.525\" r=\"14.4\" fill=\"#009af9\" fill-rule=\"evenodd\" fill-opacity=\"1\" stroke=\"#000000\" stroke-opacity=\"1\" stroke-width=\"3.2\"/>\n",
       "<circle clip-path=\"url(#clip492)\" cx=\"1179.77\" cy=\"1369.45\" r=\"14.4\" fill=\"#009af9\" fill-rule=\"evenodd\" fill-opacity=\"1\" stroke=\"#000000\" stroke-opacity=\"1\" stroke-width=\"3.2\"/>\n",
       "<circle clip-path=\"url(#clip492)\" cx=\"1280.89\" cy=\"1445.72\" r=\"14.4\" fill=\"#009af9\" fill-rule=\"evenodd\" fill-opacity=\"1\" stroke=\"#000000\" stroke-opacity=\"1\" stroke-width=\"3.2\"/>\n",
       "<circle clip-path=\"url(#clip492)\" cx=\"1382.01\" cy=\"477.099\" r=\"14.4\" fill=\"#009af9\" fill-rule=\"evenodd\" fill-opacity=\"1\" stroke=\"#000000\" stroke-opacity=\"1\" stroke-width=\"3.2\"/>\n",
       "<circle clip-path=\"url(#clip492)\" cx=\"1483.13\" cy=\"1128.21\" r=\"14.4\" fill=\"#009af9\" fill-rule=\"evenodd\" fill-opacity=\"1\" stroke=\"#000000\" stroke-opacity=\"1\" stroke-width=\"3.2\"/>\n",
       "<circle clip-path=\"url(#clip492)\" cx=\"1584.25\" cy=\"1190.68\" r=\"14.4\" fill=\"#009af9\" fill-rule=\"evenodd\" fill-opacity=\"1\" stroke=\"#000000\" stroke-opacity=\"1\" stroke-width=\"3.2\"/>\n",
       "<circle clip-path=\"url(#clip492)\" cx=\"1685.37\" cy=\"693.103\" r=\"14.4\" fill=\"#009af9\" fill-rule=\"evenodd\" fill-opacity=\"1\" stroke=\"#000000\" stroke-opacity=\"1\" stroke-width=\"3.2\"/>\n",
       "<circle clip-path=\"url(#clip492)\" cx=\"1786.49\" cy=\"733.326\" r=\"14.4\" fill=\"#009af9\" fill-rule=\"evenodd\" fill-opacity=\"1\" stroke=\"#000000\" stroke-opacity=\"1\" stroke-width=\"3.2\"/>\n",
       "<circle clip-path=\"url(#clip492)\" cx=\"1887.61\" cy=\"876.945\" r=\"14.4\" fill=\"#009af9\" fill-rule=\"evenodd\" fill-opacity=\"1\" stroke=\"#000000\" stroke-opacity=\"1\" stroke-width=\"3.2\"/>\n",
       "<circle clip-path=\"url(#clip492)\" cx=\"1988.73\" cy=\"577.269\" r=\"14.4\" fill=\"#009af9\" fill-rule=\"evenodd\" fill-opacity=\"1\" stroke=\"#000000\" stroke-opacity=\"1\" stroke-width=\"3.2\"/>\n",
       "<circle clip-path=\"url(#clip492)\" cx=\"2089.85\" cy=\"454.842\" r=\"14.4\" fill=\"#009af9\" fill-rule=\"evenodd\" fill-opacity=\"1\" stroke=\"#000000\" stroke-opacity=\"1\" stroke-width=\"3.2\"/>\n",
       "<circle clip-path=\"url(#clip492)\" cx=\"2190.97\" cy=\"87.9763\" r=\"14.4\" fill=\"#009af9\" fill-rule=\"evenodd\" fill-opacity=\"1\" stroke=\"#000000\" stroke-opacity=\"1\" stroke-width=\"3.2\"/>\n",
       "<circle clip-path=\"url(#clip492)\" cx=\"2292.08\" cy=\"702.532\" r=\"14.4\" fill=\"#009af9\" fill-rule=\"evenodd\" fill-opacity=\"1\" stroke=\"#000000\" stroke-opacity=\"1\" stroke-width=\"3.2\"/>\n",
       "<polyline clip-path=\"url(#clip492)\" style=\"stroke:#e26f46; stroke-linecap:round; stroke-linejoin:round; stroke-width:4; stroke-opacity:1; fill:none\" points=\"269.7,604.49 370.819,675.165 471.938,737.005 573.058,790.011 674.177,834.182 775.296,869.52 876.415,896.023 977.535,913.691 1078.65,922.526 1179.77,922.526 1280.89,913.691 1382.01,896.023 1483.13,869.52 1584.25,834.182 1685.37,790.011 1786.49,737.005 1887.61,675.165 1988.73,604.49 2089.85,524.981 2190.97,436.638 2292.08,339.46 \"/>\n",
       "<polyline clip-path=\"url(#clip492)\" style=\"stroke:#3da44d; stroke-linecap:round; stroke-linejoin:round; stroke-width:4; stroke-opacity:1; fill:none\" points=\"269.7,609.929 370.819,704.83 471.938,788.2 573.058,860.038 674.177,920.344 775.296,969.12 876.415,1006.36 977.535,1032.08 1078.65,1046.26 1179.77,1048.91 1280.89,1040.02 1382.01,1019.61 1483.13,987.666 1584.25,944.19 1685.37,889.182 1786.49,822.643 1887.61,744.573 1988.73,654.971 2089.85,553.837 2190.97,441.172 2292.08,316.976 \"/>\n",
       "<path clip-path=\"url(#clip490)\" d=\"M2013.92 1438.47 L2281.3 1438.47 L2281.3 1231.11 L2013.92 1231.11  Z\" fill=\"#ffffff\" fill-rule=\"evenodd\" fill-opacity=\"1\"/>\n",
       "<polyline clip-path=\"url(#clip490)\" style=\"stroke:#000000; stroke-linecap:round; stroke-linejoin:round; stroke-width:4; stroke-opacity:1; fill:none\" points=\"2013.92,1438.47 2281.3,1438.47 2281.3,1231.11 2013.92,1231.11 2013.92,1438.47 \"/>\n",
       "<circle clip-path=\"url(#clip490)\" cx=\"2109.19\" cy=\"1282.95\" r=\"23.04\" fill=\"#009af9\" fill-rule=\"evenodd\" fill-opacity=\"1\" stroke=\"#000000\" stroke-opacity=\"1\" stroke-width=\"5.12\"/>\n",
       "<path clip-path=\"url(#clip490)\" d=\"M2218.31 1302.64 Q2216.51 1307.27 2214.79 1308.68 Q2213.08 1310.1 2210.21 1310.1 L2206.81 1310.1 L2206.81 1306.53 L2209.31 1306.53 Q2211.07 1306.53 2212.04 1305.7 Q2213.01 1304.86 2214.19 1301.76 L2214.96 1299.82 L2204.47 1274.31 L2208.98 1274.31 L2217.09 1294.59 L2225.19 1274.31 L2229.7 1274.31 L2218.31 1302.64 Z\" fill=\"#000000\" fill-rule=\"evenodd\" fill-opacity=\"1\" /><path clip-path=\"url(#clip490)\" d=\"M2236.99 1296.3 L2244.63 1296.3 L2244.63 1269.93 L2236.32 1271.6 L2236.32 1267.34 L2244.59 1265.67 L2249.26 1265.67 L2249.26 1296.3 L2256.9 1296.3 L2256.9 1300.23 L2236.99 1300.23 L2236.99 1296.3 Z\" fill=\"#000000\" fill-rule=\"evenodd\" fill-opacity=\"1\" /><polyline clip-path=\"url(#clip490)\" style=\"stroke:#e26f46; stroke-linecap:round; stroke-linejoin:round; stroke-width:4; stroke-opacity:1; fill:none\" points=\"2037.74,1334.79 2180.65,1334.79 \"/>\n",
       "<path clip-path=\"url(#clip490)\" d=\"M2218.31 1354.48 Q2216.51 1359.11 2214.79 1360.52 Q2213.08 1361.94 2210.21 1361.94 L2206.81 1361.94 L2206.81 1358.37 L2209.31 1358.37 Q2211.07 1358.37 2212.04 1357.54 Q2213.01 1356.7 2214.19 1353.6 L2214.96 1351.66 L2204.47 1326.15 L2208.98 1326.15 L2217.09 1346.43 L2225.19 1326.15 L2229.7 1326.15 L2218.31 1354.48 Z\" fill=\"#000000\" fill-rule=\"evenodd\" fill-opacity=\"1\" /><path clip-path=\"url(#clip490)\" d=\"M2240.21 1348.14 L2256.53 1348.14 L2256.53 1352.07 L2234.59 1352.07 L2234.59 1348.14 Q2237.25 1345.38 2241.83 1340.76 Q2246.44 1336.1 2247.62 1334.76 Q2249.86 1332.24 2250.74 1330.5 Q2251.65 1328.74 2251.65 1327.05 Q2251.65 1324.3 2249.7 1322.56 Q2247.78 1320.82 2244.68 1320.82 Q2242.48 1320.82 2240.03 1321.59 Q2237.59 1322.35 2234.82 1323.9 L2234.82 1319.18 Q2237.64 1318.05 2240.09 1317.47 Q2242.55 1316.89 2244.59 1316.89 Q2249.96 1316.89 2253.15 1319.57 Q2256.34 1322.26 2256.34 1326.75 Q2256.34 1328.88 2255.53 1330.8 Q2254.75 1332.7 2252.64 1335.29 Q2252.06 1335.96 2248.96 1339.18 Q2245.86 1342.38 2240.21 1348.14 Z\" fill=\"#000000\" fill-rule=\"evenodd\" fill-opacity=\"1\" /><polyline clip-path=\"url(#clip490)\" style=\"stroke:#3da44d; stroke-linecap:round; stroke-linejoin:round; stroke-width:4; stroke-opacity:1; fill:none\" points=\"2037.74,1386.63 2180.65,1386.63 \"/>\n",
       "<path clip-path=\"url(#clip490)\" d=\"M2218.31 1406.32 Q2216.51 1410.95 2214.79 1412.36 Q2213.08 1413.78 2210.21 1413.78 L2206.81 1413.78 L2206.81 1410.21 L2209.31 1410.21 Q2211.07 1410.21 2212.04 1409.38 Q2213.01 1408.54 2214.19 1405.44 L2214.96 1403.5 L2204.47 1377.99 L2208.98 1377.99 L2217.09 1398.27 L2225.19 1377.99 L2229.7 1377.99 L2218.31 1406.32 Z\" fill=\"#000000\" fill-rule=\"evenodd\" fill-opacity=\"1\" /><path clip-path=\"url(#clip490)\" d=\"M2250.35 1385.28 Q2253.71 1386 2255.58 1388.27 Q2257.48 1390.53 2257.48 1393.87 Q2257.48 1398.98 2253.96 1401.78 Q2250.44 1404.59 2243.96 1404.59 Q2241.78 1404.59 2239.47 1404.15 Q2237.18 1403.73 2234.72 1402.87 L2234.72 1398.36 Q2236.67 1399.49 2238.98 1400.07 Q2241.3 1400.65 2243.82 1400.65 Q2248.22 1400.65 2250.51 1398.91 Q2252.83 1397.18 2252.83 1393.87 Q2252.83 1390.81 2250.67 1389.1 Q2248.54 1387.36 2244.72 1387.36 L2240.7 1387.36 L2240.7 1383.52 L2244.91 1383.52 Q2248.36 1383.52 2250.19 1382.16 Q2252.02 1380.77 2252.02 1378.17 Q2252.02 1375.51 2250.12 1374.1 Q2248.24 1372.66 2244.72 1372.66 Q2242.8 1372.66 2240.6 1373.08 Q2238.41 1373.5 2235.77 1374.38 L2235.77 1370.21 Q2238.43 1369.47 2240.74 1369.1 Q2243.08 1368.73 2245.14 1368.73 Q2250.47 1368.73 2253.57 1371.16 Q2256.67 1373.57 2256.67 1377.69 Q2256.67 1380.56 2255.03 1382.55 Q2253.38 1384.52 2250.35 1385.28 Z\" fill=\"#000000\" fill-rule=\"evenodd\" fill-opacity=\"1\" /></svg>\n"
      ]
     },
     "execution_count": 47,
     "metadata": {},
     "output_type": "execute_result"
    }
   ],
   "source": [
    "using Polynomials: Polynomials, fit, coeffs\n",
    "Polynomial([-2,3,1])\n",
    "line_fit2 = fit(x_2,y_observed2,2)\n",
    "fit_coeff2 = coeffs(line_fit2)\n",
    "y_fitted2 = fit_coeff2[1] .+ (fit_coeff2[2] .* (x_2)) .+ ((fit_coeff2[3]) .* (x.^2))\n",
    "scatter(x_2,y_observed2)\n",
    "plot!(x_2,y_true)\n",
    "plot!(x_2,y_fitted2)"
   ]
  },
  {
   "cell_type": "markdown",
   "id": "ab12acbd",
   "metadata": {},
   "source": [
    "2. Compare the plot with the plot in 2.3. Is the fit closer to y_true or not, and why?"
   ]
  },
  {
   "cell_type": "markdown",
   "id": "a34fcca4",
   "metadata": {},
   "source": [
    "The fit is not as close as in 2.3 . This has to do with the increase in standard devation, increasing the devation of the data from the mean."
   ]
  },
  {
   "cell_type": "markdown",
   "id": "5fd1d93b",
   "metadata": {},
   "source": [
    "### 2.5\n",
    "\n",
    "#### Repeat 2.2 and 2.3 with a tenth order polynomial fit\n"
   ]
  },
  {
   "cell_type": "code",
   "execution_count": 68,
   "id": "b6dbd546",
   "metadata": {},
   "outputs": [
    {
     "data": {
      "image/svg+xml": [
       "<?xml version=\"1.0\" encoding=\"utf-8\"?>\n",
       "<svg xmlns=\"http://www.w3.org/2000/svg\" xmlns:xlink=\"http://www.w3.org/1999/xlink\" width=\"600\" height=\"400\" viewBox=\"0 0 2400 1600\">\n",
       "<defs>\n",
       "  <clipPath id=\"clip690\">\n",
       "    <rect x=\"0\" y=\"0\" width=\"2400\" height=\"1600\"/>\n",
       "  </clipPath>\n",
       "</defs>\n",
       "<path clip-path=\"url(#clip690)\" d=\"M0 1600 L2400 1600 L2400 0 L0 0  Z\" fill=\"#ffffff\" fill-rule=\"evenodd\" fill-opacity=\"1\"/>\n",
       "<defs>\n",
       "  <clipPath id=\"clip691\">\n",
       "    <rect x=\"480\" y=\"0\" width=\"1681\" height=\"1600\"/>\n",
       "  </clipPath>\n",
       "</defs>\n",
       "<path clip-path=\"url(#clip690)\" d=\"M169.121 1486.45 L2352.76 1486.45 L2352.76 47.2441 L169.121 47.2441  Z\" fill=\"#ffffff\" fill-rule=\"evenodd\" fill-opacity=\"1\"/>\n",
       "<defs>\n",
       "  <clipPath id=\"clip692\">\n",
       "    <rect x=\"169\" y=\"47\" width=\"2185\" height=\"1440\"/>\n",
       "  </clipPath>\n",
       "</defs>\n",
       "<polyline clip-path=\"url(#clip692)\" style=\"stroke:#000000; stroke-linecap:round; stroke-linejoin:round; stroke-width:2; stroke-opacity:0.1; fill:none\" points=\"230.922,1486.45 230.922,47.2441 \"/>\n",
       "<polyline clip-path=\"url(#clip692)\" style=\"stroke:#000000; stroke-linecap:round; stroke-linejoin:round; stroke-width:2; stroke-opacity:0.1; fill:none\" points=\"745.93,1486.45 745.93,47.2441 \"/>\n",
       "<polyline clip-path=\"url(#clip692)\" style=\"stroke:#000000; stroke-linecap:round; stroke-linejoin:round; stroke-width:2; stroke-opacity:0.1; fill:none\" points=\"1260.94,1486.45 1260.94,47.2441 \"/>\n",
       "<polyline clip-path=\"url(#clip692)\" style=\"stroke:#000000; stroke-linecap:round; stroke-linejoin:round; stroke-width:2; stroke-opacity:0.1; fill:none\" points=\"1775.95,1486.45 1775.95,47.2441 \"/>\n",
       "<polyline clip-path=\"url(#clip692)\" style=\"stroke:#000000; stroke-linecap:round; stroke-linejoin:round; stroke-width:2; stroke-opacity:0.1; fill:none\" points=\"2290.95,1486.45 2290.95,47.2441 \"/>\n",
       "<polyline clip-path=\"url(#clip690)\" style=\"stroke:#000000; stroke-linecap:round; stroke-linejoin:round; stroke-width:4; stroke-opacity:1; fill:none\" points=\"169.121,1486.45 2352.76,1486.45 \"/>\n",
       "<polyline clip-path=\"url(#clip690)\" style=\"stroke:#000000; stroke-linecap:round; stroke-linejoin:round; stroke-width:4; stroke-opacity:1; fill:none\" points=\"230.922,1486.45 230.922,1467.55 \"/>\n",
       "<polyline clip-path=\"url(#clip690)\" style=\"stroke:#000000; stroke-linecap:round; stroke-linejoin:round; stroke-width:4; stroke-opacity:1; fill:none\" points=\"745.93,1486.45 745.93,1467.55 \"/>\n",
       "<polyline clip-path=\"url(#clip690)\" style=\"stroke:#000000; stroke-linecap:round; stroke-linejoin:round; stroke-width:4; stroke-opacity:1; fill:none\" points=\"1260.94,1486.45 1260.94,1467.55 \"/>\n",
       "<polyline clip-path=\"url(#clip690)\" style=\"stroke:#000000; stroke-linecap:round; stroke-linejoin:round; stroke-width:4; stroke-opacity:1; fill:none\" points=\"1775.95,1486.45 1775.95,1467.55 \"/>\n",
       "<polyline clip-path=\"url(#clip690)\" style=\"stroke:#000000; stroke-linecap:round; stroke-linejoin:round; stroke-width:4; stroke-opacity:1; fill:none\" points=\"2290.95,1486.45 2290.95,1467.55 \"/>\n",
       "<path clip-path=\"url(#clip690)\" d=\"M184.985 1532.02 L214.661 1532.02 L214.661 1535.95 L184.985 1535.95 L184.985 1532.02 Z\" fill=\"#000000\" fill-rule=\"evenodd\" fill-opacity=\"1\" /><path clip-path=\"url(#clip690)\" d=\"M225.564 1544.91 L233.202 1544.91 L233.202 1518.55 L224.892 1520.21 L224.892 1515.95 L233.156 1514.29 L237.832 1514.29 L237.832 1544.91 L245.471 1544.91 L245.471 1548.85 L225.564 1548.85 L225.564 1544.91 Z\" fill=\"#000000\" fill-rule=\"evenodd\" fill-opacity=\"1\" /><path clip-path=\"url(#clip690)\" d=\"M264.915 1517.37 Q261.304 1517.37 259.475 1520.93 Q257.67 1524.47 257.67 1531.6 Q257.67 1538.71 259.475 1542.27 Q261.304 1545.82 264.915 1545.82 Q268.549 1545.82 270.355 1542.27 Q272.184 1538.71 272.184 1531.6 Q272.184 1524.47 270.355 1520.93 Q268.549 1517.37 264.915 1517.37 M264.915 1513.66 Q270.725 1513.66 273.781 1518.27 Q276.86 1522.85 276.86 1531.6 Q276.86 1540.33 273.781 1544.94 Q270.725 1549.52 264.915 1549.52 Q259.105 1549.52 256.026 1544.94 Q252.971 1540.33 252.971 1531.6 Q252.971 1522.85 256.026 1518.27 Q259.105 1513.66 264.915 1513.66 Z\" fill=\"#000000\" fill-rule=\"evenodd\" fill-opacity=\"1\" /><path clip-path=\"url(#clip690)\" d=\"M715.572 1532.02 L745.248 1532.02 L745.248 1535.95 L715.572 1535.95 L715.572 1532.02 Z\" fill=\"#000000\" fill-rule=\"evenodd\" fill-opacity=\"1\" /><path clip-path=\"url(#clip690)\" d=\"M755.386 1514.29 L773.743 1514.29 L773.743 1518.22 L759.669 1518.22 L759.669 1526.7 Q760.687 1526.35 761.706 1526.19 Q762.724 1526 763.743 1526 Q769.53 1526 772.909 1529.17 Q776.289 1532.34 776.289 1537.76 Q776.289 1543.34 772.817 1546.44 Q769.345 1549.52 763.025 1549.52 Q760.849 1549.52 758.581 1549.15 Q756.335 1548.78 753.928 1548.04 L753.928 1543.34 Q756.011 1544.47 758.234 1545.03 Q760.456 1545.58 762.933 1545.58 Q766.937 1545.58 769.275 1543.48 Q771.613 1541.37 771.613 1537.76 Q771.613 1534.15 769.275 1532.04 Q766.937 1529.94 762.933 1529.94 Q761.058 1529.94 759.183 1530.35 Q757.331 1530.77 755.386 1531.65 L755.386 1514.29 Z\" fill=\"#000000\" fill-rule=\"evenodd\" fill-opacity=\"1\" /><path clip-path=\"url(#clip690)\" d=\"M1260.94 1517.37 Q1257.33 1517.37 1255.5 1520.93 Q1253.69 1524.47 1253.69 1531.6 Q1253.69 1538.71 1255.5 1542.27 Q1257.33 1545.82 1260.94 1545.82 Q1264.57 1545.82 1266.38 1542.27 Q1268.21 1538.71 1268.21 1531.6 Q1268.21 1524.47 1266.38 1520.93 Q1264.57 1517.37 1260.94 1517.37 M1260.94 1513.66 Q1266.75 1513.66 1269.8 1518.27 Q1272.88 1522.85 1272.88 1531.6 Q1272.88 1540.33 1269.8 1544.94 Q1266.75 1549.52 1260.94 1549.52 Q1255.13 1549.52 1252.05 1544.94 Q1248.99 1540.33 1248.99 1531.6 Q1248.99 1522.85 1252.05 1518.27 Q1255.13 1513.66 1260.94 1513.66 Z\" fill=\"#000000\" fill-rule=\"evenodd\" fill-opacity=\"1\" /><path clip-path=\"url(#clip690)\" d=\"M1766.22 1514.29 L1784.58 1514.29 L1784.58 1518.22 L1770.51 1518.22 L1770.51 1526.7 Q1771.53 1526.35 1772.54 1526.19 Q1773.56 1526 1774.58 1526 Q1780.37 1526 1783.75 1529.17 Q1787.13 1532.34 1787.13 1537.76 Q1787.13 1543.34 1783.66 1546.44 Q1780.18 1549.52 1773.86 1549.52 Q1771.69 1549.52 1769.42 1549.15 Q1767.17 1548.78 1764.77 1548.04 L1764.77 1543.34 Q1766.85 1544.47 1769.07 1545.03 Q1771.29 1545.58 1773.77 1545.58 Q1777.78 1545.58 1780.11 1543.48 Q1782.45 1541.37 1782.45 1537.76 Q1782.45 1534.15 1780.11 1532.04 Q1777.78 1529.94 1773.77 1529.94 Q1771.9 1529.94 1770.02 1530.35 Q1768.17 1530.77 1766.22 1531.65 L1766.22 1514.29 Z\" fill=\"#000000\" fill-rule=\"evenodd\" fill-opacity=\"1\" /><path clip-path=\"url(#clip690)\" d=\"M2265.64 1544.91 L2273.28 1544.91 L2273.28 1518.55 L2264.97 1520.21 L2264.97 1515.95 L2273.24 1514.29 L2277.91 1514.29 L2277.91 1544.91 L2285.55 1544.91 L2285.55 1548.85 L2265.64 1548.85 L2265.64 1544.91 Z\" fill=\"#000000\" fill-rule=\"evenodd\" fill-opacity=\"1\" /><path clip-path=\"url(#clip690)\" d=\"M2304.99 1517.37 Q2301.38 1517.37 2299.55 1520.93 Q2297.75 1524.47 2297.75 1531.6 Q2297.75 1538.71 2299.55 1542.27 Q2301.38 1545.82 2304.99 1545.82 Q2308.63 1545.82 2310.43 1542.27 Q2312.26 1538.71 2312.26 1531.6 Q2312.26 1524.47 2310.43 1520.93 Q2308.63 1517.37 2304.99 1517.37 M2304.99 1513.66 Q2310.8 1513.66 2313.86 1518.27 Q2316.94 1522.85 2316.94 1531.6 Q2316.94 1540.33 2313.86 1544.94 Q2310.8 1549.52 2304.99 1549.52 Q2299.18 1549.52 2296.11 1544.94 Q2293.05 1540.33 2293.05 1531.6 Q2293.05 1522.85 2296.11 1518.27 Q2299.18 1513.66 2304.99 1513.66 Z\" fill=\"#000000\" fill-rule=\"evenodd\" fill-opacity=\"1\" /><polyline clip-path=\"url(#clip692)\" style=\"stroke:#000000; stroke-linecap:round; stroke-linejoin:round; stroke-width:2; stroke-opacity:0.1; fill:none\" points=\"169.121,1260.76 2352.76,1260.76 \"/>\n",
       "<polyline clip-path=\"url(#clip692)\" style=\"stroke:#000000; stroke-linecap:round; stroke-linejoin:round; stroke-width:2; stroke-opacity:0.1; fill:none\" points=\"169.121,1001.01 2352.76,1001.01 \"/>\n",
       "<polyline clip-path=\"url(#clip692)\" style=\"stroke:#000000; stroke-linecap:round; stroke-linejoin:round; stroke-width:2; stroke-opacity:0.1; fill:none\" points=\"169.121,741.251 2352.76,741.251 \"/>\n",
       "<polyline clip-path=\"url(#clip692)\" style=\"stroke:#000000; stroke-linecap:round; stroke-linejoin:round; stroke-width:2; stroke-opacity:0.1; fill:none\" points=\"169.121,481.495 2352.76,481.495 \"/>\n",
       "<polyline clip-path=\"url(#clip692)\" style=\"stroke:#000000; stroke-linecap:round; stroke-linejoin:round; stroke-width:2; stroke-opacity:0.1; fill:none\" points=\"169.121,221.74 2352.76,221.74 \"/>\n",
       "<polyline clip-path=\"url(#clip690)\" style=\"stroke:#000000; stroke-linecap:round; stroke-linejoin:round; stroke-width:4; stroke-opacity:1; fill:none\" points=\"169.121,1486.45 169.121,47.2441 \"/>\n",
       "<polyline clip-path=\"url(#clip690)\" style=\"stroke:#000000; stroke-linecap:round; stroke-linejoin:round; stroke-width:4; stroke-opacity:1; fill:none\" points=\"169.121,1260.76 188.019,1260.76 \"/>\n",
       "<polyline clip-path=\"url(#clip690)\" style=\"stroke:#000000; stroke-linecap:round; stroke-linejoin:round; stroke-width:4; stroke-opacity:1; fill:none\" points=\"169.121,1001.01 188.019,1001.01 \"/>\n",
       "<polyline clip-path=\"url(#clip690)\" style=\"stroke:#000000; stroke-linecap:round; stroke-linejoin:round; stroke-width:4; stroke-opacity:1; fill:none\" points=\"169.121,741.251 188.019,741.251 \"/>\n",
       "<polyline clip-path=\"url(#clip690)\" style=\"stroke:#000000; stroke-linecap:round; stroke-linejoin:round; stroke-width:4; stroke-opacity:1; fill:none\" points=\"169.121,481.495 188.019,481.495 \"/>\n",
       "<polyline clip-path=\"url(#clip690)\" style=\"stroke:#000000; stroke-linecap:round; stroke-linejoin:round; stroke-width:4; stroke-opacity:1; fill:none\" points=\"169.121,221.74 188.019,221.74 \"/>\n",
       "<path clip-path=\"url(#clip690)\" d=\"M121.177 1246.56 Q117.566 1246.56 115.737 1250.13 Q113.932 1253.67 113.932 1260.8 Q113.932 1267.9 115.737 1271.47 Q117.566 1275.01 121.177 1275.01 Q124.811 1275.01 126.617 1271.47 Q128.445 1267.9 128.445 1260.8 Q128.445 1253.67 126.617 1250.13 Q124.811 1246.56 121.177 1246.56 M121.177 1242.86 Q126.987 1242.86 130.043 1247.46 Q133.121 1252.05 133.121 1260.8 Q133.121 1269.52 130.043 1274.13 Q126.987 1278.71 121.177 1278.71 Q115.367 1278.71 112.288 1274.13 Q109.233 1269.52 109.233 1260.8 Q109.233 1252.05 112.288 1247.46 Q115.367 1242.86 121.177 1242.86 Z\" fill=\"#000000\" fill-rule=\"evenodd\" fill-opacity=\"1\" /><path clip-path=\"url(#clip690)\" d=\"M95.1817 999.652 Q98.5382 1000.37 100.413 1002.64 Q102.311 1004.91 102.311 1008.24 Q102.311 1013.36 98.7928 1016.16 Q95.2743 1018.96 88.7928 1018.96 Q86.6169 1018.96 84.3021 1018.52 Q82.0105 1018.1 79.5568 1017.24 L79.5568 1012.73 Q81.5012 1013.87 83.816 1014.44 Q86.1308 1015.02 88.654 1015.02 Q93.0521 1015.02 95.3437 1013.29 Q97.6585 1011.55 97.6585 1008.24 Q97.6585 1005.18 95.5058 1003.47 Q93.3762 1001.74 89.5567 1001.74 L85.529 1001.74 L85.529 997.893 L89.7419 997.893 Q93.191 997.893 95.0197 996.527 Q96.8484 995.138 96.8484 992.546 Q96.8484 989.884 94.9502 988.472 Q93.0752 987.037 89.5567 987.037 Q87.6354 987.037 85.4364 987.453 Q83.2373 987.87 80.5984 988.749 L80.5984 984.583 Q83.2605 983.842 85.5753 983.472 Q87.9132 983.101 89.9734 983.101 Q95.2974 983.101 98.3993 985.532 Q101.501 987.939 101.501 992.06 Q101.501 994.93 99.8576 996.921 Q98.2141 998.888 95.1817 999.652 Z\" fill=\"#000000\" fill-rule=\"evenodd\" fill-opacity=\"1\" /><path clip-path=\"url(#clip690)\" d=\"M121.177 986.805 Q117.566 986.805 115.737 990.37 Q113.932 993.911 113.932 1001.04 Q113.932 1008.15 115.737 1011.71 Q117.566 1015.25 121.177 1015.25 Q124.811 1015.25 126.617 1011.71 Q128.445 1008.15 128.445 1001.04 Q128.445 993.911 126.617 990.37 Q124.811 986.805 121.177 986.805 M121.177 983.101 Q126.987 983.101 130.043 987.708 Q133.121 992.291 133.121 1001.04 Q133.121 1009.77 130.043 1014.37 Q126.987 1018.96 121.177 1018.96 Q115.367 1018.96 112.288 1014.37 Q109.233 1009.77 109.233 1001.04 Q109.233 992.291 112.288 987.708 Q115.367 983.101 121.177 983.101 Z\" fill=\"#000000\" fill-rule=\"evenodd\" fill-opacity=\"1\" /><path clip-path=\"url(#clip690)\" d=\"M91.5938 739.387 Q88.4456 739.387 86.5938 741.54 Q84.7651 743.693 84.7651 747.443 Q84.7651 751.17 86.5938 753.346 Q88.4456 755.499 91.5938 755.499 Q94.7419 755.499 96.5706 753.346 Q98.4224 751.17 98.4224 747.443 Q98.4224 743.693 96.5706 741.54 Q94.7419 739.387 91.5938 739.387 M100.876 724.735 L100.876 728.994 Q99.1169 728.161 97.3113 727.721 Q95.5289 727.281 93.7697 727.281 Q89.1401 727.281 86.6864 730.406 Q84.2558 733.531 83.9086 739.85 Q85.2743 737.837 87.3345 736.772 Q89.3947 735.684 91.8715 735.684 Q97.0798 735.684 100.089 738.855 Q103.121 742.003 103.121 747.443 Q103.121 752.767 99.9733 755.985 Q96.8252 759.202 91.5938 759.202 Q85.5984 759.202 82.4271 754.619 Q79.2559 750.012 79.2559 741.286 Q79.2559 733.091 83.1447 728.23 Q87.0336 723.346 93.5845 723.346 Q95.3437 723.346 97.1261 723.693 Q98.9317 724.04 100.876 724.735 Z\" fill=\"#000000\" fill-rule=\"evenodd\" fill-opacity=\"1\" /><path clip-path=\"url(#clip690)\" d=\"M121.177 727.05 Q117.566 727.05 115.737 730.614 Q113.932 734.156 113.932 741.286 Q113.932 748.392 115.737 751.957 Q117.566 755.499 121.177 755.499 Q124.811 755.499 126.617 751.957 Q128.445 748.392 128.445 741.286 Q128.445 734.156 126.617 730.614 Q124.811 727.05 121.177 727.05 M121.177 723.346 Q126.987 723.346 130.043 727.952 Q133.121 732.536 133.121 741.286 Q133.121 750.012 130.043 754.619 Q126.987 759.202 121.177 759.202 Q115.367 759.202 112.288 754.619 Q109.233 750.012 109.233 741.286 Q109.233 732.536 112.288 727.952 Q115.367 723.346 121.177 723.346 Z\" fill=\"#000000\" fill-rule=\"evenodd\" fill-opacity=\"1\" /><path clip-path=\"url(#clip690)\" d=\"M81.154 498.058 L81.154 493.799 Q82.9133 494.632 84.7188 495.072 Q86.5243 495.512 88.2604 495.512 Q92.89 495.512 95.3206 492.41 Q97.7743 489.285 98.1215 482.942 Q96.7789 484.933 94.7187 485.998 Q92.6586 487.063 90.1586 487.063 Q84.9734 487.063 81.941 483.938 Q78.9318 480.789 78.9318 475.35 Q78.9318 470.026 82.0799 466.808 Q85.2281 463.59 90.4595 463.59 Q96.4548 463.59 99.603 468.197 Q102.774 472.78 102.774 481.53 Q102.774 489.701 98.8854 494.586 Q95.0197 499.447 88.4688 499.447 Q86.7095 499.447 84.904 499.1 Q83.0984 498.752 81.154 498.058 M90.4595 483.405 Q93.6076 483.405 95.4363 481.252 Q97.2882 479.1 97.2882 475.35 Q97.2882 471.623 95.4363 469.47 Q93.6076 467.294 90.4595 467.294 Q87.3114 467.294 85.4595 469.47 Q83.6308 471.623 83.6308 475.35 Q83.6308 479.1 85.4595 481.252 Q87.3114 483.405 90.4595 483.405 Z\" fill=\"#000000\" fill-rule=\"evenodd\" fill-opacity=\"1\" /><path clip-path=\"url(#clip690)\" d=\"M121.177 467.294 Q117.566 467.294 115.737 470.859 Q113.932 474.401 113.932 481.53 Q113.932 488.637 115.737 492.201 Q117.566 495.743 121.177 495.743 Q124.811 495.743 126.617 492.201 Q128.445 488.637 128.445 481.53 Q128.445 474.401 126.617 470.859 Q124.811 467.294 121.177 467.294 M121.177 463.59 Q126.987 463.59 130.043 468.197 Q133.121 472.78 133.121 481.53 Q133.121 490.257 130.043 494.863 Q126.987 499.447 121.177 499.447 Q115.367 499.447 112.288 494.863 Q109.233 490.257 109.233 481.53 Q109.233 472.78 112.288 468.197 Q115.367 463.59 121.177 463.59 Z\" fill=\"#000000\" fill-rule=\"evenodd\" fill-opacity=\"1\" /><path clip-path=\"url(#clip690)\" d=\"M51.6634 235.085 L59.3023 235.085 L59.3023 208.719 L50.9921 210.386 L50.9921 206.127 L59.256 204.46 L63.9319 204.46 L63.9319 235.085 L71.5707 235.085 L71.5707 239.02 L51.6634 239.02 L51.6634 235.085 Z\" fill=\"#000000\" fill-rule=\"evenodd\" fill-opacity=\"1\" /><path clip-path=\"url(#clip690)\" d=\"M85.0429 235.085 L101.362 235.085 L101.362 239.02 L79.4179 239.02 L79.4179 235.085 Q82.0799 232.33 86.6632 227.701 Q91.2697 223.048 92.4502 221.705 Q94.6956 219.182 95.5752 217.446 Q96.478 215.687 96.478 213.997 Q96.478 211.242 94.5336 209.506 Q92.6123 207.77 89.5104 207.77 Q87.3114 207.77 84.8577 208.534 Q82.4271 209.298 79.6494 210.849 L79.6494 206.127 Q82.4734 204.992 84.9271 204.414 Q87.3808 203.835 89.4178 203.835 Q94.7882 203.835 97.9826 206.52 Q101.177 209.205 101.177 213.696 Q101.177 215.826 100.367 217.747 Q99.5798 219.645 97.4734 222.238 Q96.8947 222.909 93.7928 226.127 Q90.691 229.321 85.0429 235.085 Z\" fill=\"#000000\" fill-rule=\"evenodd\" fill-opacity=\"1\" /><path clip-path=\"url(#clip690)\" d=\"M121.177 207.539 Q117.566 207.539 115.737 211.103 Q113.932 214.645 113.932 221.775 Q113.932 228.881 115.737 232.446 Q117.566 235.988 121.177 235.988 Q124.811 235.988 126.617 232.446 Q128.445 228.881 128.445 221.775 Q128.445 214.645 126.617 211.103 Q124.811 207.539 121.177 207.539 M121.177 203.835 Q126.987 203.835 130.043 208.441 Q133.121 213.025 133.121 221.775 Q133.121 230.502 130.043 235.108 Q126.987 239.691 121.177 239.691 Q115.367 239.691 112.288 235.108 Q109.233 230.502 109.233 221.775 Q109.233 213.025 112.288 208.441 Q115.367 203.835 121.177 203.835 Z\" fill=\"#000000\" fill-rule=\"evenodd\" fill-opacity=\"1\" /><circle clip-path=\"url(#clip692)\" cx=\"230.922\" cy=\"746.464\" r=\"14.4\" fill=\"#009af9\" fill-rule=\"evenodd\" fill-opacity=\"1\" stroke=\"#000000\" stroke-opacity=\"1\" stroke-width=\"3.2\"/>\n",
       "<circle clip-path=\"url(#clip692)\" cx=\"333.924\" cy=\"920.225\" r=\"14.4\" fill=\"#009af9\" fill-rule=\"evenodd\" fill-opacity=\"1\" stroke=\"#000000\" stroke-opacity=\"1\" stroke-width=\"3.2\"/>\n",
       "<circle clip-path=\"url(#clip692)\" cx=\"436.926\" cy=\"1009.57\" r=\"14.4\" fill=\"#009af9\" fill-rule=\"evenodd\" fill-opacity=\"1\" stroke=\"#000000\" stroke-opacity=\"1\" stroke-width=\"3.2\"/>\n",
       "<circle clip-path=\"url(#clip692)\" cx=\"539.927\" cy=\"1091.69\" r=\"14.4\" fill=\"#009af9\" fill-rule=\"evenodd\" fill-opacity=\"1\" stroke=\"#000000\" stroke-opacity=\"1\" stroke-width=\"3.2\"/>\n",
       "<circle clip-path=\"url(#clip692)\" cx=\"642.929\" cy=\"1080.2\" r=\"14.4\" fill=\"#009af9\" fill-rule=\"evenodd\" fill-opacity=\"1\" stroke=\"#000000\" stroke-opacity=\"1\" stroke-width=\"3.2\"/>\n",
       "<circle clip-path=\"url(#clip692)\" cx=\"745.93\" cy=\"1192.05\" r=\"14.4\" fill=\"#009af9\" fill-rule=\"evenodd\" fill-opacity=\"1\" stroke=\"#000000\" stroke-opacity=\"1\" stroke-width=\"3.2\"/>\n",
       "<circle clip-path=\"url(#clip692)\" cx=\"848.932\" cy=\"1317.26\" r=\"14.4\" fill=\"#009af9\" fill-rule=\"evenodd\" fill-opacity=\"1\" stroke=\"#000000\" stroke-opacity=\"1\" stroke-width=\"3.2\"/>\n",
       "<circle clip-path=\"url(#clip692)\" cx=\"951.934\" cy=\"1263.41\" r=\"14.4\" fill=\"#009af9\" fill-rule=\"evenodd\" fill-opacity=\"1\" stroke=\"#000000\" stroke-opacity=\"1\" stroke-width=\"3.2\"/>\n",
       "<circle clip-path=\"url(#clip692)\" cx=\"1054.94\" cy=\"1231.57\" r=\"14.4\" fill=\"#009af9\" fill-rule=\"evenodd\" fill-opacity=\"1\" stroke=\"#000000\" stroke-opacity=\"1\" stroke-width=\"3.2\"/>\n",
       "<circle clip-path=\"url(#clip692)\" cx=\"1157.94\" cy=\"1445.72\" r=\"14.4\" fill=\"#009af9\" fill-rule=\"evenodd\" fill-opacity=\"1\" stroke=\"#000000\" stroke-opacity=\"1\" stroke-width=\"3.2\"/>\n",
       "<circle clip-path=\"url(#clip692)\" cx=\"1260.94\" cy=\"1142.37\" r=\"14.4\" fill=\"#009af9\" fill-rule=\"evenodd\" fill-opacity=\"1\" stroke=\"#000000\" stroke-opacity=\"1\" stroke-width=\"3.2\"/>\n",
       "<circle clip-path=\"url(#clip692)\" cx=\"1363.94\" cy=\"1241.62\" r=\"14.4\" fill=\"#009af9\" fill-rule=\"evenodd\" fill-opacity=\"1\" stroke=\"#000000\" stroke-opacity=\"1\" stroke-width=\"3.2\"/>\n",
       "<circle clip-path=\"url(#clip692)\" cx=\"1466.94\" cy=\"1275.53\" r=\"14.4\" fill=\"#009af9\" fill-rule=\"evenodd\" fill-opacity=\"1\" stroke=\"#000000\" stroke-opacity=\"1\" stroke-width=\"3.2\"/>\n",
       "<circle clip-path=\"url(#clip692)\" cx=\"1569.94\" cy=\"1082.01\" r=\"14.4\" fill=\"#009af9\" fill-rule=\"evenodd\" fill-opacity=\"1\" stroke=\"#000000\" stroke-opacity=\"1\" stroke-width=\"3.2\"/>\n",
       "<circle clip-path=\"url(#clip692)\" cx=\"1672.95\" cy=\"1000.69\" r=\"14.4\" fill=\"#009af9\" fill-rule=\"evenodd\" fill-opacity=\"1\" stroke=\"#000000\" stroke-opacity=\"1\" stroke-width=\"3.2\"/>\n",
       "<circle clip-path=\"url(#clip692)\" cx=\"1775.95\" cy=\"1022.23\" r=\"14.4\" fill=\"#009af9\" fill-rule=\"evenodd\" fill-opacity=\"1\" stroke=\"#000000\" stroke-opacity=\"1\" stroke-width=\"3.2\"/>\n",
       "<circle clip-path=\"url(#clip692)\" cx=\"1878.95\" cy=\"800.851\" r=\"14.4\" fill=\"#009af9\" fill-rule=\"evenodd\" fill-opacity=\"1\" stroke=\"#000000\" stroke-opacity=\"1\" stroke-width=\"3.2\"/>\n",
       "<circle clip-path=\"url(#clip692)\" cx=\"1981.95\" cy=\"778.853\" r=\"14.4\" fill=\"#009af9\" fill-rule=\"evenodd\" fill-opacity=\"1\" stroke=\"#000000\" stroke-opacity=\"1\" stroke-width=\"3.2\"/>\n",
       "<circle clip-path=\"url(#clip692)\" cx=\"2084.95\" cy=\"678.445\" r=\"14.4\" fill=\"#009af9\" fill-rule=\"evenodd\" fill-opacity=\"1\" stroke=\"#000000\" stroke-opacity=\"1\" stroke-width=\"3.2\"/>\n",
       "<circle clip-path=\"url(#clip692)\" cx=\"2187.95\" cy=\"213.781\" r=\"14.4\" fill=\"#009af9\" fill-rule=\"evenodd\" fill-opacity=\"1\" stroke=\"#000000\" stroke-opacity=\"1\" stroke-width=\"3.2\"/>\n",
       "<circle clip-path=\"url(#clip692)\" cx=\"2290.95\" cy=\"91.1664\" r=\"14.4\" fill=\"#009af9\" fill-rule=\"evenodd\" fill-opacity=\"1\" stroke=\"#000000\" stroke-opacity=\"1\" stroke-width=\"3.2\"/>\n",
       "<polyline clip-path=\"url(#clip692)\" style=\"stroke:#e26f46; stroke-linecap:round; stroke-linejoin:round; stroke-width:4; stroke-opacity:1; fill:none\" points=\"230.922,671.983 333.924,810.519 436.926,931.738 539.927,1035.64 642.929,1122.23 745.93,1191.49 848.932,1243.44 951.934,1278.08 1054.94,1295.4 1157.94,1295.4 1260.94,1278.08 1363.94,1243.44 1466.94,1191.49 1569.94,1122.23 1672.95,1035.64 1775.95,931.738 1878.95,810.519 1981.95,671.983 2084.95,516.13 2187.95,342.959 2290.95,152.472 \"/>\n",
       "<polyline clip-path=\"url(#clip692)\" style=\"stroke:#3da44d; stroke-linecap:round; stroke-linejoin:round; stroke-width:4; stroke-opacity:1; fill:none\" points=\"230.922,747.579 333.924,913.221 436.926,1028.22 539.927,1062.48 642.929,1109.32 745.93,1190.03 848.932,1268.04 951.934,1307.07 1054.94,1303.22 1157.94,1279.14 1260.94,1257.96 1363.94,1241.41 1466.94,1208.79 1569.94,1137.62 1672.95,1030.66 1775.95,924.218 1878.95,857.028 1981.95,804.128 2084.95,633.711 2187.95,233.896 2290.95,87.9763 \"/>\n",
       "<path clip-path=\"url(#clip690)\" d=\"M241.909 302.578 L513.282 302.578 L513.282 95.2176 L241.909 95.2176  Z\" fill=\"#ffffff\" fill-rule=\"evenodd\" fill-opacity=\"1\"/>\n",
       "<polyline clip-path=\"url(#clip690)\" style=\"stroke:#000000; stroke-linecap:round; stroke-linejoin:round; stroke-width:4; stroke-opacity:1; fill:none\" points=\"241.909,302.578 513.282,302.578 513.282,95.2176 241.909,95.2176 241.909,302.578 \"/>\n",
       "<circle clip-path=\"url(#clip690)\" cx=\"338.96\" cy=\"147.058\" r=\"23.04\" fill=\"#009af9\" fill-rule=\"evenodd\" fill-opacity=\"1\" stroke=\"#000000\" stroke-opacity=\"1\" stroke-width=\"5.12\"/>\n",
       "<path clip-path=\"url(#clip690)\" d=\"M449.853 166.745 Q448.047 171.375 446.334 172.787 Q444.621 174.199 441.751 174.199 L438.348 174.199 L438.348 170.634 L440.848 170.634 Q442.607 170.634 443.579 169.8 Q444.552 168.967 445.732 165.865 L446.496 163.921 L436.01 138.412 L440.524 138.412 L448.626 158.689 L456.727 138.412 L461.241 138.412 L449.853 166.745 Z\" fill=\"#000000\" fill-rule=\"evenodd\" fill-opacity=\"1\" /><path clip-path=\"url(#clip690)\" d=\"M468.533 160.402 L476.172 160.402 L476.172 134.037 L467.862 135.703 L467.862 131.444 L476.126 129.778 L480.801 129.778 L480.801 160.402 L488.44 160.402 L488.44 164.338 L468.533 164.338 L468.533 160.402 Z\" fill=\"#000000\" fill-rule=\"evenodd\" fill-opacity=\"1\" /><polyline clip-path=\"url(#clip690)\" style=\"stroke:#e26f46; stroke-linecap:round; stroke-linejoin:round; stroke-width:4; stroke-opacity:1; fill:none\" points=\"266.172,198.898 411.747,198.898 \"/>\n",
       "<path clip-path=\"url(#clip690)\" d=\"M449.853 218.585 Q448.047 223.215 446.334 224.627 Q444.621 226.039 441.751 226.039 L438.348 226.039 L438.348 222.474 L440.848 222.474 Q442.607 222.474 443.579 221.64 Q444.552 220.807 445.732 217.705 L446.496 215.761 L436.01 190.252 L440.524 190.252 L448.626 210.529 L456.727 190.252 L461.241 190.252 L449.853 218.585 Z\" fill=\"#000000\" fill-rule=\"evenodd\" fill-opacity=\"1\" /><path clip-path=\"url(#clip690)\" d=\"M471.751 212.242 L488.07 212.242 L488.07 216.178 L466.126 216.178 L466.126 212.242 Q468.788 209.488 473.371 204.858 Q477.977 200.205 479.158 198.863 Q481.403 196.34 482.283 194.604 Q483.186 192.844 483.186 191.155 Q483.186 188.4 481.241 186.664 Q479.32 184.928 476.218 184.928 Q474.019 184.928 471.565 185.692 Q469.135 186.455 466.357 188.006 L466.357 183.284 Q469.181 182.15 471.635 181.571 Q474.088 180.993 476.126 180.993 Q481.496 180.993 484.69 183.678 Q487.885 186.363 487.885 190.854 Q487.885 192.983 487.075 194.905 Q486.287 196.803 484.181 199.395 Q483.602 200.067 480.5 203.284 Q477.399 206.479 471.751 212.242 Z\" fill=\"#000000\" fill-rule=\"evenodd\" fill-opacity=\"1\" /><polyline clip-path=\"url(#clip690)\" style=\"stroke:#3da44d; stroke-linecap:round; stroke-linejoin:round; stroke-width:4; stroke-opacity:1; fill:none\" points=\"266.172,250.738 411.747,250.738 \"/>\n",
       "<path clip-path=\"url(#clip690)\" d=\"M449.853 270.425 Q448.047 275.055 446.334 276.467 Q444.621 277.879 441.751 277.879 L438.348 277.879 L438.348 274.314 L440.848 274.314 Q442.607 274.314 443.579 273.48 Q444.552 272.647 445.732 269.545 L446.496 267.601 L436.01 242.092 L440.524 242.092 L448.626 262.369 L456.727 242.092 L461.241 242.092 L449.853 270.425 Z\" fill=\"#000000\" fill-rule=\"evenodd\" fill-opacity=\"1\" /><path clip-path=\"url(#clip690)\" d=\"M481.889 249.383 Q485.246 250.101 487.121 252.369 Q489.019 254.638 489.019 257.971 Q489.019 263.087 485.5 265.888 Q481.982 268.689 475.501 268.689 Q473.325 268.689 471.01 268.249 Q468.718 267.832 466.264 266.976 L466.264 262.462 Q468.209 263.596 470.524 264.175 Q472.838 264.754 475.362 264.754 Q479.76 264.754 482.051 263.018 Q484.366 261.281 484.366 257.971 Q484.366 254.916 482.213 253.203 Q480.084 251.467 476.264 251.467 L472.237 251.467 L472.237 247.624 L476.45 247.624 Q479.899 247.624 481.727 246.258 Q483.556 244.87 483.556 242.277 Q483.556 239.615 481.658 238.203 Q479.783 236.768 476.264 236.768 Q474.343 236.768 472.144 237.184 Q469.945 237.601 467.306 238.481 L467.306 234.314 Q469.968 233.573 472.283 233.203 Q474.621 232.833 476.681 232.833 Q482.005 232.833 485.107 235.263 Q488.209 237.67 488.209 241.791 Q488.209 244.661 486.565 246.652 Q484.922 248.62 481.889 249.383 Z\" fill=\"#000000\" fill-rule=\"evenodd\" fill-opacity=\"1\" /></svg>\n"
      ]
     },
     "execution_count": 68,
     "metadata": {},
     "output_type": "execute_result"
    }
   ],
   "source": [
    "scatter(x,y_observed)\n",
    "plot!(x,y_true)\n",
    "plot!(x,fit(x,y_observed,10).(x))"
   ]
  },
  {
   "cell_type": "markdown",
   "id": "36028ee0",
   "metadata": {},
   "source": [
    "### 2.6\n",
    "\n",
    "1. Create a new independent parameter x_fit ranging from -11 to 11 with an increment of 0.1\n",
    "2. Plot the same three plots as in 2.3 again but apply the tenth order polynomial to x_fit instead of x\n"
   ]
  },
  {
   "cell_type": "code",
   "execution_count": 69,
   "id": "6c67a977",
   "metadata": {},
   "outputs": [
    {
     "data": {
      "image/svg+xml": [
       "<?xml version=\"1.0\" encoding=\"utf-8\"?>\n",
       "<svg xmlns=\"http://www.w3.org/2000/svg\" xmlns:xlink=\"http://www.w3.org/1999/xlink\" width=\"600\" height=\"400\" viewBox=\"0 0 2400 1600\">\n",
       "<defs>\n",
       "  <clipPath id=\"clip730\">\n",
       "    <rect x=\"0\" y=\"0\" width=\"2400\" height=\"1600\"/>\n",
       "  </clipPath>\n",
       "</defs>\n",
       "<path clip-path=\"url(#clip730)\" d=\"M0 1600 L2400 1600 L2400 0 L0 0  Z\" fill=\"#ffffff\" fill-rule=\"evenodd\" fill-opacity=\"1\"/>\n",
       "<defs>\n",
       "  <clipPath id=\"clip731\">\n",
       "    <rect x=\"480\" y=\"0\" width=\"1681\" height=\"1600\"/>\n",
       "  </clipPath>\n",
       "</defs>\n",
       "<path clip-path=\"url(#clip730)\" d=\"M209.029 1486.45 L2352.76 1486.45 L2352.76 47.2441 L209.029 47.2441  Z\" fill=\"#ffffff\" fill-rule=\"evenodd\" fill-opacity=\"1\"/>\n",
       "<defs>\n",
       "  <clipPath id=\"clip732\">\n",
       "    <rect x=\"209\" y=\"47\" width=\"2145\" height=\"1440\"/>\n",
       "  </clipPath>\n",
       "</defs>\n",
       "<polyline clip-path=\"url(#clip732)\" style=\"stroke:#000000; stroke-linecap:round; stroke-linejoin:round; stroke-width:2; stroke-opacity:0.1; fill:none\" points=\"361.627,1486.45 361.627,47.2441 \"/>\n",
       "<polyline clip-path=\"url(#clip732)\" style=\"stroke:#000000; stroke-linecap:round; stroke-linejoin:round; stroke-width:2; stroke-opacity:0.1; fill:none\" points=\"821.259,1486.45 821.259,47.2441 \"/>\n",
       "<polyline clip-path=\"url(#clip732)\" style=\"stroke:#000000; stroke-linecap:round; stroke-linejoin:round; stroke-width:2; stroke-opacity:0.1; fill:none\" points=\"1280.89,1486.45 1280.89,47.2441 \"/>\n",
       "<polyline clip-path=\"url(#clip732)\" style=\"stroke:#000000; stroke-linecap:round; stroke-linejoin:round; stroke-width:2; stroke-opacity:0.1; fill:none\" points=\"1740.53,1486.45 1740.53,47.2441 \"/>\n",
       "<polyline clip-path=\"url(#clip732)\" style=\"stroke:#000000; stroke-linecap:round; stroke-linejoin:round; stroke-width:2; stroke-opacity:0.1; fill:none\" points=\"2200.16,1486.45 2200.16,47.2441 \"/>\n",
       "<polyline clip-path=\"url(#clip730)\" style=\"stroke:#000000; stroke-linecap:round; stroke-linejoin:round; stroke-width:4; stroke-opacity:1; fill:none\" points=\"209.029,1486.45 2352.76,1486.45 \"/>\n",
       "<polyline clip-path=\"url(#clip730)\" style=\"stroke:#000000; stroke-linecap:round; stroke-linejoin:round; stroke-width:4; stroke-opacity:1; fill:none\" points=\"361.627,1486.45 361.627,1467.55 \"/>\n",
       "<polyline clip-path=\"url(#clip730)\" style=\"stroke:#000000; stroke-linecap:round; stroke-linejoin:round; stroke-width:4; stroke-opacity:1; fill:none\" points=\"821.259,1486.45 821.259,1467.55 \"/>\n",
       "<polyline clip-path=\"url(#clip730)\" style=\"stroke:#000000; stroke-linecap:round; stroke-linejoin:round; stroke-width:4; stroke-opacity:1; fill:none\" points=\"1280.89,1486.45 1280.89,1467.55 \"/>\n",
       "<polyline clip-path=\"url(#clip730)\" style=\"stroke:#000000; stroke-linecap:round; stroke-linejoin:round; stroke-width:4; stroke-opacity:1; fill:none\" points=\"1740.53,1486.45 1740.53,1467.55 \"/>\n",
       "<polyline clip-path=\"url(#clip730)\" style=\"stroke:#000000; stroke-linecap:round; stroke-linejoin:round; stroke-width:4; stroke-opacity:1; fill:none\" points=\"2200.16,1486.45 2200.16,1467.55 \"/>\n",
       "<path clip-path=\"url(#clip730)\" d=\"M315.689 1532.02 L345.365 1532.02 L345.365 1535.95 L315.689 1535.95 L315.689 1532.02 Z\" fill=\"#000000\" fill-rule=\"evenodd\" fill-opacity=\"1\" /><path clip-path=\"url(#clip730)\" d=\"M356.268 1544.91 L363.907 1544.91 L363.907 1518.55 L355.597 1520.21 L355.597 1515.95 L363.86 1514.29 L368.536 1514.29 L368.536 1544.91 L376.175 1544.91 L376.175 1548.85 L356.268 1548.85 L356.268 1544.91 Z\" fill=\"#000000\" fill-rule=\"evenodd\" fill-opacity=\"1\" /><path clip-path=\"url(#clip730)\" d=\"M395.619 1517.37 Q392.008 1517.37 390.18 1520.93 Q388.374 1524.47 388.374 1531.6 Q388.374 1538.71 390.18 1542.27 Q392.008 1545.82 395.619 1545.82 Q399.254 1545.82 401.059 1542.27 Q402.888 1538.71 402.888 1531.6 Q402.888 1524.47 401.059 1520.93 Q399.254 1517.37 395.619 1517.37 M395.619 1513.66 Q401.43 1513.66 404.485 1518.27 Q407.564 1522.85 407.564 1531.6 Q407.564 1540.33 404.485 1544.94 Q401.43 1549.52 395.619 1549.52 Q389.809 1549.52 386.731 1544.94 Q383.675 1540.33 383.675 1531.6 Q383.675 1522.85 386.731 1518.27 Q389.809 1513.66 395.619 1513.66 Z\" fill=\"#000000\" fill-rule=\"evenodd\" fill-opacity=\"1\" /><path clip-path=\"url(#clip730)\" d=\"M790.901 1532.02 L820.577 1532.02 L820.577 1535.95 L790.901 1535.95 L790.901 1532.02 Z\" fill=\"#000000\" fill-rule=\"evenodd\" fill-opacity=\"1\" /><path clip-path=\"url(#clip730)\" d=\"M830.715 1514.29 L849.072 1514.29 L849.072 1518.22 L834.998 1518.22 L834.998 1526.7 Q836.016 1526.35 837.035 1526.19 Q838.053 1526 839.072 1526 Q844.859 1526 848.238 1529.17 Q851.618 1532.34 851.618 1537.76 Q851.618 1543.34 848.146 1546.44 Q844.674 1549.52 838.354 1549.52 Q836.178 1549.52 833.91 1549.15 Q831.664 1548.78 829.257 1548.04 L829.257 1543.34 Q831.34 1544.47 833.563 1545.03 Q835.785 1545.58 838.262 1545.58 Q842.266 1545.58 844.604 1543.48 Q846.942 1541.37 846.942 1537.76 Q846.942 1534.15 844.604 1532.04 Q842.266 1529.94 838.262 1529.94 Q836.387 1529.94 834.512 1530.35 Q832.66 1530.77 830.715 1531.65 L830.715 1514.29 Z\" fill=\"#000000\" fill-rule=\"evenodd\" fill-opacity=\"1\" /><path clip-path=\"url(#clip730)\" d=\"M1280.89 1517.37 Q1277.28 1517.37 1275.45 1520.93 Q1273.65 1524.47 1273.65 1531.6 Q1273.65 1538.71 1275.45 1542.27 Q1277.28 1545.82 1280.89 1545.82 Q1284.53 1545.82 1286.33 1542.27 Q1288.16 1538.71 1288.16 1531.6 Q1288.16 1524.47 1286.33 1520.93 Q1284.53 1517.37 1280.89 1517.37 M1280.89 1513.66 Q1286.7 1513.66 1289.76 1518.27 Q1292.84 1522.85 1292.84 1531.6 Q1292.84 1540.33 1289.76 1544.94 Q1286.7 1549.52 1280.89 1549.52 Q1275.08 1549.52 1272 1544.94 Q1268.95 1540.33 1268.95 1531.6 Q1268.95 1522.85 1272 1518.27 Q1275.08 1513.66 1280.89 1513.66 Z\" fill=\"#000000\" fill-rule=\"evenodd\" fill-opacity=\"1\" /><path clip-path=\"url(#clip730)\" d=\"M1730.8 1514.29 L1749.16 1514.29 L1749.16 1518.22 L1735.09 1518.22 L1735.09 1526.7 Q1736.1 1526.35 1737.12 1526.19 Q1738.14 1526 1739.16 1526 Q1744.95 1526 1748.33 1529.17 Q1751.71 1532.34 1751.71 1537.76 Q1751.71 1543.34 1748.23 1546.44 Q1744.76 1549.52 1738.44 1549.52 Q1736.27 1549.52 1734 1549.15 Q1731.75 1548.78 1729.34 1548.04 L1729.34 1543.34 Q1731.43 1544.47 1733.65 1545.03 Q1735.87 1545.58 1738.35 1545.58 Q1742.35 1545.58 1744.69 1543.48 Q1747.03 1541.37 1747.03 1537.76 Q1747.03 1534.15 1744.69 1532.04 Q1742.35 1529.94 1738.35 1529.94 Q1736.47 1529.94 1734.6 1530.35 Q1732.75 1530.77 1730.8 1531.65 L1730.8 1514.29 Z\" fill=\"#000000\" fill-rule=\"evenodd\" fill-opacity=\"1\" /><path clip-path=\"url(#clip730)\" d=\"M2174.85 1544.91 L2182.48 1544.91 L2182.48 1518.55 L2174.17 1520.21 L2174.17 1515.95 L2182.44 1514.29 L2187.11 1514.29 L2187.11 1544.91 L2194.75 1544.91 L2194.75 1548.85 L2174.85 1548.85 L2174.85 1544.91 Z\" fill=\"#000000\" fill-rule=\"evenodd\" fill-opacity=\"1\" /><path clip-path=\"url(#clip730)\" d=\"M2214.2 1517.37 Q2210.59 1517.37 2208.76 1520.93 Q2206.95 1524.47 2206.95 1531.6 Q2206.95 1538.71 2208.76 1542.27 Q2210.59 1545.82 2214.2 1545.82 Q2217.83 1545.82 2219.64 1542.27 Q2221.47 1538.71 2221.47 1531.6 Q2221.47 1524.47 2219.64 1520.93 Q2217.83 1517.37 2214.2 1517.37 M2214.2 1513.66 Q2220.01 1513.66 2223.06 1518.27 Q2226.14 1522.85 2226.14 1531.6 Q2226.14 1540.33 2223.06 1544.94 Q2220.01 1549.52 2214.2 1549.52 Q2208.39 1549.52 2205.31 1544.94 Q2202.25 1540.33 2202.25 1531.6 Q2202.25 1522.85 2205.31 1518.27 Q2208.39 1513.66 2214.2 1513.66 Z\" fill=\"#000000\" fill-rule=\"evenodd\" fill-opacity=\"1\" /><polyline clip-path=\"url(#clip732)\" style=\"stroke:#000000; stroke-linecap:round; stroke-linejoin:round; stroke-width:2; stroke-opacity:0.1; fill:none\" points=\"209.029,1347.35 2352.76,1347.35 \"/>\n",
       "<polyline clip-path=\"url(#clip732)\" style=\"stroke:#000000; stroke-linecap:round; stroke-linejoin:round; stroke-width:2; stroke-opacity:0.1; fill:none\" points=\"209.029,1132.92 2352.76,1132.92 \"/>\n",
       "<polyline clip-path=\"url(#clip732)\" style=\"stroke:#000000; stroke-linecap:round; stroke-linejoin:round; stroke-width:2; stroke-opacity:0.1; fill:none\" points=\"209.029,918.499 2352.76,918.499 \"/>\n",
       "<polyline clip-path=\"url(#clip732)\" style=\"stroke:#000000; stroke-linecap:round; stroke-linejoin:round; stroke-width:2; stroke-opacity:0.1; fill:none\" points=\"209.029,704.073 2352.76,704.073 \"/>\n",
       "<polyline clip-path=\"url(#clip732)\" style=\"stroke:#000000; stroke-linecap:round; stroke-linejoin:round; stroke-width:2; stroke-opacity:0.1; fill:none\" points=\"209.029,489.647 2352.76,489.647 \"/>\n",
       "<polyline clip-path=\"url(#clip732)\" style=\"stroke:#000000; stroke-linecap:round; stroke-linejoin:round; stroke-width:2; stroke-opacity:0.1; fill:none\" points=\"209.029,275.221 2352.76,275.221 \"/>\n",
       "<polyline clip-path=\"url(#clip732)\" style=\"stroke:#000000; stroke-linecap:round; stroke-linejoin:round; stroke-width:2; stroke-opacity:0.1; fill:none\" points=\"209.029,60.7958 2352.76,60.7958 \"/>\n",
       "<polyline clip-path=\"url(#clip730)\" style=\"stroke:#000000; stroke-linecap:round; stroke-linejoin:round; stroke-width:4; stroke-opacity:1; fill:none\" points=\"209.029,1486.45 209.029,47.2441 \"/>\n",
       "<polyline clip-path=\"url(#clip730)\" style=\"stroke:#000000; stroke-linecap:round; stroke-linejoin:round; stroke-width:4; stroke-opacity:1; fill:none\" points=\"209.029,1347.35 227.926,1347.35 \"/>\n",
       "<polyline clip-path=\"url(#clip730)\" style=\"stroke:#000000; stroke-linecap:round; stroke-linejoin:round; stroke-width:4; stroke-opacity:1; fill:none\" points=\"209.029,1132.92 227.926,1132.92 \"/>\n",
       "<polyline clip-path=\"url(#clip730)\" style=\"stroke:#000000; stroke-linecap:round; stroke-linejoin:round; stroke-width:4; stroke-opacity:1; fill:none\" points=\"209.029,918.499 227.926,918.499 \"/>\n",
       "<polyline clip-path=\"url(#clip730)\" style=\"stroke:#000000; stroke-linecap:round; stroke-linejoin:round; stroke-width:4; stroke-opacity:1; fill:none\" points=\"209.029,704.073 227.926,704.073 \"/>\n",
       "<polyline clip-path=\"url(#clip730)\" style=\"stroke:#000000; stroke-linecap:round; stroke-linejoin:round; stroke-width:4; stroke-opacity:1; fill:none\" points=\"209.029,489.647 227.926,489.647 \"/>\n",
       "<polyline clip-path=\"url(#clip730)\" style=\"stroke:#000000; stroke-linecap:round; stroke-linejoin:round; stroke-width:4; stroke-opacity:1; fill:none\" points=\"209.029,275.221 227.926,275.221 \"/>\n",
       "<polyline clip-path=\"url(#clip730)\" style=\"stroke:#000000; stroke-linecap:round; stroke-linejoin:round; stroke-width:4; stroke-opacity:1; fill:none\" points=\"209.029,60.7958 227.926,60.7958 \"/>\n",
       "<path clip-path=\"url(#clip730)\" d=\"M50.9921 1347.8 L80.6679 1347.8 L80.6679 1351.74 L50.9921 1351.74 L50.9921 1347.8 Z\" fill=\"#000000\" fill-rule=\"evenodd\" fill-opacity=\"1\" /><path clip-path=\"url(#clip730)\" d=\"M91.5706 1360.69 L99.2095 1360.69 L99.2095 1334.33 L90.8993 1336 L90.8993 1331.74 L99.1632 1330.07 L103.839 1330.07 L103.839 1360.69 L111.478 1360.69 L111.478 1364.63 L91.5706 1364.63 L91.5706 1360.69 Z\" fill=\"#000000\" fill-rule=\"evenodd\" fill-opacity=\"1\" /><path clip-path=\"url(#clip730)\" d=\"M120.969 1330.07 L139.325 1330.07 L139.325 1334.01 L125.251 1334.01 L125.251 1342.48 Q126.27 1342.13 127.288 1341.97 Q128.307 1341.78 129.325 1341.78 Q135.112 1341.78 138.492 1344.95 Q141.871 1348.13 141.871 1353.54 Q141.871 1359.12 138.399 1362.22 Q134.927 1365.3 128.607 1365.3 Q126.432 1365.3 124.163 1364.93 Q121.918 1364.56 119.51 1363.82 L119.51 1359.12 Q121.594 1360.25 123.816 1360.81 Q126.038 1361.37 128.515 1361.37 Q132.519 1361.37 134.857 1359.26 Q137.195 1357.15 137.195 1353.54 Q137.195 1349.93 134.857 1347.82 Q132.519 1345.72 128.515 1345.72 Q126.64 1345.72 124.765 1346.13 Q122.913 1346.55 120.969 1347.43 L120.969 1330.07 Z\" fill=\"#000000\" fill-rule=\"evenodd\" fill-opacity=\"1\" /><path clip-path=\"url(#clip730)\" d=\"M161.084 1333.15 Q157.473 1333.15 155.644 1336.71 Q153.839 1340.26 153.839 1347.38 Q153.839 1354.49 155.644 1358.06 Q157.473 1361.6 161.084 1361.6 Q164.718 1361.6 166.524 1358.06 Q168.353 1354.49 168.353 1347.38 Q168.353 1340.26 166.524 1336.71 Q164.718 1333.15 161.084 1333.15 M161.084 1329.44 Q166.894 1329.44 169.95 1334.05 Q173.029 1338.63 173.029 1347.38 Q173.029 1356.11 169.95 1360.72 Q166.894 1365.3 161.084 1365.3 Q155.274 1365.3 152.195 1360.72 Q149.14 1356.11 149.14 1347.38 Q149.14 1338.63 152.195 1334.05 Q155.274 1329.44 161.084 1329.44 Z\" fill=\"#000000\" fill-rule=\"evenodd\" fill-opacity=\"1\" /><path clip-path=\"url(#clip730)\" d=\"M50.9921 1133.38 L80.6679 1133.38 L80.6679 1137.31 L50.9921 1137.31 L50.9921 1133.38 Z\" fill=\"#000000\" fill-rule=\"evenodd\" fill-opacity=\"1\" /><path clip-path=\"url(#clip730)\" d=\"M91.5706 1146.27 L99.2095 1146.27 L99.2095 1119.9 L90.8993 1121.57 L90.8993 1117.31 L99.1632 1115.64 L103.839 1115.64 L103.839 1146.27 L111.478 1146.27 L111.478 1150.2 L91.5706 1150.2 L91.5706 1146.27 Z\" fill=\"#000000\" fill-rule=\"evenodd\" fill-opacity=\"1\" /><path clip-path=\"url(#clip730)\" d=\"M130.922 1118.72 Q127.311 1118.72 125.482 1122.29 Q123.677 1125.83 123.677 1132.96 Q123.677 1140.07 125.482 1143.63 Q127.311 1147.17 130.922 1147.17 Q134.556 1147.17 136.362 1143.63 Q138.191 1140.07 138.191 1132.96 Q138.191 1125.83 136.362 1122.29 Q134.556 1118.72 130.922 1118.72 M130.922 1115.02 Q136.732 1115.02 139.788 1119.63 Q142.867 1124.21 142.867 1132.96 Q142.867 1141.69 139.788 1146.29 Q136.732 1150.88 130.922 1150.88 Q125.112 1150.88 122.033 1146.29 Q118.978 1141.69 118.978 1132.96 Q118.978 1124.21 122.033 1119.63 Q125.112 1115.02 130.922 1115.02 Z\" fill=\"#000000\" fill-rule=\"evenodd\" fill-opacity=\"1\" /><path clip-path=\"url(#clip730)\" d=\"M161.084 1118.72 Q157.473 1118.72 155.644 1122.29 Q153.839 1125.83 153.839 1132.96 Q153.839 1140.07 155.644 1143.63 Q157.473 1147.17 161.084 1147.17 Q164.718 1147.17 166.524 1143.63 Q168.353 1140.07 168.353 1132.96 Q168.353 1125.83 166.524 1122.29 Q164.718 1118.72 161.084 1118.72 M161.084 1115.02 Q166.894 1115.02 169.95 1119.63 Q173.029 1124.21 173.029 1132.96 Q173.029 1141.69 169.95 1146.29 Q166.894 1150.88 161.084 1150.88 Q155.274 1150.88 152.195 1146.29 Q149.14 1141.69 149.14 1132.96 Q149.14 1124.21 152.195 1119.63 Q155.274 1115.02 161.084 1115.02 Z\" fill=\"#000000\" fill-rule=\"evenodd\" fill-opacity=\"1\" /><path clip-path=\"url(#clip730)\" d=\"M81.154 918.95 L110.83 918.95 L110.83 922.885 L81.154 922.885 L81.154 918.95 Z\" fill=\"#000000\" fill-rule=\"evenodd\" fill-opacity=\"1\" /><path clip-path=\"url(#clip730)\" d=\"M120.969 901.219 L139.325 901.219 L139.325 905.154 L125.251 905.154 L125.251 913.626 Q126.27 913.279 127.288 913.117 Q128.307 912.931 129.325 912.931 Q135.112 912.931 138.492 916.103 Q141.871 919.274 141.871 924.691 Q141.871 930.269 138.399 933.371 Q134.927 936.45 128.607 936.45 Q126.432 936.45 124.163 936.08 Q121.918 935.709 119.51 934.968 L119.51 930.269 Q121.594 931.404 123.816 931.959 Q126.038 932.515 128.515 932.515 Q132.519 932.515 134.857 930.408 Q137.195 928.302 137.195 924.691 Q137.195 921.08 134.857 918.973 Q132.519 916.867 128.515 916.867 Q126.64 916.867 124.765 917.283 Q122.913 917.7 120.969 918.58 L120.969 901.219 Z\" fill=\"#000000\" fill-rule=\"evenodd\" fill-opacity=\"1\" /><path clip-path=\"url(#clip730)\" d=\"M161.084 904.297 Q157.473 904.297 155.644 907.862 Q153.839 911.404 153.839 918.533 Q153.839 925.64 155.644 929.205 Q157.473 932.746 161.084 932.746 Q164.718 932.746 166.524 929.205 Q168.353 925.64 168.353 918.533 Q168.353 911.404 166.524 907.862 Q164.718 904.297 161.084 904.297 M161.084 900.594 Q166.894 900.594 169.95 905.2 Q173.029 909.783 173.029 918.533 Q173.029 927.26 169.95 931.867 Q166.894 936.45 161.084 936.45 Q155.274 936.45 152.195 931.867 Q149.14 927.26 149.14 918.533 Q149.14 909.783 152.195 905.2 Q155.274 900.594 161.084 900.594 Z\" fill=\"#000000\" fill-rule=\"evenodd\" fill-opacity=\"1\" /><path clip-path=\"url(#clip730)\" d=\"M161.084 689.872 Q157.473 689.872 155.644 693.436 Q153.839 696.978 153.839 704.108 Q153.839 711.214 155.644 714.779 Q157.473 718.32 161.084 718.32 Q164.718 718.32 166.524 714.779 Q168.353 711.214 168.353 704.108 Q168.353 696.978 166.524 693.436 Q164.718 689.872 161.084 689.872 M161.084 686.168 Q166.894 686.168 169.95 690.774 Q173.029 695.358 173.029 704.108 Q173.029 712.834 169.95 717.441 Q166.894 722.024 161.084 722.024 Q155.274 722.024 152.195 717.441 Q149.14 712.834 149.14 704.108 Q149.14 695.358 152.195 690.774 Q155.274 686.168 161.084 686.168 Z\" fill=\"#000000\" fill-rule=\"evenodd\" fill-opacity=\"1\" /><path clip-path=\"url(#clip730)\" d=\"M120.969 472.367 L139.325 472.367 L139.325 476.302 L125.251 476.302 L125.251 484.775 Q126.27 484.427 127.288 484.265 Q128.307 484.08 129.325 484.08 Q135.112 484.08 138.492 487.251 Q141.871 490.423 141.871 495.839 Q141.871 501.418 138.399 504.52 Q134.927 507.598 128.607 507.598 Q126.432 507.598 124.163 507.228 Q121.918 506.858 119.51 506.117 L119.51 501.418 Q121.594 502.552 123.816 503.108 Q126.038 503.663 128.515 503.663 Q132.519 503.663 134.857 501.557 Q137.195 499.45 137.195 495.839 Q137.195 492.228 134.857 490.122 Q132.519 488.015 128.515 488.015 Q126.64 488.015 124.765 488.432 Q122.913 488.849 120.969 489.728 L120.969 472.367 Z\" fill=\"#000000\" fill-rule=\"evenodd\" fill-opacity=\"1\" /><path clip-path=\"url(#clip730)\" d=\"M161.084 475.446 Q157.473 475.446 155.644 479.011 Q153.839 482.552 153.839 489.682 Q153.839 496.788 155.644 500.353 Q157.473 503.895 161.084 503.895 Q164.718 503.895 166.524 500.353 Q168.353 496.788 168.353 489.682 Q168.353 482.552 166.524 479.011 Q164.718 475.446 161.084 475.446 M161.084 471.742 Q166.894 471.742 169.95 476.349 Q173.029 480.932 173.029 489.682 Q173.029 498.409 169.95 503.015 Q166.894 507.598 161.084 507.598 Q155.274 507.598 152.195 503.015 Q149.14 498.409 149.14 489.682 Q149.14 480.932 152.195 476.349 Q155.274 471.742 161.084 471.742 Z\" fill=\"#000000\" fill-rule=\"evenodd\" fill-opacity=\"1\" /><path clip-path=\"url(#clip730)\" d=\"M91.5706 288.566 L99.2095 288.566 L99.2095 262.201 L90.8993 263.867 L90.8993 259.608 L99.1632 257.941 L103.839 257.941 L103.839 288.566 L111.478 288.566 L111.478 292.501 L91.5706 292.501 L91.5706 288.566 Z\" fill=\"#000000\" fill-rule=\"evenodd\" fill-opacity=\"1\" /><path clip-path=\"url(#clip730)\" d=\"M130.922 261.02 Q127.311 261.02 125.482 264.585 Q123.677 268.127 123.677 275.256 Q123.677 282.363 125.482 285.927 Q127.311 289.469 130.922 289.469 Q134.556 289.469 136.362 285.927 Q138.191 282.363 138.191 275.256 Q138.191 268.127 136.362 264.585 Q134.556 261.02 130.922 261.02 M130.922 257.316 Q136.732 257.316 139.788 261.923 Q142.867 266.506 142.867 275.256 Q142.867 283.983 139.788 288.589 Q136.732 293.173 130.922 293.173 Q125.112 293.173 122.033 288.589 Q118.978 283.983 118.978 275.256 Q118.978 266.506 122.033 261.923 Q125.112 257.316 130.922 257.316 Z\" fill=\"#000000\" fill-rule=\"evenodd\" fill-opacity=\"1\" /><path clip-path=\"url(#clip730)\" d=\"M161.084 261.02 Q157.473 261.02 155.644 264.585 Q153.839 268.127 153.839 275.256 Q153.839 282.363 155.644 285.927 Q157.473 289.469 161.084 289.469 Q164.718 289.469 166.524 285.927 Q168.353 282.363 168.353 275.256 Q168.353 268.127 166.524 264.585 Q164.718 261.02 161.084 261.02 M161.084 257.316 Q166.894 257.316 169.95 261.923 Q173.029 266.506 173.029 275.256 Q173.029 283.983 169.95 288.589 Q166.894 293.173 161.084 293.173 Q155.274 293.173 152.195 288.589 Q149.14 283.983 149.14 275.256 Q149.14 266.506 152.195 261.923 Q155.274 257.316 161.084 257.316 Z\" fill=\"#000000\" fill-rule=\"evenodd\" fill-opacity=\"1\" /><path clip-path=\"url(#clip730)\" d=\"M91.5706 74.1406 L99.2095 74.1406 L99.2095 47.775 L90.8993 49.4417 L90.8993 45.1824 L99.1632 43.5158 L103.839 43.5158 L103.839 74.1406 L111.478 74.1406 L111.478 78.0758 L91.5706 78.0758 L91.5706 74.1406 Z\" fill=\"#000000\" fill-rule=\"evenodd\" fill-opacity=\"1\" /><path clip-path=\"url(#clip730)\" d=\"M120.969 43.5158 L139.325 43.5158 L139.325 47.451 L125.251 47.451 L125.251 55.9231 Q126.27 55.5759 127.288 55.4139 Q128.307 55.2287 129.325 55.2287 Q135.112 55.2287 138.492 58.4 Q141.871 61.5713 141.871 66.9879 Q141.871 72.5666 138.399 75.6684 Q134.927 78.7471 128.607 78.7471 Q126.432 78.7471 124.163 78.3767 Q121.918 78.0063 119.51 77.2656 L119.51 72.5666 Q121.594 73.7008 123.816 74.2564 Q126.038 74.8119 128.515 74.8119 Q132.519 74.8119 134.857 72.7054 Q137.195 70.599 137.195 66.9879 Q137.195 63.3768 134.857 61.2703 Q132.519 59.1639 128.515 59.1639 Q126.64 59.1639 124.765 59.5805 Q122.913 59.9972 120.969 60.8768 L120.969 43.5158 Z\" fill=\"#000000\" fill-rule=\"evenodd\" fill-opacity=\"1\" /><path clip-path=\"url(#clip730)\" d=\"M161.084 46.5945 Q157.473 46.5945 155.644 50.1593 Q153.839 53.7009 153.839 60.8305 Q153.839 67.937 155.644 71.5018 Q157.473 75.0434 161.084 75.0434 Q164.718 75.0434 166.524 71.5018 Q168.353 67.937 168.353 60.8305 Q168.353 53.7009 166.524 50.1593 Q164.718 46.5945 161.084 46.5945 M161.084 42.8908 Q166.894 42.8908 169.95 47.4973 Q173.029 52.0806 173.029 60.8305 Q173.029 69.5573 169.95 74.1638 Q166.894 78.7471 161.084 78.7471 Q155.274 78.7471 152.195 74.1638 Q149.14 69.5573 149.14 60.8305 Q149.14 52.0806 152.195 47.4973 Q155.274 42.8908 161.084 42.8908 Z\" fill=\"#000000\" fill-rule=\"evenodd\" fill-opacity=\"1\" /><circle clip-path=\"url(#clip732)\" cx=\"361.627\" cy=\"449.344\" r=\"14.4\" fill=\"#009af9\" fill-rule=\"evenodd\" fill-opacity=\"1\" stroke=\"#000000\" stroke-opacity=\"1\" stroke-width=\"3.2\"/>\n",
       "<circle clip-path=\"url(#clip732)\" cx=\"453.553\" cy=\"535.407\" r=\"14.4\" fill=\"#009af9\" fill-rule=\"evenodd\" fill-opacity=\"1\" stroke=\"#000000\" stroke-opacity=\"1\" stroke-width=\"3.2\"/>\n",
       "<circle clip-path=\"url(#clip732)\" cx=\"545.48\" cy=\"579.661\" r=\"14.4\" fill=\"#009af9\" fill-rule=\"evenodd\" fill-opacity=\"1\" stroke=\"#000000\" stroke-opacity=\"1\" stroke-width=\"3.2\"/>\n",
       "<circle clip-path=\"url(#clip732)\" cx=\"637.406\" cy=\"620.333\" r=\"14.4\" fill=\"#009af9\" fill-rule=\"evenodd\" fill-opacity=\"1\" stroke=\"#000000\" stroke-opacity=\"1\" stroke-width=\"3.2\"/>\n",
       "<circle clip-path=\"url(#clip732)\" cx=\"729.333\" cy=\"614.643\" r=\"14.4\" fill=\"#009af9\" fill-rule=\"evenodd\" fill-opacity=\"1\" stroke=\"#000000\" stroke-opacity=\"1\" stroke-width=\"3.2\"/>\n",
       "<circle clip-path=\"url(#clip732)\" cx=\"821.259\" cy=\"670.041\" r=\"14.4\" fill=\"#009af9\" fill-rule=\"evenodd\" fill-opacity=\"1\" stroke=\"#000000\" stroke-opacity=\"1\" stroke-width=\"3.2\"/>\n",
       "<circle clip-path=\"url(#clip732)\" cx=\"913.186\" cy=\"732.054\" r=\"14.4\" fill=\"#009af9\" fill-rule=\"evenodd\" fill-opacity=\"1\" stroke=\"#000000\" stroke-opacity=\"1\" stroke-width=\"3.2\"/>\n",
       "<circle clip-path=\"url(#clip732)\" cx=\"1005.11\" cy=\"705.384\" r=\"14.4\" fill=\"#009af9\" fill-rule=\"evenodd\" fill-opacity=\"1\" stroke=\"#000000\" stroke-opacity=\"1\" stroke-width=\"3.2\"/>\n",
       "<circle clip-path=\"url(#clip732)\" cx=\"1097.04\" cy=\"689.616\" r=\"14.4\" fill=\"#009af9\" fill-rule=\"evenodd\" fill-opacity=\"1\" stroke=\"#000000\" stroke-opacity=\"1\" stroke-width=\"3.2\"/>\n",
       "<circle clip-path=\"url(#clip732)\" cx=\"1188.97\" cy=\"795.68\" r=\"14.4\" fill=\"#009af9\" fill-rule=\"evenodd\" fill-opacity=\"1\" stroke=\"#000000\" stroke-opacity=\"1\" stroke-width=\"3.2\"/>\n",
       "<circle clip-path=\"url(#clip732)\" cx=\"1280.89\" cy=\"645.433\" r=\"14.4\" fill=\"#009af9\" fill-rule=\"evenodd\" fill-opacity=\"1\" stroke=\"#000000\" stroke-opacity=\"1\" stroke-width=\"3.2\"/>\n",
       "<circle clip-path=\"url(#clip732)\" cx=\"1372.82\" cy=\"694.593\" r=\"14.4\" fill=\"#009af9\" fill-rule=\"evenodd\" fill-opacity=\"1\" stroke=\"#000000\" stroke-opacity=\"1\" stroke-width=\"3.2\"/>\n",
       "<circle clip-path=\"url(#clip732)\" cx=\"1464.75\" cy=\"711.389\" r=\"14.4\" fill=\"#009af9\" fill-rule=\"evenodd\" fill-opacity=\"1\" stroke=\"#000000\" stroke-opacity=\"1\" stroke-width=\"3.2\"/>\n",
       "<circle clip-path=\"url(#clip732)\" cx=\"1556.67\" cy=\"615.54\" r=\"14.4\" fill=\"#009af9\" fill-rule=\"evenodd\" fill-opacity=\"1\" stroke=\"#000000\" stroke-opacity=\"1\" stroke-width=\"3.2\"/>\n",
       "<circle clip-path=\"url(#clip732)\" cx=\"1648.6\" cy=\"575.261\" r=\"14.4\" fill=\"#009af9\" fill-rule=\"evenodd\" fill-opacity=\"1\" stroke=\"#000000\" stroke-opacity=\"1\" stroke-width=\"3.2\"/>\n",
       "<circle clip-path=\"url(#clip732)\" cx=\"1740.53\" cy=\"585.929\" r=\"14.4\" fill=\"#009af9\" fill-rule=\"evenodd\" fill-opacity=\"1\" stroke=\"#000000\" stroke-opacity=\"1\" stroke-width=\"3.2\"/>\n",
       "<circle clip-path=\"url(#clip732)\" cx=\"1832.45\" cy=\"476.282\" r=\"14.4\" fill=\"#009af9\" fill-rule=\"evenodd\" fill-opacity=\"1\" stroke=\"#000000\" stroke-opacity=\"1\" stroke-width=\"3.2\"/>\n",
       "<circle clip-path=\"url(#clip732)\" cx=\"1924.38\" cy=\"465.386\" r=\"14.4\" fill=\"#009af9\" fill-rule=\"evenodd\" fill-opacity=\"1\" stroke=\"#000000\" stroke-opacity=\"1\" stroke-width=\"3.2\"/>\n",
       "<circle clip-path=\"url(#clip732)\" cx=\"2016.3\" cy=\"415.655\" r=\"14.4\" fill=\"#009af9\" fill-rule=\"evenodd\" fill-opacity=\"1\" stroke=\"#000000\" stroke-opacity=\"1\" stroke-width=\"3.2\"/>\n",
       "<circle clip-path=\"url(#clip732)\" cx=\"2108.23\" cy=\"185.509\" r=\"14.4\" fill=\"#009af9\" fill-rule=\"evenodd\" fill-opacity=\"1\" stroke=\"#000000\" stroke-opacity=\"1\" stroke-width=\"3.2\"/>\n",
       "<circle clip-path=\"url(#clip732)\" cx=\"2200.16\" cy=\"124.779\" r=\"14.4\" fill=\"#009af9\" fill-rule=\"evenodd\" fill-opacity=\"1\" stroke=\"#000000\" stroke-opacity=\"1\" stroke-width=\"3.2\"/>\n",
       "<polyline clip-path=\"url(#clip732)\" style=\"stroke:#e26f46; stroke-linecap:round; stroke-linejoin:round; stroke-width:4; stroke-opacity:1; fill:none\" points=\"361.627,412.454 453.553,481.07 545.48,541.109 637.406,592.572 729.333,635.457 821.259,669.765 913.186,695.496 1005.11,712.65 1097.04,721.227 1188.97,721.227 1280.89,712.65 1372.82,695.496 1464.75,669.765 1556.67,635.457 1648.6,592.572 1740.53,541.109 1832.45,481.07 1924.38,412.454 2016.3,335.261 2108.23,249.49 2200.16,155.143 \"/>\n",
       "<polyline clip-path=\"url(#clip732)\" style=\"stroke:#3da44d; stroke-linecap:round; stroke-linejoin:round; stroke-width:4; stroke-opacity:1; fill:none\" points=\"269.7,770.005 278.893,687.652 288.085,621.432 297.278,569.117 306.471,528.716 315.663,498.451 324.856,476.744 334.049,462.195 343.241,453.57 352.434,449.786 361.627,449.896 370.819,453.079 380.012,458.623 389.205,465.922 398.397,474.457 407.59,483.793 416.783,493.569 425.975,503.487 435.168,513.306 444.361,522.838 453.553,531.938 462.746,540.499 471.938,548.45 481.131,555.744 490.324,562.363 499.516,568.306 508.709,573.591 517.902,578.247 527.094,582.316 536.287,585.847 545.48,588.895 554.672,591.518 563.865,593.78 573.058,595.74 582.25,597.46 591.443,599 600.636,600.418 609.828,601.765 619.021,603.093 628.214,604.447 637.406,605.867 646.599,607.388 655.792,609.043 664.984,610.854 674.177,612.845 683.37,615.028 692.562,617.416 701.755,620.014 710.948,622.824 720.14,625.843 729.333,629.064 738.525,632.478 747.718,636.073 756.911,639.832 766.103,643.738 775.296,647.771 784.489,651.908 793.681,656.128 802.874,660.406 812.067,664.718 821.259,669.039 830.452,673.345 839.645,677.611 848.837,681.814 858.03,685.929 867.223,689.937 876.415,693.815 885.608,697.545 894.801,701.109 903.993,704.49 913.186,707.676 922.379,710.653 931.571,713.411 940.764,715.941 949.957,718.239 959.149,720.298 968.342,722.117 977.535,723.695 986.727,725.034 995.92,726.138 1005.11,727.01 1014.31,727.658 1023.5,728.089 1032.69,728.314 1041.88,728.342 1051.08,728.185 1060.27,727.857 1069.46,727.37 1078.65,726.739 1087.85,725.978 1097.04,725.102 1106.23,724.126 1115.42,723.065 1124.62,721.934 1133.81,720.746 1143,719.516 1152.2,718.258 1161.39,716.983 1170.58,715.704 1179.77,714.432 1188.97,713.175 1198.16,711.942 1207.35,710.742 1216.54,709.578 1225.74,708.457 1234.93,707.381 1244.12,706.351 1253.31,705.369 1262.51,704.432 1271.7,703.538 1280.89,702.683 1290.08,701.862 1299.28,701.067 1308.47,700.291 1317.66,699.524 1326.86,698.757 1336.05,697.977 1345.24,697.174 1354.43,696.333 1363.63,695.442 1372.82,694.487 1382.01,693.453 1391.2,692.327 1400.4,691.093 1409.59,689.739 1418.78,688.249 1427.97,686.61 1437.17,684.811 1446.36,682.838 1455.55,680.682 1464.75,678.331 1473.94,675.779 1483.13,673.017 1492.32,670.04 1501.52,666.844 1510.71,663.427 1519.9,659.789 1529.09,655.931 1538.29,651.856 1547.48,647.571 1556.67,643.083 1565.86,638.402 1575.06,633.539 1584.25,628.508 1593.44,623.324 1602.64,618.006 1611.83,612.571 1621.02,607.041 1630.21,601.438 1639.41,595.785 1648.6,590.106 1657.79,584.427 1666.98,578.772 1676.18,573.167 1685.37,567.638 1694.56,562.21 1703.75,556.907 1712.95,551.753 1722.14,546.769 1731.33,541.973 1740.53,537.385 1749.72,533.017 1758.91,528.882 1768.1,524.986 1777.3,521.333 1786.49,517.922 1795.68,514.748 1804.87,511.798 1814.07,509.058 1823.26,506.503 1832.45,504.106 1841.64,501.831 1850.84,499.638 1860.03,497.477 1869.22,495.295 1878.41,493.031 1887.61,490.616 1896.8,487.977 1905.99,485.036 1915.19,481.708 1924.38,477.905 1933.57,473.534 1942.76,468.501 1951.96,462.711 1961.15,456.069 1970.34,448.48 1979.53,439.856 1988.73,430.114 1997.92,419.18 2007.11,406.99 2016.3,393.498 2025.5,378.674 2034.69,362.51 2043.88,345.028 2053.08,326.277 2062.27,306.348 2071.46,285.37 2080.65,263.525 2089.85,241.048 2099.04,218.24 2108.23,195.472 2117.42,173.197 2126.62,151.957 2135.81,132.396 2145,115.269 2154.19,101.454 2163.39,91.9683 2172.58,87.9763 2181.77,90.8095 2190.97,101.98 2200.16,123.199 2209.35,156.391 2218.54,203.719 2227.74,267.6 2236.93,350.728 2246.12,456.1 2255.31,587.035 2264.51,747.206 2273.7,940.664 2282.89,1171.87 2292.08,1445.72 \"/>\n",
       "<path clip-path=\"url(#clip730)\" d=\"M280.486 302.578 L547.868 302.578 L547.868 95.2176 L280.486 95.2176  Z\" fill=\"#ffffff\" fill-rule=\"evenodd\" fill-opacity=\"1\"/>\n",
       "<polyline clip-path=\"url(#clip730)\" style=\"stroke:#000000; stroke-linecap:round; stroke-linejoin:round; stroke-width:4; stroke-opacity:1; fill:none\" points=\"280.486,302.578 547.868,302.578 547.868,95.2176 280.486,95.2176 280.486,302.578 \"/>\n",
       "<circle clip-path=\"url(#clip730)\" cx=\"375.763\" cy=\"147.058\" r=\"23.04\" fill=\"#009af9\" fill-rule=\"evenodd\" fill-opacity=\"1\" stroke=\"#000000\" stroke-opacity=\"1\" stroke-width=\"5.12\"/>\n",
       "<path clip-path=\"url(#clip730)\" d=\"M484.882 166.745 Q483.077 171.375 481.364 172.787 Q479.651 174.199 476.78 174.199 L473.378 174.199 L473.378 170.634 L475.878 170.634 Q477.637 170.634 478.609 169.8 Q479.581 168.967 480.762 165.865 L481.526 163.921 L471.04 138.412 L475.554 138.412 L483.655 158.689 L491.757 138.412 L496.271 138.412 L484.882 166.745 Z\" fill=\"#000000\" fill-rule=\"evenodd\" fill-opacity=\"1\" /><path clip-path=\"url(#clip730)\" d=\"M503.563 160.402 L511.201 160.402 L511.201 134.037 L502.891 135.703 L502.891 131.444 L511.155 129.778 L515.831 129.778 L515.831 160.402 L523.47 160.402 L523.47 164.338 L503.563 164.338 L503.563 160.402 Z\" fill=\"#000000\" fill-rule=\"evenodd\" fill-opacity=\"1\" /><polyline clip-path=\"url(#clip730)\" style=\"stroke:#e26f46; stroke-linecap:round; stroke-linejoin:round; stroke-width:4; stroke-opacity:1; fill:none\" points=\"304.305,198.898 447.22,198.898 \"/>\n",
       "<path clip-path=\"url(#clip730)\" d=\"M484.882 218.585 Q483.077 223.215 481.364 224.627 Q479.651 226.039 476.78 226.039 L473.378 226.039 L473.378 222.474 L475.878 222.474 Q477.637 222.474 478.609 221.64 Q479.581 220.807 480.762 217.705 L481.526 215.761 L471.04 190.252 L475.554 190.252 L483.655 210.529 L491.757 190.252 L496.271 190.252 L484.882 218.585 Z\" fill=\"#000000\" fill-rule=\"evenodd\" fill-opacity=\"1\" /><path clip-path=\"url(#clip730)\" d=\"M506.78 212.242 L523.1 212.242 L523.1 216.178 L501.155 216.178 L501.155 212.242 Q503.817 209.488 508.401 204.858 Q513.007 200.205 514.188 198.863 Q516.433 196.34 517.313 194.604 Q518.215 192.844 518.215 191.155 Q518.215 188.4 516.271 186.664 Q514.35 184.928 511.248 184.928 Q509.049 184.928 506.595 185.692 Q504.164 186.455 501.387 188.006 L501.387 183.284 Q504.211 182.15 506.664 181.571 Q509.118 180.993 511.155 180.993 Q516.526 180.993 519.72 183.678 Q522.914 186.363 522.914 190.854 Q522.914 192.983 522.104 194.905 Q521.317 196.803 519.211 199.395 Q518.632 200.067 515.53 203.284 Q512.428 206.479 506.78 212.242 Z\" fill=\"#000000\" fill-rule=\"evenodd\" fill-opacity=\"1\" /><polyline clip-path=\"url(#clip730)\" style=\"stroke:#3da44d; stroke-linecap:round; stroke-linejoin:round; stroke-width:4; stroke-opacity:1; fill:none\" points=\"304.305,250.738 447.22,250.738 \"/>\n",
       "<path clip-path=\"url(#clip730)\" d=\"M484.882 270.425 Q483.077 275.055 481.364 276.467 Q479.651 277.879 476.78 277.879 L473.378 277.879 L473.378 274.314 L475.878 274.314 Q477.637 274.314 478.609 273.48 Q479.581 272.647 480.762 269.545 L481.526 267.601 L471.04 242.092 L475.554 242.092 L483.655 262.369 L491.757 242.092 L496.271 242.092 L484.882 270.425 Z\" fill=\"#000000\" fill-rule=\"evenodd\" fill-opacity=\"1\" /><path clip-path=\"url(#clip730)\" d=\"M516.919 249.383 Q520.275 250.101 522.15 252.369 Q524.049 254.638 524.049 257.971 Q524.049 263.087 520.53 265.888 Q517.012 268.689 510.53 268.689 Q508.354 268.689 506.039 268.249 Q503.748 267.832 501.294 266.976 L501.294 262.462 Q503.239 263.596 505.553 264.175 Q507.868 264.754 510.391 264.754 Q514.789 264.754 517.081 263.018 Q519.396 261.281 519.396 257.971 Q519.396 254.916 517.243 253.203 Q515.113 251.467 511.294 251.467 L507.266 251.467 L507.266 247.624 L511.479 247.624 Q514.928 247.624 516.757 246.258 Q518.586 244.87 518.586 242.277 Q518.586 239.615 516.688 238.203 Q514.813 236.768 511.294 236.768 Q509.373 236.768 507.174 237.184 Q504.975 237.601 502.336 238.481 L502.336 234.314 Q504.998 233.573 507.313 233.203 Q509.651 232.833 511.711 232.833 Q517.035 232.833 520.137 235.263 Q523.238 237.67 523.238 241.791 Q523.238 244.661 521.595 246.652 Q519.951 248.62 516.919 249.383 Z\" fill=\"#000000\" fill-rule=\"evenodd\" fill-opacity=\"1\" /></svg>\n"
      ]
     },
     "execution_count": 69,
     "metadata": {},
     "output_type": "execute_result"
    }
   ],
   "source": [
    "x_fit = -11:0.1:11\n",
    "collect(x_fit)\n",
    "scatter(x,y_observed)\n",
    "plot!(x,y_true)\n",
    "plot!(x_fit,fit(x,y_observed,10).(x_fit))"
   ]
  },
  {
   "cell_type": "markdown",
   "id": "bbcb4ef4",
   "metadata": {},
   "source": [
    "3. What do you observe in the plot? What is this phenomenon called?"
   ]
  },
  {
   "cell_type": "markdown",
   "id": "49a085b1",
   "metadata": {},
   "source": [
    "The curve of best fit is going in between data points in order to skew a fit line through as many data points as possible. This is called overfitting."
   ]
  },
  {
   "cell_type": "code",
   "execution_count": null,
   "id": "12d250b5-a1c4-4cfa-b771-dcaeb0d4cae4",
   "metadata": {},
   "outputs": [],
   "source": []
  }
 ],
 "metadata": {
  "kernelspec": {
   "display_name": "Julia 1.8.5",
   "language": "julia",
   "name": "julia-1.8"
  },
  "language_info": {
   "file_extension": ".jl",
   "mimetype": "application/julia",
   "name": "julia",
   "version": "1.8.5"
  }
 },
 "nbformat": 4,
 "nbformat_minor": 5
}
