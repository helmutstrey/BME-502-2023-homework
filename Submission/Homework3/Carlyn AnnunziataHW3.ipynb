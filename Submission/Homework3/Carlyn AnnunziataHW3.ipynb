{
 "cells": [
  {
   "cell_type": "markdown",
   "id": "1fbe377b",
   "metadata": {},
   "source": [
    "<h1>HW3</h1>"
   ]
  },
  {
   "cell_type": "markdown",
   "id": "79813e24",
   "metadata": {},
   "source": [
    "# Question 1\n",
    "### (Bayes Theorem) Read the following example and complete the exercises \n",
    "\n",
    "Trolls Under the Bridge\n",
    "1. Trolls(T) are bad\n",
    "2. Gnomes(G) are benign\n",
    "3. Every bridge has 5 creatures under it\n",
    "\n",
    "Below are the probabilities of what creatures live under a bridge:\n",
    "1. TTGGG: 20% (E1)\n",
    "2. TGGGG: 20% (E2)\n",
    "3. GGGGG: 60% (E3)\n",
    "\n",
    "A knight is approaching a bridge and he wants to know his chance of crossing the bridge safely."
   ]
  },
  {
   "cell_type": "markdown",
   "id": "425f8583",
   "metadata": {},
   "source": [
    "### 1.1 \n",
    "\n",
    "#### What is the chance of the knight crossing the bridge safely?\n"
   ]
  },
  {
   "cell_type": "markdown",
   "id": "371e17db",
   "metadata": {},
   "source": [
    "60%"
   ]
  },
  {
   "cell_type": "markdown",
   "id": "61f687e4",
   "metadata": {},
   "source": [
    "### 1.2\n",
    "\n",
    "#### Before crossing a bridge, a knight captures a troll. “I now have an 80% chance of crossing safely,” he reasons, “since only the case 20% had TTGGG (E1) now have TGGG is still a threat.”\n",
    "\n",
    "#### Do you agree with him? Why?"
   ]
  },
  {
   "cell_type": "markdown",
   "id": "f059ddc9",
   "metadata": {},
   "source": [
    "# 1.2\n",
    "No. If he catches a troll there is still an event that can occur where he will encounter a troll. So his probability of crossing the bridge safely occurs in one event of out the three possible events if he captured the troll from E1.\n",
    "P(hit) = 33.3%. If he captured a troll from E2, there are two events which he will cross the bridge safely, P(safe) = 66.7%."
   ]
  },
  {
   "cell_type": "markdown",
   "id": "09025213",
   "metadata": {},
   "source": []
  },
  {
   "cell_type": "markdown",
   "id": "73a7f7ee",
   "metadata": {},
   "source": [
    "# 1.3\n",
    "\n",
    "#### Now he wants to use Bayes' theorem to calculate his chance of crossing safely given a troll captured \n",
    "\n",
    "\\begin{equation*}\n",
    "P(A|B) = \\frac{P(B|A)P(A)}{P(B)} \\\\\n",
    "P(A|B): Posteior \\\\\n",
    "P(B|A): Likelihood \\\\\n",
    "P(A): Prior \\\\\n",
    "P(B): Marginal Probability \\\\\n",
    "\\end{equation*}\n",
    "\n",
    "#### Given the three events, E1, E2, and E3, which two of the three events does the knight need to consider after a troll was captured?"
   ]
  },
  {
   "cell_type": "markdown",
   "id": "2e0774e1",
   "metadata": {},
   "source": [
    "# 1.3\n",
    "If he captures the one troll in event E2, then there is no troll in this event. For event three there are no trolls. \n",
    "If however, he captures a troll from E1, there is still one troll left in this event, so the only possible event that has a troll and the knight won't be safe is E1."
   ]
  },
  {
   "cell_type": "code",
   "execution_count": null,
   "id": "03b9f925",
   "metadata": {},
   "outputs": [],
   "source": [
    "# E3: P(A) = chance of safe passage = 0.6\n",
    "    #P(B) = chance of capyuring troll = 0.4\n",
    "    #P(B|A) = P(B)xP(A) = 0.6 x 0.4 = 0.24\n",
    "#P(A|B) = P(B|A)x P(A)/P(B) = 0.24 x 0.6/0.4 = 0.36 = 36%"
   ]
  },
  {
   "cell_type": "markdown",
   "id": "0adb7f0a",
   "metadata": {},
   "source": []
  },
  {
   "cell_type": "markdown",
   "id": "a665e610",
   "metadata": {},
   "source": [
    "1.4\n",
    "\n",
    "Use Bayes' theorem to calculate the probability of the two events in 1.3 (separately) given the troll was captured. "
   ]
  },
  {
   "cell_type": "markdown",
   "id": "27eec2d9",
   "metadata": {},
   "source": [
    "Probability of one event given a troll captured: "
   ]
  },
  {
   "cell_type": "markdown",
   "id": "6a682eed",
   "metadata": {},
   "source": [
    "# 1.4\n",
    "Using Baye's law:\n",
    "E1: P(T) = chance of troll = 2/5 = 0.4\n",
    "    P(E1) = chance of event 1 = 0.2 \n",
    "    P(T|E) = Chance of troll given event all events = 0.4x0.2+0.2x0.2+0x0.6\n",
    "    P(T|E) = 0.08/0.12 = 66.6%"
   ]
  },
  {
   "cell_type": "markdown",
   "id": "37843aee",
   "metadata": {},
   "source": [
    "Probability of the other event given a troll captured: "
   ]
  },
  {
   "cell_type": "markdown",
   "id": "5462f90e",
   "metadata": {},
   "source": [
    "# 1.4\n",
    "E2: P(T) = chance of troll = 1/5 = 0.2\n",
    "    P(E1) = chance of event 2 = 0.2 \n",
    "    P(T|E) = Chance of troll given event all events = 0.04/0.12 = 33.3%"
   ]
  },
  {
   "cell_type": "markdown",
   "id": "f3b7f049",
   "metadata": {},
   "source": [
    "1.5  What is the chance of the knight crossing safely?"
   ]
  },
  {
   "cell_type": "markdown",
   "id": "8e3a22c8",
   "metadata": {},
   "source": [
    "# 1.5 \n",
    "For E2, the chances of crossing safely are 33.3%."
   ]
  },
  {
   "cell_type": "markdown",
   "id": "7b815ae0",
   "metadata": {},
   "source": [
    "#### Now looking back to 1.1, the probabilities were changed after assimilating data! "
   ]
  },
  {
   "cell_type": "markdown",
   "id": "f1450094",
   "metadata": {},
   "source": [
    "# Question 2\n",
    "### (Polynomial Fitting) Read the following example and complete the exercises \n",
    "\n",
    "Biological data always comes with errors that influence the intepretation of the data significantly. In this question, we will simulate data and see how noises affect the parameter estimation."
   ]
  },
  {
   "cell_type": "code",
   "execution_count": 32,
   "id": "c20822fa",
   "metadata": {},
   "outputs": [
    {
     "name": "stderr",
     "output_type": "stream",
     "text": [
      "\u001b[32m\u001b[1m   Resolving\u001b[22m\u001b[39m package versions...\n",
      "\u001b[32m\u001b[1m  No Changes\u001b[22m\u001b[39m to `C:\\Users\\Carly\\.julia\\environments\\v1.8\\Project.toml`\n",
      "\u001b[32m\u001b[1m  No Changes\u001b[22m\u001b[39m to `C:\\Users\\Carly\\.julia\\environments\\v1.8\\Manifest.toml`\n"
     ]
    }
   ],
   "source": [
    "import Pkg\n",
    "import Pkg\n",
    "Pkg.add([\"Plots\",\"Distributions\", \"Random\", \"Statistics\", \"Polynomials\"])"
   ]
  },
  {
   "cell_type": "code",
   "execution_count": 33,
   "id": "a343123d",
   "metadata": {},
   "outputs": [],
   "source": [
    "using Plots\n",
    "import Distributions as di\n",
    "using Random\n",
    "using Polynomials: Polynomials, fit, coeffs\n",
    "using Statistics"
   ]
  },
  {
   "cell_type": "markdown",
   "id": "a90dd09d",
   "metadata": {},
   "source": [
    "### 2.1\n",
    "\n",
    "1. Generate the independent variable x ranging from -10 to 10 with an increment of 1\n",
    "2. Generate the dependent variable y_true using the equation y_true = x^2 + 3x - 2\n"
   ]
  },
  {
   "cell_type": "code",
   "execution_count": 102,
   "id": "6b0b33c5",
   "metadata": {},
   "outputs": [
    {
     "data": {
      "text/plain": [
       "21-element Vector{Int64}:\n",
       " -10\n",
       "  -9\n",
       "  -8\n",
       "  -7\n",
       "  -6\n",
       "  -5\n",
       "  -4\n",
       "  -3\n",
       "  -2\n",
       "  -1\n",
       "   0\n",
       "   1\n",
       "   2\n",
       "   3\n",
       "   4\n",
       "   5\n",
       "   6\n",
       "   7\n",
       "   8\n",
       "   9\n",
       "  10"
      ]
     },
     "execution_count": 102,
     "metadata": {},
     "output_type": "execute_result"
    }
   ],
   "source": [
    "x=-10:10\n",
    "collect(x)"
   ]
  },
  {
   "cell_type": "code",
   "execution_count": 103,
   "id": "88f5fe83",
   "metadata": {},
   "outputs": [
    {
     "data": {
      "text/plain": [
       "21-element Vector{Int64}:\n",
       "  68\n",
       "  52\n",
       "  38\n",
       "  26\n",
       "  16\n",
       "   8\n",
       "   2\n",
       "  -2\n",
       "  -4\n",
       "  -4\n",
       "  -2\n",
       "   2\n",
       "   8\n",
       "  16\n",
       "  26\n",
       "  38\n",
       "  52\n",
       "  68\n",
       "  86\n",
       " 106\n",
       " 128"
      ]
     },
     "execution_count": 103,
     "metadata": {},
     "output_type": "execute_result"
    }
   ],
   "source": [
    "y_true = x .^ 2 + 3 * x .- 2"
   ]
  },
  {
   "cell_type": "markdown",
   "id": "74d2a191",
   "metadata": {},
   "source": [
    "### 2.2\n",
    "\n",
    "1. Generate the Guassian noises with zero mean and a standard deviation of 10\n",
    "\n",
    "2. Add the noises to y_true to obtain y_observed\n"
   ]
  },
  {
   "cell_type": "code",
   "execution_count": 127,
   "id": "f4b0b015",
   "metadata": {},
   "outputs": [
    {
     "data": {
      "text/plain": [
       "21-element Vector{Float64}:\n",
       "  63.89864489109849\n",
       "  52.940211771506576\n",
       "  25.627737872883234\n",
       "  36.021434160908015\n",
       "  14.012538676408072\n",
       "  -0.23491114846595806\n",
       "  -7.925919792495577\n",
       " -11.778213842456447\n",
       "  -1.0245125165855624\n",
       "  -1.3428613374170175\n",
       "   3.8425681503001936\n",
       " -18.68627709630219\n",
       "  -2.764225693110694\n",
       "  34.73783118750007\n",
       "  31.068101556118787\n",
       "  42.729128785895675\n",
       "  47.94265280617223\n",
       "  67.45924376549378\n",
       " 100.1036271953581\n",
       " 111.35580571845418\n",
       " 129.76125819048212"
      ]
     },
     "execution_count": 127,
     "metadata": {},
     "output_type": "execute_result"
    }
   ],
   "source": [
    "dataerr = 10\n",
    "noise = di.Normal(0,dataerr)\n",
    "y_observed = y_true + rand(noise,length(x))"
   ]
  },
  {
   "cell_type": "markdown",
   "id": "ecf2e554",
   "metadata": {},
   "source": [
    "### 2.3\n",
    "\n",
    "#### Fit the data (x, y_observed) with a second order polynomial. \n",
    "\n",
    "1. Make a scatter plot of y_observed along x\n",
    "2. Plot a line of y_true along x on the scatter plot\n",
    "3. Plot a line of the fitted polynomial along x on the same plot"
   ]
  },
  {
   "cell_type": "code",
   "execution_count": 84,
   "id": "8e0c57d0",
   "metadata": {},
   "outputs": [
    {
     "name": "stderr",
     "output_type": "stream",
     "text": [
      "\u001b[32m\u001b[1m   Resolving\u001b[22m\u001b[39m package versions...\n",
      "\u001b[32m\u001b[1m  No Changes\u001b[22m\u001b[39m to `C:\\Users\\Carly\\.julia\\environments\\v1.8\\Project.toml`\n",
      "\u001b[32m\u001b[1m  No Changes\u001b[22m\u001b[39m to `C:\\Users\\Carly\\.julia\\environments\\v1.8\\Manifest.toml`\n"
     ]
    }
   ],
   "source": [
    "import Pkg\n",
    "Pkg.add([\"Plots\",\"Distributions\", \"Random\", \"Statistics\", \"Polynomials\"])"
   ]
  },
  {
   "cell_type": "code",
   "execution_count": 109,
   "id": "707231df",
   "metadata": {},
   "outputs": [
    {
     "data": {
      "image/svg+xml": [
       "<?xml version=\"1.0\" encoding=\"utf-8\"?>\n",
       "<svg xmlns=\"http://www.w3.org/2000/svg\" xmlns:xlink=\"http://www.w3.org/1999/xlink\" width=\"600\" height=\"400\" viewBox=\"0 0 2400 1600\">\n",
       "<defs>\n",
       "  <clipPath id=\"clip690\">\n",
       "    <rect x=\"0\" y=\"0\" width=\"2400\" height=\"1600\"/>\n",
       "  </clipPath>\n",
       "</defs>\n",
       "<path clip-path=\"url(#clip690)\" d=\"M0 1600 L2400 1600 L2400 0 L0 0  Z\" fill=\"#ffffff\" fill-rule=\"evenodd\" fill-opacity=\"1\"/>\n",
       "<defs>\n",
       "  <clipPath id=\"clip691\">\n",
       "    <rect x=\"480\" y=\"0\" width=\"1681\" height=\"1600\"/>\n",
       "  </clipPath>\n",
       "</defs>\n",
       "<path clip-path=\"url(#clip690)\" d=\"M169.121 1486.45 L2352.76 1486.45 L2352.76 47.2441 L169.121 47.2441  Z\" fill=\"#ffffff\" fill-rule=\"evenodd\" fill-opacity=\"1\"/>\n",
       "<defs>\n",
       "  <clipPath id=\"clip692\">\n",
       "    <rect x=\"169\" y=\"47\" width=\"2185\" height=\"1440\"/>\n",
       "  </clipPath>\n",
       "</defs>\n",
       "<polyline clip-path=\"url(#clip692)\" style=\"stroke:#000000; stroke-linecap:round; stroke-linejoin:round; stroke-width:2; stroke-opacity:0.1; fill:none\" points=\"230.922,1486.45 230.922,47.2441 \"/>\n",
       "<polyline clip-path=\"url(#clip692)\" style=\"stroke:#000000; stroke-linecap:round; stroke-linejoin:round; stroke-width:2; stroke-opacity:0.1; fill:none\" points=\"745.93,1486.45 745.93,47.2441 \"/>\n",
       "<polyline clip-path=\"url(#clip692)\" style=\"stroke:#000000; stroke-linecap:round; stroke-linejoin:round; stroke-width:2; stroke-opacity:0.1; fill:none\" points=\"1260.94,1486.45 1260.94,47.2441 \"/>\n",
       "<polyline clip-path=\"url(#clip692)\" style=\"stroke:#000000; stroke-linecap:round; stroke-linejoin:round; stroke-width:2; stroke-opacity:0.1; fill:none\" points=\"1775.95,1486.45 1775.95,47.2441 \"/>\n",
       "<polyline clip-path=\"url(#clip692)\" style=\"stroke:#000000; stroke-linecap:round; stroke-linejoin:round; stroke-width:2; stroke-opacity:0.1; fill:none\" points=\"2290.95,1486.45 2290.95,47.2441 \"/>\n",
       "<polyline clip-path=\"url(#clip690)\" style=\"stroke:#000000; stroke-linecap:round; stroke-linejoin:round; stroke-width:4; stroke-opacity:1; fill:none\" points=\"169.121,1486.45 2352.76,1486.45 \"/>\n",
       "<polyline clip-path=\"url(#clip690)\" style=\"stroke:#000000; stroke-linecap:round; stroke-linejoin:round; stroke-width:4; stroke-opacity:1; fill:none\" points=\"230.922,1486.45 230.922,1467.55 \"/>\n",
       "<polyline clip-path=\"url(#clip690)\" style=\"stroke:#000000; stroke-linecap:round; stroke-linejoin:round; stroke-width:4; stroke-opacity:1; fill:none\" points=\"745.93,1486.45 745.93,1467.55 \"/>\n",
       "<polyline clip-path=\"url(#clip690)\" style=\"stroke:#000000; stroke-linecap:round; stroke-linejoin:round; stroke-width:4; stroke-opacity:1; fill:none\" points=\"1260.94,1486.45 1260.94,1467.55 \"/>\n",
       "<polyline clip-path=\"url(#clip690)\" style=\"stroke:#000000; stroke-linecap:round; stroke-linejoin:round; stroke-width:4; stroke-opacity:1; fill:none\" points=\"1775.95,1486.45 1775.95,1467.55 \"/>\n",
       "<polyline clip-path=\"url(#clip690)\" style=\"stroke:#000000; stroke-linecap:round; stroke-linejoin:round; stroke-width:4; stroke-opacity:1; fill:none\" points=\"2290.95,1486.45 2290.95,1467.55 \"/>\n",
       "<path clip-path=\"url(#clip690)\" d=\"M184.985 1532.02 L214.661 1532.02 L214.661 1535.95 L184.985 1535.95 L184.985 1532.02 Z\" fill=\"#000000\" fill-rule=\"evenodd\" fill-opacity=\"1\" /><path clip-path=\"url(#clip690)\" d=\"M225.564 1544.91 L233.202 1544.91 L233.202 1518.55 L224.892 1520.21 L224.892 1515.95 L233.156 1514.29 L237.832 1514.29 L237.832 1544.91 L245.471 1544.91 L245.471 1548.85 L225.564 1548.85 L225.564 1544.91 Z\" fill=\"#000000\" fill-rule=\"evenodd\" fill-opacity=\"1\" /><path clip-path=\"url(#clip690)\" d=\"M264.915 1517.37 Q261.304 1517.37 259.475 1520.93 Q257.67 1524.47 257.67 1531.6 Q257.67 1538.71 259.475 1542.27 Q261.304 1545.82 264.915 1545.82 Q268.549 1545.82 270.355 1542.27 Q272.184 1538.71 272.184 1531.6 Q272.184 1524.47 270.355 1520.93 Q268.549 1517.37 264.915 1517.37 M264.915 1513.66 Q270.725 1513.66 273.781 1518.27 Q276.86 1522.85 276.86 1531.6 Q276.86 1540.33 273.781 1544.94 Q270.725 1549.52 264.915 1549.52 Q259.105 1549.52 256.026 1544.94 Q252.971 1540.33 252.971 1531.6 Q252.971 1522.85 256.026 1518.27 Q259.105 1513.66 264.915 1513.66 Z\" fill=\"#000000\" fill-rule=\"evenodd\" fill-opacity=\"1\" /><path clip-path=\"url(#clip690)\" d=\"M715.572 1532.02 L745.248 1532.02 L745.248 1535.95 L715.572 1535.95 L715.572 1532.02 Z\" fill=\"#000000\" fill-rule=\"evenodd\" fill-opacity=\"1\" /><path clip-path=\"url(#clip690)\" d=\"M755.386 1514.29 L773.743 1514.29 L773.743 1518.22 L759.669 1518.22 L759.669 1526.7 Q760.687 1526.35 761.706 1526.19 Q762.724 1526 763.743 1526 Q769.53 1526 772.909 1529.17 Q776.289 1532.34 776.289 1537.76 Q776.289 1543.34 772.817 1546.44 Q769.345 1549.52 763.025 1549.52 Q760.849 1549.52 758.581 1549.15 Q756.335 1548.78 753.928 1548.04 L753.928 1543.34 Q756.011 1544.47 758.234 1545.03 Q760.456 1545.58 762.933 1545.58 Q766.937 1545.58 769.275 1543.48 Q771.613 1541.37 771.613 1537.76 Q771.613 1534.15 769.275 1532.04 Q766.937 1529.94 762.933 1529.94 Q761.058 1529.94 759.183 1530.35 Q757.331 1530.77 755.386 1531.65 L755.386 1514.29 Z\" fill=\"#000000\" fill-rule=\"evenodd\" fill-opacity=\"1\" /><path clip-path=\"url(#clip690)\" d=\"M1260.94 1517.37 Q1257.33 1517.37 1255.5 1520.93 Q1253.69 1524.47 1253.69 1531.6 Q1253.69 1538.71 1255.5 1542.27 Q1257.33 1545.82 1260.94 1545.82 Q1264.57 1545.82 1266.38 1542.27 Q1268.21 1538.71 1268.21 1531.6 Q1268.21 1524.47 1266.38 1520.93 Q1264.57 1517.37 1260.94 1517.37 M1260.94 1513.66 Q1266.75 1513.66 1269.8 1518.27 Q1272.88 1522.85 1272.88 1531.6 Q1272.88 1540.33 1269.8 1544.94 Q1266.75 1549.52 1260.94 1549.52 Q1255.13 1549.52 1252.05 1544.94 Q1248.99 1540.33 1248.99 1531.6 Q1248.99 1522.85 1252.05 1518.27 Q1255.13 1513.66 1260.94 1513.66 Z\" fill=\"#000000\" fill-rule=\"evenodd\" fill-opacity=\"1\" /><path clip-path=\"url(#clip690)\" d=\"M1766.22 1514.29 L1784.58 1514.29 L1784.58 1518.22 L1770.51 1518.22 L1770.51 1526.7 Q1771.53 1526.35 1772.54 1526.19 Q1773.56 1526 1774.58 1526 Q1780.37 1526 1783.75 1529.17 Q1787.13 1532.34 1787.13 1537.76 Q1787.13 1543.34 1783.66 1546.44 Q1780.18 1549.52 1773.86 1549.52 Q1771.69 1549.52 1769.42 1549.15 Q1767.17 1548.78 1764.77 1548.04 L1764.77 1543.34 Q1766.85 1544.47 1769.07 1545.03 Q1771.29 1545.58 1773.77 1545.58 Q1777.78 1545.58 1780.11 1543.48 Q1782.45 1541.37 1782.45 1537.76 Q1782.45 1534.15 1780.11 1532.04 Q1777.78 1529.94 1773.77 1529.94 Q1771.9 1529.94 1770.02 1530.35 Q1768.17 1530.77 1766.22 1531.65 L1766.22 1514.29 Z\" fill=\"#000000\" fill-rule=\"evenodd\" fill-opacity=\"1\" /><path clip-path=\"url(#clip690)\" d=\"M2265.64 1544.91 L2273.28 1544.91 L2273.28 1518.55 L2264.97 1520.21 L2264.97 1515.95 L2273.24 1514.29 L2277.91 1514.29 L2277.91 1544.91 L2285.55 1544.91 L2285.55 1548.85 L2265.64 1548.85 L2265.64 1544.91 Z\" fill=\"#000000\" fill-rule=\"evenodd\" fill-opacity=\"1\" /><path clip-path=\"url(#clip690)\" d=\"M2304.99 1517.37 Q2301.38 1517.37 2299.55 1520.93 Q2297.75 1524.47 2297.75 1531.6 Q2297.75 1538.71 2299.55 1542.27 Q2301.38 1545.82 2304.99 1545.82 Q2308.63 1545.82 2310.43 1542.27 Q2312.26 1538.71 2312.26 1531.6 Q2312.26 1524.47 2310.43 1520.93 Q2308.63 1517.37 2304.99 1517.37 M2304.99 1513.66 Q2310.8 1513.66 2313.86 1518.27 Q2316.94 1522.85 2316.94 1531.6 Q2316.94 1540.33 2313.86 1544.94 Q2310.8 1549.52 2304.99 1549.52 Q2299.18 1549.52 2296.11 1544.94 Q2293.05 1540.33 2293.05 1531.6 Q2293.05 1522.85 2296.11 1518.27 Q2299.18 1513.66 2304.99 1513.66 Z\" fill=\"#000000\" fill-rule=\"evenodd\" fill-opacity=\"1\" /><polyline clip-path=\"url(#clip692)\" style=\"stroke:#000000; stroke-linecap:round; stroke-linejoin:round; stroke-width:2; stroke-opacity:0.1; fill:none\" points=\"169.121,1347.96 2352.76,1347.96 \"/>\n",
       "<polyline clip-path=\"url(#clip692)\" style=\"stroke:#000000; stroke-linecap:round; stroke-linejoin:round; stroke-width:2; stroke-opacity:0.1; fill:none\" points=\"169.121,1151.09 2352.76,1151.09 \"/>\n",
       "<polyline clip-path=\"url(#clip692)\" style=\"stroke:#000000; stroke-linecap:round; stroke-linejoin:round; stroke-width:2; stroke-opacity:0.1; fill:none\" points=\"169.121,954.214 2352.76,954.214 \"/>\n",
       "<polyline clip-path=\"url(#clip692)\" style=\"stroke:#000000; stroke-linecap:round; stroke-linejoin:round; stroke-width:2; stroke-opacity:0.1; fill:none\" points=\"169.121,757.342 2352.76,757.342 \"/>\n",
       "<polyline clip-path=\"url(#clip692)\" style=\"stroke:#000000; stroke-linecap:round; stroke-linejoin:round; stroke-width:2; stroke-opacity:0.1; fill:none\" points=\"169.121,560.47 2352.76,560.47 \"/>\n",
       "<polyline clip-path=\"url(#clip692)\" style=\"stroke:#000000; stroke-linecap:round; stroke-linejoin:round; stroke-width:2; stroke-opacity:0.1; fill:none\" points=\"169.121,363.598 2352.76,363.598 \"/>\n",
       "<polyline clip-path=\"url(#clip692)\" style=\"stroke:#000000; stroke-linecap:round; stroke-linejoin:round; stroke-width:2; stroke-opacity:0.1; fill:none\" points=\"169.121,166.725 2352.76,166.725 \"/>\n",
       "<polyline clip-path=\"url(#clip690)\" style=\"stroke:#000000; stroke-linecap:round; stroke-linejoin:round; stroke-width:4; stroke-opacity:1; fill:none\" points=\"169.121,1486.45 169.121,47.2441 \"/>\n",
       "<polyline clip-path=\"url(#clip690)\" style=\"stroke:#000000; stroke-linecap:round; stroke-linejoin:round; stroke-width:4; stroke-opacity:1; fill:none\" points=\"169.121,1347.96 188.019,1347.96 \"/>\n",
       "<polyline clip-path=\"url(#clip690)\" style=\"stroke:#000000; stroke-linecap:round; stroke-linejoin:round; stroke-width:4; stroke-opacity:1; fill:none\" points=\"169.121,1151.09 188.019,1151.09 \"/>\n",
       "<polyline clip-path=\"url(#clip690)\" style=\"stroke:#000000; stroke-linecap:round; stroke-linejoin:round; stroke-width:4; stroke-opacity:1; fill:none\" points=\"169.121,954.214 188.019,954.214 \"/>\n",
       "<polyline clip-path=\"url(#clip690)\" style=\"stroke:#000000; stroke-linecap:round; stroke-linejoin:round; stroke-width:4; stroke-opacity:1; fill:none\" points=\"169.121,757.342 188.019,757.342 \"/>\n",
       "<polyline clip-path=\"url(#clip690)\" style=\"stroke:#000000; stroke-linecap:round; stroke-linejoin:round; stroke-width:4; stroke-opacity:1; fill:none\" points=\"169.121,560.47 188.019,560.47 \"/>\n",
       "<polyline clip-path=\"url(#clip690)\" style=\"stroke:#000000; stroke-linecap:round; stroke-linejoin:round; stroke-width:4; stroke-opacity:1; fill:none\" points=\"169.121,363.598 188.019,363.598 \"/>\n",
       "<polyline clip-path=\"url(#clip690)\" style=\"stroke:#000000; stroke-linecap:round; stroke-linejoin:round; stroke-width:4; stroke-opacity:1; fill:none\" points=\"169.121,166.725 188.019,166.725 \"/>\n",
       "<path clip-path=\"url(#clip690)\" d=\"M121.177 1333.76 Q117.566 1333.76 115.737 1337.32 Q113.932 1340.86 113.932 1347.99 Q113.932 1355.1 115.737 1358.66 Q117.566 1362.21 121.177 1362.21 Q124.811 1362.21 126.617 1358.66 Q128.445 1355.1 128.445 1347.99 Q128.445 1340.86 126.617 1337.32 Q124.811 1333.76 121.177 1333.76 M121.177 1330.05 Q126.987 1330.05 130.043 1334.66 Q133.121 1339.24 133.121 1347.99 Q133.121 1356.72 130.043 1361.33 Q126.987 1365.91 121.177 1365.91 Q115.367 1365.91 112.288 1361.33 Q109.233 1356.72 109.233 1347.99 Q109.233 1339.24 112.288 1334.66 Q115.367 1330.05 121.177 1330.05 Z\" fill=\"#000000\" fill-rule=\"evenodd\" fill-opacity=\"1\" /><path clip-path=\"url(#clip690)\" d=\"M85.0429 1164.43 L101.362 1164.43 L101.362 1168.37 L79.4179 1168.37 L79.4179 1164.43 Q82.0799 1161.68 86.6632 1157.05 Q91.2697 1152.39 92.4502 1151.05 Q94.6956 1148.53 95.5752 1146.79 Q96.478 1145.03 96.478 1143.34 Q96.478 1140.59 94.5336 1138.85 Q92.6123 1137.12 89.5104 1137.12 Q87.3114 1137.12 84.8577 1137.88 Q82.4271 1138.64 79.6494 1140.2 L79.6494 1135.47 Q82.4734 1134.34 84.9271 1133.76 Q87.3808 1133.18 89.4178 1133.18 Q94.7882 1133.18 97.9826 1135.87 Q101.177 1138.55 101.177 1143.04 Q101.177 1145.17 100.367 1147.09 Q99.5798 1148.99 97.4734 1151.58 Q96.8947 1152.26 93.7928 1155.47 Q90.691 1158.67 85.0429 1164.43 Z\" fill=\"#000000\" fill-rule=\"evenodd\" fill-opacity=\"1\" /><path clip-path=\"url(#clip690)\" d=\"M121.177 1136.89 Q117.566 1136.89 115.737 1140.45 Q113.932 1143.99 113.932 1151.12 Q113.932 1158.23 115.737 1161.79 Q117.566 1165.33 121.177 1165.33 Q124.811 1165.33 126.617 1161.79 Q128.445 1158.23 128.445 1151.12 Q128.445 1143.99 126.617 1140.45 Q124.811 1136.89 121.177 1136.89 M121.177 1133.18 Q126.987 1133.18 130.043 1137.79 Q133.121 1142.37 133.121 1151.12 Q133.121 1159.85 130.043 1164.45 Q126.987 1169.04 121.177 1169.04 Q115.367 1169.04 112.288 1164.45 Q109.233 1159.85 109.233 1151.12 Q109.233 1142.37 112.288 1137.79 Q115.367 1133.18 121.177 1133.18 Z\" fill=\"#000000\" fill-rule=\"evenodd\" fill-opacity=\"1\" /><path clip-path=\"url(#clip690)\" d=\"M93.8623 941.008 L82.0568 959.457 L93.8623 959.457 L93.8623 941.008 M92.6354 936.934 L98.515 936.934 L98.515 959.457 L103.446 959.457 L103.446 963.346 L98.515 963.346 L98.515 971.494 L93.8623 971.494 L93.8623 963.346 L78.2605 963.346 L78.2605 958.832 L92.6354 936.934 Z\" fill=\"#000000\" fill-rule=\"evenodd\" fill-opacity=\"1\" /><path clip-path=\"url(#clip690)\" d=\"M121.177 940.013 Q117.566 940.013 115.737 943.578 Q113.932 947.12 113.932 954.249 Q113.932 961.356 115.737 964.92 Q117.566 968.462 121.177 968.462 Q124.811 968.462 126.617 964.92 Q128.445 961.356 128.445 954.249 Q128.445 947.12 126.617 943.578 Q124.811 940.013 121.177 940.013 M121.177 936.309 Q126.987 936.309 130.043 940.916 Q133.121 945.499 133.121 954.249 Q133.121 962.976 130.043 967.582 Q126.987 972.166 121.177 972.166 Q115.367 972.166 112.288 967.582 Q109.233 962.976 109.233 954.249 Q109.233 945.499 112.288 940.916 Q115.367 936.309 121.177 936.309 Z\" fill=\"#000000\" fill-rule=\"evenodd\" fill-opacity=\"1\" /><path clip-path=\"url(#clip690)\" d=\"M91.5938 755.479 Q88.4456 755.479 86.5938 757.631 Q84.7651 759.784 84.7651 763.534 Q84.7651 767.261 86.5938 769.437 Q88.4456 771.59 91.5938 771.59 Q94.7419 771.59 96.5706 769.437 Q98.4224 767.261 98.4224 763.534 Q98.4224 759.784 96.5706 757.631 Q94.7419 755.479 91.5938 755.479 M100.876 740.826 L100.876 745.085 Q99.1169 744.252 97.3113 743.812 Q95.5289 743.372 93.7697 743.372 Q89.1401 743.372 86.6864 746.497 Q84.2558 749.622 83.9086 755.942 Q85.2743 753.928 87.3345 752.863 Q89.3947 751.775 91.8715 751.775 Q97.0798 751.775 100.089 754.946 Q103.121 758.094 103.121 763.534 Q103.121 768.858 99.9733 772.076 Q96.8252 775.293 91.5938 775.293 Q85.5984 775.293 82.4271 770.71 Q79.2559 766.104 79.2559 757.377 Q79.2559 749.182 83.1447 744.321 Q87.0336 739.437 93.5845 739.437 Q95.3437 739.437 97.1261 739.784 Q98.9317 740.132 100.876 740.826 Z\" fill=\"#000000\" fill-rule=\"evenodd\" fill-opacity=\"1\" /><path clip-path=\"url(#clip690)\" d=\"M121.177 743.141 Q117.566 743.141 115.737 746.706 Q113.932 750.247 113.932 757.377 Q113.932 764.483 115.737 768.048 Q117.566 771.59 121.177 771.59 Q124.811 771.59 126.617 768.048 Q128.445 764.483 128.445 757.377 Q128.445 750.247 126.617 746.706 Q124.811 743.141 121.177 743.141 M121.177 739.437 Q126.987 739.437 130.043 744.044 Q133.121 748.627 133.121 757.377 Q133.121 766.104 130.043 770.71 Q126.987 775.293 121.177 775.293 Q115.367 775.293 112.288 770.71 Q109.233 766.104 109.233 757.377 Q109.233 748.627 112.288 744.044 Q115.367 739.437 121.177 739.437 Z\" fill=\"#000000\" fill-rule=\"evenodd\" fill-opacity=\"1\" /><path clip-path=\"url(#clip690)\" d=\"M91.0151 561.338 Q87.6817 561.338 85.7605 563.12 Q83.8623 564.903 83.8623 568.028 Q83.8623 571.153 85.7605 572.935 Q87.6817 574.717 91.0151 574.717 Q94.3484 574.717 96.2697 572.935 Q98.1909 571.129 98.1909 568.028 Q98.1909 564.903 96.2697 563.12 Q94.3715 561.338 91.0151 561.338 M86.3392 559.347 Q83.3299 558.606 81.6401 556.546 Q79.9735 554.486 79.9735 551.523 Q79.9735 547.38 82.9133 544.972 Q85.8762 542.565 91.0151 542.565 Q96.1771 542.565 99.1169 544.972 Q102.057 547.38 102.057 551.523 Q102.057 554.486 100.367 556.546 Q98.7002 558.606 95.7141 559.347 Q99.0937 560.134 100.969 562.426 Q102.867 564.717 102.867 568.028 Q102.867 573.051 99.7882 575.736 Q96.7326 578.421 91.0151 578.421 Q85.2975 578.421 82.2188 575.736 Q79.1633 573.051 79.1633 568.028 Q79.1633 564.717 81.0614 562.426 Q82.9595 560.134 86.3392 559.347 M84.6262 551.963 Q84.6262 554.648 86.2929 556.153 Q87.9827 557.657 91.0151 557.657 Q94.0243 557.657 95.7141 556.153 Q97.4271 554.648 97.4271 551.963 Q97.4271 549.278 95.7141 547.773 Q94.0243 546.268 91.0151 546.268 Q87.9827 546.268 86.2929 547.773 Q84.6262 549.278 84.6262 551.963 Z\" fill=\"#000000\" fill-rule=\"evenodd\" fill-opacity=\"1\" /><path clip-path=\"url(#clip690)\" d=\"M121.177 546.268 Q117.566 546.268 115.737 549.833 Q113.932 553.375 113.932 560.505 Q113.932 567.611 115.737 571.176 Q117.566 574.717 121.177 574.717 Q124.811 574.717 126.617 571.176 Q128.445 567.611 128.445 560.505 Q128.445 553.375 126.617 549.833 Q124.811 546.268 121.177 546.268 M121.177 542.565 Q126.987 542.565 130.043 547.171 Q133.121 551.755 133.121 560.505 Q133.121 569.231 130.043 573.838 Q126.987 578.421 121.177 578.421 Q115.367 578.421 112.288 573.838 Q109.233 569.231 109.233 560.505 Q109.233 551.755 112.288 547.171 Q115.367 542.565 121.177 542.565 Z\" fill=\"#000000\" fill-rule=\"evenodd\" fill-opacity=\"1\" /><path clip-path=\"url(#clip690)\" d=\"M51.6634 376.942 L59.3023 376.942 L59.3023 350.577 L50.9921 352.243 L50.9921 347.984 L59.256 346.318 L63.9319 346.318 L63.9319 376.942 L71.5707 376.942 L71.5707 380.878 L51.6634 380.878 L51.6634 376.942 Z\" fill=\"#000000\" fill-rule=\"evenodd\" fill-opacity=\"1\" /><path clip-path=\"url(#clip690)\" d=\"M91.0151 349.396 Q87.404 349.396 85.5753 352.961 Q83.7697 356.503 83.7697 363.632 Q83.7697 370.739 85.5753 374.303 Q87.404 377.845 91.0151 377.845 Q94.6493 377.845 96.4548 374.303 Q98.2835 370.739 98.2835 363.632 Q98.2835 356.503 96.4548 352.961 Q94.6493 349.396 91.0151 349.396 M91.0151 345.693 Q96.8252 345.693 99.8808 350.299 Q102.959 354.882 102.959 363.632 Q102.959 372.359 99.8808 376.965 Q96.8252 381.549 91.0151 381.549 Q85.2049 381.549 82.1262 376.965 Q79.0707 372.359 79.0707 363.632 Q79.0707 354.882 82.1262 350.299 Q85.2049 345.693 91.0151 345.693 Z\" fill=\"#000000\" fill-rule=\"evenodd\" fill-opacity=\"1\" /><path clip-path=\"url(#clip690)\" d=\"M121.177 349.396 Q117.566 349.396 115.737 352.961 Q113.932 356.503 113.932 363.632 Q113.932 370.739 115.737 374.303 Q117.566 377.845 121.177 377.845 Q124.811 377.845 126.617 374.303 Q128.445 370.739 128.445 363.632 Q128.445 356.503 126.617 352.961 Q124.811 349.396 121.177 349.396 M121.177 345.693 Q126.987 345.693 130.043 350.299 Q133.121 354.882 133.121 363.632 Q133.121 372.359 130.043 376.965 Q126.987 381.549 121.177 381.549 Q115.367 381.549 112.288 376.965 Q109.233 372.359 109.233 363.632 Q109.233 354.882 112.288 350.299 Q115.367 345.693 121.177 345.693 Z\" fill=\"#000000\" fill-rule=\"evenodd\" fill-opacity=\"1\" /><path clip-path=\"url(#clip690)\" d=\"M51.6634 180.07 L59.3023 180.07 L59.3023 153.704 L50.9921 155.371 L50.9921 151.112 L59.256 149.445 L63.9319 149.445 L63.9319 180.07 L71.5707 180.07 L71.5707 184.005 L51.6634 184.005 L51.6634 180.07 Z\" fill=\"#000000\" fill-rule=\"evenodd\" fill-opacity=\"1\" /><path clip-path=\"url(#clip690)\" d=\"M85.0429 180.07 L101.362 180.07 L101.362 184.005 L79.4179 184.005 L79.4179 180.07 Q82.0799 177.315 86.6632 172.686 Q91.2697 168.033 92.4502 166.69 Q94.6956 164.167 95.5752 162.431 Q96.478 160.672 96.478 158.982 Q96.478 156.228 94.5336 154.491 Q92.6123 152.755 89.5104 152.755 Q87.3114 152.755 84.8577 153.519 Q82.4271 154.283 79.6494 155.834 L79.6494 151.112 Q82.4734 149.978 84.9271 149.399 Q87.3808 148.82 89.4178 148.82 Q94.7882 148.82 97.9826 151.505 Q101.177 154.191 101.177 158.681 Q101.177 160.811 100.367 162.732 Q99.5798 164.63 97.4734 167.223 Q96.8947 167.894 93.7928 171.112 Q90.691 174.306 85.0429 180.07 Z\" fill=\"#000000\" fill-rule=\"evenodd\" fill-opacity=\"1\" /><path clip-path=\"url(#clip690)\" d=\"M121.177 152.524 Q117.566 152.524 115.737 156.089 Q113.932 159.63 113.932 166.76 Q113.932 173.866 115.737 177.431 Q117.566 180.973 121.177 180.973 Q124.811 180.973 126.617 177.431 Q128.445 173.866 128.445 166.76 Q128.445 159.63 126.617 156.089 Q124.811 152.524 121.177 152.524 M121.177 148.82 Q126.987 148.82 130.043 153.427 Q133.121 158.01 133.121 166.76 Q133.121 175.487 130.043 180.093 Q126.987 184.676 121.177 184.676 Q115.367 184.676 112.288 180.093 Q109.233 175.487 109.233 166.76 Q109.233 158.01 112.288 153.427 Q115.367 148.82 121.177 148.82 Z\" fill=\"#000000\" fill-rule=\"evenodd\" fill-opacity=\"1\" /><circle clip-path=\"url(#clip692)\" cx=\"230.922\" cy=\"500.941\" r=\"14.4\" fill=\"#009af9\" fill-rule=\"evenodd\" fill-opacity=\"1\" stroke=\"#000000\" stroke-opacity=\"1\" stroke-width=\"3.2\"/>\n",
       "<circle clip-path=\"url(#clip692)\" cx=\"333.924\" cy=\"825.959\" r=\"14.4\" fill=\"#009af9\" fill-rule=\"evenodd\" fill-opacity=\"1\" stroke=\"#000000\" stroke-opacity=\"1\" stroke-width=\"3.2\"/>\n",
       "<circle clip-path=\"url(#clip692)\" cx=\"436.926\" cy=\"1028.66\" r=\"14.4\" fill=\"#009af9\" fill-rule=\"evenodd\" fill-opacity=\"1\" stroke=\"#000000\" stroke-opacity=\"1\" stroke-width=\"3.2\"/>\n",
       "<circle clip-path=\"url(#clip692)\" cx=\"539.927\" cy=\"1121.17\" r=\"14.4\" fill=\"#009af9\" fill-rule=\"evenodd\" fill-opacity=\"1\" stroke=\"#000000\" stroke-opacity=\"1\" stroke-width=\"3.2\"/>\n",
       "<circle clip-path=\"url(#clip692)\" cx=\"642.929\" cy=\"1170.74\" r=\"14.4\" fill=\"#009af9\" fill-rule=\"evenodd\" fill-opacity=\"1\" stroke=\"#000000\" stroke-opacity=\"1\" stroke-width=\"3.2\"/>\n",
       "<circle clip-path=\"url(#clip692)\" cx=\"745.93\" cy=\"1384.43\" r=\"14.4\" fill=\"#009af9\" fill-rule=\"evenodd\" fill-opacity=\"1\" stroke=\"#000000\" stroke-opacity=\"1\" stroke-width=\"3.2\"/>\n",
       "<circle clip-path=\"url(#clip692)\" cx=\"848.932\" cy=\"1391.72\" r=\"14.4\" fill=\"#009af9\" fill-rule=\"evenodd\" fill-opacity=\"1\" stroke=\"#000000\" stroke-opacity=\"1\" stroke-width=\"3.2\"/>\n",
       "<circle clip-path=\"url(#clip692)\" cx=\"951.934\" cy=\"1252.72\" r=\"14.4\" fill=\"#009af9\" fill-rule=\"evenodd\" fill-opacity=\"1\" stroke=\"#000000\" stroke-opacity=\"1\" stroke-width=\"3.2\"/>\n",
       "<circle clip-path=\"url(#clip692)\" cx=\"1054.94\" cy=\"1445.72\" r=\"14.4\" fill=\"#009af9\" fill-rule=\"evenodd\" fill-opacity=\"1\" stroke=\"#000000\" stroke-opacity=\"1\" stroke-width=\"3.2\"/>\n",
       "<circle clip-path=\"url(#clip692)\" cx=\"1157.94\" cy=\"1392.52\" r=\"14.4\" fill=\"#009af9\" fill-rule=\"evenodd\" fill-opacity=\"1\" stroke=\"#000000\" stroke-opacity=\"1\" stroke-width=\"3.2\"/>\n",
       "<circle clip-path=\"url(#clip692)\" cx=\"1260.94\" cy=\"1375.65\" r=\"14.4\" fill=\"#009af9\" fill-rule=\"evenodd\" fill-opacity=\"1\" stroke=\"#000000\" stroke-opacity=\"1\" stroke-width=\"3.2\"/>\n",
       "<circle clip-path=\"url(#clip692)\" cx=\"1363.94\" cy=\"1434.26\" r=\"14.4\" fill=\"#009af9\" fill-rule=\"evenodd\" fill-opacity=\"1\" stroke=\"#000000\" stroke-opacity=\"1\" stroke-width=\"3.2\"/>\n",
       "<circle clip-path=\"url(#clip692)\" cx=\"1466.94\" cy=\"1284.42\" r=\"14.4\" fill=\"#009af9\" fill-rule=\"evenodd\" fill-opacity=\"1\" stroke=\"#000000\" stroke-opacity=\"1\" stroke-width=\"3.2\"/>\n",
       "<circle clip-path=\"url(#clip692)\" cx=\"1569.94\" cy=\"1251.78\" r=\"14.4\" fill=\"#009af9\" fill-rule=\"evenodd\" fill-opacity=\"1\" stroke=\"#000000\" stroke-opacity=\"1\" stroke-width=\"3.2\"/>\n",
       "<circle clip-path=\"url(#clip692)\" cx=\"1672.95\" cy=\"1190.9\" r=\"14.4\" fill=\"#009af9\" fill-rule=\"evenodd\" fill-opacity=\"1\" stroke=\"#000000\" stroke-opacity=\"1\" stroke-width=\"3.2\"/>\n",
       "<circle clip-path=\"url(#clip692)\" cx=\"1775.95\" cy=\"1022.48\" r=\"14.4\" fill=\"#009af9\" fill-rule=\"evenodd\" fill-opacity=\"1\" stroke=\"#000000\" stroke-opacity=\"1\" stroke-width=\"3.2\"/>\n",
       "<circle clip-path=\"url(#clip692)\" cx=\"1878.95\" cy=\"768.966\" r=\"14.4\" fill=\"#009af9\" fill-rule=\"evenodd\" fill-opacity=\"1\" stroke=\"#000000\" stroke-opacity=\"1\" stroke-width=\"3.2\"/>\n",
       "<circle clip-path=\"url(#clip692)\" cx=\"1981.95\" cy=\"780.452\" r=\"14.4\" fill=\"#009af9\" fill-rule=\"evenodd\" fill-opacity=\"1\" stroke=\"#000000\" stroke-opacity=\"1\" stroke-width=\"3.2\"/>\n",
       "<circle clip-path=\"url(#clip692)\" cx=\"2084.95\" cy=\"554.37\" r=\"14.4\" fill=\"#009af9\" fill-rule=\"evenodd\" fill-opacity=\"1\" stroke=\"#000000\" stroke-opacity=\"1\" stroke-width=\"3.2\"/>\n",
       "<circle clip-path=\"url(#clip692)\" cx=\"2187.95\" cy=\"381.462\" r=\"14.4\" fill=\"#009af9\" fill-rule=\"evenodd\" fill-opacity=\"1\" stroke=\"#000000\" stroke-opacity=\"1\" stroke-width=\"3.2\"/>\n",
       "<circle clip-path=\"url(#clip692)\" cx=\"2290.95\" cy=\"116.491\" r=\"14.4\" fill=\"#009af9\" fill-rule=\"evenodd\" fill-opacity=\"1\" stroke=\"#000000\" stroke-opacity=\"1\" stroke-width=\"3.2\"/>\n",
       "<polyline clip-path=\"url(#clip692)\" style=\"stroke:#e26f46; stroke-linecap:round; stroke-linejoin:round; stroke-width:4; stroke-opacity:1; fill:none\" points=\"230.922,678.593 333.924,836.091 436.926,973.902 539.927,1092.03 642.929,1190.46 745.93,1269.21 848.932,1328.27 951.934,1367.65 1054.94,1387.33 1157.94,1387.33 1260.94,1367.65 1363.94,1328.27 1466.94,1269.21 1569.94,1190.46 1672.95,1092.03 1775.95,973.902 1878.95,836.091 1981.95,678.593 2084.95,501.408 2187.95,304.536 2290.95,87.9763 \"/>\n",
       "<polyline clip-path=\"url(#clip692)\" style=\"stroke:#3da44d; stroke-linecap:round; stroke-linejoin:round; stroke-width:4; stroke-opacity:1; fill:none\" points=\"230.922,625.053 333.924,797.403 436.926,948.969 539.927,1079.75 642.929,1189.75 745.93,1278.96 848.932,1347.38 951.934,1395.02 1054.94,1421.88 1157.94,1427.95 1260.94,1413.24 1363.94,1377.74 1466.94,1321.46 1569.94,1244.39 1672.95,1146.53 1775.95,1027.9 1878.95,888.474 1981.95,728.266 2084.95,547.274 2187.95,345.496 2290.95,122.934 \"/>\n",
       "<path clip-path=\"url(#clip690)\" d=\"M241.909 302.578 L513.282 302.578 L513.282 95.2176 L241.909 95.2176  Z\" fill=\"#ffffff\" fill-rule=\"evenodd\" fill-opacity=\"1\"/>\n",
       "<polyline clip-path=\"url(#clip690)\" style=\"stroke:#000000; stroke-linecap:round; stroke-linejoin:round; stroke-width:4; stroke-opacity:1; fill:none\" points=\"241.909,302.578 513.282,302.578 513.282,95.2176 241.909,95.2176 241.909,302.578 \"/>\n",
       "<circle clip-path=\"url(#clip690)\" cx=\"338.96\" cy=\"147.058\" r=\"23.04\" fill=\"#009af9\" fill-rule=\"evenodd\" fill-opacity=\"1\" stroke=\"#000000\" stroke-opacity=\"1\" stroke-width=\"5.12\"/>\n",
       "<path clip-path=\"url(#clip690)\" d=\"M449.853 166.745 Q448.047 171.375 446.334 172.787 Q444.621 174.199 441.751 174.199 L438.348 174.199 L438.348 170.634 L440.848 170.634 Q442.607 170.634 443.579 169.8 Q444.552 168.967 445.732 165.865 L446.496 163.921 L436.01 138.412 L440.524 138.412 L448.626 158.689 L456.727 138.412 L461.241 138.412 L449.853 166.745 Z\" fill=\"#000000\" fill-rule=\"evenodd\" fill-opacity=\"1\" /><path clip-path=\"url(#clip690)\" d=\"M468.533 160.402 L476.172 160.402 L476.172 134.037 L467.862 135.703 L467.862 131.444 L476.126 129.778 L480.801 129.778 L480.801 160.402 L488.44 160.402 L488.44 164.338 L468.533 164.338 L468.533 160.402 Z\" fill=\"#000000\" fill-rule=\"evenodd\" fill-opacity=\"1\" /><polyline clip-path=\"url(#clip690)\" style=\"stroke:#e26f46; stroke-linecap:round; stroke-linejoin:round; stroke-width:4; stroke-opacity:1; fill:none\" points=\"266.172,198.898 411.747,198.898 \"/>\n",
       "<path clip-path=\"url(#clip690)\" d=\"M449.853 218.585 Q448.047 223.215 446.334 224.627 Q444.621 226.039 441.751 226.039 L438.348 226.039 L438.348 222.474 L440.848 222.474 Q442.607 222.474 443.579 221.64 Q444.552 220.807 445.732 217.705 L446.496 215.761 L436.01 190.252 L440.524 190.252 L448.626 210.529 L456.727 190.252 L461.241 190.252 L449.853 218.585 Z\" fill=\"#000000\" fill-rule=\"evenodd\" fill-opacity=\"1\" /><path clip-path=\"url(#clip690)\" d=\"M471.751 212.242 L488.07 212.242 L488.07 216.178 L466.126 216.178 L466.126 212.242 Q468.788 209.488 473.371 204.858 Q477.977 200.205 479.158 198.863 Q481.403 196.34 482.283 194.604 Q483.186 192.844 483.186 191.155 Q483.186 188.4 481.241 186.664 Q479.32 184.928 476.218 184.928 Q474.019 184.928 471.565 185.692 Q469.135 186.455 466.357 188.006 L466.357 183.284 Q469.181 182.15 471.635 181.571 Q474.088 180.993 476.126 180.993 Q481.496 180.993 484.69 183.678 Q487.885 186.363 487.885 190.854 Q487.885 192.983 487.075 194.905 Q486.287 196.803 484.181 199.395 Q483.602 200.067 480.5 203.284 Q477.399 206.479 471.751 212.242 Z\" fill=\"#000000\" fill-rule=\"evenodd\" fill-opacity=\"1\" /><polyline clip-path=\"url(#clip690)\" style=\"stroke:#3da44d; stroke-linecap:round; stroke-linejoin:round; stroke-width:4; stroke-opacity:1; fill:none\" points=\"266.172,250.738 411.747,250.738 \"/>\n",
       "<path clip-path=\"url(#clip690)\" d=\"M449.853 270.425 Q448.047 275.055 446.334 276.467 Q444.621 277.879 441.751 277.879 L438.348 277.879 L438.348 274.314 L440.848 274.314 Q442.607 274.314 443.579 273.48 Q444.552 272.647 445.732 269.545 L446.496 267.601 L436.01 242.092 L440.524 242.092 L448.626 262.369 L456.727 242.092 L461.241 242.092 L449.853 270.425 Z\" fill=\"#000000\" fill-rule=\"evenodd\" fill-opacity=\"1\" /><path clip-path=\"url(#clip690)\" d=\"M481.889 249.383 Q485.246 250.101 487.121 252.369 Q489.019 254.638 489.019 257.971 Q489.019 263.087 485.5 265.888 Q481.982 268.689 475.501 268.689 Q473.325 268.689 471.01 268.249 Q468.718 267.832 466.264 266.976 L466.264 262.462 Q468.209 263.596 470.524 264.175 Q472.838 264.754 475.362 264.754 Q479.76 264.754 482.051 263.018 Q484.366 261.281 484.366 257.971 Q484.366 254.916 482.213 253.203 Q480.084 251.467 476.264 251.467 L472.237 251.467 L472.237 247.624 L476.45 247.624 Q479.899 247.624 481.727 246.258 Q483.556 244.87 483.556 242.277 Q483.556 239.615 481.658 238.203 Q479.783 236.768 476.264 236.768 Q474.343 236.768 472.144 237.184 Q469.945 237.601 467.306 238.481 L467.306 234.314 Q469.968 233.573 472.283 233.203 Q474.621 232.833 476.681 232.833 Q482.005 232.833 485.107 235.263 Q488.209 237.67 488.209 241.791 Q488.209 244.661 486.565 246.652 Q484.922 248.62 481.889 249.383 Z\" fill=\"#000000\" fill-rule=\"evenodd\" fill-opacity=\"1\" /></svg>\n"
      ]
     },
     "execution_count": 109,
     "metadata": {},
     "output_type": "execute_result"
    }
   ],
   "source": [
    "using Plots\n",
    "import Distributions as di\n",
    "using Random\n",
    "using Polynomials: Polynomials, fit, coeffs\n",
    "using Statistics\n",
    "x_t = collect(x_t)\n",
    "line_fit = fit(x_t,y_observed,2)\n",
    "fit_coeff = coeffs(line_fit)\n",
    "y_fitted = fit_coeff[1] .+ (fit_coeff[2] .* (x_t)) .+ ((fit_coeff[3]) .* (x_t.^2))\n",
    "scatter(x_t,y_observed)\n",
    "plot!(x_t,y_true)\n",
    "plot!(x_t,y_fitted)"
   ]
  },
  {
   "cell_type": "markdown",
   "id": "b3b5a343",
   "metadata": {},
   "source": [
    "### 2.4\n",
    "\n",
    "1. Repeat 2.2 and 2.3 with a noise with a standard deviation of 50"
   ]
  },
  {
   "cell_type": "code",
   "execution_count": 116,
   "id": "7e1d326f",
   "metadata": {},
   "outputs": [
    {
     "data": {
      "image/svg+xml": [
       "<?xml version=\"1.0\" encoding=\"utf-8\"?>\n",
       "<svg xmlns=\"http://www.w3.org/2000/svg\" xmlns:xlink=\"http://www.w3.org/1999/xlink\" width=\"600\" height=\"400\" viewBox=\"0 0 2400 1600\">\n",
       "<defs>\n",
       "  <clipPath id=\"clip930\">\n",
       "    <rect x=\"0\" y=\"0\" width=\"2400\" height=\"1600\"/>\n",
       "  </clipPath>\n",
       "</defs>\n",
       "<path clip-path=\"url(#clip930)\" d=\"M0 1600 L2400 1600 L2400 0 L0 0  Z\" fill=\"#ffffff\" fill-rule=\"evenodd\" fill-opacity=\"1\"/>\n",
       "<defs>\n",
       "  <clipPath id=\"clip931\">\n",
       "    <rect x=\"480\" y=\"0\" width=\"1681\" height=\"1600\"/>\n",
       "  </clipPath>\n",
       "</defs>\n",
       "<path clip-path=\"url(#clip930)\" d=\"M178.867 1486.45 L2352.76 1486.45 L2352.76 47.2441 L178.867 47.2441  Z\" fill=\"#ffffff\" fill-rule=\"evenodd\" fill-opacity=\"1\"/>\n",
       "<defs>\n",
       "  <clipPath id=\"clip932\">\n",
       "    <rect x=\"178\" y=\"47\" width=\"2175\" height=\"1440\"/>\n",
       "  </clipPath>\n",
       "</defs>\n",
       "<polyline clip-path=\"url(#clip932)\" style=\"stroke:#000000; stroke-linecap:round; stroke-linejoin:round; stroke-width:2; stroke-opacity:0.1; fill:none\" points=\"240.392,1486.45 240.392,47.2441 \"/>\n",
       "<polyline clip-path=\"url(#clip932)\" style=\"stroke:#000000; stroke-linecap:round; stroke-linejoin:round; stroke-width:2; stroke-opacity:0.1; fill:none\" points=\"753.102,1486.45 753.102,47.2441 \"/>\n",
       "<polyline clip-path=\"url(#clip932)\" style=\"stroke:#000000; stroke-linecap:round; stroke-linejoin:round; stroke-width:2; stroke-opacity:0.1; fill:none\" points=\"1265.81,1486.45 1265.81,47.2441 \"/>\n",
       "<polyline clip-path=\"url(#clip932)\" style=\"stroke:#000000; stroke-linecap:round; stroke-linejoin:round; stroke-width:2; stroke-opacity:0.1; fill:none\" points=\"1778.52,1486.45 1778.52,47.2441 \"/>\n",
       "<polyline clip-path=\"url(#clip932)\" style=\"stroke:#000000; stroke-linecap:round; stroke-linejoin:round; stroke-width:2; stroke-opacity:0.1; fill:none\" points=\"2291.23,1486.45 2291.23,47.2441 \"/>\n",
       "<polyline clip-path=\"url(#clip930)\" style=\"stroke:#000000; stroke-linecap:round; stroke-linejoin:round; stroke-width:4; stroke-opacity:1; fill:none\" points=\"178.867,1486.45 2352.76,1486.45 \"/>\n",
       "<polyline clip-path=\"url(#clip930)\" style=\"stroke:#000000; stroke-linecap:round; stroke-linejoin:round; stroke-width:4; stroke-opacity:1; fill:none\" points=\"240.392,1486.45 240.392,1467.55 \"/>\n",
       "<polyline clip-path=\"url(#clip930)\" style=\"stroke:#000000; stroke-linecap:round; stroke-linejoin:round; stroke-width:4; stroke-opacity:1; fill:none\" points=\"753.102,1486.45 753.102,1467.55 \"/>\n",
       "<polyline clip-path=\"url(#clip930)\" style=\"stroke:#000000; stroke-linecap:round; stroke-linejoin:round; stroke-width:4; stroke-opacity:1; fill:none\" points=\"1265.81,1486.45 1265.81,1467.55 \"/>\n",
       "<polyline clip-path=\"url(#clip930)\" style=\"stroke:#000000; stroke-linecap:round; stroke-linejoin:round; stroke-width:4; stroke-opacity:1; fill:none\" points=\"1778.52,1486.45 1778.52,1467.55 \"/>\n",
       "<polyline clip-path=\"url(#clip930)\" style=\"stroke:#000000; stroke-linecap:round; stroke-linejoin:round; stroke-width:4; stroke-opacity:1; fill:none\" points=\"2291.23,1486.45 2291.23,1467.55 \"/>\n",
       "<path clip-path=\"url(#clip930)\" d=\"M194.455 1532.02 L224.13 1532.02 L224.13 1535.95 L194.455 1535.95 L194.455 1532.02 Z\" fill=\"#000000\" fill-rule=\"evenodd\" fill-opacity=\"1\" /><path clip-path=\"url(#clip930)\" d=\"M235.033 1544.91 L242.672 1544.91 L242.672 1518.55 L234.362 1520.21 L234.362 1515.95 L242.626 1514.29 L247.301 1514.29 L247.301 1544.91 L254.94 1544.91 L254.94 1548.85 L235.033 1548.85 L235.033 1544.91 Z\" fill=\"#000000\" fill-rule=\"evenodd\" fill-opacity=\"1\" /><path clip-path=\"url(#clip930)\" d=\"M274.385 1517.37 Q270.774 1517.37 268.945 1520.93 Q267.139 1524.47 267.139 1531.6 Q267.139 1538.71 268.945 1542.27 Q270.774 1545.82 274.385 1545.82 Q278.019 1545.82 279.824 1542.27 Q281.653 1538.71 281.653 1531.6 Q281.653 1524.47 279.824 1520.93 Q278.019 1517.37 274.385 1517.37 M274.385 1513.66 Q280.195 1513.66 283.25 1518.27 Q286.329 1522.85 286.329 1531.6 Q286.329 1540.33 283.25 1544.94 Q280.195 1549.52 274.385 1549.52 Q268.575 1549.52 265.496 1544.94 Q262.44 1540.33 262.44 1531.6 Q262.44 1522.85 265.496 1518.27 Q268.575 1513.66 274.385 1513.66 Z\" fill=\"#000000\" fill-rule=\"evenodd\" fill-opacity=\"1\" /><path clip-path=\"url(#clip930)\" d=\"M722.743 1532.02 L752.419 1532.02 L752.419 1535.95 L722.743 1535.95 L722.743 1532.02 Z\" fill=\"#000000\" fill-rule=\"evenodd\" fill-opacity=\"1\" /><path clip-path=\"url(#clip930)\" d=\"M762.558 1514.29 L780.914 1514.29 L780.914 1518.22 L766.84 1518.22 L766.84 1526.7 Q767.858 1526.35 768.877 1526.19 Q769.895 1526 770.914 1526 Q776.701 1526 780.081 1529.17 Q783.46 1532.34 783.46 1537.76 Q783.46 1543.34 779.988 1546.44 Q776.516 1549.52 770.196 1549.52 Q768.02 1549.52 765.752 1549.15 Q763.507 1548.78 761.099 1548.04 L761.099 1543.34 Q763.183 1544.47 765.405 1545.03 Q767.627 1545.58 770.104 1545.58 Q774.108 1545.58 776.446 1543.48 Q778.784 1541.37 778.784 1537.76 Q778.784 1534.15 776.446 1532.04 Q774.108 1529.94 770.104 1529.94 Q768.229 1529.94 766.354 1530.35 Q764.502 1530.77 762.558 1531.65 L762.558 1514.29 Z\" fill=\"#000000\" fill-rule=\"evenodd\" fill-opacity=\"1\" /><path clip-path=\"url(#clip930)\" d=\"M1265.81 1517.37 Q1262.2 1517.37 1260.37 1520.93 Q1258.57 1524.47 1258.57 1531.6 Q1258.57 1538.71 1260.37 1542.27 Q1262.2 1545.82 1265.81 1545.82 Q1269.45 1545.82 1271.25 1542.27 Q1273.08 1538.71 1273.08 1531.6 Q1273.08 1524.47 1271.25 1520.93 Q1269.45 1517.37 1265.81 1517.37 M1265.81 1513.66 Q1271.62 1513.66 1274.68 1518.27 Q1277.76 1522.85 1277.76 1531.6 Q1277.76 1540.33 1274.68 1544.94 Q1271.62 1549.52 1265.81 1549.52 Q1260 1549.52 1256.92 1544.94 Q1253.87 1540.33 1253.87 1531.6 Q1253.87 1522.85 1256.92 1518.27 Q1260 1513.66 1265.81 1513.66 Z\" fill=\"#000000\" fill-rule=\"evenodd\" fill-opacity=\"1\" /><path clip-path=\"url(#clip930)\" d=\"M1768.8 1514.29 L1787.16 1514.29 L1787.16 1518.22 L1773.08 1518.22 L1773.08 1526.7 Q1774.1 1526.35 1775.12 1526.19 Q1776.14 1526 1777.16 1526 Q1782.94 1526 1786.32 1529.17 Q1789.7 1532.34 1789.7 1537.76 Q1789.7 1543.34 1786.23 1546.44 Q1782.76 1549.52 1776.44 1549.52 Q1774.26 1549.52 1771.99 1549.15 Q1769.75 1548.78 1767.34 1548.04 L1767.34 1543.34 Q1769.42 1544.47 1771.65 1545.03 Q1773.87 1545.58 1776.35 1545.58 Q1780.35 1545.58 1782.69 1543.48 Q1785.03 1541.37 1785.03 1537.76 Q1785.03 1534.15 1782.69 1532.04 Q1780.35 1529.94 1776.35 1529.94 Q1774.47 1529.94 1772.6 1530.35 Q1770.74 1530.77 1768.8 1531.65 L1768.8 1514.29 Z\" fill=\"#000000\" fill-rule=\"evenodd\" fill-opacity=\"1\" /><path clip-path=\"url(#clip930)\" d=\"M2265.92 1544.91 L2273.56 1544.91 L2273.56 1518.55 L2265.25 1520.21 L2265.25 1515.95 L2273.51 1514.29 L2278.19 1514.29 L2278.19 1544.91 L2285.83 1544.91 L2285.83 1548.85 L2265.92 1548.85 L2265.92 1544.91 Z\" fill=\"#000000\" fill-rule=\"evenodd\" fill-opacity=\"1\" /><path clip-path=\"url(#clip930)\" d=\"M2305.27 1517.37 Q2301.66 1517.37 2299.83 1520.93 Q2298.02 1524.47 2298.02 1531.6 Q2298.02 1538.71 2299.83 1542.27 Q2301.66 1545.82 2305.27 1545.82 Q2308.9 1545.82 2310.71 1542.27 Q2312.54 1538.71 2312.54 1531.6 Q2312.54 1524.47 2310.71 1520.93 Q2308.9 1517.37 2305.27 1517.37 M2305.27 1513.66 Q2311.08 1513.66 2314.14 1518.27 Q2317.21 1522.85 2317.21 1531.6 Q2317.21 1540.33 2314.14 1544.94 Q2311.08 1549.52 2305.27 1549.52 Q2299.46 1549.52 2296.38 1544.94 Q2293.33 1540.33 2293.33 1531.6 Q2293.33 1522.85 2296.38 1518.27 Q2299.46 1513.66 2305.27 1513.66 Z\" fill=\"#000000\" fill-rule=\"evenodd\" fill-opacity=\"1\" /><polyline clip-path=\"url(#clip932)\" style=\"stroke:#000000; stroke-linecap:round; stroke-linejoin:round; stroke-width:2; stroke-opacity:0.1; fill:none\" points=\"178.867,1355.36 2352.76,1355.36 \"/>\n",
       "<polyline clip-path=\"url(#clip932)\" style=\"stroke:#000000; stroke-linecap:round; stroke-linejoin:round; stroke-width:2; stroke-opacity:0.1; fill:none\" points=\"178.867,1050.1 2352.76,1050.1 \"/>\n",
       "<polyline clip-path=\"url(#clip932)\" style=\"stroke:#000000; stroke-linecap:round; stroke-linejoin:round; stroke-width:2; stroke-opacity:0.1; fill:none\" points=\"178.867,744.844 2352.76,744.844 \"/>\n",
       "<polyline clip-path=\"url(#clip932)\" style=\"stroke:#000000; stroke-linecap:round; stroke-linejoin:round; stroke-width:2; stroke-opacity:0.1; fill:none\" points=\"178.867,439.584 2352.76,439.584 \"/>\n",
       "<polyline clip-path=\"url(#clip932)\" style=\"stroke:#000000; stroke-linecap:round; stroke-linejoin:round; stroke-width:2; stroke-opacity:0.1; fill:none\" points=\"178.867,134.324 2352.76,134.324 \"/>\n",
       "<polyline clip-path=\"url(#clip930)\" style=\"stroke:#000000; stroke-linecap:round; stroke-linejoin:round; stroke-width:4; stroke-opacity:1; fill:none\" points=\"178.867,1486.45 178.867,47.2441 \"/>\n",
       "<polyline clip-path=\"url(#clip930)\" style=\"stroke:#000000; stroke-linecap:round; stroke-linejoin:round; stroke-width:4; stroke-opacity:1; fill:none\" points=\"178.867,1355.36 197.764,1355.36 \"/>\n",
       "<polyline clip-path=\"url(#clip930)\" style=\"stroke:#000000; stroke-linecap:round; stroke-linejoin:round; stroke-width:4; stroke-opacity:1; fill:none\" points=\"178.867,1050.1 197.764,1050.1 \"/>\n",
       "<polyline clip-path=\"url(#clip930)\" style=\"stroke:#000000; stroke-linecap:round; stroke-linejoin:round; stroke-width:4; stroke-opacity:1; fill:none\" points=\"178.867,744.844 197.764,744.844 \"/>\n",
       "<polyline clip-path=\"url(#clip930)\" style=\"stroke:#000000; stroke-linecap:round; stroke-linejoin:round; stroke-width:4; stroke-opacity:1; fill:none\" points=\"178.867,439.584 197.764,439.584 \"/>\n",
       "<polyline clip-path=\"url(#clip930)\" style=\"stroke:#000000; stroke-linecap:round; stroke-linejoin:round; stroke-width:4; stroke-opacity:1; fill:none\" points=\"178.867,134.324 197.764,134.324 \"/>\n",
       "<path clip-path=\"url(#clip930)\" d=\"M50.9921 1355.81 L80.6679 1355.81 L80.6679 1359.75 L50.9921 1359.75 L50.9921 1355.81 Z\" fill=\"#000000\" fill-rule=\"evenodd\" fill-opacity=\"1\" /><path clip-path=\"url(#clip930)\" d=\"M90.8067 1338.08 L109.163 1338.08 L109.163 1342.02 L95.0891 1342.02 L95.0891 1350.49 Q96.1076 1350.14 97.1261 1349.98 Q98.1447 1349.8 99.1632 1349.8 Q104.95 1349.8 108.33 1352.97 Q111.709 1356.14 111.709 1361.56 Q111.709 1367.13 108.237 1370.24 Q104.765 1373.31 98.4456 1373.31 Q96.2697 1373.31 94.0012 1372.94 Q91.7558 1372.57 89.3484 1371.83 L89.3484 1367.13 Q91.4317 1368.27 93.6539 1368.82 Q95.8761 1369.38 98.353 1369.38 Q102.358 1369.38 104.696 1367.27 Q107.033 1365.17 107.033 1361.56 Q107.033 1357.94 104.696 1355.84 Q102.358 1353.73 98.353 1353.73 Q96.478 1353.73 94.603 1354.15 Q92.7512 1354.56 90.8067 1355.44 L90.8067 1338.08 Z\" fill=\"#000000\" fill-rule=\"evenodd\" fill-opacity=\"1\" /><path clip-path=\"url(#clip930)\" d=\"M130.922 1341.16 Q127.311 1341.16 125.482 1344.73 Q123.677 1348.27 123.677 1355.4 Q123.677 1362.5 125.482 1366.07 Q127.311 1369.61 130.922 1369.61 Q134.556 1369.61 136.362 1366.07 Q138.191 1362.5 138.191 1355.4 Q138.191 1348.27 136.362 1344.73 Q134.556 1341.16 130.922 1341.16 M130.922 1337.46 Q136.732 1337.46 139.788 1342.06 Q142.867 1346.65 142.867 1355.4 Q142.867 1364.13 139.788 1368.73 Q136.732 1373.31 130.922 1373.31 Q125.112 1373.31 122.033 1368.73 Q118.978 1364.13 118.978 1355.4 Q118.978 1346.65 122.033 1342.06 Q125.112 1337.46 130.922 1337.46 Z\" fill=\"#000000\" fill-rule=\"evenodd\" fill-opacity=\"1\" /><path clip-path=\"url(#clip930)\" d=\"M130.922 1035.9 Q127.311 1035.9 125.482 1039.47 Q123.677 1043.01 123.677 1050.14 Q123.677 1057.24 125.482 1060.81 Q127.311 1064.35 130.922 1064.35 Q134.556 1064.35 136.362 1060.81 Q138.191 1057.24 138.191 1050.14 Q138.191 1043.01 136.362 1039.47 Q134.556 1035.9 130.922 1035.9 M130.922 1032.2 Q136.732 1032.2 139.788 1036.81 Q142.867 1041.39 142.867 1050.14 Q142.867 1058.87 139.788 1063.47 Q136.732 1068.05 130.922 1068.05 Q125.112 1068.05 122.033 1063.47 Q118.978 1058.87 118.978 1050.14 Q118.978 1041.39 122.033 1036.81 Q125.112 1032.2 130.922 1032.2 Z\" fill=\"#000000\" fill-rule=\"evenodd\" fill-opacity=\"1\" /><path clip-path=\"url(#clip930)\" d=\"M90.8067 727.564 L109.163 727.564 L109.163 731.499 L95.0891 731.499 L95.0891 739.971 Q96.1076 739.624 97.1261 739.462 Q98.1447 739.277 99.1632 739.277 Q104.95 739.277 108.33 742.448 Q111.709 745.619 111.709 751.036 Q111.709 756.614 108.237 759.716 Q104.765 762.795 98.4456 762.795 Q96.2697 762.795 94.0012 762.425 Q91.7558 762.054 89.3484 761.313 L89.3484 756.614 Q91.4317 757.749 93.6539 758.304 Q95.8761 758.86 98.353 758.86 Q102.358 758.86 104.696 756.753 Q107.033 754.647 107.033 751.036 Q107.033 747.425 104.696 745.318 Q102.358 743.212 98.353 743.212 Q96.478 743.212 94.603 743.628 Q92.7512 744.045 90.8067 744.925 L90.8067 727.564 Z\" fill=\"#000000\" fill-rule=\"evenodd\" fill-opacity=\"1\" /><path clip-path=\"url(#clip930)\" d=\"M130.922 730.642 Q127.311 730.642 125.482 734.207 Q123.677 737.749 123.677 744.878 Q123.677 751.985 125.482 755.55 Q127.311 759.091 130.922 759.091 Q134.556 759.091 136.362 755.55 Q138.191 751.985 138.191 744.878 Q138.191 737.749 136.362 734.207 Q134.556 730.642 130.922 730.642 M130.922 726.939 Q136.732 726.939 139.788 731.545 Q142.867 736.128 142.867 744.878 Q142.867 753.605 139.788 758.212 Q136.732 762.795 130.922 762.795 Q125.112 762.795 122.033 758.212 Q118.978 753.605 118.978 744.878 Q118.978 736.128 122.033 731.545 Q125.112 726.939 130.922 726.939 Z\" fill=\"#000000\" fill-rule=\"evenodd\" fill-opacity=\"1\" /><path clip-path=\"url(#clip930)\" d=\"M61.4087 452.929 L69.0476 452.929 L69.0476 426.563 L60.7374 428.23 L60.7374 423.97 L69.0013 422.304 L73.6772 422.304 L73.6772 452.929 L81.316 452.929 L81.316 456.864 L61.4087 456.864 L61.4087 452.929 Z\" fill=\"#000000\" fill-rule=\"evenodd\" fill-opacity=\"1\" /><path clip-path=\"url(#clip930)\" d=\"M100.76 425.382 Q97.1493 425.382 95.3206 428.947 Q93.515 432.489 93.515 439.618 Q93.515 446.725 95.3206 450.29 Q97.1493 453.831 100.76 453.831 Q104.395 453.831 106.2 450.29 Q108.029 446.725 108.029 439.618 Q108.029 432.489 106.2 428.947 Q104.395 425.382 100.76 425.382 M100.76 421.679 Q106.571 421.679 109.626 426.285 Q112.705 430.868 112.705 439.618 Q112.705 448.345 109.626 452.952 Q106.571 457.535 100.76 457.535 Q94.9502 457.535 91.8715 452.952 Q88.816 448.345 88.816 439.618 Q88.816 430.868 91.8715 426.285 Q94.9502 421.679 100.76 421.679 Z\" fill=\"#000000\" fill-rule=\"evenodd\" fill-opacity=\"1\" /><path clip-path=\"url(#clip930)\" d=\"M130.922 425.382 Q127.311 425.382 125.482 428.947 Q123.677 432.489 123.677 439.618 Q123.677 446.725 125.482 450.29 Q127.311 453.831 130.922 453.831 Q134.556 453.831 136.362 450.29 Q138.191 446.725 138.191 439.618 Q138.191 432.489 136.362 428.947 Q134.556 425.382 130.922 425.382 M130.922 421.679 Q136.732 421.679 139.788 426.285 Q142.867 430.868 142.867 439.618 Q142.867 448.345 139.788 452.952 Q136.732 457.535 130.922 457.535 Q125.112 457.535 122.033 452.952 Q118.978 448.345 118.978 439.618 Q118.978 430.868 122.033 426.285 Q125.112 421.679 130.922 421.679 Z\" fill=\"#000000\" fill-rule=\"evenodd\" fill-opacity=\"1\" /><path clip-path=\"url(#clip930)\" d=\"M61.4087 147.669 L69.0476 147.669 L69.0476 121.303 L60.7374 122.97 L60.7374 118.71 L69.0013 117.044 L73.6772 117.044 L73.6772 147.669 L81.316 147.669 L81.316 151.604 L61.4087 151.604 L61.4087 147.669 Z\" fill=\"#000000\" fill-rule=\"evenodd\" fill-opacity=\"1\" /><path clip-path=\"url(#clip930)\" d=\"M90.8067 117.044 L109.163 117.044 L109.163 120.979 L95.0891 120.979 L95.0891 129.451 Q96.1076 129.104 97.1261 128.942 Q98.1447 128.757 99.1632 128.757 Q104.95 128.757 108.33 131.928 Q111.709 135.099 111.709 140.516 Q111.709 146.094 108.237 149.196 Q104.765 152.275 98.4456 152.275 Q96.2697 152.275 94.0012 151.905 Q91.7558 151.534 89.3484 150.794 L89.3484 146.094 Q91.4317 147.229 93.6539 147.784 Q95.8761 148.34 98.353 148.34 Q102.358 148.34 104.696 146.233 Q107.033 144.127 107.033 140.516 Q107.033 136.905 104.696 134.798 Q102.358 132.692 98.353 132.692 Q96.478 132.692 94.603 133.108 Q92.7512 133.525 90.8067 134.405 L90.8067 117.044 Z\" fill=\"#000000\" fill-rule=\"evenodd\" fill-opacity=\"1\" /><path clip-path=\"url(#clip930)\" d=\"M130.922 120.122 Q127.311 120.122 125.482 123.687 Q123.677 127.229 123.677 134.358 Q123.677 141.465 125.482 145.03 Q127.311 148.571 130.922 148.571 Q134.556 148.571 136.362 145.03 Q138.191 141.465 138.191 134.358 Q138.191 127.229 136.362 123.687 Q134.556 120.122 130.922 120.122 M130.922 116.419 Q136.732 116.419 139.788 121.025 Q142.867 125.608 142.867 134.358 Q142.867 143.085 139.788 147.692 Q136.732 152.275 130.922 152.275 Q125.112 152.275 122.033 147.692 Q118.978 143.085 118.978 134.358 Q118.978 125.608 122.033 121.025 Q125.112 116.419 130.922 116.419 Z\" fill=\"#000000\" fill-rule=\"evenodd\" fill-opacity=\"1\" /><circle clip-path=\"url(#clip932)\" cx=\"240.392\" cy=\"979.695\" r=\"14.4\" fill=\"#009af9\" fill-rule=\"evenodd\" fill-opacity=\"1\" stroke=\"#000000\" stroke-opacity=\"1\" stroke-width=\"3.2\"/>\n",
       "<circle clip-path=\"url(#clip932)\" cx=\"342.934\" cy=\"201.817\" r=\"14.4\" fill=\"#009af9\" fill-rule=\"evenodd\" fill-opacity=\"1\" stroke=\"#000000\" stroke-opacity=\"1\" stroke-width=\"3.2\"/>\n",
       "<circle clip-path=\"url(#clip932)\" cx=\"445.476\" cy=\"626.622\" r=\"14.4\" fill=\"#009af9\" fill-rule=\"evenodd\" fill-opacity=\"1\" stroke=\"#000000\" stroke-opacity=\"1\" stroke-width=\"3.2\"/>\n",
       "<circle clip-path=\"url(#clip932)\" cx=\"548.018\" cy=\"1129.17\" r=\"14.4\" fill=\"#009af9\" fill-rule=\"evenodd\" fill-opacity=\"1\" stroke=\"#000000\" stroke-opacity=\"1\" stroke-width=\"3.2\"/>\n",
       "<circle clip-path=\"url(#clip932)\" cx=\"650.56\" cy=\"1445.72\" r=\"14.4\" fill=\"#009af9\" fill-rule=\"evenodd\" fill-opacity=\"1\" stroke=\"#000000\" stroke-opacity=\"1\" stroke-width=\"3.2\"/>\n",
       "<circle clip-path=\"url(#clip932)\" cx=\"753.102\" cy=\"663.631\" r=\"14.4\" fill=\"#009af9\" fill-rule=\"evenodd\" fill-opacity=\"1\" stroke=\"#000000\" stroke-opacity=\"1\" stroke-width=\"3.2\"/>\n",
       "<circle clip-path=\"url(#clip932)\" cx=\"855.643\" cy=\"1191.36\" r=\"14.4\" fill=\"#009af9\" fill-rule=\"evenodd\" fill-opacity=\"1\" stroke=\"#000000\" stroke-opacity=\"1\" stroke-width=\"3.2\"/>\n",
       "<circle clip-path=\"url(#clip932)\" cx=\"958.185\" cy=\"602.719\" r=\"14.4\" fill=\"#009af9\" fill-rule=\"evenodd\" fill-opacity=\"1\" stroke=\"#000000\" stroke-opacity=\"1\" stroke-width=\"3.2\"/>\n",
       "<circle clip-path=\"url(#clip932)\" cx=\"1060.73\" cy=\"1320.38\" r=\"14.4\" fill=\"#009af9\" fill-rule=\"evenodd\" fill-opacity=\"1\" stroke=\"#000000\" stroke-opacity=\"1\" stroke-width=\"3.2\"/>\n",
       "<circle clip-path=\"url(#clip932)\" cx=\"1163.27\" cy=\"613.166\" r=\"14.4\" fill=\"#009af9\" fill-rule=\"evenodd\" fill-opacity=\"1\" stroke=\"#000000\" stroke-opacity=\"1\" stroke-width=\"3.2\"/>\n",
       "<circle clip-path=\"url(#clip932)\" cx=\"1265.81\" cy=\"897.463\" r=\"14.4\" fill=\"#009af9\" fill-rule=\"evenodd\" fill-opacity=\"1\" stroke=\"#000000\" stroke-opacity=\"1\" stroke-width=\"3.2\"/>\n",
       "<circle clip-path=\"url(#clip932)\" cx=\"1368.35\" cy=\"440.753\" r=\"14.4\" fill=\"#009af9\" fill-rule=\"evenodd\" fill-opacity=\"1\" stroke=\"#000000\" stroke-opacity=\"1\" stroke-width=\"3.2\"/>\n",
       "<circle clip-path=\"url(#clip932)\" cx=\"1470.9\" cy=\"996.626\" r=\"14.4\" fill=\"#009af9\" fill-rule=\"evenodd\" fill-opacity=\"1\" stroke=\"#000000\" stroke-opacity=\"1\" stroke-width=\"3.2\"/>\n",
       "<circle clip-path=\"url(#clip932)\" cx=\"1573.44\" cy=\"638.031\" r=\"14.4\" fill=\"#009af9\" fill-rule=\"evenodd\" fill-opacity=\"1\" stroke=\"#000000\" stroke-opacity=\"1\" stroke-width=\"3.2\"/>\n",
       "<circle clip-path=\"url(#clip932)\" cx=\"1675.98\" cy=\"537.09\" r=\"14.4\" fill=\"#009af9\" fill-rule=\"evenodd\" fill-opacity=\"1\" stroke=\"#000000\" stroke-opacity=\"1\" stroke-width=\"3.2\"/>\n",
       "<circle clip-path=\"url(#clip932)\" cx=\"1778.52\" cy=\"1130.62\" r=\"14.4\" fill=\"#009af9\" fill-rule=\"evenodd\" fill-opacity=\"1\" stroke=\"#000000\" stroke-opacity=\"1\" stroke-width=\"3.2\"/>\n",
       "<circle clip-path=\"url(#clip932)\" cx=\"1881.06\" cy=\"1190.75\" r=\"14.4\" fill=\"#009af9\" fill-rule=\"evenodd\" fill-opacity=\"1\" stroke=\"#000000\" stroke-opacity=\"1\" stroke-width=\"3.2\"/>\n",
       "<circle clip-path=\"url(#clip932)\" cx=\"1983.6\" cy=\"870.807\" r=\"14.4\" fill=\"#009af9\" fill-rule=\"evenodd\" fill-opacity=\"1\" stroke=\"#000000\" stroke-opacity=\"1\" stroke-width=\"3.2\"/>\n",
       "<circle clip-path=\"url(#clip932)\" cx=\"2086.15\" cy=\"558.801\" r=\"14.4\" fill=\"#009af9\" fill-rule=\"evenodd\" fill-opacity=\"1\" stroke=\"#000000\" stroke-opacity=\"1\" stroke-width=\"3.2\"/>\n",
       "<circle clip-path=\"url(#clip932)\" cx=\"2188.69\" cy=\"87.9763\" r=\"14.4\" fill=\"#009af9\" fill-rule=\"evenodd\" fill-opacity=\"1\" stroke=\"#000000\" stroke-opacity=\"1\" stroke-width=\"3.2\"/>\n",
       "<circle clip-path=\"url(#clip932)\" cx=\"2291.23\" cy=\"297.335\" r=\"14.4\" fill=\"#009af9\" fill-rule=\"evenodd\" fill-opacity=\"1\" stroke=\"#000000\" stroke-opacity=\"1\" stroke-width=\"3.2\"/>\n",
       "<polyline clip-path=\"url(#clip932)\" style=\"stroke:#e26f46; stroke-linecap:round; stroke-linejoin:round; stroke-width:4; stroke-opacity:1; fill:none\" points=\"240.392,634.95 342.934,732.633 445.476,818.106 548.018,891.368 650.56,952.42 753.102,1001.26 855.643,1037.89 958.185,1062.31 1060.73,1074.52 1163.27,1074.52 1265.81,1062.31 1368.35,1037.89 1470.9,1001.26 1573.44,952.42 1675.98,891.368 1778.52,818.106 1881.06,732.633 1983.6,634.95 2086.15,525.056 2188.69,402.952 2291.23,268.638 \"/>\n",
       "<polyline clip-path=\"url(#clip932)\" style=\"stroke:#3da44d; stroke-linecap:round; stroke-linejoin:round; stroke-width:4; stroke-opacity:1; fill:none\" points=\"240.392,698.376 342.934,756.494 445.476,806.756 548.018,849.16 650.56,883.706 753.102,910.396 855.643,929.227 958.185,940.202 1060.73,943.319 1163.27,938.579 1265.81,925.981 1368.35,905.526 1470.9,877.214 1573.44,841.044 1675.98,797.017 1778.52,745.133 1881.06,685.391 1983.6,617.792 2086.15,542.336 2188.69,459.022 2291.23,367.851 \"/>\n",
       "<path clip-path=\"url(#clip930)\" d=\"M2009.9 1438.47 L2280.29 1438.47 L2280.29 1231.11 L2009.9 1231.11  Z\" fill=\"#ffffff\" fill-rule=\"evenodd\" fill-opacity=\"1\"/>\n",
       "<polyline clip-path=\"url(#clip930)\" style=\"stroke:#000000; stroke-linecap:round; stroke-linejoin:round; stroke-width:4; stroke-opacity:1; fill:none\" points=\"2009.9,1438.47 2280.29,1438.47 2280.29,1231.11 2009.9,1231.11 2009.9,1438.47 \"/>\n",
       "<circle clip-path=\"url(#clip930)\" cx=\"2106.51\" cy=\"1282.95\" r=\"23.04\" fill=\"#009af9\" fill-rule=\"evenodd\" fill-opacity=\"1\" stroke=\"#000000\" stroke-opacity=\"1\" stroke-width=\"5.12\"/>\n",
       "<path clip-path=\"url(#clip930)\" d=\"M2216.97 1302.64 Q2215.17 1307.27 2213.45 1308.68 Q2211.74 1310.1 2208.87 1310.1 L2205.47 1310.1 L2205.47 1306.53 L2207.97 1306.53 Q2209.73 1306.53 2210.7 1305.7 Q2211.67 1304.86 2212.85 1301.76 L2213.62 1299.82 L2203.13 1274.31 L2207.64 1274.31 L2215.75 1294.59 L2223.85 1274.31 L2228.36 1274.31 L2216.97 1302.64 Z\" fill=\"#000000\" fill-rule=\"evenodd\" fill-opacity=\"1\" /><path clip-path=\"url(#clip930)\" d=\"M2235.65 1296.3 L2243.29 1296.3 L2243.29 1269.93 L2234.98 1271.6 L2234.98 1267.34 L2243.25 1265.67 L2247.92 1265.67 L2247.92 1296.3 L2255.56 1296.3 L2255.56 1300.23 L2235.65 1300.23 L2235.65 1296.3 Z\" fill=\"#000000\" fill-rule=\"evenodd\" fill-opacity=\"1\" /><polyline clip-path=\"url(#clip930)\" style=\"stroke:#e26f46; stroke-linecap:round; stroke-linejoin:round; stroke-width:4; stroke-opacity:1; fill:none\" points=\"2034.05,1334.79 2178.98,1334.79 \"/>\n",
       "<path clip-path=\"url(#clip930)\" d=\"M2216.97 1354.48 Q2215.17 1359.11 2213.45 1360.52 Q2211.74 1361.94 2208.87 1361.94 L2205.47 1361.94 L2205.47 1358.37 L2207.97 1358.37 Q2209.73 1358.37 2210.7 1357.54 Q2211.67 1356.7 2212.85 1353.6 L2213.62 1351.66 L2203.13 1326.15 L2207.64 1326.15 L2215.75 1346.43 L2223.85 1326.15 L2228.36 1326.15 L2216.97 1354.48 Z\" fill=\"#000000\" fill-rule=\"evenodd\" fill-opacity=\"1\" /><path clip-path=\"url(#clip930)\" d=\"M2238.87 1348.14 L2255.19 1348.14 L2255.19 1352.07 L2233.25 1352.07 L2233.25 1348.14 Q2235.91 1345.38 2240.49 1340.76 Q2245.1 1336.1 2246.28 1334.76 Q2248.52 1332.24 2249.4 1330.5 Q2250.31 1328.74 2250.31 1327.05 Q2250.31 1324.3 2248.36 1322.56 Q2246.44 1320.82 2243.34 1320.82 Q2241.14 1320.82 2238.68 1321.59 Q2236.25 1322.35 2233.48 1323.9 L2233.48 1319.18 Q2236.3 1318.05 2238.75 1317.47 Q2241.21 1316.89 2243.25 1316.89 Q2248.62 1316.89 2251.81 1319.57 Q2255 1322.26 2255 1326.75 Q2255 1328.88 2254.19 1330.8 Q2253.41 1332.7 2251.3 1335.29 Q2250.72 1335.96 2247.62 1339.18 Q2244.52 1342.38 2238.87 1348.14 Z\" fill=\"#000000\" fill-rule=\"evenodd\" fill-opacity=\"1\" /><polyline clip-path=\"url(#clip930)\" style=\"stroke:#3da44d; stroke-linecap:round; stroke-linejoin:round; stroke-width:4; stroke-opacity:1; fill:none\" points=\"2034.05,1386.63 2178.98,1386.63 \"/>\n",
       "<path clip-path=\"url(#clip930)\" d=\"M2216.97 1406.32 Q2215.17 1410.95 2213.45 1412.36 Q2211.74 1413.78 2208.87 1413.78 L2205.47 1413.78 L2205.47 1410.21 L2207.97 1410.21 Q2209.73 1410.21 2210.7 1409.38 Q2211.67 1408.54 2212.85 1405.44 L2213.62 1403.5 L2203.13 1377.99 L2207.64 1377.99 L2215.75 1398.27 L2223.85 1377.99 L2228.36 1377.99 L2216.97 1406.32 Z\" fill=\"#000000\" fill-rule=\"evenodd\" fill-opacity=\"1\" /><path clip-path=\"url(#clip930)\" d=\"M2249.01 1385.28 Q2252.37 1386 2254.24 1388.27 Q2256.14 1390.53 2256.14 1393.87 Q2256.14 1398.98 2252.62 1401.78 Q2249.1 1404.59 2242.62 1404.59 Q2240.44 1404.59 2238.13 1404.15 Q2235.84 1403.73 2233.38 1402.87 L2233.38 1398.36 Q2235.33 1399.49 2237.64 1400.07 Q2239.96 1400.65 2242.48 1400.65 Q2246.88 1400.65 2249.17 1398.91 Q2251.49 1397.18 2251.49 1393.87 Q2251.49 1390.81 2249.33 1389.1 Q2247.2 1387.36 2243.38 1387.36 L2239.36 1387.36 L2239.36 1383.52 L2243.57 1383.52 Q2247.02 1383.52 2248.85 1382.16 Q2250.68 1380.77 2250.68 1378.17 Q2250.68 1375.51 2248.78 1374.1 Q2246.9 1372.66 2243.38 1372.66 Q2241.46 1372.66 2239.26 1373.08 Q2237.06 1373.5 2234.43 1374.38 L2234.43 1370.21 Q2237.09 1369.47 2239.4 1369.1 Q2241.74 1368.73 2243.8 1368.73 Q2249.12 1368.73 2252.23 1371.16 Q2255.33 1373.57 2255.33 1377.69 Q2255.33 1380.56 2253.68 1382.55 Q2252.04 1384.52 2249.01 1385.28 Z\" fill=\"#000000\" fill-rule=\"evenodd\" fill-opacity=\"1\" /></svg>\n"
      ]
     },
     "execution_count": 116,
     "metadata": {},
     "output_type": "execute_result"
    }
   ],
   "source": [
    "dataerr = 50\n",
    "noise = di.Normal(0,dataerr)\n",
    "y_observed1 = y_true1 + rand(noise,length(x_t1))\n",
    "\n",
    "line_fit1 = fit(x_t1,y_observed1,2)\n",
    "typeof(line_fit1)\n",
    "fit_coeff1 = coeffs(line_fit1)\n",
    "y_fitted1 = fit_coeff1[1] .+ (fit_coeff1[2] .* x_t1) .+ (fit_coeff1[3] .* (x_t1.^2))\n",
    "scatter(x_t1,y_observed1)\n",
    "plot!(x_t1,y_true1)\n",
    "plot!(x_t1,y_fitted1)"
   ]
  },
  {
   "cell_type": "markdown",
   "id": "ab12acbd",
   "metadata": {},
   "source": [
    "2. Compare the plot with the plot in 2.3. Is the fit closer to y_true or not, and why?"
   ]
  },
  {
   "cell_type": "markdown",
   "id": "7a6d076f",
   "metadata": {},
   "source": [
    "# 2\n",
    "The plot of y_true1 is not fitted better. Actually it fits worse because the larger value for the sd indicates data that is more spread out, whereas lower values for the sd indicates that the data is grouped closer to the mean."
   ]
  },
  {
   "cell_type": "markdown",
   "id": "a34fcca4",
   "metadata": {},
   "source": []
  },
  {
   "cell_type": "markdown",
   "id": "5fd1d93b",
   "metadata": {},
   "source": [
    "### 2.5\n",
    "\n",
    "#### Repeat 2.2 and 2.3 with a tenth order polynomial fit\n"
   ]
  },
  {
   "cell_type": "code",
   "execution_count": 121,
   "id": "28a098fc",
   "metadata": {},
   "outputs": [
    {
     "data": {
      "image/svg+xml": [
       "<?xml version=\"1.0\" encoding=\"utf-8\"?>\n",
       "<svg xmlns=\"http://www.w3.org/2000/svg\" xmlns:xlink=\"http://www.w3.org/1999/xlink\" width=\"600\" height=\"400\" viewBox=\"0 0 2400 1600\">\n",
       "<defs>\n",
       "  <clipPath id=\"clip130\">\n",
       "    <rect x=\"0\" y=\"0\" width=\"2400\" height=\"1600\"/>\n",
       "  </clipPath>\n",
       "</defs>\n",
       "<path clip-path=\"url(#clip130)\" d=\"M0 1600 L2400 1600 L2400 0 L0 0  Z\" fill=\"#ffffff\" fill-rule=\"evenodd\" fill-opacity=\"1\"/>\n",
       "<defs>\n",
       "  <clipPath id=\"clip131\">\n",
       "    <rect x=\"480\" y=\"0\" width=\"1681\" height=\"1600\"/>\n",
       "  </clipPath>\n",
       "</defs>\n",
       "<path clip-path=\"url(#clip130)\" d=\"M209.029 1486.45 L2352.76 1486.45 L2352.76 47.2441 L209.029 47.2441  Z\" fill=\"#ffffff\" fill-rule=\"evenodd\" fill-opacity=\"1\"/>\n",
       "<defs>\n",
       "  <clipPath id=\"clip132\">\n",
       "    <rect x=\"209\" y=\"47\" width=\"2145\" height=\"1440\"/>\n",
       "  </clipPath>\n",
       "</defs>\n",
       "<polyline clip-path=\"url(#clip132)\" style=\"stroke:#000000; stroke-linecap:round; stroke-linejoin:round; stroke-width:2; stroke-opacity:0.1; fill:none\" points=\"269.7,1486.45 269.7,47.2441 \"/>\n",
       "<polyline clip-path=\"url(#clip132)\" style=\"stroke:#000000; stroke-linecap:round; stroke-linejoin:round; stroke-width:2; stroke-opacity:0.1; fill:none\" points=\"775.296,1486.45 775.296,47.2441 \"/>\n",
       "<polyline clip-path=\"url(#clip132)\" style=\"stroke:#000000; stroke-linecap:round; stroke-linejoin:round; stroke-width:2; stroke-opacity:0.1; fill:none\" points=\"1280.89,1486.45 1280.89,47.2441 \"/>\n",
       "<polyline clip-path=\"url(#clip132)\" style=\"stroke:#000000; stroke-linecap:round; stroke-linejoin:round; stroke-width:2; stroke-opacity:0.1; fill:none\" points=\"1786.49,1486.45 1786.49,47.2441 \"/>\n",
       "<polyline clip-path=\"url(#clip132)\" style=\"stroke:#000000; stroke-linecap:round; stroke-linejoin:round; stroke-width:2; stroke-opacity:0.1; fill:none\" points=\"2292.08,1486.45 2292.08,47.2441 \"/>\n",
       "<polyline clip-path=\"url(#clip130)\" style=\"stroke:#000000; stroke-linecap:round; stroke-linejoin:round; stroke-width:4; stroke-opacity:1; fill:none\" points=\"209.029,1486.45 2352.76,1486.45 \"/>\n",
       "<polyline clip-path=\"url(#clip130)\" style=\"stroke:#000000; stroke-linecap:round; stroke-linejoin:round; stroke-width:4; stroke-opacity:1; fill:none\" points=\"269.7,1486.45 269.7,1467.55 \"/>\n",
       "<polyline clip-path=\"url(#clip130)\" style=\"stroke:#000000; stroke-linecap:round; stroke-linejoin:round; stroke-width:4; stroke-opacity:1; fill:none\" points=\"775.296,1486.45 775.296,1467.55 \"/>\n",
       "<polyline clip-path=\"url(#clip130)\" style=\"stroke:#000000; stroke-linecap:round; stroke-linejoin:round; stroke-width:4; stroke-opacity:1; fill:none\" points=\"1280.89,1486.45 1280.89,1467.55 \"/>\n",
       "<polyline clip-path=\"url(#clip130)\" style=\"stroke:#000000; stroke-linecap:round; stroke-linejoin:round; stroke-width:4; stroke-opacity:1; fill:none\" points=\"1786.49,1486.45 1786.49,1467.55 \"/>\n",
       "<polyline clip-path=\"url(#clip130)\" style=\"stroke:#000000; stroke-linecap:round; stroke-linejoin:round; stroke-width:4; stroke-opacity:1; fill:none\" points=\"2292.08,1486.45 2292.08,1467.55 \"/>\n",
       "<path clip-path=\"url(#clip130)\" d=\"M223.763 1532.02 L253.439 1532.02 L253.439 1535.95 L223.763 1535.95 L223.763 1532.02 Z\" fill=\"#000000\" fill-rule=\"evenodd\" fill-opacity=\"1\" /><path clip-path=\"url(#clip130)\" d=\"M264.341 1544.91 L271.98 1544.91 L271.98 1518.55 L263.67 1520.21 L263.67 1515.95 L271.934 1514.29 L276.61 1514.29 L276.61 1544.91 L284.249 1544.91 L284.249 1548.85 L264.341 1548.85 L264.341 1544.91 Z\" fill=\"#000000\" fill-rule=\"evenodd\" fill-opacity=\"1\" /><path clip-path=\"url(#clip130)\" d=\"M303.693 1517.37 Q300.082 1517.37 298.253 1520.93 Q296.448 1524.47 296.448 1531.6 Q296.448 1538.71 298.253 1542.27 Q300.082 1545.82 303.693 1545.82 Q307.327 1545.82 309.133 1542.27 Q310.961 1538.71 310.961 1531.6 Q310.961 1524.47 309.133 1520.93 Q307.327 1517.37 303.693 1517.37 M303.693 1513.66 Q309.503 1513.66 312.559 1518.27 Q315.637 1522.85 315.637 1531.6 Q315.637 1540.33 312.559 1544.94 Q309.503 1549.52 303.693 1549.52 Q297.883 1549.52 294.804 1544.94 Q291.749 1540.33 291.749 1531.6 Q291.749 1522.85 294.804 1518.27 Q297.883 1513.66 303.693 1513.66 Z\" fill=\"#000000\" fill-rule=\"evenodd\" fill-opacity=\"1\" /><path clip-path=\"url(#clip130)\" d=\"M744.937 1532.02 L774.613 1532.02 L774.613 1535.95 L744.937 1535.95 L744.937 1532.02 Z\" fill=\"#000000\" fill-rule=\"evenodd\" fill-opacity=\"1\" /><path clip-path=\"url(#clip130)\" d=\"M784.752 1514.29 L803.108 1514.29 L803.108 1518.22 L789.034 1518.22 L789.034 1526.7 Q790.053 1526.35 791.072 1526.19 Q792.09 1526 793.109 1526 Q798.896 1526 802.275 1529.17 Q805.655 1532.34 805.655 1537.76 Q805.655 1543.34 802.183 1546.44 Q798.71 1549.52 792.391 1549.52 Q790.215 1549.52 787.947 1549.15 Q785.701 1548.78 783.294 1548.04 L783.294 1543.34 Q785.377 1544.47 787.599 1545.03 Q789.822 1545.58 792.298 1545.58 Q796.303 1545.58 798.641 1543.48 Q800.979 1541.37 800.979 1537.76 Q800.979 1534.15 798.641 1532.04 Q796.303 1529.94 792.298 1529.94 Q790.423 1529.94 788.548 1530.35 Q786.697 1530.77 784.752 1531.65 L784.752 1514.29 Z\" fill=\"#000000\" fill-rule=\"evenodd\" fill-opacity=\"1\" /><path clip-path=\"url(#clip130)\" d=\"M1280.89 1517.37 Q1277.28 1517.37 1275.45 1520.93 Q1273.65 1524.47 1273.65 1531.6 Q1273.65 1538.71 1275.45 1542.27 Q1277.28 1545.82 1280.89 1545.82 Q1284.53 1545.82 1286.33 1542.27 Q1288.16 1538.71 1288.16 1531.6 Q1288.16 1524.47 1286.33 1520.93 Q1284.53 1517.37 1280.89 1517.37 M1280.89 1513.66 Q1286.7 1513.66 1289.76 1518.27 Q1292.84 1522.85 1292.84 1531.6 Q1292.84 1540.33 1289.76 1544.94 Q1286.7 1549.52 1280.89 1549.52 Q1275.08 1549.52 1272 1544.94 Q1268.95 1540.33 1268.95 1531.6 Q1268.95 1522.85 1272 1518.27 Q1275.08 1513.66 1280.89 1513.66 Z\" fill=\"#000000\" fill-rule=\"evenodd\" fill-opacity=\"1\" /><path clip-path=\"url(#clip130)\" d=\"M1776.77 1514.29 L1795.12 1514.29 L1795.12 1518.22 L1781.05 1518.22 L1781.05 1526.7 Q1782.07 1526.35 1783.09 1526.19 Q1784.1 1526 1785.12 1526 Q1790.91 1526 1794.29 1529.17 Q1797.67 1532.34 1797.67 1537.76 Q1797.67 1543.34 1794.2 1546.44 Q1790.72 1549.52 1784.4 1549.52 Q1782.23 1549.52 1779.96 1549.15 Q1777.72 1548.78 1775.31 1548.04 L1775.31 1543.34 Q1777.39 1544.47 1779.61 1545.03 Q1781.84 1545.58 1784.31 1545.58 Q1788.32 1545.58 1790.65 1543.48 Q1792.99 1541.37 1792.99 1537.76 Q1792.99 1534.15 1790.65 1532.04 Q1788.32 1529.94 1784.31 1529.94 Q1782.44 1529.94 1780.56 1530.35 Q1778.71 1530.77 1776.77 1531.65 L1776.77 1514.29 Z\" fill=\"#000000\" fill-rule=\"evenodd\" fill-opacity=\"1\" /><path clip-path=\"url(#clip130)\" d=\"M2266.77 1544.91 L2274.41 1544.91 L2274.41 1518.55 L2266.1 1520.21 L2266.1 1515.95 L2274.36 1514.29 L2279.04 1514.29 L2279.04 1544.91 L2286.68 1544.91 L2286.68 1548.85 L2266.77 1548.85 L2266.77 1544.91 Z\" fill=\"#000000\" fill-rule=\"evenodd\" fill-opacity=\"1\" /><path clip-path=\"url(#clip130)\" d=\"M2306.12 1517.37 Q2302.51 1517.37 2300.68 1520.93 Q2298.88 1524.47 2298.88 1531.6 Q2298.88 1538.71 2300.68 1542.27 Q2302.51 1545.82 2306.12 1545.82 Q2309.76 1545.82 2311.56 1542.27 Q2313.39 1538.71 2313.39 1531.6 Q2313.39 1524.47 2311.56 1520.93 Q2309.76 1517.37 2306.12 1517.37 M2306.12 1513.66 Q2311.93 1513.66 2314.99 1518.27 Q2318.07 1522.85 2318.07 1531.6 Q2318.07 1540.33 2314.99 1544.94 Q2311.93 1549.52 2306.12 1549.52 Q2300.31 1549.52 2297.23 1544.94 Q2294.18 1540.33 2294.18 1531.6 Q2294.18 1522.85 2297.23 1518.27 Q2300.31 1513.66 2306.12 1513.66 Z\" fill=\"#000000\" fill-rule=\"evenodd\" fill-opacity=\"1\" /><polyline clip-path=\"url(#clip132)\" style=\"stroke:#000000; stroke-linecap:round; stroke-linejoin:round; stroke-width:2; stroke-opacity:0.1; fill:none\" points=\"209.029,1484.22 2352.76,1484.22 \"/>\n",
       "<polyline clip-path=\"url(#clip132)\" style=\"stroke:#000000; stroke-linecap:round; stroke-linejoin:round; stroke-width:2; stroke-opacity:0.1; fill:none\" points=\"209.029,1222.19 2352.76,1222.19 \"/>\n",
       "<polyline clip-path=\"url(#clip132)\" style=\"stroke:#000000; stroke-linecap:round; stroke-linejoin:round; stroke-width:2; stroke-opacity:0.1; fill:none\" points=\"209.029,960.173 2352.76,960.173 \"/>\n",
       "<polyline clip-path=\"url(#clip132)\" style=\"stroke:#000000; stroke-linecap:round; stroke-linejoin:round; stroke-width:2; stroke-opacity:0.1; fill:none\" points=\"209.029,698.151 2352.76,698.151 \"/>\n",
       "<polyline clip-path=\"url(#clip132)\" style=\"stroke:#000000; stroke-linecap:round; stroke-linejoin:round; stroke-width:2; stroke-opacity:0.1; fill:none\" points=\"209.029,436.128 2352.76,436.128 \"/>\n",
       "<polyline clip-path=\"url(#clip132)\" style=\"stroke:#000000; stroke-linecap:round; stroke-linejoin:round; stroke-width:2; stroke-opacity:0.1; fill:none\" points=\"209.029,174.106 2352.76,174.106 \"/>\n",
       "<polyline clip-path=\"url(#clip130)\" style=\"stroke:#000000; stroke-linecap:round; stroke-linejoin:round; stroke-width:4; stroke-opacity:1; fill:none\" points=\"209.029,1486.45 209.029,47.2441 \"/>\n",
       "<polyline clip-path=\"url(#clip130)\" style=\"stroke:#000000; stroke-linecap:round; stroke-linejoin:round; stroke-width:4; stroke-opacity:1; fill:none\" points=\"209.029,1484.22 227.926,1484.22 \"/>\n",
       "<polyline clip-path=\"url(#clip130)\" style=\"stroke:#000000; stroke-linecap:round; stroke-linejoin:round; stroke-width:4; stroke-opacity:1; fill:none\" points=\"209.029,1222.19 227.926,1222.19 \"/>\n",
       "<polyline clip-path=\"url(#clip130)\" style=\"stroke:#000000; stroke-linecap:round; stroke-linejoin:round; stroke-width:4; stroke-opacity:1; fill:none\" points=\"209.029,960.173 227.926,960.173 \"/>\n",
       "<polyline clip-path=\"url(#clip130)\" style=\"stroke:#000000; stroke-linecap:round; stroke-linejoin:round; stroke-width:4; stroke-opacity:1; fill:none\" points=\"209.029,698.151 227.926,698.151 \"/>\n",
       "<polyline clip-path=\"url(#clip130)\" style=\"stroke:#000000; stroke-linecap:round; stroke-linejoin:round; stroke-width:4; stroke-opacity:1; fill:none\" points=\"209.029,436.128 227.926,436.128 \"/>\n",
       "<polyline clip-path=\"url(#clip130)\" style=\"stroke:#000000; stroke-linecap:round; stroke-linejoin:round; stroke-width:4; stroke-opacity:1; fill:none\" points=\"209.029,174.106 227.926,174.106 \"/>\n",
       "<path clip-path=\"url(#clip130)\" d=\"M50.9921 1484.67 L80.6679 1484.67 L80.6679 1488.6 L50.9921 1488.6 L50.9921 1484.67 Z\" fill=\"#000000\" fill-rule=\"evenodd\" fill-opacity=\"1\" /><path clip-path=\"url(#clip130)\" d=\"M91.5706 1497.56 L99.2095 1497.56 L99.2095 1471.2 L90.8993 1472.86 L90.8993 1468.6 L99.1632 1466.94 L103.839 1466.94 L103.839 1497.56 L111.478 1497.56 L111.478 1501.5 L91.5706 1501.5 L91.5706 1497.56 Z\" fill=\"#000000\" fill-rule=\"evenodd\" fill-opacity=\"1\" /><path clip-path=\"url(#clip130)\" d=\"M130.922 1470.02 Q127.311 1470.02 125.482 1473.58 Q123.677 1477.12 123.677 1484.25 Q123.677 1491.36 125.482 1494.92 Q127.311 1498.46 130.922 1498.46 Q134.556 1498.46 136.362 1494.92 Q138.191 1491.36 138.191 1484.25 Q138.191 1477.12 136.362 1473.58 Q134.556 1470.02 130.922 1470.02 M130.922 1466.31 Q136.732 1466.31 139.788 1470.92 Q142.867 1475.5 142.867 1484.25 Q142.867 1492.98 139.788 1497.59 Q136.732 1502.17 130.922 1502.17 Q125.112 1502.17 122.033 1497.59 Q118.978 1492.98 118.978 1484.25 Q118.978 1475.5 122.033 1470.92 Q125.112 1466.31 130.922 1466.31 Z\" fill=\"#000000\" fill-rule=\"evenodd\" fill-opacity=\"1\" /><path clip-path=\"url(#clip130)\" d=\"M161.084 1470.02 Q157.473 1470.02 155.644 1473.58 Q153.839 1477.12 153.839 1484.25 Q153.839 1491.36 155.644 1494.92 Q157.473 1498.46 161.084 1498.46 Q164.718 1498.46 166.524 1494.92 Q168.353 1491.36 168.353 1484.25 Q168.353 1477.12 166.524 1473.58 Q164.718 1470.02 161.084 1470.02 M161.084 1466.31 Q166.894 1466.31 169.95 1470.92 Q173.029 1475.5 173.029 1484.25 Q173.029 1492.98 169.95 1497.59 Q166.894 1502.17 161.084 1502.17 Q155.274 1502.17 152.195 1497.59 Q149.14 1492.98 149.14 1484.25 Q149.14 1475.5 152.195 1470.92 Q155.274 1466.31 161.084 1466.31 Z\" fill=\"#000000\" fill-rule=\"evenodd\" fill-opacity=\"1\" /><path clip-path=\"url(#clip130)\" d=\"M81.154 1222.65 L110.83 1222.65 L110.83 1226.58 L81.154 1226.58 L81.154 1222.65 Z\" fill=\"#000000\" fill-rule=\"evenodd\" fill-opacity=\"1\" /><path clip-path=\"url(#clip130)\" d=\"M120.969 1204.91 L139.325 1204.91 L139.325 1208.85 L125.251 1208.85 L125.251 1217.32 Q126.27 1216.98 127.288 1216.81 Q128.307 1216.63 129.325 1216.63 Q135.112 1216.63 138.492 1219.8 Q141.871 1222.97 141.871 1228.39 Q141.871 1233.97 138.399 1237.07 Q134.927 1240.15 128.607 1240.15 Q126.432 1240.15 124.163 1239.78 Q121.918 1239.41 119.51 1238.66 L119.51 1233.97 Q121.594 1235.1 123.816 1235.66 Q126.038 1236.21 128.515 1236.21 Q132.519 1236.21 134.857 1234.1 Q137.195 1232 137.195 1228.39 Q137.195 1224.78 134.857 1222.67 Q132.519 1220.56 128.515 1220.56 Q126.64 1220.56 124.765 1220.98 Q122.913 1221.4 120.969 1222.28 L120.969 1204.91 Z\" fill=\"#000000\" fill-rule=\"evenodd\" fill-opacity=\"1\" /><path clip-path=\"url(#clip130)\" d=\"M161.084 1207.99 Q157.473 1207.99 155.644 1211.56 Q153.839 1215.1 153.839 1222.23 Q153.839 1229.34 155.644 1232.9 Q157.473 1236.44 161.084 1236.44 Q164.718 1236.44 166.524 1232.9 Q168.353 1229.34 168.353 1222.23 Q168.353 1215.1 166.524 1211.56 Q164.718 1207.99 161.084 1207.99 M161.084 1204.29 Q166.894 1204.29 169.95 1208.9 Q173.029 1213.48 173.029 1222.23 Q173.029 1230.96 169.95 1235.56 Q166.894 1240.15 161.084 1240.15 Q155.274 1240.15 152.195 1235.56 Q149.14 1230.96 149.14 1222.23 Q149.14 1213.48 152.195 1208.9 Q155.274 1204.29 161.084 1204.29 Z\" fill=\"#000000\" fill-rule=\"evenodd\" fill-opacity=\"1\" /><path clip-path=\"url(#clip130)\" d=\"M161.084 945.971 Q157.473 945.971 155.644 949.536 Q153.839 953.078 153.839 960.207 Q153.839 967.314 155.644 970.879 Q157.473 974.42 161.084 974.42 Q164.718 974.42 166.524 970.879 Q168.353 967.314 168.353 960.207 Q168.353 953.078 166.524 949.536 Q164.718 945.971 161.084 945.971 M161.084 942.268 Q166.894 942.268 169.95 946.874 Q173.029 951.458 173.029 960.207 Q173.029 968.934 169.95 973.541 Q166.894 978.124 161.084 978.124 Q155.274 978.124 152.195 973.541 Q149.14 968.934 149.14 960.207 Q149.14 951.458 152.195 946.874 Q155.274 942.268 161.084 942.268 Z\" fill=\"#000000\" fill-rule=\"evenodd\" fill-opacity=\"1\" /><path clip-path=\"url(#clip130)\" d=\"M120.969 680.871 L139.325 680.871 L139.325 684.806 L125.251 684.806 L125.251 693.278 Q126.27 692.931 127.288 692.769 Q128.307 692.583 129.325 692.583 Q135.112 692.583 138.492 695.755 Q141.871 698.926 141.871 704.343 Q141.871 709.921 138.399 713.023 Q134.927 716.102 128.607 716.102 Q126.432 716.102 124.163 715.732 Q121.918 715.361 119.51 714.62 L119.51 709.921 Q121.594 711.056 123.816 711.611 Q126.038 712.167 128.515 712.167 Q132.519 712.167 134.857 710.06 Q137.195 707.954 137.195 704.343 Q137.195 700.732 134.857 698.625 Q132.519 696.519 128.515 696.519 Q126.64 696.519 124.765 696.935 Q122.913 697.352 120.969 698.232 L120.969 680.871 Z\" fill=\"#000000\" fill-rule=\"evenodd\" fill-opacity=\"1\" /><path clip-path=\"url(#clip130)\" d=\"M161.084 683.949 Q157.473 683.949 155.644 687.514 Q153.839 691.056 153.839 698.185 Q153.839 705.292 155.644 708.857 Q157.473 712.398 161.084 712.398 Q164.718 712.398 166.524 708.857 Q168.353 705.292 168.353 698.185 Q168.353 691.056 166.524 687.514 Q164.718 683.949 161.084 683.949 M161.084 680.246 Q166.894 680.246 169.95 684.852 Q173.029 689.435 173.029 698.185 Q173.029 706.912 169.95 711.519 Q166.894 716.102 161.084 716.102 Q155.274 716.102 152.195 711.519 Q149.14 706.912 149.14 698.185 Q149.14 689.435 152.195 684.852 Q155.274 680.246 161.084 680.246 Z\" fill=\"#000000\" fill-rule=\"evenodd\" fill-opacity=\"1\" /><path clip-path=\"url(#clip130)\" d=\"M91.5706 449.473 L99.2095 449.473 L99.2095 423.108 L90.8993 424.774 L90.8993 420.515 L99.1632 418.848 L103.839 418.848 L103.839 449.473 L111.478 449.473 L111.478 453.408 L91.5706 453.408 L91.5706 449.473 Z\" fill=\"#000000\" fill-rule=\"evenodd\" fill-opacity=\"1\" /><path clip-path=\"url(#clip130)\" d=\"M130.922 421.927 Q127.311 421.927 125.482 425.492 Q123.677 429.034 123.677 436.163 Q123.677 443.27 125.482 446.834 Q127.311 450.376 130.922 450.376 Q134.556 450.376 136.362 446.834 Q138.191 443.27 138.191 436.163 Q138.191 429.034 136.362 425.492 Q134.556 421.927 130.922 421.927 M130.922 418.223 Q136.732 418.223 139.788 422.83 Q142.867 427.413 142.867 436.163 Q142.867 444.89 139.788 449.496 Q136.732 454.08 130.922 454.08 Q125.112 454.08 122.033 449.496 Q118.978 444.89 118.978 436.163 Q118.978 427.413 122.033 422.83 Q125.112 418.223 130.922 418.223 Z\" fill=\"#000000\" fill-rule=\"evenodd\" fill-opacity=\"1\" /><path clip-path=\"url(#clip130)\" d=\"M161.084 421.927 Q157.473 421.927 155.644 425.492 Q153.839 429.034 153.839 436.163 Q153.839 443.27 155.644 446.834 Q157.473 450.376 161.084 450.376 Q164.718 450.376 166.524 446.834 Q168.353 443.27 168.353 436.163 Q168.353 429.034 166.524 425.492 Q164.718 421.927 161.084 421.927 M161.084 418.223 Q166.894 418.223 169.95 422.83 Q173.029 427.413 173.029 436.163 Q173.029 444.89 169.95 449.496 Q166.894 454.08 161.084 454.08 Q155.274 454.08 152.195 449.496 Q149.14 444.89 149.14 436.163 Q149.14 427.413 152.195 422.83 Q155.274 418.223 161.084 418.223 Z\" fill=\"#000000\" fill-rule=\"evenodd\" fill-opacity=\"1\" /><path clip-path=\"url(#clip130)\" d=\"M91.5706 187.451 L99.2095 187.451 L99.2095 161.085 L90.8993 162.752 L90.8993 158.493 L99.1632 156.826 L103.839 156.826 L103.839 187.451 L111.478 187.451 L111.478 191.386 L91.5706 191.386 L91.5706 187.451 Z\" fill=\"#000000\" fill-rule=\"evenodd\" fill-opacity=\"1\" /><path clip-path=\"url(#clip130)\" d=\"M120.969 156.826 L139.325 156.826 L139.325 160.761 L125.251 160.761 L125.251 169.234 Q126.27 168.886 127.288 168.724 Q128.307 168.539 129.325 168.539 Q135.112 168.539 138.492 171.71 Q141.871 174.882 141.871 180.298 Q141.871 185.877 138.399 188.979 Q134.927 192.058 128.607 192.058 Q126.432 192.058 124.163 191.687 Q121.918 191.317 119.51 190.576 L119.51 185.877 Q121.594 187.011 123.816 187.567 Q126.038 188.122 128.515 188.122 Q132.519 188.122 134.857 186.016 Q137.195 183.909 137.195 180.298 Q137.195 176.687 134.857 174.581 Q132.519 172.474 128.515 172.474 Q126.64 172.474 124.765 172.891 Q122.913 173.308 120.969 174.187 L120.969 156.826 Z\" fill=\"#000000\" fill-rule=\"evenodd\" fill-opacity=\"1\" /><path clip-path=\"url(#clip130)\" d=\"M161.084 159.905 Q157.473 159.905 155.644 163.47 Q153.839 167.011 153.839 174.141 Q153.839 181.247 155.644 184.812 Q157.473 188.354 161.084 188.354 Q164.718 188.354 166.524 184.812 Q168.353 181.247 168.353 174.141 Q168.353 167.011 166.524 163.47 Q164.718 159.905 161.084 159.905 M161.084 156.201 Q166.894 156.201 169.95 160.808 Q173.029 165.391 173.029 174.141 Q173.029 182.868 169.95 187.474 Q166.894 192.058 161.084 192.058 Q155.274 192.058 152.195 187.474 Q149.14 182.868 149.14 174.141 Q149.14 165.391 152.195 160.808 Q155.274 156.201 161.084 156.201 Z\" fill=\"#000000\" fill-rule=\"evenodd\" fill-opacity=\"1\" /><circle clip-path=\"url(#clip132)\" cx=\"269.7\" cy=\"292.22\" r=\"14.4\" fill=\"#009af9\" fill-rule=\"evenodd\" fill-opacity=\"1\" stroke=\"#000000\" stroke-opacity=\"1\" stroke-width=\"3.2\"/>\n",
       "<circle clip-path=\"url(#clip132)\" cx=\"370.819\" cy=\"842.376\" r=\"14.4\" fill=\"#009af9\" fill-rule=\"evenodd\" fill-opacity=\"1\" stroke=\"#000000\" stroke-opacity=\"1\" stroke-width=\"3.2\"/>\n",
       "<circle clip-path=\"url(#clip132)\" cx=\"471.938\" cy=\"760.702\" r=\"14.4\" fill=\"#009af9\" fill-rule=\"evenodd\" fill-opacity=\"1\" stroke=\"#000000\" stroke-opacity=\"1\" stroke-width=\"3.2\"/>\n",
       "<circle clip-path=\"url(#clip132)\" cx=\"573.058\" cy=\"1000.57\" r=\"14.4\" fill=\"#009af9\" fill-rule=\"evenodd\" fill-opacity=\"1\" stroke=\"#000000\" stroke-opacity=\"1\" stroke-width=\"3.2\"/>\n",
       "<circle clip-path=\"url(#clip132)\" cx=\"674.177\" cy=\"503.316\" r=\"14.4\" fill=\"#009af9\" fill-rule=\"evenodd\" fill-opacity=\"1\" stroke=\"#000000\" stroke-opacity=\"1\" stroke-width=\"3.2\"/>\n",
       "<circle clip-path=\"url(#clip132)\" cx=\"775.296\" cy=\"1063.42\" r=\"14.4\" fill=\"#009af9\" fill-rule=\"evenodd\" fill-opacity=\"1\" stroke=\"#000000\" stroke-opacity=\"1\" stroke-width=\"3.2\"/>\n",
       "<circle clip-path=\"url(#clip132)\" cx=\"876.415\" cy=\"1110.55\" r=\"14.4\" fill=\"#009af9\" fill-rule=\"evenodd\" fill-opacity=\"1\" stroke=\"#000000\" stroke-opacity=\"1\" stroke-width=\"3.2\"/>\n",
       "<circle clip-path=\"url(#clip132)\" cx=\"977.535\" cy=\"1216.31\" r=\"14.4\" fill=\"#009af9\" fill-rule=\"evenodd\" fill-opacity=\"1\" stroke=\"#000000\" stroke-opacity=\"1\" stroke-width=\"3.2\"/>\n",
       "<circle clip-path=\"url(#clip132)\" cx=\"1078.65\" cy=\"1179.03\" r=\"14.4\" fill=\"#009af9\" fill-rule=\"evenodd\" fill-opacity=\"1\" stroke=\"#000000\" stroke-opacity=\"1\" stroke-width=\"3.2\"/>\n",
       "<circle clip-path=\"url(#clip132)\" cx=\"1179.77\" cy=\"854.501\" r=\"14.4\" fill=\"#009af9\" fill-rule=\"evenodd\" fill-opacity=\"1\" stroke=\"#000000\" stroke-opacity=\"1\" stroke-width=\"3.2\"/>\n",
       "<circle clip-path=\"url(#clip132)\" cx=\"1280.89\" cy=\"1445.72\" r=\"14.4\" fill=\"#009af9\" fill-rule=\"evenodd\" fill-opacity=\"1\" stroke=\"#000000\" stroke-opacity=\"1\" stroke-width=\"3.2\"/>\n",
       "<circle clip-path=\"url(#clip132)\" cx=\"1382.01\" cy=\"1056.95\" r=\"14.4\" fill=\"#009af9\" fill-rule=\"evenodd\" fill-opacity=\"1\" stroke=\"#000000\" stroke-opacity=\"1\" stroke-width=\"3.2\"/>\n",
       "<circle clip-path=\"url(#clip132)\" cx=\"1483.13\" cy=\"727.279\" r=\"14.4\" fill=\"#009af9\" fill-rule=\"evenodd\" fill-opacity=\"1\" stroke=\"#000000\" stroke-opacity=\"1\" stroke-width=\"3.2\"/>\n",
       "<circle clip-path=\"url(#clip132)\" cx=\"1584.25\" cy=\"947.883\" r=\"14.4\" fill=\"#009af9\" fill-rule=\"evenodd\" fill-opacity=\"1\" stroke=\"#000000\" stroke-opacity=\"1\" stroke-width=\"3.2\"/>\n",
       "<circle clip-path=\"url(#clip132)\" cx=\"1685.37\" cy=\"345.584\" r=\"14.4\" fill=\"#009af9\" fill-rule=\"evenodd\" fill-opacity=\"1\" stroke=\"#000000\" stroke-opacity=\"1\" stroke-width=\"3.2\"/>\n",
       "<circle clip-path=\"url(#clip132)\" cx=\"1786.49\" cy=\"1130.97\" r=\"14.4\" fill=\"#009af9\" fill-rule=\"evenodd\" fill-opacity=\"1\" stroke=\"#000000\" stroke-opacity=\"1\" stroke-width=\"3.2\"/>\n",
       "<circle clip-path=\"url(#clip132)\" cx=\"1887.61\" cy=\"737.266\" r=\"14.4\" fill=\"#009af9\" fill-rule=\"evenodd\" fill-opacity=\"1\" stroke=\"#000000\" stroke-opacity=\"1\" stroke-width=\"3.2\"/>\n",
       "<circle clip-path=\"url(#clip132)\" cx=\"1988.73\" cy=\"836.583\" r=\"14.4\" fill=\"#009af9\" fill-rule=\"evenodd\" fill-opacity=\"1\" stroke=\"#000000\" stroke-opacity=\"1\" stroke-width=\"3.2\"/>\n",
       "<circle clip-path=\"url(#clip132)\" cx=\"2089.85\" cy=\"420.066\" r=\"14.4\" fill=\"#009af9\" fill-rule=\"evenodd\" fill-opacity=\"1\" stroke=\"#000000\" stroke-opacity=\"1\" stroke-width=\"3.2\"/>\n",
       "<circle clip-path=\"url(#clip132)\" cx=\"2190.97\" cy=\"823.004\" r=\"14.4\" fill=\"#009af9\" fill-rule=\"evenodd\" fill-opacity=\"1\" stroke=\"#000000\" stroke-opacity=\"1\" stroke-width=\"3.2\"/>\n",
       "<circle clip-path=\"url(#clip132)\" cx=\"2292.08\" cy=\"87.9763\" r=\"14.4\" fill=\"#009af9\" fill-rule=\"evenodd\" fill-opacity=\"1\" stroke=\"#000000\" stroke-opacity=\"1\" stroke-width=\"3.2\"/>\n",
       "<polyline clip-path=\"url(#clip132)\" style=\"stroke:#e26f46; stroke-linecap:round; stroke-linejoin:round; stroke-width:4; stroke-opacity:1; fill:none\" points=\"269.7,603.823 370.819,687.67 471.938,761.036 573.058,823.921 674.177,876.326 775.296,918.249 876.415,949.692 977.535,970.654 1078.65,981.135 1179.77,981.135 1280.89,970.654 1382.01,949.692 1483.13,918.249 1584.25,876.326 1685.37,823.921 1786.49,761.036 1887.61,687.67 1988.73,603.823 2089.85,509.495 2190.97,404.686 2292.08,289.396 \"/>\n",
       "<polyline clip-path=\"url(#clip132)\" style=\"stroke:#3da44d; stroke-linecap:round; stroke-linejoin:round; stroke-width:4; stroke-opacity:1; fill:none\" points=\"269.7,282.853 370.819,880.147 471.938,762.676 573.058,777.77 674.177,871.24 775.296,949.257 876.415,1019.67 977.535,1111.34 1078.65,1204.59 1179.77,1237.38 1280.89,1161.64 1382.01,994.309 1483.13,819.502 1584.25,733.984 1685.37,768.597 1786.49,846.312 1887.61,833.827 1988.73,690.431 2089.85,596.592 2190.97,737.276 2292.08,102.869 \"/>\n",
       "<path clip-path=\"url(#clip130)\" d=\"M2013.92 1438.47 L2281.3 1438.47 L2281.3 1231.11 L2013.92 1231.11  Z\" fill=\"#ffffff\" fill-rule=\"evenodd\" fill-opacity=\"1\"/>\n",
       "<polyline clip-path=\"url(#clip130)\" style=\"stroke:#000000; stroke-linecap:round; stroke-linejoin:round; stroke-width:4; stroke-opacity:1; fill:none\" points=\"2013.92,1438.47 2281.3,1438.47 2281.3,1231.11 2013.92,1231.11 2013.92,1438.47 \"/>\n",
       "<circle clip-path=\"url(#clip130)\" cx=\"2109.19\" cy=\"1282.95\" r=\"23.04\" fill=\"#009af9\" fill-rule=\"evenodd\" fill-opacity=\"1\" stroke=\"#000000\" stroke-opacity=\"1\" stroke-width=\"5.12\"/>\n",
       "<path clip-path=\"url(#clip130)\" d=\"M2218.31 1302.64 Q2216.51 1307.27 2214.79 1308.68 Q2213.08 1310.1 2210.21 1310.1 L2206.81 1310.1 L2206.81 1306.53 L2209.31 1306.53 Q2211.07 1306.53 2212.04 1305.7 Q2213.01 1304.86 2214.19 1301.76 L2214.96 1299.82 L2204.47 1274.31 L2208.98 1274.31 L2217.09 1294.59 L2225.19 1274.31 L2229.7 1274.31 L2218.31 1302.64 Z\" fill=\"#000000\" fill-rule=\"evenodd\" fill-opacity=\"1\" /><path clip-path=\"url(#clip130)\" d=\"M2236.99 1296.3 L2244.63 1296.3 L2244.63 1269.93 L2236.32 1271.6 L2236.32 1267.34 L2244.59 1265.67 L2249.26 1265.67 L2249.26 1296.3 L2256.9 1296.3 L2256.9 1300.23 L2236.99 1300.23 L2236.99 1296.3 Z\" fill=\"#000000\" fill-rule=\"evenodd\" fill-opacity=\"1\" /><polyline clip-path=\"url(#clip130)\" style=\"stroke:#e26f46; stroke-linecap:round; stroke-linejoin:round; stroke-width:4; stroke-opacity:1; fill:none\" points=\"2037.74,1334.79 2180.65,1334.79 \"/>\n",
       "<path clip-path=\"url(#clip130)\" d=\"M2218.31 1354.48 Q2216.51 1359.11 2214.79 1360.52 Q2213.08 1361.94 2210.21 1361.94 L2206.81 1361.94 L2206.81 1358.37 L2209.31 1358.37 Q2211.07 1358.37 2212.04 1357.54 Q2213.01 1356.7 2214.19 1353.6 L2214.96 1351.66 L2204.47 1326.15 L2208.98 1326.15 L2217.09 1346.43 L2225.19 1326.15 L2229.7 1326.15 L2218.31 1354.48 Z\" fill=\"#000000\" fill-rule=\"evenodd\" fill-opacity=\"1\" /><path clip-path=\"url(#clip130)\" d=\"M2240.21 1348.14 L2256.53 1348.14 L2256.53 1352.07 L2234.59 1352.07 L2234.59 1348.14 Q2237.25 1345.38 2241.83 1340.76 Q2246.44 1336.1 2247.62 1334.76 Q2249.86 1332.24 2250.74 1330.5 Q2251.65 1328.74 2251.65 1327.05 Q2251.65 1324.3 2249.7 1322.56 Q2247.78 1320.82 2244.68 1320.82 Q2242.48 1320.82 2240.03 1321.59 Q2237.59 1322.35 2234.82 1323.9 L2234.82 1319.18 Q2237.64 1318.05 2240.09 1317.47 Q2242.55 1316.89 2244.59 1316.89 Q2249.96 1316.89 2253.15 1319.57 Q2256.34 1322.26 2256.34 1326.75 Q2256.34 1328.88 2255.53 1330.8 Q2254.75 1332.7 2252.64 1335.29 Q2252.06 1335.96 2248.96 1339.18 Q2245.86 1342.38 2240.21 1348.14 Z\" fill=\"#000000\" fill-rule=\"evenodd\" fill-opacity=\"1\" /><polyline clip-path=\"url(#clip130)\" style=\"stroke:#3da44d; stroke-linecap:round; stroke-linejoin:round; stroke-width:4; stroke-opacity:1; fill:none\" points=\"2037.74,1386.63 2180.65,1386.63 \"/>\n",
       "<path clip-path=\"url(#clip130)\" d=\"M2218.31 1406.32 Q2216.51 1410.95 2214.79 1412.36 Q2213.08 1413.78 2210.21 1413.78 L2206.81 1413.78 L2206.81 1410.21 L2209.31 1410.21 Q2211.07 1410.21 2212.04 1409.38 Q2213.01 1408.54 2214.19 1405.44 L2214.96 1403.5 L2204.47 1377.99 L2208.98 1377.99 L2217.09 1398.27 L2225.19 1377.99 L2229.7 1377.99 L2218.31 1406.32 Z\" fill=\"#000000\" fill-rule=\"evenodd\" fill-opacity=\"1\" /><path clip-path=\"url(#clip130)\" d=\"M2250.35 1385.28 Q2253.71 1386 2255.58 1388.27 Q2257.48 1390.53 2257.48 1393.87 Q2257.48 1398.98 2253.96 1401.78 Q2250.44 1404.59 2243.96 1404.59 Q2241.78 1404.59 2239.47 1404.15 Q2237.18 1403.73 2234.72 1402.87 L2234.72 1398.36 Q2236.67 1399.49 2238.98 1400.07 Q2241.3 1400.65 2243.82 1400.65 Q2248.22 1400.65 2250.51 1398.91 Q2252.83 1397.18 2252.83 1393.87 Q2252.83 1390.81 2250.67 1389.1 Q2248.54 1387.36 2244.72 1387.36 L2240.7 1387.36 L2240.7 1383.52 L2244.91 1383.52 Q2248.36 1383.52 2250.19 1382.16 Q2252.02 1380.77 2252.02 1378.17 Q2252.02 1375.51 2250.12 1374.1 Q2248.24 1372.66 2244.72 1372.66 Q2242.8 1372.66 2240.6 1373.08 Q2238.41 1373.5 2235.77 1374.38 L2235.77 1370.21 Q2238.43 1369.47 2240.74 1369.1 Q2243.08 1368.73 2245.14 1368.73 Q2250.47 1368.73 2253.57 1371.16 Q2256.67 1373.57 2256.67 1377.69 Q2256.67 1380.56 2255.03 1382.55 Q2253.38 1384.52 2250.35 1385.28 Z\" fill=\"#000000\" fill-rule=\"evenodd\" fill-opacity=\"1\" /></svg>\n"
      ]
     },
     "execution_count": 121,
     "metadata": {},
     "output_type": "execute_result"
    }
   ],
   "source": [
    "using Plots\n",
    "import Distributions as di\n",
    "using Random\n",
    "using Polynomials: Polynomials, fit, coeffs\n",
    "using Statistics\n",
    "x_t2 = collect(x_t2)\n",
    "dataerr = 50\n",
    "noise = di.Normal(0,dataerr)\n",
    "y_true2 = x_t2 .^ 2 + 3 * x_t2 .- 2\n",
    "y_observed2 = y_true2 + rand(noise,length(x_t2))\n",
    "\n",
    "line_fit2 = fit(x_t2,y_observed2,10)\n",
    "fit_coeff2 = coeffs(line_fit2)\n",
    "y_fitted2 = fit_coeff2[1] .+ (fit_coeff2[2] .* x_t2.^1) + (fit_coeff2[3] .* (x_t2.^2)) + (fit_coeff2[4] .* (x_t2.^3)) + (fit_coeff2[5] .* (x_t2.^4)) + (fit_coeff2[6] .* (x_t2.^5)) + (fit_coeff2[7] .* (x_t2.^6)) + (fit_coeff2[8] .* (x_t2.^7)) + (fit_coeff2[9] .* (x_t2.^8)) + (fit_coeff2[10] .* (x_t2.^9)) + (fit_coeff2[11] .* (x_t2.^10))\n",
    "scatter(x_t2,y_observed2)\n",
    "plot!(x_t2,y_true2)\n",
    "plot!(x_t2,y_fitted2)"
   ]
  },
  {
   "cell_type": "markdown",
   "id": "36028ee0",
   "metadata": {},
   "source": [
    "### 2.6\n",
    "\n",
    "1. Create a new independent parameter x_fit ranging from -11 to 11 with an increment of 0.1\n",
    "2. Plot the same three plots as in 2.3 again but apply the tenth order polynomial to x_fit instead of x\n"
   ]
  },
  {
   "cell_type": "code",
   "execution_count": 126,
   "id": "6c67a977",
   "metadata": {},
   "outputs": [
    {
     "data": {
      "image/svg+xml": [
       "<?xml version=\"1.0\" encoding=\"utf-8\"?>\n",
       "<svg xmlns=\"http://www.w3.org/2000/svg\" xmlns:xlink=\"http://www.w3.org/1999/xlink\" width=\"600\" height=\"400\" viewBox=\"0 0 2400 1600\">\n",
       "<defs>\n",
       "  <clipPath id=\"clip290\">\n",
       "    <rect x=\"0\" y=\"0\" width=\"2400\" height=\"1600\"/>\n",
       "  </clipPath>\n",
       "</defs>\n",
       "<path clip-path=\"url(#clip290)\" d=\"M0 1600 L2400 1600 L2400 0 L0 0  Z\" fill=\"#ffffff\" fill-rule=\"evenodd\" fill-opacity=\"1\"/>\n",
       "<defs>\n",
       "  <clipPath id=\"clip291\">\n",
       "    <rect x=\"480\" y=\"0\" width=\"1681\" height=\"1600\"/>\n",
       "  </clipPath>\n",
       "</defs>\n",
       "<path clip-path=\"url(#clip290)\" d=\"M169.121 1486.45 L2352.76 1486.45 L2352.76 47.2441 L169.121 47.2441  Z\" fill=\"#ffffff\" fill-rule=\"evenodd\" fill-opacity=\"1\"/>\n",
       "<defs>\n",
       "  <clipPath id=\"clip292\">\n",
       "    <rect x=\"169\" y=\"47\" width=\"2185\" height=\"1440\"/>\n",
       "  </clipPath>\n",
       "</defs>\n",
       "<polyline clip-path=\"url(#clip292)\" style=\"stroke:#000000; stroke-linecap:round; stroke-linejoin:round; stroke-width:2; stroke-opacity:0.1; fill:none\" points=\"324.56,1486.45 324.56,47.2441 \"/>\n",
       "<polyline clip-path=\"url(#clip292)\" style=\"stroke:#000000; stroke-linecap:round; stroke-linejoin:round; stroke-width:2; stroke-opacity:0.1; fill:none\" points=\"792.749,1486.45 792.749,47.2441 \"/>\n",
       "<polyline clip-path=\"url(#clip292)\" style=\"stroke:#000000; stroke-linecap:round; stroke-linejoin:round; stroke-width:2; stroke-opacity:0.1; fill:none\" points=\"1260.94,1486.45 1260.94,47.2441 \"/>\n",
       "<polyline clip-path=\"url(#clip292)\" style=\"stroke:#000000; stroke-linecap:round; stroke-linejoin:round; stroke-width:2; stroke-opacity:0.1; fill:none\" points=\"1729.13,1486.45 1729.13,47.2441 \"/>\n",
       "<polyline clip-path=\"url(#clip292)\" style=\"stroke:#000000; stroke-linecap:round; stroke-linejoin:round; stroke-width:2; stroke-opacity:0.1; fill:none\" points=\"2197.32,1486.45 2197.32,47.2441 \"/>\n",
       "<polyline clip-path=\"url(#clip290)\" style=\"stroke:#000000; stroke-linecap:round; stroke-linejoin:round; stroke-width:4; stroke-opacity:1; fill:none\" points=\"169.121,1486.45 2352.76,1486.45 \"/>\n",
       "<polyline clip-path=\"url(#clip290)\" style=\"stroke:#000000; stroke-linecap:round; stroke-linejoin:round; stroke-width:4; stroke-opacity:1; fill:none\" points=\"324.56,1486.45 324.56,1467.55 \"/>\n",
       "<polyline clip-path=\"url(#clip290)\" style=\"stroke:#000000; stroke-linecap:round; stroke-linejoin:round; stroke-width:4; stroke-opacity:1; fill:none\" points=\"792.749,1486.45 792.749,1467.55 \"/>\n",
       "<polyline clip-path=\"url(#clip290)\" style=\"stroke:#000000; stroke-linecap:round; stroke-linejoin:round; stroke-width:4; stroke-opacity:1; fill:none\" points=\"1260.94,1486.45 1260.94,1467.55 \"/>\n",
       "<polyline clip-path=\"url(#clip290)\" style=\"stroke:#000000; stroke-linecap:round; stroke-linejoin:round; stroke-width:4; stroke-opacity:1; fill:none\" points=\"1729.13,1486.45 1729.13,1467.55 \"/>\n",
       "<polyline clip-path=\"url(#clip290)\" style=\"stroke:#000000; stroke-linecap:round; stroke-linejoin:round; stroke-width:4; stroke-opacity:1; fill:none\" points=\"2197.32,1486.45 2197.32,1467.55 \"/>\n",
       "<path clip-path=\"url(#clip290)\" d=\"M278.623 1532.02 L308.299 1532.02 L308.299 1535.95 L278.623 1535.95 L278.623 1532.02 Z\" fill=\"#000000\" fill-rule=\"evenodd\" fill-opacity=\"1\" /><path clip-path=\"url(#clip290)\" d=\"M319.201 1544.91 L326.84 1544.91 L326.84 1518.55 L318.53 1520.21 L318.53 1515.95 L326.794 1514.29 L331.47 1514.29 L331.47 1544.91 L339.109 1544.91 L339.109 1548.85 L319.201 1548.85 L319.201 1544.91 Z\" fill=\"#000000\" fill-rule=\"evenodd\" fill-opacity=\"1\" /><path clip-path=\"url(#clip290)\" d=\"M358.553 1517.37 Q354.942 1517.37 353.113 1520.93 Q351.308 1524.47 351.308 1531.6 Q351.308 1538.71 353.113 1542.27 Q354.942 1545.82 358.553 1545.82 Q362.187 1545.82 363.993 1542.27 Q365.821 1538.71 365.821 1531.6 Q365.821 1524.47 363.993 1520.93 Q362.187 1517.37 358.553 1517.37 M358.553 1513.66 Q364.363 1513.66 367.419 1518.27 Q370.497 1522.85 370.497 1531.6 Q370.497 1540.33 367.419 1544.94 Q364.363 1549.52 358.553 1549.52 Q352.743 1549.52 349.664 1544.94 Q346.609 1540.33 346.609 1531.6 Q346.609 1522.85 349.664 1518.27 Q352.743 1513.66 358.553 1513.66 Z\" fill=\"#000000\" fill-rule=\"evenodd\" fill-opacity=\"1\" /><path clip-path=\"url(#clip290)\" d=\"M762.391 1532.02 L792.067 1532.02 L792.067 1535.95 L762.391 1535.95 L762.391 1532.02 Z\" fill=\"#000000\" fill-rule=\"evenodd\" fill-opacity=\"1\" /><path clip-path=\"url(#clip290)\" d=\"M802.205 1514.29 L820.562 1514.29 L820.562 1518.22 L806.488 1518.22 L806.488 1526.7 Q807.506 1526.35 808.525 1526.19 Q809.543 1526 810.562 1526 Q816.349 1526 819.728 1529.17 Q823.108 1532.34 823.108 1537.76 Q823.108 1543.34 819.636 1546.44 Q816.164 1549.52 809.844 1549.52 Q807.668 1549.52 805.4 1549.15 Q803.154 1548.78 800.747 1548.04 L800.747 1543.34 Q802.83 1544.47 805.053 1545.03 Q807.275 1545.58 809.752 1545.58 Q813.756 1545.58 816.094 1543.48 Q818.432 1541.37 818.432 1537.76 Q818.432 1534.15 816.094 1532.04 Q813.756 1529.94 809.752 1529.94 Q807.877 1529.94 806.002 1530.35 Q804.15 1530.77 802.205 1531.65 L802.205 1514.29 Z\" fill=\"#000000\" fill-rule=\"evenodd\" fill-opacity=\"1\" /><path clip-path=\"url(#clip290)\" d=\"M1260.94 1517.37 Q1257.33 1517.37 1255.5 1520.93 Q1253.69 1524.47 1253.69 1531.6 Q1253.69 1538.71 1255.5 1542.27 Q1257.33 1545.82 1260.94 1545.82 Q1264.57 1545.82 1266.38 1542.27 Q1268.21 1538.71 1268.21 1531.6 Q1268.21 1524.47 1266.38 1520.93 Q1264.57 1517.37 1260.94 1517.37 M1260.94 1513.66 Q1266.75 1513.66 1269.8 1518.27 Q1272.88 1522.85 1272.88 1531.6 Q1272.88 1540.33 1269.8 1544.94 Q1266.75 1549.52 1260.94 1549.52 Q1255.13 1549.52 1252.05 1544.94 Q1248.99 1540.33 1248.99 1531.6 Q1248.99 1522.85 1252.05 1518.27 Q1255.13 1513.66 1260.94 1513.66 Z\" fill=\"#000000\" fill-rule=\"evenodd\" fill-opacity=\"1\" /><path clip-path=\"url(#clip290)\" d=\"M1719.41 1514.29 L1737.76 1514.29 L1737.76 1518.22 L1723.69 1518.22 L1723.69 1526.7 Q1724.71 1526.35 1725.73 1526.19 Q1726.74 1526 1727.76 1526 Q1733.55 1526 1736.93 1529.17 Q1740.31 1532.34 1740.31 1537.76 Q1740.31 1543.34 1736.84 1546.44 Q1733.36 1549.52 1727.04 1549.52 Q1724.87 1549.52 1722.6 1549.15 Q1720.35 1548.78 1717.95 1548.04 L1717.95 1543.34 Q1720.03 1544.47 1722.25 1545.03 Q1724.48 1545.58 1726.95 1545.58 Q1730.96 1545.58 1733.29 1543.48 Q1735.63 1541.37 1735.63 1537.76 Q1735.63 1534.15 1733.29 1532.04 Q1730.96 1529.94 1726.95 1529.94 Q1725.08 1529.94 1723.2 1530.35 Q1721.35 1530.77 1719.41 1531.65 L1719.41 1514.29 Z\" fill=\"#000000\" fill-rule=\"evenodd\" fill-opacity=\"1\" /><path clip-path=\"url(#clip290)\" d=\"M2172 1544.91 L2179.64 1544.91 L2179.64 1518.55 L2171.33 1520.21 L2171.33 1515.95 L2179.6 1514.29 L2184.27 1514.29 L2184.27 1544.91 L2191.91 1544.91 L2191.91 1548.85 L2172 1548.85 L2172 1544.91 Z\" fill=\"#000000\" fill-rule=\"evenodd\" fill-opacity=\"1\" /><path clip-path=\"url(#clip290)\" d=\"M2211.36 1517.37 Q2207.75 1517.37 2205.92 1520.93 Q2204.11 1524.47 2204.11 1531.6 Q2204.11 1538.71 2205.92 1542.27 Q2207.75 1545.82 2211.36 1545.82 Q2214.99 1545.82 2216.8 1542.27 Q2218.62 1538.71 2218.62 1531.6 Q2218.62 1524.47 2216.8 1520.93 Q2214.99 1517.37 2211.36 1517.37 M2211.36 1513.66 Q2217.17 1513.66 2220.22 1518.27 Q2223.3 1522.85 2223.3 1531.6 Q2223.3 1540.33 2220.22 1544.94 Q2217.17 1549.52 2211.36 1549.52 Q2205.55 1549.52 2202.47 1544.94 Q2199.41 1540.33 2199.41 1531.6 Q2199.41 1522.85 2202.47 1518.27 Q2205.55 1513.66 2211.36 1513.66 Z\" fill=\"#000000\" fill-rule=\"evenodd\" fill-opacity=\"1\" /><polyline clip-path=\"url(#clip292)\" style=\"stroke:#000000; stroke-linecap:round; stroke-linejoin:round; stroke-width:2; stroke-opacity:0.1; fill:none\" points=\"169.121,1275.99 2352.76,1275.99 \"/>\n",
       "<polyline clip-path=\"url(#clip292)\" style=\"stroke:#000000; stroke-linecap:round; stroke-linejoin:round; stroke-width:2; stroke-opacity:0.1; fill:none\" points=\"169.121,898.292 2352.76,898.292 \"/>\n",
       "<polyline clip-path=\"url(#clip292)\" style=\"stroke:#000000; stroke-linecap:round; stroke-linejoin:round; stroke-width:2; stroke-opacity:0.1; fill:none\" points=\"169.121,520.595 2352.76,520.595 \"/>\n",
       "<polyline clip-path=\"url(#clip292)\" style=\"stroke:#000000; stroke-linecap:round; stroke-linejoin:round; stroke-width:2; stroke-opacity:0.1; fill:none\" points=\"169.121,142.898 2352.76,142.898 \"/>\n",
       "<polyline clip-path=\"url(#clip290)\" style=\"stroke:#000000; stroke-linecap:round; stroke-linejoin:round; stroke-width:4; stroke-opacity:1; fill:none\" points=\"169.121,1486.45 169.121,47.2441 \"/>\n",
       "<polyline clip-path=\"url(#clip290)\" style=\"stroke:#000000; stroke-linecap:round; stroke-linejoin:round; stroke-width:4; stroke-opacity:1; fill:none\" points=\"169.121,1275.99 188.019,1275.99 \"/>\n",
       "<polyline clip-path=\"url(#clip290)\" style=\"stroke:#000000; stroke-linecap:round; stroke-linejoin:round; stroke-width:4; stroke-opacity:1; fill:none\" points=\"169.121,898.292 188.019,898.292 \"/>\n",
       "<polyline clip-path=\"url(#clip290)\" style=\"stroke:#000000; stroke-linecap:round; stroke-linejoin:round; stroke-width:4; stroke-opacity:1; fill:none\" points=\"169.121,520.595 188.019,520.595 \"/>\n",
       "<polyline clip-path=\"url(#clip290)\" style=\"stroke:#000000; stroke-linecap:round; stroke-linejoin:round; stroke-width:4; stroke-opacity:1; fill:none\" points=\"169.121,142.898 188.019,142.898 \"/>\n",
       "<path clip-path=\"url(#clip290)\" d=\"M121.177 1261.79 Q117.566 1261.79 115.737 1265.35 Q113.932 1268.89 113.932 1276.02 Q113.932 1283.13 115.737 1286.69 Q117.566 1290.24 121.177 1290.24 Q124.811 1290.24 126.617 1286.69 Q128.445 1283.13 128.445 1276.02 Q128.445 1268.89 126.617 1265.35 Q124.811 1261.79 121.177 1261.79 M121.177 1258.08 Q126.987 1258.08 130.043 1262.69 Q133.121 1267.27 133.121 1276.02 Q133.121 1284.75 130.043 1289.36 Q126.987 1293.94 121.177 1293.94 Q115.367 1293.94 112.288 1289.36 Q109.233 1284.75 109.233 1276.02 Q109.233 1267.27 112.288 1262.69 Q115.367 1258.08 121.177 1258.08 Z\" fill=\"#000000\" fill-rule=\"evenodd\" fill-opacity=\"1\" /><path clip-path=\"url(#clip290)\" d=\"M81.0614 881.012 L99.4178 881.012 L99.4178 884.947 L85.3438 884.947 L85.3438 893.419 Q86.3623 893.072 87.3808 892.91 Q88.3993 892.725 89.4178 892.725 Q95.2049 892.725 98.5845 895.896 Q101.964 899.067 101.964 904.484 Q101.964 910.063 98.4919 913.164 Q95.0197 916.243 88.7003 916.243 Q86.5243 916.243 84.2558 915.873 Q82.0105 915.502 79.6031 914.762 L79.6031 910.063 Q81.6864 911.197 83.9086 911.752 Q86.1308 912.308 88.6077 912.308 Q92.6123 912.308 94.9502 910.202 Q97.2882 908.095 97.2882 904.484 Q97.2882 900.873 94.9502 898.766 Q92.6123 896.66 88.6077 896.66 Q86.7327 896.66 84.8577 897.077 Q83.0058 897.493 81.0614 898.373 L81.0614 881.012 Z\" fill=\"#000000\" fill-rule=\"evenodd\" fill-opacity=\"1\" /><path clip-path=\"url(#clip290)\" d=\"M121.177 884.091 Q117.566 884.091 115.737 887.655 Q113.932 891.197 113.932 898.327 Q113.932 905.433 115.737 908.998 Q117.566 912.539 121.177 912.539 Q124.811 912.539 126.617 908.998 Q128.445 905.433 128.445 898.327 Q128.445 891.197 126.617 887.655 Q124.811 884.091 121.177 884.091 M121.177 880.387 Q126.987 880.387 130.043 884.993 Q133.121 889.577 133.121 898.327 Q133.121 907.053 130.043 911.66 Q126.987 916.243 121.177 916.243 Q115.367 916.243 112.288 911.66 Q109.233 907.053 109.233 898.327 Q109.233 889.577 112.288 884.993 Q115.367 880.387 121.177 880.387 Z\" fill=\"#000000\" fill-rule=\"evenodd\" fill-opacity=\"1\" /><path clip-path=\"url(#clip290)\" d=\"M51.6634 533.94 L59.3023 533.94 L59.3023 507.574 L50.9921 509.241 L50.9921 504.981 L59.256 503.315 L63.9319 503.315 L63.9319 533.94 L71.5707 533.94 L71.5707 537.875 L51.6634 537.875 L51.6634 533.94 Z\" fill=\"#000000\" fill-rule=\"evenodd\" fill-opacity=\"1\" /><path clip-path=\"url(#clip290)\" d=\"M91.0151 506.393 Q87.404 506.393 85.5753 509.958 Q83.7697 513.5 83.7697 520.63 Q83.7697 527.736 85.5753 531.301 Q87.404 534.842 91.0151 534.842 Q94.6493 534.842 96.4548 531.301 Q98.2835 527.736 98.2835 520.63 Q98.2835 513.5 96.4548 509.958 Q94.6493 506.393 91.0151 506.393 M91.0151 502.69 Q96.8252 502.69 99.8808 507.296 Q102.959 511.88 102.959 520.63 Q102.959 529.356 99.8808 533.963 Q96.8252 538.546 91.0151 538.546 Q85.2049 538.546 82.1262 533.963 Q79.0707 529.356 79.0707 520.63 Q79.0707 511.88 82.1262 507.296 Q85.2049 502.69 91.0151 502.69 Z\" fill=\"#000000\" fill-rule=\"evenodd\" fill-opacity=\"1\" /><path clip-path=\"url(#clip290)\" d=\"M121.177 506.393 Q117.566 506.393 115.737 509.958 Q113.932 513.5 113.932 520.63 Q113.932 527.736 115.737 531.301 Q117.566 534.842 121.177 534.842 Q124.811 534.842 126.617 531.301 Q128.445 527.736 128.445 520.63 Q128.445 513.5 126.617 509.958 Q124.811 506.393 121.177 506.393 M121.177 502.69 Q126.987 502.69 130.043 507.296 Q133.121 511.88 133.121 520.63 Q133.121 529.356 130.043 533.963 Q126.987 538.546 121.177 538.546 Q115.367 538.546 112.288 533.963 Q109.233 529.356 109.233 520.63 Q109.233 511.88 112.288 507.296 Q115.367 502.69 121.177 502.69 Z\" fill=\"#000000\" fill-rule=\"evenodd\" fill-opacity=\"1\" /><path clip-path=\"url(#clip290)\" d=\"M51.6634 156.243 L59.3023 156.243 L59.3023 129.877 L50.9921 131.544 L50.9921 127.284 L59.256 125.618 L63.9319 125.618 L63.9319 156.243 L71.5707 156.243 L71.5707 160.178 L51.6634 160.178 L51.6634 156.243 Z\" fill=\"#000000\" fill-rule=\"evenodd\" fill-opacity=\"1\" /><path clip-path=\"url(#clip290)\" d=\"M81.0614 125.618 L99.4178 125.618 L99.4178 129.553 L85.3438 129.553 L85.3438 138.025 Q86.3623 137.678 87.3808 137.516 Q88.3993 137.331 89.4178 137.331 Q95.2049 137.331 98.5845 140.502 Q101.964 143.673 101.964 149.09 Q101.964 154.668 98.4919 157.77 Q95.0197 160.849 88.7003 160.849 Q86.5243 160.849 84.2558 160.479 Q82.0105 160.108 79.6031 159.368 L79.6031 154.668 Q81.6864 155.803 83.9086 156.358 Q86.1308 156.914 88.6077 156.914 Q92.6123 156.914 94.9502 154.807 Q97.2882 152.701 97.2882 149.09 Q97.2882 145.479 94.9502 143.372 Q92.6123 141.266 88.6077 141.266 Q86.7327 141.266 84.8577 141.682 Q83.0058 142.099 81.0614 142.979 L81.0614 125.618 Z\" fill=\"#000000\" fill-rule=\"evenodd\" fill-opacity=\"1\" /><path clip-path=\"url(#clip290)\" d=\"M121.177 128.696 Q117.566 128.696 115.737 132.261 Q113.932 135.803 113.932 142.932 Q113.932 150.039 115.737 153.604 Q117.566 157.145 121.177 157.145 Q124.811 157.145 126.617 153.604 Q128.445 150.039 128.445 142.932 Q128.445 135.803 126.617 132.261 Q124.811 128.696 121.177 128.696 M121.177 124.993 Q126.987 124.993 130.043 129.599 Q133.121 134.182 133.121 142.932 Q133.121 151.659 130.043 156.266 Q126.987 160.849 121.177 160.849 Q115.367 160.849 112.288 156.266 Q109.233 151.659 109.233 142.932 Q109.233 134.182 112.288 129.599 Q115.367 124.993 121.177 124.993 Z\" fill=\"#000000\" fill-rule=\"evenodd\" fill-opacity=\"1\" /><circle clip-path=\"url(#clip292)\" cx=\"230.922\" cy=\"607.163\" r=\"14.4\" fill=\"#009af9\" fill-rule=\"evenodd\" fill-opacity=\"1\" stroke=\"#000000\" stroke-opacity=\"1\" stroke-width=\"3.2\"/>\n",
       "<circle clip-path=\"url(#clip292)\" cx=\"240.286\" cy=\"682.136\" r=\"14.4\" fill=\"#009af9\" fill-rule=\"evenodd\" fill-opacity=\"1\" stroke=\"#000000\" stroke-opacity=\"1\" stroke-width=\"3.2\"/>\n",
       "<circle clip-path=\"url(#clip292)\" cx=\"249.65\" cy=\"722.961\" r=\"14.4\" fill=\"#009af9\" fill-rule=\"evenodd\" fill-opacity=\"1\" stroke=\"#000000\" stroke-opacity=\"1\" stroke-width=\"3.2\"/>\n",
       "<circle clip-path=\"url(#clip292)\" cx=\"259.014\" cy=\"575.539\" r=\"14.4\" fill=\"#009af9\" fill-rule=\"evenodd\" fill-opacity=\"1\" stroke=\"#000000\" stroke-opacity=\"1\" stroke-width=\"3.2\"/>\n",
       "<circle clip-path=\"url(#clip292)\" cx=\"268.377\" cy=\"659.424\" r=\"14.4\" fill=\"#009af9\" fill-rule=\"evenodd\" fill-opacity=\"1\" stroke=\"#000000\" stroke-opacity=\"1\" stroke-width=\"3.2\"/>\n",
       "<circle clip-path=\"url(#clip292)\" cx=\"277.741\" cy=\"697.521\" r=\"14.4\" fill=\"#009af9\" fill-rule=\"evenodd\" fill-opacity=\"1\" stroke=\"#000000\" stroke-opacity=\"1\" stroke-width=\"3.2\"/>\n",
       "<circle clip-path=\"url(#clip292)\" cx=\"287.105\" cy=\"711.335\" r=\"14.4\" fill=\"#009af9\" fill-rule=\"evenodd\" fill-opacity=\"1\" stroke=\"#000000\" stroke-opacity=\"1\" stroke-width=\"3.2\"/>\n",
       "<circle clip-path=\"url(#clip292)\" cx=\"296.469\" cy=\"718.72\" r=\"14.4\" fill=\"#009af9\" fill-rule=\"evenodd\" fill-opacity=\"1\" stroke=\"#000000\" stroke-opacity=\"1\" stroke-width=\"3.2\"/>\n",
       "<circle clip-path=\"url(#clip292)\" cx=\"305.833\" cy=\"785.629\" r=\"14.4\" fill=\"#009af9\" fill-rule=\"evenodd\" fill-opacity=\"1\" stroke=\"#000000\" stroke-opacity=\"1\" stroke-width=\"3.2\"/>\n",
       "<circle clip-path=\"url(#clip292)\" cx=\"315.196\" cy=\"662.55\" r=\"14.4\" fill=\"#009af9\" fill-rule=\"evenodd\" fill-opacity=\"1\" stroke=\"#000000\" stroke-opacity=\"1\" stroke-width=\"3.2\"/>\n",
       "<circle clip-path=\"url(#clip292)\" cx=\"324.56\" cy=\"825.524\" r=\"14.4\" fill=\"#009af9\" fill-rule=\"evenodd\" fill-opacity=\"1\" stroke=\"#000000\" stroke-opacity=\"1\" stroke-width=\"3.2\"/>\n",
       "<circle clip-path=\"url(#clip292)\" cx=\"333.924\" cy=\"688.478\" r=\"14.4\" fill=\"#009af9\" fill-rule=\"evenodd\" fill-opacity=\"1\" stroke=\"#000000\" stroke-opacity=\"1\" stroke-width=\"3.2\"/>\n",
       "<circle clip-path=\"url(#clip292)\" cx=\"343.288\" cy=\"776.574\" r=\"14.4\" fill=\"#009af9\" fill-rule=\"evenodd\" fill-opacity=\"1\" stroke=\"#000000\" stroke-opacity=\"1\" stroke-width=\"3.2\"/>\n",
       "<circle clip-path=\"url(#clip292)\" cx=\"352.651\" cy=\"827.424\" r=\"14.4\" fill=\"#009af9\" fill-rule=\"evenodd\" fill-opacity=\"1\" stroke=\"#000000\" stroke-opacity=\"1\" stroke-width=\"3.2\"/>\n",
       "<circle clip-path=\"url(#clip292)\" cx=\"362.015\" cy=\"778.505\" r=\"14.4\" fill=\"#009af9\" fill-rule=\"evenodd\" fill-opacity=\"1\" stroke=\"#000000\" stroke-opacity=\"1\" stroke-width=\"3.2\"/>\n",
       "<circle clip-path=\"url(#clip292)\" cx=\"371.379\" cy=\"758.441\" r=\"14.4\" fill=\"#009af9\" fill-rule=\"evenodd\" fill-opacity=\"1\" stroke=\"#000000\" stroke-opacity=\"1\" stroke-width=\"3.2\"/>\n",
       "<circle clip-path=\"url(#clip292)\" cx=\"380.743\" cy=\"959.164\" r=\"14.4\" fill=\"#009af9\" fill-rule=\"evenodd\" fill-opacity=\"1\" stroke=\"#000000\" stroke-opacity=\"1\" stroke-width=\"3.2\"/>\n",
       "<circle clip-path=\"url(#clip292)\" cx=\"390.107\" cy=\"885.028\" r=\"14.4\" fill=\"#009af9\" fill-rule=\"evenodd\" fill-opacity=\"1\" stroke=\"#000000\" stroke-opacity=\"1\" stroke-width=\"3.2\"/>\n",
       "<circle clip-path=\"url(#clip292)\" cx=\"399.47\" cy=\"880.025\" r=\"14.4\" fill=\"#009af9\" fill-rule=\"evenodd\" fill-opacity=\"1\" stroke=\"#000000\" stroke-opacity=\"1\" stroke-width=\"3.2\"/>\n",
       "<circle clip-path=\"url(#clip292)\" cx=\"408.834\" cy=\"838.753\" r=\"14.4\" fill=\"#009af9\" fill-rule=\"evenodd\" fill-opacity=\"1\" stroke=\"#000000\" stroke-opacity=\"1\" stroke-width=\"3.2\"/>\n",
       "<circle clip-path=\"url(#clip292)\" cx=\"418.198\" cy=\"841.316\" r=\"14.4\" fill=\"#009af9\" fill-rule=\"evenodd\" fill-opacity=\"1\" stroke=\"#000000\" stroke-opacity=\"1\" stroke-width=\"3.2\"/>\n",
       "<circle clip-path=\"url(#clip292)\" cx=\"427.562\" cy=\"743.765\" r=\"14.4\" fill=\"#009af9\" fill-rule=\"evenodd\" fill-opacity=\"1\" stroke=\"#000000\" stroke-opacity=\"1\" stroke-width=\"3.2\"/>\n",
       "<circle clip-path=\"url(#clip292)\" cx=\"436.926\" cy=\"952.215\" r=\"14.4\" fill=\"#009af9\" fill-rule=\"evenodd\" fill-opacity=\"1\" stroke=\"#000000\" stroke-opacity=\"1\" stroke-width=\"3.2\"/>\n",
       "<circle clip-path=\"url(#clip292)\" cx=\"446.289\" cy=\"882.224\" r=\"14.4\" fill=\"#009af9\" fill-rule=\"evenodd\" fill-opacity=\"1\" stroke=\"#000000\" stroke-opacity=\"1\" stroke-width=\"3.2\"/>\n",
       "<circle clip-path=\"url(#clip292)\" cx=\"455.653\" cy=\"906.69\" r=\"14.4\" fill=\"#009af9\" fill-rule=\"evenodd\" fill-opacity=\"1\" stroke=\"#000000\" stroke-opacity=\"1\" stroke-width=\"3.2\"/>\n",
       "<circle clip-path=\"url(#clip292)\" cx=\"465.017\" cy=\"853.234\" r=\"14.4\" fill=\"#009af9\" fill-rule=\"evenodd\" fill-opacity=\"1\" stroke=\"#000000\" stroke-opacity=\"1\" stroke-width=\"3.2\"/>\n",
       "<circle clip-path=\"url(#clip292)\" cx=\"474.381\" cy=\"880.851\" r=\"14.4\" fill=\"#009af9\" fill-rule=\"evenodd\" fill-opacity=\"1\" stroke=\"#000000\" stroke-opacity=\"1\" stroke-width=\"3.2\"/>\n",
       "<circle clip-path=\"url(#clip292)\" cx=\"483.744\" cy=\"920.265\" r=\"14.4\" fill=\"#009af9\" fill-rule=\"evenodd\" fill-opacity=\"1\" stroke=\"#000000\" stroke-opacity=\"1\" stroke-width=\"3.2\"/>\n",
       "<circle clip-path=\"url(#clip292)\" cx=\"493.108\" cy=\"910.46\" r=\"14.4\" fill=\"#009af9\" fill-rule=\"evenodd\" fill-opacity=\"1\" stroke=\"#000000\" stroke-opacity=\"1\" stroke-width=\"3.2\"/>\n",
       "<circle clip-path=\"url(#clip292)\" cx=\"502.472\" cy=\"987.449\" r=\"14.4\" fill=\"#009af9\" fill-rule=\"evenodd\" fill-opacity=\"1\" stroke=\"#000000\" stroke-opacity=\"1\" stroke-width=\"3.2\"/>\n",
       "<circle clip-path=\"url(#clip292)\" cx=\"511.836\" cy=\"904.066\" r=\"14.4\" fill=\"#009af9\" fill-rule=\"evenodd\" fill-opacity=\"1\" stroke=\"#000000\" stroke-opacity=\"1\" stroke-width=\"3.2\"/>\n",
       "<circle clip-path=\"url(#clip292)\" cx=\"521.2\" cy=\"907.794\" r=\"14.4\" fill=\"#009af9\" fill-rule=\"evenodd\" fill-opacity=\"1\" stroke=\"#000000\" stroke-opacity=\"1\" stroke-width=\"3.2\"/>\n",
       "<circle clip-path=\"url(#clip292)\" cx=\"530.563\" cy=\"973.135\" r=\"14.4\" fill=\"#009af9\" fill-rule=\"evenodd\" fill-opacity=\"1\" stroke=\"#000000\" stroke-opacity=\"1\" stroke-width=\"3.2\"/>\n",
       "<circle clip-path=\"url(#clip292)\" cx=\"539.927\" cy=\"1099.79\" r=\"14.4\" fill=\"#009af9\" fill-rule=\"evenodd\" fill-opacity=\"1\" stroke=\"#000000\" stroke-opacity=\"1\" stroke-width=\"3.2\"/>\n",
       "<circle clip-path=\"url(#clip292)\" cx=\"549.291\" cy=\"892.886\" r=\"14.4\" fill=\"#009af9\" fill-rule=\"evenodd\" fill-opacity=\"1\" stroke=\"#000000\" stroke-opacity=\"1\" stroke-width=\"3.2\"/>\n",
       "<circle clip-path=\"url(#clip292)\" cx=\"558.655\" cy=\"1005.89\" r=\"14.4\" fill=\"#009af9\" fill-rule=\"evenodd\" fill-opacity=\"1\" stroke=\"#000000\" stroke-opacity=\"1\" stroke-width=\"3.2\"/>\n",
       "<circle clip-path=\"url(#clip292)\" cx=\"568.019\" cy=\"1046.99\" r=\"14.4\" fill=\"#009af9\" fill-rule=\"evenodd\" fill-opacity=\"1\" stroke=\"#000000\" stroke-opacity=\"1\" stroke-width=\"3.2\"/>\n",
       "<circle clip-path=\"url(#clip292)\" cx=\"577.382\" cy=\"1212.1\" r=\"14.4\" fill=\"#009af9\" fill-rule=\"evenodd\" fill-opacity=\"1\" stroke=\"#000000\" stroke-opacity=\"1\" stroke-width=\"3.2\"/>\n",
       "<circle clip-path=\"url(#clip292)\" cx=\"586.746\" cy=\"985.54\" r=\"14.4\" fill=\"#009af9\" fill-rule=\"evenodd\" fill-opacity=\"1\" stroke=\"#000000\" stroke-opacity=\"1\" stroke-width=\"3.2\"/>\n",
       "<circle clip-path=\"url(#clip292)\" cx=\"596.11\" cy=\"925.044\" r=\"14.4\" fill=\"#009af9\" fill-rule=\"evenodd\" fill-opacity=\"1\" stroke=\"#000000\" stroke-opacity=\"1\" stroke-width=\"3.2\"/>\n",
       "<circle clip-path=\"url(#clip292)\" cx=\"605.474\" cy=\"1087.76\" r=\"14.4\" fill=\"#009af9\" fill-rule=\"evenodd\" fill-opacity=\"1\" stroke=\"#000000\" stroke-opacity=\"1\" stroke-width=\"3.2\"/>\n",
       "<circle clip-path=\"url(#clip292)\" cx=\"614.837\" cy=\"1193.09\" r=\"14.4\" fill=\"#009af9\" fill-rule=\"evenodd\" fill-opacity=\"1\" stroke=\"#000000\" stroke-opacity=\"1\" stroke-width=\"3.2\"/>\n",
       "<circle clip-path=\"url(#clip292)\" cx=\"624.201\" cy=\"999.894\" r=\"14.4\" fill=\"#009af9\" fill-rule=\"evenodd\" fill-opacity=\"1\" stroke=\"#000000\" stroke-opacity=\"1\" stroke-width=\"3.2\"/>\n",
       "<circle clip-path=\"url(#clip292)\" cx=\"633.565\" cy=\"1105.81\" r=\"14.4\" fill=\"#009af9\" fill-rule=\"evenodd\" fill-opacity=\"1\" stroke=\"#000000\" stroke-opacity=\"1\" stroke-width=\"3.2\"/>\n",
       "<circle clip-path=\"url(#clip292)\" cx=\"642.929\" cy=\"1214.13\" r=\"14.4\" fill=\"#009af9\" fill-rule=\"evenodd\" fill-opacity=\"1\" stroke=\"#000000\" stroke-opacity=\"1\" stroke-width=\"3.2\"/>\n",
       "<circle clip-path=\"url(#clip292)\" cx=\"652.293\" cy=\"1048.75\" r=\"14.4\" fill=\"#009af9\" fill-rule=\"evenodd\" fill-opacity=\"1\" stroke=\"#000000\" stroke-opacity=\"1\" stroke-width=\"3.2\"/>\n",
       "<circle clip-path=\"url(#clip292)\" cx=\"661.656\" cy=\"1232.14\" r=\"14.4\" fill=\"#009af9\" fill-rule=\"evenodd\" fill-opacity=\"1\" stroke=\"#000000\" stroke-opacity=\"1\" stroke-width=\"3.2\"/>\n",
       "<circle clip-path=\"url(#clip292)\" cx=\"671.02\" cy=\"1162.26\" r=\"14.4\" fill=\"#009af9\" fill-rule=\"evenodd\" fill-opacity=\"1\" stroke=\"#000000\" stroke-opacity=\"1\" stroke-width=\"3.2\"/>\n",
       "<circle clip-path=\"url(#clip292)\" cx=\"680.384\" cy=\"1062.84\" r=\"14.4\" fill=\"#009af9\" fill-rule=\"evenodd\" fill-opacity=\"1\" stroke=\"#000000\" stroke-opacity=\"1\" stroke-width=\"3.2\"/>\n",
       "<circle clip-path=\"url(#clip292)\" cx=\"689.748\" cy=\"1107.68\" r=\"14.4\" fill=\"#009af9\" fill-rule=\"evenodd\" fill-opacity=\"1\" stroke=\"#000000\" stroke-opacity=\"1\" stroke-width=\"3.2\"/>\n",
       "<circle clip-path=\"url(#clip292)\" cx=\"699.112\" cy=\"1122.81\" r=\"14.4\" fill=\"#009af9\" fill-rule=\"evenodd\" fill-opacity=\"1\" stroke=\"#000000\" stroke-opacity=\"1\" stroke-width=\"3.2\"/>\n",
       "<circle clip-path=\"url(#clip292)\" cx=\"708.475\" cy=\"1100.02\" r=\"14.4\" fill=\"#009af9\" fill-rule=\"evenodd\" fill-opacity=\"1\" stroke=\"#000000\" stroke-opacity=\"1\" stroke-width=\"3.2\"/>\n",
       "<circle clip-path=\"url(#clip292)\" cx=\"717.839\" cy=\"1072.58\" r=\"14.4\" fill=\"#009af9\" fill-rule=\"evenodd\" fill-opacity=\"1\" stroke=\"#000000\" stroke-opacity=\"1\" stroke-width=\"3.2\"/>\n",
       "<circle clip-path=\"url(#clip292)\" cx=\"727.203\" cy=\"1132.78\" r=\"14.4\" fill=\"#009af9\" fill-rule=\"evenodd\" fill-opacity=\"1\" stroke=\"#000000\" stroke-opacity=\"1\" stroke-width=\"3.2\"/>\n",
       "<circle clip-path=\"url(#clip292)\" cx=\"736.567\" cy=\"1071.11\" r=\"14.4\" fill=\"#009af9\" fill-rule=\"evenodd\" fill-opacity=\"1\" stroke=\"#000000\" stroke-opacity=\"1\" stroke-width=\"3.2\"/>\n",
       "<circle clip-path=\"url(#clip292)\" cx=\"745.93\" cy=\"1082.59\" r=\"14.4\" fill=\"#009af9\" fill-rule=\"evenodd\" fill-opacity=\"1\" stroke=\"#000000\" stroke-opacity=\"1\" stroke-width=\"3.2\"/>\n",
       "<circle clip-path=\"url(#clip292)\" cx=\"755.294\" cy=\"1231.54\" r=\"14.4\" fill=\"#009af9\" fill-rule=\"evenodd\" fill-opacity=\"1\" stroke=\"#000000\" stroke-opacity=\"1\" stroke-width=\"3.2\"/>\n",
       "<circle clip-path=\"url(#clip292)\" cx=\"764.658\" cy=\"1295.93\" r=\"14.4\" fill=\"#009af9\" fill-rule=\"evenodd\" fill-opacity=\"1\" stroke=\"#000000\" stroke-opacity=\"1\" stroke-width=\"3.2\"/>\n",
       "<circle clip-path=\"url(#clip292)\" cx=\"774.022\" cy=\"1163.88\" r=\"14.4\" fill=\"#009af9\" fill-rule=\"evenodd\" fill-opacity=\"1\" stroke=\"#000000\" stroke-opacity=\"1\" stroke-width=\"3.2\"/>\n",
       "<circle clip-path=\"url(#clip292)\" cx=\"783.386\" cy=\"1320.25\" r=\"14.4\" fill=\"#009af9\" fill-rule=\"evenodd\" fill-opacity=\"1\" stroke=\"#000000\" stroke-opacity=\"1\" stroke-width=\"3.2\"/>\n",
       "<circle clip-path=\"url(#clip292)\" cx=\"792.749\" cy=\"1277.27\" r=\"14.4\" fill=\"#009af9\" fill-rule=\"evenodd\" fill-opacity=\"1\" stroke=\"#000000\" stroke-opacity=\"1\" stroke-width=\"3.2\"/>\n",
       "<circle clip-path=\"url(#clip292)\" cx=\"802.113\" cy=\"1123.23\" r=\"14.4\" fill=\"#009af9\" fill-rule=\"evenodd\" fill-opacity=\"1\" stroke=\"#000000\" stroke-opacity=\"1\" stroke-width=\"3.2\"/>\n",
       "<circle clip-path=\"url(#clip292)\" cx=\"811.477\" cy=\"1248.8\" r=\"14.4\" fill=\"#009af9\" fill-rule=\"evenodd\" fill-opacity=\"1\" stroke=\"#000000\" stroke-opacity=\"1\" stroke-width=\"3.2\"/>\n",
       "<circle clip-path=\"url(#clip292)\" cx=\"820.841\" cy=\"1285.86\" r=\"14.4\" fill=\"#009af9\" fill-rule=\"evenodd\" fill-opacity=\"1\" stroke=\"#000000\" stroke-opacity=\"1\" stroke-width=\"3.2\"/>\n",
       "<circle clip-path=\"url(#clip292)\" cx=\"830.205\" cy=\"1299.07\" r=\"14.4\" fill=\"#009af9\" fill-rule=\"evenodd\" fill-opacity=\"1\" stroke=\"#000000\" stroke-opacity=\"1\" stroke-width=\"3.2\"/>\n",
       "<circle clip-path=\"url(#clip292)\" cx=\"839.568\" cy=\"1281\" r=\"14.4\" fill=\"#009af9\" fill-rule=\"evenodd\" fill-opacity=\"1\" stroke=\"#000000\" stroke-opacity=\"1\" stroke-width=\"3.2\"/>\n",
       "<circle clip-path=\"url(#clip292)\" cx=\"848.932\" cy=\"1331.51\" r=\"14.4\" fill=\"#009af9\" fill-rule=\"evenodd\" fill-opacity=\"1\" stroke=\"#000000\" stroke-opacity=\"1\" stroke-width=\"3.2\"/>\n",
       "<circle clip-path=\"url(#clip292)\" cx=\"858.296\" cy=\"1280.4\" r=\"14.4\" fill=\"#009af9\" fill-rule=\"evenodd\" fill-opacity=\"1\" stroke=\"#000000\" stroke-opacity=\"1\" stroke-width=\"3.2\"/>\n",
       "<circle clip-path=\"url(#clip292)\" cx=\"867.66\" cy=\"1314.03\" r=\"14.4\" fill=\"#009af9\" fill-rule=\"evenodd\" fill-opacity=\"1\" stroke=\"#000000\" stroke-opacity=\"1\" stroke-width=\"3.2\"/>\n",
       "<circle clip-path=\"url(#clip292)\" cx=\"877.023\" cy=\"1310.13\" r=\"14.4\" fill=\"#009af9\" fill-rule=\"evenodd\" fill-opacity=\"1\" stroke=\"#000000\" stroke-opacity=\"1\" stroke-width=\"3.2\"/>\n",
       "<circle clip-path=\"url(#clip292)\" cx=\"886.387\" cy=\"1382.6\" r=\"14.4\" fill=\"#009af9\" fill-rule=\"evenodd\" fill-opacity=\"1\" stroke=\"#000000\" stroke-opacity=\"1\" stroke-width=\"3.2\"/>\n",
       "<circle clip-path=\"url(#clip292)\" cx=\"895.751\" cy=\"1403.06\" r=\"14.4\" fill=\"#009af9\" fill-rule=\"evenodd\" fill-opacity=\"1\" stroke=\"#000000\" stroke-opacity=\"1\" stroke-width=\"3.2\"/>\n",
       "<circle clip-path=\"url(#clip292)\" cx=\"905.115\" cy=\"1254.32\" r=\"14.4\" fill=\"#009af9\" fill-rule=\"evenodd\" fill-opacity=\"1\" stroke=\"#000000\" stroke-opacity=\"1\" stroke-width=\"3.2\"/>\n",
       "<circle clip-path=\"url(#clip292)\" cx=\"914.479\" cy=\"1303.46\" r=\"14.4\" fill=\"#009af9\" fill-rule=\"evenodd\" fill-opacity=\"1\" stroke=\"#000000\" stroke-opacity=\"1\" stroke-width=\"3.2\"/>\n",
       "<circle clip-path=\"url(#clip292)\" cx=\"923.842\" cy=\"1263.93\" r=\"14.4\" fill=\"#009af9\" fill-rule=\"evenodd\" fill-opacity=\"1\" stroke=\"#000000\" stroke-opacity=\"1\" stroke-width=\"3.2\"/>\n",
       "<circle clip-path=\"url(#clip292)\" cx=\"933.206\" cy=\"1353.28\" r=\"14.4\" fill=\"#009af9\" fill-rule=\"evenodd\" fill-opacity=\"1\" stroke=\"#000000\" stroke-opacity=\"1\" stroke-width=\"3.2\"/>\n",
       "<circle clip-path=\"url(#clip292)\" cx=\"942.57\" cy=\"1288.74\" r=\"14.4\" fill=\"#009af9\" fill-rule=\"evenodd\" fill-opacity=\"1\" stroke=\"#000000\" stroke-opacity=\"1\" stroke-width=\"3.2\"/>\n",
       "<circle clip-path=\"url(#clip292)\" cx=\"951.934\" cy=\"1411.96\" r=\"14.4\" fill=\"#009af9\" fill-rule=\"evenodd\" fill-opacity=\"1\" stroke=\"#000000\" stroke-opacity=\"1\" stroke-width=\"3.2\"/>\n",
       "<circle clip-path=\"url(#clip292)\" cx=\"961.298\" cy=\"1333.52\" r=\"14.4\" fill=\"#009af9\" fill-rule=\"evenodd\" fill-opacity=\"1\" stroke=\"#000000\" stroke-opacity=\"1\" stroke-width=\"3.2\"/>\n",
       "<circle clip-path=\"url(#clip292)\" cx=\"970.661\" cy=\"1291.66\" r=\"14.4\" fill=\"#009af9\" fill-rule=\"evenodd\" fill-opacity=\"1\" stroke=\"#000000\" stroke-opacity=\"1\" stroke-width=\"3.2\"/>\n",
       "<circle clip-path=\"url(#clip292)\" cx=\"980.025\" cy=\"1267.42\" r=\"14.4\" fill=\"#009af9\" fill-rule=\"evenodd\" fill-opacity=\"1\" stroke=\"#000000\" stroke-opacity=\"1\" stroke-width=\"3.2\"/>\n",
       "<circle clip-path=\"url(#clip292)\" cx=\"989.389\" cy=\"1368.74\" r=\"14.4\" fill=\"#009af9\" fill-rule=\"evenodd\" fill-opacity=\"1\" stroke=\"#000000\" stroke-opacity=\"1\" stroke-width=\"3.2\"/>\n",
       "<circle clip-path=\"url(#clip292)\" cx=\"998.753\" cy=\"1281.43\" r=\"14.4\" fill=\"#009af9\" fill-rule=\"evenodd\" fill-opacity=\"1\" stroke=\"#000000\" stroke-opacity=\"1\" stroke-width=\"3.2\"/>\n",
       "<circle clip-path=\"url(#clip292)\" cx=\"1008.12\" cy=\"1265.24\" r=\"14.4\" fill=\"#009af9\" fill-rule=\"evenodd\" fill-opacity=\"1\" stroke=\"#000000\" stroke-opacity=\"1\" stroke-width=\"3.2\"/>\n",
       "<circle clip-path=\"url(#clip292)\" cx=\"1017.48\" cy=\"1299.46\" r=\"14.4\" fill=\"#009af9\" fill-rule=\"evenodd\" fill-opacity=\"1\" stroke=\"#000000\" stroke-opacity=\"1\" stroke-width=\"3.2\"/>\n",
       "<circle clip-path=\"url(#clip292)\" cx=\"1026.84\" cy=\"1276.56\" r=\"14.4\" fill=\"#009af9\" fill-rule=\"evenodd\" fill-opacity=\"1\" stroke=\"#000000\" stroke-opacity=\"1\" stroke-width=\"3.2\"/>\n",
       "<circle clip-path=\"url(#clip292)\" cx=\"1036.21\" cy=\"1288.14\" r=\"14.4\" fill=\"#009af9\" fill-rule=\"evenodd\" fill-opacity=\"1\" stroke=\"#000000\" stroke-opacity=\"1\" stroke-width=\"3.2\"/>\n",
       "<circle clip-path=\"url(#clip292)\" cx=\"1045.57\" cy=\"1314.78\" r=\"14.4\" fill=\"#009af9\" fill-rule=\"evenodd\" fill-opacity=\"1\" stroke=\"#000000\" stroke-opacity=\"1\" stroke-width=\"3.2\"/>\n",
       "<circle clip-path=\"url(#clip292)\" cx=\"1054.94\" cy=\"1436.44\" r=\"14.4\" fill=\"#009af9\" fill-rule=\"evenodd\" fill-opacity=\"1\" stroke=\"#000000\" stroke-opacity=\"1\" stroke-width=\"3.2\"/>\n",
       "<circle clip-path=\"url(#clip292)\" cx=\"1064.3\" cy=\"1325.66\" r=\"14.4\" fill=\"#009af9\" fill-rule=\"evenodd\" fill-opacity=\"1\" stroke=\"#000000\" stroke-opacity=\"1\" stroke-width=\"3.2\"/>\n",
       "<circle clip-path=\"url(#clip292)\" cx=\"1073.66\" cy=\"1301.81\" r=\"14.4\" fill=\"#009af9\" fill-rule=\"evenodd\" fill-opacity=\"1\" stroke=\"#000000\" stroke-opacity=\"1\" stroke-width=\"3.2\"/>\n",
       "<circle clip-path=\"url(#clip292)\" cx=\"1083.03\" cy=\"1387.51\" r=\"14.4\" fill=\"#009af9\" fill-rule=\"evenodd\" fill-opacity=\"1\" stroke=\"#000000\" stroke-opacity=\"1\" stroke-width=\"3.2\"/>\n",
       "<circle clip-path=\"url(#clip292)\" cx=\"1092.39\" cy=\"1396.71\" r=\"14.4\" fill=\"#009af9\" fill-rule=\"evenodd\" fill-opacity=\"1\" stroke=\"#000000\" stroke-opacity=\"1\" stroke-width=\"3.2\"/>\n",
       "<circle clip-path=\"url(#clip292)\" cx=\"1101.75\" cy=\"1282.69\" r=\"14.4\" fill=\"#009af9\" fill-rule=\"evenodd\" fill-opacity=\"1\" stroke=\"#000000\" stroke-opacity=\"1\" stroke-width=\"3.2\"/>\n",
       "<circle clip-path=\"url(#clip292)\" cx=\"1111.12\" cy=\"1381.43\" r=\"14.4\" fill=\"#009af9\" fill-rule=\"evenodd\" fill-opacity=\"1\" stroke=\"#000000\" stroke-opacity=\"1\" stroke-width=\"3.2\"/>\n",
       "<circle clip-path=\"url(#clip292)\" cx=\"1120.48\" cy=\"1293.37\" r=\"14.4\" fill=\"#009af9\" fill-rule=\"evenodd\" fill-opacity=\"1\" stroke=\"#000000\" stroke-opacity=\"1\" stroke-width=\"3.2\"/>\n",
       "<circle clip-path=\"url(#clip292)\" cx=\"1129.85\" cy=\"1327.09\" r=\"14.4\" fill=\"#009af9\" fill-rule=\"evenodd\" fill-opacity=\"1\" stroke=\"#000000\" stroke-opacity=\"1\" stroke-width=\"3.2\"/>\n",
       "<circle clip-path=\"url(#clip292)\" cx=\"1139.21\" cy=\"1404.81\" r=\"14.4\" fill=\"#009af9\" fill-rule=\"evenodd\" fill-opacity=\"1\" stroke=\"#000000\" stroke-opacity=\"1\" stroke-width=\"3.2\"/>\n",
       "<circle clip-path=\"url(#clip292)\" cx=\"1148.57\" cy=\"1367.79\" r=\"14.4\" fill=\"#009af9\" fill-rule=\"evenodd\" fill-opacity=\"1\" stroke=\"#000000\" stroke-opacity=\"1\" stroke-width=\"3.2\"/>\n",
       "<circle clip-path=\"url(#clip292)\" cx=\"1157.94\" cy=\"1253.3\" r=\"14.4\" fill=\"#009af9\" fill-rule=\"evenodd\" fill-opacity=\"1\" stroke=\"#000000\" stroke-opacity=\"1\" stroke-width=\"3.2\"/>\n",
       "<circle clip-path=\"url(#clip292)\" cx=\"1167.3\" cy=\"1445.72\" r=\"14.4\" fill=\"#009af9\" fill-rule=\"evenodd\" fill-opacity=\"1\" stroke=\"#000000\" stroke-opacity=\"1\" stroke-width=\"3.2\"/>\n",
       "<circle clip-path=\"url(#clip292)\" cx=\"1176.66\" cy=\"1319.57\" r=\"14.4\" fill=\"#009af9\" fill-rule=\"evenodd\" fill-opacity=\"1\" stroke=\"#000000\" stroke-opacity=\"1\" stroke-width=\"3.2\"/>\n",
       "<circle clip-path=\"url(#clip292)\" cx=\"1186.03\" cy=\"1386.08\" r=\"14.4\" fill=\"#009af9\" fill-rule=\"evenodd\" fill-opacity=\"1\" stroke=\"#000000\" stroke-opacity=\"1\" stroke-width=\"3.2\"/>\n",
       "<circle clip-path=\"url(#clip292)\" cx=\"1195.39\" cy=\"1285.31\" r=\"14.4\" fill=\"#009af9\" fill-rule=\"evenodd\" fill-opacity=\"1\" stroke=\"#000000\" stroke-opacity=\"1\" stroke-width=\"3.2\"/>\n",
       "<circle clip-path=\"url(#clip292)\" cx=\"1204.76\" cy=\"1284.9\" r=\"14.4\" fill=\"#009af9\" fill-rule=\"evenodd\" fill-opacity=\"1\" stroke=\"#000000\" stroke-opacity=\"1\" stroke-width=\"3.2\"/>\n",
       "<circle clip-path=\"url(#clip292)\" cx=\"1214.12\" cy=\"1401.15\" r=\"14.4\" fill=\"#009af9\" fill-rule=\"evenodd\" fill-opacity=\"1\" stroke=\"#000000\" stroke-opacity=\"1\" stroke-width=\"3.2\"/>\n",
       "<circle clip-path=\"url(#clip292)\" cx=\"1223.48\" cy=\"1267.82\" r=\"14.4\" fill=\"#009af9\" fill-rule=\"evenodd\" fill-opacity=\"1\" stroke=\"#000000\" stroke-opacity=\"1\" stroke-width=\"3.2\"/>\n",
       "<circle clip-path=\"url(#clip292)\" cx=\"1232.85\" cy=\"1333.03\" r=\"14.4\" fill=\"#009af9\" fill-rule=\"evenodd\" fill-opacity=\"1\" stroke=\"#000000\" stroke-opacity=\"1\" stroke-width=\"3.2\"/>\n",
       "<circle clip-path=\"url(#clip292)\" cx=\"1242.21\" cy=\"1253.93\" r=\"14.4\" fill=\"#009af9\" fill-rule=\"evenodd\" fill-opacity=\"1\" stroke=\"#000000\" stroke-opacity=\"1\" stroke-width=\"3.2\"/>\n",
       "<circle clip-path=\"url(#clip292)\" cx=\"1251.57\" cy=\"1273.62\" r=\"14.4\" fill=\"#009af9\" fill-rule=\"evenodd\" fill-opacity=\"1\" stroke=\"#000000\" stroke-opacity=\"1\" stroke-width=\"3.2\"/>\n",
       "<circle clip-path=\"url(#clip292)\" cx=\"1260.94\" cy=\"1338.66\" r=\"14.4\" fill=\"#009af9\" fill-rule=\"evenodd\" fill-opacity=\"1\" stroke=\"#000000\" stroke-opacity=\"1\" stroke-width=\"3.2\"/>\n",
       "<circle clip-path=\"url(#clip292)\" cx=\"1270.3\" cy=\"1370.52\" r=\"14.4\" fill=\"#009af9\" fill-rule=\"evenodd\" fill-opacity=\"1\" stroke=\"#000000\" stroke-opacity=\"1\" stroke-width=\"3.2\"/>\n",
       "<circle clip-path=\"url(#clip292)\" cx=\"1279.67\" cy=\"1321.92\" r=\"14.4\" fill=\"#009af9\" fill-rule=\"evenodd\" fill-opacity=\"1\" stroke=\"#000000\" stroke-opacity=\"1\" stroke-width=\"3.2\"/>\n",
       "<circle clip-path=\"url(#clip292)\" cx=\"1289.03\" cy=\"1228.84\" r=\"14.4\" fill=\"#009af9\" fill-rule=\"evenodd\" fill-opacity=\"1\" stroke=\"#000000\" stroke-opacity=\"1\" stroke-width=\"3.2\"/>\n",
       "<circle clip-path=\"url(#clip292)\" cx=\"1298.39\" cy=\"1342.69\" r=\"14.4\" fill=\"#009af9\" fill-rule=\"evenodd\" fill-opacity=\"1\" stroke=\"#000000\" stroke-opacity=\"1\" stroke-width=\"3.2\"/>\n",
       "<circle clip-path=\"url(#clip292)\" cx=\"1307.76\" cy=\"1273.4\" r=\"14.4\" fill=\"#009af9\" fill-rule=\"evenodd\" fill-opacity=\"1\" stroke=\"#000000\" stroke-opacity=\"1\" stroke-width=\"3.2\"/>\n",
       "<circle clip-path=\"url(#clip292)\" cx=\"1317.12\" cy=\"1325.46\" r=\"14.4\" fill=\"#009af9\" fill-rule=\"evenodd\" fill-opacity=\"1\" stroke=\"#000000\" stroke-opacity=\"1\" stroke-width=\"3.2\"/>\n",
       "<circle clip-path=\"url(#clip292)\" cx=\"1326.49\" cy=\"1225.45\" r=\"14.4\" fill=\"#009af9\" fill-rule=\"evenodd\" fill-opacity=\"1\" stroke=\"#000000\" stroke-opacity=\"1\" stroke-width=\"3.2\"/>\n",
       "<circle clip-path=\"url(#clip292)\" cx=\"1335.85\" cy=\"1316.53\" r=\"14.4\" fill=\"#009af9\" fill-rule=\"evenodd\" fill-opacity=\"1\" stroke=\"#000000\" stroke-opacity=\"1\" stroke-width=\"3.2\"/>\n",
       "<circle clip-path=\"url(#clip292)\" cx=\"1345.21\" cy=\"1285.32\" r=\"14.4\" fill=\"#009af9\" fill-rule=\"evenodd\" fill-opacity=\"1\" stroke=\"#000000\" stroke-opacity=\"1\" stroke-width=\"3.2\"/>\n",
       "<circle clip-path=\"url(#clip292)\" cx=\"1354.58\" cy=\"1194.36\" r=\"14.4\" fill=\"#009af9\" fill-rule=\"evenodd\" fill-opacity=\"1\" stroke=\"#000000\" stroke-opacity=\"1\" stroke-width=\"3.2\"/>\n",
       "<circle clip-path=\"url(#clip292)\" cx=\"1363.94\" cy=\"1295.08\" r=\"14.4\" fill=\"#009af9\" fill-rule=\"evenodd\" fill-opacity=\"1\" stroke=\"#000000\" stroke-opacity=\"1\" stroke-width=\"3.2\"/>\n",
       "<circle clip-path=\"url(#clip292)\" cx=\"1373.3\" cy=\"1180.69\" r=\"14.4\" fill=\"#009af9\" fill-rule=\"evenodd\" fill-opacity=\"1\" stroke=\"#000000\" stroke-opacity=\"1\" stroke-width=\"3.2\"/>\n",
       "<circle clip-path=\"url(#clip292)\" cx=\"1382.67\" cy=\"1350.64\" r=\"14.4\" fill=\"#009af9\" fill-rule=\"evenodd\" fill-opacity=\"1\" stroke=\"#000000\" stroke-opacity=\"1\" stroke-width=\"3.2\"/>\n",
       "<circle clip-path=\"url(#clip292)\" cx=\"1392.03\" cy=\"1287.66\" r=\"14.4\" fill=\"#009af9\" fill-rule=\"evenodd\" fill-opacity=\"1\" stroke=\"#000000\" stroke-opacity=\"1\" stroke-width=\"3.2\"/>\n",
       "<circle clip-path=\"url(#clip292)\" cx=\"1401.4\" cy=\"1229.3\" r=\"14.4\" fill=\"#009af9\" fill-rule=\"evenodd\" fill-opacity=\"1\" stroke=\"#000000\" stroke-opacity=\"1\" stroke-width=\"3.2\"/>\n",
       "<circle clip-path=\"url(#clip292)\" cx=\"1410.76\" cy=\"1155.67\" r=\"14.4\" fill=\"#009af9\" fill-rule=\"evenodd\" fill-opacity=\"1\" stroke=\"#000000\" stroke-opacity=\"1\" stroke-width=\"3.2\"/>\n",
       "<circle clip-path=\"url(#clip292)\" cx=\"1420.12\" cy=\"1174.32\" r=\"14.4\" fill=\"#009af9\" fill-rule=\"evenodd\" fill-opacity=\"1\" stroke=\"#000000\" stroke-opacity=\"1\" stroke-width=\"3.2\"/>\n",
       "<circle clip-path=\"url(#clip292)\" cx=\"1429.49\" cy=\"1165.49\" r=\"14.4\" fill=\"#009af9\" fill-rule=\"evenodd\" fill-opacity=\"1\" stroke=\"#000000\" stroke-opacity=\"1\" stroke-width=\"3.2\"/>\n",
       "<circle clip-path=\"url(#clip292)\" cx=\"1438.85\" cy=\"1137.38\" r=\"14.4\" fill=\"#009af9\" fill-rule=\"evenodd\" fill-opacity=\"1\" stroke=\"#000000\" stroke-opacity=\"1\" stroke-width=\"3.2\"/>\n",
       "<circle clip-path=\"url(#clip292)\" cx=\"1448.21\" cy=\"1165.43\" r=\"14.4\" fill=\"#009af9\" fill-rule=\"evenodd\" fill-opacity=\"1\" stroke=\"#000000\" stroke-opacity=\"1\" stroke-width=\"3.2\"/>\n",
       "<circle clip-path=\"url(#clip292)\" cx=\"1457.58\" cy=\"1302.46\" r=\"14.4\" fill=\"#009af9\" fill-rule=\"evenodd\" fill-opacity=\"1\" stroke=\"#000000\" stroke-opacity=\"1\" stroke-width=\"3.2\"/>\n",
       "<circle clip-path=\"url(#clip292)\" cx=\"1466.94\" cy=\"1276.95\" r=\"14.4\" fill=\"#009af9\" fill-rule=\"evenodd\" fill-opacity=\"1\" stroke=\"#000000\" stroke-opacity=\"1\" stroke-width=\"3.2\"/>\n",
       "<circle clip-path=\"url(#clip292)\" cx=\"1476.31\" cy=\"1184.43\" r=\"14.4\" fill=\"#009af9\" fill-rule=\"evenodd\" fill-opacity=\"1\" stroke=\"#000000\" stroke-opacity=\"1\" stroke-width=\"3.2\"/>\n",
       "<circle clip-path=\"url(#clip292)\" cx=\"1485.67\" cy=\"1090.4\" r=\"14.4\" fill=\"#009af9\" fill-rule=\"evenodd\" fill-opacity=\"1\" stroke=\"#000000\" stroke-opacity=\"1\" stroke-width=\"3.2\"/>\n",
       "<circle clip-path=\"url(#clip292)\" cx=\"1495.03\" cy=\"1101.97\" r=\"14.4\" fill=\"#009af9\" fill-rule=\"evenodd\" fill-opacity=\"1\" stroke=\"#000000\" stroke-opacity=\"1\" stroke-width=\"3.2\"/>\n",
       "<circle clip-path=\"url(#clip292)\" cx=\"1504.4\" cy=\"1162.91\" r=\"14.4\" fill=\"#009af9\" fill-rule=\"evenodd\" fill-opacity=\"1\" stroke=\"#000000\" stroke-opacity=\"1\" stroke-width=\"3.2\"/>\n",
       "<circle clip-path=\"url(#clip292)\" cx=\"1513.76\" cy=\"1031.13\" r=\"14.4\" fill=\"#009af9\" fill-rule=\"evenodd\" fill-opacity=\"1\" stroke=\"#000000\" stroke-opacity=\"1\" stroke-width=\"3.2\"/>\n",
       "<circle clip-path=\"url(#clip292)\" cx=\"1523.12\" cy=\"1215.68\" r=\"14.4\" fill=\"#009af9\" fill-rule=\"evenodd\" fill-opacity=\"1\" stroke=\"#000000\" stroke-opacity=\"1\" stroke-width=\"3.2\"/>\n",
       "<circle clip-path=\"url(#clip292)\" cx=\"1532.49\" cy=\"1168.02\" r=\"14.4\" fill=\"#009af9\" fill-rule=\"evenodd\" fill-opacity=\"1\" stroke=\"#000000\" stroke-opacity=\"1\" stroke-width=\"3.2\"/>\n",
       "<circle clip-path=\"url(#clip292)\" cx=\"1541.85\" cy=\"1223.53\" r=\"14.4\" fill=\"#009af9\" fill-rule=\"evenodd\" fill-opacity=\"1\" stroke=\"#000000\" stroke-opacity=\"1\" stroke-width=\"3.2\"/>\n",
       "<circle clip-path=\"url(#clip292)\" cx=\"1551.22\" cy=\"1172.4\" r=\"14.4\" fill=\"#009af9\" fill-rule=\"evenodd\" fill-opacity=\"1\" stroke=\"#000000\" stroke-opacity=\"1\" stroke-width=\"3.2\"/>\n",
       "<circle clip-path=\"url(#clip292)\" cx=\"1560.58\" cy=\"1128.18\" r=\"14.4\" fill=\"#009af9\" fill-rule=\"evenodd\" fill-opacity=\"1\" stroke=\"#000000\" stroke-opacity=\"1\" stroke-width=\"3.2\"/>\n",
       "<circle clip-path=\"url(#clip292)\" cx=\"1569.94\" cy=\"1048.25\" r=\"14.4\" fill=\"#009af9\" fill-rule=\"evenodd\" fill-opacity=\"1\" stroke=\"#000000\" stroke-opacity=\"1\" stroke-width=\"3.2\"/>\n",
       "<circle clip-path=\"url(#clip292)\" cx=\"1579.31\" cy=\"1073.71\" r=\"14.4\" fill=\"#009af9\" fill-rule=\"evenodd\" fill-opacity=\"1\" stroke=\"#000000\" stroke-opacity=\"1\" stroke-width=\"3.2\"/>\n",
       "<circle clip-path=\"url(#clip292)\" cx=\"1588.67\" cy=\"1059.43\" r=\"14.4\" fill=\"#009af9\" fill-rule=\"evenodd\" fill-opacity=\"1\" stroke=\"#000000\" stroke-opacity=\"1\" stroke-width=\"3.2\"/>\n",
       "<circle clip-path=\"url(#clip292)\" cx=\"1598.03\" cy=\"1133.82\" r=\"14.4\" fill=\"#009af9\" fill-rule=\"evenodd\" fill-opacity=\"1\" stroke=\"#000000\" stroke-opacity=\"1\" stroke-width=\"3.2\"/>\n",
       "<circle clip-path=\"url(#clip292)\" cx=\"1607.4\" cy=\"1000.44\" r=\"14.4\" fill=\"#009af9\" fill-rule=\"evenodd\" fill-opacity=\"1\" stroke=\"#000000\" stroke-opacity=\"1\" stroke-width=\"3.2\"/>\n",
       "<circle clip-path=\"url(#clip292)\" cx=\"1616.76\" cy=\"1063.77\" r=\"14.4\" fill=\"#009af9\" fill-rule=\"evenodd\" fill-opacity=\"1\" stroke=\"#000000\" stroke-opacity=\"1\" stroke-width=\"3.2\"/>\n",
       "<circle clip-path=\"url(#clip292)\" cx=\"1626.13\" cy=\"1074\" r=\"14.4\" fill=\"#009af9\" fill-rule=\"evenodd\" fill-opacity=\"1\" stroke=\"#000000\" stroke-opacity=\"1\" stroke-width=\"3.2\"/>\n",
       "<circle clip-path=\"url(#clip292)\" cx=\"1635.49\" cy=\"1178.65\" r=\"14.4\" fill=\"#009af9\" fill-rule=\"evenodd\" fill-opacity=\"1\" stroke=\"#000000\" stroke-opacity=\"1\" stroke-width=\"3.2\"/>\n",
       "<circle clip-path=\"url(#clip292)\" cx=\"1644.85\" cy=\"1133.07\" r=\"14.4\" fill=\"#009af9\" fill-rule=\"evenodd\" fill-opacity=\"1\" stroke=\"#000000\" stroke-opacity=\"1\" stroke-width=\"3.2\"/>\n",
       "<circle clip-path=\"url(#clip292)\" cx=\"1654.22\" cy=\"1086.59\" r=\"14.4\" fill=\"#009af9\" fill-rule=\"evenodd\" fill-opacity=\"1\" stroke=\"#000000\" stroke-opacity=\"1\" stroke-width=\"3.2\"/>\n",
       "<circle clip-path=\"url(#clip292)\" cx=\"1663.58\" cy=\"1035.25\" r=\"14.4\" fill=\"#009af9\" fill-rule=\"evenodd\" fill-opacity=\"1\" stroke=\"#000000\" stroke-opacity=\"1\" stroke-width=\"3.2\"/>\n",
       "<circle clip-path=\"url(#clip292)\" cx=\"1672.95\" cy=\"950.146\" r=\"14.4\" fill=\"#009af9\" fill-rule=\"evenodd\" fill-opacity=\"1\" stroke=\"#000000\" stroke-opacity=\"1\" stroke-width=\"3.2\"/>\n",
       "<circle clip-path=\"url(#clip292)\" cx=\"1682.31\" cy=\"1000.25\" r=\"14.4\" fill=\"#009af9\" fill-rule=\"evenodd\" fill-opacity=\"1\" stroke=\"#000000\" stroke-opacity=\"1\" stroke-width=\"3.2\"/>\n",
       "<circle clip-path=\"url(#clip292)\" cx=\"1691.67\" cy=\"1040.32\" r=\"14.4\" fill=\"#009af9\" fill-rule=\"evenodd\" fill-opacity=\"1\" stroke=\"#000000\" stroke-opacity=\"1\" stroke-width=\"3.2\"/>\n",
       "<circle clip-path=\"url(#clip292)\" cx=\"1701.04\" cy=\"1007.03\" r=\"14.4\" fill=\"#009af9\" fill-rule=\"evenodd\" fill-opacity=\"1\" stroke=\"#000000\" stroke-opacity=\"1\" stroke-width=\"3.2\"/>\n",
       "<circle clip-path=\"url(#clip292)\" cx=\"1710.4\" cy=\"1013.34\" r=\"14.4\" fill=\"#009af9\" fill-rule=\"evenodd\" fill-opacity=\"1\" stroke=\"#000000\" stroke-opacity=\"1\" stroke-width=\"3.2\"/>\n",
       "<circle clip-path=\"url(#clip292)\" cx=\"1719.76\" cy=\"1072.67\" r=\"14.4\" fill=\"#009af9\" fill-rule=\"evenodd\" fill-opacity=\"1\" stroke=\"#000000\" stroke-opacity=\"1\" stroke-width=\"3.2\"/>\n",
       "<circle clip-path=\"url(#clip292)\" cx=\"1729.13\" cy=\"1032.57\" r=\"14.4\" fill=\"#009af9\" fill-rule=\"evenodd\" fill-opacity=\"1\" stroke=\"#000000\" stroke-opacity=\"1\" stroke-width=\"3.2\"/>\n",
       "<circle clip-path=\"url(#clip292)\" cx=\"1738.49\" cy=\"917.673\" r=\"14.4\" fill=\"#009af9\" fill-rule=\"evenodd\" fill-opacity=\"1\" stroke=\"#000000\" stroke-opacity=\"1\" stroke-width=\"3.2\"/>\n",
       "<circle clip-path=\"url(#clip292)\" cx=\"1747.86\" cy=\"870.026\" r=\"14.4\" fill=\"#009af9\" fill-rule=\"evenodd\" fill-opacity=\"1\" stroke=\"#000000\" stroke-opacity=\"1\" stroke-width=\"3.2\"/>\n",
       "<circle clip-path=\"url(#clip292)\" cx=\"1757.22\" cy=\"946.223\" r=\"14.4\" fill=\"#009af9\" fill-rule=\"evenodd\" fill-opacity=\"1\" stroke=\"#000000\" stroke-opacity=\"1\" stroke-width=\"3.2\"/>\n",
       "<circle clip-path=\"url(#clip292)\" cx=\"1766.58\" cy=\"950.089\" r=\"14.4\" fill=\"#009af9\" fill-rule=\"evenodd\" fill-opacity=\"1\" stroke=\"#000000\" stroke-opacity=\"1\" stroke-width=\"3.2\"/>\n",
       "<circle clip-path=\"url(#clip292)\" cx=\"1775.95\" cy=\"820.577\" r=\"14.4\" fill=\"#009af9\" fill-rule=\"evenodd\" fill-opacity=\"1\" stroke=\"#000000\" stroke-opacity=\"1\" stroke-width=\"3.2\"/>\n",
       "<circle clip-path=\"url(#clip292)\" cx=\"1785.31\" cy=\"888.652\" r=\"14.4\" fill=\"#009af9\" fill-rule=\"evenodd\" fill-opacity=\"1\" stroke=\"#000000\" stroke-opacity=\"1\" stroke-width=\"3.2\"/>\n",
       "<circle clip-path=\"url(#clip292)\" cx=\"1794.67\" cy=\"885.239\" r=\"14.4\" fill=\"#009af9\" fill-rule=\"evenodd\" fill-opacity=\"1\" stroke=\"#000000\" stroke-opacity=\"1\" stroke-width=\"3.2\"/>\n",
       "<circle clip-path=\"url(#clip292)\" cx=\"1804.04\" cy=\"963.687\" r=\"14.4\" fill=\"#009af9\" fill-rule=\"evenodd\" fill-opacity=\"1\" stroke=\"#000000\" stroke-opacity=\"1\" stroke-width=\"3.2\"/>\n",
       "<circle clip-path=\"url(#clip292)\" cx=\"1813.4\" cy=\"812.859\" r=\"14.4\" fill=\"#009af9\" fill-rule=\"evenodd\" fill-opacity=\"1\" stroke=\"#000000\" stroke-opacity=\"1\" stroke-width=\"3.2\"/>\n",
       "<circle clip-path=\"url(#clip292)\" cx=\"1822.77\" cy=\"975.608\" r=\"14.4\" fill=\"#009af9\" fill-rule=\"evenodd\" fill-opacity=\"1\" stroke=\"#000000\" stroke-opacity=\"1\" stroke-width=\"3.2\"/>\n",
       "<circle clip-path=\"url(#clip292)\" cx=\"1832.13\" cy=\"891.774\" r=\"14.4\" fill=\"#009af9\" fill-rule=\"evenodd\" fill-opacity=\"1\" stroke=\"#000000\" stroke-opacity=\"1\" stroke-width=\"3.2\"/>\n",
       "<circle clip-path=\"url(#clip292)\" cx=\"1841.49\" cy=\"891.542\" r=\"14.4\" fill=\"#009af9\" fill-rule=\"evenodd\" fill-opacity=\"1\" stroke=\"#000000\" stroke-opacity=\"1\" stroke-width=\"3.2\"/>\n",
       "<circle clip-path=\"url(#clip292)\" cx=\"1850.86\" cy=\"791.343\" r=\"14.4\" fill=\"#009af9\" fill-rule=\"evenodd\" fill-opacity=\"1\" stroke=\"#000000\" stroke-opacity=\"1\" stroke-width=\"3.2\"/>\n",
       "<circle clip-path=\"url(#clip292)\" cx=\"1860.22\" cy=\"790.62\" r=\"14.4\" fill=\"#009af9\" fill-rule=\"evenodd\" fill-opacity=\"1\" stroke=\"#000000\" stroke-opacity=\"1\" stroke-width=\"3.2\"/>\n",
       "<circle clip-path=\"url(#clip292)\" cx=\"1869.58\" cy=\"895.137\" r=\"14.4\" fill=\"#009af9\" fill-rule=\"evenodd\" fill-opacity=\"1\" stroke=\"#000000\" stroke-opacity=\"1\" stroke-width=\"3.2\"/>\n",
       "<circle clip-path=\"url(#clip292)\" cx=\"1878.95\" cy=\"785.165\" r=\"14.4\" fill=\"#009af9\" fill-rule=\"evenodd\" fill-opacity=\"1\" stroke=\"#000000\" stroke-opacity=\"1\" stroke-width=\"3.2\"/>\n",
       "<circle clip-path=\"url(#clip292)\" cx=\"1888.31\" cy=\"766.254\" r=\"14.4\" fill=\"#009af9\" fill-rule=\"evenodd\" fill-opacity=\"1\" stroke=\"#000000\" stroke-opacity=\"1\" stroke-width=\"3.2\"/>\n",
       "<circle clip-path=\"url(#clip292)\" cx=\"1897.68\" cy=\"783.722\" r=\"14.4\" fill=\"#009af9\" fill-rule=\"evenodd\" fill-opacity=\"1\" stroke=\"#000000\" stroke-opacity=\"1\" stroke-width=\"3.2\"/>\n",
       "<circle clip-path=\"url(#clip292)\" cx=\"1907.04\" cy=\"864.818\" r=\"14.4\" fill=\"#009af9\" fill-rule=\"evenodd\" fill-opacity=\"1\" stroke=\"#000000\" stroke-opacity=\"1\" stroke-width=\"3.2\"/>\n",
       "<circle clip-path=\"url(#clip292)\" cx=\"1916.4\" cy=\"690.98\" r=\"14.4\" fill=\"#009af9\" fill-rule=\"evenodd\" fill-opacity=\"1\" stroke=\"#000000\" stroke-opacity=\"1\" stroke-width=\"3.2\"/>\n",
       "<circle clip-path=\"url(#clip292)\" cx=\"1925.77\" cy=\"775.651\" r=\"14.4\" fill=\"#009af9\" fill-rule=\"evenodd\" fill-opacity=\"1\" stroke=\"#000000\" stroke-opacity=\"1\" stroke-width=\"3.2\"/>\n",
       "<circle clip-path=\"url(#clip292)\" cx=\"1935.13\" cy=\"825.889\" r=\"14.4\" fill=\"#009af9\" fill-rule=\"evenodd\" fill-opacity=\"1\" stroke=\"#000000\" stroke-opacity=\"1\" stroke-width=\"3.2\"/>\n",
       "<circle clip-path=\"url(#clip292)\" cx=\"1944.49\" cy=\"786.018\" r=\"14.4\" fill=\"#009af9\" fill-rule=\"evenodd\" fill-opacity=\"1\" stroke=\"#000000\" stroke-opacity=\"1\" stroke-width=\"3.2\"/>\n",
       "<circle clip-path=\"url(#clip292)\" cx=\"1953.86\" cy=\"782.659\" r=\"14.4\" fill=\"#009af9\" fill-rule=\"evenodd\" fill-opacity=\"1\" stroke=\"#000000\" stroke-opacity=\"1\" stroke-width=\"3.2\"/>\n",
       "<circle clip-path=\"url(#clip292)\" cx=\"1963.22\" cy=\"774.573\" r=\"14.4\" fill=\"#009af9\" fill-rule=\"evenodd\" fill-opacity=\"1\" stroke=\"#000000\" stroke-opacity=\"1\" stroke-width=\"3.2\"/>\n",
       "<circle clip-path=\"url(#clip292)\" cx=\"1972.59\" cy=\"736.631\" r=\"14.4\" fill=\"#009af9\" fill-rule=\"evenodd\" fill-opacity=\"1\" stroke=\"#000000\" stroke-opacity=\"1\" stroke-width=\"3.2\"/>\n",
       "<circle clip-path=\"url(#clip292)\" cx=\"1981.95\" cy=\"650.679\" r=\"14.4\" fill=\"#009af9\" fill-rule=\"evenodd\" fill-opacity=\"1\" stroke=\"#000000\" stroke-opacity=\"1\" stroke-width=\"3.2\"/>\n",
       "<circle clip-path=\"url(#clip292)\" cx=\"1991.31\" cy=\"721.92\" r=\"14.4\" fill=\"#009af9\" fill-rule=\"evenodd\" fill-opacity=\"1\" stroke=\"#000000\" stroke-opacity=\"1\" stroke-width=\"3.2\"/>\n",
       "<circle clip-path=\"url(#clip292)\" cx=\"2000.68\" cy=\"645.615\" r=\"14.4\" fill=\"#009af9\" fill-rule=\"evenodd\" fill-opacity=\"1\" stroke=\"#000000\" stroke-opacity=\"1\" stroke-width=\"3.2\"/>\n",
       "<circle clip-path=\"url(#clip292)\" cx=\"2010.04\" cy=\"410.418\" r=\"14.4\" fill=\"#009af9\" fill-rule=\"evenodd\" fill-opacity=\"1\" stroke=\"#000000\" stroke-opacity=\"1\" stroke-width=\"3.2\"/>\n",
       "<circle clip-path=\"url(#clip292)\" cx=\"2019.41\" cy=\"624.316\" r=\"14.4\" fill=\"#009af9\" fill-rule=\"evenodd\" fill-opacity=\"1\" stroke=\"#000000\" stroke-opacity=\"1\" stroke-width=\"3.2\"/>\n",
       "<circle clip-path=\"url(#clip292)\" cx=\"2028.77\" cy=\"655.465\" r=\"14.4\" fill=\"#009af9\" fill-rule=\"evenodd\" fill-opacity=\"1\" stroke=\"#000000\" stroke-opacity=\"1\" stroke-width=\"3.2\"/>\n",
       "<circle clip-path=\"url(#clip292)\" cx=\"2038.13\" cy=\"412.795\" r=\"14.4\" fill=\"#009af9\" fill-rule=\"evenodd\" fill-opacity=\"1\" stroke=\"#000000\" stroke-opacity=\"1\" stroke-width=\"3.2\"/>\n",
       "<circle clip-path=\"url(#clip292)\" cx=\"2047.5\" cy=\"546.376\" r=\"14.4\" fill=\"#009af9\" fill-rule=\"evenodd\" fill-opacity=\"1\" stroke=\"#000000\" stroke-opacity=\"1\" stroke-width=\"3.2\"/>\n",
       "<circle clip-path=\"url(#clip292)\" cx=\"2056.86\" cy=\"594.405\" r=\"14.4\" fill=\"#009af9\" fill-rule=\"evenodd\" fill-opacity=\"1\" stroke=\"#000000\" stroke-opacity=\"1\" stroke-width=\"3.2\"/>\n",
       "<circle clip-path=\"url(#clip292)\" cx=\"2066.22\" cy=\"566.061\" r=\"14.4\" fill=\"#009af9\" fill-rule=\"evenodd\" fill-opacity=\"1\" stroke=\"#000000\" stroke-opacity=\"1\" stroke-width=\"3.2\"/>\n",
       "<circle clip-path=\"url(#clip292)\" cx=\"2075.59\" cy=\"471.582\" r=\"14.4\" fill=\"#009af9\" fill-rule=\"evenodd\" fill-opacity=\"1\" stroke=\"#000000\" stroke-opacity=\"1\" stroke-width=\"3.2\"/>\n",
       "<circle clip-path=\"url(#clip292)\" cx=\"2084.95\" cy=\"366.101\" r=\"14.4\" fill=\"#009af9\" fill-rule=\"evenodd\" fill-opacity=\"1\" stroke=\"#000000\" stroke-opacity=\"1\" stroke-width=\"3.2\"/>\n",
       "<circle clip-path=\"url(#clip292)\" cx=\"2094.32\" cy=\"512.013\" r=\"14.4\" fill=\"#009af9\" fill-rule=\"evenodd\" fill-opacity=\"1\" stroke=\"#000000\" stroke-opacity=\"1\" stroke-width=\"3.2\"/>\n",
       "<circle clip-path=\"url(#clip292)\" cx=\"2103.68\" cy=\"489.392\" r=\"14.4\" fill=\"#009af9\" fill-rule=\"evenodd\" fill-opacity=\"1\" stroke=\"#000000\" stroke-opacity=\"1\" stroke-width=\"3.2\"/>\n",
       "<circle clip-path=\"url(#clip292)\" cx=\"2113.04\" cy=\"430.137\" r=\"14.4\" fill=\"#009af9\" fill-rule=\"evenodd\" fill-opacity=\"1\" stroke=\"#000000\" stroke-opacity=\"1\" stroke-width=\"3.2\"/>\n",
       "<circle clip-path=\"url(#clip292)\" cx=\"2122.41\" cy=\"375.609\" r=\"14.4\" fill=\"#009af9\" fill-rule=\"evenodd\" fill-opacity=\"1\" stroke=\"#000000\" stroke-opacity=\"1\" stroke-width=\"3.2\"/>\n",
       "<circle clip-path=\"url(#clip292)\" cx=\"2131.77\" cy=\"532.292\" r=\"14.4\" fill=\"#009af9\" fill-rule=\"evenodd\" fill-opacity=\"1\" stroke=\"#000000\" stroke-opacity=\"1\" stroke-width=\"3.2\"/>\n",
       "<circle clip-path=\"url(#clip292)\" cx=\"2141.13\" cy=\"383.46\" r=\"14.4\" fill=\"#009af9\" fill-rule=\"evenodd\" fill-opacity=\"1\" stroke=\"#000000\" stroke-opacity=\"1\" stroke-width=\"3.2\"/>\n",
       "<circle clip-path=\"url(#clip292)\" cx=\"2150.5\" cy=\"287.492\" r=\"14.4\" fill=\"#009af9\" fill-rule=\"evenodd\" fill-opacity=\"1\" stroke=\"#000000\" stroke-opacity=\"1\" stroke-width=\"3.2\"/>\n",
       "<circle clip-path=\"url(#clip292)\" cx=\"2159.86\" cy=\"405.384\" r=\"14.4\" fill=\"#009af9\" fill-rule=\"evenodd\" fill-opacity=\"1\" stroke=\"#000000\" stroke-opacity=\"1\" stroke-width=\"3.2\"/>\n",
       "<circle clip-path=\"url(#clip292)\" cx=\"2169.23\" cy=\"375.215\" r=\"14.4\" fill=\"#009af9\" fill-rule=\"evenodd\" fill-opacity=\"1\" stroke=\"#000000\" stroke-opacity=\"1\" stroke-width=\"3.2\"/>\n",
       "<circle clip-path=\"url(#clip292)\" cx=\"2178.59\" cy=\"252.356\" r=\"14.4\" fill=\"#009af9\" fill-rule=\"evenodd\" fill-opacity=\"1\" stroke=\"#000000\" stroke-opacity=\"1\" stroke-width=\"3.2\"/>\n",
       "<circle clip-path=\"url(#clip292)\" cx=\"2187.95\" cy=\"263.719\" r=\"14.4\" fill=\"#009af9\" fill-rule=\"evenodd\" fill-opacity=\"1\" stroke=\"#000000\" stroke-opacity=\"1\" stroke-width=\"3.2\"/>\n",
       "<circle clip-path=\"url(#clip292)\" cx=\"2197.32\" cy=\"228.724\" r=\"14.4\" fill=\"#009af9\" fill-rule=\"evenodd\" fill-opacity=\"1\" stroke=\"#000000\" stroke-opacity=\"1\" stroke-width=\"3.2\"/>\n",
       "<circle clip-path=\"url(#clip292)\" cx=\"2206.68\" cy=\"234.99\" r=\"14.4\" fill=\"#009af9\" fill-rule=\"evenodd\" fill-opacity=\"1\" stroke=\"#000000\" stroke-opacity=\"1\" stroke-width=\"3.2\"/>\n",
       "<circle clip-path=\"url(#clip292)\" cx=\"2216.04\" cy=\"133.477\" r=\"14.4\" fill=\"#009af9\" fill-rule=\"evenodd\" fill-opacity=\"1\" stroke=\"#000000\" stroke-opacity=\"1\" stroke-width=\"3.2\"/>\n",
       "<circle clip-path=\"url(#clip292)\" cx=\"2225.41\" cy=\"192.887\" r=\"14.4\" fill=\"#009af9\" fill-rule=\"evenodd\" fill-opacity=\"1\" stroke=\"#000000\" stroke-opacity=\"1\" stroke-width=\"3.2\"/>\n",
       "<circle clip-path=\"url(#clip292)\" cx=\"2234.77\" cy=\"225.501\" r=\"14.4\" fill=\"#009af9\" fill-rule=\"evenodd\" fill-opacity=\"1\" stroke=\"#000000\" stroke-opacity=\"1\" stroke-width=\"3.2\"/>\n",
       "<circle clip-path=\"url(#clip292)\" cx=\"2244.14\" cy=\"223.705\" r=\"14.4\" fill=\"#009af9\" fill-rule=\"evenodd\" fill-opacity=\"1\" stroke=\"#000000\" stroke-opacity=\"1\" stroke-width=\"3.2\"/>\n",
       "<circle clip-path=\"url(#clip292)\" cx=\"2253.5\" cy=\"192.974\" r=\"14.4\" fill=\"#009af9\" fill-rule=\"evenodd\" fill-opacity=\"1\" stroke=\"#000000\" stroke-opacity=\"1\" stroke-width=\"3.2\"/>\n",
       "<circle clip-path=\"url(#clip292)\" cx=\"2262.86\" cy=\"102.583\" r=\"14.4\" fill=\"#009af9\" fill-rule=\"evenodd\" fill-opacity=\"1\" stroke=\"#000000\" stroke-opacity=\"1\" stroke-width=\"3.2\"/>\n",
       "<circle clip-path=\"url(#clip292)\" cx=\"2272.23\" cy=\"351.235\" r=\"14.4\" fill=\"#009af9\" fill-rule=\"evenodd\" fill-opacity=\"1\" stroke=\"#000000\" stroke-opacity=\"1\" stroke-width=\"3.2\"/>\n",
       "<circle clip-path=\"url(#clip292)\" cx=\"2281.59\" cy=\"170.042\" r=\"14.4\" fill=\"#009af9\" fill-rule=\"evenodd\" fill-opacity=\"1\" stroke=\"#000000\" stroke-opacity=\"1\" stroke-width=\"3.2\"/>\n",
       "<circle clip-path=\"url(#clip292)\" cx=\"2290.95\" cy=\"87.9763\" r=\"14.4\" fill=\"#009af9\" fill-rule=\"evenodd\" fill-opacity=\"1\" stroke=\"#000000\" stroke-opacity=\"1\" stroke-width=\"3.2\"/>\n",
       "<polyline clip-path=\"url(#clip292)\" style=\"stroke:#e26f46; stroke-linecap:round; stroke-linejoin:round; stroke-width:4; stroke-opacity:1; fill:none\" points=\"230.922,626.35 240.286,640.627 249.65,654.753 259.014,668.728 268.377,682.551 277.741,696.224 287.105,709.745 296.469,723.116 305.833,736.335 315.196,749.404 324.56,762.321 333.924,775.087 343.288,787.702 352.651,800.166 362.015,812.479 371.379,824.641 380.743,836.652 390.107,848.511 399.47,860.22 408.834,871.778 418.198,883.184 427.562,894.439 436.926,905.544 446.289,916.497 455.653,927.299 465.017,937.95 474.381,948.45 483.744,958.799 493.108,968.997 502.472,979.044 511.836,988.939 521.2,998.684 530.563,1008.28 539.927,1017.72 549.291,1027.01 558.655,1036.15 568.019,1045.14 577.382,1053.98 586.746,1062.67 596.11,1071.2 605.474,1079.59 614.837,1087.82 624.201,1095.9 633.565,1103.83 642.929,1111.62 652.293,1119.24 661.656,1126.72 671.02,1134.05 680.384,1141.23 689.748,1148.25 699.112,1155.13 708.475,1161.85 717.839,1168.42 727.203,1174.84 736.567,1181.11 745.93,1187.23 755.294,1193.2 764.658,1199.01 774.022,1204.68 783.386,1210.19 792.749,1215.56 802.113,1220.77 811.477,1225.83 820.841,1230.74 830.205,1235.5 839.568,1240.11 848.932,1244.56 858.296,1248.87 867.66,1253.02 877.023,1257.03 886.387,1260.88 895.751,1264.58 905.115,1268.13 914.479,1271.53 923.842,1274.78 933.206,1277.88 942.57,1280.82 951.934,1283.62 961.298,1286.26 970.661,1288.76 980.025,1291.1 989.389,1293.29 998.753,1295.33 1008.12,1297.22 1017.48,1298.95 1026.84,1300.54 1036.21,1301.97 1045.57,1303.26 1054.94,1304.39 1064.3,1305.37 1073.66,1306.2 1083.03,1306.88 1092.39,1307.41 1101.75,1307.79 1111.12,1308.02 1120.48,1308.09 1129.85,1308.02 1139.21,1307.79 1148.57,1307.41 1157.94,1306.88 1167.3,1306.2 1176.66,1305.37 1186.03,1304.39 1195.39,1303.26 1204.76,1301.97 1214.12,1300.54 1223.48,1298.95 1232.85,1297.22 1242.21,1295.33 1251.57,1293.29 1260.94,1291.1 1270.3,1288.76 1279.67,1286.26 1289.03,1283.62 1298.39,1280.82 1307.76,1277.88 1317.12,1274.78 1326.49,1271.53 1335.85,1268.13 1345.21,1264.58 1354.58,1260.88 1363.94,1257.03 1373.3,1253.02 1382.67,1248.87 1392.03,1244.56 1401.4,1240.11 1410.76,1235.5 1420.12,1230.74 1429.49,1225.83 1438.85,1220.77 1448.21,1215.56 1457.58,1210.19 1466.94,1204.68 1476.31,1199.01 1485.67,1193.2 1495.03,1187.23 1504.4,1181.11 1513.76,1174.84 1523.12,1168.42 1532.49,1161.85 1541.85,1155.13 1551.22,1148.25 1560.58,1141.23 1569.94,1134.05 1579.31,1126.72 1588.67,1119.24 1598.03,1111.62 1607.4,1103.83 1616.76,1095.9 1626.13,1087.82 1635.49,1079.59 1644.85,1071.2 1654.22,1062.67 1663.58,1053.98 1672.95,1045.14 1682.31,1036.15 1691.67,1027.01 1701.04,1017.72 1710.4,1008.28 1719.76,998.684 1729.13,988.939 1738.49,979.044 1747.86,968.997 1757.22,958.799 1766.58,948.45 1775.95,937.95 1785.31,927.299 1794.67,916.497 1804.04,905.544 1813.4,894.439 1822.77,883.184 1832.13,871.778 1841.49,860.22 1850.86,848.511 1860.22,836.652 1869.58,824.641 1878.95,812.479 1888.31,800.166 1897.68,787.702 1907.04,775.087 1916.4,762.321 1925.77,749.404 1935.13,736.335 1944.49,723.116 1953.86,709.745 1963.22,696.224 1972.59,682.551 1981.95,668.728 1991.31,654.753 2000.68,640.627 2010.04,626.35 2019.41,611.922 2028.77,597.343 2038.13,582.613 2047.5,567.731 2056.86,552.699 2066.22,537.516 2075.59,522.181 2084.95,506.696 2094.32,491.059 2103.68,475.271 2113.04,459.332 2122.41,443.242 2131.77,427.001 2141.13,410.609 2150.5,394.066 2159.86,377.372 2169.23,360.527 2178.59,343.53 2187.95,326.383 2197.32,309.084 2206.68,291.635 2216.04,274.034 2225.41,256.282 2234.77,238.38 2244.14,220.326 2253.5,202.121 2262.86,183.765 2272.23,165.257 2281.59,146.599 2290.95,127.79 \"/>\n",
       "<polyline clip-path=\"url(#clip292)\" style=\"stroke:#3da44d; stroke-linecap:round; stroke-linejoin:round; stroke-width:4; stroke-opacity:1; fill:none\" points=\"230.922,624.038 240.286,640.038 249.65,655.253 259.014,669.757 268.377,683.617 277.741,696.896 287.105,709.655 296.469,721.948 305.833,733.828 315.196,745.342 324.56,756.537 333.924,767.453 343.288,778.127 352.651,788.596 362.015,798.891 371.379,809.041 380.743,819.072 390.107,829.007 399.47,838.869 408.834,848.674 418.198,858.44 427.562,868.18 436.926,877.906 446.289,887.629 455.653,897.356 465.017,907.094 474.381,916.848 483.744,926.622 493.108,936.416 502.472,946.233 511.836,956.07 521.2,965.927 530.563,975.801 539.927,985.688 549.291,995.583 558.655,1005.48 568.019,1015.38 577.382,1025.27 586.746,1035.14 596.11,1044.99 605.474,1054.8 614.837,1064.58 624.201,1074.31 633.565,1083.98 642.929,1093.59 652.293,1103.12 661.656,1112.57 671.02,1121.92 680.384,1131.18 689.748,1140.32 699.112,1149.35 708.475,1158.24 717.839,1167 727.203,1175.62 736.567,1184.08 745.93,1192.38 755.294,1200.52 764.658,1208.48 774.022,1216.25 783.386,1223.84 792.749,1231.23 802.113,1238.42 811.477,1245.4 820.841,1252.17 830.205,1258.72 839.568,1265.06 848.932,1271.16 858.296,1277.03 867.66,1282.67 877.023,1288.08 886.387,1293.24 895.751,1298.16 905.115,1302.84 914.479,1307.27 923.842,1311.45 933.206,1315.39 942.57,1319.07 951.934,1322.51 961.298,1325.69 970.661,1328.63 980.025,1331.31 989.389,1333.75 998.753,1335.93 1008.12,1337.87 1017.48,1339.56 1026.84,1341.01 1036.21,1342.21 1045.57,1343.17 1054.94,1343.89 1064.3,1344.38 1073.66,1344.63 1083.03,1344.65 1092.39,1344.44 1101.75,1344 1111.12,1343.34 1120.48,1342.46 1129.85,1341.36 1139.21,1340.05 1148.57,1338.53 1157.94,1336.8 1167.3,1334.86 1176.66,1332.73 1186.03,1330.4 1195.39,1327.88 1204.76,1325.17 1214.12,1322.27 1223.48,1319.19 1232.85,1315.93 1242.21,1312.5 1251.57,1308.91 1260.94,1305.14 1270.3,1301.21 1279.67,1297.13 1289.03,1292.89 1298.39,1288.5 1307.76,1283.96 1317.12,1279.29 1326.49,1274.47 1335.85,1269.52 1345.21,1264.43 1354.58,1259.22 1363.94,1253.89 1373.3,1248.44 1382.67,1242.87 1392.03,1237.19 1401.4,1231.39 1410.76,1225.5 1420.12,1219.5 1429.49,1213.4 1438.85,1207.21 1448.21,1200.93 1457.58,1194.55 1466.94,1188.09 1476.31,1181.55 1485.67,1174.92 1495.03,1168.22 1504.4,1161.44 1513.76,1154.58 1523.12,1147.66 1532.49,1140.66 1541.85,1133.6 1551.22,1126.47 1560.58,1119.27 1569.94,1112.01 1579.31,1104.69 1588.67,1097.3 1598.03,1089.85 1607.4,1082.33 1616.76,1074.75 1626.13,1067.1 1635.49,1059.39 1644.85,1051.6 1654.22,1043.75 1663.58,1035.82 1672.95,1027.82 1682.31,1019.74 1691.67,1011.58 1701.04,1003.32 1710.4,994.977 1719.76,986.535 1729.13,977.988 1738.49,969.332 1747.86,960.56 1757.22,951.663 1766.58,942.635 1775.95,933.468 1785.31,924.151 1794.67,914.676 1804.04,905.034 1813.4,895.213 1822.77,885.205 1832.13,874.996 1841.49,864.577 1850.86,853.935 1860.22,843.059 1869.58,831.937 1878.95,820.556 1888.31,808.905 1897.68,796.97 1907.04,784.741 1916.4,772.206 1925.77,759.352 1935.13,746.17 1944.49,732.649 1953.86,718.779 1963.22,704.553 1972.59,689.963 1981.95,675.003 1991.31,659.67 2000.68,643.96 2010.04,627.873 2019.41,611.412 2028.77,594.581 2038.13,577.389 2047.5,559.846 2056.86,541.967 2066.22,523.772 2075.59,505.284 2084.95,486.533 2094.32,467.552 2103.68,448.382 2113.04,429.07 2122.41,409.67 2131.77,390.245 2141.13,370.864 2150.5,351.608 2159.86,332.567 2169.23,313.841 2178.59,295.542 2187.95,277.795 2197.32,260.738 2206.68,244.523 2216.04,229.32 2225.41,215.311 2234.77,202.699 2244.14,191.706 2253.5,182.573 2262.86,175.562 2272.23,170.96 2281.59,169.076 2290.95,170.248 \"/>\n",
       "<path clip-path=\"url(#clip290)\" d=\"M241.909 302.578 L513.282 302.578 L513.282 95.2176 L241.909 95.2176  Z\" fill=\"#ffffff\" fill-rule=\"evenodd\" fill-opacity=\"1\"/>\n",
       "<polyline clip-path=\"url(#clip290)\" style=\"stroke:#000000; stroke-linecap:round; stroke-linejoin:round; stroke-width:4; stroke-opacity:1; fill:none\" points=\"241.909,302.578 513.282,302.578 513.282,95.2176 241.909,95.2176 241.909,302.578 \"/>\n",
       "<circle clip-path=\"url(#clip290)\" cx=\"338.96\" cy=\"147.058\" r=\"23.04\" fill=\"#009af9\" fill-rule=\"evenodd\" fill-opacity=\"1\" stroke=\"#000000\" stroke-opacity=\"1\" stroke-width=\"5.12\"/>\n",
       "<path clip-path=\"url(#clip290)\" d=\"M449.853 166.745 Q448.047 171.375 446.334 172.787 Q444.621 174.199 441.751 174.199 L438.348 174.199 L438.348 170.634 L440.848 170.634 Q442.607 170.634 443.579 169.8 Q444.552 168.967 445.732 165.865 L446.496 163.921 L436.01 138.412 L440.524 138.412 L448.626 158.689 L456.727 138.412 L461.241 138.412 L449.853 166.745 Z\" fill=\"#000000\" fill-rule=\"evenodd\" fill-opacity=\"1\" /><path clip-path=\"url(#clip290)\" d=\"M468.533 160.402 L476.172 160.402 L476.172 134.037 L467.862 135.703 L467.862 131.444 L476.126 129.778 L480.801 129.778 L480.801 160.402 L488.44 160.402 L488.44 164.338 L468.533 164.338 L468.533 160.402 Z\" fill=\"#000000\" fill-rule=\"evenodd\" fill-opacity=\"1\" /><polyline clip-path=\"url(#clip290)\" style=\"stroke:#e26f46; stroke-linecap:round; stroke-linejoin:round; stroke-width:4; stroke-opacity:1; fill:none\" points=\"266.172,198.898 411.747,198.898 \"/>\n",
       "<path clip-path=\"url(#clip290)\" d=\"M449.853 218.585 Q448.047 223.215 446.334 224.627 Q444.621 226.039 441.751 226.039 L438.348 226.039 L438.348 222.474 L440.848 222.474 Q442.607 222.474 443.579 221.64 Q444.552 220.807 445.732 217.705 L446.496 215.761 L436.01 190.252 L440.524 190.252 L448.626 210.529 L456.727 190.252 L461.241 190.252 L449.853 218.585 Z\" fill=\"#000000\" fill-rule=\"evenodd\" fill-opacity=\"1\" /><path clip-path=\"url(#clip290)\" d=\"M471.751 212.242 L488.07 212.242 L488.07 216.178 L466.126 216.178 L466.126 212.242 Q468.788 209.488 473.371 204.858 Q477.977 200.205 479.158 198.863 Q481.403 196.34 482.283 194.604 Q483.186 192.844 483.186 191.155 Q483.186 188.4 481.241 186.664 Q479.32 184.928 476.218 184.928 Q474.019 184.928 471.565 185.692 Q469.135 186.455 466.357 188.006 L466.357 183.284 Q469.181 182.15 471.635 181.571 Q474.088 180.993 476.126 180.993 Q481.496 180.993 484.69 183.678 Q487.885 186.363 487.885 190.854 Q487.885 192.983 487.075 194.905 Q486.287 196.803 484.181 199.395 Q483.602 200.067 480.5 203.284 Q477.399 206.479 471.751 212.242 Z\" fill=\"#000000\" fill-rule=\"evenodd\" fill-opacity=\"1\" /><polyline clip-path=\"url(#clip290)\" style=\"stroke:#3da44d; stroke-linecap:round; stroke-linejoin:round; stroke-width:4; stroke-opacity:1; fill:none\" points=\"266.172,250.738 411.747,250.738 \"/>\n",
       "<path clip-path=\"url(#clip290)\" d=\"M449.853 270.425 Q448.047 275.055 446.334 276.467 Q444.621 277.879 441.751 277.879 L438.348 277.879 L438.348 274.314 L440.848 274.314 Q442.607 274.314 443.579 273.48 Q444.552 272.647 445.732 269.545 L446.496 267.601 L436.01 242.092 L440.524 242.092 L448.626 262.369 L456.727 242.092 L461.241 242.092 L449.853 270.425 Z\" fill=\"#000000\" fill-rule=\"evenodd\" fill-opacity=\"1\" /><path clip-path=\"url(#clip290)\" d=\"M481.889 249.383 Q485.246 250.101 487.121 252.369 Q489.019 254.638 489.019 257.971 Q489.019 263.087 485.5 265.888 Q481.982 268.689 475.501 268.689 Q473.325 268.689 471.01 268.249 Q468.718 267.832 466.264 266.976 L466.264 262.462 Q468.209 263.596 470.524 264.175 Q472.838 264.754 475.362 264.754 Q479.76 264.754 482.051 263.018 Q484.366 261.281 484.366 257.971 Q484.366 254.916 482.213 253.203 Q480.084 251.467 476.264 251.467 L472.237 251.467 L472.237 247.624 L476.45 247.624 Q479.899 247.624 481.727 246.258 Q483.556 244.87 483.556 242.277 Q483.556 239.615 481.658 238.203 Q479.783 236.768 476.264 236.768 Q474.343 236.768 472.144 237.184 Q469.945 237.601 467.306 238.481 L467.306 234.314 Q469.968 233.573 472.283 233.203 Q474.621 232.833 476.681 232.833 Q482.005 232.833 485.107 235.263 Q488.209 237.67 488.209 241.791 Q488.209 244.661 486.565 246.652 Q484.922 248.62 481.889 249.383 Z\" fill=\"#000000\" fill-rule=\"evenodd\" fill-opacity=\"1\" /></svg>\n"
      ]
     },
     "execution_count": 126,
     "metadata": {},
     "output_type": "execute_result"
    }
   ],
   "source": [
    "x_fit = -11.0:0.1:11.0\n",
    "x_fit =collect(x_fit)\n",
    "y_true3 = x_fit.^ 2 + 3x_fit .- 2\n",
    "\n",
    "dataerr = 10\n",
    "noise = di.Normal(0,dataerr)\n",
    "y_observed3 = y_true3 + rand(noise,length(x_fit))\n",
    "line_fit3 = fit(x_fit,y_observed3,10)\n",
    "fit_coeff3 = coeffs(line_fit3)\n",
    "y_fitted3 = fit_coeff3[1] .+ (fit_coeff3[2] .* (x_fit.^1)) + (fit_coeff3[3] .* (x_fit.^2)) + (fit_coeff3[4] .* (x_fit.^3)) + (fit_coeff3[5] .* (x_fit.^4)) + (fit_coeff3[6] .* (x_fit.^5)) + (fit_coeff3[7] .* (x_fit.^6)) + (fit_coeff3[8] .* (x_fit.^7)) + (fit_coeff3[9] .* (x_fit.^8)) + (fit_coeff3[10] .* (x_fit.^9)) + (fit_coeff3[11] .* (x_fit.^10))\n",
    "scatter(x_fit,y_observed3)\n",
    "plot!(x_fit,y_true3)\n",
    "plot!(x_fit,y_fitted3)"
   ]
  },
  {
   "cell_type": "markdown",
   "id": "bbcb4ef4",
   "metadata": {},
   "source": [
    "3. What do you observe in the plot? What is this phenomenon called?"
   ]
  },
  {
   "cell_type": "markdown",
   "id": "49a085b1",
   "metadata": {},
   "source": []
  },
  {
   "cell_type": "markdown",
   "id": "be8bfe59",
   "metadata": {},
   "source": [
    "# 3\n",
    "The phenomena in the plot is called overfitting."
   ]
  }
 ],
 "metadata": {
  "kernelspec": {
   "display_name": "Julia 1.8.5",
   "language": "julia",
   "name": "julia-1.8"
  },
  "language_info": {
   "file_extension": ".jl",
   "mimetype": "application/julia",
   "name": "julia",
   "version": "1.8.5"
  }
 },
 "nbformat": 4,
 "nbformat_minor": 5
}
