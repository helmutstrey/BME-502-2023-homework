{
 "cells": [
  {
   "cell_type": "markdown",
   "id": "1fbe377b",
   "metadata": {},
   "source": [
    "<h1>HW3</h1>"
   ]
  },
  {
   "cell_type": "markdown",
   "id": "79813e24",
   "metadata": {},
   "source": [
    "# Question 1\n",
    "### (Bayes Theorem) Read the following example and complete the exercises \n",
    "\n",
    "Trolls Under the Bridge\n",
    "1. Trolls(T) are bad\n",
    "2. Gnomes(G) are benign\n",
    "3. Every bridge has 5 creatures under it\n",
    "\n",
    "Below are the probabilities of what creatures live under a bridge:\n",
    "1. TTGGG: 20% (E1)\n",
    "2. TGGGG: 20% (E2)\n",
    "3. GGGGG: 60% (E3)\n",
    "\n",
    "A knight is approaching a bridge and he wants to know his chance of crossing the bridge safely."
   ]
  },
  {
   "cell_type": "markdown",
   "id": "425f8583",
   "metadata": {},
   "source": [
    "### 1.1 \n",
    "\n",
    "#### What is the chance of the knight crossing the bridge safely?\n"
   ]
  },
  {
   "cell_type": "code",
   "execution_count": null,
   "id": "29bea308",
   "metadata": {},
   "outputs": [],
   "source": [
    ".6"
   ]
  },
  {
   "cell_type": "markdown",
   "id": "61f687e4",
   "metadata": {},
   "source": [
    "### 1.2\n",
    "\n",
    "#### Before crossing a bridge, a knight captures a troll. “I now have an 80% chance of crossing safely,” he reasons, “since only the case 20% had TTGGG (E1) now have TGGG is still a threat.”\n",
    "\n",
    "#### Do you agree with him? Why?"
   ]
  },
  {
   "cell_type": "markdown",
   "id": "09025213",
   "metadata": {},
   "source": [
    "No, I do not agree with the knight because he has a 2/3 chance to capture a troll from the first bridge, which would mean there would still be a troll on that bridge after he captures one. The third bridge is also eliminated from the probability pool because it does not have any trolls to begin with."
   ]
  },
  {
   "cell_type": "markdown",
   "id": "c1533b67",
   "metadata": {},
   "source": [
    "### 1.3\n",
    "\n",
    "#### Now he wants to use Bayes' theorem to calculate his chance of crossing safely given a troll captured \n",
    "\n",
    "\\begin{equation*}\n",
    "P(A|B) = \\frac{P(B|A)P(A)}{P(B)} \\\\\n",
    "P(A|B): Posteior \\\\\n",
    "P(B|A): Likelihood \\\\\n",
    "P(A): Prior \\\\\n",
    "P(B): Marginal Probability \\\\\n",
    "\\end{equation*}\n",
    "\n",
    "#### Given the three events, E1, E2, and E3, under which two events the knight cannot cross safely after a troll was captured?"
   ]
  },
  {
   "cell_type": "markdown",
   "id": "0adb7f0a",
   "metadata": {},
   "source": [
    "He can cross safely with E2 since there is only one troll and he captured it. Since E3 has zero trolls he can cross safely. He cannot cross safely with E1 because if he captures one troll there is still another troll that can attack him"
   ]
  },
  {
   "cell_type": "markdown",
   "id": "e45e8fa6",
   "metadata": {},
   "source": [
    "### 1.4\n",
    "\n",
    "#### Use Bayes' theorem to calculate the probability of the two events in 1.3 (separately) given the troll was captured. "
   ]
  },
  {
   "cell_type": "markdown",
   "id": "5d9c3c0b",
   "metadata": {},
   "source": [
    "Probability of one event given a troll captured: P(E2|troll_captured) "
   ]
  },
  {
   "cell_type": "code",
   "execution_count": 184,
   "id": "f2f0e7c8",
   "metadata": {},
   "outputs": [
    {
     "data": {
      "text/plain": [
       "0.3333333333333334"
      ]
     },
     "execution_count": 184,
     "metadata": {},
     "output_type": "execute_result"
    }
   ],
   "source": [
    "troll_captured = (3/10) * .4  # probability of having event one or two * probability of capturing a troll under one of those bridges\n",
    "event_two = .2\n",
    "p_troll_captured_giv_event_two = 1/5\n",
    "p_event_two_giv_troll_captured = (p_troll_captured_giv_event_two * event_two) / troll_captured"
   ]
  },
  {
   "cell_type": "markdown",
   "id": "37843aee",
   "metadata": {},
   "source": [
    "Probability of the other event given a troll captured: P(E3|troll_captured)"
   ]
  },
  {
   "cell_type": "code",
   "execution_count": 185,
   "id": "5db10bc7",
   "metadata": {},
   "outputs": [
    {
     "data": {
      "text/plain": [
       "0.0"
      ]
     },
     "execution_count": 185,
     "metadata": {},
     "output_type": "execute_result"
    }
   ],
   "source": [
    "troll_captured = (3/10) * .4\n",
    "event_three = .6\n",
    "p_troll_captured_giv_event_three = 0\n",
    "p_event_three_giv_troll_captured = (p_troll_captured_giv_event_three * event_three) / troll_captured"
   ]
  },
  {
   "cell_type": "markdown",
   "id": "d5c2a702",
   "metadata": {},
   "source": [
    "Probability of the third event: P(E1|troll_captured)"
   ]
  },
  {
   "cell_type": "code",
   "execution_count": 187,
   "id": "678e1594",
   "metadata": {},
   "outputs": [
    {
     "data": {
      "text/plain": [
       "0.6666666666666669"
      ]
     },
     "execution_count": 187,
     "metadata": {},
     "output_type": "execute_result"
    }
   ],
   "source": [
    "troll_captured = (3/10) * .4\n",
    "event_one = .2\n",
    "p_troll_captured_giv_event_one = 2/5\n",
    "p_event_one_giv_troll_captured = (p_troll_captured_giv_event_one * event_one) / troll_captured"
   ]
  },
  {
   "cell_type": "markdown",
   "id": "f3b7f049",
   "metadata": {},
   "source": [
    "### 1.5\n",
    "\n",
    "#### What is the chance of the knight crossing safely?"
   ]
  },
  {
   "cell_type": "code",
   "execution_count": null,
   "id": "0f6fd73b",
   "metadata": {},
   "outputs": [],
   "source": [
    "1/3"
   ]
  },
  {
   "cell_type": "markdown",
   "id": "7b815ae0",
   "metadata": {},
   "source": [
    "#### Now looking back to 1.1, the probabilities were changed after assimilating data! "
   ]
  },
  {
   "cell_type": "markdown",
   "id": "f1450094",
   "metadata": {},
   "source": [
    "# Question 2\n",
    "### (Polynomial Fitting) Read the following example and complete the exercises \n",
    "\n",
    "Biological data always comes with errors that influence the intepretation of the data significantly. In this question, we will simulate data and see how noises affect the parameter estimation."
   ]
  },
  {
   "cell_type": "code",
   "execution_count": 65,
   "id": "c20822fa",
   "metadata": {},
   "outputs": [
    {
     "name": "stderr",
     "output_type": "stream",
     "text": [
      "\u001b[32m\u001b[1m   Resolving\u001b[22m\u001b[39m package versions...\n",
      "\u001b[32m\u001b[1m  No Changes\u001b[22m\u001b[39m to `~/.julia/environments/v1.8/Project.toml`\n",
      "\u001b[32m\u001b[1m  No Changes\u001b[22m\u001b[39m to `~/.julia/environments/v1.8/Manifest.toml`\n"
     ]
    }
   ],
   "source": [
    "import Pkg\n",
    "Pkg.add([\"Distributions\", \"Plots\", \"Polynomials\", \"Random\"])"
   ]
  },
  {
   "cell_type": "code",
   "execution_count": 66,
   "id": "d7d1ca8d",
   "metadata": {},
   "outputs": [],
   "source": [
    "import Distributions as di\n",
    "import Plots\n",
    "import Polynomials\n",
    "import Random"
   ]
  },
  {
   "cell_type": "markdown",
   "id": "a90dd09d",
   "metadata": {},
   "source": [
    "### 2.1\n",
    "\n",
    "1. Generate the independent variable x ranging from -10 to 10 with an increment of 1\n",
    "2. Generate the dependent variable y_true using the equation y_true = x^2 + 3x - 2\n"
   ]
  },
  {
   "cell_type": "code",
   "execution_count": 146,
   "id": "6b0b33c5",
   "metadata": {},
   "outputs": [
    {
     "data": {
      "text/plain": [
       "21-element Vector{Int64}:\n",
       "  68\n",
       "  52\n",
       "  38\n",
       "  26\n",
       "  16\n",
       "   8\n",
       "   2\n",
       "  -2\n",
       "  -4\n",
       "  -4\n",
       "  -2\n",
       "   2\n",
       "   8\n",
       "  16\n",
       "  26\n",
       "  38\n",
       "  52\n",
       "  68\n",
       "  86\n",
       " 106\n",
       " 128"
      ]
     },
     "execution_count": 146,
     "metadata": {},
     "output_type": "execute_result"
    }
   ],
   "source": [
    "x = range(start= -10, step = 1, length = 21)\n",
    "y_true = (x.^2) .+ 3 .*x .- 2"
   ]
  },
  {
   "cell_type": "markdown",
   "id": "74d2a191",
   "metadata": {},
   "source": [
    "### 2.2\n",
    "\n",
    "1. Generate the Guassian noises with zero mean and a standard deviation of 10\n",
    "\n",
    "2. Add the noises to y_true to obtain y_observed\n"
   ]
  },
  {
   "cell_type": "code",
   "execution_count": 147,
   "id": "7936417a",
   "metadata": {},
   "outputs": [
    {
     "data": {
      "text/plain": [
       "21-element Vector{Float64}:\n",
       "  69.84156366144413\n",
       "  76.47982842152292\n",
       "  40.760934529589576\n",
       "  21.54571915583043\n",
       "  14.915195370001713\n",
       "  -9.063960068789399\n",
       "  -8.798481877304948\n",
       " -19.973648012872868\n",
       "  -5.1250536248010805\n",
       " -24.699613790325927\n",
       " -10.513270766478557\n",
       "  10.764544913196708\n",
       "  15.526125476331934\n",
       "  33.724604192902575\n",
       "  19.20418984703113\n",
       "  43.131331550301525\n",
       "  61.36526397070292\n",
       "  61.54429810879907\n",
       "  88.85052155121483\n",
       " 122.8032015315799\n",
       " 146.01622055832686"
      ]
     },
     "execution_count": 147,
     "metadata": {},
     "output_type": "execute_result"
    }
   ],
   "source": [
    "using Distributions\n",
    "g = di.Normal(0,10)\n",
    "y_observed = y_true .+ rand(g,length(x))\n"
   ]
  },
  {
   "cell_type": "markdown",
   "id": "ecf2e554",
   "metadata": {},
   "source": [
    "### 2.3\n",
    "\n",
    "#### Fit the data (x, y_observed) with a second order polynomial. \n",
    "\n",
    "1. Make a scatter plot of y_observed along x\n",
    "2. Plot a line of y_true along x on the scatter plot\n",
    "3. Plot a line of the fitted polynomial along x on the same plot"
   ]
  },
  {
   "cell_type": "code",
   "execution_count": 148,
   "id": "d39a136b",
   "metadata": {},
   "outputs": [
    {
     "data": {
      "image/svg+xml": [
       "<?xml version=\"1.0\" encoding=\"utf-8\"?>\n",
       "<svg xmlns=\"http://www.w3.org/2000/svg\" xmlns:xlink=\"http://www.w3.org/1999/xlink\" width=\"600\" height=\"400\" viewBox=\"0 0 2400 1600\">\n",
       "<defs>\n",
       "  <clipPath id=\"clip140\">\n",
       "    <rect x=\"0\" y=\"0\" width=\"2400\" height=\"1600\"/>\n",
       "  </clipPath>\n",
       "</defs>\n",
       "<path clip-path=\"url(#clip140)\" d=\"M0 1600 L2400 1600 L2400 0 L0 0  Z\" fill=\"#ffffff\" fill-rule=\"evenodd\" fill-opacity=\"1\"/>\n",
       "<defs>\n",
       "  <clipPath id=\"clip141\">\n",
       "    <rect x=\"480\" y=\"0\" width=\"1681\" height=\"1600\"/>\n",
       "  </clipPath>\n",
       "</defs>\n",
       "<path clip-path=\"url(#clip140)\" d=\"M169.121 1486.45 L2352.76 1486.45 L2352.76 47.2441 L169.121 47.2441  Z\" fill=\"#ffffff\" fill-rule=\"evenodd\" fill-opacity=\"1\"/>\n",
       "<defs>\n",
       "  <clipPath id=\"clip142\">\n",
       "    <rect x=\"169\" y=\"47\" width=\"2185\" height=\"1440\"/>\n",
       "  </clipPath>\n",
       "</defs>\n",
       "<polyline clip-path=\"url(#clip142)\" style=\"stroke:#000000; stroke-linecap:round; stroke-linejoin:round; stroke-width:2; stroke-opacity:0.1; fill:none\" points=\"230.922,1486.45 230.922,47.2441 \"/>\n",
       "<polyline clip-path=\"url(#clip142)\" style=\"stroke:#000000; stroke-linecap:round; stroke-linejoin:round; stroke-width:2; stroke-opacity:0.1; fill:none\" points=\"745.93,1486.45 745.93,47.2441 \"/>\n",
       "<polyline clip-path=\"url(#clip142)\" style=\"stroke:#000000; stroke-linecap:round; stroke-linejoin:round; stroke-width:2; stroke-opacity:0.1; fill:none\" points=\"1260.94,1486.45 1260.94,47.2441 \"/>\n",
       "<polyline clip-path=\"url(#clip142)\" style=\"stroke:#000000; stroke-linecap:round; stroke-linejoin:round; stroke-width:2; stroke-opacity:0.1; fill:none\" points=\"1775.95,1486.45 1775.95,47.2441 \"/>\n",
       "<polyline clip-path=\"url(#clip142)\" style=\"stroke:#000000; stroke-linecap:round; stroke-linejoin:round; stroke-width:2; stroke-opacity:0.1; fill:none\" points=\"2290.95,1486.45 2290.95,47.2441 \"/>\n",
       "<polyline clip-path=\"url(#clip140)\" style=\"stroke:#000000; stroke-linecap:round; stroke-linejoin:round; stroke-width:4; stroke-opacity:1; fill:none\" points=\"169.121,1486.45 2352.76,1486.45 \"/>\n",
       "<polyline clip-path=\"url(#clip140)\" style=\"stroke:#000000; stroke-linecap:round; stroke-linejoin:round; stroke-width:4; stroke-opacity:1; fill:none\" points=\"230.922,1486.45 230.922,1467.55 \"/>\n",
       "<polyline clip-path=\"url(#clip140)\" style=\"stroke:#000000; stroke-linecap:round; stroke-linejoin:round; stroke-width:4; stroke-opacity:1; fill:none\" points=\"745.93,1486.45 745.93,1467.55 \"/>\n",
       "<polyline clip-path=\"url(#clip140)\" style=\"stroke:#000000; stroke-linecap:round; stroke-linejoin:round; stroke-width:4; stroke-opacity:1; fill:none\" points=\"1260.94,1486.45 1260.94,1467.55 \"/>\n",
       "<polyline clip-path=\"url(#clip140)\" style=\"stroke:#000000; stroke-linecap:round; stroke-linejoin:round; stroke-width:4; stroke-opacity:1; fill:none\" points=\"1775.95,1486.45 1775.95,1467.55 \"/>\n",
       "<polyline clip-path=\"url(#clip140)\" style=\"stroke:#000000; stroke-linecap:round; stroke-linejoin:round; stroke-width:4; stroke-opacity:1; fill:none\" points=\"2290.95,1486.45 2290.95,1467.55 \"/>\n",
       "<path clip-path=\"url(#clip140)\" d=\"M184.985 1532.02 L214.661 1532.02 L214.661 1535.95 L184.985 1535.95 L184.985 1532.02 Z\" fill=\"#000000\" fill-rule=\"evenodd\" fill-opacity=\"1\" /><path clip-path=\"url(#clip140)\" d=\"M225.564 1544.91 L233.202 1544.91 L233.202 1518.55 L224.892 1520.21 L224.892 1515.95 L233.156 1514.29 L237.832 1514.29 L237.832 1544.91 L245.471 1544.91 L245.471 1548.85 L225.564 1548.85 L225.564 1544.91 Z\" fill=\"#000000\" fill-rule=\"evenodd\" fill-opacity=\"1\" /><path clip-path=\"url(#clip140)\" d=\"M264.915 1517.37 Q261.304 1517.37 259.475 1520.93 Q257.67 1524.47 257.67 1531.6 Q257.67 1538.71 259.475 1542.27 Q261.304 1545.82 264.915 1545.82 Q268.549 1545.82 270.355 1542.27 Q272.184 1538.71 272.184 1531.6 Q272.184 1524.47 270.355 1520.93 Q268.549 1517.37 264.915 1517.37 M264.915 1513.66 Q270.725 1513.66 273.781 1518.27 Q276.86 1522.85 276.86 1531.6 Q276.86 1540.33 273.781 1544.94 Q270.725 1549.52 264.915 1549.52 Q259.105 1549.52 256.026 1544.94 Q252.971 1540.33 252.971 1531.6 Q252.971 1522.85 256.026 1518.27 Q259.105 1513.66 264.915 1513.66 Z\" fill=\"#000000\" fill-rule=\"evenodd\" fill-opacity=\"1\" /><path clip-path=\"url(#clip140)\" d=\"M715.572 1532.02 L745.248 1532.02 L745.248 1535.95 L715.572 1535.95 L715.572 1532.02 Z\" fill=\"#000000\" fill-rule=\"evenodd\" fill-opacity=\"1\" /><path clip-path=\"url(#clip140)\" d=\"M755.386 1514.29 L773.743 1514.29 L773.743 1518.22 L759.669 1518.22 L759.669 1526.7 Q760.687 1526.35 761.706 1526.19 Q762.724 1526 763.743 1526 Q769.53 1526 772.909 1529.17 Q776.289 1532.34 776.289 1537.76 Q776.289 1543.34 772.817 1546.44 Q769.345 1549.52 763.025 1549.52 Q760.849 1549.52 758.581 1549.15 Q756.335 1548.78 753.928 1548.04 L753.928 1543.34 Q756.011 1544.47 758.234 1545.03 Q760.456 1545.58 762.933 1545.58 Q766.937 1545.58 769.275 1543.48 Q771.613 1541.37 771.613 1537.76 Q771.613 1534.15 769.275 1532.04 Q766.937 1529.94 762.933 1529.94 Q761.058 1529.94 759.183 1530.35 Q757.331 1530.77 755.386 1531.65 L755.386 1514.29 Z\" fill=\"#000000\" fill-rule=\"evenodd\" fill-opacity=\"1\" /><path clip-path=\"url(#clip140)\" d=\"M1260.94 1517.37 Q1257.33 1517.37 1255.5 1520.93 Q1253.69 1524.47 1253.69 1531.6 Q1253.69 1538.71 1255.5 1542.27 Q1257.33 1545.82 1260.94 1545.82 Q1264.57 1545.82 1266.38 1542.27 Q1268.21 1538.71 1268.21 1531.6 Q1268.21 1524.47 1266.38 1520.93 Q1264.57 1517.37 1260.94 1517.37 M1260.94 1513.66 Q1266.75 1513.66 1269.8 1518.27 Q1272.88 1522.85 1272.88 1531.6 Q1272.88 1540.33 1269.8 1544.94 Q1266.75 1549.52 1260.94 1549.52 Q1255.13 1549.52 1252.05 1544.94 Q1248.99 1540.33 1248.99 1531.6 Q1248.99 1522.85 1252.05 1518.27 Q1255.13 1513.66 1260.94 1513.66 Z\" fill=\"#000000\" fill-rule=\"evenodd\" fill-opacity=\"1\" /><path clip-path=\"url(#clip140)\" d=\"M1766.22 1514.29 L1784.58 1514.29 L1784.58 1518.22 L1770.51 1518.22 L1770.51 1526.7 Q1771.53 1526.35 1772.54 1526.19 Q1773.56 1526 1774.58 1526 Q1780.37 1526 1783.75 1529.17 Q1787.13 1532.34 1787.13 1537.76 Q1787.13 1543.34 1783.66 1546.44 Q1780.18 1549.52 1773.86 1549.52 Q1771.69 1549.52 1769.42 1549.15 Q1767.17 1548.78 1764.77 1548.04 L1764.77 1543.34 Q1766.85 1544.47 1769.07 1545.03 Q1771.29 1545.58 1773.77 1545.58 Q1777.78 1545.58 1780.11 1543.48 Q1782.45 1541.37 1782.45 1537.76 Q1782.45 1534.15 1780.11 1532.04 Q1777.78 1529.94 1773.77 1529.94 Q1771.9 1529.94 1770.02 1530.35 Q1768.17 1530.77 1766.22 1531.65 L1766.22 1514.29 Z\" fill=\"#000000\" fill-rule=\"evenodd\" fill-opacity=\"1\" /><path clip-path=\"url(#clip140)\" d=\"M2265.64 1544.91 L2273.28 1544.91 L2273.28 1518.55 L2264.97 1520.21 L2264.97 1515.95 L2273.24 1514.29 L2277.91 1514.29 L2277.91 1544.91 L2285.55 1544.91 L2285.55 1548.85 L2265.64 1548.85 L2265.64 1544.91 Z\" fill=\"#000000\" fill-rule=\"evenodd\" fill-opacity=\"1\" /><path clip-path=\"url(#clip140)\" d=\"M2304.99 1517.37 Q2301.38 1517.37 2299.55 1520.93 Q2297.75 1524.47 2297.75 1531.6 Q2297.75 1538.71 2299.55 1542.27 Q2301.38 1545.82 2304.99 1545.82 Q2308.63 1545.82 2310.43 1542.27 Q2312.26 1538.71 2312.26 1531.6 Q2312.26 1524.47 2310.43 1520.93 Q2308.63 1517.37 2304.99 1517.37 M2304.99 1513.66 Q2310.8 1513.66 2313.86 1518.27 Q2316.94 1522.85 2316.94 1531.6 Q2316.94 1540.33 2313.86 1544.94 Q2310.8 1549.52 2304.99 1549.52 Q2299.18 1549.52 2296.11 1544.94 Q2293.05 1540.33 2293.05 1531.6 Q2293.05 1522.85 2296.11 1518.27 Q2299.18 1513.66 2304.99 1513.66 Z\" fill=\"#000000\" fill-rule=\"evenodd\" fill-opacity=\"1\" /><polyline clip-path=\"url(#clip142)\" style=\"stroke:#000000; stroke-linecap:round; stroke-linejoin:round; stroke-width:2; stroke-opacity:0.1; fill:none\" points=\"169.121,1249.42 2352.76,1249.42 \"/>\n",
       "<polyline clip-path=\"url(#clip142)\" style=\"stroke:#000000; stroke-linecap:round; stroke-linejoin:round; stroke-width:2; stroke-opacity:0.1; fill:none\" points=\"169.121,852.066 2352.76,852.066 \"/>\n",
       "<polyline clip-path=\"url(#clip142)\" style=\"stroke:#000000; stroke-linecap:round; stroke-linejoin:round; stroke-width:2; stroke-opacity:0.1; fill:none\" points=\"169.121,454.708 2352.76,454.708 \"/>\n",
       "<polyline clip-path=\"url(#clip142)\" style=\"stroke:#000000; stroke-linecap:round; stroke-linejoin:round; stroke-width:2; stroke-opacity:0.1; fill:none\" points=\"169.121,57.3502 2352.76,57.3502 \"/>\n",
       "<polyline clip-path=\"url(#clip140)\" style=\"stroke:#000000; stroke-linecap:round; stroke-linejoin:round; stroke-width:4; stroke-opacity:1; fill:none\" points=\"169.121,1486.45 169.121,47.2441 \"/>\n",
       "<polyline clip-path=\"url(#clip140)\" style=\"stroke:#000000; stroke-linecap:round; stroke-linejoin:round; stroke-width:4; stroke-opacity:1; fill:none\" points=\"169.121,1249.42 188.019,1249.42 \"/>\n",
       "<polyline clip-path=\"url(#clip140)\" style=\"stroke:#000000; stroke-linecap:round; stroke-linejoin:round; stroke-width:4; stroke-opacity:1; fill:none\" points=\"169.121,852.066 188.019,852.066 \"/>\n",
       "<polyline clip-path=\"url(#clip140)\" style=\"stroke:#000000; stroke-linecap:round; stroke-linejoin:round; stroke-width:4; stroke-opacity:1; fill:none\" points=\"169.121,454.708 188.019,454.708 \"/>\n",
       "<polyline clip-path=\"url(#clip140)\" style=\"stroke:#000000; stroke-linecap:round; stroke-linejoin:round; stroke-width:4; stroke-opacity:1; fill:none\" points=\"169.121,57.3502 188.019,57.3502 \"/>\n",
       "<path clip-path=\"url(#clip140)\" d=\"M121.177 1235.22 Q117.566 1235.22 115.737 1238.79 Q113.932 1242.33 113.932 1249.46 Q113.932 1256.57 115.737 1260.13 Q117.566 1263.67 121.177 1263.67 Q124.811 1263.67 126.617 1260.13 Q128.445 1256.57 128.445 1249.46 Q128.445 1242.33 126.617 1238.79 Q124.811 1235.22 121.177 1235.22 M121.177 1231.52 Q126.987 1231.52 130.043 1236.13 Q133.121 1240.71 133.121 1249.46 Q133.121 1258.19 130.043 1262.79 Q126.987 1267.38 121.177 1267.38 Q115.367 1267.38 112.288 1262.79 Q109.233 1258.19 109.233 1249.46 Q109.233 1240.71 112.288 1236.13 Q115.367 1231.52 121.177 1231.52 Z\" fill=\"#000000\" fill-rule=\"evenodd\" fill-opacity=\"1\" /><path clip-path=\"url(#clip140)\" d=\"M81.0614 834.786 L99.4178 834.786 L99.4178 838.721 L85.3438 838.721 L85.3438 847.193 Q86.3623 846.846 87.3808 846.684 Q88.3993 846.499 89.4178 846.499 Q95.2049 846.499 98.5845 849.67 Q101.964 852.841 101.964 858.258 Q101.964 863.837 98.4919 866.939 Q95.0197 870.017 88.7003 870.017 Q86.5243 870.017 84.2558 869.647 Q82.0105 869.277 79.6031 868.536 L79.6031 863.837 Q81.6864 864.971 83.9086 865.527 Q86.1308 866.082 88.6077 866.082 Q92.6123 866.082 94.9502 863.976 Q97.2882 861.869 97.2882 858.258 Q97.2882 854.647 94.9502 852.541 Q92.6123 850.434 88.6077 850.434 Q86.7327 850.434 84.8577 850.851 Q83.0058 851.267 81.0614 852.147 L81.0614 834.786 Z\" fill=\"#000000\" fill-rule=\"evenodd\" fill-opacity=\"1\" /><path clip-path=\"url(#clip140)\" d=\"M121.177 837.865 Q117.566 837.865 115.737 841.43 Q113.932 844.971 113.932 852.101 Q113.932 859.207 115.737 862.772 Q117.566 866.314 121.177 866.314 Q124.811 866.314 126.617 862.772 Q128.445 859.207 128.445 852.101 Q128.445 844.971 126.617 841.43 Q124.811 837.865 121.177 837.865 M121.177 834.161 Q126.987 834.161 130.043 838.767 Q133.121 843.351 133.121 852.101 Q133.121 860.828 130.043 865.434 Q126.987 870.017 121.177 870.017 Q115.367 870.017 112.288 865.434 Q109.233 860.828 109.233 852.101 Q109.233 843.351 112.288 838.767 Q115.367 834.161 121.177 834.161 Z\" fill=\"#000000\" fill-rule=\"evenodd\" fill-opacity=\"1\" /><path clip-path=\"url(#clip140)\" d=\"M51.6634 468.053 L59.3023 468.053 L59.3023 441.687 L50.9921 443.354 L50.9921 439.095 L59.256 437.428 L63.9319 437.428 L63.9319 468.053 L71.5707 468.053 L71.5707 471.988 L51.6634 471.988 L51.6634 468.053 Z\" fill=\"#000000\" fill-rule=\"evenodd\" fill-opacity=\"1\" /><path clip-path=\"url(#clip140)\" d=\"M91.0151 440.507 Q87.404 440.507 85.5753 444.072 Q83.7697 447.613 83.7697 454.743 Q83.7697 461.849 85.5753 465.414 Q87.404 468.956 91.0151 468.956 Q94.6493 468.956 96.4548 465.414 Q98.2835 461.849 98.2835 454.743 Q98.2835 447.613 96.4548 444.072 Q94.6493 440.507 91.0151 440.507 M91.0151 436.803 Q96.8252 436.803 99.8808 441.41 Q102.959 445.993 102.959 454.743 Q102.959 463.47 99.8808 468.076 Q96.8252 472.659 91.0151 472.659 Q85.2049 472.659 82.1262 468.076 Q79.0707 463.47 79.0707 454.743 Q79.0707 445.993 82.1262 441.41 Q85.2049 436.803 91.0151 436.803 Z\" fill=\"#000000\" fill-rule=\"evenodd\" fill-opacity=\"1\" /><path clip-path=\"url(#clip140)\" d=\"M121.177 440.507 Q117.566 440.507 115.737 444.072 Q113.932 447.613 113.932 454.743 Q113.932 461.849 115.737 465.414 Q117.566 468.956 121.177 468.956 Q124.811 468.956 126.617 465.414 Q128.445 461.849 128.445 454.743 Q128.445 447.613 126.617 444.072 Q124.811 440.507 121.177 440.507 M121.177 436.803 Q126.987 436.803 130.043 441.41 Q133.121 445.993 133.121 454.743 Q133.121 463.47 130.043 468.076 Q126.987 472.659 121.177 472.659 Q115.367 472.659 112.288 468.076 Q109.233 463.47 109.233 454.743 Q109.233 445.993 112.288 441.41 Q115.367 436.803 121.177 436.803 Z\" fill=\"#000000\" fill-rule=\"evenodd\" fill-opacity=\"1\" /><path clip-path=\"url(#clip140)\" d=\"M51.6634 70.695 L59.3023 70.695 L59.3023 44.3294 L50.9921 45.9961 L50.9921 41.7369 L59.256 40.0702 L63.9319 40.0702 L63.9319 70.695 L71.5707 70.695 L71.5707 74.6302 L51.6634 74.6302 L51.6634 70.695 Z\" fill=\"#000000\" fill-rule=\"evenodd\" fill-opacity=\"1\" /><path clip-path=\"url(#clip140)\" d=\"M81.0614 40.0702 L99.4178 40.0702 L99.4178 44.0054 L85.3438 44.0054 L85.3438 52.4776 Q86.3623 52.1303 87.3808 51.9683 Q88.3993 51.7831 89.4178 51.7831 Q95.2049 51.7831 98.5845 54.9544 Q101.964 58.1257 101.964 63.5423 Q101.964 69.121 98.4919 72.2228 Q95.0197 75.3015 88.7003 75.3015 Q86.5243 75.3015 84.2558 74.9311 Q82.0105 74.5608 79.6031 73.82 L79.6031 69.121 Q81.6864 70.2552 83.9086 70.8108 Q86.1308 71.3663 88.6077 71.3663 Q92.6123 71.3663 94.9502 69.2599 Q97.2882 67.1534 97.2882 63.5423 Q97.2882 59.9312 94.9502 57.8247 Q92.6123 55.7183 88.6077 55.7183 Q86.7327 55.7183 84.8577 56.1349 Q83.0058 56.5516 81.0614 57.4312 L81.0614 40.0702 Z\" fill=\"#000000\" fill-rule=\"evenodd\" fill-opacity=\"1\" /><path clip-path=\"url(#clip140)\" d=\"M121.177 43.1489 Q117.566 43.1489 115.737 46.7137 Q113.932 50.2553 113.932 57.3849 Q113.932 64.4914 115.737 68.0562 Q117.566 71.5978 121.177 71.5978 Q124.811 71.5978 126.617 68.0562 Q128.445 64.4914 128.445 57.3849 Q128.445 50.2553 126.617 46.7137 Q124.811 43.1489 121.177 43.1489 M121.177 39.4452 Q126.987 39.4452 130.043 44.0517 Q133.121 48.635 133.121 57.3849 Q133.121 66.1117 130.043 70.7182 Q126.987 75.3015 121.177 75.3015 Q115.367 75.3015 112.288 70.7182 Q109.233 66.1117 109.233 57.3849 Q109.233 48.635 112.288 44.0517 Q115.367 39.4452 121.177 39.4452 Z\" fill=\"#000000\" fill-rule=\"evenodd\" fill-opacity=\"1\" /><circle clip-path=\"url(#clip142)\" cx=\"230.922\" cy=\"694.382\" r=\"14.4\" fill=\"#009af9\" fill-rule=\"evenodd\" fill-opacity=\"1\" stroke=\"#000000\" stroke-opacity=\"1\" stroke-width=\"3.2\"/>\n",
       "<circle clip-path=\"url(#clip142)\" cx=\"333.924\" cy=\"641.627\" r=\"14.4\" fill=\"#009af9\" fill-rule=\"evenodd\" fill-opacity=\"1\" stroke=\"#000000\" stroke-opacity=\"1\" stroke-width=\"3.2\"/>\n",
       "<circle clip-path=\"url(#clip142)\" cx=\"436.926\" cy=\"925.49\" r=\"14.4\" fill=\"#009af9\" fill-rule=\"evenodd\" fill-opacity=\"1\" stroke=\"#000000\" stroke-opacity=\"1\" stroke-width=\"3.2\"/>\n",
       "<circle clip-path=\"url(#clip142)\" cx=\"539.927\" cy=\"1078.2\" r=\"14.4\" fill=\"#009af9\" fill-rule=\"evenodd\" fill-opacity=\"1\" stroke=\"#000000\" stroke-opacity=\"1\" stroke-width=\"3.2\"/>\n",
       "<circle clip-path=\"url(#clip142)\" cx=\"642.929\" cy=\"1130.89\" r=\"14.4\" fill=\"#009af9\" fill-rule=\"evenodd\" fill-opacity=\"1\" stroke=\"#000000\" stroke-opacity=\"1\" stroke-width=\"3.2\"/>\n",
       "<circle clip-path=\"url(#clip142)\" cx=\"745.93\" cy=\"1321.46\" r=\"14.4\" fill=\"#009af9\" fill-rule=\"evenodd\" fill-opacity=\"1\" stroke=\"#000000\" stroke-opacity=\"1\" stroke-width=\"3.2\"/>\n",
       "<circle clip-path=\"url(#clip142)\" cx=\"848.932\" cy=\"1319.35\" r=\"14.4\" fill=\"#009af9\" fill-rule=\"evenodd\" fill-opacity=\"1\" stroke=\"#000000\" stroke-opacity=\"1\" stroke-width=\"3.2\"/>\n",
       "<circle clip-path=\"url(#clip142)\" cx=\"951.934\" cy=\"1408.16\" r=\"14.4\" fill=\"#009af9\" fill-rule=\"evenodd\" fill-opacity=\"1\" stroke=\"#000000\" stroke-opacity=\"1\" stroke-width=\"3.2\"/>\n",
       "<circle clip-path=\"url(#clip142)\" cx=\"1054.94\" cy=\"1290.15\" r=\"14.4\" fill=\"#009af9\" fill-rule=\"evenodd\" fill-opacity=\"1\" stroke=\"#000000\" stroke-opacity=\"1\" stroke-width=\"3.2\"/>\n",
       "<circle clip-path=\"url(#clip142)\" cx=\"1157.94\" cy=\"1445.72\" r=\"14.4\" fill=\"#009af9\" fill-rule=\"evenodd\" fill-opacity=\"1\" stroke=\"#000000\" stroke-opacity=\"1\" stroke-width=\"3.2\"/>\n",
       "<circle clip-path=\"url(#clip142)\" cx=\"1260.94\" cy=\"1332.97\" r=\"14.4\" fill=\"#009af9\" fill-rule=\"evenodd\" fill-opacity=\"1\" stroke=\"#000000\" stroke-opacity=\"1\" stroke-width=\"3.2\"/>\n",
       "<circle clip-path=\"url(#clip142)\" cx=\"1363.94\" cy=\"1163.88\" r=\"14.4\" fill=\"#009af9\" fill-rule=\"evenodd\" fill-opacity=\"1\" stroke=\"#000000\" stroke-opacity=\"1\" stroke-width=\"3.2\"/>\n",
       "<circle clip-path=\"url(#clip142)\" cx=\"1466.94\" cy=\"1126.04\" r=\"14.4\" fill=\"#009af9\" fill-rule=\"evenodd\" fill-opacity=\"1\" stroke=\"#000000\" stroke-opacity=\"1\" stroke-width=\"3.2\"/>\n",
       "<circle clip-path=\"url(#clip142)\" cx=\"1569.94\" cy=\"981.409\" r=\"14.4\" fill=\"#009af9\" fill-rule=\"evenodd\" fill-opacity=\"1\" stroke=\"#000000\" stroke-opacity=\"1\" stroke-width=\"3.2\"/>\n",
       "<circle clip-path=\"url(#clip142)\" cx=\"1672.95\" cy=\"1096.81\" r=\"14.4\" fill=\"#009af9\" fill-rule=\"evenodd\" fill-opacity=\"1\" stroke=\"#000000\" stroke-opacity=\"1\" stroke-width=\"3.2\"/>\n",
       "<circle clip-path=\"url(#clip142)\" cx=\"1775.95\" cy=\"906.652\" r=\"14.4\" fill=\"#009af9\" fill-rule=\"evenodd\" fill-opacity=\"1\" stroke=\"#000000\" stroke-opacity=\"1\" stroke-width=\"3.2\"/>\n",
       "<circle clip-path=\"url(#clip142)\" cx=\"1878.95\" cy=\"761.744\" r=\"14.4\" fill=\"#009af9\" fill-rule=\"evenodd\" fill-opacity=\"1\" stroke=\"#000000\" stroke-opacity=\"1\" stroke-width=\"3.2\"/>\n",
       "<circle clip-path=\"url(#clip142)\" cx=\"1981.95\" cy=\"760.322\" r=\"14.4\" fill=\"#009af9\" fill-rule=\"evenodd\" fill-opacity=\"1\" stroke=\"#000000\" stroke-opacity=\"1\" stroke-width=\"3.2\"/>\n",
       "<circle clip-path=\"url(#clip142)\" cx=\"2084.95\" cy=\"543.315\" r=\"14.4\" fill=\"#009af9\" fill-rule=\"evenodd\" fill-opacity=\"1\" stroke=\"#000000\" stroke-opacity=\"1\" stroke-width=\"3.2\"/>\n",
       "<circle clip-path=\"url(#clip142)\" cx=\"2187.95\" cy=\"273.487\" r=\"14.4\" fill=\"#009af9\" fill-rule=\"evenodd\" fill-opacity=\"1\" stroke=\"#000000\" stroke-opacity=\"1\" stroke-width=\"3.2\"/>\n",
       "<circle clip-path=\"url(#clip142)\" cx=\"2290.95\" cy=\"89.0099\" r=\"14.4\" fill=\"#009af9\" fill-rule=\"evenodd\" fill-opacity=\"1\" stroke=\"#000000\" stroke-opacity=\"1\" stroke-width=\"3.2\"/>\n",
       "<polyline clip-path=\"url(#clip142)\" style=\"stroke:#e26f46; stroke-linecap:round; stroke-linejoin:round; stroke-width:4; stroke-opacity:1; fill:none\" points=\"230.922,709.017 333.924,836.172 436.926,947.432 539.927,1042.8 642.929,1122.27 745.93,1185.85 848.932,1233.53 951.934,1265.32 1054.94,1281.21 1157.94,1281.21 1260.94,1265.32 1363.94,1233.53 1466.94,1185.85 1569.94,1122.27 1672.95,1042.8 1775.95,947.432 1878.95,836.172 1981.95,709.017 2084.95,565.968 2187.95,407.025 2290.95,232.188 \"/>\n",
       "<polyline clip-path=\"url(#clip142)\" style=\"stroke:#3da44d; stroke-linecap:round; stroke-linejoin:round; stroke-width:4; stroke-opacity:1; fill:none\" points=\"230.922,652.103 333.924,802.757 436.926,934.584 539.927,1047.58 642.929,1141.75 745.93,1217.1 848.932,1273.62 951.934,1311.3 1054.94,1330.17 1157.94,1330.2 1260.94,1311.41 1363.94,1273.79 1466.94,1217.34 1569.94,1142.07 1672.95,1047.96 1775.95,935.035 1878.95,803.278 1981.95,652.694 2084.95,483.282 2187.95,295.043 2290.95,87.9763 \"/>\n",
       "<path clip-path=\"url(#clip140)\" d=\"M241.909 302.578 L673.119 302.578 L673.119 95.2176 L241.909 95.2176  Z\" fill=\"#ffffff\" fill-rule=\"evenodd\" fill-opacity=\"1\"/>\n",
       "<polyline clip-path=\"url(#clip140)\" style=\"stroke:#000000; stroke-linecap:round; stroke-linejoin:round; stroke-width:4; stroke-opacity:1; fill:none\" points=\"241.909,302.578 673.119,302.578 673.119,95.2176 241.909,95.2176 241.909,302.578 \"/>\n",
       "<circle clip-path=\"url(#clip140)\" cx=\"338.96\" cy=\"147.058\" r=\"23.04\" fill=\"#009af9\" fill-rule=\"evenodd\" fill-opacity=\"1\" stroke=\"#000000\" stroke-opacity=\"1\" stroke-width=\"5.12\"/>\n",
       "<path clip-path=\"url(#clip140)\" d=\"M447.908 141.398 Q444.482 141.398 442.491 144.083 Q440.501 146.745 440.501 151.398 Q440.501 156.051 442.468 158.736 Q444.459 161.398 447.908 161.398 Q451.311 161.398 453.302 158.713 Q455.292 156.027 455.292 151.398 Q455.292 146.791 453.302 144.106 Q451.311 141.398 447.908 141.398 M447.908 137.787 Q453.464 137.787 456.635 141.398 Q459.806 145.009 459.806 151.398 Q459.806 157.764 456.635 161.398 Q453.464 165.009 447.908 165.009 Q442.329 165.009 439.158 161.398 Q436.01 157.764 436.01 151.398 Q436.01 145.009 439.158 141.398 Q442.329 137.787 447.908 137.787 Z\" fill=\"#000000\" fill-rule=\"evenodd\" fill-opacity=\"1\" /><path clip-path=\"url(#clip140)\" d=\"M485.477 151.398 Q485.477 146.699 483.533 144.037 Q481.612 141.352 478.232 141.352 Q474.852 141.352 472.908 144.037 Q470.987 146.699 470.987 151.398 Q470.987 156.097 472.908 158.782 Q474.852 161.444 478.232 161.444 Q481.612 161.444 483.533 158.782 Q485.477 156.097 485.477 151.398 M470.987 142.347 Q472.329 140.032 474.366 138.921 Q476.426 137.787 479.274 137.787 Q483.996 137.787 486.936 141.537 Q489.899 145.287 489.899 151.398 Q489.899 157.509 486.936 161.259 Q483.996 165.009 479.274 165.009 Q476.426 165.009 474.366 163.898 Q472.329 162.763 470.987 160.449 L470.987 164.338 L466.704 164.338 L466.704 128.319 L470.987 128.319 L470.987 142.347 Z\" fill=\"#000000\" fill-rule=\"evenodd\" fill-opacity=\"1\" /><path clip-path=\"url(#clip140)\" d=\"M513.486 139.176 L513.486 143.203 Q511.681 142.277 509.736 141.815 Q507.792 141.352 505.709 141.352 Q502.537 141.352 500.94 142.324 Q499.366 143.296 499.366 145.24 Q499.366 146.722 500.5 147.578 Q501.635 148.412 505.061 149.176 L506.519 149.5 Q511.056 150.472 512.954 152.254 Q514.875 154.014 514.875 157.185 Q514.875 160.796 512.005 162.902 Q509.158 165.009 504.158 165.009 Q502.074 165.009 499.806 164.592 Q497.561 164.199 495.061 163.388 L495.061 158.99 Q497.422 160.217 499.713 160.842 Q502.005 161.444 504.25 161.444 Q507.26 161.444 508.88 160.426 Q510.5 159.384 510.5 157.509 Q510.5 155.773 509.32 154.847 Q508.162 153.921 504.204 153.064 L502.723 152.717 Q498.764 151.884 497.005 150.171 Q495.246 148.435 495.246 145.426 Q495.246 141.768 497.838 139.778 Q500.431 137.787 505.199 137.787 Q507.561 137.787 509.644 138.134 Q511.727 138.481 513.486 139.176 Z\" fill=\"#000000\" fill-rule=\"evenodd\" fill-opacity=\"1\" /><path clip-path=\"url(#clip140)\" d=\"M543.833 150.31 L543.833 152.393 L524.25 152.393 Q524.528 156.791 526.889 159.106 Q529.273 161.398 533.509 161.398 Q535.963 161.398 538.255 160.796 Q540.57 160.194 542.838 158.99 L542.838 163.018 Q540.546 163.99 538.139 164.5 Q535.732 165.009 533.255 165.009 Q527.051 165.009 523.417 161.398 Q519.806 157.787 519.806 151.629 Q519.806 145.264 523.232 141.537 Q526.681 137.787 532.514 137.787 Q537.746 137.787 540.778 141.166 Q543.833 144.523 543.833 150.31 M539.574 149.06 Q539.528 145.565 537.607 143.481 Q535.709 141.398 532.56 141.398 Q528.996 141.398 526.843 143.412 Q524.713 145.426 524.389 149.083 L539.574 149.06 Z\" fill=\"#000000\" fill-rule=\"evenodd\" fill-opacity=\"1\" /><path clip-path=\"url(#clip140)\" d=\"M565.847 142.393 Q565.13 141.977 564.273 141.791 Q563.44 141.583 562.421 141.583 Q558.81 141.583 556.866 143.944 Q554.945 146.282 554.945 150.68 L554.945 164.338 L550.662 164.338 L550.662 138.412 L554.945 138.412 L554.945 142.44 Q556.287 140.078 558.44 138.944 Q560.593 137.787 563.671 137.787 Q564.111 137.787 564.644 137.856 Q565.176 137.903 565.824 138.018 L565.847 142.393 Z\" fill=\"#000000\" fill-rule=\"evenodd\" fill-opacity=\"1\" /><path clip-path=\"url(#clip140)\" d=\"M567.259 138.412 L571.773 138.412 L579.875 160.171 L587.977 138.412 L592.491 138.412 L582.768 164.338 L576.981 164.338 L567.259 138.412 Z\" fill=\"#000000\" fill-rule=\"evenodd\" fill-opacity=\"1\" /><path clip-path=\"url(#clip140)\" d=\"M620.546 150.31 L620.546 152.393 L600.963 152.393 Q601.241 156.791 603.602 159.106 Q605.986 161.398 610.222 161.398 Q612.676 161.398 614.967 160.796 Q617.282 160.194 619.551 158.99 L619.551 163.018 Q617.259 163.99 614.852 164.5 Q612.444 165.009 609.967 165.009 Q603.764 165.009 600.129 161.398 Q596.518 157.787 596.518 151.629 Q596.518 145.264 599.944 141.537 Q603.393 137.787 609.227 137.787 Q614.458 137.787 617.49 141.166 Q620.546 144.523 620.546 150.31 M616.287 149.06 Q616.241 145.565 614.319 143.481 Q612.421 141.398 609.273 141.398 Q605.708 141.398 603.555 143.412 Q601.426 145.426 601.102 149.083 L616.287 149.06 Z\" fill=\"#000000\" fill-rule=\"evenodd\" fill-opacity=\"1\" /><path clip-path=\"url(#clip140)\" d=\"M644.597 142.347 L644.597 128.319 L648.856 128.319 L648.856 164.338 L644.597 164.338 L644.597 160.449 Q643.254 162.763 641.194 163.898 Q639.157 165.009 636.287 165.009 Q631.588 165.009 628.625 161.259 Q625.685 157.509 625.685 151.398 Q625.685 145.287 628.625 141.537 Q631.588 137.787 636.287 137.787 Q639.157 137.787 641.194 138.921 Q643.254 140.032 644.597 142.347 M630.083 151.398 Q630.083 156.097 632.004 158.782 Q633.949 161.444 637.328 161.444 Q640.708 161.444 642.652 158.782 Q644.597 156.097 644.597 151.398 Q644.597 146.699 642.652 144.037 Q640.708 141.352 637.328 141.352 Q633.949 141.352 632.004 144.037 Q630.083 146.699 630.083 151.398 Z\" fill=\"#000000\" fill-rule=\"evenodd\" fill-opacity=\"1\" /><polyline clip-path=\"url(#clip140)\" style=\"stroke:#e26f46; stroke-linecap:round; stroke-linejoin:round; stroke-width:4; stroke-opacity:1; fill:none\" points=\"266.172,198.898 411.747,198.898 \"/>\n",
       "<path clip-path=\"url(#clip140)\" d=\"M443.417 182.891 L443.417 190.252 L452.19 190.252 L452.19 193.562 L443.417 193.562 L443.417 207.636 Q443.417 210.807 444.274 211.71 Q445.153 212.613 447.815 212.613 L452.19 212.613 L452.19 216.178 L447.815 216.178 Q442.885 216.178 441.01 214.349 Q439.135 212.497 439.135 207.636 L439.135 193.562 L436.01 193.562 L436.01 190.252 L439.135 190.252 L439.135 182.891 L443.417 182.891 Z\" fill=\"#000000\" fill-rule=\"evenodd\" fill-opacity=\"1\" /><path clip-path=\"url(#clip140)\" d=\"M472.815 194.233 Q472.098 193.817 471.241 193.631 Q470.408 193.423 469.389 193.423 Q465.778 193.423 463.834 195.784 Q461.913 198.122 461.913 202.52 L461.913 216.178 L457.63 216.178 L457.63 190.252 L461.913 190.252 L461.913 194.28 Q463.255 191.918 465.408 190.784 Q467.561 189.627 470.639 189.627 Q471.079 189.627 471.612 189.696 Q472.144 189.743 472.792 189.858 L472.815 194.233 Z\" fill=\"#000000\" fill-rule=\"evenodd\" fill-opacity=\"1\" /><path clip-path=\"url(#clip140)\" d=\"M476.843 205.946 L476.843 190.252 L481.102 190.252 L481.102 205.784 Q481.102 209.465 482.538 211.316 Q483.973 213.145 486.843 213.145 Q490.292 213.145 492.283 210.946 Q494.297 208.747 494.297 204.951 L494.297 190.252 L498.556 190.252 L498.556 216.178 L494.297 216.178 L494.297 212.196 Q492.746 214.557 490.686 215.715 Q488.649 216.849 485.94 216.849 Q481.473 216.849 479.158 214.071 Q476.843 211.293 476.843 205.946 M487.561 189.627 L487.561 189.627 Z\" fill=\"#000000\" fill-rule=\"evenodd\" fill-opacity=\"1\" /><path clip-path=\"url(#clip140)\" d=\"M529.505 202.15 L529.505 204.233 L509.922 204.233 Q510.199 208.631 512.561 210.946 Q514.945 213.238 519.181 213.238 Q521.635 213.238 523.926 212.636 Q526.241 212.034 528.509 210.83 L528.509 214.858 Q526.218 215.83 523.81 216.34 Q521.403 216.849 518.926 216.849 Q512.723 216.849 509.088 213.238 Q505.477 209.627 505.477 203.469 Q505.477 197.104 508.903 193.377 Q512.352 189.627 518.185 189.627 Q523.417 189.627 526.449 193.006 Q529.505 196.363 529.505 202.15 M525.246 200.9 Q525.199 197.405 523.278 195.321 Q521.38 193.238 518.232 193.238 Q514.667 193.238 512.514 195.252 Q510.385 197.266 510.061 200.923 L525.246 200.9 Z\" fill=\"#000000\" fill-rule=\"evenodd\" fill-opacity=\"1\" /><polyline clip-path=\"url(#clip140)\" style=\"stroke:#3da44d; stroke-linecap:round; stroke-linejoin:round; stroke-width:4; stroke-opacity:1; fill:none\" points=\"266.172,250.738 411.747,250.738 \"/>\n",
       "<path clip-path=\"url(#clip140)\" d=\"M452.515 231.999 L452.515 235.541 L448.44 235.541 Q446.149 235.541 445.246 236.467 Q444.366 237.393 444.366 239.8 L444.366 242.092 L451.38 242.092 L451.38 245.402 L444.366 245.402 L444.366 268.018 L440.084 268.018 L440.084 245.402 L436.01 245.402 L436.01 242.092 L440.084 242.092 L440.084 240.286 Q440.084 235.958 442.098 233.99 Q444.112 231.999 448.487 231.999 L452.515 231.999 Z\" fill=\"#000000\" fill-rule=\"evenodd\" fill-opacity=\"1\" /><path clip-path=\"url(#clip140)\" d=\"M456.079 242.092 L460.339 242.092 L460.339 268.018 L456.079 268.018 L456.079 242.092 M456.079 231.999 L460.339 231.999 L460.339 237.393 L456.079 237.393 L456.079 231.999 Z\" fill=\"#000000\" fill-rule=\"evenodd\" fill-opacity=\"1\" /><path clip-path=\"url(#clip140)\" d=\"M473.463 234.731 L473.463 242.092 L482.237 242.092 L482.237 245.402 L473.463 245.402 L473.463 259.476 Q473.463 262.647 474.32 263.55 Q475.2 264.453 477.862 264.453 L482.237 264.453 L482.237 268.018 L477.862 268.018 Q472.931 268.018 471.056 266.189 Q469.181 264.337 469.181 259.476 L469.181 245.402 L466.056 245.402 L466.056 242.092 L469.181 242.092 L469.181 234.731 L473.463 234.731 Z\" fill=\"#000000\" fill-rule=\"evenodd\" fill-opacity=\"1\" /><path clip-path=\"url(#clip140)\" d=\"M492.051 234.731 L492.051 242.092 L500.824 242.092 L500.824 245.402 L492.051 245.402 L492.051 259.476 Q492.051 262.647 492.908 263.55 Q493.787 264.453 496.449 264.453 L500.824 264.453 L500.824 268.018 L496.449 268.018 Q491.519 268.018 489.644 266.189 Q487.769 264.337 487.769 259.476 L487.769 245.402 L484.644 245.402 L484.644 242.092 L487.769 242.092 L487.769 234.731 L492.051 234.731 Z\" fill=\"#000000\" fill-rule=\"evenodd\" fill-opacity=\"1\" /><path clip-path=\"url(#clip140)\" d=\"M528.602 253.99 L528.602 256.073 L509.019 256.073 Q509.297 260.471 511.658 262.786 Q514.042 265.078 518.278 265.078 Q520.732 265.078 523.023 264.476 Q525.338 263.874 527.607 262.67 L527.607 266.698 Q525.315 267.67 522.908 268.18 Q520.5 268.689 518.023 268.689 Q511.82 268.689 508.186 265.078 Q504.574 261.467 504.574 255.309 Q504.574 248.944 508 245.217 Q511.449 241.467 517.283 241.467 Q522.514 241.467 525.547 244.846 Q528.602 248.203 528.602 253.99 M524.343 252.74 Q524.297 249.245 522.375 247.161 Q520.477 245.078 517.329 245.078 Q513.764 245.078 511.611 247.092 Q509.482 249.106 509.158 252.763 L524.343 252.74 Z\" fill=\"#000000\" fill-rule=\"evenodd\" fill-opacity=\"1\" /><path clip-path=\"url(#clip140)\" d=\"M552.653 246.027 L552.653 231.999 L556.912 231.999 L556.912 268.018 L552.653 268.018 L552.653 264.129 Q551.31 266.443 549.25 267.578 Q547.213 268.689 544.343 268.689 Q539.644 268.689 536.681 264.939 Q533.741 261.189 533.741 255.078 Q533.741 248.967 536.681 245.217 Q539.644 241.467 544.343 241.467 Q547.213 241.467 549.25 242.601 Q551.31 243.712 552.653 246.027 M538.139 255.078 Q538.139 259.777 540.06 262.462 Q542.005 265.124 545.384 265.124 Q548.764 265.124 550.708 262.462 Q552.653 259.777 552.653 255.078 Q552.653 250.379 550.708 247.717 Q548.764 245.032 545.384 245.032 Q542.005 245.032 540.06 247.717 Q538.139 250.379 538.139 255.078 Z\" fill=\"#000000\" fill-rule=\"evenodd\" fill-opacity=\"1\" /></svg>\n"
      ]
     },
     "execution_count": 148,
     "metadata": {},
     "output_type": "execute_result"
    }
   ],
   "source": [
    "using Plots \n",
    "using Polynomials\n",
    "scatter(x,y_observed,labels = \"observed\")\n",
    "plot!(x,y_true,labels = \"true\")\n",
    "line_fit = Polynomials.fit(x,y_observed,2)\n",
    "fit_coeffs = coeffs(line_fit)\n",
    "y_fitted = fit_coeffs[1] .+ fit_coeffs[2] .* x .+ fit_coeffs[3] .* (x.^2)\n",
    "plot!(x,y_fitted,labels = \"fitted\" )"
   ]
  },
  {
   "cell_type": "markdown",
   "id": "b3b5a343",
   "metadata": {},
   "source": [
    "### 2.4\n",
    "\n",
    "1. Repeat 2.2 and 2.3 with a noise with a standard deviation of 50"
   ]
  },
  {
   "cell_type": "code",
   "execution_count": 149,
   "id": "b4c08499",
   "metadata": {},
   "outputs": [
    {
     "data": {
      "image/svg+xml": [
       "<?xml version=\"1.0\" encoding=\"utf-8\"?>\n",
       "<svg xmlns=\"http://www.w3.org/2000/svg\" xmlns:xlink=\"http://www.w3.org/1999/xlink\" width=\"600\" height=\"400\" viewBox=\"0 0 2400 1600\">\n",
       "<defs>\n",
       "  <clipPath id=\"clip180\">\n",
       "    <rect x=\"0\" y=\"0\" width=\"2400\" height=\"1600\"/>\n",
       "  </clipPath>\n",
       "</defs>\n",
       "<path clip-path=\"url(#clip180)\" d=\"M0 1600 L2400 1600 L2400 0 L0 0  Z\" fill=\"#ffffff\" fill-rule=\"evenodd\" fill-opacity=\"1\"/>\n",
       "<defs>\n",
       "  <clipPath id=\"clip181\">\n",
       "    <rect x=\"480\" y=\"0\" width=\"1681\" height=\"1600\"/>\n",
       "  </clipPath>\n",
       "</defs>\n",
       "<path clip-path=\"url(#clip180)\" d=\"M178.867 1486.45 L2352.76 1486.45 L2352.76 47.2441 L178.867 47.2441  Z\" fill=\"#ffffff\" fill-rule=\"evenodd\" fill-opacity=\"1\"/>\n",
       "<defs>\n",
       "  <clipPath id=\"clip182\">\n",
       "    <rect x=\"178\" y=\"47\" width=\"2175\" height=\"1440\"/>\n",
       "  </clipPath>\n",
       "</defs>\n",
       "<polyline clip-path=\"url(#clip182)\" style=\"stroke:#000000; stroke-linecap:round; stroke-linejoin:round; stroke-width:2; stroke-opacity:0.1; fill:none\" points=\"240.392,1486.45 240.392,47.2441 \"/>\n",
       "<polyline clip-path=\"url(#clip182)\" style=\"stroke:#000000; stroke-linecap:round; stroke-linejoin:round; stroke-width:2; stroke-opacity:0.1; fill:none\" points=\"753.102,1486.45 753.102,47.2441 \"/>\n",
       "<polyline clip-path=\"url(#clip182)\" style=\"stroke:#000000; stroke-linecap:round; stroke-linejoin:round; stroke-width:2; stroke-opacity:0.1; fill:none\" points=\"1265.81,1486.45 1265.81,47.2441 \"/>\n",
       "<polyline clip-path=\"url(#clip182)\" style=\"stroke:#000000; stroke-linecap:round; stroke-linejoin:round; stroke-width:2; stroke-opacity:0.1; fill:none\" points=\"1778.52,1486.45 1778.52,47.2441 \"/>\n",
       "<polyline clip-path=\"url(#clip182)\" style=\"stroke:#000000; stroke-linecap:round; stroke-linejoin:round; stroke-width:2; stroke-opacity:0.1; fill:none\" points=\"2291.23,1486.45 2291.23,47.2441 \"/>\n",
       "<polyline clip-path=\"url(#clip180)\" style=\"stroke:#000000; stroke-linecap:round; stroke-linejoin:round; stroke-width:4; stroke-opacity:1; fill:none\" points=\"178.867,1486.45 2352.76,1486.45 \"/>\n",
       "<polyline clip-path=\"url(#clip180)\" style=\"stroke:#000000; stroke-linecap:round; stroke-linejoin:round; stroke-width:4; stroke-opacity:1; fill:none\" points=\"240.392,1486.45 240.392,1467.55 \"/>\n",
       "<polyline clip-path=\"url(#clip180)\" style=\"stroke:#000000; stroke-linecap:round; stroke-linejoin:round; stroke-width:4; stroke-opacity:1; fill:none\" points=\"753.102,1486.45 753.102,1467.55 \"/>\n",
       "<polyline clip-path=\"url(#clip180)\" style=\"stroke:#000000; stroke-linecap:round; stroke-linejoin:round; stroke-width:4; stroke-opacity:1; fill:none\" points=\"1265.81,1486.45 1265.81,1467.55 \"/>\n",
       "<polyline clip-path=\"url(#clip180)\" style=\"stroke:#000000; stroke-linecap:round; stroke-linejoin:round; stroke-width:4; stroke-opacity:1; fill:none\" points=\"1778.52,1486.45 1778.52,1467.55 \"/>\n",
       "<polyline clip-path=\"url(#clip180)\" style=\"stroke:#000000; stroke-linecap:round; stroke-linejoin:round; stroke-width:4; stroke-opacity:1; fill:none\" points=\"2291.23,1486.45 2291.23,1467.55 \"/>\n",
       "<path clip-path=\"url(#clip180)\" d=\"M194.455 1532.02 L224.13 1532.02 L224.13 1535.95 L194.455 1535.95 L194.455 1532.02 Z\" fill=\"#000000\" fill-rule=\"evenodd\" fill-opacity=\"1\" /><path clip-path=\"url(#clip180)\" d=\"M235.033 1544.91 L242.672 1544.91 L242.672 1518.55 L234.362 1520.21 L234.362 1515.95 L242.626 1514.29 L247.301 1514.29 L247.301 1544.91 L254.94 1544.91 L254.94 1548.85 L235.033 1548.85 L235.033 1544.91 Z\" fill=\"#000000\" fill-rule=\"evenodd\" fill-opacity=\"1\" /><path clip-path=\"url(#clip180)\" d=\"M274.385 1517.37 Q270.774 1517.37 268.945 1520.93 Q267.139 1524.47 267.139 1531.6 Q267.139 1538.71 268.945 1542.27 Q270.774 1545.82 274.385 1545.82 Q278.019 1545.82 279.824 1542.27 Q281.653 1538.71 281.653 1531.6 Q281.653 1524.47 279.824 1520.93 Q278.019 1517.37 274.385 1517.37 M274.385 1513.66 Q280.195 1513.66 283.25 1518.27 Q286.329 1522.85 286.329 1531.6 Q286.329 1540.33 283.25 1544.94 Q280.195 1549.52 274.385 1549.52 Q268.575 1549.52 265.496 1544.94 Q262.44 1540.33 262.44 1531.6 Q262.44 1522.85 265.496 1518.27 Q268.575 1513.66 274.385 1513.66 Z\" fill=\"#000000\" fill-rule=\"evenodd\" fill-opacity=\"1\" /><path clip-path=\"url(#clip180)\" d=\"M722.743 1532.02 L752.419 1532.02 L752.419 1535.95 L722.743 1535.95 L722.743 1532.02 Z\" fill=\"#000000\" fill-rule=\"evenodd\" fill-opacity=\"1\" /><path clip-path=\"url(#clip180)\" d=\"M762.558 1514.29 L780.914 1514.29 L780.914 1518.22 L766.84 1518.22 L766.84 1526.7 Q767.858 1526.35 768.877 1526.19 Q769.895 1526 770.914 1526 Q776.701 1526 780.081 1529.17 Q783.46 1532.34 783.46 1537.76 Q783.46 1543.34 779.988 1546.44 Q776.516 1549.52 770.196 1549.52 Q768.02 1549.52 765.752 1549.15 Q763.507 1548.78 761.099 1548.04 L761.099 1543.34 Q763.183 1544.47 765.405 1545.03 Q767.627 1545.58 770.104 1545.58 Q774.108 1545.58 776.446 1543.48 Q778.784 1541.37 778.784 1537.76 Q778.784 1534.15 776.446 1532.04 Q774.108 1529.94 770.104 1529.94 Q768.229 1529.94 766.354 1530.35 Q764.502 1530.77 762.558 1531.65 L762.558 1514.29 Z\" fill=\"#000000\" fill-rule=\"evenodd\" fill-opacity=\"1\" /><path clip-path=\"url(#clip180)\" d=\"M1265.81 1517.37 Q1262.2 1517.37 1260.37 1520.93 Q1258.57 1524.47 1258.57 1531.6 Q1258.57 1538.71 1260.37 1542.27 Q1262.2 1545.82 1265.81 1545.82 Q1269.45 1545.82 1271.25 1542.27 Q1273.08 1538.71 1273.08 1531.6 Q1273.08 1524.47 1271.25 1520.93 Q1269.45 1517.37 1265.81 1517.37 M1265.81 1513.66 Q1271.62 1513.66 1274.68 1518.27 Q1277.76 1522.85 1277.76 1531.6 Q1277.76 1540.33 1274.68 1544.94 Q1271.62 1549.52 1265.81 1549.52 Q1260 1549.52 1256.92 1544.94 Q1253.87 1540.33 1253.87 1531.6 Q1253.87 1522.85 1256.92 1518.27 Q1260 1513.66 1265.81 1513.66 Z\" fill=\"#000000\" fill-rule=\"evenodd\" fill-opacity=\"1\" /><path clip-path=\"url(#clip180)\" d=\"M1768.8 1514.29 L1787.16 1514.29 L1787.16 1518.22 L1773.08 1518.22 L1773.08 1526.7 Q1774.1 1526.35 1775.12 1526.19 Q1776.14 1526 1777.16 1526 Q1782.94 1526 1786.32 1529.17 Q1789.7 1532.34 1789.7 1537.76 Q1789.7 1543.34 1786.23 1546.44 Q1782.76 1549.52 1776.44 1549.52 Q1774.26 1549.52 1771.99 1549.15 Q1769.75 1548.78 1767.34 1548.04 L1767.34 1543.34 Q1769.42 1544.47 1771.65 1545.03 Q1773.87 1545.58 1776.35 1545.58 Q1780.35 1545.58 1782.69 1543.48 Q1785.03 1541.37 1785.03 1537.76 Q1785.03 1534.15 1782.69 1532.04 Q1780.35 1529.94 1776.35 1529.94 Q1774.47 1529.94 1772.6 1530.35 Q1770.74 1530.77 1768.8 1531.65 L1768.8 1514.29 Z\" fill=\"#000000\" fill-rule=\"evenodd\" fill-opacity=\"1\" /><path clip-path=\"url(#clip180)\" d=\"M2265.92 1544.91 L2273.56 1544.91 L2273.56 1518.55 L2265.25 1520.21 L2265.25 1515.95 L2273.51 1514.29 L2278.19 1514.29 L2278.19 1544.91 L2285.83 1544.91 L2285.83 1548.85 L2265.92 1548.85 L2265.92 1544.91 Z\" fill=\"#000000\" fill-rule=\"evenodd\" fill-opacity=\"1\" /><path clip-path=\"url(#clip180)\" d=\"M2305.27 1517.37 Q2301.66 1517.37 2299.83 1520.93 Q2298.02 1524.47 2298.02 1531.6 Q2298.02 1538.71 2299.83 1542.27 Q2301.66 1545.82 2305.27 1545.82 Q2308.9 1545.82 2310.71 1542.27 Q2312.54 1538.71 2312.54 1531.6 Q2312.54 1524.47 2310.71 1520.93 Q2308.9 1517.37 2305.27 1517.37 M2305.27 1513.66 Q2311.08 1513.66 2314.14 1518.27 Q2317.21 1522.85 2317.21 1531.6 Q2317.21 1540.33 2314.14 1544.94 Q2311.08 1549.52 2305.27 1549.52 Q2299.46 1549.52 2296.38 1544.94 Q2293.33 1540.33 2293.33 1531.6 Q2293.33 1522.85 2296.38 1518.27 Q2299.46 1513.66 2305.27 1513.66 Z\" fill=\"#000000\" fill-rule=\"evenodd\" fill-opacity=\"1\" /><polyline clip-path=\"url(#clip182)\" style=\"stroke:#000000; stroke-linecap:round; stroke-linejoin:round; stroke-width:2; stroke-opacity:0.1; fill:none\" points=\"178.867,1399.24 2352.76,1399.24 \"/>\n",
       "<polyline clip-path=\"url(#clip182)\" style=\"stroke:#000000; stroke-linecap:round; stroke-linejoin:round; stroke-width:2; stroke-opacity:0.1; fill:none\" points=\"178.867,1119.34 2352.76,1119.34 \"/>\n",
       "<polyline clip-path=\"url(#clip182)\" style=\"stroke:#000000; stroke-linecap:round; stroke-linejoin:round; stroke-width:2; stroke-opacity:0.1; fill:none\" points=\"178.867,839.439 2352.76,839.439 \"/>\n",
       "<polyline clip-path=\"url(#clip182)\" style=\"stroke:#000000; stroke-linecap:round; stroke-linejoin:round; stroke-width:2; stroke-opacity:0.1; fill:none\" points=\"178.867,559.54 2352.76,559.54 \"/>\n",
       "<polyline clip-path=\"url(#clip182)\" style=\"stroke:#000000; stroke-linecap:round; stroke-linejoin:round; stroke-width:2; stroke-opacity:0.1; fill:none\" points=\"178.867,279.641 2352.76,279.641 \"/>\n",
       "<polyline clip-path=\"url(#clip180)\" style=\"stroke:#000000; stroke-linecap:round; stroke-linejoin:round; stroke-width:4; stroke-opacity:1; fill:none\" points=\"178.867,1486.45 178.867,47.2441 \"/>\n",
       "<polyline clip-path=\"url(#clip180)\" style=\"stroke:#000000; stroke-linecap:round; stroke-linejoin:round; stroke-width:4; stroke-opacity:1; fill:none\" points=\"178.867,1399.24 197.764,1399.24 \"/>\n",
       "<polyline clip-path=\"url(#clip180)\" style=\"stroke:#000000; stroke-linecap:round; stroke-linejoin:round; stroke-width:4; stroke-opacity:1; fill:none\" points=\"178.867,1119.34 197.764,1119.34 \"/>\n",
       "<polyline clip-path=\"url(#clip180)\" style=\"stroke:#000000; stroke-linecap:round; stroke-linejoin:round; stroke-width:4; stroke-opacity:1; fill:none\" points=\"178.867,839.439 197.764,839.439 \"/>\n",
       "<polyline clip-path=\"url(#clip180)\" style=\"stroke:#000000; stroke-linecap:round; stroke-linejoin:round; stroke-width:4; stroke-opacity:1; fill:none\" points=\"178.867,559.54 197.764,559.54 \"/>\n",
       "<polyline clip-path=\"url(#clip180)\" style=\"stroke:#000000; stroke-linecap:round; stroke-linejoin:round; stroke-width:4; stroke-opacity:1; fill:none\" points=\"178.867,279.641 197.764,279.641 \"/>\n",
       "<path clip-path=\"url(#clip180)\" d=\"M50.9921 1399.69 L80.6679 1399.69 L80.6679 1403.62 L50.9921 1403.62 L50.9921 1399.69 Z\" fill=\"#000000\" fill-rule=\"evenodd\" fill-opacity=\"1\" /><path clip-path=\"url(#clip180)\" d=\"M90.8067 1381.96 L109.163 1381.96 L109.163 1385.89 L95.0891 1385.89 L95.0891 1394.36 Q96.1076 1394.02 97.1261 1393.85 Q98.1447 1393.67 99.1632 1393.67 Q104.95 1393.67 108.33 1396.84 Q111.709 1400.01 111.709 1405.43 Q111.709 1411.01 108.237 1414.11 Q104.765 1417.19 98.4456 1417.19 Q96.2697 1417.19 94.0012 1416.82 Q91.7558 1416.45 89.3484 1415.71 L89.3484 1411.01 Q91.4317 1412.14 93.6539 1412.7 Q95.8761 1413.25 98.353 1413.25 Q102.358 1413.25 104.696 1411.15 Q107.033 1409.04 107.033 1405.43 Q107.033 1401.82 104.696 1399.71 Q102.358 1397.6 98.353 1397.6 Q96.478 1397.6 94.603 1398.02 Q92.7512 1398.44 90.8067 1399.32 L90.8067 1381.96 Z\" fill=\"#000000\" fill-rule=\"evenodd\" fill-opacity=\"1\" /><path clip-path=\"url(#clip180)\" d=\"M130.922 1385.03 Q127.311 1385.03 125.482 1388.6 Q123.677 1392.14 123.677 1399.27 Q123.677 1406.38 125.482 1409.94 Q127.311 1413.48 130.922 1413.48 Q134.556 1413.48 136.362 1409.94 Q138.191 1406.38 138.191 1399.27 Q138.191 1392.14 136.362 1388.6 Q134.556 1385.03 130.922 1385.03 M130.922 1381.33 Q136.732 1381.33 139.788 1385.94 Q142.867 1390.52 142.867 1399.27 Q142.867 1408 139.788 1412.6 Q136.732 1417.19 130.922 1417.19 Q125.112 1417.19 122.033 1412.6 Q118.978 1408 118.978 1399.27 Q118.978 1390.52 122.033 1385.94 Q125.112 1381.33 130.922 1381.33 Z\" fill=\"#000000\" fill-rule=\"evenodd\" fill-opacity=\"1\" /><path clip-path=\"url(#clip180)\" d=\"M130.922 1105.14 Q127.311 1105.14 125.482 1108.7 Q123.677 1112.24 123.677 1119.37 Q123.677 1126.48 125.482 1130.04 Q127.311 1133.58 130.922 1133.58 Q134.556 1133.58 136.362 1130.04 Q138.191 1126.48 138.191 1119.37 Q138.191 1112.24 136.362 1108.7 Q134.556 1105.14 130.922 1105.14 M130.922 1101.43 Q136.732 1101.43 139.788 1106.04 Q142.867 1110.62 142.867 1119.37 Q142.867 1128.1 139.788 1132.71 Q136.732 1137.29 130.922 1137.29 Q125.112 1137.29 122.033 1132.71 Q118.978 1128.1 118.978 1119.37 Q118.978 1110.62 122.033 1106.04 Q125.112 1101.43 130.922 1101.43 Z\" fill=\"#000000\" fill-rule=\"evenodd\" fill-opacity=\"1\" /><path clip-path=\"url(#clip180)\" d=\"M90.8067 822.159 L109.163 822.159 L109.163 826.094 L95.0891 826.094 L95.0891 834.566 Q96.1076 834.219 97.1261 834.057 Q98.1447 833.872 99.1632 833.872 Q104.95 833.872 108.33 837.043 Q111.709 840.214 111.709 845.631 Q111.709 851.209 108.237 854.311 Q104.765 857.39 98.4456 857.39 Q96.2697 857.39 94.0012 857.02 Q91.7558 856.649 89.3484 855.908 L89.3484 851.209 Q91.4317 852.344 93.6539 852.899 Q95.8761 853.455 98.353 853.455 Q102.358 853.455 104.696 851.348 Q107.033 849.242 107.033 845.631 Q107.033 842.02 104.696 839.913 Q102.358 837.807 98.353 837.807 Q96.478 837.807 94.603 838.223 Q92.7512 838.64 90.8067 839.52 L90.8067 822.159 Z\" fill=\"#000000\" fill-rule=\"evenodd\" fill-opacity=\"1\" /><path clip-path=\"url(#clip180)\" d=\"M130.922 825.237 Q127.311 825.237 125.482 828.802 Q123.677 832.344 123.677 839.473 Q123.677 846.58 125.482 850.145 Q127.311 853.686 130.922 853.686 Q134.556 853.686 136.362 850.145 Q138.191 846.58 138.191 839.473 Q138.191 832.344 136.362 828.802 Q134.556 825.237 130.922 825.237 M130.922 821.534 Q136.732 821.534 139.788 826.14 Q142.867 830.723 142.867 839.473 Q142.867 848.2 139.788 852.807 Q136.732 857.39 130.922 857.39 Q125.112 857.39 122.033 852.807 Q118.978 848.2 118.978 839.473 Q118.978 830.723 122.033 826.14 Q125.112 821.534 130.922 821.534 Z\" fill=\"#000000\" fill-rule=\"evenodd\" fill-opacity=\"1\" /><path clip-path=\"url(#clip180)\" d=\"M61.4087 572.885 L69.0476 572.885 L69.0476 546.519 L60.7374 548.186 L60.7374 543.927 L69.0013 542.26 L73.6772 542.26 L73.6772 572.885 L81.316 572.885 L81.316 576.82 L61.4087 576.82 L61.4087 572.885 Z\" fill=\"#000000\" fill-rule=\"evenodd\" fill-opacity=\"1\" /><path clip-path=\"url(#clip180)\" d=\"M100.76 545.339 Q97.1493 545.339 95.3206 548.904 Q93.515 552.445 93.515 559.575 Q93.515 566.681 95.3206 570.246 Q97.1493 573.788 100.76 573.788 Q104.395 573.788 106.2 570.246 Q108.029 566.681 108.029 559.575 Q108.029 552.445 106.2 548.904 Q104.395 545.339 100.76 545.339 M100.76 541.635 Q106.571 541.635 109.626 546.241 Q112.705 550.825 112.705 559.575 Q112.705 568.302 109.626 572.908 Q106.571 577.491 100.76 577.491 Q94.9502 577.491 91.8715 572.908 Q88.816 568.302 88.816 559.575 Q88.816 550.825 91.8715 546.241 Q94.9502 541.635 100.76 541.635 Z\" fill=\"#000000\" fill-rule=\"evenodd\" fill-opacity=\"1\" /><path clip-path=\"url(#clip180)\" d=\"M130.922 545.339 Q127.311 545.339 125.482 548.904 Q123.677 552.445 123.677 559.575 Q123.677 566.681 125.482 570.246 Q127.311 573.788 130.922 573.788 Q134.556 573.788 136.362 570.246 Q138.191 566.681 138.191 559.575 Q138.191 552.445 136.362 548.904 Q134.556 545.339 130.922 545.339 M130.922 541.635 Q136.732 541.635 139.788 546.241 Q142.867 550.825 142.867 559.575 Q142.867 568.302 139.788 572.908 Q136.732 577.491 130.922 577.491 Q125.112 577.491 122.033 572.908 Q118.978 568.302 118.978 559.575 Q118.978 550.825 122.033 546.241 Q125.112 541.635 130.922 541.635 Z\" fill=\"#000000\" fill-rule=\"evenodd\" fill-opacity=\"1\" /><path clip-path=\"url(#clip180)\" d=\"M61.4087 292.986 L69.0476 292.986 L69.0476 266.621 L60.7374 268.287 L60.7374 264.028 L69.0013 262.361 L73.6772 262.361 L73.6772 292.986 L81.316 292.986 L81.316 296.921 L61.4087 296.921 L61.4087 292.986 Z\" fill=\"#000000\" fill-rule=\"evenodd\" fill-opacity=\"1\" /><path clip-path=\"url(#clip180)\" d=\"M90.8067 262.361 L109.163 262.361 L109.163 266.297 L95.0891 266.297 L95.0891 274.769 Q96.1076 274.422 97.1261 274.26 Q98.1447 274.074 99.1632 274.074 Q104.95 274.074 108.33 277.246 Q111.709 280.417 111.709 285.834 Q111.709 291.412 108.237 294.514 Q104.765 297.593 98.4456 297.593 Q96.2697 297.593 94.0012 297.222 Q91.7558 296.852 89.3484 296.111 L89.3484 291.412 Q91.4317 292.546 93.6539 293.102 Q95.8761 293.658 98.353 293.658 Q102.358 293.658 104.696 291.551 Q107.033 289.445 107.033 285.834 Q107.033 282.222 104.696 280.116 Q102.358 278.01 98.353 278.01 Q96.478 278.01 94.603 278.426 Q92.7512 278.843 90.8067 279.722 L90.8067 262.361 Z\" fill=\"#000000\" fill-rule=\"evenodd\" fill-opacity=\"1\" /><path clip-path=\"url(#clip180)\" d=\"M130.922 265.44 Q127.311 265.44 125.482 269.005 Q123.677 272.547 123.677 279.676 Q123.677 286.783 125.482 290.347 Q127.311 293.889 130.922 293.889 Q134.556 293.889 136.362 290.347 Q138.191 286.783 138.191 279.676 Q138.191 272.547 136.362 269.005 Q134.556 265.44 130.922 265.44 M130.922 261.736 Q136.732 261.736 139.788 266.343 Q142.867 270.926 142.867 279.676 Q142.867 288.403 139.788 293.009 Q136.732 297.593 130.922 297.593 Q125.112 297.593 122.033 293.009 Q118.978 288.403 118.978 279.676 Q118.978 270.926 122.033 266.343 Q125.112 261.736 130.922 261.736 Z\" fill=\"#000000\" fill-rule=\"evenodd\" fill-opacity=\"1\" /><circle clip-path=\"url(#clip182)\" cx=\"240.392\" cy=\"87.9763\" r=\"14.4\" fill=\"#009af9\" fill-rule=\"evenodd\" fill-opacity=\"1\" stroke=\"#000000\" stroke-opacity=\"1\" stroke-width=\"3.2\"/>\n",
       "<circle clip-path=\"url(#clip182)\" cx=\"342.934\" cy=\"920.005\" r=\"14.4\" fill=\"#009af9\" fill-rule=\"evenodd\" fill-opacity=\"1\" stroke=\"#000000\" stroke-opacity=\"1\" stroke-width=\"3.2\"/>\n",
       "<circle clip-path=\"url(#clip182)\" cx=\"445.476\" cy=\"706.469\" r=\"14.4\" fill=\"#009af9\" fill-rule=\"evenodd\" fill-opacity=\"1\" stroke=\"#000000\" stroke-opacity=\"1\" stroke-width=\"3.2\"/>\n",
       "<circle clip-path=\"url(#clip182)\" cx=\"548.018\" cy=\"637.4\" r=\"14.4\" fill=\"#009af9\" fill-rule=\"evenodd\" fill-opacity=\"1\" stroke=\"#000000\" stroke-opacity=\"1\" stroke-width=\"3.2\"/>\n",
       "<circle clip-path=\"url(#clip182)\" cx=\"650.56\" cy=\"659.956\" r=\"14.4\" fill=\"#009af9\" fill-rule=\"evenodd\" fill-opacity=\"1\" stroke=\"#000000\" stroke-opacity=\"1\" stroke-width=\"3.2\"/>\n",
       "<circle clip-path=\"url(#clip182)\" cx=\"753.102\" cy=\"771.739\" r=\"14.4\" fill=\"#009af9\" fill-rule=\"evenodd\" fill-opacity=\"1\" stroke=\"#000000\" stroke-opacity=\"1\" stroke-width=\"3.2\"/>\n",
       "<circle clip-path=\"url(#clip182)\" cx=\"855.643\" cy=\"1359.05\" r=\"14.4\" fill=\"#009af9\" fill-rule=\"evenodd\" fill-opacity=\"1\" stroke=\"#000000\" stroke-opacity=\"1\" stroke-width=\"3.2\"/>\n",
       "<circle clip-path=\"url(#clip182)\" cx=\"958.185\" cy=\"1428.78\" r=\"14.4\" fill=\"#009af9\" fill-rule=\"evenodd\" fill-opacity=\"1\" stroke=\"#000000\" stroke-opacity=\"1\" stroke-width=\"3.2\"/>\n",
       "<circle clip-path=\"url(#clip182)\" cx=\"1060.73\" cy=\"1153.78\" r=\"14.4\" fill=\"#009af9\" fill-rule=\"evenodd\" fill-opacity=\"1\" stroke=\"#000000\" stroke-opacity=\"1\" stroke-width=\"3.2\"/>\n",
       "<circle clip-path=\"url(#clip182)\" cx=\"1163.27\" cy=\"833.743\" r=\"14.4\" fill=\"#009af9\" fill-rule=\"evenodd\" fill-opacity=\"1\" stroke=\"#000000\" stroke-opacity=\"1\" stroke-width=\"3.2\"/>\n",
       "<circle clip-path=\"url(#clip182)\" cx=\"1265.81\" cy=\"1027.27\" r=\"14.4\" fill=\"#009af9\" fill-rule=\"evenodd\" fill-opacity=\"1\" stroke=\"#000000\" stroke-opacity=\"1\" stroke-width=\"3.2\"/>\n",
       "<circle clip-path=\"url(#clip182)\" cx=\"1368.35\" cy=\"902.556\" r=\"14.4\" fill=\"#009af9\" fill-rule=\"evenodd\" fill-opacity=\"1\" stroke=\"#000000\" stroke-opacity=\"1\" stroke-width=\"3.2\"/>\n",
       "<circle clip-path=\"url(#clip182)\" cx=\"1470.9\" cy=\"1367.85\" r=\"14.4\" fill=\"#009af9\" fill-rule=\"evenodd\" fill-opacity=\"1\" stroke=\"#000000\" stroke-opacity=\"1\" stroke-width=\"3.2\"/>\n",
       "<circle clip-path=\"url(#clip182)\" cx=\"1573.44\" cy=\"1445.72\" r=\"14.4\" fill=\"#009af9\" fill-rule=\"evenodd\" fill-opacity=\"1\" stroke=\"#000000\" stroke-opacity=\"1\" stroke-width=\"3.2\"/>\n",
       "<circle clip-path=\"url(#clip182)\" cx=\"1675.98\" cy=\"1041.27\" r=\"14.4\" fill=\"#009af9\" fill-rule=\"evenodd\" fill-opacity=\"1\" stroke=\"#000000\" stroke-opacity=\"1\" stroke-width=\"3.2\"/>\n",
       "<circle clip-path=\"url(#clip182)\" cx=\"1778.52\" cy=\"960.517\" r=\"14.4\" fill=\"#009af9\" fill-rule=\"evenodd\" fill-opacity=\"1\" stroke=\"#000000\" stroke-opacity=\"1\" stroke-width=\"3.2\"/>\n",
       "<circle clip-path=\"url(#clip182)\" cx=\"1881.06\" cy=\"1099.2\" r=\"14.4\" fill=\"#009af9\" fill-rule=\"evenodd\" fill-opacity=\"1\" stroke=\"#000000\" stroke-opacity=\"1\" stroke-width=\"3.2\"/>\n",
       "<circle clip-path=\"url(#clip182)\" cx=\"1983.6\" cy=\"659.096\" r=\"14.4\" fill=\"#009af9\" fill-rule=\"evenodd\" fill-opacity=\"1\" stroke=\"#000000\" stroke-opacity=\"1\" stroke-width=\"3.2\"/>\n",
       "<circle clip-path=\"url(#clip182)\" cx=\"2086.15\" cy=\"612.516\" r=\"14.4\" fill=\"#009af9\" fill-rule=\"evenodd\" fill-opacity=\"1\" stroke=\"#000000\" stroke-opacity=\"1\" stroke-width=\"3.2\"/>\n",
       "<circle clip-path=\"url(#clip182)\" cx=\"2188.69\" cy=\"571.093\" r=\"14.4\" fill=\"#009af9\" fill-rule=\"evenodd\" fill-opacity=\"1\" stroke=\"#000000\" stroke-opacity=\"1\" stroke-width=\"3.2\"/>\n",
       "<circle clip-path=\"url(#clip182)\" cx=\"2291.23\" cy=\"269.643\" r=\"14.4\" fill=\"#009af9\" fill-rule=\"evenodd\" fill-opacity=\"1\" stroke=\"#000000\" stroke-opacity=\"1\" stroke-width=\"3.2\"/>\n",
       "<polyline clip-path=\"url(#clip182)\" style=\"stroke:#e26f46; stroke-linecap:round; stroke-linejoin:round; stroke-width:4; stroke-opacity:1; fill:none\" points=\"240.392,738.675 342.934,828.243 445.476,906.614 548.018,973.79 650.56,1029.77 753.102,1074.55 855.643,1108.14 958.185,1130.53 1060.73,1141.73 1163.27,1141.73 1265.81,1130.53 1368.35,1108.14 1470.9,1074.55 1573.44,1029.77 1675.98,973.79 1778.52,906.614 1881.06,828.243 1983.6,738.675 2086.15,637.912 2188.69,525.952 2291.23,402.797 \"/>\n",
       "<polyline clip-path=\"url(#clip182)\" style=\"stroke:#3da44d; stroke-linecap:round; stroke-linejoin:round; stroke-width:4; stroke-opacity:1; fill:none\" points=\"240.392,328.398 342.934,491.965 445.476,638.442 548.018,767.829 650.56,880.125 753.102,975.332 855.643,1053.45 958.185,1114.47 1060.73,1158.41 1163.27,1185.26 1265.81,1195.01 1368.35,1187.68 1470.9,1163.26 1573.44,1121.74 1675.98,1063.14 1778.52,987.445 1881.06,894.661 1983.6,784.788 2086.15,657.824 2188.69,513.77 2291.23,352.625 \"/>\n",
       "<path clip-path=\"url(#clip180)\" d=\"M1850.06 1438.47 L2280.29 1438.47 L2280.29 1231.11 L1850.06 1231.11  Z\" fill=\"#ffffff\" fill-rule=\"evenodd\" fill-opacity=\"1\"/>\n",
       "<polyline clip-path=\"url(#clip180)\" style=\"stroke:#000000; stroke-linecap:round; stroke-linejoin:round; stroke-width:4; stroke-opacity:1; fill:none\" points=\"1850.06,1438.47 2280.29,1438.47 2280.29,1231.11 1850.06,1231.11 1850.06,1438.47 \"/>\n",
       "<circle clip-path=\"url(#clip180)\" cx=\"1946.68\" cy=\"1282.95\" r=\"23.04\" fill=\"#009af9\" fill-rule=\"evenodd\" fill-opacity=\"1\" stroke=\"#000000\" stroke-opacity=\"1\" stroke-width=\"5.12\"/>\n",
       "<path clip-path=\"url(#clip180)\" d=\"M2055.19 1277.29 Q2051.76 1277.29 2049.77 1279.98 Q2047.78 1282.64 2047.78 1287.29 Q2047.78 1291.95 2049.75 1294.63 Q2051.74 1297.29 2055.19 1297.29 Q2058.59 1297.29 2060.58 1294.61 Q2062.57 1291.92 2062.57 1287.29 Q2062.57 1282.69 2060.58 1280 Q2058.59 1277.29 2055.19 1277.29 M2055.19 1273.68 Q2060.75 1273.68 2063.92 1277.29 Q2067.09 1280.91 2067.09 1287.29 Q2067.09 1293.66 2063.92 1297.29 Q2060.75 1300.91 2055.19 1300.91 Q2049.61 1300.91 2046.44 1297.29 Q2043.29 1293.66 2043.29 1287.29 Q2043.29 1280.91 2046.44 1277.29 Q2049.61 1273.68 2055.19 1273.68 Z\" fill=\"#000000\" fill-rule=\"evenodd\" fill-opacity=\"1\" /><path clip-path=\"url(#clip180)\" d=\"M2092.76 1287.29 Q2092.76 1282.6 2090.82 1279.93 Q2088.89 1277.25 2085.51 1277.25 Q2082.13 1277.25 2080.19 1279.93 Q2078.27 1282.6 2078.27 1287.29 Q2078.27 1291.99 2080.19 1294.68 Q2082.13 1297.34 2085.51 1297.34 Q2088.89 1297.34 2090.82 1294.68 Q2092.76 1291.99 2092.76 1287.29 M2078.27 1278.24 Q2079.61 1275.93 2081.65 1274.82 Q2083.71 1273.68 2086.56 1273.68 Q2091.28 1273.68 2094.22 1277.43 Q2097.18 1281.18 2097.18 1287.29 Q2097.18 1293.41 2094.22 1297.16 Q2091.28 1300.91 2086.56 1300.91 Q2083.71 1300.91 2081.65 1299.79 Q2079.61 1298.66 2078.27 1296.35 L2078.27 1300.23 L2073.99 1300.23 L2073.99 1264.22 L2078.27 1264.22 L2078.27 1278.24 Z\" fill=\"#000000\" fill-rule=\"evenodd\" fill-opacity=\"1\" /><path clip-path=\"url(#clip180)\" d=\"M2120.77 1275.07 L2120.77 1279.1 Q2118.96 1278.17 2117.02 1277.71 Q2115.07 1277.25 2112.99 1277.25 Q2109.82 1277.25 2108.22 1278.22 Q2106.65 1279.19 2106.65 1281.14 Q2106.65 1282.62 2107.78 1283.48 Q2108.92 1284.31 2112.34 1285.07 L2113.8 1285.4 Q2118.34 1286.37 2120.24 1288.15 Q2122.16 1289.91 2122.16 1293.08 Q2122.16 1296.69 2119.29 1298.8 Q2116.44 1300.91 2111.44 1300.91 Q2109.36 1300.91 2107.09 1300.49 Q2104.84 1300.1 2102.34 1299.29 L2102.34 1294.89 Q2104.7 1296.11 2107 1296.74 Q2109.29 1297.34 2111.53 1297.34 Q2114.54 1297.34 2116.16 1296.32 Q2117.78 1295.28 2117.78 1293.41 Q2117.78 1291.67 2116.6 1290.74 Q2115.44 1289.82 2111.49 1288.96 L2110.01 1288.61 Q2106.05 1287.78 2104.29 1286.07 Q2102.53 1284.33 2102.53 1281.32 Q2102.53 1277.67 2105.12 1275.67 Q2107.71 1273.68 2112.48 1273.68 Q2114.84 1273.68 2116.93 1274.03 Q2119.01 1274.38 2120.77 1275.07 Z\" fill=\"#000000\" fill-rule=\"evenodd\" fill-opacity=\"1\" /><path clip-path=\"url(#clip180)\" d=\"M2151.12 1286.21 L2151.12 1288.29 L2131.53 1288.29 Q2131.81 1292.69 2134.17 1295 Q2136.56 1297.29 2140.79 1297.29 Q2143.25 1297.29 2145.54 1296.69 Q2147.85 1296.09 2150.12 1294.89 L2150.12 1298.91 Q2147.83 1299.89 2145.42 1300.4 Q2143.01 1300.91 2140.54 1300.91 Q2134.33 1300.91 2130.7 1297.29 Q2127.09 1293.68 2127.09 1287.53 Q2127.09 1281.16 2130.51 1277.43 Q2133.96 1273.68 2139.8 1273.68 Q2145.03 1273.68 2148.06 1277.06 Q2151.12 1280.42 2151.12 1286.21 M2146.86 1284.96 Q2146.81 1281.46 2144.89 1279.38 Q2142.99 1277.29 2139.84 1277.29 Q2136.28 1277.29 2134.13 1279.31 Q2132 1281.32 2131.67 1284.98 L2146.86 1284.96 Z\" fill=\"#000000\" fill-rule=\"evenodd\" fill-opacity=\"1\" /><path clip-path=\"url(#clip180)\" d=\"M2173.13 1278.29 Q2172.41 1277.87 2171.56 1277.69 Q2170.72 1277.48 2169.7 1277.48 Q2166.09 1277.48 2164.15 1279.84 Q2162.23 1282.18 2162.23 1286.58 L2162.23 1300.23 L2157.94 1300.23 L2157.94 1274.31 L2162.23 1274.31 L2162.23 1278.34 Q2163.57 1275.98 2165.72 1274.84 Q2167.88 1273.68 2170.95 1273.68 Q2171.39 1273.68 2171.93 1273.75 Q2172.46 1273.8 2173.11 1273.92 L2173.13 1278.29 Z\" fill=\"#000000\" fill-rule=\"evenodd\" fill-opacity=\"1\" /><path clip-path=\"url(#clip180)\" d=\"M2174.54 1274.31 L2179.06 1274.31 L2187.16 1296.07 L2195.26 1274.31 L2199.77 1274.31 L2190.05 1300.23 L2184.26 1300.23 L2174.54 1274.31 Z\" fill=\"#000000\" fill-rule=\"evenodd\" fill-opacity=\"1\" /><path clip-path=\"url(#clip180)\" d=\"M2227.83 1286.21 L2227.83 1288.29 L2208.25 1288.29 Q2208.52 1292.69 2210.88 1295 Q2213.27 1297.29 2217.5 1297.29 Q2219.96 1297.29 2222.25 1296.69 Q2224.56 1296.09 2226.83 1294.89 L2226.83 1298.91 Q2224.54 1299.89 2222.13 1300.4 Q2219.73 1300.91 2217.25 1300.91 Q2211.05 1300.91 2207.41 1297.29 Q2203.8 1293.68 2203.8 1287.53 Q2203.8 1281.16 2207.23 1277.43 Q2210.68 1273.68 2216.51 1273.68 Q2221.74 1273.68 2224.77 1277.06 Q2227.83 1280.42 2227.83 1286.21 M2223.57 1284.96 Q2223.52 1281.46 2221.6 1279.38 Q2219.7 1277.29 2216.56 1277.29 Q2212.99 1277.29 2210.84 1279.31 Q2208.71 1281.32 2208.38 1284.98 L2223.57 1284.96 Z\" fill=\"#000000\" fill-rule=\"evenodd\" fill-opacity=\"1\" /><path clip-path=\"url(#clip180)\" d=\"M2251.88 1278.24 L2251.88 1264.22 L2256.14 1264.22 L2256.14 1300.23 L2251.88 1300.23 L2251.88 1296.35 Q2250.54 1298.66 2248.48 1299.79 Q2246.44 1300.91 2243.57 1300.91 Q2238.87 1300.91 2235.91 1297.16 Q2232.97 1293.41 2232.97 1287.29 Q2232.97 1281.18 2235.91 1277.43 Q2238.87 1273.68 2243.57 1273.68 Q2246.44 1273.68 2248.48 1274.82 Q2250.54 1275.93 2251.88 1278.24 M2237.37 1287.29 Q2237.37 1291.99 2239.29 1294.68 Q2241.23 1297.34 2244.61 1297.34 Q2247.99 1297.34 2249.93 1294.68 Q2251.88 1291.99 2251.88 1287.29 Q2251.88 1282.6 2249.93 1279.93 Q2247.99 1277.25 2244.61 1277.25 Q2241.23 1277.25 2239.29 1279.93 Q2237.37 1282.6 2237.37 1287.29 Z\" fill=\"#000000\" fill-rule=\"evenodd\" fill-opacity=\"1\" /><polyline clip-path=\"url(#clip180)\" style=\"stroke:#e26f46; stroke-linecap:round; stroke-linejoin:round; stroke-width:4; stroke-opacity:1; fill:none\" points=\"1874.21,1334.79 2019.14,1334.79 \"/>\n",
       "<path clip-path=\"url(#clip180)\" d=\"M2050.7 1318.79 L2050.7 1326.15 L2059.47 1326.15 L2059.47 1329.46 L2050.7 1329.46 L2050.7 1343.53 Q2050.7 1346.7 2051.56 1347.61 Q2052.44 1348.51 2055.1 1348.51 L2059.47 1348.51 L2059.47 1352.07 L2055.1 1352.07 Q2050.17 1352.07 2048.29 1350.25 Q2046.42 1348.39 2046.42 1343.53 L2046.42 1329.46 L2043.29 1329.46 L2043.29 1326.15 L2046.42 1326.15 L2046.42 1318.79 L2050.7 1318.79 Z\" fill=\"#000000\" fill-rule=\"evenodd\" fill-opacity=\"1\" /><path clip-path=\"url(#clip180)\" d=\"M2080.1 1330.13 Q2079.38 1329.71 2078.52 1329.53 Q2077.69 1329.32 2076.67 1329.32 Q2073.06 1329.32 2071.12 1331.68 Q2069.2 1334.02 2069.2 1338.42 L2069.2 1352.07 L2064.91 1352.07 L2064.91 1326.15 L2069.2 1326.15 L2069.2 1330.18 Q2070.54 1327.82 2072.69 1326.68 Q2074.84 1325.52 2077.92 1325.52 Q2078.36 1325.52 2078.89 1325.59 Q2079.43 1325.64 2080.07 1325.76 L2080.1 1330.13 Z\" fill=\"#000000\" fill-rule=\"evenodd\" fill-opacity=\"1\" /><path clip-path=\"url(#clip180)\" d=\"M2084.13 1341.84 L2084.13 1326.15 L2088.38 1326.15 L2088.38 1341.68 Q2088.38 1345.36 2089.82 1347.21 Q2091.26 1349.04 2094.13 1349.04 Q2097.57 1349.04 2099.57 1346.84 Q2101.58 1344.64 2101.58 1340.85 L2101.58 1326.15 L2105.84 1326.15 L2105.84 1352.07 L2101.58 1352.07 L2101.58 1348.09 Q2100.03 1350.45 2097.97 1351.61 Q2095.93 1352.75 2093.22 1352.75 Q2088.76 1352.75 2086.44 1349.97 Q2084.13 1347.19 2084.13 1341.84 M2094.84 1325.52 L2094.84 1325.52 Z\" fill=\"#000000\" fill-rule=\"evenodd\" fill-opacity=\"1\" /><path clip-path=\"url(#clip180)\" d=\"M2136.79 1338.05 L2136.79 1340.13 L2117.2 1340.13 Q2117.48 1344.53 2119.84 1346.84 Q2122.23 1349.13 2126.46 1349.13 Q2128.92 1349.13 2131.21 1348.53 Q2133.52 1347.93 2135.79 1346.73 L2135.79 1350.75 Q2133.5 1351.73 2131.09 1352.24 Q2128.69 1352.75 2126.21 1352.75 Q2120.01 1352.75 2116.37 1349.13 Q2112.76 1345.52 2112.76 1339.37 Q2112.76 1333 2116.19 1329.27 Q2119.63 1325.52 2125.47 1325.52 Q2130.7 1325.52 2133.73 1328.9 Q2136.79 1332.26 2136.79 1338.05 M2132.53 1336.8 Q2132.48 1333.3 2130.56 1331.22 Q2128.66 1329.13 2125.51 1329.13 Q2121.95 1329.13 2119.8 1331.15 Q2117.67 1333.16 2117.34 1336.82 L2132.53 1336.8 Z\" fill=\"#000000\" fill-rule=\"evenodd\" fill-opacity=\"1\" /><polyline clip-path=\"url(#clip180)\" style=\"stroke:#3da44d; stroke-linecap:round; stroke-linejoin:round; stroke-width:4; stroke-opacity:1; fill:none\" points=\"1874.21,1386.63 2019.14,1386.63 \"/>\n",
       "<path clip-path=\"url(#clip180)\" d=\"M2059.8 1367.9 L2059.8 1371.44 L2055.72 1371.44 Q2053.43 1371.44 2052.53 1372.36 Q2051.65 1373.29 2051.65 1375.7 L2051.65 1377.99 L2058.66 1377.99 L2058.66 1381.3 L2051.65 1381.3 L2051.65 1403.91 L2047.37 1403.91 L2047.37 1381.3 L2043.29 1381.3 L2043.29 1377.99 L2047.37 1377.99 L2047.37 1376.18 Q2047.37 1371.85 2049.38 1369.89 Q2051.39 1367.9 2055.77 1367.9 L2059.8 1367.9 Z\" fill=\"#000000\" fill-rule=\"evenodd\" fill-opacity=\"1\" /><path clip-path=\"url(#clip180)\" d=\"M2063.36 1377.99 L2067.62 1377.99 L2067.62 1403.91 L2063.36 1403.91 L2063.36 1377.99 M2063.36 1367.9 L2067.62 1367.9 L2067.62 1373.29 L2063.36 1373.29 L2063.36 1367.9 Z\" fill=\"#000000\" fill-rule=\"evenodd\" fill-opacity=\"1\" /><path clip-path=\"url(#clip180)\" d=\"M2080.75 1370.63 L2080.75 1377.99 L2089.52 1377.99 L2089.52 1381.3 L2080.75 1381.3 L2080.75 1395.37 Q2080.75 1398.54 2081.6 1399.45 Q2082.48 1400.35 2085.14 1400.35 L2089.52 1400.35 L2089.52 1403.91 L2085.14 1403.91 Q2080.21 1403.91 2078.34 1402.09 Q2076.46 1400.23 2076.46 1395.37 L2076.46 1381.3 L2073.34 1381.3 L2073.34 1377.99 L2076.46 1377.99 L2076.46 1370.63 L2080.75 1370.63 Z\" fill=\"#000000\" fill-rule=\"evenodd\" fill-opacity=\"1\" /><path clip-path=\"url(#clip180)\" d=\"M2099.33 1370.63 L2099.33 1377.99 L2108.11 1377.99 L2108.11 1381.3 L2099.33 1381.3 L2099.33 1395.37 Q2099.33 1398.54 2100.19 1399.45 Q2101.07 1400.35 2103.73 1400.35 L2108.11 1400.35 L2108.11 1403.91 L2103.73 1403.91 Q2098.8 1403.91 2096.93 1402.09 Q2095.05 1400.23 2095.05 1395.37 L2095.05 1381.3 L2091.93 1381.3 L2091.93 1377.99 L2095.05 1377.99 L2095.05 1370.63 L2099.33 1370.63 Z\" fill=\"#000000\" fill-rule=\"evenodd\" fill-opacity=\"1\" /><path clip-path=\"url(#clip180)\" d=\"M2135.88 1389.89 L2135.88 1391.97 L2116.3 1391.97 Q2116.58 1396.37 2118.94 1398.68 Q2121.32 1400.97 2125.56 1400.97 Q2128.01 1400.97 2130.31 1400.37 Q2132.62 1399.77 2134.89 1398.57 L2134.89 1402.59 Q2132.6 1403.57 2130.19 1404.08 Q2127.78 1404.59 2125.31 1404.59 Q2119.1 1404.59 2115.47 1400.97 Q2111.86 1397.36 2111.86 1391.21 Q2111.86 1384.84 2115.28 1381.11 Q2118.73 1377.36 2124.57 1377.36 Q2129.8 1377.36 2132.83 1380.74 Q2135.88 1384.1 2135.88 1389.89 M2131.63 1388.64 Q2131.58 1385.14 2129.66 1383.06 Q2127.76 1380.97 2124.61 1380.97 Q2121.05 1380.97 2118.89 1382.99 Q2116.76 1385 2116.44 1388.66 L2131.63 1388.64 Z\" fill=\"#000000\" fill-rule=\"evenodd\" fill-opacity=\"1\" /><path clip-path=\"url(#clip180)\" d=\"M2159.94 1381.92 L2159.94 1367.9 L2164.19 1367.9 L2164.19 1403.91 L2159.94 1403.91 L2159.94 1400.03 Q2158.59 1402.34 2156.53 1403.47 Q2154.5 1404.59 2151.63 1404.59 Q2146.93 1404.59 2143.96 1400.84 Q2141.02 1397.09 2141.02 1390.97 Q2141.02 1384.86 2143.96 1381.11 Q2146.93 1377.36 2151.63 1377.36 Q2154.5 1377.36 2156.53 1378.5 Q2158.59 1379.61 2159.94 1381.92 M2145.42 1390.97 Q2145.42 1395.67 2147.34 1398.36 Q2149.29 1401.02 2152.67 1401.02 Q2156.05 1401.02 2157.99 1398.36 Q2159.94 1395.67 2159.94 1390.97 Q2159.94 1386.28 2157.99 1383.61 Q2156.05 1380.93 2152.67 1380.93 Q2149.29 1380.93 2147.34 1383.61 Q2145.42 1386.28 2145.42 1390.97 Z\" fill=\"#000000\" fill-rule=\"evenodd\" fill-opacity=\"1\" /></svg>\n"
      ]
     },
     "execution_count": 149,
     "metadata": {},
     "output_type": "execute_result"
    }
   ],
   "source": [
    "using Distributions\n",
    "n = di.Normal(0,50)\n",
    "y_observed = y_true .+ rand(n,length(x))\n",
    "\n",
    "using Plots \n",
    "using Polynomials\n",
    "scatter(x,y_observed,labels = \"observed\")\n",
    "plot!(x,y_true,labels = \"true\")\n",
    "line_fit = Polynomials.fit(x,y_observed,2)\n",
    "fit_coeffs = coeffs(line_fit)\n",
    "y_fitted = fit_coeffs[1] .+ fit_coeffs[2] .* x .+ fit_coeffs[3] .* (x.^2)\n",
    "plot!(x,y_fitted,labels = \"fitted\" )"
   ]
  },
  {
   "cell_type": "markdown",
   "id": "ab12acbd",
   "metadata": {},
   "source": [
    "# 2. Compare the plot with the plot in 2.3. Is the fit closer to y_true or not, and why? "
   ]
  },
  {
   "cell_type": "markdown",
   "id": "a34fcca4",
   "metadata": {},
   "source": [
    "No, it is not as accurate because the noise is \"larger\" which means it interferes with the true data more, making the fit line not represent the data as well as with a \"lesser\" noise"
   ]
  },
  {
   "cell_type": "markdown",
   "id": "5fd1d93b",
   "metadata": {},
   "source": [
    "### 2.5\n",
    "\n",
    "#### Repeat 2.2 and 2.3 with a tenth order polynomial fit\n"
   ]
  },
  {
   "cell_type": "code",
   "execution_count": 150,
   "id": "e318e9fe",
   "metadata": {},
   "outputs": [
    {
     "data": {
      "text/plain": [
       "21-element Vector{Float64}:\n",
       "  72.17376401529732\n",
       "  44.614006726551786\n",
       "  33.848524180382746\n",
       "  25.788740040723678\n",
       "   4.7311128311713055\n",
       "  -1.1258838858485554\n",
       "   9.328196224486849\n",
       "  -4.348870215907198\n",
       "  10.063104508063809\n",
       "  -5.735690346980139\n",
       "  -2.560638764632865\n",
       "   7.850082788493563\n",
       "  11.604727838374957\n",
       "  12.056629329426318\n",
       "  36.770917236124944\n",
       "  17.65516511915528\n",
       "  56.100255160420325\n",
       "  58.907734414418\n",
       "  60.906813417282656\n",
       "  99.13300769975075\n",
       " 113.38822049756524"
      ]
     },
     "execution_count": 150,
     "metadata": {},
     "output_type": "execute_result"
    }
   ],
   "source": [
    "using Distributions\n",
    "g = di.Normal(0,10)\n",
    "y_observed = y_true .+ rand(g,length(x))"
   ]
  },
  {
   "cell_type": "code",
   "execution_count": 152,
   "id": "b6dbd546",
   "metadata": {},
   "outputs": [
    {
     "data": {
      "image/svg+xml": [
       "<?xml version=\"1.0\" encoding=\"utf-8\"?>\n",
       "<svg xmlns=\"http://www.w3.org/2000/svg\" xmlns:xlink=\"http://www.w3.org/1999/xlink\" width=\"600\" height=\"400\" viewBox=\"0 0 2400 1600\">\n",
       "<defs>\n",
       "  <clipPath id=\"clip260\">\n",
       "    <rect x=\"0\" y=\"0\" width=\"2400\" height=\"1600\"/>\n",
       "  </clipPath>\n",
       "</defs>\n",
       "<path clip-path=\"url(#clip260)\" d=\"M0 1600 L2400 1600 L2400 0 L0 0  Z\" fill=\"#ffffff\" fill-rule=\"evenodd\" fill-opacity=\"1\"/>\n",
       "<defs>\n",
       "  <clipPath id=\"clip261\">\n",
       "    <rect x=\"480\" y=\"0\" width=\"1681\" height=\"1600\"/>\n",
       "  </clipPath>\n",
       "</defs>\n",
       "<path clip-path=\"url(#clip260)\" d=\"M169.121 1486.45 L2352.76 1486.45 L2352.76 47.2441 L169.121 47.2441  Z\" fill=\"#ffffff\" fill-rule=\"evenodd\" fill-opacity=\"1\"/>\n",
       "<defs>\n",
       "  <clipPath id=\"clip262\">\n",
       "    <rect x=\"169\" y=\"47\" width=\"2185\" height=\"1440\"/>\n",
       "  </clipPath>\n",
       "</defs>\n",
       "<polyline clip-path=\"url(#clip262)\" style=\"stroke:#000000; stroke-linecap:round; stroke-linejoin:round; stroke-width:2; stroke-opacity:0.1; fill:none\" points=\"230.922,1486.45 230.922,47.2441 \"/>\n",
       "<polyline clip-path=\"url(#clip262)\" style=\"stroke:#000000; stroke-linecap:round; stroke-linejoin:round; stroke-width:2; stroke-opacity:0.1; fill:none\" points=\"745.93,1486.45 745.93,47.2441 \"/>\n",
       "<polyline clip-path=\"url(#clip262)\" style=\"stroke:#000000; stroke-linecap:round; stroke-linejoin:round; stroke-width:2; stroke-opacity:0.1; fill:none\" points=\"1260.94,1486.45 1260.94,47.2441 \"/>\n",
       "<polyline clip-path=\"url(#clip262)\" style=\"stroke:#000000; stroke-linecap:round; stroke-linejoin:round; stroke-width:2; stroke-opacity:0.1; fill:none\" points=\"1775.95,1486.45 1775.95,47.2441 \"/>\n",
       "<polyline clip-path=\"url(#clip262)\" style=\"stroke:#000000; stroke-linecap:round; stroke-linejoin:round; stroke-width:2; stroke-opacity:0.1; fill:none\" points=\"2290.95,1486.45 2290.95,47.2441 \"/>\n",
       "<polyline clip-path=\"url(#clip260)\" style=\"stroke:#000000; stroke-linecap:round; stroke-linejoin:round; stroke-width:4; stroke-opacity:1; fill:none\" points=\"169.121,1486.45 2352.76,1486.45 \"/>\n",
       "<polyline clip-path=\"url(#clip260)\" style=\"stroke:#000000; stroke-linecap:round; stroke-linejoin:round; stroke-width:4; stroke-opacity:1; fill:none\" points=\"230.922,1486.45 230.922,1467.55 \"/>\n",
       "<polyline clip-path=\"url(#clip260)\" style=\"stroke:#000000; stroke-linecap:round; stroke-linejoin:round; stroke-width:4; stroke-opacity:1; fill:none\" points=\"745.93,1486.45 745.93,1467.55 \"/>\n",
       "<polyline clip-path=\"url(#clip260)\" style=\"stroke:#000000; stroke-linecap:round; stroke-linejoin:round; stroke-width:4; stroke-opacity:1; fill:none\" points=\"1260.94,1486.45 1260.94,1467.55 \"/>\n",
       "<polyline clip-path=\"url(#clip260)\" style=\"stroke:#000000; stroke-linecap:round; stroke-linejoin:round; stroke-width:4; stroke-opacity:1; fill:none\" points=\"1775.95,1486.45 1775.95,1467.55 \"/>\n",
       "<polyline clip-path=\"url(#clip260)\" style=\"stroke:#000000; stroke-linecap:round; stroke-linejoin:round; stroke-width:4; stroke-opacity:1; fill:none\" points=\"2290.95,1486.45 2290.95,1467.55 \"/>\n",
       "<path clip-path=\"url(#clip260)\" d=\"M184.985 1532.02 L214.661 1532.02 L214.661 1535.95 L184.985 1535.95 L184.985 1532.02 Z\" fill=\"#000000\" fill-rule=\"evenodd\" fill-opacity=\"1\" /><path clip-path=\"url(#clip260)\" d=\"M225.564 1544.91 L233.202 1544.91 L233.202 1518.55 L224.892 1520.21 L224.892 1515.95 L233.156 1514.29 L237.832 1514.29 L237.832 1544.91 L245.471 1544.91 L245.471 1548.85 L225.564 1548.85 L225.564 1544.91 Z\" fill=\"#000000\" fill-rule=\"evenodd\" fill-opacity=\"1\" /><path clip-path=\"url(#clip260)\" d=\"M264.915 1517.37 Q261.304 1517.37 259.475 1520.93 Q257.67 1524.47 257.67 1531.6 Q257.67 1538.71 259.475 1542.27 Q261.304 1545.82 264.915 1545.82 Q268.549 1545.82 270.355 1542.27 Q272.184 1538.71 272.184 1531.6 Q272.184 1524.47 270.355 1520.93 Q268.549 1517.37 264.915 1517.37 M264.915 1513.66 Q270.725 1513.66 273.781 1518.27 Q276.86 1522.85 276.86 1531.6 Q276.86 1540.33 273.781 1544.94 Q270.725 1549.52 264.915 1549.52 Q259.105 1549.52 256.026 1544.94 Q252.971 1540.33 252.971 1531.6 Q252.971 1522.85 256.026 1518.27 Q259.105 1513.66 264.915 1513.66 Z\" fill=\"#000000\" fill-rule=\"evenodd\" fill-opacity=\"1\" /><path clip-path=\"url(#clip260)\" d=\"M715.572 1532.02 L745.248 1532.02 L745.248 1535.95 L715.572 1535.95 L715.572 1532.02 Z\" fill=\"#000000\" fill-rule=\"evenodd\" fill-opacity=\"1\" /><path clip-path=\"url(#clip260)\" d=\"M755.386 1514.29 L773.743 1514.29 L773.743 1518.22 L759.669 1518.22 L759.669 1526.7 Q760.687 1526.35 761.706 1526.19 Q762.724 1526 763.743 1526 Q769.53 1526 772.909 1529.17 Q776.289 1532.34 776.289 1537.76 Q776.289 1543.34 772.817 1546.44 Q769.345 1549.52 763.025 1549.52 Q760.849 1549.52 758.581 1549.15 Q756.335 1548.78 753.928 1548.04 L753.928 1543.34 Q756.011 1544.47 758.234 1545.03 Q760.456 1545.58 762.933 1545.58 Q766.937 1545.58 769.275 1543.48 Q771.613 1541.37 771.613 1537.76 Q771.613 1534.15 769.275 1532.04 Q766.937 1529.94 762.933 1529.94 Q761.058 1529.94 759.183 1530.35 Q757.331 1530.77 755.386 1531.65 L755.386 1514.29 Z\" fill=\"#000000\" fill-rule=\"evenodd\" fill-opacity=\"1\" /><path clip-path=\"url(#clip260)\" d=\"M1260.94 1517.37 Q1257.33 1517.37 1255.5 1520.93 Q1253.69 1524.47 1253.69 1531.6 Q1253.69 1538.71 1255.5 1542.27 Q1257.33 1545.82 1260.94 1545.82 Q1264.57 1545.82 1266.38 1542.27 Q1268.21 1538.71 1268.21 1531.6 Q1268.21 1524.47 1266.38 1520.93 Q1264.57 1517.37 1260.94 1517.37 M1260.94 1513.66 Q1266.75 1513.66 1269.8 1518.27 Q1272.88 1522.85 1272.88 1531.6 Q1272.88 1540.33 1269.8 1544.94 Q1266.75 1549.52 1260.94 1549.52 Q1255.13 1549.52 1252.05 1544.94 Q1248.99 1540.33 1248.99 1531.6 Q1248.99 1522.85 1252.05 1518.27 Q1255.13 1513.66 1260.94 1513.66 Z\" fill=\"#000000\" fill-rule=\"evenodd\" fill-opacity=\"1\" /><path clip-path=\"url(#clip260)\" d=\"M1766.22 1514.29 L1784.58 1514.29 L1784.58 1518.22 L1770.51 1518.22 L1770.51 1526.7 Q1771.53 1526.35 1772.54 1526.19 Q1773.56 1526 1774.58 1526 Q1780.37 1526 1783.75 1529.17 Q1787.13 1532.34 1787.13 1537.76 Q1787.13 1543.34 1783.66 1546.44 Q1780.18 1549.52 1773.86 1549.52 Q1771.69 1549.52 1769.42 1549.15 Q1767.17 1548.78 1764.77 1548.04 L1764.77 1543.34 Q1766.85 1544.47 1769.07 1545.03 Q1771.29 1545.58 1773.77 1545.58 Q1777.78 1545.58 1780.11 1543.48 Q1782.45 1541.37 1782.45 1537.76 Q1782.45 1534.15 1780.11 1532.04 Q1777.78 1529.94 1773.77 1529.94 Q1771.9 1529.94 1770.02 1530.35 Q1768.17 1530.77 1766.22 1531.65 L1766.22 1514.29 Z\" fill=\"#000000\" fill-rule=\"evenodd\" fill-opacity=\"1\" /><path clip-path=\"url(#clip260)\" d=\"M2265.64 1544.91 L2273.28 1544.91 L2273.28 1518.55 L2264.97 1520.21 L2264.97 1515.95 L2273.24 1514.29 L2277.91 1514.29 L2277.91 1544.91 L2285.55 1544.91 L2285.55 1548.85 L2265.64 1548.85 L2265.64 1544.91 Z\" fill=\"#000000\" fill-rule=\"evenodd\" fill-opacity=\"1\" /><path clip-path=\"url(#clip260)\" d=\"M2304.99 1517.37 Q2301.38 1517.37 2299.55 1520.93 Q2297.75 1524.47 2297.75 1531.6 Q2297.75 1538.71 2299.55 1542.27 Q2301.38 1545.82 2304.99 1545.82 Q2308.63 1545.82 2310.43 1542.27 Q2312.26 1538.71 2312.26 1531.6 Q2312.26 1524.47 2310.43 1520.93 Q2308.63 1517.37 2304.99 1517.37 M2304.99 1513.66 Q2310.8 1513.66 2313.86 1518.27 Q2316.94 1522.85 2316.94 1531.6 Q2316.94 1540.33 2313.86 1544.94 Q2310.8 1549.52 2304.99 1549.52 Q2299.18 1549.52 2296.11 1544.94 Q2293.05 1540.33 2293.05 1531.6 Q2293.05 1522.85 2296.11 1518.27 Q2299.18 1513.66 2304.99 1513.66 Z\" fill=\"#000000\" fill-rule=\"evenodd\" fill-opacity=\"1\" /><polyline clip-path=\"url(#clip262)\" style=\"stroke:#000000; stroke-linecap:round; stroke-linejoin:round; stroke-width:2; stroke-opacity:0.1; fill:none\" points=\"169.121,1387.48 2352.76,1387.48 \"/>\n",
       "<polyline clip-path=\"url(#clip262)\" style=\"stroke:#000000; stroke-linecap:round; stroke-linejoin:round; stroke-width:2; stroke-opacity:0.1; fill:none\" points=\"169.121,1184.44 2352.76,1184.44 \"/>\n",
       "<polyline clip-path=\"url(#clip262)\" style=\"stroke:#000000; stroke-linecap:round; stroke-linejoin:round; stroke-width:2; stroke-opacity:0.1; fill:none\" points=\"169.121,981.388 2352.76,981.388 \"/>\n",
       "<polyline clip-path=\"url(#clip262)\" style=\"stroke:#000000; stroke-linecap:round; stroke-linejoin:round; stroke-width:2; stroke-opacity:0.1; fill:none\" points=\"169.121,778.34 2352.76,778.34 \"/>\n",
       "<polyline clip-path=\"url(#clip262)\" style=\"stroke:#000000; stroke-linecap:round; stroke-linejoin:round; stroke-width:2; stroke-opacity:0.1; fill:none\" points=\"169.121,575.292 2352.76,575.292 \"/>\n",
       "<polyline clip-path=\"url(#clip262)\" style=\"stroke:#000000; stroke-linecap:round; stroke-linejoin:round; stroke-width:2; stroke-opacity:0.1; fill:none\" points=\"169.121,372.244 2352.76,372.244 \"/>\n",
       "<polyline clip-path=\"url(#clip262)\" style=\"stroke:#000000; stroke-linecap:round; stroke-linejoin:round; stroke-width:2; stroke-opacity:0.1; fill:none\" points=\"169.121,169.196 2352.76,169.196 \"/>\n",
       "<polyline clip-path=\"url(#clip260)\" style=\"stroke:#000000; stroke-linecap:round; stroke-linejoin:round; stroke-width:4; stroke-opacity:1; fill:none\" points=\"169.121,1486.45 169.121,47.2441 \"/>\n",
       "<polyline clip-path=\"url(#clip260)\" style=\"stroke:#000000; stroke-linecap:round; stroke-linejoin:round; stroke-width:4; stroke-opacity:1; fill:none\" points=\"169.121,1387.48 188.019,1387.48 \"/>\n",
       "<polyline clip-path=\"url(#clip260)\" style=\"stroke:#000000; stroke-linecap:round; stroke-linejoin:round; stroke-width:4; stroke-opacity:1; fill:none\" points=\"169.121,1184.44 188.019,1184.44 \"/>\n",
       "<polyline clip-path=\"url(#clip260)\" style=\"stroke:#000000; stroke-linecap:round; stroke-linejoin:round; stroke-width:4; stroke-opacity:1; fill:none\" points=\"169.121,981.388 188.019,981.388 \"/>\n",
       "<polyline clip-path=\"url(#clip260)\" style=\"stroke:#000000; stroke-linecap:round; stroke-linejoin:round; stroke-width:4; stroke-opacity:1; fill:none\" points=\"169.121,778.34 188.019,778.34 \"/>\n",
       "<polyline clip-path=\"url(#clip260)\" style=\"stroke:#000000; stroke-linecap:round; stroke-linejoin:round; stroke-width:4; stroke-opacity:1; fill:none\" points=\"169.121,575.292 188.019,575.292 \"/>\n",
       "<polyline clip-path=\"url(#clip260)\" style=\"stroke:#000000; stroke-linecap:round; stroke-linejoin:round; stroke-width:4; stroke-opacity:1; fill:none\" points=\"169.121,372.244 188.019,372.244 \"/>\n",
       "<polyline clip-path=\"url(#clip260)\" style=\"stroke:#000000; stroke-linecap:round; stroke-linejoin:round; stroke-width:4; stroke-opacity:1; fill:none\" points=\"169.121,169.196 188.019,169.196 \"/>\n",
       "<path clip-path=\"url(#clip260)\" d=\"M121.177 1373.28 Q117.566 1373.28 115.737 1376.85 Q113.932 1380.39 113.932 1387.52 Q113.932 1394.63 115.737 1398.19 Q117.566 1401.73 121.177 1401.73 Q124.811 1401.73 126.617 1398.19 Q128.445 1394.63 128.445 1387.52 Q128.445 1380.39 126.617 1376.85 Q124.811 1373.28 121.177 1373.28 M121.177 1369.58 Q126.987 1369.58 130.043 1374.19 Q133.121 1378.77 133.121 1387.52 Q133.121 1396.25 130.043 1400.85 Q126.987 1405.44 121.177 1405.44 Q115.367 1405.44 112.288 1400.85 Q109.233 1396.25 109.233 1387.52 Q109.233 1378.77 112.288 1374.19 Q115.367 1369.58 121.177 1369.58 Z\" fill=\"#000000\" fill-rule=\"evenodd\" fill-opacity=\"1\" /><path clip-path=\"url(#clip260)\" d=\"M85.0429 1197.78 L101.362 1197.78 L101.362 1201.72 L79.4179 1201.72 L79.4179 1197.78 Q82.0799 1195.03 86.6632 1190.4 Q91.2697 1185.74 92.4502 1184.4 Q94.6956 1181.88 95.5752 1180.14 Q96.478 1178.38 96.478 1176.69 Q96.478 1173.94 94.5336 1172.2 Q92.6123 1170.47 89.5104 1170.47 Q87.3114 1170.47 84.8577 1171.23 Q82.4271 1171.99 79.6494 1173.55 L79.6494 1168.82 Q82.4734 1167.69 84.9271 1167.11 Q87.3808 1166.53 89.4178 1166.53 Q94.7882 1166.53 97.9826 1169.22 Q101.177 1171.9 101.177 1176.39 Q101.177 1178.52 100.367 1180.44 Q99.5798 1182.34 97.4734 1184.93 Q96.8947 1185.61 93.7928 1188.82 Q90.691 1192.02 85.0429 1197.78 Z\" fill=\"#000000\" fill-rule=\"evenodd\" fill-opacity=\"1\" /><path clip-path=\"url(#clip260)\" d=\"M121.177 1170.24 Q117.566 1170.24 115.737 1173.8 Q113.932 1177.34 113.932 1184.47 Q113.932 1191.58 115.737 1195.14 Q117.566 1198.68 121.177 1198.68 Q124.811 1198.68 126.617 1195.14 Q128.445 1191.58 128.445 1184.47 Q128.445 1177.34 126.617 1173.8 Q124.811 1170.24 121.177 1170.24 M121.177 1166.53 Q126.987 1166.53 130.043 1171.14 Q133.121 1175.72 133.121 1184.47 Q133.121 1193.2 130.043 1197.8 Q126.987 1202.39 121.177 1202.39 Q115.367 1202.39 112.288 1197.8 Q109.233 1193.2 109.233 1184.47 Q109.233 1175.72 112.288 1171.14 Q115.367 1166.53 121.177 1166.53 Z\" fill=\"#000000\" fill-rule=\"evenodd\" fill-opacity=\"1\" /><path clip-path=\"url(#clip260)\" d=\"M93.8623 968.182 L82.0568 986.631 L93.8623 986.631 L93.8623 968.182 M92.6354 964.108 L98.515 964.108 L98.515 986.631 L103.446 986.631 L103.446 990.52 L98.515 990.52 L98.515 998.668 L93.8623 998.668 L93.8623 990.52 L78.2605 990.52 L78.2605 986.006 L92.6354 964.108 Z\" fill=\"#000000\" fill-rule=\"evenodd\" fill-opacity=\"1\" /><path clip-path=\"url(#clip260)\" d=\"M121.177 967.187 Q117.566 967.187 115.737 970.752 Q113.932 974.293 113.932 981.423 Q113.932 988.529 115.737 992.094 Q117.566 995.636 121.177 995.636 Q124.811 995.636 126.617 992.094 Q128.445 988.529 128.445 981.423 Q128.445 974.293 126.617 970.752 Q124.811 967.187 121.177 967.187 M121.177 963.483 Q126.987 963.483 130.043 968.09 Q133.121 972.673 133.121 981.423 Q133.121 990.15 130.043 994.756 Q126.987 999.34 121.177 999.34 Q115.367 999.34 112.288 994.756 Q109.233 990.15 109.233 981.423 Q109.233 972.673 112.288 968.09 Q115.367 963.483 121.177 963.483 Z\" fill=\"#000000\" fill-rule=\"evenodd\" fill-opacity=\"1\" /><path clip-path=\"url(#clip260)\" d=\"M91.5938 776.477 Q88.4456 776.477 86.5938 778.629 Q84.7651 780.782 84.7651 784.532 Q84.7651 788.259 86.5938 790.435 Q88.4456 792.588 91.5938 792.588 Q94.7419 792.588 96.5706 790.435 Q98.4224 788.259 98.4224 784.532 Q98.4224 780.782 96.5706 778.629 Q94.7419 776.477 91.5938 776.477 M100.876 761.824 L100.876 766.083 Q99.1169 765.25 97.3113 764.81 Q95.5289 764.37 93.7697 764.37 Q89.1401 764.37 86.6864 767.495 Q84.2558 770.62 83.9086 776.94 Q85.2743 774.926 87.3345 773.861 Q89.3947 772.773 91.8715 772.773 Q97.0798 772.773 100.089 775.944 Q103.121 779.092 103.121 784.532 Q103.121 789.856 99.9733 793.074 Q96.8252 796.291 91.5938 796.291 Q85.5984 796.291 82.4271 791.708 Q79.2559 787.102 79.2559 778.375 Q79.2559 770.18 83.1447 765.319 Q87.0336 760.435 93.5845 760.435 Q95.3437 760.435 97.1261 760.782 Q98.9317 761.13 100.876 761.824 Z\" fill=\"#000000\" fill-rule=\"evenodd\" fill-opacity=\"1\" /><path clip-path=\"url(#clip260)\" d=\"M121.177 764.139 Q117.566 764.139 115.737 767.704 Q113.932 771.245 113.932 778.375 Q113.932 785.481 115.737 789.046 Q117.566 792.588 121.177 792.588 Q124.811 792.588 126.617 789.046 Q128.445 785.481 128.445 778.375 Q128.445 771.245 126.617 767.704 Q124.811 764.139 121.177 764.139 M121.177 760.435 Q126.987 760.435 130.043 765.042 Q133.121 769.625 133.121 778.375 Q133.121 787.102 130.043 791.708 Q126.987 796.291 121.177 796.291 Q115.367 796.291 112.288 791.708 Q109.233 787.102 109.233 778.375 Q109.233 769.625 112.288 765.042 Q115.367 760.435 121.177 760.435 Z\" fill=\"#000000\" fill-rule=\"evenodd\" fill-opacity=\"1\" /><path clip-path=\"url(#clip260)\" d=\"M91.0151 576.16 Q87.6817 576.16 85.7605 577.942 Q83.8623 579.725 83.8623 582.85 Q83.8623 585.975 85.7605 587.757 Q87.6817 589.54 91.0151 589.54 Q94.3484 589.54 96.2697 587.757 Q98.1909 585.952 98.1909 582.85 Q98.1909 579.725 96.2697 577.942 Q94.3715 576.16 91.0151 576.16 M86.3392 574.169 Q83.3299 573.428 81.6401 571.368 Q79.9735 569.308 79.9735 566.345 Q79.9735 562.202 82.9133 559.794 Q85.8762 557.387 91.0151 557.387 Q96.1771 557.387 99.1169 559.794 Q102.057 562.202 102.057 566.345 Q102.057 569.308 100.367 571.368 Q98.7002 573.428 95.7141 574.169 Q99.0937 574.956 100.969 577.248 Q102.867 579.54 102.867 582.85 Q102.867 587.873 99.7882 590.558 Q96.7326 593.243 91.0151 593.243 Q85.2975 593.243 82.2188 590.558 Q79.1633 587.873 79.1633 582.85 Q79.1633 579.54 81.0614 577.248 Q82.9595 574.956 86.3392 574.169 M84.6262 566.785 Q84.6262 569.47 86.2929 570.975 Q87.9827 572.479 91.0151 572.479 Q94.0243 572.479 95.7141 570.975 Q97.4271 569.47 97.4271 566.785 Q97.4271 564.1 95.7141 562.595 Q94.0243 561.091 91.0151 561.091 Q87.9827 561.091 86.2929 562.595 Q84.6262 564.1 84.6262 566.785 Z\" fill=\"#000000\" fill-rule=\"evenodd\" fill-opacity=\"1\" /><path clip-path=\"url(#clip260)\" d=\"M121.177 561.091 Q117.566 561.091 115.737 564.655 Q113.932 568.197 113.932 575.327 Q113.932 582.433 115.737 585.998 Q117.566 589.54 121.177 589.54 Q124.811 589.54 126.617 585.998 Q128.445 582.433 128.445 575.327 Q128.445 568.197 126.617 564.655 Q124.811 561.091 121.177 561.091 M121.177 557.387 Q126.987 557.387 130.043 561.993 Q133.121 566.577 133.121 575.327 Q133.121 584.053 130.043 588.66 Q126.987 593.243 121.177 593.243 Q115.367 593.243 112.288 588.66 Q109.233 584.053 109.233 575.327 Q109.233 566.577 112.288 561.993 Q115.367 557.387 121.177 557.387 Z\" fill=\"#000000\" fill-rule=\"evenodd\" fill-opacity=\"1\" /><path clip-path=\"url(#clip260)\" d=\"M51.6634 385.589 L59.3023 385.589 L59.3023 359.223 L50.9921 360.89 L50.9921 356.63 L59.256 354.964 L63.9319 354.964 L63.9319 385.589 L71.5707 385.589 L71.5707 389.524 L51.6634 389.524 L51.6634 385.589 Z\" fill=\"#000000\" fill-rule=\"evenodd\" fill-opacity=\"1\" /><path clip-path=\"url(#clip260)\" d=\"M91.0151 358.042 Q87.404 358.042 85.5753 361.607 Q83.7697 365.149 83.7697 372.278 Q83.7697 379.385 85.5753 382.95 Q87.404 386.491 91.0151 386.491 Q94.6493 386.491 96.4548 382.95 Q98.2835 379.385 98.2835 372.278 Q98.2835 365.149 96.4548 361.607 Q94.6493 358.042 91.0151 358.042 M91.0151 354.339 Q96.8252 354.339 99.8808 358.945 Q102.959 363.528 102.959 372.278 Q102.959 381.005 99.8808 385.612 Q96.8252 390.195 91.0151 390.195 Q85.2049 390.195 82.1262 385.612 Q79.0707 381.005 79.0707 372.278 Q79.0707 363.528 82.1262 358.945 Q85.2049 354.339 91.0151 354.339 Z\" fill=\"#000000\" fill-rule=\"evenodd\" fill-opacity=\"1\" /><path clip-path=\"url(#clip260)\" d=\"M121.177 358.042 Q117.566 358.042 115.737 361.607 Q113.932 365.149 113.932 372.278 Q113.932 379.385 115.737 382.95 Q117.566 386.491 121.177 386.491 Q124.811 386.491 126.617 382.95 Q128.445 379.385 128.445 372.278 Q128.445 365.149 126.617 361.607 Q124.811 358.042 121.177 358.042 M121.177 354.339 Q126.987 354.339 130.043 358.945 Q133.121 363.528 133.121 372.278 Q133.121 381.005 130.043 385.612 Q126.987 390.195 121.177 390.195 Q115.367 390.195 112.288 385.612 Q109.233 381.005 109.233 372.278 Q109.233 363.528 112.288 358.945 Q115.367 354.339 121.177 354.339 Z\" fill=\"#000000\" fill-rule=\"evenodd\" fill-opacity=\"1\" /><path clip-path=\"url(#clip260)\" d=\"M51.6634 182.54 L59.3023 182.54 L59.3023 156.175 L50.9921 157.841 L50.9921 153.582 L59.256 151.916 L63.9319 151.916 L63.9319 182.54 L71.5707 182.54 L71.5707 186.476 L51.6634 186.476 L51.6634 182.54 Z\" fill=\"#000000\" fill-rule=\"evenodd\" fill-opacity=\"1\" /><path clip-path=\"url(#clip260)\" d=\"M85.0429 182.54 L101.362 182.54 L101.362 186.476 L79.4179 186.476 L79.4179 182.54 Q82.0799 179.786 86.6632 175.156 Q91.2697 170.503 92.4502 169.161 Q94.6956 166.638 95.5752 164.902 Q96.478 163.142 96.478 161.453 Q96.478 158.698 94.5336 156.962 Q92.6123 155.226 89.5104 155.226 Q87.3114 155.226 84.8577 155.99 Q82.4271 156.753 79.6494 158.304 L79.6494 153.582 Q82.4734 152.448 84.9271 151.869 Q87.3808 151.291 89.4178 151.291 Q94.7882 151.291 97.9826 153.976 Q101.177 156.661 101.177 161.152 Q101.177 163.281 100.367 165.203 Q99.5798 167.101 97.4734 169.693 Q96.8947 170.365 93.7928 173.582 Q90.691 176.777 85.0429 182.54 Z\" fill=\"#000000\" fill-rule=\"evenodd\" fill-opacity=\"1\" /><path clip-path=\"url(#clip260)\" d=\"M121.177 154.994 Q117.566 154.994 115.737 158.559 Q113.932 162.101 113.932 169.23 Q113.932 176.337 115.737 179.902 Q117.566 183.443 121.177 183.443 Q124.811 183.443 126.617 179.902 Q128.445 176.337 128.445 169.23 Q128.445 162.101 126.617 158.559 Q124.811 154.994 121.177 154.994 M121.177 151.291 Q126.987 151.291 130.043 155.897 Q133.121 160.48 133.121 169.23 Q133.121 177.957 130.043 182.564 Q126.987 187.147 121.177 187.147 Q115.367 187.147 112.288 182.564 Q109.233 177.957 109.233 169.23 Q109.233 160.48 112.288 155.897 Q115.367 151.291 121.177 151.291 Z\" fill=\"#000000\" fill-rule=\"evenodd\" fill-opacity=\"1\" /><circle clip-path=\"url(#clip262)\" cx=\"230.922\" cy=\"654.747\" r=\"14.4\" fill=\"#009af9\" fill-rule=\"evenodd\" fill-opacity=\"1\" stroke=\"#000000\" stroke-opacity=\"1\" stroke-width=\"3.2\"/>\n",
       "<circle clip-path=\"url(#clip262)\" cx=\"333.924\" cy=\"934.545\" r=\"14.4\" fill=\"#009af9\" fill-rule=\"evenodd\" fill-opacity=\"1\" stroke=\"#000000\" stroke-opacity=\"1\" stroke-width=\"3.2\"/>\n",
       "<circle clip-path=\"url(#clip262)\" cx=\"436.926\" cy=\"1043.84\" r=\"14.4\" fill=\"#009af9\" fill-rule=\"evenodd\" fill-opacity=\"1\" stroke=\"#000000\" stroke-opacity=\"1\" stroke-width=\"3.2\"/>\n",
       "<circle clip-path=\"url(#clip262)\" cx=\"539.927\" cy=\"1125.67\" r=\"14.4\" fill=\"#009af9\" fill-rule=\"evenodd\" fill-opacity=\"1\" stroke=\"#000000\" stroke-opacity=\"1\" stroke-width=\"3.2\"/>\n",
       "<circle clip-path=\"url(#clip262)\" cx=\"642.929\" cy=\"1339.45\" r=\"14.4\" fill=\"#009af9\" fill-rule=\"evenodd\" fill-opacity=\"1\" stroke=\"#000000\" stroke-opacity=\"1\" stroke-width=\"3.2\"/>\n",
       "<circle clip-path=\"url(#clip262)\" cx=\"745.93\" cy=\"1398.92\" r=\"14.4\" fill=\"#009af9\" fill-rule=\"evenodd\" fill-opacity=\"1\" stroke=\"#000000\" stroke-opacity=\"1\" stroke-width=\"3.2\"/>\n",
       "<circle clip-path=\"url(#clip262)\" cx=\"848.932\" cy=\"1292.78\" r=\"14.4\" fill=\"#009af9\" fill-rule=\"evenodd\" fill-opacity=\"1\" stroke=\"#000000\" stroke-opacity=\"1\" stroke-width=\"3.2\"/>\n",
       "<circle clip-path=\"url(#clip262)\" cx=\"951.934\" cy=\"1431.64\" r=\"14.4\" fill=\"#009af9\" fill-rule=\"evenodd\" fill-opacity=\"1\" stroke=\"#000000\" stroke-opacity=\"1\" stroke-width=\"3.2\"/>\n",
       "<circle clip-path=\"url(#clip262)\" cx=\"1054.94\" cy=\"1285.32\" r=\"14.4\" fill=\"#009af9\" fill-rule=\"evenodd\" fill-opacity=\"1\" stroke=\"#000000\" stroke-opacity=\"1\" stroke-width=\"3.2\"/>\n",
       "<circle clip-path=\"url(#clip262)\" cx=\"1157.94\" cy=\"1445.72\" r=\"14.4\" fill=\"#009af9\" fill-rule=\"evenodd\" fill-opacity=\"1\" stroke=\"#000000\" stroke-opacity=\"1\" stroke-width=\"3.2\"/>\n",
       "<circle clip-path=\"url(#clip262)\" cx=\"1260.94\" cy=\"1413.48\" r=\"14.4\" fill=\"#009af9\" fill-rule=\"evenodd\" fill-opacity=\"1\" stroke=\"#000000\" stroke-opacity=\"1\" stroke-width=\"3.2\"/>\n",
       "<circle clip-path=\"url(#clip262)\" cx=\"1363.94\" cy=\"1307.79\" r=\"14.4\" fill=\"#009af9\" fill-rule=\"evenodd\" fill-opacity=\"1\" stroke=\"#000000\" stroke-opacity=\"1\" stroke-width=\"3.2\"/>\n",
       "<circle clip-path=\"url(#clip262)\" cx=\"1466.94\" cy=\"1269.67\" r=\"14.4\" fill=\"#009af9\" fill-rule=\"evenodd\" fill-opacity=\"1\" stroke=\"#000000\" stroke-opacity=\"1\" stroke-width=\"3.2\"/>\n",
       "<circle clip-path=\"url(#clip262)\" cx=\"1569.94\" cy=\"1265.08\" r=\"14.4\" fill=\"#009af9\" fill-rule=\"evenodd\" fill-opacity=\"1\" stroke=\"#000000\" stroke-opacity=\"1\" stroke-width=\"3.2\"/>\n",
       "<circle clip-path=\"url(#clip262)\" cx=\"1672.95\" cy=\"1014.17\" r=\"14.4\" fill=\"#009af9\" fill-rule=\"evenodd\" fill-opacity=\"1\" stroke=\"#000000\" stroke-opacity=\"1\" stroke-width=\"3.2\"/>\n",
       "<circle clip-path=\"url(#clip262)\" cx=\"1775.95\" cy=\"1208.24\" r=\"14.4\" fill=\"#009af9\" fill-rule=\"evenodd\" fill-opacity=\"1\" stroke=\"#000000\" stroke-opacity=\"1\" stroke-width=\"3.2\"/>\n",
       "<circle clip-path=\"url(#clip262)\" cx=\"1878.95\" cy=\"817.932\" r=\"14.4\" fill=\"#009af9\" fill-rule=\"evenodd\" fill-opacity=\"1\" stroke=\"#000000\" stroke-opacity=\"1\" stroke-width=\"3.2\"/>\n",
       "<circle clip-path=\"url(#clip262)\" cx=\"1981.95\" cy=\"789.429\" r=\"14.4\" fill=\"#009af9\" fill-rule=\"evenodd\" fill-opacity=\"1\" stroke=\"#000000\" stroke-opacity=\"1\" stroke-width=\"3.2\"/>\n",
       "<circle clip-path=\"url(#clip262)\" cx=\"2084.95\" cy=\"769.134\" r=\"14.4\" fill=\"#009af9\" fill-rule=\"evenodd\" fill-opacity=\"1\" stroke=\"#000000\" stroke-opacity=\"1\" stroke-width=\"3.2\"/>\n",
       "<circle clip-path=\"url(#clip262)\" cx=\"2187.95\" cy=\"381.046\" r=\"14.4\" fill=\"#009af9\" fill-rule=\"evenodd\" fill-opacity=\"1\" stroke=\"#000000\" stroke-opacity=\"1\" stroke-width=\"3.2\"/>\n",
       "<circle clip-path=\"url(#clip262)\" cx=\"2290.95\" cy=\"236.321\" r=\"14.4\" fill=\"#009af9\" fill-rule=\"evenodd\" fill-opacity=\"1\" stroke=\"#000000\" stroke-opacity=\"1\" stroke-width=\"3.2\"/>\n",
       "<polyline clip-path=\"url(#clip262)\" style=\"stroke:#e26f46; stroke-linecap:round; stroke-linejoin:round; stroke-width:4; stroke-opacity:1; fill:none\" points=\"230.922,697.121 333.924,859.559 436.926,1001.69 539.927,1123.52 642.929,1225.05 745.93,1306.27 848.932,1367.18 951.934,1407.79 1054.94,1428.09 1157.94,1428.09 1260.94,1407.79 1363.94,1367.18 1466.94,1306.27 1569.94,1225.05 1672.95,1123.52 1775.95,1001.69 1878.95,859.559 1981.95,697.121 2084.95,514.377 2187.95,311.329 2290.95,87.9763 \"/>\n",
       "<polyline clip-path=\"url(#clip262)\" style=\"stroke:#3da44d; stroke-linecap:round; stroke-linejoin:round; stroke-width:4; stroke-opacity:1; fill:none\" points=\"230.922,656.536 333.924,928.632 436.926,1037.7 539.927,1171.27 642.929,1293.88 745.93,1362.35 848.932,1377.92 951.934,1370.02 1054.94,1366.11 1157.94,1373.26 1260.94,1377.91 1363.94,1358.68 1466.94,1302.42 1569.94,1213.77 1672.95,1112.68 1775.95,1019.9 1878.95,937.484 1981.95,836.928 2084.95,671.311 2187.95,427.439 2290.95,228.704 \"/>\n",
       "<path clip-path=\"url(#clip260)\" d=\"M241.909 302.578 L673.119 302.578 L673.119 95.2176 L241.909 95.2176  Z\" fill=\"#ffffff\" fill-rule=\"evenodd\" fill-opacity=\"1\"/>\n",
       "<polyline clip-path=\"url(#clip260)\" style=\"stroke:#000000; stroke-linecap:round; stroke-linejoin:round; stroke-width:4; stroke-opacity:1; fill:none\" points=\"241.909,302.578 673.119,302.578 673.119,95.2176 241.909,95.2176 241.909,302.578 \"/>\n",
       "<circle clip-path=\"url(#clip260)\" cx=\"338.96\" cy=\"147.058\" r=\"23.04\" fill=\"#009af9\" fill-rule=\"evenodd\" fill-opacity=\"1\" stroke=\"#000000\" stroke-opacity=\"1\" stroke-width=\"5.12\"/>\n",
       "<path clip-path=\"url(#clip260)\" d=\"M447.908 141.398 Q444.482 141.398 442.491 144.083 Q440.501 146.745 440.501 151.398 Q440.501 156.051 442.468 158.736 Q444.459 161.398 447.908 161.398 Q451.311 161.398 453.302 158.713 Q455.292 156.027 455.292 151.398 Q455.292 146.791 453.302 144.106 Q451.311 141.398 447.908 141.398 M447.908 137.787 Q453.464 137.787 456.635 141.398 Q459.806 145.009 459.806 151.398 Q459.806 157.764 456.635 161.398 Q453.464 165.009 447.908 165.009 Q442.329 165.009 439.158 161.398 Q436.01 157.764 436.01 151.398 Q436.01 145.009 439.158 141.398 Q442.329 137.787 447.908 137.787 Z\" fill=\"#000000\" fill-rule=\"evenodd\" fill-opacity=\"1\" /><path clip-path=\"url(#clip260)\" d=\"M485.477 151.398 Q485.477 146.699 483.533 144.037 Q481.612 141.352 478.232 141.352 Q474.852 141.352 472.908 144.037 Q470.987 146.699 470.987 151.398 Q470.987 156.097 472.908 158.782 Q474.852 161.444 478.232 161.444 Q481.612 161.444 483.533 158.782 Q485.477 156.097 485.477 151.398 M470.987 142.347 Q472.329 140.032 474.366 138.921 Q476.426 137.787 479.274 137.787 Q483.996 137.787 486.936 141.537 Q489.899 145.287 489.899 151.398 Q489.899 157.509 486.936 161.259 Q483.996 165.009 479.274 165.009 Q476.426 165.009 474.366 163.898 Q472.329 162.763 470.987 160.449 L470.987 164.338 L466.704 164.338 L466.704 128.319 L470.987 128.319 L470.987 142.347 Z\" fill=\"#000000\" fill-rule=\"evenodd\" fill-opacity=\"1\" /><path clip-path=\"url(#clip260)\" d=\"M513.486 139.176 L513.486 143.203 Q511.681 142.277 509.736 141.815 Q507.792 141.352 505.709 141.352 Q502.537 141.352 500.94 142.324 Q499.366 143.296 499.366 145.24 Q499.366 146.722 500.5 147.578 Q501.635 148.412 505.061 149.176 L506.519 149.5 Q511.056 150.472 512.954 152.254 Q514.875 154.014 514.875 157.185 Q514.875 160.796 512.005 162.902 Q509.158 165.009 504.158 165.009 Q502.074 165.009 499.806 164.592 Q497.561 164.199 495.061 163.388 L495.061 158.99 Q497.422 160.217 499.713 160.842 Q502.005 161.444 504.25 161.444 Q507.26 161.444 508.88 160.426 Q510.5 159.384 510.5 157.509 Q510.5 155.773 509.32 154.847 Q508.162 153.921 504.204 153.064 L502.723 152.717 Q498.764 151.884 497.005 150.171 Q495.246 148.435 495.246 145.426 Q495.246 141.768 497.838 139.778 Q500.431 137.787 505.199 137.787 Q507.561 137.787 509.644 138.134 Q511.727 138.481 513.486 139.176 Z\" fill=\"#000000\" fill-rule=\"evenodd\" fill-opacity=\"1\" /><path clip-path=\"url(#clip260)\" d=\"M543.833 150.31 L543.833 152.393 L524.25 152.393 Q524.528 156.791 526.889 159.106 Q529.273 161.398 533.509 161.398 Q535.963 161.398 538.255 160.796 Q540.57 160.194 542.838 158.99 L542.838 163.018 Q540.546 163.99 538.139 164.5 Q535.732 165.009 533.255 165.009 Q527.051 165.009 523.417 161.398 Q519.806 157.787 519.806 151.629 Q519.806 145.264 523.232 141.537 Q526.681 137.787 532.514 137.787 Q537.746 137.787 540.778 141.166 Q543.833 144.523 543.833 150.31 M539.574 149.06 Q539.528 145.565 537.607 143.481 Q535.709 141.398 532.56 141.398 Q528.996 141.398 526.843 143.412 Q524.713 145.426 524.389 149.083 L539.574 149.06 Z\" fill=\"#000000\" fill-rule=\"evenodd\" fill-opacity=\"1\" /><path clip-path=\"url(#clip260)\" d=\"M565.847 142.393 Q565.13 141.977 564.273 141.791 Q563.44 141.583 562.421 141.583 Q558.81 141.583 556.866 143.944 Q554.945 146.282 554.945 150.68 L554.945 164.338 L550.662 164.338 L550.662 138.412 L554.945 138.412 L554.945 142.44 Q556.287 140.078 558.44 138.944 Q560.593 137.787 563.671 137.787 Q564.111 137.787 564.644 137.856 Q565.176 137.903 565.824 138.018 L565.847 142.393 Z\" fill=\"#000000\" fill-rule=\"evenodd\" fill-opacity=\"1\" /><path clip-path=\"url(#clip260)\" d=\"M567.259 138.412 L571.773 138.412 L579.875 160.171 L587.977 138.412 L592.491 138.412 L582.768 164.338 L576.981 164.338 L567.259 138.412 Z\" fill=\"#000000\" fill-rule=\"evenodd\" fill-opacity=\"1\" /><path clip-path=\"url(#clip260)\" d=\"M620.546 150.31 L620.546 152.393 L600.963 152.393 Q601.241 156.791 603.602 159.106 Q605.986 161.398 610.222 161.398 Q612.676 161.398 614.967 160.796 Q617.282 160.194 619.551 158.99 L619.551 163.018 Q617.259 163.99 614.852 164.5 Q612.444 165.009 609.967 165.009 Q603.764 165.009 600.129 161.398 Q596.518 157.787 596.518 151.629 Q596.518 145.264 599.944 141.537 Q603.393 137.787 609.227 137.787 Q614.458 137.787 617.49 141.166 Q620.546 144.523 620.546 150.31 M616.287 149.06 Q616.241 145.565 614.319 143.481 Q612.421 141.398 609.273 141.398 Q605.708 141.398 603.555 143.412 Q601.426 145.426 601.102 149.083 L616.287 149.06 Z\" fill=\"#000000\" fill-rule=\"evenodd\" fill-opacity=\"1\" /><path clip-path=\"url(#clip260)\" d=\"M644.597 142.347 L644.597 128.319 L648.856 128.319 L648.856 164.338 L644.597 164.338 L644.597 160.449 Q643.254 162.763 641.194 163.898 Q639.157 165.009 636.287 165.009 Q631.588 165.009 628.625 161.259 Q625.685 157.509 625.685 151.398 Q625.685 145.287 628.625 141.537 Q631.588 137.787 636.287 137.787 Q639.157 137.787 641.194 138.921 Q643.254 140.032 644.597 142.347 M630.083 151.398 Q630.083 156.097 632.004 158.782 Q633.949 161.444 637.328 161.444 Q640.708 161.444 642.652 158.782 Q644.597 156.097 644.597 151.398 Q644.597 146.699 642.652 144.037 Q640.708 141.352 637.328 141.352 Q633.949 141.352 632.004 144.037 Q630.083 146.699 630.083 151.398 Z\" fill=\"#000000\" fill-rule=\"evenodd\" fill-opacity=\"1\" /><polyline clip-path=\"url(#clip260)\" style=\"stroke:#e26f46; stroke-linecap:round; stroke-linejoin:round; stroke-width:4; stroke-opacity:1; fill:none\" points=\"266.172,198.898 411.747,198.898 \"/>\n",
       "<path clip-path=\"url(#clip260)\" d=\"M443.417 182.891 L443.417 190.252 L452.19 190.252 L452.19 193.562 L443.417 193.562 L443.417 207.636 Q443.417 210.807 444.274 211.71 Q445.153 212.613 447.815 212.613 L452.19 212.613 L452.19 216.178 L447.815 216.178 Q442.885 216.178 441.01 214.349 Q439.135 212.497 439.135 207.636 L439.135 193.562 L436.01 193.562 L436.01 190.252 L439.135 190.252 L439.135 182.891 L443.417 182.891 Z\" fill=\"#000000\" fill-rule=\"evenodd\" fill-opacity=\"1\" /><path clip-path=\"url(#clip260)\" d=\"M472.815 194.233 Q472.098 193.817 471.241 193.631 Q470.408 193.423 469.389 193.423 Q465.778 193.423 463.834 195.784 Q461.913 198.122 461.913 202.52 L461.913 216.178 L457.63 216.178 L457.63 190.252 L461.913 190.252 L461.913 194.28 Q463.255 191.918 465.408 190.784 Q467.561 189.627 470.639 189.627 Q471.079 189.627 471.612 189.696 Q472.144 189.743 472.792 189.858 L472.815 194.233 Z\" fill=\"#000000\" fill-rule=\"evenodd\" fill-opacity=\"1\" /><path clip-path=\"url(#clip260)\" d=\"M476.843 205.946 L476.843 190.252 L481.102 190.252 L481.102 205.784 Q481.102 209.465 482.538 211.316 Q483.973 213.145 486.843 213.145 Q490.292 213.145 492.283 210.946 Q494.297 208.747 494.297 204.951 L494.297 190.252 L498.556 190.252 L498.556 216.178 L494.297 216.178 L494.297 212.196 Q492.746 214.557 490.686 215.715 Q488.649 216.849 485.94 216.849 Q481.473 216.849 479.158 214.071 Q476.843 211.293 476.843 205.946 M487.561 189.627 L487.561 189.627 Z\" fill=\"#000000\" fill-rule=\"evenodd\" fill-opacity=\"1\" /><path clip-path=\"url(#clip260)\" d=\"M529.505 202.15 L529.505 204.233 L509.922 204.233 Q510.199 208.631 512.561 210.946 Q514.945 213.238 519.181 213.238 Q521.635 213.238 523.926 212.636 Q526.241 212.034 528.509 210.83 L528.509 214.858 Q526.218 215.83 523.81 216.34 Q521.403 216.849 518.926 216.849 Q512.723 216.849 509.088 213.238 Q505.477 209.627 505.477 203.469 Q505.477 197.104 508.903 193.377 Q512.352 189.627 518.185 189.627 Q523.417 189.627 526.449 193.006 Q529.505 196.363 529.505 202.15 M525.246 200.9 Q525.199 197.405 523.278 195.321 Q521.38 193.238 518.232 193.238 Q514.667 193.238 512.514 195.252 Q510.385 197.266 510.061 200.923 L525.246 200.9 Z\" fill=\"#000000\" fill-rule=\"evenodd\" fill-opacity=\"1\" /><polyline clip-path=\"url(#clip260)\" style=\"stroke:#3da44d; stroke-linecap:round; stroke-linejoin:round; stroke-width:4; stroke-opacity:1; fill:none\" points=\"266.172,250.738 411.747,250.738 \"/>\n",
       "<path clip-path=\"url(#clip260)\" d=\"M452.515 231.999 L452.515 235.541 L448.44 235.541 Q446.149 235.541 445.246 236.467 Q444.366 237.393 444.366 239.8 L444.366 242.092 L451.38 242.092 L451.38 245.402 L444.366 245.402 L444.366 268.018 L440.084 268.018 L440.084 245.402 L436.01 245.402 L436.01 242.092 L440.084 242.092 L440.084 240.286 Q440.084 235.958 442.098 233.99 Q444.112 231.999 448.487 231.999 L452.515 231.999 Z\" fill=\"#000000\" fill-rule=\"evenodd\" fill-opacity=\"1\" /><path clip-path=\"url(#clip260)\" d=\"M456.079 242.092 L460.339 242.092 L460.339 268.018 L456.079 268.018 L456.079 242.092 M456.079 231.999 L460.339 231.999 L460.339 237.393 L456.079 237.393 L456.079 231.999 Z\" fill=\"#000000\" fill-rule=\"evenodd\" fill-opacity=\"1\" /><path clip-path=\"url(#clip260)\" d=\"M473.463 234.731 L473.463 242.092 L482.237 242.092 L482.237 245.402 L473.463 245.402 L473.463 259.476 Q473.463 262.647 474.32 263.55 Q475.2 264.453 477.862 264.453 L482.237 264.453 L482.237 268.018 L477.862 268.018 Q472.931 268.018 471.056 266.189 Q469.181 264.337 469.181 259.476 L469.181 245.402 L466.056 245.402 L466.056 242.092 L469.181 242.092 L469.181 234.731 L473.463 234.731 Z\" fill=\"#000000\" fill-rule=\"evenodd\" fill-opacity=\"1\" /><path clip-path=\"url(#clip260)\" d=\"M492.051 234.731 L492.051 242.092 L500.824 242.092 L500.824 245.402 L492.051 245.402 L492.051 259.476 Q492.051 262.647 492.908 263.55 Q493.787 264.453 496.449 264.453 L500.824 264.453 L500.824 268.018 L496.449 268.018 Q491.519 268.018 489.644 266.189 Q487.769 264.337 487.769 259.476 L487.769 245.402 L484.644 245.402 L484.644 242.092 L487.769 242.092 L487.769 234.731 L492.051 234.731 Z\" fill=\"#000000\" fill-rule=\"evenodd\" fill-opacity=\"1\" /><path clip-path=\"url(#clip260)\" d=\"M528.602 253.99 L528.602 256.073 L509.019 256.073 Q509.297 260.471 511.658 262.786 Q514.042 265.078 518.278 265.078 Q520.732 265.078 523.023 264.476 Q525.338 263.874 527.607 262.67 L527.607 266.698 Q525.315 267.67 522.908 268.18 Q520.5 268.689 518.023 268.689 Q511.82 268.689 508.186 265.078 Q504.574 261.467 504.574 255.309 Q504.574 248.944 508 245.217 Q511.449 241.467 517.283 241.467 Q522.514 241.467 525.547 244.846 Q528.602 248.203 528.602 253.99 M524.343 252.74 Q524.297 249.245 522.375 247.161 Q520.477 245.078 517.329 245.078 Q513.764 245.078 511.611 247.092 Q509.482 249.106 509.158 252.763 L524.343 252.74 Z\" fill=\"#000000\" fill-rule=\"evenodd\" fill-opacity=\"1\" /><path clip-path=\"url(#clip260)\" d=\"M552.653 246.027 L552.653 231.999 L556.912 231.999 L556.912 268.018 L552.653 268.018 L552.653 264.129 Q551.31 266.443 549.25 267.578 Q547.213 268.689 544.343 268.689 Q539.644 268.689 536.681 264.939 Q533.741 261.189 533.741 255.078 Q533.741 248.967 536.681 245.217 Q539.644 241.467 544.343 241.467 Q547.213 241.467 549.25 242.601 Q551.31 243.712 552.653 246.027 M538.139 255.078 Q538.139 259.777 540.06 262.462 Q542.005 265.124 545.384 265.124 Q548.764 265.124 550.708 262.462 Q552.653 259.777 552.653 255.078 Q552.653 250.379 550.708 247.717 Q548.764 245.032 545.384 245.032 Q542.005 245.032 540.06 247.717 Q538.139 250.379 538.139 255.078 Z\" fill=\"#000000\" fill-rule=\"evenodd\" fill-opacity=\"1\" /></svg>\n"
      ]
     },
     "execution_count": 152,
     "metadata": {},
     "output_type": "execute_result"
    }
   ],
   "source": [
    "\n",
    "\n",
    "using Plots \n",
    "using Polynomials\n",
    "scatter(x,y_observed,labels = \"observed\")\n",
    "plot!(x,y_true,labels = \"true\")\n",
    "line_fit = Polynomials.fit(x,y_observed,10)\n",
    "fit_coeffs = coeffs(line_fit)\n",
    "y_fitted = line_fit.(x)\n",
    "plot!(x,y_fitted,labels = \"fitted\" )"
   ]
  },
  {
   "cell_type": "markdown",
   "id": "36028ee0",
   "metadata": {},
   "source": [
    "### 2.6\n",
    "\n",
    "1. Create a new independent parameter x_fit ranging from -11 to 11 with an increment of 0.1\n",
    "2. Plot the same three plots as in 2.3 again but apply the tenth order polynomial to x_fit instead of x\n"
   ]
  },
  {
   "cell_type": "code",
   "execution_count": 153,
   "id": "6c67a977",
   "metadata": {},
   "outputs": [
    {
     "data": {
      "text/plain": [
       "221-element Vector{Float64}:\n",
       "  90.7918648719887\n",
       "  97.00011839585217\n",
       "  71.59798467116354\n",
       "  73.85359878282091\n",
       "  79.20778860901851\n",
       "  73.50776677637309\n",
       "  71.32890726433692\n",
       "  70.07657890751837\n",
       "  69.55272775312132\n",
       "  77.5638734284299\n",
       "  80.583284103024\n",
       "  68.63072891340127\n",
       "  47.939928784806284\n",
       "   ⋮\n",
       " 135.47312987295928\n",
       " 105.67770156968052\n",
       " 124.33116469494784\n",
       " 130.06085642215044\n",
       " 149.43499756921932\n",
       " 144.36790476367062\n",
       " 147.53662298492299\n",
       " 136.90713623008585\n",
       " 159.60825987057748\n",
       " 156.56020841532737\n",
       " 164.93907178325352\n",
       " 167.44763401086163"
      ]
     },
     "execution_count": 153,
     "metadata": {},
     "output_type": "execute_result"
    }
   ],
   "source": [
    "x_fit = range(start = -11, step = 0.1, length = 221)\n",
    "y_true = (x_fit.^2) .+ 3 .* x_fit .- 2\n",
    "\n",
    "using Distributions\n",
    "g = di.Normal(0,10)\n",
    "y_observed = y_true .+ rand(g,length(x_fit))"
   ]
  },
  {
   "cell_type": "code",
   "execution_count": 161,
   "id": "c35f2945",
   "metadata": {},
   "outputs": [
    {
     "data": {
      "image/svg+xml": [
       "<?xml version=\"1.0\" encoding=\"utf-8\"?>\n",
       "<svg xmlns=\"http://www.w3.org/2000/svg\" xmlns:xlink=\"http://www.w3.org/1999/xlink\" width=\"600\" height=\"400\" viewBox=\"0 0 2400 1600\">\n",
       "<defs>\n",
       "  <clipPath id=\"clip440\">\n",
       "    <rect x=\"0\" y=\"0\" width=\"2400\" height=\"1600\"/>\n",
       "  </clipPath>\n",
       "</defs>\n",
       "<path clip-path=\"url(#clip440)\" d=\"M0 1600 L2400 1600 L2400 0 L0 0  Z\" fill=\"#ffffff\" fill-rule=\"evenodd\" fill-opacity=\"1\"/>\n",
       "<defs>\n",
       "  <clipPath id=\"clip441\">\n",
       "    <rect x=\"480\" y=\"0\" width=\"1681\" height=\"1600\"/>\n",
       "  </clipPath>\n",
       "</defs>\n",
       "<path clip-path=\"url(#clip440)\" d=\"M169.121 1486.45 L2352.76 1486.45 L2352.76 47.2441 L169.121 47.2441  Z\" fill=\"#ffffff\" fill-rule=\"evenodd\" fill-opacity=\"1\"/>\n",
       "<defs>\n",
       "  <clipPath id=\"clip442\">\n",
       "    <rect x=\"169\" y=\"47\" width=\"2185\" height=\"1440\"/>\n",
       "  </clipPath>\n",
       "</defs>\n",
       "<polyline clip-path=\"url(#clip442)\" style=\"stroke:#000000; stroke-linecap:round; stroke-linejoin:round; stroke-width:2; stroke-opacity:0.1; fill:none\" points=\"324.56,1486.45 324.56,47.2441 \"/>\n",
       "<polyline clip-path=\"url(#clip442)\" style=\"stroke:#000000; stroke-linecap:round; stroke-linejoin:round; stroke-width:2; stroke-opacity:0.1; fill:none\" points=\"792.749,1486.45 792.749,47.2441 \"/>\n",
       "<polyline clip-path=\"url(#clip442)\" style=\"stroke:#000000; stroke-linecap:round; stroke-linejoin:round; stroke-width:2; stroke-opacity:0.1; fill:none\" points=\"1260.94,1486.45 1260.94,47.2441 \"/>\n",
       "<polyline clip-path=\"url(#clip442)\" style=\"stroke:#000000; stroke-linecap:round; stroke-linejoin:round; stroke-width:2; stroke-opacity:0.1; fill:none\" points=\"1729.13,1486.45 1729.13,47.2441 \"/>\n",
       "<polyline clip-path=\"url(#clip442)\" style=\"stroke:#000000; stroke-linecap:round; stroke-linejoin:round; stroke-width:2; stroke-opacity:0.1; fill:none\" points=\"2197.32,1486.45 2197.32,47.2441 \"/>\n",
       "<polyline clip-path=\"url(#clip440)\" style=\"stroke:#000000; stroke-linecap:round; stroke-linejoin:round; stroke-width:4; stroke-opacity:1; fill:none\" points=\"169.121,1486.45 2352.76,1486.45 \"/>\n",
       "<polyline clip-path=\"url(#clip440)\" style=\"stroke:#000000; stroke-linecap:round; stroke-linejoin:round; stroke-width:4; stroke-opacity:1; fill:none\" points=\"324.56,1486.45 324.56,1467.55 \"/>\n",
       "<polyline clip-path=\"url(#clip440)\" style=\"stroke:#000000; stroke-linecap:round; stroke-linejoin:round; stroke-width:4; stroke-opacity:1; fill:none\" points=\"792.749,1486.45 792.749,1467.55 \"/>\n",
       "<polyline clip-path=\"url(#clip440)\" style=\"stroke:#000000; stroke-linecap:round; stroke-linejoin:round; stroke-width:4; stroke-opacity:1; fill:none\" points=\"1260.94,1486.45 1260.94,1467.55 \"/>\n",
       "<polyline clip-path=\"url(#clip440)\" style=\"stroke:#000000; stroke-linecap:round; stroke-linejoin:round; stroke-width:4; stroke-opacity:1; fill:none\" points=\"1729.13,1486.45 1729.13,1467.55 \"/>\n",
       "<polyline clip-path=\"url(#clip440)\" style=\"stroke:#000000; stroke-linecap:round; stroke-linejoin:round; stroke-width:4; stroke-opacity:1; fill:none\" points=\"2197.32,1486.45 2197.32,1467.55 \"/>\n",
       "<path clip-path=\"url(#clip440)\" d=\"M278.623 1532.02 L308.299 1532.02 L308.299 1535.95 L278.623 1535.95 L278.623 1532.02 Z\" fill=\"#000000\" fill-rule=\"evenodd\" fill-opacity=\"1\" /><path clip-path=\"url(#clip440)\" d=\"M319.201 1544.91 L326.84 1544.91 L326.84 1518.55 L318.53 1520.21 L318.53 1515.95 L326.794 1514.29 L331.47 1514.29 L331.47 1544.91 L339.109 1544.91 L339.109 1548.85 L319.201 1548.85 L319.201 1544.91 Z\" fill=\"#000000\" fill-rule=\"evenodd\" fill-opacity=\"1\" /><path clip-path=\"url(#clip440)\" d=\"M358.553 1517.37 Q354.942 1517.37 353.113 1520.93 Q351.308 1524.47 351.308 1531.6 Q351.308 1538.71 353.113 1542.27 Q354.942 1545.82 358.553 1545.82 Q362.187 1545.82 363.993 1542.27 Q365.821 1538.71 365.821 1531.6 Q365.821 1524.47 363.993 1520.93 Q362.187 1517.37 358.553 1517.37 M358.553 1513.66 Q364.363 1513.66 367.419 1518.27 Q370.497 1522.85 370.497 1531.6 Q370.497 1540.33 367.419 1544.94 Q364.363 1549.52 358.553 1549.52 Q352.743 1549.52 349.664 1544.94 Q346.609 1540.33 346.609 1531.6 Q346.609 1522.85 349.664 1518.27 Q352.743 1513.66 358.553 1513.66 Z\" fill=\"#000000\" fill-rule=\"evenodd\" fill-opacity=\"1\" /><path clip-path=\"url(#clip440)\" d=\"M762.391 1532.02 L792.067 1532.02 L792.067 1535.95 L762.391 1535.95 L762.391 1532.02 Z\" fill=\"#000000\" fill-rule=\"evenodd\" fill-opacity=\"1\" /><path clip-path=\"url(#clip440)\" d=\"M802.205 1514.29 L820.562 1514.29 L820.562 1518.22 L806.488 1518.22 L806.488 1526.7 Q807.506 1526.35 808.525 1526.19 Q809.543 1526 810.562 1526 Q816.349 1526 819.728 1529.17 Q823.108 1532.34 823.108 1537.76 Q823.108 1543.34 819.636 1546.44 Q816.164 1549.52 809.844 1549.52 Q807.668 1549.52 805.4 1549.15 Q803.154 1548.78 800.747 1548.04 L800.747 1543.34 Q802.83 1544.47 805.053 1545.03 Q807.275 1545.58 809.752 1545.58 Q813.756 1545.58 816.094 1543.48 Q818.432 1541.37 818.432 1537.76 Q818.432 1534.15 816.094 1532.04 Q813.756 1529.94 809.752 1529.94 Q807.877 1529.94 806.002 1530.35 Q804.15 1530.77 802.205 1531.65 L802.205 1514.29 Z\" fill=\"#000000\" fill-rule=\"evenodd\" fill-opacity=\"1\" /><path clip-path=\"url(#clip440)\" d=\"M1260.94 1517.37 Q1257.33 1517.37 1255.5 1520.93 Q1253.69 1524.47 1253.69 1531.6 Q1253.69 1538.71 1255.5 1542.27 Q1257.33 1545.82 1260.94 1545.82 Q1264.57 1545.82 1266.38 1542.27 Q1268.21 1538.71 1268.21 1531.6 Q1268.21 1524.47 1266.38 1520.93 Q1264.57 1517.37 1260.94 1517.37 M1260.94 1513.66 Q1266.75 1513.66 1269.8 1518.27 Q1272.88 1522.85 1272.88 1531.6 Q1272.88 1540.33 1269.8 1544.94 Q1266.75 1549.52 1260.94 1549.52 Q1255.13 1549.52 1252.05 1544.94 Q1248.99 1540.33 1248.99 1531.6 Q1248.99 1522.85 1252.05 1518.27 Q1255.13 1513.66 1260.94 1513.66 Z\" fill=\"#000000\" fill-rule=\"evenodd\" fill-opacity=\"1\" /><path clip-path=\"url(#clip440)\" d=\"M1719.41 1514.29 L1737.76 1514.29 L1737.76 1518.22 L1723.69 1518.22 L1723.69 1526.7 Q1724.71 1526.35 1725.73 1526.19 Q1726.74 1526 1727.76 1526 Q1733.55 1526 1736.93 1529.17 Q1740.31 1532.34 1740.31 1537.76 Q1740.31 1543.34 1736.84 1546.44 Q1733.36 1549.52 1727.04 1549.52 Q1724.87 1549.52 1722.6 1549.15 Q1720.35 1548.78 1717.95 1548.04 L1717.95 1543.34 Q1720.03 1544.47 1722.25 1545.03 Q1724.48 1545.58 1726.95 1545.58 Q1730.96 1545.58 1733.29 1543.48 Q1735.63 1541.37 1735.63 1537.76 Q1735.63 1534.15 1733.29 1532.04 Q1730.96 1529.94 1726.95 1529.94 Q1725.08 1529.94 1723.2 1530.35 Q1721.35 1530.77 1719.41 1531.65 L1719.41 1514.29 Z\" fill=\"#000000\" fill-rule=\"evenodd\" fill-opacity=\"1\" /><path clip-path=\"url(#clip440)\" d=\"M2172 1544.91 L2179.64 1544.91 L2179.64 1518.55 L2171.33 1520.21 L2171.33 1515.95 L2179.6 1514.29 L2184.27 1514.29 L2184.27 1544.91 L2191.91 1544.91 L2191.91 1548.85 L2172 1548.85 L2172 1544.91 Z\" fill=\"#000000\" fill-rule=\"evenodd\" fill-opacity=\"1\" /><path clip-path=\"url(#clip440)\" d=\"M2211.36 1517.37 Q2207.75 1517.37 2205.92 1520.93 Q2204.11 1524.47 2204.11 1531.6 Q2204.11 1538.71 2205.92 1542.27 Q2207.75 1545.82 2211.36 1545.82 Q2214.99 1545.82 2216.8 1542.27 Q2218.62 1538.71 2218.62 1531.6 Q2218.62 1524.47 2216.8 1520.93 Q2214.99 1517.37 2211.36 1517.37 M2211.36 1513.66 Q2217.17 1513.66 2220.22 1518.27 Q2223.3 1522.85 2223.3 1531.6 Q2223.3 1540.33 2220.22 1544.94 Q2217.17 1549.52 2211.36 1549.52 Q2205.55 1549.52 2202.47 1544.94 Q2199.41 1540.33 2199.41 1531.6 Q2199.41 1522.85 2202.47 1518.27 Q2205.55 1513.66 2211.36 1513.66 Z\" fill=\"#000000\" fill-rule=\"evenodd\" fill-opacity=\"1\" /><polyline clip-path=\"url(#clip442)\" style=\"stroke:#000000; stroke-linecap:round; stroke-linejoin:round; stroke-width:2; stroke-opacity:0.1; fill:none\" points=\"169.121,1278.37 2352.76,1278.37 \"/>\n",
       "<polyline clip-path=\"url(#clip442)\" style=\"stroke:#000000; stroke-linecap:round; stroke-linejoin:round; stroke-width:2; stroke-opacity:0.1; fill:none\" points=\"169.121,927.917 2352.76,927.917 \"/>\n",
       "<polyline clip-path=\"url(#clip442)\" style=\"stroke:#000000; stroke-linecap:round; stroke-linejoin:round; stroke-width:2; stroke-opacity:0.1; fill:none\" points=\"169.121,577.462 2352.76,577.462 \"/>\n",
       "<polyline clip-path=\"url(#clip442)\" style=\"stroke:#000000; stroke-linecap:round; stroke-linejoin:round; stroke-width:2; stroke-opacity:0.1; fill:none\" points=\"169.121,227.007 2352.76,227.007 \"/>\n",
       "<polyline clip-path=\"url(#clip440)\" style=\"stroke:#000000; stroke-linecap:round; stroke-linejoin:round; stroke-width:4; stroke-opacity:1; fill:none\" points=\"169.121,1486.45 169.121,47.2441 \"/>\n",
       "<polyline clip-path=\"url(#clip440)\" style=\"stroke:#000000; stroke-linecap:round; stroke-linejoin:round; stroke-width:4; stroke-opacity:1; fill:none\" points=\"169.121,1278.37 188.019,1278.37 \"/>\n",
       "<polyline clip-path=\"url(#clip440)\" style=\"stroke:#000000; stroke-linecap:round; stroke-linejoin:round; stroke-width:4; stroke-opacity:1; fill:none\" points=\"169.121,927.917 188.019,927.917 \"/>\n",
       "<polyline clip-path=\"url(#clip440)\" style=\"stroke:#000000; stroke-linecap:round; stroke-linejoin:round; stroke-width:4; stroke-opacity:1; fill:none\" points=\"169.121,577.462 188.019,577.462 \"/>\n",
       "<polyline clip-path=\"url(#clip440)\" style=\"stroke:#000000; stroke-linecap:round; stroke-linejoin:round; stroke-width:4; stroke-opacity:1; fill:none\" points=\"169.121,227.007 188.019,227.007 \"/>\n",
       "<path clip-path=\"url(#clip440)\" d=\"M121.177 1264.17 Q117.566 1264.17 115.737 1267.74 Q113.932 1271.28 113.932 1278.41 Q113.932 1285.51 115.737 1289.08 Q117.566 1292.62 121.177 1292.62 Q124.811 1292.62 126.617 1289.08 Q128.445 1285.51 128.445 1278.41 Q128.445 1271.28 126.617 1267.74 Q124.811 1264.17 121.177 1264.17 M121.177 1260.47 Q126.987 1260.47 130.043 1265.07 Q133.121 1269.66 133.121 1278.41 Q133.121 1287.13 130.043 1291.74 Q126.987 1296.32 121.177 1296.32 Q115.367 1296.32 112.288 1291.74 Q109.233 1287.13 109.233 1278.41 Q109.233 1269.66 112.288 1265.07 Q115.367 1260.47 121.177 1260.47 Z\" fill=\"#000000\" fill-rule=\"evenodd\" fill-opacity=\"1\" /><path clip-path=\"url(#clip440)\" d=\"M81.0614 910.637 L99.4178 910.637 L99.4178 914.572 L85.3438 914.572 L85.3438 923.044 Q86.3623 922.697 87.3808 922.535 Q88.3993 922.35 89.4178 922.35 Q95.2049 922.35 98.5845 925.521 Q101.964 928.692 101.964 934.109 Q101.964 939.688 98.4919 942.789 Q95.0197 945.868 88.7003 945.868 Q86.5243 945.868 84.2558 945.498 Q82.0105 945.127 79.6031 944.387 L79.6031 939.688 Q81.6864 940.822 83.9086 941.377 Q86.1308 941.933 88.6077 941.933 Q92.6123 941.933 94.9502 939.827 Q97.2882 937.72 97.2882 934.109 Q97.2882 930.498 94.9502 928.391 Q92.6123 926.285 88.6077 926.285 Q86.7327 926.285 84.8577 926.702 Q83.0058 927.118 81.0614 927.998 L81.0614 910.637 Z\" fill=\"#000000\" fill-rule=\"evenodd\" fill-opacity=\"1\" /><path clip-path=\"url(#clip440)\" d=\"M121.177 913.716 Q117.566 913.716 115.737 917.28 Q113.932 920.822 113.932 927.952 Q113.932 935.058 115.737 938.623 Q117.566 942.164 121.177 942.164 Q124.811 942.164 126.617 938.623 Q128.445 935.058 128.445 927.952 Q128.445 920.822 126.617 917.28 Q124.811 913.716 121.177 913.716 M121.177 910.012 Q126.987 910.012 130.043 914.618 Q133.121 919.202 133.121 927.952 Q133.121 936.678 130.043 941.285 Q126.987 945.868 121.177 945.868 Q115.367 945.868 112.288 941.285 Q109.233 936.678 109.233 927.952 Q109.233 919.202 112.288 914.618 Q115.367 910.012 121.177 910.012 Z\" fill=\"#000000\" fill-rule=\"evenodd\" fill-opacity=\"1\" /><path clip-path=\"url(#clip440)\" d=\"M51.6634 590.807 L59.3023 590.807 L59.3023 564.441 L50.9921 566.108 L50.9921 561.849 L59.256 560.182 L63.9319 560.182 L63.9319 590.807 L71.5707 590.807 L71.5707 594.742 L51.6634 594.742 L51.6634 590.807 Z\" fill=\"#000000\" fill-rule=\"evenodd\" fill-opacity=\"1\" /><path clip-path=\"url(#clip440)\" d=\"M91.0151 563.261 Q87.404 563.261 85.5753 566.826 Q83.7697 570.367 83.7697 577.497 Q83.7697 584.603 85.5753 588.168 Q87.404 591.71 91.0151 591.71 Q94.6493 591.71 96.4548 588.168 Q98.2835 584.603 98.2835 577.497 Q98.2835 570.367 96.4548 566.826 Q94.6493 563.261 91.0151 563.261 M91.0151 559.557 Q96.8252 559.557 99.8808 564.164 Q102.959 568.747 102.959 577.497 Q102.959 586.224 99.8808 590.83 Q96.8252 595.413 91.0151 595.413 Q85.2049 595.413 82.1262 590.83 Q79.0707 586.224 79.0707 577.497 Q79.0707 568.747 82.1262 564.164 Q85.2049 559.557 91.0151 559.557 Z\" fill=\"#000000\" fill-rule=\"evenodd\" fill-opacity=\"1\" /><path clip-path=\"url(#clip440)\" d=\"M121.177 563.261 Q117.566 563.261 115.737 566.826 Q113.932 570.367 113.932 577.497 Q113.932 584.603 115.737 588.168 Q117.566 591.71 121.177 591.71 Q124.811 591.71 126.617 588.168 Q128.445 584.603 128.445 577.497 Q128.445 570.367 126.617 566.826 Q124.811 563.261 121.177 563.261 M121.177 559.557 Q126.987 559.557 130.043 564.164 Q133.121 568.747 133.121 577.497 Q133.121 586.224 130.043 590.83 Q126.987 595.413 121.177 595.413 Q115.367 595.413 112.288 590.83 Q109.233 586.224 109.233 577.497 Q109.233 568.747 112.288 564.164 Q115.367 559.557 121.177 559.557 Z\" fill=\"#000000\" fill-rule=\"evenodd\" fill-opacity=\"1\" /><path clip-path=\"url(#clip440)\" d=\"M51.6634 240.352 L59.3023 240.352 L59.3023 213.987 L50.9921 215.653 L50.9921 211.394 L59.256 209.727 L63.9319 209.727 L63.9319 240.352 L71.5707 240.352 L71.5707 244.287 L51.6634 244.287 L51.6634 240.352 Z\" fill=\"#000000\" fill-rule=\"evenodd\" fill-opacity=\"1\" /><path clip-path=\"url(#clip440)\" d=\"M81.0614 209.727 L99.4178 209.727 L99.4178 213.663 L85.3438 213.663 L85.3438 222.135 Q86.3623 221.788 87.3808 221.625 Q88.3993 221.44 89.4178 221.44 Q95.2049 221.44 98.5845 224.612 Q101.964 227.783 101.964 233.199 Q101.964 238.778 98.4919 241.88 Q95.0197 244.959 88.7003 244.959 Q86.5243 244.959 84.2558 244.588 Q82.0105 244.218 79.6031 243.477 L79.6031 238.778 Q81.6864 239.912 83.9086 240.468 Q86.1308 241.024 88.6077 241.024 Q92.6123 241.024 94.9502 238.917 Q97.2882 236.811 97.2882 233.199 Q97.2882 229.588 94.9502 227.482 Q92.6123 225.375 88.6077 225.375 Q86.7327 225.375 84.8577 225.792 Q83.0058 226.209 81.0614 227.088 L81.0614 209.727 Z\" fill=\"#000000\" fill-rule=\"evenodd\" fill-opacity=\"1\" /><path clip-path=\"url(#clip440)\" d=\"M121.177 212.806 Q117.566 212.806 115.737 216.371 Q113.932 219.913 113.932 227.042 Q113.932 234.149 115.737 237.713 Q117.566 241.255 121.177 241.255 Q124.811 241.255 126.617 237.713 Q128.445 234.149 128.445 227.042 Q128.445 219.913 126.617 216.371 Q124.811 212.806 121.177 212.806 M121.177 209.102 Q126.987 209.102 130.043 213.709 Q133.121 218.292 133.121 227.042 Q133.121 235.769 130.043 240.375 Q126.987 244.959 121.177 244.959 Q115.367 244.959 112.288 240.375 Q109.233 235.769 109.233 227.042 Q109.233 218.292 112.288 213.709 Q115.367 209.102 121.177 209.102 Z\" fill=\"#000000\" fill-rule=\"evenodd\" fill-opacity=\"1\" /><circle clip-path=\"url(#clip442)\" cx=\"230.922\" cy=\"642.003\" r=\"14.4\" fill=\"#009af9\" fill-rule=\"evenodd\" fill-opacity=\"1\" stroke=\"#000000\" stroke-opacity=\"1\" stroke-width=\"3.2\"/>\n",
       "<circle clip-path=\"url(#clip442)\" cx=\"240.286\" cy=\"598.489\" r=\"14.4\" fill=\"#009af9\" fill-rule=\"evenodd\" fill-opacity=\"1\" stroke=\"#000000\" stroke-opacity=\"1\" stroke-width=\"3.2\"/>\n",
       "<circle clip-path=\"url(#clip442)\" cx=\"249.65\" cy=\"776.535\" r=\"14.4\" fill=\"#009af9\" fill-rule=\"evenodd\" fill-opacity=\"1\" stroke=\"#000000\" stroke-opacity=\"1\" stroke-width=\"3.2\"/>\n",
       "<circle clip-path=\"url(#clip442)\" cx=\"259.014\" cy=\"760.725\" r=\"14.4\" fill=\"#009af9\" fill-rule=\"evenodd\" fill-opacity=\"1\" stroke=\"#000000\" stroke-opacity=\"1\" stroke-width=\"3.2\"/>\n",
       "<circle clip-path=\"url(#clip442)\" cx=\"268.377\" cy=\"723.197\" r=\"14.4\" fill=\"#009af9\" fill-rule=\"evenodd\" fill-opacity=\"1\" stroke=\"#000000\" stroke-opacity=\"1\" stroke-width=\"3.2\"/>\n",
       "<circle clip-path=\"url(#clip442)\" cx=\"277.741\" cy=\"763.149\" r=\"14.4\" fill=\"#009af9\" fill-rule=\"evenodd\" fill-opacity=\"1\" stroke=\"#000000\" stroke-opacity=\"1\" stroke-width=\"3.2\"/>\n",
       "<circle clip-path=\"url(#clip442)\" cx=\"287.105\" cy=\"778.421\" r=\"14.4\" fill=\"#009af9\" fill-rule=\"evenodd\" fill-opacity=\"1\" stroke=\"#000000\" stroke-opacity=\"1\" stroke-width=\"3.2\"/>\n",
       "<circle clip-path=\"url(#clip442)\" cx=\"296.469\" cy=\"787.198\" r=\"14.4\" fill=\"#009af9\" fill-rule=\"evenodd\" fill-opacity=\"1\" stroke=\"#000000\" stroke-opacity=\"1\" stroke-width=\"3.2\"/>\n",
       "<circle clip-path=\"url(#clip442)\" cx=\"305.833\" cy=\"790.87\" r=\"14.4\" fill=\"#009af9\" fill-rule=\"evenodd\" fill-opacity=\"1\" stroke=\"#000000\" stroke-opacity=\"1\" stroke-width=\"3.2\"/>\n",
       "<circle clip-path=\"url(#clip442)\" cx=\"315.196\" cy=\"734.719\" r=\"14.4\" fill=\"#009af9\" fill-rule=\"evenodd\" fill-opacity=\"1\" stroke=\"#000000\" stroke-opacity=\"1\" stroke-width=\"3.2\"/>\n",
       "<circle clip-path=\"url(#clip442)\" cx=\"324.56\" cy=\"713.556\" r=\"14.4\" fill=\"#009af9\" fill-rule=\"evenodd\" fill-opacity=\"1\" stroke=\"#000000\" stroke-opacity=\"1\" stroke-width=\"3.2\"/>\n",
       "<circle clip-path=\"url(#clip442)\" cx=\"333.924\" cy=\"797.332\" r=\"14.4\" fill=\"#009af9\" fill-rule=\"evenodd\" fill-opacity=\"1\" stroke=\"#000000\" stroke-opacity=\"1\" stroke-width=\"3.2\"/>\n",
       "<circle clip-path=\"url(#clip442)\" cx=\"343.288\" cy=\"942.356\" r=\"14.4\" fill=\"#009af9\" fill-rule=\"evenodd\" fill-opacity=\"1\" stroke=\"#000000\" stroke-opacity=\"1\" stroke-width=\"3.2\"/>\n",
       "<circle clip-path=\"url(#clip442)\" cx=\"352.651\" cy=\"705.348\" r=\"14.4\" fill=\"#009af9\" fill-rule=\"evenodd\" fill-opacity=\"1\" stroke=\"#000000\" stroke-opacity=\"1\" stroke-width=\"3.2\"/>\n",
       "<circle clip-path=\"url(#clip442)\" cx=\"362.015\" cy=\"918.127\" r=\"14.4\" fill=\"#009af9\" fill-rule=\"evenodd\" fill-opacity=\"1\" stroke=\"#000000\" stroke-opacity=\"1\" stroke-width=\"3.2\"/>\n",
       "<circle clip-path=\"url(#clip442)\" cx=\"371.379\" cy=\"661.686\" r=\"14.4\" fill=\"#009af9\" fill-rule=\"evenodd\" fill-opacity=\"1\" stroke=\"#000000\" stroke-opacity=\"1\" stroke-width=\"3.2\"/>\n",
       "<circle clip-path=\"url(#clip442)\" cx=\"380.743\" cy=\"895.297\" r=\"14.4\" fill=\"#009af9\" fill-rule=\"evenodd\" fill-opacity=\"1\" stroke=\"#000000\" stroke-opacity=\"1\" stroke-width=\"3.2\"/>\n",
       "<circle clip-path=\"url(#clip442)\" cx=\"390.107\" cy=\"910.164\" r=\"14.4\" fill=\"#009af9\" fill-rule=\"evenodd\" fill-opacity=\"1\" stroke=\"#000000\" stroke-opacity=\"1\" stroke-width=\"3.2\"/>\n",
       "<circle clip-path=\"url(#clip442)\" cx=\"399.47\" cy=\"917.538\" r=\"14.4\" fill=\"#009af9\" fill-rule=\"evenodd\" fill-opacity=\"1\" stroke=\"#000000\" stroke-opacity=\"1\" stroke-width=\"3.2\"/>\n",
       "<circle clip-path=\"url(#clip442)\" cx=\"408.834\" cy=\"1001.27\" r=\"14.4\" fill=\"#009af9\" fill-rule=\"evenodd\" fill-opacity=\"1\" stroke=\"#000000\" stroke-opacity=\"1\" stroke-width=\"3.2\"/>\n",
       "<circle clip-path=\"url(#clip442)\" cx=\"418.198\" cy=\"1020.27\" r=\"14.4\" fill=\"#009af9\" fill-rule=\"evenodd\" fill-opacity=\"1\" stroke=\"#000000\" stroke-opacity=\"1\" stroke-width=\"3.2\"/>\n",
       "<circle clip-path=\"url(#clip442)\" cx=\"427.562\" cy=\"970.892\" r=\"14.4\" fill=\"#009af9\" fill-rule=\"evenodd\" fill-opacity=\"1\" stroke=\"#000000\" stroke-opacity=\"1\" stroke-width=\"3.2\"/>\n",
       "<circle clip-path=\"url(#clip442)\" cx=\"436.926\" cy=\"855.577\" r=\"14.4\" fill=\"#009af9\" fill-rule=\"evenodd\" fill-opacity=\"1\" stroke=\"#000000\" stroke-opacity=\"1\" stroke-width=\"3.2\"/>\n",
       "<circle clip-path=\"url(#clip442)\" cx=\"446.289\" cy=\"840.895\" r=\"14.4\" fill=\"#009af9\" fill-rule=\"evenodd\" fill-opacity=\"1\" stroke=\"#000000\" stroke-opacity=\"1\" stroke-width=\"3.2\"/>\n",
       "<circle clip-path=\"url(#clip442)\" cx=\"455.653\" cy=\"1003.16\" r=\"14.4\" fill=\"#009af9\" fill-rule=\"evenodd\" fill-opacity=\"1\" stroke=\"#000000\" stroke-opacity=\"1\" stroke-width=\"3.2\"/>\n",
       "<circle clip-path=\"url(#clip442)\" cx=\"465.017\" cy=\"1050.78\" r=\"14.4\" fill=\"#009af9\" fill-rule=\"evenodd\" fill-opacity=\"1\" stroke=\"#000000\" stroke-opacity=\"1\" stroke-width=\"3.2\"/>\n",
       "<circle clip-path=\"url(#clip442)\" cx=\"474.381\" cy=\"870.955\" r=\"14.4\" fill=\"#009af9\" fill-rule=\"evenodd\" fill-opacity=\"1\" stroke=\"#000000\" stroke-opacity=\"1\" stroke-width=\"3.2\"/>\n",
       "<circle clip-path=\"url(#clip442)\" cx=\"483.744\" cy=\"981.654\" r=\"14.4\" fill=\"#009af9\" fill-rule=\"evenodd\" fill-opacity=\"1\" stroke=\"#000000\" stroke-opacity=\"1\" stroke-width=\"3.2\"/>\n",
       "<circle clip-path=\"url(#clip442)\" cx=\"493.108\" cy=\"1023.97\" r=\"14.4\" fill=\"#009af9\" fill-rule=\"evenodd\" fill-opacity=\"1\" stroke=\"#000000\" stroke-opacity=\"1\" stroke-width=\"3.2\"/>\n",
       "<circle clip-path=\"url(#clip442)\" cx=\"502.472\" cy=\"1033.14\" r=\"14.4\" fill=\"#009af9\" fill-rule=\"evenodd\" fill-opacity=\"1\" stroke=\"#000000\" stroke-opacity=\"1\" stroke-width=\"3.2\"/>\n",
       "<circle clip-path=\"url(#clip442)\" cx=\"511.836\" cy=\"971.305\" r=\"14.4\" fill=\"#009af9\" fill-rule=\"evenodd\" fill-opacity=\"1\" stroke=\"#000000\" stroke-opacity=\"1\" stroke-width=\"3.2\"/>\n",
       "<circle clip-path=\"url(#clip442)\" cx=\"521.2\" cy=\"1117.2\" r=\"14.4\" fill=\"#009af9\" fill-rule=\"evenodd\" fill-opacity=\"1\" stroke=\"#000000\" stroke-opacity=\"1\" stroke-width=\"3.2\"/>\n",
       "<circle clip-path=\"url(#clip442)\" cx=\"530.563\" cy=\"1058.07\" r=\"14.4\" fill=\"#009af9\" fill-rule=\"evenodd\" fill-opacity=\"1\" stroke=\"#000000\" stroke-opacity=\"1\" stroke-width=\"3.2\"/>\n",
       "<circle clip-path=\"url(#clip442)\" cx=\"539.927\" cy=\"1042.05\" r=\"14.4\" fill=\"#009af9\" fill-rule=\"evenodd\" fill-opacity=\"1\" stroke=\"#000000\" stroke-opacity=\"1\" stroke-width=\"3.2\"/>\n",
       "<circle clip-path=\"url(#clip442)\" cx=\"549.291\" cy=\"990.213\" r=\"14.4\" fill=\"#009af9\" fill-rule=\"evenodd\" fill-opacity=\"1\" stroke=\"#000000\" stroke-opacity=\"1\" stroke-width=\"3.2\"/>\n",
       "<circle clip-path=\"url(#clip442)\" cx=\"558.655\" cy=\"1048.89\" r=\"14.4\" fill=\"#009af9\" fill-rule=\"evenodd\" fill-opacity=\"1\" stroke=\"#000000\" stroke-opacity=\"1\" stroke-width=\"3.2\"/>\n",
       "<circle clip-path=\"url(#clip442)\" cx=\"568.019\" cy=\"1128.53\" r=\"14.4\" fill=\"#009af9\" fill-rule=\"evenodd\" fill-opacity=\"1\" stroke=\"#000000\" stroke-opacity=\"1\" stroke-width=\"3.2\"/>\n",
       "<circle clip-path=\"url(#clip442)\" cx=\"577.382\" cy=\"1174.32\" r=\"14.4\" fill=\"#009af9\" fill-rule=\"evenodd\" fill-opacity=\"1\" stroke=\"#000000\" stroke-opacity=\"1\" stroke-width=\"3.2\"/>\n",
       "<circle clip-path=\"url(#clip442)\" cx=\"586.746\" cy=\"1112.65\" r=\"14.4\" fill=\"#009af9\" fill-rule=\"evenodd\" fill-opacity=\"1\" stroke=\"#000000\" stroke-opacity=\"1\" stroke-width=\"3.2\"/>\n",
       "<circle clip-path=\"url(#clip442)\" cx=\"596.11\" cy=\"1154.92\" r=\"14.4\" fill=\"#009af9\" fill-rule=\"evenodd\" fill-opacity=\"1\" stroke=\"#000000\" stroke-opacity=\"1\" stroke-width=\"3.2\"/>\n",
       "<circle clip-path=\"url(#clip442)\" cx=\"605.474\" cy=\"1083.04\" r=\"14.4\" fill=\"#009af9\" fill-rule=\"evenodd\" fill-opacity=\"1\" stroke=\"#000000\" stroke-opacity=\"1\" stroke-width=\"3.2\"/>\n",
       "<circle clip-path=\"url(#clip442)\" cx=\"614.837\" cy=\"1062.77\" r=\"14.4\" fill=\"#009af9\" fill-rule=\"evenodd\" fill-opacity=\"1\" stroke=\"#000000\" stroke-opacity=\"1\" stroke-width=\"3.2\"/>\n",
       "<circle clip-path=\"url(#clip442)\" cx=\"624.201\" cy=\"1001.34\" r=\"14.4\" fill=\"#009af9\" fill-rule=\"evenodd\" fill-opacity=\"1\" stroke=\"#000000\" stroke-opacity=\"1\" stroke-width=\"3.2\"/>\n",
       "<circle clip-path=\"url(#clip442)\" cx=\"633.565\" cy=\"1217.94\" r=\"14.4\" fill=\"#009af9\" fill-rule=\"evenodd\" fill-opacity=\"1\" stroke=\"#000000\" stroke-opacity=\"1\" stroke-width=\"3.2\"/>\n",
       "<circle clip-path=\"url(#clip442)\" cx=\"642.929\" cy=\"1154.41\" r=\"14.4\" fill=\"#009af9\" fill-rule=\"evenodd\" fill-opacity=\"1\" stroke=\"#000000\" stroke-opacity=\"1\" stroke-width=\"3.2\"/>\n",
       "<circle clip-path=\"url(#clip442)\" cx=\"652.293\" cy=\"1120.2\" r=\"14.4\" fill=\"#009af9\" fill-rule=\"evenodd\" fill-opacity=\"1\" stroke=\"#000000\" stroke-opacity=\"1\" stroke-width=\"3.2\"/>\n",
       "<circle clip-path=\"url(#clip442)\" cx=\"661.656\" cy=\"1210.36\" r=\"14.4\" fill=\"#009af9\" fill-rule=\"evenodd\" fill-opacity=\"1\" stroke=\"#000000\" stroke-opacity=\"1\" stroke-width=\"3.2\"/>\n",
       "<circle clip-path=\"url(#clip442)\" cx=\"671.02\" cy=\"1146.98\" r=\"14.4\" fill=\"#009af9\" fill-rule=\"evenodd\" fill-opacity=\"1\" stroke=\"#000000\" stroke-opacity=\"1\" stroke-width=\"3.2\"/>\n",
       "<circle clip-path=\"url(#clip442)\" cx=\"680.384\" cy=\"1082.29\" r=\"14.4\" fill=\"#009af9\" fill-rule=\"evenodd\" fill-opacity=\"1\" stroke=\"#000000\" stroke-opacity=\"1\" stroke-width=\"3.2\"/>\n",
       "<circle clip-path=\"url(#clip442)\" cx=\"689.748\" cy=\"1077.4\" r=\"14.4\" fill=\"#009af9\" fill-rule=\"evenodd\" fill-opacity=\"1\" stroke=\"#000000\" stroke-opacity=\"1\" stroke-width=\"3.2\"/>\n",
       "<circle clip-path=\"url(#clip442)\" cx=\"699.112\" cy=\"1360.94\" r=\"14.4\" fill=\"#009af9\" fill-rule=\"evenodd\" fill-opacity=\"1\" stroke=\"#000000\" stroke-opacity=\"1\" stroke-width=\"3.2\"/>\n",
       "<circle clip-path=\"url(#clip442)\" cx=\"708.475\" cy=\"1157.47\" r=\"14.4\" fill=\"#009af9\" fill-rule=\"evenodd\" fill-opacity=\"1\" stroke=\"#000000\" stroke-opacity=\"1\" stroke-width=\"3.2\"/>\n",
       "<circle clip-path=\"url(#clip442)\" cx=\"717.839\" cy=\"1214.89\" r=\"14.4\" fill=\"#009af9\" fill-rule=\"evenodd\" fill-opacity=\"1\" stroke=\"#000000\" stroke-opacity=\"1\" stroke-width=\"3.2\"/>\n",
       "<circle clip-path=\"url(#clip442)\" cx=\"727.203\" cy=\"1149.9\" r=\"14.4\" fill=\"#009af9\" fill-rule=\"evenodd\" fill-opacity=\"1\" stroke=\"#000000\" stroke-opacity=\"1\" stroke-width=\"3.2\"/>\n",
       "<circle clip-path=\"url(#clip442)\" cx=\"736.567\" cy=\"1257.73\" r=\"14.4\" fill=\"#009af9\" fill-rule=\"evenodd\" fill-opacity=\"1\" stroke=\"#000000\" stroke-opacity=\"1\" stroke-width=\"3.2\"/>\n",
       "<circle clip-path=\"url(#clip442)\" cx=\"745.93\" cy=\"1187.95\" r=\"14.4\" fill=\"#009af9\" fill-rule=\"evenodd\" fill-opacity=\"1\" stroke=\"#000000\" stroke-opacity=\"1\" stroke-width=\"3.2\"/>\n",
       "<circle clip-path=\"url(#clip442)\" cx=\"755.294\" cy=\"1272.99\" r=\"14.4\" fill=\"#009af9\" fill-rule=\"evenodd\" fill-opacity=\"1\" stroke=\"#000000\" stroke-opacity=\"1\" stroke-width=\"3.2\"/>\n",
       "<circle clip-path=\"url(#clip442)\" cx=\"764.658\" cy=\"1200.94\" r=\"14.4\" fill=\"#009af9\" fill-rule=\"evenodd\" fill-opacity=\"1\" stroke=\"#000000\" stroke-opacity=\"1\" stroke-width=\"3.2\"/>\n",
       "<circle clip-path=\"url(#clip442)\" cx=\"774.022\" cy=\"1211.5\" r=\"14.4\" fill=\"#009af9\" fill-rule=\"evenodd\" fill-opacity=\"1\" stroke=\"#000000\" stroke-opacity=\"1\" stroke-width=\"3.2\"/>\n",
       "<circle clip-path=\"url(#clip442)\" cx=\"783.386\" cy=\"1183.72\" r=\"14.4\" fill=\"#009af9\" fill-rule=\"evenodd\" fill-opacity=\"1\" stroke=\"#000000\" stroke-opacity=\"1\" stroke-width=\"3.2\"/>\n",
       "<circle clip-path=\"url(#clip442)\" cx=\"792.749\" cy=\"1213.26\" r=\"14.4\" fill=\"#009af9\" fill-rule=\"evenodd\" fill-opacity=\"1\" stroke=\"#000000\" stroke-opacity=\"1\" stroke-width=\"3.2\"/>\n",
       "<circle clip-path=\"url(#clip442)\" cx=\"802.113\" cy=\"1272.2\" r=\"14.4\" fill=\"#009af9\" fill-rule=\"evenodd\" fill-opacity=\"1\" stroke=\"#000000\" stroke-opacity=\"1\" stroke-width=\"3.2\"/>\n",
       "<circle clip-path=\"url(#clip442)\" cx=\"811.477\" cy=\"1211.07\" r=\"14.4\" fill=\"#009af9\" fill-rule=\"evenodd\" fill-opacity=\"1\" stroke=\"#000000\" stroke-opacity=\"1\" stroke-width=\"3.2\"/>\n",
       "<circle clip-path=\"url(#clip442)\" cx=\"820.841\" cy=\"1159.03\" r=\"14.4\" fill=\"#009af9\" fill-rule=\"evenodd\" fill-opacity=\"1\" stroke=\"#000000\" stroke-opacity=\"1\" stroke-width=\"3.2\"/>\n",
       "<circle clip-path=\"url(#clip442)\" cx=\"830.205\" cy=\"1342.08\" r=\"14.4\" fill=\"#009af9\" fill-rule=\"evenodd\" fill-opacity=\"1\" stroke=\"#000000\" stroke-opacity=\"1\" stroke-width=\"3.2\"/>\n",
       "<circle clip-path=\"url(#clip442)\" cx=\"839.568\" cy=\"1369.36\" r=\"14.4\" fill=\"#009af9\" fill-rule=\"evenodd\" fill-opacity=\"1\" stroke=\"#000000\" stroke-opacity=\"1\" stroke-width=\"3.2\"/>\n",
       "<circle clip-path=\"url(#clip442)\" cx=\"848.932\" cy=\"1332.17\" r=\"14.4\" fill=\"#009af9\" fill-rule=\"evenodd\" fill-opacity=\"1\" stroke=\"#000000\" stroke-opacity=\"1\" stroke-width=\"3.2\"/>\n",
       "<circle clip-path=\"url(#clip442)\" cx=\"858.296\" cy=\"1203.09\" r=\"14.4\" fill=\"#009af9\" fill-rule=\"evenodd\" fill-opacity=\"1\" stroke=\"#000000\" stroke-opacity=\"1\" stroke-width=\"3.2\"/>\n",
       "<circle clip-path=\"url(#clip442)\" cx=\"867.66\" cy=\"1223.33\" r=\"14.4\" fill=\"#009af9\" fill-rule=\"evenodd\" fill-opacity=\"1\" stroke=\"#000000\" stroke-opacity=\"1\" stroke-width=\"3.2\"/>\n",
       "<circle clip-path=\"url(#clip442)\" cx=\"877.023\" cy=\"1206.79\" r=\"14.4\" fill=\"#009af9\" fill-rule=\"evenodd\" fill-opacity=\"1\" stroke=\"#000000\" stroke-opacity=\"1\" stroke-width=\"3.2\"/>\n",
       "<circle clip-path=\"url(#clip442)\" cx=\"886.387\" cy=\"1231.47\" r=\"14.4\" fill=\"#009af9\" fill-rule=\"evenodd\" fill-opacity=\"1\" stroke=\"#000000\" stroke-opacity=\"1\" stroke-width=\"3.2\"/>\n",
       "<circle clip-path=\"url(#clip442)\" cx=\"895.751\" cy=\"1287.71\" r=\"14.4\" fill=\"#009af9\" fill-rule=\"evenodd\" fill-opacity=\"1\" stroke=\"#000000\" stroke-opacity=\"1\" stroke-width=\"3.2\"/>\n",
       "<circle clip-path=\"url(#clip442)\" cx=\"905.115\" cy=\"1422.76\" r=\"14.4\" fill=\"#009af9\" fill-rule=\"evenodd\" fill-opacity=\"1\" stroke=\"#000000\" stroke-opacity=\"1\" stroke-width=\"3.2\"/>\n",
       "<circle clip-path=\"url(#clip442)\" cx=\"914.479\" cy=\"1356.65\" r=\"14.4\" fill=\"#009af9\" fill-rule=\"evenodd\" fill-opacity=\"1\" stroke=\"#000000\" stroke-opacity=\"1\" stroke-width=\"3.2\"/>\n",
       "<circle clip-path=\"url(#clip442)\" cx=\"923.842\" cy=\"1178.37\" r=\"14.4\" fill=\"#009af9\" fill-rule=\"evenodd\" fill-opacity=\"1\" stroke=\"#000000\" stroke-opacity=\"1\" stroke-width=\"3.2\"/>\n",
       "<circle clip-path=\"url(#clip442)\" cx=\"933.206\" cy=\"1112.87\" r=\"14.4\" fill=\"#009af9\" fill-rule=\"evenodd\" fill-opacity=\"1\" stroke=\"#000000\" stroke-opacity=\"1\" stroke-width=\"3.2\"/>\n",
       "<circle clip-path=\"url(#clip442)\" cx=\"942.57\" cy=\"1265.88\" r=\"14.4\" fill=\"#009af9\" fill-rule=\"evenodd\" fill-opacity=\"1\" stroke=\"#000000\" stroke-opacity=\"1\" stroke-width=\"3.2\"/>\n",
       "<circle clip-path=\"url(#clip442)\" cx=\"951.934\" cy=\"1353.84\" r=\"14.4\" fill=\"#009af9\" fill-rule=\"evenodd\" fill-opacity=\"1\" stroke=\"#000000\" stroke-opacity=\"1\" stroke-width=\"3.2\"/>\n",
       "<circle clip-path=\"url(#clip442)\" cx=\"961.298\" cy=\"1225.06\" r=\"14.4\" fill=\"#009af9\" fill-rule=\"evenodd\" fill-opacity=\"1\" stroke=\"#000000\" stroke-opacity=\"1\" stroke-width=\"3.2\"/>\n",
       "<circle clip-path=\"url(#clip442)\" cx=\"970.661\" cy=\"1081.23\" r=\"14.4\" fill=\"#009af9\" fill-rule=\"evenodd\" fill-opacity=\"1\" stroke=\"#000000\" stroke-opacity=\"1\" stroke-width=\"3.2\"/>\n",
       "<circle clip-path=\"url(#clip442)\" cx=\"980.025\" cy=\"1245.1\" r=\"14.4\" fill=\"#009af9\" fill-rule=\"evenodd\" fill-opacity=\"1\" stroke=\"#000000\" stroke-opacity=\"1\" stroke-width=\"3.2\"/>\n",
       "<circle clip-path=\"url(#clip442)\" cx=\"989.389\" cy=\"1216.36\" r=\"14.4\" fill=\"#009af9\" fill-rule=\"evenodd\" fill-opacity=\"1\" stroke=\"#000000\" stroke-opacity=\"1\" stroke-width=\"3.2\"/>\n",
       "<circle clip-path=\"url(#clip442)\" cx=\"998.753\" cy=\"1093.88\" r=\"14.4\" fill=\"#009af9\" fill-rule=\"evenodd\" fill-opacity=\"1\" stroke=\"#000000\" stroke-opacity=\"1\" stroke-width=\"3.2\"/>\n",
       "<circle clip-path=\"url(#clip442)\" cx=\"1008.12\" cy=\"1316.03\" r=\"14.4\" fill=\"#009af9\" fill-rule=\"evenodd\" fill-opacity=\"1\" stroke=\"#000000\" stroke-opacity=\"1\" stroke-width=\"3.2\"/>\n",
       "<circle clip-path=\"url(#clip442)\" cx=\"1017.48\" cy=\"1222.46\" r=\"14.4\" fill=\"#009af9\" fill-rule=\"evenodd\" fill-opacity=\"1\" stroke=\"#000000\" stroke-opacity=\"1\" stroke-width=\"3.2\"/>\n",
       "<circle clip-path=\"url(#clip442)\" cx=\"1026.84\" cy=\"1151.67\" r=\"14.4\" fill=\"#009af9\" fill-rule=\"evenodd\" fill-opacity=\"1\" stroke=\"#000000\" stroke-opacity=\"1\" stroke-width=\"3.2\"/>\n",
       "<circle clip-path=\"url(#clip442)\" cx=\"1036.21\" cy=\"1298.76\" r=\"14.4\" fill=\"#009af9\" fill-rule=\"evenodd\" fill-opacity=\"1\" stroke=\"#000000\" stroke-opacity=\"1\" stroke-width=\"3.2\"/>\n",
       "<circle clip-path=\"url(#clip442)\" cx=\"1045.57\" cy=\"1330.33\" r=\"14.4\" fill=\"#009af9\" fill-rule=\"evenodd\" fill-opacity=\"1\" stroke=\"#000000\" stroke-opacity=\"1\" stroke-width=\"3.2\"/>\n",
       "<circle clip-path=\"url(#clip442)\" cx=\"1054.94\" cy=\"1314.25\" r=\"14.4\" fill=\"#009af9\" fill-rule=\"evenodd\" fill-opacity=\"1\" stroke=\"#000000\" stroke-opacity=\"1\" stroke-width=\"3.2\"/>\n",
       "<circle clip-path=\"url(#clip442)\" cx=\"1064.3\" cy=\"1164.57\" r=\"14.4\" fill=\"#009af9\" fill-rule=\"evenodd\" fill-opacity=\"1\" stroke=\"#000000\" stroke-opacity=\"1\" stroke-width=\"3.2\"/>\n",
       "<circle clip-path=\"url(#clip442)\" cx=\"1073.66\" cy=\"1318.35\" r=\"14.4\" fill=\"#009af9\" fill-rule=\"evenodd\" fill-opacity=\"1\" stroke=\"#000000\" stroke-opacity=\"1\" stroke-width=\"3.2\"/>\n",
       "<circle clip-path=\"url(#clip442)\" cx=\"1083.03\" cy=\"1185.34\" r=\"14.4\" fill=\"#009af9\" fill-rule=\"evenodd\" fill-opacity=\"1\" stroke=\"#000000\" stroke-opacity=\"1\" stroke-width=\"3.2\"/>\n",
       "<circle clip-path=\"url(#clip442)\" cx=\"1092.39\" cy=\"1327.91\" r=\"14.4\" fill=\"#009af9\" fill-rule=\"evenodd\" fill-opacity=\"1\" stroke=\"#000000\" stroke-opacity=\"1\" stroke-width=\"3.2\"/>\n",
       "<circle clip-path=\"url(#clip442)\" cx=\"1101.75\" cy=\"1301.71\" r=\"14.4\" fill=\"#009af9\" fill-rule=\"evenodd\" fill-opacity=\"1\" stroke=\"#000000\" stroke-opacity=\"1\" stroke-width=\"3.2\"/>\n",
       "<circle clip-path=\"url(#clip442)\" cx=\"1111.12\" cy=\"1187.75\" r=\"14.4\" fill=\"#009af9\" fill-rule=\"evenodd\" fill-opacity=\"1\" stroke=\"#000000\" stroke-opacity=\"1\" stroke-width=\"3.2\"/>\n",
       "<circle clip-path=\"url(#clip442)\" cx=\"1120.48\" cy=\"1235.15\" r=\"14.4\" fill=\"#009af9\" fill-rule=\"evenodd\" fill-opacity=\"1\" stroke=\"#000000\" stroke-opacity=\"1\" stroke-width=\"3.2\"/>\n",
       "<circle clip-path=\"url(#clip442)\" cx=\"1129.85\" cy=\"1445.72\" r=\"14.4\" fill=\"#009af9\" fill-rule=\"evenodd\" fill-opacity=\"1\" stroke=\"#000000\" stroke-opacity=\"1\" stroke-width=\"3.2\"/>\n",
       "<circle clip-path=\"url(#clip442)\" cx=\"1139.21\" cy=\"1245.43\" r=\"14.4\" fill=\"#009af9\" fill-rule=\"evenodd\" fill-opacity=\"1\" stroke=\"#000000\" stroke-opacity=\"1\" stroke-width=\"3.2\"/>\n",
       "<circle clip-path=\"url(#clip442)\" cx=\"1148.57\" cy=\"1326.33\" r=\"14.4\" fill=\"#009af9\" fill-rule=\"evenodd\" fill-opacity=\"1\" stroke=\"#000000\" stroke-opacity=\"1\" stroke-width=\"3.2\"/>\n",
       "<circle clip-path=\"url(#clip442)\" cx=\"1157.94\" cy=\"1283.5\" r=\"14.4\" fill=\"#009af9\" fill-rule=\"evenodd\" fill-opacity=\"1\" stroke=\"#000000\" stroke-opacity=\"1\" stroke-width=\"3.2\"/>\n",
       "<circle clip-path=\"url(#clip442)\" cx=\"1167.3\" cy=\"1255.53\" r=\"14.4\" fill=\"#009af9\" fill-rule=\"evenodd\" fill-opacity=\"1\" stroke=\"#000000\" stroke-opacity=\"1\" stroke-width=\"3.2\"/>\n",
       "<circle clip-path=\"url(#clip442)\" cx=\"1176.66\" cy=\"1329.61\" r=\"14.4\" fill=\"#009af9\" fill-rule=\"evenodd\" fill-opacity=\"1\" stroke=\"#000000\" stroke-opacity=\"1\" stroke-width=\"3.2\"/>\n",
       "<circle clip-path=\"url(#clip442)\" cx=\"1186.03\" cy=\"1408.99\" r=\"14.4\" fill=\"#009af9\" fill-rule=\"evenodd\" fill-opacity=\"1\" stroke=\"#000000\" stroke-opacity=\"1\" stroke-width=\"3.2\"/>\n",
       "<circle clip-path=\"url(#clip442)\" cx=\"1195.39\" cy=\"1372.72\" r=\"14.4\" fill=\"#009af9\" fill-rule=\"evenodd\" fill-opacity=\"1\" stroke=\"#000000\" stroke-opacity=\"1\" stroke-width=\"3.2\"/>\n",
       "<circle clip-path=\"url(#clip442)\" cx=\"1204.76\" cy=\"1320.58\" r=\"14.4\" fill=\"#009af9\" fill-rule=\"evenodd\" fill-opacity=\"1\" stroke=\"#000000\" stroke-opacity=\"1\" stroke-width=\"3.2\"/>\n",
       "<circle clip-path=\"url(#clip442)\" cx=\"1214.12\" cy=\"1383.75\" r=\"14.4\" fill=\"#009af9\" fill-rule=\"evenodd\" fill-opacity=\"1\" stroke=\"#000000\" stroke-opacity=\"1\" stroke-width=\"3.2\"/>\n",
       "<circle clip-path=\"url(#clip442)\" cx=\"1223.48\" cy=\"1371.2\" r=\"14.4\" fill=\"#009af9\" fill-rule=\"evenodd\" fill-opacity=\"1\" stroke=\"#000000\" stroke-opacity=\"1\" stroke-width=\"3.2\"/>\n",
       "<circle clip-path=\"url(#clip442)\" cx=\"1232.85\" cy=\"1199.87\" r=\"14.4\" fill=\"#009af9\" fill-rule=\"evenodd\" fill-opacity=\"1\" stroke=\"#000000\" stroke-opacity=\"1\" stroke-width=\"3.2\"/>\n",
       "<circle clip-path=\"url(#clip442)\" cx=\"1242.21\" cy=\"1328.76\" r=\"14.4\" fill=\"#009af9\" fill-rule=\"evenodd\" fill-opacity=\"1\" stroke=\"#000000\" stroke-opacity=\"1\" stroke-width=\"3.2\"/>\n",
       "<circle clip-path=\"url(#clip442)\" cx=\"1251.57\" cy=\"1228.46\" r=\"14.4\" fill=\"#009af9\" fill-rule=\"evenodd\" fill-opacity=\"1\" stroke=\"#000000\" stroke-opacity=\"1\" stroke-width=\"3.2\"/>\n",
       "<circle clip-path=\"url(#clip442)\" cx=\"1260.94\" cy=\"1246.09\" r=\"14.4\" fill=\"#009af9\" fill-rule=\"evenodd\" fill-opacity=\"1\" stroke=\"#000000\" stroke-opacity=\"1\" stroke-width=\"3.2\"/>\n",
       "<circle clip-path=\"url(#clip442)\" cx=\"1270.3\" cy=\"1287.06\" r=\"14.4\" fill=\"#009af9\" fill-rule=\"evenodd\" fill-opacity=\"1\" stroke=\"#000000\" stroke-opacity=\"1\" stroke-width=\"3.2\"/>\n",
       "<circle clip-path=\"url(#clip442)\" cx=\"1279.67\" cy=\"1340.19\" r=\"14.4\" fill=\"#009af9\" fill-rule=\"evenodd\" fill-opacity=\"1\" stroke=\"#000000\" stroke-opacity=\"1\" stroke-width=\"3.2\"/>\n",
       "<circle clip-path=\"url(#clip442)\" cx=\"1289.03\" cy=\"1327.17\" r=\"14.4\" fill=\"#009af9\" fill-rule=\"evenodd\" fill-opacity=\"1\" stroke=\"#000000\" stroke-opacity=\"1\" stroke-width=\"3.2\"/>\n",
       "<circle clip-path=\"url(#clip442)\" cx=\"1298.39\" cy=\"1371.36\" r=\"14.4\" fill=\"#009af9\" fill-rule=\"evenodd\" fill-opacity=\"1\" stroke=\"#000000\" stroke-opacity=\"1\" stroke-width=\"3.2\"/>\n",
       "<circle clip-path=\"url(#clip442)\" cx=\"1307.76\" cy=\"1323.63\" r=\"14.4\" fill=\"#009af9\" fill-rule=\"evenodd\" fill-opacity=\"1\" stroke=\"#000000\" stroke-opacity=\"1\" stroke-width=\"3.2\"/>\n",
       "<circle clip-path=\"url(#clip442)\" cx=\"1317.12\" cy=\"1427.12\" r=\"14.4\" fill=\"#009af9\" fill-rule=\"evenodd\" fill-opacity=\"1\" stroke=\"#000000\" stroke-opacity=\"1\" stroke-width=\"3.2\"/>\n",
       "<circle clip-path=\"url(#clip442)\" cx=\"1326.49\" cy=\"1316.87\" r=\"14.4\" fill=\"#009af9\" fill-rule=\"evenodd\" fill-opacity=\"1\" stroke=\"#000000\" stroke-opacity=\"1\" stroke-width=\"3.2\"/>\n",
       "<circle clip-path=\"url(#clip442)\" cx=\"1335.85\" cy=\"1336.35\" r=\"14.4\" fill=\"#009af9\" fill-rule=\"evenodd\" fill-opacity=\"1\" stroke=\"#000000\" stroke-opacity=\"1\" stroke-width=\"3.2\"/>\n",
       "<circle clip-path=\"url(#clip442)\" cx=\"1345.21\" cy=\"1372.29\" r=\"14.4\" fill=\"#009af9\" fill-rule=\"evenodd\" fill-opacity=\"1\" stroke=\"#000000\" stroke-opacity=\"1\" stroke-width=\"3.2\"/>\n",
       "<circle clip-path=\"url(#clip442)\" cx=\"1354.58\" cy=\"1391.25\" r=\"14.4\" fill=\"#009af9\" fill-rule=\"evenodd\" fill-opacity=\"1\" stroke=\"#000000\" stroke-opacity=\"1\" stroke-width=\"3.2\"/>\n",
       "<circle clip-path=\"url(#clip442)\" cx=\"1363.94\" cy=\"1379.75\" r=\"14.4\" fill=\"#009af9\" fill-rule=\"evenodd\" fill-opacity=\"1\" stroke=\"#000000\" stroke-opacity=\"1\" stroke-width=\"3.2\"/>\n",
       "<circle clip-path=\"url(#clip442)\" cx=\"1373.3\" cy=\"1196.26\" r=\"14.4\" fill=\"#009af9\" fill-rule=\"evenodd\" fill-opacity=\"1\" stroke=\"#000000\" stroke-opacity=\"1\" stroke-width=\"3.2\"/>\n",
       "<circle clip-path=\"url(#clip442)\" cx=\"1382.67\" cy=\"1285.81\" r=\"14.4\" fill=\"#009af9\" fill-rule=\"evenodd\" fill-opacity=\"1\" stroke=\"#000000\" stroke-opacity=\"1\" stroke-width=\"3.2\"/>\n",
       "<circle clip-path=\"url(#clip442)\" cx=\"1392.03\" cy=\"1173.33\" r=\"14.4\" fill=\"#009af9\" fill-rule=\"evenodd\" fill-opacity=\"1\" stroke=\"#000000\" stroke-opacity=\"1\" stroke-width=\"3.2\"/>\n",
       "<circle clip-path=\"url(#clip442)\" cx=\"1401.4\" cy=\"1166.07\" r=\"14.4\" fill=\"#009af9\" fill-rule=\"evenodd\" fill-opacity=\"1\" stroke=\"#000000\" stroke-opacity=\"1\" stroke-width=\"3.2\"/>\n",
       "<circle clip-path=\"url(#clip442)\" cx=\"1410.76\" cy=\"1284.42\" r=\"14.4\" fill=\"#009af9\" fill-rule=\"evenodd\" fill-opacity=\"1\" stroke=\"#000000\" stroke-opacity=\"1\" stroke-width=\"3.2\"/>\n",
       "<circle clip-path=\"url(#clip442)\" cx=\"1420.12\" cy=\"1294.51\" r=\"14.4\" fill=\"#009af9\" fill-rule=\"evenodd\" fill-opacity=\"1\" stroke=\"#000000\" stroke-opacity=\"1\" stroke-width=\"3.2\"/>\n",
       "<circle clip-path=\"url(#clip442)\" cx=\"1429.49\" cy=\"1260.37\" r=\"14.4\" fill=\"#009af9\" fill-rule=\"evenodd\" fill-opacity=\"1\" stroke=\"#000000\" stroke-opacity=\"1\" stroke-width=\"3.2\"/>\n",
       "<circle clip-path=\"url(#clip442)\" cx=\"1438.85\" cy=\"1063.48\" r=\"14.4\" fill=\"#009af9\" fill-rule=\"evenodd\" fill-opacity=\"1\" stroke=\"#000000\" stroke-opacity=\"1\" stroke-width=\"3.2\"/>\n",
       "<circle clip-path=\"url(#clip442)\" cx=\"1448.21\" cy=\"1195.33\" r=\"14.4\" fill=\"#009af9\" fill-rule=\"evenodd\" fill-opacity=\"1\" stroke=\"#000000\" stroke-opacity=\"1\" stroke-width=\"3.2\"/>\n",
       "<circle clip-path=\"url(#clip442)\" cx=\"1457.58\" cy=\"1225.78\" r=\"14.4\" fill=\"#009af9\" fill-rule=\"evenodd\" fill-opacity=\"1\" stroke=\"#000000\" stroke-opacity=\"1\" stroke-width=\"3.2\"/>\n",
       "<circle clip-path=\"url(#clip442)\" cx=\"1466.94\" cy=\"1171.31\" r=\"14.4\" fill=\"#009af9\" fill-rule=\"evenodd\" fill-opacity=\"1\" stroke=\"#000000\" stroke-opacity=\"1\" stroke-width=\"3.2\"/>\n",
       "<circle clip-path=\"url(#clip442)\" cx=\"1476.31\" cy=\"1224.59\" r=\"14.4\" fill=\"#009af9\" fill-rule=\"evenodd\" fill-opacity=\"1\" stroke=\"#000000\" stroke-opacity=\"1\" stroke-width=\"3.2\"/>\n",
       "<circle clip-path=\"url(#clip442)\" cx=\"1485.67\" cy=\"1176.67\" r=\"14.4\" fill=\"#009af9\" fill-rule=\"evenodd\" fill-opacity=\"1\" stroke=\"#000000\" stroke-opacity=\"1\" stroke-width=\"3.2\"/>\n",
       "<circle clip-path=\"url(#clip442)\" cx=\"1495.03\" cy=\"1156.16\" r=\"14.4\" fill=\"#009af9\" fill-rule=\"evenodd\" fill-opacity=\"1\" stroke=\"#000000\" stroke-opacity=\"1\" stroke-width=\"3.2\"/>\n",
       "<circle clip-path=\"url(#clip442)\" cx=\"1504.4\" cy=\"1208.75\" r=\"14.4\" fill=\"#009af9\" fill-rule=\"evenodd\" fill-opacity=\"1\" stroke=\"#000000\" stroke-opacity=\"1\" stroke-width=\"3.2\"/>\n",
       "<circle clip-path=\"url(#clip442)\" cx=\"1513.76\" cy=\"1121.62\" r=\"14.4\" fill=\"#009af9\" fill-rule=\"evenodd\" fill-opacity=\"1\" stroke=\"#000000\" stroke-opacity=\"1\" stroke-width=\"3.2\"/>\n",
       "<circle clip-path=\"url(#clip442)\" cx=\"1523.12\" cy=\"1181.6\" r=\"14.4\" fill=\"#009af9\" fill-rule=\"evenodd\" fill-opacity=\"1\" stroke=\"#000000\" stroke-opacity=\"1\" stroke-width=\"3.2\"/>\n",
       "<circle clip-path=\"url(#clip442)\" cx=\"1532.49\" cy=\"1127.08\" r=\"14.4\" fill=\"#009af9\" fill-rule=\"evenodd\" fill-opacity=\"1\" stroke=\"#000000\" stroke-opacity=\"1\" stroke-width=\"3.2\"/>\n",
       "<circle clip-path=\"url(#clip442)\" cx=\"1541.85\" cy=\"1085.65\" r=\"14.4\" fill=\"#009af9\" fill-rule=\"evenodd\" fill-opacity=\"1\" stroke=\"#000000\" stroke-opacity=\"1\" stroke-width=\"3.2\"/>\n",
       "<circle clip-path=\"url(#clip442)\" cx=\"1551.22\" cy=\"1173.94\" r=\"14.4\" fill=\"#009af9\" fill-rule=\"evenodd\" fill-opacity=\"1\" stroke=\"#000000\" stroke-opacity=\"1\" stroke-width=\"3.2\"/>\n",
       "<circle clip-path=\"url(#clip442)\" cx=\"1560.58\" cy=\"1158.08\" r=\"14.4\" fill=\"#009af9\" fill-rule=\"evenodd\" fill-opacity=\"1\" stroke=\"#000000\" stroke-opacity=\"1\" stroke-width=\"3.2\"/>\n",
       "<circle clip-path=\"url(#clip442)\" cx=\"1569.94\" cy=\"1254.4\" r=\"14.4\" fill=\"#009af9\" fill-rule=\"evenodd\" fill-opacity=\"1\" stroke=\"#000000\" stroke-opacity=\"1\" stroke-width=\"3.2\"/>\n",
       "<circle clip-path=\"url(#clip442)\" cx=\"1579.31\" cy=\"1117.82\" r=\"14.4\" fill=\"#009af9\" fill-rule=\"evenodd\" fill-opacity=\"1\" stroke=\"#000000\" stroke-opacity=\"1\" stroke-width=\"3.2\"/>\n",
       "<circle clip-path=\"url(#clip442)\" cx=\"1588.67\" cy=\"1088.75\" r=\"14.4\" fill=\"#009af9\" fill-rule=\"evenodd\" fill-opacity=\"1\" stroke=\"#000000\" stroke-opacity=\"1\" stroke-width=\"3.2\"/>\n",
       "<circle clip-path=\"url(#clip442)\" cx=\"1598.03\" cy=\"1091.24\" r=\"14.4\" fill=\"#009af9\" fill-rule=\"evenodd\" fill-opacity=\"1\" stroke=\"#000000\" stroke-opacity=\"1\" stroke-width=\"3.2\"/>\n",
       "<circle clip-path=\"url(#clip442)\" cx=\"1607.4\" cy=\"1072.81\" r=\"14.4\" fill=\"#009af9\" fill-rule=\"evenodd\" fill-opacity=\"1\" stroke=\"#000000\" stroke-opacity=\"1\" stroke-width=\"3.2\"/>\n",
       "<circle clip-path=\"url(#clip442)\" cx=\"1616.76\" cy=\"1003.17\" r=\"14.4\" fill=\"#009af9\" fill-rule=\"evenodd\" fill-opacity=\"1\" stroke=\"#000000\" stroke-opacity=\"1\" stroke-width=\"3.2\"/>\n",
       "<circle clip-path=\"url(#clip442)\" cx=\"1626.13\" cy=\"1052.52\" r=\"14.4\" fill=\"#009af9\" fill-rule=\"evenodd\" fill-opacity=\"1\" stroke=\"#000000\" stroke-opacity=\"1\" stroke-width=\"3.2\"/>\n",
       "<circle clip-path=\"url(#clip442)\" cx=\"1635.49\" cy=\"996.735\" r=\"14.4\" fill=\"#009af9\" fill-rule=\"evenodd\" fill-opacity=\"1\" stroke=\"#000000\" stroke-opacity=\"1\" stroke-width=\"3.2\"/>\n",
       "<circle clip-path=\"url(#clip442)\" cx=\"1644.85\" cy=\"1163.16\" r=\"14.4\" fill=\"#009af9\" fill-rule=\"evenodd\" fill-opacity=\"1\" stroke=\"#000000\" stroke-opacity=\"1\" stroke-width=\"3.2\"/>\n",
       "<circle clip-path=\"url(#clip442)\" cx=\"1654.22\" cy=\"1103.67\" r=\"14.4\" fill=\"#009af9\" fill-rule=\"evenodd\" fill-opacity=\"1\" stroke=\"#000000\" stroke-opacity=\"1\" stroke-width=\"3.2\"/>\n",
       "<circle clip-path=\"url(#clip442)\" cx=\"1663.58\" cy=\"1105.76\" r=\"14.4\" fill=\"#009af9\" fill-rule=\"evenodd\" fill-opacity=\"1\" stroke=\"#000000\" stroke-opacity=\"1\" stroke-width=\"3.2\"/>\n",
       "<circle clip-path=\"url(#clip442)\" cx=\"1672.95\" cy=\"905.717\" r=\"14.4\" fill=\"#009af9\" fill-rule=\"evenodd\" fill-opacity=\"1\" stroke=\"#000000\" stroke-opacity=\"1\" stroke-width=\"3.2\"/>\n",
       "<circle clip-path=\"url(#clip442)\" cx=\"1682.31\" cy=\"1131.14\" r=\"14.4\" fill=\"#009af9\" fill-rule=\"evenodd\" fill-opacity=\"1\" stroke=\"#000000\" stroke-opacity=\"1\" stroke-width=\"3.2\"/>\n",
       "<circle clip-path=\"url(#clip442)\" cx=\"1691.67\" cy=\"1015.63\" r=\"14.4\" fill=\"#009af9\" fill-rule=\"evenodd\" fill-opacity=\"1\" stroke=\"#000000\" stroke-opacity=\"1\" stroke-width=\"3.2\"/>\n",
       "<circle clip-path=\"url(#clip442)\" cx=\"1701.04\" cy=\"933.808\" r=\"14.4\" fill=\"#009af9\" fill-rule=\"evenodd\" fill-opacity=\"1\" stroke=\"#000000\" stroke-opacity=\"1\" stroke-width=\"3.2\"/>\n",
       "<circle clip-path=\"url(#clip442)\" cx=\"1710.4\" cy=\"1019.81\" r=\"14.4\" fill=\"#009af9\" fill-rule=\"evenodd\" fill-opacity=\"1\" stroke=\"#000000\" stroke-opacity=\"1\" stroke-width=\"3.2\"/>\n",
       "<circle clip-path=\"url(#clip442)\" cx=\"1719.76\" cy=\"1028.22\" r=\"14.4\" fill=\"#009af9\" fill-rule=\"evenodd\" fill-opacity=\"1\" stroke=\"#000000\" stroke-opacity=\"1\" stroke-width=\"3.2\"/>\n",
       "<circle clip-path=\"url(#clip442)\" cx=\"1729.13\" cy=\"909.502\" r=\"14.4\" fill=\"#009af9\" fill-rule=\"evenodd\" fill-opacity=\"1\" stroke=\"#000000\" stroke-opacity=\"1\" stroke-width=\"3.2\"/>\n",
       "<circle clip-path=\"url(#clip442)\" cx=\"1738.49\" cy=\"1062.8\" r=\"14.4\" fill=\"#009af9\" fill-rule=\"evenodd\" fill-opacity=\"1\" stroke=\"#000000\" stroke-opacity=\"1\" stroke-width=\"3.2\"/>\n",
       "<circle clip-path=\"url(#clip442)\" cx=\"1747.86\" cy=\"1054.49\" r=\"14.4\" fill=\"#009af9\" fill-rule=\"evenodd\" fill-opacity=\"1\" stroke=\"#000000\" stroke-opacity=\"1\" stroke-width=\"3.2\"/>\n",
       "<circle clip-path=\"url(#clip442)\" cx=\"1757.22\" cy=\"1012.6\" r=\"14.4\" fill=\"#009af9\" fill-rule=\"evenodd\" fill-opacity=\"1\" stroke=\"#000000\" stroke-opacity=\"1\" stroke-width=\"3.2\"/>\n",
       "<circle clip-path=\"url(#clip442)\" cx=\"1766.58\" cy=\"990.32\" r=\"14.4\" fill=\"#009af9\" fill-rule=\"evenodd\" fill-opacity=\"1\" stroke=\"#000000\" stroke-opacity=\"1\" stroke-width=\"3.2\"/>\n",
       "<circle clip-path=\"url(#clip442)\" cx=\"1775.95\" cy=\"1010.15\" r=\"14.4\" fill=\"#009af9\" fill-rule=\"evenodd\" fill-opacity=\"1\" stroke=\"#000000\" stroke-opacity=\"1\" stroke-width=\"3.2\"/>\n",
       "<circle clip-path=\"url(#clip442)\" cx=\"1785.31\" cy=\"978.095\" r=\"14.4\" fill=\"#009af9\" fill-rule=\"evenodd\" fill-opacity=\"1\" stroke=\"#000000\" stroke-opacity=\"1\" stroke-width=\"3.2\"/>\n",
       "<circle clip-path=\"url(#clip442)\" cx=\"1794.67\" cy=\"855.515\" r=\"14.4\" fill=\"#009af9\" fill-rule=\"evenodd\" fill-opacity=\"1\" stroke=\"#000000\" stroke-opacity=\"1\" stroke-width=\"3.2\"/>\n",
       "<circle clip-path=\"url(#clip442)\" cx=\"1804.04\" cy=\"1017.15\" r=\"14.4\" fill=\"#009af9\" fill-rule=\"evenodd\" fill-opacity=\"1\" stroke=\"#000000\" stroke-opacity=\"1\" stroke-width=\"3.2\"/>\n",
       "<circle clip-path=\"url(#clip442)\" cx=\"1813.4\" cy=\"894.131\" r=\"14.4\" fill=\"#009af9\" fill-rule=\"evenodd\" fill-opacity=\"1\" stroke=\"#000000\" stroke-opacity=\"1\" stroke-width=\"3.2\"/>\n",
       "<circle clip-path=\"url(#clip442)\" cx=\"1822.77\" cy=\"837.747\" r=\"14.4\" fill=\"#009af9\" fill-rule=\"evenodd\" fill-opacity=\"1\" stroke=\"#000000\" stroke-opacity=\"1\" stroke-width=\"3.2\"/>\n",
       "<circle clip-path=\"url(#clip442)\" cx=\"1832.13\" cy=\"960.136\" r=\"14.4\" fill=\"#009af9\" fill-rule=\"evenodd\" fill-opacity=\"1\" stroke=\"#000000\" stroke-opacity=\"1\" stroke-width=\"3.2\"/>\n",
       "<circle clip-path=\"url(#clip442)\" cx=\"1841.49\" cy=\"873.601\" r=\"14.4\" fill=\"#009af9\" fill-rule=\"evenodd\" fill-opacity=\"1\" stroke=\"#000000\" stroke-opacity=\"1\" stroke-width=\"3.2\"/>\n",
       "<circle clip-path=\"url(#clip442)\" cx=\"1850.86\" cy=\"988.911\" r=\"14.4\" fill=\"#009af9\" fill-rule=\"evenodd\" fill-opacity=\"1\" stroke=\"#000000\" stroke-opacity=\"1\" stroke-width=\"3.2\"/>\n",
       "<circle clip-path=\"url(#clip442)\" cx=\"1860.22\" cy=\"764.929\" r=\"14.4\" fill=\"#009af9\" fill-rule=\"evenodd\" fill-opacity=\"1\" stroke=\"#000000\" stroke-opacity=\"1\" stroke-width=\"3.2\"/>\n",
       "<circle clip-path=\"url(#clip442)\" cx=\"1869.58\" cy=\"995.499\" r=\"14.4\" fill=\"#009af9\" fill-rule=\"evenodd\" fill-opacity=\"1\" stroke=\"#000000\" stroke-opacity=\"1\" stroke-width=\"3.2\"/>\n",
       "<circle clip-path=\"url(#clip442)\" cx=\"1878.95\" cy=\"878.258\" r=\"14.4\" fill=\"#009af9\" fill-rule=\"evenodd\" fill-opacity=\"1\" stroke=\"#000000\" stroke-opacity=\"1\" stroke-width=\"3.2\"/>\n",
       "<circle clip-path=\"url(#clip442)\" cx=\"1888.31\" cy=\"803.307\" r=\"14.4\" fill=\"#009af9\" fill-rule=\"evenodd\" fill-opacity=\"1\" stroke=\"#000000\" stroke-opacity=\"1\" stroke-width=\"3.2\"/>\n",
       "<circle clip-path=\"url(#clip442)\" cx=\"1897.68\" cy=\"869.576\" r=\"14.4\" fill=\"#009af9\" fill-rule=\"evenodd\" fill-opacity=\"1\" stroke=\"#000000\" stroke-opacity=\"1\" stroke-width=\"3.2\"/>\n",
       "<circle clip-path=\"url(#clip442)\" cx=\"1907.04\" cy=\"757.685\" r=\"14.4\" fill=\"#009af9\" fill-rule=\"evenodd\" fill-opacity=\"1\" stroke=\"#000000\" stroke-opacity=\"1\" stroke-width=\"3.2\"/>\n",
       "<circle clip-path=\"url(#clip442)\" cx=\"1916.4\" cy=\"815.158\" r=\"14.4\" fill=\"#009af9\" fill-rule=\"evenodd\" fill-opacity=\"1\" stroke=\"#000000\" stroke-opacity=\"1\" stroke-width=\"3.2\"/>\n",
       "<circle clip-path=\"url(#clip442)\" cx=\"1925.77\" cy=\"860.314\" r=\"14.4\" fill=\"#009af9\" fill-rule=\"evenodd\" fill-opacity=\"1\" stroke=\"#000000\" stroke-opacity=\"1\" stroke-width=\"3.2\"/>\n",
       "<circle clip-path=\"url(#clip442)\" cx=\"1935.13\" cy=\"754.565\" r=\"14.4\" fill=\"#009af9\" fill-rule=\"evenodd\" fill-opacity=\"1\" stroke=\"#000000\" stroke-opacity=\"1\" stroke-width=\"3.2\"/>\n",
       "<circle clip-path=\"url(#clip442)\" cx=\"1944.49\" cy=\"799.672\" r=\"14.4\" fill=\"#009af9\" fill-rule=\"evenodd\" fill-opacity=\"1\" stroke=\"#000000\" stroke-opacity=\"1\" stroke-width=\"3.2\"/>\n",
       "<circle clip-path=\"url(#clip442)\" cx=\"1953.86\" cy=\"602.92\" r=\"14.4\" fill=\"#009af9\" fill-rule=\"evenodd\" fill-opacity=\"1\" stroke=\"#000000\" stroke-opacity=\"1\" stroke-width=\"3.2\"/>\n",
       "<circle clip-path=\"url(#clip442)\" cx=\"1963.22\" cy=\"770.961\" r=\"14.4\" fill=\"#009af9\" fill-rule=\"evenodd\" fill-opacity=\"1\" stroke=\"#000000\" stroke-opacity=\"1\" stroke-width=\"3.2\"/>\n",
       "<circle clip-path=\"url(#clip442)\" cx=\"1972.59\" cy=\"624.294\" r=\"14.4\" fill=\"#009af9\" fill-rule=\"evenodd\" fill-opacity=\"1\" stroke=\"#000000\" stroke-opacity=\"1\" stroke-width=\"3.2\"/>\n",
       "<circle clip-path=\"url(#clip442)\" cx=\"1981.95\" cy=\"769.313\" r=\"14.4\" fill=\"#009af9\" fill-rule=\"evenodd\" fill-opacity=\"1\" stroke=\"#000000\" stroke-opacity=\"1\" stroke-width=\"3.2\"/>\n",
       "<circle clip-path=\"url(#clip442)\" cx=\"1991.31\" cy=\"704.488\" r=\"14.4\" fill=\"#009af9\" fill-rule=\"evenodd\" fill-opacity=\"1\" stroke=\"#000000\" stroke-opacity=\"1\" stroke-width=\"3.2\"/>\n",
       "<circle clip-path=\"url(#clip442)\" cx=\"2000.68\" cy=\"707.437\" r=\"14.4\" fill=\"#009af9\" fill-rule=\"evenodd\" fill-opacity=\"1\" stroke=\"#000000\" stroke-opacity=\"1\" stroke-width=\"3.2\"/>\n",
       "<circle clip-path=\"url(#clip442)\" cx=\"2010.04\" cy=\"705.709\" r=\"14.4\" fill=\"#009af9\" fill-rule=\"evenodd\" fill-opacity=\"1\" stroke=\"#000000\" stroke-opacity=\"1\" stroke-width=\"3.2\"/>\n",
       "<circle clip-path=\"url(#clip442)\" cx=\"2019.41\" cy=\"651.39\" r=\"14.4\" fill=\"#009af9\" fill-rule=\"evenodd\" fill-opacity=\"1\" stroke=\"#000000\" stroke-opacity=\"1\" stroke-width=\"3.2\"/>\n",
       "<circle clip-path=\"url(#clip442)\" cx=\"2028.77\" cy=\"714.619\" r=\"14.4\" fill=\"#009af9\" fill-rule=\"evenodd\" fill-opacity=\"1\" stroke=\"#000000\" stroke-opacity=\"1\" stroke-width=\"3.2\"/>\n",
       "<circle clip-path=\"url(#clip442)\" cx=\"2038.13\" cy=\"668.586\" r=\"14.4\" fill=\"#009af9\" fill-rule=\"evenodd\" fill-opacity=\"1\" stroke=\"#000000\" stroke-opacity=\"1\" stroke-width=\"3.2\"/>\n",
       "<circle clip-path=\"url(#clip442)\" cx=\"2047.5\" cy=\"686.701\" r=\"14.4\" fill=\"#009af9\" fill-rule=\"evenodd\" fill-opacity=\"1\" stroke=\"#000000\" stroke-opacity=\"1\" stroke-width=\"3.2\"/>\n",
       "<circle clip-path=\"url(#clip442)\" cx=\"2056.86\" cy=\"623.88\" r=\"14.4\" fill=\"#009af9\" fill-rule=\"evenodd\" fill-opacity=\"1\" stroke=\"#000000\" stroke-opacity=\"1\" stroke-width=\"3.2\"/>\n",
       "<circle clip-path=\"url(#clip442)\" cx=\"2066.22\" cy=\"514.957\" r=\"14.4\" fill=\"#009af9\" fill-rule=\"evenodd\" fill-opacity=\"1\" stroke=\"#000000\" stroke-opacity=\"1\" stroke-width=\"3.2\"/>\n",
       "<circle clip-path=\"url(#clip442)\" cx=\"2075.59\" cy=\"551.379\" r=\"14.4\" fill=\"#009af9\" fill-rule=\"evenodd\" fill-opacity=\"1\" stroke=\"#000000\" stroke-opacity=\"1\" stroke-width=\"3.2\"/>\n",
       "<circle clip-path=\"url(#clip442)\" cx=\"2084.95\" cy=\"592.235\" r=\"14.4\" fill=\"#009af9\" fill-rule=\"evenodd\" fill-opacity=\"1\" stroke=\"#000000\" stroke-opacity=\"1\" stroke-width=\"3.2\"/>\n",
       "<circle clip-path=\"url(#clip442)\" cx=\"2094.32\" cy=\"624.187\" r=\"14.4\" fill=\"#009af9\" fill-rule=\"evenodd\" fill-opacity=\"1\" stroke=\"#000000\" stroke-opacity=\"1\" stroke-width=\"3.2\"/>\n",
       "<circle clip-path=\"url(#clip442)\" cx=\"2103.68\" cy=\"586.427\" r=\"14.4\" fill=\"#009af9\" fill-rule=\"evenodd\" fill-opacity=\"1\" stroke=\"#000000\" stroke-opacity=\"1\" stroke-width=\"3.2\"/>\n",
       "<circle clip-path=\"url(#clip442)\" cx=\"2113.04\" cy=\"502.776\" r=\"14.4\" fill=\"#009af9\" fill-rule=\"evenodd\" fill-opacity=\"1\" stroke=\"#000000\" stroke-opacity=\"1\" stroke-width=\"3.2\"/>\n",
       "<circle clip-path=\"url(#clip442)\" cx=\"2122.41\" cy=\"610.076\" r=\"14.4\" fill=\"#009af9\" fill-rule=\"evenodd\" fill-opacity=\"1\" stroke=\"#000000\" stroke-opacity=\"1\" stroke-width=\"3.2\"/>\n",
       "<circle clip-path=\"url(#clip442)\" cx=\"2131.77\" cy=\"385.213\" r=\"14.4\" fill=\"#009af9\" fill-rule=\"evenodd\" fill-opacity=\"1\" stroke=\"#000000\" stroke-opacity=\"1\" stroke-width=\"3.2\"/>\n",
       "<circle clip-path=\"url(#clip442)\" cx=\"2141.13\" cy=\"490.458\" r=\"14.4\" fill=\"#009af9\" fill-rule=\"evenodd\" fill-opacity=\"1\" stroke=\"#000000\" stroke-opacity=\"1\" stroke-width=\"3.2\"/>\n",
       "<circle clip-path=\"url(#clip442)\" cx=\"2150.5\" cy=\"432.419\" r=\"14.4\" fill=\"#009af9\" fill-rule=\"evenodd\" fill-opacity=\"1\" stroke=\"#000000\" stroke-opacity=\"1\" stroke-width=\"3.2\"/>\n",
       "<circle clip-path=\"url(#clip442)\" cx=\"2159.86\" cy=\"443.262\" r=\"14.4\" fill=\"#009af9\" fill-rule=\"evenodd\" fill-opacity=\"1\" stroke=\"#000000\" stroke-opacity=\"1\" stroke-width=\"3.2\"/>\n",
       "<circle clip-path=\"url(#clip442)\" cx=\"2169.23\" cy=\"423.391\" r=\"14.4\" fill=\"#009af9\" fill-rule=\"evenodd\" fill-opacity=\"1\" stroke=\"#000000\" stroke-opacity=\"1\" stroke-width=\"3.2\"/>\n",
       "<circle clip-path=\"url(#clip442)\" cx=\"2178.59\" cy=\"351.46\" r=\"14.4\" fill=\"#009af9\" fill-rule=\"evenodd\" fill-opacity=\"1\" stroke=\"#000000\" stroke-opacity=\"1\" stroke-width=\"3.2\"/>\n",
       "<circle clip-path=\"url(#clip442)\" cx=\"2187.95\" cy=\"328.828\" r=\"14.4\" fill=\"#009af9\" fill-rule=\"evenodd\" fill-opacity=\"1\" stroke=\"#000000\" stroke-opacity=\"1\" stroke-width=\"3.2\"/>\n",
       "<circle clip-path=\"url(#clip442)\" cx=\"2197.32\" cy=\"537.667\" r=\"14.4\" fill=\"#009af9\" fill-rule=\"evenodd\" fill-opacity=\"1\" stroke=\"#000000\" stroke-opacity=\"1\" stroke-width=\"3.2\"/>\n",
       "<circle clip-path=\"url(#clip442)\" cx=\"2206.68\" cy=\"406.923\" r=\"14.4\" fill=\"#009af9\" fill-rule=\"evenodd\" fill-opacity=\"1\" stroke=\"#000000\" stroke-opacity=\"1\" stroke-width=\"3.2\"/>\n",
       "<circle clip-path=\"url(#clip442)\" cx=\"2216.04\" cy=\"366.763\" r=\"14.4\" fill=\"#009af9\" fill-rule=\"evenodd\" fill-opacity=\"1\" stroke=\"#000000\" stroke-opacity=\"1\" stroke-width=\"3.2\"/>\n",
       "<circle clip-path=\"url(#clip442)\" cx=\"2225.41\" cy=\"230.968\" r=\"14.4\" fill=\"#009af9\" fill-rule=\"evenodd\" fill-opacity=\"1\" stroke=\"#000000\" stroke-opacity=\"1\" stroke-width=\"3.2\"/>\n",
       "<circle clip-path=\"url(#clip442)\" cx=\"2234.77\" cy=\"266.483\" r=\"14.4\" fill=\"#009af9\" fill-rule=\"evenodd\" fill-opacity=\"1\" stroke=\"#000000\" stroke-opacity=\"1\" stroke-width=\"3.2\"/>\n",
       "<circle clip-path=\"url(#clip442)\" cx=\"2244.14\" cy=\"244.273\" r=\"14.4\" fill=\"#009af9\" fill-rule=\"evenodd\" fill-opacity=\"1\" stroke=\"#000000\" stroke-opacity=\"1\" stroke-width=\"3.2\"/>\n",
       "<circle clip-path=\"url(#clip442)\" cx=\"2253.5\" cy=\"318.777\" r=\"14.4\" fill=\"#009af9\" fill-rule=\"evenodd\" fill-opacity=\"1\" stroke=\"#000000\" stroke-opacity=\"1\" stroke-width=\"3.2\"/>\n",
       "<circle clip-path=\"url(#clip442)\" cx=\"2262.86\" cy=\"159.662\" r=\"14.4\" fill=\"#009af9\" fill-rule=\"evenodd\" fill-opacity=\"1\" stroke=\"#000000\" stroke-opacity=\"1\" stroke-width=\"3.2\"/>\n",
       "<circle clip-path=\"url(#clip442)\" cx=\"2272.23\" cy=\"181.026\" r=\"14.4\" fill=\"#009af9\" fill-rule=\"evenodd\" fill-opacity=\"1\" stroke=\"#000000\" stroke-opacity=\"1\" stroke-width=\"3.2\"/>\n",
       "<circle clip-path=\"url(#clip442)\" cx=\"2281.59\" cy=\"122.298\" r=\"14.4\" fill=\"#009af9\" fill-rule=\"evenodd\" fill-opacity=\"1\" stroke=\"#000000\" stroke-opacity=\"1\" stroke-width=\"3.2\"/>\n",
       "<circle clip-path=\"url(#clip442)\" cx=\"2290.95\" cy=\"104.715\" r=\"14.4\" fill=\"#009af9\" fill-rule=\"evenodd\" fill-opacity=\"1\" stroke=\"#000000\" stroke-opacity=\"1\" stroke-width=\"3.2\"/>\n",
       "<polyline clip-path=\"url(#clip442)\" style=\"stroke:#e26f46; stroke-linecap:round; stroke-linejoin:round; stroke-width:4; stroke-opacity:1; fill:none\" points=\"230.922,675.589 240.286,688.837 249.65,701.944 259.014,714.91 268.377,727.737 277.741,740.424 287.105,752.97 296.469,765.376 305.833,777.642 315.196,789.768 324.56,801.753 333.924,813.599 343.288,825.304 352.651,836.869 362.015,848.294 371.379,859.578 380.743,870.723 390.107,881.727 399.47,892.591 408.834,903.315 418.198,913.899 427.562,924.342 436.926,934.646 446.289,944.809 455.653,954.832 465.017,964.715 474.381,974.457 483.744,984.06 493.108,993.522 502.472,1002.84 511.836,1012.03 521.2,1021.07 530.563,1029.97 539.927,1038.73 549.291,1047.35 558.655,1055.83 568.019,1064.17 577.382,1072.37 586.746,1080.43 596.11,1088.36 605.474,1096.14 614.837,1103.78 624.201,1111.27 633.565,1118.63 642.929,1125.85 652.293,1132.93 661.656,1139.87 671.02,1146.67 680.384,1153.33 689.748,1159.85 699.112,1166.23 708.475,1172.46 717.839,1178.56 727.203,1184.52 736.567,1190.34 745.93,1196.01 755.294,1201.55 764.658,1206.95 774.022,1212.21 783.386,1217.32 792.749,1222.3 802.113,1227.14 811.477,1231.83 820.841,1236.39 830.205,1240.8 839.568,1245.08 848.932,1249.21 858.296,1253.21 867.66,1257.06 877.023,1260.78 886.387,1264.35 895.751,1267.79 905.115,1271.08 914.479,1274.24 923.842,1277.25 933.206,1280.12 942.57,1282.86 951.934,1285.45 961.298,1287.9 970.661,1290.22 980.025,1292.39 989.389,1294.42 998.753,1296.31 1008.12,1298.07 1017.48,1299.68 1026.84,1301.15 1036.21,1302.48 1045.57,1303.67 1054.94,1304.73 1064.3,1305.64 1073.66,1306.41 1083.03,1307.04 1092.39,1307.53 1101.75,1307.88 1111.12,1308.09 1120.48,1308.16 1129.85,1308.09 1139.21,1307.88 1148.57,1307.53 1157.94,1307.04 1167.3,1306.41 1176.66,1305.64 1186.03,1304.73 1195.39,1303.67 1204.76,1302.48 1214.12,1301.15 1223.48,1299.68 1232.85,1298.07 1242.21,1296.31 1251.57,1294.42 1260.94,1292.39 1270.3,1290.22 1279.67,1287.9 1289.03,1285.45 1298.39,1282.86 1307.76,1280.12 1317.12,1277.25 1326.49,1274.24 1335.85,1271.08 1345.21,1267.79 1354.58,1264.35 1363.94,1260.78 1373.3,1257.06 1382.67,1253.21 1392.03,1249.21 1401.4,1245.08 1410.76,1240.8 1420.12,1236.39 1429.49,1231.83 1438.85,1227.14 1448.21,1222.3 1457.58,1217.32 1466.94,1212.21 1476.31,1206.95 1485.67,1201.55 1495.03,1196.01 1504.4,1190.34 1513.76,1184.52 1523.12,1178.56 1532.49,1172.46 1541.85,1166.23 1551.22,1159.85 1560.58,1153.33 1569.94,1146.67 1579.31,1139.87 1588.67,1132.93 1598.03,1125.85 1607.4,1118.63 1616.76,1111.27 1626.13,1103.78 1635.49,1096.14 1644.85,1088.36 1654.22,1080.43 1663.58,1072.37 1672.95,1064.17 1682.31,1055.83 1691.67,1047.35 1701.04,1038.73 1710.4,1029.97 1719.76,1021.07 1729.13,1012.03 1738.49,1002.84 1747.86,993.522 1757.22,984.06 1766.58,974.457 1775.95,964.715 1785.31,954.832 1794.67,944.809 1804.04,934.646 1813.4,924.342 1822.77,913.899 1832.13,903.315 1841.49,892.591 1850.86,881.727 1860.22,870.723 1869.58,859.578 1878.95,848.294 1888.31,836.869 1897.68,825.304 1907.04,813.599 1916.4,801.753 1925.77,789.768 1935.13,777.642 1944.49,765.376 1953.86,752.97 1963.22,740.424 1972.59,727.737 1981.95,714.91 1991.31,701.944 2000.68,688.837 2010.04,675.589 2019.41,662.202 2028.77,648.675 2038.13,635.007 2047.5,621.199 2056.86,607.251 2066.22,593.162 2075.59,578.934 2084.95,564.565 2094.32,550.057 2103.68,535.408 2113.04,520.618 2122.41,505.689 2131.77,490.619 2141.13,475.41 2150.5,460.06 2159.86,444.57 2169.23,428.939 2178.59,413.169 2187.95,397.258 2197.32,381.207 2206.68,365.016 2216.04,348.685 2225.41,332.214 2234.77,315.602 2244.14,298.851 2253.5,281.959 2262.86,264.927 2272.23,247.754 2281.59,230.442 2290.95,212.989 \"/>\n",
       "<polyline clip-path=\"url(#clip442)\" style=\"stroke:#3da44d; stroke-linecap:round; stroke-linejoin:round; stroke-width:4; stroke-opacity:1; fill:none\" points=\"230.922,637.649 240.286,669.216 249.65,695.736 259.014,718.057 268.377,736.923 277.741,752.99 287.105,766.827 296.469,778.928 305.833,789.717 315.196,799.556 324.56,808.75 333.924,817.553 343.288,826.173 352.651,834.779 362.015,843.501 371.379,852.44 380.743,861.669 390.107,871.234 399.47,881.163 408.834,891.466 418.198,902.134 427.562,913.151 436.926,924.486 446.289,936.101 455.653,947.953 465.017,959.993 474.381,972.167 483.744,984.423 493.108,996.705 502.472,1008.96 511.836,1021.13 521.2,1033.16 530.563,1045.01 539.927,1056.63 549.291,1067.98 558.655,1079.01 568.019,1089.7 577.382,1100 586.746,1109.9 596.11,1119.37 605.474,1128.4 614.837,1136.96 624.201,1145.06 633.565,1152.68 642.929,1159.82 652.293,1166.5 661.656,1172.7 671.02,1178.45 680.384,1183.75 689.748,1188.63 699.112,1193.09 708.475,1197.16 717.839,1200.86 727.203,1204.21 736.567,1207.24 745.93,1209.98 755.294,1212.45 764.658,1214.68 774.022,1216.69 783.386,1218.52 792.749,1220.19 802.113,1221.73 811.477,1223.17 820.841,1224.53 830.205,1225.83 839.568,1227.11 848.932,1228.37 858.296,1229.65 867.66,1230.96 877.023,1232.31 886.387,1233.73 895.751,1235.23 905.115,1236.81 914.479,1238.5 923.842,1240.29 933.206,1242.19 942.57,1244.21 951.934,1246.34 961.298,1248.59 970.661,1250.96 980.025,1253.44 989.389,1256.02 998.753,1258.7 1008.12,1261.47 1017.48,1264.32 1026.84,1267.23 1036.21,1270.2 1045.57,1273.21 1054.94,1276.24 1064.3,1279.28 1073.66,1282.3 1083.03,1285.3 1092.39,1288.25 1101.75,1291.14 1111.12,1293.94 1120.48,1296.64 1129.85,1299.21 1139.21,1301.65 1148.57,1303.92 1157.94,1306.01 1167.3,1307.91 1176.66,1309.59 1186.03,1311.04 1195.39,1312.24 1204.76,1313.18 1214.12,1313.85 1223.48,1314.23 1232.85,1314.3 1242.21,1314.07 1251.57,1313.52 1260.94,1312.64 1270.3,1311.43 1279.67,1309.89 1289.03,1308 1298.39,1305.77 1307.76,1303.19 1317.12,1300.28 1326.49,1297.02 1335.85,1293.43 1345.21,1289.51 1354.58,1285.26 1363.94,1280.7 1373.3,1275.84 1382.67,1270.67 1392.03,1265.23 1401.4,1259.5 1410.76,1253.52 1420.12,1247.3 1429.49,1240.84 1438.85,1234.17 1448.21,1227.3 1457.58,1220.25 1466.94,1213.03 1476.31,1205.67 1485.67,1198.17 1495.03,1190.55 1504.4,1182.83 1513.76,1175.03 1523.12,1167.17 1532.49,1159.25 1541.85,1151.29 1551.22,1143.3 1560.58,1135.31 1569.94,1127.31 1579.31,1119.32 1588.67,1111.35 1598.03,1103.4 1607.4,1095.49 1616.76,1087.62 1626.13,1079.79 1635.49,1072 1644.85,1064.26 1654.22,1056.56 1663.58,1048.9 1672.95,1041.28 1682.31,1033.69 1691.67,1026.12 1701.04,1018.57 1710.4,1011.03 1719.76,1003.48 1729.13,995.908 1738.49,988.305 1747.86,980.656 1757.22,972.942 1766.58,965.149 1775.95,957.259 1785.31,949.253 1794.67,941.115 1804.04,932.825 1813.4,924.365 1822.77,915.719 1832.13,906.868 1841.49,897.796 1850.86,888.487 1860.22,878.926 1869.58,869.1 1878.95,858.996 1888.31,848.606 1897.68,837.919 1907.04,826.931 1916.4,815.636 1925.77,804.034 1935.13,792.124 1944.49,779.91 1953.86,767.397 1963.22,754.595 1972.59,741.513 1981.95,728.165 1991.31,714.566 2000.68,700.734 2010.04,686.689 2019.41,672.452 2028.77,658.044 2038.13,643.489 2047.5,628.808 2056.86,614.025 2066.22,599.159 2075.59,584.229 2084.95,569.248 2094.32,554.226 2103.68,539.167 2113.04,524.066 2122.41,508.91 2131.77,493.674 2141.13,478.319 2150.5,462.792 2159.86,447.021 2169.23,430.911 2178.59,414.348 2187.95,397.185 2197.32,379.248 2206.68,360.327 2216.04,340.174 2225.41,318.497 2234.77,294.954 2244.14,269.152 2253.5,240.638 2262.86,208.894 2272.23,173.329 2281.59,133.275 2290.95,87.9763 \"/>\n",
       "<path clip-path=\"url(#clip440)\" d=\"M241.909 302.578 L673.119 302.578 L673.119 95.2176 L241.909 95.2176  Z\" fill=\"#ffffff\" fill-rule=\"evenodd\" fill-opacity=\"1\"/>\n",
       "<polyline clip-path=\"url(#clip440)\" style=\"stroke:#000000; stroke-linecap:round; stroke-linejoin:round; stroke-width:4; stroke-opacity:1; fill:none\" points=\"241.909,302.578 673.119,302.578 673.119,95.2176 241.909,95.2176 241.909,302.578 \"/>\n",
       "<circle clip-path=\"url(#clip440)\" cx=\"338.96\" cy=\"147.058\" r=\"23.04\" fill=\"#009af9\" fill-rule=\"evenodd\" fill-opacity=\"1\" stroke=\"#000000\" stroke-opacity=\"1\" stroke-width=\"5.12\"/>\n",
       "<path clip-path=\"url(#clip440)\" d=\"M447.908 141.398 Q444.482 141.398 442.491 144.083 Q440.501 146.745 440.501 151.398 Q440.501 156.051 442.468 158.736 Q444.459 161.398 447.908 161.398 Q451.311 161.398 453.302 158.713 Q455.292 156.027 455.292 151.398 Q455.292 146.791 453.302 144.106 Q451.311 141.398 447.908 141.398 M447.908 137.787 Q453.464 137.787 456.635 141.398 Q459.806 145.009 459.806 151.398 Q459.806 157.764 456.635 161.398 Q453.464 165.009 447.908 165.009 Q442.329 165.009 439.158 161.398 Q436.01 157.764 436.01 151.398 Q436.01 145.009 439.158 141.398 Q442.329 137.787 447.908 137.787 Z\" fill=\"#000000\" fill-rule=\"evenodd\" fill-opacity=\"1\" /><path clip-path=\"url(#clip440)\" d=\"M485.477 151.398 Q485.477 146.699 483.533 144.037 Q481.612 141.352 478.232 141.352 Q474.852 141.352 472.908 144.037 Q470.987 146.699 470.987 151.398 Q470.987 156.097 472.908 158.782 Q474.852 161.444 478.232 161.444 Q481.612 161.444 483.533 158.782 Q485.477 156.097 485.477 151.398 M470.987 142.347 Q472.329 140.032 474.366 138.921 Q476.426 137.787 479.274 137.787 Q483.996 137.787 486.936 141.537 Q489.899 145.287 489.899 151.398 Q489.899 157.509 486.936 161.259 Q483.996 165.009 479.274 165.009 Q476.426 165.009 474.366 163.898 Q472.329 162.763 470.987 160.449 L470.987 164.338 L466.704 164.338 L466.704 128.319 L470.987 128.319 L470.987 142.347 Z\" fill=\"#000000\" fill-rule=\"evenodd\" fill-opacity=\"1\" /><path clip-path=\"url(#clip440)\" d=\"M513.486 139.176 L513.486 143.203 Q511.681 142.277 509.736 141.815 Q507.792 141.352 505.709 141.352 Q502.537 141.352 500.94 142.324 Q499.366 143.296 499.366 145.24 Q499.366 146.722 500.5 147.578 Q501.635 148.412 505.061 149.176 L506.519 149.5 Q511.056 150.472 512.954 152.254 Q514.875 154.014 514.875 157.185 Q514.875 160.796 512.005 162.902 Q509.158 165.009 504.158 165.009 Q502.074 165.009 499.806 164.592 Q497.561 164.199 495.061 163.388 L495.061 158.99 Q497.422 160.217 499.713 160.842 Q502.005 161.444 504.25 161.444 Q507.26 161.444 508.88 160.426 Q510.5 159.384 510.5 157.509 Q510.5 155.773 509.32 154.847 Q508.162 153.921 504.204 153.064 L502.723 152.717 Q498.764 151.884 497.005 150.171 Q495.246 148.435 495.246 145.426 Q495.246 141.768 497.838 139.778 Q500.431 137.787 505.199 137.787 Q507.561 137.787 509.644 138.134 Q511.727 138.481 513.486 139.176 Z\" fill=\"#000000\" fill-rule=\"evenodd\" fill-opacity=\"1\" /><path clip-path=\"url(#clip440)\" d=\"M543.833 150.31 L543.833 152.393 L524.25 152.393 Q524.528 156.791 526.889 159.106 Q529.273 161.398 533.509 161.398 Q535.963 161.398 538.255 160.796 Q540.57 160.194 542.838 158.99 L542.838 163.018 Q540.546 163.99 538.139 164.5 Q535.732 165.009 533.255 165.009 Q527.051 165.009 523.417 161.398 Q519.806 157.787 519.806 151.629 Q519.806 145.264 523.232 141.537 Q526.681 137.787 532.514 137.787 Q537.746 137.787 540.778 141.166 Q543.833 144.523 543.833 150.31 M539.574 149.06 Q539.528 145.565 537.607 143.481 Q535.709 141.398 532.56 141.398 Q528.996 141.398 526.843 143.412 Q524.713 145.426 524.389 149.083 L539.574 149.06 Z\" fill=\"#000000\" fill-rule=\"evenodd\" fill-opacity=\"1\" /><path clip-path=\"url(#clip440)\" d=\"M565.847 142.393 Q565.13 141.977 564.273 141.791 Q563.44 141.583 562.421 141.583 Q558.81 141.583 556.866 143.944 Q554.945 146.282 554.945 150.68 L554.945 164.338 L550.662 164.338 L550.662 138.412 L554.945 138.412 L554.945 142.44 Q556.287 140.078 558.44 138.944 Q560.593 137.787 563.671 137.787 Q564.111 137.787 564.644 137.856 Q565.176 137.903 565.824 138.018 L565.847 142.393 Z\" fill=\"#000000\" fill-rule=\"evenodd\" fill-opacity=\"1\" /><path clip-path=\"url(#clip440)\" d=\"M567.259 138.412 L571.773 138.412 L579.875 160.171 L587.977 138.412 L592.491 138.412 L582.768 164.338 L576.981 164.338 L567.259 138.412 Z\" fill=\"#000000\" fill-rule=\"evenodd\" fill-opacity=\"1\" /><path clip-path=\"url(#clip440)\" d=\"M620.546 150.31 L620.546 152.393 L600.963 152.393 Q601.241 156.791 603.602 159.106 Q605.986 161.398 610.222 161.398 Q612.676 161.398 614.967 160.796 Q617.282 160.194 619.551 158.99 L619.551 163.018 Q617.259 163.99 614.852 164.5 Q612.444 165.009 609.967 165.009 Q603.764 165.009 600.129 161.398 Q596.518 157.787 596.518 151.629 Q596.518 145.264 599.944 141.537 Q603.393 137.787 609.227 137.787 Q614.458 137.787 617.49 141.166 Q620.546 144.523 620.546 150.31 M616.287 149.06 Q616.241 145.565 614.319 143.481 Q612.421 141.398 609.273 141.398 Q605.708 141.398 603.555 143.412 Q601.426 145.426 601.102 149.083 L616.287 149.06 Z\" fill=\"#000000\" fill-rule=\"evenodd\" fill-opacity=\"1\" /><path clip-path=\"url(#clip440)\" d=\"M644.597 142.347 L644.597 128.319 L648.856 128.319 L648.856 164.338 L644.597 164.338 L644.597 160.449 Q643.254 162.763 641.194 163.898 Q639.157 165.009 636.287 165.009 Q631.588 165.009 628.625 161.259 Q625.685 157.509 625.685 151.398 Q625.685 145.287 628.625 141.537 Q631.588 137.787 636.287 137.787 Q639.157 137.787 641.194 138.921 Q643.254 140.032 644.597 142.347 M630.083 151.398 Q630.083 156.097 632.004 158.782 Q633.949 161.444 637.328 161.444 Q640.708 161.444 642.652 158.782 Q644.597 156.097 644.597 151.398 Q644.597 146.699 642.652 144.037 Q640.708 141.352 637.328 141.352 Q633.949 141.352 632.004 144.037 Q630.083 146.699 630.083 151.398 Z\" fill=\"#000000\" fill-rule=\"evenodd\" fill-opacity=\"1\" /><polyline clip-path=\"url(#clip440)\" style=\"stroke:#e26f46; stroke-linecap:round; stroke-linejoin:round; stroke-width:4; stroke-opacity:1; fill:none\" points=\"266.172,198.898 411.747,198.898 \"/>\n",
       "<path clip-path=\"url(#clip440)\" d=\"M443.417 182.891 L443.417 190.252 L452.19 190.252 L452.19 193.562 L443.417 193.562 L443.417 207.636 Q443.417 210.807 444.274 211.71 Q445.153 212.613 447.815 212.613 L452.19 212.613 L452.19 216.178 L447.815 216.178 Q442.885 216.178 441.01 214.349 Q439.135 212.497 439.135 207.636 L439.135 193.562 L436.01 193.562 L436.01 190.252 L439.135 190.252 L439.135 182.891 L443.417 182.891 Z\" fill=\"#000000\" fill-rule=\"evenodd\" fill-opacity=\"1\" /><path clip-path=\"url(#clip440)\" d=\"M472.815 194.233 Q472.098 193.817 471.241 193.631 Q470.408 193.423 469.389 193.423 Q465.778 193.423 463.834 195.784 Q461.913 198.122 461.913 202.52 L461.913 216.178 L457.63 216.178 L457.63 190.252 L461.913 190.252 L461.913 194.28 Q463.255 191.918 465.408 190.784 Q467.561 189.627 470.639 189.627 Q471.079 189.627 471.612 189.696 Q472.144 189.743 472.792 189.858 L472.815 194.233 Z\" fill=\"#000000\" fill-rule=\"evenodd\" fill-opacity=\"1\" /><path clip-path=\"url(#clip440)\" d=\"M476.843 205.946 L476.843 190.252 L481.102 190.252 L481.102 205.784 Q481.102 209.465 482.538 211.316 Q483.973 213.145 486.843 213.145 Q490.292 213.145 492.283 210.946 Q494.297 208.747 494.297 204.951 L494.297 190.252 L498.556 190.252 L498.556 216.178 L494.297 216.178 L494.297 212.196 Q492.746 214.557 490.686 215.715 Q488.649 216.849 485.94 216.849 Q481.473 216.849 479.158 214.071 Q476.843 211.293 476.843 205.946 M487.561 189.627 L487.561 189.627 Z\" fill=\"#000000\" fill-rule=\"evenodd\" fill-opacity=\"1\" /><path clip-path=\"url(#clip440)\" d=\"M529.505 202.15 L529.505 204.233 L509.922 204.233 Q510.199 208.631 512.561 210.946 Q514.945 213.238 519.181 213.238 Q521.635 213.238 523.926 212.636 Q526.241 212.034 528.509 210.83 L528.509 214.858 Q526.218 215.83 523.81 216.34 Q521.403 216.849 518.926 216.849 Q512.723 216.849 509.088 213.238 Q505.477 209.627 505.477 203.469 Q505.477 197.104 508.903 193.377 Q512.352 189.627 518.185 189.627 Q523.417 189.627 526.449 193.006 Q529.505 196.363 529.505 202.15 M525.246 200.9 Q525.199 197.405 523.278 195.321 Q521.38 193.238 518.232 193.238 Q514.667 193.238 512.514 195.252 Q510.385 197.266 510.061 200.923 L525.246 200.9 Z\" fill=\"#000000\" fill-rule=\"evenodd\" fill-opacity=\"1\" /><polyline clip-path=\"url(#clip440)\" style=\"stroke:#3da44d; stroke-linecap:round; stroke-linejoin:round; stroke-width:4; stroke-opacity:1; fill:none\" points=\"266.172,250.738 411.747,250.738 \"/>\n",
       "<path clip-path=\"url(#clip440)\" d=\"M452.515 231.999 L452.515 235.541 L448.44 235.541 Q446.149 235.541 445.246 236.467 Q444.366 237.393 444.366 239.8 L444.366 242.092 L451.38 242.092 L451.38 245.402 L444.366 245.402 L444.366 268.018 L440.084 268.018 L440.084 245.402 L436.01 245.402 L436.01 242.092 L440.084 242.092 L440.084 240.286 Q440.084 235.958 442.098 233.99 Q444.112 231.999 448.487 231.999 L452.515 231.999 Z\" fill=\"#000000\" fill-rule=\"evenodd\" fill-opacity=\"1\" /><path clip-path=\"url(#clip440)\" d=\"M456.079 242.092 L460.339 242.092 L460.339 268.018 L456.079 268.018 L456.079 242.092 M456.079 231.999 L460.339 231.999 L460.339 237.393 L456.079 237.393 L456.079 231.999 Z\" fill=\"#000000\" fill-rule=\"evenodd\" fill-opacity=\"1\" /><path clip-path=\"url(#clip440)\" d=\"M473.463 234.731 L473.463 242.092 L482.237 242.092 L482.237 245.402 L473.463 245.402 L473.463 259.476 Q473.463 262.647 474.32 263.55 Q475.2 264.453 477.862 264.453 L482.237 264.453 L482.237 268.018 L477.862 268.018 Q472.931 268.018 471.056 266.189 Q469.181 264.337 469.181 259.476 L469.181 245.402 L466.056 245.402 L466.056 242.092 L469.181 242.092 L469.181 234.731 L473.463 234.731 Z\" fill=\"#000000\" fill-rule=\"evenodd\" fill-opacity=\"1\" /><path clip-path=\"url(#clip440)\" d=\"M492.051 234.731 L492.051 242.092 L500.824 242.092 L500.824 245.402 L492.051 245.402 L492.051 259.476 Q492.051 262.647 492.908 263.55 Q493.787 264.453 496.449 264.453 L500.824 264.453 L500.824 268.018 L496.449 268.018 Q491.519 268.018 489.644 266.189 Q487.769 264.337 487.769 259.476 L487.769 245.402 L484.644 245.402 L484.644 242.092 L487.769 242.092 L487.769 234.731 L492.051 234.731 Z\" fill=\"#000000\" fill-rule=\"evenodd\" fill-opacity=\"1\" /><path clip-path=\"url(#clip440)\" d=\"M528.602 253.99 L528.602 256.073 L509.019 256.073 Q509.297 260.471 511.658 262.786 Q514.042 265.078 518.278 265.078 Q520.732 265.078 523.023 264.476 Q525.338 263.874 527.607 262.67 L527.607 266.698 Q525.315 267.67 522.908 268.18 Q520.5 268.689 518.023 268.689 Q511.82 268.689 508.186 265.078 Q504.574 261.467 504.574 255.309 Q504.574 248.944 508 245.217 Q511.449 241.467 517.283 241.467 Q522.514 241.467 525.547 244.846 Q528.602 248.203 528.602 253.99 M524.343 252.74 Q524.297 249.245 522.375 247.161 Q520.477 245.078 517.329 245.078 Q513.764 245.078 511.611 247.092 Q509.482 249.106 509.158 252.763 L524.343 252.74 Z\" fill=\"#000000\" fill-rule=\"evenodd\" fill-opacity=\"1\" /><path clip-path=\"url(#clip440)\" d=\"M552.653 246.027 L552.653 231.999 L556.912 231.999 L556.912 268.018 L552.653 268.018 L552.653 264.129 Q551.31 266.443 549.25 267.578 Q547.213 268.689 544.343 268.689 Q539.644 268.689 536.681 264.939 Q533.741 261.189 533.741 255.078 Q533.741 248.967 536.681 245.217 Q539.644 241.467 544.343 241.467 Q547.213 241.467 549.25 242.601 Q551.31 243.712 552.653 246.027 M538.139 255.078 Q538.139 259.777 540.06 262.462 Q542.005 265.124 545.384 265.124 Q548.764 265.124 550.708 262.462 Q552.653 259.777 552.653 255.078 Q552.653 250.379 550.708 247.717 Q548.764 245.032 545.384 245.032 Q542.005 245.032 540.06 247.717 Q538.139 250.379 538.139 255.078 Z\" fill=\"#000000\" fill-rule=\"evenodd\" fill-opacity=\"1\" /></svg>\n"
      ]
     },
     "execution_count": 161,
     "metadata": {},
     "output_type": "execute_result"
    }
   ],
   "source": [
    "using Plots \n",
    "using Polynomials\n",
    "scatter(x_fit,y_observed,labels = \"observed\")\n",
    "plot!(x_fit,y_true,labels = \"true\")\n",
    "poly_fit = Polynomials.fit(x_fit,y_observed,10)\n",
    "fit_coeffs = coeffs(poly_fit)\n",
    "\n",
    "y_fitted = poly_fit.(x_fit)\n",
    "#y_fitted = fit_coeffs[1] .+ fit_coeffs[2] .* x_fit .+ fit_coeffs[3] .* (x_fit.^2) .+ fit_coeffs[4] .* (x_fit.^3) .+ fit_coeffs[5] .* (x_fit.^4) .+ fit_coeffs[6] .* (x_fit.^5) .+ fit_coeffs[7] .* (x_fit.^6) .+ fit_coeffs[8] .* (x_fit.^7) .+ fit_coeffs[9] .* (x_fit.^8) .+ fit_coeffs[10] .* (x_fit.^9) .+ fit_coeffs[11] .* (x_fit.^10)\n",
    "plot!(x_fit,y_fitted,labels = \"fitted\" )"
   ]
  },
  {
   "cell_type": "markdown",
   "id": "bbcb4ef4",
   "metadata": {},
   "source": [
    "3. What do you observe in the plot? What is this phenomenon called?"
   ]
  },
  {
   "cell_type": "markdown",
   "id": "49a085b1",
   "metadata": {},
   "source": [
    "The fitted line is close to the true line but keeps overshooting and under shooting because the fitted line is overfitting to the data. Overfitting"
   ]
  }
 ],
 "metadata": {
  "kernelspec": {
   "display_name": "Julia 1.8.5",
   "language": "julia",
   "name": "julia-1.8"
  },
  "language_info": {
   "file_extension": ".jl",
   "mimetype": "application/julia",
   "name": "julia",
   "version": "1.8.5"
  }
 },
 "nbformat": 4,
 "nbformat_minor": 5
}
