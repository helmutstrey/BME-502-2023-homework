{
 "cells": [
  {
   "cell_type": "markdown",
   "id": "1fbe377b",
   "metadata": {},
   "source": [
    "<h1>HW3</h1>"
   ]
  },
  {
   "cell_type": "markdown",
   "id": "79813e24",
   "metadata": {},
   "source": [
    "# Question 1\n",
    "### (Bayes Theorem) Read the following example and complete the exercises \n",
    "\n",
    "Trolls Under the Bridge\n",
    "1. Trolls(T) are bad\n",
    "2. Gnomes(G) are benign\n",
    "3. Every bridge has 5 creatures under it\n",
    "\n",
    "Below are the probabilities of what creatures live under a bridge:\n",
    "1. TTGGG: 20% (E1)\n",
    "2. TGGGG: 20% (E2)\n",
    "3. GGGGG: 60% (E3)\n",
    "\n",
    "A knight is approaching a bridge and he wants to know his chance of crossing the bridge safely."
   ]
  },
  {
   "cell_type": "markdown",
   "id": "425f8583",
   "metadata": {},
   "source": [
    "### 1.1 \n",
    "\n",
    "#### What is the chance of the knight crossing the bridge safely?\n"
   ]
  },
  {
   "cell_type": "code",
   "execution_count": 45,
   "id": "29bea308",
   "metadata": {},
   "outputs": [
    {
     "name": "stdout",
     "output_type": "stream",
     "text": [
      "E3=60%=3/5\n"
     ]
    }
   ],
   "source": [
    "println(\"E3=60%=3/5\")"
   ]
  },
  {
   "cell_type": "markdown",
   "id": "61f687e4",
   "metadata": {},
   "source": [
    "### 1.2\n",
    "\n",
    "#### Before crossing a bridge, a knight captures a troll. “I now have an 80% chance of crossing safely,” he reasons, “since only the case 20% had TTGGG (E1) now have TGGG is still a threat.”\n",
    "\n",
    "#### Do you agree with him? Why?"
   ]
  },
  {
   "cell_type": "markdown",
   "id": "09025213",
   "metadata": {},
   "source": [
    "I don't agree, because E1 and E2 both are still with 20% chances of getting trolls and only E3 is without trolls. So, you will still have in total 40% chance of getting Trolls while crossing the bridge."
   ]
  },
  {
   "cell_type": "markdown",
   "id": "c1533b67",
   "metadata": {},
   "source": [
    "### 1.3\n",
    "\n",
    "#### Now he wants to use Bayes' theorem to calculate his chance of crossing safely given a troll captured \n",
    "\n",
    "\\begin{equation*}\n",
    "P(A|B) = \\frac{P(B|A)P(A)}{P(B)} \\\\\n",
    "P(A|B): Posteior \\\\\n",
    "P(B|A): Likelihood \\\\\n",
    "P(A): Prior \\\\\n",
    "P(B): Marginal Probability \\\\\n",
    "\\end{equation*}\n",
    "\n",
    "#### Given the three events, E1, E2, and E3, which two of the three events does the knight need to consider after a troll was captured?"
   ]
  },
  {
   "cell_type": "markdown",
   "id": "0adb7f0a",
   "metadata": {},
   "source": [
    "E1(TTGGG) and E2(TGGGG)"
   ]
  },
  {
   "cell_type": "markdown",
   "id": "e45e8fa6",
   "metadata": {},
   "source": [
    "### 1.4\n",
    "\n",
    "#### Use Bayes' theorem to calculate the probability of the two events in 1.3 (separately) given the troll was captured. "
   ]
  },
  {
   "cell_type": "markdown",
   "id": "5d9c3c0b",
   "metadata": {},
   "source": [
    "Probability of one event given a troll captured: E1"
   ]
  },
  {
   "cell_type": "code",
   "execution_count": 47,
   "id": "f2f0e7c8",
   "metadata": {},
   "outputs": [
    {
     "name": "stdout",
     "output_type": "stream",
     "text": [
      "Prior: P(B) = Troll Captured\n",
      "Marginal Probability: P(A) = Event1 Occurs\n",
      "Posterior: P(A|B) = Event1 occurs given troll captured\n",
      "Likelyhood: P(B|A) = Troll captured given E1 occur = 2/5\n"
     ]
    },
    {
     "data": {
      "text/plain": [
       "0.6666666666666666"
      ]
     },
     "execution_count": 47,
     "metadata": {},
     "output_type": "execute_result"
    }
   ],
   "source": [
    "println(\"Prior: P(B) = Troll Captured\")\n",
    "println(\"Marginal Probability: P(A) = Event1 Occurs\")\n",
    "println(\"Posterior: P(A|B) = Event1 occurs given troll captured\")\n",
    "println(\"Likelyhood: P(B|A) = Troll captured given E1 occur = 2/5\")\n",
    "Prior = 1/5\n",
    "Likelihood = 2/5\n",
    "Marginal_probability = ((2/5)*.2)+((1/5)*.2)+((0/5)*0.6)\n",
    "Posterior = (Likelihood*Prior)/Marginal_probability"
   ]
  },
  {
   "cell_type": "markdown",
   "id": "37843aee",
   "metadata": {},
   "source": [
    "Probability of the other event given a troll captured: E2"
   ]
  },
  {
   "cell_type": "code",
   "execution_count": 48,
   "id": "5db10bc7",
   "metadata": {},
   "outputs": [
    {
     "name": "stdout",
     "output_type": "stream",
     "text": [
      "Prior: P(B) = Troll Captured\n",
      "Marginal Probability: P(A) = Event2 Occurs\n",
      "Posterior: P(A|B) = Event2 occurs given troll captured\n",
      "Likelyhood: P(B|A) = Troll captured given E1 occur = 1/5\n"
     ]
    },
    {
     "data": {
      "text/plain": [
       "0.3333333333333333"
      ]
     },
     "execution_count": 48,
     "metadata": {},
     "output_type": "execute_result"
    }
   ],
   "source": [
    "println(\"Prior: P(B) = Troll Captured\")\n",
    "println(\"Marginal Probability: P(A) = Event2 Occurs\")\n",
    "println(\"Posterior: P(A|B) = Event2 occurs given troll captured\")\n",
    "println(\"Likelyhood: P(B|A) = Troll captured given E1 occur = 1/5\")\n",
    "likelihood = (1/5)\n",
    "prior = (1/5)\n",
    "marginal_probability = ((2/5)*.2)+((1/5)*.2)+((0/5)*0.6)\n",
    "posterior = (likelihood*prior)/marginal_probability"
   ]
  },
  {
   "cell_type": "markdown",
   "id": "f3b7f049",
   "metadata": {},
   "source": [
    "### 1.5\n",
    "\n",
    "#### What is the chance of the knight crossing safely?"
   ]
  },
  {
   "cell_type": "code",
   "execution_count": 49,
   "id": "0f6fd73b",
   "metadata": {},
   "outputs": [
    {
     "data": {
      "text/plain": [
       "0.3333333333333333"
      ]
     },
     "execution_count": 49,
     "metadata": {},
     "output_type": "execute_result"
    }
   ],
   "source": [
    "1/3"
   ]
  },
  {
   "cell_type": "markdown",
   "id": "7b815ae0",
   "metadata": {},
   "source": [
    "#### Now looking back to 1.1, the probabilities were changed after assimilating data! "
   ]
  },
  {
   "cell_type": "markdown",
   "id": "f1450094",
   "metadata": {},
   "source": [
    "# Question 2\n",
    "### (Polynomial Fitting) Read the following example and complete the exercises \n",
    "\n",
    "Biological data always comes with errors that influence the intepretation of the data significantly. In this question, we will simulate data and see how noises affect the parameter estimation."
   ]
  },
  {
   "cell_type": "code",
   "execution_count": 50,
   "id": "c20822fa",
   "metadata": {},
   "outputs": [
    {
     "name": "stderr",
     "output_type": "stream",
     "text": [
      "\u001b[32m\u001b[1m   Resolving\u001b[22m\u001b[39m package versions...\n",
      "\u001b[32m\u001b[1m  No Changes\u001b[22m\u001b[39m to `~/.julia/environments/v1.8/Project.toml`\n",
      "\u001b[32m\u001b[1m  No Changes\u001b[22m\u001b[39m to `~/.julia/environments/v1.8/Manifest.toml`\n"
     ]
    }
   ],
   "source": [
    "import Pkg\n",
    "Pkg.add([\"Distributions\", \"Plots\", \"Polynomials\", \"Random\"])"
   ]
  },
  {
   "cell_type": "code",
   "execution_count": 51,
   "id": "d7d1ca8d",
   "metadata": {},
   "outputs": [],
   "source": [
    "import Distributions as di\n",
    "import Plots\n",
    "import Polynomials\n",
    "import Random\n",
    "using Statistics\n",
    "using Polynomials: Polynomial, fit, coeffs\n",
    "using Plots\n",
    "using Random\n",
    "using Statistics"
   ]
  },
  {
   "cell_type": "markdown",
   "id": "a90dd09d",
   "metadata": {},
   "source": [
    "### 2.1\n",
    "\n",
    "1. Generate the independent variable x ranging from -10 to 10 with an increment of 1\n",
    "2. Generate the dependent variable y_true using the equation y_true = x^2 + 3x - 2\n"
   ]
  },
  {
   "cell_type": "code",
   "execution_count": 52,
   "id": "6b0b33c5",
   "metadata": {},
   "outputs": [
    {
     "data": {
      "text/plain": [
       "21-element Vector{Int64}:\n",
       " -10\n",
       "  -9\n",
       "  -8\n",
       "  -7\n",
       "  -6\n",
       "  -5\n",
       "  -4\n",
       "  -3\n",
       "  -2\n",
       "  -1\n",
       "   0\n",
       "   1\n",
       "   2\n",
       "   3\n",
       "   4\n",
       "   5\n",
       "   6\n",
       "   7\n",
       "   8\n",
       "   9\n",
       "  10"
      ]
     },
     "execution_count": 52,
     "metadata": {},
     "output_type": "execute_result"
    }
   ],
   "source": [
    "x = -10:10\n",
    "collect(x)"
   ]
  },
  {
   "cell_type": "code",
   "execution_count": 53,
   "id": "3e893d47",
   "metadata": {},
   "outputs": [
    {
     "data": {
      "text/plain": [
       "21-element Vector{Int64}:\n",
       "  68\n",
       "  52\n",
       "  38\n",
       "  26\n",
       "  16\n",
       "   8\n",
       "   2\n",
       "  -2\n",
       "  -4\n",
       "  -4\n",
       "  -2\n",
       "   2\n",
       "   8\n",
       "  16\n",
       "  26\n",
       "  38\n",
       "  52\n",
       "  68\n",
       "  86\n",
       " 106\n",
       " 128"
      ]
     },
     "execution_count": 53,
     "metadata": {},
     "output_type": "execute_result"
    }
   ],
   "source": [
    "y_true = x.^2 .+ 3 .*x .- 2"
   ]
  },
  {
   "cell_type": "markdown",
   "id": "74d2a191",
   "metadata": {},
   "source": [
    "### 2.2\n",
    "\n",
    "1. Generate the Guassian noises with zero mean and a standard deviation of 10\n",
    "\n",
    "2. Add the noises to y_true to obtain y_observed\n"
   ]
  },
  {
   "cell_type": "code",
   "execution_count": 54,
   "id": "7936417a",
   "metadata": {},
   "outputs": [
    {
     "data": {
      "text/plain": [
       "Distributions.Normal{Float64}(μ=0.0, σ=10.0)"
      ]
     },
     "execution_count": 54,
     "metadata": {},
     "output_type": "execute_result"
    }
   ],
   "source": [
    "d=10\n",
    "noise = di.Normal(0,d)"
   ]
  },
  {
   "cell_type": "code",
   "execution_count": 61,
   "id": "c1c45387",
   "metadata": {},
   "outputs": [
    {
     "data": {
      "text/plain": [
       "21-element Vector{Float64}:\n",
       "  62.142492445659826\n",
       "  54.02805692820427\n",
       "  42.72089729025317\n",
       "  35.49297199918034\n",
       "  30.669870717504203\n",
       "   5.208561259141666\n",
       "  25.695746419217308\n",
       "   9.86315510392268\n",
       "  -3.748920985547847\n",
       "  -0.98903859738662\n",
       " -10.368538694993962\n",
       "  -0.9047165851800805\n",
       "  31.417640549924958\n",
       "  27.376204018015233\n",
       "  26.741294988236987\n",
       "  49.70103296912207\n",
       "  49.72967443063551\n",
       "  57.34206688727694\n",
       "  74.52891372119853\n",
       " 104.5926389203513\n",
       " 125.81443344270873"
      ]
     },
     "execution_count": 61,
     "metadata": {},
     "output_type": "execute_result"
    }
   ],
   "source": [
    "y_observed = y_true + rand(noise,length(x))"
   ]
  },
  {
   "cell_type": "markdown",
   "id": "ecf2e554",
   "metadata": {},
   "source": [
    "### 2.3\n",
    "\n",
    "#### Fit the data (x, y_observed) with a second order polynomial. \n",
    "\n",
    "1. Make a scatter plot of y_observed along x\n",
    "2. Plot a line of y_true along x on the scatter plot\n",
    "3. Plot a line of the fitted polynomial along x on the same plot"
   ]
  },
  {
   "cell_type": "code",
   "execution_count": 62,
   "id": "d39a136b",
   "metadata": {},
   "outputs": [
    {
     "data": {
      "image/svg+xml": [
       "<?xml version=\"1.0\" encoding=\"utf-8\"?>\n",
       "<svg xmlns=\"http://www.w3.org/2000/svg\" xmlns:xlink=\"http://www.w3.org/1999/xlink\" width=\"600\" height=\"400\" viewBox=\"0 0 2400 1600\">\n",
       "<defs>\n",
       "  <clipPath id=\"clip810\">\n",
       "    <rect x=\"0\" y=\"0\" width=\"2400\" height=\"1600\"/>\n",
       "  </clipPath>\n",
       "</defs>\n",
       "<path clip-path=\"url(#clip810)\" d=\"M0 1600 L2400 1600 L2400 0 L0 0  Z\" fill=\"#ffffff\" fill-rule=\"evenodd\" fill-opacity=\"1\"/>\n",
       "<defs>\n",
       "  <clipPath id=\"clip811\">\n",
       "    <rect x=\"480\" y=\"0\" width=\"1681\" height=\"1600\"/>\n",
       "  </clipPath>\n",
       "</defs>\n",
       "<path clip-path=\"url(#clip810)\" d=\"M169.121 1486.45 L2352.76 1486.45 L2352.76 47.2441 L169.121 47.2441  Z\" fill=\"#ffffff\" fill-rule=\"evenodd\" fill-opacity=\"1\"/>\n",
       "<defs>\n",
       "  <clipPath id=\"clip812\">\n",
       "    <rect x=\"169\" y=\"47\" width=\"2185\" height=\"1440\"/>\n",
       "  </clipPath>\n",
       "</defs>\n",
       "<polyline clip-path=\"url(#clip812)\" style=\"stroke:#000000; stroke-linecap:round; stroke-linejoin:round; stroke-width:2; stroke-opacity:0.1; fill:none\" points=\"230.922,1486.45 230.922,47.2441 \"/>\n",
       "<polyline clip-path=\"url(#clip812)\" style=\"stroke:#000000; stroke-linecap:round; stroke-linejoin:round; stroke-width:2; stroke-opacity:0.1; fill:none\" points=\"745.93,1486.45 745.93,47.2441 \"/>\n",
       "<polyline clip-path=\"url(#clip812)\" style=\"stroke:#000000; stroke-linecap:round; stroke-linejoin:round; stroke-width:2; stroke-opacity:0.1; fill:none\" points=\"1260.94,1486.45 1260.94,47.2441 \"/>\n",
       "<polyline clip-path=\"url(#clip812)\" style=\"stroke:#000000; stroke-linecap:round; stroke-linejoin:round; stroke-width:2; stroke-opacity:0.1; fill:none\" points=\"1775.95,1486.45 1775.95,47.2441 \"/>\n",
       "<polyline clip-path=\"url(#clip812)\" style=\"stroke:#000000; stroke-linecap:round; stroke-linejoin:round; stroke-width:2; stroke-opacity:0.1; fill:none\" points=\"2290.95,1486.45 2290.95,47.2441 \"/>\n",
       "<polyline clip-path=\"url(#clip810)\" style=\"stroke:#000000; stroke-linecap:round; stroke-linejoin:round; stroke-width:4; stroke-opacity:1; fill:none\" points=\"169.121,1486.45 2352.76,1486.45 \"/>\n",
       "<polyline clip-path=\"url(#clip810)\" style=\"stroke:#000000; stroke-linecap:round; stroke-linejoin:round; stroke-width:4; stroke-opacity:1; fill:none\" points=\"230.922,1486.45 230.922,1467.55 \"/>\n",
       "<polyline clip-path=\"url(#clip810)\" style=\"stroke:#000000; stroke-linecap:round; stroke-linejoin:round; stroke-width:4; stroke-opacity:1; fill:none\" points=\"745.93,1486.45 745.93,1467.55 \"/>\n",
       "<polyline clip-path=\"url(#clip810)\" style=\"stroke:#000000; stroke-linecap:round; stroke-linejoin:round; stroke-width:4; stroke-opacity:1; fill:none\" points=\"1260.94,1486.45 1260.94,1467.55 \"/>\n",
       "<polyline clip-path=\"url(#clip810)\" style=\"stroke:#000000; stroke-linecap:round; stroke-linejoin:round; stroke-width:4; stroke-opacity:1; fill:none\" points=\"1775.95,1486.45 1775.95,1467.55 \"/>\n",
       "<polyline clip-path=\"url(#clip810)\" style=\"stroke:#000000; stroke-linecap:round; stroke-linejoin:round; stroke-width:4; stroke-opacity:1; fill:none\" points=\"2290.95,1486.45 2290.95,1467.55 \"/>\n",
       "<path clip-path=\"url(#clip810)\" d=\"M184.985 1532.02 L214.661 1532.02 L214.661 1535.95 L184.985 1535.95 L184.985 1532.02 Z\" fill=\"#000000\" fill-rule=\"evenodd\" fill-opacity=\"1\" /><path clip-path=\"url(#clip810)\" d=\"M225.564 1544.91 L233.202 1544.91 L233.202 1518.55 L224.892 1520.21 L224.892 1515.95 L233.156 1514.29 L237.832 1514.29 L237.832 1544.91 L245.471 1544.91 L245.471 1548.85 L225.564 1548.85 L225.564 1544.91 Z\" fill=\"#000000\" fill-rule=\"evenodd\" fill-opacity=\"1\" /><path clip-path=\"url(#clip810)\" d=\"M264.915 1517.37 Q261.304 1517.37 259.475 1520.93 Q257.67 1524.47 257.67 1531.6 Q257.67 1538.71 259.475 1542.27 Q261.304 1545.82 264.915 1545.82 Q268.549 1545.82 270.355 1542.27 Q272.184 1538.71 272.184 1531.6 Q272.184 1524.47 270.355 1520.93 Q268.549 1517.37 264.915 1517.37 M264.915 1513.66 Q270.725 1513.66 273.781 1518.27 Q276.86 1522.85 276.86 1531.6 Q276.86 1540.33 273.781 1544.94 Q270.725 1549.52 264.915 1549.52 Q259.105 1549.52 256.026 1544.94 Q252.971 1540.33 252.971 1531.6 Q252.971 1522.85 256.026 1518.27 Q259.105 1513.66 264.915 1513.66 Z\" fill=\"#000000\" fill-rule=\"evenodd\" fill-opacity=\"1\" /><path clip-path=\"url(#clip810)\" d=\"M715.572 1532.02 L745.248 1532.02 L745.248 1535.95 L715.572 1535.95 L715.572 1532.02 Z\" fill=\"#000000\" fill-rule=\"evenodd\" fill-opacity=\"1\" /><path clip-path=\"url(#clip810)\" d=\"M755.386 1514.29 L773.743 1514.29 L773.743 1518.22 L759.669 1518.22 L759.669 1526.7 Q760.687 1526.35 761.706 1526.19 Q762.724 1526 763.743 1526 Q769.53 1526 772.909 1529.17 Q776.289 1532.34 776.289 1537.76 Q776.289 1543.34 772.817 1546.44 Q769.345 1549.52 763.025 1549.52 Q760.849 1549.52 758.581 1549.15 Q756.335 1548.78 753.928 1548.04 L753.928 1543.34 Q756.011 1544.47 758.234 1545.03 Q760.456 1545.58 762.933 1545.58 Q766.937 1545.58 769.275 1543.48 Q771.613 1541.37 771.613 1537.76 Q771.613 1534.15 769.275 1532.04 Q766.937 1529.94 762.933 1529.94 Q761.058 1529.94 759.183 1530.35 Q757.331 1530.77 755.386 1531.65 L755.386 1514.29 Z\" fill=\"#000000\" fill-rule=\"evenodd\" fill-opacity=\"1\" /><path clip-path=\"url(#clip810)\" d=\"M1260.94 1517.37 Q1257.33 1517.37 1255.5 1520.93 Q1253.69 1524.47 1253.69 1531.6 Q1253.69 1538.71 1255.5 1542.27 Q1257.33 1545.82 1260.94 1545.82 Q1264.57 1545.82 1266.38 1542.27 Q1268.21 1538.71 1268.21 1531.6 Q1268.21 1524.47 1266.38 1520.93 Q1264.57 1517.37 1260.94 1517.37 M1260.94 1513.66 Q1266.75 1513.66 1269.8 1518.27 Q1272.88 1522.85 1272.88 1531.6 Q1272.88 1540.33 1269.8 1544.94 Q1266.75 1549.52 1260.94 1549.52 Q1255.13 1549.52 1252.05 1544.94 Q1248.99 1540.33 1248.99 1531.6 Q1248.99 1522.85 1252.05 1518.27 Q1255.13 1513.66 1260.94 1513.66 Z\" fill=\"#000000\" fill-rule=\"evenodd\" fill-opacity=\"1\" /><path clip-path=\"url(#clip810)\" d=\"M1766.22 1514.29 L1784.58 1514.29 L1784.58 1518.22 L1770.51 1518.22 L1770.51 1526.7 Q1771.53 1526.35 1772.54 1526.19 Q1773.56 1526 1774.58 1526 Q1780.37 1526 1783.75 1529.17 Q1787.13 1532.34 1787.13 1537.76 Q1787.13 1543.34 1783.66 1546.44 Q1780.18 1549.52 1773.86 1549.52 Q1771.69 1549.52 1769.42 1549.15 Q1767.17 1548.78 1764.77 1548.04 L1764.77 1543.34 Q1766.85 1544.47 1769.07 1545.03 Q1771.29 1545.58 1773.77 1545.58 Q1777.78 1545.58 1780.11 1543.48 Q1782.45 1541.37 1782.45 1537.76 Q1782.45 1534.15 1780.11 1532.04 Q1777.78 1529.94 1773.77 1529.94 Q1771.9 1529.94 1770.02 1530.35 Q1768.17 1530.77 1766.22 1531.65 L1766.22 1514.29 Z\" fill=\"#000000\" fill-rule=\"evenodd\" fill-opacity=\"1\" /><path clip-path=\"url(#clip810)\" d=\"M2265.64 1544.91 L2273.28 1544.91 L2273.28 1518.55 L2264.97 1520.21 L2264.97 1515.95 L2273.24 1514.29 L2277.91 1514.29 L2277.91 1544.91 L2285.55 1544.91 L2285.55 1548.85 L2265.64 1548.85 L2265.64 1544.91 Z\" fill=\"#000000\" fill-rule=\"evenodd\" fill-opacity=\"1\" /><path clip-path=\"url(#clip810)\" d=\"M2304.99 1517.37 Q2301.38 1517.37 2299.55 1520.93 Q2297.75 1524.47 2297.75 1531.6 Q2297.75 1538.71 2299.55 1542.27 Q2301.38 1545.82 2304.99 1545.82 Q2308.63 1545.82 2310.43 1542.27 Q2312.26 1538.71 2312.26 1531.6 Q2312.26 1524.47 2310.43 1520.93 Q2308.63 1517.37 2304.99 1517.37 M2304.99 1513.66 Q2310.8 1513.66 2313.86 1518.27 Q2316.94 1522.85 2316.94 1531.6 Q2316.94 1540.33 2313.86 1544.94 Q2310.8 1549.52 2304.99 1549.52 Q2299.18 1549.52 2296.11 1544.94 Q2293.05 1540.33 2293.05 1531.6 Q2293.05 1522.85 2296.11 1518.27 Q2299.18 1513.66 2304.99 1513.66 Z\" fill=\"#000000\" fill-rule=\"evenodd\" fill-opacity=\"1\" /><polyline clip-path=\"url(#clip812)\" style=\"stroke:#000000; stroke-linecap:round; stroke-linejoin:round; stroke-width:2; stroke-opacity:0.1; fill:none\" points=\"169.121,1343.97 2352.76,1343.97 \"/>\n",
       "<polyline clip-path=\"url(#clip812)\" style=\"stroke:#000000; stroke-linecap:round; stroke-linejoin:round; stroke-width:2; stroke-opacity:0.1; fill:none\" points=\"169.121,1147.72 2352.76,1147.72 \"/>\n",
       "<polyline clip-path=\"url(#clip812)\" style=\"stroke:#000000; stroke-linecap:round; stroke-linejoin:round; stroke-width:2; stroke-opacity:0.1; fill:none\" points=\"169.121,951.475 2352.76,951.475 \"/>\n",
       "<polyline clip-path=\"url(#clip812)\" style=\"stroke:#000000; stroke-linecap:round; stroke-linejoin:round; stroke-width:2; stroke-opacity:0.1; fill:none\" points=\"169.121,755.225 2352.76,755.225 \"/>\n",
       "<polyline clip-path=\"url(#clip812)\" style=\"stroke:#000000; stroke-linecap:round; stroke-linejoin:round; stroke-width:2; stroke-opacity:0.1; fill:none\" points=\"169.121,558.976 2352.76,558.976 \"/>\n",
       "<polyline clip-path=\"url(#clip812)\" style=\"stroke:#000000; stroke-linecap:round; stroke-linejoin:round; stroke-width:2; stroke-opacity:0.1; fill:none\" points=\"169.121,362.726 2352.76,362.726 \"/>\n",
       "<polyline clip-path=\"url(#clip812)\" style=\"stroke:#000000; stroke-linecap:round; stroke-linejoin:round; stroke-width:2; stroke-opacity:0.1; fill:none\" points=\"169.121,166.476 2352.76,166.476 \"/>\n",
       "<polyline clip-path=\"url(#clip810)\" style=\"stroke:#000000; stroke-linecap:round; stroke-linejoin:round; stroke-width:4; stroke-opacity:1; fill:none\" points=\"169.121,1486.45 169.121,47.2441 \"/>\n",
       "<polyline clip-path=\"url(#clip810)\" style=\"stroke:#000000; stroke-linecap:round; stroke-linejoin:round; stroke-width:4; stroke-opacity:1; fill:none\" points=\"169.121,1343.97 188.019,1343.97 \"/>\n",
       "<polyline clip-path=\"url(#clip810)\" style=\"stroke:#000000; stroke-linecap:round; stroke-linejoin:round; stroke-width:4; stroke-opacity:1; fill:none\" points=\"169.121,1147.72 188.019,1147.72 \"/>\n",
       "<polyline clip-path=\"url(#clip810)\" style=\"stroke:#000000; stroke-linecap:round; stroke-linejoin:round; stroke-width:4; stroke-opacity:1; fill:none\" points=\"169.121,951.475 188.019,951.475 \"/>\n",
       "<polyline clip-path=\"url(#clip810)\" style=\"stroke:#000000; stroke-linecap:round; stroke-linejoin:round; stroke-width:4; stroke-opacity:1; fill:none\" points=\"169.121,755.225 188.019,755.225 \"/>\n",
       "<polyline clip-path=\"url(#clip810)\" style=\"stroke:#000000; stroke-linecap:round; stroke-linejoin:round; stroke-width:4; stroke-opacity:1; fill:none\" points=\"169.121,558.976 188.019,558.976 \"/>\n",
       "<polyline clip-path=\"url(#clip810)\" style=\"stroke:#000000; stroke-linecap:round; stroke-linejoin:round; stroke-width:4; stroke-opacity:1; fill:none\" points=\"169.121,362.726 188.019,362.726 \"/>\n",
       "<polyline clip-path=\"url(#clip810)\" style=\"stroke:#000000; stroke-linecap:round; stroke-linejoin:round; stroke-width:4; stroke-opacity:1; fill:none\" points=\"169.121,166.476 188.019,166.476 \"/>\n",
       "<path clip-path=\"url(#clip810)\" d=\"M121.177 1329.77 Q117.566 1329.77 115.737 1333.34 Q113.932 1336.88 113.932 1344.01 Q113.932 1351.12 115.737 1354.68 Q117.566 1358.22 121.177 1358.22 Q124.811 1358.22 126.617 1354.68 Q128.445 1351.12 128.445 1344.01 Q128.445 1336.88 126.617 1333.34 Q124.811 1329.77 121.177 1329.77 M121.177 1326.07 Q126.987 1326.07 130.043 1330.68 Q133.121 1335.26 133.121 1344.01 Q133.121 1352.74 130.043 1357.34 Q126.987 1361.93 121.177 1361.93 Q115.367 1361.93 112.288 1357.34 Q109.233 1352.74 109.233 1344.01 Q109.233 1335.26 112.288 1330.68 Q115.367 1326.07 121.177 1326.07 Z\" fill=\"#000000\" fill-rule=\"evenodd\" fill-opacity=\"1\" /><path clip-path=\"url(#clip810)\" d=\"M85.0429 1161.07 L101.362 1161.07 L101.362 1165 L79.4179 1165 L79.4179 1161.07 Q82.0799 1158.32 86.6632 1153.69 Q91.2697 1149.03 92.4502 1147.69 Q94.6956 1145.17 95.5752 1143.43 Q96.478 1141.67 96.478 1139.98 Q96.478 1137.23 94.5336 1135.49 Q92.6123 1133.75 89.5104 1133.75 Q87.3114 1133.75 84.8577 1134.52 Q82.4271 1135.28 79.6494 1136.83 L79.6494 1132.11 Q82.4734 1130.98 84.9271 1130.4 Q87.3808 1129.82 89.4178 1129.82 Q94.7882 1129.82 97.9826 1132.5 Q101.177 1135.19 101.177 1139.68 Q101.177 1141.81 100.367 1143.73 Q99.5798 1145.63 97.4734 1148.22 Q96.8947 1148.89 93.7928 1152.11 Q90.691 1155.31 85.0429 1161.07 Z\" fill=\"#000000\" fill-rule=\"evenodd\" fill-opacity=\"1\" /><path clip-path=\"url(#clip810)\" d=\"M121.177 1133.52 Q117.566 1133.52 115.737 1137.09 Q113.932 1140.63 113.932 1147.76 Q113.932 1154.87 115.737 1158.43 Q117.566 1161.97 121.177 1161.97 Q124.811 1161.97 126.617 1158.43 Q128.445 1154.87 128.445 1147.76 Q128.445 1140.63 126.617 1137.09 Q124.811 1133.52 121.177 1133.52 M121.177 1129.82 Q126.987 1129.82 130.043 1134.43 Q133.121 1139.01 133.121 1147.76 Q133.121 1156.49 130.043 1161.09 Q126.987 1165.68 121.177 1165.68 Q115.367 1165.68 112.288 1161.09 Q109.233 1156.49 109.233 1147.76 Q109.233 1139.01 112.288 1134.43 Q115.367 1129.82 121.177 1129.82 Z\" fill=\"#000000\" fill-rule=\"evenodd\" fill-opacity=\"1\" /><path clip-path=\"url(#clip810)\" d=\"M93.8623 938.269 L82.0568 956.718 L93.8623 956.718 L93.8623 938.269 M92.6354 934.195 L98.515 934.195 L98.515 956.718 L103.446 956.718 L103.446 960.607 L98.515 960.607 L98.515 968.755 L93.8623 968.755 L93.8623 960.607 L78.2605 960.607 L78.2605 956.093 L92.6354 934.195 Z\" fill=\"#000000\" fill-rule=\"evenodd\" fill-opacity=\"1\" /><path clip-path=\"url(#clip810)\" d=\"M121.177 937.274 Q117.566 937.274 115.737 940.839 Q113.932 944.38 113.932 951.51 Q113.932 958.616 115.737 962.181 Q117.566 965.723 121.177 965.723 Q124.811 965.723 126.617 962.181 Q128.445 958.616 128.445 951.51 Q128.445 944.38 126.617 940.839 Q124.811 937.274 121.177 937.274 M121.177 933.57 Q126.987 933.57 130.043 938.177 Q133.121 942.76 133.121 951.51 Q133.121 960.237 130.043 964.843 Q126.987 969.426 121.177 969.426 Q115.367 969.426 112.288 964.843 Q109.233 960.237 109.233 951.51 Q109.233 942.76 112.288 938.177 Q115.367 933.57 121.177 933.57 Z\" fill=\"#000000\" fill-rule=\"evenodd\" fill-opacity=\"1\" /><path clip-path=\"url(#clip810)\" d=\"M91.5938 753.362 Q88.4456 753.362 86.5938 755.515 Q84.7651 757.667 84.7651 761.417 Q84.7651 765.144 86.5938 767.32 Q88.4456 769.473 91.5938 769.473 Q94.7419 769.473 96.5706 767.32 Q98.4224 765.144 98.4224 761.417 Q98.4224 757.667 96.5706 755.515 Q94.7419 753.362 91.5938 753.362 M100.876 738.709 L100.876 742.968 Q99.1169 742.135 97.3113 741.695 Q95.5289 741.256 93.7697 741.256 Q89.1401 741.256 86.6864 744.381 Q84.2558 747.505 83.9086 753.825 Q85.2743 751.811 87.3345 750.746 Q89.3947 749.658 91.8715 749.658 Q97.0798 749.658 100.089 752.83 Q103.121 755.978 103.121 761.417 Q103.121 766.741 99.9733 769.959 Q96.8252 773.177 91.5938 773.177 Q85.5984 773.177 82.4271 768.593 Q79.2559 763.987 79.2559 755.26 Q79.2559 747.066 83.1447 742.205 Q87.0336 737.32 93.5845 737.32 Q95.3437 737.32 97.1261 737.668 Q98.9317 738.015 100.876 738.709 Z\" fill=\"#000000\" fill-rule=\"evenodd\" fill-opacity=\"1\" /><path clip-path=\"url(#clip810)\" d=\"M121.177 741.024 Q117.566 741.024 115.737 744.589 Q113.932 748.13 113.932 755.26 Q113.932 762.367 115.737 765.931 Q117.566 769.473 121.177 769.473 Q124.811 769.473 126.617 765.931 Q128.445 762.367 128.445 755.26 Q128.445 748.13 126.617 744.589 Q124.811 741.024 121.177 741.024 M121.177 737.32 Q126.987 737.32 130.043 741.927 Q133.121 746.51 133.121 755.26 Q133.121 763.987 130.043 768.593 Q126.987 773.177 121.177 773.177 Q115.367 773.177 112.288 768.593 Q109.233 763.987 109.233 755.26 Q109.233 746.51 112.288 741.927 Q115.367 737.32 121.177 737.32 Z\" fill=\"#000000\" fill-rule=\"evenodd\" fill-opacity=\"1\" /><path clip-path=\"url(#clip810)\" d=\"M91.0151 559.844 Q87.6817 559.844 85.7605 561.626 Q83.8623 563.408 83.8623 566.533 Q83.8623 569.658 85.7605 571.441 Q87.6817 573.223 91.0151 573.223 Q94.3484 573.223 96.2697 571.441 Q98.1909 569.635 98.1909 566.533 Q98.1909 563.408 96.2697 561.626 Q94.3715 559.844 91.0151 559.844 M86.3392 557.853 Q83.3299 557.112 81.6401 555.052 Q79.9735 552.992 79.9735 550.029 Q79.9735 545.885 82.9133 543.478 Q85.8762 541.071 91.0151 541.071 Q96.1771 541.071 99.1169 543.478 Q102.057 545.885 102.057 550.029 Q102.057 552.992 100.367 555.052 Q98.7002 557.112 95.7141 557.853 Q99.0937 558.64 100.969 560.932 Q102.867 563.223 102.867 566.533 Q102.867 571.557 99.7882 574.242 Q96.7326 576.927 91.0151 576.927 Q85.2975 576.927 82.2188 574.242 Q79.1633 571.557 79.1633 566.533 Q79.1633 563.223 81.0614 560.932 Q82.9595 558.64 86.3392 557.853 M84.6262 550.469 Q84.6262 553.154 86.2929 554.659 Q87.9827 556.163 91.0151 556.163 Q94.0243 556.163 95.7141 554.659 Q97.4271 553.154 97.4271 550.469 Q97.4271 547.784 95.7141 546.279 Q94.0243 544.774 91.0151 544.774 Q87.9827 544.774 86.2929 546.279 Q84.6262 547.784 84.6262 550.469 Z\" fill=\"#000000\" fill-rule=\"evenodd\" fill-opacity=\"1\" /><path clip-path=\"url(#clip810)\" d=\"M121.177 544.774 Q117.566 544.774 115.737 548.339 Q113.932 551.881 113.932 559.01 Q113.932 566.117 115.737 569.682 Q117.566 573.223 121.177 573.223 Q124.811 573.223 126.617 569.682 Q128.445 566.117 128.445 559.01 Q128.445 551.881 126.617 548.339 Q124.811 544.774 121.177 544.774 M121.177 541.071 Q126.987 541.071 130.043 545.677 Q133.121 550.26 133.121 559.01 Q133.121 567.737 130.043 572.344 Q126.987 576.927 121.177 576.927 Q115.367 576.927 112.288 572.344 Q109.233 567.737 109.233 559.01 Q109.233 550.26 112.288 545.677 Q115.367 541.071 121.177 541.071 Z\" fill=\"#000000\" fill-rule=\"evenodd\" fill-opacity=\"1\" /><path clip-path=\"url(#clip810)\" d=\"M51.6634 376.071 L59.3023 376.071 L59.3023 349.705 L50.9921 351.372 L50.9921 347.113 L59.256 345.446 L63.9319 345.446 L63.9319 376.071 L71.5707 376.071 L71.5707 380.006 L51.6634 380.006 L51.6634 376.071 Z\" fill=\"#000000\" fill-rule=\"evenodd\" fill-opacity=\"1\" /><path clip-path=\"url(#clip810)\" d=\"M91.0151 348.525 Q87.404 348.525 85.5753 352.089 Q83.7697 355.631 83.7697 362.761 Q83.7697 369.867 85.5753 373.432 Q87.404 376.974 91.0151 376.974 Q94.6493 376.974 96.4548 373.432 Q98.2835 369.867 98.2835 362.761 Q98.2835 355.631 96.4548 352.089 Q94.6493 348.525 91.0151 348.525 M91.0151 344.821 Q96.8252 344.821 99.8808 349.427 Q102.959 354.011 102.959 362.761 Q102.959 371.487 99.8808 376.094 Q96.8252 380.677 91.0151 380.677 Q85.2049 380.677 82.1262 376.094 Q79.0707 371.487 79.0707 362.761 Q79.0707 354.011 82.1262 349.427 Q85.2049 344.821 91.0151 344.821 Z\" fill=\"#000000\" fill-rule=\"evenodd\" fill-opacity=\"1\" /><path clip-path=\"url(#clip810)\" d=\"M121.177 348.525 Q117.566 348.525 115.737 352.089 Q113.932 355.631 113.932 362.761 Q113.932 369.867 115.737 373.432 Q117.566 376.974 121.177 376.974 Q124.811 376.974 126.617 373.432 Q128.445 369.867 128.445 362.761 Q128.445 355.631 126.617 352.089 Q124.811 348.525 121.177 348.525 M121.177 344.821 Q126.987 344.821 130.043 349.427 Q133.121 354.011 133.121 362.761 Q133.121 371.487 130.043 376.094 Q126.987 380.677 121.177 380.677 Q115.367 380.677 112.288 376.094 Q109.233 371.487 109.233 362.761 Q109.233 354.011 112.288 349.427 Q115.367 344.821 121.177 344.821 Z\" fill=\"#000000\" fill-rule=\"evenodd\" fill-opacity=\"1\" /><path clip-path=\"url(#clip810)\" d=\"M51.6634 179.821 L59.3023 179.821 L59.3023 153.455 L50.9921 155.122 L50.9921 150.863 L59.256 149.196 L63.9319 149.196 L63.9319 179.821 L71.5707 179.821 L71.5707 183.756 L51.6634 183.756 L51.6634 179.821 Z\" fill=\"#000000\" fill-rule=\"evenodd\" fill-opacity=\"1\" /><path clip-path=\"url(#clip810)\" d=\"M85.0429 179.821 L101.362 179.821 L101.362 183.756 L79.4179 183.756 L79.4179 179.821 Q82.0799 177.066 86.6632 172.437 Q91.2697 167.784 92.4502 166.441 Q94.6956 163.918 95.5752 162.182 Q96.478 160.423 96.478 158.733 Q96.478 155.979 94.5336 154.242 Q92.6123 152.506 89.5104 152.506 Q87.3114 152.506 84.8577 153.27 Q82.4271 154.034 79.6494 155.585 L79.6494 150.863 Q82.4734 149.729 84.9271 149.15 Q87.3808 148.571 89.4178 148.571 Q94.7882 148.571 97.9826 151.256 Q101.177 153.942 101.177 158.432 Q101.177 160.562 100.367 162.483 Q99.5798 164.381 97.4734 166.974 Q96.8947 167.645 93.7928 170.863 Q90.691 174.057 85.0429 179.821 Z\" fill=\"#000000\" fill-rule=\"evenodd\" fill-opacity=\"1\" /><path clip-path=\"url(#clip810)\" d=\"M121.177 152.275 Q117.566 152.275 115.737 155.84 Q113.932 159.381 113.932 166.511 Q113.932 173.617 115.737 177.182 Q117.566 180.724 121.177 180.724 Q124.811 180.724 126.617 177.182 Q128.445 173.617 128.445 166.511 Q128.445 159.381 126.617 155.84 Q124.811 152.275 121.177 152.275 M121.177 148.571 Q126.987 148.571 130.043 153.178 Q133.121 157.761 133.121 166.511 Q133.121 175.238 130.043 179.844 Q126.987 184.427 121.177 184.427 Q115.367 184.427 112.288 179.844 Q109.233 175.238 109.233 166.511 Q109.233 157.761 112.288 153.178 Q115.367 148.571 121.177 148.571 Z\" fill=\"#000000\" fill-rule=\"evenodd\" fill-opacity=\"1\" /><circle clip-path=\"url(#clip812)\" cx=\"230.922\" cy=\"734.202\" r=\"14.4\" fill=\"#009af9\" fill-rule=\"evenodd\" fill-opacity=\"1\" stroke=\"#000000\" stroke-opacity=\"1\" stroke-width=\"3.2\"/>\n",
       "<circle clip-path=\"url(#clip812)\" cx=\"333.924\" cy=\"813.825\" r=\"14.4\" fill=\"#009af9\" fill-rule=\"evenodd\" fill-opacity=\"1\" stroke=\"#000000\" stroke-opacity=\"1\" stroke-width=\"3.2\"/>\n",
       "<circle clip-path=\"url(#clip812)\" cx=\"436.926\" cy=\"924.776\" r=\"14.4\" fill=\"#009af9\" fill-rule=\"evenodd\" fill-opacity=\"1\" stroke=\"#000000\" stroke-opacity=\"1\" stroke-width=\"3.2\"/>\n",
       "<circle clip-path=\"url(#clip812)\" cx=\"539.927\" cy=\"995.7\" r=\"14.4\" fill=\"#009af9\" fill-rule=\"evenodd\" fill-opacity=\"1\" stroke=\"#000000\" stroke-opacity=\"1\" stroke-width=\"3.2\"/>\n",
       "<circle clip-path=\"url(#clip812)\" cx=\"642.929\" cy=\"1043.03\" r=\"14.4\" fill=\"#009af9\" fill-rule=\"evenodd\" fill-opacity=\"1\" stroke=\"#000000\" stroke-opacity=\"1\" stroke-width=\"3.2\"/>\n",
       "<circle clip-path=\"url(#clip812)\" cx=\"745.93\" cy=\"1292.87\" r=\"14.4\" fill=\"#009af9\" fill-rule=\"evenodd\" fill-opacity=\"1\" stroke=\"#000000\" stroke-opacity=\"1\" stroke-width=\"3.2\"/>\n",
       "<circle clip-path=\"url(#clip812)\" cx=\"848.932\" cy=\"1091.84\" r=\"14.4\" fill=\"#009af9\" fill-rule=\"evenodd\" fill-opacity=\"1\" stroke=\"#000000\" stroke-opacity=\"1\" stroke-width=\"3.2\"/>\n",
       "<circle clip-path=\"url(#clip812)\" cx=\"951.934\" cy=\"1247.19\" r=\"14.4\" fill=\"#009af9\" fill-rule=\"evenodd\" fill-opacity=\"1\" stroke=\"#000000\" stroke-opacity=\"1\" stroke-width=\"3.2\"/>\n",
       "<circle clip-path=\"url(#clip812)\" cx=\"1054.94\" cy=\"1380.76\" r=\"14.4\" fill=\"#009af9\" fill-rule=\"evenodd\" fill-opacity=\"1\" stroke=\"#000000\" stroke-opacity=\"1\" stroke-width=\"3.2\"/>\n",
       "<circle clip-path=\"url(#clip812)\" cx=\"1157.94\" cy=\"1353.68\" r=\"14.4\" fill=\"#009af9\" fill-rule=\"evenodd\" fill-opacity=\"1\" stroke=\"#000000\" stroke-opacity=\"1\" stroke-width=\"3.2\"/>\n",
       "<circle clip-path=\"url(#clip812)\" cx=\"1260.94\" cy=\"1445.72\" r=\"14.4\" fill=\"#009af9\" fill-rule=\"evenodd\" fill-opacity=\"1\" stroke=\"#000000\" stroke-opacity=\"1\" stroke-width=\"3.2\"/>\n",
       "<circle clip-path=\"url(#clip812)\" cx=\"1363.94\" cy=\"1352.85\" r=\"14.4\" fill=\"#009af9\" fill-rule=\"evenodd\" fill-opacity=\"1\" stroke=\"#000000\" stroke-opacity=\"1\" stroke-width=\"3.2\"/>\n",
       "<circle clip-path=\"url(#clip812)\" cx=\"1466.94\" cy=\"1035.69\" r=\"14.4\" fill=\"#009af9\" fill-rule=\"evenodd\" fill-opacity=\"1\" stroke=\"#000000\" stroke-opacity=\"1\" stroke-width=\"3.2\"/>\n",
       "<circle clip-path=\"url(#clip812)\" cx=\"1569.94\" cy=\"1075.35\" r=\"14.4\" fill=\"#009af9\" fill-rule=\"evenodd\" fill-opacity=\"1\" stroke=\"#000000\" stroke-opacity=\"1\" stroke-width=\"3.2\"/>\n",
       "<circle clip-path=\"url(#clip812)\" cx=\"1672.95\" cy=\"1081.58\" r=\"14.4\" fill=\"#009af9\" fill-rule=\"evenodd\" fill-opacity=\"1\" stroke=\"#000000\" stroke-opacity=\"1\" stroke-width=\"3.2\"/>\n",
       "<circle clip-path=\"url(#clip812)\" cx=\"1775.95\" cy=\"856.284\" r=\"14.4\" fill=\"#009af9\" fill-rule=\"evenodd\" fill-opacity=\"1\" stroke=\"#000000\" stroke-opacity=\"1\" stroke-width=\"3.2\"/>\n",
       "<circle clip-path=\"url(#clip812)\" cx=\"1878.95\" cy=\"856.003\" r=\"14.4\" fill=\"#009af9\" fill-rule=\"evenodd\" fill-opacity=\"1\" stroke=\"#000000\" stroke-opacity=\"1\" stroke-width=\"3.2\"/>\n",
       "<circle clip-path=\"url(#clip812)\" cx=\"1981.95\" cy=\"781.306\" r=\"14.4\" fill=\"#009af9\" fill-rule=\"evenodd\" fill-opacity=\"1\" stroke=\"#000000\" stroke-opacity=\"1\" stroke-width=\"3.2\"/>\n",
       "<circle clip-path=\"url(#clip812)\" cx=\"2084.95\" cy=\"612.661\" r=\"14.4\" fill=\"#009af9\" fill-rule=\"evenodd\" fill-opacity=\"1\" stroke=\"#000000\" stroke-opacity=\"1\" stroke-width=\"3.2\"/>\n",
       "<circle clip-path=\"url(#clip812)\" cx=\"2187.95\" cy=\"317.661\" r=\"14.4\" fill=\"#009af9\" fill-rule=\"evenodd\" fill-opacity=\"1\" stroke=\"#000000\" stroke-opacity=\"1\" stroke-width=\"3.2\"/>\n",
       "<circle clip-path=\"url(#clip812)\" cx=\"2290.95\" cy=\"109.422\" r=\"14.4\" fill=\"#009af9\" fill-rule=\"evenodd\" fill-opacity=\"1\" stroke=\"#000000\" stroke-opacity=\"1\" stroke-width=\"3.2\"/>\n",
       "<polyline clip-path=\"url(#clip812)\" style=\"stroke:#e26f46; stroke-linecap:round; stroke-linejoin:round; stroke-width:4; stroke-opacity:1; fill:none\" points=\"230.922,676.725 333.924,833.725 436.926,971.1 539.927,1088.85 642.929,1186.97 745.93,1265.47 848.932,1324.35 951.934,1363.6 1054.94,1383.22 1157.94,1383.22 1260.94,1363.6 1363.94,1324.35 1466.94,1265.47 1569.94,1186.97 1672.95,1088.85 1775.95,971.1 1878.95,833.725 1981.95,676.725 2084.95,500.101 2187.95,303.851 2290.95,87.9763 \"/>\n",
       "<path clip-path=\"url(#clip810)\" d=\"M241.909 250.738 L659.207 250.738 L659.207 95.2176 L241.909 95.2176  Z\" fill=\"#ffffff\" fill-rule=\"evenodd\" fill-opacity=\"1\"/>\n",
       "<polyline clip-path=\"url(#clip810)\" style=\"stroke:#000000; stroke-linecap:round; stroke-linejoin:round; stroke-width:4; stroke-opacity:1; fill:none\" points=\"241.909,250.738 659.207,250.738 659.207,95.2176 241.909,95.2176 241.909,250.738 \"/>\n",
       "<circle clip-path=\"url(#clip810)\" cx=\"338.96\" cy=\"147.058\" r=\"23.04\" fill=\"#009af9\" fill-rule=\"evenodd\" fill-opacity=\"1\" stroke=\"#000000\" stroke-opacity=\"1\" stroke-width=\"5.12\"/>\n",
       "<path clip-path=\"url(#clip810)\" d=\"M454.922 142.347 L454.922 128.319 L459.181 128.319 L459.181 164.338 L454.922 164.338 L454.922 160.449 Q453.579 162.763 451.519 163.898 Q449.482 165.009 446.612 165.009 Q441.913 165.009 438.95 161.259 Q436.01 157.509 436.01 151.398 Q436.01 145.287 438.95 141.537 Q441.913 137.787 446.612 137.787 Q449.482 137.787 451.519 138.921 Q453.579 140.032 454.922 142.347 M440.408 151.398 Q440.408 156.097 442.329 158.782 Q444.274 161.444 447.653 161.444 Q451.033 161.444 452.977 158.782 Q454.922 156.097 454.922 151.398 Q454.922 146.699 452.977 144.037 Q451.033 141.352 447.653 141.352 Q444.274 141.352 442.329 144.037 Q440.408 146.699 440.408 151.398 Z\" fill=\"#000000\" fill-rule=\"evenodd\" fill-opacity=\"1\" /><path clip-path=\"url(#clip810)\" d=\"M479.737 151.305 Q474.575 151.305 472.584 152.486 Q470.593 153.666 470.593 156.514 Q470.593 158.782 472.075 160.125 Q473.579 161.444 476.149 161.444 Q479.69 161.444 481.82 158.944 Q483.973 156.421 483.973 152.254 L483.973 151.305 L479.737 151.305 M488.232 149.546 L488.232 164.338 L483.973 164.338 L483.973 160.402 Q482.514 162.763 480.338 163.898 Q478.163 165.009 475.014 165.009 Q471.033 165.009 468.672 162.787 Q466.334 160.541 466.334 156.791 Q466.334 152.416 469.251 150.194 Q472.19 147.972 478.001 147.972 L483.973 147.972 L483.973 147.555 Q483.973 144.615 482.028 143.018 Q480.107 141.398 476.612 141.398 Q474.389 141.398 472.283 141.93 Q470.176 142.463 468.232 143.527 L468.232 139.592 Q470.57 138.69 472.769 138.25 Q474.968 137.787 477.051 137.787 Q482.676 137.787 485.454 140.703 Q488.232 143.62 488.232 149.546 Z\" fill=\"#000000\" fill-rule=\"evenodd\" fill-opacity=\"1\" /><path clip-path=\"url(#clip810)\" d=\"M501.218 131.051 L501.218 138.412 L509.991 138.412 L509.991 141.722 L501.218 141.722 L501.218 155.796 Q501.218 158.967 502.074 159.87 Q502.954 160.773 505.616 160.773 L509.991 160.773 L509.991 164.338 L505.616 164.338 Q500.686 164.338 498.811 162.509 Q496.936 160.657 496.936 155.796 L496.936 141.722 L493.811 141.722 L493.811 138.412 L496.936 138.412 L496.936 131.051 L501.218 131.051 Z\" fill=\"#000000\" fill-rule=\"evenodd\" fill-opacity=\"1\" /><path clip-path=\"url(#clip810)\" d=\"M527.375 151.305 Q522.213 151.305 520.222 152.486 Q518.232 153.666 518.232 156.514 Q518.232 158.782 519.713 160.125 Q521.218 161.444 523.787 161.444 Q527.329 161.444 529.459 158.944 Q531.611 156.421 531.611 152.254 L531.611 151.305 L527.375 151.305 M535.871 149.546 L535.871 164.338 L531.611 164.338 L531.611 160.402 Q530.153 162.763 527.977 163.898 Q525.801 165.009 522.653 165.009 Q518.672 165.009 516.31 162.787 Q513.973 160.541 513.973 156.791 Q513.973 152.416 516.889 150.194 Q519.829 147.972 525.639 147.972 L531.611 147.972 L531.611 147.555 Q531.611 144.615 529.667 143.018 Q527.746 141.398 524.25 141.398 Q522.028 141.398 519.922 141.93 Q517.815 142.463 515.871 143.527 L515.871 139.592 Q518.209 138.69 520.408 138.25 Q522.607 137.787 524.69 137.787 Q530.315 137.787 533.093 140.703 Q535.871 143.62 535.871 149.546 Z\" fill=\"#000000\" fill-rule=\"evenodd\" fill-opacity=\"1\" /><polyline clip-path=\"url(#clip810)\" style=\"stroke:#e26f46; stroke-linecap:round; stroke-linejoin:round; stroke-width:4; stroke-opacity:1; fill:none\" points=\"266.172,198.898 411.747,198.898 \"/>\n",
       "<path clip-path=\"url(#clip810)\" d=\"M436.01 181.618 L465.246 181.618 L465.246 185.553 L452.977 185.553 L452.977 216.178 L448.278 216.178 L448.278 185.553 L436.01 185.553 L436.01 181.618 Z\" fill=\"#000000\" fill-rule=\"evenodd\" fill-opacity=\"1\" /><path clip-path=\"url(#clip810)\" d=\"M477.63 194.233 Q476.913 193.817 476.056 193.631 Q475.223 193.423 474.204 193.423 Q470.593 193.423 468.649 195.784 Q466.727 198.122 466.727 202.52 L466.727 216.178 L462.445 216.178 L462.445 190.252 L466.727 190.252 L466.727 194.28 Q468.07 191.918 470.223 190.784 Q472.376 189.627 475.454 189.627 Q475.894 189.627 476.426 189.696 Q476.959 189.743 477.607 189.858 L477.63 194.233 Z\" fill=\"#000000\" fill-rule=\"evenodd\" fill-opacity=\"1\" /><path clip-path=\"url(#clip810)\" d=\"M481.658 205.946 L481.658 190.252 L485.917 190.252 L485.917 205.784 Q485.917 209.465 487.352 211.316 Q488.787 213.145 491.658 213.145 Q495.107 213.145 497.098 210.946 Q499.112 208.747 499.112 204.951 L499.112 190.252 L503.371 190.252 L503.371 216.178 L499.112 216.178 L499.112 212.196 Q497.561 214.557 495.5 215.715 Q493.463 216.849 490.755 216.849 Q486.287 216.849 483.973 214.071 Q481.658 211.293 481.658 205.946 M492.375 189.627 L492.375 189.627 Z\" fill=\"#000000\" fill-rule=\"evenodd\" fill-opacity=\"1\" /><path clip-path=\"url(#clip810)\" d=\"M534.32 202.15 L534.32 204.233 L514.736 204.233 Q515.014 208.631 517.375 210.946 Q519.76 213.238 523.996 213.238 Q526.449 213.238 528.741 212.636 Q531.056 212.034 533.324 210.83 L533.324 214.858 Q531.033 215.83 528.625 216.34 Q526.218 216.849 523.741 216.849 Q517.537 216.849 513.903 213.238 Q510.292 209.627 510.292 203.469 Q510.292 197.104 513.718 193.377 Q517.167 189.627 523 189.627 Q528.232 189.627 531.264 193.006 Q534.32 196.363 534.32 202.15 M530.06 200.9 Q530.014 197.405 528.093 195.321 Q526.195 193.238 523.047 193.238 Q519.482 193.238 517.329 195.252 Q515.199 197.266 514.875 200.923 L530.06 200.9 Z\" fill=\"#000000\" fill-rule=\"evenodd\" fill-opacity=\"1\" /><path clip-path=\"url(#clip810)\" d=\"M556.38 180.159 L560.639 180.159 L560.639 216.178 L556.38 216.178 L556.38 180.159 Z\" fill=\"#000000\" fill-rule=\"evenodd\" fill-opacity=\"1\" /><path clip-path=\"url(#clip810)\" d=\"M569.551 190.252 L573.81 190.252 L573.81 216.178 L569.551 216.178 L569.551 190.252 M569.551 180.159 L573.81 180.159 L573.81 185.553 L569.551 185.553 L569.551 180.159 Z\" fill=\"#000000\" fill-rule=\"evenodd\" fill-opacity=\"1\" /><path clip-path=\"url(#clip810)\" d=\"M604.273 200.529 L604.273 216.178 L600.014 216.178 L600.014 200.668 Q600.014 196.988 598.579 195.159 Q597.143 193.33 594.273 193.33 Q590.824 193.33 588.833 195.53 Q586.843 197.729 586.843 201.525 L586.843 216.178 L582.56 216.178 L582.56 190.252 L586.843 190.252 L586.843 194.28 Q588.37 191.942 590.43 190.784 Q592.514 189.627 595.222 189.627 Q599.69 189.627 601.981 192.405 Q604.273 195.159 604.273 200.529 Z\" fill=\"#000000\" fill-rule=\"evenodd\" fill-opacity=\"1\" /><path clip-path=\"url(#clip810)\" d=\"M634.944 202.15 L634.944 204.233 L615.361 204.233 Q615.639 208.631 618 210.946 Q620.384 213.238 624.62 213.238 Q627.074 213.238 629.365 212.636 Q631.68 212.034 633.949 210.83 L633.949 214.858 Q631.657 215.83 629.25 216.34 Q626.842 216.849 624.365 216.849 Q618.162 216.849 614.528 213.238 Q610.916 209.627 610.916 203.469 Q610.916 197.104 614.342 193.377 Q617.791 189.627 623.625 189.627 Q628.856 189.627 631.889 193.006 Q634.944 196.363 634.944 202.15 M630.685 200.9 Q630.639 197.405 628.717 195.321 Q626.819 193.238 623.671 193.238 Q620.106 193.238 617.953 195.252 Q615.824 197.266 615.5 200.923 L630.685 200.9 Z\" fill=\"#000000\" fill-rule=\"evenodd\" fill-opacity=\"1\" /></svg>\n"
      ]
     },
     "execution_count": 62,
     "metadata": {},
     "output_type": "execute_result"
    }
   ],
   "source": [
    "using Plots\n",
    "using Polynomials\n",
    "scatter(x,y_observed, label=\"data\")\n",
    "plot!(x,y_true, label=\"True line\")"
   ]
  },
  {
   "cell_type": "code",
   "execution_count": 63,
   "id": "2dd6f79a",
   "metadata": {},
   "outputs": [
    {
     "data": {
      "text/html": [
       "5.229252546739857 &#43; 2.5495693642782453&#8729;x &#43; 0.8925196542154659&#8729;x<sup>2</sup>"
      ],
      "text/latex": [
       "$5.229252546739857 + 2.5495693642782453\\cdot x + 0.8925196542154659\\cdot x^{2}$"
      ],
      "text/plain": [
       "Polynomial(5.229252546739857 + 2.5495693642782453*x + 0.8925196542154659*x^2)"
      ]
     },
     "execution_count": 63,
     "metadata": {},
     "output_type": "execute_result"
    }
   ],
   "source": [
    "line_fit = fit(x,y_observed,2)"
   ]
  },
  {
   "cell_type": "code",
   "execution_count": 64,
   "id": "4f1c0774",
   "metadata": {},
   "outputs": [
    {
     "data": {
      "text/plain": [
       "3-element Vector{Float64}:\n",
       " 5.229252546739857\n",
       " 2.5495693642782453\n",
       " 0.8925196542154659"
      ]
     },
     "execution_count": 64,
     "metadata": {},
     "output_type": "execute_result"
    }
   ],
   "source": [
    "fit_coeff = coeffs(line_fit)   "
   ]
  },
  {
   "cell_type": "code",
   "execution_count": 65,
   "id": "87008bca",
   "metadata": {},
   "outputs": [
    {
     "data": {
      "text/plain": [
       "21-element Vector{Float64}:\n",
       "  68.98552432550399\n",
       "  54.57722025968838\n",
       "  41.953955502303714\n",
       "  31.115730053349964\n",
       "  22.062543912827156\n",
       "  14.794397080735276\n",
       "   9.311289557074332\n",
       "   5.613221341844315\n",
       "   3.7001924350452304\n",
       "   3.5722028366770777\n",
       "   5.229252546739857\n",
       "   8.671341565233568\n",
       "  13.898469892158214\n",
       "  20.910637527513785\n",
       "  29.707844471300294\n",
       "  40.29009072351773\n",
       "  52.657376284166105\n",
       "  66.8097011532454\n",
       "  82.74706533075563\n",
       " 100.4694688166968\n",
       " 119.9769116110689"
      ]
     },
     "execution_count": 65,
     "metadata": {},
     "output_type": "execute_result"
    }
   ],
   "source": [
    "y_fitted=fit_coeff[1] .+ (fit_coeff[2].*(x)) .+ (fit_coeff[3] .*(x.^2))"
   ]
  },
  {
   "cell_type": "code",
   "execution_count": 66,
   "id": "1a6b8d0a",
   "metadata": {},
   "outputs": [
    {
     "data": {
      "image/svg+xml": [
       "<?xml version=\"1.0\" encoding=\"utf-8\"?>\n",
       "<svg xmlns=\"http://www.w3.org/2000/svg\" xmlns:xlink=\"http://www.w3.org/1999/xlink\" width=\"600\" height=\"400\" viewBox=\"0 0 2400 1600\">\n",
       "<defs>\n",
       "  <clipPath id=\"clip850\">\n",
       "    <rect x=\"0\" y=\"0\" width=\"2400\" height=\"1600\"/>\n",
       "  </clipPath>\n",
       "</defs>\n",
       "<path clip-path=\"url(#clip850)\" d=\"M0 1600 L2400 1600 L2400 0 L0 0  Z\" fill=\"#ffffff\" fill-rule=\"evenodd\" fill-opacity=\"1\"/>\n",
       "<defs>\n",
       "  <clipPath id=\"clip851\">\n",
       "    <rect x=\"480\" y=\"0\" width=\"1681\" height=\"1600\"/>\n",
       "  </clipPath>\n",
       "</defs>\n",
       "<path clip-path=\"url(#clip850)\" d=\"M169.121 1486.45 L2352.76 1486.45 L2352.76 47.2441 L169.121 47.2441  Z\" fill=\"#ffffff\" fill-rule=\"evenodd\" fill-opacity=\"1\"/>\n",
       "<defs>\n",
       "  <clipPath id=\"clip852\">\n",
       "    <rect x=\"169\" y=\"47\" width=\"2185\" height=\"1440\"/>\n",
       "  </clipPath>\n",
       "</defs>\n",
       "<polyline clip-path=\"url(#clip852)\" style=\"stroke:#000000; stroke-linecap:round; stroke-linejoin:round; stroke-width:2; stroke-opacity:0.1; fill:none\" points=\"230.922,1486.45 230.922,47.2441 \"/>\n",
       "<polyline clip-path=\"url(#clip852)\" style=\"stroke:#000000; stroke-linecap:round; stroke-linejoin:round; stroke-width:2; stroke-opacity:0.1; fill:none\" points=\"745.93,1486.45 745.93,47.2441 \"/>\n",
       "<polyline clip-path=\"url(#clip852)\" style=\"stroke:#000000; stroke-linecap:round; stroke-linejoin:round; stroke-width:2; stroke-opacity:0.1; fill:none\" points=\"1260.94,1486.45 1260.94,47.2441 \"/>\n",
       "<polyline clip-path=\"url(#clip852)\" style=\"stroke:#000000; stroke-linecap:round; stroke-linejoin:round; stroke-width:2; stroke-opacity:0.1; fill:none\" points=\"1775.95,1486.45 1775.95,47.2441 \"/>\n",
       "<polyline clip-path=\"url(#clip852)\" style=\"stroke:#000000; stroke-linecap:round; stroke-linejoin:round; stroke-width:2; stroke-opacity:0.1; fill:none\" points=\"2290.95,1486.45 2290.95,47.2441 \"/>\n",
       "<polyline clip-path=\"url(#clip850)\" style=\"stroke:#000000; stroke-linecap:round; stroke-linejoin:round; stroke-width:4; stroke-opacity:1; fill:none\" points=\"169.121,1486.45 2352.76,1486.45 \"/>\n",
       "<polyline clip-path=\"url(#clip850)\" style=\"stroke:#000000; stroke-linecap:round; stroke-linejoin:round; stroke-width:4; stroke-opacity:1; fill:none\" points=\"230.922,1486.45 230.922,1467.55 \"/>\n",
       "<polyline clip-path=\"url(#clip850)\" style=\"stroke:#000000; stroke-linecap:round; stroke-linejoin:round; stroke-width:4; stroke-opacity:1; fill:none\" points=\"745.93,1486.45 745.93,1467.55 \"/>\n",
       "<polyline clip-path=\"url(#clip850)\" style=\"stroke:#000000; stroke-linecap:round; stroke-linejoin:round; stroke-width:4; stroke-opacity:1; fill:none\" points=\"1260.94,1486.45 1260.94,1467.55 \"/>\n",
       "<polyline clip-path=\"url(#clip850)\" style=\"stroke:#000000; stroke-linecap:round; stroke-linejoin:round; stroke-width:4; stroke-opacity:1; fill:none\" points=\"1775.95,1486.45 1775.95,1467.55 \"/>\n",
       "<polyline clip-path=\"url(#clip850)\" style=\"stroke:#000000; stroke-linecap:round; stroke-linejoin:round; stroke-width:4; stroke-opacity:1; fill:none\" points=\"2290.95,1486.45 2290.95,1467.55 \"/>\n",
       "<path clip-path=\"url(#clip850)\" d=\"M184.985 1532.02 L214.661 1532.02 L214.661 1535.95 L184.985 1535.95 L184.985 1532.02 Z\" fill=\"#000000\" fill-rule=\"evenodd\" fill-opacity=\"1\" /><path clip-path=\"url(#clip850)\" d=\"M225.564 1544.91 L233.202 1544.91 L233.202 1518.55 L224.892 1520.21 L224.892 1515.95 L233.156 1514.29 L237.832 1514.29 L237.832 1544.91 L245.471 1544.91 L245.471 1548.85 L225.564 1548.85 L225.564 1544.91 Z\" fill=\"#000000\" fill-rule=\"evenodd\" fill-opacity=\"1\" /><path clip-path=\"url(#clip850)\" d=\"M264.915 1517.37 Q261.304 1517.37 259.475 1520.93 Q257.67 1524.47 257.67 1531.6 Q257.67 1538.71 259.475 1542.27 Q261.304 1545.82 264.915 1545.82 Q268.549 1545.82 270.355 1542.27 Q272.184 1538.71 272.184 1531.6 Q272.184 1524.47 270.355 1520.93 Q268.549 1517.37 264.915 1517.37 M264.915 1513.66 Q270.725 1513.66 273.781 1518.27 Q276.86 1522.85 276.86 1531.6 Q276.86 1540.33 273.781 1544.94 Q270.725 1549.52 264.915 1549.52 Q259.105 1549.52 256.026 1544.94 Q252.971 1540.33 252.971 1531.6 Q252.971 1522.85 256.026 1518.27 Q259.105 1513.66 264.915 1513.66 Z\" fill=\"#000000\" fill-rule=\"evenodd\" fill-opacity=\"1\" /><path clip-path=\"url(#clip850)\" d=\"M715.572 1532.02 L745.248 1532.02 L745.248 1535.95 L715.572 1535.95 L715.572 1532.02 Z\" fill=\"#000000\" fill-rule=\"evenodd\" fill-opacity=\"1\" /><path clip-path=\"url(#clip850)\" d=\"M755.386 1514.29 L773.743 1514.29 L773.743 1518.22 L759.669 1518.22 L759.669 1526.7 Q760.687 1526.35 761.706 1526.19 Q762.724 1526 763.743 1526 Q769.53 1526 772.909 1529.17 Q776.289 1532.34 776.289 1537.76 Q776.289 1543.34 772.817 1546.44 Q769.345 1549.52 763.025 1549.52 Q760.849 1549.52 758.581 1549.15 Q756.335 1548.78 753.928 1548.04 L753.928 1543.34 Q756.011 1544.47 758.234 1545.03 Q760.456 1545.58 762.933 1545.58 Q766.937 1545.58 769.275 1543.48 Q771.613 1541.37 771.613 1537.76 Q771.613 1534.15 769.275 1532.04 Q766.937 1529.94 762.933 1529.94 Q761.058 1529.94 759.183 1530.35 Q757.331 1530.77 755.386 1531.65 L755.386 1514.29 Z\" fill=\"#000000\" fill-rule=\"evenodd\" fill-opacity=\"1\" /><path clip-path=\"url(#clip850)\" d=\"M1260.94 1517.37 Q1257.33 1517.37 1255.5 1520.93 Q1253.69 1524.47 1253.69 1531.6 Q1253.69 1538.71 1255.5 1542.27 Q1257.33 1545.82 1260.94 1545.82 Q1264.57 1545.82 1266.38 1542.27 Q1268.21 1538.71 1268.21 1531.6 Q1268.21 1524.47 1266.38 1520.93 Q1264.57 1517.37 1260.94 1517.37 M1260.94 1513.66 Q1266.75 1513.66 1269.8 1518.27 Q1272.88 1522.85 1272.88 1531.6 Q1272.88 1540.33 1269.8 1544.94 Q1266.75 1549.52 1260.94 1549.52 Q1255.13 1549.52 1252.05 1544.94 Q1248.99 1540.33 1248.99 1531.6 Q1248.99 1522.85 1252.05 1518.27 Q1255.13 1513.66 1260.94 1513.66 Z\" fill=\"#000000\" fill-rule=\"evenodd\" fill-opacity=\"1\" /><path clip-path=\"url(#clip850)\" d=\"M1766.22 1514.29 L1784.58 1514.29 L1784.58 1518.22 L1770.51 1518.22 L1770.51 1526.7 Q1771.53 1526.35 1772.54 1526.19 Q1773.56 1526 1774.58 1526 Q1780.37 1526 1783.75 1529.17 Q1787.13 1532.34 1787.13 1537.76 Q1787.13 1543.34 1783.66 1546.44 Q1780.18 1549.52 1773.86 1549.52 Q1771.69 1549.52 1769.42 1549.15 Q1767.17 1548.78 1764.77 1548.04 L1764.77 1543.34 Q1766.85 1544.47 1769.07 1545.03 Q1771.29 1545.58 1773.77 1545.58 Q1777.78 1545.58 1780.11 1543.48 Q1782.45 1541.37 1782.45 1537.76 Q1782.45 1534.15 1780.11 1532.04 Q1777.78 1529.94 1773.77 1529.94 Q1771.9 1529.94 1770.02 1530.35 Q1768.17 1530.77 1766.22 1531.65 L1766.22 1514.29 Z\" fill=\"#000000\" fill-rule=\"evenodd\" fill-opacity=\"1\" /><path clip-path=\"url(#clip850)\" d=\"M2265.64 1544.91 L2273.28 1544.91 L2273.28 1518.55 L2264.97 1520.21 L2264.97 1515.95 L2273.24 1514.29 L2277.91 1514.29 L2277.91 1544.91 L2285.55 1544.91 L2285.55 1548.85 L2265.64 1548.85 L2265.64 1544.91 Z\" fill=\"#000000\" fill-rule=\"evenodd\" fill-opacity=\"1\" /><path clip-path=\"url(#clip850)\" d=\"M2304.99 1517.37 Q2301.38 1517.37 2299.55 1520.93 Q2297.75 1524.47 2297.75 1531.6 Q2297.75 1538.71 2299.55 1542.27 Q2301.38 1545.82 2304.99 1545.82 Q2308.63 1545.82 2310.43 1542.27 Q2312.26 1538.71 2312.26 1531.6 Q2312.26 1524.47 2310.43 1520.93 Q2308.63 1517.37 2304.99 1517.37 M2304.99 1513.66 Q2310.8 1513.66 2313.86 1518.27 Q2316.94 1522.85 2316.94 1531.6 Q2316.94 1540.33 2313.86 1544.94 Q2310.8 1549.52 2304.99 1549.52 Q2299.18 1549.52 2296.11 1544.94 Q2293.05 1540.33 2293.05 1531.6 Q2293.05 1522.85 2296.11 1518.27 Q2299.18 1513.66 2304.99 1513.66 Z\" fill=\"#000000\" fill-rule=\"evenodd\" fill-opacity=\"1\" /><polyline clip-path=\"url(#clip852)\" style=\"stroke:#000000; stroke-linecap:round; stroke-linejoin:round; stroke-width:2; stroke-opacity:0.1; fill:none\" points=\"169.121,1343.97 2352.76,1343.97 \"/>\n",
       "<polyline clip-path=\"url(#clip852)\" style=\"stroke:#000000; stroke-linecap:round; stroke-linejoin:round; stroke-width:2; stroke-opacity:0.1; fill:none\" points=\"169.121,1147.72 2352.76,1147.72 \"/>\n",
       "<polyline clip-path=\"url(#clip852)\" style=\"stroke:#000000; stroke-linecap:round; stroke-linejoin:round; stroke-width:2; stroke-opacity:0.1; fill:none\" points=\"169.121,951.475 2352.76,951.475 \"/>\n",
       "<polyline clip-path=\"url(#clip852)\" style=\"stroke:#000000; stroke-linecap:round; stroke-linejoin:round; stroke-width:2; stroke-opacity:0.1; fill:none\" points=\"169.121,755.225 2352.76,755.225 \"/>\n",
       "<polyline clip-path=\"url(#clip852)\" style=\"stroke:#000000; stroke-linecap:round; stroke-linejoin:round; stroke-width:2; stroke-opacity:0.1; fill:none\" points=\"169.121,558.976 2352.76,558.976 \"/>\n",
       "<polyline clip-path=\"url(#clip852)\" style=\"stroke:#000000; stroke-linecap:round; stroke-linejoin:round; stroke-width:2; stroke-opacity:0.1; fill:none\" points=\"169.121,362.726 2352.76,362.726 \"/>\n",
       "<polyline clip-path=\"url(#clip852)\" style=\"stroke:#000000; stroke-linecap:round; stroke-linejoin:round; stroke-width:2; stroke-opacity:0.1; fill:none\" points=\"169.121,166.476 2352.76,166.476 \"/>\n",
       "<polyline clip-path=\"url(#clip850)\" style=\"stroke:#000000; stroke-linecap:round; stroke-linejoin:round; stroke-width:4; stroke-opacity:1; fill:none\" points=\"169.121,1486.45 169.121,47.2441 \"/>\n",
       "<polyline clip-path=\"url(#clip850)\" style=\"stroke:#000000; stroke-linecap:round; stroke-linejoin:round; stroke-width:4; stroke-opacity:1; fill:none\" points=\"169.121,1343.97 188.019,1343.97 \"/>\n",
       "<polyline clip-path=\"url(#clip850)\" style=\"stroke:#000000; stroke-linecap:round; stroke-linejoin:round; stroke-width:4; stroke-opacity:1; fill:none\" points=\"169.121,1147.72 188.019,1147.72 \"/>\n",
       "<polyline clip-path=\"url(#clip850)\" style=\"stroke:#000000; stroke-linecap:round; stroke-linejoin:round; stroke-width:4; stroke-opacity:1; fill:none\" points=\"169.121,951.475 188.019,951.475 \"/>\n",
       "<polyline clip-path=\"url(#clip850)\" style=\"stroke:#000000; stroke-linecap:round; stroke-linejoin:round; stroke-width:4; stroke-opacity:1; fill:none\" points=\"169.121,755.225 188.019,755.225 \"/>\n",
       "<polyline clip-path=\"url(#clip850)\" style=\"stroke:#000000; stroke-linecap:round; stroke-linejoin:round; stroke-width:4; stroke-opacity:1; fill:none\" points=\"169.121,558.976 188.019,558.976 \"/>\n",
       "<polyline clip-path=\"url(#clip850)\" style=\"stroke:#000000; stroke-linecap:round; stroke-linejoin:round; stroke-width:4; stroke-opacity:1; fill:none\" points=\"169.121,362.726 188.019,362.726 \"/>\n",
       "<polyline clip-path=\"url(#clip850)\" style=\"stroke:#000000; stroke-linecap:round; stroke-linejoin:round; stroke-width:4; stroke-opacity:1; fill:none\" points=\"169.121,166.476 188.019,166.476 \"/>\n",
       "<path clip-path=\"url(#clip850)\" d=\"M121.177 1329.77 Q117.566 1329.77 115.737 1333.34 Q113.932 1336.88 113.932 1344.01 Q113.932 1351.12 115.737 1354.68 Q117.566 1358.22 121.177 1358.22 Q124.811 1358.22 126.617 1354.68 Q128.445 1351.12 128.445 1344.01 Q128.445 1336.88 126.617 1333.34 Q124.811 1329.77 121.177 1329.77 M121.177 1326.07 Q126.987 1326.07 130.043 1330.68 Q133.121 1335.26 133.121 1344.01 Q133.121 1352.74 130.043 1357.34 Q126.987 1361.93 121.177 1361.93 Q115.367 1361.93 112.288 1357.34 Q109.233 1352.74 109.233 1344.01 Q109.233 1335.26 112.288 1330.68 Q115.367 1326.07 121.177 1326.07 Z\" fill=\"#000000\" fill-rule=\"evenodd\" fill-opacity=\"1\" /><path clip-path=\"url(#clip850)\" d=\"M85.0429 1161.07 L101.362 1161.07 L101.362 1165 L79.4179 1165 L79.4179 1161.07 Q82.0799 1158.32 86.6632 1153.69 Q91.2697 1149.03 92.4502 1147.69 Q94.6956 1145.17 95.5752 1143.43 Q96.478 1141.67 96.478 1139.98 Q96.478 1137.23 94.5336 1135.49 Q92.6123 1133.75 89.5104 1133.75 Q87.3114 1133.75 84.8577 1134.52 Q82.4271 1135.28 79.6494 1136.83 L79.6494 1132.11 Q82.4734 1130.98 84.9271 1130.4 Q87.3808 1129.82 89.4178 1129.82 Q94.7882 1129.82 97.9826 1132.5 Q101.177 1135.19 101.177 1139.68 Q101.177 1141.81 100.367 1143.73 Q99.5798 1145.63 97.4734 1148.22 Q96.8947 1148.89 93.7928 1152.11 Q90.691 1155.31 85.0429 1161.07 Z\" fill=\"#000000\" fill-rule=\"evenodd\" fill-opacity=\"1\" /><path clip-path=\"url(#clip850)\" d=\"M121.177 1133.52 Q117.566 1133.52 115.737 1137.09 Q113.932 1140.63 113.932 1147.76 Q113.932 1154.87 115.737 1158.43 Q117.566 1161.97 121.177 1161.97 Q124.811 1161.97 126.617 1158.43 Q128.445 1154.87 128.445 1147.76 Q128.445 1140.63 126.617 1137.09 Q124.811 1133.52 121.177 1133.52 M121.177 1129.82 Q126.987 1129.82 130.043 1134.43 Q133.121 1139.01 133.121 1147.76 Q133.121 1156.49 130.043 1161.09 Q126.987 1165.68 121.177 1165.68 Q115.367 1165.68 112.288 1161.09 Q109.233 1156.49 109.233 1147.76 Q109.233 1139.01 112.288 1134.43 Q115.367 1129.82 121.177 1129.82 Z\" fill=\"#000000\" fill-rule=\"evenodd\" fill-opacity=\"1\" /><path clip-path=\"url(#clip850)\" d=\"M93.8623 938.269 L82.0568 956.718 L93.8623 956.718 L93.8623 938.269 M92.6354 934.195 L98.515 934.195 L98.515 956.718 L103.446 956.718 L103.446 960.607 L98.515 960.607 L98.515 968.755 L93.8623 968.755 L93.8623 960.607 L78.2605 960.607 L78.2605 956.093 L92.6354 934.195 Z\" fill=\"#000000\" fill-rule=\"evenodd\" fill-opacity=\"1\" /><path clip-path=\"url(#clip850)\" d=\"M121.177 937.274 Q117.566 937.274 115.737 940.839 Q113.932 944.38 113.932 951.51 Q113.932 958.616 115.737 962.181 Q117.566 965.723 121.177 965.723 Q124.811 965.723 126.617 962.181 Q128.445 958.616 128.445 951.51 Q128.445 944.38 126.617 940.839 Q124.811 937.274 121.177 937.274 M121.177 933.57 Q126.987 933.57 130.043 938.177 Q133.121 942.76 133.121 951.51 Q133.121 960.237 130.043 964.843 Q126.987 969.426 121.177 969.426 Q115.367 969.426 112.288 964.843 Q109.233 960.237 109.233 951.51 Q109.233 942.76 112.288 938.177 Q115.367 933.57 121.177 933.57 Z\" fill=\"#000000\" fill-rule=\"evenodd\" fill-opacity=\"1\" /><path clip-path=\"url(#clip850)\" d=\"M91.5938 753.362 Q88.4456 753.362 86.5938 755.515 Q84.7651 757.667 84.7651 761.417 Q84.7651 765.144 86.5938 767.32 Q88.4456 769.473 91.5938 769.473 Q94.7419 769.473 96.5706 767.32 Q98.4224 765.144 98.4224 761.417 Q98.4224 757.667 96.5706 755.515 Q94.7419 753.362 91.5938 753.362 M100.876 738.709 L100.876 742.968 Q99.1169 742.135 97.3113 741.695 Q95.5289 741.256 93.7697 741.256 Q89.1401 741.256 86.6864 744.381 Q84.2558 747.505 83.9086 753.825 Q85.2743 751.811 87.3345 750.746 Q89.3947 749.658 91.8715 749.658 Q97.0798 749.658 100.089 752.83 Q103.121 755.978 103.121 761.417 Q103.121 766.741 99.9733 769.959 Q96.8252 773.177 91.5938 773.177 Q85.5984 773.177 82.4271 768.593 Q79.2559 763.987 79.2559 755.26 Q79.2559 747.066 83.1447 742.205 Q87.0336 737.32 93.5845 737.32 Q95.3437 737.32 97.1261 737.668 Q98.9317 738.015 100.876 738.709 Z\" fill=\"#000000\" fill-rule=\"evenodd\" fill-opacity=\"1\" /><path clip-path=\"url(#clip850)\" d=\"M121.177 741.024 Q117.566 741.024 115.737 744.589 Q113.932 748.13 113.932 755.26 Q113.932 762.367 115.737 765.931 Q117.566 769.473 121.177 769.473 Q124.811 769.473 126.617 765.931 Q128.445 762.367 128.445 755.26 Q128.445 748.13 126.617 744.589 Q124.811 741.024 121.177 741.024 M121.177 737.32 Q126.987 737.32 130.043 741.927 Q133.121 746.51 133.121 755.26 Q133.121 763.987 130.043 768.593 Q126.987 773.177 121.177 773.177 Q115.367 773.177 112.288 768.593 Q109.233 763.987 109.233 755.26 Q109.233 746.51 112.288 741.927 Q115.367 737.32 121.177 737.32 Z\" fill=\"#000000\" fill-rule=\"evenodd\" fill-opacity=\"1\" /><path clip-path=\"url(#clip850)\" d=\"M91.0151 559.844 Q87.6817 559.844 85.7605 561.626 Q83.8623 563.408 83.8623 566.533 Q83.8623 569.658 85.7605 571.441 Q87.6817 573.223 91.0151 573.223 Q94.3484 573.223 96.2697 571.441 Q98.1909 569.635 98.1909 566.533 Q98.1909 563.408 96.2697 561.626 Q94.3715 559.844 91.0151 559.844 M86.3392 557.853 Q83.3299 557.112 81.6401 555.052 Q79.9735 552.992 79.9735 550.029 Q79.9735 545.885 82.9133 543.478 Q85.8762 541.071 91.0151 541.071 Q96.1771 541.071 99.1169 543.478 Q102.057 545.885 102.057 550.029 Q102.057 552.992 100.367 555.052 Q98.7002 557.112 95.7141 557.853 Q99.0937 558.64 100.969 560.932 Q102.867 563.223 102.867 566.533 Q102.867 571.557 99.7882 574.242 Q96.7326 576.927 91.0151 576.927 Q85.2975 576.927 82.2188 574.242 Q79.1633 571.557 79.1633 566.533 Q79.1633 563.223 81.0614 560.932 Q82.9595 558.64 86.3392 557.853 M84.6262 550.469 Q84.6262 553.154 86.2929 554.659 Q87.9827 556.163 91.0151 556.163 Q94.0243 556.163 95.7141 554.659 Q97.4271 553.154 97.4271 550.469 Q97.4271 547.784 95.7141 546.279 Q94.0243 544.774 91.0151 544.774 Q87.9827 544.774 86.2929 546.279 Q84.6262 547.784 84.6262 550.469 Z\" fill=\"#000000\" fill-rule=\"evenodd\" fill-opacity=\"1\" /><path clip-path=\"url(#clip850)\" d=\"M121.177 544.774 Q117.566 544.774 115.737 548.339 Q113.932 551.881 113.932 559.01 Q113.932 566.117 115.737 569.682 Q117.566 573.223 121.177 573.223 Q124.811 573.223 126.617 569.682 Q128.445 566.117 128.445 559.01 Q128.445 551.881 126.617 548.339 Q124.811 544.774 121.177 544.774 M121.177 541.071 Q126.987 541.071 130.043 545.677 Q133.121 550.26 133.121 559.01 Q133.121 567.737 130.043 572.344 Q126.987 576.927 121.177 576.927 Q115.367 576.927 112.288 572.344 Q109.233 567.737 109.233 559.01 Q109.233 550.26 112.288 545.677 Q115.367 541.071 121.177 541.071 Z\" fill=\"#000000\" fill-rule=\"evenodd\" fill-opacity=\"1\" /><path clip-path=\"url(#clip850)\" d=\"M51.6634 376.071 L59.3023 376.071 L59.3023 349.705 L50.9921 351.372 L50.9921 347.113 L59.256 345.446 L63.9319 345.446 L63.9319 376.071 L71.5707 376.071 L71.5707 380.006 L51.6634 380.006 L51.6634 376.071 Z\" fill=\"#000000\" fill-rule=\"evenodd\" fill-opacity=\"1\" /><path clip-path=\"url(#clip850)\" d=\"M91.0151 348.525 Q87.404 348.525 85.5753 352.089 Q83.7697 355.631 83.7697 362.761 Q83.7697 369.867 85.5753 373.432 Q87.404 376.974 91.0151 376.974 Q94.6493 376.974 96.4548 373.432 Q98.2835 369.867 98.2835 362.761 Q98.2835 355.631 96.4548 352.089 Q94.6493 348.525 91.0151 348.525 M91.0151 344.821 Q96.8252 344.821 99.8808 349.427 Q102.959 354.011 102.959 362.761 Q102.959 371.487 99.8808 376.094 Q96.8252 380.677 91.0151 380.677 Q85.2049 380.677 82.1262 376.094 Q79.0707 371.487 79.0707 362.761 Q79.0707 354.011 82.1262 349.427 Q85.2049 344.821 91.0151 344.821 Z\" fill=\"#000000\" fill-rule=\"evenodd\" fill-opacity=\"1\" /><path clip-path=\"url(#clip850)\" d=\"M121.177 348.525 Q117.566 348.525 115.737 352.089 Q113.932 355.631 113.932 362.761 Q113.932 369.867 115.737 373.432 Q117.566 376.974 121.177 376.974 Q124.811 376.974 126.617 373.432 Q128.445 369.867 128.445 362.761 Q128.445 355.631 126.617 352.089 Q124.811 348.525 121.177 348.525 M121.177 344.821 Q126.987 344.821 130.043 349.427 Q133.121 354.011 133.121 362.761 Q133.121 371.487 130.043 376.094 Q126.987 380.677 121.177 380.677 Q115.367 380.677 112.288 376.094 Q109.233 371.487 109.233 362.761 Q109.233 354.011 112.288 349.427 Q115.367 344.821 121.177 344.821 Z\" fill=\"#000000\" fill-rule=\"evenodd\" fill-opacity=\"1\" /><path clip-path=\"url(#clip850)\" d=\"M51.6634 179.821 L59.3023 179.821 L59.3023 153.455 L50.9921 155.122 L50.9921 150.863 L59.256 149.196 L63.9319 149.196 L63.9319 179.821 L71.5707 179.821 L71.5707 183.756 L51.6634 183.756 L51.6634 179.821 Z\" fill=\"#000000\" fill-rule=\"evenodd\" fill-opacity=\"1\" /><path clip-path=\"url(#clip850)\" d=\"M85.0429 179.821 L101.362 179.821 L101.362 183.756 L79.4179 183.756 L79.4179 179.821 Q82.0799 177.066 86.6632 172.437 Q91.2697 167.784 92.4502 166.441 Q94.6956 163.918 95.5752 162.182 Q96.478 160.423 96.478 158.733 Q96.478 155.979 94.5336 154.242 Q92.6123 152.506 89.5104 152.506 Q87.3114 152.506 84.8577 153.27 Q82.4271 154.034 79.6494 155.585 L79.6494 150.863 Q82.4734 149.729 84.9271 149.15 Q87.3808 148.571 89.4178 148.571 Q94.7882 148.571 97.9826 151.256 Q101.177 153.942 101.177 158.432 Q101.177 160.562 100.367 162.483 Q99.5798 164.381 97.4734 166.974 Q96.8947 167.645 93.7928 170.863 Q90.691 174.057 85.0429 179.821 Z\" fill=\"#000000\" fill-rule=\"evenodd\" fill-opacity=\"1\" /><path clip-path=\"url(#clip850)\" d=\"M121.177 152.275 Q117.566 152.275 115.737 155.84 Q113.932 159.381 113.932 166.511 Q113.932 173.617 115.737 177.182 Q117.566 180.724 121.177 180.724 Q124.811 180.724 126.617 177.182 Q128.445 173.617 128.445 166.511 Q128.445 159.381 126.617 155.84 Q124.811 152.275 121.177 152.275 M121.177 148.571 Q126.987 148.571 130.043 153.178 Q133.121 157.761 133.121 166.511 Q133.121 175.238 130.043 179.844 Q126.987 184.427 121.177 184.427 Q115.367 184.427 112.288 179.844 Q109.233 175.238 109.233 166.511 Q109.233 157.761 112.288 153.178 Q115.367 148.571 121.177 148.571 Z\" fill=\"#000000\" fill-rule=\"evenodd\" fill-opacity=\"1\" /><circle clip-path=\"url(#clip852)\" cx=\"230.922\" cy=\"734.202\" r=\"14.4\" fill=\"#009af9\" fill-rule=\"evenodd\" fill-opacity=\"1\" stroke=\"#000000\" stroke-opacity=\"1\" stroke-width=\"3.2\"/>\n",
       "<circle clip-path=\"url(#clip852)\" cx=\"333.924\" cy=\"813.825\" r=\"14.4\" fill=\"#009af9\" fill-rule=\"evenodd\" fill-opacity=\"1\" stroke=\"#000000\" stroke-opacity=\"1\" stroke-width=\"3.2\"/>\n",
       "<circle clip-path=\"url(#clip852)\" cx=\"436.926\" cy=\"924.776\" r=\"14.4\" fill=\"#009af9\" fill-rule=\"evenodd\" fill-opacity=\"1\" stroke=\"#000000\" stroke-opacity=\"1\" stroke-width=\"3.2\"/>\n",
       "<circle clip-path=\"url(#clip852)\" cx=\"539.927\" cy=\"995.7\" r=\"14.4\" fill=\"#009af9\" fill-rule=\"evenodd\" fill-opacity=\"1\" stroke=\"#000000\" stroke-opacity=\"1\" stroke-width=\"3.2\"/>\n",
       "<circle clip-path=\"url(#clip852)\" cx=\"642.929\" cy=\"1043.03\" r=\"14.4\" fill=\"#009af9\" fill-rule=\"evenodd\" fill-opacity=\"1\" stroke=\"#000000\" stroke-opacity=\"1\" stroke-width=\"3.2\"/>\n",
       "<circle clip-path=\"url(#clip852)\" cx=\"745.93\" cy=\"1292.87\" r=\"14.4\" fill=\"#009af9\" fill-rule=\"evenodd\" fill-opacity=\"1\" stroke=\"#000000\" stroke-opacity=\"1\" stroke-width=\"3.2\"/>\n",
       "<circle clip-path=\"url(#clip852)\" cx=\"848.932\" cy=\"1091.84\" r=\"14.4\" fill=\"#009af9\" fill-rule=\"evenodd\" fill-opacity=\"1\" stroke=\"#000000\" stroke-opacity=\"1\" stroke-width=\"3.2\"/>\n",
       "<circle clip-path=\"url(#clip852)\" cx=\"951.934\" cy=\"1247.19\" r=\"14.4\" fill=\"#009af9\" fill-rule=\"evenodd\" fill-opacity=\"1\" stroke=\"#000000\" stroke-opacity=\"1\" stroke-width=\"3.2\"/>\n",
       "<circle clip-path=\"url(#clip852)\" cx=\"1054.94\" cy=\"1380.76\" r=\"14.4\" fill=\"#009af9\" fill-rule=\"evenodd\" fill-opacity=\"1\" stroke=\"#000000\" stroke-opacity=\"1\" stroke-width=\"3.2\"/>\n",
       "<circle clip-path=\"url(#clip852)\" cx=\"1157.94\" cy=\"1353.68\" r=\"14.4\" fill=\"#009af9\" fill-rule=\"evenodd\" fill-opacity=\"1\" stroke=\"#000000\" stroke-opacity=\"1\" stroke-width=\"3.2\"/>\n",
       "<circle clip-path=\"url(#clip852)\" cx=\"1260.94\" cy=\"1445.72\" r=\"14.4\" fill=\"#009af9\" fill-rule=\"evenodd\" fill-opacity=\"1\" stroke=\"#000000\" stroke-opacity=\"1\" stroke-width=\"3.2\"/>\n",
       "<circle clip-path=\"url(#clip852)\" cx=\"1363.94\" cy=\"1352.85\" r=\"14.4\" fill=\"#009af9\" fill-rule=\"evenodd\" fill-opacity=\"1\" stroke=\"#000000\" stroke-opacity=\"1\" stroke-width=\"3.2\"/>\n",
       "<circle clip-path=\"url(#clip852)\" cx=\"1466.94\" cy=\"1035.69\" r=\"14.4\" fill=\"#009af9\" fill-rule=\"evenodd\" fill-opacity=\"1\" stroke=\"#000000\" stroke-opacity=\"1\" stroke-width=\"3.2\"/>\n",
       "<circle clip-path=\"url(#clip852)\" cx=\"1569.94\" cy=\"1075.35\" r=\"14.4\" fill=\"#009af9\" fill-rule=\"evenodd\" fill-opacity=\"1\" stroke=\"#000000\" stroke-opacity=\"1\" stroke-width=\"3.2\"/>\n",
       "<circle clip-path=\"url(#clip852)\" cx=\"1672.95\" cy=\"1081.58\" r=\"14.4\" fill=\"#009af9\" fill-rule=\"evenodd\" fill-opacity=\"1\" stroke=\"#000000\" stroke-opacity=\"1\" stroke-width=\"3.2\"/>\n",
       "<circle clip-path=\"url(#clip852)\" cx=\"1775.95\" cy=\"856.284\" r=\"14.4\" fill=\"#009af9\" fill-rule=\"evenodd\" fill-opacity=\"1\" stroke=\"#000000\" stroke-opacity=\"1\" stroke-width=\"3.2\"/>\n",
       "<circle clip-path=\"url(#clip852)\" cx=\"1878.95\" cy=\"856.003\" r=\"14.4\" fill=\"#009af9\" fill-rule=\"evenodd\" fill-opacity=\"1\" stroke=\"#000000\" stroke-opacity=\"1\" stroke-width=\"3.2\"/>\n",
       "<circle clip-path=\"url(#clip852)\" cx=\"1981.95\" cy=\"781.306\" r=\"14.4\" fill=\"#009af9\" fill-rule=\"evenodd\" fill-opacity=\"1\" stroke=\"#000000\" stroke-opacity=\"1\" stroke-width=\"3.2\"/>\n",
       "<circle clip-path=\"url(#clip852)\" cx=\"2084.95\" cy=\"612.661\" r=\"14.4\" fill=\"#009af9\" fill-rule=\"evenodd\" fill-opacity=\"1\" stroke=\"#000000\" stroke-opacity=\"1\" stroke-width=\"3.2\"/>\n",
       "<circle clip-path=\"url(#clip852)\" cx=\"2187.95\" cy=\"317.661\" r=\"14.4\" fill=\"#009af9\" fill-rule=\"evenodd\" fill-opacity=\"1\" stroke=\"#000000\" stroke-opacity=\"1\" stroke-width=\"3.2\"/>\n",
       "<circle clip-path=\"url(#clip852)\" cx=\"2290.95\" cy=\"109.422\" r=\"14.4\" fill=\"#009af9\" fill-rule=\"evenodd\" fill-opacity=\"1\" stroke=\"#000000\" stroke-opacity=\"1\" stroke-width=\"3.2\"/>\n",
       "<polyline clip-path=\"url(#clip852)\" style=\"stroke:#e26f46; stroke-linecap:round; stroke-linejoin:round; stroke-width:4; stroke-opacity:1; fill:none\" points=\"230.922,676.725 333.924,833.725 436.926,971.1 539.927,1088.85 642.929,1186.97 745.93,1265.47 848.932,1324.35 951.934,1363.6 1054.94,1383.22 1157.94,1383.22 1260.94,1363.6 1363.94,1324.35 1466.94,1265.47 1569.94,1186.97 1672.95,1088.85 1775.95,971.1 1878.95,833.725 1981.95,676.725 2084.95,500.101 2187.95,303.851 2290.95,87.9763 \"/>\n",
       "<polyline clip-path=\"url(#clip852)\" style=\"stroke:#3da44d; stroke-linecap:round; stroke-linejoin:round; stroke-width:4; stroke-opacity:1; fill:none\" points=\"230.922,667.055 333.924,808.436 436.926,932.302 539.927,1038.65 642.929,1127.49 745.93,1198.8 848.932,1252.61 951.934,1288.89 1054.94,1307.67 1157.94,1308.92 1260.94,1292.66 1363.94,1258.89 1466.94,1207.6 1569.94,1138.79 1672.95,1052.47 1775.95,948.629 1878.95,827.275 1981.95,688.405 2084.95,532.02 2187.95,358.119 2290.95,166.703 \"/>\n",
       "<path clip-path=\"url(#clip850)\" d=\"M241.909 302.578 L687.146 302.578 L687.146 95.2176 L241.909 95.2176  Z\" fill=\"#ffffff\" fill-rule=\"evenodd\" fill-opacity=\"1\"/>\n",
       "<polyline clip-path=\"url(#clip850)\" style=\"stroke:#000000; stroke-linecap:round; stroke-linejoin:round; stroke-width:4; stroke-opacity:1; fill:none\" points=\"241.909,302.578 687.146,302.578 687.146,95.2176 241.909,95.2176 241.909,302.578 \"/>\n",
       "<circle clip-path=\"url(#clip850)\" cx=\"338.96\" cy=\"147.058\" r=\"23.04\" fill=\"#009af9\" fill-rule=\"evenodd\" fill-opacity=\"1\" stroke=\"#000000\" stroke-opacity=\"1\" stroke-width=\"5.12\"/>\n",
       "<path clip-path=\"url(#clip850)\" d=\"M454.922 142.347 L454.922 128.319 L459.181 128.319 L459.181 164.338 L454.922 164.338 L454.922 160.449 Q453.579 162.763 451.519 163.898 Q449.482 165.009 446.612 165.009 Q441.913 165.009 438.95 161.259 Q436.01 157.509 436.01 151.398 Q436.01 145.287 438.95 141.537 Q441.913 137.787 446.612 137.787 Q449.482 137.787 451.519 138.921 Q453.579 140.032 454.922 142.347 M440.408 151.398 Q440.408 156.097 442.329 158.782 Q444.274 161.444 447.653 161.444 Q451.033 161.444 452.977 158.782 Q454.922 156.097 454.922 151.398 Q454.922 146.699 452.977 144.037 Q451.033 141.352 447.653 141.352 Q444.274 141.352 442.329 144.037 Q440.408 146.699 440.408 151.398 Z\" fill=\"#000000\" fill-rule=\"evenodd\" fill-opacity=\"1\" /><path clip-path=\"url(#clip850)\" d=\"M479.737 151.305 Q474.575 151.305 472.584 152.486 Q470.593 153.666 470.593 156.514 Q470.593 158.782 472.075 160.125 Q473.579 161.444 476.149 161.444 Q479.69 161.444 481.82 158.944 Q483.973 156.421 483.973 152.254 L483.973 151.305 L479.737 151.305 M488.232 149.546 L488.232 164.338 L483.973 164.338 L483.973 160.402 Q482.514 162.763 480.338 163.898 Q478.163 165.009 475.014 165.009 Q471.033 165.009 468.672 162.787 Q466.334 160.541 466.334 156.791 Q466.334 152.416 469.251 150.194 Q472.19 147.972 478.001 147.972 L483.973 147.972 L483.973 147.555 Q483.973 144.615 482.028 143.018 Q480.107 141.398 476.612 141.398 Q474.389 141.398 472.283 141.93 Q470.176 142.463 468.232 143.527 L468.232 139.592 Q470.57 138.69 472.769 138.25 Q474.968 137.787 477.051 137.787 Q482.676 137.787 485.454 140.703 Q488.232 143.62 488.232 149.546 Z\" fill=\"#000000\" fill-rule=\"evenodd\" fill-opacity=\"1\" /><path clip-path=\"url(#clip850)\" d=\"M501.218 131.051 L501.218 138.412 L509.991 138.412 L509.991 141.722 L501.218 141.722 L501.218 155.796 Q501.218 158.967 502.074 159.87 Q502.954 160.773 505.616 160.773 L509.991 160.773 L509.991 164.338 L505.616 164.338 Q500.686 164.338 498.811 162.509 Q496.936 160.657 496.936 155.796 L496.936 141.722 L493.811 141.722 L493.811 138.412 L496.936 138.412 L496.936 131.051 L501.218 131.051 Z\" fill=\"#000000\" fill-rule=\"evenodd\" fill-opacity=\"1\" /><path clip-path=\"url(#clip850)\" d=\"M527.375 151.305 Q522.213 151.305 520.222 152.486 Q518.232 153.666 518.232 156.514 Q518.232 158.782 519.713 160.125 Q521.218 161.444 523.787 161.444 Q527.329 161.444 529.459 158.944 Q531.611 156.421 531.611 152.254 L531.611 151.305 L527.375 151.305 M535.871 149.546 L535.871 164.338 L531.611 164.338 L531.611 160.402 Q530.153 162.763 527.977 163.898 Q525.801 165.009 522.653 165.009 Q518.672 165.009 516.31 162.787 Q513.973 160.541 513.973 156.791 Q513.973 152.416 516.889 150.194 Q519.829 147.972 525.639 147.972 L531.611 147.972 L531.611 147.555 Q531.611 144.615 529.667 143.018 Q527.746 141.398 524.25 141.398 Q522.028 141.398 519.922 141.93 Q517.815 142.463 515.871 143.527 L515.871 139.592 Q518.209 138.69 520.408 138.25 Q522.607 137.787 524.69 137.787 Q530.315 137.787 533.093 140.703 Q535.871 143.62 535.871 149.546 Z\" fill=\"#000000\" fill-rule=\"evenodd\" fill-opacity=\"1\" /><polyline clip-path=\"url(#clip850)\" style=\"stroke:#e26f46; stroke-linecap:round; stroke-linejoin:round; stroke-width:4; stroke-opacity:1; fill:none\" points=\"266.172,198.898 411.747,198.898 \"/>\n",
       "<path clip-path=\"url(#clip850)\" d=\"M436.01 181.618 L465.246 181.618 L465.246 185.553 L452.977 185.553 L452.977 216.178 L448.278 216.178 L448.278 185.553 L436.01 185.553 L436.01 181.618 Z\" fill=\"#000000\" fill-rule=\"evenodd\" fill-opacity=\"1\" /><path clip-path=\"url(#clip850)\" d=\"M477.63 194.233 Q476.913 193.817 476.056 193.631 Q475.223 193.423 474.204 193.423 Q470.593 193.423 468.649 195.784 Q466.727 198.122 466.727 202.52 L466.727 216.178 L462.445 216.178 L462.445 190.252 L466.727 190.252 L466.727 194.28 Q468.07 191.918 470.223 190.784 Q472.376 189.627 475.454 189.627 Q475.894 189.627 476.426 189.696 Q476.959 189.743 477.607 189.858 L477.63 194.233 Z\" fill=\"#000000\" fill-rule=\"evenodd\" fill-opacity=\"1\" /><path clip-path=\"url(#clip850)\" d=\"M481.658 205.946 L481.658 190.252 L485.917 190.252 L485.917 205.784 Q485.917 209.465 487.352 211.316 Q488.787 213.145 491.658 213.145 Q495.107 213.145 497.098 210.946 Q499.112 208.747 499.112 204.951 L499.112 190.252 L503.371 190.252 L503.371 216.178 L499.112 216.178 L499.112 212.196 Q497.561 214.557 495.5 215.715 Q493.463 216.849 490.755 216.849 Q486.287 216.849 483.973 214.071 Q481.658 211.293 481.658 205.946 M492.375 189.627 L492.375 189.627 Z\" fill=\"#000000\" fill-rule=\"evenodd\" fill-opacity=\"1\" /><path clip-path=\"url(#clip850)\" d=\"M534.32 202.15 L534.32 204.233 L514.736 204.233 Q515.014 208.631 517.375 210.946 Q519.76 213.238 523.996 213.238 Q526.449 213.238 528.741 212.636 Q531.056 212.034 533.324 210.83 L533.324 214.858 Q531.033 215.83 528.625 216.34 Q526.218 216.849 523.741 216.849 Q517.537 216.849 513.903 213.238 Q510.292 209.627 510.292 203.469 Q510.292 197.104 513.718 193.377 Q517.167 189.627 523 189.627 Q528.232 189.627 531.264 193.006 Q534.32 196.363 534.32 202.15 M530.06 200.9 Q530.014 197.405 528.093 195.321 Q526.195 193.238 523.047 193.238 Q519.482 193.238 517.329 195.252 Q515.199 197.266 514.875 200.923 L530.06 200.9 Z\" fill=\"#000000\" fill-rule=\"evenodd\" fill-opacity=\"1\" /><path clip-path=\"url(#clip850)\" d=\"M556.38 180.159 L560.639 180.159 L560.639 216.178 L556.38 216.178 L556.38 180.159 Z\" fill=\"#000000\" fill-rule=\"evenodd\" fill-opacity=\"1\" /><path clip-path=\"url(#clip850)\" d=\"M569.551 190.252 L573.81 190.252 L573.81 216.178 L569.551 216.178 L569.551 190.252 M569.551 180.159 L573.81 180.159 L573.81 185.553 L569.551 185.553 L569.551 180.159 Z\" fill=\"#000000\" fill-rule=\"evenodd\" fill-opacity=\"1\" /><path clip-path=\"url(#clip850)\" d=\"M604.273 200.529 L604.273 216.178 L600.014 216.178 L600.014 200.668 Q600.014 196.988 598.579 195.159 Q597.143 193.33 594.273 193.33 Q590.824 193.33 588.833 195.53 Q586.843 197.729 586.843 201.525 L586.843 216.178 L582.56 216.178 L582.56 190.252 L586.843 190.252 L586.843 194.28 Q588.37 191.942 590.43 190.784 Q592.514 189.627 595.222 189.627 Q599.69 189.627 601.981 192.405 Q604.273 195.159 604.273 200.529 Z\" fill=\"#000000\" fill-rule=\"evenodd\" fill-opacity=\"1\" /><path clip-path=\"url(#clip850)\" d=\"M634.944 202.15 L634.944 204.233 L615.361 204.233 Q615.639 208.631 618 210.946 Q620.384 213.238 624.62 213.238 Q627.074 213.238 629.365 212.636 Q631.68 212.034 633.949 210.83 L633.949 214.858 Q631.657 215.83 629.25 216.34 Q626.842 216.849 624.365 216.849 Q618.162 216.849 614.528 213.238 Q610.916 209.627 610.916 203.469 Q610.916 197.104 614.342 193.377 Q617.791 189.627 623.625 189.627 Q628.856 189.627 631.889 193.006 Q634.944 196.363 634.944 202.15 M630.685 200.9 Q630.639 197.405 628.717 195.321 Q626.819 193.238 623.671 193.238 Q620.106 193.238 617.953 195.252 Q615.824 197.266 615.5 200.923 L630.685 200.9 Z\" fill=\"#000000\" fill-rule=\"evenodd\" fill-opacity=\"1\" /><polyline clip-path=\"url(#clip850)\" style=\"stroke:#3da44d; stroke-linecap:round; stroke-linejoin:round; stroke-width:4; stroke-opacity:1; fill:none\" points=\"266.172,250.738 411.747,250.738 \"/>\n",
       "<path clip-path=\"url(#clip850)\" d=\"M436.01 233.458 L455.871 233.458 L455.871 237.393 L440.686 237.393 L440.686 247.578 L454.39 247.578 L454.39 251.513 L440.686 251.513 L440.686 268.018 L436.01 268.018 L436.01 233.458 Z\" fill=\"#000000\" fill-rule=\"evenodd\" fill-opacity=\"1\" /><path clip-path=\"url(#clip850)\" d=\"M459.644 242.092 L463.903 242.092 L463.903 268.018 L459.644 268.018 L459.644 242.092 M459.644 231.999 L463.903 231.999 L463.903 237.393 L459.644 237.393 L459.644 231.999 Z\" fill=\"#000000\" fill-rule=\"evenodd\" fill-opacity=\"1\" /><path clip-path=\"url(#clip850)\" d=\"M477.028 234.731 L477.028 242.092 L485.801 242.092 L485.801 245.402 L477.028 245.402 L477.028 259.476 Q477.028 262.647 477.885 263.55 Q478.764 264.453 481.426 264.453 L485.801 264.453 L485.801 268.018 L481.426 268.018 Q476.496 268.018 474.621 266.189 Q472.746 264.337 472.746 259.476 L472.746 245.402 L469.621 245.402 L469.621 242.092 L472.746 242.092 L472.746 234.731 L477.028 234.731 Z\" fill=\"#000000\" fill-rule=\"evenodd\" fill-opacity=\"1\" /><path clip-path=\"url(#clip850)\" d=\"M495.616 234.731 L495.616 242.092 L504.389 242.092 L504.389 245.402 L495.616 245.402 L495.616 259.476 Q495.616 262.647 496.473 263.55 Q497.352 264.453 500.014 264.453 L504.389 264.453 L504.389 268.018 L500.014 268.018 Q495.084 268.018 493.209 266.189 Q491.334 264.337 491.334 259.476 L491.334 245.402 L488.209 245.402 L488.209 242.092 L491.334 242.092 L491.334 234.731 L495.616 234.731 Z\" fill=\"#000000\" fill-rule=\"evenodd\" fill-opacity=\"1\" /><path clip-path=\"url(#clip850)\" d=\"M532.167 253.99 L532.167 256.073 L512.584 256.073 Q512.861 260.471 515.223 262.786 Q517.607 265.078 521.843 265.078 Q524.297 265.078 526.588 264.476 Q528.903 263.874 531.172 262.67 L531.172 266.698 Q528.88 267.67 526.472 268.18 Q524.065 268.689 521.588 268.689 Q515.385 268.689 511.75 265.078 Q508.139 261.467 508.139 255.309 Q508.139 248.944 511.565 245.217 Q515.014 241.467 520.847 241.467 Q526.079 241.467 529.111 244.846 Q532.167 248.203 532.167 253.99 M527.908 252.74 Q527.861 249.245 525.94 247.161 Q524.042 245.078 520.894 245.078 Q517.329 245.078 515.176 247.092 Q513.047 249.106 512.723 252.763 L527.908 252.74 Z\" fill=\"#000000\" fill-rule=\"evenodd\" fill-opacity=\"1\" /><path clip-path=\"url(#clip850)\" d=\"M556.218 246.027 L556.218 231.999 L560.477 231.999 L560.477 268.018 L556.218 268.018 L556.218 264.129 Q554.875 266.443 552.815 267.578 Q550.778 268.689 547.908 268.689 Q543.208 268.689 540.246 264.939 Q537.306 261.189 537.306 255.078 Q537.306 248.967 540.246 245.217 Q543.208 241.467 547.908 241.467 Q550.778 241.467 552.815 242.601 Q554.875 243.712 556.218 246.027 M541.704 255.078 Q541.704 259.777 543.625 262.462 Q545.57 265.124 548.949 265.124 Q552.329 265.124 554.273 262.462 Q556.218 259.777 556.218 255.078 Q556.218 250.379 554.273 247.717 Q552.329 245.032 548.949 245.032 Q545.57 245.032 543.625 247.717 Q541.704 250.379 541.704 255.078 Z\" fill=\"#000000\" fill-rule=\"evenodd\" fill-opacity=\"1\" /><path clip-path=\"url(#clip850)\" d=\"M584.319 231.999 L588.579 231.999 L588.579 268.018 L584.319 268.018 L584.319 231.999 Z\" fill=\"#000000\" fill-rule=\"evenodd\" fill-opacity=\"1\" /><path clip-path=\"url(#clip850)\" d=\"M597.491 242.092 L601.75 242.092 L601.75 268.018 L597.491 268.018 L597.491 242.092 M597.491 231.999 L601.75 231.999 L601.75 237.393 L597.491 237.393 L597.491 231.999 Z\" fill=\"#000000\" fill-rule=\"evenodd\" fill-opacity=\"1\" /><path clip-path=\"url(#clip850)\" d=\"M632.213 252.369 L632.213 268.018 L627.953 268.018 L627.953 252.508 Q627.953 248.828 626.518 246.999 Q625.083 245.17 622.213 245.17 Q618.764 245.17 616.773 247.37 Q614.782 249.569 614.782 253.365 L614.782 268.018 L610.5 268.018 L610.5 242.092 L614.782 242.092 L614.782 246.12 Q616.31 243.782 618.37 242.624 Q620.453 241.467 623.162 241.467 Q627.629 241.467 629.921 244.245 Q632.213 246.999 632.213 252.369 Z\" fill=\"#000000\" fill-rule=\"evenodd\" fill-opacity=\"1\" /><path clip-path=\"url(#clip850)\" d=\"M662.884 253.99 L662.884 256.073 L643.301 256.073 Q643.578 260.471 645.939 262.786 Q648.324 265.078 652.56 265.078 Q655.013 265.078 657.305 264.476 Q659.62 263.874 661.888 262.67 L661.888 266.698 Q659.597 267.67 657.189 268.18 Q654.782 268.689 652.305 268.689 Q646.101 268.689 642.467 265.078 Q638.856 261.467 638.856 255.309 Q638.856 248.944 642.282 245.217 Q645.731 241.467 651.564 241.467 Q656.796 241.467 659.828 244.846 Q662.884 248.203 662.884 253.99 M658.625 252.74 Q658.578 249.245 656.657 247.161 Q654.759 245.078 651.611 245.078 Q648.046 245.078 645.893 247.092 Q643.764 249.106 643.439 252.763 L658.625 252.74 Z\" fill=\"#000000\" fill-rule=\"evenodd\" fill-opacity=\"1\" /></svg>\n"
      ]
     },
     "execution_count": 66,
     "metadata": {},
     "output_type": "execute_result"
    }
   ],
   "source": [
    "scatter(x,y_observed, label=\"data\")\n",
    "plot!(x,y_true, label=\"True line\")\n",
    "plot!(x,y_fitted, label=\"Fitted line\")"
   ]
  },
  {
   "cell_type": "markdown",
   "id": "b3b5a343",
   "metadata": {},
   "source": [
    "### 2.4\n",
    "\n",
    "1. Repeat 2.2 and 2.3 with a noise with a standard deviation of 50"
   ]
  },
  {
   "cell_type": "code",
   "execution_count": 67,
   "id": "b4c08499",
   "metadata": {},
   "outputs": [
    {
     "data": {
      "image/svg+xml": [
       "<?xml version=\"1.0\" encoding=\"utf-8\"?>\n",
       "<svg xmlns=\"http://www.w3.org/2000/svg\" xmlns:xlink=\"http://www.w3.org/1999/xlink\" width=\"600\" height=\"400\" viewBox=\"0 0 2400 1600\">\n",
       "<defs>\n",
       "  <clipPath id=\"clip890\">\n",
       "    <rect x=\"0\" y=\"0\" width=\"2400\" height=\"1600\"/>\n",
       "  </clipPath>\n",
       "</defs>\n",
       "<path clip-path=\"url(#clip890)\" d=\"M0 1600 L2400 1600 L2400 0 L0 0  Z\" fill=\"#ffffff\" fill-rule=\"evenodd\" fill-opacity=\"1\"/>\n",
       "<defs>\n",
       "  <clipPath id=\"clip891\">\n",
       "    <rect x=\"480\" y=\"0\" width=\"1681\" height=\"1600\"/>\n",
       "  </clipPath>\n",
       "</defs>\n",
       "<path clip-path=\"url(#clip890)\" d=\"M209.029 1486.45 L2352.76 1486.45 L2352.76 47.2441 L209.029 47.2441  Z\" fill=\"#ffffff\" fill-rule=\"evenodd\" fill-opacity=\"1\"/>\n",
       "<defs>\n",
       "  <clipPath id=\"clip892\">\n",
       "    <rect x=\"209\" y=\"47\" width=\"2145\" height=\"1440\"/>\n",
       "  </clipPath>\n",
       "</defs>\n",
       "<polyline clip-path=\"url(#clip892)\" style=\"stroke:#000000; stroke-linecap:round; stroke-linejoin:round; stroke-width:2; stroke-opacity:0.1; fill:none\" points=\"269.7,1486.45 269.7,47.2441 \"/>\n",
       "<polyline clip-path=\"url(#clip892)\" style=\"stroke:#000000; stroke-linecap:round; stroke-linejoin:round; stroke-width:2; stroke-opacity:0.1; fill:none\" points=\"775.296,1486.45 775.296,47.2441 \"/>\n",
       "<polyline clip-path=\"url(#clip892)\" style=\"stroke:#000000; stroke-linecap:round; stroke-linejoin:round; stroke-width:2; stroke-opacity:0.1; fill:none\" points=\"1280.89,1486.45 1280.89,47.2441 \"/>\n",
       "<polyline clip-path=\"url(#clip892)\" style=\"stroke:#000000; stroke-linecap:round; stroke-linejoin:round; stroke-width:2; stroke-opacity:0.1; fill:none\" points=\"1786.49,1486.45 1786.49,47.2441 \"/>\n",
       "<polyline clip-path=\"url(#clip892)\" style=\"stroke:#000000; stroke-linecap:round; stroke-linejoin:round; stroke-width:2; stroke-opacity:0.1; fill:none\" points=\"2292.08,1486.45 2292.08,47.2441 \"/>\n",
       "<polyline clip-path=\"url(#clip890)\" style=\"stroke:#000000; stroke-linecap:round; stroke-linejoin:round; stroke-width:4; stroke-opacity:1; fill:none\" points=\"209.029,1486.45 2352.76,1486.45 \"/>\n",
       "<polyline clip-path=\"url(#clip890)\" style=\"stroke:#000000; stroke-linecap:round; stroke-linejoin:round; stroke-width:4; stroke-opacity:1; fill:none\" points=\"269.7,1486.45 269.7,1467.55 \"/>\n",
       "<polyline clip-path=\"url(#clip890)\" style=\"stroke:#000000; stroke-linecap:round; stroke-linejoin:round; stroke-width:4; stroke-opacity:1; fill:none\" points=\"775.296,1486.45 775.296,1467.55 \"/>\n",
       "<polyline clip-path=\"url(#clip890)\" style=\"stroke:#000000; stroke-linecap:round; stroke-linejoin:round; stroke-width:4; stroke-opacity:1; fill:none\" points=\"1280.89,1486.45 1280.89,1467.55 \"/>\n",
       "<polyline clip-path=\"url(#clip890)\" style=\"stroke:#000000; stroke-linecap:round; stroke-linejoin:round; stroke-width:4; stroke-opacity:1; fill:none\" points=\"1786.49,1486.45 1786.49,1467.55 \"/>\n",
       "<polyline clip-path=\"url(#clip890)\" style=\"stroke:#000000; stroke-linecap:round; stroke-linejoin:round; stroke-width:4; stroke-opacity:1; fill:none\" points=\"2292.08,1486.45 2292.08,1467.55 \"/>\n",
       "<path clip-path=\"url(#clip890)\" d=\"M223.763 1532.02 L253.439 1532.02 L253.439 1535.95 L223.763 1535.95 L223.763 1532.02 Z\" fill=\"#000000\" fill-rule=\"evenodd\" fill-opacity=\"1\" /><path clip-path=\"url(#clip890)\" d=\"M264.341 1544.91 L271.98 1544.91 L271.98 1518.55 L263.67 1520.21 L263.67 1515.95 L271.934 1514.29 L276.61 1514.29 L276.61 1544.91 L284.249 1544.91 L284.249 1548.85 L264.341 1548.85 L264.341 1544.91 Z\" fill=\"#000000\" fill-rule=\"evenodd\" fill-opacity=\"1\" /><path clip-path=\"url(#clip890)\" d=\"M303.693 1517.37 Q300.082 1517.37 298.253 1520.93 Q296.448 1524.47 296.448 1531.6 Q296.448 1538.71 298.253 1542.27 Q300.082 1545.82 303.693 1545.82 Q307.327 1545.82 309.133 1542.27 Q310.961 1538.71 310.961 1531.6 Q310.961 1524.47 309.133 1520.93 Q307.327 1517.37 303.693 1517.37 M303.693 1513.66 Q309.503 1513.66 312.559 1518.27 Q315.637 1522.85 315.637 1531.6 Q315.637 1540.33 312.559 1544.94 Q309.503 1549.52 303.693 1549.52 Q297.883 1549.52 294.804 1544.94 Q291.749 1540.33 291.749 1531.6 Q291.749 1522.85 294.804 1518.27 Q297.883 1513.66 303.693 1513.66 Z\" fill=\"#000000\" fill-rule=\"evenodd\" fill-opacity=\"1\" /><path clip-path=\"url(#clip890)\" d=\"M744.937 1532.02 L774.613 1532.02 L774.613 1535.95 L744.937 1535.95 L744.937 1532.02 Z\" fill=\"#000000\" fill-rule=\"evenodd\" fill-opacity=\"1\" /><path clip-path=\"url(#clip890)\" d=\"M784.752 1514.29 L803.108 1514.29 L803.108 1518.22 L789.034 1518.22 L789.034 1526.7 Q790.053 1526.35 791.072 1526.19 Q792.09 1526 793.109 1526 Q798.896 1526 802.275 1529.17 Q805.655 1532.34 805.655 1537.76 Q805.655 1543.34 802.183 1546.44 Q798.71 1549.52 792.391 1549.52 Q790.215 1549.52 787.947 1549.15 Q785.701 1548.78 783.294 1548.04 L783.294 1543.34 Q785.377 1544.47 787.599 1545.03 Q789.822 1545.58 792.298 1545.58 Q796.303 1545.58 798.641 1543.48 Q800.979 1541.37 800.979 1537.76 Q800.979 1534.15 798.641 1532.04 Q796.303 1529.94 792.298 1529.94 Q790.423 1529.94 788.548 1530.35 Q786.697 1530.77 784.752 1531.65 L784.752 1514.29 Z\" fill=\"#000000\" fill-rule=\"evenodd\" fill-opacity=\"1\" /><path clip-path=\"url(#clip890)\" d=\"M1280.89 1517.37 Q1277.28 1517.37 1275.45 1520.93 Q1273.65 1524.47 1273.65 1531.6 Q1273.65 1538.71 1275.45 1542.27 Q1277.28 1545.82 1280.89 1545.82 Q1284.53 1545.82 1286.33 1542.27 Q1288.16 1538.71 1288.16 1531.6 Q1288.16 1524.47 1286.33 1520.93 Q1284.53 1517.37 1280.89 1517.37 M1280.89 1513.66 Q1286.7 1513.66 1289.76 1518.27 Q1292.84 1522.85 1292.84 1531.6 Q1292.84 1540.33 1289.76 1544.94 Q1286.7 1549.52 1280.89 1549.52 Q1275.08 1549.52 1272 1544.94 Q1268.95 1540.33 1268.95 1531.6 Q1268.95 1522.85 1272 1518.27 Q1275.08 1513.66 1280.89 1513.66 Z\" fill=\"#000000\" fill-rule=\"evenodd\" fill-opacity=\"1\" /><path clip-path=\"url(#clip890)\" d=\"M1776.77 1514.29 L1795.12 1514.29 L1795.12 1518.22 L1781.05 1518.22 L1781.05 1526.7 Q1782.07 1526.35 1783.09 1526.19 Q1784.1 1526 1785.12 1526 Q1790.91 1526 1794.29 1529.17 Q1797.67 1532.34 1797.67 1537.76 Q1797.67 1543.34 1794.2 1546.44 Q1790.72 1549.52 1784.4 1549.52 Q1782.23 1549.52 1779.96 1549.15 Q1777.72 1548.78 1775.31 1548.04 L1775.31 1543.34 Q1777.39 1544.47 1779.61 1545.03 Q1781.84 1545.58 1784.31 1545.58 Q1788.32 1545.58 1790.65 1543.48 Q1792.99 1541.37 1792.99 1537.76 Q1792.99 1534.15 1790.65 1532.04 Q1788.32 1529.94 1784.31 1529.94 Q1782.44 1529.94 1780.56 1530.35 Q1778.71 1530.77 1776.77 1531.65 L1776.77 1514.29 Z\" fill=\"#000000\" fill-rule=\"evenodd\" fill-opacity=\"1\" /><path clip-path=\"url(#clip890)\" d=\"M2266.77 1544.91 L2274.41 1544.91 L2274.41 1518.55 L2266.1 1520.21 L2266.1 1515.95 L2274.36 1514.29 L2279.04 1514.29 L2279.04 1544.91 L2286.68 1544.91 L2286.68 1548.85 L2266.77 1548.85 L2266.77 1544.91 Z\" fill=\"#000000\" fill-rule=\"evenodd\" fill-opacity=\"1\" /><path clip-path=\"url(#clip890)\" d=\"M2306.12 1517.37 Q2302.51 1517.37 2300.68 1520.93 Q2298.88 1524.47 2298.88 1531.6 Q2298.88 1538.71 2300.68 1542.27 Q2302.51 1545.82 2306.12 1545.82 Q2309.76 1545.82 2311.56 1542.27 Q2313.39 1538.71 2313.39 1531.6 Q2313.39 1524.47 2311.56 1520.93 Q2309.76 1517.37 2306.12 1517.37 M2306.12 1513.66 Q2311.93 1513.66 2314.99 1518.27 Q2318.07 1522.85 2318.07 1531.6 Q2318.07 1540.33 2314.99 1544.94 Q2311.93 1549.52 2306.12 1549.52 Q2300.31 1549.52 2297.23 1544.94 Q2294.18 1540.33 2294.18 1531.6 Q2294.18 1522.85 2297.23 1518.27 Q2300.31 1513.66 2306.12 1513.66 Z\" fill=\"#000000\" fill-rule=\"evenodd\" fill-opacity=\"1\" /><polyline clip-path=\"url(#clip892)\" style=\"stroke:#000000; stroke-linecap:round; stroke-linejoin:round; stroke-width:2; stroke-opacity:0.1; fill:none\" points=\"209.029,1370.63 2352.76,1370.63 \"/>\n",
       "<polyline clip-path=\"url(#clip892)\" style=\"stroke:#000000; stroke-linecap:round; stroke-linejoin:round; stroke-width:2; stroke-opacity:0.1; fill:none\" points=\"209.029,1147.63 2352.76,1147.63 \"/>\n",
       "<polyline clip-path=\"url(#clip892)\" style=\"stroke:#000000; stroke-linecap:round; stroke-linejoin:round; stroke-width:2; stroke-opacity:0.1; fill:none\" points=\"209.029,924.621 2352.76,924.621 \"/>\n",
       "<polyline clip-path=\"url(#clip892)\" style=\"stroke:#000000; stroke-linecap:round; stroke-linejoin:round; stroke-width:2; stroke-opacity:0.1; fill:none\" points=\"209.029,701.615 2352.76,701.615 \"/>\n",
       "<polyline clip-path=\"url(#clip892)\" style=\"stroke:#000000; stroke-linecap:round; stroke-linejoin:round; stroke-width:2; stroke-opacity:0.1; fill:none\" points=\"209.029,478.608 2352.76,478.608 \"/>\n",
       "<polyline clip-path=\"url(#clip892)\" style=\"stroke:#000000; stroke-linecap:round; stroke-linejoin:round; stroke-width:2; stroke-opacity:0.1; fill:none\" points=\"209.029,255.602 2352.76,255.602 \"/>\n",
       "<polyline clip-path=\"url(#clip890)\" style=\"stroke:#000000; stroke-linecap:round; stroke-linejoin:round; stroke-width:4; stroke-opacity:1; fill:none\" points=\"209.029,1486.45 209.029,47.2441 \"/>\n",
       "<polyline clip-path=\"url(#clip890)\" style=\"stroke:#000000; stroke-linecap:round; stroke-linejoin:round; stroke-width:4; stroke-opacity:1; fill:none\" points=\"209.029,1370.63 227.926,1370.63 \"/>\n",
       "<polyline clip-path=\"url(#clip890)\" style=\"stroke:#000000; stroke-linecap:round; stroke-linejoin:round; stroke-width:4; stroke-opacity:1; fill:none\" points=\"209.029,1147.63 227.926,1147.63 \"/>\n",
       "<polyline clip-path=\"url(#clip890)\" style=\"stroke:#000000; stroke-linecap:round; stroke-linejoin:round; stroke-width:4; stroke-opacity:1; fill:none\" points=\"209.029,924.621 227.926,924.621 \"/>\n",
       "<polyline clip-path=\"url(#clip890)\" style=\"stroke:#000000; stroke-linecap:round; stroke-linejoin:round; stroke-width:4; stroke-opacity:1; fill:none\" points=\"209.029,701.615 227.926,701.615 \"/>\n",
       "<polyline clip-path=\"url(#clip890)\" style=\"stroke:#000000; stroke-linecap:round; stroke-linejoin:round; stroke-width:4; stroke-opacity:1; fill:none\" points=\"209.029,478.608 227.926,478.608 \"/>\n",
       "<polyline clip-path=\"url(#clip890)\" style=\"stroke:#000000; stroke-linecap:round; stroke-linejoin:round; stroke-width:4; stroke-opacity:1; fill:none\" points=\"209.029,255.602 227.926,255.602 \"/>\n",
       "<path clip-path=\"url(#clip890)\" d=\"M50.9921 1371.09 L80.6679 1371.09 L80.6679 1375.02 L50.9921 1375.02 L50.9921 1371.09 Z\" fill=\"#000000\" fill-rule=\"evenodd\" fill-opacity=\"1\" /><path clip-path=\"url(#clip890)\" d=\"M91.5706 1383.98 L99.2095 1383.98 L99.2095 1357.61 L90.8993 1359.28 L90.8993 1355.02 L99.1632 1353.35 L103.839 1353.35 L103.839 1383.98 L111.478 1383.98 L111.478 1387.91 L91.5706 1387.91 L91.5706 1383.98 Z\" fill=\"#000000\" fill-rule=\"evenodd\" fill-opacity=\"1\" /><path clip-path=\"url(#clip890)\" d=\"M130.922 1356.43 Q127.311 1356.43 125.482 1360 Q123.677 1363.54 123.677 1370.67 Q123.677 1377.78 125.482 1381.34 Q127.311 1384.88 130.922 1384.88 Q134.556 1384.88 136.362 1381.34 Q138.191 1377.78 138.191 1370.67 Q138.191 1363.54 136.362 1360 Q134.556 1356.43 130.922 1356.43 M130.922 1352.73 Q136.732 1352.73 139.788 1357.34 Q142.867 1361.92 142.867 1370.67 Q142.867 1379.4 139.788 1384 Q136.732 1388.59 130.922 1388.59 Q125.112 1388.59 122.033 1384 Q118.978 1379.4 118.978 1370.67 Q118.978 1361.92 122.033 1357.34 Q125.112 1352.73 130.922 1352.73 Z\" fill=\"#000000\" fill-rule=\"evenodd\" fill-opacity=\"1\" /><path clip-path=\"url(#clip890)\" d=\"M161.084 1356.43 Q157.473 1356.43 155.644 1360 Q153.839 1363.54 153.839 1370.67 Q153.839 1377.78 155.644 1381.34 Q157.473 1384.88 161.084 1384.88 Q164.718 1384.88 166.524 1381.34 Q168.353 1377.78 168.353 1370.67 Q168.353 1363.54 166.524 1360 Q164.718 1356.43 161.084 1356.43 M161.084 1352.73 Q166.894 1352.73 169.95 1357.34 Q173.029 1361.92 173.029 1370.67 Q173.029 1379.4 169.95 1384 Q166.894 1388.59 161.084 1388.59 Q155.274 1388.59 152.195 1384 Q149.14 1379.4 149.14 1370.67 Q149.14 1361.92 152.195 1357.34 Q155.274 1352.73 161.084 1352.73 Z\" fill=\"#000000\" fill-rule=\"evenodd\" fill-opacity=\"1\" /><path clip-path=\"url(#clip890)\" d=\"M81.154 1148.08 L110.83 1148.08 L110.83 1152.01 L81.154 1152.01 L81.154 1148.08 Z\" fill=\"#000000\" fill-rule=\"evenodd\" fill-opacity=\"1\" /><path clip-path=\"url(#clip890)\" d=\"M120.969 1130.35 L139.325 1130.35 L139.325 1134.28 L125.251 1134.28 L125.251 1142.75 Q126.27 1142.41 127.288 1142.25 Q128.307 1142.06 129.325 1142.06 Q135.112 1142.06 138.492 1145.23 Q141.871 1148.4 141.871 1153.82 Q141.871 1159.4 138.399 1162.5 Q134.927 1165.58 128.607 1165.58 Q126.432 1165.58 124.163 1165.21 Q121.918 1164.84 119.51 1164.1 L119.51 1159.4 Q121.594 1160.53 123.816 1161.09 Q126.038 1161.64 128.515 1161.64 Q132.519 1161.64 134.857 1159.54 Q137.195 1157.43 137.195 1153.82 Q137.195 1150.21 134.857 1148.1 Q132.519 1146 128.515 1146 Q126.64 1146 124.765 1146.41 Q122.913 1146.83 120.969 1147.71 L120.969 1130.35 Z\" fill=\"#000000\" fill-rule=\"evenodd\" fill-opacity=\"1\" /><path clip-path=\"url(#clip890)\" d=\"M161.084 1133.43 Q157.473 1133.43 155.644 1136.99 Q153.839 1140.53 153.839 1147.66 Q153.839 1154.77 155.644 1158.33 Q157.473 1161.88 161.084 1161.88 Q164.718 1161.88 166.524 1158.33 Q168.353 1154.77 168.353 1147.66 Q168.353 1140.53 166.524 1136.99 Q164.718 1133.43 161.084 1133.43 M161.084 1129.72 Q166.894 1129.72 169.95 1134.33 Q173.029 1138.91 173.029 1147.66 Q173.029 1156.39 169.95 1161 Q166.894 1165.58 161.084 1165.58 Q155.274 1165.58 152.195 1161 Q149.14 1156.39 149.14 1147.66 Q149.14 1138.91 152.195 1134.33 Q155.274 1129.72 161.084 1129.72 Z\" fill=\"#000000\" fill-rule=\"evenodd\" fill-opacity=\"1\" /><path clip-path=\"url(#clip890)\" d=\"M161.084 910.42 Q157.473 910.42 155.644 913.985 Q153.839 917.526 153.839 924.656 Q153.839 931.762 155.644 935.327 Q157.473 938.869 161.084 938.869 Q164.718 938.869 166.524 935.327 Q168.353 931.762 168.353 924.656 Q168.353 917.526 166.524 913.985 Q164.718 910.42 161.084 910.42 M161.084 906.716 Q166.894 906.716 169.95 911.322 Q173.029 915.906 173.029 924.656 Q173.029 933.383 169.95 937.989 Q166.894 942.572 161.084 942.572 Q155.274 942.572 152.195 937.989 Q149.14 933.383 149.14 924.656 Q149.14 915.906 152.195 911.322 Q155.274 906.716 161.084 906.716 Z\" fill=\"#000000\" fill-rule=\"evenodd\" fill-opacity=\"1\" /><path clip-path=\"url(#clip890)\" d=\"M120.969 684.335 L139.325 684.335 L139.325 688.27 L125.251 688.27 L125.251 696.742 Q126.27 696.395 127.288 696.233 Q128.307 696.047 129.325 696.047 Q135.112 696.047 138.492 699.219 Q141.871 702.39 141.871 707.807 Q141.871 713.385 138.399 716.487 Q134.927 719.566 128.607 719.566 Q126.432 719.566 124.163 719.195 Q121.918 718.825 119.51 718.084 L119.51 713.385 Q121.594 714.52 123.816 715.075 Q126.038 715.631 128.515 715.631 Q132.519 715.631 134.857 713.524 Q137.195 711.418 137.195 707.807 Q137.195 704.196 134.857 702.089 Q132.519 699.983 128.515 699.983 Q126.64 699.983 124.765 700.399 Q122.913 700.816 120.969 701.696 L120.969 684.335 Z\" fill=\"#000000\" fill-rule=\"evenodd\" fill-opacity=\"1\" /><path clip-path=\"url(#clip890)\" d=\"M161.084 687.413 Q157.473 687.413 155.644 690.978 Q153.839 694.52 153.839 701.649 Q153.839 708.756 155.644 712.321 Q157.473 715.862 161.084 715.862 Q164.718 715.862 166.524 712.321 Q168.353 708.756 168.353 701.649 Q168.353 694.52 166.524 690.978 Q164.718 687.413 161.084 687.413 M161.084 683.71 Q166.894 683.71 169.95 688.316 Q173.029 692.899 173.029 701.649 Q173.029 710.376 169.95 714.983 Q166.894 719.566 161.084 719.566 Q155.274 719.566 152.195 714.983 Q149.14 710.376 149.14 701.649 Q149.14 692.899 152.195 688.316 Q155.274 683.71 161.084 683.71 Z\" fill=\"#000000\" fill-rule=\"evenodd\" fill-opacity=\"1\" /><path clip-path=\"url(#clip890)\" d=\"M91.5706 491.953 L99.2095 491.953 L99.2095 465.587 L90.8993 467.254 L90.8993 462.995 L99.1632 461.328 L103.839 461.328 L103.839 491.953 L111.478 491.953 L111.478 495.888 L91.5706 495.888 L91.5706 491.953 Z\" fill=\"#000000\" fill-rule=\"evenodd\" fill-opacity=\"1\" /><path clip-path=\"url(#clip890)\" d=\"M130.922 464.407 Q127.311 464.407 125.482 467.972 Q123.677 471.513 123.677 478.643 Q123.677 485.749 125.482 489.314 Q127.311 492.856 130.922 492.856 Q134.556 492.856 136.362 489.314 Q138.191 485.749 138.191 478.643 Q138.191 471.513 136.362 467.972 Q134.556 464.407 130.922 464.407 M130.922 460.703 Q136.732 460.703 139.788 465.31 Q142.867 469.893 142.867 478.643 Q142.867 487.37 139.788 491.976 Q136.732 496.559 130.922 496.559 Q125.112 496.559 122.033 491.976 Q118.978 487.37 118.978 478.643 Q118.978 469.893 122.033 465.31 Q125.112 460.703 130.922 460.703 Z\" fill=\"#000000\" fill-rule=\"evenodd\" fill-opacity=\"1\" /><path clip-path=\"url(#clip890)\" d=\"M161.084 464.407 Q157.473 464.407 155.644 467.972 Q153.839 471.513 153.839 478.643 Q153.839 485.749 155.644 489.314 Q157.473 492.856 161.084 492.856 Q164.718 492.856 166.524 489.314 Q168.353 485.749 168.353 478.643 Q168.353 471.513 166.524 467.972 Q164.718 464.407 161.084 464.407 M161.084 460.703 Q166.894 460.703 169.95 465.31 Q173.029 469.893 173.029 478.643 Q173.029 487.37 169.95 491.976 Q166.894 496.559 161.084 496.559 Q155.274 496.559 152.195 491.976 Q149.14 487.37 149.14 478.643 Q149.14 469.893 152.195 465.31 Q155.274 460.703 161.084 460.703 Z\" fill=\"#000000\" fill-rule=\"evenodd\" fill-opacity=\"1\" /><path clip-path=\"url(#clip890)\" d=\"M91.5706 268.946 L99.2095 268.946 L99.2095 242.581 L90.8993 244.248 L90.8993 239.988 L99.1632 238.322 L103.839 238.322 L103.839 268.946 L111.478 268.946 L111.478 272.882 L91.5706 272.882 L91.5706 268.946 Z\" fill=\"#000000\" fill-rule=\"evenodd\" fill-opacity=\"1\" /><path clip-path=\"url(#clip890)\" d=\"M120.969 238.322 L139.325 238.322 L139.325 242.257 L125.251 242.257 L125.251 250.729 Q126.27 250.382 127.288 250.22 Q128.307 250.035 129.325 250.035 Q135.112 250.035 138.492 253.206 Q141.871 256.377 141.871 261.794 Q141.871 267.372 138.399 270.474 Q134.927 273.553 128.607 273.553 Q126.432 273.553 124.163 273.183 Q121.918 272.812 119.51 272.071 L119.51 267.372 Q121.594 268.507 123.816 269.062 Q126.038 269.618 128.515 269.618 Q132.519 269.618 134.857 267.511 Q137.195 265.405 137.195 261.794 Q137.195 258.183 134.857 256.076 Q132.519 253.97 128.515 253.97 Q126.64 253.97 124.765 254.386 Q122.913 254.803 120.969 255.683 L120.969 238.322 Z\" fill=\"#000000\" fill-rule=\"evenodd\" fill-opacity=\"1\" /><path clip-path=\"url(#clip890)\" d=\"M161.084 241.4 Q157.473 241.4 155.644 244.965 Q153.839 248.507 153.839 255.636 Q153.839 262.743 155.644 266.308 Q157.473 269.849 161.084 269.849 Q164.718 269.849 166.524 266.308 Q168.353 262.743 168.353 255.636 Q168.353 248.507 166.524 244.965 Q164.718 241.4 161.084 241.4 M161.084 237.697 Q166.894 237.697 169.95 242.303 Q173.029 246.886 173.029 255.636 Q173.029 264.363 169.95 268.97 Q166.894 273.553 161.084 273.553 Q155.274 273.553 152.195 268.97 Q149.14 264.363 149.14 255.636 Q149.14 246.886 152.195 242.303 Q155.274 237.697 161.084 237.697 Z\" fill=\"#000000\" fill-rule=\"evenodd\" fill-opacity=\"1\" /><circle clip-path=\"url(#clip892)\" cx=\"269.7\" cy=\"184.156\" r=\"14.4\" fill=\"#009af9\" fill-rule=\"evenodd\" fill-opacity=\"1\" stroke=\"#000000\" stroke-opacity=\"1\" stroke-width=\"3.2\"/>\n",
       "<circle clip-path=\"url(#clip892)\" cx=\"370.819\" cy=\"584.056\" r=\"14.4\" fill=\"#009af9\" fill-rule=\"evenodd\" fill-opacity=\"1\" stroke=\"#000000\" stroke-opacity=\"1\" stroke-width=\"3.2\"/>\n",
       "<circle clip-path=\"url(#clip892)\" cx=\"471.938\" cy=\"810.545\" r=\"14.4\" fill=\"#009af9\" fill-rule=\"evenodd\" fill-opacity=\"1\" stroke=\"#000000\" stroke-opacity=\"1\" stroke-width=\"3.2\"/>\n",
       "<circle clip-path=\"url(#clip892)\" cx=\"573.058\" cy=\"928.047\" r=\"14.4\" fill=\"#009af9\" fill-rule=\"evenodd\" fill-opacity=\"1\" stroke=\"#000000\" stroke-opacity=\"1\" stroke-width=\"3.2\"/>\n",
       "<circle clip-path=\"url(#clip892)\" cx=\"674.177\" cy=\"592.083\" r=\"14.4\" fill=\"#009af9\" fill-rule=\"evenodd\" fill-opacity=\"1\" stroke=\"#000000\" stroke-opacity=\"1\" stroke-width=\"3.2\"/>\n",
       "<circle clip-path=\"url(#clip892)\" cx=\"775.296\" cy=\"1079.32\" r=\"14.4\" fill=\"#009af9\" fill-rule=\"evenodd\" fill-opacity=\"1\" stroke=\"#000000\" stroke-opacity=\"1\" stroke-width=\"3.2\"/>\n",
       "<circle clip-path=\"url(#clip892)\" cx=\"876.415\" cy=\"665.757\" r=\"14.4\" fill=\"#009af9\" fill-rule=\"evenodd\" fill-opacity=\"1\" stroke=\"#000000\" stroke-opacity=\"1\" stroke-width=\"3.2\"/>\n",
       "<circle clip-path=\"url(#clip892)\" cx=\"977.535\" cy=\"941.339\" r=\"14.4\" fill=\"#009af9\" fill-rule=\"evenodd\" fill-opacity=\"1\" stroke=\"#000000\" stroke-opacity=\"1\" stroke-width=\"3.2\"/>\n",
       "<circle clip-path=\"url(#clip892)\" cx=\"1078.65\" cy=\"802.374\" r=\"14.4\" fill=\"#009af9\" fill-rule=\"evenodd\" fill-opacity=\"1\" stroke=\"#000000\" stroke-opacity=\"1\" stroke-width=\"3.2\"/>\n",
       "<circle clip-path=\"url(#clip892)\" cx=\"1179.77\" cy=\"1129.37\" r=\"14.4\" fill=\"#009af9\" fill-rule=\"evenodd\" fill-opacity=\"1\" stroke=\"#000000\" stroke-opacity=\"1\" stroke-width=\"3.2\"/>\n",
       "<circle clip-path=\"url(#clip892)\" cx=\"1280.89\" cy=\"1109.35\" r=\"14.4\" fill=\"#009af9\" fill-rule=\"evenodd\" fill-opacity=\"1\" stroke=\"#000000\" stroke-opacity=\"1\" stroke-width=\"3.2\"/>\n",
       "<circle clip-path=\"url(#clip892)\" cx=\"1382.01\" cy=\"1150.68\" r=\"14.4\" fill=\"#009af9\" fill-rule=\"evenodd\" fill-opacity=\"1\" stroke=\"#000000\" stroke-opacity=\"1\" stroke-width=\"3.2\"/>\n",
       "<circle clip-path=\"url(#clip892)\" cx=\"1483.13\" cy=\"1445.72\" r=\"14.4\" fill=\"#009af9\" fill-rule=\"evenodd\" fill-opacity=\"1\" stroke=\"#000000\" stroke-opacity=\"1\" stroke-width=\"3.2\"/>\n",
       "<circle clip-path=\"url(#clip892)\" cx=\"1584.25\" cy=\"1031.46\" r=\"14.4\" fill=\"#009af9\" fill-rule=\"evenodd\" fill-opacity=\"1\" stroke=\"#000000\" stroke-opacity=\"1\" stroke-width=\"3.2\"/>\n",
       "<circle clip-path=\"url(#clip892)\" cx=\"1685.37\" cy=\"618.183\" r=\"14.4\" fill=\"#009af9\" fill-rule=\"evenodd\" fill-opacity=\"1\" stroke=\"#000000\" stroke-opacity=\"1\" stroke-width=\"3.2\"/>\n",
       "<circle clip-path=\"url(#clip892)\" cx=\"1786.49\" cy=\"806.377\" r=\"14.4\" fill=\"#009af9\" fill-rule=\"evenodd\" fill-opacity=\"1\" stroke=\"#000000\" stroke-opacity=\"1\" stroke-width=\"3.2\"/>\n",
       "<circle clip-path=\"url(#clip892)\" cx=\"1887.61\" cy=\"512.795\" r=\"14.4\" fill=\"#009af9\" fill-rule=\"evenodd\" fill-opacity=\"1\" stroke=\"#000000\" stroke-opacity=\"1\" stroke-width=\"3.2\"/>\n",
       "<circle clip-path=\"url(#clip892)\" cx=\"1988.73\" cy=\"811.786\" r=\"14.4\" fill=\"#009af9\" fill-rule=\"evenodd\" fill-opacity=\"1\" stroke=\"#000000\" stroke-opacity=\"1\" stroke-width=\"3.2\"/>\n",
       "<circle clip-path=\"url(#clip892)\" cx=\"2089.85\" cy=\"579.778\" r=\"14.4\" fill=\"#009af9\" fill-rule=\"evenodd\" fill-opacity=\"1\" stroke=\"#000000\" stroke-opacity=\"1\" stroke-width=\"3.2\"/>\n",
       "<circle clip-path=\"url(#clip892)\" cx=\"2190.97\" cy=\"613.88\" r=\"14.4\" fill=\"#009af9\" fill-rule=\"evenodd\" fill-opacity=\"1\" stroke=\"#000000\" stroke-opacity=\"1\" stroke-width=\"3.2\"/>\n",
       "<circle clip-path=\"url(#clip892)\" cx=\"2292.08\" cy=\"87.9763\" r=\"14.4\" fill=\"#009af9\" fill-rule=\"evenodd\" fill-opacity=\"1\" stroke=\"#000000\" stroke-opacity=\"1\" stroke-width=\"3.2\"/>\n",
       "<polyline clip-path=\"url(#clip892)\" style=\"stroke:#e26f46; stroke-linecap:round; stroke-linejoin:round; stroke-width:4; stroke-opacity:1; fill:none\" points=\"269.7,621.332 370.819,692.694 471.938,755.136 573.058,808.658 674.177,853.259 775.296,888.94 876.415,915.701 977.535,933.541 1078.65,942.462 1179.77,942.462 1280.89,933.541 1382.01,915.701 1483.13,888.94 1584.25,853.259 1685.37,808.658 1786.49,755.136 1887.61,692.694 1988.73,621.332 2089.85,541.05 2190.97,451.847 2292.08,353.724 \"/>\n",
       "<polyline clip-path=\"url(#clip892)\" style=\"stroke:#3da44d; stroke-linecap:round; stroke-linejoin:round; stroke-width:4; stroke-opacity:1; fill:none\" points=\"269.7,355.928 370.819,494.535 471.938,618.031 573.058,726.417 674.177,819.693 775.296,897.858 876.415,960.913 977.535,1008.86 1078.65,1041.69 1179.77,1059.41 1280.89,1062.03 1382.01,1049.53 1483.13,1021.92 1584.25,979.202 1685.37,921.373 1786.49,848.434 1887.61,760.384 1988.73,657.223 2089.85,538.952 2190.97,405.571 2292.08,257.079 \"/>\n",
       "<path clip-path=\"url(#clip890)\" d=\"M1840.05 1438.47 L2281.3 1438.47 L2281.3 1231.11 L1840.05 1231.11  Z\" fill=\"#ffffff\" fill-rule=\"evenodd\" fill-opacity=\"1\"/>\n",
       "<polyline clip-path=\"url(#clip890)\" style=\"stroke:#000000; stroke-linecap:round; stroke-linejoin:round; stroke-width:4; stroke-opacity:1; fill:none\" points=\"1840.05,1438.47 2281.3,1438.47 2281.3,1231.11 1840.05,1231.11 1840.05,1438.47 \"/>\n",
       "<circle clip-path=\"url(#clip890)\" cx=\"1935.33\" cy=\"1282.95\" r=\"23.04\" fill=\"#009af9\" fill-rule=\"evenodd\" fill-opacity=\"1\" stroke=\"#000000\" stroke-opacity=\"1\" stroke-width=\"5.12\"/>\n",
       "<path clip-path=\"url(#clip890)\" d=\"M2049.52 1278.24 L2049.52 1264.22 L2053.78 1264.22 L2053.78 1300.23 L2049.52 1300.23 L2049.52 1296.35 Q2048.17 1298.66 2046.11 1299.79 Q2044.08 1300.91 2041.21 1300.91 Q2036.51 1300.91 2033.55 1297.16 Q2030.61 1293.41 2030.61 1287.29 Q2030.61 1281.18 2033.55 1277.43 Q2036.51 1273.68 2041.21 1273.68 Q2044.08 1273.68 2046.11 1274.82 Q2048.17 1275.93 2049.52 1278.24 M2035 1287.29 Q2035 1291.99 2036.92 1294.68 Q2038.87 1297.34 2042.25 1297.34 Q2045.63 1297.34 2047.57 1294.68 Q2049.52 1291.99 2049.52 1287.29 Q2049.52 1282.6 2047.57 1279.93 Q2045.63 1277.25 2042.25 1277.25 Q2038.87 1277.25 2036.92 1279.93 Q2035 1282.6 2035 1287.29 Z\" fill=\"#000000\" fill-rule=\"evenodd\" fill-opacity=\"1\" /><path clip-path=\"url(#clip890)\" d=\"M2074.33 1287.2 Q2069.17 1287.2 2067.18 1288.38 Q2065.19 1289.56 2065.19 1292.41 Q2065.19 1294.68 2066.67 1296.02 Q2068.17 1297.34 2070.74 1297.34 Q2074.29 1297.34 2076.42 1294.84 Q2078.57 1292.32 2078.57 1288.15 L2078.57 1287.2 L2074.33 1287.2 M2082.83 1285.44 L2082.83 1300.23 L2078.57 1300.23 L2078.57 1296.3 Q2077.11 1298.66 2074.93 1299.79 Q2072.76 1300.91 2069.61 1300.91 Q2065.63 1300.91 2063.27 1298.68 Q2060.93 1296.44 2060.93 1292.69 Q2060.93 1288.31 2063.85 1286.09 Q2066.79 1283.87 2072.6 1283.87 L2078.57 1283.87 L2078.57 1283.45 Q2078.57 1280.51 2076.62 1278.92 Q2074.7 1277.29 2071.21 1277.29 Q2068.98 1277.29 2066.88 1277.83 Q2064.77 1278.36 2062.83 1279.42 L2062.83 1275.49 Q2065.17 1274.59 2067.36 1274.15 Q2069.56 1273.68 2071.65 1273.68 Q2077.27 1273.68 2080.05 1276.6 Q2082.83 1279.52 2082.83 1285.44 Z\" fill=\"#000000\" fill-rule=\"evenodd\" fill-opacity=\"1\" /><path clip-path=\"url(#clip890)\" d=\"M2095.81 1266.95 L2095.81 1274.31 L2104.59 1274.31 L2104.59 1277.62 L2095.81 1277.62 L2095.81 1291.69 Q2095.81 1294.86 2096.67 1295.77 Q2097.55 1296.67 2100.21 1296.67 L2104.59 1296.67 L2104.59 1300.23 L2100.21 1300.23 Q2095.28 1300.23 2093.41 1298.41 Q2091.53 1296.55 2091.53 1291.69 L2091.53 1277.62 L2088.41 1277.62 L2088.41 1274.31 L2091.53 1274.31 L2091.53 1266.95 L2095.81 1266.95 Z\" fill=\"#000000\" fill-rule=\"evenodd\" fill-opacity=\"1\" /><path clip-path=\"url(#clip890)\" d=\"M2121.97 1287.2 Q2116.81 1287.2 2114.82 1288.38 Q2112.83 1289.56 2112.83 1292.41 Q2112.83 1294.68 2114.31 1296.02 Q2115.81 1297.34 2118.38 1297.34 Q2121.92 1297.34 2124.05 1294.84 Q2126.21 1292.32 2126.21 1288.15 L2126.21 1287.2 L2121.97 1287.2 M2130.47 1285.44 L2130.47 1300.23 L2126.21 1300.23 L2126.21 1296.3 Q2124.75 1298.66 2122.57 1299.79 Q2120.4 1300.91 2117.25 1300.91 Q2113.27 1300.91 2110.91 1298.68 Q2108.57 1296.44 2108.57 1292.69 Q2108.57 1288.31 2111.48 1286.09 Q2114.42 1283.87 2120.23 1283.87 L2126.21 1283.87 L2126.21 1283.45 Q2126.21 1280.51 2124.26 1278.92 Q2122.34 1277.29 2118.85 1277.29 Q2116.62 1277.29 2114.52 1277.83 Q2112.41 1278.36 2110.47 1279.42 L2110.47 1275.49 Q2112.8 1274.59 2115 1274.15 Q2117.2 1273.68 2119.29 1273.68 Q2124.91 1273.68 2127.69 1276.6 Q2130.47 1279.52 2130.47 1285.44 Z\" fill=\"#000000\" fill-rule=\"evenodd\" fill-opacity=\"1\" /><polyline clip-path=\"url(#clip890)\" style=\"stroke:#e26f46; stroke-linecap:round; stroke-linejoin:round; stroke-width:4; stroke-opacity:1; fill:none\" points=\"1863.87,1334.79 2006.79,1334.79 \"/>\n",
       "<path clip-path=\"url(#clip890)\" d=\"M2030.61 1317.51 L2059.84 1317.51 L2059.84 1321.45 L2047.57 1321.45 L2047.57 1352.07 L2042.87 1352.07 L2042.87 1321.45 L2030.61 1321.45 L2030.61 1317.51 Z\" fill=\"#000000\" fill-rule=\"evenodd\" fill-opacity=\"1\" /><path clip-path=\"url(#clip890)\" d=\"M2072.23 1330.13 Q2071.51 1329.71 2070.65 1329.53 Q2069.82 1329.32 2068.8 1329.32 Q2065.19 1329.32 2063.24 1331.68 Q2061.32 1334.02 2061.32 1338.42 L2061.32 1352.07 L2057.04 1352.07 L2057.04 1326.15 L2061.32 1326.15 L2061.32 1330.18 Q2062.67 1327.82 2064.82 1326.68 Q2066.97 1325.52 2070.05 1325.52 Q2070.49 1325.52 2071.02 1325.59 Q2071.55 1325.64 2072.2 1325.76 L2072.23 1330.13 Z\" fill=\"#000000\" fill-rule=\"evenodd\" fill-opacity=\"1\" /><path clip-path=\"url(#clip890)\" d=\"M2076.25 1341.84 L2076.25 1326.15 L2080.51 1326.15 L2080.51 1341.68 Q2080.51 1345.36 2081.95 1347.21 Q2083.38 1349.04 2086.25 1349.04 Q2089.7 1349.04 2091.69 1346.84 Q2093.71 1344.64 2093.71 1340.85 L2093.71 1326.15 L2097.97 1326.15 L2097.97 1352.07 L2093.71 1352.07 L2093.71 1348.09 Q2092.16 1350.45 2090.1 1351.61 Q2088.06 1352.75 2085.35 1352.75 Q2080.88 1352.75 2078.57 1349.97 Q2076.25 1347.19 2076.25 1341.84 M2086.97 1325.52 L2086.97 1325.52 Z\" fill=\"#000000\" fill-rule=\"evenodd\" fill-opacity=\"1\" /><path clip-path=\"url(#clip890)\" d=\"M2128.92 1338.05 L2128.92 1340.13 L2109.33 1340.13 Q2109.61 1344.53 2111.97 1346.84 Q2114.35 1349.13 2118.59 1349.13 Q2121.04 1349.13 2123.34 1348.53 Q2125.65 1347.93 2127.92 1346.73 L2127.92 1350.75 Q2125.63 1351.73 2123.22 1352.24 Q2120.81 1352.75 2118.34 1352.75 Q2112.13 1352.75 2108.5 1349.13 Q2104.89 1345.52 2104.89 1339.37 Q2104.89 1333 2108.31 1329.27 Q2111.76 1325.52 2117.6 1325.52 Q2122.83 1325.52 2125.86 1328.9 Q2128.92 1332.26 2128.92 1338.05 M2124.66 1336.8 Q2124.61 1333.3 2122.69 1331.22 Q2120.79 1329.13 2117.64 1329.13 Q2114.08 1329.13 2111.92 1331.15 Q2109.79 1333.16 2109.47 1336.82 L2124.66 1336.8 Z\" fill=\"#000000\" fill-rule=\"evenodd\" fill-opacity=\"1\" /><path clip-path=\"url(#clip890)\" d=\"M2150.98 1316.06 L2155.23 1316.06 L2155.23 1352.07 L2150.98 1352.07 L2150.98 1316.06 Z\" fill=\"#000000\" fill-rule=\"evenodd\" fill-opacity=\"1\" /><path clip-path=\"url(#clip890)\" d=\"M2164.15 1326.15 L2168.41 1326.15 L2168.41 1352.07 L2164.15 1352.07 L2164.15 1326.15 M2164.15 1316.06 L2168.41 1316.06 L2168.41 1321.45 L2164.15 1321.45 L2164.15 1316.06 Z\" fill=\"#000000\" fill-rule=\"evenodd\" fill-opacity=\"1\" /><path clip-path=\"url(#clip890)\" d=\"M2198.87 1336.43 L2198.87 1352.07 L2194.61 1352.07 L2194.61 1336.57 Q2194.61 1332.88 2193.17 1331.06 Q2191.74 1329.23 2188.87 1329.23 Q2185.42 1329.23 2183.43 1331.43 Q2181.44 1333.63 2181.44 1337.42 L2181.44 1352.07 L2177.16 1352.07 L2177.16 1326.15 L2181.44 1326.15 L2181.44 1330.18 Q2182.97 1327.84 2185.03 1326.68 Q2187.11 1325.52 2189.82 1325.52 Q2194.29 1325.52 2196.58 1328.3 Q2198.87 1331.06 2198.87 1336.43 Z\" fill=\"#000000\" fill-rule=\"evenodd\" fill-opacity=\"1\" /><path clip-path=\"url(#clip890)\" d=\"M2229.54 1338.05 L2229.54 1340.13 L2209.96 1340.13 Q2210.23 1344.53 2212.6 1346.84 Q2214.98 1349.13 2219.22 1349.13 Q2221.67 1349.13 2223.96 1348.53 Q2226.28 1347.93 2228.54 1346.73 L2228.54 1350.75 Q2226.25 1351.73 2223.85 1352.24 Q2221.44 1352.75 2218.96 1352.75 Q2212.76 1352.75 2209.12 1349.13 Q2205.51 1345.52 2205.51 1339.37 Q2205.51 1333 2208.94 1329.27 Q2212.39 1325.52 2218.22 1325.52 Q2223.45 1325.52 2226.48 1328.9 Q2229.54 1332.26 2229.54 1338.05 M2225.28 1336.8 Q2225.23 1333.3 2223.31 1331.22 Q2221.41 1329.13 2218.27 1329.13 Q2214.7 1329.13 2212.55 1331.15 Q2210.42 1333.16 2210.1 1336.82 L2225.28 1336.8 Z\" fill=\"#000000\" fill-rule=\"evenodd\" fill-opacity=\"1\" /><polyline clip-path=\"url(#clip890)\" style=\"stroke:#3da44d; stroke-linecap:round; stroke-linejoin:round; stroke-width:4; stroke-opacity:1; fill:none\" points=\"1863.87,1386.63 2006.79,1386.63 \"/>\n",
       "<path clip-path=\"url(#clip890)\" d=\"M2030.61 1369.35 L2050.47 1369.35 L2050.47 1373.29 L2035.28 1373.29 L2035.28 1383.47 L2048.98 1383.47 L2048.98 1387.41 L2035.28 1387.41 L2035.28 1403.91 L2030.61 1403.91 L2030.61 1369.35 Z\" fill=\"#000000\" fill-rule=\"evenodd\" fill-opacity=\"1\" /><path clip-path=\"url(#clip890)\" d=\"M2054.24 1377.99 L2058.5 1377.99 L2058.5 1403.91 L2054.24 1403.91 L2054.24 1377.99 M2054.24 1367.9 L2058.5 1367.9 L2058.5 1373.29 L2054.24 1373.29 L2054.24 1367.9 Z\" fill=\"#000000\" fill-rule=\"evenodd\" fill-opacity=\"1\" /><path clip-path=\"url(#clip890)\" d=\"M2071.62 1370.63 L2071.62 1377.99 L2080.4 1377.99 L2080.4 1381.3 L2071.62 1381.3 L2071.62 1395.37 Q2071.62 1398.54 2072.48 1399.45 Q2073.36 1400.35 2076.02 1400.35 L2080.4 1400.35 L2080.4 1403.91 L2076.02 1403.91 Q2071.09 1403.91 2069.22 1402.09 Q2067.34 1400.23 2067.34 1395.37 L2067.34 1381.3 L2064.22 1381.3 L2064.22 1377.99 L2067.34 1377.99 L2067.34 1370.63 L2071.62 1370.63 Z\" fill=\"#000000\" fill-rule=\"evenodd\" fill-opacity=\"1\" /><path clip-path=\"url(#clip890)\" d=\"M2090.21 1370.63 L2090.21 1377.99 L2098.98 1377.99 L2098.98 1381.3 L2090.21 1381.3 L2090.21 1395.37 Q2090.21 1398.54 2091.07 1399.45 Q2091.95 1400.35 2094.61 1400.35 L2098.98 1400.35 L2098.98 1403.91 L2094.61 1403.91 Q2089.68 1403.91 2087.8 1402.09 Q2085.93 1400.23 2085.93 1395.37 L2085.93 1381.3 L2082.8 1381.3 L2082.8 1377.99 L2085.93 1377.99 L2085.93 1370.63 L2090.21 1370.63 Z\" fill=\"#000000\" fill-rule=\"evenodd\" fill-opacity=\"1\" /><path clip-path=\"url(#clip890)\" d=\"M2126.76 1389.89 L2126.76 1391.97 L2107.18 1391.97 Q2107.46 1396.37 2109.82 1398.68 Q2112.2 1400.97 2116.44 1400.97 Q2118.89 1400.97 2121.18 1400.37 Q2123.5 1399.77 2125.77 1398.57 L2125.77 1402.59 Q2123.48 1403.57 2121.07 1404.08 Q2118.66 1404.59 2116.18 1404.59 Q2109.98 1404.59 2106.35 1400.97 Q2102.73 1397.36 2102.73 1391.21 Q2102.73 1384.84 2106.16 1381.11 Q2109.61 1377.36 2115.44 1377.36 Q2120.67 1377.36 2123.71 1380.74 Q2126.76 1384.1 2126.76 1389.89 M2122.5 1388.64 Q2122.46 1385.14 2120.54 1383.06 Q2118.64 1380.97 2115.49 1380.97 Q2111.92 1380.97 2109.77 1382.99 Q2107.64 1385 2107.32 1388.66 L2122.5 1388.64 Z\" fill=\"#000000\" fill-rule=\"evenodd\" fill-opacity=\"1\" /><path clip-path=\"url(#clip890)\" d=\"M2150.81 1381.92 L2150.81 1367.9 L2155.07 1367.9 L2155.07 1403.91 L2150.81 1403.91 L2150.81 1400.03 Q2149.47 1402.34 2147.41 1403.47 Q2145.37 1404.59 2142.5 1404.59 Q2137.8 1404.59 2134.84 1400.84 Q2131.9 1397.09 2131.9 1390.97 Q2131.9 1384.86 2134.84 1381.11 Q2137.8 1377.36 2142.5 1377.36 Q2145.37 1377.36 2147.41 1378.5 Q2149.47 1379.61 2150.81 1381.92 M2136.3 1390.97 Q2136.3 1395.67 2138.22 1398.36 Q2140.16 1401.02 2143.54 1401.02 Q2146.92 1401.02 2148.87 1398.36 Q2150.81 1395.67 2150.81 1390.97 Q2150.81 1386.28 2148.87 1383.61 Q2146.92 1380.93 2143.54 1380.93 Q2140.16 1380.93 2138.22 1383.61 Q2136.3 1386.28 2136.3 1390.97 Z\" fill=\"#000000\" fill-rule=\"evenodd\" fill-opacity=\"1\" /><path clip-path=\"url(#clip890)\" d=\"M2178.91 1367.9 L2183.17 1367.9 L2183.17 1403.91 L2178.91 1403.91 L2178.91 1367.9 Z\" fill=\"#000000\" fill-rule=\"evenodd\" fill-opacity=\"1\" /><path clip-path=\"url(#clip890)\" d=\"M2192.09 1377.99 L2196.35 1377.99 L2196.35 1403.91 L2192.09 1403.91 L2192.09 1377.99 M2192.09 1367.9 L2196.35 1367.9 L2196.35 1373.29 L2192.09 1373.29 L2192.09 1367.9 Z\" fill=\"#000000\" fill-rule=\"evenodd\" fill-opacity=\"1\" /><path clip-path=\"url(#clip890)\" d=\"M2226.81 1388.27 L2226.81 1403.91 L2222.55 1403.91 L2222.55 1388.41 Q2222.55 1384.72 2221.11 1382.9 Q2219.68 1381.07 2216.81 1381.07 Q2213.36 1381.07 2211.37 1383.27 Q2209.38 1385.47 2209.38 1389.26 L2209.38 1403.91 L2205.1 1403.91 L2205.1 1377.99 L2209.38 1377.99 L2209.38 1382.02 Q2210.91 1379.68 2212.97 1378.52 Q2215.05 1377.36 2217.76 1377.36 Q2222.22 1377.36 2224.52 1380.14 Q2226.81 1382.9 2226.81 1388.27 Z\" fill=\"#000000\" fill-rule=\"evenodd\" fill-opacity=\"1\" /><path clip-path=\"url(#clip890)\" d=\"M2257.48 1389.89 L2257.48 1391.97 L2237.9 1391.97 Q2238.17 1396.37 2240.53 1398.68 Q2242.92 1400.97 2247.16 1400.97 Q2249.61 1400.97 2251.9 1400.37 Q2254.22 1399.77 2256.48 1398.57 L2256.48 1402.59 Q2254.19 1403.57 2251.78 1404.08 Q2249.38 1404.59 2246.9 1404.59 Q2240.7 1404.59 2237.06 1400.97 Q2233.45 1397.36 2233.45 1391.21 Q2233.45 1384.84 2236.88 1381.11 Q2240.33 1377.36 2246.16 1377.36 Q2251.39 1377.36 2254.42 1380.74 Q2257.48 1384.1 2257.48 1389.89 M2253.22 1388.64 Q2253.17 1385.14 2251.25 1383.06 Q2249.35 1380.97 2246.21 1380.97 Q2242.64 1380.97 2240.49 1382.99 Q2238.36 1385 2238.03 1388.66 L2253.22 1388.64 Z\" fill=\"#000000\" fill-rule=\"evenodd\" fill-opacity=\"1\" /></svg>\n"
      ]
     },
     "execution_count": 67,
     "metadata": {},
     "output_type": "execute_result"
    }
   ],
   "source": [
    "x2=-10:10\n",
    "collect(x2)\n",
    "y_true2 = x2.^2 .+ 3 .*x2 .- 2\n",
    "d2=50\n",
    "noise2 = di.Normal(0,d2)\n",
    "y_observed2 = y_true2 + rand(noise2,length(x2))\n",
    "scatter(x2,y_observed2)\n",
    "plot!(x2,y_true2)\n",
    "line_fit2 = fit(x2,y_observed2,2)\n",
    "fit_coeff2 = coeffs(line_fit2) \n",
    "y_fitted2=fit_coeff2[1] .+ (fit_coeff2[2].*(x2)) .+ (fit_coeff2[3] .*(x2.^2))\n",
    "scatter(x2,y_observed2, label=\"data\")\n",
    "plot!(x2,y_true2, label=\"True line\")\n",
    "plot!(x2,y_fitted2,label=\"Fitted line\")"
   ]
  },
  {
   "cell_type": "markdown",
   "id": "ab12acbd",
   "metadata": {},
   "source": [
    "2. Compare the plot with the plot in 2.3. Is the fit closer to y_true or not, and why?"
   ]
  },
  {
   "cell_type": "markdown",
   "id": "a34fcca4",
   "metadata": {},
   "source": [
    "The fitted line is not closer to true value that means it has large Standard Deviation noise than 2.2 graph."
   ]
  },
  {
   "cell_type": "markdown",
   "id": "5fd1d93b",
   "metadata": {},
   "source": [
    "### 2.5\n",
    "\n",
    "#### Repeat 2.2 and 2.3 with a tenth order polynomial fit\n"
   ]
  },
  {
   "cell_type": "code",
   "execution_count": 68,
   "id": "b6dbd546",
   "metadata": {},
   "outputs": [
    {
     "data": {
      "image/svg+xml": [
       "<?xml version=\"1.0\" encoding=\"utf-8\"?>\n",
       "<svg xmlns=\"http://www.w3.org/2000/svg\" xmlns:xlink=\"http://www.w3.org/1999/xlink\" width=\"600\" height=\"400\" viewBox=\"0 0 2400 1600\">\n",
       "<defs>\n",
       "  <clipPath id=\"clip930\">\n",
       "    <rect x=\"0\" y=\"0\" width=\"2400\" height=\"1600\"/>\n",
       "  </clipPath>\n",
       "</defs>\n",
       "<path clip-path=\"url(#clip930)\" d=\"M0 1600 L2400 1600 L2400 0 L0 0  Z\" fill=\"#ffffff\" fill-rule=\"evenodd\" fill-opacity=\"1\"/>\n",
       "<defs>\n",
       "  <clipPath id=\"clip931\">\n",
       "    <rect x=\"480\" y=\"0\" width=\"1681\" height=\"1600\"/>\n",
       "  </clipPath>\n",
       "</defs>\n",
       "<path clip-path=\"url(#clip930)\" d=\"M169.121 1486.45 L2352.76 1486.45 L2352.76 47.2441 L169.121 47.2441  Z\" fill=\"#ffffff\" fill-rule=\"evenodd\" fill-opacity=\"1\"/>\n",
       "<defs>\n",
       "  <clipPath id=\"clip932\">\n",
       "    <rect x=\"169\" y=\"47\" width=\"2185\" height=\"1440\"/>\n",
       "  </clipPath>\n",
       "</defs>\n",
       "<polyline clip-path=\"url(#clip932)\" style=\"stroke:#000000; stroke-linecap:round; stroke-linejoin:round; stroke-width:2; stroke-opacity:0.1; fill:none\" points=\"230.922,1486.45 230.922,47.2441 \"/>\n",
       "<polyline clip-path=\"url(#clip932)\" style=\"stroke:#000000; stroke-linecap:round; stroke-linejoin:round; stroke-width:2; stroke-opacity:0.1; fill:none\" points=\"745.93,1486.45 745.93,47.2441 \"/>\n",
       "<polyline clip-path=\"url(#clip932)\" style=\"stroke:#000000; stroke-linecap:round; stroke-linejoin:round; stroke-width:2; stroke-opacity:0.1; fill:none\" points=\"1260.94,1486.45 1260.94,47.2441 \"/>\n",
       "<polyline clip-path=\"url(#clip932)\" style=\"stroke:#000000; stroke-linecap:round; stroke-linejoin:round; stroke-width:2; stroke-opacity:0.1; fill:none\" points=\"1775.95,1486.45 1775.95,47.2441 \"/>\n",
       "<polyline clip-path=\"url(#clip932)\" style=\"stroke:#000000; stroke-linecap:round; stroke-linejoin:round; stroke-width:2; stroke-opacity:0.1; fill:none\" points=\"2290.95,1486.45 2290.95,47.2441 \"/>\n",
       "<polyline clip-path=\"url(#clip930)\" style=\"stroke:#000000; stroke-linecap:round; stroke-linejoin:round; stroke-width:4; stroke-opacity:1; fill:none\" points=\"169.121,1486.45 2352.76,1486.45 \"/>\n",
       "<polyline clip-path=\"url(#clip930)\" style=\"stroke:#000000; stroke-linecap:round; stroke-linejoin:round; stroke-width:4; stroke-opacity:1; fill:none\" points=\"230.922,1486.45 230.922,1467.55 \"/>\n",
       "<polyline clip-path=\"url(#clip930)\" style=\"stroke:#000000; stroke-linecap:round; stroke-linejoin:round; stroke-width:4; stroke-opacity:1; fill:none\" points=\"745.93,1486.45 745.93,1467.55 \"/>\n",
       "<polyline clip-path=\"url(#clip930)\" style=\"stroke:#000000; stroke-linecap:round; stroke-linejoin:round; stroke-width:4; stroke-opacity:1; fill:none\" points=\"1260.94,1486.45 1260.94,1467.55 \"/>\n",
       "<polyline clip-path=\"url(#clip930)\" style=\"stroke:#000000; stroke-linecap:round; stroke-linejoin:round; stroke-width:4; stroke-opacity:1; fill:none\" points=\"1775.95,1486.45 1775.95,1467.55 \"/>\n",
       "<polyline clip-path=\"url(#clip930)\" style=\"stroke:#000000; stroke-linecap:round; stroke-linejoin:round; stroke-width:4; stroke-opacity:1; fill:none\" points=\"2290.95,1486.45 2290.95,1467.55 \"/>\n",
       "<path clip-path=\"url(#clip930)\" d=\"M184.985 1532.02 L214.661 1532.02 L214.661 1535.95 L184.985 1535.95 L184.985 1532.02 Z\" fill=\"#000000\" fill-rule=\"evenodd\" fill-opacity=\"1\" /><path clip-path=\"url(#clip930)\" d=\"M225.564 1544.91 L233.202 1544.91 L233.202 1518.55 L224.892 1520.21 L224.892 1515.95 L233.156 1514.29 L237.832 1514.29 L237.832 1544.91 L245.471 1544.91 L245.471 1548.85 L225.564 1548.85 L225.564 1544.91 Z\" fill=\"#000000\" fill-rule=\"evenodd\" fill-opacity=\"1\" /><path clip-path=\"url(#clip930)\" d=\"M264.915 1517.37 Q261.304 1517.37 259.475 1520.93 Q257.67 1524.47 257.67 1531.6 Q257.67 1538.71 259.475 1542.27 Q261.304 1545.82 264.915 1545.82 Q268.549 1545.82 270.355 1542.27 Q272.184 1538.71 272.184 1531.6 Q272.184 1524.47 270.355 1520.93 Q268.549 1517.37 264.915 1517.37 M264.915 1513.66 Q270.725 1513.66 273.781 1518.27 Q276.86 1522.85 276.86 1531.6 Q276.86 1540.33 273.781 1544.94 Q270.725 1549.52 264.915 1549.52 Q259.105 1549.52 256.026 1544.94 Q252.971 1540.33 252.971 1531.6 Q252.971 1522.85 256.026 1518.27 Q259.105 1513.66 264.915 1513.66 Z\" fill=\"#000000\" fill-rule=\"evenodd\" fill-opacity=\"1\" /><path clip-path=\"url(#clip930)\" d=\"M715.572 1532.02 L745.248 1532.02 L745.248 1535.95 L715.572 1535.95 L715.572 1532.02 Z\" fill=\"#000000\" fill-rule=\"evenodd\" fill-opacity=\"1\" /><path clip-path=\"url(#clip930)\" d=\"M755.386 1514.29 L773.743 1514.29 L773.743 1518.22 L759.669 1518.22 L759.669 1526.7 Q760.687 1526.35 761.706 1526.19 Q762.724 1526 763.743 1526 Q769.53 1526 772.909 1529.17 Q776.289 1532.34 776.289 1537.76 Q776.289 1543.34 772.817 1546.44 Q769.345 1549.52 763.025 1549.52 Q760.849 1549.52 758.581 1549.15 Q756.335 1548.78 753.928 1548.04 L753.928 1543.34 Q756.011 1544.47 758.234 1545.03 Q760.456 1545.58 762.933 1545.58 Q766.937 1545.58 769.275 1543.48 Q771.613 1541.37 771.613 1537.76 Q771.613 1534.15 769.275 1532.04 Q766.937 1529.94 762.933 1529.94 Q761.058 1529.94 759.183 1530.35 Q757.331 1530.77 755.386 1531.65 L755.386 1514.29 Z\" fill=\"#000000\" fill-rule=\"evenodd\" fill-opacity=\"1\" /><path clip-path=\"url(#clip930)\" d=\"M1260.94 1517.37 Q1257.33 1517.37 1255.5 1520.93 Q1253.69 1524.47 1253.69 1531.6 Q1253.69 1538.71 1255.5 1542.27 Q1257.33 1545.82 1260.94 1545.82 Q1264.57 1545.82 1266.38 1542.27 Q1268.21 1538.71 1268.21 1531.6 Q1268.21 1524.47 1266.38 1520.93 Q1264.57 1517.37 1260.94 1517.37 M1260.94 1513.66 Q1266.75 1513.66 1269.8 1518.27 Q1272.88 1522.85 1272.88 1531.6 Q1272.88 1540.33 1269.8 1544.94 Q1266.75 1549.52 1260.94 1549.52 Q1255.13 1549.52 1252.05 1544.94 Q1248.99 1540.33 1248.99 1531.6 Q1248.99 1522.85 1252.05 1518.27 Q1255.13 1513.66 1260.94 1513.66 Z\" fill=\"#000000\" fill-rule=\"evenodd\" fill-opacity=\"1\" /><path clip-path=\"url(#clip930)\" d=\"M1766.22 1514.29 L1784.58 1514.29 L1784.58 1518.22 L1770.51 1518.22 L1770.51 1526.7 Q1771.53 1526.35 1772.54 1526.19 Q1773.56 1526 1774.58 1526 Q1780.37 1526 1783.75 1529.17 Q1787.13 1532.34 1787.13 1537.76 Q1787.13 1543.34 1783.66 1546.44 Q1780.18 1549.52 1773.86 1549.52 Q1771.69 1549.52 1769.42 1549.15 Q1767.17 1548.78 1764.77 1548.04 L1764.77 1543.34 Q1766.85 1544.47 1769.07 1545.03 Q1771.29 1545.58 1773.77 1545.58 Q1777.78 1545.58 1780.11 1543.48 Q1782.45 1541.37 1782.45 1537.76 Q1782.45 1534.15 1780.11 1532.04 Q1777.78 1529.94 1773.77 1529.94 Q1771.9 1529.94 1770.02 1530.35 Q1768.17 1530.77 1766.22 1531.65 L1766.22 1514.29 Z\" fill=\"#000000\" fill-rule=\"evenodd\" fill-opacity=\"1\" /><path clip-path=\"url(#clip930)\" d=\"M2265.64 1544.91 L2273.28 1544.91 L2273.28 1518.55 L2264.97 1520.21 L2264.97 1515.95 L2273.24 1514.29 L2277.91 1514.29 L2277.91 1544.91 L2285.55 1544.91 L2285.55 1548.85 L2265.64 1548.85 L2265.64 1544.91 Z\" fill=\"#000000\" fill-rule=\"evenodd\" fill-opacity=\"1\" /><path clip-path=\"url(#clip930)\" d=\"M2304.99 1517.37 Q2301.38 1517.37 2299.55 1520.93 Q2297.75 1524.47 2297.75 1531.6 Q2297.75 1538.71 2299.55 1542.27 Q2301.38 1545.82 2304.99 1545.82 Q2308.63 1545.82 2310.43 1542.27 Q2312.26 1538.71 2312.26 1531.6 Q2312.26 1524.47 2310.43 1520.93 Q2308.63 1517.37 2304.99 1517.37 M2304.99 1513.66 Q2310.8 1513.66 2313.86 1518.27 Q2316.94 1522.85 2316.94 1531.6 Q2316.94 1540.33 2313.86 1544.94 Q2310.8 1549.52 2304.99 1549.52 Q2299.18 1549.52 2296.11 1544.94 Q2293.05 1540.33 2293.05 1531.6 Q2293.05 1522.85 2296.11 1518.27 Q2299.18 1513.66 2304.99 1513.66 Z\" fill=\"#000000\" fill-rule=\"evenodd\" fill-opacity=\"1\" /><polyline clip-path=\"url(#clip932)\" style=\"stroke:#000000; stroke-linecap:round; stroke-linejoin:round; stroke-width:2; stroke-opacity:0.1; fill:none\" points=\"169.121,1398.75 2352.76,1398.75 \"/>\n",
       "<polyline clip-path=\"url(#clip932)\" style=\"stroke:#000000; stroke-linecap:round; stroke-linejoin:round; stroke-width:2; stroke-opacity:0.1; fill:none\" points=\"169.121,1193.94 2352.76,1193.94 \"/>\n",
       "<polyline clip-path=\"url(#clip932)\" style=\"stroke:#000000; stroke-linecap:round; stroke-linejoin:round; stroke-width:2; stroke-opacity:0.1; fill:none\" points=\"169.121,989.133 2352.76,989.133 \"/>\n",
       "<polyline clip-path=\"url(#clip932)\" style=\"stroke:#000000; stroke-linecap:round; stroke-linejoin:round; stroke-width:2; stroke-opacity:0.1; fill:none\" points=\"169.121,784.325 2352.76,784.325 \"/>\n",
       "<polyline clip-path=\"url(#clip932)\" style=\"stroke:#000000; stroke-linecap:round; stroke-linejoin:round; stroke-width:2; stroke-opacity:0.1; fill:none\" points=\"169.121,579.516 2352.76,579.516 \"/>\n",
       "<polyline clip-path=\"url(#clip932)\" style=\"stroke:#000000; stroke-linecap:round; stroke-linejoin:round; stroke-width:2; stroke-opacity:0.1; fill:none\" points=\"169.121,374.708 2352.76,374.708 \"/>\n",
       "<polyline clip-path=\"url(#clip932)\" style=\"stroke:#000000; stroke-linecap:round; stroke-linejoin:round; stroke-width:2; stroke-opacity:0.1; fill:none\" points=\"169.121,169.9 2352.76,169.9 \"/>\n",
       "<polyline clip-path=\"url(#clip930)\" style=\"stroke:#000000; stroke-linecap:round; stroke-linejoin:round; stroke-width:4; stroke-opacity:1; fill:none\" points=\"169.121,1486.45 169.121,47.2441 \"/>\n",
       "<polyline clip-path=\"url(#clip930)\" style=\"stroke:#000000; stroke-linecap:round; stroke-linejoin:round; stroke-width:4; stroke-opacity:1; fill:none\" points=\"169.121,1398.75 188.019,1398.75 \"/>\n",
       "<polyline clip-path=\"url(#clip930)\" style=\"stroke:#000000; stroke-linecap:round; stroke-linejoin:round; stroke-width:4; stroke-opacity:1; fill:none\" points=\"169.121,1193.94 188.019,1193.94 \"/>\n",
       "<polyline clip-path=\"url(#clip930)\" style=\"stroke:#000000; stroke-linecap:round; stroke-linejoin:round; stroke-width:4; stroke-opacity:1; fill:none\" points=\"169.121,989.133 188.019,989.133 \"/>\n",
       "<polyline clip-path=\"url(#clip930)\" style=\"stroke:#000000; stroke-linecap:round; stroke-linejoin:round; stroke-width:4; stroke-opacity:1; fill:none\" points=\"169.121,784.325 188.019,784.325 \"/>\n",
       "<polyline clip-path=\"url(#clip930)\" style=\"stroke:#000000; stroke-linecap:round; stroke-linejoin:round; stroke-width:4; stroke-opacity:1; fill:none\" points=\"169.121,579.516 188.019,579.516 \"/>\n",
       "<polyline clip-path=\"url(#clip930)\" style=\"stroke:#000000; stroke-linecap:round; stroke-linejoin:round; stroke-width:4; stroke-opacity:1; fill:none\" points=\"169.121,374.708 188.019,374.708 \"/>\n",
       "<polyline clip-path=\"url(#clip930)\" style=\"stroke:#000000; stroke-linecap:round; stroke-linejoin:round; stroke-width:4; stroke-opacity:1; fill:none\" points=\"169.121,169.9 188.019,169.9 \"/>\n",
       "<path clip-path=\"url(#clip930)\" d=\"M121.177 1384.55 Q117.566 1384.55 115.737 1388.11 Q113.932 1391.66 113.932 1398.78 Q113.932 1405.89 115.737 1409.46 Q117.566 1413 121.177 1413 Q124.811 1413 126.617 1409.46 Q128.445 1405.89 128.445 1398.78 Q128.445 1391.66 126.617 1388.11 Q124.811 1384.55 121.177 1384.55 M121.177 1380.85 Q126.987 1380.85 130.043 1385.45 Q133.121 1390.03 133.121 1398.78 Q133.121 1407.51 130.043 1412.12 Q126.987 1416.7 121.177 1416.7 Q115.367 1416.7 112.288 1412.12 Q109.233 1407.51 109.233 1398.78 Q109.233 1390.03 112.288 1385.45 Q115.367 1380.85 121.177 1380.85 Z\" fill=\"#000000\" fill-rule=\"evenodd\" fill-opacity=\"1\" /><path clip-path=\"url(#clip930)\" d=\"M85.0429 1207.29 L101.362 1207.29 L101.362 1211.22 L79.4179 1211.22 L79.4179 1207.29 Q82.0799 1204.53 86.6632 1199.9 Q91.2697 1195.25 92.4502 1193.91 Q94.6956 1191.38 95.5752 1189.65 Q96.478 1187.89 96.478 1186.2 Q96.478 1183.44 94.5336 1181.71 Q92.6123 1179.97 89.5104 1179.97 Q87.3114 1179.97 84.8577 1180.74 Q82.4271 1181.5 79.6494 1183.05 L79.6494 1178.33 Q82.4734 1177.19 84.9271 1176.62 Q87.3808 1176.04 89.4178 1176.04 Q94.7882 1176.04 97.9826 1178.72 Q101.177 1181.41 101.177 1185.9 Q101.177 1188.03 100.367 1189.95 Q99.5798 1191.85 97.4734 1194.44 Q96.8947 1195.11 93.7928 1198.33 Q90.691 1201.52 85.0429 1207.29 Z\" fill=\"#000000\" fill-rule=\"evenodd\" fill-opacity=\"1\" /><path clip-path=\"url(#clip930)\" d=\"M121.177 1179.74 Q117.566 1179.74 115.737 1183.31 Q113.932 1186.85 113.932 1193.98 Q113.932 1201.08 115.737 1204.65 Q117.566 1208.19 121.177 1208.19 Q124.811 1208.19 126.617 1204.65 Q128.445 1201.08 128.445 1193.98 Q128.445 1186.85 126.617 1183.31 Q124.811 1179.74 121.177 1179.74 M121.177 1176.04 Q126.987 1176.04 130.043 1180.64 Q133.121 1185.23 133.121 1193.98 Q133.121 1202.7 130.043 1207.31 Q126.987 1211.89 121.177 1211.89 Q115.367 1211.89 112.288 1207.31 Q109.233 1202.7 109.233 1193.98 Q109.233 1185.23 112.288 1180.64 Q115.367 1176.04 121.177 1176.04 Z\" fill=\"#000000\" fill-rule=\"evenodd\" fill-opacity=\"1\" /><path clip-path=\"url(#clip930)\" d=\"M93.8623 975.927 L82.0568 994.376 L93.8623 994.376 L93.8623 975.927 M92.6354 971.853 L98.515 971.853 L98.515 994.376 L103.446 994.376 L103.446 998.265 L98.515 998.265 L98.515 1006.41 L93.8623 1006.41 L93.8623 998.265 L78.2605 998.265 L78.2605 993.751 L92.6354 971.853 Z\" fill=\"#000000\" fill-rule=\"evenodd\" fill-opacity=\"1\" /><path clip-path=\"url(#clip930)\" d=\"M121.177 974.932 Q117.566 974.932 115.737 978.497 Q113.932 982.038 113.932 989.168 Q113.932 996.275 115.737 999.839 Q117.566 1003.38 121.177 1003.38 Q124.811 1003.38 126.617 999.839 Q128.445 996.275 128.445 989.168 Q128.445 982.038 126.617 978.497 Q124.811 974.932 121.177 974.932 M121.177 971.228 Q126.987 971.228 130.043 975.835 Q133.121 980.418 133.121 989.168 Q133.121 997.895 130.043 1002.5 Q126.987 1007.08 121.177 1007.08 Q115.367 1007.08 112.288 1002.5 Q109.233 997.895 109.233 989.168 Q109.233 980.418 112.288 975.835 Q115.367 971.228 121.177 971.228 Z\" fill=\"#000000\" fill-rule=\"evenodd\" fill-opacity=\"1\" /><path clip-path=\"url(#clip930)\" d=\"M91.5938 782.461 Q88.4456 782.461 86.5938 784.614 Q84.7651 786.767 84.7651 790.517 Q84.7651 794.244 86.5938 796.42 Q88.4456 798.573 91.5938 798.573 Q94.7419 798.573 96.5706 796.42 Q98.4224 794.244 98.4224 790.517 Q98.4224 786.767 96.5706 784.614 Q94.7419 782.461 91.5938 782.461 M100.876 767.809 L100.876 772.068 Q99.1169 771.235 97.3113 770.795 Q95.5289 770.355 93.7697 770.355 Q89.1401 770.355 86.6864 773.48 Q84.2558 776.605 83.9086 782.924 Q85.2743 780.911 87.3345 779.846 Q89.3947 778.758 91.8715 778.758 Q97.0798 778.758 100.089 781.929 Q103.121 785.077 103.121 790.517 Q103.121 795.841 99.9733 799.059 Q96.8252 802.276 91.5938 802.276 Q85.5984 802.276 82.4271 797.693 Q79.2559 793.086 79.2559 784.36 Q79.2559 776.165 83.1447 771.304 Q87.0336 766.42 93.5845 766.42 Q95.3437 766.42 97.1261 766.767 Q98.9317 767.114 100.876 767.809 Z\" fill=\"#000000\" fill-rule=\"evenodd\" fill-opacity=\"1\" /><path clip-path=\"url(#clip930)\" d=\"M121.177 770.124 Q117.566 770.124 115.737 773.688 Q113.932 777.23 113.932 784.36 Q113.932 791.466 115.737 795.031 Q117.566 798.573 121.177 798.573 Q124.811 798.573 126.617 795.031 Q128.445 791.466 128.445 784.36 Q128.445 777.23 126.617 773.688 Q124.811 770.124 121.177 770.124 M121.177 766.42 Q126.987 766.42 130.043 771.026 Q133.121 775.61 133.121 784.36 Q133.121 793.086 130.043 797.693 Q126.987 802.276 121.177 802.276 Q115.367 802.276 112.288 797.693 Q109.233 793.086 109.233 784.36 Q109.233 775.61 112.288 771.026 Q115.367 766.42 121.177 766.42 Z\" fill=\"#000000\" fill-rule=\"evenodd\" fill-opacity=\"1\" /><path clip-path=\"url(#clip930)\" d=\"M91.0151 580.385 Q87.6817 580.385 85.7605 582.167 Q83.8623 583.949 83.8623 587.074 Q83.8623 590.199 85.7605 591.982 Q87.6817 593.764 91.0151 593.764 Q94.3484 593.764 96.2697 591.982 Q98.1909 590.176 98.1909 587.074 Q98.1909 583.949 96.2697 582.167 Q94.3715 580.385 91.0151 580.385 M86.3392 578.394 Q83.3299 577.653 81.6401 575.593 Q79.9735 573.533 79.9735 570.57 Q79.9735 566.426 82.9133 564.019 Q85.8762 561.611 91.0151 561.611 Q96.1771 561.611 99.1169 564.019 Q102.057 566.426 102.057 570.57 Q102.057 573.533 100.367 575.593 Q98.7002 577.653 95.7141 578.394 Q99.0937 579.181 100.969 581.473 Q102.867 583.764 102.867 587.074 Q102.867 592.097 99.7882 594.783 Q96.7326 597.468 91.0151 597.468 Q85.2975 597.468 82.2188 594.783 Q79.1633 592.097 79.1633 587.074 Q79.1633 583.764 81.0614 581.473 Q82.9595 579.181 86.3392 578.394 M84.6262 571.01 Q84.6262 573.695 86.2929 575.199 Q87.9827 576.704 91.0151 576.704 Q94.0243 576.704 95.7141 575.199 Q97.4271 573.695 97.4271 571.01 Q97.4271 568.324 95.7141 566.82 Q94.0243 565.315 91.0151 565.315 Q87.9827 565.315 86.2929 566.82 Q84.6262 568.324 84.6262 571.01 Z\" fill=\"#000000\" fill-rule=\"evenodd\" fill-opacity=\"1\" /><path clip-path=\"url(#clip930)\" d=\"M121.177 565.315 Q117.566 565.315 115.737 568.88 Q113.932 572.422 113.932 579.551 Q113.932 586.658 115.737 590.222 Q117.566 593.764 121.177 593.764 Q124.811 593.764 126.617 590.222 Q128.445 586.658 128.445 579.551 Q128.445 572.422 126.617 568.88 Q124.811 565.315 121.177 565.315 M121.177 561.611 Q126.987 561.611 130.043 566.218 Q133.121 570.801 133.121 579.551 Q133.121 588.278 130.043 592.884 Q126.987 597.468 121.177 597.468 Q115.367 597.468 112.288 592.884 Q109.233 588.278 109.233 579.551 Q109.233 570.801 112.288 566.218 Q115.367 561.611 121.177 561.611 Z\" fill=\"#000000\" fill-rule=\"evenodd\" fill-opacity=\"1\" /><path clip-path=\"url(#clip930)\" d=\"M51.6634 388.053 L59.3023 388.053 L59.3023 361.687 L50.9921 363.354 L50.9921 359.095 L59.256 357.428 L63.9319 357.428 L63.9319 388.053 L71.5707 388.053 L71.5707 391.988 L51.6634 391.988 L51.6634 388.053 Z\" fill=\"#000000\" fill-rule=\"evenodd\" fill-opacity=\"1\" /><path clip-path=\"url(#clip930)\" d=\"M91.0151 360.507 Q87.404 360.507 85.5753 364.072 Q83.7697 367.613 83.7697 374.743 Q83.7697 381.849 85.5753 385.414 Q87.404 388.956 91.0151 388.956 Q94.6493 388.956 96.4548 385.414 Q98.2835 381.849 98.2835 374.743 Q98.2835 367.613 96.4548 364.072 Q94.6493 360.507 91.0151 360.507 M91.0151 356.803 Q96.8252 356.803 99.8808 361.41 Q102.959 365.993 102.959 374.743 Q102.959 383.47 99.8808 388.076 Q96.8252 392.659 91.0151 392.659 Q85.2049 392.659 82.1262 388.076 Q79.0707 383.47 79.0707 374.743 Q79.0707 365.993 82.1262 361.41 Q85.2049 356.803 91.0151 356.803 Z\" fill=\"#000000\" fill-rule=\"evenodd\" fill-opacity=\"1\" /><path clip-path=\"url(#clip930)\" d=\"M121.177 360.507 Q117.566 360.507 115.737 364.072 Q113.932 367.613 113.932 374.743 Q113.932 381.849 115.737 385.414 Q117.566 388.956 121.177 388.956 Q124.811 388.956 126.617 385.414 Q128.445 381.849 128.445 374.743 Q128.445 367.613 126.617 364.072 Q124.811 360.507 121.177 360.507 M121.177 356.803 Q126.987 356.803 130.043 361.41 Q133.121 365.993 133.121 374.743 Q133.121 383.47 130.043 388.076 Q126.987 392.659 121.177 392.659 Q115.367 392.659 112.288 388.076 Q109.233 383.47 109.233 374.743 Q109.233 365.993 112.288 361.41 Q115.367 356.803 121.177 356.803 Z\" fill=\"#000000\" fill-rule=\"evenodd\" fill-opacity=\"1\" /><path clip-path=\"url(#clip930)\" d=\"M51.6634 183.244 L59.3023 183.244 L59.3023 156.879 L50.9921 158.546 L50.9921 154.286 L59.256 152.62 L63.9319 152.62 L63.9319 183.244 L71.5707 183.244 L71.5707 187.18 L51.6634 187.18 L51.6634 183.244 Z\" fill=\"#000000\" fill-rule=\"evenodd\" fill-opacity=\"1\" /><path clip-path=\"url(#clip930)\" d=\"M85.0429 183.244 L101.362 183.244 L101.362 187.18 L79.4179 187.18 L79.4179 183.244 Q82.0799 180.49 86.6632 175.86 Q91.2697 171.208 92.4502 169.865 Q94.6956 167.342 95.5752 165.606 Q96.478 163.846 96.478 162.157 Q96.478 159.402 94.5336 157.666 Q92.6123 155.93 89.5104 155.93 Q87.3114 155.93 84.8577 156.694 Q82.4271 157.458 79.6494 159.009 L79.6494 154.286 Q82.4734 153.152 84.9271 152.573 Q87.3808 151.995 89.4178 151.995 Q94.7882 151.995 97.9826 154.68 Q101.177 157.365 101.177 161.856 Q101.177 163.985 100.367 165.907 Q99.5798 167.805 97.4734 170.397 Q96.8947 171.069 93.7928 174.286 Q90.691 177.481 85.0429 183.244 Z\" fill=\"#000000\" fill-rule=\"evenodd\" fill-opacity=\"1\" /><path clip-path=\"url(#clip930)\" d=\"M121.177 155.698 Q117.566 155.698 115.737 159.263 Q113.932 162.805 113.932 169.934 Q113.932 177.041 115.737 180.606 Q117.566 184.147 121.177 184.147 Q124.811 184.147 126.617 180.606 Q128.445 177.041 128.445 169.934 Q128.445 162.805 126.617 159.263 Q124.811 155.698 121.177 155.698 M121.177 151.995 Q126.987 151.995 130.043 156.601 Q133.121 161.184 133.121 169.934 Q133.121 178.661 130.043 183.268 Q126.987 187.851 121.177 187.851 Q115.367 187.851 112.288 183.268 Q109.233 178.661 109.233 169.934 Q109.233 161.184 112.288 156.601 Q115.367 151.995 121.177 151.995 Z\" fill=\"#000000\" fill-rule=\"evenodd\" fill-opacity=\"1\" /><circle clip-path=\"url(#clip932)\" cx=\"230.922\" cy=\"788.078\" r=\"14.4\" fill=\"#009af9\" fill-rule=\"evenodd\" fill-opacity=\"1\" stroke=\"#000000\" stroke-opacity=\"1\" stroke-width=\"3.2\"/>\n",
       "<circle clip-path=\"url(#clip932)\" cx=\"333.924\" cy=\"872.569\" r=\"14.4\" fill=\"#009af9\" fill-rule=\"evenodd\" fill-opacity=\"1\" stroke=\"#000000\" stroke-opacity=\"1\" stroke-width=\"3.2\"/>\n",
       "<circle clip-path=\"url(#clip932)\" cx=\"436.926\" cy=\"985.522\" r=\"14.4\" fill=\"#009af9\" fill-rule=\"evenodd\" fill-opacity=\"1\" stroke=\"#000000\" stroke-opacity=\"1\" stroke-width=\"3.2\"/>\n",
       "<circle clip-path=\"url(#clip932)\" cx=\"539.927\" cy=\"1318.4\" r=\"14.4\" fill=\"#009af9\" fill-rule=\"evenodd\" fill-opacity=\"1\" stroke=\"#000000\" stroke-opacity=\"1\" stroke-width=\"3.2\"/>\n",
       "<circle clip-path=\"url(#clip932)\" cx=\"642.929\" cy=\"1311.07\" r=\"14.4\" fill=\"#009af9\" fill-rule=\"evenodd\" fill-opacity=\"1\" stroke=\"#000000\" stroke-opacity=\"1\" stroke-width=\"3.2\"/>\n",
       "<circle clip-path=\"url(#clip932)\" cx=\"745.93\" cy=\"1291.12\" r=\"14.4\" fill=\"#009af9\" fill-rule=\"evenodd\" fill-opacity=\"1\" stroke=\"#000000\" stroke-opacity=\"1\" stroke-width=\"3.2\"/>\n",
       "<circle clip-path=\"url(#clip932)\" cx=\"848.932\" cy=\"1426.79\" r=\"14.4\" fill=\"#009af9\" fill-rule=\"evenodd\" fill-opacity=\"1\" stroke=\"#000000\" stroke-opacity=\"1\" stroke-width=\"3.2\"/>\n",
       "<circle clip-path=\"url(#clip932)\" cx=\"951.934\" cy=\"1422.47\" r=\"14.4\" fill=\"#009af9\" fill-rule=\"evenodd\" fill-opacity=\"1\" stroke=\"#000000\" stroke-opacity=\"1\" stroke-width=\"3.2\"/>\n",
       "<circle clip-path=\"url(#clip932)\" cx=\"1054.94\" cy=\"1431.3\" r=\"14.4\" fill=\"#009af9\" fill-rule=\"evenodd\" fill-opacity=\"1\" stroke=\"#000000\" stroke-opacity=\"1\" stroke-width=\"3.2\"/>\n",
       "<circle clip-path=\"url(#clip932)\" cx=\"1157.94\" cy=\"1445.72\" r=\"14.4\" fill=\"#009af9\" fill-rule=\"evenodd\" fill-opacity=\"1\" stroke=\"#000000\" stroke-opacity=\"1\" stroke-width=\"3.2\"/>\n",
       "<circle clip-path=\"url(#clip932)\" cx=\"1260.94\" cy=\"1342.17\" r=\"14.4\" fill=\"#009af9\" fill-rule=\"evenodd\" fill-opacity=\"1\" stroke=\"#000000\" stroke-opacity=\"1\" stroke-width=\"3.2\"/>\n",
       "<circle clip-path=\"url(#clip932)\" cx=\"1363.94\" cy=\"1334.07\" r=\"14.4\" fill=\"#009af9\" fill-rule=\"evenodd\" fill-opacity=\"1\" stroke=\"#000000\" stroke-opacity=\"1\" stroke-width=\"3.2\"/>\n",
       "<circle clip-path=\"url(#clip932)\" cx=\"1466.94\" cy=\"1296.65\" r=\"14.4\" fill=\"#009af9\" fill-rule=\"evenodd\" fill-opacity=\"1\" stroke=\"#000000\" stroke-opacity=\"1\" stroke-width=\"3.2\"/>\n",
       "<circle clip-path=\"url(#clip932)\" cx=\"1569.94\" cy=\"1168.77\" r=\"14.4\" fill=\"#009af9\" fill-rule=\"evenodd\" fill-opacity=\"1\" stroke=\"#000000\" stroke-opacity=\"1\" stroke-width=\"3.2\"/>\n",
       "<circle clip-path=\"url(#clip932)\" cx=\"1672.95\" cy=\"1316.12\" r=\"14.4\" fill=\"#009af9\" fill-rule=\"evenodd\" fill-opacity=\"1\" stroke=\"#000000\" stroke-opacity=\"1\" stroke-width=\"3.2\"/>\n",
       "<circle clip-path=\"url(#clip932)\" cx=\"1775.95\" cy=\"884.777\" r=\"14.4\" fill=\"#009af9\" fill-rule=\"evenodd\" fill-opacity=\"1\" stroke=\"#000000\" stroke-opacity=\"1\" stroke-width=\"3.2\"/>\n",
       "<circle clip-path=\"url(#clip932)\" cx=\"1878.95\" cy=\"782.877\" r=\"14.4\" fill=\"#009af9\" fill-rule=\"evenodd\" fill-opacity=\"1\" stroke=\"#000000\" stroke-opacity=\"1\" stroke-width=\"3.2\"/>\n",
       "<circle clip-path=\"url(#clip932)\" cx=\"1981.95\" cy=\"939.77\" r=\"14.4\" fill=\"#009af9\" fill-rule=\"evenodd\" fill-opacity=\"1\" stroke=\"#000000\" stroke-opacity=\"1\" stroke-width=\"3.2\"/>\n",
       "<circle clip-path=\"url(#clip932)\" cx=\"2084.95\" cy=\"698.631\" r=\"14.4\" fill=\"#009af9\" fill-rule=\"evenodd\" fill-opacity=\"1\" stroke=\"#000000\" stroke-opacity=\"1\" stroke-width=\"3.2\"/>\n",
       "<circle clip-path=\"url(#clip932)\" cx=\"2187.95\" cy=\"389.785\" r=\"14.4\" fill=\"#009af9\" fill-rule=\"evenodd\" fill-opacity=\"1\" stroke=\"#000000\" stroke-opacity=\"1\" stroke-width=\"3.2\"/>\n",
       "<circle clip-path=\"url(#clip932)\" cx=\"2290.95\" cy=\"182.115\" r=\"14.4\" fill=\"#009af9\" fill-rule=\"evenodd\" fill-opacity=\"1\" stroke=\"#000000\" stroke-opacity=\"1\" stroke-width=\"3.2\"/>\n",
       "<polyline clip-path=\"url(#clip932)\" style=\"stroke:#e26f46; stroke-linecap:round; stroke-linejoin:round; stroke-width:4; stroke-opacity:1; fill:none\" points=\"230.922,702.402 333.924,866.248 436.926,1009.61 539.927,1132.5 642.929,1234.9 745.93,1316.83 848.932,1378.27 951.934,1419.23 1054.94,1439.71 1157.94,1439.71 1260.94,1419.23 1363.94,1378.27 1466.94,1316.83 1569.94,1234.9 1672.95,1132.5 1775.95,1009.61 1878.95,866.248 1981.95,702.402 2084.95,518.074 2187.95,313.266 2290.95,87.9763 \"/>\n",
       "<polyline clip-path=\"url(#clip932)\" style=\"stroke:#3da44d; stroke-linecap:round; stroke-linejoin:round; stroke-width:4; stroke-opacity:1; fill:none\" points=\"230.922,795.996 333.924,823.713 436.926,1095.76 539.927,1226.93 642.929,1289.53 745.93,1353.46 848.932,1413.46 951.934,1439.63 1054.94,1424.76 1157.94,1390.65 1260.94,1363.73 1363.94,1347.99 1466.94,1318.61 1569.94,1242.93 1672.95,1114.76 1775.95,973.331 1878.95,878.227 1981.95,835.359 2084.95,726.432 2187.95,393.386 2290.95,180.116 \"/>\n",
       "<path clip-path=\"url(#clip930)\" d=\"M241.909 302.578 L687.146 302.578 L687.146 95.2176 L241.909 95.2176  Z\" fill=\"#ffffff\" fill-rule=\"evenodd\" fill-opacity=\"1\"/>\n",
       "<polyline clip-path=\"url(#clip930)\" style=\"stroke:#000000; stroke-linecap:round; stroke-linejoin:round; stroke-width:4; stroke-opacity:1; fill:none\" points=\"241.909,302.578 687.146,302.578 687.146,95.2176 241.909,95.2176 241.909,302.578 \"/>\n",
       "<circle clip-path=\"url(#clip930)\" cx=\"338.96\" cy=\"147.058\" r=\"23.04\" fill=\"#009af9\" fill-rule=\"evenodd\" fill-opacity=\"1\" stroke=\"#000000\" stroke-opacity=\"1\" stroke-width=\"5.12\"/>\n",
       "<path clip-path=\"url(#clip930)\" d=\"M454.922 142.347 L454.922 128.319 L459.181 128.319 L459.181 164.338 L454.922 164.338 L454.922 160.449 Q453.579 162.763 451.519 163.898 Q449.482 165.009 446.612 165.009 Q441.913 165.009 438.95 161.259 Q436.01 157.509 436.01 151.398 Q436.01 145.287 438.95 141.537 Q441.913 137.787 446.612 137.787 Q449.482 137.787 451.519 138.921 Q453.579 140.032 454.922 142.347 M440.408 151.398 Q440.408 156.097 442.329 158.782 Q444.274 161.444 447.653 161.444 Q451.033 161.444 452.977 158.782 Q454.922 156.097 454.922 151.398 Q454.922 146.699 452.977 144.037 Q451.033 141.352 447.653 141.352 Q444.274 141.352 442.329 144.037 Q440.408 146.699 440.408 151.398 Z\" fill=\"#000000\" fill-rule=\"evenodd\" fill-opacity=\"1\" /><path clip-path=\"url(#clip930)\" d=\"M479.737 151.305 Q474.575 151.305 472.584 152.486 Q470.593 153.666 470.593 156.514 Q470.593 158.782 472.075 160.125 Q473.579 161.444 476.149 161.444 Q479.69 161.444 481.82 158.944 Q483.973 156.421 483.973 152.254 L483.973 151.305 L479.737 151.305 M488.232 149.546 L488.232 164.338 L483.973 164.338 L483.973 160.402 Q482.514 162.763 480.338 163.898 Q478.163 165.009 475.014 165.009 Q471.033 165.009 468.672 162.787 Q466.334 160.541 466.334 156.791 Q466.334 152.416 469.251 150.194 Q472.19 147.972 478.001 147.972 L483.973 147.972 L483.973 147.555 Q483.973 144.615 482.028 143.018 Q480.107 141.398 476.612 141.398 Q474.389 141.398 472.283 141.93 Q470.176 142.463 468.232 143.527 L468.232 139.592 Q470.57 138.69 472.769 138.25 Q474.968 137.787 477.051 137.787 Q482.676 137.787 485.454 140.703 Q488.232 143.62 488.232 149.546 Z\" fill=\"#000000\" fill-rule=\"evenodd\" fill-opacity=\"1\" /><path clip-path=\"url(#clip930)\" d=\"M501.218 131.051 L501.218 138.412 L509.991 138.412 L509.991 141.722 L501.218 141.722 L501.218 155.796 Q501.218 158.967 502.074 159.87 Q502.954 160.773 505.616 160.773 L509.991 160.773 L509.991 164.338 L505.616 164.338 Q500.686 164.338 498.811 162.509 Q496.936 160.657 496.936 155.796 L496.936 141.722 L493.811 141.722 L493.811 138.412 L496.936 138.412 L496.936 131.051 L501.218 131.051 Z\" fill=\"#000000\" fill-rule=\"evenodd\" fill-opacity=\"1\" /><path clip-path=\"url(#clip930)\" d=\"M527.375 151.305 Q522.213 151.305 520.222 152.486 Q518.232 153.666 518.232 156.514 Q518.232 158.782 519.713 160.125 Q521.218 161.444 523.787 161.444 Q527.329 161.444 529.459 158.944 Q531.611 156.421 531.611 152.254 L531.611 151.305 L527.375 151.305 M535.871 149.546 L535.871 164.338 L531.611 164.338 L531.611 160.402 Q530.153 162.763 527.977 163.898 Q525.801 165.009 522.653 165.009 Q518.672 165.009 516.31 162.787 Q513.973 160.541 513.973 156.791 Q513.973 152.416 516.889 150.194 Q519.829 147.972 525.639 147.972 L531.611 147.972 L531.611 147.555 Q531.611 144.615 529.667 143.018 Q527.746 141.398 524.25 141.398 Q522.028 141.398 519.922 141.93 Q517.815 142.463 515.871 143.527 L515.871 139.592 Q518.209 138.69 520.408 138.25 Q522.607 137.787 524.69 137.787 Q530.315 137.787 533.093 140.703 Q535.871 143.62 535.871 149.546 Z\" fill=\"#000000\" fill-rule=\"evenodd\" fill-opacity=\"1\" /><polyline clip-path=\"url(#clip930)\" style=\"stroke:#e26f46; stroke-linecap:round; stroke-linejoin:round; stroke-width:4; stroke-opacity:1; fill:none\" points=\"266.172,198.898 411.747,198.898 \"/>\n",
       "<path clip-path=\"url(#clip930)\" d=\"M436.01 181.618 L465.246 181.618 L465.246 185.553 L452.977 185.553 L452.977 216.178 L448.278 216.178 L448.278 185.553 L436.01 185.553 L436.01 181.618 Z\" fill=\"#000000\" fill-rule=\"evenodd\" fill-opacity=\"1\" /><path clip-path=\"url(#clip930)\" d=\"M477.63 194.233 Q476.913 193.817 476.056 193.631 Q475.223 193.423 474.204 193.423 Q470.593 193.423 468.649 195.784 Q466.727 198.122 466.727 202.52 L466.727 216.178 L462.445 216.178 L462.445 190.252 L466.727 190.252 L466.727 194.28 Q468.07 191.918 470.223 190.784 Q472.376 189.627 475.454 189.627 Q475.894 189.627 476.426 189.696 Q476.959 189.743 477.607 189.858 L477.63 194.233 Z\" fill=\"#000000\" fill-rule=\"evenodd\" fill-opacity=\"1\" /><path clip-path=\"url(#clip930)\" d=\"M481.658 205.946 L481.658 190.252 L485.917 190.252 L485.917 205.784 Q485.917 209.465 487.352 211.316 Q488.787 213.145 491.658 213.145 Q495.107 213.145 497.098 210.946 Q499.112 208.747 499.112 204.951 L499.112 190.252 L503.371 190.252 L503.371 216.178 L499.112 216.178 L499.112 212.196 Q497.561 214.557 495.5 215.715 Q493.463 216.849 490.755 216.849 Q486.287 216.849 483.973 214.071 Q481.658 211.293 481.658 205.946 M492.375 189.627 L492.375 189.627 Z\" fill=\"#000000\" fill-rule=\"evenodd\" fill-opacity=\"1\" /><path clip-path=\"url(#clip930)\" d=\"M534.32 202.15 L534.32 204.233 L514.736 204.233 Q515.014 208.631 517.375 210.946 Q519.76 213.238 523.996 213.238 Q526.449 213.238 528.741 212.636 Q531.056 212.034 533.324 210.83 L533.324 214.858 Q531.033 215.83 528.625 216.34 Q526.218 216.849 523.741 216.849 Q517.537 216.849 513.903 213.238 Q510.292 209.627 510.292 203.469 Q510.292 197.104 513.718 193.377 Q517.167 189.627 523 189.627 Q528.232 189.627 531.264 193.006 Q534.32 196.363 534.32 202.15 M530.06 200.9 Q530.014 197.405 528.093 195.321 Q526.195 193.238 523.047 193.238 Q519.482 193.238 517.329 195.252 Q515.199 197.266 514.875 200.923 L530.06 200.9 Z\" fill=\"#000000\" fill-rule=\"evenodd\" fill-opacity=\"1\" /><path clip-path=\"url(#clip930)\" d=\"M556.38 180.159 L560.639 180.159 L560.639 216.178 L556.38 216.178 L556.38 180.159 Z\" fill=\"#000000\" fill-rule=\"evenodd\" fill-opacity=\"1\" /><path clip-path=\"url(#clip930)\" d=\"M569.551 190.252 L573.81 190.252 L573.81 216.178 L569.551 216.178 L569.551 190.252 M569.551 180.159 L573.81 180.159 L573.81 185.553 L569.551 185.553 L569.551 180.159 Z\" fill=\"#000000\" fill-rule=\"evenodd\" fill-opacity=\"1\" /><path clip-path=\"url(#clip930)\" d=\"M604.273 200.529 L604.273 216.178 L600.014 216.178 L600.014 200.668 Q600.014 196.988 598.579 195.159 Q597.143 193.33 594.273 193.33 Q590.824 193.33 588.833 195.53 Q586.843 197.729 586.843 201.525 L586.843 216.178 L582.56 216.178 L582.56 190.252 L586.843 190.252 L586.843 194.28 Q588.37 191.942 590.43 190.784 Q592.514 189.627 595.222 189.627 Q599.69 189.627 601.981 192.405 Q604.273 195.159 604.273 200.529 Z\" fill=\"#000000\" fill-rule=\"evenodd\" fill-opacity=\"1\" /><path clip-path=\"url(#clip930)\" d=\"M634.944 202.15 L634.944 204.233 L615.361 204.233 Q615.639 208.631 618 210.946 Q620.384 213.238 624.62 213.238 Q627.074 213.238 629.365 212.636 Q631.68 212.034 633.949 210.83 L633.949 214.858 Q631.657 215.83 629.25 216.34 Q626.842 216.849 624.365 216.849 Q618.162 216.849 614.528 213.238 Q610.916 209.627 610.916 203.469 Q610.916 197.104 614.342 193.377 Q617.791 189.627 623.625 189.627 Q628.856 189.627 631.889 193.006 Q634.944 196.363 634.944 202.15 M630.685 200.9 Q630.639 197.405 628.717 195.321 Q626.819 193.238 623.671 193.238 Q620.106 193.238 617.953 195.252 Q615.824 197.266 615.5 200.923 L630.685 200.9 Z\" fill=\"#000000\" fill-rule=\"evenodd\" fill-opacity=\"1\" /><polyline clip-path=\"url(#clip930)\" style=\"stroke:#3da44d; stroke-linecap:round; stroke-linejoin:round; stroke-width:4; stroke-opacity:1; fill:none\" points=\"266.172,250.738 411.747,250.738 \"/>\n",
       "<path clip-path=\"url(#clip930)\" d=\"M436.01 233.458 L455.871 233.458 L455.871 237.393 L440.686 237.393 L440.686 247.578 L454.39 247.578 L454.39 251.513 L440.686 251.513 L440.686 268.018 L436.01 268.018 L436.01 233.458 Z\" fill=\"#000000\" fill-rule=\"evenodd\" fill-opacity=\"1\" /><path clip-path=\"url(#clip930)\" d=\"M459.644 242.092 L463.903 242.092 L463.903 268.018 L459.644 268.018 L459.644 242.092 M459.644 231.999 L463.903 231.999 L463.903 237.393 L459.644 237.393 L459.644 231.999 Z\" fill=\"#000000\" fill-rule=\"evenodd\" fill-opacity=\"1\" /><path clip-path=\"url(#clip930)\" d=\"M477.028 234.731 L477.028 242.092 L485.801 242.092 L485.801 245.402 L477.028 245.402 L477.028 259.476 Q477.028 262.647 477.885 263.55 Q478.764 264.453 481.426 264.453 L485.801 264.453 L485.801 268.018 L481.426 268.018 Q476.496 268.018 474.621 266.189 Q472.746 264.337 472.746 259.476 L472.746 245.402 L469.621 245.402 L469.621 242.092 L472.746 242.092 L472.746 234.731 L477.028 234.731 Z\" fill=\"#000000\" fill-rule=\"evenodd\" fill-opacity=\"1\" /><path clip-path=\"url(#clip930)\" d=\"M495.616 234.731 L495.616 242.092 L504.389 242.092 L504.389 245.402 L495.616 245.402 L495.616 259.476 Q495.616 262.647 496.473 263.55 Q497.352 264.453 500.014 264.453 L504.389 264.453 L504.389 268.018 L500.014 268.018 Q495.084 268.018 493.209 266.189 Q491.334 264.337 491.334 259.476 L491.334 245.402 L488.209 245.402 L488.209 242.092 L491.334 242.092 L491.334 234.731 L495.616 234.731 Z\" fill=\"#000000\" fill-rule=\"evenodd\" fill-opacity=\"1\" /><path clip-path=\"url(#clip930)\" d=\"M532.167 253.99 L532.167 256.073 L512.584 256.073 Q512.861 260.471 515.223 262.786 Q517.607 265.078 521.843 265.078 Q524.297 265.078 526.588 264.476 Q528.903 263.874 531.172 262.67 L531.172 266.698 Q528.88 267.67 526.472 268.18 Q524.065 268.689 521.588 268.689 Q515.385 268.689 511.75 265.078 Q508.139 261.467 508.139 255.309 Q508.139 248.944 511.565 245.217 Q515.014 241.467 520.847 241.467 Q526.079 241.467 529.111 244.846 Q532.167 248.203 532.167 253.99 M527.908 252.74 Q527.861 249.245 525.94 247.161 Q524.042 245.078 520.894 245.078 Q517.329 245.078 515.176 247.092 Q513.047 249.106 512.723 252.763 L527.908 252.74 Z\" fill=\"#000000\" fill-rule=\"evenodd\" fill-opacity=\"1\" /><path clip-path=\"url(#clip930)\" d=\"M556.218 246.027 L556.218 231.999 L560.477 231.999 L560.477 268.018 L556.218 268.018 L556.218 264.129 Q554.875 266.443 552.815 267.578 Q550.778 268.689 547.908 268.689 Q543.208 268.689 540.246 264.939 Q537.306 261.189 537.306 255.078 Q537.306 248.967 540.246 245.217 Q543.208 241.467 547.908 241.467 Q550.778 241.467 552.815 242.601 Q554.875 243.712 556.218 246.027 M541.704 255.078 Q541.704 259.777 543.625 262.462 Q545.57 265.124 548.949 265.124 Q552.329 265.124 554.273 262.462 Q556.218 259.777 556.218 255.078 Q556.218 250.379 554.273 247.717 Q552.329 245.032 548.949 245.032 Q545.57 245.032 543.625 247.717 Q541.704 250.379 541.704 255.078 Z\" fill=\"#000000\" fill-rule=\"evenodd\" fill-opacity=\"1\" /><path clip-path=\"url(#clip930)\" d=\"M584.319 231.999 L588.579 231.999 L588.579 268.018 L584.319 268.018 L584.319 231.999 Z\" fill=\"#000000\" fill-rule=\"evenodd\" fill-opacity=\"1\" /><path clip-path=\"url(#clip930)\" d=\"M597.491 242.092 L601.75 242.092 L601.75 268.018 L597.491 268.018 L597.491 242.092 M597.491 231.999 L601.75 231.999 L601.75 237.393 L597.491 237.393 L597.491 231.999 Z\" fill=\"#000000\" fill-rule=\"evenodd\" fill-opacity=\"1\" /><path clip-path=\"url(#clip930)\" d=\"M632.213 252.369 L632.213 268.018 L627.953 268.018 L627.953 252.508 Q627.953 248.828 626.518 246.999 Q625.083 245.17 622.213 245.17 Q618.764 245.17 616.773 247.37 Q614.782 249.569 614.782 253.365 L614.782 268.018 L610.5 268.018 L610.5 242.092 L614.782 242.092 L614.782 246.12 Q616.31 243.782 618.37 242.624 Q620.453 241.467 623.162 241.467 Q627.629 241.467 629.921 244.245 Q632.213 246.999 632.213 252.369 Z\" fill=\"#000000\" fill-rule=\"evenodd\" fill-opacity=\"1\" /><path clip-path=\"url(#clip930)\" d=\"M662.884 253.99 L662.884 256.073 L643.301 256.073 Q643.578 260.471 645.939 262.786 Q648.324 265.078 652.56 265.078 Q655.013 265.078 657.305 264.476 Q659.62 263.874 661.888 262.67 L661.888 266.698 Q659.597 267.67 657.189 268.18 Q654.782 268.689 652.305 268.689 Q646.101 268.689 642.467 265.078 Q638.856 261.467 638.856 255.309 Q638.856 248.944 642.282 245.217 Q645.731 241.467 651.564 241.467 Q656.796 241.467 659.828 244.846 Q662.884 248.203 662.884 253.99 M658.625 252.74 Q658.578 249.245 656.657 247.161 Q654.759 245.078 651.611 245.078 Q648.046 245.078 645.893 247.092 Q643.764 249.106 643.439 252.763 L658.625 252.74 Z\" fill=\"#000000\" fill-rule=\"evenodd\" fill-opacity=\"1\" /></svg>\n"
      ]
     },
     "execution_count": 68,
     "metadata": {},
     "output_type": "execute_result"
    }
   ],
   "source": [
    "x3=-10:10\n",
    "collect(x3)\n",
    "y_true3 = x3.^2 .+ 3 .*x3 .- 2\n",
    "d3 = 10\n",
    "noise3 = di.Normal(0, d3)\n",
    "y_observed3 = y_true3 .+ rand(noise3, length(x3))\n",
    "scatter(x3, y_observed3, label = \"data\")\n",
    "plot!(x3, y_true3, label = \"True line\")\n",
    "poly_fit3 = fit(x3, y_observed3, 10)\n",
    "y_fitted3 = poly_fit3.(x3)\n",
    "plot!(x3, y_fitted3, label = \"Fitted line\")"
   ]
  },
  {
   "cell_type": "code",
   "execution_count": 69,
   "id": "b5b3bfdd",
   "metadata": {},
   "outputs": [
    {
     "data": {
      "image/svg+xml": [
       "<?xml version=\"1.0\" encoding=\"utf-8\"?>\n",
       "<svg xmlns=\"http://www.w3.org/2000/svg\" xmlns:xlink=\"http://www.w3.org/1999/xlink\" width=\"600\" height=\"400\" viewBox=\"0 0 2400 1600\">\n",
       "<defs>\n",
       "  <clipPath id=\"clip970\">\n",
       "    <rect x=\"0\" y=\"0\" width=\"2400\" height=\"1600\"/>\n",
       "  </clipPath>\n",
       "</defs>\n",
       "<path clip-path=\"url(#clip970)\" d=\"M0 1600 L2400 1600 L2400 0 L0 0  Z\" fill=\"#ffffff\" fill-rule=\"evenodd\" fill-opacity=\"1\"/>\n",
       "<defs>\n",
       "  <clipPath id=\"clip971\">\n",
       "    <rect x=\"480\" y=\"0\" width=\"1681\" height=\"1600\"/>\n",
       "  </clipPath>\n",
       "</defs>\n",
       "<path clip-path=\"url(#clip970)\" d=\"M209.029 1486.45 L2352.76 1486.45 L2352.76 47.2441 L209.029 47.2441  Z\" fill=\"#ffffff\" fill-rule=\"evenodd\" fill-opacity=\"1\"/>\n",
       "<defs>\n",
       "  <clipPath id=\"clip972\">\n",
       "    <rect x=\"209\" y=\"47\" width=\"2145\" height=\"1440\"/>\n",
       "  </clipPath>\n",
       "</defs>\n",
       "<polyline clip-path=\"url(#clip972)\" style=\"stroke:#000000; stroke-linecap:round; stroke-linejoin:round; stroke-width:2; stroke-opacity:0.1; fill:none\" points=\"269.7,1486.45 269.7,47.2441 \"/>\n",
       "<polyline clip-path=\"url(#clip972)\" style=\"stroke:#000000; stroke-linecap:round; stroke-linejoin:round; stroke-width:2; stroke-opacity:0.1; fill:none\" points=\"775.296,1486.45 775.296,47.2441 \"/>\n",
       "<polyline clip-path=\"url(#clip972)\" style=\"stroke:#000000; stroke-linecap:round; stroke-linejoin:round; stroke-width:2; stroke-opacity:0.1; fill:none\" points=\"1280.89,1486.45 1280.89,47.2441 \"/>\n",
       "<polyline clip-path=\"url(#clip972)\" style=\"stroke:#000000; stroke-linecap:round; stroke-linejoin:round; stroke-width:2; stroke-opacity:0.1; fill:none\" points=\"1786.49,1486.45 1786.49,47.2441 \"/>\n",
       "<polyline clip-path=\"url(#clip972)\" style=\"stroke:#000000; stroke-linecap:round; stroke-linejoin:round; stroke-width:2; stroke-opacity:0.1; fill:none\" points=\"2292.08,1486.45 2292.08,47.2441 \"/>\n",
       "<polyline clip-path=\"url(#clip970)\" style=\"stroke:#000000; stroke-linecap:round; stroke-linejoin:round; stroke-width:4; stroke-opacity:1; fill:none\" points=\"209.029,1486.45 2352.76,1486.45 \"/>\n",
       "<polyline clip-path=\"url(#clip970)\" style=\"stroke:#000000; stroke-linecap:round; stroke-linejoin:round; stroke-width:4; stroke-opacity:1; fill:none\" points=\"269.7,1486.45 269.7,1467.55 \"/>\n",
       "<polyline clip-path=\"url(#clip970)\" style=\"stroke:#000000; stroke-linecap:round; stroke-linejoin:round; stroke-width:4; stroke-opacity:1; fill:none\" points=\"775.296,1486.45 775.296,1467.55 \"/>\n",
       "<polyline clip-path=\"url(#clip970)\" style=\"stroke:#000000; stroke-linecap:round; stroke-linejoin:round; stroke-width:4; stroke-opacity:1; fill:none\" points=\"1280.89,1486.45 1280.89,1467.55 \"/>\n",
       "<polyline clip-path=\"url(#clip970)\" style=\"stroke:#000000; stroke-linecap:round; stroke-linejoin:round; stroke-width:4; stroke-opacity:1; fill:none\" points=\"1786.49,1486.45 1786.49,1467.55 \"/>\n",
       "<polyline clip-path=\"url(#clip970)\" style=\"stroke:#000000; stroke-linecap:round; stroke-linejoin:round; stroke-width:4; stroke-opacity:1; fill:none\" points=\"2292.08,1486.45 2292.08,1467.55 \"/>\n",
       "<path clip-path=\"url(#clip970)\" d=\"M223.763 1532.02 L253.439 1532.02 L253.439 1535.95 L223.763 1535.95 L223.763 1532.02 Z\" fill=\"#000000\" fill-rule=\"evenodd\" fill-opacity=\"1\" /><path clip-path=\"url(#clip970)\" d=\"M264.341 1544.91 L271.98 1544.91 L271.98 1518.55 L263.67 1520.21 L263.67 1515.95 L271.934 1514.29 L276.61 1514.29 L276.61 1544.91 L284.249 1544.91 L284.249 1548.85 L264.341 1548.85 L264.341 1544.91 Z\" fill=\"#000000\" fill-rule=\"evenodd\" fill-opacity=\"1\" /><path clip-path=\"url(#clip970)\" d=\"M303.693 1517.37 Q300.082 1517.37 298.253 1520.93 Q296.448 1524.47 296.448 1531.6 Q296.448 1538.71 298.253 1542.27 Q300.082 1545.82 303.693 1545.82 Q307.327 1545.82 309.133 1542.27 Q310.961 1538.71 310.961 1531.6 Q310.961 1524.47 309.133 1520.93 Q307.327 1517.37 303.693 1517.37 M303.693 1513.66 Q309.503 1513.66 312.559 1518.27 Q315.637 1522.85 315.637 1531.6 Q315.637 1540.33 312.559 1544.94 Q309.503 1549.52 303.693 1549.52 Q297.883 1549.52 294.804 1544.94 Q291.749 1540.33 291.749 1531.6 Q291.749 1522.85 294.804 1518.27 Q297.883 1513.66 303.693 1513.66 Z\" fill=\"#000000\" fill-rule=\"evenodd\" fill-opacity=\"1\" /><path clip-path=\"url(#clip970)\" d=\"M744.937 1532.02 L774.613 1532.02 L774.613 1535.95 L744.937 1535.95 L744.937 1532.02 Z\" fill=\"#000000\" fill-rule=\"evenodd\" fill-opacity=\"1\" /><path clip-path=\"url(#clip970)\" d=\"M784.752 1514.29 L803.108 1514.29 L803.108 1518.22 L789.034 1518.22 L789.034 1526.7 Q790.053 1526.35 791.072 1526.19 Q792.09 1526 793.109 1526 Q798.896 1526 802.275 1529.17 Q805.655 1532.34 805.655 1537.76 Q805.655 1543.34 802.183 1546.44 Q798.71 1549.52 792.391 1549.52 Q790.215 1549.52 787.947 1549.15 Q785.701 1548.78 783.294 1548.04 L783.294 1543.34 Q785.377 1544.47 787.599 1545.03 Q789.822 1545.58 792.298 1545.58 Q796.303 1545.58 798.641 1543.48 Q800.979 1541.37 800.979 1537.76 Q800.979 1534.15 798.641 1532.04 Q796.303 1529.94 792.298 1529.94 Q790.423 1529.94 788.548 1530.35 Q786.697 1530.77 784.752 1531.65 L784.752 1514.29 Z\" fill=\"#000000\" fill-rule=\"evenodd\" fill-opacity=\"1\" /><path clip-path=\"url(#clip970)\" d=\"M1280.89 1517.37 Q1277.28 1517.37 1275.45 1520.93 Q1273.65 1524.47 1273.65 1531.6 Q1273.65 1538.71 1275.45 1542.27 Q1277.28 1545.82 1280.89 1545.82 Q1284.53 1545.82 1286.33 1542.27 Q1288.16 1538.71 1288.16 1531.6 Q1288.16 1524.47 1286.33 1520.93 Q1284.53 1517.37 1280.89 1517.37 M1280.89 1513.66 Q1286.7 1513.66 1289.76 1518.27 Q1292.84 1522.85 1292.84 1531.6 Q1292.84 1540.33 1289.76 1544.94 Q1286.7 1549.52 1280.89 1549.52 Q1275.08 1549.52 1272 1544.94 Q1268.95 1540.33 1268.95 1531.6 Q1268.95 1522.85 1272 1518.27 Q1275.08 1513.66 1280.89 1513.66 Z\" fill=\"#000000\" fill-rule=\"evenodd\" fill-opacity=\"1\" /><path clip-path=\"url(#clip970)\" d=\"M1776.77 1514.29 L1795.12 1514.29 L1795.12 1518.22 L1781.05 1518.22 L1781.05 1526.7 Q1782.07 1526.35 1783.09 1526.19 Q1784.1 1526 1785.12 1526 Q1790.91 1526 1794.29 1529.17 Q1797.67 1532.34 1797.67 1537.76 Q1797.67 1543.34 1794.2 1546.44 Q1790.72 1549.52 1784.4 1549.52 Q1782.23 1549.52 1779.96 1549.15 Q1777.72 1548.78 1775.31 1548.04 L1775.31 1543.34 Q1777.39 1544.47 1779.61 1545.03 Q1781.84 1545.58 1784.31 1545.58 Q1788.32 1545.58 1790.65 1543.48 Q1792.99 1541.37 1792.99 1537.76 Q1792.99 1534.15 1790.65 1532.04 Q1788.32 1529.94 1784.31 1529.94 Q1782.44 1529.94 1780.56 1530.35 Q1778.71 1530.77 1776.77 1531.65 L1776.77 1514.29 Z\" fill=\"#000000\" fill-rule=\"evenodd\" fill-opacity=\"1\" /><path clip-path=\"url(#clip970)\" d=\"M2266.77 1544.91 L2274.41 1544.91 L2274.41 1518.55 L2266.1 1520.21 L2266.1 1515.95 L2274.36 1514.29 L2279.04 1514.29 L2279.04 1544.91 L2286.68 1544.91 L2286.68 1548.85 L2266.77 1548.85 L2266.77 1544.91 Z\" fill=\"#000000\" fill-rule=\"evenodd\" fill-opacity=\"1\" /><path clip-path=\"url(#clip970)\" d=\"M2306.12 1517.37 Q2302.51 1517.37 2300.68 1520.93 Q2298.88 1524.47 2298.88 1531.6 Q2298.88 1538.71 2300.68 1542.27 Q2302.51 1545.82 2306.12 1545.82 Q2309.76 1545.82 2311.56 1542.27 Q2313.39 1538.71 2313.39 1531.6 Q2313.39 1524.47 2311.56 1520.93 Q2309.76 1517.37 2306.12 1517.37 M2306.12 1513.66 Q2311.93 1513.66 2314.99 1518.27 Q2318.07 1522.85 2318.07 1531.6 Q2318.07 1540.33 2314.99 1544.94 Q2311.93 1549.52 2306.12 1549.52 Q2300.31 1549.52 2297.23 1544.94 Q2294.18 1540.33 2294.18 1531.6 Q2294.18 1522.85 2297.23 1518.27 Q2300.31 1513.66 2306.12 1513.66 Z\" fill=\"#000000\" fill-rule=\"evenodd\" fill-opacity=\"1\" /><polyline clip-path=\"url(#clip972)\" style=\"stroke:#000000; stroke-linecap:round; stroke-linejoin:round; stroke-width:2; stroke-opacity:0.1; fill:none\" points=\"209.029,1459.75 2352.76,1459.75 \"/>\n",
       "<polyline clip-path=\"url(#clip972)\" style=\"stroke:#000000; stroke-linecap:round; stroke-linejoin:round; stroke-width:2; stroke-opacity:0.1; fill:none\" points=\"209.029,1212.31 2352.76,1212.31 \"/>\n",
       "<polyline clip-path=\"url(#clip972)\" style=\"stroke:#000000; stroke-linecap:round; stroke-linejoin:round; stroke-width:2; stroke-opacity:0.1; fill:none\" points=\"209.029,964.867 2352.76,964.867 \"/>\n",
       "<polyline clip-path=\"url(#clip972)\" style=\"stroke:#000000; stroke-linecap:round; stroke-linejoin:round; stroke-width:2; stroke-opacity:0.1; fill:none\" points=\"209.029,717.424 2352.76,717.424 \"/>\n",
       "<polyline clip-path=\"url(#clip972)\" style=\"stroke:#000000; stroke-linecap:round; stroke-linejoin:round; stroke-width:2; stroke-opacity:0.1; fill:none\" points=\"209.029,469.982 2352.76,469.982 \"/>\n",
       "<polyline clip-path=\"url(#clip972)\" style=\"stroke:#000000; stroke-linecap:round; stroke-linejoin:round; stroke-width:2; stroke-opacity:0.1; fill:none\" points=\"209.029,222.539 2352.76,222.539 \"/>\n",
       "<polyline clip-path=\"url(#clip970)\" style=\"stroke:#000000; stroke-linecap:round; stroke-linejoin:round; stroke-width:4; stroke-opacity:1; fill:none\" points=\"209.029,1486.45 209.029,47.2441 \"/>\n",
       "<polyline clip-path=\"url(#clip970)\" style=\"stroke:#000000; stroke-linecap:round; stroke-linejoin:round; stroke-width:4; stroke-opacity:1; fill:none\" points=\"209.029,1459.75 227.926,1459.75 \"/>\n",
       "<polyline clip-path=\"url(#clip970)\" style=\"stroke:#000000; stroke-linecap:round; stroke-linejoin:round; stroke-width:4; stroke-opacity:1; fill:none\" points=\"209.029,1212.31 227.926,1212.31 \"/>\n",
       "<polyline clip-path=\"url(#clip970)\" style=\"stroke:#000000; stroke-linecap:round; stroke-linejoin:round; stroke-width:4; stroke-opacity:1; fill:none\" points=\"209.029,964.867 227.926,964.867 \"/>\n",
       "<polyline clip-path=\"url(#clip970)\" style=\"stroke:#000000; stroke-linecap:round; stroke-linejoin:round; stroke-width:4; stroke-opacity:1; fill:none\" points=\"209.029,717.424 227.926,717.424 \"/>\n",
       "<polyline clip-path=\"url(#clip970)\" style=\"stroke:#000000; stroke-linecap:round; stroke-linejoin:round; stroke-width:4; stroke-opacity:1; fill:none\" points=\"209.029,469.982 227.926,469.982 \"/>\n",
       "<polyline clip-path=\"url(#clip970)\" style=\"stroke:#000000; stroke-linecap:round; stroke-linejoin:round; stroke-width:4; stroke-opacity:1; fill:none\" points=\"209.029,222.539 227.926,222.539 \"/>\n",
       "<path clip-path=\"url(#clip970)\" d=\"M50.9921 1460.2 L80.6679 1460.2 L80.6679 1464.14 L50.9921 1464.14 L50.9921 1460.2 Z\" fill=\"#000000\" fill-rule=\"evenodd\" fill-opacity=\"1\" /><path clip-path=\"url(#clip970)\" d=\"M91.5706 1473.1 L99.2095 1473.1 L99.2095 1446.73 L90.8993 1448.4 L90.8993 1444.14 L99.1632 1442.47 L103.839 1442.47 L103.839 1473.1 L111.478 1473.1 L111.478 1477.03 L91.5706 1477.03 L91.5706 1473.1 Z\" fill=\"#000000\" fill-rule=\"evenodd\" fill-opacity=\"1\" /><path clip-path=\"url(#clip970)\" d=\"M130.922 1445.55 Q127.311 1445.55 125.482 1449.12 Q123.677 1452.66 123.677 1459.79 Q123.677 1466.89 125.482 1470.46 Q127.311 1474 130.922 1474 Q134.556 1474 136.362 1470.46 Q138.191 1466.89 138.191 1459.79 Q138.191 1452.66 136.362 1449.12 Q134.556 1445.55 130.922 1445.55 M130.922 1441.85 Q136.732 1441.85 139.788 1446.45 Q142.867 1451.04 142.867 1459.79 Q142.867 1468.51 139.788 1473.12 Q136.732 1477.7 130.922 1477.7 Q125.112 1477.7 122.033 1473.12 Q118.978 1468.51 118.978 1459.79 Q118.978 1451.04 122.033 1446.45 Q125.112 1441.85 130.922 1441.85 Z\" fill=\"#000000\" fill-rule=\"evenodd\" fill-opacity=\"1\" /><path clip-path=\"url(#clip970)\" d=\"M161.084 1445.55 Q157.473 1445.55 155.644 1449.12 Q153.839 1452.66 153.839 1459.79 Q153.839 1466.89 155.644 1470.46 Q157.473 1474 161.084 1474 Q164.718 1474 166.524 1470.46 Q168.353 1466.89 168.353 1459.79 Q168.353 1452.66 166.524 1449.12 Q164.718 1445.55 161.084 1445.55 M161.084 1441.85 Q166.894 1441.85 169.95 1446.45 Q173.029 1451.04 173.029 1459.79 Q173.029 1468.51 169.95 1473.12 Q166.894 1477.7 161.084 1477.7 Q155.274 1477.7 152.195 1473.12 Q149.14 1468.51 149.14 1459.79 Q149.14 1451.04 152.195 1446.45 Q155.274 1441.85 161.084 1441.85 Z\" fill=\"#000000\" fill-rule=\"evenodd\" fill-opacity=\"1\" /><path clip-path=\"url(#clip970)\" d=\"M81.154 1212.76 L110.83 1212.76 L110.83 1216.7 L81.154 1216.7 L81.154 1212.76 Z\" fill=\"#000000\" fill-rule=\"evenodd\" fill-opacity=\"1\" /><path clip-path=\"url(#clip970)\" d=\"M120.969 1195.03 L139.325 1195.03 L139.325 1198.97 L125.251 1198.97 L125.251 1207.44 Q126.27 1207.09 127.288 1206.93 Q128.307 1206.74 129.325 1206.74 Q135.112 1206.74 138.492 1209.91 Q141.871 1213.09 141.871 1218.5 Q141.871 1224.08 138.399 1227.18 Q134.927 1230.26 128.607 1230.26 Q126.432 1230.26 124.163 1229.89 Q121.918 1229.52 119.51 1228.78 L119.51 1224.08 Q121.594 1225.22 123.816 1225.77 Q126.038 1226.33 128.515 1226.33 Q132.519 1226.33 134.857 1224.22 Q137.195 1222.11 137.195 1218.5 Q137.195 1214.89 134.857 1212.78 Q132.519 1210.68 128.515 1210.68 Q126.64 1210.68 124.765 1211.1 Q122.913 1211.51 120.969 1212.39 L120.969 1195.03 Z\" fill=\"#000000\" fill-rule=\"evenodd\" fill-opacity=\"1\" /><path clip-path=\"url(#clip970)\" d=\"M161.084 1198.11 Q157.473 1198.11 155.644 1201.67 Q153.839 1205.22 153.839 1212.35 Q153.839 1219.45 155.644 1223.02 Q157.473 1226.56 161.084 1226.56 Q164.718 1226.56 166.524 1223.02 Q168.353 1219.45 168.353 1212.35 Q168.353 1205.22 166.524 1201.67 Q164.718 1198.11 161.084 1198.11 M161.084 1194.41 Q166.894 1194.41 169.95 1199.01 Q173.029 1203.6 173.029 1212.35 Q173.029 1221.07 169.95 1225.68 Q166.894 1230.26 161.084 1230.26 Q155.274 1230.26 152.195 1225.68 Q149.14 1221.07 149.14 1212.35 Q149.14 1203.6 152.195 1199.01 Q155.274 1194.41 161.084 1194.41 Z\" fill=\"#000000\" fill-rule=\"evenodd\" fill-opacity=\"1\" /><path clip-path=\"url(#clip970)\" d=\"M161.084 950.666 Q157.473 950.666 155.644 954.231 Q153.839 957.773 153.839 964.902 Q153.839 972.009 155.644 975.573 Q157.473 979.115 161.084 979.115 Q164.718 979.115 166.524 975.573 Q168.353 972.009 168.353 964.902 Q168.353 957.773 166.524 954.231 Q164.718 950.666 161.084 950.666 M161.084 946.962 Q166.894 946.962 169.95 951.569 Q173.029 956.152 173.029 964.902 Q173.029 973.629 169.95 978.235 Q166.894 982.819 161.084 982.819 Q155.274 982.819 152.195 978.235 Q149.14 973.629 149.14 964.902 Q149.14 956.152 152.195 951.569 Q155.274 946.962 161.084 946.962 Z\" fill=\"#000000\" fill-rule=\"evenodd\" fill-opacity=\"1\" /><path clip-path=\"url(#clip970)\" d=\"M120.969 700.144 L139.325 700.144 L139.325 704.08 L125.251 704.08 L125.251 712.552 Q126.27 712.205 127.288 712.043 Q128.307 711.857 129.325 711.857 Q135.112 711.857 138.492 715.029 Q141.871 718.2 141.871 723.617 Q141.871 729.195 138.399 732.297 Q134.927 735.376 128.607 735.376 Q126.432 735.376 124.163 735.005 Q121.918 734.635 119.51 733.894 L119.51 729.195 Q121.594 730.33 123.816 730.885 Q126.038 731.441 128.515 731.441 Q132.519 731.441 134.857 729.334 Q137.195 727.228 137.195 723.617 Q137.195 720.005 134.857 717.899 Q132.519 715.793 128.515 715.793 Q126.64 715.793 124.765 716.209 Q122.913 716.626 120.969 717.506 L120.969 700.144 Z\" fill=\"#000000\" fill-rule=\"evenodd\" fill-opacity=\"1\" /><path clip-path=\"url(#clip970)\" d=\"M161.084 703.223 Q157.473 703.223 155.644 706.788 Q153.839 710.33 153.839 717.459 Q153.839 724.566 155.644 728.13 Q157.473 731.672 161.084 731.672 Q164.718 731.672 166.524 728.13 Q168.353 724.566 168.353 717.459 Q168.353 710.33 166.524 706.788 Q164.718 703.223 161.084 703.223 M161.084 699.519 Q166.894 699.519 169.95 704.126 Q173.029 708.709 173.029 717.459 Q173.029 726.186 169.95 730.792 Q166.894 735.376 161.084 735.376 Q155.274 735.376 152.195 730.792 Q149.14 726.186 149.14 717.459 Q149.14 708.709 152.195 704.126 Q155.274 699.519 161.084 699.519 Z\" fill=\"#000000\" fill-rule=\"evenodd\" fill-opacity=\"1\" /><path clip-path=\"url(#clip970)\" d=\"M91.5706 483.326 L99.2095 483.326 L99.2095 456.961 L90.8993 458.627 L90.8993 454.368 L99.1632 452.702 L103.839 452.702 L103.839 483.326 L111.478 483.326 L111.478 487.262 L91.5706 487.262 L91.5706 483.326 Z\" fill=\"#000000\" fill-rule=\"evenodd\" fill-opacity=\"1\" /><path clip-path=\"url(#clip970)\" d=\"M130.922 455.78 Q127.311 455.78 125.482 459.345 Q123.677 462.887 123.677 470.016 Q123.677 477.123 125.482 480.688 Q127.311 484.229 130.922 484.229 Q134.556 484.229 136.362 480.688 Q138.191 477.123 138.191 470.016 Q138.191 462.887 136.362 459.345 Q134.556 455.78 130.922 455.78 M130.922 452.077 Q136.732 452.077 139.788 456.683 Q142.867 461.266 142.867 470.016 Q142.867 478.743 139.788 483.35 Q136.732 487.933 130.922 487.933 Q125.112 487.933 122.033 483.35 Q118.978 478.743 118.978 470.016 Q118.978 461.266 122.033 456.683 Q125.112 452.077 130.922 452.077 Z\" fill=\"#000000\" fill-rule=\"evenodd\" fill-opacity=\"1\" /><path clip-path=\"url(#clip970)\" d=\"M161.084 455.78 Q157.473 455.78 155.644 459.345 Q153.839 462.887 153.839 470.016 Q153.839 477.123 155.644 480.688 Q157.473 484.229 161.084 484.229 Q164.718 484.229 166.524 480.688 Q168.353 477.123 168.353 470.016 Q168.353 462.887 166.524 459.345 Q164.718 455.78 161.084 455.78 M161.084 452.077 Q166.894 452.077 169.95 456.683 Q173.029 461.266 173.029 470.016 Q173.029 478.743 169.95 483.35 Q166.894 487.933 161.084 487.933 Q155.274 487.933 152.195 483.35 Q149.14 478.743 149.14 470.016 Q149.14 461.266 152.195 456.683 Q155.274 452.077 161.084 452.077 Z\" fill=\"#000000\" fill-rule=\"evenodd\" fill-opacity=\"1\" /><path clip-path=\"url(#clip970)\" d=\"M91.5706 235.884 L99.2095 235.884 L99.2095 209.518 L90.8993 211.185 L90.8993 206.925 L99.1632 205.259 L103.839 205.259 L103.839 235.884 L111.478 235.884 L111.478 239.819 L91.5706 239.819 L91.5706 235.884 Z\" fill=\"#000000\" fill-rule=\"evenodd\" fill-opacity=\"1\" /><path clip-path=\"url(#clip970)\" d=\"M120.969 205.259 L139.325 205.259 L139.325 209.194 L125.251 209.194 L125.251 217.666 Q126.27 217.319 127.288 217.157 Q128.307 216.972 129.325 216.972 Q135.112 216.972 138.492 220.143 Q141.871 223.314 141.871 228.731 Q141.871 234.309 138.399 237.411 Q134.927 240.49 128.607 240.49 Q126.432 240.49 124.163 240.12 Q121.918 239.749 119.51 239.009 L119.51 234.309 Q121.594 235.444 123.816 235.999 Q126.038 236.555 128.515 236.555 Q132.519 236.555 134.857 234.448 Q137.195 232.342 137.195 228.731 Q137.195 225.12 134.857 223.013 Q132.519 220.907 128.515 220.907 Q126.64 220.907 124.765 221.323 Q122.913 221.74 120.969 222.62 L120.969 205.259 Z\" fill=\"#000000\" fill-rule=\"evenodd\" fill-opacity=\"1\" /><path clip-path=\"url(#clip970)\" d=\"M161.084 208.337 Q157.473 208.337 155.644 211.902 Q153.839 215.444 153.839 222.573 Q153.839 229.68 155.644 233.245 Q157.473 236.786 161.084 236.786 Q164.718 236.786 166.524 233.245 Q168.353 229.68 168.353 222.573 Q168.353 215.444 166.524 211.902 Q164.718 208.337 161.084 208.337 M161.084 204.634 Q166.894 204.634 169.95 209.24 Q173.029 213.823 173.029 222.573 Q173.029 231.3 169.95 235.907 Q166.894 240.49 161.084 240.49 Q155.274 240.49 152.195 235.907 Q149.14 231.3 149.14 222.573 Q149.14 213.823 152.195 209.24 Q155.274 204.634 161.084 204.634 Z\" fill=\"#000000\" fill-rule=\"evenodd\" fill-opacity=\"1\" /><circle clip-path=\"url(#clip972)\" cx=\"269.7\" cy=\"904.645\" r=\"14.4\" fill=\"#009af9\" fill-rule=\"evenodd\" fill-opacity=\"1\" stroke=\"#000000\" stroke-opacity=\"1\" stroke-width=\"3.2\"/>\n",
       "<circle clip-path=\"url(#clip972)\" cx=\"370.819\" cy=\"568.411\" r=\"14.4\" fill=\"#009af9\" fill-rule=\"evenodd\" fill-opacity=\"1\" stroke=\"#000000\" stroke-opacity=\"1\" stroke-width=\"3.2\"/>\n",
       "<circle clip-path=\"url(#clip972)\" cx=\"471.938\" cy=\"530.742\" r=\"14.4\" fill=\"#009af9\" fill-rule=\"evenodd\" fill-opacity=\"1\" stroke=\"#000000\" stroke-opacity=\"1\" stroke-width=\"3.2\"/>\n",
       "<circle clip-path=\"url(#clip972)\" cx=\"573.058\" cy=\"966.376\" r=\"14.4\" fill=\"#009af9\" fill-rule=\"evenodd\" fill-opacity=\"1\" stroke=\"#000000\" stroke-opacity=\"1\" stroke-width=\"3.2\"/>\n",
       "<circle clip-path=\"url(#clip972)\" cx=\"674.177\" cy=\"898.563\" r=\"14.4\" fill=\"#009af9\" fill-rule=\"evenodd\" fill-opacity=\"1\" stroke=\"#000000\" stroke-opacity=\"1\" stroke-width=\"3.2\"/>\n",
       "<circle clip-path=\"url(#clip972)\" cx=\"775.296\" cy=\"523.672\" r=\"14.4\" fill=\"#009af9\" fill-rule=\"evenodd\" fill-opacity=\"1\" stroke=\"#000000\" stroke-opacity=\"1\" stroke-width=\"3.2\"/>\n",
       "<circle clip-path=\"url(#clip972)\" cx=\"876.415\" cy=\"677.523\" r=\"14.4\" fill=\"#009af9\" fill-rule=\"evenodd\" fill-opacity=\"1\" stroke=\"#000000\" stroke-opacity=\"1\" stroke-width=\"3.2\"/>\n",
       "<circle clip-path=\"url(#clip972)\" cx=\"977.535\" cy=\"906.392\" r=\"14.4\" fill=\"#009af9\" fill-rule=\"evenodd\" fill-opacity=\"1\" stroke=\"#000000\" stroke-opacity=\"1\" stroke-width=\"3.2\"/>\n",
       "<circle clip-path=\"url(#clip972)\" cx=\"1078.65\" cy=\"444.129\" r=\"14.4\" fill=\"#009af9\" fill-rule=\"evenodd\" fill-opacity=\"1\" stroke=\"#000000\" stroke-opacity=\"1\" stroke-width=\"3.2\"/>\n",
       "<circle clip-path=\"url(#clip972)\" cx=\"1179.77\" cy=\"709.936\" r=\"14.4\" fill=\"#009af9\" fill-rule=\"evenodd\" fill-opacity=\"1\" stroke=\"#000000\" stroke-opacity=\"1\" stroke-width=\"3.2\"/>\n",
       "<circle clip-path=\"url(#clip972)\" cx=\"1280.89\" cy=\"1445.72\" r=\"14.4\" fill=\"#009af9\" fill-rule=\"evenodd\" fill-opacity=\"1\" stroke=\"#000000\" stroke-opacity=\"1\" stroke-width=\"3.2\"/>\n",
       "<circle clip-path=\"url(#clip972)\" cx=\"1382.01\" cy=\"566.705\" r=\"14.4\" fill=\"#009af9\" fill-rule=\"evenodd\" fill-opacity=\"1\" stroke=\"#000000\" stroke-opacity=\"1\" stroke-width=\"3.2\"/>\n",
       "<circle clip-path=\"url(#clip972)\" cx=\"1483.13\" cy=\"724.931\" r=\"14.4\" fill=\"#009af9\" fill-rule=\"evenodd\" fill-opacity=\"1\" stroke=\"#000000\" stroke-opacity=\"1\" stroke-width=\"3.2\"/>\n",
       "<circle clip-path=\"url(#clip972)\" cx=\"1584.25\" cy=\"987.218\" r=\"14.4\" fill=\"#009af9\" fill-rule=\"evenodd\" fill-opacity=\"1\" stroke=\"#000000\" stroke-opacity=\"1\" stroke-width=\"3.2\"/>\n",
       "<circle clip-path=\"url(#clip972)\" cx=\"1685.37\" cy=\"444.577\" r=\"14.4\" fill=\"#009af9\" fill-rule=\"evenodd\" fill-opacity=\"1\" stroke=\"#000000\" stroke-opacity=\"1\" stroke-width=\"3.2\"/>\n",
       "<circle clip-path=\"url(#clip972)\" cx=\"1786.49\" cy=\"706.338\" r=\"14.4\" fill=\"#009af9\" fill-rule=\"evenodd\" fill-opacity=\"1\" stroke=\"#000000\" stroke-opacity=\"1\" stroke-width=\"3.2\"/>\n",
       "<circle clip-path=\"url(#clip972)\" cx=\"1887.61\" cy=\"905.044\" r=\"14.4\" fill=\"#009af9\" fill-rule=\"evenodd\" fill-opacity=\"1\" stroke=\"#000000\" stroke-opacity=\"1\" stroke-width=\"3.2\"/>\n",
       "<circle clip-path=\"url(#clip972)\" cx=\"1988.73\" cy=\"747.33\" r=\"14.4\" fill=\"#009af9\" fill-rule=\"evenodd\" fill-opacity=\"1\" stroke=\"#000000\" stroke-opacity=\"1\" stroke-width=\"3.2\"/>\n",
       "<circle clip-path=\"url(#clip972)\" cx=\"2089.85\" cy=\"981.596\" r=\"14.4\" fill=\"#009af9\" fill-rule=\"evenodd\" fill-opacity=\"1\" stroke=\"#000000\" stroke-opacity=\"1\" stroke-width=\"3.2\"/>\n",
       "<circle clip-path=\"url(#clip972)\" cx=\"2190.97\" cy=\"620.899\" r=\"14.4\" fill=\"#009af9\" fill-rule=\"evenodd\" fill-opacity=\"1\" stroke=\"#000000\" stroke-opacity=\"1\" stroke-width=\"3.2\"/>\n",
       "<circle clip-path=\"url(#clip972)\" cx=\"2292.08\" cy=\"93.5711\" r=\"14.4\" fill=\"#009af9\" fill-rule=\"evenodd\" fill-opacity=\"1\" stroke=\"#000000\" stroke-opacity=\"1\" stroke-width=\"3.2\"/>\n",
       "<polyline clip-path=\"url(#clip972)\" style=\"stroke:#e26f46; stroke-linecap:round; stroke-linejoin:round; stroke-width:4; stroke-opacity:1; fill:none\" points=\"269.7,628.345 370.819,707.527 471.938,776.811 573.058,836.197 674.177,885.686 775.296,925.277 876.415,954.97 977.535,974.765 1078.65,984.663 1179.77,984.663 1280.89,974.765 1382.01,954.97 1483.13,925.277 1584.25,885.686 1685.37,836.197 1786.49,776.811 1887.61,707.527 1988.73,628.345 2089.85,539.266 2190.97,440.288 2292.08,331.414 \"/>\n",
       "<polyline clip-path=\"url(#clip972)\" style=\"stroke:#3da44d; stroke-linecap:round; stroke-linejoin:round; stroke-width:4; stroke-opacity:1; fill:none\" points=\"269.7,912.171 370.819,517.318 471.938,662.19 573.058,836.7 674.177,845.499 775.296,733.833 876.415,630.944 977.535,627.262 1078.65,725.302 1179.77,857.066 1280.89,937.399 1382.01,917.875 1483.13,813.95 1584.25,694.057 1685.37,637.551 1786.49,683.709 1887.61,800.888 1988.73,898.096 2089.85,875.393 2190.97,659.136 2292.08,87.9763 \"/>\n",
       "<path clip-path=\"url(#clip970)\" d=\"M280.486 302.578 L721.733 302.578 L721.733 95.2176 L280.486 95.2176  Z\" fill=\"#ffffff\" fill-rule=\"evenodd\" fill-opacity=\"1\"/>\n",
       "<polyline clip-path=\"url(#clip970)\" style=\"stroke:#000000; stroke-linecap:round; stroke-linejoin:round; stroke-width:4; stroke-opacity:1; fill:none\" points=\"280.486,302.578 721.733,302.578 721.733,95.2176 280.486,95.2176 280.486,302.578 \"/>\n",
       "<circle clip-path=\"url(#clip970)\" cx=\"375.763\" cy=\"147.058\" r=\"23.04\" fill=\"#009af9\" fill-rule=\"evenodd\" fill-opacity=\"1\" stroke=\"#000000\" stroke-opacity=\"1\" stroke-width=\"5.12\"/>\n",
       "<path clip-path=\"url(#clip970)\" d=\"M489.952 142.347 L489.952 128.319 L494.211 128.319 L494.211 164.338 L489.952 164.338 L489.952 160.449 Q488.609 162.763 486.549 163.898 Q484.512 165.009 481.641 165.009 Q476.942 165.009 473.979 161.259 Q471.04 157.509 471.04 151.398 Q471.04 145.287 473.979 141.537 Q476.942 137.787 481.641 137.787 Q484.512 137.787 486.549 138.921 Q488.609 140.032 489.952 142.347 M475.438 151.398 Q475.438 156.097 477.359 158.782 Q479.303 161.444 482.683 161.444 Q486.063 161.444 488.007 158.782 Q489.952 156.097 489.952 151.398 Q489.952 146.699 488.007 144.037 Q486.063 141.352 482.683 141.352 Q479.303 141.352 477.359 144.037 Q475.438 146.699 475.438 151.398 Z\" fill=\"#000000\" fill-rule=\"evenodd\" fill-opacity=\"1\" /><path clip-path=\"url(#clip970)\" d=\"M514.766 151.305 Q509.604 151.305 507.614 152.486 Q505.623 153.666 505.623 156.514 Q505.623 158.782 507.104 160.125 Q508.609 161.444 511.178 161.444 Q514.72 161.444 516.85 158.944 Q519.002 156.421 519.002 152.254 L519.002 151.305 L514.766 151.305 M523.262 149.546 L523.262 164.338 L519.002 164.338 L519.002 160.402 Q517.544 162.763 515.368 163.898 Q513.192 165.009 510.044 165.009 Q506.063 165.009 503.701 162.787 Q501.364 160.541 501.364 156.791 Q501.364 152.416 504.28 150.194 Q507.22 147.972 513.03 147.972 L519.002 147.972 L519.002 147.555 Q519.002 144.615 517.058 143.018 Q515.137 141.398 511.641 141.398 Q509.419 141.398 507.313 141.93 Q505.206 142.463 503.262 143.527 L503.262 139.592 Q505.6 138.69 507.799 138.25 Q509.998 137.787 512.081 137.787 Q517.706 137.787 520.484 140.703 Q523.262 143.62 523.262 149.546 Z\" fill=\"#000000\" fill-rule=\"evenodd\" fill-opacity=\"1\" /><path clip-path=\"url(#clip970)\" d=\"M536.248 131.051 L536.248 138.412 L545.021 138.412 L545.021 141.722 L536.248 141.722 L536.248 155.796 Q536.248 158.967 537.104 159.87 Q537.984 160.773 540.646 160.773 L545.021 160.773 L545.021 164.338 L540.646 164.338 Q535.715 164.338 533.84 162.509 Q531.965 160.657 531.965 155.796 L531.965 141.722 L528.84 141.722 L528.84 138.412 L531.965 138.412 L531.965 131.051 L536.248 131.051 Z\" fill=\"#000000\" fill-rule=\"evenodd\" fill-opacity=\"1\" /><path clip-path=\"url(#clip970)\" d=\"M562.405 151.305 Q557.243 151.305 555.252 152.486 Q553.261 153.666 553.261 156.514 Q553.261 158.782 554.743 160.125 Q556.248 161.444 558.817 161.444 Q562.359 161.444 564.488 158.944 Q566.641 156.421 566.641 152.254 L566.641 151.305 L562.405 151.305 M570.9 149.546 L570.9 164.338 L566.641 164.338 L566.641 160.402 Q565.183 162.763 563.007 163.898 Q560.831 165.009 557.683 165.009 Q553.701 165.009 551.34 162.787 Q549.002 160.541 549.002 156.791 Q549.002 152.416 551.919 150.194 Q554.859 147.972 560.669 147.972 L566.641 147.972 L566.641 147.555 Q566.641 144.615 564.697 143.018 Q562.775 141.398 559.28 141.398 Q557.058 141.398 554.951 141.93 Q552.845 142.463 550.9 143.527 L550.9 139.592 Q553.238 138.69 555.437 138.25 Q557.636 137.787 559.72 137.787 Q565.345 137.787 568.122 140.703 Q570.9 143.62 570.9 149.546 Z\" fill=\"#000000\" fill-rule=\"evenodd\" fill-opacity=\"1\" /><polyline clip-path=\"url(#clip970)\" style=\"stroke:#e26f46; stroke-linecap:round; stroke-linejoin:round; stroke-width:4; stroke-opacity:1; fill:none\" points=\"304.305,198.898 447.22,198.898 \"/>\n",
       "<path clip-path=\"url(#clip970)\" d=\"M471.04 181.618 L500.276 181.618 L500.276 185.553 L488.007 185.553 L488.007 216.178 L483.308 216.178 L483.308 185.553 L471.04 185.553 L471.04 181.618 Z\" fill=\"#000000\" fill-rule=\"evenodd\" fill-opacity=\"1\" /><path clip-path=\"url(#clip970)\" d=\"M512.66 194.233 Q511.942 193.817 511.086 193.631 Q510.252 193.423 509.234 193.423 Q505.623 193.423 503.678 195.784 Q501.757 198.122 501.757 202.52 L501.757 216.178 L497.475 216.178 L497.475 190.252 L501.757 190.252 L501.757 194.28 Q503.1 191.918 505.252 190.784 Q507.405 189.627 510.484 189.627 Q510.924 189.627 511.456 189.696 Q511.988 189.743 512.637 189.858 L512.66 194.233 Z\" fill=\"#000000\" fill-rule=\"evenodd\" fill-opacity=\"1\" /><path clip-path=\"url(#clip970)\" d=\"M516.688 205.946 L516.688 190.252 L520.947 190.252 L520.947 205.784 Q520.947 209.465 522.382 211.316 Q523.817 213.145 526.687 213.145 Q530.137 213.145 532.127 210.946 Q534.141 208.747 534.141 204.951 L534.141 190.252 L538.4 190.252 L538.4 216.178 L534.141 216.178 L534.141 212.196 Q532.59 214.557 530.53 215.715 Q528.493 216.849 525.785 216.849 Q521.317 216.849 519.002 214.071 Q516.688 211.293 516.688 205.946 M527.405 189.627 L527.405 189.627 Z\" fill=\"#000000\" fill-rule=\"evenodd\" fill-opacity=\"1\" /><path clip-path=\"url(#clip970)\" d=\"M569.349 202.15 L569.349 204.233 L549.766 204.233 Q550.044 208.631 552.405 210.946 Q554.789 213.238 559.025 213.238 Q561.479 213.238 563.771 212.636 Q566.085 212.034 568.354 210.83 L568.354 214.858 Q566.062 215.83 563.655 216.34 Q561.247 216.849 558.771 216.849 Q552.567 216.849 548.933 213.238 Q545.322 209.627 545.322 203.469 Q545.322 197.104 548.748 193.377 Q552.197 189.627 558.03 189.627 Q563.261 189.627 566.294 193.006 Q569.349 196.363 569.349 202.15 M565.09 200.9 Q565.044 197.405 563.122 195.321 Q561.224 193.238 558.076 193.238 Q554.511 193.238 552.359 195.252 Q550.229 197.266 549.905 200.923 L565.09 200.9 Z\" fill=\"#000000\" fill-rule=\"evenodd\" fill-opacity=\"1\" /><path clip-path=\"url(#clip970)\" d=\"M591.409 180.159 L595.669 180.159 L595.669 216.178 L591.409 216.178 L591.409 180.159 Z\" fill=\"#000000\" fill-rule=\"evenodd\" fill-opacity=\"1\" /><path clip-path=\"url(#clip970)\" d=\"M604.581 190.252 L608.84 190.252 L608.84 216.178 L604.581 216.178 L604.581 190.252 M604.581 180.159 L608.84 180.159 L608.84 185.553 L604.581 185.553 L604.581 180.159 Z\" fill=\"#000000\" fill-rule=\"evenodd\" fill-opacity=\"1\" /><path clip-path=\"url(#clip970)\" d=\"M639.303 200.529 L639.303 216.178 L635.043 216.178 L635.043 200.668 Q635.043 196.988 633.608 195.159 Q632.173 193.33 629.303 193.33 Q625.854 193.33 623.863 195.53 Q621.872 197.729 621.872 201.525 L621.872 216.178 L617.59 216.178 L617.59 190.252 L621.872 190.252 L621.872 194.28 Q623.4 191.942 625.46 190.784 Q627.543 189.627 630.252 189.627 Q634.719 189.627 637.011 192.405 Q639.303 195.159 639.303 200.529 Z\" fill=\"#000000\" fill-rule=\"evenodd\" fill-opacity=\"1\" /><path clip-path=\"url(#clip970)\" d=\"M669.974 202.15 L669.974 204.233 L650.391 204.233 Q650.668 208.631 653.029 210.946 Q655.414 213.238 659.65 213.238 Q662.103 213.238 664.395 212.636 Q666.71 212.034 668.978 210.83 L668.978 214.858 Q666.687 215.83 664.279 216.34 Q661.872 216.849 659.395 216.849 Q653.191 216.849 649.557 213.238 Q645.946 209.627 645.946 203.469 Q645.946 197.104 649.372 193.377 Q652.821 189.627 658.654 189.627 Q663.886 189.627 666.918 193.006 Q669.974 196.363 669.974 202.15 M665.715 200.9 Q665.668 197.405 663.747 195.321 Q661.849 193.238 658.701 193.238 Q655.136 193.238 652.983 195.252 Q650.853 197.266 650.529 200.923 L665.715 200.9 Z\" fill=\"#000000\" fill-rule=\"evenodd\" fill-opacity=\"1\" /><polyline clip-path=\"url(#clip970)\" style=\"stroke:#3da44d; stroke-linecap:round; stroke-linejoin:round; stroke-width:4; stroke-opacity:1; fill:none\" points=\"304.305,250.738 447.22,250.738 \"/>\n",
       "<path clip-path=\"url(#clip970)\" d=\"M471.04 233.458 L490.901 233.458 L490.901 237.393 L475.716 237.393 L475.716 247.578 L489.419 247.578 L489.419 251.513 L475.716 251.513 L475.716 268.018 L471.04 268.018 L471.04 233.458 Z\" fill=\"#000000\" fill-rule=\"evenodd\" fill-opacity=\"1\" /><path clip-path=\"url(#clip970)\" d=\"M494.674 242.092 L498.933 242.092 L498.933 268.018 L494.674 268.018 L494.674 242.092 M494.674 231.999 L498.933 231.999 L498.933 237.393 L494.674 237.393 L494.674 231.999 Z\" fill=\"#000000\" fill-rule=\"evenodd\" fill-opacity=\"1\" /><path clip-path=\"url(#clip970)\" d=\"M512.058 234.731 L512.058 242.092 L520.831 242.092 L520.831 245.402 L512.058 245.402 L512.058 259.476 Q512.058 262.647 512.914 263.55 Q513.794 264.453 516.456 264.453 L520.831 264.453 L520.831 268.018 L516.456 268.018 Q511.526 268.018 509.651 266.189 Q507.776 264.337 507.776 259.476 L507.776 245.402 L504.651 245.402 L504.651 242.092 L507.776 242.092 L507.776 234.731 L512.058 234.731 Z\" fill=\"#000000\" fill-rule=\"evenodd\" fill-opacity=\"1\" /><path clip-path=\"url(#clip970)\" d=\"M530.646 234.731 L530.646 242.092 L539.419 242.092 L539.419 245.402 L530.646 245.402 L530.646 259.476 Q530.646 262.647 531.502 263.55 Q532.382 264.453 535.044 264.453 L539.419 264.453 L539.419 268.018 L535.044 268.018 Q530.113 268.018 528.238 266.189 Q526.363 264.337 526.363 259.476 L526.363 245.402 L523.238 245.402 L523.238 242.092 L526.363 242.092 L526.363 234.731 L530.646 234.731 Z\" fill=\"#000000\" fill-rule=\"evenodd\" fill-opacity=\"1\" /><path clip-path=\"url(#clip970)\" d=\"M567.197 253.99 L567.197 256.073 L547.613 256.073 Q547.891 260.471 550.252 262.786 Q552.636 265.078 556.873 265.078 Q559.326 265.078 561.618 264.476 Q563.933 263.874 566.201 262.67 L566.201 266.698 Q563.91 267.67 561.502 268.18 Q559.095 268.689 556.618 268.689 Q550.414 268.689 546.78 265.078 Q543.169 261.467 543.169 255.309 Q543.169 248.944 546.595 245.217 Q550.044 241.467 555.877 241.467 Q561.109 241.467 564.141 244.846 Q567.197 248.203 567.197 253.99 M562.937 252.74 Q562.891 249.245 560.97 247.161 Q559.072 245.078 555.923 245.078 Q552.359 245.078 550.206 247.092 Q548.076 249.106 547.752 252.763 L562.937 252.74 Z\" fill=\"#000000\" fill-rule=\"evenodd\" fill-opacity=\"1\" /><path clip-path=\"url(#clip970)\" d=\"M591.247 246.027 L591.247 231.999 L595.507 231.999 L595.507 268.018 L591.247 268.018 L591.247 264.129 Q589.905 266.443 587.845 267.578 Q585.808 268.689 582.937 268.689 Q578.238 268.689 575.275 264.939 Q572.335 261.189 572.335 255.078 Q572.335 248.967 575.275 245.217 Q578.238 241.467 582.937 241.467 Q585.808 241.467 587.845 242.601 Q589.905 243.712 591.247 246.027 M576.734 255.078 Q576.734 259.777 578.655 262.462 Q580.599 265.124 583.979 265.124 Q587.358 265.124 589.303 262.462 Q591.247 259.777 591.247 255.078 Q591.247 250.379 589.303 247.717 Q587.358 245.032 583.979 245.032 Q580.599 245.032 578.655 247.717 Q576.734 250.379 576.734 255.078 Z\" fill=\"#000000\" fill-rule=\"evenodd\" fill-opacity=\"1\" /><path clip-path=\"url(#clip970)\" d=\"M619.349 231.999 L623.608 231.999 L623.608 268.018 L619.349 268.018 L619.349 231.999 Z\" fill=\"#000000\" fill-rule=\"evenodd\" fill-opacity=\"1\" /><path clip-path=\"url(#clip970)\" d=\"M632.52 242.092 L636.779 242.092 L636.779 268.018 L632.52 268.018 L632.52 242.092 M632.52 231.999 L636.779 231.999 L636.779 237.393 L632.52 237.393 L632.52 231.999 Z\" fill=\"#000000\" fill-rule=\"evenodd\" fill-opacity=\"1\" /><path clip-path=\"url(#clip970)\" d=\"M667.242 252.369 L667.242 268.018 L662.983 268.018 L662.983 252.508 Q662.983 248.828 661.548 246.999 Q660.113 245.17 657.242 245.17 Q653.793 245.17 651.803 247.37 Q649.812 249.569 649.812 253.365 L649.812 268.018 L645.529 268.018 L645.529 242.092 L649.812 242.092 L649.812 246.12 Q651.34 243.782 653.4 242.624 Q655.483 241.467 658.191 241.467 Q662.659 241.467 664.951 244.245 Q667.242 246.999 667.242 252.369 Z\" fill=\"#000000\" fill-rule=\"evenodd\" fill-opacity=\"1\" /><path clip-path=\"url(#clip970)\" d=\"M697.913 253.99 L697.913 256.073 L678.33 256.073 Q678.608 260.471 680.969 262.786 Q683.353 265.078 687.589 265.078 Q690.043 265.078 692.335 264.476 Q694.65 263.874 696.918 262.67 L696.918 266.698 Q694.626 267.67 692.219 268.18 Q689.812 268.689 687.335 268.689 Q681.131 268.689 677.497 265.078 Q673.886 261.467 673.886 255.309 Q673.886 248.944 677.312 245.217 Q680.761 241.467 686.594 241.467 Q691.825 241.467 694.858 244.846 Q697.913 248.203 697.913 253.99 M693.654 252.74 Q693.608 249.245 691.687 247.161 Q689.788 245.078 686.64 245.078 Q683.076 245.078 680.923 247.092 Q678.793 249.106 678.469 252.763 L693.654 252.74 Z\" fill=\"#000000\" fill-rule=\"evenodd\" fill-opacity=\"1\" /></svg>\n"
      ]
     },
     "execution_count": 69,
     "metadata": {},
     "output_type": "execute_result"
    }
   ],
   "source": [
    "x3=-10:10\n",
    "collect(x3)\n",
    "y_true3 = x3.^2 .+ 3 .*x3 .- 2\n",
    "d3 = 50\n",
    "noise3 = di.Normal(0, d3)\n",
    "y_observed3 = y_true3 .+ rand(noise3, length(x3))\n",
    "poly_fit3 = fit(x3, y_observed3, 10)\n",
    "y_fitted3 = poly_fit3.(x3)\n",
    "scatter(x3, y_observed3, label = \"data\")\n",
    "plot!(x3, y_true3, label = \"True line\")\n",
    "plot!(x3, y_fitted3, label = \"Fitted line\")"
   ]
  },
  {
   "cell_type": "markdown",
   "id": "36028ee0",
   "metadata": {},
   "source": [
    "### 2.6\n",
    "\n",
    "1. Create a new independent parameter x_fit ranging from -11 to 11 with an increment of 0.1\n",
    "2. Plot the same three plots as in 2.3 again but apply the tenth order polynomial to x_fit instead of x\n"
   ]
  },
  {
   "cell_type": "code",
   "execution_count": 70,
   "id": "6c67a977",
   "metadata": {},
   "outputs": [
    {
     "data": {
      "image/svg+xml": [
       "<?xml version=\"1.0\" encoding=\"utf-8\"?>\n",
       "<svg xmlns=\"http://www.w3.org/2000/svg\" xmlns:xlink=\"http://www.w3.org/1999/xlink\" width=\"600\" height=\"400\" viewBox=\"0 0 2400 1600\">\n",
       "<defs>\n",
       "  <clipPath id=\"clip010\">\n",
       "    <rect x=\"0\" y=\"0\" width=\"2400\" height=\"1600\"/>\n",
       "  </clipPath>\n",
       "</defs>\n",
       "<path clip-path=\"url(#clip010)\" d=\"M0 1600 L2400 1600 L2400 0 L0 0  Z\" fill=\"#ffffff\" fill-rule=\"evenodd\" fill-opacity=\"1\"/>\n",
       "<defs>\n",
       "  <clipPath id=\"clip011\">\n",
       "    <rect x=\"480\" y=\"0\" width=\"1681\" height=\"1600\"/>\n",
       "  </clipPath>\n",
       "</defs>\n",
       "<path clip-path=\"url(#clip010)\" d=\"M209.029 1486.45 L2352.76 1486.45 L2352.76 47.2441 L209.029 47.2441  Z\" fill=\"#ffffff\" fill-rule=\"evenodd\" fill-opacity=\"1\"/>\n",
       "<defs>\n",
       "  <clipPath id=\"clip012\">\n",
       "    <rect x=\"209\" y=\"47\" width=\"2145\" height=\"1440\"/>\n",
       "  </clipPath>\n",
       "</defs>\n",
       "<polyline clip-path=\"url(#clip012)\" style=\"stroke:#000000; stroke-linecap:round; stroke-linejoin:round; stroke-width:2; stroke-opacity:0.1; fill:none\" points=\"361.627,1486.45 361.627,47.2441 \"/>\n",
       "<polyline clip-path=\"url(#clip012)\" style=\"stroke:#000000; stroke-linecap:round; stroke-linejoin:round; stroke-width:2; stroke-opacity:0.1; fill:none\" points=\"821.259,1486.45 821.259,47.2441 \"/>\n",
       "<polyline clip-path=\"url(#clip012)\" style=\"stroke:#000000; stroke-linecap:round; stroke-linejoin:round; stroke-width:2; stroke-opacity:0.1; fill:none\" points=\"1280.89,1486.45 1280.89,47.2441 \"/>\n",
       "<polyline clip-path=\"url(#clip012)\" style=\"stroke:#000000; stroke-linecap:round; stroke-linejoin:round; stroke-width:2; stroke-opacity:0.1; fill:none\" points=\"1740.53,1486.45 1740.53,47.2441 \"/>\n",
       "<polyline clip-path=\"url(#clip012)\" style=\"stroke:#000000; stroke-linecap:round; stroke-linejoin:round; stroke-width:2; stroke-opacity:0.1; fill:none\" points=\"2200.16,1486.45 2200.16,47.2441 \"/>\n",
       "<polyline clip-path=\"url(#clip010)\" style=\"stroke:#000000; stroke-linecap:round; stroke-linejoin:round; stroke-width:4; stroke-opacity:1; fill:none\" points=\"209.029,1486.45 2352.76,1486.45 \"/>\n",
       "<polyline clip-path=\"url(#clip010)\" style=\"stroke:#000000; stroke-linecap:round; stroke-linejoin:round; stroke-width:4; stroke-opacity:1; fill:none\" points=\"361.627,1486.45 361.627,1467.55 \"/>\n",
       "<polyline clip-path=\"url(#clip010)\" style=\"stroke:#000000; stroke-linecap:round; stroke-linejoin:round; stroke-width:4; stroke-opacity:1; fill:none\" points=\"821.259,1486.45 821.259,1467.55 \"/>\n",
       "<polyline clip-path=\"url(#clip010)\" style=\"stroke:#000000; stroke-linecap:round; stroke-linejoin:round; stroke-width:4; stroke-opacity:1; fill:none\" points=\"1280.89,1486.45 1280.89,1467.55 \"/>\n",
       "<polyline clip-path=\"url(#clip010)\" style=\"stroke:#000000; stroke-linecap:round; stroke-linejoin:round; stroke-width:4; stroke-opacity:1; fill:none\" points=\"1740.53,1486.45 1740.53,1467.55 \"/>\n",
       "<polyline clip-path=\"url(#clip010)\" style=\"stroke:#000000; stroke-linecap:round; stroke-linejoin:round; stroke-width:4; stroke-opacity:1; fill:none\" points=\"2200.16,1486.45 2200.16,1467.55 \"/>\n",
       "<path clip-path=\"url(#clip010)\" d=\"M315.689 1532.02 L345.365 1532.02 L345.365 1535.95 L315.689 1535.95 L315.689 1532.02 Z\" fill=\"#000000\" fill-rule=\"evenodd\" fill-opacity=\"1\" /><path clip-path=\"url(#clip010)\" d=\"M356.268 1544.91 L363.907 1544.91 L363.907 1518.55 L355.597 1520.21 L355.597 1515.95 L363.86 1514.29 L368.536 1514.29 L368.536 1544.91 L376.175 1544.91 L376.175 1548.85 L356.268 1548.85 L356.268 1544.91 Z\" fill=\"#000000\" fill-rule=\"evenodd\" fill-opacity=\"1\" /><path clip-path=\"url(#clip010)\" d=\"M395.619 1517.37 Q392.008 1517.37 390.18 1520.93 Q388.374 1524.47 388.374 1531.6 Q388.374 1538.71 390.18 1542.27 Q392.008 1545.82 395.619 1545.82 Q399.254 1545.82 401.059 1542.27 Q402.888 1538.71 402.888 1531.6 Q402.888 1524.47 401.059 1520.93 Q399.254 1517.37 395.619 1517.37 M395.619 1513.66 Q401.43 1513.66 404.485 1518.27 Q407.564 1522.85 407.564 1531.6 Q407.564 1540.33 404.485 1544.94 Q401.43 1549.52 395.619 1549.52 Q389.809 1549.52 386.731 1544.94 Q383.675 1540.33 383.675 1531.6 Q383.675 1522.85 386.731 1518.27 Q389.809 1513.66 395.619 1513.66 Z\" fill=\"#000000\" fill-rule=\"evenodd\" fill-opacity=\"1\" /><path clip-path=\"url(#clip010)\" d=\"M790.901 1532.02 L820.577 1532.02 L820.577 1535.95 L790.901 1535.95 L790.901 1532.02 Z\" fill=\"#000000\" fill-rule=\"evenodd\" fill-opacity=\"1\" /><path clip-path=\"url(#clip010)\" d=\"M830.715 1514.29 L849.072 1514.29 L849.072 1518.22 L834.998 1518.22 L834.998 1526.7 Q836.016 1526.35 837.035 1526.19 Q838.053 1526 839.072 1526 Q844.859 1526 848.238 1529.17 Q851.618 1532.34 851.618 1537.76 Q851.618 1543.34 848.146 1546.44 Q844.674 1549.52 838.354 1549.52 Q836.178 1549.52 833.91 1549.15 Q831.664 1548.78 829.257 1548.04 L829.257 1543.34 Q831.34 1544.47 833.563 1545.03 Q835.785 1545.58 838.262 1545.58 Q842.266 1545.58 844.604 1543.48 Q846.942 1541.37 846.942 1537.76 Q846.942 1534.15 844.604 1532.04 Q842.266 1529.94 838.262 1529.94 Q836.387 1529.94 834.512 1530.35 Q832.66 1530.77 830.715 1531.65 L830.715 1514.29 Z\" fill=\"#000000\" fill-rule=\"evenodd\" fill-opacity=\"1\" /><path clip-path=\"url(#clip010)\" d=\"M1280.89 1517.37 Q1277.28 1517.37 1275.45 1520.93 Q1273.65 1524.47 1273.65 1531.6 Q1273.65 1538.71 1275.45 1542.27 Q1277.28 1545.82 1280.89 1545.82 Q1284.53 1545.82 1286.33 1542.27 Q1288.16 1538.71 1288.16 1531.6 Q1288.16 1524.47 1286.33 1520.93 Q1284.53 1517.37 1280.89 1517.37 M1280.89 1513.66 Q1286.7 1513.66 1289.76 1518.27 Q1292.84 1522.85 1292.84 1531.6 Q1292.84 1540.33 1289.76 1544.94 Q1286.7 1549.52 1280.89 1549.52 Q1275.08 1549.52 1272 1544.94 Q1268.95 1540.33 1268.95 1531.6 Q1268.95 1522.85 1272 1518.27 Q1275.08 1513.66 1280.89 1513.66 Z\" fill=\"#000000\" fill-rule=\"evenodd\" fill-opacity=\"1\" /><path clip-path=\"url(#clip010)\" d=\"M1730.8 1514.29 L1749.16 1514.29 L1749.16 1518.22 L1735.09 1518.22 L1735.09 1526.7 Q1736.1 1526.35 1737.12 1526.19 Q1738.14 1526 1739.16 1526 Q1744.95 1526 1748.33 1529.17 Q1751.71 1532.34 1751.71 1537.76 Q1751.71 1543.34 1748.23 1546.44 Q1744.76 1549.52 1738.44 1549.52 Q1736.27 1549.52 1734 1549.15 Q1731.75 1548.78 1729.34 1548.04 L1729.34 1543.34 Q1731.43 1544.47 1733.65 1545.03 Q1735.87 1545.58 1738.35 1545.58 Q1742.35 1545.58 1744.69 1543.48 Q1747.03 1541.37 1747.03 1537.76 Q1747.03 1534.15 1744.69 1532.04 Q1742.35 1529.94 1738.35 1529.94 Q1736.47 1529.94 1734.6 1530.35 Q1732.75 1530.77 1730.8 1531.65 L1730.8 1514.29 Z\" fill=\"#000000\" fill-rule=\"evenodd\" fill-opacity=\"1\" /><path clip-path=\"url(#clip010)\" d=\"M2174.85 1544.91 L2182.48 1544.91 L2182.48 1518.55 L2174.17 1520.21 L2174.17 1515.95 L2182.44 1514.29 L2187.11 1514.29 L2187.11 1544.91 L2194.75 1544.91 L2194.75 1548.85 L2174.85 1548.85 L2174.85 1544.91 Z\" fill=\"#000000\" fill-rule=\"evenodd\" fill-opacity=\"1\" /><path clip-path=\"url(#clip010)\" d=\"M2214.2 1517.37 Q2210.59 1517.37 2208.76 1520.93 Q2206.95 1524.47 2206.95 1531.6 Q2206.95 1538.71 2208.76 1542.27 Q2210.59 1545.82 2214.2 1545.82 Q2217.83 1545.82 2219.64 1542.27 Q2221.47 1538.71 2221.47 1531.6 Q2221.47 1524.47 2219.64 1520.93 Q2217.83 1517.37 2214.2 1517.37 M2214.2 1513.66 Q2220.01 1513.66 2223.06 1518.27 Q2226.14 1522.85 2226.14 1531.6 Q2226.14 1540.33 2223.06 1544.94 Q2220.01 1549.52 2214.2 1549.52 Q2208.39 1549.52 2205.31 1544.94 Q2202.25 1540.33 2202.25 1531.6 Q2202.25 1522.85 2205.31 1518.27 Q2208.39 1513.66 2214.2 1513.66 Z\" fill=\"#000000\" fill-rule=\"evenodd\" fill-opacity=\"1\" /><polyline clip-path=\"url(#clip012)\" style=\"stroke:#000000; stroke-linecap:round; stroke-linejoin:round; stroke-width:2; stroke-opacity:0.1; fill:none\" points=\"209.029,1401.66 2352.76,1401.66 \"/>\n",
       "<polyline clip-path=\"url(#clip012)\" style=\"stroke:#000000; stroke-linecap:round; stroke-linejoin:round; stroke-width:2; stroke-opacity:0.1; fill:none\" points=\"209.029,1023.36 2352.76,1023.36 \"/>\n",
       "<polyline clip-path=\"url(#clip012)\" style=\"stroke:#000000; stroke-linecap:round; stroke-linejoin:round; stroke-width:2; stroke-opacity:0.1; fill:none\" points=\"209.029,645.067 2352.76,645.067 \"/>\n",
       "<polyline clip-path=\"url(#clip012)\" style=\"stroke:#000000; stroke-linecap:round; stroke-linejoin:round; stroke-width:2; stroke-opacity:0.1; fill:none\" points=\"209.029,266.773 2352.76,266.773 \"/>\n",
       "<polyline clip-path=\"url(#clip010)\" style=\"stroke:#000000; stroke-linecap:round; stroke-linejoin:round; stroke-width:4; stroke-opacity:1; fill:none\" points=\"209.029,1486.45 209.029,47.2441 \"/>\n",
       "<polyline clip-path=\"url(#clip010)\" style=\"stroke:#000000; stroke-linecap:round; stroke-linejoin:round; stroke-width:4; stroke-opacity:1; fill:none\" points=\"209.029,1401.66 227.926,1401.66 \"/>\n",
       "<polyline clip-path=\"url(#clip010)\" style=\"stroke:#000000; stroke-linecap:round; stroke-linejoin:round; stroke-width:4; stroke-opacity:1; fill:none\" points=\"209.029,1023.36 227.926,1023.36 \"/>\n",
       "<polyline clip-path=\"url(#clip010)\" style=\"stroke:#000000; stroke-linecap:round; stroke-linejoin:round; stroke-width:4; stroke-opacity:1; fill:none\" points=\"209.029,645.067 227.926,645.067 \"/>\n",
       "<polyline clip-path=\"url(#clip010)\" style=\"stroke:#000000; stroke-linecap:round; stroke-linejoin:round; stroke-width:4; stroke-opacity:1; fill:none\" points=\"209.029,266.773 227.926,266.773 \"/>\n",
       "<path clip-path=\"url(#clip010)\" d=\"M50.9921 1402.11 L80.6679 1402.11 L80.6679 1406.04 L50.9921 1406.04 L50.9921 1402.11 Z\" fill=\"#000000\" fill-rule=\"evenodd\" fill-opacity=\"1\" /><path clip-path=\"url(#clip010)\" d=\"M91.5706 1415 L99.2095 1415 L99.2095 1388.64 L90.8993 1390.3 L90.8993 1386.04 L99.1632 1384.38 L103.839 1384.38 L103.839 1415 L111.478 1415 L111.478 1418.94 L91.5706 1418.94 L91.5706 1415 Z\" fill=\"#000000\" fill-rule=\"evenodd\" fill-opacity=\"1\" /><path clip-path=\"url(#clip010)\" d=\"M130.922 1387.46 Q127.311 1387.46 125.482 1391.02 Q123.677 1394.56 123.677 1401.69 Q123.677 1408.8 125.482 1412.36 Q127.311 1415.9 130.922 1415.9 Q134.556 1415.9 136.362 1412.36 Q138.191 1408.8 138.191 1401.69 Q138.191 1394.56 136.362 1391.02 Q134.556 1387.46 130.922 1387.46 M130.922 1383.75 Q136.732 1383.75 139.788 1388.36 Q142.867 1392.94 142.867 1401.69 Q142.867 1410.42 139.788 1415.02 Q136.732 1419.61 130.922 1419.61 Q125.112 1419.61 122.033 1415.02 Q118.978 1410.42 118.978 1401.69 Q118.978 1392.94 122.033 1388.36 Q125.112 1383.75 130.922 1383.75 Z\" fill=\"#000000\" fill-rule=\"evenodd\" fill-opacity=\"1\" /><path clip-path=\"url(#clip010)\" d=\"M161.084 1387.46 Q157.473 1387.46 155.644 1391.02 Q153.839 1394.56 153.839 1401.69 Q153.839 1408.8 155.644 1412.36 Q157.473 1415.9 161.084 1415.9 Q164.718 1415.9 166.524 1412.36 Q168.353 1408.8 168.353 1401.69 Q168.353 1394.56 166.524 1391.02 Q164.718 1387.46 161.084 1387.46 M161.084 1383.75 Q166.894 1383.75 169.95 1388.36 Q173.029 1392.94 173.029 1401.69 Q173.029 1410.42 169.95 1415.02 Q166.894 1419.61 161.084 1419.61 Q155.274 1419.61 152.195 1415.02 Q149.14 1410.42 149.14 1401.69 Q149.14 1392.94 152.195 1388.36 Q155.274 1383.75 161.084 1383.75 Z\" fill=\"#000000\" fill-rule=\"evenodd\" fill-opacity=\"1\" /><path clip-path=\"url(#clip010)\" d=\"M161.084 1009.16 Q157.473 1009.16 155.644 1012.73 Q153.839 1016.27 153.839 1023.4 Q153.839 1030.5 155.644 1034.07 Q157.473 1037.61 161.084 1037.61 Q164.718 1037.61 166.524 1034.07 Q168.353 1030.5 168.353 1023.4 Q168.353 1016.27 166.524 1012.73 Q164.718 1009.16 161.084 1009.16 M161.084 1005.46 Q166.894 1005.46 169.95 1010.06 Q173.029 1014.65 173.029 1023.4 Q173.029 1032.12 169.95 1036.73 Q166.894 1041.31 161.084 1041.31 Q155.274 1041.31 152.195 1036.73 Q149.14 1032.12 149.14 1023.4 Q149.14 1014.65 152.195 1010.06 Q155.274 1005.46 161.084 1005.46 Z\" fill=\"#000000\" fill-rule=\"evenodd\" fill-opacity=\"1\" /><path clip-path=\"url(#clip010)\" d=\"M91.5706 658.412 L99.2095 658.412 L99.2095 632.047 L90.8993 633.713 L90.8993 629.454 L99.1632 627.787 L103.839 627.787 L103.839 658.412 L111.478 658.412 L111.478 662.347 L91.5706 662.347 L91.5706 658.412 Z\" fill=\"#000000\" fill-rule=\"evenodd\" fill-opacity=\"1\" /><path clip-path=\"url(#clip010)\" d=\"M130.922 630.866 Q127.311 630.866 125.482 634.431 Q123.677 637.972 123.677 645.102 Q123.677 652.209 125.482 655.773 Q127.311 659.315 130.922 659.315 Q134.556 659.315 136.362 655.773 Q138.191 652.209 138.191 645.102 Q138.191 637.972 136.362 634.431 Q134.556 630.866 130.922 630.866 M130.922 627.162 Q136.732 627.162 139.788 631.769 Q142.867 636.352 142.867 645.102 Q142.867 653.829 139.788 658.435 Q136.732 663.019 130.922 663.019 Q125.112 663.019 122.033 658.435 Q118.978 653.829 118.978 645.102 Q118.978 636.352 122.033 631.769 Q125.112 627.162 130.922 627.162 Z\" fill=\"#000000\" fill-rule=\"evenodd\" fill-opacity=\"1\" /><path clip-path=\"url(#clip010)\" d=\"M161.084 630.866 Q157.473 630.866 155.644 634.431 Q153.839 637.972 153.839 645.102 Q153.839 652.209 155.644 655.773 Q157.473 659.315 161.084 659.315 Q164.718 659.315 166.524 655.773 Q168.353 652.209 168.353 645.102 Q168.353 637.972 166.524 634.431 Q164.718 630.866 161.084 630.866 M161.084 627.162 Q166.894 627.162 169.95 631.769 Q173.029 636.352 173.029 645.102 Q173.029 653.829 169.95 658.435 Q166.894 663.019 161.084 663.019 Q155.274 663.019 152.195 658.435 Q149.14 653.829 149.14 645.102 Q149.14 636.352 152.195 631.769 Q155.274 627.162 161.084 627.162 Z\" fill=\"#000000\" fill-rule=\"evenodd\" fill-opacity=\"1\" /><path clip-path=\"url(#clip010)\" d=\"M94.7882 280.118 L111.108 280.118 L111.108 284.053 L89.1632 284.053 L89.1632 280.118 Q91.8252 277.363 96.4085 272.733 Q101.015 268.081 102.196 266.738 Q104.441 264.215 105.321 262.479 Q106.223 260.72 106.223 259.03 Q106.223 256.275 104.279 254.539 Q102.358 252.803 99.2558 252.803 Q97.0567 252.803 94.603 253.567 Q92.1725 254.331 89.3947 255.882 L89.3947 251.159 Q92.2188 250.025 94.6724 249.446 Q97.1261 248.868 99.1632 248.868 Q104.534 248.868 107.728 251.553 Q110.922 254.238 110.922 258.729 Q110.922 260.858 110.112 262.78 Q109.325 264.678 107.219 267.27 Q106.64 267.942 103.538 271.159 Q100.436 274.354 94.7882 280.118 Z\" fill=\"#000000\" fill-rule=\"evenodd\" fill-opacity=\"1\" /><path clip-path=\"url(#clip010)\" d=\"M130.922 252.571 Q127.311 252.571 125.482 256.136 Q123.677 259.678 123.677 266.807 Q123.677 273.914 125.482 277.479 Q127.311 281.02 130.922 281.02 Q134.556 281.02 136.362 277.479 Q138.191 273.914 138.191 266.807 Q138.191 259.678 136.362 256.136 Q134.556 252.571 130.922 252.571 M130.922 248.868 Q136.732 248.868 139.788 253.474 Q142.867 258.058 142.867 266.807 Q142.867 275.534 139.788 280.141 Q136.732 284.724 130.922 284.724 Q125.112 284.724 122.033 280.141 Q118.978 275.534 118.978 266.807 Q118.978 258.058 122.033 253.474 Q125.112 248.868 130.922 248.868 Z\" fill=\"#000000\" fill-rule=\"evenodd\" fill-opacity=\"1\" /><path clip-path=\"url(#clip010)\" d=\"M161.084 252.571 Q157.473 252.571 155.644 256.136 Q153.839 259.678 153.839 266.807 Q153.839 273.914 155.644 277.479 Q157.473 281.02 161.084 281.02 Q164.718 281.02 166.524 277.479 Q168.353 273.914 168.353 266.807 Q168.353 259.678 166.524 256.136 Q164.718 252.571 161.084 252.571 M161.084 248.868 Q166.894 248.868 169.95 253.474 Q173.029 258.058 173.029 266.807 Q173.029 275.534 169.95 280.141 Q166.894 284.724 161.084 284.724 Q155.274 284.724 152.195 280.141 Q149.14 275.534 149.14 266.807 Q149.14 258.058 152.195 253.474 Q155.274 248.868 161.084 248.868 Z\" fill=\"#000000\" fill-rule=\"evenodd\" fill-opacity=\"1\" /><circle clip-path=\"url(#clip012)\" cx=\"269.7\" cy=\"801.817\" r=\"14.4\" fill=\"#009af9\" fill-rule=\"evenodd\" fill-opacity=\"1\" stroke=\"#000000\" stroke-opacity=\"1\" stroke-width=\"3.2\"/>\n",
       "<circle clip-path=\"url(#clip012)\" cx=\"278.893\" cy=\"386.039\" r=\"14.4\" fill=\"#009af9\" fill-rule=\"evenodd\" fill-opacity=\"1\" stroke=\"#000000\" stroke-opacity=\"1\" stroke-width=\"3.2\"/>\n",
       "<circle clip-path=\"url(#clip012)\" cx=\"288.085\" cy=\"737.899\" r=\"14.4\" fill=\"#009af9\" fill-rule=\"evenodd\" fill-opacity=\"1\" stroke=\"#000000\" stroke-opacity=\"1\" stroke-width=\"3.2\"/>\n",
       "<circle clip-path=\"url(#clip012)\" cx=\"297.278\" cy=\"494.406\" r=\"14.4\" fill=\"#009af9\" fill-rule=\"evenodd\" fill-opacity=\"1\" stroke=\"#000000\" stroke-opacity=\"1\" stroke-width=\"3.2\"/>\n",
       "<circle clip-path=\"url(#clip012)\" cx=\"306.471\" cy=\"521.6\" r=\"14.4\" fill=\"#009af9\" fill-rule=\"evenodd\" fill-opacity=\"1\" stroke=\"#000000\" stroke-opacity=\"1\" stroke-width=\"3.2\"/>\n",
       "<circle clip-path=\"url(#clip012)\" cx=\"315.663\" cy=\"772.073\" r=\"14.4\" fill=\"#009af9\" fill-rule=\"evenodd\" fill-opacity=\"1\" stroke=\"#000000\" stroke-opacity=\"1\" stroke-width=\"3.2\"/>\n",
       "<circle clip-path=\"url(#clip012)\" cx=\"324.856\" cy=\"614.079\" r=\"14.4\" fill=\"#009af9\" fill-rule=\"evenodd\" fill-opacity=\"1\" stroke=\"#000000\" stroke-opacity=\"1\" stroke-width=\"3.2\"/>\n",
       "<circle clip-path=\"url(#clip012)\" cx=\"334.049\" cy=\"1139.28\" r=\"14.4\" fill=\"#009af9\" fill-rule=\"evenodd\" fill-opacity=\"1\" stroke=\"#000000\" stroke-opacity=\"1\" stroke-width=\"3.2\"/>\n",
       "<circle clip-path=\"url(#clip012)\" cx=\"343.241\" cy=\"787.727\" r=\"14.4\" fill=\"#009af9\" fill-rule=\"evenodd\" fill-opacity=\"1\" stroke=\"#000000\" stroke-opacity=\"1\" stroke-width=\"3.2\"/>\n",
       "<circle clip-path=\"url(#clip012)\" cx=\"352.434\" cy=\"472.132\" r=\"14.4\" fill=\"#009af9\" fill-rule=\"evenodd\" fill-opacity=\"1\" stroke=\"#000000\" stroke-opacity=\"1\" stroke-width=\"3.2\"/>\n",
       "<circle clip-path=\"url(#clip012)\" cx=\"361.627\" cy=\"954.518\" r=\"14.4\" fill=\"#009af9\" fill-rule=\"evenodd\" fill-opacity=\"1\" stroke=\"#000000\" stroke-opacity=\"1\" stroke-width=\"3.2\"/>\n",
       "<circle clip-path=\"url(#clip012)\" cx=\"370.819\" cy=\"1154.96\" r=\"14.4\" fill=\"#009af9\" fill-rule=\"evenodd\" fill-opacity=\"1\" stroke=\"#000000\" stroke-opacity=\"1\" stroke-width=\"3.2\"/>\n",
       "<circle clip-path=\"url(#clip012)\" cx=\"380.012\" cy=\"853.367\" r=\"14.4\" fill=\"#009af9\" fill-rule=\"evenodd\" fill-opacity=\"1\" stroke=\"#000000\" stroke-opacity=\"1\" stroke-width=\"3.2\"/>\n",
       "<circle clip-path=\"url(#clip012)\" cx=\"389.205\" cy=\"1057.83\" r=\"14.4\" fill=\"#009af9\" fill-rule=\"evenodd\" fill-opacity=\"1\" stroke=\"#000000\" stroke-opacity=\"1\" stroke-width=\"3.2\"/>\n",
       "<circle clip-path=\"url(#clip012)\" cx=\"398.397\" cy=\"690.939\" r=\"14.4\" fill=\"#009af9\" fill-rule=\"evenodd\" fill-opacity=\"1\" stroke=\"#000000\" stroke-opacity=\"1\" stroke-width=\"3.2\"/>\n",
       "<circle clip-path=\"url(#clip012)\" cx=\"407.59\" cy=\"630.047\" r=\"14.4\" fill=\"#009af9\" fill-rule=\"evenodd\" fill-opacity=\"1\" stroke=\"#000000\" stroke-opacity=\"1\" stroke-width=\"3.2\"/>\n",
       "<circle clip-path=\"url(#clip012)\" cx=\"416.783\" cy=\"1044.16\" r=\"14.4\" fill=\"#009af9\" fill-rule=\"evenodd\" fill-opacity=\"1\" stroke=\"#000000\" stroke-opacity=\"1\" stroke-width=\"3.2\"/>\n",
       "<circle clip-path=\"url(#clip012)\" cx=\"425.975\" cy=\"867.491\" r=\"14.4\" fill=\"#009af9\" fill-rule=\"evenodd\" fill-opacity=\"1\" stroke=\"#000000\" stroke-opacity=\"1\" stroke-width=\"3.2\"/>\n",
       "<circle clip-path=\"url(#clip012)\" cx=\"435.168\" cy=\"613.9\" r=\"14.4\" fill=\"#009af9\" fill-rule=\"evenodd\" fill-opacity=\"1\" stroke=\"#000000\" stroke-opacity=\"1\" stroke-width=\"3.2\"/>\n",
       "<circle clip-path=\"url(#clip012)\" cx=\"444.361\" cy=\"682.118\" r=\"14.4\" fill=\"#009af9\" fill-rule=\"evenodd\" fill-opacity=\"1\" stroke=\"#000000\" stroke-opacity=\"1\" stroke-width=\"3.2\"/>\n",
       "<circle clip-path=\"url(#clip012)\" cx=\"453.553\" cy=\"767.212\" r=\"14.4\" fill=\"#009af9\" fill-rule=\"evenodd\" fill-opacity=\"1\" stroke=\"#000000\" stroke-opacity=\"1\" stroke-width=\"3.2\"/>\n",
       "<circle clip-path=\"url(#clip012)\" cx=\"462.746\" cy=\"688.388\" r=\"14.4\" fill=\"#009af9\" fill-rule=\"evenodd\" fill-opacity=\"1\" stroke=\"#000000\" stroke-opacity=\"1\" stroke-width=\"3.2\"/>\n",
       "<circle clip-path=\"url(#clip012)\" cx=\"471.938\" cy=\"789.256\" r=\"14.4\" fill=\"#009af9\" fill-rule=\"evenodd\" fill-opacity=\"1\" stroke=\"#000000\" stroke-opacity=\"1\" stroke-width=\"3.2\"/>\n",
       "<circle clip-path=\"url(#clip012)\" cx=\"481.131\" cy=\"828.907\" r=\"14.4\" fill=\"#009af9\" fill-rule=\"evenodd\" fill-opacity=\"1\" stroke=\"#000000\" stroke-opacity=\"1\" stroke-width=\"3.2\"/>\n",
       "<circle clip-path=\"url(#clip012)\" cx=\"490.324\" cy=\"775.906\" r=\"14.4\" fill=\"#009af9\" fill-rule=\"evenodd\" fill-opacity=\"1\" stroke=\"#000000\" stroke-opacity=\"1\" stroke-width=\"3.2\"/>\n",
       "<circle clip-path=\"url(#clip012)\" cx=\"499.516\" cy=\"297.84\" r=\"14.4\" fill=\"#009af9\" fill-rule=\"evenodd\" fill-opacity=\"1\" stroke=\"#000000\" stroke-opacity=\"1\" stroke-width=\"3.2\"/>\n",
       "<circle clip-path=\"url(#clip012)\" cx=\"508.709\" cy=\"1040.72\" r=\"14.4\" fill=\"#009af9\" fill-rule=\"evenodd\" fill-opacity=\"1\" stroke=\"#000000\" stroke-opacity=\"1\" stroke-width=\"3.2\"/>\n",
       "<circle clip-path=\"url(#clip012)\" cx=\"517.902\" cy=\"815.956\" r=\"14.4\" fill=\"#009af9\" fill-rule=\"evenodd\" fill-opacity=\"1\" stroke=\"#000000\" stroke-opacity=\"1\" stroke-width=\"3.2\"/>\n",
       "<circle clip-path=\"url(#clip012)\" cx=\"527.094\" cy=\"908.829\" r=\"14.4\" fill=\"#009af9\" fill-rule=\"evenodd\" fill-opacity=\"1\" stroke=\"#000000\" stroke-opacity=\"1\" stroke-width=\"3.2\"/>\n",
       "<circle clip-path=\"url(#clip012)\" cx=\"536.287\" cy=\"1216.02\" r=\"14.4\" fill=\"#009af9\" fill-rule=\"evenodd\" fill-opacity=\"1\" stroke=\"#000000\" stroke-opacity=\"1\" stroke-width=\"3.2\"/>\n",
       "<circle clip-path=\"url(#clip012)\" cx=\"545.48\" cy=\"801.356\" r=\"14.4\" fill=\"#009af9\" fill-rule=\"evenodd\" fill-opacity=\"1\" stroke=\"#000000\" stroke-opacity=\"1\" stroke-width=\"3.2\"/>\n",
       "<circle clip-path=\"url(#clip012)\" cx=\"554.672\" cy=\"1097.8\" r=\"14.4\" fill=\"#009af9\" fill-rule=\"evenodd\" fill-opacity=\"1\" stroke=\"#000000\" stroke-opacity=\"1\" stroke-width=\"3.2\"/>\n",
       "<circle clip-path=\"url(#clip012)\" cx=\"563.865\" cy=\"842.479\" r=\"14.4\" fill=\"#009af9\" fill-rule=\"evenodd\" fill-opacity=\"1\" stroke=\"#000000\" stroke-opacity=\"1\" stroke-width=\"3.2\"/>\n",
       "<circle clip-path=\"url(#clip012)\" cx=\"573.058\" cy=\"894.578\" r=\"14.4\" fill=\"#009af9\" fill-rule=\"evenodd\" fill-opacity=\"1\" stroke=\"#000000\" stroke-opacity=\"1\" stroke-width=\"3.2\"/>\n",
       "<circle clip-path=\"url(#clip012)\" cx=\"582.25\" cy=\"899.489\" r=\"14.4\" fill=\"#009af9\" fill-rule=\"evenodd\" fill-opacity=\"1\" stroke=\"#000000\" stroke-opacity=\"1\" stroke-width=\"3.2\"/>\n",
       "<circle clip-path=\"url(#clip012)\" cx=\"591.443\" cy=\"753.212\" r=\"14.4\" fill=\"#009af9\" fill-rule=\"evenodd\" fill-opacity=\"1\" stroke=\"#000000\" stroke-opacity=\"1\" stroke-width=\"3.2\"/>\n",
       "<circle clip-path=\"url(#clip012)\" cx=\"600.636\" cy=\"742.972\" r=\"14.4\" fill=\"#009af9\" fill-rule=\"evenodd\" fill-opacity=\"1\" stroke=\"#000000\" stroke-opacity=\"1\" stroke-width=\"3.2\"/>\n",
       "<circle clip-path=\"url(#clip012)\" cx=\"609.828\" cy=\"931.308\" r=\"14.4\" fill=\"#009af9\" fill-rule=\"evenodd\" fill-opacity=\"1\" stroke=\"#000000\" stroke-opacity=\"1\" stroke-width=\"3.2\"/>\n",
       "<circle clip-path=\"url(#clip012)\" cx=\"619.021\" cy=\"1054.81\" r=\"14.4\" fill=\"#009af9\" fill-rule=\"evenodd\" fill-opacity=\"1\" stroke=\"#000000\" stroke-opacity=\"1\" stroke-width=\"3.2\"/>\n",
       "<circle clip-path=\"url(#clip012)\" cx=\"628.214\" cy=\"672.232\" r=\"14.4\" fill=\"#009af9\" fill-rule=\"evenodd\" fill-opacity=\"1\" stroke=\"#000000\" stroke-opacity=\"1\" stroke-width=\"3.2\"/>\n",
       "<circle clip-path=\"url(#clip012)\" cx=\"637.406\" cy=\"1013.44\" r=\"14.4\" fill=\"#009af9\" fill-rule=\"evenodd\" fill-opacity=\"1\" stroke=\"#000000\" stroke-opacity=\"1\" stroke-width=\"3.2\"/>\n",
       "<circle clip-path=\"url(#clip012)\" cx=\"646.599\" cy=\"984.965\" r=\"14.4\" fill=\"#009af9\" fill-rule=\"evenodd\" fill-opacity=\"1\" stroke=\"#000000\" stroke-opacity=\"1\" stroke-width=\"3.2\"/>\n",
       "<circle clip-path=\"url(#clip012)\" cx=\"655.792\" cy=\"813.895\" r=\"14.4\" fill=\"#009af9\" fill-rule=\"evenodd\" fill-opacity=\"1\" stroke=\"#000000\" stroke-opacity=\"1\" stroke-width=\"3.2\"/>\n",
       "<circle clip-path=\"url(#clip012)\" cx=\"664.984\" cy=\"834.516\" r=\"14.4\" fill=\"#009af9\" fill-rule=\"evenodd\" fill-opacity=\"1\" stroke=\"#000000\" stroke-opacity=\"1\" stroke-width=\"3.2\"/>\n",
       "<circle clip-path=\"url(#clip012)\" cx=\"674.177\" cy=\"923.304\" r=\"14.4\" fill=\"#009af9\" fill-rule=\"evenodd\" fill-opacity=\"1\" stroke=\"#000000\" stroke-opacity=\"1\" stroke-width=\"3.2\"/>\n",
       "<circle clip-path=\"url(#clip012)\" cx=\"683.37\" cy=\"826.335\" r=\"14.4\" fill=\"#009af9\" fill-rule=\"evenodd\" fill-opacity=\"1\" stroke=\"#000000\" stroke-opacity=\"1\" stroke-width=\"3.2\"/>\n",
       "<circle clip-path=\"url(#clip012)\" cx=\"692.562\" cy=\"779.237\" r=\"14.4\" fill=\"#009af9\" fill-rule=\"evenodd\" fill-opacity=\"1\" stroke=\"#000000\" stroke-opacity=\"1\" stroke-width=\"3.2\"/>\n",
       "<circle clip-path=\"url(#clip012)\" cx=\"701.755\" cy=\"700.321\" r=\"14.4\" fill=\"#009af9\" fill-rule=\"evenodd\" fill-opacity=\"1\" stroke=\"#000000\" stroke-opacity=\"1\" stroke-width=\"3.2\"/>\n",
       "<circle clip-path=\"url(#clip012)\" cx=\"710.948\" cy=\"1086.61\" r=\"14.4\" fill=\"#009af9\" fill-rule=\"evenodd\" fill-opacity=\"1\" stroke=\"#000000\" stroke-opacity=\"1\" stroke-width=\"3.2\"/>\n",
       "<circle clip-path=\"url(#clip012)\" cx=\"720.14\" cy=\"1291.22\" r=\"14.4\" fill=\"#009af9\" fill-rule=\"evenodd\" fill-opacity=\"1\" stroke=\"#000000\" stroke-opacity=\"1\" stroke-width=\"3.2\"/>\n",
       "<circle clip-path=\"url(#clip012)\" cx=\"729.333\" cy=\"799.955\" r=\"14.4\" fill=\"#009af9\" fill-rule=\"evenodd\" fill-opacity=\"1\" stroke=\"#000000\" stroke-opacity=\"1\" stroke-width=\"3.2\"/>\n",
       "<circle clip-path=\"url(#clip012)\" cx=\"738.525\" cy=\"672.324\" r=\"14.4\" fill=\"#009af9\" fill-rule=\"evenodd\" fill-opacity=\"1\" stroke=\"#000000\" stroke-opacity=\"1\" stroke-width=\"3.2\"/>\n",
       "<circle clip-path=\"url(#clip012)\" cx=\"747.718\" cy=\"1323.39\" r=\"14.4\" fill=\"#009af9\" fill-rule=\"evenodd\" fill-opacity=\"1\" stroke=\"#000000\" stroke-opacity=\"1\" stroke-width=\"3.2\"/>\n",
       "<circle clip-path=\"url(#clip012)\" cx=\"756.911\" cy=\"926.576\" r=\"14.4\" fill=\"#009af9\" fill-rule=\"evenodd\" fill-opacity=\"1\" stroke=\"#000000\" stroke-opacity=\"1\" stroke-width=\"3.2\"/>\n",
       "<circle clip-path=\"url(#clip012)\" cx=\"766.103\" cy=\"1039.04\" r=\"14.4\" fill=\"#009af9\" fill-rule=\"evenodd\" fill-opacity=\"1\" stroke=\"#000000\" stroke-opacity=\"1\" stroke-width=\"3.2\"/>\n",
       "<circle clip-path=\"url(#clip012)\" cx=\"775.296\" cy=\"830.705\" r=\"14.4\" fill=\"#009af9\" fill-rule=\"evenodd\" fill-opacity=\"1\" stroke=\"#000000\" stroke-opacity=\"1\" stroke-width=\"3.2\"/>\n",
       "<circle clip-path=\"url(#clip012)\" cx=\"784.489\" cy=\"979.67\" r=\"14.4\" fill=\"#009af9\" fill-rule=\"evenodd\" fill-opacity=\"1\" stroke=\"#000000\" stroke-opacity=\"1\" stroke-width=\"3.2\"/>\n",
       "<circle clip-path=\"url(#clip012)\" cx=\"793.681\" cy=\"786.154\" r=\"14.4\" fill=\"#009af9\" fill-rule=\"evenodd\" fill-opacity=\"1\" stroke=\"#000000\" stroke-opacity=\"1\" stroke-width=\"3.2\"/>\n",
       "<circle clip-path=\"url(#clip012)\" cx=\"802.874\" cy=\"594.073\" r=\"14.4\" fill=\"#009af9\" fill-rule=\"evenodd\" fill-opacity=\"1\" stroke=\"#000000\" stroke-opacity=\"1\" stroke-width=\"3.2\"/>\n",
       "<circle clip-path=\"url(#clip012)\" cx=\"812.067\" cy=\"1047.8\" r=\"14.4\" fill=\"#009af9\" fill-rule=\"evenodd\" fill-opacity=\"1\" stroke=\"#000000\" stroke-opacity=\"1\" stroke-width=\"3.2\"/>\n",
       "<circle clip-path=\"url(#clip012)\" cx=\"821.259\" cy=\"1254.69\" r=\"14.4\" fill=\"#009af9\" fill-rule=\"evenodd\" fill-opacity=\"1\" stroke=\"#000000\" stroke-opacity=\"1\" stroke-width=\"3.2\"/>\n",
       "<circle clip-path=\"url(#clip012)\" cx=\"830.452\" cy=\"812.775\" r=\"14.4\" fill=\"#009af9\" fill-rule=\"evenodd\" fill-opacity=\"1\" stroke=\"#000000\" stroke-opacity=\"1\" stroke-width=\"3.2\"/>\n",
       "<circle clip-path=\"url(#clip012)\" cx=\"839.645\" cy=\"852.836\" r=\"14.4\" fill=\"#009af9\" fill-rule=\"evenodd\" fill-opacity=\"1\" stroke=\"#000000\" stroke-opacity=\"1\" stroke-width=\"3.2\"/>\n",
       "<circle clip-path=\"url(#clip012)\" cx=\"848.837\" cy=\"927.66\" r=\"14.4\" fill=\"#009af9\" fill-rule=\"evenodd\" fill-opacity=\"1\" stroke=\"#000000\" stroke-opacity=\"1\" stroke-width=\"3.2\"/>\n",
       "<circle clip-path=\"url(#clip012)\" cx=\"858.03\" cy=\"831.346\" r=\"14.4\" fill=\"#009af9\" fill-rule=\"evenodd\" fill-opacity=\"1\" stroke=\"#000000\" stroke-opacity=\"1\" stroke-width=\"3.2\"/>\n",
       "<circle clip-path=\"url(#clip012)\" cx=\"867.223\" cy=\"860.483\" r=\"14.4\" fill=\"#009af9\" fill-rule=\"evenodd\" fill-opacity=\"1\" stroke=\"#000000\" stroke-opacity=\"1\" stroke-width=\"3.2\"/>\n",
       "<circle clip-path=\"url(#clip012)\" cx=\"876.415\" cy=\"1082.08\" r=\"14.4\" fill=\"#009af9\" fill-rule=\"evenodd\" fill-opacity=\"1\" stroke=\"#000000\" stroke-opacity=\"1\" stroke-width=\"3.2\"/>\n",
       "<circle clip-path=\"url(#clip012)\" cx=\"885.608\" cy=\"969.107\" r=\"14.4\" fill=\"#009af9\" fill-rule=\"evenodd\" fill-opacity=\"1\" stroke=\"#000000\" stroke-opacity=\"1\" stroke-width=\"3.2\"/>\n",
       "<circle clip-path=\"url(#clip012)\" cx=\"894.801\" cy=\"1212.19\" r=\"14.4\" fill=\"#009af9\" fill-rule=\"evenodd\" fill-opacity=\"1\" stroke=\"#000000\" stroke-opacity=\"1\" stroke-width=\"3.2\"/>\n",
       "<circle clip-path=\"url(#clip012)\" cx=\"903.993\" cy=\"915.815\" r=\"14.4\" fill=\"#009af9\" fill-rule=\"evenodd\" fill-opacity=\"1\" stroke=\"#000000\" stroke-opacity=\"1\" stroke-width=\"3.2\"/>\n",
       "<circle clip-path=\"url(#clip012)\" cx=\"913.186\" cy=\"1096.77\" r=\"14.4\" fill=\"#009af9\" fill-rule=\"evenodd\" fill-opacity=\"1\" stroke=\"#000000\" stroke-opacity=\"1\" stroke-width=\"3.2\"/>\n",
       "<circle clip-path=\"url(#clip012)\" cx=\"922.379\" cy=\"1162.06\" r=\"14.4\" fill=\"#009af9\" fill-rule=\"evenodd\" fill-opacity=\"1\" stroke=\"#000000\" stroke-opacity=\"1\" stroke-width=\"3.2\"/>\n",
       "<circle clip-path=\"url(#clip012)\" cx=\"931.571\" cy=\"1040.01\" r=\"14.4\" fill=\"#009af9\" fill-rule=\"evenodd\" fill-opacity=\"1\" stroke=\"#000000\" stroke-opacity=\"1\" stroke-width=\"3.2\"/>\n",
       "<circle clip-path=\"url(#clip012)\" cx=\"940.764\" cy=\"701.342\" r=\"14.4\" fill=\"#009af9\" fill-rule=\"evenodd\" fill-opacity=\"1\" stroke=\"#000000\" stroke-opacity=\"1\" stroke-width=\"3.2\"/>\n",
       "<circle clip-path=\"url(#clip012)\" cx=\"949.957\" cy=\"692.179\" r=\"14.4\" fill=\"#009af9\" fill-rule=\"evenodd\" fill-opacity=\"1\" stroke=\"#000000\" stroke-opacity=\"1\" stroke-width=\"3.2\"/>\n",
       "<circle clip-path=\"url(#clip012)\" cx=\"959.149\" cy=\"971.098\" r=\"14.4\" fill=\"#009af9\" fill-rule=\"evenodd\" fill-opacity=\"1\" stroke=\"#000000\" stroke-opacity=\"1\" stroke-width=\"3.2\"/>\n",
       "<circle clip-path=\"url(#clip012)\" cx=\"968.342\" cy=\"868.712\" r=\"14.4\" fill=\"#009af9\" fill-rule=\"evenodd\" fill-opacity=\"1\" stroke=\"#000000\" stroke-opacity=\"1\" stroke-width=\"3.2\"/>\n",
       "<circle clip-path=\"url(#clip012)\" cx=\"977.535\" cy=\"880.262\" r=\"14.4\" fill=\"#009af9\" fill-rule=\"evenodd\" fill-opacity=\"1\" stroke=\"#000000\" stroke-opacity=\"1\" stroke-width=\"3.2\"/>\n",
       "<circle clip-path=\"url(#clip012)\" cx=\"986.727\" cy=\"716.126\" r=\"14.4\" fill=\"#009af9\" fill-rule=\"evenodd\" fill-opacity=\"1\" stroke=\"#000000\" stroke-opacity=\"1\" stroke-width=\"3.2\"/>\n",
       "<circle clip-path=\"url(#clip012)\" cx=\"995.92\" cy=\"1030.6\" r=\"14.4\" fill=\"#009af9\" fill-rule=\"evenodd\" fill-opacity=\"1\" stroke=\"#000000\" stroke-opacity=\"1\" stroke-width=\"3.2\"/>\n",
       "<circle clip-path=\"url(#clip012)\" cx=\"1005.11\" cy=\"1046.36\" r=\"14.4\" fill=\"#009af9\" fill-rule=\"evenodd\" fill-opacity=\"1\" stroke=\"#000000\" stroke-opacity=\"1\" stroke-width=\"3.2\"/>\n",
       "<circle clip-path=\"url(#clip012)\" cx=\"1014.31\" cy=\"1221.81\" r=\"14.4\" fill=\"#009af9\" fill-rule=\"evenodd\" fill-opacity=\"1\" stroke=\"#000000\" stroke-opacity=\"1\" stroke-width=\"3.2\"/>\n",
       "<circle clip-path=\"url(#clip012)\" cx=\"1023.5\" cy=\"1109.22\" r=\"14.4\" fill=\"#009af9\" fill-rule=\"evenodd\" fill-opacity=\"1\" stroke=\"#000000\" stroke-opacity=\"1\" stroke-width=\"3.2\"/>\n",
       "<circle clip-path=\"url(#clip012)\" cx=\"1032.69\" cy=\"745.429\" r=\"14.4\" fill=\"#009af9\" fill-rule=\"evenodd\" fill-opacity=\"1\" stroke=\"#000000\" stroke-opacity=\"1\" stroke-width=\"3.2\"/>\n",
       "<circle clip-path=\"url(#clip012)\" cx=\"1041.88\" cy=\"895.191\" r=\"14.4\" fill=\"#009af9\" fill-rule=\"evenodd\" fill-opacity=\"1\" stroke=\"#000000\" stroke-opacity=\"1\" stroke-width=\"3.2\"/>\n",
       "<circle clip-path=\"url(#clip012)\" cx=\"1051.08\" cy=\"929.872\" r=\"14.4\" fill=\"#009af9\" fill-rule=\"evenodd\" fill-opacity=\"1\" stroke=\"#000000\" stroke-opacity=\"1\" stroke-width=\"3.2\"/>\n",
       "<circle clip-path=\"url(#clip012)\" cx=\"1060.27\" cy=\"1072.76\" r=\"14.4\" fill=\"#009af9\" fill-rule=\"evenodd\" fill-opacity=\"1\" stroke=\"#000000\" stroke-opacity=\"1\" stroke-width=\"3.2\"/>\n",
       "<circle clip-path=\"url(#clip012)\" cx=\"1069.46\" cy=\"1279.25\" r=\"14.4\" fill=\"#009af9\" fill-rule=\"evenodd\" fill-opacity=\"1\" stroke=\"#000000\" stroke-opacity=\"1\" stroke-width=\"3.2\"/>\n",
       "<circle clip-path=\"url(#clip012)\" cx=\"1078.65\" cy=\"785.4\" r=\"14.4\" fill=\"#009af9\" fill-rule=\"evenodd\" fill-opacity=\"1\" stroke=\"#000000\" stroke-opacity=\"1\" stroke-width=\"3.2\"/>\n",
       "<circle clip-path=\"url(#clip012)\" cx=\"1087.85\" cy=\"1186.29\" r=\"14.4\" fill=\"#009af9\" fill-rule=\"evenodd\" fill-opacity=\"1\" stroke=\"#000000\" stroke-opacity=\"1\" stroke-width=\"3.2\"/>\n",
       "<circle clip-path=\"url(#clip012)\" cx=\"1097.04\" cy=\"862.166\" r=\"14.4\" fill=\"#009af9\" fill-rule=\"evenodd\" fill-opacity=\"1\" stroke=\"#000000\" stroke-opacity=\"1\" stroke-width=\"3.2\"/>\n",
       "<circle clip-path=\"url(#clip012)\" cx=\"1106.23\" cy=\"1180.13\" r=\"14.4\" fill=\"#009af9\" fill-rule=\"evenodd\" fill-opacity=\"1\" stroke=\"#000000\" stroke-opacity=\"1\" stroke-width=\"3.2\"/>\n",
       "<circle clip-path=\"url(#clip012)\" cx=\"1115.42\" cy=\"1083.12\" r=\"14.4\" fill=\"#009af9\" fill-rule=\"evenodd\" fill-opacity=\"1\" stroke=\"#000000\" stroke-opacity=\"1\" stroke-width=\"3.2\"/>\n",
       "<circle clip-path=\"url(#clip012)\" cx=\"1124.62\" cy=\"1205.38\" r=\"14.4\" fill=\"#009af9\" fill-rule=\"evenodd\" fill-opacity=\"1\" stroke=\"#000000\" stroke-opacity=\"1\" stroke-width=\"3.2\"/>\n",
       "<circle clip-path=\"url(#clip012)\" cx=\"1133.81\" cy=\"998.555\" r=\"14.4\" fill=\"#009af9\" fill-rule=\"evenodd\" fill-opacity=\"1\" stroke=\"#000000\" stroke-opacity=\"1\" stroke-width=\"3.2\"/>\n",
       "<circle clip-path=\"url(#clip012)\" cx=\"1143\" cy=\"1138.25\" r=\"14.4\" fill=\"#009af9\" fill-rule=\"evenodd\" fill-opacity=\"1\" stroke=\"#000000\" stroke-opacity=\"1\" stroke-width=\"3.2\"/>\n",
       "<circle clip-path=\"url(#clip012)\" cx=\"1152.2\" cy=\"1245.63\" r=\"14.4\" fill=\"#009af9\" fill-rule=\"evenodd\" fill-opacity=\"1\" stroke=\"#000000\" stroke-opacity=\"1\" stroke-width=\"3.2\"/>\n",
       "<circle clip-path=\"url(#clip012)\" cx=\"1161.39\" cy=\"1074.71\" r=\"14.4\" fill=\"#009af9\" fill-rule=\"evenodd\" fill-opacity=\"1\" stroke=\"#000000\" stroke-opacity=\"1\" stroke-width=\"3.2\"/>\n",
       "<circle clip-path=\"url(#clip012)\" cx=\"1170.58\" cy=\"1149.91\" r=\"14.4\" fill=\"#009af9\" fill-rule=\"evenodd\" fill-opacity=\"1\" stroke=\"#000000\" stroke-opacity=\"1\" stroke-width=\"3.2\"/>\n",
       "<circle clip-path=\"url(#clip012)\" cx=\"1179.77\" cy=\"927.112\" r=\"14.4\" fill=\"#009af9\" fill-rule=\"evenodd\" fill-opacity=\"1\" stroke=\"#000000\" stroke-opacity=\"1\" stroke-width=\"3.2\"/>\n",
       "<circle clip-path=\"url(#clip012)\" cx=\"1188.97\" cy=\"837.146\" r=\"14.4\" fill=\"#009af9\" fill-rule=\"evenodd\" fill-opacity=\"1\" stroke=\"#000000\" stroke-opacity=\"1\" stroke-width=\"3.2\"/>\n",
       "<circle clip-path=\"url(#clip012)\" cx=\"1198.16\" cy=\"1292.29\" r=\"14.4\" fill=\"#009af9\" fill-rule=\"evenodd\" fill-opacity=\"1\" stroke=\"#000000\" stroke-opacity=\"1\" stroke-width=\"3.2\"/>\n",
       "<circle clip-path=\"url(#clip012)\" cx=\"1207.35\" cy=\"1148.73\" r=\"14.4\" fill=\"#009af9\" fill-rule=\"evenodd\" fill-opacity=\"1\" stroke=\"#000000\" stroke-opacity=\"1\" stroke-width=\"3.2\"/>\n",
       "<circle clip-path=\"url(#clip012)\" cx=\"1216.54\" cy=\"958.008\" r=\"14.4\" fill=\"#009af9\" fill-rule=\"evenodd\" fill-opacity=\"1\" stroke=\"#000000\" stroke-opacity=\"1\" stroke-width=\"3.2\"/>\n",
       "<circle clip-path=\"url(#clip012)\" cx=\"1225.74\" cy=\"1216.11\" r=\"14.4\" fill=\"#009af9\" fill-rule=\"evenodd\" fill-opacity=\"1\" stroke=\"#000000\" stroke-opacity=\"1\" stroke-width=\"3.2\"/>\n",
       "<circle clip-path=\"url(#clip012)\" cx=\"1234.93\" cy=\"1366.73\" r=\"14.4\" fill=\"#009af9\" fill-rule=\"evenodd\" fill-opacity=\"1\" stroke=\"#000000\" stroke-opacity=\"1\" stroke-width=\"3.2\"/>\n",
       "<circle clip-path=\"url(#clip012)\" cx=\"1244.12\" cy=\"923.969\" r=\"14.4\" fill=\"#009af9\" fill-rule=\"evenodd\" fill-opacity=\"1\" stroke=\"#000000\" stroke-opacity=\"1\" stroke-width=\"3.2\"/>\n",
       "<circle clip-path=\"url(#clip012)\" cx=\"1253.31\" cy=\"1132.95\" r=\"14.4\" fill=\"#009af9\" fill-rule=\"evenodd\" fill-opacity=\"1\" stroke=\"#000000\" stroke-opacity=\"1\" stroke-width=\"3.2\"/>\n",
       "<circle clip-path=\"url(#clip012)\" cx=\"1262.51\" cy=\"1261.14\" r=\"14.4\" fill=\"#009af9\" fill-rule=\"evenodd\" fill-opacity=\"1\" stroke=\"#000000\" stroke-opacity=\"1\" stroke-width=\"3.2\"/>\n",
       "<circle clip-path=\"url(#clip012)\" cx=\"1271.7\" cy=\"1220.57\" r=\"14.4\" fill=\"#009af9\" fill-rule=\"evenodd\" fill-opacity=\"1\" stroke=\"#000000\" stroke-opacity=\"1\" stroke-width=\"3.2\"/>\n",
       "<circle clip-path=\"url(#clip012)\" cx=\"1280.89\" cy=\"1112.41\" r=\"14.4\" fill=\"#009af9\" fill-rule=\"evenodd\" fill-opacity=\"1\" stroke=\"#000000\" stroke-opacity=\"1\" stroke-width=\"3.2\"/>\n",
       "<circle clip-path=\"url(#clip012)\" cx=\"1290.08\" cy=\"872.634\" r=\"14.4\" fill=\"#009af9\" fill-rule=\"evenodd\" fill-opacity=\"1\" stroke=\"#000000\" stroke-opacity=\"1\" stroke-width=\"3.2\"/>\n",
       "<circle clip-path=\"url(#clip012)\" cx=\"1299.28\" cy=\"955.64\" r=\"14.4\" fill=\"#009af9\" fill-rule=\"evenodd\" fill-opacity=\"1\" stroke=\"#000000\" stroke-opacity=\"1\" stroke-width=\"3.2\"/>\n",
       "<circle clip-path=\"url(#clip012)\" cx=\"1308.47\" cy=\"866.148\" r=\"14.4\" fill=\"#009af9\" fill-rule=\"evenodd\" fill-opacity=\"1\" stroke=\"#000000\" stroke-opacity=\"1\" stroke-width=\"3.2\"/>\n",
       "<circle clip-path=\"url(#clip012)\" cx=\"1317.66\" cy=\"1059.55\" r=\"14.4\" fill=\"#009af9\" fill-rule=\"evenodd\" fill-opacity=\"1\" stroke=\"#000000\" stroke-opacity=\"1\" stroke-width=\"3.2\"/>\n",
       "<circle clip-path=\"url(#clip012)\" cx=\"1326.86\" cy=\"896.389\" r=\"14.4\" fill=\"#009af9\" fill-rule=\"evenodd\" fill-opacity=\"1\" stroke=\"#000000\" stroke-opacity=\"1\" stroke-width=\"3.2\"/>\n",
       "<circle clip-path=\"url(#clip012)\" cx=\"1336.05\" cy=\"1178.18\" r=\"14.4\" fill=\"#009af9\" fill-rule=\"evenodd\" fill-opacity=\"1\" stroke=\"#000000\" stroke-opacity=\"1\" stroke-width=\"3.2\"/>\n",
       "<circle clip-path=\"url(#clip012)\" cx=\"1345.24\" cy=\"855.373\" r=\"14.4\" fill=\"#009af9\" fill-rule=\"evenodd\" fill-opacity=\"1\" stroke=\"#000000\" stroke-opacity=\"1\" stroke-width=\"3.2\"/>\n",
       "<circle clip-path=\"url(#clip012)\" cx=\"1354.43\" cy=\"1266.07\" r=\"14.4\" fill=\"#009af9\" fill-rule=\"evenodd\" fill-opacity=\"1\" stroke=\"#000000\" stroke-opacity=\"1\" stroke-width=\"3.2\"/>\n",
       "<circle clip-path=\"url(#clip012)\" cx=\"1363.63\" cy=\"1009.97\" r=\"14.4\" fill=\"#009af9\" fill-rule=\"evenodd\" fill-opacity=\"1\" stroke=\"#000000\" stroke-opacity=\"1\" stroke-width=\"3.2\"/>\n",
       "<circle clip-path=\"url(#clip012)\" cx=\"1372.82\" cy=\"1318.85\" r=\"14.4\" fill=\"#009af9\" fill-rule=\"evenodd\" fill-opacity=\"1\" stroke=\"#000000\" stroke-opacity=\"1\" stroke-width=\"3.2\"/>\n",
       "<circle clip-path=\"url(#clip012)\" cx=\"1382.01\" cy=\"1133.79\" r=\"14.4\" fill=\"#009af9\" fill-rule=\"evenodd\" fill-opacity=\"1\" stroke=\"#000000\" stroke-opacity=\"1\" stroke-width=\"3.2\"/>\n",
       "<circle clip-path=\"url(#clip012)\" cx=\"1391.2\" cy=\"1445.72\" r=\"14.4\" fill=\"#009af9\" fill-rule=\"evenodd\" fill-opacity=\"1\" stroke=\"#000000\" stroke-opacity=\"1\" stroke-width=\"3.2\"/>\n",
       "<circle clip-path=\"url(#clip012)\" cx=\"1400.4\" cy=\"754.283\" r=\"14.4\" fill=\"#009af9\" fill-rule=\"evenodd\" fill-opacity=\"1\" stroke=\"#000000\" stroke-opacity=\"1\" stroke-width=\"3.2\"/>\n",
       "<circle clip-path=\"url(#clip012)\" cx=\"1409.59\" cy=\"1074.11\" r=\"14.4\" fill=\"#009af9\" fill-rule=\"evenodd\" fill-opacity=\"1\" stroke=\"#000000\" stroke-opacity=\"1\" stroke-width=\"3.2\"/>\n",
       "<circle clip-path=\"url(#clip012)\" cx=\"1418.78\" cy=\"925.834\" r=\"14.4\" fill=\"#009af9\" fill-rule=\"evenodd\" fill-opacity=\"1\" stroke=\"#000000\" stroke-opacity=\"1\" stroke-width=\"3.2\"/>\n",
       "<circle clip-path=\"url(#clip012)\" cx=\"1427.97\" cy=\"1146.98\" r=\"14.4\" fill=\"#009af9\" fill-rule=\"evenodd\" fill-opacity=\"1\" stroke=\"#000000\" stroke-opacity=\"1\" stroke-width=\"3.2\"/>\n",
       "<circle clip-path=\"url(#clip012)\" cx=\"1437.17\" cy=\"735.499\" r=\"14.4\" fill=\"#009af9\" fill-rule=\"evenodd\" fill-opacity=\"1\" stroke=\"#000000\" stroke-opacity=\"1\" stroke-width=\"3.2\"/>\n",
       "<circle clip-path=\"url(#clip012)\" cx=\"1446.36\" cy=\"1061.22\" r=\"14.4\" fill=\"#009af9\" fill-rule=\"evenodd\" fill-opacity=\"1\" stroke=\"#000000\" stroke-opacity=\"1\" stroke-width=\"3.2\"/>\n",
       "<circle clip-path=\"url(#clip012)\" cx=\"1455.55\" cy=\"1260.63\" r=\"14.4\" fill=\"#009af9\" fill-rule=\"evenodd\" fill-opacity=\"1\" stroke=\"#000000\" stroke-opacity=\"1\" stroke-width=\"3.2\"/>\n",
       "<circle clip-path=\"url(#clip012)\" cx=\"1464.75\" cy=\"1097.96\" r=\"14.4\" fill=\"#009af9\" fill-rule=\"evenodd\" fill-opacity=\"1\" stroke=\"#000000\" stroke-opacity=\"1\" stroke-width=\"3.2\"/>\n",
       "<circle clip-path=\"url(#clip012)\" cx=\"1473.94\" cy=\"1033.89\" r=\"14.4\" fill=\"#009af9\" fill-rule=\"evenodd\" fill-opacity=\"1\" stroke=\"#000000\" stroke-opacity=\"1\" stroke-width=\"3.2\"/>\n",
       "<circle clip-path=\"url(#clip012)\" cx=\"1483.13\" cy=\"940.525\" r=\"14.4\" fill=\"#009af9\" fill-rule=\"evenodd\" fill-opacity=\"1\" stroke=\"#000000\" stroke-opacity=\"1\" stroke-width=\"3.2\"/>\n",
       "<circle clip-path=\"url(#clip012)\" cx=\"1492.32\" cy=\"1037.46\" r=\"14.4\" fill=\"#009af9\" fill-rule=\"evenodd\" fill-opacity=\"1\" stroke=\"#000000\" stroke-opacity=\"1\" stroke-width=\"3.2\"/>\n",
       "<circle clip-path=\"url(#clip012)\" cx=\"1501.52\" cy=\"1123.27\" r=\"14.4\" fill=\"#009af9\" fill-rule=\"evenodd\" fill-opacity=\"1\" stroke=\"#000000\" stroke-opacity=\"1\" stroke-width=\"3.2\"/>\n",
       "<circle clip-path=\"url(#clip012)\" cx=\"1510.71\" cy=\"1234.47\" r=\"14.4\" fill=\"#009af9\" fill-rule=\"evenodd\" fill-opacity=\"1\" stroke=\"#000000\" stroke-opacity=\"1\" stroke-width=\"3.2\"/>\n",
       "<circle clip-path=\"url(#clip012)\" cx=\"1519.9\" cy=\"1103.3\" r=\"14.4\" fill=\"#009af9\" fill-rule=\"evenodd\" fill-opacity=\"1\" stroke=\"#000000\" stroke-opacity=\"1\" stroke-width=\"3.2\"/>\n",
       "<circle clip-path=\"url(#clip012)\" cx=\"1529.09\" cy=\"948.131\" r=\"14.4\" fill=\"#009af9\" fill-rule=\"evenodd\" fill-opacity=\"1\" stroke=\"#000000\" stroke-opacity=\"1\" stroke-width=\"3.2\"/>\n",
       "<circle clip-path=\"url(#clip012)\" cx=\"1538.29\" cy=\"1254.1\" r=\"14.4\" fill=\"#009af9\" fill-rule=\"evenodd\" fill-opacity=\"1\" stroke=\"#000000\" stroke-opacity=\"1\" stroke-width=\"3.2\"/>\n",
       "<circle clip-path=\"url(#clip012)\" cx=\"1547.48\" cy=\"683.021\" r=\"14.4\" fill=\"#009af9\" fill-rule=\"evenodd\" fill-opacity=\"1\" stroke=\"#000000\" stroke-opacity=\"1\" stroke-width=\"3.2\"/>\n",
       "<circle clip-path=\"url(#clip012)\" cx=\"1556.67\" cy=\"838.614\" r=\"14.4\" fill=\"#009af9\" fill-rule=\"evenodd\" fill-opacity=\"1\" stroke=\"#000000\" stroke-opacity=\"1\" stroke-width=\"3.2\"/>\n",
       "<circle clip-path=\"url(#clip012)\" cx=\"1565.86\" cy=\"1191.64\" r=\"14.4\" fill=\"#009af9\" fill-rule=\"evenodd\" fill-opacity=\"1\" stroke=\"#000000\" stroke-opacity=\"1\" stroke-width=\"3.2\"/>\n",
       "<circle clip-path=\"url(#clip012)\" cx=\"1575.06\" cy=\"818.336\" r=\"14.4\" fill=\"#009af9\" fill-rule=\"evenodd\" fill-opacity=\"1\" stroke=\"#000000\" stroke-opacity=\"1\" stroke-width=\"3.2\"/>\n",
       "<circle clip-path=\"url(#clip012)\" cx=\"1584.25\" cy=\"1280.44\" r=\"14.4\" fill=\"#009af9\" fill-rule=\"evenodd\" fill-opacity=\"1\" stroke=\"#000000\" stroke-opacity=\"1\" stroke-width=\"3.2\"/>\n",
       "<circle clip-path=\"url(#clip012)\" cx=\"1593.44\" cy=\"1041.89\" r=\"14.4\" fill=\"#009af9\" fill-rule=\"evenodd\" fill-opacity=\"1\" stroke=\"#000000\" stroke-opacity=\"1\" stroke-width=\"3.2\"/>\n",
       "<circle clip-path=\"url(#clip012)\" cx=\"1602.64\" cy=\"1217.76\" r=\"14.4\" fill=\"#009af9\" fill-rule=\"evenodd\" fill-opacity=\"1\" stroke=\"#000000\" stroke-opacity=\"1\" stroke-width=\"3.2\"/>\n",
       "<circle clip-path=\"url(#clip012)\" cx=\"1611.83\" cy=\"854.553\" r=\"14.4\" fill=\"#009af9\" fill-rule=\"evenodd\" fill-opacity=\"1\" stroke=\"#000000\" stroke-opacity=\"1\" stroke-width=\"3.2\"/>\n",
       "<circle clip-path=\"url(#clip012)\" cx=\"1621.02\" cy=\"1014.25\" r=\"14.4\" fill=\"#009af9\" fill-rule=\"evenodd\" fill-opacity=\"1\" stroke=\"#000000\" stroke-opacity=\"1\" stroke-width=\"3.2\"/>\n",
       "<circle clip-path=\"url(#clip012)\" cx=\"1630.21\" cy=\"832.789\" r=\"14.4\" fill=\"#009af9\" fill-rule=\"evenodd\" fill-opacity=\"1\" stroke=\"#000000\" stroke-opacity=\"1\" stroke-width=\"3.2\"/>\n",
       "<circle clip-path=\"url(#clip012)\" cx=\"1639.41\" cy=\"906.692\" r=\"14.4\" fill=\"#009af9\" fill-rule=\"evenodd\" fill-opacity=\"1\" stroke=\"#000000\" stroke-opacity=\"1\" stroke-width=\"3.2\"/>\n",
       "<circle clip-path=\"url(#clip012)\" cx=\"1648.6\" cy=\"887.583\" r=\"14.4\" fill=\"#009af9\" fill-rule=\"evenodd\" fill-opacity=\"1\" stroke=\"#000000\" stroke-opacity=\"1\" stroke-width=\"3.2\"/>\n",
       "<circle clip-path=\"url(#clip012)\" cx=\"1657.79\" cy=\"1372.36\" r=\"14.4\" fill=\"#009af9\" fill-rule=\"evenodd\" fill-opacity=\"1\" stroke=\"#000000\" stroke-opacity=\"1\" stroke-width=\"3.2\"/>\n",
       "<circle clip-path=\"url(#clip012)\" cx=\"1666.98\" cy=\"969.41\" r=\"14.4\" fill=\"#009af9\" fill-rule=\"evenodd\" fill-opacity=\"1\" stroke=\"#000000\" stroke-opacity=\"1\" stroke-width=\"3.2\"/>\n",
       "<circle clip-path=\"url(#clip012)\" cx=\"1676.18\" cy=\"785.788\" r=\"14.4\" fill=\"#009af9\" fill-rule=\"evenodd\" fill-opacity=\"1\" stroke=\"#000000\" stroke-opacity=\"1\" stroke-width=\"3.2\"/>\n",
       "<circle clip-path=\"url(#clip012)\" cx=\"1685.37\" cy=\"1081.98\" r=\"14.4\" fill=\"#009af9\" fill-rule=\"evenodd\" fill-opacity=\"1\" stroke=\"#000000\" stroke-opacity=\"1\" stroke-width=\"3.2\"/>\n",
       "<circle clip-path=\"url(#clip012)\" cx=\"1694.56\" cy=\"715.129\" r=\"14.4\" fill=\"#009af9\" fill-rule=\"evenodd\" fill-opacity=\"1\" stroke=\"#000000\" stroke-opacity=\"1\" stroke-width=\"3.2\"/>\n",
       "<circle clip-path=\"url(#clip012)\" cx=\"1703.75\" cy=\"988.088\" r=\"14.4\" fill=\"#009af9\" fill-rule=\"evenodd\" fill-opacity=\"1\" stroke=\"#000000\" stroke-opacity=\"1\" stroke-width=\"3.2\"/>\n",
       "<circle clip-path=\"url(#clip012)\" cx=\"1712.95\" cy=\"1115.02\" r=\"14.4\" fill=\"#009af9\" fill-rule=\"evenodd\" fill-opacity=\"1\" stroke=\"#000000\" stroke-opacity=\"1\" stroke-width=\"3.2\"/>\n",
       "<circle clip-path=\"url(#clip012)\" cx=\"1722.14\" cy=\"793.831\" r=\"14.4\" fill=\"#009af9\" fill-rule=\"evenodd\" fill-opacity=\"1\" stroke=\"#000000\" stroke-opacity=\"1\" stroke-width=\"3.2\"/>\n",
       "<circle clip-path=\"url(#clip012)\" cx=\"1731.33\" cy=\"969.975\" r=\"14.4\" fill=\"#009af9\" fill-rule=\"evenodd\" fill-opacity=\"1\" stroke=\"#000000\" stroke-opacity=\"1\" stroke-width=\"3.2\"/>\n",
       "<circle clip-path=\"url(#clip012)\" cx=\"1740.53\" cy=\"767.248\" r=\"14.4\" fill=\"#009af9\" fill-rule=\"evenodd\" fill-opacity=\"1\" stroke=\"#000000\" stroke-opacity=\"1\" stroke-width=\"3.2\"/>\n",
       "<circle clip-path=\"url(#clip012)\" cx=\"1749.72\" cy=\"735.996\" r=\"14.4\" fill=\"#009af9\" fill-rule=\"evenodd\" fill-opacity=\"1\" stroke=\"#000000\" stroke-opacity=\"1\" stroke-width=\"3.2\"/>\n",
       "<circle clip-path=\"url(#clip012)\" cx=\"1758.91\" cy=\"882.693\" r=\"14.4\" fill=\"#009af9\" fill-rule=\"evenodd\" fill-opacity=\"1\" stroke=\"#000000\" stroke-opacity=\"1\" stroke-width=\"3.2\"/>\n",
       "<circle clip-path=\"url(#clip012)\" cx=\"1768.1\" cy=\"751.56\" r=\"14.4\" fill=\"#009af9\" fill-rule=\"evenodd\" fill-opacity=\"1\" stroke=\"#000000\" stroke-opacity=\"1\" stroke-width=\"3.2\"/>\n",
       "<circle clip-path=\"url(#clip012)\" cx=\"1777.3\" cy=\"1204.91\" r=\"14.4\" fill=\"#009af9\" fill-rule=\"evenodd\" fill-opacity=\"1\" stroke=\"#000000\" stroke-opacity=\"1\" stroke-width=\"3.2\"/>\n",
       "<circle clip-path=\"url(#clip012)\" cx=\"1786.49\" cy=\"929.956\" r=\"14.4\" fill=\"#009af9\" fill-rule=\"evenodd\" fill-opacity=\"1\" stroke=\"#000000\" stroke-opacity=\"1\" stroke-width=\"3.2\"/>\n",
       "<circle clip-path=\"url(#clip012)\" cx=\"1795.68\" cy=\"909.121\" r=\"14.4\" fill=\"#009af9\" fill-rule=\"evenodd\" fill-opacity=\"1\" stroke=\"#000000\" stroke-opacity=\"1\" stroke-width=\"3.2\"/>\n",
       "<circle clip-path=\"url(#clip012)\" cx=\"1804.87\" cy=\"846.182\" r=\"14.4\" fill=\"#009af9\" fill-rule=\"evenodd\" fill-opacity=\"1\" stroke=\"#000000\" stroke-opacity=\"1\" stroke-width=\"3.2\"/>\n",
       "<circle clip-path=\"url(#clip012)\" cx=\"1814.07\" cy=\"498.319\" r=\"14.4\" fill=\"#009af9\" fill-rule=\"evenodd\" fill-opacity=\"1\" stroke=\"#000000\" stroke-opacity=\"1\" stroke-width=\"3.2\"/>\n",
       "<circle clip-path=\"url(#clip012)\" cx=\"1823.26\" cy=\"878.606\" r=\"14.4\" fill=\"#009af9\" fill-rule=\"evenodd\" fill-opacity=\"1\" stroke=\"#000000\" stroke-opacity=\"1\" stroke-width=\"3.2\"/>\n",
       "<circle clip-path=\"url(#clip012)\" cx=\"1832.45\" cy=\"418.957\" r=\"14.4\" fill=\"#009af9\" fill-rule=\"evenodd\" fill-opacity=\"1\" stroke=\"#000000\" stroke-opacity=\"1\" stroke-width=\"3.2\"/>\n",
       "<circle clip-path=\"url(#clip012)\" cx=\"1841.64\" cy=\"992.925\" r=\"14.4\" fill=\"#009af9\" fill-rule=\"evenodd\" fill-opacity=\"1\" stroke=\"#000000\" stroke-opacity=\"1\" stroke-width=\"3.2\"/>\n",
       "<circle clip-path=\"url(#clip012)\" cx=\"1850.84\" cy=\"819.345\" r=\"14.4\" fill=\"#009af9\" fill-rule=\"evenodd\" fill-opacity=\"1\" stroke=\"#000000\" stroke-opacity=\"1\" stroke-width=\"3.2\"/>\n",
       "<circle clip-path=\"url(#clip012)\" cx=\"1860.03\" cy=\"773.532\" r=\"14.4\" fill=\"#009af9\" fill-rule=\"evenodd\" fill-opacity=\"1\" stroke=\"#000000\" stroke-opacity=\"1\" stroke-width=\"3.2\"/>\n",
       "<circle clip-path=\"url(#clip012)\" cx=\"1869.22\" cy=\"663.729\" r=\"14.4\" fill=\"#009af9\" fill-rule=\"evenodd\" fill-opacity=\"1\" stroke=\"#000000\" stroke-opacity=\"1\" stroke-width=\"3.2\"/>\n",
       "<circle clip-path=\"url(#clip012)\" cx=\"1878.41\" cy=\"974.366\" r=\"14.4\" fill=\"#009af9\" fill-rule=\"evenodd\" fill-opacity=\"1\" stroke=\"#000000\" stroke-opacity=\"1\" stroke-width=\"3.2\"/>\n",
       "<circle clip-path=\"url(#clip012)\" cx=\"1887.61\" cy=\"571.548\" r=\"14.4\" fill=\"#009af9\" fill-rule=\"evenodd\" fill-opacity=\"1\" stroke=\"#000000\" stroke-opacity=\"1\" stroke-width=\"3.2\"/>\n",
       "<circle clip-path=\"url(#clip012)\" cx=\"1896.8\" cy=\"724.457\" r=\"14.4\" fill=\"#009af9\" fill-rule=\"evenodd\" fill-opacity=\"1\" stroke=\"#000000\" stroke-opacity=\"1\" stroke-width=\"3.2\"/>\n",
       "<circle clip-path=\"url(#clip012)\" cx=\"1905.99\" cy=\"906.19\" r=\"14.4\" fill=\"#009af9\" fill-rule=\"evenodd\" fill-opacity=\"1\" stroke=\"#000000\" stroke-opacity=\"1\" stroke-width=\"3.2\"/>\n",
       "<circle clip-path=\"url(#clip012)\" cx=\"1915.19\" cy=\"676.058\" r=\"14.4\" fill=\"#009af9\" fill-rule=\"evenodd\" fill-opacity=\"1\" stroke=\"#000000\" stroke-opacity=\"1\" stroke-width=\"3.2\"/>\n",
       "<circle clip-path=\"url(#clip012)\" cx=\"1924.38\" cy=\"848.102\" r=\"14.4\" fill=\"#009af9\" fill-rule=\"evenodd\" fill-opacity=\"1\" stroke=\"#000000\" stroke-opacity=\"1\" stroke-width=\"3.2\"/>\n",
       "<circle clip-path=\"url(#clip012)\" cx=\"1933.57\" cy=\"506.788\" r=\"14.4\" fill=\"#009af9\" fill-rule=\"evenodd\" fill-opacity=\"1\" stroke=\"#000000\" stroke-opacity=\"1\" stroke-width=\"3.2\"/>\n",
       "<circle clip-path=\"url(#clip012)\" cx=\"1942.76\" cy=\"824.667\" r=\"14.4\" fill=\"#009af9\" fill-rule=\"evenodd\" fill-opacity=\"1\" stroke=\"#000000\" stroke-opacity=\"1\" stroke-width=\"3.2\"/>\n",
       "<circle clip-path=\"url(#clip012)\" cx=\"1951.96\" cy=\"686.95\" r=\"14.4\" fill=\"#009af9\" fill-rule=\"evenodd\" fill-opacity=\"1\" stroke=\"#000000\" stroke-opacity=\"1\" stroke-width=\"3.2\"/>\n",
       "<circle clip-path=\"url(#clip012)\" cx=\"1961.15\" cy=\"584.517\" r=\"14.4\" fill=\"#009af9\" fill-rule=\"evenodd\" fill-opacity=\"1\" stroke=\"#000000\" stroke-opacity=\"1\" stroke-width=\"3.2\"/>\n",
       "<circle clip-path=\"url(#clip012)\" cx=\"1970.34\" cy=\"516.933\" r=\"14.4\" fill=\"#009af9\" fill-rule=\"evenodd\" fill-opacity=\"1\" stroke=\"#000000\" stroke-opacity=\"1\" stroke-width=\"3.2\"/>\n",
       "<circle clip-path=\"url(#clip012)\" cx=\"1979.53\" cy=\"783.157\" r=\"14.4\" fill=\"#009af9\" fill-rule=\"evenodd\" fill-opacity=\"1\" stroke=\"#000000\" stroke-opacity=\"1\" stroke-width=\"3.2\"/>\n",
       "<circle clip-path=\"url(#clip012)\" cx=\"1988.73\" cy=\"541.052\" r=\"14.4\" fill=\"#009af9\" fill-rule=\"evenodd\" fill-opacity=\"1\" stroke=\"#000000\" stroke-opacity=\"1\" stroke-width=\"3.2\"/>\n",
       "<circle clip-path=\"url(#clip012)\" cx=\"1997.92\" cy=\"682.296\" r=\"14.4\" fill=\"#009af9\" fill-rule=\"evenodd\" fill-opacity=\"1\" stroke=\"#000000\" stroke-opacity=\"1\" stroke-width=\"3.2\"/>\n",
       "<circle clip-path=\"url(#clip012)\" cx=\"2007.11\" cy=\"540.827\" r=\"14.4\" fill=\"#009af9\" fill-rule=\"evenodd\" fill-opacity=\"1\" stroke=\"#000000\" stroke-opacity=\"1\" stroke-width=\"3.2\"/>\n",
       "<circle clip-path=\"url(#clip012)\" cx=\"2016.3\" cy=\"684.073\" r=\"14.4\" fill=\"#009af9\" fill-rule=\"evenodd\" fill-opacity=\"1\" stroke=\"#000000\" stroke-opacity=\"1\" stroke-width=\"3.2\"/>\n",
       "<circle clip-path=\"url(#clip012)\" cx=\"2025.5\" cy=\"607.357\" r=\"14.4\" fill=\"#009af9\" fill-rule=\"evenodd\" fill-opacity=\"1\" stroke=\"#000000\" stroke-opacity=\"1\" stroke-width=\"3.2\"/>\n",
       "<circle clip-path=\"url(#clip012)\" cx=\"2034.69\" cy=\"498.911\" r=\"14.4\" fill=\"#009af9\" fill-rule=\"evenodd\" fill-opacity=\"1\" stroke=\"#000000\" stroke-opacity=\"1\" stroke-width=\"3.2\"/>\n",
       "<circle clip-path=\"url(#clip012)\" cx=\"2043.88\" cy=\"743.571\" r=\"14.4\" fill=\"#009af9\" fill-rule=\"evenodd\" fill-opacity=\"1\" stroke=\"#000000\" stroke-opacity=\"1\" stroke-width=\"3.2\"/>\n",
       "<circle clip-path=\"url(#clip012)\" cx=\"2053.08\" cy=\"516.749\" r=\"14.4\" fill=\"#009af9\" fill-rule=\"evenodd\" fill-opacity=\"1\" stroke=\"#000000\" stroke-opacity=\"1\" stroke-width=\"3.2\"/>\n",
       "<circle clip-path=\"url(#clip012)\" cx=\"2062.27\" cy=\"666.401\" r=\"14.4\" fill=\"#009af9\" fill-rule=\"evenodd\" fill-opacity=\"1\" stroke=\"#000000\" stroke-opacity=\"1\" stroke-width=\"3.2\"/>\n",
       "<circle clip-path=\"url(#clip012)\" cx=\"2071.46\" cy=\"616.302\" r=\"14.4\" fill=\"#009af9\" fill-rule=\"evenodd\" fill-opacity=\"1\" stroke=\"#000000\" stroke-opacity=\"1\" stroke-width=\"3.2\"/>\n",
       "<circle clip-path=\"url(#clip012)\" cx=\"2080.65\" cy=\"593.12\" r=\"14.4\" fill=\"#009af9\" fill-rule=\"evenodd\" fill-opacity=\"1\" stroke=\"#000000\" stroke-opacity=\"1\" stroke-width=\"3.2\"/>\n",
       "<circle clip-path=\"url(#clip012)\" cx=\"2089.85\" cy=\"553.945\" r=\"14.4\" fill=\"#009af9\" fill-rule=\"evenodd\" fill-opacity=\"1\" stroke=\"#000000\" stroke-opacity=\"1\" stroke-width=\"3.2\"/>\n",
       "<circle clip-path=\"url(#clip012)\" cx=\"2099.04\" cy=\"494.396\" r=\"14.4\" fill=\"#009af9\" fill-rule=\"evenodd\" fill-opacity=\"1\" stroke=\"#000000\" stroke-opacity=\"1\" stroke-width=\"3.2\"/>\n",
       "<circle clip-path=\"url(#clip012)\" cx=\"2108.23\" cy=\"675.188\" r=\"14.4\" fill=\"#009af9\" fill-rule=\"evenodd\" fill-opacity=\"1\" stroke=\"#000000\" stroke-opacity=\"1\" stroke-width=\"3.2\"/>\n",
       "<circle clip-path=\"url(#clip012)\" cx=\"2117.42\" cy=\"481.019\" r=\"14.4\" fill=\"#009af9\" fill-rule=\"evenodd\" fill-opacity=\"1\" stroke=\"#000000\" stroke-opacity=\"1\" stroke-width=\"3.2\"/>\n",
       "<circle clip-path=\"url(#clip012)\" cx=\"2126.62\" cy=\"757.033\" r=\"14.4\" fill=\"#009af9\" fill-rule=\"evenodd\" fill-opacity=\"1\" stroke=\"#000000\" stroke-opacity=\"1\" stroke-width=\"3.2\"/>\n",
       "<circle clip-path=\"url(#clip012)\" cx=\"2135.81\" cy=\"457.062\" r=\"14.4\" fill=\"#009af9\" fill-rule=\"evenodd\" fill-opacity=\"1\" stroke=\"#000000\" stroke-opacity=\"1\" stroke-width=\"3.2\"/>\n",
       "<circle clip-path=\"url(#clip012)\" cx=\"2145\" cy=\"967.823\" r=\"14.4\" fill=\"#009af9\" fill-rule=\"evenodd\" fill-opacity=\"1\" stroke=\"#000000\" stroke-opacity=\"1\" stroke-width=\"3.2\"/>\n",
       "<circle clip-path=\"url(#clip012)\" cx=\"2154.19\" cy=\"569.44\" r=\"14.4\" fill=\"#009af9\" fill-rule=\"evenodd\" fill-opacity=\"1\" stroke=\"#000000\" stroke-opacity=\"1\" stroke-width=\"3.2\"/>\n",
       "<circle clip-path=\"url(#clip012)\" cx=\"2163.39\" cy=\"402.308\" r=\"14.4\" fill=\"#009af9\" fill-rule=\"evenodd\" fill-opacity=\"1\" stroke=\"#000000\" stroke-opacity=\"1\" stroke-width=\"3.2\"/>\n",
       "<circle clip-path=\"url(#clip012)\" cx=\"2172.58\" cy=\"423.242\" r=\"14.4\" fill=\"#009af9\" fill-rule=\"evenodd\" fill-opacity=\"1\" stroke=\"#000000\" stroke-opacity=\"1\" stroke-width=\"3.2\"/>\n",
       "<circle clip-path=\"url(#clip012)\" cx=\"2181.77\" cy=\"789.288\" r=\"14.4\" fill=\"#009af9\" fill-rule=\"evenodd\" fill-opacity=\"1\" stroke=\"#000000\" stroke-opacity=\"1\" stroke-width=\"3.2\"/>\n",
       "<circle clip-path=\"url(#clip012)\" cx=\"2190.97\" cy=\"753.265\" r=\"14.4\" fill=\"#009af9\" fill-rule=\"evenodd\" fill-opacity=\"1\" stroke=\"#000000\" stroke-opacity=\"1\" stroke-width=\"3.2\"/>\n",
       "<circle clip-path=\"url(#clip012)\" cx=\"2200.16\" cy=\"528.707\" r=\"14.4\" fill=\"#009af9\" fill-rule=\"evenodd\" fill-opacity=\"1\" stroke=\"#000000\" stroke-opacity=\"1\" stroke-width=\"3.2\"/>\n",
       "<circle clip-path=\"url(#clip012)\" cx=\"2209.35\" cy=\"487.619\" r=\"14.4\" fill=\"#009af9\" fill-rule=\"evenodd\" fill-opacity=\"1\" stroke=\"#000000\" stroke-opacity=\"1\" stroke-width=\"3.2\"/>\n",
       "<circle clip-path=\"url(#clip012)\" cx=\"2218.54\" cy=\"602.147\" r=\"14.4\" fill=\"#009af9\" fill-rule=\"evenodd\" fill-opacity=\"1\" stroke=\"#000000\" stroke-opacity=\"1\" stroke-width=\"3.2\"/>\n",
       "<circle clip-path=\"url(#clip012)\" cx=\"2227.74\" cy=\"400.94\" r=\"14.4\" fill=\"#009af9\" fill-rule=\"evenodd\" fill-opacity=\"1\" stroke=\"#000000\" stroke-opacity=\"1\" stroke-width=\"3.2\"/>\n",
       "<circle clip-path=\"url(#clip012)\" cx=\"2236.93\" cy=\"265.578\" r=\"14.4\" fill=\"#009af9\" fill-rule=\"evenodd\" fill-opacity=\"1\" stroke=\"#000000\" stroke-opacity=\"1\" stroke-width=\"3.2\"/>\n",
       "<circle clip-path=\"url(#clip012)\" cx=\"2246.12\" cy=\"535.628\" r=\"14.4\" fill=\"#009af9\" fill-rule=\"evenodd\" fill-opacity=\"1\" stroke=\"#000000\" stroke-opacity=\"1\" stroke-width=\"3.2\"/>\n",
       "<circle clip-path=\"url(#clip012)\" cx=\"2255.31\" cy=\"383.284\" r=\"14.4\" fill=\"#009af9\" fill-rule=\"evenodd\" fill-opacity=\"1\" stroke=\"#000000\" stroke-opacity=\"1\" stroke-width=\"3.2\"/>\n",
       "<circle clip-path=\"url(#clip012)\" cx=\"2264.51\" cy=\"512.52\" r=\"14.4\" fill=\"#009af9\" fill-rule=\"evenodd\" fill-opacity=\"1\" stroke=\"#000000\" stroke-opacity=\"1\" stroke-width=\"3.2\"/>\n",
       "<circle clip-path=\"url(#clip012)\" cx=\"2273.7\" cy=\"626.42\" r=\"14.4\" fill=\"#009af9\" fill-rule=\"evenodd\" fill-opacity=\"1\" stroke=\"#000000\" stroke-opacity=\"1\" stroke-width=\"3.2\"/>\n",
       "<circle clip-path=\"url(#clip012)\" cx=\"2282.89\" cy=\"87.9763\" r=\"14.4\" fill=\"#009af9\" fill-rule=\"evenodd\" fill-opacity=\"1\" stroke=\"#000000\" stroke-opacity=\"1\" stroke-width=\"3.2\"/>\n",
       "<circle clip-path=\"url(#clip012)\" cx=\"2292.08\" cy=\"222.654\" r=\"14.4\" fill=\"#009af9\" fill-rule=\"evenodd\" fill-opacity=\"1\" stroke=\"#000000\" stroke-opacity=\"1\" stroke-width=\"3.2\"/>\n",
       "<polyline clip-path=\"url(#clip012)\" style=\"stroke:#e26f46; stroke-linecap:round; stroke-linejoin:round; stroke-width:4; stroke-opacity:1; fill:none\" points=\"269.7,698.029 278.893,705.178 288.085,712.252 297.278,719.251 306.471,726.174 315.663,733.021 324.856,739.792 334.049,746.488 343.241,753.108 352.434,759.653 361.627,766.122 370.819,772.515 380.012,778.832 389.205,785.074 398.397,791.24 407.59,797.331 416.783,803.346 425.975,809.285 435.168,815.149 444.361,820.937 453.553,826.649 462.746,832.285 471.938,837.846 481.131,843.332 490.324,848.741 499.516,854.075 508.709,859.333 517.902,864.516 527.094,869.623 536.287,874.654 545.48,879.61 554.672,884.49 563.865,889.294 573.058,894.023 582.25,898.676 591.443,903.253 600.636,907.755 609.828,912.181 619.021,916.532 628.214,920.806 637.406,925.005 646.599,929.129 655.792,933.177 664.984,937.149 674.177,941.045 683.37,944.866 692.562,948.611 701.755,952.28 710.948,955.874 720.14,959.392 729.333,962.835 738.525,966.202 747.718,969.493 756.911,972.708 766.103,975.848 775.296,978.912 784.489,981.901 793.681,984.814 802.874,987.651 812.067,990.412 821.259,993.098 830.452,995.709 839.645,998.243 848.837,1000.7 858.03,1003.09 867.223,1005.39 876.415,1007.62 885.608,1009.78 894.801,1011.86 903.993,1013.87 913.186,1015.8 922.379,1017.65 931.571,1019.43 940.764,1021.13 949.957,1022.76 959.149,1024.31 968.342,1025.78 977.535,1027.18 986.727,1028.51 995.92,1029.76 1005.11,1030.93 1014.31,1032.02 1023.5,1033.05 1032.69,1033.99 1041.88,1034.86 1051.08,1035.66 1060.27,1036.38 1069.46,1037.02 1078.65,1037.59 1087.85,1038.08 1097.04,1038.49 1106.23,1038.83 1115.42,1039.1 1124.62,1039.29 1133.81,1039.4 1143,1039.44 1152.2,1039.4 1161.39,1039.29 1170.58,1039.1 1179.77,1038.83 1188.97,1038.49 1198.16,1038.08 1207.35,1037.59 1216.54,1037.02 1225.74,1036.38 1234.93,1035.66 1244.12,1034.86 1253.31,1033.99 1262.51,1033.05 1271.7,1032.02 1280.89,1030.93 1290.08,1029.76 1299.28,1028.51 1308.47,1027.18 1317.66,1025.78 1326.86,1024.31 1336.05,1022.76 1345.24,1021.13 1354.43,1019.43 1363.63,1017.65 1372.82,1015.8 1382.01,1013.87 1391.2,1011.86 1400.4,1009.78 1409.59,1007.62 1418.78,1005.39 1427.97,1003.09 1437.17,1000.7 1446.36,998.243 1455.55,995.709 1464.75,993.098 1473.94,990.412 1483.13,987.651 1492.32,984.814 1501.52,981.901 1510.71,978.912 1519.9,975.848 1529.09,972.708 1538.29,969.493 1547.48,966.202 1556.67,962.835 1565.86,959.392 1575.06,955.874 1584.25,952.28 1593.44,948.611 1602.64,944.866 1611.83,941.045 1621.02,937.149 1630.21,933.177 1639.41,929.129 1648.6,925.005 1657.79,920.806 1666.98,916.532 1676.18,912.181 1685.37,907.755 1694.56,903.253 1703.75,898.676 1712.95,894.023 1722.14,889.294 1731.33,884.49 1740.53,879.61 1749.72,874.654 1758.91,869.623 1768.1,864.516 1777.3,859.333 1786.49,854.075 1795.68,848.741 1804.87,843.332 1814.07,837.846 1823.26,832.285 1832.45,826.649 1841.64,820.937 1850.84,815.149 1860.03,809.285 1869.22,803.346 1878.41,797.331 1887.61,791.24 1896.8,785.074 1905.99,778.832 1915.19,772.515 1924.38,766.122 1933.57,759.653 1942.76,753.108 1951.96,746.488 1961.15,739.792 1970.34,733.021 1979.53,726.174 1988.73,719.251 1997.92,712.252 2007.11,705.178 2016.3,698.029 2025.5,690.803 2034.69,683.502 2043.88,676.125 2053.08,668.673 2062.27,661.145 2071.46,653.541 2080.65,645.862 2089.85,638.107 2099.04,630.276 2108.23,622.37 2117.42,614.388 2126.62,606.33 2135.81,598.197 2145,589.988 2154.19,581.703 2163.39,573.343 2172.58,564.907 2181.77,556.395 2190.97,547.808 2200.16,539.145 2209.35,530.406 2218.54,521.592 2227.74,512.702 2236.93,503.736 2246.12,494.695 2255.31,485.578 2264.51,476.386 2273.7,467.118 2282.89,457.774 2292.08,448.354 \"/>\n",
       "<polyline clip-path=\"url(#clip012)\" style=\"stroke:#3da44d; stroke-linecap:round; stroke-linejoin:round; stroke-width:4; stroke-opacity:1; fill:none\" points=\"269.7,560.952 278.893,609.876 288.085,650.739 297.278,684.632 306.471,712.533 315.663,735.316 324.856,753.757 334.049,768.545 343.241,780.287 352.434,789.516 361.627,796.7 370.819,802.245 380.012,806.5 389.205,809.768 398.397,812.305 407.59,814.327 416.783,816.014 425.975,817.515 435.168,818.95 444.361,820.414 453.553,821.981 462.746,823.706 471.938,825.627 481.131,827.768 490.324,830.141 499.516,832.749 508.709,835.586 517.902,838.64 527.094,841.892 536.287,845.322 545.48,848.905 554.672,852.614 563.865,856.423 573.058,860.303 582.25,864.228 591.443,868.171 600.636,872.107 609.828,876.012 619.021,879.866 628.214,883.649 637.406,887.345 646.599,890.938 655.792,894.419 664.984,897.777 674.177,901.005 683.37,904.1 692.562,907.061 701.755,909.886 710.948,912.58 720.14,915.146 729.333,917.592 738.525,919.925 747.718,922.155 756.911,924.292 766.103,926.35 775.296,928.339 784.489,930.275 793.681,932.171 802.874,934.041 812.067,935.9 821.259,937.761 830.452,939.64 839.645,941.55 848.837,943.504 858.03,945.514 867.223,947.593 876.415,949.751 885.608,951.999 894.801,954.345 903.993,956.797 913.186,959.361 922.379,962.043 931.571,964.846 940.764,967.773 949.957,970.826 959.149,974.004 968.342,977.305 977.535,980.728 986.727,984.267 995.92,987.918 1005.11,991.675 1014.31,995.529 1023.5,999.471 1032.69,1003.49 1041.88,1007.58 1051.08,1011.73 1060.27,1015.92 1069.46,1020.14 1078.65,1024.38 1087.85,1028.63 1097.04,1032.86 1106.23,1037.07 1115.42,1041.24 1124.62,1045.35 1133.81,1049.39 1143,1053.34 1152.2,1057.2 1161.39,1060.93 1170.58,1064.54 1179.77,1068.01 1188.97,1071.31 1198.16,1074.45 1207.35,1077.41 1216.54,1080.17 1225.74,1082.73 1234.93,1085.08 1244.12,1087.2 1253.31,1089.09 1262.51,1090.75 1271.7,1092.16 1280.89,1093.33 1290.08,1094.24 1299.28,1094.89 1308.47,1095.29 1317.66,1095.43 1326.86,1095.31 1336.05,1094.92 1345.24,1094.29 1354.43,1093.39 1363.63,1092.24 1372.82,1090.85 1382.01,1089.21 1391.2,1087.33 1400.4,1085.21 1409.59,1082.88 1418.78,1080.31 1427.97,1077.54 1437.17,1074.56 1446.36,1071.38 1455.55,1068.01 1464.75,1064.45 1473.94,1060.72 1483.13,1056.82 1492.32,1052.75 1501.52,1048.53 1510.71,1044.15 1519.9,1039.64 1529.09,1034.98 1538.29,1030.2 1547.48,1025.28 1556.67,1020.24 1565.86,1015.07 1575.06,1009.78 1584.25,1004.38 1593.44,998.852 1602.64,993.209 1611.83,987.446 1621.02,981.563 1630.21,975.556 1639.41,969.423 1648.6,963.161 1657.79,956.765 1666.98,950.231 1676.18,943.554 1685.37,936.729 1694.56,929.751 1703.75,922.614 1712.95,915.312 1722.14,907.841 1731.33,900.196 1740.53,892.373 1749.72,884.368 1758.91,876.179 1768.1,867.803 1777.3,859.242 1786.49,850.494 1795.68,841.564 1804.87,832.455 1814.07,823.175 1823.26,813.73 1832.45,804.132 1841.64,794.395 1850.84,784.533 1860.03,774.565 1869.22,764.513 1878.41,754.4 1887.61,744.253 1896.8,734.102 1905.99,723.979 1915.19,713.921 1924.38,703.965 1933.57,694.151 1942.76,684.523 1951.96,675.125 1961.15,666.003 1970.34,657.205 1979.53,648.777 1988.73,640.769 1997.92,633.226 2007.11,626.193 2016.3,619.713 2025.5,613.823 2034.69,608.557 2043.88,603.94 2053.08,599.992 2062.27,596.719 2071.46,594.119 2080.65,592.173 2089.85,590.848 2099.04,590.089 2108.23,589.821 2117.42,589.945 2126.62,590.33 2135.81,590.817 2145,591.209 2154.19,591.269 2163.39,590.714 2172.58,589.212 2181.77,586.378 2190.97,581.762 2200.16,574.848 2209.35,565.049 2218.54,551.693 2227.74,534.023 2236.93,511.182 2246.12,482.21 2255.31,446.033 2264.51,401.452 2273.7,347.133 2282.89,281.598 2292.08,203.21 \"/>\n",
       "<path clip-path=\"url(#clip010)\" d=\"M1840.05 1438.47 L2281.3 1438.47 L2281.3 1231.11 L1840.05 1231.11  Z\" fill=\"#ffffff\" fill-rule=\"evenodd\" fill-opacity=\"1\"/>\n",
       "<polyline clip-path=\"url(#clip010)\" style=\"stroke:#000000; stroke-linecap:round; stroke-linejoin:round; stroke-width:4; stroke-opacity:1; fill:none\" points=\"1840.05,1438.47 2281.3,1438.47 2281.3,1231.11 1840.05,1231.11 1840.05,1438.47 \"/>\n",
       "<circle clip-path=\"url(#clip010)\" cx=\"1935.33\" cy=\"1282.95\" r=\"23.04\" fill=\"#009af9\" fill-rule=\"evenodd\" fill-opacity=\"1\" stroke=\"#000000\" stroke-opacity=\"1\" stroke-width=\"5.12\"/>\n",
       "<path clip-path=\"url(#clip010)\" d=\"M2049.52 1278.24 L2049.52 1264.22 L2053.78 1264.22 L2053.78 1300.23 L2049.52 1300.23 L2049.52 1296.35 Q2048.17 1298.66 2046.11 1299.79 Q2044.08 1300.91 2041.21 1300.91 Q2036.51 1300.91 2033.55 1297.16 Q2030.61 1293.41 2030.61 1287.29 Q2030.61 1281.18 2033.55 1277.43 Q2036.51 1273.68 2041.21 1273.68 Q2044.08 1273.68 2046.11 1274.82 Q2048.17 1275.93 2049.52 1278.24 M2035 1287.29 Q2035 1291.99 2036.92 1294.68 Q2038.87 1297.34 2042.25 1297.34 Q2045.63 1297.34 2047.57 1294.68 Q2049.52 1291.99 2049.52 1287.29 Q2049.52 1282.6 2047.57 1279.93 Q2045.63 1277.25 2042.25 1277.25 Q2038.87 1277.25 2036.92 1279.93 Q2035 1282.6 2035 1287.29 Z\" fill=\"#000000\" fill-rule=\"evenodd\" fill-opacity=\"1\" /><path clip-path=\"url(#clip010)\" d=\"M2074.33 1287.2 Q2069.17 1287.2 2067.18 1288.38 Q2065.19 1289.56 2065.19 1292.41 Q2065.19 1294.68 2066.67 1296.02 Q2068.17 1297.34 2070.74 1297.34 Q2074.29 1297.34 2076.42 1294.84 Q2078.57 1292.32 2078.57 1288.15 L2078.57 1287.2 L2074.33 1287.2 M2082.83 1285.44 L2082.83 1300.23 L2078.57 1300.23 L2078.57 1296.3 Q2077.11 1298.66 2074.93 1299.79 Q2072.76 1300.91 2069.61 1300.91 Q2065.63 1300.91 2063.27 1298.68 Q2060.93 1296.44 2060.93 1292.69 Q2060.93 1288.31 2063.85 1286.09 Q2066.79 1283.87 2072.6 1283.87 L2078.57 1283.87 L2078.57 1283.45 Q2078.57 1280.51 2076.62 1278.92 Q2074.7 1277.29 2071.21 1277.29 Q2068.98 1277.29 2066.88 1277.83 Q2064.77 1278.36 2062.83 1279.42 L2062.83 1275.49 Q2065.17 1274.59 2067.36 1274.15 Q2069.56 1273.68 2071.65 1273.68 Q2077.27 1273.68 2080.05 1276.6 Q2082.83 1279.52 2082.83 1285.44 Z\" fill=\"#000000\" fill-rule=\"evenodd\" fill-opacity=\"1\" /><path clip-path=\"url(#clip010)\" d=\"M2095.81 1266.95 L2095.81 1274.31 L2104.59 1274.31 L2104.59 1277.62 L2095.81 1277.62 L2095.81 1291.69 Q2095.81 1294.86 2096.67 1295.77 Q2097.55 1296.67 2100.21 1296.67 L2104.59 1296.67 L2104.59 1300.23 L2100.21 1300.23 Q2095.28 1300.23 2093.41 1298.41 Q2091.53 1296.55 2091.53 1291.69 L2091.53 1277.62 L2088.41 1277.62 L2088.41 1274.31 L2091.53 1274.31 L2091.53 1266.95 L2095.81 1266.95 Z\" fill=\"#000000\" fill-rule=\"evenodd\" fill-opacity=\"1\" /><path clip-path=\"url(#clip010)\" d=\"M2121.97 1287.2 Q2116.81 1287.2 2114.82 1288.38 Q2112.83 1289.56 2112.83 1292.41 Q2112.83 1294.68 2114.31 1296.02 Q2115.81 1297.34 2118.38 1297.34 Q2121.92 1297.34 2124.05 1294.84 Q2126.21 1292.32 2126.21 1288.15 L2126.21 1287.2 L2121.97 1287.2 M2130.47 1285.44 L2130.47 1300.23 L2126.21 1300.23 L2126.21 1296.3 Q2124.75 1298.66 2122.57 1299.79 Q2120.4 1300.91 2117.25 1300.91 Q2113.27 1300.91 2110.91 1298.68 Q2108.57 1296.44 2108.57 1292.69 Q2108.57 1288.31 2111.48 1286.09 Q2114.42 1283.87 2120.23 1283.87 L2126.21 1283.87 L2126.21 1283.45 Q2126.21 1280.51 2124.26 1278.92 Q2122.34 1277.29 2118.85 1277.29 Q2116.62 1277.29 2114.52 1277.83 Q2112.41 1278.36 2110.47 1279.42 L2110.47 1275.49 Q2112.8 1274.59 2115 1274.15 Q2117.2 1273.68 2119.29 1273.68 Q2124.91 1273.68 2127.69 1276.6 Q2130.47 1279.52 2130.47 1285.44 Z\" fill=\"#000000\" fill-rule=\"evenodd\" fill-opacity=\"1\" /><polyline clip-path=\"url(#clip010)\" style=\"stroke:#e26f46; stroke-linecap:round; stroke-linejoin:round; stroke-width:4; stroke-opacity:1; fill:none\" points=\"1863.87,1334.79 2006.79,1334.79 \"/>\n",
       "<path clip-path=\"url(#clip010)\" d=\"M2030.61 1317.51 L2059.84 1317.51 L2059.84 1321.45 L2047.57 1321.45 L2047.57 1352.07 L2042.87 1352.07 L2042.87 1321.45 L2030.61 1321.45 L2030.61 1317.51 Z\" fill=\"#000000\" fill-rule=\"evenodd\" fill-opacity=\"1\" /><path clip-path=\"url(#clip010)\" d=\"M2072.23 1330.13 Q2071.51 1329.71 2070.65 1329.53 Q2069.82 1329.32 2068.8 1329.32 Q2065.19 1329.32 2063.24 1331.68 Q2061.32 1334.02 2061.32 1338.42 L2061.32 1352.07 L2057.04 1352.07 L2057.04 1326.15 L2061.32 1326.15 L2061.32 1330.18 Q2062.67 1327.82 2064.82 1326.68 Q2066.97 1325.52 2070.05 1325.52 Q2070.49 1325.52 2071.02 1325.59 Q2071.55 1325.64 2072.2 1325.76 L2072.23 1330.13 Z\" fill=\"#000000\" fill-rule=\"evenodd\" fill-opacity=\"1\" /><path clip-path=\"url(#clip010)\" d=\"M2076.25 1341.84 L2076.25 1326.15 L2080.51 1326.15 L2080.51 1341.68 Q2080.51 1345.36 2081.95 1347.21 Q2083.38 1349.04 2086.25 1349.04 Q2089.7 1349.04 2091.69 1346.84 Q2093.71 1344.64 2093.71 1340.85 L2093.71 1326.15 L2097.97 1326.15 L2097.97 1352.07 L2093.71 1352.07 L2093.71 1348.09 Q2092.16 1350.45 2090.1 1351.61 Q2088.06 1352.75 2085.35 1352.75 Q2080.88 1352.75 2078.57 1349.97 Q2076.25 1347.19 2076.25 1341.84 M2086.97 1325.52 L2086.97 1325.52 Z\" fill=\"#000000\" fill-rule=\"evenodd\" fill-opacity=\"1\" /><path clip-path=\"url(#clip010)\" d=\"M2128.92 1338.05 L2128.92 1340.13 L2109.33 1340.13 Q2109.61 1344.53 2111.97 1346.84 Q2114.35 1349.13 2118.59 1349.13 Q2121.04 1349.13 2123.34 1348.53 Q2125.65 1347.93 2127.92 1346.73 L2127.92 1350.75 Q2125.63 1351.73 2123.22 1352.24 Q2120.81 1352.75 2118.34 1352.75 Q2112.13 1352.75 2108.5 1349.13 Q2104.89 1345.52 2104.89 1339.37 Q2104.89 1333 2108.31 1329.27 Q2111.76 1325.52 2117.6 1325.52 Q2122.83 1325.52 2125.86 1328.9 Q2128.92 1332.26 2128.92 1338.05 M2124.66 1336.8 Q2124.61 1333.3 2122.69 1331.22 Q2120.79 1329.13 2117.64 1329.13 Q2114.08 1329.13 2111.92 1331.15 Q2109.79 1333.16 2109.47 1336.82 L2124.66 1336.8 Z\" fill=\"#000000\" fill-rule=\"evenodd\" fill-opacity=\"1\" /><path clip-path=\"url(#clip010)\" d=\"M2150.98 1316.06 L2155.23 1316.06 L2155.23 1352.07 L2150.98 1352.07 L2150.98 1316.06 Z\" fill=\"#000000\" fill-rule=\"evenodd\" fill-opacity=\"1\" /><path clip-path=\"url(#clip010)\" d=\"M2164.15 1326.15 L2168.41 1326.15 L2168.41 1352.07 L2164.15 1352.07 L2164.15 1326.15 M2164.15 1316.06 L2168.41 1316.06 L2168.41 1321.45 L2164.15 1321.45 L2164.15 1316.06 Z\" fill=\"#000000\" fill-rule=\"evenodd\" fill-opacity=\"1\" /><path clip-path=\"url(#clip010)\" d=\"M2198.87 1336.43 L2198.87 1352.07 L2194.61 1352.07 L2194.61 1336.57 Q2194.61 1332.88 2193.17 1331.06 Q2191.74 1329.23 2188.87 1329.23 Q2185.42 1329.23 2183.43 1331.43 Q2181.44 1333.63 2181.44 1337.42 L2181.44 1352.07 L2177.16 1352.07 L2177.16 1326.15 L2181.44 1326.15 L2181.44 1330.18 Q2182.97 1327.84 2185.03 1326.68 Q2187.11 1325.52 2189.82 1325.52 Q2194.29 1325.52 2196.58 1328.3 Q2198.87 1331.06 2198.87 1336.43 Z\" fill=\"#000000\" fill-rule=\"evenodd\" fill-opacity=\"1\" /><path clip-path=\"url(#clip010)\" d=\"M2229.54 1338.05 L2229.54 1340.13 L2209.96 1340.13 Q2210.23 1344.53 2212.6 1346.84 Q2214.98 1349.13 2219.22 1349.13 Q2221.67 1349.13 2223.96 1348.53 Q2226.28 1347.93 2228.54 1346.73 L2228.54 1350.75 Q2226.25 1351.73 2223.85 1352.24 Q2221.44 1352.75 2218.96 1352.75 Q2212.76 1352.75 2209.12 1349.13 Q2205.51 1345.52 2205.51 1339.37 Q2205.51 1333 2208.94 1329.27 Q2212.39 1325.52 2218.22 1325.52 Q2223.45 1325.52 2226.48 1328.9 Q2229.54 1332.26 2229.54 1338.05 M2225.28 1336.8 Q2225.23 1333.3 2223.31 1331.22 Q2221.41 1329.13 2218.27 1329.13 Q2214.7 1329.13 2212.55 1331.15 Q2210.42 1333.16 2210.1 1336.82 L2225.28 1336.8 Z\" fill=\"#000000\" fill-rule=\"evenodd\" fill-opacity=\"1\" /><polyline clip-path=\"url(#clip010)\" style=\"stroke:#3da44d; stroke-linecap:round; stroke-linejoin:round; stroke-width:4; stroke-opacity:1; fill:none\" points=\"1863.87,1386.63 2006.79,1386.63 \"/>\n",
       "<path clip-path=\"url(#clip010)\" d=\"M2030.61 1369.35 L2050.47 1369.35 L2050.47 1373.29 L2035.28 1373.29 L2035.28 1383.47 L2048.98 1383.47 L2048.98 1387.41 L2035.28 1387.41 L2035.28 1403.91 L2030.61 1403.91 L2030.61 1369.35 Z\" fill=\"#000000\" fill-rule=\"evenodd\" fill-opacity=\"1\" /><path clip-path=\"url(#clip010)\" d=\"M2054.24 1377.99 L2058.5 1377.99 L2058.5 1403.91 L2054.24 1403.91 L2054.24 1377.99 M2054.24 1367.9 L2058.5 1367.9 L2058.5 1373.29 L2054.24 1373.29 L2054.24 1367.9 Z\" fill=\"#000000\" fill-rule=\"evenodd\" fill-opacity=\"1\" /><path clip-path=\"url(#clip010)\" d=\"M2071.62 1370.63 L2071.62 1377.99 L2080.4 1377.99 L2080.4 1381.3 L2071.62 1381.3 L2071.62 1395.37 Q2071.62 1398.54 2072.48 1399.45 Q2073.36 1400.35 2076.02 1400.35 L2080.4 1400.35 L2080.4 1403.91 L2076.02 1403.91 Q2071.09 1403.91 2069.22 1402.09 Q2067.34 1400.23 2067.34 1395.37 L2067.34 1381.3 L2064.22 1381.3 L2064.22 1377.99 L2067.34 1377.99 L2067.34 1370.63 L2071.62 1370.63 Z\" fill=\"#000000\" fill-rule=\"evenodd\" fill-opacity=\"1\" /><path clip-path=\"url(#clip010)\" d=\"M2090.21 1370.63 L2090.21 1377.99 L2098.98 1377.99 L2098.98 1381.3 L2090.21 1381.3 L2090.21 1395.37 Q2090.21 1398.54 2091.07 1399.45 Q2091.95 1400.35 2094.61 1400.35 L2098.98 1400.35 L2098.98 1403.91 L2094.61 1403.91 Q2089.68 1403.91 2087.8 1402.09 Q2085.93 1400.23 2085.93 1395.37 L2085.93 1381.3 L2082.8 1381.3 L2082.8 1377.99 L2085.93 1377.99 L2085.93 1370.63 L2090.21 1370.63 Z\" fill=\"#000000\" fill-rule=\"evenodd\" fill-opacity=\"1\" /><path clip-path=\"url(#clip010)\" d=\"M2126.76 1389.89 L2126.76 1391.97 L2107.18 1391.97 Q2107.46 1396.37 2109.82 1398.68 Q2112.2 1400.97 2116.44 1400.97 Q2118.89 1400.97 2121.18 1400.37 Q2123.5 1399.77 2125.77 1398.57 L2125.77 1402.59 Q2123.48 1403.57 2121.07 1404.08 Q2118.66 1404.59 2116.18 1404.59 Q2109.98 1404.59 2106.35 1400.97 Q2102.73 1397.36 2102.73 1391.21 Q2102.73 1384.84 2106.16 1381.11 Q2109.61 1377.36 2115.44 1377.36 Q2120.67 1377.36 2123.71 1380.74 Q2126.76 1384.1 2126.76 1389.89 M2122.5 1388.64 Q2122.46 1385.14 2120.54 1383.06 Q2118.64 1380.97 2115.49 1380.97 Q2111.92 1380.97 2109.77 1382.99 Q2107.64 1385 2107.32 1388.66 L2122.5 1388.64 Z\" fill=\"#000000\" fill-rule=\"evenodd\" fill-opacity=\"1\" /><path clip-path=\"url(#clip010)\" d=\"M2150.81 1381.92 L2150.81 1367.9 L2155.07 1367.9 L2155.07 1403.91 L2150.81 1403.91 L2150.81 1400.03 Q2149.47 1402.34 2147.41 1403.47 Q2145.37 1404.59 2142.5 1404.59 Q2137.8 1404.59 2134.84 1400.84 Q2131.9 1397.09 2131.9 1390.97 Q2131.9 1384.86 2134.84 1381.11 Q2137.8 1377.36 2142.5 1377.36 Q2145.37 1377.36 2147.41 1378.5 Q2149.47 1379.61 2150.81 1381.92 M2136.3 1390.97 Q2136.3 1395.67 2138.22 1398.36 Q2140.16 1401.02 2143.54 1401.02 Q2146.92 1401.02 2148.87 1398.36 Q2150.81 1395.67 2150.81 1390.97 Q2150.81 1386.28 2148.87 1383.61 Q2146.92 1380.93 2143.54 1380.93 Q2140.16 1380.93 2138.22 1383.61 Q2136.3 1386.28 2136.3 1390.97 Z\" fill=\"#000000\" fill-rule=\"evenodd\" fill-opacity=\"1\" /><path clip-path=\"url(#clip010)\" d=\"M2178.91 1367.9 L2183.17 1367.9 L2183.17 1403.91 L2178.91 1403.91 L2178.91 1367.9 Z\" fill=\"#000000\" fill-rule=\"evenodd\" fill-opacity=\"1\" /><path clip-path=\"url(#clip010)\" d=\"M2192.09 1377.99 L2196.35 1377.99 L2196.35 1403.91 L2192.09 1403.91 L2192.09 1377.99 M2192.09 1367.9 L2196.35 1367.9 L2196.35 1373.29 L2192.09 1373.29 L2192.09 1367.9 Z\" fill=\"#000000\" fill-rule=\"evenodd\" fill-opacity=\"1\" /><path clip-path=\"url(#clip010)\" d=\"M2226.81 1388.27 L2226.81 1403.91 L2222.55 1403.91 L2222.55 1388.41 Q2222.55 1384.72 2221.11 1382.9 Q2219.68 1381.07 2216.81 1381.07 Q2213.36 1381.07 2211.37 1383.27 Q2209.38 1385.47 2209.38 1389.26 L2209.38 1403.91 L2205.1 1403.91 L2205.1 1377.99 L2209.38 1377.99 L2209.38 1382.02 Q2210.91 1379.68 2212.97 1378.52 Q2215.05 1377.36 2217.76 1377.36 Q2222.22 1377.36 2224.52 1380.14 Q2226.81 1382.9 2226.81 1388.27 Z\" fill=\"#000000\" fill-rule=\"evenodd\" fill-opacity=\"1\" /><path clip-path=\"url(#clip010)\" d=\"M2257.48 1389.89 L2257.48 1391.97 L2237.9 1391.97 Q2238.17 1396.37 2240.53 1398.68 Q2242.92 1400.97 2247.16 1400.97 Q2249.61 1400.97 2251.9 1400.37 Q2254.22 1399.77 2256.48 1398.57 L2256.48 1402.59 Q2254.19 1403.57 2251.78 1404.08 Q2249.38 1404.59 2246.9 1404.59 Q2240.7 1404.59 2237.06 1400.97 Q2233.45 1397.36 2233.45 1391.21 Q2233.45 1384.84 2236.88 1381.11 Q2240.33 1377.36 2246.16 1377.36 Q2251.39 1377.36 2254.42 1380.74 Q2257.48 1384.1 2257.48 1389.89 M2253.22 1388.64 Q2253.17 1385.14 2251.25 1383.06 Q2249.35 1380.97 2246.21 1380.97 Q2242.64 1380.97 2240.49 1382.99 Q2238.36 1385 2238.03 1388.66 L2253.22 1388.64 Z\" fill=\"#000000\" fill-rule=\"evenodd\" fill-opacity=\"1\" /></svg>\n"
      ]
     },
     "execution_count": 70,
     "metadata": {},
     "output_type": "execute_result"
    }
   ],
   "source": [
    "x_fit=-11:0.1:11\n",
    "collect(x_fit)\n",
    "y_true=x_fit.^2 .+ 3 .* x_fit .- 2\n",
    "d=10\n",
    "noise = di.Normal(0,d)\n",
    "y_observed=y_true .+ rand(noise3,length(x_fit));\n",
    "poly_fit= fit(x_fit,y_observed,10)\n",
    "y_fitted= poly_fit.(x_fit) \n",
    "scatter(x_fit,y_observed, label=\"data\")\n",
    "plot!(x_fit,y_true, label=\"True line\")\n",
    "plot!(x_fit,y_fitted, label=\"Fitted line\")"
   ]
  },
  {
   "cell_type": "markdown",
   "id": "bbcb4ef4",
   "metadata": {},
   "source": [
    "3. What do you observe in the plot? What is this phenomenon called?"
   ]
  },
  {
   "cell_type": "markdown",
   "id": "49a085b1",
   "metadata": {},
   "source": [
    "y_observed is more scattered than previouse plot, that makes it more complex. This polynomial leads to \"overfitting\"."
   ]
  },
  {
   "cell_type": "code",
   "execution_count": null,
   "id": "1463ae40",
   "metadata": {},
   "outputs": [],
   "source": []
  }
 ],
 "metadata": {
  "kernelspec": {
   "display_name": "Julia 1.8.5",
   "language": "julia",
   "name": "julia-1.8"
  },
  "language_info": {
   "file_extension": ".jl",
   "mimetype": "application/julia",
   "name": "julia",
   "version": "1.8.5"
  }
 },
 "nbformat": 4,
 "nbformat_minor": 5
}
