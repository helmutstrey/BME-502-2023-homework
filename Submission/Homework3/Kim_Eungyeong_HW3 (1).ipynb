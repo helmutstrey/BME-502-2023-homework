{
 "cells": [
  {
   "cell_type": "markdown",
   "id": "1fbe377b",
   "metadata": {},
   "source": [
    "<h1>HW3</h1>"
   ]
  },
  {
   "cell_type": "markdown",
   "id": "79813e24",
   "metadata": {},
   "source": [
    "# Question 1\n",
    "### (Bayes Theorem) Read the following example and complete the exercises \n",
    "\n",
    "Trolls Under the Bridge\n",
    "1. Trolls(T) are bad\n",
    "2. Gnomes(G) are benign\n",
    "3. Every bridge has 5 creatures under it\n",
    "\n",
    "Below are the probabilities of what creatures live under a bridge:\n",
    "1. TTGGG: 20% (E1)\n",
    "2. TGGGG: 20% (E2)\n",
    "3. GGGGG: 60% (E3)\n",
    "\n",
    "A knight is approaching a bridge and he wants to know his chance of crossing the bridge safely."
   ]
  },
  {
   "cell_type": "markdown",
   "id": "425f8583",
   "metadata": {},
   "source": [
    "### 1.1 \n",
    "\n",
    "#### What is the chance of the knight crossing the bridge safely?\n"
   ]
  },
  {
   "cell_type": "code",
   "execution_count": null,
   "id": "29bea308",
   "metadata": {},
   "outputs": [],
   "source": [
    "0.6 "
   ]
  },
  {
   "cell_type": "markdown",
   "id": "61f687e4",
   "metadata": {},
   "source": [
    "### 1.2\n",
    "\n",
    "#### Before crossing a bridge, a knight captures a troll. “I now have an 80% chance of crossing safely,” he reasons, “since only the case 20% had TTGGG (E1) now have TGGG is still a threat.”\n",
    "\n",
    "#### Do you agree with him? Why?"
   ]
  },
  {
   "cell_type": "markdown",
   "id": "09025213",
   "metadata": {},
   "source": [
    "No, I do not agree with him. Addtional information changes the probability. "
   ]
  },
  {
   "cell_type": "markdown",
   "id": "c1533b67",
   "metadata": {},
   "source": [
    "### 1.3\n",
    "\n",
    "#### Now he wants to use Bayes' theorem to calculate his chance of crossing safely given a troll captured \n",
    "\n",
    "\\begin{equation*}\n",
    "P(A|B) = \\frac{P(B|A)P(A)}{P(B)} \\\\\n",
    "P(A|B): Posteior \\\\\n",
    "P(B|A): Likelihood \\\\\n",
    "P(A): Prior \\\\\n",
    "P(B): Marginal Probability \\\\\n",
    "\\end{equation*}\n",
    "\n",
    "#### Given the three events, E1, E2, and E3, under which two events the knight cannot cross safely after a troll was captured?"
   ]
  },
  {
   "cell_type": "markdown",
   "id": "0adb7f0a",
   "metadata": {},
   "source": [
    "E1 and E2 "
   ]
  },
  {
   "cell_type": "markdown",
   "id": "e45e8fa6",
   "metadata": {},
   "source": [
    "### 1.4\n",
    "\n",
    "#### Use Bayes' theorem to calculate the probability of the two events in 1.3 (separately) given the troll was captured. "
   ]
  },
  {
   "cell_type": "markdown",
   "id": "5d9c3c0b",
   "metadata": {},
   "source": [
    "Probability of one event given a troll captured: "
   ]
  },
  {
   "cell_type": "code",
   "execution_count": 71,
   "id": "f2f0e7c8",
   "metadata": {},
   "outputs": [
    {
     "data": {
      "text/plain": [
       "0.6666666666666666"
      ]
     },
     "execution_count": 71,
     "metadata": {},
     "output_type": "execute_result"
    }
   ],
   "source": [
    "#E1\n",
    "\n",
    "#P(E1)=> event 1 \n",
    "P_E1 = 0.2 \n",
    "#P(E2)=> ecent 2 \n",
    "P_E2 = 0.2\n",
    "#P(E3) = event3  \n",
    "P_E3= 0.6\n",
    "#P(T) => encountering a troll\n",
    "P_TE1 = 0.4 #2/5\n",
    "P_TE2 = 0.2 #1/5 \n",
    "P_TE3 = 0 \n",
    "#P(E1|T) = P(T|E1)*P(E1)/[P(T|E1)*P(E1)+P(T|E2)*P(E2)+P(T|E3)*P(E3)]\n",
    "P_E1T = P_TE1*P_E1/(P_TE1*P_E1+P_TE2*P_E2+P_TE3*P_E3)\n",
    "\n",
    "\n",
    "\n",
    "\n",
    "\n"
   ]
  },
  {
   "cell_type": "markdown",
   "id": "37843aee",
   "metadata": {},
   "source": [
    "Probability of the other event given a troll captured: "
   ]
  },
  {
   "cell_type": "code",
   "execution_count": 73,
   "id": "5db10bc7",
   "metadata": {},
   "outputs": [
    {
     "data": {
      "text/plain": [
       "0.3333333333333333"
      ]
     },
     "execution_count": 73,
     "metadata": {},
     "output_type": "execute_result"
    }
   ],
   "source": [
    "#E2\n",
    "\n",
    "#P(E1)=> event 1 \n",
    "P_E1 = 0.2 \n",
    "#P(E2)=> ecent 2 \n",
    "P_E2 = 0.2\n",
    "#P(E3) = event3  \n",
    "P_E3= 0.6\n",
    "#P(T) => encountering a troll\n",
    "P_TE1 = 0.4 #2/5\n",
    "P_TE2 = 0.2 #1/5 \n",
    "P_TE3 = 0 \n",
    "#P(E2|T) = P(T|E2)*P(E1)/[P(T|E1)*P(E1)+P(T|E2)*P(E2)+P(T|E3)*P(E3)]\n",
    "P_E2T = P_TE2*P_E2/(P_TE1*P_E1+P_TE2*P_E2+P_TE3*P_E3)"
   ]
  },
  {
   "cell_type": "markdown",
   "id": "f3b7f049",
   "metadata": {},
   "source": [
    "### 1.5\n",
    "\n",
    "#### What is the chance of the knight crossing safely?"
   ]
  },
  {
   "cell_type": "code",
   "execution_count": null,
   "id": "0f6fd73b",
   "metadata": {},
   "outputs": [],
   "source": [
    "1/3 = 0.333"
   ]
  },
  {
   "cell_type": "markdown",
   "id": "7b815ae0",
   "metadata": {},
   "source": [
    "#### Now looking back to 1.1, the probabilities were changed after assimilating data! "
   ]
  },
  {
   "cell_type": "markdown",
   "id": "f1450094",
   "metadata": {},
   "source": [
    "# Question 2\n",
    "### (Polynomial Fitting) Read the following example and complete the exercises \n",
    "\n",
    "Biological data always comes with errors that influence the intepretation of the data significantly. In this question, we will simulate data and see how noises affect the parameter estimation."
   ]
  },
  {
   "cell_type": "code",
   "execution_count": 25,
   "id": "c20822fa",
   "metadata": {},
   "outputs": [
    {
     "name": "stderr",
     "output_type": "stream",
     "text": [
      "\u001b[32m\u001b[1m   Resolving\u001b[22m\u001b[39m package versions...\n",
      "\u001b[32m\u001b[1m  No Changes\u001b[22m\u001b[39m to `~/.julia/environments/v1.8/Project.toml`\n",
      "\u001b[32m\u001b[1m  No Changes\u001b[22m\u001b[39m to `~/.julia/environments/v1.8/Manifest.toml`\n"
     ]
    }
   ],
   "source": [
    "import Pkg\n",
    "Pkg.add([\"Distributions\", \"Plots\", \"Polynomials\", \"Random\"])"
   ]
  },
  {
   "cell_type": "code",
   "execution_count": 26,
   "id": "d7d1ca8d",
   "metadata": {},
   "outputs": [],
   "source": [
    "import Distributions as di\n",
    "import Plots\n",
    "import Polynomials\n",
    "import Random"
   ]
  },
  {
   "cell_type": "markdown",
   "id": "a90dd09d",
   "metadata": {},
   "source": [
    "### 2.1\n",
    "\n",
    "1. Generate the independent variable x ranging from -10 to 10 with an increment of 1\n",
    "2. Generate the dependent variable y_true using the equation y_true = x^2 + 3x - 2\n"
   ]
  },
  {
   "cell_type": "code",
   "execution_count": 74,
   "id": "6b0b33c5",
   "metadata": {},
   "outputs": [
    {
     "data": {
      "text/plain": [
       "21-element Vector{Int64}:\n",
       " -10\n",
       "  -9\n",
       "  -8\n",
       "  -7\n",
       "  -6\n",
       "  -5\n",
       "  -4\n",
       "  -3\n",
       "  -2\n",
       "  -1\n",
       "   0\n",
       "   1\n",
       "   2\n",
       "   3\n",
       "   4\n",
       "   5\n",
       "   6\n",
       "   7\n",
       "   8\n",
       "   9\n",
       "  10"
      ]
     },
     "execution_count": 74,
     "metadata": {},
     "output_type": "execute_result"
    }
   ],
   "source": [
    "#1.\n",
    "x = -10:10 \n",
    "collect(x)"
   ]
  },
  {
   "cell_type": "code",
   "execution_count": 75,
   "id": "123dc53a",
   "metadata": {},
   "outputs": [
    {
     "data": {
      "text/plain": [
       "21-element Vector{Int64}:\n",
       "  68\n",
       "  52\n",
       "  38\n",
       "  26\n",
       "  16\n",
       "   8\n",
       "   2\n",
       "  -2\n",
       "  -4\n",
       "  -4\n",
       "  -2\n",
       "   2\n",
       "   8\n",
       "  16\n",
       "  26\n",
       "  38\n",
       "  52\n",
       "  68\n",
       "  86\n",
       " 106\n",
       " 128"
      ]
     },
     "execution_count": 75,
     "metadata": {},
     "output_type": "execute_result"
    }
   ],
   "source": [
    "#2.\n",
    "y_true = x.^2 + 3 * x .- 2"
   ]
  },
  {
   "cell_type": "markdown",
   "id": "74d2a191",
   "metadata": {},
   "source": [
    "### 2.2\n",
    "\n",
    "1. Generate the Guassian noises with zero mean and a standard deviation of 10\n",
    "\n",
    "2. Add the noises to y_true to obtain y_observed\n"
   ]
  },
  {
   "cell_type": "code",
   "execution_count": 76,
   "id": "7936417a",
   "metadata": {},
   "outputs": [
    {
     "data": {
      "text/plain": [
       "Distributions.Normal{Float64}(μ=0.0, σ=10.0)"
      ]
     },
     "execution_count": 76,
     "metadata": {},
     "output_type": "execute_result"
    }
   ],
   "source": [
    "#1.\n",
    "dataerr = 10.0 \n",
    "G_noises = di.Normal(0,dataerr)"
   ]
  },
  {
   "cell_type": "code",
   "execution_count": 67,
   "id": "33b6aaf7",
   "metadata": {},
   "outputs": [
    {
     "data": {
      "text/plain": [
       "21-element Vector{Float64}:\n",
       "  63.33404180139726\n",
       "  54.98202939640667\n",
       "  51.74556630687148\n",
       "  11.03493870761913\n",
       "   5.111854223385665\n",
       " -11.882514552810552\n",
       "   4.7205173766301\n",
       " -21.624728887966793\n",
       "  -0.6947047485228977\n",
       " -17.831099055991707\n",
       "  15.175306800005675\n",
       "   7.709320867222383\n",
       " -11.53303729624907\n",
       "  21.57069002303478\n",
       "  34.11709144944528\n",
       "  44.030572133905466\n",
       "  43.066364551804426\n",
       "  80.9104481994234\n",
       "  80.67740248219599\n",
       "  80.71512543933609\n",
       " 125.09601223592203"
      ]
     },
     "execution_count": 67,
     "metadata": {},
     "output_type": "execute_result"
    }
   ],
   "source": [
    "#2.\n",
    "y_observed = y_true .+ rand(G_noises,length(x))  "
   ]
  },
  {
   "cell_type": "markdown",
   "id": "ecf2e554",
   "metadata": {},
   "source": [
    "### 2.3\n",
    "\n",
    "#### Fit the data (x, y_observed) with a second order polynomial. \n",
    "\n",
    "1. Make a scatter plot of y_observed along x\n",
    "2. Plot a line of y_true along x on the scatter plot\n",
    "3. Plot a line of the fitted polynomial along x on the same plot"
   ]
  },
  {
   "cell_type": "code",
   "execution_count": 82,
   "id": "909b3b7a",
   "metadata": {},
   "outputs": [
    {
     "data": {
      "image/svg+xml": [
       "<?xml version=\"1.0\" encoding=\"utf-8\"?>\n",
       "<svg xmlns=\"http://www.w3.org/2000/svg\" xmlns:xlink=\"http://www.w3.org/1999/xlink\" width=\"600\" height=\"400\" viewBox=\"0 0 2400 1600\">\n",
       "<defs>\n",
       "  <clipPath id=\"clip750\">\n",
       "    <rect x=\"0\" y=\"0\" width=\"2400\" height=\"1600\"/>\n",
       "  </clipPath>\n",
       "</defs>\n",
       "<path clip-path=\"url(#clip750)\" d=\"M0 1600 L2400 1600 L2400 0 L0 0  Z\" fill=\"#ffffff\" fill-rule=\"evenodd\" fill-opacity=\"1\"/>\n",
       "<defs>\n",
       "  <clipPath id=\"clip751\">\n",
       "    <rect x=\"480\" y=\"0\" width=\"1681\" height=\"1600\"/>\n",
       "  </clipPath>\n",
       "</defs>\n",
       "<path clip-path=\"url(#clip750)\" d=\"M169.121 1486.45 L2352.76 1486.45 L2352.76 47.2441 L169.121 47.2441  Z\" fill=\"#ffffff\" fill-rule=\"evenodd\" fill-opacity=\"1\"/>\n",
       "<defs>\n",
       "  <clipPath id=\"clip752\">\n",
       "    <rect x=\"169\" y=\"47\" width=\"2185\" height=\"1440\"/>\n",
       "  </clipPath>\n",
       "</defs>\n",
       "<polyline clip-path=\"url(#clip752)\" style=\"stroke:#000000; stroke-linecap:round; stroke-linejoin:round; stroke-width:2; stroke-opacity:0.1; fill:none\" points=\"230.922,1486.45 230.922,47.2441 \"/>\n",
       "<polyline clip-path=\"url(#clip752)\" style=\"stroke:#000000; stroke-linecap:round; stroke-linejoin:round; stroke-width:2; stroke-opacity:0.1; fill:none\" points=\"745.93,1486.45 745.93,47.2441 \"/>\n",
       "<polyline clip-path=\"url(#clip752)\" style=\"stroke:#000000; stroke-linecap:round; stroke-linejoin:round; stroke-width:2; stroke-opacity:0.1; fill:none\" points=\"1260.94,1486.45 1260.94,47.2441 \"/>\n",
       "<polyline clip-path=\"url(#clip752)\" style=\"stroke:#000000; stroke-linecap:round; stroke-linejoin:round; stroke-width:2; stroke-opacity:0.1; fill:none\" points=\"1775.95,1486.45 1775.95,47.2441 \"/>\n",
       "<polyline clip-path=\"url(#clip752)\" style=\"stroke:#000000; stroke-linecap:round; stroke-linejoin:round; stroke-width:2; stroke-opacity:0.1; fill:none\" points=\"2290.95,1486.45 2290.95,47.2441 \"/>\n",
       "<polyline clip-path=\"url(#clip750)\" style=\"stroke:#000000; stroke-linecap:round; stroke-linejoin:round; stroke-width:4; stroke-opacity:1; fill:none\" points=\"169.121,1486.45 2352.76,1486.45 \"/>\n",
       "<polyline clip-path=\"url(#clip750)\" style=\"stroke:#000000; stroke-linecap:round; stroke-linejoin:round; stroke-width:4; stroke-opacity:1; fill:none\" points=\"230.922,1486.45 230.922,1467.55 \"/>\n",
       "<polyline clip-path=\"url(#clip750)\" style=\"stroke:#000000; stroke-linecap:round; stroke-linejoin:round; stroke-width:4; stroke-opacity:1; fill:none\" points=\"745.93,1486.45 745.93,1467.55 \"/>\n",
       "<polyline clip-path=\"url(#clip750)\" style=\"stroke:#000000; stroke-linecap:round; stroke-linejoin:round; stroke-width:4; stroke-opacity:1; fill:none\" points=\"1260.94,1486.45 1260.94,1467.55 \"/>\n",
       "<polyline clip-path=\"url(#clip750)\" style=\"stroke:#000000; stroke-linecap:round; stroke-linejoin:round; stroke-width:4; stroke-opacity:1; fill:none\" points=\"1775.95,1486.45 1775.95,1467.55 \"/>\n",
       "<polyline clip-path=\"url(#clip750)\" style=\"stroke:#000000; stroke-linecap:round; stroke-linejoin:round; stroke-width:4; stroke-opacity:1; fill:none\" points=\"2290.95,1486.45 2290.95,1467.55 \"/>\n",
       "<path clip-path=\"url(#clip750)\" d=\"M184.985 1532.02 L214.661 1532.02 L214.661 1535.95 L184.985 1535.95 L184.985 1532.02 Z\" fill=\"#000000\" fill-rule=\"evenodd\" fill-opacity=\"1\" /><path clip-path=\"url(#clip750)\" d=\"M225.564 1544.91 L233.202 1544.91 L233.202 1518.55 L224.892 1520.21 L224.892 1515.95 L233.156 1514.29 L237.832 1514.29 L237.832 1544.91 L245.471 1544.91 L245.471 1548.85 L225.564 1548.85 L225.564 1544.91 Z\" fill=\"#000000\" fill-rule=\"evenodd\" fill-opacity=\"1\" /><path clip-path=\"url(#clip750)\" d=\"M264.915 1517.37 Q261.304 1517.37 259.475 1520.93 Q257.67 1524.47 257.67 1531.6 Q257.67 1538.71 259.475 1542.27 Q261.304 1545.82 264.915 1545.82 Q268.549 1545.82 270.355 1542.27 Q272.184 1538.71 272.184 1531.6 Q272.184 1524.47 270.355 1520.93 Q268.549 1517.37 264.915 1517.37 M264.915 1513.66 Q270.725 1513.66 273.781 1518.27 Q276.86 1522.85 276.86 1531.6 Q276.86 1540.33 273.781 1544.94 Q270.725 1549.52 264.915 1549.52 Q259.105 1549.52 256.026 1544.94 Q252.971 1540.33 252.971 1531.6 Q252.971 1522.85 256.026 1518.27 Q259.105 1513.66 264.915 1513.66 Z\" fill=\"#000000\" fill-rule=\"evenodd\" fill-opacity=\"1\" /><path clip-path=\"url(#clip750)\" d=\"M715.572 1532.02 L745.248 1532.02 L745.248 1535.95 L715.572 1535.95 L715.572 1532.02 Z\" fill=\"#000000\" fill-rule=\"evenodd\" fill-opacity=\"1\" /><path clip-path=\"url(#clip750)\" d=\"M755.386 1514.29 L773.743 1514.29 L773.743 1518.22 L759.669 1518.22 L759.669 1526.7 Q760.687 1526.35 761.706 1526.19 Q762.724 1526 763.743 1526 Q769.53 1526 772.909 1529.17 Q776.289 1532.34 776.289 1537.76 Q776.289 1543.34 772.817 1546.44 Q769.345 1549.52 763.025 1549.52 Q760.849 1549.52 758.581 1549.15 Q756.335 1548.78 753.928 1548.04 L753.928 1543.34 Q756.011 1544.47 758.234 1545.03 Q760.456 1545.58 762.933 1545.58 Q766.937 1545.58 769.275 1543.48 Q771.613 1541.37 771.613 1537.76 Q771.613 1534.15 769.275 1532.04 Q766.937 1529.94 762.933 1529.94 Q761.058 1529.94 759.183 1530.35 Q757.331 1530.77 755.386 1531.65 L755.386 1514.29 Z\" fill=\"#000000\" fill-rule=\"evenodd\" fill-opacity=\"1\" /><path clip-path=\"url(#clip750)\" d=\"M1260.94 1517.37 Q1257.33 1517.37 1255.5 1520.93 Q1253.69 1524.47 1253.69 1531.6 Q1253.69 1538.71 1255.5 1542.27 Q1257.33 1545.82 1260.94 1545.82 Q1264.57 1545.82 1266.38 1542.27 Q1268.21 1538.71 1268.21 1531.6 Q1268.21 1524.47 1266.38 1520.93 Q1264.57 1517.37 1260.94 1517.37 M1260.94 1513.66 Q1266.75 1513.66 1269.8 1518.27 Q1272.88 1522.85 1272.88 1531.6 Q1272.88 1540.33 1269.8 1544.94 Q1266.75 1549.52 1260.94 1549.52 Q1255.13 1549.52 1252.05 1544.94 Q1248.99 1540.33 1248.99 1531.6 Q1248.99 1522.85 1252.05 1518.27 Q1255.13 1513.66 1260.94 1513.66 Z\" fill=\"#000000\" fill-rule=\"evenodd\" fill-opacity=\"1\" /><path clip-path=\"url(#clip750)\" d=\"M1766.22 1514.29 L1784.58 1514.29 L1784.58 1518.22 L1770.51 1518.22 L1770.51 1526.7 Q1771.53 1526.35 1772.54 1526.19 Q1773.56 1526 1774.58 1526 Q1780.37 1526 1783.75 1529.17 Q1787.13 1532.34 1787.13 1537.76 Q1787.13 1543.34 1783.66 1546.44 Q1780.18 1549.52 1773.86 1549.52 Q1771.69 1549.52 1769.42 1549.15 Q1767.17 1548.78 1764.77 1548.04 L1764.77 1543.34 Q1766.85 1544.47 1769.07 1545.03 Q1771.29 1545.58 1773.77 1545.58 Q1777.78 1545.58 1780.11 1543.48 Q1782.45 1541.37 1782.45 1537.76 Q1782.45 1534.15 1780.11 1532.04 Q1777.78 1529.94 1773.77 1529.94 Q1771.9 1529.94 1770.02 1530.35 Q1768.17 1530.77 1766.22 1531.65 L1766.22 1514.29 Z\" fill=\"#000000\" fill-rule=\"evenodd\" fill-opacity=\"1\" /><path clip-path=\"url(#clip750)\" d=\"M2265.64 1544.91 L2273.28 1544.91 L2273.28 1518.55 L2264.97 1520.21 L2264.97 1515.95 L2273.24 1514.29 L2277.91 1514.29 L2277.91 1544.91 L2285.55 1544.91 L2285.55 1548.85 L2265.64 1548.85 L2265.64 1544.91 Z\" fill=\"#000000\" fill-rule=\"evenodd\" fill-opacity=\"1\" /><path clip-path=\"url(#clip750)\" d=\"M2304.99 1517.37 Q2301.38 1517.37 2299.55 1520.93 Q2297.75 1524.47 2297.75 1531.6 Q2297.75 1538.71 2299.55 1542.27 Q2301.38 1545.82 2304.99 1545.82 Q2308.63 1545.82 2310.43 1542.27 Q2312.26 1538.71 2312.26 1531.6 Q2312.26 1524.47 2310.43 1520.93 Q2308.63 1517.37 2304.99 1517.37 M2304.99 1513.66 Q2310.8 1513.66 2313.86 1518.27 Q2316.94 1522.85 2316.94 1531.6 Q2316.94 1540.33 2313.86 1544.94 Q2310.8 1549.52 2304.99 1549.52 Q2299.18 1549.52 2296.11 1544.94 Q2293.05 1540.33 2293.05 1531.6 Q2293.05 1522.85 2296.11 1518.27 Q2299.18 1513.66 2304.99 1513.66 Z\" fill=\"#000000\" fill-rule=\"evenodd\" fill-opacity=\"1\" /><polyline clip-path=\"url(#clip752)\" style=\"stroke:#000000; stroke-linecap:round; stroke-linejoin:round; stroke-width:2; stroke-opacity:0.1; fill:none\" points=\"169.121,1249.49 2352.76,1249.49 \"/>\n",
       "<polyline clip-path=\"url(#clip752)\" style=\"stroke:#000000; stroke-linecap:round; stroke-linejoin:round; stroke-width:2; stroke-opacity:0.1; fill:none\" points=\"169.121,977.258 2352.76,977.258 \"/>\n",
       "<polyline clip-path=\"url(#clip752)\" style=\"stroke:#000000; stroke-linecap:round; stroke-linejoin:round; stroke-width:2; stroke-opacity:0.1; fill:none\" points=\"169.121,705.029 2352.76,705.029 \"/>\n",
       "<polyline clip-path=\"url(#clip752)\" style=\"stroke:#000000; stroke-linecap:round; stroke-linejoin:round; stroke-width:2; stroke-opacity:0.1; fill:none\" points=\"169.121,432.8 2352.76,432.8 \"/>\n",
       "<polyline clip-path=\"url(#clip752)\" style=\"stroke:#000000; stroke-linecap:round; stroke-linejoin:round; stroke-width:2; stroke-opacity:0.1; fill:none\" points=\"169.121,160.571 2352.76,160.571 \"/>\n",
       "<polyline clip-path=\"url(#clip750)\" style=\"stroke:#000000; stroke-linecap:round; stroke-linejoin:round; stroke-width:4; stroke-opacity:1; fill:none\" points=\"169.121,1486.45 169.121,47.2441 \"/>\n",
       "<polyline clip-path=\"url(#clip750)\" style=\"stroke:#000000; stroke-linecap:round; stroke-linejoin:round; stroke-width:4; stroke-opacity:1; fill:none\" points=\"169.121,1249.49 188.019,1249.49 \"/>\n",
       "<polyline clip-path=\"url(#clip750)\" style=\"stroke:#000000; stroke-linecap:round; stroke-linejoin:round; stroke-width:4; stroke-opacity:1; fill:none\" points=\"169.121,977.258 188.019,977.258 \"/>\n",
       "<polyline clip-path=\"url(#clip750)\" style=\"stroke:#000000; stroke-linecap:round; stroke-linejoin:round; stroke-width:4; stroke-opacity:1; fill:none\" points=\"169.121,705.029 188.019,705.029 \"/>\n",
       "<polyline clip-path=\"url(#clip750)\" style=\"stroke:#000000; stroke-linecap:round; stroke-linejoin:round; stroke-width:4; stroke-opacity:1; fill:none\" points=\"169.121,432.8 188.019,432.8 \"/>\n",
       "<polyline clip-path=\"url(#clip750)\" style=\"stroke:#000000; stroke-linecap:round; stroke-linejoin:round; stroke-width:4; stroke-opacity:1; fill:none\" points=\"169.121,160.571 188.019,160.571 \"/>\n",
       "<path clip-path=\"url(#clip750)\" d=\"M121.177 1235.29 Q117.566 1235.29 115.737 1238.85 Q113.932 1242.39 113.932 1249.52 Q113.932 1256.63 115.737 1260.19 Q117.566 1263.73 121.177 1263.73 Q124.811 1263.73 126.617 1260.19 Q128.445 1256.63 128.445 1249.52 Q128.445 1242.39 126.617 1238.85 Q124.811 1235.29 121.177 1235.29 M121.177 1231.58 Q126.987 1231.58 130.043 1236.19 Q133.121 1240.77 133.121 1249.52 Q133.121 1258.25 130.043 1262.85 Q126.987 1267.44 121.177 1267.44 Q115.367 1267.44 112.288 1262.85 Q109.233 1258.25 109.233 1249.52 Q109.233 1240.77 112.288 1236.19 Q115.367 1231.58 121.177 1231.58 Z\" fill=\"#000000\" fill-rule=\"evenodd\" fill-opacity=\"1\" /><path clip-path=\"url(#clip750)\" d=\"M95.1817 975.903 Q98.5382 976.621 100.413 978.889 Q102.311 981.158 102.311 984.491 Q102.311 989.607 98.7928 992.408 Q95.2743 995.209 88.7928 995.209 Q86.6169 995.209 84.3021 994.769 Q82.0105 994.352 79.5568 993.496 L79.5568 988.982 Q81.5012 990.116 83.816 990.695 Q86.1308 991.274 88.654 991.274 Q93.0521 991.274 95.3437 989.538 Q97.6585 987.801 97.6585 984.491 Q97.6585 981.436 95.5058 979.723 Q93.3762 977.987 89.5567 977.987 L85.529 977.987 L85.529 974.144 L89.7419 974.144 Q93.191 974.144 95.0197 972.778 Q96.8484 971.389 96.8484 968.797 Q96.8484 966.135 94.9502 964.723 Q93.0752 963.288 89.5567 963.288 Q87.6354 963.288 85.4364 963.704 Q83.2373 964.121 80.5984 965.001 L80.5984 960.834 Q83.2605 960.093 85.5753 959.723 Q87.9132 959.353 89.9734 959.353 Q95.2974 959.353 98.3993 961.783 Q101.501 964.19 101.501 968.311 Q101.501 971.181 99.8576 973.172 Q98.2141 975.139 95.1817 975.903 Z\" fill=\"#000000\" fill-rule=\"evenodd\" fill-opacity=\"1\" /><path clip-path=\"url(#clip750)\" d=\"M121.177 963.056 Q117.566 963.056 115.737 966.621 Q113.932 970.163 113.932 977.292 Q113.932 984.399 115.737 987.963 Q117.566 991.505 121.177 991.505 Q124.811 991.505 126.617 987.963 Q128.445 984.399 128.445 977.292 Q128.445 970.163 126.617 966.621 Q124.811 963.056 121.177 963.056 M121.177 959.353 Q126.987 959.353 130.043 963.959 Q133.121 968.542 133.121 977.292 Q133.121 986.019 130.043 990.625 Q126.987 995.209 121.177 995.209 Q115.367 995.209 112.288 990.625 Q109.233 986.019 109.233 977.292 Q109.233 968.542 112.288 963.959 Q115.367 959.353 121.177 959.353 Z\" fill=\"#000000\" fill-rule=\"evenodd\" fill-opacity=\"1\" /><path clip-path=\"url(#clip750)\" d=\"M91.5938 703.165 Q88.4456 703.165 86.5938 705.318 Q84.7651 707.471 84.7651 711.221 Q84.7651 714.947 86.5938 717.123 Q88.4456 719.276 91.5938 719.276 Q94.7419 719.276 96.5706 717.123 Q98.4224 714.947 98.4224 711.221 Q98.4224 707.471 96.5706 705.318 Q94.7419 703.165 91.5938 703.165 M100.876 688.512 L100.876 692.772 Q99.1169 691.938 97.3113 691.499 Q95.5289 691.059 93.7697 691.059 Q89.1401 691.059 86.6864 694.184 Q84.2558 697.309 83.9086 703.628 Q85.2743 701.614 87.3345 700.549 Q89.3947 699.461 91.8715 699.461 Q97.0798 699.461 100.089 702.633 Q103.121 705.781 103.121 711.221 Q103.121 716.545 99.9733 719.762 Q96.8252 722.98 91.5938 722.98 Q85.5984 722.98 82.4271 718.397 Q79.2559 713.79 79.2559 705.063 Q79.2559 696.869 83.1447 692.008 Q87.0336 687.124 93.5845 687.124 Q95.3437 687.124 97.1261 687.471 Q98.9317 687.818 100.876 688.512 Z\" fill=\"#000000\" fill-rule=\"evenodd\" fill-opacity=\"1\" /><path clip-path=\"url(#clip750)\" d=\"M121.177 690.827 Q117.566 690.827 115.737 694.392 Q113.932 697.934 113.932 705.063 Q113.932 712.17 115.737 715.735 Q117.566 719.276 121.177 719.276 Q124.811 719.276 126.617 715.735 Q128.445 712.17 128.445 705.063 Q128.445 697.934 126.617 694.392 Q124.811 690.827 121.177 690.827 M121.177 687.124 Q126.987 687.124 130.043 691.73 Q133.121 696.313 133.121 705.063 Q133.121 713.79 130.043 718.397 Q126.987 722.98 121.177 722.98 Q115.367 722.98 112.288 718.397 Q109.233 713.79 109.233 705.063 Q109.233 696.313 112.288 691.73 Q115.367 687.124 121.177 687.124 Z\" fill=\"#000000\" fill-rule=\"evenodd\" fill-opacity=\"1\" /><path clip-path=\"url(#clip750)\" d=\"M81.154 449.362 L81.154 445.103 Q82.9133 445.936 84.7188 446.376 Q86.5243 446.816 88.2604 446.816 Q92.89 446.816 95.3206 443.714 Q97.7743 440.589 98.1215 434.246 Q96.7789 436.237 94.7187 437.302 Q92.6586 438.367 90.1586 438.367 Q84.9734 438.367 81.941 435.242 Q78.9318 432.094 78.9318 426.654 Q78.9318 421.33 82.0799 418.112 Q85.2281 414.895 90.4595 414.895 Q96.4548 414.895 99.603 419.501 Q102.774 424.084 102.774 432.834 Q102.774 441.006 98.8854 445.89 Q95.0197 450.751 88.4688 450.751 Q86.7095 450.751 84.904 450.404 Q83.0984 450.056 81.154 449.362 M90.4595 434.709 Q93.6076 434.709 95.4363 432.557 Q97.2882 430.404 97.2882 426.654 Q97.2882 422.927 95.4363 420.774 Q93.6076 418.598 90.4595 418.598 Q87.3114 418.598 85.4595 420.774 Q83.6308 422.927 83.6308 426.654 Q83.6308 430.404 85.4595 432.557 Q87.3114 434.709 90.4595 434.709 Z\" fill=\"#000000\" fill-rule=\"evenodd\" fill-opacity=\"1\" /><path clip-path=\"url(#clip750)\" d=\"M121.177 418.598 Q117.566 418.598 115.737 422.163 Q113.932 425.705 113.932 432.834 Q113.932 439.941 115.737 443.506 Q117.566 447.047 121.177 447.047 Q124.811 447.047 126.617 443.506 Q128.445 439.941 128.445 432.834 Q128.445 425.705 126.617 422.163 Q124.811 418.598 121.177 418.598 M121.177 414.895 Q126.987 414.895 130.043 419.501 Q133.121 424.084 133.121 432.834 Q133.121 441.561 130.043 446.168 Q126.987 450.751 121.177 450.751 Q115.367 450.751 112.288 446.168 Q109.233 441.561 109.233 432.834 Q109.233 424.084 112.288 419.501 Q115.367 414.895 121.177 414.895 Z\" fill=\"#000000\" fill-rule=\"evenodd\" fill-opacity=\"1\" /><path clip-path=\"url(#clip750)\" d=\"M51.6634 173.915 L59.3023 173.915 L59.3023 147.55 L50.9921 149.217 L50.9921 144.957 L59.256 143.291 L63.9319 143.291 L63.9319 173.915 L71.5707 173.915 L71.5707 177.851 L51.6634 177.851 L51.6634 173.915 Z\" fill=\"#000000\" fill-rule=\"evenodd\" fill-opacity=\"1\" /><path clip-path=\"url(#clip750)\" d=\"M85.0429 173.915 L101.362 173.915 L101.362 177.851 L79.4179 177.851 L79.4179 173.915 Q82.0799 171.161 86.6632 166.531 Q91.2697 161.879 92.4502 160.536 Q94.6956 158.013 95.5752 156.277 Q96.478 154.517 96.478 152.828 Q96.478 150.073 94.5336 148.337 Q92.6123 146.601 89.5104 146.601 Q87.3114 146.601 84.8577 147.365 Q82.4271 148.129 79.6494 149.68 L79.6494 144.957 Q82.4734 143.823 84.9271 143.244 Q87.3808 142.666 89.4178 142.666 Q94.7882 142.666 97.9826 145.351 Q101.177 148.036 101.177 152.527 Q101.177 154.656 100.367 156.578 Q99.5798 158.476 97.4734 161.068 Q96.8947 161.74 93.7928 164.957 Q90.691 168.152 85.0429 173.915 Z\" fill=\"#000000\" fill-rule=\"evenodd\" fill-opacity=\"1\" /><path clip-path=\"url(#clip750)\" d=\"M121.177 146.369 Q117.566 146.369 115.737 149.934 Q113.932 153.476 113.932 160.605 Q113.932 167.712 115.737 171.277 Q117.566 174.818 121.177 174.818 Q124.811 174.818 126.617 171.277 Q128.445 167.712 128.445 160.605 Q128.445 153.476 126.617 149.934 Q124.811 146.369 121.177 146.369 M121.177 142.666 Q126.987 142.666 130.043 147.272 Q133.121 151.855 133.121 160.605 Q133.121 169.332 130.043 173.939 Q126.987 178.522 121.177 178.522 Q115.367 178.522 112.288 173.939 Q109.233 169.332 109.233 160.605 Q109.233 151.855 112.288 147.272 Q115.367 142.666 121.177 142.666 Z\" fill=\"#000000\" fill-rule=\"evenodd\" fill-opacity=\"1\" /><circle clip-path=\"url(#clip752)\" cx=\"230.922\" cy=\"674.774\" r=\"14.4\" fill=\"#009af9\" fill-rule=\"evenodd\" fill-opacity=\"1\" stroke=\"#000000\" stroke-opacity=\"1\" stroke-width=\"3.2\"/>\n",
       "<circle clip-path=\"url(#clip752)\" cx=\"333.924\" cy=\"750.563\" r=\"14.4\" fill=\"#009af9\" fill-rule=\"evenodd\" fill-opacity=\"1\" stroke=\"#000000\" stroke-opacity=\"1\" stroke-width=\"3.2\"/>\n",
       "<circle clip-path=\"url(#clip752)\" cx=\"436.926\" cy=\"779.932\" r=\"14.4\" fill=\"#009af9\" fill-rule=\"evenodd\" fill-opacity=\"1\" stroke=\"#000000\" stroke-opacity=\"1\" stroke-width=\"3.2\"/>\n",
       "<circle clip-path=\"url(#clip752)\" cx=\"539.927\" cy=\"1149.35\" r=\"14.4\" fill=\"#009af9\" fill-rule=\"evenodd\" fill-opacity=\"1\" stroke=\"#000000\" stroke-opacity=\"1\" stroke-width=\"3.2\"/>\n",
       "<circle clip-path=\"url(#clip752)\" cx=\"642.929\" cy=\"1203.1\" r=\"14.4\" fill=\"#009af9\" fill-rule=\"evenodd\" fill-opacity=\"1\" stroke=\"#000000\" stroke-opacity=\"1\" stroke-width=\"3.2\"/>\n",
       "<circle clip-path=\"url(#clip752)\" cx=\"745.93\" cy=\"1357.31\" r=\"14.4\" fill=\"#009af9\" fill-rule=\"evenodd\" fill-opacity=\"1\" stroke=\"#000000\" stroke-opacity=\"1\" stroke-width=\"3.2\"/>\n",
       "<circle clip-path=\"url(#clip752)\" cx=\"848.932\" cy=\"1206.65\" r=\"14.4\" fill=\"#009af9\" fill-rule=\"evenodd\" fill-opacity=\"1\" stroke=\"#000000\" stroke-opacity=\"1\" stroke-width=\"3.2\"/>\n",
       "<circle clip-path=\"url(#clip752)\" cx=\"951.934\" cy=\"1445.72\" r=\"14.4\" fill=\"#009af9\" fill-rule=\"evenodd\" fill-opacity=\"1\" stroke=\"#000000\" stroke-opacity=\"1\" stroke-width=\"3.2\"/>\n",
       "<circle clip-path=\"url(#clip752)\" cx=\"1054.94\" cy=\"1255.79\" r=\"14.4\" fill=\"#009af9\" fill-rule=\"evenodd\" fill-opacity=\"1\" stroke=\"#000000\" stroke-opacity=\"1\" stroke-width=\"3.2\"/>\n",
       "<circle clip-path=\"url(#clip752)\" cx=\"1157.94\" cy=\"1411.29\" r=\"14.4\" fill=\"#009af9\" fill-rule=\"evenodd\" fill-opacity=\"1\" stroke=\"#000000\" stroke-opacity=\"1\" stroke-width=\"3.2\"/>\n",
       "<circle clip-path=\"url(#clip752)\" cx=\"1260.94\" cy=\"1111.78\" r=\"14.4\" fill=\"#009af9\" fill-rule=\"evenodd\" fill-opacity=\"1\" stroke=\"#000000\" stroke-opacity=\"1\" stroke-width=\"3.2\"/>\n",
       "<circle clip-path=\"url(#clip752)\" cx=\"1363.94\" cy=\"1179.53\" r=\"14.4\" fill=\"#009af9\" fill-rule=\"evenodd\" fill-opacity=\"1\" stroke=\"#000000\" stroke-opacity=\"1\" stroke-width=\"3.2\"/>\n",
       "<circle clip-path=\"url(#clip752)\" cx=\"1466.94\" cy=\"1354.14\" r=\"14.4\" fill=\"#009af9\" fill-rule=\"evenodd\" fill-opacity=\"1\" stroke=\"#000000\" stroke-opacity=\"1\" stroke-width=\"3.2\"/>\n",
       "<circle clip-path=\"url(#clip752)\" cx=\"1569.94\" cy=\"1053.75\" r=\"14.4\" fill=\"#009af9\" fill-rule=\"evenodd\" fill-opacity=\"1\" stroke=\"#000000\" stroke-opacity=\"1\" stroke-width=\"3.2\"/>\n",
       "<circle clip-path=\"url(#clip752)\" cx=\"1672.95\" cy=\"939.898\" r=\"14.4\" fill=\"#009af9\" fill-rule=\"evenodd\" fill-opacity=\"1\" stroke=\"#000000\" stroke-opacity=\"1\" stroke-width=\"3.2\"/>\n",
       "<circle clip-path=\"url(#clip752)\" cx=\"1775.95\" cy=\"849.94\" r=\"14.4\" fill=\"#009af9\" fill-rule=\"evenodd\" fill-opacity=\"1\" stroke=\"#000000\" stroke-opacity=\"1\" stroke-width=\"3.2\"/>\n",
       "<circle clip-path=\"url(#clip752)\" cx=\"1878.95\" cy=\"858.689\" r=\"14.4\" fill=\"#009af9\" fill-rule=\"evenodd\" fill-opacity=\"1\" stroke=\"#000000\" stroke-opacity=\"1\" stroke-width=\"3.2\"/>\n",
       "<circle clip-path=\"url(#clip752)\" cx=\"1981.95\" cy=\"515.281\" r=\"14.4\" fill=\"#009af9\" fill-rule=\"evenodd\" fill-opacity=\"1\" stroke=\"#000000\" stroke-opacity=\"1\" stroke-width=\"3.2\"/>\n",
       "<circle clip-path=\"url(#clip752)\" cx=\"2084.95\" cy=\"517.396\" r=\"14.4\" fill=\"#009af9\" fill-rule=\"evenodd\" fill-opacity=\"1\" stroke=\"#000000\" stroke-opacity=\"1\" stroke-width=\"3.2\"/>\n",
       "<circle clip-path=\"url(#clip752)\" cx=\"2187.95\" cy=\"517.053\" r=\"14.4\" fill=\"#009af9\" fill-rule=\"evenodd\" fill-opacity=\"1\" stroke=\"#000000\" stroke-opacity=\"1\" stroke-width=\"3.2\"/>\n",
       "<circle clip-path=\"url(#clip752)\" cx=\"2290.95\" cy=\"114.328\" r=\"14.4\" fill=\"#009af9\" fill-rule=\"evenodd\" fill-opacity=\"1\" stroke=\"#000000\" stroke-opacity=\"1\" stroke-width=\"3.2\"/>\n",
       "<polyline clip-path=\"url(#clip752)\" style=\"stroke:#e26f46; stroke-linecap:round; stroke-linejoin:round; stroke-width:4; stroke-opacity:1; fill:none\" points=\"230.922,632.434 333.924,777.623 436.926,904.663 539.927,1013.55 642.929,1104.3 745.93,1176.89 848.932,1231.34 951.934,1267.64 1054.94,1285.78 1157.94,1285.78 1260.94,1267.64 1363.94,1231.34 1466.94,1176.89 1569.94,1104.3 1672.95,1013.55 1775.95,904.663 1878.95,777.623 1981.95,632.434 2084.95,469.097 2187.95,287.611 2290.95,87.9763 \"/>\n",
       "<polyline clip-path=\"url(#clip752)\" style=\"stroke:#3da44d; stroke-linecap:round; stroke-linejoin:round; stroke-width:4; stroke-opacity:1; fill:none\" points=\"230.922,682.562 333.924,821.899 436.926,943.681 539.927,1047.91 642.929,1134.58 745.93,1203.7 848.932,1255.26 951.934,1289.26 1054.94,1305.71 1157.94,1304.61 1260.94,1285.95 1363.94,1249.74 1466.94,1195.97 1569.94,1124.64 1672.95,1035.76 1775.95,929.33 1878.95,805.34 1981.95,663.796 2084.95,504.696 2187.95,328.041 2290.95,133.831 \"/>\n",
       "<path clip-path=\"url(#clip750)\" d=\"M241.909 302.578 L681.383 302.578 L681.383 95.2176 L241.909 95.2176  Z\" fill=\"#ffffff\" fill-rule=\"evenodd\" fill-opacity=\"1\"/>\n",
       "<polyline clip-path=\"url(#clip750)\" style=\"stroke:#000000; stroke-linecap:round; stroke-linejoin:round; stroke-width:4; stroke-opacity:1; fill:none\" points=\"241.909,302.578 681.383,302.578 681.383,95.2176 241.909,95.2176 241.909,302.578 \"/>\n",
       "<circle clip-path=\"url(#clip750)\" cx=\"338.96\" cy=\"147.058\" r=\"23.04\" fill=\"#009af9\" fill-rule=\"evenodd\" fill-opacity=\"1\" stroke=\"#000000\" stroke-opacity=\"1\" stroke-width=\"5.12\"/>\n",
       "<path clip-path=\"url(#clip750)\" d=\"M452.028 132.949 Q446.936 132.949 443.927 136.745 Q440.941 140.541 440.941 147.092 Q440.941 153.62 443.927 157.416 Q446.936 161.213 452.028 161.213 Q457.121 161.213 460.084 157.416 Q463.07 153.62 463.07 147.092 Q463.07 140.541 460.084 136.745 Q457.121 132.949 452.028 132.949 M452.028 129.153 Q459.297 129.153 463.649 134.037 Q468.001 138.898 468.001 147.092 Q468.001 155.264 463.649 160.148 Q459.297 165.009 452.028 165.009 Q444.737 165.009 440.362 160.148 Q436.01 155.287 436.01 147.092 Q436.01 138.898 440.362 134.037 Q444.737 129.153 452.028 129.153 Z\" fill=\"#000000\" fill-rule=\"evenodd\" fill-opacity=\"1\" /><path clip-path=\"url(#clip750)\" d=\"M493.741 151.398 Q493.741 146.699 491.797 144.037 Q489.875 141.352 486.496 141.352 Q483.116 141.352 481.172 144.037 Q479.25 146.699 479.25 151.398 Q479.25 156.097 481.172 158.782 Q483.116 161.444 486.496 161.444 Q489.875 161.444 491.797 158.782 Q493.741 156.097 493.741 151.398 M479.25 142.347 Q480.593 140.032 482.63 138.921 Q484.69 137.787 487.537 137.787 Q492.26 137.787 495.199 141.537 Q498.162 145.287 498.162 151.398 Q498.162 157.509 495.199 161.259 Q492.26 165.009 487.537 165.009 Q484.69 165.009 482.63 163.898 Q480.593 162.763 479.25 160.449 L479.25 164.338 L474.968 164.338 L474.968 128.319 L479.25 128.319 L479.25 142.347 Z\" fill=\"#000000\" fill-rule=\"evenodd\" fill-opacity=\"1\" /><path clip-path=\"url(#clip750)\" d=\"M521.75 139.176 L521.75 143.203 Q519.945 142.277 518 141.815 Q516.056 141.352 513.973 141.352 Q510.801 141.352 509.204 142.324 Q507.63 143.296 507.63 145.24 Q507.63 146.722 508.764 147.578 Q509.898 148.412 513.324 149.176 L514.783 149.5 Q519.32 150.472 521.218 152.254 Q523.139 154.014 523.139 157.185 Q523.139 160.796 520.269 162.902 Q517.422 165.009 512.422 165.009 Q510.338 165.009 508.07 164.592 Q505.824 164.199 503.324 163.388 L503.324 158.99 Q505.686 160.217 507.977 160.842 Q510.269 161.444 512.514 161.444 Q515.523 161.444 517.144 160.426 Q518.764 159.384 518.764 157.509 Q518.764 155.773 517.584 154.847 Q516.426 153.921 512.468 153.064 L510.986 152.717 Q507.028 151.884 505.269 150.171 Q503.51 148.435 503.51 145.426 Q503.51 141.768 506.102 139.778 Q508.695 137.787 513.463 137.787 Q515.824 137.787 517.908 138.134 Q519.991 138.481 521.75 139.176 Z\" fill=\"#000000\" fill-rule=\"evenodd\" fill-opacity=\"1\" /><path clip-path=\"url(#clip750)\" d=\"M552.097 150.31 L552.097 152.393 L532.514 152.393 Q532.792 156.791 535.153 159.106 Q537.537 161.398 541.773 161.398 Q544.227 161.398 546.519 160.796 Q548.833 160.194 551.102 158.99 L551.102 163.018 Q548.81 163.99 546.403 164.5 Q543.996 165.009 541.519 165.009 Q535.315 165.009 531.681 161.398 Q528.07 157.787 528.07 151.629 Q528.07 145.264 531.496 141.537 Q534.945 137.787 540.778 137.787 Q546.009 137.787 549.042 141.166 Q552.097 144.523 552.097 150.31 M547.838 149.06 Q547.792 145.565 545.871 143.481 Q543.972 141.398 540.824 141.398 Q537.259 141.398 535.107 143.412 Q532.977 145.426 532.653 149.083 L547.838 149.06 Z\" fill=\"#000000\" fill-rule=\"evenodd\" fill-opacity=\"1\" /><path clip-path=\"url(#clip750)\" d=\"M574.111 142.393 Q573.394 141.977 572.537 141.791 Q571.704 141.583 570.685 141.583 Q567.074 141.583 565.13 143.944 Q563.208 146.282 563.208 150.68 L563.208 164.338 L558.926 164.338 L558.926 138.412 L563.208 138.412 L563.208 142.44 Q564.551 140.078 566.704 138.944 Q568.856 137.787 571.935 137.787 Q572.375 137.787 572.907 137.856 Q573.44 137.903 574.088 138.018 L574.111 142.393 Z\" fill=\"#000000\" fill-rule=\"evenodd\" fill-opacity=\"1\" /><path clip-path=\"url(#clip750)\" d=\"M575.523 138.412 L580.037 138.412 L588.139 160.171 L596.241 138.412 L600.754 138.412 L591.032 164.338 L585.245 164.338 L575.523 138.412 Z\" fill=\"#000000\" fill-rule=\"evenodd\" fill-opacity=\"1\" /><path clip-path=\"url(#clip750)\" d=\"M628.81 150.31 L628.81 152.393 L609.227 152.393 Q609.504 156.791 611.866 159.106 Q614.25 161.398 618.486 161.398 Q620.94 161.398 623.231 160.796 Q625.546 160.194 627.815 158.99 L627.815 163.018 Q625.523 163.99 623.115 164.5 Q620.708 165.009 618.231 165.009 Q612.028 165.009 608.393 161.398 Q604.782 157.787 604.782 151.629 Q604.782 145.264 608.208 141.537 Q611.657 137.787 617.49 137.787 Q622.722 137.787 625.754 141.166 Q628.81 144.523 628.81 150.31 M624.551 149.06 Q624.504 145.565 622.583 143.481 Q620.685 141.398 617.537 141.398 Q613.972 141.398 611.819 143.412 Q609.69 145.426 609.366 149.083 L624.551 149.06 Z\" fill=\"#000000\" fill-rule=\"evenodd\" fill-opacity=\"1\" /><path clip-path=\"url(#clip750)\" d=\"M652.861 142.347 L652.861 128.319 L657.12 128.319 L657.12 164.338 L652.861 164.338 L652.861 160.449 Q651.518 162.763 649.458 163.898 Q647.421 165.009 644.551 165.009 Q639.851 165.009 636.889 161.259 Q633.949 157.509 633.949 151.398 Q633.949 145.287 636.889 141.537 Q639.851 137.787 644.551 137.787 Q647.421 137.787 649.458 138.921 Q651.518 140.032 652.861 142.347 M638.347 151.398 Q638.347 156.097 640.268 158.782 Q642.213 161.444 645.592 161.444 Q648.972 161.444 650.916 158.782 Q652.861 156.097 652.861 151.398 Q652.861 146.699 650.916 144.037 Q648.972 141.352 645.592 141.352 Q642.213 141.352 640.268 144.037 Q638.347 146.699 638.347 151.398 Z\" fill=\"#000000\" fill-rule=\"evenodd\" fill-opacity=\"1\" /><polyline clip-path=\"url(#clip750)\" style=\"stroke:#e26f46; stroke-linecap:round; stroke-linejoin:round; stroke-width:4; stroke-opacity:1; fill:none\" points=\"266.172,198.898 411.747,198.898 \"/>\n",
       "<path clip-path=\"url(#clip750)\" d=\"M436.01 181.618 L465.246 181.618 L465.246 185.553 L452.977 185.553 L452.977 216.178 L448.278 216.178 L448.278 185.553 L436.01 185.553 L436.01 181.618 Z\" fill=\"#000000\" fill-rule=\"evenodd\" fill-opacity=\"1\" /><path clip-path=\"url(#clip750)\" d=\"M477.63 194.233 Q476.913 193.817 476.056 193.631 Q475.223 193.423 474.204 193.423 Q470.593 193.423 468.649 195.784 Q466.727 198.122 466.727 202.52 L466.727 216.178 L462.445 216.178 L462.445 190.252 L466.727 190.252 L466.727 194.28 Q468.07 191.918 470.223 190.784 Q472.376 189.627 475.454 189.627 Q475.894 189.627 476.426 189.696 Q476.959 189.743 477.607 189.858 L477.63 194.233 Z\" fill=\"#000000\" fill-rule=\"evenodd\" fill-opacity=\"1\" /><path clip-path=\"url(#clip750)\" d=\"M481.658 205.946 L481.658 190.252 L485.917 190.252 L485.917 205.784 Q485.917 209.465 487.352 211.316 Q488.787 213.145 491.658 213.145 Q495.107 213.145 497.098 210.946 Q499.112 208.747 499.112 204.951 L499.112 190.252 L503.371 190.252 L503.371 216.178 L499.112 216.178 L499.112 212.196 Q497.561 214.557 495.5 215.715 Q493.463 216.849 490.755 216.849 Q486.287 216.849 483.973 214.071 Q481.658 211.293 481.658 205.946 M492.375 189.627 L492.375 189.627 Z\" fill=\"#000000\" fill-rule=\"evenodd\" fill-opacity=\"1\" /><path clip-path=\"url(#clip750)\" d=\"M534.32 202.15 L534.32 204.233 L514.736 204.233 Q515.014 208.631 517.375 210.946 Q519.76 213.238 523.996 213.238 Q526.449 213.238 528.741 212.636 Q531.056 212.034 533.324 210.83 L533.324 214.858 Q531.033 215.83 528.625 216.34 Q526.218 216.849 523.741 216.849 Q517.537 216.849 513.903 213.238 Q510.292 209.627 510.292 203.469 Q510.292 197.104 513.718 193.377 Q517.167 189.627 523 189.627 Q528.232 189.627 531.264 193.006 Q534.32 196.363 534.32 202.15 M530.06 200.9 Q530.014 197.405 528.093 195.321 Q526.195 193.238 523.047 193.238 Q519.482 193.238 517.329 195.252 Q515.199 197.266 514.875 200.923 L530.06 200.9 Z\" fill=\"#000000\" fill-rule=\"evenodd\" fill-opacity=\"1\" /><polyline clip-path=\"url(#clip750)\" style=\"stroke:#3da44d; stroke-linecap:round; stroke-linejoin:round; stroke-width:4; stroke-opacity:1; fill:none\" points=\"266.172,250.738 411.747,250.738 \"/>\n",
       "<path clip-path=\"url(#clip750)\" d=\"M436.01 233.458 L455.871 233.458 L455.871 237.393 L440.686 237.393 L440.686 247.578 L454.39 247.578 L454.39 251.513 L440.686 251.513 L440.686 268.018 L436.01 268.018 L436.01 233.458 Z\" fill=\"#000000\" fill-rule=\"evenodd\" fill-opacity=\"1\" /><path clip-path=\"url(#clip750)\" d=\"M459.644 242.092 L463.903 242.092 L463.903 268.018 L459.644 268.018 L459.644 242.092 M459.644 231.999 L463.903 231.999 L463.903 237.393 L459.644 237.393 L459.644 231.999 Z\" fill=\"#000000\" fill-rule=\"evenodd\" fill-opacity=\"1\" /><path clip-path=\"url(#clip750)\" d=\"M477.028 234.731 L477.028 242.092 L485.801 242.092 L485.801 245.402 L477.028 245.402 L477.028 259.476 Q477.028 262.647 477.885 263.55 Q478.764 264.453 481.426 264.453 L485.801 264.453 L485.801 268.018 L481.426 268.018 Q476.496 268.018 474.621 266.189 Q472.746 264.337 472.746 259.476 L472.746 245.402 L469.621 245.402 L469.621 242.092 L472.746 242.092 L472.746 234.731 L477.028 234.731 Z\" fill=\"#000000\" fill-rule=\"evenodd\" fill-opacity=\"1\" /><path clip-path=\"url(#clip750)\" d=\"M495.616 234.731 L495.616 242.092 L504.389 242.092 L504.389 245.402 L495.616 245.402 L495.616 259.476 Q495.616 262.647 496.473 263.55 Q497.352 264.453 500.014 264.453 L504.389 264.453 L504.389 268.018 L500.014 268.018 Q495.084 268.018 493.209 266.189 Q491.334 264.337 491.334 259.476 L491.334 245.402 L488.209 245.402 L488.209 242.092 L491.334 242.092 L491.334 234.731 L495.616 234.731 Z\" fill=\"#000000\" fill-rule=\"evenodd\" fill-opacity=\"1\" /><path clip-path=\"url(#clip750)\" d=\"M532.167 253.99 L532.167 256.073 L512.584 256.073 Q512.861 260.471 515.223 262.786 Q517.607 265.078 521.843 265.078 Q524.297 265.078 526.588 264.476 Q528.903 263.874 531.172 262.67 L531.172 266.698 Q528.88 267.67 526.472 268.18 Q524.065 268.689 521.588 268.689 Q515.385 268.689 511.75 265.078 Q508.139 261.467 508.139 255.309 Q508.139 248.944 511.565 245.217 Q515.014 241.467 520.847 241.467 Q526.079 241.467 529.111 244.846 Q532.167 248.203 532.167 253.99 M527.908 252.74 Q527.861 249.245 525.94 247.161 Q524.042 245.078 520.894 245.078 Q517.329 245.078 515.176 247.092 Q513.047 249.106 512.723 252.763 L527.908 252.74 Z\" fill=\"#000000\" fill-rule=\"evenodd\" fill-opacity=\"1\" /><path clip-path=\"url(#clip750)\" d=\"M556.218 246.027 L556.218 231.999 L560.477 231.999 L560.477 268.018 L556.218 268.018 L556.218 264.129 Q554.875 266.443 552.815 267.578 Q550.778 268.689 547.908 268.689 Q543.208 268.689 540.246 264.939 Q537.306 261.189 537.306 255.078 Q537.306 248.967 540.246 245.217 Q543.208 241.467 547.908 241.467 Q550.778 241.467 552.815 242.601 Q554.875 243.712 556.218 246.027 M541.704 255.078 Q541.704 259.777 543.625 262.462 Q545.57 265.124 548.949 265.124 Q552.329 265.124 554.273 262.462 Q556.218 259.777 556.218 255.078 Q556.218 250.379 554.273 247.717 Q552.329 245.032 548.949 245.032 Q545.57 245.032 543.625 247.717 Q541.704 250.379 541.704 255.078 Z\" fill=\"#000000\" fill-rule=\"evenodd\" fill-opacity=\"1\" /></svg>\n"
      ]
     },
     "execution_count": 82,
     "metadata": {},
     "output_type": "execute_result"
    }
   ],
   "source": [
    "using Polynomials\n",
    "\n",
    "line_fit =fit(x,y_observed,2)\n",
    "fit_coeffs = coeffs(line_fit)\n",
    "y_fitted = fit_coeffs[1] .+ fit_coeffs[2] .*x .+ fit_coeffs[3] .*x .^2 \n",
    "\n",
    "using Plots\n",
    "\n",
    "scatter(x,y_observed,label = \"Observed\")\n",
    "plot!(x,y_true,label = \"True\" )\n",
    "plot!(x,y_fitted,label = \"Fitted\")"
   ]
  },
  {
   "cell_type": "markdown",
   "id": "b3b5a343",
   "metadata": {},
   "source": [
    "### 2.4\n",
    "\n",
    "1. Repeat 2.2 and 2.3 with a noise with a standard deviation of 50"
   ]
  },
  {
   "cell_type": "code",
   "execution_count": 87,
   "id": "88845188",
   "metadata": {},
   "outputs": [
    {
     "data": {
      "image/svg+xml": [
       "<?xml version=\"1.0\" encoding=\"utf-8\"?>\n",
       "<svg xmlns=\"http://www.w3.org/2000/svg\" xmlns:xlink=\"http://www.w3.org/1999/xlink\" width=\"600\" height=\"400\" viewBox=\"0 0 2400 1600\">\n",
       "<defs>\n",
       "  <clipPath id=\"clip950\">\n",
       "    <rect x=\"0\" y=\"0\" width=\"2400\" height=\"1600\"/>\n",
       "  </clipPath>\n",
       "</defs>\n",
       "<path clip-path=\"url(#clip950)\" d=\"M0 1600 L2400 1600 L2400 0 L0 0  Z\" fill=\"#ffffff\" fill-rule=\"evenodd\" fill-opacity=\"1\"/>\n",
       "<defs>\n",
       "  <clipPath id=\"clip951\">\n",
       "    <rect x=\"480\" y=\"0\" width=\"1681\" height=\"1600\"/>\n",
       "  </clipPath>\n",
       "</defs>\n",
       "<path clip-path=\"url(#clip950)\" d=\"M178.867 1486.45 L2352.76 1486.45 L2352.76 47.2441 L178.867 47.2441  Z\" fill=\"#ffffff\" fill-rule=\"evenodd\" fill-opacity=\"1\"/>\n",
       "<defs>\n",
       "  <clipPath id=\"clip952\">\n",
       "    <rect x=\"178\" y=\"47\" width=\"2175\" height=\"1440\"/>\n",
       "  </clipPath>\n",
       "</defs>\n",
       "<polyline clip-path=\"url(#clip952)\" style=\"stroke:#000000; stroke-linecap:round; stroke-linejoin:round; stroke-width:2; stroke-opacity:0.1; fill:none\" points=\"240.392,1486.45 240.392,47.2441 \"/>\n",
       "<polyline clip-path=\"url(#clip952)\" style=\"stroke:#000000; stroke-linecap:round; stroke-linejoin:round; stroke-width:2; stroke-opacity:0.1; fill:none\" points=\"753.102,1486.45 753.102,47.2441 \"/>\n",
       "<polyline clip-path=\"url(#clip952)\" style=\"stroke:#000000; stroke-linecap:round; stroke-linejoin:round; stroke-width:2; stroke-opacity:0.1; fill:none\" points=\"1265.81,1486.45 1265.81,47.2441 \"/>\n",
       "<polyline clip-path=\"url(#clip952)\" style=\"stroke:#000000; stroke-linecap:round; stroke-linejoin:round; stroke-width:2; stroke-opacity:0.1; fill:none\" points=\"1778.52,1486.45 1778.52,47.2441 \"/>\n",
       "<polyline clip-path=\"url(#clip952)\" style=\"stroke:#000000; stroke-linecap:round; stroke-linejoin:round; stroke-width:2; stroke-opacity:0.1; fill:none\" points=\"2291.23,1486.45 2291.23,47.2441 \"/>\n",
       "<polyline clip-path=\"url(#clip950)\" style=\"stroke:#000000; stroke-linecap:round; stroke-linejoin:round; stroke-width:4; stroke-opacity:1; fill:none\" points=\"178.867,1486.45 2352.76,1486.45 \"/>\n",
       "<polyline clip-path=\"url(#clip950)\" style=\"stroke:#000000; stroke-linecap:round; stroke-linejoin:round; stroke-width:4; stroke-opacity:1; fill:none\" points=\"240.392,1486.45 240.392,1467.55 \"/>\n",
       "<polyline clip-path=\"url(#clip950)\" style=\"stroke:#000000; stroke-linecap:round; stroke-linejoin:round; stroke-width:4; stroke-opacity:1; fill:none\" points=\"753.102,1486.45 753.102,1467.55 \"/>\n",
       "<polyline clip-path=\"url(#clip950)\" style=\"stroke:#000000; stroke-linecap:round; stroke-linejoin:round; stroke-width:4; stroke-opacity:1; fill:none\" points=\"1265.81,1486.45 1265.81,1467.55 \"/>\n",
       "<polyline clip-path=\"url(#clip950)\" style=\"stroke:#000000; stroke-linecap:round; stroke-linejoin:round; stroke-width:4; stroke-opacity:1; fill:none\" points=\"1778.52,1486.45 1778.52,1467.55 \"/>\n",
       "<polyline clip-path=\"url(#clip950)\" style=\"stroke:#000000; stroke-linecap:round; stroke-linejoin:round; stroke-width:4; stroke-opacity:1; fill:none\" points=\"2291.23,1486.45 2291.23,1467.55 \"/>\n",
       "<path clip-path=\"url(#clip950)\" d=\"M194.455 1532.02 L224.13 1532.02 L224.13 1535.95 L194.455 1535.95 L194.455 1532.02 Z\" fill=\"#000000\" fill-rule=\"evenodd\" fill-opacity=\"1\" /><path clip-path=\"url(#clip950)\" d=\"M235.033 1544.91 L242.672 1544.91 L242.672 1518.55 L234.362 1520.21 L234.362 1515.95 L242.626 1514.29 L247.301 1514.29 L247.301 1544.91 L254.94 1544.91 L254.94 1548.85 L235.033 1548.85 L235.033 1544.91 Z\" fill=\"#000000\" fill-rule=\"evenodd\" fill-opacity=\"1\" /><path clip-path=\"url(#clip950)\" d=\"M274.385 1517.37 Q270.774 1517.37 268.945 1520.93 Q267.139 1524.47 267.139 1531.6 Q267.139 1538.71 268.945 1542.27 Q270.774 1545.82 274.385 1545.82 Q278.019 1545.82 279.824 1542.27 Q281.653 1538.71 281.653 1531.6 Q281.653 1524.47 279.824 1520.93 Q278.019 1517.37 274.385 1517.37 M274.385 1513.66 Q280.195 1513.66 283.25 1518.27 Q286.329 1522.85 286.329 1531.6 Q286.329 1540.33 283.25 1544.94 Q280.195 1549.52 274.385 1549.52 Q268.575 1549.52 265.496 1544.94 Q262.44 1540.33 262.44 1531.6 Q262.44 1522.85 265.496 1518.27 Q268.575 1513.66 274.385 1513.66 Z\" fill=\"#000000\" fill-rule=\"evenodd\" fill-opacity=\"1\" /><path clip-path=\"url(#clip950)\" d=\"M722.743 1532.02 L752.419 1532.02 L752.419 1535.95 L722.743 1535.95 L722.743 1532.02 Z\" fill=\"#000000\" fill-rule=\"evenodd\" fill-opacity=\"1\" /><path clip-path=\"url(#clip950)\" d=\"M762.558 1514.29 L780.914 1514.29 L780.914 1518.22 L766.84 1518.22 L766.84 1526.7 Q767.858 1526.35 768.877 1526.19 Q769.895 1526 770.914 1526 Q776.701 1526 780.081 1529.17 Q783.46 1532.34 783.46 1537.76 Q783.46 1543.34 779.988 1546.44 Q776.516 1549.52 770.196 1549.52 Q768.02 1549.52 765.752 1549.15 Q763.507 1548.78 761.099 1548.04 L761.099 1543.34 Q763.183 1544.47 765.405 1545.03 Q767.627 1545.58 770.104 1545.58 Q774.108 1545.58 776.446 1543.48 Q778.784 1541.37 778.784 1537.76 Q778.784 1534.15 776.446 1532.04 Q774.108 1529.94 770.104 1529.94 Q768.229 1529.94 766.354 1530.35 Q764.502 1530.77 762.558 1531.65 L762.558 1514.29 Z\" fill=\"#000000\" fill-rule=\"evenodd\" fill-opacity=\"1\" /><path clip-path=\"url(#clip950)\" d=\"M1265.81 1517.37 Q1262.2 1517.37 1260.37 1520.93 Q1258.57 1524.47 1258.57 1531.6 Q1258.57 1538.71 1260.37 1542.27 Q1262.2 1545.82 1265.81 1545.82 Q1269.45 1545.82 1271.25 1542.27 Q1273.08 1538.71 1273.08 1531.6 Q1273.08 1524.47 1271.25 1520.93 Q1269.45 1517.37 1265.81 1517.37 M1265.81 1513.66 Q1271.62 1513.66 1274.68 1518.27 Q1277.76 1522.85 1277.76 1531.6 Q1277.76 1540.33 1274.68 1544.94 Q1271.62 1549.52 1265.81 1549.52 Q1260 1549.52 1256.92 1544.94 Q1253.87 1540.33 1253.87 1531.6 Q1253.87 1522.85 1256.92 1518.27 Q1260 1513.66 1265.81 1513.66 Z\" fill=\"#000000\" fill-rule=\"evenodd\" fill-opacity=\"1\" /><path clip-path=\"url(#clip950)\" d=\"M1768.8 1514.29 L1787.16 1514.29 L1787.16 1518.22 L1773.08 1518.22 L1773.08 1526.7 Q1774.1 1526.35 1775.12 1526.19 Q1776.14 1526 1777.16 1526 Q1782.94 1526 1786.32 1529.17 Q1789.7 1532.34 1789.7 1537.76 Q1789.7 1543.34 1786.23 1546.44 Q1782.76 1549.52 1776.44 1549.52 Q1774.26 1549.52 1771.99 1549.15 Q1769.75 1548.78 1767.34 1548.04 L1767.34 1543.34 Q1769.42 1544.47 1771.65 1545.03 Q1773.87 1545.58 1776.35 1545.58 Q1780.35 1545.58 1782.69 1543.48 Q1785.03 1541.37 1785.03 1537.76 Q1785.03 1534.15 1782.69 1532.04 Q1780.35 1529.94 1776.35 1529.94 Q1774.47 1529.94 1772.6 1530.35 Q1770.74 1530.77 1768.8 1531.65 L1768.8 1514.29 Z\" fill=\"#000000\" fill-rule=\"evenodd\" fill-opacity=\"1\" /><path clip-path=\"url(#clip950)\" d=\"M2265.92 1544.91 L2273.56 1544.91 L2273.56 1518.55 L2265.25 1520.21 L2265.25 1515.95 L2273.51 1514.29 L2278.19 1514.29 L2278.19 1544.91 L2285.83 1544.91 L2285.83 1548.85 L2265.92 1548.85 L2265.92 1544.91 Z\" fill=\"#000000\" fill-rule=\"evenodd\" fill-opacity=\"1\" /><path clip-path=\"url(#clip950)\" d=\"M2305.27 1517.37 Q2301.66 1517.37 2299.83 1520.93 Q2298.02 1524.47 2298.02 1531.6 Q2298.02 1538.71 2299.83 1542.27 Q2301.66 1545.82 2305.27 1545.82 Q2308.9 1545.82 2310.71 1542.27 Q2312.54 1538.71 2312.54 1531.6 Q2312.54 1524.47 2310.71 1520.93 Q2308.9 1517.37 2305.27 1517.37 M2305.27 1513.66 Q2311.08 1513.66 2314.14 1518.27 Q2317.21 1522.85 2317.21 1531.6 Q2317.21 1540.33 2314.14 1544.94 Q2311.08 1549.52 2305.27 1549.52 Q2299.46 1549.52 2296.38 1544.94 Q2293.33 1540.33 2293.33 1531.6 Q2293.33 1522.85 2296.38 1518.27 Q2299.46 1513.66 2305.27 1513.66 Z\" fill=\"#000000\" fill-rule=\"evenodd\" fill-opacity=\"1\" /><polyline clip-path=\"url(#clip952)\" style=\"stroke:#000000; stroke-linecap:round; stroke-linejoin:round; stroke-width:2; stroke-opacity:0.1; fill:none\" points=\"178.867,1372.32 2352.76,1372.32 \"/>\n",
       "<polyline clip-path=\"url(#clip952)\" style=\"stroke:#000000; stroke-linecap:round; stroke-linejoin:round; stroke-width:2; stroke-opacity:0.1; fill:none\" points=\"178.867,1062.97 2352.76,1062.97 \"/>\n",
       "<polyline clip-path=\"url(#clip952)\" style=\"stroke:#000000; stroke-linecap:round; stroke-linejoin:round; stroke-width:2; stroke-opacity:0.1; fill:none\" points=\"178.867,753.609 2352.76,753.609 \"/>\n",
       "<polyline clip-path=\"url(#clip952)\" style=\"stroke:#000000; stroke-linecap:round; stroke-linejoin:round; stroke-width:2; stroke-opacity:0.1; fill:none\" points=\"178.867,444.251 2352.76,444.251 \"/>\n",
       "<polyline clip-path=\"url(#clip952)\" style=\"stroke:#000000; stroke-linecap:round; stroke-linejoin:round; stroke-width:2; stroke-opacity:0.1; fill:none\" points=\"178.867,134.894 2352.76,134.894 \"/>\n",
       "<polyline clip-path=\"url(#clip950)\" style=\"stroke:#000000; stroke-linecap:round; stroke-linejoin:round; stroke-width:4; stroke-opacity:1; fill:none\" points=\"178.867,1486.45 178.867,47.2441 \"/>\n",
       "<polyline clip-path=\"url(#clip950)\" style=\"stroke:#000000; stroke-linecap:round; stroke-linejoin:round; stroke-width:4; stroke-opacity:1; fill:none\" points=\"178.867,1372.32 197.764,1372.32 \"/>\n",
       "<polyline clip-path=\"url(#clip950)\" style=\"stroke:#000000; stroke-linecap:round; stroke-linejoin:round; stroke-width:4; stroke-opacity:1; fill:none\" points=\"178.867,1062.97 197.764,1062.97 \"/>\n",
       "<polyline clip-path=\"url(#clip950)\" style=\"stroke:#000000; stroke-linecap:round; stroke-linejoin:round; stroke-width:4; stroke-opacity:1; fill:none\" points=\"178.867,753.609 197.764,753.609 \"/>\n",
       "<polyline clip-path=\"url(#clip950)\" style=\"stroke:#000000; stroke-linecap:round; stroke-linejoin:round; stroke-width:4; stroke-opacity:1; fill:none\" points=\"178.867,444.251 197.764,444.251 \"/>\n",
       "<polyline clip-path=\"url(#clip950)\" style=\"stroke:#000000; stroke-linecap:round; stroke-linejoin:round; stroke-width:4; stroke-opacity:1; fill:none\" points=\"178.867,134.894 197.764,134.894 \"/>\n",
       "<path clip-path=\"url(#clip950)\" d=\"M50.9921 1372.78 L80.6679 1372.78 L80.6679 1376.71 L50.9921 1376.71 L50.9921 1372.78 Z\" fill=\"#000000\" fill-rule=\"evenodd\" fill-opacity=\"1\" /><path clip-path=\"url(#clip950)\" d=\"M90.8067 1355.04 L109.163 1355.04 L109.163 1358.98 L95.0891 1358.98 L95.0891 1367.45 Q96.1076 1367.1 97.1261 1366.94 Q98.1447 1366.76 99.1632 1366.76 Q104.95 1366.76 108.33 1369.93 Q111.709 1373.1 111.709 1378.52 Q111.709 1384.09 108.237 1387.2 Q104.765 1390.28 98.4456 1390.28 Q96.2697 1390.28 94.0012 1389.9 Q91.7558 1389.53 89.3484 1388.79 L89.3484 1384.09 Q91.4317 1385.23 93.6539 1385.78 Q95.8761 1386.34 98.353 1386.34 Q102.358 1386.34 104.696 1384.23 Q107.033 1382.13 107.033 1378.52 Q107.033 1374.9 104.696 1372.8 Q102.358 1370.69 98.353 1370.69 Q96.478 1370.69 94.603 1371.11 Q92.7512 1371.53 90.8067 1372.4 L90.8067 1355.04 Z\" fill=\"#000000\" fill-rule=\"evenodd\" fill-opacity=\"1\" /><path clip-path=\"url(#clip950)\" d=\"M130.922 1358.12 Q127.311 1358.12 125.482 1361.69 Q123.677 1365.23 123.677 1372.36 Q123.677 1379.46 125.482 1383.03 Q127.311 1386.57 130.922 1386.57 Q134.556 1386.57 136.362 1383.03 Q138.191 1379.46 138.191 1372.36 Q138.191 1365.23 136.362 1361.69 Q134.556 1358.12 130.922 1358.12 M130.922 1354.42 Q136.732 1354.42 139.788 1359.03 Q142.867 1363.61 142.867 1372.36 Q142.867 1381.09 139.788 1385.69 Q136.732 1390.28 130.922 1390.28 Q125.112 1390.28 122.033 1385.69 Q118.978 1381.09 118.978 1372.36 Q118.978 1363.61 122.033 1359.03 Q125.112 1354.42 130.922 1354.42 Z\" fill=\"#000000\" fill-rule=\"evenodd\" fill-opacity=\"1\" /><path clip-path=\"url(#clip950)\" d=\"M130.922 1048.76 Q127.311 1048.76 125.482 1052.33 Q123.677 1055.87 123.677 1063 Q123.677 1070.11 125.482 1073.67 Q127.311 1077.21 130.922 1077.21 Q134.556 1077.21 136.362 1073.67 Q138.191 1070.11 138.191 1063 Q138.191 1055.87 136.362 1052.33 Q134.556 1048.76 130.922 1048.76 M130.922 1045.06 Q136.732 1045.06 139.788 1049.67 Q142.867 1054.25 142.867 1063 Q142.867 1071.73 139.788 1076.33 Q136.732 1080.92 130.922 1080.92 Q125.112 1080.92 122.033 1076.33 Q118.978 1071.73 118.978 1063 Q118.978 1054.25 122.033 1049.67 Q125.112 1045.06 130.922 1045.06 Z\" fill=\"#000000\" fill-rule=\"evenodd\" fill-opacity=\"1\" /><path clip-path=\"url(#clip950)\" d=\"M90.8067 736.329 L109.163 736.329 L109.163 740.264 L95.0891 740.264 L95.0891 748.736 Q96.1076 748.389 97.1261 748.227 Q98.1447 748.042 99.1632 748.042 Q104.95 748.042 108.33 751.213 Q111.709 754.384 111.709 759.801 Q111.709 765.379 108.237 768.481 Q104.765 771.56 98.4456 771.56 Q96.2697 771.56 94.0012 771.19 Q91.7558 770.819 89.3484 770.078 L89.3484 765.379 Q91.4317 766.514 93.6539 767.069 Q95.8761 767.625 98.353 767.625 Q102.358 767.625 104.696 765.518 Q107.033 763.412 107.033 759.801 Q107.033 756.19 104.696 754.083 Q102.358 751.977 98.353 751.977 Q96.478 751.977 94.603 752.393 Q92.7512 752.81 90.8067 753.69 L90.8067 736.329 Z\" fill=\"#000000\" fill-rule=\"evenodd\" fill-opacity=\"1\" /><path clip-path=\"url(#clip950)\" d=\"M130.922 739.407 Q127.311 739.407 125.482 742.972 Q123.677 746.514 123.677 753.643 Q123.677 760.75 125.482 764.315 Q127.311 767.856 130.922 767.856 Q134.556 767.856 136.362 764.315 Q138.191 760.75 138.191 753.643 Q138.191 746.514 136.362 742.972 Q134.556 739.407 130.922 739.407 M130.922 735.704 Q136.732 735.704 139.788 740.31 Q142.867 744.893 142.867 753.643 Q142.867 762.37 139.788 766.977 Q136.732 771.56 130.922 771.56 Q125.112 771.56 122.033 766.977 Q118.978 762.37 118.978 753.643 Q118.978 744.893 122.033 740.31 Q125.112 735.704 130.922 735.704 Z\" fill=\"#000000\" fill-rule=\"evenodd\" fill-opacity=\"1\" /><path clip-path=\"url(#clip950)\" d=\"M61.4087 457.596 L69.0476 457.596 L69.0476 431.23 L60.7374 432.897 L60.7374 428.638 L69.0013 426.971 L73.6772 426.971 L73.6772 457.596 L81.316 457.596 L81.316 461.531 L61.4087 461.531 L61.4087 457.596 Z\" fill=\"#000000\" fill-rule=\"evenodd\" fill-opacity=\"1\" /><path clip-path=\"url(#clip950)\" d=\"M100.76 430.05 Q97.1493 430.05 95.3206 433.615 Q93.515 437.156 93.515 444.286 Q93.515 451.392 95.3206 454.957 Q97.1493 458.499 100.76 458.499 Q104.395 458.499 106.2 454.957 Q108.029 451.392 108.029 444.286 Q108.029 437.156 106.2 433.615 Q104.395 430.05 100.76 430.05 M100.76 426.346 Q106.571 426.346 109.626 430.953 Q112.705 435.536 112.705 444.286 Q112.705 453.013 109.626 457.619 Q106.571 462.202 100.76 462.202 Q94.9502 462.202 91.8715 457.619 Q88.816 453.013 88.816 444.286 Q88.816 435.536 91.8715 430.953 Q94.9502 426.346 100.76 426.346 Z\" fill=\"#000000\" fill-rule=\"evenodd\" fill-opacity=\"1\" /><path clip-path=\"url(#clip950)\" d=\"M130.922 430.05 Q127.311 430.05 125.482 433.615 Q123.677 437.156 123.677 444.286 Q123.677 451.392 125.482 454.957 Q127.311 458.499 130.922 458.499 Q134.556 458.499 136.362 454.957 Q138.191 451.392 138.191 444.286 Q138.191 437.156 136.362 433.615 Q134.556 430.05 130.922 430.05 M130.922 426.346 Q136.732 426.346 139.788 430.953 Q142.867 435.536 142.867 444.286 Q142.867 453.013 139.788 457.619 Q136.732 462.202 130.922 462.202 Q125.112 462.202 122.033 457.619 Q118.978 453.013 118.978 444.286 Q118.978 435.536 122.033 430.953 Q125.112 426.346 130.922 426.346 Z\" fill=\"#000000\" fill-rule=\"evenodd\" fill-opacity=\"1\" /><path clip-path=\"url(#clip950)\" d=\"M61.4087 148.238 L69.0476 148.238 L69.0476 121.873 L60.7374 123.539 L60.7374 119.28 L69.0013 117.614 L73.6772 117.614 L73.6772 148.238 L81.316 148.238 L81.316 152.174 L61.4087 152.174 L61.4087 148.238 Z\" fill=\"#000000\" fill-rule=\"evenodd\" fill-opacity=\"1\" /><path clip-path=\"url(#clip950)\" d=\"M90.8067 117.614 L109.163 117.614 L109.163 121.549 L95.0891 121.549 L95.0891 130.021 Q96.1076 129.674 97.1261 129.512 Q98.1447 129.326 99.1632 129.326 Q104.95 129.326 108.33 132.498 Q111.709 135.669 111.709 141.086 Q111.709 146.664 108.237 149.766 Q104.765 152.845 98.4456 152.845 Q96.2697 152.845 94.0012 152.474 Q91.7558 152.104 89.3484 151.363 L89.3484 146.664 Q91.4317 147.799 93.6539 148.354 Q95.8761 148.91 98.353 148.91 Q102.358 148.91 104.696 146.803 Q107.033 144.697 107.033 141.086 Q107.033 137.475 104.696 135.368 Q102.358 133.262 98.353 133.262 Q96.478 133.262 94.603 133.678 Q92.7512 134.095 90.8067 134.975 L90.8067 117.614 Z\" fill=\"#000000\" fill-rule=\"evenodd\" fill-opacity=\"1\" /><path clip-path=\"url(#clip950)\" d=\"M130.922 120.692 Q127.311 120.692 125.482 124.257 Q123.677 127.799 123.677 134.928 Q123.677 142.035 125.482 145.599 Q127.311 149.141 130.922 149.141 Q134.556 149.141 136.362 145.599 Q138.191 142.035 138.191 134.928 Q138.191 127.799 136.362 124.257 Q134.556 120.692 130.922 120.692 M130.922 116.989 Q136.732 116.989 139.788 121.595 Q142.867 126.178 142.867 134.928 Q142.867 143.655 139.788 148.261 Q136.732 152.845 130.922 152.845 Q125.112 152.845 122.033 148.261 Q118.978 143.655 118.978 134.928 Q118.978 126.178 122.033 121.595 Q125.112 116.989 130.922 116.989 Z\" fill=\"#000000\" fill-rule=\"evenodd\" fill-opacity=\"1\" /><circle clip-path=\"url(#clip952)\" cx=\"240.392\" cy=\"87.9763\" r=\"14.4\" fill=\"#009af9\" fill-rule=\"evenodd\" fill-opacity=\"1\" stroke=\"#000000\" stroke-opacity=\"1\" stroke-width=\"3.2\"/>\n",
       "<circle clip-path=\"url(#clip952)\" cx=\"342.934\" cy=\"898.109\" r=\"14.4\" fill=\"#009af9\" fill-rule=\"evenodd\" fill-opacity=\"1\" stroke=\"#000000\" stroke-opacity=\"1\" stroke-width=\"3.2\"/>\n",
       "<circle clip-path=\"url(#clip952)\" cx=\"445.476\" cy=\"1042.15\" r=\"14.4\" fill=\"#009af9\" fill-rule=\"evenodd\" fill-opacity=\"1\" stroke=\"#000000\" stroke-opacity=\"1\" stroke-width=\"3.2\"/>\n",
       "<circle clip-path=\"url(#clip952)\" cx=\"548.018\" cy=\"958.63\" r=\"14.4\" fill=\"#009af9\" fill-rule=\"evenodd\" fill-opacity=\"1\" stroke=\"#000000\" stroke-opacity=\"1\" stroke-width=\"3.2\"/>\n",
       "<circle clip-path=\"url(#clip952)\" cx=\"650.56\" cy=\"984.297\" r=\"14.4\" fill=\"#009af9\" fill-rule=\"evenodd\" fill-opacity=\"1\" stroke=\"#000000\" stroke-opacity=\"1\" stroke-width=\"3.2\"/>\n",
       "<circle clip-path=\"url(#clip952)\" cx=\"753.102\" cy=\"1327.89\" r=\"14.4\" fill=\"#009af9\" fill-rule=\"evenodd\" fill-opacity=\"1\" stroke=\"#000000\" stroke-opacity=\"1\" stroke-width=\"3.2\"/>\n",
       "<circle clip-path=\"url(#clip952)\" cx=\"855.643\" cy=\"991.779\" r=\"14.4\" fill=\"#009af9\" fill-rule=\"evenodd\" fill-opacity=\"1\" stroke=\"#000000\" stroke-opacity=\"1\" stroke-width=\"3.2\"/>\n",
       "<circle clip-path=\"url(#clip952)\" cx=\"958.185\" cy=\"1445.72\" r=\"14.4\" fill=\"#009af9\" fill-rule=\"evenodd\" fill-opacity=\"1\" stroke=\"#000000\" stroke-opacity=\"1\" stroke-width=\"3.2\"/>\n",
       "<circle clip-path=\"url(#clip952)\" cx=\"1060.73\" cy=\"1370.17\" r=\"14.4\" fill=\"#009af9\" fill-rule=\"evenodd\" fill-opacity=\"1\" stroke=\"#000000\" stroke-opacity=\"1\" stroke-width=\"3.2\"/>\n",
       "<circle clip-path=\"url(#clip952)\" cx=\"1163.27\" cy=\"104.905\" r=\"14.4\" fill=\"#009af9\" fill-rule=\"evenodd\" fill-opacity=\"1\" stroke=\"#000000\" stroke-opacity=\"1\" stroke-width=\"3.2\"/>\n",
       "<circle clip-path=\"url(#clip952)\" cx=\"1265.81\" cy=\"715.181\" r=\"14.4\" fill=\"#009af9\" fill-rule=\"evenodd\" fill-opacity=\"1\" stroke=\"#000000\" stroke-opacity=\"1\" stroke-width=\"3.2\"/>\n",
       "<circle clip-path=\"url(#clip952)\" cx=\"1368.35\" cy=\"521.42\" r=\"14.4\" fill=\"#009af9\" fill-rule=\"evenodd\" fill-opacity=\"1\" stroke=\"#000000\" stroke-opacity=\"1\" stroke-width=\"3.2\"/>\n",
       "<circle clip-path=\"url(#clip952)\" cx=\"1470.9\" cy=\"939.474\" r=\"14.4\" fill=\"#009af9\" fill-rule=\"evenodd\" fill-opacity=\"1\" stroke=\"#000000\" stroke-opacity=\"1\" stroke-width=\"3.2\"/>\n",
       "<circle clip-path=\"url(#clip952)\" cx=\"1573.44\" cy=\"1152.57\" r=\"14.4\" fill=\"#009af9\" fill-rule=\"evenodd\" fill-opacity=\"1\" stroke=\"#000000\" stroke-opacity=\"1\" stroke-width=\"3.2\"/>\n",
       "<circle clip-path=\"url(#clip952)\" cx=\"1675.98\" cy=\"577.959\" r=\"14.4\" fill=\"#009af9\" fill-rule=\"evenodd\" fill-opacity=\"1\" stroke=\"#000000\" stroke-opacity=\"1\" stroke-width=\"3.2\"/>\n",
       "<circle clip-path=\"url(#clip952)\" cx=\"1778.52\" cy=\"886.787\" r=\"14.4\" fill=\"#009af9\" fill-rule=\"evenodd\" fill-opacity=\"1\" stroke=\"#000000\" stroke-opacity=\"1\" stroke-width=\"3.2\"/>\n",
       "<circle clip-path=\"url(#clip952)\" cx=\"1881.06\" cy=\"306.136\" r=\"14.4\" fill=\"#009af9\" fill-rule=\"evenodd\" fill-opacity=\"1\" stroke=\"#000000\" stroke-opacity=\"1\" stroke-width=\"3.2\"/>\n",
       "<circle clip-path=\"url(#clip952)\" cx=\"1983.6\" cy=\"228.446\" r=\"14.4\" fill=\"#009af9\" fill-rule=\"evenodd\" fill-opacity=\"1\" stroke=\"#000000\" stroke-opacity=\"1\" stroke-width=\"3.2\"/>\n",
       "<circle clip-path=\"url(#clip952)\" cx=\"2086.15\" cy=\"522.124\" r=\"14.4\" fill=\"#009af9\" fill-rule=\"evenodd\" fill-opacity=\"1\" stroke=\"#000000\" stroke-opacity=\"1\" stroke-width=\"3.2\"/>\n",
       "<circle clip-path=\"url(#clip952)\" cx=\"2188.69\" cy=\"741.912\" r=\"14.4\" fill=\"#009af9\" fill-rule=\"evenodd\" fill-opacity=\"1\" stroke=\"#000000\" stroke-opacity=\"1\" stroke-width=\"3.2\"/>\n",
       "<circle clip-path=\"url(#clip952)\" cx=\"2291.23\" cy=\"405.027\" r=\"14.4\" fill=\"#009af9\" fill-rule=\"evenodd\" fill-opacity=\"1\" stroke=\"#000000\" stroke-opacity=\"1\" stroke-width=\"3.2\"/>\n",
       "<polyline clip-path=\"url(#clip952)\" style=\"stroke:#e26f46; stroke-linecap:round; stroke-linejoin:round; stroke-width:4; stroke-opacity:1; fill:none\" points=\"240.392,642.24 342.934,741.234 445.476,827.854 548.018,902.1 650.56,963.972 753.102,1013.47 855.643,1050.59 958.185,1075.34 1060.73,1087.71 1163.27,1087.71 1265.81,1075.34 1368.35,1050.59 1470.9,1013.47 1573.44,963.972 1675.98,902.1 1778.52,827.854 1881.06,741.234 1983.6,642.24 2086.15,530.871 2188.69,407.128 2291.23,271.011 \"/>\n",
       "<polyline clip-path=\"url(#clip952)\" style=\"stroke:#3da44d; stroke-linecap:round; stroke-linejoin:round; stroke-width:4; stroke-opacity:1; fill:none\" points=\"240.392,724.953 342.934,782.554 445.476,831.801 548.018,872.692 650.56,905.23 753.102,929.412 855.643,945.241 958.185,952.714 1060.73,951.833 1163.27,942.598 1265.81,925.008 1368.35,899.063 1470.9,864.764 1573.44,822.11 1675.98,771.102 1778.52,711.739 1881.06,644.022 1983.6,567.95 2086.15,483.523 2188.69,390.742 2291.23,289.607 \"/>\n",
       "<path clip-path=\"url(#clip950)\" d=\"M1841.79 1438.47 L2280.29 1438.47 L2280.29 1231.11 L1841.79 1231.11  Z\" fill=\"#ffffff\" fill-rule=\"evenodd\" fill-opacity=\"1\"/>\n",
       "<polyline clip-path=\"url(#clip950)\" style=\"stroke:#000000; stroke-linecap:round; stroke-linejoin:round; stroke-width:4; stroke-opacity:1; fill:none\" points=\"1841.79,1438.47 2280.29,1438.47 2280.29,1231.11 1841.79,1231.11 1841.79,1438.47 \"/>\n",
       "<circle clip-path=\"url(#clip950)\" cx=\"1938.41\" cy=\"1282.95\" r=\"23.04\" fill=\"#009af9\" fill-rule=\"evenodd\" fill-opacity=\"1\" stroke=\"#000000\" stroke-opacity=\"1\" stroke-width=\"5.12\"/>\n",
       "<path clip-path=\"url(#clip950)\" d=\"M2051.05 1268.85 Q2045.95 1268.85 2042.95 1272.64 Q2039.96 1276.44 2039.96 1282.99 Q2039.96 1289.52 2042.95 1293.31 Q2045.95 1297.11 2051.05 1297.11 Q2056.14 1297.11 2059.1 1293.31 Q2062.09 1289.52 2062.09 1282.99 Q2062.09 1276.44 2059.1 1272.64 Q2056.14 1268.85 2051.05 1268.85 M2051.05 1265.05 Q2058.32 1265.05 2062.67 1269.93 Q2067.02 1274.79 2067.02 1282.99 Q2067.02 1291.16 2062.67 1296.04 Q2058.32 1300.91 2051.05 1300.91 Q2043.76 1300.91 2039.38 1296.04 Q2035.03 1291.18 2035.03 1282.99 Q2035.03 1274.79 2039.38 1269.93 Q2043.76 1265.05 2051.05 1265.05 Z\" fill=\"#000000\" fill-rule=\"evenodd\" fill-opacity=\"1\" /><path clip-path=\"url(#clip950)\" d=\"M2092.76 1287.29 Q2092.76 1282.6 2090.82 1279.93 Q2088.89 1277.25 2085.51 1277.25 Q2082.13 1277.25 2080.19 1279.93 Q2078.27 1282.6 2078.27 1287.29 Q2078.27 1291.99 2080.19 1294.68 Q2082.13 1297.34 2085.51 1297.34 Q2088.89 1297.34 2090.82 1294.68 Q2092.76 1291.99 2092.76 1287.29 M2078.27 1278.24 Q2079.61 1275.93 2081.65 1274.82 Q2083.71 1273.68 2086.56 1273.68 Q2091.28 1273.68 2094.22 1277.43 Q2097.18 1281.18 2097.18 1287.29 Q2097.18 1293.41 2094.22 1297.16 Q2091.28 1300.91 2086.56 1300.91 Q2083.71 1300.91 2081.65 1299.79 Q2079.61 1298.66 2078.27 1296.35 L2078.27 1300.23 L2073.99 1300.23 L2073.99 1264.22 L2078.27 1264.22 L2078.27 1278.24 Z\" fill=\"#000000\" fill-rule=\"evenodd\" fill-opacity=\"1\" /><path clip-path=\"url(#clip950)\" d=\"M2120.77 1275.07 L2120.77 1279.1 Q2118.96 1278.17 2117.02 1277.71 Q2115.07 1277.25 2112.99 1277.25 Q2109.82 1277.25 2108.22 1278.22 Q2106.65 1279.19 2106.65 1281.14 Q2106.65 1282.62 2107.78 1283.48 Q2108.92 1284.31 2112.34 1285.07 L2113.8 1285.4 Q2118.34 1286.37 2120.24 1288.15 Q2122.16 1289.91 2122.16 1293.08 Q2122.16 1296.69 2119.29 1298.8 Q2116.44 1300.91 2111.44 1300.91 Q2109.36 1300.91 2107.09 1300.49 Q2104.84 1300.1 2102.34 1299.29 L2102.34 1294.89 Q2104.7 1296.11 2107 1296.74 Q2109.29 1297.34 2111.53 1297.34 Q2114.54 1297.34 2116.16 1296.32 Q2117.78 1295.28 2117.78 1293.41 Q2117.78 1291.67 2116.6 1290.74 Q2115.44 1289.82 2111.49 1288.96 L2110.01 1288.61 Q2106.05 1287.78 2104.29 1286.07 Q2102.53 1284.33 2102.53 1281.32 Q2102.53 1277.67 2105.12 1275.67 Q2107.71 1273.68 2112.48 1273.68 Q2114.84 1273.68 2116.93 1274.03 Q2119.01 1274.38 2120.77 1275.07 Z\" fill=\"#000000\" fill-rule=\"evenodd\" fill-opacity=\"1\" /><path clip-path=\"url(#clip950)\" d=\"M2151.12 1286.21 L2151.12 1288.29 L2131.53 1288.29 Q2131.81 1292.69 2134.17 1295 Q2136.56 1297.29 2140.79 1297.29 Q2143.25 1297.29 2145.54 1296.69 Q2147.85 1296.09 2150.12 1294.89 L2150.12 1298.91 Q2147.83 1299.89 2145.42 1300.4 Q2143.01 1300.91 2140.54 1300.91 Q2134.33 1300.91 2130.7 1297.29 Q2127.09 1293.68 2127.09 1287.53 Q2127.09 1281.16 2130.51 1277.43 Q2133.96 1273.68 2139.8 1273.68 Q2145.03 1273.68 2148.06 1277.06 Q2151.12 1280.42 2151.12 1286.21 M2146.86 1284.96 Q2146.81 1281.46 2144.89 1279.38 Q2142.99 1277.29 2139.84 1277.29 Q2136.28 1277.29 2134.13 1279.31 Q2132 1281.32 2131.67 1284.98 L2146.86 1284.96 Z\" fill=\"#000000\" fill-rule=\"evenodd\" fill-opacity=\"1\" /><path clip-path=\"url(#clip950)\" d=\"M2173.13 1278.29 Q2172.41 1277.87 2171.56 1277.69 Q2170.72 1277.48 2169.7 1277.48 Q2166.09 1277.48 2164.15 1279.84 Q2162.23 1282.18 2162.23 1286.58 L2162.23 1300.23 L2157.94 1300.23 L2157.94 1274.31 L2162.23 1274.31 L2162.23 1278.34 Q2163.57 1275.98 2165.72 1274.84 Q2167.88 1273.68 2170.95 1273.68 Q2171.39 1273.68 2171.93 1273.75 Q2172.46 1273.8 2173.11 1273.92 L2173.13 1278.29 Z\" fill=\"#000000\" fill-rule=\"evenodd\" fill-opacity=\"1\" /><path clip-path=\"url(#clip950)\" d=\"M2174.54 1274.31 L2179.06 1274.31 L2187.16 1296.07 L2195.26 1274.31 L2199.77 1274.31 L2190.05 1300.23 L2184.26 1300.23 L2174.54 1274.31 Z\" fill=\"#000000\" fill-rule=\"evenodd\" fill-opacity=\"1\" /><path clip-path=\"url(#clip950)\" d=\"M2227.83 1286.21 L2227.83 1288.29 L2208.25 1288.29 Q2208.52 1292.69 2210.88 1295 Q2213.27 1297.29 2217.5 1297.29 Q2219.96 1297.29 2222.25 1296.69 Q2224.56 1296.09 2226.83 1294.89 L2226.83 1298.91 Q2224.54 1299.89 2222.13 1300.4 Q2219.73 1300.91 2217.25 1300.91 Q2211.05 1300.91 2207.41 1297.29 Q2203.8 1293.68 2203.8 1287.53 Q2203.8 1281.16 2207.23 1277.43 Q2210.68 1273.68 2216.51 1273.68 Q2221.74 1273.68 2224.77 1277.06 Q2227.83 1280.42 2227.83 1286.21 M2223.57 1284.96 Q2223.52 1281.46 2221.6 1279.38 Q2219.7 1277.29 2216.56 1277.29 Q2212.99 1277.29 2210.84 1279.31 Q2208.71 1281.32 2208.38 1284.98 L2223.57 1284.96 Z\" fill=\"#000000\" fill-rule=\"evenodd\" fill-opacity=\"1\" /><path clip-path=\"url(#clip950)\" d=\"M2251.88 1278.24 L2251.88 1264.22 L2256.14 1264.22 L2256.14 1300.23 L2251.88 1300.23 L2251.88 1296.35 Q2250.54 1298.66 2248.48 1299.79 Q2246.44 1300.91 2243.57 1300.91 Q2238.87 1300.91 2235.91 1297.16 Q2232.97 1293.41 2232.97 1287.29 Q2232.97 1281.18 2235.91 1277.43 Q2238.87 1273.68 2243.57 1273.68 Q2246.44 1273.68 2248.48 1274.82 Q2250.54 1275.93 2251.88 1278.24 M2237.37 1287.29 Q2237.37 1291.99 2239.29 1294.68 Q2241.23 1297.34 2244.61 1297.34 Q2247.99 1297.34 2249.93 1294.68 Q2251.88 1291.99 2251.88 1287.29 Q2251.88 1282.6 2249.93 1279.93 Q2247.99 1277.25 2244.61 1277.25 Q2241.23 1277.25 2239.29 1279.93 Q2237.37 1282.6 2237.37 1287.29 Z\" fill=\"#000000\" fill-rule=\"evenodd\" fill-opacity=\"1\" /><polyline clip-path=\"url(#clip950)\" style=\"stroke:#e26f46; stroke-linecap:round; stroke-linejoin:round; stroke-width:4; stroke-opacity:1; fill:none\" points=\"1865.95,1334.79 2010.87,1334.79 \"/>\n",
       "<path clip-path=\"url(#clip950)\" d=\"M2035.03 1317.51 L2064.26 1317.51 L2064.26 1321.45 L2052 1321.45 L2052 1352.07 L2047.3 1352.07 L2047.3 1321.45 L2035.03 1321.45 L2035.03 1317.51 Z\" fill=\"#000000\" fill-rule=\"evenodd\" fill-opacity=\"1\" /><path clip-path=\"url(#clip950)\" d=\"M2076.65 1330.13 Q2075.93 1329.71 2075.07 1329.53 Q2074.24 1329.32 2073.22 1329.32 Q2069.61 1329.32 2067.67 1331.68 Q2065.75 1334.02 2065.75 1338.42 L2065.75 1352.07 L2061.46 1352.07 L2061.46 1326.15 L2065.75 1326.15 L2065.75 1330.18 Q2067.09 1327.82 2069.24 1326.68 Q2071.39 1325.52 2074.47 1325.52 Q2074.91 1325.52 2075.45 1325.59 Q2075.98 1325.64 2076.63 1325.76 L2076.65 1330.13 Z\" fill=\"#000000\" fill-rule=\"evenodd\" fill-opacity=\"1\" /><path clip-path=\"url(#clip950)\" d=\"M2080.68 1341.84 L2080.68 1326.15 L2084.94 1326.15 L2084.94 1341.68 Q2084.94 1345.36 2086.37 1347.21 Q2087.81 1349.04 2090.68 1349.04 Q2094.13 1349.04 2096.12 1346.84 Q2098.13 1344.64 2098.13 1340.85 L2098.13 1326.15 L2102.39 1326.15 L2102.39 1352.07 L2098.13 1352.07 L2098.13 1348.09 Q2096.58 1350.45 2094.52 1351.61 Q2092.48 1352.75 2089.77 1352.75 Q2085.31 1352.75 2082.99 1349.97 Q2080.68 1347.19 2080.68 1341.84 M2091.39 1325.52 L2091.39 1325.52 Z\" fill=\"#000000\" fill-rule=\"evenodd\" fill-opacity=\"1\" /><path clip-path=\"url(#clip950)\" d=\"M2133.34 1338.05 L2133.34 1340.13 L2113.76 1340.13 Q2114.03 1344.53 2116.39 1346.84 Q2118.78 1349.13 2123.01 1349.13 Q2125.47 1349.13 2127.76 1348.53 Q2130.07 1347.93 2132.34 1346.73 L2132.34 1350.75 Q2130.05 1351.73 2127.64 1352.24 Q2125.24 1352.75 2122.76 1352.75 Q2116.56 1352.75 2112.92 1349.13 Q2109.31 1345.52 2109.31 1339.37 Q2109.31 1333 2112.74 1329.27 Q2116.19 1325.52 2122.02 1325.52 Q2127.25 1325.52 2130.28 1328.9 Q2133.34 1332.26 2133.34 1338.05 M2129.08 1336.8 Q2129.03 1333.3 2127.11 1331.22 Q2125.21 1329.13 2122.07 1329.13 Q2118.5 1329.13 2116.35 1331.15 Q2114.22 1333.16 2113.89 1336.82 L2129.08 1336.8 Z\" fill=\"#000000\" fill-rule=\"evenodd\" fill-opacity=\"1\" /><polyline clip-path=\"url(#clip950)\" style=\"stroke:#3da44d; stroke-linecap:round; stroke-linejoin:round; stroke-width:4; stroke-opacity:1; fill:none\" points=\"1865.95,1386.63 2010.87,1386.63 \"/>\n",
       "<path clip-path=\"url(#clip950)\" d=\"M2035.03 1369.35 L2054.89 1369.35 L2054.89 1373.29 L2039.7 1373.29 L2039.7 1383.47 L2053.41 1383.47 L2053.41 1387.41 L2039.7 1387.41 L2039.7 1403.91 L2035.03 1403.91 L2035.03 1369.35 Z\" fill=\"#000000\" fill-rule=\"evenodd\" fill-opacity=\"1\" /><path clip-path=\"url(#clip950)\" d=\"M2058.66 1377.99 L2062.92 1377.99 L2062.92 1403.91 L2058.66 1403.91 L2058.66 1377.99 M2058.66 1367.9 L2062.92 1367.9 L2062.92 1373.29 L2058.66 1373.29 L2058.66 1367.9 Z\" fill=\"#000000\" fill-rule=\"evenodd\" fill-opacity=\"1\" /><path clip-path=\"url(#clip950)\" d=\"M2076.05 1370.63 L2076.05 1377.99 L2084.82 1377.99 L2084.82 1381.3 L2076.05 1381.3 L2076.05 1395.37 Q2076.05 1398.54 2076.9 1399.45 Q2077.78 1400.35 2080.45 1400.35 L2084.82 1400.35 L2084.82 1403.91 L2080.45 1403.91 Q2075.51 1403.91 2073.64 1402.09 Q2071.76 1400.23 2071.76 1395.37 L2071.76 1381.3 L2068.64 1381.3 L2068.64 1377.99 L2071.76 1377.99 L2071.76 1370.63 L2076.05 1370.63 Z\" fill=\"#000000\" fill-rule=\"evenodd\" fill-opacity=\"1\" /><path clip-path=\"url(#clip950)\" d=\"M2094.63 1370.63 L2094.63 1377.99 L2103.41 1377.99 L2103.41 1381.3 L2094.63 1381.3 L2094.63 1395.37 Q2094.63 1398.54 2095.49 1399.45 Q2096.37 1400.35 2099.03 1400.35 L2103.41 1400.35 L2103.41 1403.91 L2099.03 1403.91 Q2094.1 1403.91 2092.23 1402.09 Q2090.35 1400.23 2090.35 1395.37 L2090.35 1381.3 L2087.23 1381.3 L2087.23 1377.99 L2090.35 1377.99 L2090.35 1370.63 L2094.63 1370.63 Z\" fill=\"#000000\" fill-rule=\"evenodd\" fill-opacity=\"1\" /><path clip-path=\"url(#clip950)\" d=\"M2131.19 1389.89 L2131.19 1391.97 L2111.6 1391.97 Q2111.88 1396.37 2114.24 1398.68 Q2116.63 1400.97 2120.86 1400.97 Q2123.32 1400.97 2125.61 1400.37 Q2127.92 1399.77 2130.19 1398.57 L2130.19 1402.59 Q2127.9 1403.57 2125.49 1404.08 Q2123.08 1404.59 2120.61 1404.59 Q2114.4 1404.59 2110.77 1400.97 Q2107.16 1397.36 2107.16 1391.21 Q2107.16 1384.84 2110.58 1381.11 Q2114.03 1377.36 2119.87 1377.36 Q2125.1 1377.36 2128.13 1380.74 Q2131.19 1384.1 2131.19 1389.89 M2126.93 1388.64 Q2126.88 1385.14 2124.96 1383.06 Q2123.06 1380.97 2119.91 1380.97 Q2116.35 1380.97 2114.19 1382.99 Q2112.07 1385 2111.74 1388.66 L2126.93 1388.64 Z\" fill=\"#000000\" fill-rule=\"evenodd\" fill-opacity=\"1\" /><path clip-path=\"url(#clip950)\" d=\"M2155.24 1381.92 L2155.24 1367.9 L2159.5 1367.9 L2159.5 1403.91 L2155.24 1403.91 L2155.24 1400.03 Q2153.89 1402.34 2151.83 1403.47 Q2149.8 1404.59 2146.93 1404.59 Q2142.23 1404.59 2139.26 1400.84 Q2136.32 1397.09 2136.32 1390.97 Q2136.32 1384.86 2139.26 1381.11 Q2142.23 1377.36 2146.93 1377.36 Q2149.8 1377.36 2151.83 1378.5 Q2153.89 1379.61 2155.24 1381.92 M2140.72 1390.97 Q2140.72 1395.67 2142.64 1398.36 Q2144.59 1401.02 2147.97 1401.02 Q2151.35 1401.02 2153.29 1398.36 Q2155.24 1395.67 2155.24 1390.97 Q2155.24 1386.28 2153.29 1383.61 Q2151.35 1380.93 2147.97 1380.93 Q2144.59 1380.93 2142.64 1383.61 Q2140.72 1386.28 2140.72 1390.97 Z\" fill=\"#000000\" fill-rule=\"evenodd\" fill-opacity=\"1\" /></svg>\n"
      ]
     },
     "execution_count": 87,
     "metadata": {},
     "output_type": "execute_result"
    }
   ],
   "source": [
    "dataerr2 = 50.0 \n",
    "G_noises2 = di.Normal(0,dataerr2)\n",
    "y_observed2 = y_true + rand(G_noises2,length(x))\n",
    "\n",
    "using Polynomials\n",
    "\n",
    "line_fit2 =fit(x,y_observed2,2)\n",
    "fit_coeffs2 = coeffs(line_fit2)\n",
    "y_fitted2 = fit_coeffs2[1] .+ fit_coeffs2[2] .*x .+ fit_coeffs2[3] .*x .^2 \n",
    "\n",
    "\n",
    "using Plots\n",
    "scatter(x,y_observed2,label = \"Observed\")\n",
    "plot!(x,y_true,label = \"True\" )\n",
    "plot!(x,y_fitted2,label = \"Fitted\")"
   ]
  },
  {
   "cell_type": "markdown",
   "id": "ab12acbd",
   "metadata": {},
   "source": [
    "2. Compare the plot with the plot in 2.3. Is the fit closer to y_true or not, and why?"
   ]
  },
  {
   "cell_type": "markdown",
   "id": "a34fcca4",
   "metadata": {},
   "source": [
    "The plot is further to y_true than the plot in 2.3 since noise is larger, which means the scatter is more spread out. "
   ]
  },
  {
   "cell_type": "markdown",
   "id": "5fd1d93b",
   "metadata": {},
   "source": [
    "### 2.5\n",
    "\n",
    "#### Repeat 2.2 and 2.3 with a tenth order polynomial fit\n"
   ]
  },
  {
   "cell_type": "code",
   "execution_count": 98,
   "id": "b6dbd546",
   "metadata": {},
   "outputs": [
    {
     "data": {
      "image/svg+xml": [
       "<?xml version=\"1.0\" encoding=\"utf-8\"?>\n",
       "<svg xmlns=\"http://www.w3.org/2000/svg\" xmlns:xlink=\"http://www.w3.org/1999/xlink\" width=\"600\" height=\"400\" viewBox=\"0 0 2400 1600\">\n",
       "<defs>\n",
       "  <clipPath id=\"clip390\">\n",
       "    <rect x=\"0\" y=\"0\" width=\"2400\" height=\"1600\"/>\n",
       "  </clipPath>\n",
       "</defs>\n",
       "<path clip-path=\"url(#clip390)\" d=\"M0 1600 L2400 1600 L2400 0 L0 0  Z\" fill=\"#ffffff\" fill-rule=\"evenodd\" fill-opacity=\"1\"/>\n",
       "<defs>\n",
       "  <clipPath id=\"clip391\">\n",
       "    <rect x=\"480\" y=\"0\" width=\"1681\" height=\"1600\"/>\n",
       "  </clipPath>\n",
       "</defs>\n",
       "<path clip-path=\"url(#clip390)\" d=\"M178.867 1486.45 L2352.76 1486.45 L2352.76 47.2441 L178.867 47.2441  Z\" fill=\"#ffffff\" fill-rule=\"evenodd\" fill-opacity=\"1\"/>\n",
       "<defs>\n",
       "  <clipPath id=\"clip392\">\n",
       "    <rect x=\"178\" y=\"47\" width=\"2175\" height=\"1440\"/>\n",
       "  </clipPath>\n",
       "</defs>\n",
       "<polyline clip-path=\"url(#clip392)\" style=\"stroke:#000000; stroke-linecap:round; stroke-linejoin:round; stroke-width:2; stroke-opacity:0.1; fill:none\" points=\"240.392,1486.45 240.392,47.2441 \"/>\n",
       "<polyline clip-path=\"url(#clip392)\" style=\"stroke:#000000; stroke-linecap:round; stroke-linejoin:round; stroke-width:2; stroke-opacity:0.1; fill:none\" points=\"753.102,1486.45 753.102,47.2441 \"/>\n",
       "<polyline clip-path=\"url(#clip392)\" style=\"stroke:#000000; stroke-linecap:round; stroke-linejoin:round; stroke-width:2; stroke-opacity:0.1; fill:none\" points=\"1265.81,1486.45 1265.81,47.2441 \"/>\n",
       "<polyline clip-path=\"url(#clip392)\" style=\"stroke:#000000; stroke-linecap:round; stroke-linejoin:round; stroke-width:2; stroke-opacity:0.1; fill:none\" points=\"1778.52,1486.45 1778.52,47.2441 \"/>\n",
       "<polyline clip-path=\"url(#clip392)\" style=\"stroke:#000000; stroke-linecap:round; stroke-linejoin:round; stroke-width:2; stroke-opacity:0.1; fill:none\" points=\"2291.23,1486.45 2291.23,47.2441 \"/>\n",
       "<polyline clip-path=\"url(#clip390)\" style=\"stroke:#000000; stroke-linecap:round; stroke-linejoin:round; stroke-width:4; stroke-opacity:1; fill:none\" points=\"178.867,1486.45 2352.76,1486.45 \"/>\n",
       "<polyline clip-path=\"url(#clip390)\" style=\"stroke:#000000; stroke-linecap:round; stroke-linejoin:round; stroke-width:4; stroke-opacity:1; fill:none\" points=\"240.392,1486.45 240.392,1467.55 \"/>\n",
       "<polyline clip-path=\"url(#clip390)\" style=\"stroke:#000000; stroke-linecap:round; stroke-linejoin:round; stroke-width:4; stroke-opacity:1; fill:none\" points=\"753.102,1486.45 753.102,1467.55 \"/>\n",
       "<polyline clip-path=\"url(#clip390)\" style=\"stroke:#000000; stroke-linecap:round; stroke-linejoin:round; stroke-width:4; stroke-opacity:1; fill:none\" points=\"1265.81,1486.45 1265.81,1467.55 \"/>\n",
       "<polyline clip-path=\"url(#clip390)\" style=\"stroke:#000000; stroke-linecap:round; stroke-linejoin:round; stroke-width:4; stroke-opacity:1; fill:none\" points=\"1778.52,1486.45 1778.52,1467.55 \"/>\n",
       "<polyline clip-path=\"url(#clip390)\" style=\"stroke:#000000; stroke-linecap:round; stroke-linejoin:round; stroke-width:4; stroke-opacity:1; fill:none\" points=\"2291.23,1486.45 2291.23,1467.55 \"/>\n",
       "<path clip-path=\"url(#clip390)\" d=\"M194.455 1532.02 L224.13 1532.02 L224.13 1535.95 L194.455 1535.95 L194.455 1532.02 Z\" fill=\"#000000\" fill-rule=\"evenodd\" fill-opacity=\"1\" /><path clip-path=\"url(#clip390)\" d=\"M235.033 1544.91 L242.672 1544.91 L242.672 1518.55 L234.362 1520.21 L234.362 1515.95 L242.626 1514.29 L247.301 1514.29 L247.301 1544.91 L254.94 1544.91 L254.94 1548.85 L235.033 1548.85 L235.033 1544.91 Z\" fill=\"#000000\" fill-rule=\"evenodd\" fill-opacity=\"1\" /><path clip-path=\"url(#clip390)\" d=\"M274.385 1517.37 Q270.774 1517.37 268.945 1520.93 Q267.139 1524.47 267.139 1531.6 Q267.139 1538.71 268.945 1542.27 Q270.774 1545.82 274.385 1545.82 Q278.019 1545.82 279.824 1542.27 Q281.653 1538.71 281.653 1531.6 Q281.653 1524.47 279.824 1520.93 Q278.019 1517.37 274.385 1517.37 M274.385 1513.66 Q280.195 1513.66 283.25 1518.27 Q286.329 1522.85 286.329 1531.6 Q286.329 1540.33 283.25 1544.94 Q280.195 1549.52 274.385 1549.52 Q268.575 1549.52 265.496 1544.94 Q262.44 1540.33 262.44 1531.6 Q262.44 1522.85 265.496 1518.27 Q268.575 1513.66 274.385 1513.66 Z\" fill=\"#000000\" fill-rule=\"evenodd\" fill-opacity=\"1\" /><path clip-path=\"url(#clip390)\" d=\"M722.743 1532.02 L752.419 1532.02 L752.419 1535.95 L722.743 1535.95 L722.743 1532.02 Z\" fill=\"#000000\" fill-rule=\"evenodd\" fill-opacity=\"1\" /><path clip-path=\"url(#clip390)\" d=\"M762.558 1514.29 L780.914 1514.29 L780.914 1518.22 L766.84 1518.22 L766.84 1526.7 Q767.858 1526.35 768.877 1526.19 Q769.895 1526 770.914 1526 Q776.701 1526 780.081 1529.17 Q783.46 1532.34 783.46 1537.76 Q783.46 1543.34 779.988 1546.44 Q776.516 1549.52 770.196 1549.52 Q768.02 1549.52 765.752 1549.15 Q763.507 1548.78 761.099 1548.04 L761.099 1543.34 Q763.183 1544.47 765.405 1545.03 Q767.627 1545.58 770.104 1545.58 Q774.108 1545.58 776.446 1543.48 Q778.784 1541.37 778.784 1537.76 Q778.784 1534.15 776.446 1532.04 Q774.108 1529.94 770.104 1529.94 Q768.229 1529.94 766.354 1530.35 Q764.502 1530.77 762.558 1531.65 L762.558 1514.29 Z\" fill=\"#000000\" fill-rule=\"evenodd\" fill-opacity=\"1\" /><path clip-path=\"url(#clip390)\" d=\"M1265.81 1517.37 Q1262.2 1517.37 1260.37 1520.93 Q1258.57 1524.47 1258.57 1531.6 Q1258.57 1538.71 1260.37 1542.27 Q1262.2 1545.82 1265.81 1545.82 Q1269.45 1545.82 1271.25 1542.27 Q1273.08 1538.71 1273.08 1531.6 Q1273.08 1524.47 1271.25 1520.93 Q1269.45 1517.37 1265.81 1517.37 M1265.81 1513.66 Q1271.62 1513.66 1274.68 1518.27 Q1277.76 1522.85 1277.76 1531.6 Q1277.76 1540.33 1274.68 1544.94 Q1271.62 1549.52 1265.81 1549.52 Q1260 1549.52 1256.92 1544.94 Q1253.87 1540.33 1253.87 1531.6 Q1253.87 1522.85 1256.92 1518.27 Q1260 1513.66 1265.81 1513.66 Z\" fill=\"#000000\" fill-rule=\"evenodd\" fill-opacity=\"1\" /><path clip-path=\"url(#clip390)\" d=\"M1768.8 1514.29 L1787.16 1514.29 L1787.16 1518.22 L1773.08 1518.22 L1773.08 1526.7 Q1774.1 1526.35 1775.12 1526.19 Q1776.14 1526 1777.16 1526 Q1782.94 1526 1786.32 1529.17 Q1789.7 1532.34 1789.7 1537.76 Q1789.7 1543.34 1786.23 1546.44 Q1782.76 1549.52 1776.44 1549.52 Q1774.26 1549.52 1771.99 1549.15 Q1769.75 1548.78 1767.34 1548.04 L1767.34 1543.34 Q1769.42 1544.47 1771.65 1545.03 Q1773.87 1545.58 1776.35 1545.58 Q1780.35 1545.58 1782.69 1543.48 Q1785.03 1541.37 1785.03 1537.76 Q1785.03 1534.15 1782.69 1532.04 Q1780.35 1529.94 1776.35 1529.94 Q1774.47 1529.94 1772.6 1530.35 Q1770.74 1530.77 1768.8 1531.65 L1768.8 1514.29 Z\" fill=\"#000000\" fill-rule=\"evenodd\" fill-opacity=\"1\" /><path clip-path=\"url(#clip390)\" d=\"M2265.92 1544.91 L2273.56 1544.91 L2273.56 1518.55 L2265.25 1520.21 L2265.25 1515.95 L2273.51 1514.29 L2278.19 1514.29 L2278.19 1544.91 L2285.83 1544.91 L2285.83 1548.85 L2265.92 1548.85 L2265.92 1544.91 Z\" fill=\"#000000\" fill-rule=\"evenodd\" fill-opacity=\"1\" /><path clip-path=\"url(#clip390)\" d=\"M2305.27 1517.37 Q2301.66 1517.37 2299.83 1520.93 Q2298.02 1524.47 2298.02 1531.6 Q2298.02 1538.71 2299.83 1542.27 Q2301.66 1545.82 2305.27 1545.82 Q2308.9 1545.82 2310.71 1542.27 Q2312.54 1538.71 2312.54 1531.6 Q2312.54 1524.47 2310.71 1520.93 Q2308.9 1517.37 2305.27 1517.37 M2305.27 1513.66 Q2311.08 1513.66 2314.14 1518.27 Q2317.21 1522.85 2317.21 1531.6 Q2317.21 1540.33 2314.14 1544.94 Q2311.08 1549.52 2305.27 1549.52 Q2299.46 1549.52 2296.38 1544.94 Q2293.33 1540.33 2293.33 1531.6 Q2293.33 1522.85 2296.38 1518.27 Q2299.46 1513.66 2305.27 1513.66 Z\" fill=\"#000000\" fill-rule=\"evenodd\" fill-opacity=\"1\" /><polyline clip-path=\"url(#clip392)\" style=\"stroke:#000000; stroke-linecap:round; stroke-linejoin:round; stroke-width:2; stroke-opacity:0.1; fill:none\" points=\"178.867,1363.63 2352.76,1363.63 \"/>\n",
       "<polyline clip-path=\"url(#clip392)\" style=\"stroke:#000000; stroke-linecap:round; stroke-linejoin:round; stroke-width:2; stroke-opacity:0.1; fill:none\" points=\"178.867,1194.91 2352.76,1194.91 \"/>\n",
       "<polyline clip-path=\"url(#clip392)\" style=\"stroke:#000000; stroke-linecap:round; stroke-linejoin:round; stroke-width:2; stroke-opacity:0.1; fill:none\" points=\"178.867,1026.19 2352.76,1026.19 \"/>\n",
       "<polyline clip-path=\"url(#clip392)\" style=\"stroke:#000000; stroke-linecap:round; stroke-linejoin:round; stroke-width:2; stroke-opacity:0.1; fill:none\" points=\"178.867,857.462 2352.76,857.462 \"/>\n",
       "<polyline clip-path=\"url(#clip392)\" style=\"stroke:#000000; stroke-linecap:round; stroke-linejoin:round; stroke-width:2; stroke-opacity:0.1; fill:none\" points=\"178.867,688.738 2352.76,688.738 \"/>\n",
       "<polyline clip-path=\"url(#clip392)\" style=\"stroke:#000000; stroke-linecap:round; stroke-linejoin:round; stroke-width:2; stroke-opacity:0.1; fill:none\" points=\"178.867,520.014 2352.76,520.014 \"/>\n",
       "<polyline clip-path=\"url(#clip392)\" style=\"stroke:#000000; stroke-linecap:round; stroke-linejoin:round; stroke-width:2; stroke-opacity:0.1; fill:none\" points=\"178.867,351.29 2352.76,351.29 \"/>\n",
       "<polyline clip-path=\"url(#clip392)\" style=\"stroke:#000000; stroke-linecap:round; stroke-linejoin:round; stroke-width:2; stroke-opacity:0.1; fill:none\" points=\"178.867,182.566 2352.76,182.566 \"/>\n",
       "<polyline clip-path=\"url(#clip390)\" style=\"stroke:#000000; stroke-linecap:round; stroke-linejoin:round; stroke-width:4; stroke-opacity:1; fill:none\" points=\"178.867,1486.45 178.867,47.2441 \"/>\n",
       "<polyline clip-path=\"url(#clip390)\" style=\"stroke:#000000; stroke-linecap:round; stroke-linejoin:round; stroke-width:4; stroke-opacity:1; fill:none\" points=\"178.867,1363.63 197.764,1363.63 \"/>\n",
       "<polyline clip-path=\"url(#clip390)\" style=\"stroke:#000000; stroke-linecap:round; stroke-linejoin:round; stroke-width:4; stroke-opacity:1; fill:none\" points=\"178.867,1194.91 197.764,1194.91 \"/>\n",
       "<polyline clip-path=\"url(#clip390)\" style=\"stroke:#000000; stroke-linecap:round; stroke-linejoin:round; stroke-width:4; stroke-opacity:1; fill:none\" points=\"178.867,1026.19 197.764,1026.19 \"/>\n",
       "<polyline clip-path=\"url(#clip390)\" style=\"stroke:#000000; stroke-linecap:round; stroke-linejoin:round; stroke-width:4; stroke-opacity:1; fill:none\" points=\"178.867,857.462 197.764,857.462 \"/>\n",
       "<polyline clip-path=\"url(#clip390)\" style=\"stroke:#000000; stroke-linecap:round; stroke-linejoin:round; stroke-width:4; stroke-opacity:1; fill:none\" points=\"178.867,688.738 197.764,688.738 \"/>\n",
       "<polyline clip-path=\"url(#clip390)\" style=\"stroke:#000000; stroke-linecap:round; stroke-linejoin:round; stroke-width:4; stroke-opacity:1; fill:none\" points=\"178.867,520.014 197.764,520.014 \"/>\n",
       "<polyline clip-path=\"url(#clip390)\" style=\"stroke:#000000; stroke-linecap:round; stroke-linejoin:round; stroke-width:4; stroke-opacity:1; fill:none\" points=\"178.867,351.29 197.764,351.29 \"/>\n",
       "<polyline clip-path=\"url(#clip390)\" style=\"stroke:#000000; stroke-linecap:round; stroke-linejoin:round; stroke-width:4; stroke-opacity:1; fill:none\" points=\"178.867,182.566 197.764,182.566 \"/>\n",
       "<path clip-path=\"url(#clip390)\" d=\"M50.9921 1364.09 L80.6679 1364.09 L80.6679 1368.02 L50.9921 1368.02 L50.9921 1364.09 Z\" fill=\"#000000\" fill-rule=\"evenodd\" fill-opacity=\"1\" /><path clip-path=\"url(#clip390)\" d=\"M94.7882 1376.98 L111.108 1376.98 L111.108 1380.91 L89.1632 1380.91 L89.1632 1376.98 Q91.8252 1374.22 96.4085 1369.59 Q101.015 1364.94 102.196 1363.6 Q104.441 1361.08 105.321 1359.34 Q106.223 1357.58 106.223 1355.89 Q106.223 1353.14 104.279 1351.4 Q102.358 1349.66 99.2558 1349.66 Q97.0567 1349.66 94.603 1350.43 Q92.1725 1351.19 89.3947 1352.74 L89.3947 1348.02 Q92.2188 1346.89 94.6724 1346.31 Q97.1261 1345.73 99.1632 1345.73 Q104.534 1345.73 107.728 1348.41 Q110.922 1351.1 110.922 1355.59 Q110.922 1357.72 110.112 1359.64 Q109.325 1361.54 107.219 1364.13 Q106.64 1364.8 103.538 1368.02 Q100.436 1371.22 94.7882 1376.98 Z\" fill=\"#000000\" fill-rule=\"evenodd\" fill-opacity=\"1\" /><path clip-path=\"url(#clip390)\" d=\"M130.922 1349.43 Q127.311 1349.43 125.482 1353 Q123.677 1356.54 123.677 1363.67 Q123.677 1370.78 125.482 1374.34 Q127.311 1377.88 130.922 1377.88 Q134.556 1377.88 136.362 1374.34 Q138.191 1370.78 138.191 1363.67 Q138.191 1356.54 136.362 1353 Q134.556 1349.43 130.922 1349.43 M130.922 1345.73 Q136.732 1345.73 139.788 1350.34 Q142.867 1354.92 142.867 1363.67 Q142.867 1372.4 139.788 1377 Q136.732 1381.59 130.922 1381.59 Q125.112 1381.59 122.033 1377 Q118.978 1372.4 118.978 1363.67 Q118.978 1354.92 122.033 1350.34 Q125.112 1345.73 130.922 1345.73 Z\" fill=\"#000000\" fill-rule=\"evenodd\" fill-opacity=\"1\" /><path clip-path=\"url(#clip390)\" d=\"M130.922 1180.71 Q127.311 1180.71 125.482 1184.27 Q123.677 1187.82 123.677 1194.94 Q123.677 1202.05 125.482 1205.62 Q127.311 1209.16 130.922 1209.16 Q134.556 1209.16 136.362 1205.62 Q138.191 1202.05 138.191 1194.94 Q138.191 1187.82 136.362 1184.27 Q134.556 1180.71 130.922 1180.71 M130.922 1177.01 Q136.732 1177.01 139.788 1181.61 Q142.867 1186.2 142.867 1194.94 Q142.867 1203.67 139.788 1208.28 Q136.732 1212.86 130.922 1212.86 Q125.112 1212.86 122.033 1208.28 Q118.978 1203.67 118.978 1194.94 Q118.978 1186.2 122.033 1181.61 Q125.112 1177.01 130.922 1177.01 Z\" fill=\"#000000\" fill-rule=\"evenodd\" fill-opacity=\"1\" /><path clip-path=\"url(#clip390)\" d=\"M94.7882 1039.53 L111.108 1039.53 L111.108 1043.47 L89.1632 1043.47 L89.1632 1039.53 Q91.8252 1036.78 96.4085 1032.15 Q101.015 1027.49 102.196 1026.15 Q104.441 1023.63 105.321 1021.89 Q106.223 1020.13 106.223 1018.44 Q106.223 1015.69 104.279 1013.95 Q102.358 1012.22 99.2558 1012.22 Q97.0567 1012.22 94.603 1012.98 Q92.1725 1013.74 89.3947 1015.3 L89.3947 1010.57 Q92.2188 1009.44 94.6724 1008.86 Q97.1261 1008.28 99.1632 1008.28 Q104.534 1008.28 107.728 1010.97 Q110.922 1013.65 110.922 1018.14 Q110.922 1020.27 110.112 1022.19 Q109.325 1024.09 107.219 1026.68 Q106.64 1027.36 103.538 1030.57 Q100.436 1033.77 94.7882 1039.53 Z\" fill=\"#000000\" fill-rule=\"evenodd\" fill-opacity=\"1\" /><path clip-path=\"url(#clip390)\" d=\"M130.922 1011.98 Q127.311 1011.98 125.482 1015.55 Q123.677 1019.09 123.677 1026.22 Q123.677 1033.33 125.482 1036.89 Q127.311 1040.43 130.922 1040.43 Q134.556 1040.43 136.362 1036.89 Q138.191 1033.33 138.191 1026.22 Q138.191 1019.09 136.362 1015.55 Q134.556 1011.98 130.922 1011.98 M130.922 1008.28 Q136.732 1008.28 139.788 1012.89 Q142.867 1017.47 142.867 1026.22 Q142.867 1034.95 139.788 1039.55 Q136.732 1044.14 130.922 1044.14 Q125.112 1044.14 122.033 1039.55 Q118.978 1034.95 118.978 1026.22 Q118.978 1017.47 122.033 1012.89 Q125.112 1008.28 130.922 1008.28 Z\" fill=\"#000000\" fill-rule=\"evenodd\" fill-opacity=\"1\" /><path clip-path=\"url(#clip390)\" d=\"M103.608 844.256 L91.8021 862.705 L103.608 862.705 L103.608 844.256 M102.381 840.182 L108.26 840.182 L108.26 862.705 L113.191 862.705 L113.191 866.594 L108.26 866.594 L108.26 874.742 L103.608 874.742 L103.608 866.594 L88.0058 866.594 L88.0058 862.08 L102.381 840.182 Z\" fill=\"#000000\" fill-rule=\"evenodd\" fill-opacity=\"1\" /><path clip-path=\"url(#clip390)\" d=\"M130.922 843.261 Q127.311 843.261 125.482 846.826 Q123.677 850.367 123.677 857.497 Q123.677 864.603 125.482 868.168 Q127.311 871.71 130.922 871.71 Q134.556 871.71 136.362 868.168 Q138.191 864.603 138.191 857.497 Q138.191 850.367 136.362 846.826 Q134.556 843.261 130.922 843.261 M130.922 839.557 Q136.732 839.557 139.788 844.164 Q142.867 848.747 142.867 857.497 Q142.867 866.224 139.788 870.83 Q136.732 875.413 130.922 875.413 Q125.112 875.413 122.033 870.83 Q118.978 866.224 118.978 857.497 Q118.978 848.747 122.033 844.164 Q125.112 839.557 130.922 839.557 Z\" fill=\"#000000\" fill-rule=\"evenodd\" fill-opacity=\"1\" /><path clip-path=\"url(#clip390)\" d=\"M101.339 686.875 Q98.1909 686.875 96.3391 689.028 Q94.5104 691.18 94.5104 694.93 Q94.5104 698.657 96.3391 700.833 Q98.1909 702.986 101.339 702.986 Q104.487 702.986 106.316 700.833 Q108.168 698.657 108.168 694.93 Q108.168 691.18 106.316 689.028 Q104.487 686.875 101.339 686.875 M110.621 672.222 L110.621 676.481 Q108.862 675.648 107.057 675.208 Q105.274 674.768 103.515 674.768 Q98.8854 674.768 96.4317 677.893 Q94.0012 681.018 93.6539 687.338 Q95.0197 685.324 97.0798 684.259 Q99.14 683.171 101.617 683.171 Q106.825 683.171 109.834 686.342 Q112.867 689.49 112.867 694.93 Q112.867 700.254 109.719 703.472 Q106.571 706.689 101.339 706.689 Q95.3437 706.689 92.1725 702.106 Q89.0012 697.5 89.0012 688.773 Q89.0012 680.578 92.89 675.717 Q96.7789 670.833 103.33 670.833 Q105.089 670.833 106.871 671.18 Q108.677 671.528 110.621 672.222 Z\" fill=\"#000000\" fill-rule=\"evenodd\" fill-opacity=\"1\" /><path clip-path=\"url(#clip390)\" d=\"M130.922 674.537 Q127.311 674.537 125.482 678.102 Q123.677 681.643 123.677 688.773 Q123.677 695.879 125.482 699.444 Q127.311 702.986 130.922 702.986 Q134.556 702.986 136.362 699.444 Q138.191 695.879 138.191 688.773 Q138.191 681.643 136.362 678.102 Q134.556 674.537 130.922 674.537 M130.922 670.833 Q136.732 670.833 139.788 675.44 Q142.867 680.023 142.867 688.773 Q142.867 697.5 139.788 702.106 Q136.732 706.689 130.922 706.689 Q125.112 706.689 122.033 702.106 Q118.978 697.5 118.978 688.773 Q118.978 680.023 122.033 675.44 Q125.112 670.833 130.922 670.833 Z\" fill=\"#000000\" fill-rule=\"evenodd\" fill-opacity=\"1\" /><path clip-path=\"url(#clip390)\" d=\"M100.76 520.882 Q97.4271 520.882 95.5058 522.665 Q93.6076 524.447 93.6076 527.572 Q93.6076 530.697 95.5058 532.479 Q97.4271 534.262 100.76 534.262 Q104.094 534.262 106.015 532.479 Q107.936 530.674 107.936 527.572 Q107.936 524.447 106.015 522.665 Q104.117 520.882 100.76 520.882 M96.0845 518.891 Q93.0752 518.151 91.3854 516.091 Q89.7188 514.03 89.7188 511.067 Q89.7188 506.924 92.6586 504.517 Q95.6215 502.109 100.76 502.109 Q105.922 502.109 108.862 504.517 Q111.802 506.924 111.802 511.067 Q111.802 514.03 110.112 516.091 Q108.446 518.151 105.459 518.891 Q108.839 519.678 110.714 521.97 Q112.612 524.262 112.612 527.572 Q112.612 532.595 109.533 535.28 Q106.478 537.965 100.76 537.965 Q95.0428 537.965 91.9641 535.28 Q88.9086 532.595 88.9086 527.572 Q88.9086 524.262 90.8067 521.97 Q92.7049 519.678 96.0845 518.891 M94.3715 511.507 Q94.3715 514.192 96.0382 515.697 Q97.728 517.202 100.76 517.202 Q103.77 517.202 105.459 515.697 Q107.172 514.192 107.172 511.507 Q107.172 508.822 105.459 507.317 Q103.77 505.813 100.76 505.813 Q97.728 505.813 96.0382 507.317 Q94.3715 508.822 94.3715 511.507 Z\" fill=\"#000000\" fill-rule=\"evenodd\" fill-opacity=\"1\" /><path clip-path=\"url(#clip390)\" d=\"M130.922 505.813 Q127.311 505.813 125.482 509.378 Q123.677 512.919 123.677 520.049 Q123.677 527.155 125.482 530.72 Q127.311 534.262 130.922 534.262 Q134.556 534.262 136.362 530.72 Q138.191 527.155 138.191 520.049 Q138.191 512.919 136.362 509.378 Q134.556 505.813 130.922 505.813 M130.922 502.109 Q136.732 502.109 139.788 506.716 Q142.867 511.299 142.867 520.049 Q142.867 528.776 139.788 533.382 Q136.732 537.965 130.922 537.965 Q125.112 537.965 122.033 533.382 Q118.978 528.776 118.978 520.049 Q118.978 511.299 122.033 506.716 Q125.112 502.109 130.922 502.109 Z\" fill=\"#000000\" fill-rule=\"evenodd\" fill-opacity=\"1\" /><path clip-path=\"url(#clip390)\" d=\"M61.4087 364.635 L69.0476 364.635 L69.0476 338.269 L60.7374 339.936 L60.7374 335.677 L69.0013 334.01 L73.6772 334.01 L73.6772 364.635 L81.316 364.635 L81.316 368.57 L61.4087 368.57 L61.4087 364.635 Z\" fill=\"#000000\" fill-rule=\"evenodd\" fill-opacity=\"1\" /><path clip-path=\"url(#clip390)\" d=\"M100.76 337.089 Q97.1493 337.089 95.3206 340.654 Q93.515 344.195 93.515 351.325 Q93.515 358.431 95.3206 361.996 Q97.1493 365.538 100.76 365.538 Q104.395 365.538 106.2 361.996 Q108.029 358.431 108.029 351.325 Q108.029 344.195 106.2 340.654 Q104.395 337.089 100.76 337.089 M100.76 333.385 Q106.571 333.385 109.626 337.992 Q112.705 342.575 112.705 351.325 Q112.705 360.052 109.626 364.658 Q106.571 369.241 100.76 369.241 Q94.9502 369.241 91.8715 364.658 Q88.816 360.052 88.816 351.325 Q88.816 342.575 91.8715 337.992 Q94.9502 333.385 100.76 333.385 Z\" fill=\"#000000\" fill-rule=\"evenodd\" fill-opacity=\"1\" /><path clip-path=\"url(#clip390)\" d=\"M130.922 337.089 Q127.311 337.089 125.482 340.654 Q123.677 344.195 123.677 351.325 Q123.677 358.431 125.482 361.996 Q127.311 365.538 130.922 365.538 Q134.556 365.538 136.362 361.996 Q138.191 358.431 138.191 351.325 Q138.191 344.195 136.362 340.654 Q134.556 337.089 130.922 337.089 M130.922 333.385 Q136.732 333.385 139.788 337.992 Q142.867 342.575 142.867 351.325 Q142.867 360.052 139.788 364.658 Q136.732 369.241 130.922 369.241 Q125.112 369.241 122.033 364.658 Q118.978 360.052 118.978 351.325 Q118.978 342.575 122.033 337.992 Q125.112 333.385 130.922 333.385 Z\" fill=\"#000000\" fill-rule=\"evenodd\" fill-opacity=\"1\" /><path clip-path=\"url(#clip390)\" d=\"M61.4087 195.911 L69.0476 195.911 L69.0476 169.545 L60.7374 171.212 L60.7374 166.953 L69.0013 165.286 L73.6772 165.286 L73.6772 195.911 L81.316 195.911 L81.316 199.846 L61.4087 199.846 L61.4087 195.911 Z\" fill=\"#000000\" fill-rule=\"evenodd\" fill-opacity=\"1\" /><path clip-path=\"url(#clip390)\" d=\"M94.7882 195.911 L111.108 195.911 L111.108 199.846 L89.1632 199.846 L89.1632 195.911 Q91.8252 193.156 96.4085 188.527 Q101.015 183.874 102.196 182.531 Q104.441 180.008 105.321 178.272 Q106.223 176.513 106.223 174.823 Q106.223 172.068 104.279 170.332 Q102.358 168.596 99.2558 168.596 Q97.0567 168.596 94.603 169.36 Q92.1725 170.124 89.3947 171.675 L89.3947 166.953 Q92.2188 165.818 94.6724 165.24 Q97.1261 164.661 99.1632 164.661 Q104.534 164.661 107.728 167.346 Q110.922 170.031 110.922 174.522 Q110.922 176.652 110.112 178.573 Q109.325 180.471 107.219 183.064 Q106.64 183.735 103.538 186.953 Q100.436 190.147 94.7882 195.911 Z\" fill=\"#000000\" fill-rule=\"evenodd\" fill-opacity=\"1\" /><path clip-path=\"url(#clip390)\" d=\"M130.922 168.365 Q127.311 168.365 125.482 171.93 Q123.677 175.471 123.677 182.601 Q123.677 189.707 125.482 193.272 Q127.311 196.814 130.922 196.814 Q134.556 196.814 136.362 193.272 Q138.191 189.707 138.191 182.601 Q138.191 175.471 136.362 171.93 Q134.556 168.365 130.922 168.365 M130.922 164.661 Q136.732 164.661 139.788 169.268 Q142.867 173.851 142.867 182.601 Q142.867 191.328 139.788 195.934 Q136.732 200.517 130.922 200.517 Q125.112 200.517 122.033 195.934 Q118.978 191.328 118.978 182.601 Q118.978 173.851 122.033 169.268 Q125.112 164.661 130.922 164.661 Z\" fill=\"#000000\" fill-rule=\"evenodd\" fill-opacity=\"1\" /><circle clip-path=\"url(#clip392)\" cx=\"240.392\" cy=\"670.462\" r=\"14.4\" fill=\"#009af9\" fill-rule=\"evenodd\" fill-opacity=\"1\" stroke=\"#000000\" stroke-opacity=\"1\" stroke-width=\"3.2\"/>\n",
       "<circle clip-path=\"url(#clip392)\" cx=\"342.934\" cy=\"690.468\" r=\"14.4\" fill=\"#009af9\" fill-rule=\"evenodd\" fill-opacity=\"1\" stroke=\"#000000\" stroke-opacity=\"1\" stroke-width=\"3.2\"/>\n",
       "<circle clip-path=\"url(#clip392)\" cx=\"445.476\" cy=\"811.095\" r=\"14.4\" fill=\"#009af9\" fill-rule=\"evenodd\" fill-opacity=\"1\" stroke=\"#000000\" stroke-opacity=\"1\" stroke-width=\"3.2\"/>\n",
       "<circle clip-path=\"url(#clip392)\" cx=\"548.018\" cy=\"1036.37\" r=\"14.4\" fill=\"#009af9\" fill-rule=\"evenodd\" fill-opacity=\"1\" stroke=\"#000000\" stroke-opacity=\"1\" stroke-width=\"3.2\"/>\n",
       "<circle clip-path=\"url(#clip392)\" cx=\"650.56\" cy=\"861.327\" r=\"14.4\" fill=\"#009af9\" fill-rule=\"evenodd\" fill-opacity=\"1\" stroke=\"#000000\" stroke-opacity=\"1\" stroke-width=\"3.2\"/>\n",
       "<circle clip-path=\"url(#clip392)\" cx=\"753.102\" cy=\"1170.62\" r=\"14.4\" fill=\"#009af9\" fill-rule=\"evenodd\" fill-opacity=\"1\" stroke=\"#000000\" stroke-opacity=\"1\" stroke-width=\"3.2\"/>\n",
       "<circle clip-path=\"url(#clip392)\" cx=\"855.643\" cy=\"1076.72\" r=\"14.4\" fill=\"#009af9\" fill-rule=\"evenodd\" fill-opacity=\"1\" stroke=\"#000000\" stroke-opacity=\"1\" stroke-width=\"3.2\"/>\n",
       "<circle clip-path=\"url(#clip392)\" cx=\"958.185\" cy=\"1321.52\" r=\"14.4\" fill=\"#009af9\" fill-rule=\"evenodd\" fill-opacity=\"1\" stroke=\"#000000\" stroke-opacity=\"1\" stroke-width=\"3.2\"/>\n",
       "<circle clip-path=\"url(#clip392)\" cx=\"1060.73\" cy=\"1445.72\" r=\"14.4\" fill=\"#009af9\" fill-rule=\"evenodd\" fill-opacity=\"1\" stroke=\"#000000\" stroke-opacity=\"1\" stroke-width=\"3.2\"/>\n",
       "<circle clip-path=\"url(#clip392)\" cx=\"1163.27\" cy=\"1330.72\" r=\"14.4\" fill=\"#009af9\" fill-rule=\"evenodd\" fill-opacity=\"1\" stroke=\"#000000\" stroke-opacity=\"1\" stroke-width=\"3.2\"/>\n",
       "<circle clip-path=\"url(#clip392)\" cx=\"1265.81\" cy=\"1294.69\" r=\"14.4\" fill=\"#009af9\" fill-rule=\"evenodd\" fill-opacity=\"1\" stroke=\"#000000\" stroke-opacity=\"1\" stroke-width=\"3.2\"/>\n",
       "<circle clip-path=\"url(#clip392)\" cx=\"1368.35\" cy=\"1166.86\" r=\"14.4\" fill=\"#009af9\" fill-rule=\"evenodd\" fill-opacity=\"1\" stroke=\"#000000\" stroke-opacity=\"1\" stroke-width=\"3.2\"/>\n",
       "<circle clip-path=\"url(#clip392)\" cx=\"1470.9\" cy=\"1036.07\" r=\"14.4\" fill=\"#009af9\" fill-rule=\"evenodd\" fill-opacity=\"1\" stroke=\"#000000\" stroke-opacity=\"1\" stroke-width=\"3.2\"/>\n",
       "<circle clip-path=\"url(#clip392)\" cx=\"1573.44\" cy=\"960.213\" r=\"14.4\" fill=\"#009af9\" fill-rule=\"evenodd\" fill-opacity=\"1\" stroke=\"#000000\" stroke-opacity=\"1\" stroke-width=\"3.2\"/>\n",
       "<circle clip-path=\"url(#clip392)\" cx=\"1675.98\" cy=\"1097.31\" r=\"14.4\" fill=\"#009af9\" fill-rule=\"evenodd\" fill-opacity=\"1\" stroke=\"#000000\" stroke-opacity=\"1\" stroke-width=\"3.2\"/>\n",
       "<circle clip-path=\"url(#clip392)\" cx=\"1778.52\" cy=\"900.502\" r=\"14.4\" fill=\"#009af9\" fill-rule=\"evenodd\" fill-opacity=\"1\" stroke=\"#000000\" stroke-opacity=\"1\" stroke-width=\"3.2\"/>\n",
       "<circle clip-path=\"url(#clip392)\" cx=\"1881.06\" cy=\"633.785\" r=\"14.4\" fill=\"#009af9\" fill-rule=\"evenodd\" fill-opacity=\"1\" stroke=\"#000000\" stroke-opacity=\"1\" stroke-width=\"3.2\"/>\n",
       "<circle clip-path=\"url(#clip392)\" cx=\"1983.6\" cy=\"636.744\" r=\"14.4\" fill=\"#009af9\" fill-rule=\"evenodd\" fill-opacity=\"1\" stroke=\"#000000\" stroke-opacity=\"1\" stroke-width=\"3.2\"/>\n",
       "<circle clip-path=\"url(#clip392)\" cx=\"2086.15\" cy=\"403.512\" r=\"14.4\" fill=\"#009af9\" fill-rule=\"evenodd\" fill-opacity=\"1\" stroke=\"#000000\" stroke-opacity=\"1\" stroke-width=\"3.2\"/>\n",
       "<circle clip-path=\"url(#clip392)\" cx=\"2188.69\" cy=\"277.711\" r=\"14.4\" fill=\"#009af9\" fill-rule=\"evenodd\" fill-opacity=\"1\" stroke=\"#000000\" stroke-opacity=\"1\" stroke-width=\"3.2\"/>\n",
       "<circle clip-path=\"url(#clip392)\" cx=\"2291.23\" cy=\"90.764\" r=\"14.4\" fill=\"#009af9\" fill-rule=\"evenodd\" fill-opacity=\"1\" stroke=\"#000000\" stroke-opacity=\"1\" stroke-width=\"3.2\"/>\n",
       "<polyline clip-path=\"url(#clip392)\" style=\"stroke:#e26f46; stroke-linecap:round; stroke-linejoin:round; stroke-width:4; stroke-opacity:1; fill:none\" points=\"240.392,621.249 342.934,756.228 445.476,874.335 548.018,975.569 650.56,1059.93 753.102,1127.42 855.643,1178.04 958.185,1211.78 1060.73,1228.66 1163.27,1228.66 1265.81,1211.78 1368.35,1178.04 1470.9,1127.42 1573.44,1059.93 1675.98,975.569 1778.52,874.335 1881.06,756.228 1983.6,621.249 2086.15,469.397 2188.69,300.673 2291.23,115.076 \"/>\n",
       "<polyline clip-path=\"url(#clip392)\" style=\"stroke:#3da44d; stroke-linecap:round; stroke-linejoin:round; stroke-width:4; stroke-opacity:1; fill:none\" points=\"240.392,674.743 342.934,663.614 445.476,878.304 548.018,944.727 650.56,963.052 753.102,1041.71 855.643,1183.53 958.185,1321.92 1060.73,1389.56 1163.27,1363.11 1265.81,1268.83 1368.35,1158.16 1470.9,1073.24 1573.44,1022.1 1675.98,976.428 1778.52,893.244 1881.06,749.239 1983.6,566.6 2086.15,403.887 2188.69,289.197 2291.23,87.9763 \"/>\n",
       "<path clip-path=\"url(#clip390)\" d=\"M251.33 302.578 L689.828 302.578 L689.828 95.2176 L251.33 95.2176  Z\" fill=\"#ffffff\" fill-rule=\"evenodd\" fill-opacity=\"1\"/>\n",
       "<polyline clip-path=\"url(#clip390)\" style=\"stroke:#000000; stroke-linecap:round; stroke-linejoin:round; stroke-width:4; stroke-opacity:1; fill:none\" points=\"251.33,302.578 689.828,302.578 689.828,95.2176 251.33,95.2176 251.33,302.578 \"/>\n",
       "<circle clip-path=\"url(#clip390)\" cx=\"347.947\" cy=\"147.058\" r=\"23.04\" fill=\"#009af9\" fill-rule=\"evenodd\" fill-opacity=\"1\" stroke=\"#000000\" stroke-opacity=\"1\" stroke-width=\"5.12\"/>\n",
       "<path clip-path=\"url(#clip390)\" d=\"M460.583 132.949 Q455.49 132.949 452.481 136.745 Q449.495 140.541 449.495 147.092 Q449.495 153.62 452.481 157.416 Q455.49 161.213 460.583 161.213 Q465.675 161.213 468.638 157.416 Q471.624 153.62 471.624 147.092 Q471.624 140.541 468.638 136.745 Q465.675 132.949 460.583 132.949 M460.583 129.153 Q467.851 129.153 472.203 134.037 Q476.555 138.898 476.555 147.092 Q476.555 155.264 472.203 160.148 Q467.851 165.009 460.583 165.009 Q453.291 165.009 448.916 160.148 Q444.564 155.287 444.564 147.092 Q444.564 138.898 448.916 134.037 Q453.291 129.153 460.583 129.153 Z\" fill=\"#000000\" fill-rule=\"evenodd\" fill-opacity=\"1\" /><path clip-path=\"url(#clip390)\" d=\"M502.295 151.398 Q502.295 146.699 500.351 144.037 Q498.43 141.352 495.05 141.352 Q491.67 141.352 489.726 144.037 Q487.805 146.699 487.805 151.398 Q487.805 156.097 489.726 158.782 Q491.67 161.444 495.05 161.444 Q498.43 161.444 500.351 158.782 Q502.295 156.097 502.295 151.398 M487.805 142.347 Q489.147 140.032 491.184 138.921 Q493.245 137.787 496.092 137.787 Q500.814 137.787 503.754 141.537 Q506.717 145.287 506.717 151.398 Q506.717 157.509 503.754 161.259 Q500.814 165.009 496.092 165.009 Q493.245 165.009 491.184 163.898 Q489.147 162.763 487.805 160.449 L487.805 164.338 L483.522 164.338 L483.522 128.319 L487.805 128.319 L487.805 142.347 Z\" fill=\"#000000\" fill-rule=\"evenodd\" fill-opacity=\"1\" /><path clip-path=\"url(#clip390)\" d=\"M530.304 139.176 L530.304 143.203 Q528.499 142.277 526.555 141.815 Q524.61 141.352 522.527 141.352 Q519.355 141.352 517.758 142.324 Q516.184 143.296 516.184 145.24 Q516.184 146.722 517.318 147.578 Q518.453 148.412 521.879 149.176 L523.337 149.5 Q527.874 150.472 529.772 152.254 Q531.693 154.014 531.693 157.185 Q531.693 160.796 528.823 162.902 Q525.976 165.009 520.976 165.009 Q518.893 165.009 516.624 164.592 Q514.379 164.199 511.879 163.388 L511.879 158.99 Q514.24 160.217 516.531 160.842 Q518.823 161.444 521.068 161.444 Q524.078 161.444 525.698 160.426 Q527.318 159.384 527.318 157.509 Q527.318 155.773 526.138 154.847 Q524.98 153.921 521.022 153.064 L519.541 152.717 Q515.582 151.884 513.823 150.171 Q512.064 148.435 512.064 145.426 Q512.064 141.768 514.656 139.778 Q517.249 137.787 522.018 137.787 Q524.379 137.787 526.462 138.134 Q528.545 138.481 530.304 139.176 Z\" fill=\"#000000\" fill-rule=\"evenodd\" fill-opacity=\"1\" /><path clip-path=\"url(#clip390)\" d=\"M560.652 150.31 L560.652 152.393 L541.068 152.393 Q541.346 156.791 543.707 159.106 Q546.091 161.398 550.328 161.398 Q552.781 161.398 555.073 160.796 Q557.388 160.194 559.656 158.99 L559.656 163.018 Q557.365 163.99 554.957 164.5 Q552.55 165.009 550.073 165.009 Q543.869 165.009 540.235 161.398 Q536.624 157.787 536.624 151.629 Q536.624 145.264 540.05 141.537 Q543.499 137.787 549.332 137.787 Q554.564 137.787 557.596 141.166 Q560.652 144.523 560.652 150.31 M556.392 149.06 Q556.346 145.565 554.425 143.481 Q552.527 141.398 549.378 141.398 Q545.814 141.398 543.661 143.412 Q541.531 145.426 541.207 149.083 L556.392 149.06 Z\" fill=\"#000000\" fill-rule=\"evenodd\" fill-opacity=\"1\" /><path clip-path=\"url(#clip390)\" d=\"M582.665 142.393 Q581.948 141.977 581.091 141.791 Q580.258 141.583 579.239 141.583 Q575.628 141.583 573.684 143.944 Q571.763 146.282 571.763 150.68 L571.763 164.338 L567.48 164.338 L567.48 138.412 L571.763 138.412 L571.763 142.44 Q573.105 140.078 575.258 138.944 Q577.411 137.787 580.489 137.787 Q580.929 137.787 581.462 137.856 Q581.994 137.903 582.642 138.018 L582.665 142.393 Z\" fill=\"#000000\" fill-rule=\"evenodd\" fill-opacity=\"1\" /><path clip-path=\"url(#clip390)\" d=\"M584.077 138.412 L588.591 138.412 L596.693 160.171 L604.795 138.412 L609.309 138.412 L599.587 164.338 L593.8 164.338 L584.077 138.412 Z\" fill=\"#000000\" fill-rule=\"evenodd\" fill-opacity=\"1\" /><path clip-path=\"url(#clip390)\" d=\"M637.364 150.31 L637.364 152.393 L617.781 152.393 Q618.059 156.791 620.42 159.106 Q622.804 161.398 627.04 161.398 Q629.494 161.398 631.785 160.796 Q634.1 160.194 636.369 158.99 L636.369 163.018 Q634.077 163.99 631.67 164.5 Q629.262 165.009 626.785 165.009 Q620.582 165.009 616.948 161.398 Q613.336 157.787 613.336 151.629 Q613.336 145.264 616.762 141.537 Q620.211 137.787 626.045 137.787 Q631.276 137.787 634.309 141.166 Q637.364 144.523 637.364 150.31 M633.105 149.06 Q633.059 145.565 631.137 143.481 Q629.239 141.398 626.091 141.398 Q622.526 141.398 620.373 143.412 Q618.244 145.426 617.92 149.083 L633.105 149.06 Z\" fill=\"#000000\" fill-rule=\"evenodd\" fill-opacity=\"1\" /><path clip-path=\"url(#clip390)\" d=\"M661.415 142.347 L661.415 128.319 L665.674 128.319 L665.674 164.338 L661.415 164.338 L661.415 160.449 Q660.072 162.763 658.012 163.898 Q655.975 165.009 653.105 165.009 Q648.406 165.009 645.443 161.259 Q642.503 157.509 642.503 151.398 Q642.503 145.287 645.443 141.537 Q648.406 137.787 653.105 137.787 Q655.975 137.787 658.012 138.921 Q660.072 140.032 661.415 142.347 M646.901 151.398 Q646.901 156.097 648.822 158.782 Q650.767 161.444 654.146 161.444 Q657.526 161.444 659.47 158.782 Q661.415 156.097 661.415 151.398 Q661.415 146.699 659.47 144.037 Q657.526 141.352 654.146 141.352 Q650.767 141.352 648.822 144.037 Q646.901 146.699 646.901 151.398 Z\" fill=\"#000000\" fill-rule=\"evenodd\" fill-opacity=\"1\" /><polyline clip-path=\"url(#clip390)\" style=\"stroke:#e26f46; stroke-linecap:round; stroke-linejoin:round; stroke-width:4; stroke-opacity:1; fill:none\" points=\"275.484,198.898 420.41,198.898 \"/>\n",
       "<path clip-path=\"url(#clip390)\" d=\"M444.564 181.618 L473.8 181.618 L473.8 185.553 L461.532 185.553 L461.532 216.178 L456.833 216.178 L456.833 185.553 L444.564 185.553 L444.564 181.618 Z\" fill=\"#000000\" fill-rule=\"evenodd\" fill-opacity=\"1\" /><path clip-path=\"url(#clip390)\" d=\"M486.184 194.233 Q485.467 193.817 484.61 193.631 Q483.777 193.423 482.758 193.423 Q479.147 193.423 477.203 195.784 Q475.282 198.122 475.282 202.52 L475.282 216.178 L470.999 216.178 L470.999 190.252 L475.282 190.252 L475.282 194.28 Q476.624 191.918 478.777 190.784 Q480.93 189.627 484.008 189.627 Q484.448 189.627 484.981 189.696 Q485.513 189.743 486.161 189.858 L486.184 194.233 Z\" fill=\"#000000\" fill-rule=\"evenodd\" fill-opacity=\"1\" /><path clip-path=\"url(#clip390)\" d=\"M490.212 205.946 L490.212 190.252 L494.471 190.252 L494.471 205.784 Q494.471 209.465 495.907 211.316 Q497.342 213.145 500.212 213.145 Q503.661 213.145 505.652 210.946 Q507.666 208.747 507.666 204.951 L507.666 190.252 L511.925 190.252 L511.925 216.178 L507.666 216.178 L507.666 212.196 Q506.115 214.557 504.055 215.715 Q502.018 216.849 499.309 216.849 Q494.842 216.849 492.527 214.071 Q490.212 211.293 490.212 205.946 M500.93 189.627 L500.93 189.627 Z\" fill=\"#000000\" fill-rule=\"evenodd\" fill-opacity=\"1\" /><path clip-path=\"url(#clip390)\" d=\"M542.874 202.15 L542.874 204.233 L523.291 204.233 Q523.568 208.631 525.93 210.946 Q528.314 213.238 532.55 213.238 Q535.004 213.238 537.295 212.636 Q539.61 212.034 541.879 210.83 L541.879 214.858 Q539.587 215.83 537.179 216.34 Q534.772 216.849 532.295 216.849 Q526.092 216.849 522.457 213.238 Q518.846 209.627 518.846 203.469 Q518.846 197.104 522.272 193.377 Q525.721 189.627 531.554 189.627 Q536.786 189.627 539.818 193.006 Q542.874 196.363 542.874 202.15 M538.615 200.9 Q538.568 197.405 536.647 195.321 Q534.749 193.238 531.601 193.238 Q528.036 193.238 525.883 195.252 Q523.754 197.266 523.43 200.923 L538.615 200.9 Z\" fill=\"#000000\" fill-rule=\"evenodd\" fill-opacity=\"1\" /><polyline clip-path=\"url(#clip390)\" style=\"stroke:#3da44d; stroke-linecap:round; stroke-linejoin:round; stroke-width:4; stroke-opacity:1; fill:none\" points=\"275.484,250.738 420.41,250.738 \"/>\n",
       "<path clip-path=\"url(#clip390)\" d=\"M444.564 233.458 L464.425 233.458 L464.425 237.393 L449.24 237.393 L449.24 247.578 L462.944 247.578 L462.944 251.513 L449.24 251.513 L449.24 268.018 L444.564 268.018 L444.564 233.458 Z\" fill=\"#000000\" fill-rule=\"evenodd\" fill-opacity=\"1\" /><path clip-path=\"url(#clip390)\" d=\"M468.198 242.092 L472.458 242.092 L472.458 268.018 L468.198 268.018 L468.198 242.092 M468.198 231.999 L472.458 231.999 L472.458 237.393 L468.198 237.393 L468.198 231.999 Z\" fill=\"#000000\" fill-rule=\"evenodd\" fill-opacity=\"1\" /><path clip-path=\"url(#clip390)\" d=\"M485.583 234.731 L485.583 242.092 L494.356 242.092 L494.356 245.402 L485.583 245.402 L485.583 259.476 Q485.583 262.647 486.439 263.55 Q487.319 264.453 489.981 264.453 L494.356 264.453 L494.356 268.018 L489.981 268.018 Q485.05 268.018 483.175 266.189 Q481.3 264.337 481.3 259.476 L481.3 245.402 L478.175 245.402 L478.175 242.092 L481.3 242.092 L481.3 234.731 L485.583 234.731 Z\" fill=\"#000000\" fill-rule=\"evenodd\" fill-opacity=\"1\" /><path clip-path=\"url(#clip390)\" d=\"M504.17 234.731 L504.17 242.092 L512.943 242.092 L512.943 245.402 L504.17 245.402 L504.17 259.476 Q504.17 262.647 505.027 263.55 Q505.906 264.453 508.568 264.453 L512.943 264.453 L512.943 268.018 L508.568 268.018 Q503.638 268.018 501.763 266.189 Q499.888 264.337 499.888 259.476 L499.888 245.402 L496.763 245.402 L496.763 242.092 L499.888 242.092 L499.888 234.731 L504.17 234.731 Z\" fill=\"#000000\" fill-rule=\"evenodd\" fill-opacity=\"1\" /><path clip-path=\"url(#clip390)\" d=\"M540.721 253.99 L540.721 256.073 L521.138 256.073 Q521.416 260.471 523.777 262.786 Q526.161 265.078 530.397 265.078 Q532.851 265.078 535.142 264.476 Q537.457 263.874 539.726 262.67 L539.726 266.698 Q537.434 267.67 535.027 268.18 Q532.619 268.689 530.142 268.689 Q523.939 268.689 520.305 265.078 Q516.693 261.467 516.693 255.309 Q516.693 248.944 520.119 245.217 Q523.568 241.467 529.402 241.467 Q534.633 241.467 537.666 244.846 Q540.721 248.203 540.721 253.99 M536.462 252.74 Q536.416 249.245 534.494 247.161 Q532.596 245.078 529.448 245.078 Q525.883 245.078 523.73 247.092 Q521.601 249.106 521.277 252.763 L536.462 252.74 Z\" fill=\"#000000\" fill-rule=\"evenodd\" fill-opacity=\"1\" /><path clip-path=\"url(#clip390)\" d=\"M564.772 246.027 L564.772 231.999 L569.031 231.999 L569.031 268.018 L564.772 268.018 L564.772 264.129 Q563.429 266.443 561.369 267.578 Q559.332 268.689 556.462 268.689 Q551.763 268.689 548.8 264.939 Q545.86 261.189 545.86 255.078 Q545.86 248.967 548.8 245.217 Q551.763 241.467 556.462 241.467 Q559.332 241.467 561.369 242.601 Q563.429 243.712 564.772 246.027 M550.258 255.078 Q550.258 259.777 552.179 262.462 Q554.124 265.124 557.503 265.124 Q560.883 265.124 562.827 262.462 Q564.772 259.777 564.772 255.078 Q564.772 250.379 562.827 247.717 Q560.883 245.032 557.503 245.032 Q554.124 245.032 552.179 247.717 Q550.258 250.379 550.258 255.078 Z\" fill=\"#000000\" fill-rule=\"evenodd\" fill-opacity=\"1\" /></svg>\n"
      ]
     },
     "execution_count": 98,
     "metadata": {},
     "output_type": "execute_result"
    }
   ],
   "source": [
    "dataerr = 10.0 \n",
    "G_noises = di.Normal(0,dataerr)\n",
    "y_observed = y_true .+ rand(G_noises,length(x))\n",
    "\n",
    "using Polynomials\n",
    "line_fit3 =fit(x,y_observed,10)\n",
    "fit_coeffs3 = coeffs(line_fit3)\n",
    "y_fitted3 = line_fit3.(x)\n",
    "\n",
    "using Plots\n",
    "scatter(x,y_observed,label = \"Observed\")\n",
    "plot!(x,y_true,label = \"True\" )\n",
    "plot!(x,y_fitted3,label = \"Fitted\")\n",
    "\n"
   ]
  },
  {
   "cell_type": "markdown",
   "id": "36028ee0",
   "metadata": {},
   "source": [
    "### 2.6\n",
    "\n",
    "1. Create a new independent parameter x_fit ranging from -11 to 11 with an increment of 0.1\n",
    "2. Plot the same three plots as in 2.3 again but apply the tenth order polynomial to x_fit instead of x\n"
   ]
  },
  {
   "cell_type": "code",
   "execution_count": 101,
   "id": "6c67a977",
   "metadata": {},
   "outputs": [
    {
     "data": {
      "image/svg+xml": [
       "<?xml version=\"1.0\" encoding=\"utf-8\"?>\n",
       "<svg xmlns=\"http://www.w3.org/2000/svg\" xmlns:xlink=\"http://www.w3.org/1999/xlink\" width=\"600\" height=\"400\" viewBox=\"0 0 2400 1600\">\n",
       "<defs>\n",
       "  <clipPath id=\"clip470\">\n",
       "    <rect x=\"0\" y=\"0\" width=\"2400\" height=\"1600\"/>\n",
       "  </clipPath>\n",
       "</defs>\n",
       "<path clip-path=\"url(#clip470)\" d=\"M0 1600 L2400 1600 L2400 0 L0 0  Z\" fill=\"#ffffff\" fill-rule=\"evenodd\" fill-opacity=\"1\"/>\n",
       "<defs>\n",
       "  <clipPath id=\"clip471\">\n",
       "    <rect x=\"480\" y=\"0\" width=\"1681\" height=\"1600\"/>\n",
       "  </clipPath>\n",
       "</defs>\n",
       "<path clip-path=\"url(#clip470)\" d=\"M172.015 1486.45 L2352.76 1486.45 L2352.76 47.2441 L172.015 47.2441  Z\" fill=\"#ffffff\" fill-rule=\"evenodd\" fill-opacity=\"1\"/>\n",
       "<defs>\n",
       "  <clipPath id=\"clip472\">\n",
       "    <rect x=\"172\" y=\"47\" width=\"2182\" height=\"1440\"/>\n",
       "  </clipPath>\n",
       "</defs>\n",
       "<polyline clip-path=\"url(#clip472)\" style=\"stroke:#000000; stroke-linecap:round; stroke-linejoin:round; stroke-width:2; stroke-opacity:0.1; fill:none\" points=\"327.248,1486.45 327.248,47.2441 \"/>\n",
       "<polyline clip-path=\"url(#clip472)\" style=\"stroke:#000000; stroke-linecap:round; stroke-linejoin:round; stroke-width:2; stroke-opacity:0.1; fill:none\" points=\"794.817,1486.45 794.817,47.2441 \"/>\n",
       "<polyline clip-path=\"url(#clip472)\" style=\"stroke:#000000; stroke-linecap:round; stroke-linejoin:round; stroke-width:2; stroke-opacity:0.1; fill:none\" points=\"1262.39,1486.45 1262.39,47.2441 \"/>\n",
       "<polyline clip-path=\"url(#clip472)\" style=\"stroke:#000000; stroke-linecap:round; stroke-linejoin:round; stroke-width:2; stroke-opacity:0.1; fill:none\" points=\"1729.95,1486.45 1729.95,47.2441 \"/>\n",
       "<polyline clip-path=\"url(#clip472)\" style=\"stroke:#000000; stroke-linecap:round; stroke-linejoin:round; stroke-width:2; stroke-opacity:0.1; fill:none\" points=\"2197.52,1486.45 2197.52,47.2441 \"/>\n",
       "<polyline clip-path=\"url(#clip470)\" style=\"stroke:#000000; stroke-linecap:round; stroke-linejoin:round; stroke-width:4; stroke-opacity:1; fill:none\" points=\"172.015,1486.45 2352.76,1486.45 \"/>\n",
       "<polyline clip-path=\"url(#clip470)\" style=\"stroke:#000000; stroke-linecap:round; stroke-linejoin:round; stroke-width:4; stroke-opacity:1; fill:none\" points=\"327.248,1486.45 327.248,1467.55 \"/>\n",
       "<polyline clip-path=\"url(#clip470)\" style=\"stroke:#000000; stroke-linecap:round; stroke-linejoin:round; stroke-width:4; stroke-opacity:1; fill:none\" points=\"794.817,1486.45 794.817,1467.55 \"/>\n",
       "<polyline clip-path=\"url(#clip470)\" style=\"stroke:#000000; stroke-linecap:round; stroke-linejoin:round; stroke-width:4; stroke-opacity:1; fill:none\" points=\"1262.39,1486.45 1262.39,1467.55 \"/>\n",
       "<polyline clip-path=\"url(#clip470)\" style=\"stroke:#000000; stroke-linecap:round; stroke-linejoin:round; stroke-width:4; stroke-opacity:1; fill:none\" points=\"1729.95,1486.45 1729.95,1467.55 \"/>\n",
       "<polyline clip-path=\"url(#clip470)\" style=\"stroke:#000000; stroke-linecap:round; stroke-linejoin:round; stroke-width:4; stroke-opacity:1; fill:none\" points=\"2197.52,1486.45 2197.52,1467.55 \"/>\n",
       "<path clip-path=\"url(#clip470)\" d=\"M281.31 1532.02 L310.986 1532.02 L310.986 1535.95 L281.31 1535.95 L281.31 1532.02 Z\" fill=\"#000000\" fill-rule=\"evenodd\" fill-opacity=\"1\" /><path clip-path=\"url(#clip470)\" d=\"M321.889 1544.91 L329.528 1544.91 L329.528 1518.55 L321.218 1520.21 L321.218 1515.95 L329.481 1514.29 L334.157 1514.29 L334.157 1544.91 L341.796 1544.91 L341.796 1548.85 L321.889 1548.85 L321.889 1544.91 Z\" fill=\"#000000\" fill-rule=\"evenodd\" fill-opacity=\"1\" /><path clip-path=\"url(#clip470)\" d=\"M361.241 1517.37 Q357.629 1517.37 355.801 1520.93 Q353.995 1524.47 353.995 1531.6 Q353.995 1538.71 355.801 1542.27 Q357.629 1545.82 361.241 1545.82 Q364.875 1545.82 366.68 1542.27 Q368.509 1538.71 368.509 1531.6 Q368.509 1524.47 366.68 1520.93 Q364.875 1517.37 361.241 1517.37 M361.241 1513.66 Q367.051 1513.66 370.106 1518.27 Q373.185 1522.85 373.185 1531.6 Q373.185 1540.33 370.106 1544.94 Q367.051 1549.52 361.241 1549.52 Q355.43 1549.52 352.352 1544.94 Q349.296 1540.33 349.296 1531.6 Q349.296 1522.85 352.352 1518.27 Q355.43 1513.66 361.241 1513.66 Z\" fill=\"#000000\" fill-rule=\"evenodd\" fill-opacity=\"1\" /><path clip-path=\"url(#clip470)\" d=\"M764.458 1532.02 L794.134 1532.02 L794.134 1535.95 L764.458 1535.95 L764.458 1532.02 Z\" fill=\"#000000\" fill-rule=\"evenodd\" fill-opacity=\"1\" /><path clip-path=\"url(#clip470)\" d=\"M804.272 1514.29 L822.629 1514.29 L822.629 1518.22 L808.555 1518.22 L808.555 1526.7 Q809.573 1526.35 810.592 1526.19 Q811.61 1526 812.629 1526 Q818.416 1526 821.796 1529.17 Q825.175 1532.34 825.175 1537.76 Q825.175 1543.34 821.703 1546.44 Q818.231 1549.52 811.911 1549.52 Q809.735 1549.52 807.467 1549.15 Q805.222 1548.78 802.814 1548.04 L802.814 1543.34 Q804.897 1544.47 807.12 1545.03 Q809.342 1545.58 811.819 1545.58 Q815.823 1545.58 818.161 1543.48 Q820.499 1541.37 820.499 1537.76 Q820.499 1534.15 818.161 1532.04 Q815.823 1529.94 811.819 1529.94 Q809.944 1529.94 808.069 1530.35 Q806.217 1530.77 804.272 1531.65 L804.272 1514.29 Z\" fill=\"#000000\" fill-rule=\"evenodd\" fill-opacity=\"1\" /><path clip-path=\"url(#clip470)\" d=\"M1262.39 1517.37 Q1258.77 1517.37 1256.95 1520.93 Q1255.14 1524.47 1255.14 1531.6 Q1255.14 1538.71 1256.95 1542.27 Q1258.77 1545.82 1262.39 1545.82 Q1266.02 1545.82 1267.83 1542.27 Q1269.65 1538.71 1269.65 1531.6 Q1269.65 1524.47 1267.83 1520.93 Q1266.02 1517.37 1262.39 1517.37 M1262.39 1513.66 Q1268.2 1513.66 1271.25 1518.27 Q1274.33 1522.85 1274.33 1531.6 Q1274.33 1540.33 1271.25 1544.94 Q1268.2 1549.52 1262.39 1549.52 Q1256.58 1549.52 1253.5 1544.94 Q1250.44 1540.33 1250.44 1531.6 Q1250.44 1522.85 1253.5 1518.27 Q1256.58 1513.66 1262.39 1513.66 Z\" fill=\"#000000\" fill-rule=\"evenodd\" fill-opacity=\"1\" /><path clip-path=\"url(#clip470)\" d=\"M1720.23 1514.29 L1738.59 1514.29 L1738.59 1518.22 L1724.51 1518.22 L1724.51 1526.7 Q1725.53 1526.35 1726.55 1526.19 Q1727.57 1526 1728.59 1526 Q1734.38 1526 1737.76 1529.17 Q1741.13 1532.34 1741.13 1537.76 Q1741.13 1543.34 1737.66 1546.44 Q1734.19 1549.52 1727.87 1549.52 Q1725.69 1549.52 1723.43 1549.15 Q1721.18 1548.78 1718.77 1548.04 L1718.77 1543.34 Q1720.86 1544.47 1723.08 1545.03 Q1725.3 1545.58 1727.78 1545.58 Q1731.78 1545.58 1734.12 1543.48 Q1736.46 1541.37 1736.46 1537.76 Q1736.46 1534.15 1734.12 1532.04 Q1731.78 1529.94 1727.78 1529.94 Q1725.9 1529.94 1724.03 1530.35 Q1722.18 1530.77 1720.23 1531.65 L1720.23 1514.29 Z\" fill=\"#000000\" fill-rule=\"evenodd\" fill-opacity=\"1\" /><path clip-path=\"url(#clip470)\" d=\"M2172.21 1544.91 L2179.85 1544.91 L2179.85 1518.55 L2171.54 1520.21 L2171.54 1515.95 L2179.8 1514.29 L2184.48 1514.29 L2184.48 1544.91 L2192.12 1544.91 L2192.12 1548.85 L2172.21 1548.85 L2172.21 1544.91 Z\" fill=\"#000000\" fill-rule=\"evenodd\" fill-opacity=\"1\" /><path clip-path=\"url(#clip470)\" d=\"M2211.56 1517.37 Q2207.95 1517.37 2206.12 1520.93 Q2204.32 1524.47 2204.32 1531.6 Q2204.32 1538.71 2206.12 1542.27 Q2207.95 1545.82 2211.56 1545.82 Q2215.2 1545.82 2217 1542.27 Q2218.83 1538.71 2218.83 1531.6 Q2218.83 1524.47 2217 1520.93 Q2215.2 1517.37 2211.56 1517.37 M2211.56 1513.66 Q2217.37 1513.66 2220.43 1518.27 Q2223.51 1522.85 2223.51 1531.6 Q2223.51 1540.33 2220.43 1544.94 Q2217.37 1549.52 2211.56 1549.52 Q2205.75 1549.52 2202.67 1544.94 Q2199.62 1540.33 2199.62 1531.6 Q2199.62 1522.85 2202.67 1518.27 Q2205.75 1513.66 2211.56 1513.66 Z\" fill=\"#000000\" fill-rule=\"evenodd\" fill-opacity=\"1\" /><polyline clip-path=\"url(#clip472)\" style=\"stroke:#000000; stroke-linecap:round; stroke-linejoin:round; stroke-width:2; stroke-opacity:0.1; fill:none\" points=\"172.015,1377.06 2352.76,1377.06 \"/>\n",
       "<polyline clip-path=\"url(#clip472)\" style=\"stroke:#000000; stroke-linecap:round; stroke-linejoin:round; stroke-width:2; stroke-opacity:0.1; fill:none\" points=\"172.015,1146.11 2352.76,1146.11 \"/>\n",
       "<polyline clip-path=\"url(#clip472)\" style=\"stroke:#000000; stroke-linecap:round; stroke-linejoin:round; stroke-width:2; stroke-opacity:0.1; fill:none\" points=\"172.015,915.167 2352.76,915.167 \"/>\n",
       "<polyline clip-path=\"url(#clip472)\" style=\"stroke:#000000; stroke-linecap:round; stroke-linejoin:round; stroke-width:2; stroke-opacity:0.1; fill:none\" points=\"172.015,684.222 2352.76,684.222 \"/>\n",
       "<polyline clip-path=\"url(#clip472)\" style=\"stroke:#000000; stroke-linecap:round; stroke-linejoin:round; stroke-width:2; stroke-opacity:0.1; fill:none\" points=\"172.015,453.277 2352.76,453.277 \"/>\n",
       "<polyline clip-path=\"url(#clip472)\" style=\"stroke:#000000; stroke-linecap:round; stroke-linejoin:round; stroke-width:2; stroke-opacity:0.1; fill:none\" points=\"172.015,222.332 2352.76,222.332 \"/>\n",
       "<polyline clip-path=\"url(#clip470)\" style=\"stroke:#000000; stroke-linecap:round; stroke-linejoin:round; stroke-width:4; stroke-opacity:1; fill:none\" points=\"172.015,1486.45 172.015,47.2441 \"/>\n",
       "<polyline clip-path=\"url(#clip470)\" style=\"stroke:#000000; stroke-linecap:round; stroke-linejoin:round; stroke-width:4; stroke-opacity:1; fill:none\" points=\"172.015,1377.06 190.912,1377.06 \"/>\n",
       "<polyline clip-path=\"url(#clip470)\" style=\"stroke:#000000; stroke-linecap:round; stroke-linejoin:round; stroke-width:4; stroke-opacity:1; fill:none\" points=\"172.015,1146.11 190.912,1146.11 \"/>\n",
       "<polyline clip-path=\"url(#clip470)\" style=\"stroke:#000000; stroke-linecap:round; stroke-linejoin:round; stroke-width:4; stroke-opacity:1; fill:none\" points=\"172.015,915.167 190.912,915.167 \"/>\n",
       "<polyline clip-path=\"url(#clip470)\" style=\"stroke:#000000; stroke-linecap:round; stroke-linejoin:round; stroke-width:4; stroke-opacity:1; fill:none\" points=\"172.015,684.222 190.912,684.222 \"/>\n",
       "<polyline clip-path=\"url(#clip470)\" style=\"stroke:#000000; stroke-linecap:round; stroke-linejoin:round; stroke-width:4; stroke-opacity:1; fill:none\" points=\"172.015,453.277 190.912,453.277 \"/>\n",
       "<polyline clip-path=\"url(#clip470)\" style=\"stroke:#000000; stroke-linecap:round; stroke-linejoin:round; stroke-width:4; stroke-opacity:1; fill:none\" points=\"172.015,222.332 190.912,222.332 \"/>\n",
       "<path clip-path=\"url(#clip470)\" d=\"M124.07 1362.86 Q120.459 1362.86 118.631 1366.42 Q116.825 1369.96 116.825 1377.09 Q116.825 1384.2 118.631 1387.76 Q120.459 1391.3 124.07 1391.3 Q127.705 1391.3 129.51 1387.76 Q131.339 1384.2 131.339 1377.09 Q131.339 1369.96 129.51 1366.42 Q127.705 1362.86 124.07 1362.86 M124.07 1359.15 Q129.881 1359.15 132.936 1363.76 Q136.015 1368.34 136.015 1377.09 Q136.015 1385.82 132.936 1390.42 Q129.881 1395.01 124.07 1395.01 Q118.26 1395.01 115.182 1390.42 Q112.126 1385.82 112.126 1377.09 Q112.126 1368.34 115.182 1363.76 Q118.26 1359.15 124.07 1359.15 Z\" fill=\"#000000\" fill-rule=\"evenodd\" fill-opacity=\"1\" /><path clip-path=\"url(#clip470)\" d=\"M54.5569 1159.46 L62.1958 1159.46 L62.1958 1133.09 L53.8856 1134.76 L53.8856 1130.5 L62.1495 1128.83 L66.8254 1128.83 L66.8254 1159.46 L74.4642 1159.46 L74.4642 1163.39 L54.5569 1163.39 L54.5569 1159.46 Z\" fill=\"#000000\" fill-rule=\"evenodd\" fill-opacity=\"1\" /><path clip-path=\"url(#clip470)\" d=\"M93.9086 1131.91 Q90.2975 1131.91 88.4688 1135.48 Q86.6632 1139.02 86.6632 1146.15 Q86.6632 1153.25 88.4688 1156.82 Q90.2975 1160.36 93.9086 1160.36 Q97.5428 1160.36 99.3483 1156.82 Q101.177 1153.25 101.177 1146.15 Q101.177 1139.02 99.3483 1135.48 Q97.5428 1131.91 93.9086 1131.91 M93.9086 1128.21 Q99.7187 1128.21 102.774 1132.81 Q105.853 1137.4 105.853 1146.15 Q105.853 1154.87 102.774 1159.48 Q99.7187 1164.06 93.9086 1164.06 Q88.0984 1164.06 85.0197 1159.48 Q81.9642 1154.87 81.9642 1146.15 Q81.9642 1137.4 85.0197 1132.81 Q88.0984 1128.21 93.9086 1128.21 Z\" fill=\"#000000\" fill-rule=\"evenodd\" fill-opacity=\"1\" /><path clip-path=\"url(#clip470)\" d=\"M124.07 1131.91 Q120.459 1131.91 118.631 1135.48 Q116.825 1139.02 116.825 1146.15 Q116.825 1153.25 118.631 1156.82 Q120.459 1160.36 124.07 1160.36 Q127.705 1160.36 129.51 1156.82 Q131.339 1153.25 131.339 1146.15 Q131.339 1139.02 129.51 1135.48 Q127.705 1131.91 124.07 1131.91 M124.07 1128.21 Q129.881 1128.21 132.936 1132.81 Q136.015 1137.4 136.015 1146.15 Q136.015 1154.87 132.936 1159.48 Q129.881 1164.06 124.07 1164.06 Q118.26 1164.06 115.182 1159.48 Q112.126 1154.87 112.126 1146.15 Q112.126 1137.4 115.182 1132.81 Q118.26 1128.21 124.07 1128.21 Z\" fill=\"#000000\" fill-rule=\"evenodd\" fill-opacity=\"1\" /><path clip-path=\"url(#clip470)\" d=\"M57.7745 928.512 L74.0939 928.512 L74.0939 932.447 L52.1495 932.447 L52.1495 928.512 Q54.8115 925.757 59.3949 921.127 Q64.0013 916.475 65.1819 915.132 Q67.4272 912.609 68.3068 910.873 Q69.2096 909.114 69.2096 907.424 Q69.2096 904.669 67.2652 902.933 Q65.3439 901.197 62.2421 901.197 Q60.043 901.197 57.5893 901.961 Q55.1588 902.725 52.381 904.276 L52.381 899.553 Q55.2051 898.419 57.6588 897.84 Q60.1124 897.262 62.1495 897.262 Q67.5198 897.262 70.7142 899.947 Q73.9087 902.632 73.9087 907.123 Q73.9087 909.252 73.0985 911.174 Q72.3115 913.072 70.205 915.664 Q69.6263 916.336 66.5245 919.553 Q63.4226 922.748 57.7745 928.512 Z\" fill=\"#000000\" fill-rule=\"evenodd\" fill-opacity=\"1\" /><path clip-path=\"url(#clip470)\" d=\"M93.9086 900.965 Q90.2975 900.965 88.4688 904.53 Q86.6632 908.072 86.6632 915.201 Q86.6632 922.308 88.4688 925.873 Q90.2975 929.414 93.9086 929.414 Q97.5428 929.414 99.3483 925.873 Q101.177 922.308 101.177 915.201 Q101.177 908.072 99.3483 904.53 Q97.5428 900.965 93.9086 900.965 M93.9086 897.262 Q99.7187 897.262 102.774 901.868 Q105.853 906.451 105.853 915.201 Q105.853 923.928 102.774 928.535 Q99.7187 933.118 93.9086 933.118 Q88.0984 933.118 85.0197 928.535 Q81.9642 923.928 81.9642 915.201 Q81.9642 906.451 85.0197 901.868 Q88.0984 897.262 93.9086 897.262 Z\" fill=\"#000000\" fill-rule=\"evenodd\" fill-opacity=\"1\" /><path clip-path=\"url(#clip470)\" d=\"M124.07 900.965 Q120.459 900.965 118.631 904.53 Q116.825 908.072 116.825 915.201 Q116.825 922.308 118.631 925.873 Q120.459 929.414 124.07 929.414 Q127.705 929.414 129.51 925.873 Q131.339 922.308 131.339 915.201 Q131.339 908.072 129.51 904.53 Q127.705 900.965 124.07 900.965 M124.07 897.262 Q129.881 897.262 132.936 901.868 Q136.015 906.451 136.015 915.201 Q136.015 923.928 132.936 928.535 Q129.881 933.118 124.07 933.118 Q118.26 933.118 115.182 928.535 Q112.126 923.928 112.126 915.201 Q112.126 906.451 115.182 901.868 Q118.26 897.262 124.07 897.262 Z\" fill=\"#000000\" fill-rule=\"evenodd\" fill-opacity=\"1\" /><path clip-path=\"url(#clip470)\" d=\"M67.9133 682.868 Q71.2698 683.585 73.1448 685.854 Q75.0429 688.122 75.0429 691.456 Q75.0429 696.571 71.5244 699.372 Q68.0059 702.173 61.5245 702.173 Q59.3486 702.173 57.0338 701.733 Q54.7421 701.317 52.2884 700.46 L52.2884 695.946 Q54.2328 697.081 56.5477 697.659 Q58.8625 698.238 61.3856 698.238 Q65.7837 698.238 68.0754 696.502 Q70.3902 694.766 70.3902 691.456 Q70.3902 688.4 68.2374 686.687 Q66.1078 684.951 62.2884 684.951 L58.2606 684.951 L58.2606 681.108 L62.4735 681.108 Q65.9226 681.108 67.7513 679.743 Q69.58 678.354 69.58 675.761 Q69.58 673.099 67.6819 671.687 Q65.8069 670.252 62.2884 670.252 Q60.3671 670.252 58.168 670.669 Q55.969 671.085 53.3301 671.965 L53.3301 667.798 Q55.9921 667.058 58.3069 666.687 Q60.6449 666.317 62.705 666.317 Q68.0291 666.317 71.1309 668.747 Q74.2327 671.155 74.2327 675.275 Q74.2327 678.145 72.5892 680.136 Q70.9457 682.104 67.9133 682.868 Z\" fill=\"#000000\" fill-rule=\"evenodd\" fill-opacity=\"1\" /><path clip-path=\"url(#clip470)\" d=\"M93.9086 670.021 Q90.2975 670.021 88.4688 673.585 Q86.6632 677.127 86.6632 684.257 Q86.6632 691.363 88.4688 694.928 Q90.2975 698.469 93.9086 698.469 Q97.5428 698.469 99.3483 694.928 Q101.177 691.363 101.177 684.257 Q101.177 677.127 99.3483 673.585 Q97.5428 670.021 93.9086 670.021 M93.9086 666.317 Q99.7187 666.317 102.774 670.923 Q105.853 675.507 105.853 684.257 Q105.853 692.983 102.774 697.59 Q99.7187 702.173 93.9086 702.173 Q88.0984 702.173 85.0197 697.59 Q81.9642 692.983 81.9642 684.257 Q81.9642 675.507 85.0197 670.923 Q88.0984 666.317 93.9086 666.317 Z\" fill=\"#000000\" fill-rule=\"evenodd\" fill-opacity=\"1\" /><path clip-path=\"url(#clip470)\" d=\"M124.07 670.021 Q120.459 670.021 118.631 673.585 Q116.825 677.127 116.825 684.257 Q116.825 691.363 118.631 694.928 Q120.459 698.469 124.07 698.469 Q127.705 698.469 129.51 694.928 Q131.339 691.363 131.339 684.257 Q131.339 677.127 129.51 673.585 Q127.705 670.021 124.07 670.021 M124.07 666.317 Q129.881 666.317 132.936 670.923 Q136.015 675.507 136.015 684.257 Q136.015 692.983 132.936 697.59 Q129.881 702.173 124.07 702.173 Q118.26 702.173 115.182 697.59 Q112.126 692.983 112.126 684.257 Q112.126 675.507 115.182 670.923 Q118.26 666.317 124.07 666.317 Z\" fill=\"#000000\" fill-rule=\"evenodd\" fill-opacity=\"1\" /><path clip-path=\"url(#clip470)\" d=\"M66.5939 440.071 L54.7884 458.52 L66.5939 458.52 L66.5939 440.071 M65.367 435.997 L71.2466 435.997 L71.2466 458.52 L76.1772 458.52 L76.1772 462.409 L71.2466 462.409 L71.2466 470.557 L66.5939 470.557 L66.5939 462.409 L50.9921 462.409 L50.9921 457.895 L65.367 435.997 Z\" fill=\"#000000\" fill-rule=\"evenodd\" fill-opacity=\"1\" /><path clip-path=\"url(#clip470)\" d=\"M93.9086 439.076 Q90.2975 439.076 88.4688 442.64 Q86.6632 446.182 86.6632 453.312 Q86.6632 460.418 88.4688 463.983 Q90.2975 467.525 93.9086 467.525 Q97.5428 467.525 99.3483 463.983 Q101.177 460.418 101.177 453.312 Q101.177 446.182 99.3483 442.64 Q97.5428 439.076 93.9086 439.076 M93.9086 435.372 Q99.7187 435.372 102.774 439.978 Q105.853 444.562 105.853 453.312 Q105.853 462.038 102.774 466.645 Q99.7187 471.228 93.9086 471.228 Q88.0984 471.228 85.0197 466.645 Q81.9642 462.038 81.9642 453.312 Q81.9642 444.562 85.0197 439.978 Q88.0984 435.372 93.9086 435.372 Z\" fill=\"#000000\" fill-rule=\"evenodd\" fill-opacity=\"1\" /><path clip-path=\"url(#clip470)\" d=\"M124.07 439.076 Q120.459 439.076 118.631 442.64 Q116.825 446.182 116.825 453.312 Q116.825 460.418 118.631 463.983 Q120.459 467.525 124.07 467.525 Q127.705 467.525 129.51 463.983 Q131.339 460.418 131.339 453.312 Q131.339 446.182 129.51 442.64 Q127.705 439.076 124.07 439.076 M124.07 435.372 Q129.881 435.372 132.936 439.978 Q136.015 444.562 136.015 453.312 Q136.015 462.038 132.936 466.645 Q129.881 471.228 124.07 471.228 Q118.26 471.228 115.182 466.645 Q112.126 462.038 112.126 453.312 Q112.126 444.562 115.182 439.978 Q118.26 435.372 124.07 435.372 Z\" fill=\"#000000\" fill-rule=\"evenodd\" fill-opacity=\"1\" /><path clip-path=\"url(#clip470)\" d=\"M53.793 205.052 L72.1494 205.052 L72.1494 208.987 L58.0754 208.987 L58.0754 217.459 Q59.0939 217.112 60.1124 216.95 Q61.131 216.765 62.1495 216.765 Q67.9365 216.765 71.3161 219.936 Q74.6957 223.107 74.6957 228.524 Q74.6957 234.103 71.2235 237.205 Q67.7513 240.283 61.4319 240.283 Q59.256 240.283 56.9875 239.913 Q54.7421 239.543 52.3347 238.802 L52.3347 234.103 Q54.418 235.237 56.6402 235.793 Q58.8625 236.348 61.3393 236.348 Q65.3439 236.348 67.6819 234.242 Q70.0198 232.135 70.0198 228.524 Q70.0198 224.913 67.6819 222.807 Q65.3439 220.7 61.3393 220.7 Q59.4643 220.7 57.5893 221.117 Q55.7375 221.533 53.793 222.413 L53.793 205.052 Z\" fill=\"#000000\" fill-rule=\"evenodd\" fill-opacity=\"1\" /><path clip-path=\"url(#clip470)\" d=\"M93.9086 208.131 Q90.2975 208.131 88.4688 211.695 Q86.6632 215.237 86.6632 222.367 Q86.6632 229.473 88.4688 233.038 Q90.2975 236.58 93.9086 236.58 Q97.5428 236.58 99.3483 233.038 Q101.177 229.473 101.177 222.367 Q101.177 215.237 99.3483 211.695 Q97.5428 208.131 93.9086 208.131 M93.9086 204.427 Q99.7187 204.427 102.774 209.033 Q105.853 213.617 105.853 222.367 Q105.853 231.094 102.774 235.7 Q99.7187 240.283 93.9086 240.283 Q88.0984 240.283 85.0197 235.7 Q81.9642 231.094 81.9642 222.367 Q81.9642 213.617 85.0197 209.033 Q88.0984 204.427 93.9086 204.427 Z\" fill=\"#000000\" fill-rule=\"evenodd\" fill-opacity=\"1\" /><path clip-path=\"url(#clip470)\" d=\"M124.07 208.131 Q120.459 208.131 118.631 211.695 Q116.825 215.237 116.825 222.367 Q116.825 229.473 118.631 233.038 Q120.459 236.58 124.07 236.58 Q127.705 236.58 129.51 233.038 Q131.339 229.473 131.339 222.367 Q131.339 215.237 129.51 211.695 Q127.705 208.131 124.07 208.131 M124.07 204.427 Q129.881 204.427 132.936 209.033 Q136.015 213.617 136.015 222.367 Q136.015 231.094 132.936 235.7 Q129.881 240.283 124.07 240.283 Q118.26 240.283 115.182 235.7 Q112.126 231.094 112.126 222.367 Q112.126 213.617 115.182 209.033 Q118.26 204.427 124.07 204.427 Z\" fill=\"#000000\" fill-rule=\"evenodd\" fill-opacity=\"1\" /><circle clip-path=\"url(#clip472)\" cx=\"327.248\" cy=\"1233.49\" r=\"14.4\" fill=\"#009af9\" fill-rule=\"evenodd\" fill-opacity=\"1\" stroke=\"#000000\" stroke-opacity=\"1\" stroke-width=\"3.2\"/>\n",
       "<circle clip-path=\"url(#clip472)\" cx=\"420.761\" cy=\"1238.96\" r=\"14.4\" fill=\"#009af9\" fill-rule=\"evenodd\" fill-opacity=\"1\" stroke=\"#000000\" stroke-opacity=\"1\" stroke-width=\"3.2\"/>\n",
       "<circle clip-path=\"url(#clip472)\" cx=\"514.275\" cy=\"1271.99\" r=\"14.4\" fill=\"#009af9\" fill-rule=\"evenodd\" fill-opacity=\"1\" stroke=\"#000000\" stroke-opacity=\"1\" stroke-width=\"3.2\"/>\n",
       "<circle clip-path=\"url(#clip472)\" cx=\"607.789\" cy=\"1333.65\" r=\"14.4\" fill=\"#009af9\" fill-rule=\"evenodd\" fill-opacity=\"1\" stroke=\"#000000\" stroke-opacity=\"1\" stroke-width=\"3.2\"/>\n",
       "<circle clip-path=\"url(#clip472)\" cx=\"701.303\" cy=\"1285.74\" r=\"14.4\" fill=\"#009af9\" fill-rule=\"evenodd\" fill-opacity=\"1\" stroke=\"#000000\" stroke-opacity=\"1\" stroke-width=\"3.2\"/>\n",
       "<circle clip-path=\"url(#clip472)\" cx=\"794.817\" cy=\"1370.41\" r=\"14.4\" fill=\"#009af9\" fill-rule=\"evenodd\" fill-opacity=\"1\" stroke=\"#000000\" stroke-opacity=\"1\" stroke-width=\"3.2\"/>\n",
       "<circle clip-path=\"url(#clip472)\" cx=\"888.33\" cy=\"1344.7\" r=\"14.4\" fill=\"#009af9\" fill-rule=\"evenodd\" fill-opacity=\"1\" stroke=\"#000000\" stroke-opacity=\"1\" stroke-width=\"3.2\"/>\n",
       "<circle clip-path=\"url(#clip472)\" cx=\"981.844\" cy=\"1411.72\" r=\"14.4\" fill=\"#009af9\" fill-rule=\"evenodd\" fill-opacity=\"1\" stroke=\"#000000\" stroke-opacity=\"1\" stroke-width=\"3.2\"/>\n",
       "<circle clip-path=\"url(#clip472)\" cx=\"1075.36\" cy=\"1445.72\" r=\"14.4\" fill=\"#009af9\" fill-rule=\"evenodd\" fill-opacity=\"1\" stroke=\"#000000\" stroke-opacity=\"1\" stroke-width=\"3.2\"/>\n",
       "<circle clip-path=\"url(#clip472)\" cx=\"1168.87\" cy=\"1414.23\" r=\"14.4\" fill=\"#009af9\" fill-rule=\"evenodd\" fill-opacity=\"1\" stroke=\"#000000\" stroke-opacity=\"1\" stroke-width=\"3.2\"/>\n",
       "<circle clip-path=\"url(#clip472)\" cx=\"1262.39\" cy=\"1404.37\" r=\"14.4\" fill=\"#009af9\" fill-rule=\"evenodd\" fill-opacity=\"1\" stroke=\"#000000\" stroke-opacity=\"1\" stroke-width=\"3.2\"/>\n",
       "<circle clip-path=\"url(#clip472)\" cx=\"1355.9\" cy=\"1369.38\" r=\"14.4\" fill=\"#009af9\" fill-rule=\"evenodd\" fill-opacity=\"1\" stroke=\"#000000\" stroke-opacity=\"1\" stroke-width=\"3.2\"/>\n",
       "<circle clip-path=\"url(#clip472)\" cx=\"1449.41\" cy=\"1333.57\" r=\"14.4\" fill=\"#009af9\" fill-rule=\"evenodd\" fill-opacity=\"1\" stroke=\"#000000\" stroke-opacity=\"1\" stroke-width=\"3.2\"/>\n",
       "<circle clip-path=\"url(#clip472)\" cx=\"1542.93\" cy=\"1312.81\" r=\"14.4\" fill=\"#009af9\" fill-rule=\"evenodd\" fill-opacity=\"1\" stroke=\"#000000\" stroke-opacity=\"1\" stroke-width=\"3.2\"/>\n",
       "<circle clip-path=\"url(#clip472)\" cx=\"1636.44\" cy=\"1350.34\" r=\"14.4\" fill=\"#009af9\" fill-rule=\"evenodd\" fill-opacity=\"1\" stroke=\"#000000\" stroke-opacity=\"1\" stroke-width=\"3.2\"/>\n",
       "<circle clip-path=\"url(#clip472)\" cx=\"1729.95\" cy=\"1296.46\" r=\"14.4\" fill=\"#009af9\" fill-rule=\"evenodd\" fill-opacity=\"1\" stroke=\"#000000\" stroke-opacity=\"1\" stroke-width=\"3.2\"/>\n",
       "<circle clip-path=\"url(#clip472)\" cx=\"1823.47\" cy=\"1223.45\" r=\"14.4\" fill=\"#009af9\" fill-rule=\"evenodd\" fill-opacity=\"1\" stroke=\"#000000\" stroke-opacity=\"1\" stroke-width=\"3.2\"/>\n",
       "<circle clip-path=\"url(#clip472)\" cx=\"1916.98\" cy=\"1224.26\" r=\"14.4\" fill=\"#009af9\" fill-rule=\"evenodd\" fill-opacity=\"1\" stroke=\"#000000\" stroke-opacity=\"1\" stroke-width=\"3.2\"/>\n",
       "<circle clip-path=\"url(#clip472)\" cx=\"2010.5\" cy=\"1160.41\" r=\"14.4\" fill=\"#009af9\" fill-rule=\"evenodd\" fill-opacity=\"1\" stroke=\"#000000\" stroke-opacity=\"1\" stroke-width=\"3.2\"/>\n",
       "<circle clip-path=\"url(#clip472)\" cx=\"2104.01\" cy=\"1125.97\" r=\"14.4\" fill=\"#009af9\" fill-rule=\"evenodd\" fill-opacity=\"1\" stroke=\"#000000\" stroke-opacity=\"1\" stroke-width=\"3.2\"/>\n",
       "<circle clip-path=\"url(#clip472)\" cx=\"2197.52\" cy=\"1074.79\" r=\"14.4\" fill=\"#009af9\" fill-rule=\"evenodd\" fill-opacity=\"1\" stroke=\"#000000\" stroke-opacity=\"1\" stroke-width=\"3.2\"/>\n",
       "<polyline clip-path=\"url(#clip472)\" style=\"stroke:#e26f46; stroke-linecap:round; stroke-linejoin:round; stroke-width:4; stroke-opacity:1; fill:none\" points=\"327.248,1220.01 420.761,1256.97 514.275,1289.3 607.789,1317.01 701.303,1340.11 794.817,1358.58 888.33,1372.44 981.844,1381.68 1075.36,1386.29 1168.87,1386.29 1262.39,1381.68 1355.9,1372.44 1449.41,1358.58 1542.93,1340.11 1636.44,1317.01 1729.95,1289.3 1823.47,1256.97 1916.98,1220.01 2010.5,1178.44 2104.01,1132.25 2197.52,1081.45 \"/>\n",
       "<polyline clip-path=\"url(#clip472)\" style=\"stroke:#3da44d; stroke-linecap:round; stroke-linejoin:round; stroke-width:4; stroke-opacity:1; fill:none\" points=\"233.734,1056.75 243.085,1097.55 252.437,1131.51 261.788,1159.58 271.139,1182.62 280.491,1201.38 289.842,1216.54 299.194,1228.68 308.545,1238.32 317.896,1245.92 327.248,1251.88 336.599,1256.53 345.95,1260.16 355.302,1263.03 364.653,1265.35 374.005,1267.28 383.356,1268.98 392.707,1270.56 402.059,1272.12 411.41,1273.72 420.761,1275.42 430.113,1277.25 439.464,1279.25 448.816,1281.43 458.167,1283.78 467.518,1286.3 476.87,1288.99 486.221,1291.83 495.572,1294.79 504.924,1297.85 514.275,1301 523.627,1304.21 532.978,1307.44 542.329,1310.68 551.681,1313.9 561.032,1317.08 570.383,1320.2 579.735,1323.23 589.086,1326.16 598.438,1328.97 607.789,1331.65 617.14,1334.19 626.492,1336.58 635.843,1338.81 645.194,1340.88 654.546,1342.79 663.897,1344.54 673.249,1346.12 682.6,1347.55 691.951,1348.82 701.303,1349.95 710.654,1350.94 720.006,1351.8 729.357,1352.54 738.708,1353.17 748.06,1353.71 757.411,1354.16 766.762,1354.54 776.114,1354.85 785.465,1355.12 794.817,1355.35 804.168,1355.55 813.519,1355.74 822.871,1355.92 832.222,1356.11 841.573,1356.31 850.925,1356.53 860.276,1356.79 869.628,1357.08 878.979,1357.42 888.33,1357.8 897.682,1358.23 907.033,1358.71 916.384,1359.25 925.736,1359.84 935.087,1360.49 944.439,1361.19 953.79,1361.94 963.141,1362.74 972.493,1363.58 981.844,1364.46 991.195,1365.37 1000.55,1366.31 1009.9,1367.27 1019.25,1368.25 1028.6,1369.23 1037.95,1370.21 1047.3,1371.17 1056.66,1372.13 1066.01,1373.05 1075.36,1373.94 1084.71,1374.79 1094.06,1375.59 1103.41,1376.33 1112.76,1377.01 1122.11,1377.62 1131.47,1378.14 1140.82,1378.59 1150.17,1378.95 1159.52,1379.21 1168.87,1379.38 1178.22,1379.45 1187.57,1379.41 1196.93,1379.27 1206.28,1379.02 1215.63,1378.67 1224.98,1378.22 1234.33,1377.66 1243.68,1376.99 1253.03,1376.23 1262.39,1375.38 1271.74,1374.44 1281.09,1373.4 1290.44,1372.29 1299.79,1371.11 1309.14,1369.85 1318.49,1368.54 1327.85,1367.17 1337.2,1365.76 1346.55,1364.31 1355.9,1362.82 1365.25,1361.32 1374.6,1359.8 1383.95,1358.27 1393.3,1356.74 1402.66,1355.22 1412.01,1353.71 1421.36,1352.22 1430.71,1350.76 1440.06,1349.33 1449.41,1347.93 1458.76,1346.57 1468.12,1345.25 1477.47,1343.98 1486.82,1342.74 1496.17,1341.55 1505.52,1340.4 1514.87,1339.29 1524.22,1338.22 1533.58,1337.18 1542.93,1336.16 1552.28,1335.15 1561.63,1334.16 1570.98,1333.17 1580.33,1332.17 1589.68,1331.15 1599.03,1330.1 1608.39,1329 1617.74,1327.85 1627.09,1326.62 1636.44,1325.31 1645.79,1323.9 1655.14,1322.37 1664.49,1320.72 1673.85,1318.92 1683.2,1316.97 1692.55,1314.84 1701.9,1312.53 1711.25,1310.03 1720.6,1307.32 1729.95,1304.4 1739.31,1301.26 1748.66,1297.9 1758.01,1294.3 1767.36,1290.48 1776.71,1286.42 1786.06,1282.15 1795.41,1277.65 1804.77,1272.95 1814.12,1268.06 1823.47,1262.99 1832.82,1257.77 1842.17,1252.41 1851.52,1246.94 1860.87,1241.4 1870.22,1235.81 1879.58,1230.22 1888.93,1224.65 1898.28,1219.16 1907.63,1213.79 1916.98,1208.58 1926.33,1203.58 1935.68,1198.83 1945.04,1194.39 1954.39,1190.3 1963.74,1186.6 1973.09,1183.33 1982.44,1180.52 1991.79,1178.21 2001.14,1176.42 2010.5,1175.16 2019.85,1174.43 2029.2,1174.21 2038.55,1174.48 2047.9,1175.17 2057.25,1176.23 2066.6,1177.55 2075.96,1179 2085.31,1180.43 2094.66,1181.64 2104.01,1182.38 2113.36,1182.37 2122.71,1181.27 2132.06,1178.68 2141.41,1174.15 2150.77,1167.13 2160.12,1157.03 2169.47,1143.14 2178.82,1124.67 2188.17,1100.74 2197.52,1070.33 2206.87,1032.34 2216.23,985.486 2225.58,928.383 2234.93,859.471 2244.28,777.026 2253.63,679.144 2262.98,563.724 2272.33,428.455 2281.69,270.799 2291.04,87.9763 \"/>\n",
       "<path clip-path=\"url(#clip470)\" d=\"M244.706 302.578 L683.89 302.578 L683.89 95.2176 L244.706 95.2176  Z\" fill=\"#ffffff\" fill-rule=\"evenodd\" fill-opacity=\"1\"/>\n",
       "<polyline clip-path=\"url(#clip470)\" style=\"stroke:#000000; stroke-linecap:round; stroke-linejoin:round; stroke-width:4; stroke-opacity:1; fill:none\" points=\"244.706,302.578 683.89,302.578 683.89,95.2176 244.706,95.2176 244.706,302.578 \"/>\n",
       "<circle clip-path=\"url(#clip470)\" cx=\"341.628\" cy=\"147.058\" r=\"23.04\" fill=\"#009af9\" fill-rule=\"evenodd\" fill-opacity=\"1\" stroke=\"#000000\" stroke-opacity=\"1\" stroke-width=\"5.12\"/>\n",
       "<path clip-path=\"url(#clip470)\" d=\"M454.568 132.949 Q449.476 132.949 446.466 136.745 Q443.48 140.541 443.48 147.092 Q443.48 153.62 446.466 157.416 Q449.476 161.213 454.568 161.213 Q459.661 161.213 462.624 157.416 Q465.61 153.62 465.61 147.092 Q465.61 140.541 462.624 136.745 Q459.661 132.949 454.568 132.949 M454.568 129.153 Q461.837 129.153 466.189 134.037 Q470.54 138.898 470.54 147.092 Q470.54 155.264 466.189 160.148 Q461.837 165.009 454.568 165.009 Q447.277 165.009 442.902 160.148 Q438.55 155.287 438.55 147.092 Q438.55 138.898 442.902 134.037 Q447.277 129.153 454.568 129.153 Z\" fill=\"#000000\" fill-rule=\"evenodd\" fill-opacity=\"1\" /><path clip-path=\"url(#clip470)\" d=\"M496.281 151.398 Q496.281 146.699 494.337 144.037 Q492.415 141.352 489.036 141.352 Q485.656 141.352 483.712 144.037 Q481.79 146.699 481.79 151.398 Q481.79 156.097 483.712 158.782 Q485.656 161.444 489.036 161.444 Q492.415 161.444 494.337 158.782 Q496.281 156.097 496.281 151.398 M481.79 142.347 Q483.133 140.032 485.17 138.921 Q487.23 137.787 490.077 137.787 Q494.8 137.787 497.739 141.537 Q500.702 145.287 500.702 151.398 Q500.702 157.509 497.739 161.259 Q494.8 165.009 490.077 165.009 Q487.23 165.009 485.17 163.898 Q483.133 162.763 481.79 160.449 L481.79 164.338 L477.508 164.338 L477.508 128.319 L481.79 128.319 L481.79 142.347 Z\" fill=\"#000000\" fill-rule=\"evenodd\" fill-opacity=\"1\" /><path clip-path=\"url(#clip470)\" d=\"M524.29 139.176 L524.29 143.203 Q522.485 142.277 520.54 141.815 Q518.596 141.352 516.512 141.352 Q513.341 141.352 511.744 142.324 Q510.17 143.296 510.17 145.24 Q510.17 146.722 511.304 147.578 Q512.438 148.412 515.864 149.176 L517.323 149.5 Q521.86 150.472 523.758 152.254 Q525.679 154.014 525.679 157.185 Q525.679 160.796 522.809 162.902 Q519.961 165.009 514.961 165.009 Q512.878 165.009 510.61 164.592 Q508.364 164.199 505.864 163.388 L505.864 158.99 Q508.225 160.217 510.517 160.842 Q512.809 161.444 515.054 161.444 Q518.063 161.444 519.684 160.426 Q521.304 159.384 521.304 157.509 Q521.304 155.773 520.123 154.847 Q518.966 153.921 515.008 153.064 L513.526 152.717 Q509.568 151.884 507.809 150.171 Q506.049 148.435 506.049 145.426 Q506.049 141.768 508.642 139.778 Q511.235 137.787 516.003 137.787 Q518.364 137.787 520.448 138.134 Q522.531 138.481 524.29 139.176 Z\" fill=\"#000000\" fill-rule=\"evenodd\" fill-opacity=\"1\" /><path clip-path=\"url(#clip470)\" d=\"M554.637 150.31 L554.637 152.393 L535.054 152.393 Q535.332 156.791 537.693 159.106 Q540.077 161.398 544.313 161.398 Q546.767 161.398 549.059 160.796 Q551.373 160.194 553.642 158.99 L553.642 163.018 Q551.35 163.99 548.943 164.5 Q546.535 165.009 544.059 165.009 Q537.855 165.009 534.221 161.398 Q530.61 157.787 530.61 151.629 Q530.61 145.264 534.035 141.537 Q537.484 137.787 543.318 137.787 Q548.549 137.787 551.582 141.166 Q554.637 144.523 554.637 150.31 M550.378 149.06 Q550.332 145.565 548.41 143.481 Q546.512 141.398 543.364 141.398 Q539.799 141.398 537.647 143.412 Q535.517 145.426 535.193 149.083 L550.378 149.06 Z\" fill=\"#000000\" fill-rule=\"evenodd\" fill-opacity=\"1\" /><path clip-path=\"url(#clip470)\" d=\"M576.651 142.393 Q575.933 141.977 575.077 141.791 Q574.244 141.583 573.225 141.583 Q569.614 141.583 567.67 143.944 Q565.748 146.282 565.748 150.68 L565.748 164.338 L561.466 164.338 L561.466 138.412 L565.748 138.412 L565.748 142.44 Q567.091 140.078 569.244 138.944 Q571.396 137.787 574.475 137.787 Q574.915 137.787 575.447 137.856 Q575.98 137.903 576.628 138.018 L576.651 142.393 Z\" fill=\"#000000\" fill-rule=\"evenodd\" fill-opacity=\"1\" /><path clip-path=\"url(#clip470)\" d=\"M578.063 138.412 L582.577 138.412 L590.679 160.171 L598.78 138.412 L603.294 138.412 L593.572 164.338 L587.785 164.338 L578.063 138.412 Z\" fill=\"#000000\" fill-rule=\"evenodd\" fill-opacity=\"1\" /><path clip-path=\"url(#clip470)\" d=\"M631.35 150.31 L631.35 152.393 L611.767 152.393 Q612.044 156.791 614.405 159.106 Q616.79 161.398 621.026 161.398 Q623.479 161.398 625.771 160.796 Q628.086 160.194 630.354 158.99 L630.354 163.018 Q628.063 163.99 625.655 164.5 Q623.248 165.009 620.771 165.009 Q614.567 165.009 610.933 161.398 Q607.322 157.787 607.322 151.629 Q607.322 145.264 610.748 141.537 Q614.197 137.787 620.03 137.787 Q625.262 137.787 628.294 141.166 Q631.35 144.523 631.35 150.31 M627.09 149.06 Q627.044 145.565 625.123 143.481 Q623.225 141.398 620.077 141.398 Q616.512 141.398 614.359 143.412 Q612.229 145.426 611.905 149.083 L627.09 149.06 Z\" fill=\"#000000\" fill-rule=\"evenodd\" fill-opacity=\"1\" /><path clip-path=\"url(#clip470)\" d=\"M655.401 142.347 L655.401 128.319 L659.66 128.319 L659.66 164.338 L655.401 164.338 L655.401 160.449 Q654.058 162.763 651.998 163.898 Q649.961 165.009 647.09 165.009 Q642.391 165.009 639.428 161.259 Q636.489 157.509 636.489 151.398 Q636.489 145.287 639.428 141.537 Q642.391 137.787 647.09 137.787 Q649.961 137.787 651.998 138.921 Q654.058 140.032 655.401 142.347 M640.887 151.398 Q640.887 156.097 642.808 158.782 Q644.752 161.444 648.132 161.444 Q651.512 161.444 653.456 158.782 Q655.401 156.097 655.401 151.398 Q655.401 146.699 653.456 144.037 Q651.512 141.352 648.132 141.352 Q644.752 141.352 642.808 144.037 Q640.887 146.699 640.887 151.398 Z\" fill=\"#000000\" fill-rule=\"evenodd\" fill-opacity=\"1\" /><polyline clip-path=\"url(#clip470)\" style=\"stroke:#e26f46; stroke-linecap:round; stroke-linejoin:round; stroke-width:4; stroke-opacity:1; fill:none\" points=\"268.937,198.898 414.319,198.898 \"/>\n",
       "<path clip-path=\"url(#clip470)\" d=\"M438.55 181.618 L467.786 181.618 L467.786 185.553 L455.517 185.553 L455.517 216.178 L450.818 216.178 L450.818 185.553 L438.55 185.553 L438.55 181.618 Z\" fill=\"#000000\" fill-rule=\"evenodd\" fill-opacity=\"1\" /><path clip-path=\"url(#clip470)\" d=\"M480.17 194.233 Q479.452 193.817 478.596 193.631 Q477.763 193.423 476.744 193.423 Q473.133 193.423 471.189 195.784 Q469.267 198.122 469.267 202.52 L469.267 216.178 L464.985 216.178 L464.985 190.252 L469.267 190.252 L469.267 194.28 Q470.61 191.918 472.763 190.784 Q474.915 189.627 477.994 189.627 Q478.434 189.627 478.966 189.696 Q479.499 189.743 480.147 189.858 L480.17 194.233 Z\" fill=\"#000000\" fill-rule=\"evenodd\" fill-opacity=\"1\" /><path clip-path=\"url(#clip470)\" d=\"M484.198 205.946 L484.198 190.252 L488.457 190.252 L488.457 205.784 Q488.457 209.465 489.892 211.316 Q491.327 213.145 494.198 213.145 Q497.647 213.145 499.637 210.946 Q501.651 208.747 501.651 204.951 L501.651 190.252 L505.911 190.252 L505.911 216.178 L501.651 216.178 L501.651 212.196 Q500.1 214.557 498.04 215.715 Q496.003 216.849 493.295 216.849 Q488.827 216.849 486.513 214.071 Q484.198 211.293 484.198 205.946 M494.915 189.627 L494.915 189.627 Z\" fill=\"#000000\" fill-rule=\"evenodd\" fill-opacity=\"1\" /><path clip-path=\"url(#clip470)\" d=\"M536.859 202.15 L536.859 204.233 L517.276 204.233 Q517.554 208.631 519.915 210.946 Q522.299 213.238 526.535 213.238 Q528.989 213.238 531.281 212.636 Q533.596 212.034 535.864 210.83 L535.864 214.858 Q533.572 215.83 531.165 216.34 Q528.758 216.849 526.281 216.849 Q520.077 216.849 516.443 213.238 Q512.832 209.627 512.832 203.469 Q512.832 197.104 516.258 193.377 Q519.707 189.627 525.54 189.627 Q530.772 189.627 533.804 193.006 Q536.859 196.363 536.859 202.15 M532.6 200.9 Q532.554 197.405 530.633 195.321 Q528.735 193.238 525.586 193.238 Q522.022 193.238 519.869 195.252 Q517.739 197.266 517.415 200.923 L532.6 200.9 Z\" fill=\"#000000\" fill-rule=\"evenodd\" fill-opacity=\"1\" /><polyline clip-path=\"url(#clip470)\" style=\"stroke:#3da44d; stroke-linecap:round; stroke-linejoin:round; stroke-width:4; stroke-opacity:1; fill:none\" points=\"268.937,250.738 414.319,250.738 \"/>\n",
       "<path clip-path=\"url(#clip470)\" d=\"M438.55 233.458 L458.411 233.458 L458.411 237.393 L443.226 237.393 L443.226 247.578 L456.929 247.578 L456.929 251.513 L443.226 251.513 L443.226 268.018 L438.55 268.018 L438.55 233.458 Z\" fill=\"#000000\" fill-rule=\"evenodd\" fill-opacity=\"1\" /><path clip-path=\"url(#clip470)\" d=\"M462.184 242.092 L466.443 242.092 L466.443 268.018 L462.184 268.018 L462.184 242.092 M462.184 231.999 L466.443 231.999 L466.443 237.393 L462.184 237.393 L462.184 231.999 Z\" fill=\"#000000\" fill-rule=\"evenodd\" fill-opacity=\"1\" /><path clip-path=\"url(#clip470)\" d=\"M479.568 234.731 L479.568 242.092 L488.341 242.092 L488.341 245.402 L479.568 245.402 L479.568 259.476 Q479.568 262.647 480.425 263.55 Q481.304 264.453 483.966 264.453 L488.341 264.453 L488.341 268.018 L483.966 268.018 Q479.036 268.018 477.161 266.189 Q475.286 264.337 475.286 259.476 L475.286 245.402 L472.161 245.402 L472.161 242.092 L475.286 242.092 L475.286 234.731 L479.568 234.731 Z\" fill=\"#000000\" fill-rule=\"evenodd\" fill-opacity=\"1\" /><path clip-path=\"url(#clip470)\" d=\"M498.156 234.731 L498.156 242.092 L506.929 242.092 L506.929 245.402 L498.156 245.402 L498.156 259.476 Q498.156 262.647 499.012 263.55 Q499.892 264.453 502.554 264.453 L506.929 264.453 L506.929 268.018 L502.554 268.018 Q497.624 268.018 495.749 266.189 Q493.874 264.337 493.874 259.476 L493.874 245.402 L490.749 245.402 L490.749 242.092 L493.874 242.092 L493.874 234.731 L498.156 234.731 Z\" fill=\"#000000\" fill-rule=\"evenodd\" fill-opacity=\"1\" /><path clip-path=\"url(#clip470)\" d=\"M534.707 253.99 L534.707 256.073 L515.124 256.073 Q515.401 260.471 517.762 262.786 Q520.147 265.078 524.383 265.078 Q526.836 265.078 529.128 264.476 Q531.443 263.874 533.711 262.67 L533.711 266.698 Q531.42 267.67 529.012 268.18 Q526.605 268.689 524.128 268.689 Q517.924 268.689 514.29 265.078 Q510.679 261.467 510.679 255.309 Q510.679 248.944 514.105 245.217 Q517.554 241.467 523.387 241.467 Q528.619 241.467 531.651 244.846 Q534.707 248.203 534.707 253.99 M530.447 252.74 Q530.401 249.245 528.48 247.161 Q526.582 245.078 523.434 245.078 Q519.869 245.078 517.716 247.092 Q515.586 249.106 515.262 252.763 L530.447 252.74 Z\" fill=\"#000000\" fill-rule=\"evenodd\" fill-opacity=\"1\" /><path clip-path=\"url(#clip470)\" d=\"M558.758 246.027 L558.758 231.999 L563.017 231.999 L563.017 268.018 L558.758 268.018 L558.758 264.129 Q557.415 266.443 555.355 267.578 Q553.318 268.689 550.447 268.689 Q545.748 268.689 542.785 264.939 Q539.846 261.189 539.846 255.078 Q539.846 248.967 542.785 245.217 Q545.748 241.467 550.447 241.467 Q553.318 241.467 555.355 242.601 Q557.415 243.712 558.758 246.027 M544.244 255.078 Q544.244 259.777 546.165 262.462 Q548.109 265.124 551.489 265.124 Q554.869 265.124 556.813 262.462 Q558.758 259.777 558.758 255.078 Q558.758 250.379 556.813 247.717 Q554.869 245.032 551.489 245.032 Q548.109 245.032 546.165 247.717 Q544.244 250.379 544.244 255.078 Z\" fill=\"#000000\" fill-rule=\"evenodd\" fill-opacity=\"1\" /></svg>\n"
      ]
     },
     "execution_count": 101,
     "metadata": {},
     "output_type": "execute_result"
    }
   ],
   "source": [
    "x_fit  = -11:0.1:11\n",
    "collect(x_fit)\n",
    "\n",
    "\n",
    "using Polynomials\n",
    "line_fit =fit(x,y_observed,10)\n",
    "fit_coeffs = coeffs(line_fit)\n",
    "y_fitted = line_fit.(x_fit)\n",
    "\n",
    "using Plots\n",
    "scatter(x,y_observed,label = \"Observed\")\n",
    "plot!(x,y_true,label = \"True\" )\n",
    "plot!(x_fit,y_fitted4,label = \"Fitted\")\n",
    "\n",
    "\n"
   ]
  },
  {
   "cell_type": "markdown",
   "id": "bbcb4ef4",
   "metadata": {},
   "source": [
    "3. What do you observe in the plot? What is this phenomenon called?"
   ]
  },
  {
   "cell_type": "markdown",
   "id": "49a085b1",
   "metadata": {},
   "source": [
    "The fit line went over the scatter of observed data points. This phenomenon is called \"overfitting\". "
   ]
  }
 ],
 "metadata": {
  "kernelspec": {
   "display_name": "Julia 1.8.5",
   "language": "julia",
   "name": "julia-1.8"
  },
  "language_info": {
   "file_extension": ".jl",
   "mimetype": "application/julia",
   "name": "julia",
   "version": "1.8.5"
  }
 },
 "nbformat": 4,
 "nbformat_minor": 5
}
