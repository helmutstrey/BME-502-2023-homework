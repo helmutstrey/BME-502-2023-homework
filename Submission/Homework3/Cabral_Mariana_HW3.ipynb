{
 "cells": [
  {
   "cell_type": "markdown",
   "id": "1fbe377b",
   "metadata": {},
   "source": [
    "<h1>HW3</h1>"
   ]
  },
  {
   "cell_type": "markdown",
   "id": "79813e24",
   "metadata": {},
   "source": [
    "# Question 1\n",
    "### (Bayes Theorem) Read the following example and complete the exercises \n",
    "\n",
    "Trolls Under the Bridge\n",
    "1. Trolls(T) are bad\n",
    "2. Gnomes(G) are benign\n",
    "3. Every bridge has 5 creatures under it\n",
    "\n",
    "Below are the probabilities of what creatures live under a bridge:\n",
    "1. TTGGG: 20% (E1)\n",
    "2. TGGGG: 20% (E2)\n",
    "3. GGGGG: 60% (E3)\n",
    "\n",
    "A knight is approaching a bridge and he wants to know his chance of crossing the bridge safely."
   ]
  },
  {
   "cell_type": "markdown",
   "id": "425f8583",
   "metadata": {},
   "source": [
    "### 1.1 \n",
    "\n",
    "#### What is the chance of the knight crossing the bridge safely?\n"
   ]
  },
  {
   "cell_type": "code",
   "execution_count": 51,
   "id": "29bea308",
   "metadata": {},
   "outputs": [
    {
     "name": "stdout",
     "output_type": "stream",
     "text": [
      "P(Crossing the bridge safely)= 0.6\n"
     ]
    }
   ],
   "source": [
    "E3 = 0.6\n",
    "println(\"P(Crossing the bridge safely)= \", \"$E3\")"
   ]
  },
  {
   "cell_type": "markdown",
   "id": "61f687e4",
   "metadata": {},
   "source": [
    "### 1.2\n",
    "\n",
    "#### Before crossing a bridge, a knight captures a troll. “I now have an 80% chance of crossing safely,” he reasons, “since only the case 20% had TTGGG (E1) now have TGGG is still a threat.”\n",
    "\n",
    "#### Do you agree with him? Why?"
   ]
  },
  {
   "cell_type": "markdown",
   "id": "09025213",
   "metadata": {},
   "source": [
    "No, because every time more information is added, the probability changes."
   ]
  },
  {
   "cell_type": "markdown",
   "id": "c1533b67",
   "metadata": {},
   "source": [
    "### 1.3\n",
    "\n",
    "#### Now he wants to use Bayes' theorem to calculate his chance of crossing safely given a troll captured \n",
    "\n",
    "\\begin{equation*}\n",
    "P(A|B) = \\frac{P(B|A)P(A)}{P(B)} \\\\\n",
    "P(A|B): Posteior \\\\\n",
    "P(B|A): Likelihood \\\\\n",
    "P(A): Prior \\\\\n",
    "P(B): Marginal Probability \\\\\n",
    "\\end{equation*}\n",
    "\n",
    "#### Given the three events, E1, E2, and E3, which two of the three events does the knight need to consider after a troll was captured?"
   ]
  },
  {
   "cell_type": "markdown",
   "id": "0adb7f0a",
   "metadata": {},
   "source": [
    "Given the three events, E1, E2, and E3, the knight needs to consider only E1 and E2, after a troll was captured."
   ]
  },
  {
   "cell_type": "markdown",
   "id": "e45e8fa6",
   "metadata": {},
   "source": [
    "### 1.4\n",
    "\n",
    "#### Use Bayes' theorem to calculate the probability of the two events in 1.3 (separately) given the troll was captured. "
   ]
  },
  {
   "cell_type": "markdown",
   "id": "5d9c3c0b",
   "metadata": {},
   "source": [
    "Probability of one event given a troll captured: "
   ]
  },
  {
   "cell_type": "code",
   "execution_count": 55,
   "id": "f2f0e7c8",
   "metadata": {},
   "outputs": [
    {
     "name": "stdout",
     "output_type": "stream",
     "text": [
      "P(E1|T)= 66.66666666666666 %\n"
     ]
    }
   ],
   "source": [
    "P_E1 = 0.2 # Probability of E1\n",
    "P_E2 = 0.2 # Probability of E2\n",
    "P_E3 = 0.6 # Probability of E3\n",
    "\n",
    "Likelihood_E1 = 2/5 # Probability of capturing a troll given that TTGGG (E1)\n",
    "Likelihood_E2 = 1/5 # Probability of capturing a troll given that TGGGG (E2)\n",
    "Likelihood_E3 = 0 # Probability of capturing a troll given that GGGGG (E3)\n",
    "\n",
    "Marginal = (P_E1 * Likelihood_E1) + (P_E2 * Likelihood_E2) + (P_E3 * Likelihood_E3) # Probability of capturing a troll\n",
    "\n",
    "Posterior_E1 = ((Likelihood_E1*P_E1)/Marginal)*100\n",
    "println(\"P(E1|T)= \", \"$Posterior_E1\", \" %\")"
   ]
  },
  {
   "cell_type": "markdown",
   "id": "37843aee",
   "metadata": {},
   "source": [
    "Probability of the other event given a troll captured: "
   ]
  },
  {
   "cell_type": "code",
   "execution_count": 56,
   "id": "5db10bc7",
   "metadata": {},
   "outputs": [
    {
     "name": "stdout",
     "output_type": "stream",
     "text": [
      "P(E2|T)= 33.33333333333333 %\n"
     ]
    }
   ],
   "source": [
    "P_E1 = 0.2 # Probability of E1\n",
    "P_E2 = 0.2 # Probability of E2\n",
    "P_E3 = 0.6 # Probability of E3\n",
    "\n",
    "Likelihood_E1 = 2/5 # Probability of capturing a troll given that TTGGG (E1)\n",
    "Likelihood_E2 = 1/5 # Probability of capturing a troll given that TGGGG (E2)\n",
    "Likelihood_E3 = 0 # Probability of capturing a troll given that GGGGG (E3)\n",
    "\n",
    "Marginal = (P_E1 * Likelihood_E1) + (P_E2 * Likelihood_E2) + (P_E3 * Likelihood_E3) # Probability of capturing a troll\n",
    "\n",
    "Posterior_E2 = ((Likelihood_E2*P_E2)/Marginal)*100\n",
    "println(\"P(E2|T)= \", \"$Posterior_E2\", \" %\")"
   ]
  },
  {
   "cell_type": "markdown",
   "id": "f3b7f049",
   "metadata": {},
   "source": [
    "### 1.5\n",
    "\n",
    "#### What is the chance of the knight crossing safely?"
   ]
  },
  {
   "cell_type": "code",
   "execution_count": 57,
   "id": "0f6fd73b",
   "metadata": {},
   "outputs": [
    {
     "name": "stdout",
     "output_type": "stream",
     "text": [
      "The chances of the knight crossing safely are 33.33333333333333 %.\n"
     ]
    }
   ],
   "source": [
    "Posterior_E2 = ((Likelihood_E2*P_E2)/Marginal)*100\n",
    "println(\"The chances of the knight crossing safely are \", \"$Posterior_E2\", \" %.\")"
   ]
  },
  {
   "cell_type": "markdown",
   "id": "7b815ae0",
   "metadata": {},
   "source": [
    "#### Now looking back to 1.1, the probabilities were changed after assimilating data! "
   ]
  },
  {
   "cell_type": "markdown",
   "id": "f1450094",
   "metadata": {},
   "source": [
    "# Question 2\n",
    "### (Polynomial Fitting) Read the following example and complete the exercises \n",
    "\n",
    "Biological data always comes with errors that influence the intepretation of the data significantly. In this question, we will simulate data and see how noises affect the parameter estimation."
   ]
  },
  {
   "cell_type": "code",
   "execution_count": 33,
   "id": "c20822fa",
   "metadata": {},
   "outputs": [
    {
     "name": "stderr",
     "output_type": "stream",
     "text": [
      "\u001b[32m\u001b[1m   Resolving\u001b[22m\u001b[39m package versions...\n",
      "\u001b[32m\u001b[1m  No Changes\u001b[22m\u001b[39m to `C:\\Users\\maria\\.julia\\environments\\v1.8\\Project.toml`\n",
      "\u001b[32m\u001b[1m  No Changes\u001b[22m\u001b[39m to `C:\\Users\\maria\\.julia\\environments\\v1.8\\Manifest.toml`\n"
     ]
    }
   ],
   "source": [
    "import Pkg\n",
    "Pkg.add([\"Distributions\", \"Plots\", \"Polynomials\", \"Random\"])"
   ]
  },
  {
   "cell_type": "code",
   "execution_count": 34,
   "id": "d7d1ca8d",
   "metadata": {},
   "outputs": [],
   "source": [
    "import Distributions as di\n",
    "import Plots\n",
    "import Polynomials\n",
    "import Random"
   ]
  },
  {
   "cell_type": "markdown",
   "id": "a90dd09d",
   "metadata": {},
   "source": [
    "### 2.1\n",
    "\n",
    "1. Generate the independent variable x ranging from -10 to 10 with an increment of 1\n",
    "2. Generate the dependent variable y_true using the equation y_true = x^2 + 3x - 2\n"
   ]
  },
  {
   "cell_type": "code",
   "execution_count": 35,
   "id": "6b0b33c5",
   "metadata": {},
   "outputs": [
    {
     "data": {
      "text/plain": [
       "-10:1:10"
      ]
     },
     "execution_count": 35,
     "metadata": {},
     "output_type": "execute_result"
    }
   ],
   "source": [
    "x = -10:1:10"
   ]
  },
  {
   "cell_type": "code",
   "execution_count": 36,
   "id": "2bafd37c",
   "metadata": {},
   "outputs": [
    {
     "data": {
      "text/plain": [
       "21-element Vector{Int64}:\n",
       " -10\n",
       "  -9\n",
       "  -8\n",
       "  -7\n",
       "  -6\n",
       "  -5\n",
       "  -4\n",
       "  -3\n",
       "  -2\n",
       "  -1\n",
       "   0\n",
       "   1\n",
       "   2\n",
       "   3\n",
       "   4\n",
       "   5\n",
       "   6\n",
       "   7\n",
       "   8\n",
       "   9\n",
       "  10"
      ]
     },
     "execution_count": 36,
     "metadata": {},
     "output_type": "execute_result"
    }
   ],
   "source": [
    "collect(x)"
   ]
  },
  {
   "cell_type": "code",
   "execution_count": 37,
   "id": "2cfa7559",
   "metadata": {},
   "outputs": [
    {
     "data": {
      "text/plain": [
       "21-element Vector{Int64}:\n",
       "  68\n",
       "  52\n",
       "  38\n",
       "  26\n",
       "  16\n",
       "   8\n",
       "   2\n",
       "  -2\n",
       "  -4\n",
       "  -4\n",
       "  -2\n",
       "   2\n",
       "   8\n",
       "  16\n",
       "  26\n",
       "  38\n",
       "  52\n",
       "  68\n",
       "  86\n",
       " 106\n",
       " 128"
      ]
     },
     "execution_count": 37,
     "metadata": {},
     "output_type": "execute_result"
    }
   ],
   "source": [
    "y_true = (x .^2) .+ (3 .*x) .- 2"
   ]
  },
  {
   "cell_type": "markdown",
   "id": "74d2a191",
   "metadata": {},
   "source": [
    "### 2.2\n",
    "\n",
    "1. Generate the Guassian noises with zero mean and a standard deviation of 10\n",
    "\n",
    "2. Add the noises to y_true to obtain y_observed\n"
   ]
  },
  {
   "cell_type": "code",
   "execution_count": 38,
   "id": "7936417a",
   "metadata": {},
   "outputs": [
    {
     "data": {
      "text/plain": [
       "Normal{Float64}(μ=0.0, σ=10.0)"
      ]
     },
     "execution_count": 38,
     "metadata": {},
     "output_type": "execute_result"
    }
   ],
   "source": [
    "using Distributions, Polynomials, Statistics, Plots\n",
    "dataerr = 10.0\n",
    "d = di.Normal(0,dataerr)"
   ]
  },
  {
   "cell_type": "code",
   "execution_count": 39,
   "id": "0e9cce11",
   "metadata": {},
   "outputs": [
    {
     "data": {
      "text/plain": [
       "21-element Vector{Float64}:\n",
       "  82.00604418504447\n",
       "  42.764030321697625\n",
       "  48.13404421758383\n",
       "  31.274139421988444\n",
       "   8.90179810143388\n",
       " -11.706156903449553\n",
       "  -7.682279050126127\n",
       "   5.136988916185966\n",
       " -12.679333324135492\n",
       "  -8.64995894604785\n",
       " -21.375611549819936\n",
       "  -5.7131832752053615\n",
       "   2.307757301107669\n",
       "  14.503546570653423\n",
       "  14.205769276927374\n",
       "  34.27736579315233\n",
       "  54.88982036365656\n",
       "  61.860086735473956\n",
       "  85.10351085122089\n",
       " 108.51678067215269\n",
       " 131.21803562224176"
      ]
     },
     "execution_count": 39,
     "metadata": {},
     "output_type": "execute_result"
    }
   ],
   "source": [
    "y_observed = y_true .+ rand(d,length(x))"
   ]
  },
  {
   "cell_type": "markdown",
   "id": "ecf2e554",
   "metadata": {},
   "source": [
    "### 2.3\n",
    "\n",
    "#### Fit the data (x, y_observed) with a second order polynomial. \n",
    "\n",
    "1. Make a scatter plot of y_observed along x\n",
    "2. Plot a line of y_true along x on the scatter plot\n",
    "3. Plot a line of the fitted polynomial along x on the same plot"
   ]
  },
  {
   "cell_type": "code",
   "execution_count": 40,
   "id": "d39a136b",
   "metadata": {},
   "outputs": [
    {
     "data": {
      "image/svg+xml": [
       "<?xml version=\"1.0\" encoding=\"utf-8\"?>\n",
       "<svg xmlns=\"http://www.w3.org/2000/svg\" xmlns:xlink=\"http://www.w3.org/1999/xlink\" width=\"600\" height=\"400\" viewBox=\"0 0 2400 1600\">\n",
       "<defs>\n",
       "  <clipPath id=\"clip410\">\n",
       "    <rect x=\"0\" y=\"0\" width=\"2400\" height=\"1600\"/>\n",
       "  </clipPath>\n",
       "</defs>\n",
       "<path clip-path=\"url(#clip410)\" d=\"M0 1600 L2400 1600 L2400 0 L0 0  Z\" fill=\"#ffffff\" fill-rule=\"evenodd\" fill-opacity=\"1\"/>\n",
       "<defs>\n",
       "  <clipPath id=\"clip411\">\n",
       "    <rect x=\"480\" y=\"0\" width=\"1681\" height=\"1600\"/>\n",
       "  </clipPath>\n",
       "</defs>\n",
       "<path clip-path=\"url(#clip410)\" d=\"M169.121 1486.45 L2352.76 1486.45 L2352.76 47.2441 L169.121 47.2441  Z\" fill=\"#ffffff\" fill-rule=\"evenodd\" fill-opacity=\"1\"/>\n",
       "<defs>\n",
       "  <clipPath id=\"clip412\">\n",
       "    <rect x=\"169\" y=\"47\" width=\"2185\" height=\"1440\"/>\n",
       "  </clipPath>\n",
       "</defs>\n",
       "<polyline clip-path=\"url(#clip412)\" style=\"stroke:#000000; stroke-linecap:round; stroke-linejoin:round; stroke-width:2; stroke-opacity:0.1; fill:none\" points=\"230.922,1486.45 230.922,47.2441 \"/>\n",
       "<polyline clip-path=\"url(#clip412)\" style=\"stroke:#000000; stroke-linecap:round; stroke-linejoin:round; stroke-width:2; stroke-opacity:0.1; fill:none\" points=\"745.93,1486.45 745.93,47.2441 \"/>\n",
       "<polyline clip-path=\"url(#clip412)\" style=\"stroke:#000000; stroke-linecap:round; stroke-linejoin:round; stroke-width:2; stroke-opacity:0.1; fill:none\" points=\"1260.94,1486.45 1260.94,47.2441 \"/>\n",
       "<polyline clip-path=\"url(#clip412)\" style=\"stroke:#000000; stroke-linecap:round; stroke-linejoin:round; stroke-width:2; stroke-opacity:0.1; fill:none\" points=\"1775.95,1486.45 1775.95,47.2441 \"/>\n",
       "<polyline clip-path=\"url(#clip412)\" style=\"stroke:#000000; stroke-linecap:round; stroke-linejoin:round; stroke-width:2; stroke-opacity:0.1; fill:none\" points=\"2290.95,1486.45 2290.95,47.2441 \"/>\n",
       "<polyline clip-path=\"url(#clip410)\" style=\"stroke:#000000; stroke-linecap:round; stroke-linejoin:round; stroke-width:4; stroke-opacity:1; fill:none\" points=\"169.121,1486.45 2352.76,1486.45 \"/>\n",
       "<polyline clip-path=\"url(#clip410)\" style=\"stroke:#000000; stroke-linecap:round; stroke-linejoin:round; stroke-width:4; stroke-opacity:1; fill:none\" points=\"230.922,1486.45 230.922,1467.55 \"/>\n",
       "<polyline clip-path=\"url(#clip410)\" style=\"stroke:#000000; stroke-linecap:round; stroke-linejoin:round; stroke-width:4; stroke-opacity:1; fill:none\" points=\"745.93,1486.45 745.93,1467.55 \"/>\n",
       "<polyline clip-path=\"url(#clip410)\" style=\"stroke:#000000; stroke-linecap:round; stroke-linejoin:round; stroke-width:4; stroke-opacity:1; fill:none\" points=\"1260.94,1486.45 1260.94,1467.55 \"/>\n",
       "<polyline clip-path=\"url(#clip410)\" style=\"stroke:#000000; stroke-linecap:round; stroke-linejoin:round; stroke-width:4; stroke-opacity:1; fill:none\" points=\"1775.95,1486.45 1775.95,1467.55 \"/>\n",
       "<polyline clip-path=\"url(#clip410)\" style=\"stroke:#000000; stroke-linecap:round; stroke-linejoin:round; stroke-width:4; stroke-opacity:1; fill:none\" points=\"2290.95,1486.45 2290.95,1467.55 \"/>\n",
       "<path clip-path=\"url(#clip410)\" d=\"M184.985 1532.02 L214.661 1532.02 L214.661 1535.95 L184.985 1535.95 L184.985 1532.02 Z\" fill=\"#000000\" fill-rule=\"evenodd\" fill-opacity=\"1\" /><path clip-path=\"url(#clip410)\" d=\"M225.564 1544.91 L233.202 1544.91 L233.202 1518.55 L224.892 1520.21 L224.892 1515.95 L233.156 1514.29 L237.832 1514.29 L237.832 1544.91 L245.471 1544.91 L245.471 1548.85 L225.564 1548.85 L225.564 1544.91 Z\" fill=\"#000000\" fill-rule=\"evenodd\" fill-opacity=\"1\" /><path clip-path=\"url(#clip410)\" d=\"M264.915 1517.37 Q261.304 1517.37 259.475 1520.93 Q257.67 1524.47 257.67 1531.6 Q257.67 1538.71 259.475 1542.27 Q261.304 1545.82 264.915 1545.82 Q268.549 1545.82 270.355 1542.27 Q272.184 1538.71 272.184 1531.6 Q272.184 1524.47 270.355 1520.93 Q268.549 1517.37 264.915 1517.37 M264.915 1513.66 Q270.725 1513.66 273.781 1518.27 Q276.86 1522.85 276.86 1531.6 Q276.86 1540.33 273.781 1544.94 Q270.725 1549.52 264.915 1549.52 Q259.105 1549.52 256.026 1544.94 Q252.971 1540.33 252.971 1531.6 Q252.971 1522.85 256.026 1518.27 Q259.105 1513.66 264.915 1513.66 Z\" fill=\"#000000\" fill-rule=\"evenodd\" fill-opacity=\"1\" /><path clip-path=\"url(#clip410)\" d=\"M715.572 1532.02 L745.248 1532.02 L745.248 1535.95 L715.572 1535.95 L715.572 1532.02 Z\" fill=\"#000000\" fill-rule=\"evenodd\" fill-opacity=\"1\" /><path clip-path=\"url(#clip410)\" d=\"M755.386 1514.29 L773.743 1514.29 L773.743 1518.22 L759.669 1518.22 L759.669 1526.7 Q760.687 1526.35 761.706 1526.19 Q762.724 1526 763.743 1526 Q769.53 1526 772.909 1529.17 Q776.289 1532.34 776.289 1537.76 Q776.289 1543.34 772.817 1546.44 Q769.345 1549.52 763.025 1549.52 Q760.849 1549.52 758.581 1549.15 Q756.335 1548.78 753.928 1548.04 L753.928 1543.34 Q756.011 1544.47 758.234 1545.03 Q760.456 1545.58 762.933 1545.58 Q766.937 1545.58 769.275 1543.48 Q771.613 1541.37 771.613 1537.76 Q771.613 1534.15 769.275 1532.04 Q766.937 1529.94 762.933 1529.94 Q761.058 1529.94 759.183 1530.35 Q757.331 1530.77 755.386 1531.65 L755.386 1514.29 Z\" fill=\"#000000\" fill-rule=\"evenodd\" fill-opacity=\"1\" /><path clip-path=\"url(#clip410)\" d=\"M1260.94 1517.37 Q1257.33 1517.37 1255.5 1520.93 Q1253.69 1524.47 1253.69 1531.6 Q1253.69 1538.71 1255.5 1542.27 Q1257.33 1545.82 1260.94 1545.82 Q1264.57 1545.82 1266.38 1542.27 Q1268.21 1538.71 1268.21 1531.6 Q1268.21 1524.47 1266.38 1520.93 Q1264.57 1517.37 1260.94 1517.37 M1260.94 1513.66 Q1266.75 1513.66 1269.8 1518.27 Q1272.88 1522.85 1272.88 1531.6 Q1272.88 1540.33 1269.8 1544.94 Q1266.75 1549.52 1260.94 1549.52 Q1255.13 1549.52 1252.05 1544.94 Q1248.99 1540.33 1248.99 1531.6 Q1248.99 1522.85 1252.05 1518.27 Q1255.13 1513.66 1260.94 1513.66 Z\" fill=\"#000000\" fill-rule=\"evenodd\" fill-opacity=\"1\" /><path clip-path=\"url(#clip410)\" d=\"M1766.22 1514.29 L1784.58 1514.29 L1784.58 1518.22 L1770.51 1518.22 L1770.51 1526.7 Q1771.53 1526.35 1772.54 1526.19 Q1773.56 1526 1774.58 1526 Q1780.37 1526 1783.75 1529.17 Q1787.13 1532.34 1787.13 1537.76 Q1787.13 1543.34 1783.66 1546.44 Q1780.18 1549.52 1773.86 1549.52 Q1771.69 1549.52 1769.42 1549.15 Q1767.17 1548.78 1764.77 1548.04 L1764.77 1543.34 Q1766.85 1544.47 1769.07 1545.03 Q1771.29 1545.58 1773.77 1545.58 Q1777.78 1545.58 1780.11 1543.48 Q1782.45 1541.37 1782.45 1537.76 Q1782.45 1534.15 1780.11 1532.04 Q1777.78 1529.94 1773.77 1529.94 Q1771.9 1529.94 1770.02 1530.35 Q1768.17 1530.77 1766.22 1531.65 L1766.22 1514.29 Z\" fill=\"#000000\" fill-rule=\"evenodd\" fill-opacity=\"1\" /><path clip-path=\"url(#clip410)\" d=\"M2265.64 1544.91 L2273.28 1544.91 L2273.28 1518.55 L2264.97 1520.21 L2264.97 1515.95 L2273.24 1514.29 L2277.91 1514.29 L2277.91 1544.91 L2285.55 1544.91 L2285.55 1548.85 L2265.64 1548.85 L2265.64 1544.91 Z\" fill=\"#000000\" fill-rule=\"evenodd\" fill-opacity=\"1\" /><path clip-path=\"url(#clip410)\" d=\"M2304.99 1517.37 Q2301.38 1517.37 2299.55 1520.93 Q2297.75 1524.47 2297.75 1531.6 Q2297.75 1538.71 2299.55 1542.27 Q2301.38 1545.82 2304.99 1545.82 Q2308.63 1545.82 2310.43 1542.27 Q2312.26 1538.71 2312.26 1531.6 Q2312.26 1524.47 2310.43 1520.93 Q2308.63 1517.37 2304.99 1517.37 M2304.99 1513.66 Q2310.8 1513.66 2313.86 1518.27 Q2316.94 1522.85 2316.94 1531.6 Q2316.94 1540.33 2313.86 1544.94 Q2310.8 1549.52 2304.99 1549.52 Q2299.18 1549.52 2296.11 1544.94 Q2293.05 1540.33 2293.05 1531.6 Q2293.05 1522.85 2296.11 1518.27 Q2299.18 1513.66 2304.99 1513.66 Z\" fill=\"#000000\" fill-rule=\"evenodd\" fill-opacity=\"1\" /><polyline clip-path=\"url(#clip412)\" style=\"stroke:#000000; stroke-linecap:round; stroke-linejoin:round; stroke-width:2; stroke-opacity:0.1; fill:none\" points=\"169.121,1255.52 2352.76,1255.52 \"/>\n",
       "<polyline clip-path=\"url(#clip412)\" style=\"stroke:#000000; stroke-linecap:round; stroke-linejoin:round; stroke-width:2; stroke-opacity:0.1; fill:none\" points=\"169.121,988.589 2352.76,988.589 \"/>\n",
       "<polyline clip-path=\"url(#clip412)\" style=\"stroke:#000000; stroke-linecap:round; stroke-linejoin:round; stroke-width:2; stroke-opacity:0.1; fill:none\" points=\"169.121,721.656 2352.76,721.656 \"/>\n",
       "<polyline clip-path=\"url(#clip412)\" style=\"stroke:#000000; stroke-linecap:round; stroke-linejoin:round; stroke-width:2; stroke-opacity:0.1; fill:none\" points=\"169.121,454.724 2352.76,454.724 \"/>\n",
       "<polyline clip-path=\"url(#clip412)\" style=\"stroke:#000000; stroke-linecap:round; stroke-linejoin:round; stroke-width:2; stroke-opacity:0.1; fill:none\" points=\"169.121,187.792 2352.76,187.792 \"/>\n",
       "<polyline clip-path=\"url(#clip410)\" style=\"stroke:#000000; stroke-linecap:round; stroke-linejoin:round; stroke-width:4; stroke-opacity:1; fill:none\" points=\"169.121,1486.45 169.121,47.2441 \"/>\n",
       "<polyline clip-path=\"url(#clip410)\" style=\"stroke:#000000; stroke-linecap:round; stroke-linejoin:round; stroke-width:4; stroke-opacity:1; fill:none\" points=\"169.121,1255.52 188.019,1255.52 \"/>\n",
       "<polyline clip-path=\"url(#clip410)\" style=\"stroke:#000000; stroke-linecap:round; stroke-linejoin:round; stroke-width:4; stroke-opacity:1; fill:none\" points=\"169.121,988.589 188.019,988.589 \"/>\n",
       "<polyline clip-path=\"url(#clip410)\" style=\"stroke:#000000; stroke-linecap:round; stroke-linejoin:round; stroke-width:4; stroke-opacity:1; fill:none\" points=\"169.121,721.656 188.019,721.656 \"/>\n",
       "<polyline clip-path=\"url(#clip410)\" style=\"stroke:#000000; stroke-linecap:round; stroke-linejoin:round; stroke-width:4; stroke-opacity:1; fill:none\" points=\"169.121,454.724 188.019,454.724 \"/>\n",
       "<polyline clip-path=\"url(#clip410)\" style=\"stroke:#000000; stroke-linecap:round; stroke-linejoin:round; stroke-width:4; stroke-opacity:1; fill:none\" points=\"169.121,187.792 188.019,187.792 \"/>\n",
       "<path clip-path=\"url(#clip410)\" d=\"M121.177 1241.32 Q117.566 1241.32 115.737 1244.88 Q113.932 1248.43 113.932 1255.56 Q113.932 1262.66 115.737 1266.23 Q117.566 1269.77 121.177 1269.77 Q124.811 1269.77 126.617 1266.23 Q128.445 1262.66 128.445 1255.56 Q128.445 1248.43 126.617 1244.88 Q124.811 1241.32 121.177 1241.32 M121.177 1237.62 Q126.987 1237.62 130.043 1242.22 Q133.121 1246.81 133.121 1255.56 Q133.121 1264.28 130.043 1268.89 Q126.987 1273.47 121.177 1273.47 Q115.367 1273.47 112.288 1268.89 Q109.233 1264.28 109.233 1255.56 Q109.233 1246.81 112.288 1242.22 Q115.367 1237.62 121.177 1237.62 Z\" fill=\"#000000\" fill-rule=\"evenodd\" fill-opacity=\"1\" /><path clip-path=\"url(#clip410)\" d=\"M95.1817 987.234 Q98.5382 987.952 100.413 990.221 Q102.311 992.489 102.311 995.822 Q102.311 1000.94 98.7928 1003.74 Q95.2743 1006.54 88.7928 1006.54 Q86.6169 1006.54 84.3021 1006.1 Q82.0105 1005.68 79.5568 1004.83 L79.5568 1000.31 Q81.5012 1001.45 83.816 1002.03 Q86.1308 1002.6 88.654 1002.6 Q93.0521 1002.6 95.3437 1000.87 Q97.6585 999.133 97.6585 995.822 Q97.6585 992.767 95.5058 991.054 Q93.3762 989.318 89.5567 989.318 L85.529 989.318 L85.529 985.475 L89.7419 985.475 Q93.191 985.475 95.0197 984.109 Q96.8484 982.721 96.8484 980.128 Q96.8484 977.466 94.9502 976.054 Q93.0752 974.619 89.5567 974.619 Q87.6354 974.619 85.4364 975.035 Q83.2373 975.452 80.5984 976.332 L80.5984 972.165 Q83.2605 971.424 85.5753 971.054 Q87.9132 970.684 89.9734 970.684 Q95.2974 970.684 98.3993 973.114 Q101.501 975.522 101.501 979.642 Q101.501 982.512 99.8576 984.503 Q98.2141 986.471 95.1817 987.234 Z\" fill=\"#000000\" fill-rule=\"evenodd\" fill-opacity=\"1\" /><path clip-path=\"url(#clip410)\" d=\"M121.177 974.387 Q117.566 974.387 115.737 977.952 Q113.932 981.494 113.932 988.623 Q113.932 995.73 115.737 999.295 Q117.566 1002.84 121.177 1002.84 Q124.811 1002.84 126.617 999.295 Q128.445 995.73 128.445 988.623 Q128.445 981.494 126.617 977.952 Q124.811 974.387 121.177 974.387 M121.177 970.684 Q126.987 970.684 130.043 975.29 Q133.121 979.873 133.121 988.623 Q133.121 997.35 130.043 1001.96 Q126.987 1006.54 121.177 1006.54 Q115.367 1006.54 112.288 1001.96 Q109.233 997.35 109.233 988.623 Q109.233 979.873 112.288 975.29 Q115.367 970.684 121.177 970.684 Z\" fill=\"#000000\" fill-rule=\"evenodd\" fill-opacity=\"1\" /><path clip-path=\"url(#clip410)\" d=\"M91.5938 719.793 Q88.4456 719.793 86.5938 721.946 Q84.7651 724.098 84.7651 727.848 Q84.7651 731.575 86.5938 733.751 Q88.4456 735.904 91.5938 735.904 Q94.7419 735.904 96.5706 733.751 Q98.4224 731.575 98.4224 727.848 Q98.4224 724.098 96.5706 721.946 Q94.7419 719.793 91.5938 719.793 M100.876 705.14 L100.876 709.399 Q99.1169 708.566 97.3113 708.126 Q95.5289 707.686 93.7697 707.686 Q89.1401 707.686 86.6864 710.811 Q84.2558 713.936 83.9086 720.256 Q85.2743 718.242 87.3345 717.177 Q89.3947 716.089 91.8715 716.089 Q97.0798 716.089 100.089 719.26 Q103.121 722.409 103.121 727.848 Q103.121 733.172 99.9733 736.39 Q96.8252 739.608 91.5938 739.608 Q85.5984 739.608 82.4271 735.024 Q79.2559 730.418 79.2559 721.691 Q79.2559 713.497 83.1447 708.635 Q87.0336 703.751 93.5845 703.751 Q95.3437 703.751 97.1261 704.098 Q98.9317 704.446 100.876 705.14 Z\" fill=\"#000000\" fill-rule=\"evenodd\" fill-opacity=\"1\" /><path clip-path=\"url(#clip410)\" d=\"M121.177 707.455 Q117.566 707.455 115.737 711.02 Q113.932 714.561 113.932 721.691 Q113.932 728.797 115.737 732.362 Q117.566 735.904 121.177 735.904 Q124.811 735.904 126.617 732.362 Q128.445 728.797 128.445 721.691 Q128.445 714.561 126.617 711.02 Q124.811 707.455 121.177 707.455 M121.177 703.751 Q126.987 703.751 130.043 708.358 Q133.121 712.941 133.121 721.691 Q133.121 730.418 130.043 735.024 Q126.987 739.608 121.177 739.608 Q115.367 739.608 112.288 735.024 Q109.233 730.418 109.233 721.691 Q109.233 712.941 112.288 708.358 Q115.367 703.751 121.177 703.751 Z\" fill=\"#000000\" fill-rule=\"evenodd\" fill-opacity=\"1\" /><path clip-path=\"url(#clip410)\" d=\"M81.154 471.286 L81.154 467.027 Q82.9133 467.86 84.7188 468.3 Q86.5243 468.74 88.2604 468.74 Q92.89 468.74 95.3206 465.638 Q97.7743 462.513 98.1215 456.171 Q96.7789 458.161 94.7187 459.226 Q92.6586 460.291 90.1586 460.291 Q84.9734 460.291 81.941 457.166 Q78.9318 454.018 78.9318 448.578 Q78.9318 443.254 82.0799 440.036 Q85.2281 436.819 90.4595 436.819 Q96.4548 436.819 99.603 441.425 Q102.774 446.009 102.774 454.759 Q102.774 462.93 98.8854 467.814 Q95.0197 472.675 88.4688 472.675 Q86.7095 472.675 84.904 472.328 Q83.0984 471.981 81.154 471.286 M90.4595 456.634 Q93.6076 456.634 95.4363 454.481 Q97.2882 452.328 97.2882 448.578 Q97.2882 444.851 95.4363 442.698 Q93.6076 440.523 90.4595 440.523 Q87.3114 440.523 85.4595 442.698 Q83.6308 444.851 83.6308 448.578 Q83.6308 452.328 85.4595 454.481 Q87.3114 456.634 90.4595 456.634 Z\" fill=\"#000000\" fill-rule=\"evenodd\" fill-opacity=\"1\" /><path clip-path=\"url(#clip410)\" d=\"M121.177 440.523 Q117.566 440.523 115.737 444.087 Q113.932 447.629 113.932 454.759 Q113.932 461.865 115.737 465.43 Q117.566 468.971 121.177 468.971 Q124.811 468.971 126.617 465.43 Q128.445 461.865 128.445 454.759 Q128.445 447.629 126.617 444.087 Q124.811 440.523 121.177 440.523 M121.177 436.819 Q126.987 436.819 130.043 441.425 Q133.121 446.009 133.121 454.759 Q133.121 463.485 130.043 468.092 Q126.987 472.675 121.177 472.675 Q115.367 472.675 112.288 468.092 Q109.233 463.485 109.233 454.759 Q109.233 446.009 112.288 441.425 Q115.367 436.819 121.177 436.819 Z\" fill=\"#000000\" fill-rule=\"evenodd\" fill-opacity=\"1\" /><path clip-path=\"url(#clip410)\" d=\"M51.6634 201.136 L59.3023 201.136 L59.3023 174.771 L50.9921 176.437 L50.9921 172.178 L59.256 170.512 L63.9319 170.512 L63.9319 201.136 L71.5707 201.136 L71.5707 205.072 L51.6634 205.072 L51.6634 201.136 Z\" fill=\"#000000\" fill-rule=\"evenodd\" fill-opacity=\"1\" /><path clip-path=\"url(#clip410)\" d=\"M85.0429 201.136 L101.362 201.136 L101.362 205.072 L79.4179 205.072 L79.4179 201.136 Q82.0799 198.382 86.6632 193.752 Q91.2697 189.099 92.4502 187.757 Q94.6956 185.234 95.5752 183.498 Q96.478 181.738 96.478 180.048 Q96.478 177.294 94.5336 175.558 Q92.6123 173.822 89.5104 173.822 Q87.3114 173.822 84.8577 174.586 Q82.4271 175.349 79.6494 176.9 L79.6494 172.178 Q82.4734 171.044 84.9271 170.465 Q87.3808 169.887 89.4178 169.887 Q94.7882 169.887 97.9826 172.572 Q101.177 175.257 101.177 179.748 Q101.177 181.877 100.367 183.798 Q99.5798 185.697 97.4734 188.289 Q96.8947 188.96 93.7928 192.178 Q90.691 195.372 85.0429 201.136 Z\" fill=\"#000000\" fill-rule=\"evenodd\" fill-opacity=\"1\" /><path clip-path=\"url(#clip410)\" d=\"M121.177 173.59 Q117.566 173.59 115.737 177.155 Q113.932 180.697 113.932 187.826 Q113.932 194.933 115.737 198.497 Q117.566 202.039 121.177 202.039 Q124.811 202.039 126.617 198.497 Q128.445 194.933 128.445 187.826 Q128.445 180.697 126.617 177.155 Q124.811 173.59 121.177 173.59 M121.177 169.887 Q126.987 169.887 130.043 174.493 Q133.121 179.076 133.121 187.826 Q133.121 196.553 130.043 201.159 Q126.987 205.743 121.177 205.743 Q115.367 205.743 112.288 201.159 Q109.233 196.553 109.233 187.826 Q109.233 179.076 112.288 174.493 Q115.367 169.887 121.177 169.887 Z\" fill=\"#000000\" fill-rule=\"evenodd\" fill-opacity=\"1\" /><circle clip-path=\"url(#clip412)\" cx=\"230.922\" cy=\"525.852\" r=\"14.4\" fill=\"#009af9\" fill-rule=\"evenodd\" fill-opacity=\"1\" stroke=\"#000000\" stroke-opacity=\"1\" stroke-width=\"3.2\"/>\n",
       "<circle clip-path=\"url(#clip412)\" cx=\"333.924\" cy=\"875.017\" r=\"14.4\" fill=\"#009af9\" fill-rule=\"evenodd\" fill-opacity=\"1\" stroke=\"#000000\" stroke-opacity=\"1\" stroke-width=\"3.2\"/>\n",
       "<circle clip-path=\"url(#clip412)\" cx=\"436.926\" cy=\"827.236\" r=\"14.4\" fill=\"#009af9\" fill-rule=\"evenodd\" fill-opacity=\"1\" stroke=\"#000000\" stroke-opacity=\"1\" stroke-width=\"3.2\"/>\n",
       "<circle clip-path=\"url(#clip412)\" cx=\"539.927\" cy=\"977.252\" r=\"14.4\" fill=\"#009af9\" fill-rule=\"evenodd\" fill-opacity=\"1\" stroke=\"#000000\" stroke-opacity=\"1\" stroke-width=\"3.2\"/>\n",
       "<circle clip-path=\"url(#clip412)\" cx=\"642.929\" cy=\"1176.32\" r=\"14.4\" fill=\"#009af9\" fill-rule=\"evenodd\" fill-opacity=\"1\" stroke=\"#000000\" stroke-opacity=\"1\" stroke-width=\"3.2\"/>\n",
       "<circle clip-path=\"url(#clip412)\" cx=\"745.93\" cy=\"1359.68\" r=\"14.4\" fill=\"#009af9\" fill-rule=\"evenodd\" fill-opacity=\"1\" stroke=\"#000000\" stroke-opacity=\"1\" stroke-width=\"3.2\"/>\n",
       "<circle clip-path=\"url(#clip412)\" cx=\"848.932\" cy=\"1323.88\" r=\"14.4\" fill=\"#009af9\" fill-rule=\"evenodd\" fill-opacity=\"1\" stroke=\"#000000\" stroke-opacity=\"1\" stroke-width=\"3.2\"/>\n",
       "<circle clip-path=\"url(#clip412)\" cx=\"951.934\" cy=\"1209.81\" r=\"14.4\" fill=\"#009af9\" fill-rule=\"evenodd\" fill-opacity=\"1\" stroke=\"#000000\" stroke-opacity=\"1\" stroke-width=\"3.2\"/>\n",
       "<circle clip-path=\"url(#clip412)\" cx=\"1054.94\" cy=\"1368.34\" r=\"14.4\" fill=\"#009af9\" fill-rule=\"evenodd\" fill-opacity=\"1\" stroke=\"#000000\" stroke-opacity=\"1\" stroke-width=\"3.2\"/>\n",
       "<circle clip-path=\"url(#clip412)\" cx=\"1157.94\" cy=\"1332.49\" r=\"14.4\" fill=\"#009af9\" fill-rule=\"evenodd\" fill-opacity=\"1\" stroke=\"#000000\" stroke-opacity=\"1\" stroke-width=\"3.2\"/>\n",
       "<circle clip-path=\"url(#clip412)\" cx=\"1260.94\" cy=\"1445.72\" r=\"14.4\" fill=\"#009af9\" fill-rule=\"evenodd\" fill-opacity=\"1\" stroke=\"#000000\" stroke-opacity=\"1\" stroke-width=\"3.2\"/>\n",
       "<circle clip-path=\"url(#clip412)\" cx=\"1363.94\" cy=\"1306.36\" r=\"14.4\" fill=\"#009af9\" fill-rule=\"evenodd\" fill-opacity=\"1\" stroke=\"#000000\" stroke-opacity=\"1\" stroke-width=\"3.2\"/>\n",
       "<circle clip-path=\"url(#clip412)\" cx=\"1466.94\" cy=\"1234.99\" r=\"14.4\" fill=\"#009af9\" fill-rule=\"evenodd\" fill-opacity=\"1\" stroke=\"#000000\" stroke-opacity=\"1\" stroke-width=\"3.2\"/>\n",
       "<circle clip-path=\"url(#clip412)\" cx=\"1569.94\" cy=\"1126.47\" r=\"14.4\" fill=\"#009af9\" fill-rule=\"evenodd\" fill-opacity=\"1\" stroke=\"#000000\" stroke-opacity=\"1\" stroke-width=\"3.2\"/>\n",
       "<circle clip-path=\"url(#clip412)\" cx=\"1672.95\" cy=\"1129.12\" r=\"14.4\" fill=\"#009af9\" fill-rule=\"evenodd\" fill-opacity=\"1\" stroke=\"#000000\" stroke-opacity=\"1\" stroke-width=\"3.2\"/>\n",
       "<circle clip-path=\"url(#clip412)\" cx=\"1775.95\" cy=\"950.53\" r=\"14.4\" fill=\"#009af9\" fill-rule=\"evenodd\" fill-opacity=\"1\" stroke=\"#000000\" stroke-opacity=\"1\" stroke-width=\"3.2\"/>\n",
       "<circle clip-path=\"url(#clip412)\" cx=\"1878.95\" cy=\"767.125\" r=\"14.4\" fill=\"#009af9\" fill-rule=\"evenodd\" fill-opacity=\"1\" stroke=\"#000000\" stroke-opacity=\"1\" stroke-width=\"3.2\"/>\n",
       "<circle clip-path=\"url(#clip412)\" cx=\"1981.95\" cy=\"705.106\" r=\"14.4\" fill=\"#009af9\" fill-rule=\"evenodd\" fill-opacity=\"1\" stroke=\"#000000\" stroke-opacity=\"1\" stroke-width=\"3.2\"/>\n",
       "<circle clip-path=\"url(#clip412)\" cx=\"2084.95\" cy=\"498.292\" r=\"14.4\" fill=\"#009af9\" fill-rule=\"evenodd\" fill-opacity=\"1\" stroke=\"#000000\" stroke-opacity=\"1\" stroke-width=\"3.2\"/>\n",
       "<circle clip-path=\"url(#clip412)\" cx=\"2187.95\" cy=\"289.966\" r=\"14.4\" fill=\"#009af9\" fill-rule=\"evenodd\" fill-opacity=\"1\" stroke=\"#000000\" stroke-opacity=\"1\" stroke-width=\"3.2\"/>\n",
       "<circle clip-path=\"url(#clip412)\" cx=\"2290.95\" cy=\"87.9763\" r=\"14.4\" fill=\"#009af9\" fill-rule=\"evenodd\" fill-opacity=\"1\" stroke=\"#000000\" stroke-opacity=\"1\" stroke-width=\"3.2\"/>\n",
       "<polyline clip-path=\"url(#clip412)\" style=\"stroke:#e26f46; stroke-linecap:round; stroke-linejoin:round; stroke-width:4; stroke-opacity:1; fill:none\" points=\"230.922,650.474 333.924,792.838 436.926,917.407 539.927,1024.18 642.929,1113.16 745.93,1184.34 848.932,1237.73 951.934,1273.32 1054.94,1291.11 1157.94,1291.11 1260.94,1273.32 1363.94,1237.73 1466.94,1184.34 1569.94,1113.16 1672.95,1024.18 1775.95,917.407 1878.95,792.838 1981.95,650.474 2084.95,490.315 2187.95,312.36 2290.95,116.61 \"/>\n",
       "<path clip-path=\"url(#clip410)\" d=\"M241.909 250.738 L803.234 250.738 L803.234 95.2176 L241.909 95.2176  Z\" fill=\"#ffffff\" fill-rule=\"evenodd\" fill-opacity=\"1\"/>\n",
       "<polyline clip-path=\"url(#clip410)\" style=\"stroke:#000000; stroke-linecap:round; stroke-linejoin:round; stroke-width:4; stroke-opacity:1; fill:none\" points=\"241.909,250.738 803.234,250.738 803.234,95.2176 241.909,95.2176 241.909,250.738 \"/>\n",
       "<circle clip-path=\"url(#clip410)\" cx=\"338.96\" cy=\"147.058\" r=\"23.04\" fill=\"#009af9\" fill-rule=\"evenodd\" fill-opacity=\"1\" stroke=\"#000000\" stroke-opacity=\"1\" stroke-width=\"5.12\"/>\n",
       "<path clip-path=\"url(#clip410)\" d=\"M452.028 132.949 Q446.936 132.949 443.927 136.745 Q440.941 140.541 440.941 147.092 Q440.941 153.62 443.927 157.416 Q446.936 161.213 452.028 161.213 Q457.121 161.213 460.084 157.416 Q463.07 153.62 463.07 147.092 Q463.07 140.541 460.084 136.745 Q457.121 132.949 452.028 132.949 M452.028 129.153 Q459.297 129.153 463.649 134.037 Q468.001 138.898 468.001 147.092 Q468.001 155.264 463.649 160.148 Q459.297 165.009 452.028 165.009 Q444.737 165.009 440.362 160.148 Q436.01 155.287 436.01 147.092 Q436.01 138.898 440.362 134.037 Q444.737 129.153 452.028 129.153 Z\" fill=\"#000000\" fill-rule=\"evenodd\" fill-opacity=\"1\" /><path clip-path=\"url(#clip410)\" d=\"M493.741 151.398 Q493.741 146.699 491.797 144.037 Q489.875 141.352 486.496 141.352 Q483.116 141.352 481.172 144.037 Q479.25 146.699 479.25 151.398 Q479.25 156.097 481.172 158.782 Q483.116 161.444 486.496 161.444 Q489.875 161.444 491.797 158.782 Q493.741 156.097 493.741 151.398 M479.25 142.347 Q480.593 140.032 482.63 138.921 Q484.69 137.787 487.537 137.787 Q492.26 137.787 495.199 141.537 Q498.162 145.287 498.162 151.398 Q498.162 157.509 495.199 161.259 Q492.26 165.009 487.537 165.009 Q484.69 165.009 482.63 163.898 Q480.593 162.763 479.25 160.449 L479.25 164.338 L474.968 164.338 L474.968 128.319 L479.25 128.319 L479.25 142.347 Z\" fill=\"#000000\" fill-rule=\"evenodd\" fill-opacity=\"1\" /><path clip-path=\"url(#clip410)\" d=\"M521.75 139.176 L521.75 143.203 Q519.945 142.277 518 141.815 Q516.056 141.352 513.973 141.352 Q510.801 141.352 509.204 142.324 Q507.63 143.296 507.63 145.24 Q507.63 146.722 508.764 147.578 Q509.898 148.412 513.324 149.176 L514.783 149.5 Q519.32 150.472 521.218 152.254 Q523.139 154.014 523.139 157.185 Q523.139 160.796 520.269 162.902 Q517.422 165.009 512.422 165.009 Q510.338 165.009 508.07 164.592 Q505.824 164.199 503.324 163.388 L503.324 158.99 Q505.686 160.217 507.977 160.842 Q510.269 161.444 512.514 161.444 Q515.523 161.444 517.144 160.426 Q518.764 159.384 518.764 157.509 Q518.764 155.773 517.584 154.847 Q516.426 153.921 512.468 153.064 L510.986 152.717 Q507.028 151.884 505.269 150.171 Q503.51 148.435 503.51 145.426 Q503.51 141.768 506.102 139.778 Q508.695 137.787 513.463 137.787 Q515.824 137.787 517.908 138.134 Q519.991 138.481 521.75 139.176 Z\" fill=\"#000000\" fill-rule=\"evenodd\" fill-opacity=\"1\" /><path clip-path=\"url(#clip410)\" d=\"M552.097 150.31 L552.097 152.393 L532.514 152.393 Q532.792 156.791 535.153 159.106 Q537.537 161.398 541.773 161.398 Q544.227 161.398 546.519 160.796 Q548.833 160.194 551.102 158.99 L551.102 163.018 Q548.81 163.99 546.403 164.5 Q543.996 165.009 541.519 165.009 Q535.315 165.009 531.681 161.398 Q528.07 157.787 528.07 151.629 Q528.07 145.264 531.496 141.537 Q534.945 137.787 540.778 137.787 Q546.009 137.787 549.042 141.166 Q552.097 144.523 552.097 150.31 M547.838 149.06 Q547.792 145.565 545.871 143.481 Q543.972 141.398 540.824 141.398 Q537.259 141.398 535.107 143.412 Q532.977 145.426 532.653 149.083 L547.838 149.06 Z\" fill=\"#000000\" fill-rule=\"evenodd\" fill-opacity=\"1\" /><path clip-path=\"url(#clip410)\" d=\"M574.111 142.393 Q573.394 141.977 572.537 141.791 Q571.704 141.583 570.685 141.583 Q567.074 141.583 565.13 143.944 Q563.208 146.282 563.208 150.68 L563.208 164.338 L558.926 164.338 L558.926 138.412 L563.208 138.412 L563.208 142.44 Q564.551 140.078 566.704 138.944 Q568.856 137.787 571.935 137.787 Q572.375 137.787 572.907 137.856 Q573.44 137.903 574.088 138.018 L574.111 142.393 Z\" fill=\"#000000\" fill-rule=\"evenodd\" fill-opacity=\"1\" /><path clip-path=\"url(#clip410)\" d=\"M575.523 138.412 L580.037 138.412 L588.139 160.171 L596.241 138.412 L600.754 138.412 L591.032 164.338 L585.245 164.338 L575.523 138.412 Z\" fill=\"#000000\" fill-rule=\"evenodd\" fill-opacity=\"1\" /><path clip-path=\"url(#clip410)\" d=\"M628.81 150.31 L628.81 152.393 L609.227 152.393 Q609.504 156.791 611.866 159.106 Q614.25 161.398 618.486 161.398 Q620.94 161.398 623.231 160.796 Q625.546 160.194 627.815 158.99 L627.815 163.018 Q625.523 163.99 623.115 164.5 Q620.708 165.009 618.231 165.009 Q612.028 165.009 608.393 161.398 Q604.782 157.787 604.782 151.629 Q604.782 145.264 608.208 141.537 Q611.657 137.787 617.49 137.787 Q622.722 137.787 625.754 141.166 Q628.81 144.523 628.81 150.31 M624.551 149.06 Q624.504 145.565 622.583 143.481 Q620.685 141.398 617.537 141.398 Q613.972 141.398 611.819 143.412 Q609.69 145.426 609.366 149.083 L624.551 149.06 Z\" fill=\"#000000\" fill-rule=\"evenodd\" fill-opacity=\"1\" /><path clip-path=\"url(#clip410)\" d=\"M652.861 142.347 L652.861 128.319 L657.12 128.319 L657.12 164.338 L652.861 164.338 L652.861 160.449 Q651.518 162.763 649.458 163.898 Q647.421 165.009 644.551 165.009 Q639.851 165.009 636.889 161.259 Q633.949 157.509 633.949 151.398 Q633.949 145.287 636.889 141.537 Q639.851 137.787 644.551 137.787 Q647.421 137.787 649.458 138.921 Q651.518 140.032 652.861 142.347 M638.347 151.398 Q638.347 156.097 640.268 158.782 Q642.213 161.444 645.592 161.444 Q648.972 161.444 650.916 158.782 Q652.861 156.097 652.861 151.398 Q652.861 146.699 650.916 144.037 Q648.972 141.352 645.592 141.352 Q642.213 141.352 640.268 144.037 Q638.347 146.699 638.347 151.398 Z\" fill=\"#000000\" fill-rule=\"evenodd\" fill-opacity=\"1\" /><path clip-path=\"url(#clip410)\" d=\"M698.022 142.347 L698.022 128.319 L702.282 128.319 L702.282 164.338 L698.022 164.338 L698.022 160.449 Q696.68 162.763 694.62 163.898 Q692.583 165.009 689.712 165.009 Q685.013 165.009 682.05 161.259 Q679.111 157.509 679.111 151.398 Q679.111 145.287 682.05 141.537 Q685.013 137.787 689.712 137.787 Q692.583 137.787 694.62 138.921 Q696.68 140.032 698.022 142.347 M683.509 151.398 Q683.509 156.097 685.43 158.782 Q687.374 161.444 690.754 161.444 Q694.134 161.444 696.078 158.782 Q698.022 156.097 698.022 151.398 Q698.022 146.699 696.078 144.037 Q694.134 141.352 690.754 141.352 Q687.374 141.352 685.43 144.037 Q683.509 146.699 683.509 151.398 Z\" fill=\"#000000\" fill-rule=\"evenodd\" fill-opacity=\"1\" /><path clip-path=\"url(#clip410)\" d=\"M722.837 151.305 Q717.675 151.305 715.684 152.486 Q713.694 153.666 713.694 156.514 Q713.694 158.782 715.175 160.125 Q716.68 161.444 719.249 161.444 Q722.791 161.444 724.92 158.944 Q727.073 156.421 727.073 152.254 L727.073 151.305 L722.837 151.305 M731.332 149.546 L731.332 164.338 L727.073 164.338 L727.073 160.402 Q725.615 162.763 723.439 163.898 Q721.263 165.009 718.115 165.009 Q714.133 165.009 711.772 162.787 Q709.434 160.541 709.434 156.791 Q709.434 152.416 712.351 150.194 Q715.291 147.972 721.101 147.972 L727.073 147.972 L727.073 147.555 Q727.073 144.615 725.129 143.018 Q723.208 141.398 719.712 141.398 Q717.49 141.398 715.383 141.93 Q713.277 142.463 711.333 143.527 L711.333 139.592 Q713.671 138.69 715.87 138.25 Q718.069 137.787 720.152 137.787 Q725.777 137.787 728.555 140.703 Q731.332 143.62 731.332 149.546 Z\" fill=\"#000000\" fill-rule=\"evenodd\" fill-opacity=\"1\" /><path clip-path=\"url(#clip410)\" d=\"M744.319 131.051 L744.319 138.412 L753.092 138.412 L753.092 141.722 L744.319 141.722 L744.319 155.796 Q744.319 158.967 745.175 159.87 Q746.055 160.773 748.717 160.773 L753.092 160.773 L753.092 164.338 L748.717 164.338 Q743.786 164.338 741.911 162.509 Q740.036 160.657 740.036 155.796 L740.036 141.722 L736.911 141.722 L736.911 138.412 L740.036 138.412 L740.036 131.051 L744.319 131.051 Z\" fill=\"#000000\" fill-rule=\"evenodd\" fill-opacity=\"1\" /><path clip-path=\"url(#clip410)\" d=\"M770.476 151.305 Q765.314 151.305 763.323 152.486 Q761.332 153.666 761.332 156.514 Q761.332 158.782 762.814 160.125 Q764.318 161.444 766.888 161.444 Q770.429 161.444 772.559 158.944 Q774.712 156.421 774.712 152.254 L774.712 151.305 L770.476 151.305 M778.971 149.546 L778.971 164.338 L774.712 164.338 L774.712 160.402 Q773.254 162.763 771.078 163.898 Q768.902 165.009 765.754 165.009 Q761.772 165.009 759.411 162.787 Q757.073 160.541 757.073 156.791 Q757.073 152.416 759.99 150.194 Q762.93 147.972 768.74 147.972 L774.712 147.972 L774.712 147.555 Q774.712 144.615 772.767 143.018 Q770.846 141.398 767.351 141.398 Q765.129 141.398 763.022 141.93 Q760.916 142.463 758.971 143.527 L758.971 139.592 Q761.309 138.69 763.508 138.25 Q765.707 137.787 767.791 137.787 Q773.416 137.787 776.193 140.703 Q778.971 143.62 778.971 149.546 Z\" fill=\"#000000\" fill-rule=\"evenodd\" fill-opacity=\"1\" /><polyline clip-path=\"url(#clip410)\" style=\"stroke:#e26f46; stroke-linecap:round; stroke-linejoin:round; stroke-width:4; stroke-opacity:1; fill:none\" points=\"266.172,198.898 411.747,198.898 \"/>\n",
       "<path clip-path=\"url(#clip410)\" d=\"M436.01 181.618 L465.246 181.618 L465.246 185.553 L452.977 185.553 L452.977 216.178 L448.278 216.178 L448.278 185.553 L436.01 185.553 L436.01 181.618 Z\" fill=\"#000000\" fill-rule=\"evenodd\" fill-opacity=\"1\" /><path clip-path=\"url(#clip410)\" d=\"M477.63 194.233 Q476.913 193.817 476.056 193.631 Q475.223 193.423 474.204 193.423 Q470.593 193.423 468.649 195.784 Q466.727 198.122 466.727 202.52 L466.727 216.178 L462.445 216.178 L462.445 190.252 L466.727 190.252 L466.727 194.28 Q468.07 191.918 470.223 190.784 Q472.376 189.627 475.454 189.627 Q475.894 189.627 476.426 189.696 Q476.959 189.743 477.607 189.858 L477.63 194.233 Z\" fill=\"#000000\" fill-rule=\"evenodd\" fill-opacity=\"1\" /><path clip-path=\"url(#clip410)\" d=\"M481.658 205.946 L481.658 190.252 L485.917 190.252 L485.917 205.784 Q485.917 209.465 487.352 211.316 Q488.787 213.145 491.658 213.145 Q495.107 213.145 497.098 210.946 Q499.112 208.747 499.112 204.951 L499.112 190.252 L503.371 190.252 L503.371 216.178 L499.112 216.178 L499.112 212.196 Q497.561 214.557 495.5 215.715 Q493.463 216.849 490.755 216.849 Q486.287 216.849 483.973 214.071 Q481.658 211.293 481.658 205.946 M492.375 189.627 L492.375 189.627 Z\" fill=\"#000000\" fill-rule=\"evenodd\" fill-opacity=\"1\" /><path clip-path=\"url(#clip410)\" d=\"M534.32 202.15 L534.32 204.233 L514.736 204.233 Q515.014 208.631 517.375 210.946 Q519.76 213.238 523.996 213.238 Q526.449 213.238 528.741 212.636 Q531.056 212.034 533.324 210.83 L533.324 214.858 Q531.033 215.83 528.625 216.34 Q526.218 216.849 523.741 216.849 Q517.537 216.849 513.903 213.238 Q510.292 209.627 510.292 203.469 Q510.292 197.104 513.718 193.377 Q517.167 189.627 523 189.627 Q528.232 189.627 531.264 193.006 Q534.32 196.363 534.32 202.15 M530.06 200.9 Q530.014 197.405 528.093 195.321 Q526.195 193.238 523.047 193.238 Q519.482 193.238 517.329 195.252 Q515.199 197.266 514.875 200.923 L530.06 200.9 Z\" fill=\"#000000\" fill-rule=\"evenodd\" fill-opacity=\"1\" /><path clip-path=\"url(#clip410)\" d=\"M556.38 180.159 L560.639 180.159 L560.639 216.178 L556.38 216.178 L556.38 180.159 Z\" fill=\"#000000\" fill-rule=\"evenodd\" fill-opacity=\"1\" /><path clip-path=\"url(#clip410)\" d=\"M569.551 190.252 L573.81 190.252 L573.81 216.178 L569.551 216.178 L569.551 190.252 M569.551 180.159 L573.81 180.159 L573.81 185.553 L569.551 185.553 L569.551 180.159 Z\" fill=\"#000000\" fill-rule=\"evenodd\" fill-opacity=\"1\" /><path clip-path=\"url(#clip410)\" d=\"M604.273 200.529 L604.273 216.178 L600.014 216.178 L600.014 200.668 Q600.014 196.988 598.579 195.159 Q597.143 193.33 594.273 193.33 Q590.824 193.33 588.833 195.53 Q586.843 197.729 586.843 201.525 L586.843 216.178 L582.56 216.178 L582.56 190.252 L586.843 190.252 L586.843 194.28 Q588.37 191.942 590.43 190.784 Q592.514 189.627 595.222 189.627 Q599.69 189.627 601.981 192.405 Q604.273 195.159 604.273 200.529 Z\" fill=\"#000000\" fill-rule=\"evenodd\" fill-opacity=\"1\" /><path clip-path=\"url(#clip410)\" d=\"M634.944 202.15 L634.944 204.233 L615.361 204.233 Q615.639 208.631 618 210.946 Q620.384 213.238 624.62 213.238 Q627.074 213.238 629.365 212.636 Q631.68 212.034 633.949 210.83 L633.949 214.858 Q631.657 215.83 629.25 216.34 Q626.842 216.849 624.365 216.849 Q618.162 216.849 614.528 213.238 Q610.916 209.627 610.916 203.469 Q610.916 197.104 614.342 193.377 Q617.791 189.627 623.625 189.627 Q628.856 189.627 631.889 193.006 Q634.944 196.363 634.944 202.15 M630.685 200.9 Q630.639 197.405 628.717 195.321 Q626.819 193.238 623.671 193.238 Q620.106 193.238 617.953 195.252 Q615.824 197.266 615.5 200.923 L630.685 200.9 Z\" fill=\"#000000\" fill-rule=\"evenodd\" fill-opacity=\"1\" /></svg>\n"
      ]
     },
     "execution_count": 40,
     "metadata": {},
     "output_type": "execute_result"
    }
   ],
   "source": [
    "scatter(x,y_observed, label = \"Observed data\")\n",
    "plot!(x,y_true, label = \"True line\")"
   ]
  },
  {
   "cell_type": "code",
   "execution_count": 41,
   "id": "355fe693",
   "metadata": {},
   "outputs": [
    {
     "data": {
      "image/svg+xml": [
       "<?xml version=\"1.0\" encoding=\"utf-8\"?>\n",
       "<svg xmlns=\"http://www.w3.org/2000/svg\" xmlns:xlink=\"http://www.w3.org/1999/xlink\" width=\"600\" height=\"400\" viewBox=\"0 0 2400 1600\">\n",
       "<defs>\n",
       "  <clipPath id=\"clip450\">\n",
       "    <rect x=\"0\" y=\"0\" width=\"2400\" height=\"1600\"/>\n",
       "  </clipPath>\n",
       "</defs>\n",
       "<path clip-path=\"url(#clip450)\" d=\"M0 1600 L2400 1600 L2400 0 L0 0  Z\" fill=\"#ffffff\" fill-rule=\"evenodd\" fill-opacity=\"1\"/>\n",
       "<defs>\n",
       "  <clipPath id=\"clip451\">\n",
       "    <rect x=\"480\" y=\"0\" width=\"1681\" height=\"1600\"/>\n",
       "  </clipPath>\n",
       "</defs>\n",
       "<path clip-path=\"url(#clip450)\" d=\"M169.121 1486.45 L2352.76 1486.45 L2352.76 47.2441 L169.121 47.2441  Z\" fill=\"#ffffff\" fill-rule=\"evenodd\" fill-opacity=\"1\"/>\n",
       "<defs>\n",
       "  <clipPath id=\"clip452\">\n",
       "    <rect x=\"169\" y=\"47\" width=\"2185\" height=\"1440\"/>\n",
       "  </clipPath>\n",
       "</defs>\n",
       "<polyline clip-path=\"url(#clip452)\" style=\"stroke:#000000; stroke-linecap:round; stroke-linejoin:round; stroke-width:2; stroke-opacity:0.1; fill:none\" points=\"230.922,1486.45 230.922,47.2441 \"/>\n",
       "<polyline clip-path=\"url(#clip452)\" style=\"stroke:#000000; stroke-linecap:round; stroke-linejoin:round; stroke-width:2; stroke-opacity:0.1; fill:none\" points=\"745.93,1486.45 745.93,47.2441 \"/>\n",
       "<polyline clip-path=\"url(#clip452)\" style=\"stroke:#000000; stroke-linecap:round; stroke-linejoin:round; stroke-width:2; stroke-opacity:0.1; fill:none\" points=\"1260.94,1486.45 1260.94,47.2441 \"/>\n",
       "<polyline clip-path=\"url(#clip452)\" style=\"stroke:#000000; stroke-linecap:round; stroke-linejoin:round; stroke-width:2; stroke-opacity:0.1; fill:none\" points=\"1775.95,1486.45 1775.95,47.2441 \"/>\n",
       "<polyline clip-path=\"url(#clip452)\" style=\"stroke:#000000; stroke-linecap:round; stroke-linejoin:round; stroke-width:2; stroke-opacity:0.1; fill:none\" points=\"2290.95,1486.45 2290.95,47.2441 \"/>\n",
       "<polyline clip-path=\"url(#clip450)\" style=\"stroke:#000000; stroke-linecap:round; stroke-linejoin:round; stroke-width:4; stroke-opacity:1; fill:none\" points=\"169.121,1486.45 2352.76,1486.45 \"/>\n",
       "<polyline clip-path=\"url(#clip450)\" style=\"stroke:#000000; stroke-linecap:round; stroke-linejoin:round; stroke-width:4; stroke-opacity:1; fill:none\" points=\"230.922,1486.45 230.922,1467.55 \"/>\n",
       "<polyline clip-path=\"url(#clip450)\" style=\"stroke:#000000; stroke-linecap:round; stroke-linejoin:round; stroke-width:4; stroke-opacity:1; fill:none\" points=\"745.93,1486.45 745.93,1467.55 \"/>\n",
       "<polyline clip-path=\"url(#clip450)\" style=\"stroke:#000000; stroke-linecap:round; stroke-linejoin:round; stroke-width:4; stroke-opacity:1; fill:none\" points=\"1260.94,1486.45 1260.94,1467.55 \"/>\n",
       "<polyline clip-path=\"url(#clip450)\" style=\"stroke:#000000; stroke-linecap:round; stroke-linejoin:round; stroke-width:4; stroke-opacity:1; fill:none\" points=\"1775.95,1486.45 1775.95,1467.55 \"/>\n",
       "<polyline clip-path=\"url(#clip450)\" style=\"stroke:#000000; stroke-linecap:round; stroke-linejoin:round; stroke-width:4; stroke-opacity:1; fill:none\" points=\"2290.95,1486.45 2290.95,1467.55 \"/>\n",
       "<path clip-path=\"url(#clip450)\" d=\"M184.985 1532.02 L214.661 1532.02 L214.661 1535.95 L184.985 1535.95 L184.985 1532.02 Z\" fill=\"#000000\" fill-rule=\"evenodd\" fill-opacity=\"1\" /><path clip-path=\"url(#clip450)\" d=\"M225.564 1544.91 L233.202 1544.91 L233.202 1518.55 L224.892 1520.21 L224.892 1515.95 L233.156 1514.29 L237.832 1514.29 L237.832 1544.91 L245.471 1544.91 L245.471 1548.85 L225.564 1548.85 L225.564 1544.91 Z\" fill=\"#000000\" fill-rule=\"evenodd\" fill-opacity=\"1\" /><path clip-path=\"url(#clip450)\" d=\"M264.915 1517.37 Q261.304 1517.37 259.475 1520.93 Q257.67 1524.47 257.67 1531.6 Q257.67 1538.71 259.475 1542.27 Q261.304 1545.82 264.915 1545.82 Q268.549 1545.82 270.355 1542.27 Q272.184 1538.71 272.184 1531.6 Q272.184 1524.47 270.355 1520.93 Q268.549 1517.37 264.915 1517.37 M264.915 1513.66 Q270.725 1513.66 273.781 1518.27 Q276.86 1522.85 276.86 1531.6 Q276.86 1540.33 273.781 1544.94 Q270.725 1549.52 264.915 1549.52 Q259.105 1549.52 256.026 1544.94 Q252.971 1540.33 252.971 1531.6 Q252.971 1522.85 256.026 1518.27 Q259.105 1513.66 264.915 1513.66 Z\" fill=\"#000000\" fill-rule=\"evenodd\" fill-opacity=\"1\" /><path clip-path=\"url(#clip450)\" d=\"M715.572 1532.02 L745.248 1532.02 L745.248 1535.95 L715.572 1535.95 L715.572 1532.02 Z\" fill=\"#000000\" fill-rule=\"evenodd\" fill-opacity=\"1\" /><path clip-path=\"url(#clip450)\" d=\"M755.386 1514.29 L773.743 1514.29 L773.743 1518.22 L759.669 1518.22 L759.669 1526.7 Q760.687 1526.35 761.706 1526.19 Q762.724 1526 763.743 1526 Q769.53 1526 772.909 1529.17 Q776.289 1532.34 776.289 1537.76 Q776.289 1543.34 772.817 1546.44 Q769.345 1549.52 763.025 1549.52 Q760.849 1549.52 758.581 1549.15 Q756.335 1548.78 753.928 1548.04 L753.928 1543.34 Q756.011 1544.47 758.234 1545.03 Q760.456 1545.58 762.933 1545.58 Q766.937 1545.58 769.275 1543.48 Q771.613 1541.37 771.613 1537.76 Q771.613 1534.15 769.275 1532.04 Q766.937 1529.94 762.933 1529.94 Q761.058 1529.94 759.183 1530.35 Q757.331 1530.77 755.386 1531.65 L755.386 1514.29 Z\" fill=\"#000000\" fill-rule=\"evenodd\" fill-opacity=\"1\" /><path clip-path=\"url(#clip450)\" d=\"M1260.94 1517.37 Q1257.33 1517.37 1255.5 1520.93 Q1253.69 1524.47 1253.69 1531.6 Q1253.69 1538.71 1255.5 1542.27 Q1257.33 1545.82 1260.94 1545.82 Q1264.57 1545.82 1266.38 1542.27 Q1268.21 1538.71 1268.21 1531.6 Q1268.21 1524.47 1266.38 1520.93 Q1264.57 1517.37 1260.94 1517.37 M1260.94 1513.66 Q1266.75 1513.66 1269.8 1518.27 Q1272.88 1522.85 1272.88 1531.6 Q1272.88 1540.33 1269.8 1544.94 Q1266.75 1549.52 1260.94 1549.52 Q1255.13 1549.52 1252.05 1544.94 Q1248.99 1540.33 1248.99 1531.6 Q1248.99 1522.85 1252.05 1518.27 Q1255.13 1513.66 1260.94 1513.66 Z\" fill=\"#000000\" fill-rule=\"evenodd\" fill-opacity=\"1\" /><path clip-path=\"url(#clip450)\" d=\"M1766.22 1514.29 L1784.58 1514.29 L1784.58 1518.22 L1770.51 1518.22 L1770.51 1526.7 Q1771.53 1526.35 1772.54 1526.19 Q1773.56 1526 1774.58 1526 Q1780.37 1526 1783.75 1529.17 Q1787.13 1532.34 1787.13 1537.76 Q1787.13 1543.34 1783.66 1546.44 Q1780.18 1549.52 1773.86 1549.52 Q1771.69 1549.52 1769.42 1549.15 Q1767.17 1548.78 1764.77 1548.04 L1764.77 1543.34 Q1766.85 1544.47 1769.07 1545.03 Q1771.29 1545.58 1773.77 1545.58 Q1777.78 1545.58 1780.11 1543.48 Q1782.45 1541.37 1782.45 1537.76 Q1782.45 1534.15 1780.11 1532.04 Q1777.78 1529.94 1773.77 1529.94 Q1771.9 1529.94 1770.02 1530.35 Q1768.17 1530.77 1766.22 1531.65 L1766.22 1514.29 Z\" fill=\"#000000\" fill-rule=\"evenodd\" fill-opacity=\"1\" /><path clip-path=\"url(#clip450)\" d=\"M2265.64 1544.91 L2273.28 1544.91 L2273.28 1518.55 L2264.97 1520.21 L2264.97 1515.95 L2273.24 1514.29 L2277.91 1514.29 L2277.91 1544.91 L2285.55 1544.91 L2285.55 1548.85 L2265.64 1548.85 L2265.64 1544.91 Z\" fill=\"#000000\" fill-rule=\"evenodd\" fill-opacity=\"1\" /><path clip-path=\"url(#clip450)\" d=\"M2304.99 1517.37 Q2301.38 1517.37 2299.55 1520.93 Q2297.75 1524.47 2297.75 1531.6 Q2297.75 1538.71 2299.55 1542.27 Q2301.38 1545.82 2304.99 1545.82 Q2308.63 1545.82 2310.43 1542.27 Q2312.26 1538.71 2312.26 1531.6 Q2312.26 1524.47 2310.43 1520.93 Q2308.63 1517.37 2304.99 1517.37 M2304.99 1513.66 Q2310.8 1513.66 2313.86 1518.27 Q2316.94 1522.85 2316.94 1531.6 Q2316.94 1540.33 2313.86 1544.94 Q2310.8 1549.52 2304.99 1549.52 Q2299.18 1549.52 2296.11 1544.94 Q2293.05 1540.33 2293.05 1531.6 Q2293.05 1522.85 2296.11 1518.27 Q2299.18 1513.66 2304.99 1513.66 Z\" fill=\"#000000\" fill-rule=\"evenodd\" fill-opacity=\"1\" /><polyline clip-path=\"url(#clip452)\" style=\"stroke:#000000; stroke-linecap:round; stroke-linejoin:round; stroke-width:2; stroke-opacity:0.1; fill:none\" points=\"169.121,1257.62 2352.76,1257.62 \"/>\n",
       "<polyline clip-path=\"url(#clip452)\" style=\"stroke:#000000; stroke-linecap:round; stroke-linejoin:round; stroke-width:2; stroke-opacity:0.1; fill:none\" points=\"169.121,993.63 2352.76,993.63 \"/>\n",
       "<polyline clip-path=\"url(#clip452)\" style=\"stroke:#000000; stroke-linecap:round; stroke-linejoin:round; stroke-width:2; stroke-opacity:0.1; fill:none\" points=\"169.121,729.641 2352.76,729.641 \"/>\n",
       "<polyline clip-path=\"url(#clip452)\" style=\"stroke:#000000; stroke-linecap:round; stroke-linejoin:round; stroke-width:2; stroke-opacity:0.1; fill:none\" points=\"169.121,465.653 2352.76,465.653 \"/>\n",
       "<polyline clip-path=\"url(#clip452)\" style=\"stroke:#000000; stroke-linecap:round; stroke-linejoin:round; stroke-width:2; stroke-opacity:0.1; fill:none\" points=\"169.121,201.664 2352.76,201.664 \"/>\n",
       "<polyline clip-path=\"url(#clip450)\" style=\"stroke:#000000; stroke-linecap:round; stroke-linejoin:round; stroke-width:4; stroke-opacity:1; fill:none\" points=\"169.121,1486.45 169.121,47.2441 \"/>\n",
       "<polyline clip-path=\"url(#clip450)\" style=\"stroke:#000000; stroke-linecap:round; stroke-linejoin:round; stroke-width:4; stroke-opacity:1; fill:none\" points=\"169.121,1257.62 188.019,1257.62 \"/>\n",
       "<polyline clip-path=\"url(#clip450)\" style=\"stroke:#000000; stroke-linecap:round; stroke-linejoin:round; stroke-width:4; stroke-opacity:1; fill:none\" points=\"169.121,993.63 188.019,993.63 \"/>\n",
       "<polyline clip-path=\"url(#clip450)\" style=\"stroke:#000000; stroke-linecap:round; stroke-linejoin:round; stroke-width:4; stroke-opacity:1; fill:none\" points=\"169.121,729.641 188.019,729.641 \"/>\n",
       "<polyline clip-path=\"url(#clip450)\" style=\"stroke:#000000; stroke-linecap:round; stroke-linejoin:round; stroke-width:4; stroke-opacity:1; fill:none\" points=\"169.121,465.653 188.019,465.653 \"/>\n",
       "<polyline clip-path=\"url(#clip450)\" style=\"stroke:#000000; stroke-linecap:round; stroke-linejoin:round; stroke-width:4; stroke-opacity:1; fill:none\" points=\"169.121,201.664 188.019,201.664 \"/>\n",
       "<path clip-path=\"url(#clip450)\" d=\"M121.177 1243.42 Q117.566 1243.42 115.737 1246.98 Q113.932 1250.52 113.932 1257.65 Q113.932 1264.76 115.737 1268.32 Q117.566 1271.87 121.177 1271.87 Q124.811 1271.87 126.617 1268.32 Q128.445 1264.76 128.445 1257.65 Q128.445 1250.52 126.617 1246.98 Q124.811 1243.42 121.177 1243.42 M121.177 1239.71 Q126.987 1239.71 130.043 1244.32 Q133.121 1248.9 133.121 1257.65 Q133.121 1266.38 130.043 1270.99 Q126.987 1275.57 121.177 1275.57 Q115.367 1275.57 112.288 1270.99 Q109.233 1266.38 109.233 1257.65 Q109.233 1248.9 112.288 1244.32 Q115.367 1239.71 121.177 1239.71 Z\" fill=\"#000000\" fill-rule=\"evenodd\" fill-opacity=\"1\" /><path clip-path=\"url(#clip450)\" d=\"M95.1817 992.276 Q98.5382 992.993 100.413 995.262 Q102.311 997.53 102.311 1000.86 Q102.311 1005.98 98.7928 1008.78 Q95.2743 1011.58 88.7928 1011.58 Q86.6169 1011.58 84.3021 1011.14 Q82.0105 1010.72 79.5568 1009.87 L79.5568 1005.35 Q81.5012 1006.49 83.816 1007.07 Q86.1308 1007.65 88.654 1007.65 Q93.0521 1007.65 95.3437 1005.91 Q97.6585 1004.17 97.6585 1000.86 Q97.6585 997.808 95.5058 996.095 Q93.3762 994.359 89.5567 994.359 L85.529 994.359 L85.529 990.516 L89.7419 990.516 Q93.191 990.516 95.0197 989.151 Q96.8484 987.762 96.8484 985.169 Q96.8484 982.507 94.9502 981.095 Q93.0752 979.66 89.5567 979.66 Q87.6354 979.66 85.4364 980.077 Q83.2373 980.493 80.5984 981.373 L80.5984 977.206 Q83.2605 976.466 85.5753 976.095 Q87.9132 975.725 89.9734 975.725 Q95.2974 975.725 98.3993 978.155 Q101.501 980.563 101.501 984.683 Q101.501 987.554 99.8576 989.544 Q98.2141 991.512 95.1817 992.276 Z\" fill=\"#000000\" fill-rule=\"evenodd\" fill-opacity=\"1\" /><path clip-path=\"url(#clip450)\" d=\"M121.177 979.429 Q117.566 979.429 115.737 982.993 Q113.932 986.535 113.932 993.665 Q113.932 1000.77 115.737 1004.34 Q117.566 1007.88 121.177 1007.88 Q124.811 1007.88 126.617 1004.34 Q128.445 1000.77 128.445 993.665 Q128.445 986.535 126.617 982.993 Q124.811 979.429 121.177 979.429 M121.177 975.725 Q126.987 975.725 130.043 980.331 Q133.121 984.915 133.121 993.665 Q133.121 1002.39 130.043 1007 Q126.987 1011.58 121.177 1011.58 Q115.367 1011.58 112.288 1007 Q109.233 1002.39 109.233 993.665 Q109.233 984.915 112.288 980.331 Q115.367 975.725 121.177 975.725 Z\" fill=\"#000000\" fill-rule=\"evenodd\" fill-opacity=\"1\" /><path clip-path=\"url(#clip450)\" d=\"M91.5938 727.778 Q88.4456 727.778 86.5938 729.931 Q84.7651 732.083 84.7651 735.833 Q84.7651 739.56 86.5938 741.736 Q88.4456 743.889 91.5938 743.889 Q94.7419 743.889 96.5706 741.736 Q98.4224 739.56 98.4224 735.833 Q98.4224 732.083 96.5706 729.931 Q94.7419 727.778 91.5938 727.778 M100.876 713.125 L100.876 717.384 Q99.1169 716.551 97.3113 716.111 Q95.5289 715.672 93.7697 715.672 Q89.1401 715.672 86.6864 718.796 Q84.2558 721.921 83.9086 728.241 Q85.2743 726.227 87.3345 725.162 Q89.3947 724.074 91.8715 724.074 Q97.0798 724.074 100.089 727.246 Q103.121 730.394 103.121 735.833 Q103.121 741.157 99.9733 744.375 Q96.8252 747.593 91.5938 747.593 Q85.5984 747.593 82.4271 743.009 Q79.2559 738.403 79.2559 729.676 Q79.2559 721.482 83.1447 716.621 Q87.0336 711.736 93.5845 711.736 Q95.3437 711.736 97.1261 712.084 Q98.9317 712.431 100.876 713.125 Z\" fill=\"#000000\" fill-rule=\"evenodd\" fill-opacity=\"1\" /><path clip-path=\"url(#clip450)\" d=\"M121.177 715.44 Q117.566 715.44 115.737 719.005 Q113.932 722.546 113.932 729.676 Q113.932 736.782 115.737 740.347 Q117.566 743.889 121.177 743.889 Q124.811 743.889 126.617 740.347 Q128.445 736.782 128.445 729.676 Q128.445 722.546 126.617 719.005 Q124.811 715.44 121.177 715.44 M121.177 711.736 Q126.987 711.736 130.043 716.343 Q133.121 720.926 133.121 729.676 Q133.121 738.403 130.043 743.009 Q126.987 747.593 121.177 747.593 Q115.367 747.593 112.288 743.009 Q109.233 738.403 109.233 729.676 Q109.233 720.926 112.288 716.343 Q115.367 711.736 121.177 711.736 Z\" fill=\"#000000\" fill-rule=\"evenodd\" fill-opacity=\"1\" /><path clip-path=\"url(#clip450)\" d=\"M81.154 482.215 L81.154 477.956 Q82.9133 478.789 84.7188 479.229 Q86.5243 479.669 88.2604 479.669 Q92.89 479.669 95.3206 476.567 Q97.7743 473.442 98.1215 467.1 Q96.7789 469.09 94.7187 470.155 Q92.6586 471.22 90.1586 471.22 Q84.9734 471.22 81.941 468.095 Q78.9318 464.947 78.9318 459.507 Q78.9318 454.183 82.0799 450.965 Q85.2281 447.748 90.4595 447.748 Q96.4548 447.748 99.603 452.354 Q102.774 456.938 102.774 465.687 Q102.774 473.859 98.8854 478.743 Q95.0197 483.604 88.4688 483.604 Q86.7095 483.604 84.904 483.257 Q83.0984 482.91 81.154 482.215 M90.4595 467.562 Q93.6076 467.562 95.4363 465.41 Q97.2882 463.257 97.2882 459.507 Q97.2882 455.78 95.4363 453.627 Q93.6076 451.451 90.4595 451.451 Q87.3114 451.451 85.4595 453.627 Q83.6308 455.78 83.6308 459.507 Q83.6308 463.257 85.4595 465.41 Q87.3114 467.562 90.4595 467.562 Z\" fill=\"#000000\" fill-rule=\"evenodd\" fill-opacity=\"1\" /><path clip-path=\"url(#clip450)\" d=\"M121.177 451.451 Q117.566 451.451 115.737 455.016 Q113.932 458.558 113.932 465.687 Q113.932 472.794 115.737 476.359 Q117.566 479.9 121.177 479.9 Q124.811 479.9 126.617 476.359 Q128.445 472.794 128.445 465.687 Q128.445 458.558 126.617 455.016 Q124.811 451.451 121.177 451.451 M121.177 447.748 Q126.987 447.748 130.043 452.354 Q133.121 456.938 133.121 465.687 Q133.121 474.414 130.043 479.021 Q126.987 483.604 121.177 483.604 Q115.367 483.604 112.288 479.021 Q109.233 474.414 109.233 465.687 Q109.233 456.938 112.288 452.354 Q115.367 447.748 121.177 447.748 Z\" fill=\"#000000\" fill-rule=\"evenodd\" fill-opacity=\"1\" /><path clip-path=\"url(#clip450)\" d=\"M51.6634 215.009 L59.3023 215.009 L59.3023 188.643 L50.9921 190.31 L50.9921 186.051 L59.256 184.384 L63.9319 184.384 L63.9319 215.009 L71.5707 215.009 L71.5707 218.944 L51.6634 218.944 L51.6634 215.009 Z\" fill=\"#000000\" fill-rule=\"evenodd\" fill-opacity=\"1\" /><path clip-path=\"url(#clip450)\" d=\"M85.0429 215.009 L101.362 215.009 L101.362 218.944 L79.4179 218.944 L79.4179 215.009 Q82.0799 212.254 86.6632 207.625 Q91.2697 202.972 92.4502 201.629 Q94.6956 199.106 95.5752 197.37 Q96.478 195.611 96.478 193.921 Q96.478 191.167 94.5336 189.43 Q92.6123 187.694 89.5104 187.694 Q87.3114 187.694 84.8577 188.458 Q82.4271 189.222 79.6494 190.773 L79.6494 186.051 Q82.4734 184.917 84.9271 184.338 Q87.3808 183.759 89.4178 183.759 Q94.7882 183.759 97.9826 186.444 Q101.177 189.13 101.177 193.62 Q101.177 195.75 100.367 197.671 Q99.5798 199.569 97.4734 202.162 Q96.8947 202.833 93.7928 206.051 Q90.691 209.245 85.0429 215.009 Z\" fill=\"#000000\" fill-rule=\"evenodd\" fill-opacity=\"1\" /><path clip-path=\"url(#clip450)\" d=\"M121.177 187.463 Q117.566 187.463 115.737 191.028 Q113.932 194.569 113.932 201.699 Q113.932 208.805 115.737 212.37 Q117.566 215.912 121.177 215.912 Q124.811 215.912 126.617 212.37 Q128.445 208.805 128.445 201.699 Q128.445 194.569 126.617 191.028 Q124.811 187.463 121.177 187.463 M121.177 183.759 Q126.987 183.759 130.043 188.366 Q133.121 192.949 133.121 201.699 Q133.121 210.426 130.043 215.032 Q126.987 219.616 121.177 219.616 Q115.367 219.616 112.288 215.032 Q109.233 210.426 109.233 201.699 Q109.233 192.949 112.288 188.366 Q115.367 183.759 121.177 183.759 Z\" fill=\"#000000\" fill-rule=\"evenodd\" fill-opacity=\"1\" /><circle clip-path=\"url(#clip452)\" cx=\"230.922\" cy=\"535.997\" r=\"14.4\" fill=\"#009af9\" fill-rule=\"evenodd\" fill-opacity=\"1\" stroke=\"#000000\" stroke-opacity=\"1\" stroke-width=\"3.2\"/>\n",
       "<circle clip-path=\"url(#clip452)\" cx=\"333.924\" cy=\"881.311\" r=\"14.4\" fill=\"#009af9\" fill-rule=\"evenodd\" fill-opacity=\"1\" stroke=\"#000000\" stroke-opacity=\"1\" stroke-width=\"3.2\"/>\n",
       "<circle clip-path=\"url(#clip452)\" cx=\"436.926\" cy=\"834.057\" r=\"14.4\" fill=\"#009af9\" fill-rule=\"evenodd\" fill-opacity=\"1\" stroke=\"#000000\" stroke-opacity=\"1\" stroke-width=\"3.2\"/>\n",
       "<circle clip-path=\"url(#clip452)\" cx=\"539.927\" cy=\"982.418\" r=\"14.4\" fill=\"#009af9\" fill-rule=\"evenodd\" fill-opacity=\"1\" stroke=\"#000000\" stroke-opacity=\"1\" stroke-width=\"3.2\"/>\n",
       "<circle clip-path=\"url(#clip452)\" cx=\"642.929\" cy=\"1179.29\" r=\"14.4\" fill=\"#009af9\" fill-rule=\"evenodd\" fill-opacity=\"1\" stroke=\"#000000\" stroke-opacity=\"1\" stroke-width=\"3.2\"/>\n",
       "<circle clip-path=\"url(#clip452)\" cx=\"745.93\" cy=\"1360.63\" r=\"14.4\" fill=\"#009af9\" fill-rule=\"evenodd\" fill-opacity=\"1\" stroke=\"#000000\" stroke-opacity=\"1\" stroke-width=\"3.2\"/>\n",
       "<circle clip-path=\"url(#clip452)\" cx=\"848.932\" cy=\"1325.22\" r=\"14.4\" fill=\"#009af9\" fill-rule=\"evenodd\" fill-opacity=\"1\" stroke=\"#000000\" stroke-opacity=\"1\" stroke-width=\"3.2\"/>\n",
       "<circle clip-path=\"url(#clip452)\" cx=\"951.934\" cy=\"1212.41\" r=\"14.4\" fill=\"#009af9\" fill-rule=\"evenodd\" fill-opacity=\"1\" stroke=\"#000000\" stroke-opacity=\"1\" stroke-width=\"3.2\"/>\n",
       "<circle clip-path=\"url(#clip452)\" cx=\"1054.94\" cy=\"1369.19\" r=\"14.4\" fill=\"#009af9\" fill-rule=\"evenodd\" fill-opacity=\"1\" stroke=\"#000000\" stroke-opacity=\"1\" stroke-width=\"3.2\"/>\n",
       "<circle clip-path=\"url(#clip452)\" cx=\"1157.94\" cy=\"1333.73\" r=\"14.4\" fill=\"#009af9\" fill-rule=\"evenodd\" fill-opacity=\"1\" stroke=\"#000000\" stroke-opacity=\"1\" stroke-width=\"3.2\"/>\n",
       "<circle clip-path=\"url(#clip452)\" cx=\"1260.94\" cy=\"1445.72\" r=\"14.4\" fill=\"#009af9\" fill-rule=\"evenodd\" fill-opacity=\"1\" stroke=\"#000000\" stroke-opacity=\"1\" stroke-width=\"3.2\"/>\n",
       "<circle clip-path=\"url(#clip452)\" cx=\"1363.94\" cy=\"1307.89\" r=\"14.4\" fill=\"#009af9\" fill-rule=\"evenodd\" fill-opacity=\"1\" stroke=\"#000000\" stroke-opacity=\"1\" stroke-width=\"3.2\"/>\n",
       "<circle clip-path=\"url(#clip452)\" cx=\"1466.94\" cy=\"1237.31\" r=\"14.4\" fill=\"#009af9\" fill-rule=\"evenodd\" fill-opacity=\"1\" stroke=\"#000000\" stroke-opacity=\"1\" stroke-width=\"3.2\"/>\n",
       "<circle clip-path=\"url(#clip452)\" cx=\"1569.94\" cy=\"1129.99\" r=\"14.4\" fill=\"#009af9\" fill-rule=\"evenodd\" fill-opacity=\"1\" stroke=\"#000000\" stroke-opacity=\"1\" stroke-width=\"3.2\"/>\n",
       "<circle clip-path=\"url(#clip452)\" cx=\"1672.95\" cy=\"1132.61\" r=\"14.4\" fill=\"#009af9\" fill-rule=\"evenodd\" fill-opacity=\"1\" stroke=\"#000000\" stroke-opacity=\"1\" stroke-width=\"3.2\"/>\n",
       "<circle clip-path=\"url(#clip452)\" cx=\"1775.95\" cy=\"955.991\" r=\"14.4\" fill=\"#009af9\" fill-rule=\"evenodd\" fill-opacity=\"1\" stroke=\"#000000\" stroke-opacity=\"1\" stroke-width=\"3.2\"/>\n",
       "<circle clip-path=\"url(#clip452)\" cx=\"1878.95\" cy=\"774.609\" r=\"14.4\" fill=\"#009af9\" fill-rule=\"evenodd\" fill-opacity=\"1\" stroke=\"#000000\" stroke-opacity=\"1\" stroke-width=\"3.2\"/>\n",
       "<circle clip-path=\"url(#clip452)\" cx=\"1981.95\" cy=\"713.273\" r=\"14.4\" fill=\"#009af9\" fill-rule=\"evenodd\" fill-opacity=\"1\" stroke=\"#000000\" stroke-opacity=\"1\" stroke-width=\"3.2\"/>\n",
       "<circle clip-path=\"url(#clip452)\" cx=\"2084.95\" cy=\"508.74\" r=\"14.4\" fill=\"#009af9\" fill-rule=\"evenodd\" fill-opacity=\"1\" stroke=\"#000000\" stroke-opacity=\"1\" stroke-width=\"3.2\"/>\n",
       "<circle clip-path=\"url(#clip452)\" cx=\"2187.95\" cy=\"302.712\" r=\"14.4\" fill=\"#009af9\" fill-rule=\"evenodd\" fill-opacity=\"1\" stroke=\"#000000\" stroke-opacity=\"1\" stroke-width=\"3.2\"/>\n",
       "<circle clip-path=\"url(#clip452)\" cx=\"2290.95\" cy=\"102.95\" r=\"14.4\" fill=\"#009af9\" fill-rule=\"evenodd\" fill-opacity=\"1\" stroke=\"#000000\" stroke-opacity=\"1\" stroke-width=\"3.2\"/>\n",
       "<polyline clip-path=\"url(#clip452)\" style=\"stroke:#e26f46; stroke-linecap:round; stroke-linejoin:round; stroke-width:4; stroke-opacity:1; fill:none\" points=\"230.922,659.244 333.924,800.038 436.926,923.233 539.927,1028.83 642.929,1116.82 745.93,1187.22 848.932,1240.02 951.934,1275.22 1054.94,1292.82 1157.94,1292.82 1260.94,1275.22 1363.94,1240.02 1466.94,1187.22 1569.94,1116.82 1672.95,1028.83 1775.95,923.233 1878.95,800.038 1981.95,659.244 2084.95,500.851 2187.95,324.859 2290.95,131.267 \"/>\n",
       "<polyline clip-path=\"url(#clip452)\" style=\"stroke:#3da44d; stroke-linecap:round; stroke-linejoin:round; stroke-width:4; stroke-opacity:1; fill:none\" points=\"230.922,601.819 333.924,767.316 436.926,912.687 539.927,1037.93 642.929,1143.05 745.93,1228.05 848.932,1292.92 951.934,1337.67 1054.94,1362.29 1157.94,1366.78 1260.94,1351.15 1363.94,1315.4 1466.94,1259.52 1569.94,1183.51 1672.95,1087.38 1775.95,971.129 1878.95,834.749 1981.95,678.243 2084.95,501.613 2187.95,304.857 2290.95,87.9763 \"/>\n",
       "<path clip-path=\"url(#clip450)\" d=\"M241.909 302.578 L803.234 302.578 L803.234 95.2176 L241.909 95.2176  Z\" fill=\"#ffffff\" fill-rule=\"evenodd\" fill-opacity=\"1\"/>\n",
       "<polyline clip-path=\"url(#clip450)\" style=\"stroke:#000000; stroke-linecap:round; stroke-linejoin:round; stroke-width:4; stroke-opacity:1; fill:none\" points=\"241.909,302.578 803.234,302.578 803.234,95.2176 241.909,95.2176 241.909,302.578 \"/>\n",
       "<circle clip-path=\"url(#clip450)\" cx=\"338.96\" cy=\"147.058\" r=\"23.04\" fill=\"#009af9\" fill-rule=\"evenodd\" fill-opacity=\"1\" stroke=\"#000000\" stroke-opacity=\"1\" stroke-width=\"5.12\"/>\n",
       "<path clip-path=\"url(#clip450)\" d=\"M452.028 132.949 Q446.936 132.949 443.927 136.745 Q440.941 140.541 440.941 147.092 Q440.941 153.62 443.927 157.416 Q446.936 161.213 452.028 161.213 Q457.121 161.213 460.084 157.416 Q463.07 153.62 463.07 147.092 Q463.07 140.541 460.084 136.745 Q457.121 132.949 452.028 132.949 M452.028 129.153 Q459.297 129.153 463.649 134.037 Q468.001 138.898 468.001 147.092 Q468.001 155.264 463.649 160.148 Q459.297 165.009 452.028 165.009 Q444.737 165.009 440.362 160.148 Q436.01 155.287 436.01 147.092 Q436.01 138.898 440.362 134.037 Q444.737 129.153 452.028 129.153 Z\" fill=\"#000000\" fill-rule=\"evenodd\" fill-opacity=\"1\" /><path clip-path=\"url(#clip450)\" d=\"M493.741 151.398 Q493.741 146.699 491.797 144.037 Q489.875 141.352 486.496 141.352 Q483.116 141.352 481.172 144.037 Q479.25 146.699 479.25 151.398 Q479.25 156.097 481.172 158.782 Q483.116 161.444 486.496 161.444 Q489.875 161.444 491.797 158.782 Q493.741 156.097 493.741 151.398 M479.25 142.347 Q480.593 140.032 482.63 138.921 Q484.69 137.787 487.537 137.787 Q492.26 137.787 495.199 141.537 Q498.162 145.287 498.162 151.398 Q498.162 157.509 495.199 161.259 Q492.26 165.009 487.537 165.009 Q484.69 165.009 482.63 163.898 Q480.593 162.763 479.25 160.449 L479.25 164.338 L474.968 164.338 L474.968 128.319 L479.25 128.319 L479.25 142.347 Z\" fill=\"#000000\" fill-rule=\"evenodd\" fill-opacity=\"1\" /><path clip-path=\"url(#clip450)\" d=\"M521.75 139.176 L521.75 143.203 Q519.945 142.277 518 141.815 Q516.056 141.352 513.973 141.352 Q510.801 141.352 509.204 142.324 Q507.63 143.296 507.63 145.24 Q507.63 146.722 508.764 147.578 Q509.898 148.412 513.324 149.176 L514.783 149.5 Q519.32 150.472 521.218 152.254 Q523.139 154.014 523.139 157.185 Q523.139 160.796 520.269 162.902 Q517.422 165.009 512.422 165.009 Q510.338 165.009 508.07 164.592 Q505.824 164.199 503.324 163.388 L503.324 158.99 Q505.686 160.217 507.977 160.842 Q510.269 161.444 512.514 161.444 Q515.523 161.444 517.144 160.426 Q518.764 159.384 518.764 157.509 Q518.764 155.773 517.584 154.847 Q516.426 153.921 512.468 153.064 L510.986 152.717 Q507.028 151.884 505.269 150.171 Q503.51 148.435 503.51 145.426 Q503.51 141.768 506.102 139.778 Q508.695 137.787 513.463 137.787 Q515.824 137.787 517.908 138.134 Q519.991 138.481 521.75 139.176 Z\" fill=\"#000000\" fill-rule=\"evenodd\" fill-opacity=\"1\" /><path clip-path=\"url(#clip450)\" d=\"M552.097 150.31 L552.097 152.393 L532.514 152.393 Q532.792 156.791 535.153 159.106 Q537.537 161.398 541.773 161.398 Q544.227 161.398 546.519 160.796 Q548.833 160.194 551.102 158.99 L551.102 163.018 Q548.81 163.99 546.403 164.5 Q543.996 165.009 541.519 165.009 Q535.315 165.009 531.681 161.398 Q528.07 157.787 528.07 151.629 Q528.07 145.264 531.496 141.537 Q534.945 137.787 540.778 137.787 Q546.009 137.787 549.042 141.166 Q552.097 144.523 552.097 150.31 M547.838 149.06 Q547.792 145.565 545.871 143.481 Q543.972 141.398 540.824 141.398 Q537.259 141.398 535.107 143.412 Q532.977 145.426 532.653 149.083 L547.838 149.06 Z\" fill=\"#000000\" fill-rule=\"evenodd\" fill-opacity=\"1\" /><path clip-path=\"url(#clip450)\" d=\"M574.111 142.393 Q573.394 141.977 572.537 141.791 Q571.704 141.583 570.685 141.583 Q567.074 141.583 565.13 143.944 Q563.208 146.282 563.208 150.68 L563.208 164.338 L558.926 164.338 L558.926 138.412 L563.208 138.412 L563.208 142.44 Q564.551 140.078 566.704 138.944 Q568.856 137.787 571.935 137.787 Q572.375 137.787 572.907 137.856 Q573.44 137.903 574.088 138.018 L574.111 142.393 Z\" fill=\"#000000\" fill-rule=\"evenodd\" fill-opacity=\"1\" /><path clip-path=\"url(#clip450)\" d=\"M575.523 138.412 L580.037 138.412 L588.139 160.171 L596.241 138.412 L600.754 138.412 L591.032 164.338 L585.245 164.338 L575.523 138.412 Z\" fill=\"#000000\" fill-rule=\"evenodd\" fill-opacity=\"1\" /><path clip-path=\"url(#clip450)\" d=\"M628.81 150.31 L628.81 152.393 L609.227 152.393 Q609.504 156.791 611.866 159.106 Q614.25 161.398 618.486 161.398 Q620.94 161.398 623.231 160.796 Q625.546 160.194 627.815 158.99 L627.815 163.018 Q625.523 163.99 623.115 164.5 Q620.708 165.009 618.231 165.009 Q612.028 165.009 608.393 161.398 Q604.782 157.787 604.782 151.629 Q604.782 145.264 608.208 141.537 Q611.657 137.787 617.49 137.787 Q622.722 137.787 625.754 141.166 Q628.81 144.523 628.81 150.31 M624.551 149.06 Q624.504 145.565 622.583 143.481 Q620.685 141.398 617.537 141.398 Q613.972 141.398 611.819 143.412 Q609.69 145.426 609.366 149.083 L624.551 149.06 Z\" fill=\"#000000\" fill-rule=\"evenodd\" fill-opacity=\"1\" /><path clip-path=\"url(#clip450)\" d=\"M652.861 142.347 L652.861 128.319 L657.12 128.319 L657.12 164.338 L652.861 164.338 L652.861 160.449 Q651.518 162.763 649.458 163.898 Q647.421 165.009 644.551 165.009 Q639.851 165.009 636.889 161.259 Q633.949 157.509 633.949 151.398 Q633.949 145.287 636.889 141.537 Q639.851 137.787 644.551 137.787 Q647.421 137.787 649.458 138.921 Q651.518 140.032 652.861 142.347 M638.347 151.398 Q638.347 156.097 640.268 158.782 Q642.213 161.444 645.592 161.444 Q648.972 161.444 650.916 158.782 Q652.861 156.097 652.861 151.398 Q652.861 146.699 650.916 144.037 Q648.972 141.352 645.592 141.352 Q642.213 141.352 640.268 144.037 Q638.347 146.699 638.347 151.398 Z\" fill=\"#000000\" fill-rule=\"evenodd\" fill-opacity=\"1\" /><path clip-path=\"url(#clip450)\" d=\"M698.022 142.347 L698.022 128.319 L702.282 128.319 L702.282 164.338 L698.022 164.338 L698.022 160.449 Q696.68 162.763 694.62 163.898 Q692.583 165.009 689.712 165.009 Q685.013 165.009 682.05 161.259 Q679.111 157.509 679.111 151.398 Q679.111 145.287 682.05 141.537 Q685.013 137.787 689.712 137.787 Q692.583 137.787 694.62 138.921 Q696.68 140.032 698.022 142.347 M683.509 151.398 Q683.509 156.097 685.43 158.782 Q687.374 161.444 690.754 161.444 Q694.134 161.444 696.078 158.782 Q698.022 156.097 698.022 151.398 Q698.022 146.699 696.078 144.037 Q694.134 141.352 690.754 141.352 Q687.374 141.352 685.43 144.037 Q683.509 146.699 683.509 151.398 Z\" fill=\"#000000\" fill-rule=\"evenodd\" fill-opacity=\"1\" /><path clip-path=\"url(#clip450)\" d=\"M722.837 151.305 Q717.675 151.305 715.684 152.486 Q713.694 153.666 713.694 156.514 Q713.694 158.782 715.175 160.125 Q716.68 161.444 719.249 161.444 Q722.791 161.444 724.92 158.944 Q727.073 156.421 727.073 152.254 L727.073 151.305 L722.837 151.305 M731.332 149.546 L731.332 164.338 L727.073 164.338 L727.073 160.402 Q725.615 162.763 723.439 163.898 Q721.263 165.009 718.115 165.009 Q714.133 165.009 711.772 162.787 Q709.434 160.541 709.434 156.791 Q709.434 152.416 712.351 150.194 Q715.291 147.972 721.101 147.972 L727.073 147.972 L727.073 147.555 Q727.073 144.615 725.129 143.018 Q723.208 141.398 719.712 141.398 Q717.49 141.398 715.383 141.93 Q713.277 142.463 711.333 143.527 L711.333 139.592 Q713.671 138.69 715.87 138.25 Q718.069 137.787 720.152 137.787 Q725.777 137.787 728.555 140.703 Q731.332 143.62 731.332 149.546 Z\" fill=\"#000000\" fill-rule=\"evenodd\" fill-opacity=\"1\" /><path clip-path=\"url(#clip450)\" d=\"M744.319 131.051 L744.319 138.412 L753.092 138.412 L753.092 141.722 L744.319 141.722 L744.319 155.796 Q744.319 158.967 745.175 159.87 Q746.055 160.773 748.717 160.773 L753.092 160.773 L753.092 164.338 L748.717 164.338 Q743.786 164.338 741.911 162.509 Q740.036 160.657 740.036 155.796 L740.036 141.722 L736.911 141.722 L736.911 138.412 L740.036 138.412 L740.036 131.051 L744.319 131.051 Z\" fill=\"#000000\" fill-rule=\"evenodd\" fill-opacity=\"1\" /><path clip-path=\"url(#clip450)\" d=\"M770.476 151.305 Q765.314 151.305 763.323 152.486 Q761.332 153.666 761.332 156.514 Q761.332 158.782 762.814 160.125 Q764.318 161.444 766.888 161.444 Q770.429 161.444 772.559 158.944 Q774.712 156.421 774.712 152.254 L774.712 151.305 L770.476 151.305 M778.971 149.546 L778.971 164.338 L774.712 164.338 L774.712 160.402 Q773.254 162.763 771.078 163.898 Q768.902 165.009 765.754 165.009 Q761.772 165.009 759.411 162.787 Q757.073 160.541 757.073 156.791 Q757.073 152.416 759.99 150.194 Q762.93 147.972 768.74 147.972 L774.712 147.972 L774.712 147.555 Q774.712 144.615 772.767 143.018 Q770.846 141.398 767.351 141.398 Q765.129 141.398 763.022 141.93 Q760.916 142.463 758.971 143.527 L758.971 139.592 Q761.309 138.69 763.508 138.25 Q765.707 137.787 767.791 137.787 Q773.416 137.787 776.193 140.703 Q778.971 143.62 778.971 149.546 Z\" fill=\"#000000\" fill-rule=\"evenodd\" fill-opacity=\"1\" /><polyline clip-path=\"url(#clip450)\" style=\"stroke:#e26f46; stroke-linecap:round; stroke-linejoin:round; stroke-width:4; stroke-opacity:1; fill:none\" points=\"266.172,198.898 411.747,198.898 \"/>\n",
       "<path clip-path=\"url(#clip450)\" d=\"M436.01 181.618 L465.246 181.618 L465.246 185.553 L452.977 185.553 L452.977 216.178 L448.278 216.178 L448.278 185.553 L436.01 185.553 L436.01 181.618 Z\" fill=\"#000000\" fill-rule=\"evenodd\" fill-opacity=\"1\" /><path clip-path=\"url(#clip450)\" d=\"M477.63 194.233 Q476.913 193.817 476.056 193.631 Q475.223 193.423 474.204 193.423 Q470.593 193.423 468.649 195.784 Q466.727 198.122 466.727 202.52 L466.727 216.178 L462.445 216.178 L462.445 190.252 L466.727 190.252 L466.727 194.28 Q468.07 191.918 470.223 190.784 Q472.376 189.627 475.454 189.627 Q475.894 189.627 476.426 189.696 Q476.959 189.743 477.607 189.858 L477.63 194.233 Z\" fill=\"#000000\" fill-rule=\"evenodd\" fill-opacity=\"1\" /><path clip-path=\"url(#clip450)\" d=\"M481.658 205.946 L481.658 190.252 L485.917 190.252 L485.917 205.784 Q485.917 209.465 487.352 211.316 Q488.787 213.145 491.658 213.145 Q495.107 213.145 497.098 210.946 Q499.112 208.747 499.112 204.951 L499.112 190.252 L503.371 190.252 L503.371 216.178 L499.112 216.178 L499.112 212.196 Q497.561 214.557 495.5 215.715 Q493.463 216.849 490.755 216.849 Q486.287 216.849 483.973 214.071 Q481.658 211.293 481.658 205.946 M492.375 189.627 L492.375 189.627 Z\" fill=\"#000000\" fill-rule=\"evenodd\" fill-opacity=\"1\" /><path clip-path=\"url(#clip450)\" d=\"M534.32 202.15 L534.32 204.233 L514.736 204.233 Q515.014 208.631 517.375 210.946 Q519.76 213.238 523.996 213.238 Q526.449 213.238 528.741 212.636 Q531.056 212.034 533.324 210.83 L533.324 214.858 Q531.033 215.83 528.625 216.34 Q526.218 216.849 523.741 216.849 Q517.537 216.849 513.903 213.238 Q510.292 209.627 510.292 203.469 Q510.292 197.104 513.718 193.377 Q517.167 189.627 523 189.627 Q528.232 189.627 531.264 193.006 Q534.32 196.363 534.32 202.15 M530.06 200.9 Q530.014 197.405 528.093 195.321 Q526.195 193.238 523.047 193.238 Q519.482 193.238 517.329 195.252 Q515.199 197.266 514.875 200.923 L530.06 200.9 Z\" fill=\"#000000\" fill-rule=\"evenodd\" fill-opacity=\"1\" /><path clip-path=\"url(#clip450)\" d=\"M556.38 180.159 L560.639 180.159 L560.639 216.178 L556.38 216.178 L556.38 180.159 Z\" fill=\"#000000\" fill-rule=\"evenodd\" fill-opacity=\"1\" /><path clip-path=\"url(#clip450)\" d=\"M569.551 190.252 L573.81 190.252 L573.81 216.178 L569.551 216.178 L569.551 190.252 M569.551 180.159 L573.81 180.159 L573.81 185.553 L569.551 185.553 L569.551 180.159 Z\" fill=\"#000000\" fill-rule=\"evenodd\" fill-opacity=\"1\" /><path clip-path=\"url(#clip450)\" d=\"M604.273 200.529 L604.273 216.178 L600.014 216.178 L600.014 200.668 Q600.014 196.988 598.579 195.159 Q597.143 193.33 594.273 193.33 Q590.824 193.33 588.833 195.53 Q586.843 197.729 586.843 201.525 L586.843 216.178 L582.56 216.178 L582.56 190.252 L586.843 190.252 L586.843 194.28 Q588.37 191.942 590.43 190.784 Q592.514 189.627 595.222 189.627 Q599.69 189.627 601.981 192.405 Q604.273 195.159 604.273 200.529 Z\" fill=\"#000000\" fill-rule=\"evenodd\" fill-opacity=\"1\" /><path clip-path=\"url(#clip450)\" d=\"M634.944 202.15 L634.944 204.233 L615.361 204.233 Q615.639 208.631 618 210.946 Q620.384 213.238 624.62 213.238 Q627.074 213.238 629.365 212.636 Q631.68 212.034 633.949 210.83 L633.949 214.858 Q631.657 215.83 629.25 216.34 Q626.842 216.849 624.365 216.849 Q618.162 216.849 614.528 213.238 Q610.916 209.627 610.916 203.469 Q610.916 197.104 614.342 193.377 Q617.791 189.627 623.625 189.627 Q628.856 189.627 631.889 193.006 Q634.944 196.363 634.944 202.15 M630.685 200.9 Q630.639 197.405 628.717 195.321 Q626.819 193.238 623.671 193.238 Q620.106 193.238 617.953 195.252 Q615.824 197.266 615.5 200.923 L630.685 200.9 Z\" fill=\"#000000\" fill-rule=\"evenodd\" fill-opacity=\"1\" /><polyline clip-path=\"url(#clip450)\" style=\"stroke:#3da44d; stroke-linecap:round; stroke-linejoin:round; stroke-width:4; stroke-opacity:1; fill:none\" points=\"266.172,250.738 411.747,250.738 \"/>\n",
       "<path clip-path=\"url(#clip450)\" d=\"M436.01 233.458 L455.871 233.458 L455.871 237.393 L440.686 237.393 L440.686 247.578 L454.39 247.578 L454.39 251.513 L440.686 251.513 L440.686 268.018 L436.01 268.018 L436.01 233.458 Z\" fill=\"#000000\" fill-rule=\"evenodd\" fill-opacity=\"1\" /><path clip-path=\"url(#clip450)\" d=\"M459.644 242.092 L463.903 242.092 L463.903 268.018 L459.644 268.018 L459.644 242.092 M459.644 231.999 L463.903 231.999 L463.903 237.393 L459.644 237.393 L459.644 231.999 Z\" fill=\"#000000\" fill-rule=\"evenodd\" fill-opacity=\"1\" /><path clip-path=\"url(#clip450)\" d=\"M477.028 234.731 L477.028 242.092 L485.801 242.092 L485.801 245.402 L477.028 245.402 L477.028 259.476 Q477.028 262.647 477.885 263.55 Q478.764 264.453 481.426 264.453 L485.801 264.453 L485.801 268.018 L481.426 268.018 Q476.496 268.018 474.621 266.189 Q472.746 264.337 472.746 259.476 L472.746 245.402 L469.621 245.402 L469.621 242.092 L472.746 242.092 L472.746 234.731 L477.028 234.731 Z\" fill=\"#000000\" fill-rule=\"evenodd\" fill-opacity=\"1\" /><path clip-path=\"url(#clip450)\" d=\"M495.616 234.731 L495.616 242.092 L504.389 242.092 L504.389 245.402 L495.616 245.402 L495.616 259.476 Q495.616 262.647 496.473 263.55 Q497.352 264.453 500.014 264.453 L504.389 264.453 L504.389 268.018 L500.014 268.018 Q495.084 268.018 493.209 266.189 Q491.334 264.337 491.334 259.476 L491.334 245.402 L488.209 245.402 L488.209 242.092 L491.334 242.092 L491.334 234.731 L495.616 234.731 Z\" fill=\"#000000\" fill-rule=\"evenodd\" fill-opacity=\"1\" /><path clip-path=\"url(#clip450)\" d=\"M532.167 253.99 L532.167 256.073 L512.584 256.073 Q512.861 260.471 515.223 262.786 Q517.607 265.078 521.843 265.078 Q524.297 265.078 526.588 264.476 Q528.903 263.874 531.172 262.67 L531.172 266.698 Q528.88 267.67 526.472 268.18 Q524.065 268.689 521.588 268.689 Q515.385 268.689 511.75 265.078 Q508.139 261.467 508.139 255.309 Q508.139 248.944 511.565 245.217 Q515.014 241.467 520.847 241.467 Q526.079 241.467 529.111 244.846 Q532.167 248.203 532.167 253.99 M527.908 252.74 Q527.861 249.245 525.94 247.161 Q524.042 245.078 520.894 245.078 Q517.329 245.078 515.176 247.092 Q513.047 249.106 512.723 252.763 L527.908 252.74 Z\" fill=\"#000000\" fill-rule=\"evenodd\" fill-opacity=\"1\" /><path clip-path=\"url(#clip450)\" d=\"M556.218 246.027 L556.218 231.999 L560.477 231.999 L560.477 268.018 L556.218 268.018 L556.218 264.129 Q554.875 266.443 552.815 267.578 Q550.778 268.689 547.908 268.689 Q543.208 268.689 540.246 264.939 Q537.306 261.189 537.306 255.078 Q537.306 248.967 540.246 245.217 Q543.208 241.467 547.908 241.467 Q550.778 241.467 552.815 242.601 Q554.875 243.712 556.218 246.027 M541.704 255.078 Q541.704 259.777 543.625 262.462 Q545.57 265.124 548.949 265.124 Q552.329 265.124 554.273 262.462 Q556.218 259.777 556.218 255.078 Q556.218 250.379 554.273 247.717 Q552.329 245.032 548.949 245.032 Q545.57 245.032 543.625 247.717 Q541.704 250.379 541.704 255.078 Z\" fill=\"#000000\" fill-rule=\"evenodd\" fill-opacity=\"1\" /><path clip-path=\"url(#clip450)\" d=\"M584.319 231.999 L588.579 231.999 L588.579 268.018 L584.319 268.018 L584.319 231.999 Z\" fill=\"#000000\" fill-rule=\"evenodd\" fill-opacity=\"1\" /><path clip-path=\"url(#clip450)\" d=\"M597.491 242.092 L601.75 242.092 L601.75 268.018 L597.491 268.018 L597.491 242.092 M597.491 231.999 L601.75 231.999 L601.75 237.393 L597.491 237.393 L597.491 231.999 Z\" fill=\"#000000\" fill-rule=\"evenodd\" fill-opacity=\"1\" /><path clip-path=\"url(#clip450)\" d=\"M632.213 252.369 L632.213 268.018 L627.953 268.018 L627.953 252.508 Q627.953 248.828 626.518 246.999 Q625.083 245.17 622.213 245.17 Q618.764 245.17 616.773 247.37 Q614.782 249.569 614.782 253.365 L614.782 268.018 L610.5 268.018 L610.5 242.092 L614.782 242.092 L614.782 246.12 Q616.31 243.782 618.37 242.624 Q620.453 241.467 623.162 241.467 Q627.629 241.467 629.921 244.245 Q632.213 246.999 632.213 252.369 Z\" fill=\"#000000\" fill-rule=\"evenodd\" fill-opacity=\"1\" /><path clip-path=\"url(#clip450)\" d=\"M662.884 253.99 L662.884 256.073 L643.301 256.073 Q643.578 260.471 645.939 262.786 Q648.324 265.078 652.56 265.078 Q655.013 265.078 657.305 264.476 Q659.62 263.874 661.888 262.67 L661.888 266.698 Q659.597 267.67 657.189 268.18 Q654.782 268.689 652.305 268.689 Q646.101 268.689 642.467 265.078 Q638.856 261.467 638.856 255.309 Q638.856 248.944 642.282 245.217 Q645.731 241.467 651.564 241.467 Q656.796 241.467 659.828 244.846 Q662.884 248.203 662.884 253.99 M658.625 252.74 Q658.578 249.245 656.657 247.161 Q654.759 245.078 651.611 245.078 Q648.046 245.078 645.893 247.092 Q643.764 249.106 643.439 252.763 L658.625 252.74 Z\" fill=\"#000000\" fill-rule=\"evenodd\" fill-opacity=\"1\" /></svg>\n"
      ]
     },
     "execution_count": 41,
     "metadata": {},
     "output_type": "execute_result"
    }
   ],
   "source": [
    "using Polynomials\n",
    "line_fit = Polynomials.fit(x,y_observed,2)\n",
    "fit_coeff = coeffs(line_fit)\n",
    "y_fitted = fit_coeff[1] .+ fit_coeff[2] .* x .+ fit_coeff[3] .*x.^2\n",
    "plot!(x,y_fitted,label=\"Fitted line\")"
   ]
  },
  {
   "cell_type": "markdown",
   "id": "b3b5a343",
   "metadata": {},
   "source": [
    "### 2.4\n",
    "\n",
    "1. Repeat 2.2 and 2.3 with a noise with a standard deviation of 50"
   ]
  },
  {
   "cell_type": "code",
   "execution_count": 42,
   "id": "b4c08499",
   "metadata": {},
   "outputs": [
    {
     "data": {
      "text/plain": [
       "21-element Vector{Float64}:\n",
       "  29.889586088050528\n",
       "  -7.95782076065224\n",
       " -28.041022419704518\n",
       "  61.0108106401537\n",
       "  73.17052900558966\n",
       "  33.85077683843119\n",
       "  -3.2712393100683395\n",
       "  11.754172264461474\n",
       "   5.728340875334872\n",
       " -89.11218789697992\n",
       " -37.01055813500902\n",
       "  19.95201372844361\n",
       " -16.880236588431828\n",
       "  22.469457844023573\n",
       "  66.80090534120832\n",
       "  60.64519916781329\n",
       "  60.23702776551963\n",
       " 102.34350048771375\n",
       "  87.26618695511137\n",
       "  74.57525033182907\n",
       " 139.31982994902668"
      ]
     },
     "execution_count": 42,
     "metadata": {},
     "output_type": "execute_result"
    }
   ],
   "source": [
    "using Distributions, Polynomials, Statistics, Plots\n",
    "dataerr2 = 50.0\n",
    "d2 = di.Normal(0,dataerr2)\n",
    "y_observed2 = y_true .+ rand(d2,length(x))"
   ]
  },
  {
   "cell_type": "code",
   "execution_count": 43,
   "id": "caede34c",
   "metadata": {},
   "outputs": [
    {
     "data": {
      "image/svg+xml": [
       "<?xml version=\"1.0\" encoding=\"utf-8\"?>\n",
       "<svg xmlns=\"http://www.w3.org/2000/svg\" xmlns:xlink=\"http://www.w3.org/1999/xlink\" width=\"600\" height=\"400\" viewBox=\"0 0 2400 1600\">\n",
       "<defs>\n",
       "  <clipPath id=\"clip490\">\n",
       "    <rect x=\"0\" y=\"0\" width=\"2400\" height=\"1600\"/>\n",
       "  </clipPath>\n",
       "</defs>\n",
       "<path clip-path=\"url(#clip490)\" d=\"M0 1600 L2400 1600 L2400 0 L0 0  Z\" fill=\"#ffffff\" fill-rule=\"evenodd\" fill-opacity=\"1\"/>\n",
       "<defs>\n",
       "  <clipPath id=\"clip491\">\n",
       "    <rect x=\"480\" y=\"0\" width=\"1681\" height=\"1600\"/>\n",
       "  </clipPath>\n",
       "</defs>\n",
       "<path clip-path=\"url(#clip490)\" d=\"M178.867 1486.45 L2352.76 1486.45 L2352.76 47.2441 L178.867 47.2441  Z\" fill=\"#ffffff\" fill-rule=\"evenodd\" fill-opacity=\"1\"/>\n",
       "<defs>\n",
       "  <clipPath id=\"clip492\">\n",
       "    <rect x=\"178\" y=\"47\" width=\"2175\" height=\"1440\"/>\n",
       "  </clipPath>\n",
       "</defs>\n",
       "<polyline clip-path=\"url(#clip492)\" style=\"stroke:#000000; stroke-linecap:round; stroke-linejoin:round; stroke-width:2; stroke-opacity:0.1; fill:none\" points=\"240.392,1486.45 240.392,47.2441 \"/>\n",
       "<polyline clip-path=\"url(#clip492)\" style=\"stroke:#000000; stroke-linecap:round; stroke-linejoin:round; stroke-width:2; stroke-opacity:0.1; fill:none\" points=\"753.102,1486.45 753.102,47.2441 \"/>\n",
       "<polyline clip-path=\"url(#clip492)\" style=\"stroke:#000000; stroke-linecap:round; stroke-linejoin:round; stroke-width:2; stroke-opacity:0.1; fill:none\" points=\"1265.81,1486.45 1265.81,47.2441 \"/>\n",
       "<polyline clip-path=\"url(#clip492)\" style=\"stroke:#000000; stroke-linecap:round; stroke-linejoin:round; stroke-width:2; stroke-opacity:0.1; fill:none\" points=\"1778.52,1486.45 1778.52,47.2441 \"/>\n",
       "<polyline clip-path=\"url(#clip492)\" style=\"stroke:#000000; stroke-linecap:round; stroke-linejoin:round; stroke-width:2; stroke-opacity:0.1; fill:none\" points=\"2291.23,1486.45 2291.23,47.2441 \"/>\n",
       "<polyline clip-path=\"url(#clip490)\" style=\"stroke:#000000; stroke-linecap:round; stroke-linejoin:round; stroke-width:4; stroke-opacity:1; fill:none\" points=\"178.867,1486.45 2352.76,1486.45 \"/>\n",
       "<polyline clip-path=\"url(#clip490)\" style=\"stroke:#000000; stroke-linecap:round; stroke-linejoin:round; stroke-width:4; stroke-opacity:1; fill:none\" points=\"240.392,1486.45 240.392,1467.55 \"/>\n",
       "<polyline clip-path=\"url(#clip490)\" style=\"stroke:#000000; stroke-linecap:round; stroke-linejoin:round; stroke-width:4; stroke-opacity:1; fill:none\" points=\"753.102,1486.45 753.102,1467.55 \"/>\n",
       "<polyline clip-path=\"url(#clip490)\" style=\"stroke:#000000; stroke-linecap:round; stroke-linejoin:round; stroke-width:4; stroke-opacity:1; fill:none\" points=\"1265.81,1486.45 1265.81,1467.55 \"/>\n",
       "<polyline clip-path=\"url(#clip490)\" style=\"stroke:#000000; stroke-linecap:round; stroke-linejoin:round; stroke-width:4; stroke-opacity:1; fill:none\" points=\"1778.52,1486.45 1778.52,1467.55 \"/>\n",
       "<polyline clip-path=\"url(#clip490)\" style=\"stroke:#000000; stroke-linecap:round; stroke-linejoin:round; stroke-width:4; stroke-opacity:1; fill:none\" points=\"2291.23,1486.45 2291.23,1467.55 \"/>\n",
       "<path clip-path=\"url(#clip490)\" d=\"M194.455 1532.02 L224.13 1532.02 L224.13 1535.95 L194.455 1535.95 L194.455 1532.02 Z\" fill=\"#000000\" fill-rule=\"evenodd\" fill-opacity=\"1\" /><path clip-path=\"url(#clip490)\" d=\"M235.033 1544.91 L242.672 1544.91 L242.672 1518.55 L234.362 1520.21 L234.362 1515.95 L242.626 1514.29 L247.301 1514.29 L247.301 1544.91 L254.94 1544.91 L254.94 1548.85 L235.033 1548.85 L235.033 1544.91 Z\" fill=\"#000000\" fill-rule=\"evenodd\" fill-opacity=\"1\" /><path clip-path=\"url(#clip490)\" d=\"M274.385 1517.37 Q270.774 1517.37 268.945 1520.93 Q267.139 1524.47 267.139 1531.6 Q267.139 1538.71 268.945 1542.27 Q270.774 1545.82 274.385 1545.82 Q278.019 1545.82 279.824 1542.27 Q281.653 1538.71 281.653 1531.6 Q281.653 1524.47 279.824 1520.93 Q278.019 1517.37 274.385 1517.37 M274.385 1513.66 Q280.195 1513.66 283.25 1518.27 Q286.329 1522.85 286.329 1531.6 Q286.329 1540.33 283.25 1544.94 Q280.195 1549.52 274.385 1549.52 Q268.575 1549.52 265.496 1544.94 Q262.44 1540.33 262.44 1531.6 Q262.44 1522.85 265.496 1518.27 Q268.575 1513.66 274.385 1513.66 Z\" fill=\"#000000\" fill-rule=\"evenodd\" fill-opacity=\"1\" /><path clip-path=\"url(#clip490)\" d=\"M722.743 1532.02 L752.419 1532.02 L752.419 1535.95 L722.743 1535.95 L722.743 1532.02 Z\" fill=\"#000000\" fill-rule=\"evenodd\" fill-opacity=\"1\" /><path clip-path=\"url(#clip490)\" d=\"M762.558 1514.29 L780.914 1514.29 L780.914 1518.22 L766.84 1518.22 L766.84 1526.7 Q767.858 1526.35 768.877 1526.19 Q769.895 1526 770.914 1526 Q776.701 1526 780.081 1529.17 Q783.46 1532.34 783.46 1537.76 Q783.46 1543.34 779.988 1546.44 Q776.516 1549.52 770.196 1549.52 Q768.02 1549.52 765.752 1549.15 Q763.507 1548.78 761.099 1548.04 L761.099 1543.34 Q763.183 1544.47 765.405 1545.03 Q767.627 1545.58 770.104 1545.58 Q774.108 1545.58 776.446 1543.48 Q778.784 1541.37 778.784 1537.76 Q778.784 1534.15 776.446 1532.04 Q774.108 1529.94 770.104 1529.94 Q768.229 1529.94 766.354 1530.35 Q764.502 1530.77 762.558 1531.65 L762.558 1514.29 Z\" fill=\"#000000\" fill-rule=\"evenodd\" fill-opacity=\"1\" /><path clip-path=\"url(#clip490)\" d=\"M1265.81 1517.37 Q1262.2 1517.37 1260.37 1520.93 Q1258.57 1524.47 1258.57 1531.6 Q1258.57 1538.71 1260.37 1542.27 Q1262.2 1545.82 1265.81 1545.82 Q1269.45 1545.82 1271.25 1542.27 Q1273.08 1538.71 1273.08 1531.6 Q1273.08 1524.47 1271.25 1520.93 Q1269.45 1517.37 1265.81 1517.37 M1265.81 1513.66 Q1271.62 1513.66 1274.68 1518.27 Q1277.76 1522.85 1277.76 1531.6 Q1277.76 1540.33 1274.68 1544.94 Q1271.62 1549.52 1265.81 1549.52 Q1260 1549.52 1256.92 1544.94 Q1253.87 1540.33 1253.87 1531.6 Q1253.87 1522.85 1256.92 1518.27 Q1260 1513.66 1265.81 1513.66 Z\" fill=\"#000000\" fill-rule=\"evenodd\" fill-opacity=\"1\" /><path clip-path=\"url(#clip490)\" d=\"M1768.8 1514.29 L1787.16 1514.29 L1787.16 1518.22 L1773.08 1518.22 L1773.08 1526.7 Q1774.1 1526.35 1775.12 1526.19 Q1776.14 1526 1777.16 1526 Q1782.94 1526 1786.32 1529.17 Q1789.7 1532.34 1789.7 1537.76 Q1789.7 1543.34 1786.23 1546.44 Q1782.76 1549.52 1776.44 1549.52 Q1774.26 1549.52 1771.99 1549.15 Q1769.75 1548.78 1767.34 1548.04 L1767.34 1543.34 Q1769.42 1544.47 1771.65 1545.03 Q1773.87 1545.58 1776.35 1545.58 Q1780.35 1545.58 1782.69 1543.48 Q1785.03 1541.37 1785.03 1537.76 Q1785.03 1534.15 1782.69 1532.04 Q1780.35 1529.94 1776.35 1529.94 Q1774.47 1529.94 1772.6 1530.35 Q1770.74 1530.77 1768.8 1531.65 L1768.8 1514.29 Z\" fill=\"#000000\" fill-rule=\"evenodd\" fill-opacity=\"1\" /><path clip-path=\"url(#clip490)\" d=\"M2265.92 1544.91 L2273.56 1544.91 L2273.56 1518.55 L2265.25 1520.21 L2265.25 1515.95 L2273.51 1514.29 L2278.19 1514.29 L2278.19 1544.91 L2285.83 1544.91 L2285.83 1548.85 L2265.92 1548.85 L2265.92 1544.91 Z\" fill=\"#000000\" fill-rule=\"evenodd\" fill-opacity=\"1\" /><path clip-path=\"url(#clip490)\" d=\"M2305.27 1517.37 Q2301.66 1517.37 2299.83 1520.93 Q2298.02 1524.47 2298.02 1531.6 Q2298.02 1538.71 2299.83 1542.27 Q2301.66 1545.82 2305.27 1545.82 Q2308.9 1545.82 2310.71 1542.27 Q2312.54 1538.71 2312.54 1531.6 Q2312.54 1524.47 2310.71 1520.93 Q2308.9 1517.37 2305.27 1517.37 M2305.27 1513.66 Q2311.08 1513.66 2314.14 1518.27 Q2317.21 1522.85 2317.21 1531.6 Q2317.21 1540.33 2314.14 1544.94 Q2311.08 1549.52 2305.27 1549.52 Q2299.46 1549.52 2296.38 1544.94 Q2293.33 1540.33 2293.33 1531.6 Q2293.33 1522.85 2296.38 1518.27 Q2299.46 1513.66 2305.27 1513.66 Z\" fill=\"#000000\" fill-rule=\"evenodd\" fill-opacity=\"1\" /><polyline clip-path=\"url(#clip492)\" style=\"stroke:#000000; stroke-linecap:round; stroke-linejoin:round; stroke-width:2; stroke-opacity:0.1; fill:none\" points=\"178.867,1213.24 2352.76,1213.24 \"/>\n",
       "<polyline clip-path=\"url(#clip492)\" style=\"stroke:#000000; stroke-linecap:round; stroke-linejoin:round; stroke-width:2; stroke-opacity:0.1; fill:none\" points=\"178.867,916.056 2352.76,916.056 \"/>\n",
       "<polyline clip-path=\"url(#clip492)\" style=\"stroke:#000000; stroke-linecap:round; stroke-linejoin:round; stroke-width:2; stroke-opacity:0.1; fill:none\" points=\"178.867,618.87 2352.76,618.87 \"/>\n",
       "<polyline clip-path=\"url(#clip492)\" style=\"stroke:#000000; stroke-linecap:round; stroke-linejoin:round; stroke-width:2; stroke-opacity:0.1; fill:none\" points=\"178.867,321.683 2352.76,321.683 \"/>\n",
       "<polyline clip-path=\"url(#clip490)\" style=\"stroke:#000000; stroke-linecap:round; stroke-linejoin:round; stroke-width:4; stroke-opacity:1; fill:none\" points=\"178.867,1486.45 178.867,47.2441 \"/>\n",
       "<polyline clip-path=\"url(#clip490)\" style=\"stroke:#000000; stroke-linecap:round; stroke-linejoin:round; stroke-width:4; stroke-opacity:1; fill:none\" points=\"178.867,1213.24 197.764,1213.24 \"/>\n",
       "<polyline clip-path=\"url(#clip490)\" style=\"stroke:#000000; stroke-linecap:round; stroke-linejoin:round; stroke-width:4; stroke-opacity:1; fill:none\" points=\"178.867,916.056 197.764,916.056 \"/>\n",
       "<polyline clip-path=\"url(#clip490)\" style=\"stroke:#000000; stroke-linecap:round; stroke-linejoin:round; stroke-width:4; stroke-opacity:1; fill:none\" points=\"178.867,618.87 197.764,618.87 \"/>\n",
       "<polyline clip-path=\"url(#clip490)\" style=\"stroke:#000000; stroke-linecap:round; stroke-linejoin:round; stroke-width:4; stroke-opacity:1; fill:none\" points=\"178.867,321.683 197.764,321.683 \"/>\n",
       "<path clip-path=\"url(#clip490)\" d=\"M50.9921 1213.69 L80.6679 1213.69 L80.6679 1217.63 L50.9921 1217.63 L50.9921 1213.69 Z\" fill=\"#000000\" fill-rule=\"evenodd\" fill-opacity=\"1\" /><path clip-path=\"url(#clip490)\" d=\"M90.8067 1195.96 L109.163 1195.96 L109.163 1199.9 L95.0891 1199.9 L95.0891 1208.37 Q96.1076 1208.02 97.1261 1207.86 Q98.1447 1207.68 99.1632 1207.68 Q104.95 1207.68 108.33 1210.85 Q111.709 1214.02 111.709 1219.44 Q111.709 1225.01 108.237 1228.12 Q104.765 1231.19 98.4456 1231.19 Q96.2697 1231.19 94.0012 1230.82 Q91.7558 1230.45 89.3484 1229.71 L89.3484 1225.01 Q91.4317 1226.15 93.6539 1226.7 Q95.8761 1227.26 98.353 1227.26 Q102.358 1227.26 104.696 1225.15 Q107.033 1223.05 107.033 1219.44 Q107.033 1215.82 104.696 1213.72 Q102.358 1211.61 98.353 1211.61 Q96.478 1211.61 94.603 1212.03 Q92.7512 1212.44 90.8067 1213.32 L90.8067 1195.96 Z\" fill=\"#000000\" fill-rule=\"evenodd\" fill-opacity=\"1\" /><path clip-path=\"url(#clip490)\" d=\"M130.922 1199.04 Q127.311 1199.04 125.482 1202.61 Q123.677 1206.15 123.677 1213.28 Q123.677 1220.38 125.482 1223.95 Q127.311 1227.49 130.922 1227.49 Q134.556 1227.49 136.362 1223.95 Q138.191 1220.38 138.191 1213.28 Q138.191 1206.15 136.362 1202.61 Q134.556 1199.04 130.922 1199.04 M130.922 1195.34 Q136.732 1195.34 139.788 1199.94 Q142.867 1204.53 142.867 1213.28 Q142.867 1222 139.788 1226.61 Q136.732 1231.19 130.922 1231.19 Q125.112 1231.19 122.033 1226.61 Q118.978 1222 118.978 1213.28 Q118.978 1204.53 122.033 1199.94 Q125.112 1195.34 130.922 1195.34 Z\" fill=\"#000000\" fill-rule=\"evenodd\" fill-opacity=\"1\" /><path clip-path=\"url(#clip490)\" d=\"M130.922 901.855 Q127.311 901.855 125.482 905.42 Q123.677 908.962 123.677 916.091 Q123.677 923.198 125.482 926.762 Q127.311 930.304 130.922 930.304 Q134.556 930.304 136.362 926.762 Q138.191 923.198 138.191 916.091 Q138.191 908.962 136.362 905.42 Q134.556 901.855 130.922 901.855 M130.922 898.151 Q136.732 898.151 139.788 902.758 Q142.867 907.341 142.867 916.091 Q142.867 924.818 139.788 929.424 Q136.732 934.008 130.922 934.008 Q125.112 934.008 122.033 929.424 Q118.978 924.818 118.978 916.091 Q118.978 907.341 122.033 902.758 Q125.112 898.151 130.922 898.151 Z\" fill=\"#000000\" fill-rule=\"evenodd\" fill-opacity=\"1\" /><path clip-path=\"url(#clip490)\" d=\"M90.8067 601.59 L109.163 601.59 L109.163 605.525 L95.0891 605.525 L95.0891 613.997 Q96.1076 613.65 97.1261 613.488 Q98.1447 613.303 99.1632 613.303 Q104.95 613.303 108.33 616.474 Q111.709 619.645 111.709 625.062 Q111.709 630.64 108.237 633.742 Q104.765 636.821 98.4456 636.821 Q96.2697 636.821 94.0012 636.451 Q91.7558 636.08 89.3484 635.34 L89.3484 630.64 Q91.4317 631.775 93.6539 632.33 Q95.8761 632.886 98.353 632.886 Q102.358 632.886 104.696 630.779 Q107.033 628.673 107.033 625.062 Q107.033 621.451 104.696 619.344 Q102.358 617.238 98.353 617.238 Q96.478 617.238 94.603 617.654 Q92.7512 618.071 90.8067 618.951 L90.8067 601.59 Z\" fill=\"#000000\" fill-rule=\"evenodd\" fill-opacity=\"1\" /><path clip-path=\"url(#clip490)\" d=\"M130.922 604.668 Q127.311 604.668 125.482 608.233 Q123.677 611.775 123.677 618.904 Q123.677 626.011 125.482 629.576 Q127.311 633.117 130.922 633.117 Q134.556 633.117 136.362 629.576 Q138.191 626.011 138.191 618.904 Q138.191 611.775 136.362 608.233 Q134.556 604.668 130.922 604.668 M130.922 600.965 Q136.732 600.965 139.788 605.571 Q142.867 610.154 142.867 618.904 Q142.867 627.631 139.788 632.238 Q136.732 636.821 130.922 636.821 Q125.112 636.821 122.033 632.238 Q118.978 627.631 118.978 618.904 Q118.978 610.154 122.033 605.571 Q125.112 600.965 130.922 600.965 Z\" fill=\"#000000\" fill-rule=\"evenodd\" fill-opacity=\"1\" /><path clip-path=\"url(#clip490)\" d=\"M61.4087 335.028 L69.0476 335.028 L69.0476 308.662 L60.7374 310.329 L60.7374 306.07 L69.0013 304.403 L73.6772 304.403 L73.6772 335.028 L81.316 335.028 L81.316 338.963 L61.4087 338.963 L61.4087 335.028 Z\" fill=\"#000000\" fill-rule=\"evenodd\" fill-opacity=\"1\" /><path clip-path=\"url(#clip490)\" d=\"M100.76 307.482 Q97.1493 307.482 95.3206 311.046 Q93.515 314.588 93.515 321.718 Q93.515 328.824 95.3206 332.389 Q97.1493 335.931 100.76 335.931 Q104.395 335.931 106.2 332.389 Q108.029 328.824 108.029 321.718 Q108.029 314.588 106.2 311.046 Q104.395 307.482 100.76 307.482 M100.76 303.778 Q106.571 303.778 109.626 308.384 Q112.705 312.968 112.705 321.718 Q112.705 330.444 109.626 335.051 Q106.571 339.634 100.76 339.634 Q94.9502 339.634 91.8715 335.051 Q88.816 330.444 88.816 321.718 Q88.816 312.968 91.8715 308.384 Q94.9502 303.778 100.76 303.778 Z\" fill=\"#000000\" fill-rule=\"evenodd\" fill-opacity=\"1\" /><path clip-path=\"url(#clip490)\" d=\"M130.922 307.482 Q127.311 307.482 125.482 311.046 Q123.677 314.588 123.677 321.718 Q123.677 328.824 125.482 332.389 Q127.311 335.931 130.922 335.931 Q134.556 335.931 136.362 332.389 Q138.191 328.824 138.191 321.718 Q138.191 314.588 136.362 311.046 Q134.556 307.482 130.922 307.482 M130.922 303.778 Q136.732 303.778 139.788 308.384 Q142.867 312.968 142.867 321.718 Q142.867 330.444 139.788 335.051 Q136.732 339.634 130.922 339.634 Q125.112 339.634 122.033 335.051 Q118.978 330.444 118.978 321.718 Q118.978 312.968 122.033 308.384 Q125.112 303.778 130.922 303.778 Z\" fill=\"#000000\" fill-rule=\"evenodd\" fill-opacity=\"1\" /><circle clip-path=\"url(#clip492)\" cx=\"240.392\" cy=\"738.401\" r=\"14.4\" fill=\"#009af9\" fill-rule=\"evenodd\" fill-opacity=\"1\" stroke=\"#000000\" stroke-opacity=\"1\" stroke-width=\"3.2\"/>\n",
       "<circle clip-path=\"url(#clip492)\" cx=\"342.934\" cy=\"963.356\" r=\"14.4\" fill=\"#009af9\" fill-rule=\"evenodd\" fill-opacity=\"1\" stroke=\"#000000\" stroke-opacity=\"1\" stroke-width=\"3.2\"/>\n",
       "<circle clip-path=\"url(#clip492)\" cx=\"445.476\" cy=\"1082.72\" r=\"14.4\" fill=\"#009af9\" fill-rule=\"evenodd\" fill-opacity=\"1\" stroke=\"#000000\" stroke-opacity=\"1\" stroke-width=\"3.2\"/>\n",
       "<circle clip-path=\"url(#clip492)\" cx=\"548.018\" cy=\"553.424\" r=\"14.4\" fill=\"#009af9\" fill-rule=\"evenodd\" fill-opacity=\"1\" stroke=\"#000000\" stroke-opacity=\"1\" stroke-width=\"3.2\"/>\n",
       "<circle clip-path=\"url(#clip492)\" cx=\"650.56\" cy=\"481.15\" r=\"14.4\" fill=\"#009af9\" fill-rule=\"evenodd\" fill-opacity=\"1\" stroke=\"#000000\" stroke-opacity=\"1\" stroke-width=\"3.2\"/>\n",
       "<circle clip-path=\"url(#clip492)\" cx=\"753.102\" cy=\"714.856\" r=\"14.4\" fill=\"#009af9\" fill-rule=\"evenodd\" fill-opacity=\"1\" stroke=\"#000000\" stroke-opacity=\"1\" stroke-width=\"3.2\"/>\n",
       "<circle clip-path=\"url(#clip492)\" cx=\"855.643\" cy=\"935.5\" r=\"14.4\" fill=\"#009af9\" fill-rule=\"evenodd\" fill-opacity=\"1\" stroke=\"#000000\" stroke-opacity=\"1\" stroke-width=\"3.2\"/>\n",
       "<circle clip-path=\"url(#clip492)\" cx=\"958.185\" cy=\"846.193\" r=\"14.4\" fill=\"#009af9\" fill-rule=\"evenodd\" fill-opacity=\"1\" stroke=\"#000000\" stroke-opacity=\"1\" stroke-width=\"3.2\"/>\n",
       "<circle clip-path=\"url(#clip492)\" cx=\"1060.73\" cy=\"882.009\" r=\"14.4\" fill=\"#009af9\" fill-rule=\"evenodd\" fill-opacity=\"1\" stroke=\"#000000\" stroke-opacity=\"1\" stroke-width=\"3.2\"/>\n",
       "<circle clip-path=\"url(#clip492)\" cx=\"1163.27\" cy=\"1445.72\" r=\"14.4\" fill=\"#009af9\" fill-rule=\"evenodd\" fill-opacity=\"1\" stroke=\"#000000\" stroke-opacity=\"1\" stroke-width=\"3.2\"/>\n",
       "<circle clip-path=\"url(#clip492)\" cx=\"1265.81\" cy=\"1136.04\" r=\"14.4\" fill=\"#009af9\" fill-rule=\"evenodd\" fill-opacity=\"1\" stroke=\"#000000\" stroke-opacity=\"1\" stroke-width=\"3.2\"/>\n",
       "<circle clip-path=\"url(#clip492)\" cx=\"1368.35\" cy=\"797.467\" r=\"14.4\" fill=\"#009af9\" fill-rule=\"evenodd\" fill-opacity=\"1\" stroke=\"#000000\" stroke-opacity=\"1\" stroke-width=\"3.2\"/>\n",
       "<circle clip-path=\"url(#clip492)\" cx=\"1470.9\" cy=\"1016.39\" r=\"14.4\" fill=\"#009af9\" fill-rule=\"evenodd\" fill-opacity=\"1\" stroke=\"#000000\" stroke-opacity=\"1\" stroke-width=\"3.2\"/>\n",
       "<circle clip-path=\"url(#clip492)\" cx=\"1573.44\" cy=\"782.504\" r=\"14.4\" fill=\"#009af9\" fill-rule=\"evenodd\" fill-opacity=\"1\" stroke=\"#000000\" stroke-opacity=\"1\" stroke-width=\"3.2\"/>\n",
       "<circle clip-path=\"url(#clip492)\" cx=\"1675.98\" cy=\"519.01\" r=\"14.4\" fill=\"#009af9\" fill-rule=\"evenodd\" fill-opacity=\"1\" stroke=\"#000000\" stroke-opacity=\"1\" stroke-width=\"3.2\"/>\n",
       "<circle clip-path=\"url(#clip492)\" cx=\"1778.52\" cy=\"555.597\" r=\"14.4\" fill=\"#009af9\" fill-rule=\"evenodd\" fill-opacity=\"1\" stroke=\"#000000\" stroke-opacity=\"1\" stroke-width=\"3.2\"/>\n",
       "<circle clip-path=\"url(#clip492)\" cx=\"1881.06\" cy=\"558.024\" r=\"14.4\" fill=\"#009af9\" fill-rule=\"evenodd\" fill-opacity=\"1\" stroke=\"#000000\" stroke-opacity=\"1\" stroke-width=\"3.2\"/>\n",
       "<circle clip-path=\"url(#clip492)\" cx=\"1983.6\" cy=\"307.754\" r=\"14.4\" fill=\"#009af9\" fill-rule=\"evenodd\" fill-opacity=\"1\" stroke=\"#000000\" stroke-opacity=\"1\" stroke-width=\"3.2\"/>\n",
       "<circle clip-path=\"url(#clip492)\" cx=\"2086.15\" cy=\"397.369\" r=\"14.4\" fill=\"#009af9\" fill-rule=\"evenodd\" fill-opacity=\"1\" stroke=\"#000000\" stroke-opacity=\"1\" stroke-width=\"3.2\"/>\n",
       "<circle clip-path=\"url(#clip492)\" cx=\"2188.69\" cy=\"472.801\" r=\"14.4\" fill=\"#009af9\" fill-rule=\"evenodd\" fill-opacity=\"1\" stroke=\"#000000\" stroke-opacity=\"1\" stroke-width=\"3.2\"/>\n",
       "<circle clip-path=\"url(#clip492)\" cx=\"2291.23\" cy=\"87.9763\" r=\"14.4\" fill=\"#009af9\" fill-rule=\"evenodd\" fill-opacity=\"1\" stroke=\"#000000\" stroke-opacity=\"1\" stroke-width=\"3.2\"/>\n",
       "<polyline clip-path=\"url(#clip492)\" style=\"stroke:#e26f46; stroke-linecap:round; stroke-linejoin:round; stroke-width:4; stroke-opacity:1; fill:none\" points=\"240.392,511.882 342.934,606.982 445.476,690.195 548.018,761.519 650.56,820.957 753.102,868.507 855.643,904.169 958.185,927.944 1060.73,939.831 1163.27,939.831 1265.81,927.944 1368.35,904.169 1470.9,868.507 1573.44,820.957 1675.98,761.519 1778.52,690.195 1881.06,606.982 1983.6,511.882 2086.15,404.895 2188.69,286.021 2291.23,155.258 \"/>\n",
       "<polyline clip-path=\"url(#clip492)\" style=\"stroke:#3da44d; stroke-linecap:round; stroke-linejoin:round; stroke-width:4; stroke-opacity:1; fill:none\" points=\"240.392,693.36 342.934,757.304 445.476,811.689 548.018,856.514 650.56,891.779 753.102,917.484 855.643,933.629 958.185,940.214 1060.73,937.24 1163.27,924.705 1265.81,902.611 1368.35,870.956 1470.9,829.742 1573.44,778.968 1675.98,718.633 1778.52,648.739 1881.06,569.285 1983.6,480.271 2086.15,381.698 2188.69,273.564 2291.23,155.87 \"/>\n",
       "<path clip-path=\"url(#clip490)\" d=\"M251.33 302.578 L811.68 302.578 L811.68 95.2176 L251.33 95.2176  Z\" fill=\"#ffffff\" fill-rule=\"evenodd\" fill-opacity=\"1\"/>\n",
       "<polyline clip-path=\"url(#clip490)\" style=\"stroke:#000000; stroke-linecap:round; stroke-linejoin:round; stroke-width:4; stroke-opacity:1; fill:none\" points=\"251.33,302.578 811.68,302.578 811.68,95.2176 251.33,95.2176 251.33,302.578 \"/>\n",
       "<circle clip-path=\"url(#clip490)\" cx=\"347.947\" cy=\"147.058\" r=\"23.04\" fill=\"#009af9\" fill-rule=\"evenodd\" fill-opacity=\"1\" stroke=\"#000000\" stroke-opacity=\"1\" stroke-width=\"5.12\"/>\n",
       "<path clip-path=\"url(#clip490)\" d=\"M460.583 132.949 Q455.49 132.949 452.481 136.745 Q449.495 140.541 449.495 147.092 Q449.495 153.62 452.481 157.416 Q455.49 161.213 460.583 161.213 Q465.675 161.213 468.638 157.416 Q471.624 153.62 471.624 147.092 Q471.624 140.541 468.638 136.745 Q465.675 132.949 460.583 132.949 M460.583 129.153 Q467.851 129.153 472.203 134.037 Q476.555 138.898 476.555 147.092 Q476.555 155.264 472.203 160.148 Q467.851 165.009 460.583 165.009 Q453.291 165.009 448.916 160.148 Q444.564 155.287 444.564 147.092 Q444.564 138.898 448.916 134.037 Q453.291 129.153 460.583 129.153 Z\" fill=\"#000000\" fill-rule=\"evenodd\" fill-opacity=\"1\" /><path clip-path=\"url(#clip490)\" d=\"M502.295 151.398 Q502.295 146.699 500.351 144.037 Q498.43 141.352 495.05 141.352 Q491.67 141.352 489.726 144.037 Q487.805 146.699 487.805 151.398 Q487.805 156.097 489.726 158.782 Q491.67 161.444 495.05 161.444 Q498.43 161.444 500.351 158.782 Q502.295 156.097 502.295 151.398 M487.805 142.347 Q489.147 140.032 491.184 138.921 Q493.245 137.787 496.092 137.787 Q500.814 137.787 503.754 141.537 Q506.717 145.287 506.717 151.398 Q506.717 157.509 503.754 161.259 Q500.814 165.009 496.092 165.009 Q493.245 165.009 491.184 163.898 Q489.147 162.763 487.805 160.449 L487.805 164.338 L483.522 164.338 L483.522 128.319 L487.805 128.319 L487.805 142.347 Z\" fill=\"#000000\" fill-rule=\"evenodd\" fill-opacity=\"1\" /><path clip-path=\"url(#clip490)\" d=\"M530.304 139.176 L530.304 143.203 Q528.499 142.277 526.555 141.815 Q524.61 141.352 522.527 141.352 Q519.355 141.352 517.758 142.324 Q516.184 143.296 516.184 145.24 Q516.184 146.722 517.318 147.578 Q518.453 148.412 521.879 149.176 L523.337 149.5 Q527.874 150.472 529.772 152.254 Q531.693 154.014 531.693 157.185 Q531.693 160.796 528.823 162.902 Q525.976 165.009 520.976 165.009 Q518.893 165.009 516.624 164.592 Q514.379 164.199 511.879 163.388 L511.879 158.99 Q514.24 160.217 516.531 160.842 Q518.823 161.444 521.068 161.444 Q524.078 161.444 525.698 160.426 Q527.318 159.384 527.318 157.509 Q527.318 155.773 526.138 154.847 Q524.98 153.921 521.022 153.064 L519.541 152.717 Q515.582 151.884 513.823 150.171 Q512.064 148.435 512.064 145.426 Q512.064 141.768 514.656 139.778 Q517.249 137.787 522.018 137.787 Q524.379 137.787 526.462 138.134 Q528.545 138.481 530.304 139.176 Z\" fill=\"#000000\" fill-rule=\"evenodd\" fill-opacity=\"1\" /><path clip-path=\"url(#clip490)\" d=\"M560.652 150.31 L560.652 152.393 L541.068 152.393 Q541.346 156.791 543.707 159.106 Q546.091 161.398 550.328 161.398 Q552.781 161.398 555.073 160.796 Q557.388 160.194 559.656 158.99 L559.656 163.018 Q557.365 163.99 554.957 164.5 Q552.55 165.009 550.073 165.009 Q543.869 165.009 540.235 161.398 Q536.624 157.787 536.624 151.629 Q536.624 145.264 540.05 141.537 Q543.499 137.787 549.332 137.787 Q554.564 137.787 557.596 141.166 Q560.652 144.523 560.652 150.31 M556.392 149.06 Q556.346 145.565 554.425 143.481 Q552.527 141.398 549.378 141.398 Q545.814 141.398 543.661 143.412 Q541.531 145.426 541.207 149.083 L556.392 149.06 Z\" fill=\"#000000\" fill-rule=\"evenodd\" fill-opacity=\"1\" /><path clip-path=\"url(#clip490)\" d=\"M582.665 142.393 Q581.948 141.977 581.091 141.791 Q580.258 141.583 579.239 141.583 Q575.628 141.583 573.684 143.944 Q571.763 146.282 571.763 150.68 L571.763 164.338 L567.48 164.338 L567.48 138.412 L571.763 138.412 L571.763 142.44 Q573.105 140.078 575.258 138.944 Q577.411 137.787 580.489 137.787 Q580.929 137.787 581.462 137.856 Q581.994 137.903 582.642 138.018 L582.665 142.393 Z\" fill=\"#000000\" fill-rule=\"evenodd\" fill-opacity=\"1\" /><path clip-path=\"url(#clip490)\" d=\"M584.077 138.412 L588.591 138.412 L596.693 160.171 L604.795 138.412 L609.309 138.412 L599.587 164.338 L593.8 164.338 L584.077 138.412 Z\" fill=\"#000000\" fill-rule=\"evenodd\" fill-opacity=\"1\" /><path clip-path=\"url(#clip490)\" d=\"M637.364 150.31 L637.364 152.393 L617.781 152.393 Q618.059 156.791 620.42 159.106 Q622.804 161.398 627.04 161.398 Q629.494 161.398 631.785 160.796 Q634.1 160.194 636.369 158.99 L636.369 163.018 Q634.077 163.99 631.67 164.5 Q629.262 165.009 626.785 165.009 Q620.582 165.009 616.948 161.398 Q613.336 157.787 613.336 151.629 Q613.336 145.264 616.762 141.537 Q620.211 137.787 626.045 137.787 Q631.276 137.787 634.309 141.166 Q637.364 144.523 637.364 150.31 M633.105 149.06 Q633.059 145.565 631.137 143.481 Q629.239 141.398 626.091 141.398 Q622.526 141.398 620.373 143.412 Q618.244 145.426 617.92 149.083 L633.105 149.06 Z\" fill=\"#000000\" fill-rule=\"evenodd\" fill-opacity=\"1\" /><path clip-path=\"url(#clip490)\" d=\"M661.415 142.347 L661.415 128.319 L665.674 128.319 L665.674 164.338 L661.415 164.338 L661.415 160.449 Q660.072 162.763 658.012 163.898 Q655.975 165.009 653.105 165.009 Q648.406 165.009 645.443 161.259 Q642.503 157.509 642.503 151.398 Q642.503 145.287 645.443 141.537 Q648.406 137.787 653.105 137.787 Q655.975 137.787 658.012 138.921 Q660.072 140.032 661.415 142.347 M646.901 151.398 Q646.901 156.097 648.822 158.782 Q650.767 161.444 654.146 161.444 Q657.526 161.444 659.47 158.782 Q661.415 156.097 661.415 151.398 Q661.415 146.699 659.47 144.037 Q657.526 141.352 654.146 141.352 Q650.767 141.352 648.822 144.037 Q646.901 146.699 646.901 151.398 Z\" fill=\"#000000\" fill-rule=\"evenodd\" fill-opacity=\"1\" /><path clip-path=\"url(#clip490)\" d=\"M706.577 142.347 L706.577 128.319 L710.836 128.319 L710.836 164.338 L706.577 164.338 L706.577 160.449 Q705.234 162.763 703.174 163.898 Q701.137 165.009 698.267 165.009 Q693.568 165.009 690.605 161.259 Q687.665 157.509 687.665 151.398 Q687.665 145.287 690.605 141.537 Q693.568 137.787 698.267 137.787 Q701.137 137.787 703.174 138.921 Q705.234 140.032 706.577 142.347 M692.063 151.398 Q692.063 156.097 693.984 158.782 Q695.929 161.444 699.308 161.444 Q702.688 161.444 704.632 158.782 Q706.577 156.097 706.577 151.398 Q706.577 146.699 704.632 144.037 Q702.688 141.352 699.308 141.352 Q695.929 141.352 693.984 144.037 Q692.063 146.699 692.063 151.398 Z\" fill=\"#000000\" fill-rule=\"evenodd\" fill-opacity=\"1\" /><path clip-path=\"url(#clip490)\" d=\"M731.391 151.305 Q726.229 151.305 724.239 152.486 Q722.248 153.666 722.248 156.514 Q722.248 158.782 723.729 160.125 Q725.234 161.444 727.803 161.444 Q731.345 161.444 733.475 158.944 Q735.627 156.421 735.627 152.254 L735.627 151.305 L731.391 151.305 M739.887 149.546 L739.887 164.338 L735.627 164.338 L735.627 160.402 Q734.169 162.763 731.993 163.898 Q729.817 165.009 726.669 165.009 Q722.688 165.009 720.327 162.787 Q717.989 160.541 717.989 156.791 Q717.989 152.416 720.905 150.194 Q723.845 147.972 729.655 147.972 L735.627 147.972 L735.627 147.555 Q735.627 144.615 733.683 143.018 Q731.762 141.398 728.266 141.398 Q726.044 141.398 723.938 141.93 Q721.831 142.463 719.887 143.527 L719.887 139.592 Q722.225 138.69 724.424 138.25 Q726.623 137.787 728.706 137.787 Q734.331 137.787 737.109 140.703 Q739.887 143.62 739.887 149.546 Z\" fill=\"#000000\" fill-rule=\"evenodd\" fill-opacity=\"1\" /><path clip-path=\"url(#clip490)\" d=\"M752.873 131.051 L752.873 138.412 L761.646 138.412 L761.646 141.722 L752.873 141.722 L752.873 155.796 Q752.873 158.967 753.729 159.87 Q754.609 160.773 757.271 160.773 L761.646 160.773 L761.646 164.338 L757.271 164.338 Q752.34 164.338 750.465 162.509 Q748.59 160.657 748.59 155.796 L748.59 141.722 L745.465 141.722 L745.465 138.412 L748.59 138.412 L748.59 131.051 L752.873 131.051 Z\" fill=\"#000000\" fill-rule=\"evenodd\" fill-opacity=\"1\" /><path clip-path=\"url(#clip490)\" d=\"M779.03 151.305 Q773.868 151.305 771.877 152.486 Q769.887 153.666 769.887 156.514 Q769.887 158.782 771.368 160.125 Q772.873 161.444 775.442 161.444 Q778.984 161.444 781.113 158.944 Q783.266 156.421 783.266 152.254 L783.266 151.305 L779.03 151.305 M787.525 149.546 L787.525 164.338 L783.266 164.338 L783.266 160.402 Q781.808 162.763 779.632 163.898 Q777.456 165.009 774.308 165.009 Q770.326 165.009 767.965 162.787 Q765.627 160.541 765.627 156.791 Q765.627 152.416 768.544 150.194 Q771.484 147.972 777.294 147.972 L783.266 147.972 L783.266 147.555 Q783.266 144.615 781.322 143.018 Q779.4 141.398 775.905 141.398 Q773.683 141.398 771.576 141.93 Q769.47 142.463 767.525 143.527 L767.525 139.592 Q769.863 138.69 772.062 138.25 Q774.262 137.787 776.345 137.787 Q781.97 137.787 784.748 140.703 Q787.525 143.62 787.525 149.546 Z\" fill=\"#000000\" fill-rule=\"evenodd\" fill-opacity=\"1\" /><polyline clip-path=\"url(#clip490)\" style=\"stroke:#e26f46; stroke-linecap:round; stroke-linejoin:round; stroke-width:4; stroke-opacity:1; fill:none\" points=\"275.484,198.898 420.41,198.898 \"/>\n",
       "<path clip-path=\"url(#clip490)\" d=\"M444.564 181.618 L473.8 181.618 L473.8 185.553 L461.532 185.553 L461.532 216.178 L456.833 216.178 L456.833 185.553 L444.564 185.553 L444.564 181.618 Z\" fill=\"#000000\" fill-rule=\"evenodd\" fill-opacity=\"1\" /><path clip-path=\"url(#clip490)\" d=\"M486.184 194.233 Q485.467 193.817 484.61 193.631 Q483.777 193.423 482.758 193.423 Q479.147 193.423 477.203 195.784 Q475.282 198.122 475.282 202.52 L475.282 216.178 L470.999 216.178 L470.999 190.252 L475.282 190.252 L475.282 194.28 Q476.624 191.918 478.777 190.784 Q480.93 189.627 484.008 189.627 Q484.448 189.627 484.981 189.696 Q485.513 189.743 486.161 189.858 L486.184 194.233 Z\" fill=\"#000000\" fill-rule=\"evenodd\" fill-opacity=\"1\" /><path clip-path=\"url(#clip490)\" d=\"M490.212 205.946 L490.212 190.252 L494.471 190.252 L494.471 205.784 Q494.471 209.465 495.907 211.316 Q497.342 213.145 500.212 213.145 Q503.661 213.145 505.652 210.946 Q507.666 208.747 507.666 204.951 L507.666 190.252 L511.925 190.252 L511.925 216.178 L507.666 216.178 L507.666 212.196 Q506.115 214.557 504.055 215.715 Q502.018 216.849 499.309 216.849 Q494.842 216.849 492.527 214.071 Q490.212 211.293 490.212 205.946 M500.93 189.627 L500.93 189.627 Z\" fill=\"#000000\" fill-rule=\"evenodd\" fill-opacity=\"1\" /><path clip-path=\"url(#clip490)\" d=\"M542.874 202.15 L542.874 204.233 L523.291 204.233 Q523.568 208.631 525.93 210.946 Q528.314 213.238 532.55 213.238 Q535.004 213.238 537.295 212.636 Q539.61 212.034 541.879 210.83 L541.879 214.858 Q539.587 215.83 537.179 216.34 Q534.772 216.849 532.295 216.849 Q526.092 216.849 522.457 213.238 Q518.846 209.627 518.846 203.469 Q518.846 197.104 522.272 193.377 Q525.721 189.627 531.554 189.627 Q536.786 189.627 539.818 193.006 Q542.874 196.363 542.874 202.15 M538.615 200.9 Q538.568 197.405 536.647 195.321 Q534.749 193.238 531.601 193.238 Q528.036 193.238 525.883 195.252 Q523.754 197.266 523.43 200.923 L538.615 200.9 Z\" fill=\"#000000\" fill-rule=\"evenodd\" fill-opacity=\"1\" /><path clip-path=\"url(#clip490)\" d=\"M564.934 180.159 L569.193 180.159 L569.193 216.178 L564.934 216.178 L564.934 180.159 Z\" fill=\"#000000\" fill-rule=\"evenodd\" fill-opacity=\"1\" /><path clip-path=\"url(#clip490)\" d=\"M578.105 190.252 L582.364 190.252 L582.364 216.178 L578.105 216.178 L578.105 190.252 M578.105 180.159 L582.364 180.159 L582.364 185.553 L578.105 185.553 L578.105 180.159 Z\" fill=\"#000000\" fill-rule=\"evenodd\" fill-opacity=\"1\" /><path clip-path=\"url(#clip490)\" d=\"M612.827 200.529 L612.827 216.178 L608.568 216.178 L608.568 200.668 Q608.568 196.988 607.133 195.159 Q605.698 193.33 602.827 193.33 Q599.378 193.33 597.387 195.53 Q595.397 197.729 595.397 201.525 L595.397 216.178 L591.114 216.178 L591.114 190.252 L595.397 190.252 L595.397 194.28 Q596.925 191.942 598.985 190.784 Q601.068 189.627 603.776 189.627 Q608.244 189.627 610.536 192.405 Q612.827 195.159 612.827 200.529 Z\" fill=\"#000000\" fill-rule=\"evenodd\" fill-opacity=\"1\" /><path clip-path=\"url(#clip490)\" d=\"M643.498 202.15 L643.498 204.233 L623.915 204.233 Q624.193 208.631 626.554 210.946 Q628.938 213.238 633.174 213.238 Q635.628 213.238 637.92 212.636 Q640.234 212.034 642.503 210.83 L642.503 214.858 Q640.211 215.83 637.804 216.34 Q635.397 216.849 632.92 216.849 Q626.716 216.849 623.082 213.238 Q619.471 209.627 619.471 203.469 Q619.471 197.104 622.897 193.377 Q626.346 189.627 632.179 189.627 Q637.41 189.627 640.443 193.006 Q643.498 196.363 643.498 202.15 M639.239 200.9 Q639.193 197.405 637.272 195.321 Q635.373 193.238 632.225 193.238 Q628.66 193.238 626.508 195.252 Q624.378 197.266 624.054 200.923 L639.239 200.9 Z\" fill=\"#000000\" fill-rule=\"evenodd\" fill-opacity=\"1\" /><polyline clip-path=\"url(#clip490)\" style=\"stroke:#3da44d; stroke-linecap:round; stroke-linejoin:round; stroke-width:4; stroke-opacity:1; fill:none\" points=\"275.484,250.738 420.41,250.738 \"/>\n",
       "<path clip-path=\"url(#clip490)\" d=\"M444.564 233.458 L464.425 233.458 L464.425 237.393 L449.24 237.393 L449.24 247.578 L462.944 247.578 L462.944 251.513 L449.24 251.513 L449.24 268.018 L444.564 268.018 L444.564 233.458 Z\" fill=\"#000000\" fill-rule=\"evenodd\" fill-opacity=\"1\" /><path clip-path=\"url(#clip490)\" d=\"M468.198 242.092 L472.458 242.092 L472.458 268.018 L468.198 268.018 L468.198 242.092 M468.198 231.999 L472.458 231.999 L472.458 237.393 L468.198 237.393 L468.198 231.999 Z\" fill=\"#000000\" fill-rule=\"evenodd\" fill-opacity=\"1\" /><path clip-path=\"url(#clip490)\" d=\"M485.583 234.731 L485.583 242.092 L494.356 242.092 L494.356 245.402 L485.583 245.402 L485.583 259.476 Q485.583 262.647 486.439 263.55 Q487.319 264.453 489.981 264.453 L494.356 264.453 L494.356 268.018 L489.981 268.018 Q485.05 268.018 483.175 266.189 Q481.3 264.337 481.3 259.476 L481.3 245.402 L478.175 245.402 L478.175 242.092 L481.3 242.092 L481.3 234.731 L485.583 234.731 Z\" fill=\"#000000\" fill-rule=\"evenodd\" fill-opacity=\"1\" /><path clip-path=\"url(#clip490)\" d=\"M504.17 234.731 L504.17 242.092 L512.943 242.092 L512.943 245.402 L504.17 245.402 L504.17 259.476 Q504.17 262.647 505.027 263.55 Q505.906 264.453 508.568 264.453 L512.943 264.453 L512.943 268.018 L508.568 268.018 Q503.638 268.018 501.763 266.189 Q499.888 264.337 499.888 259.476 L499.888 245.402 L496.763 245.402 L496.763 242.092 L499.888 242.092 L499.888 234.731 L504.17 234.731 Z\" fill=\"#000000\" fill-rule=\"evenodd\" fill-opacity=\"1\" /><path clip-path=\"url(#clip490)\" d=\"M540.721 253.99 L540.721 256.073 L521.138 256.073 Q521.416 260.471 523.777 262.786 Q526.161 265.078 530.397 265.078 Q532.851 265.078 535.142 264.476 Q537.457 263.874 539.726 262.67 L539.726 266.698 Q537.434 267.67 535.027 268.18 Q532.619 268.689 530.142 268.689 Q523.939 268.689 520.305 265.078 Q516.693 261.467 516.693 255.309 Q516.693 248.944 520.119 245.217 Q523.568 241.467 529.402 241.467 Q534.633 241.467 537.666 244.846 Q540.721 248.203 540.721 253.99 M536.462 252.74 Q536.416 249.245 534.494 247.161 Q532.596 245.078 529.448 245.078 Q525.883 245.078 523.73 247.092 Q521.601 249.106 521.277 252.763 L536.462 252.74 Z\" fill=\"#000000\" fill-rule=\"evenodd\" fill-opacity=\"1\" /><path clip-path=\"url(#clip490)\" d=\"M564.772 246.027 L564.772 231.999 L569.031 231.999 L569.031 268.018 L564.772 268.018 L564.772 264.129 Q563.429 266.443 561.369 267.578 Q559.332 268.689 556.462 268.689 Q551.763 268.689 548.8 264.939 Q545.86 261.189 545.86 255.078 Q545.86 248.967 548.8 245.217 Q551.763 241.467 556.462 241.467 Q559.332 241.467 561.369 242.601 Q563.429 243.712 564.772 246.027 M550.258 255.078 Q550.258 259.777 552.179 262.462 Q554.124 265.124 557.503 265.124 Q560.883 265.124 562.827 262.462 Q564.772 259.777 564.772 255.078 Q564.772 250.379 562.827 247.717 Q560.883 245.032 557.503 245.032 Q554.124 245.032 552.179 247.717 Q550.258 250.379 550.258 255.078 Z\" fill=\"#000000\" fill-rule=\"evenodd\" fill-opacity=\"1\" /><path clip-path=\"url(#clip490)\" d=\"M592.874 231.999 L597.133 231.999 L597.133 268.018 L592.874 268.018 L592.874 231.999 Z\" fill=\"#000000\" fill-rule=\"evenodd\" fill-opacity=\"1\" /><path clip-path=\"url(#clip490)\" d=\"M606.045 242.092 L610.304 242.092 L610.304 268.018 L606.045 268.018 L606.045 242.092 M606.045 231.999 L610.304 231.999 L610.304 237.393 L606.045 237.393 L606.045 231.999 Z\" fill=\"#000000\" fill-rule=\"evenodd\" fill-opacity=\"1\" /><path clip-path=\"url(#clip490)\" d=\"M640.767 252.369 L640.767 268.018 L636.508 268.018 L636.508 252.508 Q636.508 248.828 635.072 246.999 Q633.637 245.17 630.767 245.17 Q627.318 245.17 625.327 247.37 Q623.336 249.569 623.336 253.365 L623.336 268.018 L619.054 268.018 L619.054 242.092 L623.336 242.092 L623.336 246.12 Q624.864 243.782 626.924 242.624 Q629.008 241.467 631.716 241.467 Q636.184 241.467 638.475 244.245 Q640.767 246.999 640.767 252.369 Z\" fill=\"#000000\" fill-rule=\"evenodd\" fill-opacity=\"1\" /><path clip-path=\"url(#clip490)\" d=\"M671.438 253.99 L671.438 256.073 L651.855 256.073 Q652.133 260.471 654.494 262.786 Q656.878 265.078 661.114 265.078 Q663.568 265.078 665.859 264.476 Q668.174 263.874 670.443 262.67 L670.443 266.698 Q668.151 267.67 665.744 268.18 Q663.336 268.689 660.859 268.689 Q654.656 268.689 651.021 265.078 Q647.41 261.467 647.41 255.309 Q647.41 248.944 650.836 245.217 Q654.285 241.467 660.119 241.467 Q665.35 241.467 668.382 244.846 Q671.438 248.203 671.438 253.99 M667.179 252.74 Q667.132 249.245 665.211 247.161 Q663.313 245.078 660.165 245.078 Q656.6 245.078 654.447 247.092 Q652.318 249.106 651.994 252.763 L667.179 252.74 Z\" fill=\"#000000\" fill-rule=\"evenodd\" fill-opacity=\"1\" /></svg>\n"
      ]
     },
     "execution_count": 43,
     "metadata": {},
     "output_type": "execute_result"
    }
   ],
   "source": [
    "scatter(x,y_observed2, label = \"Observed data\")\n",
    "plot!(x,y_true, label = \"True line\")\n",
    "\n",
    "using Polynomials\n",
    "line_fit2 = Polynomials.fit(x,y_observed2,2)\n",
    "fit_coeff = coeffs(line_fit2)\n",
    "y_fitted2 = fit_coeff[1] .+ fit_coeff[2] .* x .+ fit_coeff[3] .*x.^2\n",
    "plot!(x,y_fitted2,label=\"Fitted line\")"
   ]
  },
  {
   "cell_type": "markdown",
   "id": "ab12acbd",
   "metadata": {},
   "source": [
    "2. Compare the plot with the plot in 2.3. Is the fit closer to y_true or not, and why?"
   ]
  },
  {
   "cell_type": "markdown",
   "id": "a34fcca4",
   "metadata": {},
   "source": [
    "The plot in 2.3 seems to fit closer to y_true than the plot from 2.4. This makes sense, since the standard deviation was increased in 2.4, meaning that there was a larger noise."
   ]
  },
  {
   "cell_type": "markdown",
   "id": "5fd1d93b",
   "metadata": {},
   "source": [
    "### 2.5\n",
    "\n",
    "#### Repeat 2.2 and 2.3 with a tenth order polynomial fit\n"
   ]
  },
  {
   "cell_type": "code",
   "execution_count": 44,
   "id": "b6dbd546",
   "metadata": {},
   "outputs": [
    {
     "data": {
      "text/plain": [
       "21-element Vector{Float64}:\n",
       "  77.53702162149413\n",
       "  60.002272685236434\n",
       "  28.245106257484963\n",
       "  29.339645890614797\n",
       "   7.0859328055793345\n",
       "  14.538000050576688\n",
       " -10.990927229617935\n",
       "  -7.924069794511708\n",
       "  -9.988768051086602\n",
       " -12.876986260744337\n",
       "  11.526425806161528\n",
       "   2.302536773958712\n",
       "  23.600989479788872\n",
       "   8.46530423519891\n",
       "  39.95213368615006\n",
       "  36.48043148903984\n",
       "  52.70288133597935\n",
       "  66.80175702724553\n",
       "  86.14694988134299\n",
       " 103.12135853597158\n",
       " 131.44124088308703"
      ]
     },
     "execution_count": 44,
     "metadata": {},
     "output_type": "execute_result"
    }
   ],
   "source": [
    "using Distributions, Polynomials, Statistics, Plots\n",
    "dataerr3 = 10.0\n",
    "d3 = di.Normal(0,dataerr3)\n",
    "y_observed3 = y_true .+ rand(d3,length(x))"
   ]
  },
  {
   "cell_type": "code",
   "execution_count": 45,
   "id": "4f25cf5f",
   "metadata": {},
   "outputs": [
    {
     "data": {
      "image/svg+xml": [
       "<?xml version=\"1.0\" encoding=\"utf-8\"?>\n",
       "<svg xmlns=\"http://www.w3.org/2000/svg\" xmlns:xlink=\"http://www.w3.org/1999/xlink\" width=\"600\" height=\"400\" viewBox=\"0 0 2400 1600\">\n",
       "<defs>\n",
       "  <clipPath id=\"clip530\">\n",
       "    <rect x=\"0\" y=\"0\" width=\"2400\" height=\"1600\"/>\n",
       "  </clipPath>\n",
       "</defs>\n",
       "<path clip-path=\"url(#clip530)\" d=\"M0 1600 L2400 1600 L2400 0 L0 0  Z\" fill=\"#ffffff\" fill-rule=\"evenodd\" fill-opacity=\"1\"/>\n",
       "<defs>\n",
       "  <clipPath id=\"clip531\">\n",
       "    <rect x=\"480\" y=\"0\" width=\"1681\" height=\"1600\"/>\n",
       "  </clipPath>\n",
       "</defs>\n",
       "<path clip-path=\"url(#clip530)\" d=\"M169.121 1486.45 L2352.76 1486.45 L2352.76 47.2441 L169.121 47.2441  Z\" fill=\"#ffffff\" fill-rule=\"evenodd\" fill-opacity=\"1\"/>\n",
       "<defs>\n",
       "  <clipPath id=\"clip532\">\n",
       "    <rect x=\"169\" y=\"47\" width=\"2185\" height=\"1440\"/>\n",
       "  </clipPath>\n",
       "</defs>\n",
       "<polyline clip-path=\"url(#clip532)\" style=\"stroke:#000000; stroke-linecap:round; stroke-linejoin:round; stroke-width:2; stroke-opacity:0.1; fill:none\" points=\"230.922,1486.45 230.922,47.2441 \"/>\n",
       "<polyline clip-path=\"url(#clip532)\" style=\"stroke:#000000; stroke-linecap:round; stroke-linejoin:round; stroke-width:2; stroke-opacity:0.1; fill:none\" points=\"745.93,1486.45 745.93,47.2441 \"/>\n",
       "<polyline clip-path=\"url(#clip532)\" style=\"stroke:#000000; stroke-linecap:round; stroke-linejoin:round; stroke-width:2; stroke-opacity:0.1; fill:none\" points=\"1260.94,1486.45 1260.94,47.2441 \"/>\n",
       "<polyline clip-path=\"url(#clip532)\" style=\"stroke:#000000; stroke-linecap:round; stroke-linejoin:round; stroke-width:2; stroke-opacity:0.1; fill:none\" points=\"1775.95,1486.45 1775.95,47.2441 \"/>\n",
       "<polyline clip-path=\"url(#clip532)\" style=\"stroke:#000000; stroke-linecap:round; stroke-linejoin:round; stroke-width:2; stroke-opacity:0.1; fill:none\" points=\"2290.95,1486.45 2290.95,47.2441 \"/>\n",
       "<polyline clip-path=\"url(#clip530)\" style=\"stroke:#000000; stroke-linecap:round; stroke-linejoin:round; stroke-width:4; stroke-opacity:1; fill:none\" points=\"169.121,1486.45 2352.76,1486.45 \"/>\n",
       "<polyline clip-path=\"url(#clip530)\" style=\"stroke:#000000; stroke-linecap:round; stroke-linejoin:round; stroke-width:4; stroke-opacity:1; fill:none\" points=\"230.922,1486.45 230.922,1467.55 \"/>\n",
       "<polyline clip-path=\"url(#clip530)\" style=\"stroke:#000000; stroke-linecap:round; stroke-linejoin:round; stroke-width:4; stroke-opacity:1; fill:none\" points=\"745.93,1486.45 745.93,1467.55 \"/>\n",
       "<polyline clip-path=\"url(#clip530)\" style=\"stroke:#000000; stroke-linecap:round; stroke-linejoin:round; stroke-width:4; stroke-opacity:1; fill:none\" points=\"1260.94,1486.45 1260.94,1467.55 \"/>\n",
       "<polyline clip-path=\"url(#clip530)\" style=\"stroke:#000000; stroke-linecap:round; stroke-linejoin:round; stroke-width:4; stroke-opacity:1; fill:none\" points=\"1775.95,1486.45 1775.95,1467.55 \"/>\n",
       "<polyline clip-path=\"url(#clip530)\" style=\"stroke:#000000; stroke-linecap:round; stroke-linejoin:round; stroke-width:4; stroke-opacity:1; fill:none\" points=\"2290.95,1486.45 2290.95,1467.55 \"/>\n",
       "<path clip-path=\"url(#clip530)\" d=\"M184.985 1532.02 L214.661 1532.02 L214.661 1535.95 L184.985 1535.95 L184.985 1532.02 Z\" fill=\"#000000\" fill-rule=\"evenodd\" fill-opacity=\"1\" /><path clip-path=\"url(#clip530)\" d=\"M225.564 1544.91 L233.202 1544.91 L233.202 1518.55 L224.892 1520.21 L224.892 1515.95 L233.156 1514.29 L237.832 1514.29 L237.832 1544.91 L245.471 1544.91 L245.471 1548.85 L225.564 1548.85 L225.564 1544.91 Z\" fill=\"#000000\" fill-rule=\"evenodd\" fill-opacity=\"1\" /><path clip-path=\"url(#clip530)\" d=\"M264.915 1517.37 Q261.304 1517.37 259.475 1520.93 Q257.67 1524.47 257.67 1531.6 Q257.67 1538.71 259.475 1542.27 Q261.304 1545.82 264.915 1545.82 Q268.549 1545.82 270.355 1542.27 Q272.184 1538.71 272.184 1531.6 Q272.184 1524.47 270.355 1520.93 Q268.549 1517.37 264.915 1517.37 M264.915 1513.66 Q270.725 1513.66 273.781 1518.27 Q276.86 1522.85 276.86 1531.6 Q276.86 1540.33 273.781 1544.94 Q270.725 1549.52 264.915 1549.52 Q259.105 1549.52 256.026 1544.94 Q252.971 1540.33 252.971 1531.6 Q252.971 1522.85 256.026 1518.27 Q259.105 1513.66 264.915 1513.66 Z\" fill=\"#000000\" fill-rule=\"evenodd\" fill-opacity=\"1\" /><path clip-path=\"url(#clip530)\" d=\"M715.572 1532.02 L745.248 1532.02 L745.248 1535.95 L715.572 1535.95 L715.572 1532.02 Z\" fill=\"#000000\" fill-rule=\"evenodd\" fill-opacity=\"1\" /><path clip-path=\"url(#clip530)\" d=\"M755.386 1514.29 L773.743 1514.29 L773.743 1518.22 L759.669 1518.22 L759.669 1526.7 Q760.687 1526.35 761.706 1526.19 Q762.724 1526 763.743 1526 Q769.53 1526 772.909 1529.17 Q776.289 1532.34 776.289 1537.76 Q776.289 1543.34 772.817 1546.44 Q769.345 1549.52 763.025 1549.52 Q760.849 1549.52 758.581 1549.15 Q756.335 1548.78 753.928 1548.04 L753.928 1543.34 Q756.011 1544.47 758.234 1545.03 Q760.456 1545.58 762.933 1545.58 Q766.937 1545.58 769.275 1543.48 Q771.613 1541.37 771.613 1537.76 Q771.613 1534.15 769.275 1532.04 Q766.937 1529.94 762.933 1529.94 Q761.058 1529.94 759.183 1530.35 Q757.331 1530.77 755.386 1531.65 L755.386 1514.29 Z\" fill=\"#000000\" fill-rule=\"evenodd\" fill-opacity=\"1\" /><path clip-path=\"url(#clip530)\" d=\"M1260.94 1517.37 Q1257.33 1517.37 1255.5 1520.93 Q1253.69 1524.47 1253.69 1531.6 Q1253.69 1538.71 1255.5 1542.27 Q1257.33 1545.82 1260.94 1545.82 Q1264.57 1545.82 1266.38 1542.27 Q1268.21 1538.71 1268.21 1531.6 Q1268.21 1524.47 1266.38 1520.93 Q1264.57 1517.37 1260.94 1517.37 M1260.94 1513.66 Q1266.75 1513.66 1269.8 1518.27 Q1272.88 1522.85 1272.88 1531.6 Q1272.88 1540.33 1269.8 1544.94 Q1266.75 1549.52 1260.94 1549.52 Q1255.13 1549.52 1252.05 1544.94 Q1248.99 1540.33 1248.99 1531.6 Q1248.99 1522.85 1252.05 1518.27 Q1255.13 1513.66 1260.94 1513.66 Z\" fill=\"#000000\" fill-rule=\"evenodd\" fill-opacity=\"1\" /><path clip-path=\"url(#clip530)\" d=\"M1766.22 1514.29 L1784.58 1514.29 L1784.58 1518.22 L1770.51 1518.22 L1770.51 1526.7 Q1771.53 1526.35 1772.54 1526.19 Q1773.56 1526 1774.58 1526 Q1780.37 1526 1783.75 1529.17 Q1787.13 1532.34 1787.13 1537.76 Q1787.13 1543.34 1783.66 1546.44 Q1780.18 1549.52 1773.86 1549.52 Q1771.69 1549.52 1769.42 1549.15 Q1767.17 1548.78 1764.77 1548.04 L1764.77 1543.34 Q1766.85 1544.47 1769.07 1545.03 Q1771.29 1545.58 1773.77 1545.58 Q1777.78 1545.58 1780.11 1543.48 Q1782.45 1541.37 1782.45 1537.76 Q1782.45 1534.15 1780.11 1532.04 Q1777.78 1529.94 1773.77 1529.94 Q1771.9 1529.94 1770.02 1530.35 Q1768.17 1530.77 1766.22 1531.65 L1766.22 1514.29 Z\" fill=\"#000000\" fill-rule=\"evenodd\" fill-opacity=\"1\" /><path clip-path=\"url(#clip530)\" d=\"M2265.64 1544.91 L2273.28 1544.91 L2273.28 1518.55 L2264.97 1520.21 L2264.97 1515.95 L2273.24 1514.29 L2277.91 1514.29 L2277.91 1544.91 L2285.55 1544.91 L2285.55 1548.85 L2265.64 1548.85 L2265.64 1544.91 Z\" fill=\"#000000\" fill-rule=\"evenodd\" fill-opacity=\"1\" /><path clip-path=\"url(#clip530)\" d=\"M2304.99 1517.37 Q2301.38 1517.37 2299.55 1520.93 Q2297.75 1524.47 2297.75 1531.6 Q2297.75 1538.71 2299.55 1542.27 Q2301.38 1545.82 2304.99 1545.82 Q2308.63 1545.82 2310.43 1542.27 Q2312.26 1538.71 2312.26 1531.6 Q2312.26 1524.47 2310.43 1520.93 Q2308.63 1517.37 2304.99 1517.37 M2304.99 1513.66 Q2310.8 1513.66 2313.86 1518.27 Q2316.94 1522.85 2316.94 1531.6 Q2316.94 1540.33 2313.86 1544.94 Q2310.8 1549.52 2304.99 1549.52 Q2299.18 1549.52 2296.11 1544.94 Q2293.05 1540.33 2293.05 1531.6 Q2293.05 1522.85 2296.11 1518.27 Q2299.18 1513.66 2304.99 1513.66 Z\" fill=\"#000000\" fill-rule=\"evenodd\" fill-opacity=\"1\" /><polyline clip-path=\"url(#clip532)\" style=\"stroke:#000000; stroke-linecap:round; stroke-linejoin:round; stroke-width:2; stroke-opacity:0.1; fill:none\" points=\"169.121,1324.57 2352.76,1324.57 \"/>\n",
       "<polyline clip-path=\"url(#clip532)\" style=\"stroke:#000000; stroke-linecap:round; stroke-linejoin:round; stroke-width:2; stroke-opacity:0.1; fill:none\" points=\"169.121,1136.41 2352.76,1136.41 \"/>\n",
       "<polyline clip-path=\"url(#clip532)\" style=\"stroke:#000000; stroke-linecap:round; stroke-linejoin:round; stroke-width:2; stroke-opacity:0.1; fill:none\" points=\"169.121,948.251 2352.76,948.251 \"/>\n",
       "<polyline clip-path=\"url(#clip532)\" style=\"stroke:#000000; stroke-linecap:round; stroke-linejoin:round; stroke-width:2; stroke-opacity:0.1; fill:none\" points=\"169.121,760.092 2352.76,760.092 \"/>\n",
       "<polyline clip-path=\"url(#clip532)\" style=\"stroke:#000000; stroke-linecap:round; stroke-linejoin:round; stroke-width:2; stroke-opacity:0.1; fill:none\" points=\"169.121,571.933 2352.76,571.933 \"/>\n",
       "<polyline clip-path=\"url(#clip532)\" style=\"stroke:#000000; stroke-linecap:round; stroke-linejoin:round; stroke-width:2; stroke-opacity:0.1; fill:none\" points=\"169.121,383.774 2352.76,383.774 \"/>\n",
       "<polyline clip-path=\"url(#clip532)\" style=\"stroke:#000000; stroke-linecap:round; stroke-linejoin:round; stroke-width:2; stroke-opacity:0.1; fill:none\" points=\"169.121,195.615 2352.76,195.615 \"/>\n",
       "<polyline clip-path=\"url(#clip530)\" style=\"stroke:#000000; stroke-linecap:round; stroke-linejoin:round; stroke-width:4; stroke-opacity:1; fill:none\" points=\"169.121,1486.45 169.121,47.2441 \"/>\n",
       "<polyline clip-path=\"url(#clip530)\" style=\"stroke:#000000; stroke-linecap:round; stroke-linejoin:round; stroke-width:4; stroke-opacity:1; fill:none\" points=\"169.121,1324.57 188.019,1324.57 \"/>\n",
       "<polyline clip-path=\"url(#clip530)\" style=\"stroke:#000000; stroke-linecap:round; stroke-linejoin:round; stroke-width:4; stroke-opacity:1; fill:none\" points=\"169.121,1136.41 188.019,1136.41 \"/>\n",
       "<polyline clip-path=\"url(#clip530)\" style=\"stroke:#000000; stroke-linecap:round; stroke-linejoin:round; stroke-width:4; stroke-opacity:1; fill:none\" points=\"169.121,948.251 188.019,948.251 \"/>\n",
       "<polyline clip-path=\"url(#clip530)\" style=\"stroke:#000000; stroke-linecap:round; stroke-linejoin:round; stroke-width:4; stroke-opacity:1; fill:none\" points=\"169.121,760.092 188.019,760.092 \"/>\n",
       "<polyline clip-path=\"url(#clip530)\" style=\"stroke:#000000; stroke-linecap:round; stroke-linejoin:round; stroke-width:4; stroke-opacity:1; fill:none\" points=\"169.121,571.933 188.019,571.933 \"/>\n",
       "<polyline clip-path=\"url(#clip530)\" style=\"stroke:#000000; stroke-linecap:round; stroke-linejoin:round; stroke-width:4; stroke-opacity:1; fill:none\" points=\"169.121,383.774 188.019,383.774 \"/>\n",
       "<polyline clip-path=\"url(#clip530)\" style=\"stroke:#000000; stroke-linecap:round; stroke-linejoin:round; stroke-width:4; stroke-opacity:1; fill:none\" points=\"169.121,195.615 188.019,195.615 \"/>\n",
       "<path clip-path=\"url(#clip530)\" d=\"M121.177 1310.37 Q117.566 1310.37 115.737 1313.93 Q113.932 1317.47 113.932 1324.6 Q113.932 1331.71 115.737 1335.28 Q117.566 1338.82 121.177 1338.82 Q124.811 1338.82 126.617 1335.28 Q128.445 1331.71 128.445 1324.6 Q128.445 1317.47 126.617 1313.93 Q124.811 1310.37 121.177 1310.37 M121.177 1306.66 Q126.987 1306.66 130.043 1311.27 Q133.121 1315.85 133.121 1324.6 Q133.121 1333.33 130.043 1337.94 Q126.987 1342.52 121.177 1342.52 Q115.367 1342.52 112.288 1337.94 Q109.233 1333.33 109.233 1324.6 Q109.233 1315.85 112.288 1311.27 Q115.367 1306.66 121.177 1306.66 Z\" fill=\"#000000\" fill-rule=\"evenodd\" fill-opacity=\"1\" /><path clip-path=\"url(#clip530)\" d=\"M85.0429 1149.76 L101.362 1149.76 L101.362 1153.69 L79.4179 1153.69 L79.4179 1149.76 Q82.0799 1147 86.6632 1142.37 Q91.2697 1137.72 92.4502 1136.38 Q94.6956 1133.85 95.5752 1132.12 Q96.478 1130.36 96.478 1128.67 Q96.478 1125.91 94.5336 1124.18 Q92.6123 1122.44 89.5104 1122.44 Q87.3114 1122.44 84.8577 1123.2 Q82.4271 1123.97 79.6494 1125.52 L79.6494 1120.8 Q82.4734 1119.66 84.9271 1119.08 Q87.3808 1118.51 89.4178 1118.51 Q94.7882 1118.51 97.9826 1121.19 Q101.177 1123.88 101.177 1128.37 Q101.177 1130.5 100.367 1132.42 Q99.5798 1134.32 97.4734 1136.91 Q96.8947 1137.58 93.7928 1140.8 Q90.691 1143.99 85.0429 1149.76 Z\" fill=\"#000000\" fill-rule=\"evenodd\" fill-opacity=\"1\" /><path clip-path=\"url(#clip530)\" d=\"M121.177 1122.21 Q117.566 1122.21 115.737 1125.77 Q113.932 1129.32 113.932 1136.45 Q113.932 1143.55 115.737 1147.12 Q117.566 1150.66 121.177 1150.66 Q124.811 1150.66 126.617 1147.12 Q128.445 1143.55 128.445 1136.45 Q128.445 1129.32 126.617 1125.77 Q124.811 1122.21 121.177 1122.21 M121.177 1118.51 Q126.987 1118.51 130.043 1123.11 Q133.121 1127.7 133.121 1136.45 Q133.121 1145.17 130.043 1149.78 Q126.987 1154.36 121.177 1154.36 Q115.367 1154.36 112.288 1149.78 Q109.233 1145.17 109.233 1136.45 Q109.233 1127.7 112.288 1123.11 Q115.367 1118.51 121.177 1118.51 Z\" fill=\"#000000\" fill-rule=\"evenodd\" fill-opacity=\"1\" /><path clip-path=\"url(#clip530)\" d=\"M93.8623 935.045 L82.0568 953.494 L93.8623 953.494 L93.8623 935.045 M92.6354 930.971 L98.515 930.971 L98.515 953.494 L103.446 953.494 L103.446 957.383 L98.515 957.383 L98.515 965.531 L93.8623 965.531 L93.8623 957.383 L78.2605 957.383 L78.2605 952.869 L92.6354 930.971 Z\" fill=\"#000000\" fill-rule=\"evenodd\" fill-opacity=\"1\" /><path clip-path=\"url(#clip530)\" d=\"M121.177 934.05 Q117.566 934.05 115.737 937.615 Q113.932 941.157 113.932 948.286 Q113.932 955.393 115.737 958.957 Q117.566 962.499 121.177 962.499 Q124.811 962.499 126.617 958.957 Q128.445 955.393 128.445 948.286 Q128.445 941.157 126.617 937.615 Q124.811 934.05 121.177 934.05 M121.177 930.346 Q126.987 930.346 130.043 934.953 Q133.121 939.536 133.121 948.286 Q133.121 957.013 130.043 961.619 Q126.987 966.203 121.177 966.203 Q115.367 966.203 112.288 961.619 Q109.233 957.013 109.233 948.286 Q109.233 939.536 112.288 934.953 Q115.367 930.346 121.177 930.346 Z\" fill=\"#000000\" fill-rule=\"evenodd\" fill-opacity=\"1\" /><path clip-path=\"url(#clip530)\" d=\"M91.5938 758.229 Q88.4456 758.229 86.5938 760.382 Q84.7651 762.534 84.7651 766.284 Q84.7651 770.011 86.5938 772.187 Q88.4456 774.34 91.5938 774.34 Q94.7419 774.34 96.5706 772.187 Q98.4224 770.011 98.4224 766.284 Q98.4224 762.534 96.5706 760.382 Q94.7419 758.229 91.5938 758.229 M100.876 743.576 L100.876 747.835 Q99.1169 747.002 97.3113 746.562 Q95.5289 746.122 93.7697 746.122 Q89.1401 746.122 86.6864 749.247 Q84.2558 752.372 83.9086 758.692 Q85.2743 756.678 87.3345 755.613 Q89.3947 754.525 91.8715 754.525 Q97.0798 754.525 100.089 757.696 Q103.121 760.845 103.121 766.284 Q103.121 771.608 99.9733 774.826 Q96.8252 778.044 91.5938 778.044 Q85.5984 778.044 82.4271 773.46 Q79.2559 768.854 79.2559 760.127 Q79.2559 751.933 83.1447 747.072 Q87.0336 742.187 93.5845 742.187 Q95.3437 742.187 97.1261 742.534 Q98.9317 742.882 100.876 743.576 Z\" fill=\"#000000\" fill-rule=\"evenodd\" fill-opacity=\"1\" /><path clip-path=\"url(#clip530)\" d=\"M121.177 745.891 Q117.566 745.891 115.737 749.456 Q113.932 752.997 113.932 760.127 Q113.932 767.233 115.737 770.798 Q117.566 774.34 121.177 774.34 Q124.811 774.34 126.617 770.798 Q128.445 767.233 128.445 760.127 Q128.445 752.997 126.617 749.456 Q124.811 745.891 121.177 745.891 M121.177 742.187 Q126.987 742.187 130.043 746.794 Q133.121 751.377 133.121 760.127 Q133.121 768.854 130.043 773.46 Q126.987 778.044 121.177 778.044 Q115.367 778.044 112.288 773.46 Q109.233 768.854 109.233 760.127 Q109.233 751.377 112.288 746.794 Q115.367 742.187 121.177 742.187 Z\" fill=\"#000000\" fill-rule=\"evenodd\" fill-opacity=\"1\" /><path clip-path=\"url(#clip530)\" d=\"M91.0151 572.801 Q87.6817 572.801 85.7605 574.584 Q83.8623 576.366 83.8623 579.491 Q83.8623 582.616 85.7605 584.398 Q87.6817 586.181 91.0151 586.181 Q94.3484 586.181 96.2697 584.398 Q98.1909 582.593 98.1909 579.491 Q98.1909 576.366 96.2697 574.584 Q94.3715 572.801 91.0151 572.801 M86.3392 570.81 Q83.3299 570.07 81.6401 568.01 Q79.9735 565.949 79.9735 562.986 Q79.9735 558.843 82.9133 556.436 Q85.8762 554.028 91.0151 554.028 Q96.1771 554.028 99.1169 556.436 Q102.057 558.843 102.057 562.986 Q102.057 565.949 100.367 568.01 Q98.7002 570.07 95.7141 570.81 Q99.0937 571.598 100.969 573.889 Q102.867 576.181 102.867 579.491 Q102.867 584.514 99.7882 587.199 Q96.7326 589.884 91.0151 589.884 Q85.2975 589.884 82.2188 587.199 Q79.1633 584.514 79.1633 579.491 Q79.1633 576.181 81.0614 573.889 Q82.9595 571.598 86.3392 570.81 M84.6262 563.426 Q84.6262 566.111 86.2929 567.616 Q87.9827 569.121 91.0151 569.121 Q94.0243 569.121 95.7141 567.616 Q97.4271 566.111 97.4271 563.426 Q97.4271 560.741 95.7141 559.236 Q94.0243 557.732 91.0151 557.732 Q87.9827 557.732 86.2929 559.236 Q84.6262 560.741 84.6262 563.426 Z\" fill=\"#000000\" fill-rule=\"evenodd\" fill-opacity=\"1\" /><path clip-path=\"url(#clip530)\" d=\"M121.177 557.732 Q117.566 557.732 115.737 561.297 Q113.932 564.838 113.932 571.968 Q113.932 579.074 115.737 582.639 Q117.566 586.181 121.177 586.181 Q124.811 586.181 126.617 582.639 Q128.445 579.074 128.445 571.968 Q128.445 564.838 126.617 561.297 Q124.811 557.732 121.177 557.732 M121.177 554.028 Q126.987 554.028 130.043 558.635 Q133.121 563.218 133.121 571.968 Q133.121 580.695 130.043 585.301 Q126.987 589.884 121.177 589.884 Q115.367 589.884 112.288 585.301 Q109.233 580.695 109.233 571.968 Q109.233 563.218 112.288 558.635 Q115.367 554.028 121.177 554.028 Z\" fill=\"#000000\" fill-rule=\"evenodd\" fill-opacity=\"1\" /><path clip-path=\"url(#clip530)\" d=\"M51.6634 397.119 L59.3023 397.119 L59.3023 370.753 L50.9921 372.42 L50.9921 368.161 L59.256 366.494 L63.9319 366.494 L63.9319 397.119 L71.5707 397.119 L71.5707 401.054 L51.6634 401.054 L51.6634 397.119 Z\" fill=\"#000000\" fill-rule=\"evenodd\" fill-opacity=\"1\" /><path clip-path=\"url(#clip530)\" d=\"M91.0151 369.573 Q87.404 369.573 85.5753 373.138 Q83.7697 376.679 83.7697 383.809 Q83.7697 390.915 85.5753 394.48 Q87.404 398.022 91.0151 398.022 Q94.6493 398.022 96.4548 394.48 Q98.2835 390.915 98.2835 383.809 Q98.2835 376.679 96.4548 373.138 Q94.6493 369.573 91.0151 369.573 M91.0151 365.869 Q96.8252 365.869 99.8808 370.476 Q102.959 375.059 102.959 383.809 Q102.959 392.536 99.8808 397.142 Q96.8252 401.725 91.0151 401.725 Q85.2049 401.725 82.1262 397.142 Q79.0707 392.536 79.0707 383.809 Q79.0707 375.059 82.1262 370.476 Q85.2049 365.869 91.0151 365.869 Z\" fill=\"#000000\" fill-rule=\"evenodd\" fill-opacity=\"1\" /><path clip-path=\"url(#clip530)\" d=\"M121.177 369.573 Q117.566 369.573 115.737 373.138 Q113.932 376.679 113.932 383.809 Q113.932 390.915 115.737 394.48 Q117.566 398.022 121.177 398.022 Q124.811 398.022 126.617 394.48 Q128.445 390.915 128.445 383.809 Q128.445 376.679 126.617 373.138 Q124.811 369.573 121.177 369.573 M121.177 365.869 Q126.987 365.869 130.043 370.476 Q133.121 375.059 133.121 383.809 Q133.121 392.536 130.043 397.142 Q126.987 401.725 121.177 401.725 Q115.367 401.725 112.288 397.142 Q109.233 392.536 109.233 383.809 Q109.233 375.059 112.288 370.476 Q115.367 365.869 121.177 365.869 Z\" fill=\"#000000\" fill-rule=\"evenodd\" fill-opacity=\"1\" /><path clip-path=\"url(#clip530)\" d=\"M51.6634 208.96 L59.3023 208.96 L59.3023 182.594 L50.9921 184.261 L50.9921 180.002 L59.256 178.335 L63.9319 178.335 L63.9319 208.96 L71.5707 208.96 L71.5707 212.895 L51.6634 212.895 L51.6634 208.96 Z\" fill=\"#000000\" fill-rule=\"evenodd\" fill-opacity=\"1\" /><path clip-path=\"url(#clip530)\" d=\"M85.0429 208.96 L101.362 208.96 L101.362 212.895 L79.4179 212.895 L79.4179 208.96 Q82.0799 206.205 86.6632 201.576 Q91.2697 196.923 92.4502 195.58 Q94.6956 193.057 95.5752 191.321 Q96.478 189.562 96.478 187.872 Q96.478 185.117 94.5336 183.381 Q92.6123 181.645 89.5104 181.645 Q87.3114 181.645 84.8577 182.409 Q82.4271 183.173 79.6494 184.724 L79.6494 180.002 Q82.4734 178.867 84.9271 178.289 Q87.3808 177.71 89.4178 177.71 Q94.7882 177.71 97.9826 180.395 Q101.177 183.08 101.177 187.571 Q101.177 189.701 100.367 191.622 Q99.5798 193.52 97.4734 196.113 Q96.8947 196.784 93.7928 200.002 Q90.691 203.196 85.0429 208.96 Z\" fill=\"#000000\" fill-rule=\"evenodd\" fill-opacity=\"1\" /><path clip-path=\"url(#clip530)\" d=\"M121.177 181.414 Q117.566 181.414 115.737 184.978 Q113.932 188.52 113.932 195.65 Q113.932 202.756 115.737 206.321 Q117.566 209.863 121.177 209.863 Q124.811 209.863 126.617 206.321 Q128.445 202.756 128.445 195.65 Q128.445 188.52 126.617 184.978 Q124.811 181.414 121.177 181.414 M121.177 177.71 Q126.987 177.71 130.043 182.316 Q133.121 186.9 133.121 195.65 Q133.121 204.376 130.043 208.983 Q126.987 213.566 121.177 213.566 Q115.367 213.566 112.288 208.983 Q109.233 204.376 109.233 195.65 Q109.233 186.9 112.288 182.316 Q115.367 177.71 121.177 177.71 Z\" fill=\"#000000\" fill-rule=\"evenodd\" fill-opacity=\"1\" /><circle clip-path=\"url(#clip532)\" cx=\"230.922\" cy=\"595.105\" r=\"14.4\" fill=\"#009af9\" fill-rule=\"evenodd\" fill-opacity=\"1\" stroke=\"#000000\" stroke-opacity=\"1\" stroke-width=\"3.2\"/>\n",
       "<circle clip-path=\"url(#clip532)\" cx=\"333.924\" cy=\"760.071\" r=\"14.4\" fill=\"#009af9\" fill-rule=\"evenodd\" fill-opacity=\"1\" stroke=\"#000000\" stroke-opacity=\"1\" stroke-width=\"3.2\"/>\n",
       "<circle clip-path=\"url(#clip532)\" cx=\"436.926\" cy=\"1058.84\" r=\"14.4\" fill=\"#009af9\" fill-rule=\"evenodd\" fill-opacity=\"1\" stroke=\"#000000\" stroke-opacity=\"1\" stroke-width=\"3.2\"/>\n",
       "<circle clip-path=\"url(#clip532)\" cx=\"539.927\" cy=\"1048.54\" r=\"14.4\" fill=\"#009af9\" fill-rule=\"evenodd\" fill-opacity=\"1\" stroke=\"#000000\" stroke-opacity=\"1\" stroke-width=\"3.2\"/>\n",
       "<circle clip-path=\"url(#clip532)\" cx=\"642.929\" cy=\"1257.91\" r=\"14.4\" fill=\"#009af9\" fill-rule=\"evenodd\" fill-opacity=\"1\" stroke=\"#000000\" stroke-opacity=\"1\" stroke-width=\"3.2\"/>\n",
       "<circle clip-path=\"url(#clip532)\" cx=\"745.93\" cy=\"1187.8\" r=\"14.4\" fill=\"#009af9\" fill-rule=\"evenodd\" fill-opacity=\"1\" stroke=\"#000000\" stroke-opacity=\"1\" stroke-width=\"3.2\"/>\n",
       "<circle clip-path=\"url(#clip532)\" cx=\"848.932\" cy=\"1427.97\" r=\"14.4\" fill=\"#009af9\" fill-rule=\"evenodd\" fill-opacity=\"1\" stroke=\"#000000\" stroke-opacity=\"1\" stroke-width=\"3.2\"/>\n",
       "<circle clip-path=\"url(#clip532)\" cx=\"951.934\" cy=\"1399.12\" r=\"14.4\" fill=\"#009af9\" fill-rule=\"evenodd\" fill-opacity=\"1\" stroke=\"#000000\" stroke-opacity=\"1\" stroke-width=\"3.2\"/>\n",
       "<circle clip-path=\"url(#clip532)\" cx=\"1054.94\" cy=\"1418.54\" r=\"14.4\" fill=\"#009af9\" fill-rule=\"evenodd\" fill-opacity=\"1\" stroke=\"#000000\" stroke-opacity=\"1\" stroke-width=\"3.2\"/>\n",
       "<circle clip-path=\"url(#clip532)\" cx=\"1157.94\" cy=\"1445.72\" r=\"14.4\" fill=\"#009af9\" fill-rule=\"evenodd\" fill-opacity=\"1\" stroke=\"#000000\" stroke-opacity=\"1\" stroke-width=\"3.2\"/>\n",
       "<circle clip-path=\"url(#clip532)\" cx=\"1260.94\" cy=\"1216.13\" r=\"14.4\" fill=\"#009af9\" fill-rule=\"evenodd\" fill-opacity=\"1\" stroke=\"#000000\" stroke-opacity=\"1\" stroke-width=\"3.2\"/>\n",
       "<circle clip-path=\"url(#clip532)\" cx=\"1363.94\" cy=\"1302.91\" r=\"14.4\" fill=\"#009af9\" fill-rule=\"evenodd\" fill-opacity=\"1\" stroke=\"#000000\" stroke-opacity=\"1\" stroke-width=\"3.2\"/>\n",
       "<circle clip-path=\"url(#clip532)\" cx=\"1466.94\" cy=\"1102.53\" r=\"14.4\" fill=\"#009af9\" fill-rule=\"evenodd\" fill-opacity=\"1\" stroke=\"#000000\" stroke-opacity=\"1\" stroke-width=\"3.2\"/>\n",
       "<circle clip-path=\"url(#clip532)\" cx=\"1569.94\" cy=\"1244.93\" r=\"14.4\" fill=\"#009af9\" fill-rule=\"evenodd\" fill-opacity=\"1\" stroke=\"#000000\" stroke-opacity=\"1\" stroke-width=\"3.2\"/>\n",
       "<circle clip-path=\"url(#clip532)\" cx=\"1672.95\" cy=\"948.702\" r=\"14.4\" fill=\"#009af9\" fill-rule=\"evenodd\" fill-opacity=\"1\" stroke=\"#000000\" stroke-opacity=\"1\" stroke-width=\"3.2\"/>\n",
       "<circle clip-path=\"url(#clip532)\" cx=\"1775.95\" cy=\"981.363\" r=\"14.4\" fill=\"#009af9\" fill-rule=\"evenodd\" fill-opacity=\"1\" stroke=\"#000000\" stroke-opacity=\"1\" stroke-width=\"3.2\"/>\n",
       "<circle clip-path=\"url(#clip532)\" cx=\"1878.95\" cy=\"828.743\" r=\"14.4\" fill=\"#009af9\" fill-rule=\"evenodd\" fill-opacity=\"1\" stroke=\"#000000\" stroke-opacity=\"1\" stroke-width=\"3.2\"/>\n",
       "<circle clip-path=\"url(#clip532)\" cx=\"1981.95\" cy=\"696.102\" r=\"14.4\" fill=\"#009af9\" fill-rule=\"evenodd\" fill-opacity=\"1\" stroke=\"#000000\" stroke-opacity=\"1\" stroke-width=\"3.2\"/>\n",
       "<circle clip-path=\"url(#clip532)\" cx=\"2084.95\" cy=\"514.103\" r=\"14.4\" fill=\"#009af9\" fill-rule=\"evenodd\" fill-opacity=\"1\" stroke=\"#000000\" stroke-opacity=\"1\" stroke-width=\"3.2\"/>\n",
       "<circle clip-path=\"url(#clip532)\" cx=\"2187.95\" cy=\"354.408\" r=\"14.4\" fill=\"#009af9\" fill-rule=\"evenodd\" fill-opacity=\"1\" stroke=\"#000000\" stroke-opacity=\"1\" stroke-width=\"3.2\"/>\n",
       "<circle clip-path=\"url(#clip532)\" cx=\"2290.95\" cy=\"87.9763\" r=\"14.4\" fill=\"#009af9\" fill-rule=\"evenodd\" fill-opacity=\"1\" stroke=\"#000000\" stroke-opacity=\"1\" stroke-width=\"3.2\"/>\n",
       "<polyline clip-path=\"url(#clip532)\" style=\"stroke:#e26f46; stroke-linecap:round; stroke-linejoin:round; stroke-width:4; stroke-opacity:1; fill:none\" points=\"230.922,684.829 333.924,835.356 436.926,967.067 539.927,1079.96 642.929,1174.04 745.93,1249.31 848.932,1305.75 951.934,1343.39 1054.94,1362.2 1157.94,1362.2 1260.94,1343.39 1363.94,1305.75 1466.94,1249.31 1569.94,1174.04 1672.95,1079.96 1775.95,967.067 1878.95,835.356 1981.95,684.829 2084.95,515.485 2187.95,327.326 2290.95,120.351 \"/>\n",
       "<polyline clip-path=\"url(#clip532)\" style=\"stroke:#3da44d; stroke-linecap:round; stroke-linejoin:round; stroke-width:4; stroke-opacity:1; fill:none\" points=\"230.922,592.994 333.924,774.723 436.926,1016.12 539.927,1118.68 642.929,1178.83 745.93,1264.39 848.932,1363.57 951.934,1430.33 1054.94,1434.51 1157.94,1381.87 1260.94,1303.63 1363.94,1231.5 1466.94,1176.92 1569.94,1126.7 1672.95,1056.42 1775.95,951.682 1878.95,820.638 1981.95,683.272 2084.95,538.357 2187.95,342.34 2290.95,90.0272 \"/>\n",
       "<path clip-path=\"url(#clip530)\" d=\"M241.909 302.578 L803.234 302.578 L803.234 95.2176 L241.909 95.2176  Z\" fill=\"#ffffff\" fill-rule=\"evenodd\" fill-opacity=\"1\"/>\n",
       "<polyline clip-path=\"url(#clip530)\" style=\"stroke:#000000; stroke-linecap:round; stroke-linejoin:round; stroke-width:4; stroke-opacity:1; fill:none\" points=\"241.909,302.578 803.234,302.578 803.234,95.2176 241.909,95.2176 241.909,302.578 \"/>\n",
       "<circle clip-path=\"url(#clip530)\" cx=\"338.96\" cy=\"147.058\" r=\"23.04\" fill=\"#009af9\" fill-rule=\"evenodd\" fill-opacity=\"1\" stroke=\"#000000\" stroke-opacity=\"1\" stroke-width=\"5.12\"/>\n",
       "<path clip-path=\"url(#clip530)\" d=\"M452.028 132.949 Q446.936 132.949 443.927 136.745 Q440.941 140.541 440.941 147.092 Q440.941 153.62 443.927 157.416 Q446.936 161.213 452.028 161.213 Q457.121 161.213 460.084 157.416 Q463.07 153.62 463.07 147.092 Q463.07 140.541 460.084 136.745 Q457.121 132.949 452.028 132.949 M452.028 129.153 Q459.297 129.153 463.649 134.037 Q468.001 138.898 468.001 147.092 Q468.001 155.264 463.649 160.148 Q459.297 165.009 452.028 165.009 Q444.737 165.009 440.362 160.148 Q436.01 155.287 436.01 147.092 Q436.01 138.898 440.362 134.037 Q444.737 129.153 452.028 129.153 Z\" fill=\"#000000\" fill-rule=\"evenodd\" fill-opacity=\"1\" /><path clip-path=\"url(#clip530)\" d=\"M493.741 151.398 Q493.741 146.699 491.797 144.037 Q489.875 141.352 486.496 141.352 Q483.116 141.352 481.172 144.037 Q479.25 146.699 479.25 151.398 Q479.25 156.097 481.172 158.782 Q483.116 161.444 486.496 161.444 Q489.875 161.444 491.797 158.782 Q493.741 156.097 493.741 151.398 M479.25 142.347 Q480.593 140.032 482.63 138.921 Q484.69 137.787 487.537 137.787 Q492.26 137.787 495.199 141.537 Q498.162 145.287 498.162 151.398 Q498.162 157.509 495.199 161.259 Q492.26 165.009 487.537 165.009 Q484.69 165.009 482.63 163.898 Q480.593 162.763 479.25 160.449 L479.25 164.338 L474.968 164.338 L474.968 128.319 L479.25 128.319 L479.25 142.347 Z\" fill=\"#000000\" fill-rule=\"evenodd\" fill-opacity=\"1\" /><path clip-path=\"url(#clip530)\" d=\"M521.75 139.176 L521.75 143.203 Q519.945 142.277 518 141.815 Q516.056 141.352 513.973 141.352 Q510.801 141.352 509.204 142.324 Q507.63 143.296 507.63 145.24 Q507.63 146.722 508.764 147.578 Q509.898 148.412 513.324 149.176 L514.783 149.5 Q519.32 150.472 521.218 152.254 Q523.139 154.014 523.139 157.185 Q523.139 160.796 520.269 162.902 Q517.422 165.009 512.422 165.009 Q510.338 165.009 508.07 164.592 Q505.824 164.199 503.324 163.388 L503.324 158.99 Q505.686 160.217 507.977 160.842 Q510.269 161.444 512.514 161.444 Q515.523 161.444 517.144 160.426 Q518.764 159.384 518.764 157.509 Q518.764 155.773 517.584 154.847 Q516.426 153.921 512.468 153.064 L510.986 152.717 Q507.028 151.884 505.269 150.171 Q503.51 148.435 503.51 145.426 Q503.51 141.768 506.102 139.778 Q508.695 137.787 513.463 137.787 Q515.824 137.787 517.908 138.134 Q519.991 138.481 521.75 139.176 Z\" fill=\"#000000\" fill-rule=\"evenodd\" fill-opacity=\"1\" /><path clip-path=\"url(#clip530)\" d=\"M552.097 150.31 L552.097 152.393 L532.514 152.393 Q532.792 156.791 535.153 159.106 Q537.537 161.398 541.773 161.398 Q544.227 161.398 546.519 160.796 Q548.833 160.194 551.102 158.99 L551.102 163.018 Q548.81 163.99 546.403 164.5 Q543.996 165.009 541.519 165.009 Q535.315 165.009 531.681 161.398 Q528.07 157.787 528.07 151.629 Q528.07 145.264 531.496 141.537 Q534.945 137.787 540.778 137.787 Q546.009 137.787 549.042 141.166 Q552.097 144.523 552.097 150.31 M547.838 149.06 Q547.792 145.565 545.871 143.481 Q543.972 141.398 540.824 141.398 Q537.259 141.398 535.107 143.412 Q532.977 145.426 532.653 149.083 L547.838 149.06 Z\" fill=\"#000000\" fill-rule=\"evenodd\" fill-opacity=\"1\" /><path clip-path=\"url(#clip530)\" d=\"M574.111 142.393 Q573.394 141.977 572.537 141.791 Q571.704 141.583 570.685 141.583 Q567.074 141.583 565.13 143.944 Q563.208 146.282 563.208 150.68 L563.208 164.338 L558.926 164.338 L558.926 138.412 L563.208 138.412 L563.208 142.44 Q564.551 140.078 566.704 138.944 Q568.856 137.787 571.935 137.787 Q572.375 137.787 572.907 137.856 Q573.44 137.903 574.088 138.018 L574.111 142.393 Z\" fill=\"#000000\" fill-rule=\"evenodd\" fill-opacity=\"1\" /><path clip-path=\"url(#clip530)\" d=\"M575.523 138.412 L580.037 138.412 L588.139 160.171 L596.241 138.412 L600.754 138.412 L591.032 164.338 L585.245 164.338 L575.523 138.412 Z\" fill=\"#000000\" fill-rule=\"evenodd\" fill-opacity=\"1\" /><path clip-path=\"url(#clip530)\" d=\"M628.81 150.31 L628.81 152.393 L609.227 152.393 Q609.504 156.791 611.866 159.106 Q614.25 161.398 618.486 161.398 Q620.94 161.398 623.231 160.796 Q625.546 160.194 627.815 158.99 L627.815 163.018 Q625.523 163.99 623.115 164.5 Q620.708 165.009 618.231 165.009 Q612.028 165.009 608.393 161.398 Q604.782 157.787 604.782 151.629 Q604.782 145.264 608.208 141.537 Q611.657 137.787 617.49 137.787 Q622.722 137.787 625.754 141.166 Q628.81 144.523 628.81 150.31 M624.551 149.06 Q624.504 145.565 622.583 143.481 Q620.685 141.398 617.537 141.398 Q613.972 141.398 611.819 143.412 Q609.69 145.426 609.366 149.083 L624.551 149.06 Z\" fill=\"#000000\" fill-rule=\"evenodd\" fill-opacity=\"1\" /><path clip-path=\"url(#clip530)\" d=\"M652.861 142.347 L652.861 128.319 L657.12 128.319 L657.12 164.338 L652.861 164.338 L652.861 160.449 Q651.518 162.763 649.458 163.898 Q647.421 165.009 644.551 165.009 Q639.851 165.009 636.889 161.259 Q633.949 157.509 633.949 151.398 Q633.949 145.287 636.889 141.537 Q639.851 137.787 644.551 137.787 Q647.421 137.787 649.458 138.921 Q651.518 140.032 652.861 142.347 M638.347 151.398 Q638.347 156.097 640.268 158.782 Q642.213 161.444 645.592 161.444 Q648.972 161.444 650.916 158.782 Q652.861 156.097 652.861 151.398 Q652.861 146.699 650.916 144.037 Q648.972 141.352 645.592 141.352 Q642.213 141.352 640.268 144.037 Q638.347 146.699 638.347 151.398 Z\" fill=\"#000000\" fill-rule=\"evenodd\" fill-opacity=\"1\" /><path clip-path=\"url(#clip530)\" d=\"M698.022 142.347 L698.022 128.319 L702.282 128.319 L702.282 164.338 L698.022 164.338 L698.022 160.449 Q696.68 162.763 694.62 163.898 Q692.583 165.009 689.712 165.009 Q685.013 165.009 682.05 161.259 Q679.111 157.509 679.111 151.398 Q679.111 145.287 682.05 141.537 Q685.013 137.787 689.712 137.787 Q692.583 137.787 694.62 138.921 Q696.68 140.032 698.022 142.347 M683.509 151.398 Q683.509 156.097 685.43 158.782 Q687.374 161.444 690.754 161.444 Q694.134 161.444 696.078 158.782 Q698.022 156.097 698.022 151.398 Q698.022 146.699 696.078 144.037 Q694.134 141.352 690.754 141.352 Q687.374 141.352 685.43 144.037 Q683.509 146.699 683.509 151.398 Z\" fill=\"#000000\" fill-rule=\"evenodd\" fill-opacity=\"1\" /><path clip-path=\"url(#clip530)\" d=\"M722.837 151.305 Q717.675 151.305 715.684 152.486 Q713.694 153.666 713.694 156.514 Q713.694 158.782 715.175 160.125 Q716.68 161.444 719.249 161.444 Q722.791 161.444 724.92 158.944 Q727.073 156.421 727.073 152.254 L727.073 151.305 L722.837 151.305 M731.332 149.546 L731.332 164.338 L727.073 164.338 L727.073 160.402 Q725.615 162.763 723.439 163.898 Q721.263 165.009 718.115 165.009 Q714.133 165.009 711.772 162.787 Q709.434 160.541 709.434 156.791 Q709.434 152.416 712.351 150.194 Q715.291 147.972 721.101 147.972 L727.073 147.972 L727.073 147.555 Q727.073 144.615 725.129 143.018 Q723.208 141.398 719.712 141.398 Q717.49 141.398 715.383 141.93 Q713.277 142.463 711.333 143.527 L711.333 139.592 Q713.671 138.69 715.87 138.25 Q718.069 137.787 720.152 137.787 Q725.777 137.787 728.555 140.703 Q731.332 143.62 731.332 149.546 Z\" fill=\"#000000\" fill-rule=\"evenodd\" fill-opacity=\"1\" /><path clip-path=\"url(#clip530)\" d=\"M744.319 131.051 L744.319 138.412 L753.092 138.412 L753.092 141.722 L744.319 141.722 L744.319 155.796 Q744.319 158.967 745.175 159.87 Q746.055 160.773 748.717 160.773 L753.092 160.773 L753.092 164.338 L748.717 164.338 Q743.786 164.338 741.911 162.509 Q740.036 160.657 740.036 155.796 L740.036 141.722 L736.911 141.722 L736.911 138.412 L740.036 138.412 L740.036 131.051 L744.319 131.051 Z\" fill=\"#000000\" fill-rule=\"evenodd\" fill-opacity=\"1\" /><path clip-path=\"url(#clip530)\" d=\"M770.476 151.305 Q765.314 151.305 763.323 152.486 Q761.332 153.666 761.332 156.514 Q761.332 158.782 762.814 160.125 Q764.318 161.444 766.888 161.444 Q770.429 161.444 772.559 158.944 Q774.712 156.421 774.712 152.254 L774.712 151.305 L770.476 151.305 M778.971 149.546 L778.971 164.338 L774.712 164.338 L774.712 160.402 Q773.254 162.763 771.078 163.898 Q768.902 165.009 765.754 165.009 Q761.772 165.009 759.411 162.787 Q757.073 160.541 757.073 156.791 Q757.073 152.416 759.99 150.194 Q762.93 147.972 768.74 147.972 L774.712 147.972 L774.712 147.555 Q774.712 144.615 772.767 143.018 Q770.846 141.398 767.351 141.398 Q765.129 141.398 763.022 141.93 Q760.916 142.463 758.971 143.527 L758.971 139.592 Q761.309 138.69 763.508 138.25 Q765.707 137.787 767.791 137.787 Q773.416 137.787 776.193 140.703 Q778.971 143.62 778.971 149.546 Z\" fill=\"#000000\" fill-rule=\"evenodd\" fill-opacity=\"1\" /><polyline clip-path=\"url(#clip530)\" style=\"stroke:#e26f46; stroke-linecap:round; stroke-linejoin:round; stroke-width:4; stroke-opacity:1; fill:none\" points=\"266.172,198.898 411.747,198.898 \"/>\n",
       "<path clip-path=\"url(#clip530)\" d=\"M436.01 181.618 L465.246 181.618 L465.246 185.553 L452.977 185.553 L452.977 216.178 L448.278 216.178 L448.278 185.553 L436.01 185.553 L436.01 181.618 Z\" fill=\"#000000\" fill-rule=\"evenodd\" fill-opacity=\"1\" /><path clip-path=\"url(#clip530)\" d=\"M477.63 194.233 Q476.913 193.817 476.056 193.631 Q475.223 193.423 474.204 193.423 Q470.593 193.423 468.649 195.784 Q466.727 198.122 466.727 202.52 L466.727 216.178 L462.445 216.178 L462.445 190.252 L466.727 190.252 L466.727 194.28 Q468.07 191.918 470.223 190.784 Q472.376 189.627 475.454 189.627 Q475.894 189.627 476.426 189.696 Q476.959 189.743 477.607 189.858 L477.63 194.233 Z\" fill=\"#000000\" fill-rule=\"evenodd\" fill-opacity=\"1\" /><path clip-path=\"url(#clip530)\" d=\"M481.658 205.946 L481.658 190.252 L485.917 190.252 L485.917 205.784 Q485.917 209.465 487.352 211.316 Q488.787 213.145 491.658 213.145 Q495.107 213.145 497.098 210.946 Q499.112 208.747 499.112 204.951 L499.112 190.252 L503.371 190.252 L503.371 216.178 L499.112 216.178 L499.112 212.196 Q497.561 214.557 495.5 215.715 Q493.463 216.849 490.755 216.849 Q486.287 216.849 483.973 214.071 Q481.658 211.293 481.658 205.946 M492.375 189.627 L492.375 189.627 Z\" fill=\"#000000\" fill-rule=\"evenodd\" fill-opacity=\"1\" /><path clip-path=\"url(#clip530)\" d=\"M534.32 202.15 L534.32 204.233 L514.736 204.233 Q515.014 208.631 517.375 210.946 Q519.76 213.238 523.996 213.238 Q526.449 213.238 528.741 212.636 Q531.056 212.034 533.324 210.83 L533.324 214.858 Q531.033 215.83 528.625 216.34 Q526.218 216.849 523.741 216.849 Q517.537 216.849 513.903 213.238 Q510.292 209.627 510.292 203.469 Q510.292 197.104 513.718 193.377 Q517.167 189.627 523 189.627 Q528.232 189.627 531.264 193.006 Q534.32 196.363 534.32 202.15 M530.06 200.9 Q530.014 197.405 528.093 195.321 Q526.195 193.238 523.047 193.238 Q519.482 193.238 517.329 195.252 Q515.199 197.266 514.875 200.923 L530.06 200.9 Z\" fill=\"#000000\" fill-rule=\"evenodd\" fill-opacity=\"1\" /><path clip-path=\"url(#clip530)\" d=\"M556.38 180.159 L560.639 180.159 L560.639 216.178 L556.38 216.178 L556.38 180.159 Z\" fill=\"#000000\" fill-rule=\"evenodd\" fill-opacity=\"1\" /><path clip-path=\"url(#clip530)\" d=\"M569.551 190.252 L573.81 190.252 L573.81 216.178 L569.551 216.178 L569.551 190.252 M569.551 180.159 L573.81 180.159 L573.81 185.553 L569.551 185.553 L569.551 180.159 Z\" fill=\"#000000\" fill-rule=\"evenodd\" fill-opacity=\"1\" /><path clip-path=\"url(#clip530)\" d=\"M604.273 200.529 L604.273 216.178 L600.014 216.178 L600.014 200.668 Q600.014 196.988 598.579 195.159 Q597.143 193.33 594.273 193.33 Q590.824 193.33 588.833 195.53 Q586.843 197.729 586.843 201.525 L586.843 216.178 L582.56 216.178 L582.56 190.252 L586.843 190.252 L586.843 194.28 Q588.37 191.942 590.43 190.784 Q592.514 189.627 595.222 189.627 Q599.69 189.627 601.981 192.405 Q604.273 195.159 604.273 200.529 Z\" fill=\"#000000\" fill-rule=\"evenodd\" fill-opacity=\"1\" /><path clip-path=\"url(#clip530)\" d=\"M634.944 202.15 L634.944 204.233 L615.361 204.233 Q615.639 208.631 618 210.946 Q620.384 213.238 624.62 213.238 Q627.074 213.238 629.365 212.636 Q631.68 212.034 633.949 210.83 L633.949 214.858 Q631.657 215.83 629.25 216.34 Q626.842 216.849 624.365 216.849 Q618.162 216.849 614.528 213.238 Q610.916 209.627 610.916 203.469 Q610.916 197.104 614.342 193.377 Q617.791 189.627 623.625 189.627 Q628.856 189.627 631.889 193.006 Q634.944 196.363 634.944 202.15 M630.685 200.9 Q630.639 197.405 628.717 195.321 Q626.819 193.238 623.671 193.238 Q620.106 193.238 617.953 195.252 Q615.824 197.266 615.5 200.923 L630.685 200.9 Z\" fill=\"#000000\" fill-rule=\"evenodd\" fill-opacity=\"1\" /><polyline clip-path=\"url(#clip530)\" style=\"stroke:#3da44d; stroke-linecap:round; stroke-linejoin:round; stroke-width:4; stroke-opacity:1; fill:none\" points=\"266.172,250.738 411.747,250.738 \"/>\n",
       "<path clip-path=\"url(#clip530)\" d=\"M436.01 233.458 L455.871 233.458 L455.871 237.393 L440.686 237.393 L440.686 247.578 L454.39 247.578 L454.39 251.513 L440.686 251.513 L440.686 268.018 L436.01 268.018 L436.01 233.458 Z\" fill=\"#000000\" fill-rule=\"evenodd\" fill-opacity=\"1\" /><path clip-path=\"url(#clip530)\" d=\"M459.644 242.092 L463.903 242.092 L463.903 268.018 L459.644 268.018 L459.644 242.092 M459.644 231.999 L463.903 231.999 L463.903 237.393 L459.644 237.393 L459.644 231.999 Z\" fill=\"#000000\" fill-rule=\"evenodd\" fill-opacity=\"1\" /><path clip-path=\"url(#clip530)\" d=\"M477.028 234.731 L477.028 242.092 L485.801 242.092 L485.801 245.402 L477.028 245.402 L477.028 259.476 Q477.028 262.647 477.885 263.55 Q478.764 264.453 481.426 264.453 L485.801 264.453 L485.801 268.018 L481.426 268.018 Q476.496 268.018 474.621 266.189 Q472.746 264.337 472.746 259.476 L472.746 245.402 L469.621 245.402 L469.621 242.092 L472.746 242.092 L472.746 234.731 L477.028 234.731 Z\" fill=\"#000000\" fill-rule=\"evenodd\" fill-opacity=\"1\" /><path clip-path=\"url(#clip530)\" d=\"M495.616 234.731 L495.616 242.092 L504.389 242.092 L504.389 245.402 L495.616 245.402 L495.616 259.476 Q495.616 262.647 496.473 263.55 Q497.352 264.453 500.014 264.453 L504.389 264.453 L504.389 268.018 L500.014 268.018 Q495.084 268.018 493.209 266.189 Q491.334 264.337 491.334 259.476 L491.334 245.402 L488.209 245.402 L488.209 242.092 L491.334 242.092 L491.334 234.731 L495.616 234.731 Z\" fill=\"#000000\" fill-rule=\"evenodd\" fill-opacity=\"1\" /><path clip-path=\"url(#clip530)\" d=\"M532.167 253.99 L532.167 256.073 L512.584 256.073 Q512.861 260.471 515.223 262.786 Q517.607 265.078 521.843 265.078 Q524.297 265.078 526.588 264.476 Q528.903 263.874 531.172 262.67 L531.172 266.698 Q528.88 267.67 526.472 268.18 Q524.065 268.689 521.588 268.689 Q515.385 268.689 511.75 265.078 Q508.139 261.467 508.139 255.309 Q508.139 248.944 511.565 245.217 Q515.014 241.467 520.847 241.467 Q526.079 241.467 529.111 244.846 Q532.167 248.203 532.167 253.99 M527.908 252.74 Q527.861 249.245 525.94 247.161 Q524.042 245.078 520.894 245.078 Q517.329 245.078 515.176 247.092 Q513.047 249.106 512.723 252.763 L527.908 252.74 Z\" fill=\"#000000\" fill-rule=\"evenodd\" fill-opacity=\"1\" /><path clip-path=\"url(#clip530)\" d=\"M556.218 246.027 L556.218 231.999 L560.477 231.999 L560.477 268.018 L556.218 268.018 L556.218 264.129 Q554.875 266.443 552.815 267.578 Q550.778 268.689 547.908 268.689 Q543.208 268.689 540.246 264.939 Q537.306 261.189 537.306 255.078 Q537.306 248.967 540.246 245.217 Q543.208 241.467 547.908 241.467 Q550.778 241.467 552.815 242.601 Q554.875 243.712 556.218 246.027 M541.704 255.078 Q541.704 259.777 543.625 262.462 Q545.57 265.124 548.949 265.124 Q552.329 265.124 554.273 262.462 Q556.218 259.777 556.218 255.078 Q556.218 250.379 554.273 247.717 Q552.329 245.032 548.949 245.032 Q545.57 245.032 543.625 247.717 Q541.704 250.379 541.704 255.078 Z\" fill=\"#000000\" fill-rule=\"evenodd\" fill-opacity=\"1\" /><path clip-path=\"url(#clip530)\" d=\"M584.319 231.999 L588.579 231.999 L588.579 268.018 L584.319 268.018 L584.319 231.999 Z\" fill=\"#000000\" fill-rule=\"evenodd\" fill-opacity=\"1\" /><path clip-path=\"url(#clip530)\" d=\"M597.491 242.092 L601.75 242.092 L601.75 268.018 L597.491 268.018 L597.491 242.092 M597.491 231.999 L601.75 231.999 L601.75 237.393 L597.491 237.393 L597.491 231.999 Z\" fill=\"#000000\" fill-rule=\"evenodd\" fill-opacity=\"1\" /><path clip-path=\"url(#clip530)\" d=\"M632.213 252.369 L632.213 268.018 L627.953 268.018 L627.953 252.508 Q627.953 248.828 626.518 246.999 Q625.083 245.17 622.213 245.17 Q618.764 245.17 616.773 247.37 Q614.782 249.569 614.782 253.365 L614.782 268.018 L610.5 268.018 L610.5 242.092 L614.782 242.092 L614.782 246.12 Q616.31 243.782 618.37 242.624 Q620.453 241.467 623.162 241.467 Q627.629 241.467 629.921 244.245 Q632.213 246.999 632.213 252.369 Z\" fill=\"#000000\" fill-rule=\"evenodd\" fill-opacity=\"1\" /><path clip-path=\"url(#clip530)\" d=\"M662.884 253.99 L662.884 256.073 L643.301 256.073 Q643.578 260.471 645.939 262.786 Q648.324 265.078 652.56 265.078 Q655.013 265.078 657.305 264.476 Q659.62 263.874 661.888 262.67 L661.888 266.698 Q659.597 267.67 657.189 268.18 Q654.782 268.689 652.305 268.689 Q646.101 268.689 642.467 265.078 Q638.856 261.467 638.856 255.309 Q638.856 248.944 642.282 245.217 Q645.731 241.467 651.564 241.467 Q656.796 241.467 659.828 244.846 Q662.884 248.203 662.884 253.99 M658.625 252.74 Q658.578 249.245 656.657 247.161 Q654.759 245.078 651.611 245.078 Q648.046 245.078 645.893 247.092 Q643.764 249.106 643.439 252.763 L658.625 252.74 Z\" fill=\"#000000\" fill-rule=\"evenodd\" fill-opacity=\"1\" /></svg>\n"
      ]
     },
     "execution_count": 45,
     "metadata": {},
     "output_type": "execute_result"
    }
   ],
   "source": [
    "scatter(x,y_observed3, label = \"Observed data\")\n",
    "plot!(x,y_true, label = \"True line\")\n",
    "\n",
    "using Polynomials\n",
    "line_fit3 = Polynomials.fit(x,y_observed3,10)\n",
    "fit_coeff = coeffs(line_fit3)\n",
    "y_fitted3 = line_fit3.(x)\n",
    "plot!(x,y_fitted3,label=\"Fitted line\")"
   ]
  },
  {
   "cell_type": "markdown",
   "id": "36028ee0",
   "metadata": {},
   "source": [
    "### 2.6\n",
    "\n",
    "1. Create a new independent parameter x_fit ranging from -11 to 11 with an increment of 0.1\n",
    "2. Plot the same three plots as in 2.3 again but apply the tenth order polynomial to x_fit instead of x\n"
   ]
  },
  {
   "cell_type": "code",
   "execution_count": 46,
   "id": "039ee8df",
   "metadata": {},
   "outputs": [
    {
     "data": {
      "text/plain": [
       "21-element Vector{Float64}:\n",
       "  78.10677001882603\n",
       "  71.78512942746596\n",
       "  10.528493821585755\n",
       "  11.028389118818232\n",
       "  28.89712491712809\n",
       "  14.639931897123866\n",
       "  -7.703903417720179\n",
       " -17.61619661791019\n",
       "  -6.547772530567628\n",
       " -10.09532745667324\n",
       "   4.314304643175008\n",
       "   2.9115822243720935\n",
       "   4.67041661005314\n",
       "  26.159988179692625\n",
       "  24.4548356606318\n",
       "  37.14684835072857\n",
       "  33.32813578585642\n",
       "  60.79142384535772\n",
       "  92.80503879683582\n",
       "  99.94544504522527\n",
       " 112.78771623782842"
      ]
     },
     "execution_count": 46,
     "metadata": {},
     "output_type": "execute_result"
    }
   ],
   "source": [
    "using Distributions, Polynomials, Statistics, Plots\n",
    "dataerr4 = 10.0\n",
    "d4 = di.Normal(0,dataerr4)\n",
    "y_observed4 = y_true .+ rand(d4,length(x))"
   ]
  },
  {
   "cell_type": "code",
   "execution_count": 47,
   "id": "6c67a977",
   "metadata": {},
   "outputs": [
    {
     "data": {
      "text/plain": [
       "-11.0:0.1:11.0"
      ]
     },
     "execution_count": 47,
     "metadata": {},
     "output_type": "execute_result"
    }
   ],
   "source": [
    "x_fit = -11:0.1:11"
   ]
  },
  {
   "cell_type": "code",
   "execution_count": 48,
   "id": "ab03f017",
   "metadata": {},
   "outputs": [
    {
     "data": {
      "text/plain": [
       "221-element Vector{Float64}:\n",
       " -11.0\n",
       " -10.9\n",
       " -10.8\n",
       " -10.7\n",
       " -10.6\n",
       " -10.5\n",
       " -10.4\n",
       " -10.3\n",
       " -10.2\n",
       " -10.1\n",
       " -10.0\n",
       "  -9.9\n",
       "  -9.8\n",
       "   ⋮\n",
       "   9.9\n",
       "  10.0\n",
       "  10.1\n",
       "  10.2\n",
       "  10.3\n",
       "  10.4\n",
       "  10.5\n",
       "  10.6\n",
       "  10.7\n",
       "  10.8\n",
       "  10.9\n",
       "  11.0"
      ]
     },
     "execution_count": 48,
     "metadata": {},
     "output_type": "execute_result"
    }
   ],
   "source": [
    "collect(x_fit)"
   ]
  },
  {
   "cell_type": "code",
   "execution_count": 49,
   "id": "5233e9ee",
   "metadata": {},
   "outputs": [
    {
     "data": {
      "image/svg+xml": [
       "<?xml version=\"1.0\" encoding=\"utf-8\"?>\n",
       "<svg xmlns=\"http://www.w3.org/2000/svg\" xmlns:xlink=\"http://www.w3.org/1999/xlink\" width=\"600\" height=\"400\" viewBox=\"0 0 2400 1600\">\n",
       "<defs>\n",
       "  <clipPath id=\"clip570\">\n",
       "    <rect x=\"0\" y=\"0\" width=\"2400\" height=\"1600\"/>\n",
       "  </clipPath>\n",
       "</defs>\n",
       "<path clip-path=\"url(#clip570)\" d=\"M0 1600 L2400 1600 L2400 0 L0 0  Z\" fill=\"#ffffff\" fill-rule=\"evenodd\" fill-opacity=\"1\"/>\n",
       "<defs>\n",
       "  <clipPath id=\"clip571\">\n",
       "    <rect x=\"480\" y=\"0\" width=\"1681\" height=\"1600\"/>\n",
       "  </clipPath>\n",
       "</defs>\n",
       "<path clip-path=\"url(#clip570)\" d=\"M209.029 1486.45 L2352.76 1486.45 L2352.76 47.2441 L209.029 47.2441  Z\" fill=\"#ffffff\" fill-rule=\"evenodd\" fill-opacity=\"1\"/>\n",
       "<defs>\n",
       "  <clipPath id=\"clip572\">\n",
       "    <rect x=\"209\" y=\"47\" width=\"2145\" height=\"1440\"/>\n",
       "  </clipPath>\n",
       "</defs>\n",
       "<polyline clip-path=\"url(#clip572)\" style=\"stroke:#000000; stroke-linecap:round; stroke-linejoin:round; stroke-width:2; stroke-opacity:0.1; fill:none\" points=\"361.627,1486.45 361.627,47.2441 \"/>\n",
       "<polyline clip-path=\"url(#clip572)\" style=\"stroke:#000000; stroke-linecap:round; stroke-linejoin:round; stroke-width:2; stroke-opacity:0.1; fill:none\" points=\"821.259,1486.45 821.259,47.2441 \"/>\n",
       "<polyline clip-path=\"url(#clip572)\" style=\"stroke:#000000; stroke-linecap:round; stroke-linejoin:round; stroke-width:2; stroke-opacity:0.1; fill:none\" points=\"1280.89,1486.45 1280.89,47.2441 \"/>\n",
       "<polyline clip-path=\"url(#clip572)\" style=\"stroke:#000000; stroke-linecap:round; stroke-linejoin:round; stroke-width:2; stroke-opacity:0.1; fill:none\" points=\"1740.53,1486.45 1740.53,47.2441 \"/>\n",
       "<polyline clip-path=\"url(#clip572)\" style=\"stroke:#000000; stroke-linecap:round; stroke-linejoin:round; stroke-width:2; stroke-opacity:0.1; fill:none\" points=\"2200.16,1486.45 2200.16,47.2441 \"/>\n",
       "<polyline clip-path=\"url(#clip570)\" style=\"stroke:#000000; stroke-linecap:round; stroke-linejoin:round; stroke-width:4; stroke-opacity:1; fill:none\" points=\"209.029,1486.45 2352.76,1486.45 \"/>\n",
       "<polyline clip-path=\"url(#clip570)\" style=\"stroke:#000000; stroke-linecap:round; stroke-linejoin:round; stroke-width:4; stroke-opacity:1; fill:none\" points=\"361.627,1486.45 361.627,1467.55 \"/>\n",
       "<polyline clip-path=\"url(#clip570)\" style=\"stroke:#000000; stroke-linecap:round; stroke-linejoin:round; stroke-width:4; stroke-opacity:1; fill:none\" points=\"821.259,1486.45 821.259,1467.55 \"/>\n",
       "<polyline clip-path=\"url(#clip570)\" style=\"stroke:#000000; stroke-linecap:round; stroke-linejoin:round; stroke-width:4; stroke-opacity:1; fill:none\" points=\"1280.89,1486.45 1280.89,1467.55 \"/>\n",
       "<polyline clip-path=\"url(#clip570)\" style=\"stroke:#000000; stroke-linecap:round; stroke-linejoin:round; stroke-width:4; stroke-opacity:1; fill:none\" points=\"1740.53,1486.45 1740.53,1467.55 \"/>\n",
       "<polyline clip-path=\"url(#clip570)\" style=\"stroke:#000000; stroke-linecap:round; stroke-linejoin:round; stroke-width:4; stroke-opacity:1; fill:none\" points=\"2200.16,1486.45 2200.16,1467.55 \"/>\n",
       "<path clip-path=\"url(#clip570)\" d=\"M315.689 1532.02 L345.365 1532.02 L345.365 1535.95 L315.689 1535.95 L315.689 1532.02 Z\" fill=\"#000000\" fill-rule=\"evenodd\" fill-opacity=\"1\" /><path clip-path=\"url(#clip570)\" d=\"M356.268 1544.91 L363.907 1544.91 L363.907 1518.55 L355.597 1520.21 L355.597 1515.95 L363.86 1514.29 L368.536 1514.29 L368.536 1544.91 L376.175 1544.91 L376.175 1548.85 L356.268 1548.85 L356.268 1544.91 Z\" fill=\"#000000\" fill-rule=\"evenodd\" fill-opacity=\"1\" /><path clip-path=\"url(#clip570)\" d=\"M395.619 1517.37 Q392.008 1517.37 390.18 1520.93 Q388.374 1524.47 388.374 1531.6 Q388.374 1538.71 390.18 1542.27 Q392.008 1545.82 395.619 1545.82 Q399.254 1545.82 401.059 1542.27 Q402.888 1538.71 402.888 1531.6 Q402.888 1524.47 401.059 1520.93 Q399.254 1517.37 395.619 1517.37 M395.619 1513.66 Q401.43 1513.66 404.485 1518.27 Q407.564 1522.85 407.564 1531.6 Q407.564 1540.33 404.485 1544.94 Q401.43 1549.52 395.619 1549.52 Q389.809 1549.52 386.731 1544.94 Q383.675 1540.33 383.675 1531.6 Q383.675 1522.85 386.731 1518.27 Q389.809 1513.66 395.619 1513.66 Z\" fill=\"#000000\" fill-rule=\"evenodd\" fill-opacity=\"1\" /><path clip-path=\"url(#clip570)\" d=\"M790.901 1532.02 L820.577 1532.02 L820.577 1535.95 L790.901 1535.95 L790.901 1532.02 Z\" fill=\"#000000\" fill-rule=\"evenodd\" fill-opacity=\"1\" /><path clip-path=\"url(#clip570)\" d=\"M830.715 1514.29 L849.072 1514.29 L849.072 1518.22 L834.998 1518.22 L834.998 1526.7 Q836.016 1526.35 837.035 1526.19 Q838.053 1526 839.072 1526 Q844.859 1526 848.238 1529.17 Q851.618 1532.34 851.618 1537.76 Q851.618 1543.34 848.146 1546.44 Q844.674 1549.52 838.354 1549.52 Q836.178 1549.52 833.91 1549.15 Q831.664 1548.78 829.257 1548.04 L829.257 1543.34 Q831.34 1544.47 833.563 1545.03 Q835.785 1545.58 838.262 1545.58 Q842.266 1545.58 844.604 1543.48 Q846.942 1541.37 846.942 1537.76 Q846.942 1534.15 844.604 1532.04 Q842.266 1529.94 838.262 1529.94 Q836.387 1529.94 834.512 1530.35 Q832.66 1530.77 830.715 1531.65 L830.715 1514.29 Z\" fill=\"#000000\" fill-rule=\"evenodd\" fill-opacity=\"1\" /><path clip-path=\"url(#clip570)\" d=\"M1280.89 1517.37 Q1277.28 1517.37 1275.45 1520.93 Q1273.65 1524.47 1273.65 1531.6 Q1273.65 1538.71 1275.45 1542.27 Q1277.28 1545.82 1280.89 1545.82 Q1284.53 1545.82 1286.33 1542.27 Q1288.16 1538.71 1288.16 1531.6 Q1288.16 1524.47 1286.33 1520.93 Q1284.53 1517.37 1280.89 1517.37 M1280.89 1513.66 Q1286.7 1513.66 1289.76 1518.27 Q1292.84 1522.85 1292.84 1531.6 Q1292.84 1540.33 1289.76 1544.94 Q1286.7 1549.52 1280.89 1549.52 Q1275.08 1549.52 1272 1544.94 Q1268.95 1540.33 1268.95 1531.6 Q1268.95 1522.85 1272 1518.27 Q1275.08 1513.66 1280.89 1513.66 Z\" fill=\"#000000\" fill-rule=\"evenodd\" fill-opacity=\"1\" /><path clip-path=\"url(#clip570)\" d=\"M1730.8 1514.29 L1749.16 1514.29 L1749.16 1518.22 L1735.09 1518.22 L1735.09 1526.7 Q1736.1 1526.35 1737.12 1526.19 Q1738.14 1526 1739.16 1526 Q1744.95 1526 1748.33 1529.17 Q1751.71 1532.34 1751.71 1537.76 Q1751.71 1543.34 1748.23 1546.44 Q1744.76 1549.52 1738.44 1549.52 Q1736.27 1549.52 1734 1549.15 Q1731.75 1548.78 1729.34 1548.04 L1729.34 1543.34 Q1731.43 1544.47 1733.65 1545.03 Q1735.87 1545.58 1738.35 1545.58 Q1742.35 1545.58 1744.69 1543.48 Q1747.03 1541.37 1747.03 1537.76 Q1747.03 1534.15 1744.69 1532.04 Q1742.35 1529.94 1738.35 1529.94 Q1736.47 1529.94 1734.6 1530.35 Q1732.75 1530.77 1730.8 1531.65 L1730.8 1514.29 Z\" fill=\"#000000\" fill-rule=\"evenodd\" fill-opacity=\"1\" /><path clip-path=\"url(#clip570)\" d=\"M2174.85 1544.91 L2182.48 1544.91 L2182.48 1518.55 L2174.17 1520.21 L2174.17 1515.95 L2182.44 1514.29 L2187.11 1514.29 L2187.11 1544.91 L2194.75 1544.91 L2194.75 1548.85 L2174.85 1548.85 L2174.85 1544.91 Z\" fill=\"#000000\" fill-rule=\"evenodd\" fill-opacity=\"1\" /><path clip-path=\"url(#clip570)\" d=\"M2214.2 1517.37 Q2210.59 1517.37 2208.76 1520.93 Q2206.95 1524.47 2206.95 1531.6 Q2206.95 1538.71 2208.76 1542.27 Q2210.59 1545.82 2214.2 1545.82 Q2217.83 1545.82 2219.64 1542.27 Q2221.47 1538.71 2221.47 1531.6 Q2221.47 1524.47 2219.64 1520.93 Q2217.83 1517.37 2214.2 1517.37 M2214.2 1513.66 Q2220.01 1513.66 2223.06 1518.27 Q2226.14 1522.85 2226.14 1531.6 Q2226.14 1540.33 2223.06 1544.94 Q2220.01 1549.52 2214.2 1549.52 Q2208.39 1549.52 2205.31 1544.94 Q2202.25 1540.33 2202.25 1531.6 Q2202.25 1522.85 2205.31 1518.27 Q2208.39 1513.66 2214.2 1513.66 Z\" fill=\"#000000\" fill-rule=\"evenodd\" fill-opacity=\"1\" /><polyline clip-path=\"url(#clip572)\" style=\"stroke:#000000; stroke-linecap:round; stroke-linejoin:round; stroke-width:2; stroke-opacity:0.1; fill:none\" points=\"209.029,1247.8 2352.76,1247.8 \"/>\n",
       "<polyline clip-path=\"url(#clip572)\" style=\"stroke:#000000; stroke-linecap:round; stroke-linejoin:round; stroke-width:2; stroke-opacity:0.1; fill:none\" points=\"209.029,976.814 2352.76,976.814 \"/>\n",
       "<polyline clip-path=\"url(#clip572)\" style=\"stroke:#000000; stroke-linecap:round; stroke-linejoin:round; stroke-width:2; stroke-opacity:0.1; fill:none\" points=\"209.029,705.827 2352.76,705.827 \"/>\n",
       "<polyline clip-path=\"url(#clip572)\" style=\"stroke:#000000; stroke-linecap:round; stroke-linejoin:round; stroke-width:2; stroke-opacity:0.1; fill:none\" points=\"209.029,434.84 2352.76,434.84 \"/>\n",
       "<polyline clip-path=\"url(#clip572)\" style=\"stroke:#000000; stroke-linecap:round; stroke-linejoin:round; stroke-width:2; stroke-opacity:0.1; fill:none\" points=\"209.029,163.853 2352.76,163.853 \"/>\n",
       "<polyline clip-path=\"url(#clip570)\" style=\"stroke:#000000; stroke-linecap:round; stroke-linejoin:round; stroke-width:4; stroke-opacity:1; fill:none\" points=\"209.029,1486.45 209.029,47.2441 \"/>\n",
       "<polyline clip-path=\"url(#clip570)\" style=\"stroke:#000000; stroke-linecap:round; stroke-linejoin:round; stroke-width:4; stroke-opacity:1; fill:none\" points=\"209.029,1247.8 227.926,1247.8 \"/>\n",
       "<polyline clip-path=\"url(#clip570)\" style=\"stroke:#000000; stroke-linecap:round; stroke-linejoin:round; stroke-width:4; stroke-opacity:1; fill:none\" points=\"209.029,976.814 227.926,976.814 \"/>\n",
       "<polyline clip-path=\"url(#clip570)\" style=\"stroke:#000000; stroke-linecap:round; stroke-linejoin:round; stroke-width:4; stroke-opacity:1; fill:none\" points=\"209.029,705.827 227.926,705.827 \"/>\n",
       "<polyline clip-path=\"url(#clip570)\" style=\"stroke:#000000; stroke-linecap:round; stroke-linejoin:round; stroke-width:4; stroke-opacity:1; fill:none\" points=\"209.029,434.84 227.926,434.84 \"/>\n",
       "<polyline clip-path=\"url(#clip570)\" style=\"stroke:#000000; stroke-linecap:round; stroke-linejoin:round; stroke-width:4; stroke-opacity:1; fill:none\" points=\"209.029,163.853 227.926,163.853 \"/>\n",
       "<path clip-path=\"url(#clip570)\" d=\"M50.9921 1248.25 L80.6679 1248.25 L80.6679 1252.19 L50.9921 1252.19 L50.9921 1248.25 Z\" fill=\"#000000\" fill-rule=\"evenodd\" fill-opacity=\"1\" /><path clip-path=\"url(#clip570)\" d=\"M104.927 1246.45 Q108.283 1247.16 110.158 1249.43 Q112.057 1251.7 112.057 1255.03 Q112.057 1260.15 108.538 1262.95 Q105.02 1265.75 98.5382 1265.75 Q96.3623 1265.75 94.0475 1265.31 Q91.7558 1264.9 89.3021 1264.04 L89.3021 1259.53 Q91.2465 1260.66 93.5613 1261.24 Q95.8761 1261.82 98.3993 1261.82 Q102.797 1261.82 105.089 1260.08 Q107.404 1258.34 107.404 1255.03 Q107.404 1251.98 105.251 1250.27 Q103.121 1248.53 99.3021 1248.53 L95.2743 1248.53 L95.2743 1244.69 L99.4872 1244.69 Q102.936 1244.69 104.765 1243.32 Q106.594 1241.93 106.594 1239.34 Q106.594 1236.68 104.696 1235.27 Q102.821 1233.83 99.3021 1233.83 Q97.3808 1233.83 95.1817 1234.25 Q92.9826 1234.66 90.3438 1235.54 L90.3438 1231.38 Q93.0058 1230.64 95.3206 1230.27 Q97.6585 1229.9 99.7187 1229.9 Q105.043 1229.9 108.145 1232.33 Q111.246 1234.73 111.246 1238.85 Q111.246 1241.72 109.603 1243.71 Q107.959 1245.68 104.927 1246.45 Z\" fill=\"#000000\" fill-rule=\"evenodd\" fill-opacity=\"1\" /><path clip-path=\"url(#clip570)\" d=\"M130.922 1233.6 Q127.311 1233.6 125.482 1237.16 Q123.677 1240.71 123.677 1247.84 Q123.677 1254.94 125.482 1258.51 Q127.311 1262.05 130.922 1262.05 Q134.556 1262.05 136.362 1258.51 Q138.191 1254.94 138.191 1247.84 Q138.191 1240.71 136.362 1237.16 Q134.556 1233.6 130.922 1233.6 M130.922 1229.9 Q136.732 1229.9 139.788 1234.5 Q142.867 1239.09 142.867 1247.84 Q142.867 1256.56 139.788 1261.17 Q136.732 1265.75 130.922 1265.75 Q125.112 1265.75 122.033 1261.17 Q118.978 1256.56 118.978 1247.84 Q118.978 1239.09 122.033 1234.5 Q125.112 1229.9 130.922 1229.9 Z\" fill=\"#000000\" fill-rule=\"evenodd\" fill-opacity=\"1\" /><path clip-path=\"url(#clip570)\" d=\"M161.084 1233.6 Q157.473 1233.6 155.644 1237.16 Q153.839 1240.71 153.839 1247.84 Q153.839 1254.94 155.644 1258.51 Q157.473 1262.05 161.084 1262.05 Q164.718 1262.05 166.524 1258.51 Q168.353 1254.94 168.353 1247.84 Q168.353 1240.71 166.524 1237.16 Q164.718 1233.6 161.084 1233.6 M161.084 1229.9 Q166.894 1229.9 169.95 1234.5 Q173.029 1239.09 173.029 1247.84 Q173.029 1256.56 169.95 1261.17 Q166.894 1265.75 161.084 1265.75 Q155.274 1265.75 152.195 1261.17 Q149.14 1256.56 149.14 1247.84 Q149.14 1239.09 152.195 1234.5 Q155.274 1229.9 161.084 1229.9 Z\" fill=\"#000000\" fill-rule=\"evenodd\" fill-opacity=\"1\" /><path clip-path=\"url(#clip570)\" d=\"M50.9921 977.265 L80.6679 977.265 L80.6679 981.2 L50.9921 981.2 L50.9921 977.265 Z\" fill=\"#000000\" fill-rule=\"evenodd\" fill-opacity=\"1\" /><path clip-path=\"url(#clip570)\" d=\"M94.7882 990.158 L111.108 990.158 L111.108 994.094 L89.1632 994.094 L89.1632 990.158 Q91.8252 987.404 96.4085 982.774 Q101.015 978.121 102.196 976.779 Q104.441 974.256 105.321 972.52 Q106.223 970.76 106.223 969.071 Q106.223 966.316 104.279 964.58 Q102.358 962.844 99.2558 962.844 Q97.0567 962.844 94.603 963.608 Q92.1725 964.372 89.3947 965.922 L89.3947 961.2 Q92.2188 960.066 94.6724 959.487 Q97.1261 958.909 99.1632 958.909 Q104.534 958.909 107.728 961.594 Q110.922 964.279 110.922 968.77 Q110.922 970.899 110.112 972.821 Q109.325 974.719 107.219 977.311 Q106.64 977.983 103.538 981.2 Q100.436 984.395 94.7882 990.158 Z\" fill=\"#000000\" fill-rule=\"evenodd\" fill-opacity=\"1\" /><path clip-path=\"url(#clip570)\" d=\"M130.922 962.612 Q127.311 962.612 125.482 966.177 Q123.677 969.719 123.677 976.848 Q123.677 983.955 125.482 987.52 Q127.311 991.061 130.922 991.061 Q134.556 991.061 136.362 987.52 Q138.191 983.955 138.191 976.848 Q138.191 969.719 136.362 966.177 Q134.556 962.612 130.922 962.612 M130.922 958.909 Q136.732 958.909 139.788 963.515 Q142.867 968.098 142.867 976.848 Q142.867 985.575 139.788 990.182 Q136.732 994.765 130.922 994.765 Q125.112 994.765 122.033 990.182 Q118.978 985.575 118.978 976.848 Q118.978 968.098 122.033 963.515 Q125.112 958.909 130.922 958.909 Z\" fill=\"#000000\" fill-rule=\"evenodd\" fill-opacity=\"1\" /><path clip-path=\"url(#clip570)\" d=\"M161.084 962.612 Q157.473 962.612 155.644 966.177 Q153.839 969.719 153.839 976.848 Q153.839 983.955 155.644 987.52 Q157.473 991.061 161.084 991.061 Q164.718 991.061 166.524 987.52 Q168.353 983.955 168.353 976.848 Q168.353 969.719 166.524 966.177 Q164.718 962.612 161.084 962.612 M161.084 958.909 Q166.894 958.909 169.95 963.515 Q173.029 968.098 173.029 976.848 Q173.029 985.575 169.95 990.182 Q166.894 994.765 161.084 994.765 Q155.274 994.765 152.195 990.182 Q149.14 985.575 149.14 976.848 Q149.14 968.098 152.195 963.515 Q155.274 958.909 161.084 958.909 Z\" fill=\"#000000\" fill-rule=\"evenodd\" fill-opacity=\"1\" /><path clip-path=\"url(#clip570)\" d=\"M50.9921 706.278 L80.6679 706.278 L80.6679 710.213 L50.9921 710.213 L50.9921 706.278 Z\" fill=\"#000000\" fill-rule=\"evenodd\" fill-opacity=\"1\" /><path clip-path=\"url(#clip570)\" d=\"M91.5706 719.171 L99.2095 719.171 L99.2095 692.806 L90.8993 694.472 L90.8993 690.213 L99.1632 688.547 L103.839 688.547 L103.839 719.171 L111.478 719.171 L111.478 723.107 L91.5706 723.107 L91.5706 719.171 Z\" fill=\"#000000\" fill-rule=\"evenodd\" fill-opacity=\"1\" /><path clip-path=\"url(#clip570)\" d=\"M130.922 691.625 Q127.311 691.625 125.482 695.19 Q123.677 698.732 123.677 705.861 Q123.677 712.968 125.482 716.533 Q127.311 720.074 130.922 720.074 Q134.556 720.074 136.362 716.533 Q138.191 712.968 138.191 705.861 Q138.191 698.732 136.362 695.19 Q134.556 691.625 130.922 691.625 M130.922 687.922 Q136.732 687.922 139.788 692.528 Q142.867 697.111 142.867 705.861 Q142.867 714.588 139.788 719.195 Q136.732 723.778 130.922 723.778 Q125.112 723.778 122.033 719.195 Q118.978 714.588 118.978 705.861 Q118.978 697.111 122.033 692.528 Q125.112 687.922 130.922 687.922 Z\" fill=\"#000000\" fill-rule=\"evenodd\" fill-opacity=\"1\" /><path clip-path=\"url(#clip570)\" d=\"M161.084 691.625 Q157.473 691.625 155.644 695.19 Q153.839 698.732 153.839 705.861 Q153.839 712.968 155.644 716.533 Q157.473 720.074 161.084 720.074 Q164.718 720.074 166.524 716.533 Q168.353 712.968 168.353 705.861 Q168.353 698.732 166.524 695.19 Q164.718 691.625 161.084 691.625 M161.084 687.922 Q166.894 687.922 169.95 692.528 Q173.029 697.111 173.029 705.861 Q173.029 714.588 169.95 719.195 Q166.894 723.778 161.084 723.778 Q155.274 723.778 152.195 719.195 Q149.14 714.588 149.14 705.861 Q149.14 697.111 152.195 692.528 Q155.274 687.922 161.084 687.922 Z\" fill=\"#000000\" fill-rule=\"evenodd\" fill-opacity=\"1\" /><path clip-path=\"url(#clip570)\" d=\"M161.084 420.638 Q157.473 420.638 155.644 424.203 Q153.839 427.745 153.839 434.874 Q153.839 441.981 155.644 445.546 Q157.473 449.087 161.084 449.087 Q164.718 449.087 166.524 445.546 Q168.353 441.981 168.353 434.874 Q168.353 427.745 166.524 424.203 Q164.718 420.638 161.084 420.638 M161.084 416.935 Q166.894 416.935 169.95 421.541 Q173.029 426.124 173.029 434.874 Q173.029 443.601 169.95 448.208 Q166.894 452.791 161.084 452.791 Q155.274 452.791 152.195 448.208 Q149.14 443.601 149.14 434.874 Q149.14 426.124 152.195 421.541 Q155.274 416.935 161.084 416.935 Z\" fill=\"#000000\" fill-rule=\"evenodd\" fill-opacity=\"1\" /><path clip-path=\"url(#clip570)\" d=\"M91.5706 177.197 L99.2095 177.197 L99.2095 150.832 L90.8993 152.499 L90.8993 148.239 L99.1632 146.573 L103.839 146.573 L103.839 177.197 L111.478 177.197 L111.478 181.133 L91.5706 181.133 L91.5706 177.197 Z\" fill=\"#000000\" fill-rule=\"evenodd\" fill-opacity=\"1\" /><path clip-path=\"url(#clip570)\" d=\"M130.922 149.651 Q127.311 149.651 125.482 153.216 Q123.677 156.758 123.677 163.887 Q123.677 170.994 125.482 174.559 Q127.311 178.1 130.922 178.1 Q134.556 178.1 136.362 174.559 Q138.191 170.994 138.191 163.887 Q138.191 156.758 136.362 153.216 Q134.556 149.651 130.922 149.651 M130.922 145.948 Q136.732 145.948 139.788 150.554 Q142.867 155.137 142.867 163.887 Q142.867 172.614 139.788 177.221 Q136.732 181.804 130.922 181.804 Q125.112 181.804 122.033 177.221 Q118.978 172.614 118.978 163.887 Q118.978 155.137 122.033 150.554 Q125.112 145.948 130.922 145.948 Z\" fill=\"#000000\" fill-rule=\"evenodd\" fill-opacity=\"1\" /><path clip-path=\"url(#clip570)\" d=\"M161.084 149.651 Q157.473 149.651 155.644 153.216 Q153.839 156.758 153.839 163.887 Q153.839 170.994 155.644 174.559 Q157.473 178.1 161.084 178.1 Q164.718 178.1 166.524 174.559 Q168.353 170.994 168.353 163.887 Q168.353 156.758 166.524 153.216 Q164.718 149.651 161.084 149.651 M161.084 145.948 Q166.894 145.948 169.95 150.554 Q173.029 155.137 173.029 163.887 Q173.029 172.614 169.95 177.221 Q166.894 181.804 161.084 181.804 Q155.274 181.804 152.195 177.221 Q149.14 172.614 149.14 163.887 Q149.14 155.137 152.195 150.554 Q155.274 145.948 161.084 145.948 Z\" fill=\"#000000\" fill-rule=\"evenodd\" fill-opacity=\"1\" /><circle clip-path=\"url(#clip572)\" cx=\"361.627\" cy=\"223.18\" r=\"14.4\" fill=\"#009af9\" fill-rule=\"evenodd\" fill-opacity=\"1\" stroke=\"#000000\" stroke-opacity=\"1\" stroke-width=\"3.2\"/>\n",
       "<circle clip-path=\"url(#clip572)\" cx=\"453.553\" cy=\"240.311\" r=\"14.4\" fill=\"#009af9\" fill-rule=\"evenodd\" fill-opacity=\"1\" stroke=\"#000000\" stroke-opacity=\"1\" stroke-width=\"3.2\"/>\n",
       "<circle clip-path=\"url(#clip572)\" cx=\"545.48\" cy=\"406.309\" r=\"14.4\" fill=\"#009af9\" fill-rule=\"evenodd\" fill-opacity=\"1\" stroke=\"#000000\" stroke-opacity=\"1\" stroke-width=\"3.2\"/>\n",
       "<circle clip-path=\"url(#clip572)\" cx=\"637.406\" cy=\"404.954\" r=\"14.4\" fill=\"#009af9\" fill-rule=\"evenodd\" fill-opacity=\"1\" stroke=\"#000000\" stroke-opacity=\"1\" stroke-width=\"3.2\"/>\n",
       "<circle clip-path=\"url(#clip572)\" cx=\"729.333\" cy=\"356.532\" r=\"14.4\" fill=\"#009af9\" fill-rule=\"evenodd\" fill-opacity=\"1\" stroke=\"#000000\" stroke-opacity=\"1\" stroke-width=\"3.2\"/>\n",
       "<circle clip-path=\"url(#clip572)\" cx=\"821.259\" cy=\"395.167\" r=\"14.4\" fill=\"#009af9\" fill-rule=\"evenodd\" fill-opacity=\"1\" stroke=\"#000000\" stroke-opacity=\"1\" stroke-width=\"3.2\"/>\n",
       "<circle clip-path=\"url(#clip572)\" cx=\"913.186\" cy=\"455.716\" r=\"14.4\" fill=\"#009af9\" fill-rule=\"evenodd\" fill-opacity=\"1\" stroke=\"#000000\" stroke-opacity=\"1\" stroke-width=\"3.2\"/>\n",
       "<circle clip-path=\"url(#clip572)\" cx=\"1005.11\" cy=\"482.577\" r=\"14.4\" fill=\"#009af9\" fill-rule=\"evenodd\" fill-opacity=\"1\" stroke=\"#000000\" stroke-opacity=\"1\" stroke-width=\"3.2\"/>\n",
       "<circle clip-path=\"url(#clip572)\" cx=\"1097.04\" cy=\"452.583\" r=\"14.4\" fill=\"#009af9\" fill-rule=\"evenodd\" fill-opacity=\"1\" stroke=\"#000000\" stroke-opacity=\"1\" stroke-width=\"3.2\"/>\n",
       "<circle clip-path=\"url(#clip572)\" cx=\"1188.97\" cy=\"462.197\" r=\"14.4\" fill=\"#009af9\" fill-rule=\"evenodd\" fill-opacity=\"1\" stroke=\"#000000\" stroke-opacity=\"1\" stroke-width=\"3.2\"/>\n",
       "<circle clip-path=\"url(#clip572)\" cx=\"1280.89\" cy=\"423.148\" r=\"14.4\" fill=\"#009af9\" fill-rule=\"evenodd\" fill-opacity=\"1\" stroke=\"#000000\" stroke-opacity=\"1\" stroke-width=\"3.2\"/>\n",
       "<circle clip-path=\"url(#clip572)\" cx=\"1372.82\" cy=\"426.95\" r=\"14.4\" fill=\"#009af9\" fill-rule=\"evenodd\" fill-opacity=\"1\" stroke=\"#000000\" stroke-opacity=\"1\" stroke-width=\"3.2\"/>\n",
       "<circle clip-path=\"url(#clip572)\" cx=\"1464.75\" cy=\"422.183\" r=\"14.4\" fill=\"#009af9\" fill-rule=\"evenodd\" fill-opacity=\"1\" stroke=\"#000000\" stroke-opacity=\"1\" stroke-width=\"3.2\"/>\n",
       "<circle clip-path=\"url(#clip572)\" cx=\"1556.67\" cy=\"363.949\" r=\"14.4\" fill=\"#009af9\" fill-rule=\"evenodd\" fill-opacity=\"1\" stroke=\"#000000\" stroke-opacity=\"1\" stroke-width=\"3.2\"/>\n",
       "<circle clip-path=\"url(#clip572)\" cx=\"1648.6\" cy=\"368.57\" r=\"14.4\" fill=\"#009af9\" fill-rule=\"evenodd\" fill-opacity=\"1\" stroke=\"#000000\" stroke-opacity=\"1\" stroke-width=\"3.2\"/>\n",
       "<circle clip-path=\"url(#clip572)\" cx=\"1740.53\" cy=\"334.176\" r=\"14.4\" fill=\"#009af9\" fill-rule=\"evenodd\" fill-opacity=\"1\" stroke=\"#000000\" stroke-opacity=\"1\" stroke-width=\"3.2\"/>\n",
       "<circle clip-path=\"url(#clip572)\" cx=\"1832.45\" cy=\"344.525\" r=\"14.4\" fill=\"#009af9\" fill-rule=\"evenodd\" fill-opacity=\"1\" stroke=\"#000000\" stroke-opacity=\"1\" stroke-width=\"3.2\"/>\n",
       "<circle clip-path=\"url(#clip572)\" cx=\"1924.38\" cy=\"270.103\" r=\"14.4\" fill=\"#009af9\" fill-rule=\"evenodd\" fill-opacity=\"1\" stroke=\"#000000\" stroke-opacity=\"1\" stroke-width=\"3.2\"/>\n",
       "<circle clip-path=\"url(#clip572)\" cx=\"2016.3\" cy=\"183.35\" r=\"14.4\" fill=\"#009af9\" fill-rule=\"evenodd\" fill-opacity=\"1\" stroke=\"#000000\" stroke-opacity=\"1\" stroke-width=\"3.2\"/>\n",
       "<circle clip-path=\"url(#clip572)\" cx=\"2108.23\" cy=\"164\" r=\"14.4\" fill=\"#009af9\" fill-rule=\"evenodd\" fill-opacity=\"1\" stroke=\"#000000\" stroke-opacity=\"1\" stroke-width=\"3.2\"/>\n",
       "<circle clip-path=\"url(#clip572)\" cx=\"2200.16\" cy=\"129.2\" r=\"14.4\" fill=\"#009af9\" fill-rule=\"evenodd\" fill-opacity=\"1\" stroke=\"#000000\" stroke-opacity=\"1\" stroke-width=\"3.2\"/>\n",
       "<polyline clip-path=\"url(#clip572)\" style=\"stroke:#e26f46; stroke-linecap:round; stroke-linejoin:round; stroke-width:4; stroke-opacity:1; fill:none\" points=\"361.627,250.568 453.553,293.926 545.48,331.865 637.406,364.383 729.333,391.482 821.259,413.161 913.186,429.42 1005.11,440.259 1097.04,445.679 1188.97,445.679 1280.89,440.259 1372.82,429.42 1464.75,413.161 1556.67,391.482 1648.6,364.383 1740.53,331.865 1832.45,293.926 1924.38,250.568 2016.3,201.791 2108.23,147.593 2200.16,87.9763 \"/>\n",
       "<polyline clip-path=\"url(#clip572)\" style=\"stroke:#3da44d; stroke-linecap:round; stroke-linejoin:round; stroke-width:4; stroke-opacity:1; fill:none\" points=\"269.7,1445.72 278.893,1193.19 288.085,979.994 297.278,801.548 306.471,653.687 315.663,532.627 324.856,434.942 334.049,357.538 343.241,297.624 352.434,252.695 361.627,220.505 370.819,199.051 380.012,186.55 389.205,181.422 398.397,182.274 407.59,187.884 416.783,197.183 425.975,209.247 435.168,223.277 444.361,238.592 453.553,254.615 462.746,270.865 471.938,286.942 481.131,302.526 490.324,317.359 499.516,331.247 508.709,344.045 517.902,355.654 527.094,366.014 536.287,375.101 545.48,382.918 554.672,389.492 563.865,394.871 573.058,399.118 582.25,402.311 591.443,404.536 600.636,405.887 609.828,406.462 619.021,406.362 628.214,405.689 637.406,404.543 646.599,403.023 655.792,401.224 664.984,399.236 674.177,397.143 683.37,395.026 692.562,392.957 701.755,391.001 710.948,389.217 720.14,387.658 729.333,386.366 738.525,385.379 747.718,384.727 756.911,384.433 766.103,384.513 775.296,384.977 784.489,385.828 793.681,387.066 802.874,388.684 812.067,390.668 821.259,393.003 830.452,395.67 839.645,398.643 848.837,401.897 858.03,405.403 867.223,409.128 876.415,413.04 885.608,417.105 894.801,421.287 903.993,425.55 913.186,429.86 922.379,434.181 931.571,438.477 940.764,442.716 949.957,446.863 959.149,450.889 968.342,454.764 977.535,458.46 986.727,461.951 995.92,465.215 1005.11,468.229 1014.31,470.976 1023.5,473.44 1032.69,475.608 1041.88,477.467 1051.08,479.011 1060.27,480.234 1069.46,481.132 1078.65,481.705 1087.85,481.956 1097.04,481.887 1106.23,481.506 1115.42,480.822 1124.62,479.845 1133.81,478.587 1143,477.062 1152.2,475.286 1161.39,473.277 1170.58,471.052 1179.77,468.63 1188.97,466.032 1198.16,463.277 1207.35,460.388 1216.54,457.386 1225.74,454.291 1234.93,451.126 1244.12,447.911 1253.31,444.667 1262.51,441.415 1271.7,438.174 1280.89,434.961 1290.08,431.796 1299.28,428.694 1308.47,425.67 1317.66,422.739 1326.86,419.913 1336.05,417.202 1345.24,414.617 1354.43,412.165 1363.63,409.852 1372.82,407.683 1382.01,405.661 1391.2,403.787 1400.4,402.061 1409.59,400.48 1418.78,399.041 1427.97,397.739 1437.17,396.568 1446.36,395.519 1455.55,394.583 1464.75,393.75 1473.94,393.008 1483.13,392.346 1492.32,391.75 1501.52,391.205 1510.71,390.697 1519.9,390.212 1529.09,389.734 1538.29,389.248 1547.48,388.737 1556.67,388.187 1565.86,387.583 1575.06,386.91 1584.25,386.153 1593.44,385.3 1602.64,384.337 1611.83,383.252 1621.02,382.036 1630.21,380.677 1639.41,379.168 1648.6,377.501 1657.79,375.67 1666.98,373.67 1676.18,371.499 1685.37,369.153 1694.56,366.634 1703.75,363.941 1712.95,361.077 1722.14,358.045 1731.33,354.851 1740.53,351.5 1749.72,347.998 1758.91,344.355 1768.1,340.578 1777.3,336.678 1786.49,332.663 1795.68,328.544 1804.87,324.331 1814.07,320.035 1823.26,315.664 1832.45,311.23 1841.64,306.74 1850.84,302.202 1860.03,297.623 1869.22,293.009 1878.41,288.364 1887.61,283.691 1896.8,278.99 1905.99,274.26 1915.19,269.498 1924.38,264.699 1933.57,259.857 1942.76,254.963 1951.96,250.006 1961.15,244.975 1970.34,239.856 1979.53,234.636 1988.73,229.3 1997.92,223.834 2007.11,218.225 2016.3,212.461 2025.5,206.533 2034.69,200.438 2043.88,194.175 2053.08,187.751 2062.27,181.183 2071.46,174.496 2080.65,167.729 2089.85,160.937 2099.04,154.19 2108.23,147.581 2117.42,141.228 2126.62,135.274 2135.81,129.896 2145,125.307 2154.19,121.761 2163.39,119.56 2172.58,119.055 2181.77,120.658 2190.97,124.847 2200.16,132.17 2209.35,143.259 2218.54,158.832 2227.74,179.708 2236.93,206.813 2246.12,241.191 2255.31,284.017 2264.51,336.611 2273.7,400.446 2282.89,477.163 2292.08,568.592 \"/>\n",
       "<path clip-path=\"url(#clip570)\" d=\"M1723.96 1438.47 L2281.3 1438.47 L2281.3 1231.11 L1723.96 1231.11  Z\" fill=\"#ffffff\" fill-rule=\"evenodd\" fill-opacity=\"1\"/>\n",
       "<polyline clip-path=\"url(#clip570)\" style=\"stroke:#000000; stroke-linecap:round; stroke-linejoin:round; stroke-width:4; stroke-opacity:1; fill:none\" points=\"1723.96,1438.47 2281.3,1438.47 2281.3,1231.11 1723.96,1231.11 1723.96,1438.47 \"/>\n",
       "<circle clip-path=\"url(#clip570)\" cx=\"1819.24\" cy=\"1282.95\" r=\"23.04\" fill=\"#009af9\" fill-rule=\"evenodd\" fill-opacity=\"1\" stroke=\"#000000\" stroke-opacity=\"1\" stroke-width=\"5.12\"/>\n",
       "<path clip-path=\"url(#clip570)\" d=\"M1930.54 1268.85 Q1925.44 1268.85 1922.43 1272.64 Q1919.45 1276.44 1919.45 1282.99 Q1919.45 1289.52 1922.43 1293.31 Q1925.44 1297.11 1930.54 1297.11 Q1935.63 1297.11 1938.59 1293.31 Q1941.58 1289.52 1941.58 1282.99 Q1941.58 1276.44 1938.59 1272.64 Q1935.63 1268.85 1930.54 1268.85 M1930.54 1265.05 Q1937.8 1265.05 1942.16 1269.93 Q1946.51 1274.79 1946.51 1282.99 Q1946.51 1291.16 1942.16 1296.04 Q1937.8 1300.91 1930.54 1300.91 Q1923.24 1300.91 1918.87 1296.04 Q1914.52 1291.18 1914.52 1282.99 Q1914.52 1274.79 1918.87 1269.93 Q1923.24 1265.05 1930.54 1265.05 Z\" fill=\"#000000\" fill-rule=\"evenodd\" fill-opacity=\"1\" /><path clip-path=\"url(#clip570)\" d=\"M1972.25 1287.29 Q1972.25 1282.6 1970.3 1279.93 Q1968.38 1277.25 1965 1277.25 Q1961.62 1277.25 1959.68 1279.93 Q1957.76 1282.6 1957.76 1287.29 Q1957.76 1291.99 1959.68 1294.68 Q1961.62 1297.34 1965 1297.34 Q1968.38 1297.34 1970.3 1294.68 Q1972.25 1291.99 1972.25 1287.29 M1957.76 1278.24 Q1959.1 1275.93 1961.14 1274.82 Q1963.2 1273.68 1966.05 1273.68 Q1970.77 1273.68 1973.71 1277.43 Q1976.67 1281.18 1976.67 1287.29 Q1976.67 1293.41 1973.71 1297.16 Q1970.77 1300.91 1966.05 1300.91 Q1963.2 1300.91 1961.14 1299.79 Q1959.1 1298.66 1957.76 1296.35 L1957.76 1300.23 L1953.48 1300.23 L1953.48 1264.22 L1957.76 1264.22 L1957.76 1278.24 Z\" fill=\"#000000\" fill-rule=\"evenodd\" fill-opacity=\"1\" /><path clip-path=\"url(#clip570)\" d=\"M2000.26 1275.07 L2000.26 1279.1 Q1998.45 1278.17 1996.51 1277.71 Q1994.56 1277.25 1992.48 1277.25 Q1989.31 1277.25 1987.71 1278.22 Q1986.14 1279.19 1986.14 1281.14 Q1986.14 1282.62 1987.27 1283.48 Q1988.41 1284.31 1991.83 1285.07 L1993.29 1285.4 Q1997.83 1286.37 1999.73 1288.15 Q2001.65 1289.91 2001.65 1293.08 Q2001.65 1296.69 1998.78 1298.8 Q1995.93 1300.91 1990.93 1300.91 Q1988.85 1300.91 1986.58 1300.49 Q1984.33 1300.1 1981.83 1299.29 L1981.83 1294.89 Q1984.19 1296.11 1986.49 1296.74 Q1988.78 1297.34 1991.02 1297.34 Q1994.03 1297.34 1995.65 1296.32 Q1997.27 1295.28 1997.27 1293.41 Q1997.27 1291.67 1996.09 1290.74 Q1994.93 1289.82 1990.98 1288.96 L1989.49 1288.61 Q1985.54 1287.78 1983.78 1286.07 Q1982.02 1284.33 1982.02 1281.32 Q1982.02 1277.67 1984.61 1275.67 Q1987.2 1273.68 1991.97 1273.68 Q1994.33 1273.68 1996.42 1274.03 Q1998.5 1274.38 2000.26 1275.07 Z\" fill=\"#000000\" fill-rule=\"evenodd\" fill-opacity=\"1\" /><path clip-path=\"url(#clip570)\" d=\"M2030.61 1286.21 L2030.61 1288.29 L2011.02 1288.29 Q2011.3 1292.69 2013.66 1295 Q2016.05 1297.29 2020.28 1297.29 Q2022.74 1297.29 2025.03 1296.69 Q2027.34 1296.09 2029.61 1294.89 L2029.61 1298.91 Q2027.32 1299.89 2024.91 1300.4 Q2022.5 1300.91 2020.03 1300.91 Q2013.82 1300.91 2010.19 1297.29 Q2006.58 1293.68 2006.58 1287.53 Q2006.58 1281.16 2010 1277.43 Q2013.45 1273.68 2019.29 1273.68 Q2024.52 1273.68 2027.55 1277.06 Q2030.61 1280.42 2030.61 1286.21 M2026.35 1284.96 Q2026.3 1281.46 2024.38 1279.38 Q2022.48 1277.29 2019.33 1277.29 Q2015.77 1277.29 2013.61 1279.31 Q2011.49 1281.32 2011.16 1284.98 L2026.35 1284.96 Z\" fill=\"#000000\" fill-rule=\"evenodd\" fill-opacity=\"1\" /><path clip-path=\"url(#clip570)\" d=\"M2052.62 1278.29 Q2051.9 1277.87 2051.05 1277.69 Q2050.21 1277.48 2049.19 1277.48 Q2045.58 1277.48 2043.64 1279.84 Q2041.72 1282.18 2041.72 1286.58 L2041.72 1300.23 L2037.43 1300.23 L2037.43 1274.31 L2041.72 1274.31 L2041.72 1278.34 Q2043.06 1275.98 2045.21 1274.84 Q2047.36 1273.68 2050.44 1273.68 Q2050.88 1273.68 2051.42 1273.75 Q2051.95 1273.8 2052.6 1273.92 L2052.62 1278.29 Z\" fill=\"#000000\" fill-rule=\"evenodd\" fill-opacity=\"1\" /><path clip-path=\"url(#clip570)\" d=\"M2054.03 1274.31 L2058.55 1274.31 L2066.65 1296.07 L2074.75 1274.31 L2079.26 1274.31 L2069.54 1300.23 L2063.75 1300.23 L2054.03 1274.31 Z\" fill=\"#000000\" fill-rule=\"evenodd\" fill-opacity=\"1\" /><path clip-path=\"url(#clip570)\" d=\"M2107.32 1286.21 L2107.32 1288.29 L2087.73 1288.29 Q2088.01 1292.69 2090.37 1295 Q2092.76 1297.29 2096.99 1297.29 Q2099.45 1297.29 2101.74 1296.69 Q2104.05 1296.09 2106.32 1294.89 L2106.32 1298.91 Q2104.03 1299.89 2101.62 1300.4 Q2099.22 1300.91 2096.74 1300.91 Q2090.54 1300.91 2086.9 1297.29 Q2083.29 1293.68 2083.29 1287.53 Q2083.29 1281.16 2086.72 1277.43 Q2090.17 1273.68 2096 1273.68 Q2101.23 1273.68 2104.26 1277.06 Q2107.32 1280.42 2107.32 1286.21 M2103.06 1284.96 Q2103.01 1281.46 2101.09 1279.38 Q2099.19 1277.29 2096.04 1277.29 Q2092.48 1277.29 2090.33 1279.31 Q2088.2 1281.32 2087.87 1284.98 L2103.06 1284.96 Z\" fill=\"#000000\" fill-rule=\"evenodd\" fill-opacity=\"1\" /><path clip-path=\"url(#clip570)\" d=\"M2131.37 1278.24 L2131.37 1264.22 L2135.63 1264.22 L2135.63 1300.23 L2131.37 1300.23 L2131.37 1296.35 Q2130.03 1298.66 2127.97 1299.79 Q2125.93 1300.91 2123.06 1300.91 Q2118.36 1300.91 2115.4 1297.16 Q2112.46 1293.41 2112.46 1287.29 Q2112.46 1281.18 2115.4 1277.43 Q2118.36 1273.68 2123.06 1273.68 Q2125.93 1273.68 2127.97 1274.82 Q2130.03 1275.93 2131.37 1278.24 M2116.85 1287.29 Q2116.85 1291.99 2118.78 1294.68 Q2120.72 1297.34 2124.1 1297.34 Q2127.48 1297.34 2129.42 1294.68 Q2131.37 1291.99 2131.37 1287.29 Q2131.37 1282.6 2129.42 1279.93 Q2127.48 1277.25 2124.1 1277.25 Q2120.72 1277.25 2118.78 1279.93 Q2116.85 1282.6 2116.85 1287.29 Z\" fill=\"#000000\" fill-rule=\"evenodd\" fill-opacity=\"1\" /><path clip-path=\"url(#clip570)\" d=\"M2176.53 1278.24 L2176.53 1264.22 L2180.79 1264.22 L2180.79 1300.23 L2176.53 1300.23 L2176.53 1296.35 Q2175.19 1298.66 2173.13 1299.79 Q2171.09 1300.91 2168.22 1300.91 Q2163.52 1300.91 2160.56 1297.16 Q2157.62 1293.41 2157.62 1287.29 Q2157.62 1281.18 2160.56 1277.43 Q2163.52 1273.68 2168.22 1273.68 Q2171.09 1273.68 2173.13 1274.82 Q2175.19 1275.93 2176.53 1278.24 M2162.02 1287.29 Q2162.02 1291.99 2163.94 1294.68 Q2165.88 1297.34 2169.26 1297.34 Q2172.64 1297.34 2174.59 1294.68 Q2176.53 1291.99 2176.53 1287.29 Q2176.53 1282.6 2174.59 1279.93 Q2172.64 1277.25 2169.26 1277.25 Q2165.88 1277.25 2163.94 1279.93 Q2162.02 1282.6 2162.02 1287.29 Z\" fill=\"#000000\" fill-rule=\"evenodd\" fill-opacity=\"1\" /><path clip-path=\"url(#clip570)\" d=\"M2201.35 1287.2 Q2196.18 1287.2 2194.19 1288.38 Q2192.2 1289.56 2192.2 1292.41 Q2192.2 1294.68 2193.68 1296.02 Q2195.19 1297.34 2197.76 1297.34 Q2201.3 1297.34 2203.43 1294.84 Q2205.58 1292.32 2205.58 1288.15 L2205.58 1287.2 L2201.35 1287.2 M2209.84 1285.44 L2209.84 1300.23 L2205.58 1300.23 L2205.58 1296.3 Q2204.12 1298.66 2201.95 1299.79 Q2199.77 1300.91 2196.62 1300.91 Q2192.64 1300.91 2190.28 1298.68 Q2187.94 1296.44 2187.94 1292.69 Q2187.94 1288.31 2190.86 1286.09 Q2193.8 1283.87 2199.61 1283.87 L2205.58 1283.87 L2205.58 1283.45 Q2205.58 1280.51 2203.64 1278.92 Q2201.72 1277.29 2198.22 1277.29 Q2196 1277.29 2193.89 1277.83 Q2191.79 1278.36 2189.84 1279.42 L2189.84 1275.49 Q2192.18 1274.59 2194.38 1274.15 Q2196.58 1273.68 2198.66 1273.68 Q2204.28 1273.68 2207.06 1276.6 Q2209.84 1279.52 2209.84 1285.44 Z\" fill=\"#000000\" fill-rule=\"evenodd\" fill-opacity=\"1\" /><path clip-path=\"url(#clip570)\" d=\"M2222.83 1266.95 L2222.83 1274.31 L2231.6 1274.31 L2231.6 1277.62 L2222.83 1277.62 L2222.83 1291.69 Q2222.83 1294.86 2223.68 1295.77 Q2224.56 1296.67 2227.22 1296.67 L2231.6 1296.67 L2231.6 1300.23 L2227.22 1300.23 Q2222.29 1300.23 2220.42 1298.41 Q2218.54 1296.55 2218.54 1291.69 L2218.54 1277.62 L2215.42 1277.62 L2215.42 1274.31 L2218.54 1274.31 L2218.54 1266.95 L2222.83 1266.95 Z\" fill=\"#000000\" fill-rule=\"evenodd\" fill-opacity=\"1\" /><path clip-path=\"url(#clip570)\" d=\"M2248.98 1287.2 Q2243.82 1287.2 2241.83 1288.38 Q2239.84 1289.56 2239.84 1292.41 Q2239.84 1294.68 2241.32 1296.02 Q2242.83 1297.34 2245.4 1297.34 Q2248.94 1297.34 2251.07 1294.84 Q2253.22 1292.32 2253.22 1288.15 L2253.22 1287.2 L2248.98 1287.2 M2257.48 1285.44 L2257.48 1300.23 L2253.22 1300.23 L2253.22 1296.3 Q2251.76 1298.66 2249.59 1299.79 Q2247.41 1300.91 2244.26 1300.91 Q2240.28 1300.91 2237.92 1298.68 Q2235.58 1296.44 2235.58 1292.69 Q2235.58 1288.31 2238.5 1286.09 Q2241.44 1283.87 2247.25 1283.87 L2253.22 1283.87 L2253.22 1283.45 Q2253.22 1280.51 2251.28 1278.92 Q2249.35 1277.29 2245.86 1277.29 Q2243.64 1277.29 2241.53 1277.83 Q2239.42 1278.36 2237.48 1279.42 L2237.48 1275.49 Q2239.82 1274.59 2242.02 1274.15 Q2244.22 1273.68 2246.3 1273.68 Q2251.92 1273.68 2254.7 1276.6 Q2257.48 1279.52 2257.48 1285.44 Z\" fill=\"#000000\" fill-rule=\"evenodd\" fill-opacity=\"1\" /><polyline clip-path=\"url(#clip570)\" style=\"stroke:#e26f46; stroke-linecap:round; stroke-linejoin:round; stroke-width:4; stroke-opacity:1; fill:none\" points=\"1747.78,1334.79 1890.7,1334.79 \"/>\n",
       "<path clip-path=\"url(#clip570)\" d=\"M1914.52 1317.51 L1943.75 1317.51 L1943.75 1321.45 L1931.49 1321.45 L1931.49 1352.07 L1926.79 1352.07 L1926.79 1321.45 L1914.52 1321.45 L1914.52 1317.51 Z\" fill=\"#000000\" fill-rule=\"evenodd\" fill-opacity=\"1\" /><path clip-path=\"url(#clip570)\" d=\"M1956.14 1330.13 Q1955.42 1329.71 1954.56 1329.53 Q1953.73 1329.32 1952.71 1329.32 Q1949.1 1329.32 1947.16 1331.68 Q1945.24 1334.02 1945.24 1338.42 L1945.24 1352.07 L1940.95 1352.07 L1940.95 1326.15 L1945.24 1326.15 L1945.24 1330.18 Q1946.58 1327.82 1948.73 1326.68 Q1950.88 1325.52 1953.96 1325.52 Q1954.4 1325.52 1954.93 1325.59 Q1955.47 1325.64 1956.12 1325.76 L1956.14 1330.13 Z\" fill=\"#000000\" fill-rule=\"evenodd\" fill-opacity=\"1\" /><path clip-path=\"url(#clip570)\" d=\"M1960.17 1341.84 L1960.17 1326.15 L1964.43 1326.15 L1964.43 1341.68 Q1964.43 1345.36 1965.86 1347.21 Q1967.3 1349.04 1970.17 1349.04 Q1973.61 1349.04 1975.61 1346.84 Q1977.62 1344.64 1977.62 1340.85 L1977.62 1326.15 L1981.88 1326.15 L1981.88 1352.07 L1977.62 1352.07 L1977.62 1348.09 Q1976.07 1350.45 1974.01 1351.61 Q1971.97 1352.75 1969.26 1352.75 Q1964.8 1352.75 1962.48 1349.97 Q1960.17 1347.19 1960.17 1341.84 M1970.88 1325.52 L1970.88 1325.52 Z\" fill=\"#000000\" fill-rule=\"evenodd\" fill-opacity=\"1\" /><path clip-path=\"url(#clip570)\" d=\"M2012.83 1338.05 L2012.83 1340.13 L1993.24 1340.13 Q1993.52 1344.53 1995.88 1346.84 Q1998.27 1349.13 2002.5 1349.13 Q2004.96 1349.13 2007.25 1348.53 Q2009.56 1347.93 2011.83 1346.73 L2011.83 1350.75 Q2009.54 1351.73 2007.13 1352.24 Q2004.73 1352.75 2002.25 1352.75 Q1996.05 1352.75 1992.41 1349.13 Q1988.8 1345.52 1988.8 1339.37 Q1988.8 1333 1992.23 1329.27 Q1995.67 1325.52 2001.51 1325.52 Q2006.74 1325.52 2009.77 1328.9 Q2012.83 1332.26 2012.83 1338.05 M2008.57 1336.8 Q2008.52 1333.3 2006.6 1331.22 Q2004.7 1329.13 2001.55 1329.13 Q1997.99 1329.13 1995.84 1331.15 Q1993.71 1333.16 1993.38 1336.82 L2008.57 1336.8 Z\" fill=\"#000000\" fill-rule=\"evenodd\" fill-opacity=\"1\" /><path clip-path=\"url(#clip570)\" d=\"M2034.89 1316.06 L2039.15 1316.06 L2039.15 1352.07 L2034.89 1352.07 L2034.89 1316.06 Z\" fill=\"#000000\" fill-rule=\"evenodd\" fill-opacity=\"1\" /><path clip-path=\"url(#clip570)\" d=\"M2048.06 1326.15 L2052.32 1326.15 L2052.32 1352.07 L2048.06 1352.07 L2048.06 1326.15 M2048.06 1316.06 L2052.32 1316.06 L2052.32 1321.45 L2048.06 1321.45 L2048.06 1316.06 Z\" fill=\"#000000\" fill-rule=\"evenodd\" fill-opacity=\"1\" /><path clip-path=\"url(#clip570)\" d=\"M2082.78 1336.43 L2082.78 1352.07 L2078.52 1352.07 L2078.52 1336.57 Q2078.52 1332.88 2077.09 1331.06 Q2075.65 1329.23 2072.78 1329.23 Q2069.33 1329.23 2067.34 1331.43 Q2065.35 1333.63 2065.35 1337.42 L2065.35 1352.07 L2061.07 1352.07 L2061.07 1326.15 L2065.35 1326.15 L2065.35 1330.18 Q2066.88 1327.84 2068.94 1326.68 Q2071.02 1325.52 2073.73 1325.52 Q2078.2 1325.52 2080.49 1328.3 Q2082.78 1331.06 2082.78 1336.43 Z\" fill=\"#000000\" fill-rule=\"evenodd\" fill-opacity=\"1\" /><path clip-path=\"url(#clip570)\" d=\"M2113.45 1338.05 L2113.45 1340.13 L2093.87 1340.13 Q2094.15 1344.53 2096.51 1346.84 Q2098.89 1349.13 2103.13 1349.13 Q2105.58 1349.13 2107.87 1348.53 Q2110.19 1347.93 2112.46 1346.73 L2112.46 1350.75 Q2110.17 1351.73 2107.76 1352.24 Q2105.35 1352.75 2102.87 1352.75 Q2096.67 1352.75 2093.04 1349.13 Q2089.42 1345.52 2089.42 1339.37 Q2089.42 1333 2092.85 1329.27 Q2096.3 1325.52 2102.13 1325.52 Q2107.36 1325.52 2110.4 1328.9 Q2113.45 1332.26 2113.45 1338.05 M2109.19 1336.8 Q2109.15 1333.3 2107.23 1331.22 Q2105.33 1329.13 2102.18 1329.13 Q2098.61 1329.13 2096.46 1331.15 Q2094.33 1333.16 2094.01 1336.82 L2109.19 1336.8 Z\" fill=\"#000000\" fill-rule=\"evenodd\" fill-opacity=\"1\" /><polyline clip-path=\"url(#clip570)\" style=\"stroke:#3da44d; stroke-linecap:round; stroke-linejoin:round; stroke-width:4; stroke-opacity:1; fill:none\" points=\"1747.78,1386.63 1890.7,1386.63 \"/>\n",
       "<path clip-path=\"url(#clip570)\" d=\"M1914.52 1369.35 L1934.38 1369.35 L1934.38 1373.29 L1919.19 1373.29 L1919.19 1383.47 L1932.9 1383.47 L1932.9 1387.41 L1919.19 1387.41 L1919.19 1403.91 L1914.52 1403.91 L1914.52 1369.35 Z\" fill=\"#000000\" fill-rule=\"evenodd\" fill-opacity=\"1\" /><path clip-path=\"url(#clip570)\" d=\"M1938.15 1377.99 L1942.41 1377.99 L1942.41 1403.91 L1938.15 1403.91 L1938.15 1377.99 M1938.15 1367.9 L1942.41 1367.9 L1942.41 1373.29 L1938.15 1373.29 L1938.15 1367.9 Z\" fill=\"#000000\" fill-rule=\"evenodd\" fill-opacity=\"1\" /><path clip-path=\"url(#clip570)\" d=\"M1955.54 1370.63 L1955.54 1377.99 L1964.31 1377.99 L1964.31 1381.3 L1955.54 1381.3 L1955.54 1395.37 Q1955.54 1398.54 1956.39 1399.45 Q1957.27 1400.35 1959.93 1400.35 L1964.31 1400.35 L1964.31 1403.91 L1959.93 1403.91 Q1955 1403.91 1953.13 1402.09 Q1951.25 1400.23 1951.25 1395.37 L1951.25 1381.3 L1948.13 1381.3 L1948.13 1377.99 L1951.25 1377.99 L1951.25 1370.63 L1955.54 1370.63 Z\" fill=\"#000000\" fill-rule=\"evenodd\" fill-opacity=\"1\" /><path clip-path=\"url(#clip570)\" d=\"M1974.12 1370.63 L1974.12 1377.99 L1982.9 1377.99 L1982.9 1381.3 L1974.12 1381.3 L1974.12 1395.37 Q1974.12 1398.54 1974.98 1399.45 Q1975.86 1400.35 1978.52 1400.35 L1982.9 1400.35 L1982.9 1403.91 L1978.52 1403.91 Q1973.59 1403.91 1971.72 1402.09 Q1969.84 1400.23 1969.84 1395.37 L1969.84 1381.3 L1966.72 1381.3 L1966.72 1377.99 L1969.84 1377.99 L1969.84 1370.63 L1974.12 1370.63 Z\" fill=\"#000000\" fill-rule=\"evenodd\" fill-opacity=\"1\" /><path clip-path=\"url(#clip570)\" d=\"M2010.67 1389.89 L2010.67 1391.97 L1991.09 1391.97 Q1991.37 1396.37 1993.73 1398.68 Q1996.11 1400.97 2000.35 1400.97 Q2002.8 1400.97 2005.1 1400.37 Q2007.41 1399.77 2009.68 1398.57 L2009.68 1402.59 Q2007.39 1403.57 2004.98 1404.08 Q2002.57 1404.59 2000.1 1404.59 Q1993.89 1404.59 1990.26 1400.97 Q1986.65 1397.36 1986.65 1391.21 Q1986.65 1384.84 1990.07 1381.11 Q1993.52 1377.36 1999.36 1377.36 Q2004.59 1377.36 2007.62 1380.74 Q2010.67 1384.1 2010.67 1389.89 M2006.42 1388.64 Q2006.37 1385.14 2004.45 1383.06 Q2002.55 1380.97 1999.4 1380.97 Q1995.84 1380.97 1993.68 1382.99 Q1991.55 1385 1991.23 1388.66 L2006.42 1388.64 Z\" fill=\"#000000\" fill-rule=\"evenodd\" fill-opacity=\"1\" /><path clip-path=\"url(#clip570)\" d=\"M2034.73 1381.92 L2034.73 1367.9 L2038.98 1367.9 L2038.98 1403.91 L2034.73 1403.91 L2034.73 1400.03 Q2033.38 1402.34 2031.32 1403.47 Q2029.29 1404.59 2026.42 1404.59 Q2021.72 1404.59 2018.75 1400.84 Q2015.81 1397.09 2015.81 1390.97 Q2015.81 1384.86 2018.75 1381.11 Q2021.72 1377.36 2026.42 1377.36 Q2029.29 1377.36 2031.32 1378.5 Q2033.38 1379.61 2034.73 1381.92 M2020.21 1390.97 Q2020.21 1395.67 2022.13 1398.36 Q2024.08 1401.02 2027.46 1401.02 Q2030.84 1401.02 2032.78 1398.36 Q2034.73 1395.67 2034.73 1390.97 Q2034.73 1386.28 2032.78 1383.61 Q2030.84 1380.93 2027.46 1380.93 Q2024.08 1380.93 2022.13 1383.61 Q2020.21 1386.28 2020.21 1390.97 Z\" fill=\"#000000\" fill-rule=\"evenodd\" fill-opacity=\"1\" /><path clip-path=\"url(#clip570)\" d=\"M2062.83 1367.9 L2067.09 1367.9 L2067.09 1403.91 L2062.83 1403.91 L2062.83 1367.9 Z\" fill=\"#000000\" fill-rule=\"evenodd\" fill-opacity=\"1\" /><path clip-path=\"url(#clip570)\" d=\"M2076 1377.99 L2080.26 1377.99 L2080.26 1403.91 L2076 1403.91 L2076 1377.99 M2076 1367.9 L2080.26 1367.9 L2080.26 1373.29 L2076 1373.29 L2076 1367.9 Z\" fill=\"#000000\" fill-rule=\"evenodd\" fill-opacity=\"1\" /><path clip-path=\"url(#clip570)\" d=\"M2110.72 1388.27 L2110.72 1403.91 L2106.46 1403.91 L2106.46 1388.41 Q2106.46 1384.72 2105.03 1382.9 Q2103.59 1381.07 2100.72 1381.07 Q2097.27 1381.07 2095.28 1383.27 Q2093.29 1385.47 2093.29 1389.26 L2093.29 1403.91 L2089.01 1403.91 L2089.01 1377.99 L2093.29 1377.99 L2093.29 1382.02 Q2094.82 1379.68 2096.88 1378.52 Q2098.96 1377.36 2101.67 1377.36 Q2106.14 1377.36 2108.43 1380.14 Q2110.72 1382.9 2110.72 1388.27 Z\" fill=\"#000000\" fill-rule=\"evenodd\" fill-opacity=\"1\" /><path clip-path=\"url(#clip570)\" d=\"M2141.39 1389.89 L2141.39 1391.97 L2121.81 1391.97 Q2122.09 1396.37 2124.45 1398.68 Q2126.83 1400.97 2131.07 1400.97 Q2133.52 1400.97 2135.81 1400.37 Q2138.13 1399.77 2140.4 1398.57 L2140.4 1402.59 Q2138.1 1403.57 2135.7 1404.08 Q2133.29 1404.59 2130.81 1404.59 Q2124.61 1404.59 2120.98 1400.97 Q2117.36 1397.36 2117.36 1391.21 Q2117.36 1384.84 2120.79 1381.11 Q2124.24 1377.36 2130.07 1377.36 Q2135.3 1377.36 2138.34 1380.74 Q2141.39 1384.1 2141.39 1389.89 M2137.13 1388.64 Q2137.09 1385.14 2135.16 1383.06 Q2133.27 1380.97 2130.12 1380.97 Q2126.55 1380.97 2124.4 1382.99 Q2122.27 1385 2121.95 1388.66 L2137.13 1388.64 Z\" fill=\"#000000\" fill-rule=\"evenodd\" fill-opacity=\"1\" /></svg>\n"
      ]
     },
     "execution_count": 49,
     "metadata": {},
     "output_type": "execute_result"
    }
   ],
   "source": [
    "scatter(x,y_observed4, label = \"Observed data\")\n",
    "plot!(x,y_true, label = \"True line\")\n",
    "\n",
    "using Polynomials\n",
    "line_fit4 = Polynomials.fit(x,y_observed4,10)\n",
    "fit_coeff = coeffs(line_fit4)\n",
    "y_fitted4 = line_fit4.(x_fit)\n",
    "plot!(x_fit,y_fitted4,label=\"Fitted line\")"
   ]
  },
  {
   "cell_type": "markdown",
   "id": "bbcb4ef4",
   "metadata": {},
   "source": [
    "3. What do you observe in the plot? What is this phenomenon called?"
   ]
  },
  {
   "cell_type": "markdown",
   "id": "49a085b1",
   "metadata": {},
   "source": [
    "I can observe in the plot that the fitted line fits almost perfectly with the data points. This phenomenon is called \"overfitting.\""
   ]
  }
 ],
 "metadata": {
  "kernelspec": {
   "display_name": "Julia 1.8.5",
   "language": "julia",
   "name": "julia-1.8"
  },
  "language_info": {
   "file_extension": ".jl",
   "mimetype": "application/julia",
   "name": "julia",
   "version": "1.8.5"
  }
 },
 "nbformat": 4,
 "nbformat_minor": 5
}
