{
 "cells": [
  {
   "cell_type": "markdown",
   "id": "1fbe377b",
   "metadata": {},
   "source": [
    "<h1>HW3</h1>"
   ]
  },
  {
   "cell_type": "markdown",
   "id": "79813e24",
   "metadata": {},
   "source": [
    "# Question 1\n",
    "### (Bayes Theorem) Read the following example and complete the exercises \n",
    "\n",
    "Trolls Under the Bridge\n",
    "1. Trolls(T) are bad\n",
    "2. Gnomes(G) are benign\n",
    "3. Every bridge has 5 creatures under it\n",
    "\n",
    "Below are the probabilities of what creatures live under a bridge:\n",
    "1. TTGGG: 20% (E1)\n",
    "2. TGGGG: 20% (E2)\n",
    "3. GGGGG: 60% (E3)\n",
    "\n",
    "A knight is approaching a bridge and he wants to know his chance of crossing the bridge safely."
   ]
  },
  {
   "cell_type": "markdown",
   "id": "425f8583",
   "metadata": {},
   "source": [
    "### 1.1 \n",
    "\n",
    "#### What is the chance of the knight crossing the bridge safely?\n"
   ]
  },
  {
   "cell_type": "markdown",
   "id": "a8b9a607",
   "metadata": {},
   "source": [
    "The chance of the knight crossing the bridge safely is when he does not encounter a troll. In the event that he does not encounter a troll, he has a 60% chance of crossing the bridge safely."
   ]
  },
  {
   "cell_type": "markdown",
   "id": "61f687e4",
   "metadata": {},
   "source": [
    "### 1.2\n",
    "\n",
    "#### Before crossing a bridge, a knight captures a troll. “I now have an 80% chance of crossing safely,” he reasons, “since only the case 20% had TTGGG (E1) now have TGGG is still a threat.”\n",
    "\n",
    "#### Do you agree with him? Why?"
   ]
  },
  {
   "cell_type": "markdown",
   "id": "09025213",
   "metadata": {},
   "source": [
    "I do not agree with the knight's thinking. Knowing that the knight captured a troll, this means that he is either at E1 or E2. This disregards E3 in the probability of him being safe. Now his chances of being safe will decrease to 1/3. This is because if he has captured a troll in E1, there is still another troll waiting to hit him. However, if he has captured a troll in E2, he will be safe since there is only one troll in E2. "
   ]
  },
  {
   "cell_type": "markdown",
   "id": "c1533b67",
   "metadata": {},
   "source": [
    "### 1.3\n",
    "\n",
    "#### Now he wants to use Bayes' theorem to calculate his chance of crossing safely given a troll captured \n",
    "\n",
    "\\begin{equation*}\n",
    "P(A|B) = \\frac{P(B|A)P(A)}{P(B)} \\\\\n",
    "P(A|B): Posteior \\\\\n",
    "P(B|A): Likelihood \\\\\n",
    "P(A): Prior \\\\\n",
    "P(B): Marginal Probability \\\\\n",
    "\\end{equation*}\n",
    "\n",
    "#### Given the three events, E1, E2, and E3, under which two events the knight cannot cross safely after a troll was captured?"
   ]
  },
  {
   "cell_type": "markdown",
   "id": "0adb7f0a",
   "metadata": {},
   "source": [
    "Even if the knight has captured a troll, he cannot cross the bridge safely under events E1 and E2 since there is still a troll in those events. "
   ]
  },
  {
   "cell_type": "markdown",
   "id": "e45e8fa6",
   "metadata": {},
   "source": [
    "### 1.4\n",
    "\n",
    "#### Use Bayes' theorem to calculate the probability of the two events in 1.3 (separately) given the troll was captured. "
   ]
  },
  {
   "cell_type": "markdown",
   "id": "5d9c3c0b",
   "metadata": {},
   "source": [
    "Probability of one event given a troll captured: "
   ]
  },
  {
   "cell_type": "markdown",
   "id": "44ffb434",
   "metadata": {},
   "source": [
    "\\begin{equation*}\n",
    "P(A|B): E1  Given  Troll  Captured \\\\\n",
    "P(B|A): Troll  Captured  Given  E1 \\\\\n",
    "P(A): Under  Event  E1 \\\\\n",
    "P(B): Captured  Troll \\\\\n",
    "\\end{equation*}"
   ]
  },
  {
   "cell_type": "code",
   "execution_count": 12,
   "id": "f2f0e7c8",
   "metadata": {},
   "outputs": [
    {
     "data": {
      "text/plain": [
       "0.6666666666666666"
      ]
     },
     "execution_count": 12,
     "metadata": {},
     "output_type": "execute_result"
    }
   ],
   "source": [
    "prior = 1/5\n",
    "like = 2/5\n",
    "marg = ((2/5)*(1/5))+((1/5)*(1/5))+((0/5)*(3/5))\n",
    "post = like*prior/marg"
   ]
  },
  {
   "cell_type": "markdown",
   "id": "37843aee",
   "metadata": {},
   "source": [
    "Probability of the other event given a troll captured: "
   ]
  },
  {
   "cell_type": "markdown",
   "id": "c89237f9",
   "metadata": {},
   "source": [
    "\\begin{equation*}\n",
    "P(A|B): E2  Given  Troll  Captured \\\\\n",
    "P(B|A): Troll  Captured  Given  E2 \\\\\n",
    "P(A): Under  Event  E2\\\\\n",
    "P(B): Captured  Troll \\\\\n",
    "\\end{equation*}"
   ]
  },
  {
   "cell_type": "code",
   "execution_count": 13,
   "id": "5db10bc7",
   "metadata": {},
   "outputs": [
    {
     "data": {
      "text/plain": [
       "0.3333333333333333"
      ]
     },
     "execution_count": 13,
     "metadata": {},
     "output_type": "execute_result"
    }
   ],
   "source": [
    "prior = 1/5\n",
    "like = 1/5\n",
    "marg = ((2/5)*(1/5))+((1/5)*(1/5))+((0/5)*(3/5))\n",
    "post = like*prior/marg"
   ]
  },
  {
   "cell_type": "markdown",
   "id": "f3b7f049",
   "metadata": {},
   "source": [
    "### 1.5\n",
    "\n",
    "#### What is the chance of the knight crossing safely?"
   ]
  },
  {
   "cell_type": "markdown",
   "id": "9796b1ad",
   "metadata": {},
   "source": [
    "The chance of the knight crossing safely given that he has captured a troll is 33%, which is the same probability as the probability of being at E2. This is because there is only one troll in E2, which gives him a safe path. The safety has drastically decreased due to the probability of being at E1. If he has captured a troll, there is still another troll waiting to hit him. "
   ]
  },
  {
   "cell_type": "markdown",
   "id": "7b815ae0",
   "metadata": {},
   "source": [
    "#### Now looking back to 1.1, the probabilities were changed after assimilating data! "
   ]
  },
  {
   "cell_type": "markdown",
   "id": "f1450094",
   "metadata": {},
   "source": [
    "# Question 2\n",
    "### (Polynomial Fitting) Read the following example and complete the exercises \n",
    "\n",
    "Biological data always comes with errors that influence the intepretation of the data significantly. In this question, we will simulate data and see how noises affect the parameter estimation."
   ]
  },
  {
   "cell_type": "code",
   "execution_count": 1,
   "id": "c20822fa",
   "metadata": {},
   "outputs": [
    {
     "name": "stderr",
     "output_type": "stream",
     "text": [
      "\u001b[32m\u001b[1m    Updating\u001b[22m\u001b[39m registry at `C:\\Users\\choan\\.julia\\registries\\General.toml`\n",
      "\u001b[32m\u001b[1m   Resolving\u001b[22m\u001b[39m package versions...\n",
      "\u001b[32m\u001b[1m  No Changes\u001b[22m\u001b[39m to `C:\\Users\\choan\\.julia\\environments\\v1.8\\Project.toml`\n",
      "\u001b[32m\u001b[1m  No Changes\u001b[22m\u001b[39m to `C:\\Users\\choan\\.julia\\environments\\v1.8\\Manifest.toml`\n"
     ]
    }
   ],
   "source": [
    "import Pkg\n",
    "Pkg.add([\"Distributions\", \"Plots\", \"Polynomials\", \"Random\"])"
   ]
  },
  {
   "cell_type": "code",
   "execution_count": 2,
   "id": "d7d1ca8d",
   "metadata": {},
   "outputs": [],
   "source": [
    "import Distributions as di\n",
    "import Plots\n",
    "import Polynomials\n",
    "import Random"
   ]
  },
  {
   "cell_type": "code",
   "execution_count": 3,
   "id": "4f023abc",
   "metadata": {},
   "outputs": [],
   "source": [
    "using Distributions\n",
    "using Plots\n",
    "using Polynomials: Polynomial, fit, coeffs\n",
    "using Random"
   ]
  },
  {
   "cell_type": "markdown",
   "id": "a90dd09d",
   "metadata": {},
   "source": [
    "### 2.1\n",
    "\n",
    "1. Generate the independent variable x ranging from -10 to 10 with an increment of 1\n",
    "2. Generate the dependent variable y_true using the equation y_true = x^2 + 3x - 2\n"
   ]
  },
  {
   "cell_type": "code",
   "execution_count": 4,
   "id": "6b0b33c5",
   "metadata": {},
   "outputs": [
    {
     "data": {
      "text/plain": [
       "21-element Vector{Int64}:\n",
       "  68\n",
       "  52\n",
       "  38\n",
       "  26\n",
       "  16\n",
       "   8\n",
       "   2\n",
       "  -2\n",
       "  -4\n",
       "  -4\n",
       "  -2\n",
       "   2\n",
       "   8\n",
       "  16\n",
       "  26\n",
       "  38\n",
       "  52\n",
       "  68\n",
       "  86\n",
       " 106\n",
       " 128"
      ]
     },
     "execution_count": 4,
     "metadata": {},
     "output_type": "execute_result"
    }
   ],
   "source": [
    "x = -10:1:10\n",
    "y_true = x.^2 .+ 3 .* x .- 2"
   ]
  },
  {
   "cell_type": "markdown",
   "id": "74d2a191",
   "metadata": {},
   "source": [
    "### 2.2\n",
    "\n",
    "1. Generate the Guassian noises with zero mean and a standard deviation of 10\n",
    "\n",
    "2. Add the noises to y_true to obtain y_observed\n"
   ]
  },
  {
   "cell_type": "code",
   "execution_count": 5,
   "id": "7936417a",
   "metadata": {},
   "outputs": [
    {
     "data": {
      "text/plain": [
       "21-element Vector{Float64}:\n",
       "  74.74518648054003\n",
       "  60.33580651883715\n",
       "  46.610407888128464\n",
       "  22.099358614083883\n",
       "  16.718453309045547\n",
       "  14.306971041589389\n",
       "   5.83349777539156\n",
       "  -7.613960424374971\n",
       " -16.369784991632102\n",
       "  -5.718621418984979\n",
       "   1.6655777747206142\n",
       "  -6.186932318078613\n",
       "   1.548980566200484\n",
       "  25.853696391481144\n",
       "  21.495518070183607\n",
       "  28.083382082526843\n",
       "  52.23497443286598\n",
       "  65.98457111162705\n",
       "  80.9006697551145\n",
       "  91.85419195417657\n",
       " 120.59613185457162"
      ]
     },
     "execution_count": 5,
     "metadata": {},
     "output_type": "execute_result"
    }
   ],
   "source": [
    "n = Normal(0,10)\n",
    "noise = rand(n, 21)\n",
    "y_observed = y_true + noise"
   ]
  },
  {
   "cell_type": "markdown",
   "id": "ecf2e554",
   "metadata": {},
   "source": [
    "### 2.3\n",
    "\n",
    "#### Fit the data (x, y_observed) with a second order polynomial. \n",
    "\n",
    "1. Make a scatter plot of y_observed along x\n",
    "2. Plot a line of y_true along x on the scatter plot\n",
    "3. Plot a line of the fitted polynomial along x on the same plot"
   ]
  },
  {
   "cell_type": "code",
   "execution_count": 6,
   "id": "d39a136b",
   "metadata": {},
   "outputs": [
    {
     "data": {
      "image/svg+xml": [
       "<?xml version=\"1.0\" encoding=\"utf-8\"?>\n",
       "<svg xmlns=\"http://www.w3.org/2000/svg\" xmlns:xlink=\"http://www.w3.org/1999/xlink\" width=\"600\" height=\"400\" viewBox=\"0 0 2400 1600\">\n",
       "<defs>\n",
       "  <clipPath id=\"clip990\">\n",
       "    <rect x=\"0\" y=\"0\" width=\"2400\" height=\"1600\"/>\n",
       "  </clipPath>\n",
       "</defs>\n",
       "<path clip-path=\"url(#clip990)\" d=\"M0 1600 L2400 1600 L2400 0 L0 0  Z\" fill=\"#ffffff\" fill-rule=\"evenodd\" fill-opacity=\"1\"/>\n",
       "<defs>\n",
       "  <clipPath id=\"clip991\">\n",
       "    <rect x=\"480\" y=\"0\" width=\"1681\" height=\"1600\"/>\n",
       "  </clipPath>\n",
       "</defs>\n",
       "<path clip-path=\"url(#clip990)\" d=\"M169.121 1486.45 L2352.76 1486.45 L2352.76 47.2441 L169.121 47.2441  Z\" fill=\"#ffffff\" fill-rule=\"evenodd\" fill-opacity=\"1\"/>\n",
       "<defs>\n",
       "  <clipPath id=\"clip992\">\n",
       "    <rect x=\"169\" y=\"47\" width=\"2185\" height=\"1440\"/>\n",
       "  </clipPath>\n",
       "</defs>\n",
       "<polyline clip-path=\"url(#clip992)\" style=\"stroke:#000000; stroke-linecap:round; stroke-linejoin:round; stroke-width:2; stroke-opacity:0.1; fill:none\" points=\"230.922,1486.45 230.922,47.2441 \"/>\n",
       "<polyline clip-path=\"url(#clip992)\" style=\"stroke:#000000; stroke-linecap:round; stroke-linejoin:round; stroke-width:2; stroke-opacity:0.1; fill:none\" points=\"745.93,1486.45 745.93,47.2441 \"/>\n",
       "<polyline clip-path=\"url(#clip992)\" style=\"stroke:#000000; stroke-linecap:round; stroke-linejoin:round; stroke-width:2; stroke-opacity:0.1; fill:none\" points=\"1260.94,1486.45 1260.94,47.2441 \"/>\n",
       "<polyline clip-path=\"url(#clip992)\" style=\"stroke:#000000; stroke-linecap:round; stroke-linejoin:round; stroke-width:2; stroke-opacity:0.1; fill:none\" points=\"1775.95,1486.45 1775.95,47.2441 \"/>\n",
       "<polyline clip-path=\"url(#clip992)\" style=\"stroke:#000000; stroke-linecap:round; stroke-linejoin:round; stroke-width:2; stroke-opacity:0.1; fill:none\" points=\"2290.95,1486.45 2290.95,47.2441 \"/>\n",
       "<polyline clip-path=\"url(#clip990)\" style=\"stroke:#000000; stroke-linecap:round; stroke-linejoin:round; stroke-width:4; stroke-opacity:1; fill:none\" points=\"169.121,1486.45 2352.76,1486.45 \"/>\n",
       "<polyline clip-path=\"url(#clip990)\" style=\"stroke:#000000; stroke-linecap:round; stroke-linejoin:round; stroke-width:4; stroke-opacity:1; fill:none\" points=\"230.922,1486.45 230.922,1467.55 \"/>\n",
       "<polyline clip-path=\"url(#clip990)\" style=\"stroke:#000000; stroke-linecap:round; stroke-linejoin:round; stroke-width:4; stroke-opacity:1; fill:none\" points=\"745.93,1486.45 745.93,1467.55 \"/>\n",
       "<polyline clip-path=\"url(#clip990)\" style=\"stroke:#000000; stroke-linecap:round; stroke-linejoin:round; stroke-width:4; stroke-opacity:1; fill:none\" points=\"1260.94,1486.45 1260.94,1467.55 \"/>\n",
       "<polyline clip-path=\"url(#clip990)\" style=\"stroke:#000000; stroke-linecap:round; stroke-linejoin:round; stroke-width:4; stroke-opacity:1; fill:none\" points=\"1775.95,1486.45 1775.95,1467.55 \"/>\n",
       "<polyline clip-path=\"url(#clip990)\" style=\"stroke:#000000; stroke-linecap:round; stroke-linejoin:round; stroke-width:4; stroke-opacity:1; fill:none\" points=\"2290.95,1486.45 2290.95,1467.55 \"/>\n",
       "<path clip-path=\"url(#clip990)\" d=\"M184.985 1532.02 L214.661 1532.02 L214.661 1535.95 L184.985 1535.95 L184.985 1532.02 Z\" fill=\"#000000\" fill-rule=\"evenodd\" fill-opacity=\"1\" /><path clip-path=\"url(#clip990)\" d=\"M225.564 1544.91 L233.202 1544.91 L233.202 1518.55 L224.892 1520.21 L224.892 1515.95 L233.156 1514.29 L237.832 1514.29 L237.832 1544.91 L245.471 1544.91 L245.471 1548.85 L225.564 1548.85 L225.564 1544.91 Z\" fill=\"#000000\" fill-rule=\"evenodd\" fill-opacity=\"1\" /><path clip-path=\"url(#clip990)\" d=\"M264.915 1517.37 Q261.304 1517.37 259.475 1520.93 Q257.67 1524.47 257.67 1531.6 Q257.67 1538.71 259.475 1542.27 Q261.304 1545.82 264.915 1545.82 Q268.549 1545.82 270.355 1542.27 Q272.184 1538.71 272.184 1531.6 Q272.184 1524.47 270.355 1520.93 Q268.549 1517.37 264.915 1517.37 M264.915 1513.66 Q270.725 1513.66 273.781 1518.27 Q276.86 1522.85 276.86 1531.6 Q276.86 1540.33 273.781 1544.94 Q270.725 1549.52 264.915 1549.52 Q259.105 1549.52 256.026 1544.94 Q252.971 1540.33 252.971 1531.6 Q252.971 1522.85 256.026 1518.27 Q259.105 1513.66 264.915 1513.66 Z\" fill=\"#000000\" fill-rule=\"evenodd\" fill-opacity=\"1\" /><path clip-path=\"url(#clip990)\" d=\"M715.572 1532.02 L745.248 1532.02 L745.248 1535.95 L715.572 1535.95 L715.572 1532.02 Z\" fill=\"#000000\" fill-rule=\"evenodd\" fill-opacity=\"1\" /><path clip-path=\"url(#clip990)\" d=\"M755.386 1514.29 L773.743 1514.29 L773.743 1518.22 L759.669 1518.22 L759.669 1526.7 Q760.687 1526.35 761.706 1526.19 Q762.724 1526 763.743 1526 Q769.53 1526 772.909 1529.17 Q776.289 1532.34 776.289 1537.76 Q776.289 1543.34 772.817 1546.44 Q769.345 1549.52 763.025 1549.52 Q760.849 1549.52 758.581 1549.15 Q756.335 1548.78 753.928 1548.04 L753.928 1543.34 Q756.011 1544.47 758.234 1545.03 Q760.456 1545.58 762.933 1545.58 Q766.937 1545.58 769.275 1543.48 Q771.613 1541.37 771.613 1537.76 Q771.613 1534.15 769.275 1532.04 Q766.937 1529.94 762.933 1529.94 Q761.058 1529.94 759.183 1530.35 Q757.331 1530.77 755.386 1531.65 L755.386 1514.29 Z\" fill=\"#000000\" fill-rule=\"evenodd\" fill-opacity=\"1\" /><path clip-path=\"url(#clip990)\" d=\"M1260.94 1517.37 Q1257.33 1517.37 1255.5 1520.93 Q1253.69 1524.47 1253.69 1531.6 Q1253.69 1538.71 1255.5 1542.27 Q1257.33 1545.82 1260.94 1545.82 Q1264.57 1545.82 1266.38 1542.27 Q1268.21 1538.71 1268.21 1531.6 Q1268.21 1524.47 1266.38 1520.93 Q1264.57 1517.37 1260.94 1517.37 M1260.94 1513.66 Q1266.75 1513.66 1269.8 1518.27 Q1272.88 1522.85 1272.88 1531.6 Q1272.88 1540.33 1269.8 1544.94 Q1266.75 1549.52 1260.94 1549.52 Q1255.13 1549.52 1252.05 1544.94 Q1248.99 1540.33 1248.99 1531.6 Q1248.99 1522.85 1252.05 1518.27 Q1255.13 1513.66 1260.94 1513.66 Z\" fill=\"#000000\" fill-rule=\"evenodd\" fill-opacity=\"1\" /><path clip-path=\"url(#clip990)\" d=\"M1766.22 1514.29 L1784.58 1514.29 L1784.58 1518.22 L1770.51 1518.22 L1770.51 1526.7 Q1771.53 1526.35 1772.54 1526.19 Q1773.56 1526 1774.58 1526 Q1780.37 1526 1783.75 1529.17 Q1787.13 1532.34 1787.13 1537.76 Q1787.13 1543.34 1783.66 1546.44 Q1780.18 1549.52 1773.86 1549.52 Q1771.69 1549.52 1769.42 1549.15 Q1767.17 1548.78 1764.77 1548.04 L1764.77 1543.34 Q1766.85 1544.47 1769.07 1545.03 Q1771.29 1545.58 1773.77 1545.58 Q1777.78 1545.58 1780.11 1543.48 Q1782.45 1541.37 1782.45 1537.76 Q1782.45 1534.15 1780.11 1532.04 Q1777.78 1529.94 1773.77 1529.94 Q1771.9 1529.94 1770.02 1530.35 Q1768.17 1530.77 1766.22 1531.65 L1766.22 1514.29 Z\" fill=\"#000000\" fill-rule=\"evenodd\" fill-opacity=\"1\" /><path clip-path=\"url(#clip990)\" d=\"M2265.64 1544.91 L2273.28 1544.91 L2273.28 1518.55 L2264.97 1520.21 L2264.97 1515.95 L2273.24 1514.29 L2277.91 1514.29 L2277.91 1544.91 L2285.55 1544.91 L2285.55 1548.85 L2265.64 1548.85 L2265.64 1544.91 Z\" fill=\"#000000\" fill-rule=\"evenodd\" fill-opacity=\"1\" /><path clip-path=\"url(#clip990)\" d=\"M2304.99 1517.37 Q2301.38 1517.37 2299.55 1520.93 Q2297.75 1524.47 2297.75 1531.6 Q2297.75 1538.71 2299.55 1542.27 Q2301.38 1545.82 2304.99 1545.82 Q2308.63 1545.82 2310.43 1542.27 Q2312.26 1538.71 2312.26 1531.6 Q2312.26 1524.47 2310.43 1520.93 Q2308.63 1517.37 2304.99 1517.37 M2304.99 1513.66 Q2310.8 1513.66 2313.86 1518.27 Q2316.94 1522.85 2316.94 1531.6 Q2316.94 1540.33 2313.86 1544.94 Q2310.8 1549.52 2304.99 1549.52 Q2299.18 1549.52 2296.11 1544.94 Q2293.05 1540.33 2293.05 1531.6 Q2293.05 1522.85 2296.11 1518.27 Q2299.18 1513.66 2304.99 1513.66 Z\" fill=\"#000000\" fill-rule=\"evenodd\" fill-opacity=\"1\" /><polyline clip-path=\"url(#clip992)\" style=\"stroke:#000000; stroke-linecap:round; stroke-linejoin:round; stroke-width:2; stroke-opacity:0.1; fill:none\" points=\"169.121,1291.76 2352.76,1291.76 \"/>\n",
       "<polyline clip-path=\"url(#clip992)\" style=\"stroke:#000000; stroke-linecap:round; stroke-linejoin:round; stroke-width:2; stroke-opacity:0.1; fill:none\" points=\"169.121,1009.63 2352.76,1009.63 \"/>\n",
       "<polyline clip-path=\"url(#clip992)\" style=\"stroke:#000000; stroke-linecap:round; stroke-linejoin:round; stroke-width:2; stroke-opacity:0.1; fill:none\" points=\"169.121,727.489 2352.76,727.489 \"/>\n",
       "<polyline clip-path=\"url(#clip992)\" style=\"stroke:#000000; stroke-linecap:round; stroke-linejoin:round; stroke-width:2; stroke-opacity:0.1; fill:none\" points=\"169.121,445.351 2352.76,445.351 \"/>\n",
       "<polyline clip-path=\"url(#clip992)\" style=\"stroke:#000000; stroke-linecap:round; stroke-linejoin:round; stroke-width:2; stroke-opacity:0.1; fill:none\" points=\"169.121,163.213 2352.76,163.213 \"/>\n",
       "<polyline clip-path=\"url(#clip990)\" style=\"stroke:#000000; stroke-linecap:round; stroke-linejoin:round; stroke-width:4; stroke-opacity:1; fill:none\" points=\"169.121,1486.45 169.121,47.2441 \"/>\n",
       "<polyline clip-path=\"url(#clip990)\" style=\"stroke:#000000; stroke-linecap:round; stroke-linejoin:round; stroke-width:4; stroke-opacity:1; fill:none\" points=\"169.121,1291.76 188.019,1291.76 \"/>\n",
       "<polyline clip-path=\"url(#clip990)\" style=\"stroke:#000000; stroke-linecap:round; stroke-linejoin:round; stroke-width:4; stroke-opacity:1; fill:none\" points=\"169.121,1009.63 188.019,1009.63 \"/>\n",
       "<polyline clip-path=\"url(#clip990)\" style=\"stroke:#000000; stroke-linecap:round; stroke-linejoin:round; stroke-width:4; stroke-opacity:1; fill:none\" points=\"169.121,727.489 188.019,727.489 \"/>\n",
       "<polyline clip-path=\"url(#clip990)\" style=\"stroke:#000000; stroke-linecap:round; stroke-linejoin:round; stroke-width:4; stroke-opacity:1; fill:none\" points=\"169.121,445.351 188.019,445.351 \"/>\n",
       "<polyline clip-path=\"url(#clip990)\" style=\"stroke:#000000; stroke-linecap:round; stroke-linejoin:round; stroke-width:4; stroke-opacity:1; fill:none\" points=\"169.121,163.213 188.019,163.213 \"/>\n",
       "<path clip-path=\"url(#clip990)\" d=\"M121.177 1277.56 Q117.566 1277.56 115.737 1281.13 Q113.932 1284.67 113.932 1291.8 Q113.932 1298.91 115.737 1302.47 Q117.566 1306.01 121.177 1306.01 Q124.811 1306.01 126.617 1302.47 Q128.445 1298.91 128.445 1291.8 Q128.445 1284.67 126.617 1281.13 Q124.811 1277.56 121.177 1277.56 M121.177 1273.86 Q126.987 1273.86 130.043 1278.47 Q133.121 1283.05 133.121 1291.8 Q133.121 1300.53 130.043 1305.13 Q126.987 1309.72 121.177 1309.72 Q115.367 1309.72 112.288 1305.13 Q109.233 1300.53 109.233 1291.8 Q109.233 1283.05 112.288 1278.47 Q115.367 1273.86 121.177 1273.86 Z\" fill=\"#000000\" fill-rule=\"evenodd\" fill-opacity=\"1\" /><path clip-path=\"url(#clip990)\" d=\"M95.1817 1008.27 Q98.5382 1008.99 100.413 1011.26 Q102.311 1013.53 102.311 1016.86 Q102.311 1021.98 98.7928 1024.78 Q95.2743 1027.58 88.7928 1027.58 Q86.6169 1027.58 84.3021 1027.14 Q82.0105 1026.72 79.5568 1025.86 L79.5568 1021.35 Q81.5012 1022.49 83.816 1023.06 Q86.1308 1023.64 88.654 1023.64 Q93.0521 1023.64 95.3437 1021.91 Q97.6585 1020.17 97.6585 1016.86 Q97.6585 1013.8 95.5058 1012.09 Q93.3762 1010.36 89.5567 1010.36 L85.529 1010.36 L85.529 1006.51 L89.7419 1006.51 Q93.191 1006.51 95.0197 1005.15 Q96.8484 1003.76 96.8484 1001.17 Q96.8484 998.504 94.9502 997.092 Q93.0752 995.657 89.5567 995.657 Q87.6354 995.657 85.4364 996.073 Q83.2373 996.49 80.5984 997.37 L80.5984 993.203 Q83.2605 992.462 85.5753 992.092 Q87.9132 991.722 89.9734 991.722 Q95.2974 991.722 98.3993 994.152 Q101.501 996.56 101.501 1000.68 Q101.501 1003.55 99.8576 1005.54 Q98.2141 1007.51 95.1817 1008.27 Z\" fill=\"#000000\" fill-rule=\"evenodd\" fill-opacity=\"1\" /><path clip-path=\"url(#clip990)\" d=\"M121.177 995.425 Q117.566 995.425 115.737 998.99 Q113.932 1002.53 113.932 1009.66 Q113.932 1016.77 115.737 1020.33 Q117.566 1023.87 121.177 1023.87 Q124.811 1023.87 126.617 1020.33 Q128.445 1016.77 128.445 1009.66 Q128.445 1002.53 126.617 998.99 Q124.811 995.425 121.177 995.425 M121.177 991.722 Q126.987 991.722 130.043 996.328 Q133.121 1000.91 133.121 1009.66 Q133.121 1018.39 130.043 1022.99 Q126.987 1027.58 121.177 1027.58 Q115.367 1027.58 112.288 1022.99 Q109.233 1018.39 109.233 1009.66 Q109.233 1000.91 112.288 996.328 Q115.367 991.722 121.177 991.722 Z\" fill=\"#000000\" fill-rule=\"evenodd\" fill-opacity=\"1\" /><path clip-path=\"url(#clip990)\" d=\"M91.5938 725.625 Q88.4456 725.625 86.5938 727.778 Q84.7651 729.931 84.7651 733.681 Q84.7651 737.408 86.5938 739.584 Q88.4456 741.736 91.5938 741.736 Q94.7419 741.736 96.5706 739.584 Q98.4224 737.408 98.4224 733.681 Q98.4224 729.931 96.5706 727.778 Q94.7419 725.625 91.5938 725.625 M100.876 710.973 L100.876 715.232 Q99.1169 714.399 97.3113 713.959 Q95.5289 713.519 93.7697 713.519 Q89.1401 713.519 86.6864 716.644 Q84.2558 719.769 83.9086 726.088 Q85.2743 724.074 87.3345 723.01 Q89.3947 721.922 91.8715 721.922 Q97.0798 721.922 100.089 725.093 Q103.121 728.241 103.121 733.681 Q103.121 739.005 99.9733 742.222 Q96.8252 745.44 91.5938 745.44 Q85.5984 745.44 82.4271 740.857 Q79.2559 736.25 79.2559 727.523 Q79.2559 719.329 83.1447 714.468 Q87.0336 709.584 93.5845 709.584 Q95.3437 709.584 97.1261 709.931 Q98.9317 710.278 100.876 710.973 Z\" fill=\"#000000\" fill-rule=\"evenodd\" fill-opacity=\"1\" /><path clip-path=\"url(#clip990)\" d=\"M121.177 713.287 Q117.566 713.287 115.737 716.852 Q113.932 720.394 113.932 727.523 Q113.932 734.63 115.737 738.195 Q117.566 741.736 121.177 741.736 Q124.811 741.736 126.617 738.195 Q128.445 734.63 128.445 727.523 Q128.445 720.394 126.617 716.852 Q124.811 713.287 121.177 713.287 M121.177 709.584 Q126.987 709.584 130.043 714.19 Q133.121 718.774 133.121 727.523 Q133.121 736.25 130.043 740.857 Q126.987 745.44 121.177 745.44 Q115.367 745.44 112.288 740.857 Q109.233 736.25 109.233 727.523 Q109.233 718.774 112.288 714.19 Q115.367 709.584 121.177 709.584 Z\" fill=\"#000000\" fill-rule=\"evenodd\" fill-opacity=\"1\" /><path clip-path=\"url(#clip990)\" d=\"M81.154 461.913 L81.154 457.654 Q82.9133 458.487 84.7188 458.927 Q86.5243 459.367 88.2604 459.367 Q92.89 459.367 95.3206 456.265 Q97.7743 453.14 98.1215 446.798 Q96.7789 448.788 94.7187 449.853 Q92.6586 450.918 90.1586 450.918 Q84.9734 450.918 81.941 447.793 Q78.9318 444.645 78.9318 439.205 Q78.9318 433.881 82.0799 430.663 Q85.2281 427.446 90.4595 427.446 Q96.4548 427.446 99.603 432.052 Q102.774 436.636 102.774 445.386 Q102.774 453.557 98.8854 458.441 Q95.0197 463.302 88.4688 463.302 Q86.7095 463.302 84.904 462.955 Q83.0984 462.608 81.154 461.913 M90.4595 447.261 Q93.6076 447.261 95.4363 445.108 Q97.2882 442.955 97.2882 439.205 Q97.2882 435.478 95.4363 433.326 Q93.6076 431.15 90.4595 431.15 Q87.3114 431.15 85.4595 433.326 Q83.6308 435.478 83.6308 439.205 Q83.6308 442.955 85.4595 445.108 Q87.3114 447.261 90.4595 447.261 Z\" fill=\"#000000\" fill-rule=\"evenodd\" fill-opacity=\"1\" /><path clip-path=\"url(#clip990)\" d=\"M121.177 431.15 Q117.566 431.15 115.737 434.714 Q113.932 438.256 113.932 445.386 Q113.932 452.492 115.737 456.057 Q117.566 459.599 121.177 459.599 Q124.811 459.599 126.617 456.057 Q128.445 452.492 128.445 445.386 Q128.445 438.256 126.617 434.714 Q124.811 431.15 121.177 431.15 M121.177 427.446 Q126.987 427.446 130.043 432.052 Q133.121 436.636 133.121 445.386 Q133.121 454.112 130.043 458.719 Q126.987 463.302 121.177 463.302 Q115.367 463.302 112.288 458.719 Q109.233 454.112 109.233 445.386 Q109.233 436.636 112.288 432.052 Q115.367 427.446 121.177 427.446 Z\" fill=\"#000000\" fill-rule=\"evenodd\" fill-opacity=\"1\" /><path clip-path=\"url(#clip990)\" d=\"M51.6634 176.558 L59.3023 176.558 L59.3023 150.192 L50.9921 151.859 L50.9921 147.6 L59.256 145.933 L63.9319 145.933 L63.9319 176.558 L71.5707 176.558 L71.5707 180.493 L51.6634 180.493 L51.6634 176.558 Z\" fill=\"#000000\" fill-rule=\"evenodd\" fill-opacity=\"1\" /><path clip-path=\"url(#clip990)\" d=\"M85.0429 176.558 L101.362 176.558 L101.362 180.493 L79.4179 180.493 L79.4179 176.558 Q82.0799 173.803 86.6632 169.174 Q91.2697 164.521 92.4502 163.178 Q94.6956 160.655 95.5752 158.919 Q96.478 157.16 96.478 155.47 Q96.478 152.715 94.5336 150.979 Q92.6123 149.243 89.5104 149.243 Q87.3114 149.243 84.8577 150.007 Q82.4271 150.771 79.6494 152.322 L79.6494 147.6 Q82.4734 146.465 84.9271 145.887 Q87.3808 145.308 89.4178 145.308 Q94.7882 145.308 97.9826 147.993 Q101.177 150.678 101.177 155.169 Q101.177 157.299 100.367 159.22 Q99.5798 161.118 97.4734 163.711 Q96.8947 164.382 93.7928 167.6 Q90.691 170.794 85.0429 176.558 Z\" fill=\"#000000\" fill-rule=\"evenodd\" fill-opacity=\"1\" /><path clip-path=\"url(#clip990)\" d=\"M121.177 149.012 Q117.566 149.012 115.737 152.577 Q113.932 156.118 113.932 163.248 Q113.932 170.354 115.737 173.919 Q117.566 177.461 121.177 177.461 Q124.811 177.461 126.617 173.919 Q128.445 170.354 128.445 163.248 Q128.445 156.118 126.617 152.577 Q124.811 149.012 121.177 149.012 M121.177 145.308 Q126.987 145.308 130.043 149.915 Q133.121 154.498 133.121 163.248 Q133.121 171.975 130.043 176.581 Q126.987 181.164 121.177 181.164 Q115.367 181.164 112.288 176.581 Q109.233 171.975 109.233 163.248 Q109.233 154.498 112.288 149.915 Q115.367 145.308 121.177 145.308 Z\" fill=\"#000000\" fill-rule=\"evenodd\" fill-opacity=\"1\" /><circle clip-path=\"url(#clip992)\" cx=\"230.922\" cy=\"588.816\" r=\"14.4\" fill=\"#009af9\" fill-rule=\"evenodd\" fill-opacity=\"1\" stroke=\"#000000\" stroke-opacity=\"1\" stroke-width=\"3.2\"/>\n",
       "<circle clip-path=\"url(#clip992)\" cx=\"333.924\" cy=\"724.331\" r=\"14.4\" fill=\"#009af9\" fill-rule=\"evenodd\" fill-opacity=\"1\" stroke=\"#000000\" stroke-opacity=\"1\" stroke-width=\"3.2\"/>\n",
       "<circle clip-path=\"url(#clip992)\" cx=\"436.926\" cy=\"853.412\" r=\"14.4\" fill=\"#009af9\" fill-rule=\"evenodd\" fill-opacity=\"1\" stroke=\"#000000\" stroke-opacity=\"1\" stroke-width=\"3.2\"/>\n",
       "<circle clip-path=\"url(#clip992)\" cx=\"539.927\" cy=\"1083.93\" r=\"14.4\" fill=\"#009af9\" fill-rule=\"evenodd\" fill-opacity=\"1\" stroke=\"#000000\" stroke-opacity=\"1\" stroke-width=\"3.2\"/>\n",
       "<circle clip-path=\"url(#clip992)\" cx=\"642.929\" cy=\"1134.53\" r=\"14.4\" fill=\"#009af9\" fill-rule=\"evenodd\" fill-opacity=\"1\" stroke=\"#000000\" stroke-opacity=\"1\" stroke-width=\"3.2\"/>\n",
       "<circle clip-path=\"url(#clip992)\" cx=\"745.93\" cy=\"1157.21\" r=\"14.4\" fill=\"#009af9\" fill-rule=\"evenodd\" fill-opacity=\"1\" stroke=\"#000000\" stroke-opacity=\"1\" stroke-width=\"3.2\"/>\n",
       "<circle clip-path=\"url(#clip992)\" cx=\"848.932\" cy=\"1236.9\" r=\"14.4\" fill=\"#009af9\" fill-rule=\"evenodd\" fill-opacity=\"1\" stroke=\"#000000\" stroke-opacity=\"1\" stroke-width=\"3.2\"/>\n",
       "<circle clip-path=\"url(#clip992)\" cx=\"951.934\" cy=\"1363.37\" r=\"14.4\" fill=\"#009af9\" fill-rule=\"evenodd\" fill-opacity=\"1\" stroke=\"#000000\" stroke-opacity=\"1\" stroke-width=\"3.2\"/>\n",
       "<circle clip-path=\"url(#clip992)\" cx=\"1054.94\" cy=\"1445.72\" r=\"14.4\" fill=\"#009af9\" fill-rule=\"evenodd\" fill-opacity=\"1\" stroke=\"#000000\" stroke-opacity=\"1\" stroke-width=\"3.2\"/>\n",
       "<circle clip-path=\"url(#clip992)\" cx=\"1157.94\" cy=\"1345.55\" r=\"14.4\" fill=\"#009af9\" fill-rule=\"evenodd\" fill-opacity=\"1\" stroke=\"#000000\" stroke-opacity=\"1\" stroke-width=\"3.2\"/>\n",
       "<circle clip-path=\"url(#clip992)\" cx=\"1260.94\" cy=\"1276.1\" r=\"14.4\" fill=\"#009af9\" fill-rule=\"evenodd\" fill-opacity=\"1\" stroke=\"#000000\" stroke-opacity=\"1\" stroke-width=\"3.2\"/>\n",
       "<circle clip-path=\"url(#clip992)\" cx=\"1363.94\" cy=\"1349.95\" r=\"14.4\" fill=\"#009af9\" fill-rule=\"evenodd\" fill-opacity=\"1\" stroke=\"#000000\" stroke-opacity=\"1\" stroke-width=\"3.2\"/>\n",
       "<circle clip-path=\"url(#clip992)\" cx=\"1466.94\" cy=\"1277.2\" r=\"14.4\" fill=\"#009af9\" fill-rule=\"evenodd\" fill-opacity=\"1\" stroke=\"#000000\" stroke-opacity=\"1\" stroke-width=\"3.2\"/>\n",
       "<circle clip-path=\"url(#clip992)\" cx=\"1569.94\" cy=\"1048.62\" r=\"14.4\" fill=\"#009af9\" fill-rule=\"evenodd\" fill-opacity=\"1\" stroke=\"#000000\" stroke-opacity=\"1\" stroke-width=\"3.2\"/>\n",
       "<circle clip-path=\"url(#clip992)\" cx=\"1672.95\" cy=\"1089.61\" r=\"14.4\" fill=\"#009af9\" fill-rule=\"evenodd\" fill-opacity=\"1\" stroke=\"#000000\" stroke-opacity=\"1\" stroke-width=\"3.2\"/>\n",
       "<circle clip-path=\"url(#clip992)\" cx=\"1775.95\" cy=\"1027.65\" r=\"14.4\" fill=\"#009af9\" fill-rule=\"evenodd\" fill-opacity=\"1\" stroke=\"#000000\" stroke-opacity=\"1\" stroke-width=\"3.2\"/>\n",
       "<circle clip-path=\"url(#clip992)\" cx=\"1878.95\" cy=\"800.516\" r=\"14.4\" fill=\"#009af9\" fill-rule=\"evenodd\" fill-opacity=\"1\" stroke=\"#000000\" stroke-opacity=\"1\" stroke-width=\"3.2\"/>\n",
       "<circle clip-path=\"url(#clip992)\" cx=\"1981.95\" cy=\"671.206\" r=\"14.4\" fill=\"#009af9\" fill-rule=\"evenodd\" fill-opacity=\"1\" stroke=\"#000000\" stroke-opacity=\"1\" stroke-width=\"3.2\"/>\n",
       "<circle clip-path=\"url(#clip992)\" cx=\"2084.95\" cy=\"530.926\" r=\"14.4\" fill=\"#009af9\" fill-rule=\"evenodd\" fill-opacity=\"1\" stroke=\"#000000\" stroke-opacity=\"1\" stroke-width=\"3.2\"/>\n",
       "<circle clip-path=\"url(#clip992)\" cx=\"2187.95\" cy=\"427.913\" r=\"14.4\" fill=\"#009af9\" fill-rule=\"evenodd\" fill-opacity=\"1\" stroke=\"#000000\" stroke-opacity=\"1\" stroke-width=\"3.2\"/>\n",
       "<circle clip-path=\"url(#clip992)\" cx=\"2290.95\" cy=\"157.607\" r=\"14.4\" fill=\"#009af9\" fill-rule=\"evenodd\" fill-opacity=\"1\" stroke=\"#000000\" stroke-opacity=\"1\" stroke-width=\"3.2\"/>\n",
       "<polyline clip-path=\"url(#clip992)\" style=\"stroke:#e26f46; stroke-linecap:round; stroke-linejoin:round; stroke-width:4; stroke-opacity:1; fill:none\" points=\"230.922,652.252 333.924,802.726 436.926,934.39 539.927,1047.25 642.929,1141.29 745.93,1216.53 848.932,1272.96 951.934,1310.57 1054.94,1329.38 1157.94,1329.38 1260.94,1310.57 1363.94,1272.96 1466.94,1216.53 1569.94,1141.29 1672.95,1047.25 1775.95,934.39 1878.95,802.726 1981.95,652.252 2084.95,482.969 2187.95,294.877 2290.95,87.9763 \"/>\n",
       "<polyline clip-path=\"url(#clip992)\" style=\"stroke:#3da44d; stroke-linecap:round; stroke-linejoin:round; stroke-width:4; stroke-opacity:1; fill:none\" points=\"230.922,592.095 333.924,752.694 436.926,894.069 539.927,1016.22 642.929,1119.14 745.93,1202.84 848.932,1267.32 951.934,1312.57 1054.94,1338.6 1157.94,1345.4 1260.94,1332.98 1363.94,1301.33 1466.94,1250.46 1569.94,1180.36 1672.95,1091.04 1775.95,982.497 1878.95,854.726 1981.95,707.732 2084.95,541.512 2187.95,356.068 2290.95,151.399 \"/>\n",
       "<path clip-path=\"url(#clip990)\" d=\"M241.909 302.578 L661.082 302.578 L661.082 95.2176 L241.909 95.2176  Z\" fill=\"#ffffff\" fill-rule=\"evenodd\" fill-opacity=\"1\"/>\n",
       "<polyline clip-path=\"url(#clip990)\" style=\"stroke:#000000; stroke-linecap:round; stroke-linejoin:round; stroke-width:4; stroke-opacity:1; fill:none\" points=\"241.909,302.578 661.082,302.578 661.082,95.2176 241.909,95.2176 241.909,302.578 \"/>\n",
       "<circle clip-path=\"url(#clip990)\" cx=\"338.96\" cy=\"147.058\" r=\"23.04\" fill=\"#009af9\" fill-rule=\"evenodd\" fill-opacity=\"1\" stroke=\"#000000\" stroke-opacity=\"1\" stroke-width=\"5.12\"/>\n",
       "<path clip-path=\"url(#clip990)\" d=\"M454.922 142.347 L454.922 128.319 L459.181 128.319 L459.181 164.338 L454.922 164.338 L454.922 160.449 Q453.579 162.763 451.519 163.898 Q449.482 165.009 446.612 165.009 Q441.913 165.009 438.95 161.259 Q436.01 157.509 436.01 151.398 Q436.01 145.287 438.95 141.537 Q441.913 137.787 446.612 137.787 Q449.482 137.787 451.519 138.921 Q453.579 140.032 454.922 142.347 M440.408 151.398 Q440.408 156.097 442.329 158.782 Q444.274 161.444 447.653 161.444 Q451.033 161.444 452.977 158.782 Q454.922 156.097 454.922 151.398 Q454.922 146.699 452.977 144.037 Q451.033 141.352 447.653 141.352 Q444.274 141.352 442.329 144.037 Q440.408 146.699 440.408 151.398 Z\" fill=\"#000000\" fill-rule=\"evenodd\" fill-opacity=\"1\" /><path clip-path=\"url(#clip990)\" d=\"M479.737 151.305 Q474.575 151.305 472.584 152.486 Q470.593 153.666 470.593 156.514 Q470.593 158.782 472.075 160.125 Q473.579 161.444 476.149 161.444 Q479.69 161.444 481.82 158.944 Q483.973 156.421 483.973 152.254 L483.973 151.305 L479.737 151.305 M488.232 149.546 L488.232 164.338 L483.973 164.338 L483.973 160.402 Q482.514 162.763 480.338 163.898 Q478.163 165.009 475.014 165.009 Q471.033 165.009 468.672 162.787 Q466.334 160.541 466.334 156.791 Q466.334 152.416 469.251 150.194 Q472.19 147.972 478.001 147.972 L483.973 147.972 L483.973 147.555 Q483.973 144.615 482.028 143.018 Q480.107 141.398 476.612 141.398 Q474.389 141.398 472.283 141.93 Q470.176 142.463 468.232 143.527 L468.232 139.592 Q470.57 138.69 472.769 138.25 Q474.968 137.787 477.051 137.787 Q482.676 137.787 485.454 140.703 Q488.232 143.62 488.232 149.546 Z\" fill=\"#000000\" fill-rule=\"evenodd\" fill-opacity=\"1\" /><path clip-path=\"url(#clip990)\" d=\"M501.218 131.051 L501.218 138.412 L509.991 138.412 L509.991 141.722 L501.218 141.722 L501.218 155.796 Q501.218 158.967 502.074 159.87 Q502.954 160.773 505.616 160.773 L509.991 160.773 L509.991 164.338 L505.616 164.338 Q500.686 164.338 498.811 162.509 Q496.936 160.657 496.936 155.796 L496.936 141.722 L493.811 141.722 L493.811 138.412 L496.936 138.412 L496.936 131.051 L501.218 131.051 Z\" fill=\"#000000\" fill-rule=\"evenodd\" fill-opacity=\"1\" /><path clip-path=\"url(#clip990)\" d=\"M527.375 151.305 Q522.213 151.305 520.222 152.486 Q518.232 153.666 518.232 156.514 Q518.232 158.782 519.713 160.125 Q521.218 161.444 523.787 161.444 Q527.329 161.444 529.459 158.944 Q531.611 156.421 531.611 152.254 L531.611 151.305 L527.375 151.305 M535.871 149.546 L535.871 164.338 L531.611 164.338 L531.611 160.402 Q530.153 162.763 527.977 163.898 Q525.801 165.009 522.653 165.009 Q518.672 165.009 516.31 162.787 Q513.973 160.541 513.973 156.791 Q513.973 152.416 516.889 150.194 Q519.829 147.972 525.639 147.972 L531.611 147.972 L531.611 147.555 Q531.611 144.615 529.667 143.018 Q527.746 141.398 524.25 141.398 Q522.028 141.398 519.922 141.93 Q517.815 142.463 515.871 143.527 L515.871 139.592 Q518.209 138.69 520.408 138.25 Q522.607 137.787 524.69 137.787 Q530.315 137.787 533.093 140.703 Q535.871 143.62 535.871 149.546 Z\" fill=\"#000000\" fill-rule=\"evenodd\" fill-opacity=\"1\" /><polyline clip-path=\"url(#clip990)\" style=\"stroke:#e26f46; stroke-linecap:round; stroke-linejoin:round; stroke-width:4; stroke-opacity:1; fill:none\" points=\"266.172,198.898 411.747,198.898 \"/>\n",
       "<path clip-path=\"url(#clip990)\" d=\"M443.417 182.891 L443.417 190.252 L452.19 190.252 L452.19 193.562 L443.417 193.562 L443.417 207.636 Q443.417 210.807 444.274 211.71 Q445.153 212.613 447.815 212.613 L452.19 212.613 L452.19 216.178 L447.815 216.178 Q442.885 216.178 441.01 214.349 Q439.135 212.497 439.135 207.636 L439.135 193.562 L436.01 193.562 L436.01 190.252 L439.135 190.252 L439.135 182.891 L443.417 182.891 Z\" fill=\"#000000\" fill-rule=\"evenodd\" fill-opacity=\"1\" /><path clip-path=\"url(#clip990)\" d=\"M472.815 194.233 Q472.098 193.817 471.241 193.631 Q470.408 193.423 469.389 193.423 Q465.778 193.423 463.834 195.784 Q461.913 198.122 461.913 202.52 L461.913 216.178 L457.63 216.178 L457.63 190.252 L461.913 190.252 L461.913 194.28 Q463.255 191.918 465.408 190.784 Q467.561 189.627 470.639 189.627 Q471.079 189.627 471.612 189.696 Q472.144 189.743 472.792 189.858 L472.815 194.233 Z\" fill=\"#000000\" fill-rule=\"evenodd\" fill-opacity=\"1\" /><path clip-path=\"url(#clip990)\" d=\"M476.843 205.946 L476.843 190.252 L481.102 190.252 L481.102 205.784 Q481.102 209.465 482.538 211.316 Q483.973 213.145 486.843 213.145 Q490.292 213.145 492.283 210.946 Q494.297 208.747 494.297 204.951 L494.297 190.252 L498.556 190.252 L498.556 216.178 L494.297 216.178 L494.297 212.196 Q492.746 214.557 490.686 215.715 Q488.649 216.849 485.94 216.849 Q481.473 216.849 479.158 214.071 Q476.843 211.293 476.843 205.946 M487.561 189.627 L487.561 189.627 Z\" fill=\"#000000\" fill-rule=\"evenodd\" fill-opacity=\"1\" /><path clip-path=\"url(#clip990)\" d=\"M529.505 202.15 L529.505 204.233 L509.922 204.233 Q510.199 208.631 512.561 210.946 Q514.945 213.238 519.181 213.238 Q521.635 213.238 523.926 212.636 Q526.241 212.034 528.509 210.83 L528.509 214.858 Q526.218 215.83 523.81 216.34 Q521.403 216.849 518.926 216.849 Q512.723 216.849 509.088 213.238 Q505.477 209.627 505.477 203.469 Q505.477 197.104 508.903 193.377 Q512.352 189.627 518.185 189.627 Q523.417 189.627 526.449 193.006 Q529.505 196.363 529.505 202.15 M525.246 200.9 Q525.199 197.405 523.278 195.321 Q521.38 193.238 518.232 193.238 Q514.667 193.238 512.514 195.252 Q510.385 197.266 510.061 200.923 L525.246 200.9 Z\" fill=\"#000000\" fill-rule=\"evenodd\" fill-opacity=\"1\" /><path clip-path=\"url(#clip990)\" d=\"M555.685 212.289 L555.685 226.039 L551.403 226.039 L551.403 190.252 L555.685 190.252 L555.685 194.187 Q557.028 191.872 559.065 190.761 Q561.125 189.627 563.972 189.627 Q568.694 189.627 571.634 193.377 Q574.597 197.127 574.597 203.238 Q574.597 209.349 571.634 213.099 Q568.694 216.849 563.972 216.849 Q561.125 216.849 559.065 215.738 Q557.028 214.603 555.685 212.289 M570.176 203.238 Q570.176 198.539 568.232 195.877 Q566.31 193.192 562.931 193.192 Q559.551 193.192 557.607 195.877 Q555.685 198.539 555.685 203.238 Q555.685 207.937 557.607 210.622 Q559.551 213.284 562.931 213.284 Q566.31 213.284 568.232 210.622 Q570.176 207.937 570.176 203.238 Z\" fill=\"#000000\" fill-rule=\"evenodd\" fill-opacity=\"1\" /><path clip-path=\"url(#clip990)\" d=\"M581.657 180.159 L585.917 180.159 L585.917 216.178 L581.657 216.178 L581.657 180.159 Z\" fill=\"#000000\" fill-rule=\"evenodd\" fill-opacity=\"1\" /><path clip-path=\"url(#clip990)\" d=\"M604.875 193.238 Q601.449 193.238 599.458 195.923 Q597.467 198.585 597.467 203.238 Q597.467 207.891 599.435 210.576 Q601.426 213.238 604.875 213.238 Q608.278 213.238 610.268 210.553 Q612.259 207.867 612.259 203.238 Q612.259 198.631 610.268 195.946 Q608.278 193.238 604.875 193.238 M604.875 189.627 Q610.43 189.627 613.602 193.238 Q616.773 196.849 616.773 203.238 Q616.773 209.604 613.602 213.238 Q610.43 216.849 604.875 216.849 Q599.296 216.849 596.125 213.238 Q592.977 209.604 592.977 203.238 Q592.977 196.849 596.125 193.238 Q599.296 189.627 604.875 189.627 Z\" fill=\"#000000\" fill-rule=\"evenodd\" fill-opacity=\"1\" /><path clip-path=\"url(#clip990)\" d=\"M628.046 182.891 L628.046 190.252 L636.819 190.252 L636.819 193.562 L628.046 193.562 L628.046 207.636 Q628.046 210.807 628.902 211.71 Q629.782 212.613 632.444 212.613 L636.819 212.613 L636.819 216.178 L632.444 216.178 Q627.514 216.178 625.639 214.349 Q623.764 212.497 623.764 207.636 L623.764 193.562 L620.639 193.562 L620.639 190.252 L623.764 190.252 L623.764 182.891 L628.046 182.891 Z\" fill=\"#000000\" fill-rule=\"evenodd\" fill-opacity=\"1\" /><polyline clip-path=\"url(#clip990)\" style=\"stroke:#3da44d; stroke-linecap:round; stroke-linejoin:round; stroke-width:4; stroke-opacity:1; fill:none\" points=\"266.172,250.738 411.747,250.738 \"/>\n",
       "<path clip-path=\"url(#clip990)\" d=\"M452.515 231.999 L452.515 235.541 L448.44 235.541 Q446.149 235.541 445.246 236.467 Q444.366 237.393 444.366 239.8 L444.366 242.092 L451.38 242.092 L451.38 245.402 L444.366 245.402 L444.366 268.018 L440.084 268.018 L440.084 245.402 L436.01 245.402 L436.01 242.092 L440.084 242.092 L440.084 240.286 Q440.084 235.958 442.098 233.99 Q444.112 231.999 448.487 231.999 L452.515 231.999 Z\" fill=\"#000000\" fill-rule=\"evenodd\" fill-opacity=\"1\" /><path clip-path=\"url(#clip990)\" d=\"M456.079 242.092 L460.339 242.092 L460.339 268.018 L456.079 268.018 L456.079 242.092 M456.079 231.999 L460.339 231.999 L460.339 237.393 L456.079 237.393 L456.079 231.999 Z\" fill=\"#000000\" fill-rule=\"evenodd\" fill-opacity=\"1\" /><path clip-path=\"url(#clip990)\" d=\"M473.463 234.731 L473.463 242.092 L482.237 242.092 L482.237 245.402 L473.463 245.402 L473.463 259.476 Q473.463 262.647 474.32 263.55 Q475.2 264.453 477.862 264.453 L482.237 264.453 L482.237 268.018 L477.862 268.018 Q472.931 268.018 471.056 266.189 Q469.181 264.337 469.181 259.476 L469.181 245.402 L466.056 245.402 L466.056 242.092 L469.181 242.092 L469.181 234.731 L473.463 234.731 Z\" fill=\"#000000\" fill-rule=\"evenodd\" fill-opacity=\"1\" /><path clip-path=\"url(#clip990)\" d=\"M507.028 264.129 L507.028 277.879 L502.746 277.879 L502.746 242.092 L507.028 242.092 L507.028 246.027 Q508.371 243.712 510.408 242.601 Q512.468 241.467 515.315 241.467 Q520.037 241.467 522.977 245.217 Q525.94 248.967 525.94 255.078 Q525.94 261.189 522.977 264.939 Q520.037 268.689 515.315 268.689 Q512.468 268.689 510.408 267.578 Q508.371 266.443 507.028 264.129 M521.519 255.078 Q521.519 250.379 519.574 247.717 Q517.653 245.032 514.273 245.032 Q510.894 245.032 508.949 247.717 Q507.028 250.379 507.028 255.078 Q507.028 259.777 508.949 262.462 Q510.894 265.124 514.273 265.124 Q517.653 265.124 519.574 262.462 Q521.519 259.777 521.519 255.078 Z\" fill=\"#000000\" fill-rule=\"evenodd\" fill-opacity=\"1\" /><path clip-path=\"url(#clip990)\" d=\"M533 231.999 L537.259 231.999 L537.259 268.018 L533 268.018 L533 231.999 Z\" fill=\"#000000\" fill-rule=\"evenodd\" fill-opacity=\"1\" /><path clip-path=\"url(#clip990)\" d=\"M556.218 245.078 Q552.792 245.078 550.801 247.763 Q548.81 250.425 548.81 255.078 Q548.81 259.731 550.778 262.416 Q552.769 265.078 556.218 265.078 Q559.62 265.078 561.611 262.393 Q563.602 259.707 563.602 255.078 Q563.602 250.471 561.611 247.786 Q559.62 245.078 556.218 245.078 M556.218 241.467 Q561.773 241.467 564.944 245.078 Q568.116 248.689 568.116 255.078 Q568.116 261.444 564.944 265.078 Q561.773 268.689 556.218 268.689 Q550.639 268.689 547.468 265.078 Q544.32 261.444 544.32 255.078 Q544.32 248.689 547.468 245.078 Q550.639 241.467 556.218 241.467 Z\" fill=\"#000000\" fill-rule=\"evenodd\" fill-opacity=\"1\" /><path clip-path=\"url(#clip990)\" d=\"M579.389 234.731 L579.389 242.092 L588.162 242.092 L588.162 245.402 L579.389 245.402 L579.389 259.476 Q579.389 262.647 580.245 263.55 Q581.125 264.453 583.787 264.453 L588.162 264.453 L588.162 268.018 L583.787 268.018 Q578.856 268.018 576.981 266.189 Q575.106 264.337 575.106 259.476 L575.106 245.402 L571.981 245.402 L571.981 242.092 L575.106 242.092 L575.106 234.731 L579.389 234.731 Z\" fill=\"#000000\" fill-rule=\"evenodd\" fill-opacity=\"1\" /></svg>\n"
      ]
     },
     "execution_count": 6,
     "metadata": {},
     "output_type": "execute_result"
    }
   ],
   "source": [
    "line_fit = fit(x,y_observed,2)\n",
    "fit_coeff = coeffs(line_fit)\n",
    "y_fit = fit_coeff[1] .+ fit_coeff[2] .* x .+ fit_coeff[3] .* x.^2\n",
    "scatter(x,y_observed, label = \"data\")\n",
    "plot!(x, y_true, label = \"true plot\")\n",
    "plot!(x, y_fit, label = \"fit plot\")"
   ]
  },
  {
   "cell_type": "markdown",
   "id": "b3b5a343",
   "metadata": {},
   "source": [
    "### 2.4\n",
    "\n",
    "1. Repeat 2.2 and 2.3 with a noise with a standard deviation of 50"
   ]
  },
  {
   "cell_type": "code",
   "execution_count": 7,
   "id": "b4c08499",
   "metadata": {},
   "outputs": [
    {
     "data": {
      "text/plain": [
       "21-element Vector{Float64}:\n",
       "  35.89309710305052\n",
       "  41.01816578130233\n",
       " -35.652795067443805\n",
       "  39.60429885799179\n",
       " -15.249650754356178\n",
       "  22.58109931126655\n",
       "  20.446172273299393\n",
       "   3.9402044580613333\n",
       "  16.746048552597017\n",
       "   6.2311194204423686\n",
       " 138.28985824425138\n",
       "  16.196323109979957\n",
       " -92.02848901963898\n",
       " -31.830806463249928\n",
       " -13.348277025690237\n",
       "  23.89628834788877\n",
       "  69.62217922036982\n",
       "  78.6404058169946\n",
       " 156.59034473476584\n",
       "  78.27595598702639\n",
       "  16.872106336892173"
      ]
     },
     "execution_count": 7,
     "metadata": {},
     "output_type": "execute_result"
    }
   ],
   "source": [
    "n = Normal(0,50)\n",
    "noise = rand(n, 21)\n",
    "y_observed = y_true + noise"
   ]
  },
  {
   "cell_type": "code",
   "execution_count": 8,
   "id": "bad737b2",
   "metadata": {},
   "outputs": [
    {
     "data": {
      "image/svg+xml": [
       "<?xml version=\"1.0\" encoding=\"utf-8\"?>\n",
       "<svg xmlns=\"http://www.w3.org/2000/svg\" xmlns:xlink=\"http://www.w3.org/1999/xlink\" width=\"600\" height=\"400\" viewBox=\"0 0 2400 1600\">\n",
       "<defs>\n",
       "  <clipPath id=\"clip030\">\n",
       "    <rect x=\"0\" y=\"0\" width=\"2400\" height=\"1600\"/>\n",
       "  </clipPath>\n",
       "</defs>\n",
       "<path clip-path=\"url(#clip030)\" d=\"M0 1600 L2400 1600 L2400 0 L0 0  Z\" fill=\"#ffffff\" fill-rule=\"evenodd\" fill-opacity=\"1\"/>\n",
       "<defs>\n",
       "  <clipPath id=\"clip031\">\n",
       "    <rect x=\"480\" y=\"0\" width=\"1681\" height=\"1600\"/>\n",
       "  </clipPath>\n",
       "</defs>\n",
       "<path clip-path=\"url(#clip030)\" d=\"M178.867 1486.45 L2352.76 1486.45 L2352.76 47.2441 L178.867 47.2441  Z\" fill=\"#ffffff\" fill-rule=\"evenodd\" fill-opacity=\"1\"/>\n",
       "<defs>\n",
       "  <clipPath id=\"clip032\">\n",
       "    <rect x=\"178\" y=\"47\" width=\"2175\" height=\"1440\"/>\n",
       "  </clipPath>\n",
       "</defs>\n",
       "<polyline clip-path=\"url(#clip032)\" style=\"stroke:#000000; stroke-linecap:round; stroke-linejoin:round; stroke-width:2; stroke-opacity:0.1; fill:none\" points=\"240.392,1486.45 240.392,47.2441 \"/>\n",
       "<polyline clip-path=\"url(#clip032)\" style=\"stroke:#000000; stroke-linecap:round; stroke-linejoin:round; stroke-width:2; stroke-opacity:0.1; fill:none\" points=\"753.102,1486.45 753.102,47.2441 \"/>\n",
       "<polyline clip-path=\"url(#clip032)\" style=\"stroke:#000000; stroke-linecap:round; stroke-linejoin:round; stroke-width:2; stroke-opacity:0.1; fill:none\" points=\"1265.81,1486.45 1265.81,47.2441 \"/>\n",
       "<polyline clip-path=\"url(#clip032)\" style=\"stroke:#000000; stroke-linecap:round; stroke-linejoin:round; stroke-width:2; stroke-opacity:0.1; fill:none\" points=\"1778.52,1486.45 1778.52,47.2441 \"/>\n",
       "<polyline clip-path=\"url(#clip032)\" style=\"stroke:#000000; stroke-linecap:round; stroke-linejoin:round; stroke-width:2; stroke-opacity:0.1; fill:none\" points=\"2291.23,1486.45 2291.23,47.2441 \"/>\n",
       "<polyline clip-path=\"url(#clip030)\" style=\"stroke:#000000; stroke-linecap:round; stroke-linejoin:round; stroke-width:4; stroke-opacity:1; fill:none\" points=\"178.867,1486.45 2352.76,1486.45 \"/>\n",
       "<polyline clip-path=\"url(#clip030)\" style=\"stroke:#000000; stroke-linecap:round; stroke-linejoin:round; stroke-width:4; stroke-opacity:1; fill:none\" points=\"240.392,1486.45 240.392,1467.55 \"/>\n",
       "<polyline clip-path=\"url(#clip030)\" style=\"stroke:#000000; stroke-linecap:round; stroke-linejoin:round; stroke-width:4; stroke-opacity:1; fill:none\" points=\"753.102,1486.45 753.102,1467.55 \"/>\n",
       "<polyline clip-path=\"url(#clip030)\" style=\"stroke:#000000; stroke-linecap:round; stroke-linejoin:round; stroke-width:4; stroke-opacity:1; fill:none\" points=\"1265.81,1486.45 1265.81,1467.55 \"/>\n",
       "<polyline clip-path=\"url(#clip030)\" style=\"stroke:#000000; stroke-linecap:round; stroke-linejoin:round; stroke-width:4; stroke-opacity:1; fill:none\" points=\"1778.52,1486.45 1778.52,1467.55 \"/>\n",
       "<polyline clip-path=\"url(#clip030)\" style=\"stroke:#000000; stroke-linecap:round; stroke-linejoin:round; stroke-width:4; stroke-opacity:1; fill:none\" points=\"2291.23,1486.45 2291.23,1467.55 \"/>\n",
       "<path clip-path=\"url(#clip030)\" d=\"M194.455 1532.02 L224.13 1532.02 L224.13 1535.95 L194.455 1535.95 L194.455 1532.02 Z\" fill=\"#000000\" fill-rule=\"evenodd\" fill-opacity=\"1\" /><path clip-path=\"url(#clip030)\" d=\"M235.033 1544.91 L242.672 1544.91 L242.672 1518.55 L234.362 1520.21 L234.362 1515.95 L242.626 1514.29 L247.301 1514.29 L247.301 1544.91 L254.94 1544.91 L254.94 1548.85 L235.033 1548.85 L235.033 1544.91 Z\" fill=\"#000000\" fill-rule=\"evenodd\" fill-opacity=\"1\" /><path clip-path=\"url(#clip030)\" d=\"M274.385 1517.37 Q270.774 1517.37 268.945 1520.93 Q267.139 1524.47 267.139 1531.6 Q267.139 1538.71 268.945 1542.27 Q270.774 1545.82 274.385 1545.82 Q278.019 1545.82 279.824 1542.27 Q281.653 1538.71 281.653 1531.6 Q281.653 1524.47 279.824 1520.93 Q278.019 1517.37 274.385 1517.37 M274.385 1513.66 Q280.195 1513.66 283.25 1518.27 Q286.329 1522.85 286.329 1531.6 Q286.329 1540.33 283.25 1544.94 Q280.195 1549.52 274.385 1549.52 Q268.575 1549.52 265.496 1544.94 Q262.44 1540.33 262.44 1531.6 Q262.44 1522.85 265.496 1518.27 Q268.575 1513.66 274.385 1513.66 Z\" fill=\"#000000\" fill-rule=\"evenodd\" fill-opacity=\"1\" /><path clip-path=\"url(#clip030)\" d=\"M722.743 1532.02 L752.419 1532.02 L752.419 1535.95 L722.743 1535.95 L722.743 1532.02 Z\" fill=\"#000000\" fill-rule=\"evenodd\" fill-opacity=\"1\" /><path clip-path=\"url(#clip030)\" d=\"M762.558 1514.29 L780.914 1514.29 L780.914 1518.22 L766.84 1518.22 L766.84 1526.7 Q767.858 1526.35 768.877 1526.19 Q769.895 1526 770.914 1526 Q776.701 1526 780.081 1529.17 Q783.46 1532.34 783.46 1537.76 Q783.46 1543.34 779.988 1546.44 Q776.516 1549.52 770.196 1549.52 Q768.02 1549.52 765.752 1549.15 Q763.507 1548.78 761.099 1548.04 L761.099 1543.34 Q763.183 1544.47 765.405 1545.03 Q767.627 1545.58 770.104 1545.58 Q774.108 1545.58 776.446 1543.48 Q778.784 1541.37 778.784 1537.76 Q778.784 1534.15 776.446 1532.04 Q774.108 1529.94 770.104 1529.94 Q768.229 1529.94 766.354 1530.35 Q764.502 1530.77 762.558 1531.65 L762.558 1514.29 Z\" fill=\"#000000\" fill-rule=\"evenodd\" fill-opacity=\"1\" /><path clip-path=\"url(#clip030)\" d=\"M1265.81 1517.37 Q1262.2 1517.37 1260.37 1520.93 Q1258.57 1524.47 1258.57 1531.6 Q1258.57 1538.71 1260.37 1542.27 Q1262.2 1545.82 1265.81 1545.82 Q1269.45 1545.82 1271.25 1542.27 Q1273.08 1538.71 1273.08 1531.6 Q1273.08 1524.47 1271.25 1520.93 Q1269.45 1517.37 1265.81 1517.37 M1265.81 1513.66 Q1271.62 1513.66 1274.68 1518.27 Q1277.76 1522.85 1277.76 1531.6 Q1277.76 1540.33 1274.68 1544.94 Q1271.62 1549.52 1265.81 1549.52 Q1260 1549.52 1256.92 1544.94 Q1253.87 1540.33 1253.87 1531.6 Q1253.87 1522.85 1256.92 1518.27 Q1260 1513.66 1265.81 1513.66 Z\" fill=\"#000000\" fill-rule=\"evenodd\" fill-opacity=\"1\" /><path clip-path=\"url(#clip030)\" d=\"M1768.8 1514.29 L1787.16 1514.29 L1787.16 1518.22 L1773.08 1518.22 L1773.08 1526.7 Q1774.1 1526.35 1775.12 1526.19 Q1776.14 1526 1777.16 1526 Q1782.94 1526 1786.32 1529.17 Q1789.7 1532.34 1789.7 1537.76 Q1789.7 1543.34 1786.23 1546.44 Q1782.76 1549.52 1776.44 1549.52 Q1774.26 1549.52 1771.99 1549.15 Q1769.75 1548.78 1767.34 1548.04 L1767.34 1543.34 Q1769.42 1544.47 1771.65 1545.03 Q1773.87 1545.58 1776.35 1545.58 Q1780.35 1545.58 1782.69 1543.48 Q1785.03 1541.37 1785.03 1537.76 Q1785.03 1534.15 1782.69 1532.04 Q1780.35 1529.94 1776.35 1529.94 Q1774.47 1529.94 1772.6 1530.35 Q1770.74 1530.77 1768.8 1531.65 L1768.8 1514.29 Z\" fill=\"#000000\" fill-rule=\"evenodd\" fill-opacity=\"1\" /><path clip-path=\"url(#clip030)\" d=\"M2265.92 1544.91 L2273.56 1544.91 L2273.56 1518.55 L2265.25 1520.21 L2265.25 1515.95 L2273.51 1514.29 L2278.19 1514.29 L2278.19 1544.91 L2285.83 1544.91 L2285.83 1548.85 L2265.92 1548.85 L2265.92 1544.91 Z\" fill=\"#000000\" fill-rule=\"evenodd\" fill-opacity=\"1\" /><path clip-path=\"url(#clip030)\" d=\"M2305.27 1517.37 Q2301.66 1517.37 2299.83 1520.93 Q2298.02 1524.47 2298.02 1531.6 Q2298.02 1538.71 2299.83 1542.27 Q2301.66 1545.82 2305.27 1545.82 Q2308.9 1545.82 2310.71 1542.27 Q2312.54 1538.71 2312.54 1531.6 Q2312.54 1524.47 2310.71 1520.93 Q2308.9 1517.37 2305.27 1517.37 M2305.27 1513.66 Q2311.08 1513.66 2314.14 1518.27 Q2317.21 1522.85 2317.21 1531.6 Q2317.21 1540.33 2314.14 1544.94 Q2311.08 1549.52 2305.27 1549.52 Q2299.46 1549.52 2296.38 1544.94 Q2293.33 1540.33 2293.33 1531.6 Q2293.33 1522.85 2296.38 1518.27 Q2299.46 1513.66 2305.27 1513.66 Z\" fill=\"#000000\" fill-rule=\"evenodd\" fill-opacity=\"1\" /><polyline clip-path=\"url(#clip032)\" style=\"stroke:#000000; stroke-linecap:round; stroke-linejoin:round; stroke-width:2; stroke-opacity:0.1; fill:none\" points=\"178.867,1216.19 2352.76,1216.19 \"/>\n",
       "<polyline clip-path=\"url(#clip032)\" style=\"stroke:#000000; stroke-linecap:round; stroke-linejoin:round; stroke-width:2; stroke-opacity:0.1; fill:none\" points=\"178.867,943.136 2352.76,943.136 \"/>\n",
       "<polyline clip-path=\"url(#clip032)\" style=\"stroke:#000000; stroke-linecap:round; stroke-linejoin:round; stroke-width:2; stroke-opacity:0.1; fill:none\" points=\"178.867,670.08 2352.76,670.08 \"/>\n",
       "<polyline clip-path=\"url(#clip032)\" style=\"stroke:#000000; stroke-linecap:round; stroke-linejoin:round; stroke-width:2; stroke-opacity:0.1; fill:none\" points=\"178.867,397.023 2352.76,397.023 \"/>\n",
       "<polyline clip-path=\"url(#clip032)\" style=\"stroke:#000000; stroke-linecap:round; stroke-linejoin:round; stroke-width:2; stroke-opacity:0.1; fill:none\" points=\"178.867,123.967 2352.76,123.967 \"/>\n",
       "<polyline clip-path=\"url(#clip030)\" style=\"stroke:#000000; stroke-linecap:round; stroke-linejoin:round; stroke-width:4; stroke-opacity:1; fill:none\" points=\"178.867,1486.45 178.867,47.2441 \"/>\n",
       "<polyline clip-path=\"url(#clip030)\" style=\"stroke:#000000; stroke-linecap:round; stroke-linejoin:round; stroke-width:4; stroke-opacity:1; fill:none\" points=\"178.867,1216.19 197.764,1216.19 \"/>\n",
       "<polyline clip-path=\"url(#clip030)\" style=\"stroke:#000000; stroke-linecap:round; stroke-linejoin:round; stroke-width:4; stroke-opacity:1; fill:none\" points=\"178.867,943.136 197.764,943.136 \"/>\n",
       "<polyline clip-path=\"url(#clip030)\" style=\"stroke:#000000; stroke-linecap:round; stroke-linejoin:round; stroke-width:4; stroke-opacity:1; fill:none\" points=\"178.867,670.08 197.764,670.08 \"/>\n",
       "<polyline clip-path=\"url(#clip030)\" style=\"stroke:#000000; stroke-linecap:round; stroke-linejoin:round; stroke-width:4; stroke-opacity:1; fill:none\" points=\"178.867,397.023 197.764,397.023 \"/>\n",
       "<polyline clip-path=\"url(#clip030)\" style=\"stroke:#000000; stroke-linecap:round; stroke-linejoin:round; stroke-width:4; stroke-opacity:1; fill:none\" points=\"178.867,123.967 197.764,123.967 \"/>\n",
       "<path clip-path=\"url(#clip030)\" d=\"M50.9921 1216.64 L80.6679 1216.64 L80.6679 1220.58 L50.9921 1220.58 L50.9921 1216.64 Z\" fill=\"#000000\" fill-rule=\"evenodd\" fill-opacity=\"1\" /><path clip-path=\"url(#clip030)\" d=\"M90.8067 1198.91 L109.163 1198.91 L109.163 1202.85 L95.0891 1202.85 L95.0891 1211.32 Q96.1076 1210.97 97.1261 1210.81 Q98.1447 1210.63 99.1632 1210.63 Q104.95 1210.63 108.33 1213.8 Q111.709 1216.97 111.709 1222.38 Q111.709 1227.96 108.237 1231.07 Q104.765 1234.14 98.4456 1234.14 Q96.2697 1234.14 94.0012 1233.77 Q91.7558 1233.4 89.3484 1232.66 L89.3484 1227.96 Q91.4317 1229.1 93.6539 1229.65 Q95.8761 1230.21 98.353 1230.21 Q102.358 1230.21 104.696 1228.1 Q107.033 1226 107.033 1222.38 Q107.033 1218.77 104.696 1216.67 Q102.358 1214.56 98.353 1214.56 Q96.478 1214.56 94.603 1214.98 Q92.7512 1215.39 90.8067 1216.27 L90.8067 1198.91 Z\" fill=\"#000000\" fill-rule=\"evenodd\" fill-opacity=\"1\" /><path clip-path=\"url(#clip030)\" d=\"M130.922 1201.99 Q127.311 1201.99 125.482 1205.56 Q123.677 1209.1 123.677 1216.23 Q123.677 1223.33 125.482 1226.9 Q127.311 1230.44 130.922 1230.44 Q134.556 1230.44 136.362 1226.9 Q138.191 1223.33 138.191 1216.23 Q138.191 1209.1 136.362 1205.56 Q134.556 1201.99 130.922 1201.99 M130.922 1198.29 Q136.732 1198.29 139.788 1202.89 Q142.867 1207.48 142.867 1216.23 Q142.867 1224.95 139.788 1229.56 Q136.732 1234.14 130.922 1234.14 Q125.112 1234.14 122.033 1229.56 Q118.978 1224.95 118.978 1216.23 Q118.978 1207.48 122.033 1202.89 Q125.112 1198.29 130.922 1198.29 Z\" fill=\"#000000\" fill-rule=\"evenodd\" fill-opacity=\"1\" /><path clip-path=\"url(#clip030)\" d=\"M130.922 928.935 Q127.311 928.935 125.482 932.5 Q123.677 936.041 123.677 943.171 Q123.677 950.277 125.482 953.842 Q127.311 957.384 130.922 957.384 Q134.556 957.384 136.362 953.842 Q138.191 950.277 138.191 943.171 Q138.191 936.041 136.362 932.5 Q134.556 928.935 130.922 928.935 M130.922 925.231 Q136.732 925.231 139.788 929.838 Q142.867 934.421 142.867 943.171 Q142.867 951.898 139.788 956.504 Q136.732 961.088 130.922 961.088 Q125.112 961.088 122.033 956.504 Q118.978 951.898 118.978 943.171 Q118.978 934.421 122.033 929.838 Q125.112 925.231 130.922 925.231 Z\" fill=\"#000000\" fill-rule=\"evenodd\" fill-opacity=\"1\" /><path clip-path=\"url(#clip030)\" d=\"M90.8067 652.8 L109.163 652.8 L109.163 656.735 L95.0891 656.735 L95.0891 665.207 Q96.1076 664.86 97.1261 664.698 Q98.1447 664.513 99.1632 664.513 Q104.95 664.513 108.33 667.684 Q111.709 670.855 111.709 676.272 Q111.709 681.851 108.237 684.952 Q104.765 688.031 98.4456 688.031 Q96.2697 688.031 94.0012 687.661 Q91.7558 687.29 89.3484 686.55 L89.3484 681.851 Q91.4317 682.985 93.6539 683.54 Q95.8761 684.096 98.353 684.096 Q102.358 684.096 104.696 681.99 Q107.033 679.883 107.033 676.272 Q107.033 672.661 104.696 670.554 Q102.358 668.448 98.353 668.448 Q96.478 668.448 94.603 668.865 Q92.7512 669.281 90.8067 670.161 L90.8067 652.8 Z\" fill=\"#000000\" fill-rule=\"evenodd\" fill-opacity=\"1\" /><path clip-path=\"url(#clip030)\" d=\"M130.922 655.879 Q127.311 655.879 125.482 659.443 Q123.677 662.985 123.677 670.115 Q123.677 677.221 125.482 680.786 Q127.311 684.327 130.922 684.327 Q134.556 684.327 136.362 680.786 Q138.191 677.221 138.191 670.115 Q138.191 662.985 136.362 659.443 Q134.556 655.879 130.922 655.879 M130.922 652.175 Q136.732 652.175 139.788 656.781 Q142.867 661.365 142.867 670.115 Q142.867 678.841 139.788 683.448 Q136.732 688.031 130.922 688.031 Q125.112 688.031 122.033 683.448 Q118.978 678.841 118.978 670.115 Q118.978 661.365 122.033 656.781 Q125.112 652.175 130.922 652.175 Z\" fill=\"#000000\" fill-rule=\"evenodd\" fill-opacity=\"1\" /><path clip-path=\"url(#clip030)\" d=\"M61.4087 410.368 L69.0476 410.368 L69.0476 384.003 L60.7374 385.669 L60.7374 381.41 L69.0013 379.743 L73.6772 379.743 L73.6772 410.368 L81.316 410.368 L81.316 414.303 L61.4087 414.303 L61.4087 410.368 Z\" fill=\"#000000\" fill-rule=\"evenodd\" fill-opacity=\"1\" /><path clip-path=\"url(#clip030)\" d=\"M100.76 382.822 Q97.1493 382.822 95.3206 386.387 Q93.515 389.929 93.515 397.058 Q93.515 404.165 95.3206 407.729 Q97.1493 411.271 100.76 411.271 Q104.395 411.271 106.2 407.729 Q108.029 404.165 108.029 397.058 Q108.029 389.929 106.2 386.387 Q104.395 382.822 100.76 382.822 M100.76 379.118 Q106.571 379.118 109.626 383.725 Q112.705 388.308 112.705 397.058 Q112.705 405.785 109.626 410.391 Q106.571 414.975 100.76 414.975 Q94.9502 414.975 91.8715 410.391 Q88.816 405.785 88.816 397.058 Q88.816 388.308 91.8715 383.725 Q94.9502 379.118 100.76 379.118 Z\" fill=\"#000000\" fill-rule=\"evenodd\" fill-opacity=\"1\" /><path clip-path=\"url(#clip030)\" d=\"M130.922 382.822 Q127.311 382.822 125.482 386.387 Q123.677 389.929 123.677 397.058 Q123.677 404.165 125.482 407.729 Q127.311 411.271 130.922 411.271 Q134.556 411.271 136.362 407.729 Q138.191 404.165 138.191 397.058 Q138.191 389.929 136.362 386.387 Q134.556 382.822 130.922 382.822 M130.922 379.118 Q136.732 379.118 139.788 383.725 Q142.867 388.308 142.867 397.058 Q142.867 405.785 139.788 410.391 Q136.732 414.975 130.922 414.975 Q125.112 414.975 122.033 410.391 Q118.978 405.785 118.978 397.058 Q118.978 388.308 122.033 383.725 Q125.112 379.118 130.922 379.118 Z\" fill=\"#000000\" fill-rule=\"evenodd\" fill-opacity=\"1\" /><path clip-path=\"url(#clip030)\" d=\"M61.4087 137.312 L69.0476 137.312 L69.0476 110.946 L60.7374 112.613 L60.7374 108.354 L69.0013 106.687 L73.6772 106.687 L73.6772 137.312 L81.316 137.312 L81.316 141.247 L61.4087 141.247 L61.4087 137.312 Z\" fill=\"#000000\" fill-rule=\"evenodd\" fill-opacity=\"1\" /><path clip-path=\"url(#clip030)\" d=\"M90.8067 106.687 L109.163 106.687 L109.163 110.622 L95.0891 110.622 L95.0891 119.094 Q96.1076 118.747 97.1261 118.585 Q98.1447 118.4 99.1632 118.4 Q104.95 118.4 108.33 121.571 Q111.709 124.742 111.709 130.159 Q111.709 135.738 108.237 138.84 Q104.765 141.918 98.4456 141.918 Q96.2697 141.918 94.0012 141.548 Q91.7558 141.178 89.3484 140.437 L89.3484 135.738 Q91.4317 136.872 93.6539 137.428 Q95.8761 137.983 98.353 137.983 Q102.358 137.983 104.696 135.877 Q107.033 133.77 107.033 130.159 Q107.033 126.548 104.696 124.442 Q102.358 122.335 98.353 122.335 Q96.478 122.335 94.603 122.752 Q92.7512 123.168 90.8067 124.048 L90.8067 106.687 Z\" fill=\"#000000\" fill-rule=\"evenodd\" fill-opacity=\"1\" /><path clip-path=\"url(#clip030)\" d=\"M130.922 109.766 Q127.311 109.766 125.482 113.33 Q123.677 116.872 123.677 124.002 Q123.677 131.108 125.482 134.673 Q127.311 138.215 130.922 138.215 Q134.556 138.215 136.362 134.673 Q138.191 131.108 138.191 124.002 Q138.191 116.872 136.362 113.33 Q134.556 109.766 130.922 109.766 M130.922 106.062 Q136.732 106.062 139.788 110.668 Q142.867 115.252 142.867 124.002 Q142.867 132.729 139.788 137.335 Q136.732 141.918 130.922 141.918 Q125.112 141.918 122.033 137.335 Q118.978 132.729 118.978 124.002 Q118.978 115.252 122.033 110.668 Q125.112 106.062 130.922 106.062 Z\" fill=\"#000000\" fill-rule=\"evenodd\" fill-opacity=\"1\" /><circle clip-path=\"url(#clip032)\" cx=\"240.392\" cy=\"747.119\" r=\"14.4\" fill=\"#009af9\" fill-rule=\"evenodd\" fill-opacity=\"1\" stroke=\"#000000\" stroke-opacity=\"1\" stroke-width=\"3.2\"/>\n",
       "<circle clip-path=\"url(#clip032)\" cx=\"342.934\" cy=\"719.131\" r=\"14.4\" fill=\"#009af9\" fill-rule=\"evenodd\" fill-opacity=\"1\" stroke=\"#000000\" stroke-opacity=\"1\" stroke-width=\"3.2\"/>\n",
       "<circle clip-path=\"url(#clip032)\" cx=\"445.476\" cy=\"1137.84\" r=\"14.4\" fill=\"#009af9\" fill-rule=\"evenodd\" fill-opacity=\"1\" stroke=\"#000000\" stroke-opacity=\"1\" stroke-width=\"3.2\"/>\n",
       "<circle clip-path=\"url(#clip032)\" cx=\"548.018\" cy=\"726.852\" r=\"14.4\" fill=\"#009af9\" fill-rule=\"evenodd\" fill-opacity=\"1\" stroke=\"#000000\" stroke-opacity=\"1\" stroke-width=\"3.2\"/>\n",
       "<circle clip-path=\"url(#clip032)\" cx=\"650.56\" cy=\"1026.42\" r=\"14.4\" fill=\"#009af9\" fill-rule=\"evenodd\" fill-opacity=\"1\" stroke=\"#000000\" stroke-opacity=\"1\" stroke-width=\"3.2\"/>\n",
       "<circle clip-path=\"url(#clip032)\" cx=\"753.102\" cy=\"819.818\" r=\"14.4\" fill=\"#009af9\" fill-rule=\"evenodd\" fill-opacity=\"1\" stroke=\"#000000\" stroke-opacity=\"1\" stroke-width=\"3.2\"/>\n",
       "<circle clip-path=\"url(#clip032)\" cx=\"855.643\" cy=\"831.477\" r=\"14.4\" fill=\"#009af9\" fill-rule=\"evenodd\" fill-opacity=\"1\" stroke=\"#000000\" stroke-opacity=\"1\" stroke-width=\"3.2\"/>\n",
       "<circle clip-path=\"url(#clip032)\" cx=\"958.185\" cy=\"921.618\" r=\"14.4\" fill=\"#009af9\" fill-rule=\"evenodd\" fill-opacity=\"1\" stroke=\"#000000\" stroke-opacity=\"1\" stroke-width=\"3.2\"/>\n",
       "<circle clip-path=\"url(#clip032)\" cx=\"1060.73\" cy=\"851.684\" r=\"14.4\" fill=\"#009af9\" fill-rule=\"evenodd\" fill-opacity=\"1\" stroke=\"#000000\" stroke-opacity=\"1\" stroke-width=\"3.2\"/>\n",
       "<circle clip-path=\"url(#clip032)\" cx=\"1163.27\" cy=\"909.107\" r=\"14.4\" fill=\"#009af9\" fill-rule=\"evenodd\" fill-opacity=\"1\" stroke=\"#000000\" stroke-opacity=\"1\" stroke-width=\"3.2\"/>\n",
       "<circle clip-path=\"url(#clip032)\" cx=\"1265.81\" cy=\"187.918\" r=\"14.4\" fill=\"#009af9\" fill-rule=\"evenodd\" fill-opacity=\"1\" stroke=\"#000000\" stroke-opacity=\"1\" stroke-width=\"3.2\"/>\n",
       "<circle clip-path=\"url(#clip032)\" cx=\"1368.35\" cy=\"854.686\" r=\"14.4\" fill=\"#009af9\" fill-rule=\"evenodd\" fill-opacity=\"1\" stroke=\"#000000\" stroke-opacity=\"1\" stroke-width=\"3.2\"/>\n",
       "<circle clip-path=\"url(#clip032)\" cx=\"1470.9\" cy=\"1445.72\" r=\"14.4\" fill=\"#009af9\" fill-rule=\"evenodd\" fill-opacity=\"1\" stroke=\"#000000\" stroke-opacity=\"1\" stroke-width=\"3.2\"/>\n",
       "<circle clip-path=\"url(#clip032)\" cx=\"1573.44\" cy=\"1116.97\" r=\"14.4\" fill=\"#009af9\" fill-rule=\"evenodd\" fill-opacity=\"1\" stroke=\"#000000\" stroke-opacity=\"1\" stroke-width=\"3.2\"/>\n",
       "<circle clip-path=\"url(#clip032)\" cx=\"1675.98\" cy=\"1016.03\" r=\"14.4\" fill=\"#009af9\" fill-rule=\"evenodd\" fill-opacity=\"1\" stroke=\"#000000\" stroke-opacity=\"1\" stroke-width=\"3.2\"/>\n",
       "<circle clip-path=\"url(#clip032)\" cx=\"1778.52\" cy=\"812.636\" r=\"14.4\" fill=\"#009af9\" fill-rule=\"evenodd\" fill-opacity=\"1\" stroke=\"#000000\" stroke-opacity=\"1\" stroke-width=\"3.2\"/>\n",
       "<circle clip-path=\"url(#clip032)\" cx=\"1881.06\" cy=\"562.921\" r=\"14.4\" fill=\"#009af9\" fill-rule=\"evenodd\" fill-opacity=\"1\" stroke=\"#000000\" stroke-opacity=\"1\" stroke-width=\"3.2\"/>\n",
       "<circle clip-path=\"url(#clip032)\" cx=\"1983.6\" cy=\"513.671\" r=\"14.4\" fill=\"#009af9\" fill-rule=\"evenodd\" fill-opacity=\"1\" stroke=\"#000000\" stroke-opacity=\"1\" stroke-width=\"3.2\"/>\n",
       "<circle clip-path=\"url(#clip032)\" cx=\"2086.15\" cy=\"87.9763\" r=\"14.4\" fill=\"#009af9\" fill-rule=\"evenodd\" fill-opacity=\"1\" stroke=\"#000000\" stroke-opacity=\"1\" stroke-width=\"3.2\"/>\n",
       "<circle clip-path=\"url(#clip032)\" cx=\"2188.69\" cy=\"515.661\" r=\"14.4\" fill=\"#009af9\" fill-rule=\"evenodd\" fill-opacity=\"1\" stroke=\"#000000\" stroke-opacity=\"1\" stroke-width=\"3.2\"/>\n",
       "<circle clip-path=\"url(#clip032)\" cx=\"2291.23\" cy=\"850.996\" r=\"14.4\" fill=\"#009af9\" fill-rule=\"evenodd\" fill-opacity=\"1\" stroke=\"#000000\" stroke-opacity=\"1\" stroke-width=\"3.2\"/>\n",
       "<polyline clip-path=\"url(#clip032)\" style=\"stroke:#e26f46; stroke-linecap:round; stroke-linejoin:round; stroke-width:4; stroke-opacity:1; fill:none\" points=\"240.392,571.78 342.934,659.158 445.476,735.613 548.018,801.147 650.56,855.758 753.102,899.447 855.643,932.214 958.185,954.059 1060.73,964.981 1163.27,964.981 1265.81,954.059 1368.35,932.214 1470.9,899.447 1573.44,855.758 1675.98,801.147 1778.52,735.613 1881.06,659.158 1983.6,571.78 2086.15,473.479 2188.69,364.257 2291.23,244.112 \"/>\n",
       "<polyline clip-path=\"url(#clip032)\" style=\"stroke:#3da44d; stroke-linecap:round; stroke-linejoin:round; stroke-width:4; stroke-opacity:1; fill:none\" points=\"240.392,781.926 342.934,813.977 445.476,841.144 548.018,863.428 650.56,880.829 753.102,893.346 855.643,900.98 958.185,903.731 1060.73,901.598 1163.27,894.582 1265.81,882.682 1368.35,865.9 1470.9,844.234 1573.44,817.684 1675.98,786.251 1778.52,749.935 1881.06,708.736 1983.6,662.653 2086.15,611.687 2188.69,555.838 2291.23,495.105 \"/>\n",
       "<path clip-path=\"url(#clip030)\" d=\"M251.33 302.578 L669.528 302.578 L669.528 95.2176 L251.33 95.2176  Z\" fill=\"#ffffff\" fill-rule=\"evenodd\" fill-opacity=\"1\"/>\n",
       "<polyline clip-path=\"url(#clip030)\" style=\"stroke:#000000; stroke-linecap:round; stroke-linejoin:round; stroke-width:4; stroke-opacity:1; fill:none\" points=\"251.33,302.578 669.528,302.578 669.528,95.2176 251.33,95.2176 251.33,302.578 \"/>\n",
       "<circle clip-path=\"url(#clip030)\" cx=\"347.947\" cy=\"147.058\" r=\"23.04\" fill=\"#009af9\" fill-rule=\"evenodd\" fill-opacity=\"1\" stroke=\"#000000\" stroke-opacity=\"1\" stroke-width=\"5.12\"/>\n",
       "<path clip-path=\"url(#clip030)\" d=\"M463.476 142.347 L463.476 128.319 L467.735 128.319 L467.735 164.338 L463.476 164.338 L463.476 160.449 Q462.134 162.763 460.073 163.898 Q458.036 165.009 455.166 165.009 Q450.467 165.009 447.504 161.259 Q444.564 157.509 444.564 151.398 Q444.564 145.287 447.504 141.537 Q450.467 137.787 455.166 137.787 Q458.036 137.787 460.073 138.921 Q462.134 140.032 463.476 142.347 M448.962 151.398 Q448.962 156.097 450.884 158.782 Q452.828 161.444 456.208 161.444 Q459.587 161.444 461.532 158.782 Q463.476 156.097 463.476 151.398 Q463.476 146.699 461.532 144.037 Q459.587 141.352 456.208 141.352 Q452.828 141.352 450.884 144.037 Q448.962 146.699 448.962 151.398 Z\" fill=\"#000000\" fill-rule=\"evenodd\" fill-opacity=\"1\" /><path clip-path=\"url(#clip030)\" d=\"M488.291 151.305 Q483.129 151.305 481.138 152.486 Q479.147 153.666 479.147 156.514 Q479.147 158.782 480.629 160.125 Q482.133 161.444 484.703 161.444 Q488.245 161.444 490.374 158.944 Q492.527 156.421 492.527 152.254 L492.527 151.305 L488.291 151.305 M496.786 149.546 L496.786 164.338 L492.527 164.338 L492.527 160.402 Q491.069 162.763 488.893 163.898 Q486.717 165.009 483.569 165.009 Q479.587 165.009 477.226 162.787 Q474.888 160.541 474.888 156.791 Q474.888 152.416 477.805 150.194 Q480.745 147.972 486.555 147.972 L492.527 147.972 L492.527 147.555 Q492.527 144.615 490.582 143.018 Q488.661 141.398 485.166 141.398 Q482.944 141.398 480.837 141.93 Q478.731 142.463 476.786 143.527 L476.786 139.592 Q479.124 138.69 481.323 138.25 Q483.522 137.787 485.606 137.787 Q491.231 137.787 494.008 140.703 Q496.786 143.62 496.786 149.546 Z\" fill=\"#000000\" fill-rule=\"evenodd\" fill-opacity=\"1\" /><path clip-path=\"url(#clip030)\" d=\"M509.772 131.051 L509.772 138.412 L518.545 138.412 L518.545 141.722 L509.772 141.722 L509.772 155.796 Q509.772 158.967 510.629 159.87 Q511.508 160.773 514.17 160.773 L518.545 160.773 L518.545 164.338 L514.17 164.338 Q509.24 164.338 507.365 162.509 Q505.49 160.657 505.49 155.796 L505.49 141.722 L502.365 141.722 L502.365 138.412 L505.49 138.412 L505.49 131.051 L509.772 131.051 Z\" fill=\"#000000\" fill-rule=\"evenodd\" fill-opacity=\"1\" /><path clip-path=\"url(#clip030)\" d=\"M535.929 151.305 Q530.767 151.305 528.777 152.486 Q526.786 153.666 526.786 156.514 Q526.786 158.782 528.267 160.125 Q529.772 161.444 532.342 161.444 Q535.883 161.444 538.013 158.944 Q540.166 156.421 540.166 152.254 L540.166 151.305 L535.929 151.305 M544.425 149.546 L544.425 164.338 L540.166 164.338 L540.166 160.402 Q538.707 162.763 536.531 163.898 Q534.355 165.009 531.207 165.009 Q527.226 165.009 524.865 162.787 Q522.527 160.541 522.527 156.791 Q522.527 152.416 525.443 150.194 Q528.383 147.972 534.193 147.972 L540.166 147.972 L540.166 147.555 Q540.166 144.615 538.221 143.018 Q536.3 141.398 532.804 141.398 Q530.582 141.398 528.476 141.93 Q526.369 142.463 524.425 143.527 L524.425 139.592 Q526.763 138.69 528.962 138.25 Q531.161 137.787 533.244 137.787 Q538.869 137.787 541.647 140.703 Q544.425 143.62 544.425 149.546 Z\" fill=\"#000000\" fill-rule=\"evenodd\" fill-opacity=\"1\" /><polyline clip-path=\"url(#clip030)\" style=\"stroke:#e26f46; stroke-linecap:round; stroke-linejoin:round; stroke-width:4; stroke-opacity:1; fill:none\" points=\"275.484,198.898 420.41,198.898 \"/>\n",
       "<path clip-path=\"url(#clip030)\" d=\"M451.972 182.891 L451.972 190.252 L460.745 190.252 L460.745 193.562 L451.972 193.562 L451.972 207.636 Q451.972 210.807 452.828 211.71 Q453.708 212.613 456.37 212.613 L460.745 212.613 L460.745 216.178 L456.37 216.178 Q451.439 216.178 449.564 214.349 Q447.689 212.497 447.689 207.636 L447.689 193.562 L444.564 193.562 L444.564 190.252 L447.689 190.252 L447.689 182.891 L451.972 182.891 Z\" fill=\"#000000\" fill-rule=\"evenodd\" fill-opacity=\"1\" /><path clip-path=\"url(#clip030)\" d=\"M481.37 194.233 Q480.652 193.817 479.796 193.631 Q478.962 193.423 477.944 193.423 Q474.333 193.423 472.388 195.784 Q470.467 198.122 470.467 202.52 L470.467 216.178 L466.184 216.178 L466.184 190.252 L470.467 190.252 L470.467 194.28 Q471.809 191.918 473.962 190.784 Q476.115 189.627 479.194 189.627 Q479.633 189.627 480.166 189.696 Q480.698 189.743 481.346 189.858 L481.37 194.233 Z\" fill=\"#000000\" fill-rule=\"evenodd\" fill-opacity=\"1\" /><path clip-path=\"url(#clip030)\" d=\"M485.397 205.946 L485.397 190.252 L489.657 190.252 L489.657 205.784 Q489.657 209.465 491.092 211.316 Q492.527 213.145 495.397 213.145 Q498.846 213.145 500.837 210.946 Q502.851 208.747 502.851 204.951 L502.851 190.252 L507.11 190.252 L507.11 216.178 L502.851 216.178 L502.851 212.196 Q501.3 214.557 499.24 215.715 Q497.203 216.849 494.494 216.849 Q490.027 216.849 487.712 214.071 Q485.397 211.293 485.397 205.946 M496.115 189.627 L496.115 189.627 Z\" fill=\"#000000\" fill-rule=\"evenodd\" fill-opacity=\"1\" /><path clip-path=\"url(#clip030)\" d=\"M538.059 202.15 L538.059 204.233 L518.476 204.233 Q518.754 208.631 521.115 210.946 Q523.499 213.238 527.735 213.238 Q530.189 213.238 532.48 212.636 Q534.795 212.034 537.064 210.83 L537.064 214.858 Q534.772 215.83 532.365 216.34 Q529.957 216.849 527.48 216.849 Q521.277 216.849 517.643 213.238 Q514.031 209.627 514.031 203.469 Q514.031 197.104 517.457 193.377 Q520.906 189.627 526.74 189.627 Q531.971 189.627 535.004 193.006 Q538.059 196.363 538.059 202.15 M533.8 200.9 Q533.754 197.405 531.832 195.321 Q529.934 193.238 526.786 193.238 Q523.221 193.238 521.068 195.252 Q518.939 197.266 518.615 200.923 L533.8 200.9 Z\" fill=\"#000000\" fill-rule=\"evenodd\" fill-opacity=\"1\" /><path clip-path=\"url(#clip030)\" d=\"M564.239 212.289 L564.239 226.039 L559.957 226.039 L559.957 190.252 L564.239 190.252 L564.239 194.187 Q565.582 191.872 567.619 190.761 Q569.679 189.627 572.526 189.627 Q577.249 189.627 580.188 193.377 Q583.151 197.127 583.151 203.238 Q583.151 209.349 580.188 213.099 Q577.249 216.849 572.526 216.849 Q569.679 216.849 567.619 215.738 Q565.582 214.603 564.239 212.289 M578.73 203.238 Q578.73 198.539 576.786 195.877 Q574.864 193.192 571.485 193.192 Q568.105 193.192 566.161 195.877 Q564.239 198.539 564.239 203.238 Q564.239 207.937 566.161 210.622 Q568.105 213.284 571.485 213.284 Q574.864 213.284 576.786 210.622 Q578.73 207.937 578.73 203.238 Z\" fill=\"#000000\" fill-rule=\"evenodd\" fill-opacity=\"1\" /><path clip-path=\"url(#clip030)\" d=\"M590.212 180.159 L594.471 180.159 L594.471 216.178 L590.212 216.178 L590.212 180.159 Z\" fill=\"#000000\" fill-rule=\"evenodd\" fill-opacity=\"1\" /><path clip-path=\"url(#clip030)\" d=\"M613.429 193.238 Q610.003 193.238 608.012 195.923 Q606.022 198.585 606.022 203.238 Q606.022 207.891 607.989 210.576 Q609.98 213.238 613.429 213.238 Q616.832 213.238 618.823 210.553 Q620.813 207.867 620.813 203.238 Q620.813 198.631 618.823 195.946 Q616.832 193.238 613.429 193.238 M613.429 189.627 Q618.985 189.627 622.156 193.238 Q625.327 196.849 625.327 203.238 Q625.327 209.604 622.156 213.238 Q618.985 216.849 613.429 216.849 Q607.85 216.849 604.679 213.238 Q601.531 209.604 601.531 203.238 Q601.531 196.849 604.679 193.238 Q607.85 189.627 613.429 189.627 Z\" fill=\"#000000\" fill-rule=\"evenodd\" fill-opacity=\"1\" /><path clip-path=\"url(#clip030)\" d=\"M636.6 182.891 L636.6 190.252 L645.373 190.252 L645.373 193.562 L636.6 193.562 L636.6 207.636 Q636.6 210.807 637.457 211.71 Q638.336 212.613 640.998 212.613 L645.373 212.613 L645.373 216.178 L640.998 216.178 Q636.068 216.178 634.193 214.349 Q632.318 212.497 632.318 207.636 L632.318 193.562 L629.193 193.562 L629.193 190.252 L632.318 190.252 L632.318 182.891 L636.6 182.891 Z\" fill=\"#000000\" fill-rule=\"evenodd\" fill-opacity=\"1\" /><polyline clip-path=\"url(#clip030)\" style=\"stroke:#3da44d; stroke-linecap:round; stroke-linejoin:round; stroke-width:4; stroke-opacity:1; fill:none\" points=\"275.484,250.738 420.41,250.738 \"/>\n",
       "<path clip-path=\"url(#clip030)\" d=\"M461.069 231.999 L461.069 235.541 L456.995 235.541 Q454.703 235.541 453.8 236.467 Q452.921 237.393 452.921 239.8 L452.921 242.092 L459.934 242.092 L459.934 245.402 L452.921 245.402 L452.921 268.018 L448.638 268.018 L448.638 245.402 L444.564 245.402 L444.564 242.092 L448.638 242.092 L448.638 240.286 Q448.638 235.958 450.652 233.99 Q452.666 231.999 457.041 231.999 L461.069 231.999 Z\" fill=\"#000000\" fill-rule=\"evenodd\" fill-opacity=\"1\" /><path clip-path=\"url(#clip030)\" d=\"M464.634 242.092 L468.893 242.092 L468.893 268.018 L464.634 268.018 L464.634 242.092 M464.634 231.999 L468.893 231.999 L468.893 237.393 L464.634 237.393 L464.634 231.999 Z\" fill=\"#000000\" fill-rule=\"evenodd\" fill-opacity=\"1\" /><path clip-path=\"url(#clip030)\" d=\"M482.018 234.731 L482.018 242.092 L490.791 242.092 L490.791 245.402 L482.018 245.402 L482.018 259.476 Q482.018 262.647 482.874 263.55 Q483.754 264.453 486.416 264.453 L490.791 264.453 L490.791 268.018 L486.416 268.018 Q481.485 268.018 479.61 266.189 Q477.735 264.337 477.735 259.476 L477.735 245.402 L474.61 245.402 L474.61 242.092 L477.735 242.092 L477.735 234.731 L482.018 234.731 Z\" fill=\"#000000\" fill-rule=\"evenodd\" fill-opacity=\"1\" /><path clip-path=\"url(#clip030)\" d=\"M515.582 264.129 L515.582 277.879 L511.3 277.879 L511.3 242.092 L515.582 242.092 L515.582 246.027 Q516.925 243.712 518.962 242.601 Q521.022 241.467 523.869 241.467 Q528.592 241.467 531.531 245.217 Q534.494 248.967 534.494 255.078 Q534.494 261.189 531.531 264.939 Q528.592 268.689 523.869 268.689 Q521.022 268.689 518.962 267.578 Q516.925 266.443 515.582 264.129 M530.073 255.078 Q530.073 250.379 528.129 247.717 Q526.207 245.032 522.828 245.032 Q519.448 245.032 517.504 247.717 Q515.582 250.379 515.582 255.078 Q515.582 259.777 517.504 262.462 Q519.448 265.124 522.828 265.124 Q526.207 265.124 528.129 262.462 Q530.073 259.777 530.073 255.078 Z\" fill=\"#000000\" fill-rule=\"evenodd\" fill-opacity=\"1\" /><path clip-path=\"url(#clip030)\" d=\"M541.554 231.999 L545.814 231.999 L545.814 268.018 L541.554 268.018 L541.554 231.999 Z\" fill=\"#000000\" fill-rule=\"evenodd\" fill-opacity=\"1\" /><path clip-path=\"url(#clip030)\" d=\"M564.772 245.078 Q561.346 245.078 559.355 247.763 Q557.365 250.425 557.365 255.078 Q557.365 259.731 559.332 262.416 Q561.323 265.078 564.772 265.078 Q568.175 265.078 570.165 262.393 Q572.156 259.707 572.156 255.078 Q572.156 250.471 570.165 247.786 Q568.175 245.078 564.772 245.078 M564.772 241.467 Q570.327 241.467 573.499 245.078 Q576.67 248.689 576.67 255.078 Q576.67 261.444 573.499 265.078 Q570.327 268.689 564.772 268.689 Q559.193 268.689 556.022 265.078 Q552.874 261.444 552.874 255.078 Q552.874 248.689 556.022 245.078 Q559.193 241.467 564.772 241.467 Z\" fill=\"#000000\" fill-rule=\"evenodd\" fill-opacity=\"1\" /><path clip-path=\"url(#clip030)\" d=\"M587.943 234.731 L587.943 242.092 L596.716 242.092 L596.716 245.402 L587.943 245.402 L587.943 259.476 Q587.943 262.647 588.8 263.55 Q589.679 264.453 592.341 264.453 L596.716 264.453 L596.716 268.018 L592.341 268.018 Q587.411 268.018 585.536 266.189 Q583.661 264.337 583.661 259.476 L583.661 245.402 L580.536 245.402 L580.536 242.092 L583.661 242.092 L583.661 234.731 L587.943 234.731 Z\" fill=\"#000000\" fill-rule=\"evenodd\" fill-opacity=\"1\" /></svg>\n"
      ]
     },
     "execution_count": 8,
     "metadata": {},
     "output_type": "execute_result"
    }
   ],
   "source": [
    "line_fit = fit(x,y_observed,2)\n",
    "fit_coeff = coeffs(line_fit)\n",
    "y_fit = fit_coeff[1] .+ fit_coeff[2] .* x .+ fit_coeff[3] .* x.^2\n",
    "scatter(x,y_observed, label = \"data\")\n",
    "plot!(x, y_true, label = \"true plot\")\n",
    "plot!(x, y_fit, label = \"fit plot\")"
   ]
  },
  {
   "cell_type": "markdown",
   "id": "ab12acbd",
   "metadata": {},
   "source": [
    "2. Compare the plot with the plot in 2.3. Is the fit closer to y_true or not, and why?"
   ]
  },
  {
   "cell_type": "markdown",
   "id": "a34fcca4",
   "metadata": {},
   "source": [
    "Compared to the plot in 2.3, the fit in 2.4 is further from the y_true because of the larger standard deviation. The larger standard deviation makes the data points stray from the y_true causing the fit to follow those data points. "
   ]
  },
  {
   "cell_type": "markdown",
   "id": "5fd1d93b",
   "metadata": {},
   "source": [
    "### 2.5\n",
    "\n",
    "#### Repeat 2.2 and 2.3 with a tenth order polynomial fit\n"
   ]
  },
  {
   "cell_type": "code",
   "execution_count": 9,
   "id": "b6dbd546",
   "metadata": {},
   "outputs": [
    {
     "data": {
      "text/plain": [
       "21-element Vector{Float64}:\n",
       "  63.34259508277347\n",
       "  71.00524162619075\n",
       "  29.46241255185126\n",
       "  16.89138547295344\n",
       "  30.984086787184197\n",
       "  25.075819056635297\n",
       "  -5.9160151066119075\n",
       " -10.635631617706341\n",
       "  -7.846554062140256\n",
       " -18.2210315538086\n",
       "   6.71646841852818\n",
       "   0.44548483832678243\n",
       "   1.5653088668527397\n",
       "  16.20492515389886\n",
       "  26.562983669934933\n",
       "  32.703149474245805\n",
       "  47.152543139434655\n",
       "  82.73916147654415\n",
       "  72.91828939283\n",
       " 101.79416162514458\n",
       " 120.63543590795825"
      ]
     },
     "execution_count": 9,
     "metadata": {},
     "output_type": "execute_result"
    }
   ],
   "source": [
    "n = Normal(0,10)\n",
    "noise = rand(n, 21)\n",
    "y_observed = y_true + noise"
   ]
  },
  {
   "cell_type": "code",
   "execution_count": 10,
   "id": "04cef161",
   "metadata": {},
   "outputs": [
    {
     "data": {
      "image/svg+xml": [
       "<?xml version=\"1.0\" encoding=\"utf-8\"?>\n",
       "<svg xmlns=\"http://www.w3.org/2000/svg\" xmlns:xlink=\"http://www.w3.org/1999/xlink\" width=\"600\" height=\"400\" viewBox=\"0 0 2400 1600\">\n",
       "<defs>\n",
       "  <clipPath id=\"clip070\">\n",
       "    <rect x=\"0\" y=\"0\" width=\"2400\" height=\"1600\"/>\n",
       "  </clipPath>\n",
       "</defs>\n",
       "<path clip-path=\"url(#clip070)\" d=\"M0 1600 L2400 1600 L2400 0 L0 0  Z\" fill=\"#ffffff\" fill-rule=\"evenodd\" fill-opacity=\"1\"/>\n",
       "<defs>\n",
       "  <clipPath id=\"clip071\">\n",
       "    <rect x=\"480\" y=\"0\" width=\"1681\" height=\"1600\"/>\n",
       "  </clipPath>\n",
       "</defs>\n",
       "<path clip-path=\"url(#clip070)\" d=\"M169.121 1486.45 L2352.76 1486.45 L2352.76 47.2441 L169.121 47.2441  Z\" fill=\"#ffffff\" fill-rule=\"evenodd\" fill-opacity=\"1\"/>\n",
       "<defs>\n",
       "  <clipPath id=\"clip072\">\n",
       "    <rect x=\"169\" y=\"47\" width=\"2185\" height=\"1440\"/>\n",
       "  </clipPath>\n",
       "</defs>\n",
       "<polyline clip-path=\"url(#clip072)\" style=\"stroke:#000000; stroke-linecap:round; stroke-linejoin:round; stroke-width:2; stroke-opacity:0.1; fill:none\" points=\"230.922,1486.45 230.922,47.2441 \"/>\n",
       "<polyline clip-path=\"url(#clip072)\" style=\"stroke:#000000; stroke-linecap:round; stroke-linejoin:round; stroke-width:2; stroke-opacity:0.1; fill:none\" points=\"745.93,1486.45 745.93,47.2441 \"/>\n",
       "<polyline clip-path=\"url(#clip072)\" style=\"stroke:#000000; stroke-linecap:round; stroke-linejoin:round; stroke-width:2; stroke-opacity:0.1; fill:none\" points=\"1260.94,1486.45 1260.94,47.2441 \"/>\n",
       "<polyline clip-path=\"url(#clip072)\" style=\"stroke:#000000; stroke-linecap:round; stroke-linejoin:round; stroke-width:2; stroke-opacity:0.1; fill:none\" points=\"1775.95,1486.45 1775.95,47.2441 \"/>\n",
       "<polyline clip-path=\"url(#clip072)\" style=\"stroke:#000000; stroke-linecap:round; stroke-linejoin:round; stroke-width:2; stroke-opacity:0.1; fill:none\" points=\"2290.95,1486.45 2290.95,47.2441 \"/>\n",
       "<polyline clip-path=\"url(#clip070)\" style=\"stroke:#000000; stroke-linecap:round; stroke-linejoin:round; stroke-width:4; stroke-opacity:1; fill:none\" points=\"169.121,1486.45 2352.76,1486.45 \"/>\n",
       "<polyline clip-path=\"url(#clip070)\" style=\"stroke:#000000; stroke-linecap:round; stroke-linejoin:round; stroke-width:4; stroke-opacity:1; fill:none\" points=\"230.922,1486.45 230.922,1467.55 \"/>\n",
       "<polyline clip-path=\"url(#clip070)\" style=\"stroke:#000000; stroke-linecap:round; stroke-linejoin:round; stroke-width:4; stroke-opacity:1; fill:none\" points=\"745.93,1486.45 745.93,1467.55 \"/>\n",
       "<polyline clip-path=\"url(#clip070)\" style=\"stroke:#000000; stroke-linecap:round; stroke-linejoin:round; stroke-width:4; stroke-opacity:1; fill:none\" points=\"1260.94,1486.45 1260.94,1467.55 \"/>\n",
       "<polyline clip-path=\"url(#clip070)\" style=\"stroke:#000000; stroke-linecap:round; stroke-linejoin:round; stroke-width:4; stroke-opacity:1; fill:none\" points=\"1775.95,1486.45 1775.95,1467.55 \"/>\n",
       "<polyline clip-path=\"url(#clip070)\" style=\"stroke:#000000; stroke-linecap:round; stroke-linejoin:round; stroke-width:4; stroke-opacity:1; fill:none\" points=\"2290.95,1486.45 2290.95,1467.55 \"/>\n",
       "<path clip-path=\"url(#clip070)\" d=\"M184.985 1532.02 L214.661 1532.02 L214.661 1535.95 L184.985 1535.95 L184.985 1532.02 Z\" fill=\"#000000\" fill-rule=\"evenodd\" fill-opacity=\"1\" /><path clip-path=\"url(#clip070)\" d=\"M225.564 1544.91 L233.202 1544.91 L233.202 1518.55 L224.892 1520.21 L224.892 1515.95 L233.156 1514.29 L237.832 1514.29 L237.832 1544.91 L245.471 1544.91 L245.471 1548.85 L225.564 1548.85 L225.564 1544.91 Z\" fill=\"#000000\" fill-rule=\"evenodd\" fill-opacity=\"1\" /><path clip-path=\"url(#clip070)\" d=\"M264.915 1517.37 Q261.304 1517.37 259.475 1520.93 Q257.67 1524.47 257.67 1531.6 Q257.67 1538.71 259.475 1542.27 Q261.304 1545.82 264.915 1545.82 Q268.549 1545.82 270.355 1542.27 Q272.184 1538.71 272.184 1531.6 Q272.184 1524.47 270.355 1520.93 Q268.549 1517.37 264.915 1517.37 M264.915 1513.66 Q270.725 1513.66 273.781 1518.27 Q276.86 1522.85 276.86 1531.6 Q276.86 1540.33 273.781 1544.94 Q270.725 1549.52 264.915 1549.52 Q259.105 1549.52 256.026 1544.94 Q252.971 1540.33 252.971 1531.6 Q252.971 1522.85 256.026 1518.27 Q259.105 1513.66 264.915 1513.66 Z\" fill=\"#000000\" fill-rule=\"evenodd\" fill-opacity=\"1\" /><path clip-path=\"url(#clip070)\" d=\"M715.572 1532.02 L745.248 1532.02 L745.248 1535.95 L715.572 1535.95 L715.572 1532.02 Z\" fill=\"#000000\" fill-rule=\"evenodd\" fill-opacity=\"1\" /><path clip-path=\"url(#clip070)\" d=\"M755.386 1514.29 L773.743 1514.29 L773.743 1518.22 L759.669 1518.22 L759.669 1526.7 Q760.687 1526.35 761.706 1526.19 Q762.724 1526 763.743 1526 Q769.53 1526 772.909 1529.17 Q776.289 1532.34 776.289 1537.76 Q776.289 1543.34 772.817 1546.44 Q769.345 1549.52 763.025 1549.52 Q760.849 1549.52 758.581 1549.15 Q756.335 1548.78 753.928 1548.04 L753.928 1543.34 Q756.011 1544.47 758.234 1545.03 Q760.456 1545.58 762.933 1545.58 Q766.937 1545.58 769.275 1543.48 Q771.613 1541.37 771.613 1537.76 Q771.613 1534.15 769.275 1532.04 Q766.937 1529.94 762.933 1529.94 Q761.058 1529.94 759.183 1530.35 Q757.331 1530.77 755.386 1531.65 L755.386 1514.29 Z\" fill=\"#000000\" fill-rule=\"evenodd\" fill-opacity=\"1\" /><path clip-path=\"url(#clip070)\" d=\"M1260.94 1517.37 Q1257.33 1517.37 1255.5 1520.93 Q1253.69 1524.47 1253.69 1531.6 Q1253.69 1538.71 1255.5 1542.27 Q1257.33 1545.82 1260.94 1545.82 Q1264.57 1545.82 1266.38 1542.27 Q1268.21 1538.71 1268.21 1531.6 Q1268.21 1524.47 1266.38 1520.93 Q1264.57 1517.37 1260.94 1517.37 M1260.94 1513.66 Q1266.75 1513.66 1269.8 1518.27 Q1272.88 1522.85 1272.88 1531.6 Q1272.88 1540.33 1269.8 1544.94 Q1266.75 1549.52 1260.94 1549.52 Q1255.13 1549.52 1252.05 1544.94 Q1248.99 1540.33 1248.99 1531.6 Q1248.99 1522.85 1252.05 1518.27 Q1255.13 1513.66 1260.94 1513.66 Z\" fill=\"#000000\" fill-rule=\"evenodd\" fill-opacity=\"1\" /><path clip-path=\"url(#clip070)\" d=\"M1766.22 1514.29 L1784.58 1514.29 L1784.58 1518.22 L1770.51 1518.22 L1770.51 1526.7 Q1771.53 1526.35 1772.54 1526.19 Q1773.56 1526 1774.58 1526 Q1780.37 1526 1783.75 1529.17 Q1787.13 1532.34 1787.13 1537.76 Q1787.13 1543.34 1783.66 1546.44 Q1780.18 1549.52 1773.86 1549.52 Q1771.69 1549.52 1769.42 1549.15 Q1767.17 1548.78 1764.77 1548.04 L1764.77 1543.34 Q1766.85 1544.47 1769.07 1545.03 Q1771.29 1545.58 1773.77 1545.58 Q1777.78 1545.58 1780.11 1543.48 Q1782.45 1541.37 1782.45 1537.76 Q1782.45 1534.15 1780.11 1532.04 Q1777.78 1529.94 1773.77 1529.94 Q1771.9 1529.94 1770.02 1530.35 Q1768.17 1530.77 1766.22 1531.65 L1766.22 1514.29 Z\" fill=\"#000000\" fill-rule=\"evenodd\" fill-opacity=\"1\" /><path clip-path=\"url(#clip070)\" d=\"M2265.64 1544.91 L2273.28 1544.91 L2273.28 1518.55 L2264.97 1520.21 L2264.97 1515.95 L2273.24 1514.29 L2277.91 1514.29 L2277.91 1544.91 L2285.55 1544.91 L2285.55 1548.85 L2265.64 1548.85 L2265.64 1544.91 Z\" fill=\"#000000\" fill-rule=\"evenodd\" fill-opacity=\"1\" /><path clip-path=\"url(#clip070)\" d=\"M2304.99 1517.37 Q2301.38 1517.37 2299.55 1520.93 Q2297.75 1524.47 2297.75 1531.6 Q2297.75 1538.71 2299.55 1542.27 Q2301.38 1545.82 2304.99 1545.82 Q2308.63 1545.82 2310.43 1542.27 Q2312.26 1538.71 2312.26 1531.6 Q2312.26 1524.47 2310.43 1520.93 Q2308.63 1517.37 2304.99 1517.37 M2304.99 1513.66 Q2310.8 1513.66 2313.86 1518.27 Q2316.94 1522.85 2316.94 1531.6 Q2316.94 1540.33 2313.86 1544.94 Q2310.8 1549.52 2304.99 1549.52 Q2299.18 1549.52 2296.11 1544.94 Q2293.05 1540.33 2293.05 1531.6 Q2293.05 1522.85 2296.11 1518.27 Q2299.18 1513.66 2304.99 1513.66 Z\" fill=\"#000000\" fill-rule=\"evenodd\" fill-opacity=\"1\" /><polyline clip-path=\"url(#clip072)\" style=\"stroke:#000000; stroke-linecap:round; stroke-linejoin:round; stroke-width:2; stroke-opacity:0.1; fill:none\" points=\"169.121,1276.52 2352.76,1276.52 \"/>\n",
       "<polyline clip-path=\"url(#clip072)\" style=\"stroke:#000000; stroke-linecap:round; stroke-linejoin:round; stroke-width:2; stroke-opacity:0.1; fill:none\" points=\"169.121,997.958 2352.76,997.958 \"/>\n",
       "<polyline clip-path=\"url(#clip072)\" style=\"stroke:#000000; stroke-linecap:round; stroke-linejoin:round; stroke-width:2; stroke-opacity:0.1; fill:none\" points=\"169.121,719.392 2352.76,719.392 \"/>\n",
       "<polyline clip-path=\"url(#clip072)\" style=\"stroke:#000000; stroke-linecap:round; stroke-linejoin:round; stroke-width:2; stroke-opacity:0.1; fill:none\" points=\"169.121,440.826 2352.76,440.826 \"/>\n",
       "<polyline clip-path=\"url(#clip072)\" style=\"stroke:#000000; stroke-linecap:round; stroke-linejoin:round; stroke-width:2; stroke-opacity:0.1; fill:none\" points=\"169.121,162.26 2352.76,162.26 \"/>\n",
       "<polyline clip-path=\"url(#clip070)\" style=\"stroke:#000000; stroke-linecap:round; stroke-linejoin:round; stroke-width:4; stroke-opacity:1; fill:none\" points=\"169.121,1486.45 169.121,47.2441 \"/>\n",
       "<polyline clip-path=\"url(#clip070)\" style=\"stroke:#000000; stroke-linecap:round; stroke-linejoin:round; stroke-width:4; stroke-opacity:1; fill:none\" points=\"169.121,1276.52 188.019,1276.52 \"/>\n",
       "<polyline clip-path=\"url(#clip070)\" style=\"stroke:#000000; stroke-linecap:round; stroke-linejoin:round; stroke-width:4; stroke-opacity:1; fill:none\" points=\"169.121,997.958 188.019,997.958 \"/>\n",
       "<polyline clip-path=\"url(#clip070)\" style=\"stroke:#000000; stroke-linecap:round; stroke-linejoin:round; stroke-width:4; stroke-opacity:1; fill:none\" points=\"169.121,719.392 188.019,719.392 \"/>\n",
       "<polyline clip-path=\"url(#clip070)\" style=\"stroke:#000000; stroke-linecap:round; stroke-linejoin:round; stroke-width:4; stroke-opacity:1; fill:none\" points=\"169.121,440.826 188.019,440.826 \"/>\n",
       "<polyline clip-path=\"url(#clip070)\" style=\"stroke:#000000; stroke-linecap:round; stroke-linejoin:round; stroke-width:4; stroke-opacity:1; fill:none\" points=\"169.121,162.26 188.019,162.26 \"/>\n",
       "<path clip-path=\"url(#clip070)\" d=\"M121.177 1262.32 Q117.566 1262.32 115.737 1265.89 Q113.932 1269.43 113.932 1276.56 Q113.932 1283.66 115.737 1287.23 Q117.566 1290.77 121.177 1290.77 Q124.811 1290.77 126.617 1287.23 Q128.445 1283.66 128.445 1276.56 Q128.445 1269.43 126.617 1265.89 Q124.811 1262.32 121.177 1262.32 M121.177 1258.62 Q126.987 1258.62 130.043 1263.23 Q133.121 1267.81 133.121 1276.56 Q133.121 1285.29 130.043 1289.89 Q126.987 1294.48 121.177 1294.48 Q115.367 1294.48 112.288 1289.89 Q109.233 1285.29 109.233 1276.56 Q109.233 1267.81 112.288 1263.23 Q115.367 1258.62 121.177 1258.62 Z\" fill=\"#000000\" fill-rule=\"evenodd\" fill-opacity=\"1\" /><path clip-path=\"url(#clip070)\" d=\"M95.1817 996.604 Q98.5382 997.321 100.413 999.59 Q102.311 1001.86 102.311 1005.19 Q102.311 1010.31 98.7928 1013.11 Q95.2743 1015.91 88.7928 1015.91 Q86.6169 1015.91 84.3021 1015.47 Q82.0105 1015.05 79.5568 1014.2 L79.5568 1009.68 Q81.5012 1010.82 83.816 1011.4 Q86.1308 1011.97 88.654 1011.97 Q93.0521 1011.97 95.3437 1010.24 Q97.6585 1008.5 97.6585 1005.19 Q97.6585 1002.14 95.5058 1000.42 Q93.3762 998.687 89.5567 998.687 L85.529 998.687 L85.529 994.845 L89.7419 994.845 Q93.191 994.845 95.0197 993.479 Q96.8484 992.09 96.8484 989.497 Q96.8484 986.835 94.9502 985.423 Q93.0752 983.988 89.5567 983.988 Q87.6354 983.988 85.4364 984.405 Q83.2373 984.821 80.5984 985.701 L80.5984 981.534 Q83.2605 980.794 85.5753 980.423 Q87.9132 980.053 89.9734 980.053 Q95.2974 980.053 98.3993 982.484 Q101.501 984.891 101.501 989.011 Q101.501 991.882 99.8576 993.872 Q98.2141 995.84 95.1817 996.604 Z\" fill=\"#000000\" fill-rule=\"evenodd\" fill-opacity=\"1\" /><path clip-path=\"url(#clip070)\" d=\"M121.177 983.757 Q117.566 983.757 115.737 987.321 Q113.932 990.863 113.932 997.993 Q113.932 1005.1 115.737 1008.66 Q117.566 1012.21 121.177 1012.21 Q124.811 1012.21 126.617 1008.66 Q128.445 1005.1 128.445 997.993 Q128.445 990.863 126.617 987.321 Q124.811 983.757 121.177 983.757 M121.177 980.053 Q126.987 980.053 130.043 984.659 Q133.121 989.243 133.121 997.993 Q133.121 1006.72 130.043 1011.33 Q126.987 1015.91 121.177 1015.91 Q115.367 1015.91 112.288 1011.33 Q109.233 1006.72 109.233 997.993 Q109.233 989.243 112.288 984.659 Q115.367 980.053 121.177 980.053 Z\" fill=\"#000000\" fill-rule=\"evenodd\" fill-opacity=\"1\" /><path clip-path=\"url(#clip070)\" d=\"M91.5938 717.529 Q88.4456 717.529 86.5938 719.681 Q84.7651 721.834 84.7651 725.584 Q84.7651 729.311 86.5938 731.487 Q88.4456 733.64 91.5938 733.64 Q94.7419 733.64 96.5706 731.487 Q98.4224 729.311 98.4224 725.584 Q98.4224 721.834 96.5706 719.681 Q94.7419 717.529 91.5938 717.529 M100.876 702.876 L100.876 707.135 Q99.1169 706.302 97.3113 705.862 Q95.5289 705.422 93.7697 705.422 Q89.1401 705.422 86.6864 708.547 Q84.2558 711.672 83.9086 717.992 Q85.2743 715.978 87.3345 714.913 Q89.3947 713.825 91.8715 713.825 Q97.0798 713.825 100.089 716.996 Q103.121 720.144 103.121 725.584 Q103.121 730.908 99.9733 734.126 Q96.8252 737.343 91.5938 737.343 Q85.5984 737.343 82.4271 732.76 Q79.2559 728.154 79.2559 719.427 Q79.2559 711.232 83.1447 706.371 Q87.0336 701.487 93.5845 701.487 Q95.3437 701.487 97.1261 701.834 Q98.9317 702.182 100.876 702.876 Z\" fill=\"#000000\" fill-rule=\"evenodd\" fill-opacity=\"1\" /><path clip-path=\"url(#clip070)\" d=\"M121.177 705.191 Q117.566 705.191 115.737 708.756 Q113.932 712.297 113.932 719.427 Q113.932 726.533 115.737 730.098 Q117.566 733.64 121.177 733.64 Q124.811 733.64 126.617 730.098 Q128.445 726.533 128.445 719.427 Q128.445 712.297 126.617 708.756 Q124.811 705.191 121.177 705.191 M121.177 701.487 Q126.987 701.487 130.043 706.094 Q133.121 710.677 133.121 719.427 Q133.121 728.154 130.043 732.76 Q126.987 737.343 121.177 737.343 Q115.367 737.343 112.288 732.76 Q109.233 728.154 109.233 719.427 Q109.233 710.677 112.288 706.094 Q115.367 701.487 121.177 701.487 Z\" fill=\"#000000\" fill-rule=\"evenodd\" fill-opacity=\"1\" /><path clip-path=\"url(#clip070)\" d=\"M81.154 457.389 L81.154 453.129 Q82.9133 453.963 84.7188 454.403 Q86.5243 454.842 88.2604 454.842 Q92.89 454.842 95.3206 451.741 Q97.7743 448.616 98.1215 442.273 Q96.7789 444.264 94.7187 445.329 Q92.6586 446.393 90.1586 446.393 Q84.9734 446.393 81.941 443.268 Q78.9318 440.12 78.9318 434.681 Q78.9318 429.356 82.0799 426.139 Q85.2281 422.921 90.4595 422.921 Q96.4548 422.921 99.603 427.528 Q102.774 432.111 102.774 440.861 Q102.774 449.032 98.8854 453.917 Q95.0197 458.778 88.4688 458.778 Q86.7095 458.778 84.904 458.43 Q83.0984 458.083 81.154 457.389 M90.4595 442.736 Q93.6076 442.736 95.4363 440.583 Q97.2882 438.431 97.2882 434.681 Q97.2882 430.954 95.4363 428.801 Q93.6076 426.625 90.4595 426.625 Q87.3114 426.625 85.4595 428.801 Q83.6308 430.954 83.6308 434.681 Q83.6308 438.431 85.4595 440.583 Q87.3114 442.736 90.4595 442.736 Z\" fill=\"#000000\" fill-rule=\"evenodd\" fill-opacity=\"1\" /><path clip-path=\"url(#clip070)\" d=\"M121.177 426.625 Q117.566 426.625 115.737 430.19 Q113.932 433.731 113.932 440.861 Q113.932 447.967 115.737 451.532 Q117.566 455.074 121.177 455.074 Q124.811 455.074 126.617 451.532 Q128.445 447.967 128.445 440.861 Q128.445 433.731 126.617 430.19 Q124.811 426.625 121.177 426.625 M121.177 422.921 Q126.987 422.921 130.043 427.528 Q133.121 432.111 133.121 440.861 Q133.121 449.588 130.043 454.194 Q126.987 458.778 121.177 458.778 Q115.367 458.778 112.288 454.194 Q109.233 449.588 109.233 440.861 Q109.233 432.111 112.288 427.528 Q115.367 422.921 121.177 422.921 Z\" fill=\"#000000\" fill-rule=\"evenodd\" fill-opacity=\"1\" /><path clip-path=\"url(#clip070)\" d=\"M51.6634 175.605 L59.3023 175.605 L59.3023 149.24 L50.9921 150.906 L50.9921 146.647 L59.256 144.98 L63.9319 144.98 L63.9319 175.605 L71.5707 175.605 L71.5707 179.54 L51.6634 179.54 L51.6634 175.605 Z\" fill=\"#000000\" fill-rule=\"evenodd\" fill-opacity=\"1\" /><path clip-path=\"url(#clip070)\" d=\"M85.0429 175.605 L101.362 175.605 L101.362 179.54 L79.4179 179.54 L79.4179 175.605 Q82.0799 172.851 86.6632 168.221 Q91.2697 163.568 92.4502 162.226 Q94.6956 159.703 95.5752 157.967 Q96.478 156.207 96.478 154.517 Q96.478 151.763 94.5336 150.027 Q92.6123 148.291 89.5104 148.291 Q87.3114 148.291 84.8577 149.055 Q82.4271 149.818 79.6494 151.369 L79.6494 146.647 Q82.4734 145.513 84.9271 144.934 Q87.3808 144.356 89.4178 144.356 Q94.7882 144.356 97.9826 147.041 Q101.177 149.726 101.177 154.217 Q101.177 156.346 100.367 158.267 Q99.5798 160.166 97.4734 162.758 Q96.8947 163.429 93.7928 166.647 Q90.691 169.841 85.0429 175.605 Z\" fill=\"#000000\" fill-rule=\"evenodd\" fill-opacity=\"1\" /><path clip-path=\"url(#clip070)\" d=\"M121.177 148.059 Q117.566 148.059 115.737 151.624 Q113.932 155.166 113.932 162.295 Q113.932 169.402 115.737 172.966 Q117.566 176.508 121.177 176.508 Q124.811 176.508 126.617 172.966 Q128.445 169.402 128.445 162.295 Q128.445 155.166 126.617 151.624 Q124.811 148.059 121.177 148.059 M121.177 144.356 Q126.987 144.356 130.043 148.962 Q133.121 153.545 133.121 162.295 Q133.121 171.022 130.043 175.628 Q126.987 180.212 121.177 180.212 Q115.367 180.212 112.288 175.628 Q109.233 171.022 109.233 162.295 Q109.233 153.545 112.288 148.962 Q115.367 144.356 121.177 144.356 Z\" fill=\"#000000\" fill-rule=\"evenodd\" fill-opacity=\"1\" /><circle clip-path=\"url(#clip072)\" cx=\"230.922\" cy=\"688.354\" r=\"14.4\" fill=\"#009af9\" fill-rule=\"evenodd\" fill-opacity=\"1\" stroke=\"#000000\" stroke-opacity=\"1\" stroke-width=\"3.2\"/>\n",
       "<circle clip-path=\"url(#clip072)\" cx=\"333.924\" cy=\"617.203\" r=\"14.4\" fill=\"#009af9\" fill-rule=\"evenodd\" fill-opacity=\"1\" stroke=\"#000000\" stroke-opacity=\"1\" stroke-width=\"3.2\"/>\n",
       "<circle clip-path=\"url(#clip072)\" cx=\"436.926\" cy=\"1002.95\" r=\"14.4\" fill=\"#009af9\" fill-rule=\"evenodd\" fill-opacity=\"1\" stroke=\"#000000\" stroke-opacity=\"1\" stroke-width=\"3.2\"/>\n",
       "<circle clip-path=\"url(#clip072)\" cx=\"539.927\" cy=\"1119.68\" r=\"14.4\" fill=\"#009af9\" fill-rule=\"evenodd\" fill-opacity=\"1\" stroke=\"#000000\" stroke-opacity=\"1\" stroke-width=\"3.2\"/>\n",
       "<circle clip-path=\"url(#clip072)\" cx=\"642.929\" cy=\"988.82\" r=\"14.4\" fill=\"#009af9\" fill-rule=\"evenodd\" fill-opacity=\"1\" stroke=\"#000000\" stroke-opacity=\"1\" stroke-width=\"3.2\"/>\n",
       "<circle clip-path=\"url(#clip072)\" cx=\"745.93\" cy=\"1043.68\" r=\"14.4\" fill=\"#009af9\" fill-rule=\"evenodd\" fill-opacity=\"1\" stroke=\"#000000\" stroke-opacity=\"1\" stroke-width=\"3.2\"/>\n",
       "<circle clip-path=\"url(#clip072)\" cx=\"848.932\" cy=\"1331.46\" r=\"14.4\" fill=\"#009af9\" fill-rule=\"evenodd\" fill-opacity=\"1\" stroke=\"#000000\" stroke-opacity=\"1\" stroke-width=\"3.2\"/>\n",
       "<circle clip-path=\"url(#clip072)\" cx=\"951.934\" cy=\"1375.28\" r=\"14.4\" fill=\"#009af9\" fill-rule=\"evenodd\" fill-opacity=\"1\" stroke=\"#000000\" stroke-opacity=\"1\" stroke-width=\"3.2\"/>\n",
       "<circle clip-path=\"url(#clip072)\" cx=\"1054.94\" cy=\"1349.38\" r=\"14.4\" fill=\"#009af9\" fill-rule=\"evenodd\" fill-opacity=\"1\" stroke=\"#000000\" stroke-opacity=\"1\" stroke-width=\"3.2\"/>\n",
       "<circle clip-path=\"url(#clip072)\" cx=\"1157.94\" cy=\"1445.72\" r=\"14.4\" fill=\"#009af9\" fill-rule=\"evenodd\" fill-opacity=\"1\" stroke=\"#000000\" stroke-opacity=\"1\" stroke-width=\"3.2\"/>\n",
       "<circle clip-path=\"url(#clip072)\" cx=\"1260.94\" cy=\"1214.16\" r=\"14.4\" fill=\"#009af9\" fill-rule=\"evenodd\" fill-opacity=\"1\" stroke=\"#000000\" stroke-opacity=\"1\" stroke-width=\"3.2\"/>\n",
       "<circle clip-path=\"url(#clip072)\" cx=\"1363.94\" cy=\"1272.39\" r=\"14.4\" fill=\"#009af9\" fill-rule=\"evenodd\" fill-opacity=\"1\" stroke=\"#000000\" stroke-opacity=\"1\" stroke-width=\"3.2\"/>\n",
       "<circle clip-path=\"url(#clip072)\" cx=\"1466.94\" cy=\"1261.99\" r=\"14.4\" fill=\"#009af9\" fill-rule=\"evenodd\" fill-opacity=\"1\" stroke=\"#000000\" stroke-opacity=\"1\" stroke-width=\"3.2\"/>\n",
       "<circle clip-path=\"url(#clip072)\" cx=\"1569.94\" cy=\"1126.05\" r=\"14.4\" fill=\"#009af9\" fill-rule=\"evenodd\" fill-opacity=\"1\" stroke=\"#000000\" stroke-opacity=\"1\" stroke-width=\"3.2\"/>\n",
       "<circle clip-path=\"url(#clip072)\" cx=\"1672.95\" cy=\"1029.87\" r=\"14.4\" fill=\"#009af9\" fill-rule=\"evenodd\" fill-opacity=\"1\" stroke=\"#000000\" stroke-opacity=\"1\" stroke-width=\"3.2\"/>\n",
       "<circle clip-path=\"url(#clip072)\" cx=\"1775.95\" cy=\"972.858\" r=\"14.4\" fill=\"#009af9\" fill-rule=\"evenodd\" fill-opacity=\"1\" stroke=\"#000000\" stroke-opacity=\"1\" stroke-width=\"3.2\"/>\n",
       "<circle clip-path=\"url(#clip072)\" cx=\"1878.95\" cy=\"838.688\" r=\"14.4\" fill=\"#009af9\" fill-rule=\"evenodd\" fill-opacity=\"1\" stroke=\"#000000\" stroke-opacity=\"1\" stroke-width=\"3.2\"/>\n",
       "<circle clip-path=\"url(#clip072)\" cx=\"1981.95\" cy=\"508.247\" r=\"14.4\" fill=\"#009af9\" fill-rule=\"evenodd\" fill-opacity=\"1\" stroke=\"#000000\" stroke-opacity=\"1\" stroke-width=\"3.2\"/>\n",
       "<circle clip-path=\"url(#clip072)\" cx=\"2084.95\" cy=\"599.439\" r=\"14.4\" fill=\"#009af9\" fill-rule=\"evenodd\" fill-opacity=\"1\" stroke=\"#000000\" stroke-opacity=\"1\" stroke-width=\"3.2\"/>\n",
       "<circle clip-path=\"url(#clip072)\" cx=\"2187.95\" cy=\"331.311\" r=\"14.4\" fill=\"#009af9\" fill-rule=\"evenodd\" fill-opacity=\"1\" stroke=\"#000000\" stroke-opacity=\"1\" stroke-width=\"3.2\"/>\n",
       "<circle clip-path=\"url(#clip072)\" cx=\"2290.95\" cy=\"156.36\" r=\"14.4\" fill=\"#009af9\" fill-rule=\"evenodd\" fill-opacity=\"1\" stroke=\"#000000\" stroke-opacity=\"1\" stroke-width=\"3.2\"/>\n",
       "<polyline clip-path=\"url(#clip072)\" style=\"stroke:#e26f46; stroke-linecap:round; stroke-linejoin:round; stroke-width:4; stroke-opacity:1; fill:none\" points=\"230.922,645.108 333.924,793.676 436.926,923.674 539.927,1035.1 642.929,1127.96 745.93,1202.24 848.932,1257.95 951.934,1295.09 1054.94,1313.67 1157.94,1313.67 1260.94,1295.09 1363.94,1257.95 1466.94,1202.24 1569.94,1127.96 1672.95,1035.1 1775.95,923.674 1878.95,793.676 1981.95,645.108 2084.95,477.968 2187.95,292.258 2290.95,87.9763 \"/>\n",
       "<polyline clip-path=\"url(#clip072)\" style=\"stroke:#3da44d; stroke-linecap:round; stroke-linejoin:round; stroke-width:4; stroke-opacity:1; fill:none\" points=\"230.922,687.308 333.924,620.045 436.926,1012.08 539.927,1075.9 642.929,1031.31 745.93,1086.52 848.932,1239.36 951.934,1380.36 1054.94,1425.78 1157.94,1375.3 1260.94,1289.28 1363.94,1228.16 1466.94,1203.91 1569.94,1175.6 1672.95,1089.28 1775.95,932.437 1878.95,756.039 1981.95,628.182 2084.95,534.694 2187.95,347.531 2290.95,154.824 \"/>\n",
       "<path clip-path=\"url(#clip070)\" d=\"M241.909 302.578 L661.082 302.578 L661.082 95.2176 L241.909 95.2176  Z\" fill=\"#ffffff\" fill-rule=\"evenodd\" fill-opacity=\"1\"/>\n",
       "<polyline clip-path=\"url(#clip070)\" style=\"stroke:#000000; stroke-linecap:round; stroke-linejoin:round; stroke-width:4; stroke-opacity:1; fill:none\" points=\"241.909,302.578 661.082,302.578 661.082,95.2176 241.909,95.2176 241.909,302.578 \"/>\n",
       "<circle clip-path=\"url(#clip070)\" cx=\"338.96\" cy=\"147.058\" r=\"23.04\" fill=\"#009af9\" fill-rule=\"evenodd\" fill-opacity=\"1\" stroke=\"#000000\" stroke-opacity=\"1\" stroke-width=\"5.12\"/>\n",
       "<path clip-path=\"url(#clip070)\" d=\"M454.922 142.347 L454.922 128.319 L459.181 128.319 L459.181 164.338 L454.922 164.338 L454.922 160.449 Q453.579 162.763 451.519 163.898 Q449.482 165.009 446.612 165.009 Q441.913 165.009 438.95 161.259 Q436.01 157.509 436.01 151.398 Q436.01 145.287 438.95 141.537 Q441.913 137.787 446.612 137.787 Q449.482 137.787 451.519 138.921 Q453.579 140.032 454.922 142.347 M440.408 151.398 Q440.408 156.097 442.329 158.782 Q444.274 161.444 447.653 161.444 Q451.033 161.444 452.977 158.782 Q454.922 156.097 454.922 151.398 Q454.922 146.699 452.977 144.037 Q451.033 141.352 447.653 141.352 Q444.274 141.352 442.329 144.037 Q440.408 146.699 440.408 151.398 Z\" fill=\"#000000\" fill-rule=\"evenodd\" fill-opacity=\"1\" /><path clip-path=\"url(#clip070)\" d=\"M479.737 151.305 Q474.575 151.305 472.584 152.486 Q470.593 153.666 470.593 156.514 Q470.593 158.782 472.075 160.125 Q473.579 161.444 476.149 161.444 Q479.69 161.444 481.82 158.944 Q483.973 156.421 483.973 152.254 L483.973 151.305 L479.737 151.305 M488.232 149.546 L488.232 164.338 L483.973 164.338 L483.973 160.402 Q482.514 162.763 480.338 163.898 Q478.163 165.009 475.014 165.009 Q471.033 165.009 468.672 162.787 Q466.334 160.541 466.334 156.791 Q466.334 152.416 469.251 150.194 Q472.19 147.972 478.001 147.972 L483.973 147.972 L483.973 147.555 Q483.973 144.615 482.028 143.018 Q480.107 141.398 476.612 141.398 Q474.389 141.398 472.283 141.93 Q470.176 142.463 468.232 143.527 L468.232 139.592 Q470.57 138.69 472.769 138.25 Q474.968 137.787 477.051 137.787 Q482.676 137.787 485.454 140.703 Q488.232 143.62 488.232 149.546 Z\" fill=\"#000000\" fill-rule=\"evenodd\" fill-opacity=\"1\" /><path clip-path=\"url(#clip070)\" d=\"M501.218 131.051 L501.218 138.412 L509.991 138.412 L509.991 141.722 L501.218 141.722 L501.218 155.796 Q501.218 158.967 502.074 159.87 Q502.954 160.773 505.616 160.773 L509.991 160.773 L509.991 164.338 L505.616 164.338 Q500.686 164.338 498.811 162.509 Q496.936 160.657 496.936 155.796 L496.936 141.722 L493.811 141.722 L493.811 138.412 L496.936 138.412 L496.936 131.051 L501.218 131.051 Z\" fill=\"#000000\" fill-rule=\"evenodd\" fill-opacity=\"1\" /><path clip-path=\"url(#clip070)\" d=\"M527.375 151.305 Q522.213 151.305 520.222 152.486 Q518.232 153.666 518.232 156.514 Q518.232 158.782 519.713 160.125 Q521.218 161.444 523.787 161.444 Q527.329 161.444 529.459 158.944 Q531.611 156.421 531.611 152.254 L531.611 151.305 L527.375 151.305 M535.871 149.546 L535.871 164.338 L531.611 164.338 L531.611 160.402 Q530.153 162.763 527.977 163.898 Q525.801 165.009 522.653 165.009 Q518.672 165.009 516.31 162.787 Q513.973 160.541 513.973 156.791 Q513.973 152.416 516.889 150.194 Q519.829 147.972 525.639 147.972 L531.611 147.972 L531.611 147.555 Q531.611 144.615 529.667 143.018 Q527.746 141.398 524.25 141.398 Q522.028 141.398 519.922 141.93 Q517.815 142.463 515.871 143.527 L515.871 139.592 Q518.209 138.69 520.408 138.25 Q522.607 137.787 524.69 137.787 Q530.315 137.787 533.093 140.703 Q535.871 143.62 535.871 149.546 Z\" fill=\"#000000\" fill-rule=\"evenodd\" fill-opacity=\"1\" /><polyline clip-path=\"url(#clip070)\" style=\"stroke:#e26f46; stroke-linecap:round; stroke-linejoin:round; stroke-width:4; stroke-opacity:1; fill:none\" points=\"266.172,198.898 411.747,198.898 \"/>\n",
       "<path clip-path=\"url(#clip070)\" d=\"M443.417 182.891 L443.417 190.252 L452.19 190.252 L452.19 193.562 L443.417 193.562 L443.417 207.636 Q443.417 210.807 444.274 211.71 Q445.153 212.613 447.815 212.613 L452.19 212.613 L452.19 216.178 L447.815 216.178 Q442.885 216.178 441.01 214.349 Q439.135 212.497 439.135 207.636 L439.135 193.562 L436.01 193.562 L436.01 190.252 L439.135 190.252 L439.135 182.891 L443.417 182.891 Z\" fill=\"#000000\" fill-rule=\"evenodd\" fill-opacity=\"1\" /><path clip-path=\"url(#clip070)\" d=\"M472.815 194.233 Q472.098 193.817 471.241 193.631 Q470.408 193.423 469.389 193.423 Q465.778 193.423 463.834 195.784 Q461.913 198.122 461.913 202.52 L461.913 216.178 L457.63 216.178 L457.63 190.252 L461.913 190.252 L461.913 194.28 Q463.255 191.918 465.408 190.784 Q467.561 189.627 470.639 189.627 Q471.079 189.627 471.612 189.696 Q472.144 189.743 472.792 189.858 L472.815 194.233 Z\" fill=\"#000000\" fill-rule=\"evenodd\" fill-opacity=\"1\" /><path clip-path=\"url(#clip070)\" d=\"M476.843 205.946 L476.843 190.252 L481.102 190.252 L481.102 205.784 Q481.102 209.465 482.538 211.316 Q483.973 213.145 486.843 213.145 Q490.292 213.145 492.283 210.946 Q494.297 208.747 494.297 204.951 L494.297 190.252 L498.556 190.252 L498.556 216.178 L494.297 216.178 L494.297 212.196 Q492.746 214.557 490.686 215.715 Q488.649 216.849 485.94 216.849 Q481.473 216.849 479.158 214.071 Q476.843 211.293 476.843 205.946 M487.561 189.627 L487.561 189.627 Z\" fill=\"#000000\" fill-rule=\"evenodd\" fill-opacity=\"1\" /><path clip-path=\"url(#clip070)\" d=\"M529.505 202.15 L529.505 204.233 L509.922 204.233 Q510.199 208.631 512.561 210.946 Q514.945 213.238 519.181 213.238 Q521.635 213.238 523.926 212.636 Q526.241 212.034 528.509 210.83 L528.509 214.858 Q526.218 215.83 523.81 216.34 Q521.403 216.849 518.926 216.849 Q512.723 216.849 509.088 213.238 Q505.477 209.627 505.477 203.469 Q505.477 197.104 508.903 193.377 Q512.352 189.627 518.185 189.627 Q523.417 189.627 526.449 193.006 Q529.505 196.363 529.505 202.15 M525.246 200.9 Q525.199 197.405 523.278 195.321 Q521.38 193.238 518.232 193.238 Q514.667 193.238 512.514 195.252 Q510.385 197.266 510.061 200.923 L525.246 200.9 Z\" fill=\"#000000\" fill-rule=\"evenodd\" fill-opacity=\"1\" /><path clip-path=\"url(#clip070)\" d=\"M555.685 212.289 L555.685 226.039 L551.403 226.039 L551.403 190.252 L555.685 190.252 L555.685 194.187 Q557.028 191.872 559.065 190.761 Q561.125 189.627 563.972 189.627 Q568.694 189.627 571.634 193.377 Q574.597 197.127 574.597 203.238 Q574.597 209.349 571.634 213.099 Q568.694 216.849 563.972 216.849 Q561.125 216.849 559.065 215.738 Q557.028 214.603 555.685 212.289 M570.176 203.238 Q570.176 198.539 568.232 195.877 Q566.31 193.192 562.931 193.192 Q559.551 193.192 557.607 195.877 Q555.685 198.539 555.685 203.238 Q555.685 207.937 557.607 210.622 Q559.551 213.284 562.931 213.284 Q566.31 213.284 568.232 210.622 Q570.176 207.937 570.176 203.238 Z\" fill=\"#000000\" fill-rule=\"evenodd\" fill-opacity=\"1\" /><path clip-path=\"url(#clip070)\" d=\"M581.657 180.159 L585.917 180.159 L585.917 216.178 L581.657 216.178 L581.657 180.159 Z\" fill=\"#000000\" fill-rule=\"evenodd\" fill-opacity=\"1\" /><path clip-path=\"url(#clip070)\" d=\"M604.875 193.238 Q601.449 193.238 599.458 195.923 Q597.467 198.585 597.467 203.238 Q597.467 207.891 599.435 210.576 Q601.426 213.238 604.875 213.238 Q608.278 213.238 610.268 210.553 Q612.259 207.867 612.259 203.238 Q612.259 198.631 610.268 195.946 Q608.278 193.238 604.875 193.238 M604.875 189.627 Q610.43 189.627 613.602 193.238 Q616.773 196.849 616.773 203.238 Q616.773 209.604 613.602 213.238 Q610.43 216.849 604.875 216.849 Q599.296 216.849 596.125 213.238 Q592.977 209.604 592.977 203.238 Q592.977 196.849 596.125 193.238 Q599.296 189.627 604.875 189.627 Z\" fill=\"#000000\" fill-rule=\"evenodd\" fill-opacity=\"1\" /><path clip-path=\"url(#clip070)\" d=\"M628.046 182.891 L628.046 190.252 L636.819 190.252 L636.819 193.562 L628.046 193.562 L628.046 207.636 Q628.046 210.807 628.902 211.71 Q629.782 212.613 632.444 212.613 L636.819 212.613 L636.819 216.178 L632.444 216.178 Q627.514 216.178 625.639 214.349 Q623.764 212.497 623.764 207.636 L623.764 193.562 L620.639 193.562 L620.639 190.252 L623.764 190.252 L623.764 182.891 L628.046 182.891 Z\" fill=\"#000000\" fill-rule=\"evenodd\" fill-opacity=\"1\" /><polyline clip-path=\"url(#clip070)\" style=\"stroke:#3da44d; stroke-linecap:round; stroke-linejoin:round; stroke-width:4; stroke-opacity:1; fill:none\" points=\"266.172,250.738 411.747,250.738 \"/>\n",
       "<path clip-path=\"url(#clip070)\" d=\"M452.515 231.999 L452.515 235.541 L448.44 235.541 Q446.149 235.541 445.246 236.467 Q444.366 237.393 444.366 239.8 L444.366 242.092 L451.38 242.092 L451.38 245.402 L444.366 245.402 L444.366 268.018 L440.084 268.018 L440.084 245.402 L436.01 245.402 L436.01 242.092 L440.084 242.092 L440.084 240.286 Q440.084 235.958 442.098 233.99 Q444.112 231.999 448.487 231.999 L452.515 231.999 Z\" fill=\"#000000\" fill-rule=\"evenodd\" fill-opacity=\"1\" /><path clip-path=\"url(#clip070)\" d=\"M456.079 242.092 L460.339 242.092 L460.339 268.018 L456.079 268.018 L456.079 242.092 M456.079 231.999 L460.339 231.999 L460.339 237.393 L456.079 237.393 L456.079 231.999 Z\" fill=\"#000000\" fill-rule=\"evenodd\" fill-opacity=\"1\" /><path clip-path=\"url(#clip070)\" d=\"M473.463 234.731 L473.463 242.092 L482.237 242.092 L482.237 245.402 L473.463 245.402 L473.463 259.476 Q473.463 262.647 474.32 263.55 Q475.2 264.453 477.862 264.453 L482.237 264.453 L482.237 268.018 L477.862 268.018 Q472.931 268.018 471.056 266.189 Q469.181 264.337 469.181 259.476 L469.181 245.402 L466.056 245.402 L466.056 242.092 L469.181 242.092 L469.181 234.731 L473.463 234.731 Z\" fill=\"#000000\" fill-rule=\"evenodd\" fill-opacity=\"1\" /><path clip-path=\"url(#clip070)\" d=\"M507.028 264.129 L507.028 277.879 L502.746 277.879 L502.746 242.092 L507.028 242.092 L507.028 246.027 Q508.371 243.712 510.408 242.601 Q512.468 241.467 515.315 241.467 Q520.037 241.467 522.977 245.217 Q525.94 248.967 525.94 255.078 Q525.94 261.189 522.977 264.939 Q520.037 268.689 515.315 268.689 Q512.468 268.689 510.408 267.578 Q508.371 266.443 507.028 264.129 M521.519 255.078 Q521.519 250.379 519.574 247.717 Q517.653 245.032 514.273 245.032 Q510.894 245.032 508.949 247.717 Q507.028 250.379 507.028 255.078 Q507.028 259.777 508.949 262.462 Q510.894 265.124 514.273 265.124 Q517.653 265.124 519.574 262.462 Q521.519 259.777 521.519 255.078 Z\" fill=\"#000000\" fill-rule=\"evenodd\" fill-opacity=\"1\" /><path clip-path=\"url(#clip070)\" d=\"M533 231.999 L537.259 231.999 L537.259 268.018 L533 268.018 L533 231.999 Z\" fill=\"#000000\" fill-rule=\"evenodd\" fill-opacity=\"1\" /><path clip-path=\"url(#clip070)\" d=\"M556.218 245.078 Q552.792 245.078 550.801 247.763 Q548.81 250.425 548.81 255.078 Q548.81 259.731 550.778 262.416 Q552.769 265.078 556.218 265.078 Q559.62 265.078 561.611 262.393 Q563.602 259.707 563.602 255.078 Q563.602 250.471 561.611 247.786 Q559.62 245.078 556.218 245.078 M556.218 241.467 Q561.773 241.467 564.944 245.078 Q568.116 248.689 568.116 255.078 Q568.116 261.444 564.944 265.078 Q561.773 268.689 556.218 268.689 Q550.639 268.689 547.468 265.078 Q544.32 261.444 544.32 255.078 Q544.32 248.689 547.468 245.078 Q550.639 241.467 556.218 241.467 Z\" fill=\"#000000\" fill-rule=\"evenodd\" fill-opacity=\"1\" /><path clip-path=\"url(#clip070)\" d=\"M579.389 234.731 L579.389 242.092 L588.162 242.092 L588.162 245.402 L579.389 245.402 L579.389 259.476 Q579.389 262.647 580.245 263.55 Q581.125 264.453 583.787 264.453 L588.162 264.453 L588.162 268.018 L583.787 268.018 Q578.856 268.018 576.981 266.189 Q575.106 264.337 575.106 259.476 L575.106 245.402 L571.981 245.402 L571.981 242.092 L575.106 242.092 L575.106 234.731 L579.389 234.731 Z\" fill=\"#000000\" fill-rule=\"evenodd\" fill-opacity=\"1\" /></svg>\n"
      ]
     },
     "execution_count": 10,
     "metadata": {},
     "output_type": "execute_result"
    }
   ],
   "source": [
    "line_fit = fit(x,y_observed,10)\n",
    "y_fit = line_fit.(x)\n",
    "scatter(x,y_observed, label = \"data\")\n",
    "plot!(x, y_true, label = \"true plot\")\n",
    "plot!(x, y_fit, label = \"fit plot\")"
   ]
  },
  {
   "cell_type": "markdown",
   "id": "36028ee0",
   "metadata": {},
   "source": [
    "### 2.6\n",
    "\n",
    "1. Create a new independent parameter x_fit ranging from -11 to 11 with an increment of 0.1\n",
    "2. Plot the same three plots as in 2.3 again but apply the tenth order polynomial to x_fit instead of x\n"
   ]
  },
  {
   "cell_type": "code",
   "execution_count": 11,
   "id": "6c67a977",
   "metadata": {},
   "outputs": [
    {
     "data": {
      "image/svg+xml": [
       "<?xml version=\"1.0\" encoding=\"utf-8\"?>\n",
       "<svg xmlns=\"http://www.w3.org/2000/svg\" xmlns:xlink=\"http://www.w3.org/1999/xlink\" width=\"600\" height=\"400\" viewBox=\"0 0 2400 1600\">\n",
       "<defs>\n",
       "  <clipPath id=\"clip110\">\n",
       "    <rect x=\"0\" y=\"0\" width=\"2400\" height=\"1600\"/>\n",
       "  </clipPath>\n",
       "</defs>\n",
       "<path clip-path=\"url(#clip110)\" d=\"M0 1600 L2400 1600 L2400 0 L0 0  Z\" fill=\"#ffffff\" fill-rule=\"evenodd\" fill-opacity=\"1\"/>\n",
       "<defs>\n",
       "  <clipPath id=\"clip111\">\n",
       "    <rect x=\"480\" y=\"0\" width=\"1681\" height=\"1600\"/>\n",
       "  </clipPath>\n",
       "</defs>\n",
       "<path clip-path=\"url(#clip110)\" d=\"M169.121 1486.45 L2352.76 1486.45 L2352.76 47.2441 L169.121 47.2441  Z\" fill=\"#ffffff\" fill-rule=\"evenodd\" fill-opacity=\"1\"/>\n",
       "<defs>\n",
       "  <clipPath id=\"clip112\">\n",
       "    <rect x=\"169\" y=\"47\" width=\"2185\" height=\"1440\"/>\n",
       "  </clipPath>\n",
       "</defs>\n",
       "<polyline clip-path=\"url(#clip112)\" style=\"stroke:#000000; stroke-linecap:round; stroke-linejoin:round; stroke-width:2; stroke-opacity:0.1; fill:none\" points=\"324.56,1486.45 324.56,47.2441 \"/>\n",
       "<polyline clip-path=\"url(#clip112)\" style=\"stroke:#000000; stroke-linecap:round; stroke-linejoin:round; stroke-width:2; stroke-opacity:0.1; fill:none\" points=\"792.749,1486.45 792.749,47.2441 \"/>\n",
       "<polyline clip-path=\"url(#clip112)\" style=\"stroke:#000000; stroke-linecap:round; stroke-linejoin:round; stroke-width:2; stroke-opacity:0.1; fill:none\" points=\"1260.94,1486.45 1260.94,47.2441 \"/>\n",
       "<polyline clip-path=\"url(#clip112)\" style=\"stroke:#000000; stroke-linecap:round; stroke-linejoin:round; stroke-width:2; stroke-opacity:0.1; fill:none\" points=\"1729.13,1486.45 1729.13,47.2441 \"/>\n",
       "<polyline clip-path=\"url(#clip112)\" style=\"stroke:#000000; stroke-linecap:round; stroke-linejoin:round; stroke-width:2; stroke-opacity:0.1; fill:none\" points=\"2197.32,1486.45 2197.32,47.2441 \"/>\n",
       "<polyline clip-path=\"url(#clip110)\" style=\"stroke:#000000; stroke-linecap:round; stroke-linejoin:round; stroke-width:4; stroke-opacity:1; fill:none\" points=\"169.121,1486.45 2352.76,1486.45 \"/>\n",
       "<polyline clip-path=\"url(#clip110)\" style=\"stroke:#000000; stroke-linecap:round; stroke-linejoin:round; stroke-width:4; stroke-opacity:1; fill:none\" points=\"324.56,1486.45 324.56,1467.55 \"/>\n",
       "<polyline clip-path=\"url(#clip110)\" style=\"stroke:#000000; stroke-linecap:round; stroke-linejoin:round; stroke-width:4; stroke-opacity:1; fill:none\" points=\"792.749,1486.45 792.749,1467.55 \"/>\n",
       "<polyline clip-path=\"url(#clip110)\" style=\"stroke:#000000; stroke-linecap:round; stroke-linejoin:round; stroke-width:4; stroke-opacity:1; fill:none\" points=\"1260.94,1486.45 1260.94,1467.55 \"/>\n",
       "<polyline clip-path=\"url(#clip110)\" style=\"stroke:#000000; stroke-linecap:round; stroke-linejoin:round; stroke-width:4; stroke-opacity:1; fill:none\" points=\"1729.13,1486.45 1729.13,1467.55 \"/>\n",
       "<polyline clip-path=\"url(#clip110)\" style=\"stroke:#000000; stroke-linecap:round; stroke-linejoin:round; stroke-width:4; stroke-opacity:1; fill:none\" points=\"2197.32,1486.45 2197.32,1467.55 \"/>\n",
       "<path clip-path=\"url(#clip110)\" d=\"M278.623 1532.02 L308.299 1532.02 L308.299 1535.95 L278.623 1535.95 L278.623 1532.02 Z\" fill=\"#000000\" fill-rule=\"evenodd\" fill-opacity=\"1\" /><path clip-path=\"url(#clip110)\" d=\"M319.201 1544.91 L326.84 1544.91 L326.84 1518.55 L318.53 1520.21 L318.53 1515.95 L326.794 1514.29 L331.47 1514.29 L331.47 1544.91 L339.109 1544.91 L339.109 1548.85 L319.201 1548.85 L319.201 1544.91 Z\" fill=\"#000000\" fill-rule=\"evenodd\" fill-opacity=\"1\" /><path clip-path=\"url(#clip110)\" d=\"M358.553 1517.37 Q354.942 1517.37 353.113 1520.93 Q351.308 1524.47 351.308 1531.6 Q351.308 1538.71 353.113 1542.27 Q354.942 1545.82 358.553 1545.82 Q362.187 1545.82 363.993 1542.27 Q365.821 1538.71 365.821 1531.6 Q365.821 1524.47 363.993 1520.93 Q362.187 1517.37 358.553 1517.37 M358.553 1513.66 Q364.363 1513.66 367.419 1518.27 Q370.497 1522.85 370.497 1531.6 Q370.497 1540.33 367.419 1544.94 Q364.363 1549.52 358.553 1549.52 Q352.743 1549.52 349.664 1544.94 Q346.609 1540.33 346.609 1531.6 Q346.609 1522.85 349.664 1518.27 Q352.743 1513.66 358.553 1513.66 Z\" fill=\"#000000\" fill-rule=\"evenodd\" fill-opacity=\"1\" /><path clip-path=\"url(#clip110)\" d=\"M762.391 1532.02 L792.067 1532.02 L792.067 1535.95 L762.391 1535.95 L762.391 1532.02 Z\" fill=\"#000000\" fill-rule=\"evenodd\" fill-opacity=\"1\" /><path clip-path=\"url(#clip110)\" d=\"M802.205 1514.29 L820.562 1514.29 L820.562 1518.22 L806.488 1518.22 L806.488 1526.7 Q807.506 1526.35 808.525 1526.19 Q809.543 1526 810.562 1526 Q816.349 1526 819.728 1529.17 Q823.108 1532.34 823.108 1537.76 Q823.108 1543.34 819.636 1546.44 Q816.164 1549.52 809.844 1549.52 Q807.668 1549.52 805.4 1549.15 Q803.154 1548.78 800.747 1548.04 L800.747 1543.34 Q802.83 1544.47 805.053 1545.03 Q807.275 1545.58 809.752 1545.58 Q813.756 1545.58 816.094 1543.48 Q818.432 1541.37 818.432 1537.76 Q818.432 1534.15 816.094 1532.04 Q813.756 1529.94 809.752 1529.94 Q807.877 1529.94 806.002 1530.35 Q804.15 1530.77 802.205 1531.65 L802.205 1514.29 Z\" fill=\"#000000\" fill-rule=\"evenodd\" fill-opacity=\"1\" /><path clip-path=\"url(#clip110)\" d=\"M1260.94 1517.37 Q1257.33 1517.37 1255.5 1520.93 Q1253.69 1524.47 1253.69 1531.6 Q1253.69 1538.71 1255.5 1542.27 Q1257.33 1545.82 1260.94 1545.82 Q1264.57 1545.82 1266.38 1542.27 Q1268.21 1538.71 1268.21 1531.6 Q1268.21 1524.47 1266.38 1520.93 Q1264.57 1517.37 1260.94 1517.37 M1260.94 1513.66 Q1266.75 1513.66 1269.8 1518.27 Q1272.88 1522.85 1272.88 1531.6 Q1272.88 1540.33 1269.8 1544.94 Q1266.75 1549.52 1260.94 1549.52 Q1255.13 1549.52 1252.05 1544.94 Q1248.99 1540.33 1248.99 1531.6 Q1248.99 1522.85 1252.05 1518.27 Q1255.13 1513.66 1260.94 1513.66 Z\" fill=\"#000000\" fill-rule=\"evenodd\" fill-opacity=\"1\" /><path clip-path=\"url(#clip110)\" d=\"M1719.41 1514.29 L1737.76 1514.29 L1737.76 1518.22 L1723.69 1518.22 L1723.69 1526.7 Q1724.71 1526.35 1725.73 1526.19 Q1726.74 1526 1727.76 1526 Q1733.55 1526 1736.93 1529.17 Q1740.31 1532.34 1740.31 1537.76 Q1740.31 1543.34 1736.84 1546.44 Q1733.36 1549.52 1727.04 1549.52 Q1724.87 1549.52 1722.6 1549.15 Q1720.35 1548.78 1717.95 1548.04 L1717.95 1543.34 Q1720.03 1544.47 1722.25 1545.03 Q1724.48 1545.58 1726.95 1545.58 Q1730.96 1545.58 1733.29 1543.48 Q1735.63 1541.37 1735.63 1537.76 Q1735.63 1534.15 1733.29 1532.04 Q1730.96 1529.94 1726.95 1529.94 Q1725.08 1529.94 1723.2 1530.35 Q1721.35 1530.77 1719.41 1531.65 L1719.41 1514.29 Z\" fill=\"#000000\" fill-rule=\"evenodd\" fill-opacity=\"1\" /><path clip-path=\"url(#clip110)\" d=\"M2172 1544.91 L2179.64 1544.91 L2179.64 1518.55 L2171.33 1520.21 L2171.33 1515.95 L2179.6 1514.29 L2184.27 1514.29 L2184.27 1544.91 L2191.91 1544.91 L2191.91 1548.85 L2172 1548.85 L2172 1544.91 Z\" fill=\"#000000\" fill-rule=\"evenodd\" fill-opacity=\"1\" /><path clip-path=\"url(#clip110)\" d=\"M2211.36 1517.37 Q2207.75 1517.37 2205.92 1520.93 Q2204.11 1524.47 2204.11 1531.6 Q2204.11 1538.71 2205.92 1542.27 Q2207.75 1545.82 2211.36 1545.82 Q2214.99 1545.82 2216.8 1542.27 Q2218.62 1538.71 2218.62 1531.6 Q2218.62 1524.47 2216.8 1520.93 Q2214.99 1517.37 2211.36 1517.37 M2211.36 1513.66 Q2217.17 1513.66 2220.22 1518.27 Q2223.3 1522.85 2223.3 1531.6 Q2223.3 1540.33 2220.22 1544.94 Q2217.17 1549.52 2211.36 1549.52 Q2205.55 1549.52 2202.47 1544.94 Q2199.41 1540.33 2199.41 1531.6 Q2199.41 1522.85 2202.47 1518.27 Q2205.55 1513.66 2211.36 1513.66 Z\" fill=\"#000000\" fill-rule=\"evenodd\" fill-opacity=\"1\" /><polyline clip-path=\"url(#clip112)\" style=\"stroke:#000000; stroke-linecap:round; stroke-linejoin:round; stroke-width:2; stroke-opacity:0.1; fill:none\" points=\"169.121,1302.09 2352.76,1302.09 \"/>\n",
       "<polyline clip-path=\"url(#clip112)\" style=\"stroke:#000000; stroke-linecap:round; stroke-linejoin:round; stroke-width:2; stroke-opacity:0.1; fill:none\" points=\"169.121,975.099 2352.76,975.099 \"/>\n",
       "<polyline clip-path=\"url(#clip112)\" style=\"stroke:#000000; stroke-linecap:round; stroke-linejoin:round; stroke-width:2; stroke-opacity:0.1; fill:none\" points=\"169.121,648.104 2352.76,648.104 \"/>\n",
       "<polyline clip-path=\"url(#clip112)\" style=\"stroke:#000000; stroke-linecap:round; stroke-linejoin:round; stroke-width:2; stroke-opacity:0.1; fill:none\" points=\"169.121,321.108 2352.76,321.108 \"/>\n",
       "<polyline clip-path=\"url(#clip110)\" style=\"stroke:#000000; stroke-linecap:round; stroke-linejoin:round; stroke-width:4; stroke-opacity:1; fill:none\" points=\"169.121,1486.45 169.121,47.2441 \"/>\n",
       "<polyline clip-path=\"url(#clip110)\" style=\"stroke:#000000; stroke-linecap:round; stroke-linejoin:round; stroke-width:4; stroke-opacity:1; fill:none\" points=\"169.121,1302.09 188.019,1302.09 \"/>\n",
       "<polyline clip-path=\"url(#clip110)\" style=\"stroke:#000000; stroke-linecap:round; stroke-linejoin:round; stroke-width:4; stroke-opacity:1; fill:none\" points=\"169.121,975.099 188.019,975.099 \"/>\n",
       "<polyline clip-path=\"url(#clip110)\" style=\"stroke:#000000; stroke-linecap:round; stroke-linejoin:round; stroke-width:4; stroke-opacity:1; fill:none\" points=\"169.121,648.104 188.019,648.104 \"/>\n",
       "<polyline clip-path=\"url(#clip110)\" style=\"stroke:#000000; stroke-linecap:round; stroke-linejoin:round; stroke-width:4; stroke-opacity:1; fill:none\" points=\"169.121,321.108 188.019,321.108 \"/>\n",
       "<path clip-path=\"url(#clip110)\" d=\"M121.177 1287.89 Q117.566 1287.89 115.737 1291.46 Q113.932 1295 113.932 1302.13 Q113.932 1309.24 115.737 1312.8 Q117.566 1316.34 121.177 1316.34 Q124.811 1316.34 126.617 1312.8 Q128.445 1309.24 128.445 1302.13 Q128.445 1295 126.617 1291.46 Q124.811 1287.89 121.177 1287.89 M121.177 1284.19 Q126.987 1284.19 130.043 1288.8 Q133.121 1293.38 133.121 1302.13 Q133.121 1310.86 130.043 1315.46 Q126.987 1320.05 121.177 1320.05 Q115.367 1320.05 112.288 1315.46 Q109.233 1310.86 109.233 1302.13 Q109.233 1293.38 112.288 1288.8 Q115.367 1284.19 121.177 1284.19 Z\" fill=\"#000000\" fill-rule=\"evenodd\" fill-opacity=\"1\" /><path clip-path=\"url(#clip110)\" d=\"M81.0614 957.819 L99.4178 957.819 L99.4178 961.754 L85.3438 961.754 L85.3438 970.227 Q86.3623 969.879 87.3808 969.717 Q88.3993 969.532 89.4178 969.532 Q95.2049 969.532 98.5845 972.703 Q101.964 975.875 101.964 981.291 Q101.964 986.87 98.4919 989.972 Q95.0197 993.051 88.7003 993.051 Q86.5243 993.051 84.2558 992.68 Q82.0105 992.31 79.6031 991.569 L79.6031 986.87 Q81.6864 988.004 83.9086 988.56 Q86.1308 989.115 88.6077 989.115 Q92.6123 989.115 94.9502 987.009 Q97.2882 984.902 97.2882 981.291 Q97.2882 977.68 94.9502 975.574 Q92.6123 973.467 88.6077 973.467 Q86.7327 973.467 84.8577 973.884 Q83.0058 974.301 81.0614 975.18 L81.0614 957.819 Z\" fill=\"#000000\" fill-rule=\"evenodd\" fill-opacity=\"1\" /><path clip-path=\"url(#clip110)\" d=\"M121.177 960.898 Q117.566 960.898 115.737 964.463 Q113.932 968.004 113.932 975.134 Q113.932 982.24 115.737 985.805 Q117.566 989.347 121.177 989.347 Q124.811 989.347 126.617 985.805 Q128.445 982.24 128.445 975.134 Q128.445 968.004 126.617 964.463 Q124.811 960.898 121.177 960.898 M121.177 957.194 Q126.987 957.194 130.043 961.801 Q133.121 966.384 133.121 975.134 Q133.121 983.861 130.043 988.467 Q126.987 993.051 121.177 993.051 Q115.367 993.051 112.288 988.467 Q109.233 983.861 109.233 975.134 Q109.233 966.384 112.288 961.801 Q115.367 957.194 121.177 957.194 Z\" fill=\"#000000\" fill-rule=\"evenodd\" fill-opacity=\"1\" /><path clip-path=\"url(#clip110)\" d=\"M51.6634 661.448 L59.3023 661.448 L59.3023 635.083 L50.9921 636.749 L50.9921 632.49 L59.256 630.824 L63.9319 630.824 L63.9319 661.448 L71.5707 661.448 L71.5707 665.384 L51.6634 665.384 L51.6634 661.448 Z\" fill=\"#000000\" fill-rule=\"evenodd\" fill-opacity=\"1\" /><path clip-path=\"url(#clip110)\" d=\"M91.0151 633.902 Q87.404 633.902 85.5753 637.467 Q83.7697 641.009 83.7697 648.138 Q83.7697 655.245 85.5753 658.809 Q87.404 662.351 91.0151 662.351 Q94.6493 662.351 96.4548 658.809 Q98.2835 655.245 98.2835 648.138 Q98.2835 641.009 96.4548 637.467 Q94.6493 633.902 91.0151 633.902 M91.0151 630.199 Q96.8252 630.199 99.8808 634.805 Q102.959 639.388 102.959 648.138 Q102.959 656.865 99.8808 661.472 Q96.8252 666.055 91.0151 666.055 Q85.2049 666.055 82.1262 661.472 Q79.0707 656.865 79.0707 648.138 Q79.0707 639.388 82.1262 634.805 Q85.2049 630.199 91.0151 630.199 Z\" fill=\"#000000\" fill-rule=\"evenodd\" fill-opacity=\"1\" /><path clip-path=\"url(#clip110)\" d=\"M121.177 633.902 Q117.566 633.902 115.737 637.467 Q113.932 641.009 113.932 648.138 Q113.932 655.245 115.737 658.809 Q117.566 662.351 121.177 662.351 Q124.811 662.351 126.617 658.809 Q128.445 655.245 128.445 648.138 Q128.445 641.009 126.617 637.467 Q124.811 633.902 121.177 633.902 M121.177 630.199 Q126.987 630.199 130.043 634.805 Q133.121 639.388 133.121 648.138 Q133.121 656.865 130.043 661.472 Q126.987 666.055 121.177 666.055 Q115.367 666.055 112.288 661.472 Q109.233 656.865 109.233 648.138 Q109.233 639.388 112.288 634.805 Q115.367 630.199 121.177 630.199 Z\" fill=\"#000000\" fill-rule=\"evenodd\" fill-opacity=\"1\" /><path clip-path=\"url(#clip110)\" d=\"M51.6634 334.453 L59.3023 334.453 L59.3023 308.087 L50.9921 309.754 L50.9921 305.494 L59.256 303.828 L63.9319 303.828 L63.9319 334.453 L71.5707 334.453 L71.5707 338.388 L51.6634 338.388 L51.6634 334.453 Z\" fill=\"#000000\" fill-rule=\"evenodd\" fill-opacity=\"1\" /><path clip-path=\"url(#clip110)\" d=\"M81.0614 303.828 L99.4178 303.828 L99.4178 307.763 L85.3438 307.763 L85.3438 316.235 Q86.3623 315.888 87.3808 315.726 Q88.3993 315.541 89.4178 315.541 Q95.2049 315.541 98.5845 318.712 Q101.964 321.883 101.964 327.3 Q101.964 332.879 98.4919 335.98 Q95.0197 339.059 88.7003 339.059 Q86.5243 339.059 84.2558 338.689 Q82.0105 338.318 79.6031 337.578 L79.6031 332.879 Q81.6864 334.013 83.9086 334.568 Q86.1308 335.124 88.6077 335.124 Q92.6123 335.124 94.9502 333.017 Q97.2882 330.911 97.2882 327.3 Q97.2882 323.689 94.9502 321.582 Q92.6123 319.476 88.6077 319.476 Q86.7327 319.476 84.8577 319.893 Q83.0058 320.309 81.0614 321.189 L81.0614 303.828 Z\" fill=\"#000000\" fill-rule=\"evenodd\" fill-opacity=\"1\" /><path clip-path=\"url(#clip110)\" d=\"M121.177 306.907 Q117.566 306.907 115.737 310.471 Q113.932 314.013 113.932 321.143 Q113.932 328.249 115.737 331.814 Q117.566 335.355 121.177 335.355 Q124.811 335.355 126.617 331.814 Q128.445 328.249 128.445 321.143 Q128.445 314.013 126.617 310.471 Q124.811 306.907 121.177 306.907 M121.177 303.203 Q126.987 303.203 130.043 307.809 Q133.121 312.393 133.121 321.143 Q133.121 329.869 130.043 334.476 Q126.987 339.059 121.177 339.059 Q115.367 339.059 112.288 334.476 Q109.233 329.869 109.233 321.143 Q109.233 312.393 112.288 307.809 Q115.367 303.203 121.177 303.203 Z\" fill=\"#000000\" fill-rule=\"evenodd\" fill-opacity=\"1\" /><circle clip-path=\"url(#clip112)\" cx=\"324.56\" cy=\"821.124\" r=\"14.4\" fill=\"#009af9\" fill-rule=\"evenodd\" fill-opacity=\"1\" stroke=\"#000000\" stroke-opacity=\"1\" stroke-width=\"3.2\"/>\n",
       "<circle clip-path=\"url(#clip112)\" cx=\"418.198\" cy=\"982.275\" r=\"14.4\" fill=\"#009af9\" fill-rule=\"evenodd\" fill-opacity=\"1\" stroke=\"#000000\" stroke-opacity=\"1\" stroke-width=\"3.2\"/>\n",
       "<circle clip-path=\"url(#clip112)\" cx=\"511.836\" cy=\"1056.24\" r=\"14.4\" fill=\"#009af9\" fill-rule=\"evenodd\" fill-opacity=\"1\" stroke=\"#000000\" stroke-opacity=\"1\" stroke-width=\"3.2\"/>\n",
       "<circle clip-path=\"url(#clip112)\" cx=\"605.474\" cy=\"1242.1\" r=\"14.4\" fill=\"#009af9\" fill-rule=\"evenodd\" fill-opacity=\"1\" stroke=\"#000000\" stroke-opacity=\"1\" stroke-width=\"3.2\"/>\n",
       "<circle clip-path=\"url(#clip112)\" cx=\"699.112\" cy=\"1245.44\" r=\"14.4\" fill=\"#009af9\" fill-rule=\"evenodd\" fill-opacity=\"1\" stroke=\"#000000\" stroke-opacity=\"1\" stroke-width=\"3.2\"/>\n",
       "<circle clip-path=\"url(#clip112)\" cx=\"792.749\" cy=\"1235.61\" r=\"14.4\" fill=\"#009af9\" fill-rule=\"evenodd\" fill-opacity=\"1\" stroke=\"#000000\" stroke-opacity=\"1\" stroke-width=\"3.2\"/>\n",
       "<circle clip-path=\"url(#clip112)\" cx=\"886.387\" cy=\"1219.61\" r=\"14.4\" fill=\"#009af9\" fill-rule=\"evenodd\" fill-opacity=\"1\" stroke=\"#000000\" stroke-opacity=\"1\" stroke-width=\"3.2\"/>\n",
       "<circle clip-path=\"url(#clip112)\" cx=\"980.025\" cy=\"1259.1\" r=\"14.4\" fill=\"#009af9\" fill-rule=\"evenodd\" fill-opacity=\"1\" stroke=\"#000000\" stroke-opacity=\"1\" stroke-width=\"3.2\"/>\n",
       "<circle clip-path=\"url(#clip112)\" cx=\"1073.66\" cy=\"1445.72\" r=\"14.4\" fill=\"#009af9\" fill-rule=\"evenodd\" fill-opacity=\"1\" stroke=\"#000000\" stroke-opacity=\"1\" stroke-width=\"3.2\"/>\n",
       "<circle clip-path=\"url(#clip112)\" cx=\"1167.3\" cy=\"1286.81\" r=\"14.4\" fill=\"#009af9\" fill-rule=\"evenodd\" fill-opacity=\"1\" stroke=\"#000000\" stroke-opacity=\"1\" stroke-width=\"3.2\"/>\n",
       "<circle clip-path=\"url(#clip112)\" cx=\"1260.94\" cy=\"1350.42\" r=\"14.4\" fill=\"#009af9\" fill-rule=\"evenodd\" fill-opacity=\"1\" stroke=\"#000000\" stroke-opacity=\"1\" stroke-width=\"3.2\"/>\n",
       "<circle clip-path=\"url(#clip112)\" cx=\"1354.58\" cy=\"1347.08\" r=\"14.4\" fill=\"#009af9\" fill-rule=\"evenodd\" fill-opacity=\"1\" stroke=\"#000000\" stroke-opacity=\"1\" stroke-width=\"3.2\"/>\n",
       "<circle clip-path=\"url(#clip112)\" cx=\"1448.21\" cy=\"1184.03\" r=\"14.4\" fill=\"#009af9\" fill-rule=\"evenodd\" fill-opacity=\"1\" stroke=\"#000000\" stroke-opacity=\"1\" stroke-width=\"3.2\"/>\n",
       "<circle clip-path=\"url(#clip112)\" cx=\"1541.85\" cy=\"1290.22\" r=\"14.4\" fill=\"#009af9\" fill-rule=\"evenodd\" fill-opacity=\"1\" stroke=\"#000000\" stroke-opacity=\"1\" stroke-width=\"3.2\"/>\n",
       "<circle clip-path=\"url(#clip112)\" cx=\"1635.49\" cy=\"1143.61\" r=\"14.4\" fill=\"#009af9\" fill-rule=\"evenodd\" fill-opacity=\"1\" stroke=\"#000000\" stroke-opacity=\"1\" stroke-width=\"3.2\"/>\n",
       "<circle clip-path=\"url(#clip112)\" cx=\"1729.13\" cy=\"974.453\" r=\"14.4\" fill=\"#009af9\" fill-rule=\"evenodd\" fill-opacity=\"1\" stroke=\"#000000\" stroke-opacity=\"1\" stroke-width=\"3.2\"/>\n",
       "<circle clip-path=\"url(#clip112)\" cx=\"1822.77\" cy=\"974.072\" r=\"14.4\" fill=\"#009af9\" fill-rule=\"evenodd\" fill-opacity=\"1\" stroke=\"#000000\" stroke-opacity=\"1\" stroke-width=\"3.2\"/>\n",
       "<circle clip-path=\"url(#clip112)\" cx=\"1916.4\" cy=\"879.302\" r=\"14.4\" fill=\"#009af9\" fill-rule=\"evenodd\" fill-opacity=\"1\" stroke=\"#000000\" stroke-opacity=\"1\" stroke-width=\"3.2\"/>\n",
       "<circle clip-path=\"url(#clip112)\" cx=\"2010.04\" cy=\"799.078\" r=\"14.4\" fill=\"#009af9\" fill-rule=\"evenodd\" fill-opacity=\"1\" stroke=\"#000000\" stroke-opacity=\"1\" stroke-width=\"3.2\"/>\n",
       "<circle clip-path=\"url(#clip112)\" cx=\"2103.68\" cy=\"634.485\" r=\"14.4\" fill=\"#009af9\" fill-rule=\"evenodd\" fill-opacity=\"1\" stroke=\"#000000\" stroke-opacity=\"1\" stroke-width=\"3.2\"/>\n",
       "<circle clip-path=\"url(#clip112)\" cx=\"2197.32\" cy=\"394.19\" r=\"14.4\" fill=\"#009af9\" fill-rule=\"evenodd\" fill-opacity=\"1\" stroke=\"#000000\" stroke-opacity=\"1\" stroke-width=\"3.2\"/>\n",
       "<polyline clip-path=\"url(#clip112)\" style=\"stroke:#e26f46; stroke-linecap:round; stroke-linejoin:round; stroke-width:4; stroke-opacity:1; fill:none\" points=\"324.56,857.381 418.198,962.019 511.836,1053.58 605.474,1132.06 699.112,1197.46 792.749,1249.78 886.387,1289.02 980.025,1315.17 1073.66,1328.25 1167.3,1328.25 1260.94,1315.17 1354.58,1289.02 1448.21,1249.78 1541.85,1197.46 1635.49,1132.06 1729.13,1053.58 1822.77,962.019 1916.4,857.381 2010.04,739.662 2103.68,608.864 2197.32,464.986 \"/>\n",
       "<polyline clip-path=\"url(#clip112)\" style=\"stroke:#3da44d; stroke-linecap:round; stroke-linejoin:round; stroke-width:4; stroke-opacity:1; fill:none\" points=\"230.922,1284.41 240.286,1180.01 249.65,1093.07 259.014,1021.66 268.377,964.012 277.741,918.512 287.105,883.684 296.469,858.185 305.833,840.794 315.196,830.402 324.56,826.009 333.924,826.709 343.288,831.69 352.651,840.223 362.015,851.657 371.379,865.411 380.743,880.973 390.107,897.89 399.47,915.763 408.834,934.248 418.198,953.043 427.562,971.893 436.926,990.577 446.289,1008.91 455.653,1026.75 465.017,1043.95 474.381,1060.44 483.744,1076.12 493.108,1090.95 502.472,1104.89 511.836,1117.91 521.2,1130.01 530.563,1141.2 539.927,1151.47 549.291,1160.87 558.655,1169.41 568.019,1177.14 577.382,1184.1 586.746,1190.33 596.11,1195.87 605.474,1200.79 614.837,1205.13 624.201,1208.94 633.565,1212.27 642.929,1215.18 652.293,1217.72 661.656,1219.93 671.02,1221.86 680.384,1223.56 689.748,1225.08 699.112,1226.44 708.475,1227.69 717.839,1228.87 727.203,1230.01 736.567,1231.13 745.93,1232.27 755.294,1233.45 764.658,1234.68 774.022,1236 783.386,1237.41 792.749,1238.93 802.113,1240.57 811.477,1242.34 820.841,1244.24 830.205,1246.28 839.568,1248.46 848.932,1250.78 858.296,1253.24 867.66,1255.83 877.023,1258.56 886.387,1261.41 895.751,1264.37 905.115,1267.45 914.479,1270.62 923.842,1273.88 933.206,1277.22 942.57,1280.62 951.934,1284.08 961.298,1287.58 970.661,1291.1 980.025,1294.64 989.389,1298.18 998.753,1301.7 1008.12,1305.2 1017.48,1308.66 1026.84,1312.06 1036.21,1315.4 1045.57,1318.66 1054.94,1321.82 1064.3,1324.88 1073.66,1327.83 1083.03,1330.65 1092.39,1333.33 1101.75,1335.86 1111.12,1338.24 1120.48,1340.44 1129.85,1342.47 1139.21,1344.31 1148.57,1345.96 1157.94,1347.41 1167.3,1348.66 1176.66,1349.69 1186.03,1350.49 1195.39,1351.08 1204.76,1351.44 1214.12,1351.56 1223.48,1351.44 1232.85,1351.08 1242.21,1350.48 1251.57,1349.63 1260.94,1348.54 1270.3,1347.19 1279.67,1345.59 1289.03,1343.74 1298.39,1341.64 1307.76,1339.28 1317.12,1336.67 1326.49,1333.81 1335.85,1330.7 1345.21,1327.34 1354.58,1323.73 1363.94,1319.87 1373.3,1315.77 1382.67,1311.43 1392.03,1306.85 1401.4,1302.03 1410.76,1296.99 1420.12,1291.71 1429.49,1286.22 1438.85,1280.5 1448.21,1274.57 1457.58,1268.44 1466.94,1262.1 1476.31,1255.56 1485.67,1248.83 1495.03,1241.93 1504.4,1234.84 1513.76,1227.59 1523.12,1220.18 1532.49,1212.61 1541.85,1204.9 1551.22,1197.06 1560.58,1189.09 1569.94,1181 1579.31,1172.81 1588.67,1164.52 1598.03,1156.14 1607.4,1147.69 1616.76,1139.17 1626.13,1130.6 1635.49,1121.99 1644.85,1113.34 1654.22,1104.67 1663.58,1096 1672.95,1087.32 1682.31,1078.65 1691.67,1070 1701.04,1061.38 1710.4,1052.8 1719.76,1044.27 1729.13,1035.79 1738.49,1027.38 1747.86,1019.04 1757.22,1010.77 1766.58,1002.58 1775.95,994.478 1785.31,986.458 1794.67,978.524 1804.04,970.673 1813.4,962.904 1822.77,955.212 1832.13,947.589 1841.49,940.029 1850.86,932.519 1860.22,925.046 1869.58,917.596 1878.95,910.151 1888.31,902.69 1897.68,895.189 1907.04,887.624 1916.4,879.966 1925.77,872.183 1935.13,864.242 1944.49,856.105 1953.86,847.734 1963.22,839.087 1972.59,830.118 1981.95,820.781 1991.31,811.028 2000.68,800.806 2010.04,790.063 2019.41,778.746 2028.77,766.798 2038.13,754.164 2047.5,740.79 2056.86,726.618 2066.22,711.596 2075.59,695.672 2084.95,678.795 2094.32,660.92 2103.68,642.006 2113.04,622.017 2122.41,600.926 2131.77,578.711 2141.13,555.362 2150.5,530.88 2159.86,505.279 2169.23,478.588 2178.59,450.853 2187.95,422.139 2197.32,392.534 2206.68,362.149 2216.04,331.122 2225.41,299.622 2234.77,267.851 2244.14,236.048 2253.5,204.493 2262.86,173.508 2272.23,143.467 2281.59,114.795 2290.95,87.9763 \"/>\n",
       "<path clip-path=\"url(#clip110)\" d=\"M241.909 302.578 L661.082 302.578 L661.082 95.2176 L241.909 95.2176  Z\" fill=\"#ffffff\" fill-rule=\"evenodd\" fill-opacity=\"1\"/>\n",
       "<polyline clip-path=\"url(#clip110)\" style=\"stroke:#000000; stroke-linecap:round; stroke-linejoin:round; stroke-width:4; stroke-opacity:1; fill:none\" points=\"241.909,302.578 661.082,302.578 661.082,95.2176 241.909,95.2176 241.909,302.578 \"/>\n",
       "<circle clip-path=\"url(#clip110)\" cx=\"338.96\" cy=\"147.058\" r=\"23.04\" fill=\"#009af9\" fill-rule=\"evenodd\" fill-opacity=\"1\" stroke=\"#000000\" stroke-opacity=\"1\" stroke-width=\"5.12\"/>\n",
       "<path clip-path=\"url(#clip110)\" d=\"M454.922 142.347 L454.922 128.319 L459.181 128.319 L459.181 164.338 L454.922 164.338 L454.922 160.449 Q453.579 162.763 451.519 163.898 Q449.482 165.009 446.612 165.009 Q441.913 165.009 438.95 161.259 Q436.01 157.509 436.01 151.398 Q436.01 145.287 438.95 141.537 Q441.913 137.787 446.612 137.787 Q449.482 137.787 451.519 138.921 Q453.579 140.032 454.922 142.347 M440.408 151.398 Q440.408 156.097 442.329 158.782 Q444.274 161.444 447.653 161.444 Q451.033 161.444 452.977 158.782 Q454.922 156.097 454.922 151.398 Q454.922 146.699 452.977 144.037 Q451.033 141.352 447.653 141.352 Q444.274 141.352 442.329 144.037 Q440.408 146.699 440.408 151.398 Z\" fill=\"#000000\" fill-rule=\"evenodd\" fill-opacity=\"1\" /><path clip-path=\"url(#clip110)\" d=\"M479.737 151.305 Q474.575 151.305 472.584 152.486 Q470.593 153.666 470.593 156.514 Q470.593 158.782 472.075 160.125 Q473.579 161.444 476.149 161.444 Q479.69 161.444 481.82 158.944 Q483.973 156.421 483.973 152.254 L483.973 151.305 L479.737 151.305 M488.232 149.546 L488.232 164.338 L483.973 164.338 L483.973 160.402 Q482.514 162.763 480.338 163.898 Q478.163 165.009 475.014 165.009 Q471.033 165.009 468.672 162.787 Q466.334 160.541 466.334 156.791 Q466.334 152.416 469.251 150.194 Q472.19 147.972 478.001 147.972 L483.973 147.972 L483.973 147.555 Q483.973 144.615 482.028 143.018 Q480.107 141.398 476.612 141.398 Q474.389 141.398 472.283 141.93 Q470.176 142.463 468.232 143.527 L468.232 139.592 Q470.57 138.69 472.769 138.25 Q474.968 137.787 477.051 137.787 Q482.676 137.787 485.454 140.703 Q488.232 143.62 488.232 149.546 Z\" fill=\"#000000\" fill-rule=\"evenodd\" fill-opacity=\"1\" /><path clip-path=\"url(#clip110)\" d=\"M501.218 131.051 L501.218 138.412 L509.991 138.412 L509.991 141.722 L501.218 141.722 L501.218 155.796 Q501.218 158.967 502.074 159.87 Q502.954 160.773 505.616 160.773 L509.991 160.773 L509.991 164.338 L505.616 164.338 Q500.686 164.338 498.811 162.509 Q496.936 160.657 496.936 155.796 L496.936 141.722 L493.811 141.722 L493.811 138.412 L496.936 138.412 L496.936 131.051 L501.218 131.051 Z\" fill=\"#000000\" fill-rule=\"evenodd\" fill-opacity=\"1\" /><path clip-path=\"url(#clip110)\" d=\"M527.375 151.305 Q522.213 151.305 520.222 152.486 Q518.232 153.666 518.232 156.514 Q518.232 158.782 519.713 160.125 Q521.218 161.444 523.787 161.444 Q527.329 161.444 529.459 158.944 Q531.611 156.421 531.611 152.254 L531.611 151.305 L527.375 151.305 M535.871 149.546 L535.871 164.338 L531.611 164.338 L531.611 160.402 Q530.153 162.763 527.977 163.898 Q525.801 165.009 522.653 165.009 Q518.672 165.009 516.31 162.787 Q513.973 160.541 513.973 156.791 Q513.973 152.416 516.889 150.194 Q519.829 147.972 525.639 147.972 L531.611 147.972 L531.611 147.555 Q531.611 144.615 529.667 143.018 Q527.746 141.398 524.25 141.398 Q522.028 141.398 519.922 141.93 Q517.815 142.463 515.871 143.527 L515.871 139.592 Q518.209 138.69 520.408 138.25 Q522.607 137.787 524.69 137.787 Q530.315 137.787 533.093 140.703 Q535.871 143.62 535.871 149.546 Z\" fill=\"#000000\" fill-rule=\"evenodd\" fill-opacity=\"1\" /><polyline clip-path=\"url(#clip110)\" style=\"stroke:#e26f46; stroke-linecap:round; stroke-linejoin:round; stroke-width:4; stroke-opacity:1; fill:none\" points=\"266.172,198.898 411.747,198.898 \"/>\n",
       "<path clip-path=\"url(#clip110)\" d=\"M443.417 182.891 L443.417 190.252 L452.19 190.252 L452.19 193.562 L443.417 193.562 L443.417 207.636 Q443.417 210.807 444.274 211.71 Q445.153 212.613 447.815 212.613 L452.19 212.613 L452.19 216.178 L447.815 216.178 Q442.885 216.178 441.01 214.349 Q439.135 212.497 439.135 207.636 L439.135 193.562 L436.01 193.562 L436.01 190.252 L439.135 190.252 L439.135 182.891 L443.417 182.891 Z\" fill=\"#000000\" fill-rule=\"evenodd\" fill-opacity=\"1\" /><path clip-path=\"url(#clip110)\" d=\"M472.815 194.233 Q472.098 193.817 471.241 193.631 Q470.408 193.423 469.389 193.423 Q465.778 193.423 463.834 195.784 Q461.913 198.122 461.913 202.52 L461.913 216.178 L457.63 216.178 L457.63 190.252 L461.913 190.252 L461.913 194.28 Q463.255 191.918 465.408 190.784 Q467.561 189.627 470.639 189.627 Q471.079 189.627 471.612 189.696 Q472.144 189.743 472.792 189.858 L472.815 194.233 Z\" fill=\"#000000\" fill-rule=\"evenodd\" fill-opacity=\"1\" /><path clip-path=\"url(#clip110)\" d=\"M476.843 205.946 L476.843 190.252 L481.102 190.252 L481.102 205.784 Q481.102 209.465 482.538 211.316 Q483.973 213.145 486.843 213.145 Q490.292 213.145 492.283 210.946 Q494.297 208.747 494.297 204.951 L494.297 190.252 L498.556 190.252 L498.556 216.178 L494.297 216.178 L494.297 212.196 Q492.746 214.557 490.686 215.715 Q488.649 216.849 485.94 216.849 Q481.473 216.849 479.158 214.071 Q476.843 211.293 476.843 205.946 M487.561 189.627 L487.561 189.627 Z\" fill=\"#000000\" fill-rule=\"evenodd\" fill-opacity=\"1\" /><path clip-path=\"url(#clip110)\" d=\"M529.505 202.15 L529.505 204.233 L509.922 204.233 Q510.199 208.631 512.561 210.946 Q514.945 213.238 519.181 213.238 Q521.635 213.238 523.926 212.636 Q526.241 212.034 528.509 210.83 L528.509 214.858 Q526.218 215.83 523.81 216.34 Q521.403 216.849 518.926 216.849 Q512.723 216.849 509.088 213.238 Q505.477 209.627 505.477 203.469 Q505.477 197.104 508.903 193.377 Q512.352 189.627 518.185 189.627 Q523.417 189.627 526.449 193.006 Q529.505 196.363 529.505 202.15 M525.246 200.9 Q525.199 197.405 523.278 195.321 Q521.38 193.238 518.232 193.238 Q514.667 193.238 512.514 195.252 Q510.385 197.266 510.061 200.923 L525.246 200.9 Z\" fill=\"#000000\" fill-rule=\"evenodd\" fill-opacity=\"1\" /><path clip-path=\"url(#clip110)\" d=\"M555.685 212.289 L555.685 226.039 L551.403 226.039 L551.403 190.252 L555.685 190.252 L555.685 194.187 Q557.028 191.872 559.065 190.761 Q561.125 189.627 563.972 189.627 Q568.694 189.627 571.634 193.377 Q574.597 197.127 574.597 203.238 Q574.597 209.349 571.634 213.099 Q568.694 216.849 563.972 216.849 Q561.125 216.849 559.065 215.738 Q557.028 214.603 555.685 212.289 M570.176 203.238 Q570.176 198.539 568.232 195.877 Q566.31 193.192 562.931 193.192 Q559.551 193.192 557.607 195.877 Q555.685 198.539 555.685 203.238 Q555.685 207.937 557.607 210.622 Q559.551 213.284 562.931 213.284 Q566.31 213.284 568.232 210.622 Q570.176 207.937 570.176 203.238 Z\" fill=\"#000000\" fill-rule=\"evenodd\" fill-opacity=\"1\" /><path clip-path=\"url(#clip110)\" d=\"M581.657 180.159 L585.917 180.159 L585.917 216.178 L581.657 216.178 L581.657 180.159 Z\" fill=\"#000000\" fill-rule=\"evenodd\" fill-opacity=\"1\" /><path clip-path=\"url(#clip110)\" d=\"M604.875 193.238 Q601.449 193.238 599.458 195.923 Q597.467 198.585 597.467 203.238 Q597.467 207.891 599.435 210.576 Q601.426 213.238 604.875 213.238 Q608.278 213.238 610.268 210.553 Q612.259 207.867 612.259 203.238 Q612.259 198.631 610.268 195.946 Q608.278 193.238 604.875 193.238 M604.875 189.627 Q610.43 189.627 613.602 193.238 Q616.773 196.849 616.773 203.238 Q616.773 209.604 613.602 213.238 Q610.43 216.849 604.875 216.849 Q599.296 216.849 596.125 213.238 Q592.977 209.604 592.977 203.238 Q592.977 196.849 596.125 193.238 Q599.296 189.627 604.875 189.627 Z\" fill=\"#000000\" fill-rule=\"evenodd\" fill-opacity=\"1\" /><path clip-path=\"url(#clip110)\" d=\"M628.046 182.891 L628.046 190.252 L636.819 190.252 L636.819 193.562 L628.046 193.562 L628.046 207.636 Q628.046 210.807 628.902 211.71 Q629.782 212.613 632.444 212.613 L636.819 212.613 L636.819 216.178 L632.444 216.178 Q627.514 216.178 625.639 214.349 Q623.764 212.497 623.764 207.636 L623.764 193.562 L620.639 193.562 L620.639 190.252 L623.764 190.252 L623.764 182.891 L628.046 182.891 Z\" fill=\"#000000\" fill-rule=\"evenodd\" fill-opacity=\"1\" /><polyline clip-path=\"url(#clip110)\" style=\"stroke:#3da44d; stroke-linecap:round; stroke-linejoin:round; stroke-width:4; stroke-opacity:1; fill:none\" points=\"266.172,250.738 411.747,250.738 \"/>\n",
       "<path clip-path=\"url(#clip110)\" d=\"M452.515 231.999 L452.515 235.541 L448.44 235.541 Q446.149 235.541 445.246 236.467 Q444.366 237.393 444.366 239.8 L444.366 242.092 L451.38 242.092 L451.38 245.402 L444.366 245.402 L444.366 268.018 L440.084 268.018 L440.084 245.402 L436.01 245.402 L436.01 242.092 L440.084 242.092 L440.084 240.286 Q440.084 235.958 442.098 233.99 Q444.112 231.999 448.487 231.999 L452.515 231.999 Z\" fill=\"#000000\" fill-rule=\"evenodd\" fill-opacity=\"1\" /><path clip-path=\"url(#clip110)\" d=\"M456.079 242.092 L460.339 242.092 L460.339 268.018 L456.079 268.018 L456.079 242.092 M456.079 231.999 L460.339 231.999 L460.339 237.393 L456.079 237.393 L456.079 231.999 Z\" fill=\"#000000\" fill-rule=\"evenodd\" fill-opacity=\"1\" /><path clip-path=\"url(#clip110)\" d=\"M473.463 234.731 L473.463 242.092 L482.237 242.092 L482.237 245.402 L473.463 245.402 L473.463 259.476 Q473.463 262.647 474.32 263.55 Q475.2 264.453 477.862 264.453 L482.237 264.453 L482.237 268.018 L477.862 268.018 Q472.931 268.018 471.056 266.189 Q469.181 264.337 469.181 259.476 L469.181 245.402 L466.056 245.402 L466.056 242.092 L469.181 242.092 L469.181 234.731 L473.463 234.731 Z\" fill=\"#000000\" fill-rule=\"evenodd\" fill-opacity=\"1\" /><path clip-path=\"url(#clip110)\" d=\"M507.028 264.129 L507.028 277.879 L502.746 277.879 L502.746 242.092 L507.028 242.092 L507.028 246.027 Q508.371 243.712 510.408 242.601 Q512.468 241.467 515.315 241.467 Q520.037 241.467 522.977 245.217 Q525.94 248.967 525.94 255.078 Q525.94 261.189 522.977 264.939 Q520.037 268.689 515.315 268.689 Q512.468 268.689 510.408 267.578 Q508.371 266.443 507.028 264.129 M521.519 255.078 Q521.519 250.379 519.574 247.717 Q517.653 245.032 514.273 245.032 Q510.894 245.032 508.949 247.717 Q507.028 250.379 507.028 255.078 Q507.028 259.777 508.949 262.462 Q510.894 265.124 514.273 265.124 Q517.653 265.124 519.574 262.462 Q521.519 259.777 521.519 255.078 Z\" fill=\"#000000\" fill-rule=\"evenodd\" fill-opacity=\"1\" /><path clip-path=\"url(#clip110)\" d=\"M533 231.999 L537.259 231.999 L537.259 268.018 L533 268.018 L533 231.999 Z\" fill=\"#000000\" fill-rule=\"evenodd\" fill-opacity=\"1\" /><path clip-path=\"url(#clip110)\" d=\"M556.218 245.078 Q552.792 245.078 550.801 247.763 Q548.81 250.425 548.81 255.078 Q548.81 259.731 550.778 262.416 Q552.769 265.078 556.218 265.078 Q559.62 265.078 561.611 262.393 Q563.602 259.707 563.602 255.078 Q563.602 250.471 561.611 247.786 Q559.62 245.078 556.218 245.078 M556.218 241.467 Q561.773 241.467 564.944 245.078 Q568.116 248.689 568.116 255.078 Q568.116 261.444 564.944 265.078 Q561.773 268.689 556.218 268.689 Q550.639 268.689 547.468 265.078 Q544.32 261.444 544.32 255.078 Q544.32 248.689 547.468 245.078 Q550.639 241.467 556.218 241.467 Z\" fill=\"#000000\" fill-rule=\"evenodd\" fill-opacity=\"1\" /><path clip-path=\"url(#clip110)\" d=\"M579.389 234.731 L579.389 242.092 L588.162 242.092 L588.162 245.402 L579.389 245.402 L579.389 259.476 Q579.389 262.647 580.245 263.55 Q581.125 264.453 583.787 264.453 L588.162 264.453 L588.162 268.018 L583.787 268.018 Q578.856 268.018 576.981 266.189 Q575.106 264.337 575.106 259.476 L575.106 245.402 L571.981 245.402 L571.981 242.092 L575.106 242.092 L575.106 234.731 L579.389 234.731 Z\" fill=\"#000000\" fill-rule=\"evenodd\" fill-opacity=\"1\" /></svg>\n"
      ]
     },
     "execution_count": 11,
     "metadata": {},
     "output_type": "execute_result"
    }
   ],
   "source": [
    "n = Normal(0,10)\n",
    "noise = rand(n, 21)\n",
    "y_observed = y_true + noise\n",
    "line_fit = fit(x,y_observed,10)\n",
    "x_fit = -11:0.1:11\n",
    "y_fit = line_fit.(x_fit)\n",
    "scatter(x,y_observed, label = \"data\")\n",
    "plot!(x, y_true, label = \"true plot\")\n",
    "plot!(x_fit, y_fit, label = \"fit plot\")"
   ]
  },
  {
   "cell_type": "markdown",
   "id": "bbcb4ef4",
   "metadata": {},
   "source": [
    "3. What do you observe in the plot? What is this phenomenon called?"
   ]
  },
  {
   "cell_type": "markdown",
   "id": "49a085b1",
   "metadata": {},
   "source": [
    "The phenomenon presented in 2.6 is called overfitting as the fitted plot is almost tracing the data points."
   ]
  }
 ],
 "metadata": {
  "kernelspec": {
   "display_name": "Julia 1.8.5",
   "language": "julia",
   "name": "julia-1.8"
  },
  "language_info": {
   "file_extension": ".jl",
   "mimetype": "application/julia",
   "name": "julia",
   "version": "1.8.5"
  }
 },
 "nbformat": 4,
 "nbformat_minor": 5
}
