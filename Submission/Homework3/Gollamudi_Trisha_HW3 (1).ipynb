{
 "cells": [
  {
   "cell_type": "markdown",
   "id": "1fbe377b",
   "metadata": {},
   "source": [
    "<h1>HW3</h1>"
   ]
  },
  {
   "cell_type": "markdown",
   "id": "79813e24",
   "metadata": {},
   "source": [
    "# Question 1\n",
    "### (Bayes Theorem) Read the following example and complete the exercises \n",
    "\n",
    "Trolls Under the Bridge\n",
    "1. Trolls(T) are bad\n",
    "2. Gnomes(G) are benign\n",
    "3. Every bridge has 5 creatures under it\n",
    "\n",
    "Below are the probabilities of what creatures live under a bridge:\n",
    "1. TTGGG: 20% (E1)\n",
    "2. TGGGG: 20% (E2)\n",
    "3. GGGGG: 60% (E3)\n",
    "\n",
    "A knight is approaching a bridge and he wants to know his chance of crossing the bridge safely."
   ]
  },
  {
   "cell_type": "markdown",
   "id": "425f8583",
   "metadata": {},
   "source": [
    "### 1.1 \n",
    "\n",
    "#### What is the chance of the knight crossing the bridge safely?\n"
   ]
  },
  {
   "cell_type": "markdown",
   "id": "f205633c",
   "metadata": {},
   "source": [
    "P(safety)=60%"
   ]
  },
  {
   "cell_type": "markdown",
   "id": "61f687e4",
   "metadata": {},
   "source": [
    "### 1.2\n",
    "\n",
    "#### Before crossing a bridge, a knight captures a troll. “I now have an 80% chance of crossing safely,” he reasons, “since only the case 20% had TTGGG (E1) now have TGGG is still a threat.”\n",
    "\n",
    "#### Do you agree with him? Why?"
   ]
  },
  {
   "cell_type": "markdown",
   "id": "09025213",
   "metadata": {},
   "source": [
    "No I do not agree, because theres still two events with trolls, and the only event without trolls is event 3. There is still a 20% chance you will end up in event 1, and encounter 1 troll, and event 2 also has 1 troll  and that event happens another 20% of the time."
   ]
  },
  {
   "cell_type": "markdown",
   "id": "c1533b67",
   "metadata": {},
   "source": [
    "### 1.3\n",
    "\n",
    "#### Now he wants to use Bayes' theorem to calculate his chance of crossing safely given a troll captured\n",
    " \n",
    "Given the three events, E1, E2, and E3, under which two events the knight cannot cross safely after a troll was captured?\n",
    "\\begin{equation*}\n",
    "P(A|B) = \\frac{P(B|A)P(A)}{P(B)} \\\\\n",
    "P(A|B): Posteior \\\\\n",
    "P(B|A): Likelihood \\\\\n",
    "P(A): Prior \\\\\n",
    "P(B): Marginal Probability \\\\\n",
    "\\end{equation*}\n",
    "\n",
    "#### Given the three events, E1, E2, and E3, under which two events the knight cannot cross safely after a troll was captured?"
   ]
  },
  {
   "cell_type": "markdown",
   "id": "0adb7f0a",
   "metadata": {},
   "source": [
    "#Event 1 and Event 2, because there are still trolls in each event,"
   ]
  },
  {
   "cell_type": "markdown",
   "id": "e45e8fa6",
   "metadata": {},
   "source": [
    "### 1.4\n",
    "\n",
    "#### Use Bayes' theorem to calculate the probability of the two events in 1.3 (separately) given the troll was captured. "
   ]
  },
  {
   "cell_type": "markdown",
   "id": "5d9c3c0b",
   "metadata": {},
   "source": [
    "Probability of one event given a troll captured: "
   ]
  },
  {
   "cell_type": "code",
   "execution_count": 143,
   "id": "f2f0e7c8",
   "metadata": {},
   "outputs": [
    {
     "name": "stdout",
     "output_type": "stream",
     "text": [
      "P(H2|T)=(P(T|H2)*P(H)/(P(T|H2)*P(H)+(P(T|H1)P(H)+P(T|H3)*P(H)))\n"
     ]
    },
    {
     "data": {
      "text/plain": [
       "0.3333333333333333"
      ]
     },
     "execution_count": 143,
     "metadata": {},
     "output_type": "execute_result"
    }
   ],
   "source": [
    "println(\"P(H2|T)=(P(T|H2)*P(H)/(P(T|H2)*P(H)+(P(T|H1)P(H)+P(T|H3)*P(H)))\")\n",
    "E2=(1/5)*(1/5)/((1/5)*(1/5)+(1/5)*(2/5)+0*(3/5))#ask \n"
   ]
  },
  {
   "cell_type": "markdown",
   "id": "37843aee",
   "metadata": {},
   "source": [
    "Probability of the other event given a troll captured: "
   ]
  },
  {
   "cell_type": "code",
   "execution_count": 218,
   "id": "5db10bc7",
   "metadata": {},
   "outputs": [
    {
     "name": "stdout",
     "output_type": "stream",
     "text": [
      "P(H1|T)=(P(T|H1)*P(H1)/(P(H1|T)P(H1)+P(H2|T)P(H2)+P(H3|T)P(H3))\n"
     ]
    },
    {
     "data": {
      "text/plain": [
       "0.6666666666666665"
      ]
     },
     "execution_count": 218,
     "metadata": {},
     "output_type": "execute_result"
    }
   ],
   "source": [
    "println(\"P(H1|T)=(P(T|H1)*P(H1)/(P(H1|T)P(H1)+P(H2|T)P(H2)+P(H3|T)P(H3))\")\n",
    "E1=(2/5*1/5)/((2/5)*(1/5)+(1/5)*(1/5)+(3/5)*0)\n",
    "\n"
   ]
  },
  {
   "cell_type": "markdown",
   "id": "f3b7f049",
   "metadata": {},
   "source": [
    "### 1.5\n",
    "\n",
    "#### What is the chance of the knight crossing safely?"
   ]
  },
  {
   "cell_type": "code",
   "execution_count": 220,
   "id": "0f6fd73b",
   "metadata": {},
   "outputs": [
    {
     "data": {
      "text/plain": [
       "0.3333333333333333"
      ]
     },
     "execution_count": 220,
     "metadata": {},
     "output_type": "execute_result"
    }
   ],
   "source": [
    "E2"
   ]
  },
  {
   "cell_type": "markdown",
   "id": "7b815ae0",
   "metadata": {},
   "source": [
    "#### Now looking back to 1.1, the probabilities were changed after assimilating data! "
   ]
  },
  {
   "cell_type": "markdown",
   "id": "f1450094",
   "metadata": {},
   "source": [
    "# Question 2\n",
    "### (Polynomial Fitting) Read the following example and complete the exercises \n",
    "\n",
    "Biological data always comes with errors that influence the intepretation of the data significantly. In this question, we will simulate data and see how noises affect the parameter estimation."
   ]
  },
  {
   "cell_type": "code",
   "execution_count": 13,
   "id": "c20822fa",
   "metadata": {},
   "outputs": [
    {
     "name": "stderr",
     "output_type": "stream",
     "text": [
      "\u001b[32m\u001b[1m    Updating\u001b[22m\u001b[39m registry at `~/.julia/registries/General.toml`\n",
      "\u001b[32m\u001b[1m   Resolving\u001b[22m\u001b[39m package versions...\n",
      "\u001b[32m\u001b[1m  No Changes\u001b[22m\u001b[39m to `~/.julia/environments/v1.8/Project.toml`\n",
      "\u001b[32m\u001b[1m  No Changes\u001b[22m\u001b[39m to `~/.julia/environments/v1.8/Manifest.toml`\n"
     ]
    }
   ],
   "source": [
    "import Pkg\n",
    "Pkg.add([\"Distributions\", \"Plots\", \"Polynomials\", \"Random\"])"
   ]
  },
  {
   "cell_type": "code",
   "execution_count": 17,
   "id": "d7d1ca8d",
   "metadata": {},
   "outputs": [],
   "source": [
    "import Distributions as di\n",
    "import Plots\n",
    "import Polynomials\n",
    "import Random\n",
    "import Polynomials: Polynomials, fit, coeffs\n",
    "import Statistics"
   ]
  },
  {
   "cell_type": "code",
   "execution_count": 170,
   "id": "b54040dd",
   "metadata": {},
   "outputs": [],
   "source": [
    "using Polynomials\n",
    "using Distributions\n",
    "using Statistics\n"
   ]
  },
  {
   "cell_type": "markdown",
   "id": "a90dd09d",
   "metadata": {},
   "source": [
    "### 2.1\n",
    "\n",
    "1. Generate the independent variable x ranging from -10 to 10 with an increment of 1\n",
    "2. Generate the dependent variable y_true using the equation y_true = x^2 + 3x - 2\n"
   ]
  },
  {
   "cell_type": "code",
   "execution_count": 19,
   "id": "6b0b33c5",
   "metadata": {},
   "outputs": [
    {
     "data": {
      "text/plain": [
       "21-element Vector{Int64}:\n",
       " -10\n",
       "  -9\n",
       "  -8\n",
       "  -7\n",
       "  -6\n",
       "  -5\n",
       "  -4\n",
       "  -3\n",
       "  -2\n",
       "  -1\n",
       "   0\n",
       "   1\n",
       "   2\n",
       "   3\n",
       "   4\n",
       "   5\n",
       "   6\n",
       "   7\n",
       "   8\n",
       "   9\n",
       "  10"
      ]
     },
     "execution_count": 19,
     "metadata": {},
     "output_type": "execute_result"
    }
   ],
   "source": [
    "x=-10:10\n",
    "collect(x)\n",
    "\n"
   ]
  },
  {
   "cell_type": "code",
   "execution_count": 21,
   "id": "aa92381e",
   "metadata": {},
   "outputs": [
    {
     "data": {
      "text/html": [
       "&#45;2 &#43; 3&#8729;x &#43; x<sup>2</sup>"
      ],
      "text/latex": [
       "$-2 + 3\\cdot x + x^{2}$"
      ],
      "text/plain": [
       "Polynomial(-2 + 3*x + x^2)"
      ]
     },
     "execution_count": 21,
     "metadata": {},
     "output_type": "execute_result"
    }
   ],
   "source": [
    "y_true=Polynomial([-2,3,1])"
   ]
  },
  {
   "cell_type": "code",
   "execution_count": 22,
   "id": "f2dd0dd9",
   "metadata": {},
   "outputs": [
    {
     "data": {
      "text/plain": [
       "21-element Vector{Int64}:\n",
       "  68\n",
       "  52\n",
       "  38\n",
       "  26\n",
       "  16\n",
       "   8\n",
       "   2\n",
       "  -2\n",
       "  -4\n",
       "  -4\n",
       "  -2\n",
       "   2\n",
       "   8\n",
       "  16\n",
       "  26\n",
       "  38\n",
       "  52\n",
       "  68\n",
       "  86\n",
       " 106\n",
       " 128"
      ]
     },
     "execution_count": 22,
     "metadata": {},
     "output_type": "execute_result"
    }
   ],
   "source": [
    "#just for reference\n",
    "y_truee=y_true.(x)"
   ]
  },
  {
   "cell_type": "markdown",
   "id": "74d2a191",
   "metadata": {},
   "source": [
    "### 2.2\n",
    "\n",
    "1. Generate the Guassian noises with zero mean and a standard deviation of 10\n",
    "\n",
    "2. Add the noises to y_true to obtain y_observed\n"
   ]
  },
  {
   "cell_type": "code",
   "execution_count": 23,
   "id": "92e16dfb",
   "metadata": {},
   "outputs": [],
   "source": [
    "using Plots"
   ]
  },
  {
   "cell_type": "code",
   "execution_count": 27,
   "id": "7936417a",
   "metadata": {},
   "outputs": [
    {
     "data": {
      "text/plain": [
       "21-element Vector{Float64}:\n",
       "  68.9730986499221\n",
       "  59.243002623102754\n",
       "  39.8925775473615\n",
       "   5.372555893523092\n",
       "  17.805330874458402\n",
       "   9.00964146892627\n",
       "  -3.703206205034192\n",
       "  21.43922399769945\n",
       " -10.360992661072315\n",
       " -13.760664658382519\n",
       " -16.058736346067008\n",
       "   6.563530638011397\n",
       "   8.273361521295492\n",
       "   9.301649815306977\n",
       "  16.558523443900103\n",
       "  35.5750397737896\n",
       "  73.05400583639528\n",
       "  76.80068470538966\n",
       "  75.46425326414881\n",
       " 104.28731232358652\n",
       " 127.80876852086364"
      ]
     },
     "execution_count": 27,
     "metadata": {},
     "output_type": "execute_result"
    }
   ],
   "source": [
    "dataerr=10.0\n",
    "noise=di.Normal(0,dataerr)\n",
    "y_observed=y_truee+rand(noise,length(x))"
   ]
  },
  {
   "cell_type": "markdown",
   "id": "ecf2e554",
   "metadata": {},
   "source": [
    "### 2.3\n",
    "\n",
    "#### Fit the data (x, y_observed) with a second order polynomial. \n",
    "\n",
    "1. Make a scatter plot of y_observed along x\n",
    "2. Plot a line of y_true along x on the scatter plot\n",
    "3. Plot a line of the fitted polynomial along x on the same plot"
   ]
  },
  {
   "cell_type": "code",
   "execution_count": 217,
   "id": "d39a136b",
   "metadata": {},
   "outputs": [
    {
     "data": {
      "image/svg+xml": [
       "<?xml version=\"1.0\" encoding=\"utf-8\"?>\n",
       "<svg xmlns=\"http://www.w3.org/2000/svg\" xmlns:xlink=\"http://www.w3.org/1999/xlink\" width=\"600\" height=\"400\" viewBox=\"0 0 2400 1600\">\n",
       "<defs>\n",
       "  <clipPath id=\"clip110\">\n",
       "    <rect x=\"0\" y=\"0\" width=\"2400\" height=\"1600\"/>\n",
       "  </clipPath>\n",
       "</defs>\n",
       "<path clip-path=\"url(#clip110)\" d=\"M0 1600 L2400 1600 L2400 0 L0 0  Z\" fill=\"#ffffff\" fill-rule=\"evenodd\" fill-opacity=\"1\"/>\n",
       "<defs>\n",
       "  <clipPath id=\"clip111\">\n",
       "    <rect x=\"480\" y=\"0\" width=\"1681\" height=\"1600\"/>\n",
       "  </clipPath>\n",
       "</defs>\n",
       "<path clip-path=\"url(#clip110)\" d=\"M169.121 1486.45 L2352.76 1486.45 L2352.76 47.2441 L169.121 47.2441  Z\" fill=\"#ffffff\" fill-rule=\"evenodd\" fill-opacity=\"1\"/>\n",
       "<defs>\n",
       "  <clipPath id=\"clip112\">\n",
       "    <rect x=\"169\" y=\"47\" width=\"2185\" height=\"1440\"/>\n",
       "  </clipPath>\n",
       "</defs>\n",
       "<polyline clip-path=\"url(#clip112)\" style=\"stroke:#000000; stroke-linecap:round; stroke-linejoin:round; stroke-width:2; stroke-opacity:0.1; fill:none\" points=\"230.922,1486.45 230.922,47.2441 \"/>\n",
       "<polyline clip-path=\"url(#clip112)\" style=\"stroke:#000000; stroke-linecap:round; stroke-linejoin:round; stroke-width:2; stroke-opacity:0.1; fill:none\" points=\"745.93,1486.45 745.93,47.2441 \"/>\n",
       "<polyline clip-path=\"url(#clip112)\" style=\"stroke:#000000; stroke-linecap:round; stroke-linejoin:round; stroke-width:2; stroke-opacity:0.1; fill:none\" points=\"1260.94,1486.45 1260.94,47.2441 \"/>\n",
       "<polyline clip-path=\"url(#clip112)\" style=\"stroke:#000000; stroke-linecap:round; stroke-linejoin:round; stroke-width:2; stroke-opacity:0.1; fill:none\" points=\"1775.95,1486.45 1775.95,47.2441 \"/>\n",
       "<polyline clip-path=\"url(#clip112)\" style=\"stroke:#000000; stroke-linecap:round; stroke-linejoin:round; stroke-width:2; stroke-opacity:0.1; fill:none\" points=\"2290.95,1486.45 2290.95,47.2441 \"/>\n",
       "<polyline clip-path=\"url(#clip110)\" style=\"stroke:#000000; stroke-linecap:round; stroke-linejoin:round; stroke-width:4; stroke-opacity:1; fill:none\" points=\"169.121,1486.45 2352.76,1486.45 \"/>\n",
       "<polyline clip-path=\"url(#clip110)\" style=\"stroke:#000000; stroke-linecap:round; stroke-linejoin:round; stroke-width:4; stroke-opacity:1; fill:none\" points=\"230.922,1486.45 230.922,1467.55 \"/>\n",
       "<polyline clip-path=\"url(#clip110)\" style=\"stroke:#000000; stroke-linecap:round; stroke-linejoin:round; stroke-width:4; stroke-opacity:1; fill:none\" points=\"745.93,1486.45 745.93,1467.55 \"/>\n",
       "<polyline clip-path=\"url(#clip110)\" style=\"stroke:#000000; stroke-linecap:round; stroke-linejoin:round; stroke-width:4; stroke-opacity:1; fill:none\" points=\"1260.94,1486.45 1260.94,1467.55 \"/>\n",
       "<polyline clip-path=\"url(#clip110)\" style=\"stroke:#000000; stroke-linecap:round; stroke-linejoin:round; stroke-width:4; stroke-opacity:1; fill:none\" points=\"1775.95,1486.45 1775.95,1467.55 \"/>\n",
       "<polyline clip-path=\"url(#clip110)\" style=\"stroke:#000000; stroke-linecap:round; stroke-linejoin:round; stroke-width:4; stroke-opacity:1; fill:none\" points=\"2290.95,1486.45 2290.95,1467.55 \"/>\n",
       "<path clip-path=\"url(#clip110)\" d=\"M184.985 1532.02 L214.661 1532.02 L214.661 1535.95 L184.985 1535.95 L184.985 1532.02 Z\" fill=\"#000000\" fill-rule=\"evenodd\" fill-opacity=\"1\" /><path clip-path=\"url(#clip110)\" d=\"M225.564 1544.91 L233.202 1544.91 L233.202 1518.55 L224.892 1520.21 L224.892 1515.95 L233.156 1514.29 L237.832 1514.29 L237.832 1544.91 L245.471 1544.91 L245.471 1548.85 L225.564 1548.85 L225.564 1544.91 Z\" fill=\"#000000\" fill-rule=\"evenodd\" fill-opacity=\"1\" /><path clip-path=\"url(#clip110)\" d=\"M264.915 1517.37 Q261.304 1517.37 259.475 1520.93 Q257.67 1524.47 257.67 1531.6 Q257.67 1538.71 259.475 1542.27 Q261.304 1545.82 264.915 1545.82 Q268.549 1545.82 270.355 1542.27 Q272.184 1538.71 272.184 1531.6 Q272.184 1524.47 270.355 1520.93 Q268.549 1517.37 264.915 1517.37 M264.915 1513.66 Q270.725 1513.66 273.781 1518.27 Q276.86 1522.85 276.86 1531.6 Q276.86 1540.33 273.781 1544.94 Q270.725 1549.52 264.915 1549.52 Q259.105 1549.52 256.026 1544.94 Q252.971 1540.33 252.971 1531.6 Q252.971 1522.85 256.026 1518.27 Q259.105 1513.66 264.915 1513.66 Z\" fill=\"#000000\" fill-rule=\"evenodd\" fill-opacity=\"1\" /><path clip-path=\"url(#clip110)\" d=\"M715.572 1532.02 L745.248 1532.02 L745.248 1535.95 L715.572 1535.95 L715.572 1532.02 Z\" fill=\"#000000\" fill-rule=\"evenodd\" fill-opacity=\"1\" /><path clip-path=\"url(#clip110)\" d=\"M755.386 1514.29 L773.743 1514.29 L773.743 1518.22 L759.669 1518.22 L759.669 1526.7 Q760.687 1526.35 761.706 1526.19 Q762.724 1526 763.743 1526 Q769.53 1526 772.909 1529.17 Q776.289 1532.34 776.289 1537.76 Q776.289 1543.34 772.817 1546.44 Q769.345 1549.52 763.025 1549.52 Q760.849 1549.52 758.581 1549.15 Q756.335 1548.78 753.928 1548.04 L753.928 1543.34 Q756.011 1544.47 758.234 1545.03 Q760.456 1545.58 762.933 1545.58 Q766.937 1545.58 769.275 1543.48 Q771.613 1541.37 771.613 1537.76 Q771.613 1534.15 769.275 1532.04 Q766.937 1529.94 762.933 1529.94 Q761.058 1529.94 759.183 1530.35 Q757.331 1530.77 755.386 1531.65 L755.386 1514.29 Z\" fill=\"#000000\" fill-rule=\"evenodd\" fill-opacity=\"1\" /><path clip-path=\"url(#clip110)\" d=\"M1260.94 1517.37 Q1257.33 1517.37 1255.5 1520.93 Q1253.69 1524.47 1253.69 1531.6 Q1253.69 1538.71 1255.5 1542.27 Q1257.33 1545.82 1260.94 1545.82 Q1264.57 1545.82 1266.38 1542.27 Q1268.21 1538.71 1268.21 1531.6 Q1268.21 1524.47 1266.38 1520.93 Q1264.57 1517.37 1260.94 1517.37 M1260.94 1513.66 Q1266.75 1513.66 1269.8 1518.27 Q1272.88 1522.85 1272.88 1531.6 Q1272.88 1540.33 1269.8 1544.94 Q1266.75 1549.52 1260.94 1549.52 Q1255.13 1549.52 1252.05 1544.94 Q1248.99 1540.33 1248.99 1531.6 Q1248.99 1522.85 1252.05 1518.27 Q1255.13 1513.66 1260.94 1513.66 Z\" fill=\"#000000\" fill-rule=\"evenodd\" fill-opacity=\"1\" /><path clip-path=\"url(#clip110)\" d=\"M1766.22 1514.29 L1784.58 1514.29 L1784.58 1518.22 L1770.51 1518.22 L1770.51 1526.7 Q1771.53 1526.35 1772.54 1526.19 Q1773.56 1526 1774.58 1526 Q1780.37 1526 1783.75 1529.17 Q1787.13 1532.34 1787.13 1537.76 Q1787.13 1543.34 1783.66 1546.44 Q1780.18 1549.52 1773.86 1549.52 Q1771.69 1549.52 1769.42 1549.15 Q1767.17 1548.78 1764.77 1548.04 L1764.77 1543.34 Q1766.85 1544.47 1769.07 1545.03 Q1771.29 1545.58 1773.77 1545.58 Q1777.78 1545.58 1780.11 1543.48 Q1782.45 1541.37 1782.45 1537.76 Q1782.45 1534.15 1780.11 1532.04 Q1777.78 1529.94 1773.77 1529.94 Q1771.9 1529.94 1770.02 1530.35 Q1768.17 1530.77 1766.22 1531.65 L1766.22 1514.29 Z\" fill=\"#000000\" fill-rule=\"evenodd\" fill-opacity=\"1\" /><path clip-path=\"url(#clip110)\" d=\"M2265.64 1544.91 L2273.28 1544.91 L2273.28 1518.55 L2264.97 1520.21 L2264.97 1515.95 L2273.24 1514.29 L2277.91 1514.29 L2277.91 1544.91 L2285.55 1544.91 L2285.55 1548.85 L2265.64 1548.85 L2265.64 1544.91 Z\" fill=\"#000000\" fill-rule=\"evenodd\" fill-opacity=\"1\" /><path clip-path=\"url(#clip110)\" d=\"M2304.99 1517.37 Q2301.38 1517.37 2299.55 1520.93 Q2297.75 1524.47 2297.75 1531.6 Q2297.75 1538.71 2299.55 1542.27 Q2301.38 1545.82 2304.99 1545.82 Q2308.63 1545.82 2310.43 1542.27 Q2312.26 1538.71 2312.26 1531.6 Q2312.26 1524.47 2310.43 1520.93 Q2308.63 1517.37 2304.99 1517.37 M2304.99 1513.66 Q2310.8 1513.66 2313.86 1518.27 Q2316.94 1522.85 2316.94 1531.6 Q2316.94 1540.33 2313.86 1544.94 Q2310.8 1549.52 2304.99 1549.52 Q2299.18 1549.52 2296.11 1544.94 Q2293.05 1540.33 2293.05 1531.6 Q2293.05 1522.85 2296.11 1518.27 Q2299.18 1513.66 2304.99 1513.66 Z\" fill=\"#000000\" fill-rule=\"evenodd\" fill-opacity=\"1\" /><polyline clip-path=\"url(#clip112)\" style=\"stroke:#000000; stroke-linecap:round; stroke-linejoin:round; stroke-width:2; stroke-opacity:0.1; fill:none\" points=\"169.121,1294.36 2352.76,1294.36 \"/>\n",
       "<polyline clip-path=\"url(#clip112)\" style=\"stroke:#000000; stroke-linecap:round; stroke-linejoin:round; stroke-width:2; stroke-opacity:0.1; fill:none\" points=\"169.121,1011.62 2352.76,1011.62 \"/>\n",
       "<polyline clip-path=\"url(#clip112)\" style=\"stroke:#000000; stroke-linecap:round; stroke-linejoin:round; stroke-width:2; stroke-opacity:0.1; fill:none\" points=\"169.121,728.87 2352.76,728.87 \"/>\n",
       "<polyline clip-path=\"url(#clip112)\" style=\"stroke:#000000; stroke-linecap:round; stroke-linejoin:round; stroke-width:2; stroke-opacity:0.1; fill:none\" points=\"169.121,446.123 2352.76,446.123 \"/>\n",
       "<polyline clip-path=\"url(#clip112)\" style=\"stroke:#000000; stroke-linecap:round; stroke-linejoin:round; stroke-width:2; stroke-opacity:0.1; fill:none\" points=\"169.121,163.375 2352.76,163.375 \"/>\n",
       "<polyline clip-path=\"url(#clip110)\" style=\"stroke:#000000; stroke-linecap:round; stroke-linejoin:round; stroke-width:4; stroke-opacity:1; fill:none\" points=\"169.121,1486.45 169.121,47.2441 \"/>\n",
       "<polyline clip-path=\"url(#clip110)\" style=\"stroke:#000000; stroke-linecap:round; stroke-linejoin:round; stroke-width:4; stroke-opacity:1; fill:none\" points=\"169.121,1294.36 188.019,1294.36 \"/>\n",
       "<polyline clip-path=\"url(#clip110)\" style=\"stroke:#000000; stroke-linecap:round; stroke-linejoin:round; stroke-width:4; stroke-opacity:1; fill:none\" points=\"169.121,1011.62 188.019,1011.62 \"/>\n",
       "<polyline clip-path=\"url(#clip110)\" style=\"stroke:#000000; stroke-linecap:round; stroke-linejoin:round; stroke-width:4; stroke-opacity:1; fill:none\" points=\"169.121,728.87 188.019,728.87 \"/>\n",
       "<polyline clip-path=\"url(#clip110)\" style=\"stroke:#000000; stroke-linecap:round; stroke-linejoin:round; stroke-width:4; stroke-opacity:1; fill:none\" points=\"169.121,446.123 188.019,446.123 \"/>\n",
       "<polyline clip-path=\"url(#clip110)\" style=\"stroke:#000000; stroke-linecap:round; stroke-linejoin:round; stroke-width:4; stroke-opacity:1; fill:none\" points=\"169.121,163.375 188.019,163.375 \"/>\n",
       "<path clip-path=\"url(#clip110)\" d=\"M121.177 1280.16 Q117.566 1280.16 115.737 1283.73 Q113.932 1287.27 113.932 1294.4 Q113.932 1301.5 115.737 1305.07 Q117.566 1308.61 121.177 1308.61 Q124.811 1308.61 126.617 1305.07 Q128.445 1301.5 128.445 1294.4 Q128.445 1287.27 126.617 1283.73 Q124.811 1280.16 121.177 1280.16 M121.177 1276.46 Q126.987 1276.46 130.043 1281.07 Q133.121 1285.65 133.121 1294.4 Q133.121 1303.13 130.043 1307.73 Q126.987 1312.31 121.177 1312.31 Q115.367 1312.31 112.288 1307.73 Q109.233 1303.13 109.233 1294.4 Q109.233 1285.65 112.288 1281.07 Q115.367 1276.46 121.177 1276.46 Z\" fill=\"#000000\" fill-rule=\"evenodd\" fill-opacity=\"1\" /><path clip-path=\"url(#clip110)\" d=\"M95.1817 1010.26 Q98.5382 1010.98 100.413 1013.25 Q102.311 1015.52 102.311 1018.85 Q102.311 1023.97 98.7928 1026.77 Q95.2743 1029.57 88.7928 1029.57 Q86.6169 1029.57 84.3021 1029.13 Q82.0105 1028.71 79.5568 1027.85 L79.5568 1023.34 Q81.5012 1024.48 83.816 1025.05 Q86.1308 1025.63 88.654 1025.63 Q93.0521 1025.63 95.3437 1023.9 Q97.6585 1022.16 97.6585 1018.85 Q97.6585 1015.79 95.5058 1014.08 Q93.3762 1012.35 89.5567 1012.35 L85.529 1012.35 L85.529 1008.5 L89.7419 1008.5 Q93.191 1008.5 95.0197 1007.14 Q96.8484 1005.75 96.8484 1003.16 Q96.8484 1000.49 94.9502 999.082 Q93.0752 997.647 89.5567 997.647 Q87.6354 997.647 85.4364 998.063 Q83.2373 998.48 80.5984 999.36 L80.5984 995.193 Q83.2605 994.452 85.5753 994.082 Q87.9132 993.712 89.9734 993.712 Q95.2974 993.712 98.3993 996.142 Q101.501 998.55 101.501 1002.67 Q101.501 1005.54 99.8576 1007.53 Q98.2141 1009.5 95.1817 1010.26 Z\" fill=\"#000000\" fill-rule=\"evenodd\" fill-opacity=\"1\" /><path clip-path=\"url(#clip110)\" d=\"M121.177 997.415 Q117.566 997.415 115.737 1000.98 Q113.932 1004.52 113.932 1011.65 Q113.932 1018.76 115.737 1022.32 Q117.566 1025.86 121.177 1025.86 Q124.811 1025.86 126.617 1022.32 Q128.445 1018.76 128.445 1011.65 Q128.445 1004.52 126.617 1000.98 Q124.811 997.415 121.177 997.415 M121.177 993.712 Q126.987 993.712 130.043 998.318 Q133.121 1002.9 133.121 1011.65 Q133.121 1020.38 130.043 1024.98 Q126.987 1029.57 121.177 1029.57 Q115.367 1029.57 112.288 1024.98 Q109.233 1020.38 109.233 1011.65 Q109.233 1002.9 112.288 998.318 Q115.367 993.712 121.177 993.712 Z\" fill=\"#000000\" fill-rule=\"evenodd\" fill-opacity=\"1\" /><path clip-path=\"url(#clip110)\" d=\"M91.5938 727.006 Q88.4456 727.006 86.5938 729.159 Q84.7651 731.312 84.7651 735.062 Q84.7651 738.789 86.5938 740.964 Q88.4456 743.117 91.5938 743.117 Q94.7419 743.117 96.5706 740.964 Q98.4224 738.789 98.4224 735.062 Q98.4224 731.312 96.5706 729.159 Q94.7419 727.006 91.5938 727.006 M100.876 712.353 L100.876 716.613 Q99.1169 715.779 97.3113 715.34 Q95.5289 714.9 93.7697 714.9 Q89.1401 714.9 86.6864 718.025 Q84.2558 721.15 83.9086 727.469 Q85.2743 725.455 87.3345 724.39 Q89.3947 723.302 91.8715 723.302 Q97.0798 723.302 100.089 726.474 Q103.121 729.622 103.121 735.062 Q103.121 740.386 99.9733 743.603 Q96.8252 746.821 91.5938 746.821 Q85.5984 746.821 82.4271 742.238 Q79.2559 737.631 79.2559 728.904 Q79.2559 720.71 83.1447 715.849 Q87.0336 710.965 93.5845 710.965 Q95.3437 710.965 97.1261 711.312 Q98.9317 711.659 100.876 712.353 Z\" fill=\"#000000\" fill-rule=\"evenodd\" fill-opacity=\"1\" /><path clip-path=\"url(#clip110)\" d=\"M121.177 714.668 Q117.566 714.668 115.737 718.233 Q113.932 721.775 113.932 728.904 Q113.932 736.011 115.737 739.576 Q117.566 743.117 121.177 743.117 Q124.811 743.117 126.617 739.576 Q128.445 736.011 128.445 728.904 Q128.445 721.775 126.617 718.233 Q124.811 714.668 121.177 714.668 M121.177 710.965 Q126.987 710.965 130.043 715.571 Q133.121 720.154 133.121 728.904 Q133.121 737.631 130.043 742.238 Q126.987 746.821 121.177 746.821 Q115.367 746.821 112.288 742.238 Q109.233 737.631 109.233 728.904 Q109.233 720.154 112.288 715.571 Q115.367 710.965 121.177 710.965 Z\" fill=\"#000000\" fill-rule=\"evenodd\" fill-opacity=\"1\" /><path clip-path=\"url(#clip110)\" d=\"M81.154 462.685 L81.154 458.426 Q82.9133 459.259 84.7188 459.699 Q86.5243 460.139 88.2604 460.139 Q92.89 460.139 95.3206 457.037 Q97.7743 453.912 98.1215 447.569 Q96.7789 449.56 94.7187 450.625 Q92.6586 451.69 90.1586 451.69 Q84.9734 451.69 81.941 448.565 Q78.9318 445.417 78.9318 439.977 Q78.9318 434.653 82.0799 431.435 Q85.2281 428.218 90.4595 428.218 Q96.4548 428.218 99.603 432.824 Q102.774 437.407 102.774 446.157 Q102.774 454.329 98.8854 459.213 Q95.0197 464.074 88.4688 464.074 Q86.7095 464.074 84.904 463.727 Q83.0984 463.379 81.154 462.685 M90.4595 448.032 Q93.6076 448.032 95.4363 445.879 Q97.2882 443.727 97.2882 439.977 Q97.2882 436.25 95.4363 434.097 Q93.6076 431.921 90.4595 431.921 Q87.3114 431.921 85.4595 434.097 Q83.6308 436.25 83.6308 439.977 Q83.6308 443.727 85.4595 445.879 Q87.3114 448.032 90.4595 448.032 Z\" fill=\"#000000\" fill-rule=\"evenodd\" fill-opacity=\"1\" /><path clip-path=\"url(#clip110)\" d=\"M121.177 431.921 Q117.566 431.921 115.737 435.486 Q113.932 439.028 113.932 446.157 Q113.932 453.264 115.737 456.828 Q117.566 460.37 121.177 460.37 Q124.811 460.37 126.617 456.828 Q128.445 453.264 128.445 446.157 Q128.445 439.028 126.617 435.486 Q124.811 431.921 121.177 431.921 M121.177 428.218 Q126.987 428.218 130.043 432.824 Q133.121 437.407 133.121 446.157 Q133.121 454.884 130.043 459.491 Q126.987 464.074 121.177 464.074 Q115.367 464.074 112.288 459.491 Q109.233 454.884 109.233 446.157 Q109.233 437.407 112.288 432.824 Q115.367 428.218 121.177 428.218 Z\" fill=\"#000000\" fill-rule=\"evenodd\" fill-opacity=\"1\" /><path clip-path=\"url(#clip110)\" d=\"M51.6634 176.72 L59.3023 176.72 L59.3023 150.355 L50.9921 152.021 L50.9921 147.762 L59.256 146.095 L63.9319 146.095 L63.9319 176.72 L71.5707 176.72 L71.5707 180.655 L51.6634 180.655 L51.6634 176.72 Z\" fill=\"#000000\" fill-rule=\"evenodd\" fill-opacity=\"1\" /><path clip-path=\"url(#clip110)\" d=\"M85.0429 176.72 L101.362 176.72 L101.362 180.655 L79.4179 180.655 L79.4179 176.72 Q82.0799 173.966 86.6632 169.336 Q91.2697 164.683 92.4502 163.341 Q94.6956 160.818 95.5752 159.082 Q96.478 157.322 96.478 155.632 Q96.478 152.878 94.5336 151.142 Q92.6123 149.406 89.5104 149.406 Q87.3114 149.406 84.8577 150.17 Q82.4271 150.933 79.6494 152.484 L79.6494 147.762 Q82.4734 146.628 84.9271 146.049 Q87.3808 145.47 89.4178 145.47 Q94.7882 145.47 97.9826 148.156 Q101.177 150.841 101.177 155.332 Q101.177 157.461 100.367 159.382 Q99.5798 161.281 97.4734 163.873 Q96.8947 164.544 93.7928 167.762 Q90.691 170.956 85.0429 176.72 Z\" fill=\"#000000\" fill-rule=\"evenodd\" fill-opacity=\"1\" /><path clip-path=\"url(#clip110)\" d=\"M121.177 149.174 Q117.566 149.174 115.737 152.739 Q113.932 156.281 113.932 163.41 Q113.932 170.517 115.737 174.081 Q117.566 177.623 121.177 177.623 Q124.811 177.623 126.617 174.081 Q128.445 170.517 128.445 163.41 Q128.445 156.281 126.617 152.739 Q124.811 149.174 121.177 149.174 M121.177 145.47 Q126.987 145.47 130.043 150.077 Q133.121 154.66 133.121 163.41 Q133.121 172.137 130.043 176.743 Q126.987 181.327 121.177 181.327 Q115.367 181.327 112.288 176.743 Q109.233 172.137 109.233 163.41 Q109.233 154.66 112.288 150.077 Q115.367 145.47 121.177 145.47 Z\" fill=\"#000000\" fill-rule=\"evenodd\" fill-opacity=\"1\" /><circle clip-path=\"url(#clip112)\" cx=\"230.922\" cy=\"644.299\" r=\"14.4\" fill=\"#009af9\" fill-rule=\"evenodd\" fill-opacity=\"1\" stroke=\"#000000\" stroke-opacity=\"1\" stroke-width=\"3.2\"/>\n",
       "<circle clip-path=\"url(#clip112)\" cx=\"333.924\" cy=\"736.004\" r=\"14.4\" fill=\"#009af9\" fill-rule=\"evenodd\" fill-opacity=\"1\" stroke=\"#000000\" stroke-opacity=\"1\" stroke-width=\"3.2\"/>\n",
       "<circle clip-path=\"url(#clip112)\" cx=\"436.926\" cy=\"918.38\" r=\"14.4\" fill=\"#009af9\" fill-rule=\"evenodd\" fill-opacity=\"1\" stroke=\"#000000\" stroke-opacity=\"1\" stroke-width=\"3.2\"/>\n",
       "<circle clip-path=\"url(#clip112)\" cx=\"539.927\" cy=\"1243.73\" r=\"14.4\" fill=\"#009af9\" fill-rule=\"evenodd\" fill-opacity=\"1\" stroke=\"#000000\" stroke-opacity=\"1\" stroke-width=\"3.2\"/>\n",
       "<circle clip-path=\"url(#clip112)\" cx=\"642.929\" cy=\"1126.55\" r=\"14.4\" fill=\"#009af9\" fill-rule=\"evenodd\" fill-opacity=\"1\" stroke=\"#000000\" stroke-opacity=\"1\" stroke-width=\"3.2\"/>\n",
       "<circle clip-path=\"url(#clip112)\" cx=\"745.93\" cy=\"1209.45\" r=\"14.4\" fill=\"#009af9\" fill-rule=\"evenodd\" fill-opacity=\"1\" stroke=\"#000000\" stroke-opacity=\"1\" stroke-width=\"3.2\"/>\n",
       "<circle clip-path=\"url(#clip112)\" cx=\"848.932\" cy=\"1329.27\" r=\"14.4\" fill=\"#009af9\" fill-rule=\"evenodd\" fill-opacity=\"1\" stroke=\"#000000\" stroke-opacity=\"1\" stroke-width=\"3.2\"/>\n",
       "<circle clip-path=\"url(#clip112)\" cx=\"951.934\" cy=\"1092.3\" r=\"14.4\" fill=\"#009af9\" fill-rule=\"evenodd\" fill-opacity=\"1\" stroke=\"#000000\" stroke-opacity=\"1\" stroke-width=\"3.2\"/>\n",
       "<circle clip-path=\"url(#clip112)\" cx=\"1054.94\" cy=\"1392.02\" r=\"14.4\" fill=\"#009af9\" fill-rule=\"evenodd\" fill-opacity=\"1\" stroke=\"#000000\" stroke-opacity=\"1\" stroke-width=\"3.2\"/>\n",
       "<circle clip-path=\"url(#clip112)\" cx=\"1157.94\" cy=\"1424.06\" r=\"14.4\" fill=\"#009af9\" fill-rule=\"evenodd\" fill-opacity=\"1\" stroke=\"#000000\" stroke-opacity=\"1\" stroke-width=\"3.2\"/>\n",
       "<circle clip-path=\"url(#clip112)\" cx=\"1260.94\" cy=\"1445.72\" r=\"14.4\" fill=\"#009af9\" fill-rule=\"evenodd\" fill-opacity=\"1\" stroke=\"#000000\" stroke-opacity=\"1\" stroke-width=\"3.2\"/>\n",
       "<circle clip-path=\"url(#clip112)\" cx=\"1363.94\" cy=\"1232.5\" r=\"14.4\" fill=\"#009af9\" fill-rule=\"evenodd\" fill-opacity=\"1\" stroke=\"#000000\" stroke-opacity=\"1\" stroke-width=\"3.2\"/>\n",
       "<circle clip-path=\"url(#clip112)\" cx=\"1466.94\" cy=\"1216.39\" r=\"14.4\" fill=\"#009af9\" fill-rule=\"evenodd\" fill-opacity=\"1\" stroke=\"#000000\" stroke-opacity=\"1\" stroke-width=\"3.2\"/>\n",
       "<circle clip-path=\"url(#clip112)\" cx=\"1569.94\" cy=\"1206.7\" r=\"14.4\" fill=\"#009af9\" fill-rule=\"evenodd\" fill-opacity=\"1\" stroke=\"#000000\" stroke-opacity=\"1\" stroke-width=\"3.2\"/>\n",
       "<circle clip-path=\"url(#clip112)\" cx=\"1672.95\" cy=\"1138.3\" r=\"14.4\" fill=\"#009af9\" fill-rule=\"evenodd\" fill-opacity=\"1\" stroke=\"#000000\" stroke-opacity=\"1\" stroke-width=\"3.2\"/>\n",
       "<circle clip-path=\"url(#clip112)\" cx=\"1775.95\" cy=\"959.072\" r=\"14.4\" fill=\"#009af9\" fill-rule=\"evenodd\" fill-opacity=\"1\" stroke=\"#000000\" stroke-opacity=\"1\" stroke-width=\"3.2\"/>\n",
       "<circle clip-path=\"url(#clip112)\" cx=\"1878.95\" cy=\"605.837\" r=\"14.4\" fill=\"#009af9\" fill-rule=\"evenodd\" fill-opacity=\"1\" stroke=\"#000000\" stroke-opacity=\"1\" stroke-width=\"3.2\"/>\n",
       "<circle clip-path=\"url(#clip112)\" cx=\"1981.95\" cy=\"570.525\" r=\"14.4\" fill=\"#009af9\" fill-rule=\"evenodd\" fill-opacity=\"1\" stroke=\"#000000\" stroke-opacity=\"1\" stroke-width=\"3.2\"/>\n",
       "<circle clip-path=\"url(#clip112)\" cx=\"2084.95\" cy=\"583.121\" r=\"14.4\" fill=\"#009af9\" fill-rule=\"evenodd\" fill-opacity=\"1\" stroke=\"#000000\" stroke-opacity=\"1\" stroke-width=\"3.2\"/>\n",
       "<circle clip-path=\"url(#clip112)\" cx=\"2187.95\" cy=\"311.466\" r=\"14.4\" fill=\"#009af9\" fill-rule=\"evenodd\" fill-opacity=\"1\" stroke=\"#000000\" stroke-opacity=\"1\" stroke-width=\"3.2\"/>\n",
       "<circle clip-path=\"url(#clip112)\" cx=\"2290.95\" cy=\"89.7786\" r=\"14.4\" fill=\"#009af9\" fill-rule=\"evenodd\" fill-opacity=\"1\" stroke=\"#000000\" stroke-opacity=\"1\" stroke-width=\"3.2\"/>\n",
       "<polyline clip-path=\"url(#clip112)\" style=\"stroke:#e26f46; stroke-linecap:round; stroke-linejoin:round; stroke-width:4; stroke-opacity:1; fill:none\" points=\"230.922,653.47 333.924,804.269 436.926,936.217 539.927,1049.32 642.929,1143.57 745.93,1218.96 848.932,1275.51 951.934,1313.21 1054.94,1332.06 1157.94,1332.06 1260.94,1313.21 1363.94,1275.51 1466.94,1218.96 1569.94,1143.57 1672.95,1049.32 1775.95,936.217 1878.95,804.269 1981.95,653.47 2084.95,483.822 2187.95,295.324 2290.95,87.9763 \"/>\n",
       "<path clip-path=\"url(#clip110)\" d=\"M241.909 250.738 L512.703 250.738 L512.703 95.2176 L241.909 95.2176  Z\" fill=\"#ffffff\" fill-rule=\"evenodd\" fill-opacity=\"1\"/>\n",
       "<polyline clip-path=\"url(#clip110)\" style=\"stroke:#000000; stroke-linecap:round; stroke-linejoin:round; stroke-width:4; stroke-opacity:1; fill:none\" points=\"241.909,250.738 512.703,250.738 512.703,95.2176 241.909,95.2176 241.909,250.738 \"/>\n",
       "<circle clip-path=\"url(#clip110)\" cx=\"338.96\" cy=\"147.058\" r=\"23.04\" fill=\"#009af9\" fill-rule=\"evenodd\" fill-opacity=\"1\" stroke=\"#000000\" stroke-opacity=\"1\" stroke-width=\"5.12\"/>\n",
       "<path clip-path=\"url(#clip110)\" d=\"M449.853 166.745 Q448.047 171.375 446.334 172.787 Q444.621 174.199 441.751 174.199 L438.348 174.199 L438.348 170.634 L440.848 170.634 Q442.607 170.634 443.579 169.8 Q444.552 168.967 445.732 165.865 L446.496 163.921 L436.01 138.412 L440.524 138.412 L448.626 158.689 L456.727 138.412 L461.241 138.412 L449.853 166.745 Z\" fill=\"#000000\" fill-rule=\"evenodd\" fill-opacity=\"1\" /><path clip-path=\"url(#clip110)\" d=\"M468.533 160.402 L476.172 160.402 L476.172 134.037 L467.862 135.703 L467.862 131.444 L476.126 129.778 L480.801 129.778 L480.801 160.402 L488.44 160.402 L488.44 164.338 L468.533 164.338 L468.533 160.402 Z\" fill=\"#000000\" fill-rule=\"evenodd\" fill-opacity=\"1\" /><polyline clip-path=\"url(#clip110)\" style=\"stroke:#e26f46; stroke-linecap:round; stroke-linejoin:round; stroke-width:4; stroke-opacity:1; fill:none\" points=\"266.172,198.898 411.747,198.898 \"/>\n",
       "<path clip-path=\"url(#clip110)\" d=\"M449.853 218.585 Q448.047 223.215 446.334 224.627 Q444.621 226.039 441.751 226.039 L438.348 226.039 L438.348 222.474 L440.848 222.474 Q442.607 222.474 443.579 221.64 Q444.552 220.807 445.732 217.705 L446.496 215.761 L436.01 190.252 L440.524 190.252 L448.626 210.529 L456.727 190.252 L461.241 190.252 L449.853 218.585 Z\" fill=\"#000000\" fill-rule=\"evenodd\" fill-opacity=\"1\" /><path clip-path=\"url(#clip110)\" d=\"M471.751 212.242 L488.07 212.242 L488.07 216.178 L466.126 216.178 L466.126 212.242 Q468.788 209.488 473.371 204.858 Q477.977 200.205 479.158 198.863 Q481.403 196.34 482.283 194.604 Q483.186 192.844 483.186 191.155 Q483.186 188.4 481.241 186.664 Q479.32 184.928 476.218 184.928 Q474.019 184.928 471.565 185.692 Q469.135 186.455 466.357 188.006 L466.357 183.284 Q469.181 182.15 471.635 181.571 Q474.088 180.993 476.126 180.993 Q481.496 180.993 484.69 183.678 Q487.885 186.363 487.885 190.854 Q487.885 192.983 487.075 194.905 Q486.287 196.803 484.181 199.395 Q483.602 200.067 480.5 203.284 Q477.399 206.479 471.751 212.242 Z\" fill=\"#000000\" fill-rule=\"evenodd\" fill-opacity=\"1\" /></svg>\n"
      ]
     },
     "execution_count": 217,
     "metadata": {},
     "output_type": "execute_result"
    }
   ],
   "source": [
    "\n",
    "scatter(x,y_observed)\n",
    "plot!(x,y_truee)"
   ]
  },
  {
   "cell_type": "code",
   "execution_count": 160,
   "id": "b44c192a",
   "metadata": {},
   "outputs": [
    {
     "data": {
      "text/html": [
       "&#45;3.86819710310073 &#43; 3.0452882265412478&#8729;x &#43; 1.0295728573925198&#8729;x<sup>2</sup>"
      ],
      "text/latex": [
       "$-3.86819710310073 + 3.0452882265412478\\cdot x + 1.0295728573925198\\cdot x^{2}$"
      ],
      "text/plain": [
       "Polynomial(-3.86819710310073 + 3.0452882265412478*x + 1.0295728573925198*x^2)"
      ]
     },
     "execution_count": 160,
     "metadata": {},
     "output_type": "execute_result"
    }
   ],
   "source": [
    "line_fit=fit(x,y_observed,2)"
   ]
  },
  {
   "cell_type": "code",
   "execution_count": 162,
   "id": "78066162",
   "metadata": {},
   "outputs": [
    {
     "data": {
      "text/plain": [
       "3-element Vector{Float64}:\n",
       " -3.86819710310073\n",
       "  3.0452882265412478\n",
       "  1.0295728573925198"
      ]
     },
     "execution_count": 162,
     "metadata": {},
     "output_type": "execute_result"
    }
   ],
   "source": [
    "fit_coeff=coeffs(line_fit)"
   ]
  },
  {
   "cell_type": "code",
   "execution_count": 164,
   "id": "09328af4",
   "metadata": {},
   "outputs": [
    {
     "data": {
      "text/plain": [
       "21-element Vector{Float64}:\n",
       "  68.63620637073878\n",
       "  52.119610306822146\n",
       "  37.662159957690555\n",
       "  25.263855323344007\n",
       "  14.924696403782498\n",
       "   6.644683199006028\n",
       "   0.42381570901459753\n",
       "  -3.7379060661917958\n",
       "  -5.8404821266131455\n",
       "  -5.883912472249456\n",
       "  -3.86819710310073\n",
       "   0.20666398083303528\n",
       "   6.340670779551847\n",
       "  14.533823293055692\n",
       "  24.786121521344576\n",
       "  37.09756546441851\n",
       "  51.468155122277466\n",
       "  67.89789049492147\n",
       "  86.38677158235052\n",
       " 106.9347983845646\n",
       " 129.54197090156373"
      ]
     },
     "execution_count": 164,
     "metadata": {},
     "output_type": "execute_result"
    }
   ],
   "source": [
    "y_fitted=fit_coeff[1] .+ (fit_coeff[2].*(x)) .+ (fit_coeff[3] .*(x.^2))"
   ]
  },
  {
   "cell_type": "code",
   "execution_count": 165,
   "id": "fa513eec",
   "metadata": {},
   "outputs": [
    {
     "data": {
      "image/svg+xml": [
       "<?xml version=\"1.0\" encoding=\"utf-8\"?>\n",
       "<svg xmlns=\"http://www.w3.org/2000/svg\" xmlns:xlink=\"http://www.w3.org/1999/xlink\" width=\"600\" height=\"400\" viewBox=\"0 0 2400 1600\">\n",
       "<defs>\n",
       "  <clipPath id=\"clip470\">\n",
       "    <rect x=\"0\" y=\"0\" width=\"2400\" height=\"1600\"/>\n",
       "  </clipPath>\n",
       "</defs>\n",
       "<path clip-path=\"url(#clip470)\" d=\"M0 1600 L2400 1600 L2400 0 L0 0  Z\" fill=\"#ffffff\" fill-rule=\"evenodd\" fill-opacity=\"1\"/>\n",
       "<defs>\n",
       "  <clipPath id=\"clip471\">\n",
       "    <rect x=\"480\" y=\"0\" width=\"1681\" height=\"1600\"/>\n",
       "  </clipPath>\n",
       "</defs>\n",
       "<path clip-path=\"url(#clip470)\" d=\"M169.121 1486.45 L2352.76 1486.45 L2352.76 47.2441 L169.121 47.2441  Z\" fill=\"#ffffff\" fill-rule=\"evenodd\" fill-opacity=\"1\"/>\n",
       "<defs>\n",
       "  <clipPath id=\"clip472\">\n",
       "    <rect x=\"169\" y=\"47\" width=\"2185\" height=\"1440\"/>\n",
       "  </clipPath>\n",
       "</defs>\n",
       "<polyline clip-path=\"url(#clip472)\" style=\"stroke:#000000; stroke-linecap:round; stroke-linejoin:round; stroke-width:2; stroke-opacity:0.1; fill:none\" points=\"230.922,1486.45 230.922,47.2441 \"/>\n",
       "<polyline clip-path=\"url(#clip472)\" style=\"stroke:#000000; stroke-linecap:round; stroke-linejoin:round; stroke-width:2; stroke-opacity:0.1; fill:none\" points=\"745.93,1486.45 745.93,47.2441 \"/>\n",
       "<polyline clip-path=\"url(#clip472)\" style=\"stroke:#000000; stroke-linecap:round; stroke-linejoin:round; stroke-width:2; stroke-opacity:0.1; fill:none\" points=\"1260.94,1486.45 1260.94,47.2441 \"/>\n",
       "<polyline clip-path=\"url(#clip472)\" style=\"stroke:#000000; stroke-linecap:round; stroke-linejoin:round; stroke-width:2; stroke-opacity:0.1; fill:none\" points=\"1775.95,1486.45 1775.95,47.2441 \"/>\n",
       "<polyline clip-path=\"url(#clip472)\" style=\"stroke:#000000; stroke-linecap:round; stroke-linejoin:round; stroke-width:2; stroke-opacity:0.1; fill:none\" points=\"2290.95,1486.45 2290.95,47.2441 \"/>\n",
       "<polyline clip-path=\"url(#clip470)\" style=\"stroke:#000000; stroke-linecap:round; stroke-linejoin:round; stroke-width:4; stroke-opacity:1; fill:none\" points=\"169.121,1486.45 2352.76,1486.45 \"/>\n",
       "<polyline clip-path=\"url(#clip470)\" style=\"stroke:#000000; stroke-linecap:round; stroke-linejoin:round; stroke-width:4; stroke-opacity:1; fill:none\" points=\"230.922,1486.45 230.922,1467.55 \"/>\n",
       "<polyline clip-path=\"url(#clip470)\" style=\"stroke:#000000; stroke-linecap:round; stroke-linejoin:round; stroke-width:4; stroke-opacity:1; fill:none\" points=\"745.93,1486.45 745.93,1467.55 \"/>\n",
       "<polyline clip-path=\"url(#clip470)\" style=\"stroke:#000000; stroke-linecap:round; stroke-linejoin:round; stroke-width:4; stroke-opacity:1; fill:none\" points=\"1260.94,1486.45 1260.94,1467.55 \"/>\n",
       "<polyline clip-path=\"url(#clip470)\" style=\"stroke:#000000; stroke-linecap:round; stroke-linejoin:round; stroke-width:4; stroke-opacity:1; fill:none\" points=\"1775.95,1486.45 1775.95,1467.55 \"/>\n",
       "<polyline clip-path=\"url(#clip470)\" style=\"stroke:#000000; stroke-linecap:round; stroke-linejoin:round; stroke-width:4; stroke-opacity:1; fill:none\" points=\"2290.95,1486.45 2290.95,1467.55 \"/>\n",
       "<path clip-path=\"url(#clip470)\" d=\"M184.985 1532.02 L214.661 1532.02 L214.661 1535.95 L184.985 1535.95 L184.985 1532.02 Z\" fill=\"#000000\" fill-rule=\"evenodd\" fill-opacity=\"1\" /><path clip-path=\"url(#clip470)\" d=\"M225.564 1544.91 L233.202 1544.91 L233.202 1518.55 L224.892 1520.21 L224.892 1515.95 L233.156 1514.29 L237.832 1514.29 L237.832 1544.91 L245.471 1544.91 L245.471 1548.85 L225.564 1548.85 L225.564 1544.91 Z\" fill=\"#000000\" fill-rule=\"evenodd\" fill-opacity=\"1\" /><path clip-path=\"url(#clip470)\" d=\"M264.915 1517.37 Q261.304 1517.37 259.475 1520.93 Q257.67 1524.47 257.67 1531.6 Q257.67 1538.71 259.475 1542.27 Q261.304 1545.82 264.915 1545.82 Q268.549 1545.82 270.355 1542.27 Q272.184 1538.71 272.184 1531.6 Q272.184 1524.47 270.355 1520.93 Q268.549 1517.37 264.915 1517.37 M264.915 1513.66 Q270.725 1513.66 273.781 1518.27 Q276.86 1522.85 276.86 1531.6 Q276.86 1540.33 273.781 1544.94 Q270.725 1549.52 264.915 1549.52 Q259.105 1549.52 256.026 1544.94 Q252.971 1540.33 252.971 1531.6 Q252.971 1522.85 256.026 1518.27 Q259.105 1513.66 264.915 1513.66 Z\" fill=\"#000000\" fill-rule=\"evenodd\" fill-opacity=\"1\" /><path clip-path=\"url(#clip470)\" d=\"M715.572 1532.02 L745.248 1532.02 L745.248 1535.95 L715.572 1535.95 L715.572 1532.02 Z\" fill=\"#000000\" fill-rule=\"evenodd\" fill-opacity=\"1\" /><path clip-path=\"url(#clip470)\" d=\"M755.386 1514.29 L773.743 1514.29 L773.743 1518.22 L759.669 1518.22 L759.669 1526.7 Q760.687 1526.35 761.706 1526.19 Q762.724 1526 763.743 1526 Q769.53 1526 772.909 1529.17 Q776.289 1532.34 776.289 1537.76 Q776.289 1543.34 772.817 1546.44 Q769.345 1549.52 763.025 1549.52 Q760.849 1549.52 758.581 1549.15 Q756.335 1548.78 753.928 1548.04 L753.928 1543.34 Q756.011 1544.47 758.234 1545.03 Q760.456 1545.58 762.933 1545.58 Q766.937 1545.58 769.275 1543.48 Q771.613 1541.37 771.613 1537.76 Q771.613 1534.15 769.275 1532.04 Q766.937 1529.94 762.933 1529.94 Q761.058 1529.94 759.183 1530.35 Q757.331 1530.77 755.386 1531.65 L755.386 1514.29 Z\" fill=\"#000000\" fill-rule=\"evenodd\" fill-opacity=\"1\" /><path clip-path=\"url(#clip470)\" d=\"M1260.94 1517.37 Q1257.33 1517.37 1255.5 1520.93 Q1253.69 1524.47 1253.69 1531.6 Q1253.69 1538.71 1255.5 1542.27 Q1257.33 1545.82 1260.94 1545.82 Q1264.57 1545.82 1266.38 1542.27 Q1268.21 1538.71 1268.21 1531.6 Q1268.21 1524.47 1266.38 1520.93 Q1264.57 1517.37 1260.94 1517.37 M1260.94 1513.66 Q1266.75 1513.66 1269.8 1518.27 Q1272.88 1522.85 1272.88 1531.6 Q1272.88 1540.33 1269.8 1544.94 Q1266.75 1549.52 1260.94 1549.52 Q1255.13 1549.52 1252.05 1544.94 Q1248.99 1540.33 1248.99 1531.6 Q1248.99 1522.85 1252.05 1518.27 Q1255.13 1513.66 1260.94 1513.66 Z\" fill=\"#000000\" fill-rule=\"evenodd\" fill-opacity=\"1\" /><path clip-path=\"url(#clip470)\" d=\"M1766.22 1514.29 L1784.58 1514.29 L1784.58 1518.22 L1770.51 1518.22 L1770.51 1526.7 Q1771.53 1526.35 1772.54 1526.19 Q1773.56 1526 1774.58 1526 Q1780.37 1526 1783.75 1529.17 Q1787.13 1532.34 1787.13 1537.76 Q1787.13 1543.34 1783.66 1546.44 Q1780.18 1549.52 1773.86 1549.52 Q1771.69 1549.52 1769.42 1549.15 Q1767.17 1548.78 1764.77 1548.04 L1764.77 1543.34 Q1766.85 1544.47 1769.07 1545.03 Q1771.29 1545.58 1773.77 1545.58 Q1777.78 1545.58 1780.11 1543.48 Q1782.45 1541.37 1782.45 1537.76 Q1782.45 1534.15 1780.11 1532.04 Q1777.78 1529.94 1773.77 1529.94 Q1771.9 1529.94 1770.02 1530.35 Q1768.17 1530.77 1766.22 1531.65 L1766.22 1514.29 Z\" fill=\"#000000\" fill-rule=\"evenodd\" fill-opacity=\"1\" /><path clip-path=\"url(#clip470)\" d=\"M2265.64 1544.91 L2273.28 1544.91 L2273.28 1518.55 L2264.97 1520.21 L2264.97 1515.95 L2273.24 1514.29 L2277.91 1514.29 L2277.91 1544.91 L2285.55 1544.91 L2285.55 1548.85 L2265.64 1548.85 L2265.64 1544.91 Z\" fill=\"#000000\" fill-rule=\"evenodd\" fill-opacity=\"1\" /><path clip-path=\"url(#clip470)\" d=\"M2304.99 1517.37 Q2301.38 1517.37 2299.55 1520.93 Q2297.75 1524.47 2297.75 1531.6 Q2297.75 1538.71 2299.55 1542.27 Q2301.38 1545.82 2304.99 1545.82 Q2308.63 1545.82 2310.43 1542.27 Q2312.26 1538.71 2312.26 1531.6 Q2312.26 1524.47 2310.43 1520.93 Q2308.63 1517.37 2304.99 1517.37 M2304.99 1513.66 Q2310.8 1513.66 2313.86 1518.27 Q2316.94 1522.85 2316.94 1531.6 Q2316.94 1540.33 2313.86 1544.94 Q2310.8 1549.52 2304.99 1549.52 Q2299.18 1549.52 2296.11 1544.94 Q2293.05 1540.33 2293.05 1531.6 Q2293.05 1522.85 2296.11 1518.27 Q2299.18 1513.66 2304.99 1513.66 Z\" fill=\"#000000\" fill-rule=\"evenodd\" fill-opacity=\"1\" /><polyline clip-path=\"url(#clip472)\" style=\"stroke:#000000; stroke-linecap:round; stroke-linejoin:round; stroke-width:2; stroke-opacity:0.1; fill:none\" points=\"169.121,1295.97 2352.76,1295.97 \"/>\n",
       "<polyline clip-path=\"url(#clip472)\" style=\"stroke:#000000; stroke-linecap:round; stroke-linejoin:round; stroke-width:2; stroke-opacity:0.1; fill:none\" points=\"169.121,1016.21 2352.76,1016.21 \"/>\n",
       "<polyline clip-path=\"url(#clip472)\" style=\"stroke:#000000; stroke-linecap:round; stroke-linejoin:round; stroke-width:2; stroke-opacity:0.1; fill:none\" points=\"169.121,736.461 2352.76,736.461 \"/>\n",
       "<polyline clip-path=\"url(#clip472)\" style=\"stroke:#000000; stroke-linecap:round; stroke-linejoin:round; stroke-width:2; stroke-opacity:0.1; fill:none\" points=\"169.121,456.709 2352.76,456.709 \"/>\n",
       "<polyline clip-path=\"url(#clip472)\" style=\"stroke:#000000; stroke-linecap:round; stroke-linejoin:round; stroke-width:2; stroke-opacity:0.1; fill:none\" points=\"169.121,176.956 2352.76,176.956 \"/>\n",
       "<polyline clip-path=\"url(#clip470)\" style=\"stroke:#000000; stroke-linecap:round; stroke-linejoin:round; stroke-width:4; stroke-opacity:1; fill:none\" points=\"169.121,1486.45 169.121,47.2441 \"/>\n",
       "<polyline clip-path=\"url(#clip470)\" style=\"stroke:#000000; stroke-linecap:round; stroke-linejoin:round; stroke-width:4; stroke-opacity:1; fill:none\" points=\"169.121,1295.97 188.019,1295.97 \"/>\n",
       "<polyline clip-path=\"url(#clip470)\" style=\"stroke:#000000; stroke-linecap:round; stroke-linejoin:round; stroke-width:4; stroke-opacity:1; fill:none\" points=\"169.121,1016.21 188.019,1016.21 \"/>\n",
       "<polyline clip-path=\"url(#clip470)\" style=\"stroke:#000000; stroke-linecap:round; stroke-linejoin:round; stroke-width:4; stroke-opacity:1; fill:none\" points=\"169.121,736.461 188.019,736.461 \"/>\n",
       "<polyline clip-path=\"url(#clip470)\" style=\"stroke:#000000; stroke-linecap:round; stroke-linejoin:round; stroke-width:4; stroke-opacity:1; fill:none\" points=\"169.121,456.709 188.019,456.709 \"/>\n",
       "<polyline clip-path=\"url(#clip470)\" style=\"stroke:#000000; stroke-linecap:round; stroke-linejoin:round; stroke-width:4; stroke-opacity:1; fill:none\" points=\"169.121,176.956 188.019,176.956 \"/>\n",
       "<path clip-path=\"url(#clip470)\" d=\"M121.177 1281.77 Q117.566 1281.77 115.737 1285.33 Q113.932 1288.87 113.932 1296 Q113.932 1303.11 115.737 1306.67 Q117.566 1310.21 121.177 1310.21 Q124.811 1310.21 126.617 1306.67 Q128.445 1303.11 128.445 1296 Q128.445 1288.87 126.617 1285.33 Q124.811 1281.77 121.177 1281.77 M121.177 1278.06 Q126.987 1278.06 130.043 1282.67 Q133.121 1287.25 133.121 1296 Q133.121 1304.73 130.043 1309.33 Q126.987 1313.92 121.177 1313.92 Q115.367 1313.92 112.288 1309.33 Q109.233 1304.73 109.233 1296 Q109.233 1287.25 112.288 1282.67 Q115.367 1278.06 121.177 1278.06 Z\" fill=\"#000000\" fill-rule=\"evenodd\" fill-opacity=\"1\" /><path clip-path=\"url(#clip470)\" d=\"M95.1817 1014.86 Q98.5382 1015.58 100.413 1017.85 Q102.311 1020.11 102.311 1023.45 Q102.311 1028.56 98.7928 1031.36 Q95.2743 1034.17 88.7928 1034.17 Q86.6169 1034.17 84.3021 1033.73 Q82.0105 1033.31 79.5568 1032.45 L79.5568 1027.94 Q81.5012 1029.07 83.816 1029.65 Q86.1308 1030.23 88.654 1030.23 Q93.0521 1030.23 95.3437 1028.49 Q97.6585 1026.76 97.6585 1023.45 Q97.6585 1020.39 95.5058 1018.68 Q93.3762 1016.94 89.5567 1016.94 L85.529 1016.94 L85.529 1013.1 L89.7419 1013.1 Q93.191 1013.1 95.0197 1011.73 Q96.8484 1010.35 96.8484 1007.75 Q96.8484 1005.09 94.9502 1003.68 Q93.0752 1002.24 89.5567 1002.24 Q87.6354 1002.24 85.4364 1002.66 Q83.2373 1003.08 80.5984 1003.96 L80.5984 999.79 Q83.2605 999.05 85.5753 998.679 Q87.9132 998.309 89.9734 998.309 Q95.2974 998.309 98.3993 1000.74 Q101.501 1003.15 101.501 1007.27 Q101.501 1010.14 99.8576 1012.13 Q98.2141 1014.1 95.1817 1014.86 Z\" fill=\"#000000\" fill-rule=\"evenodd\" fill-opacity=\"1\" /><path clip-path=\"url(#clip470)\" d=\"M121.177 1002.01 Q117.566 1002.01 115.737 1005.58 Q113.932 1009.12 113.932 1016.25 Q113.932 1023.36 115.737 1026.92 Q117.566 1030.46 121.177 1030.46 Q124.811 1030.46 126.617 1026.92 Q128.445 1023.36 128.445 1016.25 Q128.445 1009.12 126.617 1005.58 Q124.811 1002.01 121.177 1002.01 M121.177 998.309 Q126.987 998.309 130.043 1002.92 Q133.121 1007.5 133.121 1016.25 Q133.121 1024.98 130.043 1029.58 Q126.987 1034.17 121.177 1034.17 Q115.367 1034.17 112.288 1029.58 Q109.233 1024.98 109.233 1016.25 Q109.233 1007.5 112.288 1002.92 Q115.367 998.309 121.177 998.309 Z\" fill=\"#000000\" fill-rule=\"evenodd\" fill-opacity=\"1\" /><path clip-path=\"url(#clip470)\" d=\"M91.5938 734.598 Q88.4456 734.598 86.5938 736.751 Q84.7651 738.903 84.7651 742.653 Q84.7651 746.38 86.5938 748.556 Q88.4456 750.709 91.5938 750.709 Q94.7419 750.709 96.5706 748.556 Q98.4224 746.38 98.4224 742.653 Q98.4224 738.903 96.5706 736.751 Q94.7419 734.598 91.5938 734.598 M100.876 719.945 L100.876 724.204 Q99.1169 723.371 97.3113 722.931 Q95.5289 722.491 93.7697 722.491 Q89.1401 722.491 86.6864 725.616 Q84.2558 728.741 83.9086 735.061 Q85.2743 733.047 87.3345 731.982 Q89.3947 730.894 91.8715 730.894 Q97.0798 730.894 100.089 734.065 Q103.121 737.214 103.121 742.653 Q103.121 747.977 99.9733 751.195 Q96.8252 754.413 91.5938 754.413 Q85.5984 754.413 82.4271 749.829 Q79.2559 745.223 79.2559 736.496 Q79.2559 728.302 83.1447 723.441 Q87.0336 718.556 93.5845 718.556 Q95.3437 718.556 97.1261 718.904 Q98.9317 719.251 100.876 719.945 Z\" fill=\"#000000\" fill-rule=\"evenodd\" fill-opacity=\"1\" /><path clip-path=\"url(#clip470)\" d=\"M121.177 722.26 Q117.566 722.26 115.737 725.825 Q113.932 729.366 113.932 736.496 Q113.932 743.602 115.737 747.167 Q117.566 750.709 121.177 750.709 Q124.811 750.709 126.617 747.167 Q128.445 743.602 128.445 736.496 Q128.445 729.366 126.617 725.825 Q124.811 722.26 121.177 722.26 M121.177 718.556 Q126.987 718.556 130.043 723.163 Q133.121 727.746 133.121 736.496 Q133.121 745.223 130.043 749.829 Q126.987 754.413 121.177 754.413 Q115.367 754.413 112.288 749.829 Q109.233 745.223 109.233 736.496 Q109.233 727.746 112.288 723.163 Q115.367 718.556 121.177 718.556 Z\" fill=\"#000000\" fill-rule=\"evenodd\" fill-opacity=\"1\" /><path clip-path=\"url(#clip470)\" d=\"M81.154 473.271 L81.154 469.012 Q82.9133 469.845 84.7188 470.285 Q86.5243 470.725 88.2604 470.725 Q92.89 470.725 95.3206 467.623 Q97.7743 464.498 98.1215 458.155 Q96.7789 460.146 94.7187 461.211 Q92.6586 462.276 90.1586 462.276 Q84.9734 462.276 81.941 459.151 Q78.9318 456.003 78.9318 450.563 Q78.9318 445.239 82.0799 442.021 Q85.2281 438.804 90.4595 438.804 Q96.4548 438.804 99.603 443.41 Q102.774 447.993 102.774 456.743 Q102.774 464.915 98.8854 469.799 Q95.0197 474.66 88.4688 474.66 Q86.7095 474.66 84.904 474.313 Q83.0984 473.965 81.154 473.271 M90.4595 458.618 Q93.6076 458.618 95.4363 456.466 Q97.2882 454.313 97.2882 450.563 Q97.2882 446.836 95.4363 444.683 Q93.6076 442.507 90.4595 442.507 Q87.3114 442.507 85.4595 444.683 Q83.6308 446.836 83.6308 450.563 Q83.6308 454.313 85.4595 456.466 Q87.3114 458.618 90.4595 458.618 Z\" fill=\"#000000\" fill-rule=\"evenodd\" fill-opacity=\"1\" /><path clip-path=\"url(#clip470)\" d=\"M121.177 442.507 Q117.566 442.507 115.737 446.072 Q113.932 449.614 113.932 456.743 Q113.932 463.85 115.737 467.415 Q117.566 470.956 121.177 470.956 Q124.811 470.956 126.617 467.415 Q128.445 463.85 128.445 456.743 Q128.445 449.614 126.617 446.072 Q124.811 442.507 121.177 442.507 M121.177 438.804 Q126.987 438.804 130.043 443.41 Q133.121 447.993 133.121 456.743 Q133.121 465.47 130.043 470.077 Q126.987 474.66 121.177 474.66 Q115.367 474.66 112.288 470.077 Q109.233 465.47 109.233 456.743 Q109.233 447.993 112.288 443.41 Q115.367 438.804 121.177 438.804 Z\" fill=\"#000000\" fill-rule=\"evenodd\" fill-opacity=\"1\" /><path clip-path=\"url(#clip470)\" d=\"M51.6634 190.301 L59.3023 190.301 L59.3023 163.935 L50.9921 165.602 L50.9921 161.343 L59.256 159.676 L63.9319 159.676 L63.9319 190.301 L71.5707 190.301 L71.5707 194.236 L51.6634 194.236 L51.6634 190.301 Z\" fill=\"#000000\" fill-rule=\"evenodd\" fill-opacity=\"1\" /><path clip-path=\"url(#clip470)\" d=\"M85.0429 190.301 L101.362 190.301 L101.362 194.236 L79.4179 194.236 L79.4179 190.301 Q82.0799 187.546 86.6632 182.917 Q91.2697 178.264 92.4502 176.921 Q94.6956 174.398 95.5752 172.662 Q96.478 170.903 96.478 169.213 Q96.478 166.458 94.5336 164.722 Q92.6123 162.986 89.5104 162.986 Q87.3114 162.986 84.8577 163.75 Q82.4271 164.514 79.6494 166.065 L79.6494 161.343 Q82.4734 160.208 84.9271 159.63 Q87.3808 159.051 89.4178 159.051 Q94.7882 159.051 97.9826 161.736 Q101.177 164.421 101.177 168.912 Q101.177 171.042 100.367 172.963 Q99.5798 174.861 97.4734 177.454 Q96.8947 178.125 93.7928 181.343 Q90.691 184.537 85.0429 190.301 Z\" fill=\"#000000\" fill-rule=\"evenodd\" fill-opacity=\"1\" /><path clip-path=\"url(#clip470)\" d=\"M121.177 162.755 Q117.566 162.755 115.737 166.319 Q113.932 169.861 113.932 176.991 Q113.932 184.097 115.737 187.662 Q117.566 191.204 121.177 191.204 Q124.811 191.204 126.617 187.662 Q128.445 184.097 128.445 176.991 Q128.445 169.861 126.617 166.319 Q124.811 162.755 121.177 162.755 M121.177 159.051 Q126.987 159.051 130.043 163.657 Q133.121 168.241 133.121 176.991 Q133.121 185.718 130.043 190.324 Q126.987 194.907 121.177 194.907 Q115.367 194.907 112.288 190.324 Q109.233 185.718 109.233 176.991 Q109.233 168.241 112.288 163.657 Q115.367 159.051 121.177 159.051 Z\" fill=\"#000000\" fill-rule=\"evenodd\" fill-opacity=\"1\" /><circle clip-path=\"url(#clip472)\" cx=\"230.922\" cy=\"652.786\" r=\"14.4\" fill=\"#009af9\" fill-rule=\"evenodd\" fill-opacity=\"1\" stroke=\"#000000\" stroke-opacity=\"1\" stroke-width=\"3.2\"/>\n",
       "<circle clip-path=\"url(#clip472)\" cx=\"333.924\" cy=\"743.52\" r=\"14.4\" fill=\"#009af9\" fill-rule=\"evenodd\" fill-opacity=\"1\" stroke=\"#000000\" stroke-opacity=\"1\" stroke-width=\"3.2\"/>\n",
       "<circle clip-path=\"url(#clip472)\" cx=\"436.926\" cy=\"923.965\" r=\"14.4\" fill=\"#009af9\" fill-rule=\"evenodd\" fill-opacity=\"1\" stroke=\"#000000\" stroke-opacity=\"1\" stroke-width=\"3.2\"/>\n",
       "<circle clip-path=\"url(#clip472)\" cx=\"539.927\" cy=\"1245.87\" r=\"14.4\" fill=\"#009af9\" fill-rule=\"evenodd\" fill-opacity=\"1\" stroke=\"#000000\" stroke-opacity=\"1\" stroke-width=\"3.2\"/>\n",
       "<circle clip-path=\"url(#clip472)\" cx=\"642.929\" cy=\"1129.93\" r=\"14.4\" fill=\"#009af9\" fill-rule=\"evenodd\" fill-opacity=\"1\" stroke=\"#000000\" stroke-opacity=\"1\" stroke-width=\"3.2\"/>\n",
       "<circle clip-path=\"url(#clip472)\" cx=\"745.93\" cy=\"1211.95\" r=\"14.4\" fill=\"#009af9\" fill-rule=\"evenodd\" fill-opacity=\"1\" stroke=\"#000000\" stroke-opacity=\"1\" stroke-width=\"3.2\"/>\n",
       "<circle clip-path=\"url(#clip472)\" cx=\"848.932\" cy=\"1330.5\" r=\"14.4\" fill=\"#009af9\" fill-rule=\"evenodd\" fill-opacity=\"1\" stroke=\"#000000\" stroke-opacity=\"1\" stroke-width=\"3.2\"/>\n",
       "<circle clip-path=\"url(#clip472)\" cx=\"951.934\" cy=\"1096.04\" r=\"14.4\" fill=\"#009af9\" fill-rule=\"evenodd\" fill-opacity=\"1\" stroke=\"#000000\" stroke-opacity=\"1\" stroke-width=\"3.2\"/>\n",
       "<circle clip-path=\"url(#clip472)\" cx=\"1054.94\" cy=\"1392.58\" r=\"14.4\" fill=\"#009af9\" fill-rule=\"evenodd\" fill-opacity=\"1\" stroke=\"#000000\" stroke-opacity=\"1\" stroke-width=\"3.2\"/>\n",
       "<circle clip-path=\"url(#clip472)\" cx=\"1157.94\" cy=\"1424.29\" r=\"14.4\" fill=\"#009af9\" fill-rule=\"evenodd\" fill-opacity=\"1\" stroke=\"#000000\" stroke-opacity=\"1\" stroke-width=\"3.2\"/>\n",
       "<circle clip-path=\"url(#clip472)\" cx=\"1260.94\" cy=\"1445.72\" r=\"14.4\" fill=\"#009af9\" fill-rule=\"evenodd\" fill-opacity=\"1\" stroke=\"#000000\" stroke-opacity=\"1\" stroke-width=\"3.2\"/>\n",
       "<circle clip-path=\"url(#clip472)\" cx=\"1363.94\" cy=\"1234.76\" r=\"14.4\" fill=\"#009af9\" fill-rule=\"evenodd\" fill-opacity=\"1\" stroke=\"#000000\" stroke-opacity=\"1\" stroke-width=\"3.2\"/>\n",
       "<circle clip-path=\"url(#clip472)\" cx=\"1466.94\" cy=\"1218.82\" r=\"14.4\" fill=\"#009af9\" fill-rule=\"evenodd\" fill-opacity=\"1\" stroke=\"#000000\" stroke-opacity=\"1\" stroke-width=\"3.2\"/>\n",
       "<circle clip-path=\"url(#clip472)\" cx=\"1569.94\" cy=\"1209.23\" r=\"14.4\" fill=\"#009af9\" fill-rule=\"evenodd\" fill-opacity=\"1\" stroke=\"#000000\" stroke-opacity=\"1\" stroke-width=\"3.2\"/>\n",
       "<circle clip-path=\"url(#clip472)\" cx=\"1672.95\" cy=\"1141.56\" r=\"14.4\" fill=\"#009af9\" fill-rule=\"evenodd\" fill-opacity=\"1\" stroke=\"#000000\" stroke-opacity=\"1\" stroke-width=\"3.2\"/>\n",
       "<circle clip-path=\"url(#clip472)\" cx=\"1775.95\" cy=\"964.226\" r=\"14.4\" fill=\"#009af9\" fill-rule=\"evenodd\" fill-opacity=\"1\" stroke=\"#000000\" stroke-opacity=\"1\" stroke-width=\"3.2\"/>\n",
       "<circle clip-path=\"url(#clip472)\" cx=\"1878.95\" cy=\"614.732\" r=\"14.4\" fill=\"#009af9\" fill-rule=\"evenodd\" fill-opacity=\"1\" stroke=\"#000000\" stroke-opacity=\"1\" stroke-width=\"3.2\"/>\n",
       "<circle clip-path=\"url(#clip472)\" cx=\"1981.95\" cy=\"579.793\" r=\"14.4\" fill=\"#009af9\" fill-rule=\"evenodd\" fill-opacity=\"1\" stroke=\"#000000\" stroke-opacity=\"1\" stroke-width=\"3.2\"/>\n",
       "<circle clip-path=\"url(#clip472)\" cx=\"2084.95\" cy=\"592.256\" r=\"14.4\" fill=\"#009af9\" fill-rule=\"evenodd\" fill-opacity=\"1\" stroke=\"#000000\" stroke-opacity=\"1\" stroke-width=\"3.2\"/>\n",
       "<circle clip-path=\"url(#clip472)\" cx=\"2187.95\" cy=\"323.478\" r=\"14.4\" fill=\"#009af9\" fill-rule=\"evenodd\" fill-opacity=\"1\" stroke=\"#000000\" stroke-opacity=\"1\" stroke-width=\"3.2\"/>\n",
       "<circle clip-path=\"url(#clip472)\" cx=\"2290.95\" cy=\"104.139\" r=\"14.4\" fill=\"#009af9\" fill-rule=\"evenodd\" fill-opacity=\"1\" stroke=\"#000000\" stroke-opacity=\"1\" stroke-width=\"3.2\"/>\n",
       "<polyline clip-path=\"url(#clip472)\" style=\"stroke:#e26f46; stroke-linecap:round; stroke-linejoin:round; stroke-width:4; stroke-opacity:1; fill:none\" points=\"230.922,661.861 333.924,811.062 436.926,941.613 539.927,1053.51 642.929,1146.77 745.93,1221.37 848.932,1277.32 951.934,1314.62 1054.94,1333.27 1157.94,1333.27 1260.94,1314.62 1363.94,1277.32 1466.94,1221.37 1569.94,1146.77 1672.95,1053.51 1775.95,941.613 1878.95,811.062 1981.95,661.861 2084.95,494.009 2187.95,307.507 2290.95,102.355 \"/>\n",
       "<polyline clip-path=\"url(#clip472)\" style=\"stroke:#3da44d; stroke-linecap:round; stroke-linejoin:round; stroke-width:4; stroke-opacity:1; fill:none\" points=\"230.922,655.928 333.924,809.947 436.926,944.764 539.927,1060.38 642.929,1156.79 745.93,1234 848.932,1292.01 951.934,1330.82 1054.94,1350.43 1157.94,1350.83 1260.94,1332.04 1363.94,1294.04 1466.94,1236.84 1569.94,1160.44 1672.95,1064.83 1775.95,950.028 1878.95,816.021 1981.95,662.813 2084.95,490.402 2187.95,298.79 2290.95,87.9763 \"/>\n",
       "<path clip-path=\"url(#clip470)\" d=\"M241.909 302.578 L513.282 302.578 L513.282 95.2176 L241.909 95.2176  Z\" fill=\"#ffffff\" fill-rule=\"evenodd\" fill-opacity=\"1\"/>\n",
       "<polyline clip-path=\"url(#clip470)\" style=\"stroke:#000000; stroke-linecap:round; stroke-linejoin:round; stroke-width:4; stroke-opacity:1; fill:none\" points=\"241.909,302.578 513.282,302.578 513.282,95.2176 241.909,95.2176 241.909,302.578 \"/>\n",
       "<circle clip-path=\"url(#clip470)\" cx=\"338.96\" cy=\"147.058\" r=\"23.04\" fill=\"#009af9\" fill-rule=\"evenodd\" fill-opacity=\"1\" stroke=\"#000000\" stroke-opacity=\"1\" stroke-width=\"5.12\"/>\n",
       "<path clip-path=\"url(#clip470)\" d=\"M449.853 166.745 Q448.047 171.375 446.334 172.787 Q444.621 174.199 441.751 174.199 L438.348 174.199 L438.348 170.634 L440.848 170.634 Q442.607 170.634 443.579 169.8 Q444.552 168.967 445.732 165.865 L446.496 163.921 L436.01 138.412 L440.524 138.412 L448.626 158.689 L456.727 138.412 L461.241 138.412 L449.853 166.745 Z\" fill=\"#000000\" fill-rule=\"evenodd\" fill-opacity=\"1\" /><path clip-path=\"url(#clip470)\" d=\"M468.533 160.402 L476.172 160.402 L476.172 134.037 L467.862 135.703 L467.862 131.444 L476.126 129.778 L480.801 129.778 L480.801 160.402 L488.44 160.402 L488.44 164.338 L468.533 164.338 L468.533 160.402 Z\" fill=\"#000000\" fill-rule=\"evenodd\" fill-opacity=\"1\" /><polyline clip-path=\"url(#clip470)\" style=\"stroke:#e26f46; stroke-linecap:round; stroke-linejoin:round; stroke-width:4; stroke-opacity:1; fill:none\" points=\"266.172,198.898 411.747,198.898 \"/>\n",
       "<path clip-path=\"url(#clip470)\" d=\"M449.853 218.585 Q448.047 223.215 446.334 224.627 Q444.621 226.039 441.751 226.039 L438.348 226.039 L438.348 222.474 L440.848 222.474 Q442.607 222.474 443.579 221.64 Q444.552 220.807 445.732 217.705 L446.496 215.761 L436.01 190.252 L440.524 190.252 L448.626 210.529 L456.727 190.252 L461.241 190.252 L449.853 218.585 Z\" fill=\"#000000\" fill-rule=\"evenodd\" fill-opacity=\"1\" /><path clip-path=\"url(#clip470)\" d=\"M471.751 212.242 L488.07 212.242 L488.07 216.178 L466.126 216.178 L466.126 212.242 Q468.788 209.488 473.371 204.858 Q477.977 200.205 479.158 198.863 Q481.403 196.34 482.283 194.604 Q483.186 192.844 483.186 191.155 Q483.186 188.4 481.241 186.664 Q479.32 184.928 476.218 184.928 Q474.019 184.928 471.565 185.692 Q469.135 186.455 466.357 188.006 L466.357 183.284 Q469.181 182.15 471.635 181.571 Q474.088 180.993 476.126 180.993 Q481.496 180.993 484.69 183.678 Q487.885 186.363 487.885 190.854 Q487.885 192.983 487.075 194.905 Q486.287 196.803 484.181 199.395 Q483.602 200.067 480.5 203.284 Q477.399 206.479 471.751 212.242 Z\" fill=\"#000000\" fill-rule=\"evenodd\" fill-opacity=\"1\" /><polyline clip-path=\"url(#clip470)\" style=\"stroke:#3da44d; stroke-linecap:round; stroke-linejoin:round; stroke-width:4; stroke-opacity:1; fill:none\" points=\"266.172,250.738 411.747,250.738 \"/>\n",
       "<path clip-path=\"url(#clip470)\" d=\"M449.853 270.425 Q448.047 275.055 446.334 276.467 Q444.621 277.879 441.751 277.879 L438.348 277.879 L438.348 274.314 L440.848 274.314 Q442.607 274.314 443.579 273.48 Q444.552 272.647 445.732 269.545 L446.496 267.601 L436.01 242.092 L440.524 242.092 L448.626 262.369 L456.727 242.092 L461.241 242.092 L449.853 270.425 Z\" fill=\"#000000\" fill-rule=\"evenodd\" fill-opacity=\"1\" /><path clip-path=\"url(#clip470)\" d=\"M481.889 249.383 Q485.246 250.101 487.121 252.369 Q489.019 254.638 489.019 257.971 Q489.019 263.087 485.5 265.888 Q481.982 268.689 475.501 268.689 Q473.325 268.689 471.01 268.249 Q468.718 267.832 466.264 266.976 L466.264 262.462 Q468.209 263.596 470.524 264.175 Q472.838 264.754 475.362 264.754 Q479.76 264.754 482.051 263.018 Q484.366 261.281 484.366 257.971 Q484.366 254.916 482.213 253.203 Q480.084 251.467 476.264 251.467 L472.237 251.467 L472.237 247.624 L476.45 247.624 Q479.899 247.624 481.727 246.258 Q483.556 244.87 483.556 242.277 Q483.556 239.615 481.658 238.203 Q479.783 236.768 476.264 236.768 Q474.343 236.768 472.144 237.184 Q469.945 237.601 467.306 238.481 L467.306 234.314 Q469.968 233.573 472.283 233.203 Q474.621 232.833 476.681 232.833 Q482.005 232.833 485.107 235.263 Q488.209 237.67 488.209 241.791 Q488.209 244.661 486.565 246.652 Q484.922 248.62 481.889 249.383 Z\" fill=\"#000000\" fill-rule=\"evenodd\" fill-opacity=\"1\" /></svg>\n"
      ]
     },
     "execution_count": 165,
     "metadata": {},
     "output_type": "execute_result"
    }
   ],
   "source": [
    "scatter(x,y_observed)\n",
    "plot!(x,y_truee)\n",
    "plot!(x,y_fitted)"
   ]
  },
  {
   "cell_type": "markdown",
   "id": "b3b5a343",
   "metadata": {},
   "source": [
    "### 2.4\n",
    "\n",
    "1. Repeat 2.2 and 2.3 with a noise with a standard deviation of 50"
   ]
  },
  {
   "cell_type": "code",
   "execution_count": 171,
   "id": "b4c08499",
   "metadata": {},
   "outputs": [
    {
     "data": {
      "text/plain": [
       "Normal{Float64}(μ=0.0, σ=50.0)"
      ]
     },
     "execution_count": 171,
     "metadata": {},
     "output_type": "execute_result"
    }
   ],
   "source": [
    "dataerr50=50.0\n",
    "noise1=di.Normal(0,dataerr50)\n",
    "\n"
   ]
  },
  {
   "cell_type": "code",
   "execution_count": 172,
   "id": "3cb99a35",
   "metadata": {},
   "outputs": [
    {
     "data": {
      "text/plain": [
       "21-element Vector{Float64}:\n",
       "  60.69209363678754\n",
       " 143.20814972595124\n",
       " -89.86677695911517\n",
       "  71.60938403702949\n",
       "  37.93734267318641\n",
       "  23.014806920158733\n",
       "  70.40224370226292\n",
       "  42.127388610408815\n",
       "   8.427653683603305\n",
       " -16.241189018054246\n",
       "  43.23338616717954\n",
       "   5.691312942041832\n",
       "  -1.15873777379203\n",
       "  13.261525222830436\n",
       "  41.8746484757355\n",
       "   0.21415694798777452\n",
       " 162.74311898324618\n",
       "  77.1691714373714\n",
       "  31.934301284505274\n",
       " 129.80157103959084\n",
       " 163.1175862701153"
      ]
     },
     "execution_count": 172,
     "metadata": {},
     "output_type": "execute_result"
    }
   ],
   "source": [
    "x1=-10:10\n",
    "collect(x1)\n",
    "Polynomial([-2,3,1])\n",
    "y_t=Polynomial([-2,3,1]).(x1)\n",
    "y_ob=y_t+rand(noise1,length(x1))"
   ]
  },
  {
   "cell_type": "code",
   "execution_count": 173,
   "id": "d5611a18",
   "metadata": {},
   "outputs": [
    {
     "data": {
      "text/plain": [
       "21-element Vector{Float64}:\n",
       "  76.75994173848994\n",
       "  62.178079339452886\n",
       "  49.45292781658011\n",
       "  38.58448716987165\n",
       "  29.572757399327486\n",
       "  22.417738504947643\n",
       "  17.1194304867321\n",
       "  13.677833344680863\n",
       "  12.092947078793935\n",
       "  12.364771689071313\n",
       "  14.493307175512998\n",
       "  18.478553538118984\n",
       "  24.320510776889286\n",
       "  32.01917889182389\n",
       "  41.574557882922804\n",
       "  52.986647750186016\n",
       "  66.25544849361354\n",
       "  81.38096011320539\n",
       "  98.36318260896152\n",
       " 117.20211598088196\n",
       " 137.89776022896672"
      ]
     },
     "execution_count": 173,
     "metadata": {},
     "output_type": "execute_result"
    }
   ],
   "source": [
    "line_fit1=fit(x1,y_ob,2)\n",
    "fit_coeff1=coeffs(line_fit1)\n",
    "y_fitted1=fit_coeff1[1] .+ (fit_coeff1[2].*(x)) .+ (fit_coeff1[3] .*(x.^2))"
   ]
  },
  {
   "cell_type": "code",
   "execution_count": 174,
   "id": "9e14852b",
   "metadata": {},
   "outputs": [
    {
     "data": {
      "image/svg+xml": [
       "<?xml version=\"1.0\" encoding=\"utf-8\"?>\n",
       "<svg xmlns=\"http://www.w3.org/2000/svg\" xmlns:xlink=\"http://www.w3.org/1999/xlink\" width=\"600\" height=\"400\" viewBox=\"0 0 2400 1600\">\n",
       "<defs>\n",
       "  <clipPath id=\"clip590\">\n",
       "    <rect x=\"0\" y=\"0\" width=\"2400\" height=\"1600\"/>\n",
       "  </clipPath>\n",
       "</defs>\n",
       "<path clip-path=\"url(#clip590)\" d=\"M0 1600 L2400 1600 L2400 0 L0 0  Z\" fill=\"#ffffff\" fill-rule=\"evenodd\" fill-opacity=\"1\"/>\n",
       "<defs>\n",
       "  <clipPath id=\"clip591\">\n",
       "    <rect x=\"480\" y=\"0\" width=\"1681\" height=\"1600\"/>\n",
       "  </clipPath>\n",
       "</defs>\n",
       "<path clip-path=\"url(#clip590)\" d=\"M178.867 1486.45 L2352.76 1486.45 L2352.76 47.2441 L178.867 47.2441  Z\" fill=\"#ffffff\" fill-rule=\"evenodd\" fill-opacity=\"1\"/>\n",
       "<defs>\n",
       "  <clipPath id=\"clip592\">\n",
       "    <rect x=\"178\" y=\"47\" width=\"2175\" height=\"1440\"/>\n",
       "  </clipPath>\n",
       "</defs>\n",
       "<polyline clip-path=\"url(#clip592)\" style=\"stroke:#000000; stroke-linecap:round; stroke-linejoin:round; stroke-width:2; stroke-opacity:0.1; fill:none\" points=\"240.392,1486.45 240.392,47.2441 \"/>\n",
       "<polyline clip-path=\"url(#clip592)\" style=\"stroke:#000000; stroke-linecap:round; stroke-linejoin:round; stroke-width:2; stroke-opacity:0.1; fill:none\" points=\"753.102,1486.45 753.102,47.2441 \"/>\n",
       "<polyline clip-path=\"url(#clip592)\" style=\"stroke:#000000; stroke-linecap:round; stroke-linejoin:round; stroke-width:2; stroke-opacity:0.1; fill:none\" points=\"1265.81,1486.45 1265.81,47.2441 \"/>\n",
       "<polyline clip-path=\"url(#clip592)\" style=\"stroke:#000000; stroke-linecap:round; stroke-linejoin:round; stroke-width:2; stroke-opacity:0.1; fill:none\" points=\"1778.52,1486.45 1778.52,47.2441 \"/>\n",
       "<polyline clip-path=\"url(#clip592)\" style=\"stroke:#000000; stroke-linecap:round; stroke-linejoin:round; stroke-width:2; stroke-opacity:0.1; fill:none\" points=\"2291.23,1486.45 2291.23,47.2441 \"/>\n",
       "<polyline clip-path=\"url(#clip590)\" style=\"stroke:#000000; stroke-linecap:round; stroke-linejoin:round; stroke-width:4; stroke-opacity:1; fill:none\" points=\"178.867,1486.45 2352.76,1486.45 \"/>\n",
       "<polyline clip-path=\"url(#clip590)\" style=\"stroke:#000000; stroke-linecap:round; stroke-linejoin:round; stroke-width:4; stroke-opacity:1; fill:none\" points=\"240.392,1486.45 240.392,1467.55 \"/>\n",
       "<polyline clip-path=\"url(#clip590)\" style=\"stroke:#000000; stroke-linecap:round; stroke-linejoin:round; stroke-width:4; stroke-opacity:1; fill:none\" points=\"753.102,1486.45 753.102,1467.55 \"/>\n",
       "<polyline clip-path=\"url(#clip590)\" style=\"stroke:#000000; stroke-linecap:round; stroke-linejoin:round; stroke-width:4; stroke-opacity:1; fill:none\" points=\"1265.81,1486.45 1265.81,1467.55 \"/>\n",
       "<polyline clip-path=\"url(#clip590)\" style=\"stroke:#000000; stroke-linecap:round; stroke-linejoin:round; stroke-width:4; stroke-opacity:1; fill:none\" points=\"1778.52,1486.45 1778.52,1467.55 \"/>\n",
       "<polyline clip-path=\"url(#clip590)\" style=\"stroke:#000000; stroke-linecap:round; stroke-linejoin:round; stroke-width:4; stroke-opacity:1; fill:none\" points=\"2291.23,1486.45 2291.23,1467.55 \"/>\n",
       "<path clip-path=\"url(#clip590)\" d=\"M194.455 1532.02 L224.13 1532.02 L224.13 1535.95 L194.455 1535.95 L194.455 1532.02 Z\" fill=\"#000000\" fill-rule=\"evenodd\" fill-opacity=\"1\" /><path clip-path=\"url(#clip590)\" d=\"M235.033 1544.91 L242.672 1544.91 L242.672 1518.55 L234.362 1520.21 L234.362 1515.95 L242.626 1514.29 L247.301 1514.29 L247.301 1544.91 L254.94 1544.91 L254.94 1548.85 L235.033 1548.85 L235.033 1544.91 Z\" fill=\"#000000\" fill-rule=\"evenodd\" fill-opacity=\"1\" /><path clip-path=\"url(#clip590)\" d=\"M274.385 1517.37 Q270.774 1517.37 268.945 1520.93 Q267.139 1524.47 267.139 1531.6 Q267.139 1538.71 268.945 1542.27 Q270.774 1545.82 274.385 1545.82 Q278.019 1545.82 279.824 1542.27 Q281.653 1538.71 281.653 1531.6 Q281.653 1524.47 279.824 1520.93 Q278.019 1517.37 274.385 1517.37 M274.385 1513.66 Q280.195 1513.66 283.25 1518.27 Q286.329 1522.85 286.329 1531.6 Q286.329 1540.33 283.25 1544.94 Q280.195 1549.52 274.385 1549.52 Q268.575 1549.52 265.496 1544.94 Q262.44 1540.33 262.44 1531.6 Q262.44 1522.85 265.496 1518.27 Q268.575 1513.66 274.385 1513.66 Z\" fill=\"#000000\" fill-rule=\"evenodd\" fill-opacity=\"1\" /><path clip-path=\"url(#clip590)\" d=\"M722.743 1532.02 L752.419 1532.02 L752.419 1535.95 L722.743 1535.95 L722.743 1532.02 Z\" fill=\"#000000\" fill-rule=\"evenodd\" fill-opacity=\"1\" /><path clip-path=\"url(#clip590)\" d=\"M762.558 1514.29 L780.914 1514.29 L780.914 1518.22 L766.84 1518.22 L766.84 1526.7 Q767.858 1526.35 768.877 1526.19 Q769.895 1526 770.914 1526 Q776.701 1526 780.081 1529.17 Q783.46 1532.34 783.46 1537.76 Q783.46 1543.34 779.988 1546.44 Q776.516 1549.52 770.196 1549.52 Q768.02 1549.52 765.752 1549.15 Q763.507 1548.78 761.099 1548.04 L761.099 1543.34 Q763.183 1544.47 765.405 1545.03 Q767.627 1545.58 770.104 1545.58 Q774.108 1545.58 776.446 1543.48 Q778.784 1541.37 778.784 1537.76 Q778.784 1534.15 776.446 1532.04 Q774.108 1529.94 770.104 1529.94 Q768.229 1529.94 766.354 1530.35 Q764.502 1530.77 762.558 1531.65 L762.558 1514.29 Z\" fill=\"#000000\" fill-rule=\"evenodd\" fill-opacity=\"1\" /><path clip-path=\"url(#clip590)\" d=\"M1265.81 1517.37 Q1262.2 1517.37 1260.37 1520.93 Q1258.57 1524.47 1258.57 1531.6 Q1258.57 1538.71 1260.37 1542.27 Q1262.2 1545.82 1265.81 1545.82 Q1269.45 1545.82 1271.25 1542.27 Q1273.08 1538.71 1273.08 1531.6 Q1273.08 1524.47 1271.25 1520.93 Q1269.45 1517.37 1265.81 1517.37 M1265.81 1513.66 Q1271.62 1513.66 1274.68 1518.27 Q1277.76 1522.85 1277.76 1531.6 Q1277.76 1540.33 1274.68 1544.94 Q1271.62 1549.52 1265.81 1549.52 Q1260 1549.52 1256.92 1544.94 Q1253.87 1540.33 1253.87 1531.6 Q1253.87 1522.85 1256.92 1518.27 Q1260 1513.66 1265.81 1513.66 Z\" fill=\"#000000\" fill-rule=\"evenodd\" fill-opacity=\"1\" /><path clip-path=\"url(#clip590)\" d=\"M1768.8 1514.29 L1787.16 1514.29 L1787.16 1518.22 L1773.08 1518.22 L1773.08 1526.7 Q1774.1 1526.35 1775.12 1526.19 Q1776.14 1526 1777.16 1526 Q1782.94 1526 1786.32 1529.17 Q1789.7 1532.34 1789.7 1537.76 Q1789.7 1543.34 1786.23 1546.44 Q1782.76 1549.52 1776.44 1549.52 Q1774.26 1549.52 1771.99 1549.15 Q1769.75 1548.78 1767.34 1548.04 L1767.34 1543.34 Q1769.42 1544.47 1771.65 1545.03 Q1773.87 1545.58 1776.35 1545.58 Q1780.35 1545.58 1782.69 1543.48 Q1785.03 1541.37 1785.03 1537.76 Q1785.03 1534.15 1782.69 1532.04 Q1780.35 1529.94 1776.35 1529.94 Q1774.47 1529.94 1772.6 1530.35 Q1770.74 1530.77 1768.8 1531.65 L1768.8 1514.29 Z\" fill=\"#000000\" fill-rule=\"evenodd\" fill-opacity=\"1\" /><path clip-path=\"url(#clip590)\" d=\"M2265.92 1544.91 L2273.56 1544.91 L2273.56 1518.55 L2265.25 1520.21 L2265.25 1515.95 L2273.51 1514.29 L2278.19 1514.29 L2278.19 1544.91 L2285.83 1544.91 L2285.83 1548.85 L2265.92 1548.85 L2265.92 1544.91 Z\" fill=\"#000000\" fill-rule=\"evenodd\" fill-opacity=\"1\" /><path clip-path=\"url(#clip590)\" d=\"M2305.27 1517.37 Q2301.66 1517.37 2299.83 1520.93 Q2298.02 1524.47 2298.02 1531.6 Q2298.02 1538.71 2299.83 1542.27 Q2301.66 1545.82 2305.27 1545.82 Q2308.9 1545.82 2310.71 1542.27 Q2312.54 1538.71 2312.54 1531.6 Q2312.54 1524.47 2310.71 1520.93 Q2308.9 1517.37 2305.27 1517.37 M2305.27 1513.66 Q2311.08 1513.66 2314.14 1518.27 Q2317.21 1522.85 2317.21 1531.6 Q2317.21 1540.33 2314.14 1544.94 Q2311.08 1549.52 2305.27 1549.52 Q2299.46 1549.52 2296.38 1544.94 Q2293.33 1540.33 2293.33 1531.6 Q2293.33 1522.85 2296.38 1518.27 Q2299.46 1513.66 2305.27 1513.66 Z\" fill=\"#000000\" fill-rule=\"evenodd\" fill-opacity=\"1\" /><polyline clip-path=\"url(#clip592)\" style=\"stroke:#000000; stroke-linecap:round; stroke-linejoin:round; stroke-width:2; stroke-opacity:0.1; fill:none\" points=\"178.867,1231.76 2352.76,1231.76 \"/>\n",
       "<polyline clip-path=\"url(#clip592)\" style=\"stroke:#000000; stroke-linecap:round; stroke-linejoin:round; stroke-width:2; stroke-opacity:0.1; fill:none\" points=\"178.867,963.411 2352.76,963.411 \"/>\n",
       "<polyline clip-path=\"url(#clip592)\" style=\"stroke:#000000; stroke-linecap:round; stroke-linejoin:round; stroke-width:2; stroke-opacity:0.1; fill:none\" points=\"178.867,695.066 2352.76,695.066 \"/>\n",
       "<polyline clip-path=\"url(#clip592)\" style=\"stroke:#000000; stroke-linecap:round; stroke-linejoin:round; stroke-width:2; stroke-opacity:0.1; fill:none\" points=\"178.867,426.721 2352.76,426.721 \"/>\n",
       "<polyline clip-path=\"url(#clip592)\" style=\"stroke:#000000; stroke-linecap:round; stroke-linejoin:round; stroke-width:2; stroke-opacity:0.1; fill:none\" points=\"178.867,158.377 2352.76,158.377 \"/>\n",
       "<polyline clip-path=\"url(#clip590)\" style=\"stroke:#000000; stroke-linecap:round; stroke-linejoin:round; stroke-width:4; stroke-opacity:1; fill:none\" points=\"178.867,1486.45 178.867,47.2441 \"/>\n",
       "<polyline clip-path=\"url(#clip590)\" style=\"stroke:#000000; stroke-linecap:round; stroke-linejoin:round; stroke-width:4; stroke-opacity:1; fill:none\" points=\"178.867,1231.76 197.764,1231.76 \"/>\n",
       "<polyline clip-path=\"url(#clip590)\" style=\"stroke:#000000; stroke-linecap:round; stroke-linejoin:round; stroke-width:4; stroke-opacity:1; fill:none\" points=\"178.867,963.411 197.764,963.411 \"/>\n",
       "<polyline clip-path=\"url(#clip590)\" style=\"stroke:#000000; stroke-linecap:round; stroke-linejoin:round; stroke-width:4; stroke-opacity:1; fill:none\" points=\"178.867,695.066 197.764,695.066 \"/>\n",
       "<polyline clip-path=\"url(#clip590)\" style=\"stroke:#000000; stroke-linecap:round; stroke-linejoin:round; stroke-width:4; stroke-opacity:1; fill:none\" points=\"178.867,426.721 197.764,426.721 \"/>\n",
       "<polyline clip-path=\"url(#clip590)\" style=\"stroke:#000000; stroke-linecap:round; stroke-linejoin:round; stroke-width:4; stroke-opacity:1; fill:none\" points=\"178.867,158.377 197.764,158.377 \"/>\n",
       "<path clip-path=\"url(#clip590)\" d=\"M50.9921 1232.21 L80.6679 1232.21 L80.6679 1236.14 L50.9921 1236.14 L50.9921 1232.21 Z\" fill=\"#000000\" fill-rule=\"evenodd\" fill-opacity=\"1\" /><path clip-path=\"url(#clip590)\" d=\"M90.8067 1214.48 L109.163 1214.48 L109.163 1218.41 L95.0891 1218.41 L95.0891 1226.88 Q96.1076 1226.54 97.1261 1226.37 Q98.1447 1226.19 99.1632 1226.19 Q104.95 1226.19 108.33 1229.36 Q111.709 1232.53 111.709 1237.95 Q111.709 1243.53 108.237 1246.63 Q104.765 1249.71 98.4456 1249.71 Q96.2697 1249.71 94.0012 1249.34 Q91.7558 1248.97 89.3484 1248.22 L89.3484 1243.53 Q91.4317 1244.66 93.6539 1245.22 Q95.8761 1245.77 98.353 1245.77 Q102.358 1245.77 104.696 1243.66 Q107.033 1241.56 107.033 1237.95 Q107.033 1234.34 104.696 1232.23 Q102.358 1230.12 98.353 1230.12 Q96.478 1230.12 94.603 1230.54 Q92.7512 1230.96 90.8067 1231.84 L90.8067 1214.48 Z\" fill=\"#000000\" fill-rule=\"evenodd\" fill-opacity=\"1\" /><path clip-path=\"url(#clip590)\" d=\"M130.922 1217.55 Q127.311 1217.55 125.482 1221.12 Q123.677 1224.66 123.677 1231.79 Q123.677 1238.9 125.482 1242.46 Q127.311 1246 130.922 1246 Q134.556 1246 136.362 1242.46 Q138.191 1238.9 138.191 1231.79 Q138.191 1224.66 136.362 1221.12 Q134.556 1217.55 130.922 1217.55 M130.922 1213.85 Q136.732 1213.85 139.788 1218.46 Q142.867 1223.04 142.867 1231.79 Q142.867 1240.52 139.788 1245.12 Q136.732 1249.71 130.922 1249.71 Q125.112 1249.71 122.033 1245.12 Q118.978 1240.52 118.978 1231.79 Q118.978 1223.04 122.033 1218.46 Q125.112 1213.85 130.922 1213.85 Z\" fill=\"#000000\" fill-rule=\"evenodd\" fill-opacity=\"1\" /><path clip-path=\"url(#clip590)\" d=\"M130.922 949.209 Q127.311 949.209 125.482 952.774 Q123.677 956.316 123.677 963.445 Q123.677 970.552 125.482 974.116 Q127.311 977.658 130.922 977.658 Q134.556 977.658 136.362 974.116 Q138.191 970.552 138.191 963.445 Q138.191 956.316 136.362 952.774 Q134.556 949.209 130.922 949.209 M130.922 945.506 Q136.732 945.506 139.788 950.112 Q142.867 954.695 142.867 963.445 Q142.867 972.172 139.788 976.779 Q136.732 981.362 130.922 981.362 Q125.112 981.362 122.033 976.779 Q118.978 972.172 118.978 963.445 Q118.978 954.695 122.033 950.112 Q125.112 945.506 130.922 945.506 Z\" fill=\"#000000\" fill-rule=\"evenodd\" fill-opacity=\"1\" /><path clip-path=\"url(#clip590)\" d=\"M90.8067 677.786 L109.163 677.786 L109.163 681.721 L95.0891 681.721 L95.0891 690.193 Q96.1076 689.846 97.1261 689.684 Q98.1447 689.499 99.1632 689.499 Q104.95 689.499 108.33 692.67 Q111.709 695.841 111.709 701.258 Q111.709 706.837 108.237 709.939 Q104.765 713.017 98.4456 713.017 Q96.2697 713.017 94.0012 712.647 Q91.7558 712.277 89.3484 711.536 L89.3484 706.837 Q91.4317 707.971 93.6539 708.527 Q95.8761 709.082 98.353 709.082 Q102.358 709.082 104.696 706.976 Q107.033 704.869 107.033 701.258 Q107.033 697.647 104.696 695.541 Q102.358 693.434 98.353 693.434 Q96.478 693.434 94.603 693.851 Q92.7512 694.267 90.8067 695.147 L90.8067 677.786 Z\" fill=\"#000000\" fill-rule=\"evenodd\" fill-opacity=\"1\" /><path clip-path=\"url(#clip590)\" d=\"M130.922 680.865 Q127.311 680.865 125.482 684.429 Q123.677 687.971 123.677 695.101 Q123.677 702.207 125.482 705.772 Q127.311 709.314 130.922 709.314 Q134.556 709.314 136.362 705.772 Q138.191 702.207 138.191 695.101 Q138.191 687.971 136.362 684.429 Q134.556 680.865 130.922 680.865 M130.922 677.161 Q136.732 677.161 139.788 681.767 Q142.867 686.351 142.867 695.101 Q142.867 703.828 139.788 708.434 Q136.732 713.017 130.922 713.017 Q125.112 713.017 122.033 708.434 Q118.978 703.828 118.978 695.101 Q118.978 686.351 122.033 681.767 Q125.112 677.161 130.922 677.161 Z\" fill=\"#000000\" fill-rule=\"evenodd\" fill-opacity=\"1\" /><path clip-path=\"url(#clip590)\" d=\"M61.4087 440.066 L69.0476 440.066 L69.0476 413.701 L60.7374 415.367 L60.7374 411.108 L69.0013 409.441 L73.6772 409.441 L73.6772 440.066 L81.316 440.066 L81.316 444.001 L61.4087 444.001 L61.4087 440.066 Z\" fill=\"#000000\" fill-rule=\"evenodd\" fill-opacity=\"1\" /><path clip-path=\"url(#clip590)\" d=\"M100.76 412.52 Q97.1493 412.52 95.3206 416.085 Q93.515 419.627 93.515 426.756 Q93.515 433.863 95.3206 437.427 Q97.1493 440.969 100.76 440.969 Q104.395 440.969 106.2 437.427 Q108.029 433.863 108.029 426.756 Q108.029 419.627 106.2 416.085 Q104.395 412.52 100.76 412.52 M100.76 408.816 Q106.571 408.816 109.626 413.423 Q112.705 418.006 112.705 426.756 Q112.705 435.483 109.626 440.089 Q106.571 444.673 100.76 444.673 Q94.9502 444.673 91.8715 440.089 Q88.816 435.483 88.816 426.756 Q88.816 418.006 91.8715 413.423 Q94.9502 408.816 100.76 408.816 Z\" fill=\"#000000\" fill-rule=\"evenodd\" fill-opacity=\"1\" /><path clip-path=\"url(#clip590)\" d=\"M130.922 412.52 Q127.311 412.52 125.482 416.085 Q123.677 419.627 123.677 426.756 Q123.677 433.863 125.482 437.427 Q127.311 440.969 130.922 440.969 Q134.556 440.969 136.362 437.427 Q138.191 433.863 138.191 426.756 Q138.191 419.627 136.362 416.085 Q134.556 412.52 130.922 412.52 M130.922 408.816 Q136.732 408.816 139.788 413.423 Q142.867 418.006 142.867 426.756 Q142.867 435.483 139.788 440.089 Q136.732 444.673 130.922 444.673 Q125.112 444.673 122.033 440.089 Q118.978 435.483 118.978 426.756 Q118.978 418.006 122.033 413.423 Q125.112 408.816 130.922 408.816 Z\" fill=\"#000000\" fill-rule=\"evenodd\" fill-opacity=\"1\" /><path clip-path=\"url(#clip590)\" d=\"M61.4087 171.722 L69.0476 171.722 L69.0476 145.356 L60.7374 147.023 L60.7374 142.764 L69.0013 141.097 L73.6772 141.097 L73.6772 171.722 L81.316 171.722 L81.316 175.657 L61.4087 175.657 L61.4087 171.722 Z\" fill=\"#000000\" fill-rule=\"evenodd\" fill-opacity=\"1\" /><path clip-path=\"url(#clip590)\" d=\"M90.8067 141.097 L109.163 141.097 L109.163 145.032 L95.0891 145.032 L95.0891 153.504 Q96.1076 153.157 97.1261 152.995 Q98.1447 152.81 99.1632 152.81 Q104.95 152.81 108.33 155.981 Q111.709 159.152 111.709 164.569 Q111.709 170.148 108.237 173.25 Q104.765 176.328 98.4456 176.328 Q96.2697 176.328 94.0012 175.958 Q91.7558 175.587 89.3484 174.847 L89.3484 170.148 Q91.4317 171.282 93.6539 171.838 Q95.8761 172.393 98.353 172.393 Q102.358 172.393 104.696 170.287 Q107.033 168.18 107.033 164.569 Q107.033 160.958 104.696 158.851 Q102.358 156.745 98.353 156.745 Q96.478 156.745 94.603 157.162 Q92.7512 157.578 90.8067 158.458 L90.8067 141.097 Z\" fill=\"#000000\" fill-rule=\"evenodd\" fill-opacity=\"1\" /><path clip-path=\"url(#clip590)\" d=\"M130.922 144.176 Q127.311 144.176 125.482 147.74 Q123.677 151.282 123.677 158.412 Q123.677 165.518 125.482 169.083 Q127.311 172.625 130.922 172.625 Q134.556 172.625 136.362 169.083 Q138.191 165.518 138.191 158.412 Q138.191 151.282 136.362 147.74 Q134.556 144.176 130.922 144.176 M130.922 140.472 Q136.732 140.472 139.788 145.078 Q142.867 149.662 142.867 158.412 Q142.867 167.138 139.788 171.745 Q136.732 176.328 130.922 176.328 Q125.112 176.328 122.033 171.745 Q118.978 167.138 118.978 158.412 Q118.978 149.662 122.033 145.078 Q125.112 140.472 130.922 140.472 Z\" fill=\"#000000\" fill-rule=\"evenodd\" fill-opacity=\"1\" /><circle clip-path=\"url(#clip592)\" cx=\"240.392\" cy=\"637.683\" r=\"14.4\" fill=\"#009af9\" fill-rule=\"evenodd\" fill-opacity=\"1\" stroke=\"#000000\" stroke-opacity=\"1\" stroke-width=\"3.2\"/>\n",
       "<circle clip-path=\"url(#clip592)\" cx=\"342.934\" cy=\"194.828\" r=\"14.4\" fill=\"#009af9\" fill-rule=\"evenodd\" fill-opacity=\"1\" stroke=\"#000000\" stroke-opacity=\"1\" stroke-width=\"3.2\"/>\n",
       "<circle clip-path=\"url(#clip592)\" cx=\"445.476\" cy=\"1445.72\" r=\"14.4\" fill=\"#009af9\" fill-rule=\"evenodd\" fill-opacity=\"1\" stroke=\"#000000\" stroke-opacity=\"1\" stroke-width=\"3.2\"/>\n",
       "<circle clip-path=\"url(#clip592)\" cx=\"548.018\" cy=\"579.091\" r=\"14.4\" fill=\"#009af9\" fill-rule=\"evenodd\" fill-opacity=\"1\" stroke=\"#000000\" stroke-opacity=\"1\" stroke-width=\"3.2\"/>\n",
       "<circle clip-path=\"url(#clip592)\" cx=\"650.56\" cy=\"759.805\" r=\"14.4\" fill=\"#009af9\" fill-rule=\"evenodd\" fill-opacity=\"1\" stroke=\"#000000\" stroke-opacity=\"1\" stroke-width=\"3.2\"/>\n",
       "<circle clip-path=\"url(#clip592)\" cx=\"753.102\" cy=\"839.893\" r=\"14.4\" fill=\"#009af9\" fill-rule=\"evenodd\" fill-opacity=\"1\" stroke=\"#000000\" stroke-opacity=\"1\" stroke-width=\"3.2\"/>\n",
       "<circle clip-path=\"url(#clip592)\" cx=\"855.643\" cy=\"585.569\" r=\"14.4\" fill=\"#009af9\" fill-rule=\"evenodd\" fill-opacity=\"1\" stroke=\"#000000\" stroke-opacity=\"1\" stroke-width=\"3.2\"/>\n",
       "<circle clip-path=\"url(#clip592)\" cx=\"958.185\" cy=\"737.317\" r=\"14.4\" fill=\"#009af9\" fill-rule=\"evenodd\" fill-opacity=\"1\" stroke=\"#000000\" stroke-opacity=\"1\" stroke-width=\"3.2\"/>\n",
       "<circle clip-path=\"url(#clip592)\" cx=\"1060.73\" cy=\"918.18\" r=\"14.4\" fill=\"#009af9\" fill-rule=\"evenodd\" fill-opacity=\"1\" stroke=\"#000000\" stroke-opacity=\"1\" stroke-width=\"3.2\"/>\n",
       "<circle clip-path=\"url(#clip592)\" cx=\"1163.27\" cy=\"1050.58\" r=\"14.4\" fill=\"#009af9\" fill-rule=\"evenodd\" fill-opacity=\"1\" stroke=\"#000000\" stroke-opacity=\"1\" stroke-width=\"3.2\"/>\n",
       "<circle clip-path=\"url(#clip592)\" cx=\"1265.81\" cy=\"731.382\" r=\"14.4\" fill=\"#009af9\" fill-rule=\"evenodd\" fill-opacity=\"1\" stroke=\"#000000\" stroke-opacity=\"1\" stroke-width=\"3.2\"/>\n",
       "<circle clip-path=\"url(#clip592)\" cx=\"1368.35\" cy=\"932.866\" r=\"14.4\" fill=\"#009af9\" fill-rule=\"evenodd\" fill-opacity=\"1\" stroke=\"#000000\" stroke-opacity=\"1\" stroke-width=\"3.2\"/>\n",
       "<circle clip-path=\"url(#clip592)\" cx=\"1470.9\" cy=\"969.629\" r=\"14.4\" fill=\"#009af9\" fill-rule=\"evenodd\" fill-opacity=\"1\" stroke=\"#000000\" stroke-opacity=\"1\" stroke-width=\"3.2\"/>\n",
       "<circle clip-path=\"url(#clip592)\" cx=\"1573.44\" cy=\"892.237\" r=\"14.4\" fill=\"#009af9\" fill-rule=\"evenodd\" fill-opacity=\"1\" stroke=\"#000000\" stroke-opacity=\"1\" stroke-width=\"3.2\"/>\n",
       "<circle clip-path=\"url(#clip592)\" cx=\"1675.98\" cy=\"738.674\" r=\"14.4\" fill=\"#009af9\" fill-rule=\"evenodd\" fill-opacity=\"1\" stroke=\"#000000\" stroke-opacity=\"1\" stroke-width=\"3.2\"/>\n",
       "<circle clip-path=\"url(#clip592)\" cx=\"1778.52\" cy=\"962.261\" r=\"14.4\" fill=\"#009af9\" fill-rule=\"evenodd\" fill-opacity=\"1\" stroke=\"#000000\" stroke-opacity=\"1\" stroke-width=\"3.2\"/>\n",
       "<circle clip-path=\"url(#clip592)\" cx=\"1881.06\" cy=\"89.986\" r=\"14.4\" fill=\"#009af9\" fill-rule=\"evenodd\" fill-opacity=\"1\" stroke=\"#000000\" stroke-opacity=\"1\" stroke-width=\"3.2\"/>\n",
       "<circle clip-path=\"url(#clip592)\" cx=\"1983.6\" cy=\"549.252\" r=\"14.4\" fill=\"#009af9\" fill-rule=\"evenodd\" fill-opacity=\"1\" stroke=\"#000000\" stroke-opacity=\"1\" stroke-width=\"3.2\"/>\n",
       "<circle clip-path=\"url(#clip592)\" cx=\"2086.15\" cy=\"792.023\" r=\"14.4\" fill=\"#009af9\" fill-rule=\"evenodd\" fill-opacity=\"1\" stroke=\"#000000\" stroke-opacity=\"1\" stroke-width=\"3.2\"/>\n",
       "<circle clip-path=\"url(#clip592)\" cx=\"2188.69\" cy=\"266.78\" r=\"14.4\" fill=\"#009af9\" fill-rule=\"evenodd\" fill-opacity=\"1\" stroke=\"#000000\" stroke-opacity=\"1\" stroke-width=\"3.2\"/>\n",
       "<circle clip-path=\"url(#clip592)\" cx=\"2291.23\" cy=\"87.9763\" r=\"14.4\" fill=\"#009af9\" fill-rule=\"evenodd\" fill-opacity=\"1\" stroke=\"#000000\" stroke-opacity=\"1\" stroke-width=\"3.2\"/>\n",
       "<polyline clip-path=\"url(#clip592)\" style=\"stroke:#e26f46; stroke-linecap:round; stroke-linejoin:round; stroke-width:4; stroke-opacity:1; fill:none\" points=\"240.392,598.462 342.934,684.332 445.476,759.469 548.018,823.871 650.56,877.54 753.102,920.475 855.643,952.677 958.185,974.144 1060.73,984.878 1163.27,984.878 1265.81,974.144 1368.35,952.677 1470.9,920.475 1573.44,877.54 1675.98,823.871 1778.52,759.469 1881.06,684.332 1983.6,598.462 2086.15,501.858 2188.69,394.52 2291.23,276.449 \"/>\n",
       "<polyline clip-path=\"url(#clip592)\" style=\"stroke:#3da44d; stroke-linecap:round; stroke-linejoin:round; stroke-width:4; stroke-opacity:1; fill:none\" points=\"240.392,551.448 342.934,629.708 445.476,698.002 548.018,756.332 650.56,804.697 753.102,843.097 855.643,871.532 958.185,890.003 1060.73,898.509 1163.27,897.05 1265.81,885.627 1368.35,864.238 1470.9,832.885 1573.44,791.567 1675.98,740.284 1778.52,679.037 1881.06,607.825 1983.6,526.648 2086.15,435.506 2188.69,334.4 2291.23,223.328 \"/>\n",
       "<path clip-path=\"url(#clip590)\" d=\"M2009.9 1438.47 L2280.29 1438.47 L2280.29 1231.11 L2009.9 1231.11  Z\" fill=\"#ffffff\" fill-rule=\"evenodd\" fill-opacity=\"1\"/>\n",
       "<polyline clip-path=\"url(#clip590)\" style=\"stroke:#000000; stroke-linecap:round; stroke-linejoin:round; stroke-width:4; stroke-opacity:1; fill:none\" points=\"2009.9,1438.47 2280.29,1438.47 2280.29,1231.11 2009.9,1231.11 2009.9,1438.47 \"/>\n",
       "<circle clip-path=\"url(#clip590)\" cx=\"2106.51\" cy=\"1282.95\" r=\"23.04\" fill=\"#009af9\" fill-rule=\"evenodd\" fill-opacity=\"1\" stroke=\"#000000\" stroke-opacity=\"1\" stroke-width=\"5.12\"/>\n",
       "<path clip-path=\"url(#clip590)\" d=\"M2216.97 1302.64 Q2215.17 1307.27 2213.45 1308.68 Q2211.74 1310.1 2208.87 1310.1 L2205.47 1310.1 L2205.47 1306.53 L2207.97 1306.53 Q2209.73 1306.53 2210.7 1305.7 Q2211.67 1304.86 2212.85 1301.76 L2213.62 1299.82 L2203.13 1274.31 L2207.64 1274.31 L2215.75 1294.59 L2223.85 1274.31 L2228.36 1274.31 L2216.97 1302.64 Z\" fill=\"#000000\" fill-rule=\"evenodd\" fill-opacity=\"1\" /><path clip-path=\"url(#clip590)\" d=\"M2235.65 1296.3 L2243.29 1296.3 L2243.29 1269.93 L2234.98 1271.6 L2234.98 1267.34 L2243.25 1265.67 L2247.92 1265.67 L2247.92 1296.3 L2255.56 1296.3 L2255.56 1300.23 L2235.65 1300.23 L2235.65 1296.3 Z\" fill=\"#000000\" fill-rule=\"evenodd\" fill-opacity=\"1\" /><polyline clip-path=\"url(#clip590)\" style=\"stroke:#e26f46; stroke-linecap:round; stroke-linejoin:round; stroke-width:4; stroke-opacity:1; fill:none\" points=\"2034.05,1334.79 2178.98,1334.79 \"/>\n",
       "<path clip-path=\"url(#clip590)\" d=\"M2216.97 1354.48 Q2215.17 1359.11 2213.45 1360.52 Q2211.74 1361.94 2208.87 1361.94 L2205.47 1361.94 L2205.47 1358.37 L2207.97 1358.37 Q2209.73 1358.37 2210.7 1357.54 Q2211.67 1356.7 2212.85 1353.6 L2213.62 1351.66 L2203.13 1326.15 L2207.64 1326.15 L2215.75 1346.43 L2223.85 1326.15 L2228.36 1326.15 L2216.97 1354.48 Z\" fill=\"#000000\" fill-rule=\"evenodd\" fill-opacity=\"1\" /><path clip-path=\"url(#clip590)\" d=\"M2238.87 1348.14 L2255.19 1348.14 L2255.19 1352.07 L2233.25 1352.07 L2233.25 1348.14 Q2235.91 1345.38 2240.49 1340.76 Q2245.1 1336.1 2246.28 1334.76 Q2248.52 1332.24 2249.4 1330.5 Q2250.31 1328.74 2250.31 1327.05 Q2250.31 1324.3 2248.36 1322.56 Q2246.44 1320.82 2243.34 1320.82 Q2241.14 1320.82 2238.68 1321.59 Q2236.25 1322.35 2233.48 1323.9 L2233.48 1319.18 Q2236.3 1318.05 2238.75 1317.47 Q2241.21 1316.89 2243.25 1316.89 Q2248.62 1316.89 2251.81 1319.57 Q2255 1322.26 2255 1326.75 Q2255 1328.88 2254.19 1330.8 Q2253.41 1332.7 2251.3 1335.29 Q2250.72 1335.96 2247.62 1339.18 Q2244.52 1342.38 2238.87 1348.14 Z\" fill=\"#000000\" fill-rule=\"evenodd\" fill-opacity=\"1\" /><polyline clip-path=\"url(#clip590)\" style=\"stroke:#3da44d; stroke-linecap:round; stroke-linejoin:round; stroke-width:4; stroke-opacity:1; fill:none\" points=\"2034.05,1386.63 2178.98,1386.63 \"/>\n",
       "<path clip-path=\"url(#clip590)\" d=\"M2216.97 1406.32 Q2215.17 1410.95 2213.45 1412.36 Q2211.74 1413.78 2208.87 1413.78 L2205.47 1413.78 L2205.47 1410.21 L2207.97 1410.21 Q2209.73 1410.21 2210.7 1409.38 Q2211.67 1408.54 2212.85 1405.44 L2213.62 1403.5 L2203.13 1377.99 L2207.64 1377.99 L2215.75 1398.27 L2223.85 1377.99 L2228.36 1377.99 L2216.97 1406.32 Z\" fill=\"#000000\" fill-rule=\"evenodd\" fill-opacity=\"1\" /><path clip-path=\"url(#clip590)\" d=\"M2249.01 1385.28 Q2252.37 1386 2254.24 1388.27 Q2256.14 1390.53 2256.14 1393.87 Q2256.14 1398.98 2252.62 1401.78 Q2249.1 1404.59 2242.62 1404.59 Q2240.44 1404.59 2238.13 1404.15 Q2235.84 1403.73 2233.38 1402.87 L2233.38 1398.36 Q2235.33 1399.49 2237.64 1400.07 Q2239.96 1400.65 2242.48 1400.65 Q2246.88 1400.65 2249.17 1398.91 Q2251.49 1397.18 2251.49 1393.87 Q2251.49 1390.81 2249.33 1389.1 Q2247.2 1387.36 2243.38 1387.36 L2239.36 1387.36 L2239.36 1383.52 L2243.57 1383.52 Q2247.02 1383.52 2248.85 1382.16 Q2250.68 1380.77 2250.68 1378.17 Q2250.68 1375.51 2248.78 1374.1 Q2246.9 1372.66 2243.38 1372.66 Q2241.46 1372.66 2239.26 1373.08 Q2237.06 1373.5 2234.43 1374.38 L2234.43 1370.21 Q2237.09 1369.47 2239.4 1369.1 Q2241.74 1368.73 2243.8 1368.73 Q2249.12 1368.73 2252.23 1371.16 Q2255.33 1373.57 2255.33 1377.69 Q2255.33 1380.56 2253.68 1382.55 Q2252.04 1384.52 2249.01 1385.28 Z\" fill=\"#000000\" fill-rule=\"evenodd\" fill-opacity=\"1\" /></svg>\n"
      ]
     },
     "execution_count": 174,
     "metadata": {},
     "output_type": "execute_result"
    }
   ],
   "source": [
    "scatter(x,y_ob)\n",
    "plot!(x,y_t)\n",
    "plot!(x,y_fitted1)"
   ]
  },
  {
   "cell_type": "markdown",
   "id": "ab12acbd",
   "metadata": {},
   "source": [
    "2. Compare the plot with the plot in 2.3. Is the fit closer to y_true or not, and why?"
   ]
  },
  {
   "cell_type": "markdown",
   "id": "a34fcca4",
   "metadata": {},
   "source": [
    "the fit is further, because the standard deviation of the noise is larger."
   ]
  },
  {
   "cell_type": "markdown",
   "id": "5fd1d93b",
   "metadata": {},
   "source": [
    "### 2.5\n",
    "\n",
    "#### Repeat 2.2 and 2.3 with a tenth order polynomial fit\n"
   ]
  },
  {
   "cell_type": "code",
   "execution_count": 225,
   "id": "b6dbd546",
   "metadata": {},
   "outputs": [
    {
     "data": {
      "text/plain": [
       "21-element Vector{Int64}:\n",
       " -9173553719\n",
       " -3521652245\n",
       " -1206302543\n",
       "  -357507737\n",
       "   -87614255\n",
       "   -16547309\n",
       "    -2139095\n",
       "     -151313\n",
       "       -3527\n",
       "          -5\n",
       "           1\n",
       "          55\n",
       "        9217\n",
       "      280483\n",
       "     3378745\n",
       "    23803711\n",
       "   118513705\n",
       "   462945547\n",
       "  1512003793\n",
       "  4303999495\n",
       " 10987654321"
      ]
     },
     "execution_count": 225,
     "metadata": {},
     "output_type": "execute_result"
    }
   ],
   "source": [
    "x_t=-10:10\n",
    "collect(x_t)\n",
    "#Polynomial([-2,3,1,0,1,2,3,4,5,6,7])\n",
    "y_t2=Polynomial([1,2,3,4,5,6,7,8,9,10]).(x_t)"
   ]
  },
  {
   "cell_type": "code",
   "execution_count": 179,
   "id": "b8ff849c",
   "metadata": {},
   "outputs": [
    {
     "data": {
      "text/plain": [
       "21-element Vector{Float64}:\n",
       "      6.4462810065775154e10\n",
       "      2.2280552447662838e10\n",
       "      6.787108894837484e9\n",
       "      1.7610566954577909e9\n",
       "      3.7020111607898134e8\n",
       "      5.832251706868437e7\n",
       "      6.039813899126437e6\n",
       " 321093.0677940934\n",
       "   5013.706052507929\n",
       "     -2.9249731575616815\n",
       "      7.335869998403549\n",
       "     31.31591768391792\n",
       "  12316.958620962838\n",
       " 575751.9467809711\n",
       "      9.320719428822732e6\n",
       "      8.239754854411043e7\n",
       "      4.9340409572379035e8\n",
       "      2.251955579585675e9\n",
       "      8.41462997772209e9\n",
       "      2.696809832165222e10\n",
       "      7.654321012297675e10"
      ]
     },
     "execution_count": 179,
     "metadata": {},
     "output_type": "execute_result"
    }
   ],
   "source": [
    "err=10\n",
    "noise_again=di.Normal(0,err)\n",
    "y_ob1=y_t2+rand(noise_again,length(x_t))"
   ]
  },
  {
   "cell_type": "code",
   "execution_count": 205,
   "id": "c758edfd",
   "metadata": {},
   "outputs": [
    {
     "data": {
      "image/svg+xml": [
       "<?xml version=\"1.0\" encoding=\"utf-8\"?>\n",
       "<svg xmlns=\"http://www.w3.org/2000/svg\" xmlns:xlink=\"http://www.w3.org/1999/xlink\" width=\"600\" height=\"400\" viewBox=\"0 0 2400 1600\">\n",
       "<defs>\n",
       "  <clipPath id=\"clip990\">\n",
       "    <rect x=\"0\" y=\"0\" width=\"2400\" height=\"1600\"/>\n",
       "  </clipPath>\n",
       "</defs>\n",
       "<path clip-path=\"url(#clip990)\" d=\"M0 1600 L2400 1600 L2400 0 L0 0  Z\" fill=\"#ffffff\" fill-rule=\"evenodd\" fill-opacity=\"1\"/>\n",
       "<defs>\n",
       "  <clipPath id=\"clip991\">\n",
       "    <rect x=\"480\" y=\"0\" width=\"1681\" height=\"1600\"/>\n",
       "  </clipPath>\n",
       "</defs>\n",
       "<path clip-path=\"url(#clip990)\" d=\"M299.192 1486.45 L2352.76 1486.45 L2352.76 47.2441 L299.192 47.2441  Z\" fill=\"#ffffff\" fill-rule=\"evenodd\" fill-opacity=\"1\"/>\n",
       "<defs>\n",
       "  <clipPath id=\"clip992\">\n",
       "    <rect x=\"299\" y=\"47\" width=\"2055\" height=\"1440\"/>\n",
       "  </clipPath>\n",
       "</defs>\n",
       "<polyline clip-path=\"url(#clip992)\" style=\"stroke:#000000; stroke-linecap:round; stroke-linejoin:round; stroke-width:2; stroke-opacity:0.1; fill:none\" points=\"357.311,1486.45 357.311,47.2441 \"/>\n",
       "<polyline clip-path=\"url(#clip992)\" style=\"stroke:#000000; stroke-linecap:round; stroke-linejoin:round; stroke-width:2; stroke-opacity:0.1; fill:none\" points=\"841.642,1486.45 841.642,47.2441 \"/>\n",
       "<polyline clip-path=\"url(#clip992)\" style=\"stroke:#000000; stroke-linecap:round; stroke-linejoin:round; stroke-width:2; stroke-opacity:0.1; fill:none\" points=\"1325.97,1486.45 1325.97,47.2441 \"/>\n",
       "<polyline clip-path=\"url(#clip992)\" style=\"stroke:#000000; stroke-linecap:round; stroke-linejoin:round; stroke-width:2; stroke-opacity:0.1; fill:none\" points=\"1810.3,1486.45 1810.3,47.2441 \"/>\n",
       "<polyline clip-path=\"url(#clip992)\" style=\"stroke:#000000; stroke-linecap:round; stroke-linejoin:round; stroke-width:2; stroke-opacity:0.1; fill:none\" points=\"2294.64,1486.45 2294.64,47.2441 \"/>\n",
       "<polyline clip-path=\"url(#clip990)\" style=\"stroke:#000000; stroke-linecap:round; stroke-linejoin:round; stroke-width:4; stroke-opacity:1; fill:none\" points=\"299.192,1486.45 2352.76,1486.45 \"/>\n",
       "<polyline clip-path=\"url(#clip990)\" style=\"stroke:#000000; stroke-linecap:round; stroke-linejoin:round; stroke-width:4; stroke-opacity:1; fill:none\" points=\"357.311,1486.45 357.311,1467.55 \"/>\n",
       "<polyline clip-path=\"url(#clip990)\" style=\"stroke:#000000; stroke-linecap:round; stroke-linejoin:round; stroke-width:4; stroke-opacity:1; fill:none\" points=\"841.642,1486.45 841.642,1467.55 \"/>\n",
       "<polyline clip-path=\"url(#clip990)\" style=\"stroke:#000000; stroke-linecap:round; stroke-linejoin:round; stroke-width:4; stroke-opacity:1; fill:none\" points=\"1325.97,1486.45 1325.97,1467.55 \"/>\n",
       "<polyline clip-path=\"url(#clip990)\" style=\"stroke:#000000; stroke-linecap:round; stroke-linejoin:round; stroke-width:4; stroke-opacity:1; fill:none\" points=\"1810.3,1486.45 1810.3,1467.55 \"/>\n",
       "<polyline clip-path=\"url(#clip990)\" style=\"stroke:#000000; stroke-linecap:round; stroke-linejoin:round; stroke-width:4; stroke-opacity:1; fill:none\" points=\"2294.64,1486.45 2294.64,1467.55 \"/>\n",
       "<path clip-path=\"url(#clip990)\" d=\"M311.374 1532.02 L341.05 1532.02 L341.05 1535.95 L311.374 1535.95 L311.374 1532.02 Z\" fill=\"#000000\" fill-rule=\"evenodd\" fill-opacity=\"1\" /><path clip-path=\"url(#clip990)\" d=\"M351.952 1544.91 L359.591 1544.91 L359.591 1518.55 L351.281 1520.21 L351.281 1515.95 L359.545 1514.29 L364.221 1514.29 L364.221 1544.91 L371.86 1544.91 L371.86 1548.85 L351.952 1548.85 L351.952 1544.91 Z\" fill=\"#000000\" fill-rule=\"evenodd\" fill-opacity=\"1\" /><path clip-path=\"url(#clip990)\" d=\"M391.304 1517.37 Q387.693 1517.37 385.864 1520.93 Q384.059 1524.47 384.059 1531.6 Q384.059 1538.71 385.864 1542.27 Q387.693 1545.82 391.304 1545.82 Q394.938 1545.82 396.744 1542.27 Q398.573 1538.71 398.573 1531.6 Q398.573 1524.47 396.744 1520.93 Q394.938 1517.37 391.304 1517.37 M391.304 1513.66 Q397.114 1513.66 400.17 1518.27 Q403.249 1522.85 403.249 1531.6 Q403.249 1540.33 400.17 1544.94 Q397.114 1549.52 391.304 1549.52 Q385.494 1549.52 382.415 1544.94 Q379.36 1540.33 379.36 1531.6 Q379.36 1522.85 382.415 1518.27 Q385.494 1513.66 391.304 1513.66 Z\" fill=\"#000000\" fill-rule=\"evenodd\" fill-opacity=\"1\" /><path clip-path=\"url(#clip990)\" d=\"M811.284 1532.02 L840.96 1532.02 L840.96 1535.95 L811.284 1535.95 L811.284 1532.02 Z\" fill=\"#000000\" fill-rule=\"evenodd\" fill-opacity=\"1\" /><path clip-path=\"url(#clip990)\" d=\"M851.098 1514.29 L869.455 1514.29 L869.455 1518.22 L855.381 1518.22 L855.381 1526.7 Q856.399 1526.35 857.418 1526.19 Q858.436 1526 859.455 1526 Q865.242 1526 868.622 1529.17 Q872.001 1532.34 872.001 1537.76 Q872.001 1543.34 868.529 1546.44 Q865.057 1549.52 858.737 1549.52 Q856.561 1549.52 854.293 1549.15 Q852.048 1548.78 849.64 1548.04 L849.64 1543.34 Q851.723 1544.47 853.946 1545.03 Q856.168 1545.58 858.645 1545.58 Q862.649 1545.58 864.987 1543.48 Q867.325 1541.37 867.325 1537.76 Q867.325 1534.15 864.987 1532.04 Q862.649 1529.94 858.645 1529.94 Q856.77 1529.94 854.895 1530.35 Q853.043 1530.77 851.098 1531.65 L851.098 1514.29 Z\" fill=\"#000000\" fill-rule=\"evenodd\" fill-opacity=\"1\" /><path clip-path=\"url(#clip990)\" d=\"M1325.97 1517.37 Q1322.36 1517.37 1320.53 1520.93 Q1318.73 1524.47 1318.73 1531.6 Q1318.73 1538.71 1320.53 1542.27 Q1322.36 1545.82 1325.97 1545.82 Q1329.61 1545.82 1331.41 1542.27 Q1333.24 1538.71 1333.24 1531.6 Q1333.24 1524.47 1331.41 1520.93 Q1329.61 1517.37 1325.97 1517.37 M1325.97 1513.66 Q1331.78 1513.66 1334.84 1518.27 Q1337.92 1522.85 1337.92 1531.6 Q1337.92 1540.33 1334.84 1544.94 Q1331.78 1549.52 1325.97 1549.52 Q1320.16 1549.52 1317.08 1544.94 Q1314.03 1540.33 1314.03 1531.6 Q1314.03 1522.85 1317.08 1518.27 Q1320.16 1513.66 1325.97 1513.66 Z\" fill=\"#000000\" fill-rule=\"evenodd\" fill-opacity=\"1\" /><path clip-path=\"url(#clip990)\" d=\"M1800.58 1514.29 L1818.94 1514.29 L1818.94 1518.22 L1804.87 1518.22 L1804.87 1526.7 Q1805.88 1526.35 1806.9 1526.19 Q1807.92 1526 1808.94 1526 Q1814.73 1526 1818.11 1529.17 Q1821.49 1532.34 1821.49 1537.76 Q1821.49 1543.34 1818.01 1546.44 Q1814.54 1549.52 1808.22 1549.52 Q1806.05 1549.52 1803.78 1549.15 Q1801.53 1548.78 1799.12 1548.04 L1799.12 1543.34 Q1801.21 1544.47 1803.43 1545.03 Q1805.65 1545.58 1808.13 1545.58 Q1812.13 1545.58 1814.47 1543.48 Q1816.81 1541.37 1816.81 1537.76 Q1816.81 1534.15 1814.47 1532.04 Q1812.13 1529.94 1808.13 1529.94 Q1806.25 1529.94 1804.38 1530.35 Q1802.53 1530.77 1800.58 1531.65 L1800.58 1514.29 Z\" fill=\"#000000\" fill-rule=\"evenodd\" fill-opacity=\"1\" /><path clip-path=\"url(#clip990)\" d=\"M2269.32 1544.91 L2276.96 1544.91 L2276.96 1518.55 L2268.65 1520.21 L2268.65 1515.95 L2276.92 1514.29 L2281.59 1514.29 L2281.59 1544.91 L2289.23 1544.91 L2289.23 1548.85 L2269.32 1548.85 L2269.32 1544.91 Z\" fill=\"#000000\" fill-rule=\"evenodd\" fill-opacity=\"1\" /><path clip-path=\"url(#clip990)\" d=\"M2308.68 1517.37 Q2305.06 1517.37 2303.24 1520.93 Q2301.43 1524.47 2301.43 1531.6 Q2301.43 1538.71 2303.24 1542.27 Q2305.06 1545.82 2308.68 1545.82 Q2312.31 1545.82 2314.12 1542.27 Q2315.94 1538.71 2315.94 1531.6 Q2315.94 1524.47 2314.12 1520.93 Q2312.31 1517.37 2308.68 1517.37 M2308.68 1513.66 Q2314.49 1513.66 2317.54 1518.27 Q2320.62 1522.85 2320.62 1531.6 Q2320.62 1540.33 2317.54 1544.94 Q2314.49 1549.52 2308.68 1549.52 Q2302.87 1549.52 2299.79 1544.94 Q2296.73 1540.33 2296.73 1531.6 Q2296.73 1522.85 2299.79 1518.27 Q2302.87 1513.66 2308.68 1513.66 Z\" fill=\"#000000\" fill-rule=\"evenodd\" fill-opacity=\"1\" /><polyline clip-path=\"url(#clip992)\" style=\"stroke:#000000; stroke-linecap:round; stroke-linejoin:round; stroke-width:2; stroke-opacity:0.1; fill:none\" points=\"299.192,1300.41 2352.76,1300.41 \"/>\n",
       "<polyline clip-path=\"url(#clip992)\" style=\"stroke:#000000; stroke-linecap:round; stroke-linejoin:round; stroke-width:2; stroke-opacity:0.1; fill:none\" points=\"299.192,983.611 2352.76,983.611 \"/>\n",
       "<polyline clip-path=\"url(#clip992)\" style=\"stroke:#000000; stroke-linecap:round; stroke-linejoin:round; stroke-width:2; stroke-opacity:0.1; fill:none\" points=\"299.192,666.815 2352.76,666.815 \"/>\n",
       "<polyline clip-path=\"url(#clip992)\" style=\"stroke:#000000; stroke-linecap:round; stroke-linejoin:round; stroke-width:2; stroke-opacity:0.1; fill:none\" points=\"299.192,350.018 2352.76,350.018 \"/>\n",
       "<polyline clip-path=\"url(#clip990)\" style=\"stroke:#000000; stroke-linecap:round; stroke-linejoin:round; stroke-width:4; stroke-opacity:1; fill:none\" points=\"299.192,1486.45 299.192,47.2441 \"/>\n",
       "<polyline clip-path=\"url(#clip990)\" style=\"stroke:#000000; stroke-linecap:round; stroke-linejoin:round; stroke-width:4; stroke-opacity:1; fill:none\" points=\"299.192,1300.41 318.089,1300.41 \"/>\n",
       "<polyline clip-path=\"url(#clip990)\" style=\"stroke:#000000; stroke-linecap:round; stroke-linejoin:round; stroke-width:4; stroke-opacity:1; fill:none\" points=\"299.192,983.611 318.089,983.611 \"/>\n",
       "<polyline clip-path=\"url(#clip990)\" style=\"stroke:#000000; stroke-linecap:round; stroke-linejoin:round; stroke-width:4; stroke-opacity:1; fill:none\" points=\"299.192,666.815 318.089,666.815 \"/>\n",
       "<polyline clip-path=\"url(#clip990)\" style=\"stroke:#000000; stroke-linecap:round; stroke-linejoin:round; stroke-width:4; stroke-opacity:1; fill:none\" points=\"299.192,350.018 318.089,350.018 \"/>\n",
       "<path clip-path=\"url(#clip990)\" d=\"M251.247 1286.21 Q247.636 1286.21 245.807 1289.77 Q244.002 1293.31 244.002 1300.44 Q244.002 1307.55 245.807 1311.11 Q247.636 1314.66 251.247 1314.66 Q254.881 1314.66 256.687 1311.11 Q258.516 1307.55 258.516 1300.44 Q258.516 1293.31 256.687 1289.77 Q254.881 1286.21 251.247 1286.21 M251.247 1282.5 Q257.057 1282.5 260.113 1287.11 Q263.192 1291.69 263.192 1300.44 Q263.192 1309.17 260.113 1313.78 Q257.057 1318.36 251.247 1318.36 Q245.437 1318.36 242.358 1313.78 Q239.303 1309.17 239.303 1300.44 Q239.303 1291.69 242.358 1287.11 Q245.437 1282.5 251.247 1282.5 Z\" fill=\"#000000\" fill-rule=\"evenodd\" fill-opacity=\"1\" /><path clip-path=\"url(#clip990)\" d=\"M57.7745 1003.4 L74.0939 1003.4 L74.0939 1007.34 L52.1495 1007.34 L52.1495 1003.4 Q54.8115 1000.65 59.3949 996.02 Q64.0013 991.367 65.1819 990.024 Q67.4272 987.501 68.3068 985.765 Q69.2096 984.006 69.2096 982.316 Q69.2096 979.561 67.2652 977.825 Q65.3439 976.089 62.2421 976.089 Q60.043 976.089 57.5893 976.853 Q55.1588 977.617 52.381 979.168 L52.381 974.446 Q55.2051 973.311 57.6588 972.733 Q60.1124 972.154 62.1495 972.154 Q67.5198 972.154 70.7142 974.839 Q73.9087 977.524 73.9087 982.015 Q73.9087 984.145 73.0985 986.066 Q72.3115 987.964 70.205 990.557 Q69.6263 991.228 66.5245 994.446 Q63.4226 997.64 57.7745 1003.4 Z\" fill=\"#000000\" fill-rule=\"evenodd\" fill-opacity=\"1\" /><path clip-path=\"url(#clip990)\" d=\"M83.9086 1001.46 L88.7928 1001.46 L88.7928 1007.34 L83.9086 1007.34 L83.9086 1001.46 Z\" fill=\"#000000\" fill-rule=\"evenodd\" fill-opacity=\"1\" /><path clip-path=\"url(#clip990)\" d=\"M108.978 975.858 Q105.367 975.858 103.538 979.422 Q101.733 982.964 101.733 990.094 Q101.733 997.2 103.538 1000.76 Q105.367 1004.31 108.978 1004.31 Q112.612 1004.31 114.418 1000.76 Q116.246 997.2 116.246 990.094 Q116.246 982.964 114.418 979.422 Q112.612 975.858 108.978 975.858 M108.978 972.154 Q114.788 972.154 117.844 976.76 Q120.922 981.344 120.922 990.094 Q120.922 998.821 117.844 1003.43 Q114.788 1008.01 108.978 1008.01 Q103.168 1008.01 100.089 1003.43 Q97.0335 998.821 97.0335 990.094 Q97.0335 981.344 100.089 976.76 Q103.168 972.154 108.978 972.154 Z\" fill=\"#000000\" fill-rule=\"evenodd\" fill-opacity=\"1\" /><path clip-path=\"url(#clip990)\" d=\"M157.311 981.876 L146.732 992.501 L157.311 1003.08 L154.556 1005.88 L143.931 995.256 L133.306 1005.88 L130.575 1003.08 L141.131 992.501 L130.575 981.876 L133.306 979.075 L143.931 989.7 L154.556 979.075 L157.311 981.876 Z\" fill=\"#000000\" fill-rule=\"evenodd\" fill-opacity=\"1\" /><path clip-path=\"url(#clip990)\" d=\"M169.672 1003.4 L177.311 1003.4 L177.311 977.038 L169.001 978.705 L169.001 974.446 L177.265 972.779 L181.94 972.779 L181.94 1003.4 L189.579 1003.4 L189.579 1007.34 L169.672 1007.34 L169.672 1003.4 Z\" fill=\"#000000\" fill-rule=\"evenodd\" fill-opacity=\"1\" /><path clip-path=\"url(#clip990)\" d=\"M209.024 975.858 Q205.413 975.858 203.584 979.422 Q201.778 982.964 201.778 990.094 Q201.778 997.2 203.584 1000.76 Q205.413 1004.31 209.024 1004.31 Q212.658 1004.31 214.463 1000.76 Q216.292 997.2 216.292 990.094 Q216.292 982.964 214.463 979.422 Q212.658 975.858 209.024 975.858 M209.024 972.154 Q214.834 972.154 217.889 976.76 Q220.968 981.344 220.968 990.094 Q220.968 998.821 217.889 1003.43 Q214.834 1008.01 209.024 1008.01 Q203.214 1008.01 200.135 1003.43 Q197.079 998.821 197.079 990.094 Q197.079 981.344 200.135 976.76 Q203.214 972.154 209.024 972.154 Z\" fill=\"#000000\" fill-rule=\"evenodd\" fill-opacity=\"1\" /><path clip-path=\"url(#clip990)\" d=\"M221.513 976.731 L227.72 976.731 L227.72 955.309 L220.968 956.663 L220.968 953.203 L227.682 951.849 L231.482 951.849 L231.482 976.731 L237.688 976.731 L237.688 979.929 L221.513 979.929 L221.513 976.731 Z\" fill=\"#000000\" fill-rule=\"evenodd\" fill-opacity=\"1\" /><path clip-path=\"url(#clip990)\" d=\"M253.487 954.35 Q250.553 954.35 249.067 957.246 Q247.6 960.124 247.6 965.917 Q247.6 971.691 249.067 974.587 Q250.553 977.465 253.487 977.465 Q256.44 977.465 257.907 974.587 Q259.392 971.691 259.392 965.917 Q259.392 960.124 257.907 957.246 Q256.44 954.35 253.487 954.35 M253.487 951.341 Q258.207 951.341 260.69 955.084 Q263.192 958.807 263.192 965.917 Q263.192 973.007 260.69 976.75 Q258.207 980.474 253.487 980.474 Q248.766 980.474 246.265 976.75 Q243.782 973.007 243.782 965.917 Q243.782 958.807 246.265 955.084 Q248.766 951.341 253.487 951.341 Z\" fill=\"#000000\" fill-rule=\"evenodd\" fill-opacity=\"1\" /><path clip-path=\"url(#clip990)\" d=\"M66.5939 660.056 L54.7884 678.505 L66.5939 678.505 L66.5939 660.056 M65.367 655.982 L71.2466 655.982 L71.2466 678.505 L76.1772 678.505 L76.1772 682.394 L71.2466 682.394 L71.2466 690.542 L66.5939 690.542 L66.5939 682.394 L50.9921 682.394 L50.9921 677.88 L65.367 655.982 Z\" fill=\"#000000\" fill-rule=\"evenodd\" fill-opacity=\"1\" /><path clip-path=\"url(#clip990)\" d=\"M83.9086 684.663 L88.7928 684.663 L88.7928 690.542 L83.9086 690.542 L83.9086 684.663 Z\" fill=\"#000000\" fill-rule=\"evenodd\" fill-opacity=\"1\" /><path clip-path=\"url(#clip990)\" d=\"M108.978 659.061 Q105.367 659.061 103.538 662.626 Q101.733 666.167 101.733 673.297 Q101.733 680.403 103.538 683.968 Q105.367 687.51 108.978 687.51 Q112.612 687.51 114.418 683.968 Q116.246 680.403 116.246 673.297 Q116.246 666.167 114.418 662.626 Q112.612 659.061 108.978 659.061 M108.978 655.357 Q114.788 655.357 117.844 659.964 Q120.922 664.547 120.922 673.297 Q120.922 682.024 117.844 686.63 Q114.788 691.214 108.978 691.214 Q103.168 691.214 100.089 686.63 Q97.0335 682.024 97.0335 673.297 Q97.0335 664.547 100.089 659.964 Q103.168 655.357 108.978 655.357 Z\" fill=\"#000000\" fill-rule=\"evenodd\" fill-opacity=\"1\" /><path clip-path=\"url(#clip990)\" d=\"M157.311 665.079 L146.732 675.704 L157.311 686.283 L154.556 689.084 L143.931 678.459 L133.306 689.084 L130.575 686.283 L141.131 675.704 L130.575 665.079 L133.306 662.279 L143.931 672.904 L154.556 662.279 L157.311 665.079 Z\" fill=\"#000000\" fill-rule=\"evenodd\" fill-opacity=\"1\" /><path clip-path=\"url(#clip990)\" d=\"M169.672 686.607 L177.311 686.607 L177.311 660.242 L169.001 661.908 L169.001 657.649 L177.265 655.982 L181.94 655.982 L181.94 686.607 L189.579 686.607 L189.579 690.542 L169.672 690.542 L169.672 686.607 Z\" fill=\"#000000\" fill-rule=\"evenodd\" fill-opacity=\"1\" /><path clip-path=\"url(#clip990)\" d=\"M209.024 659.061 Q205.413 659.061 203.584 662.626 Q201.778 666.167 201.778 673.297 Q201.778 680.403 203.584 683.968 Q205.413 687.51 209.024 687.51 Q212.658 687.51 214.463 683.968 Q216.292 680.403 216.292 673.297 Q216.292 666.167 214.463 662.626 Q212.658 659.061 209.024 659.061 M209.024 655.357 Q214.834 655.357 217.889 659.964 Q220.968 664.547 220.968 673.297 Q220.968 682.024 217.889 686.63 Q214.834 691.214 209.024 691.214 Q203.214 691.214 200.135 686.63 Q197.079 682.024 197.079 673.297 Q197.079 664.547 200.135 659.964 Q203.214 655.357 209.024 655.357 Z\" fill=\"#000000\" fill-rule=\"evenodd\" fill-opacity=\"1\" /><path clip-path=\"url(#clip990)\" d=\"M221.513 659.935 L227.72 659.935 L227.72 638.513 L220.968 639.867 L220.968 636.406 L227.682 635.052 L231.482 635.052 L231.482 659.935 L237.688 659.935 L237.688 663.132 L221.513 663.132 L221.513 659.935 Z\" fill=\"#000000\" fill-rule=\"evenodd\" fill-opacity=\"1\" /><path clip-path=\"url(#clip990)\" d=\"M253.487 637.553 Q250.553 637.553 249.067 640.45 Q247.6 643.327 247.6 649.12 Q247.6 654.894 249.067 657.79 Q250.553 660.668 253.487 660.668 Q256.44 660.668 257.907 657.79 Q259.392 654.894 259.392 649.12 Q259.392 643.327 257.907 640.45 Q256.44 637.553 253.487 637.553 M253.487 634.544 Q258.207 634.544 260.69 638.287 Q263.192 642.011 263.192 649.12 Q263.192 656.211 260.69 659.953 Q258.207 663.677 253.487 663.677 Q248.766 663.677 246.265 659.953 Q243.782 656.211 243.782 649.12 Q243.782 642.011 246.265 638.287 Q248.766 634.544 253.487 634.544 Z\" fill=\"#000000\" fill-rule=\"evenodd\" fill-opacity=\"1\" /><path clip-path=\"url(#clip990)\" d=\"M64.3254 354.602 Q61.1773 354.602 59.3254 356.755 Q57.4967 358.908 57.4967 362.658 Q57.4967 366.385 59.3254 368.56 Q61.1773 370.713 64.3254 370.713 Q67.4735 370.713 69.3022 368.56 Q71.1541 366.385 71.1541 362.658 Q71.1541 358.908 69.3022 356.755 Q67.4735 354.602 64.3254 354.602 M73.6077 339.949 L73.6077 344.209 Q71.8485 343.375 70.0429 342.936 Q68.2606 342.496 66.5013 342.496 Q61.8717 342.496 59.418 345.621 Q56.9875 348.746 56.6402 355.065 Q58.006 353.051 60.0662 351.986 Q62.1263 350.898 64.6032 350.898 Q69.8115 350.898 72.8207 354.07 Q75.8531 357.218 75.8531 362.658 Q75.8531 367.982 72.705 371.199 Q69.5568 374.417 64.3254 374.417 Q58.33 374.417 55.1588 369.834 Q51.9875 365.227 51.9875 356.5 Q51.9875 348.306 55.8764 343.445 Q59.7652 338.561 66.3161 338.561 Q68.0754 338.561 69.8578 338.908 Q71.6633 339.255 73.6077 339.949 Z\" fill=\"#000000\" fill-rule=\"evenodd\" fill-opacity=\"1\" /><path clip-path=\"url(#clip990)\" d=\"M83.9086 367.866 L88.7928 367.866 L88.7928 373.746 L83.9086 373.746 L83.9086 367.866 Z\" fill=\"#000000\" fill-rule=\"evenodd\" fill-opacity=\"1\" /><path clip-path=\"url(#clip990)\" d=\"M108.978 342.264 Q105.367 342.264 103.538 345.829 Q101.733 349.371 101.733 356.5 Q101.733 363.607 103.538 367.172 Q105.367 370.713 108.978 370.713 Q112.612 370.713 114.418 367.172 Q116.246 363.607 116.246 356.5 Q116.246 349.371 114.418 345.829 Q112.612 342.264 108.978 342.264 M108.978 338.561 Q114.788 338.561 117.844 343.167 Q120.922 347.75 120.922 356.5 Q120.922 365.227 117.844 369.834 Q114.788 374.417 108.978 374.417 Q103.168 374.417 100.089 369.834 Q97.0335 365.227 97.0335 356.5 Q97.0335 347.75 100.089 343.167 Q103.168 338.561 108.978 338.561 Z\" fill=\"#000000\" fill-rule=\"evenodd\" fill-opacity=\"1\" /><path clip-path=\"url(#clip990)\" d=\"M157.311 348.283 L146.732 358.908 L157.311 369.486 L154.556 372.287 L143.931 361.662 L133.306 372.287 L130.575 369.486 L141.131 358.908 L130.575 348.283 L133.306 345.482 L143.931 356.107 L154.556 345.482 L157.311 348.283 Z\" fill=\"#000000\" fill-rule=\"evenodd\" fill-opacity=\"1\" /><path clip-path=\"url(#clip990)\" d=\"M169.672 369.81 L177.311 369.81 L177.311 343.445 L169.001 345.111 L169.001 340.852 L177.265 339.186 L181.94 339.186 L181.94 369.81 L189.579 369.81 L189.579 373.746 L169.672 373.746 L169.672 369.81 Z\" fill=\"#000000\" fill-rule=\"evenodd\" fill-opacity=\"1\" /><path clip-path=\"url(#clip990)\" d=\"M209.024 342.264 Q205.413 342.264 203.584 345.829 Q201.778 349.371 201.778 356.5 Q201.778 363.607 203.584 367.172 Q205.413 370.713 209.024 370.713 Q212.658 370.713 214.463 367.172 Q216.292 363.607 216.292 356.5 Q216.292 349.371 214.463 345.829 Q212.658 342.264 209.024 342.264 M209.024 338.561 Q214.834 338.561 217.889 343.167 Q220.968 347.75 220.968 356.5 Q220.968 365.227 217.889 369.834 Q214.834 374.417 209.024 374.417 Q203.214 374.417 200.135 369.834 Q197.079 365.227 197.079 356.5 Q197.079 347.75 200.135 343.167 Q203.214 338.561 209.024 338.561 Z\" fill=\"#000000\" fill-rule=\"evenodd\" fill-opacity=\"1\" /><path clip-path=\"url(#clip990)\" d=\"M221.513 343.138 L227.72 343.138 L227.72 321.716 L220.968 323.07 L220.968 319.609 L227.682 318.255 L231.482 318.255 L231.482 343.138 L237.688 343.138 L237.688 346.335 L221.513 346.335 L221.513 343.138 Z\" fill=\"#000000\" fill-rule=\"evenodd\" fill-opacity=\"1\" /><path clip-path=\"url(#clip990)\" d=\"M253.487 320.757 Q250.553 320.757 249.067 323.653 Q247.6 326.531 247.6 332.323 Q247.6 338.097 249.067 340.994 Q250.553 343.871 253.487 343.871 Q256.44 343.871 257.907 340.994 Q259.392 338.097 259.392 332.323 Q259.392 326.531 257.907 323.653 Q256.44 320.757 253.487 320.757 M253.487 317.747 Q258.207 317.747 260.69 321.49 Q263.192 325.214 263.192 332.323 Q263.192 339.414 260.69 343.157 Q258.207 346.881 253.487 346.881 Q248.766 346.881 246.265 343.157 Q243.782 339.414 243.782 332.323 Q243.782 325.214 246.265 321.49 Q248.766 317.747 253.487 317.747 Z\" fill=\"#000000\" fill-rule=\"evenodd\" fill-opacity=\"1\" /><circle clip-path=\"url(#clip992)\" cx=\"357.311\" cy=\"279.328\" r=\"14.4\" fill=\"#009af9\" fill-rule=\"evenodd\" fill-opacity=\"1\" stroke=\"#000000\" stroke-opacity=\"1\" stroke-width=\"3.2\"/>\n",
       "<circle clip-path=\"url(#clip992)\" cx=\"454.178\" cy=\"947.488\" r=\"14.4\" fill=\"#009af9\" fill-rule=\"evenodd\" fill-opacity=\"1\" stroke=\"#000000\" stroke-opacity=\"1\" stroke-width=\"3.2\"/>\n",
       "<circle clip-path=\"url(#clip992)\" cx=\"551.044\" cy=\"1192.9\" r=\"14.4\" fill=\"#009af9\" fill-rule=\"evenodd\" fill-opacity=\"1\" stroke=\"#000000\" stroke-opacity=\"1\" stroke-width=\"3.2\"/>\n",
       "<circle clip-path=\"url(#clip992)\" cx=\"647.91\" cy=\"1272.51\" r=\"14.4\" fill=\"#009af9\" fill-rule=\"evenodd\" fill-opacity=\"1\" stroke=\"#000000\" stroke-opacity=\"1\" stroke-width=\"3.2\"/>\n",
       "<circle clip-path=\"url(#clip992)\" cx=\"744.776\" cy=\"1294.54\" r=\"14.4\" fill=\"#009af9\" fill-rule=\"evenodd\" fill-opacity=\"1\" stroke=\"#000000\" stroke-opacity=\"1\" stroke-width=\"3.2\"/>\n",
       "<circle clip-path=\"url(#clip992)\" cx=\"841.642\" cy=\"1299.48\" r=\"14.4\" fill=\"#009af9\" fill-rule=\"evenodd\" fill-opacity=\"1\" stroke=\"#000000\" stroke-opacity=\"1\" stroke-width=\"3.2\"/>\n",
       "<circle clip-path=\"url(#clip992)\" cx=\"938.509\" cy=\"1300.31\" r=\"14.4\" fill=\"#009af9\" fill-rule=\"evenodd\" fill-opacity=\"1\" stroke=\"#000000\" stroke-opacity=\"1\" stroke-width=\"3.2\"/>\n",
       "<circle clip-path=\"url(#clip992)\" cx=\"1035.37\" cy=\"1300.4\" r=\"14.4\" fill=\"#009af9\" fill-rule=\"evenodd\" fill-opacity=\"1\" stroke=\"#000000\" stroke-opacity=\"1\" stroke-width=\"3.2\"/>\n",
       "<circle clip-path=\"url(#clip992)\" cx=\"1132.24\" cy=\"1300.41\" r=\"14.4\" fill=\"#009af9\" fill-rule=\"evenodd\" fill-opacity=\"1\" stroke=\"#000000\" stroke-opacity=\"1\" stroke-width=\"3.2\"/>\n",
       "<circle clip-path=\"url(#clip992)\" cx=\"1229.11\" cy=\"1300.41\" r=\"14.4\" fill=\"#009af9\" fill-rule=\"evenodd\" fill-opacity=\"1\" stroke=\"#000000\" stroke-opacity=\"1\" stroke-width=\"3.2\"/>\n",
       "<circle clip-path=\"url(#clip992)\" cx=\"1325.97\" cy=\"1300.41\" r=\"14.4\" fill=\"#009af9\" fill-rule=\"evenodd\" fill-opacity=\"1\" stroke=\"#000000\" stroke-opacity=\"1\" stroke-width=\"3.2\"/>\n",
       "<circle clip-path=\"url(#clip992)\" cx=\"1422.84\" cy=\"1300.41\" r=\"14.4\" fill=\"#009af9\" fill-rule=\"evenodd\" fill-opacity=\"1\" stroke=\"#000000\" stroke-opacity=\"1\" stroke-width=\"3.2\"/>\n",
       "<circle clip-path=\"url(#clip992)\" cx=\"1519.71\" cy=\"1300.41\" r=\"14.4\" fill=\"#009af9\" fill-rule=\"evenodd\" fill-opacity=\"1\" stroke=\"#000000\" stroke-opacity=\"1\" stroke-width=\"3.2\"/>\n",
       "<circle clip-path=\"url(#clip992)\" cx=\"1616.57\" cy=\"1300.4\" r=\"14.4\" fill=\"#009af9\" fill-rule=\"evenodd\" fill-opacity=\"1\" stroke=\"#000000\" stroke-opacity=\"1\" stroke-width=\"3.2\"/>\n",
       "<circle clip-path=\"url(#clip992)\" cx=\"1713.44\" cy=\"1300.26\" r=\"14.4\" fill=\"#009af9\" fill-rule=\"evenodd\" fill-opacity=\"1\" stroke=\"#000000\" stroke-opacity=\"1\" stroke-width=\"3.2\"/>\n",
       "<circle clip-path=\"url(#clip992)\" cx=\"1810.3\" cy=\"1299.1\" r=\"14.4\" fill=\"#009af9\" fill-rule=\"evenodd\" fill-opacity=\"1\" stroke=\"#000000\" stroke-opacity=\"1\" stroke-width=\"3.2\"/>\n",
       "<circle clip-path=\"url(#clip992)\" cx=\"1907.17\" cy=\"1292.59\" r=\"14.4\" fill=\"#009af9\" fill-rule=\"evenodd\" fill-opacity=\"1\" stroke=\"#000000\" stroke-opacity=\"1\" stroke-width=\"3.2\"/>\n",
       "<circle clip-path=\"url(#clip992)\" cx=\"2004.04\" cy=\"1264.74\" r=\"14.4\" fill=\"#009af9\" fill-rule=\"evenodd\" fill-opacity=\"1\" stroke=\"#000000\" stroke-opacity=\"1\" stroke-width=\"3.2\"/>\n",
       "<circle clip-path=\"url(#clip992)\" cx=\"2100.9\" cy=\"1167.12\" r=\"14.4\" fill=\"#009af9\" fill-rule=\"evenodd\" fill-opacity=\"1\" stroke=\"#000000\" stroke-opacity=\"1\" stroke-width=\"3.2\"/>\n",
       "<circle clip-path=\"url(#clip992)\" cx=\"2197.77\" cy=\"873.238\" r=\"14.4\" fill=\"#009af9\" fill-rule=\"evenodd\" fill-opacity=\"1\" stroke=\"#000000\" stroke-opacity=\"1\" stroke-width=\"3.2\"/>\n",
       "<circle clip-path=\"url(#clip992)\" cx=\"2294.64\" cy=\"87.9763\" r=\"14.4\" fill=\"#009af9\" fill-rule=\"evenodd\" fill-opacity=\"1\" stroke=\"#000000\" stroke-opacity=\"1\" stroke-width=\"3.2\"/>\n",
       "<polyline clip-path=\"url(#clip992)\" style=\"stroke:#e26f46; stroke-linecap:round; stroke-linejoin:round; stroke-width:4; stroke-opacity:1; fill:none\" points=\"357.311,1445.72 454.178,1356.19 551.044,1319.52 647.91,1306.07 744.776,1301.8 841.642,1300.67 938.509,1300.44 1035.37,1300.41 1132.24,1300.41 1229.11,1300.41 1325.97,1300.41 1422.84,1300.41 1519.71,1300.41 1616.57,1300.4 1713.44,1300.35 1810.3,1300.03 1907.17,1298.53 2004.04,1293.08 2100.9,1276.46 2197.77,1232.23 2294.64,1126.37 \"/>\n",
       "<polyline clip-path=\"url(#clip992)\" style=\"stroke:#3da44d; stroke-linecap:round; stroke-linejoin:round; stroke-width:4; stroke-opacity:1; fill:none\" points=\"357.311,279.328 454.178,947.488 551.044,1192.9 647.91,1272.51 744.776,1294.54 841.642,1299.48 938.509,1300.31 1035.37,1300.4 1132.24,1300.41 1229.11,1300.41 1325.97,1300.41 1422.84,1300.41 1519.71,1300.41 1616.57,1300.4 1713.44,1300.26 1810.3,1299.1 1907.17,1292.59 2004.04,1264.74 2100.9,1167.12 2197.77,873.238 2294.64,87.9763 \"/>\n",
       "<path clip-path=\"url(#clip990)\" d=\"M367.644 302.578 L626.009 302.578 L626.009 95.2176 L367.644 95.2176  Z\" fill=\"#ffffff\" fill-rule=\"evenodd\" fill-opacity=\"1\"/>\n",
       "<polyline clip-path=\"url(#clip990)\" style=\"stroke:#000000; stroke-linecap:round; stroke-linejoin:round; stroke-width:4; stroke-opacity:1; fill:none\" points=\"367.644,302.578 626.009,302.578 626.009,95.2176 367.644,95.2176 367.644,302.578 \"/>\n",
       "<circle clip-path=\"url(#clip990)\" cx=\"458.913\" cy=\"147.058\" r=\"23.04\" fill=\"#009af9\" fill-rule=\"evenodd\" fill-opacity=\"1\" stroke=\"#000000\" stroke-opacity=\"1\" stroke-width=\"5.12\"/>\n",
       "<path clip-path=\"url(#clip990)\" d=\"M564.025 166.745 Q562.22 171.375 560.507 172.787 Q558.794 174.199 555.923 174.199 L552.521 174.199 L552.521 170.634 L555.021 170.634 Q556.78 170.634 557.752 169.8 Q558.724 168.967 559.905 165.865 L560.669 163.921 L550.183 138.412 L554.697 138.412 L562.798 158.689 L570.9 138.412 L575.414 138.412 L564.025 166.745 Z\" fill=\"#000000\" fill-rule=\"evenodd\" fill-opacity=\"1\" /><path clip-path=\"url(#clip990)\" d=\"M582.706 160.402 L590.345 160.402 L590.345 134.037 L582.034 135.703 L582.034 131.444 L590.298 129.778 L594.974 129.778 L594.974 160.402 L602.613 160.402 L602.613 164.338 L582.706 164.338 L582.706 160.402 Z\" fill=\"#000000\" fill-rule=\"evenodd\" fill-opacity=\"1\" /><polyline clip-path=\"url(#clip990)\" style=\"stroke:#e26f46; stroke-linecap:round; stroke-linejoin:round; stroke-width:4; stroke-opacity:1; fill:none\" points=\"390.461,198.898 527.365,198.898 \"/>\n",
       "<path clip-path=\"url(#clip990)\" d=\"M564.025 218.585 Q562.22 223.215 560.507 224.627 Q558.794 226.039 555.923 226.039 L552.521 226.039 L552.521 222.474 L555.021 222.474 Q556.78 222.474 557.752 221.64 Q558.724 220.807 559.905 217.705 L560.669 215.761 L550.183 190.252 L554.697 190.252 L562.798 210.529 L570.9 190.252 L575.414 190.252 L564.025 218.585 Z\" fill=\"#000000\" fill-rule=\"evenodd\" fill-opacity=\"1\" /><path clip-path=\"url(#clip990)\" d=\"M585.923 212.242 L602.243 212.242 L602.243 216.178 L580.298 216.178 L580.298 212.242 Q582.96 209.488 587.544 204.858 Q592.15 200.205 593.331 198.863 Q595.576 196.34 596.456 194.604 Q597.358 192.844 597.358 191.155 Q597.358 188.4 595.414 186.664 Q593.493 184.928 590.391 184.928 Q588.192 184.928 585.738 185.692 Q583.308 186.455 580.53 188.006 L580.53 183.284 Q583.354 182.15 585.808 181.571 Q588.261 180.993 590.298 180.993 Q595.669 180.993 598.863 183.678 Q602.057 186.363 602.057 190.854 Q602.057 192.983 601.247 194.905 Q600.46 196.803 598.354 199.395 Q597.775 200.067 594.673 203.284 Q591.571 206.479 585.923 212.242 Z\" fill=\"#000000\" fill-rule=\"evenodd\" fill-opacity=\"1\" /><polyline clip-path=\"url(#clip990)\" style=\"stroke:#3da44d; stroke-linecap:round; stroke-linejoin:round; stroke-width:4; stroke-opacity:1; fill:none\" points=\"390.461,250.738 527.365,250.738 \"/>\n",
       "<path clip-path=\"url(#clip990)\" d=\"M564.025 270.425 Q562.22 275.055 560.507 276.467 Q558.794 277.879 555.923 277.879 L552.521 277.879 L552.521 274.314 L555.021 274.314 Q556.78 274.314 557.752 273.48 Q558.724 272.647 559.905 269.545 L560.669 267.601 L550.183 242.092 L554.697 242.092 L562.798 262.369 L570.9 242.092 L575.414 242.092 L564.025 270.425 Z\" fill=\"#000000\" fill-rule=\"evenodd\" fill-opacity=\"1\" /><path clip-path=\"url(#clip990)\" d=\"M596.062 249.383 Q599.419 250.101 601.294 252.369 Q603.192 254.638 603.192 257.971 Q603.192 263.087 599.673 265.888 Q596.155 268.689 589.673 268.689 Q587.497 268.689 585.183 268.249 Q582.891 267.832 580.437 266.976 L580.437 262.462 Q582.382 263.596 584.696 264.175 Q587.011 264.754 589.534 264.754 Q593.932 264.754 596.224 263.018 Q598.539 261.281 598.539 257.971 Q598.539 254.916 596.386 253.203 Q594.257 251.467 590.437 251.467 L586.409 251.467 L586.409 247.624 L590.622 247.624 Q594.071 247.624 595.9 246.258 Q597.729 244.87 597.729 242.277 Q597.729 239.615 595.831 238.203 Q593.956 236.768 590.437 236.768 Q588.516 236.768 586.317 237.184 Q584.118 237.601 581.479 238.481 L581.479 234.314 Q584.141 233.573 586.456 233.203 Q588.794 232.833 590.854 232.833 Q596.178 232.833 599.28 235.263 Q602.382 237.67 602.382 241.791 Q602.382 244.661 600.738 246.652 Q599.094 248.62 596.062 249.383 Z\" fill=\"#000000\" fill-rule=\"evenodd\" fill-opacity=\"1\" /></svg>\n"
      ]
     },
     "execution_count": 205,
     "metadata": {},
     "output_type": "execute_result"
    }
   ],
   "source": [
    "line_fit2=fit(x_t,y_ob1,10)\n",
    "f=coeffs(line_fit2)\n",
    "y_fitted2=f[1] .+ f[2].*(x_t) .+ f[3].*(x_t.^2) .+ f[4].*(x_t.^3) .+f[5].*(x_t.^4) .+f[6].*(x_t.^5).+f[7].*(x_t.^6) .+ f[8].*(x_t.^7) .+ f[9].*(x_t.^8) .+ f[10].*(x_t.^9) .+ f[11].*(x_t.^10)\n",
    "scatter(x_t,y_ob1)\n",
    "plot!(x,y_t2)\n",
    "plot!(x,y_fitted2)"
   ]
  },
  {
   "cell_type": "markdown",
   "id": "36028ee0",
   "metadata": {},
   "source": [
    "### 2.6\n",
    "\n",
    "1. Create a new independent parameter x_fit ranging from -11 to 11 with an increment of 0.1\n",
    "2. Plot the same three plots as in 2.3 again but apply the tenth order polynomial to x_fit instead of x\n"
   ]
  },
  {
   "cell_type": "code",
   "execution_count": 210,
   "id": "6c67a977",
   "metadata": {},
   "outputs": [
    {
     "data": {
      "text/plain": [
       "221-element Vector{Float64}:\n",
       " -2.1794641505e10\n",
       " -2.0060987285569813e10\n",
       " -1.8451025184958473e10\n",
       " -1.695696253634806e10\n",
       " -1.5571431368565237e10\n",
       " -1.4287468938078125e10\n",
       " -1.3098498981648935e10\n",
       " -1.1998313669443962e10\n",
       " -1.0981056238784079e10\n",
       " -1.0041204289096249e10\n",
       " -9.173553719e9\n",
       " -8.373203286833476e9\n",
       " -7.635539776289666e9\n",
       "  ⋮\n",
       "  1.0047421108556347e10\n",
       "  1.0987654321e10\n",
       "  1.2005312315796207e10\n",
       "  1.3105918267913849e10\n",
       "  1.4295329737514078e10\n",
       "  1.5579755375453375e10\n",
       "  1.6965772289992188e10\n",
       "  1.846034409414834e10\n",
       "  2.0070839653512398e10\n",
       "  2.180505255472308e10\n",
       "  2.3671221315184937e10\n",
       "  2.5678050355e10"
      ]
     },
     "execution_count": 210,
     "metadata": {},
     "output_type": "execute_result"
    }
   ],
   "source": [
    "x_fit=-11:0.1:11\n",
    "collect(x_fit)\n",
    "y_t3=Polynomial([1,2,3,4,5,6,7,8,9,10]).(x_fit)"
   ]
  },
  {
   "cell_type": "code",
   "execution_count": 211,
   "id": "b3fe3c68",
   "metadata": {},
   "outputs": [
    {
     "data": {
      "text/plain": [
       "221-element Vector{Float64}:\n",
       " -2.1794641508124035e10\n",
       " -2.0060987296284634e10\n",
       " -1.8451025203164062e10\n",
       " -1.6956962538661394e10\n",
       " -1.5571431360436495e10\n",
       " -1.4287468939912792e10\n",
       " -1.3098498984891544e10\n",
       " -1.1998313676471544e10\n",
       " -1.0981056241232609e10\n",
       " -1.0041204286643839e10\n",
       " -9.173553712268959e9\n",
       " -8.373203281285177e9\n",
       " -7.63553977526666e9\n",
       "  ⋮\n",
       "  1.0047421128398224e10\n",
       "  1.0987654323053802e10\n",
       "  1.2005312321790462e10\n",
       "  1.3105918267337896e10\n",
       "  1.429532973508916e10\n",
       "  1.557975535772947e10\n",
       "  1.6965772279661116e10\n",
       "  1.846034409887397e10\n",
       "  2.007083966944472e10\n",
       "  2.1805052547063934e10\n",
       "  2.3671221307691353e10\n",
       "  2.56780503659625e10"
      ]
     },
     "execution_count": 211,
     "metadata": {},
     "output_type": "execute_result"
    }
   ],
   "source": [
    "error=10\n",
    "noise_3=di.Normal(0,error)\n",
    "y_ob3=y_t3+rand(noise_3,length(x_fit))"
   ]
  },
  {
   "cell_type": "markdown",
   "id": "c61e279a",
   "metadata": {},
   "source": []
  },
  {
   "cell_type": "code",
   "execution_count": 226,
   "id": "c0a6247b",
   "metadata": {
    "scrolled": true
   },
   "outputs": [
    {
     "data": {
      "text/plain": [
       "221-element Vector{Float64}:\n",
       " -2.179464151397041e10\n",
       " -2.0060987293066673e10\n",
       " -1.8451025191101013e10\n",
       " -1.6956962541253906e10\n",
       " -1.5571431372349619e10\n",
       " -1.428746894085321e10\n",
       " -1.3098498983523237e10\n",
       " -1.1998313670521862e10\n",
       " -1.0981056239165407e10\n",
       " -1.0041204288875992e10\n",
       " -9.173553718268013e9\n",
       " -8.373203285674309e9\n",
       " -7.635539774782426e9\n",
       "  ⋮\n",
       "  1.0047421104874277e10\n",
       "  1.0987654317443537e10\n",
       "  1.2005312312438774e10\n",
       "  1.310591826484233e10\n",
       "  1.4295329734830442e10\n",
       "  1.5579755373276495e10\n",
       "  1.6965772288459772e10\n",
       "  1.8460344093419052e10\n",
       "  2.007083965376817e10\n",
       "  2.1805052556171555e10\n",
       "  2.3671221318062187e10\n",
       "  2.567805035957339e10"
      ]
     },
     "execution_count": 226,
     "metadata": {},
     "output_type": "execute_result"
    }
   ],
   "source": [
    "line_fit3=fit(x_fit,y_ob3,10)\n",
    "y_fitted3=line_fit3.(x_fit)\n",
    "#f3=coeffs(line_fit3)\n",
    "#y_fitted3=f3[1] .+ f3[2].*(x_fit) .+ f3[3].*(x_fit.^2) .+ f[4].*(x_fit.^3) .+f3[5].*(x_fit.^4) .+f3[6].*(x_fit.^5).+f3[7].*(x_fit.^6) .+ f3[8].*(x_fit.^7) .+ f3[9].*(x_fit.^8) .+ f3[10].*(x_fit.^9) .+ f3[11].*(x_fit.^10)"
   ]
  },
  {
   "cell_type": "code",
   "execution_count": 227,
   "id": "ddf81935",
   "metadata": {},
   "outputs": [
    {
     "data": {
      "image/svg+xml": [
       "<?xml version=\"1.0\" encoding=\"utf-8\"?>\n",
       "<svg xmlns=\"http://www.w3.org/2000/svg\" xmlns:xlink=\"http://www.w3.org/1999/xlink\" width=\"600\" height=\"400\" viewBox=\"0 0 2400 1600\">\n",
       "<defs>\n",
       "  <clipPath id=\"clip150\">\n",
       "    <rect x=\"0\" y=\"0\" width=\"2400\" height=\"1600\"/>\n",
       "  </clipPath>\n",
       "</defs>\n",
       "<path clip-path=\"url(#clip150)\" d=\"M0 1600 L2400 1600 L2400 0 L0 0  Z\" fill=\"#ffffff\" fill-rule=\"evenodd\" fill-opacity=\"1\"/>\n",
       "<defs>\n",
       "  <clipPath id=\"clip151\">\n",
       "    <rect x=\"480\" y=\"0\" width=\"1681\" height=\"1600\"/>\n",
       "  </clipPath>\n",
       "</defs>\n",
       "<path clip-path=\"url(#clip150)\" d=\"M336.205 1486.45 L2352.76 1486.45 L2352.76 47.2441 L336.205 47.2441  Z\" fill=\"#ffffff\" fill-rule=\"evenodd\" fill-opacity=\"1\"/>\n",
       "<defs>\n",
       "  <clipPath id=\"clip152\">\n",
       "    <rect x=\"336\" y=\"47\" width=\"2018\" height=\"1440\"/>\n",
       "  </clipPath>\n",
       "</defs>\n",
       "<polyline clip-path=\"url(#clip152)\" style=\"stroke:#000000; stroke-linecap:round; stroke-linejoin:round; stroke-width:2; stroke-opacity:0.1; fill:none\" points=\"479.75,1486.45 479.75,47.2441 \"/>\n",
       "<polyline clip-path=\"url(#clip152)\" style=\"stroke:#000000; stroke-linecap:round; stroke-linejoin:round; stroke-width:2; stroke-opacity:0.1; fill:none\" points=\"912.115,1486.45 912.115,47.2441 \"/>\n",
       "<polyline clip-path=\"url(#clip152)\" style=\"stroke:#000000; stroke-linecap:round; stroke-linejoin:round; stroke-width:2; stroke-opacity:0.1; fill:none\" points=\"1344.48,1486.45 1344.48,47.2441 \"/>\n",
       "<polyline clip-path=\"url(#clip152)\" style=\"stroke:#000000; stroke-linecap:round; stroke-linejoin:round; stroke-width:2; stroke-opacity:0.1; fill:none\" points=\"1776.85,1486.45 1776.85,47.2441 \"/>\n",
       "<polyline clip-path=\"url(#clip152)\" style=\"stroke:#000000; stroke-linecap:round; stroke-linejoin:round; stroke-width:2; stroke-opacity:0.1; fill:none\" points=\"2209.21,1486.45 2209.21,47.2441 \"/>\n",
       "<polyline clip-path=\"url(#clip150)\" style=\"stroke:#000000; stroke-linecap:round; stroke-linejoin:round; stroke-width:4; stroke-opacity:1; fill:none\" points=\"336.205,1486.45 2352.76,1486.45 \"/>\n",
       "<polyline clip-path=\"url(#clip150)\" style=\"stroke:#000000; stroke-linecap:round; stroke-linejoin:round; stroke-width:4; stroke-opacity:1; fill:none\" points=\"479.75,1486.45 479.75,1467.55 \"/>\n",
       "<polyline clip-path=\"url(#clip150)\" style=\"stroke:#000000; stroke-linecap:round; stroke-linejoin:round; stroke-width:4; stroke-opacity:1; fill:none\" points=\"912.115,1486.45 912.115,1467.55 \"/>\n",
       "<polyline clip-path=\"url(#clip150)\" style=\"stroke:#000000; stroke-linecap:round; stroke-linejoin:round; stroke-width:4; stroke-opacity:1; fill:none\" points=\"1344.48,1486.45 1344.48,1467.55 \"/>\n",
       "<polyline clip-path=\"url(#clip150)\" style=\"stroke:#000000; stroke-linecap:round; stroke-linejoin:round; stroke-width:4; stroke-opacity:1; fill:none\" points=\"1776.85,1486.45 1776.85,1467.55 \"/>\n",
       "<polyline clip-path=\"url(#clip150)\" style=\"stroke:#000000; stroke-linecap:round; stroke-linejoin:round; stroke-width:4; stroke-opacity:1; fill:none\" points=\"2209.21,1486.45 2209.21,1467.55 \"/>\n",
       "<path clip-path=\"url(#clip150)\" d=\"M433.813 1532.02 L463.489 1532.02 L463.489 1535.95 L433.813 1535.95 L433.813 1532.02 Z\" fill=\"#000000\" fill-rule=\"evenodd\" fill-opacity=\"1\" /><path clip-path=\"url(#clip150)\" d=\"M474.392 1544.91 L482.03 1544.91 L482.03 1518.55 L473.72 1520.21 L473.72 1515.95 L481.984 1514.29 L486.66 1514.29 L486.66 1544.91 L494.299 1544.91 L494.299 1548.85 L474.392 1548.85 L474.392 1544.91 Z\" fill=\"#000000\" fill-rule=\"evenodd\" fill-opacity=\"1\" /><path clip-path=\"url(#clip150)\" d=\"M513.743 1517.37 Q510.132 1517.37 508.303 1520.93 Q506.498 1524.47 506.498 1531.6 Q506.498 1538.71 508.303 1542.27 Q510.132 1545.82 513.743 1545.82 Q517.378 1545.82 519.183 1542.27 Q521.012 1538.71 521.012 1531.6 Q521.012 1524.47 519.183 1520.93 Q517.378 1517.37 513.743 1517.37 M513.743 1513.66 Q519.553 1513.66 522.609 1518.27 Q525.688 1522.85 525.688 1531.6 Q525.688 1540.33 522.609 1544.94 Q519.553 1549.52 513.743 1549.52 Q507.933 1549.52 504.854 1544.94 Q501.799 1540.33 501.799 1531.6 Q501.799 1522.85 504.854 1518.27 Q507.933 1513.66 513.743 1513.66 Z\" fill=\"#000000\" fill-rule=\"evenodd\" fill-opacity=\"1\" /><path clip-path=\"url(#clip150)\" d=\"M881.757 1532.02 L911.433 1532.02 L911.433 1535.95 L881.757 1535.95 L881.757 1532.02 Z\" fill=\"#000000\" fill-rule=\"evenodd\" fill-opacity=\"1\" /><path clip-path=\"url(#clip150)\" d=\"M921.571 1514.29 L939.928 1514.29 L939.928 1518.22 L925.854 1518.22 L925.854 1526.7 Q926.872 1526.35 927.891 1526.19 Q928.909 1526 929.928 1526 Q935.715 1526 939.095 1529.17 Q942.474 1532.34 942.474 1537.76 Q942.474 1543.34 939.002 1546.44 Q935.53 1549.52 929.21 1549.52 Q927.034 1549.52 924.766 1549.15 Q922.521 1548.78 920.113 1548.04 L920.113 1543.34 Q922.196 1544.47 924.419 1545.03 Q926.641 1545.58 929.118 1545.58 Q933.122 1545.58 935.46 1543.48 Q937.798 1541.37 937.798 1537.76 Q937.798 1534.15 935.46 1532.04 Q933.122 1529.94 929.118 1529.94 Q927.243 1529.94 925.368 1530.35 Q923.516 1530.77 921.571 1531.65 L921.571 1514.29 Z\" fill=\"#000000\" fill-rule=\"evenodd\" fill-opacity=\"1\" /><path clip-path=\"url(#clip150)\" d=\"M1344.48 1517.37 Q1340.87 1517.37 1339.04 1520.93 Q1337.24 1524.47 1337.24 1531.6 Q1337.24 1538.71 1339.04 1542.27 Q1340.87 1545.82 1344.48 1545.82 Q1348.11 1545.82 1349.92 1542.27 Q1351.75 1538.71 1351.75 1531.6 Q1351.75 1524.47 1349.92 1520.93 Q1348.11 1517.37 1344.48 1517.37 M1344.48 1513.66 Q1350.29 1513.66 1353.35 1518.27 Q1356.42 1522.85 1356.42 1531.6 Q1356.42 1540.33 1353.35 1544.94 Q1350.29 1549.52 1344.48 1549.52 Q1338.67 1549.52 1335.59 1544.94 Q1332.54 1540.33 1332.54 1531.6 Q1332.54 1522.85 1335.59 1518.27 Q1338.67 1513.66 1344.48 1513.66 Z\" fill=\"#000000\" fill-rule=\"evenodd\" fill-opacity=\"1\" /><path clip-path=\"url(#clip150)\" d=\"M1767.12 1514.29 L1785.48 1514.29 L1785.48 1518.22 L1771.41 1518.22 L1771.41 1526.7 Q1772.42 1526.35 1773.44 1526.19 Q1774.46 1526 1775.48 1526 Q1781.27 1526 1784.65 1529.17 Q1788.03 1532.34 1788.03 1537.76 Q1788.03 1543.34 1784.55 1546.44 Q1781.08 1549.52 1774.76 1549.52 Q1772.59 1549.52 1770.32 1549.15 Q1768.07 1548.78 1765.67 1548.04 L1765.67 1543.34 Q1767.75 1544.47 1769.97 1545.03 Q1772.19 1545.58 1774.67 1545.58 Q1778.67 1545.58 1781.01 1543.48 Q1783.35 1541.37 1783.35 1537.76 Q1783.35 1534.15 1781.01 1532.04 Q1778.67 1529.94 1774.67 1529.94 Q1772.79 1529.94 1770.92 1530.35 Q1769.07 1530.77 1767.12 1531.65 L1767.12 1514.29 Z\" fill=\"#000000\" fill-rule=\"evenodd\" fill-opacity=\"1\" /><path clip-path=\"url(#clip150)\" d=\"M2183.9 1544.91 L2191.54 1544.91 L2191.54 1518.55 L2183.23 1520.21 L2183.23 1515.95 L2191.49 1514.29 L2196.17 1514.29 L2196.17 1544.91 L2203.81 1544.91 L2203.81 1548.85 L2183.9 1548.85 L2183.9 1544.91 Z\" fill=\"#000000\" fill-rule=\"evenodd\" fill-opacity=\"1\" /><path clip-path=\"url(#clip150)\" d=\"M2223.25 1517.37 Q2219.64 1517.37 2217.81 1520.93 Q2216 1524.47 2216 1531.6 Q2216 1538.71 2217.81 1542.27 Q2219.64 1545.82 2223.25 1545.82 Q2226.88 1545.82 2228.69 1542.27 Q2230.52 1538.71 2230.52 1531.6 Q2230.52 1524.47 2228.69 1520.93 Q2226.88 1517.37 2223.25 1517.37 M2223.25 1513.66 Q2229.06 1513.66 2232.12 1518.27 Q2235.19 1522.85 2235.19 1531.6 Q2235.19 1540.33 2232.12 1544.94 Q2229.06 1549.52 2223.25 1549.52 Q2217.44 1549.52 2214.36 1544.94 Q2211.31 1540.33 2211.31 1531.6 Q2211.31 1522.85 2214.36 1518.27 Q2217.44 1513.66 2223.25 1513.66 Z\" fill=\"#000000\" fill-rule=\"evenodd\" fill-opacity=\"1\" /><polyline clip-path=\"url(#clip152)\" style=\"stroke:#000000; stroke-linecap:round; stroke-linejoin:round; stroke-width:2; stroke-opacity:0.1; fill:none\" points=\"336.205,1394.39 2352.76,1394.39 \"/>\n",
       "<polyline clip-path=\"url(#clip152)\" style=\"stroke:#000000; stroke-linecap:round; stroke-linejoin:round; stroke-width:2; stroke-opacity:0.1; fill:none\" points=\"336.205,1108.38 2352.76,1108.38 \"/>\n",
       "<polyline clip-path=\"url(#clip152)\" style=\"stroke:#000000; stroke-linecap:round; stroke-linejoin:round; stroke-width:2; stroke-opacity:0.1; fill:none\" points=\"336.205,822.38 2352.76,822.38 \"/>\n",
       "<polyline clip-path=\"url(#clip152)\" style=\"stroke:#000000; stroke-linecap:round; stroke-linejoin:round; stroke-width:2; stroke-opacity:0.1; fill:none\" points=\"336.205,536.375 2352.76,536.375 \"/>\n",
       "<polyline clip-path=\"url(#clip152)\" style=\"stroke:#000000; stroke-linecap:round; stroke-linejoin:round; stroke-width:2; stroke-opacity:0.1; fill:none\" points=\"336.205,250.371 2352.76,250.371 \"/>\n",
       "<polyline clip-path=\"url(#clip150)\" style=\"stroke:#000000; stroke-linecap:round; stroke-linejoin:round; stroke-width:4; stroke-opacity:1; fill:none\" points=\"336.205,1486.45 336.205,47.2441 \"/>\n",
       "<polyline clip-path=\"url(#clip150)\" style=\"stroke:#000000; stroke-linecap:round; stroke-linejoin:round; stroke-width:4; stroke-opacity:1; fill:none\" points=\"336.205,1394.39 355.103,1394.39 \"/>\n",
       "<polyline clip-path=\"url(#clip150)\" style=\"stroke:#000000; stroke-linecap:round; stroke-linejoin:round; stroke-width:4; stroke-opacity:1; fill:none\" points=\"336.205,1108.38 355.103,1108.38 \"/>\n",
       "<polyline clip-path=\"url(#clip150)\" style=\"stroke:#000000; stroke-linecap:round; stroke-linejoin:round; stroke-width:4; stroke-opacity:1; fill:none\" points=\"336.205,822.38 355.103,822.38 \"/>\n",
       "<polyline clip-path=\"url(#clip150)\" style=\"stroke:#000000; stroke-linecap:round; stroke-linejoin:round; stroke-width:4; stroke-opacity:1; fill:none\" points=\"336.205,536.375 355.103,536.375 \"/>\n",
       "<polyline clip-path=\"url(#clip150)\" style=\"stroke:#000000; stroke-linecap:round; stroke-linejoin:round; stroke-width:4; stroke-opacity:1; fill:none\" points=\"336.205,250.371 355.103,250.371 \"/>\n",
       "<path clip-path=\"url(#clip150)\" d=\"M50.9921 1401.29 L80.6679 1401.29 L80.6679 1405.22 L50.9921 1405.22 L50.9921 1401.29 Z\" fill=\"#000000\" fill-rule=\"evenodd\" fill-opacity=\"1\" /><path clip-path=\"url(#clip150)\" d=\"M94.7882 1414.18 L111.108 1414.18 L111.108 1418.12 L89.1632 1418.12 L89.1632 1414.18 Q91.8252 1411.43 96.4085 1406.8 Q101.015 1402.14 102.196 1400.8 Q104.441 1398.28 105.321 1396.54 Q106.223 1394.78 106.223 1393.09 Q106.223 1390.34 104.279 1388.6 Q102.358 1386.87 99.2558 1386.87 Q97.0567 1386.87 94.603 1387.63 Q92.1725 1388.39 89.3947 1389.94 L89.3947 1385.22 Q92.2188 1384.09 94.6724 1383.51 Q97.1261 1382.93 99.1632 1382.93 Q104.534 1382.93 107.728 1385.62 Q110.922 1388.3 110.922 1392.79 Q110.922 1394.92 110.112 1396.84 Q109.325 1398.74 107.219 1401.33 Q106.64 1402 103.538 1405.22 Q100.436 1408.42 94.7882 1414.18 Z\" fill=\"#000000\" fill-rule=\"evenodd\" fill-opacity=\"1\" /><path clip-path=\"url(#clip150)\" d=\"M120.922 1412.24 L125.807 1412.24 L125.807 1418.12 L120.922 1418.12 L120.922 1412.24 Z\" fill=\"#000000\" fill-rule=\"evenodd\" fill-opacity=\"1\" /><path clip-path=\"url(#clip150)\" d=\"M145.992 1386.63 Q142.381 1386.63 140.552 1390.2 Q138.746 1393.74 138.746 1400.87 Q138.746 1407.98 140.552 1411.54 Q142.381 1415.08 145.992 1415.08 Q149.626 1415.08 151.431 1411.54 Q153.26 1407.98 153.26 1400.87 Q153.26 1393.74 151.431 1390.2 Q149.626 1386.63 145.992 1386.63 M145.992 1382.93 Q151.802 1382.93 154.857 1387.54 Q157.936 1392.12 157.936 1400.87 Q157.936 1409.6 154.857 1414.2 Q151.802 1418.79 145.992 1418.79 Q140.181 1418.79 137.103 1414.2 Q134.047 1409.6 134.047 1400.87 Q134.047 1392.12 137.103 1387.54 Q140.181 1382.93 145.992 1382.93 Z\" fill=\"#000000\" fill-rule=\"evenodd\" fill-opacity=\"1\" /><path clip-path=\"url(#clip150)\" d=\"M194.325 1392.65 L183.746 1403.28 L194.325 1413.86 L191.57 1416.66 L180.945 1406.03 L170.32 1416.66 L167.589 1413.86 L178.144 1403.28 L167.589 1392.65 L170.32 1389.85 L180.945 1400.48 L191.57 1389.85 L194.325 1392.65 Z\" fill=\"#000000\" fill-rule=\"evenodd\" fill-opacity=\"1\" /><path clip-path=\"url(#clip150)\" d=\"M206.686 1414.18 L214.325 1414.18 L214.325 1387.82 L206.014 1389.48 L206.014 1385.22 L214.278 1383.56 L218.954 1383.56 L218.954 1414.18 L226.593 1414.18 L226.593 1418.12 L206.686 1418.12 L206.686 1414.18 Z\" fill=\"#000000\" fill-rule=\"evenodd\" fill-opacity=\"1\" /><path clip-path=\"url(#clip150)\" d=\"M246.037 1386.63 Q242.426 1386.63 240.598 1390.2 Q238.792 1393.74 238.792 1400.87 Q238.792 1407.98 240.598 1411.54 Q242.426 1415.08 246.037 1415.08 Q249.672 1415.08 251.477 1411.54 Q253.306 1407.98 253.306 1400.87 Q253.306 1393.74 251.477 1390.2 Q249.672 1386.63 246.037 1386.63 M246.037 1382.93 Q251.848 1382.93 254.903 1387.54 Q257.982 1392.12 257.982 1400.87 Q257.982 1409.6 254.903 1414.2 Q251.848 1418.79 246.037 1418.79 Q240.227 1418.79 237.149 1414.2 Q234.093 1409.6 234.093 1400.87 Q234.093 1392.12 237.149 1387.54 Q240.227 1382.93 246.037 1382.93 Z\" fill=\"#000000\" fill-rule=\"evenodd\" fill-opacity=\"1\" /><path clip-path=\"url(#clip150)\" d=\"M258.527 1387.51 L264.734 1387.51 L264.734 1366.09 L257.982 1367.44 L257.982 1363.98 L264.696 1362.63 L268.495 1362.63 L268.495 1387.51 L274.702 1387.51 L274.702 1390.71 L258.527 1390.71 L258.527 1387.51 Z\" fill=\"#000000\" fill-rule=\"evenodd\" fill-opacity=\"1\" /><path clip-path=\"url(#clip150)\" d=\"M290.5 1365.13 Q287.566 1365.13 286.081 1368.02 Q284.614 1370.9 284.614 1376.69 Q284.614 1382.47 286.081 1385.36 Q287.566 1388.24 290.5 1388.24 Q293.453 1388.24 294.92 1385.36 Q296.406 1382.47 296.406 1376.69 Q296.406 1370.9 294.92 1368.02 Q293.453 1365.13 290.5 1365.13 M290.5 1362.12 Q295.221 1362.12 297.704 1365.86 Q300.205 1369.58 300.205 1376.69 Q300.205 1383.78 297.704 1387.53 Q295.221 1391.25 290.5 1391.25 Q285.78 1391.25 283.278 1387.53 Q280.796 1383.78 280.796 1376.69 Q280.796 1369.58 283.278 1365.86 Q285.78 1362.12 290.5 1362.12 Z\" fill=\"#000000\" fill-rule=\"evenodd\" fill-opacity=\"1\" /><path clip-path=\"url(#clip150)\" d=\"M50.9921 1115.28 L80.6679 1115.28 L80.6679 1119.22 L50.9921 1119.22 L50.9921 1115.28 Z\" fill=\"#000000\" fill-rule=\"evenodd\" fill-opacity=\"1\" /><path clip-path=\"url(#clip150)\" d=\"M91.5706 1128.18 L99.2095 1128.18 L99.2095 1101.81 L90.8993 1103.48 L90.8993 1099.22 L99.1632 1097.55 L103.839 1097.55 L103.839 1128.18 L111.478 1128.18 L111.478 1132.11 L91.5706 1132.11 L91.5706 1128.18 Z\" fill=\"#000000\" fill-rule=\"evenodd\" fill-opacity=\"1\" /><path clip-path=\"url(#clip150)\" d=\"M120.922 1126.23 L125.807 1126.23 L125.807 1132.11 L120.922 1132.11 L120.922 1126.23 Z\" fill=\"#000000\" fill-rule=\"evenodd\" fill-opacity=\"1\" /><path clip-path=\"url(#clip150)\" d=\"M145.992 1100.63 Q142.381 1100.63 140.552 1104.19 Q138.746 1107.74 138.746 1114.87 Q138.746 1121.97 140.552 1125.54 Q142.381 1129.08 145.992 1129.08 Q149.626 1129.08 151.431 1125.54 Q153.26 1121.97 153.26 1114.87 Q153.26 1107.74 151.431 1104.19 Q149.626 1100.63 145.992 1100.63 M145.992 1096.93 Q151.802 1096.93 154.857 1101.53 Q157.936 1106.12 157.936 1114.87 Q157.936 1123.59 154.857 1128.2 Q151.802 1132.78 145.992 1132.78 Q140.181 1132.78 137.103 1128.2 Q134.047 1123.59 134.047 1114.87 Q134.047 1106.12 137.103 1101.53 Q140.181 1096.93 145.992 1096.93 Z\" fill=\"#000000\" fill-rule=\"evenodd\" fill-opacity=\"1\" /><path clip-path=\"url(#clip150)\" d=\"M194.325 1106.65 L183.746 1117.27 L194.325 1127.85 L191.57 1130.65 L180.945 1120.03 L170.32 1130.65 L167.589 1127.85 L178.144 1117.27 L167.589 1106.65 L170.32 1103.85 L180.945 1114.47 L191.57 1103.85 L194.325 1106.65 Z\" fill=\"#000000\" fill-rule=\"evenodd\" fill-opacity=\"1\" /><path clip-path=\"url(#clip150)\" d=\"M206.686 1128.18 L214.325 1128.18 L214.325 1101.81 L206.014 1103.48 L206.014 1099.22 L214.278 1097.55 L218.954 1097.55 L218.954 1128.18 L226.593 1128.18 L226.593 1132.11 L206.686 1132.11 L206.686 1128.18 Z\" fill=\"#000000\" fill-rule=\"evenodd\" fill-opacity=\"1\" /><path clip-path=\"url(#clip150)\" d=\"M246.037 1100.63 Q242.426 1100.63 240.598 1104.19 Q238.792 1107.74 238.792 1114.87 Q238.792 1121.97 240.598 1125.54 Q242.426 1129.08 246.037 1129.08 Q249.672 1129.08 251.477 1125.54 Q253.306 1121.97 253.306 1114.87 Q253.306 1107.74 251.477 1104.19 Q249.672 1100.63 246.037 1100.63 M246.037 1096.93 Q251.848 1096.93 254.903 1101.53 Q257.982 1106.12 257.982 1114.87 Q257.982 1123.59 254.903 1128.2 Q251.848 1132.78 246.037 1132.78 Q240.227 1132.78 237.149 1128.2 Q234.093 1123.59 234.093 1114.87 Q234.093 1106.12 237.149 1101.53 Q240.227 1096.93 246.037 1096.93 Z\" fill=\"#000000\" fill-rule=\"evenodd\" fill-opacity=\"1\" /><path clip-path=\"url(#clip150)\" d=\"M258.527 1101.5 L264.734 1101.5 L264.734 1080.08 L257.982 1081.44 L257.982 1077.98 L264.696 1076.62 L268.495 1076.62 L268.495 1101.5 L274.702 1101.5 L274.702 1104.7 L258.527 1104.7 L258.527 1101.5 Z\" fill=\"#000000\" fill-rule=\"evenodd\" fill-opacity=\"1\" /><path clip-path=\"url(#clip150)\" d=\"M290.5 1079.12 Q287.566 1079.12 286.081 1082.02 Q284.614 1084.9 284.614 1090.69 Q284.614 1096.46 286.081 1099.36 Q287.566 1102.24 290.5 1102.24 Q293.453 1102.24 294.92 1099.36 Q296.406 1096.46 296.406 1090.69 Q296.406 1084.9 294.92 1082.02 Q293.453 1079.12 290.5 1079.12 M290.5 1076.11 Q295.221 1076.11 297.704 1079.86 Q300.205 1083.58 300.205 1090.69 Q300.205 1097.78 297.704 1101.52 Q295.221 1105.25 290.5 1105.25 Q285.78 1105.25 283.278 1101.52 Q280.796 1097.78 280.796 1090.69 Q280.796 1083.58 283.278 1079.86 Q285.78 1076.11 290.5 1076.11 Z\" fill=\"#000000\" fill-rule=\"evenodd\" fill-opacity=\"1\" /><path clip-path=\"url(#clip150)\" d=\"M288.261 808.178 Q284.65 808.178 282.821 811.743 Q281.015 815.285 281.015 822.414 Q281.015 829.521 282.821 833.086 Q284.65 836.627 288.261 836.627 Q291.895 836.627 293.701 833.086 Q295.529 829.521 295.529 822.414 Q295.529 815.285 293.701 811.743 Q291.895 808.178 288.261 808.178 M288.261 804.475 Q294.071 804.475 297.127 809.081 Q300.205 813.664 300.205 822.414 Q300.205 831.141 297.127 835.748 Q294.071 840.331 288.261 840.331 Q282.451 840.331 279.372 835.748 Q276.316 831.141 276.316 822.414 Q276.316 813.664 279.372 809.081 Q282.451 804.475 288.261 804.475 Z\" fill=\"#000000\" fill-rule=\"evenodd\" fill-opacity=\"1\" /><path clip-path=\"url(#clip150)\" d=\"M91.5706 556.168 L99.2095 556.168 L99.2095 529.802 L90.8993 531.469 L90.8993 527.21 L99.1632 525.543 L103.839 525.543 L103.839 556.168 L111.478 556.168 L111.478 560.103 L91.5706 560.103 L91.5706 556.168 Z\" fill=\"#000000\" fill-rule=\"evenodd\" fill-opacity=\"1\" /><path clip-path=\"url(#clip150)\" d=\"M120.922 554.223 L125.807 554.223 L125.807 560.103 L120.922 560.103 L120.922 554.223 Z\" fill=\"#000000\" fill-rule=\"evenodd\" fill-opacity=\"1\" /><path clip-path=\"url(#clip150)\" d=\"M145.992 528.622 Q142.381 528.622 140.552 532.186 Q138.746 535.728 138.746 542.858 Q138.746 549.964 140.552 553.529 Q142.381 557.07 145.992 557.07 Q149.626 557.07 151.431 553.529 Q153.26 549.964 153.26 542.858 Q153.26 535.728 151.431 532.186 Q149.626 528.622 145.992 528.622 M145.992 524.918 Q151.802 524.918 154.857 529.524 Q157.936 534.108 157.936 542.858 Q157.936 551.584 154.857 556.191 Q151.802 560.774 145.992 560.774 Q140.181 560.774 137.103 556.191 Q134.047 551.584 134.047 542.858 Q134.047 534.108 137.103 529.524 Q140.181 524.918 145.992 524.918 Z\" fill=\"#000000\" fill-rule=\"evenodd\" fill-opacity=\"1\" /><path clip-path=\"url(#clip150)\" d=\"M194.325 534.64 L183.746 545.265 L194.325 555.844 L191.57 558.645 L180.945 548.02 L170.32 558.645 L167.589 555.844 L178.144 545.265 L167.589 534.64 L170.32 531.839 L180.945 542.464 L191.57 531.839 L194.325 534.64 Z\" fill=\"#000000\" fill-rule=\"evenodd\" fill-opacity=\"1\" /><path clip-path=\"url(#clip150)\" d=\"M206.686 556.168 L214.325 556.168 L214.325 529.802 L206.014 531.469 L206.014 527.21 L214.278 525.543 L218.954 525.543 L218.954 556.168 L226.593 556.168 L226.593 560.103 L206.686 560.103 L206.686 556.168 Z\" fill=\"#000000\" fill-rule=\"evenodd\" fill-opacity=\"1\" /><path clip-path=\"url(#clip150)\" d=\"M246.037 528.622 Q242.426 528.622 240.598 532.186 Q238.792 535.728 238.792 542.858 Q238.792 549.964 240.598 553.529 Q242.426 557.07 246.037 557.07 Q249.672 557.07 251.477 553.529 Q253.306 549.964 253.306 542.858 Q253.306 535.728 251.477 532.186 Q249.672 528.622 246.037 528.622 M246.037 524.918 Q251.848 524.918 254.903 529.524 Q257.982 534.108 257.982 542.858 Q257.982 551.584 254.903 556.191 Q251.848 560.774 246.037 560.774 Q240.227 560.774 237.149 556.191 Q234.093 551.584 234.093 542.858 Q234.093 534.108 237.149 529.524 Q240.227 524.918 246.037 524.918 Z\" fill=\"#000000\" fill-rule=\"evenodd\" fill-opacity=\"1\" /><path clip-path=\"url(#clip150)\" d=\"M258.527 529.495 L264.734 529.495 L264.734 508.073 L257.982 509.427 L257.982 505.967 L264.696 504.612 L268.495 504.612 L268.495 529.495 L274.702 529.495 L274.702 532.692 L258.527 532.692 L258.527 529.495 Z\" fill=\"#000000\" fill-rule=\"evenodd\" fill-opacity=\"1\" /><path clip-path=\"url(#clip150)\" d=\"M290.5 507.114 Q287.566 507.114 286.081 510.01 Q284.614 512.888 284.614 518.681 Q284.614 524.455 286.081 527.351 Q287.566 530.229 290.5 530.229 Q293.453 530.229 294.92 527.351 Q296.406 524.455 296.406 518.681 Q296.406 512.888 294.92 510.01 Q293.453 507.114 290.5 507.114 M290.5 504.105 Q295.221 504.105 297.704 507.847 Q300.205 511.571 300.205 518.681 Q300.205 525.771 297.704 529.514 Q295.221 533.238 290.5 533.238 Q285.78 533.238 283.278 529.514 Q280.796 525.771 280.796 518.681 Q280.796 511.571 283.278 507.847 Q285.78 504.105 290.5 504.105 Z\" fill=\"#000000\" fill-rule=\"evenodd\" fill-opacity=\"1\" /><path clip-path=\"url(#clip150)\" d=\"M94.7882 270.163 L111.108 270.163 L111.108 274.099 L89.1632 274.099 L89.1632 270.163 Q91.8252 267.409 96.4085 262.779 Q101.015 258.126 102.196 256.784 Q104.441 254.261 105.321 252.525 Q106.223 250.765 106.223 249.076 Q106.223 246.321 104.279 244.585 Q102.358 242.849 99.2558 242.849 Q97.0567 242.849 94.603 243.613 Q92.1725 244.376 89.3947 245.927 L89.3947 241.205 Q92.2188 240.071 94.6724 239.492 Q97.1261 238.914 99.1632 238.914 Q104.534 238.914 107.728 241.599 Q110.922 244.284 110.922 248.775 Q110.922 250.904 110.112 252.826 Q109.325 254.724 107.219 257.316 Q106.64 257.988 103.538 261.205 Q100.436 264.4 94.7882 270.163 Z\" fill=\"#000000\" fill-rule=\"evenodd\" fill-opacity=\"1\" /><path clip-path=\"url(#clip150)\" d=\"M120.922 268.219 L125.807 268.219 L125.807 274.099 L120.922 274.099 L120.922 268.219 Z\" fill=\"#000000\" fill-rule=\"evenodd\" fill-opacity=\"1\" /><path clip-path=\"url(#clip150)\" d=\"M145.992 242.617 Q142.381 242.617 140.552 246.182 Q138.746 249.724 138.746 256.853 Q138.746 263.96 140.552 267.525 Q142.381 271.066 145.992 271.066 Q149.626 271.066 151.431 267.525 Q153.26 263.96 153.26 256.853 Q153.26 249.724 151.431 246.182 Q149.626 242.617 145.992 242.617 M145.992 238.914 Q151.802 238.914 154.857 243.52 Q157.936 248.103 157.936 256.853 Q157.936 265.58 154.857 270.187 Q151.802 274.77 145.992 274.77 Q140.181 274.77 137.103 270.187 Q134.047 265.58 134.047 256.853 Q134.047 248.103 137.103 243.52 Q140.181 238.914 145.992 238.914 Z\" fill=\"#000000\" fill-rule=\"evenodd\" fill-opacity=\"1\" /><path clip-path=\"url(#clip150)\" d=\"M194.325 248.636 L183.746 259.261 L194.325 269.839 L191.57 272.64 L180.945 262.015 L170.32 272.64 L167.589 269.839 L178.144 259.261 L167.589 248.636 L170.32 245.835 L180.945 256.46 L191.57 245.835 L194.325 248.636 Z\" fill=\"#000000\" fill-rule=\"evenodd\" fill-opacity=\"1\" /><path clip-path=\"url(#clip150)\" d=\"M206.686 270.163 L214.325 270.163 L214.325 243.798 L206.014 245.464 L206.014 241.205 L214.278 239.539 L218.954 239.539 L218.954 270.163 L226.593 270.163 L226.593 274.099 L206.686 274.099 L206.686 270.163 Z\" fill=\"#000000\" fill-rule=\"evenodd\" fill-opacity=\"1\" /><path clip-path=\"url(#clip150)\" d=\"M246.037 242.617 Q242.426 242.617 240.598 246.182 Q238.792 249.724 238.792 256.853 Q238.792 263.96 240.598 267.525 Q242.426 271.066 246.037 271.066 Q249.672 271.066 251.477 267.525 Q253.306 263.96 253.306 256.853 Q253.306 249.724 251.477 246.182 Q249.672 242.617 246.037 242.617 M246.037 238.914 Q251.848 238.914 254.903 243.52 Q257.982 248.103 257.982 256.853 Q257.982 265.58 254.903 270.187 Q251.848 274.77 246.037 274.77 Q240.227 274.77 237.149 270.187 Q234.093 265.58 234.093 256.853 Q234.093 248.103 237.149 243.52 Q240.227 238.914 246.037 238.914 Z\" fill=\"#000000\" fill-rule=\"evenodd\" fill-opacity=\"1\" /><path clip-path=\"url(#clip150)\" d=\"M258.527 243.491 L264.734 243.491 L264.734 222.069 L257.982 223.423 L257.982 219.962 L264.696 218.608 L268.495 218.608 L268.495 243.491 L274.702 243.491 L274.702 246.688 L258.527 246.688 L258.527 243.491 Z\" fill=\"#000000\" fill-rule=\"evenodd\" fill-opacity=\"1\" /><path clip-path=\"url(#clip150)\" d=\"M290.5 221.11 Q287.566 221.11 286.081 224.006 Q284.614 226.884 284.614 232.676 Q284.614 238.45 286.081 241.347 Q287.566 244.224 290.5 244.224 Q293.453 244.224 294.92 241.347 Q296.406 238.45 296.406 232.676 Q296.406 226.884 294.92 224.006 Q293.453 221.11 290.5 221.11 M290.5 218.1 Q295.221 218.1 297.704 221.843 Q300.205 225.567 300.205 232.676 Q300.205 239.767 297.704 243.51 Q295.221 247.234 290.5 247.234 Q285.78 247.234 283.278 243.51 Q280.796 239.767 280.796 232.676 Q280.796 225.567 283.278 221.843 Q285.78 218.1 290.5 218.1 Z\" fill=\"#000000\" fill-rule=\"evenodd\" fill-opacity=\"1\" /><circle clip-path=\"url(#clip152)\" cx=\"393.277\" cy=\"1445.72\" r=\"14.4\" fill=\"#009af9\" fill-rule=\"evenodd\" fill-opacity=\"1\" stroke=\"#000000\" stroke-opacity=\"1\" stroke-width=\"3.2\"/>\n",
       "<circle clip-path=\"url(#clip152)\" cx=\"401.925\" cy=\"1396.13\" r=\"14.4\" fill=\"#009af9\" fill-rule=\"evenodd\" fill-opacity=\"1\" stroke=\"#000000\" stroke-opacity=\"1\" stroke-width=\"3.2\"/>\n",
       "<circle clip-path=\"url(#clip152)\" cx=\"410.572\" cy=\"1350.09\" r=\"14.4\" fill=\"#009af9\" fill-rule=\"evenodd\" fill-opacity=\"1\" stroke=\"#000000\" stroke-opacity=\"1\" stroke-width=\"3.2\"/>\n",
       "<circle clip-path=\"url(#clip152)\" cx=\"419.219\" cy=\"1307.36\" r=\"14.4\" fill=\"#009af9\" fill-rule=\"evenodd\" fill-opacity=\"1\" stroke=\"#000000\" stroke-opacity=\"1\" stroke-width=\"3.2\"/>\n",
       "<circle clip-path=\"url(#clip152)\" cx=\"427.867\" cy=\"1267.73\" r=\"14.4\" fill=\"#009af9\" fill-rule=\"evenodd\" fill-opacity=\"1\" stroke=\"#000000\" stroke-opacity=\"1\" stroke-width=\"3.2\"/>\n",
       "<circle clip-path=\"url(#clip152)\" cx=\"436.514\" cy=\"1231.01\" r=\"14.4\" fill=\"#009af9\" fill-rule=\"evenodd\" fill-opacity=\"1\" stroke=\"#000000\" stroke-opacity=\"1\" stroke-width=\"3.2\"/>\n",
       "<circle clip-path=\"url(#clip152)\" cx=\"445.161\" cy=\"1197\" r=\"14.4\" fill=\"#009af9\" fill-rule=\"evenodd\" fill-opacity=\"1\" stroke=\"#000000\" stroke-opacity=\"1\" stroke-width=\"3.2\"/>\n",
       "<circle clip-path=\"url(#clip152)\" cx=\"453.809\" cy=\"1165.54\" r=\"14.4\" fill=\"#009af9\" fill-rule=\"evenodd\" fill-opacity=\"1\" stroke=\"#000000\" stroke-opacity=\"1\" stroke-width=\"3.2\"/>\n",
       "<circle clip-path=\"url(#clip152)\" cx=\"462.456\" cy=\"1136.44\" r=\"14.4\" fill=\"#009af9\" fill-rule=\"evenodd\" fill-opacity=\"1\" stroke=\"#000000\" stroke-opacity=\"1\" stroke-width=\"3.2\"/>\n",
       "<circle clip-path=\"url(#clip152)\" cx=\"471.103\" cy=\"1109.56\" r=\"14.4\" fill=\"#009af9\" fill-rule=\"evenodd\" fill-opacity=\"1\" stroke=\"#000000\" stroke-opacity=\"1\" stroke-width=\"3.2\"/>\n",
       "<circle clip-path=\"url(#clip152)\" cx=\"479.75\" cy=\"1084.75\" r=\"14.4\" fill=\"#009af9\" fill-rule=\"evenodd\" fill-opacity=\"1\" stroke=\"#000000\" stroke-opacity=\"1\" stroke-width=\"3.2\"/>\n",
       "<circle clip-path=\"url(#clip152)\" cx=\"488.398\" cy=\"1061.86\" r=\"14.4\" fill=\"#009af9\" fill-rule=\"evenodd\" fill-opacity=\"1\" stroke=\"#000000\" stroke-opacity=\"1\" stroke-width=\"3.2\"/>\n",
       "<circle clip-path=\"url(#clip152)\" cx=\"497.045\" cy=\"1040.76\" r=\"14.4\" fill=\"#009af9\" fill-rule=\"evenodd\" fill-opacity=\"1\" stroke=\"#000000\" stroke-opacity=\"1\" stroke-width=\"3.2\"/>\n",
       "<circle clip-path=\"url(#clip152)\" cx=\"505.692\" cy=\"1021.33\" r=\"14.4\" fill=\"#009af9\" fill-rule=\"evenodd\" fill-opacity=\"1\" stroke=\"#000000\" stroke-opacity=\"1\" stroke-width=\"3.2\"/>\n",
       "<circle clip-path=\"url(#clip152)\" cx=\"514.34\" cy=\"1003.45\" r=\"14.4\" fill=\"#009af9\" fill-rule=\"evenodd\" fill-opacity=\"1\" stroke=\"#000000\" stroke-opacity=\"1\" stroke-width=\"3.2\"/>\n",
       "<circle clip-path=\"url(#clip152)\" cx=\"522.987\" cy=\"987.02\" r=\"14.4\" fill=\"#009af9\" fill-rule=\"evenodd\" fill-opacity=\"1\" stroke=\"#000000\" stroke-opacity=\"1\" stroke-width=\"3.2\"/>\n",
       "<circle clip-path=\"url(#clip152)\" cx=\"531.634\" cy=\"971.925\" r=\"14.4\" fill=\"#009af9\" fill-rule=\"evenodd\" fill-opacity=\"1\" stroke=\"#000000\" stroke-opacity=\"1\" stroke-width=\"3.2\"/>\n",
       "<circle clip-path=\"url(#clip152)\" cx=\"540.282\" cy=\"958.074\" r=\"14.4\" fill=\"#009af9\" fill-rule=\"evenodd\" fill-opacity=\"1\" stroke=\"#000000\" stroke-opacity=\"1\" stroke-width=\"3.2\"/>\n",
       "<circle clip-path=\"url(#clip152)\" cx=\"548.929\" cy=\"945.375\" r=\"14.4\" fill=\"#009af9\" fill-rule=\"evenodd\" fill-opacity=\"1\" stroke=\"#000000\" stroke-opacity=\"1\" stroke-width=\"3.2\"/>\n",
       "<circle clip-path=\"url(#clip152)\" cx=\"557.576\" cy=\"933.743\" r=\"14.4\" fill=\"#009af9\" fill-rule=\"evenodd\" fill-opacity=\"1\" stroke=\"#000000\" stroke-opacity=\"1\" stroke-width=\"3.2\"/>\n",
       "<circle clip-path=\"url(#clip152)\" cx=\"566.223\" cy=\"923.1\" r=\"14.4\" fill=\"#009af9\" fill-rule=\"evenodd\" fill-opacity=\"1\" stroke=\"#000000\" stroke-opacity=\"1\" stroke-width=\"3.2\"/>\n",
       "<circle clip-path=\"url(#clip152)\" cx=\"574.871\" cy=\"913.371\" r=\"14.4\" fill=\"#009af9\" fill-rule=\"evenodd\" fill-opacity=\"1\" stroke=\"#000000\" stroke-opacity=\"1\" stroke-width=\"3.2\"/>\n",
       "<circle clip-path=\"url(#clip152)\" cx=\"583.518\" cy=\"904.487\" r=\"14.4\" fill=\"#009af9\" fill-rule=\"evenodd\" fill-opacity=\"1\" stroke=\"#000000\" stroke-opacity=\"1\" stroke-width=\"3.2\"/>\n",
       "<circle clip-path=\"url(#clip152)\" cx=\"592.165\" cy=\"896.382\" r=\"14.4\" fill=\"#009af9\" fill-rule=\"evenodd\" fill-opacity=\"1\" stroke=\"#000000\" stroke-opacity=\"1\" stroke-width=\"3.2\"/>\n",
       "<circle clip-path=\"url(#clip152)\" cx=\"600.813\" cy=\"888.997\" r=\"14.4\" fill=\"#009af9\" fill-rule=\"evenodd\" fill-opacity=\"1\" stroke=\"#000000\" stroke-opacity=\"1\" stroke-width=\"3.2\"/>\n",
       "<circle clip-path=\"url(#clip152)\" cx=\"609.46\" cy=\"882.274\" r=\"14.4\" fill=\"#009af9\" fill-rule=\"evenodd\" fill-opacity=\"1\" stroke=\"#000000\" stroke-opacity=\"1\" stroke-width=\"3.2\"/>\n",
       "<circle clip-path=\"url(#clip152)\" cx=\"618.107\" cy=\"876.161\" r=\"14.4\" fill=\"#009af9\" fill-rule=\"evenodd\" fill-opacity=\"1\" stroke=\"#000000\" stroke-opacity=\"1\" stroke-width=\"3.2\"/>\n",
       "<circle clip-path=\"url(#clip152)\" cx=\"626.755\" cy=\"870.609\" r=\"14.4\" fill=\"#009af9\" fill-rule=\"evenodd\" fill-opacity=\"1\" stroke=\"#000000\" stroke-opacity=\"1\" stroke-width=\"3.2\"/>\n",
       "<circle clip-path=\"url(#clip152)\" cx=\"635.402\" cy=\"865.573\" r=\"14.4\" fill=\"#009af9\" fill-rule=\"evenodd\" fill-opacity=\"1\" stroke=\"#000000\" stroke-opacity=\"1\" stroke-width=\"3.2\"/>\n",
       "<circle clip-path=\"url(#clip152)\" cx=\"644.049\" cy=\"861.01\" r=\"14.4\" fill=\"#009af9\" fill-rule=\"evenodd\" fill-opacity=\"1\" stroke=\"#000000\" stroke-opacity=\"1\" stroke-width=\"3.2\"/>\n",
       "<circle clip-path=\"url(#clip152)\" cx=\"652.696\" cy=\"856.88\" r=\"14.4\" fill=\"#009af9\" fill-rule=\"evenodd\" fill-opacity=\"1\" stroke=\"#000000\" stroke-opacity=\"1\" stroke-width=\"3.2\"/>\n",
       "<circle clip-path=\"url(#clip152)\" cx=\"661.344\" cy=\"853.148\" r=\"14.4\" fill=\"#009af9\" fill-rule=\"evenodd\" fill-opacity=\"1\" stroke=\"#000000\" stroke-opacity=\"1\" stroke-width=\"3.2\"/>\n",
       "<circle clip-path=\"url(#clip152)\" cx=\"669.991\" cy=\"849.779\" r=\"14.4\" fill=\"#009af9\" fill-rule=\"evenodd\" fill-opacity=\"1\" stroke=\"#000000\" stroke-opacity=\"1\" stroke-width=\"3.2\"/>\n",
       "<circle clip-path=\"url(#clip152)\" cx=\"678.638\" cy=\"846.742\" r=\"14.4\" fill=\"#009af9\" fill-rule=\"evenodd\" fill-opacity=\"1\" stroke=\"#000000\" stroke-opacity=\"1\" stroke-width=\"3.2\"/>\n",
       "<circle clip-path=\"url(#clip152)\" cx=\"687.286\" cy=\"844.008\" r=\"14.4\" fill=\"#009af9\" fill-rule=\"evenodd\" fill-opacity=\"1\" stroke=\"#000000\" stroke-opacity=\"1\" stroke-width=\"3.2\"/>\n",
       "<circle clip-path=\"url(#clip152)\" cx=\"695.933\" cy=\"841.551\" r=\"14.4\" fill=\"#009af9\" fill-rule=\"evenodd\" fill-opacity=\"1\" stroke=\"#000000\" stroke-opacity=\"1\" stroke-width=\"3.2\"/>\n",
       "<circle clip-path=\"url(#clip152)\" cx=\"704.58\" cy=\"839.344\" r=\"14.4\" fill=\"#009af9\" fill-rule=\"evenodd\" fill-opacity=\"1\" stroke=\"#000000\" stroke-opacity=\"1\" stroke-width=\"3.2\"/>\n",
       "<circle clip-path=\"url(#clip152)\" cx=\"713.228\" cy=\"837.367\" r=\"14.4\" fill=\"#009af9\" fill-rule=\"evenodd\" fill-opacity=\"1\" stroke=\"#000000\" stroke-opacity=\"1\" stroke-width=\"3.2\"/>\n",
       "<circle clip-path=\"url(#clip152)\" cx=\"721.875\" cy=\"835.597\" r=\"14.4\" fill=\"#009af9\" fill-rule=\"evenodd\" fill-opacity=\"1\" stroke=\"#000000\" stroke-opacity=\"1\" stroke-width=\"3.2\"/>\n",
       "<circle clip-path=\"url(#clip152)\" cx=\"730.522\" cy=\"834.015\" r=\"14.4\" fill=\"#009af9\" fill-rule=\"evenodd\" fill-opacity=\"1\" stroke=\"#000000\" stroke-opacity=\"1\" stroke-width=\"3.2\"/>\n",
       "<circle clip-path=\"url(#clip152)\" cx=\"739.169\" cy=\"832.604\" r=\"14.4\" fill=\"#009af9\" fill-rule=\"evenodd\" fill-opacity=\"1\" stroke=\"#000000\" stroke-opacity=\"1\" stroke-width=\"3.2\"/>\n",
       "<circle clip-path=\"url(#clip152)\" cx=\"747.817\" cy=\"831.348\" r=\"14.4\" fill=\"#009af9\" fill-rule=\"evenodd\" fill-opacity=\"1\" stroke=\"#000000\" stroke-opacity=\"1\" stroke-width=\"3.2\"/>\n",
       "<circle clip-path=\"url(#clip152)\" cx=\"756.464\" cy=\"830.23\" r=\"14.4\" fill=\"#009af9\" fill-rule=\"evenodd\" fill-opacity=\"1\" stroke=\"#000000\" stroke-opacity=\"1\" stroke-width=\"3.2\"/>\n",
       "<circle clip-path=\"url(#clip152)\" cx=\"765.111\" cy=\"829.238\" r=\"14.4\" fill=\"#009af9\" fill-rule=\"evenodd\" fill-opacity=\"1\" stroke=\"#000000\" stroke-opacity=\"1\" stroke-width=\"3.2\"/>\n",
       "<circle clip-path=\"url(#clip152)\" cx=\"773.759\" cy=\"828.359\" r=\"14.4\" fill=\"#009af9\" fill-rule=\"evenodd\" fill-opacity=\"1\" stroke=\"#000000\" stroke-opacity=\"1\" stroke-width=\"3.2\"/>\n",
       "<circle clip-path=\"url(#clip152)\" cx=\"782.406\" cy=\"827.582\" r=\"14.4\" fill=\"#009af9\" fill-rule=\"evenodd\" fill-opacity=\"1\" stroke=\"#000000\" stroke-opacity=\"1\" stroke-width=\"3.2\"/>\n",
       "<circle clip-path=\"url(#clip152)\" cx=\"791.053\" cy=\"826.896\" r=\"14.4\" fill=\"#009af9\" fill-rule=\"evenodd\" fill-opacity=\"1\" stroke=\"#000000\" stroke-opacity=\"1\" stroke-width=\"3.2\"/>\n",
       "<circle clip-path=\"url(#clip152)\" cx=\"799.701\" cy=\"826.291\" r=\"14.4\" fill=\"#009af9\" fill-rule=\"evenodd\" fill-opacity=\"1\" stroke=\"#000000\" stroke-opacity=\"1\" stroke-width=\"3.2\"/>\n",
       "<circle clip-path=\"url(#clip152)\" cx=\"808.348\" cy=\"825.76\" r=\"14.4\" fill=\"#009af9\" fill-rule=\"evenodd\" fill-opacity=\"1\" stroke=\"#000000\" stroke-opacity=\"1\" stroke-width=\"3.2\"/>\n",
       "<circle clip-path=\"url(#clip152)\" cx=\"816.995\" cy=\"825.294\" r=\"14.4\" fill=\"#009af9\" fill-rule=\"evenodd\" fill-opacity=\"1\" stroke=\"#000000\" stroke-opacity=\"1\" stroke-width=\"3.2\"/>\n",
       "<circle clip-path=\"url(#clip152)\" cx=\"825.642\" cy=\"824.885\" r=\"14.4\" fill=\"#009af9\" fill-rule=\"evenodd\" fill-opacity=\"1\" stroke=\"#000000\" stroke-opacity=\"1\" stroke-width=\"3.2\"/>\n",
       "<circle clip-path=\"url(#clip152)\" cx=\"834.29\" cy=\"824.529\" r=\"14.4\" fill=\"#009af9\" fill-rule=\"evenodd\" fill-opacity=\"1\" stroke=\"#000000\" stroke-opacity=\"1\" stroke-width=\"3.2\"/>\n",
       "<circle clip-path=\"url(#clip152)\" cx=\"842.937\" cy=\"824.218\" r=\"14.4\" fill=\"#009af9\" fill-rule=\"evenodd\" fill-opacity=\"1\" stroke=\"#000000\" stroke-opacity=\"1\" stroke-width=\"3.2\"/>\n",
       "<circle clip-path=\"url(#clip152)\" cx=\"851.584\" cy=\"823.948\" r=\"14.4\" fill=\"#009af9\" fill-rule=\"evenodd\" fill-opacity=\"1\" stroke=\"#000000\" stroke-opacity=\"1\" stroke-width=\"3.2\"/>\n",
       "<circle clip-path=\"url(#clip152)\" cx=\"860.232\" cy=\"823.714\" r=\"14.4\" fill=\"#009af9\" fill-rule=\"evenodd\" fill-opacity=\"1\" stroke=\"#000000\" stroke-opacity=\"1\" stroke-width=\"3.2\"/>\n",
       "<circle clip-path=\"url(#clip152)\" cx=\"868.879\" cy=\"823.511\" r=\"14.4\" fill=\"#009af9\" fill-rule=\"evenodd\" fill-opacity=\"1\" stroke=\"#000000\" stroke-opacity=\"1\" stroke-width=\"3.2\"/>\n",
       "<circle clip-path=\"url(#clip152)\" cx=\"877.526\" cy=\"823.336\" r=\"14.4\" fill=\"#009af9\" fill-rule=\"evenodd\" fill-opacity=\"1\" stroke=\"#000000\" stroke-opacity=\"1\" stroke-width=\"3.2\"/>\n",
       "<circle clip-path=\"url(#clip152)\" cx=\"886.174\" cy=\"823.186\" r=\"14.4\" fill=\"#009af9\" fill-rule=\"evenodd\" fill-opacity=\"1\" stroke=\"#000000\" stroke-opacity=\"1\" stroke-width=\"3.2\"/>\n",
       "<circle clip-path=\"url(#clip152)\" cx=\"894.821\" cy=\"823.057\" r=\"14.4\" fill=\"#009af9\" fill-rule=\"evenodd\" fill-opacity=\"1\" stroke=\"#000000\" stroke-opacity=\"1\" stroke-width=\"3.2\"/>\n",
       "<circle clip-path=\"url(#clip152)\" cx=\"903.468\" cy=\"822.947\" r=\"14.4\" fill=\"#009af9\" fill-rule=\"evenodd\" fill-opacity=\"1\" stroke=\"#000000\" stroke-opacity=\"1\" stroke-width=\"3.2\"/>\n",
       "<circle clip-path=\"url(#clip152)\" cx=\"912.115\" cy=\"822.853\" r=\"14.4\" fill=\"#009af9\" fill-rule=\"evenodd\" fill-opacity=\"1\" stroke=\"#000000\" stroke-opacity=\"1\" stroke-width=\"3.2\"/>\n",
       "<circle clip-path=\"url(#clip152)\" cx=\"920.763\" cy=\"822.773\" r=\"14.4\" fill=\"#009af9\" fill-rule=\"evenodd\" fill-opacity=\"1\" stroke=\"#000000\" stroke-opacity=\"1\" stroke-width=\"3.2\"/>\n",
       "<circle clip-path=\"url(#clip152)\" cx=\"929.41\" cy=\"822.705\" r=\"14.4\" fill=\"#009af9\" fill-rule=\"evenodd\" fill-opacity=\"1\" stroke=\"#000000\" stroke-opacity=\"1\" stroke-width=\"3.2\"/>\n",
       "<circle clip-path=\"url(#clip152)\" cx=\"938.057\" cy=\"822.648\" r=\"14.4\" fill=\"#009af9\" fill-rule=\"evenodd\" fill-opacity=\"1\" stroke=\"#000000\" stroke-opacity=\"1\" stroke-width=\"3.2\"/>\n",
       "<circle clip-path=\"url(#clip152)\" cx=\"946.705\" cy=\"822.6\" r=\"14.4\" fill=\"#009af9\" fill-rule=\"evenodd\" fill-opacity=\"1\" stroke=\"#000000\" stroke-opacity=\"1\" stroke-width=\"3.2\"/>\n",
       "<circle clip-path=\"url(#clip152)\" cx=\"955.352\" cy=\"822.56\" r=\"14.4\" fill=\"#009af9\" fill-rule=\"evenodd\" fill-opacity=\"1\" stroke=\"#000000\" stroke-opacity=\"1\" stroke-width=\"3.2\"/>\n",
       "<circle clip-path=\"url(#clip152)\" cx=\"963.999\" cy=\"822.526\" r=\"14.4\" fill=\"#009af9\" fill-rule=\"evenodd\" fill-opacity=\"1\" stroke=\"#000000\" stroke-opacity=\"1\" stroke-width=\"3.2\"/>\n",
       "<circle clip-path=\"url(#clip152)\" cx=\"972.647\" cy=\"822.498\" r=\"14.4\" fill=\"#009af9\" fill-rule=\"evenodd\" fill-opacity=\"1\" stroke=\"#000000\" stroke-opacity=\"1\" stroke-width=\"3.2\"/>\n",
       "<circle clip-path=\"url(#clip152)\" cx=\"981.294\" cy=\"822.475\" r=\"14.4\" fill=\"#009af9\" fill-rule=\"evenodd\" fill-opacity=\"1\" stroke=\"#000000\" stroke-opacity=\"1\" stroke-width=\"3.2\"/>\n",
       "<circle clip-path=\"url(#clip152)\" cx=\"989.941\" cy=\"822.456\" r=\"14.4\" fill=\"#009af9\" fill-rule=\"evenodd\" fill-opacity=\"1\" stroke=\"#000000\" stroke-opacity=\"1\" stroke-width=\"3.2\"/>\n",
       "<circle clip-path=\"url(#clip152)\" cx=\"998.588\" cy=\"822.441\" r=\"14.4\" fill=\"#009af9\" fill-rule=\"evenodd\" fill-opacity=\"1\" stroke=\"#000000\" stroke-opacity=\"1\" stroke-width=\"3.2\"/>\n",
       "<circle clip-path=\"url(#clip152)\" cx=\"1007.24\" cy=\"822.428\" r=\"14.4\" fill=\"#009af9\" fill-rule=\"evenodd\" fill-opacity=\"1\" stroke=\"#000000\" stroke-opacity=\"1\" stroke-width=\"3.2\"/>\n",
       "<circle clip-path=\"url(#clip152)\" cx=\"1015.88\" cy=\"822.418\" r=\"14.4\" fill=\"#009af9\" fill-rule=\"evenodd\" fill-opacity=\"1\" stroke=\"#000000\" stroke-opacity=\"1\" stroke-width=\"3.2\"/>\n",
       "<circle clip-path=\"url(#clip152)\" cx=\"1024.53\" cy=\"822.409\" r=\"14.4\" fill=\"#009af9\" fill-rule=\"evenodd\" fill-opacity=\"1\" stroke=\"#000000\" stroke-opacity=\"1\" stroke-width=\"3.2\"/>\n",
       "<circle clip-path=\"url(#clip152)\" cx=\"1033.18\" cy=\"822.403\" r=\"14.4\" fill=\"#009af9\" fill-rule=\"evenodd\" fill-opacity=\"1\" stroke=\"#000000\" stroke-opacity=\"1\" stroke-width=\"3.2\"/>\n",
       "<circle clip-path=\"url(#clip152)\" cx=\"1041.83\" cy=\"822.397\" r=\"14.4\" fill=\"#009af9\" fill-rule=\"evenodd\" fill-opacity=\"1\" stroke=\"#000000\" stroke-opacity=\"1\" stroke-width=\"3.2\"/>\n",
       "<circle clip-path=\"url(#clip152)\" cx=\"1050.47\" cy=\"822.393\" r=\"14.4\" fill=\"#009af9\" fill-rule=\"evenodd\" fill-opacity=\"1\" stroke=\"#000000\" stroke-opacity=\"1\" stroke-width=\"3.2\"/>\n",
       "<circle clip-path=\"url(#clip152)\" cx=\"1059.12\" cy=\"822.39\" r=\"14.4\" fill=\"#009af9\" fill-rule=\"evenodd\" fill-opacity=\"1\" stroke=\"#000000\" stroke-opacity=\"1\" stroke-width=\"3.2\"/>\n",
       "<circle clip-path=\"url(#clip152)\" cx=\"1067.77\" cy=\"822.387\" r=\"14.4\" fill=\"#009af9\" fill-rule=\"evenodd\" fill-opacity=\"1\" stroke=\"#000000\" stroke-opacity=\"1\" stroke-width=\"3.2\"/>\n",
       "<circle clip-path=\"url(#clip152)\" cx=\"1076.41\" cy=\"822.385\" r=\"14.4\" fill=\"#009af9\" fill-rule=\"evenodd\" fill-opacity=\"1\" stroke=\"#000000\" stroke-opacity=\"1\" stroke-width=\"3.2\"/>\n",
       "<circle clip-path=\"url(#clip152)\" cx=\"1085.06\" cy=\"822.384\" r=\"14.4\" fill=\"#009af9\" fill-rule=\"evenodd\" fill-opacity=\"1\" stroke=\"#000000\" stroke-opacity=\"1\" stroke-width=\"3.2\"/>\n",
       "<circle clip-path=\"url(#clip152)\" cx=\"1093.71\" cy=\"822.383\" r=\"14.4\" fill=\"#009af9\" fill-rule=\"evenodd\" fill-opacity=\"1\" stroke=\"#000000\" stroke-opacity=\"1\" stroke-width=\"3.2\"/>\n",
       "<circle clip-path=\"url(#clip152)\" cx=\"1102.36\" cy=\"822.382\" r=\"14.4\" fill=\"#009af9\" fill-rule=\"evenodd\" fill-opacity=\"1\" stroke=\"#000000\" stroke-opacity=\"1\" stroke-width=\"3.2\"/>\n",
       "<circle clip-path=\"url(#clip152)\" cx=\"1111\" cy=\"822.381\" r=\"14.4\" fill=\"#009af9\" fill-rule=\"evenodd\" fill-opacity=\"1\" stroke=\"#000000\" stroke-opacity=\"1\" stroke-width=\"3.2\"/>\n",
       "<circle clip-path=\"url(#clip152)\" cx=\"1119.65\" cy=\"822.381\" r=\"14.4\" fill=\"#009af9\" fill-rule=\"evenodd\" fill-opacity=\"1\" stroke=\"#000000\" stroke-opacity=\"1\" stroke-width=\"3.2\"/>\n",
       "<circle clip-path=\"url(#clip152)\" cx=\"1128.3\" cy=\"822.38\" r=\"14.4\" fill=\"#009af9\" fill-rule=\"evenodd\" fill-opacity=\"1\" stroke=\"#000000\" stroke-opacity=\"1\" stroke-width=\"3.2\"/>\n",
       "<circle clip-path=\"url(#clip152)\" cx=\"1136.95\" cy=\"822.38\" r=\"14.4\" fill=\"#009af9\" fill-rule=\"evenodd\" fill-opacity=\"1\" stroke=\"#000000\" stroke-opacity=\"1\" stroke-width=\"3.2\"/>\n",
       "<circle clip-path=\"url(#clip152)\" cx=\"1145.59\" cy=\"822.38\" r=\"14.4\" fill=\"#009af9\" fill-rule=\"evenodd\" fill-opacity=\"1\" stroke=\"#000000\" stroke-opacity=\"1\" stroke-width=\"3.2\"/>\n",
       "<circle clip-path=\"url(#clip152)\" cx=\"1154.24\" cy=\"822.38\" r=\"14.4\" fill=\"#009af9\" fill-rule=\"evenodd\" fill-opacity=\"1\" stroke=\"#000000\" stroke-opacity=\"1\" stroke-width=\"3.2\"/>\n",
       "<circle clip-path=\"url(#clip152)\" cx=\"1162.89\" cy=\"822.38\" r=\"14.4\" fill=\"#009af9\" fill-rule=\"evenodd\" fill-opacity=\"1\" stroke=\"#000000\" stroke-opacity=\"1\" stroke-width=\"3.2\"/>\n",
       "<circle clip-path=\"url(#clip152)\" cx=\"1171.53\" cy=\"822.38\" r=\"14.4\" fill=\"#009af9\" fill-rule=\"evenodd\" fill-opacity=\"1\" stroke=\"#000000\" stroke-opacity=\"1\" stroke-width=\"3.2\"/>\n",
       "<circle clip-path=\"url(#clip152)\" cx=\"1180.18\" cy=\"822.38\" r=\"14.4\" fill=\"#009af9\" fill-rule=\"evenodd\" fill-opacity=\"1\" stroke=\"#000000\" stroke-opacity=\"1\" stroke-width=\"3.2\"/>\n",
       "<circle clip-path=\"url(#clip152)\" cx=\"1188.83\" cy=\"822.38\" r=\"14.4\" fill=\"#009af9\" fill-rule=\"evenodd\" fill-opacity=\"1\" stroke=\"#000000\" stroke-opacity=\"1\" stroke-width=\"3.2\"/>\n",
       "<circle clip-path=\"url(#clip152)\" cx=\"1197.48\" cy=\"822.38\" r=\"14.4\" fill=\"#009af9\" fill-rule=\"evenodd\" fill-opacity=\"1\" stroke=\"#000000\" stroke-opacity=\"1\" stroke-width=\"3.2\"/>\n",
       "<circle clip-path=\"url(#clip152)\" cx=\"1206.12\" cy=\"822.38\" r=\"14.4\" fill=\"#009af9\" fill-rule=\"evenodd\" fill-opacity=\"1\" stroke=\"#000000\" stroke-opacity=\"1\" stroke-width=\"3.2\"/>\n",
       "<circle clip-path=\"url(#clip152)\" cx=\"1214.77\" cy=\"822.38\" r=\"14.4\" fill=\"#009af9\" fill-rule=\"evenodd\" fill-opacity=\"1\" stroke=\"#000000\" stroke-opacity=\"1\" stroke-width=\"3.2\"/>\n",
       "<circle clip-path=\"url(#clip152)\" cx=\"1223.42\" cy=\"822.38\" r=\"14.4\" fill=\"#009af9\" fill-rule=\"evenodd\" fill-opacity=\"1\" stroke=\"#000000\" stroke-opacity=\"1\" stroke-width=\"3.2\"/>\n",
       "<circle clip-path=\"url(#clip152)\" cx=\"1232.07\" cy=\"822.38\" r=\"14.4\" fill=\"#009af9\" fill-rule=\"evenodd\" fill-opacity=\"1\" stroke=\"#000000\" stroke-opacity=\"1\" stroke-width=\"3.2\"/>\n",
       "<circle clip-path=\"url(#clip152)\" cx=\"1240.71\" cy=\"822.38\" r=\"14.4\" fill=\"#009af9\" fill-rule=\"evenodd\" fill-opacity=\"1\" stroke=\"#000000\" stroke-opacity=\"1\" stroke-width=\"3.2\"/>\n",
       "<circle clip-path=\"url(#clip152)\" cx=\"1249.36\" cy=\"822.38\" r=\"14.4\" fill=\"#009af9\" fill-rule=\"evenodd\" fill-opacity=\"1\" stroke=\"#000000\" stroke-opacity=\"1\" stroke-width=\"3.2\"/>\n",
       "<circle clip-path=\"url(#clip152)\" cx=\"1258.01\" cy=\"822.38\" r=\"14.4\" fill=\"#009af9\" fill-rule=\"evenodd\" fill-opacity=\"1\" stroke=\"#000000\" stroke-opacity=\"1\" stroke-width=\"3.2\"/>\n",
       "<circle clip-path=\"url(#clip152)\" cx=\"1266.65\" cy=\"822.38\" r=\"14.4\" fill=\"#009af9\" fill-rule=\"evenodd\" fill-opacity=\"1\" stroke=\"#000000\" stroke-opacity=\"1\" stroke-width=\"3.2\"/>\n",
       "<circle clip-path=\"url(#clip152)\" cx=\"1275.3\" cy=\"822.38\" r=\"14.4\" fill=\"#009af9\" fill-rule=\"evenodd\" fill-opacity=\"1\" stroke=\"#000000\" stroke-opacity=\"1\" stroke-width=\"3.2\"/>\n",
       "<circle clip-path=\"url(#clip152)\" cx=\"1283.95\" cy=\"822.38\" r=\"14.4\" fill=\"#009af9\" fill-rule=\"evenodd\" fill-opacity=\"1\" stroke=\"#000000\" stroke-opacity=\"1\" stroke-width=\"3.2\"/>\n",
       "<circle clip-path=\"url(#clip152)\" cx=\"1292.6\" cy=\"822.38\" r=\"14.4\" fill=\"#009af9\" fill-rule=\"evenodd\" fill-opacity=\"1\" stroke=\"#000000\" stroke-opacity=\"1\" stroke-width=\"3.2\"/>\n",
       "<circle clip-path=\"url(#clip152)\" cx=\"1301.24\" cy=\"822.38\" r=\"14.4\" fill=\"#009af9\" fill-rule=\"evenodd\" fill-opacity=\"1\" stroke=\"#000000\" stroke-opacity=\"1\" stroke-width=\"3.2\"/>\n",
       "<circle clip-path=\"url(#clip152)\" cx=\"1309.89\" cy=\"822.38\" r=\"14.4\" fill=\"#009af9\" fill-rule=\"evenodd\" fill-opacity=\"1\" stroke=\"#000000\" stroke-opacity=\"1\" stroke-width=\"3.2\"/>\n",
       "<circle clip-path=\"url(#clip152)\" cx=\"1318.54\" cy=\"822.38\" r=\"14.4\" fill=\"#009af9\" fill-rule=\"evenodd\" fill-opacity=\"1\" stroke=\"#000000\" stroke-opacity=\"1\" stroke-width=\"3.2\"/>\n",
       "<circle clip-path=\"url(#clip152)\" cx=\"1327.19\" cy=\"822.38\" r=\"14.4\" fill=\"#009af9\" fill-rule=\"evenodd\" fill-opacity=\"1\" stroke=\"#000000\" stroke-opacity=\"1\" stroke-width=\"3.2\"/>\n",
       "<circle clip-path=\"url(#clip152)\" cx=\"1335.83\" cy=\"822.38\" r=\"14.4\" fill=\"#009af9\" fill-rule=\"evenodd\" fill-opacity=\"1\" stroke=\"#000000\" stroke-opacity=\"1\" stroke-width=\"3.2\"/>\n",
       "<circle clip-path=\"url(#clip152)\" cx=\"1344.48\" cy=\"822.38\" r=\"14.4\" fill=\"#009af9\" fill-rule=\"evenodd\" fill-opacity=\"1\" stroke=\"#000000\" stroke-opacity=\"1\" stroke-width=\"3.2\"/>\n",
       "<circle clip-path=\"url(#clip152)\" cx=\"1353.13\" cy=\"822.38\" r=\"14.4\" fill=\"#009af9\" fill-rule=\"evenodd\" fill-opacity=\"1\" stroke=\"#000000\" stroke-opacity=\"1\" stroke-width=\"3.2\"/>\n",
       "<circle clip-path=\"url(#clip152)\" cx=\"1361.78\" cy=\"822.38\" r=\"14.4\" fill=\"#009af9\" fill-rule=\"evenodd\" fill-opacity=\"1\" stroke=\"#000000\" stroke-opacity=\"1\" stroke-width=\"3.2\"/>\n",
       "<circle clip-path=\"url(#clip152)\" cx=\"1370.42\" cy=\"822.38\" r=\"14.4\" fill=\"#009af9\" fill-rule=\"evenodd\" fill-opacity=\"1\" stroke=\"#000000\" stroke-opacity=\"1\" stroke-width=\"3.2\"/>\n",
       "<circle clip-path=\"url(#clip152)\" cx=\"1379.07\" cy=\"822.38\" r=\"14.4\" fill=\"#009af9\" fill-rule=\"evenodd\" fill-opacity=\"1\" stroke=\"#000000\" stroke-opacity=\"1\" stroke-width=\"3.2\"/>\n",
       "<circle clip-path=\"url(#clip152)\" cx=\"1387.72\" cy=\"822.38\" r=\"14.4\" fill=\"#009af9\" fill-rule=\"evenodd\" fill-opacity=\"1\" stroke=\"#000000\" stroke-opacity=\"1\" stroke-width=\"3.2\"/>\n",
       "<circle clip-path=\"url(#clip152)\" cx=\"1396.36\" cy=\"822.38\" r=\"14.4\" fill=\"#009af9\" fill-rule=\"evenodd\" fill-opacity=\"1\" stroke=\"#000000\" stroke-opacity=\"1\" stroke-width=\"3.2\"/>\n",
       "<circle clip-path=\"url(#clip152)\" cx=\"1405.01\" cy=\"822.38\" r=\"14.4\" fill=\"#009af9\" fill-rule=\"evenodd\" fill-opacity=\"1\" stroke=\"#000000\" stroke-opacity=\"1\" stroke-width=\"3.2\"/>\n",
       "<circle clip-path=\"url(#clip152)\" cx=\"1413.66\" cy=\"822.38\" r=\"14.4\" fill=\"#009af9\" fill-rule=\"evenodd\" fill-opacity=\"1\" stroke=\"#000000\" stroke-opacity=\"1\" stroke-width=\"3.2\"/>\n",
       "<circle clip-path=\"url(#clip152)\" cx=\"1422.31\" cy=\"822.38\" r=\"14.4\" fill=\"#009af9\" fill-rule=\"evenodd\" fill-opacity=\"1\" stroke=\"#000000\" stroke-opacity=\"1\" stroke-width=\"3.2\"/>\n",
       "<circle clip-path=\"url(#clip152)\" cx=\"1430.95\" cy=\"822.38\" r=\"14.4\" fill=\"#009af9\" fill-rule=\"evenodd\" fill-opacity=\"1\" stroke=\"#000000\" stroke-opacity=\"1\" stroke-width=\"3.2\"/>\n",
       "<circle clip-path=\"url(#clip152)\" cx=\"1439.6\" cy=\"822.38\" r=\"14.4\" fill=\"#009af9\" fill-rule=\"evenodd\" fill-opacity=\"1\" stroke=\"#000000\" stroke-opacity=\"1\" stroke-width=\"3.2\"/>\n",
       "<circle clip-path=\"url(#clip152)\" cx=\"1448.25\" cy=\"822.38\" r=\"14.4\" fill=\"#009af9\" fill-rule=\"evenodd\" fill-opacity=\"1\" stroke=\"#000000\" stroke-opacity=\"1\" stroke-width=\"3.2\"/>\n",
       "<circle clip-path=\"url(#clip152)\" cx=\"1456.9\" cy=\"822.38\" r=\"14.4\" fill=\"#009af9\" fill-rule=\"evenodd\" fill-opacity=\"1\" stroke=\"#000000\" stroke-opacity=\"1\" stroke-width=\"3.2\"/>\n",
       "<circle clip-path=\"url(#clip152)\" cx=\"1465.54\" cy=\"822.38\" r=\"14.4\" fill=\"#009af9\" fill-rule=\"evenodd\" fill-opacity=\"1\" stroke=\"#000000\" stroke-opacity=\"1\" stroke-width=\"3.2\"/>\n",
       "<circle clip-path=\"url(#clip152)\" cx=\"1474.19\" cy=\"822.38\" r=\"14.4\" fill=\"#009af9\" fill-rule=\"evenodd\" fill-opacity=\"1\" stroke=\"#000000\" stroke-opacity=\"1\" stroke-width=\"3.2\"/>\n",
       "<circle clip-path=\"url(#clip152)\" cx=\"1482.84\" cy=\"822.38\" r=\"14.4\" fill=\"#009af9\" fill-rule=\"evenodd\" fill-opacity=\"1\" stroke=\"#000000\" stroke-opacity=\"1\" stroke-width=\"3.2\"/>\n",
       "<circle clip-path=\"url(#clip152)\" cx=\"1491.48\" cy=\"822.379\" r=\"14.4\" fill=\"#009af9\" fill-rule=\"evenodd\" fill-opacity=\"1\" stroke=\"#000000\" stroke-opacity=\"1\" stroke-width=\"3.2\"/>\n",
       "<circle clip-path=\"url(#clip152)\" cx=\"1500.13\" cy=\"822.379\" r=\"14.4\" fill=\"#009af9\" fill-rule=\"evenodd\" fill-opacity=\"1\" stroke=\"#000000\" stroke-opacity=\"1\" stroke-width=\"3.2\"/>\n",
       "<circle clip-path=\"url(#clip152)\" cx=\"1508.78\" cy=\"822.379\" r=\"14.4\" fill=\"#009af9\" fill-rule=\"evenodd\" fill-opacity=\"1\" stroke=\"#000000\" stroke-opacity=\"1\" stroke-width=\"3.2\"/>\n",
       "<circle clip-path=\"url(#clip152)\" cx=\"1517.43\" cy=\"822.379\" r=\"14.4\" fill=\"#009af9\" fill-rule=\"evenodd\" fill-opacity=\"1\" stroke=\"#000000\" stroke-opacity=\"1\" stroke-width=\"3.2\"/>\n",
       "<circle clip-path=\"url(#clip152)\" cx=\"1526.07\" cy=\"822.379\" r=\"14.4\" fill=\"#009af9\" fill-rule=\"evenodd\" fill-opacity=\"1\" stroke=\"#000000\" stroke-opacity=\"1\" stroke-width=\"3.2\"/>\n",
       "<circle clip-path=\"url(#clip152)\" cx=\"1534.72\" cy=\"822.379\" r=\"14.4\" fill=\"#009af9\" fill-rule=\"evenodd\" fill-opacity=\"1\" stroke=\"#000000\" stroke-opacity=\"1\" stroke-width=\"3.2\"/>\n",
       "<circle clip-path=\"url(#clip152)\" cx=\"1543.37\" cy=\"822.379\" r=\"14.4\" fill=\"#009af9\" fill-rule=\"evenodd\" fill-opacity=\"1\" stroke=\"#000000\" stroke-opacity=\"1\" stroke-width=\"3.2\"/>\n",
       "<circle clip-path=\"url(#clip152)\" cx=\"1552.02\" cy=\"822.378\" r=\"14.4\" fill=\"#009af9\" fill-rule=\"evenodd\" fill-opacity=\"1\" stroke=\"#000000\" stroke-opacity=\"1\" stroke-width=\"3.2\"/>\n",
       "<circle clip-path=\"url(#clip152)\" cx=\"1560.66\" cy=\"822.378\" r=\"14.4\" fill=\"#009af9\" fill-rule=\"evenodd\" fill-opacity=\"1\" stroke=\"#000000\" stroke-opacity=\"1\" stroke-width=\"3.2\"/>\n",
       "<circle clip-path=\"url(#clip152)\" cx=\"1569.31\" cy=\"822.377\" r=\"14.4\" fill=\"#009af9\" fill-rule=\"evenodd\" fill-opacity=\"1\" stroke=\"#000000\" stroke-opacity=\"1\" stroke-width=\"3.2\"/>\n",
       "<circle clip-path=\"url(#clip152)\" cx=\"1577.96\" cy=\"822.376\" r=\"14.4\" fill=\"#009af9\" fill-rule=\"evenodd\" fill-opacity=\"1\" stroke=\"#000000\" stroke-opacity=\"1\" stroke-width=\"3.2\"/>\n",
       "<circle clip-path=\"url(#clip152)\" cx=\"1586.6\" cy=\"822.375\" r=\"14.4\" fill=\"#009af9\" fill-rule=\"evenodd\" fill-opacity=\"1\" stroke=\"#000000\" stroke-opacity=\"1\" stroke-width=\"3.2\"/>\n",
       "<circle clip-path=\"url(#clip152)\" cx=\"1595.25\" cy=\"822.374\" r=\"14.4\" fill=\"#009af9\" fill-rule=\"evenodd\" fill-opacity=\"1\" stroke=\"#000000\" stroke-opacity=\"1\" stroke-width=\"3.2\"/>\n",
       "<circle clip-path=\"url(#clip152)\" cx=\"1603.9\" cy=\"822.372\" r=\"14.4\" fill=\"#009af9\" fill-rule=\"evenodd\" fill-opacity=\"1\" stroke=\"#000000\" stroke-opacity=\"1\" stroke-width=\"3.2\"/>\n",
       "<circle clip-path=\"url(#clip152)\" cx=\"1612.55\" cy=\"822.369\" r=\"14.4\" fill=\"#009af9\" fill-rule=\"evenodd\" fill-opacity=\"1\" stroke=\"#000000\" stroke-opacity=\"1\" stroke-width=\"3.2\"/>\n",
       "<circle clip-path=\"url(#clip152)\" cx=\"1621.19\" cy=\"822.366\" r=\"14.4\" fill=\"#009af9\" fill-rule=\"evenodd\" fill-opacity=\"1\" stroke=\"#000000\" stroke-opacity=\"1\" stroke-width=\"3.2\"/>\n",
       "<circle clip-path=\"url(#clip152)\" cx=\"1629.84\" cy=\"822.361\" r=\"14.4\" fill=\"#009af9\" fill-rule=\"evenodd\" fill-opacity=\"1\" stroke=\"#000000\" stroke-opacity=\"1\" stroke-width=\"3.2\"/>\n",
       "<circle clip-path=\"url(#clip152)\" cx=\"1638.49\" cy=\"822.356\" r=\"14.4\" fill=\"#009af9\" fill-rule=\"evenodd\" fill-opacity=\"1\" stroke=\"#000000\" stroke-opacity=\"1\" stroke-width=\"3.2\"/>\n",
       "<circle clip-path=\"url(#clip152)\" cx=\"1647.14\" cy=\"822.349\" r=\"14.4\" fill=\"#009af9\" fill-rule=\"evenodd\" fill-opacity=\"1\" stroke=\"#000000\" stroke-opacity=\"1\" stroke-width=\"3.2\"/>\n",
       "<circle clip-path=\"url(#clip152)\" cx=\"1655.78\" cy=\"822.341\" r=\"14.4\" fill=\"#009af9\" fill-rule=\"evenodd\" fill-opacity=\"1\" stroke=\"#000000\" stroke-opacity=\"1\" stroke-width=\"3.2\"/>\n",
       "<circle clip-path=\"url(#clip152)\" cx=\"1664.43\" cy=\"822.331\" r=\"14.4\" fill=\"#009af9\" fill-rule=\"evenodd\" fill-opacity=\"1\" stroke=\"#000000\" stroke-opacity=\"1\" stroke-width=\"3.2\"/>\n",
       "<circle clip-path=\"url(#clip152)\" cx=\"1673.08\" cy=\"822.318\" r=\"14.4\" fill=\"#009af9\" fill-rule=\"evenodd\" fill-opacity=\"1\" stroke=\"#000000\" stroke-opacity=\"1\" stroke-width=\"3.2\"/>\n",
       "<circle clip-path=\"url(#clip152)\" cx=\"1681.73\" cy=\"822.302\" r=\"14.4\" fill=\"#009af9\" fill-rule=\"evenodd\" fill-opacity=\"1\" stroke=\"#000000\" stroke-opacity=\"1\" stroke-width=\"3.2\"/>\n",
       "<circle clip-path=\"url(#clip152)\" cx=\"1690.37\" cy=\"822.283\" r=\"14.4\" fill=\"#009af9\" fill-rule=\"evenodd\" fill-opacity=\"1\" stroke=\"#000000\" stroke-opacity=\"1\" stroke-width=\"3.2\"/>\n",
       "<circle clip-path=\"url(#clip152)\" cx=\"1699.02\" cy=\"822.26\" r=\"14.4\" fill=\"#009af9\" fill-rule=\"evenodd\" fill-opacity=\"1\" stroke=\"#000000\" stroke-opacity=\"1\" stroke-width=\"3.2\"/>\n",
       "<circle clip-path=\"url(#clip152)\" cx=\"1707.67\" cy=\"822.232\" r=\"14.4\" fill=\"#009af9\" fill-rule=\"evenodd\" fill-opacity=\"1\" stroke=\"#000000\" stroke-opacity=\"1\" stroke-width=\"3.2\"/>\n",
       "<circle clip-path=\"url(#clip152)\" cx=\"1716.31\" cy=\"822.198\" r=\"14.4\" fill=\"#009af9\" fill-rule=\"evenodd\" fill-opacity=\"1\" stroke=\"#000000\" stroke-opacity=\"1\" stroke-width=\"3.2\"/>\n",
       "<circle clip-path=\"url(#clip152)\" cx=\"1724.96\" cy=\"822.158\" r=\"14.4\" fill=\"#009af9\" fill-rule=\"evenodd\" fill-opacity=\"1\" stroke=\"#000000\" stroke-opacity=\"1\" stroke-width=\"3.2\"/>\n",
       "<circle clip-path=\"url(#clip152)\" cx=\"1733.61\" cy=\"822.109\" r=\"14.4\" fill=\"#009af9\" fill-rule=\"evenodd\" fill-opacity=\"1\" stroke=\"#000000\" stroke-opacity=\"1\" stroke-width=\"3.2\"/>\n",
       "<circle clip-path=\"url(#clip152)\" cx=\"1742.26\" cy=\"822.052\" r=\"14.4\" fill=\"#009af9\" fill-rule=\"evenodd\" fill-opacity=\"1\" stroke=\"#000000\" stroke-opacity=\"1\" stroke-width=\"3.2\"/>\n",
       "<circle clip-path=\"url(#clip152)\" cx=\"1750.9\" cy=\"821.984\" r=\"14.4\" fill=\"#009af9\" fill-rule=\"evenodd\" fill-opacity=\"1\" stroke=\"#000000\" stroke-opacity=\"1\" stroke-width=\"3.2\"/>\n",
       "<circle clip-path=\"url(#clip152)\" cx=\"1759.55\" cy=\"821.904\" r=\"14.4\" fill=\"#009af9\" fill-rule=\"evenodd\" fill-opacity=\"1\" stroke=\"#000000\" stroke-opacity=\"1\" stroke-width=\"3.2\"/>\n",
       "<circle clip-path=\"url(#clip152)\" cx=\"1768.2\" cy=\"821.809\" r=\"14.4\" fill=\"#009af9\" fill-rule=\"evenodd\" fill-opacity=\"1\" stroke=\"#000000\" stroke-opacity=\"1\" stroke-width=\"3.2\"/>\n",
       "<circle clip-path=\"url(#clip152)\" cx=\"1776.85\" cy=\"821.699\" r=\"14.4\" fill=\"#009af9\" fill-rule=\"evenodd\" fill-opacity=\"1\" stroke=\"#000000\" stroke-opacity=\"1\" stroke-width=\"3.2\"/>\n",
       "<circle clip-path=\"url(#clip152)\" cx=\"1785.49\" cy=\"821.569\" r=\"14.4\" fill=\"#009af9\" fill-rule=\"evenodd\" fill-opacity=\"1\" stroke=\"#000000\" stroke-opacity=\"1\" stroke-width=\"3.2\"/>\n",
       "<circle clip-path=\"url(#clip152)\" cx=\"1794.14\" cy=\"821.419\" r=\"14.4\" fill=\"#009af9\" fill-rule=\"evenodd\" fill-opacity=\"1\" stroke=\"#000000\" stroke-opacity=\"1\" stroke-width=\"3.2\"/>\n",
       "<circle clip-path=\"url(#clip152)\" cx=\"1802.79\" cy=\"821.243\" r=\"14.4\" fill=\"#009af9\" fill-rule=\"evenodd\" fill-opacity=\"1\" stroke=\"#000000\" stroke-opacity=\"1\" stroke-width=\"3.2\"/>\n",
       "<circle clip-path=\"url(#clip152)\" cx=\"1811.43\" cy=\"821.04\" r=\"14.4\" fill=\"#009af9\" fill-rule=\"evenodd\" fill-opacity=\"1\" stroke=\"#000000\" stroke-opacity=\"1\" stroke-width=\"3.2\"/>\n",
       "<circle clip-path=\"url(#clip152)\" cx=\"1820.08\" cy=\"820.805\" r=\"14.4\" fill=\"#009af9\" fill-rule=\"evenodd\" fill-opacity=\"1\" stroke=\"#000000\" stroke-opacity=\"1\" stroke-width=\"3.2\"/>\n",
       "<circle clip-path=\"url(#clip152)\" cx=\"1828.73\" cy=\"820.535\" r=\"14.4\" fill=\"#009af9\" fill-rule=\"evenodd\" fill-opacity=\"1\" stroke=\"#000000\" stroke-opacity=\"1\" stroke-width=\"3.2\"/>\n",
       "<circle clip-path=\"url(#clip152)\" cx=\"1837.38\" cy=\"820.223\" r=\"14.4\" fill=\"#009af9\" fill-rule=\"evenodd\" fill-opacity=\"1\" stroke=\"#000000\" stroke-opacity=\"1\" stroke-width=\"3.2\"/>\n",
       "<circle clip-path=\"url(#clip152)\" cx=\"1846.02\" cy=\"819.866\" r=\"14.4\" fill=\"#009af9\" fill-rule=\"evenodd\" fill-opacity=\"1\" stroke=\"#000000\" stroke-opacity=\"1\" stroke-width=\"3.2\"/>\n",
       "<circle clip-path=\"url(#clip152)\" cx=\"1854.67\" cy=\"819.457\" r=\"14.4\" fill=\"#009af9\" fill-rule=\"evenodd\" fill-opacity=\"1\" stroke=\"#000000\" stroke-opacity=\"1\" stroke-width=\"3.2\"/>\n",
       "<circle clip-path=\"url(#clip152)\" cx=\"1863.32\" cy=\"818.99\" r=\"14.4\" fill=\"#009af9\" fill-rule=\"evenodd\" fill-opacity=\"1\" stroke=\"#000000\" stroke-opacity=\"1\" stroke-width=\"3.2\"/>\n",
       "<circle clip-path=\"url(#clip152)\" cx=\"1871.97\" cy=\"818.458\" r=\"14.4\" fill=\"#009af9\" fill-rule=\"evenodd\" fill-opacity=\"1\" stroke=\"#000000\" stroke-opacity=\"1\" stroke-width=\"3.2\"/>\n",
       "<circle clip-path=\"url(#clip152)\" cx=\"1880.61\" cy=\"817.852\" r=\"14.4\" fill=\"#009af9\" fill-rule=\"evenodd\" fill-opacity=\"1\" stroke=\"#000000\" stroke-opacity=\"1\" stroke-width=\"3.2\"/>\n",
       "<circle clip-path=\"url(#clip152)\" cx=\"1889.26\" cy=\"817.165\" r=\"14.4\" fill=\"#009af9\" fill-rule=\"evenodd\" fill-opacity=\"1\" stroke=\"#000000\" stroke-opacity=\"1\" stroke-width=\"3.2\"/>\n",
       "<circle clip-path=\"url(#clip152)\" cx=\"1897.91\" cy=\"816.386\" r=\"14.4\" fill=\"#009af9\" fill-rule=\"evenodd\" fill-opacity=\"1\" stroke=\"#000000\" stroke-opacity=\"1\" stroke-width=\"3.2\"/>\n",
       "<circle clip-path=\"url(#clip152)\" cx=\"1906.56\" cy=\"815.506\" r=\"14.4\" fill=\"#009af9\" fill-rule=\"evenodd\" fill-opacity=\"1\" stroke=\"#000000\" stroke-opacity=\"1\" stroke-width=\"3.2\"/>\n",
       "<circle clip-path=\"url(#clip152)\" cx=\"1915.2\" cy=\"814.513\" r=\"14.4\" fill=\"#009af9\" fill-rule=\"evenodd\" fill-opacity=\"1\" stroke=\"#000000\" stroke-opacity=\"1\" stroke-width=\"3.2\"/>\n",
       "<circle clip-path=\"url(#clip152)\" cx=\"1923.85\" cy=\"813.394\" r=\"14.4\" fill=\"#009af9\" fill-rule=\"evenodd\" fill-opacity=\"1\" stroke=\"#000000\" stroke-opacity=\"1\" stroke-width=\"3.2\"/>\n",
       "<circle clip-path=\"url(#clip152)\" cx=\"1932.5\" cy=\"812.135\" r=\"14.4\" fill=\"#009af9\" fill-rule=\"evenodd\" fill-opacity=\"1\" stroke=\"#000000\" stroke-opacity=\"1\" stroke-width=\"3.2\"/>\n",
       "<circle clip-path=\"url(#clip152)\" cx=\"1941.14\" cy=\"810.723\" r=\"14.4\" fill=\"#009af9\" fill-rule=\"evenodd\" fill-opacity=\"1\" stroke=\"#000000\" stroke-opacity=\"1\" stroke-width=\"3.2\"/>\n",
       "<circle clip-path=\"url(#clip152)\" cx=\"1949.79\" cy=\"809.139\" r=\"14.4\" fill=\"#009af9\" fill-rule=\"evenodd\" fill-opacity=\"1\" stroke=\"#000000\" stroke-opacity=\"1\" stroke-width=\"3.2\"/>\n",
       "<circle clip-path=\"url(#clip152)\" cx=\"1958.44\" cy=\"807.367\" r=\"14.4\" fill=\"#009af9\" fill-rule=\"evenodd\" fill-opacity=\"1\" stroke=\"#000000\" stroke-opacity=\"1\" stroke-width=\"3.2\"/>\n",
       "<circle clip-path=\"url(#clip152)\" cx=\"1967.09\" cy=\"805.388\" r=\"14.4\" fill=\"#009af9\" fill-rule=\"evenodd\" fill-opacity=\"1\" stroke=\"#000000\" stroke-opacity=\"1\" stroke-width=\"3.2\"/>\n",
       "<circle clip-path=\"url(#clip152)\" cx=\"1975.73\" cy=\"803.179\" r=\"14.4\" fill=\"#009af9\" fill-rule=\"evenodd\" fill-opacity=\"1\" stroke=\"#000000\" stroke-opacity=\"1\" stroke-width=\"3.2\"/>\n",
       "<circle clip-path=\"url(#clip152)\" cx=\"1984.38\" cy=\"800.719\" r=\"14.4\" fill=\"#009af9\" fill-rule=\"evenodd\" fill-opacity=\"1\" stroke=\"#000000\" stroke-opacity=\"1\" stroke-width=\"3.2\"/>\n",
       "<circle clip-path=\"url(#clip152)\" cx=\"1993.03\" cy=\"797.982\" r=\"14.4\" fill=\"#009af9\" fill-rule=\"evenodd\" fill-opacity=\"1\" stroke=\"#000000\" stroke-opacity=\"1\" stroke-width=\"3.2\"/>\n",
       "<circle clip-path=\"url(#clip152)\" cx=\"2001.68\" cy=\"794.943\" r=\"14.4\" fill=\"#009af9\" fill-rule=\"evenodd\" fill-opacity=\"1\" stroke=\"#000000\" stroke-opacity=\"1\" stroke-width=\"3.2\"/>\n",
       "<circle clip-path=\"url(#clip152)\" cx=\"2010.32\" cy=\"791.571\" r=\"14.4\" fill=\"#009af9\" fill-rule=\"evenodd\" fill-opacity=\"1\" stroke=\"#000000\" stroke-opacity=\"1\" stroke-width=\"3.2\"/>\n",
       "<circle clip-path=\"url(#clip152)\" cx=\"2018.97\" cy=\"787.835\" r=\"14.4\" fill=\"#009af9\" fill-rule=\"evenodd\" fill-opacity=\"1\" stroke=\"#000000\" stroke-opacity=\"1\" stroke-width=\"3.2\"/>\n",
       "<circle clip-path=\"url(#clip152)\" cx=\"2027.62\" cy=\"783.702\" r=\"14.4\" fill=\"#009af9\" fill-rule=\"evenodd\" fill-opacity=\"1\" stroke=\"#000000\" stroke-opacity=\"1\" stroke-width=\"3.2\"/>\n",
       "<circle clip-path=\"url(#clip152)\" cx=\"2036.26\" cy=\"779.136\" r=\"14.4\" fill=\"#009af9\" fill-rule=\"evenodd\" fill-opacity=\"1\" stroke=\"#000000\" stroke-opacity=\"1\" stroke-width=\"3.2\"/>\n",
       "<circle clip-path=\"url(#clip152)\" cx=\"2044.91\" cy=\"774.095\" r=\"14.4\" fill=\"#009af9\" fill-rule=\"evenodd\" fill-opacity=\"1\" stroke=\"#000000\" stroke-opacity=\"1\" stroke-width=\"3.2\"/>\n",
       "<circle clip-path=\"url(#clip152)\" cx=\"2053.56\" cy=\"768.54\" r=\"14.4\" fill=\"#009af9\" fill-rule=\"evenodd\" fill-opacity=\"1\" stroke=\"#000000\" stroke-opacity=\"1\" stroke-width=\"3.2\"/>\n",
       "<circle clip-path=\"url(#clip152)\" cx=\"2062.21\" cy=\"762.423\" r=\"14.4\" fill=\"#009af9\" fill-rule=\"evenodd\" fill-opacity=\"1\" stroke=\"#000000\" stroke-opacity=\"1\" stroke-width=\"3.2\"/>\n",
       "<circle clip-path=\"url(#clip152)\" cx=\"2070.85\" cy=\"755.695\" r=\"14.4\" fill=\"#009af9\" fill-rule=\"evenodd\" fill-opacity=\"1\" stroke=\"#000000\" stroke-opacity=\"1\" stroke-width=\"3.2\"/>\n",
       "<circle clip-path=\"url(#clip152)\" cx=\"2079.5\" cy=\"748.305\" r=\"14.4\" fill=\"#009af9\" fill-rule=\"evenodd\" fill-opacity=\"1\" stroke=\"#000000\" stroke-opacity=\"1\" stroke-width=\"3.2\"/>\n",
       "<circle clip-path=\"url(#clip152)\" cx=\"2088.15\" cy=\"740.195\" r=\"14.4\" fill=\"#009af9\" fill-rule=\"evenodd\" fill-opacity=\"1\" stroke=\"#000000\" stroke-opacity=\"1\" stroke-width=\"3.2\"/>\n",
       "<circle clip-path=\"url(#clip152)\" cx=\"2096.8\" cy=\"731.305\" r=\"14.4\" fill=\"#009af9\" fill-rule=\"evenodd\" fill-opacity=\"1\" stroke=\"#000000\" stroke-opacity=\"1\" stroke-width=\"3.2\"/>\n",
       "<circle clip-path=\"url(#clip152)\" cx=\"2105.44\" cy=\"721.57\" r=\"14.4\" fill=\"#009af9\" fill-rule=\"evenodd\" fill-opacity=\"1\" stroke=\"#000000\" stroke-opacity=\"1\" stroke-width=\"3.2\"/>\n",
       "<circle clip-path=\"url(#clip152)\" cx=\"2114.09\" cy=\"710.921\" r=\"14.4\" fill=\"#009af9\" fill-rule=\"evenodd\" fill-opacity=\"1\" stroke=\"#000000\" stroke-opacity=\"1\" stroke-width=\"3.2\"/>\n",
       "<circle clip-path=\"url(#clip152)\" cx=\"2122.74\" cy=\"699.283\" r=\"14.4\" fill=\"#009af9\" fill-rule=\"evenodd\" fill-opacity=\"1\" stroke=\"#000000\" stroke-opacity=\"1\" stroke-width=\"3.2\"/>\n",
       "<circle clip-path=\"url(#clip152)\" cx=\"2131.38\" cy=\"686.577\" r=\"14.4\" fill=\"#009af9\" fill-rule=\"evenodd\" fill-opacity=\"1\" stroke=\"#000000\" stroke-opacity=\"1\" stroke-width=\"3.2\"/>\n",
       "<circle clip-path=\"url(#clip152)\" cx=\"2140.03\" cy=\"672.719\" r=\"14.4\" fill=\"#009af9\" fill-rule=\"evenodd\" fill-opacity=\"1\" stroke=\"#000000\" stroke-opacity=\"1\" stroke-width=\"3.2\"/>\n",
       "<circle clip-path=\"url(#clip152)\" cx=\"2148.68\" cy=\"657.617\" r=\"14.4\" fill=\"#009af9\" fill-rule=\"evenodd\" fill-opacity=\"1\" stroke=\"#000000\" stroke-opacity=\"1\" stroke-width=\"3.2\"/>\n",
       "<circle clip-path=\"url(#clip152)\" cx=\"2157.33\" cy=\"641.174\" r=\"14.4\" fill=\"#009af9\" fill-rule=\"evenodd\" fill-opacity=\"1\" stroke=\"#000000\" stroke-opacity=\"1\" stroke-width=\"3.2\"/>\n",
       "<circle clip-path=\"url(#clip152)\" cx=\"2165.97\" cy=\"623.289\" r=\"14.4\" fill=\"#009af9\" fill-rule=\"evenodd\" fill-opacity=\"1\" stroke=\"#000000\" stroke-opacity=\"1\" stroke-width=\"3.2\"/>\n",
       "<circle clip-path=\"url(#clip152)\" cx=\"2174.62\" cy=\"603.852\" r=\"14.4\" fill=\"#009af9\" fill-rule=\"evenodd\" fill-opacity=\"1\" stroke=\"#000000\" stroke-opacity=\"1\" stroke-width=\"3.2\"/>\n",
       "<circle clip-path=\"url(#clip152)\" cx=\"2183.27\" cy=\"582.745\" r=\"14.4\" fill=\"#009af9\" fill-rule=\"evenodd\" fill-opacity=\"1\" stroke=\"#000000\" stroke-opacity=\"1\" stroke-width=\"3.2\"/>\n",
       "<circle clip-path=\"url(#clip152)\" cx=\"2191.92\" cy=\"559.845\" r=\"14.4\" fill=\"#009af9\" fill-rule=\"evenodd\" fill-opacity=\"1\" stroke=\"#000000\" stroke-opacity=\"1\" stroke-width=\"3.2\"/>\n",
       "<circle clip-path=\"url(#clip152)\" cx=\"2200.56\" cy=\"535.019\" r=\"14.4\" fill=\"#009af9\" fill-rule=\"evenodd\" fill-opacity=\"1\" stroke=\"#000000\" stroke-opacity=\"1\" stroke-width=\"3.2\"/>\n",
       "<circle clip-path=\"url(#clip152)\" cx=\"2209.21\" cy=\"508.128\" r=\"14.4\" fill=\"#009af9\" fill-rule=\"evenodd\" fill-opacity=\"1\" stroke=\"#000000\" stroke-opacity=\"1\" stroke-width=\"3.2\"/>\n",
       "<circle clip-path=\"url(#clip152)\" cx=\"2217.86\" cy=\"479.022\" r=\"14.4\" fill=\"#009af9\" fill-rule=\"evenodd\" fill-opacity=\"1\" stroke=\"#000000\" stroke-opacity=\"1\" stroke-width=\"3.2\"/>\n",
       "<circle clip-path=\"url(#clip152)\" cx=\"2226.51\" cy=\"447.545\" r=\"14.4\" fill=\"#009af9\" fill-rule=\"evenodd\" fill-opacity=\"1\" stroke=\"#000000\" stroke-opacity=\"1\" stroke-width=\"3.2\"/>\n",
       "<circle clip-path=\"url(#clip152)\" cx=\"2235.15\" cy=\"413.527\" r=\"14.4\" fill=\"#009af9\" fill-rule=\"evenodd\" fill-opacity=\"1\" stroke=\"#000000\" stroke-opacity=\"1\" stroke-width=\"3.2\"/>\n",
       "<circle clip-path=\"url(#clip152)\" cx=\"2243.8\" cy=\"376.792\" r=\"14.4\" fill=\"#009af9\" fill-rule=\"evenodd\" fill-opacity=\"1\" stroke=\"#000000\" stroke-opacity=\"1\" stroke-width=\"3.2\"/>\n",
       "<circle clip-path=\"url(#clip152)\" cx=\"2252.45\" cy=\"337.151\" r=\"14.4\" fill=\"#009af9\" fill-rule=\"evenodd\" fill-opacity=\"1\" stroke=\"#000000\" stroke-opacity=\"1\" stroke-width=\"3.2\"/>\n",
       "<circle clip-path=\"url(#clip152)\" cx=\"2261.09\" cy=\"294.406\" r=\"14.4\" fill=\"#009af9\" fill-rule=\"evenodd\" fill-opacity=\"1\" stroke=\"#000000\" stroke-opacity=\"1\" stroke-width=\"3.2\"/>\n",
       "<circle clip-path=\"url(#clip152)\" cx=\"2269.74\" cy=\"248.345\" r=\"14.4\" fill=\"#009af9\" fill-rule=\"evenodd\" fill-opacity=\"1\" stroke=\"#000000\" stroke-opacity=\"1\" stroke-width=\"3.2\"/>\n",
       "<circle clip-path=\"url(#clip152)\" cx=\"2278.39\" cy=\"198.746\" r=\"14.4\" fill=\"#009af9\" fill-rule=\"evenodd\" fill-opacity=\"1\" stroke=\"#000000\" stroke-opacity=\"1\" stroke-width=\"3.2\"/>\n",
       "<circle clip-path=\"url(#clip152)\" cx=\"2287.04\" cy=\"145.372\" r=\"14.4\" fill=\"#009af9\" fill-rule=\"evenodd\" fill-opacity=\"1\" stroke=\"#000000\" stroke-opacity=\"1\" stroke-width=\"3.2\"/>\n",
       "<circle clip-path=\"url(#clip152)\" cx=\"2295.68\" cy=\"87.9763\" r=\"14.4\" fill=\"#009af9\" fill-rule=\"evenodd\" fill-opacity=\"1\" stroke=\"#000000\" stroke-opacity=\"1\" stroke-width=\"3.2\"/>\n",
       "<polyline clip-path=\"url(#clip152)\" style=\"stroke:#e26f46; stroke-linecap:round; stroke-linejoin:round; stroke-width:4; stroke-opacity:1; fill:none\" points=\"393.277,1445.72 401.925,1396.13 410.572,1350.09 419.219,1307.36 427.867,1267.73 436.514,1231.01 445.161,1197 453.809,1165.54 462.456,1136.44 471.103,1109.56 479.75,1084.75 488.398,1061.86 497.045,1040.76 505.692,1021.33 514.34,1003.45 522.987,987.02 531.634,971.925 540.282,958.074 548.929,945.375 557.576,933.743 566.223,923.1 574.871,913.371 583.518,904.487 592.165,896.382 600.813,888.997 609.46,882.274 618.107,876.161 626.755,870.609 635.402,865.573 644.049,861.01 652.696,856.88 661.344,853.148 669.991,849.779 678.638,846.742 687.286,844.008 695.933,841.551 704.58,839.344 713.228,837.367 721.875,835.597 730.522,834.015 739.169,832.604 747.817,831.348 756.464,830.23 765.111,829.238 773.759,828.359 782.406,827.582 791.053,826.896 799.701,826.291 808.348,825.76 816.995,825.294 825.642,824.885 834.29,824.529 842.937,824.218 851.584,823.948 860.232,823.714 868.879,823.511 877.526,823.336 886.174,823.186 894.821,823.057 903.468,822.947 912.115,822.853 920.763,822.773 929.41,822.705 938.057,822.648 946.705,822.6 955.352,822.56 963.999,822.526 972.647,822.498 981.294,822.475 989.941,822.456 998.588,822.441 1007.24,822.428 1015.88,822.418 1024.53,822.409 1033.18,822.403 1041.83,822.397 1050.47,822.393 1059.12,822.39 1067.77,822.387 1076.41,822.385 1085.06,822.384 1093.71,822.383 1102.36,822.382 1111,822.381 1119.65,822.381 1128.3,822.38 1136.95,822.38 1145.59,822.38 1154.24,822.38 1162.89,822.38 1171.53,822.38 1180.18,822.38 1188.83,822.38 1197.48,822.38 1206.12,822.38 1214.77,822.38 1223.42,822.38 1232.07,822.38 1240.71,822.38 1249.36,822.38 1258.01,822.38 1266.65,822.38 1275.3,822.38 1283.95,822.38 1292.6,822.38 1301.24,822.38 1309.89,822.38 1318.54,822.38 1327.19,822.38 1335.83,822.38 1344.48,822.38 1353.13,822.38 1361.78,822.38 1370.42,822.38 1379.07,822.38 1387.72,822.38 1396.36,822.38 1405.01,822.38 1413.66,822.38 1422.31,822.38 1430.95,822.38 1439.6,822.38 1448.25,822.38 1456.9,822.38 1465.54,822.38 1474.19,822.38 1482.84,822.38 1491.48,822.379 1500.13,822.379 1508.78,822.379 1517.43,822.379 1526.07,822.379 1534.72,822.379 1543.37,822.379 1552.02,822.378 1560.66,822.378 1569.31,822.377 1577.96,822.376 1586.6,822.375 1595.25,822.374 1603.9,822.372 1612.55,822.369 1621.19,822.366 1629.84,822.361 1638.49,822.356 1647.14,822.349 1655.78,822.341 1664.43,822.331 1673.08,822.318 1681.73,822.302 1690.37,822.283 1699.02,822.26 1707.67,822.232 1716.31,822.198 1724.96,822.158 1733.61,822.109 1742.26,822.052 1750.9,821.984 1759.55,821.904 1768.2,821.809 1776.85,821.699 1785.49,821.569 1794.14,821.419 1802.79,821.243 1811.43,821.04 1820.08,820.805 1828.73,820.535 1837.38,820.223 1846.02,819.866 1854.67,819.457 1863.32,818.99 1871.97,818.458 1880.61,817.852 1889.26,817.165 1897.91,816.386 1906.56,815.506 1915.2,814.513 1923.85,813.394 1932.5,812.135 1941.14,810.723 1949.79,809.139 1958.44,807.367 1967.09,805.388 1975.73,803.179 1984.38,800.719 1993.03,797.982 2001.68,794.943 2010.32,791.571 2018.97,787.835 2027.62,783.702 2036.26,779.136 2044.91,774.095 2053.56,768.54 2062.21,762.423 2070.85,755.695 2079.5,748.305 2088.15,740.195 2096.8,731.305 2105.44,721.57 2114.09,710.921 2122.74,699.283 2131.38,686.577 2140.03,672.719 2148.68,657.617 2157.33,641.174 2165.97,623.289 2174.62,603.852 2183.27,582.745 2191.92,559.845 2200.56,535.019 2209.21,508.128 2217.86,479.022 2226.51,447.545 2235.15,413.527 2243.8,376.792 2252.45,337.151 2261.09,294.406 2269.74,248.345 2278.39,198.746 2287.04,145.372 2295.68,87.9763 \"/>\n",
       "<polyline clip-path=\"url(#clip152)\" style=\"stroke:#3da44d; stroke-linecap:round; stroke-linejoin:round; stroke-width:4; stroke-opacity:1; fill:none\" points=\"393.277,1445.72 401.925,1396.13 410.572,1350.09 419.219,1307.36 427.867,1267.73 436.514,1231.01 445.161,1197 453.809,1165.54 462.456,1136.44 471.103,1109.56 479.75,1084.75 488.398,1061.86 497.045,1040.76 505.692,1021.33 514.34,1003.45 522.987,987.02 531.634,971.925 540.282,958.074 548.929,945.375 557.576,933.743 566.223,923.1 574.871,913.371 583.518,904.487 592.165,896.382 600.813,888.997 609.46,882.274 618.107,876.161 626.755,870.609 635.402,865.573 644.049,861.01 652.696,856.88 661.344,853.148 669.991,849.779 678.638,846.742 687.286,844.008 695.933,841.551 704.58,839.344 713.228,837.367 721.875,835.597 730.522,834.015 739.169,832.604 747.817,831.348 756.464,830.23 765.111,829.238 773.759,828.359 782.406,827.582 791.053,826.896 799.701,826.291 808.348,825.76 816.995,825.294 825.642,824.885 834.29,824.529 842.937,824.218 851.584,823.948 860.232,823.714 868.879,823.511 877.526,823.336 886.174,823.186 894.821,823.057 903.468,822.947 912.115,822.853 920.763,822.773 929.41,822.705 938.057,822.648 946.705,822.6 955.352,822.56 963.999,822.526 972.647,822.498 981.294,822.475 989.941,822.456 998.588,822.441 1007.24,822.428 1015.88,822.418 1024.53,822.409 1033.18,822.403 1041.83,822.397 1050.47,822.393 1059.12,822.39 1067.77,822.387 1076.41,822.385 1085.06,822.384 1093.71,822.383 1102.36,822.382 1111,822.381 1119.65,822.381 1128.3,822.38 1136.95,822.38 1145.59,822.38 1154.24,822.38 1162.89,822.38 1171.53,822.38 1180.18,822.38 1188.83,822.38 1197.48,822.38 1206.12,822.38 1214.77,822.38 1223.42,822.38 1232.07,822.38 1240.71,822.38 1249.36,822.38 1258.01,822.38 1266.65,822.38 1275.3,822.38 1283.95,822.38 1292.6,822.38 1301.24,822.38 1309.89,822.38 1318.54,822.38 1327.19,822.38 1335.83,822.38 1344.48,822.38 1353.13,822.38 1361.78,822.38 1370.42,822.38 1379.07,822.38 1387.72,822.38 1396.36,822.38 1405.01,822.38 1413.66,822.38 1422.31,822.38 1430.95,822.38 1439.6,822.38 1448.25,822.38 1456.9,822.38 1465.54,822.38 1474.19,822.38 1482.84,822.38 1491.48,822.379 1500.13,822.379 1508.78,822.379 1517.43,822.379 1526.07,822.379 1534.72,822.379 1543.37,822.379 1552.02,822.378 1560.66,822.378 1569.31,822.377 1577.96,822.376 1586.6,822.375 1595.25,822.374 1603.9,822.372 1612.55,822.369 1621.19,822.366 1629.84,822.361 1638.49,822.356 1647.14,822.349 1655.78,822.341 1664.43,822.331 1673.08,822.318 1681.73,822.302 1690.37,822.283 1699.02,822.26 1707.67,822.232 1716.31,822.198 1724.96,822.158 1733.61,822.109 1742.26,822.052 1750.9,821.984 1759.55,821.904 1768.2,821.809 1776.85,821.699 1785.49,821.569 1794.14,821.419 1802.79,821.243 1811.43,821.04 1820.08,820.805 1828.73,820.535 1837.38,820.223 1846.02,819.866 1854.67,819.457 1863.32,818.99 1871.97,818.458 1880.61,817.852 1889.26,817.165 1897.91,816.386 1906.56,815.506 1915.2,814.513 1923.85,813.394 1932.5,812.135 1941.14,810.723 1949.79,809.139 1958.44,807.367 1967.09,805.388 1975.73,803.179 1984.38,800.719 1993.03,797.982 2001.68,794.943 2010.32,791.571 2018.97,787.835 2027.62,783.702 2036.26,779.136 2044.91,774.095 2053.56,768.54 2062.21,762.423 2070.85,755.695 2079.5,748.305 2088.15,740.195 2096.8,731.305 2105.44,721.57 2114.09,710.921 2122.74,699.283 2131.38,686.577 2140.03,672.719 2148.68,657.617 2157.33,641.174 2165.97,623.289 2174.62,603.852 2183.27,582.745 2191.92,559.845 2200.56,535.019 2209.21,508.128 2217.86,479.022 2226.51,447.545 2235.15,413.527 2243.8,376.792 2252.45,337.151 2261.09,294.406 2269.74,248.345 2278.39,198.746 2287.04,145.372 2295.68,87.9763 \"/>\n",
       "<path clip-path=\"url(#clip150)\" d=\"M403.424 302.578 L658.088 302.578 L658.088 95.2176 L403.424 95.2176  Z\" fill=\"#ffffff\" fill-rule=\"evenodd\" fill-opacity=\"1\"/>\n",
       "<polyline clip-path=\"url(#clip150)\" style=\"stroke:#000000; stroke-linecap:round; stroke-linejoin:round; stroke-width:4; stroke-opacity:1; fill:none\" points=\"403.424,302.578 658.088,302.578 658.088,95.2176 403.424,95.2176 403.424,302.578 \"/>\n",
       "<circle clip-path=\"url(#clip150)\" cx=\"493.048\" cy=\"147.058\" r=\"23.04\" fill=\"#009af9\" fill-rule=\"evenodd\" fill-opacity=\"1\" stroke=\"#000000\" stroke-opacity=\"1\" stroke-width=\"5.12\"/>\n",
       "<path clip-path=\"url(#clip150)\" d=\"M596.515 166.745 Q594.709 171.375 592.997 172.787 Q591.284 174.199 588.413 174.199 L585.01 174.199 L585.01 170.634 L587.51 170.634 Q589.27 170.634 590.242 169.8 Q591.214 168.967 592.395 165.865 L593.159 163.921 L582.673 138.412 L587.186 138.412 L595.288 158.689 L603.39 138.412 L607.904 138.412 L596.515 166.745 Z\" fill=\"#000000\" fill-rule=\"evenodd\" fill-opacity=\"1\" /><path clip-path=\"url(#clip150)\" d=\"M615.195 160.402 L622.834 160.402 L622.834 134.037 L614.524 135.703 L614.524 131.444 L622.788 129.778 L627.464 129.778 L627.464 160.402 L635.103 160.402 L635.103 164.338 L615.195 164.338 L615.195 160.402 Z\" fill=\"#000000\" fill-rule=\"evenodd\" fill-opacity=\"1\" /><polyline clip-path=\"url(#clip150)\" style=\"stroke:#e26f46; stroke-linecap:round; stroke-linejoin:round; stroke-width:4; stroke-opacity:1; fill:none\" points=\"425.83,198.898 560.266,198.898 \"/>\n",
       "<path clip-path=\"url(#clip150)\" d=\"M596.515 218.585 Q594.709 223.215 592.997 224.627 Q591.284 226.039 588.413 226.039 L585.01 226.039 L585.01 222.474 L587.51 222.474 Q589.27 222.474 590.242 221.64 Q591.214 220.807 592.395 217.705 L593.159 215.761 L582.673 190.252 L587.186 190.252 L595.288 210.529 L603.39 190.252 L607.904 190.252 L596.515 218.585 Z\" fill=\"#000000\" fill-rule=\"evenodd\" fill-opacity=\"1\" /><path clip-path=\"url(#clip150)\" d=\"M618.413 212.242 L634.732 212.242 L634.732 216.178 L612.788 216.178 L612.788 212.242 Q615.45 209.488 620.033 204.858 Q624.64 200.205 625.82 198.863 Q628.066 196.34 628.945 194.604 Q629.848 192.844 629.848 191.155 Q629.848 188.4 627.904 186.664 Q625.982 184.928 622.881 184.928 Q620.682 184.928 618.228 185.692 Q615.797 186.455 613.02 188.006 L613.02 183.284 Q615.844 182.15 618.297 181.571 Q620.751 180.993 622.788 180.993 Q628.158 180.993 631.353 183.678 Q634.547 186.363 634.547 190.854 Q634.547 192.983 633.737 194.905 Q632.95 196.803 630.844 199.395 Q630.265 200.067 627.163 203.284 Q624.061 206.479 618.413 212.242 Z\" fill=\"#000000\" fill-rule=\"evenodd\" fill-opacity=\"1\" /><polyline clip-path=\"url(#clip150)\" style=\"stroke:#3da44d; stroke-linecap:round; stroke-linejoin:round; stroke-width:4; stroke-opacity:1; fill:none\" points=\"425.83,250.738 560.266,250.738 \"/>\n",
       "<path clip-path=\"url(#clip150)\" d=\"M596.515 270.425 Q594.709 275.055 592.997 276.467 Q591.284 277.879 588.413 277.879 L585.01 277.879 L585.01 274.314 L587.51 274.314 Q589.27 274.314 590.242 273.48 Q591.214 272.647 592.395 269.545 L593.159 267.601 L582.673 242.092 L587.186 242.092 L595.288 262.369 L603.39 242.092 L607.904 242.092 L596.515 270.425 Z\" fill=\"#000000\" fill-rule=\"evenodd\" fill-opacity=\"1\" /><path clip-path=\"url(#clip150)\" d=\"M628.552 249.383 Q631.908 250.101 633.783 252.369 Q635.681 254.638 635.681 257.971 Q635.681 263.087 632.163 265.888 Q628.644 268.689 622.163 268.689 Q619.987 268.689 617.672 268.249 Q615.381 267.832 612.927 266.976 L612.927 262.462 Q614.871 263.596 617.186 264.175 Q619.501 264.754 622.024 264.754 Q626.422 264.754 628.714 263.018 Q631.029 261.281 631.029 257.971 Q631.029 254.916 628.876 253.203 Q626.746 251.467 622.927 251.467 L618.899 251.467 L618.899 247.624 L623.112 247.624 Q626.561 247.624 628.39 246.258 Q630.219 244.87 630.219 242.277 Q630.219 239.615 628.32 238.203 Q626.445 236.768 622.927 236.768 Q621.006 236.768 618.807 237.184 Q616.608 237.601 613.969 238.481 L613.969 234.314 Q616.631 233.573 618.945 233.203 Q621.283 232.833 623.344 232.833 Q628.668 232.833 631.769 235.263 Q634.871 237.67 634.871 241.791 Q634.871 244.661 633.228 246.652 Q631.584 248.62 628.552 249.383 Z\" fill=\"#000000\" fill-rule=\"evenodd\" fill-opacity=\"1\" /></svg>\n"
      ]
     },
     "execution_count": 227,
     "metadata": {},
     "output_type": "execute_result"
    }
   ],
   "source": [
    "scatter(x_fit,y_ob3)\n",
    "plot!(x_fit,y_t3)\n",
    "plot!(x_fit,y_fitted3)"
   ]
  },
  {
   "cell_type": "markdown",
   "id": "bbcb4ef4",
   "metadata": {},
   "source": [
    "3. What do you observe in the plot? What is this phenomenon called?"
   ]
  },
  {
   "cell_type": "markdown",
   "id": "49a085b1",
   "metadata": {},
   "source": [
    "y observed fits on the fitted polynomial. The polynomial is more complex, and this can lead to \"over-fitting.\""
   ]
  }
 ],
 "metadata": {
  "kernelspec": {
   "display_name": "Julia 1.8.5",
   "language": "julia",
   "name": "julia-1.8"
  },
  "language_info": {
   "file_extension": ".jl",
   "mimetype": "application/julia",
   "name": "julia",
   "version": "1.8.5"
  }
 },
 "nbformat": 4,
 "nbformat_minor": 5
}
