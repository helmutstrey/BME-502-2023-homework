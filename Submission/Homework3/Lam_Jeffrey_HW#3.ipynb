{
 "cells": [
  {
   "cell_type": "markdown",
   "id": "1fbe377b",
   "metadata": {},
   "source": [
    "<h1>HW3</h1>"
   ]
  },
  {
   "cell_type": "markdown",
   "id": "79813e24",
   "metadata": {},
   "source": [
    "# Question 1\n",
    "### (Bayes Theorem) Read the following example and complete the exercises \n",
    "\n",
    "Trolls Under the Bridge\n",
    "1. Trolls(T) are bad\n",
    "2. Gnomes(G) are benign\n",
    "3. Every bridge has 5 creatures under it\n",
    "\n",
    "Below are the probabilities of what creatures live under a bridge:\n",
    "1. TTGGG: 20% (E1)\n",
    "2. TGGGG: 20% (E2)\n",
    "3. GGGGG: 60% (E3)\n",
    "\n",
    "A knight is approaching a bridge and he wants to know his chance of crossing the bridge safely."
   ]
  },
  {
   "cell_type": "markdown",
   "id": "425f8583",
   "metadata": {},
   "source": [
    "### 1.1 \n",
    "\n",
    "#### What is the chance of the knight crossing the bridge safely?\n"
   ]
  },
  {
   "cell_type": "markdown",
   "id": "df057392",
   "metadata": {},
   "source": [
    "0.6 or 60%"
   ]
  },
  {
   "cell_type": "markdown",
   "id": "61f687e4",
   "metadata": {},
   "source": [
    "### 1.2\n",
    "\n",
    "#### Before crossing a bridge, a knight captures a troll. “I now have an 80% chance of crossing safely,” he reasons, “since only the case 20% had TTGGG (E1) now have TGGG is still a threat.”\n",
    "\n",
    "#### Do you agree with him? Why?"
   ]
  },
  {
   "cell_type": "markdown",
   "id": "09025213",
   "metadata": {},
   "source": [
    "I don't agree because before he captured a troll hi odds for survial was 60%, but now that he has to capture a troll he elimates the option of not encountering a troll at all. Thus, there are 3 possible trolls we could encounter and a 2/3 chance that he encounters a group that contains 2 trolls. If he encounters this group of creatures he will get hit by a troll after capture, ths having a 2/3 chance of getting hit. This leaves him with only 1/3 or 33.3 percent chance of encountering only one troll and surviving. Compared to not capturing, his odds for survival is reduced.  "
   ]
  },
  {
   "cell_type": "markdown",
   "id": "c1533b67",
   "metadata": {},
   "source": [
    "### 1.3\n",
    "\n",
    "#### Now he wants to use Bayes' theorem to calculate his chance of crossing safely given a troll captured \n",
    "\n",
    "\\begin{equation*}\n",
    "P(A|B) = \\frac{P(B|A)P(A)}{P(B)} \\\\\n",
    "P(A|B): Posteior \\\\\n",
    "P(B|A): Likelihood \\\\\n",
    "P(A): Prior \\\\\n",
    "P(B): Marginal Probability \\\\\n",
    "\\end{equation*}\n",
    "\n",
    "#### Given the three events, E1, E2, and E3, which two of the three events does the knight need to consider after a troll was captured?"
   ]
  },
  {
   "cell_type": "markdown",
   "id": "0adb7f0a",
   "metadata": {},
   "source": [
    "E1 and E2 because given that a troll is captured his odds for E3 are gone. "
   ]
  },
  {
   "cell_type": "markdown",
   "id": "e45e8fa6",
   "metadata": {},
   "source": [
    "### 1.4\n",
    "\n",
    "#### Use Bayes' theorem to calculate the probability of the two events in 1.3 (separately) given the troll was captured. "
   ]
  },
  {
   "cell_type": "markdown",
   "id": "5d9c3c0b",
   "metadata": {},
   "source": [
    "Probability of one event given a troll captured: "
   ]
  },
  {
   "cell_type": "code",
   "execution_count": 64,
   "id": "f2f0e7c8",
   "metadata": {},
   "outputs": [
    {
     "name": "stdout",
     "output_type": "stream",
     "text": [
      "the probability that Bayes encounters a troll given capturing in E1 is 0.6666666666666666\n"
     ]
    }
   ],
   "source": [
    "#Prior = P(encountering a troll E1) = 1/5\n",
    "#Likelihood = P(capturing a troll given that he encounters a troll E1) = 2/5\n",
    "#marginal Probability = P(encounter a troll and getting to each path) = (2/5*1/5)+(1/5*1/5)+(0*3/5)\n",
    "#Posterior = P(encounter a troll given that he encountera troll) = Likelihood * Prior / Marginal Probability\n",
    "P_trollE1 = 1/5\n",
    "P_captureafterencounterE1 = 2/5\n",
    "P_encounterinallE = ((2/5)*(1/5))+((1/5)*(1/5))+((0)*(3/5))\n",
    "P_encounteraftercaptureE1 = P_trollE1 * P_captureafterencounterE1 / P_encounterinallE\n",
    "println(\"the probability that the knight encounters a troll given capturing in E1 is $P_encounteraftercaptureE1\")"
   ]
  },
  {
   "cell_type": "markdown",
   "id": "37843aee",
   "metadata": {},
   "source": [
    "Probability of the other event given a troll captured: "
   ]
  },
  {
   "cell_type": "code",
   "execution_count": 63,
   "id": "5db10bc7",
   "metadata": {},
   "outputs": [
    {
     "name": "stdout",
     "output_type": "stream",
     "text": [
      "the probability that Bayes encounters a troll given capturing in E2 is 0.3333333333333333\n"
     ]
    }
   ],
   "source": [
    "#Prior = P(encountering a troll E2) = 1/5\n",
    "#Likelihood = P(capturing a troll given that he encounters a troll E2) = 1/5\n",
    "#marginal Probability = P(encounter a troll and getting to each path) = (2/5*1/5)+(1/5*1/5)+(0*3/5)\n",
    "#Posterior = P(encounter a troll given that he encountera troll) = Likelihood * Prior / Marginal Probability\n",
    "P_trollE2 = 1/5\n",
    "P_captureafterencounterE2 = 1/5\n",
    "P_encounterinallE = ((2/5)*(1/5))+((1/5)*(1/5))+((0)*(3/5))\n",
    "P_encounteraftercaptureE2 = P_trollE1 * P_captureafterencounterE2 / P_encounterinallE\n",
    "println(\"the probability that the knight encounters a troll given capturing in E2 is $P_encounteraftercaptureE2\")"
   ]
  },
  {
   "cell_type": "markdown",
   "id": "f3b7f049",
   "metadata": {},
   "source": [
    "### 1.5\n",
    "\n",
    "#### What is the chance of the knight crossing safely?"
   ]
  },
  {
   "cell_type": "markdown",
   "id": "a172d818",
   "metadata": {},
   "source": [
    "In order for the knight to cross safely he must not encounter a second troll (E1), thus he must encounter E2, in which his odds are 1/3 or 33.3 percent "
   ]
  },
  {
   "cell_type": "markdown",
   "id": "7b815ae0",
   "metadata": {},
   "source": [
    "#### Now looking back to 1.1, the probabilities were changed after assimilating data! "
   ]
  },
  {
   "cell_type": "markdown",
   "id": "f1450094",
   "metadata": {},
   "source": [
    "# Question 2\n",
    "### (Polynomial Fitting) Read the following example and complete the exercises \n",
    "\n",
    "Biological data always comes with errors that influence the intepretation of the data significantly. In this question, we will simulate data and see how noises affect the parameter estimation."
   ]
  },
  {
   "cell_type": "code",
   "execution_count": 7,
   "id": "c20822fa",
   "metadata": {},
   "outputs": [
    {
     "name": "stderr",
     "output_type": "stream",
     "text": [
      "\u001b[32m\u001b[1m    Updating\u001b[22m\u001b[39m registry at `~/.julia/registries/General.toml`\n",
      "\u001b[32m\u001b[1m   Resolving\u001b[22m\u001b[39m package versions...\n",
      "\u001b[32m\u001b[1m  No Changes\u001b[22m\u001b[39m to `~/.julia/environments/v1.8/Project.toml`\n",
      "\u001b[32m\u001b[1m  No Changes\u001b[22m\u001b[39m to `~/.julia/environments/v1.8/Manifest.toml`\n"
     ]
    }
   ],
   "source": [
    "import Pkg\n",
    "Pkg.add([\"Distributions\", \"Plots\", \"Polynomials\", \"Random\"])"
   ]
  },
  {
   "cell_type": "code",
   "execution_count": 8,
   "id": "d7d1ca8d",
   "metadata": {},
   "outputs": [],
   "source": [
    "import Distributions as di\n",
    "import Plots\n",
    "import Polynomials\n",
    "import Random"
   ]
  },
  {
   "cell_type": "markdown",
   "id": "a90dd09d",
   "metadata": {},
   "source": [
    "### 2.1\n",
    "\n",
    "1. Generate the independent variable x ranging from -10 to 10 with an increment of 1\n",
    "2. Generate the dependent variable y_true using the equation y_true = x^2 + 3x - 2\n"
   ]
  },
  {
   "cell_type": "code",
   "execution_count": 9,
   "id": "6b0b33c5",
   "metadata": {},
   "outputs": [
    {
     "data": {
      "text/plain": [
       "21-element Vector{Float64}:\n",
       "  68.0\n",
       "  52.0\n",
       "  38.0\n",
       "  26.0\n",
       "  16.0\n",
       "   8.0\n",
       "   2.0\n",
       "  -2.0\n",
       "  -4.0\n",
       "  -4.0\n",
       "  -2.0\n",
       "   2.0\n",
       "   8.0\n",
       "  16.0\n",
       "  26.0\n",
       "  38.0\n",
       "  52.0\n",
       "  68.0\n",
       "  86.0\n",
       " 106.0\n",
       " 128.0"
      ]
     },
     "execution_count": 9,
     "metadata": {},
     "output_type": "execute_result"
    }
   ],
   "source": [
    "x = -10:1:10\n",
    "f(x) = x .^2 + 3.0 .* x - 2\n",
    "y_true = f.(x)"
   ]
  },
  {
   "cell_type": "markdown",
   "id": "74d2a191",
   "metadata": {},
   "source": [
    "### 2.2\n",
    "\n",
    "1. Generate the Guassian noises with zero mean and a standard deviation of 10\n",
    "\n",
    "2. Add the noises to y_true to obtain y_observed\n"
   ]
  },
  {
   "cell_type": "code",
   "execution_count": 10,
   "id": "7936417a",
   "metadata": {},
   "outputs": [
    {
     "data": {
      "text/plain": [
       "21-element Vector{Float64}:\n",
       "  66.68330261587639\n",
       "  61.14573938298743\n",
       "  34.77509139234187\n",
       "  49.26945825251575\n",
       "  25.086094500982995\n",
       "  25.064014875642922\n",
       "  -5.971769275202405\n",
       "  -4.287628684666998\n",
       "  -1.970639598468336\n",
       " -17.62092264086627\n",
       "  -5.869810951586192\n",
       "   4.105597835698104\n",
       "   0.34175265416568124\n",
       "  11.749760500110565\n",
       "  31.721494654938326\n",
       "  53.910294511429655\n",
       "  51.68101164654417\n",
       "  55.44097275533456\n",
       "  90.17078007336868\n",
       "  94.64504447962068\n",
       " 135.59313770708167"
      ]
     },
     "execution_count": 10,
     "metadata": {},
     "output_type": "execute_result"
    }
   ],
   "source": [
    "dataerr = 10\n",
    "d = di.Normal(0,dataerr)\n",
    "y_observed = y_true + rand(d,length(x))"
   ]
  },
  {
   "cell_type": "markdown",
   "id": "ecf2e554",
   "metadata": {},
   "source": [
    "### 2.3\n",
    "\n",
    "#### Fit the data (x, y_observed) with a second order polynomial. \n",
    "\n",
    "1. Make a scatter plot of y_observed along x\n",
    "2. Plot a line of y_true along x on the scatter plot\n",
    "3. Plot a line of the fitted polynomial along x on the same plot"
   ]
  },
  {
   "cell_type": "code",
   "execution_count": 51,
   "id": "d39a136b",
   "metadata": {},
   "outputs": [
    {
     "data": {
      "image/svg+xml": [
       "<?xml version=\"1.0\" encoding=\"utf-8\"?>\n",
       "<svg xmlns=\"http://www.w3.org/2000/svg\" xmlns:xlink=\"http://www.w3.org/1999/xlink\" width=\"600\" height=\"400\" viewBox=\"0 0 2400 1600\">\n",
       "<defs>\n",
       "  <clipPath id=\"clip170\">\n",
       "    <rect x=\"0\" y=\"0\" width=\"2400\" height=\"1600\"/>\n",
       "  </clipPath>\n",
       "</defs>\n",
       "<path clip-path=\"url(#clip170)\" d=\"M0 1600 L2400 1600 L2400 0 L0 0  Z\" fill=\"#ffffff\" fill-rule=\"evenodd\" fill-opacity=\"1\"/>\n",
       "<defs>\n",
       "  <clipPath id=\"clip171\">\n",
       "    <rect x=\"480\" y=\"0\" width=\"1681\" height=\"1600\"/>\n",
       "  </clipPath>\n",
       "</defs>\n",
       "<path clip-path=\"url(#clip170)\" d=\"M178.867 1486.45 L2352.76 1486.45 L2352.76 47.2441 L178.867 47.2441  Z\" fill=\"#ffffff\" fill-rule=\"evenodd\" fill-opacity=\"1\"/>\n",
       "<defs>\n",
       "  <clipPath id=\"clip172\">\n",
       "    <rect x=\"178\" y=\"47\" width=\"2175\" height=\"1440\"/>\n",
       "  </clipPath>\n",
       "</defs>\n",
       "<polyline clip-path=\"url(#clip172)\" style=\"stroke:#000000; stroke-linecap:round; stroke-linejoin:round; stroke-width:2; stroke-opacity:0.1; fill:none\" points=\"240.392,1486.45 240.392,47.2441 \"/>\n",
       "<polyline clip-path=\"url(#clip172)\" style=\"stroke:#000000; stroke-linecap:round; stroke-linejoin:round; stroke-width:2; stroke-opacity:0.1; fill:none\" points=\"753.102,1486.45 753.102,47.2441 \"/>\n",
       "<polyline clip-path=\"url(#clip172)\" style=\"stroke:#000000; stroke-linecap:round; stroke-linejoin:round; stroke-width:2; stroke-opacity:0.1; fill:none\" points=\"1265.81,1486.45 1265.81,47.2441 \"/>\n",
       "<polyline clip-path=\"url(#clip172)\" style=\"stroke:#000000; stroke-linecap:round; stroke-linejoin:round; stroke-width:2; stroke-opacity:0.1; fill:none\" points=\"1778.52,1486.45 1778.52,47.2441 \"/>\n",
       "<polyline clip-path=\"url(#clip172)\" style=\"stroke:#000000; stroke-linecap:round; stroke-linejoin:round; stroke-width:2; stroke-opacity:0.1; fill:none\" points=\"2291.23,1486.45 2291.23,47.2441 \"/>\n",
       "<polyline clip-path=\"url(#clip170)\" style=\"stroke:#000000; stroke-linecap:round; stroke-linejoin:round; stroke-width:4; stroke-opacity:1; fill:none\" points=\"178.867,1486.45 2352.76,1486.45 \"/>\n",
       "<polyline clip-path=\"url(#clip170)\" style=\"stroke:#000000; stroke-linecap:round; stroke-linejoin:round; stroke-width:4; stroke-opacity:1; fill:none\" points=\"240.392,1486.45 240.392,1467.55 \"/>\n",
       "<polyline clip-path=\"url(#clip170)\" style=\"stroke:#000000; stroke-linecap:round; stroke-linejoin:round; stroke-width:4; stroke-opacity:1; fill:none\" points=\"753.102,1486.45 753.102,1467.55 \"/>\n",
       "<polyline clip-path=\"url(#clip170)\" style=\"stroke:#000000; stroke-linecap:round; stroke-linejoin:round; stroke-width:4; stroke-opacity:1; fill:none\" points=\"1265.81,1486.45 1265.81,1467.55 \"/>\n",
       "<polyline clip-path=\"url(#clip170)\" style=\"stroke:#000000; stroke-linecap:round; stroke-linejoin:round; stroke-width:4; stroke-opacity:1; fill:none\" points=\"1778.52,1486.45 1778.52,1467.55 \"/>\n",
       "<polyline clip-path=\"url(#clip170)\" style=\"stroke:#000000; stroke-linecap:round; stroke-linejoin:round; stroke-width:4; stroke-opacity:1; fill:none\" points=\"2291.23,1486.45 2291.23,1467.55 \"/>\n",
       "<path clip-path=\"url(#clip170)\" d=\"M194.455 1532.02 L224.13 1532.02 L224.13 1535.95 L194.455 1535.95 L194.455 1532.02 Z\" fill=\"#000000\" fill-rule=\"evenodd\" fill-opacity=\"1\" /><path clip-path=\"url(#clip170)\" d=\"M235.033 1544.91 L242.672 1544.91 L242.672 1518.55 L234.362 1520.21 L234.362 1515.95 L242.626 1514.29 L247.301 1514.29 L247.301 1544.91 L254.94 1544.91 L254.94 1548.85 L235.033 1548.85 L235.033 1544.91 Z\" fill=\"#000000\" fill-rule=\"evenodd\" fill-opacity=\"1\" /><path clip-path=\"url(#clip170)\" d=\"M274.385 1517.37 Q270.774 1517.37 268.945 1520.93 Q267.139 1524.47 267.139 1531.6 Q267.139 1538.71 268.945 1542.27 Q270.774 1545.82 274.385 1545.82 Q278.019 1545.82 279.824 1542.27 Q281.653 1538.71 281.653 1531.6 Q281.653 1524.47 279.824 1520.93 Q278.019 1517.37 274.385 1517.37 M274.385 1513.66 Q280.195 1513.66 283.25 1518.27 Q286.329 1522.85 286.329 1531.6 Q286.329 1540.33 283.25 1544.94 Q280.195 1549.52 274.385 1549.52 Q268.575 1549.52 265.496 1544.94 Q262.44 1540.33 262.44 1531.6 Q262.44 1522.85 265.496 1518.27 Q268.575 1513.66 274.385 1513.66 Z\" fill=\"#000000\" fill-rule=\"evenodd\" fill-opacity=\"1\" /><path clip-path=\"url(#clip170)\" d=\"M722.743 1532.02 L752.419 1532.02 L752.419 1535.95 L722.743 1535.95 L722.743 1532.02 Z\" fill=\"#000000\" fill-rule=\"evenodd\" fill-opacity=\"1\" /><path clip-path=\"url(#clip170)\" d=\"M762.558 1514.29 L780.914 1514.29 L780.914 1518.22 L766.84 1518.22 L766.84 1526.7 Q767.858 1526.35 768.877 1526.19 Q769.895 1526 770.914 1526 Q776.701 1526 780.081 1529.17 Q783.46 1532.34 783.46 1537.76 Q783.46 1543.34 779.988 1546.44 Q776.516 1549.52 770.196 1549.52 Q768.02 1549.52 765.752 1549.15 Q763.507 1548.78 761.099 1548.04 L761.099 1543.34 Q763.183 1544.47 765.405 1545.03 Q767.627 1545.58 770.104 1545.58 Q774.108 1545.58 776.446 1543.48 Q778.784 1541.37 778.784 1537.76 Q778.784 1534.15 776.446 1532.04 Q774.108 1529.94 770.104 1529.94 Q768.229 1529.94 766.354 1530.35 Q764.502 1530.77 762.558 1531.65 L762.558 1514.29 Z\" fill=\"#000000\" fill-rule=\"evenodd\" fill-opacity=\"1\" /><path clip-path=\"url(#clip170)\" d=\"M1265.81 1517.37 Q1262.2 1517.37 1260.37 1520.93 Q1258.57 1524.47 1258.57 1531.6 Q1258.57 1538.71 1260.37 1542.27 Q1262.2 1545.82 1265.81 1545.82 Q1269.45 1545.82 1271.25 1542.27 Q1273.08 1538.71 1273.08 1531.6 Q1273.08 1524.47 1271.25 1520.93 Q1269.45 1517.37 1265.81 1517.37 M1265.81 1513.66 Q1271.62 1513.66 1274.68 1518.27 Q1277.76 1522.85 1277.76 1531.6 Q1277.76 1540.33 1274.68 1544.94 Q1271.62 1549.52 1265.81 1549.52 Q1260 1549.52 1256.92 1544.94 Q1253.87 1540.33 1253.87 1531.6 Q1253.87 1522.85 1256.92 1518.27 Q1260 1513.66 1265.81 1513.66 Z\" fill=\"#000000\" fill-rule=\"evenodd\" fill-opacity=\"1\" /><path clip-path=\"url(#clip170)\" d=\"M1768.8 1514.29 L1787.16 1514.29 L1787.16 1518.22 L1773.08 1518.22 L1773.08 1526.7 Q1774.1 1526.35 1775.12 1526.19 Q1776.14 1526 1777.16 1526 Q1782.94 1526 1786.32 1529.17 Q1789.7 1532.34 1789.7 1537.76 Q1789.7 1543.34 1786.23 1546.44 Q1782.76 1549.52 1776.44 1549.52 Q1774.26 1549.52 1771.99 1549.15 Q1769.75 1548.78 1767.34 1548.04 L1767.34 1543.34 Q1769.42 1544.47 1771.65 1545.03 Q1773.87 1545.58 1776.35 1545.58 Q1780.35 1545.58 1782.69 1543.48 Q1785.03 1541.37 1785.03 1537.76 Q1785.03 1534.15 1782.69 1532.04 Q1780.35 1529.94 1776.35 1529.94 Q1774.47 1529.94 1772.6 1530.35 Q1770.74 1530.77 1768.8 1531.65 L1768.8 1514.29 Z\" fill=\"#000000\" fill-rule=\"evenodd\" fill-opacity=\"1\" /><path clip-path=\"url(#clip170)\" d=\"M2265.92 1544.91 L2273.56 1544.91 L2273.56 1518.55 L2265.25 1520.21 L2265.25 1515.95 L2273.51 1514.29 L2278.19 1514.29 L2278.19 1544.91 L2285.83 1544.91 L2285.83 1548.85 L2265.92 1548.85 L2265.92 1544.91 Z\" fill=\"#000000\" fill-rule=\"evenodd\" fill-opacity=\"1\" /><path clip-path=\"url(#clip170)\" d=\"M2305.27 1517.37 Q2301.66 1517.37 2299.83 1520.93 Q2298.02 1524.47 2298.02 1531.6 Q2298.02 1538.71 2299.83 1542.27 Q2301.66 1545.82 2305.27 1545.82 Q2308.9 1545.82 2310.71 1542.27 Q2312.54 1538.71 2312.54 1531.6 Q2312.54 1524.47 2310.71 1520.93 Q2308.9 1517.37 2305.27 1517.37 M2305.27 1513.66 Q2311.08 1513.66 2314.14 1518.27 Q2317.21 1522.85 2317.21 1531.6 Q2317.21 1540.33 2314.14 1544.94 Q2311.08 1549.52 2305.27 1549.52 Q2299.46 1549.52 2296.38 1544.94 Q2293.33 1540.33 2293.33 1531.6 Q2293.33 1522.85 2296.38 1518.27 Q2299.46 1513.66 2305.27 1513.66 Z\" fill=\"#000000\" fill-rule=\"evenodd\" fill-opacity=\"1\" /><polyline clip-path=\"url(#clip172)\" style=\"stroke:#000000; stroke-linecap:round; stroke-linejoin:round; stroke-width:2; stroke-opacity:0.1; fill:none\" points=\"178.867,1393.94 2352.76,1393.94 \"/>\n",
       "<polyline clip-path=\"url(#clip172)\" style=\"stroke:#000000; stroke-linecap:round; stroke-linejoin:round; stroke-width:2; stroke-opacity:0.1; fill:none\" points=\"178.867,1217.99 2352.76,1217.99 \"/>\n",
       "<polyline clip-path=\"url(#clip172)\" style=\"stroke:#000000; stroke-linecap:round; stroke-linejoin:round; stroke-width:2; stroke-opacity:0.1; fill:none\" points=\"178.867,1042.05 2352.76,1042.05 \"/>\n",
       "<polyline clip-path=\"url(#clip172)\" style=\"stroke:#000000; stroke-linecap:round; stroke-linejoin:round; stroke-width:2; stroke-opacity:0.1; fill:none\" points=\"178.867,866.104 2352.76,866.104 \"/>\n",
       "<polyline clip-path=\"url(#clip172)\" style=\"stroke:#000000; stroke-linecap:round; stroke-linejoin:round; stroke-width:2; stroke-opacity:0.1; fill:none\" points=\"178.867,690.159 2352.76,690.159 \"/>\n",
       "<polyline clip-path=\"url(#clip172)\" style=\"stroke:#000000; stroke-linecap:round; stroke-linejoin:round; stroke-width:2; stroke-opacity:0.1; fill:none\" points=\"178.867,514.214 2352.76,514.214 \"/>\n",
       "<polyline clip-path=\"url(#clip172)\" style=\"stroke:#000000; stroke-linecap:round; stroke-linejoin:round; stroke-width:2; stroke-opacity:0.1; fill:none\" points=\"178.867,338.269 2352.76,338.269 \"/>\n",
       "<polyline clip-path=\"url(#clip172)\" style=\"stroke:#000000; stroke-linecap:round; stroke-linejoin:round; stroke-width:2; stroke-opacity:0.1; fill:none\" points=\"178.867,162.324 2352.76,162.324 \"/>\n",
       "<polyline clip-path=\"url(#clip170)\" style=\"stroke:#000000; stroke-linecap:round; stroke-linejoin:round; stroke-width:4; stroke-opacity:1; fill:none\" points=\"178.867,1486.45 178.867,47.2441 \"/>\n",
       "<polyline clip-path=\"url(#clip170)\" style=\"stroke:#000000; stroke-linecap:round; stroke-linejoin:round; stroke-width:4; stroke-opacity:1; fill:none\" points=\"178.867,1393.94 197.764,1393.94 \"/>\n",
       "<polyline clip-path=\"url(#clip170)\" style=\"stroke:#000000; stroke-linecap:round; stroke-linejoin:round; stroke-width:4; stroke-opacity:1; fill:none\" points=\"178.867,1217.99 197.764,1217.99 \"/>\n",
       "<polyline clip-path=\"url(#clip170)\" style=\"stroke:#000000; stroke-linecap:round; stroke-linejoin:round; stroke-width:4; stroke-opacity:1; fill:none\" points=\"178.867,1042.05 197.764,1042.05 \"/>\n",
       "<polyline clip-path=\"url(#clip170)\" style=\"stroke:#000000; stroke-linecap:round; stroke-linejoin:round; stroke-width:4; stroke-opacity:1; fill:none\" points=\"178.867,866.104 197.764,866.104 \"/>\n",
       "<polyline clip-path=\"url(#clip170)\" style=\"stroke:#000000; stroke-linecap:round; stroke-linejoin:round; stroke-width:4; stroke-opacity:1; fill:none\" points=\"178.867,690.159 197.764,690.159 \"/>\n",
       "<polyline clip-path=\"url(#clip170)\" style=\"stroke:#000000; stroke-linecap:round; stroke-linejoin:round; stroke-width:4; stroke-opacity:1; fill:none\" points=\"178.867,514.214 197.764,514.214 \"/>\n",
       "<polyline clip-path=\"url(#clip170)\" style=\"stroke:#000000; stroke-linecap:round; stroke-linejoin:round; stroke-width:4; stroke-opacity:1; fill:none\" points=\"178.867,338.269 197.764,338.269 \"/>\n",
       "<polyline clip-path=\"url(#clip170)\" style=\"stroke:#000000; stroke-linecap:round; stroke-linejoin:round; stroke-width:4; stroke-opacity:1; fill:none\" points=\"178.867,162.324 197.764,162.324 \"/>\n",
       "<path clip-path=\"url(#clip170)\" d=\"M50.9921 1394.39 L80.6679 1394.39 L80.6679 1398.33 L50.9921 1398.33 L50.9921 1394.39 Z\" fill=\"#000000\" fill-rule=\"evenodd\" fill-opacity=\"1\" /><path clip-path=\"url(#clip170)\" d=\"M94.7882 1407.28 L111.108 1407.28 L111.108 1411.22 L89.1632 1411.22 L89.1632 1407.28 Q91.8252 1404.53 96.4085 1399.9 Q101.015 1395.25 102.196 1393.9 Q104.441 1391.38 105.321 1389.64 Q106.223 1387.89 106.223 1386.2 Q106.223 1383.44 104.279 1381.7 Q102.358 1379.97 99.2558 1379.97 Q97.0567 1379.97 94.603 1380.73 Q92.1725 1381.5 89.3947 1383.05 L89.3947 1378.33 Q92.2188 1377.19 94.6724 1376.61 Q97.1261 1376.03 99.1632 1376.03 Q104.534 1376.03 107.728 1378.72 Q110.922 1381.4 110.922 1385.89 Q110.922 1388.02 110.112 1389.95 Q109.325 1391.84 107.219 1394.44 Q106.64 1395.11 103.538 1398.33 Q100.436 1401.52 94.7882 1407.28 Z\" fill=\"#000000\" fill-rule=\"evenodd\" fill-opacity=\"1\" /><path clip-path=\"url(#clip170)\" d=\"M130.922 1379.74 Q127.311 1379.74 125.482 1383.3 Q123.677 1386.84 123.677 1393.97 Q123.677 1401.08 125.482 1404.64 Q127.311 1408.19 130.922 1408.19 Q134.556 1408.19 136.362 1404.64 Q138.191 1401.08 138.191 1393.97 Q138.191 1386.84 136.362 1383.3 Q134.556 1379.74 130.922 1379.74 M130.922 1376.03 Q136.732 1376.03 139.788 1380.64 Q142.867 1385.22 142.867 1393.97 Q142.867 1402.7 139.788 1407.31 Q136.732 1411.89 130.922 1411.89 Q125.112 1411.89 122.033 1407.31 Q118.978 1402.7 118.978 1393.97 Q118.978 1385.22 122.033 1380.64 Q125.112 1376.03 130.922 1376.03 Z\" fill=\"#000000\" fill-rule=\"evenodd\" fill-opacity=\"1\" /><path clip-path=\"url(#clip170)\" d=\"M130.922 1203.79 Q127.311 1203.79 125.482 1207.36 Q123.677 1210.9 123.677 1218.03 Q123.677 1225.13 125.482 1228.7 Q127.311 1232.24 130.922 1232.24 Q134.556 1232.24 136.362 1228.7 Q138.191 1225.13 138.191 1218.03 Q138.191 1210.9 136.362 1207.36 Q134.556 1203.79 130.922 1203.79 M130.922 1200.09 Q136.732 1200.09 139.788 1204.7 Q142.867 1209.28 142.867 1218.03 Q142.867 1226.76 139.788 1231.36 Q136.732 1235.94 130.922 1235.94 Q125.112 1235.94 122.033 1231.36 Q118.978 1226.76 118.978 1218.03 Q118.978 1209.28 122.033 1204.7 Q125.112 1200.09 130.922 1200.09 Z\" fill=\"#000000\" fill-rule=\"evenodd\" fill-opacity=\"1\" /><path clip-path=\"url(#clip170)\" d=\"M94.7882 1055.39 L111.108 1055.39 L111.108 1059.33 L89.1632 1059.33 L89.1632 1055.39 Q91.8252 1052.64 96.4085 1048.01 Q101.015 1043.36 102.196 1042.01 Q104.441 1039.49 105.321 1037.75 Q106.223 1036 106.223 1034.31 Q106.223 1031.55 104.279 1029.82 Q102.358 1028.08 99.2558 1028.08 Q97.0567 1028.08 94.603 1028.84 Q92.1725 1029.61 89.3947 1031.16 L89.3947 1026.44 Q92.2188 1025.3 94.6724 1024.72 Q97.1261 1024.14 99.1632 1024.14 Q104.534 1024.14 107.728 1026.83 Q110.922 1029.51 110.922 1034 Q110.922 1036.13 110.112 1038.06 Q109.325 1039.95 107.219 1042.55 Q106.64 1043.22 103.538 1046.44 Q100.436 1049.63 94.7882 1055.39 Z\" fill=\"#000000\" fill-rule=\"evenodd\" fill-opacity=\"1\" /><path clip-path=\"url(#clip170)\" d=\"M130.922 1027.85 Q127.311 1027.85 125.482 1031.41 Q123.677 1034.95 123.677 1042.08 Q123.677 1049.19 125.482 1052.75 Q127.311 1056.3 130.922 1056.3 Q134.556 1056.3 136.362 1052.75 Q138.191 1049.19 138.191 1042.08 Q138.191 1034.95 136.362 1031.41 Q134.556 1027.85 130.922 1027.85 M130.922 1024.14 Q136.732 1024.14 139.788 1028.75 Q142.867 1033.33 142.867 1042.08 Q142.867 1050.81 139.788 1055.42 Q136.732 1060 130.922 1060 Q125.112 1060 122.033 1055.42 Q118.978 1050.81 118.978 1042.08 Q118.978 1033.33 122.033 1028.75 Q125.112 1024.14 130.922 1024.14 Z\" fill=\"#000000\" fill-rule=\"evenodd\" fill-opacity=\"1\" /><path clip-path=\"url(#clip170)\" d=\"M103.608 852.898 L91.8021 871.347 L103.608 871.347 L103.608 852.898 M102.381 848.824 L108.26 848.824 L108.26 871.347 L113.191 871.347 L113.191 875.236 L108.26 875.236 L108.26 883.384 L103.608 883.384 L103.608 875.236 L88.0058 875.236 L88.0058 870.722 L102.381 848.824 Z\" fill=\"#000000\" fill-rule=\"evenodd\" fill-opacity=\"1\" /><path clip-path=\"url(#clip170)\" d=\"M130.922 851.903 Q127.311 851.903 125.482 855.467 Q123.677 859.009 123.677 866.139 Q123.677 873.245 125.482 876.81 Q127.311 880.352 130.922 880.352 Q134.556 880.352 136.362 876.81 Q138.191 873.245 138.191 866.139 Q138.191 859.009 136.362 855.467 Q134.556 851.903 130.922 851.903 M130.922 848.199 Q136.732 848.199 139.788 852.805 Q142.867 857.389 142.867 866.139 Q142.867 874.865 139.788 879.472 Q136.732 884.055 130.922 884.055 Q125.112 884.055 122.033 879.472 Q118.978 874.865 118.978 866.139 Q118.978 857.389 122.033 852.805 Q125.112 848.199 130.922 848.199 Z\" fill=\"#000000\" fill-rule=\"evenodd\" fill-opacity=\"1\" /><path clip-path=\"url(#clip170)\" d=\"M101.339 688.296 Q98.1909 688.296 96.3391 690.448 Q94.5104 692.601 94.5104 696.351 Q94.5104 700.078 96.3391 702.254 Q98.1909 704.407 101.339 704.407 Q104.487 704.407 106.316 702.254 Q108.168 700.078 108.168 696.351 Q108.168 692.601 106.316 690.448 Q104.487 688.296 101.339 688.296 M110.621 673.643 L110.621 677.902 Q108.862 677.069 107.057 676.629 Q105.274 676.189 103.515 676.189 Q98.8854 676.189 96.4317 679.314 Q94.0012 682.439 93.6539 688.759 Q95.0197 686.745 97.0798 685.68 Q99.14 684.592 101.617 684.592 Q106.825 684.592 109.834 687.763 Q112.867 690.911 112.867 696.351 Q112.867 701.675 109.719 704.893 Q106.571 708.11 101.339 708.11 Q95.3437 708.11 92.1725 703.527 Q89.0012 698.921 89.0012 690.194 Q89.0012 681.999 92.89 677.138 Q96.7789 672.254 103.33 672.254 Q105.089 672.254 106.871 672.601 Q108.677 672.948 110.621 673.643 Z\" fill=\"#000000\" fill-rule=\"evenodd\" fill-opacity=\"1\" /><path clip-path=\"url(#clip170)\" d=\"M130.922 675.958 Q127.311 675.958 125.482 679.523 Q123.677 683.064 123.677 690.194 Q123.677 697.3 125.482 700.865 Q127.311 704.407 130.922 704.407 Q134.556 704.407 136.362 700.865 Q138.191 697.3 138.191 690.194 Q138.191 683.064 136.362 679.523 Q134.556 675.958 130.922 675.958 M130.922 672.254 Q136.732 672.254 139.788 676.86 Q142.867 681.444 142.867 690.194 Q142.867 698.921 139.788 703.527 Q136.732 708.11 130.922 708.11 Q125.112 708.11 122.033 703.527 Q118.978 698.921 118.978 690.194 Q118.978 681.444 122.033 676.86 Q125.112 672.254 130.922 672.254 Z\" fill=\"#000000\" fill-rule=\"evenodd\" fill-opacity=\"1\" /><path clip-path=\"url(#clip170)\" d=\"M100.76 515.082 Q97.4271 515.082 95.5058 516.865 Q93.6076 518.647 93.6076 521.772 Q93.6076 524.897 95.5058 526.679 Q97.4271 528.462 100.76 528.462 Q104.094 528.462 106.015 526.679 Q107.936 524.874 107.936 521.772 Q107.936 518.647 106.015 516.865 Q104.117 515.082 100.76 515.082 M96.0845 513.091 Q93.0752 512.351 91.3854 510.291 Q89.7188 508.23 89.7188 505.267 Q89.7188 501.124 92.6586 498.717 Q95.6215 496.309 100.76 496.309 Q105.922 496.309 108.862 498.717 Q111.802 501.124 111.802 505.267 Q111.802 508.23 110.112 510.291 Q108.446 512.351 105.459 513.091 Q108.839 513.878 110.714 516.17 Q112.612 518.462 112.612 521.772 Q112.612 526.795 109.533 529.48 Q106.478 532.165 100.76 532.165 Q95.0428 532.165 91.9641 529.48 Q88.9086 526.795 88.9086 521.772 Q88.9086 518.462 90.8067 516.17 Q92.7049 513.878 96.0845 513.091 M94.3715 505.707 Q94.3715 508.392 96.0382 509.897 Q97.728 511.402 100.76 511.402 Q103.77 511.402 105.459 509.897 Q107.172 508.392 107.172 505.707 Q107.172 503.022 105.459 501.517 Q103.77 500.013 100.76 500.013 Q97.728 500.013 96.0382 501.517 Q94.3715 503.022 94.3715 505.707 Z\" fill=\"#000000\" fill-rule=\"evenodd\" fill-opacity=\"1\" /><path clip-path=\"url(#clip170)\" d=\"M130.922 500.013 Q127.311 500.013 125.482 503.578 Q123.677 507.119 123.677 514.249 Q123.677 521.355 125.482 524.92 Q127.311 528.462 130.922 528.462 Q134.556 528.462 136.362 524.92 Q138.191 521.355 138.191 514.249 Q138.191 507.119 136.362 503.578 Q134.556 500.013 130.922 500.013 M130.922 496.309 Q136.732 496.309 139.788 500.916 Q142.867 505.499 142.867 514.249 Q142.867 522.976 139.788 527.582 Q136.732 532.165 130.922 532.165 Q125.112 532.165 122.033 527.582 Q118.978 522.976 118.978 514.249 Q118.978 505.499 122.033 500.916 Q125.112 496.309 130.922 496.309 Z\" fill=\"#000000\" fill-rule=\"evenodd\" fill-opacity=\"1\" /><path clip-path=\"url(#clip170)\" d=\"M61.4087 351.614 L69.0476 351.614 L69.0476 325.248 L60.7374 326.915 L60.7374 322.656 L69.0013 320.989 L73.6772 320.989 L73.6772 351.614 L81.316 351.614 L81.316 355.549 L61.4087 355.549 L61.4087 351.614 Z\" fill=\"#000000\" fill-rule=\"evenodd\" fill-opacity=\"1\" /><path clip-path=\"url(#clip170)\" d=\"M100.76 324.068 Q97.1493 324.068 95.3206 327.633 Q93.515 331.174 93.515 338.304 Q93.515 345.41 95.3206 348.975 Q97.1493 352.517 100.76 352.517 Q104.395 352.517 106.2 348.975 Q108.029 345.41 108.029 338.304 Q108.029 331.174 106.2 327.633 Q104.395 324.068 100.76 324.068 M100.76 320.364 Q106.571 320.364 109.626 324.971 Q112.705 329.554 112.705 338.304 Q112.705 347.031 109.626 351.637 Q106.571 356.221 100.76 356.221 Q94.9502 356.221 91.8715 351.637 Q88.816 347.031 88.816 338.304 Q88.816 329.554 91.8715 324.971 Q94.9502 320.364 100.76 320.364 Z\" fill=\"#000000\" fill-rule=\"evenodd\" fill-opacity=\"1\" /><path clip-path=\"url(#clip170)\" d=\"M130.922 324.068 Q127.311 324.068 125.482 327.633 Q123.677 331.174 123.677 338.304 Q123.677 345.41 125.482 348.975 Q127.311 352.517 130.922 352.517 Q134.556 352.517 136.362 348.975 Q138.191 345.41 138.191 338.304 Q138.191 331.174 136.362 327.633 Q134.556 324.068 130.922 324.068 M130.922 320.364 Q136.732 320.364 139.788 324.971 Q142.867 329.554 142.867 338.304 Q142.867 347.031 139.788 351.637 Q136.732 356.221 130.922 356.221 Q125.112 356.221 122.033 351.637 Q118.978 347.031 118.978 338.304 Q118.978 329.554 122.033 324.971 Q125.112 320.364 130.922 320.364 Z\" fill=\"#000000\" fill-rule=\"evenodd\" fill-opacity=\"1\" /><path clip-path=\"url(#clip170)\" d=\"M61.4087 175.669 L69.0476 175.669 L69.0476 149.304 L60.7374 150.97 L60.7374 146.711 L69.0013 145.044 L73.6772 145.044 L73.6772 175.669 L81.316 175.669 L81.316 179.604 L61.4087 179.604 L61.4087 175.669 Z\" fill=\"#000000\" fill-rule=\"evenodd\" fill-opacity=\"1\" /><path clip-path=\"url(#clip170)\" d=\"M94.7882 175.669 L111.108 175.669 L111.108 179.604 L89.1632 179.604 L89.1632 175.669 Q91.8252 172.915 96.4085 168.285 Q101.015 163.632 102.196 162.29 Q104.441 159.767 105.321 158.03 Q106.223 156.271 106.223 154.581 Q106.223 151.827 104.279 150.091 Q102.358 148.355 99.2558 148.355 Q97.0567 148.355 94.603 149.118 Q92.1725 149.882 89.3947 151.433 L89.3947 146.711 Q92.2188 145.577 94.6724 144.998 Q97.1261 144.419 99.1632 144.419 Q104.534 144.419 107.728 147.105 Q110.922 149.79 110.922 154.28 Q110.922 156.41 110.112 158.331 Q109.325 160.229 107.219 162.822 Q106.64 163.493 103.538 166.711 Q100.436 169.905 94.7882 175.669 Z\" fill=\"#000000\" fill-rule=\"evenodd\" fill-opacity=\"1\" /><path clip-path=\"url(#clip170)\" d=\"M130.922 148.123 Q127.311 148.123 125.482 151.688 Q123.677 155.229 123.677 162.359 Q123.677 169.466 125.482 173.03 Q127.311 176.572 130.922 176.572 Q134.556 176.572 136.362 173.03 Q138.191 169.466 138.191 162.359 Q138.191 155.229 136.362 151.688 Q134.556 148.123 130.922 148.123 M130.922 144.419 Q136.732 144.419 139.788 149.026 Q142.867 153.609 142.867 162.359 Q142.867 171.086 139.788 175.692 Q136.732 180.276 130.922 180.276 Q125.112 180.276 122.033 175.692 Q118.978 171.086 118.978 162.359 Q118.978 153.609 122.033 149.026 Q125.112 144.419 130.922 144.419 Z\" fill=\"#000000\" fill-rule=\"evenodd\" fill-opacity=\"1\" /><circle clip-path=\"url(#clip172)\" cx=\"240.392\" cy=\"588.372\" r=\"14.4\" fill=\"#009af9\" fill-rule=\"evenodd\" fill-opacity=\"1\" stroke=\"#000000\" stroke-opacity=\"1\" stroke-width=\"3.2\"/>\n",
       "<circle clip-path=\"url(#clip172)\" cx=\"342.934\" cy=\"727.229\" r=\"14.4\" fill=\"#009af9\" fill-rule=\"evenodd\" fill-opacity=\"1\" stroke=\"#000000\" stroke-opacity=\"1\" stroke-width=\"3.2\"/>\n",
       "<circle clip-path=\"url(#clip172)\" cx=\"445.476\" cy=\"977.968\" r=\"14.4\" fill=\"#009af9\" fill-rule=\"evenodd\" fill-opacity=\"1\" stroke=\"#000000\" stroke-opacity=\"1\" stroke-width=\"3.2\"/>\n",
       "<circle clip-path=\"url(#clip172)\" cx=\"548.018\" cy=\"871.752\" r=\"14.4\" fill=\"#009af9\" fill-rule=\"evenodd\" fill-opacity=\"1\" stroke=\"#000000\" stroke-opacity=\"1\" stroke-width=\"3.2\"/>\n",
       "<circle clip-path=\"url(#clip172)\" cx=\"650.56\" cy=\"1044.64\" r=\"14.4\" fill=\"#009af9\" fill-rule=\"evenodd\" fill-opacity=\"1\" stroke=\"#000000\" stroke-opacity=\"1\" stroke-width=\"3.2\"/>\n",
       "<circle clip-path=\"url(#clip172)\" cx=\"753.102\" cy=\"1239.64\" r=\"14.4\" fill=\"#009af9\" fill-rule=\"evenodd\" fill-opacity=\"1\" stroke=\"#000000\" stroke-opacity=\"1\" stroke-width=\"3.2\"/>\n",
       "<circle clip-path=\"url(#clip172)\" cx=\"855.643\" cy=\"1078.99\" r=\"14.4\" fill=\"#009af9\" fill-rule=\"evenodd\" fill-opacity=\"1\" stroke=\"#000000\" stroke-opacity=\"1\" stroke-width=\"3.2\"/>\n",
       "<circle clip-path=\"url(#clip172)\" cx=\"958.185\" cy=\"1325.23\" r=\"14.4\" fill=\"#009af9\" fill-rule=\"evenodd\" fill-opacity=\"1\" stroke=\"#000000\" stroke-opacity=\"1\" stroke-width=\"3.2\"/>\n",
       "<circle clip-path=\"url(#clip172)\" cx=\"1060.73\" cy=\"1263.12\" r=\"14.4\" fill=\"#009af9\" fill-rule=\"evenodd\" fill-opacity=\"1\" stroke=\"#000000\" stroke-opacity=\"1\" stroke-width=\"3.2\"/>\n",
       "<circle clip-path=\"url(#clip172)\" cx=\"1163.27\" cy=\"1259.83\" r=\"14.4\" fill=\"#009af9\" fill-rule=\"evenodd\" fill-opacity=\"1\" stroke=\"#000000\" stroke-opacity=\"1\" stroke-width=\"3.2\"/>\n",
       "<circle clip-path=\"url(#clip172)\" cx=\"1265.81\" cy=\"1031.69\" r=\"14.4\" fill=\"#009af9\" fill-rule=\"evenodd\" fill-opacity=\"1\" stroke=\"#000000\" stroke-opacity=\"1\" stroke-width=\"3.2\"/>\n",
       "<circle clip-path=\"url(#clip172)\" cx=\"1368.35\" cy=\"1445.72\" r=\"14.4\" fill=\"#009af9\" fill-rule=\"evenodd\" fill-opacity=\"1\" stroke=\"#000000\" stroke-opacity=\"1\" stroke-width=\"3.2\"/>\n",
       "<circle clip-path=\"url(#clip172)\" cx=\"1470.9\" cy=\"1068.95\" r=\"14.4\" fill=\"#009af9\" fill-rule=\"evenodd\" fill-opacity=\"1\" stroke=\"#000000\" stroke-opacity=\"1\" stroke-width=\"3.2\"/>\n",
       "<circle clip-path=\"url(#clip172)\" cx=\"1573.44\" cy=\"1147.83\" r=\"14.4\" fill=\"#009af9\" fill-rule=\"evenodd\" fill-opacity=\"1\" stroke=\"#000000\" stroke-opacity=\"1\" stroke-width=\"3.2\"/>\n",
       "<circle clip-path=\"url(#clip172)\" cx=\"1675.98\" cy=\"961.434\" r=\"14.4\" fill=\"#009af9\" fill-rule=\"evenodd\" fill-opacity=\"1\" stroke=\"#000000\" stroke-opacity=\"1\" stroke-width=\"3.2\"/>\n",
       "<circle clip-path=\"url(#clip172)\" cx=\"1778.52\" cy=\"852.705\" r=\"14.4\" fill=\"#009af9\" fill-rule=\"evenodd\" fill-opacity=\"1\" stroke=\"#000000\" stroke-opacity=\"1\" stroke-width=\"3.2\"/>\n",
       "<circle clip-path=\"url(#clip172)\" cx=\"1881.06\" cy=\"705.577\" r=\"14.4\" fill=\"#009af9\" fill-rule=\"evenodd\" fill-opacity=\"1\" stroke=\"#000000\" stroke-opacity=\"1\" stroke-width=\"3.2\"/>\n",
       "<circle clip-path=\"url(#clip172)\" cx=\"1983.6\" cy=\"616.375\" r=\"14.4\" fill=\"#009af9\" fill-rule=\"evenodd\" fill-opacity=\"1\" stroke=\"#000000\" stroke-opacity=\"1\" stroke-width=\"3.2\"/>\n",
       "<circle clip-path=\"url(#clip172)\" cx=\"2086.15\" cy=\"577.006\" r=\"14.4\" fill=\"#009af9\" fill-rule=\"evenodd\" fill-opacity=\"1\" stroke=\"#000000\" stroke-opacity=\"1\" stroke-width=\"3.2\"/>\n",
       "<circle clip-path=\"url(#clip172)\" cx=\"2188.69\" cy=\"403.044\" r=\"14.4\" fill=\"#009af9\" fill-rule=\"evenodd\" fill-opacity=\"1\" stroke=\"#000000\" stroke-opacity=\"1\" stroke-width=\"3.2\"/>\n",
       "<circle clip-path=\"url(#clip172)\" cx=\"2291.23\" cy=\"87.9763\" r=\"14.4\" fill=\"#009af9\" fill-rule=\"evenodd\" fill-opacity=\"1\" stroke=\"#000000\" stroke-opacity=\"1\" stroke-width=\"3.2\"/>\n",
       "<polyline clip-path=\"url(#clip172)\" style=\"stroke:#e26f46; stroke-linecap:round; stroke-linejoin:round; stroke-width:4; stroke-opacity:1; fill:none\" points=\"240.392,619.781 342.934,760.537 445.476,883.698 548.018,989.265 650.56,1077.24 753.102,1147.62 855.643,1200.4 958.185,1235.59 1060.73,1253.18 1163.27,1253.18 1265.81,1235.59 1368.35,1200.4 1470.9,1147.62 1573.44,1077.24 1675.98,989.265 1778.52,883.698 1881.06,760.537 1983.6,619.781 2086.15,461.431 2188.69,285.486 2291.23,91.9464 \"/>\n",
       "<polyline clip-path=\"url(#clip172)\" style=\"stroke:#3da44d; stroke-linecap:round; stroke-linejoin:round; stroke-width:4; stroke-opacity:1; fill:none\" points=\"240.392,608.271 342.934,748.137 445.476,870.807 548.018,976.282 650.56,1064.56 753.102,1135.64 855.643,1189.53 958.185,1226.22 1060.73,1245.72 1163.27,1248.01 1265.81,1233.12 1368.35,1201.03 1470.9,1151.74 1573.44,1085.25 1675.98,1001.57 1778.52,900.696 1881.06,782.624 1983.6,647.357 2086.15,494.893 2188.69,325.234 2291.23,138.379 \"/>\n",
       "<path clip-path=\"url(#clip170)\" d=\"M251.33 302.578 L692.028 302.578 L692.028 95.2176 L251.33 95.2176  Z\" fill=\"#ffffff\" fill-rule=\"evenodd\" fill-opacity=\"1\"/>\n",
       "<polyline clip-path=\"url(#clip170)\" style=\"stroke:#000000; stroke-linecap:round; stroke-linejoin:round; stroke-width:4; stroke-opacity:1; fill:none\" points=\"251.33,302.578 692.028,302.578 692.028,95.2176 251.33,95.2176 251.33,302.578 \"/>\n",
       "<circle clip-path=\"url(#clip170)\" cx=\"347.947\" cy=\"147.058\" r=\"23.04\" fill=\"#009af9\" fill-rule=\"evenodd\" fill-opacity=\"1\" stroke=\"#000000\" stroke-opacity=\"1\" stroke-width=\"5.12\"/>\n",
       "<path clip-path=\"url(#clip170)\" d=\"M463.476 142.347 L463.476 128.319 L467.735 128.319 L467.735 164.338 L463.476 164.338 L463.476 160.449 Q462.134 162.763 460.073 163.898 Q458.036 165.009 455.166 165.009 Q450.467 165.009 447.504 161.259 Q444.564 157.509 444.564 151.398 Q444.564 145.287 447.504 141.537 Q450.467 137.787 455.166 137.787 Q458.036 137.787 460.073 138.921 Q462.134 140.032 463.476 142.347 M448.962 151.398 Q448.962 156.097 450.884 158.782 Q452.828 161.444 456.208 161.444 Q459.587 161.444 461.532 158.782 Q463.476 156.097 463.476 151.398 Q463.476 146.699 461.532 144.037 Q459.587 141.352 456.208 141.352 Q452.828 141.352 450.884 144.037 Q448.962 146.699 448.962 151.398 Z\" fill=\"#000000\" fill-rule=\"evenodd\" fill-opacity=\"1\" /><path clip-path=\"url(#clip170)\" d=\"M488.291 151.305 Q483.129 151.305 481.138 152.486 Q479.147 153.666 479.147 156.514 Q479.147 158.782 480.629 160.125 Q482.133 161.444 484.703 161.444 Q488.245 161.444 490.374 158.944 Q492.527 156.421 492.527 152.254 L492.527 151.305 L488.291 151.305 M496.786 149.546 L496.786 164.338 L492.527 164.338 L492.527 160.402 Q491.069 162.763 488.893 163.898 Q486.717 165.009 483.569 165.009 Q479.587 165.009 477.226 162.787 Q474.888 160.541 474.888 156.791 Q474.888 152.416 477.805 150.194 Q480.745 147.972 486.555 147.972 L492.527 147.972 L492.527 147.555 Q492.527 144.615 490.582 143.018 Q488.661 141.398 485.166 141.398 Q482.944 141.398 480.837 141.93 Q478.731 142.463 476.786 143.527 L476.786 139.592 Q479.124 138.69 481.323 138.25 Q483.522 137.787 485.606 137.787 Q491.231 137.787 494.008 140.703 Q496.786 143.62 496.786 149.546 Z\" fill=\"#000000\" fill-rule=\"evenodd\" fill-opacity=\"1\" /><path clip-path=\"url(#clip170)\" d=\"M509.772 131.051 L509.772 138.412 L518.545 138.412 L518.545 141.722 L509.772 141.722 L509.772 155.796 Q509.772 158.967 510.629 159.87 Q511.508 160.773 514.17 160.773 L518.545 160.773 L518.545 164.338 L514.17 164.338 Q509.24 164.338 507.365 162.509 Q505.49 160.657 505.49 155.796 L505.49 141.722 L502.365 141.722 L502.365 138.412 L505.49 138.412 L505.49 131.051 L509.772 131.051 Z\" fill=\"#000000\" fill-rule=\"evenodd\" fill-opacity=\"1\" /><path clip-path=\"url(#clip170)\" d=\"M535.929 151.305 Q530.767 151.305 528.777 152.486 Q526.786 153.666 526.786 156.514 Q526.786 158.782 528.267 160.125 Q529.772 161.444 532.342 161.444 Q535.883 161.444 538.013 158.944 Q540.166 156.421 540.166 152.254 L540.166 151.305 L535.929 151.305 M544.425 149.546 L544.425 164.338 L540.166 164.338 L540.166 160.402 Q538.707 162.763 536.531 163.898 Q534.355 165.009 531.207 165.009 Q527.226 165.009 524.865 162.787 Q522.527 160.541 522.527 156.791 Q522.527 152.416 525.443 150.194 Q528.383 147.972 534.193 147.972 L540.166 147.972 L540.166 147.555 Q540.166 144.615 538.221 143.018 Q536.3 141.398 532.804 141.398 Q530.582 141.398 528.476 141.93 Q526.369 142.463 524.425 143.527 L524.425 139.592 Q526.763 138.69 528.962 138.25 Q531.161 137.787 533.244 137.787 Q538.869 137.787 541.647 140.703 Q544.425 143.62 544.425 149.546 Z\" fill=\"#000000\" fill-rule=\"evenodd\" fill-opacity=\"1\" /><polyline clip-path=\"url(#clip170)\" style=\"stroke:#e26f46; stroke-linecap:round; stroke-linejoin:round; stroke-width:4; stroke-opacity:1; fill:none\" points=\"275.484,198.898 420.41,198.898 \"/>\n",
       "<path clip-path=\"url(#clip170)\" d=\"M451.972 182.891 L451.972 190.252 L460.745 190.252 L460.745 193.562 L451.972 193.562 L451.972 207.636 Q451.972 210.807 452.828 211.71 Q453.708 212.613 456.37 212.613 L460.745 212.613 L460.745 216.178 L456.37 216.178 Q451.439 216.178 449.564 214.349 Q447.689 212.497 447.689 207.636 L447.689 193.562 L444.564 193.562 L444.564 190.252 L447.689 190.252 L447.689 182.891 L451.972 182.891 Z\" fill=\"#000000\" fill-rule=\"evenodd\" fill-opacity=\"1\" /><path clip-path=\"url(#clip170)\" d=\"M481.37 194.233 Q480.652 193.817 479.796 193.631 Q478.962 193.423 477.944 193.423 Q474.333 193.423 472.388 195.784 Q470.467 198.122 470.467 202.52 L470.467 216.178 L466.184 216.178 L466.184 190.252 L470.467 190.252 L470.467 194.28 Q471.809 191.918 473.962 190.784 Q476.115 189.627 479.194 189.627 Q479.633 189.627 480.166 189.696 Q480.698 189.743 481.346 189.858 L481.37 194.233 Z\" fill=\"#000000\" fill-rule=\"evenodd\" fill-opacity=\"1\" /><path clip-path=\"url(#clip170)\" d=\"M485.397 205.946 L485.397 190.252 L489.657 190.252 L489.657 205.784 Q489.657 209.465 491.092 211.316 Q492.527 213.145 495.397 213.145 Q498.846 213.145 500.837 210.946 Q502.851 208.747 502.851 204.951 L502.851 190.252 L507.11 190.252 L507.11 216.178 L502.851 216.178 L502.851 212.196 Q501.3 214.557 499.24 215.715 Q497.203 216.849 494.494 216.849 Q490.027 216.849 487.712 214.071 Q485.397 211.293 485.397 205.946 M496.115 189.627 L496.115 189.627 Z\" fill=\"#000000\" fill-rule=\"evenodd\" fill-opacity=\"1\" /><path clip-path=\"url(#clip170)\" d=\"M538.059 202.15 L538.059 204.233 L518.476 204.233 Q518.754 208.631 521.115 210.946 Q523.499 213.238 527.735 213.238 Q530.189 213.238 532.48 212.636 Q534.795 212.034 537.064 210.83 L537.064 214.858 Q534.772 215.83 532.365 216.34 Q529.957 216.849 527.48 216.849 Q521.277 216.849 517.643 213.238 Q514.031 209.627 514.031 203.469 Q514.031 197.104 517.457 193.377 Q520.906 189.627 526.74 189.627 Q531.971 189.627 535.004 193.006 Q538.059 196.363 538.059 202.15 M533.8 200.9 Q533.754 197.405 531.832 195.321 Q529.934 193.238 526.786 193.238 Q523.221 193.238 521.068 195.252 Q518.939 197.266 518.615 200.923 L533.8 200.9 Z\" fill=\"#000000\" fill-rule=\"evenodd\" fill-opacity=\"1\" /><path clip-path=\"url(#clip170)\" d=\"M560.119 180.159 L564.378 180.159 L564.378 216.178 L560.119 216.178 L560.119 180.159 Z\" fill=\"#000000\" fill-rule=\"evenodd\" fill-opacity=\"1\" /><path clip-path=\"url(#clip170)\" d=\"M573.29 190.252 L577.55 190.252 L577.55 216.178 L573.29 216.178 L573.29 190.252 M573.29 180.159 L577.55 180.159 L577.55 185.553 L573.29 185.553 L573.29 180.159 Z\" fill=\"#000000\" fill-rule=\"evenodd\" fill-opacity=\"1\" /><path clip-path=\"url(#clip170)\" d=\"M608.012 200.529 L608.012 216.178 L603.753 216.178 L603.753 200.668 Q603.753 196.988 602.318 195.159 Q600.883 193.33 598.012 193.33 Q594.563 193.33 592.573 195.53 Q590.582 197.729 590.582 201.525 L590.582 216.178 L586.3 216.178 L586.3 190.252 L590.582 190.252 L590.582 194.28 Q592.11 191.942 594.17 190.784 Q596.253 189.627 598.962 189.627 Q603.429 189.627 605.721 192.405 Q608.012 195.159 608.012 200.529 Z\" fill=\"#000000\" fill-rule=\"evenodd\" fill-opacity=\"1\" /><path clip-path=\"url(#clip170)\" d=\"M638.684 202.15 L638.684 204.233 L619.1 204.233 Q619.378 208.631 621.739 210.946 Q624.123 213.238 628.36 213.238 Q630.813 213.238 633.105 212.636 Q635.42 212.034 637.688 210.83 L637.688 214.858 Q635.397 215.83 632.989 216.34 Q630.582 216.849 628.105 216.849 Q621.901 216.849 618.267 213.238 Q614.656 209.627 614.656 203.469 Q614.656 197.104 618.082 193.377 Q621.531 189.627 627.364 189.627 Q632.596 189.627 635.628 193.006 Q638.684 196.363 638.684 202.15 M634.424 200.9 Q634.378 197.405 632.457 195.321 Q630.559 193.238 627.41 193.238 Q623.846 193.238 621.693 195.252 Q619.563 197.266 619.239 200.923 L634.424 200.9 Z\" fill=\"#000000\" fill-rule=\"evenodd\" fill-opacity=\"1\" /><polyline clip-path=\"url(#clip170)\" style=\"stroke:#3da44d; stroke-linecap:round; stroke-linejoin:round; stroke-width:4; stroke-opacity:1; fill:none\" points=\"275.484,250.738 420.41,250.738 \"/>\n",
       "<path clip-path=\"url(#clip170)\" d=\"M461.069 231.999 L461.069 235.541 L456.995 235.541 Q454.703 235.541 453.8 236.467 Q452.921 237.393 452.921 239.8 L452.921 242.092 L459.934 242.092 L459.934 245.402 L452.921 245.402 L452.921 268.018 L448.638 268.018 L448.638 245.402 L444.564 245.402 L444.564 242.092 L448.638 242.092 L448.638 240.286 Q448.638 235.958 450.652 233.99 Q452.666 231.999 457.041 231.999 L461.069 231.999 Z\" fill=\"#000000\" fill-rule=\"evenodd\" fill-opacity=\"1\" /><path clip-path=\"url(#clip170)\" d=\"M464.634 242.092 L468.893 242.092 L468.893 268.018 L464.634 268.018 L464.634 242.092 M464.634 231.999 L468.893 231.999 L468.893 237.393 L464.634 237.393 L464.634 231.999 Z\" fill=\"#000000\" fill-rule=\"evenodd\" fill-opacity=\"1\" /><path clip-path=\"url(#clip170)\" d=\"M482.018 234.731 L482.018 242.092 L490.791 242.092 L490.791 245.402 L482.018 245.402 L482.018 259.476 Q482.018 262.647 482.874 263.55 Q483.754 264.453 486.416 264.453 L490.791 264.453 L490.791 268.018 L486.416 268.018 Q481.485 268.018 479.61 266.189 Q477.735 264.337 477.735 259.476 L477.735 245.402 L474.61 245.402 L474.61 242.092 L477.735 242.092 L477.735 234.731 L482.018 234.731 Z\" fill=\"#000000\" fill-rule=\"evenodd\" fill-opacity=\"1\" /><path clip-path=\"url(#clip170)\" d=\"M500.606 234.731 L500.606 242.092 L509.379 242.092 L509.379 245.402 L500.606 245.402 L500.606 259.476 Q500.606 262.647 501.462 263.55 Q502.342 264.453 505.004 264.453 L509.379 264.453 L509.379 268.018 L505.004 268.018 Q500.073 268.018 498.198 266.189 Q496.323 264.337 496.323 259.476 L496.323 245.402 L493.198 245.402 L493.198 242.092 L496.323 242.092 L496.323 234.731 L500.606 234.731 Z\" fill=\"#000000\" fill-rule=\"evenodd\" fill-opacity=\"1\" /><path clip-path=\"url(#clip170)\" d=\"M537.156 253.99 L537.156 256.073 L517.573 256.073 Q517.851 260.471 520.212 262.786 Q522.596 265.078 526.832 265.078 Q529.286 265.078 531.578 264.476 Q533.892 263.874 536.161 262.67 L536.161 266.698 Q533.869 267.67 531.462 268.18 Q529.054 268.689 526.578 268.689 Q520.374 268.689 516.74 265.078 Q513.129 261.467 513.129 255.309 Q513.129 248.944 516.555 245.217 Q520.004 241.467 525.837 241.467 Q531.068 241.467 534.101 244.846 Q537.156 248.203 537.156 253.99 M532.897 252.74 Q532.851 249.245 530.929 247.161 Q529.031 245.078 525.883 245.078 Q522.318 245.078 520.166 247.092 Q518.036 249.106 517.712 252.763 L532.897 252.74 Z\" fill=\"#000000\" fill-rule=\"evenodd\" fill-opacity=\"1\" /><path clip-path=\"url(#clip170)\" d=\"M561.207 246.027 L561.207 231.999 L565.466 231.999 L565.466 268.018 L561.207 268.018 L561.207 264.129 Q559.865 266.443 557.804 267.578 Q555.767 268.689 552.897 268.689 Q548.198 268.689 545.235 264.939 Q542.295 261.189 542.295 255.078 Q542.295 248.967 545.235 245.217 Q548.198 241.467 552.897 241.467 Q555.767 241.467 557.804 242.601 Q559.865 243.712 561.207 246.027 M546.693 255.078 Q546.693 259.777 548.615 262.462 Q550.559 265.124 553.939 265.124 Q557.318 265.124 559.263 262.462 Q561.207 259.777 561.207 255.078 Q561.207 250.379 559.263 247.717 Q557.318 245.032 553.939 245.032 Q550.559 245.032 548.615 247.717 Q546.693 250.379 546.693 255.078 Z\" fill=\"#000000\" fill-rule=\"evenodd\" fill-opacity=\"1\" /><path clip-path=\"url(#clip170)\" d=\"M589.309 231.999 L593.568 231.999 L593.568 268.018 L589.309 268.018 L589.309 231.999 Z\" fill=\"#000000\" fill-rule=\"evenodd\" fill-opacity=\"1\" /><path clip-path=\"url(#clip170)\" d=\"M602.48 242.092 L606.739 242.092 L606.739 268.018 L602.48 268.018 L602.48 242.092 M602.48 231.999 L606.739 231.999 L606.739 237.393 L602.48 237.393 L602.48 231.999 Z\" fill=\"#000000\" fill-rule=\"evenodd\" fill-opacity=\"1\" /><path clip-path=\"url(#clip170)\" d=\"M637.202 252.369 L637.202 268.018 L632.943 268.018 L632.943 252.508 Q632.943 248.828 631.508 246.999 Q630.072 245.17 627.202 245.17 Q623.753 245.17 621.762 247.37 Q619.772 249.569 619.772 253.365 L619.772 268.018 L615.489 268.018 L615.489 242.092 L619.772 242.092 L619.772 246.12 Q621.299 243.782 623.36 242.624 Q625.443 241.467 628.151 241.467 Q632.619 241.467 634.91 244.245 Q637.202 246.999 637.202 252.369 Z\" fill=\"#000000\" fill-rule=\"evenodd\" fill-opacity=\"1\" /><path clip-path=\"url(#clip170)\" d=\"M667.873 253.99 L667.873 256.073 L648.29 256.073 Q648.568 260.471 650.929 262.786 Q653.313 265.078 657.549 265.078 Q660.003 265.078 662.295 264.476 Q664.609 263.874 666.878 262.67 L666.878 266.698 Q664.586 267.67 662.179 268.18 Q659.771 268.689 657.295 268.689 Q651.091 268.689 647.457 265.078 Q643.846 261.467 643.846 255.309 Q643.846 248.944 647.271 245.217 Q650.721 241.467 656.554 241.467 Q661.785 241.467 664.818 244.846 Q667.873 248.203 667.873 253.99 M663.614 252.74 Q663.568 249.245 661.646 247.161 Q659.748 245.078 656.6 245.078 Q653.035 245.078 650.883 247.092 Q648.753 249.106 648.429 252.763 L663.614 252.74 Z\" fill=\"#000000\" fill-rule=\"evenodd\" fill-opacity=\"1\" /></svg>\n"
      ]
     },
     "execution_count": 51,
     "metadata": {},
     "output_type": "execute_result"
    }
   ],
   "source": [
    "using Plots\n",
    "using Random\n",
    "using Polynomials: Polynomial, fit, coeffs\n",
    "using Statistics\n",
    "dataerr = 10\n",
    "d = di.Normal(0,dataerr)\n",
    "x = -10:1:10\n",
    "y_observed = y_true + rand(d,length(x))\n",
    "f(x) = x .^2 + 3.0 .* x - 2\n",
    "y_true = f.(x)\n",
    "line_fit = fit(x,y_observed,2)\n",
    "fit_coeff = coeffs(line_fit)\n",
    "y_fitted = fit_coeff[1] .+ fit_coeff[2] .* x + fit_coeff[3] .* x.^2\n",
    "scatter(x,y_observed, label = \"data\")\n",
    "plot!(x,y_true, label = \"true line\")\n",
    "plot!(x,y_fitted, label = \"fitted line\")"
   ]
  },
  {
   "cell_type": "markdown",
   "id": "b3b5a343",
   "metadata": {},
   "source": [
    "### 2.4\n",
    "\n",
    "1. Repeat 2.2 and 2.3 with a noise with a standard deviation of 50"
   ]
  },
  {
   "cell_type": "code",
   "execution_count": 12,
   "id": "b4c08499",
   "metadata": {},
   "outputs": [
    {
     "data": {
      "image/svg+xml": [
       "<?xml version=\"1.0\" encoding=\"utf-8\"?>\n",
       "<svg xmlns=\"http://www.w3.org/2000/svg\" xmlns:xlink=\"http://www.w3.org/1999/xlink\" width=\"600\" height=\"400\" viewBox=\"0 0 2400 1600\">\n",
       "<defs>\n",
       "  <clipPath id=\"clip030\">\n",
       "    <rect x=\"0\" y=\"0\" width=\"2400\" height=\"1600\"/>\n",
       "  </clipPath>\n",
       "</defs>\n",
       "<path clip-path=\"url(#clip030)\" d=\"M0 1600 L2400 1600 L2400 0 L0 0  Z\" fill=\"#ffffff\" fill-rule=\"evenodd\" fill-opacity=\"1\"/>\n",
       "<defs>\n",
       "  <clipPath id=\"clip031\">\n",
       "    <rect x=\"480\" y=\"0\" width=\"1681\" height=\"1600\"/>\n",
       "  </clipPath>\n",
       "</defs>\n",
       "<path clip-path=\"url(#clip030)\" d=\"M178.867 1486.45 L2352.76 1486.45 L2352.76 47.2441 L178.867 47.2441  Z\" fill=\"#ffffff\" fill-rule=\"evenodd\" fill-opacity=\"1\"/>\n",
       "<defs>\n",
       "  <clipPath id=\"clip032\">\n",
       "    <rect x=\"178\" y=\"47\" width=\"2175\" height=\"1440\"/>\n",
       "  </clipPath>\n",
       "</defs>\n",
       "<polyline clip-path=\"url(#clip032)\" style=\"stroke:#000000; stroke-linecap:round; stroke-linejoin:round; stroke-width:2; stroke-opacity:0.1; fill:none\" points=\"240.392,1486.45 240.392,47.2441 \"/>\n",
       "<polyline clip-path=\"url(#clip032)\" style=\"stroke:#000000; stroke-linecap:round; stroke-linejoin:round; stroke-width:2; stroke-opacity:0.1; fill:none\" points=\"753.102,1486.45 753.102,47.2441 \"/>\n",
       "<polyline clip-path=\"url(#clip032)\" style=\"stroke:#000000; stroke-linecap:round; stroke-linejoin:round; stroke-width:2; stroke-opacity:0.1; fill:none\" points=\"1265.81,1486.45 1265.81,47.2441 \"/>\n",
       "<polyline clip-path=\"url(#clip032)\" style=\"stroke:#000000; stroke-linecap:round; stroke-linejoin:round; stroke-width:2; stroke-opacity:0.1; fill:none\" points=\"1778.52,1486.45 1778.52,47.2441 \"/>\n",
       "<polyline clip-path=\"url(#clip032)\" style=\"stroke:#000000; stroke-linecap:round; stroke-linejoin:round; stroke-width:2; stroke-opacity:0.1; fill:none\" points=\"2291.23,1486.45 2291.23,47.2441 \"/>\n",
       "<polyline clip-path=\"url(#clip030)\" style=\"stroke:#000000; stroke-linecap:round; stroke-linejoin:round; stroke-width:4; stroke-opacity:1; fill:none\" points=\"178.867,1486.45 2352.76,1486.45 \"/>\n",
       "<polyline clip-path=\"url(#clip030)\" style=\"stroke:#000000; stroke-linecap:round; stroke-linejoin:round; stroke-width:4; stroke-opacity:1; fill:none\" points=\"240.392,1486.45 240.392,1467.55 \"/>\n",
       "<polyline clip-path=\"url(#clip030)\" style=\"stroke:#000000; stroke-linecap:round; stroke-linejoin:round; stroke-width:4; stroke-opacity:1; fill:none\" points=\"753.102,1486.45 753.102,1467.55 \"/>\n",
       "<polyline clip-path=\"url(#clip030)\" style=\"stroke:#000000; stroke-linecap:round; stroke-linejoin:round; stroke-width:4; stroke-opacity:1; fill:none\" points=\"1265.81,1486.45 1265.81,1467.55 \"/>\n",
       "<polyline clip-path=\"url(#clip030)\" style=\"stroke:#000000; stroke-linecap:round; stroke-linejoin:round; stroke-width:4; stroke-opacity:1; fill:none\" points=\"1778.52,1486.45 1778.52,1467.55 \"/>\n",
       "<polyline clip-path=\"url(#clip030)\" style=\"stroke:#000000; stroke-linecap:round; stroke-linejoin:round; stroke-width:4; stroke-opacity:1; fill:none\" points=\"2291.23,1486.45 2291.23,1467.55 \"/>\n",
       "<path clip-path=\"url(#clip030)\" d=\"M194.455 1532.02 L224.13 1532.02 L224.13 1535.95 L194.455 1535.95 L194.455 1532.02 Z\" fill=\"#000000\" fill-rule=\"evenodd\" fill-opacity=\"1\" /><path clip-path=\"url(#clip030)\" d=\"M235.033 1544.91 L242.672 1544.91 L242.672 1518.55 L234.362 1520.21 L234.362 1515.95 L242.626 1514.29 L247.301 1514.29 L247.301 1544.91 L254.94 1544.91 L254.94 1548.85 L235.033 1548.85 L235.033 1544.91 Z\" fill=\"#000000\" fill-rule=\"evenodd\" fill-opacity=\"1\" /><path clip-path=\"url(#clip030)\" d=\"M274.385 1517.37 Q270.774 1517.37 268.945 1520.93 Q267.139 1524.47 267.139 1531.6 Q267.139 1538.71 268.945 1542.27 Q270.774 1545.82 274.385 1545.82 Q278.019 1545.82 279.824 1542.27 Q281.653 1538.71 281.653 1531.6 Q281.653 1524.47 279.824 1520.93 Q278.019 1517.37 274.385 1517.37 M274.385 1513.66 Q280.195 1513.66 283.25 1518.27 Q286.329 1522.85 286.329 1531.6 Q286.329 1540.33 283.25 1544.94 Q280.195 1549.52 274.385 1549.52 Q268.575 1549.52 265.496 1544.94 Q262.44 1540.33 262.44 1531.6 Q262.44 1522.85 265.496 1518.27 Q268.575 1513.66 274.385 1513.66 Z\" fill=\"#000000\" fill-rule=\"evenodd\" fill-opacity=\"1\" /><path clip-path=\"url(#clip030)\" d=\"M722.743 1532.02 L752.419 1532.02 L752.419 1535.95 L722.743 1535.95 L722.743 1532.02 Z\" fill=\"#000000\" fill-rule=\"evenodd\" fill-opacity=\"1\" /><path clip-path=\"url(#clip030)\" d=\"M762.558 1514.29 L780.914 1514.29 L780.914 1518.22 L766.84 1518.22 L766.84 1526.7 Q767.858 1526.35 768.877 1526.19 Q769.895 1526 770.914 1526 Q776.701 1526 780.081 1529.17 Q783.46 1532.34 783.46 1537.76 Q783.46 1543.34 779.988 1546.44 Q776.516 1549.52 770.196 1549.52 Q768.02 1549.52 765.752 1549.15 Q763.507 1548.78 761.099 1548.04 L761.099 1543.34 Q763.183 1544.47 765.405 1545.03 Q767.627 1545.58 770.104 1545.58 Q774.108 1545.58 776.446 1543.48 Q778.784 1541.37 778.784 1537.76 Q778.784 1534.15 776.446 1532.04 Q774.108 1529.94 770.104 1529.94 Q768.229 1529.94 766.354 1530.35 Q764.502 1530.77 762.558 1531.65 L762.558 1514.29 Z\" fill=\"#000000\" fill-rule=\"evenodd\" fill-opacity=\"1\" /><path clip-path=\"url(#clip030)\" d=\"M1265.81 1517.37 Q1262.2 1517.37 1260.37 1520.93 Q1258.57 1524.47 1258.57 1531.6 Q1258.57 1538.71 1260.37 1542.27 Q1262.2 1545.82 1265.81 1545.82 Q1269.45 1545.82 1271.25 1542.27 Q1273.08 1538.71 1273.08 1531.6 Q1273.08 1524.47 1271.25 1520.93 Q1269.45 1517.37 1265.81 1517.37 M1265.81 1513.66 Q1271.62 1513.66 1274.68 1518.27 Q1277.76 1522.85 1277.76 1531.6 Q1277.76 1540.33 1274.68 1544.94 Q1271.62 1549.52 1265.81 1549.52 Q1260 1549.52 1256.92 1544.94 Q1253.87 1540.33 1253.87 1531.6 Q1253.87 1522.85 1256.92 1518.27 Q1260 1513.66 1265.81 1513.66 Z\" fill=\"#000000\" fill-rule=\"evenodd\" fill-opacity=\"1\" /><path clip-path=\"url(#clip030)\" d=\"M1768.8 1514.29 L1787.16 1514.29 L1787.16 1518.22 L1773.08 1518.22 L1773.08 1526.7 Q1774.1 1526.35 1775.12 1526.19 Q1776.14 1526 1777.16 1526 Q1782.94 1526 1786.32 1529.17 Q1789.7 1532.34 1789.7 1537.76 Q1789.7 1543.34 1786.23 1546.44 Q1782.76 1549.52 1776.44 1549.52 Q1774.26 1549.52 1771.99 1549.15 Q1769.75 1548.78 1767.34 1548.04 L1767.34 1543.34 Q1769.42 1544.47 1771.65 1545.03 Q1773.87 1545.58 1776.35 1545.58 Q1780.35 1545.58 1782.69 1543.48 Q1785.03 1541.37 1785.03 1537.76 Q1785.03 1534.15 1782.69 1532.04 Q1780.35 1529.94 1776.35 1529.94 Q1774.47 1529.94 1772.6 1530.35 Q1770.74 1530.77 1768.8 1531.65 L1768.8 1514.29 Z\" fill=\"#000000\" fill-rule=\"evenodd\" fill-opacity=\"1\" /><path clip-path=\"url(#clip030)\" d=\"M2265.92 1544.91 L2273.56 1544.91 L2273.56 1518.55 L2265.25 1520.21 L2265.25 1515.95 L2273.51 1514.29 L2278.19 1514.29 L2278.19 1544.91 L2285.83 1544.91 L2285.83 1548.85 L2265.92 1548.85 L2265.92 1544.91 Z\" fill=\"#000000\" fill-rule=\"evenodd\" fill-opacity=\"1\" /><path clip-path=\"url(#clip030)\" d=\"M2305.27 1517.37 Q2301.66 1517.37 2299.83 1520.93 Q2298.02 1524.47 2298.02 1531.6 Q2298.02 1538.71 2299.83 1542.27 Q2301.66 1545.82 2305.27 1545.82 Q2308.9 1545.82 2310.71 1542.27 Q2312.54 1538.71 2312.54 1531.6 Q2312.54 1524.47 2310.71 1520.93 Q2308.9 1517.37 2305.27 1517.37 M2305.27 1513.66 Q2311.08 1513.66 2314.14 1518.27 Q2317.21 1522.85 2317.21 1531.6 Q2317.21 1540.33 2314.14 1544.94 Q2311.08 1549.52 2305.27 1549.52 Q2299.46 1549.52 2296.38 1544.94 Q2293.33 1540.33 2293.33 1531.6 Q2293.33 1522.85 2296.38 1518.27 Q2299.46 1513.66 2305.27 1513.66 Z\" fill=\"#000000\" fill-rule=\"evenodd\" fill-opacity=\"1\" /><polyline clip-path=\"url(#clip032)\" style=\"stroke:#000000; stroke-linecap:round; stroke-linejoin:round; stroke-width:2; stroke-opacity:0.1; fill:none\" points=\"178.867,1321.63 2352.76,1321.63 \"/>\n",
       "<polyline clip-path=\"url(#clip032)\" style=\"stroke:#000000; stroke-linecap:round; stroke-linejoin:round; stroke-width:2; stroke-opacity:0.1; fill:none\" points=\"178.867,1002.77 2352.76,1002.77 \"/>\n",
       "<polyline clip-path=\"url(#clip032)\" style=\"stroke:#000000; stroke-linecap:round; stroke-linejoin:round; stroke-width:2; stroke-opacity:0.1; fill:none\" points=\"178.867,683.912 2352.76,683.912 \"/>\n",
       "<polyline clip-path=\"url(#clip032)\" style=\"stroke:#000000; stroke-linecap:round; stroke-linejoin:round; stroke-width:2; stroke-opacity:0.1; fill:none\" points=\"178.867,365.053 2352.76,365.053 \"/>\n",
       "<polyline clip-path=\"url(#clip030)\" style=\"stroke:#000000; stroke-linecap:round; stroke-linejoin:round; stroke-width:4; stroke-opacity:1; fill:none\" points=\"178.867,1486.45 178.867,47.2441 \"/>\n",
       "<polyline clip-path=\"url(#clip030)\" style=\"stroke:#000000; stroke-linecap:round; stroke-linejoin:round; stroke-width:4; stroke-opacity:1; fill:none\" points=\"178.867,1321.63 197.764,1321.63 \"/>\n",
       "<polyline clip-path=\"url(#clip030)\" style=\"stroke:#000000; stroke-linecap:round; stroke-linejoin:round; stroke-width:4; stroke-opacity:1; fill:none\" points=\"178.867,1002.77 197.764,1002.77 \"/>\n",
       "<polyline clip-path=\"url(#clip030)\" style=\"stroke:#000000; stroke-linecap:round; stroke-linejoin:round; stroke-width:4; stroke-opacity:1; fill:none\" points=\"178.867,683.912 197.764,683.912 \"/>\n",
       "<polyline clip-path=\"url(#clip030)\" style=\"stroke:#000000; stroke-linecap:round; stroke-linejoin:round; stroke-width:4; stroke-opacity:1; fill:none\" points=\"178.867,365.053 197.764,365.053 \"/>\n",
       "<path clip-path=\"url(#clip030)\" d=\"M50.9921 1322.08 L80.6679 1322.08 L80.6679 1326.02 L50.9921 1326.02 L50.9921 1322.08 Z\" fill=\"#000000\" fill-rule=\"evenodd\" fill-opacity=\"1\" /><path clip-path=\"url(#clip030)\" d=\"M90.8067 1304.35 L109.163 1304.35 L109.163 1308.28 L95.0891 1308.28 L95.0891 1316.76 Q96.1076 1316.41 97.1261 1316.25 Q98.1447 1316.06 99.1632 1316.06 Q104.95 1316.06 108.33 1319.23 Q111.709 1322.4 111.709 1327.82 Q111.709 1333.4 108.237 1336.5 Q104.765 1339.58 98.4456 1339.58 Q96.2697 1339.58 94.0012 1339.21 Q91.7558 1338.84 89.3484 1338.1 L89.3484 1333.4 Q91.4317 1334.53 93.6539 1335.09 Q95.8761 1335.64 98.353 1335.64 Q102.358 1335.64 104.696 1333.54 Q107.033 1331.43 107.033 1327.82 Q107.033 1324.21 104.696 1322.1 Q102.358 1320 98.353 1320 Q96.478 1320 94.603 1320.41 Q92.7512 1320.83 90.8067 1321.71 L90.8067 1304.35 Z\" fill=\"#000000\" fill-rule=\"evenodd\" fill-opacity=\"1\" /><path clip-path=\"url(#clip030)\" d=\"M130.922 1307.43 Q127.311 1307.43 125.482 1310.99 Q123.677 1314.53 123.677 1321.66 Q123.677 1328.77 125.482 1332.33 Q127.311 1335.88 130.922 1335.88 Q134.556 1335.88 136.362 1332.33 Q138.191 1328.77 138.191 1321.66 Q138.191 1314.53 136.362 1310.99 Q134.556 1307.43 130.922 1307.43 M130.922 1303.72 Q136.732 1303.72 139.788 1308.33 Q142.867 1312.91 142.867 1321.66 Q142.867 1330.39 139.788 1335 Q136.732 1339.58 130.922 1339.58 Q125.112 1339.58 122.033 1335 Q118.978 1330.39 118.978 1321.66 Q118.978 1312.91 122.033 1308.33 Q125.112 1303.72 130.922 1303.72 Z\" fill=\"#000000\" fill-rule=\"evenodd\" fill-opacity=\"1\" /><path clip-path=\"url(#clip030)\" d=\"M130.922 988.569 Q127.311 988.569 125.482 992.134 Q123.677 995.675 123.677 1002.8 Q123.677 1009.91 125.482 1013.48 Q127.311 1017.02 130.922 1017.02 Q134.556 1017.02 136.362 1013.48 Q138.191 1009.91 138.191 1002.8 Q138.191 995.675 136.362 992.134 Q134.556 988.569 130.922 988.569 M130.922 984.865 Q136.732 984.865 139.788 989.472 Q142.867 994.055 142.867 1002.8 Q142.867 1011.53 139.788 1016.14 Q136.732 1020.72 130.922 1020.72 Q125.112 1020.72 122.033 1016.14 Q118.978 1011.53 118.978 1002.8 Q118.978 994.055 122.033 989.472 Q125.112 984.865 130.922 984.865 Z\" fill=\"#000000\" fill-rule=\"evenodd\" fill-opacity=\"1\" /><path clip-path=\"url(#clip030)\" d=\"M90.8067 666.632 L109.163 666.632 L109.163 670.567 L95.0891 670.567 L95.0891 679.039 Q96.1076 678.692 97.1261 678.53 Q98.1447 678.345 99.1632 678.345 Q104.95 678.345 108.33 681.516 Q111.709 684.687 111.709 690.104 Q111.709 695.682 108.237 698.784 Q104.765 701.863 98.4456 701.863 Q96.2697 701.863 94.0012 701.493 Q91.7558 701.122 89.3484 700.382 L89.3484 695.682 Q91.4317 696.817 93.6539 697.372 Q95.8761 697.928 98.353 697.928 Q102.358 697.928 104.696 695.821 Q107.033 693.715 107.033 690.104 Q107.033 686.493 104.696 684.386 Q102.358 682.28 98.353 682.28 Q96.478 682.28 94.603 682.696 Q92.7512 683.113 90.8067 683.993 L90.8067 666.632 Z\" fill=\"#000000\" fill-rule=\"evenodd\" fill-opacity=\"1\" /><path clip-path=\"url(#clip030)\" d=\"M130.922 669.71 Q127.311 669.71 125.482 673.275 Q123.677 676.817 123.677 683.946 Q123.677 691.053 125.482 694.618 Q127.311 698.159 130.922 698.159 Q134.556 698.159 136.362 694.618 Q138.191 691.053 138.191 683.946 Q138.191 676.817 136.362 673.275 Q134.556 669.71 130.922 669.71 M130.922 666.007 Q136.732 666.007 139.788 670.613 Q142.867 675.196 142.867 683.946 Q142.867 692.673 139.788 697.28 Q136.732 701.863 130.922 701.863 Q125.112 701.863 122.033 697.28 Q118.978 692.673 118.978 683.946 Q118.978 675.196 122.033 670.613 Q125.112 666.007 130.922 666.007 Z\" fill=\"#000000\" fill-rule=\"evenodd\" fill-opacity=\"1\" /><path clip-path=\"url(#clip030)\" d=\"M61.4087 378.398 L69.0476 378.398 L69.0476 352.032 L60.7374 353.699 L60.7374 349.44 L69.0013 347.773 L73.6772 347.773 L73.6772 378.398 L81.316 378.398 L81.316 382.333 L61.4087 382.333 L61.4087 378.398 Z\" fill=\"#000000\" fill-rule=\"evenodd\" fill-opacity=\"1\" /><path clip-path=\"url(#clip030)\" d=\"M100.76 350.852 Q97.1493 350.852 95.3206 354.417 Q93.515 357.958 93.515 365.088 Q93.515 372.194 95.3206 375.759 Q97.1493 379.301 100.76 379.301 Q104.395 379.301 106.2 375.759 Q108.029 372.194 108.029 365.088 Q108.029 357.958 106.2 354.417 Q104.395 350.852 100.76 350.852 M100.76 347.148 Q106.571 347.148 109.626 351.755 Q112.705 356.338 112.705 365.088 Q112.705 373.815 109.626 378.421 Q106.571 383.004 100.76 383.004 Q94.9502 383.004 91.8715 378.421 Q88.816 373.815 88.816 365.088 Q88.816 356.338 91.8715 351.755 Q94.9502 347.148 100.76 347.148 Z\" fill=\"#000000\" fill-rule=\"evenodd\" fill-opacity=\"1\" /><path clip-path=\"url(#clip030)\" d=\"M130.922 350.852 Q127.311 350.852 125.482 354.417 Q123.677 357.958 123.677 365.088 Q123.677 372.194 125.482 375.759 Q127.311 379.301 130.922 379.301 Q134.556 379.301 136.362 375.759 Q138.191 372.194 138.191 365.088 Q138.191 357.958 136.362 354.417 Q134.556 350.852 130.922 350.852 M130.922 347.148 Q136.732 347.148 139.788 351.755 Q142.867 356.338 142.867 365.088 Q142.867 373.815 139.788 378.421 Q136.732 383.004 130.922 383.004 Q125.112 383.004 122.033 378.421 Q118.978 373.815 118.978 365.088 Q118.978 356.338 122.033 351.755 Q125.112 347.148 130.922 347.148 Z\" fill=\"#000000\" fill-rule=\"evenodd\" fill-opacity=\"1\" /><circle clip-path=\"url(#clip032)\" cx=\"240.392\" cy=\"539.838\" r=\"14.4\" fill=\"#009af9\" fill-rule=\"evenodd\" fill-opacity=\"1\" stroke=\"#000000\" stroke-opacity=\"1\" stroke-width=\"3.2\"/>\n",
       "<circle clip-path=\"url(#clip032)\" cx=\"342.934\" cy=\"767.46\" r=\"14.4\" fill=\"#009af9\" fill-rule=\"evenodd\" fill-opacity=\"1\" stroke=\"#000000\" stroke-opacity=\"1\" stroke-width=\"3.2\"/>\n",
       "<circle clip-path=\"url(#clip032)\" cx=\"445.476\" cy=\"1128.34\" r=\"14.4\" fill=\"#009af9\" fill-rule=\"evenodd\" fill-opacity=\"1\" stroke=\"#000000\" stroke-opacity=\"1\" stroke-width=\"3.2\"/>\n",
       "<circle clip-path=\"url(#clip032)\" cx=\"548.018\" cy=\"434.873\" r=\"14.4\" fill=\"#009af9\" fill-rule=\"evenodd\" fill-opacity=\"1\" stroke=\"#000000\" stroke-opacity=\"1\" stroke-width=\"3.2\"/>\n",
       "<circle clip-path=\"url(#clip032)\" cx=\"650.56\" cy=\"546.962\" r=\"14.4\" fill=\"#009af9\" fill-rule=\"evenodd\" fill-opacity=\"1\" stroke=\"#000000\" stroke-opacity=\"1\" stroke-width=\"3.2\"/>\n",
       "<circle clip-path=\"url(#clip032)\" cx=\"753.102\" cy=\"1217.06\" r=\"14.4\" fill=\"#009af9\" fill-rule=\"evenodd\" fill-opacity=\"1\" stroke=\"#000000\" stroke-opacity=\"1\" stroke-width=\"3.2\"/>\n",
       "<circle clip-path=\"url(#clip032)\" cx=\"855.643\" cy=\"833.118\" r=\"14.4\" fill=\"#009af9\" fill-rule=\"evenodd\" fill-opacity=\"1\" stroke=\"#000000\" stroke-opacity=\"1\" stroke-width=\"3.2\"/>\n",
       "<circle clip-path=\"url(#clip032)\" cx=\"958.185\" cy=\"1445.72\" r=\"14.4\" fill=\"#009af9\" fill-rule=\"evenodd\" fill-opacity=\"1\" stroke=\"#000000\" stroke-opacity=\"1\" stroke-width=\"3.2\"/>\n",
       "<circle clip-path=\"url(#clip032)\" cx=\"1060.73\" cy=\"1295.46\" r=\"14.4\" fill=\"#009af9\" fill-rule=\"evenodd\" fill-opacity=\"1\" stroke=\"#000000\" stroke-opacity=\"1\" stroke-width=\"3.2\"/>\n",
       "<circle clip-path=\"url(#clip032)\" cx=\"1163.27\" cy=\"1370.29\" r=\"14.4\" fill=\"#009af9\" fill-rule=\"evenodd\" fill-opacity=\"1\" stroke=\"#000000\" stroke-opacity=\"1\" stroke-width=\"3.2\"/>\n",
       "<circle clip-path=\"url(#clip032)\" cx=\"1265.81\" cy=\"1054.53\" r=\"14.4\" fill=\"#009af9\" fill-rule=\"evenodd\" fill-opacity=\"1\" stroke=\"#000000\" stroke-opacity=\"1\" stroke-width=\"3.2\"/>\n",
       "<circle clip-path=\"url(#clip032)\" cx=\"1368.35\" cy=\"787.542\" r=\"14.4\" fill=\"#009af9\" fill-rule=\"evenodd\" fill-opacity=\"1\" stroke=\"#000000\" stroke-opacity=\"1\" stroke-width=\"3.2\"/>\n",
       "<circle clip-path=\"url(#clip032)\" cx=\"1470.9\" cy=\"544.493\" r=\"14.4\" fill=\"#009af9\" fill-rule=\"evenodd\" fill-opacity=\"1\" stroke=\"#000000\" stroke-opacity=\"1\" stroke-width=\"3.2\"/>\n",
       "<circle clip-path=\"url(#clip032)\" cx=\"1573.44\" cy=\"957.17\" r=\"14.4\" fill=\"#009af9\" fill-rule=\"evenodd\" fill-opacity=\"1\" stroke=\"#000000\" stroke-opacity=\"1\" stroke-width=\"3.2\"/>\n",
       "<circle clip-path=\"url(#clip032)\" cx=\"1675.98\" cy=\"455.869\" r=\"14.4\" fill=\"#009af9\" fill-rule=\"evenodd\" fill-opacity=\"1\" stroke=\"#000000\" stroke-opacity=\"1\" stroke-width=\"3.2\"/>\n",
       "<circle clip-path=\"url(#clip032)\" cx=\"1778.52\" cy=\"875.745\" r=\"14.4\" fill=\"#009af9\" fill-rule=\"evenodd\" fill-opacity=\"1\" stroke=\"#000000\" stroke-opacity=\"1\" stroke-width=\"3.2\"/>\n",
       "<circle clip-path=\"url(#clip032)\" cx=\"1881.06\" cy=\"317.451\" r=\"14.4\" fill=\"#009af9\" fill-rule=\"evenodd\" fill-opacity=\"1\" stroke=\"#000000\" stroke-opacity=\"1\" stroke-width=\"3.2\"/>\n",
       "<circle clip-path=\"url(#clip032)\" cx=\"1983.6\" cy=\"1259.81\" r=\"14.4\" fill=\"#009af9\" fill-rule=\"evenodd\" fill-opacity=\"1\" stroke=\"#000000\" stroke-opacity=\"1\" stroke-width=\"3.2\"/>\n",
       "<circle clip-path=\"url(#clip032)\" cx=\"2086.15\" cy=\"372.099\" r=\"14.4\" fill=\"#009af9\" fill-rule=\"evenodd\" fill-opacity=\"1\" stroke=\"#000000\" stroke-opacity=\"1\" stroke-width=\"3.2\"/>\n",
       "<circle clip-path=\"url(#clip032)\" cx=\"2188.69\" cy=\"547.201\" r=\"14.4\" fill=\"#009af9\" fill-rule=\"evenodd\" fill-opacity=\"1\" stroke=\"#000000\" stroke-opacity=\"1\" stroke-width=\"3.2\"/>\n",
       "<circle clip-path=\"url(#clip032)\" cx=\"2291.23\" cy=\"87.9763\" r=\"14.4\" fill=\"#009af9\" fill-rule=\"evenodd\" fill-opacity=\"1\" stroke=\"#000000\" stroke-opacity=\"1\" stroke-width=\"3.2\"/>\n",
       "<polyline clip-path=\"url(#clip032)\" style=\"stroke:#e26f46; stroke-linecap:round; stroke-linejoin:round; stroke-width:4; stroke-opacity:1; fill:none\" points=\"240.392,569.123 342.934,671.157 445.476,760.438 548.018,836.964 650.56,900.736 753.102,951.753 855.643,990.016 958.185,1015.52 1060.73,1028.28 1163.27,1028.28 1265.81,1015.52 1368.35,990.016 1470.9,951.753 1573.44,900.736 1675.98,836.964 1778.52,760.438 1881.06,671.157 1983.6,569.123 2086.15,454.334 2188.69,326.79 2291.23,186.492 \"/>\n",
       "<polyline clip-path=\"url(#clip032)\" style=\"stroke:#3da44d; stroke-linecap:round; stroke-linejoin:round; stroke-width:4; stroke-opacity:1; fill:none\" points=\"240.392,617.616 342.934,711.64 445.476,793.726 548.018,863.876 650.56,922.09 753.102,968.366 855.643,1002.71 958.185,1025.11 1060.73,1035.58 1163.27,1034.1 1265.81,1020.7 1368.35,995.354 1470.9,958.073 1573.44,908.855 1675.98,847.701 1778.52,774.61 1881.06,689.582 1983.6,592.618 2086.15,483.716 2188.69,362.878 2291.23,230.103 \"/>\n",
       "<path clip-path=\"url(#clip030)\" d=\"M251.33 302.578 L692.028 302.578 L692.028 95.2176 L251.33 95.2176  Z\" fill=\"#ffffff\" fill-rule=\"evenodd\" fill-opacity=\"1\"/>\n",
       "<polyline clip-path=\"url(#clip030)\" style=\"stroke:#000000; stroke-linecap:round; stroke-linejoin:round; stroke-width:4; stroke-opacity:1; fill:none\" points=\"251.33,302.578 692.028,302.578 692.028,95.2176 251.33,95.2176 251.33,302.578 \"/>\n",
       "<circle clip-path=\"url(#clip030)\" cx=\"347.947\" cy=\"147.058\" r=\"23.04\" fill=\"#009af9\" fill-rule=\"evenodd\" fill-opacity=\"1\" stroke=\"#000000\" stroke-opacity=\"1\" stroke-width=\"5.12\"/>\n",
       "<path clip-path=\"url(#clip030)\" d=\"M463.476 142.347 L463.476 128.319 L467.735 128.319 L467.735 164.338 L463.476 164.338 L463.476 160.449 Q462.134 162.763 460.073 163.898 Q458.036 165.009 455.166 165.009 Q450.467 165.009 447.504 161.259 Q444.564 157.509 444.564 151.398 Q444.564 145.287 447.504 141.537 Q450.467 137.787 455.166 137.787 Q458.036 137.787 460.073 138.921 Q462.134 140.032 463.476 142.347 M448.962 151.398 Q448.962 156.097 450.884 158.782 Q452.828 161.444 456.208 161.444 Q459.587 161.444 461.532 158.782 Q463.476 156.097 463.476 151.398 Q463.476 146.699 461.532 144.037 Q459.587 141.352 456.208 141.352 Q452.828 141.352 450.884 144.037 Q448.962 146.699 448.962 151.398 Z\" fill=\"#000000\" fill-rule=\"evenodd\" fill-opacity=\"1\" /><path clip-path=\"url(#clip030)\" d=\"M488.291 151.305 Q483.129 151.305 481.138 152.486 Q479.147 153.666 479.147 156.514 Q479.147 158.782 480.629 160.125 Q482.133 161.444 484.703 161.444 Q488.245 161.444 490.374 158.944 Q492.527 156.421 492.527 152.254 L492.527 151.305 L488.291 151.305 M496.786 149.546 L496.786 164.338 L492.527 164.338 L492.527 160.402 Q491.069 162.763 488.893 163.898 Q486.717 165.009 483.569 165.009 Q479.587 165.009 477.226 162.787 Q474.888 160.541 474.888 156.791 Q474.888 152.416 477.805 150.194 Q480.745 147.972 486.555 147.972 L492.527 147.972 L492.527 147.555 Q492.527 144.615 490.582 143.018 Q488.661 141.398 485.166 141.398 Q482.944 141.398 480.837 141.93 Q478.731 142.463 476.786 143.527 L476.786 139.592 Q479.124 138.69 481.323 138.25 Q483.522 137.787 485.606 137.787 Q491.231 137.787 494.008 140.703 Q496.786 143.62 496.786 149.546 Z\" fill=\"#000000\" fill-rule=\"evenodd\" fill-opacity=\"1\" /><path clip-path=\"url(#clip030)\" d=\"M509.772 131.051 L509.772 138.412 L518.545 138.412 L518.545 141.722 L509.772 141.722 L509.772 155.796 Q509.772 158.967 510.629 159.87 Q511.508 160.773 514.17 160.773 L518.545 160.773 L518.545 164.338 L514.17 164.338 Q509.24 164.338 507.365 162.509 Q505.49 160.657 505.49 155.796 L505.49 141.722 L502.365 141.722 L502.365 138.412 L505.49 138.412 L505.49 131.051 L509.772 131.051 Z\" fill=\"#000000\" fill-rule=\"evenodd\" fill-opacity=\"1\" /><path clip-path=\"url(#clip030)\" d=\"M535.929 151.305 Q530.767 151.305 528.777 152.486 Q526.786 153.666 526.786 156.514 Q526.786 158.782 528.267 160.125 Q529.772 161.444 532.342 161.444 Q535.883 161.444 538.013 158.944 Q540.166 156.421 540.166 152.254 L540.166 151.305 L535.929 151.305 M544.425 149.546 L544.425 164.338 L540.166 164.338 L540.166 160.402 Q538.707 162.763 536.531 163.898 Q534.355 165.009 531.207 165.009 Q527.226 165.009 524.865 162.787 Q522.527 160.541 522.527 156.791 Q522.527 152.416 525.443 150.194 Q528.383 147.972 534.193 147.972 L540.166 147.972 L540.166 147.555 Q540.166 144.615 538.221 143.018 Q536.3 141.398 532.804 141.398 Q530.582 141.398 528.476 141.93 Q526.369 142.463 524.425 143.527 L524.425 139.592 Q526.763 138.69 528.962 138.25 Q531.161 137.787 533.244 137.787 Q538.869 137.787 541.647 140.703 Q544.425 143.62 544.425 149.546 Z\" fill=\"#000000\" fill-rule=\"evenodd\" fill-opacity=\"1\" /><polyline clip-path=\"url(#clip030)\" style=\"stroke:#e26f46; stroke-linecap:round; stroke-linejoin:round; stroke-width:4; stroke-opacity:1; fill:none\" points=\"275.484,198.898 420.41,198.898 \"/>\n",
       "<path clip-path=\"url(#clip030)\" d=\"M451.972 182.891 L451.972 190.252 L460.745 190.252 L460.745 193.562 L451.972 193.562 L451.972 207.636 Q451.972 210.807 452.828 211.71 Q453.708 212.613 456.37 212.613 L460.745 212.613 L460.745 216.178 L456.37 216.178 Q451.439 216.178 449.564 214.349 Q447.689 212.497 447.689 207.636 L447.689 193.562 L444.564 193.562 L444.564 190.252 L447.689 190.252 L447.689 182.891 L451.972 182.891 Z\" fill=\"#000000\" fill-rule=\"evenodd\" fill-opacity=\"1\" /><path clip-path=\"url(#clip030)\" d=\"M481.37 194.233 Q480.652 193.817 479.796 193.631 Q478.962 193.423 477.944 193.423 Q474.333 193.423 472.388 195.784 Q470.467 198.122 470.467 202.52 L470.467 216.178 L466.184 216.178 L466.184 190.252 L470.467 190.252 L470.467 194.28 Q471.809 191.918 473.962 190.784 Q476.115 189.627 479.194 189.627 Q479.633 189.627 480.166 189.696 Q480.698 189.743 481.346 189.858 L481.37 194.233 Z\" fill=\"#000000\" fill-rule=\"evenodd\" fill-opacity=\"1\" /><path clip-path=\"url(#clip030)\" d=\"M485.397 205.946 L485.397 190.252 L489.657 190.252 L489.657 205.784 Q489.657 209.465 491.092 211.316 Q492.527 213.145 495.397 213.145 Q498.846 213.145 500.837 210.946 Q502.851 208.747 502.851 204.951 L502.851 190.252 L507.11 190.252 L507.11 216.178 L502.851 216.178 L502.851 212.196 Q501.3 214.557 499.24 215.715 Q497.203 216.849 494.494 216.849 Q490.027 216.849 487.712 214.071 Q485.397 211.293 485.397 205.946 M496.115 189.627 L496.115 189.627 Z\" fill=\"#000000\" fill-rule=\"evenodd\" fill-opacity=\"1\" /><path clip-path=\"url(#clip030)\" d=\"M538.059 202.15 L538.059 204.233 L518.476 204.233 Q518.754 208.631 521.115 210.946 Q523.499 213.238 527.735 213.238 Q530.189 213.238 532.48 212.636 Q534.795 212.034 537.064 210.83 L537.064 214.858 Q534.772 215.83 532.365 216.34 Q529.957 216.849 527.48 216.849 Q521.277 216.849 517.643 213.238 Q514.031 209.627 514.031 203.469 Q514.031 197.104 517.457 193.377 Q520.906 189.627 526.74 189.627 Q531.971 189.627 535.004 193.006 Q538.059 196.363 538.059 202.15 M533.8 200.9 Q533.754 197.405 531.832 195.321 Q529.934 193.238 526.786 193.238 Q523.221 193.238 521.068 195.252 Q518.939 197.266 518.615 200.923 L533.8 200.9 Z\" fill=\"#000000\" fill-rule=\"evenodd\" fill-opacity=\"1\" /><path clip-path=\"url(#clip030)\" d=\"M560.119 180.159 L564.378 180.159 L564.378 216.178 L560.119 216.178 L560.119 180.159 Z\" fill=\"#000000\" fill-rule=\"evenodd\" fill-opacity=\"1\" /><path clip-path=\"url(#clip030)\" d=\"M573.29 190.252 L577.55 190.252 L577.55 216.178 L573.29 216.178 L573.29 190.252 M573.29 180.159 L577.55 180.159 L577.55 185.553 L573.29 185.553 L573.29 180.159 Z\" fill=\"#000000\" fill-rule=\"evenodd\" fill-opacity=\"1\" /><path clip-path=\"url(#clip030)\" d=\"M608.012 200.529 L608.012 216.178 L603.753 216.178 L603.753 200.668 Q603.753 196.988 602.318 195.159 Q600.883 193.33 598.012 193.33 Q594.563 193.33 592.573 195.53 Q590.582 197.729 590.582 201.525 L590.582 216.178 L586.3 216.178 L586.3 190.252 L590.582 190.252 L590.582 194.28 Q592.11 191.942 594.17 190.784 Q596.253 189.627 598.962 189.627 Q603.429 189.627 605.721 192.405 Q608.012 195.159 608.012 200.529 Z\" fill=\"#000000\" fill-rule=\"evenodd\" fill-opacity=\"1\" /><path clip-path=\"url(#clip030)\" d=\"M638.684 202.15 L638.684 204.233 L619.1 204.233 Q619.378 208.631 621.739 210.946 Q624.123 213.238 628.36 213.238 Q630.813 213.238 633.105 212.636 Q635.42 212.034 637.688 210.83 L637.688 214.858 Q635.397 215.83 632.989 216.34 Q630.582 216.849 628.105 216.849 Q621.901 216.849 618.267 213.238 Q614.656 209.627 614.656 203.469 Q614.656 197.104 618.082 193.377 Q621.531 189.627 627.364 189.627 Q632.596 189.627 635.628 193.006 Q638.684 196.363 638.684 202.15 M634.424 200.9 Q634.378 197.405 632.457 195.321 Q630.559 193.238 627.41 193.238 Q623.846 193.238 621.693 195.252 Q619.563 197.266 619.239 200.923 L634.424 200.9 Z\" fill=\"#000000\" fill-rule=\"evenodd\" fill-opacity=\"1\" /><polyline clip-path=\"url(#clip030)\" style=\"stroke:#3da44d; stroke-linecap:round; stroke-linejoin:round; stroke-width:4; stroke-opacity:1; fill:none\" points=\"275.484,250.738 420.41,250.738 \"/>\n",
       "<path clip-path=\"url(#clip030)\" d=\"M461.069 231.999 L461.069 235.541 L456.995 235.541 Q454.703 235.541 453.8 236.467 Q452.921 237.393 452.921 239.8 L452.921 242.092 L459.934 242.092 L459.934 245.402 L452.921 245.402 L452.921 268.018 L448.638 268.018 L448.638 245.402 L444.564 245.402 L444.564 242.092 L448.638 242.092 L448.638 240.286 Q448.638 235.958 450.652 233.99 Q452.666 231.999 457.041 231.999 L461.069 231.999 Z\" fill=\"#000000\" fill-rule=\"evenodd\" fill-opacity=\"1\" /><path clip-path=\"url(#clip030)\" d=\"M464.634 242.092 L468.893 242.092 L468.893 268.018 L464.634 268.018 L464.634 242.092 M464.634 231.999 L468.893 231.999 L468.893 237.393 L464.634 237.393 L464.634 231.999 Z\" fill=\"#000000\" fill-rule=\"evenodd\" fill-opacity=\"1\" /><path clip-path=\"url(#clip030)\" d=\"M482.018 234.731 L482.018 242.092 L490.791 242.092 L490.791 245.402 L482.018 245.402 L482.018 259.476 Q482.018 262.647 482.874 263.55 Q483.754 264.453 486.416 264.453 L490.791 264.453 L490.791 268.018 L486.416 268.018 Q481.485 268.018 479.61 266.189 Q477.735 264.337 477.735 259.476 L477.735 245.402 L474.61 245.402 L474.61 242.092 L477.735 242.092 L477.735 234.731 L482.018 234.731 Z\" fill=\"#000000\" fill-rule=\"evenodd\" fill-opacity=\"1\" /><path clip-path=\"url(#clip030)\" d=\"M500.606 234.731 L500.606 242.092 L509.379 242.092 L509.379 245.402 L500.606 245.402 L500.606 259.476 Q500.606 262.647 501.462 263.55 Q502.342 264.453 505.004 264.453 L509.379 264.453 L509.379 268.018 L505.004 268.018 Q500.073 268.018 498.198 266.189 Q496.323 264.337 496.323 259.476 L496.323 245.402 L493.198 245.402 L493.198 242.092 L496.323 242.092 L496.323 234.731 L500.606 234.731 Z\" fill=\"#000000\" fill-rule=\"evenodd\" fill-opacity=\"1\" /><path clip-path=\"url(#clip030)\" d=\"M537.156 253.99 L537.156 256.073 L517.573 256.073 Q517.851 260.471 520.212 262.786 Q522.596 265.078 526.832 265.078 Q529.286 265.078 531.578 264.476 Q533.892 263.874 536.161 262.67 L536.161 266.698 Q533.869 267.67 531.462 268.18 Q529.054 268.689 526.578 268.689 Q520.374 268.689 516.74 265.078 Q513.129 261.467 513.129 255.309 Q513.129 248.944 516.555 245.217 Q520.004 241.467 525.837 241.467 Q531.068 241.467 534.101 244.846 Q537.156 248.203 537.156 253.99 M532.897 252.74 Q532.851 249.245 530.929 247.161 Q529.031 245.078 525.883 245.078 Q522.318 245.078 520.166 247.092 Q518.036 249.106 517.712 252.763 L532.897 252.74 Z\" fill=\"#000000\" fill-rule=\"evenodd\" fill-opacity=\"1\" /><path clip-path=\"url(#clip030)\" d=\"M561.207 246.027 L561.207 231.999 L565.466 231.999 L565.466 268.018 L561.207 268.018 L561.207 264.129 Q559.865 266.443 557.804 267.578 Q555.767 268.689 552.897 268.689 Q548.198 268.689 545.235 264.939 Q542.295 261.189 542.295 255.078 Q542.295 248.967 545.235 245.217 Q548.198 241.467 552.897 241.467 Q555.767 241.467 557.804 242.601 Q559.865 243.712 561.207 246.027 M546.693 255.078 Q546.693 259.777 548.615 262.462 Q550.559 265.124 553.939 265.124 Q557.318 265.124 559.263 262.462 Q561.207 259.777 561.207 255.078 Q561.207 250.379 559.263 247.717 Q557.318 245.032 553.939 245.032 Q550.559 245.032 548.615 247.717 Q546.693 250.379 546.693 255.078 Z\" fill=\"#000000\" fill-rule=\"evenodd\" fill-opacity=\"1\" /><path clip-path=\"url(#clip030)\" d=\"M589.309 231.999 L593.568 231.999 L593.568 268.018 L589.309 268.018 L589.309 231.999 Z\" fill=\"#000000\" fill-rule=\"evenodd\" fill-opacity=\"1\" /><path clip-path=\"url(#clip030)\" d=\"M602.48 242.092 L606.739 242.092 L606.739 268.018 L602.48 268.018 L602.48 242.092 M602.48 231.999 L606.739 231.999 L606.739 237.393 L602.48 237.393 L602.48 231.999 Z\" fill=\"#000000\" fill-rule=\"evenodd\" fill-opacity=\"1\" /><path clip-path=\"url(#clip030)\" d=\"M637.202 252.369 L637.202 268.018 L632.943 268.018 L632.943 252.508 Q632.943 248.828 631.508 246.999 Q630.072 245.17 627.202 245.17 Q623.753 245.17 621.762 247.37 Q619.772 249.569 619.772 253.365 L619.772 268.018 L615.489 268.018 L615.489 242.092 L619.772 242.092 L619.772 246.12 Q621.299 243.782 623.36 242.624 Q625.443 241.467 628.151 241.467 Q632.619 241.467 634.91 244.245 Q637.202 246.999 637.202 252.369 Z\" fill=\"#000000\" fill-rule=\"evenodd\" fill-opacity=\"1\" /><path clip-path=\"url(#clip030)\" d=\"M667.873 253.99 L667.873 256.073 L648.29 256.073 Q648.568 260.471 650.929 262.786 Q653.313 265.078 657.549 265.078 Q660.003 265.078 662.295 264.476 Q664.609 263.874 666.878 262.67 L666.878 266.698 Q664.586 267.67 662.179 268.18 Q659.771 268.689 657.295 268.689 Q651.091 268.689 647.457 265.078 Q643.846 261.467 643.846 255.309 Q643.846 248.944 647.271 245.217 Q650.721 241.467 656.554 241.467 Q661.785 241.467 664.818 244.846 Q667.873 248.203 667.873 253.99 M663.614 252.74 Q663.568 249.245 661.646 247.161 Q659.748 245.078 656.6 245.078 Q653.035 245.078 650.883 247.092 Q648.753 249.106 648.429 252.763 L663.614 252.74 Z\" fill=\"#000000\" fill-rule=\"evenodd\" fill-opacity=\"1\" /></svg>\n"
      ]
     },
     "execution_count": 12,
     "metadata": {},
     "output_type": "execute_result"
    }
   ],
   "source": [
    "dataerr = 50\n",
    "d = di.Normal(0,dataerr)\n",
    "y_observed = y_true + rand(d,length(x))\n",
    "x = -10:1:10\n",
    "f(x) = x .^2 + 3.0 .* x - 2\n",
    "y_true = f.(x)\n",
    "line_fit = fit(x,y_observed,2)\n",
    "fit_coeff = coeffs(line_fit)\n",
    "y_fitted = fit_coeff[1] .+ fit_coeff[2] .* x + fit_coeff[3] .* x.^2\n",
    "scatter(x,y_observed, label = \"data\")\n",
    "plot!(x,y_true, label = \"true line\")\n",
    "plot!(x,y_fitted, label = \"fitted line\")"
   ]
  },
  {
   "cell_type": "markdown",
   "id": "ab12acbd",
   "metadata": {},
   "source": [
    "2. Compare the plot with the plot in 2.3. Is the fit closer to y_true or not, and why?"
   ]
  },
  {
   "cell_type": "markdown",
   "id": "a34fcca4",
   "metadata": {},
   "source": [
    "No, 2.4 is not closer than 2.3 because the data error is higher, thus the data points are further from the fit line. "
   ]
  },
  {
   "cell_type": "markdown",
   "id": "5fd1d93b",
   "metadata": {},
   "source": [
    "### 2.5\n",
    "\n",
    "#### Repeat 2.2 and 2.3 with a tenth order polynomial fit\n"
   ]
  },
  {
   "cell_type": "code",
   "execution_count": 35,
   "id": "b6dbd546",
   "metadata": {},
   "outputs": [
    {
     "data": {
      "image/svg+xml": [
       "<?xml version=\"1.0\" encoding=\"utf-8\"?>\n",
       "<svg xmlns=\"http://www.w3.org/2000/svg\" xmlns:xlink=\"http://www.w3.org/1999/xlink\" width=\"600\" height=\"400\" viewBox=\"0 0 2400 1600\">\n",
       "<defs>\n",
       "  <clipPath id=\"clip550\">\n",
       "    <rect x=\"0\" y=\"0\" width=\"2400\" height=\"1600\"/>\n",
       "  </clipPath>\n",
       "</defs>\n",
       "<path clip-path=\"url(#clip550)\" d=\"M0 1600 L2400 1600 L2400 0 L0 0  Z\" fill=\"#ffffff\" fill-rule=\"evenodd\" fill-opacity=\"1\"/>\n",
       "<defs>\n",
       "  <clipPath id=\"clip551\">\n",
       "    <rect x=\"480\" y=\"0\" width=\"1681\" height=\"1600\"/>\n",
       "  </clipPath>\n",
       "</defs>\n",
       "<path clip-path=\"url(#clip550)\" d=\"M169.121 1486.45 L2352.76 1486.45 L2352.76 47.2441 L169.121 47.2441  Z\" fill=\"#ffffff\" fill-rule=\"evenodd\" fill-opacity=\"1\"/>\n",
       "<defs>\n",
       "  <clipPath id=\"clip552\">\n",
       "    <rect x=\"169\" y=\"47\" width=\"2185\" height=\"1440\"/>\n",
       "  </clipPath>\n",
       "</defs>\n",
       "<polyline clip-path=\"url(#clip552)\" style=\"stroke:#000000; stroke-linecap:round; stroke-linejoin:round; stroke-width:2; stroke-opacity:0.1; fill:none\" points=\"230.922,1486.45 230.922,47.2441 \"/>\n",
       "<polyline clip-path=\"url(#clip552)\" style=\"stroke:#000000; stroke-linecap:round; stroke-linejoin:round; stroke-width:2; stroke-opacity:0.1; fill:none\" points=\"745.93,1486.45 745.93,47.2441 \"/>\n",
       "<polyline clip-path=\"url(#clip552)\" style=\"stroke:#000000; stroke-linecap:round; stroke-linejoin:round; stroke-width:2; stroke-opacity:0.1; fill:none\" points=\"1260.94,1486.45 1260.94,47.2441 \"/>\n",
       "<polyline clip-path=\"url(#clip552)\" style=\"stroke:#000000; stroke-linecap:round; stroke-linejoin:round; stroke-width:2; stroke-opacity:0.1; fill:none\" points=\"1775.95,1486.45 1775.95,47.2441 \"/>\n",
       "<polyline clip-path=\"url(#clip552)\" style=\"stroke:#000000; stroke-linecap:round; stroke-linejoin:round; stroke-width:2; stroke-opacity:0.1; fill:none\" points=\"2290.95,1486.45 2290.95,47.2441 \"/>\n",
       "<polyline clip-path=\"url(#clip550)\" style=\"stroke:#000000; stroke-linecap:round; stroke-linejoin:round; stroke-width:4; stroke-opacity:1; fill:none\" points=\"169.121,1486.45 2352.76,1486.45 \"/>\n",
       "<polyline clip-path=\"url(#clip550)\" style=\"stroke:#000000; stroke-linecap:round; stroke-linejoin:round; stroke-width:4; stroke-opacity:1; fill:none\" points=\"230.922,1486.45 230.922,1467.55 \"/>\n",
       "<polyline clip-path=\"url(#clip550)\" style=\"stroke:#000000; stroke-linecap:round; stroke-linejoin:round; stroke-width:4; stroke-opacity:1; fill:none\" points=\"745.93,1486.45 745.93,1467.55 \"/>\n",
       "<polyline clip-path=\"url(#clip550)\" style=\"stroke:#000000; stroke-linecap:round; stroke-linejoin:round; stroke-width:4; stroke-opacity:1; fill:none\" points=\"1260.94,1486.45 1260.94,1467.55 \"/>\n",
       "<polyline clip-path=\"url(#clip550)\" style=\"stroke:#000000; stroke-linecap:round; stroke-linejoin:round; stroke-width:4; stroke-opacity:1; fill:none\" points=\"1775.95,1486.45 1775.95,1467.55 \"/>\n",
       "<polyline clip-path=\"url(#clip550)\" style=\"stroke:#000000; stroke-linecap:round; stroke-linejoin:round; stroke-width:4; stroke-opacity:1; fill:none\" points=\"2290.95,1486.45 2290.95,1467.55 \"/>\n",
       "<path clip-path=\"url(#clip550)\" d=\"M184.985 1532.02 L214.661 1532.02 L214.661 1535.95 L184.985 1535.95 L184.985 1532.02 Z\" fill=\"#000000\" fill-rule=\"evenodd\" fill-opacity=\"1\" /><path clip-path=\"url(#clip550)\" d=\"M225.564 1544.91 L233.202 1544.91 L233.202 1518.55 L224.892 1520.21 L224.892 1515.95 L233.156 1514.29 L237.832 1514.29 L237.832 1544.91 L245.471 1544.91 L245.471 1548.85 L225.564 1548.85 L225.564 1544.91 Z\" fill=\"#000000\" fill-rule=\"evenodd\" fill-opacity=\"1\" /><path clip-path=\"url(#clip550)\" d=\"M264.915 1517.37 Q261.304 1517.37 259.475 1520.93 Q257.67 1524.47 257.67 1531.6 Q257.67 1538.71 259.475 1542.27 Q261.304 1545.82 264.915 1545.82 Q268.549 1545.82 270.355 1542.27 Q272.184 1538.71 272.184 1531.6 Q272.184 1524.47 270.355 1520.93 Q268.549 1517.37 264.915 1517.37 M264.915 1513.66 Q270.725 1513.66 273.781 1518.27 Q276.86 1522.85 276.86 1531.6 Q276.86 1540.33 273.781 1544.94 Q270.725 1549.52 264.915 1549.52 Q259.105 1549.52 256.026 1544.94 Q252.971 1540.33 252.971 1531.6 Q252.971 1522.85 256.026 1518.27 Q259.105 1513.66 264.915 1513.66 Z\" fill=\"#000000\" fill-rule=\"evenodd\" fill-opacity=\"1\" /><path clip-path=\"url(#clip550)\" d=\"M715.572 1532.02 L745.248 1532.02 L745.248 1535.95 L715.572 1535.95 L715.572 1532.02 Z\" fill=\"#000000\" fill-rule=\"evenodd\" fill-opacity=\"1\" /><path clip-path=\"url(#clip550)\" d=\"M755.386 1514.29 L773.743 1514.29 L773.743 1518.22 L759.669 1518.22 L759.669 1526.7 Q760.687 1526.35 761.706 1526.19 Q762.724 1526 763.743 1526 Q769.53 1526 772.909 1529.17 Q776.289 1532.34 776.289 1537.76 Q776.289 1543.34 772.817 1546.44 Q769.345 1549.52 763.025 1549.52 Q760.849 1549.52 758.581 1549.15 Q756.335 1548.78 753.928 1548.04 L753.928 1543.34 Q756.011 1544.47 758.234 1545.03 Q760.456 1545.58 762.933 1545.58 Q766.937 1545.58 769.275 1543.48 Q771.613 1541.37 771.613 1537.76 Q771.613 1534.15 769.275 1532.04 Q766.937 1529.94 762.933 1529.94 Q761.058 1529.94 759.183 1530.35 Q757.331 1530.77 755.386 1531.65 L755.386 1514.29 Z\" fill=\"#000000\" fill-rule=\"evenodd\" fill-opacity=\"1\" /><path clip-path=\"url(#clip550)\" d=\"M1260.94 1517.37 Q1257.33 1517.37 1255.5 1520.93 Q1253.69 1524.47 1253.69 1531.6 Q1253.69 1538.71 1255.5 1542.27 Q1257.33 1545.82 1260.94 1545.82 Q1264.57 1545.82 1266.38 1542.27 Q1268.21 1538.71 1268.21 1531.6 Q1268.21 1524.47 1266.38 1520.93 Q1264.57 1517.37 1260.94 1517.37 M1260.94 1513.66 Q1266.75 1513.66 1269.8 1518.27 Q1272.88 1522.85 1272.88 1531.6 Q1272.88 1540.33 1269.8 1544.94 Q1266.75 1549.52 1260.94 1549.52 Q1255.13 1549.52 1252.05 1544.94 Q1248.99 1540.33 1248.99 1531.6 Q1248.99 1522.85 1252.05 1518.27 Q1255.13 1513.66 1260.94 1513.66 Z\" fill=\"#000000\" fill-rule=\"evenodd\" fill-opacity=\"1\" /><path clip-path=\"url(#clip550)\" d=\"M1766.22 1514.29 L1784.58 1514.29 L1784.58 1518.22 L1770.51 1518.22 L1770.51 1526.7 Q1771.53 1526.35 1772.54 1526.19 Q1773.56 1526 1774.58 1526 Q1780.37 1526 1783.75 1529.17 Q1787.13 1532.34 1787.13 1537.76 Q1787.13 1543.34 1783.66 1546.44 Q1780.18 1549.52 1773.86 1549.52 Q1771.69 1549.52 1769.42 1549.15 Q1767.17 1548.78 1764.77 1548.04 L1764.77 1543.34 Q1766.85 1544.47 1769.07 1545.03 Q1771.29 1545.58 1773.77 1545.58 Q1777.78 1545.58 1780.11 1543.48 Q1782.45 1541.37 1782.45 1537.76 Q1782.45 1534.15 1780.11 1532.04 Q1777.78 1529.94 1773.77 1529.94 Q1771.9 1529.94 1770.02 1530.35 Q1768.17 1530.77 1766.22 1531.65 L1766.22 1514.29 Z\" fill=\"#000000\" fill-rule=\"evenodd\" fill-opacity=\"1\" /><path clip-path=\"url(#clip550)\" d=\"M2265.64 1544.91 L2273.28 1544.91 L2273.28 1518.55 L2264.97 1520.21 L2264.97 1515.95 L2273.24 1514.29 L2277.91 1514.29 L2277.91 1544.91 L2285.55 1544.91 L2285.55 1548.85 L2265.64 1548.85 L2265.64 1544.91 Z\" fill=\"#000000\" fill-rule=\"evenodd\" fill-opacity=\"1\" /><path clip-path=\"url(#clip550)\" d=\"M2304.99 1517.37 Q2301.38 1517.37 2299.55 1520.93 Q2297.75 1524.47 2297.75 1531.6 Q2297.75 1538.71 2299.55 1542.27 Q2301.38 1545.82 2304.99 1545.82 Q2308.63 1545.82 2310.43 1542.27 Q2312.26 1538.71 2312.26 1531.6 Q2312.26 1524.47 2310.43 1520.93 Q2308.63 1517.37 2304.99 1517.37 M2304.99 1513.66 Q2310.8 1513.66 2313.86 1518.27 Q2316.94 1522.85 2316.94 1531.6 Q2316.94 1540.33 2313.86 1544.94 Q2310.8 1549.52 2304.99 1549.52 Q2299.18 1549.52 2296.11 1544.94 Q2293.05 1540.33 2293.05 1531.6 Q2293.05 1522.85 2296.11 1518.27 Q2299.18 1513.66 2304.99 1513.66 Z\" fill=\"#000000\" fill-rule=\"evenodd\" fill-opacity=\"1\" /><polyline clip-path=\"url(#clip552)\" style=\"stroke:#000000; stroke-linecap:round; stroke-linejoin:round; stroke-width:2; stroke-opacity:0.1; fill:none\" points=\"169.121,1264.79 2352.76,1264.79 \"/>\n",
       "<polyline clip-path=\"url(#clip552)\" style=\"stroke:#000000; stroke-linecap:round; stroke-linejoin:round; stroke-width:2; stroke-opacity:0.1; fill:none\" points=\"169.121,992.01 2352.76,992.01 \"/>\n",
       "<polyline clip-path=\"url(#clip552)\" style=\"stroke:#000000; stroke-linecap:round; stroke-linejoin:round; stroke-width:2; stroke-opacity:0.1; fill:none\" points=\"169.121,719.227 2352.76,719.227 \"/>\n",
       "<polyline clip-path=\"url(#clip552)\" style=\"stroke:#000000; stroke-linecap:round; stroke-linejoin:round; stroke-width:2; stroke-opacity:0.1; fill:none\" points=\"169.121,446.443 2352.76,446.443 \"/>\n",
       "<polyline clip-path=\"url(#clip552)\" style=\"stroke:#000000; stroke-linecap:round; stroke-linejoin:round; stroke-width:2; stroke-opacity:0.1; fill:none\" points=\"169.121,173.659 2352.76,173.659 \"/>\n",
       "<polyline clip-path=\"url(#clip550)\" style=\"stroke:#000000; stroke-linecap:round; stroke-linejoin:round; stroke-width:4; stroke-opacity:1; fill:none\" points=\"169.121,1486.45 169.121,47.2441 \"/>\n",
       "<polyline clip-path=\"url(#clip550)\" style=\"stroke:#000000; stroke-linecap:round; stroke-linejoin:round; stroke-width:4; stroke-opacity:1; fill:none\" points=\"169.121,1264.79 188.019,1264.79 \"/>\n",
       "<polyline clip-path=\"url(#clip550)\" style=\"stroke:#000000; stroke-linecap:round; stroke-linejoin:round; stroke-width:4; stroke-opacity:1; fill:none\" points=\"169.121,992.01 188.019,992.01 \"/>\n",
       "<polyline clip-path=\"url(#clip550)\" style=\"stroke:#000000; stroke-linecap:round; stroke-linejoin:round; stroke-width:4; stroke-opacity:1; fill:none\" points=\"169.121,719.227 188.019,719.227 \"/>\n",
       "<polyline clip-path=\"url(#clip550)\" style=\"stroke:#000000; stroke-linecap:round; stroke-linejoin:round; stroke-width:4; stroke-opacity:1; fill:none\" points=\"169.121,446.443 188.019,446.443 \"/>\n",
       "<polyline clip-path=\"url(#clip550)\" style=\"stroke:#000000; stroke-linecap:round; stroke-linejoin:round; stroke-width:4; stroke-opacity:1; fill:none\" points=\"169.121,173.659 188.019,173.659 \"/>\n",
       "<path clip-path=\"url(#clip550)\" d=\"M121.177 1250.59 Q117.566 1250.59 115.737 1254.16 Q113.932 1257.7 113.932 1264.83 Q113.932 1271.93 115.737 1275.5 Q117.566 1279.04 121.177 1279.04 Q124.811 1279.04 126.617 1275.5 Q128.445 1271.93 128.445 1264.83 Q128.445 1257.7 126.617 1254.16 Q124.811 1250.59 121.177 1250.59 M121.177 1246.89 Q126.987 1246.89 130.043 1251.5 Q133.121 1256.08 133.121 1264.83 Q133.121 1273.56 130.043 1278.16 Q126.987 1282.75 121.177 1282.75 Q115.367 1282.75 112.288 1278.16 Q109.233 1273.56 109.233 1264.83 Q109.233 1256.08 112.288 1251.5 Q115.367 1246.89 121.177 1246.89 Z\" fill=\"#000000\" fill-rule=\"evenodd\" fill-opacity=\"1\" /><path clip-path=\"url(#clip550)\" d=\"M95.1817 990.656 Q98.5382 991.374 100.413 993.642 Q102.311 995.911 102.311 999.244 Q102.311 1004.36 98.7928 1007.16 Q95.2743 1009.96 88.7928 1009.96 Q86.6169 1009.96 84.3021 1009.52 Q82.0105 1009.11 79.5568 1008.25 L79.5568 1003.73 Q81.5012 1004.87 83.816 1005.45 Q86.1308 1006.03 88.654 1006.03 Q93.0521 1006.03 95.3437 1004.29 Q97.6585 1002.55 97.6585 999.244 Q97.6585 996.188 95.5058 994.475 Q93.3762 992.739 89.5567 992.739 L85.529 992.739 L85.529 988.897 L89.7419 988.897 Q93.191 988.897 95.0197 987.531 Q96.8484 986.142 96.8484 983.55 Q96.8484 980.888 94.9502 979.476 Q93.0752 978.04 89.5567 978.04 Q87.6354 978.04 85.4364 978.457 Q83.2373 978.874 80.5984 979.753 L80.5984 975.587 Q83.2605 974.846 85.5753 974.476 Q87.9132 974.105 89.9734 974.105 Q95.2974 974.105 98.3993 976.536 Q101.501 978.943 101.501 983.064 Q101.501 985.934 99.8576 987.925 Q98.2141 989.892 95.1817 990.656 Z\" fill=\"#000000\" fill-rule=\"evenodd\" fill-opacity=\"1\" /><path clip-path=\"url(#clip550)\" d=\"M121.177 977.809 Q117.566 977.809 115.737 981.374 Q113.932 984.915 113.932 992.045 Q113.932 999.151 115.737 1002.72 Q117.566 1006.26 121.177 1006.26 Q124.811 1006.26 126.617 1002.72 Q128.445 999.151 128.445 992.045 Q128.445 984.915 126.617 981.374 Q124.811 977.809 121.177 977.809 M121.177 974.105 Q126.987 974.105 130.043 978.712 Q133.121 983.295 133.121 992.045 Q133.121 1000.77 130.043 1005.38 Q126.987 1009.96 121.177 1009.96 Q115.367 1009.96 112.288 1005.38 Q109.233 1000.77 109.233 992.045 Q109.233 983.295 112.288 978.712 Q115.367 974.105 121.177 974.105 Z\" fill=\"#000000\" fill-rule=\"evenodd\" fill-opacity=\"1\" /><path clip-path=\"url(#clip550)\" d=\"M91.5938 717.363 Q88.4456 717.363 86.5938 719.516 Q84.7651 721.669 84.7651 725.419 Q84.7651 729.146 86.5938 731.321 Q88.4456 733.474 91.5938 733.474 Q94.7419 733.474 96.5706 731.321 Q98.4224 729.146 98.4224 725.419 Q98.4224 721.669 96.5706 719.516 Q94.7419 717.363 91.5938 717.363 M100.876 702.711 L100.876 706.97 Q99.1169 706.136 97.3113 705.697 Q95.5289 705.257 93.7697 705.257 Q89.1401 705.257 86.6864 708.382 Q84.2558 711.507 83.9086 717.826 Q85.2743 715.812 87.3345 714.748 Q89.3947 713.66 91.8715 713.66 Q97.0798 713.66 100.089 716.831 Q103.121 719.979 103.121 725.419 Q103.121 730.743 99.9733 733.96 Q96.8252 737.178 91.5938 737.178 Q85.5984 737.178 82.4271 732.595 Q79.2559 727.988 79.2559 719.261 Q79.2559 711.067 83.1447 706.206 Q87.0336 701.322 93.5845 701.322 Q95.3437 701.322 97.1261 701.669 Q98.9317 702.016 100.876 702.711 Z\" fill=\"#000000\" fill-rule=\"evenodd\" fill-opacity=\"1\" /><path clip-path=\"url(#clip550)\" d=\"M121.177 705.025 Q117.566 705.025 115.737 708.59 Q113.932 712.132 113.932 719.261 Q113.932 726.368 115.737 729.933 Q117.566 733.474 121.177 733.474 Q124.811 733.474 126.617 729.933 Q128.445 726.368 128.445 719.261 Q128.445 712.132 126.617 708.59 Q124.811 705.025 121.177 705.025 M121.177 701.322 Q126.987 701.322 130.043 705.928 Q133.121 710.511 133.121 719.261 Q133.121 727.988 130.043 732.595 Q126.987 737.178 121.177 737.178 Q115.367 737.178 112.288 732.595 Q109.233 727.988 109.233 719.261 Q109.233 710.511 112.288 705.928 Q115.367 701.322 121.177 701.322 Z\" fill=\"#000000\" fill-rule=\"evenodd\" fill-opacity=\"1\" /><path clip-path=\"url(#clip550)\" d=\"M81.154 463.005 L81.154 458.746 Q82.9133 459.58 84.7188 460.019 Q86.5243 460.459 88.2604 460.459 Q92.89 460.459 95.3206 457.357 Q97.7743 454.232 98.1215 447.89 Q96.7789 449.881 94.7187 450.945 Q92.6586 452.01 90.1586 452.01 Q84.9734 452.01 81.941 448.885 Q78.9318 445.737 78.9318 440.297 Q78.9318 434.973 82.0799 431.756 Q85.2281 428.538 90.4595 428.538 Q96.4548 428.538 99.603 433.145 Q102.774 437.728 102.774 446.478 Q102.774 454.649 98.8854 459.533 Q95.0197 464.394 88.4688 464.394 Q86.7095 464.394 84.904 464.047 Q83.0984 463.7 81.154 463.005 M90.4595 448.353 Q93.6076 448.353 95.4363 446.2 Q97.2882 444.047 97.2882 440.297 Q97.2882 436.57 95.4363 434.418 Q93.6076 432.242 90.4595 432.242 Q87.3114 432.242 85.4595 434.418 Q83.6308 436.57 83.6308 440.297 Q83.6308 444.047 85.4595 446.2 Q87.3114 448.353 90.4595 448.353 Z\" fill=\"#000000\" fill-rule=\"evenodd\" fill-opacity=\"1\" /><path clip-path=\"url(#clip550)\" d=\"M121.177 432.242 Q117.566 432.242 115.737 435.807 Q113.932 439.348 113.932 446.478 Q113.932 453.584 115.737 457.149 Q117.566 460.691 121.177 460.691 Q124.811 460.691 126.617 457.149 Q128.445 453.584 128.445 446.478 Q128.445 439.348 126.617 435.807 Q124.811 432.242 121.177 432.242 M121.177 428.538 Q126.987 428.538 130.043 433.145 Q133.121 437.728 133.121 446.478 Q133.121 455.205 130.043 459.811 Q126.987 464.394 121.177 464.394 Q115.367 464.394 112.288 459.811 Q109.233 455.205 109.233 446.478 Q109.233 437.728 112.288 433.145 Q115.367 428.538 121.177 428.538 Z\" fill=\"#000000\" fill-rule=\"evenodd\" fill-opacity=\"1\" /><path clip-path=\"url(#clip550)\" d=\"M51.6634 187.004 L59.3023 187.004 L59.3023 160.639 L50.9921 162.305 L50.9921 158.046 L59.256 156.379 L63.9319 156.379 L63.9319 187.004 L71.5707 187.004 L71.5707 190.939 L51.6634 190.939 L51.6634 187.004 Z\" fill=\"#000000\" fill-rule=\"evenodd\" fill-opacity=\"1\" /><path clip-path=\"url(#clip550)\" d=\"M85.0429 187.004 L101.362 187.004 L101.362 190.939 L79.4179 190.939 L79.4179 187.004 Q82.0799 184.25 86.6632 179.62 Q91.2697 174.967 92.4502 173.625 Q94.6956 171.102 95.5752 169.366 Q96.478 167.606 96.478 165.916 Q96.478 163.162 94.5336 161.426 Q92.6123 159.69 89.5104 159.69 Q87.3114 159.69 84.8577 160.454 Q82.4271 161.217 79.6494 162.768 L79.6494 158.046 Q82.4734 156.912 84.9271 156.333 Q87.3808 155.754 89.4178 155.754 Q94.7882 155.754 97.9826 158.44 Q101.177 161.125 101.177 165.616 Q101.177 167.745 100.367 169.666 Q99.5798 171.565 97.4734 174.157 Q96.8947 174.828 93.7928 178.046 Q90.691 181.24 85.0429 187.004 Z\" fill=\"#000000\" fill-rule=\"evenodd\" fill-opacity=\"1\" /><path clip-path=\"url(#clip550)\" d=\"M121.177 159.458 Q117.566 159.458 115.737 163.023 Q113.932 166.565 113.932 173.694 Q113.932 180.801 115.737 184.365 Q117.566 187.907 121.177 187.907 Q124.811 187.907 126.617 184.365 Q128.445 180.801 128.445 173.694 Q128.445 166.565 126.617 163.023 Q124.811 159.458 121.177 159.458 M121.177 155.754 Q126.987 155.754 130.043 160.361 Q133.121 164.944 133.121 173.694 Q133.121 182.421 130.043 187.027 Q126.987 191.611 121.177 191.611 Q115.367 191.611 112.288 187.027 Q109.233 182.421 109.233 173.694 Q109.233 164.944 112.288 160.361 Q115.367 155.754 121.177 155.754 Z\" fill=\"#000000\" fill-rule=\"evenodd\" fill-opacity=\"1\" /><circle clip-path=\"url(#clip552)\" cx=\"230.922\" cy=\"494.064\" r=\"14.4\" fill=\"#009af9\" fill-rule=\"evenodd\" fill-opacity=\"1\" stroke=\"#000000\" stroke-opacity=\"1\" stroke-width=\"3.2\"/>\n",
       "<circle clip-path=\"url(#clip552)\" cx=\"333.924\" cy=\"751.163\" r=\"14.4\" fill=\"#009af9\" fill-rule=\"evenodd\" fill-opacity=\"1\" stroke=\"#000000\" stroke-opacity=\"1\" stroke-width=\"3.2\"/>\n",
       "<circle clip-path=\"url(#clip552)\" cx=\"436.926\" cy=\"895.853\" r=\"14.4\" fill=\"#009af9\" fill-rule=\"evenodd\" fill-opacity=\"1\" stroke=\"#000000\" stroke-opacity=\"1\" stroke-width=\"3.2\"/>\n",
       "<circle clip-path=\"url(#clip552)\" cx=\"539.927\" cy=\"972.548\" r=\"14.4\" fill=\"#009af9\" fill-rule=\"evenodd\" fill-opacity=\"1\" stroke=\"#000000\" stroke-opacity=\"1\" stroke-width=\"3.2\"/>\n",
       "<circle clip-path=\"url(#clip552)\" cx=\"642.929\" cy=\"1146.22\" r=\"14.4\" fill=\"#009af9\" fill-rule=\"evenodd\" fill-opacity=\"1\" stroke=\"#000000\" stroke-opacity=\"1\" stroke-width=\"3.2\"/>\n",
       "<circle clip-path=\"url(#clip552)\" cx=\"745.93\" cy=\"1101.82\" r=\"14.4\" fill=\"#009af9\" fill-rule=\"evenodd\" fill-opacity=\"1\" stroke=\"#000000\" stroke-opacity=\"1\" stroke-width=\"3.2\"/>\n",
       "<circle clip-path=\"url(#clip552)\" cx=\"848.932\" cy=\"1156.99\" r=\"14.4\" fill=\"#009af9\" fill-rule=\"evenodd\" fill-opacity=\"1\" stroke=\"#000000\" stroke-opacity=\"1\" stroke-width=\"3.2\"/>\n",
       "<circle clip-path=\"url(#clip552)\" cx=\"951.934\" cy=\"1445.72\" r=\"14.4\" fill=\"#009af9\" fill-rule=\"evenodd\" fill-opacity=\"1\" stroke=\"#000000\" stroke-opacity=\"1\" stroke-width=\"3.2\"/>\n",
       "<circle clip-path=\"url(#clip552)\" cx=\"1054.94\" cy=\"1349.66\" r=\"14.4\" fill=\"#009af9\" fill-rule=\"evenodd\" fill-opacity=\"1\" stroke=\"#000000\" stroke-opacity=\"1\" stroke-width=\"3.2\"/>\n",
       "<circle clip-path=\"url(#clip552)\" cx=\"1157.94\" cy=\"1280.28\" r=\"14.4\" fill=\"#009af9\" fill-rule=\"evenodd\" fill-opacity=\"1\" stroke=\"#000000\" stroke-opacity=\"1\" stroke-width=\"3.2\"/>\n",
       "<circle clip-path=\"url(#clip552)\" cx=\"1260.94\" cy=\"1293.68\" r=\"14.4\" fill=\"#009af9\" fill-rule=\"evenodd\" fill-opacity=\"1\" stroke=\"#000000\" stroke-opacity=\"1\" stroke-width=\"3.2\"/>\n",
       "<circle clip-path=\"url(#clip552)\" cx=\"1363.94\" cy=\"1150.9\" r=\"14.4\" fill=\"#009af9\" fill-rule=\"evenodd\" fill-opacity=\"1\" stroke=\"#000000\" stroke-opacity=\"1\" stroke-width=\"3.2\"/>\n",
       "<circle clip-path=\"url(#clip552)\" cx=\"1466.94\" cy=\"1144.47\" r=\"14.4\" fill=\"#009af9\" fill-rule=\"evenodd\" fill-opacity=\"1\" stroke=\"#000000\" stroke-opacity=\"1\" stroke-width=\"3.2\"/>\n",
       "<circle clip-path=\"url(#clip552)\" cx=\"1569.94\" cy=\"1168.49\" r=\"14.4\" fill=\"#009af9\" fill-rule=\"evenodd\" fill-opacity=\"1\" stroke=\"#000000\" stroke-opacity=\"1\" stroke-width=\"3.2\"/>\n",
       "<circle clip-path=\"url(#clip552)\" cx=\"1672.95\" cy=\"1035.37\" r=\"14.4\" fill=\"#009af9\" fill-rule=\"evenodd\" fill-opacity=\"1\" stroke=\"#000000\" stroke-opacity=\"1\" stroke-width=\"3.2\"/>\n",
       "<circle clip-path=\"url(#clip552)\" cx=\"1775.95\" cy=\"867.913\" r=\"14.4\" fill=\"#009af9\" fill-rule=\"evenodd\" fill-opacity=\"1\" stroke=\"#000000\" stroke-opacity=\"1\" stroke-width=\"3.2\"/>\n",
       "<circle clip-path=\"url(#clip552)\" cx=\"1878.95\" cy=\"1184.7\" r=\"14.4\" fill=\"#009af9\" fill-rule=\"evenodd\" fill-opacity=\"1\" stroke=\"#000000\" stroke-opacity=\"1\" stroke-width=\"3.2\"/>\n",
       "<circle clip-path=\"url(#clip552)\" cx=\"1981.95\" cy=\"708.258\" r=\"14.4\" fill=\"#009af9\" fill-rule=\"evenodd\" fill-opacity=\"1\" stroke=\"#000000\" stroke-opacity=\"1\" stroke-width=\"3.2\"/>\n",
       "<circle clip-path=\"url(#clip552)\" cx=\"2084.95\" cy=\"566.976\" r=\"14.4\" fill=\"#009af9\" fill-rule=\"evenodd\" fill-opacity=\"1\" stroke=\"#000000\" stroke-opacity=\"1\" stroke-width=\"3.2\"/>\n",
       "<circle clip-path=\"url(#clip552)\" cx=\"2187.95\" cy=\"376.63\" r=\"14.4\" fill=\"#009af9\" fill-rule=\"evenodd\" fill-opacity=\"1\" stroke=\"#000000\" stroke-opacity=\"1\" stroke-width=\"3.2\"/>\n",
       "<circle clip-path=\"url(#clip552)\" cx=\"2290.95\" cy=\"87.9763\" r=\"14.4\" fill=\"#009af9\" fill-rule=\"evenodd\" fill-opacity=\"1\" stroke=\"#000000\" stroke-opacity=\"1\" stroke-width=\"3.2\"/>\n",
       "<polyline clip-path=\"url(#clip552)\" style=\"stroke:#e26f46; stroke-linecap:round; stroke-linejoin:round; stroke-width:4; stroke-opacity:1; fill:none\" points=\"230.922,646.484 333.924,791.969 436.926,919.268 539.927,1028.38 642.929,1119.31 745.93,1192.05 848.932,1246.61 951.934,1282.98 1054.94,1301.16 1157.94,1301.16 1260.94,1282.98 1363.94,1246.61 1466.94,1192.05 1569.94,1119.31 1672.95,1028.38 1775.95,919.268 1878.95,791.969 1981.95,646.484 2084.95,482.814 2187.95,300.958 2290.95,100.917 \"/>\n",
       "<polyline clip-path=\"url(#clip552)\" style=\"stroke:#3da44d; stroke-linecap:round; stroke-linejoin:round; stroke-width:4; stroke-opacity:1; fill:none\" points=\"230.922,494.698 333.924,746.896 436.926,901.325 539.927,995.431 642.929,1070.41 745.93,1152.16 848.932,1241.12 951.934,1317.12 1054.94,1354.39 1157.94,1338.33 1260.94,1275.48 1363.94,1191.9 1466.94,1120.31 1569.94,1081.3 1672.95,1068.02 1775.95,1044.22 1878.95,962.087 1981.95,796.591 2084.95,575.832 2187.95,360.813 2290.95,91.2363 \"/>\n",
       "<path clip-path=\"url(#clip550)\" d=\"M241.909 302.578 L683.582 302.578 L683.582 95.2176 L241.909 95.2176  Z\" fill=\"#ffffff\" fill-rule=\"evenodd\" fill-opacity=\"1\"/>\n",
       "<polyline clip-path=\"url(#clip550)\" style=\"stroke:#000000; stroke-linecap:round; stroke-linejoin:round; stroke-width:4; stroke-opacity:1; fill:none\" points=\"241.909,302.578 683.582,302.578 683.582,95.2176 241.909,95.2176 241.909,302.578 \"/>\n",
       "<circle clip-path=\"url(#clip550)\" cx=\"338.96\" cy=\"147.058\" r=\"23.04\" fill=\"#009af9\" fill-rule=\"evenodd\" fill-opacity=\"1\" stroke=\"#000000\" stroke-opacity=\"1\" stroke-width=\"5.12\"/>\n",
       "<path clip-path=\"url(#clip550)\" d=\"M454.922 142.347 L454.922 128.319 L459.181 128.319 L459.181 164.338 L454.922 164.338 L454.922 160.449 Q453.579 162.763 451.519 163.898 Q449.482 165.009 446.612 165.009 Q441.913 165.009 438.95 161.259 Q436.01 157.509 436.01 151.398 Q436.01 145.287 438.95 141.537 Q441.913 137.787 446.612 137.787 Q449.482 137.787 451.519 138.921 Q453.579 140.032 454.922 142.347 M440.408 151.398 Q440.408 156.097 442.329 158.782 Q444.274 161.444 447.653 161.444 Q451.033 161.444 452.977 158.782 Q454.922 156.097 454.922 151.398 Q454.922 146.699 452.977 144.037 Q451.033 141.352 447.653 141.352 Q444.274 141.352 442.329 144.037 Q440.408 146.699 440.408 151.398 Z\" fill=\"#000000\" fill-rule=\"evenodd\" fill-opacity=\"1\" /><path clip-path=\"url(#clip550)\" d=\"M479.737 151.305 Q474.575 151.305 472.584 152.486 Q470.593 153.666 470.593 156.514 Q470.593 158.782 472.075 160.125 Q473.579 161.444 476.149 161.444 Q479.69 161.444 481.82 158.944 Q483.973 156.421 483.973 152.254 L483.973 151.305 L479.737 151.305 M488.232 149.546 L488.232 164.338 L483.973 164.338 L483.973 160.402 Q482.514 162.763 480.338 163.898 Q478.163 165.009 475.014 165.009 Q471.033 165.009 468.672 162.787 Q466.334 160.541 466.334 156.791 Q466.334 152.416 469.251 150.194 Q472.19 147.972 478.001 147.972 L483.973 147.972 L483.973 147.555 Q483.973 144.615 482.028 143.018 Q480.107 141.398 476.612 141.398 Q474.389 141.398 472.283 141.93 Q470.176 142.463 468.232 143.527 L468.232 139.592 Q470.57 138.69 472.769 138.25 Q474.968 137.787 477.051 137.787 Q482.676 137.787 485.454 140.703 Q488.232 143.62 488.232 149.546 Z\" fill=\"#000000\" fill-rule=\"evenodd\" fill-opacity=\"1\" /><path clip-path=\"url(#clip550)\" d=\"M501.218 131.051 L501.218 138.412 L509.991 138.412 L509.991 141.722 L501.218 141.722 L501.218 155.796 Q501.218 158.967 502.074 159.87 Q502.954 160.773 505.616 160.773 L509.991 160.773 L509.991 164.338 L505.616 164.338 Q500.686 164.338 498.811 162.509 Q496.936 160.657 496.936 155.796 L496.936 141.722 L493.811 141.722 L493.811 138.412 L496.936 138.412 L496.936 131.051 L501.218 131.051 Z\" fill=\"#000000\" fill-rule=\"evenodd\" fill-opacity=\"1\" /><path clip-path=\"url(#clip550)\" d=\"M527.375 151.305 Q522.213 151.305 520.222 152.486 Q518.232 153.666 518.232 156.514 Q518.232 158.782 519.713 160.125 Q521.218 161.444 523.787 161.444 Q527.329 161.444 529.459 158.944 Q531.611 156.421 531.611 152.254 L531.611 151.305 L527.375 151.305 M535.871 149.546 L535.871 164.338 L531.611 164.338 L531.611 160.402 Q530.153 162.763 527.977 163.898 Q525.801 165.009 522.653 165.009 Q518.672 165.009 516.31 162.787 Q513.973 160.541 513.973 156.791 Q513.973 152.416 516.889 150.194 Q519.829 147.972 525.639 147.972 L531.611 147.972 L531.611 147.555 Q531.611 144.615 529.667 143.018 Q527.746 141.398 524.25 141.398 Q522.028 141.398 519.922 141.93 Q517.815 142.463 515.871 143.527 L515.871 139.592 Q518.209 138.69 520.408 138.25 Q522.607 137.787 524.69 137.787 Q530.315 137.787 533.093 140.703 Q535.871 143.62 535.871 149.546 Z\" fill=\"#000000\" fill-rule=\"evenodd\" fill-opacity=\"1\" /><polyline clip-path=\"url(#clip550)\" style=\"stroke:#e26f46; stroke-linecap:round; stroke-linejoin:round; stroke-width:4; stroke-opacity:1; fill:none\" points=\"266.172,198.898 411.747,198.898 \"/>\n",
       "<path clip-path=\"url(#clip550)\" d=\"M443.417 182.891 L443.417 190.252 L452.19 190.252 L452.19 193.562 L443.417 193.562 L443.417 207.636 Q443.417 210.807 444.274 211.71 Q445.153 212.613 447.815 212.613 L452.19 212.613 L452.19 216.178 L447.815 216.178 Q442.885 216.178 441.01 214.349 Q439.135 212.497 439.135 207.636 L439.135 193.562 L436.01 193.562 L436.01 190.252 L439.135 190.252 L439.135 182.891 L443.417 182.891 Z\" fill=\"#000000\" fill-rule=\"evenodd\" fill-opacity=\"1\" /><path clip-path=\"url(#clip550)\" d=\"M472.815 194.233 Q472.098 193.817 471.241 193.631 Q470.408 193.423 469.389 193.423 Q465.778 193.423 463.834 195.784 Q461.913 198.122 461.913 202.52 L461.913 216.178 L457.63 216.178 L457.63 190.252 L461.913 190.252 L461.913 194.28 Q463.255 191.918 465.408 190.784 Q467.561 189.627 470.639 189.627 Q471.079 189.627 471.612 189.696 Q472.144 189.743 472.792 189.858 L472.815 194.233 Z\" fill=\"#000000\" fill-rule=\"evenodd\" fill-opacity=\"1\" /><path clip-path=\"url(#clip550)\" d=\"M476.843 205.946 L476.843 190.252 L481.102 190.252 L481.102 205.784 Q481.102 209.465 482.538 211.316 Q483.973 213.145 486.843 213.145 Q490.292 213.145 492.283 210.946 Q494.297 208.747 494.297 204.951 L494.297 190.252 L498.556 190.252 L498.556 216.178 L494.297 216.178 L494.297 212.196 Q492.746 214.557 490.686 215.715 Q488.649 216.849 485.94 216.849 Q481.473 216.849 479.158 214.071 Q476.843 211.293 476.843 205.946 M487.561 189.627 L487.561 189.627 Z\" fill=\"#000000\" fill-rule=\"evenodd\" fill-opacity=\"1\" /><path clip-path=\"url(#clip550)\" d=\"M529.505 202.15 L529.505 204.233 L509.922 204.233 Q510.199 208.631 512.561 210.946 Q514.945 213.238 519.181 213.238 Q521.635 213.238 523.926 212.636 Q526.241 212.034 528.509 210.83 L528.509 214.858 Q526.218 215.83 523.81 216.34 Q521.403 216.849 518.926 216.849 Q512.723 216.849 509.088 213.238 Q505.477 209.627 505.477 203.469 Q505.477 197.104 508.903 193.377 Q512.352 189.627 518.185 189.627 Q523.417 189.627 526.449 193.006 Q529.505 196.363 529.505 202.15 M525.246 200.9 Q525.199 197.405 523.278 195.321 Q521.38 193.238 518.232 193.238 Q514.667 193.238 512.514 195.252 Q510.385 197.266 510.061 200.923 L525.246 200.9 Z\" fill=\"#000000\" fill-rule=\"evenodd\" fill-opacity=\"1\" /><path clip-path=\"url(#clip550)\" d=\"M551.565 180.159 L555.824 180.159 L555.824 216.178 L551.565 216.178 L551.565 180.159 Z\" fill=\"#000000\" fill-rule=\"evenodd\" fill-opacity=\"1\" /><path clip-path=\"url(#clip550)\" d=\"M564.736 190.252 L568.995 190.252 L568.995 216.178 L564.736 216.178 L564.736 190.252 M564.736 180.159 L568.995 180.159 L568.995 185.553 L564.736 185.553 L564.736 180.159 Z\" fill=\"#000000\" fill-rule=\"evenodd\" fill-opacity=\"1\" /><path clip-path=\"url(#clip550)\" d=\"M599.458 200.529 L599.458 216.178 L595.199 216.178 L595.199 200.668 Q595.199 196.988 593.764 195.159 Q592.329 193.33 589.458 193.33 Q586.009 193.33 584.018 195.53 Q582.028 197.729 582.028 201.525 L582.028 216.178 L577.745 216.178 L577.745 190.252 L582.028 190.252 L582.028 194.28 Q583.555 191.942 585.616 190.784 Q587.699 189.627 590.407 189.627 Q594.875 189.627 597.167 192.405 Q599.458 195.159 599.458 200.529 Z\" fill=\"#000000\" fill-rule=\"evenodd\" fill-opacity=\"1\" /><path clip-path=\"url(#clip550)\" d=\"M630.129 202.15 L630.129 204.233 L610.546 204.233 Q610.824 208.631 613.185 210.946 Q615.569 213.238 619.805 213.238 Q622.259 213.238 624.551 212.636 Q626.865 212.034 629.134 210.83 L629.134 214.858 Q626.842 215.83 624.435 216.34 Q622.028 216.849 619.551 216.849 Q613.347 216.849 609.713 213.238 Q606.102 209.627 606.102 203.469 Q606.102 197.104 609.528 193.377 Q612.977 189.627 618.81 189.627 Q624.041 189.627 627.074 193.006 Q630.129 196.363 630.129 202.15 M625.87 200.9 Q625.824 197.405 623.902 195.321 Q622.004 193.238 618.856 193.238 Q615.291 193.238 613.139 195.252 Q611.009 197.266 610.685 200.923 L625.87 200.9 Z\" fill=\"#000000\" fill-rule=\"evenodd\" fill-opacity=\"1\" /><polyline clip-path=\"url(#clip550)\" style=\"stroke:#3da44d; stroke-linecap:round; stroke-linejoin:round; stroke-width:4; stroke-opacity:1; fill:none\" points=\"266.172,250.738 411.747,250.738 \"/>\n",
       "<path clip-path=\"url(#clip550)\" d=\"M452.515 231.999 L452.515 235.541 L448.44 235.541 Q446.149 235.541 445.246 236.467 Q444.366 237.393 444.366 239.8 L444.366 242.092 L451.38 242.092 L451.38 245.402 L444.366 245.402 L444.366 268.018 L440.084 268.018 L440.084 245.402 L436.01 245.402 L436.01 242.092 L440.084 242.092 L440.084 240.286 Q440.084 235.958 442.098 233.99 Q444.112 231.999 448.487 231.999 L452.515 231.999 Z\" fill=\"#000000\" fill-rule=\"evenodd\" fill-opacity=\"1\" /><path clip-path=\"url(#clip550)\" d=\"M456.079 242.092 L460.339 242.092 L460.339 268.018 L456.079 268.018 L456.079 242.092 M456.079 231.999 L460.339 231.999 L460.339 237.393 L456.079 237.393 L456.079 231.999 Z\" fill=\"#000000\" fill-rule=\"evenodd\" fill-opacity=\"1\" /><path clip-path=\"url(#clip550)\" d=\"M473.463 234.731 L473.463 242.092 L482.237 242.092 L482.237 245.402 L473.463 245.402 L473.463 259.476 Q473.463 262.647 474.32 263.55 Q475.2 264.453 477.862 264.453 L482.237 264.453 L482.237 268.018 L477.862 268.018 Q472.931 268.018 471.056 266.189 Q469.181 264.337 469.181 259.476 L469.181 245.402 L466.056 245.402 L466.056 242.092 L469.181 242.092 L469.181 234.731 L473.463 234.731 Z\" fill=\"#000000\" fill-rule=\"evenodd\" fill-opacity=\"1\" /><path clip-path=\"url(#clip550)\" d=\"M492.051 234.731 L492.051 242.092 L500.824 242.092 L500.824 245.402 L492.051 245.402 L492.051 259.476 Q492.051 262.647 492.908 263.55 Q493.787 264.453 496.449 264.453 L500.824 264.453 L500.824 268.018 L496.449 268.018 Q491.519 268.018 489.644 266.189 Q487.769 264.337 487.769 259.476 L487.769 245.402 L484.644 245.402 L484.644 242.092 L487.769 242.092 L487.769 234.731 L492.051 234.731 Z\" fill=\"#000000\" fill-rule=\"evenodd\" fill-opacity=\"1\" /><path clip-path=\"url(#clip550)\" d=\"M528.602 253.99 L528.602 256.073 L509.019 256.073 Q509.297 260.471 511.658 262.786 Q514.042 265.078 518.278 265.078 Q520.732 265.078 523.023 264.476 Q525.338 263.874 527.607 262.67 L527.607 266.698 Q525.315 267.67 522.908 268.18 Q520.5 268.689 518.023 268.689 Q511.82 268.689 508.186 265.078 Q504.574 261.467 504.574 255.309 Q504.574 248.944 508 245.217 Q511.449 241.467 517.283 241.467 Q522.514 241.467 525.547 244.846 Q528.602 248.203 528.602 253.99 M524.343 252.74 Q524.297 249.245 522.375 247.161 Q520.477 245.078 517.329 245.078 Q513.764 245.078 511.611 247.092 Q509.482 249.106 509.158 252.763 L524.343 252.74 Z\" fill=\"#000000\" fill-rule=\"evenodd\" fill-opacity=\"1\" /><path clip-path=\"url(#clip550)\" d=\"M552.653 246.027 L552.653 231.999 L556.912 231.999 L556.912 268.018 L552.653 268.018 L552.653 264.129 Q551.31 266.443 549.25 267.578 Q547.213 268.689 544.343 268.689 Q539.644 268.689 536.681 264.939 Q533.741 261.189 533.741 255.078 Q533.741 248.967 536.681 245.217 Q539.644 241.467 544.343 241.467 Q547.213 241.467 549.25 242.601 Q551.31 243.712 552.653 246.027 M538.139 255.078 Q538.139 259.777 540.06 262.462 Q542.005 265.124 545.384 265.124 Q548.764 265.124 550.708 262.462 Q552.653 259.777 552.653 255.078 Q552.653 250.379 550.708 247.717 Q548.764 245.032 545.384 245.032 Q542.005 245.032 540.06 247.717 Q538.139 250.379 538.139 255.078 Z\" fill=\"#000000\" fill-rule=\"evenodd\" fill-opacity=\"1\" /><path clip-path=\"url(#clip550)\" d=\"M580.755 231.999 L585.014 231.999 L585.014 268.018 L580.755 268.018 L580.755 231.999 Z\" fill=\"#000000\" fill-rule=\"evenodd\" fill-opacity=\"1\" /><path clip-path=\"url(#clip550)\" d=\"M593.926 242.092 L598.185 242.092 L598.185 268.018 L593.926 268.018 L593.926 242.092 M593.926 231.999 L598.185 231.999 L598.185 237.393 L593.926 237.393 L593.926 231.999 Z\" fill=\"#000000\" fill-rule=\"evenodd\" fill-opacity=\"1\" /><path clip-path=\"url(#clip550)\" d=\"M628.648 252.369 L628.648 268.018 L624.389 268.018 L624.389 252.508 Q624.389 248.828 622.953 246.999 Q621.518 245.17 618.648 245.17 Q615.199 245.17 613.208 247.37 Q611.217 249.569 611.217 253.365 L611.217 268.018 L606.935 268.018 L606.935 242.092 L611.217 242.092 L611.217 246.12 Q612.745 243.782 614.805 242.624 Q616.889 241.467 619.597 241.467 Q624.065 241.467 626.356 244.245 Q628.648 246.999 628.648 252.369 Z\" fill=\"#000000\" fill-rule=\"evenodd\" fill-opacity=\"1\" /><path clip-path=\"url(#clip550)\" d=\"M659.319 253.99 L659.319 256.073 L639.736 256.073 Q640.014 260.471 642.375 262.786 Q644.759 265.078 648.995 265.078 Q651.449 265.078 653.74 264.476 Q656.055 263.874 658.324 262.67 L658.324 266.698 Q656.032 267.67 653.625 268.18 Q651.217 268.689 648.74 268.689 Q642.537 268.689 638.902 265.078 Q635.291 261.467 635.291 255.309 Q635.291 248.944 638.717 245.217 Q642.166 241.467 648 241.467 Q653.231 241.467 656.263 244.846 Q659.319 248.203 659.319 253.99 M655.06 252.74 Q655.013 249.245 653.092 247.161 Q651.194 245.078 648.046 245.078 Q644.481 245.078 642.328 247.092 Q640.199 249.106 639.875 252.763 L655.06 252.74 Z\" fill=\"#000000\" fill-rule=\"evenodd\" fill-opacity=\"1\" /></svg>\n"
      ]
     },
     "execution_count": 35,
     "metadata": {},
     "output_type": "execute_result"
    }
   ],
   "source": [
    "dataerr = 10\n",
    "d = di.Normal(0,dataerr)\n",
    "y_observed = y_true + rand(d,length(x))\n",
    "x = -10:1:10\n",
    "f(x) = x .^2 + 3.0 .* x - 2\n",
    "y_true = f.(x)\n",
    "line_fit = fit(x,y_observed,10)\n",
    "fit_coeff = coeffs(line_fit)\n",
    "y_fitted = line_fit.(x)\n",
    "scatter(x,y_observed, label = \"data\")\n",
    "plot!(x,y_true, label = \"true line\")\n",
    "plot!(x,y_fitted, label = \"fitted line\")"
   ]
  },
  {
   "cell_type": "markdown",
   "id": "36028ee0",
   "metadata": {},
   "source": [
    "### 2.6\n",
    "\n",
    "1. Create a new independent parameter x_fit ranging from -11 to 11 with an increment of 0.1\n",
    "2. Plot the same three plots as in 2.3 again but apply the tenth order polynomial to x_fit instead of x\n"
   ]
  },
  {
   "cell_type": "code",
   "execution_count": 53,
   "id": "6c67a977",
   "metadata": {},
   "outputs": [
    {
     "data": {
      "image/svg+xml": [
       "<?xml version=\"1.0\" encoding=\"utf-8\"?>\n",
       "<svg xmlns=\"http://www.w3.org/2000/svg\" xmlns:xlink=\"http://www.w3.org/1999/xlink\" width=\"600\" height=\"400\" viewBox=\"0 0 2400 1600\">\n",
       "<defs>\n",
       "  <clipPath id=\"clip250\">\n",
       "    <rect x=\"0\" y=\"0\" width=\"2400\" height=\"1600\"/>\n",
       "  </clipPath>\n",
       "</defs>\n",
       "<path clip-path=\"url(#clip250)\" d=\"M0 1600 L2400 1600 L2400 0 L0 0  Z\" fill=\"#ffffff\" fill-rule=\"evenodd\" fill-opacity=\"1\"/>\n",
       "<defs>\n",
       "  <clipPath id=\"clip251\">\n",
       "    <rect x=\"480\" y=\"0\" width=\"1681\" height=\"1600\"/>\n",
       "  </clipPath>\n",
       "</defs>\n",
       "<path clip-path=\"url(#clip250)\" d=\"M170.857 1486.45 L2352.76 1486.45 L2352.76 47.2441 L170.857 47.2441  Z\" fill=\"#ffffff\" fill-rule=\"evenodd\" fill-opacity=\"1\"/>\n",
       "<defs>\n",
       "  <clipPath id=\"clip252\">\n",
       "    <rect x=\"170\" y=\"47\" width=\"2183\" height=\"1440\"/>\n",
       "  </clipPath>\n",
       "</defs>\n",
       "<polyline clip-path=\"url(#clip252)\" style=\"stroke:#000000; stroke-linecap:round; stroke-linejoin:round; stroke-width:2; stroke-opacity:0.1; fill:none\" points=\"326.173,1486.45 326.173,47.2441 \"/>\n",
       "<polyline clip-path=\"url(#clip252)\" style=\"stroke:#000000; stroke-linecap:round; stroke-linejoin:round; stroke-width:2; stroke-opacity:0.1; fill:none\" points=\"793.99,1486.45 793.99,47.2441 \"/>\n",
       "<polyline clip-path=\"url(#clip252)\" style=\"stroke:#000000; stroke-linecap:round; stroke-linejoin:round; stroke-width:2; stroke-opacity:0.1; fill:none\" points=\"1261.81,1486.45 1261.81,47.2441 \"/>\n",
       "<polyline clip-path=\"url(#clip252)\" style=\"stroke:#000000; stroke-linecap:round; stroke-linejoin:round; stroke-width:2; stroke-opacity:0.1; fill:none\" points=\"1729.62,1486.45 1729.62,47.2441 \"/>\n",
       "<polyline clip-path=\"url(#clip252)\" style=\"stroke:#000000; stroke-linecap:round; stroke-linejoin:round; stroke-width:2; stroke-opacity:0.1; fill:none\" points=\"2197.44,1486.45 2197.44,47.2441 \"/>\n",
       "<polyline clip-path=\"url(#clip250)\" style=\"stroke:#000000; stroke-linecap:round; stroke-linejoin:round; stroke-width:4; stroke-opacity:1; fill:none\" points=\"170.857,1486.45 2352.76,1486.45 \"/>\n",
       "<polyline clip-path=\"url(#clip250)\" style=\"stroke:#000000; stroke-linecap:round; stroke-linejoin:round; stroke-width:4; stroke-opacity:1; fill:none\" points=\"326.173,1486.45 326.173,1467.55 \"/>\n",
       "<polyline clip-path=\"url(#clip250)\" style=\"stroke:#000000; stroke-linecap:round; stroke-linejoin:round; stroke-width:4; stroke-opacity:1; fill:none\" points=\"793.99,1486.45 793.99,1467.55 \"/>\n",
       "<polyline clip-path=\"url(#clip250)\" style=\"stroke:#000000; stroke-linecap:round; stroke-linejoin:round; stroke-width:4; stroke-opacity:1; fill:none\" points=\"1261.81,1486.45 1261.81,1467.55 \"/>\n",
       "<polyline clip-path=\"url(#clip250)\" style=\"stroke:#000000; stroke-linecap:round; stroke-linejoin:round; stroke-width:4; stroke-opacity:1; fill:none\" points=\"1729.62,1486.45 1729.62,1467.55 \"/>\n",
       "<polyline clip-path=\"url(#clip250)\" style=\"stroke:#000000; stroke-linecap:round; stroke-linejoin:round; stroke-width:4; stroke-opacity:1; fill:none\" points=\"2197.44,1486.45 2197.44,1467.55 \"/>\n",
       "<path clip-path=\"url(#clip250)\" d=\"M280.235 1532.02 L309.911 1532.02 L309.911 1535.95 L280.235 1535.95 L280.235 1532.02 Z\" fill=\"#000000\" fill-rule=\"evenodd\" fill-opacity=\"1\" /><path clip-path=\"url(#clip250)\" d=\"M320.814 1544.91 L328.453 1544.91 L328.453 1518.55 L320.143 1520.21 L320.143 1515.95 L328.406 1514.29 L333.082 1514.29 L333.082 1544.91 L340.721 1544.91 L340.721 1548.85 L320.814 1548.85 L320.814 1544.91 Z\" fill=\"#000000\" fill-rule=\"evenodd\" fill-opacity=\"1\" /><path clip-path=\"url(#clip250)\" d=\"M360.166 1517.37 Q356.554 1517.37 354.726 1520.93 Q352.92 1524.47 352.92 1531.6 Q352.92 1538.71 354.726 1542.27 Q356.554 1545.82 360.166 1545.82 Q363.8 1545.82 365.605 1542.27 Q367.434 1538.71 367.434 1531.6 Q367.434 1524.47 365.605 1520.93 Q363.8 1517.37 360.166 1517.37 M360.166 1513.66 Q365.976 1513.66 369.031 1518.27 Q372.11 1522.85 372.11 1531.6 Q372.11 1540.33 369.031 1544.94 Q365.976 1549.52 360.166 1549.52 Q354.355 1549.52 351.277 1544.94 Q348.221 1540.33 348.221 1531.6 Q348.221 1522.85 351.277 1518.27 Q354.355 1513.66 360.166 1513.66 Z\" fill=\"#000000\" fill-rule=\"evenodd\" fill-opacity=\"1\" /><path clip-path=\"url(#clip250)\" d=\"M763.631 1532.02 L793.307 1532.02 L793.307 1535.95 L763.631 1535.95 L763.631 1532.02 Z\" fill=\"#000000\" fill-rule=\"evenodd\" fill-opacity=\"1\" /><path clip-path=\"url(#clip250)\" d=\"M803.446 1514.29 L821.802 1514.29 L821.802 1518.22 L807.728 1518.22 L807.728 1526.7 Q808.747 1526.35 809.765 1526.19 Q810.784 1526 811.802 1526 Q817.589 1526 820.969 1529.17 Q824.348 1532.34 824.348 1537.76 Q824.348 1543.34 820.876 1546.44 Q817.404 1549.52 811.084 1549.52 Q808.909 1549.52 806.64 1549.15 Q804.395 1548.78 801.987 1548.04 L801.987 1543.34 Q804.071 1544.47 806.293 1545.03 Q808.515 1545.58 810.992 1545.58 Q814.996 1545.58 817.334 1543.48 Q819.672 1541.37 819.672 1537.76 Q819.672 1534.15 817.334 1532.04 Q814.996 1529.94 810.992 1529.94 Q809.117 1529.94 807.242 1530.35 Q805.39 1530.77 803.446 1531.65 L803.446 1514.29 Z\" fill=\"#000000\" fill-rule=\"evenodd\" fill-opacity=\"1\" /><path clip-path=\"url(#clip250)\" d=\"M1261.81 1517.37 Q1258.2 1517.37 1256.37 1520.93 Q1254.56 1524.47 1254.56 1531.6 Q1254.56 1538.71 1256.37 1542.27 Q1258.2 1545.82 1261.81 1545.82 Q1265.44 1545.82 1267.25 1542.27 Q1269.08 1538.71 1269.08 1531.6 Q1269.08 1524.47 1267.25 1520.93 Q1265.44 1517.37 1261.81 1517.37 M1261.81 1513.66 Q1267.62 1513.66 1270.67 1518.27 Q1273.75 1522.85 1273.75 1531.6 Q1273.75 1540.33 1270.67 1544.94 Q1267.62 1549.52 1261.81 1549.52 Q1256 1549.52 1252.92 1544.94 Q1249.86 1540.33 1249.86 1531.6 Q1249.86 1522.85 1252.92 1518.27 Q1256 1513.66 1261.81 1513.66 Z\" fill=\"#000000\" fill-rule=\"evenodd\" fill-opacity=\"1\" /><path clip-path=\"url(#clip250)\" d=\"M1719.9 1514.29 L1738.26 1514.29 L1738.26 1518.22 L1724.18 1518.22 L1724.18 1526.7 Q1725.2 1526.35 1726.22 1526.19 Q1727.24 1526 1728.26 1526 Q1734.04 1526 1737.42 1529.17 Q1740.8 1532.34 1740.8 1537.76 Q1740.8 1543.34 1737.33 1546.44 Q1733.86 1549.52 1727.54 1549.52 Q1725.36 1549.52 1723.1 1549.15 Q1720.85 1548.78 1718.44 1548.04 L1718.44 1543.34 Q1720.53 1544.47 1722.75 1545.03 Q1724.97 1545.58 1727.45 1545.58 Q1731.45 1545.58 1733.79 1543.48 Q1736.13 1541.37 1736.13 1537.76 Q1736.13 1534.15 1733.79 1532.04 Q1731.45 1529.94 1727.45 1529.94 Q1725.57 1529.94 1723.7 1530.35 Q1721.85 1530.77 1719.9 1531.65 L1719.9 1514.29 Z\" fill=\"#000000\" fill-rule=\"evenodd\" fill-opacity=\"1\" /><path clip-path=\"url(#clip250)\" d=\"M2172.13 1544.91 L2179.77 1544.91 L2179.77 1518.55 L2171.46 1520.21 L2171.46 1515.95 L2179.72 1514.29 L2184.4 1514.29 L2184.4 1544.91 L2192.04 1544.91 L2192.04 1548.85 L2172.13 1548.85 L2172.13 1544.91 Z\" fill=\"#000000\" fill-rule=\"evenodd\" fill-opacity=\"1\" /><path clip-path=\"url(#clip250)\" d=\"M2211.48 1517.37 Q2207.87 1517.37 2206.04 1520.93 Q2204.23 1524.47 2204.23 1531.6 Q2204.23 1538.71 2206.04 1542.27 Q2207.87 1545.82 2211.48 1545.82 Q2215.11 1545.82 2216.92 1542.27 Q2218.75 1538.71 2218.75 1531.6 Q2218.75 1524.47 2216.92 1520.93 Q2215.11 1517.37 2211.48 1517.37 M2211.48 1513.66 Q2217.29 1513.66 2220.35 1518.27 Q2223.42 1522.85 2223.42 1531.6 Q2223.42 1540.33 2220.35 1544.94 Q2217.29 1549.52 2211.48 1549.52 Q2205.67 1549.52 2202.59 1544.94 Q2199.54 1540.33 2199.54 1531.6 Q2199.54 1522.85 2202.59 1518.27 Q2205.67 1513.66 2211.48 1513.66 Z\" fill=\"#000000\" fill-rule=\"evenodd\" fill-opacity=\"1\" /><polyline clip-path=\"url(#clip252)\" style=\"stroke:#000000; stroke-linecap:round; stroke-linejoin:round; stroke-width:2; stroke-opacity:0.1; fill:none\" points=\"170.857,1389.86 2352.76,1389.86 \"/>\n",
       "<polyline clip-path=\"url(#clip252)\" style=\"stroke:#000000; stroke-linecap:round; stroke-linejoin:round; stroke-width:2; stroke-opacity:0.1; fill:none\" points=\"170.857,1052.69 2352.76,1052.69 \"/>\n",
       "<polyline clip-path=\"url(#clip252)\" style=\"stroke:#000000; stroke-linecap:round; stroke-linejoin:round; stroke-width:2; stroke-opacity:0.1; fill:none\" points=\"170.857,715.52 2352.76,715.52 \"/>\n",
       "<polyline clip-path=\"url(#clip252)\" style=\"stroke:#000000; stroke-linecap:round; stroke-linejoin:round; stroke-width:2; stroke-opacity:0.1; fill:none\" points=\"170.857,378.351 2352.76,378.351 \"/>\n",
       "<polyline clip-path=\"url(#clip250)\" style=\"stroke:#000000; stroke-linecap:round; stroke-linejoin:round; stroke-width:4; stroke-opacity:1; fill:none\" points=\"170.857,1486.45 170.857,47.2441 \"/>\n",
       "<polyline clip-path=\"url(#clip250)\" style=\"stroke:#000000; stroke-linecap:round; stroke-linejoin:round; stroke-width:4; stroke-opacity:1; fill:none\" points=\"170.857,1389.86 189.755,1389.86 \"/>\n",
       "<polyline clip-path=\"url(#clip250)\" style=\"stroke:#000000; stroke-linecap:round; stroke-linejoin:round; stroke-width:4; stroke-opacity:1; fill:none\" points=\"170.857,1052.69 189.755,1052.69 \"/>\n",
       "<polyline clip-path=\"url(#clip250)\" style=\"stroke:#000000; stroke-linecap:round; stroke-linejoin:round; stroke-width:4; stroke-opacity:1; fill:none\" points=\"170.857,715.52 189.755,715.52 \"/>\n",
       "<polyline clip-path=\"url(#clip250)\" style=\"stroke:#000000; stroke-linecap:round; stroke-linejoin:round; stroke-width:4; stroke-opacity:1; fill:none\" points=\"170.857,378.351 189.755,378.351 \"/>\n",
       "<path clip-path=\"url(#clip250)\" d=\"M122.913 1375.66 Q119.302 1375.66 117.473 1379.22 Q115.668 1382.76 115.668 1389.89 Q115.668 1397 117.473 1400.56 Q119.302 1404.11 122.913 1404.11 Q126.547 1404.11 128.353 1400.56 Q130.182 1397 130.182 1389.89 Q130.182 1382.76 128.353 1379.22 Q126.547 1375.66 122.913 1375.66 M122.913 1371.95 Q128.723 1371.95 131.779 1376.56 Q134.857 1381.14 134.857 1389.89 Q134.857 1398.62 131.779 1403.23 Q128.723 1407.81 122.913 1407.81 Q117.103 1407.81 114.024 1403.23 Q110.969 1398.62 110.969 1389.89 Q110.969 1381.14 114.024 1376.56 Q117.103 1371.95 122.913 1371.95 Z\" fill=\"#000000\" fill-rule=\"evenodd\" fill-opacity=\"1\" /><path clip-path=\"url(#clip250)\" d=\"M53.3995 1066.03 L61.0384 1066.03 L61.0384 1039.67 L52.7282 1041.33 L52.7282 1037.08 L60.9921 1035.41 L65.668 1035.41 L65.668 1066.03 L73.3068 1066.03 L73.3068 1069.97 L53.3995 1069.97 L53.3995 1066.03 Z\" fill=\"#000000\" fill-rule=\"evenodd\" fill-opacity=\"1\" /><path clip-path=\"url(#clip250)\" d=\"M92.7512 1038.49 Q89.1401 1038.49 87.3114 1042.05 Q85.5058 1045.59 85.5058 1052.72 Q85.5058 1059.83 87.3114 1063.39 Q89.1401 1066.94 92.7512 1066.94 Q96.3854 1066.94 98.1909 1063.39 Q100.02 1059.83 100.02 1052.72 Q100.02 1045.59 98.1909 1042.05 Q96.3854 1038.49 92.7512 1038.49 M92.7512 1034.78 Q98.5613 1034.78 101.617 1039.39 Q104.696 1043.97 104.696 1052.72 Q104.696 1061.45 101.617 1066.06 Q98.5613 1070.64 92.7512 1070.64 Q86.941 1070.64 83.8623 1066.06 Q80.8068 1061.45 80.8068 1052.72 Q80.8068 1043.97 83.8623 1039.39 Q86.941 1034.78 92.7512 1034.78 Z\" fill=\"#000000\" fill-rule=\"evenodd\" fill-opacity=\"1\" /><path clip-path=\"url(#clip250)\" d=\"M122.913 1038.49 Q119.302 1038.49 117.473 1042.05 Q115.668 1045.59 115.668 1052.72 Q115.668 1059.83 117.473 1063.39 Q119.302 1066.94 122.913 1066.94 Q126.547 1066.94 128.353 1063.39 Q130.182 1059.83 130.182 1052.72 Q130.182 1045.59 128.353 1042.05 Q126.547 1038.49 122.913 1038.49 M122.913 1034.78 Q128.723 1034.78 131.779 1039.39 Q134.857 1043.97 134.857 1052.72 Q134.857 1061.45 131.779 1066.06 Q128.723 1070.64 122.913 1070.64 Q117.103 1070.64 114.024 1066.06 Q110.969 1061.45 110.969 1052.72 Q110.969 1043.97 114.024 1039.39 Q117.103 1034.78 122.913 1034.78 Z\" fill=\"#000000\" fill-rule=\"evenodd\" fill-opacity=\"1\" /><path clip-path=\"url(#clip250)\" d=\"M56.6171 728.865 L72.9365 728.865 L72.9365 732.8 L50.9921 732.8 L50.9921 728.865 Q53.6541 726.11 58.2375 721.481 Q62.8439 716.828 64.0245 715.485 Q66.2698 712.962 67.1494 711.226 Q68.0522 709.467 68.0522 707.777 Q68.0522 705.023 66.1078 703.286 Q64.1865 701.55 61.0847 701.55 Q58.8856 701.55 56.4319 702.314 Q54.0014 703.078 51.2236 704.629 L51.2236 699.907 Q54.0477 698.773 56.5014 698.194 Q58.955 697.615 60.9921 697.615 Q66.3624 697.615 69.5568 700.3 Q72.7513 702.986 72.7513 707.476 Q72.7513 709.606 71.9411 711.527 Q71.1541 713.425 69.0476 716.018 Q68.4689 716.689 65.367 719.907 Q62.2652 723.101 56.6171 728.865 Z\" fill=\"#000000\" fill-rule=\"evenodd\" fill-opacity=\"1\" /><path clip-path=\"url(#clip250)\" d=\"M92.7512 701.319 Q89.1401 701.319 87.3114 704.884 Q85.5058 708.425 85.5058 715.555 Q85.5058 722.661 87.3114 726.226 Q89.1401 729.768 92.7512 729.768 Q96.3854 729.768 98.1909 726.226 Q100.02 722.661 100.02 715.555 Q100.02 708.425 98.1909 704.884 Q96.3854 701.319 92.7512 701.319 M92.7512 697.615 Q98.5613 697.615 101.617 702.222 Q104.696 706.805 104.696 715.555 Q104.696 724.282 101.617 728.888 Q98.5613 733.471 92.7512 733.471 Q86.941 733.471 83.8623 728.888 Q80.8068 724.282 80.8068 715.555 Q80.8068 706.805 83.8623 702.222 Q86.941 697.615 92.7512 697.615 Z\" fill=\"#000000\" fill-rule=\"evenodd\" fill-opacity=\"1\" /><path clip-path=\"url(#clip250)\" d=\"M122.913 701.319 Q119.302 701.319 117.473 704.884 Q115.668 708.425 115.668 715.555 Q115.668 722.661 117.473 726.226 Q119.302 729.768 122.913 729.768 Q126.547 729.768 128.353 726.226 Q130.182 722.661 130.182 715.555 Q130.182 708.425 128.353 704.884 Q126.547 701.319 122.913 701.319 M122.913 697.615 Q128.723 697.615 131.779 702.222 Q134.857 706.805 134.857 715.555 Q134.857 724.282 131.779 728.888 Q128.723 733.471 122.913 733.471 Q117.103 733.471 114.024 728.888 Q110.969 724.282 110.969 715.555 Q110.969 706.805 114.024 702.222 Q117.103 697.615 122.913 697.615 Z\" fill=\"#000000\" fill-rule=\"evenodd\" fill-opacity=\"1\" /><path clip-path=\"url(#clip250)\" d=\"M66.7559 376.997 Q70.1124 377.715 71.9874 379.983 Q73.8855 382.252 73.8855 385.585 Q73.8855 390.701 70.367 393.502 Q66.8485 396.303 60.3671 396.303 Q58.1912 396.303 55.8764 395.863 Q53.5847 395.446 51.131 394.59 L51.131 390.076 Q53.0754 391.21 55.3903 391.789 Q57.7051 392.367 60.2282 392.367 Q64.6263 392.367 66.918 390.631 Q69.2328 388.895 69.2328 385.585 Q69.2328 382.53 67.08 380.817 Q64.9504 379.08 61.131 379.08 L57.1032 379.08 L57.1032 375.238 L61.3161 375.238 Q64.7652 375.238 66.5939 373.872 Q68.4226 372.483 68.4226 369.891 Q68.4226 367.229 66.5245 365.817 Q64.6495 364.381 61.131 364.381 Q59.2097 364.381 57.0106 364.798 Q54.8115 365.215 52.1727 366.094 L52.1727 361.928 Q54.8347 361.187 57.1495 360.817 Q59.4875 360.446 61.5476 360.446 Q66.8717 360.446 69.9735 362.877 Q73.0753 365.284 73.0753 369.405 Q73.0753 372.275 71.4318 374.266 Q69.7883 376.233 66.7559 376.997 Z\" fill=\"#000000\" fill-rule=\"evenodd\" fill-opacity=\"1\" /><path clip-path=\"url(#clip250)\" d=\"M92.7512 364.15 Q89.1401 364.15 87.3114 367.715 Q85.5058 371.256 85.5058 378.386 Q85.5058 385.492 87.3114 389.057 Q89.1401 392.599 92.7512 392.599 Q96.3854 392.599 98.1909 389.057 Q100.02 385.492 100.02 378.386 Q100.02 371.256 98.1909 367.715 Q96.3854 364.15 92.7512 364.15 M92.7512 360.446 Q98.5613 360.446 101.617 365.053 Q104.696 369.636 104.696 378.386 Q104.696 387.113 101.617 391.719 Q98.5613 396.303 92.7512 396.303 Q86.941 396.303 83.8623 391.719 Q80.8068 387.113 80.8068 378.386 Q80.8068 369.636 83.8623 365.053 Q86.941 360.446 92.7512 360.446 Z\" fill=\"#000000\" fill-rule=\"evenodd\" fill-opacity=\"1\" /><path clip-path=\"url(#clip250)\" d=\"M122.913 364.15 Q119.302 364.15 117.473 367.715 Q115.668 371.256 115.668 378.386 Q115.668 385.492 117.473 389.057 Q119.302 392.599 122.913 392.599 Q126.547 392.599 128.353 389.057 Q130.182 385.492 130.182 378.386 Q130.182 371.256 128.353 367.715 Q126.547 364.15 122.913 364.15 M122.913 360.446 Q128.723 360.446 131.779 365.053 Q134.857 369.636 134.857 378.386 Q134.857 387.113 131.779 391.719 Q128.723 396.303 122.913 396.303 Q117.103 396.303 114.024 391.719 Q110.969 387.113 110.969 378.386 Q110.969 369.636 114.024 365.053 Q117.103 360.446 122.913 360.446 Z\" fill=\"#000000\" fill-rule=\"evenodd\" fill-opacity=\"1\" /><circle clip-path=\"url(#clip252)\" cx=\"326.173\" cy=\"1148.15\" r=\"14.4\" fill=\"#009af9\" fill-rule=\"evenodd\" fill-opacity=\"1\" stroke=\"#000000\" stroke-opacity=\"1\" stroke-width=\"3.2\"/>\n",
       "<circle clip-path=\"url(#clip252)\" cx=\"419.736\" cy=\"1250.2\" r=\"14.4\" fill=\"#009af9\" fill-rule=\"evenodd\" fill-opacity=\"1\" stroke=\"#000000\" stroke-opacity=\"1\" stroke-width=\"3.2\"/>\n",
       "<circle clip-path=\"url(#clip252)\" cx=\"513.299\" cy=\"1201.56\" r=\"14.4\" fill=\"#009af9\" fill-rule=\"evenodd\" fill-opacity=\"1\" stroke=\"#000000\" stroke-opacity=\"1\" stroke-width=\"3.2\"/>\n",
       "<circle clip-path=\"url(#clip252)\" cx=\"606.863\" cy=\"1300.16\" r=\"14.4\" fill=\"#009af9\" fill-rule=\"evenodd\" fill-opacity=\"1\" stroke=\"#000000\" stroke-opacity=\"1\" stroke-width=\"3.2\"/>\n",
       "<circle clip-path=\"url(#clip252)\" cx=\"700.426\" cy=\"1331.08\" r=\"14.4\" fill=\"#009af9\" fill-rule=\"evenodd\" fill-opacity=\"1\" stroke=\"#000000\" stroke-opacity=\"1\" stroke-width=\"3.2\"/>\n",
       "<circle clip-path=\"url(#clip252)\" cx=\"793.99\" cy=\"1336.71\" r=\"14.4\" fill=\"#009af9\" fill-rule=\"evenodd\" fill-opacity=\"1\" stroke=\"#000000\" stroke-opacity=\"1\" stroke-width=\"3.2\"/>\n",
       "<circle clip-path=\"url(#clip252)\" cx=\"887.553\" cy=\"1412.46\" r=\"14.4\" fill=\"#009af9\" fill-rule=\"evenodd\" fill-opacity=\"1\" stroke=\"#000000\" stroke-opacity=\"1\" stroke-width=\"3.2\"/>\n",
       "<circle clip-path=\"url(#clip252)\" cx=\"981.116\" cy=\"1445.72\" r=\"14.4\" fill=\"#009af9\" fill-rule=\"evenodd\" fill-opacity=\"1\" stroke=\"#000000\" stroke-opacity=\"1\" stroke-width=\"3.2\"/>\n",
       "<circle clip-path=\"url(#clip252)\" cx=\"1074.68\" cy=\"1358.63\" r=\"14.4\" fill=\"#009af9\" fill-rule=\"evenodd\" fill-opacity=\"1\" stroke=\"#000000\" stroke-opacity=\"1\" stroke-width=\"3.2\"/>\n",
       "<circle clip-path=\"url(#clip252)\" cx=\"1168.24\" cy=\"1420.74\" r=\"14.4\" fill=\"#009af9\" fill-rule=\"evenodd\" fill-opacity=\"1\" stroke=\"#000000\" stroke-opacity=\"1\" stroke-width=\"3.2\"/>\n",
       "<circle clip-path=\"url(#clip252)\" cx=\"1261.81\" cy=\"1347.96\" r=\"14.4\" fill=\"#009af9\" fill-rule=\"evenodd\" fill-opacity=\"1\" stroke=\"#000000\" stroke-opacity=\"1\" stroke-width=\"3.2\"/>\n",
       "<circle clip-path=\"url(#clip252)\" cx=\"1355.37\" cy=\"1373.9\" r=\"14.4\" fill=\"#009af9\" fill-rule=\"evenodd\" fill-opacity=\"1\" stroke=\"#000000\" stroke-opacity=\"1\" stroke-width=\"3.2\"/>\n",
       "<circle clip-path=\"url(#clip252)\" cx=\"1448.93\" cy=\"1284.29\" r=\"14.4\" fill=\"#009af9\" fill-rule=\"evenodd\" fill-opacity=\"1\" stroke=\"#000000\" stroke-opacity=\"1\" stroke-width=\"3.2\"/>\n",
       "<circle clip-path=\"url(#clip252)\" cx=\"1542.5\" cy=\"1324.17\" r=\"14.4\" fill=\"#009af9\" fill-rule=\"evenodd\" fill-opacity=\"1\" stroke=\"#000000\" stroke-opacity=\"1\" stroke-width=\"3.2\"/>\n",
       "<circle clip-path=\"url(#clip252)\" cx=\"1636.06\" cy=\"1285.97\" r=\"14.4\" fill=\"#009af9\" fill-rule=\"evenodd\" fill-opacity=\"1\" stroke=\"#000000\" stroke-opacity=\"1\" stroke-width=\"3.2\"/>\n",
       "<circle clip-path=\"url(#clip252)\" cx=\"1729.62\" cy=\"1270.8\" r=\"14.4\" fill=\"#009af9\" fill-rule=\"evenodd\" fill-opacity=\"1\" stroke=\"#000000\" stroke-opacity=\"1\" stroke-width=\"3.2\"/>\n",
       "<circle clip-path=\"url(#clip252)\" cx=\"1823.19\" cy=\"1205.56\" r=\"14.4\" fill=\"#009af9\" fill-rule=\"evenodd\" fill-opacity=\"1\" stroke=\"#000000\" stroke-opacity=\"1\" stroke-width=\"3.2\"/>\n",
       "<circle clip-path=\"url(#clip252)\" cx=\"1916.75\" cy=\"1126.1\" r=\"14.4\" fill=\"#009af9\" fill-rule=\"evenodd\" fill-opacity=\"1\" stroke=\"#000000\" stroke-opacity=\"1\" stroke-width=\"3.2\"/>\n",
       "<circle clip-path=\"url(#clip252)\" cx=\"2010.31\" cy=\"1099.05\" r=\"14.4\" fill=\"#009af9\" fill-rule=\"evenodd\" fill-opacity=\"1\" stroke=\"#000000\" stroke-opacity=\"1\" stroke-width=\"3.2\"/>\n",
       "<circle clip-path=\"url(#clip252)\" cx=\"2103.88\" cy=\"1029.25\" r=\"14.4\" fill=\"#009af9\" fill-rule=\"evenodd\" fill-opacity=\"1\" stroke=\"#000000\" stroke-opacity=\"1\" stroke-width=\"3.2\"/>\n",
       "<circle clip-path=\"url(#clip252)\" cx=\"2197.44\" cy=\"899.067\" r=\"14.4\" fill=\"#009af9\" fill-rule=\"evenodd\" fill-opacity=\"1\" stroke=\"#000000\" stroke-opacity=\"1\" stroke-width=\"3.2\"/>\n",
       "<polyline clip-path=\"url(#clip252)\" style=\"stroke:#e26f46; stroke-linecap:round; stroke-linejoin:round; stroke-width:4; stroke-opacity:1; fill:none\" points=\"326.173,1160.58 419.736,1214.53 513.299,1261.73 606.863,1302.19 700.426,1335.91 793.99,1362.88 887.553,1383.11 981.116,1396.6 1074.68,1403.34 1168.24,1403.34 1261.81,1396.6 1355.37,1383.11 1448.93,1362.88 1542.5,1335.91 1636.06,1302.19 1729.62,1261.73 1823.19,1214.53 1916.75,1160.58 2010.31,1099.89 2103.88,1032.46 2197.44,958.282 \"/>\n",
       "<polyline clip-path=\"url(#clip252)\" style=\"stroke:#3da44d; stroke-linecap:round; stroke-linejoin:round; stroke-width:4; stroke-opacity:1; fill:none\" points=\"232.609,415.138 241.966,551.384 251.322,668.992 260.678,770.012 270.035,856.312 279.391,929.597 288.747,991.415 298.104,1043.17 307.46,1086.14 316.816,1121.47 326.173,1150.19 335.529,1173.25 344.885,1191.46 354.242,1205.58 363.598,1216.27 372.954,1224.12 382.311,1229.64 391.667,1233.3 401.023,1235.49 410.38,1236.56 419.736,1236.82 429.092,1236.51 438.449,1235.85 447.805,1235.04 457.161,1234.23 466.518,1233.53 475.874,1233.06 485.23,1232.89 494.587,1233.08 503.943,1233.67 513.299,1234.7 522.656,1236.18 532.012,1238.11 541.368,1240.49 550.725,1243.3 560.081,1246.53 569.438,1250.16 578.794,1254.15 588.15,1258.48 597.507,1263.11 606.863,1268.01 616.219,1273.13 625.576,1278.46 634.932,1283.94 644.288,1289.54 653.645,1295.24 663.001,1300.98 672.357,1306.76 681.714,1312.53 691.07,1318.26 700.426,1323.94 709.783,1329.53 719.139,1335.02 728.495,1340.38 737.852,1345.6 747.208,1350.66 756.564,1355.55 765.921,1360.26 775.277,1364.77 784.633,1369.08 793.99,1373.18 803.346,1377.06 812.702,1380.73 822.059,1384.18 831.415,1387.41 840.771,1390.42 850.128,1393.21 859.484,1395.78 868.84,1398.14 878.197,1400.28 887.553,1402.22 896.909,1403.96 906.266,1405.49 915.622,1406.84 924.978,1408 934.335,1408.97 943.691,1409.77 953.047,1410.4 962.404,1410.86 971.76,1411.16 981.116,1411.31 990.473,1411.32 999.829,1411.17 1009.19,1410.9 1018.54,1410.48 1027.9,1409.95 1037.25,1409.28 1046.61,1408.5 1055.97,1407.61 1065.32,1406.61 1074.68,1405.5 1084.04,1404.29 1093.39,1402.98 1102.75,1401.59 1112.11,1400.1 1121.46,1398.52 1130.82,1396.87 1140.17,1395.14 1149.53,1393.33 1158.89,1391.45 1168.24,1389.51 1177.6,1387.51 1186.96,1385.44 1196.31,1383.33 1205.67,1381.16 1215.02,1378.95 1224.38,1376.69 1233.74,1374.41 1243.09,1372.08 1252.45,1369.74 1261.81,1367.37 1271.16,1364.98 1280.52,1362.58 1289.88,1360.18 1299.23,1357.77 1308.59,1355.37 1317.94,1352.97 1327.3,1350.59 1336.66,1348.22 1346.01,1345.88 1355.37,1343.56 1364.73,1341.27 1374.08,1339.02 1383.44,1336.81 1392.8,1334.64 1402.15,1332.51 1411.51,1330.43 1420.86,1328.4 1430.22,1326.42 1439.58,1324.49 1448.93,1322.6 1458.29,1320.77 1467.65,1318.99 1477,1317.25 1486.36,1315.56 1495.72,1313.91 1505.07,1312.29 1514.43,1310.7 1523.78,1309.14 1533.14,1307.6 1542.5,1306.06 1551.85,1304.53 1561.21,1302.99 1570.57,1301.43 1579.92,1299.84 1589.28,1298.22 1598.63,1296.54 1607.99,1294.8 1617.35,1292.99 1626.7,1291.08 1636.06,1289.07 1645.42,1286.95 1654.77,1284.7 1664.13,1282.3 1673.49,1279.75 1682.84,1277.03 1692.2,1274.13 1701.55,1271.04 1710.91,1267.74 1720.27,1264.23 1729.62,1260.5 1738.98,1256.54 1748.34,1252.34 1757.69,1247.9 1767.05,1243.22 1776.41,1238.3 1785.76,1233.13 1795.12,1227.72 1804.47,1222.08 1813.83,1216.22 1823.19,1210.14 1832.54,1203.86 1841.9,1197.39 1851.26,1190.76 1860.61,1183.98 1869.97,1177.08 1879.33,1170.08 1888.68,1163.02 1898.04,1155.91 1907.39,1148.8 1916.75,1141.71 1926.11,1134.68 1935.46,1127.75 1944.82,1120.95 1954.18,1114.31 1963.53,1107.86 1972.89,1101.64 1982.24,1095.68 1991.6,1089.98 2000.96,1084.58 2010.31,1079.47 2019.67,1074.66 2029.03,1070.14 2038.38,1065.89 2047.74,1061.87 2057.1,1058.03 2066.45,1054.28 2075.81,1050.55 2085.16,1046.7 2094.52,1042.6 2103.88,1038.05 2113.23,1032.86 2122.59,1026.75 2131.95,1019.43 2141.3,1010.56 2150.66,999.726 2160.02,986.475 2169.37,970.278 2178.73,950.537 2188.08,926.574 2197.44,897.627 2206.8,862.84 2216.15,821.255 2225.51,771.806 2234.87,713.303 2244.22,644.43 2253.58,563.73 2262.94,469.595 2272.29,360.253 2281.65,233.759 2291,87.9763 \"/>\n",
       "<path clip-path=\"url(#clip250)\" d=\"M243.587 302.578 L685.086 302.578 L685.086 95.2176 L243.587 95.2176  Z\" fill=\"#ffffff\" fill-rule=\"evenodd\" fill-opacity=\"1\"/>\n",
       "<polyline clip-path=\"url(#clip250)\" style=\"stroke:#000000; stroke-linecap:round; stroke-linejoin:round; stroke-width:4; stroke-opacity:1; fill:none\" points=\"243.587,302.578 685.086,302.578 685.086,95.2176 243.587,95.2176 243.587,302.578 \"/>\n",
       "<circle clip-path=\"url(#clip250)\" cx=\"340.561\" cy=\"147.058\" r=\"23.04\" fill=\"#009af9\" fill-rule=\"evenodd\" fill-opacity=\"1\" stroke=\"#000000\" stroke-opacity=\"1\" stroke-width=\"5.12\"/>\n",
       "<path clip-path=\"url(#clip250)\" d=\"M456.446 142.347 L456.446 128.319 L460.705 128.319 L460.705 164.338 L456.446 164.338 L456.446 160.449 Q455.103 162.763 453.043 163.898 Q451.006 165.009 448.136 165.009 Q443.437 165.009 440.474 161.259 Q437.534 157.509 437.534 151.398 Q437.534 145.287 440.474 141.537 Q443.437 137.787 448.136 137.787 Q451.006 137.787 453.043 138.921 Q455.103 140.032 456.446 142.347 M441.932 151.398 Q441.932 156.097 443.853 158.782 Q445.798 161.444 449.177 161.444 Q452.557 161.444 454.501 158.782 Q456.446 156.097 456.446 151.398 Q456.446 146.699 454.501 144.037 Q452.557 141.352 449.177 141.352 Q445.798 141.352 443.853 144.037 Q441.932 146.699 441.932 151.398 Z\" fill=\"#000000\" fill-rule=\"evenodd\" fill-opacity=\"1\" /><path clip-path=\"url(#clip250)\" d=\"M481.261 151.305 Q476.099 151.305 474.108 152.486 Q472.117 153.666 472.117 156.514 Q472.117 158.782 473.599 160.125 Q475.103 161.444 477.673 161.444 Q481.214 161.444 483.344 158.944 Q485.497 156.421 485.497 152.254 L485.497 151.305 L481.261 151.305 M489.756 149.546 L489.756 164.338 L485.497 164.338 L485.497 160.402 Q484.038 162.763 481.862 163.898 Q479.686 165.009 476.538 165.009 Q472.557 165.009 470.196 162.787 Q467.858 160.541 467.858 156.791 Q467.858 152.416 470.774 150.194 Q473.714 147.972 479.524 147.972 L485.497 147.972 L485.497 147.555 Q485.497 144.615 483.552 143.018 Q481.631 141.398 478.136 141.398 Q475.913 141.398 473.807 141.93 Q471.7 142.463 469.756 143.527 L469.756 139.592 Q472.094 138.69 474.293 138.25 Q476.492 137.787 478.575 137.787 Q484.2 137.787 486.978 140.703 Q489.756 143.62 489.756 149.546 Z\" fill=\"#000000\" fill-rule=\"evenodd\" fill-opacity=\"1\" /><path clip-path=\"url(#clip250)\" d=\"M502.742 131.051 L502.742 138.412 L511.515 138.412 L511.515 141.722 L502.742 141.722 L502.742 155.796 Q502.742 158.967 503.598 159.87 Q504.478 160.773 507.14 160.773 L511.515 160.773 L511.515 164.338 L507.14 164.338 Q502.209 164.338 500.334 162.509 Q498.459 160.657 498.459 155.796 L498.459 141.722 L495.335 141.722 L495.335 138.412 L498.459 138.412 L498.459 131.051 L502.742 131.051 Z\" fill=\"#000000\" fill-rule=\"evenodd\" fill-opacity=\"1\" /><path clip-path=\"url(#clip250)\" d=\"M528.899 151.305 Q523.737 151.305 521.746 152.486 Q519.756 153.666 519.756 156.514 Q519.756 158.782 521.237 160.125 Q522.742 161.444 525.311 161.444 Q528.853 161.444 530.982 158.944 Q533.135 156.421 533.135 152.254 L533.135 151.305 L528.899 151.305 M537.394 149.546 L537.394 164.338 L533.135 164.338 L533.135 160.402 Q531.677 162.763 529.501 163.898 Q527.325 165.009 524.177 165.009 Q520.195 165.009 517.834 162.787 Q515.496 160.541 515.496 156.791 Q515.496 152.416 518.413 150.194 Q521.353 147.972 527.163 147.972 L533.135 147.972 L533.135 147.555 Q533.135 144.615 531.191 143.018 Q529.27 141.398 525.774 141.398 Q523.552 141.398 521.445 141.93 Q519.339 142.463 517.395 143.527 L517.395 139.592 Q519.733 138.69 521.932 138.25 Q524.131 137.787 526.214 137.787 Q531.839 137.787 534.617 140.703 Q537.394 143.62 537.394 149.546 Z\" fill=\"#000000\" fill-rule=\"evenodd\" fill-opacity=\"1\" /><polyline clip-path=\"url(#clip250)\" style=\"stroke:#e26f46; stroke-linecap:round; stroke-linejoin:round; stroke-width:4; stroke-opacity:1; fill:none\" points=\"267.831,198.898 413.291,198.898 \"/>\n",
       "<path clip-path=\"url(#clip250)\" d=\"M444.941 182.891 L444.941 190.252 L453.714 190.252 L453.714 193.562 L444.941 193.562 L444.941 207.636 Q444.941 210.807 445.798 211.71 Q446.677 212.613 449.339 212.613 L453.714 212.613 L453.714 216.178 L449.339 216.178 Q444.409 216.178 442.534 214.349 Q440.659 212.497 440.659 207.636 L440.659 193.562 L437.534 193.562 L437.534 190.252 L440.659 190.252 L440.659 182.891 L444.941 182.891 Z\" fill=\"#000000\" fill-rule=\"evenodd\" fill-opacity=\"1\" /><path clip-path=\"url(#clip250)\" d=\"M474.339 194.233 Q473.622 193.817 472.765 193.631 Q471.932 193.423 470.913 193.423 Q467.302 193.423 465.358 195.784 Q463.437 198.122 463.437 202.52 L463.437 216.178 L459.154 216.178 L459.154 190.252 L463.437 190.252 L463.437 194.28 Q464.779 191.918 466.932 190.784 Q469.085 189.627 472.163 189.627 Q472.603 189.627 473.136 189.696 Q473.668 189.743 474.316 189.858 L474.339 194.233 Z\" fill=\"#000000\" fill-rule=\"evenodd\" fill-opacity=\"1\" /><path clip-path=\"url(#clip250)\" d=\"M478.367 205.946 L478.367 190.252 L482.626 190.252 L482.626 205.784 Q482.626 209.465 484.061 211.316 Q485.497 213.145 488.367 213.145 Q491.816 213.145 493.807 210.946 Q495.821 208.747 495.821 204.951 L495.821 190.252 L500.08 190.252 L500.08 216.178 L495.821 216.178 L495.821 212.196 Q494.27 214.557 492.21 215.715 Q490.173 216.849 487.464 216.849 Q482.997 216.849 480.682 214.071 Q478.367 211.293 478.367 205.946 M489.085 189.627 L489.085 189.627 Z\" fill=\"#000000\" fill-rule=\"evenodd\" fill-opacity=\"1\" /><path clip-path=\"url(#clip250)\" d=\"M531.029 202.15 L531.029 204.233 L511.446 204.233 Q511.723 208.631 514.084 210.946 Q516.469 213.238 520.705 213.238 Q523.158 213.238 525.45 212.636 Q527.765 212.034 530.033 210.83 L530.033 214.858 Q527.742 215.83 525.334 216.34 Q522.927 216.849 520.45 216.849 Q514.246 216.849 510.612 213.238 Q507.001 209.627 507.001 203.469 Q507.001 197.104 510.427 193.377 Q513.876 189.627 519.709 189.627 Q524.941 189.627 527.973 193.006 Q531.029 196.363 531.029 202.15 M526.77 200.9 Q526.723 197.405 524.802 195.321 Q522.904 193.238 519.756 193.238 Q516.191 193.238 514.038 195.252 Q511.909 197.266 511.584 200.923 L526.77 200.9 Z\" fill=\"#000000\" fill-rule=\"evenodd\" fill-opacity=\"1\" /><path clip-path=\"url(#clip250)\" d=\"M553.089 180.159 L557.348 180.159 L557.348 216.178 L553.089 216.178 L553.089 180.159 Z\" fill=\"#000000\" fill-rule=\"evenodd\" fill-opacity=\"1\" /><path clip-path=\"url(#clip250)\" d=\"M566.26 190.252 L570.519 190.252 L570.519 216.178 L566.26 216.178 L566.26 190.252 M566.26 180.159 L570.519 180.159 L570.519 185.553 L566.26 185.553 L566.26 180.159 Z\" fill=\"#000000\" fill-rule=\"evenodd\" fill-opacity=\"1\" /><path clip-path=\"url(#clip250)\" d=\"M600.982 200.529 L600.982 216.178 L596.723 216.178 L596.723 200.668 Q596.723 196.988 595.288 195.159 Q593.853 193.33 590.982 193.33 Q587.533 193.33 585.542 195.53 Q583.552 197.729 583.552 201.525 L583.552 216.178 L579.269 216.178 L579.269 190.252 L583.552 190.252 L583.552 194.28 Q585.079 191.942 587.14 190.784 Q589.223 189.627 591.931 189.627 Q596.399 189.627 598.69 192.405 Q600.982 195.159 600.982 200.529 Z\" fill=\"#000000\" fill-rule=\"evenodd\" fill-opacity=\"1\" /><path clip-path=\"url(#clip250)\" d=\"M631.653 202.15 L631.653 204.233 L612.07 204.233 Q612.348 208.631 614.709 210.946 Q617.093 213.238 621.329 213.238 Q623.783 213.238 626.075 212.636 Q628.389 212.034 630.658 210.83 L630.658 214.858 Q628.366 215.83 625.959 216.34 Q623.551 216.849 621.075 216.849 Q614.871 216.849 611.237 213.238 Q607.626 209.627 607.626 203.469 Q607.626 197.104 611.051 193.377 Q614.501 189.627 620.334 189.627 Q625.565 189.627 628.598 193.006 Q631.653 196.363 631.653 202.15 M627.394 200.9 Q627.348 197.405 625.426 195.321 Q623.528 193.238 620.38 193.238 Q616.815 193.238 614.663 195.252 Q612.533 197.266 612.209 200.923 L627.394 200.9 Z\" fill=\"#000000\" fill-rule=\"evenodd\" fill-opacity=\"1\" /><polyline clip-path=\"url(#clip250)\" style=\"stroke:#3da44d; stroke-linecap:round; stroke-linejoin:round; stroke-width:4; stroke-opacity:1; fill:none\" points=\"267.831,250.738 413.291,250.738 \"/>\n",
       "<path clip-path=\"url(#clip250)\" d=\"M454.038 231.999 L454.038 235.541 L449.964 235.541 Q447.673 235.541 446.77 236.467 Q445.89 237.393 445.89 239.8 L445.89 242.092 L452.904 242.092 L452.904 245.402 L445.89 245.402 L445.89 268.018 L441.608 268.018 L441.608 245.402 L437.534 245.402 L437.534 242.092 L441.608 242.092 L441.608 240.286 Q441.608 235.958 443.622 233.99 Q445.636 231.999 450.011 231.999 L454.038 231.999 Z\" fill=\"#000000\" fill-rule=\"evenodd\" fill-opacity=\"1\" /><path clip-path=\"url(#clip250)\" d=\"M457.603 242.092 L461.862 242.092 L461.862 268.018 L457.603 268.018 L457.603 242.092 M457.603 231.999 L461.862 231.999 L461.862 237.393 L457.603 237.393 L457.603 231.999 Z\" fill=\"#000000\" fill-rule=\"evenodd\" fill-opacity=\"1\" /><path clip-path=\"url(#clip250)\" d=\"M474.987 234.731 L474.987 242.092 L483.761 242.092 L483.761 245.402 L474.987 245.402 L474.987 259.476 Q474.987 262.647 475.844 263.55 Q476.724 264.453 479.386 264.453 L483.761 264.453 L483.761 268.018 L479.386 268.018 Q474.455 268.018 472.58 266.189 Q470.705 264.337 470.705 259.476 L470.705 245.402 L467.58 245.402 L467.58 242.092 L470.705 242.092 L470.705 234.731 L474.987 234.731 Z\" fill=\"#000000\" fill-rule=\"evenodd\" fill-opacity=\"1\" /><path clip-path=\"url(#clip250)\" d=\"M493.575 234.731 L493.575 242.092 L502.348 242.092 L502.348 245.402 L493.575 245.402 L493.575 259.476 Q493.575 262.647 494.432 263.55 Q495.311 264.453 497.973 264.453 L502.348 264.453 L502.348 268.018 L497.973 268.018 Q493.043 268.018 491.168 266.189 Q489.293 264.337 489.293 259.476 L489.293 245.402 L486.168 245.402 L486.168 242.092 L489.293 242.092 L489.293 234.731 L493.575 234.731 Z\" fill=\"#000000\" fill-rule=\"evenodd\" fill-opacity=\"1\" /><path clip-path=\"url(#clip250)\" d=\"M530.126 253.99 L530.126 256.073 L510.543 256.073 Q510.821 260.471 513.182 262.786 Q515.566 265.078 519.802 265.078 Q522.256 265.078 524.547 264.476 Q526.862 263.874 529.131 262.67 L529.131 266.698 Q526.839 267.67 524.432 268.18 Q522.024 268.689 519.547 268.689 Q513.344 268.689 509.709 265.078 Q506.098 261.467 506.098 255.309 Q506.098 248.944 509.524 245.217 Q512.973 241.467 518.807 241.467 Q524.038 241.467 527.07 244.846 Q530.126 248.203 530.126 253.99 M525.867 252.74 Q525.82 249.245 523.899 247.161 Q522.001 245.078 518.853 245.078 Q515.288 245.078 513.135 247.092 Q511.006 249.106 510.682 252.763 L525.867 252.74 Z\" fill=\"#000000\" fill-rule=\"evenodd\" fill-opacity=\"1\" /><path clip-path=\"url(#clip250)\" d=\"M554.177 246.027 L554.177 231.999 L558.436 231.999 L558.436 268.018 L554.177 268.018 L554.177 264.129 Q552.834 266.443 550.774 267.578 Q548.737 268.689 545.867 268.689 Q541.168 268.689 538.205 264.939 Q535.265 261.189 535.265 255.078 Q535.265 248.967 538.205 245.217 Q541.168 241.467 545.867 241.467 Q548.737 241.467 550.774 242.601 Q552.834 243.712 554.177 246.027 M539.663 255.078 Q539.663 259.777 541.584 262.462 Q543.529 265.124 546.908 265.124 Q550.288 265.124 552.232 262.462 Q554.177 259.777 554.177 255.078 Q554.177 250.379 552.232 247.717 Q550.288 245.032 546.908 245.032 Q543.529 245.032 541.584 247.717 Q539.663 250.379 539.663 255.078 Z\" fill=\"#000000\" fill-rule=\"evenodd\" fill-opacity=\"1\" /><path clip-path=\"url(#clip250)\" d=\"M582.278 231.999 L586.538 231.999 L586.538 268.018 L582.278 268.018 L582.278 231.999 Z\" fill=\"#000000\" fill-rule=\"evenodd\" fill-opacity=\"1\" /><path clip-path=\"url(#clip250)\" d=\"M595.45 242.092 L599.709 242.092 L599.709 268.018 L595.45 268.018 L595.45 242.092 M595.45 231.999 L599.709 231.999 L599.709 237.393 L595.45 237.393 L595.45 231.999 Z\" fill=\"#000000\" fill-rule=\"evenodd\" fill-opacity=\"1\" /><path clip-path=\"url(#clip250)\" d=\"M630.172 252.369 L630.172 268.018 L625.913 268.018 L625.913 252.508 Q625.913 248.828 624.477 246.999 Q623.042 245.17 620.172 245.17 Q616.723 245.17 614.732 247.37 Q612.741 249.569 612.741 253.365 L612.741 268.018 L608.459 268.018 L608.459 242.092 L612.741 242.092 L612.741 246.12 Q614.269 243.782 616.329 242.624 Q618.413 241.467 621.121 241.467 Q625.588 241.467 627.88 244.245 Q630.172 246.999 630.172 252.369 Z\" fill=\"#000000\" fill-rule=\"evenodd\" fill-opacity=\"1\" /><path clip-path=\"url(#clip250)\" d=\"M660.843 253.99 L660.843 256.073 L641.26 256.073 Q641.537 260.471 643.899 262.786 Q646.283 265.078 650.519 265.078 Q652.973 265.078 655.264 264.476 Q657.579 263.874 659.848 262.67 L659.848 266.698 Q657.556 267.67 655.148 268.18 Q652.741 268.689 650.264 268.689 Q644.061 268.689 640.426 265.078 Q636.815 261.467 636.815 255.309 Q636.815 248.944 640.241 245.217 Q643.69 241.467 649.524 241.467 Q654.755 241.467 657.787 244.846 Q660.843 248.203 660.843 253.99 M656.584 252.74 Q656.537 249.245 654.616 247.161 Q652.718 245.078 649.57 245.078 Q646.005 245.078 643.852 247.092 Q641.723 249.106 641.399 252.763 L656.584 252.74 Z\" fill=\"#000000\" fill-rule=\"evenodd\" fill-opacity=\"1\" /></svg>\n"
      ]
     },
     "execution_count": 53,
     "metadata": {},
     "output_type": "execute_result"
    }
   ],
   "source": [
    "dataerr = 10\n",
    "d = di.Normal(0,dataerr)\n",
    "x_fit = -11:0.1:11\n",
    "f(x) = x .^2 + 3.0 .* x - 2\n",
    "y_true = f.(x)\n",
    "y_observed = y_true + rand(d,length(x))\n",
    "line_fit = fit(x,y_observed,10)\n",
    "y_fitted = line_fit.(x_fit)\n",
    "scatter(x,y_observed, label = \"data\")\n",
    "plot!(x,y_true, label = \"true line\")\n",
    "plot!(x_fit,y_fitted, label = \"fitted line\")"
   ]
  },
  {
   "cell_type": "markdown",
   "id": "bbcb4ef4",
   "metadata": {},
   "source": [
    "3. What do you observe in the plot? What is this phenomenon called?"
   ]
  },
  {
   "cell_type": "markdown",
   "id": "49a085b1",
   "metadata": {},
   "source": [
    "I see the fitted line weaving through the data points and passing through many of the points. This is known as over-fitting."
   ]
  }
 ],
 "metadata": {
  "kernelspec": {
   "display_name": "Julia 1.8.5",
   "language": "julia",
   "name": "julia-1.8"
  },
  "language_info": {
   "file_extension": ".jl",
   "mimetype": "application/julia",
   "name": "julia",
   "version": "1.8.5"
  }
 },
 "nbformat": 4,
 "nbformat_minor": 5
}
