{
 "cells": [
  {
   "cell_type": "markdown",
   "id": "1fbe377b",
   "metadata": {},
   "source": [
    "<h1>HW3</h1>"
   ]
  },
  {
   "cell_type": "markdown",
   "id": "79813e24",
   "metadata": {},
   "source": [
    "# Question 1\n",
    "### (Bayes Theorem) Read the following example and complete the exercises \n",
    "\n",
    "Trolls Under the Bridge\n",
    "1. Trolls(T) are bad\n",
    "2. Gnomes(G) are benign\n",
    "3. Every bridge has 5 creatures under it\n",
    "\n",
    "Below are the probabilities of what creatures live under a bridge:\n",
    "1. TTGGG: 20% (E1)\n",
    "2. TGGGG: 20% (E2)\n",
    "3. GGGGG: 60% (E3)\n",
    "\n",
    "A knight is approaching a bridge and he wants to know his chance of crossing the bridge safely."
   ]
  },
  {
   "cell_type": "markdown",
   "id": "425f8583",
   "metadata": {},
   "source": [
    "### 1.1 \n",
    "\n",
    "#### What is the chance of the knight crossing the bridge safely?\n"
   ]
  },
  {
   "cell_type": "markdown",
   "id": "b480ded0",
   "metadata": {},
   "source": [
    "The chance of the knight crossing the bridge safely is 60%, because this is the probability that only gnomes are under the bridge without any trolls (GGGGG)."
   ]
  },
  {
   "cell_type": "markdown",
   "id": "61f687e4",
   "metadata": {},
   "source": [
    "### 1.2\n",
    "\n",
    "#### Before crossing a bridge, a knight captures a troll. “I now have an 80% chance of crossing safely,” he reasons, “since only the case 20% had TTGGG (E1) now have TGGG is still a threat.”\n",
    "\n",
    "#### Do you agree with him? Why?"
   ]
  },
  {
   "cell_type": "markdown",
   "id": "09025213",
   "metadata": {},
   "source": [
    "I do not agree with the knight. The knight originally only had a 60% chance of crossing safely before coming into contact with troll. In order to calculate the probability that the knight will cross safely given he encountered a troll, the posterior probability must be calculated. The knight claiming his 80% chance of safe crossing is not at all conditioned on previously seen data. Therefore, it is inaccurate."
   ]
  },
  {
   "cell_type": "markdown",
   "id": "c1533b67",
   "metadata": {},
   "source": [
    "### 1.3\n",
    "\n",
    "#### Now he wants to use Bayes' theorem to calculate his chance of crossing safely given a troll captured \n",
    "\n",
    "\\begin{equation*}\n",
    "P(A|B) = \\frac{P(B|A)P(A)}{P(B)} \\\\\n",
    "P(A|B): Posteior \\\\\n",
    "P(B|A): Likelihood \\\\\n",
    "P(A): Prior \\\\\n",
    "P(B): Marginal Probability \\\\\n",
    "\\end{equation*}\n",
    "\n",
    "#### Given the three events, E1, E2, and E3, which two of the three events does the knight need to consider after a troll was captured?"
   ]
  },
  {
   "cell_type": "markdown",
   "id": "0adb7f0a",
   "metadata": {},
   "source": [
    "After a troll is captured, the knight must consider both events E1 and E2."
   ]
  },
  {
   "cell_type": "markdown",
   "id": "e45e8fa6",
   "metadata": {},
   "source": [
    "### 1.4\n",
    "\n",
    "#### Use Bayes' theorem to calculate the probability of the two events in 1.3 (separately) given the troll was captured. "
   ]
  },
  {
   "cell_type": "markdown",
   "id": "5d9c3c0b",
   "metadata": {},
   "source": [
    "Probability of one event given a troll captured: "
   ]
  },
  {
   "cell_type": "code",
   "execution_count": 21,
   "id": "f2f0e7c8",
   "metadata": {},
   "outputs": [
    {
     "data": {
      "text/plain": [
       "0.6666666666666666"
      ]
     },
     "execution_count": 21,
     "metadata": {},
     "output_type": "execute_result"
    }
   ],
   "source": [
    "# P(E1|troll captured)= (P(troll captured|E1)* P(E1)) / (P(troll captured|E1)* P(E1) +P(troll captured|E2) * P(E2))\n",
    "# P(troll captured|E2) = 1/5\n",
    "# P(E2) = 1/5\n",
    "# P(troll captured|E1) = 2/5\n",
    "# P(E1) = 1/5\n",
    "P=((.4*.2)/((.4*.2)+(.2*.2)))"
   ]
  },
  {
   "cell_type": "markdown",
   "id": "37843aee",
   "metadata": {},
   "source": [
    "Probability of the other event given a troll captured: "
   ]
  },
  {
   "cell_type": "code",
   "execution_count": 22,
   "id": "5db10bc7",
   "metadata": {},
   "outputs": [
    {
     "data": {
      "text/plain": [
       "0.3333333333333333"
      ]
     },
     "execution_count": 22,
     "metadata": {},
     "output_type": "execute_result"
    }
   ],
   "source": [
    "# P(E2|troll captured)=(P(troll captured|E2)* P(E2)) / (P(troll captured|E2)* P(E2) +P(troll captured|E1) * P(E1))\n",
    "# P(troll captured|E2) = 1/5\n",
    "# P(E2) = 1/5\n",
    "# P(troll captured|E1) = 2/5\n",
    "# P(E1) = 1/5\n",
    "P=((.2*.2)/((.2*.2)+(.4*.2)))"
   ]
  },
  {
   "cell_type": "markdown",
   "id": "f3b7f049",
   "metadata": {},
   "source": [
    "### 1.5\n",
    "\n",
    "#### What is the chance of the knight crossing safely?"
   ]
  },
  {
   "cell_type": "markdown",
   "id": "db7027bb",
   "metadata": {},
   "source": [
    "The chance of the knight crossing safely is 1/3."
   ]
  },
  {
   "cell_type": "markdown",
   "id": "7b815ae0",
   "metadata": {},
   "source": [
    "#### Now looking back to 1.1, the probabilities were changed after assimilating data! "
   ]
  },
  {
   "cell_type": "markdown",
   "id": "f1450094",
   "metadata": {},
   "source": [
    "# Question 2\n",
    "### (Polynomial Fitting) Read the following example and complete the exercises \n",
    "\n",
    "Biological data always comes with errors that influence the intepretation of the data significantly. In this question, we will simulate data and see how noises affect the parameter estimation."
   ]
  },
  {
   "cell_type": "code",
   "execution_count": 2,
   "id": "c20822fa",
   "metadata": {},
   "outputs": [
    {
     "name": "stderr",
     "output_type": "stream",
     "text": [
      "\u001b[32m\u001b[1m    Updating\u001b[22m\u001b[39m registry at `C:\\Users\\julia\\.julia\\registries\\General.toml`\n",
      "\u001b[32m\u001b[1m   Resolving\u001b[22m\u001b[39m package versions...\n",
      "\u001b[32m\u001b[1m  No Changes\u001b[22m\u001b[39m to `C:\\Users\\julia\\.julia\\environments\\v1.8\\Project.toml`\n",
      "\u001b[32m\u001b[1m  No Changes\u001b[22m\u001b[39m to `C:\\Users\\julia\\.julia\\environments\\v1.8\\Manifest.toml`\n"
     ]
    }
   ],
   "source": [
    "import Pkg\n",
    "Pkg.add([\"Distributions\", \"Plots\", \"Polynomials\", \"Random\"])"
   ]
  },
  {
   "cell_type": "code",
   "execution_count": null,
   "id": "d7d1ca8d",
   "metadata": {},
   "outputs": [],
   "source": [
    "import Distributions as di\n",
    "import Plots\n",
    "import Polynomials\n",
    "import Random"
   ]
  },
  {
   "cell_type": "markdown",
   "id": "a90dd09d",
   "metadata": {},
   "source": [
    "### 2.1\n",
    "\n",
    "1. Generate the independent variable x ranging from -10 to 10 with an increment of 1\n",
    "2. Generate the dependent variable y_true using the equation y_true = x^2 + 3x - 2\n"
   ]
  },
  {
   "cell_type": "code",
   "execution_count": 56,
   "id": "6b0b33c5",
   "metadata": {},
   "outputs": [
    {
     "data": {
      "text/plain": [
       "21-element Vector{Int64}:\n",
       "  68\n",
       "  52\n",
       "  38\n",
       "  26\n",
       "  16\n",
       "   8\n",
       "   2\n",
       "  -2\n",
       "  -4\n",
       "  -4\n",
       "  -2\n",
       "   2\n",
       "   8\n",
       "  16\n",
       "  26\n",
       "  38\n",
       "  52\n",
       "  68\n",
       "  86\n",
       " 106\n",
       " 128"
      ]
     },
     "execution_count": 56,
     "metadata": {},
     "output_type": "execute_result"
    }
   ],
   "source": [
    "x=collect(-10:1:10)\n",
    "y_true=x.^2 .+3x .-2"
   ]
  },
  {
   "cell_type": "markdown",
   "id": "74d2a191",
   "metadata": {},
   "source": [
    "### 2.2\n",
    "\n",
    "1. Generate the Guassian noises with zero mean and a standard deviation of 10\n",
    "\n",
    "2. Add the noises to y_true to obtain y_observed\n"
   ]
  },
  {
   "cell_type": "code",
   "execution_count": 57,
   "id": "7936417a",
   "metadata": {},
   "outputs": [
    {
     "data": {
      "text/plain": [
       "21-element Vector{Float64}:\n",
       "  72.28244881704119\n",
       "  47.01367954433652\n",
       "  27.51788850252399\n",
       "  19.96273953453126\n",
       "  11.849829795591194\n",
       "   8.829024703233166\n",
       "  23.25034310696894\n",
       "  -5.421493546807664\n",
       "  -6.861632987650956\n",
       " -13.2416396628455\n",
       "  -2.697333039509994\n",
       "  14.158434012405216\n",
       "  13.227577363792815\n",
       "  11.066130206927015\n",
       "  27.885104810751535\n",
       "  47.939553114893535\n",
       "  50.93424889985741\n",
       "  62.90998056516615\n",
       "  88.7515814104575\n",
       " 102.53493038661288\n",
       " 114.0298594190082"
      ]
     },
     "execution_count": 57,
     "metadata": {},
     "output_type": "execute_result"
    }
   ],
   "source": [
    "using Random, Distributions\n",
    "d = Normal(0,10)\n",
    "noise=rand(d,length(x))\n",
    "y_observed = y_true .+ noise"
   ]
  },
  {
   "cell_type": "markdown",
   "id": "ecf2e554",
   "metadata": {},
   "source": [
    "### 2.3\n",
    "\n",
    "#### Fit the data (x, y_observed) with a second order polynomial. \n",
    "\n",
    "1. Make a scatter plot of y_observed along x\n",
    "2. Plot a line of y_true along x on the scatter plot\n",
    "3. Plot a line of the fitted polynomial along x on the same plot"
   ]
  },
  {
   "cell_type": "code",
   "execution_count": 58,
   "id": "d39a136b",
   "metadata": {},
   "outputs": [
    {
     "data": {
      "image/svg+xml": [
       "<?xml version=\"1.0\" encoding=\"utf-8\"?>\n",
       "<svg xmlns=\"http://www.w3.org/2000/svg\" xmlns:xlink=\"http://www.w3.org/1999/xlink\" width=\"600\" height=\"400\" viewBox=\"0 0 2400 1600\">\n",
       "<defs>\n",
       "  <clipPath id=\"clip650\">\n",
       "    <rect x=\"0\" y=\"0\" width=\"2400\" height=\"1600\"/>\n",
       "  </clipPath>\n",
       "</defs>\n",
       "<path clip-path=\"url(#clip650)\" d=\"M0 1600 L2400 1600 L2400 0 L0 0  Z\" fill=\"#ffffff\" fill-rule=\"evenodd\" fill-opacity=\"1\"/>\n",
       "<defs>\n",
       "  <clipPath id=\"clip651\">\n",
       "    <rect x=\"480\" y=\"0\" width=\"1681\" height=\"1600\"/>\n",
       "  </clipPath>\n",
       "</defs>\n",
       "<path clip-path=\"url(#clip650)\" d=\"M169.121 1486.45 L2352.76 1486.45 L2352.76 47.2441 L169.121 47.2441  Z\" fill=\"#ffffff\" fill-rule=\"evenodd\" fill-opacity=\"1\"/>\n",
       "<defs>\n",
       "  <clipPath id=\"clip652\">\n",
       "    <rect x=\"169\" y=\"47\" width=\"2185\" height=\"1440\"/>\n",
       "  </clipPath>\n",
       "</defs>\n",
       "<polyline clip-path=\"url(#clip652)\" style=\"stroke:#000000; stroke-linecap:round; stroke-linejoin:round; stroke-width:2; stroke-opacity:0.1; fill:none\" points=\"230.922,1486.45 230.922,47.2441 \"/>\n",
       "<polyline clip-path=\"url(#clip652)\" style=\"stroke:#000000; stroke-linecap:round; stroke-linejoin:round; stroke-width:2; stroke-opacity:0.1; fill:none\" points=\"745.93,1486.45 745.93,47.2441 \"/>\n",
       "<polyline clip-path=\"url(#clip652)\" style=\"stroke:#000000; stroke-linecap:round; stroke-linejoin:round; stroke-width:2; stroke-opacity:0.1; fill:none\" points=\"1260.94,1486.45 1260.94,47.2441 \"/>\n",
       "<polyline clip-path=\"url(#clip652)\" style=\"stroke:#000000; stroke-linecap:round; stroke-linejoin:round; stroke-width:2; stroke-opacity:0.1; fill:none\" points=\"1775.95,1486.45 1775.95,47.2441 \"/>\n",
       "<polyline clip-path=\"url(#clip652)\" style=\"stroke:#000000; stroke-linecap:round; stroke-linejoin:round; stroke-width:2; stroke-opacity:0.1; fill:none\" points=\"2290.95,1486.45 2290.95,47.2441 \"/>\n",
       "<polyline clip-path=\"url(#clip650)\" style=\"stroke:#000000; stroke-linecap:round; stroke-linejoin:round; stroke-width:4; stroke-opacity:1; fill:none\" points=\"169.121,1486.45 2352.76,1486.45 \"/>\n",
       "<polyline clip-path=\"url(#clip650)\" style=\"stroke:#000000; stroke-linecap:round; stroke-linejoin:round; stroke-width:4; stroke-opacity:1; fill:none\" points=\"230.922,1486.45 230.922,1467.55 \"/>\n",
       "<polyline clip-path=\"url(#clip650)\" style=\"stroke:#000000; stroke-linecap:round; stroke-linejoin:round; stroke-width:4; stroke-opacity:1; fill:none\" points=\"745.93,1486.45 745.93,1467.55 \"/>\n",
       "<polyline clip-path=\"url(#clip650)\" style=\"stroke:#000000; stroke-linecap:round; stroke-linejoin:round; stroke-width:4; stroke-opacity:1; fill:none\" points=\"1260.94,1486.45 1260.94,1467.55 \"/>\n",
       "<polyline clip-path=\"url(#clip650)\" style=\"stroke:#000000; stroke-linecap:round; stroke-linejoin:round; stroke-width:4; stroke-opacity:1; fill:none\" points=\"1775.95,1486.45 1775.95,1467.55 \"/>\n",
       "<polyline clip-path=\"url(#clip650)\" style=\"stroke:#000000; stroke-linecap:round; stroke-linejoin:round; stroke-width:4; stroke-opacity:1; fill:none\" points=\"2290.95,1486.45 2290.95,1467.55 \"/>\n",
       "<path clip-path=\"url(#clip650)\" d=\"M184.985 1532.02 L214.661 1532.02 L214.661 1535.95 L184.985 1535.95 L184.985 1532.02 Z\" fill=\"#000000\" fill-rule=\"evenodd\" fill-opacity=\"1\" /><path clip-path=\"url(#clip650)\" d=\"M225.564 1544.91 L233.202 1544.91 L233.202 1518.55 L224.892 1520.21 L224.892 1515.95 L233.156 1514.29 L237.832 1514.29 L237.832 1544.91 L245.471 1544.91 L245.471 1548.85 L225.564 1548.85 L225.564 1544.91 Z\" fill=\"#000000\" fill-rule=\"evenodd\" fill-opacity=\"1\" /><path clip-path=\"url(#clip650)\" d=\"M264.915 1517.37 Q261.304 1517.37 259.475 1520.93 Q257.67 1524.47 257.67 1531.6 Q257.67 1538.71 259.475 1542.27 Q261.304 1545.82 264.915 1545.82 Q268.549 1545.82 270.355 1542.27 Q272.184 1538.71 272.184 1531.6 Q272.184 1524.47 270.355 1520.93 Q268.549 1517.37 264.915 1517.37 M264.915 1513.66 Q270.725 1513.66 273.781 1518.27 Q276.86 1522.85 276.86 1531.6 Q276.86 1540.33 273.781 1544.94 Q270.725 1549.52 264.915 1549.52 Q259.105 1549.52 256.026 1544.94 Q252.971 1540.33 252.971 1531.6 Q252.971 1522.85 256.026 1518.27 Q259.105 1513.66 264.915 1513.66 Z\" fill=\"#000000\" fill-rule=\"evenodd\" fill-opacity=\"1\" /><path clip-path=\"url(#clip650)\" d=\"M715.572 1532.02 L745.248 1532.02 L745.248 1535.95 L715.572 1535.95 L715.572 1532.02 Z\" fill=\"#000000\" fill-rule=\"evenodd\" fill-opacity=\"1\" /><path clip-path=\"url(#clip650)\" d=\"M755.386 1514.29 L773.743 1514.29 L773.743 1518.22 L759.669 1518.22 L759.669 1526.7 Q760.687 1526.35 761.706 1526.19 Q762.724 1526 763.743 1526 Q769.53 1526 772.909 1529.17 Q776.289 1532.34 776.289 1537.76 Q776.289 1543.34 772.817 1546.44 Q769.345 1549.52 763.025 1549.52 Q760.849 1549.52 758.581 1549.15 Q756.335 1548.78 753.928 1548.04 L753.928 1543.34 Q756.011 1544.47 758.234 1545.03 Q760.456 1545.58 762.933 1545.58 Q766.937 1545.58 769.275 1543.48 Q771.613 1541.37 771.613 1537.76 Q771.613 1534.15 769.275 1532.04 Q766.937 1529.94 762.933 1529.94 Q761.058 1529.94 759.183 1530.35 Q757.331 1530.77 755.386 1531.65 L755.386 1514.29 Z\" fill=\"#000000\" fill-rule=\"evenodd\" fill-opacity=\"1\" /><path clip-path=\"url(#clip650)\" d=\"M1260.94 1517.37 Q1257.33 1517.37 1255.5 1520.93 Q1253.69 1524.47 1253.69 1531.6 Q1253.69 1538.71 1255.5 1542.27 Q1257.33 1545.82 1260.94 1545.82 Q1264.57 1545.82 1266.38 1542.27 Q1268.21 1538.71 1268.21 1531.6 Q1268.21 1524.47 1266.38 1520.93 Q1264.57 1517.37 1260.94 1517.37 M1260.94 1513.66 Q1266.75 1513.66 1269.8 1518.27 Q1272.88 1522.85 1272.88 1531.6 Q1272.88 1540.33 1269.8 1544.94 Q1266.75 1549.52 1260.94 1549.52 Q1255.13 1549.52 1252.05 1544.94 Q1248.99 1540.33 1248.99 1531.6 Q1248.99 1522.85 1252.05 1518.27 Q1255.13 1513.66 1260.94 1513.66 Z\" fill=\"#000000\" fill-rule=\"evenodd\" fill-opacity=\"1\" /><path clip-path=\"url(#clip650)\" d=\"M1766.22 1514.29 L1784.58 1514.29 L1784.58 1518.22 L1770.51 1518.22 L1770.51 1526.7 Q1771.53 1526.35 1772.54 1526.19 Q1773.56 1526 1774.58 1526 Q1780.37 1526 1783.75 1529.17 Q1787.13 1532.34 1787.13 1537.76 Q1787.13 1543.34 1783.66 1546.44 Q1780.18 1549.52 1773.86 1549.52 Q1771.69 1549.52 1769.42 1549.15 Q1767.17 1548.78 1764.77 1548.04 L1764.77 1543.34 Q1766.85 1544.47 1769.07 1545.03 Q1771.29 1545.58 1773.77 1545.58 Q1777.78 1545.58 1780.11 1543.48 Q1782.45 1541.37 1782.45 1537.76 Q1782.45 1534.15 1780.11 1532.04 Q1777.78 1529.94 1773.77 1529.94 Q1771.9 1529.94 1770.02 1530.35 Q1768.17 1530.77 1766.22 1531.65 L1766.22 1514.29 Z\" fill=\"#000000\" fill-rule=\"evenodd\" fill-opacity=\"1\" /><path clip-path=\"url(#clip650)\" d=\"M2265.64 1544.91 L2273.28 1544.91 L2273.28 1518.55 L2264.97 1520.21 L2264.97 1515.95 L2273.24 1514.29 L2277.91 1514.29 L2277.91 1544.91 L2285.55 1544.91 L2285.55 1548.85 L2265.64 1548.85 L2265.64 1544.91 Z\" fill=\"#000000\" fill-rule=\"evenodd\" fill-opacity=\"1\" /><path clip-path=\"url(#clip650)\" d=\"M2304.99 1517.37 Q2301.38 1517.37 2299.55 1520.93 Q2297.75 1524.47 2297.75 1531.6 Q2297.75 1538.71 2299.55 1542.27 Q2301.38 1545.82 2304.99 1545.82 Q2308.63 1545.82 2310.43 1542.27 Q2312.26 1538.71 2312.26 1531.6 Q2312.26 1524.47 2310.43 1520.93 Q2308.63 1517.37 2304.99 1517.37 M2304.99 1513.66 Q2310.8 1513.66 2313.86 1518.27 Q2316.94 1522.85 2316.94 1531.6 Q2316.94 1540.33 2313.86 1544.94 Q2310.8 1549.52 2304.99 1549.52 Q2299.18 1549.52 2296.11 1544.94 Q2293.05 1540.33 2293.05 1531.6 Q2293.05 1522.85 2296.11 1518.27 Q2299.18 1513.66 2304.99 1513.66 Z\" fill=\"#000000\" fill-rule=\"evenodd\" fill-opacity=\"1\" /><polyline clip-path=\"url(#clip652)\" style=\"stroke:#000000; stroke-linecap:round; stroke-linejoin:round; stroke-width:2; stroke-opacity:0.1; fill:none\" points=\"169.121,1318.43 2352.76,1318.43 \"/>\n",
       "<polyline clip-path=\"url(#clip652)\" style=\"stroke:#000000; stroke-linecap:round; stroke-linejoin:round; stroke-width:2; stroke-opacity:0.1; fill:none\" points=\"169.121,1126.17 2352.76,1126.17 \"/>\n",
       "<polyline clip-path=\"url(#clip652)\" style=\"stroke:#000000; stroke-linecap:round; stroke-linejoin:round; stroke-width:2; stroke-opacity:0.1; fill:none\" points=\"169.121,933.91 2352.76,933.91 \"/>\n",
       "<polyline clip-path=\"url(#clip652)\" style=\"stroke:#000000; stroke-linecap:round; stroke-linejoin:round; stroke-width:2; stroke-opacity:0.1; fill:none\" points=\"169.121,741.652 2352.76,741.652 \"/>\n",
       "<polyline clip-path=\"url(#clip652)\" style=\"stroke:#000000; stroke-linecap:round; stroke-linejoin:round; stroke-width:2; stroke-opacity:0.1; fill:none\" points=\"169.121,549.395 2352.76,549.395 \"/>\n",
       "<polyline clip-path=\"url(#clip652)\" style=\"stroke:#000000; stroke-linecap:round; stroke-linejoin:round; stroke-width:2; stroke-opacity:0.1; fill:none\" points=\"169.121,357.137 2352.76,357.137 \"/>\n",
       "<polyline clip-path=\"url(#clip652)\" style=\"stroke:#000000; stroke-linecap:round; stroke-linejoin:round; stroke-width:2; stroke-opacity:0.1; fill:none\" points=\"169.121,164.879 2352.76,164.879 \"/>\n",
       "<polyline clip-path=\"url(#clip650)\" style=\"stroke:#000000; stroke-linecap:round; stroke-linejoin:round; stroke-width:4; stroke-opacity:1; fill:none\" points=\"169.121,1486.45 169.121,47.2441 \"/>\n",
       "<polyline clip-path=\"url(#clip650)\" style=\"stroke:#000000; stroke-linecap:round; stroke-linejoin:round; stroke-width:4; stroke-opacity:1; fill:none\" points=\"169.121,1318.43 188.019,1318.43 \"/>\n",
       "<polyline clip-path=\"url(#clip650)\" style=\"stroke:#000000; stroke-linecap:round; stroke-linejoin:round; stroke-width:4; stroke-opacity:1; fill:none\" points=\"169.121,1126.17 188.019,1126.17 \"/>\n",
       "<polyline clip-path=\"url(#clip650)\" style=\"stroke:#000000; stroke-linecap:round; stroke-linejoin:round; stroke-width:4; stroke-opacity:1; fill:none\" points=\"169.121,933.91 188.019,933.91 \"/>\n",
       "<polyline clip-path=\"url(#clip650)\" style=\"stroke:#000000; stroke-linecap:round; stroke-linejoin:round; stroke-width:4; stroke-opacity:1; fill:none\" points=\"169.121,741.652 188.019,741.652 \"/>\n",
       "<polyline clip-path=\"url(#clip650)\" style=\"stroke:#000000; stroke-linecap:round; stroke-linejoin:round; stroke-width:4; stroke-opacity:1; fill:none\" points=\"169.121,549.395 188.019,549.395 \"/>\n",
       "<polyline clip-path=\"url(#clip650)\" style=\"stroke:#000000; stroke-linecap:round; stroke-linejoin:round; stroke-width:4; stroke-opacity:1; fill:none\" points=\"169.121,357.137 188.019,357.137 \"/>\n",
       "<polyline clip-path=\"url(#clip650)\" style=\"stroke:#000000; stroke-linecap:round; stroke-linejoin:round; stroke-width:4; stroke-opacity:1; fill:none\" points=\"169.121,164.879 188.019,164.879 \"/>\n",
       "<path clip-path=\"url(#clip650)\" d=\"M121.177 1304.22 Q117.566 1304.22 115.737 1307.79 Q113.932 1311.33 113.932 1318.46 Q113.932 1325.57 115.737 1329.13 Q117.566 1332.67 121.177 1332.67 Q124.811 1332.67 126.617 1329.13 Q128.445 1325.57 128.445 1318.46 Q128.445 1311.33 126.617 1307.79 Q124.811 1304.22 121.177 1304.22 M121.177 1300.52 Q126.987 1300.52 130.043 1305.13 Q133.121 1309.71 133.121 1318.46 Q133.121 1327.19 130.043 1331.79 Q126.987 1336.38 121.177 1336.38 Q115.367 1336.38 112.288 1331.79 Q109.233 1327.19 109.233 1318.46 Q109.233 1309.71 112.288 1305.13 Q115.367 1300.52 121.177 1300.52 Z\" fill=\"#000000\" fill-rule=\"evenodd\" fill-opacity=\"1\" /><path clip-path=\"url(#clip650)\" d=\"M85.0429 1139.51 L101.362 1139.51 L101.362 1143.45 L79.4179 1143.45 L79.4179 1139.51 Q82.0799 1136.76 86.6632 1132.13 Q91.2697 1127.48 92.4502 1126.13 Q94.6956 1123.61 95.5752 1121.87 Q96.478 1120.11 96.478 1118.42 Q96.478 1115.67 94.5336 1113.93 Q92.6123 1112.2 89.5104 1112.2 Q87.3114 1112.2 84.8577 1112.96 Q82.4271 1113.73 79.6494 1115.28 L79.6494 1110.55 Q82.4734 1109.42 84.9271 1108.84 Q87.3808 1108.26 89.4178 1108.26 Q94.7882 1108.26 97.9826 1110.95 Q101.177 1113.63 101.177 1118.12 Q101.177 1120.25 100.367 1122.17 Q99.5798 1124.07 97.4734 1126.67 Q96.8947 1127.34 93.7928 1130.55 Q90.691 1133.75 85.0429 1139.51 Z\" fill=\"#000000\" fill-rule=\"evenodd\" fill-opacity=\"1\" /><path clip-path=\"url(#clip650)\" d=\"M121.177 1111.97 Q117.566 1111.97 115.737 1115.53 Q113.932 1119.07 113.932 1126.2 Q113.932 1133.31 115.737 1136.87 Q117.566 1140.42 121.177 1140.42 Q124.811 1140.42 126.617 1136.87 Q128.445 1133.31 128.445 1126.2 Q128.445 1119.07 126.617 1115.53 Q124.811 1111.97 121.177 1111.97 M121.177 1108.26 Q126.987 1108.26 130.043 1112.87 Q133.121 1117.45 133.121 1126.2 Q133.121 1134.93 130.043 1139.54 Q126.987 1144.12 121.177 1144.12 Q115.367 1144.12 112.288 1139.54 Q109.233 1134.93 109.233 1126.2 Q109.233 1117.45 112.288 1112.87 Q115.367 1108.26 121.177 1108.26 Z\" fill=\"#000000\" fill-rule=\"evenodd\" fill-opacity=\"1\" /><path clip-path=\"url(#clip650)\" d=\"M93.8623 920.704 L82.0568 939.153 L93.8623 939.153 L93.8623 920.704 M92.6354 916.63 L98.515 916.63 L98.515 939.153 L103.446 939.153 L103.446 943.042 L98.515 943.042 L98.515 951.19 L93.8623 951.19 L93.8623 943.042 L78.2605 943.042 L78.2605 938.528 L92.6354 916.63 Z\" fill=\"#000000\" fill-rule=\"evenodd\" fill-opacity=\"1\" /><path clip-path=\"url(#clip650)\" d=\"M121.177 919.709 Q117.566 919.709 115.737 923.273 Q113.932 926.815 113.932 933.945 Q113.932 941.051 115.737 944.616 Q117.566 948.158 121.177 948.158 Q124.811 948.158 126.617 944.616 Q128.445 941.051 128.445 933.945 Q128.445 926.815 126.617 923.273 Q124.811 919.709 121.177 919.709 M121.177 916.005 Q126.987 916.005 130.043 920.611 Q133.121 925.195 133.121 933.945 Q133.121 942.672 130.043 947.278 Q126.987 951.861 121.177 951.861 Q115.367 951.861 112.288 947.278 Q109.233 942.672 109.233 933.945 Q109.233 925.195 112.288 920.611 Q115.367 916.005 121.177 916.005 Z\" fill=\"#000000\" fill-rule=\"evenodd\" fill-opacity=\"1\" /><path clip-path=\"url(#clip650)\" d=\"M91.5938 739.789 Q88.4456 739.789 86.5938 741.942 Q84.7651 744.094 84.7651 747.844 Q84.7651 751.571 86.5938 753.747 Q88.4456 755.9 91.5938 755.9 Q94.7419 755.9 96.5706 753.747 Q98.4224 751.571 98.4224 747.844 Q98.4224 744.094 96.5706 741.942 Q94.7419 739.789 91.5938 739.789 M100.876 725.136 L100.876 729.395 Q99.1169 728.562 97.3113 728.122 Q95.5289 727.683 93.7697 727.683 Q89.1401 727.683 86.6864 730.807 Q84.2558 733.932 83.9086 740.252 Q85.2743 738.238 87.3345 737.173 Q89.3947 736.085 91.8715 736.085 Q97.0798 736.085 100.089 739.257 Q103.121 742.405 103.121 747.844 Q103.121 753.168 99.9733 756.386 Q96.8252 759.604 91.5938 759.604 Q85.5984 759.604 82.4271 755.02 Q79.2559 750.414 79.2559 741.687 Q79.2559 733.493 83.1447 728.632 Q87.0336 723.747 93.5845 723.747 Q95.3437 723.747 97.1261 724.095 Q98.9317 724.442 100.876 725.136 Z\" fill=\"#000000\" fill-rule=\"evenodd\" fill-opacity=\"1\" /><path clip-path=\"url(#clip650)\" d=\"M121.177 727.451 Q117.566 727.451 115.737 731.016 Q113.932 734.557 113.932 741.687 Q113.932 748.794 115.737 752.358 Q117.566 755.9 121.177 755.9 Q124.811 755.9 126.617 752.358 Q128.445 748.794 128.445 741.687 Q128.445 734.557 126.617 731.016 Q124.811 727.451 121.177 727.451 M121.177 723.747 Q126.987 723.747 130.043 728.354 Q133.121 732.937 133.121 741.687 Q133.121 750.414 130.043 755.02 Q126.987 759.604 121.177 759.604 Q115.367 759.604 112.288 755.02 Q109.233 750.414 109.233 741.687 Q109.233 732.937 112.288 728.354 Q115.367 723.747 121.177 723.747 Z\" fill=\"#000000\" fill-rule=\"evenodd\" fill-opacity=\"1\" /><path clip-path=\"url(#clip650)\" d=\"M91.0151 550.263 Q87.6817 550.263 85.7605 552.045 Q83.8623 553.828 83.8623 556.953 Q83.8623 560.077 85.7605 561.86 Q87.6817 563.642 91.0151 563.642 Q94.3484 563.642 96.2697 561.86 Q98.1909 560.054 98.1909 556.953 Q98.1909 553.828 96.2697 552.045 Q94.3715 550.263 91.0151 550.263 M86.3392 548.272 Q83.3299 547.531 81.6401 545.471 Q79.9735 543.411 79.9735 540.448 Q79.9735 536.304 82.9133 533.897 Q85.8762 531.49 91.0151 531.49 Q96.1771 531.49 99.1169 533.897 Q102.057 536.304 102.057 540.448 Q102.057 543.411 100.367 545.471 Q98.7002 547.531 95.7141 548.272 Q99.0937 549.059 100.969 551.351 Q102.867 553.642 102.867 556.953 Q102.867 561.976 99.7882 564.661 Q96.7326 567.346 91.0151 567.346 Q85.2975 567.346 82.2188 564.661 Q79.1633 561.976 79.1633 556.953 Q79.1633 553.642 81.0614 551.351 Q82.9595 549.059 86.3392 548.272 M84.6262 540.888 Q84.6262 543.573 86.2929 545.078 Q87.9827 546.582 91.0151 546.582 Q94.0243 546.582 95.7141 545.078 Q97.4271 543.573 97.4271 540.888 Q97.4271 538.203 95.7141 536.698 Q94.0243 535.193 91.0151 535.193 Q87.9827 535.193 86.2929 536.698 Q84.6262 538.203 84.6262 540.888 Z\" fill=\"#000000\" fill-rule=\"evenodd\" fill-opacity=\"1\" /><path clip-path=\"url(#clip650)\" d=\"M121.177 535.193 Q117.566 535.193 115.737 538.758 Q113.932 542.3 113.932 549.429 Q113.932 556.536 115.737 560.101 Q117.566 563.642 121.177 563.642 Q124.811 563.642 126.617 560.101 Q128.445 556.536 128.445 549.429 Q128.445 542.3 126.617 538.758 Q124.811 535.193 121.177 535.193 M121.177 531.49 Q126.987 531.49 130.043 536.096 Q133.121 540.679 133.121 549.429 Q133.121 558.156 130.043 562.763 Q126.987 567.346 121.177 567.346 Q115.367 567.346 112.288 562.763 Q109.233 558.156 109.233 549.429 Q109.233 540.679 112.288 536.096 Q115.367 531.49 121.177 531.49 Z\" fill=\"#000000\" fill-rule=\"evenodd\" fill-opacity=\"1\" /><path clip-path=\"url(#clip650)\" d=\"M51.6634 370.482 L59.3023 370.482 L59.3023 344.116 L50.9921 345.783 L50.9921 341.524 L59.256 339.857 L63.9319 339.857 L63.9319 370.482 L71.5707 370.482 L71.5707 374.417 L51.6634 374.417 L51.6634 370.482 Z\" fill=\"#000000\" fill-rule=\"evenodd\" fill-opacity=\"1\" /><path clip-path=\"url(#clip650)\" d=\"M91.0151 342.936 Q87.404 342.936 85.5753 346.5 Q83.7697 350.042 83.7697 357.172 Q83.7697 364.278 85.5753 367.843 Q87.404 371.385 91.0151 371.385 Q94.6493 371.385 96.4548 367.843 Q98.2835 364.278 98.2835 357.172 Q98.2835 350.042 96.4548 346.5 Q94.6493 342.936 91.0151 342.936 M91.0151 339.232 Q96.8252 339.232 99.8808 343.838 Q102.959 348.422 102.959 357.172 Q102.959 365.899 99.8808 370.505 Q96.8252 375.088 91.0151 375.088 Q85.2049 375.088 82.1262 370.505 Q79.0707 365.899 79.0707 357.172 Q79.0707 348.422 82.1262 343.838 Q85.2049 339.232 91.0151 339.232 Z\" fill=\"#000000\" fill-rule=\"evenodd\" fill-opacity=\"1\" /><path clip-path=\"url(#clip650)\" d=\"M121.177 342.936 Q117.566 342.936 115.737 346.5 Q113.932 350.042 113.932 357.172 Q113.932 364.278 115.737 367.843 Q117.566 371.385 121.177 371.385 Q124.811 371.385 126.617 367.843 Q128.445 364.278 128.445 357.172 Q128.445 350.042 126.617 346.5 Q124.811 342.936 121.177 342.936 M121.177 339.232 Q126.987 339.232 130.043 343.838 Q133.121 348.422 133.121 357.172 Q133.121 365.899 130.043 370.505 Q126.987 375.088 121.177 375.088 Q115.367 375.088 112.288 370.505 Q109.233 365.899 109.233 357.172 Q109.233 348.422 112.288 343.838 Q115.367 339.232 121.177 339.232 Z\" fill=\"#000000\" fill-rule=\"evenodd\" fill-opacity=\"1\" /><path clip-path=\"url(#clip650)\" d=\"M51.6634 178.224 L59.3023 178.224 L59.3023 151.859 L50.9921 153.525 L50.9921 149.266 L59.256 147.599 L63.9319 147.599 L63.9319 178.224 L71.5707 178.224 L71.5707 182.159 L51.6634 182.159 L51.6634 178.224 Z\" fill=\"#000000\" fill-rule=\"evenodd\" fill-opacity=\"1\" /><path clip-path=\"url(#clip650)\" d=\"M85.0429 178.224 L101.362 178.224 L101.362 182.159 L79.4179 182.159 L79.4179 178.224 Q82.0799 175.47 86.6632 170.84 Q91.2697 166.187 92.4502 164.845 Q94.6956 162.321 95.5752 160.585 Q96.478 158.826 96.478 157.136 Q96.478 154.382 94.5336 152.646 Q92.6123 150.91 89.5104 150.91 Q87.3114 150.91 84.8577 151.673 Q82.4271 152.437 79.6494 153.988 L79.6494 149.266 Q82.4734 148.132 84.9271 147.553 Q87.3808 146.974 89.4178 146.974 Q94.7882 146.974 97.9826 149.66 Q101.177 152.345 101.177 156.835 Q101.177 158.965 100.367 160.886 Q99.5798 162.784 97.4734 165.377 Q96.8947 166.048 93.7928 169.266 Q90.691 172.46 85.0429 178.224 Z\" fill=\"#000000\" fill-rule=\"evenodd\" fill-opacity=\"1\" /><path clip-path=\"url(#clip650)\" d=\"M121.177 150.678 Q117.566 150.678 115.737 154.243 Q113.932 157.784 113.932 164.914 Q113.932 172.021 115.737 175.585 Q117.566 179.127 121.177 179.127 Q124.811 179.127 126.617 175.585 Q128.445 172.021 128.445 164.914 Q128.445 157.784 126.617 154.243 Q124.811 150.678 121.177 150.678 M121.177 146.974 Q126.987 146.974 130.043 151.581 Q133.121 156.164 133.121 164.914 Q133.121 173.641 130.043 178.247 Q126.987 182.831 121.177 182.831 Q115.367 182.831 112.288 178.247 Q109.233 173.641 109.233 164.914 Q109.233 156.164 112.288 151.581 Q115.367 146.974 121.177 146.974 Z\" fill=\"#000000\" fill-rule=\"evenodd\" fill-opacity=\"1\" /><circle clip-path=\"url(#clip652)\" cx=\"230.922\" cy=\"623.583\" r=\"14.4\" fill=\"#009af9\" fill-rule=\"evenodd\" fill-opacity=\"1\" stroke=\"#000000\" stroke-opacity=\"1\" stroke-width=\"3.2\"/>\n",
       "<circle clip-path=\"url(#clip652)\" cx=\"333.924\" cy=\"866.488\" r=\"14.4\" fill=\"#009af9\" fill-rule=\"evenodd\" fill-opacity=\"1\" stroke=\"#000000\" stroke-opacity=\"1\" stroke-width=\"3.2\"/>\n",
       "<circle clip-path=\"url(#clip652)\" cx=\"436.926\" cy=\"1053.9\" r=\"14.4\" fill=\"#009af9\" fill-rule=\"evenodd\" fill-opacity=\"1\" stroke=\"#000000\" stroke-opacity=\"1\" stroke-width=\"3.2\"/>\n",
       "<circle clip-path=\"url(#clip652)\" cx=\"539.927\" cy=\"1126.53\" r=\"14.4\" fill=\"#009af9\" fill-rule=\"evenodd\" fill-opacity=\"1\" stroke=\"#000000\" stroke-opacity=\"1\" stroke-width=\"3.2\"/>\n",
       "<circle clip-path=\"url(#clip652)\" cx=\"642.929\" cy=\"1204.51\" r=\"14.4\" fill=\"#009af9\" fill-rule=\"evenodd\" fill-opacity=\"1\" stroke=\"#000000\" stroke-opacity=\"1\" stroke-width=\"3.2\"/>\n",
       "<circle clip-path=\"url(#clip652)\" cx=\"745.93\" cy=\"1233.55\" r=\"14.4\" fill=\"#009af9\" fill-rule=\"evenodd\" fill-opacity=\"1\" stroke=\"#000000\" stroke-opacity=\"1\" stroke-width=\"3.2\"/>\n",
       "<circle clip-path=\"url(#clip652)\" cx=\"848.932\" cy=\"1094.92\" r=\"14.4\" fill=\"#009af9\" fill-rule=\"evenodd\" fill-opacity=\"1\" stroke=\"#000000\" stroke-opacity=\"1\" stroke-width=\"3.2\"/>\n",
       "<circle clip-path=\"url(#clip652)\" cx=\"951.934\" cy=\"1370.54\" r=\"14.4\" fill=\"#009af9\" fill-rule=\"evenodd\" fill-opacity=\"1\" stroke=\"#000000\" stroke-opacity=\"1\" stroke-width=\"3.2\"/>\n",
       "<circle clip-path=\"url(#clip652)\" cx=\"1054.94\" cy=\"1384.39\" r=\"14.4\" fill=\"#009af9\" fill-rule=\"evenodd\" fill-opacity=\"1\" stroke=\"#000000\" stroke-opacity=\"1\" stroke-width=\"3.2\"/>\n",
       "<circle clip-path=\"url(#clip652)\" cx=\"1157.94\" cy=\"1445.72\" r=\"14.4\" fill=\"#009af9\" fill-rule=\"evenodd\" fill-opacity=\"1\" stroke=\"#000000\" stroke-opacity=\"1\" stroke-width=\"3.2\"/>\n",
       "<circle clip-path=\"url(#clip652)\" cx=\"1260.94\" cy=\"1344.35\" r=\"14.4\" fill=\"#009af9\" fill-rule=\"evenodd\" fill-opacity=\"1\" stroke=\"#000000\" stroke-opacity=\"1\" stroke-width=\"3.2\"/>\n",
       "<circle clip-path=\"url(#clip652)\" cx=\"1363.94\" cy=\"1182.32\" r=\"14.4\" fill=\"#009af9\" fill-rule=\"evenodd\" fill-opacity=\"1\" stroke=\"#000000\" stroke-opacity=\"1\" stroke-width=\"3.2\"/>\n",
       "<circle clip-path=\"url(#clip652)\" cx=\"1466.94\" cy=\"1191.27\" r=\"14.4\" fill=\"#009af9\" fill-rule=\"evenodd\" fill-opacity=\"1\" stroke=\"#000000\" stroke-opacity=\"1\" stroke-width=\"3.2\"/>\n",
       "<circle clip-path=\"url(#clip652)\" cx=\"1569.94\" cy=\"1212.05\" r=\"14.4\" fill=\"#009af9\" fill-rule=\"evenodd\" fill-opacity=\"1\" stroke=\"#000000\" stroke-opacity=\"1\" stroke-width=\"3.2\"/>\n",
       "<circle clip-path=\"url(#clip652)\" cx=\"1672.95\" cy=\"1050.37\" r=\"14.4\" fill=\"#009af9\" fill-rule=\"evenodd\" fill-opacity=\"1\" stroke=\"#000000\" stroke-opacity=\"1\" stroke-width=\"3.2\"/>\n",
       "<circle clip-path=\"url(#clip652)\" cx=\"1775.95\" cy=\"857.588\" r=\"14.4\" fill=\"#009af9\" fill-rule=\"evenodd\" fill-opacity=\"1\" stroke=\"#000000\" stroke-opacity=\"1\" stroke-width=\"3.2\"/>\n",
       "<circle clip-path=\"url(#clip652)\" cx=\"1878.95\" cy=\"828.8\" r=\"14.4\" fill=\"#009af9\" fill-rule=\"evenodd\" fill-opacity=\"1\" stroke=\"#000000\" stroke-opacity=\"1\" stroke-width=\"3.2\"/>\n",
       "<circle clip-path=\"url(#clip652)\" cx=\"1981.95\" cy=\"713.679\" r=\"14.4\" fill=\"#009af9\" fill-rule=\"evenodd\" fill-opacity=\"1\" stroke=\"#000000\" stroke-opacity=\"1\" stroke-width=\"3.2\"/>\n",
       "<circle clip-path=\"url(#clip652)\" cx=\"2084.95\" cy=\"465.267\" r=\"14.4\" fill=\"#009af9\" fill-rule=\"evenodd\" fill-opacity=\"1\" stroke=\"#000000\" stroke-opacity=\"1\" stroke-width=\"3.2\"/>\n",
       "<circle clip-path=\"url(#clip652)\" cx=\"2187.95\" cy=\"332.769\" r=\"14.4\" fill=\"#009af9\" fill-rule=\"evenodd\" fill-opacity=\"1\" stroke=\"#000000\" stroke-opacity=\"1\" stroke-width=\"3.2\"/>\n",
       "<circle clip-path=\"url(#clip652)\" cx=\"2290.95\" cy=\"222.27\" r=\"14.4\" fill=\"#009af9\" fill-rule=\"evenodd\" fill-opacity=\"1\" stroke=\"#000000\" stroke-opacity=\"1\" stroke-width=\"3.2\"/>\n",
       "<polyline clip-path=\"url(#clip652)\" style=\"stroke:#e26f46; stroke-linecap:round; stroke-linejoin:round; stroke-width:4; stroke-opacity:1; fill:none\" points=\"230.922,664.749 333.924,818.555 436.926,953.136 539.927,1068.49 642.929,1164.62 745.93,1241.52 848.932,1299.2 951.934,1337.65 1054.94,1356.88 1157.94,1356.88 1260.94,1337.65 1363.94,1299.2 1466.94,1241.52 1569.94,1164.62 1672.95,1068.49 1775.95,953.136 1878.95,818.555 1981.95,664.749 2084.95,491.717 2187.95,299.46 2290.95,87.9763 \"/>\n",
       "<polyline clip-path=\"url(#clip652)\" style=\"stroke:#3da44d; stroke-linecap:round; stroke-linejoin:round; stroke-width:4; stroke-opacity:1; fill:none\" points=\"230.922,716.222 333.924,855.329 436.926,976.805 539.927,1080.65 642.929,1166.87 745.93,1235.45 848.932,1286.41 951.934,1319.73 1054.94,1335.43 1157.94,1333.49 1260.94,1313.93 1363.94,1276.73 1466.94,1221.91 1569.94,1149.45 1672.95,1059.37 1775.95,951.648 1878.95,826.301 1981.95,683.324 2084.95,522.717 2187.95,344.479 2290.95,148.611 \"/>\n",
       "<path clip-path=\"url(#clip650)\" d=\"M241.909 302.578 L717.447 302.578 L717.447 95.2176 L241.909 95.2176  Z\" fill=\"#ffffff\" fill-rule=\"evenodd\" fill-opacity=\"1\"/>\n",
       "<polyline clip-path=\"url(#clip650)\" style=\"stroke:#000000; stroke-linecap:round; stroke-linejoin:round; stroke-width:4; stroke-opacity:1; fill:none\" points=\"241.909,302.578 717.447,302.578 717.447,95.2176 241.909,95.2176 241.909,302.578 \"/>\n",
       "<circle clip-path=\"url(#clip650)\" cx=\"338.96\" cy=\"147.058\" r=\"23.04\" fill=\"#009af9\" fill-rule=\"evenodd\" fill-opacity=\"1\" stroke=\"#000000\" stroke-opacity=\"1\" stroke-width=\"5.12\"/>\n",
       "<path clip-path=\"url(#clip650)\" d=\"M449.853 166.745 Q448.047 171.375 446.334 172.787 Q444.621 174.199 441.751 174.199 L438.348 174.199 L438.348 170.634 L440.848 170.634 Q442.607 170.634 443.579 169.8 Q444.552 168.967 445.732 165.865 L446.496 163.921 L436.01 138.412 L440.524 138.412 L448.626 158.689 L456.727 138.412 L461.241 138.412 L449.853 166.745 Z\" fill=\"#000000\" fill-rule=\"evenodd\" fill-opacity=\"1\" /><path clip-path=\"url(#clip650)\" d=\"M492.237 141.398 Q488.811 141.398 486.82 144.083 Q484.829 146.745 484.829 151.398 Q484.829 156.051 486.797 158.736 Q488.787 161.398 492.237 161.398 Q495.639 161.398 497.63 158.713 Q499.621 156.027 499.621 151.398 Q499.621 146.791 497.63 144.106 Q495.639 141.398 492.237 141.398 M492.237 137.787 Q497.792 137.787 500.963 141.398 Q504.135 145.009 504.135 151.398 Q504.135 157.764 500.963 161.398 Q497.792 165.009 492.237 165.009 Q486.658 165.009 483.487 161.398 Q480.338 157.764 480.338 151.398 Q480.338 145.009 483.487 141.398 Q486.658 137.787 492.237 137.787 Z\" fill=\"#000000\" fill-rule=\"evenodd\" fill-opacity=\"1\" /><path clip-path=\"url(#clip650)\" d=\"M529.806 151.398 Q529.806 146.699 527.861 144.037 Q525.94 141.352 522.56 141.352 Q519.181 141.352 517.236 144.037 Q515.315 146.699 515.315 151.398 Q515.315 156.097 517.236 158.782 Q519.181 161.444 522.56 161.444 Q525.94 161.444 527.861 158.782 Q529.806 156.097 529.806 151.398 M515.315 142.347 Q516.658 140.032 518.695 138.921 Q520.755 137.787 523.602 137.787 Q528.324 137.787 531.264 141.537 Q534.227 145.287 534.227 151.398 Q534.227 157.509 531.264 161.259 Q528.324 165.009 523.602 165.009 Q520.755 165.009 518.695 163.898 Q516.658 162.763 515.315 160.449 L515.315 164.338 L511.033 164.338 L511.033 128.319 L515.315 128.319 L515.315 142.347 Z\" fill=\"#000000\" fill-rule=\"evenodd\" fill-opacity=\"1\" /><path clip-path=\"url(#clip650)\" d=\"M557.815 139.176 L557.815 143.203 Q556.009 142.277 554.065 141.815 Q552.12 141.352 550.037 141.352 Q546.866 141.352 545.269 142.324 Q543.695 143.296 543.695 145.24 Q543.695 146.722 544.829 147.578 Q545.963 148.412 549.389 149.176 L550.847 149.5 Q555.384 150.472 557.282 152.254 Q559.204 154.014 559.204 157.185 Q559.204 160.796 556.333 162.902 Q553.486 165.009 548.486 165.009 Q546.403 165.009 544.134 164.592 Q541.889 164.199 539.389 163.388 L539.389 158.99 Q541.75 160.217 544.042 160.842 Q546.333 161.444 548.579 161.444 Q551.588 161.444 553.208 160.426 Q554.829 159.384 554.829 157.509 Q554.829 155.773 553.648 154.847 Q552.491 153.921 548.533 153.064 L547.051 152.717 Q543.093 151.884 541.333 150.171 Q539.574 148.435 539.574 145.426 Q539.574 141.768 542.167 139.778 Q544.759 137.787 549.528 137.787 Q551.889 137.787 553.972 138.134 Q556.056 138.481 557.815 139.176 Z\" fill=\"#000000\" fill-rule=\"evenodd\" fill-opacity=\"1\" /><path clip-path=\"url(#clip650)\" d=\"M588.162 150.31 L588.162 152.393 L568.579 152.393 Q568.856 156.791 571.218 159.106 Q573.602 161.398 577.838 161.398 Q580.292 161.398 582.583 160.796 Q584.898 160.194 587.167 158.99 L587.167 163.018 Q584.875 163.99 582.468 164.5 Q580.06 165.009 577.583 165.009 Q571.38 165.009 567.745 161.398 Q564.134 157.787 564.134 151.629 Q564.134 145.264 567.56 141.537 Q571.009 137.787 576.843 137.787 Q582.074 137.787 585.106 141.166 Q588.162 144.523 588.162 150.31 M583.903 149.06 Q583.856 145.565 581.935 143.481 Q580.037 141.398 576.889 141.398 Q573.324 141.398 571.171 143.412 Q569.042 145.426 568.718 149.083 L583.903 149.06 Z\" fill=\"#000000\" fill-rule=\"evenodd\" fill-opacity=\"1\" /><path clip-path=\"url(#clip650)\" d=\"M610.176 142.393 Q609.458 141.977 608.602 141.791 Q607.768 141.583 606.75 141.583 Q603.139 141.583 601.194 143.944 Q599.273 146.282 599.273 150.68 L599.273 164.338 L594.991 164.338 L594.991 138.412 L599.273 138.412 L599.273 142.44 Q600.616 140.078 602.768 138.944 Q604.921 137.787 608 137.787 Q608.44 137.787 608.972 137.856 Q609.504 137.903 610.153 138.018 L610.176 142.393 Z\" fill=\"#000000\" fill-rule=\"evenodd\" fill-opacity=\"1\" /><path clip-path=\"url(#clip650)\" d=\"M611.588 138.412 L616.102 138.412 L624.203 160.171 L632.305 138.412 L636.819 138.412 L627.097 164.338 L621.31 164.338 L611.588 138.412 Z\" fill=\"#000000\" fill-rule=\"evenodd\" fill-opacity=\"1\" /><path clip-path=\"url(#clip650)\" d=\"M664.875 150.31 L664.875 152.393 L645.291 152.393 Q645.569 156.791 647.93 159.106 Q650.314 161.398 654.55 161.398 Q657.004 161.398 659.296 160.796 Q661.611 160.194 663.879 158.99 L663.879 163.018 Q661.587 163.99 659.18 164.5 Q656.773 165.009 654.296 165.009 Q648.092 165.009 644.458 161.398 Q640.847 157.787 640.847 151.629 Q640.847 145.264 644.273 141.537 Q647.722 137.787 653.555 137.787 Q658.787 137.787 661.819 141.166 Q664.875 144.523 664.875 150.31 M660.615 149.06 Q660.569 145.565 658.648 143.481 Q656.75 141.398 653.601 141.398 Q650.037 141.398 647.884 143.412 Q645.754 145.426 645.43 149.083 L660.615 149.06 Z\" fill=\"#000000\" fill-rule=\"evenodd\" fill-opacity=\"1\" /><path clip-path=\"url(#clip650)\" d=\"M688.925 142.347 L688.925 128.319 L693.185 128.319 L693.185 164.338 L688.925 164.338 L688.925 160.449 Q687.583 162.763 685.523 163.898 Q683.486 165.009 680.615 165.009 Q675.916 165.009 672.953 161.259 Q670.013 157.509 670.013 151.398 Q670.013 145.287 672.953 141.537 Q675.916 137.787 680.615 137.787 Q683.486 137.787 685.523 138.921 Q687.583 140.032 688.925 142.347 M674.411 151.398 Q674.411 156.097 676.333 158.782 Q678.277 161.444 681.657 161.444 Q685.036 161.444 686.981 158.782 Q688.925 156.097 688.925 151.398 Q688.925 146.699 686.981 144.037 Q685.036 141.352 681.657 141.352 Q678.277 141.352 676.333 144.037 Q674.411 146.699 674.411 151.398 Z\" fill=\"#000000\" fill-rule=\"evenodd\" fill-opacity=\"1\" /><polyline clip-path=\"url(#clip650)\" style=\"stroke:#e26f46; stroke-linecap:round; stroke-linejoin:round; stroke-width:4; stroke-opacity:1; fill:none\" points=\"266.172,198.898 411.747,198.898 \"/>\n",
       "<path clip-path=\"url(#clip650)\" d=\"M449.853 218.585 Q448.047 223.215 446.334 224.627 Q444.621 226.039 441.751 226.039 L438.348 226.039 L438.348 222.474 L440.848 222.474 Q442.607 222.474 443.579 221.64 Q444.552 220.807 445.732 217.705 L446.496 215.761 L436.01 190.252 L440.524 190.252 L448.626 210.529 L456.727 190.252 L461.241 190.252 L449.853 218.585 Z\" fill=\"#000000\" fill-rule=\"evenodd\" fill-opacity=\"1\" /><path clip-path=\"url(#clip650)\" d=\"M486.403 182.891 L486.403 190.252 L495.176 190.252 L495.176 193.562 L486.403 193.562 L486.403 207.636 Q486.403 210.807 487.26 211.71 Q488.139 212.613 490.801 212.613 L495.176 212.613 L495.176 216.178 L490.801 216.178 Q485.871 216.178 483.996 214.349 Q482.121 212.497 482.121 207.636 L482.121 193.562 L478.996 193.562 L478.996 190.252 L482.121 190.252 L482.121 182.891 L486.403 182.891 Z\" fill=\"#000000\" fill-rule=\"evenodd\" fill-opacity=\"1\" /><path clip-path=\"url(#clip650)\" d=\"M515.801 194.233 Q515.084 193.817 514.227 193.631 Q513.394 193.423 512.375 193.423 Q508.764 193.423 506.82 195.784 Q504.899 198.122 504.899 202.52 L504.899 216.178 L500.616 216.178 L500.616 190.252 L504.899 190.252 L504.899 194.28 Q506.241 191.918 508.394 190.784 Q510.547 189.627 513.625 189.627 Q514.065 189.627 514.598 189.696 Q515.13 189.743 515.778 189.858 L515.801 194.233 Z\" fill=\"#000000\" fill-rule=\"evenodd\" fill-opacity=\"1\" /><path clip-path=\"url(#clip650)\" d=\"M519.829 205.946 L519.829 190.252 L524.088 190.252 L524.088 205.784 Q524.088 209.465 525.523 211.316 Q526.959 213.145 529.829 213.145 Q533.278 213.145 535.269 210.946 Q537.283 208.747 537.283 204.951 L537.283 190.252 L541.542 190.252 L541.542 216.178 L537.283 216.178 L537.283 212.196 Q535.732 214.557 533.672 215.715 Q531.634 216.849 528.926 216.849 Q524.459 216.849 522.144 214.071 Q519.829 211.293 519.829 205.946 M530.547 189.627 L530.547 189.627 Z\" fill=\"#000000\" fill-rule=\"evenodd\" fill-opacity=\"1\" /><path clip-path=\"url(#clip650)\" d=\"M572.491 202.15 L572.491 204.233 L552.908 204.233 Q553.185 208.631 555.546 210.946 Q557.931 213.238 562.167 213.238 Q564.62 213.238 566.912 212.636 Q569.227 212.034 571.495 210.83 L571.495 214.858 Q569.204 215.83 566.796 216.34 Q564.389 216.849 561.912 216.849 Q555.708 216.849 552.074 213.238 Q548.463 209.627 548.463 203.469 Q548.463 197.104 551.889 193.377 Q555.338 189.627 561.171 189.627 Q566.403 189.627 569.435 193.006 Q572.491 196.363 572.491 202.15 M568.232 200.9 Q568.185 197.405 566.264 195.321 Q564.366 193.238 561.218 193.238 Q557.653 193.238 555.5 195.252 Q553.37 197.266 553.046 200.923 L568.232 200.9 Z\" fill=\"#000000\" fill-rule=\"evenodd\" fill-opacity=\"1\" /><polyline clip-path=\"url(#clip650)\" style=\"stroke:#3da44d; stroke-linecap:round; stroke-linejoin:round; stroke-width:4; stroke-opacity:1; fill:none\" points=\"266.172,250.738 411.747,250.738 \"/>\n",
       "<path clip-path=\"url(#clip650)\" d=\"M449.853 270.425 Q448.047 275.055 446.334 276.467 Q444.621 277.879 441.751 277.879 L438.348 277.879 L438.348 274.314 L440.848 274.314 Q442.607 274.314 443.579 273.48 Q444.552 272.647 445.732 269.545 L446.496 267.601 L436.01 242.092 L440.524 242.092 L448.626 262.369 L456.727 242.092 L461.241 242.092 L449.853 270.425 Z\" fill=\"#000000\" fill-rule=\"evenodd\" fill-opacity=\"1\" /><path clip-path=\"url(#clip650)\" d=\"M495.315 231.999 L495.315 235.541 L491.241 235.541 Q488.95 235.541 488.047 236.467 Q487.167 237.393 487.167 239.8 L487.167 242.092 L494.181 242.092 L494.181 245.402 L487.167 245.402 L487.167 268.018 L482.885 268.018 L482.885 245.402 L478.811 245.402 L478.811 242.092 L482.885 242.092 L482.885 240.286 Q482.885 235.958 484.899 233.99 Q486.912 231.999 491.287 231.999 L495.315 231.999 Z\" fill=\"#000000\" fill-rule=\"evenodd\" fill-opacity=\"1\" /><path clip-path=\"url(#clip650)\" d=\"M498.88 242.092 L503.139 242.092 L503.139 268.018 L498.88 268.018 L498.88 242.092 M498.88 231.999 L503.139 231.999 L503.139 237.393 L498.88 237.393 L498.88 231.999 Z\" fill=\"#000000\" fill-rule=\"evenodd\" fill-opacity=\"1\" /><path clip-path=\"url(#clip650)\" d=\"M516.264 234.731 L516.264 242.092 L525.037 242.092 L525.037 245.402 L516.264 245.402 L516.264 259.476 Q516.264 262.647 517.121 263.55 Q518 264.453 520.662 264.453 L525.037 264.453 L525.037 268.018 L520.662 268.018 Q515.732 268.018 513.857 266.189 Q511.982 264.337 511.982 259.476 L511.982 245.402 L508.857 245.402 L508.857 242.092 L511.982 242.092 L511.982 234.731 L516.264 234.731 Z\" fill=\"#000000\" fill-rule=\"evenodd\" fill-opacity=\"1\" /></svg>\n"
      ]
     },
     "execution_count": 58,
     "metadata": {},
     "output_type": "execute_result"
    }
   ],
   "source": [
    "using Plots\n",
    "using Polynomials: fit, Polynomial, coeffs\n",
    "# make scatter plot of y_observed along x\n",
    "scatter(x,y_observed, label=\"y observed\")\n",
    "\n",
    "# plot a line of y_true along x on scatter\n",
    "plot!(x,y_true, label=\"y true\")\n",
    "\n",
    "# plot a line of fitted polynomial along x on the same plot\n",
    "Polynomial([-2,3,1])\n",
    "line_fit = fit(x,y_observed,2)\n",
    "fit_coeff = coeffs(line_fit)\n",
    "y_fitted = fit_coeff[1] .+ (fit_coeff[2] .* x) .+ (fit_coeff[3] .* (x.^2))\n",
    "plot!(x,y_fitted, label=\"y fit\")"
   ]
  },
  {
   "cell_type": "markdown",
   "id": "b3b5a343",
   "metadata": {},
   "source": [
    "### 2.4\n",
    "\n",
    "1. Repeat 2.2 and 2.3 with a noise with a standard deviation of 50"
   ]
  },
  {
   "cell_type": "code",
   "execution_count": 59,
   "id": "b4c08499",
   "metadata": {},
   "outputs": [
    {
     "data": {
      "text/plain": [
       "21-element Vector{Float64}:\n",
       " -17.19190292844803\n",
       " 101.14475233469763\n",
       " -27.08981731867354\n",
       "  -1.072497487611784\n",
       "  40.872757683574896\n",
       " -27.573767792158293\n",
       " 127.2082083001296\n",
       " -34.026239745425414\n",
       " -81.46230175501523\n",
       "  31.533660450427682\n",
       " -44.44582733964001\n",
       " -13.096641827434198\n",
       " 111.2223932432263\n",
       "  22.23924195727239\n",
       "  27.49453482014207\n",
       "  79.97218420191999\n",
       "  72.02826487899114\n",
       "  69.77792699877328\n",
       " 122.7069215520629\n",
       "  61.137954330658005\n",
       " 227.17994759577422"
      ]
     },
     "execution_count": 59,
     "metadata": {},
     "output_type": "execute_result"
    }
   ],
   "source": [
    "using Random, Distributions\n",
    "d1 = Normal(0,50)\n",
    "noise=rand(d1,length(x))\n",
    "y_observed = y_true .+ noise"
   ]
  },
  {
   "cell_type": "code",
   "execution_count": 60,
   "id": "35448244",
   "metadata": {},
   "outputs": [
    {
     "data": {
      "image/svg+xml": [
       "<?xml version=\"1.0\" encoding=\"utf-8\"?>\n",
       "<svg xmlns=\"http://www.w3.org/2000/svg\" xmlns:xlink=\"http://www.w3.org/1999/xlink\" width=\"600\" height=\"400\" viewBox=\"0 0 2400 1600\">\n",
       "<defs>\n",
       "  <clipPath id=\"clip690\">\n",
       "    <rect x=\"0\" y=\"0\" width=\"2400\" height=\"1600\"/>\n",
       "  </clipPath>\n",
       "</defs>\n",
       "<path clip-path=\"url(#clip690)\" d=\"M0 1600 L2400 1600 L2400 0 L0 0  Z\" fill=\"#ffffff\" fill-rule=\"evenodd\" fill-opacity=\"1\"/>\n",
       "<defs>\n",
       "  <clipPath id=\"clip691\">\n",
       "    <rect x=\"480\" y=\"0\" width=\"1681\" height=\"1600\"/>\n",
       "  </clipPath>\n",
       "</defs>\n",
       "<path clip-path=\"url(#clip690)\" d=\"M178.867 1486.45 L2352.76 1486.45 L2352.76 47.2441 L178.867 47.2441  Z\" fill=\"#ffffff\" fill-rule=\"evenodd\" fill-opacity=\"1\"/>\n",
       "<defs>\n",
       "  <clipPath id=\"clip692\">\n",
       "    <rect x=\"178\" y=\"47\" width=\"2175\" height=\"1440\"/>\n",
       "  </clipPath>\n",
       "</defs>\n",
       "<polyline clip-path=\"url(#clip692)\" style=\"stroke:#000000; stroke-linecap:round; stroke-linejoin:round; stroke-width:2; stroke-opacity:0.1; fill:none\" points=\"240.392,1486.45 240.392,47.2441 \"/>\n",
       "<polyline clip-path=\"url(#clip692)\" style=\"stroke:#000000; stroke-linecap:round; stroke-linejoin:round; stroke-width:2; stroke-opacity:0.1; fill:none\" points=\"753.102,1486.45 753.102,47.2441 \"/>\n",
       "<polyline clip-path=\"url(#clip692)\" style=\"stroke:#000000; stroke-linecap:round; stroke-linejoin:round; stroke-width:2; stroke-opacity:0.1; fill:none\" points=\"1265.81,1486.45 1265.81,47.2441 \"/>\n",
       "<polyline clip-path=\"url(#clip692)\" style=\"stroke:#000000; stroke-linecap:round; stroke-linejoin:round; stroke-width:2; stroke-opacity:0.1; fill:none\" points=\"1778.52,1486.45 1778.52,47.2441 \"/>\n",
       "<polyline clip-path=\"url(#clip692)\" style=\"stroke:#000000; stroke-linecap:round; stroke-linejoin:round; stroke-width:2; stroke-opacity:0.1; fill:none\" points=\"2291.23,1486.45 2291.23,47.2441 \"/>\n",
       "<polyline clip-path=\"url(#clip690)\" style=\"stroke:#000000; stroke-linecap:round; stroke-linejoin:round; stroke-width:4; stroke-opacity:1; fill:none\" points=\"178.867,1486.45 2352.76,1486.45 \"/>\n",
       "<polyline clip-path=\"url(#clip690)\" style=\"stroke:#000000; stroke-linecap:round; stroke-linejoin:round; stroke-width:4; stroke-opacity:1; fill:none\" points=\"240.392,1486.45 240.392,1467.55 \"/>\n",
       "<polyline clip-path=\"url(#clip690)\" style=\"stroke:#000000; stroke-linecap:round; stroke-linejoin:round; stroke-width:4; stroke-opacity:1; fill:none\" points=\"753.102,1486.45 753.102,1467.55 \"/>\n",
       "<polyline clip-path=\"url(#clip690)\" style=\"stroke:#000000; stroke-linecap:round; stroke-linejoin:round; stroke-width:4; stroke-opacity:1; fill:none\" points=\"1265.81,1486.45 1265.81,1467.55 \"/>\n",
       "<polyline clip-path=\"url(#clip690)\" style=\"stroke:#000000; stroke-linecap:round; stroke-linejoin:round; stroke-width:4; stroke-opacity:1; fill:none\" points=\"1778.52,1486.45 1778.52,1467.55 \"/>\n",
       "<polyline clip-path=\"url(#clip690)\" style=\"stroke:#000000; stroke-linecap:round; stroke-linejoin:round; stroke-width:4; stroke-opacity:1; fill:none\" points=\"2291.23,1486.45 2291.23,1467.55 \"/>\n",
       "<path clip-path=\"url(#clip690)\" d=\"M194.455 1532.02 L224.13 1532.02 L224.13 1535.95 L194.455 1535.95 L194.455 1532.02 Z\" fill=\"#000000\" fill-rule=\"evenodd\" fill-opacity=\"1\" /><path clip-path=\"url(#clip690)\" d=\"M235.033 1544.91 L242.672 1544.91 L242.672 1518.55 L234.362 1520.21 L234.362 1515.95 L242.626 1514.29 L247.301 1514.29 L247.301 1544.91 L254.94 1544.91 L254.94 1548.85 L235.033 1548.85 L235.033 1544.91 Z\" fill=\"#000000\" fill-rule=\"evenodd\" fill-opacity=\"1\" /><path clip-path=\"url(#clip690)\" d=\"M274.385 1517.37 Q270.774 1517.37 268.945 1520.93 Q267.139 1524.47 267.139 1531.6 Q267.139 1538.71 268.945 1542.27 Q270.774 1545.82 274.385 1545.82 Q278.019 1545.82 279.824 1542.27 Q281.653 1538.71 281.653 1531.6 Q281.653 1524.47 279.824 1520.93 Q278.019 1517.37 274.385 1517.37 M274.385 1513.66 Q280.195 1513.66 283.25 1518.27 Q286.329 1522.85 286.329 1531.6 Q286.329 1540.33 283.25 1544.94 Q280.195 1549.52 274.385 1549.52 Q268.575 1549.52 265.496 1544.94 Q262.44 1540.33 262.44 1531.6 Q262.44 1522.85 265.496 1518.27 Q268.575 1513.66 274.385 1513.66 Z\" fill=\"#000000\" fill-rule=\"evenodd\" fill-opacity=\"1\" /><path clip-path=\"url(#clip690)\" d=\"M722.743 1532.02 L752.419 1532.02 L752.419 1535.95 L722.743 1535.95 L722.743 1532.02 Z\" fill=\"#000000\" fill-rule=\"evenodd\" fill-opacity=\"1\" /><path clip-path=\"url(#clip690)\" d=\"M762.558 1514.29 L780.914 1514.29 L780.914 1518.22 L766.84 1518.22 L766.84 1526.7 Q767.858 1526.35 768.877 1526.19 Q769.895 1526 770.914 1526 Q776.701 1526 780.081 1529.17 Q783.46 1532.34 783.46 1537.76 Q783.46 1543.34 779.988 1546.44 Q776.516 1549.52 770.196 1549.52 Q768.02 1549.52 765.752 1549.15 Q763.507 1548.78 761.099 1548.04 L761.099 1543.34 Q763.183 1544.47 765.405 1545.03 Q767.627 1545.58 770.104 1545.58 Q774.108 1545.58 776.446 1543.48 Q778.784 1541.37 778.784 1537.76 Q778.784 1534.15 776.446 1532.04 Q774.108 1529.94 770.104 1529.94 Q768.229 1529.94 766.354 1530.35 Q764.502 1530.77 762.558 1531.65 L762.558 1514.29 Z\" fill=\"#000000\" fill-rule=\"evenodd\" fill-opacity=\"1\" /><path clip-path=\"url(#clip690)\" d=\"M1265.81 1517.37 Q1262.2 1517.37 1260.37 1520.93 Q1258.57 1524.47 1258.57 1531.6 Q1258.57 1538.71 1260.37 1542.27 Q1262.2 1545.82 1265.81 1545.82 Q1269.45 1545.82 1271.25 1542.27 Q1273.08 1538.71 1273.08 1531.6 Q1273.08 1524.47 1271.25 1520.93 Q1269.45 1517.37 1265.81 1517.37 M1265.81 1513.66 Q1271.62 1513.66 1274.68 1518.27 Q1277.76 1522.85 1277.76 1531.6 Q1277.76 1540.33 1274.68 1544.94 Q1271.62 1549.52 1265.81 1549.52 Q1260 1549.52 1256.92 1544.94 Q1253.87 1540.33 1253.87 1531.6 Q1253.87 1522.85 1256.92 1518.27 Q1260 1513.66 1265.81 1513.66 Z\" fill=\"#000000\" fill-rule=\"evenodd\" fill-opacity=\"1\" /><path clip-path=\"url(#clip690)\" d=\"M1768.8 1514.29 L1787.16 1514.29 L1787.16 1518.22 L1773.08 1518.22 L1773.08 1526.7 Q1774.1 1526.35 1775.12 1526.19 Q1776.14 1526 1777.16 1526 Q1782.94 1526 1786.32 1529.17 Q1789.7 1532.34 1789.7 1537.76 Q1789.7 1543.34 1786.23 1546.44 Q1782.76 1549.52 1776.44 1549.52 Q1774.26 1549.52 1771.99 1549.15 Q1769.75 1548.78 1767.34 1548.04 L1767.34 1543.34 Q1769.42 1544.47 1771.65 1545.03 Q1773.87 1545.58 1776.35 1545.58 Q1780.35 1545.58 1782.69 1543.48 Q1785.03 1541.37 1785.03 1537.76 Q1785.03 1534.15 1782.69 1532.04 Q1780.35 1529.94 1776.35 1529.94 Q1774.47 1529.94 1772.6 1530.35 Q1770.74 1530.77 1768.8 1531.65 L1768.8 1514.29 Z\" fill=\"#000000\" fill-rule=\"evenodd\" fill-opacity=\"1\" /><path clip-path=\"url(#clip690)\" d=\"M2265.92 1544.91 L2273.56 1544.91 L2273.56 1518.55 L2265.25 1520.21 L2265.25 1515.95 L2273.51 1514.29 L2278.19 1514.29 L2278.19 1544.91 L2285.83 1544.91 L2285.83 1548.85 L2265.92 1548.85 L2265.92 1544.91 Z\" fill=\"#000000\" fill-rule=\"evenodd\" fill-opacity=\"1\" /><path clip-path=\"url(#clip690)\" d=\"M2305.27 1517.37 Q2301.66 1517.37 2299.83 1520.93 Q2298.02 1524.47 2298.02 1531.6 Q2298.02 1538.71 2299.83 1542.27 Q2301.66 1545.82 2305.27 1545.82 Q2308.9 1545.82 2310.71 1542.27 Q2312.54 1538.71 2312.54 1531.6 Q2312.54 1524.47 2310.71 1520.93 Q2308.9 1517.37 2305.27 1517.37 M2305.27 1513.66 Q2311.08 1513.66 2314.14 1518.27 Q2317.21 1522.85 2317.21 1531.6 Q2317.21 1540.33 2314.14 1544.94 Q2311.08 1549.52 2305.27 1549.52 Q2299.46 1549.52 2296.38 1544.94 Q2293.33 1540.33 2293.33 1531.6 Q2293.33 1522.85 2296.38 1518.27 Q2299.46 1513.66 2305.27 1513.66 Z\" fill=\"#000000\" fill-rule=\"evenodd\" fill-opacity=\"1\" /><polyline clip-path=\"url(#clip692)\" style=\"stroke:#000000; stroke-linecap:round; stroke-linejoin:round; stroke-width:2; stroke-opacity:0.1; fill:none\" points=\"178.867,1307.31 2352.76,1307.31 \"/>\n",
       "<polyline clip-path=\"url(#clip692)\" style=\"stroke:#000000; stroke-linecap:round; stroke-linejoin:round; stroke-width:2; stroke-opacity:0.1; fill:none\" points=\"178.867,1087.36 2352.76,1087.36 \"/>\n",
       "<polyline clip-path=\"url(#clip692)\" style=\"stroke:#000000; stroke-linecap:round; stroke-linejoin:round; stroke-width:2; stroke-opacity:0.1; fill:none\" points=\"178.867,867.404 2352.76,867.404 \"/>\n",
       "<polyline clip-path=\"url(#clip692)\" style=\"stroke:#000000; stroke-linecap:round; stroke-linejoin:round; stroke-width:2; stroke-opacity:0.1; fill:none\" points=\"178.867,647.45 2352.76,647.45 \"/>\n",
       "<polyline clip-path=\"url(#clip692)\" style=\"stroke:#000000; stroke-linecap:round; stroke-linejoin:round; stroke-width:2; stroke-opacity:0.1; fill:none\" points=\"178.867,427.496 2352.76,427.496 \"/>\n",
       "<polyline clip-path=\"url(#clip692)\" style=\"stroke:#000000; stroke-linecap:round; stroke-linejoin:round; stroke-width:2; stroke-opacity:0.1; fill:none\" points=\"178.867,207.543 2352.76,207.543 \"/>\n",
       "<polyline clip-path=\"url(#clip690)\" style=\"stroke:#000000; stroke-linecap:round; stroke-linejoin:round; stroke-width:4; stroke-opacity:1; fill:none\" points=\"178.867,1486.45 178.867,47.2441 \"/>\n",
       "<polyline clip-path=\"url(#clip690)\" style=\"stroke:#000000; stroke-linecap:round; stroke-linejoin:round; stroke-width:4; stroke-opacity:1; fill:none\" points=\"178.867,1307.31 197.764,1307.31 \"/>\n",
       "<polyline clip-path=\"url(#clip690)\" style=\"stroke:#000000; stroke-linecap:round; stroke-linejoin:round; stroke-width:4; stroke-opacity:1; fill:none\" points=\"178.867,1087.36 197.764,1087.36 \"/>\n",
       "<polyline clip-path=\"url(#clip690)\" style=\"stroke:#000000; stroke-linecap:round; stroke-linejoin:round; stroke-width:4; stroke-opacity:1; fill:none\" points=\"178.867,867.404 197.764,867.404 \"/>\n",
       "<polyline clip-path=\"url(#clip690)\" style=\"stroke:#000000; stroke-linecap:round; stroke-linejoin:round; stroke-width:4; stroke-opacity:1; fill:none\" points=\"178.867,647.45 197.764,647.45 \"/>\n",
       "<polyline clip-path=\"url(#clip690)\" style=\"stroke:#000000; stroke-linecap:round; stroke-linejoin:round; stroke-width:4; stroke-opacity:1; fill:none\" points=\"178.867,427.496 197.764,427.496 \"/>\n",
       "<polyline clip-path=\"url(#clip690)\" style=\"stroke:#000000; stroke-linecap:round; stroke-linejoin:round; stroke-width:4; stroke-opacity:1; fill:none\" points=\"178.867,207.543 197.764,207.543 \"/>\n",
       "<path clip-path=\"url(#clip690)\" d=\"M50.9921 1307.76 L80.6679 1307.76 L80.6679 1311.7 L50.9921 1311.7 L50.9921 1307.76 Z\" fill=\"#000000\" fill-rule=\"evenodd\" fill-opacity=\"1\" /><path clip-path=\"url(#clip690)\" d=\"M90.8067 1290.03 L109.163 1290.03 L109.163 1293.97 L95.0891 1293.97 L95.0891 1302.44 Q96.1076 1302.09 97.1261 1301.93 Q98.1447 1301.74 99.1632 1301.74 Q104.95 1301.74 108.33 1304.91 Q111.709 1308.09 111.709 1313.5 Q111.709 1319.08 108.237 1322.18 Q104.765 1325.26 98.4456 1325.26 Q96.2697 1325.26 94.0012 1324.89 Q91.7558 1324.52 89.3484 1323.78 L89.3484 1319.08 Q91.4317 1320.22 93.6539 1320.77 Q95.8761 1321.33 98.353 1321.33 Q102.358 1321.33 104.696 1319.22 Q107.033 1317.11 107.033 1313.5 Q107.033 1309.89 104.696 1307.79 Q102.358 1305.68 98.353 1305.68 Q96.478 1305.68 94.603 1306.1 Q92.7512 1306.51 90.8067 1307.39 L90.8067 1290.03 Z\" fill=\"#000000\" fill-rule=\"evenodd\" fill-opacity=\"1\" /><path clip-path=\"url(#clip690)\" d=\"M130.922 1293.11 Q127.311 1293.11 125.482 1296.67 Q123.677 1300.22 123.677 1307.35 Q123.677 1314.45 125.482 1318.02 Q127.311 1321.56 130.922 1321.56 Q134.556 1321.56 136.362 1318.02 Q138.191 1314.45 138.191 1307.35 Q138.191 1300.22 136.362 1296.67 Q134.556 1293.11 130.922 1293.11 M130.922 1289.41 Q136.732 1289.41 139.788 1294.01 Q142.867 1298.6 142.867 1307.35 Q142.867 1316.07 139.788 1320.68 Q136.732 1325.26 130.922 1325.26 Q125.112 1325.26 122.033 1320.68 Q118.978 1316.07 118.978 1307.35 Q118.978 1298.6 122.033 1294.01 Q125.112 1289.41 130.922 1289.41 Z\" fill=\"#000000\" fill-rule=\"evenodd\" fill-opacity=\"1\" /><path clip-path=\"url(#clip690)\" d=\"M130.922 1073.16 Q127.311 1073.16 125.482 1076.72 Q123.677 1080.26 123.677 1087.39 Q123.677 1094.5 125.482 1098.06 Q127.311 1101.6 130.922 1101.6 Q134.556 1101.6 136.362 1098.06 Q138.191 1094.5 138.191 1087.39 Q138.191 1080.26 136.362 1076.72 Q134.556 1073.16 130.922 1073.16 M130.922 1069.45 Q136.732 1069.45 139.788 1074.06 Q142.867 1078.64 142.867 1087.39 Q142.867 1096.12 139.788 1100.73 Q136.732 1105.31 130.922 1105.31 Q125.112 1105.31 122.033 1100.73 Q118.978 1096.12 118.978 1087.39 Q118.978 1078.64 122.033 1074.06 Q125.112 1069.45 130.922 1069.45 Z\" fill=\"#000000\" fill-rule=\"evenodd\" fill-opacity=\"1\" /><path clip-path=\"url(#clip690)\" d=\"M90.8067 850.124 L109.163 850.124 L109.163 854.059 L95.0891 854.059 L95.0891 862.531 Q96.1076 862.184 97.1261 862.022 Q98.1447 861.836 99.1632 861.836 Q104.95 861.836 108.33 865.008 Q111.709 868.179 111.709 873.596 Q111.709 879.174 108.237 882.276 Q104.765 885.355 98.4456 885.355 Q96.2697 885.355 94.0012 884.985 Q91.7558 884.614 89.3484 883.873 L89.3484 879.174 Q91.4317 880.309 93.6539 880.864 Q95.8761 881.42 98.353 881.42 Q102.358 881.42 104.696 879.313 Q107.033 877.207 107.033 873.596 Q107.033 869.985 104.696 867.878 Q102.358 865.772 98.353 865.772 Q96.478 865.772 94.603 866.188 Q92.7512 866.605 90.8067 867.485 L90.8067 850.124 Z\" fill=\"#000000\" fill-rule=\"evenodd\" fill-opacity=\"1\" /><path clip-path=\"url(#clip690)\" d=\"M130.922 853.202 Q127.311 853.202 125.482 856.767 Q123.677 860.309 123.677 867.438 Q123.677 874.545 125.482 878.11 Q127.311 881.651 130.922 881.651 Q134.556 881.651 136.362 878.11 Q138.191 874.545 138.191 867.438 Q138.191 860.309 136.362 856.767 Q134.556 853.202 130.922 853.202 M130.922 849.499 Q136.732 849.499 139.788 854.105 Q142.867 858.688 142.867 867.438 Q142.867 876.165 139.788 880.772 Q136.732 885.355 130.922 885.355 Q125.112 885.355 122.033 880.772 Q118.978 876.165 118.978 867.438 Q118.978 858.688 122.033 854.105 Q125.112 849.499 130.922 849.499 Z\" fill=\"#000000\" fill-rule=\"evenodd\" fill-opacity=\"1\" /><path clip-path=\"url(#clip690)\" d=\"M61.4087 660.795 L69.0476 660.795 L69.0476 634.429 L60.7374 636.096 L60.7374 631.837 L69.0013 630.17 L73.6772 630.17 L73.6772 660.795 L81.316 660.795 L81.316 664.73 L61.4087 664.73 L61.4087 660.795 Z\" fill=\"#000000\" fill-rule=\"evenodd\" fill-opacity=\"1\" /><path clip-path=\"url(#clip690)\" d=\"M100.76 633.249 Q97.1493 633.249 95.3206 636.813 Q93.515 640.355 93.515 647.485 Q93.515 654.591 95.3206 658.156 Q97.1493 661.698 100.76 661.698 Q104.395 661.698 106.2 658.156 Q108.029 654.591 108.029 647.485 Q108.029 640.355 106.2 636.813 Q104.395 633.249 100.76 633.249 M100.76 629.545 Q106.571 629.545 109.626 634.151 Q112.705 638.735 112.705 647.485 Q112.705 656.212 109.626 660.818 Q106.571 665.401 100.76 665.401 Q94.9502 665.401 91.8715 660.818 Q88.816 656.212 88.816 647.485 Q88.816 638.735 91.8715 634.151 Q94.9502 629.545 100.76 629.545 Z\" fill=\"#000000\" fill-rule=\"evenodd\" fill-opacity=\"1\" /><path clip-path=\"url(#clip690)\" d=\"M130.922 633.249 Q127.311 633.249 125.482 636.813 Q123.677 640.355 123.677 647.485 Q123.677 654.591 125.482 658.156 Q127.311 661.698 130.922 661.698 Q134.556 661.698 136.362 658.156 Q138.191 654.591 138.191 647.485 Q138.191 640.355 136.362 636.813 Q134.556 633.249 130.922 633.249 M130.922 629.545 Q136.732 629.545 139.788 634.151 Q142.867 638.735 142.867 647.485 Q142.867 656.212 139.788 660.818 Q136.732 665.401 130.922 665.401 Q125.112 665.401 122.033 660.818 Q118.978 656.212 118.978 647.485 Q118.978 638.735 122.033 634.151 Q125.112 629.545 130.922 629.545 Z\" fill=\"#000000\" fill-rule=\"evenodd\" fill-opacity=\"1\" /><path clip-path=\"url(#clip690)\" d=\"M61.4087 440.841 L69.0476 440.841 L69.0476 414.476 L60.7374 416.142 L60.7374 411.883 L69.0013 410.216 L73.6772 410.216 L73.6772 440.841 L81.316 440.841 L81.316 444.776 L61.4087 444.776 L61.4087 440.841 Z\" fill=\"#000000\" fill-rule=\"evenodd\" fill-opacity=\"1\" /><path clip-path=\"url(#clip690)\" d=\"M90.8067 410.216 L109.163 410.216 L109.163 414.152 L95.0891 414.152 L95.0891 422.624 Q96.1076 422.277 97.1261 422.114 Q98.1447 421.929 99.1632 421.929 Q104.95 421.929 108.33 425.101 Q111.709 428.272 111.709 433.689 Q111.709 439.267 108.237 442.369 Q104.765 445.448 98.4456 445.448 Q96.2697 445.448 94.0012 445.077 Q91.7558 444.707 89.3484 443.966 L89.3484 439.267 Q91.4317 440.401 93.6539 440.957 Q95.8761 441.513 98.353 441.513 Q102.358 441.513 104.696 439.406 Q107.033 437.3 107.033 433.689 Q107.033 430.077 104.696 427.971 Q102.358 425.864 98.353 425.864 Q96.478 425.864 94.603 426.281 Q92.7512 426.698 90.8067 427.577 L90.8067 410.216 Z\" fill=\"#000000\" fill-rule=\"evenodd\" fill-opacity=\"1\" /><path clip-path=\"url(#clip690)\" d=\"M130.922 413.295 Q127.311 413.295 125.482 416.86 Q123.677 420.402 123.677 427.531 Q123.677 434.638 125.482 438.202 Q127.311 441.744 130.922 441.744 Q134.556 441.744 136.362 438.202 Q138.191 434.638 138.191 427.531 Q138.191 420.402 136.362 416.86 Q134.556 413.295 130.922 413.295 M130.922 409.591 Q136.732 409.591 139.788 414.198 Q142.867 418.781 142.867 427.531 Q142.867 436.258 139.788 440.864 Q136.732 445.448 130.922 445.448 Q125.112 445.448 122.033 440.864 Q118.978 436.258 118.978 427.531 Q118.978 418.781 122.033 414.198 Q125.112 409.591 130.922 409.591 Z\" fill=\"#000000\" fill-rule=\"evenodd\" fill-opacity=\"1\" /><path clip-path=\"url(#clip690)\" d=\"M64.6263 220.888 L80.9457 220.888 L80.9457 224.823 L59.0013 224.823 L59.0013 220.888 Q61.6634 218.133 66.2467 213.503 Q70.8531 208.851 72.0337 207.508 Q74.279 204.985 75.1587 203.249 Q76.0614 201.49 76.0614 199.8 Q76.0614 197.045 74.117 195.309 Q72.1957 193.573 69.0939 193.573 Q66.8948 193.573 64.4411 194.337 Q62.0106 195.101 59.2328 196.652 L59.2328 191.929 Q62.0569 190.795 64.5106 190.217 Q66.9643 189.638 69.0013 189.638 Q74.3716 189.638 77.5661 192.323 Q80.7605 195.008 80.7605 199.499 Q80.7605 201.628 79.9503 203.55 Q79.1633 205.448 77.0568 208.041 Q76.4781 208.712 73.3763 211.929 Q70.2744 215.124 64.6263 220.888 Z\" fill=\"#000000\" fill-rule=\"evenodd\" fill-opacity=\"1\" /><path clip-path=\"url(#clip690)\" d=\"M100.76 193.342 Q97.1493 193.342 95.3206 196.906 Q93.515 200.448 93.515 207.578 Q93.515 214.684 95.3206 218.249 Q97.1493 221.79 100.76 221.79 Q104.395 221.79 106.2 218.249 Q108.029 214.684 108.029 207.578 Q108.029 200.448 106.2 196.906 Q104.395 193.342 100.76 193.342 M100.76 189.638 Q106.571 189.638 109.626 194.244 Q112.705 198.828 112.705 207.578 Q112.705 216.304 109.626 220.911 Q106.571 225.494 100.76 225.494 Q94.9502 225.494 91.8715 220.911 Q88.816 216.304 88.816 207.578 Q88.816 198.828 91.8715 194.244 Q94.9502 189.638 100.76 189.638 Z\" fill=\"#000000\" fill-rule=\"evenodd\" fill-opacity=\"1\" /><path clip-path=\"url(#clip690)\" d=\"M130.922 193.342 Q127.311 193.342 125.482 196.906 Q123.677 200.448 123.677 207.578 Q123.677 214.684 125.482 218.249 Q127.311 221.79 130.922 221.79 Q134.556 221.79 136.362 218.249 Q138.191 214.684 138.191 207.578 Q138.191 200.448 136.362 196.906 Q134.556 193.342 130.922 193.342 M130.922 189.638 Q136.732 189.638 139.788 194.244 Q142.867 198.828 142.867 207.578 Q142.867 216.304 139.788 220.911 Q136.732 225.494 130.922 225.494 Q125.112 225.494 122.033 220.911 Q118.978 216.304 118.978 207.578 Q118.978 198.828 122.033 194.244 Q125.112 189.638 130.922 189.638 Z\" fill=\"#000000\" fill-rule=\"evenodd\" fill-opacity=\"1\" /><circle clip-path=\"url(#clip692)\" cx=\"240.392\" cy=\"1162.99\" r=\"14.4\" fill=\"#009af9\" fill-rule=\"evenodd\" fill-opacity=\"1\" stroke=\"#000000\" stroke-opacity=\"1\" stroke-width=\"3.2\"/>\n",
       "<circle clip-path=\"url(#clip692)\" cx=\"342.934\" cy=\"642.414\" r=\"14.4\" fill=\"#009af9\" fill-rule=\"evenodd\" fill-opacity=\"1\" stroke=\"#000000\" stroke-opacity=\"1\" stroke-width=\"3.2\"/>\n",
       "<circle clip-path=\"url(#clip692)\" cx=\"445.476\" cy=\"1206.53\" r=\"14.4\" fill=\"#009af9\" fill-rule=\"evenodd\" fill-opacity=\"1\" stroke=\"#000000\" stroke-opacity=\"1\" stroke-width=\"3.2\"/>\n",
       "<circle clip-path=\"url(#clip692)\" cx=\"548.018\" cy=\"1092.08\" r=\"14.4\" fill=\"#009af9\" fill-rule=\"evenodd\" fill-opacity=\"1\" stroke=\"#000000\" stroke-opacity=\"1\" stroke-width=\"3.2\"/>\n",
       "<circle clip-path=\"url(#clip692)\" cx=\"650.56\" cy=\"907.555\" r=\"14.4\" fill=\"#009af9\" fill-rule=\"evenodd\" fill-opacity=\"1\" stroke=\"#000000\" stroke-opacity=\"1\" stroke-width=\"3.2\"/>\n",
       "<circle clip-path=\"url(#clip692)\" cx=\"753.102\" cy=\"1208.66\" r=\"14.4\" fill=\"#009af9\" fill-rule=\"evenodd\" fill-opacity=\"1\" stroke=\"#000000\" stroke-opacity=\"1\" stroke-width=\"3.2\"/>\n",
       "<circle clip-path=\"url(#clip692)\" cx=\"855.643\" cy=\"527.759\" r=\"14.4\" fill=\"#009af9\" fill-rule=\"evenodd\" fill-opacity=\"1\" stroke=\"#000000\" stroke-opacity=\"1\" stroke-width=\"3.2\"/>\n",
       "<circle clip-path=\"url(#clip692)\" cx=\"958.185\" cy=\"1237.04\" r=\"14.4\" fill=\"#009af9\" fill-rule=\"evenodd\" fill-opacity=\"1\" stroke=\"#000000\" stroke-opacity=\"1\" stroke-width=\"3.2\"/>\n",
       "<circle clip-path=\"url(#clip692)\" cx=\"1060.73\" cy=\"1445.72\" r=\"14.4\" fill=\"#009af9\" fill-rule=\"evenodd\" fill-opacity=\"1\" stroke=\"#000000\" stroke-opacity=\"1\" stroke-width=\"3.2\"/>\n",
       "<circle clip-path=\"url(#clip692)\" cx=\"1163.27\" cy=\"948.638\" r=\"14.4\" fill=\"#009af9\" fill-rule=\"evenodd\" fill-opacity=\"1\" stroke=\"#000000\" stroke-opacity=\"1\" stroke-width=\"3.2\"/>\n",
       "<circle clip-path=\"url(#clip692)\" cx=\"1265.81\" cy=\"1282.88\" r=\"14.4\" fill=\"#009af9\" fill-rule=\"evenodd\" fill-opacity=\"1\" stroke=\"#000000\" stroke-opacity=\"1\" stroke-width=\"3.2\"/>\n",
       "<circle clip-path=\"url(#clip692)\" cx=\"1368.35\" cy=\"1144.97\" r=\"14.4\" fill=\"#009af9\" fill-rule=\"evenodd\" fill-opacity=\"1\" stroke=\"#000000\" stroke-opacity=\"1\" stroke-width=\"3.2\"/>\n",
       "<circle clip-path=\"url(#clip692)\" cx=\"1470.9\" cy=\"598.082\" r=\"14.4\" fill=\"#009af9\" fill-rule=\"evenodd\" fill-opacity=\"1\" stroke=\"#000000\" stroke-opacity=\"1\" stroke-width=\"3.2\"/>\n",
       "<circle clip-path=\"url(#clip692)\" cx=\"1573.44\" cy=\"989.525\" r=\"14.4\" fill=\"#009af9\" fill-rule=\"evenodd\" fill-opacity=\"1\" stroke=\"#000000\" stroke-opacity=\"1\" stroke-width=\"3.2\"/>\n",
       "<circle clip-path=\"url(#clip692)\" cx=\"1675.98\" cy=\"966.407\" r=\"14.4\" fill=\"#009af9\" fill-rule=\"evenodd\" fill-opacity=\"1\" stroke=\"#000000\" stroke-opacity=\"1\" stroke-width=\"3.2\"/>\n",
       "<circle clip-path=\"url(#clip692)\" cx=\"1778.52\" cy=\"735.554\" r=\"14.4\" fill=\"#009af9\" fill-rule=\"evenodd\" fill-opacity=\"1\" stroke=\"#000000\" stroke-opacity=\"1\" stroke-width=\"3.2\"/>\n",
       "<circle clip-path=\"url(#clip692)\" cx=\"1881.06\" cy=\"770.5\" r=\"14.4\" fill=\"#009af9\" fill-rule=\"evenodd\" fill-opacity=\"1\" stroke=\"#000000\" stroke-opacity=\"1\" stroke-width=\"3.2\"/>\n",
       "<circle clip-path=\"url(#clip692)\" cx=\"1983.6\" cy=\"780.399\" r=\"14.4\" fill=\"#009af9\" fill-rule=\"evenodd\" fill-opacity=\"1\" stroke=\"#000000\" stroke-opacity=\"1\" stroke-width=\"3.2\"/>\n",
       "<circle clip-path=\"url(#clip692)\" cx=\"2086.15\" cy=\"547.561\" r=\"14.4\" fill=\"#009af9\" fill-rule=\"evenodd\" fill-opacity=\"1\" stroke=\"#000000\" stroke-opacity=\"1\" stroke-width=\"3.2\"/>\n",
       "<circle clip-path=\"url(#clip692)\" cx=\"2188.69\" cy=\"818.407\" r=\"14.4\" fill=\"#009af9\" fill-rule=\"evenodd\" fill-opacity=\"1\" stroke=\"#000000\" stroke-opacity=\"1\" stroke-width=\"3.2\"/>\n",
       "<circle clip-path=\"url(#clip692)\" cx=\"2291.23\" cy=\"87.9763\" r=\"14.4\" fill=\"#009af9\" fill-rule=\"evenodd\" fill-opacity=\"1\" stroke=\"#000000\" stroke-opacity=\"1\" stroke-width=\"3.2\"/>\n",
       "<polyline clip-path=\"url(#clip692)\" style=\"stroke:#e26f46; stroke-linecap:round; stroke-linejoin:round; stroke-width:4; stroke-opacity:1; fill:none\" points=\"240.392,788.22 342.934,858.605 445.476,920.192 548.018,972.981 650.56,1016.97 753.102,1052.16 855.643,1078.56 958.185,1096.16 1060.73,1104.95 1163.27,1104.95 1265.81,1096.16 1368.35,1078.56 1470.9,1052.16 1573.44,1016.97 1675.98,972.981 1778.52,920.192 1881.06,858.605 1983.6,788.22 2086.15,709.037 2188.69,621.056 2291.23,524.276 \"/>\n",
       "<polyline clip-path=\"url(#clip692)\" style=\"stroke:#3da44d; stroke-linecap:round; stroke-linejoin:round; stroke-width:4; stroke-opacity:1; fill:none\" points=\"240.392,919.84 342.934,969.481 445.476,1011.12 548.018,1044.76 650.56,1070.41 753.102,1088.05 855.643,1097.69 958.185,1099.33 1060.73,1092.98 1163.27,1078.62 1265.81,1056.26 1368.35,1025.91 1470.9,987.551 1573.44,941.195 1675.98,886.84 1778.52,824.485 1881.06,754.13 1983.6,675.775 2086.15,589.421 2188.69,495.067 2291.23,392.713 \"/>\n",
       "<path clip-path=\"url(#clip690)\" d=\"M251.33 302.578 L725.893 302.578 L725.893 95.2176 L251.33 95.2176  Z\" fill=\"#ffffff\" fill-rule=\"evenodd\" fill-opacity=\"1\"/>\n",
       "<polyline clip-path=\"url(#clip690)\" style=\"stroke:#000000; stroke-linecap:round; stroke-linejoin:round; stroke-width:4; stroke-opacity:1; fill:none\" points=\"251.33,302.578 725.893,302.578 725.893,95.2176 251.33,95.2176 251.33,302.578 \"/>\n",
       "<circle clip-path=\"url(#clip690)\" cx=\"347.947\" cy=\"147.058\" r=\"23.04\" fill=\"#009af9\" fill-rule=\"evenodd\" fill-opacity=\"1\" stroke=\"#000000\" stroke-opacity=\"1\" stroke-width=\"5.12\"/>\n",
       "<path clip-path=\"url(#clip690)\" d=\"M458.407 166.745 Q456.601 171.375 454.888 172.787 Q453.175 174.199 450.305 174.199 L446.902 174.199 L446.902 170.634 L449.402 170.634 Q451.161 170.634 452.134 169.8 Q453.106 168.967 454.286 165.865 L455.05 163.921 L444.564 138.412 L449.078 138.412 L457.18 158.689 L465.282 138.412 L469.796 138.412 L458.407 166.745 Z\" fill=\"#000000\" fill-rule=\"evenodd\" fill-opacity=\"1\" /><path clip-path=\"url(#clip690)\" d=\"M500.791 141.398 Q497.365 141.398 495.374 144.083 Q493.383 146.745 493.383 151.398 Q493.383 156.051 495.351 158.736 Q497.342 161.398 500.791 161.398 Q504.194 161.398 506.184 158.713 Q508.175 156.027 508.175 151.398 Q508.175 146.791 506.184 144.106 Q504.194 141.398 500.791 141.398 M500.791 137.787 Q506.346 137.787 509.518 141.398 Q512.689 145.009 512.689 151.398 Q512.689 157.764 509.518 161.398 Q506.346 165.009 500.791 165.009 Q495.212 165.009 492.041 161.398 Q488.893 157.764 488.893 151.398 Q488.893 145.009 492.041 141.398 Q495.212 137.787 500.791 137.787 Z\" fill=\"#000000\" fill-rule=\"evenodd\" fill-opacity=\"1\" /><path clip-path=\"url(#clip690)\" d=\"M538.36 151.398 Q538.36 146.699 536.416 144.037 Q534.494 141.352 531.115 141.352 Q527.735 141.352 525.791 144.037 Q523.869 146.699 523.869 151.398 Q523.869 156.097 525.791 158.782 Q527.735 161.444 531.115 161.444 Q534.494 161.444 536.416 158.782 Q538.36 156.097 538.36 151.398 M523.869 142.347 Q525.212 140.032 527.249 138.921 Q529.309 137.787 532.156 137.787 Q536.879 137.787 539.818 141.537 Q542.781 145.287 542.781 151.398 Q542.781 157.509 539.818 161.259 Q536.879 165.009 532.156 165.009 Q529.309 165.009 527.249 163.898 Q525.212 162.763 523.869 160.449 L523.869 164.338 L519.587 164.338 L519.587 128.319 L523.869 128.319 L523.869 142.347 Z\" fill=\"#000000\" fill-rule=\"evenodd\" fill-opacity=\"1\" /><path clip-path=\"url(#clip690)\" d=\"M566.369 139.176 L566.369 143.203 Q564.564 142.277 562.619 141.815 Q560.675 141.352 558.591 141.352 Q555.42 141.352 553.823 142.324 Q552.249 143.296 552.249 145.24 Q552.249 146.722 553.383 147.578 Q554.517 148.412 557.943 149.176 L559.402 149.5 Q563.939 150.472 565.837 152.254 Q567.758 154.014 567.758 157.185 Q567.758 160.796 564.888 162.902 Q562.04 165.009 557.04 165.009 Q554.957 165.009 552.689 164.592 Q550.443 164.199 547.943 163.388 L547.943 158.99 Q550.304 160.217 552.596 160.842 Q554.888 161.444 557.133 161.444 Q560.142 161.444 561.763 160.426 Q563.383 159.384 563.383 157.509 Q563.383 155.773 562.202 154.847 Q561.045 153.921 557.087 153.064 L555.605 152.717 Q551.647 151.884 549.888 150.171 Q548.128 148.435 548.128 145.426 Q548.128 141.768 550.721 139.778 Q553.314 137.787 558.082 137.787 Q560.443 137.787 562.527 138.134 Q564.61 138.481 566.369 139.176 Z\" fill=\"#000000\" fill-rule=\"evenodd\" fill-opacity=\"1\" /><path clip-path=\"url(#clip690)\" d=\"M596.716 150.31 L596.716 152.393 L577.133 152.393 Q577.411 156.791 579.772 159.106 Q582.156 161.398 586.392 161.398 Q588.846 161.398 591.138 160.796 Q593.452 160.194 595.721 158.99 L595.721 163.018 Q593.429 163.99 591.022 164.5 Q588.614 165.009 586.138 165.009 Q579.934 165.009 576.3 161.398 Q572.689 157.787 572.689 151.629 Q572.689 145.264 576.114 141.537 Q579.563 137.787 585.397 137.787 Q590.628 137.787 593.661 141.166 Q596.716 144.523 596.716 150.31 M592.457 149.06 Q592.411 145.565 590.489 143.481 Q588.591 141.398 585.443 141.398 Q581.878 141.398 579.726 143.412 Q577.596 145.426 577.272 149.083 L592.457 149.06 Z\" fill=\"#000000\" fill-rule=\"evenodd\" fill-opacity=\"1\" /><path clip-path=\"url(#clip690)\" d=\"M618.73 142.393 Q618.012 141.977 617.156 141.791 Q616.323 141.583 615.304 141.583 Q611.693 141.583 609.749 143.944 Q607.827 146.282 607.827 150.68 L607.827 164.338 L603.545 164.338 L603.545 138.412 L607.827 138.412 L607.827 142.44 Q609.17 140.078 611.323 138.944 Q613.475 137.787 616.554 137.787 Q616.994 137.787 617.526 137.856 Q618.059 137.903 618.707 138.018 L618.73 142.393 Z\" fill=\"#000000\" fill-rule=\"evenodd\" fill-opacity=\"1\" /><path clip-path=\"url(#clip690)\" d=\"M620.142 138.412 L624.656 138.412 L632.758 160.171 L640.859 138.412 L645.373 138.412 L635.651 164.338 L629.864 164.338 L620.142 138.412 Z\" fill=\"#000000\" fill-rule=\"evenodd\" fill-opacity=\"1\" /><path clip-path=\"url(#clip690)\" d=\"M673.429 150.31 L673.429 152.393 L653.845 152.393 Q654.123 156.791 656.484 159.106 Q658.869 161.398 663.105 161.398 Q665.558 161.398 667.85 160.796 Q670.165 160.194 672.433 158.99 L672.433 163.018 Q670.142 163.99 667.734 164.5 Q665.327 165.009 662.85 165.009 Q656.646 165.009 653.012 161.398 Q649.401 157.787 649.401 151.629 Q649.401 145.264 652.827 141.537 Q656.276 137.787 662.109 137.787 Q667.341 137.787 670.373 141.166 Q673.429 144.523 673.429 150.31 M669.169 149.06 Q669.123 145.565 667.202 143.481 Q665.304 141.398 662.156 141.398 Q658.591 141.398 656.438 143.412 Q654.308 145.426 653.984 149.083 L669.169 149.06 Z\" fill=\"#000000\" fill-rule=\"evenodd\" fill-opacity=\"1\" /><path clip-path=\"url(#clip690)\" d=\"M697.48 142.347 L697.48 128.319 L701.739 128.319 L701.739 164.338 L697.48 164.338 L697.48 160.449 Q696.137 162.763 694.077 163.898 Q692.04 165.009 689.169 165.009 Q684.47 165.009 681.507 161.259 Q678.568 157.509 678.568 151.398 Q678.568 145.287 681.507 141.537 Q684.47 137.787 689.169 137.787 Q692.04 137.787 694.077 138.921 Q696.137 140.032 697.48 142.347 M682.966 151.398 Q682.966 156.097 684.887 158.782 Q686.831 161.444 690.211 161.444 Q693.591 161.444 695.535 158.782 Q697.48 156.097 697.48 151.398 Q697.48 146.699 695.535 144.037 Q693.591 141.352 690.211 141.352 Q686.831 141.352 684.887 144.037 Q682.966 146.699 682.966 151.398 Z\" fill=\"#000000\" fill-rule=\"evenodd\" fill-opacity=\"1\" /><polyline clip-path=\"url(#clip690)\" style=\"stroke:#e26f46; stroke-linecap:round; stroke-linejoin:round; stroke-width:4; stroke-opacity:1; fill:none\" points=\"275.484,198.898 420.41,198.898 \"/>\n",
       "<path clip-path=\"url(#clip690)\" d=\"M458.407 218.585 Q456.601 223.215 454.888 224.627 Q453.175 226.039 450.305 226.039 L446.902 226.039 L446.902 222.474 L449.402 222.474 Q451.161 222.474 452.134 221.64 Q453.106 220.807 454.286 217.705 L455.05 215.761 L444.564 190.252 L449.078 190.252 L457.18 210.529 L465.282 190.252 L469.796 190.252 L458.407 218.585 Z\" fill=\"#000000\" fill-rule=\"evenodd\" fill-opacity=\"1\" /><path clip-path=\"url(#clip690)\" d=\"M494.957 182.891 L494.957 190.252 L503.731 190.252 L503.731 193.562 L494.957 193.562 L494.957 207.636 Q494.957 210.807 495.814 211.71 Q496.694 212.613 499.356 212.613 L503.731 212.613 L503.731 216.178 L499.356 216.178 Q494.425 216.178 492.55 214.349 Q490.675 212.497 490.675 207.636 L490.675 193.562 L487.55 193.562 L487.55 190.252 L490.675 190.252 L490.675 182.891 L494.957 182.891 Z\" fill=\"#000000\" fill-rule=\"evenodd\" fill-opacity=\"1\" /><path clip-path=\"url(#clip690)\" d=\"M524.355 194.233 Q523.638 193.817 522.781 193.631 Q521.948 193.423 520.93 193.423 Q517.318 193.423 515.374 195.784 Q513.453 198.122 513.453 202.52 L513.453 216.178 L509.17 216.178 L509.17 190.252 L513.453 190.252 L513.453 194.28 Q514.795 191.918 516.948 190.784 Q519.101 189.627 522.18 189.627 Q522.619 189.627 523.152 189.696 Q523.684 189.743 524.332 189.858 L524.355 194.233 Z\" fill=\"#000000\" fill-rule=\"evenodd\" fill-opacity=\"1\" /><path clip-path=\"url(#clip690)\" d=\"M528.383 205.946 L528.383 190.252 L532.642 190.252 L532.642 205.784 Q532.642 209.465 534.078 211.316 Q535.513 213.145 538.383 213.145 Q541.832 213.145 543.823 210.946 Q545.837 208.747 545.837 204.951 L545.837 190.252 L550.096 190.252 L550.096 216.178 L545.837 216.178 L545.837 212.196 Q544.286 214.557 542.226 215.715 Q540.189 216.849 537.48 216.849 Q533.013 216.849 530.698 214.071 Q528.383 211.293 528.383 205.946 M539.101 189.627 L539.101 189.627 Z\" fill=\"#000000\" fill-rule=\"evenodd\" fill-opacity=\"1\" /><path clip-path=\"url(#clip690)\" d=\"M581.045 202.15 L581.045 204.233 L561.462 204.233 Q561.74 208.631 564.101 210.946 Q566.485 213.238 570.721 213.238 Q573.175 213.238 575.466 212.636 Q577.781 212.034 580.05 210.83 L580.05 214.858 Q577.758 215.83 575.351 216.34 Q572.943 216.849 570.466 216.849 Q564.263 216.849 560.628 213.238 Q557.017 209.627 557.017 203.469 Q557.017 197.104 560.443 193.377 Q563.892 189.627 569.726 189.627 Q574.957 189.627 577.989 193.006 Q581.045 196.363 581.045 202.15 M576.786 200.9 Q576.739 197.405 574.818 195.321 Q572.92 193.238 569.772 193.238 Q566.207 193.238 564.054 195.252 Q561.925 197.266 561.601 200.923 L576.786 200.9 Z\" fill=\"#000000\" fill-rule=\"evenodd\" fill-opacity=\"1\" /><polyline clip-path=\"url(#clip690)\" style=\"stroke:#3da44d; stroke-linecap:round; stroke-linejoin:round; stroke-width:4; stroke-opacity:1; fill:none\" points=\"275.484,250.738 420.41,250.738 \"/>\n",
       "<path clip-path=\"url(#clip690)\" d=\"M458.407 270.425 Q456.601 275.055 454.888 276.467 Q453.175 277.879 450.305 277.879 L446.902 277.879 L446.902 274.314 L449.402 274.314 Q451.161 274.314 452.134 273.48 Q453.106 272.647 454.286 269.545 L455.05 267.601 L444.564 242.092 L449.078 242.092 L457.18 262.369 L465.282 242.092 L469.796 242.092 L458.407 270.425 Z\" fill=\"#000000\" fill-rule=\"evenodd\" fill-opacity=\"1\" /><path clip-path=\"url(#clip690)\" d=\"M503.869 231.999 L503.869 235.541 L499.795 235.541 Q497.504 235.541 496.601 236.467 Q495.721 237.393 495.721 239.8 L495.721 242.092 L502.735 242.092 L502.735 245.402 L495.721 245.402 L495.721 268.018 L491.439 268.018 L491.439 245.402 L487.365 245.402 L487.365 242.092 L491.439 242.092 L491.439 240.286 Q491.439 235.958 493.453 233.99 Q495.467 231.999 499.842 231.999 L503.869 231.999 Z\" fill=\"#000000\" fill-rule=\"evenodd\" fill-opacity=\"1\" /><path clip-path=\"url(#clip690)\" d=\"M507.434 242.092 L511.693 242.092 L511.693 268.018 L507.434 268.018 L507.434 242.092 M507.434 231.999 L511.693 231.999 L511.693 237.393 L507.434 237.393 L507.434 231.999 Z\" fill=\"#000000\" fill-rule=\"evenodd\" fill-opacity=\"1\" /><path clip-path=\"url(#clip690)\" d=\"M524.818 234.731 L524.818 242.092 L533.592 242.092 L533.592 245.402 L524.818 245.402 L524.818 259.476 Q524.818 262.647 525.675 263.55 Q526.555 264.453 529.217 264.453 L533.592 264.453 L533.592 268.018 L529.217 268.018 Q524.286 268.018 522.411 266.189 Q520.536 264.337 520.536 259.476 L520.536 245.402 L517.411 245.402 L517.411 242.092 L520.536 242.092 L520.536 234.731 L524.818 234.731 Z\" fill=\"#000000\" fill-rule=\"evenodd\" fill-opacity=\"1\" /></svg>\n"
      ]
     },
     "execution_count": 60,
     "metadata": {},
     "output_type": "execute_result"
    }
   ],
   "source": [
    "using Plots\n",
    "using Polynomials: fit, Polynomials, coeffs\n",
    "# make scatter plot of y_observed along x\n",
    "scatter(x,y_observed, label=\"y observed\")\n",
    "\n",
    "# plot a line of y_true along x on scatter\n",
    "plot!(x,y_true, label=\"y true\")\n",
    "\n",
    "# plot a line of fitted polynomial along x on the same plot\n",
    "Polynomial([-2,3,1])\n",
    "line_fit = fit(x,y_observed,2)\n",
    "fit_coeff = coeffs(line_fit)\n",
    "y_fitted = fit_coeff[1] .+ (fit_coeff[2] .*x) .+ (fit_coeff[3] .* x.^2)\n",
    "plot!(x,y_fitted, label=\"y fit\")"
   ]
  },
  {
   "cell_type": "markdown",
   "id": "ab12acbd",
   "metadata": {},
   "source": [
    "2. Compare the plot with the plot in 2.3. Is the fit closer to y_true or not, and why?"
   ]
  },
  {
   "cell_type": "markdown",
   "id": "6aa3681c",
   "metadata": {},
   "source": [
    "This fit is not closer to y_true. This is because the standard deviation here is 50 compared to 10 (standard deviation in 2.3). This means that more error (noise) is accounted into our fit, making it a less closer fit than when standard deviation is 10 in question 2.3 ."
   ]
  },
  {
   "cell_type": "markdown",
   "id": "5fd1d93b",
   "metadata": {},
   "source": [
    "### 2.5\n",
    "\n",
    "#### Repeat 2.2 and 2.3 with a tenth order polynomial fit\n"
   ]
  },
  {
   "cell_type": "code",
   "execution_count": 61,
   "id": "b6dbd546",
   "metadata": {},
   "outputs": [
    {
     "data": {
      "image/svg+xml": [
       "<?xml version=\"1.0\" encoding=\"utf-8\"?>\n",
       "<svg xmlns=\"http://www.w3.org/2000/svg\" xmlns:xlink=\"http://www.w3.org/1999/xlink\" width=\"600\" height=\"400\" viewBox=\"0 0 2400 1600\">\n",
       "<defs>\n",
       "  <clipPath id=\"clip730\">\n",
       "    <rect x=\"0\" y=\"0\" width=\"2400\" height=\"1600\"/>\n",
       "  </clipPath>\n",
       "</defs>\n",
       "<path clip-path=\"url(#clip730)\" d=\"M0 1600 L2400 1600 L2400 0 L0 0  Z\" fill=\"#ffffff\" fill-rule=\"evenodd\" fill-opacity=\"1\"/>\n",
       "<defs>\n",
       "  <clipPath id=\"clip731\">\n",
       "    <rect x=\"480\" y=\"0\" width=\"1681\" height=\"1600\"/>\n",
       "  </clipPath>\n",
       "</defs>\n",
       "<path clip-path=\"url(#clip730)\" d=\"M178.867 1486.45 L2352.76 1486.45 L2352.76 47.2441 L178.867 47.2441  Z\" fill=\"#ffffff\" fill-rule=\"evenodd\" fill-opacity=\"1\"/>\n",
       "<defs>\n",
       "  <clipPath id=\"clip732\">\n",
       "    <rect x=\"178\" y=\"47\" width=\"2175\" height=\"1440\"/>\n",
       "  </clipPath>\n",
       "</defs>\n",
       "<polyline clip-path=\"url(#clip732)\" style=\"stroke:#000000; stroke-linecap:round; stroke-linejoin:round; stroke-width:2; stroke-opacity:0.1; fill:none\" points=\"240.392,1486.45 240.392,47.2441 \"/>\n",
       "<polyline clip-path=\"url(#clip732)\" style=\"stroke:#000000; stroke-linecap:round; stroke-linejoin:round; stroke-width:2; stroke-opacity:0.1; fill:none\" points=\"753.102,1486.45 753.102,47.2441 \"/>\n",
       "<polyline clip-path=\"url(#clip732)\" style=\"stroke:#000000; stroke-linecap:round; stroke-linejoin:round; stroke-width:2; stroke-opacity:0.1; fill:none\" points=\"1265.81,1486.45 1265.81,47.2441 \"/>\n",
       "<polyline clip-path=\"url(#clip732)\" style=\"stroke:#000000; stroke-linecap:round; stroke-linejoin:round; stroke-width:2; stroke-opacity:0.1; fill:none\" points=\"1778.52,1486.45 1778.52,47.2441 \"/>\n",
       "<polyline clip-path=\"url(#clip732)\" style=\"stroke:#000000; stroke-linecap:round; stroke-linejoin:round; stroke-width:2; stroke-opacity:0.1; fill:none\" points=\"2291.23,1486.45 2291.23,47.2441 \"/>\n",
       "<polyline clip-path=\"url(#clip730)\" style=\"stroke:#000000; stroke-linecap:round; stroke-linejoin:round; stroke-width:4; stroke-opacity:1; fill:none\" points=\"178.867,1486.45 2352.76,1486.45 \"/>\n",
       "<polyline clip-path=\"url(#clip730)\" style=\"stroke:#000000; stroke-linecap:round; stroke-linejoin:round; stroke-width:4; stroke-opacity:1; fill:none\" points=\"240.392,1486.45 240.392,1467.55 \"/>\n",
       "<polyline clip-path=\"url(#clip730)\" style=\"stroke:#000000; stroke-linecap:round; stroke-linejoin:round; stroke-width:4; stroke-opacity:1; fill:none\" points=\"753.102,1486.45 753.102,1467.55 \"/>\n",
       "<polyline clip-path=\"url(#clip730)\" style=\"stroke:#000000; stroke-linecap:round; stroke-linejoin:round; stroke-width:4; stroke-opacity:1; fill:none\" points=\"1265.81,1486.45 1265.81,1467.55 \"/>\n",
       "<polyline clip-path=\"url(#clip730)\" style=\"stroke:#000000; stroke-linecap:round; stroke-linejoin:round; stroke-width:4; stroke-opacity:1; fill:none\" points=\"1778.52,1486.45 1778.52,1467.55 \"/>\n",
       "<polyline clip-path=\"url(#clip730)\" style=\"stroke:#000000; stroke-linecap:round; stroke-linejoin:round; stroke-width:4; stroke-opacity:1; fill:none\" points=\"2291.23,1486.45 2291.23,1467.55 \"/>\n",
       "<path clip-path=\"url(#clip730)\" d=\"M194.455 1532.02 L224.13 1532.02 L224.13 1535.95 L194.455 1535.95 L194.455 1532.02 Z\" fill=\"#000000\" fill-rule=\"evenodd\" fill-opacity=\"1\" /><path clip-path=\"url(#clip730)\" d=\"M235.033 1544.91 L242.672 1544.91 L242.672 1518.55 L234.362 1520.21 L234.362 1515.95 L242.626 1514.29 L247.301 1514.29 L247.301 1544.91 L254.94 1544.91 L254.94 1548.85 L235.033 1548.85 L235.033 1544.91 Z\" fill=\"#000000\" fill-rule=\"evenodd\" fill-opacity=\"1\" /><path clip-path=\"url(#clip730)\" d=\"M274.385 1517.37 Q270.774 1517.37 268.945 1520.93 Q267.139 1524.47 267.139 1531.6 Q267.139 1538.71 268.945 1542.27 Q270.774 1545.82 274.385 1545.82 Q278.019 1545.82 279.824 1542.27 Q281.653 1538.71 281.653 1531.6 Q281.653 1524.47 279.824 1520.93 Q278.019 1517.37 274.385 1517.37 M274.385 1513.66 Q280.195 1513.66 283.25 1518.27 Q286.329 1522.85 286.329 1531.6 Q286.329 1540.33 283.25 1544.94 Q280.195 1549.52 274.385 1549.52 Q268.575 1549.52 265.496 1544.94 Q262.44 1540.33 262.44 1531.6 Q262.44 1522.85 265.496 1518.27 Q268.575 1513.66 274.385 1513.66 Z\" fill=\"#000000\" fill-rule=\"evenodd\" fill-opacity=\"1\" /><path clip-path=\"url(#clip730)\" d=\"M722.743 1532.02 L752.419 1532.02 L752.419 1535.95 L722.743 1535.95 L722.743 1532.02 Z\" fill=\"#000000\" fill-rule=\"evenodd\" fill-opacity=\"1\" /><path clip-path=\"url(#clip730)\" d=\"M762.558 1514.29 L780.914 1514.29 L780.914 1518.22 L766.84 1518.22 L766.84 1526.7 Q767.858 1526.35 768.877 1526.19 Q769.895 1526 770.914 1526 Q776.701 1526 780.081 1529.17 Q783.46 1532.34 783.46 1537.76 Q783.46 1543.34 779.988 1546.44 Q776.516 1549.52 770.196 1549.52 Q768.02 1549.52 765.752 1549.15 Q763.507 1548.78 761.099 1548.04 L761.099 1543.34 Q763.183 1544.47 765.405 1545.03 Q767.627 1545.58 770.104 1545.58 Q774.108 1545.58 776.446 1543.48 Q778.784 1541.37 778.784 1537.76 Q778.784 1534.15 776.446 1532.04 Q774.108 1529.94 770.104 1529.94 Q768.229 1529.94 766.354 1530.35 Q764.502 1530.77 762.558 1531.65 L762.558 1514.29 Z\" fill=\"#000000\" fill-rule=\"evenodd\" fill-opacity=\"1\" /><path clip-path=\"url(#clip730)\" d=\"M1265.81 1517.37 Q1262.2 1517.37 1260.37 1520.93 Q1258.57 1524.47 1258.57 1531.6 Q1258.57 1538.71 1260.37 1542.27 Q1262.2 1545.82 1265.81 1545.82 Q1269.45 1545.82 1271.25 1542.27 Q1273.08 1538.71 1273.08 1531.6 Q1273.08 1524.47 1271.25 1520.93 Q1269.45 1517.37 1265.81 1517.37 M1265.81 1513.66 Q1271.62 1513.66 1274.68 1518.27 Q1277.76 1522.85 1277.76 1531.6 Q1277.76 1540.33 1274.68 1544.94 Q1271.62 1549.52 1265.81 1549.52 Q1260 1549.52 1256.92 1544.94 Q1253.87 1540.33 1253.87 1531.6 Q1253.87 1522.85 1256.92 1518.27 Q1260 1513.66 1265.81 1513.66 Z\" fill=\"#000000\" fill-rule=\"evenodd\" fill-opacity=\"1\" /><path clip-path=\"url(#clip730)\" d=\"M1768.8 1514.29 L1787.16 1514.29 L1787.16 1518.22 L1773.08 1518.22 L1773.08 1526.7 Q1774.1 1526.35 1775.12 1526.19 Q1776.14 1526 1777.16 1526 Q1782.94 1526 1786.32 1529.17 Q1789.7 1532.34 1789.7 1537.76 Q1789.7 1543.34 1786.23 1546.44 Q1782.76 1549.52 1776.44 1549.52 Q1774.26 1549.52 1771.99 1549.15 Q1769.75 1548.78 1767.34 1548.04 L1767.34 1543.34 Q1769.42 1544.47 1771.65 1545.03 Q1773.87 1545.58 1776.35 1545.58 Q1780.35 1545.58 1782.69 1543.48 Q1785.03 1541.37 1785.03 1537.76 Q1785.03 1534.15 1782.69 1532.04 Q1780.35 1529.94 1776.35 1529.94 Q1774.47 1529.94 1772.6 1530.35 Q1770.74 1530.77 1768.8 1531.65 L1768.8 1514.29 Z\" fill=\"#000000\" fill-rule=\"evenodd\" fill-opacity=\"1\" /><path clip-path=\"url(#clip730)\" d=\"M2265.92 1544.91 L2273.56 1544.91 L2273.56 1518.55 L2265.25 1520.21 L2265.25 1515.95 L2273.51 1514.29 L2278.19 1514.29 L2278.19 1544.91 L2285.83 1544.91 L2285.83 1548.85 L2265.92 1548.85 L2265.92 1544.91 Z\" fill=\"#000000\" fill-rule=\"evenodd\" fill-opacity=\"1\" /><path clip-path=\"url(#clip730)\" d=\"M2305.27 1517.37 Q2301.66 1517.37 2299.83 1520.93 Q2298.02 1524.47 2298.02 1531.6 Q2298.02 1538.71 2299.83 1542.27 Q2301.66 1545.82 2305.27 1545.82 Q2308.9 1545.82 2310.71 1542.27 Q2312.54 1538.71 2312.54 1531.6 Q2312.54 1524.47 2310.71 1520.93 Q2308.9 1517.37 2305.27 1517.37 M2305.27 1513.66 Q2311.08 1513.66 2314.14 1518.27 Q2317.21 1522.85 2317.21 1531.6 Q2317.21 1540.33 2314.14 1544.94 Q2311.08 1549.52 2305.27 1549.52 Q2299.46 1549.52 2296.38 1544.94 Q2293.33 1540.33 2293.33 1531.6 Q2293.33 1522.85 2296.38 1518.27 Q2299.46 1513.66 2305.27 1513.66 Z\" fill=\"#000000\" fill-rule=\"evenodd\" fill-opacity=\"1\" /><polyline clip-path=\"url(#clip732)\" style=\"stroke:#000000; stroke-linecap:round; stroke-linejoin:round; stroke-width:2; stroke-opacity:0.1; fill:none\" points=\"178.867,1304.67 2352.76,1304.67 \"/>\n",
       "<polyline clip-path=\"url(#clip732)\" style=\"stroke:#000000; stroke-linecap:round; stroke-linejoin:round; stroke-width:2; stroke-opacity:0.1; fill:none\" points=\"178.867,1040.64 2352.76,1040.64 \"/>\n",
       "<polyline clip-path=\"url(#clip732)\" style=\"stroke:#000000; stroke-linecap:round; stroke-linejoin:round; stroke-width:2; stroke-opacity:0.1; fill:none\" points=\"178.867,776.617 2352.76,776.617 \"/>\n",
       "<polyline clip-path=\"url(#clip732)\" style=\"stroke:#000000; stroke-linecap:round; stroke-linejoin:round; stroke-width:2; stroke-opacity:0.1; fill:none\" points=\"178.867,512.591 2352.76,512.591 \"/>\n",
       "<polyline clip-path=\"url(#clip732)\" style=\"stroke:#000000; stroke-linecap:round; stroke-linejoin:round; stroke-width:2; stroke-opacity:0.1; fill:none\" points=\"178.867,248.565 2352.76,248.565 \"/>\n",
       "<polyline clip-path=\"url(#clip730)\" style=\"stroke:#000000; stroke-linecap:round; stroke-linejoin:round; stroke-width:4; stroke-opacity:1; fill:none\" points=\"178.867,1486.45 178.867,47.2441 \"/>\n",
       "<polyline clip-path=\"url(#clip730)\" style=\"stroke:#000000; stroke-linecap:round; stroke-linejoin:round; stroke-width:4; stroke-opacity:1; fill:none\" points=\"178.867,1304.67 197.764,1304.67 \"/>\n",
       "<polyline clip-path=\"url(#clip730)\" style=\"stroke:#000000; stroke-linecap:round; stroke-linejoin:round; stroke-width:4; stroke-opacity:1; fill:none\" points=\"178.867,1040.64 197.764,1040.64 \"/>\n",
       "<polyline clip-path=\"url(#clip730)\" style=\"stroke:#000000; stroke-linecap:round; stroke-linejoin:round; stroke-width:4; stroke-opacity:1; fill:none\" points=\"178.867,776.617 197.764,776.617 \"/>\n",
       "<polyline clip-path=\"url(#clip730)\" style=\"stroke:#000000; stroke-linecap:round; stroke-linejoin:round; stroke-width:4; stroke-opacity:1; fill:none\" points=\"178.867,512.591 197.764,512.591 \"/>\n",
       "<polyline clip-path=\"url(#clip730)\" style=\"stroke:#000000; stroke-linecap:round; stroke-linejoin:round; stroke-width:4; stroke-opacity:1; fill:none\" points=\"178.867,248.565 197.764,248.565 \"/>\n",
       "<path clip-path=\"url(#clip730)\" d=\"M50.9921 1305.12 L80.6679 1305.12 L80.6679 1309.05 L50.9921 1309.05 L50.9921 1305.12 Z\" fill=\"#000000\" fill-rule=\"evenodd\" fill-opacity=\"1\" /><path clip-path=\"url(#clip730)\" d=\"M90.8067 1287.39 L109.163 1287.39 L109.163 1291.32 L95.0891 1291.32 L95.0891 1299.8 Q96.1076 1299.45 97.1261 1299.29 Q98.1447 1299.1 99.1632 1299.1 Q104.95 1299.1 108.33 1302.27 Q111.709 1305.44 111.709 1310.86 Q111.709 1316.44 108.237 1319.54 Q104.765 1322.62 98.4456 1322.62 Q96.2697 1322.62 94.0012 1322.25 Q91.7558 1321.88 89.3484 1321.14 L89.3484 1316.44 Q91.4317 1317.57 93.6539 1318.13 Q95.8761 1318.68 98.353 1318.68 Q102.358 1318.68 104.696 1316.58 Q107.033 1314.47 107.033 1310.86 Q107.033 1307.25 104.696 1305.14 Q102.358 1303.04 98.353 1303.04 Q96.478 1303.04 94.603 1303.45 Q92.7512 1303.87 90.8067 1304.75 L90.8067 1287.39 Z\" fill=\"#000000\" fill-rule=\"evenodd\" fill-opacity=\"1\" /><path clip-path=\"url(#clip730)\" d=\"M130.922 1290.47 Q127.311 1290.47 125.482 1294.03 Q123.677 1297.57 123.677 1304.7 Q123.677 1311.81 125.482 1315.37 Q127.311 1318.92 130.922 1318.92 Q134.556 1318.92 136.362 1315.37 Q138.191 1311.81 138.191 1304.7 Q138.191 1297.57 136.362 1294.03 Q134.556 1290.47 130.922 1290.47 M130.922 1286.76 Q136.732 1286.76 139.788 1291.37 Q142.867 1295.95 142.867 1304.7 Q142.867 1313.43 139.788 1318.04 Q136.732 1322.62 130.922 1322.62 Q125.112 1322.62 122.033 1318.04 Q118.978 1313.43 118.978 1304.7 Q118.978 1295.95 122.033 1291.37 Q125.112 1286.76 130.922 1286.76 Z\" fill=\"#000000\" fill-rule=\"evenodd\" fill-opacity=\"1\" /><path clip-path=\"url(#clip730)\" d=\"M130.922 1026.44 Q127.311 1026.44 125.482 1030.01 Q123.677 1033.55 123.677 1040.68 Q123.677 1047.78 125.482 1051.35 Q127.311 1054.89 130.922 1054.89 Q134.556 1054.89 136.362 1051.35 Q138.191 1047.78 138.191 1040.68 Q138.191 1033.55 136.362 1030.01 Q134.556 1026.44 130.922 1026.44 M130.922 1022.74 Q136.732 1022.74 139.788 1027.34 Q142.867 1031.93 142.867 1040.68 Q142.867 1049.4 139.788 1054.01 Q136.732 1058.59 130.922 1058.59 Q125.112 1058.59 122.033 1054.01 Q118.978 1049.4 118.978 1040.68 Q118.978 1031.93 122.033 1027.34 Q125.112 1022.74 130.922 1022.74 Z\" fill=\"#000000\" fill-rule=\"evenodd\" fill-opacity=\"1\" /><path clip-path=\"url(#clip730)\" d=\"M90.8067 759.337 L109.163 759.337 L109.163 763.272 L95.0891 763.272 L95.0891 771.744 Q96.1076 771.397 97.1261 771.235 Q98.1447 771.05 99.1632 771.05 Q104.95 771.05 108.33 774.221 Q111.709 777.392 111.709 782.809 Q111.709 788.387 108.237 791.489 Q104.765 794.568 98.4456 794.568 Q96.2697 794.568 94.0012 794.198 Q91.7558 793.827 89.3484 793.086 L89.3484 788.387 Q91.4317 789.522 93.6539 790.077 Q95.8761 790.633 98.353 790.633 Q102.358 790.633 104.696 788.526 Q107.033 786.42 107.033 782.809 Q107.033 779.198 104.696 777.091 Q102.358 774.985 98.353 774.985 Q96.478 774.985 94.603 775.401 Q92.7512 775.818 90.8067 776.698 L90.8067 759.337 Z\" fill=\"#000000\" fill-rule=\"evenodd\" fill-opacity=\"1\" /><path clip-path=\"url(#clip730)\" d=\"M130.922 762.415 Q127.311 762.415 125.482 765.98 Q123.677 769.522 123.677 776.651 Q123.677 783.758 125.482 787.323 Q127.311 790.864 130.922 790.864 Q134.556 790.864 136.362 787.323 Q138.191 783.758 138.191 776.651 Q138.191 769.522 136.362 765.98 Q134.556 762.415 130.922 762.415 M130.922 758.712 Q136.732 758.712 139.788 763.318 Q142.867 767.901 142.867 776.651 Q142.867 785.378 139.788 789.985 Q136.732 794.568 130.922 794.568 Q125.112 794.568 122.033 789.985 Q118.978 785.378 118.978 776.651 Q118.978 767.901 122.033 763.318 Q125.112 758.712 130.922 758.712 Z\" fill=\"#000000\" fill-rule=\"evenodd\" fill-opacity=\"1\" /><path clip-path=\"url(#clip730)\" d=\"M61.4087 525.936 L69.0476 525.936 L69.0476 499.57 L60.7374 501.237 L60.7374 496.977 L69.0013 495.311 L73.6772 495.311 L73.6772 525.936 L81.316 525.936 L81.316 529.871 L61.4087 529.871 L61.4087 525.936 Z\" fill=\"#000000\" fill-rule=\"evenodd\" fill-opacity=\"1\" /><path clip-path=\"url(#clip730)\" d=\"M100.76 498.389 Q97.1493 498.389 95.3206 501.954 Q93.515 505.496 93.515 512.625 Q93.515 519.732 95.3206 523.297 Q97.1493 526.838 100.76 526.838 Q104.395 526.838 106.2 523.297 Q108.029 519.732 108.029 512.625 Q108.029 505.496 106.2 501.954 Q104.395 498.389 100.76 498.389 M100.76 494.686 Q106.571 494.686 109.626 499.292 Q112.705 503.876 112.705 512.625 Q112.705 521.352 109.626 525.959 Q106.571 530.542 100.76 530.542 Q94.9502 530.542 91.8715 525.959 Q88.816 521.352 88.816 512.625 Q88.816 503.876 91.8715 499.292 Q94.9502 494.686 100.76 494.686 Z\" fill=\"#000000\" fill-rule=\"evenodd\" fill-opacity=\"1\" /><path clip-path=\"url(#clip730)\" d=\"M130.922 498.389 Q127.311 498.389 125.482 501.954 Q123.677 505.496 123.677 512.625 Q123.677 519.732 125.482 523.297 Q127.311 526.838 130.922 526.838 Q134.556 526.838 136.362 523.297 Q138.191 519.732 138.191 512.625 Q138.191 505.496 136.362 501.954 Q134.556 498.389 130.922 498.389 M130.922 494.686 Q136.732 494.686 139.788 499.292 Q142.867 503.876 142.867 512.625 Q142.867 521.352 139.788 525.959 Q136.732 530.542 130.922 530.542 Q125.112 530.542 122.033 525.959 Q118.978 521.352 118.978 512.625 Q118.978 503.876 122.033 499.292 Q125.112 494.686 130.922 494.686 Z\" fill=\"#000000\" fill-rule=\"evenodd\" fill-opacity=\"1\" /><path clip-path=\"url(#clip730)\" d=\"M61.4087 261.91 L69.0476 261.91 L69.0476 235.544 L60.7374 237.211 L60.7374 232.952 L69.0013 231.285 L73.6772 231.285 L73.6772 261.91 L81.316 261.91 L81.316 265.845 L61.4087 265.845 L61.4087 261.91 Z\" fill=\"#000000\" fill-rule=\"evenodd\" fill-opacity=\"1\" /><path clip-path=\"url(#clip730)\" d=\"M90.8067 231.285 L109.163 231.285 L109.163 235.22 L95.0891 235.22 L95.0891 243.692 Q96.1076 243.345 97.1261 243.183 Q98.1447 242.998 99.1632 242.998 Q104.95 242.998 108.33 246.169 Q111.709 249.34 111.709 254.757 Q111.709 260.336 108.237 263.438 Q104.765 266.516 98.4456 266.516 Q96.2697 266.516 94.0012 266.146 Q91.7558 265.775 89.3484 265.035 L89.3484 260.336 Q91.4317 261.47 93.6539 262.026 Q95.8761 262.581 98.353 262.581 Q102.358 262.581 104.696 260.475 Q107.033 258.368 107.033 254.757 Q107.033 251.146 104.696 249.039 Q102.358 246.933 98.353 246.933 Q96.478 246.933 94.603 247.35 Q92.7512 247.766 90.8067 248.646 L90.8067 231.285 Z\" fill=\"#000000\" fill-rule=\"evenodd\" fill-opacity=\"1\" /><path clip-path=\"url(#clip730)\" d=\"M130.922 234.364 Q127.311 234.364 125.482 237.928 Q123.677 241.47 123.677 248.6 Q123.677 255.706 125.482 259.271 Q127.311 262.813 130.922 262.813 Q134.556 262.813 136.362 259.271 Q138.191 255.706 138.191 248.6 Q138.191 241.47 136.362 237.928 Q134.556 234.364 130.922 234.364 M130.922 230.66 Q136.732 230.66 139.788 235.266 Q142.867 239.85 142.867 248.6 Q142.867 257.326 139.788 261.933 Q136.732 266.516 130.922 266.516 Q125.112 266.516 122.033 261.933 Q118.978 257.326 118.978 248.6 Q118.978 239.85 122.033 235.266 Q125.112 230.66 130.922 230.66 Z\" fill=\"#000000\" fill-rule=\"evenodd\" fill-opacity=\"1\" /><circle clip-path=\"url(#clip732)\" cx=\"240.392\" cy=\"778.896\" r=\"14.4\" fill=\"#009af9\" fill-rule=\"evenodd\" fill-opacity=\"1\" stroke=\"#000000\" stroke-opacity=\"1\" stroke-width=\"3.2\"/>\n",
       "<circle clip-path=\"url(#clip732)\" cx=\"342.934\" cy=\"774.726\" r=\"14.4\" fill=\"#009af9\" fill-rule=\"evenodd\" fill-opacity=\"1\" stroke=\"#000000\" stroke-opacity=\"1\" stroke-width=\"3.2\"/>\n",
       "<circle clip-path=\"url(#clip732)\" cx=\"445.476\" cy=\"690.16\" r=\"14.4\" fill=\"#009af9\" fill-rule=\"evenodd\" fill-opacity=\"1\" stroke=\"#000000\" stroke-opacity=\"1\" stroke-width=\"3.2\"/>\n",
       "<circle clip-path=\"url(#clip732)\" cx=\"548.018\" cy=\"914.606\" r=\"14.4\" fill=\"#009af9\" fill-rule=\"evenodd\" fill-opacity=\"1\" stroke=\"#000000\" stroke-opacity=\"1\" stroke-width=\"3.2\"/>\n",
       "<circle clip-path=\"url(#clip732)\" cx=\"650.56\" cy=\"698.068\" r=\"14.4\" fill=\"#009af9\" fill-rule=\"evenodd\" fill-opacity=\"1\" stroke=\"#000000\" stroke-opacity=\"1\" stroke-width=\"3.2\"/>\n",
       "<circle clip-path=\"url(#clip732)\" cx=\"753.102\" cy=\"1409.99\" r=\"14.4\" fill=\"#009af9\" fill-rule=\"evenodd\" fill-opacity=\"1\" stroke=\"#000000\" stroke-opacity=\"1\" stroke-width=\"3.2\"/>\n",
       "<circle clip-path=\"url(#clip732)\" cx=\"855.643\" cy=\"794.406\" r=\"14.4\" fill=\"#009af9\" fill-rule=\"evenodd\" fill-opacity=\"1\" stroke=\"#000000\" stroke-opacity=\"1\" stroke-width=\"3.2\"/>\n",
       "<circle clip-path=\"url(#clip732)\" cx=\"958.185\" cy=\"1213.8\" r=\"14.4\" fill=\"#009af9\" fill-rule=\"evenodd\" fill-opacity=\"1\" stroke=\"#000000\" stroke-opacity=\"1\" stroke-width=\"3.2\"/>\n",
       "<circle clip-path=\"url(#clip732)\" cx=\"1060.73\" cy=\"934.381\" r=\"14.4\" fill=\"#009af9\" fill-rule=\"evenodd\" fill-opacity=\"1\" stroke=\"#000000\" stroke-opacity=\"1\" stroke-width=\"3.2\"/>\n",
       "<circle clip-path=\"url(#clip732)\" cx=\"1163.27\" cy=\"1445.72\" r=\"14.4\" fill=\"#009af9\" fill-rule=\"evenodd\" fill-opacity=\"1\" stroke=\"#000000\" stroke-opacity=\"1\" stroke-width=\"3.2\"/>\n",
       "<circle clip-path=\"url(#clip732)\" cx=\"1265.81\" cy=\"754.183\" r=\"14.4\" fill=\"#009af9\" fill-rule=\"evenodd\" fill-opacity=\"1\" stroke=\"#000000\" stroke-opacity=\"1\" stroke-width=\"3.2\"/>\n",
       "<circle clip-path=\"url(#clip732)\" cx=\"1368.35\" cy=\"1090.41\" r=\"14.4\" fill=\"#009af9\" fill-rule=\"evenodd\" fill-opacity=\"1\" stroke=\"#000000\" stroke-opacity=\"1\" stroke-width=\"3.2\"/>\n",
       "<circle clip-path=\"url(#clip732)\" cx=\"1470.9\" cy=\"1152.53\" r=\"14.4\" fill=\"#009af9\" fill-rule=\"evenodd\" fill-opacity=\"1\" stroke=\"#000000\" stroke-opacity=\"1\" stroke-width=\"3.2\"/>\n",
       "<circle clip-path=\"url(#clip732)\" cx=\"1573.44\" cy=\"941.396\" r=\"14.4\" fill=\"#009af9\" fill-rule=\"evenodd\" fill-opacity=\"1\" stroke=\"#000000\" stroke-opacity=\"1\" stroke-width=\"3.2\"/>\n",
       "<circle clip-path=\"url(#clip732)\" cx=\"1675.98\" cy=\"1067.56\" r=\"14.4\" fill=\"#009af9\" fill-rule=\"evenodd\" fill-opacity=\"1\" stroke=\"#000000\" stroke-opacity=\"1\" stroke-width=\"3.2\"/>\n",
       "<circle clip-path=\"url(#clip732)\" cx=\"1778.52\" cy=\"709.116\" r=\"14.4\" fill=\"#009af9\" fill-rule=\"evenodd\" fill-opacity=\"1\" stroke=\"#000000\" stroke-opacity=\"1\" stroke-width=\"3.2\"/>\n",
       "<circle clip-path=\"url(#clip732)\" cx=\"1881.06\" cy=\"859.561\" r=\"14.4\" fill=\"#009af9\" fill-rule=\"evenodd\" fill-opacity=\"1\" stroke=\"#000000\" stroke-opacity=\"1\" stroke-width=\"3.2\"/>\n",
       "<circle clip-path=\"url(#clip732)\" cx=\"1983.6\" cy=\"664.765\" r=\"14.4\" fill=\"#009af9\" fill-rule=\"evenodd\" fill-opacity=\"1\" stroke=\"#000000\" stroke-opacity=\"1\" stroke-width=\"3.2\"/>\n",
       "<circle clip-path=\"url(#clip732)\" cx=\"2086.15\" cy=\"663.286\" r=\"14.4\" fill=\"#009af9\" fill-rule=\"evenodd\" fill-opacity=\"1\" stroke=\"#000000\" stroke-opacity=\"1\" stroke-width=\"3.2\"/>\n",
       "<circle clip-path=\"url(#clip732)\" cx=\"2188.69\" cy=\"458.465\" r=\"14.4\" fill=\"#009af9\" fill-rule=\"evenodd\" fill-opacity=\"1\" stroke=\"#000000\" stroke-opacity=\"1\" stroke-width=\"3.2\"/>\n",
       "<circle clip-path=\"url(#clip732)\" cx=\"2291.23\" cy=\"89.7432\" r=\"14.4\" fill=\"#009af9\" fill-rule=\"evenodd\" fill-opacity=\"1\" stroke=\"#000000\" stroke-opacity=\"1\" stroke-width=\"3.2\"/>\n",
       "<polyline clip-path=\"url(#clip732)\" style=\"stroke:#e26f46; stroke-linecap:round; stroke-linejoin:round; stroke-width:4; stroke-opacity:1; fill:none\" points=\"240.392,681.567 342.934,766.056 445.476,839.983 548.018,903.349 650.56,956.154 753.102,998.398 855.643,1030.08 958.185,1051.2 1060.73,1061.76 1163.27,1061.76 1265.81,1051.2 1368.35,1030.08 1470.9,998.398 1573.44,956.154 1675.98,903.349 1778.52,839.983 1881.06,766.056 1983.6,681.567 2086.15,586.518 2188.69,480.908 2291.23,364.736 \"/>\n",
       "<polyline clip-path=\"url(#clip732)\" style=\"stroke:#3da44d; stroke-linecap:round; stroke-linejoin:round; stroke-width:4; stroke-opacity:1; fill:none\" points=\"240.392,781.328 342.934,759.436 445.476,735.292 548.018,808.19 650.56,933.017 753.102,1042.33 855.643,1099.29 958.185,1105.72 1060.73,1086.74 1163.27,1069.26 1265.81,1065.7 1368.35,1069.17 1470.9,1060.03 1573.44,1019.81 1675.98,944.966 1778.52,852.162 1881.06,768.9 1983.6,708.649 2086.15,639.337 2188.69,468.464 2291.23,87.9763 \"/>\n",
       "<path clip-path=\"url(#clip730)\" d=\"M251.33 302.578 L869.064 302.578 L869.064 95.2176 L251.33 95.2176  Z\" fill=\"#ffffff\" fill-rule=\"evenodd\" fill-opacity=\"1\"/>\n",
       "<polyline clip-path=\"url(#clip730)\" style=\"stroke:#000000; stroke-linecap:round; stroke-linejoin:round; stroke-width:4; stroke-opacity:1; fill:none\" points=\"251.33,302.578 869.064,302.578 869.064,95.2176 251.33,95.2176 251.33,302.578 \"/>\n",
       "<circle clip-path=\"url(#clip730)\" cx=\"347.947\" cy=\"147.058\" r=\"23.04\" fill=\"#009af9\" fill-rule=\"evenodd\" fill-opacity=\"1\" stroke=\"#000000\" stroke-opacity=\"1\" stroke-width=\"5.12\"/>\n",
       "<path clip-path=\"url(#clip730)\" d=\"M458.407 166.745 Q456.601 171.375 454.888 172.787 Q453.175 174.199 450.305 174.199 L446.902 174.199 L446.902 170.634 L449.402 170.634 Q451.161 170.634 452.134 169.8 Q453.106 168.967 454.286 165.865 L455.05 163.921 L444.564 138.412 L449.078 138.412 L457.18 158.689 L465.282 138.412 L469.796 138.412 L458.407 166.745 Z\" fill=\"#000000\" fill-rule=\"evenodd\" fill-opacity=\"1\" /><path clip-path=\"url(#clip730)\" d=\"M500.791 141.398 Q497.365 141.398 495.374 144.083 Q493.383 146.745 493.383 151.398 Q493.383 156.051 495.351 158.736 Q497.342 161.398 500.791 161.398 Q504.194 161.398 506.184 158.713 Q508.175 156.027 508.175 151.398 Q508.175 146.791 506.184 144.106 Q504.194 141.398 500.791 141.398 M500.791 137.787 Q506.346 137.787 509.518 141.398 Q512.689 145.009 512.689 151.398 Q512.689 157.764 509.518 161.398 Q506.346 165.009 500.791 165.009 Q495.212 165.009 492.041 161.398 Q488.893 157.764 488.893 151.398 Q488.893 145.009 492.041 141.398 Q495.212 137.787 500.791 137.787 Z\" fill=\"#000000\" fill-rule=\"evenodd\" fill-opacity=\"1\" /><path clip-path=\"url(#clip730)\" d=\"M538.36 151.398 Q538.36 146.699 536.416 144.037 Q534.494 141.352 531.115 141.352 Q527.735 141.352 525.791 144.037 Q523.869 146.699 523.869 151.398 Q523.869 156.097 525.791 158.782 Q527.735 161.444 531.115 161.444 Q534.494 161.444 536.416 158.782 Q538.36 156.097 538.36 151.398 M523.869 142.347 Q525.212 140.032 527.249 138.921 Q529.309 137.787 532.156 137.787 Q536.879 137.787 539.818 141.537 Q542.781 145.287 542.781 151.398 Q542.781 157.509 539.818 161.259 Q536.879 165.009 532.156 165.009 Q529.309 165.009 527.249 163.898 Q525.212 162.763 523.869 160.449 L523.869 164.338 L519.587 164.338 L519.587 128.319 L523.869 128.319 L523.869 142.347 Z\" fill=\"#000000\" fill-rule=\"evenodd\" fill-opacity=\"1\" /><path clip-path=\"url(#clip730)\" d=\"M566.369 139.176 L566.369 143.203 Q564.564 142.277 562.619 141.815 Q560.675 141.352 558.591 141.352 Q555.42 141.352 553.823 142.324 Q552.249 143.296 552.249 145.24 Q552.249 146.722 553.383 147.578 Q554.517 148.412 557.943 149.176 L559.402 149.5 Q563.939 150.472 565.837 152.254 Q567.758 154.014 567.758 157.185 Q567.758 160.796 564.888 162.902 Q562.04 165.009 557.04 165.009 Q554.957 165.009 552.689 164.592 Q550.443 164.199 547.943 163.388 L547.943 158.99 Q550.304 160.217 552.596 160.842 Q554.888 161.444 557.133 161.444 Q560.142 161.444 561.763 160.426 Q563.383 159.384 563.383 157.509 Q563.383 155.773 562.202 154.847 Q561.045 153.921 557.087 153.064 L555.605 152.717 Q551.647 151.884 549.888 150.171 Q548.128 148.435 548.128 145.426 Q548.128 141.768 550.721 139.778 Q553.314 137.787 558.082 137.787 Q560.443 137.787 562.527 138.134 Q564.61 138.481 566.369 139.176 Z\" fill=\"#000000\" fill-rule=\"evenodd\" fill-opacity=\"1\" /><path clip-path=\"url(#clip730)\" d=\"M596.716 150.31 L596.716 152.393 L577.133 152.393 Q577.411 156.791 579.772 159.106 Q582.156 161.398 586.392 161.398 Q588.846 161.398 591.138 160.796 Q593.452 160.194 595.721 158.99 L595.721 163.018 Q593.429 163.99 591.022 164.5 Q588.614 165.009 586.138 165.009 Q579.934 165.009 576.3 161.398 Q572.689 157.787 572.689 151.629 Q572.689 145.264 576.114 141.537 Q579.563 137.787 585.397 137.787 Q590.628 137.787 593.661 141.166 Q596.716 144.523 596.716 150.31 M592.457 149.06 Q592.411 145.565 590.489 143.481 Q588.591 141.398 585.443 141.398 Q581.878 141.398 579.726 143.412 Q577.596 145.426 577.272 149.083 L592.457 149.06 Z\" fill=\"#000000\" fill-rule=\"evenodd\" fill-opacity=\"1\" /><path clip-path=\"url(#clip730)\" d=\"M618.73 142.393 Q618.012 141.977 617.156 141.791 Q616.323 141.583 615.304 141.583 Q611.693 141.583 609.749 143.944 Q607.827 146.282 607.827 150.68 L607.827 164.338 L603.545 164.338 L603.545 138.412 L607.827 138.412 L607.827 142.44 Q609.17 140.078 611.323 138.944 Q613.475 137.787 616.554 137.787 Q616.994 137.787 617.526 137.856 Q618.059 137.903 618.707 138.018 L618.73 142.393 Z\" fill=\"#000000\" fill-rule=\"evenodd\" fill-opacity=\"1\" /><path clip-path=\"url(#clip730)\" d=\"M620.142 138.412 L624.656 138.412 L632.758 160.171 L640.859 138.412 L645.373 138.412 L635.651 164.338 L629.864 164.338 L620.142 138.412 Z\" fill=\"#000000\" fill-rule=\"evenodd\" fill-opacity=\"1\" /><path clip-path=\"url(#clip730)\" d=\"M673.429 150.31 L673.429 152.393 L653.845 152.393 Q654.123 156.791 656.484 159.106 Q658.869 161.398 663.105 161.398 Q665.558 161.398 667.85 160.796 Q670.165 160.194 672.433 158.99 L672.433 163.018 Q670.142 163.99 667.734 164.5 Q665.327 165.009 662.85 165.009 Q656.646 165.009 653.012 161.398 Q649.401 157.787 649.401 151.629 Q649.401 145.264 652.827 141.537 Q656.276 137.787 662.109 137.787 Q667.341 137.787 670.373 141.166 Q673.429 144.523 673.429 150.31 M669.169 149.06 Q669.123 145.565 667.202 143.481 Q665.304 141.398 662.156 141.398 Q658.591 141.398 656.438 143.412 Q654.308 145.426 653.984 149.083 L669.169 149.06 Z\" fill=\"#000000\" fill-rule=\"evenodd\" fill-opacity=\"1\" /><path clip-path=\"url(#clip730)\" d=\"M697.48 142.347 L697.48 128.319 L701.739 128.319 L701.739 164.338 L697.48 164.338 L697.48 160.449 Q696.137 162.763 694.077 163.898 Q692.04 165.009 689.169 165.009 Q684.47 165.009 681.507 161.259 Q678.568 157.509 678.568 151.398 Q678.568 145.287 681.507 141.537 Q684.47 137.787 689.169 137.787 Q692.04 137.787 694.077 138.921 Q696.137 140.032 697.48 142.347 M682.966 151.398 Q682.966 156.097 684.887 158.782 Q686.831 161.444 690.211 161.444 Q693.591 161.444 695.535 158.782 Q697.48 156.097 697.48 151.398 Q697.48 146.699 695.535 144.037 Q693.591 141.352 690.211 141.352 Q686.831 141.352 684.887 144.037 Q682.966 146.699 682.966 151.398 Z\" fill=\"#000000\" fill-rule=\"evenodd\" fill-opacity=\"1\" /><polyline clip-path=\"url(#clip730)\" style=\"stroke:#e26f46; stroke-linecap:round; stroke-linejoin:round; stroke-width:4; stroke-opacity:1; fill:none\" points=\"275.484,198.898 420.41,198.898 \"/>\n",
       "<path clip-path=\"url(#clip730)\" d=\"M458.407 218.585 Q456.601 223.215 454.888 224.627 Q453.175 226.039 450.305 226.039 L446.902 226.039 L446.902 222.474 L449.402 222.474 Q451.161 222.474 452.134 221.64 Q453.106 220.807 454.286 217.705 L455.05 215.761 L444.564 190.252 L449.078 190.252 L457.18 210.529 L465.282 190.252 L469.796 190.252 L458.407 218.585 Z\" fill=\"#000000\" fill-rule=\"evenodd\" fill-opacity=\"1\" /><path clip-path=\"url(#clip730)\" d=\"M494.957 182.891 L494.957 190.252 L503.731 190.252 L503.731 193.562 L494.957 193.562 L494.957 207.636 Q494.957 210.807 495.814 211.71 Q496.694 212.613 499.356 212.613 L503.731 212.613 L503.731 216.178 L499.356 216.178 Q494.425 216.178 492.55 214.349 Q490.675 212.497 490.675 207.636 L490.675 193.562 L487.55 193.562 L487.55 190.252 L490.675 190.252 L490.675 182.891 L494.957 182.891 Z\" fill=\"#000000\" fill-rule=\"evenodd\" fill-opacity=\"1\" /><path clip-path=\"url(#clip730)\" d=\"M524.355 194.233 Q523.638 193.817 522.781 193.631 Q521.948 193.423 520.93 193.423 Q517.318 193.423 515.374 195.784 Q513.453 198.122 513.453 202.52 L513.453 216.178 L509.17 216.178 L509.17 190.252 L513.453 190.252 L513.453 194.28 Q514.795 191.918 516.948 190.784 Q519.101 189.627 522.18 189.627 Q522.619 189.627 523.152 189.696 Q523.684 189.743 524.332 189.858 L524.355 194.233 Z\" fill=\"#000000\" fill-rule=\"evenodd\" fill-opacity=\"1\" /><path clip-path=\"url(#clip730)\" d=\"M528.383 205.946 L528.383 190.252 L532.642 190.252 L532.642 205.784 Q532.642 209.465 534.078 211.316 Q535.513 213.145 538.383 213.145 Q541.832 213.145 543.823 210.946 Q545.837 208.747 545.837 204.951 L545.837 190.252 L550.096 190.252 L550.096 216.178 L545.837 216.178 L545.837 212.196 Q544.286 214.557 542.226 215.715 Q540.189 216.849 537.48 216.849 Q533.013 216.849 530.698 214.071 Q528.383 211.293 528.383 205.946 M539.101 189.627 L539.101 189.627 Z\" fill=\"#000000\" fill-rule=\"evenodd\" fill-opacity=\"1\" /><path clip-path=\"url(#clip730)\" d=\"M581.045 202.15 L581.045 204.233 L561.462 204.233 Q561.74 208.631 564.101 210.946 Q566.485 213.238 570.721 213.238 Q573.175 213.238 575.466 212.636 Q577.781 212.034 580.05 210.83 L580.05 214.858 Q577.758 215.83 575.351 216.34 Q572.943 216.849 570.466 216.849 Q564.263 216.849 560.628 213.238 Q557.017 209.627 557.017 203.469 Q557.017 197.104 560.443 193.377 Q563.892 189.627 569.726 189.627 Q574.957 189.627 577.989 193.006 Q581.045 196.363 581.045 202.15 M576.786 200.9 Q576.739 197.405 574.818 195.321 Q572.92 193.238 569.772 193.238 Q566.207 193.238 564.054 195.252 Q561.925 197.266 561.601 200.923 L576.786 200.9 Z\" fill=\"#000000\" fill-rule=\"evenodd\" fill-opacity=\"1\" /><polyline clip-path=\"url(#clip730)\" style=\"stroke:#3da44d; stroke-linecap:round; stroke-linejoin:round; stroke-width:4; stroke-opacity:1; fill:none\" points=\"275.484,250.738 420.41,250.738 \"/>\n",
       "<path clip-path=\"url(#clip730)\" d=\"M444.564 233.458 L464.425 233.458 L464.425 237.393 L449.24 237.393 L449.24 247.578 L462.944 247.578 L462.944 251.513 L449.24 251.513 L449.24 268.018 L444.564 268.018 L444.564 233.458 Z\" fill=\"#000000\" fill-rule=\"evenodd\" fill-opacity=\"1\" /><path clip-path=\"url(#clip730)\" d=\"M468.198 242.092 L472.458 242.092 L472.458 268.018 L468.198 268.018 L468.198 242.092 M468.198 231.999 L472.458 231.999 L472.458 237.393 L468.198 237.393 L468.198 231.999 Z\" fill=\"#000000\" fill-rule=\"evenodd\" fill-opacity=\"1\" /><path clip-path=\"url(#clip730)\" d=\"M485.583 234.731 L485.583 242.092 L494.356 242.092 L494.356 245.402 L485.583 245.402 L485.583 259.476 Q485.583 262.647 486.439 263.55 Q487.319 264.453 489.981 264.453 L494.356 264.453 L494.356 268.018 L489.981 268.018 Q485.05 268.018 483.175 266.189 Q481.3 264.337 481.3 259.476 L481.3 245.402 L478.175 245.402 L478.175 242.092 L481.3 242.092 L481.3 234.731 L485.583 234.731 Z\" fill=\"#000000\" fill-rule=\"evenodd\" fill-opacity=\"1\" /><path clip-path=\"url(#clip730)\" d=\"M504.17 234.731 L504.17 242.092 L512.943 242.092 L512.943 245.402 L504.17 245.402 L504.17 259.476 Q504.17 262.647 505.027 263.55 Q505.906 264.453 508.568 264.453 L512.943 264.453 L512.943 268.018 L508.568 268.018 Q503.638 268.018 501.763 266.189 Q499.888 264.337 499.888 259.476 L499.888 245.402 L496.763 245.402 L496.763 242.092 L499.888 242.092 L499.888 234.731 L504.17 234.731 Z\" fill=\"#000000\" fill-rule=\"evenodd\" fill-opacity=\"1\" /><path clip-path=\"url(#clip730)\" d=\"M540.721 253.99 L540.721 256.073 L521.138 256.073 Q521.416 260.471 523.777 262.786 Q526.161 265.078 530.397 265.078 Q532.851 265.078 535.142 264.476 Q537.457 263.874 539.726 262.67 L539.726 266.698 Q537.434 267.67 535.027 268.18 Q532.619 268.689 530.142 268.689 Q523.939 268.689 520.305 265.078 Q516.693 261.467 516.693 255.309 Q516.693 248.944 520.119 245.217 Q523.568 241.467 529.402 241.467 Q534.633 241.467 537.666 244.846 Q540.721 248.203 540.721 253.99 M536.462 252.74 Q536.416 249.245 534.494 247.161 Q532.596 245.078 529.448 245.078 Q525.883 245.078 523.73 247.092 Q521.601 249.106 521.277 252.763 L536.462 252.74 Z\" fill=\"#000000\" fill-rule=\"evenodd\" fill-opacity=\"1\" /><path clip-path=\"url(#clip730)\" d=\"M564.772 246.027 L564.772 231.999 L569.031 231.999 L569.031 268.018 L564.772 268.018 L564.772 264.129 Q563.429 266.443 561.369 267.578 Q559.332 268.689 556.462 268.689 Q551.763 268.689 548.8 264.939 Q545.86 261.189 545.86 255.078 Q545.86 248.967 548.8 245.217 Q551.763 241.467 556.462 241.467 Q559.332 241.467 561.369 242.601 Q563.429 243.712 564.772 246.027 M550.258 255.078 Q550.258 259.777 552.179 262.462 Q554.124 265.124 557.503 265.124 Q560.883 265.124 562.827 262.462 Q564.772 259.777 564.772 255.078 Q564.772 250.379 562.827 247.717 Q560.883 245.032 557.503 245.032 Q554.124 245.032 552.179 247.717 Q550.258 250.379 550.258 255.078 Z\" fill=\"#000000\" fill-rule=\"evenodd\" fill-opacity=\"1\" /><path clip-path=\"url(#clip730)\" d=\"M596.994 264.129 L596.994 277.879 L592.712 277.879 L592.712 242.092 L596.994 242.092 L596.994 246.027 Q598.337 243.712 600.374 242.601 Q602.434 241.467 605.281 241.467 Q610.003 241.467 612.943 245.217 Q615.906 248.967 615.906 255.078 Q615.906 261.189 612.943 264.939 Q610.003 268.689 605.281 268.689 Q602.434 268.689 600.374 267.578 Q598.337 266.443 596.994 264.129 M611.485 255.078 Q611.485 250.379 609.54 247.717 Q607.619 245.032 604.239 245.032 Q600.86 245.032 598.915 247.717 Q596.994 250.379 596.994 255.078 Q596.994 259.777 598.915 262.462 Q600.86 265.124 604.239 265.124 Q607.619 265.124 609.54 262.462 Q611.485 259.777 611.485 255.078 Z\" fill=\"#000000\" fill-rule=\"evenodd\" fill-opacity=\"1\" /><path clip-path=\"url(#clip730)\" d=\"M633.012 245.078 Q629.586 245.078 627.596 247.763 Q625.605 250.425 625.605 255.078 Q625.605 259.731 627.572 262.416 Q629.563 265.078 633.012 265.078 Q636.415 265.078 638.406 262.393 Q640.396 259.707 640.396 255.078 Q640.396 250.471 638.406 247.786 Q636.415 245.078 633.012 245.078 M633.012 241.467 Q638.568 241.467 641.739 245.078 Q644.91 248.689 644.91 255.078 Q644.91 261.444 641.739 265.078 Q638.568 268.689 633.012 268.689 Q627.434 268.689 624.262 265.078 Q621.114 261.444 621.114 255.078 Q621.114 248.689 624.262 245.078 Q627.434 241.467 633.012 241.467 Z\" fill=\"#000000\" fill-rule=\"evenodd\" fill-opacity=\"1\" /><path clip-path=\"url(#clip730)\" d=\"M651.971 231.999 L656.23 231.999 L656.23 268.018 L651.971 268.018 L651.971 231.999 Z\" fill=\"#000000\" fill-rule=\"evenodd\" fill-opacity=\"1\" /><path clip-path=\"url(#clip730)\" d=\"M675.929 270.425 Q674.123 275.055 672.41 276.467 Q670.697 277.879 667.827 277.879 L664.424 277.879 L664.424 274.314 L666.924 274.314 Q668.683 274.314 669.656 273.48 Q670.628 272.647 671.808 269.545 L672.572 267.601 L662.086 242.092 L666.6 242.092 L674.702 262.369 L682.804 242.092 L687.318 242.092 L675.929 270.425 Z\" fill=\"#000000\" fill-rule=\"evenodd\" fill-opacity=\"1\" /><path clip-path=\"url(#clip730)\" d=\"M714.748 252.369 L714.748 268.018 L710.489 268.018 L710.489 252.508 Q710.489 248.828 709.054 246.999 Q707.618 245.17 704.748 245.17 Q701.299 245.17 699.308 247.37 Q697.317 249.569 697.317 253.365 L697.317 268.018 L693.035 268.018 L693.035 242.092 L697.317 242.092 L697.317 246.12 Q698.845 243.782 700.905 242.624 Q702.989 241.467 705.697 241.467 Q710.165 241.467 712.456 244.245 Q714.748 246.999 714.748 252.369 Z\" fill=\"#000000\" fill-rule=\"evenodd\" fill-opacity=\"1\" /><path clip-path=\"url(#clip730)\" d=\"M733.29 245.078 Q729.864 245.078 727.873 247.763 Q725.882 250.425 725.882 255.078 Q725.882 259.731 727.85 262.416 Q729.84 265.078 733.29 265.078 Q736.692 265.078 738.683 262.393 Q740.674 259.707 740.674 255.078 Q740.674 250.471 738.683 247.786 Q736.692 245.078 733.29 245.078 M733.29 241.467 Q738.845 241.467 742.016 245.078 Q745.188 248.689 745.188 255.078 Q745.188 261.444 742.016 265.078 Q738.845 268.689 733.29 268.689 Q727.711 268.689 724.54 265.078 Q721.391 261.444 721.391 255.078 Q721.391 248.689 724.54 245.078 Q727.711 241.467 733.29 241.467 Z\" fill=\"#000000\" fill-rule=\"evenodd\" fill-opacity=\"1\" /><path clip-path=\"url(#clip730)\" d=\"M772.433 247.069 Q774.03 244.198 776.252 242.833 Q778.474 241.467 781.484 241.467 Q785.535 241.467 787.734 244.314 Q789.933 247.138 789.933 252.369 L789.933 268.018 L785.65 268.018 L785.65 252.508 Q785.65 248.782 784.331 246.976 Q783.011 245.17 780.303 245.17 Q776.993 245.17 775.072 247.37 Q773.15 249.569 773.15 253.365 L773.15 268.018 L768.868 268.018 L768.868 252.508 Q768.868 248.758 767.549 246.976 Q766.229 245.17 763.475 245.17 Q760.211 245.17 758.289 247.393 Q756.368 249.592 756.368 253.365 L756.368 268.018 L752.086 268.018 L752.086 242.092 L756.368 242.092 L756.368 246.12 Q757.826 243.735 759.863 242.601 Q761.9 241.467 764.701 241.467 Q767.525 241.467 769.493 242.902 Q771.484 244.337 772.433 247.069 Z\" fill=\"#000000\" fill-rule=\"evenodd\" fill-opacity=\"1\" /><path clip-path=\"url(#clip730)\" d=\"M798.428 242.092 L802.687 242.092 L802.687 268.018 L798.428 268.018 L798.428 242.092 M798.428 231.999 L802.687 231.999 L802.687 237.393 L798.428 237.393 L798.428 231.999 Z\" fill=\"#000000\" fill-rule=\"evenodd\" fill-opacity=\"1\" /><path clip-path=\"url(#clip730)\" d=\"M823.382 254.985 Q818.22 254.985 816.229 256.166 Q814.238 257.346 814.238 260.194 Q814.238 262.462 815.72 263.805 Q817.224 265.124 819.794 265.124 Q823.335 265.124 825.465 262.624 Q827.618 260.101 827.618 255.934 L827.618 254.985 L823.382 254.985 M831.877 253.226 L831.877 268.018 L827.618 268.018 L827.618 264.082 Q826.159 266.443 823.983 267.578 Q821.808 268.689 818.659 268.689 Q814.678 268.689 812.317 266.467 Q809.979 264.221 809.979 260.471 Q809.979 256.096 812.896 253.874 Q815.835 251.652 821.646 251.652 L827.618 251.652 L827.618 251.235 Q827.618 248.295 825.673 246.698 Q823.752 245.078 820.257 245.078 Q818.034 245.078 815.928 245.61 Q813.821 246.143 811.877 247.207 L811.877 243.272 Q814.215 242.37 816.414 241.93 Q818.613 241.467 820.696 241.467 Q826.321 241.467 829.099 244.383 Q831.877 247.3 831.877 253.226 Z\" fill=\"#000000\" fill-rule=\"evenodd\" fill-opacity=\"1\" /><path clip-path=\"url(#clip730)\" d=\"M840.65 231.999 L844.909 231.999 L844.909 268.018 L840.65 268.018 L840.65 231.999 Z\" fill=\"#000000\" fill-rule=\"evenodd\" fill-opacity=\"1\" /></svg>\n"
      ]
     },
     "execution_count": 61,
     "metadata": {},
     "output_type": "execute_result"
    }
   ],
   "source": [
    "using Random, Distributions\n",
    "d = Normal(0,10)\n",
    "noise=rand(d,length(x))\n",
    "y_observed = y_true .+ noise\n",
    "\n",
    "using Plots\n",
    "using Polynomials: fit, Polynomials, coeffs\n",
    "# make scatter plot of y_observed along x\n",
    "scatter(x,y_observed, label=\"y observed\")\n",
    "\n",
    "# plot a line of y_true along x on scatter\n",
    "plot!(x,y_true, label=\"y true\")\n",
    "\n",
    "# plot a line of fitted polynomial along x on the same plot\n",
    "Polynomial([-2,3,1])\n",
    "line_fit = fit(x,y_observed,10)\n",
    "fit_coeff = coeffs(line_fit)\n",
    "y_fitted = (fit_coeff[1]) .+ (fit_coeff[2] .*x) .+ (fit_coeff[3].*x.^2) .+ (fit_coeff[4].*x.^3) .+ (fit_coeff[5].*x.^4) .+ (fit_coeff[6].*x.^5) .+ (fit_coeff[7].*x.^6) .+ (fit_coeff[8].*x.^7) .+ (fit_coeff[9] .* x.^8).+ (fit_coeff[10] .*x.^9) .+ (fit_coeff[11].* x.^10) \n",
    "plot!(x,y_fitted, label=\"Fitted polynomial\")"
   ]
  },
  {
   "cell_type": "markdown",
   "id": "151884d2",
   "metadata": {},
   "source": [
    "This graph shows the phenomemon of overfitting."
   ]
  },
  {
   "cell_type": "markdown",
   "id": "36028ee0",
   "metadata": {},
   "source": [
    "### 2.6\n",
    "\n",
    "1. Create a new independent parameter x_fit ranging from -11 to 11 with an increment of 0.1\n",
    "2. Plot the same three plots as in 2.3 again but apply the tenth order polynomial to x_fit instead of x\n"
   ]
  },
  {
   "cell_type": "code",
   "execution_count": 64,
   "id": "6c67a977",
   "metadata": {},
   "outputs": [
    {
     "data": {
      "image/svg+xml": [
       "<?xml version=\"1.0\" encoding=\"utf-8\"?>\n",
       "<svg xmlns=\"http://www.w3.org/2000/svg\" xmlns:xlink=\"http://www.w3.org/1999/xlink\" width=\"600\" height=\"400\" viewBox=\"0 0 2400 1600\">\n",
       "<defs>\n",
       "  <clipPath id=\"clip790\">\n",
       "    <rect x=\"0\" y=\"0\" width=\"2400\" height=\"1600\"/>\n",
       "  </clipPath>\n",
       "</defs>\n",
       "<path clip-path=\"url(#clip790)\" d=\"M0 1600 L2400 1600 L2400 0 L0 0  Z\" fill=\"#ffffff\" fill-rule=\"evenodd\" fill-opacity=\"1\"/>\n",
       "<defs>\n",
       "  <clipPath id=\"clip791\">\n",
       "    <rect x=\"480\" y=\"0\" width=\"1681\" height=\"1600\"/>\n",
       "  </clipPath>\n",
       "</defs>\n",
       "<path clip-path=\"url(#clip790)\" d=\"M170.857 1486.45 L2352.76 1486.45 L2352.76 47.2441 L170.857 47.2441  Z\" fill=\"#ffffff\" fill-rule=\"evenodd\" fill-opacity=\"1\"/>\n",
       "<defs>\n",
       "  <clipPath id=\"clip792\">\n",
       "    <rect x=\"170\" y=\"47\" width=\"2183\" height=\"1440\"/>\n",
       "  </clipPath>\n",
       "</defs>\n",
       "<polyline clip-path=\"url(#clip792)\" style=\"stroke:#000000; stroke-linecap:round; stroke-linejoin:round; stroke-width:2; stroke-opacity:0.1; fill:none\" points=\"326.173,1486.45 326.173,47.2441 \"/>\n",
       "<polyline clip-path=\"url(#clip792)\" style=\"stroke:#000000; stroke-linecap:round; stroke-linejoin:round; stroke-width:2; stroke-opacity:0.1; fill:none\" points=\"793.99,1486.45 793.99,47.2441 \"/>\n",
       "<polyline clip-path=\"url(#clip792)\" style=\"stroke:#000000; stroke-linecap:round; stroke-linejoin:round; stroke-width:2; stroke-opacity:0.1; fill:none\" points=\"1261.81,1486.45 1261.81,47.2441 \"/>\n",
       "<polyline clip-path=\"url(#clip792)\" style=\"stroke:#000000; stroke-linecap:round; stroke-linejoin:round; stroke-width:2; stroke-opacity:0.1; fill:none\" points=\"1729.62,1486.45 1729.62,47.2441 \"/>\n",
       "<polyline clip-path=\"url(#clip792)\" style=\"stroke:#000000; stroke-linecap:round; stroke-linejoin:round; stroke-width:2; stroke-opacity:0.1; fill:none\" points=\"2197.44,1486.45 2197.44,47.2441 \"/>\n",
       "<polyline clip-path=\"url(#clip790)\" style=\"stroke:#000000; stroke-linecap:round; stroke-linejoin:round; stroke-width:4; stroke-opacity:1; fill:none\" points=\"170.857,1486.45 2352.76,1486.45 \"/>\n",
       "<polyline clip-path=\"url(#clip790)\" style=\"stroke:#000000; stroke-linecap:round; stroke-linejoin:round; stroke-width:4; stroke-opacity:1; fill:none\" points=\"326.173,1486.45 326.173,1467.55 \"/>\n",
       "<polyline clip-path=\"url(#clip790)\" style=\"stroke:#000000; stroke-linecap:round; stroke-linejoin:round; stroke-width:4; stroke-opacity:1; fill:none\" points=\"793.99,1486.45 793.99,1467.55 \"/>\n",
       "<polyline clip-path=\"url(#clip790)\" style=\"stroke:#000000; stroke-linecap:round; stroke-linejoin:round; stroke-width:4; stroke-opacity:1; fill:none\" points=\"1261.81,1486.45 1261.81,1467.55 \"/>\n",
       "<polyline clip-path=\"url(#clip790)\" style=\"stroke:#000000; stroke-linecap:round; stroke-linejoin:round; stroke-width:4; stroke-opacity:1; fill:none\" points=\"1729.62,1486.45 1729.62,1467.55 \"/>\n",
       "<polyline clip-path=\"url(#clip790)\" style=\"stroke:#000000; stroke-linecap:round; stroke-linejoin:round; stroke-width:4; stroke-opacity:1; fill:none\" points=\"2197.44,1486.45 2197.44,1467.55 \"/>\n",
       "<path clip-path=\"url(#clip790)\" d=\"M280.235 1532.02 L309.911 1532.02 L309.911 1535.95 L280.235 1535.95 L280.235 1532.02 Z\" fill=\"#000000\" fill-rule=\"evenodd\" fill-opacity=\"1\" /><path clip-path=\"url(#clip790)\" d=\"M320.814 1544.91 L328.453 1544.91 L328.453 1518.55 L320.143 1520.21 L320.143 1515.95 L328.406 1514.29 L333.082 1514.29 L333.082 1544.91 L340.721 1544.91 L340.721 1548.85 L320.814 1548.85 L320.814 1544.91 Z\" fill=\"#000000\" fill-rule=\"evenodd\" fill-opacity=\"1\" /><path clip-path=\"url(#clip790)\" d=\"M360.166 1517.37 Q356.554 1517.37 354.726 1520.93 Q352.92 1524.47 352.92 1531.6 Q352.92 1538.71 354.726 1542.27 Q356.554 1545.82 360.166 1545.82 Q363.8 1545.82 365.605 1542.27 Q367.434 1538.71 367.434 1531.6 Q367.434 1524.47 365.605 1520.93 Q363.8 1517.37 360.166 1517.37 M360.166 1513.66 Q365.976 1513.66 369.031 1518.27 Q372.11 1522.85 372.11 1531.6 Q372.11 1540.33 369.031 1544.94 Q365.976 1549.52 360.166 1549.52 Q354.355 1549.52 351.277 1544.94 Q348.221 1540.33 348.221 1531.6 Q348.221 1522.85 351.277 1518.27 Q354.355 1513.66 360.166 1513.66 Z\" fill=\"#000000\" fill-rule=\"evenodd\" fill-opacity=\"1\" /><path clip-path=\"url(#clip790)\" d=\"M763.631 1532.02 L793.307 1532.02 L793.307 1535.95 L763.631 1535.95 L763.631 1532.02 Z\" fill=\"#000000\" fill-rule=\"evenodd\" fill-opacity=\"1\" /><path clip-path=\"url(#clip790)\" d=\"M803.446 1514.29 L821.802 1514.29 L821.802 1518.22 L807.728 1518.22 L807.728 1526.7 Q808.747 1526.35 809.765 1526.19 Q810.784 1526 811.802 1526 Q817.589 1526 820.969 1529.17 Q824.348 1532.34 824.348 1537.76 Q824.348 1543.34 820.876 1546.44 Q817.404 1549.52 811.084 1549.52 Q808.909 1549.52 806.64 1549.15 Q804.395 1548.78 801.987 1548.04 L801.987 1543.34 Q804.071 1544.47 806.293 1545.03 Q808.515 1545.58 810.992 1545.58 Q814.996 1545.58 817.334 1543.48 Q819.672 1541.37 819.672 1537.76 Q819.672 1534.15 817.334 1532.04 Q814.996 1529.94 810.992 1529.94 Q809.117 1529.94 807.242 1530.35 Q805.39 1530.77 803.446 1531.65 L803.446 1514.29 Z\" fill=\"#000000\" fill-rule=\"evenodd\" fill-opacity=\"1\" /><path clip-path=\"url(#clip790)\" d=\"M1261.81 1517.37 Q1258.2 1517.37 1256.37 1520.93 Q1254.56 1524.47 1254.56 1531.6 Q1254.56 1538.71 1256.37 1542.27 Q1258.2 1545.82 1261.81 1545.82 Q1265.44 1545.82 1267.25 1542.27 Q1269.08 1538.71 1269.08 1531.6 Q1269.08 1524.47 1267.25 1520.93 Q1265.44 1517.37 1261.81 1517.37 M1261.81 1513.66 Q1267.62 1513.66 1270.67 1518.27 Q1273.75 1522.85 1273.75 1531.6 Q1273.75 1540.33 1270.67 1544.94 Q1267.62 1549.52 1261.81 1549.52 Q1256 1549.52 1252.92 1544.94 Q1249.86 1540.33 1249.86 1531.6 Q1249.86 1522.85 1252.92 1518.27 Q1256 1513.66 1261.81 1513.66 Z\" fill=\"#000000\" fill-rule=\"evenodd\" fill-opacity=\"1\" /><path clip-path=\"url(#clip790)\" d=\"M1719.9 1514.29 L1738.26 1514.29 L1738.26 1518.22 L1724.18 1518.22 L1724.18 1526.7 Q1725.2 1526.35 1726.22 1526.19 Q1727.24 1526 1728.26 1526 Q1734.04 1526 1737.42 1529.17 Q1740.8 1532.34 1740.8 1537.76 Q1740.8 1543.34 1737.33 1546.44 Q1733.86 1549.52 1727.54 1549.52 Q1725.36 1549.52 1723.1 1549.15 Q1720.85 1548.78 1718.44 1548.04 L1718.44 1543.34 Q1720.53 1544.47 1722.75 1545.03 Q1724.97 1545.58 1727.45 1545.58 Q1731.45 1545.58 1733.79 1543.48 Q1736.13 1541.37 1736.13 1537.76 Q1736.13 1534.15 1733.79 1532.04 Q1731.45 1529.94 1727.45 1529.94 Q1725.57 1529.94 1723.7 1530.35 Q1721.85 1530.77 1719.9 1531.65 L1719.9 1514.29 Z\" fill=\"#000000\" fill-rule=\"evenodd\" fill-opacity=\"1\" /><path clip-path=\"url(#clip790)\" d=\"M2172.13 1544.91 L2179.77 1544.91 L2179.77 1518.55 L2171.46 1520.21 L2171.46 1515.95 L2179.72 1514.29 L2184.4 1514.29 L2184.4 1544.91 L2192.04 1544.91 L2192.04 1548.85 L2172.13 1548.85 L2172.13 1544.91 Z\" fill=\"#000000\" fill-rule=\"evenodd\" fill-opacity=\"1\" /><path clip-path=\"url(#clip790)\" d=\"M2211.48 1517.37 Q2207.87 1517.37 2206.04 1520.93 Q2204.23 1524.47 2204.23 1531.6 Q2204.23 1538.71 2206.04 1542.27 Q2207.87 1545.82 2211.48 1545.82 Q2215.11 1545.82 2216.92 1542.27 Q2218.75 1538.71 2218.75 1531.6 Q2218.75 1524.47 2216.92 1520.93 Q2215.11 1517.37 2211.48 1517.37 M2211.48 1513.66 Q2217.29 1513.66 2220.35 1518.27 Q2223.42 1522.85 2223.42 1531.6 Q2223.42 1540.33 2220.35 1544.94 Q2217.29 1549.52 2211.48 1549.52 Q2205.67 1549.52 2202.59 1544.94 Q2199.54 1540.33 2199.54 1531.6 Q2199.54 1522.85 2202.59 1518.27 Q2205.67 1513.66 2211.48 1513.66 Z\" fill=\"#000000\" fill-rule=\"evenodd\" fill-opacity=\"1\" /><polyline clip-path=\"url(#clip792)\" style=\"stroke:#000000; stroke-linecap:round; stroke-linejoin:round; stroke-width:2; stroke-opacity:0.1; fill:none\" points=\"170.857,1378.07 2352.76,1378.07 \"/>\n",
       "<polyline clip-path=\"url(#clip792)\" style=\"stroke:#000000; stroke-linecap:round; stroke-linejoin:round; stroke-width:2; stroke-opacity:0.1; fill:none\" points=\"170.857,974.063 2352.76,974.063 \"/>\n",
       "<polyline clip-path=\"url(#clip792)\" style=\"stroke:#000000; stroke-linecap:round; stroke-linejoin:round; stroke-width:2; stroke-opacity:0.1; fill:none\" points=\"170.857,570.061 2352.76,570.061 \"/>\n",
       "<polyline clip-path=\"url(#clip792)\" style=\"stroke:#000000; stroke-linecap:round; stroke-linejoin:round; stroke-width:2; stroke-opacity:0.1; fill:none\" points=\"170.857,166.059 2352.76,166.059 \"/>\n",
       "<polyline clip-path=\"url(#clip790)\" style=\"stroke:#000000; stroke-linecap:round; stroke-linejoin:round; stroke-width:4; stroke-opacity:1; fill:none\" points=\"170.857,1486.45 170.857,47.2441 \"/>\n",
       "<polyline clip-path=\"url(#clip790)\" style=\"stroke:#000000; stroke-linecap:round; stroke-linejoin:round; stroke-width:4; stroke-opacity:1; fill:none\" points=\"170.857,1378.07 189.755,1378.07 \"/>\n",
       "<polyline clip-path=\"url(#clip790)\" style=\"stroke:#000000; stroke-linecap:round; stroke-linejoin:round; stroke-width:4; stroke-opacity:1; fill:none\" points=\"170.857,974.063 189.755,974.063 \"/>\n",
       "<polyline clip-path=\"url(#clip790)\" style=\"stroke:#000000; stroke-linecap:round; stroke-linejoin:round; stroke-width:4; stroke-opacity:1; fill:none\" points=\"170.857,570.061 189.755,570.061 \"/>\n",
       "<polyline clip-path=\"url(#clip790)\" style=\"stroke:#000000; stroke-linecap:round; stroke-linejoin:round; stroke-width:4; stroke-opacity:1; fill:none\" points=\"170.857,166.059 189.755,166.059 \"/>\n",
       "<path clip-path=\"url(#clip790)\" d=\"M122.913 1363.86 Q119.302 1363.86 117.473 1367.43 Q115.668 1370.97 115.668 1378.1 Q115.668 1385.21 117.473 1388.77 Q119.302 1392.31 122.913 1392.31 Q126.547 1392.31 128.353 1388.77 Q130.182 1385.21 130.182 1378.1 Q130.182 1370.97 128.353 1367.43 Q126.547 1363.86 122.913 1363.86 M122.913 1360.16 Q128.723 1360.16 131.779 1364.77 Q134.857 1369.35 134.857 1378.1 Q134.857 1386.83 131.779 1391.43 Q128.723 1396.02 122.913 1396.02 Q117.103 1396.02 114.024 1391.43 Q110.969 1386.83 110.969 1378.1 Q110.969 1369.35 114.024 1364.77 Q117.103 1360.16 122.913 1360.16 Z\" fill=\"#000000\" fill-rule=\"evenodd\" fill-opacity=\"1\" /><path clip-path=\"url(#clip790)\" d=\"M53.3995 987.408 L61.0384 987.408 L61.0384 961.043 L52.7282 962.709 L52.7282 958.45 L60.9921 956.783 L65.668 956.783 L65.668 987.408 L73.3068 987.408 L73.3068 991.343 L53.3995 991.343 L53.3995 987.408 Z\" fill=\"#000000\" fill-rule=\"evenodd\" fill-opacity=\"1\" /><path clip-path=\"url(#clip790)\" d=\"M92.7512 959.862 Q89.1401 959.862 87.3114 963.427 Q85.5058 966.969 85.5058 974.098 Q85.5058 981.205 87.3114 984.769 Q89.1401 988.311 92.7512 988.311 Q96.3854 988.311 98.1909 984.769 Q100.02 981.205 100.02 974.098 Q100.02 966.969 98.1909 963.427 Q96.3854 959.862 92.7512 959.862 M92.7512 956.158 Q98.5613 956.158 101.617 960.765 Q104.696 965.348 104.696 974.098 Q104.696 982.825 101.617 987.431 Q98.5613 992.015 92.7512 992.015 Q86.941 992.015 83.8623 987.431 Q80.8068 982.825 80.8068 974.098 Q80.8068 965.348 83.8623 960.765 Q86.941 956.158 92.7512 956.158 Z\" fill=\"#000000\" fill-rule=\"evenodd\" fill-opacity=\"1\" /><path clip-path=\"url(#clip790)\" d=\"M122.913 959.862 Q119.302 959.862 117.473 963.427 Q115.668 966.969 115.668 974.098 Q115.668 981.205 117.473 984.769 Q119.302 988.311 122.913 988.311 Q126.547 988.311 128.353 984.769 Q130.182 981.205 130.182 974.098 Q130.182 966.969 128.353 963.427 Q126.547 959.862 122.913 959.862 M122.913 956.158 Q128.723 956.158 131.779 960.765 Q134.857 965.348 134.857 974.098 Q134.857 982.825 131.779 987.431 Q128.723 992.015 122.913 992.015 Q117.103 992.015 114.024 987.431 Q110.969 982.825 110.969 974.098 Q110.969 965.348 114.024 960.765 Q117.103 956.158 122.913 956.158 Z\" fill=\"#000000\" fill-rule=\"evenodd\" fill-opacity=\"1\" /><path clip-path=\"url(#clip790)\" d=\"M56.6171 583.406 L72.9365 583.406 L72.9365 587.341 L50.9921 587.341 L50.9921 583.406 Q53.6541 580.651 58.2375 576.022 Q62.8439 571.369 64.0245 570.027 Q66.2698 567.503 67.1494 565.767 Q68.0522 564.008 68.0522 562.318 Q68.0522 559.564 66.1078 557.827 Q64.1865 556.091 61.0847 556.091 Q58.8856 556.091 56.4319 556.855 Q54.0014 557.619 51.2236 559.17 L51.2236 554.448 Q54.0477 553.314 56.5014 552.735 Q58.955 552.156 60.9921 552.156 Q66.3624 552.156 69.5568 554.841 Q72.7513 557.527 72.7513 562.017 Q72.7513 564.147 71.9411 566.068 Q71.1541 567.966 69.0476 570.559 Q68.4689 571.23 65.367 574.448 Q62.2652 577.642 56.6171 583.406 Z\" fill=\"#000000\" fill-rule=\"evenodd\" fill-opacity=\"1\" /><path clip-path=\"url(#clip790)\" d=\"M92.7512 555.86 Q89.1401 555.86 87.3114 559.425 Q85.5058 562.966 85.5058 570.096 Q85.5058 577.202 87.3114 580.767 Q89.1401 584.309 92.7512 584.309 Q96.3854 584.309 98.1909 580.767 Q100.02 577.202 100.02 570.096 Q100.02 562.966 98.1909 559.425 Q96.3854 555.86 92.7512 555.86 M92.7512 552.156 Q98.5613 552.156 101.617 556.763 Q104.696 561.346 104.696 570.096 Q104.696 578.823 101.617 583.429 Q98.5613 588.013 92.7512 588.013 Q86.941 588.013 83.8623 583.429 Q80.8068 578.823 80.8068 570.096 Q80.8068 561.346 83.8623 556.763 Q86.941 552.156 92.7512 552.156 Z\" fill=\"#000000\" fill-rule=\"evenodd\" fill-opacity=\"1\" /><path clip-path=\"url(#clip790)\" d=\"M122.913 555.86 Q119.302 555.86 117.473 559.425 Q115.668 562.966 115.668 570.096 Q115.668 577.202 117.473 580.767 Q119.302 584.309 122.913 584.309 Q126.547 584.309 128.353 580.767 Q130.182 577.202 130.182 570.096 Q130.182 562.966 128.353 559.425 Q126.547 555.86 122.913 555.86 M122.913 552.156 Q128.723 552.156 131.779 556.763 Q134.857 561.346 134.857 570.096 Q134.857 578.823 131.779 583.429 Q128.723 588.013 122.913 588.013 Q117.103 588.013 114.024 583.429 Q110.969 578.823 110.969 570.096 Q110.969 561.346 114.024 556.763 Q117.103 552.156 122.913 552.156 Z\" fill=\"#000000\" fill-rule=\"evenodd\" fill-opacity=\"1\" /><path clip-path=\"url(#clip790)\" d=\"M66.7559 164.705 Q70.1124 165.422 71.9874 167.691 Q73.8855 169.959 73.8855 173.293 Q73.8855 178.408 70.367 181.209 Q66.8485 184.01 60.3671 184.01 Q58.1912 184.01 55.8764 183.57 Q53.5847 183.154 51.131 182.297 L51.131 177.783 Q53.0754 178.918 55.3903 179.496 Q57.7051 180.075 60.2282 180.075 Q64.6263 180.075 66.918 178.339 Q69.2328 176.603 69.2328 173.293 Q69.2328 170.237 67.08 168.524 Q64.9504 166.788 61.131 166.788 L57.1032 166.788 L57.1032 162.946 L61.3161 162.946 Q64.7652 162.946 66.5939 161.58 Q68.4226 160.191 68.4226 157.598 Q68.4226 154.936 66.5245 153.524 Q64.6495 152.089 61.131 152.089 Q59.2097 152.089 57.0106 152.506 Q54.8115 152.922 52.1727 153.802 L52.1727 149.635 Q54.8347 148.895 57.1495 148.524 Q59.4875 148.154 61.5476 148.154 Q66.8717 148.154 69.9735 150.585 Q73.0753 152.992 73.0753 157.112 Q73.0753 159.983 71.4318 161.973 Q69.7883 163.941 66.7559 164.705 Z\" fill=\"#000000\" fill-rule=\"evenodd\" fill-opacity=\"1\" /><path clip-path=\"url(#clip790)\" d=\"M92.7512 151.858 Q89.1401 151.858 87.3114 155.422 Q85.5058 158.964 85.5058 166.094 Q85.5058 173.2 87.3114 176.765 Q89.1401 180.307 92.7512 180.307 Q96.3854 180.307 98.1909 176.765 Q100.02 173.2 100.02 166.094 Q100.02 158.964 98.1909 155.422 Q96.3854 151.858 92.7512 151.858 M92.7512 148.154 Q98.5613 148.154 101.617 152.76 Q104.696 157.344 104.696 166.094 Q104.696 174.821 101.617 179.427 Q98.5613 184.01 92.7512 184.01 Q86.941 184.01 83.8623 179.427 Q80.8068 174.821 80.8068 166.094 Q80.8068 157.344 83.8623 152.76 Q86.941 148.154 92.7512 148.154 Z\" fill=\"#000000\" fill-rule=\"evenodd\" fill-opacity=\"1\" /><path clip-path=\"url(#clip790)\" d=\"M122.913 151.858 Q119.302 151.858 117.473 155.422 Q115.668 158.964 115.668 166.094 Q115.668 173.2 117.473 176.765 Q119.302 180.307 122.913 180.307 Q126.547 180.307 128.353 176.765 Q130.182 173.2 130.182 166.094 Q130.182 158.964 128.353 155.422 Q126.547 151.858 122.913 151.858 M122.913 148.154 Q128.723 148.154 131.779 152.76 Q134.857 157.344 134.857 166.094 Q134.857 174.821 131.779 179.427 Q128.723 184.01 122.913 184.01 Q117.103 184.01 114.024 179.427 Q110.969 174.821 110.969 166.094 Q110.969 157.344 114.024 152.76 Q117.103 148.154 122.913 148.154 Z\" fill=\"#000000\" fill-rule=\"evenodd\" fill-opacity=\"1\" /><circle clip-path=\"url(#clip792)\" cx=\"326.173\" cy=\"1127.05\" r=\"14.4\" fill=\"#009af9\" fill-rule=\"evenodd\" fill-opacity=\"1\" stroke=\"#000000\" stroke-opacity=\"1\" stroke-width=\"3.2\"/>\n",
       "<circle clip-path=\"url(#clip792)\" cx=\"419.736\" cy=\"1144.09\" r=\"14.4\" fill=\"#009af9\" fill-rule=\"evenodd\" fill-opacity=\"1\" stroke=\"#000000\" stroke-opacity=\"1\" stroke-width=\"3.2\"/>\n",
       "<circle clip-path=\"url(#clip792)\" cx=\"513.299\" cy=\"1197.28\" r=\"14.4\" fill=\"#009af9\" fill-rule=\"evenodd\" fill-opacity=\"1\" stroke=\"#000000\" stroke-opacity=\"1\" stroke-width=\"3.2\"/>\n",
       "<circle clip-path=\"url(#clip792)\" cx=\"606.863\" cy=\"1210.09\" r=\"14.4\" fill=\"#009af9\" fill-rule=\"evenodd\" fill-opacity=\"1\" stroke=\"#000000\" stroke-opacity=\"1\" stroke-width=\"3.2\"/>\n",
       "<circle clip-path=\"url(#clip792)\" cx=\"700.426\" cy=\"1317.83\" r=\"14.4\" fill=\"#009af9\" fill-rule=\"evenodd\" fill-opacity=\"1\" stroke=\"#000000\" stroke-opacity=\"1\" stroke-width=\"3.2\"/>\n",
       "<circle clip-path=\"url(#clip792)\" cx=\"793.99\" cy=\"1396.76\" r=\"14.4\" fill=\"#009af9\" fill-rule=\"evenodd\" fill-opacity=\"1\" stroke=\"#000000\" stroke-opacity=\"1\" stroke-width=\"3.2\"/>\n",
       "<circle clip-path=\"url(#clip792)\" cx=\"887.553\" cy=\"1379.98\" r=\"14.4\" fill=\"#009af9\" fill-rule=\"evenodd\" fill-opacity=\"1\" stroke=\"#000000\" stroke-opacity=\"1\" stroke-width=\"3.2\"/>\n",
       "<circle clip-path=\"url(#clip792)\" cx=\"981.116\" cy=\"1439.75\" r=\"14.4\" fill=\"#009af9\" fill-rule=\"evenodd\" fill-opacity=\"1\" stroke=\"#000000\" stroke-opacity=\"1\" stroke-width=\"3.2\"/>\n",
       "<circle clip-path=\"url(#clip792)\" cx=\"1074.68\" cy=\"1423.25\" r=\"14.4\" fill=\"#009af9\" fill-rule=\"evenodd\" fill-opacity=\"1\" stroke=\"#000000\" stroke-opacity=\"1\" stroke-width=\"3.2\"/>\n",
       "<circle clip-path=\"url(#clip792)\" cx=\"1168.24\" cy=\"1445.72\" r=\"14.4\" fill=\"#009af9\" fill-rule=\"evenodd\" fill-opacity=\"1\" stroke=\"#000000\" stroke-opacity=\"1\" stroke-width=\"3.2\"/>\n",
       "<circle clip-path=\"url(#clip792)\" cx=\"1261.81\" cy=\"1378.63\" r=\"14.4\" fill=\"#009af9\" fill-rule=\"evenodd\" fill-opacity=\"1\" stroke=\"#000000\" stroke-opacity=\"1\" stroke-width=\"3.2\"/>\n",
       "<circle clip-path=\"url(#clip792)\" cx=\"1355.37\" cy=\"1341.59\" r=\"14.4\" fill=\"#009af9\" fill-rule=\"evenodd\" fill-opacity=\"1\" stroke=\"#000000\" stroke-opacity=\"1\" stroke-width=\"3.2\"/>\n",
       "<circle clip-path=\"url(#clip792)\" cx=\"1448.93\" cy=\"1352.83\" r=\"14.4\" fill=\"#009af9\" fill-rule=\"evenodd\" fill-opacity=\"1\" stroke=\"#000000\" stroke-opacity=\"1\" stroke-width=\"3.2\"/>\n",
       "<circle clip-path=\"url(#clip792)\" cx=\"1542.5\" cy=\"1301.78\" r=\"14.4\" fill=\"#009af9\" fill-rule=\"evenodd\" fill-opacity=\"1\" stroke=\"#000000\" stroke-opacity=\"1\" stroke-width=\"3.2\"/>\n",
       "<circle clip-path=\"url(#clip792)\" cx=\"1636.06\" cy=\"1240.97\" r=\"14.4\" fill=\"#009af9\" fill-rule=\"evenodd\" fill-opacity=\"1\" stroke=\"#000000\" stroke-opacity=\"1\" stroke-width=\"3.2\"/>\n",
       "<circle clip-path=\"url(#clip792)\" cx=\"1729.62\" cy=\"1194.86\" r=\"14.4\" fill=\"#009af9\" fill-rule=\"evenodd\" fill-opacity=\"1\" stroke=\"#000000\" stroke-opacity=\"1\" stroke-width=\"3.2\"/>\n",
       "<circle clip-path=\"url(#clip792)\" cx=\"1823.19\" cy=\"1247.33\" r=\"14.4\" fill=\"#009af9\" fill-rule=\"evenodd\" fill-opacity=\"1\" stroke=\"#000000\" stroke-opacity=\"1\" stroke-width=\"3.2\"/>\n",
       "<circle clip-path=\"url(#clip792)\" cx=\"1916.75\" cy=\"1067.12\" r=\"14.4\" fill=\"#009af9\" fill-rule=\"evenodd\" fill-opacity=\"1\" stroke=\"#000000\" stroke-opacity=\"1\" stroke-width=\"3.2\"/>\n",
       "<circle clip-path=\"url(#clip792)\" cx=\"2010.31\" cy=\"1062.25\" r=\"14.4\" fill=\"#009af9\" fill-rule=\"evenodd\" fill-opacity=\"1\" stroke=\"#000000\" stroke-opacity=\"1\" stroke-width=\"3.2\"/>\n",
       "<circle clip-path=\"url(#clip792)\" cx=\"2103.88\" cy=\"999.179\" r=\"14.4\" fill=\"#009af9\" fill-rule=\"evenodd\" fill-opacity=\"1\" stroke=\"#000000\" stroke-opacity=\"1\" stroke-width=\"3.2\"/>\n",
       "<circle clip-path=\"url(#clip792)\" cx=\"2197.44\" cy=\"861.247\" r=\"14.4\" fill=\"#009af9\" fill-rule=\"evenodd\" fill-opacity=\"1\" stroke=\"#000000\" stroke-opacity=\"1\" stroke-width=\"3.2\"/>\n",
       "<polyline clip-path=\"url(#clip792)\" style=\"stroke:#e26f46; stroke-linecap:round; stroke-linejoin:round; stroke-width:4; stroke-opacity:1; fill:none\" points=\"326.173,1103.34 419.736,1167.98 513.299,1224.54 606.863,1273.03 700.426,1313.43 793.99,1345.75 887.553,1369.99 981.116,1386.15 1074.68,1394.23 1168.24,1394.23 1261.81,1386.15 1355.37,1369.99 1448.93,1345.75 1542.5,1313.43 1636.06,1273.03 1729.62,1224.54 1823.19,1167.98 1916.75,1103.34 2010.31,1030.62 2103.88,949.823 2197.44,860.943 \"/>\n",
       "<polyline clip-path=\"url(#clip792)\" style=\"stroke:#3da44d; stroke-linecap:round; stroke-linejoin:round; stroke-width:4; stroke-opacity:1; fill:none\" points=\"232.609,717.162 241.966,800.17 251.322,870.173 260.678,928.78 270.035,977.448 279.391,1017.49 288.747,1050.1 298.104,1076.33 307.46,1097.14 316.816,1113.37 326.173,1125.78 335.529,1135.04 344.885,1141.74 354.242,1146.39 363.598,1149.45 372.954,1151.3 382.311,1152.29 391.667,1152.71 401.023,1152.79 410.38,1152.75 419.736,1152.75 429.092,1152.93 438.449,1153.4 447.805,1154.26 457.161,1155.55 466.518,1157.33 475.874,1159.62 485.23,1162.43 494.587,1165.78 503.943,1169.64 513.299,1174.01 522.656,1178.85 532.012,1184.14 541.368,1189.85 550.725,1195.93 560.081,1202.35 569.438,1209.07 578.794,1216.04 588.15,1223.22 597.507,1230.57 606.863,1238.06 616.219,1245.64 625.576,1253.27 634.932,1260.92 644.288,1268.56 653.645,1276.16 663.001,1283.69 672.357,1291.12 681.714,1298.43 691.07,1305.6 700.426,1312.61 709.783,1319.45 719.139,1326.1 728.495,1332.55 737.852,1338.79 747.208,1344.82 756.564,1350.63 765.921,1356.21 775.277,1361.57 784.633,1366.7 793.99,1371.6 803.346,1376.27 812.702,1380.73 822.059,1384.96 831.415,1388.98 840.771,1392.78 850.128,1396.38 859.484,1399.78 868.84,1402.98 878.197,1405.99 887.553,1408.82 896.909,1411.46 906.266,1413.93 915.622,1416.23 924.978,1418.36 934.335,1420.33 943.691,1422.14 953.047,1423.79 962.404,1425.29 971.76,1426.65 981.116,1427.85 990.473,1428.92 999.829,1429.83 1009.19,1430.6 1018.54,1431.23 1027.9,1431.72 1037.25,1432.07 1046.61,1432.27 1055.97,1432.33 1065.32,1432.24 1074.68,1432.01 1084.04,1431.64 1093.39,1431.12 1102.75,1430.45 1112.11,1429.63 1121.46,1428.67 1130.82,1427.55 1140.17,1426.29 1149.53,1424.88 1158.89,1423.32 1168.24,1421.61 1177.6,1419.76 1186.96,1417.76 1196.31,1415.62 1205.67,1413.34 1215.02,1410.92 1224.38,1408.37 1233.74,1405.69 1243.09,1402.88 1252.45,1399.96 1261.81,1396.92 1271.16,1393.77 1280.52,1390.52 1289.88,1387.17 1299.23,1383.74 1308.59,1380.23 1317.94,1376.64 1327.3,1373 1336.66,1369.29 1346.01,1365.55 1355.37,1361.76 1364.73,1357.95 1374.08,1354.11 1383.44,1350.27 1392.8,1346.42 1402.15,1342.58 1411.51,1338.75 1420.86,1334.95 1430.22,1331.17 1439.58,1327.43 1448.93,1323.74 1458.29,1320.09 1467.65,1316.49 1477,1312.95 1486.36,1309.48 1495.72,1306.06 1505.07,1302.71 1514.43,1299.42 1523.78,1296.2 1533.14,1293.04 1542.5,1289.94 1551.85,1286.9 1561.21,1283.9 1570.57,1280.96 1579.92,1278.05 1589.28,1275.18 1598.63,1272.32 1607.99,1269.48 1617.35,1266.65 1626.7,1263.8 1636.06,1260.93 1645.42,1258.03 1654.77,1255.08 1664.13,1252.07 1673.49,1248.99 1682.84,1245.82 1692.2,1242.54 1701.55,1239.15 1710.91,1235.63 1720.27,1231.97 1729.62,1228.15 1738.98,1224.16 1748.34,1220 1757.69,1215.65 1767.05,1211.11 1776.41,1206.36 1785.76,1201.41 1795.12,1196.26 1804.47,1190.89 1813.83,1185.32 1823.19,1179.54 1832.54,1173.57 1841.9,1167.42 1851.26,1161.08 1860.61,1154.59 1869.97,1147.95 1879.33,1141.19 1888.68,1134.33 1898.04,1127.38 1907.39,1120.39 1916.75,1113.37 1926.11,1106.36 1935.46,1099.38 1944.82,1092.47 1954.18,1085.67 1963.53,1078.99 1972.89,1072.47 1982.24,1066.14 1991.6,1060.02 2000.96,1054.13 2010.31,1048.48 2019.67,1043.07 2029.03,1037.91 2038.38,1032.98 2047.74,1028.24 2057.1,1023.66 2066.45,1019.18 2075.81,1014.71 2085.16,1010.15 2094.52,1005.36 2103.88,1000.19 2113.23,994.442 2122.59,987.875 2131.95,980.216 2141.3,971.141 2150.66,960.274 2160.02,947.179 2169.37,931.358 2178.73,912.242 2188.08,889.182 2197.44,861.449 2206.8,828.216 2216.15,788.56 2225.51,741.444 2234.87,685.713 2244.22,620.082 2253.58,543.127 2262.94,453.269 2272.29,348.769 2281.65,227.708 2291,87.9763 \"/>\n",
       "<path clip-path=\"url(#clip790)\" d=\"M243.587 302.578 L718.952 302.578 L718.952 95.2176 L243.587 95.2176  Z\" fill=\"#ffffff\" fill-rule=\"evenodd\" fill-opacity=\"1\"/>\n",
       "<polyline clip-path=\"url(#clip790)\" style=\"stroke:#000000; stroke-linecap:round; stroke-linejoin:round; stroke-width:4; stroke-opacity:1; fill:none\" points=\"243.587,302.578 718.952,302.578 718.952,95.2176 243.587,95.2176 243.587,302.578 \"/>\n",
       "<circle clip-path=\"url(#clip790)\" cx=\"340.561\" cy=\"147.058\" r=\"23.04\" fill=\"#009af9\" fill-rule=\"evenodd\" fill-opacity=\"1\" stroke=\"#000000\" stroke-opacity=\"1\" stroke-width=\"5.12\"/>\n",
       "<path clip-path=\"url(#clip790)\" d=\"M451.376 166.745 Q449.571 171.375 447.858 172.787 Q446.145 174.199 443.275 174.199 L439.872 174.199 L439.872 170.634 L442.372 170.634 Q444.131 170.634 445.103 169.8 Q446.076 168.967 447.256 165.865 L448.02 163.921 L437.534 138.412 L442.048 138.412 L450.15 158.689 L458.251 138.412 L462.765 138.412 L451.376 166.745 Z\" fill=\"#000000\" fill-rule=\"evenodd\" fill-opacity=\"1\" /><path clip-path=\"url(#clip790)\" d=\"M493.76 141.398 Q490.335 141.398 488.344 144.083 Q486.353 146.745 486.353 151.398 Q486.353 156.051 488.321 158.736 Q490.311 161.398 493.76 161.398 Q497.163 161.398 499.154 158.713 Q501.145 156.027 501.145 151.398 Q501.145 146.791 499.154 144.106 Q497.163 141.398 493.76 141.398 M493.76 137.787 Q499.316 137.787 502.487 141.398 Q505.659 145.009 505.659 151.398 Q505.659 157.764 502.487 161.398 Q499.316 165.009 493.76 165.009 Q488.182 165.009 485.01 161.398 Q481.862 157.764 481.862 151.398 Q481.862 145.009 485.01 141.398 Q488.182 137.787 493.76 137.787 Z\" fill=\"#000000\" fill-rule=\"evenodd\" fill-opacity=\"1\" /><path clip-path=\"url(#clip790)\" d=\"M531.33 151.398 Q531.33 146.699 529.385 144.037 Q527.464 141.352 524.084 141.352 Q520.705 141.352 518.76 144.037 Q516.839 146.699 516.839 151.398 Q516.839 156.097 518.76 158.782 Q520.705 161.444 524.084 161.444 Q527.464 161.444 529.385 158.782 Q531.33 156.097 531.33 151.398 M516.839 142.347 Q518.182 140.032 520.219 138.921 Q522.279 137.787 525.126 137.787 Q529.848 137.787 532.788 141.537 Q535.751 145.287 535.751 151.398 Q535.751 157.509 532.788 161.259 Q529.848 165.009 525.126 165.009 Q522.279 165.009 520.219 163.898 Q518.182 162.763 516.839 160.449 L516.839 164.338 L512.557 164.338 L512.557 128.319 L516.839 128.319 L516.839 142.347 Z\" fill=\"#000000\" fill-rule=\"evenodd\" fill-opacity=\"1\" /><path clip-path=\"url(#clip790)\" d=\"M559.339 139.176 L559.339 143.203 Q557.533 142.277 555.589 141.815 Q553.644 141.352 551.561 141.352 Q548.39 141.352 546.793 142.324 Q545.219 143.296 545.219 145.24 Q545.219 146.722 546.353 147.578 Q547.487 148.412 550.913 149.176 L552.371 149.5 Q556.908 150.472 558.806 152.254 Q560.728 154.014 560.728 157.185 Q560.728 160.796 557.857 162.902 Q555.01 165.009 550.01 165.009 Q547.927 165.009 545.658 164.592 Q543.413 164.199 540.913 163.388 L540.913 158.99 Q543.274 160.217 545.566 160.842 Q547.857 161.444 550.103 161.444 Q553.112 161.444 554.732 160.426 Q556.353 159.384 556.353 157.509 Q556.353 155.773 555.172 154.847 Q554.015 153.921 550.056 153.064 L548.575 152.717 Q544.617 151.884 542.857 150.171 Q541.098 148.435 541.098 145.426 Q541.098 141.768 543.691 139.778 Q546.283 137.787 551.052 137.787 Q553.413 137.787 555.496 138.134 Q557.58 138.481 559.339 139.176 Z\" fill=\"#000000\" fill-rule=\"evenodd\" fill-opacity=\"1\" /><path clip-path=\"url(#clip790)\" d=\"M589.686 150.31 L589.686 152.393 L570.103 152.393 Q570.38 156.791 572.742 159.106 Q575.126 161.398 579.362 161.398 Q581.816 161.398 584.107 160.796 Q586.422 160.194 588.69 158.99 L588.69 163.018 Q586.399 163.99 583.991 164.5 Q581.584 165.009 579.107 165.009 Q572.904 165.009 569.269 161.398 Q565.658 157.787 565.658 151.629 Q565.658 145.264 569.084 141.537 Q572.533 137.787 578.366 137.787 Q583.598 137.787 586.63 141.166 Q589.686 144.523 589.686 150.31 M585.427 149.06 Q585.38 145.565 583.459 143.481 Q581.561 141.398 578.413 141.398 Q574.848 141.398 572.695 143.412 Q570.566 145.426 570.242 149.083 L585.427 149.06 Z\" fill=\"#000000\" fill-rule=\"evenodd\" fill-opacity=\"1\" /><path clip-path=\"url(#clip790)\" d=\"M611.7 142.393 Q610.982 141.977 610.126 141.791 Q609.292 141.583 608.274 141.583 Q604.663 141.583 602.718 143.944 Q600.797 146.282 600.797 150.68 L600.797 164.338 L596.515 164.338 L596.515 138.412 L600.797 138.412 L600.797 142.44 Q602.139 140.078 604.292 138.944 Q606.445 137.787 609.524 137.787 Q609.964 137.787 610.496 137.856 Q611.028 137.903 611.676 138.018 L611.7 142.393 Z\" fill=\"#000000\" fill-rule=\"evenodd\" fill-opacity=\"1\" /><path clip-path=\"url(#clip790)\" d=\"M613.112 138.412 L617.626 138.412 L625.727 160.171 L633.829 138.412 L638.343 138.412 L628.621 164.338 L622.834 164.338 L613.112 138.412 Z\" fill=\"#000000\" fill-rule=\"evenodd\" fill-opacity=\"1\" /><path clip-path=\"url(#clip790)\" d=\"M666.398 150.31 L666.398 152.393 L646.815 152.393 Q647.093 156.791 649.454 159.106 Q651.838 161.398 656.074 161.398 Q658.528 161.398 660.82 160.796 Q663.135 160.194 665.403 158.99 L665.403 163.018 Q663.111 163.99 660.704 164.5 Q658.297 165.009 655.82 165.009 Q649.616 165.009 645.982 161.398 Q642.371 157.787 642.371 151.629 Q642.371 145.264 645.797 141.537 Q649.246 137.787 655.079 137.787 Q660.31 137.787 663.343 141.166 Q666.398 144.523 666.398 150.31 M662.139 149.06 Q662.093 145.565 660.172 143.481 Q658.273 141.398 655.125 141.398 Q651.561 141.398 649.408 143.412 Q647.278 145.426 646.954 149.083 L662.139 149.06 Z\" fill=\"#000000\" fill-rule=\"evenodd\" fill-opacity=\"1\" /><path clip-path=\"url(#clip790)\" d=\"M690.449 142.347 L690.449 128.319 L694.708 128.319 L694.708 164.338 L690.449 164.338 L690.449 160.449 Q689.107 162.763 687.046 163.898 Q685.009 165.009 682.139 165.009 Q677.44 165.009 674.477 161.259 Q671.537 157.509 671.537 151.398 Q671.537 145.287 674.477 141.537 Q677.44 137.787 682.139 137.787 Q685.009 137.787 687.046 138.921 Q689.107 140.032 690.449 142.347 M675.935 151.398 Q675.935 156.097 677.857 158.782 Q679.801 161.444 683.181 161.444 Q686.56 161.444 688.505 158.782 Q690.449 156.097 690.449 151.398 Q690.449 146.699 688.505 144.037 Q686.56 141.352 683.181 141.352 Q679.801 141.352 677.857 144.037 Q675.935 146.699 675.935 151.398 Z\" fill=\"#000000\" fill-rule=\"evenodd\" fill-opacity=\"1\" /><polyline clip-path=\"url(#clip790)\" style=\"stroke:#e26f46; stroke-linecap:round; stroke-linejoin:round; stroke-width:4; stroke-opacity:1; fill:none\" points=\"267.831,198.898 413.291,198.898 \"/>\n",
       "<path clip-path=\"url(#clip790)\" d=\"M451.376 218.585 Q449.571 223.215 447.858 224.627 Q446.145 226.039 443.275 226.039 L439.872 226.039 L439.872 222.474 L442.372 222.474 Q444.131 222.474 445.103 221.64 Q446.076 220.807 447.256 217.705 L448.02 215.761 L437.534 190.252 L442.048 190.252 L450.15 210.529 L458.251 190.252 L462.765 190.252 L451.376 218.585 Z\" fill=\"#000000\" fill-rule=\"evenodd\" fill-opacity=\"1\" /><path clip-path=\"url(#clip790)\" d=\"M487.927 182.891 L487.927 190.252 L496.7 190.252 L496.7 193.562 L487.927 193.562 L487.927 207.636 Q487.927 210.807 488.784 211.71 Q489.663 212.613 492.325 212.613 L496.7 212.613 L496.7 216.178 L492.325 216.178 Q487.395 216.178 485.52 214.349 Q483.645 212.497 483.645 207.636 L483.645 193.562 L480.52 193.562 L480.52 190.252 L483.645 190.252 L483.645 182.891 L487.927 182.891 Z\" fill=\"#000000\" fill-rule=\"evenodd\" fill-opacity=\"1\" /><path clip-path=\"url(#clip790)\" d=\"M517.325 194.233 Q516.608 193.817 515.751 193.631 Q514.918 193.423 513.899 193.423 Q510.288 193.423 508.344 195.784 Q506.422 198.122 506.422 202.52 L506.422 216.178 L502.14 216.178 L502.14 190.252 L506.422 190.252 L506.422 194.28 Q507.765 191.918 509.918 190.784 Q512.071 189.627 515.149 189.627 Q515.589 189.627 516.121 189.696 Q516.654 189.743 517.302 189.858 L517.325 194.233 Z\" fill=\"#000000\" fill-rule=\"evenodd\" fill-opacity=\"1\" /><path clip-path=\"url(#clip790)\" d=\"M521.353 205.946 L521.353 190.252 L525.612 190.252 L525.612 205.784 Q525.612 209.465 527.047 211.316 Q528.482 213.145 531.353 213.145 Q534.802 213.145 536.793 210.946 Q538.807 208.747 538.807 204.951 L538.807 190.252 L543.066 190.252 L543.066 216.178 L538.807 216.178 L538.807 212.196 Q537.256 214.557 535.195 215.715 Q533.158 216.849 530.45 216.849 Q525.982 216.849 523.668 214.071 Q521.353 211.293 521.353 205.946 M532.07 189.627 L532.07 189.627 Z\" fill=\"#000000\" fill-rule=\"evenodd\" fill-opacity=\"1\" /><path clip-path=\"url(#clip790)\" d=\"M574.015 202.15 L574.015 204.233 L554.431 204.233 Q554.709 208.631 557.07 210.946 Q559.455 213.238 563.691 213.238 Q566.144 213.238 568.436 212.636 Q570.751 212.034 573.019 210.83 L573.019 214.858 Q570.728 215.83 568.32 216.34 Q565.913 216.849 563.436 216.849 Q557.232 216.849 553.598 213.238 Q549.987 209.627 549.987 203.469 Q549.987 197.104 553.413 193.377 Q556.862 189.627 562.695 189.627 Q567.927 189.627 570.959 193.006 Q574.015 196.363 574.015 202.15 M569.755 200.9 Q569.709 197.405 567.788 195.321 Q565.89 193.238 562.742 193.238 Q559.177 193.238 557.024 195.252 Q554.894 197.266 554.57 200.923 L569.755 200.9 Z\" fill=\"#000000\" fill-rule=\"evenodd\" fill-opacity=\"1\" /><polyline clip-path=\"url(#clip790)\" style=\"stroke:#3da44d; stroke-linecap:round; stroke-linejoin:round; stroke-width:4; stroke-opacity:1; fill:none\" points=\"267.831,250.738 413.291,250.738 \"/>\n",
       "<path clip-path=\"url(#clip790)\" d=\"M451.376 270.425 Q449.571 275.055 447.858 276.467 Q446.145 277.879 443.275 277.879 L439.872 277.879 L439.872 274.314 L442.372 274.314 Q444.131 274.314 445.103 273.48 Q446.076 272.647 447.256 269.545 L448.02 267.601 L437.534 242.092 L442.048 242.092 L450.15 262.369 L458.251 242.092 L462.765 242.092 L451.376 270.425 Z\" fill=\"#000000\" fill-rule=\"evenodd\" fill-opacity=\"1\" /><path clip-path=\"url(#clip790)\" d=\"M496.839 231.999 L496.839 235.541 L492.765 235.541 Q490.473 235.541 489.571 236.467 Q488.691 237.393 488.691 239.8 L488.691 242.092 L495.705 242.092 L495.705 245.402 L488.691 245.402 L488.691 268.018 L484.409 268.018 L484.409 245.402 L480.335 245.402 L480.335 242.092 L484.409 242.092 L484.409 240.286 Q484.409 235.958 486.423 233.99 Q488.436 231.999 492.811 231.999 L496.839 231.999 Z\" fill=\"#000000\" fill-rule=\"evenodd\" fill-opacity=\"1\" /><path clip-path=\"url(#clip790)\" d=\"M500.404 242.092 L504.663 242.092 L504.663 268.018 L500.404 268.018 L500.404 242.092 M500.404 231.999 L504.663 231.999 L504.663 237.393 L500.404 237.393 L500.404 231.999 Z\" fill=\"#000000\" fill-rule=\"evenodd\" fill-opacity=\"1\" /><path clip-path=\"url(#clip790)\" d=\"M517.788 234.731 L517.788 242.092 L526.561 242.092 L526.561 245.402 L517.788 245.402 L517.788 259.476 Q517.788 262.647 518.645 263.55 Q519.524 264.453 522.186 264.453 L526.561 264.453 L526.561 268.018 L522.186 268.018 Q517.256 268.018 515.381 266.189 Q513.506 264.337 513.506 259.476 L513.506 245.402 L510.381 245.402 L510.381 242.092 L513.506 242.092 L513.506 234.731 L517.788 234.731 Z\" fill=\"#000000\" fill-rule=\"evenodd\" fill-opacity=\"1\" /></svg>\n"
      ]
     },
     "execution_count": 64,
     "metadata": {},
     "output_type": "execute_result"
    }
   ],
   "source": [
    "y_true=x.^2 .+3x .-2\n",
    "\n",
    "using Random, Distributions\n",
    "d = Normal(0,10)\n",
    "noise=rand(d,length(x))\n",
    "y_observed = y_true .+ noise\n",
    "\n",
    "using Plots\n",
    "using Polynomials: fit, Polynomials, coeffs\n",
    "\n",
    "# make scatter plot of y_observed along x_fit\n",
    "scatter(x,y_observed, label=\"y observed\")\n",
    "\n",
    "# plot a line of y_true along x_fit on scatter\n",
    "plot!(x,y_true, label=\"y true\")\n",
    "\n",
    "x_fit=collect(-11:0.1:11)\n",
    "\n",
    "# plot a line of fitted polynomial along x_fit on the same plot\n",
    "Polynomial([-2,3,1])\n",
    "line_fit = fit(x,y_observed,10)\n",
    "fit_coeff = coeffs(line_fit)\n",
    "y_fitted = (fit_coeff[1]) .+ (fit_coeff[2] .*x_fit) .+ (fit_coeff[3].*x_fit.^2) .+ (fit_coeff[4].*x_fit.^3) .+ (fit_coeff[5].*x_fit.^4) .+ (fit_coeff[6].*x_fit.^5) .+ (fit_coeff[7].*x_fit.^6) .+ (fit_coeff[8].*x_fit.^7) .+ (fit_coeff[9] .* x_fit.^8).+ (fit_coeff[10] .*x_fit.^9) .+ (fit_coeff[11].* x_fit.^10) \n",
    "plot!(x_fit,y_fitted, label=\"y fit\")"
   ]
  },
  {
   "cell_type": "markdown",
   "id": "bbcb4ef4",
   "metadata": {},
   "source": [
    "3. What do you observe in the plot? What is this phenomenon called?"
   ]
  },
  {
   "cell_type": "markdown",
   "id": "49a085b1",
   "metadata": {},
   "source": [
    "In this plot, we see the fitted line by passes and curves around some of of observed points , because it has recognized the noise we are applying. This phenomenon is overfitting."
   ]
  }
 ],
 "metadata": {
  "kernelspec": {
   "display_name": "Julia 1.8.5",
   "language": "julia",
   "name": "julia-1.8"
  },
  "language_info": {
   "file_extension": ".jl",
   "mimetype": "application/julia",
   "name": "julia",
   "version": "1.8.5"
  }
 },
 "nbformat": 4,
 "nbformat_minor": 5
}
