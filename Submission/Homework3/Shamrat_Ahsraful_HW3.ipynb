{
 "cells": [
  {
   "cell_type": "markdown",
   "id": "1fbe377b",
   "metadata": {},
   "source": [
    "<h1>HW3</h1>"
   ]
  },
  {
   "cell_type": "markdown",
   "id": "79813e24",
   "metadata": {},
   "source": [
    "# Question 1\n",
    "### (Bayes Theorem) Read the following example and complete the exercises \n",
    "\n",
    "Trolls Under the Bridge\n",
    "1. Trolls(T) are bad\n",
    "2. Gnomes(G) are benign\n",
    "3. Every bridge has 5 creatures under it\n",
    "\n",
    "Below are the probabilities of what creatures live under a bridge:\n",
    "1. TTGGG: 20% (E1)\n",
    "2. TGGGG: 20% (E2)\n",
    "3. GGGGG: 60% (E3)\n",
    "\n",
    "A knight is approaching a bridge and he wants to know his chance of crossing the bridge safely."
   ]
  },
  {
   "cell_type": "markdown",
   "id": "425f8583",
   "metadata": {},
   "source": [
    "### 1.1 \n",
    "\n",
    "#### What is the chance of the knight crossing the bridge safely?\n"
   ]
  },
  {
   "cell_type": "code",
   "execution_count": null,
   "id": "29bea308",
   "metadata": {},
   "outputs": [],
   "source": [
    "The chance of the knight crossing the bridge safely is 0.60"
   ]
  },
  {
   "cell_type": "markdown",
   "id": "61f687e4",
   "metadata": {},
   "source": [
    "### 1.2\n",
    "\n",
    "#### Before crossing a bridge, a knight captures a troll. “I now have an 80% chance of crossing safely,” he reasons, “since only the case 20% had TTGGG (E1) now have TGGG is still a threat.”\n",
    "\n",
    "#### Do you agree with him? Why?"
   ]
  },
  {
   "cell_type": "markdown",
   "id": "09025213",
   "metadata": {},
   "source": [
    "No, I do not agree with him because by capturing a troll, he has eliminated the possibility of GGGGG being under the bridge. As a result, the only other possibilities under the bridge are TTGGG or TGGGG. Between these, there is still a large chance of him being clobbered, so he has actually drastically increased his chances of being clobbered. "
   ]
  },
  {
   "cell_type": "markdown",
   "id": "c1533b67",
   "metadata": {},
   "source": [
    "### 1.3\n",
    "\n",
    "#### Now he wants to use Bayes' theorem to calculate his chance of crossing safely given a troll captured \n",
    "\n",
    "\\begin{equation*}\n",
    "P(A|B) = \\frac{P(B|A)P(A)}{P(B)} \\\\\n",
    "P(A|B): Posteior \\\\\n",
    "P(B|A): Likelihood \\\\\n",
    "P(A): Prior \\\\\n",
    "P(B): Marginal Probability \\\\\n",
    "\\end{equation*}\n",
    "\n",
    "#### Given the three events, E1, E2, and E3, which two of the three events does the knight need to consider after a troll was captured?"
   ]
  },
  {
   "cell_type": "markdown",
   "id": "0adb7f0a",
   "metadata": {},
   "source": [
    "Since a troll was captured, that means the possibility of GGGGG (E3) being under the bridge cannot be. This leaves the other events E1 and E2 as the two events that need to be considered. "
   ]
  },
  {
   "cell_type": "markdown",
   "id": "e45e8fa6",
   "metadata": {},
   "source": [
    "### 1.4\n",
    "\n",
    "#### Use Bayes' theorem to calculate the probability of the two events in 1.3 (separately) given the troll was captured. "
   ]
  },
  {
   "cell_type": "markdown",
   "id": "5d9c3c0b",
   "metadata": {},
   "source": [
    "Probability of one event given a troll captured: "
   ]
  },
  {
   "cell_type": "code",
   "execution_count": 2,
   "id": "f2f0e7c8",
   "metadata": {},
   "outputs": [
    {
     "data": {
      "text/plain": [
       "0.6666666666666669"
      ]
     },
     "execution_count": 2,
     "metadata": {},
     "output_type": "execute_result"
    }
   ],
   "source": [
    "# P(C|E1) = 0.4; the probability of finding a troll in bridge 1 (TTGGG)\n",
    "# P(C|E2) = 0.2; the probability of finding a troll in bridge 2 (TGGGG)\n",
    "# P(C|E3) = 0.0; the probability of finding a troll in bridge 3 (GGGGG)\n",
    "# P(C) = 0.12; the weighted sum of P(C|E#) => (0.2*0.4 + 0.2*0.2 + 0.6*0.0)/(0.2 + 0.2 + 0.6) = 0.12\n",
    "# P(E1|C) = [P(C|E1)*P(E1)]/P(C)\n",
    "\n",
    "P_C_E1 = 0.4\n",
    "P_E1 = 0.2\n",
    "P_C = 0.12\n",
    "P_E1_C = (P_C_E1*P_E1)/P_C"
   ]
  },
  {
   "cell_type": "markdown",
   "id": "37843aee",
   "metadata": {},
   "source": [
    "Probability of the other event given a troll captured: "
   ]
  },
  {
   "cell_type": "code",
   "execution_count": 3,
   "id": "5db10bc7",
   "metadata": {},
   "outputs": [
    {
     "data": {
      "text/plain": [
       "0.3333333333333334"
      ]
     },
     "execution_count": 3,
     "metadata": {},
     "output_type": "execute_result"
    }
   ],
   "source": [
    "P_E2 = 0.2\n",
    "P_C_E2 = 0.2\n",
    "P_E2_C = (P_C_E2*P_E2)/P_C"
   ]
  },
  {
   "cell_type": "markdown",
   "id": "f3b7f049",
   "metadata": {},
   "source": [
    "### 1.5\n",
    "\n",
    "#### What is the chance of the knight crossing safely?"
   ]
  },
  {
   "cell_type": "code",
   "execution_count": 4,
   "id": "0f6fd73b",
   "metadata": {},
   "outputs": [
    {
     "data": {
      "text/plain": [
       "0.3333333333333334"
      ]
     },
     "execution_count": 4,
     "metadata": {},
     "output_type": "execute_result"
    }
   ],
   "source": [
    "# The chance of the knight crossing safely is if E2 occurs, after he has captured a troll\n",
    "# Thus, the chance of hte knight crossing safely is 1/3 or 33.3%\n",
    "\n",
    "P_E2_C = (P_C_E2*P_E2)/P_C"
   ]
  },
  {
   "cell_type": "markdown",
   "id": "7b815ae0",
   "metadata": {},
   "source": [
    "#### Now looking back to 1.1, the probabilities were changed after assimilating data! "
   ]
  },
  {
   "cell_type": "markdown",
   "id": "f1450094",
   "metadata": {},
   "source": [
    "# Question 2\n",
    "### (Polynomial Fitting) Read the following example and complete the exercises \n",
    "\n",
    "Biological data always comes with errors that influence the intepretation of the data significantly. In this question, we will simulate data and see how noises affect the parameter estimation."
   ]
  },
  {
   "cell_type": "code",
   "execution_count": 42,
   "id": "c20822fa",
   "metadata": {},
   "outputs": [
    {
     "name": "stderr",
     "output_type": "stream",
     "text": [
      "\u001b[32m\u001b[1m   Resolving\u001b[22m\u001b[39m package versions...\n",
      "\u001b[32m\u001b[1m  No Changes\u001b[22m\u001b[39m to `C:\\Users\\ahsra\\.julia\\environments\\v1.8\\Project.toml`\n",
      "\u001b[32m\u001b[1m  No Changes\u001b[22m\u001b[39m to `C:\\Users\\ahsra\\.julia\\environments\\v1.8\\Manifest.toml`\n"
     ]
    }
   ],
   "source": [
    "import Pkg\n",
    "Pkg.add([\"Distributions\", \"Plots\", \"Polynomials\", \"Random\"])"
   ]
  },
  {
   "cell_type": "code",
   "execution_count": 55,
   "id": "d7d1ca8d",
   "metadata": {},
   "outputs": [],
   "source": [
    "import Distributions as di\n",
    "import Plots\n",
    "import Polynomials\n",
    "import Random\n",
    "using Random\n",
    "using Plots\n",
    "using Distributions\n",
    "using Polynomials: Polynomial, fit, coeffs"
   ]
  },
  {
   "cell_type": "markdown",
   "id": "a90dd09d",
   "metadata": {},
   "source": [
    "### 2.1\n",
    "\n",
    "1. Generate the independent variable x ranging from -10 to 10 with an increment of 1\n",
    "2. Generate the dependent variable y_true using the equation y_true = x^2 + 3x - 2\n"
   ]
  },
  {
   "cell_type": "code",
   "execution_count": 23,
   "id": "6b0b33c5",
   "metadata": {},
   "outputs": [
    {
     "data": {
      "text/plain": [
       "21-element Vector{Int64}:\n",
       "  68\n",
       "  52\n",
       "  38\n",
       "  26\n",
       "  16\n",
       "   8\n",
       "   2\n",
       "  -2\n",
       "  -4\n",
       "  -4\n",
       "  -2\n",
       "   2\n",
       "   8\n",
       "  16\n",
       "  26\n",
       "  38\n",
       "  52\n",
       "  68\n",
       "  86\n",
       " 106\n",
       " 128"
      ]
     },
     "execution_count": 23,
     "metadata": {},
     "output_type": "execute_result"
    }
   ],
   "source": [
    "x = -10:1:10\n",
    "y_true = x.^2 + 3 .* x .- 2"
   ]
  },
  {
   "cell_type": "markdown",
   "id": "74d2a191",
   "metadata": {},
   "source": [
    "### 2.2\n",
    "\n",
    "1. Generate the Guassian noises with zero mean and a standard deviation of 10\n",
    "\n",
    "2. Add the noises to y_true to obtain y_observed\n"
   ]
  },
  {
   "cell_type": "code",
   "execution_count": 38,
   "id": "7936417a",
   "metadata": {},
   "outputs": [
    {
     "data": {
      "text/plain": [
       "21-element Vector{Float64}:\n",
       "  81.01498353060359\n",
       "  52.397893217926004\n",
       "  55.574581329691334\n",
       "  36.939288135209075\n",
       "  20.95236716270568\n",
       "   8.452495697405729\n",
       "  -3.6904142864005003\n",
       "   2.7787496659810094\n",
       "  -9.352688723212813\n",
       " -14.064017488503225\n",
       " -20.773749340135712\n",
       "   7.2970325685929245\n",
       "   6.933395923309578\n",
       "  16.03666377942591\n",
       "  36.27164440438312\n",
       "  40.66712886246625\n",
       "  40.0557333881287\n",
       "  73.02925016671271\n",
       "  94.35133341686175\n",
       " 116.86187237288314\n",
       " 127.36559769384182"
      ]
     },
     "execution_count": 38,
     "metadata": {},
     "output_type": "execute_result"
    }
   ],
   "source": [
    "data_error = 10\n",
    "noise = di.Normal(0, data_error)\n",
    "y_observed = y_true .+ rand(noise, length(x))"
   ]
  },
  {
   "cell_type": "markdown",
   "id": "ecf2e554",
   "metadata": {},
   "source": [
    "### 2.3\n",
    "\n",
    "#### Fit the data (x, y_observed) with a second order polynomial. \n",
    "\n",
    "1. Make a scatter plot of y_observed along x\n",
    "2. Plot a line of y_true along x on the scatter plot\n",
    "3. Plot a line of the fitted polynomial along x on the same plot"
   ]
  },
  {
   "cell_type": "code",
   "execution_count": 62,
   "id": "d39a136b",
   "metadata": {
    "scrolled": false
   },
   "outputs": [
    {
     "data": {
      "image/svg+xml": [
       "<?xml version=\"1.0\" encoding=\"utf-8\"?>\n",
       "<svg xmlns=\"http://www.w3.org/2000/svg\" xmlns:xlink=\"http://www.w3.org/1999/xlink\" width=\"600\" height=\"400\" viewBox=\"0 0 2400 1600\">\n",
       "<defs>\n",
       "  <clipPath id=\"clip020\">\n",
       "    <rect x=\"0\" y=\"0\" width=\"2400\" height=\"1600\"/>\n",
       "  </clipPath>\n",
       "</defs>\n",
       "<path clip-path=\"url(#clip020)\" d=\"M0 1600 L2400 1600 L2400 0 L0 0  Z\" fill=\"#ffffff\" fill-rule=\"evenodd\" fill-opacity=\"1\"/>\n",
       "<defs>\n",
       "  <clipPath id=\"clip021\">\n",
       "    <rect x=\"480\" y=\"0\" width=\"1681\" height=\"1600\"/>\n",
       "  </clipPath>\n",
       "</defs>\n",
       "<path clip-path=\"url(#clip020)\" d=\"M169.121 1486.45 L2352.76 1486.45 L2352.76 47.2441 L169.121 47.2441  Z\" fill=\"#ffffff\" fill-rule=\"evenodd\" fill-opacity=\"1\"/>\n",
       "<defs>\n",
       "  <clipPath id=\"clip022\">\n",
       "    <rect x=\"169\" y=\"47\" width=\"2185\" height=\"1440\"/>\n",
       "  </clipPath>\n",
       "</defs>\n",
       "<polyline clip-path=\"url(#clip022)\" style=\"stroke:#000000; stroke-linecap:round; stroke-linejoin:round; stroke-width:2; stroke-opacity:0.1; fill:none\" points=\"230.922,1486.45 230.922,47.2441 \"/>\n",
       "<polyline clip-path=\"url(#clip022)\" style=\"stroke:#000000; stroke-linecap:round; stroke-linejoin:round; stroke-width:2; stroke-opacity:0.1; fill:none\" points=\"745.93,1486.45 745.93,47.2441 \"/>\n",
       "<polyline clip-path=\"url(#clip022)\" style=\"stroke:#000000; stroke-linecap:round; stroke-linejoin:round; stroke-width:2; stroke-opacity:0.1; fill:none\" points=\"1260.94,1486.45 1260.94,47.2441 \"/>\n",
       "<polyline clip-path=\"url(#clip022)\" style=\"stroke:#000000; stroke-linecap:round; stroke-linejoin:round; stroke-width:2; stroke-opacity:0.1; fill:none\" points=\"1775.95,1486.45 1775.95,47.2441 \"/>\n",
       "<polyline clip-path=\"url(#clip022)\" style=\"stroke:#000000; stroke-linecap:round; stroke-linejoin:round; stroke-width:2; stroke-opacity:0.1; fill:none\" points=\"2290.95,1486.45 2290.95,47.2441 \"/>\n",
       "<polyline clip-path=\"url(#clip020)\" style=\"stroke:#000000; stroke-linecap:round; stroke-linejoin:round; stroke-width:4; stroke-opacity:1; fill:none\" points=\"169.121,1486.45 2352.76,1486.45 \"/>\n",
       "<polyline clip-path=\"url(#clip020)\" style=\"stroke:#000000; stroke-linecap:round; stroke-linejoin:round; stroke-width:4; stroke-opacity:1; fill:none\" points=\"230.922,1486.45 230.922,1467.55 \"/>\n",
       "<polyline clip-path=\"url(#clip020)\" style=\"stroke:#000000; stroke-linecap:round; stroke-linejoin:round; stroke-width:4; stroke-opacity:1; fill:none\" points=\"745.93,1486.45 745.93,1467.55 \"/>\n",
       "<polyline clip-path=\"url(#clip020)\" style=\"stroke:#000000; stroke-linecap:round; stroke-linejoin:round; stroke-width:4; stroke-opacity:1; fill:none\" points=\"1260.94,1486.45 1260.94,1467.55 \"/>\n",
       "<polyline clip-path=\"url(#clip020)\" style=\"stroke:#000000; stroke-linecap:round; stroke-linejoin:round; stroke-width:4; stroke-opacity:1; fill:none\" points=\"1775.95,1486.45 1775.95,1467.55 \"/>\n",
       "<polyline clip-path=\"url(#clip020)\" style=\"stroke:#000000; stroke-linecap:round; stroke-linejoin:round; stroke-width:4; stroke-opacity:1; fill:none\" points=\"2290.95,1486.45 2290.95,1467.55 \"/>\n",
       "<path clip-path=\"url(#clip020)\" d=\"M184.985 1532.02 L214.661 1532.02 L214.661 1535.95 L184.985 1535.95 L184.985 1532.02 Z\" fill=\"#000000\" fill-rule=\"evenodd\" fill-opacity=\"1\" /><path clip-path=\"url(#clip020)\" d=\"M225.564 1544.91 L233.202 1544.91 L233.202 1518.55 L224.892 1520.21 L224.892 1515.95 L233.156 1514.29 L237.832 1514.29 L237.832 1544.91 L245.471 1544.91 L245.471 1548.85 L225.564 1548.85 L225.564 1544.91 Z\" fill=\"#000000\" fill-rule=\"evenodd\" fill-opacity=\"1\" /><path clip-path=\"url(#clip020)\" d=\"M264.915 1517.37 Q261.304 1517.37 259.475 1520.93 Q257.67 1524.47 257.67 1531.6 Q257.67 1538.71 259.475 1542.27 Q261.304 1545.82 264.915 1545.82 Q268.549 1545.82 270.355 1542.27 Q272.184 1538.71 272.184 1531.6 Q272.184 1524.47 270.355 1520.93 Q268.549 1517.37 264.915 1517.37 M264.915 1513.66 Q270.725 1513.66 273.781 1518.27 Q276.86 1522.85 276.86 1531.6 Q276.86 1540.33 273.781 1544.94 Q270.725 1549.52 264.915 1549.52 Q259.105 1549.52 256.026 1544.94 Q252.971 1540.33 252.971 1531.6 Q252.971 1522.85 256.026 1518.27 Q259.105 1513.66 264.915 1513.66 Z\" fill=\"#000000\" fill-rule=\"evenodd\" fill-opacity=\"1\" /><path clip-path=\"url(#clip020)\" d=\"M715.572 1532.02 L745.248 1532.02 L745.248 1535.95 L715.572 1535.95 L715.572 1532.02 Z\" fill=\"#000000\" fill-rule=\"evenodd\" fill-opacity=\"1\" /><path clip-path=\"url(#clip020)\" d=\"M755.386 1514.29 L773.743 1514.29 L773.743 1518.22 L759.669 1518.22 L759.669 1526.7 Q760.687 1526.35 761.706 1526.19 Q762.724 1526 763.743 1526 Q769.53 1526 772.909 1529.17 Q776.289 1532.34 776.289 1537.76 Q776.289 1543.34 772.817 1546.44 Q769.345 1549.52 763.025 1549.52 Q760.849 1549.52 758.581 1549.15 Q756.335 1548.78 753.928 1548.04 L753.928 1543.34 Q756.011 1544.47 758.234 1545.03 Q760.456 1545.58 762.933 1545.58 Q766.937 1545.58 769.275 1543.48 Q771.613 1541.37 771.613 1537.76 Q771.613 1534.15 769.275 1532.04 Q766.937 1529.94 762.933 1529.94 Q761.058 1529.94 759.183 1530.35 Q757.331 1530.77 755.386 1531.65 L755.386 1514.29 Z\" fill=\"#000000\" fill-rule=\"evenodd\" fill-opacity=\"1\" /><path clip-path=\"url(#clip020)\" d=\"M1260.94 1517.37 Q1257.33 1517.37 1255.5 1520.93 Q1253.69 1524.47 1253.69 1531.6 Q1253.69 1538.71 1255.5 1542.27 Q1257.33 1545.82 1260.94 1545.82 Q1264.57 1545.82 1266.38 1542.27 Q1268.21 1538.71 1268.21 1531.6 Q1268.21 1524.47 1266.38 1520.93 Q1264.57 1517.37 1260.94 1517.37 M1260.94 1513.66 Q1266.75 1513.66 1269.8 1518.27 Q1272.88 1522.85 1272.88 1531.6 Q1272.88 1540.33 1269.8 1544.94 Q1266.75 1549.52 1260.94 1549.52 Q1255.13 1549.52 1252.05 1544.94 Q1248.99 1540.33 1248.99 1531.6 Q1248.99 1522.85 1252.05 1518.27 Q1255.13 1513.66 1260.94 1513.66 Z\" fill=\"#000000\" fill-rule=\"evenodd\" fill-opacity=\"1\" /><path clip-path=\"url(#clip020)\" d=\"M1766.22 1514.29 L1784.58 1514.29 L1784.58 1518.22 L1770.51 1518.22 L1770.51 1526.7 Q1771.53 1526.35 1772.54 1526.19 Q1773.56 1526 1774.58 1526 Q1780.37 1526 1783.75 1529.17 Q1787.13 1532.34 1787.13 1537.76 Q1787.13 1543.34 1783.66 1546.44 Q1780.18 1549.52 1773.86 1549.52 Q1771.69 1549.52 1769.42 1549.15 Q1767.17 1548.78 1764.77 1548.04 L1764.77 1543.34 Q1766.85 1544.47 1769.07 1545.03 Q1771.29 1545.58 1773.77 1545.58 Q1777.78 1545.58 1780.11 1543.48 Q1782.45 1541.37 1782.45 1537.76 Q1782.45 1534.15 1780.11 1532.04 Q1777.78 1529.94 1773.77 1529.94 Q1771.9 1529.94 1770.02 1530.35 Q1768.17 1530.77 1766.22 1531.65 L1766.22 1514.29 Z\" fill=\"#000000\" fill-rule=\"evenodd\" fill-opacity=\"1\" /><path clip-path=\"url(#clip020)\" d=\"M2265.64 1544.91 L2273.28 1544.91 L2273.28 1518.55 L2264.97 1520.21 L2264.97 1515.95 L2273.24 1514.29 L2277.91 1514.29 L2277.91 1544.91 L2285.55 1544.91 L2285.55 1548.85 L2265.64 1548.85 L2265.64 1544.91 Z\" fill=\"#000000\" fill-rule=\"evenodd\" fill-opacity=\"1\" /><path clip-path=\"url(#clip020)\" d=\"M2304.99 1517.37 Q2301.38 1517.37 2299.55 1520.93 Q2297.75 1524.47 2297.75 1531.6 Q2297.75 1538.71 2299.55 1542.27 Q2301.38 1545.82 2304.99 1545.82 Q2308.63 1545.82 2310.43 1542.27 Q2312.26 1538.71 2312.26 1531.6 Q2312.26 1524.47 2310.43 1520.93 Q2308.63 1517.37 2304.99 1517.37 M2304.99 1513.66 Q2310.8 1513.66 2313.86 1518.27 Q2316.94 1522.85 2316.94 1531.6 Q2316.94 1540.33 2313.86 1544.94 Q2310.8 1549.52 2304.99 1549.52 Q2299.18 1549.52 2296.11 1544.94 Q2293.05 1540.33 2293.05 1531.6 Q2293.05 1522.85 2296.11 1518.27 Q2299.18 1513.66 2304.99 1513.66 Z\" fill=\"#000000\" fill-rule=\"evenodd\" fill-opacity=\"1\" /><polyline clip-path=\"url(#clip022)\" style=\"stroke:#000000; stroke-linecap:round; stroke-linejoin:round; stroke-width:2; stroke-opacity:0.1; fill:none\" points=\"169.121,1265.98 2352.76,1265.98 \"/>\n",
       "<polyline clip-path=\"url(#clip022)\" style=\"stroke:#000000; stroke-linecap:round; stroke-linejoin:round; stroke-width:2; stroke-opacity:0.1; fill:none\" points=\"169.121,1006.43 2352.76,1006.43 \"/>\n",
       "<polyline clip-path=\"url(#clip022)\" style=\"stroke:#000000; stroke-linecap:round; stroke-linejoin:round; stroke-width:2; stroke-opacity:0.1; fill:none\" points=\"169.121,746.873 2352.76,746.873 \"/>\n",
       "<polyline clip-path=\"url(#clip022)\" style=\"stroke:#000000; stroke-linecap:round; stroke-linejoin:round; stroke-width:2; stroke-opacity:0.1; fill:none\" points=\"169.121,487.317 2352.76,487.317 \"/>\n",
       "<polyline clip-path=\"url(#clip022)\" style=\"stroke:#000000; stroke-linecap:round; stroke-linejoin:round; stroke-width:2; stroke-opacity:0.1; fill:none\" points=\"169.121,227.761 2352.76,227.761 \"/>\n",
       "<polyline clip-path=\"url(#clip020)\" style=\"stroke:#000000; stroke-linecap:round; stroke-linejoin:round; stroke-width:4; stroke-opacity:1; fill:none\" points=\"169.121,1486.45 169.121,47.2441 \"/>\n",
       "<polyline clip-path=\"url(#clip020)\" style=\"stroke:#000000; stroke-linecap:round; stroke-linejoin:round; stroke-width:4; stroke-opacity:1; fill:none\" points=\"169.121,1265.98 188.019,1265.98 \"/>\n",
       "<polyline clip-path=\"url(#clip020)\" style=\"stroke:#000000; stroke-linecap:round; stroke-linejoin:round; stroke-width:4; stroke-opacity:1; fill:none\" points=\"169.121,1006.43 188.019,1006.43 \"/>\n",
       "<polyline clip-path=\"url(#clip020)\" style=\"stroke:#000000; stroke-linecap:round; stroke-linejoin:round; stroke-width:4; stroke-opacity:1; fill:none\" points=\"169.121,746.873 188.019,746.873 \"/>\n",
       "<polyline clip-path=\"url(#clip020)\" style=\"stroke:#000000; stroke-linecap:round; stroke-linejoin:round; stroke-width:4; stroke-opacity:1; fill:none\" points=\"169.121,487.317 188.019,487.317 \"/>\n",
       "<polyline clip-path=\"url(#clip020)\" style=\"stroke:#000000; stroke-linecap:round; stroke-linejoin:round; stroke-width:4; stroke-opacity:1; fill:none\" points=\"169.121,227.761 188.019,227.761 \"/>\n",
       "<path clip-path=\"url(#clip020)\" d=\"M121.177 1251.78 Q117.566 1251.78 115.737 1255.35 Q113.932 1258.89 113.932 1266.02 Q113.932 1273.13 115.737 1276.69 Q117.566 1280.23 121.177 1280.23 Q124.811 1280.23 126.617 1276.69 Q128.445 1273.13 128.445 1266.02 Q128.445 1258.89 126.617 1255.35 Q124.811 1251.78 121.177 1251.78 M121.177 1248.08 Q126.987 1248.08 130.043 1252.69 Q133.121 1257.27 133.121 1266.02 Q133.121 1274.75 130.043 1279.35 Q126.987 1283.94 121.177 1283.94 Q115.367 1283.94 112.288 1279.35 Q109.233 1274.75 109.233 1266.02 Q109.233 1257.27 112.288 1252.69 Q115.367 1248.08 121.177 1248.08 Z\" fill=\"#000000\" fill-rule=\"evenodd\" fill-opacity=\"1\" /><path clip-path=\"url(#clip020)\" d=\"M95.1817 1005.07 Q98.5382 1005.79 100.413 1008.06 Q102.311 1010.33 102.311 1013.66 Q102.311 1018.78 98.7928 1021.58 Q95.2743 1024.38 88.7928 1024.38 Q86.6169 1024.38 84.3021 1023.94 Q82.0105 1023.52 79.5568 1022.67 L79.5568 1018.15 Q81.5012 1019.29 83.816 1019.87 Q86.1308 1020.44 88.654 1020.44 Q93.0521 1020.44 95.3437 1018.71 Q97.6585 1016.97 97.6585 1013.66 Q97.6585 1010.61 95.5058 1008.89 Q93.3762 1007.16 89.5567 1007.16 L85.529 1007.16 L85.529 1003.32 L89.7419 1003.32 Q93.191 1003.32 95.0197 1001.95 Q96.8484 1000.56 96.8484 997.968 Q96.8484 995.306 94.9502 993.894 Q93.0752 992.459 89.5567 992.459 Q87.6354 992.459 85.4364 992.875 Q83.2373 993.292 80.5984 994.172 L80.5984 990.005 Q83.2605 989.264 85.5753 988.894 Q87.9132 988.524 89.9734 988.524 Q95.2974 988.524 98.3993 990.954 Q101.501 993.361 101.501 997.482 Q101.501 1000.35 99.8576 1002.34 Q98.2141 1004.31 95.1817 1005.07 Z\" fill=\"#000000\" fill-rule=\"evenodd\" fill-opacity=\"1\" /><path clip-path=\"url(#clip020)\" d=\"M121.177 992.227 Q117.566 992.227 115.737 995.792 Q113.932 999.334 113.932 1006.46 Q113.932 1013.57 115.737 1017.13 Q117.566 1020.68 121.177 1020.68 Q124.811 1020.68 126.617 1017.13 Q128.445 1013.57 128.445 1006.46 Q128.445 999.334 126.617 995.792 Q124.811 992.227 121.177 992.227 M121.177 988.524 Q126.987 988.524 130.043 993.13 Q133.121 997.713 133.121 1006.46 Q133.121 1015.19 130.043 1019.8 Q126.987 1024.38 121.177 1024.38 Q115.367 1024.38 112.288 1019.8 Q109.233 1015.19 109.233 1006.46 Q109.233 997.713 112.288 993.13 Q115.367 988.524 121.177 988.524 Z\" fill=\"#000000\" fill-rule=\"evenodd\" fill-opacity=\"1\" /><path clip-path=\"url(#clip020)\" d=\"M91.5938 745.009 Q88.4456 745.009 86.5938 747.162 Q84.7651 749.315 84.7651 753.065 Q84.7651 756.792 86.5938 758.968 Q88.4456 761.12 91.5938 761.12 Q94.7419 761.12 96.5706 758.968 Q98.4224 756.792 98.4224 753.065 Q98.4224 749.315 96.5706 747.162 Q94.7419 745.009 91.5938 745.009 M100.876 730.357 L100.876 734.616 Q99.1169 733.783 97.3113 733.343 Q95.5289 732.903 93.7697 732.903 Q89.1401 732.903 86.6864 736.028 Q84.2558 739.153 83.9086 745.472 Q85.2743 743.458 87.3345 742.394 Q89.3947 741.306 91.8715 741.306 Q97.0798 741.306 100.089 744.477 Q103.121 747.625 103.121 753.065 Q103.121 758.389 99.9733 761.607 Q96.8252 764.824 91.5938 764.824 Q85.5984 764.824 82.4271 760.241 Q79.2559 755.634 79.2559 746.908 Q79.2559 738.713 83.1447 733.852 Q87.0336 728.968 93.5845 728.968 Q95.3437 728.968 97.1261 729.315 Q98.9317 729.662 100.876 730.357 Z\" fill=\"#000000\" fill-rule=\"evenodd\" fill-opacity=\"1\" /><path clip-path=\"url(#clip020)\" d=\"M121.177 732.672 Q117.566 732.672 115.737 736.236 Q113.932 739.778 113.932 746.908 Q113.932 754.014 115.737 757.579 Q117.566 761.12 121.177 761.12 Q124.811 761.12 126.617 757.579 Q128.445 754.014 128.445 746.908 Q128.445 739.778 126.617 736.236 Q124.811 732.672 121.177 732.672 M121.177 728.968 Q126.987 728.968 130.043 733.574 Q133.121 738.158 133.121 746.908 Q133.121 755.634 130.043 760.241 Q126.987 764.824 121.177 764.824 Q115.367 764.824 112.288 760.241 Q109.233 755.634 109.233 746.908 Q109.233 738.158 112.288 733.574 Q115.367 728.968 121.177 728.968 Z\" fill=\"#000000\" fill-rule=\"evenodd\" fill-opacity=\"1\" /><path clip-path=\"url(#clip020)\" d=\"M81.154 503.88 L81.154 499.62 Q82.9133 500.454 84.7188 500.893 Q86.5243 501.333 88.2604 501.333 Q92.89 501.333 95.3206 498.231 Q97.7743 495.106 98.1215 488.764 Q96.7789 490.755 94.7187 491.819 Q92.6586 492.884 90.1586 492.884 Q84.9734 492.884 81.941 489.759 Q78.9318 486.611 78.9318 481.171 Q78.9318 475.847 82.0799 472.63 Q85.2281 469.412 90.4595 469.412 Q96.4548 469.412 99.603 474.019 Q102.774 478.602 102.774 487.352 Q102.774 495.523 98.8854 500.407 Q95.0197 505.268 88.4688 505.268 Q86.7095 505.268 84.904 504.921 Q83.0984 504.574 81.154 503.88 M90.4595 489.227 Q93.6076 489.227 95.4363 487.074 Q97.2882 484.921 97.2882 481.171 Q97.2882 477.444 95.4363 475.292 Q93.6076 473.116 90.4595 473.116 Q87.3114 473.116 85.4595 475.292 Q83.6308 477.444 83.6308 481.171 Q83.6308 484.921 85.4595 487.074 Q87.3114 489.227 90.4595 489.227 Z\" fill=\"#000000\" fill-rule=\"evenodd\" fill-opacity=\"1\" /><path clip-path=\"url(#clip020)\" d=\"M121.177 473.116 Q117.566 473.116 115.737 476.681 Q113.932 480.222 113.932 487.352 Q113.932 494.458 115.737 498.023 Q117.566 501.565 121.177 501.565 Q124.811 501.565 126.617 498.023 Q128.445 494.458 128.445 487.352 Q128.445 480.222 126.617 476.681 Q124.811 473.116 121.177 473.116 M121.177 469.412 Q126.987 469.412 130.043 474.019 Q133.121 478.602 133.121 487.352 Q133.121 496.079 130.043 500.685 Q126.987 505.268 121.177 505.268 Q115.367 505.268 112.288 500.685 Q109.233 496.079 109.233 487.352 Q109.233 478.602 112.288 474.019 Q115.367 469.412 121.177 469.412 Z\" fill=\"#000000\" fill-rule=\"evenodd\" fill-opacity=\"1\" /><path clip-path=\"url(#clip020)\" d=\"M51.6634 241.106 L59.3023 241.106 L59.3023 214.741 L50.9921 216.407 L50.9921 212.148 L59.256 210.481 L63.9319 210.481 L63.9319 241.106 L71.5707 241.106 L71.5707 245.041 L51.6634 245.041 L51.6634 241.106 Z\" fill=\"#000000\" fill-rule=\"evenodd\" fill-opacity=\"1\" /><path clip-path=\"url(#clip020)\" d=\"M85.0429 241.106 L101.362 241.106 L101.362 245.041 L79.4179 245.041 L79.4179 241.106 Q82.0799 238.352 86.6632 233.722 Q91.2697 229.069 92.4502 227.727 Q94.6956 225.204 95.5752 223.467 Q96.478 221.708 96.478 220.018 Q96.478 217.264 94.5336 215.528 Q92.6123 213.792 89.5104 213.792 Q87.3114 213.792 84.8577 214.555 Q82.4271 215.319 79.6494 216.87 L79.6494 212.148 Q82.4734 211.014 84.9271 210.435 Q87.3808 209.856 89.4178 209.856 Q94.7882 209.856 97.9826 212.542 Q101.177 215.227 101.177 219.717 Q101.177 221.847 100.367 223.768 Q99.5798 225.667 97.4734 228.259 Q96.8947 228.93 93.7928 232.148 Q90.691 235.342 85.0429 241.106 Z\" fill=\"#000000\" fill-rule=\"evenodd\" fill-opacity=\"1\" /><path clip-path=\"url(#clip020)\" d=\"M121.177 213.56 Q117.566 213.56 115.737 217.125 Q113.932 220.667 113.932 227.796 Q113.932 234.903 115.737 238.467 Q117.566 242.009 121.177 242.009 Q124.811 242.009 126.617 238.467 Q128.445 234.903 128.445 227.796 Q128.445 220.667 126.617 217.125 Q124.811 213.56 121.177 213.56 M121.177 209.856 Q126.987 209.856 130.043 214.463 Q133.121 219.046 133.121 227.796 Q133.121 236.523 130.043 241.129 Q126.987 245.713 121.177 245.713 Q115.367 245.713 112.288 241.129 Q109.233 236.523 109.233 227.796 Q109.233 219.046 112.288 214.463 Q115.367 209.856 121.177 209.856 Z\" fill=\"#000000\" fill-rule=\"evenodd\" fill-opacity=\"1\" /><circle clip-path=\"url(#clip022)\" cx=\"230.922\" cy=\"565.054\" r=\"14.4\" fill=\"#009af9\" fill-rule=\"evenodd\" fill-opacity=\"1\" stroke=\"#000000\" stroke-opacity=\"1\" stroke-width=\"3.2\"/>\n",
       "<circle clip-path=\"url(#clip022)\" cx=\"333.924\" cy=\"812.645\" r=\"14.4\" fill=\"#009af9\" fill-rule=\"evenodd\" fill-opacity=\"1\" stroke=\"#000000\" stroke-opacity=\"1\" stroke-width=\"3.2\"/>\n",
       "<circle clip-path=\"url(#clip022)\" cx=\"436.926\" cy=\"785.161\" r=\"14.4\" fill=\"#009af9\" fill-rule=\"evenodd\" fill-opacity=\"1\" stroke=\"#000000\" stroke-opacity=\"1\" stroke-width=\"3.2\"/>\n",
       "<circle clip-path=\"url(#clip022)\" cx=\"539.927\" cy=\"946.391\" r=\"14.4\" fill=\"#009af9\" fill-rule=\"evenodd\" fill-opacity=\"1\" stroke=\"#000000\" stroke-opacity=\"1\" stroke-width=\"3.2\"/>\n",
       "<circle clip-path=\"url(#clip022)\" cx=\"642.929\" cy=\"1084.71\" r=\"14.4\" fill=\"#009af9\" fill-rule=\"evenodd\" fill-opacity=\"1\" stroke=\"#000000\" stroke-opacity=\"1\" stroke-width=\"3.2\"/>\n",
       "<circle clip-path=\"url(#clip022)\" cx=\"745.93\" cy=\"1192.85\" r=\"14.4\" fill=\"#009af9\" fill-rule=\"evenodd\" fill-opacity=\"1\" stroke=\"#000000\" stroke-opacity=\"1\" stroke-width=\"3.2\"/>\n",
       "<circle clip-path=\"url(#clip022)\" cx=\"848.932\" cy=\"1297.91\" r=\"14.4\" fill=\"#009af9\" fill-rule=\"evenodd\" fill-opacity=\"1\" stroke=\"#000000\" stroke-opacity=\"1\" stroke-width=\"3.2\"/>\n",
       "<circle clip-path=\"url(#clip022)\" cx=\"951.934\" cy=\"1241.94\" r=\"14.4\" fill=\"#009af9\" fill-rule=\"evenodd\" fill-opacity=\"1\" stroke=\"#000000\" stroke-opacity=\"1\" stroke-width=\"3.2\"/>\n",
       "<circle clip-path=\"url(#clip022)\" cx=\"1054.94\" cy=\"1346.9\" r=\"14.4\" fill=\"#009af9\" fill-rule=\"evenodd\" fill-opacity=\"1\" stroke=\"#000000\" stroke-opacity=\"1\" stroke-width=\"3.2\"/>\n",
       "<circle clip-path=\"url(#clip022)\" cx=\"1157.94\" cy=\"1387.66\" r=\"14.4\" fill=\"#009af9\" fill-rule=\"evenodd\" fill-opacity=\"1\" stroke=\"#000000\" stroke-opacity=\"1\" stroke-width=\"3.2\"/>\n",
       "<circle clip-path=\"url(#clip022)\" cx=\"1260.94\" cy=\"1445.72\" r=\"14.4\" fill=\"#009af9\" fill-rule=\"evenodd\" fill-opacity=\"1\" stroke=\"#000000\" stroke-opacity=\"1\" stroke-width=\"3.2\"/>\n",
       "<circle clip-path=\"url(#clip022)\" cx=\"1363.94\" cy=\"1202.85\" r=\"14.4\" fill=\"#009af9\" fill-rule=\"evenodd\" fill-opacity=\"1\" stroke=\"#000000\" stroke-opacity=\"1\" stroke-width=\"3.2\"/>\n",
       "<circle clip-path=\"url(#clip022)\" cx=\"1466.94\" cy=\"1206\" r=\"14.4\" fill=\"#009af9\" fill-rule=\"evenodd\" fill-opacity=\"1\" stroke=\"#000000\" stroke-opacity=\"1\" stroke-width=\"3.2\"/>\n",
       "<circle clip-path=\"url(#clip022)\" cx=\"1569.94\" cy=\"1127.24\" r=\"14.4\" fill=\"#009af9\" fill-rule=\"evenodd\" fill-opacity=\"1\" stroke=\"#000000\" stroke-opacity=\"1\" stroke-width=\"3.2\"/>\n",
       "<circle clip-path=\"url(#clip022)\" cx=\"1672.95\" cy=\"952.167\" r=\"14.4\" fill=\"#009af9\" fill-rule=\"evenodd\" fill-opacity=\"1\" stroke=\"#000000\" stroke-opacity=\"1\" stroke-width=\"3.2\"/>\n",
       "<circle clip-path=\"url(#clip022)\" cx=\"1775.95\" cy=\"914.138\" r=\"14.4\" fill=\"#009af9\" fill-rule=\"evenodd\" fill-opacity=\"1\" stroke=\"#000000\" stroke-opacity=\"1\" stroke-width=\"3.2\"/>\n",
       "<circle clip-path=\"url(#clip022)\" cx=\"1878.95\" cy=\"919.428\" r=\"14.4\" fill=\"#009af9\" fill-rule=\"evenodd\" fill-opacity=\"1\" stroke=\"#000000\" stroke-opacity=\"1\" stroke-width=\"3.2\"/>\n",
       "<circle clip-path=\"url(#clip022)\" cx=\"1981.95\" cy=\"634.146\" r=\"14.4\" fill=\"#009af9\" fill-rule=\"evenodd\" fill-opacity=\"1\" stroke=\"#000000\" stroke-opacity=\"1\" stroke-width=\"3.2\"/>\n",
       "<circle clip-path=\"url(#clip022)\" cx=\"2084.95\" cy=\"449.67\" r=\"14.4\" fill=\"#009af9\" fill-rule=\"evenodd\" fill-opacity=\"1\" stroke=\"#000000\" stroke-opacity=\"1\" stroke-width=\"3.2\"/>\n",
       "<circle clip-path=\"url(#clip022)\" cx=\"2187.95\" cy=\"254.912\" r=\"14.4\" fill=\"#009af9\" fill-rule=\"evenodd\" fill-opacity=\"1\" stroke=\"#000000\" stroke-opacity=\"1\" stroke-width=\"3.2\"/>\n",
       "<circle clip-path=\"url(#clip022)\" cx=\"2290.95\" cy=\"164.035\" r=\"14.4\" fill=\"#009af9\" fill-rule=\"evenodd\" fill-opacity=\"1\" stroke=\"#000000\" stroke-opacity=\"1\" stroke-width=\"3.2\"/>\n",
       "<polyline clip-path=\"url(#clip022)\" style=\"stroke:#e26f46; stroke-linecap:round; stroke-linejoin:round; stroke-width:4; stroke-opacity:1; fill:none\" points=\"230.922,677.658 333.924,816.088 436.926,937.214 539.927,1041.04 642.929,1127.55 745.93,1196.77 848.932,1248.68 951.934,1283.29 1054.94,1300.59 1157.94,1300.59 1260.94,1283.29 1363.94,1248.68 1466.94,1196.77 1569.94,1127.55 1672.95,1041.04 1775.95,937.214 1878.95,816.088 1981.95,677.658 2084.95,521.925 2187.95,348.887 2290.95,158.547 \"/>\n",
       "<polyline clip-path=\"url(#clip022)\" style=\"stroke:#3da44d; stroke-linecap:round; stroke-linejoin:round; stroke-width:4; stroke-opacity:1; fill:none\" points=\"230.922,567.935 333.924,730.287 436.926,873.022 539.927,996.142 642.929,1099.65 745.93,1183.54 848.932,1247.81 951.934,1292.47 1054.94,1317.51 1157.94,1322.93 1260.94,1308.74 1363.94,1274.94 1466.94,1221.52 1569.94,1148.48 1672.95,1055.82 1775.95,943.556 1878.95,811.672 1981.95,660.171 2084.95,489.055 2187.95,298.324 2290.95,87.9763 \"/>\n",
       "<path clip-path=\"url(#clip020)\" d=\"M241.909 302.578 L513.282 302.578 L513.282 95.2176 L241.909 95.2176  Z\" fill=\"#ffffff\" fill-rule=\"evenodd\" fill-opacity=\"1\"/>\n",
       "<polyline clip-path=\"url(#clip020)\" style=\"stroke:#000000; stroke-linecap:round; stroke-linejoin:round; stroke-width:4; stroke-opacity:1; fill:none\" points=\"241.909,302.578 513.282,302.578 513.282,95.2176 241.909,95.2176 241.909,302.578 \"/>\n",
       "<circle clip-path=\"url(#clip020)\" cx=\"338.96\" cy=\"147.058\" r=\"23.04\" fill=\"#009af9\" fill-rule=\"evenodd\" fill-opacity=\"1\" stroke=\"#000000\" stroke-opacity=\"1\" stroke-width=\"5.12\"/>\n",
       "<path clip-path=\"url(#clip020)\" d=\"M449.853 166.745 Q448.047 171.375 446.334 172.787 Q444.621 174.199 441.751 174.199 L438.348 174.199 L438.348 170.634 L440.848 170.634 Q442.607 170.634 443.579 169.8 Q444.552 168.967 445.732 165.865 L446.496 163.921 L436.01 138.412 L440.524 138.412 L448.626 158.689 L456.727 138.412 L461.241 138.412 L449.853 166.745 Z\" fill=\"#000000\" fill-rule=\"evenodd\" fill-opacity=\"1\" /><path clip-path=\"url(#clip020)\" d=\"M468.533 160.402 L476.172 160.402 L476.172 134.037 L467.862 135.703 L467.862 131.444 L476.126 129.778 L480.801 129.778 L480.801 160.402 L488.44 160.402 L488.44 164.338 L468.533 164.338 L468.533 160.402 Z\" fill=\"#000000\" fill-rule=\"evenodd\" fill-opacity=\"1\" /><polyline clip-path=\"url(#clip020)\" style=\"stroke:#e26f46; stroke-linecap:round; stroke-linejoin:round; stroke-width:4; stroke-opacity:1; fill:none\" points=\"266.172,198.898 411.747,198.898 \"/>\n",
       "<path clip-path=\"url(#clip020)\" d=\"M449.853 218.585 Q448.047 223.215 446.334 224.627 Q444.621 226.039 441.751 226.039 L438.348 226.039 L438.348 222.474 L440.848 222.474 Q442.607 222.474 443.579 221.64 Q444.552 220.807 445.732 217.705 L446.496 215.761 L436.01 190.252 L440.524 190.252 L448.626 210.529 L456.727 190.252 L461.241 190.252 L449.853 218.585 Z\" fill=\"#000000\" fill-rule=\"evenodd\" fill-opacity=\"1\" /><path clip-path=\"url(#clip020)\" d=\"M471.751 212.242 L488.07 212.242 L488.07 216.178 L466.126 216.178 L466.126 212.242 Q468.788 209.488 473.371 204.858 Q477.977 200.205 479.158 198.863 Q481.403 196.34 482.283 194.604 Q483.186 192.844 483.186 191.155 Q483.186 188.4 481.241 186.664 Q479.32 184.928 476.218 184.928 Q474.019 184.928 471.565 185.692 Q469.135 186.455 466.357 188.006 L466.357 183.284 Q469.181 182.15 471.635 181.571 Q474.088 180.993 476.126 180.993 Q481.496 180.993 484.69 183.678 Q487.885 186.363 487.885 190.854 Q487.885 192.983 487.075 194.905 Q486.287 196.803 484.181 199.395 Q483.602 200.067 480.5 203.284 Q477.399 206.479 471.751 212.242 Z\" fill=\"#000000\" fill-rule=\"evenodd\" fill-opacity=\"1\" /><polyline clip-path=\"url(#clip020)\" style=\"stroke:#3da44d; stroke-linecap:round; stroke-linejoin:round; stroke-width:4; stroke-opacity:1; fill:none\" points=\"266.172,250.738 411.747,250.738 \"/>\n",
       "<path clip-path=\"url(#clip020)\" d=\"M449.853 270.425 Q448.047 275.055 446.334 276.467 Q444.621 277.879 441.751 277.879 L438.348 277.879 L438.348 274.314 L440.848 274.314 Q442.607 274.314 443.579 273.48 Q444.552 272.647 445.732 269.545 L446.496 267.601 L436.01 242.092 L440.524 242.092 L448.626 262.369 L456.727 242.092 L461.241 242.092 L449.853 270.425 Z\" fill=\"#000000\" fill-rule=\"evenodd\" fill-opacity=\"1\" /><path clip-path=\"url(#clip020)\" d=\"M481.889 249.383 Q485.246 250.101 487.121 252.369 Q489.019 254.638 489.019 257.971 Q489.019 263.087 485.5 265.888 Q481.982 268.689 475.501 268.689 Q473.325 268.689 471.01 268.249 Q468.718 267.832 466.264 266.976 L466.264 262.462 Q468.209 263.596 470.524 264.175 Q472.838 264.754 475.362 264.754 Q479.76 264.754 482.051 263.018 Q484.366 261.281 484.366 257.971 Q484.366 254.916 482.213 253.203 Q480.084 251.467 476.264 251.467 L472.237 251.467 L472.237 247.624 L476.45 247.624 Q479.899 247.624 481.727 246.258 Q483.556 244.87 483.556 242.277 Q483.556 239.615 481.658 238.203 Q479.783 236.768 476.264 236.768 Q474.343 236.768 472.144 237.184 Q469.945 237.601 467.306 238.481 L467.306 234.314 Q469.968 233.573 472.283 233.203 Q474.621 232.833 476.681 232.833 Q482.005 232.833 485.107 235.263 Q488.209 237.67 488.209 241.791 Q488.209 244.661 486.565 246.652 Q484.922 248.62 481.889 249.383 Z\" fill=\"#000000\" fill-rule=\"evenodd\" fill-opacity=\"1\" /></svg>\n"
      ]
     },
     "execution_count": 62,
     "metadata": {},
     "output_type": "execute_result"
    }
   ],
   "source": [
    "scatter(x, y_observed)\n",
    "plot!(x, y_true)\n",
    "line_fit = fit(x, y_observed, 2)\n",
    "typeof(line_fit)\n",
    "fit_coeff = coeffs(line_fit)\n",
    "y_fitted = fit_coeff[1] .+ fit_coeff[2] .* x .+ fit_coeff[3] .* x.^2\n",
    "plot!(x, y_fitted)"
   ]
  },
  {
   "cell_type": "markdown",
   "id": "b3b5a343",
   "metadata": {},
   "source": [
    "### 2.4\n",
    "\n",
    "1. Repeat 2.2 and 2.3 with a noise with a standard deviation of 50"
   ]
  },
  {
   "cell_type": "code",
   "execution_count": 72,
   "id": "b4c08499",
   "metadata": {},
   "outputs": [
    {
     "data": {
      "image/svg+xml": [
       "<?xml version=\"1.0\" encoding=\"utf-8\"?>\n",
       "<svg xmlns=\"http://www.w3.org/2000/svg\" xmlns:xlink=\"http://www.w3.org/1999/xlink\" width=\"600\" height=\"400\" viewBox=\"0 0 2400 1600\">\n",
       "<defs>\n",
       "  <clipPath id=\"clip420\">\n",
       "    <rect x=\"0\" y=\"0\" width=\"2400\" height=\"1600\"/>\n",
       "  </clipPath>\n",
       "</defs>\n",
       "<path clip-path=\"url(#clip420)\" d=\"M0 1600 L2400 1600 L2400 0 L0 0  Z\" fill=\"#ffffff\" fill-rule=\"evenodd\" fill-opacity=\"1\"/>\n",
       "<defs>\n",
       "  <clipPath id=\"clip421\">\n",
       "    <rect x=\"480\" y=\"0\" width=\"1681\" height=\"1600\"/>\n",
       "  </clipPath>\n",
       "</defs>\n",
       "<path clip-path=\"url(#clip420)\" d=\"M169.121 1486.45 L2352.76 1486.45 L2352.76 47.2441 L169.121 47.2441  Z\" fill=\"#ffffff\" fill-rule=\"evenodd\" fill-opacity=\"1\"/>\n",
       "<defs>\n",
       "  <clipPath id=\"clip422\">\n",
       "    <rect x=\"169\" y=\"47\" width=\"2185\" height=\"1440\"/>\n",
       "  </clipPath>\n",
       "</defs>\n",
       "<polyline clip-path=\"url(#clip422)\" style=\"stroke:#000000; stroke-linecap:round; stroke-linejoin:round; stroke-width:2; stroke-opacity:0.1; fill:none\" points=\"230.922,1486.45 230.922,47.2441 \"/>\n",
       "<polyline clip-path=\"url(#clip422)\" style=\"stroke:#000000; stroke-linecap:round; stroke-linejoin:round; stroke-width:2; stroke-opacity:0.1; fill:none\" points=\"745.93,1486.45 745.93,47.2441 \"/>\n",
       "<polyline clip-path=\"url(#clip422)\" style=\"stroke:#000000; stroke-linecap:round; stroke-linejoin:round; stroke-width:2; stroke-opacity:0.1; fill:none\" points=\"1260.94,1486.45 1260.94,47.2441 \"/>\n",
       "<polyline clip-path=\"url(#clip422)\" style=\"stroke:#000000; stroke-linecap:round; stroke-linejoin:round; stroke-width:2; stroke-opacity:0.1; fill:none\" points=\"1775.95,1486.45 1775.95,47.2441 \"/>\n",
       "<polyline clip-path=\"url(#clip422)\" style=\"stroke:#000000; stroke-linecap:round; stroke-linejoin:round; stroke-width:2; stroke-opacity:0.1; fill:none\" points=\"2290.95,1486.45 2290.95,47.2441 \"/>\n",
       "<polyline clip-path=\"url(#clip420)\" style=\"stroke:#000000; stroke-linecap:round; stroke-linejoin:round; stroke-width:4; stroke-opacity:1; fill:none\" points=\"169.121,1486.45 2352.76,1486.45 \"/>\n",
       "<polyline clip-path=\"url(#clip420)\" style=\"stroke:#000000; stroke-linecap:round; stroke-linejoin:round; stroke-width:4; stroke-opacity:1; fill:none\" points=\"230.922,1486.45 230.922,1467.55 \"/>\n",
       "<polyline clip-path=\"url(#clip420)\" style=\"stroke:#000000; stroke-linecap:round; stroke-linejoin:round; stroke-width:4; stroke-opacity:1; fill:none\" points=\"745.93,1486.45 745.93,1467.55 \"/>\n",
       "<polyline clip-path=\"url(#clip420)\" style=\"stroke:#000000; stroke-linecap:round; stroke-linejoin:round; stroke-width:4; stroke-opacity:1; fill:none\" points=\"1260.94,1486.45 1260.94,1467.55 \"/>\n",
       "<polyline clip-path=\"url(#clip420)\" style=\"stroke:#000000; stroke-linecap:round; stroke-linejoin:round; stroke-width:4; stroke-opacity:1; fill:none\" points=\"1775.95,1486.45 1775.95,1467.55 \"/>\n",
       "<polyline clip-path=\"url(#clip420)\" style=\"stroke:#000000; stroke-linecap:round; stroke-linejoin:round; stroke-width:4; stroke-opacity:1; fill:none\" points=\"2290.95,1486.45 2290.95,1467.55 \"/>\n",
       "<path clip-path=\"url(#clip420)\" d=\"M184.985 1532.02 L214.661 1532.02 L214.661 1535.95 L184.985 1535.95 L184.985 1532.02 Z\" fill=\"#000000\" fill-rule=\"evenodd\" fill-opacity=\"1\" /><path clip-path=\"url(#clip420)\" d=\"M225.564 1544.91 L233.202 1544.91 L233.202 1518.55 L224.892 1520.21 L224.892 1515.95 L233.156 1514.29 L237.832 1514.29 L237.832 1544.91 L245.471 1544.91 L245.471 1548.85 L225.564 1548.85 L225.564 1544.91 Z\" fill=\"#000000\" fill-rule=\"evenodd\" fill-opacity=\"1\" /><path clip-path=\"url(#clip420)\" d=\"M264.915 1517.37 Q261.304 1517.37 259.475 1520.93 Q257.67 1524.47 257.67 1531.6 Q257.67 1538.71 259.475 1542.27 Q261.304 1545.82 264.915 1545.82 Q268.549 1545.82 270.355 1542.27 Q272.184 1538.71 272.184 1531.6 Q272.184 1524.47 270.355 1520.93 Q268.549 1517.37 264.915 1517.37 M264.915 1513.66 Q270.725 1513.66 273.781 1518.27 Q276.86 1522.85 276.86 1531.6 Q276.86 1540.33 273.781 1544.94 Q270.725 1549.52 264.915 1549.52 Q259.105 1549.52 256.026 1544.94 Q252.971 1540.33 252.971 1531.6 Q252.971 1522.85 256.026 1518.27 Q259.105 1513.66 264.915 1513.66 Z\" fill=\"#000000\" fill-rule=\"evenodd\" fill-opacity=\"1\" /><path clip-path=\"url(#clip420)\" d=\"M715.572 1532.02 L745.248 1532.02 L745.248 1535.95 L715.572 1535.95 L715.572 1532.02 Z\" fill=\"#000000\" fill-rule=\"evenodd\" fill-opacity=\"1\" /><path clip-path=\"url(#clip420)\" d=\"M755.386 1514.29 L773.743 1514.29 L773.743 1518.22 L759.669 1518.22 L759.669 1526.7 Q760.687 1526.35 761.706 1526.19 Q762.724 1526 763.743 1526 Q769.53 1526 772.909 1529.17 Q776.289 1532.34 776.289 1537.76 Q776.289 1543.34 772.817 1546.44 Q769.345 1549.52 763.025 1549.52 Q760.849 1549.52 758.581 1549.15 Q756.335 1548.78 753.928 1548.04 L753.928 1543.34 Q756.011 1544.47 758.234 1545.03 Q760.456 1545.58 762.933 1545.58 Q766.937 1545.58 769.275 1543.48 Q771.613 1541.37 771.613 1537.76 Q771.613 1534.15 769.275 1532.04 Q766.937 1529.94 762.933 1529.94 Q761.058 1529.94 759.183 1530.35 Q757.331 1530.77 755.386 1531.65 L755.386 1514.29 Z\" fill=\"#000000\" fill-rule=\"evenodd\" fill-opacity=\"1\" /><path clip-path=\"url(#clip420)\" d=\"M1260.94 1517.37 Q1257.33 1517.37 1255.5 1520.93 Q1253.69 1524.47 1253.69 1531.6 Q1253.69 1538.71 1255.5 1542.27 Q1257.33 1545.82 1260.94 1545.82 Q1264.57 1545.82 1266.38 1542.27 Q1268.21 1538.71 1268.21 1531.6 Q1268.21 1524.47 1266.38 1520.93 Q1264.57 1517.37 1260.94 1517.37 M1260.94 1513.66 Q1266.75 1513.66 1269.8 1518.27 Q1272.88 1522.85 1272.88 1531.6 Q1272.88 1540.33 1269.8 1544.94 Q1266.75 1549.52 1260.94 1549.52 Q1255.13 1549.52 1252.05 1544.94 Q1248.99 1540.33 1248.99 1531.6 Q1248.99 1522.85 1252.05 1518.27 Q1255.13 1513.66 1260.94 1513.66 Z\" fill=\"#000000\" fill-rule=\"evenodd\" fill-opacity=\"1\" /><path clip-path=\"url(#clip420)\" d=\"M1766.22 1514.29 L1784.58 1514.29 L1784.58 1518.22 L1770.51 1518.22 L1770.51 1526.7 Q1771.53 1526.35 1772.54 1526.19 Q1773.56 1526 1774.58 1526 Q1780.37 1526 1783.75 1529.17 Q1787.13 1532.34 1787.13 1537.76 Q1787.13 1543.34 1783.66 1546.44 Q1780.18 1549.52 1773.86 1549.52 Q1771.69 1549.52 1769.42 1549.15 Q1767.17 1548.78 1764.77 1548.04 L1764.77 1543.34 Q1766.85 1544.47 1769.07 1545.03 Q1771.29 1545.58 1773.77 1545.58 Q1777.78 1545.58 1780.11 1543.48 Q1782.45 1541.37 1782.45 1537.76 Q1782.45 1534.15 1780.11 1532.04 Q1777.78 1529.94 1773.77 1529.94 Q1771.9 1529.94 1770.02 1530.35 Q1768.17 1530.77 1766.22 1531.65 L1766.22 1514.29 Z\" fill=\"#000000\" fill-rule=\"evenodd\" fill-opacity=\"1\" /><path clip-path=\"url(#clip420)\" d=\"M2265.64 1544.91 L2273.28 1544.91 L2273.28 1518.55 L2264.97 1520.21 L2264.97 1515.95 L2273.24 1514.29 L2277.91 1514.29 L2277.91 1544.91 L2285.55 1544.91 L2285.55 1548.85 L2265.64 1548.85 L2265.64 1544.91 Z\" fill=\"#000000\" fill-rule=\"evenodd\" fill-opacity=\"1\" /><path clip-path=\"url(#clip420)\" d=\"M2304.99 1517.37 Q2301.38 1517.37 2299.55 1520.93 Q2297.75 1524.47 2297.75 1531.6 Q2297.75 1538.71 2299.55 1542.27 Q2301.38 1545.82 2304.99 1545.82 Q2308.63 1545.82 2310.43 1542.27 Q2312.26 1538.71 2312.26 1531.6 Q2312.26 1524.47 2310.43 1520.93 Q2308.63 1517.37 2304.99 1517.37 M2304.99 1513.66 Q2310.8 1513.66 2313.86 1518.27 Q2316.94 1522.85 2316.94 1531.6 Q2316.94 1540.33 2313.86 1544.94 Q2310.8 1549.52 2304.99 1549.52 Q2299.18 1549.52 2296.11 1544.94 Q2293.05 1540.33 2293.05 1531.6 Q2293.05 1522.85 2296.11 1518.27 Q2299.18 1513.66 2304.99 1513.66 Z\" fill=\"#000000\" fill-rule=\"evenodd\" fill-opacity=\"1\" /><polyline clip-path=\"url(#clip422)\" style=\"stroke:#000000; stroke-linecap:round; stroke-linejoin:round; stroke-width:2; stroke-opacity:0.1; fill:none\" points=\"169.121,1295.18 2352.76,1295.18 \"/>\n",
       "<polyline clip-path=\"url(#clip422)\" style=\"stroke:#000000; stroke-linecap:round; stroke-linejoin:round; stroke-width:2; stroke-opacity:0.1; fill:none\" points=\"169.121,885.838 2352.76,885.838 \"/>\n",
       "<polyline clip-path=\"url(#clip422)\" style=\"stroke:#000000; stroke-linecap:round; stroke-linejoin:round; stroke-width:2; stroke-opacity:0.1; fill:none\" points=\"169.121,476.493 2352.76,476.493 \"/>\n",
       "<polyline clip-path=\"url(#clip422)\" style=\"stroke:#000000; stroke-linecap:round; stroke-linejoin:round; stroke-width:2; stroke-opacity:0.1; fill:none\" points=\"169.121,67.1487 2352.76,67.1487 \"/>\n",
       "<polyline clip-path=\"url(#clip420)\" style=\"stroke:#000000; stroke-linecap:round; stroke-linejoin:round; stroke-width:4; stroke-opacity:1; fill:none\" points=\"169.121,1486.45 169.121,47.2441 \"/>\n",
       "<polyline clip-path=\"url(#clip420)\" style=\"stroke:#000000; stroke-linecap:round; stroke-linejoin:round; stroke-width:4; stroke-opacity:1; fill:none\" points=\"169.121,1295.18 188.019,1295.18 \"/>\n",
       "<polyline clip-path=\"url(#clip420)\" style=\"stroke:#000000; stroke-linecap:round; stroke-linejoin:round; stroke-width:4; stroke-opacity:1; fill:none\" points=\"169.121,885.838 188.019,885.838 \"/>\n",
       "<polyline clip-path=\"url(#clip420)\" style=\"stroke:#000000; stroke-linecap:round; stroke-linejoin:round; stroke-width:4; stroke-opacity:1; fill:none\" points=\"169.121,476.493 188.019,476.493 \"/>\n",
       "<polyline clip-path=\"url(#clip420)\" style=\"stroke:#000000; stroke-linecap:round; stroke-linejoin:round; stroke-width:4; stroke-opacity:1; fill:none\" points=\"169.121,67.1487 188.019,67.1487 \"/>\n",
       "<path clip-path=\"url(#clip420)\" d=\"M121.177 1280.98 Q117.566 1280.98 115.737 1284.55 Q113.932 1288.09 113.932 1295.22 Q113.932 1302.32 115.737 1305.89 Q117.566 1309.43 121.177 1309.43 Q124.811 1309.43 126.617 1305.89 Q128.445 1302.32 128.445 1295.22 Q128.445 1288.09 126.617 1284.55 Q124.811 1280.98 121.177 1280.98 M121.177 1277.28 Q126.987 1277.28 130.043 1281.88 Q133.121 1286.47 133.121 1295.22 Q133.121 1303.94 130.043 1308.55 Q126.987 1313.13 121.177 1313.13 Q115.367 1313.13 112.288 1308.55 Q109.233 1303.94 109.233 1295.22 Q109.233 1286.47 112.288 1281.88 Q115.367 1277.28 121.177 1277.28 Z\" fill=\"#000000\" fill-rule=\"evenodd\" fill-opacity=\"1\" /><path clip-path=\"url(#clip420)\" d=\"M81.0614 868.558 L99.4178 868.558 L99.4178 872.493 L85.3438 872.493 L85.3438 880.965 Q86.3623 880.618 87.3808 880.456 Q88.3993 880.271 89.4178 880.271 Q95.2049 880.271 98.5845 883.442 Q101.964 886.614 101.964 892.03 Q101.964 897.609 98.4919 900.711 Q95.0197 903.789 88.7003 903.789 Q86.5243 903.789 84.2558 903.419 Q82.0105 903.049 79.6031 902.308 L79.6031 897.609 Q81.6864 898.743 83.9086 899.299 Q86.1308 899.854 88.6077 899.854 Q92.6123 899.854 94.9502 897.748 Q97.2882 895.641 97.2882 892.03 Q97.2882 888.419 94.9502 886.313 Q92.6123 884.206 88.6077 884.206 Q86.7327 884.206 84.8577 884.623 Q83.0058 885.039 81.0614 885.919 L81.0614 868.558 Z\" fill=\"#000000\" fill-rule=\"evenodd\" fill-opacity=\"1\" /><path clip-path=\"url(#clip420)\" d=\"M121.177 871.637 Q117.566 871.637 115.737 875.202 Q113.932 878.743 113.932 885.873 Q113.932 892.979 115.737 896.544 Q117.566 900.086 121.177 900.086 Q124.811 900.086 126.617 896.544 Q128.445 892.979 128.445 885.873 Q128.445 878.743 126.617 875.202 Q124.811 871.637 121.177 871.637 M121.177 867.933 Q126.987 867.933 130.043 872.54 Q133.121 877.123 133.121 885.873 Q133.121 894.6 130.043 899.206 Q126.987 903.789 121.177 903.789 Q115.367 903.789 112.288 899.206 Q109.233 894.6 109.233 885.873 Q109.233 877.123 112.288 872.54 Q115.367 867.933 121.177 867.933 Z\" fill=\"#000000\" fill-rule=\"evenodd\" fill-opacity=\"1\" /><path clip-path=\"url(#clip420)\" d=\"M51.6634 489.838 L59.3023 489.838 L59.3023 463.473 L50.9921 465.139 L50.9921 460.88 L59.256 459.213 L63.9319 459.213 L63.9319 489.838 L71.5707 489.838 L71.5707 493.773 L51.6634 493.773 L51.6634 489.838 Z\" fill=\"#000000\" fill-rule=\"evenodd\" fill-opacity=\"1\" /><path clip-path=\"url(#clip420)\" d=\"M91.0151 462.292 Q87.404 462.292 85.5753 465.857 Q83.7697 469.399 83.7697 476.528 Q83.7697 483.635 85.5753 487.199 Q87.404 490.741 91.0151 490.741 Q94.6493 490.741 96.4548 487.199 Q98.2835 483.635 98.2835 476.528 Q98.2835 469.399 96.4548 465.857 Q94.6493 462.292 91.0151 462.292 M91.0151 458.588 Q96.8252 458.588 99.8808 463.195 Q102.959 467.778 102.959 476.528 Q102.959 485.255 99.8808 489.861 Q96.8252 494.445 91.0151 494.445 Q85.2049 494.445 82.1262 489.861 Q79.0707 485.255 79.0707 476.528 Q79.0707 467.778 82.1262 463.195 Q85.2049 458.588 91.0151 458.588 Z\" fill=\"#000000\" fill-rule=\"evenodd\" fill-opacity=\"1\" /><path clip-path=\"url(#clip420)\" d=\"M121.177 462.292 Q117.566 462.292 115.737 465.857 Q113.932 469.399 113.932 476.528 Q113.932 483.635 115.737 487.199 Q117.566 490.741 121.177 490.741 Q124.811 490.741 126.617 487.199 Q128.445 483.635 128.445 476.528 Q128.445 469.399 126.617 465.857 Q124.811 462.292 121.177 462.292 M121.177 458.588 Q126.987 458.588 130.043 463.195 Q133.121 467.778 133.121 476.528 Q133.121 485.255 130.043 489.861 Q126.987 494.445 121.177 494.445 Q115.367 494.445 112.288 489.861 Q109.233 485.255 109.233 476.528 Q109.233 467.778 112.288 463.195 Q115.367 458.588 121.177 458.588 Z\" fill=\"#000000\" fill-rule=\"evenodd\" fill-opacity=\"1\" /><path clip-path=\"url(#clip420)\" d=\"M51.6634 80.4935 L59.3023 80.4935 L59.3023 54.1279 L50.9921 55.7946 L50.9921 51.5354 L59.256 49.8687 L63.9319 49.8687 L63.9319 80.4935 L71.5707 80.4935 L71.5707 84.4287 L51.6634 84.4287 L51.6634 80.4935 Z\" fill=\"#000000\" fill-rule=\"evenodd\" fill-opacity=\"1\" /><path clip-path=\"url(#clip420)\" d=\"M81.0614 49.8687 L99.4178 49.8687 L99.4178 53.8039 L85.3438 53.8039 L85.3438 62.276 Q86.3623 61.9288 87.3808 61.7668 Q88.3993 61.5816 89.4178 61.5816 Q95.2049 61.5816 98.5845 64.7529 Q101.964 67.9242 101.964 73.3408 Q101.964 78.9195 98.4919 82.0213 Q95.0197 85.1 88.7003 85.1 Q86.5243 85.1 84.2558 84.7296 Q82.0105 84.3593 79.6031 83.6185 L79.6031 78.9195 Q81.6864 80.0537 83.9086 80.6093 Q86.1308 81.1648 88.6077 81.1648 Q92.6123 81.1648 94.9502 79.0584 Q97.2882 76.9519 97.2882 73.3408 Q97.2882 69.7297 94.9502 67.6232 Q92.6123 65.5168 88.6077 65.5168 Q86.7327 65.5168 84.8577 65.9334 Q83.0058 66.3501 81.0614 67.2297 L81.0614 49.8687 Z\" fill=\"#000000\" fill-rule=\"evenodd\" fill-opacity=\"1\" /><path clip-path=\"url(#clip420)\" d=\"M121.177 52.9474 Q117.566 52.9474 115.737 56.5122 Q113.932 60.0538 113.932 67.1834 Q113.932 74.2899 115.737 77.8547 Q117.566 81.3963 121.177 81.3963 Q124.811 81.3963 126.617 77.8547 Q128.445 74.2899 128.445 67.1834 Q128.445 60.0538 126.617 56.5122 Q124.811 52.9474 121.177 52.9474 M121.177 49.2437 Q126.987 49.2437 130.043 53.8502 Q133.121 58.4335 133.121 67.1834 Q133.121 75.9102 130.043 80.5167 Q126.987 85.1 121.177 85.1 Q115.367 85.1 112.288 80.5167 Q109.233 75.9102 109.233 67.1834 Q109.233 58.4335 112.288 53.8502 Q115.367 49.2437 121.177 49.2437 Z\" fill=\"#000000\" fill-rule=\"evenodd\" fill-opacity=\"1\" /><circle clip-path=\"url(#clip422)\" cx=\"230.922\" cy=\"530.076\" r=\"14.4\" fill=\"#009af9\" fill-rule=\"evenodd\" fill-opacity=\"1\" stroke=\"#000000\" stroke-opacity=\"1\" stroke-width=\"3.2\"/>\n",
       "<circle clip-path=\"url(#clip422)\" cx=\"333.924\" cy=\"619.921\" r=\"14.4\" fill=\"#009af9\" fill-rule=\"evenodd\" fill-opacity=\"1\" stroke=\"#000000\" stroke-opacity=\"1\" stroke-width=\"3.2\"/>\n",
       "<circle clip-path=\"url(#clip422)\" cx=\"436.926\" cy=\"1098.76\" r=\"14.4\" fill=\"#009af9\" fill-rule=\"evenodd\" fill-opacity=\"1\" stroke=\"#000000\" stroke-opacity=\"1\" stroke-width=\"3.2\"/>\n",
       "<circle clip-path=\"url(#clip422)\" cx=\"539.927\" cy=\"1013.49\" r=\"14.4\" fill=\"#009af9\" fill-rule=\"evenodd\" fill-opacity=\"1\" stroke=\"#000000\" stroke-opacity=\"1\" stroke-width=\"3.2\"/>\n",
       "<circle clip-path=\"url(#clip422)\" cx=\"642.929\" cy=\"1274.3\" r=\"14.4\" fill=\"#009af9\" fill-rule=\"evenodd\" fill-opacity=\"1\" stroke=\"#000000\" stroke-opacity=\"1\" stroke-width=\"3.2\"/>\n",
       "<circle clip-path=\"url(#clip422)\" cx=\"745.93\" cy=\"1293.57\" r=\"14.4\" fill=\"#009af9\" fill-rule=\"evenodd\" fill-opacity=\"1\" stroke=\"#000000\" stroke-opacity=\"1\" stroke-width=\"3.2\"/>\n",
       "<circle clip-path=\"url(#clip422)\" cx=\"848.932\" cy=\"1265.34\" r=\"14.4\" fill=\"#009af9\" fill-rule=\"evenodd\" fill-opacity=\"1\" stroke=\"#000000\" stroke-opacity=\"1\" stroke-width=\"3.2\"/>\n",
       "<circle clip-path=\"url(#clip422)\" cx=\"951.934\" cy=\"1339.68\" r=\"14.4\" fill=\"#009af9\" fill-rule=\"evenodd\" fill-opacity=\"1\" stroke=\"#000000\" stroke-opacity=\"1\" stroke-width=\"3.2\"/>\n",
       "<circle clip-path=\"url(#clip422)\" cx=\"1054.94\" cy=\"1135.56\" r=\"14.4\" fill=\"#009af9\" fill-rule=\"evenodd\" fill-opacity=\"1\" stroke=\"#000000\" stroke-opacity=\"1\" stroke-width=\"3.2\"/>\n",
       "<circle clip-path=\"url(#clip422)\" cx=\"1157.94\" cy=\"765.511\" r=\"14.4\" fill=\"#009af9\" fill-rule=\"evenodd\" fill-opacity=\"1\" stroke=\"#000000\" stroke-opacity=\"1\" stroke-width=\"3.2\"/>\n",
       "<circle clip-path=\"url(#clip422)\" cx=\"1260.94\" cy=\"927.096\" r=\"14.4\" fill=\"#009af9\" fill-rule=\"evenodd\" fill-opacity=\"1\" stroke=\"#000000\" stroke-opacity=\"1\" stroke-width=\"3.2\"/>\n",
       "<circle clip-path=\"url(#clip422)\" cx=\"1363.94\" cy=\"1445.72\" r=\"14.4\" fill=\"#009af9\" fill-rule=\"evenodd\" fill-opacity=\"1\" stroke=\"#000000\" stroke-opacity=\"1\" stroke-width=\"3.2\"/>\n",
       "<circle clip-path=\"url(#clip422)\" cx=\"1466.94\" cy=\"1115.71\" r=\"14.4\" fill=\"#009af9\" fill-rule=\"evenodd\" fill-opacity=\"1\" stroke=\"#000000\" stroke-opacity=\"1\" stroke-width=\"3.2\"/>\n",
       "<circle clip-path=\"url(#clip422)\" cx=\"1569.94\" cy=\"1335.05\" r=\"14.4\" fill=\"#009af9\" fill-rule=\"evenodd\" fill-opacity=\"1\" stroke=\"#000000\" stroke-opacity=\"1\" stroke-width=\"3.2\"/>\n",
       "<circle clip-path=\"url(#clip422)\" cx=\"1672.95\" cy=\"188.665\" r=\"14.4\" fill=\"#009af9\" fill-rule=\"evenodd\" fill-opacity=\"1\" stroke=\"#000000\" stroke-opacity=\"1\" stroke-width=\"3.2\"/>\n",
       "<circle clip-path=\"url(#clip422)\" cx=\"1775.95\" cy=\"658.889\" r=\"14.4\" fill=\"#009af9\" fill-rule=\"evenodd\" fill-opacity=\"1\" stroke=\"#000000\" stroke-opacity=\"1\" stroke-width=\"3.2\"/>\n",
       "<circle clip-path=\"url(#clip422)\" cx=\"1878.95\" cy=\"933.416\" r=\"14.4\" fill=\"#009af9\" fill-rule=\"evenodd\" fill-opacity=\"1\" stroke=\"#000000\" stroke-opacity=\"1\" stroke-width=\"3.2\"/>\n",
       "<circle clip-path=\"url(#clip422)\" cx=\"1981.95\" cy=\"1290.14\" r=\"14.4\" fill=\"#009af9\" fill-rule=\"evenodd\" fill-opacity=\"1\" stroke=\"#000000\" stroke-opacity=\"1\" stroke-width=\"3.2\"/>\n",
       "<circle clip-path=\"url(#clip422)\" cx=\"2084.95\" cy=\"87.9763\" r=\"14.4\" fill=\"#009af9\" fill-rule=\"evenodd\" fill-opacity=\"1\" stroke=\"#000000\" stroke-opacity=\"1\" stroke-width=\"3.2\"/>\n",
       "<circle clip-path=\"url(#clip422)\" cx=\"2187.95\" cy=\"170.033\" r=\"14.4\" fill=\"#009af9\" fill-rule=\"evenodd\" fill-opacity=\"1\" stroke=\"#000000\" stroke-opacity=\"1\" stroke-width=\"3.2\"/>\n",
       "<circle clip-path=\"url(#clip422)\" cx=\"2290.95\" cy=\"613.415\" r=\"14.4\" fill=\"#009af9\" fill-rule=\"evenodd\" fill-opacity=\"1\" stroke=\"#000000\" stroke-opacity=\"1\" stroke-width=\"3.2\"/>\n",
       "<polyline clip-path=\"url(#clip422)\" style=\"stroke:#e26f46; stroke-linecap:round; stroke-linejoin:round; stroke-width:4; stroke-opacity:1; fill:none\" points=\"230.922,738.474 333.924,869.464 436.926,984.081 539.927,1082.32 642.929,1164.19 745.93,1229.69 848.932,1278.81 951.934,1311.56 1054.94,1327.93 1157.94,1327.93 1260.94,1311.56 1363.94,1278.81 1466.94,1229.69 1569.94,1164.19 1672.95,1082.32 1775.95,984.081 1878.95,869.464 1981.95,738.474 2084.95,591.11 2187.95,427.372 2290.95,247.26 \"/>\n",
       "<polyline clip-path=\"url(#clip422)\" style=\"stroke:#3da44d; stroke-linecap:round; stroke-linejoin:round; stroke-width:4; stroke-opacity:1; fill:none\" points=\"230.922,733.471 333.924,833.759 436.926,920.994 539.927,995.175 642.929,1056.3 745.93,1104.38 848.932,1139.4 951.934,1161.37 1054.94,1170.28 1157.94,1166.14 1260.94,1148.95 1363.94,1118.7 1466.94,1075.4 1569.94,1019.05 1672.95,949.641 1775.95,867.181 1878.95,771.667 1981.95,663.1 2084.95,541.48 2187.95,406.806 2290.95,259.079 \"/>\n",
       "<path clip-path=\"url(#clip420)\" d=\"M241.909 302.578 L513.282 302.578 L513.282 95.2176 L241.909 95.2176  Z\" fill=\"#ffffff\" fill-rule=\"evenodd\" fill-opacity=\"1\"/>\n",
       "<polyline clip-path=\"url(#clip420)\" style=\"stroke:#000000; stroke-linecap:round; stroke-linejoin:round; stroke-width:4; stroke-opacity:1; fill:none\" points=\"241.909,302.578 513.282,302.578 513.282,95.2176 241.909,95.2176 241.909,302.578 \"/>\n",
       "<circle clip-path=\"url(#clip420)\" cx=\"338.96\" cy=\"147.058\" r=\"23.04\" fill=\"#009af9\" fill-rule=\"evenodd\" fill-opacity=\"1\" stroke=\"#000000\" stroke-opacity=\"1\" stroke-width=\"5.12\"/>\n",
       "<path clip-path=\"url(#clip420)\" d=\"M449.853 166.745 Q448.047 171.375 446.334 172.787 Q444.621 174.199 441.751 174.199 L438.348 174.199 L438.348 170.634 L440.848 170.634 Q442.607 170.634 443.579 169.8 Q444.552 168.967 445.732 165.865 L446.496 163.921 L436.01 138.412 L440.524 138.412 L448.626 158.689 L456.727 138.412 L461.241 138.412 L449.853 166.745 Z\" fill=\"#000000\" fill-rule=\"evenodd\" fill-opacity=\"1\" /><path clip-path=\"url(#clip420)\" d=\"M468.533 160.402 L476.172 160.402 L476.172 134.037 L467.862 135.703 L467.862 131.444 L476.126 129.778 L480.801 129.778 L480.801 160.402 L488.44 160.402 L488.44 164.338 L468.533 164.338 L468.533 160.402 Z\" fill=\"#000000\" fill-rule=\"evenodd\" fill-opacity=\"1\" /><polyline clip-path=\"url(#clip420)\" style=\"stroke:#e26f46; stroke-linecap:round; stroke-linejoin:round; stroke-width:4; stroke-opacity:1; fill:none\" points=\"266.172,198.898 411.747,198.898 \"/>\n",
       "<path clip-path=\"url(#clip420)\" d=\"M449.853 218.585 Q448.047 223.215 446.334 224.627 Q444.621 226.039 441.751 226.039 L438.348 226.039 L438.348 222.474 L440.848 222.474 Q442.607 222.474 443.579 221.64 Q444.552 220.807 445.732 217.705 L446.496 215.761 L436.01 190.252 L440.524 190.252 L448.626 210.529 L456.727 190.252 L461.241 190.252 L449.853 218.585 Z\" fill=\"#000000\" fill-rule=\"evenodd\" fill-opacity=\"1\" /><path clip-path=\"url(#clip420)\" d=\"M471.751 212.242 L488.07 212.242 L488.07 216.178 L466.126 216.178 L466.126 212.242 Q468.788 209.488 473.371 204.858 Q477.977 200.205 479.158 198.863 Q481.403 196.34 482.283 194.604 Q483.186 192.844 483.186 191.155 Q483.186 188.4 481.241 186.664 Q479.32 184.928 476.218 184.928 Q474.019 184.928 471.565 185.692 Q469.135 186.455 466.357 188.006 L466.357 183.284 Q469.181 182.15 471.635 181.571 Q474.088 180.993 476.126 180.993 Q481.496 180.993 484.69 183.678 Q487.885 186.363 487.885 190.854 Q487.885 192.983 487.075 194.905 Q486.287 196.803 484.181 199.395 Q483.602 200.067 480.5 203.284 Q477.399 206.479 471.751 212.242 Z\" fill=\"#000000\" fill-rule=\"evenodd\" fill-opacity=\"1\" /><polyline clip-path=\"url(#clip420)\" style=\"stroke:#3da44d; stroke-linecap:round; stroke-linejoin:round; stroke-width:4; stroke-opacity:1; fill:none\" points=\"266.172,250.738 411.747,250.738 \"/>\n",
       "<path clip-path=\"url(#clip420)\" d=\"M449.853 270.425 Q448.047 275.055 446.334 276.467 Q444.621 277.879 441.751 277.879 L438.348 277.879 L438.348 274.314 L440.848 274.314 Q442.607 274.314 443.579 273.48 Q444.552 272.647 445.732 269.545 L446.496 267.601 L436.01 242.092 L440.524 242.092 L448.626 262.369 L456.727 242.092 L461.241 242.092 L449.853 270.425 Z\" fill=\"#000000\" fill-rule=\"evenodd\" fill-opacity=\"1\" /><path clip-path=\"url(#clip420)\" d=\"M481.889 249.383 Q485.246 250.101 487.121 252.369 Q489.019 254.638 489.019 257.971 Q489.019 263.087 485.5 265.888 Q481.982 268.689 475.501 268.689 Q473.325 268.689 471.01 268.249 Q468.718 267.832 466.264 266.976 L466.264 262.462 Q468.209 263.596 470.524 264.175 Q472.838 264.754 475.362 264.754 Q479.76 264.754 482.051 263.018 Q484.366 261.281 484.366 257.971 Q484.366 254.916 482.213 253.203 Q480.084 251.467 476.264 251.467 L472.237 251.467 L472.237 247.624 L476.45 247.624 Q479.899 247.624 481.727 246.258 Q483.556 244.87 483.556 242.277 Q483.556 239.615 481.658 238.203 Q479.783 236.768 476.264 236.768 Q474.343 236.768 472.144 237.184 Q469.945 237.601 467.306 238.481 L467.306 234.314 Q469.968 233.573 472.283 233.203 Q474.621 232.833 476.681 232.833 Q482.005 232.833 485.107 235.263 Q488.209 237.67 488.209 241.791 Q488.209 244.661 486.565 246.652 Q484.922 248.62 481.889 249.383 Z\" fill=\"#000000\" fill-rule=\"evenodd\" fill-opacity=\"1\" /></svg>\n"
      ]
     },
     "execution_count": 72,
     "metadata": {},
     "output_type": "execute_result"
    }
   ],
   "source": [
    "x = -10:1:10\n",
    "data_error_fifty = 50\n",
    "noise_fifty = di.Normal(0, data_error_fifty)\n",
    "y_observed_fifty = y_true .+ rand(noise_fifty, length(x))\n",
    "scatter(x, y_observed_fifty)\n",
    "plot!(x, y_true)\n",
    "line_fit_fifty = fit(x, y_observed_fifty, 2)\n",
    "typeof(line_fit_fifty)\n",
    "fit_coeff_fifty = coeffs(line_fit_fifty)\n",
    "y_fitted_fifty = fit_coeff_fifty[1] .+ fit_coeff_fifty[2] .* x .+ fit_coeff_fifty[3] .* x.^2\n",
    "plot!(x, y_fitted_fifty)"
   ]
  },
  {
   "cell_type": "markdown",
   "id": "ab12acbd",
   "metadata": {},
   "source": [
    "2. Compare the plot with the plot in 2.3. Is the fit closer to y_true or not, and why?"
   ]
  },
  {
   "cell_type": "markdown",
   "id": "a34fcca4",
   "metadata": {},
   "source": [
    "Compared to the plot from 2.3, this is definitely a worse fit. This fit is clearly not closer to y_true because the standard deviation of the Gaussian distribution is higher, adding more noise into the observed plot, skewing the fitted polynomial."
   ]
  },
  {
   "cell_type": "markdown",
   "id": "5fd1d93b",
   "metadata": {},
   "source": [
    "### 2.5\n",
    "\n",
    "#### Repeat 2.2 and 2.3 with a tenth order polynomial fit\n"
   ]
  },
  {
   "cell_type": "code",
   "execution_count": 74,
   "id": "b6dbd546",
   "metadata": {},
   "outputs": [
    {
     "data": {
      "image/svg+xml": [
       "<?xml version=\"1.0\" encoding=\"utf-8\"?>\n",
       "<svg xmlns=\"http://www.w3.org/2000/svg\" xmlns:xlink=\"http://www.w3.org/1999/xlink\" width=\"600\" height=\"400\" viewBox=\"0 0 2400 1600\">\n",
       "<defs>\n",
       "  <clipPath id=\"clip500\">\n",
       "    <rect x=\"0\" y=\"0\" width=\"2400\" height=\"1600\"/>\n",
       "  </clipPath>\n",
       "</defs>\n",
       "<path clip-path=\"url(#clip500)\" d=\"M0 1600 L2400 1600 L2400 0 L0 0  Z\" fill=\"#ffffff\" fill-rule=\"evenodd\" fill-opacity=\"1\"/>\n",
       "<defs>\n",
       "  <clipPath id=\"clip501\">\n",
       "    <rect x=\"480\" y=\"0\" width=\"1681\" height=\"1600\"/>\n",
       "  </clipPath>\n",
       "</defs>\n",
       "<path clip-path=\"url(#clip500)\" d=\"M239.19 1486.45 L2352.76 1486.45 L2352.76 47.2441 L239.19 47.2441  Z\" fill=\"#ffffff\" fill-rule=\"evenodd\" fill-opacity=\"1\"/>\n",
       "<defs>\n",
       "  <clipPath id=\"clip502\">\n",
       "    <rect x=\"239\" y=\"47\" width=\"2115\" height=\"1440\"/>\n",
       "  </clipPath>\n",
       "</defs>\n",
       "<polyline clip-path=\"url(#clip502)\" style=\"stroke:#000000; stroke-linecap:round; stroke-linejoin:round; stroke-width:2; stroke-opacity:0.1; fill:none\" points=\"299.008,1486.45 299.008,47.2441 \"/>\n",
       "<polyline clip-path=\"url(#clip502)\" style=\"stroke:#000000; stroke-linecap:round; stroke-linejoin:round; stroke-width:2; stroke-opacity:0.1; fill:none\" points=\"797.491,1486.45 797.491,47.2441 \"/>\n",
       "<polyline clip-path=\"url(#clip502)\" style=\"stroke:#000000; stroke-linecap:round; stroke-linejoin:round; stroke-width:2; stroke-opacity:0.1; fill:none\" points=\"1295.97,1486.45 1295.97,47.2441 \"/>\n",
       "<polyline clip-path=\"url(#clip502)\" style=\"stroke:#000000; stroke-linecap:round; stroke-linejoin:round; stroke-width:2; stroke-opacity:0.1; fill:none\" points=\"1794.46,1486.45 1794.46,47.2441 \"/>\n",
       "<polyline clip-path=\"url(#clip502)\" style=\"stroke:#000000; stroke-linecap:round; stroke-linejoin:round; stroke-width:2; stroke-opacity:0.1; fill:none\" points=\"2292.94,1486.45 2292.94,47.2441 \"/>\n",
       "<polyline clip-path=\"url(#clip500)\" style=\"stroke:#000000; stroke-linecap:round; stroke-linejoin:round; stroke-width:4; stroke-opacity:1; fill:none\" points=\"239.19,1486.45 2352.76,1486.45 \"/>\n",
       "<polyline clip-path=\"url(#clip500)\" style=\"stroke:#000000; stroke-linecap:round; stroke-linejoin:round; stroke-width:4; stroke-opacity:1; fill:none\" points=\"299.008,1486.45 299.008,1467.55 \"/>\n",
       "<polyline clip-path=\"url(#clip500)\" style=\"stroke:#000000; stroke-linecap:round; stroke-linejoin:round; stroke-width:4; stroke-opacity:1; fill:none\" points=\"797.491,1486.45 797.491,1467.55 \"/>\n",
       "<polyline clip-path=\"url(#clip500)\" style=\"stroke:#000000; stroke-linecap:round; stroke-linejoin:round; stroke-width:4; stroke-opacity:1; fill:none\" points=\"1295.97,1486.45 1295.97,1467.55 \"/>\n",
       "<polyline clip-path=\"url(#clip500)\" style=\"stroke:#000000; stroke-linecap:round; stroke-linejoin:round; stroke-width:4; stroke-opacity:1; fill:none\" points=\"1794.46,1486.45 1794.46,1467.55 \"/>\n",
       "<polyline clip-path=\"url(#clip500)\" style=\"stroke:#000000; stroke-linecap:round; stroke-linejoin:round; stroke-width:4; stroke-opacity:1; fill:none\" points=\"2292.94,1486.45 2292.94,1467.55 \"/>\n",
       "<path clip-path=\"url(#clip500)\" d=\"M253.071 1532.02 L282.747 1532.02 L282.747 1535.95 L253.071 1535.95 L253.071 1532.02 Z\" fill=\"#000000\" fill-rule=\"evenodd\" fill-opacity=\"1\" /><path clip-path=\"url(#clip500)\" d=\"M293.65 1544.91 L301.288 1544.91 L301.288 1518.55 L292.978 1520.21 L292.978 1515.95 L301.242 1514.29 L305.918 1514.29 L305.918 1544.91 L313.557 1544.91 L313.557 1548.85 L293.65 1548.85 L293.65 1544.91 Z\" fill=\"#000000\" fill-rule=\"evenodd\" fill-opacity=\"1\" /><path clip-path=\"url(#clip500)\" d=\"M333.001 1517.37 Q329.39 1517.37 327.561 1520.93 Q325.756 1524.47 325.756 1531.6 Q325.756 1538.71 327.561 1542.27 Q329.39 1545.82 333.001 1545.82 Q336.635 1545.82 338.441 1542.27 Q340.27 1538.71 340.27 1531.6 Q340.27 1524.47 338.441 1520.93 Q336.635 1517.37 333.001 1517.37 M333.001 1513.66 Q338.811 1513.66 341.867 1518.27 Q344.946 1522.85 344.946 1531.6 Q344.946 1540.33 341.867 1544.94 Q338.811 1549.52 333.001 1549.52 Q327.191 1549.52 324.112 1544.94 Q321.057 1540.33 321.057 1531.6 Q321.057 1522.85 324.112 1518.27 Q327.191 1513.66 333.001 1513.66 Z\" fill=\"#000000\" fill-rule=\"evenodd\" fill-opacity=\"1\" /><path clip-path=\"url(#clip500)\" d=\"M767.132 1532.02 L796.808 1532.02 L796.808 1535.95 L767.132 1535.95 L767.132 1532.02 Z\" fill=\"#000000\" fill-rule=\"evenodd\" fill-opacity=\"1\" /><path clip-path=\"url(#clip500)\" d=\"M806.947 1514.29 L825.303 1514.29 L825.303 1518.22 L811.229 1518.22 L811.229 1526.7 Q812.248 1526.35 813.266 1526.19 Q814.285 1526 815.303 1526 Q821.09 1526 824.47 1529.17 Q827.849 1532.34 827.849 1537.76 Q827.849 1543.34 824.377 1546.44 Q820.905 1549.52 814.586 1549.52 Q812.41 1549.52 810.141 1549.15 Q807.896 1548.78 805.488 1548.04 L805.488 1543.34 Q807.572 1544.47 809.794 1545.03 Q812.016 1545.58 814.493 1545.58 Q818.498 1545.58 820.835 1543.48 Q823.173 1541.37 823.173 1537.76 Q823.173 1534.15 820.835 1532.04 Q818.498 1529.94 814.493 1529.94 Q812.618 1529.94 810.743 1530.35 Q808.891 1530.77 806.947 1531.65 L806.947 1514.29 Z\" fill=\"#000000\" fill-rule=\"evenodd\" fill-opacity=\"1\" /><path clip-path=\"url(#clip500)\" d=\"M1295.97 1517.37 Q1292.36 1517.37 1290.53 1520.93 Q1288.73 1524.47 1288.73 1531.6 Q1288.73 1538.71 1290.53 1542.27 Q1292.36 1545.82 1295.97 1545.82 Q1299.61 1545.82 1301.41 1542.27 Q1303.24 1538.71 1303.24 1531.6 Q1303.24 1524.47 1301.41 1520.93 Q1299.61 1517.37 1295.97 1517.37 M1295.97 1513.66 Q1301.78 1513.66 1304.84 1518.27 Q1307.92 1522.85 1307.92 1531.6 Q1307.92 1540.33 1304.84 1544.94 Q1301.78 1549.52 1295.97 1549.52 Q1290.16 1549.52 1287.08 1544.94 Q1284.03 1540.33 1284.03 1531.6 Q1284.03 1522.85 1287.08 1518.27 Q1290.16 1513.66 1295.97 1513.66 Z\" fill=\"#000000\" fill-rule=\"evenodd\" fill-opacity=\"1\" /><path clip-path=\"url(#clip500)\" d=\"M1784.73 1514.29 L1803.09 1514.29 L1803.09 1518.22 L1789.02 1518.22 L1789.02 1526.7 Q1790.03 1526.35 1791.05 1526.19 Q1792.07 1526 1793.09 1526 Q1798.88 1526 1802.26 1529.17 Q1805.64 1532.34 1805.64 1537.76 Q1805.64 1543.34 1802.16 1546.44 Q1798.69 1549.52 1792.37 1549.52 Q1790.2 1549.52 1787.93 1549.15 Q1785.68 1548.78 1783.28 1548.04 L1783.28 1543.34 Q1785.36 1544.47 1787.58 1545.03 Q1789.8 1545.58 1792.28 1545.58 Q1796.28 1545.58 1798.62 1543.48 Q1800.96 1541.37 1800.96 1537.76 Q1800.96 1534.15 1798.62 1532.04 Q1796.28 1529.94 1792.28 1529.94 Q1790.4 1529.94 1788.53 1530.35 Q1786.68 1530.77 1784.73 1531.65 L1784.73 1514.29 Z\" fill=\"#000000\" fill-rule=\"evenodd\" fill-opacity=\"1\" /><path clip-path=\"url(#clip500)\" d=\"M2267.63 1544.91 L2275.26 1544.91 L2275.26 1518.55 L2266.95 1520.21 L2266.95 1515.95 L2275.22 1514.29 L2279.89 1514.29 L2279.89 1544.91 L2287.53 1544.91 L2287.53 1548.85 L2267.63 1548.85 L2267.63 1544.91 Z\" fill=\"#000000\" fill-rule=\"evenodd\" fill-opacity=\"1\" /><path clip-path=\"url(#clip500)\" d=\"M2306.98 1517.37 Q2303.37 1517.37 2301.54 1520.93 Q2299.73 1524.47 2299.73 1531.6 Q2299.73 1538.71 2301.54 1542.27 Q2303.37 1545.82 2306.98 1545.82 Q2310.61 1545.82 2312.42 1542.27 Q2314.25 1538.71 2314.25 1531.6 Q2314.25 1524.47 2312.42 1520.93 Q2310.61 1517.37 2306.98 1517.37 M2306.98 1513.66 Q2312.79 1513.66 2315.84 1518.27 Q2318.92 1522.85 2318.92 1531.6 Q2318.92 1540.33 2315.84 1544.94 Q2312.79 1549.52 2306.98 1549.52 Q2301.17 1549.52 2298.09 1544.94 Q2295.03 1540.33 2295.03 1531.6 Q2295.03 1522.85 2298.09 1518.27 Q2301.17 1513.66 2306.98 1513.66 Z\" fill=\"#000000\" fill-rule=\"evenodd\" fill-opacity=\"1\" /><polyline clip-path=\"url(#clip502)\" style=\"stroke:#000000; stroke-linecap:round; stroke-linejoin:round; stroke-width:2; stroke-opacity:0.1; fill:none\" points=\"239.19,1280.43 2352.76,1280.43 \"/>\n",
       "<polyline clip-path=\"url(#clip502)\" style=\"stroke:#000000; stroke-linecap:round; stroke-linejoin:round; stroke-width:2; stroke-opacity:0.1; fill:none\" points=\"239.19,1028.02 2352.76,1028.02 \"/>\n",
       "<polyline clip-path=\"url(#clip502)\" style=\"stroke:#000000; stroke-linecap:round; stroke-linejoin:round; stroke-width:2; stroke-opacity:0.1; fill:none\" points=\"239.19,775.6 2352.76,775.6 \"/>\n",
       "<polyline clip-path=\"url(#clip502)\" style=\"stroke:#000000; stroke-linecap:round; stroke-linejoin:round; stroke-width:2; stroke-opacity:0.1; fill:none\" points=\"239.19,523.182 2352.76,523.182 \"/>\n",
       "<polyline clip-path=\"url(#clip502)\" style=\"stroke:#000000; stroke-linecap:round; stroke-linejoin:round; stroke-width:2; stroke-opacity:0.1; fill:none\" points=\"239.19,270.765 2352.76,270.765 \"/>\n",
       "<polyline clip-path=\"url(#clip500)\" style=\"stroke:#000000; stroke-linecap:round; stroke-linejoin:round; stroke-width:4; stroke-opacity:1; fill:none\" points=\"239.19,1486.45 239.19,47.2441 \"/>\n",
       "<polyline clip-path=\"url(#clip500)\" style=\"stroke:#000000; stroke-linecap:round; stroke-linejoin:round; stroke-width:4; stroke-opacity:1; fill:none\" points=\"239.19,1280.43 258.088,1280.43 \"/>\n",
       "<polyline clip-path=\"url(#clip500)\" style=\"stroke:#000000; stroke-linecap:round; stroke-linejoin:round; stroke-width:4; stroke-opacity:1; fill:none\" points=\"239.19,1028.02 258.088,1028.02 \"/>\n",
       "<polyline clip-path=\"url(#clip500)\" style=\"stroke:#000000; stroke-linecap:round; stroke-linejoin:round; stroke-width:4; stroke-opacity:1; fill:none\" points=\"239.19,775.6 258.088,775.6 \"/>\n",
       "<polyline clip-path=\"url(#clip500)\" style=\"stroke:#000000; stroke-linecap:round; stroke-linejoin:round; stroke-width:4; stroke-opacity:1; fill:none\" points=\"239.19,523.182 258.088,523.182 \"/>\n",
       "<polyline clip-path=\"url(#clip500)\" style=\"stroke:#000000; stroke-linecap:round; stroke-linejoin:round; stroke-width:4; stroke-opacity:1; fill:none\" points=\"239.19,270.765 258.088,270.765 \"/>\n",
       "<path clip-path=\"url(#clip500)\" d=\"M50.9921 1280.89 L80.6679 1280.89 L80.6679 1284.82 L50.9921 1284.82 L50.9921 1280.89 Z\" fill=\"#000000\" fill-rule=\"evenodd\" fill-opacity=\"1\" /><path clip-path=\"url(#clip500)\" d=\"M90.8067 1263.15 L109.163 1263.15 L109.163 1267.09 L95.0891 1267.09 L95.0891 1275.56 Q96.1076 1275.21 97.1261 1275.05 Q98.1447 1274.87 99.1632 1274.87 Q104.95 1274.87 108.33 1278.04 Q111.709 1281.21 111.709 1286.63 Q111.709 1292.2 108.237 1295.31 Q104.765 1298.39 98.4456 1298.39 Q96.2697 1298.39 94.0012 1298.01 Q91.7558 1297.64 89.3484 1296.9 L89.3484 1292.2 Q91.4317 1293.34 93.6539 1293.89 Q95.8761 1294.45 98.353 1294.45 Q102.358 1294.45 104.696 1292.34 Q107.033 1290.24 107.033 1286.63 Q107.033 1283.01 104.696 1280.91 Q102.358 1278.8 98.353 1278.8 Q96.478 1278.8 94.603 1279.22 Q92.7512 1279.64 90.8067 1280.51 L90.8067 1263.15 Z\" fill=\"#000000\" fill-rule=\"evenodd\" fill-opacity=\"1\" /><path clip-path=\"url(#clip500)\" d=\"M130.922 1266.23 Q127.311 1266.23 125.482 1269.8 Q123.677 1273.34 123.677 1280.47 Q123.677 1287.58 125.482 1291.14 Q127.311 1294.68 130.922 1294.68 Q134.556 1294.68 136.362 1291.14 Q138.191 1287.58 138.191 1280.47 Q138.191 1273.34 136.362 1269.8 Q134.556 1266.23 130.922 1266.23 M130.922 1262.53 Q136.732 1262.53 139.788 1267.14 Q142.867 1271.72 142.867 1280.47 Q142.867 1289.2 139.788 1293.8 Q136.732 1298.39 130.922 1298.39 Q125.112 1298.39 122.033 1293.8 Q118.978 1289.2 118.978 1280.47 Q118.978 1271.72 122.033 1267.14 Q125.112 1262.53 130.922 1262.53 Z\" fill=\"#000000\" fill-rule=\"evenodd\" fill-opacity=\"1\" /><path clip-path=\"url(#clip500)\" d=\"M161.084 1266.23 Q157.473 1266.23 155.644 1269.8 Q153.839 1273.34 153.839 1280.47 Q153.839 1287.58 155.644 1291.14 Q157.473 1294.68 161.084 1294.68 Q164.718 1294.68 166.524 1291.14 Q168.353 1287.58 168.353 1280.47 Q168.353 1273.34 166.524 1269.8 Q164.718 1266.23 161.084 1266.23 M161.084 1262.53 Q166.894 1262.53 169.95 1267.14 Q173.029 1271.72 173.029 1280.47 Q173.029 1289.2 169.95 1293.8 Q166.894 1298.39 161.084 1298.39 Q155.274 1298.39 152.195 1293.8 Q149.14 1289.2 149.14 1280.47 Q149.14 1271.72 152.195 1267.14 Q155.274 1262.53 161.084 1262.53 Z\" fill=\"#000000\" fill-rule=\"evenodd\" fill-opacity=\"1\" /><path clip-path=\"url(#clip500)\" d=\"M191.246 1266.23 Q187.635 1266.23 185.806 1269.8 Q184.001 1273.34 184.001 1280.47 Q184.001 1287.58 185.806 1291.14 Q187.635 1294.68 191.246 1294.68 Q194.88 1294.68 196.686 1291.14 Q198.514 1287.58 198.514 1280.47 Q198.514 1273.34 196.686 1269.8 Q194.88 1266.23 191.246 1266.23 M191.246 1262.53 Q197.056 1262.53 200.112 1267.14 Q203.19 1271.72 203.19 1280.47 Q203.19 1289.2 200.112 1293.8 Q197.056 1298.39 191.246 1298.39 Q185.436 1298.39 182.357 1293.8 Q179.302 1289.2 179.302 1280.47 Q179.302 1271.72 182.357 1267.14 Q185.436 1262.53 191.246 1262.53 Z\" fill=\"#000000\" fill-rule=\"evenodd\" fill-opacity=\"1\" /><path clip-path=\"url(#clip500)\" d=\"M50.9921 1028.47 L80.6679 1028.47 L80.6679 1032.4 L50.9921 1032.4 L50.9921 1028.47 Z\" fill=\"#000000\" fill-rule=\"evenodd\" fill-opacity=\"1\" /><path clip-path=\"url(#clip500)\" d=\"M94.7882 1041.36 L111.108 1041.36 L111.108 1045.3 L89.1632 1045.3 L89.1632 1041.36 Q91.8252 1038.61 96.4085 1033.98 Q101.015 1029.32 102.196 1027.98 Q104.441 1025.46 105.321 1023.72 Q106.223 1021.96 106.223 1020.27 Q106.223 1017.52 104.279 1015.78 Q102.358 1014.05 99.2558 1014.05 Q97.0567 1014.05 94.603 1014.81 Q92.1725 1015.57 89.3947 1017.13 L89.3947 1012.4 Q92.2188 1011.27 94.6724 1010.69 Q97.1261 1010.11 99.1632 1010.11 Q104.534 1010.11 107.728 1012.8 Q110.922 1015.48 110.922 1019.97 Q110.922 1022.1 110.112 1024.02 Q109.325 1025.92 107.219 1028.51 Q106.64 1029.19 103.538 1032.4 Q100.436 1035.6 94.7882 1041.36 Z\" fill=\"#000000\" fill-rule=\"evenodd\" fill-opacity=\"1\" /><path clip-path=\"url(#clip500)\" d=\"M120.969 1010.74 L139.325 1010.74 L139.325 1014.67 L125.251 1014.67 L125.251 1023.14 Q126.27 1022.8 127.288 1022.63 Q128.307 1022.45 129.325 1022.45 Q135.112 1022.45 138.492 1025.62 Q141.871 1028.79 141.871 1034.21 Q141.871 1039.79 138.399 1042.89 Q134.927 1045.97 128.607 1045.97 Q126.432 1045.97 124.163 1045.6 Q121.918 1045.23 119.51 1044.49 L119.51 1039.79 Q121.594 1040.92 123.816 1041.48 Q126.038 1042.03 128.515 1042.03 Q132.519 1042.03 134.857 1039.93 Q137.195 1037.82 137.195 1034.21 Q137.195 1030.6 134.857 1028.49 Q132.519 1026.38 128.515 1026.38 Q126.64 1026.38 124.765 1026.8 Q122.913 1027.22 120.969 1028.1 L120.969 1010.74 Z\" fill=\"#000000\" fill-rule=\"evenodd\" fill-opacity=\"1\" /><path clip-path=\"url(#clip500)\" d=\"M161.084 1013.82 Q157.473 1013.82 155.644 1017.38 Q153.839 1020.92 153.839 1028.05 Q153.839 1035.16 155.644 1038.72 Q157.473 1042.26 161.084 1042.26 Q164.718 1042.26 166.524 1038.72 Q168.353 1035.16 168.353 1028.05 Q168.353 1020.92 166.524 1017.38 Q164.718 1013.82 161.084 1013.82 M161.084 1010.11 Q166.894 1010.11 169.95 1014.72 Q173.029 1019.3 173.029 1028.05 Q173.029 1036.78 169.95 1041.38 Q166.894 1045.97 161.084 1045.97 Q155.274 1045.97 152.195 1041.38 Q149.14 1036.78 149.14 1028.05 Q149.14 1019.3 152.195 1014.72 Q155.274 1010.11 161.084 1010.11 Z\" fill=\"#000000\" fill-rule=\"evenodd\" fill-opacity=\"1\" /><path clip-path=\"url(#clip500)\" d=\"M191.246 1013.82 Q187.635 1013.82 185.806 1017.38 Q184.001 1020.92 184.001 1028.05 Q184.001 1035.16 185.806 1038.72 Q187.635 1042.26 191.246 1042.26 Q194.88 1042.26 196.686 1038.72 Q198.514 1035.16 198.514 1028.05 Q198.514 1020.92 196.686 1017.38 Q194.88 1013.82 191.246 1013.82 M191.246 1010.11 Q197.056 1010.11 200.112 1014.72 Q203.19 1019.3 203.19 1028.05 Q203.19 1036.78 200.112 1041.38 Q197.056 1045.97 191.246 1045.97 Q185.436 1045.97 182.357 1041.38 Q179.302 1036.78 179.302 1028.05 Q179.302 1019.3 182.357 1014.72 Q185.436 1010.11 191.246 1010.11 Z\" fill=\"#000000\" fill-rule=\"evenodd\" fill-opacity=\"1\" /><path clip-path=\"url(#clip500)\" d=\"M191.246 761.398 Q187.635 761.398 185.806 764.963 Q184.001 768.505 184.001 775.634 Q184.001 782.741 185.806 786.306 Q187.635 789.847 191.246 789.847 Q194.88 789.847 196.686 786.306 Q198.514 782.741 198.514 775.634 Q198.514 768.505 196.686 764.963 Q194.88 761.398 191.246 761.398 M191.246 757.695 Q197.056 757.695 200.112 762.301 Q203.19 766.884 203.19 775.634 Q203.19 784.361 200.112 788.968 Q197.056 793.551 191.246 793.551 Q185.436 793.551 182.357 788.968 Q179.302 784.361 179.302 775.634 Q179.302 766.884 182.357 762.301 Q185.436 757.695 191.246 757.695 Z\" fill=\"#000000\" fill-rule=\"evenodd\" fill-opacity=\"1\" /><path clip-path=\"url(#clip500)\" d=\"M94.7882 536.527 L111.108 536.527 L111.108 540.462 L89.1632 540.462 L89.1632 536.527 Q91.8252 533.773 96.4085 529.143 Q101.015 524.49 102.196 523.148 Q104.441 520.625 105.321 518.888 Q106.223 517.129 106.223 515.439 Q106.223 512.685 104.279 510.949 Q102.358 509.213 99.2558 509.213 Q97.0567 509.213 94.603 509.977 Q92.1725 510.74 89.3947 512.291 L89.3947 507.569 Q92.2188 506.435 94.6724 505.856 Q97.1261 505.277 99.1632 505.277 Q104.534 505.277 107.728 507.963 Q110.922 510.648 110.922 515.139 Q110.922 517.268 110.112 519.189 Q109.325 521.088 107.219 523.68 Q106.64 524.351 103.538 527.569 Q100.436 530.763 94.7882 536.527 Z\" fill=\"#000000\" fill-rule=\"evenodd\" fill-opacity=\"1\" /><path clip-path=\"url(#clip500)\" d=\"M120.969 505.902 L139.325 505.902 L139.325 509.838 L125.251 509.838 L125.251 518.31 Q126.27 517.963 127.288 517.801 Q128.307 517.615 129.325 517.615 Q135.112 517.615 138.492 520.787 Q141.871 523.958 141.871 529.375 Q141.871 534.953 138.399 538.055 Q134.927 541.134 128.607 541.134 Q126.432 541.134 124.163 540.763 Q121.918 540.393 119.51 539.652 L119.51 534.953 Q121.594 536.087 123.816 536.643 Q126.038 537.199 128.515 537.199 Q132.519 537.199 134.857 535.092 Q137.195 532.986 137.195 529.375 Q137.195 525.763 134.857 523.657 Q132.519 521.551 128.515 521.551 Q126.64 521.551 124.765 521.967 Q122.913 522.384 120.969 523.263 L120.969 505.902 Z\" fill=\"#000000\" fill-rule=\"evenodd\" fill-opacity=\"1\" /><path clip-path=\"url(#clip500)\" d=\"M161.084 508.981 Q157.473 508.981 155.644 512.546 Q153.839 516.088 153.839 523.217 Q153.839 530.324 155.644 533.888 Q157.473 537.43 161.084 537.43 Q164.718 537.43 166.524 533.888 Q168.353 530.324 168.353 523.217 Q168.353 516.088 166.524 512.546 Q164.718 508.981 161.084 508.981 M161.084 505.277 Q166.894 505.277 169.95 509.884 Q173.029 514.467 173.029 523.217 Q173.029 531.944 169.95 536.55 Q166.894 541.134 161.084 541.134 Q155.274 541.134 152.195 536.55 Q149.14 531.944 149.14 523.217 Q149.14 514.467 152.195 509.884 Q155.274 505.277 161.084 505.277 Z\" fill=\"#000000\" fill-rule=\"evenodd\" fill-opacity=\"1\" /><path clip-path=\"url(#clip500)\" d=\"M191.246 508.981 Q187.635 508.981 185.806 512.546 Q184.001 516.088 184.001 523.217 Q184.001 530.324 185.806 533.888 Q187.635 537.43 191.246 537.43 Q194.88 537.43 196.686 533.888 Q198.514 530.324 198.514 523.217 Q198.514 516.088 196.686 512.546 Q194.88 508.981 191.246 508.981 M191.246 505.277 Q197.056 505.277 200.112 509.884 Q203.19 514.467 203.19 523.217 Q203.19 531.944 200.112 536.55 Q197.056 541.134 191.246 541.134 Q185.436 541.134 182.357 536.55 Q179.302 531.944 179.302 523.217 Q179.302 514.467 182.357 509.884 Q185.436 505.277 191.246 505.277 Z\" fill=\"#000000\" fill-rule=\"evenodd\" fill-opacity=\"1\" /><path clip-path=\"url(#clip500)\" d=\"M90.8067 253.485 L109.163 253.485 L109.163 257.42 L95.0891 257.42 L95.0891 265.893 Q96.1076 265.545 97.1261 265.383 Q98.1447 265.198 99.1632 265.198 Q104.95 265.198 108.33 268.369 Q111.709 271.541 111.709 276.957 Q111.709 282.536 108.237 285.638 Q104.765 288.717 98.4456 288.717 Q96.2697 288.717 94.0012 288.346 Q91.7558 287.976 89.3484 287.235 L89.3484 282.536 Q91.4317 283.67 93.6539 284.226 Q95.8761 284.781 98.353 284.781 Q102.358 284.781 104.696 282.675 Q107.033 280.568 107.033 276.957 Q107.033 273.346 104.696 271.24 Q102.358 269.133 98.353 269.133 Q96.478 269.133 94.603 269.55 Q92.7512 269.967 90.8067 270.846 L90.8067 253.485 Z\" fill=\"#000000\" fill-rule=\"evenodd\" fill-opacity=\"1\" /><path clip-path=\"url(#clip500)\" d=\"M130.922 256.564 Q127.311 256.564 125.482 260.129 Q123.677 263.67 123.677 270.8 Q123.677 277.906 125.482 281.471 Q127.311 285.013 130.922 285.013 Q134.556 285.013 136.362 281.471 Q138.191 277.906 138.191 270.8 Q138.191 263.67 136.362 260.129 Q134.556 256.564 130.922 256.564 M130.922 252.86 Q136.732 252.86 139.788 257.467 Q142.867 262.05 142.867 270.8 Q142.867 279.527 139.788 284.133 Q136.732 288.717 130.922 288.717 Q125.112 288.717 122.033 284.133 Q118.978 279.527 118.978 270.8 Q118.978 262.05 122.033 257.467 Q125.112 252.86 130.922 252.86 Z\" fill=\"#000000\" fill-rule=\"evenodd\" fill-opacity=\"1\" /><path clip-path=\"url(#clip500)\" d=\"M161.084 256.564 Q157.473 256.564 155.644 260.129 Q153.839 263.67 153.839 270.8 Q153.839 277.906 155.644 281.471 Q157.473 285.013 161.084 285.013 Q164.718 285.013 166.524 281.471 Q168.353 277.906 168.353 270.8 Q168.353 263.67 166.524 260.129 Q164.718 256.564 161.084 256.564 M161.084 252.86 Q166.894 252.86 169.95 257.467 Q173.029 262.05 173.029 270.8 Q173.029 279.527 169.95 284.133 Q166.894 288.717 161.084 288.717 Q155.274 288.717 152.195 284.133 Q149.14 279.527 149.14 270.8 Q149.14 262.05 152.195 257.467 Q155.274 252.86 161.084 252.86 Z\" fill=\"#000000\" fill-rule=\"evenodd\" fill-opacity=\"1\" /><path clip-path=\"url(#clip500)\" d=\"M191.246 256.564 Q187.635 256.564 185.806 260.129 Q184.001 263.67 184.001 270.8 Q184.001 277.906 185.806 281.471 Q187.635 285.013 191.246 285.013 Q194.88 285.013 196.686 281.471 Q198.514 277.906 198.514 270.8 Q198.514 263.67 196.686 260.129 Q194.88 256.564 191.246 256.564 M191.246 252.86 Q197.056 252.86 200.112 257.467 Q203.19 262.05 203.19 270.8 Q203.19 279.527 200.112 284.133 Q197.056 288.717 191.246 288.717 Q185.436 288.717 182.357 284.133 Q179.302 279.527 179.302 270.8 Q179.302 262.05 182.357 257.467 Q185.436 252.86 191.246 252.86 Z\" fill=\"#000000\" fill-rule=\"evenodd\" fill-opacity=\"1\" /><circle clip-path=\"url(#clip502)\" cx=\"299.008\" cy=\"770.577\" r=\"14.4\" fill=\"#009af9\" fill-rule=\"evenodd\" fill-opacity=\"1\" stroke=\"#000000\" stroke-opacity=\"1\" stroke-width=\"3.2\"/>\n",
       "<circle clip-path=\"url(#clip502)\" cx=\"398.705\" cy=\"771.318\" r=\"14.4\" fill=\"#009af9\" fill-rule=\"evenodd\" fill-opacity=\"1\" stroke=\"#000000\" stroke-opacity=\"1\" stroke-width=\"3.2\"/>\n",
       "<circle clip-path=\"url(#clip502)\" cx=\"498.401\" cy=\"771.43\" r=\"14.4\" fill=\"#009af9\" fill-rule=\"evenodd\" fill-opacity=\"1\" stroke=\"#000000\" stroke-opacity=\"1\" stroke-width=\"3.2\"/>\n",
       "<circle clip-path=\"url(#clip502)\" cx=\"598.098\" cy=\"771.344\" r=\"14.4\" fill=\"#009af9\" fill-rule=\"evenodd\" fill-opacity=\"1\" stroke=\"#000000\" stroke-opacity=\"1\" stroke-width=\"3.2\"/>\n",
       "<circle clip-path=\"url(#clip502)\" cx=\"697.794\" cy=\"774.767\" r=\"14.4\" fill=\"#009af9\" fill-rule=\"evenodd\" fill-opacity=\"1\" stroke=\"#000000\" stroke-opacity=\"1\" stroke-width=\"3.2\"/>\n",
       "<circle clip-path=\"url(#clip502)\" cx=\"797.491\" cy=\"774.582\" r=\"14.4\" fill=\"#009af9\" fill-rule=\"evenodd\" fill-opacity=\"1\" stroke=\"#000000\" stroke-opacity=\"1\" stroke-width=\"3.2\"/>\n",
       "<circle clip-path=\"url(#clip502)\" cx=\"897.187\" cy=\"774.304\" r=\"14.4\" fill=\"#009af9\" fill-rule=\"evenodd\" fill-opacity=\"1\" stroke=\"#000000\" stroke-opacity=\"1\" stroke-width=\"3.2\"/>\n",
       "<circle clip-path=\"url(#clip502)\" cx=\"996.884\" cy=\"775.683\" r=\"14.4\" fill=\"#009af9\" fill-rule=\"evenodd\" fill-opacity=\"1\" stroke=\"#000000\" stroke-opacity=\"1\" stroke-width=\"3.2\"/>\n",
       "<circle clip-path=\"url(#clip502)\" cx=\"1096.58\" cy=\"775.944\" r=\"14.4\" fill=\"#009af9\" fill-rule=\"evenodd\" fill-opacity=\"1\" stroke=\"#000000\" stroke-opacity=\"1\" stroke-width=\"3.2\"/>\n",
       "<circle clip-path=\"url(#clip502)\" cx=\"1196.28\" cy=\"775.482\" r=\"14.4\" fill=\"#009af9\" fill-rule=\"evenodd\" fill-opacity=\"1\" stroke=\"#000000\" stroke-opacity=\"1\" stroke-width=\"3.2\"/>\n",
       "<circle clip-path=\"url(#clip502)\" cx=\"1295.97\" cy=\"774.137\" r=\"14.4\" fill=\"#009af9\" fill-rule=\"evenodd\" fill-opacity=\"1\" stroke=\"#000000\" stroke-opacity=\"1\" stroke-width=\"3.2\"/>\n",
       "<circle clip-path=\"url(#clip502)\" cx=\"1395.67\" cy=\"774.521\" r=\"14.4\" fill=\"#009af9\" fill-rule=\"evenodd\" fill-opacity=\"1\" stroke=\"#000000\" stroke-opacity=\"1\" stroke-width=\"3.2\"/>\n",
       "<circle clip-path=\"url(#clip502)\" cx=\"1495.37\" cy=\"772.629\" r=\"14.4\" fill=\"#009af9\" fill-rule=\"evenodd\" fill-opacity=\"1\" stroke=\"#000000\" stroke-opacity=\"1\" stroke-width=\"3.2\"/>\n",
       "<circle clip-path=\"url(#clip502)\" cx=\"1595.06\" cy=\"773.157\" r=\"14.4\" fill=\"#009af9\" fill-rule=\"evenodd\" fill-opacity=\"1\" stroke=\"#000000\" stroke-opacity=\"1\" stroke-width=\"3.2\"/>\n",
       "<circle clip-path=\"url(#clip502)\" cx=\"1694.76\" cy=\"774.071\" r=\"14.4\" fill=\"#009af9\" fill-rule=\"evenodd\" fill-opacity=\"1\" stroke=\"#000000\" stroke-opacity=\"1\" stroke-width=\"3.2\"/>\n",
       "<circle clip-path=\"url(#clip502)\" cx=\"1794.46\" cy=\"773.25\" r=\"14.4\" fill=\"#009af9\" fill-rule=\"evenodd\" fill-opacity=\"1\" stroke=\"#000000\" stroke-opacity=\"1\" stroke-width=\"3.2\"/>\n",
       "<circle clip-path=\"url(#clip502)\" cx=\"1894.15\" cy=\"768.937\" r=\"14.4\" fill=\"#009af9\" fill-rule=\"evenodd\" fill-opacity=\"1\" stroke=\"#000000\" stroke-opacity=\"1\" stroke-width=\"3.2\"/>\n",
       "<circle clip-path=\"url(#clip502)\" cx=\"1993.85\" cy=\"767.783\" r=\"14.4\" fill=\"#009af9\" fill-rule=\"evenodd\" fill-opacity=\"1\" stroke=\"#000000\" stroke-opacity=\"1\" stroke-width=\"3.2\"/>\n",
       "<circle clip-path=\"url(#clip502)\" cx=\"2093.55\" cy=\"765.58\" r=\"14.4\" fill=\"#009af9\" fill-rule=\"evenodd\" fill-opacity=\"1\" stroke=\"#000000\" stroke-opacity=\"1\" stroke-width=\"3.2\"/>\n",
       "<circle clip-path=\"url(#clip502)\" cx=\"2193.24\" cy=\"763.752\" r=\"14.4\" fill=\"#009af9\" fill-rule=\"evenodd\" fill-opacity=\"1\" stroke=\"#000000\" stroke-opacity=\"1\" stroke-width=\"3.2\"/>\n",
       "<circle clip-path=\"url(#clip502)\" cx=\"2292.94\" cy=\"763.154\" r=\"14.4\" fill=\"#009af9\" fill-rule=\"evenodd\" fill-opacity=\"1\" stroke=\"#000000\" stroke-opacity=\"1\" stroke-width=\"3.2\"/>\n",
       "<polyline clip-path=\"url(#clip502)\" style=\"stroke:#e26f46; stroke-linecap:round; stroke-linejoin:round; stroke-width:4; stroke-opacity:1; fill:none\" points=\"299.008,768.734 398.705,770.349 498.401,771.763 598.098,772.974 697.794,773.984 797.491,774.792 897.187,775.398 996.884,775.802 1096.58,776.003 1196.28,776.003 1295.97,775.802 1395.67,775.398 1495.37,774.792 1595.06,773.984 1694.76,772.974 1794.46,771.763 1894.15,770.349 1993.85,768.734 2093.55,766.916 2193.24,764.897 2292.94,762.676 \"/>\n",
       "<polyline clip-path=\"url(#clip502)\" style=\"stroke:#3da44d; stroke-linecap:round; stroke-linejoin:round; stroke-width:4; stroke-opacity:1; fill:none\" points=\"299.008,1445.72 398.705,983.429 498.401,828.684 598.098,785.856 697.794,776.431 797.491,774.787 897.187,774.837 996.884,775.448 1096.58,775.896 1196.28,775.567 1295.97,774.523 1395.67,773.502 1495.37,773.222 1595.06,773.618 1694.76,773.71 1794.46,772.197 1894.15,767.511 1993.85,753.958 2093.55,707.62 2193.24,551.914 2292.94,87.9763 \"/>\n",
       "<path clip-path=\"url(#clip500)\" d=\"M309.643 302.578 L574.008 302.578 L574.008 95.2176 L309.643 95.2176  Z\" fill=\"#ffffff\" fill-rule=\"evenodd\" fill-opacity=\"1\"/>\n",
       "<polyline clip-path=\"url(#clip500)\" style=\"stroke:#000000; stroke-linecap:round; stroke-linejoin:round; stroke-width:4; stroke-opacity:1; fill:none\" points=\"309.643,302.578 574.008,302.578 574.008,95.2176 309.643,95.2176 309.643,302.578 \"/>\n",
       "<circle clip-path=\"url(#clip500)\" cx=\"403.579\" cy=\"147.058\" r=\"23.04\" fill=\"#009af9\" fill-rule=\"evenodd\" fill-opacity=\"1\" stroke=\"#000000\" stroke-opacity=\"1\" stroke-width=\"5.12\"/>\n",
       "<path clip-path=\"url(#clip500)\" d=\"M511.358 166.745 Q509.552 171.375 507.839 172.787 Q506.126 174.199 503.256 174.199 L499.853 174.199 L499.853 170.634 L502.353 170.634 Q504.112 170.634 505.084 169.8 Q506.057 168.967 507.237 165.865 L508.001 163.921 L497.515 138.412 L502.029 138.412 L510.131 158.689 L518.233 138.412 L522.746 138.412 L511.358 166.745 Z\" fill=\"#000000\" fill-rule=\"evenodd\" fill-opacity=\"1\" /><path clip-path=\"url(#clip500)\" d=\"M530.038 160.402 L537.677 160.402 L537.677 134.037 L529.367 135.703 L529.367 131.444 L537.631 129.778 L542.306 129.778 L542.306 160.402 L549.945 160.402 L549.945 164.338 L530.038 164.338 L530.038 160.402 Z\" fill=\"#000000\" fill-rule=\"evenodd\" fill-opacity=\"1\" /><polyline clip-path=\"url(#clip500)\" style=\"stroke:#e26f46; stroke-linecap:round; stroke-linejoin:round; stroke-width:4; stroke-opacity:1; fill:none\" points=\"333.127,198.898 474.031,198.898 \"/>\n",
       "<path clip-path=\"url(#clip500)\" d=\"M511.358 218.585 Q509.552 223.215 507.839 224.627 Q506.126 226.039 503.256 226.039 L499.853 226.039 L499.853 222.474 L502.353 222.474 Q504.112 222.474 505.084 221.64 Q506.057 220.807 507.237 217.705 L508.001 215.761 L497.515 190.252 L502.029 190.252 L510.131 210.529 L518.233 190.252 L522.746 190.252 L511.358 218.585 Z\" fill=\"#000000\" fill-rule=\"evenodd\" fill-opacity=\"1\" /><path clip-path=\"url(#clip500)\" d=\"M533.256 212.242 L549.575 212.242 L549.575 216.178 L527.631 216.178 L527.631 212.242 Q530.293 209.488 534.876 204.858 Q539.482 200.205 540.663 198.863 Q542.908 196.34 543.788 194.604 Q544.691 192.844 544.691 191.155 Q544.691 188.4 542.746 186.664 Q540.825 184.928 537.723 184.928 Q535.524 184.928 533.07 185.692 Q530.64 186.455 527.862 188.006 L527.862 183.284 Q530.686 182.15 533.14 181.571 Q535.594 180.993 537.631 180.993 Q543.001 180.993 546.195 183.678 Q549.39 186.363 549.39 190.854 Q549.39 192.983 548.58 194.905 Q547.793 196.803 545.686 199.395 Q545.107 200.067 542.006 203.284 Q538.904 206.479 533.256 212.242 Z\" fill=\"#000000\" fill-rule=\"evenodd\" fill-opacity=\"1\" /><polyline clip-path=\"url(#clip500)\" style=\"stroke:#3da44d; stroke-linecap:round; stroke-linejoin:round; stroke-width:4; stroke-opacity:1; fill:none\" points=\"333.127,250.738 474.031,250.738 \"/>\n",
       "<path clip-path=\"url(#clip500)\" d=\"M511.358 270.425 Q509.552 275.055 507.839 276.467 Q506.126 277.879 503.256 277.879 L499.853 277.879 L499.853 274.314 L502.353 274.314 Q504.112 274.314 505.084 273.48 Q506.057 272.647 507.237 269.545 L508.001 267.601 L497.515 242.092 L502.029 242.092 L510.131 262.369 L518.233 242.092 L522.746 242.092 L511.358 270.425 Z\" fill=\"#000000\" fill-rule=\"evenodd\" fill-opacity=\"1\" /><path clip-path=\"url(#clip500)\" d=\"M543.394 249.383 Q546.751 250.101 548.626 252.369 Q550.524 254.638 550.524 257.971 Q550.524 263.087 547.006 265.888 Q543.487 268.689 537.006 268.689 Q534.83 268.689 532.515 268.249 Q530.223 267.832 527.77 266.976 L527.77 262.462 Q529.714 263.596 532.029 264.175 Q534.344 264.754 536.867 264.754 Q541.265 264.754 543.556 263.018 Q545.871 261.281 545.871 257.971 Q545.871 254.916 543.719 253.203 Q541.589 251.467 537.769 251.467 L533.742 251.467 L533.742 247.624 L537.955 247.624 Q541.404 247.624 543.232 246.258 Q545.061 244.87 545.061 242.277 Q545.061 239.615 543.163 238.203 Q541.288 236.768 537.769 236.768 Q535.848 236.768 533.649 237.184 Q531.45 237.601 528.811 238.481 L528.811 234.314 Q531.473 233.573 533.788 233.203 Q536.126 232.833 538.186 232.833 Q543.51 232.833 546.612 235.263 Q549.714 237.67 549.714 241.791 Q549.714 244.661 548.07 246.652 Q546.427 248.62 543.394 249.383 Z\" fill=\"#000000\" fill-rule=\"evenodd\" fill-opacity=\"1\" /></svg>\n"
      ]
     },
     "execution_count": 74,
     "metadata": {},
     "output_type": "execute_result"
    }
   ],
   "source": [
    "y_true = x.^2 + 3 .* x .- 2\n",
    "data_error_tenth = 10\n",
    "noise_tenth = di.Normal(0, data_error_tenth)\n",
    "y_observed_tenth = y_true .+ rand(noise_tenth, length(x))\n",
    "scatter(x, y_observed_tenth)\n",
    "plot!(x, y_true)\n",
    "line_fit_tenth = fit(x, y_observed_tenth, 11)\n",
    "typeof(line_fit_tenth)\n",
    "fit_coeff_tenth = coeffs(line_fit_tenth)\n",
    "y_fitted_tenth = fit_coeff_tenth[1] .+ fit_coeff_tenth[2] .* x .+ fit_coeff_tenth[3] .* x.^2 .+ fit_coeff_tenth[4] .* x.^3 .+ fit_coeff_tenth[5] .* x.^4 .+ fit_coeff_tenth[6] .* x.^5 .+ fit_coeff_tenth[7] .* x.^6 .+ fit_coeff_tenth[8] .* x.^7 .+ fit_coeff_tenth[9] .* x.^8 .+ fit_coeff_tenth[10] .* x.^9 .+ fit_coeff_tenth[11] .* x.^10\n",
    "plot!(x, y_fitted_tenth)"
   ]
  },
  {
   "cell_type": "markdown",
   "id": "36028ee0",
   "metadata": {},
   "source": [
    "### 2.6\n",
    "\n",
    "1. Create a new independent parameter x_fit ranging from -11 to 11 with an increment of 0.1\n",
    "2. Plot the same three plots as in 2.3 again but apply the tenth order polynomial to x_fit instead of x\n"
   ]
  },
  {
   "cell_type": "code",
   "execution_count": 101,
   "id": "6c67a977",
   "metadata": {},
   "outputs": [
    {
     "data": {
      "image/svg+xml": [
       "<?xml version=\"1.0\" encoding=\"utf-8\"?>\n",
       "<svg xmlns=\"http://www.w3.org/2000/svg\" xmlns:xlink=\"http://www.w3.org/1999/xlink\" width=\"600\" height=\"400\" viewBox=\"0 0 2400 1600\">\n",
       "<defs>\n",
       "  <clipPath id=\"clip100\">\n",
       "    <rect x=\"0\" y=\"0\" width=\"2400\" height=\"1600\"/>\n",
       "  </clipPath>\n",
       "</defs>\n",
       "<path clip-path=\"url(#clip100)\" d=\"M0 1600 L2400 1600 L2400 0 L0 0  Z\" fill=\"#ffffff\" fill-rule=\"evenodd\" fill-opacity=\"1\"/>\n",
       "<defs>\n",
       "  <clipPath id=\"clip101\">\n",
       "    <rect x=\"480\" y=\"0\" width=\"1681\" height=\"1600\"/>\n",
       "  </clipPath>\n",
       "</defs>\n",
       "<path clip-path=\"url(#clip100)\" d=\"M239.19 1486.45 L2352.76 1486.45 L2352.76 47.2441 L239.19 47.2441  Z\" fill=\"#ffffff\" fill-rule=\"evenodd\" fill-opacity=\"1\"/>\n",
       "<defs>\n",
       "  <clipPath id=\"clip102\">\n",
       "    <rect x=\"239\" y=\"47\" width=\"2115\" height=\"1440\"/>\n",
       "  </clipPath>\n",
       "</defs>\n",
       "<polyline clip-path=\"url(#clip102)\" style=\"stroke:#000000; stroke-linecap:round; stroke-linejoin:round; stroke-width:2; stroke-opacity:0.1; fill:none\" points=\"389.641,1486.45 389.641,47.2441 \"/>\n",
       "<polyline clip-path=\"url(#clip102)\" style=\"stroke:#000000; stroke-linecap:round; stroke-linejoin:round; stroke-width:2; stroke-opacity:0.1; fill:none\" points=\"842.807,1486.45 842.807,47.2441 \"/>\n",
       "<polyline clip-path=\"url(#clip102)\" style=\"stroke:#000000; stroke-linecap:round; stroke-linejoin:round; stroke-width:2; stroke-opacity:0.1; fill:none\" points=\"1295.97,1486.45 1295.97,47.2441 \"/>\n",
       "<polyline clip-path=\"url(#clip102)\" style=\"stroke:#000000; stroke-linecap:round; stroke-linejoin:round; stroke-width:2; stroke-opacity:0.1; fill:none\" points=\"1749.14,1486.45 1749.14,47.2441 \"/>\n",
       "<polyline clip-path=\"url(#clip102)\" style=\"stroke:#000000; stroke-linecap:round; stroke-linejoin:round; stroke-width:2; stroke-opacity:0.1; fill:none\" points=\"2202.3,1486.45 2202.3,47.2441 \"/>\n",
       "<polyline clip-path=\"url(#clip100)\" style=\"stroke:#000000; stroke-linecap:round; stroke-linejoin:round; stroke-width:4; stroke-opacity:1; fill:none\" points=\"239.19,1486.45 2352.76,1486.45 \"/>\n",
       "<polyline clip-path=\"url(#clip100)\" style=\"stroke:#000000; stroke-linecap:round; stroke-linejoin:round; stroke-width:4; stroke-opacity:1; fill:none\" points=\"389.641,1486.45 389.641,1467.55 \"/>\n",
       "<polyline clip-path=\"url(#clip100)\" style=\"stroke:#000000; stroke-linecap:round; stroke-linejoin:round; stroke-width:4; stroke-opacity:1; fill:none\" points=\"842.807,1486.45 842.807,1467.55 \"/>\n",
       "<polyline clip-path=\"url(#clip100)\" style=\"stroke:#000000; stroke-linecap:round; stroke-linejoin:round; stroke-width:4; stroke-opacity:1; fill:none\" points=\"1295.97,1486.45 1295.97,1467.55 \"/>\n",
       "<polyline clip-path=\"url(#clip100)\" style=\"stroke:#000000; stroke-linecap:round; stroke-linejoin:round; stroke-width:4; stroke-opacity:1; fill:none\" points=\"1749.14,1486.45 1749.14,1467.55 \"/>\n",
       "<polyline clip-path=\"url(#clip100)\" style=\"stroke:#000000; stroke-linecap:round; stroke-linejoin:round; stroke-width:4; stroke-opacity:1; fill:none\" points=\"2202.3,1486.45 2202.3,1467.55 \"/>\n",
       "<path clip-path=\"url(#clip100)\" d=\"M343.704 1532.02 L373.38 1532.02 L373.38 1535.95 L343.704 1535.95 L343.704 1532.02 Z\" fill=\"#000000\" fill-rule=\"evenodd\" fill-opacity=\"1\" /><path clip-path=\"url(#clip100)\" d=\"M384.283 1544.91 L391.922 1544.91 L391.922 1518.55 L383.611 1520.21 L383.611 1515.95 L391.875 1514.29 L396.551 1514.29 L396.551 1544.91 L404.19 1544.91 L404.19 1548.85 L384.283 1548.85 L384.283 1544.91 Z\" fill=\"#000000\" fill-rule=\"evenodd\" fill-opacity=\"1\" /><path clip-path=\"url(#clip100)\" d=\"M423.634 1517.37 Q420.023 1517.37 418.195 1520.93 Q416.389 1524.47 416.389 1531.6 Q416.389 1538.71 418.195 1542.27 Q420.023 1545.82 423.634 1545.82 Q427.269 1545.82 429.074 1542.27 Q430.903 1538.71 430.903 1531.6 Q430.903 1524.47 429.074 1520.93 Q427.269 1517.37 423.634 1517.37 M423.634 1513.66 Q429.444 1513.66 432.5 1518.27 Q435.579 1522.85 435.579 1531.6 Q435.579 1540.33 432.5 1544.94 Q429.444 1549.52 423.634 1549.52 Q417.824 1549.52 414.745 1544.94 Q411.69 1540.33 411.69 1531.6 Q411.69 1522.85 414.745 1518.27 Q417.824 1513.66 423.634 1513.66 Z\" fill=\"#000000\" fill-rule=\"evenodd\" fill-opacity=\"1\" /><path clip-path=\"url(#clip100)\" d=\"M812.449 1532.02 L842.124 1532.02 L842.124 1535.95 L812.449 1535.95 L812.449 1532.02 Z\" fill=\"#000000\" fill-rule=\"evenodd\" fill-opacity=\"1\" /><path clip-path=\"url(#clip100)\" d=\"M852.263 1514.29 L870.62 1514.29 L870.62 1518.22 L856.546 1518.22 L856.546 1526.7 Q857.564 1526.35 858.583 1526.19 Q859.601 1526 860.62 1526 Q866.407 1526 869.786 1529.17 Q873.166 1532.34 873.166 1537.76 Q873.166 1543.34 869.694 1546.44 Q866.222 1549.52 859.902 1549.52 Q857.726 1549.52 855.458 1549.15 Q853.212 1548.78 850.805 1548.04 L850.805 1543.34 Q852.888 1544.47 855.11 1545.03 Q857.333 1545.58 859.81 1545.58 Q863.814 1545.58 866.152 1543.48 Q868.49 1541.37 868.49 1537.76 Q868.49 1534.15 866.152 1532.04 Q863.814 1529.94 859.81 1529.94 Q857.935 1529.94 856.06 1530.35 Q854.208 1530.77 852.263 1531.65 L852.263 1514.29 Z\" fill=\"#000000\" fill-rule=\"evenodd\" fill-opacity=\"1\" /><path clip-path=\"url(#clip100)\" d=\"M1295.97 1517.37 Q1292.36 1517.37 1290.53 1520.93 Q1288.73 1524.47 1288.73 1531.6 Q1288.73 1538.71 1290.53 1542.27 Q1292.36 1545.82 1295.97 1545.82 Q1299.61 1545.82 1301.41 1542.27 Q1303.24 1538.71 1303.24 1531.6 Q1303.24 1524.47 1301.41 1520.93 Q1299.61 1517.37 1295.97 1517.37 M1295.97 1513.66 Q1301.78 1513.66 1304.84 1518.27 Q1307.92 1522.85 1307.92 1531.6 Q1307.92 1540.33 1304.84 1544.94 Q1301.78 1549.52 1295.97 1549.52 Q1290.16 1549.52 1287.08 1544.94 Q1284.03 1540.33 1284.03 1531.6 Q1284.03 1522.85 1287.08 1518.27 Q1290.16 1513.66 1295.97 1513.66 Z\" fill=\"#000000\" fill-rule=\"evenodd\" fill-opacity=\"1\" /><path clip-path=\"url(#clip100)\" d=\"M1739.42 1514.29 L1757.77 1514.29 L1757.77 1518.22 L1743.7 1518.22 L1743.7 1526.7 Q1744.72 1526.35 1745.74 1526.19 Q1746.75 1526 1747.77 1526 Q1753.56 1526 1756.94 1529.17 Q1760.32 1532.34 1760.32 1537.76 Q1760.32 1543.34 1756.85 1546.44 Q1753.38 1549.52 1747.06 1549.52 Q1744.88 1549.52 1742.61 1549.15 Q1740.37 1548.78 1737.96 1548.04 L1737.96 1543.34 Q1740.04 1544.47 1742.26 1545.03 Q1744.49 1545.58 1746.96 1545.58 Q1750.97 1545.58 1753.31 1543.48 Q1755.64 1541.37 1755.64 1537.76 Q1755.64 1534.15 1753.31 1532.04 Q1750.97 1529.94 1746.96 1529.94 Q1745.09 1529.94 1743.21 1530.35 Q1741.36 1530.77 1739.42 1531.65 L1739.42 1514.29 Z\" fill=\"#000000\" fill-rule=\"evenodd\" fill-opacity=\"1\" /><path clip-path=\"url(#clip100)\" d=\"M2176.99 1544.91 L2184.63 1544.91 L2184.63 1518.55 L2176.32 1520.21 L2176.32 1515.95 L2184.59 1514.29 L2189.26 1514.29 L2189.26 1544.91 L2196.9 1544.91 L2196.9 1548.85 L2176.99 1548.85 L2176.99 1544.91 Z\" fill=\"#000000\" fill-rule=\"evenodd\" fill-opacity=\"1\" /><path clip-path=\"url(#clip100)\" d=\"M2216.34 1517.37 Q2212.73 1517.37 2210.9 1520.93 Q2209.1 1524.47 2209.1 1531.6 Q2209.1 1538.71 2210.9 1542.27 Q2212.73 1545.82 2216.34 1545.82 Q2219.98 1545.82 2221.78 1542.27 Q2223.61 1538.71 2223.61 1531.6 Q2223.61 1524.47 2221.78 1520.93 Q2219.98 1517.37 2216.34 1517.37 M2216.34 1513.66 Q2222.15 1513.66 2225.21 1518.27 Q2228.29 1522.85 2228.29 1531.6 Q2228.29 1540.33 2225.21 1544.94 Q2222.15 1549.52 2216.34 1549.52 Q2210.53 1549.52 2207.46 1544.94 Q2204.4 1540.33 2204.4 1531.6 Q2204.4 1522.85 2207.46 1518.27 Q2210.53 1513.66 2216.34 1513.66 Z\" fill=\"#000000\" fill-rule=\"evenodd\" fill-opacity=\"1\" /><polyline clip-path=\"url(#clip102)\" style=\"stroke:#000000; stroke-linecap:round; stroke-linejoin:round; stroke-width:2; stroke-opacity:0.1; fill:none\" points=\"239.19,1466.72 2352.76,1466.72 \"/>\n",
       "<polyline clip-path=\"url(#clip102)\" style=\"stroke:#000000; stroke-linecap:round; stroke-linejoin:round; stroke-width:2; stroke-opacity:0.1; fill:none\" points=\"239.19,1151.46 2352.76,1151.46 \"/>\n",
       "<polyline clip-path=\"url(#clip102)\" style=\"stroke:#000000; stroke-linecap:round; stroke-linejoin:round; stroke-width:2; stroke-opacity:0.1; fill:none\" points=\"239.19,836.21 2352.76,836.21 \"/>\n",
       "<polyline clip-path=\"url(#clip102)\" style=\"stroke:#000000; stroke-linecap:round; stroke-linejoin:round; stroke-width:2; stroke-opacity:0.1; fill:none\" points=\"239.19,520.956 2352.76,520.956 \"/>\n",
       "<polyline clip-path=\"url(#clip102)\" style=\"stroke:#000000; stroke-linecap:round; stroke-linejoin:round; stroke-width:2; stroke-opacity:0.1; fill:none\" points=\"239.19,205.702 2352.76,205.702 \"/>\n",
       "<polyline clip-path=\"url(#clip100)\" style=\"stroke:#000000; stroke-linecap:round; stroke-linejoin:round; stroke-width:4; stroke-opacity:1; fill:none\" points=\"239.19,1486.45 239.19,47.2441 \"/>\n",
       "<polyline clip-path=\"url(#clip100)\" style=\"stroke:#000000; stroke-linecap:round; stroke-linejoin:round; stroke-width:4; stroke-opacity:1; fill:none\" points=\"239.19,1466.72 258.088,1466.72 \"/>\n",
       "<polyline clip-path=\"url(#clip100)\" style=\"stroke:#000000; stroke-linecap:round; stroke-linejoin:round; stroke-width:4; stroke-opacity:1; fill:none\" points=\"239.19,1151.46 258.088,1151.46 \"/>\n",
       "<polyline clip-path=\"url(#clip100)\" style=\"stroke:#000000; stroke-linecap:round; stroke-linejoin:round; stroke-width:4; stroke-opacity:1; fill:none\" points=\"239.19,836.21 258.088,836.21 \"/>\n",
       "<polyline clip-path=\"url(#clip100)\" style=\"stroke:#000000; stroke-linecap:round; stroke-linejoin:round; stroke-width:4; stroke-opacity:1; fill:none\" points=\"239.19,520.956 258.088,520.956 \"/>\n",
       "<polyline clip-path=\"url(#clip100)\" style=\"stroke:#000000; stroke-linecap:round; stroke-linejoin:round; stroke-width:4; stroke-opacity:1; fill:none\" points=\"239.19,205.702 258.088,205.702 \"/>\n",
       "<path clip-path=\"url(#clip100)\" d=\"M50.9921 1467.17 L80.6679 1467.17 L80.6679 1471.1 L50.9921 1471.1 L50.9921 1467.17 Z\" fill=\"#000000\" fill-rule=\"evenodd\" fill-opacity=\"1\" /><path clip-path=\"url(#clip100)\" d=\"M91.5706 1480.06 L99.2095 1480.06 L99.2095 1453.7 L90.8993 1455.36 L90.8993 1451.1 L99.1632 1449.44 L103.839 1449.44 L103.839 1480.06 L111.478 1480.06 L111.478 1484 L91.5706 1484 L91.5706 1480.06 Z\" fill=\"#000000\" fill-rule=\"evenodd\" fill-opacity=\"1\" /><path clip-path=\"url(#clip100)\" d=\"M130.922 1452.52 Q127.311 1452.52 125.482 1456.08 Q123.677 1459.62 123.677 1466.75 Q123.677 1473.86 125.482 1477.42 Q127.311 1480.97 130.922 1480.97 Q134.556 1480.97 136.362 1477.42 Q138.191 1473.86 138.191 1466.75 Q138.191 1459.62 136.362 1456.08 Q134.556 1452.52 130.922 1452.52 M130.922 1448.81 Q136.732 1448.81 139.788 1453.42 Q142.867 1458 142.867 1466.75 Q142.867 1475.48 139.788 1480.09 Q136.732 1484.67 130.922 1484.67 Q125.112 1484.67 122.033 1480.09 Q118.978 1475.48 118.978 1466.75 Q118.978 1458 122.033 1453.42 Q125.112 1448.81 130.922 1448.81 Z\" fill=\"#000000\" fill-rule=\"evenodd\" fill-opacity=\"1\" /><path clip-path=\"url(#clip100)\" d=\"M161.084 1452.52 Q157.473 1452.52 155.644 1456.08 Q153.839 1459.62 153.839 1466.75 Q153.839 1473.86 155.644 1477.42 Q157.473 1480.97 161.084 1480.97 Q164.718 1480.97 166.524 1477.42 Q168.353 1473.86 168.353 1466.75 Q168.353 1459.62 166.524 1456.08 Q164.718 1452.52 161.084 1452.52 M161.084 1448.81 Q166.894 1448.81 169.95 1453.42 Q173.029 1458 173.029 1466.75 Q173.029 1475.48 169.95 1480.09 Q166.894 1484.67 161.084 1484.67 Q155.274 1484.67 152.195 1480.09 Q149.14 1475.48 149.14 1466.75 Q149.14 1458 152.195 1453.42 Q155.274 1448.81 161.084 1448.81 Z\" fill=\"#000000\" fill-rule=\"evenodd\" fill-opacity=\"1\" /><path clip-path=\"url(#clip100)\" d=\"M191.246 1452.52 Q187.635 1452.52 185.806 1456.08 Q184.001 1459.62 184.001 1466.75 Q184.001 1473.86 185.806 1477.42 Q187.635 1480.97 191.246 1480.97 Q194.88 1480.97 196.686 1477.42 Q198.514 1473.86 198.514 1466.75 Q198.514 1459.62 196.686 1456.08 Q194.88 1452.52 191.246 1452.52 M191.246 1448.81 Q197.056 1448.81 200.112 1453.42 Q203.19 1458 203.19 1466.75 Q203.19 1475.48 200.112 1480.09 Q197.056 1484.67 191.246 1484.67 Q185.436 1484.67 182.357 1480.09 Q179.302 1475.48 179.302 1466.75 Q179.302 1458 182.357 1453.42 Q185.436 1448.81 191.246 1448.81 Z\" fill=\"#000000\" fill-rule=\"evenodd\" fill-opacity=\"1\" /><path clip-path=\"url(#clip100)\" d=\"M81.154 1151.92 L110.83 1151.92 L110.83 1155.85 L81.154 1155.85 L81.154 1151.92 Z\" fill=\"#000000\" fill-rule=\"evenodd\" fill-opacity=\"1\" /><path clip-path=\"url(#clip100)\" d=\"M120.969 1134.18 L139.325 1134.18 L139.325 1138.12 L125.251 1138.12 L125.251 1146.59 Q126.27 1146.24 127.288 1146.08 Q128.307 1145.9 129.325 1145.9 Q135.112 1145.9 138.492 1149.07 Q141.871 1152.24 141.871 1157.66 Q141.871 1163.23 138.399 1166.34 Q134.927 1169.42 128.607 1169.42 Q126.432 1169.42 124.163 1169.04 Q121.918 1168.67 119.51 1167.93 L119.51 1163.23 Q121.594 1164.37 123.816 1164.92 Q126.038 1165.48 128.515 1165.48 Q132.519 1165.48 134.857 1163.37 Q137.195 1161.27 137.195 1157.66 Q137.195 1154.05 134.857 1151.94 Q132.519 1149.83 128.515 1149.83 Q126.64 1149.83 124.765 1150.25 Q122.913 1150.67 120.969 1151.55 L120.969 1134.18 Z\" fill=\"#000000\" fill-rule=\"evenodd\" fill-opacity=\"1\" /><path clip-path=\"url(#clip100)\" d=\"M161.084 1137.26 Q157.473 1137.26 155.644 1140.83 Q153.839 1144.37 153.839 1151.5 Q153.839 1158.61 155.644 1162.17 Q157.473 1165.71 161.084 1165.71 Q164.718 1165.71 166.524 1162.17 Q168.353 1158.61 168.353 1151.5 Q168.353 1144.37 166.524 1140.83 Q164.718 1137.26 161.084 1137.26 M161.084 1133.56 Q166.894 1133.56 169.95 1138.17 Q173.029 1142.75 173.029 1151.5 Q173.029 1160.23 169.95 1164.83 Q166.894 1169.42 161.084 1169.42 Q155.274 1169.42 152.195 1164.83 Q149.14 1160.23 149.14 1151.5 Q149.14 1142.75 152.195 1138.17 Q155.274 1133.56 161.084 1133.56 Z\" fill=\"#000000\" fill-rule=\"evenodd\" fill-opacity=\"1\" /><path clip-path=\"url(#clip100)\" d=\"M191.246 1137.26 Q187.635 1137.26 185.806 1140.83 Q184.001 1144.37 184.001 1151.5 Q184.001 1158.61 185.806 1162.17 Q187.635 1165.71 191.246 1165.71 Q194.88 1165.71 196.686 1162.17 Q198.514 1158.61 198.514 1151.5 Q198.514 1144.37 196.686 1140.83 Q194.88 1137.26 191.246 1137.26 M191.246 1133.56 Q197.056 1133.56 200.112 1138.17 Q203.19 1142.75 203.19 1151.5 Q203.19 1160.23 200.112 1164.83 Q197.056 1169.42 191.246 1169.42 Q185.436 1169.42 182.357 1164.83 Q179.302 1160.23 179.302 1151.5 Q179.302 1142.75 182.357 1138.17 Q185.436 1133.56 191.246 1133.56 Z\" fill=\"#000000\" fill-rule=\"evenodd\" fill-opacity=\"1\" /><path clip-path=\"url(#clip100)\" d=\"M191.246 822.009 Q187.635 822.009 185.806 825.574 Q184.001 829.115 184.001 836.245 Q184.001 843.351 185.806 846.916 Q187.635 850.458 191.246 850.458 Q194.88 850.458 196.686 846.916 Q198.514 843.351 198.514 836.245 Q198.514 829.115 196.686 825.574 Q194.88 822.009 191.246 822.009 M191.246 818.305 Q197.056 818.305 200.112 822.912 Q203.19 827.495 203.19 836.245 Q203.19 844.972 200.112 849.578 Q197.056 854.161 191.246 854.161 Q185.436 854.161 182.357 849.578 Q179.302 844.972 179.302 836.245 Q179.302 827.495 182.357 822.912 Q185.436 818.305 191.246 818.305 Z\" fill=\"#000000\" fill-rule=\"evenodd\" fill-opacity=\"1\" /><path clip-path=\"url(#clip100)\" d=\"M120.969 503.676 L139.325 503.676 L139.325 507.611 L125.251 507.611 L125.251 516.084 Q126.27 515.736 127.288 515.574 Q128.307 515.389 129.325 515.389 Q135.112 515.389 138.492 518.561 Q141.871 521.732 141.871 527.148 Q141.871 532.727 138.399 535.829 Q134.927 538.908 128.607 538.908 Q126.432 538.908 124.163 538.537 Q121.918 538.167 119.51 537.426 L119.51 532.727 Q121.594 533.861 123.816 534.417 Q126.038 534.972 128.515 534.972 Q132.519 534.972 134.857 532.866 Q137.195 530.76 137.195 527.148 Q137.195 523.537 134.857 521.431 Q132.519 519.324 128.515 519.324 Q126.64 519.324 124.765 519.741 Q122.913 520.158 120.969 521.037 L120.969 503.676 Z\" fill=\"#000000\" fill-rule=\"evenodd\" fill-opacity=\"1\" /><path clip-path=\"url(#clip100)\" d=\"M161.084 506.755 Q157.473 506.755 155.644 510.32 Q153.839 513.861 153.839 520.991 Q153.839 528.097 155.644 531.662 Q157.473 535.204 161.084 535.204 Q164.718 535.204 166.524 531.662 Q168.353 528.097 168.353 520.991 Q168.353 513.861 166.524 510.32 Q164.718 506.755 161.084 506.755 M161.084 503.051 Q166.894 503.051 169.95 507.658 Q173.029 512.241 173.029 520.991 Q173.029 529.718 169.95 534.324 Q166.894 538.908 161.084 538.908 Q155.274 538.908 152.195 534.324 Q149.14 529.718 149.14 520.991 Q149.14 512.241 152.195 507.658 Q155.274 503.051 161.084 503.051 Z\" fill=\"#000000\" fill-rule=\"evenodd\" fill-opacity=\"1\" /><path clip-path=\"url(#clip100)\" d=\"M191.246 506.755 Q187.635 506.755 185.806 510.32 Q184.001 513.861 184.001 520.991 Q184.001 528.097 185.806 531.662 Q187.635 535.204 191.246 535.204 Q194.88 535.204 196.686 531.662 Q198.514 528.097 198.514 520.991 Q198.514 513.861 196.686 510.32 Q194.88 506.755 191.246 506.755 M191.246 503.051 Q197.056 503.051 200.112 507.658 Q203.19 512.241 203.19 520.991 Q203.19 529.718 200.112 534.324 Q197.056 538.908 191.246 538.908 Q185.436 538.908 182.357 534.324 Q179.302 529.718 179.302 520.991 Q179.302 512.241 182.357 507.658 Q185.436 503.051 191.246 503.051 Z\" fill=\"#000000\" fill-rule=\"evenodd\" fill-opacity=\"1\" /><path clip-path=\"url(#clip100)\" d=\"M91.5706 219.047 L99.2095 219.047 L99.2095 192.682 L90.8993 194.348 L90.8993 190.089 L99.1632 188.422 L103.839 188.422 L103.839 219.047 L111.478 219.047 L111.478 222.982 L91.5706 222.982 L91.5706 219.047 Z\" fill=\"#000000\" fill-rule=\"evenodd\" fill-opacity=\"1\" /><path clip-path=\"url(#clip100)\" d=\"M130.922 191.501 Q127.311 191.501 125.482 195.066 Q123.677 198.608 123.677 205.737 Q123.677 212.844 125.482 216.408 Q127.311 219.95 130.922 219.95 Q134.556 219.95 136.362 216.408 Q138.191 212.844 138.191 205.737 Q138.191 198.608 136.362 195.066 Q134.556 191.501 130.922 191.501 M130.922 187.797 Q136.732 187.797 139.788 192.404 Q142.867 196.987 142.867 205.737 Q142.867 214.464 139.788 219.07 Q136.732 223.654 130.922 223.654 Q125.112 223.654 122.033 219.07 Q118.978 214.464 118.978 205.737 Q118.978 196.987 122.033 192.404 Q125.112 187.797 130.922 187.797 Z\" fill=\"#000000\" fill-rule=\"evenodd\" fill-opacity=\"1\" /><path clip-path=\"url(#clip100)\" d=\"M161.084 191.501 Q157.473 191.501 155.644 195.066 Q153.839 198.608 153.839 205.737 Q153.839 212.844 155.644 216.408 Q157.473 219.95 161.084 219.95 Q164.718 219.95 166.524 216.408 Q168.353 212.844 168.353 205.737 Q168.353 198.608 166.524 195.066 Q164.718 191.501 161.084 191.501 M161.084 187.797 Q166.894 187.797 169.95 192.404 Q173.029 196.987 173.029 205.737 Q173.029 214.464 169.95 219.07 Q166.894 223.654 161.084 223.654 Q155.274 223.654 152.195 219.07 Q149.14 214.464 149.14 205.737 Q149.14 196.987 152.195 192.404 Q155.274 187.797 161.084 187.797 Z\" fill=\"#000000\" fill-rule=\"evenodd\" fill-opacity=\"1\" /><path clip-path=\"url(#clip100)\" d=\"M191.246 191.501 Q187.635 191.501 185.806 195.066 Q184.001 198.608 184.001 205.737 Q184.001 212.844 185.806 216.408 Q187.635 219.95 191.246 219.95 Q194.88 219.95 196.686 216.408 Q198.514 212.844 198.514 205.737 Q198.514 198.608 196.686 195.066 Q194.88 191.501 191.246 191.501 M191.246 187.797 Q197.056 187.797 200.112 192.404 Q203.19 196.987 203.19 205.737 Q203.19 214.464 200.112 219.07 Q197.056 223.654 191.246 223.654 Q185.436 223.654 182.357 219.07 Q179.302 214.464 179.302 205.737 Q179.302 196.987 182.357 192.404 Q185.436 187.797 191.246 187.797 Z\" fill=\"#000000\" fill-rule=\"evenodd\" fill-opacity=\"1\" /><circle clip-path=\"url(#clip102)\" cx=\"299.008\" cy=\"788.186\" r=\"14.4\" fill=\"#009af9\" fill-rule=\"evenodd\" fill-opacity=\"1\" stroke=\"#000000\" stroke-opacity=\"1\" stroke-width=\"3.2\"/>\n",
       "<circle clip-path=\"url(#clip102)\" cx=\"308.072\" cy=\"776.298\" r=\"14.4\" fill=\"#009af9\" fill-rule=\"evenodd\" fill-opacity=\"1\" stroke=\"#000000\" stroke-opacity=\"1\" stroke-width=\"3.2\"/>\n",
       "<circle clip-path=\"url(#clip102)\" cx=\"317.135\" cy=\"782.447\" r=\"14.4\" fill=\"#009af9\" fill-rule=\"evenodd\" fill-opacity=\"1\" stroke=\"#000000\" stroke-opacity=\"1\" stroke-width=\"3.2\"/>\n",
       "<circle clip-path=\"url(#clip102)\" cx=\"326.198\" cy=\"792.339\" r=\"14.4\" fill=\"#009af9\" fill-rule=\"evenodd\" fill-opacity=\"1\" stroke=\"#000000\" stroke-opacity=\"1\" stroke-width=\"3.2\"/>\n",
       "<circle clip-path=\"url(#clip102)\" cx=\"335.262\" cy=\"790.293\" r=\"14.4\" fill=\"#009af9\" fill-rule=\"evenodd\" fill-opacity=\"1\" stroke=\"#000000\" stroke-opacity=\"1\" stroke-width=\"3.2\"/>\n",
       "<circle clip-path=\"url(#clip102)\" cx=\"344.325\" cy=\"794.131\" r=\"14.4\" fill=\"#009af9\" fill-rule=\"evenodd\" fill-opacity=\"1\" stroke=\"#000000\" stroke-opacity=\"1\" stroke-width=\"3.2\"/>\n",
       "<circle clip-path=\"url(#clip102)\" cx=\"353.388\" cy=\"788.382\" r=\"14.4\" fill=\"#009af9\" fill-rule=\"evenodd\" fill-opacity=\"1\" stroke=\"#000000\" stroke-opacity=\"1\" stroke-width=\"3.2\"/>\n",
       "<circle clip-path=\"url(#clip102)\" cx=\"362.451\" cy=\"787.67\" r=\"14.4\" fill=\"#009af9\" fill-rule=\"evenodd\" fill-opacity=\"1\" stroke=\"#000000\" stroke-opacity=\"1\" stroke-width=\"3.2\"/>\n",
       "<circle clip-path=\"url(#clip102)\" cx=\"371.515\" cy=\"785.451\" r=\"14.4\" fill=\"#009af9\" fill-rule=\"evenodd\" fill-opacity=\"1\" stroke=\"#000000\" stroke-opacity=\"1\" stroke-width=\"3.2\"/>\n",
       "<circle clip-path=\"url(#clip102)\" cx=\"380.578\" cy=\"788.171\" r=\"14.4\" fill=\"#009af9\" fill-rule=\"evenodd\" fill-opacity=\"1\" stroke=\"#000000\" stroke-opacity=\"1\" stroke-width=\"3.2\"/>\n",
       "<circle clip-path=\"url(#clip102)\" cx=\"389.641\" cy=\"778.146\" r=\"14.4\" fill=\"#009af9\" fill-rule=\"evenodd\" fill-opacity=\"1\" stroke=\"#000000\" stroke-opacity=\"1\" stroke-width=\"3.2\"/>\n",
       "<circle clip-path=\"url(#clip102)\" cx=\"398.705\" cy=\"791.377\" r=\"14.4\" fill=\"#009af9\" fill-rule=\"evenodd\" fill-opacity=\"1\" stroke=\"#000000\" stroke-opacity=\"1\" stroke-width=\"3.2\"/>\n",
       "<circle clip-path=\"url(#clip102)\" cx=\"407.768\" cy=\"798.911\" r=\"14.4\" fill=\"#009af9\" fill-rule=\"evenodd\" fill-opacity=\"1\" stroke=\"#000000\" stroke-opacity=\"1\" stroke-width=\"3.2\"/>\n",
       "<circle clip-path=\"url(#clip102)\" cx=\"416.831\" cy=\"806.946\" r=\"14.4\" fill=\"#009af9\" fill-rule=\"evenodd\" fill-opacity=\"1\" stroke=\"#000000\" stroke-opacity=\"1\" stroke-width=\"3.2\"/>\n",
       "<circle clip-path=\"url(#clip102)\" cx=\"425.895\" cy=\"798.575\" r=\"14.4\" fill=\"#009af9\" fill-rule=\"evenodd\" fill-opacity=\"1\" stroke=\"#000000\" stroke-opacity=\"1\" stroke-width=\"3.2\"/>\n",
       "<circle clip-path=\"url(#clip102)\" cx=\"434.958\" cy=\"785.367\" r=\"14.4\" fill=\"#009af9\" fill-rule=\"evenodd\" fill-opacity=\"1\" stroke=\"#000000\" stroke-opacity=\"1\" stroke-width=\"3.2\"/>\n",
       "<circle clip-path=\"url(#clip102)\" cx=\"444.021\" cy=\"785.034\" r=\"14.4\" fill=\"#009af9\" fill-rule=\"evenodd\" fill-opacity=\"1\" stroke=\"#000000\" stroke-opacity=\"1\" stroke-width=\"3.2\"/>\n",
       "<circle clip-path=\"url(#clip102)\" cx=\"453.085\" cy=\"801.926\" r=\"14.4\" fill=\"#009af9\" fill-rule=\"evenodd\" fill-opacity=\"1\" stroke=\"#000000\" stroke-opacity=\"1\" stroke-width=\"3.2\"/>\n",
       "<circle clip-path=\"url(#clip102)\" cx=\"462.148\" cy=\"801.729\" r=\"14.4\" fill=\"#009af9\" fill-rule=\"evenodd\" fill-opacity=\"1\" stroke=\"#000000\" stroke-opacity=\"1\" stroke-width=\"3.2\"/>\n",
       "<circle clip-path=\"url(#clip102)\" cx=\"471.211\" cy=\"809.971\" r=\"14.4\" fill=\"#009af9\" fill-rule=\"evenodd\" fill-opacity=\"1\" stroke=\"#000000\" stroke-opacity=\"1\" stroke-width=\"3.2\"/>\n",
       "<circle clip-path=\"url(#clip102)\" cx=\"480.275\" cy=\"812.907\" r=\"14.4\" fill=\"#009af9\" fill-rule=\"evenodd\" fill-opacity=\"1\" stroke=\"#000000\" stroke-opacity=\"1\" stroke-width=\"3.2\"/>\n",
       "<circle clip-path=\"url(#clip102)\" cx=\"489.338\" cy=\"800.62\" r=\"14.4\" fill=\"#009af9\" fill-rule=\"evenodd\" fill-opacity=\"1\" stroke=\"#000000\" stroke-opacity=\"1\" stroke-width=\"3.2\"/>\n",
       "<circle clip-path=\"url(#clip102)\" cx=\"498.401\" cy=\"802.518\" r=\"14.4\" fill=\"#009af9\" fill-rule=\"evenodd\" fill-opacity=\"1\" stroke=\"#000000\" stroke-opacity=\"1\" stroke-width=\"3.2\"/>\n",
       "<circle clip-path=\"url(#clip102)\" cx=\"507.465\" cy=\"805.427\" r=\"14.4\" fill=\"#009af9\" fill-rule=\"evenodd\" fill-opacity=\"1\" stroke=\"#000000\" stroke-opacity=\"1\" stroke-width=\"3.2\"/>\n",
       "<circle clip-path=\"url(#clip102)\" cx=\"516.528\" cy=\"804.24\" r=\"14.4\" fill=\"#009af9\" fill-rule=\"evenodd\" fill-opacity=\"1\" stroke=\"#000000\" stroke-opacity=\"1\" stroke-width=\"3.2\"/>\n",
       "<circle clip-path=\"url(#clip102)\" cx=\"525.591\" cy=\"807.815\" r=\"14.4\" fill=\"#009af9\" fill-rule=\"evenodd\" fill-opacity=\"1\" stroke=\"#000000\" stroke-opacity=\"1\" stroke-width=\"3.2\"/>\n",
       "<circle clip-path=\"url(#clip102)\" cx=\"534.655\" cy=\"811.923\" r=\"14.4\" fill=\"#009af9\" fill-rule=\"evenodd\" fill-opacity=\"1\" stroke=\"#000000\" stroke-opacity=\"1\" stroke-width=\"3.2\"/>\n",
       "<circle clip-path=\"url(#clip102)\" cx=\"543.718\" cy=\"805.961\" r=\"14.4\" fill=\"#009af9\" fill-rule=\"evenodd\" fill-opacity=\"1\" stroke=\"#000000\" stroke-opacity=\"1\" stroke-width=\"3.2\"/>\n",
       "<circle clip-path=\"url(#clip102)\" cx=\"552.781\" cy=\"815.12\" r=\"14.4\" fill=\"#009af9\" fill-rule=\"evenodd\" fill-opacity=\"1\" stroke=\"#000000\" stroke-opacity=\"1\" stroke-width=\"3.2\"/>\n",
       "<circle clip-path=\"url(#clip102)\" cx=\"561.844\" cy=\"812.638\" r=\"14.4\" fill=\"#009af9\" fill-rule=\"evenodd\" fill-opacity=\"1\" stroke=\"#000000\" stroke-opacity=\"1\" stroke-width=\"3.2\"/>\n",
       "<circle clip-path=\"url(#clip102)\" cx=\"570.908\" cy=\"809.802\" r=\"14.4\" fill=\"#009af9\" fill-rule=\"evenodd\" fill-opacity=\"1\" stroke=\"#000000\" stroke-opacity=\"1\" stroke-width=\"3.2\"/>\n",
       "<circle clip-path=\"url(#clip102)\" cx=\"579.971\" cy=\"804.163\" r=\"14.4\" fill=\"#009af9\" fill-rule=\"evenodd\" fill-opacity=\"1\" stroke=\"#000000\" stroke-opacity=\"1\" stroke-width=\"3.2\"/>\n",
       "<circle clip-path=\"url(#clip102)\" cx=\"589.034\" cy=\"815.39\" r=\"14.4\" fill=\"#009af9\" fill-rule=\"evenodd\" fill-opacity=\"1\" stroke=\"#000000\" stroke-opacity=\"1\" stroke-width=\"3.2\"/>\n",
       "<circle clip-path=\"url(#clip102)\" cx=\"598.098\" cy=\"811.105\" r=\"14.4\" fill=\"#009af9\" fill-rule=\"evenodd\" fill-opacity=\"1\" stroke=\"#000000\" stroke-opacity=\"1\" stroke-width=\"3.2\"/>\n",
       "<circle clip-path=\"url(#clip102)\" cx=\"607.161\" cy=\"819.705\" r=\"14.4\" fill=\"#009af9\" fill-rule=\"evenodd\" fill-opacity=\"1\" stroke=\"#000000\" stroke-opacity=\"1\" stroke-width=\"3.2\"/>\n",
       "<circle clip-path=\"url(#clip102)\" cx=\"616.224\" cy=\"824.851\" r=\"14.4\" fill=\"#009af9\" fill-rule=\"evenodd\" fill-opacity=\"1\" stroke=\"#000000\" stroke-opacity=\"1\" stroke-width=\"3.2\"/>\n",
       "<circle clip-path=\"url(#clip102)\" cx=\"625.288\" cy=\"811.717\" r=\"14.4\" fill=\"#009af9\" fill-rule=\"evenodd\" fill-opacity=\"1\" stroke=\"#000000\" stroke-opacity=\"1\" stroke-width=\"3.2\"/>\n",
       "<circle clip-path=\"url(#clip102)\" cx=\"634.351\" cy=\"815.16\" r=\"14.4\" fill=\"#009af9\" fill-rule=\"evenodd\" fill-opacity=\"1\" stroke=\"#000000\" stroke-opacity=\"1\" stroke-width=\"3.2\"/>\n",
       "<circle clip-path=\"url(#clip102)\" cx=\"643.414\" cy=\"820.118\" r=\"14.4\" fill=\"#009af9\" fill-rule=\"evenodd\" fill-opacity=\"1\" stroke=\"#000000\" stroke-opacity=\"1\" stroke-width=\"3.2\"/>\n",
       "<circle clip-path=\"url(#clip102)\" cx=\"652.478\" cy=\"810.997\" r=\"14.4\" fill=\"#009af9\" fill-rule=\"evenodd\" fill-opacity=\"1\" stroke=\"#000000\" stroke-opacity=\"1\" stroke-width=\"3.2\"/>\n",
       "<circle clip-path=\"url(#clip102)\" cx=\"661.541\" cy=\"813.448\" r=\"14.4\" fill=\"#009af9\" fill-rule=\"evenodd\" fill-opacity=\"1\" stroke=\"#000000\" stroke-opacity=\"1\" stroke-width=\"3.2\"/>\n",
       "<circle clip-path=\"url(#clip102)\" cx=\"670.604\" cy=\"825.724\" r=\"14.4\" fill=\"#009af9\" fill-rule=\"evenodd\" fill-opacity=\"1\" stroke=\"#000000\" stroke-opacity=\"1\" stroke-width=\"3.2\"/>\n",
       "<circle clip-path=\"url(#clip102)\" cx=\"679.668\" cy=\"822.541\" r=\"14.4\" fill=\"#009af9\" fill-rule=\"evenodd\" fill-opacity=\"1\" stroke=\"#000000\" stroke-opacity=\"1\" stroke-width=\"3.2\"/>\n",
       "<circle clip-path=\"url(#clip102)\" cx=\"688.731\" cy=\"822.073\" r=\"14.4\" fill=\"#009af9\" fill-rule=\"evenodd\" fill-opacity=\"1\" stroke=\"#000000\" stroke-opacity=\"1\" stroke-width=\"3.2\"/>\n",
       "<circle clip-path=\"url(#clip102)\" cx=\"697.794\" cy=\"822.513\" r=\"14.4\" fill=\"#009af9\" fill-rule=\"evenodd\" fill-opacity=\"1\" stroke=\"#000000\" stroke-opacity=\"1\" stroke-width=\"3.2\"/>\n",
       "<circle clip-path=\"url(#clip102)\" cx=\"706.858\" cy=\"822.707\" r=\"14.4\" fill=\"#009af9\" fill-rule=\"evenodd\" fill-opacity=\"1\" stroke=\"#000000\" stroke-opacity=\"1\" stroke-width=\"3.2\"/>\n",
       "<circle clip-path=\"url(#clip102)\" cx=\"715.921\" cy=\"824.373\" r=\"14.4\" fill=\"#009af9\" fill-rule=\"evenodd\" fill-opacity=\"1\" stroke=\"#000000\" stroke-opacity=\"1\" stroke-width=\"3.2\"/>\n",
       "<circle clip-path=\"url(#clip102)\" cx=\"724.984\" cy=\"820.636\" r=\"14.4\" fill=\"#009af9\" fill-rule=\"evenodd\" fill-opacity=\"1\" stroke=\"#000000\" stroke-opacity=\"1\" stroke-width=\"3.2\"/>\n",
       "<circle clip-path=\"url(#clip102)\" cx=\"734.047\" cy=\"822.611\" r=\"14.4\" fill=\"#009af9\" fill-rule=\"evenodd\" fill-opacity=\"1\" stroke=\"#000000\" stroke-opacity=\"1\" stroke-width=\"3.2\"/>\n",
       "<circle clip-path=\"url(#clip102)\" cx=\"743.111\" cy=\"825.367\" r=\"14.4\" fill=\"#009af9\" fill-rule=\"evenodd\" fill-opacity=\"1\" stroke=\"#000000\" stroke-opacity=\"1\" stroke-width=\"3.2\"/>\n",
       "<circle clip-path=\"url(#clip102)\" cx=\"752.174\" cy=\"824.927\" r=\"14.4\" fill=\"#009af9\" fill-rule=\"evenodd\" fill-opacity=\"1\" stroke=\"#000000\" stroke-opacity=\"1\" stroke-width=\"3.2\"/>\n",
       "<circle clip-path=\"url(#clip102)\" cx=\"761.237\" cy=\"820.178\" r=\"14.4\" fill=\"#009af9\" fill-rule=\"evenodd\" fill-opacity=\"1\" stroke=\"#000000\" stroke-opacity=\"1\" stroke-width=\"3.2\"/>\n",
       "<circle clip-path=\"url(#clip102)\" cx=\"770.301\" cy=\"825.979\" r=\"14.4\" fill=\"#009af9\" fill-rule=\"evenodd\" fill-opacity=\"1\" stroke=\"#000000\" stroke-opacity=\"1\" stroke-width=\"3.2\"/>\n",
       "<circle clip-path=\"url(#clip102)\" cx=\"779.364\" cy=\"827.825\" r=\"14.4\" fill=\"#009af9\" fill-rule=\"evenodd\" fill-opacity=\"1\" stroke=\"#000000\" stroke-opacity=\"1\" stroke-width=\"3.2\"/>\n",
       "<circle clip-path=\"url(#clip102)\" cx=\"788.427\" cy=\"828.724\" r=\"14.4\" fill=\"#009af9\" fill-rule=\"evenodd\" fill-opacity=\"1\" stroke=\"#000000\" stroke-opacity=\"1\" stroke-width=\"3.2\"/>\n",
       "<circle clip-path=\"url(#clip102)\" cx=\"797.491\" cy=\"822.601\" r=\"14.4\" fill=\"#009af9\" fill-rule=\"evenodd\" fill-opacity=\"1\" stroke=\"#000000\" stroke-opacity=\"1\" stroke-width=\"3.2\"/>\n",
       "<circle clip-path=\"url(#clip102)\" cx=\"806.554\" cy=\"828.793\" r=\"14.4\" fill=\"#009af9\" fill-rule=\"evenodd\" fill-opacity=\"1\" stroke=\"#000000\" stroke-opacity=\"1\" stroke-width=\"3.2\"/>\n",
       "<circle clip-path=\"url(#clip102)\" cx=\"815.617\" cy=\"825.997\" r=\"14.4\" fill=\"#009af9\" fill-rule=\"evenodd\" fill-opacity=\"1\" stroke=\"#000000\" stroke-opacity=\"1\" stroke-width=\"3.2\"/>\n",
       "<circle clip-path=\"url(#clip102)\" cx=\"824.681\" cy=\"826.673\" r=\"14.4\" fill=\"#009af9\" fill-rule=\"evenodd\" fill-opacity=\"1\" stroke=\"#000000\" stroke-opacity=\"1\" stroke-width=\"3.2\"/>\n",
       "<circle clip-path=\"url(#clip102)\" cx=\"833.744\" cy=\"845.404\" r=\"14.4\" fill=\"#009af9\" fill-rule=\"evenodd\" fill-opacity=\"1\" stroke=\"#000000\" stroke-opacity=\"1\" stroke-width=\"3.2\"/>\n",
       "<circle clip-path=\"url(#clip102)\" cx=\"842.807\" cy=\"821.655\" r=\"14.4\" fill=\"#009af9\" fill-rule=\"evenodd\" fill-opacity=\"1\" stroke=\"#000000\" stroke-opacity=\"1\" stroke-width=\"3.2\"/>\n",
       "<circle clip-path=\"url(#clip102)\" cx=\"851.871\" cy=\"843.782\" r=\"14.4\" fill=\"#009af9\" fill-rule=\"evenodd\" fill-opacity=\"1\" stroke=\"#000000\" stroke-opacity=\"1\" stroke-width=\"3.2\"/>\n",
       "<circle clip-path=\"url(#clip102)\" cx=\"860.934\" cy=\"827.656\" r=\"14.4\" fill=\"#009af9\" fill-rule=\"evenodd\" fill-opacity=\"1\" stroke=\"#000000\" stroke-opacity=\"1\" stroke-width=\"3.2\"/>\n",
       "<circle clip-path=\"url(#clip102)\" cx=\"869.997\" cy=\"825.838\" r=\"14.4\" fill=\"#009af9\" fill-rule=\"evenodd\" fill-opacity=\"1\" stroke=\"#000000\" stroke-opacity=\"1\" stroke-width=\"3.2\"/>\n",
       "<circle clip-path=\"url(#clip102)\" cx=\"879.061\" cy=\"831.333\" r=\"14.4\" fill=\"#009af9\" fill-rule=\"evenodd\" fill-opacity=\"1\" stroke=\"#000000\" stroke-opacity=\"1\" stroke-width=\"3.2\"/>\n",
       "<circle clip-path=\"url(#clip102)\" cx=\"888.124\" cy=\"837.381\" r=\"14.4\" fill=\"#009af9\" fill-rule=\"evenodd\" fill-opacity=\"1\" stroke=\"#000000\" stroke-opacity=\"1\" stroke-width=\"3.2\"/>\n",
       "<circle clip-path=\"url(#clip102)\" cx=\"897.187\" cy=\"829.008\" r=\"14.4\" fill=\"#009af9\" fill-rule=\"evenodd\" fill-opacity=\"1\" stroke=\"#000000\" stroke-opacity=\"1\" stroke-width=\"3.2\"/>\n",
       "<circle clip-path=\"url(#clip102)\" cx=\"906.251\" cy=\"831.096\" r=\"14.4\" fill=\"#009af9\" fill-rule=\"evenodd\" fill-opacity=\"1\" stroke=\"#000000\" stroke-opacity=\"1\" stroke-width=\"3.2\"/>\n",
       "<circle clip-path=\"url(#clip102)\" cx=\"915.314\" cy=\"824.627\" r=\"14.4\" fill=\"#009af9\" fill-rule=\"evenodd\" fill-opacity=\"1\" stroke=\"#000000\" stroke-opacity=\"1\" stroke-width=\"3.2\"/>\n",
       "<circle clip-path=\"url(#clip102)\" cx=\"924.377\" cy=\"820.649\" r=\"14.4\" fill=\"#009af9\" fill-rule=\"evenodd\" fill-opacity=\"1\" stroke=\"#000000\" stroke-opacity=\"1\" stroke-width=\"3.2\"/>\n",
       "<circle clip-path=\"url(#clip102)\" cx=\"933.44\" cy=\"834.749\" r=\"14.4\" fill=\"#009af9\" fill-rule=\"evenodd\" fill-opacity=\"1\" stroke=\"#000000\" stroke-opacity=\"1\" stroke-width=\"3.2\"/>\n",
       "<circle clip-path=\"url(#clip102)\" cx=\"942.504\" cy=\"838.802\" r=\"14.4\" fill=\"#009af9\" fill-rule=\"evenodd\" fill-opacity=\"1\" stroke=\"#000000\" stroke-opacity=\"1\" stroke-width=\"3.2\"/>\n",
       "<circle clip-path=\"url(#clip102)\" cx=\"951.567\" cy=\"841.139\" r=\"14.4\" fill=\"#009af9\" fill-rule=\"evenodd\" fill-opacity=\"1\" stroke=\"#000000\" stroke-opacity=\"1\" stroke-width=\"3.2\"/>\n",
       "<circle clip-path=\"url(#clip102)\" cx=\"960.63\" cy=\"833.905\" r=\"14.4\" fill=\"#009af9\" fill-rule=\"evenodd\" fill-opacity=\"1\" stroke=\"#000000\" stroke-opacity=\"1\" stroke-width=\"3.2\"/>\n",
       "<circle clip-path=\"url(#clip102)\" cx=\"969.694\" cy=\"842.488\" r=\"14.4\" fill=\"#009af9\" fill-rule=\"evenodd\" fill-opacity=\"1\" stroke=\"#000000\" stroke-opacity=\"1\" stroke-width=\"3.2\"/>\n",
       "<circle clip-path=\"url(#clip102)\" cx=\"978.757\" cy=\"842.432\" r=\"14.4\" fill=\"#009af9\" fill-rule=\"evenodd\" fill-opacity=\"1\" stroke=\"#000000\" stroke-opacity=\"1\" stroke-width=\"3.2\"/>\n",
       "<circle clip-path=\"url(#clip102)\" cx=\"987.82\" cy=\"835.847\" r=\"14.4\" fill=\"#009af9\" fill-rule=\"evenodd\" fill-opacity=\"1\" stroke=\"#000000\" stroke-opacity=\"1\" stroke-width=\"3.2\"/>\n",
       "<circle clip-path=\"url(#clip102)\" cx=\"996.884\" cy=\"828.561\" r=\"14.4\" fill=\"#009af9\" fill-rule=\"evenodd\" fill-opacity=\"1\" stroke=\"#000000\" stroke-opacity=\"1\" stroke-width=\"3.2\"/>\n",
       "<circle clip-path=\"url(#clip102)\" cx=\"1005.95\" cy=\"841.322\" r=\"14.4\" fill=\"#009af9\" fill-rule=\"evenodd\" fill-opacity=\"1\" stroke=\"#000000\" stroke-opacity=\"1\" stroke-width=\"3.2\"/>\n",
       "<circle clip-path=\"url(#clip102)\" cx=\"1015.01\" cy=\"832.391\" r=\"14.4\" fill=\"#009af9\" fill-rule=\"evenodd\" fill-opacity=\"1\" stroke=\"#000000\" stroke-opacity=\"1\" stroke-width=\"3.2\"/>\n",
       "<circle clip-path=\"url(#clip102)\" cx=\"1024.07\" cy=\"844.629\" r=\"14.4\" fill=\"#009af9\" fill-rule=\"evenodd\" fill-opacity=\"1\" stroke=\"#000000\" stroke-opacity=\"1\" stroke-width=\"3.2\"/>\n",
       "<circle clip-path=\"url(#clip102)\" cx=\"1033.14\" cy=\"845.858\" r=\"14.4\" fill=\"#009af9\" fill-rule=\"evenodd\" fill-opacity=\"1\" stroke=\"#000000\" stroke-opacity=\"1\" stroke-width=\"3.2\"/>\n",
       "<circle clip-path=\"url(#clip102)\" cx=\"1042.2\" cy=\"842.318\" r=\"14.4\" fill=\"#009af9\" fill-rule=\"evenodd\" fill-opacity=\"1\" stroke=\"#000000\" stroke-opacity=\"1\" stroke-width=\"3.2\"/>\n",
       "<circle clip-path=\"url(#clip102)\" cx=\"1051.26\" cy=\"829.729\" r=\"14.4\" fill=\"#009af9\" fill-rule=\"evenodd\" fill-opacity=\"1\" stroke=\"#000000\" stroke-opacity=\"1\" stroke-width=\"3.2\"/>\n",
       "<circle clip-path=\"url(#clip102)\" cx=\"1060.33\" cy=\"838.768\" r=\"14.4\" fill=\"#009af9\" fill-rule=\"evenodd\" fill-opacity=\"1\" stroke=\"#000000\" stroke-opacity=\"1\" stroke-width=\"3.2\"/>\n",
       "<circle clip-path=\"url(#clip102)\" cx=\"1069.39\" cy=\"838.558\" r=\"14.4\" fill=\"#009af9\" fill-rule=\"evenodd\" fill-opacity=\"1\" stroke=\"#000000\" stroke-opacity=\"1\" stroke-width=\"3.2\"/>\n",
       "<circle clip-path=\"url(#clip102)\" cx=\"1078.45\" cy=\"842.248\" r=\"14.4\" fill=\"#009af9\" fill-rule=\"evenodd\" fill-opacity=\"1\" stroke=\"#000000\" stroke-opacity=\"1\" stroke-width=\"3.2\"/>\n",
       "<circle clip-path=\"url(#clip102)\" cx=\"1087.52\" cy=\"837.882\" r=\"14.4\" fill=\"#009af9\" fill-rule=\"evenodd\" fill-opacity=\"1\" stroke=\"#000000\" stroke-opacity=\"1\" stroke-width=\"3.2\"/>\n",
       "<circle clip-path=\"url(#clip102)\" cx=\"1096.58\" cy=\"840.955\" r=\"14.4\" fill=\"#009af9\" fill-rule=\"evenodd\" fill-opacity=\"1\" stroke=\"#000000\" stroke-opacity=\"1\" stroke-width=\"3.2\"/>\n",
       "<circle clip-path=\"url(#clip102)\" cx=\"1105.64\" cy=\"839.602\" r=\"14.4\" fill=\"#009af9\" fill-rule=\"evenodd\" fill-opacity=\"1\" stroke=\"#000000\" stroke-opacity=\"1\" stroke-width=\"3.2\"/>\n",
       "<circle clip-path=\"url(#clip102)\" cx=\"1114.71\" cy=\"841.798\" r=\"14.4\" fill=\"#009af9\" fill-rule=\"evenodd\" fill-opacity=\"1\" stroke=\"#000000\" stroke-opacity=\"1\" stroke-width=\"3.2\"/>\n",
       "<circle clip-path=\"url(#clip102)\" cx=\"1123.77\" cy=\"840.641\" r=\"14.4\" fill=\"#009af9\" fill-rule=\"evenodd\" fill-opacity=\"1\" stroke=\"#000000\" stroke-opacity=\"1\" stroke-width=\"3.2\"/>\n",
       "<circle clip-path=\"url(#clip102)\" cx=\"1132.83\" cy=\"844.872\" r=\"14.4\" fill=\"#009af9\" fill-rule=\"evenodd\" fill-opacity=\"1\" stroke=\"#000000\" stroke-opacity=\"1\" stroke-width=\"3.2\"/>\n",
       "<circle clip-path=\"url(#clip102)\" cx=\"1141.9\" cy=\"847.441\" r=\"14.4\" fill=\"#009af9\" fill-rule=\"evenodd\" fill-opacity=\"1\" stroke=\"#000000\" stroke-opacity=\"1\" stroke-width=\"3.2\"/>\n",
       "<circle clip-path=\"url(#clip102)\" cx=\"1150.96\" cy=\"842.845\" r=\"14.4\" fill=\"#009af9\" fill-rule=\"evenodd\" fill-opacity=\"1\" stroke=\"#000000\" stroke-opacity=\"1\" stroke-width=\"3.2\"/>\n",
       "<circle clip-path=\"url(#clip102)\" cx=\"1160.02\" cy=\"837.429\" r=\"14.4\" fill=\"#009af9\" fill-rule=\"evenodd\" fill-opacity=\"1\" stroke=\"#000000\" stroke-opacity=\"1\" stroke-width=\"3.2\"/>\n",
       "<circle clip-path=\"url(#clip102)\" cx=\"1169.09\" cy=\"838.465\" r=\"14.4\" fill=\"#009af9\" fill-rule=\"evenodd\" fill-opacity=\"1\" stroke=\"#000000\" stroke-opacity=\"1\" stroke-width=\"3.2\"/>\n",
       "<circle clip-path=\"url(#clip102)\" cx=\"1178.15\" cy=\"833.376\" r=\"14.4\" fill=\"#009af9\" fill-rule=\"evenodd\" fill-opacity=\"1\" stroke=\"#000000\" stroke-opacity=\"1\" stroke-width=\"3.2\"/>\n",
       "<circle clip-path=\"url(#clip102)\" cx=\"1187.21\" cy=\"846.572\" r=\"14.4\" fill=\"#009af9\" fill-rule=\"evenodd\" fill-opacity=\"1\" stroke=\"#000000\" stroke-opacity=\"1\" stroke-width=\"3.2\"/>\n",
       "<circle clip-path=\"url(#clip102)\" cx=\"1196.28\" cy=\"840.707\" r=\"14.4\" fill=\"#009af9\" fill-rule=\"evenodd\" fill-opacity=\"1\" stroke=\"#000000\" stroke-opacity=\"1\" stroke-width=\"3.2\"/>\n",
       "<circle clip-path=\"url(#clip102)\" cx=\"1205.34\" cy=\"842.215\" r=\"14.4\" fill=\"#009af9\" fill-rule=\"evenodd\" fill-opacity=\"1\" stroke=\"#000000\" stroke-opacity=\"1\" stroke-width=\"3.2\"/>\n",
       "<circle clip-path=\"url(#clip102)\" cx=\"1214.4\" cy=\"829.55\" r=\"14.4\" fill=\"#009af9\" fill-rule=\"evenodd\" fill-opacity=\"1\" stroke=\"#000000\" stroke-opacity=\"1\" stroke-width=\"3.2\"/>\n",
       "<circle clip-path=\"url(#clip102)\" cx=\"1223.47\" cy=\"842.79\" r=\"14.4\" fill=\"#009af9\" fill-rule=\"evenodd\" fill-opacity=\"1\" stroke=\"#000000\" stroke-opacity=\"1\" stroke-width=\"3.2\"/>\n",
       "<circle clip-path=\"url(#clip102)\" cx=\"1232.53\" cy=\"839.656\" r=\"14.4\" fill=\"#009af9\" fill-rule=\"evenodd\" fill-opacity=\"1\" stroke=\"#000000\" stroke-opacity=\"1\" stroke-width=\"3.2\"/>\n",
       "<circle clip-path=\"url(#clip102)\" cx=\"1241.59\" cy=\"832.328\" r=\"14.4\" fill=\"#009af9\" fill-rule=\"evenodd\" fill-opacity=\"1\" stroke=\"#000000\" stroke-opacity=\"1\" stroke-width=\"3.2\"/>\n",
       "<circle clip-path=\"url(#clip102)\" cx=\"1250.66\" cy=\"840.314\" r=\"14.4\" fill=\"#009af9\" fill-rule=\"evenodd\" fill-opacity=\"1\" stroke=\"#000000\" stroke-opacity=\"1\" stroke-width=\"3.2\"/>\n",
       "<circle clip-path=\"url(#clip102)\" cx=\"1259.72\" cy=\"836.446\" r=\"14.4\" fill=\"#009af9\" fill-rule=\"evenodd\" fill-opacity=\"1\" stroke=\"#000000\" stroke-opacity=\"1\" stroke-width=\"3.2\"/>\n",
       "<circle clip-path=\"url(#clip102)\" cx=\"1268.78\" cy=\"842.138\" r=\"14.4\" fill=\"#009af9\" fill-rule=\"evenodd\" fill-opacity=\"1\" stroke=\"#000000\" stroke-opacity=\"1\" stroke-width=\"3.2\"/>\n",
       "<circle clip-path=\"url(#clip102)\" cx=\"1277.85\" cy=\"839.584\" r=\"14.4\" fill=\"#009af9\" fill-rule=\"evenodd\" fill-opacity=\"1\" stroke=\"#000000\" stroke-opacity=\"1\" stroke-width=\"3.2\"/>\n",
       "<circle clip-path=\"url(#clip102)\" cx=\"1286.91\" cy=\"845.519\" r=\"14.4\" fill=\"#009af9\" fill-rule=\"evenodd\" fill-opacity=\"1\" stroke=\"#000000\" stroke-opacity=\"1\" stroke-width=\"3.2\"/>\n",
       "<circle clip-path=\"url(#clip102)\" cx=\"1295.97\" cy=\"837.866\" r=\"14.4\" fill=\"#009af9\" fill-rule=\"evenodd\" fill-opacity=\"1\" stroke=\"#000000\" stroke-opacity=\"1\" stroke-width=\"3.2\"/>\n",
       "<circle clip-path=\"url(#clip102)\" cx=\"1305.04\" cy=\"842.432\" r=\"14.4\" fill=\"#009af9\" fill-rule=\"evenodd\" fill-opacity=\"1\" stroke=\"#000000\" stroke-opacity=\"1\" stroke-width=\"3.2\"/>\n",
       "<circle clip-path=\"url(#clip102)\" cx=\"1314.1\" cy=\"830.06\" r=\"14.4\" fill=\"#009af9\" fill-rule=\"evenodd\" fill-opacity=\"1\" stroke=\"#000000\" stroke-opacity=\"1\" stroke-width=\"3.2\"/>\n",
       "<circle clip-path=\"url(#clip102)\" cx=\"1323.16\" cy=\"832.046\" r=\"14.4\" fill=\"#009af9\" fill-rule=\"evenodd\" fill-opacity=\"1\" stroke=\"#000000\" stroke-opacity=\"1\" stroke-width=\"3.2\"/>\n",
       "<circle clip-path=\"url(#clip102)\" cx=\"1332.23\" cy=\"847.348\" r=\"14.4\" fill=\"#009af9\" fill-rule=\"evenodd\" fill-opacity=\"1\" stroke=\"#000000\" stroke-opacity=\"1\" stroke-width=\"3.2\"/>\n",
       "<circle clip-path=\"url(#clip102)\" cx=\"1341.29\" cy=\"836.082\" r=\"14.4\" fill=\"#009af9\" fill-rule=\"evenodd\" fill-opacity=\"1\" stroke=\"#000000\" stroke-opacity=\"1\" stroke-width=\"3.2\"/>\n",
       "<circle clip-path=\"url(#clip102)\" cx=\"1350.35\" cy=\"843.141\" r=\"14.4\" fill=\"#009af9\" fill-rule=\"evenodd\" fill-opacity=\"1\" stroke=\"#000000\" stroke-opacity=\"1\" stroke-width=\"3.2\"/>\n",
       "<circle clip-path=\"url(#clip102)\" cx=\"1359.42\" cy=\"829.343\" r=\"14.4\" fill=\"#009af9\" fill-rule=\"evenodd\" fill-opacity=\"1\" stroke=\"#000000\" stroke-opacity=\"1\" stroke-width=\"3.2\"/>\n",
       "<circle clip-path=\"url(#clip102)\" cx=\"1368.48\" cy=\"827.923\" r=\"14.4\" fill=\"#009af9\" fill-rule=\"evenodd\" fill-opacity=\"1\" stroke=\"#000000\" stroke-opacity=\"1\" stroke-width=\"3.2\"/>\n",
       "<circle clip-path=\"url(#clip102)\" cx=\"1377.54\" cy=\"830.77\" r=\"14.4\" fill=\"#009af9\" fill-rule=\"evenodd\" fill-opacity=\"1\" stroke=\"#000000\" stroke-opacity=\"1\" stroke-width=\"3.2\"/>\n",
       "<circle clip-path=\"url(#clip102)\" cx=\"1386.61\" cy=\"831.23\" r=\"14.4\" fill=\"#009af9\" fill-rule=\"evenodd\" fill-opacity=\"1\" stroke=\"#000000\" stroke-opacity=\"1\" stroke-width=\"3.2\"/>\n",
       "<circle clip-path=\"url(#clip102)\" cx=\"1395.67\" cy=\"833.641\" r=\"14.4\" fill=\"#009af9\" fill-rule=\"evenodd\" fill-opacity=\"1\" stroke=\"#000000\" stroke-opacity=\"1\" stroke-width=\"3.2\"/>\n",
       "<circle clip-path=\"url(#clip102)\" cx=\"1404.73\" cy=\"835.084\" r=\"14.4\" fill=\"#009af9\" fill-rule=\"evenodd\" fill-opacity=\"1\" stroke=\"#000000\" stroke-opacity=\"1\" stroke-width=\"3.2\"/>\n",
       "<circle clip-path=\"url(#clip102)\" cx=\"1413.8\" cy=\"836.437\" r=\"14.4\" fill=\"#009af9\" fill-rule=\"evenodd\" fill-opacity=\"1\" stroke=\"#000000\" stroke-opacity=\"1\" stroke-width=\"3.2\"/>\n",
       "<circle clip-path=\"url(#clip102)\" cx=\"1422.86\" cy=\"832.694\" r=\"14.4\" fill=\"#009af9\" fill-rule=\"evenodd\" fill-opacity=\"1\" stroke=\"#000000\" stroke-opacity=\"1\" stroke-width=\"3.2\"/>\n",
       "<circle clip-path=\"url(#clip102)\" cx=\"1431.92\" cy=\"833.022\" r=\"14.4\" fill=\"#009af9\" fill-rule=\"evenodd\" fill-opacity=\"1\" stroke=\"#000000\" stroke-opacity=\"1\" stroke-width=\"3.2\"/>\n",
       "<circle clip-path=\"url(#clip102)\" cx=\"1440.99\" cy=\"846.426\" r=\"14.4\" fill=\"#009af9\" fill-rule=\"evenodd\" fill-opacity=\"1\" stroke=\"#000000\" stroke-opacity=\"1\" stroke-width=\"3.2\"/>\n",
       "<circle clip-path=\"url(#clip102)\" cx=\"1450.05\" cy=\"822.479\" r=\"14.4\" fill=\"#009af9\" fill-rule=\"evenodd\" fill-opacity=\"1\" stroke=\"#000000\" stroke-opacity=\"1\" stroke-width=\"3.2\"/>\n",
       "<circle clip-path=\"url(#clip102)\" cx=\"1459.11\" cy=\"826.597\" r=\"14.4\" fill=\"#009af9\" fill-rule=\"evenodd\" fill-opacity=\"1\" stroke=\"#000000\" stroke-opacity=\"1\" stroke-width=\"3.2\"/>\n",
       "<circle clip-path=\"url(#clip102)\" cx=\"1468.18\" cy=\"838.202\" r=\"14.4\" fill=\"#009af9\" fill-rule=\"evenodd\" fill-opacity=\"1\" stroke=\"#000000\" stroke-opacity=\"1\" stroke-width=\"3.2\"/>\n",
       "<circle clip-path=\"url(#clip102)\" cx=\"1477.24\" cy=\"834.585\" r=\"14.4\" fill=\"#009af9\" fill-rule=\"evenodd\" fill-opacity=\"1\" stroke=\"#000000\" stroke-opacity=\"1\" stroke-width=\"3.2\"/>\n",
       "<circle clip-path=\"url(#clip102)\" cx=\"1486.3\" cy=\"828.17\" r=\"14.4\" fill=\"#009af9\" fill-rule=\"evenodd\" fill-opacity=\"1\" stroke=\"#000000\" stroke-opacity=\"1\" stroke-width=\"3.2\"/>\n",
       "<circle clip-path=\"url(#clip102)\" cx=\"1495.37\" cy=\"833.301\" r=\"14.4\" fill=\"#009af9\" fill-rule=\"evenodd\" fill-opacity=\"1\" stroke=\"#000000\" stroke-opacity=\"1\" stroke-width=\"3.2\"/>\n",
       "<circle clip-path=\"url(#clip102)\" cx=\"1504.43\" cy=\"824.288\" r=\"14.4\" fill=\"#009af9\" fill-rule=\"evenodd\" fill-opacity=\"1\" stroke=\"#000000\" stroke-opacity=\"1\" stroke-width=\"3.2\"/>\n",
       "<circle clip-path=\"url(#clip102)\" cx=\"1513.49\" cy=\"825.303\" r=\"14.4\" fill=\"#009af9\" fill-rule=\"evenodd\" fill-opacity=\"1\" stroke=\"#000000\" stroke-opacity=\"1\" stroke-width=\"3.2\"/>\n",
       "<circle clip-path=\"url(#clip102)\" cx=\"1522.56\" cy=\"826.364\" r=\"14.4\" fill=\"#009af9\" fill-rule=\"evenodd\" fill-opacity=\"1\" stroke=\"#000000\" stroke-opacity=\"1\" stroke-width=\"3.2\"/>\n",
       "<circle clip-path=\"url(#clip102)\" cx=\"1531.62\" cy=\"824.112\" r=\"14.4\" fill=\"#009af9\" fill-rule=\"evenodd\" fill-opacity=\"1\" stroke=\"#000000\" stroke-opacity=\"1\" stroke-width=\"3.2\"/>\n",
       "<circle clip-path=\"url(#clip102)\" cx=\"1540.68\" cy=\"823.717\" r=\"14.4\" fill=\"#009af9\" fill-rule=\"evenodd\" fill-opacity=\"1\" stroke=\"#000000\" stroke-opacity=\"1\" stroke-width=\"3.2\"/>\n",
       "<circle clip-path=\"url(#clip102)\" cx=\"1549.75\" cy=\"835.215\" r=\"14.4\" fill=\"#009af9\" fill-rule=\"evenodd\" fill-opacity=\"1\" stroke=\"#000000\" stroke-opacity=\"1\" stroke-width=\"3.2\"/>\n",
       "<circle clip-path=\"url(#clip102)\" cx=\"1558.81\" cy=\"826.826\" r=\"14.4\" fill=\"#009af9\" fill-rule=\"evenodd\" fill-opacity=\"1\" stroke=\"#000000\" stroke-opacity=\"1\" stroke-width=\"3.2\"/>\n",
       "<circle clip-path=\"url(#clip102)\" cx=\"1567.87\" cy=\"830.523\" r=\"14.4\" fill=\"#009af9\" fill-rule=\"evenodd\" fill-opacity=\"1\" stroke=\"#000000\" stroke-opacity=\"1\" stroke-width=\"3.2\"/>\n",
       "<circle clip-path=\"url(#clip102)\" cx=\"1576.94\" cy=\"833.332\" r=\"14.4\" fill=\"#009af9\" fill-rule=\"evenodd\" fill-opacity=\"1\" stroke=\"#000000\" stroke-opacity=\"1\" stroke-width=\"3.2\"/>\n",
       "<circle clip-path=\"url(#clip102)\" cx=\"1586\" cy=\"837.185\" r=\"14.4\" fill=\"#009af9\" fill-rule=\"evenodd\" fill-opacity=\"1\" stroke=\"#000000\" stroke-opacity=\"1\" stroke-width=\"3.2\"/>\n",
       "<circle clip-path=\"url(#clip102)\" cx=\"1595.06\" cy=\"825.331\" r=\"14.4\" fill=\"#009af9\" fill-rule=\"evenodd\" fill-opacity=\"1\" stroke=\"#000000\" stroke-opacity=\"1\" stroke-width=\"3.2\"/>\n",
       "<circle clip-path=\"url(#clip102)\" cx=\"1604.13\" cy=\"819.79\" r=\"14.4\" fill=\"#009af9\" fill-rule=\"evenodd\" fill-opacity=\"1\" stroke=\"#000000\" stroke-opacity=\"1\" stroke-width=\"3.2\"/>\n",
       "<circle clip-path=\"url(#clip102)\" cx=\"1613.19\" cy=\"832.4\" r=\"14.4\" fill=\"#009af9\" fill-rule=\"evenodd\" fill-opacity=\"1\" stroke=\"#000000\" stroke-opacity=\"1\" stroke-width=\"3.2\"/>\n",
       "<circle clip-path=\"url(#clip102)\" cx=\"1622.25\" cy=\"826.669\" r=\"14.4\" fill=\"#009af9\" fill-rule=\"evenodd\" fill-opacity=\"1\" stroke=\"#000000\" stroke-opacity=\"1\" stroke-width=\"3.2\"/>\n",
       "<circle clip-path=\"url(#clip102)\" cx=\"1631.32\" cy=\"830.838\" r=\"14.4\" fill=\"#009af9\" fill-rule=\"evenodd\" fill-opacity=\"1\" stroke=\"#000000\" stroke-opacity=\"1\" stroke-width=\"3.2\"/>\n",
       "<circle clip-path=\"url(#clip102)\" cx=\"1640.38\" cy=\"821.556\" r=\"14.4\" fill=\"#009af9\" fill-rule=\"evenodd\" fill-opacity=\"1\" stroke=\"#000000\" stroke-opacity=\"1\" stroke-width=\"3.2\"/>\n",
       "<circle clip-path=\"url(#clip102)\" cx=\"1649.44\" cy=\"826.179\" r=\"14.4\" fill=\"#009af9\" fill-rule=\"evenodd\" fill-opacity=\"1\" stroke=\"#000000\" stroke-opacity=\"1\" stroke-width=\"3.2\"/>\n",
       "<circle clip-path=\"url(#clip102)\" cx=\"1658.51\" cy=\"825.6\" r=\"14.4\" fill=\"#009af9\" fill-rule=\"evenodd\" fill-opacity=\"1\" stroke=\"#000000\" stroke-opacity=\"1\" stroke-width=\"3.2\"/>\n",
       "<circle clip-path=\"url(#clip102)\" cx=\"1667.57\" cy=\"830.217\" r=\"14.4\" fill=\"#009af9\" fill-rule=\"evenodd\" fill-opacity=\"1\" stroke=\"#000000\" stroke-opacity=\"1\" stroke-width=\"3.2\"/>\n",
       "<circle clip-path=\"url(#clip102)\" cx=\"1676.63\" cy=\"807.569\" r=\"14.4\" fill=\"#009af9\" fill-rule=\"evenodd\" fill-opacity=\"1\" stroke=\"#000000\" stroke-opacity=\"1\" stroke-width=\"3.2\"/>\n",
       "<circle clip-path=\"url(#clip102)\" cx=\"1685.7\" cy=\"811.728\" r=\"14.4\" fill=\"#009af9\" fill-rule=\"evenodd\" fill-opacity=\"1\" stroke=\"#000000\" stroke-opacity=\"1\" stroke-width=\"3.2\"/>\n",
       "<circle clip-path=\"url(#clip102)\" cx=\"1694.76\" cy=\"816.68\" r=\"14.4\" fill=\"#009af9\" fill-rule=\"evenodd\" fill-opacity=\"1\" stroke=\"#000000\" stroke-opacity=\"1\" stroke-width=\"3.2\"/>\n",
       "<circle clip-path=\"url(#clip102)\" cx=\"1703.82\" cy=\"811.809\" r=\"14.4\" fill=\"#009af9\" fill-rule=\"evenodd\" fill-opacity=\"1\" stroke=\"#000000\" stroke-opacity=\"1\" stroke-width=\"3.2\"/>\n",
       "<circle clip-path=\"url(#clip102)\" cx=\"1712.89\" cy=\"813.395\" r=\"14.4\" fill=\"#009af9\" fill-rule=\"evenodd\" fill-opacity=\"1\" stroke=\"#000000\" stroke-opacity=\"1\" stroke-width=\"3.2\"/>\n",
       "<circle clip-path=\"url(#clip102)\" cx=\"1721.95\" cy=\"825.8\" r=\"14.4\" fill=\"#009af9\" fill-rule=\"evenodd\" fill-opacity=\"1\" stroke=\"#000000\" stroke-opacity=\"1\" stroke-width=\"3.2\"/>\n",
       "<circle clip-path=\"url(#clip102)\" cx=\"1731.01\" cy=\"820.732\" r=\"14.4\" fill=\"#009af9\" fill-rule=\"evenodd\" fill-opacity=\"1\" stroke=\"#000000\" stroke-opacity=\"1\" stroke-width=\"3.2\"/>\n",
       "<circle clip-path=\"url(#clip102)\" cx=\"1740.08\" cy=\"809.602\" r=\"14.4\" fill=\"#009af9\" fill-rule=\"evenodd\" fill-opacity=\"1\" stroke=\"#000000\" stroke-opacity=\"1\" stroke-width=\"3.2\"/>\n",
       "<circle clip-path=\"url(#clip102)\" cx=\"1749.14\" cy=\"807.469\" r=\"14.4\" fill=\"#009af9\" fill-rule=\"evenodd\" fill-opacity=\"1\" stroke=\"#000000\" stroke-opacity=\"1\" stroke-width=\"3.2\"/>\n",
       "<circle clip-path=\"url(#clip102)\" cx=\"1758.2\" cy=\"812.795\" r=\"14.4\" fill=\"#009af9\" fill-rule=\"evenodd\" fill-opacity=\"1\" stroke=\"#000000\" stroke-opacity=\"1\" stroke-width=\"3.2\"/>\n",
       "<circle clip-path=\"url(#clip102)\" cx=\"1767.27\" cy=\"816.251\" r=\"14.4\" fill=\"#009af9\" fill-rule=\"evenodd\" fill-opacity=\"1\" stroke=\"#000000\" stroke-opacity=\"1\" stroke-width=\"3.2\"/>\n",
       "<circle clip-path=\"url(#clip102)\" cx=\"1776.33\" cy=\"803.794\" r=\"14.4\" fill=\"#009af9\" fill-rule=\"evenodd\" fill-opacity=\"1\" stroke=\"#000000\" stroke-opacity=\"1\" stroke-width=\"3.2\"/>\n",
       "<circle clip-path=\"url(#clip102)\" cx=\"1785.39\" cy=\"814.659\" r=\"14.4\" fill=\"#009af9\" fill-rule=\"evenodd\" fill-opacity=\"1\" stroke=\"#000000\" stroke-opacity=\"1\" stroke-width=\"3.2\"/>\n",
       "<circle clip-path=\"url(#clip102)\" cx=\"1794.46\" cy=\"808.88\" r=\"14.4\" fill=\"#009af9\" fill-rule=\"evenodd\" fill-opacity=\"1\" stroke=\"#000000\" stroke-opacity=\"1\" stroke-width=\"3.2\"/>\n",
       "<circle clip-path=\"url(#clip102)\" cx=\"1803.52\" cy=\"797.516\" r=\"14.4\" fill=\"#009af9\" fill-rule=\"evenodd\" fill-opacity=\"1\" stroke=\"#000000\" stroke-opacity=\"1\" stroke-width=\"3.2\"/>\n",
       "<circle clip-path=\"url(#clip102)\" cx=\"1812.58\" cy=\"802.066\" r=\"14.4\" fill=\"#009af9\" fill-rule=\"evenodd\" fill-opacity=\"1\" stroke=\"#000000\" stroke-opacity=\"1\" stroke-width=\"3.2\"/>\n",
       "<circle clip-path=\"url(#clip102)\" cx=\"1821.65\" cy=\"787.828\" r=\"14.4\" fill=\"#009af9\" fill-rule=\"evenodd\" fill-opacity=\"1\" stroke=\"#000000\" stroke-opacity=\"1\" stroke-width=\"3.2\"/>\n",
       "<circle clip-path=\"url(#clip102)\" cx=\"1830.71\" cy=\"806.216\" r=\"14.4\" fill=\"#009af9\" fill-rule=\"evenodd\" fill-opacity=\"1\" stroke=\"#000000\" stroke-opacity=\"1\" stroke-width=\"3.2\"/>\n",
       "<circle clip-path=\"url(#clip102)\" cx=\"1839.77\" cy=\"823.163\" r=\"14.4\" fill=\"#009af9\" fill-rule=\"evenodd\" fill-opacity=\"1\" stroke=\"#000000\" stroke-opacity=\"1\" stroke-width=\"3.2\"/>\n",
       "<circle clip-path=\"url(#clip102)\" cx=\"1848.84\" cy=\"801.685\" r=\"14.4\" fill=\"#009af9\" fill-rule=\"evenodd\" fill-opacity=\"1\" stroke=\"#000000\" stroke-opacity=\"1\" stroke-width=\"3.2\"/>\n",
       "<circle clip-path=\"url(#clip102)\" cx=\"1857.9\" cy=\"800.667\" r=\"14.4\" fill=\"#009af9\" fill-rule=\"evenodd\" fill-opacity=\"1\" stroke=\"#000000\" stroke-opacity=\"1\" stroke-width=\"3.2\"/>\n",
       "<circle clip-path=\"url(#clip102)\" cx=\"1866.96\" cy=\"806.818\" r=\"14.4\" fill=\"#009af9\" fill-rule=\"evenodd\" fill-opacity=\"1\" stroke=\"#000000\" stroke-opacity=\"1\" stroke-width=\"3.2\"/>\n",
       "<circle clip-path=\"url(#clip102)\" cx=\"1876.03\" cy=\"793.341\" r=\"14.4\" fill=\"#009af9\" fill-rule=\"evenodd\" fill-opacity=\"1\" stroke=\"#000000\" stroke-opacity=\"1\" stroke-width=\"3.2\"/>\n",
       "<circle clip-path=\"url(#clip102)\" cx=\"1885.09\" cy=\"798.14\" r=\"14.4\" fill=\"#009af9\" fill-rule=\"evenodd\" fill-opacity=\"1\" stroke=\"#000000\" stroke-opacity=\"1\" stroke-width=\"3.2\"/>\n",
       "<circle clip-path=\"url(#clip102)\" cx=\"1894.15\" cy=\"787.588\" r=\"14.4\" fill=\"#009af9\" fill-rule=\"evenodd\" fill-opacity=\"1\" stroke=\"#000000\" stroke-opacity=\"1\" stroke-width=\"3.2\"/>\n",
       "<circle clip-path=\"url(#clip102)\" cx=\"1903.22\" cy=\"805.008\" r=\"14.4\" fill=\"#009af9\" fill-rule=\"evenodd\" fill-opacity=\"1\" stroke=\"#000000\" stroke-opacity=\"1\" stroke-width=\"3.2\"/>\n",
       "<circle clip-path=\"url(#clip102)\" cx=\"1912.28\" cy=\"794.263\" r=\"14.4\" fill=\"#009af9\" fill-rule=\"evenodd\" fill-opacity=\"1\" stroke=\"#000000\" stroke-opacity=\"1\" stroke-width=\"3.2\"/>\n",
       "<circle clip-path=\"url(#clip102)\" cx=\"1921.34\" cy=\"789.33\" r=\"14.4\" fill=\"#009af9\" fill-rule=\"evenodd\" fill-opacity=\"1\" stroke=\"#000000\" stroke-opacity=\"1\" stroke-width=\"3.2\"/>\n",
       "<circle clip-path=\"url(#clip102)\" cx=\"1930.41\" cy=\"794.459\" r=\"14.4\" fill=\"#009af9\" fill-rule=\"evenodd\" fill-opacity=\"1\" stroke=\"#000000\" stroke-opacity=\"1\" stroke-width=\"3.2\"/>\n",
       "<circle clip-path=\"url(#clip102)\" cx=\"1939.47\" cy=\"802.405\" r=\"14.4\" fill=\"#009af9\" fill-rule=\"evenodd\" fill-opacity=\"1\" stroke=\"#000000\" stroke-opacity=\"1\" stroke-width=\"3.2\"/>\n",
       "<circle clip-path=\"url(#clip102)\" cx=\"1948.53\" cy=\"787.353\" r=\"14.4\" fill=\"#009af9\" fill-rule=\"evenodd\" fill-opacity=\"1\" stroke=\"#000000\" stroke-opacity=\"1\" stroke-width=\"3.2\"/>\n",
       "<circle clip-path=\"url(#clip102)\" cx=\"1957.6\" cy=\"786.508\" r=\"14.4\" fill=\"#009af9\" fill-rule=\"evenodd\" fill-opacity=\"1\" stroke=\"#000000\" stroke-opacity=\"1\" stroke-width=\"3.2\"/>\n",
       "<circle clip-path=\"url(#clip102)\" cx=\"1966.66\" cy=\"792.768\" r=\"14.4\" fill=\"#009af9\" fill-rule=\"evenodd\" fill-opacity=\"1\" stroke=\"#000000\" stroke-opacity=\"1\" stroke-width=\"3.2\"/>\n",
       "<circle clip-path=\"url(#clip102)\" cx=\"1975.72\" cy=\"794.541\" r=\"14.4\" fill=\"#009af9\" fill-rule=\"evenodd\" fill-opacity=\"1\" stroke=\"#000000\" stroke-opacity=\"1\" stroke-width=\"3.2\"/>\n",
       "<circle clip-path=\"url(#clip102)\" cx=\"1984.79\" cy=\"789.315\" r=\"14.4\" fill=\"#009af9\" fill-rule=\"evenodd\" fill-opacity=\"1\" stroke=\"#000000\" stroke-opacity=\"1\" stroke-width=\"3.2\"/>\n",
       "<circle clip-path=\"url(#clip102)\" cx=\"1993.85\" cy=\"799.699\" r=\"14.4\" fill=\"#009af9\" fill-rule=\"evenodd\" fill-opacity=\"1\" stroke=\"#000000\" stroke-opacity=\"1\" stroke-width=\"3.2\"/>\n",
       "<circle clip-path=\"url(#clip102)\" cx=\"2002.91\" cy=\"799.04\" r=\"14.4\" fill=\"#009af9\" fill-rule=\"evenodd\" fill-opacity=\"1\" stroke=\"#000000\" stroke-opacity=\"1\" stroke-width=\"3.2\"/>\n",
       "<circle clip-path=\"url(#clip102)\" cx=\"2011.98\" cy=\"777.104\" r=\"14.4\" fill=\"#009af9\" fill-rule=\"evenodd\" fill-opacity=\"1\" stroke=\"#000000\" stroke-opacity=\"1\" stroke-width=\"3.2\"/>\n",
       "<circle clip-path=\"url(#clip102)\" cx=\"2021.04\" cy=\"788.773\" r=\"14.4\" fill=\"#009af9\" fill-rule=\"evenodd\" fill-opacity=\"1\" stroke=\"#000000\" stroke-opacity=\"1\" stroke-width=\"3.2\"/>\n",
       "<circle clip-path=\"url(#clip102)\" cx=\"2030.1\" cy=\"771.674\" r=\"14.4\" fill=\"#009af9\" fill-rule=\"evenodd\" fill-opacity=\"1\" stroke=\"#000000\" stroke-opacity=\"1\" stroke-width=\"3.2\"/>\n",
       "<circle clip-path=\"url(#clip102)\" cx=\"2039.17\" cy=\"779.371\" r=\"14.4\" fill=\"#009af9\" fill-rule=\"evenodd\" fill-opacity=\"1\" stroke=\"#000000\" stroke-opacity=\"1\" stroke-width=\"3.2\"/>\n",
       "<circle clip-path=\"url(#clip102)\" cx=\"2048.23\" cy=\"788.204\" r=\"14.4\" fill=\"#009af9\" fill-rule=\"evenodd\" fill-opacity=\"1\" stroke=\"#000000\" stroke-opacity=\"1\" stroke-width=\"3.2\"/>\n",
       "<circle clip-path=\"url(#clip102)\" cx=\"2057.29\" cy=\"777.628\" r=\"14.4\" fill=\"#009af9\" fill-rule=\"evenodd\" fill-opacity=\"1\" stroke=\"#000000\" stroke-opacity=\"1\" stroke-width=\"3.2\"/>\n",
       "<circle clip-path=\"url(#clip102)\" cx=\"2066.36\" cy=\"774.667\" r=\"14.4\" fill=\"#009af9\" fill-rule=\"evenodd\" fill-opacity=\"1\" stroke=\"#000000\" stroke-opacity=\"1\" stroke-width=\"3.2\"/>\n",
       "<circle clip-path=\"url(#clip102)\" cx=\"2075.42\" cy=\"781.919\" r=\"14.4\" fill=\"#009af9\" fill-rule=\"evenodd\" fill-opacity=\"1\" stroke=\"#000000\" stroke-opacity=\"1\" stroke-width=\"3.2\"/>\n",
       "<circle clip-path=\"url(#clip102)\" cx=\"2084.48\" cy=\"759.327\" r=\"14.4\" fill=\"#009af9\" fill-rule=\"evenodd\" fill-opacity=\"1\" stroke=\"#000000\" stroke-opacity=\"1\" stroke-width=\"3.2\"/>\n",
       "<circle clip-path=\"url(#clip102)\" cx=\"2093.55\" cy=\"785.935\" r=\"14.4\" fill=\"#009af9\" fill-rule=\"evenodd\" fill-opacity=\"1\" stroke=\"#000000\" stroke-opacity=\"1\" stroke-width=\"3.2\"/>\n",
       "<circle clip-path=\"url(#clip102)\" cx=\"2102.61\" cy=\"777.194\" r=\"14.4\" fill=\"#009af9\" fill-rule=\"evenodd\" fill-opacity=\"1\" stroke=\"#000000\" stroke-opacity=\"1\" stroke-width=\"3.2\"/>\n",
       "<circle clip-path=\"url(#clip102)\" cx=\"2111.67\" cy=\"756.934\" r=\"14.4\" fill=\"#009af9\" fill-rule=\"evenodd\" fill-opacity=\"1\" stroke=\"#000000\" stroke-opacity=\"1\" stroke-width=\"3.2\"/>\n",
       "<circle clip-path=\"url(#clip102)\" cx=\"2120.73\" cy=\"775.208\" r=\"14.4\" fill=\"#009af9\" fill-rule=\"evenodd\" fill-opacity=\"1\" stroke=\"#000000\" stroke-opacity=\"1\" stroke-width=\"3.2\"/>\n",
       "<circle clip-path=\"url(#clip102)\" cx=\"2129.8\" cy=\"771.022\" r=\"14.4\" fill=\"#009af9\" fill-rule=\"evenodd\" fill-opacity=\"1\" stroke=\"#000000\" stroke-opacity=\"1\" stroke-width=\"3.2\"/>\n",
       "<circle clip-path=\"url(#clip102)\" cx=\"2138.86\" cy=\"761.514\" r=\"14.4\" fill=\"#009af9\" fill-rule=\"evenodd\" fill-opacity=\"1\" stroke=\"#000000\" stroke-opacity=\"1\" stroke-width=\"3.2\"/>\n",
       "<circle clip-path=\"url(#clip102)\" cx=\"2147.92\" cy=\"756.243\" r=\"14.4\" fill=\"#009af9\" fill-rule=\"evenodd\" fill-opacity=\"1\" stroke=\"#000000\" stroke-opacity=\"1\" stroke-width=\"3.2\"/>\n",
       "<circle clip-path=\"url(#clip102)\" cx=\"2156.99\" cy=\"763.208\" r=\"14.4\" fill=\"#009af9\" fill-rule=\"evenodd\" fill-opacity=\"1\" stroke=\"#000000\" stroke-opacity=\"1\" stroke-width=\"3.2\"/>\n",
       "<circle clip-path=\"url(#clip102)\" cx=\"2166.05\" cy=\"757.352\" r=\"14.4\" fill=\"#009af9\" fill-rule=\"evenodd\" fill-opacity=\"1\" stroke=\"#000000\" stroke-opacity=\"1\" stroke-width=\"3.2\"/>\n",
       "<circle clip-path=\"url(#clip102)\" cx=\"2175.11\" cy=\"765.895\" r=\"14.4\" fill=\"#009af9\" fill-rule=\"evenodd\" fill-opacity=\"1\" stroke=\"#000000\" stroke-opacity=\"1\" stroke-width=\"3.2\"/>\n",
       "<circle clip-path=\"url(#clip102)\" cx=\"2184.18\" cy=\"753.35\" r=\"14.4\" fill=\"#009af9\" fill-rule=\"evenodd\" fill-opacity=\"1\" stroke=\"#000000\" stroke-opacity=\"1\" stroke-width=\"3.2\"/>\n",
       "<circle clip-path=\"url(#clip102)\" cx=\"2193.24\" cy=\"757.882\" r=\"14.4\" fill=\"#009af9\" fill-rule=\"evenodd\" fill-opacity=\"1\" stroke=\"#000000\" stroke-opacity=\"1\" stroke-width=\"3.2\"/>\n",
       "<circle clip-path=\"url(#clip102)\" cx=\"2202.3\" cy=\"756.045\" r=\"14.4\" fill=\"#009af9\" fill-rule=\"evenodd\" fill-opacity=\"1\" stroke=\"#000000\" stroke-opacity=\"1\" stroke-width=\"3.2\"/>\n",
       "<circle clip-path=\"url(#clip102)\" cx=\"2211.37\" cy=\"755.434\" r=\"14.4\" fill=\"#009af9\" fill-rule=\"evenodd\" fill-opacity=\"1\" stroke=\"#000000\" stroke-opacity=\"1\" stroke-width=\"3.2\"/>\n",
       "<circle clip-path=\"url(#clip102)\" cx=\"2220.43\" cy=\"751.976\" r=\"14.4\" fill=\"#009af9\" fill-rule=\"evenodd\" fill-opacity=\"1\" stroke=\"#000000\" stroke-opacity=\"1\" stroke-width=\"3.2\"/>\n",
       "<circle clip-path=\"url(#clip102)\" cx=\"2229.49\" cy=\"749.96\" r=\"14.4\" fill=\"#009af9\" fill-rule=\"evenodd\" fill-opacity=\"1\" stroke=\"#000000\" stroke-opacity=\"1\" stroke-width=\"3.2\"/>\n",
       "<circle clip-path=\"url(#clip102)\" cx=\"2238.56\" cy=\"754.464\" r=\"14.4\" fill=\"#009af9\" fill-rule=\"evenodd\" fill-opacity=\"1\" stroke=\"#000000\" stroke-opacity=\"1\" stroke-width=\"3.2\"/>\n",
       "<circle clip-path=\"url(#clip102)\" cx=\"2247.62\" cy=\"738.311\" r=\"14.4\" fill=\"#009af9\" fill-rule=\"evenodd\" fill-opacity=\"1\" stroke=\"#000000\" stroke-opacity=\"1\" stroke-width=\"3.2\"/>\n",
       "<circle clip-path=\"url(#clip102)\" cx=\"2256.68\" cy=\"746.875\" r=\"14.4\" fill=\"#009af9\" fill-rule=\"evenodd\" fill-opacity=\"1\" stroke=\"#000000\" stroke-opacity=\"1\" stroke-width=\"3.2\"/>\n",
       "<circle clip-path=\"url(#clip102)\" cx=\"2265.75\" cy=\"742.434\" r=\"14.4\" fill=\"#009af9\" fill-rule=\"evenodd\" fill-opacity=\"1\" stroke=\"#000000\" stroke-opacity=\"1\" stroke-width=\"3.2\"/>\n",
       "<circle clip-path=\"url(#clip102)\" cx=\"2274.81\" cy=\"744.791\" r=\"14.4\" fill=\"#009af9\" fill-rule=\"evenodd\" fill-opacity=\"1\" stroke=\"#000000\" stroke-opacity=\"1\" stroke-width=\"3.2\"/>\n",
       "<circle clip-path=\"url(#clip102)\" cx=\"2283.87\" cy=\"751.323\" r=\"14.4\" fill=\"#009af9\" fill-rule=\"evenodd\" fill-opacity=\"1\" stroke=\"#000000\" stroke-opacity=\"1\" stroke-width=\"3.2\"/>\n",
       "<circle clip-path=\"url(#clip102)\" cx=\"2292.94\" cy=\"745.863\" r=\"14.4\" fill=\"#009af9\" fill-rule=\"evenodd\" fill-opacity=\"1\" stroke=\"#000000\" stroke-opacity=\"1\" stroke-width=\"3.2\"/>\n",
       "<polyline clip-path=\"url(#clip102)\" style=\"stroke:#e26f46; stroke-linecap:round; stroke-linejoin:round; stroke-width:4; stroke-opacity:1; fill:none\" points=\"299.008,781.987 308.072,783.178 317.135,784.357 326.198,785.524 335.262,786.678 344.325,787.819 353.388,788.947 362.451,790.063 371.515,791.167 380.578,792.258 389.641,793.336 398.705,794.401 407.768,795.454 416.831,796.495 425.895,797.522 434.958,798.537 444.021,799.54 453.085,800.53 462.148,801.507 471.211,802.472 480.275,803.424 489.338,804.363 498.401,805.29 507.465,806.204 516.528,807.106 525.591,807.995 534.655,808.871 543.718,809.735 552.781,810.586 561.844,811.425 570.908,812.251 579.971,813.064 589.034,813.865 598.098,814.653 607.161,815.429 616.224,816.192 625.288,816.942 634.351,817.68 643.414,818.405 652.478,819.117 661.541,819.817 670.604,820.504 679.668,821.179 688.731,821.841 697.794,822.49 706.858,823.127 715.921,823.751 724.984,824.363 734.047,824.962 743.111,825.548 752.174,826.122 761.237,826.683 770.301,827.232 779.364,827.768 788.427,828.291 797.491,828.802 806.554,829.3 815.617,829.785 824.681,830.258 833.744,830.718 842.807,831.166 851.871,831.601 860.934,832.024 869.997,832.433 879.061,832.831 888.124,833.215 897.187,833.587 906.251,833.947 915.314,834.293 924.377,834.628 933.44,834.949 942.504,835.258 951.567,835.554 960.63,835.838 969.694,836.109 978.757,836.368 987.82,836.614 996.884,836.847 1005.95,837.068 1015.01,837.276 1024.07,837.471 1033.14,837.654 1042.2,837.824 1051.26,837.982 1060.33,838.127 1069.39,838.259 1078.45,838.379 1087.52,838.486 1096.58,838.581 1105.64,838.663 1114.71,838.732 1123.77,838.789 1132.83,838.833 1141.9,838.865 1150.96,838.884 1160.02,838.89 1169.09,838.884 1178.15,838.865 1187.21,838.833 1196.28,838.789 1205.34,838.732 1214.4,838.663 1223.47,838.581 1232.53,838.486 1241.59,838.379 1250.66,838.259 1259.72,838.127 1268.78,837.982 1277.85,837.824 1286.91,837.654 1295.97,837.471 1305.04,837.276 1314.1,837.068 1323.16,836.847 1332.23,836.614 1341.29,836.368 1350.35,836.109 1359.42,835.838 1368.48,835.554 1377.54,835.258 1386.61,834.949 1395.67,834.628 1404.73,834.293 1413.8,833.947 1422.86,833.587 1431.92,833.215 1440.99,832.831 1450.05,832.433 1459.11,832.024 1468.18,831.601 1477.24,831.166 1486.3,830.718 1495.37,830.258 1504.43,829.785 1513.49,829.3 1522.56,828.802 1531.62,828.291 1540.68,827.768 1549.75,827.232 1558.81,826.683 1567.87,826.122 1576.94,825.548 1586,824.962 1595.06,824.363 1604.13,823.751 1613.19,823.127 1622.25,822.49 1631.32,821.841 1640.38,821.179 1649.44,820.504 1658.51,819.817 1667.57,819.117 1676.63,818.405 1685.7,817.68 1694.76,816.942 1703.82,816.192 1712.89,815.429 1721.95,814.653 1731.01,813.865 1740.08,813.064 1749.14,812.251 1758.2,811.425 1767.27,810.586 1776.33,809.735 1785.39,808.871 1794.46,807.995 1803.52,807.106 1812.58,806.204 1821.65,805.29 1830.71,804.363 1839.77,803.424 1848.84,802.472 1857.9,801.507 1866.96,800.53 1876.03,799.54 1885.09,798.537 1894.15,797.522 1903.22,796.495 1912.28,795.454 1921.34,794.401 1930.41,793.336 1939.47,792.258 1948.53,791.167 1957.6,790.063 1966.66,788.947 1975.72,787.819 1984.79,786.678 1993.85,785.524 2002.91,784.357 2011.98,783.178 2021.04,781.987 2030.1,780.782 2039.17,779.565 2048.23,778.336 2057.29,777.094 2066.36,775.839 2075.42,774.572 2084.48,773.292 2093.55,771.999 2102.61,770.694 2111.67,769.376 2120.73,768.046 2129.8,766.703 2138.86,765.347 2147.92,763.979 2156.99,762.598 2166.05,761.205 2175.11,759.799 2184.18,758.38 2193.24,756.949 2202.3,755.505 2211.37,754.049 2220.43,752.58 2229.49,751.098 2238.56,749.604 2247.62,748.097 2256.68,746.577 2265.75,745.045 2274.81,743.5 2283.87,741.943 2292.94,740.373 \"/>\n",
       "<polyline clip-path=\"url(#clip102)\" style=\"stroke:#3da44d; stroke-linecap:round; stroke-linejoin:round; stroke-width:4; stroke-opacity:1; fill:none\" points=\"299.008,1445.72 308.072,1382.57 317.135,1325.13 326.198,1272.95 335.262,1225.6 344.325,1182.69 353.388,1143.84 362.451,1108.72 371.515,1077.01 380.578,1048.42 389.641,1022.67 398.705,999.521 407.768,978.735 416.831,960.101 425.895,943.421 434.958,928.515 444.021,915.217 453.085,903.375 462.148,892.847 471.211,883.507 480.275,875.237 489.338,867.931 498.401,861.491 507.465,855.829 516.528,850.864 525.591,846.523 534.655,842.739 543.718,839.453 552.781,836.612 561.844,834.165 570.908,832.07 579.971,830.286 589.034,828.779 598.098,827.518 607.161,826.473 616.224,825.62 625.288,824.936 634.351,824.402 643.414,824 652.478,823.714 661.541,823.53 670.604,823.437 679.668,823.424 688.731,823.481 697.794,823.6 706.858,823.773 715.921,823.994 724.984,824.258 734.047,824.559 743.111,824.894 752.174,825.257 761.237,825.646 770.301,826.057 779.364,826.487 788.427,826.934 797.491,827.396 806.554,827.87 815.617,828.353 824.681,828.845 833.744,829.344 842.807,829.846 851.871,830.352 860.934,830.859 869.997,831.365 879.061,831.869 888.124,832.369 897.187,832.865 906.251,833.354 915.314,833.835 924.377,834.307 933.44,834.768 942.504,835.217 951.567,835.653 960.63,836.074 969.694,836.48 978.757,836.87 987.82,837.242 996.884,837.595 1005.95,837.93 1015.01,838.244 1024.07,838.537 1033.14,838.809 1042.2,839.06 1051.26,839.288 1060.33,839.494 1069.39,839.676 1078.45,839.836 1087.52,839.974 1096.58,840.088 1105.64,840.18 1114.71,840.249 1123.77,840.296 1132.83,840.321 1141.9,840.326 1150.96,840.309 1160.02,840.272 1169.09,840.216 1178.15,840.141 1187.21,840.048 1196.28,839.938 1205.34,839.812 1214.4,839.67 1223.47,839.513 1232.53,839.343 1241.59,839.16 1250.66,838.964 1259.72,838.757 1268.78,838.54 1277.85,838.313 1286.91,838.077 1295.97,837.833 1305.04,837.582 1314.1,837.323 1323.16,837.059 1332.23,836.788 1341.29,836.511 1350.35,836.23 1359.42,835.943 1368.48,835.652 1377.54,835.356 1386.61,835.055 1395.67,834.75 1404.73,834.439 1413.8,834.124 1422.86,833.803 1431.92,833.476 1440.99,833.142 1450.05,832.802 1459.11,832.454 1468.18,832.099 1477.24,831.734 1486.3,831.36 1495.37,830.975 1504.43,830.579 1513.49,830.171 1522.56,829.75 1531.62,829.316 1540.68,828.866 1549.75,828.401 1558.81,827.919 1567.87,827.421 1576.94,826.904 1586,826.368 1595.06,825.813 1604.13,825.237 1613.19,824.641 1622.25,824.024 1631.32,823.385 1640.38,822.725 1649.44,822.042 1658.51,821.337 1667.57,820.609 1676.63,819.86 1685.7,819.088 1694.76,818.294 1703.82,817.478 1712.89,816.641 1721.95,815.783 1731.01,814.904 1740.08,814.005 1749.14,813.086 1758.2,812.148 1767.27,811.19 1776.33,810.214 1785.39,809.218 1794.46,808.203 1803.52,807.17 1812.58,806.116 1821.65,805.041 1830.71,803.943 1839.77,802.822 1848.84,801.673 1857.9,800.495 1866.96,799.284 1876.03,798.035 1885.09,796.743 1894.15,795.4 1903.22,794.001 1912.28,792.535 1921.34,790.992 1930.41,789.362 1939.47,787.629 1948.53,785.779 1957.6,783.795 1966.66,781.656 1975.72,779.341 1984.79,776.826 1993.85,774.083 2002.91,771.082 2011.98,767.788 2021.04,764.166 2030.1,760.174 2039.17,755.767 2048.23,750.897 2057.29,745.509 2066.36,739.545 2075.42,732.941 2084.48,725.628 2093.55,717.531 2102.61,708.568 2111.67,698.652 2120.73,687.687 2129.8,675.57 2138.86,662.193 2147.92,647.436 2156.99,631.173 2166.05,613.267 2175.11,593.574 2184.18,571.936 2193.24,548.188 2202.3,522.153 2211.37,493.642 2220.43,462.453 2229.49,428.373 2238.56,391.176 2247.62,350.619 2256.68,306.448 2265.75,258.393 2274.81,206.167 2283.87,149.468 2292.94,87.9763 \"/>\n",
       "<path clip-path=\"url(#clip100)\" d=\"M309.643 302.578 L870.372 302.578 L870.372 95.2176 L309.643 95.2176  Z\" fill=\"#ffffff\" fill-rule=\"evenodd\" fill-opacity=\"1\"/>\n",
       "<polyline clip-path=\"url(#clip100)\" style=\"stroke:#000000; stroke-linecap:round; stroke-linejoin:round; stroke-width:4; stroke-opacity:1; fill:none\" points=\"309.643,302.578 870.372,302.578 870.372,95.2176 309.643,95.2176 309.643,302.578 \"/>\n",
       "<circle clip-path=\"url(#clip100)\" cx=\"403.579\" cy=\"147.058\" r=\"23.04\" fill=\"#009af9\" fill-rule=\"evenodd\" fill-opacity=\"1\" stroke=\"#000000\" stroke-opacity=\"1\" stroke-width=\"5.12\"/>\n",
       "<path clip-path=\"url(#clip100)\" d=\"M513.533 132.949 Q508.441 132.949 505.432 136.745 Q502.446 140.541 502.446 147.092 Q502.446 153.62 505.432 157.416 Q508.441 161.213 513.533 161.213 Q518.626 161.213 521.589 157.416 Q524.575 153.62 524.575 147.092 Q524.575 140.541 521.589 136.745 Q518.626 132.949 513.533 132.949 M513.533 129.153 Q520.802 129.153 525.154 134.037 Q529.506 138.898 529.506 147.092 Q529.506 155.264 525.154 160.148 Q520.802 165.009 513.533 165.009 Q506.242 165.009 501.867 160.148 Q497.515 155.287 497.515 147.092 Q497.515 138.898 501.867 134.037 Q506.242 129.153 513.533 129.153 Z\" fill=\"#000000\" fill-rule=\"evenodd\" fill-opacity=\"1\" /><path clip-path=\"url(#clip100)\" d=\"M555.246 151.398 Q555.246 146.699 553.302 144.037 Q551.381 141.352 548.001 141.352 Q544.621 141.352 542.677 144.037 Q540.756 146.699 540.756 151.398 Q540.756 156.097 542.677 158.782 Q544.621 161.444 548.001 161.444 Q551.381 161.444 553.302 158.782 Q555.246 156.097 555.246 151.398 M540.756 142.347 Q542.098 140.032 544.135 138.921 Q546.195 137.787 549.043 137.787 Q553.765 137.787 556.705 141.537 Q559.668 145.287 559.668 151.398 Q559.668 157.509 556.705 161.259 Q553.765 165.009 549.043 165.009 Q546.195 165.009 544.135 163.898 Q542.098 162.763 540.756 160.449 L540.756 164.338 L536.473 164.338 L536.473 128.319 L540.756 128.319 L540.756 142.347 Z\" fill=\"#000000\" fill-rule=\"evenodd\" fill-opacity=\"1\" /><path clip-path=\"url(#clip100)\" d=\"M583.255 139.176 L583.255 143.203 Q581.45 142.277 579.505 141.815 Q577.561 141.352 575.478 141.352 Q572.306 141.352 570.709 142.324 Q569.135 143.296 569.135 145.24 Q569.135 146.722 570.269 147.578 Q571.404 148.412 574.829 149.176 L576.288 149.5 Q580.825 150.472 582.723 152.254 Q584.644 154.014 584.644 157.185 Q584.644 160.796 581.774 162.902 Q578.927 165.009 573.927 165.009 Q571.843 165.009 569.575 164.592 Q567.33 164.199 564.83 163.388 L564.83 158.99 Q567.191 160.217 569.482 160.842 Q571.774 161.444 574.019 161.444 Q577.029 161.444 578.649 160.426 Q580.269 159.384 580.269 157.509 Q580.269 155.773 579.089 154.847 Q577.931 153.921 573.973 153.064 L572.492 152.717 Q568.533 151.884 566.774 150.171 Q565.015 148.435 565.015 145.426 Q565.015 141.768 567.607 139.778 Q570.2 137.787 574.968 137.787 Q577.329 137.787 579.413 138.134 Q581.496 138.481 583.255 139.176 Z\" fill=\"#000000\" fill-rule=\"evenodd\" fill-opacity=\"1\" /><path clip-path=\"url(#clip100)\" d=\"M613.602 150.31 L613.602 152.393 L594.019 152.393 Q594.297 156.791 596.658 159.106 Q599.042 161.398 603.278 161.398 Q605.732 161.398 608.024 160.796 Q610.339 160.194 612.607 158.99 L612.607 163.018 Q610.315 163.99 607.908 164.5 Q605.501 165.009 603.024 165.009 Q596.82 165.009 593.186 161.398 Q589.575 157.787 589.575 151.629 Q589.575 145.264 593.001 141.537 Q596.45 137.787 602.283 137.787 Q607.514 137.787 610.547 141.166 Q613.602 144.523 613.602 150.31 M609.343 149.06 Q609.297 145.565 607.376 143.481 Q605.477 141.398 602.329 141.398 Q598.765 141.398 596.612 143.412 Q594.482 145.426 594.158 149.083 L609.343 149.06 Z\" fill=\"#000000\" fill-rule=\"evenodd\" fill-opacity=\"1\" /><path clip-path=\"url(#clip100)\" d=\"M635.616 142.393 Q634.899 141.977 634.042 141.791 Q633.209 141.583 632.19 141.583 Q628.579 141.583 626.635 143.944 Q624.713 146.282 624.713 150.68 L624.713 164.338 L620.431 164.338 L620.431 138.412 L624.713 138.412 L624.713 142.44 Q626.056 140.078 628.209 138.944 Q630.362 137.787 633.44 137.787 Q633.88 137.787 634.412 137.856 Q634.945 137.903 635.593 138.018 L635.616 142.393 Z\" fill=\"#000000\" fill-rule=\"evenodd\" fill-opacity=\"1\" /><path clip-path=\"url(#clip100)\" d=\"M637.028 138.412 L641.542 138.412 L649.644 160.171 L657.746 138.412 L662.26 138.412 L652.537 164.338 L646.75 164.338 L637.028 138.412 Z\" fill=\"#000000\" fill-rule=\"evenodd\" fill-opacity=\"1\" /><path clip-path=\"url(#clip100)\" d=\"M690.315 150.31 L690.315 152.393 L670.732 152.393 Q671.01 156.791 673.371 159.106 Q675.755 161.398 679.991 161.398 Q682.445 161.398 684.736 160.796 Q687.051 160.194 689.32 158.99 L689.32 163.018 Q687.028 163.99 684.621 164.5 Q682.213 165.009 679.736 165.009 Q673.533 165.009 669.898 161.398 Q666.287 157.787 666.287 151.629 Q666.287 145.264 669.713 141.537 Q673.162 137.787 678.996 137.787 Q684.227 137.787 687.259 141.166 Q690.315 144.523 690.315 150.31 M686.056 149.06 Q686.009 145.565 684.088 143.481 Q682.19 141.398 679.042 141.398 Q675.477 141.398 673.324 143.412 Q671.195 145.426 670.871 149.083 L686.056 149.06 Z\" fill=\"#000000\" fill-rule=\"evenodd\" fill-opacity=\"1\" /><path clip-path=\"url(#clip100)\" d=\"M714.366 142.347 L714.366 128.319 L718.625 128.319 L718.625 164.338 L714.366 164.338 L714.366 160.449 Q713.023 162.763 710.963 163.898 Q708.926 165.009 706.056 165.009 Q701.357 165.009 698.394 161.259 Q695.454 157.509 695.454 151.398 Q695.454 145.287 698.394 141.537 Q701.357 137.787 706.056 137.787 Q708.926 137.787 710.963 138.921 Q713.023 140.032 714.366 142.347 M699.852 151.398 Q699.852 156.097 701.773 158.782 Q703.718 161.444 707.097 161.444 Q710.477 161.444 712.421 158.782 Q714.366 156.097 714.366 151.398 Q714.366 146.699 712.421 144.037 Q710.477 141.352 707.097 141.352 Q703.718 141.352 701.773 144.037 Q699.852 146.699 699.852 151.398 Z\" fill=\"#000000\" fill-rule=\"evenodd\" fill-opacity=\"1\" /><path clip-path=\"url(#clip100)\" d=\"M747.329 133.62 L747.329 160.495 L752.977 160.495 Q760.129 160.495 763.44 157.254 Q766.773 154.014 766.773 147.023 Q766.773 140.078 763.44 136.861 Q760.129 133.62 752.977 133.62 L747.329 133.62 M742.653 129.778 L752.259 129.778 Q762.305 129.778 767.004 133.967 Q771.703 138.134 771.703 147.023 Q771.703 155.958 766.981 160.148 Q762.259 164.338 752.259 164.338 L742.653 164.338 L742.653 129.778 Z\" fill=\"#000000\" fill-rule=\"evenodd\" fill-opacity=\"1\" /><path clip-path=\"url(#clip100)\" d=\"M790.754 151.305 Q785.592 151.305 783.601 152.486 Q781.611 153.666 781.611 156.514 Q781.611 158.782 783.092 160.125 Q784.597 161.444 787.166 161.444 Q790.708 161.444 792.838 158.944 Q794.99 156.421 794.99 152.254 L794.99 151.305 L790.754 151.305 M799.25 149.546 L799.25 164.338 L794.99 164.338 L794.99 160.402 Q793.532 162.763 791.356 163.898 Q789.18 165.009 786.032 165.009 Q782.051 165.009 779.689 162.787 Q777.352 160.541 777.352 156.791 Q777.352 152.416 780.268 150.194 Q783.208 147.972 789.018 147.972 L794.99 147.972 L794.99 147.555 Q794.99 144.615 793.046 143.018 Q791.125 141.398 787.629 141.398 Q785.407 141.398 783.301 141.93 Q781.194 142.463 779.25 143.527 L779.25 139.592 Q781.588 138.69 783.787 138.25 Q785.986 137.787 788.069 137.787 Q793.694 137.787 796.472 140.703 Q799.25 143.62 799.25 149.546 Z\" fill=\"#000000\" fill-rule=\"evenodd\" fill-opacity=\"1\" /><path clip-path=\"url(#clip100)\" d=\"M812.236 131.051 L812.236 138.412 L821.009 138.412 L821.009 141.722 L812.236 141.722 L812.236 155.796 Q812.236 158.967 813.092 159.87 Q813.972 160.773 816.634 160.773 L821.009 160.773 L821.009 164.338 L816.634 164.338 Q811.703 164.338 809.828 162.509 Q807.953 160.657 807.953 155.796 L807.953 141.722 L804.828 141.722 L804.828 138.412 L807.953 138.412 L807.953 131.051 L812.236 131.051 Z\" fill=\"#000000\" fill-rule=\"evenodd\" fill-opacity=\"1\" /><path clip-path=\"url(#clip100)\" d=\"M838.393 151.305 Q833.231 151.305 831.24 152.486 Q829.249 153.666 829.249 156.514 Q829.249 158.782 830.731 160.125 Q832.235 161.444 834.805 161.444 Q838.347 161.444 840.476 158.944 Q842.629 156.421 842.629 152.254 L842.629 151.305 L838.393 151.305 M846.888 149.546 L846.888 164.338 L842.629 164.338 L842.629 160.402 Q841.171 162.763 838.995 163.898 Q836.819 165.009 833.671 165.009 Q829.689 165.009 827.328 162.787 Q824.99 160.541 824.99 156.791 Q824.99 152.416 827.907 150.194 Q830.847 147.972 836.657 147.972 L842.629 147.972 L842.629 147.555 Q842.629 144.615 840.685 143.018 Q838.763 141.398 835.268 141.398 Q833.046 141.398 830.939 141.93 Q828.833 142.463 826.888 143.527 L826.888 139.592 Q829.226 138.69 831.425 138.25 Q833.624 137.787 835.708 137.787 Q841.333 137.787 844.11 140.703 Q846.888 143.62 846.888 149.546 Z\" fill=\"#000000\" fill-rule=\"evenodd\" fill-opacity=\"1\" /><polyline clip-path=\"url(#clip100)\" style=\"stroke:#e26f46; stroke-linecap:round; stroke-linejoin:round; stroke-width:4; stroke-opacity:1; fill:none\" points=\"333.127,198.898 474.031,198.898 \"/>\n",
       "<path clip-path=\"url(#clip100)\" d=\"M497.515 181.618 L526.751 181.618 L526.751 185.553 L514.483 185.553 L514.483 216.178 L509.784 216.178 L509.784 185.553 L497.515 185.553 L497.515 181.618 Z\" fill=\"#000000\" fill-rule=\"evenodd\" fill-opacity=\"1\" /><path clip-path=\"url(#clip100)\" d=\"M539.135 194.233 Q538.418 193.817 537.561 193.631 Q536.728 193.423 535.709 193.423 Q532.098 193.423 530.154 195.784 Q528.232 198.122 528.232 202.52 L528.232 216.178 L523.95 216.178 L523.95 190.252 L528.232 190.252 L528.232 194.28 Q529.575 191.918 531.728 190.784 Q533.881 189.627 536.959 189.627 Q537.399 189.627 537.932 189.696 Q538.464 189.743 539.112 189.858 L539.135 194.233 Z\" fill=\"#000000\" fill-rule=\"evenodd\" fill-opacity=\"1\" /><path clip-path=\"url(#clip100)\" d=\"M543.163 205.946 L543.163 190.252 L547.422 190.252 L547.422 205.784 Q547.422 209.465 548.857 211.316 Q550.293 213.145 553.163 213.145 Q556.612 213.145 558.603 210.946 Q560.617 208.747 560.617 204.951 L560.617 190.252 L564.876 190.252 L564.876 216.178 L560.617 216.178 L560.617 212.196 Q559.066 214.557 557.005 215.715 Q554.968 216.849 552.26 216.849 Q547.793 216.849 545.478 214.071 Q543.163 211.293 543.163 205.946 M553.88 189.627 L553.88 189.627 Z\" fill=\"#000000\" fill-rule=\"evenodd\" fill-opacity=\"1\" /><path clip-path=\"url(#clip100)\" d=\"M595.825 202.15 L595.825 204.233 L576.241 204.233 Q576.519 208.631 578.88 210.946 Q581.265 213.238 585.501 213.238 Q587.954 213.238 590.246 212.636 Q592.561 212.034 594.829 210.83 L594.829 214.858 Q592.538 215.83 590.13 216.34 Q587.723 216.849 585.246 216.849 Q579.042 216.849 575.408 213.238 Q571.797 209.627 571.797 203.469 Q571.797 197.104 575.223 193.377 Q578.672 189.627 584.505 189.627 Q589.737 189.627 592.769 193.006 Q595.825 196.363 595.825 202.15 M591.565 200.9 Q591.519 197.405 589.598 195.321 Q587.7 193.238 584.552 193.238 Q580.987 193.238 578.834 195.252 Q576.704 197.266 576.38 200.923 L591.565 200.9 Z\" fill=\"#000000\" fill-rule=\"evenodd\" fill-opacity=\"1\" /><path clip-path=\"url(#clip100)\" d=\"M618.07 181.618 L622.746 181.618 L622.746 212.242 L639.574 212.242 L639.574 216.178 L618.07 216.178 L618.07 181.618 Z\" fill=\"#000000\" fill-rule=\"evenodd\" fill-opacity=\"1\" /><path clip-path=\"url(#clip100)\" d=\"M644.297 190.252 L648.556 190.252 L648.556 216.178 L644.297 216.178 L644.297 190.252 M644.297 180.159 L648.556 180.159 L648.556 185.553 L644.297 185.553 L644.297 180.159 Z\" fill=\"#000000\" fill-rule=\"evenodd\" fill-opacity=\"1\" /><path clip-path=\"url(#clip100)\" d=\"M679.019 200.529 L679.019 216.178 L674.759 216.178 L674.759 200.668 Q674.759 196.988 673.324 195.159 Q671.889 193.33 669.019 193.33 Q665.57 193.33 663.579 195.53 Q661.588 197.729 661.588 201.525 L661.588 216.178 L657.306 216.178 L657.306 190.252 L661.588 190.252 L661.588 194.28 Q663.116 191.942 665.176 190.784 Q667.26 189.627 669.968 189.627 Q674.435 189.627 676.727 192.405 Q679.019 195.159 679.019 200.529 Z\" fill=\"#000000\" fill-rule=\"evenodd\" fill-opacity=\"1\" /><path clip-path=\"url(#clip100)\" d=\"M709.69 202.15 L709.69 204.233 L690.107 204.233 Q690.384 208.631 692.745 210.946 Q695.13 213.238 699.366 213.238 Q701.82 213.238 704.111 212.636 Q706.426 212.034 708.694 210.83 L708.694 214.858 Q706.403 215.83 703.995 216.34 Q701.588 216.849 699.111 216.849 Q692.908 216.849 689.273 213.238 Q685.662 209.627 685.662 203.469 Q685.662 197.104 689.088 193.377 Q692.537 189.627 698.37 189.627 Q703.602 189.627 706.634 193.006 Q709.69 196.363 709.69 202.15 M705.431 200.9 Q705.384 197.405 703.463 195.321 Q701.565 193.238 698.417 193.238 Q694.852 193.238 692.699 195.252 Q690.57 197.266 690.246 200.923 L705.431 200.9 Z\" fill=\"#000000\" fill-rule=\"evenodd\" fill-opacity=\"1\" /><polyline clip-path=\"url(#clip100)\" style=\"stroke:#3da44d; stroke-linecap:round; stroke-linejoin:round; stroke-width:4; stroke-opacity:1; fill:none\" points=\"333.127,250.738 474.031,250.738 \"/>\n",
       "<path clip-path=\"url(#clip100)\" d=\"M497.515 233.458 L517.376 233.458 L517.376 237.393 L502.191 237.393 L502.191 247.578 L515.895 247.578 L515.895 251.513 L502.191 251.513 L502.191 268.018 L497.515 268.018 L497.515 233.458 Z\" fill=\"#000000\" fill-rule=\"evenodd\" fill-opacity=\"1\" /><path clip-path=\"url(#clip100)\" d=\"M521.149 242.092 L525.408 242.092 L525.408 268.018 L521.149 268.018 L521.149 242.092 M521.149 231.999 L525.408 231.999 L525.408 237.393 L521.149 237.393 L521.149 231.999 Z\" fill=\"#000000\" fill-rule=\"evenodd\" fill-opacity=\"1\" /><path clip-path=\"url(#clip100)\" d=\"M538.533 234.731 L538.533 242.092 L547.306 242.092 L547.306 245.402 L538.533 245.402 L538.533 259.476 Q538.533 262.647 539.39 263.55 Q540.269 264.453 542.931 264.453 L547.306 264.453 L547.306 268.018 L542.931 268.018 Q538.001 268.018 536.126 266.189 Q534.251 264.337 534.251 259.476 L534.251 245.402 L531.126 245.402 L531.126 242.092 L534.251 242.092 L534.251 234.731 L538.533 234.731 Z\" fill=\"#000000\" fill-rule=\"evenodd\" fill-opacity=\"1\" /><path clip-path=\"url(#clip100)\" d=\"M557.121 234.731 L557.121 242.092 L565.894 242.092 L565.894 245.402 L557.121 245.402 L557.121 259.476 Q557.121 262.647 557.978 263.55 Q558.857 264.453 561.519 264.453 L565.894 264.453 L565.894 268.018 L561.519 268.018 Q556.589 268.018 554.714 266.189 Q552.839 264.337 552.839 259.476 L552.839 245.402 L549.714 245.402 L549.714 242.092 L552.839 242.092 L552.839 234.731 L557.121 234.731 Z\" fill=\"#000000\" fill-rule=\"evenodd\" fill-opacity=\"1\" /><path clip-path=\"url(#clip100)\" d=\"M593.672 253.99 L593.672 256.073 L574.089 256.073 Q574.366 260.471 576.728 262.786 Q579.112 265.078 583.348 265.078 Q585.802 265.078 588.093 264.476 Q590.408 263.874 592.677 262.67 L592.677 266.698 Q590.385 267.67 587.978 268.18 Q585.57 268.689 583.093 268.689 Q576.89 268.689 573.255 265.078 Q569.644 261.467 569.644 255.309 Q569.644 248.944 573.07 245.217 Q576.519 241.467 582.353 241.467 Q587.584 241.467 590.616 244.846 Q593.672 248.203 593.672 253.99 M589.413 252.74 Q589.366 249.245 587.445 247.161 Q585.547 245.078 582.399 245.078 Q578.834 245.078 576.681 247.092 Q574.552 249.106 574.228 252.763 L589.413 252.74 Z\" fill=\"#000000\" fill-rule=\"evenodd\" fill-opacity=\"1\" /><path clip-path=\"url(#clip100)\" d=\"M617.723 246.027 L617.723 231.999 L621.982 231.999 L621.982 268.018 L617.723 268.018 L617.723 264.129 Q616.38 266.443 614.32 267.578 Q612.283 268.689 609.413 268.689 Q604.714 268.689 601.751 264.939 Q598.811 261.189 598.811 255.078 Q598.811 248.967 601.751 245.217 Q604.714 241.467 609.413 241.467 Q612.283 241.467 614.32 242.601 Q616.38 243.712 617.723 246.027 M603.209 255.078 Q603.209 259.777 605.13 262.462 Q607.075 265.124 610.454 265.124 Q613.834 265.124 615.778 262.462 Q617.723 259.777 617.723 255.078 Q617.723 250.379 615.778 247.717 Q613.834 245.032 610.454 245.032 Q607.075 245.032 605.13 247.717 Q603.209 250.379 603.209 255.078 Z\" fill=\"#000000\" fill-rule=\"evenodd\" fill-opacity=\"1\" /><path clip-path=\"url(#clip100)\" d=\"M646.01 233.458 L650.686 233.458 L650.686 264.082 L667.514 264.082 L667.514 268.018 L646.01 268.018 L646.01 233.458 Z\" fill=\"#000000\" fill-rule=\"evenodd\" fill-opacity=\"1\" /><path clip-path=\"url(#clip100)\" d=\"M672.236 242.092 L676.496 242.092 L676.496 268.018 L672.236 268.018 L672.236 242.092 M672.236 231.999 L676.496 231.999 L676.496 237.393 L672.236 237.393 L672.236 231.999 Z\" fill=\"#000000\" fill-rule=\"evenodd\" fill-opacity=\"1\" /><path clip-path=\"url(#clip100)\" d=\"M706.958 252.369 L706.958 268.018 L702.699 268.018 L702.699 252.508 Q702.699 248.828 701.264 246.999 Q699.829 245.17 696.958 245.17 Q693.509 245.17 691.519 247.37 Q689.528 249.569 689.528 253.365 L689.528 268.018 L685.246 268.018 L685.246 242.092 L689.528 242.092 L689.528 246.12 Q691.056 243.782 693.116 242.624 Q695.199 241.467 697.908 241.467 Q702.375 241.467 704.667 244.245 Q706.958 246.999 706.958 252.369 Z\" fill=\"#000000\" fill-rule=\"evenodd\" fill-opacity=\"1\" /><path clip-path=\"url(#clip100)\" d=\"M737.63 253.99 L737.63 256.073 L718.046 256.073 Q718.324 260.471 720.685 262.786 Q723.069 265.078 727.305 265.078 Q729.759 265.078 732.051 264.476 Q734.366 263.874 736.634 262.67 L736.634 266.698 Q734.342 267.67 731.935 268.18 Q729.528 268.689 727.051 268.689 Q720.847 268.689 717.213 265.078 Q713.602 261.467 713.602 255.309 Q713.602 248.944 717.028 245.217 Q720.477 241.467 726.31 241.467 Q731.542 241.467 734.574 244.846 Q737.63 248.203 737.63 253.99 M733.37 252.74 Q733.324 249.245 731.403 247.161 Q729.505 245.078 726.356 245.078 Q722.792 245.078 720.639 247.092 Q718.509 249.106 718.185 252.763 L733.37 252.74 Z\" fill=\"#000000\" fill-rule=\"evenodd\" fill-opacity=\"1\" /></svg>\n"
      ]
     },
     "execution_count": 101,
     "metadata": {},
     "output_type": "execute_result"
    }
   ],
   "source": [
    "x_fit = -11:0.1:11\n",
    "y_true_x_fit = x_fit.^2 + 3 .* x_fit .- 2\n",
    "y_observed_x_fit = y_true_x_fit .+ rand(noise, length(x_fit))\n",
    "scatter(x_fit, y_observed_x_fit, label = \"Observed Data\")\n",
    "plot!(x_fit, y_true_x_fit, label = \"True Line\")\n",
    "line_fit_x_fit = fit(x_fit, y_observed_x_fit, 11)\n",
    "typeof(line_fit_x_fit)\n",
    "fit_coeff_x_fit = coeffs(line_fit_x_fit)\n",
    "y_fitted_x_fit = fit_coeff_x_fit[1] .+ fit_coeff_x_fit[2] .* x_fit .+ fit_coeff_x_fit[3] .* x_fit.^2 .+ fit_coeff_x_fit[4] .* x_fit.^3 .+ fit_coeff_x_fit[5] .* x_fit.^4 .+ fit_coeff_x_fit[6] .* x_fit.^5 .+ fit_coeff_x_fit[7] .* x_fit.^6 .+ fit_coeff_x_fit[8] .* x_fit.^7 .+ fit_coeff_x_fit[9] .* x_fit.^8 .+ fit_coeff_x_fit[10] .* x_fit.^9 .+ fit_coeff_x_fit[11] .* x_fit.^10\n",
    "plot!(x_fit, y_fitted_x_fit, label = \"Fitted Line\")\n"
   ]
  },
  {
   "cell_type": "markdown",
   "id": "bbcb4ef4",
   "metadata": {},
   "source": [
    "3. What do you observe in the plot? What is this phenomenon called?"
   ]
  },
  {
   "cell_type": "markdown",
   "id": "49a085b1",
   "metadata": {},
   "source": [
    "By applying the tenth order polynomial to x_fit, we see a phenomenon known as overfitting. "
   ]
  },
  {
   "cell_type": "code",
   "execution_count": null,
   "id": "3ef60a11",
   "metadata": {},
   "outputs": [],
   "source": []
  }
 ],
 "metadata": {
  "kernelspec": {
   "display_name": "Julia 1.8.5",
   "language": "julia",
   "name": "julia-1.8"
  },
  "language_info": {
   "file_extension": ".jl",
   "mimetype": "application/julia",
   "name": "julia",
   "version": "1.8.5"
  }
 },
 "nbformat": 4,
 "nbformat_minor": 5
}
