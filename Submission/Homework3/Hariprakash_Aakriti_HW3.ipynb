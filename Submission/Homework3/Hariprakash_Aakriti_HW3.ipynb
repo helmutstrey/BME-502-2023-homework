{
 "cells": [
  {
   "cell_type": "markdown",
   "id": "1fbe377b",
   "metadata": {},
   "source": [
    "<h1>HW3</h1>"
   ]
  },
  {
   "cell_type": "markdown",
   "id": "79813e24",
   "metadata": {},
   "source": [
    "# Question 1\n",
    "### (Bayes Theorem) Read the following example and complete the exercises \n",
    "\n",
    "Trolls Under the Bridge\n",
    "1. Trolls(T) are bad\n",
    "2. Gnomes(G) are benign\n",
    "3. Every bridge has 5 creatures under it\n",
    "\n",
    "Below are the probabilities of what creatures live under a bridge:\n",
    "1. TTGGG: 20% (E1)\n",
    "2. TGGGG: 20% (E2)\n",
    "3. GGGGG: 60% (E3)\n",
    "\n",
    "A knight is approaching a bridge and he wants to know his chance of crossing the bridge safely."
   ]
  },
  {
   "cell_type": "markdown",
   "id": "425f8583",
   "metadata": {},
   "source": [
    "### 1.1 \n",
    "\n",
    "#### What is the chance of the knight crossing the bridge safely?\n"
   ]
  },
  {
   "cell_type": "code",
   "execution_count": 1,
   "id": "29bea308",
   "metadata": {},
   "outputs": [
    {
     "name": "stdout",
     "output_type": "stream",
     "text": [
      "The chance of the knight crossing the bridge safely is given by P(E3) = 0.06\n"
     ]
    }
   ],
   "source": [
    "println(\"The chance of the knight crossing the bridge safely is given by P(E3) = 0.06\")"
   ]
  },
  {
   "cell_type": "markdown",
   "id": "61f687e4",
   "metadata": {},
   "source": [
    "### 1.2\n",
    "\n",
    "#### Before crossing a bridge, a knight captures a troll. “I now have an 80% chance of crossing safely,” he reasons, “since only the case 20% had TTGGG (E1) now have TGGG is still a threat.”\n",
    "\n",
    "#### Do you agree with him? Why?"
   ]
  },
  {
   "cell_type": "markdown",
   "id": "09025213",
   "metadata": {},
   "source": [
    "No, the knight is wrong. He believes that by capturing a troll, he has to face outcomes E2 or E3 and chances of E2 or E3 is 80%. However, by capturing one troll, the outcome E3 is actually no longer possible, which means that only outcomes E1 and E2 are possible now and it's actually more dangerous for the knight to cross the bridge now. "
   ]
  },
  {
   "cell_type": "markdown",
   "id": "c1533b67",
   "metadata": {},
   "source": [
    "### 1.3\n",
    "\n",
    "#### Now he wants to use Bayes' theorem to calculate his chance of crossing safely given a troll captured \n",
    "\n",
    "\\begin{equation*}\n",
    "P(A|B) = \\frac{P(B|A)P(A)}{P(B)} \\\\\n",
    "P(A|B): Posteior \\\\\n",
    "P(B|A): Likelihood \\\\\n",
    "P(A): Prior \\\\\n",
    "P(B): Marginal Probability \\\\\n",
    "\\end{equation*}\n",
    "\n",
    "#### Given the three events, E1, E2, and E3, which two of the three events does the knight need to consider after a troll was captured?"
   ]
  },
  {
   "cell_type": "markdown",
   "id": "0adb7f0a",
   "metadata": {},
   "source": [
    "After a troll was captured, the knight can only consider events E1 and E2. "
   ]
  },
  {
   "cell_type": "markdown",
   "id": "e45e8fa6",
   "metadata": {},
   "source": [
    "### 1.4\n",
    "\n",
    "#### Use Bayes' theorem to calculate the probability of the two events in 1.3 (separately) given the troll was captured. "
   ]
  },
  {
   "cell_type": "markdown",
   "id": "5d9c3c0b",
   "metadata": {},
   "source": [
    "Probability of one event given a troll captured: "
   ]
  },
  {
   "cell_type": "code",
   "execution_count": 2,
   "id": "f2f0e7c8",
   "metadata": {},
   "outputs": [
    {
     "name": "stdout",
     "output_type": "stream",
     "text": [
      "Let T be the probability of a particular troll being captured.\n",
      "probability of E1 given T is 0.024\n"
     ]
    }
   ],
   "source": [
    "println(\"Let T be the probability of a particular troll being captured.\")\n",
    "likelihood = 2/5\n",
    "prior = 0.02\n",
    "marginal = 1/3\n",
    "posterior = (likelihood*prior)/marginal\n",
    "println(\"probability of E1 given T is \", posterior)\n"
   ]
  },
  {
   "cell_type": "markdown",
   "id": "37843aee",
   "metadata": {},
   "source": [
    "Probability of the other event given a troll captured: "
   ]
  },
  {
   "cell_type": "code",
   "execution_count": 3,
   "id": "5db10bc7",
   "metadata": {},
   "outputs": [
    {
     "name": "stdout",
     "output_type": "stream",
     "text": [
      "probability of E2 given T is 0.012\n"
     ]
    }
   ],
   "source": [
    "likelihood = 1/5\n",
    "prior = 0.02\n",
    "marginal = 1/3\n",
    "posterior = (likelihood*prior)/marginal\n",
    "println(\"probability of E2 given T is \", posterior)"
   ]
  },
  {
   "cell_type": "markdown",
   "id": "f3b7f049",
   "metadata": {},
   "source": [
    "### 1.5\n",
    "\n",
    "#### What is the chance of the knight crossing safely?"
   ]
  },
  {
   "cell_type": "code",
   "execution_count": 4,
   "id": "0f6fd73b",
   "metadata": {},
   "outputs": [
    {
     "name": "stdout",
     "output_type": "stream",
     "text": [
      "Chance of knight crossing safely = 1 - {(PE1|T) + (P(E2|T)}\n",
      "=0.964\n"
     ]
    }
   ],
   "source": [
    "println(\"Chance of knight crossing safely = 1 - {(PE1|T) + (P(E2|T)}\")\n",
    "chance = 1 - (0.024 + 0.012)\n",
    "println(\"=\", chance)"
   ]
  },
  {
   "cell_type": "markdown",
   "id": "7b815ae0",
   "metadata": {},
   "source": [
    "#### Now looking back to 1.1, the probabilities were changed after assimilating data! "
   ]
  },
  {
   "cell_type": "markdown",
   "id": "f1450094",
   "metadata": {},
   "source": [
    "# Question 2\n",
    "### (Polynomial Fitting) Read the following example and complete the exercises \n",
    "\n",
    "Biological data always comes with errors that influence the intepretation of the data significantly. In this question, we will simulate data and see how noises affect the parameter estimation."
   ]
  },
  {
   "cell_type": "code",
   "execution_count": 5,
   "id": "c20822fa",
   "metadata": {},
   "outputs": [
    {
     "name": "stderr",
     "output_type": "stream",
     "text": [
      "\u001b[32m\u001b[1m    Updating\u001b[22m\u001b[39m registry at `C:\\Users\\Aakriti\\.julia\\registries\\General.toml`\n",
      "\u001b[32m\u001b[1m   Resolving\u001b[22m\u001b[39m package versions...\n",
      "\u001b[32m\u001b[1m  No Changes\u001b[22m\u001b[39m to `C:\\Users\\Aakriti\\.julia\\environments\\v1.8\\Project.toml`\n",
      "\u001b[32m\u001b[1m  No Changes\u001b[22m\u001b[39m to `C:\\Users\\Aakriti\\.julia\\environments\\v1.8\\Manifest.toml`\n"
     ]
    }
   ],
   "source": [
    "import Pkg\n",
    "Pkg.add([\"Distributions\", \"Plots\", \"Polynomials\", \"Random\"])"
   ]
  },
  {
   "cell_type": "code",
   "execution_count": 6,
   "id": "d7d1ca8d",
   "metadata": {},
   "outputs": [],
   "source": [
    "#import Distributions as di\n",
    "#import Plots\n",
    "#import Polynomials\n",
    "#import Random\n",
    "\n",
    "using Plots\n",
    "import Distributions as di\n",
    "using Random\n",
    "using Polynomials: Polynomial, fit, coeffs\n",
    "using Statistics"
   ]
  },
  {
   "cell_type": "markdown",
   "id": "a90dd09d",
   "metadata": {},
   "source": [
    "### 2.1\n",
    "\n",
    "1. Generate the independent variable x ranging from -10 to 10 with an increment of 1\n",
    "2. Generate the dependent variable y_true using the equation y_true = x^2 + 3x - 2\n"
   ]
  },
  {
   "cell_type": "code",
   "execution_count": 7,
   "id": "6b0b33c5",
   "metadata": {},
   "outputs": [
    {
     "data": {
      "text/plain": [
       "21-element Vector{Int64}:\n",
       " -10\n",
       "  -9\n",
       "  -8\n",
       "  -7\n",
       "  -6\n",
       "  -5\n",
       "  -4\n",
       "  -3\n",
       "  -2\n",
       "  -1\n",
       "   0\n",
       "   1\n",
       "   2\n",
       "   3\n",
       "   4\n",
       "   5\n",
       "   6\n",
       "   7\n",
       "   8\n",
       "   9\n",
       "  10"
      ]
     },
     "execution_count": 7,
     "metadata": {},
     "output_type": "execute_result"
    }
   ],
   "source": [
    "x = -10:10\n",
    "collect(x)"
   ]
  },
  {
   "cell_type": "code",
   "execution_count": 8,
   "id": "473a33e1",
   "metadata": {
    "scrolled": true
   },
   "outputs": [
    {
     "data": {
      "text/plain": [
       "21-element Vector{Int64}:\n",
       "  68\n",
       "  52\n",
       "  38\n",
       "  26\n",
       "  16\n",
       "   8\n",
       "   2\n",
       "  -2\n",
       "  -4\n",
       "  -4\n",
       "  -2\n",
       "   2\n",
       "   8\n",
       "  16\n",
       "  26\n",
       "  38\n",
       "  52\n",
       "  68\n",
       "  86\n",
       " 106\n",
       " 128"
      ]
     },
     "execution_count": 8,
     "metadata": {},
     "output_type": "execute_result"
    }
   ],
   "source": [
    "y_true = x .^2 .+3 .*x .-2 "
   ]
  },
  {
   "cell_type": "markdown",
   "id": "74d2a191",
   "metadata": {},
   "source": [
    "### 2.2\n",
    "\n",
    "1. Generate the Guassian noises with zero mean and a standard deviation of 10\n",
    "\n",
    "2. Add the noises to y_true to obtain y_observed\n"
   ]
  },
  {
   "cell_type": "code",
   "execution_count": 9,
   "id": "7936417a",
   "metadata": {},
   "outputs": [
    {
     "data": {
      "text/plain": [
       "Distributions.Normal{Float64}(μ=0.0, σ=10.0)"
      ]
     },
     "execution_count": 9,
     "metadata": {},
     "output_type": "execute_result"
    }
   ],
   "source": [
    "dataerr = 10.0\n",
    "d = di.Normal(0,dataerr)"
   ]
  },
  {
   "cell_type": "code",
   "execution_count": 10,
   "id": "fd3b674c",
   "metadata": {},
   "outputs": [
    {
     "data": {
      "text/plain": [
       "21-element Vector{Float64}:\n",
       "  61.862659217122236\n",
       "  50.98733850072715\n",
       "  43.5218754139062\n",
       "  29.342627183929622\n",
       "  18.42578718214188\n",
       " -12.548261218523521\n",
       "  13.074262564916072\n",
       "   0.33821728812466745\n",
       " -11.61260138579333\n",
       "  -3.7459024001476338\n",
       " -13.571887563996071\n",
       " -22.684005882182763\n",
       "  17.094456149559356\n",
       "  18.97139408917593\n",
       "  41.002247001617654\n",
       "  56.28890458831001\n",
       "  41.5849784743178\n",
       "  85.8307500917741\n",
       "  84.87037181547652\n",
       " 106.67114502715042\n",
       " 126.49264133035325"
      ]
     },
     "execution_count": 10,
     "metadata": {},
     "output_type": "execute_result"
    }
   ],
   "source": [
    "y_observed = y_true + rand(d,length(x))"
   ]
  },
  {
   "cell_type": "markdown",
   "id": "ecf2e554",
   "metadata": {},
   "source": [
    "### 2.3\n",
    "\n",
    "#### Fit the data (x, y_observed) with a second order polynomial. \n",
    "\n",
    "1. Make a scatter plot of y_observed along x\n",
    "2. Plot a line of y_true along x on the scatter plot\n",
    "3. Plot a line of the fitted polynomial along x on the same plot"
   ]
  },
  {
   "cell_type": "code",
   "execution_count": 11,
   "id": "d39a136b",
   "metadata": {},
   "outputs": [
    {
     "data": {
      "image/svg+xml": [
       "<?xml version=\"1.0\" encoding=\"utf-8\"?>\n",
       "<svg xmlns=\"http://www.w3.org/2000/svg\" xmlns:xlink=\"http://www.w3.org/1999/xlink\" width=\"600\" height=\"400\" viewBox=\"0 0 2400 1600\">\n",
       "<defs>\n",
       "  <clipPath id=\"clip250\">\n",
       "    <rect x=\"0\" y=\"0\" width=\"2400\" height=\"1600\"/>\n",
       "  </clipPath>\n",
       "</defs>\n",
       "<path clip-path=\"url(#clip250)\" d=\"M0 1600 L2400 1600 L2400 0 L0 0  Z\" fill=\"#ffffff\" fill-rule=\"evenodd\" fill-opacity=\"1\"/>\n",
       "<defs>\n",
       "  <clipPath id=\"clip251\">\n",
       "    <rect x=\"480\" y=\"0\" width=\"1681\" height=\"1600\"/>\n",
       "  </clipPath>\n",
       "</defs>\n",
       "<path clip-path=\"url(#clip250)\" d=\"M169.121 1486.45 L2352.76 1486.45 L2352.76 47.2441 L169.121 47.2441  Z\" fill=\"#ffffff\" fill-rule=\"evenodd\" fill-opacity=\"1\"/>\n",
       "<defs>\n",
       "  <clipPath id=\"clip252\">\n",
       "    <rect x=\"169\" y=\"47\" width=\"2185\" height=\"1440\"/>\n",
       "  </clipPath>\n",
       "</defs>\n",
       "<polyline clip-path=\"url(#clip252)\" style=\"stroke:#000000; stroke-linecap:round; stroke-linejoin:round; stroke-width:2; stroke-opacity:0.1; fill:none\" points=\"230.922,1486.45 230.922,47.2441 \"/>\n",
       "<polyline clip-path=\"url(#clip252)\" style=\"stroke:#000000; stroke-linecap:round; stroke-linejoin:round; stroke-width:2; stroke-opacity:0.1; fill:none\" points=\"745.93,1486.45 745.93,47.2441 \"/>\n",
       "<polyline clip-path=\"url(#clip252)\" style=\"stroke:#000000; stroke-linecap:round; stroke-linejoin:round; stroke-width:2; stroke-opacity:0.1; fill:none\" points=\"1260.94,1486.45 1260.94,47.2441 \"/>\n",
       "<polyline clip-path=\"url(#clip252)\" style=\"stroke:#000000; stroke-linecap:round; stroke-linejoin:round; stroke-width:2; stroke-opacity:0.1; fill:none\" points=\"1775.95,1486.45 1775.95,47.2441 \"/>\n",
       "<polyline clip-path=\"url(#clip252)\" style=\"stroke:#000000; stroke-linecap:round; stroke-linejoin:round; stroke-width:2; stroke-opacity:0.1; fill:none\" points=\"2290.95,1486.45 2290.95,47.2441 \"/>\n",
       "<polyline clip-path=\"url(#clip250)\" style=\"stroke:#000000; stroke-linecap:round; stroke-linejoin:round; stroke-width:4; stroke-opacity:1; fill:none\" points=\"169.121,1486.45 2352.76,1486.45 \"/>\n",
       "<polyline clip-path=\"url(#clip250)\" style=\"stroke:#000000; stroke-linecap:round; stroke-linejoin:round; stroke-width:4; stroke-opacity:1; fill:none\" points=\"230.922,1486.45 230.922,1467.55 \"/>\n",
       "<polyline clip-path=\"url(#clip250)\" style=\"stroke:#000000; stroke-linecap:round; stroke-linejoin:round; stroke-width:4; stroke-opacity:1; fill:none\" points=\"745.93,1486.45 745.93,1467.55 \"/>\n",
       "<polyline clip-path=\"url(#clip250)\" style=\"stroke:#000000; stroke-linecap:round; stroke-linejoin:round; stroke-width:4; stroke-opacity:1; fill:none\" points=\"1260.94,1486.45 1260.94,1467.55 \"/>\n",
       "<polyline clip-path=\"url(#clip250)\" style=\"stroke:#000000; stroke-linecap:round; stroke-linejoin:round; stroke-width:4; stroke-opacity:1; fill:none\" points=\"1775.95,1486.45 1775.95,1467.55 \"/>\n",
       "<polyline clip-path=\"url(#clip250)\" style=\"stroke:#000000; stroke-linecap:round; stroke-linejoin:round; stroke-width:4; stroke-opacity:1; fill:none\" points=\"2290.95,1486.45 2290.95,1467.55 \"/>\n",
       "<path clip-path=\"url(#clip250)\" d=\"M184.985 1532.02 L214.661 1532.02 L214.661 1535.95 L184.985 1535.95 L184.985 1532.02 Z\" fill=\"#000000\" fill-rule=\"evenodd\" fill-opacity=\"1\" /><path clip-path=\"url(#clip250)\" d=\"M225.564 1544.91 L233.202 1544.91 L233.202 1518.55 L224.892 1520.21 L224.892 1515.95 L233.156 1514.29 L237.832 1514.29 L237.832 1544.91 L245.471 1544.91 L245.471 1548.85 L225.564 1548.85 L225.564 1544.91 Z\" fill=\"#000000\" fill-rule=\"evenodd\" fill-opacity=\"1\" /><path clip-path=\"url(#clip250)\" d=\"M264.915 1517.37 Q261.304 1517.37 259.475 1520.93 Q257.67 1524.47 257.67 1531.6 Q257.67 1538.71 259.475 1542.27 Q261.304 1545.82 264.915 1545.82 Q268.549 1545.82 270.355 1542.27 Q272.184 1538.71 272.184 1531.6 Q272.184 1524.47 270.355 1520.93 Q268.549 1517.37 264.915 1517.37 M264.915 1513.66 Q270.725 1513.66 273.781 1518.27 Q276.86 1522.85 276.86 1531.6 Q276.86 1540.33 273.781 1544.94 Q270.725 1549.52 264.915 1549.52 Q259.105 1549.52 256.026 1544.94 Q252.971 1540.33 252.971 1531.6 Q252.971 1522.85 256.026 1518.27 Q259.105 1513.66 264.915 1513.66 Z\" fill=\"#000000\" fill-rule=\"evenodd\" fill-opacity=\"1\" /><path clip-path=\"url(#clip250)\" d=\"M715.572 1532.02 L745.248 1532.02 L745.248 1535.95 L715.572 1535.95 L715.572 1532.02 Z\" fill=\"#000000\" fill-rule=\"evenodd\" fill-opacity=\"1\" /><path clip-path=\"url(#clip250)\" d=\"M755.386 1514.29 L773.743 1514.29 L773.743 1518.22 L759.669 1518.22 L759.669 1526.7 Q760.687 1526.35 761.706 1526.19 Q762.724 1526 763.743 1526 Q769.53 1526 772.909 1529.17 Q776.289 1532.34 776.289 1537.76 Q776.289 1543.34 772.817 1546.44 Q769.345 1549.52 763.025 1549.52 Q760.849 1549.52 758.581 1549.15 Q756.335 1548.78 753.928 1548.04 L753.928 1543.34 Q756.011 1544.47 758.234 1545.03 Q760.456 1545.58 762.933 1545.58 Q766.937 1545.58 769.275 1543.48 Q771.613 1541.37 771.613 1537.76 Q771.613 1534.15 769.275 1532.04 Q766.937 1529.94 762.933 1529.94 Q761.058 1529.94 759.183 1530.35 Q757.331 1530.77 755.386 1531.65 L755.386 1514.29 Z\" fill=\"#000000\" fill-rule=\"evenodd\" fill-opacity=\"1\" /><path clip-path=\"url(#clip250)\" d=\"M1260.94 1517.37 Q1257.33 1517.37 1255.5 1520.93 Q1253.69 1524.47 1253.69 1531.6 Q1253.69 1538.71 1255.5 1542.27 Q1257.33 1545.82 1260.94 1545.82 Q1264.57 1545.82 1266.38 1542.27 Q1268.21 1538.71 1268.21 1531.6 Q1268.21 1524.47 1266.38 1520.93 Q1264.57 1517.37 1260.94 1517.37 M1260.94 1513.66 Q1266.75 1513.66 1269.8 1518.27 Q1272.88 1522.85 1272.88 1531.6 Q1272.88 1540.33 1269.8 1544.94 Q1266.75 1549.52 1260.94 1549.52 Q1255.13 1549.52 1252.05 1544.94 Q1248.99 1540.33 1248.99 1531.6 Q1248.99 1522.85 1252.05 1518.27 Q1255.13 1513.66 1260.94 1513.66 Z\" fill=\"#000000\" fill-rule=\"evenodd\" fill-opacity=\"1\" /><path clip-path=\"url(#clip250)\" d=\"M1766.22 1514.29 L1784.58 1514.29 L1784.58 1518.22 L1770.51 1518.22 L1770.51 1526.7 Q1771.53 1526.35 1772.54 1526.19 Q1773.56 1526 1774.58 1526 Q1780.37 1526 1783.75 1529.17 Q1787.13 1532.34 1787.13 1537.76 Q1787.13 1543.34 1783.66 1546.44 Q1780.18 1549.52 1773.86 1549.52 Q1771.69 1549.52 1769.42 1549.15 Q1767.17 1548.78 1764.77 1548.04 L1764.77 1543.34 Q1766.85 1544.47 1769.07 1545.03 Q1771.29 1545.58 1773.77 1545.58 Q1777.78 1545.58 1780.11 1543.48 Q1782.45 1541.37 1782.45 1537.76 Q1782.45 1534.15 1780.11 1532.04 Q1777.78 1529.94 1773.77 1529.94 Q1771.9 1529.94 1770.02 1530.35 Q1768.17 1530.77 1766.22 1531.65 L1766.22 1514.29 Z\" fill=\"#000000\" fill-rule=\"evenodd\" fill-opacity=\"1\" /><path clip-path=\"url(#clip250)\" d=\"M2265.64 1544.91 L2273.28 1544.91 L2273.28 1518.55 L2264.97 1520.21 L2264.97 1515.95 L2273.24 1514.29 L2277.91 1514.29 L2277.91 1544.91 L2285.55 1544.91 L2285.55 1548.85 L2265.64 1548.85 L2265.64 1544.91 Z\" fill=\"#000000\" fill-rule=\"evenodd\" fill-opacity=\"1\" /><path clip-path=\"url(#clip250)\" d=\"M2304.99 1517.37 Q2301.38 1517.37 2299.55 1520.93 Q2297.75 1524.47 2297.75 1531.6 Q2297.75 1538.71 2299.55 1542.27 Q2301.38 1545.82 2304.99 1545.82 Q2308.63 1545.82 2310.43 1542.27 Q2312.26 1538.71 2312.26 1531.6 Q2312.26 1524.47 2310.43 1520.93 Q2308.63 1517.37 2304.99 1517.37 M2304.99 1513.66 Q2310.8 1513.66 2313.86 1518.27 Q2316.94 1522.85 2316.94 1531.6 Q2316.94 1540.33 2313.86 1544.94 Q2310.8 1549.52 2304.99 1549.52 Q2299.18 1549.52 2296.11 1544.94 Q2293.05 1540.33 2293.05 1531.6 Q2293.05 1522.85 2296.11 1518.27 Q2299.18 1513.66 2304.99 1513.66 Z\" fill=\"#000000\" fill-rule=\"evenodd\" fill-opacity=\"1\" /><polyline clip-path=\"url(#clip252)\" style=\"stroke:#000000; stroke-linecap:round; stroke-linejoin:round; stroke-width:2; stroke-opacity:0.1; fill:none\" points=\"169.121,1354.9 2352.76,1354.9 \"/>\n",
       "<polyline clip-path=\"url(#clip252)\" style=\"stroke:#000000; stroke-linecap:round; stroke-linejoin:round; stroke-width:2; stroke-opacity:0.1; fill:none\" points=\"169.121,1079.17 2352.76,1079.17 \"/>\n",
       "<polyline clip-path=\"url(#clip252)\" style=\"stroke:#000000; stroke-linecap:round; stroke-linejoin:round; stroke-width:2; stroke-opacity:0.1; fill:none\" points=\"169.121,803.426 2352.76,803.426 \"/>\n",
       "<polyline clip-path=\"url(#clip252)\" style=\"stroke:#000000; stroke-linecap:round; stroke-linejoin:round; stroke-width:2; stroke-opacity:0.1; fill:none\" points=\"169.121,527.687 2352.76,527.687 \"/>\n",
       "<polyline clip-path=\"url(#clip252)\" style=\"stroke:#000000; stroke-linecap:round; stroke-linejoin:round; stroke-width:2; stroke-opacity:0.1; fill:none\" points=\"169.121,251.947 2352.76,251.947 \"/>\n",
       "<polyline clip-path=\"url(#clip250)\" style=\"stroke:#000000; stroke-linecap:round; stroke-linejoin:round; stroke-width:4; stroke-opacity:1; fill:none\" points=\"169.121,1486.45 169.121,47.2441 \"/>\n",
       "<polyline clip-path=\"url(#clip250)\" style=\"stroke:#000000; stroke-linecap:round; stroke-linejoin:round; stroke-width:4; stroke-opacity:1; fill:none\" points=\"169.121,1354.9 188.019,1354.9 \"/>\n",
       "<polyline clip-path=\"url(#clip250)\" style=\"stroke:#000000; stroke-linecap:round; stroke-linejoin:round; stroke-width:4; stroke-opacity:1; fill:none\" points=\"169.121,1079.17 188.019,1079.17 \"/>\n",
       "<polyline clip-path=\"url(#clip250)\" style=\"stroke:#000000; stroke-linecap:round; stroke-linejoin:round; stroke-width:4; stroke-opacity:1; fill:none\" points=\"169.121,803.426 188.019,803.426 \"/>\n",
       "<polyline clip-path=\"url(#clip250)\" style=\"stroke:#000000; stroke-linecap:round; stroke-linejoin:round; stroke-width:4; stroke-opacity:1; fill:none\" points=\"169.121,527.687 188.019,527.687 \"/>\n",
       "<polyline clip-path=\"url(#clip250)\" style=\"stroke:#000000; stroke-linecap:round; stroke-linejoin:round; stroke-width:4; stroke-opacity:1; fill:none\" points=\"169.121,251.947 188.019,251.947 \"/>\n",
       "<path clip-path=\"url(#clip250)\" d=\"M121.177 1340.7 Q117.566 1340.7 115.737 1344.27 Q113.932 1347.81 113.932 1354.94 Q113.932 1362.05 115.737 1365.61 Q117.566 1369.15 121.177 1369.15 Q124.811 1369.15 126.617 1365.61 Q128.445 1362.05 128.445 1354.94 Q128.445 1347.81 126.617 1344.27 Q124.811 1340.7 121.177 1340.7 M121.177 1337 Q126.987 1337 130.043 1341.61 Q133.121 1346.19 133.121 1354.94 Q133.121 1363.67 130.043 1368.27 Q126.987 1372.86 121.177 1372.86 Q115.367 1372.86 112.288 1368.27 Q109.233 1363.67 109.233 1354.94 Q109.233 1346.19 112.288 1341.61 Q115.367 1337 121.177 1337 Z\" fill=\"#000000\" fill-rule=\"evenodd\" fill-opacity=\"1\" /><path clip-path=\"url(#clip250)\" d=\"M95.1817 1077.81 Q98.5382 1078.53 100.413 1080.8 Q102.311 1083.07 102.311 1086.4 Q102.311 1091.52 98.7928 1094.32 Q95.2743 1097.12 88.7928 1097.12 Q86.6169 1097.12 84.3021 1096.68 Q82.0105 1096.26 79.5568 1095.4 L79.5568 1090.89 Q81.5012 1092.02 83.816 1092.6 Q86.1308 1093.18 88.654 1093.18 Q93.0521 1093.18 95.3437 1091.45 Q97.6585 1089.71 97.6585 1086.4 Q97.6585 1083.34 95.5058 1081.63 Q93.3762 1079.89 89.5567 1079.89 L85.529 1079.89 L85.529 1076.05 L89.7419 1076.05 Q93.191 1076.05 95.0197 1074.69 Q96.8484 1073.3 96.8484 1070.7 Q96.8484 1068.04 94.9502 1066.63 Q93.0752 1065.2 89.5567 1065.2 Q87.6354 1065.2 85.4364 1065.61 Q83.2373 1066.03 80.5984 1066.91 L80.5984 1062.74 Q83.2605 1062 85.5753 1061.63 Q87.9132 1061.26 89.9734 1061.26 Q95.2974 1061.26 98.3993 1063.69 Q101.501 1066.1 101.501 1070.22 Q101.501 1073.09 99.8576 1075.08 Q98.2141 1077.05 95.1817 1077.81 Z\" fill=\"#000000\" fill-rule=\"evenodd\" fill-opacity=\"1\" /><path clip-path=\"url(#clip250)\" d=\"M121.177 1064.96 Q117.566 1064.96 115.737 1068.53 Q113.932 1072.07 113.932 1079.2 Q113.932 1086.31 115.737 1089.87 Q117.566 1093.41 121.177 1093.41 Q124.811 1093.41 126.617 1089.87 Q128.445 1086.31 128.445 1079.2 Q128.445 1072.07 126.617 1068.53 Q124.811 1064.96 121.177 1064.96 M121.177 1061.26 Q126.987 1061.26 130.043 1065.87 Q133.121 1070.45 133.121 1079.2 Q133.121 1087.93 130.043 1092.53 Q126.987 1097.12 121.177 1097.12 Q115.367 1097.12 112.288 1092.53 Q109.233 1087.93 109.233 1079.2 Q109.233 1070.45 112.288 1065.87 Q115.367 1061.26 121.177 1061.26 Z\" fill=\"#000000\" fill-rule=\"evenodd\" fill-opacity=\"1\" /><path clip-path=\"url(#clip250)\" d=\"M91.5938 801.563 Q88.4456 801.563 86.5938 803.715 Q84.7651 805.868 84.7651 809.618 Q84.7651 813.345 86.5938 815.521 Q88.4456 817.674 91.5938 817.674 Q94.7419 817.674 96.5706 815.521 Q98.4224 813.345 98.4224 809.618 Q98.4224 805.868 96.5706 803.715 Q94.7419 801.563 91.5938 801.563 M100.876 786.91 L100.876 791.169 Q99.1169 790.336 97.3113 789.896 Q95.5289 789.456 93.7697 789.456 Q89.1401 789.456 86.6864 792.581 Q84.2558 795.706 83.9086 802.026 Q85.2743 800.012 87.3345 798.947 Q89.3947 797.859 91.8715 797.859 Q97.0798 797.859 100.089 801.03 Q103.121 804.178 103.121 809.618 Q103.121 814.942 99.9733 818.16 Q96.8252 821.377 91.5938 821.377 Q85.5984 821.377 82.4271 816.794 Q79.2559 812.188 79.2559 803.461 Q79.2559 795.266 83.1447 790.405 Q87.0336 785.521 93.5845 785.521 Q95.3437 785.521 97.1261 785.868 Q98.9317 786.216 100.876 786.91 Z\" fill=\"#000000\" fill-rule=\"evenodd\" fill-opacity=\"1\" /><path clip-path=\"url(#clip250)\" d=\"M121.177 789.225 Q117.566 789.225 115.737 792.79 Q113.932 796.331 113.932 803.461 Q113.932 810.567 115.737 814.132 Q117.566 817.674 121.177 817.674 Q124.811 817.674 126.617 814.132 Q128.445 810.567 128.445 803.461 Q128.445 796.331 126.617 792.79 Q124.811 789.225 121.177 789.225 M121.177 785.521 Q126.987 785.521 130.043 790.128 Q133.121 794.711 133.121 803.461 Q133.121 812.188 130.043 816.794 Q126.987 821.377 121.177 821.377 Q115.367 821.377 112.288 816.794 Q109.233 812.188 109.233 803.461 Q109.233 794.711 112.288 790.128 Q115.367 785.521 121.177 785.521 Z\" fill=\"#000000\" fill-rule=\"evenodd\" fill-opacity=\"1\" /><path clip-path=\"url(#clip250)\" d=\"M81.154 544.249 L81.154 539.99 Q82.9133 540.823 84.7188 541.263 Q86.5243 541.703 88.2604 541.703 Q92.89 541.703 95.3206 538.601 Q97.7743 535.476 98.1215 529.133 Q96.7789 531.124 94.7187 532.189 Q92.6586 533.254 90.1586 533.254 Q84.9734 533.254 81.941 530.129 Q78.9318 526.981 78.9318 521.541 Q78.9318 516.217 82.0799 512.999 Q85.2281 509.782 90.4595 509.782 Q96.4548 509.782 99.603 514.388 Q102.774 518.972 102.774 527.721 Q102.774 535.893 98.8854 540.777 Q95.0197 545.638 88.4688 545.638 Q86.7095 545.638 84.904 545.291 Q83.0984 544.944 81.154 544.249 M90.4595 529.596 Q93.6076 529.596 95.4363 527.444 Q97.2882 525.291 97.2882 521.541 Q97.2882 517.814 95.4363 515.661 Q93.6076 513.485 90.4595 513.485 Q87.3114 513.485 85.4595 515.661 Q83.6308 517.814 83.6308 521.541 Q83.6308 525.291 85.4595 527.444 Q87.3114 529.596 90.4595 529.596 Z\" fill=\"#000000\" fill-rule=\"evenodd\" fill-opacity=\"1\" /><path clip-path=\"url(#clip250)\" d=\"M121.177 513.485 Q117.566 513.485 115.737 517.05 Q113.932 520.592 113.932 527.721 Q113.932 534.828 115.737 538.393 Q117.566 541.934 121.177 541.934 Q124.811 541.934 126.617 538.393 Q128.445 534.828 128.445 527.721 Q128.445 520.592 126.617 517.05 Q124.811 513.485 121.177 513.485 M121.177 509.782 Q126.987 509.782 130.043 514.388 Q133.121 518.972 133.121 527.721 Q133.121 536.448 130.043 541.055 Q126.987 545.638 121.177 545.638 Q115.367 545.638 112.288 541.055 Q109.233 536.448 109.233 527.721 Q109.233 518.972 112.288 514.388 Q115.367 509.782 121.177 509.782 Z\" fill=\"#000000\" fill-rule=\"evenodd\" fill-opacity=\"1\" /><path clip-path=\"url(#clip250)\" d=\"M51.6634 265.292 L59.3023 265.292 L59.3023 238.927 L50.9921 240.593 L50.9921 236.334 L59.256 234.667 L63.9319 234.667 L63.9319 265.292 L71.5707 265.292 L71.5707 269.227 L51.6634 269.227 L51.6634 265.292 Z\" fill=\"#000000\" fill-rule=\"evenodd\" fill-opacity=\"1\" /><path clip-path=\"url(#clip250)\" d=\"M85.0429 265.292 L101.362 265.292 L101.362 269.227 L79.4179 269.227 L79.4179 265.292 Q82.0799 262.538 86.6632 257.908 Q91.2697 253.255 92.4502 251.913 Q94.6956 249.389 95.5752 247.653 Q96.478 245.894 96.478 244.204 Q96.478 241.45 94.5336 239.714 Q92.6123 237.977 89.5104 237.977 Q87.3114 237.977 84.8577 238.741 Q82.4271 239.505 79.6494 241.056 L79.6494 236.334 Q82.4734 235.2 84.9271 234.621 Q87.3808 234.042 89.4178 234.042 Q94.7882 234.042 97.9826 236.728 Q101.177 239.413 101.177 243.903 Q101.177 246.033 100.367 247.954 Q99.5798 249.852 97.4734 252.445 Q96.8947 253.116 93.7928 256.334 Q90.691 259.528 85.0429 265.292 Z\" fill=\"#000000\" fill-rule=\"evenodd\" fill-opacity=\"1\" /><path clip-path=\"url(#clip250)\" d=\"M121.177 237.746 Q117.566 237.746 115.737 241.311 Q113.932 244.852 113.932 251.982 Q113.932 259.088 115.737 262.653 Q117.566 266.195 121.177 266.195 Q124.811 266.195 126.617 262.653 Q128.445 259.088 128.445 251.982 Q128.445 244.852 126.617 241.311 Q124.811 237.746 121.177 237.746 M121.177 234.042 Q126.987 234.042 130.043 238.649 Q133.121 243.232 133.121 251.982 Q133.121 260.709 130.043 265.315 Q126.987 269.899 121.177 269.899 Q115.367 269.899 112.288 265.315 Q109.233 260.709 109.233 251.982 Q109.233 243.232 112.288 238.649 Q115.367 234.042 121.177 234.042 Z\" fill=\"#000000\" fill-rule=\"evenodd\" fill-opacity=\"1\" /><circle clip-path=\"url(#clip252)\" cx=\"230.922\" cy=\"798.599\" r=\"14.4\" fill=\"#009af9\" fill-rule=\"evenodd\" fill-opacity=\"1\" stroke=\"#000000\" stroke-opacity=\"1\" stroke-width=\"3.2\"/>\n",
       "<circle clip-path=\"url(#clip252)\" cx=\"333.924\" cy=\"803.999\" r=\"14.4\" fill=\"#009af9\" fill-rule=\"evenodd\" fill-opacity=\"1\" stroke=\"#000000\" stroke-opacity=\"1\" stroke-width=\"3.2\"/>\n",
       "<circle clip-path=\"url(#clip252)\" cx=\"436.926\" cy=\"898.998\" r=\"14.4\" fill=\"#009af9\" fill-rule=\"evenodd\" fill-opacity=\"1\" stroke=\"#000000\" stroke-opacity=\"1\" stroke-width=\"3.2\"/>\n",
       "<circle clip-path=\"url(#clip252)\" cx=\"539.927\" cy=\"1195.81\" r=\"14.4\" fill=\"#009af9\" fill-rule=\"evenodd\" fill-opacity=\"1\" stroke=\"#000000\" stroke-opacity=\"1\" stroke-width=\"3.2\"/>\n",
       "<circle clip-path=\"url(#clip252)\" cx=\"642.929\" cy=\"1177.75\" r=\"14.4\" fill=\"#009af9\" fill-rule=\"evenodd\" fill-opacity=\"1\" stroke=\"#000000\" stroke-opacity=\"1\" stroke-width=\"3.2\"/>\n",
       "<circle clip-path=\"url(#clip252)\" cx=\"745.93\" cy=\"1230.21\" r=\"14.4\" fill=\"#009af9\" fill-rule=\"evenodd\" fill-opacity=\"1\" stroke=\"#000000\" stroke-opacity=\"1\" stroke-width=\"3.2\"/>\n",
       "<circle clip-path=\"url(#clip252)\" cx=\"848.932\" cy=\"1320.88\" r=\"14.4\" fill=\"#009af9\" fill-rule=\"evenodd\" fill-opacity=\"1\" stroke=\"#000000\" stroke-opacity=\"1\" stroke-width=\"3.2\"/>\n",
       "<circle clip-path=\"url(#clip252)\" cx=\"951.934\" cy=\"1154.33\" r=\"14.4\" fill=\"#009af9\" fill-rule=\"evenodd\" fill-opacity=\"1\" stroke=\"#000000\" stroke-opacity=\"1\" stroke-width=\"3.2\"/>\n",
       "<circle clip-path=\"url(#clip252)\" cx=\"1054.94\" cy=\"1369.83\" r=\"14.4\" fill=\"#009af9\" fill-rule=\"evenodd\" fill-opacity=\"1\" stroke=\"#000000\" stroke-opacity=\"1\" stroke-width=\"3.2\"/>\n",
       "<circle clip-path=\"url(#clip252)\" cx=\"1157.94\" cy=\"1445.72\" r=\"14.4\" fill=\"#009af9\" fill-rule=\"evenodd\" fill-opacity=\"1\" stroke=\"#000000\" stroke-opacity=\"1\" stroke-width=\"3.2\"/>\n",
       "<circle clip-path=\"url(#clip252)\" cx=\"1260.94\" cy=\"1181.78\" r=\"14.4\" fill=\"#009af9\" fill-rule=\"evenodd\" fill-opacity=\"1\" stroke=\"#000000\" stroke-opacity=\"1\" stroke-width=\"3.2\"/>\n",
       "<circle clip-path=\"url(#clip252)\" cx=\"1363.94\" cy=\"1197\" r=\"14.4\" fill=\"#009af9\" fill-rule=\"evenodd\" fill-opacity=\"1\" stroke=\"#000000\" stroke-opacity=\"1\" stroke-width=\"3.2\"/>\n",
       "<circle clip-path=\"url(#clip252)\" cx=\"1466.94\" cy=\"1226.77\" r=\"14.4\" fill=\"#009af9\" fill-rule=\"evenodd\" fill-opacity=\"1\" stroke=\"#000000\" stroke-opacity=\"1\" stroke-width=\"3.2\"/>\n",
       "<circle clip-path=\"url(#clip252)\" cx=\"1569.94\" cy=\"1261.76\" r=\"14.4\" fill=\"#009af9\" fill-rule=\"evenodd\" fill-opacity=\"1\" stroke=\"#000000\" stroke-opacity=\"1\" stroke-width=\"3.2\"/>\n",
       "<circle clip-path=\"url(#clip252)\" cx=\"1672.95\" cy=\"1105.27\" r=\"14.4\" fill=\"#009af9\" fill-rule=\"evenodd\" fill-opacity=\"1\" stroke=\"#000000\" stroke-opacity=\"1\" stroke-width=\"3.2\"/>\n",
       "<circle clip-path=\"url(#clip252)\" cx=\"1775.95\" cy=\"1017.77\" r=\"14.4\" fill=\"#009af9\" fill-rule=\"evenodd\" fill-opacity=\"1\" stroke=\"#000000\" stroke-opacity=\"1\" stroke-width=\"3.2\"/>\n",
       "<circle clip-path=\"url(#clip252)\" cx=\"1878.95\" cy=\"808.647\" r=\"14.4\" fill=\"#009af9\" fill-rule=\"evenodd\" fill-opacity=\"1\" stroke=\"#000000\" stroke-opacity=\"1\" stroke-width=\"3.2\"/>\n",
       "<circle clip-path=\"url(#clip252)\" cx=\"1981.95\" cy=\"590.507\" r=\"14.4\" fill=\"#009af9\" fill-rule=\"evenodd\" fill-opacity=\"1\" stroke=\"#000000\" stroke-opacity=\"1\" stroke-width=\"3.2\"/>\n",
       "<circle clip-path=\"url(#clip252)\" cx=\"2084.95\" cy=\"484.162\" r=\"14.4\" fill=\"#009af9\" fill-rule=\"evenodd\" fill-opacity=\"1\" stroke=\"#000000\" stroke-opacity=\"1\" stroke-width=\"3.2\"/>\n",
       "<circle clip-path=\"url(#clip252)\" cx=\"2187.95\" cy=\"454.299\" r=\"14.4\" fill=\"#009af9\" fill-rule=\"evenodd\" fill-opacity=\"1\" stroke=\"#000000\" stroke-opacity=\"1\" stroke-width=\"3.2\"/>\n",
       "<circle clip-path=\"url(#clip252)\" cx=\"2290.95\" cy=\"87.9763\" r=\"14.4\" fill=\"#009af9\" fill-rule=\"evenodd\" fill-opacity=\"1\" stroke=\"#000000\" stroke-opacity=\"1\" stroke-width=\"3.2\"/>\n",
       "<path clip-path=\"url(#clip250)\" d=\"M241.909 198.898 L512.703 198.898 L512.703 95.2176 L241.909 95.2176  Z\" fill=\"#ffffff\" fill-rule=\"evenodd\" fill-opacity=\"1\"/>\n",
       "<polyline clip-path=\"url(#clip250)\" style=\"stroke:#000000; stroke-linecap:round; stroke-linejoin:round; stroke-width:4; stroke-opacity:1; fill:none\" points=\"241.909,198.898 512.703,198.898 512.703,95.2176 241.909,95.2176 241.909,198.898 \"/>\n",
       "<circle clip-path=\"url(#clip250)\" cx=\"338.96\" cy=\"147.058\" r=\"23.04\" fill=\"#009af9\" fill-rule=\"evenodd\" fill-opacity=\"1\" stroke=\"#000000\" stroke-opacity=\"1\" stroke-width=\"5.12\"/>\n",
       "<path clip-path=\"url(#clip250)\" d=\"M449.853 166.745 Q448.047 171.375 446.334 172.787 Q444.621 174.199 441.751 174.199 L438.348 174.199 L438.348 170.634 L440.848 170.634 Q442.607 170.634 443.579 169.8 Q444.552 168.967 445.732 165.865 L446.496 163.921 L436.01 138.412 L440.524 138.412 L448.626 158.689 L456.727 138.412 L461.241 138.412 L449.853 166.745 Z\" fill=\"#000000\" fill-rule=\"evenodd\" fill-opacity=\"1\" /><path clip-path=\"url(#clip250)\" d=\"M468.533 160.402 L476.172 160.402 L476.172 134.037 L467.862 135.703 L467.862 131.444 L476.126 129.778 L480.801 129.778 L480.801 160.402 L488.44 160.402 L488.44 164.338 L468.533 164.338 L468.533 160.402 Z\" fill=\"#000000\" fill-rule=\"evenodd\" fill-opacity=\"1\" /></svg>\n"
      ]
     },
     "execution_count": 11,
     "metadata": {},
     "output_type": "execute_result"
    }
   ],
   "source": [
    "y_observed = x .^2 .+3 .*x .-2  + rand(d,length(x))\n",
    "scatter(x,y_observed)"
   ]
  },
  {
   "cell_type": "code",
   "execution_count": 12,
   "id": "e46258aa",
   "metadata": {},
   "outputs": [
    {
     "data": {
      "image/svg+xml": [
       "<?xml version=\"1.0\" encoding=\"utf-8\"?>\n",
       "<svg xmlns=\"http://www.w3.org/2000/svg\" xmlns:xlink=\"http://www.w3.org/1999/xlink\" width=\"600\" height=\"400\" viewBox=\"0 0 2400 1600\">\n",
       "<defs>\n",
       "  <clipPath id=\"clip290\">\n",
       "    <rect x=\"0\" y=\"0\" width=\"2400\" height=\"1600\"/>\n",
       "  </clipPath>\n",
       "</defs>\n",
       "<path clip-path=\"url(#clip290)\" d=\"M0 1600 L2400 1600 L2400 0 L0 0  Z\" fill=\"#ffffff\" fill-rule=\"evenodd\" fill-opacity=\"1\"/>\n",
       "<defs>\n",
       "  <clipPath id=\"clip291\">\n",
       "    <rect x=\"480\" y=\"0\" width=\"1681\" height=\"1600\"/>\n",
       "  </clipPath>\n",
       "</defs>\n",
       "<path clip-path=\"url(#clip290)\" d=\"M169.121 1486.45 L2352.76 1486.45 L2352.76 47.2441 L169.121 47.2441  Z\" fill=\"#ffffff\" fill-rule=\"evenodd\" fill-opacity=\"1\"/>\n",
       "<defs>\n",
       "  <clipPath id=\"clip292\">\n",
       "    <rect x=\"169\" y=\"47\" width=\"2185\" height=\"1440\"/>\n",
       "  </clipPath>\n",
       "</defs>\n",
       "<polyline clip-path=\"url(#clip292)\" style=\"stroke:#000000; stroke-linecap:round; stroke-linejoin:round; stroke-width:2; stroke-opacity:0.1; fill:none\" points=\"230.922,1486.45 230.922,47.2441 \"/>\n",
       "<polyline clip-path=\"url(#clip292)\" style=\"stroke:#000000; stroke-linecap:round; stroke-linejoin:round; stroke-width:2; stroke-opacity:0.1; fill:none\" points=\"745.93,1486.45 745.93,47.2441 \"/>\n",
       "<polyline clip-path=\"url(#clip292)\" style=\"stroke:#000000; stroke-linecap:round; stroke-linejoin:round; stroke-width:2; stroke-opacity:0.1; fill:none\" points=\"1260.94,1486.45 1260.94,47.2441 \"/>\n",
       "<polyline clip-path=\"url(#clip292)\" style=\"stroke:#000000; stroke-linecap:round; stroke-linejoin:round; stroke-width:2; stroke-opacity:0.1; fill:none\" points=\"1775.95,1486.45 1775.95,47.2441 \"/>\n",
       "<polyline clip-path=\"url(#clip292)\" style=\"stroke:#000000; stroke-linecap:round; stroke-linejoin:round; stroke-width:2; stroke-opacity:0.1; fill:none\" points=\"2290.95,1486.45 2290.95,47.2441 \"/>\n",
       "<polyline clip-path=\"url(#clip290)\" style=\"stroke:#000000; stroke-linecap:round; stroke-linejoin:round; stroke-width:4; stroke-opacity:1; fill:none\" points=\"169.121,1486.45 2352.76,1486.45 \"/>\n",
       "<polyline clip-path=\"url(#clip290)\" style=\"stroke:#000000; stroke-linecap:round; stroke-linejoin:round; stroke-width:4; stroke-opacity:1; fill:none\" points=\"230.922,1486.45 230.922,1467.55 \"/>\n",
       "<polyline clip-path=\"url(#clip290)\" style=\"stroke:#000000; stroke-linecap:round; stroke-linejoin:round; stroke-width:4; stroke-opacity:1; fill:none\" points=\"745.93,1486.45 745.93,1467.55 \"/>\n",
       "<polyline clip-path=\"url(#clip290)\" style=\"stroke:#000000; stroke-linecap:round; stroke-linejoin:round; stroke-width:4; stroke-opacity:1; fill:none\" points=\"1260.94,1486.45 1260.94,1467.55 \"/>\n",
       "<polyline clip-path=\"url(#clip290)\" style=\"stroke:#000000; stroke-linecap:round; stroke-linejoin:round; stroke-width:4; stroke-opacity:1; fill:none\" points=\"1775.95,1486.45 1775.95,1467.55 \"/>\n",
       "<polyline clip-path=\"url(#clip290)\" style=\"stroke:#000000; stroke-linecap:round; stroke-linejoin:round; stroke-width:4; stroke-opacity:1; fill:none\" points=\"2290.95,1486.45 2290.95,1467.55 \"/>\n",
       "<path clip-path=\"url(#clip290)\" d=\"M184.985 1532.02 L214.661 1532.02 L214.661 1535.95 L184.985 1535.95 L184.985 1532.02 Z\" fill=\"#000000\" fill-rule=\"evenodd\" fill-opacity=\"1\" /><path clip-path=\"url(#clip290)\" d=\"M225.564 1544.91 L233.202 1544.91 L233.202 1518.55 L224.892 1520.21 L224.892 1515.95 L233.156 1514.29 L237.832 1514.29 L237.832 1544.91 L245.471 1544.91 L245.471 1548.85 L225.564 1548.85 L225.564 1544.91 Z\" fill=\"#000000\" fill-rule=\"evenodd\" fill-opacity=\"1\" /><path clip-path=\"url(#clip290)\" d=\"M264.915 1517.37 Q261.304 1517.37 259.475 1520.93 Q257.67 1524.47 257.67 1531.6 Q257.67 1538.71 259.475 1542.27 Q261.304 1545.82 264.915 1545.82 Q268.549 1545.82 270.355 1542.27 Q272.184 1538.71 272.184 1531.6 Q272.184 1524.47 270.355 1520.93 Q268.549 1517.37 264.915 1517.37 M264.915 1513.66 Q270.725 1513.66 273.781 1518.27 Q276.86 1522.85 276.86 1531.6 Q276.86 1540.33 273.781 1544.94 Q270.725 1549.52 264.915 1549.52 Q259.105 1549.52 256.026 1544.94 Q252.971 1540.33 252.971 1531.6 Q252.971 1522.85 256.026 1518.27 Q259.105 1513.66 264.915 1513.66 Z\" fill=\"#000000\" fill-rule=\"evenodd\" fill-opacity=\"1\" /><path clip-path=\"url(#clip290)\" d=\"M715.572 1532.02 L745.248 1532.02 L745.248 1535.95 L715.572 1535.95 L715.572 1532.02 Z\" fill=\"#000000\" fill-rule=\"evenodd\" fill-opacity=\"1\" /><path clip-path=\"url(#clip290)\" d=\"M755.386 1514.29 L773.743 1514.29 L773.743 1518.22 L759.669 1518.22 L759.669 1526.7 Q760.687 1526.35 761.706 1526.19 Q762.724 1526 763.743 1526 Q769.53 1526 772.909 1529.17 Q776.289 1532.34 776.289 1537.76 Q776.289 1543.34 772.817 1546.44 Q769.345 1549.52 763.025 1549.52 Q760.849 1549.52 758.581 1549.15 Q756.335 1548.78 753.928 1548.04 L753.928 1543.34 Q756.011 1544.47 758.234 1545.03 Q760.456 1545.58 762.933 1545.58 Q766.937 1545.58 769.275 1543.48 Q771.613 1541.37 771.613 1537.76 Q771.613 1534.15 769.275 1532.04 Q766.937 1529.94 762.933 1529.94 Q761.058 1529.94 759.183 1530.35 Q757.331 1530.77 755.386 1531.65 L755.386 1514.29 Z\" fill=\"#000000\" fill-rule=\"evenodd\" fill-opacity=\"1\" /><path clip-path=\"url(#clip290)\" d=\"M1260.94 1517.37 Q1257.33 1517.37 1255.5 1520.93 Q1253.69 1524.47 1253.69 1531.6 Q1253.69 1538.71 1255.5 1542.27 Q1257.33 1545.82 1260.94 1545.82 Q1264.57 1545.82 1266.38 1542.27 Q1268.21 1538.71 1268.21 1531.6 Q1268.21 1524.47 1266.38 1520.93 Q1264.57 1517.37 1260.94 1517.37 M1260.94 1513.66 Q1266.75 1513.66 1269.8 1518.27 Q1272.88 1522.85 1272.88 1531.6 Q1272.88 1540.33 1269.8 1544.94 Q1266.75 1549.52 1260.94 1549.52 Q1255.13 1549.52 1252.05 1544.94 Q1248.99 1540.33 1248.99 1531.6 Q1248.99 1522.85 1252.05 1518.27 Q1255.13 1513.66 1260.94 1513.66 Z\" fill=\"#000000\" fill-rule=\"evenodd\" fill-opacity=\"1\" /><path clip-path=\"url(#clip290)\" d=\"M1766.22 1514.29 L1784.58 1514.29 L1784.58 1518.22 L1770.51 1518.22 L1770.51 1526.7 Q1771.53 1526.35 1772.54 1526.19 Q1773.56 1526 1774.58 1526 Q1780.37 1526 1783.75 1529.17 Q1787.13 1532.34 1787.13 1537.76 Q1787.13 1543.34 1783.66 1546.44 Q1780.18 1549.52 1773.86 1549.52 Q1771.69 1549.52 1769.42 1549.15 Q1767.17 1548.78 1764.77 1548.04 L1764.77 1543.34 Q1766.85 1544.47 1769.07 1545.03 Q1771.29 1545.58 1773.77 1545.58 Q1777.78 1545.58 1780.11 1543.48 Q1782.45 1541.37 1782.45 1537.76 Q1782.45 1534.15 1780.11 1532.04 Q1777.78 1529.94 1773.77 1529.94 Q1771.9 1529.94 1770.02 1530.35 Q1768.17 1530.77 1766.22 1531.65 L1766.22 1514.29 Z\" fill=\"#000000\" fill-rule=\"evenodd\" fill-opacity=\"1\" /><path clip-path=\"url(#clip290)\" d=\"M2265.64 1544.91 L2273.28 1544.91 L2273.28 1518.55 L2264.97 1520.21 L2264.97 1515.95 L2273.24 1514.29 L2277.91 1514.29 L2277.91 1544.91 L2285.55 1544.91 L2285.55 1548.85 L2265.64 1548.85 L2265.64 1544.91 Z\" fill=\"#000000\" fill-rule=\"evenodd\" fill-opacity=\"1\" /><path clip-path=\"url(#clip290)\" d=\"M2304.99 1517.37 Q2301.38 1517.37 2299.55 1520.93 Q2297.75 1524.47 2297.75 1531.6 Q2297.75 1538.71 2299.55 1542.27 Q2301.38 1545.82 2304.99 1545.82 Q2308.63 1545.82 2310.43 1542.27 Q2312.26 1538.71 2312.26 1531.6 Q2312.26 1524.47 2310.43 1520.93 Q2308.63 1517.37 2304.99 1517.37 M2304.99 1513.66 Q2310.8 1513.66 2313.86 1518.27 Q2316.94 1522.85 2316.94 1531.6 Q2316.94 1540.33 2313.86 1544.94 Q2310.8 1549.52 2304.99 1549.52 Q2299.18 1549.52 2296.11 1544.94 Q2293.05 1540.33 2293.05 1531.6 Q2293.05 1522.85 2296.11 1518.27 Q2299.18 1513.66 2304.99 1513.66 Z\" fill=\"#000000\" fill-rule=\"evenodd\" fill-opacity=\"1\" /><polyline clip-path=\"url(#clip292)\" style=\"stroke:#000000; stroke-linecap:round; stroke-linejoin:round; stroke-width:2; stroke-opacity:0.1; fill:none\" points=\"169.121,1354.9 2352.76,1354.9 \"/>\n",
       "<polyline clip-path=\"url(#clip292)\" style=\"stroke:#000000; stroke-linecap:round; stroke-linejoin:round; stroke-width:2; stroke-opacity:0.1; fill:none\" points=\"169.121,1079.17 2352.76,1079.17 \"/>\n",
       "<polyline clip-path=\"url(#clip292)\" style=\"stroke:#000000; stroke-linecap:round; stroke-linejoin:round; stroke-width:2; stroke-opacity:0.1; fill:none\" points=\"169.121,803.426 2352.76,803.426 \"/>\n",
       "<polyline clip-path=\"url(#clip292)\" style=\"stroke:#000000; stroke-linecap:round; stroke-linejoin:round; stroke-width:2; stroke-opacity:0.1; fill:none\" points=\"169.121,527.687 2352.76,527.687 \"/>\n",
       "<polyline clip-path=\"url(#clip292)\" style=\"stroke:#000000; stroke-linecap:round; stroke-linejoin:round; stroke-width:2; stroke-opacity:0.1; fill:none\" points=\"169.121,251.947 2352.76,251.947 \"/>\n",
       "<polyline clip-path=\"url(#clip290)\" style=\"stroke:#000000; stroke-linecap:round; stroke-linejoin:round; stroke-width:4; stroke-opacity:1; fill:none\" points=\"169.121,1486.45 169.121,47.2441 \"/>\n",
       "<polyline clip-path=\"url(#clip290)\" style=\"stroke:#000000; stroke-linecap:round; stroke-linejoin:round; stroke-width:4; stroke-opacity:1; fill:none\" points=\"169.121,1354.9 188.019,1354.9 \"/>\n",
       "<polyline clip-path=\"url(#clip290)\" style=\"stroke:#000000; stroke-linecap:round; stroke-linejoin:round; stroke-width:4; stroke-opacity:1; fill:none\" points=\"169.121,1079.17 188.019,1079.17 \"/>\n",
       "<polyline clip-path=\"url(#clip290)\" style=\"stroke:#000000; stroke-linecap:round; stroke-linejoin:round; stroke-width:4; stroke-opacity:1; fill:none\" points=\"169.121,803.426 188.019,803.426 \"/>\n",
       "<polyline clip-path=\"url(#clip290)\" style=\"stroke:#000000; stroke-linecap:round; stroke-linejoin:round; stroke-width:4; stroke-opacity:1; fill:none\" points=\"169.121,527.687 188.019,527.687 \"/>\n",
       "<polyline clip-path=\"url(#clip290)\" style=\"stroke:#000000; stroke-linecap:round; stroke-linejoin:round; stroke-width:4; stroke-opacity:1; fill:none\" points=\"169.121,251.947 188.019,251.947 \"/>\n",
       "<path clip-path=\"url(#clip290)\" d=\"M121.177 1340.7 Q117.566 1340.7 115.737 1344.27 Q113.932 1347.81 113.932 1354.94 Q113.932 1362.05 115.737 1365.61 Q117.566 1369.15 121.177 1369.15 Q124.811 1369.15 126.617 1365.61 Q128.445 1362.05 128.445 1354.94 Q128.445 1347.81 126.617 1344.27 Q124.811 1340.7 121.177 1340.7 M121.177 1337 Q126.987 1337 130.043 1341.61 Q133.121 1346.19 133.121 1354.94 Q133.121 1363.67 130.043 1368.27 Q126.987 1372.86 121.177 1372.86 Q115.367 1372.86 112.288 1368.27 Q109.233 1363.67 109.233 1354.94 Q109.233 1346.19 112.288 1341.61 Q115.367 1337 121.177 1337 Z\" fill=\"#000000\" fill-rule=\"evenodd\" fill-opacity=\"1\" /><path clip-path=\"url(#clip290)\" d=\"M95.1817 1077.81 Q98.5382 1078.53 100.413 1080.8 Q102.311 1083.07 102.311 1086.4 Q102.311 1091.52 98.7928 1094.32 Q95.2743 1097.12 88.7928 1097.12 Q86.6169 1097.12 84.3021 1096.68 Q82.0105 1096.26 79.5568 1095.4 L79.5568 1090.89 Q81.5012 1092.02 83.816 1092.6 Q86.1308 1093.18 88.654 1093.18 Q93.0521 1093.18 95.3437 1091.45 Q97.6585 1089.71 97.6585 1086.4 Q97.6585 1083.34 95.5058 1081.63 Q93.3762 1079.89 89.5567 1079.89 L85.529 1079.89 L85.529 1076.05 L89.7419 1076.05 Q93.191 1076.05 95.0197 1074.69 Q96.8484 1073.3 96.8484 1070.7 Q96.8484 1068.04 94.9502 1066.63 Q93.0752 1065.2 89.5567 1065.2 Q87.6354 1065.2 85.4364 1065.61 Q83.2373 1066.03 80.5984 1066.91 L80.5984 1062.74 Q83.2605 1062 85.5753 1061.63 Q87.9132 1061.26 89.9734 1061.26 Q95.2974 1061.26 98.3993 1063.69 Q101.501 1066.1 101.501 1070.22 Q101.501 1073.09 99.8576 1075.08 Q98.2141 1077.05 95.1817 1077.81 Z\" fill=\"#000000\" fill-rule=\"evenodd\" fill-opacity=\"1\" /><path clip-path=\"url(#clip290)\" d=\"M121.177 1064.96 Q117.566 1064.96 115.737 1068.53 Q113.932 1072.07 113.932 1079.2 Q113.932 1086.31 115.737 1089.87 Q117.566 1093.41 121.177 1093.41 Q124.811 1093.41 126.617 1089.87 Q128.445 1086.31 128.445 1079.2 Q128.445 1072.07 126.617 1068.53 Q124.811 1064.96 121.177 1064.96 M121.177 1061.26 Q126.987 1061.26 130.043 1065.87 Q133.121 1070.45 133.121 1079.2 Q133.121 1087.93 130.043 1092.53 Q126.987 1097.12 121.177 1097.12 Q115.367 1097.12 112.288 1092.53 Q109.233 1087.93 109.233 1079.2 Q109.233 1070.45 112.288 1065.87 Q115.367 1061.26 121.177 1061.26 Z\" fill=\"#000000\" fill-rule=\"evenodd\" fill-opacity=\"1\" /><path clip-path=\"url(#clip290)\" d=\"M91.5938 801.563 Q88.4456 801.563 86.5938 803.715 Q84.7651 805.868 84.7651 809.618 Q84.7651 813.345 86.5938 815.521 Q88.4456 817.674 91.5938 817.674 Q94.7419 817.674 96.5706 815.521 Q98.4224 813.345 98.4224 809.618 Q98.4224 805.868 96.5706 803.715 Q94.7419 801.563 91.5938 801.563 M100.876 786.91 L100.876 791.169 Q99.1169 790.336 97.3113 789.896 Q95.5289 789.456 93.7697 789.456 Q89.1401 789.456 86.6864 792.581 Q84.2558 795.706 83.9086 802.026 Q85.2743 800.012 87.3345 798.947 Q89.3947 797.859 91.8715 797.859 Q97.0798 797.859 100.089 801.03 Q103.121 804.178 103.121 809.618 Q103.121 814.942 99.9733 818.16 Q96.8252 821.377 91.5938 821.377 Q85.5984 821.377 82.4271 816.794 Q79.2559 812.188 79.2559 803.461 Q79.2559 795.266 83.1447 790.405 Q87.0336 785.521 93.5845 785.521 Q95.3437 785.521 97.1261 785.868 Q98.9317 786.216 100.876 786.91 Z\" fill=\"#000000\" fill-rule=\"evenodd\" fill-opacity=\"1\" /><path clip-path=\"url(#clip290)\" d=\"M121.177 789.225 Q117.566 789.225 115.737 792.79 Q113.932 796.331 113.932 803.461 Q113.932 810.567 115.737 814.132 Q117.566 817.674 121.177 817.674 Q124.811 817.674 126.617 814.132 Q128.445 810.567 128.445 803.461 Q128.445 796.331 126.617 792.79 Q124.811 789.225 121.177 789.225 M121.177 785.521 Q126.987 785.521 130.043 790.128 Q133.121 794.711 133.121 803.461 Q133.121 812.188 130.043 816.794 Q126.987 821.377 121.177 821.377 Q115.367 821.377 112.288 816.794 Q109.233 812.188 109.233 803.461 Q109.233 794.711 112.288 790.128 Q115.367 785.521 121.177 785.521 Z\" fill=\"#000000\" fill-rule=\"evenodd\" fill-opacity=\"1\" /><path clip-path=\"url(#clip290)\" d=\"M81.154 544.249 L81.154 539.99 Q82.9133 540.823 84.7188 541.263 Q86.5243 541.703 88.2604 541.703 Q92.89 541.703 95.3206 538.601 Q97.7743 535.476 98.1215 529.133 Q96.7789 531.124 94.7187 532.189 Q92.6586 533.254 90.1586 533.254 Q84.9734 533.254 81.941 530.129 Q78.9318 526.981 78.9318 521.541 Q78.9318 516.217 82.0799 512.999 Q85.2281 509.782 90.4595 509.782 Q96.4548 509.782 99.603 514.388 Q102.774 518.972 102.774 527.721 Q102.774 535.893 98.8854 540.777 Q95.0197 545.638 88.4688 545.638 Q86.7095 545.638 84.904 545.291 Q83.0984 544.944 81.154 544.249 M90.4595 529.596 Q93.6076 529.596 95.4363 527.444 Q97.2882 525.291 97.2882 521.541 Q97.2882 517.814 95.4363 515.661 Q93.6076 513.485 90.4595 513.485 Q87.3114 513.485 85.4595 515.661 Q83.6308 517.814 83.6308 521.541 Q83.6308 525.291 85.4595 527.444 Q87.3114 529.596 90.4595 529.596 Z\" fill=\"#000000\" fill-rule=\"evenodd\" fill-opacity=\"1\" /><path clip-path=\"url(#clip290)\" d=\"M121.177 513.485 Q117.566 513.485 115.737 517.05 Q113.932 520.592 113.932 527.721 Q113.932 534.828 115.737 538.393 Q117.566 541.934 121.177 541.934 Q124.811 541.934 126.617 538.393 Q128.445 534.828 128.445 527.721 Q128.445 520.592 126.617 517.05 Q124.811 513.485 121.177 513.485 M121.177 509.782 Q126.987 509.782 130.043 514.388 Q133.121 518.972 133.121 527.721 Q133.121 536.448 130.043 541.055 Q126.987 545.638 121.177 545.638 Q115.367 545.638 112.288 541.055 Q109.233 536.448 109.233 527.721 Q109.233 518.972 112.288 514.388 Q115.367 509.782 121.177 509.782 Z\" fill=\"#000000\" fill-rule=\"evenodd\" fill-opacity=\"1\" /><path clip-path=\"url(#clip290)\" d=\"M51.6634 265.292 L59.3023 265.292 L59.3023 238.927 L50.9921 240.593 L50.9921 236.334 L59.256 234.667 L63.9319 234.667 L63.9319 265.292 L71.5707 265.292 L71.5707 269.227 L51.6634 269.227 L51.6634 265.292 Z\" fill=\"#000000\" fill-rule=\"evenodd\" fill-opacity=\"1\" /><path clip-path=\"url(#clip290)\" d=\"M85.0429 265.292 L101.362 265.292 L101.362 269.227 L79.4179 269.227 L79.4179 265.292 Q82.0799 262.538 86.6632 257.908 Q91.2697 253.255 92.4502 251.913 Q94.6956 249.389 95.5752 247.653 Q96.478 245.894 96.478 244.204 Q96.478 241.45 94.5336 239.714 Q92.6123 237.977 89.5104 237.977 Q87.3114 237.977 84.8577 238.741 Q82.4271 239.505 79.6494 241.056 L79.6494 236.334 Q82.4734 235.2 84.9271 234.621 Q87.3808 234.042 89.4178 234.042 Q94.7882 234.042 97.9826 236.728 Q101.177 239.413 101.177 243.903 Q101.177 246.033 100.367 247.954 Q99.5798 249.852 97.4734 252.445 Q96.8947 253.116 93.7928 256.334 Q90.691 259.528 85.0429 265.292 Z\" fill=\"#000000\" fill-rule=\"evenodd\" fill-opacity=\"1\" /><path clip-path=\"url(#clip290)\" d=\"M121.177 237.746 Q117.566 237.746 115.737 241.311 Q113.932 244.852 113.932 251.982 Q113.932 259.088 115.737 262.653 Q117.566 266.195 121.177 266.195 Q124.811 266.195 126.617 262.653 Q128.445 259.088 128.445 251.982 Q128.445 244.852 126.617 241.311 Q124.811 237.746 121.177 237.746 M121.177 234.042 Q126.987 234.042 130.043 238.649 Q133.121 243.232 133.121 251.982 Q133.121 260.709 130.043 265.315 Q126.987 269.899 121.177 269.899 Q115.367 269.899 112.288 265.315 Q109.233 260.709 109.233 251.982 Q109.233 243.232 112.288 238.649 Q115.367 234.042 121.177 234.042 Z\" fill=\"#000000\" fill-rule=\"evenodd\" fill-opacity=\"1\" /><circle clip-path=\"url(#clip292)\" cx=\"230.922\" cy=\"798.599\" r=\"14.4\" fill=\"#009af9\" fill-rule=\"evenodd\" fill-opacity=\"1\" stroke=\"#000000\" stroke-opacity=\"1\" stroke-width=\"3.2\"/>\n",
       "<circle clip-path=\"url(#clip292)\" cx=\"333.924\" cy=\"803.999\" r=\"14.4\" fill=\"#009af9\" fill-rule=\"evenodd\" fill-opacity=\"1\" stroke=\"#000000\" stroke-opacity=\"1\" stroke-width=\"3.2\"/>\n",
       "<circle clip-path=\"url(#clip292)\" cx=\"436.926\" cy=\"898.998\" r=\"14.4\" fill=\"#009af9\" fill-rule=\"evenodd\" fill-opacity=\"1\" stroke=\"#000000\" stroke-opacity=\"1\" stroke-width=\"3.2\"/>\n",
       "<circle clip-path=\"url(#clip292)\" cx=\"539.927\" cy=\"1195.81\" r=\"14.4\" fill=\"#009af9\" fill-rule=\"evenodd\" fill-opacity=\"1\" stroke=\"#000000\" stroke-opacity=\"1\" stroke-width=\"3.2\"/>\n",
       "<circle clip-path=\"url(#clip292)\" cx=\"642.929\" cy=\"1177.75\" r=\"14.4\" fill=\"#009af9\" fill-rule=\"evenodd\" fill-opacity=\"1\" stroke=\"#000000\" stroke-opacity=\"1\" stroke-width=\"3.2\"/>\n",
       "<circle clip-path=\"url(#clip292)\" cx=\"745.93\" cy=\"1230.21\" r=\"14.4\" fill=\"#009af9\" fill-rule=\"evenodd\" fill-opacity=\"1\" stroke=\"#000000\" stroke-opacity=\"1\" stroke-width=\"3.2\"/>\n",
       "<circle clip-path=\"url(#clip292)\" cx=\"848.932\" cy=\"1320.88\" r=\"14.4\" fill=\"#009af9\" fill-rule=\"evenodd\" fill-opacity=\"1\" stroke=\"#000000\" stroke-opacity=\"1\" stroke-width=\"3.2\"/>\n",
       "<circle clip-path=\"url(#clip292)\" cx=\"951.934\" cy=\"1154.33\" r=\"14.4\" fill=\"#009af9\" fill-rule=\"evenodd\" fill-opacity=\"1\" stroke=\"#000000\" stroke-opacity=\"1\" stroke-width=\"3.2\"/>\n",
       "<circle clip-path=\"url(#clip292)\" cx=\"1054.94\" cy=\"1369.83\" r=\"14.4\" fill=\"#009af9\" fill-rule=\"evenodd\" fill-opacity=\"1\" stroke=\"#000000\" stroke-opacity=\"1\" stroke-width=\"3.2\"/>\n",
       "<circle clip-path=\"url(#clip292)\" cx=\"1157.94\" cy=\"1445.72\" r=\"14.4\" fill=\"#009af9\" fill-rule=\"evenodd\" fill-opacity=\"1\" stroke=\"#000000\" stroke-opacity=\"1\" stroke-width=\"3.2\"/>\n",
       "<circle clip-path=\"url(#clip292)\" cx=\"1260.94\" cy=\"1181.78\" r=\"14.4\" fill=\"#009af9\" fill-rule=\"evenodd\" fill-opacity=\"1\" stroke=\"#000000\" stroke-opacity=\"1\" stroke-width=\"3.2\"/>\n",
       "<circle clip-path=\"url(#clip292)\" cx=\"1363.94\" cy=\"1197\" r=\"14.4\" fill=\"#009af9\" fill-rule=\"evenodd\" fill-opacity=\"1\" stroke=\"#000000\" stroke-opacity=\"1\" stroke-width=\"3.2\"/>\n",
       "<circle clip-path=\"url(#clip292)\" cx=\"1466.94\" cy=\"1226.77\" r=\"14.4\" fill=\"#009af9\" fill-rule=\"evenodd\" fill-opacity=\"1\" stroke=\"#000000\" stroke-opacity=\"1\" stroke-width=\"3.2\"/>\n",
       "<circle clip-path=\"url(#clip292)\" cx=\"1569.94\" cy=\"1261.76\" r=\"14.4\" fill=\"#009af9\" fill-rule=\"evenodd\" fill-opacity=\"1\" stroke=\"#000000\" stroke-opacity=\"1\" stroke-width=\"3.2\"/>\n",
       "<circle clip-path=\"url(#clip292)\" cx=\"1672.95\" cy=\"1105.27\" r=\"14.4\" fill=\"#009af9\" fill-rule=\"evenodd\" fill-opacity=\"1\" stroke=\"#000000\" stroke-opacity=\"1\" stroke-width=\"3.2\"/>\n",
       "<circle clip-path=\"url(#clip292)\" cx=\"1775.95\" cy=\"1017.77\" r=\"14.4\" fill=\"#009af9\" fill-rule=\"evenodd\" fill-opacity=\"1\" stroke=\"#000000\" stroke-opacity=\"1\" stroke-width=\"3.2\"/>\n",
       "<circle clip-path=\"url(#clip292)\" cx=\"1878.95\" cy=\"808.647\" r=\"14.4\" fill=\"#009af9\" fill-rule=\"evenodd\" fill-opacity=\"1\" stroke=\"#000000\" stroke-opacity=\"1\" stroke-width=\"3.2\"/>\n",
       "<circle clip-path=\"url(#clip292)\" cx=\"1981.95\" cy=\"590.507\" r=\"14.4\" fill=\"#009af9\" fill-rule=\"evenodd\" fill-opacity=\"1\" stroke=\"#000000\" stroke-opacity=\"1\" stroke-width=\"3.2\"/>\n",
       "<circle clip-path=\"url(#clip292)\" cx=\"2084.95\" cy=\"484.162\" r=\"14.4\" fill=\"#009af9\" fill-rule=\"evenodd\" fill-opacity=\"1\" stroke=\"#000000\" stroke-opacity=\"1\" stroke-width=\"3.2\"/>\n",
       "<circle clip-path=\"url(#clip292)\" cx=\"2187.95\" cy=\"454.299\" r=\"14.4\" fill=\"#009af9\" fill-rule=\"evenodd\" fill-opacity=\"1\" stroke=\"#000000\" stroke-opacity=\"1\" stroke-width=\"3.2\"/>\n",
       "<circle clip-path=\"url(#clip292)\" cx=\"2290.95\" cy=\"87.9763\" r=\"14.4\" fill=\"#009af9\" fill-rule=\"evenodd\" fill-opacity=\"1\" stroke=\"#000000\" stroke-opacity=\"1\" stroke-width=\"3.2\"/>\n",
       "<polyline clip-path=\"url(#clip292)\" style=\"stroke:#e26f46; stroke-linecap:round; stroke-linejoin:round; stroke-width:4; stroke-opacity:1; fill:none\" points=\"230.922,729.896 333.924,876.957 436.926,1005.64 539.927,1115.93 642.929,1207.84 745.93,1281.37 848.932,1336.52 951.934,1373.29 1054.94,1391.67 1157.94,1391.67 1260.94,1373.29 1363.94,1336.52 1466.94,1281.37 1569.94,1207.84 1672.95,1115.93 1775.95,1005.64 1878.95,876.957 1981.95,729.896 2084.95,564.452 2187.95,380.626 2290.95,178.417 \"/>\n",
       "<path clip-path=\"url(#clip290)\" d=\"M241.909 250.738 L659.207 250.738 L659.207 95.2176 L241.909 95.2176  Z\" fill=\"#ffffff\" fill-rule=\"evenodd\" fill-opacity=\"1\"/>\n",
       "<polyline clip-path=\"url(#clip290)\" style=\"stroke:#000000; stroke-linecap:round; stroke-linejoin:round; stroke-width:4; stroke-opacity:1; fill:none\" points=\"241.909,250.738 659.207,250.738 659.207,95.2176 241.909,95.2176 241.909,250.738 \"/>\n",
       "<circle clip-path=\"url(#clip290)\" cx=\"338.96\" cy=\"147.058\" r=\"23.04\" fill=\"#009af9\" fill-rule=\"evenodd\" fill-opacity=\"1\" stroke=\"#000000\" stroke-opacity=\"1\" stroke-width=\"5.12\"/>\n",
       "<path clip-path=\"url(#clip290)\" d=\"M449.853 166.745 Q448.047 171.375 446.334 172.787 Q444.621 174.199 441.751 174.199 L438.348 174.199 L438.348 170.634 L440.848 170.634 Q442.607 170.634 443.579 169.8 Q444.552 168.967 445.732 165.865 L446.496 163.921 L436.01 138.412 L440.524 138.412 L448.626 158.689 L456.727 138.412 L461.241 138.412 L449.853 166.745 Z\" fill=\"#000000\" fill-rule=\"evenodd\" fill-opacity=\"1\" /><path clip-path=\"url(#clip290)\" d=\"M468.533 160.402 L476.172 160.402 L476.172 134.037 L467.862 135.703 L467.862 131.444 L476.126 129.778 L480.801 129.778 L480.801 160.402 L488.44 160.402 L488.44 164.338 L468.533 164.338 L468.533 160.402 Z\" fill=\"#000000\" fill-rule=\"evenodd\" fill-opacity=\"1\" /><polyline clip-path=\"url(#clip290)\" style=\"stroke:#e26f46; stroke-linecap:round; stroke-linejoin:round; stroke-width:4; stroke-opacity:1; fill:none\" points=\"266.172,198.898 411.747,198.898 \"/>\n",
       "<path clip-path=\"url(#clip290)\" d=\"M436.01 181.618 L465.246 181.618 L465.246 185.553 L452.977 185.553 L452.977 216.178 L448.278 216.178 L448.278 185.553 L436.01 185.553 L436.01 181.618 Z\" fill=\"#000000\" fill-rule=\"evenodd\" fill-opacity=\"1\" /><path clip-path=\"url(#clip290)\" d=\"M477.63 194.233 Q476.913 193.817 476.056 193.631 Q475.223 193.423 474.204 193.423 Q470.593 193.423 468.649 195.784 Q466.727 198.122 466.727 202.52 L466.727 216.178 L462.445 216.178 L462.445 190.252 L466.727 190.252 L466.727 194.28 Q468.07 191.918 470.223 190.784 Q472.376 189.627 475.454 189.627 Q475.894 189.627 476.426 189.696 Q476.959 189.743 477.607 189.858 L477.63 194.233 Z\" fill=\"#000000\" fill-rule=\"evenodd\" fill-opacity=\"1\" /><path clip-path=\"url(#clip290)\" d=\"M481.658 205.946 L481.658 190.252 L485.917 190.252 L485.917 205.784 Q485.917 209.465 487.352 211.316 Q488.787 213.145 491.658 213.145 Q495.107 213.145 497.098 210.946 Q499.112 208.747 499.112 204.951 L499.112 190.252 L503.371 190.252 L503.371 216.178 L499.112 216.178 L499.112 212.196 Q497.561 214.557 495.5 215.715 Q493.463 216.849 490.755 216.849 Q486.287 216.849 483.973 214.071 Q481.658 211.293 481.658 205.946 M492.375 189.627 L492.375 189.627 Z\" fill=\"#000000\" fill-rule=\"evenodd\" fill-opacity=\"1\" /><path clip-path=\"url(#clip290)\" d=\"M534.32 202.15 L534.32 204.233 L514.736 204.233 Q515.014 208.631 517.375 210.946 Q519.76 213.238 523.996 213.238 Q526.449 213.238 528.741 212.636 Q531.056 212.034 533.324 210.83 L533.324 214.858 Q531.033 215.83 528.625 216.34 Q526.218 216.849 523.741 216.849 Q517.537 216.849 513.903 213.238 Q510.292 209.627 510.292 203.469 Q510.292 197.104 513.718 193.377 Q517.167 189.627 523 189.627 Q528.232 189.627 531.264 193.006 Q534.32 196.363 534.32 202.15 M530.06 200.9 Q530.014 197.405 528.093 195.321 Q526.195 193.238 523.047 193.238 Q519.482 193.238 517.329 195.252 Q515.199 197.266 514.875 200.923 L530.06 200.9 Z\" fill=\"#000000\" fill-rule=\"evenodd\" fill-opacity=\"1\" /><path clip-path=\"url(#clip290)\" d=\"M556.38 180.159 L560.639 180.159 L560.639 216.178 L556.38 216.178 L556.38 180.159 Z\" fill=\"#000000\" fill-rule=\"evenodd\" fill-opacity=\"1\" /><path clip-path=\"url(#clip290)\" d=\"M569.551 190.252 L573.81 190.252 L573.81 216.178 L569.551 216.178 L569.551 190.252 M569.551 180.159 L573.81 180.159 L573.81 185.553 L569.551 185.553 L569.551 180.159 Z\" fill=\"#000000\" fill-rule=\"evenodd\" fill-opacity=\"1\" /><path clip-path=\"url(#clip290)\" d=\"M604.273 200.529 L604.273 216.178 L600.014 216.178 L600.014 200.668 Q600.014 196.988 598.579 195.159 Q597.143 193.33 594.273 193.33 Q590.824 193.33 588.833 195.53 Q586.843 197.729 586.843 201.525 L586.843 216.178 L582.56 216.178 L582.56 190.252 L586.843 190.252 L586.843 194.28 Q588.37 191.942 590.43 190.784 Q592.514 189.627 595.222 189.627 Q599.69 189.627 601.981 192.405 Q604.273 195.159 604.273 200.529 Z\" fill=\"#000000\" fill-rule=\"evenodd\" fill-opacity=\"1\" /><path clip-path=\"url(#clip290)\" d=\"M634.944 202.15 L634.944 204.233 L615.361 204.233 Q615.639 208.631 618 210.946 Q620.384 213.238 624.62 213.238 Q627.074 213.238 629.365 212.636 Q631.68 212.034 633.949 210.83 L633.949 214.858 Q631.657 215.83 629.25 216.34 Q626.842 216.849 624.365 216.849 Q618.162 216.849 614.528 213.238 Q610.916 209.627 610.916 203.469 Q610.916 197.104 614.342 193.377 Q617.791 189.627 623.625 189.627 Q628.856 189.627 631.889 193.006 Q634.944 196.363 634.944 202.15 M630.685 200.9 Q630.639 197.405 628.717 195.321 Q626.819 193.238 623.671 193.238 Q620.106 193.238 617.953 195.252 Q615.824 197.266 615.5 200.923 L630.685 200.9 Z\" fill=\"#000000\" fill-rule=\"evenodd\" fill-opacity=\"1\" /></svg>\n"
      ]
     },
     "execution_count": 12,
     "metadata": {},
     "output_type": "execute_result"
    }
   ],
   "source": [
    "y_true = x .^2 .+3 .*x .-2 \n",
    "plot!(x,y_true, label=\"True line\")"
   ]
  },
  {
   "cell_type": "code",
   "execution_count": 13,
   "id": "5e4aa9bd",
   "metadata": {},
   "outputs": [
    {
     "data": {
      "image/svg+xml": [
       "<?xml version=\"1.0\" encoding=\"utf-8\"?>\n",
       "<svg xmlns=\"http://www.w3.org/2000/svg\" xmlns:xlink=\"http://www.w3.org/1999/xlink\" width=\"600\" height=\"400\" viewBox=\"0 0 2400 1600\">\n",
       "<defs>\n",
       "  <clipPath id=\"clip330\">\n",
       "    <rect x=\"0\" y=\"0\" width=\"2400\" height=\"1600\"/>\n",
       "  </clipPath>\n",
       "</defs>\n",
       "<path clip-path=\"url(#clip330)\" d=\"M0 1600 L2400 1600 L2400 0 L0 0  Z\" fill=\"#ffffff\" fill-rule=\"evenodd\" fill-opacity=\"1\"/>\n",
       "<defs>\n",
       "  <clipPath id=\"clip331\">\n",
       "    <rect x=\"480\" y=\"0\" width=\"1681\" height=\"1600\"/>\n",
       "  </clipPath>\n",
       "</defs>\n",
       "<path clip-path=\"url(#clip330)\" d=\"M169.121 1486.45 L2352.76 1486.45 L2352.76 47.2441 L169.121 47.2441  Z\" fill=\"#ffffff\" fill-rule=\"evenodd\" fill-opacity=\"1\"/>\n",
       "<defs>\n",
       "  <clipPath id=\"clip332\">\n",
       "    <rect x=\"169\" y=\"47\" width=\"2185\" height=\"1440\"/>\n",
       "  </clipPath>\n",
       "</defs>\n",
       "<polyline clip-path=\"url(#clip332)\" style=\"stroke:#000000; stroke-linecap:round; stroke-linejoin:round; stroke-width:2; stroke-opacity:0.1; fill:none\" points=\"230.922,1486.45 230.922,47.2441 \"/>\n",
       "<polyline clip-path=\"url(#clip332)\" style=\"stroke:#000000; stroke-linecap:round; stroke-linejoin:round; stroke-width:2; stroke-opacity:0.1; fill:none\" points=\"745.93,1486.45 745.93,47.2441 \"/>\n",
       "<polyline clip-path=\"url(#clip332)\" style=\"stroke:#000000; stroke-linecap:round; stroke-linejoin:round; stroke-width:2; stroke-opacity:0.1; fill:none\" points=\"1260.94,1486.45 1260.94,47.2441 \"/>\n",
       "<polyline clip-path=\"url(#clip332)\" style=\"stroke:#000000; stroke-linecap:round; stroke-linejoin:round; stroke-width:2; stroke-opacity:0.1; fill:none\" points=\"1775.95,1486.45 1775.95,47.2441 \"/>\n",
       "<polyline clip-path=\"url(#clip332)\" style=\"stroke:#000000; stroke-linecap:round; stroke-linejoin:round; stroke-width:2; stroke-opacity:0.1; fill:none\" points=\"2290.95,1486.45 2290.95,47.2441 \"/>\n",
       "<polyline clip-path=\"url(#clip330)\" style=\"stroke:#000000; stroke-linecap:round; stroke-linejoin:round; stroke-width:4; stroke-opacity:1; fill:none\" points=\"169.121,1486.45 2352.76,1486.45 \"/>\n",
       "<polyline clip-path=\"url(#clip330)\" style=\"stroke:#000000; stroke-linecap:round; stroke-linejoin:round; stroke-width:4; stroke-opacity:1; fill:none\" points=\"230.922,1486.45 230.922,1467.55 \"/>\n",
       "<polyline clip-path=\"url(#clip330)\" style=\"stroke:#000000; stroke-linecap:round; stroke-linejoin:round; stroke-width:4; stroke-opacity:1; fill:none\" points=\"745.93,1486.45 745.93,1467.55 \"/>\n",
       "<polyline clip-path=\"url(#clip330)\" style=\"stroke:#000000; stroke-linecap:round; stroke-linejoin:round; stroke-width:4; stroke-opacity:1; fill:none\" points=\"1260.94,1486.45 1260.94,1467.55 \"/>\n",
       "<polyline clip-path=\"url(#clip330)\" style=\"stroke:#000000; stroke-linecap:round; stroke-linejoin:round; stroke-width:4; stroke-opacity:1; fill:none\" points=\"1775.95,1486.45 1775.95,1467.55 \"/>\n",
       "<polyline clip-path=\"url(#clip330)\" style=\"stroke:#000000; stroke-linecap:round; stroke-linejoin:round; stroke-width:4; stroke-opacity:1; fill:none\" points=\"2290.95,1486.45 2290.95,1467.55 \"/>\n",
       "<path clip-path=\"url(#clip330)\" d=\"M184.985 1532.02 L214.661 1532.02 L214.661 1535.95 L184.985 1535.95 L184.985 1532.02 Z\" fill=\"#000000\" fill-rule=\"evenodd\" fill-opacity=\"1\" /><path clip-path=\"url(#clip330)\" d=\"M225.564 1544.91 L233.202 1544.91 L233.202 1518.55 L224.892 1520.21 L224.892 1515.95 L233.156 1514.29 L237.832 1514.29 L237.832 1544.91 L245.471 1544.91 L245.471 1548.85 L225.564 1548.85 L225.564 1544.91 Z\" fill=\"#000000\" fill-rule=\"evenodd\" fill-opacity=\"1\" /><path clip-path=\"url(#clip330)\" d=\"M264.915 1517.37 Q261.304 1517.37 259.475 1520.93 Q257.67 1524.47 257.67 1531.6 Q257.67 1538.71 259.475 1542.27 Q261.304 1545.82 264.915 1545.82 Q268.549 1545.82 270.355 1542.27 Q272.184 1538.71 272.184 1531.6 Q272.184 1524.47 270.355 1520.93 Q268.549 1517.37 264.915 1517.37 M264.915 1513.66 Q270.725 1513.66 273.781 1518.27 Q276.86 1522.85 276.86 1531.6 Q276.86 1540.33 273.781 1544.94 Q270.725 1549.52 264.915 1549.52 Q259.105 1549.52 256.026 1544.94 Q252.971 1540.33 252.971 1531.6 Q252.971 1522.85 256.026 1518.27 Q259.105 1513.66 264.915 1513.66 Z\" fill=\"#000000\" fill-rule=\"evenodd\" fill-opacity=\"1\" /><path clip-path=\"url(#clip330)\" d=\"M715.572 1532.02 L745.248 1532.02 L745.248 1535.95 L715.572 1535.95 L715.572 1532.02 Z\" fill=\"#000000\" fill-rule=\"evenodd\" fill-opacity=\"1\" /><path clip-path=\"url(#clip330)\" d=\"M755.386 1514.29 L773.743 1514.29 L773.743 1518.22 L759.669 1518.22 L759.669 1526.7 Q760.687 1526.35 761.706 1526.19 Q762.724 1526 763.743 1526 Q769.53 1526 772.909 1529.17 Q776.289 1532.34 776.289 1537.76 Q776.289 1543.34 772.817 1546.44 Q769.345 1549.52 763.025 1549.52 Q760.849 1549.52 758.581 1549.15 Q756.335 1548.78 753.928 1548.04 L753.928 1543.34 Q756.011 1544.47 758.234 1545.03 Q760.456 1545.58 762.933 1545.58 Q766.937 1545.58 769.275 1543.48 Q771.613 1541.37 771.613 1537.76 Q771.613 1534.15 769.275 1532.04 Q766.937 1529.94 762.933 1529.94 Q761.058 1529.94 759.183 1530.35 Q757.331 1530.77 755.386 1531.65 L755.386 1514.29 Z\" fill=\"#000000\" fill-rule=\"evenodd\" fill-opacity=\"1\" /><path clip-path=\"url(#clip330)\" d=\"M1260.94 1517.37 Q1257.33 1517.37 1255.5 1520.93 Q1253.69 1524.47 1253.69 1531.6 Q1253.69 1538.71 1255.5 1542.27 Q1257.33 1545.82 1260.94 1545.82 Q1264.57 1545.82 1266.38 1542.27 Q1268.21 1538.71 1268.21 1531.6 Q1268.21 1524.47 1266.38 1520.93 Q1264.57 1517.37 1260.94 1517.37 M1260.94 1513.66 Q1266.75 1513.66 1269.8 1518.27 Q1272.88 1522.85 1272.88 1531.6 Q1272.88 1540.33 1269.8 1544.94 Q1266.75 1549.52 1260.94 1549.52 Q1255.13 1549.52 1252.05 1544.94 Q1248.99 1540.33 1248.99 1531.6 Q1248.99 1522.85 1252.05 1518.27 Q1255.13 1513.66 1260.94 1513.66 Z\" fill=\"#000000\" fill-rule=\"evenodd\" fill-opacity=\"1\" /><path clip-path=\"url(#clip330)\" d=\"M1766.22 1514.29 L1784.58 1514.29 L1784.58 1518.22 L1770.51 1518.22 L1770.51 1526.7 Q1771.53 1526.35 1772.54 1526.19 Q1773.56 1526 1774.58 1526 Q1780.37 1526 1783.75 1529.17 Q1787.13 1532.34 1787.13 1537.76 Q1787.13 1543.34 1783.66 1546.44 Q1780.18 1549.52 1773.86 1549.52 Q1771.69 1549.52 1769.42 1549.15 Q1767.17 1548.78 1764.77 1548.04 L1764.77 1543.34 Q1766.85 1544.47 1769.07 1545.03 Q1771.29 1545.58 1773.77 1545.58 Q1777.78 1545.58 1780.11 1543.48 Q1782.45 1541.37 1782.45 1537.76 Q1782.45 1534.15 1780.11 1532.04 Q1777.78 1529.94 1773.77 1529.94 Q1771.9 1529.94 1770.02 1530.35 Q1768.17 1530.77 1766.22 1531.65 L1766.22 1514.29 Z\" fill=\"#000000\" fill-rule=\"evenodd\" fill-opacity=\"1\" /><path clip-path=\"url(#clip330)\" d=\"M2265.64 1544.91 L2273.28 1544.91 L2273.28 1518.55 L2264.97 1520.21 L2264.97 1515.95 L2273.24 1514.29 L2277.91 1514.29 L2277.91 1544.91 L2285.55 1544.91 L2285.55 1548.85 L2265.64 1548.85 L2265.64 1544.91 Z\" fill=\"#000000\" fill-rule=\"evenodd\" fill-opacity=\"1\" /><path clip-path=\"url(#clip330)\" d=\"M2304.99 1517.37 Q2301.38 1517.37 2299.55 1520.93 Q2297.75 1524.47 2297.75 1531.6 Q2297.75 1538.71 2299.55 1542.27 Q2301.38 1545.82 2304.99 1545.82 Q2308.63 1545.82 2310.43 1542.27 Q2312.26 1538.71 2312.26 1531.6 Q2312.26 1524.47 2310.43 1520.93 Q2308.63 1517.37 2304.99 1517.37 M2304.99 1513.66 Q2310.8 1513.66 2313.86 1518.27 Q2316.94 1522.85 2316.94 1531.6 Q2316.94 1540.33 2313.86 1544.94 Q2310.8 1549.52 2304.99 1549.52 Q2299.18 1549.52 2296.11 1544.94 Q2293.05 1540.33 2293.05 1531.6 Q2293.05 1522.85 2296.11 1518.27 Q2299.18 1513.66 2304.99 1513.66 Z\" fill=\"#000000\" fill-rule=\"evenodd\" fill-opacity=\"1\" /><polyline clip-path=\"url(#clip332)\" style=\"stroke:#000000; stroke-linecap:round; stroke-linejoin:round; stroke-width:2; stroke-opacity:0.1; fill:none\" points=\"169.121,1394.87 2352.76,1394.87 \"/>\n",
       "<polyline clip-path=\"url(#clip332)\" style=\"stroke:#000000; stroke-linecap:round; stroke-linejoin:round; stroke-width:2; stroke-opacity:0.1; fill:none\" points=\"169.121,1194.6 2352.76,1194.6 \"/>\n",
       "<polyline clip-path=\"url(#clip332)\" style=\"stroke:#000000; stroke-linecap:round; stroke-linejoin:round; stroke-width:2; stroke-opacity:0.1; fill:none\" points=\"169.121,994.331 2352.76,994.331 \"/>\n",
       "<polyline clip-path=\"url(#clip332)\" style=\"stroke:#000000; stroke-linecap:round; stroke-linejoin:round; stroke-width:2; stroke-opacity:0.1; fill:none\" points=\"169.121,794.059 2352.76,794.059 \"/>\n",
       "<polyline clip-path=\"url(#clip332)\" style=\"stroke:#000000; stroke-linecap:round; stroke-linejoin:round; stroke-width:2; stroke-opacity:0.1; fill:none\" points=\"169.121,593.787 2352.76,593.787 \"/>\n",
       "<polyline clip-path=\"url(#clip332)\" style=\"stroke:#000000; stroke-linecap:round; stroke-linejoin:round; stroke-width:2; stroke-opacity:0.1; fill:none\" points=\"169.121,393.516 2352.76,393.516 \"/>\n",
       "<polyline clip-path=\"url(#clip332)\" style=\"stroke:#000000; stroke-linecap:round; stroke-linejoin:round; stroke-width:2; stroke-opacity:0.1; fill:none\" points=\"169.121,193.244 2352.76,193.244 \"/>\n",
       "<polyline clip-path=\"url(#clip330)\" style=\"stroke:#000000; stroke-linecap:round; stroke-linejoin:round; stroke-width:4; stroke-opacity:1; fill:none\" points=\"169.121,1486.45 169.121,47.2441 \"/>\n",
       "<polyline clip-path=\"url(#clip330)\" style=\"stroke:#000000; stroke-linecap:round; stroke-linejoin:round; stroke-width:4; stroke-opacity:1; fill:none\" points=\"169.121,1394.87 188.019,1394.87 \"/>\n",
       "<polyline clip-path=\"url(#clip330)\" style=\"stroke:#000000; stroke-linecap:round; stroke-linejoin:round; stroke-width:4; stroke-opacity:1; fill:none\" points=\"169.121,1194.6 188.019,1194.6 \"/>\n",
       "<polyline clip-path=\"url(#clip330)\" style=\"stroke:#000000; stroke-linecap:round; stroke-linejoin:round; stroke-width:4; stroke-opacity:1; fill:none\" points=\"169.121,994.331 188.019,994.331 \"/>\n",
       "<polyline clip-path=\"url(#clip330)\" style=\"stroke:#000000; stroke-linecap:round; stroke-linejoin:round; stroke-width:4; stroke-opacity:1; fill:none\" points=\"169.121,794.059 188.019,794.059 \"/>\n",
       "<polyline clip-path=\"url(#clip330)\" style=\"stroke:#000000; stroke-linecap:round; stroke-linejoin:round; stroke-width:4; stroke-opacity:1; fill:none\" points=\"169.121,593.787 188.019,593.787 \"/>\n",
       "<polyline clip-path=\"url(#clip330)\" style=\"stroke:#000000; stroke-linecap:round; stroke-linejoin:round; stroke-width:4; stroke-opacity:1; fill:none\" points=\"169.121,393.516 188.019,393.516 \"/>\n",
       "<polyline clip-path=\"url(#clip330)\" style=\"stroke:#000000; stroke-linecap:round; stroke-linejoin:round; stroke-width:4; stroke-opacity:1; fill:none\" points=\"169.121,193.244 188.019,193.244 \"/>\n",
       "<path clip-path=\"url(#clip330)\" d=\"M121.177 1380.67 Q117.566 1380.67 115.737 1384.24 Q113.932 1387.78 113.932 1394.91 Q113.932 1402.02 115.737 1405.58 Q117.566 1409.12 121.177 1409.12 Q124.811 1409.12 126.617 1405.58 Q128.445 1402.02 128.445 1394.91 Q128.445 1387.78 126.617 1384.24 Q124.811 1380.67 121.177 1380.67 M121.177 1376.97 Q126.987 1376.97 130.043 1381.58 Q133.121 1386.16 133.121 1394.91 Q133.121 1403.64 130.043 1408.24 Q126.987 1412.83 121.177 1412.83 Q115.367 1412.83 112.288 1408.24 Q109.233 1403.64 109.233 1394.91 Q109.233 1386.16 112.288 1381.58 Q115.367 1376.97 121.177 1376.97 Z\" fill=\"#000000\" fill-rule=\"evenodd\" fill-opacity=\"1\" /><path clip-path=\"url(#clip330)\" d=\"M85.0429 1207.95 L101.362 1207.95 L101.362 1211.88 L79.4179 1211.88 L79.4179 1207.95 Q82.0799 1205.19 86.6632 1200.56 Q91.2697 1195.91 92.4502 1194.57 Q94.6956 1192.04 95.5752 1190.31 Q96.478 1188.55 96.478 1186.86 Q96.478 1184.1 94.5336 1182.37 Q92.6123 1180.63 89.5104 1180.63 Q87.3114 1180.63 84.8577 1181.4 Q82.4271 1182.16 79.6494 1183.71 L79.6494 1178.99 Q82.4734 1177.85 84.9271 1177.28 Q87.3808 1176.7 89.4178 1176.7 Q94.7882 1176.7 97.9826 1179.38 Q101.177 1182.07 101.177 1186.56 Q101.177 1188.69 100.367 1190.61 Q99.5798 1192.51 97.4734 1195.1 Q96.8947 1195.77 93.7928 1198.99 Q90.691 1202.18 85.0429 1207.95 Z\" fill=\"#000000\" fill-rule=\"evenodd\" fill-opacity=\"1\" /><path clip-path=\"url(#clip330)\" d=\"M121.177 1180.4 Q117.566 1180.4 115.737 1183.97 Q113.932 1187.51 113.932 1194.64 Q113.932 1201.74 115.737 1205.31 Q117.566 1208.85 121.177 1208.85 Q124.811 1208.85 126.617 1205.31 Q128.445 1201.74 128.445 1194.64 Q128.445 1187.51 126.617 1183.97 Q124.811 1180.4 121.177 1180.4 M121.177 1176.7 Q126.987 1176.7 130.043 1181.3 Q133.121 1185.89 133.121 1194.64 Q133.121 1203.36 130.043 1207.97 Q126.987 1212.55 121.177 1212.55 Q115.367 1212.55 112.288 1207.97 Q109.233 1203.36 109.233 1194.64 Q109.233 1185.89 112.288 1181.3 Q115.367 1176.7 121.177 1176.7 Z\" fill=\"#000000\" fill-rule=\"evenodd\" fill-opacity=\"1\" /><path clip-path=\"url(#clip330)\" d=\"M93.8623 981.125 L82.0568 999.574 L93.8623 999.574 L93.8623 981.125 M92.6354 977.051 L98.515 977.051 L98.515 999.574 L103.446 999.574 L103.446 1003.46 L98.515 1003.46 L98.515 1011.61 L93.8623 1011.61 L93.8623 1003.46 L78.2605 1003.46 L78.2605 998.949 L92.6354 977.051 Z\" fill=\"#000000\" fill-rule=\"evenodd\" fill-opacity=\"1\" /><path clip-path=\"url(#clip330)\" d=\"M121.177 980.129 Q117.566 980.129 115.737 983.694 Q113.932 987.236 113.932 994.365 Q113.932 1001.47 115.737 1005.04 Q117.566 1008.58 121.177 1008.58 Q124.811 1008.58 126.617 1005.04 Q128.445 1001.47 128.445 994.365 Q128.445 987.236 126.617 983.694 Q124.811 980.129 121.177 980.129 M121.177 976.426 Q126.987 976.426 130.043 981.032 Q133.121 985.615 133.121 994.365 Q133.121 1003.09 130.043 1007.7 Q126.987 1012.28 121.177 1012.28 Q115.367 1012.28 112.288 1007.7 Q109.233 1003.09 109.233 994.365 Q109.233 985.615 112.288 981.032 Q115.367 976.426 121.177 976.426 Z\" fill=\"#000000\" fill-rule=\"evenodd\" fill-opacity=\"1\" /><path clip-path=\"url(#clip330)\" d=\"M91.5938 792.196 Q88.4456 792.196 86.5938 794.348 Q84.7651 796.501 84.7651 800.251 Q84.7651 803.978 86.5938 806.154 Q88.4456 808.307 91.5938 808.307 Q94.7419 808.307 96.5706 806.154 Q98.4224 803.978 98.4224 800.251 Q98.4224 796.501 96.5706 794.348 Q94.7419 792.196 91.5938 792.196 M100.876 777.543 L100.876 781.802 Q99.1169 780.969 97.3113 780.529 Q95.5289 780.089 93.7697 780.089 Q89.1401 780.089 86.6864 783.214 Q84.2558 786.339 83.9086 792.658 Q85.2743 790.645 87.3345 789.58 Q89.3947 788.492 91.8715 788.492 Q97.0798 788.492 100.089 791.663 Q103.121 794.811 103.121 800.251 Q103.121 805.575 99.9733 808.793 Q96.8252 812.01 91.5938 812.01 Q85.5984 812.01 82.4271 807.427 Q79.2559 802.82 79.2559 794.094 Q79.2559 785.899 83.1447 781.038 Q87.0336 776.154 93.5845 776.154 Q95.3437 776.154 97.1261 776.501 Q98.9317 776.848 100.876 777.543 Z\" fill=\"#000000\" fill-rule=\"evenodd\" fill-opacity=\"1\" /><path clip-path=\"url(#clip330)\" d=\"M121.177 779.858 Q117.566 779.858 115.737 783.422 Q113.932 786.964 113.932 794.094 Q113.932 801.2 115.737 804.765 Q117.566 808.307 121.177 808.307 Q124.811 808.307 126.617 804.765 Q128.445 801.2 128.445 794.094 Q128.445 786.964 126.617 783.422 Q124.811 779.858 121.177 779.858 M121.177 776.154 Q126.987 776.154 130.043 780.76 Q133.121 785.344 133.121 794.094 Q133.121 802.82 130.043 807.427 Q126.987 812.01 121.177 812.01 Q115.367 812.01 112.288 807.427 Q109.233 802.82 109.233 794.094 Q109.233 785.344 112.288 780.76 Q115.367 776.154 121.177 776.154 Z\" fill=\"#000000\" fill-rule=\"evenodd\" fill-opacity=\"1\" /><path clip-path=\"url(#clip330)\" d=\"M91.0151 594.655 Q87.6817 594.655 85.7605 596.438 Q83.8623 598.22 83.8623 601.345 Q83.8623 604.47 85.7605 606.252 Q87.6817 608.035 91.0151 608.035 Q94.3484 608.035 96.2697 606.252 Q98.1909 604.447 98.1909 601.345 Q98.1909 598.22 96.2697 596.438 Q94.3715 594.655 91.0151 594.655 M86.3392 592.665 Q83.3299 591.924 81.6401 589.864 Q79.9735 587.803 79.9735 584.841 Q79.9735 580.697 82.9133 578.29 Q85.8762 575.882 91.0151 575.882 Q96.1771 575.882 99.1169 578.29 Q102.057 580.697 102.057 584.841 Q102.057 587.803 100.367 589.864 Q98.7002 591.924 95.7141 592.665 Q99.0937 593.452 100.969 595.743 Q102.867 598.035 102.867 601.345 Q102.867 606.368 99.7882 609.053 Q96.7326 611.739 91.0151 611.739 Q85.2975 611.739 82.2188 609.053 Q79.1633 606.368 79.1633 601.345 Q79.1633 598.035 81.0614 595.743 Q82.9595 593.452 86.3392 592.665 M84.6262 585.28 Q84.6262 587.966 86.2929 589.47 Q87.9827 590.975 91.0151 590.975 Q94.0243 590.975 95.7141 589.47 Q97.4271 587.966 97.4271 585.28 Q97.4271 582.595 95.7141 581.091 Q94.0243 579.586 91.0151 579.586 Q87.9827 579.586 86.2929 581.091 Q84.6262 582.595 84.6262 585.28 Z\" fill=\"#000000\" fill-rule=\"evenodd\" fill-opacity=\"1\" /><path clip-path=\"url(#clip330)\" d=\"M121.177 579.586 Q117.566 579.586 115.737 583.151 Q113.932 586.692 113.932 593.822 Q113.932 600.928 115.737 604.493 Q117.566 608.035 121.177 608.035 Q124.811 608.035 126.617 604.493 Q128.445 600.928 128.445 593.822 Q128.445 586.692 126.617 583.151 Q124.811 579.586 121.177 579.586 M121.177 575.882 Q126.987 575.882 130.043 580.489 Q133.121 585.072 133.121 593.822 Q133.121 602.549 130.043 607.155 Q126.987 611.739 121.177 611.739 Q115.367 611.739 112.288 607.155 Q109.233 602.549 109.233 593.822 Q109.233 585.072 112.288 580.489 Q115.367 575.882 121.177 575.882 Z\" fill=\"#000000\" fill-rule=\"evenodd\" fill-opacity=\"1\" /><path clip-path=\"url(#clip330)\" d=\"M51.6634 406.86 L59.3023 406.86 L59.3023 380.495 L50.9921 382.161 L50.9921 377.902 L59.256 376.236 L63.9319 376.236 L63.9319 406.86 L71.5707 406.86 L71.5707 410.796 L51.6634 410.796 L51.6634 406.86 Z\" fill=\"#000000\" fill-rule=\"evenodd\" fill-opacity=\"1\" /><path clip-path=\"url(#clip330)\" d=\"M91.0151 379.314 Q87.404 379.314 85.5753 382.879 Q83.7697 386.421 83.7697 393.55 Q83.7697 400.657 85.5753 404.221 Q87.404 407.763 91.0151 407.763 Q94.6493 407.763 96.4548 404.221 Q98.2835 400.657 98.2835 393.55 Q98.2835 386.421 96.4548 382.879 Q94.6493 379.314 91.0151 379.314 M91.0151 375.611 Q96.8252 375.611 99.8808 380.217 Q102.959 384.8 102.959 393.55 Q102.959 402.277 99.8808 406.884 Q96.8252 411.467 91.0151 411.467 Q85.2049 411.467 82.1262 406.884 Q79.0707 402.277 79.0707 393.55 Q79.0707 384.8 82.1262 380.217 Q85.2049 375.611 91.0151 375.611 Z\" fill=\"#000000\" fill-rule=\"evenodd\" fill-opacity=\"1\" /><path clip-path=\"url(#clip330)\" d=\"M121.177 379.314 Q117.566 379.314 115.737 382.879 Q113.932 386.421 113.932 393.55 Q113.932 400.657 115.737 404.221 Q117.566 407.763 121.177 407.763 Q124.811 407.763 126.617 404.221 Q128.445 400.657 128.445 393.55 Q128.445 386.421 126.617 382.879 Q124.811 379.314 121.177 379.314 M121.177 375.611 Q126.987 375.611 130.043 380.217 Q133.121 384.8 133.121 393.55 Q133.121 402.277 130.043 406.884 Q126.987 411.467 121.177 411.467 Q115.367 411.467 112.288 406.884 Q109.233 402.277 109.233 393.55 Q109.233 384.8 112.288 380.217 Q115.367 375.611 121.177 375.611 Z\" fill=\"#000000\" fill-rule=\"evenodd\" fill-opacity=\"1\" /><path clip-path=\"url(#clip330)\" d=\"M51.6634 206.589 L59.3023 206.589 L59.3023 180.223 L50.9921 181.89 L50.9921 177.63 L59.256 175.964 L63.9319 175.964 L63.9319 206.589 L71.5707 206.589 L71.5707 210.524 L51.6634 210.524 L51.6634 206.589 Z\" fill=\"#000000\" fill-rule=\"evenodd\" fill-opacity=\"1\" /><path clip-path=\"url(#clip330)\" d=\"M85.0429 206.589 L101.362 206.589 L101.362 210.524 L79.4179 210.524 L79.4179 206.589 Q82.0799 203.834 86.6632 199.204 Q91.2697 194.552 92.4502 193.209 Q94.6956 190.686 95.5752 188.95 Q96.478 187.191 96.478 185.501 Q96.478 182.746 94.5336 181.01 Q92.6123 179.274 89.5104 179.274 Q87.3114 179.274 84.8577 180.038 Q82.4271 180.802 79.6494 182.353 L79.6494 177.63 Q82.4734 176.496 84.9271 175.918 Q87.3808 175.339 89.4178 175.339 Q94.7882 175.339 97.9826 178.024 Q101.177 180.709 101.177 185.2 Q101.177 187.33 100.367 189.251 Q99.5798 191.149 97.4734 193.742 Q96.8947 194.413 93.7928 197.63 Q90.691 200.825 85.0429 206.589 Z\" fill=\"#000000\" fill-rule=\"evenodd\" fill-opacity=\"1\" /><path clip-path=\"url(#clip330)\" d=\"M121.177 179.043 Q117.566 179.043 115.737 182.607 Q113.932 186.149 113.932 193.279 Q113.932 200.385 115.737 203.95 Q117.566 207.491 121.177 207.491 Q124.811 207.491 126.617 203.95 Q128.445 200.385 128.445 193.279 Q128.445 186.149 126.617 182.607 Q124.811 179.043 121.177 179.043 M121.177 175.339 Q126.987 175.339 130.043 179.945 Q133.121 184.529 133.121 193.279 Q133.121 202.005 130.043 206.612 Q126.987 211.195 121.177 211.195 Q115.367 211.195 112.288 206.612 Q109.233 202.005 109.233 193.279 Q109.233 184.529 112.288 179.945 Q115.367 175.339 121.177 175.339 Z\" fill=\"#000000\" fill-rule=\"evenodd\" fill-opacity=\"1\" /><circle clip-path=\"url(#clip332)\" cx=\"230.922\" cy=\"910.988\" r=\"14.4\" fill=\"#009af9\" fill-rule=\"evenodd\" fill-opacity=\"1\" stroke=\"#000000\" stroke-opacity=\"1\" stroke-width=\"3.2\"/>\n",
       "<circle clip-path=\"url(#clip332)\" cx=\"333.924\" cy=\"849.118\" r=\"14.4\" fill=\"#009af9\" fill-rule=\"evenodd\" fill-opacity=\"1\" stroke=\"#000000\" stroke-opacity=\"1\" stroke-width=\"3.2\"/>\n",
       "<circle clip-path=\"url(#clip332)\" cx=\"436.926\" cy=\"908.755\" r=\"14.4\" fill=\"#009af9\" fill-rule=\"evenodd\" fill-opacity=\"1\" stroke=\"#000000\" stroke-opacity=\"1\" stroke-width=\"3.2\"/>\n",
       "<circle clip-path=\"url(#clip332)\" cx=\"539.927\" cy=\"1208.61\" r=\"14.4\" fill=\"#009af9\" fill-rule=\"evenodd\" fill-opacity=\"1\" stroke=\"#000000\" stroke-opacity=\"1\" stroke-width=\"3.2\"/>\n",
       "<circle clip-path=\"url(#clip332)\" cx=\"642.929\" cy=\"1179.66\" r=\"14.4\" fill=\"#009af9\" fill-rule=\"evenodd\" fill-opacity=\"1\" stroke=\"#000000\" stroke-opacity=\"1\" stroke-width=\"3.2\"/>\n",
       "<circle clip-path=\"url(#clip332)\" cx=\"745.93\" cy=\"1341.91\" r=\"14.4\" fill=\"#009af9\" fill-rule=\"evenodd\" fill-opacity=\"1\" stroke=\"#000000\" stroke-opacity=\"1\" stroke-width=\"3.2\"/>\n",
       "<circle clip-path=\"url(#clip332)\" cx=\"848.932\" cy=\"1425.95\" r=\"14.4\" fill=\"#009af9\" fill-rule=\"evenodd\" fill-opacity=\"1\" stroke=\"#000000\" stroke-opacity=\"1\" stroke-width=\"3.2\"/>\n",
       "<circle clip-path=\"url(#clip332)\" cx=\"951.934\" cy=\"1411.48\" r=\"14.4\" fill=\"#009af9\" fill-rule=\"evenodd\" fill-opacity=\"1\" stroke=\"#000000\" stroke-opacity=\"1\" stroke-width=\"3.2\"/>\n",
       "<circle clip-path=\"url(#clip332)\" cx=\"1054.94\" cy=\"1445.72\" r=\"14.4\" fill=\"#009af9\" fill-rule=\"evenodd\" fill-opacity=\"1\" stroke=\"#000000\" stroke-opacity=\"1\" stroke-width=\"3.2\"/>\n",
       "<circle clip-path=\"url(#clip332)\" cx=\"1157.94\" cy=\"1439.65\" r=\"14.4\" fill=\"#009af9\" fill-rule=\"evenodd\" fill-opacity=\"1\" stroke=\"#000000\" stroke-opacity=\"1\" stroke-width=\"3.2\"/>\n",
       "<circle clip-path=\"url(#clip332)\" cx=\"1260.94\" cy=\"1292.13\" r=\"14.4\" fill=\"#009af9\" fill-rule=\"evenodd\" fill-opacity=\"1\" stroke=\"#000000\" stroke-opacity=\"1\" stroke-width=\"3.2\"/>\n",
       "<circle clip-path=\"url(#clip332)\" cx=\"1363.94\" cy=\"1393.03\" r=\"14.4\" fill=\"#009af9\" fill-rule=\"evenodd\" fill-opacity=\"1\" stroke=\"#000000\" stroke-opacity=\"1\" stroke-width=\"3.2\"/>\n",
       "<circle clip-path=\"url(#clip332)\" cx=\"1466.94\" cy=\"1234.57\" r=\"14.4\" fill=\"#009af9\" fill-rule=\"evenodd\" fill-opacity=\"1\" stroke=\"#000000\" stroke-opacity=\"1\" stroke-width=\"3.2\"/>\n",
       "<circle clip-path=\"url(#clip332)\" cx=\"1569.94\" cy=\"1175.64\" r=\"14.4\" fill=\"#009af9\" fill-rule=\"evenodd\" fill-opacity=\"1\" stroke=\"#000000\" stroke-opacity=\"1\" stroke-width=\"3.2\"/>\n",
       "<circle clip-path=\"url(#clip332)\" cx=\"1672.95\" cy=\"1186.2\" r=\"14.4\" fill=\"#009af9\" fill-rule=\"evenodd\" fill-opacity=\"1\" stroke=\"#000000\" stroke-opacity=\"1\" stroke-width=\"3.2\"/>\n",
       "<circle clip-path=\"url(#clip332)\" cx=\"1775.95\" cy=\"966.786\" r=\"14.4\" fill=\"#009af9\" fill-rule=\"evenodd\" fill-opacity=\"1\" stroke=\"#000000\" stroke-opacity=\"1\" stroke-width=\"3.2\"/>\n",
       "<circle clip-path=\"url(#clip332)\" cx=\"1878.95\" cy=\"832.881\" r=\"14.4\" fill=\"#009af9\" fill-rule=\"evenodd\" fill-opacity=\"1\" stroke=\"#000000\" stroke-opacity=\"1\" stroke-width=\"3.2\"/>\n",
       "<circle clip-path=\"url(#clip332)\" cx=\"1981.95\" cy=\"868.103\" r=\"14.4\" fill=\"#009af9\" fill-rule=\"evenodd\" fill-opacity=\"1\" stroke=\"#000000\" stroke-opacity=\"1\" stroke-width=\"3.2\"/>\n",
       "<circle clip-path=\"url(#clip332)\" cx=\"2084.95\" cy=\"611.391\" r=\"14.4\" fill=\"#009af9\" fill-rule=\"evenodd\" fill-opacity=\"1\" stroke=\"#000000\" stroke-opacity=\"1\" stroke-width=\"3.2\"/>\n",
       "<circle clip-path=\"url(#clip332)\" cx=\"2187.95\" cy=\"268.848\" r=\"14.4\" fill=\"#009af9\" fill-rule=\"evenodd\" fill-opacity=\"1\" stroke=\"#000000\" stroke-opacity=\"1\" stroke-width=\"3.2\"/>\n",
       "<circle clip-path=\"url(#clip332)\" cx=\"2290.95\" cy=\"87.9763\" r=\"14.4\" fill=\"#009af9\" fill-rule=\"evenodd\" fill-opacity=\"1\" stroke=\"#000000\" stroke-opacity=\"1\" stroke-width=\"3.2\"/>\n",
       "<polyline clip-path=\"url(#clip332)\" style=\"stroke:#e26f46; stroke-linecap:round; stroke-linejoin:round; stroke-width:4; stroke-opacity:1; fill:none\" points=\"230.922,713.95 333.924,874.168 436.926,1014.36 539.927,1134.52 642.929,1234.66 745.93,1314.77 848.932,1374.85 951.934,1414.9 1054.94,1434.93 1157.94,1434.93 1260.94,1414.9 1363.94,1374.85 1466.94,1314.77 1569.94,1234.66 1672.95,1134.52 1775.95,1014.36 1878.95,874.168 1981.95,713.95 2084.95,533.706 2187.95,333.434 2290.95,113.135 \"/>\n",
       "<polyline clip-path=\"url(#clip332)\" style=\"stroke:#3da44d; stroke-linecap:round; stroke-linejoin:round; stroke-width:4; stroke-opacity:1; fill:none\" points=\"230.922,1365.17 333.924,1333.6 436.926,1302.03 539.927,1270.46 642.929,1238.9 745.93,1207.33 848.932,1175.76 951.934,1144.2 1054.94,1112.63 1157.94,1081.06 1260.94,1049.49 1363.94,1017.93 1466.94,986.36 1569.94,954.793 1672.95,923.226 1775.95,891.659 1878.95,860.091 1981.95,828.524 2084.95,796.957 2187.95,765.39 2290.95,733.823 \"/>\n",
       "<path clip-path=\"url(#clip330)\" d=\"M241.909 302.578 L687.146 302.578 L687.146 95.2176 L241.909 95.2176  Z\" fill=\"#ffffff\" fill-rule=\"evenodd\" fill-opacity=\"1\"/>\n",
       "<polyline clip-path=\"url(#clip330)\" style=\"stroke:#000000; stroke-linecap:round; stroke-linejoin:round; stroke-width:4; stroke-opacity:1; fill:none\" points=\"241.909,302.578 687.146,302.578 687.146,95.2176 241.909,95.2176 241.909,302.578 \"/>\n",
       "<circle clip-path=\"url(#clip330)\" cx=\"338.96\" cy=\"147.058\" r=\"23.04\" fill=\"#009af9\" fill-rule=\"evenodd\" fill-opacity=\"1\" stroke=\"#000000\" stroke-opacity=\"1\" stroke-width=\"5.12\"/>\n",
       "<path clip-path=\"url(#clip330)\" d=\"M454.922 142.347 L454.922 128.319 L459.181 128.319 L459.181 164.338 L454.922 164.338 L454.922 160.449 Q453.579 162.763 451.519 163.898 Q449.482 165.009 446.612 165.009 Q441.913 165.009 438.95 161.259 Q436.01 157.509 436.01 151.398 Q436.01 145.287 438.95 141.537 Q441.913 137.787 446.612 137.787 Q449.482 137.787 451.519 138.921 Q453.579 140.032 454.922 142.347 M440.408 151.398 Q440.408 156.097 442.329 158.782 Q444.274 161.444 447.653 161.444 Q451.033 161.444 452.977 158.782 Q454.922 156.097 454.922 151.398 Q454.922 146.699 452.977 144.037 Q451.033 141.352 447.653 141.352 Q444.274 141.352 442.329 144.037 Q440.408 146.699 440.408 151.398 Z\" fill=\"#000000\" fill-rule=\"evenodd\" fill-opacity=\"1\" /><path clip-path=\"url(#clip330)\" d=\"M479.737 151.305 Q474.575 151.305 472.584 152.486 Q470.593 153.666 470.593 156.514 Q470.593 158.782 472.075 160.125 Q473.579 161.444 476.149 161.444 Q479.69 161.444 481.82 158.944 Q483.973 156.421 483.973 152.254 L483.973 151.305 L479.737 151.305 M488.232 149.546 L488.232 164.338 L483.973 164.338 L483.973 160.402 Q482.514 162.763 480.338 163.898 Q478.163 165.009 475.014 165.009 Q471.033 165.009 468.672 162.787 Q466.334 160.541 466.334 156.791 Q466.334 152.416 469.251 150.194 Q472.19 147.972 478.001 147.972 L483.973 147.972 L483.973 147.555 Q483.973 144.615 482.028 143.018 Q480.107 141.398 476.612 141.398 Q474.389 141.398 472.283 141.93 Q470.176 142.463 468.232 143.527 L468.232 139.592 Q470.57 138.69 472.769 138.25 Q474.968 137.787 477.051 137.787 Q482.676 137.787 485.454 140.703 Q488.232 143.62 488.232 149.546 Z\" fill=\"#000000\" fill-rule=\"evenodd\" fill-opacity=\"1\" /><path clip-path=\"url(#clip330)\" d=\"M501.218 131.051 L501.218 138.412 L509.991 138.412 L509.991 141.722 L501.218 141.722 L501.218 155.796 Q501.218 158.967 502.074 159.87 Q502.954 160.773 505.616 160.773 L509.991 160.773 L509.991 164.338 L505.616 164.338 Q500.686 164.338 498.811 162.509 Q496.936 160.657 496.936 155.796 L496.936 141.722 L493.811 141.722 L493.811 138.412 L496.936 138.412 L496.936 131.051 L501.218 131.051 Z\" fill=\"#000000\" fill-rule=\"evenodd\" fill-opacity=\"1\" /><path clip-path=\"url(#clip330)\" d=\"M527.375 151.305 Q522.213 151.305 520.222 152.486 Q518.232 153.666 518.232 156.514 Q518.232 158.782 519.713 160.125 Q521.218 161.444 523.787 161.444 Q527.329 161.444 529.459 158.944 Q531.611 156.421 531.611 152.254 L531.611 151.305 L527.375 151.305 M535.871 149.546 L535.871 164.338 L531.611 164.338 L531.611 160.402 Q530.153 162.763 527.977 163.898 Q525.801 165.009 522.653 165.009 Q518.672 165.009 516.31 162.787 Q513.973 160.541 513.973 156.791 Q513.973 152.416 516.889 150.194 Q519.829 147.972 525.639 147.972 L531.611 147.972 L531.611 147.555 Q531.611 144.615 529.667 143.018 Q527.746 141.398 524.25 141.398 Q522.028 141.398 519.922 141.93 Q517.815 142.463 515.871 143.527 L515.871 139.592 Q518.209 138.69 520.408 138.25 Q522.607 137.787 524.69 137.787 Q530.315 137.787 533.093 140.703 Q535.871 143.62 535.871 149.546 Z\" fill=\"#000000\" fill-rule=\"evenodd\" fill-opacity=\"1\" /><polyline clip-path=\"url(#clip330)\" style=\"stroke:#e26f46; stroke-linecap:round; stroke-linejoin:round; stroke-width:4; stroke-opacity:1; fill:none\" points=\"266.172,198.898 411.747,198.898 \"/>\n",
       "<path clip-path=\"url(#clip330)\" d=\"M436.01 181.618 L465.246 181.618 L465.246 185.553 L452.977 185.553 L452.977 216.178 L448.278 216.178 L448.278 185.553 L436.01 185.553 L436.01 181.618 Z\" fill=\"#000000\" fill-rule=\"evenodd\" fill-opacity=\"1\" /><path clip-path=\"url(#clip330)\" d=\"M477.63 194.233 Q476.913 193.817 476.056 193.631 Q475.223 193.423 474.204 193.423 Q470.593 193.423 468.649 195.784 Q466.727 198.122 466.727 202.52 L466.727 216.178 L462.445 216.178 L462.445 190.252 L466.727 190.252 L466.727 194.28 Q468.07 191.918 470.223 190.784 Q472.376 189.627 475.454 189.627 Q475.894 189.627 476.426 189.696 Q476.959 189.743 477.607 189.858 L477.63 194.233 Z\" fill=\"#000000\" fill-rule=\"evenodd\" fill-opacity=\"1\" /><path clip-path=\"url(#clip330)\" d=\"M481.658 205.946 L481.658 190.252 L485.917 190.252 L485.917 205.784 Q485.917 209.465 487.352 211.316 Q488.787 213.145 491.658 213.145 Q495.107 213.145 497.098 210.946 Q499.112 208.747 499.112 204.951 L499.112 190.252 L503.371 190.252 L503.371 216.178 L499.112 216.178 L499.112 212.196 Q497.561 214.557 495.5 215.715 Q493.463 216.849 490.755 216.849 Q486.287 216.849 483.973 214.071 Q481.658 211.293 481.658 205.946 M492.375 189.627 L492.375 189.627 Z\" fill=\"#000000\" fill-rule=\"evenodd\" fill-opacity=\"1\" /><path clip-path=\"url(#clip330)\" d=\"M534.32 202.15 L534.32 204.233 L514.736 204.233 Q515.014 208.631 517.375 210.946 Q519.76 213.238 523.996 213.238 Q526.449 213.238 528.741 212.636 Q531.056 212.034 533.324 210.83 L533.324 214.858 Q531.033 215.83 528.625 216.34 Q526.218 216.849 523.741 216.849 Q517.537 216.849 513.903 213.238 Q510.292 209.627 510.292 203.469 Q510.292 197.104 513.718 193.377 Q517.167 189.627 523 189.627 Q528.232 189.627 531.264 193.006 Q534.32 196.363 534.32 202.15 M530.06 200.9 Q530.014 197.405 528.093 195.321 Q526.195 193.238 523.047 193.238 Q519.482 193.238 517.329 195.252 Q515.199 197.266 514.875 200.923 L530.06 200.9 Z\" fill=\"#000000\" fill-rule=\"evenodd\" fill-opacity=\"1\" /><path clip-path=\"url(#clip330)\" d=\"M556.38 180.159 L560.639 180.159 L560.639 216.178 L556.38 216.178 L556.38 180.159 Z\" fill=\"#000000\" fill-rule=\"evenodd\" fill-opacity=\"1\" /><path clip-path=\"url(#clip330)\" d=\"M569.551 190.252 L573.81 190.252 L573.81 216.178 L569.551 216.178 L569.551 190.252 M569.551 180.159 L573.81 180.159 L573.81 185.553 L569.551 185.553 L569.551 180.159 Z\" fill=\"#000000\" fill-rule=\"evenodd\" fill-opacity=\"1\" /><path clip-path=\"url(#clip330)\" d=\"M604.273 200.529 L604.273 216.178 L600.014 216.178 L600.014 200.668 Q600.014 196.988 598.579 195.159 Q597.143 193.33 594.273 193.33 Q590.824 193.33 588.833 195.53 Q586.843 197.729 586.843 201.525 L586.843 216.178 L582.56 216.178 L582.56 190.252 L586.843 190.252 L586.843 194.28 Q588.37 191.942 590.43 190.784 Q592.514 189.627 595.222 189.627 Q599.69 189.627 601.981 192.405 Q604.273 195.159 604.273 200.529 Z\" fill=\"#000000\" fill-rule=\"evenodd\" fill-opacity=\"1\" /><path clip-path=\"url(#clip330)\" d=\"M634.944 202.15 L634.944 204.233 L615.361 204.233 Q615.639 208.631 618 210.946 Q620.384 213.238 624.62 213.238 Q627.074 213.238 629.365 212.636 Q631.68 212.034 633.949 210.83 L633.949 214.858 Q631.657 215.83 629.25 216.34 Q626.842 216.849 624.365 216.849 Q618.162 216.849 614.528 213.238 Q610.916 209.627 610.916 203.469 Q610.916 197.104 614.342 193.377 Q617.791 189.627 623.625 189.627 Q628.856 189.627 631.889 193.006 Q634.944 196.363 634.944 202.15 M630.685 200.9 Q630.639 197.405 628.717 195.321 Q626.819 193.238 623.671 193.238 Q620.106 193.238 617.953 195.252 Q615.824 197.266 615.5 200.923 L630.685 200.9 Z\" fill=\"#000000\" fill-rule=\"evenodd\" fill-opacity=\"1\" /><polyline clip-path=\"url(#clip330)\" style=\"stroke:#3da44d; stroke-linecap:round; stroke-linejoin:round; stroke-width:4; stroke-opacity:1; fill:none\" points=\"266.172,250.738 411.747,250.738 \"/>\n",
       "<path clip-path=\"url(#clip330)\" d=\"M436.01 233.458 L455.871 233.458 L455.871 237.393 L440.686 237.393 L440.686 247.578 L454.39 247.578 L454.39 251.513 L440.686 251.513 L440.686 268.018 L436.01 268.018 L436.01 233.458 Z\" fill=\"#000000\" fill-rule=\"evenodd\" fill-opacity=\"1\" /><path clip-path=\"url(#clip330)\" d=\"M459.644 242.092 L463.903 242.092 L463.903 268.018 L459.644 268.018 L459.644 242.092 M459.644 231.999 L463.903 231.999 L463.903 237.393 L459.644 237.393 L459.644 231.999 Z\" fill=\"#000000\" fill-rule=\"evenodd\" fill-opacity=\"1\" /><path clip-path=\"url(#clip330)\" d=\"M477.028 234.731 L477.028 242.092 L485.801 242.092 L485.801 245.402 L477.028 245.402 L477.028 259.476 Q477.028 262.647 477.885 263.55 Q478.764 264.453 481.426 264.453 L485.801 264.453 L485.801 268.018 L481.426 268.018 Q476.496 268.018 474.621 266.189 Q472.746 264.337 472.746 259.476 L472.746 245.402 L469.621 245.402 L469.621 242.092 L472.746 242.092 L472.746 234.731 L477.028 234.731 Z\" fill=\"#000000\" fill-rule=\"evenodd\" fill-opacity=\"1\" /><path clip-path=\"url(#clip330)\" d=\"M495.616 234.731 L495.616 242.092 L504.389 242.092 L504.389 245.402 L495.616 245.402 L495.616 259.476 Q495.616 262.647 496.473 263.55 Q497.352 264.453 500.014 264.453 L504.389 264.453 L504.389 268.018 L500.014 268.018 Q495.084 268.018 493.209 266.189 Q491.334 264.337 491.334 259.476 L491.334 245.402 L488.209 245.402 L488.209 242.092 L491.334 242.092 L491.334 234.731 L495.616 234.731 Z\" fill=\"#000000\" fill-rule=\"evenodd\" fill-opacity=\"1\" /><path clip-path=\"url(#clip330)\" d=\"M532.167 253.99 L532.167 256.073 L512.584 256.073 Q512.861 260.471 515.223 262.786 Q517.607 265.078 521.843 265.078 Q524.297 265.078 526.588 264.476 Q528.903 263.874 531.172 262.67 L531.172 266.698 Q528.88 267.67 526.472 268.18 Q524.065 268.689 521.588 268.689 Q515.385 268.689 511.75 265.078 Q508.139 261.467 508.139 255.309 Q508.139 248.944 511.565 245.217 Q515.014 241.467 520.847 241.467 Q526.079 241.467 529.111 244.846 Q532.167 248.203 532.167 253.99 M527.908 252.74 Q527.861 249.245 525.94 247.161 Q524.042 245.078 520.894 245.078 Q517.329 245.078 515.176 247.092 Q513.047 249.106 512.723 252.763 L527.908 252.74 Z\" fill=\"#000000\" fill-rule=\"evenodd\" fill-opacity=\"1\" /><path clip-path=\"url(#clip330)\" d=\"M556.218 246.027 L556.218 231.999 L560.477 231.999 L560.477 268.018 L556.218 268.018 L556.218 264.129 Q554.875 266.443 552.815 267.578 Q550.778 268.689 547.908 268.689 Q543.208 268.689 540.246 264.939 Q537.306 261.189 537.306 255.078 Q537.306 248.967 540.246 245.217 Q543.208 241.467 547.908 241.467 Q550.778 241.467 552.815 242.601 Q554.875 243.712 556.218 246.027 M541.704 255.078 Q541.704 259.777 543.625 262.462 Q545.57 265.124 548.949 265.124 Q552.329 265.124 554.273 262.462 Q556.218 259.777 556.218 255.078 Q556.218 250.379 554.273 247.717 Q552.329 245.032 548.949 245.032 Q545.57 245.032 543.625 247.717 Q541.704 250.379 541.704 255.078 Z\" fill=\"#000000\" fill-rule=\"evenodd\" fill-opacity=\"1\" /><path clip-path=\"url(#clip330)\" d=\"M584.319 231.999 L588.579 231.999 L588.579 268.018 L584.319 268.018 L584.319 231.999 Z\" fill=\"#000000\" fill-rule=\"evenodd\" fill-opacity=\"1\" /><path clip-path=\"url(#clip330)\" d=\"M597.491 242.092 L601.75 242.092 L601.75 268.018 L597.491 268.018 L597.491 242.092 M597.491 231.999 L601.75 231.999 L601.75 237.393 L597.491 237.393 L597.491 231.999 Z\" fill=\"#000000\" fill-rule=\"evenodd\" fill-opacity=\"1\" /><path clip-path=\"url(#clip330)\" d=\"M632.213 252.369 L632.213 268.018 L627.953 268.018 L627.953 252.508 Q627.953 248.828 626.518 246.999 Q625.083 245.17 622.213 245.17 Q618.764 245.17 616.773 247.37 Q614.782 249.569 614.782 253.365 L614.782 268.018 L610.5 268.018 L610.5 242.092 L614.782 242.092 L614.782 246.12 Q616.31 243.782 618.37 242.624 Q620.453 241.467 623.162 241.467 Q627.629 241.467 629.921 244.245 Q632.213 246.999 632.213 252.369 Z\" fill=\"#000000\" fill-rule=\"evenodd\" fill-opacity=\"1\" /><path clip-path=\"url(#clip330)\" d=\"M662.884 253.99 L662.884 256.073 L643.301 256.073 Q643.578 260.471 645.939 262.786 Q648.324 265.078 652.56 265.078 Q655.013 265.078 657.305 264.476 Q659.62 263.874 661.888 262.67 L661.888 266.698 Q659.597 267.67 657.189 268.18 Q654.782 268.689 652.305 268.689 Q646.101 268.689 642.467 265.078 Q638.856 261.467 638.856 255.309 Q638.856 248.944 642.282 245.217 Q645.731 241.467 651.564 241.467 Q656.796 241.467 659.828 244.846 Q662.884 248.203 662.884 253.99 M658.625 252.74 Q658.578 249.245 656.657 247.161 Q654.759 245.078 651.611 245.078 Q648.046 245.078 645.893 247.092 Q643.764 249.106 643.439 252.763 L658.625 252.74 Z\" fill=\"#000000\" fill-rule=\"evenodd\" fill-opacity=\"1\" /></svg>\n"
      ]
     },
     "execution_count": 13,
     "metadata": {},
     "output_type": "execute_result"
    }
   ],
   "source": [
    "y_observed =  x .^2 .+3 .*x .-2  + rand(d,length(x))\n",
    "y_true =  x .^2 .+3 .*x .-2 \n",
    "line_fit = fit(x,y_observed,1)\n",
    "fit_coeff = coeffs(line_fit)\n",
    "y_fitted = fit_coeff[1] .+ fit_coeff[2] .*x\n",
    "scatter(x,y_observed, label=\"data\")\n",
    "plot!(x,y_true, label=\"True line\")\n",
    "plot!(x,y_fitted,label=\"Fitted line\")"
   ]
  },
  {
   "cell_type": "markdown",
   "id": "b3b5a343",
   "metadata": {},
   "source": [
    "### 2.4\n",
    "\n",
    "1. Repeat 2.2 and 2.3 with a noise with a standard deviation of 50"
   ]
  },
  {
   "cell_type": "code",
   "execution_count": 14,
   "id": "b4c08499",
   "metadata": {
    "scrolled": true
   },
   "outputs": [
    {
     "data": {
      "text/plain": [
       "Distributions.Normal{Float64}(μ=0.0, σ=50.0)"
      ]
     },
     "execution_count": 14,
     "metadata": {},
     "output_type": "execute_result"
    }
   ],
   "source": [
    "dataerr = 50.0\n",
    "d = di.Normal(0,dataerr)"
   ]
  },
  {
   "cell_type": "code",
   "execution_count": 15,
   "id": "38ef74e3",
   "metadata": {},
   "outputs": [
    {
     "data": {
      "text/plain": [
       "21-element Vector{Float64}:\n",
       "  50.9712018613682\n",
       "   6.229159447261907\n",
       " -36.55956763254102\n",
       "  -5.763682014968396\n",
       " -12.139992938259102\n",
       "   8.48007038843797\n",
       " 101.796320816892\n",
       "  58.656827487199685\n",
       "  19.299748428847973\n",
       " -23.647030191671057\n",
       " -43.7641287487191\n",
       "  13.965518660383706\n",
       "  54.39439577284452\n",
       "  -1.4259421024618746\n",
       "  15.505222371302164\n",
       " 153.38437542527038\n",
       " 110.12955897581563\n",
       " 103.42501863741997\n",
       "  10.04529944805283\n",
       " 123.48177013766647\n",
       " 172.38370952860978"
      ]
     },
     "execution_count": 15,
     "metadata": {},
     "output_type": "execute_result"
    }
   ],
   "source": [
    "y_observed = y_true + rand(d,length(x))"
   ]
  },
  {
   "cell_type": "code",
   "execution_count": 16,
   "id": "008c0045",
   "metadata": {},
   "outputs": [
    {
     "data": {
      "image/svg+xml": [
       "<?xml version=\"1.0\" encoding=\"utf-8\"?>\n",
       "<svg xmlns=\"http://www.w3.org/2000/svg\" xmlns:xlink=\"http://www.w3.org/1999/xlink\" width=\"600\" height=\"400\" viewBox=\"0 0 2400 1600\">\n",
       "<defs>\n",
       "  <clipPath id=\"clip370\">\n",
       "    <rect x=\"0\" y=\"0\" width=\"2400\" height=\"1600\"/>\n",
       "  </clipPath>\n",
       "</defs>\n",
       "<path clip-path=\"url(#clip370)\" d=\"M0 1600 L2400 1600 L2400 0 L0 0  Z\" fill=\"#ffffff\" fill-rule=\"evenodd\" fill-opacity=\"1\"/>\n",
       "<defs>\n",
       "  <clipPath id=\"clip371\">\n",
       "    <rect x=\"480\" y=\"0\" width=\"1681\" height=\"1600\"/>\n",
       "  </clipPath>\n",
       "</defs>\n",
       "<path clip-path=\"url(#clip370)\" d=\"M209.029 1486.45 L2352.76 1486.45 L2352.76 47.2441 L209.029 47.2441  Z\" fill=\"#ffffff\" fill-rule=\"evenodd\" fill-opacity=\"1\"/>\n",
       "<defs>\n",
       "  <clipPath id=\"clip372\">\n",
       "    <rect x=\"209\" y=\"47\" width=\"2145\" height=\"1440\"/>\n",
       "  </clipPath>\n",
       "</defs>\n",
       "<polyline clip-path=\"url(#clip372)\" style=\"stroke:#000000; stroke-linecap:round; stroke-linejoin:round; stroke-width:2; stroke-opacity:0.1; fill:none\" points=\"269.7,1486.45 269.7,47.2441 \"/>\n",
       "<polyline clip-path=\"url(#clip372)\" style=\"stroke:#000000; stroke-linecap:round; stroke-linejoin:round; stroke-width:2; stroke-opacity:0.1; fill:none\" points=\"775.296,1486.45 775.296,47.2441 \"/>\n",
       "<polyline clip-path=\"url(#clip372)\" style=\"stroke:#000000; stroke-linecap:round; stroke-linejoin:round; stroke-width:2; stroke-opacity:0.1; fill:none\" points=\"1280.89,1486.45 1280.89,47.2441 \"/>\n",
       "<polyline clip-path=\"url(#clip372)\" style=\"stroke:#000000; stroke-linecap:round; stroke-linejoin:round; stroke-width:2; stroke-opacity:0.1; fill:none\" points=\"1786.49,1486.45 1786.49,47.2441 \"/>\n",
       "<polyline clip-path=\"url(#clip372)\" style=\"stroke:#000000; stroke-linecap:round; stroke-linejoin:round; stroke-width:2; stroke-opacity:0.1; fill:none\" points=\"2292.08,1486.45 2292.08,47.2441 \"/>\n",
       "<polyline clip-path=\"url(#clip370)\" style=\"stroke:#000000; stroke-linecap:round; stroke-linejoin:round; stroke-width:4; stroke-opacity:1; fill:none\" points=\"209.029,1486.45 2352.76,1486.45 \"/>\n",
       "<polyline clip-path=\"url(#clip370)\" style=\"stroke:#000000; stroke-linecap:round; stroke-linejoin:round; stroke-width:4; stroke-opacity:1; fill:none\" points=\"269.7,1486.45 269.7,1467.55 \"/>\n",
       "<polyline clip-path=\"url(#clip370)\" style=\"stroke:#000000; stroke-linecap:round; stroke-linejoin:round; stroke-width:4; stroke-opacity:1; fill:none\" points=\"775.296,1486.45 775.296,1467.55 \"/>\n",
       "<polyline clip-path=\"url(#clip370)\" style=\"stroke:#000000; stroke-linecap:round; stroke-linejoin:round; stroke-width:4; stroke-opacity:1; fill:none\" points=\"1280.89,1486.45 1280.89,1467.55 \"/>\n",
       "<polyline clip-path=\"url(#clip370)\" style=\"stroke:#000000; stroke-linecap:round; stroke-linejoin:round; stroke-width:4; stroke-opacity:1; fill:none\" points=\"1786.49,1486.45 1786.49,1467.55 \"/>\n",
       "<polyline clip-path=\"url(#clip370)\" style=\"stroke:#000000; stroke-linecap:round; stroke-linejoin:round; stroke-width:4; stroke-opacity:1; fill:none\" points=\"2292.08,1486.45 2292.08,1467.55 \"/>\n",
       "<path clip-path=\"url(#clip370)\" d=\"M223.763 1532.02 L253.439 1532.02 L253.439 1535.95 L223.763 1535.95 L223.763 1532.02 Z\" fill=\"#000000\" fill-rule=\"evenodd\" fill-opacity=\"1\" /><path clip-path=\"url(#clip370)\" d=\"M264.341 1544.91 L271.98 1544.91 L271.98 1518.55 L263.67 1520.21 L263.67 1515.95 L271.934 1514.29 L276.61 1514.29 L276.61 1544.91 L284.249 1544.91 L284.249 1548.85 L264.341 1548.85 L264.341 1544.91 Z\" fill=\"#000000\" fill-rule=\"evenodd\" fill-opacity=\"1\" /><path clip-path=\"url(#clip370)\" d=\"M303.693 1517.37 Q300.082 1517.37 298.253 1520.93 Q296.448 1524.47 296.448 1531.6 Q296.448 1538.71 298.253 1542.27 Q300.082 1545.82 303.693 1545.82 Q307.327 1545.82 309.133 1542.27 Q310.961 1538.71 310.961 1531.6 Q310.961 1524.47 309.133 1520.93 Q307.327 1517.37 303.693 1517.37 M303.693 1513.66 Q309.503 1513.66 312.559 1518.27 Q315.637 1522.85 315.637 1531.6 Q315.637 1540.33 312.559 1544.94 Q309.503 1549.52 303.693 1549.52 Q297.883 1549.52 294.804 1544.94 Q291.749 1540.33 291.749 1531.6 Q291.749 1522.85 294.804 1518.27 Q297.883 1513.66 303.693 1513.66 Z\" fill=\"#000000\" fill-rule=\"evenodd\" fill-opacity=\"1\" /><path clip-path=\"url(#clip370)\" d=\"M744.937 1532.02 L774.613 1532.02 L774.613 1535.95 L744.937 1535.95 L744.937 1532.02 Z\" fill=\"#000000\" fill-rule=\"evenodd\" fill-opacity=\"1\" /><path clip-path=\"url(#clip370)\" d=\"M784.752 1514.29 L803.108 1514.29 L803.108 1518.22 L789.034 1518.22 L789.034 1526.7 Q790.053 1526.35 791.072 1526.19 Q792.09 1526 793.109 1526 Q798.896 1526 802.275 1529.17 Q805.655 1532.34 805.655 1537.76 Q805.655 1543.34 802.183 1546.44 Q798.71 1549.52 792.391 1549.52 Q790.215 1549.52 787.947 1549.15 Q785.701 1548.78 783.294 1548.04 L783.294 1543.34 Q785.377 1544.47 787.599 1545.03 Q789.822 1545.58 792.298 1545.58 Q796.303 1545.58 798.641 1543.48 Q800.979 1541.37 800.979 1537.76 Q800.979 1534.15 798.641 1532.04 Q796.303 1529.94 792.298 1529.94 Q790.423 1529.94 788.548 1530.35 Q786.697 1530.77 784.752 1531.65 L784.752 1514.29 Z\" fill=\"#000000\" fill-rule=\"evenodd\" fill-opacity=\"1\" /><path clip-path=\"url(#clip370)\" d=\"M1280.89 1517.37 Q1277.28 1517.37 1275.45 1520.93 Q1273.65 1524.47 1273.65 1531.6 Q1273.65 1538.71 1275.45 1542.27 Q1277.28 1545.82 1280.89 1545.82 Q1284.53 1545.82 1286.33 1542.27 Q1288.16 1538.71 1288.16 1531.6 Q1288.16 1524.47 1286.33 1520.93 Q1284.53 1517.37 1280.89 1517.37 M1280.89 1513.66 Q1286.7 1513.66 1289.76 1518.27 Q1292.84 1522.85 1292.84 1531.6 Q1292.84 1540.33 1289.76 1544.94 Q1286.7 1549.52 1280.89 1549.52 Q1275.08 1549.52 1272 1544.94 Q1268.95 1540.33 1268.95 1531.6 Q1268.95 1522.85 1272 1518.27 Q1275.08 1513.66 1280.89 1513.66 Z\" fill=\"#000000\" fill-rule=\"evenodd\" fill-opacity=\"1\" /><path clip-path=\"url(#clip370)\" d=\"M1776.77 1514.29 L1795.12 1514.29 L1795.12 1518.22 L1781.05 1518.22 L1781.05 1526.7 Q1782.07 1526.35 1783.09 1526.19 Q1784.1 1526 1785.12 1526 Q1790.91 1526 1794.29 1529.17 Q1797.67 1532.34 1797.67 1537.76 Q1797.67 1543.34 1794.2 1546.44 Q1790.72 1549.52 1784.4 1549.52 Q1782.23 1549.52 1779.96 1549.15 Q1777.72 1548.78 1775.31 1548.04 L1775.31 1543.34 Q1777.39 1544.47 1779.61 1545.03 Q1781.84 1545.58 1784.31 1545.58 Q1788.32 1545.58 1790.65 1543.48 Q1792.99 1541.37 1792.99 1537.76 Q1792.99 1534.15 1790.65 1532.04 Q1788.32 1529.94 1784.31 1529.94 Q1782.44 1529.94 1780.56 1530.35 Q1778.71 1530.77 1776.77 1531.65 L1776.77 1514.29 Z\" fill=\"#000000\" fill-rule=\"evenodd\" fill-opacity=\"1\" /><path clip-path=\"url(#clip370)\" d=\"M2266.77 1544.91 L2274.41 1544.91 L2274.41 1518.55 L2266.1 1520.21 L2266.1 1515.95 L2274.36 1514.29 L2279.04 1514.29 L2279.04 1544.91 L2286.68 1544.91 L2286.68 1548.85 L2266.77 1548.85 L2266.77 1544.91 Z\" fill=\"#000000\" fill-rule=\"evenodd\" fill-opacity=\"1\" /><path clip-path=\"url(#clip370)\" d=\"M2306.12 1517.37 Q2302.51 1517.37 2300.68 1520.93 Q2298.88 1524.47 2298.88 1531.6 Q2298.88 1538.71 2300.68 1542.27 Q2302.51 1545.82 2306.12 1545.82 Q2309.76 1545.82 2311.56 1542.27 Q2313.39 1538.71 2313.39 1531.6 Q2313.39 1524.47 2311.56 1520.93 Q2309.76 1517.37 2306.12 1517.37 M2306.12 1513.66 Q2311.93 1513.66 2314.99 1518.27 Q2318.07 1522.85 2318.07 1531.6 Q2318.07 1540.33 2314.99 1544.94 Q2311.93 1549.52 2306.12 1549.52 Q2300.31 1549.52 2297.23 1544.94 Q2294.18 1540.33 2294.18 1531.6 Q2294.18 1522.85 2297.23 1518.27 Q2300.31 1513.66 2306.12 1513.66 Z\" fill=\"#000000\" fill-rule=\"evenodd\" fill-opacity=\"1\" /><polyline clip-path=\"url(#clip372)\" style=\"stroke:#000000; stroke-linecap:round; stroke-linejoin:round; stroke-width:2; stroke-opacity:0.1; fill:none\" points=\"209.029,1344.4 2352.76,1344.4 \"/>\n",
       "<polyline clip-path=\"url(#clip372)\" style=\"stroke:#000000; stroke-linecap:round; stroke-linejoin:round; stroke-width:2; stroke-opacity:0.1; fill:none\" points=\"209.029,1104.44 2352.76,1104.44 \"/>\n",
       "<polyline clip-path=\"url(#clip372)\" style=\"stroke:#000000; stroke-linecap:round; stroke-linejoin:round; stroke-width:2; stroke-opacity:0.1; fill:none\" points=\"209.029,864.483 2352.76,864.483 \"/>\n",
       "<polyline clip-path=\"url(#clip372)\" style=\"stroke:#000000; stroke-linecap:round; stroke-linejoin:round; stroke-width:2; stroke-opacity:0.1; fill:none\" points=\"209.029,624.525 2352.76,624.525 \"/>\n",
       "<polyline clip-path=\"url(#clip372)\" style=\"stroke:#000000; stroke-linecap:round; stroke-linejoin:round; stroke-width:2; stroke-opacity:0.1; fill:none\" points=\"209.029,384.568 2352.76,384.568 \"/>\n",
       "<polyline clip-path=\"url(#clip372)\" style=\"stroke:#000000; stroke-linecap:round; stroke-linejoin:round; stroke-width:2; stroke-opacity:0.1; fill:none\" points=\"209.029,144.61 2352.76,144.61 \"/>\n",
       "<polyline clip-path=\"url(#clip370)\" style=\"stroke:#000000; stroke-linecap:round; stroke-linejoin:round; stroke-width:4; stroke-opacity:1; fill:none\" points=\"209.029,1486.45 209.029,47.2441 \"/>\n",
       "<polyline clip-path=\"url(#clip370)\" style=\"stroke:#000000; stroke-linecap:round; stroke-linejoin:round; stroke-width:4; stroke-opacity:1; fill:none\" points=\"209.029,1344.4 227.926,1344.4 \"/>\n",
       "<polyline clip-path=\"url(#clip370)\" style=\"stroke:#000000; stroke-linecap:round; stroke-linejoin:round; stroke-width:4; stroke-opacity:1; fill:none\" points=\"209.029,1104.44 227.926,1104.44 \"/>\n",
       "<polyline clip-path=\"url(#clip370)\" style=\"stroke:#000000; stroke-linecap:round; stroke-linejoin:round; stroke-width:4; stroke-opacity:1; fill:none\" points=\"209.029,864.483 227.926,864.483 \"/>\n",
       "<polyline clip-path=\"url(#clip370)\" style=\"stroke:#000000; stroke-linecap:round; stroke-linejoin:round; stroke-width:4; stroke-opacity:1; fill:none\" points=\"209.029,624.525 227.926,624.525 \"/>\n",
       "<polyline clip-path=\"url(#clip370)\" style=\"stroke:#000000; stroke-linecap:round; stroke-linejoin:round; stroke-width:4; stroke-opacity:1; fill:none\" points=\"209.029,384.568 227.926,384.568 \"/>\n",
       "<polyline clip-path=\"url(#clip370)\" style=\"stroke:#000000; stroke-linecap:round; stroke-linejoin:round; stroke-width:4; stroke-opacity:1; fill:none\" points=\"209.029,144.61 227.926,144.61 \"/>\n",
       "<path clip-path=\"url(#clip370)\" d=\"M50.9921 1344.85 L80.6679 1344.85 L80.6679 1348.78 L50.9921 1348.78 L50.9921 1344.85 Z\" fill=\"#000000\" fill-rule=\"evenodd\" fill-opacity=\"1\" /><path clip-path=\"url(#clip370)\" d=\"M91.5706 1357.74 L99.2095 1357.74 L99.2095 1331.38 L90.8993 1333.04 L90.8993 1328.78 L99.1632 1327.12 L103.839 1327.12 L103.839 1357.74 L111.478 1357.74 L111.478 1361.68 L91.5706 1361.68 L91.5706 1357.74 Z\" fill=\"#000000\" fill-rule=\"evenodd\" fill-opacity=\"1\" /><path clip-path=\"url(#clip370)\" d=\"M130.922 1330.2 Q127.311 1330.2 125.482 1333.76 Q123.677 1337.3 123.677 1344.43 Q123.677 1351.54 125.482 1355.1 Q127.311 1358.65 130.922 1358.65 Q134.556 1358.65 136.362 1355.1 Q138.191 1351.54 138.191 1344.43 Q138.191 1337.3 136.362 1333.76 Q134.556 1330.2 130.922 1330.2 M130.922 1326.49 Q136.732 1326.49 139.788 1331.1 Q142.867 1335.68 142.867 1344.43 Q142.867 1353.16 139.788 1357.77 Q136.732 1362.35 130.922 1362.35 Q125.112 1362.35 122.033 1357.77 Q118.978 1353.16 118.978 1344.43 Q118.978 1335.68 122.033 1331.1 Q125.112 1326.49 130.922 1326.49 Z\" fill=\"#000000\" fill-rule=\"evenodd\" fill-opacity=\"1\" /><path clip-path=\"url(#clip370)\" d=\"M161.084 1330.2 Q157.473 1330.2 155.644 1333.76 Q153.839 1337.3 153.839 1344.43 Q153.839 1351.54 155.644 1355.1 Q157.473 1358.65 161.084 1358.65 Q164.718 1358.65 166.524 1355.1 Q168.353 1351.54 168.353 1344.43 Q168.353 1337.3 166.524 1333.76 Q164.718 1330.2 161.084 1330.2 M161.084 1326.49 Q166.894 1326.49 169.95 1331.1 Q173.029 1335.68 173.029 1344.43 Q173.029 1353.16 169.95 1357.77 Q166.894 1362.35 161.084 1362.35 Q155.274 1362.35 152.195 1357.77 Q149.14 1353.16 149.14 1344.43 Q149.14 1335.68 152.195 1331.1 Q155.274 1326.49 161.084 1326.49 Z\" fill=\"#000000\" fill-rule=\"evenodd\" fill-opacity=\"1\" /><path clip-path=\"url(#clip370)\" d=\"M81.154 1104.89 L110.83 1104.89 L110.83 1108.83 L81.154 1108.83 L81.154 1104.89 Z\" fill=\"#000000\" fill-rule=\"evenodd\" fill-opacity=\"1\" /><path clip-path=\"url(#clip370)\" d=\"M120.969 1087.16 L139.325 1087.16 L139.325 1091.1 L125.251 1091.1 L125.251 1099.57 Q126.27 1099.22 127.288 1099.06 Q128.307 1098.87 129.325 1098.87 Q135.112 1098.87 138.492 1102.04 Q141.871 1105.22 141.871 1110.63 Q141.871 1116.21 138.399 1119.31 Q134.927 1122.39 128.607 1122.39 Q126.432 1122.39 124.163 1122.02 Q121.918 1121.65 119.51 1120.91 L119.51 1116.21 Q121.594 1117.35 123.816 1117.9 Q126.038 1118.46 128.515 1118.46 Q132.519 1118.46 134.857 1116.35 Q137.195 1114.24 137.195 1110.63 Q137.195 1107.02 134.857 1104.91 Q132.519 1102.81 128.515 1102.81 Q126.64 1102.81 124.765 1103.23 Q122.913 1103.64 120.969 1104.52 L120.969 1087.16 Z\" fill=\"#000000\" fill-rule=\"evenodd\" fill-opacity=\"1\" /><path clip-path=\"url(#clip370)\" d=\"M161.084 1090.24 Q157.473 1090.24 155.644 1093.8 Q153.839 1097.35 153.839 1104.48 Q153.839 1111.58 155.644 1115.15 Q157.473 1118.69 161.084 1118.69 Q164.718 1118.69 166.524 1115.15 Q168.353 1111.58 168.353 1104.48 Q168.353 1097.35 166.524 1093.8 Q164.718 1090.24 161.084 1090.24 M161.084 1086.54 Q166.894 1086.54 169.95 1091.14 Q173.029 1095.73 173.029 1104.48 Q173.029 1113.2 169.95 1117.81 Q166.894 1122.39 161.084 1122.39 Q155.274 1122.39 152.195 1117.81 Q149.14 1113.2 149.14 1104.48 Q149.14 1095.73 152.195 1091.14 Q155.274 1086.54 161.084 1086.54 Z\" fill=\"#000000\" fill-rule=\"evenodd\" fill-opacity=\"1\" /><path clip-path=\"url(#clip370)\" d=\"M161.084 850.282 Q157.473 850.282 155.644 853.846 Q153.839 857.388 153.839 864.518 Q153.839 871.624 155.644 875.189 Q157.473 878.73 161.084 878.73 Q164.718 878.73 166.524 875.189 Q168.353 871.624 168.353 864.518 Q168.353 857.388 166.524 853.846 Q164.718 850.282 161.084 850.282 M161.084 846.578 Q166.894 846.578 169.95 851.184 Q173.029 855.768 173.029 864.518 Q173.029 873.244 169.95 877.851 Q166.894 882.434 161.084 882.434 Q155.274 882.434 152.195 877.851 Q149.14 873.244 149.14 864.518 Q149.14 855.768 152.195 851.184 Q155.274 846.578 161.084 846.578 Z\" fill=\"#000000\" fill-rule=\"evenodd\" fill-opacity=\"1\" /><path clip-path=\"url(#clip370)\" d=\"M120.969 607.245 L139.325 607.245 L139.325 611.18 L125.251 611.18 L125.251 619.653 Q126.27 619.305 127.288 619.143 Q128.307 618.958 129.325 618.958 Q135.112 618.958 138.492 622.129 Q141.871 625.301 141.871 630.717 Q141.871 636.296 138.399 639.398 Q134.927 642.477 128.607 642.477 Q126.432 642.477 124.163 642.106 Q121.918 641.736 119.51 640.995 L119.51 636.296 Q121.594 637.43 123.816 637.986 Q126.038 638.541 128.515 638.541 Q132.519 638.541 134.857 636.435 Q137.195 634.328 137.195 630.717 Q137.195 627.106 134.857 625 Q132.519 622.893 128.515 622.893 Q126.64 622.893 124.765 623.31 Q122.913 623.727 120.969 624.606 L120.969 607.245 Z\" fill=\"#000000\" fill-rule=\"evenodd\" fill-opacity=\"1\" /><path clip-path=\"url(#clip370)\" d=\"M161.084 610.324 Q157.473 610.324 155.644 613.889 Q153.839 617.43 153.839 624.56 Q153.839 631.666 155.644 635.231 Q157.473 638.773 161.084 638.773 Q164.718 638.773 166.524 635.231 Q168.353 631.666 168.353 624.56 Q168.353 617.43 166.524 613.889 Q164.718 610.324 161.084 610.324 M161.084 606.62 Q166.894 606.62 169.95 611.227 Q173.029 615.81 173.029 624.56 Q173.029 633.287 169.95 637.893 Q166.894 642.477 161.084 642.477 Q155.274 642.477 152.195 637.893 Q149.14 633.287 149.14 624.56 Q149.14 615.81 152.195 611.227 Q155.274 606.62 161.084 606.62 Z\" fill=\"#000000\" fill-rule=\"evenodd\" fill-opacity=\"1\" /><path clip-path=\"url(#clip370)\" d=\"M91.5706 397.912 L99.2095 397.912 L99.2095 371.547 L90.8993 373.214 L90.8993 368.954 L99.1632 367.288 L103.839 367.288 L103.839 397.912 L111.478 397.912 L111.478 401.848 L91.5706 401.848 L91.5706 397.912 Z\" fill=\"#000000\" fill-rule=\"evenodd\" fill-opacity=\"1\" /><path clip-path=\"url(#clip370)\" d=\"M130.922 370.366 Q127.311 370.366 125.482 373.931 Q123.677 377.473 123.677 384.602 Q123.677 391.709 125.482 395.274 Q127.311 398.815 130.922 398.815 Q134.556 398.815 136.362 395.274 Q138.191 391.709 138.191 384.602 Q138.191 377.473 136.362 373.931 Q134.556 370.366 130.922 370.366 M130.922 366.663 Q136.732 366.663 139.788 371.269 Q142.867 375.852 142.867 384.602 Q142.867 393.329 139.788 397.936 Q136.732 402.519 130.922 402.519 Q125.112 402.519 122.033 397.936 Q118.978 393.329 118.978 384.602 Q118.978 375.852 122.033 371.269 Q125.112 366.663 130.922 366.663 Z\" fill=\"#000000\" fill-rule=\"evenodd\" fill-opacity=\"1\" /><path clip-path=\"url(#clip370)\" d=\"M161.084 370.366 Q157.473 370.366 155.644 373.931 Q153.839 377.473 153.839 384.602 Q153.839 391.709 155.644 395.274 Q157.473 398.815 161.084 398.815 Q164.718 398.815 166.524 395.274 Q168.353 391.709 168.353 384.602 Q168.353 377.473 166.524 373.931 Q164.718 370.366 161.084 370.366 M161.084 366.663 Q166.894 366.663 169.95 371.269 Q173.029 375.852 173.029 384.602 Q173.029 393.329 169.95 397.936 Q166.894 402.519 161.084 402.519 Q155.274 402.519 152.195 397.936 Q149.14 393.329 149.14 384.602 Q149.14 375.852 152.195 371.269 Q155.274 366.663 161.084 366.663 Z\" fill=\"#000000\" fill-rule=\"evenodd\" fill-opacity=\"1\" /><path clip-path=\"url(#clip370)\" d=\"M91.5706 157.955 L99.2095 157.955 L99.2095 131.589 L90.8993 133.256 L90.8993 128.997 L99.1632 127.33 L103.839 127.33 L103.839 157.955 L111.478 157.955 L111.478 161.89 L91.5706 161.89 L91.5706 157.955 Z\" fill=\"#000000\" fill-rule=\"evenodd\" fill-opacity=\"1\" /><path clip-path=\"url(#clip370)\" d=\"M120.969 127.33 L139.325 127.33 L139.325 131.265 L125.251 131.265 L125.251 139.737 Q126.27 139.39 127.288 139.228 Q128.307 139.043 129.325 139.043 Q135.112 139.043 138.492 142.214 Q141.871 145.385 141.871 150.802 Q141.871 156.381 138.399 159.483 Q134.927 162.561 128.607 162.561 Q126.432 162.561 124.163 162.191 Q121.918 161.821 119.51 161.08 L119.51 156.381 Q121.594 157.515 123.816 158.071 Q126.038 158.626 128.515 158.626 Q132.519 158.626 134.857 156.52 Q137.195 154.413 137.195 150.802 Q137.195 147.191 134.857 145.085 Q132.519 142.978 128.515 142.978 Q126.64 142.978 124.765 143.395 Q122.913 143.811 120.969 144.691 L120.969 127.33 Z\" fill=\"#000000\" fill-rule=\"evenodd\" fill-opacity=\"1\" /><path clip-path=\"url(#clip370)\" d=\"M161.084 130.409 Q157.473 130.409 155.644 133.974 Q153.839 137.515 153.839 144.645 Q153.839 151.751 155.644 155.316 Q157.473 158.858 161.084 158.858 Q164.718 158.858 166.524 155.316 Q168.353 151.751 168.353 144.645 Q168.353 137.515 166.524 133.974 Q164.718 130.409 161.084 130.409 M161.084 126.705 Q166.894 126.705 169.95 131.311 Q173.029 135.895 173.029 144.645 Q173.029 153.372 169.95 157.978 Q166.894 162.561 161.084 162.561 Q155.274 162.561 152.195 157.978 Q149.14 153.372 149.14 144.645 Q149.14 135.895 152.195 131.311 Q155.274 126.705 161.084 126.705 Z\" fill=\"#000000\" fill-rule=\"evenodd\" fill-opacity=\"1\" /><circle clip-path=\"url(#clip372)\" cx=\"269.7\" cy=\"598.012\" r=\"14.4\" fill=\"#009af9\" fill-rule=\"evenodd\" fill-opacity=\"1\" stroke=\"#000000\" stroke-opacity=\"1\" stroke-width=\"3.2\"/>\n",
       "<circle clip-path=\"url(#clip372)\" cx=\"370.819\" cy=\"680.995\" r=\"14.4\" fill=\"#009af9\" fill-rule=\"evenodd\" fill-opacity=\"1\" stroke=\"#000000\" stroke-opacity=\"1\" stroke-width=\"3.2\"/>\n",
       "<circle clip-path=\"url(#clip372)\" cx=\"471.938\" cy=\"869.666\" r=\"14.4\" fill=\"#009af9\" fill-rule=\"evenodd\" fill-opacity=\"1\" stroke=\"#000000\" stroke-opacity=\"1\" stroke-width=\"3.2\"/>\n",
       "<circle clip-path=\"url(#clip372)\" cx=\"573.058\" cy=\"1057.91\" r=\"14.4\" fill=\"#009af9\" fill-rule=\"evenodd\" fill-opacity=\"1\" stroke=\"#000000\" stroke-opacity=\"1\" stroke-width=\"3.2\"/>\n",
       "<circle clip-path=\"url(#clip372)\" cx=\"674.177\" cy=\"495.098\" r=\"14.4\" fill=\"#009af9\" fill-rule=\"evenodd\" fill-opacity=\"1\" stroke=\"#000000\" stroke-opacity=\"1\" stroke-width=\"3.2\"/>\n",
       "<circle clip-path=\"url(#clip372)\" cx=\"775.296\" cy=\"319.394\" r=\"14.4\" fill=\"#009af9\" fill-rule=\"evenodd\" fill-opacity=\"1\" stroke=\"#000000\" stroke-opacity=\"1\" stroke-width=\"3.2\"/>\n",
       "<circle clip-path=\"url(#clip372)\" cx=\"876.415\" cy=\"823.773\" r=\"14.4\" fill=\"#009af9\" fill-rule=\"evenodd\" fill-opacity=\"1\" stroke=\"#000000\" stroke-opacity=\"1\" stroke-width=\"3.2\"/>\n",
       "<circle clip-path=\"url(#clip372)\" cx=\"977.535\" cy=\"928.814\" r=\"14.4\" fill=\"#009af9\" fill-rule=\"evenodd\" fill-opacity=\"1\" stroke=\"#000000\" stroke-opacity=\"1\" stroke-width=\"3.2\"/>\n",
       "<circle clip-path=\"url(#clip372)\" cx=\"1078.65\" cy=\"882.772\" r=\"14.4\" fill=\"#009af9\" fill-rule=\"evenodd\" fill-opacity=\"1\" stroke=\"#000000\" stroke-opacity=\"1\" stroke-width=\"3.2\"/>\n",
       "<circle clip-path=\"url(#clip372)\" cx=\"1179.77\" cy=\"1445.72\" r=\"14.4\" fill=\"#009af9\" fill-rule=\"evenodd\" fill-opacity=\"1\" stroke=\"#000000\" stroke-opacity=\"1\" stroke-width=\"3.2\"/>\n",
       "<circle clip-path=\"url(#clip372)\" cx=\"1280.89\" cy=\"773.661\" r=\"14.4\" fill=\"#009af9\" fill-rule=\"evenodd\" fill-opacity=\"1\" stroke=\"#000000\" stroke-opacity=\"1\" stroke-width=\"3.2\"/>\n",
       "<circle clip-path=\"url(#clip372)\" cx=\"1382.01\" cy=\"961.394\" r=\"14.4\" fill=\"#009af9\" fill-rule=\"evenodd\" fill-opacity=\"1\" stroke=\"#000000\" stroke-opacity=\"1\" stroke-width=\"3.2\"/>\n",
       "<circle clip-path=\"url(#clip372)\" cx=\"1483.13\" cy=\"904.775\" r=\"14.4\" fill=\"#009af9\" fill-rule=\"evenodd\" fill-opacity=\"1\" stroke=\"#000000\" stroke-opacity=\"1\" stroke-width=\"3.2\"/>\n",
       "<circle clip-path=\"url(#clip372)\" cx=\"1584.25\" cy=\"703.428\" r=\"14.4\" fill=\"#009af9\" fill-rule=\"evenodd\" fill-opacity=\"1\" stroke=\"#000000\" stroke-opacity=\"1\" stroke-width=\"3.2\"/>\n",
       "<circle clip-path=\"url(#clip372)\" cx=\"1685.37\" cy=\"445.707\" r=\"14.4\" fill=\"#009af9\" fill-rule=\"evenodd\" fill-opacity=\"1\" stroke=\"#000000\" stroke-opacity=\"1\" stroke-width=\"3.2\"/>\n",
       "<circle clip-path=\"url(#clip372)\" cx=\"1786.49\" cy=\"637.861\" r=\"14.4\" fill=\"#009af9\" fill-rule=\"evenodd\" fill-opacity=\"1\" stroke=\"#000000\" stroke-opacity=\"1\" stroke-width=\"3.2\"/>\n",
       "<circle clip-path=\"url(#clip372)\" cx=\"1887.61\" cy=\"353.154\" r=\"14.4\" fill=\"#009af9\" fill-rule=\"evenodd\" fill-opacity=\"1\" stroke=\"#000000\" stroke-opacity=\"1\" stroke-width=\"3.2\"/>\n",
       "<circle clip-path=\"url(#clip372)\" cx=\"1988.73\" cy=\"958.687\" r=\"14.4\" fill=\"#009af9\" fill-rule=\"evenodd\" fill-opacity=\"1\" stroke=\"#000000\" stroke-opacity=\"1\" stroke-width=\"3.2\"/>\n",
       "<circle clip-path=\"url(#clip372)\" cx=\"2089.85\" cy=\"347.61\" r=\"14.4\" fill=\"#009af9\" fill-rule=\"evenodd\" fill-opacity=\"1\" stroke=\"#000000\" stroke-opacity=\"1\" stroke-width=\"3.2\"/>\n",
       "<circle clip-path=\"url(#clip372)\" cx=\"2190.97\" cy=\"87.9763\" r=\"14.4\" fill=\"#009af9\" fill-rule=\"evenodd\" fill-opacity=\"1\" stroke=\"#000000\" stroke-opacity=\"1\" stroke-width=\"3.2\"/>\n",
       "<circle clip-path=\"url(#clip372)\" cx=\"2292.08\" cy=\"416.967\" r=\"14.4\" fill=\"#009af9\" fill-rule=\"evenodd\" fill-opacity=\"1\" stroke=\"#000000\" stroke-opacity=\"1\" stroke-width=\"3.2\"/>\n",
       "<polyline clip-path=\"url(#clip372)\" style=\"stroke:#e26f46; stroke-linecap:round; stroke-linejoin:round; stroke-width:4; stroke-opacity:1; fill:none\" points=\"269.7,538.14 370.819,614.927 471.938,682.115 573.058,739.705 674.177,787.696 775.296,826.09 876.415,854.885 977.535,874.081 1078.65,883.679 1179.77,883.679 1280.89,874.081 1382.01,854.885 1483.13,826.09 1584.25,787.696 1685.37,739.705 1786.49,682.115 1887.61,614.927 1988.73,538.14 2089.85,451.756 2190.97,355.773 2292.08,250.191 \"/>\n",
       "<polyline clip-path=\"url(#clip372)\" style=\"stroke:#3da44d; stroke-linecap:round; stroke-linejoin:round; stroke-width:4; stroke-opacity:1; fill:none\" points=\"269.7,880.291 370.819,862.23 471.938,844.169 573.058,826.109 674.177,808.048 775.296,789.987 876.415,771.927 977.535,753.866 1078.65,735.806 1179.77,717.745 1280.89,699.684 1382.01,681.624 1483.13,663.563 1584.25,645.502 1685.37,627.442 1786.49,609.381 1887.61,591.32 1988.73,573.26 2089.85,555.199 2190.97,537.138 2292.08,519.078 \"/>\n",
       "<path clip-path=\"url(#clip370)\" d=\"M280.486 302.578 L721.733 302.578 L721.733 95.2176 L280.486 95.2176  Z\" fill=\"#ffffff\" fill-rule=\"evenodd\" fill-opacity=\"1\"/>\n",
       "<polyline clip-path=\"url(#clip370)\" style=\"stroke:#000000; stroke-linecap:round; stroke-linejoin:round; stroke-width:4; stroke-opacity:1; fill:none\" points=\"280.486,302.578 721.733,302.578 721.733,95.2176 280.486,95.2176 280.486,302.578 \"/>\n",
       "<circle clip-path=\"url(#clip370)\" cx=\"375.763\" cy=\"147.058\" r=\"23.04\" fill=\"#009af9\" fill-rule=\"evenodd\" fill-opacity=\"1\" stroke=\"#000000\" stroke-opacity=\"1\" stroke-width=\"5.12\"/>\n",
       "<path clip-path=\"url(#clip370)\" d=\"M489.952 142.347 L489.952 128.319 L494.211 128.319 L494.211 164.338 L489.952 164.338 L489.952 160.449 Q488.609 162.763 486.549 163.898 Q484.512 165.009 481.641 165.009 Q476.942 165.009 473.979 161.259 Q471.04 157.509 471.04 151.398 Q471.04 145.287 473.979 141.537 Q476.942 137.787 481.641 137.787 Q484.512 137.787 486.549 138.921 Q488.609 140.032 489.952 142.347 M475.438 151.398 Q475.438 156.097 477.359 158.782 Q479.303 161.444 482.683 161.444 Q486.063 161.444 488.007 158.782 Q489.952 156.097 489.952 151.398 Q489.952 146.699 488.007 144.037 Q486.063 141.352 482.683 141.352 Q479.303 141.352 477.359 144.037 Q475.438 146.699 475.438 151.398 Z\" fill=\"#000000\" fill-rule=\"evenodd\" fill-opacity=\"1\" /><path clip-path=\"url(#clip370)\" d=\"M514.766 151.305 Q509.604 151.305 507.614 152.486 Q505.623 153.666 505.623 156.514 Q505.623 158.782 507.104 160.125 Q508.609 161.444 511.178 161.444 Q514.72 161.444 516.85 158.944 Q519.002 156.421 519.002 152.254 L519.002 151.305 L514.766 151.305 M523.262 149.546 L523.262 164.338 L519.002 164.338 L519.002 160.402 Q517.544 162.763 515.368 163.898 Q513.192 165.009 510.044 165.009 Q506.063 165.009 503.701 162.787 Q501.364 160.541 501.364 156.791 Q501.364 152.416 504.28 150.194 Q507.22 147.972 513.03 147.972 L519.002 147.972 L519.002 147.555 Q519.002 144.615 517.058 143.018 Q515.137 141.398 511.641 141.398 Q509.419 141.398 507.313 141.93 Q505.206 142.463 503.262 143.527 L503.262 139.592 Q505.6 138.69 507.799 138.25 Q509.998 137.787 512.081 137.787 Q517.706 137.787 520.484 140.703 Q523.262 143.62 523.262 149.546 Z\" fill=\"#000000\" fill-rule=\"evenodd\" fill-opacity=\"1\" /><path clip-path=\"url(#clip370)\" d=\"M536.248 131.051 L536.248 138.412 L545.021 138.412 L545.021 141.722 L536.248 141.722 L536.248 155.796 Q536.248 158.967 537.104 159.87 Q537.984 160.773 540.646 160.773 L545.021 160.773 L545.021 164.338 L540.646 164.338 Q535.715 164.338 533.84 162.509 Q531.965 160.657 531.965 155.796 L531.965 141.722 L528.84 141.722 L528.84 138.412 L531.965 138.412 L531.965 131.051 L536.248 131.051 Z\" fill=\"#000000\" fill-rule=\"evenodd\" fill-opacity=\"1\" /><path clip-path=\"url(#clip370)\" d=\"M562.405 151.305 Q557.243 151.305 555.252 152.486 Q553.261 153.666 553.261 156.514 Q553.261 158.782 554.743 160.125 Q556.248 161.444 558.817 161.444 Q562.359 161.444 564.488 158.944 Q566.641 156.421 566.641 152.254 L566.641 151.305 L562.405 151.305 M570.9 149.546 L570.9 164.338 L566.641 164.338 L566.641 160.402 Q565.183 162.763 563.007 163.898 Q560.831 165.009 557.683 165.009 Q553.701 165.009 551.34 162.787 Q549.002 160.541 549.002 156.791 Q549.002 152.416 551.919 150.194 Q554.859 147.972 560.669 147.972 L566.641 147.972 L566.641 147.555 Q566.641 144.615 564.697 143.018 Q562.775 141.398 559.28 141.398 Q557.058 141.398 554.951 141.93 Q552.845 142.463 550.9 143.527 L550.9 139.592 Q553.238 138.69 555.437 138.25 Q557.636 137.787 559.72 137.787 Q565.345 137.787 568.122 140.703 Q570.9 143.62 570.9 149.546 Z\" fill=\"#000000\" fill-rule=\"evenodd\" fill-opacity=\"1\" /><polyline clip-path=\"url(#clip370)\" style=\"stroke:#e26f46; stroke-linecap:round; stroke-linejoin:round; stroke-width:4; stroke-opacity:1; fill:none\" points=\"304.305,198.898 447.22,198.898 \"/>\n",
       "<path clip-path=\"url(#clip370)\" d=\"M471.04 181.618 L500.276 181.618 L500.276 185.553 L488.007 185.553 L488.007 216.178 L483.308 216.178 L483.308 185.553 L471.04 185.553 L471.04 181.618 Z\" fill=\"#000000\" fill-rule=\"evenodd\" fill-opacity=\"1\" /><path clip-path=\"url(#clip370)\" d=\"M512.66 194.233 Q511.942 193.817 511.086 193.631 Q510.252 193.423 509.234 193.423 Q505.623 193.423 503.678 195.784 Q501.757 198.122 501.757 202.52 L501.757 216.178 L497.475 216.178 L497.475 190.252 L501.757 190.252 L501.757 194.28 Q503.1 191.918 505.252 190.784 Q507.405 189.627 510.484 189.627 Q510.924 189.627 511.456 189.696 Q511.988 189.743 512.637 189.858 L512.66 194.233 Z\" fill=\"#000000\" fill-rule=\"evenodd\" fill-opacity=\"1\" /><path clip-path=\"url(#clip370)\" d=\"M516.688 205.946 L516.688 190.252 L520.947 190.252 L520.947 205.784 Q520.947 209.465 522.382 211.316 Q523.817 213.145 526.687 213.145 Q530.137 213.145 532.127 210.946 Q534.141 208.747 534.141 204.951 L534.141 190.252 L538.4 190.252 L538.4 216.178 L534.141 216.178 L534.141 212.196 Q532.59 214.557 530.53 215.715 Q528.493 216.849 525.785 216.849 Q521.317 216.849 519.002 214.071 Q516.688 211.293 516.688 205.946 M527.405 189.627 L527.405 189.627 Z\" fill=\"#000000\" fill-rule=\"evenodd\" fill-opacity=\"1\" /><path clip-path=\"url(#clip370)\" d=\"M569.349 202.15 L569.349 204.233 L549.766 204.233 Q550.044 208.631 552.405 210.946 Q554.789 213.238 559.025 213.238 Q561.479 213.238 563.771 212.636 Q566.085 212.034 568.354 210.83 L568.354 214.858 Q566.062 215.83 563.655 216.34 Q561.247 216.849 558.771 216.849 Q552.567 216.849 548.933 213.238 Q545.322 209.627 545.322 203.469 Q545.322 197.104 548.748 193.377 Q552.197 189.627 558.03 189.627 Q563.261 189.627 566.294 193.006 Q569.349 196.363 569.349 202.15 M565.09 200.9 Q565.044 197.405 563.122 195.321 Q561.224 193.238 558.076 193.238 Q554.511 193.238 552.359 195.252 Q550.229 197.266 549.905 200.923 L565.09 200.9 Z\" fill=\"#000000\" fill-rule=\"evenodd\" fill-opacity=\"1\" /><path clip-path=\"url(#clip370)\" d=\"M591.409 180.159 L595.669 180.159 L595.669 216.178 L591.409 216.178 L591.409 180.159 Z\" fill=\"#000000\" fill-rule=\"evenodd\" fill-opacity=\"1\" /><path clip-path=\"url(#clip370)\" d=\"M604.581 190.252 L608.84 190.252 L608.84 216.178 L604.581 216.178 L604.581 190.252 M604.581 180.159 L608.84 180.159 L608.84 185.553 L604.581 185.553 L604.581 180.159 Z\" fill=\"#000000\" fill-rule=\"evenodd\" fill-opacity=\"1\" /><path clip-path=\"url(#clip370)\" d=\"M639.303 200.529 L639.303 216.178 L635.043 216.178 L635.043 200.668 Q635.043 196.988 633.608 195.159 Q632.173 193.33 629.303 193.33 Q625.854 193.33 623.863 195.53 Q621.872 197.729 621.872 201.525 L621.872 216.178 L617.59 216.178 L617.59 190.252 L621.872 190.252 L621.872 194.28 Q623.4 191.942 625.46 190.784 Q627.543 189.627 630.252 189.627 Q634.719 189.627 637.011 192.405 Q639.303 195.159 639.303 200.529 Z\" fill=\"#000000\" fill-rule=\"evenodd\" fill-opacity=\"1\" /><path clip-path=\"url(#clip370)\" d=\"M669.974 202.15 L669.974 204.233 L650.391 204.233 Q650.668 208.631 653.029 210.946 Q655.414 213.238 659.65 213.238 Q662.103 213.238 664.395 212.636 Q666.71 212.034 668.978 210.83 L668.978 214.858 Q666.687 215.83 664.279 216.34 Q661.872 216.849 659.395 216.849 Q653.191 216.849 649.557 213.238 Q645.946 209.627 645.946 203.469 Q645.946 197.104 649.372 193.377 Q652.821 189.627 658.654 189.627 Q663.886 189.627 666.918 193.006 Q669.974 196.363 669.974 202.15 M665.715 200.9 Q665.668 197.405 663.747 195.321 Q661.849 193.238 658.701 193.238 Q655.136 193.238 652.983 195.252 Q650.853 197.266 650.529 200.923 L665.715 200.9 Z\" fill=\"#000000\" fill-rule=\"evenodd\" fill-opacity=\"1\" /><polyline clip-path=\"url(#clip370)\" style=\"stroke:#3da44d; stroke-linecap:round; stroke-linejoin:round; stroke-width:4; stroke-opacity:1; fill:none\" points=\"304.305,250.738 447.22,250.738 \"/>\n",
       "<path clip-path=\"url(#clip370)\" d=\"M471.04 233.458 L490.901 233.458 L490.901 237.393 L475.716 237.393 L475.716 247.578 L489.419 247.578 L489.419 251.513 L475.716 251.513 L475.716 268.018 L471.04 268.018 L471.04 233.458 Z\" fill=\"#000000\" fill-rule=\"evenodd\" fill-opacity=\"1\" /><path clip-path=\"url(#clip370)\" d=\"M494.674 242.092 L498.933 242.092 L498.933 268.018 L494.674 268.018 L494.674 242.092 M494.674 231.999 L498.933 231.999 L498.933 237.393 L494.674 237.393 L494.674 231.999 Z\" fill=\"#000000\" fill-rule=\"evenodd\" fill-opacity=\"1\" /><path clip-path=\"url(#clip370)\" d=\"M512.058 234.731 L512.058 242.092 L520.831 242.092 L520.831 245.402 L512.058 245.402 L512.058 259.476 Q512.058 262.647 512.914 263.55 Q513.794 264.453 516.456 264.453 L520.831 264.453 L520.831 268.018 L516.456 268.018 Q511.526 268.018 509.651 266.189 Q507.776 264.337 507.776 259.476 L507.776 245.402 L504.651 245.402 L504.651 242.092 L507.776 242.092 L507.776 234.731 L512.058 234.731 Z\" fill=\"#000000\" fill-rule=\"evenodd\" fill-opacity=\"1\" /><path clip-path=\"url(#clip370)\" d=\"M530.646 234.731 L530.646 242.092 L539.419 242.092 L539.419 245.402 L530.646 245.402 L530.646 259.476 Q530.646 262.647 531.502 263.55 Q532.382 264.453 535.044 264.453 L539.419 264.453 L539.419 268.018 L535.044 268.018 Q530.113 268.018 528.238 266.189 Q526.363 264.337 526.363 259.476 L526.363 245.402 L523.238 245.402 L523.238 242.092 L526.363 242.092 L526.363 234.731 L530.646 234.731 Z\" fill=\"#000000\" fill-rule=\"evenodd\" fill-opacity=\"1\" /><path clip-path=\"url(#clip370)\" d=\"M567.197 253.99 L567.197 256.073 L547.613 256.073 Q547.891 260.471 550.252 262.786 Q552.636 265.078 556.873 265.078 Q559.326 265.078 561.618 264.476 Q563.933 263.874 566.201 262.67 L566.201 266.698 Q563.91 267.67 561.502 268.18 Q559.095 268.689 556.618 268.689 Q550.414 268.689 546.78 265.078 Q543.169 261.467 543.169 255.309 Q543.169 248.944 546.595 245.217 Q550.044 241.467 555.877 241.467 Q561.109 241.467 564.141 244.846 Q567.197 248.203 567.197 253.99 M562.937 252.74 Q562.891 249.245 560.97 247.161 Q559.072 245.078 555.923 245.078 Q552.359 245.078 550.206 247.092 Q548.076 249.106 547.752 252.763 L562.937 252.74 Z\" fill=\"#000000\" fill-rule=\"evenodd\" fill-opacity=\"1\" /><path clip-path=\"url(#clip370)\" d=\"M591.247 246.027 L591.247 231.999 L595.507 231.999 L595.507 268.018 L591.247 268.018 L591.247 264.129 Q589.905 266.443 587.845 267.578 Q585.808 268.689 582.937 268.689 Q578.238 268.689 575.275 264.939 Q572.335 261.189 572.335 255.078 Q572.335 248.967 575.275 245.217 Q578.238 241.467 582.937 241.467 Q585.808 241.467 587.845 242.601 Q589.905 243.712 591.247 246.027 M576.734 255.078 Q576.734 259.777 578.655 262.462 Q580.599 265.124 583.979 265.124 Q587.358 265.124 589.303 262.462 Q591.247 259.777 591.247 255.078 Q591.247 250.379 589.303 247.717 Q587.358 245.032 583.979 245.032 Q580.599 245.032 578.655 247.717 Q576.734 250.379 576.734 255.078 Z\" fill=\"#000000\" fill-rule=\"evenodd\" fill-opacity=\"1\" /><path clip-path=\"url(#clip370)\" d=\"M619.349 231.999 L623.608 231.999 L623.608 268.018 L619.349 268.018 L619.349 231.999 Z\" fill=\"#000000\" fill-rule=\"evenodd\" fill-opacity=\"1\" /><path clip-path=\"url(#clip370)\" d=\"M632.52 242.092 L636.779 242.092 L636.779 268.018 L632.52 268.018 L632.52 242.092 M632.52 231.999 L636.779 231.999 L636.779 237.393 L632.52 237.393 L632.52 231.999 Z\" fill=\"#000000\" fill-rule=\"evenodd\" fill-opacity=\"1\" /><path clip-path=\"url(#clip370)\" d=\"M667.242 252.369 L667.242 268.018 L662.983 268.018 L662.983 252.508 Q662.983 248.828 661.548 246.999 Q660.113 245.17 657.242 245.17 Q653.793 245.17 651.803 247.37 Q649.812 249.569 649.812 253.365 L649.812 268.018 L645.529 268.018 L645.529 242.092 L649.812 242.092 L649.812 246.12 Q651.34 243.782 653.4 242.624 Q655.483 241.467 658.191 241.467 Q662.659 241.467 664.951 244.245 Q667.242 246.999 667.242 252.369 Z\" fill=\"#000000\" fill-rule=\"evenodd\" fill-opacity=\"1\" /><path clip-path=\"url(#clip370)\" d=\"M697.913 253.99 L697.913 256.073 L678.33 256.073 Q678.608 260.471 680.969 262.786 Q683.353 265.078 687.589 265.078 Q690.043 265.078 692.335 264.476 Q694.65 263.874 696.918 262.67 L696.918 266.698 Q694.626 267.67 692.219 268.18 Q689.812 268.689 687.335 268.689 Q681.131 268.689 677.497 265.078 Q673.886 261.467 673.886 255.309 Q673.886 248.944 677.312 245.217 Q680.761 241.467 686.594 241.467 Q691.825 241.467 694.858 244.846 Q697.913 248.203 697.913 253.99 M693.654 252.74 Q693.608 249.245 691.687 247.161 Q689.788 245.078 686.64 245.078 Q683.076 245.078 680.923 247.092 Q678.793 249.106 678.469 252.763 L693.654 252.74 Z\" fill=\"#000000\" fill-rule=\"evenodd\" fill-opacity=\"1\" /></svg>\n"
      ]
     },
     "execution_count": 16,
     "metadata": {},
     "output_type": "execute_result"
    }
   ],
   "source": [
    "y_observed =  x .^2 .+3 .*x .-2  + rand(d,length(x))\n",
    "y_true =  x .^2 .+3 .*x .-2 \n",
    "line_fit = fit(x,y_observed,1)\n",
    "fit_coeff = coeffs(line_fit)\n",
    "y_fitted = fit_coeff[1] .+ fit_coeff[2] .*x\n",
    "scatter(x,y_observed, label=\"data\")\n",
    "plot!(x,y_true, label=\"True line\")\n",
    "plot!(x,y_fitted,label=\"Fitted line\")"
   ]
  },
  {
   "cell_type": "markdown",
   "id": "ab12acbd",
   "metadata": {},
   "source": [
    "2. Compare the plot with the plot in 2.3. Is the fit closer to y_true or not, and why?"
   ]
  },
  {
   "cell_type": "markdown",
   "id": "a34fcca4",
   "metadata": {},
   "source": [
    "Yes, the fit in the new plot is closer to y_true."
   ]
  },
  {
   "cell_type": "markdown",
   "id": "5fd1d93b",
   "metadata": {},
   "source": [
    "### 2.5\n",
    "\n",
    "#### Repeat 2.2 and 2.3 with a tenth order polynomial fit\n"
   ]
  },
  {
   "cell_type": "code",
   "execution_count": 17,
   "id": "b6dbd546",
   "metadata": {},
   "outputs": [
    {
     "data": {
      "text/plain": [
       "Distributions.Normal{Float64}(μ=0.0, σ=10.0)"
      ]
     },
     "execution_count": 17,
     "metadata": {},
     "output_type": "execute_result"
    }
   ],
   "source": [
    "y_true = x .^10 .+ x .^2 .+3 .*x .-2 \n",
    "dataerr = 10.0\n",
    "d = di.Normal(0,dataerr)"
   ]
  },
  {
   "cell_type": "code",
   "execution_count": 18,
   "id": "77f970b6",
   "metadata": {},
   "outputs": [
    {
     "data": {
      "text/plain": [
       "21-element Vector{Float64}:\n",
       "     1.0000000068898907e10\n",
       "     3.486784443572906e9\n",
       "     1.0737418570528128e9\n",
       "     2.8247526276793e8\n",
       "     6.04661759903877e7\n",
       "     9.765635246916687e6\n",
       "     1.048579351795264e6\n",
       " 59054.57791115998\n",
       "  1021.8336278325335\n",
       "    -1.7942292780739812\n",
       "    13.746295644227713\n",
       "    -1.1536123013853414\n",
       "  1029.2767412842927\n",
       " 59068.62497524236\n",
       "     1.0485917772380596e6\n",
       "     9.76566446273423e6\n",
       "     6.046623220924514e7\n",
       "     2.824753324326063e8\n",
       "     1.0737419132329416e9\n",
       "     3.4867845110454464e9\n",
       "     1.0000000127062826e10"
      ]
     },
     "execution_count": 18,
     "metadata": {},
     "output_type": "execute_result"
    }
   ],
   "source": [
    "y_observed = y_true + rand(d,length(x))"
   ]
  },
  {
   "cell_type": "code",
   "execution_count": 19,
   "id": "d4dad554",
   "metadata": {},
   "outputs": [
    {
     "data": {
      "image/svg+xml": [
       "<?xml version=\"1.0\" encoding=\"utf-8\"?>\n",
       "<svg xmlns=\"http://www.w3.org/2000/svg\" xmlns:xlink=\"http://www.w3.org/1999/xlink\" width=\"600\" height=\"400\" viewBox=\"0 0 2400 1600\">\n",
       "<defs>\n",
       "  <clipPath id=\"clip410\">\n",
       "    <rect x=\"0\" y=\"0\" width=\"2400\" height=\"1600\"/>\n",
       "  </clipPath>\n",
       "</defs>\n",
       "<path clip-path=\"url(#clip410)\" d=\"M0 1600 L2400 1600 L2400 0 L0 0  Z\" fill=\"#ffffff\" fill-rule=\"evenodd\" fill-opacity=\"1\"/>\n",
       "<defs>\n",
       "  <clipPath id=\"clip411\">\n",
       "    <rect x=\"480\" y=\"0\" width=\"1681\" height=\"1600\"/>\n",
       "  </clipPath>\n",
       "</defs>\n",
       "<path clip-path=\"url(#clip410)\" d=\"M326.46 1486.45 L2352.76 1486.45 L2352.76 47.2441 L326.46 47.2441  Z\" fill=\"#ffffff\" fill-rule=\"evenodd\" fill-opacity=\"1\"/>\n",
       "<defs>\n",
       "  <clipPath id=\"clip412\">\n",
       "    <rect x=\"326\" y=\"47\" width=\"2027\" height=\"1440\"/>\n",
       "  </clipPath>\n",
       "</defs>\n",
       "<polyline clip-path=\"url(#clip412)\" style=\"stroke:#000000; stroke-linecap:round; stroke-linejoin:round; stroke-width:2; stroke-opacity:0.1; fill:none\" points=\"383.808,1486.45 383.808,47.2441 \"/>\n",
       "<polyline clip-path=\"url(#clip412)\" style=\"stroke:#000000; stroke-linecap:round; stroke-linejoin:round; stroke-width:2; stroke-opacity:0.1; fill:none\" points=\"861.708,1486.45 861.708,47.2441 \"/>\n",
       "<polyline clip-path=\"url(#clip412)\" style=\"stroke:#000000; stroke-linecap:round; stroke-linejoin:round; stroke-width:2; stroke-opacity:0.1; fill:none\" points=\"1339.61,1486.45 1339.61,47.2441 \"/>\n",
       "<polyline clip-path=\"url(#clip412)\" style=\"stroke:#000000; stroke-linecap:round; stroke-linejoin:round; stroke-width:2; stroke-opacity:0.1; fill:none\" points=\"1817.51,1486.45 1817.51,47.2441 \"/>\n",
       "<polyline clip-path=\"url(#clip412)\" style=\"stroke:#000000; stroke-linecap:round; stroke-linejoin:round; stroke-width:2; stroke-opacity:0.1; fill:none\" points=\"2295.41,1486.45 2295.41,47.2441 \"/>\n",
       "<polyline clip-path=\"url(#clip410)\" style=\"stroke:#000000; stroke-linecap:round; stroke-linejoin:round; stroke-width:4; stroke-opacity:1; fill:none\" points=\"326.46,1486.45 2352.76,1486.45 \"/>\n",
       "<polyline clip-path=\"url(#clip410)\" style=\"stroke:#000000; stroke-linecap:round; stroke-linejoin:round; stroke-width:4; stroke-opacity:1; fill:none\" points=\"383.808,1486.45 383.808,1467.55 \"/>\n",
       "<polyline clip-path=\"url(#clip410)\" style=\"stroke:#000000; stroke-linecap:round; stroke-linejoin:round; stroke-width:4; stroke-opacity:1; fill:none\" points=\"861.708,1486.45 861.708,1467.55 \"/>\n",
       "<polyline clip-path=\"url(#clip410)\" style=\"stroke:#000000; stroke-linecap:round; stroke-linejoin:round; stroke-width:4; stroke-opacity:1; fill:none\" points=\"1339.61,1486.45 1339.61,1467.55 \"/>\n",
       "<polyline clip-path=\"url(#clip410)\" style=\"stroke:#000000; stroke-linecap:round; stroke-linejoin:round; stroke-width:4; stroke-opacity:1; fill:none\" points=\"1817.51,1486.45 1817.51,1467.55 \"/>\n",
       "<polyline clip-path=\"url(#clip410)\" style=\"stroke:#000000; stroke-linecap:round; stroke-linejoin:round; stroke-width:4; stroke-opacity:1; fill:none\" points=\"2295.41,1486.45 2295.41,1467.55 \"/>\n",
       "<path clip-path=\"url(#clip410)\" d=\"M337.871 1532.02 L367.546 1532.02 L367.546 1535.95 L337.871 1535.95 L337.871 1532.02 Z\" fill=\"#000000\" fill-rule=\"evenodd\" fill-opacity=\"1\" /><path clip-path=\"url(#clip410)\" d=\"M378.449 1544.91 L386.088 1544.91 L386.088 1518.55 L377.778 1520.21 L377.778 1515.95 L386.042 1514.29 L390.718 1514.29 L390.718 1544.91 L398.356 1544.91 L398.356 1548.85 L378.449 1548.85 L378.449 1544.91 Z\" fill=\"#000000\" fill-rule=\"evenodd\" fill-opacity=\"1\" /><path clip-path=\"url(#clip410)\" d=\"M417.801 1517.37 Q414.19 1517.37 412.361 1520.93 Q410.555 1524.47 410.555 1531.6 Q410.555 1538.71 412.361 1542.27 Q414.19 1545.82 417.801 1545.82 Q421.435 1545.82 423.241 1542.27 Q425.069 1538.71 425.069 1531.6 Q425.069 1524.47 423.241 1520.93 Q421.435 1517.37 417.801 1517.37 M417.801 1513.66 Q423.611 1513.66 426.666 1518.27 Q429.745 1522.85 429.745 1531.6 Q429.745 1540.33 426.666 1544.94 Q423.611 1549.52 417.801 1549.52 Q411.991 1549.52 408.912 1544.94 Q405.856 1540.33 405.856 1531.6 Q405.856 1522.85 408.912 1518.27 Q411.991 1513.66 417.801 1513.66 Z\" fill=\"#000000\" fill-rule=\"evenodd\" fill-opacity=\"1\" /><path clip-path=\"url(#clip410)\" d=\"M831.349 1532.02 L861.025 1532.02 L861.025 1535.95 L831.349 1535.95 L831.349 1532.02 Z\" fill=\"#000000\" fill-rule=\"evenodd\" fill-opacity=\"1\" /><path clip-path=\"url(#clip410)\" d=\"M871.164 1514.29 L889.52 1514.29 L889.52 1518.22 L875.446 1518.22 L875.446 1526.7 Q876.465 1526.35 877.483 1526.19 Q878.502 1526 879.52 1526 Q885.307 1526 888.687 1529.17 Q892.067 1532.34 892.067 1537.76 Q892.067 1543.34 888.594 1546.44 Q885.122 1549.52 878.803 1549.52 Q876.627 1549.52 874.358 1549.15 Q872.113 1548.78 869.706 1548.04 L869.706 1543.34 Q871.789 1544.47 874.011 1545.03 Q876.233 1545.58 878.71 1545.58 Q882.715 1545.58 885.053 1543.48 Q887.391 1541.37 887.391 1537.76 Q887.391 1534.15 885.053 1532.04 Q882.715 1529.94 878.71 1529.94 Q876.835 1529.94 874.96 1530.35 Q873.108 1530.77 871.164 1531.65 L871.164 1514.29 Z\" fill=\"#000000\" fill-rule=\"evenodd\" fill-opacity=\"1\" /><path clip-path=\"url(#clip410)\" d=\"M1339.61 1517.37 Q1336 1517.37 1334.17 1520.93 Q1332.36 1524.47 1332.36 1531.6 Q1332.36 1538.71 1334.17 1542.27 Q1336 1545.82 1339.61 1545.82 Q1343.24 1545.82 1345.05 1542.27 Q1346.88 1538.71 1346.88 1531.6 Q1346.88 1524.47 1345.05 1520.93 Q1343.24 1517.37 1339.61 1517.37 M1339.61 1513.66 Q1345.42 1513.66 1348.47 1518.27 Q1351.55 1522.85 1351.55 1531.6 Q1351.55 1540.33 1348.47 1544.94 Q1345.42 1549.52 1339.61 1549.52 Q1333.8 1549.52 1330.72 1544.94 Q1327.66 1540.33 1327.66 1531.6 Q1327.66 1522.85 1330.72 1518.27 Q1333.8 1513.66 1339.61 1513.66 Z\" fill=\"#000000\" fill-rule=\"evenodd\" fill-opacity=\"1\" /><path clip-path=\"url(#clip410)\" d=\"M1807.79 1514.29 L1826.14 1514.29 L1826.14 1518.22 L1812.07 1518.22 L1812.07 1526.7 Q1813.09 1526.35 1814.11 1526.19 Q1815.12 1526 1816.14 1526 Q1821.93 1526 1825.31 1529.17 Q1828.69 1532.34 1828.69 1537.76 Q1828.69 1543.34 1825.22 1546.44 Q1821.74 1549.52 1815.42 1549.52 Q1813.25 1549.52 1810.98 1549.15 Q1808.73 1548.78 1806.33 1548.04 L1806.33 1543.34 Q1808.41 1544.47 1810.63 1545.03 Q1812.86 1545.58 1815.33 1545.58 Q1819.34 1545.58 1821.67 1543.48 Q1824.01 1541.37 1824.01 1537.76 Q1824.01 1534.15 1821.67 1532.04 Q1819.34 1529.94 1815.33 1529.94 Q1813.46 1529.94 1811.58 1530.35 Q1809.73 1530.77 1807.79 1531.65 L1807.79 1514.29 Z\" fill=\"#000000\" fill-rule=\"evenodd\" fill-opacity=\"1\" /><path clip-path=\"url(#clip410)\" d=\"M2270.1 1544.91 L2277.73 1544.91 L2277.73 1518.55 L2269.42 1520.21 L2269.42 1515.95 L2277.69 1514.29 L2282.36 1514.29 L2282.36 1544.91 L2290 1544.91 L2290 1548.85 L2270.1 1548.85 L2270.1 1544.91 Z\" fill=\"#000000\" fill-rule=\"evenodd\" fill-opacity=\"1\" /><path clip-path=\"url(#clip410)\" d=\"M2309.45 1517.37 Q2305.84 1517.37 2304.01 1520.93 Q2302.2 1524.47 2302.2 1531.6 Q2302.2 1538.71 2304.01 1542.27 Q2305.84 1545.82 2309.45 1545.82 Q2313.08 1545.82 2314.89 1542.27 Q2316.72 1538.71 2316.72 1531.6 Q2316.72 1524.47 2314.89 1520.93 Q2313.08 1517.37 2309.45 1517.37 M2309.45 1513.66 Q2315.26 1513.66 2318.31 1518.27 Q2321.39 1522.85 2321.39 1531.6 Q2321.39 1540.33 2318.31 1544.94 Q2315.26 1549.52 2309.45 1549.52 Q2303.64 1549.52 2300.56 1544.94 Q2297.5 1540.33 2297.5 1531.6 Q2297.5 1522.85 2300.56 1518.27 Q2303.64 1513.66 2309.45 1513.66 Z\" fill=\"#000000\" fill-rule=\"evenodd\" fill-opacity=\"1\" /><polyline clip-path=\"url(#clip412)\" style=\"stroke:#000000; stroke-linecap:round; stroke-linejoin:round; stroke-width:2; stroke-opacity:0.1; fill:none\" points=\"326.46,1445.72 2352.76,1445.72 \"/>\n",
       "<polyline clip-path=\"url(#clip412)\" style=\"stroke:#000000; stroke-linecap:round; stroke-linejoin:round; stroke-width:2; stroke-opacity:0.1; fill:none\" points=\"326.46,1106.28 2352.76,1106.28 \"/>\n",
       "<polyline clip-path=\"url(#clip412)\" style=\"stroke:#000000; stroke-linecap:round; stroke-linejoin:round; stroke-width:2; stroke-opacity:0.1; fill:none\" points=\"326.46,766.846 2352.76,766.846 \"/>\n",
       "<polyline clip-path=\"url(#clip412)\" style=\"stroke:#000000; stroke-linecap:round; stroke-linejoin:round; stroke-width:2; stroke-opacity:0.1; fill:none\" points=\"326.46,427.411 2352.76,427.411 \"/>\n",
       "<polyline clip-path=\"url(#clip412)\" style=\"stroke:#000000; stroke-linecap:round; stroke-linejoin:round; stroke-width:2; stroke-opacity:0.1; fill:none\" points=\"326.46,87.9763 2352.76,87.9763 \"/>\n",
       "<polyline clip-path=\"url(#clip410)\" style=\"stroke:#000000; stroke-linecap:round; stroke-linejoin:round; stroke-width:4; stroke-opacity:1; fill:none\" points=\"326.46,1486.45 326.46,47.2441 \"/>\n",
       "<polyline clip-path=\"url(#clip410)\" style=\"stroke:#000000; stroke-linecap:round; stroke-linejoin:round; stroke-width:4; stroke-opacity:1; fill:none\" points=\"326.46,1445.72 345.358,1445.72 \"/>\n",
       "<polyline clip-path=\"url(#clip410)\" style=\"stroke:#000000; stroke-linecap:round; stroke-linejoin:round; stroke-width:4; stroke-opacity:1; fill:none\" points=\"326.46,1106.28 345.358,1106.28 \"/>\n",
       "<polyline clip-path=\"url(#clip410)\" style=\"stroke:#000000; stroke-linecap:round; stroke-linejoin:round; stroke-width:4; stroke-opacity:1; fill:none\" points=\"326.46,766.846 345.358,766.846 \"/>\n",
       "<polyline clip-path=\"url(#clip410)\" style=\"stroke:#000000; stroke-linecap:round; stroke-linejoin:round; stroke-width:4; stroke-opacity:1; fill:none\" points=\"326.46,427.411 345.358,427.411 \"/>\n",
       "<polyline clip-path=\"url(#clip410)\" style=\"stroke:#000000; stroke-linecap:round; stroke-linejoin:round; stroke-width:4; stroke-opacity:1; fill:none\" points=\"326.46,87.9763 345.358,87.9763 \"/>\n",
       "<path clip-path=\"url(#clip410)\" d=\"M278.516 1431.51 Q274.904 1431.51 273.076 1435.08 Q271.27 1438.62 271.27 1445.75 Q271.27 1452.86 273.076 1456.42 Q274.904 1459.96 278.516 1459.96 Q282.15 1459.96 283.955 1456.42 Q285.784 1452.86 285.784 1445.75 Q285.784 1438.62 283.955 1435.08 Q282.15 1431.51 278.516 1431.51 M278.516 1427.81 Q284.326 1427.81 287.381 1432.42 Q290.46 1437 290.46 1445.75 Q290.46 1454.48 287.381 1459.08 Q284.326 1463.67 278.516 1463.67 Q272.705 1463.67 269.627 1459.08 Q266.571 1454.48 266.571 1445.75 Q266.571 1437 269.627 1432.42 Q272.705 1427.81 278.516 1427.81 Z\" fill=\"#000000\" fill-rule=\"evenodd\" fill-opacity=\"1\" /><path clip-path=\"url(#clip410)\" d=\"M77.7324 1126.07 L94.0518 1126.07 L94.0518 1130.01 L72.1075 1130.01 L72.1075 1126.07 Q74.7695 1123.32 79.3528 1118.69 Q83.9593 1114.04 85.1398 1112.69 Q87.3852 1110.17 88.2648 1108.43 Q89.1676 1106.68 89.1676 1104.99 Q89.1676 1102.23 87.2231 1100.49 Q85.3018 1098.76 82.2 1098.76 Q80.0009 1098.76 77.5472 1099.52 Q75.1167 1100.29 72.3389 1101.84 L72.3389 1097.12 Q75.163 1095.98 77.6167 1095.4 Q80.0704 1094.82 82.1074 1094.82 Q87.4778 1094.82 90.6722 1097.51 Q93.8666 1100.19 93.8666 1104.68 Q93.8666 1106.81 93.0564 1108.74 Q92.2694 1110.63 90.1629 1113.23 Q89.5842 1113.9 86.4824 1117.11 Q83.3806 1120.31 77.7324 1126.07 Z\" fill=\"#000000\" fill-rule=\"evenodd\" fill-opacity=\"1\" /><path clip-path=\"url(#clip410)\" d=\"M103.867 1124.13 L108.751 1124.13 L108.751 1130.01 L103.867 1130.01 L103.867 1124.13 Z\" fill=\"#000000\" fill-rule=\"evenodd\" fill-opacity=\"1\" /><path clip-path=\"url(#clip410)\" d=\"M118.982 1095.45 L137.339 1095.45 L137.339 1099.38 L123.265 1099.38 L123.265 1107.86 Q124.283 1107.51 125.302 1107.35 Q126.32 1107.16 127.339 1107.16 Q133.126 1107.16 136.505 1110.33 Q139.885 1113.5 139.885 1118.92 Q139.885 1124.5 136.413 1127.6 Q132.94 1130.68 126.621 1130.68 Q124.445 1130.68 122.177 1130.31 Q119.931 1129.94 117.524 1129.2 L117.524 1124.5 Q119.607 1125.63 121.829 1126.19 Q124.052 1126.74 126.528 1126.74 Q130.533 1126.74 132.871 1124.64 Q135.209 1122.53 135.209 1118.92 Q135.209 1115.31 132.871 1113.2 Q130.533 1111.1 126.528 1111.1 Q124.653 1111.1 122.778 1111.51 Q120.927 1111.93 118.982 1112.81 L118.982 1095.45 Z\" fill=\"#000000\" fill-rule=\"evenodd\" fill-opacity=\"1\" /><path clip-path=\"url(#clip410)\" d=\"M159.098 1098.53 Q155.487 1098.53 153.658 1102.09 Q151.852 1105.63 151.852 1112.76 Q151.852 1119.87 153.658 1123.43 Q155.487 1126.98 159.098 1126.98 Q162.732 1126.98 164.538 1123.43 Q166.366 1119.87 166.366 1112.76 Q166.366 1105.63 164.538 1102.09 Q162.732 1098.53 159.098 1098.53 M159.098 1094.82 Q164.908 1094.82 167.963 1099.43 Q171.042 1104.01 171.042 1112.76 Q171.042 1121.49 167.963 1126.1 Q164.908 1130.68 159.098 1130.68 Q153.288 1130.68 150.209 1126.1 Q147.153 1121.49 147.153 1112.76 Q147.153 1104.01 150.209 1099.43 Q153.288 1094.82 159.098 1094.82 Z\" fill=\"#000000\" fill-rule=\"evenodd\" fill-opacity=\"1\" /><path clip-path=\"url(#clip410)\" d=\"M207.431 1104.55 L196.852 1115.17 L207.431 1125.75 L204.676 1128.55 L194.051 1117.93 L183.426 1128.55 L180.695 1125.75 L191.25 1115.17 L180.695 1104.55 L183.426 1101.74 L194.051 1112.37 L204.676 1101.74 L207.431 1104.55 Z\" fill=\"#000000\" fill-rule=\"evenodd\" fill-opacity=\"1\" /><path clip-path=\"url(#clip410)\" d=\"M219.792 1126.07 L227.431 1126.07 L227.431 1099.71 L219.121 1101.37 L219.121 1097.12 L227.384 1095.45 L232.06 1095.45 L232.06 1126.07 L239.699 1126.07 L239.699 1130.01 L219.792 1130.01 L219.792 1126.07 Z\" fill=\"#000000\" fill-rule=\"evenodd\" fill-opacity=\"1\" /><path clip-path=\"url(#clip410)\" d=\"M259.143 1098.53 Q255.532 1098.53 253.704 1102.09 Q251.898 1105.63 251.898 1112.76 Q251.898 1119.87 253.704 1123.43 Q255.532 1126.98 259.143 1126.98 Q262.778 1126.98 264.583 1123.43 Q266.412 1119.87 266.412 1112.76 Q266.412 1105.63 264.583 1102.09 Q262.778 1098.53 259.143 1098.53 M259.143 1094.82 Q264.954 1094.82 268.009 1099.43 Q271.088 1104.01 271.088 1112.76 Q271.088 1121.49 268.009 1126.1 Q264.954 1130.68 259.143 1130.68 Q253.333 1130.68 250.255 1126.1 Q247.199 1121.49 247.199 1112.76 Q247.199 1104.01 250.255 1099.43 Q253.333 1094.82 259.143 1094.82 Z\" fill=\"#000000\" fill-rule=\"evenodd\" fill-opacity=\"1\" /><path clip-path=\"url(#clip410)\" d=\"M272.893 1102.02 L272.893 1098.55 Q274.323 1099.23 275.79 1099.59 Q277.257 1099.95 278.667 1099.95 Q282.429 1099.95 284.404 1097.43 Q286.397 1094.89 286.68 1089.73 Q285.589 1091.35 283.915 1092.22 Q282.241 1093.08 280.21 1093.08 Q275.997 1093.08 273.533 1090.54 Q271.088 1087.98 271.088 1083.56 Q271.088 1079.24 273.646 1076.62 Q276.204 1074.01 280.454 1074.01 Q285.325 1074.01 287.883 1077.75 Q290.46 1081.48 290.46 1088.59 Q290.46 1095.23 287.3 1099.19 Q284.159 1103.14 278.837 1103.14 Q277.407 1103.14 275.94 1102.86 Q274.473 1102.58 272.893 1102.02 M280.454 1090.11 Q283.012 1090.11 284.498 1088.36 Q286.002 1086.61 286.002 1083.56 Q286.002 1080.54 284.498 1078.79 Q283.012 1077.02 280.454 1077.02 Q277.896 1077.02 276.392 1078.79 Q274.906 1080.54 274.906 1083.56 Q274.906 1086.61 276.392 1088.36 Q277.896 1090.11 280.454 1090.11 Z\" fill=\"#000000\" fill-rule=\"evenodd\" fill-opacity=\"1\" /><path clip-path=\"url(#clip410)\" d=\"M73.751 756.014 L92.1074 756.014 L92.1074 759.949 L78.0334 759.949 L78.0334 768.421 Q79.0519 768.074 80.0704 767.912 Q81.0889 767.726 82.1074 767.726 Q87.8944 767.726 91.274 770.898 Q94.6536 774.069 94.6536 779.486 Q94.6536 785.064 91.1814 788.166 Q87.7092 791.245 81.3898 791.245 Q79.2139 791.245 76.9454 790.875 Q74.7 790.504 72.2926 789.763 L72.2926 785.064 Q74.376 786.199 76.5982 786.754 Q78.8204 787.31 81.2972 787.31 Q85.3018 787.31 87.6398 785.203 Q89.9777 783.097 89.9777 779.486 Q89.9777 775.875 87.6398 773.768 Q85.3018 771.662 81.2972 771.662 Q79.4222 771.662 77.5472 772.078 Q75.6954 772.495 73.751 773.375 L73.751 756.014 Z\" fill=\"#000000\" fill-rule=\"evenodd\" fill-opacity=\"1\" /><path clip-path=\"url(#clip410)\" d=\"M103.867 784.694 L108.751 784.694 L108.751 790.574 L103.867 790.574 L103.867 784.694 Z\" fill=\"#000000\" fill-rule=\"evenodd\" fill-opacity=\"1\" /><path clip-path=\"url(#clip410)\" d=\"M128.936 759.092 Q125.325 759.092 123.496 762.657 Q121.691 766.199 121.691 773.328 Q121.691 780.435 123.496 784 Q125.325 787.541 128.936 787.541 Q132.57 787.541 134.376 784 Q136.204 780.435 136.204 773.328 Q136.204 766.199 134.376 762.657 Q132.57 759.092 128.936 759.092 M128.936 755.389 Q134.746 755.389 137.802 759.995 Q140.88 764.578 140.88 773.328 Q140.88 782.055 137.802 786.662 Q134.746 791.245 128.936 791.245 Q123.126 791.245 120.047 786.662 Q116.991 782.055 116.991 773.328 Q116.991 764.578 120.047 759.995 Q123.126 755.389 128.936 755.389 Z\" fill=\"#000000\" fill-rule=\"evenodd\" fill-opacity=\"1\" /><path clip-path=\"url(#clip410)\" d=\"M159.098 759.092 Q155.487 759.092 153.658 762.657 Q151.852 766.199 151.852 773.328 Q151.852 780.435 153.658 784 Q155.487 787.541 159.098 787.541 Q162.732 787.541 164.538 784 Q166.366 780.435 166.366 773.328 Q166.366 766.199 164.538 762.657 Q162.732 759.092 159.098 759.092 M159.098 755.389 Q164.908 755.389 167.963 759.995 Q171.042 764.578 171.042 773.328 Q171.042 782.055 167.963 786.662 Q164.908 791.245 159.098 791.245 Q153.288 791.245 150.209 786.662 Q147.153 782.055 147.153 773.328 Q147.153 764.578 150.209 759.995 Q153.288 755.389 159.098 755.389 Z\" fill=\"#000000\" fill-rule=\"evenodd\" fill-opacity=\"1\" /><path clip-path=\"url(#clip410)\" d=\"M207.431 765.111 L196.852 775.736 L207.431 786.314 L204.676 789.115 L194.051 778.49 L183.426 789.115 L180.695 786.314 L191.25 775.736 L180.695 765.111 L183.426 762.31 L194.051 772.935 L204.676 762.31 L207.431 765.111 Z\" fill=\"#000000\" fill-rule=\"evenodd\" fill-opacity=\"1\" /><path clip-path=\"url(#clip410)\" d=\"M219.792 786.638 L227.431 786.638 L227.431 760.273 L219.121 761.939 L219.121 757.68 L227.384 756.014 L232.06 756.014 L232.06 786.638 L239.699 786.638 L239.699 790.574 L219.792 790.574 L219.792 786.638 Z\" fill=\"#000000\" fill-rule=\"evenodd\" fill-opacity=\"1\" /><path clip-path=\"url(#clip410)\" d=\"M259.143 759.092 Q255.532 759.092 253.704 762.657 Q251.898 766.199 251.898 773.328 Q251.898 780.435 253.704 784 Q255.532 787.541 259.143 787.541 Q262.778 787.541 264.583 784 Q266.412 780.435 266.412 773.328 Q266.412 766.199 264.583 762.657 Q262.778 759.092 259.143 759.092 M259.143 755.389 Q264.954 755.389 268.009 759.995 Q271.088 764.578 271.088 773.328 Q271.088 782.055 268.009 786.662 Q264.954 791.245 259.143 791.245 Q253.333 791.245 250.255 786.662 Q247.199 782.055 247.199 773.328 Q247.199 764.578 250.255 759.995 Q253.333 755.389 259.143 755.389 Z\" fill=\"#000000\" fill-rule=\"evenodd\" fill-opacity=\"1\" /><path clip-path=\"url(#clip410)\" d=\"M272.893 762.58 L272.893 759.12 Q274.323 759.797 275.79 760.154 Q277.257 760.511 278.667 760.511 Q282.429 760.511 284.404 757.991 Q286.397 755.452 286.68 750.299 Q285.589 751.916 283.915 752.781 Q282.241 753.646 280.21 753.646 Q275.997 753.646 273.533 751.107 Q271.088 748.55 271.088 744.13 Q271.088 739.804 273.646 737.19 Q276.204 734.575 280.454 734.575 Q285.325 734.575 287.883 738.318 Q290.46 742.042 290.46 749.151 Q290.46 755.791 287.3 759.759 Q284.159 763.709 278.837 763.709 Q277.407 763.709 275.94 763.427 Q274.473 763.144 272.893 762.58 M280.454 750.675 Q283.012 750.675 284.498 748.926 Q286.002 747.177 286.002 744.13 Q286.002 741.102 284.498 739.353 Q283.012 737.585 280.454 737.585 Q277.896 737.585 276.392 739.353 Q274.906 741.102 274.906 744.13 Q274.906 747.177 276.392 748.926 Q277.896 750.675 280.454 750.675 Z\" fill=\"#000000\" fill-rule=\"evenodd\" fill-opacity=\"1\" /><path clip-path=\"url(#clip410)\" d=\"M72.5241 416.579 L94.7462 416.579 L94.7462 418.569 L82.2 451.139 L77.3158 451.139 L89.1213 420.514 L72.5241 420.514 L72.5241 416.579 Z\" fill=\"#000000\" fill-rule=\"evenodd\" fill-opacity=\"1\" /><path clip-path=\"url(#clip410)\" d=\"M103.867 445.259 L108.751 445.259 L108.751 451.139 L103.867 451.139 L103.867 445.259 Z\" fill=\"#000000\" fill-rule=\"evenodd\" fill-opacity=\"1\" /><path clip-path=\"url(#clip410)\" d=\"M118.982 416.579 L137.339 416.579 L137.339 420.514 L123.265 420.514 L123.265 428.986 Q124.283 428.639 125.302 428.477 Q126.32 428.292 127.339 428.292 Q133.126 428.292 136.505 431.463 Q139.885 434.634 139.885 440.051 Q139.885 445.63 136.413 448.731 Q132.94 451.81 126.621 451.81 Q124.445 451.81 122.177 451.44 Q119.931 451.069 117.524 450.329 L117.524 445.63 Q119.607 446.764 121.829 447.319 Q124.052 447.875 126.528 447.875 Q130.533 447.875 132.871 445.768 Q135.209 443.662 135.209 440.051 Q135.209 436.44 132.871 434.333 Q130.533 432.227 126.528 432.227 Q124.653 432.227 122.778 432.643 Q120.927 433.06 118.982 433.94 L118.982 416.579 Z\" fill=\"#000000\" fill-rule=\"evenodd\" fill-opacity=\"1\" /><path clip-path=\"url(#clip410)\" d=\"M159.098 419.657 Q155.487 419.657 153.658 423.222 Q151.852 426.764 151.852 433.893 Q151.852 441 153.658 444.565 Q155.487 448.106 159.098 448.106 Q162.732 448.106 164.538 444.565 Q166.366 441 166.366 433.893 Q166.366 426.764 164.538 423.222 Q162.732 419.657 159.098 419.657 M159.098 415.954 Q164.908 415.954 167.963 420.56 Q171.042 425.144 171.042 433.893 Q171.042 442.62 167.963 447.227 Q164.908 451.81 159.098 451.81 Q153.288 451.81 150.209 447.227 Q147.153 442.62 147.153 433.893 Q147.153 425.144 150.209 420.56 Q153.288 415.954 159.098 415.954 Z\" fill=\"#000000\" fill-rule=\"evenodd\" fill-opacity=\"1\" /><path clip-path=\"url(#clip410)\" d=\"M207.431 425.676 L196.852 436.301 L207.431 446.88 L204.676 449.68 L194.051 439.055 L183.426 449.68 L180.695 446.88 L191.25 436.301 L180.695 425.676 L183.426 422.875 L194.051 433.5 L204.676 422.875 L207.431 425.676 Z\" fill=\"#000000\" fill-rule=\"evenodd\" fill-opacity=\"1\" /><path clip-path=\"url(#clip410)\" d=\"M219.792 447.204 L227.431 447.204 L227.431 420.838 L219.121 422.505 L219.121 418.245 L227.384 416.579 L232.06 416.579 L232.06 447.204 L239.699 447.204 L239.699 451.139 L219.792 451.139 L219.792 447.204 Z\" fill=\"#000000\" fill-rule=\"evenodd\" fill-opacity=\"1\" /><path clip-path=\"url(#clip410)\" d=\"M259.143 419.657 Q255.532 419.657 253.704 423.222 Q251.898 426.764 251.898 433.893 Q251.898 441 253.704 444.565 Q255.532 448.106 259.143 448.106 Q262.778 448.106 264.583 444.565 Q266.412 441 266.412 433.893 Q266.412 426.764 264.583 423.222 Q262.778 419.657 259.143 419.657 M259.143 415.954 Q264.954 415.954 268.009 420.56 Q271.088 425.144 271.088 433.893 Q271.088 442.62 268.009 447.227 Q264.954 451.81 259.143 451.81 Q253.333 451.81 250.255 447.227 Q247.199 442.62 247.199 433.893 Q247.199 425.144 250.255 420.56 Q253.333 415.954 259.143 415.954 Z\" fill=\"#000000\" fill-rule=\"evenodd\" fill-opacity=\"1\" /><path clip-path=\"url(#clip410)\" d=\"M272.893 423.145 L272.893 419.685 Q274.323 420.362 275.79 420.719 Q277.257 421.076 278.667 421.076 Q282.429 421.076 284.404 418.556 Q286.397 416.017 286.68 410.864 Q285.589 412.481 283.915 413.346 Q282.241 414.212 280.21 414.212 Q275.997 414.212 273.533 411.673 Q271.088 409.115 271.088 404.695 Q271.088 400.369 273.646 397.755 Q276.204 395.141 280.454 395.141 Q285.325 395.141 287.883 398.883 Q290.46 402.607 290.46 409.717 Q290.46 416.356 287.3 420.324 Q284.159 424.274 278.837 424.274 Q277.407 424.274 275.94 423.992 Q274.473 423.71 272.893 423.145 M280.454 411.24 Q283.012 411.24 284.498 409.491 Q286.002 407.742 286.002 404.695 Q286.002 401.667 284.498 399.918 Q283.012 398.15 280.454 398.15 Q277.896 398.15 276.392 399.918 Q274.906 401.667 274.906 404.695 Q274.906 407.742 276.392 409.491 Q277.896 411.24 280.454 411.24 Z\" fill=\"#000000\" fill-rule=\"evenodd\" fill-opacity=\"1\" /><path clip-path=\"url(#clip410)\" d=\"M51.6634 107.769 L59.3023 107.769 L59.3023 81.4031 L50.9921 83.0698 L50.9921 78.8106 L59.256 77.1439 L63.9319 77.1439 L63.9319 107.769 L71.5707 107.769 L71.5707 111.704 L51.6634 111.704 L51.6634 107.769 Z\" fill=\"#000000\" fill-rule=\"evenodd\" fill-opacity=\"1\" /><path clip-path=\"url(#clip410)\" d=\"M81.0151 105.824 L85.8993 105.824 L85.8993 111.704 L81.0151 111.704 L81.0151 105.824 Z\" fill=\"#000000\" fill-rule=\"evenodd\" fill-opacity=\"1\" /><path clip-path=\"url(#clip410)\" d=\"M106.084 80.2226 Q102.473 80.2226 100.645 83.7874 Q98.8391 87.329 98.8391 94.4586 Q98.8391 101.565 100.645 105.13 Q102.473 108.672 106.084 108.672 Q109.719 108.672 111.524 105.13 Q113.353 101.565 113.353 94.4586 Q113.353 87.329 111.524 83.7874 Q109.719 80.2226 106.084 80.2226 M106.084 76.5189 Q111.895 76.5189 114.95 81.1254 Q118.029 85.7087 118.029 94.4586 Q118.029 103.185 114.95 107.792 Q111.895 112.375 106.084 112.375 Q100.274 112.375 97.1956 107.792 Q94.14 103.185 94.14 94.4586 Q94.14 85.7087 97.1956 81.1254 Q100.274 76.5189 106.084 76.5189 Z\" fill=\"#000000\" fill-rule=\"evenodd\" fill-opacity=\"1\" /><path clip-path=\"url(#clip410)\" d=\"M136.246 80.2226 Q132.635 80.2226 130.807 83.7874 Q129.001 87.329 129.001 94.4586 Q129.001 101.565 130.807 105.13 Q132.635 108.672 136.246 108.672 Q139.881 108.672 141.686 105.13 Q143.515 101.565 143.515 94.4586 Q143.515 87.329 141.686 83.7874 Q139.881 80.2226 136.246 80.2226 M136.246 76.5189 Q142.056 76.5189 145.112 81.1254 Q148.191 85.7087 148.191 94.4586 Q148.191 103.185 145.112 107.792 Q142.056 112.375 136.246 112.375 Q130.436 112.375 127.357 107.792 Q124.302 103.185 124.302 94.4586 Q124.302 85.7087 127.357 81.1254 Q130.436 76.5189 136.246 76.5189 Z\" fill=\"#000000\" fill-rule=\"evenodd\" fill-opacity=\"1\" /><path clip-path=\"url(#clip410)\" d=\"M184.579 86.2411 L174.001 96.866 L184.579 107.445 L181.825 110.246 L171.2 99.6206 L160.575 110.246 L157.843 107.445 L168.399 96.866 L157.843 86.2411 L160.575 83.4402 L171.2 94.0651 L181.825 83.4402 L184.579 86.2411 Z\" fill=\"#000000\" fill-rule=\"evenodd\" fill-opacity=\"1\" /><path clip-path=\"url(#clip410)\" d=\"M196.94 107.769 L204.579 107.769 L204.579 81.4031 L196.269 83.0698 L196.269 78.8106 L204.533 77.1439 L209.209 77.1439 L209.209 107.769 L216.848 107.769 L216.848 111.704 L196.94 111.704 L196.94 107.769 Z\" fill=\"#000000\" fill-rule=\"evenodd\" fill-opacity=\"1\" /><path clip-path=\"url(#clip410)\" d=\"M236.292 80.2226 Q232.681 80.2226 230.852 83.7874 Q229.047 87.329 229.047 94.4586 Q229.047 101.565 230.852 105.13 Q232.681 108.672 236.292 108.672 Q239.926 108.672 241.732 105.13 Q243.561 101.565 243.561 94.4586 Q243.561 87.329 241.732 83.7874 Q239.926 80.2226 236.292 80.2226 M236.292 76.5189 Q242.102 76.5189 245.158 81.1254 Q248.236 85.7087 248.236 94.4586 Q248.236 103.185 245.158 107.792 Q242.102 112.375 236.292 112.375 Q230.482 112.375 227.403 107.792 Q224.348 103.185 224.348 94.4586 Q224.348 85.7087 227.403 81.1254 Q230.482 76.5189 236.292 76.5189 Z\" fill=\"#000000\" fill-rule=\"evenodd\" fill-opacity=\"1\" /><path clip-path=\"url(#clip410)\" d=\"M248.782 81.0962 L254.988 81.0962 L254.988 59.6741 L248.236 61.0283 L248.236 57.5677 L254.951 56.2135 L258.75 56.2135 L258.75 81.0962 L264.957 81.0962 L264.957 84.2935 L248.782 84.2935 L248.782 81.0962 Z\" fill=\"#000000\" fill-rule=\"evenodd\" fill-opacity=\"1\" /><path clip-path=\"url(#clip410)\" d=\"M280.755 58.7149 Q277.821 58.7149 276.335 61.6113 Q274.868 64.4889 274.868 70.2817 Q274.868 76.0557 276.335 78.9521 Q277.821 81.8297 280.755 81.8297 Q283.708 81.8297 285.175 78.9521 Q286.661 76.0557 286.661 70.2817 Q286.661 64.4889 285.175 61.6113 Q283.708 58.7149 280.755 58.7149 M280.755 55.7057 Q285.476 55.7057 287.958 59.4484 Q290.46 63.1724 290.46 70.2817 Q290.46 77.3722 287.958 81.115 Q285.476 84.8389 280.755 84.8389 Q276.034 84.8389 273.533 81.115 Q271.05 77.3722 271.05 70.2817 Q271.05 63.1724 273.533 59.4484 Q276.034 55.7057 280.755 55.7057 Z\" fill=\"#000000\" fill-rule=\"evenodd\" fill-opacity=\"1\" /><circle clip-path=\"url(#clip412)\" cx=\"383.808\" cy=\"87.9763\" r=\"14.4\" fill=\"#009af9\" fill-rule=\"evenodd\" fill-opacity=\"1\" stroke=\"#000000\" stroke-opacity=\"1\" stroke-width=\"3.2\"/>\n",
       "<circle clip-path=\"url(#clip412)\" cx=\"479.388\" cy=\"972.301\" r=\"14.4\" fill=\"#009af9\" fill-rule=\"evenodd\" fill-opacity=\"1\" stroke=\"#000000\" stroke-opacity=\"1\" stroke-width=\"3.2\"/>\n",
       "<circle clip-path=\"url(#clip412)\" cx=\"574.968\" cy=\"1299.93\" r=\"14.4\" fill=\"#009af9\" fill-rule=\"evenodd\" fill-opacity=\"1\" stroke=\"#000000\" stroke-opacity=\"1\" stroke-width=\"3.2\"/>\n",
       "<circle clip-path=\"url(#clip412)\" cx=\"670.548\" cy=\"1407.36\" r=\"14.4\" fill=\"#009af9\" fill-rule=\"evenodd\" fill-opacity=\"1\" stroke=\"#000000\" stroke-opacity=\"1\" stroke-width=\"3.2\"/>\n",
       "<circle clip-path=\"url(#clip412)\" cx=\"766.128\" cy=\"1437.51\" r=\"14.4\" fill=\"#009af9\" fill-rule=\"evenodd\" fill-opacity=\"1\" stroke=\"#000000\" stroke-opacity=\"1\" stroke-width=\"3.2\"/>\n",
       "<circle clip-path=\"url(#clip412)\" cx=\"861.708\" cy=\"1444.39\" r=\"14.4\" fill=\"#009af9\" fill-rule=\"evenodd\" fill-opacity=\"1\" stroke=\"#000000\" stroke-opacity=\"1\" stroke-width=\"3.2\"/>\n",
       "<circle clip-path=\"url(#clip412)\" cx=\"957.288\" cy=\"1445.57\" r=\"14.4\" fill=\"#009af9\" fill-rule=\"evenodd\" fill-opacity=\"1\" stroke=\"#000000\" stroke-opacity=\"1\" stroke-width=\"3.2\"/>\n",
       "<circle clip-path=\"url(#clip412)\" cx=\"1052.87\" cy=\"1445.71\" r=\"14.4\" fill=\"#009af9\" fill-rule=\"evenodd\" fill-opacity=\"1\" stroke=\"#000000\" stroke-opacity=\"1\" stroke-width=\"3.2\"/>\n",
       "<circle clip-path=\"url(#clip412)\" cx=\"1148.45\" cy=\"1445.72\" r=\"14.4\" fill=\"#009af9\" fill-rule=\"evenodd\" fill-opacity=\"1\" stroke=\"#000000\" stroke-opacity=\"1\" stroke-width=\"3.2\"/>\n",
       "<circle clip-path=\"url(#clip412)\" cx=\"1244.03\" cy=\"1445.72\" r=\"14.4\" fill=\"#009af9\" fill-rule=\"evenodd\" fill-opacity=\"1\" stroke=\"#000000\" stroke-opacity=\"1\" stroke-width=\"3.2\"/>\n",
       "<circle clip-path=\"url(#clip412)\" cx=\"1339.61\" cy=\"1445.72\" r=\"14.4\" fill=\"#009af9\" fill-rule=\"evenodd\" fill-opacity=\"1\" stroke=\"#000000\" stroke-opacity=\"1\" stroke-width=\"3.2\"/>\n",
       "<circle clip-path=\"url(#clip412)\" cx=\"1435.19\" cy=\"1445.72\" r=\"14.4\" fill=\"#009af9\" fill-rule=\"evenodd\" fill-opacity=\"1\" stroke=\"#000000\" stroke-opacity=\"1\" stroke-width=\"3.2\"/>\n",
       "<circle clip-path=\"url(#clip412)\" cx=\"1530.77\" cy=\"1445.72\" r=\"14.4\" fill=\"#009af9\" fill-rule=\"evenodd\" fill-opacity=\"1\" stroke=\"#000000\" stroke-opacity=\"1\" stroke-width=\"3.2\"/>\n",
       "<circle clip-path=\"url(#clip412)\" cx=\"1626.35\" cy=\"1445.71\" r=\"14.4\" fill=\"#009af9\" fill-rule=\"evenodd\" fill-opacity=\"1\" stroke=\"#000000\" stroke-opacity=\"1\" stroke-width=\"3.2\"/>\n",
       "<circle clip-path=\"url(#clip412)\" cx=\"1721.93\" cy=\"1445.57\" r=\"14.4\" fill=\"#009af9\" fill-rule=\"evenodd\" fill-opacity=\"1\" stroke=\"#000000\" stroke-opacity=\"1\" stroke-width=\"3.2\"/>\n",
       "<circle clip-path=\"url(#clip412)\" cx=\"1817.51\" cy=\"1444.39\" r=\"14.4\" fill=\"#009af9\" fill-rule=\"evenodd\" fill-opacity=\"1\" stroke=\"#000000\" stroke-opacity=\"1\" stroke-width=\"3.2\"/>\n",
       "<circle clip-path=\"url(#clip412)\" cx=\"1913.09\" cy=\"1437.51\" r=\"14.4\" fill=\"#009af9\" fill-rule=\"evenodd\" fill-opacity=\"1\" stroke=\"#000000\" stroke-opacity=\"1\" stroke-width=\"3.2\"/>\n",
       "<circle clip-path=\"url(#clip412)\" cx=\"2008.67\" cy=\"1407.36\" r=\"14.4\" fill=\"#009af9\" fill-rule=\"evenodd\" fill-opacity=\"1\" stroke=\"#000000\" stroke-opacity=\"1\" stroke-width=\"3.2\"/>\n",
       "<circle clip-path=\"url(#clip412)\" cx=\"2104.25\" cy=\"1299.93\" r=\"14.4\" fill=\"#009af9\" fill-rule=\"evenodd\" fill-opacity=\"1\" stroke=\"#000000\" stroke-opacity=\"1\" stroke-width=\"3.2\"/>\n",
       "<circle clip-path=\"url(#clip412)\" cx=\"2199.83\" cy=\"972.301\" r=\"14.4\" fill=\"#009af9\" fill-rule=\"evenodd\" fill-opacity=\"1\" stroke=\"#000000\" stroke-opacity=\"1\" stroke-width=\"3.2\"/>\n",
       "<circle clip-path=\"url(#clip412)\" cx=\"2295.41\" cy=\"87.9763\" r=\"14.4\" fill=\"#009af9\" fill-rule=\"evenodd\" fill-opacity=\"1\" stroke=\"#000000\" stroke-opacity=\"1\" stroke-width=\"3.2\"/>\n",
       "<polyline clip-path=\"url(#clip412)\" style=\"stroke:#e26f46; stroke-linecap:round; stroke-linejoin:round; stroke-width:4; stroke-opacity:1; fill:none\" points=\"383.808,87.9763 479.388,972.301 574.968,1299.93 670.548,1407.36 766.128,1437.51 861.708,1444.39 957.288,1445.57 1052.87,1445.71 1148.45,1445.72 1244.03,1445.72 1339.61,1445.72 1435.19,1445.72 1530.77,1445.72 1626.35,1445.71 1721.93,1445.57 1817.51,1444.39 1913.09,1437.51 2008.67,1407.36 2104.25,1299.93 2199.83,972.301 2295.41,87.9763 \"/>\n",
       "<polyline clip-path=\"url(#clip412)\" style=\"stroke:#3da44d; stroke-linecap:round; stroke-linejoin:round; stroke-width:4; stroke-opacity:1; fill:none\" points=\"383.808,1252.86 479.388,1252.86 574.968,1252.86 670.548,1252.86 766.128,1252.86 861.708,1252.86 957.288,1252.86 1052.87,1252.86 1148.45,1252.86 1244.03,1252.86 1339.61,1252.86 1435.19,1252.86 1530.77,1252.86 1626.35,1252.86 1721.93,1252.86 1817.51,1252.86 1913.09,1252.86 2008.67,1252.86 2104.25,1252.86 2199.83,1252.86 2295.41,1252.86 \"/>\n",
       "<path clip-path=\"url(#clip410)\" d=\"M394.003 302.578 L823.506 302.578 L823.506 95.2176 L394.003 95.2176  Z\" fill=\"#ffffff\" fill-rule=\"evenodd\" fill-opacity=\"1\"/>\n",
       "<polyline clip-path=\"url(#clip410)\" style=\"stroke:#000000; stroke-linecap:round; stroke-linejoin:round; stroke-width:4; stroke-opacity:1; fill:none\" points=\"394.003,302.578 823.506,302.578 823.506,95.2176 394.003,95.2176 394.003,302.578 \"/>\n",
       "<circle clip-path=\"url(#clip410)\" cx=\"484.061\" cy=\"147.058\" r=\"23.04\" fill=\"#009af9\" fill-rule=\"evenodd\" fill-opacity=\"1\" stroke=\"#000000\" stroke-opacity=\"1\" stroke-width=\"5.12\"/>\n",
       "<path clip-path=\"url(#clip410)\" d=\"M593.03 142.347 L593.03 128.319 L597.289 128.319 L597.289 164.338 L593.03 164.338 L593.03 160.449 Q591.688 162.763 589.627 163.898 Q587.59 165.009 584.72 165.009 Q580.021 165.009 577.058 161.259 Q574.118 157.509 574.118 151.398 Q574.118 145.287 577.058 141.537 Q580.021 137.787 584.72 137.787 Q587.59 137.787 589.627 138.921 Q591.688 140.032 593.03 142.347 M578.516 151.398 Q578.516 156.097 580.438 158.782 Q582.382 161.444 585.762 161.444 Q589.141 161.444 591.086 158.782 Q593.03 156.097 593.03 151.398 Q593.03 146.699 591.086 144.037 Q589.141 141.352 585.762 141.352 Q582.382 141.352 580.438 144.037 Q578.516 146.699 578.516 151.398 Z\" fill=\"#000000\" fill-rule=\"evenodd\" fill-opacity=\"1\" /><path clip-path=\"url(#clip410)\" d=\"M617.845 151.305 Q612.683 151.305 610.692 152.486 Q608.701 153.666 608.701 156.514 Q608.701 158.782 610.183 160.125 Q611.688 161.444 614.257 161.444 Q617.799 161.444 619.928 158.944 Q622.081 156.421 622.081 152.254 L622.081 151.305 L617.845 151.305 M626.34 149.546 L626.34 164.338 L622.081 164.338 L622.081 160.402 Q620.623 162.763 618.447 163.898 Q616.271 165.009 613.123 165.009 Q609.141 165.009 606.78 162.787 Q604.442 160.541 604.442 156.791 Q604.442 152.416 607.359 150.194 Q610.299 147.972 616.109 147.972 L622.081 147.972 L622.081 147.555 Q622.081 144.615 620.137 143.018 Q618.215 141.398 614.72 141.398 Q612.498 141.398 610.391 141.93 Q608.285 142.463 606.34 143.527 L606.34 139.592 Q608.678 138.69 610.877 138.25 Q613.076 137.787 615.16 137.787 Q620.785 137.787 623.562 140.703 Q626.34 143.62 626.34 149.546 Z\" fill=\"#000000\" fill-rule=\"evenodd\" fill-opacity=\"1\" /><path clip-path=\"url(#clip410)\" d=\"M639.326 131.051 L639.326 138.412 L648.099 138.412 L648.099 141.722 L639.326 141.722 L639.326 155.796 Q639.326 158.967 640.183 159.87 Q641.062 160.773 643.724 160.773 L648.099 160.773 L648.099 164.338 L643.724 164.338 Q638.794 164.338 636.919 162.509 Q635.044 160.657 635.044 155.796 L635.044 141.722 L631.919 141.722 L631.919 138.412 L635.044 138.412 L635.044 131.051 L639.326 131.051 Z\" fill=\"#000000\" fill-rule=\"evenodd\" fill-opacity=\"1\" /><path clip-path=\"url(#clip410)\" d=\"M665.484 151.305 Q660.322 151.305 658.331 152.486 Q656.34 153.666 656.34 156.514 Q656.34 158.782 657.822 160.125 Q659.326 161.444 661.896 161.444 Q665.437 161.444 667.567 158.944 Q669.72 156.421 669.72 152.254 L669.72 151.305 L665.484 151.305 M673.979 149.546 L673.979 164.338 L669.72 164.338 L669.72 160.402 Q668.261 162.763 666.085 163.898 Q663.909 165.009 660.761 165.009 Q656.78 165.009 654.419 162.787 Q652.081 160.541 652.081 156.791 Q652.081 152.416 654.997 150.194 Q657.937 147.972 663.747 147.972 L669.72 147.972 L669.72 147.555 Q669.72 144.615 667.775 143.018 Q665.854 141.398 662.359 141.398 Q660.136 141.398 658.03 141.93 Q655.923 142.463 653.979 143.527 L653.979 139.592 Q656.317 138.69 658.516 138.25 Q660.715 137.787 662.798 137.787 Q668.423 137.787 671.201 140.703 Q673.979 143.62 673.979 149.546 Z\" fill=\"#000000\" fill-rule=\"evenodd\" fill-opacity=\"1\" /><polyline clip-path=\"url(#clip410)\" style=\"stroke:#e26f46; stroke-linecap:round; stroke-linejoin:round; stroke-width:4; stroke-opacity:1; fill:none\" points=\"416.517,198.898 551.604,198.898 \"/>\n",
       "<path clip-path=\"url(#clip410)\" d=\"M574.118 181.618 L603.354 181.618 L603.354 185.553 L591.086 185.553 L591.086 216.178 L586.387 216.178 L586.387 185.553 L574.118 185.553 L574.118 181.618 Z\" fill=\"#000000\" fill-rule=\"evenodd\" fill-opacity=\"1\" /><path clip-path=\"url(#clip410)\" d=\"M615.738 194.233 Q615.021 193.817 614.164 193.631 Q613.331 193.423 612.313 193.423 Q608.701 193.423 606.757 195.784 Q604.836 198.122 604.836 202.52 L604.836 216.178 L600.553 216.178 L600.553 190.252 L604.836 190.252 L604.836 194.28 Q606.178 191.918 608.331 190.784 Q610.484 189.627 613.563 189.627 Q614.002 189.627 614.535 189.696 Q615.067 189.743 615.715 189.858 L615.738 194.233 Z\" fill=\"#000000\" fill-rule=\"evenodd\" fill-opacity=\"1\" /><path clip-path=\"url(#clip410)\" d=\"M619.766 205.946 L619.766 190.252 L624.025 190.252 L624.025 205.784 Q624.025 209.465 625.461 211.316 Q626.896 213.145 629.766 213.145 Q633.215 213.145 635.206 210.946 Q637.22 208.747 637.22 204.951 L637.22 190.252 L641.479 190.252 L641.479 216.178 L637.22 216.178 L637.22 212.196 Q635.669 214.557 633.609 215.715 Q631.572 216.849 628.863 216.849 Q624.396 216.849 622.081 214.071 Q619.766 211.293 619.766 205.946 M630.484 189.627 L630.484 189.627 Z\" fill=\"#000000\" fill-rule=\"evenodd\" fill-opacity=\"1\" /><path clip-path=\"url(#clip410)\" d=\"M672.428 202.15 L672.428 204.233 L652.845 204.233 Q653.122 208.631 655.484 210.946 Q657.868 213.238 662.104 213.238 Q664.558 213.238 666.849 212.636 Q669.164 212.034 671.433 210.83 L671.433 214.858 Q669.141 215.83 666.734 216.34 Q664.326 216.849 661.849 216.849 Q655.646 216.849 652.011 213.238 Q648.4 209.627 648.4 203.469 Q648.4 197.104 651.826 193.377 Q655.275 189.627 661.109 189.627 Q666.34 189.627 669.372 193.006 Q672.428 196.363 672.428 202.15 M668.169 200.9 Q668.122 197.405 666.201 195.321 Q664.303 193.238 661.155 193.238 Q657.59 193.238 655.437 195.252 Q653.308 197.266 652.984 200.923 L668.169 200.9 Z\" fill=\"#000000\" fill-rule=\"evenodd\" fill-opacity=\"1\" /><path clip-path=\"url(#clip410)\" d=\"M694.488 180.159 L698.747 180.159 L698.747 216.178 L694.488 216.178 L694.488 180.159 Z\" fill=\"#000000\" fill-rule=\"evenodd\" fill-opacity=\"1\" /><path clip-path=\"url(#clip410)\" d=\"M707.659 190.252 L711.918 190.252 L711.918 216.178 L707.659 216.178 L707.659 190.252 M707.659 180.159 L711.918 180.159 L711.918 185.553 L707.659 185.553 L707.659 180.159 Z\" fill=\"#000000\" fill-rule=\"evenodd\" fill-opacity=\"1\" /><path clip-path=\"url(#clip410)\" d=\"M742.381 200.529 L742.381 216.178 L738.122 216.178 L738.122 200.668 Q738.122 196.988 736.687 195.159 Q735.252 193.33 732.381 193.33 Q728.932 193.33 726.942 195.53 Q724.951 197.729 724.951 201.525 L724.951 216.178 L720.668 216.178 L720.668 190.252 L724.951 190.252 L724.951 194.28 Q726.479 191.942 728.539 190.784 Q730.622 189.627 733.33 189.627 Q737.798 189.627 740.09 192.405 Q742.381 195.159 742.381 200.529 Z\" fill=\"#000000\" fill-rule=\"evenodd\" fill-opacity=\"1\" /><path clip-path=\"url(#clip410)\" d=\"M773.052 202.15 L773.052 204.233 L753.469 204.233 Q753.747 208.631 756.108 210.946 Q758.492 213.238 762.728 213.238 Q765.182 213.238 767.474 212.636 Q769.789 212.034 772.057 210.83 L772.057 214.858 Q769.765 215.83 767.358 216.34 Q764.951 216.849 762.474 216.849 Q756.27 216.849 752.636 213.238 Q749.025 209.627 749.025 203.469 Q749.025 197.104 752.451 193.377 Q755.9 189.627 761.733 189.627 Q766.964 189.627 769.997 193.006 Q773.052 196.363 773.052 202.15 M768.793 200.9 Q768.747 197.405 766.826 195.321 Q764.927 193.238 761.779 193.238 Q758.215 193.238 756.062 195.252 Q753.932 197.266 753.608 200.923 L768.793 200.9 Z\" fill=\"#000000\" fill-rule=\"evenodd\" fill-opacity=\"1\" /><polyline clip-path=\"url(#clip410)\" style=\"stroke:#3da44d; stroke-linecap:round; stroke-linejoin:round; stroke-width:4; stroke-opacity:1; fill:none\" points=\"416.517,250.738 551.604,250.738 \"/>\n",
       "<path clip-path=\"url(#clip410)\" d=\"M574.118 233.458 L593.979 233.458 L593.979 237.393 L578.794 237.393 L578.794 247.578 L592.498 247.578 L592.498 251.513 L578.794 251.513 L578.794 268.018 L574.118 268.018 L574.118 233.458 Z\" fill=\"#000000\" fill-rule=\"evenodd\" fill-opacity=\"1\" /><path clip-path=\"url(#clip410)\" d=\"M597.752 242.092 L602.012 242.092 L602.012 268.018 L597.752 268.018 L597.752 242.092 M597.752 231.999 L602.012 231.999 L602.012 237.393 L597.752 237.393 L597.752 231.999 Z\" fill=\"#000000\" fill-rule=\"evenodd\" fill-opacity=\"1\" /><path clip-path=\"url(#clip410)\" d=\"M615.137 234.731 L615.137 242.092 L623.91 242.092 L623.91 245.402 L615.137 245.402 L615.137 259.476 Q615.137 262.647 615.993 263.55 Q616.873 264.453 619.535 264.453 L623.91 264.453 L623.91 268.018 L619.535 268.018 Q614.604 268.018 612.729 266.189 Q610.854 264.337 610.854 259.476 L610.854 245.402 L607.729 245.402 L607.729 242.092 L610.854 242.092 L610.854 234.731 L615.137 234.731 Z\" fill=\"#000000\" fill-rule=\"evenodd\" fill-opacity=\"1\" /><path clip-path=\"url(#clip410)\" d=\"M633.724 234.731 L633.724 242.092 L642.498 242.092 L642.498 245.402 L633.724 245.402 L633.724 259.476 Q633.724 262.647 634.581 263.55 Q635.461 264.453 638.123 264.453 L642.498 264.453 L642.498 268.018 L638.123 268.018 Q633.192 268.018 631.317 266.189 Q629.442 264.337 629.442 259.476 L629.442 245.402 L626.317 245.402 L626.317 242.092 L629.442 242.092 L629.442 234.731 L633.724 234.731 Z\" fill=\"#000000\" fill-rule=\"evenodd\" fill-opacity=\"1\" /><path clip-path=\"url(#clip410)\" d=\"M670.275 253.99 L670.275 256.073 L650.692 256.073 Q650.97 260.471 653.331 262.786 Q655.715 265.078 659.951 265.078 Q662.405 265.078 664.697 264.476 Q667.011 263.874 669.28 262.67 L669.28 266.698 Q666.988 267.67 664.581 268.18 Q662.173 268.689 659.697 268.689 Q653.493 268.689 649.859 265.078 Q646.248 261.467 646.248 255.309 Q646.248 248.944 649.673 245.217 Q653.122 241.467 658.956 241.467 Q664.187 241.467 667.22 244.846 Q670.275 248.203 670.275 253.99 M666.016 252.74 Q665.97 249.245 664.048 247.161 Q662.15 245.078 659.002 245.078 Q655.437 245.078 653.285 247.092 Q651.155 249.106 650.831 252.763 L666.016 252.74 Z\" fill=\"#000000\" fill-rule=\"evenodd\" fill-opacity=\"1\" /><path clip-path=\"url(#clip410)\" d=\"M694.326 246.027 L694.326 231.999 L698.585 231.999 L698.585 268.018 L694.326 268.018 L694.326 264.129 Q692.983 266.443 690.923 267.578 Q688.886 268.689 686.016 268.689 Q681.317 268.689 678.354 264.939 Q675.414 261.189 675.414 255.078 Q675.414 248.967 678.354 245.217 Q681.317 241.467 686.016 241.467 Q688.886 241.467 690.923 242.601 Q692.983 243.712 694.326 246.027 M679.812 255.078 Q679.812 259.777 681.733 262.462 Q683.678 265.124 687.057 265.124 Q690.437 265.124 692.382 262.462 Q694.326 259.777 694.326 255.078 Q694.326 250.379 692.382 247.717 Q690.437 245.032 687.057 245.032 Q683.678 245.032 681.733 247.717 Q679.812 250.379 679.812 255.078 Z\" fill=\"#000000\" fill-rule=\"evenodd\" fill-opacity=\"1\" /><path clip-path=\"url(#clip410)\" d=\"M722.428 231.999 L726.687 231.999 L726.687 268.018 L722.428 268.018 L722.428 231.999 Z\" fill=\"#000000\" fill-rule=\"evenodd\" fill-opacity=\"1\" /><path clip-path=\"url(#clip410)\" d=\"M735.599 242.092 L739.858 242.092 L739.858 268.018 L735.599 268.018 L735.599 242.092 M735.599 231.999 L739.858 231.999 L739.858 237.393 L735.599 237.393 L735.599 231.999 Z\" fill=\"#000000\" fill-rule=\"evenodd\" fill-opacity=\"1\" /><path clip-path=\"url(#clip410)\" d=\"M770.321 252.369 L770.321 268.018 L766.062 268.018 L766.062 252.508 Q766.062 248.828 764.627 246.999 Q763.191 245.17 760.321 245.17 Q756.872 245.17 754.881 247.37 Q752.89 249.569 752.89 253.365 L752.89 268.018 L748.608 268.018 L748.608 242.092 L752.89 242.092 L752.89 246.12 Q754.418 243.782 756.478 242.624 Q758.562 241.467 761.27 241.467 Q765.738 241.467 768.029 244.245 Q770.321 246.999 770.321 252.369 Z\" fill=\"#000000\" fill-rule=\"evenodd\" fill-opacity=\"1\" /><path clip-path=\"url(#clip410)\" d=\"M800.992 253.99 L800.992 256.073 L781.409 256.073 Q781.687 260.471 784.048 262.786 Q786.432 265.078 790.668 265.078 Q793.122 265.078 795.413 264.476 Q797.728 263.874 799.997 262.67 L799.997 266.698 Q797.705 267.67 795.298 268.18 Q792.89 268.689 790.413 268.689 Q784.21 268.689 780.576 265.078 Q776.964 261.467 776.964 255.309 Q776.964 248.944 780.39 245.217 Q783.839 241.467 789.673 241.467 Q794.904 241.467 797.937 244.846 Q800.992 248.203 800.992 253.99 M796.733 252.74 Q796.687 249.245 794.765 247.161 Q792.867 245.078 789.719 245.078 Q786.154 245.078 784.001 247.092 Q781.872 249.106 781.548 252.763 L796.733 252.74 Z\" fill=\"#000000\" fill-rule=\"evenodd\" fill-opacity=\"1\" /></svg>\n"
      ]
     },
     "execution_count": 19,
     "metadata": {},
     "output_type": "execute_result"
    }
   ],
   "source": [
    "y_observed =  x .^10 .+ x .^2 .+3 .*x .-2   + rand(d,length(x))\n",
    "y_true = x .^10 .+ x .^2 .+3 .*x .-2 \n",
    "line_fit = fit(x,y_observed,1)\n",
    "fit_coeff = coeffs(line_fit)\n",
    "y_fitted = fit_coeff[1] .+ fit_coeff[2] .*x\n",
    "scatter(x,y_observed, label=\"data\")\n",
    "plot!(x,y_true, label=\"True line\")\n",
    "plot!(x,y_fitted,label=\"Fitted line\")"
   ]
  },
  {
   "cell_type": "markdown",
   "id": "36028ee0",
   "metadata": {},
   "source": [
    "### 2.6\n",
    "\n",
    "1. Create a new independent parameter x_fit ranging from -11 to 11 with an increment of 0.1\n",
    "2. Plot the same three plots as in 2.3 again but apply the tenth order polynomial to x_fit instead of x\n"
   ]
  },
  {
   "cell_type": "code",
   "execution_count": 20,
   "id": "6c67a977",
   "metadata": {},
   "outputs": [
    {
     "data": {
      "text/plain": [
       "221-element Vector{Float64}:\n",
       " -11.0\n",
       " -10.9\n",
       " -10.8\n",
       " -10.7\n",
       " -10.6\n",
       " -10.5\n",
       " -10.4\n",
       " -10.3\n",
       " -10.2\n",
       " -10.1\n",
       " -10.0\n",
       "  -9.9\n",
       "  -9.8\n",
       "   ⋮\n",
       "   9.9\n",
       "  10.0\n",
       "  10.1\n",
       "  10.2\n",
       "  10.3\n",
       "  10.4\n",
       "  10.5\n",
       "  10.6\n",
       "  10.7\n",
       "  10.8\n",
       "  10.9\n",
       "  11.0"
      ]
     },
     "execution_count": 20,
     "metadata": {},
     "output_type": "execute_result"
    }
   ],
   "source": [
    "x_fit = range(-11, 11; step = 0.1)\n",
    "collect(x_fit)"
   ]
  },
  {
   "cell_type": "code",
   "execution_count": 24,
   "id": "dc469ace",
   "metadata": {
    "scrolled": true
   },
   "outputs": [
    {
     "data": {
      "image/svg+xml": [
       "<?xml version=\"1.0\" encoding=\"utf-8\"?>\n",
       "<svg xmlns=\"http://www.w3.org/2000/svg\" xmlns:xlink=\"http://www.w3.org/1999/xlink\" width=\"600\" height=\"400\" viewBox=\"0 0 2400 1600\">\n",
       "<defs>\n",
       "  <clipPath id=\"clip490\">\n",
       "    <rect x=\"0\" y=\"0\" width=\"2400\" height=\"1600\"/>\n",
       "  </clipPath>\n",
       "</defs>\n",
       "<path clip-path=\"url(#clip490)\" d=\"M0 1600 L2400 1600 L2400 0 L0 0  Z\" fill=\"#ffffff\" fill-rule=\"evenodd\" fill-opacity=\"1\"/>\n",
       "<defs>\n",
       "  <clipPath id=\"clip491\">\n",
       "    <rect x=\"480\" y=\"0\" width=\"1681\" height=\"1600\"/>\n",
       "  </clipPath>\n",
       "</defs>\n",
       "<path clip-path=\"url(#clip490)\" d=\"M328.196 1486.45 L2352.76 1486.45 L2352.76 47.2441 L328.196 47.2441  Z\" fill=\"#ffffff\" fill-rule=\"evenodd\" fill-opacity=\"1\"/>\n",
       "<defs>\n",
       "  <clipPath id=\"clip492\">\n",
       "    <rect x=\"328\" y=\"47\" width=\"2026\" height=\"1440\"/>\n",
       "  </clipPath>\n",
       "</defs>\n",
       "<polyline clip-path=\"url(#clip492)\" style=\"stroke:#000000; stroke-linecap:round; stroke-linejoin:round; stroke-width:2; stroke-opacity:0.1; fill:none\" points=\"472.311,1486.45 472.311,47.2441 \"/>\n",
       "<polyline clip-path=\"url(#clip492)\" style=\"stroke:#000000; stroke-linecap:round; stroke-linejoin:round; stroke-width:2; stroke-opacity:0.1; fill:none\" points=\"906.394,1486.45 906.394,47.2441 \"/>\n",
       "<polyline clip-path=\"url(#clip492)\" style=\"stroke:#000000; stroke-linecap:round; stroke-linejoin:round; stroke-width:2; stroke-opacity:0.1; fill:none\" points=\"1340.48,1486.45 1340.48,47.2441 \"/>\n",
       "<polyline clip-path=\"url(#clip492)\" style=\"stroke:#000000; stroke-linecap:round; stroke-linejoin:round; stroke-width:2; stroke-opacity:0.1; fill:none\" points=\"1774.56,1486.45 1774.56,47.2441 \"/>\n",
       "<polyline clip-path=\"url(#clip492)\" style=\"stroke:#000000; stroke-linecap:round; stroke-linejoin:round; stroke-width:2; stroke-opacity:0.1; fill:none\" points=\"2208.64,1486.45 2208.64,47.2441 \"/>\n",
       "<polyline clip-path=\"url(#clip490)\" style=\"stroke:#000000; stroke-linecap:round; stroke-linejoin:round; stroke-width:4; stroke-opacity:1; fill:none\" points=\"328.196,1486.45 2352.76,1486.45 \"/>\n",
       "<polyline clip-path=\"url(#clip490)\" style=\"stroke:#000000; stroke-linecap:round; stroke-linejoin:round; stroke-width:4; stroke-opacity:1; fill:none\" points=\"472.311,1486.45 472.311,1467.55 \"/>\n",
       "<polyline clip-path=\"url(#clip490)\" style=\"stroke:#000000; stroke-linecap:round; stroke-linejoin:round; stroke-width:4; stroke-opacity:1; fill:none\" points=\"906.394,1486.45 906.394,1467.55 \"/>\n",
       "<polyline clip-path=\"url(#clip490)\" style=\"stroke:#000000; stroke-linecap:round; stroke-linejoin:round; stroke-width:4; stroke-opacity:1; fill:none\" points=\"1340.48,1486.45 1340.48,1467.55 \"/>\n",
       "<polyline clip-path=\"url(#clip490)\" style=\"stroke:#000000; stroke-linecap:round; stroke-linejoin:round; stroke-width:4; stroke-opacity:1; fill:none\" points=\"1774.56,1486.45 1774.56,1467.55 \"/>\n",
       "<polyline clip-path=\"url(#clip490)\" style=\"stroke:#000000; stroke-linecap:round; stroke-linejoin:round; stroke-width:4; stroke-opacity:1; fill:none\" points=\"2208.64,1486.45 2208.64,1467.55 \"/>\n",
       "<path clip-path=\"url(#clip490)\" d=\"M426.374 1532.02 L456.05 1532.02 L456.05 1535.95 L426.374 1535.95 L426.374 1532.02 Z\" fill=\"#000000\" fill-rule=\"evenodd\" fill-opacity=\"1\" /><path clip-path=\"url(#clip490)\" d=\"M466.953 1544.91 L474.591 1544.91 L474.591 1518.55 L466.281 1520.21 L466.281 1515.95 L474.545 1514.29 L479.221 1514.29 L479.221 1544.91 L486.86 1544.91 L486.86 1548.85 L466.953 1548.85 L466.953 1544.91 Z\" fill=\"#000000\" fill-rule=\"evenodd\" fill-opacity=\"1\" /><path clip-path=\"url(#clip490)\" d=\"M506.304 1517.37 Q502.693 1517.37 500.864 1520.93 Q499.059 1524.47 499.059 1531.6 Q499.059 1538.71 500.864 1542.27 Q502.693 1545.82 506.304 1545.82 Q509.938 1545.82 511.744 1542.27 Q513.573 1538.71 513.573 1531.6 Q513.573 1524.47 511.744 1520.93 Q509.938 1517.37 506.304 1517.37 M506.304 1513.66 Q512.114 1513.66 515.17 1518.27 Q518.249 1522.85 518.249 1531.6 Q518.249 1540.33 515.17 1544.94 Q512.114 1549.52 506.304 1549.52 Q500.494 1549.52 497.415 1544.94 Q494.36 1540.33 494.36 1531.6 Q494.36 1522.85 497.415 1518.27 Q500.494 1513.66 506.304 1513.66 Z\" fill=\"#000000\" fill-rule=\"evenodd\" fill-opacity=\"1\" /><path clip-path=\"url(#clip490)\" d=\"M876.035 1532.02 L905.711 1532.02 L905.711 1535.95 L876.035 1535.95 L876.035 1532.02 Z\" fill=\"#000000\" fill-rule=\"evenodd\" fill-opacity=\"1\" /><path clip-path=\"url(#clip490)\" d=\"M915.85 1514.29 L934.206 1514.29 L934.206 1518.22 L920.132 1518.22 L920.132 1526.7 Q921.15 1526.35 922.169 1526.19 Q923.188 1526 924.206 1526 Q929.993 1526 933.373 1529.17 Q936.752 1532.34 936.752 1537.76 Q936.752 1543.34 933.28 1546.44 Q929.808 1549.52 923.488 1549.52 Q921.313 1549.52 919.044 1549.15 Q916.799 1548.78 914.391 1548.04 L914.391 1543.34 Q916.475 1544.47 918.697 1545.03 Q920.919 1545.58 923.396 1545.58 Q927.4 1545.58 929.738 1543.48 Q932.076 1541.37 932.076 1537.76 Q932.076 1534.15 929.738 1532.04 Q927.4 1529.94 923.396 1529.94 Q921.521 1529.94 919.646 1530.35 Q917.794 1530.77 915.85 1531.65 L915.85 1514.29 Z\" fill=\"#000000\" fill-rule=\"evenodd\" fill-opacity=\"1\" /><path clip-path=\"url(#clip490)\" d=\"M1340.48 1517.37 Q1336.86 1517.37 1335.04 1520.93 Q1333.23 1524.47 1333.23 1531.6 Q1333.23 1538.71 1335.04 1542.27 Q1336.86 1545.82 1340.48 1545.82 Q1344.11 1545.82 1345.92 1542.27 Q1347.74 1538.71 1347.74 1531.6 Q1347.74 1524.47 1345.92 1520.93 Q1344.11 1517.37 1340.48 1517.37 M1340.48 1513.66 Q1346.29 1513.66 1349.34 1518.27 Q1352.42 1522.85 1352.42 1531.6 Q1352.42 1540.33 1349.34 1544.94 Q1346.29 1549.52 1340.48 1549.52 Q1334.67 1549.52 1331.59 1544.94 Q1328.53 1540.33 1328.53 1531.6 Q1328.53 1522.85 1331.59 1518.27 Q1334.67 1513.66 1340.48 1513.66 Z\" fill=\"#000000\" fill-rule=\"evenodd\" fill-opacity=\"1\" /><path clip-path=\"url(#clip490)\" d=\"M1764.84 1514.29 L1783.19 1514.29 L1783.19 1518.22 L1769.12 1518.22 L1769.12 1526.7 Q1770.14 1526.35 1771.16 1526.19 Q1772.17 1526 1773.19 1526 Q1778.98 1526 1782.36 1529.17 Q1785.74 1532.34 1785.74 1537.76 Q1785.74 1543.34 1782.27 1546.44 Q1778.79 1549.52 1772.47 1549.52 Q1770.3 1549.52 1768.03 1549.15 Q1765.79 1548.78 1763.38 1548.04 L1763.38 1543.34 Q1765.46 1544.47 1767.68 1545.03 Q1769.91 1545.58 1772.38 1545.58 Q1776.39 1545.58 1778.72 1543.48 Q1781.06 1541.37 1781.06 1537.76 Q1781.06 1534.15 1778.72 1532.04 Q1776.39 1529.94 1772.38 1529.94 Q1770.51 1529.94 1768.63 1530.35 Q1766.78 1530.77 1764.84 1531.65 L1764.84 1514.29 Z\" fill=\"#000000\" fill-rule=\"evenodd\" fill-opacity=\"1\" /><path clip-path=\"url(#clip490)\" d=\"M2183.33 1544.91 L2190.97 1544.91 L2190.97 1518.55 L2182.66 1520.21 L2182.66 1515.95 L2190.92 1514.29 L2195.6 1514.29 L2195.6 1544.91 L2203.24 1544.91 L2203.24 1548.85 L2183.33 1548.85 L2183.33 1544.91 Z\" fill=\"#000000\" fill-rule=\"evenodd\" fill-opacity=\"1\" /><path clip-path=\"url(#clip490)\" d=\"M2222.68 1517.37 Q2219.07 1517.37 2217.24 1520.93 Q2215.43 1524.47 2215.43 1531.6 Q2215.43 1538.71 2217.24 1542.27 Q2219.07 1545.82 2222.68 1545.82 Q2226.31 1545.82 2228.12 1542.27 Q2229.95 1538.71 2229.95 1531.6 Q2229.95 1524.47 2228.12 1520.93 Q2226.31 1517.37 2222.68 1517.37 M2222.68 1513.66 Q2228.49 1513.66 2231.55 1518.27 Q2234.62 1522.85 2234.62 1531.6 Q2234.62 1540.33 2231.55 1544.94 Q2228.49 1549.52 2222.68 1549.52 Q2216.87 1549.52 2213.79 1544.94 Q2210.74 1540.33 2210.74 1531.6 Q2210.74 1522.85 2213.79 1518.27 Q2216.87 1513.66 2222.68 1513.66 Z\" fill=\"#000000\" fill-rule=\"evenodd\" fill-opacity=\"1\" /><polyline clip-path=\"url(#clip492)\" style=\"stroke:#000000; stroke-linecap:round; stroke-linejoin:round; stroke-width:2; stroke-opacity:0.1; fill:none\" points=\"328.196,1445.72 2352.76,1445.72 \"/>\n",
       "<polyline clip-path=\"url(#clip492)\" style=\"stroke:#000000; stroke-linecap:round; stroke-linejoin:round; stroke-width:2; stroke-opacity:0.1; fill:none\" points=\"328.196,1183.98 2352.76,1183.98 \"/>\n",
       "<polyline clip-path=\"url(#clip492)\" style=\"stroke:#000000; stroke-linecap:round; stroke-linejoin:round; stroke-width:2; stroke-opacity:0.1; fill:none\" points=\"328.196,922.248 2352.76,922.248 \"/>\n",
       "<polyline clip-path=\"url(#clip492)\" style=\"stroke:#000000; stroke-linecap:round; stroke-linejoin:round; stroke-width:2; stroke-opacity:0.1; fill:none\" points=\"328.196,660.515 2352.76,660.515 \"/>\n",
       "<polyline clip-path=\"url(#clip492)\" style=\"stroke:#000000; stroke-linecap:round; stroke-linejoin:round; stroke-width:2; stroke-opacity:0.1; fill:none\" points=\"328.196,398.781 2352.76,398.781 \"/>\n",
       "<polyline clip-path=\"url(#clip492)\" style=\"stroke:#000000; stroke-linecap:round; stroke-linejoin:round; stroke-width:2; stroke-opacity:0.1; fill:none\" points=\"328.196,137.047 2352.76,137.047 \"/>\n",
       "<polyline clip-path=\"url(#clip490)\" style=\"stroke:#000000; stroke-linecap:round; stroke-linejoin:round; stroke-width:4; stroke-opacity:1; fill:none\" points=\"328.196,1486.45 328.196,47.2441 \"/>\n",
       "<polyline clip-path=\"url(#clip490)\" style=\"stroke:#000000; stroke-linecap:round; stroke-linejoin:round; stroke-width:4; stroke-opacity:1; fill:none\" points=\"328.196,1445.72 347.094,1445.72 \"/>\n",
       "<polyline clip-path=\"url(#clip490)\" style=\"stroke:#000000; stroke-linecap:round; stroke-linejoin:round; stroke-width:4; stroke-opacity:1; fill:none\" points=\"328.196,1183.98 347.094,1183.98 \"/>\n",
       "<polyline clip-path=\"url(#clip490)\" style=\"stroke:#000000; stroke-linecap:round; stroke-linejoin:round; stroke-width:4; stroke-opacity:1; fill:none\" points=\"328.196,922.248 347.094,922.248 \"/>\n",
       "<polyline clip-path=\"url(#clip490)\" style=\"stroke:#000000; stroke-linecap:round; stroke-linejoin:round; stroke-width:4; stroke-opacity:1; fill:none\" points=\"328.196,660.515 347.094,660.515 \"/>\n",
       "<polyline clip-path=\"url(#clip490)\" style=\"stroke:#000000; stroke-linecap:round; stroke-linejoin:round; stroke-width:4; stroke-opacity:1; fill:none\" points=\"328.196,398.781 347.094,398.781 \"/>\n",
       "<polyline clip-path=\"url(#clip490)\" style=\"stroke:#000000; stroke-linecap:round; stroke-linejoin:round; stroke-width:4; stroke-opacity:1; fill:none\" points=\"328.196,137.047 347.094,137.047 \"/>\n",
       "<path clip-path=\"url(#clip490)\" d=\"M280.252 1431.51 Q276.641 1431.51 274.812 1435.08 Q273.006 1438.62 273.006 1445.75 Q273.006 1452.86 274.812 1456.42 Q276.641 1459.96 280.252 1459.96 Q283.886 1459.96 285.691 1456.42 Q287.52 1452.86 287.52 1445.75 Q287.52 1438.62 285.691 1435.08 Q283.886 1431.51 280.252 1431.51 M280.252 1427.81 Q286.062 1427.81 289.117 1432.42 Q292.196 1437 292.196 1445.75 Q292.196 1454.48 289.117 1459.08 Q286.062 1463.67 280.252 1463.67 Q274.441 1463.67 271.363 1459.08 Q268.307 1454.48 268.307 1445.75 Q268.307 1437 271.363 1432.42 Q274.441 1427.81 280.252 1427.81 Z\" fill=\"#000000\" fill-rule=\"evenodd\" fill-opacity=\"1\" /><path clip-path=\"url(#clip490)\" d=\"M75.4871 1173.15 L93.8435 1173.15 L93.8435 1177.08 L79.7695 1177.08 L79.7695 1185.56 Q80.788 1185.21 81.8065 1185.05 Q82.825 1184.86 83.8435 1184.86 Q89.6305 1184.86 93.0101 1188.03 Q96.3897 1191.21 96.3897 1196.62 Q96.3897 1202.2 92.9175 1205.3 Q89.4453 1208.38 83.1259 1208.38 Q80.95 1208.38 78.6815 1208.01 Q76.4361 1207.64 74.0288 1206.9 L74.0288 1202.2 Q76.1121 1203.33 78.3343 1203.89 Q80.5565 1204.45 83.0333 1204.45 Q87.0379 1204.45 89.3759 1202.34 Q91.7138 1200.23 91.7138 1196.62 Q91.7138 1193.01 89.3759 1190.9 Q87.0379 1188.8 83.0333 1188.8 Q81.1583 1188.8 79.2834 1189.21 Q77.4315 1189.63 75.4871 1190.51 L75.4871 1173.15 Z\" fill=\"#000000\" fill-rule=\"evenodd\" fill-opacity=\"1\" /><path clip-path=\"url(#clip490)\" d=\"M105.603 1201.83 L110.487 1201.83 L110.487 1207.71 L105.603 1207.71 L105.603 1201.83 Z\" fill=\"#000000\" fill-rule=\"evenodd\" fill-opacity=\"1\" /><path clip-path=\"url(#clip490)\" d=\"M130.672 1176.23 Q127.061 1176.23 125.232 1179.79 Q123.427 1183.33 123.427 1190.46 Q123.427 1197.57 125.232 1201.14 Q127.061 1204.68 130.672 1204.68 Q134.306 1204.68 136.112 1201.14 Q137.94 1197.57 137.94 1190.46 Q137.94 1183.33 136.112 1179.79 Q134.306 1176.23 130.672 1176.23 M130.672 1172.52 Q136.482 1172.52 139.538 1177.13 Q142.616 1181.71 142.616 1190.46 Q142.616 1199.19 139.538 1203.8 Q136.482 1208.38 130.672 1208.38 Q124.862 1208.38 121.783 1203.8 Q118.728 1199.19 118.728 1190.46 Q118.728 1181.71 121.783 1177.13 Q124.862 1172.52 130.672 1172.52 Z\" fill=\"#000000\" fill-rule=\"evenodd\" fill-opacity=\"1\" /><path clip-path=\"url(#clip490)\" d=\"M160.834 1176.23 Q157.223 1176.23 155.394 1179.79 Q153.589 1183.33 153.589 1190.46 Q153.589 1197.57 155.394 1201.14 Q157.223 1204.68 160.834 1204.68 Q164.468 1204.68 166.274 1201.14 Q168.102 1197.57 168.102 1190.46 Q168.102 1183.33 166.274 1179.79 Q164.468 1176.23 160.834 1176.23 M160.834 1172.52 Q166.644 1172.52 169.7 1177.13 Q172.778 1181.71 172.778 1190.46 Q172.778 1199.19 169.7 1203.8 Q166.644 1208.38 160.834 1208.38 Q155.024 1208.38 151.945 1203.8 Q148.889 1199.19 148.889 1190.46 Q148.889 1181.71 151.945 1177.13 Q155.024 1172.52 160.834 1172.52 Z\" fill=\"#000000\" fill-rule=\"evenodd\" fill-opacity=\"1\" /><path clip-path=\"url(#clip490)\" d=\"M209.167 1182.25 L198.588 1192.87 L209.167 1203.45 L206.412 1206.25 L195.787 1195.63 L185.162 1206.25 L182.431 1203.45 L192.986 1192.87 L182.431 1182.25 L185.162 1179.45 L195.787 1190.07 L206.412 1179.45 L209.167 1182.25 Z\" fill=\"#000000\" fill-rule=\"evenodd\" fill-opacity=\"1\" /><path clip-path=\"url(#clip490)\" d=\"M221.528 1203.77 L229.167 1203.77 L229.167 1177.41 L220.857 1179.08 L220.857 1174.82 L229.121 1173.15 L233.796 1173.15 L233.796 1203.77 L241.435 1203.77 L241.435 1207.71 L221.528 1207.71 L221.528 1203.77 Z\" fill=\"#000000\" fill-rule=\"evenodd\" fill-opacity=\"1\" /><path clip-path=\"url(#clip490)\" d=\"M260.88 1176.23 Q257.269 1176.23 255.44 1179.79 Q253.634 1183.33 253.634 1190.46 Q253.634 1197.57 255.44 1201.14 Q257.269 1204.68 260.88 1204.68 Q264.514 1204.68 266.319 1201.14 Q268.148 1197.57 268.148 1190.46 Q268.148 1183.33 266.319 1179.79 Q264.514 1176.23 260.88 1176.23 M260.88 1172.52 Q266.69 1172.52 269.745 1177.13 Q272.824 1181.71 272.824 1190.46 Q272.824 1199.19 269.745 1203.8 Q266.69 1208.38 260.88 1208.38 Q255.069 1208.38 251.991 1203.8 Q248.935 1199.19 248.935 1190.46 Q248.935 1181.71 251.991 1177.13 Q255.069 1172.52 260.88 1172.52 Z\" fill=\"#000000\" fill-rule=\"evenodd\" fill-opacity=\"1\" /><path clip-path=\"url(#clip490)\" d=\"M274.63 1179.72 L274.63 1176.26 Q276.059 1176.93 277.526 1177.29 Q278.993 1177.65 280.404 1177.65 Q284.165 1177.65 286.14 1175.13 Q288.134 1172.59 288.416 1167.43 Q287.325 1169.05 285.651 1169.92 Q283.977 1170.78 281.946 1170.78 Q277.733 1170.78 275.269 1168.24 Q272.824 1165.69 272.824 1161.27 Q272.824 1156.94 275.382 1154.33 Q277.94 1151.71 282.19 1151.71 Q287.061 1151.71 289.619 1155.45 Q292.196 1159.18 292.196 1166.29 Q292.196 1172.93 289.036 1176.9 Q285.895 1180.84 280.573 1180.84 Q279.143 1180.84 277.676 1180.56 Q276.209 1180.28 274.63 1179.72 M282.19 1167.81 Q284.748 1167.81 286.234 1166.06 Q287.739 1164.31 287.739 1161.27 Q287.739 1158.24 286.234 1156.49 Q284.748 1154.72 282.19 1154.72 Q279.632 1154.72 278.128 1156.49 Q276.642 1158.24 276.642 1161.27 Q276.642 1164.31 278.128 1166.06 Q279.632 1167.81 282.19 1167.81 Z\" fill=\"#000000\" fill-rule=\"evenodd\" fill-opacity=\"1\" /><path clip-path=\"url(#clip490)\" d=\"M53.3995 942.041 L61.0384 942.041 L61.0384 915.675 L52.7282 917.342 L52.7282 913.083 L60.9921 911.416 L65.668 911.416 L65.668 942.041 L73.3068 942.041 L73.3068 945.976 L53.3995 945.976 L53.3995 942.041 Z\" fill=\"#000000\" fill-rule=\"evenodd\" fill-opacity=\"1\" /><path clip-path=\"url(#clip490)\" d=\"M82.7512 940.096 L87.6354 940.096 L87.6354 945.976 L82.7512 945.976 L82.7512 940.096 Z\" fill=\"#000000\" fill-rule=\"evenodd\" fill-opacity=\"1\" /><path clip-path=\"url(#clip490)\" d=\"M107.821 914.495 Q104.209 914.495 102.381 918.059 Q100.575 921.601 100.575 928.731 Q100.575 935.837 102.381 939.402 Q104.209 942.944 107.821 942.944 Q111.455 942.944 113.26 939.402 Q115.089 935.837 115.089 928.731 Q115.089 921.601 113.26 918.059 Q111.455 914.495 107.821 914.495 M107.821 910.791 Q113.631 910.791 116.686 915.397 Q119.765 919.981 119.765 928.731 Q119.765 937.458 116.686 942.064 Q113.631 946.647 107.821 946.647 Q102.01 946.647 98.9317 942.064 Q95.8761 937.458 95.8761 928.731 Q95.8761 919.981 98.9317 915.397 Q102.01 910.791 107.821 910.791 Z\" fill=\"#000000\" fill-rule=\"evenodd\" fill-opacity=\"1\" /><path clip-path=\"url(#clip490)\" d=\"M137.982 914.495 Q134.371 914.495 132.543 918.059 Q130.737 921.601 130.737 928.731 Q130.737 935.837 132.543 939.402 Q134.371 942.944 137.982 942.944 Q141.617 942.944 143.422 939.402 Q145.251 935.837 145.251 928.731 Q145.251 921.601 143.422 918.059 Q141.617 914.495 137.982 914.495 M137.982 910.791 Q143.793 910.791 146.848 915.397 Q149.927 919.981 149.927 928.731 Q149.927 937.458 146.848 942.064 Q143.793 946.647 137.982 946.647 Q132.172 946.647 129.094 942.064 Q126.038 937.458 126.038 928.731 Q126.038 919.981 129.094 915.397 Q132.172 910.791 137.982 910.791 Z\" fill=\"#000000\" fill-rule=\"evenodd\" fill-opacity=\"1\" /><path clip-path=\"url(#clip490)\" d=\"M186.315 920.513 L175.737 931.138 L186.315 941.717 L183.561 944.518 L172.936 933.893 L162.311 944.518 L159.58 941.717 L170.135 931.138 L159.58 920.513 L162.311 917.712 L172.936 928.337 L183.561 917.712 L186.315 920.513 Z\" fill=\"#000000\" fill-rule=\"evenodd\" fill-opacity=\"1\" /><path clip-path=\"url(#clip490)\" d=\"M198.677 942.041 L206.315 942.041 L206.315 915.675 L198.005 917.342 L198.005 913.083 L206.269 911.416 L210.945 911.416 L210.945 942.041 L218.584 942.041 L218.584 945.976 L198.677 945.976 L198.677 942.041 Z\" fill=\"#000000\" fill-rule=\"evenodd\" fill-opacity=\"1\" /><path clip-path=\"url(#clip490)\" d=\"M238.028 914.495 Q234.417 914.495 232.588 918.059 Q230.783 921.601 230.783 928.731 Q230.783 935.837 232.588 939.402 Q234.417 942.944 238.028 942.944 Q241.662 942.944 243.468 939.402 Q245.297 935.837 245.297 928.731 Q245.297 921.601 243.468 918.059 Q241.662 914.495 238.028 914.495 M238.028 910.791 Q243.838 910.791 246.894 915.397 Q249.973 919.981 249.973 928.731 Q249.973 937.458 246.894 942.064 Q243.838 946.647 238.028 946.647 Q232.218 946.647 229.139 942.064 Q226.084 937.458 226.084 928.731 Q226.084 919.981 229.139 915.397 Q232.218 910.791 238.028 910.791 Z\" fill=\"#000000\" fill-rule=\"evenodd\" fill-opacity=\"1\" /><path clip-path=\"url(#clip490)\" d=\"M250.518 915.368 L256.725 915.368 L256.725 893.946 L249.973 895.3 L249.973 891.84 L256.687 890.486 L260.486 890.486 L260.486 915.368 L266.693 915.368 L266.693 918.566 L250.518 918.566 L250.518 915.368 Z\" fill=\"#000000\" fill-rule=\"evenodd\" fill-opacity=\"1\" /><path clip-path=\"url(#clip490)\" d=\"M282.491 892.987 Q279.557 892.987 278.071 895.883 Q276.604 898.761 276.604 904.554 Q276.604 910.328 278.071 913.224 Q279.557 916.102 282.491 916.102 Q285.444 916.102 286.911 913.224 Q288.397 910.328 288.397 904.554 Q288.397 898.761 286.911 895.883 Q285.444 892.987 282.491 892.987 M282.491 889.978 Q287.212 889.978 289.695 893.721 Q292.196 897.444 292.196 904.554 Q292.196 911.644 289.695 915.387 Q287.212 919.111 282.491 919.111 Q277.77 919.111 275.269 915.387 Q272.786 911.644 272.786 904.554 Q272.786 897.444 275.269 893.721 Q277.77 889.978 282.491 889.978 Z\" fill=\"#000000\" fill-rule=\"evenodd\" fill-opacity=\"1\" /><path clip-path=\"url(#clip490)\" d=\"M53.3995 680.307 L61.0384 680.307 L61.0384 653.942 L52.7282 655.608 L52.7282 651.349 L60.9921 649.682 L65.668 649.682 L65.668 680.307 L73.3068 680.307 L73.3068 684.242 L53.3995 684.242 L53.3995 680.307 Z\" fill=\"#000000\" fill-rule=\"evenodd\" fill-opacity=\"1\" /><path clip-path=\"url(#clip490)\" d=\"M82.7512 678.363 L87.6354 678.363 L87.6354 684.242 L82.7512 684.242 L82.7512 678.363 Z\" fill=\"#000000\" fill-rule=\"evenodd\" fill-opacity=\"1\" /><path clip-path=\"url(#clip490)\" d=\"M97.8669 649.682 L116.223 649.682 L116.223 653.617 L102.149 653.617 L102.149 662.09 Q103.168 661.742 104.186 661.58 Q105.205 661.395 106.223 661.395 Q112.01 661.395 115.39 664.567 Q118.77 667.738 118.77 673.154 Q118.77 678.733 115.297 681.835 Q111.825 684.914 105.506 684.914 Q103.33 684.914 101.061 684.543 Q98.8159 684.173 96.4085 683.432 L96.4085 678.733 Q98.4919 679.867 100.714 680.423 Q102.936 680.978 105.413 680.978 Q109.418 680.978 111.756 678.872 Q114.094 676.766 114.094 673.154 Q114.094 669.543 111.756 667.437 Q109.418 665.33 105.413 665.33 Q103.538 665.33 101.663 665.747 Q99.8113 666.164 97.8669 667.043 L97.8669 649.682 Z\" fill=\"#000000\" fill-rule=\"evenodd\" fill-opacity=\"1\" /><path clip-path=\"url(#clip490)\" d=\"M137.982 652.761 Q134.371 652.761 132.543 656.326 Q130.737 659.867 130.737 666.997 Q130.737 674.104 132.543 677.668 Q134.371 681.21 137.982 681.21 Q141.617 681.21 143.422 677.668 Q145.251 674.104 145.251 666.997 Q145.251 659.867 143.422 656.326 Q141.617 652.761 137.982 652.761 M137.982 649.057 Q143.793 649.057 146.848 653.664 Q149.927 658.247 149.927 666.997 Q149.927 675.724 146.848 680.33 Q143.793 684.914 137.982 684.914 Q132.172 684.914 129.094 680.33 Q126.038 675.724 126.038 666.997 Q126.038 658.247 129.094 653.664 Q132.172 649.057 137.982 649.057 Z\" fill=\"#000000\" fill-rule=\"evenodd\" fill-opacity=\"1\" /><path clip-path=\"url(#clip490)\" d=\"M186.315 658.78 L175.737 669.404 L186.315 679.983 L183.561 682.784 L172.936 672.159 L162.311 682.784 L159.58 679.983 L170.135 669.404 L159.58 658.78 L162.311 655.979 L172.936 666.604 L183.561 655.979 L186.315 658.78 Z\" fill=\"#000000\" fill-rule=\"evenodd\" fill-opacity=\"1\" /><path clip-path=\"url(#clip490)\" d=\"M198.677 680.307 L206.315 680.307 L206.315 653.942 L198.005 655.608 L198.005 651.349 L206.269 649.682 L210.945 649.682 L210.945 680.307 L218.584 680.307 L218.584 684.242 L198.677 684.242 L198.677 680.307 Z\" fill=\"#000000\" fill-rule=\"evenodd\" fill-opacity=\"1\" /><path clip-path=\"url(#clip490)\" d=\"M238.028 652.761 Q234.417 652.761 232.588 656.326 Q230.783 659.867 230.783 666.997 Q230.783 674.104 232.588 677.668 Q234.417 681.21 238.028 681.21 Q241.662 681.21 243.468 677.668 Q245.297 674.104 245.297 666.997 Q245.297 659.867 243.468 656.326 Q241.662 652.761 238.028 652.761 M238.028 649.057 Q243.838 649.057 246.894 653.664 Q249.973 658.247 249.973 666.997 Q249.973 675.724 246.894 680.33 Q243.838 684.914 238.028 684.914 Q232.218 684.914 229.139 680.33 Q226.084 675.724 226.084 666.997 Q226.084 658.247 229.139 653.664 Q232.218 649.057 238.028 649.057 Z\" fill=\"#000000\" fill-rule=\"evenodd\" fill-opacity=\"1\" /><path clip-path=\"url(#clip490)\" d=\"M250.518 653.635 L256.725 653.635 L256.725 632.213 L249.973 633.567 L249.973 630.106 L256.687 628.752 L260.486 628.752 L260.486 653.635 L266.693 653.635 L266.693 656.832 L250.518 656.832 L250.518 653.635 Z\" fill=\"#000000\" fill-rule=\"evenodd\" fill-opacity=\"1\" /><path clip-path=\"url(#clip490)\" d=\"M282.491 631.253 Q279.557 631.253 278.071 634.15 Q276.604 637.027 276.604 642.82 Q276.604 648.594 278.071 651.491 Q279.557 654.368 282.491 654.368 Q285.444 654.368 286.911 651.491 Q288.397 648.594 288.397 642.82 Q288.397 637.027 286.911 634.15 Q285.444 631.253 282.491 631.253 M282.491 628.244 Q287.212 628.244 289.695 631.987 Q292.196 635.711 292.196 642.82 Q292.196 649.911 289.695 653.653 Q287.212 657.377 282.491 657.377 Q277.77 657.377 275.269 653.653 Q272.786 649.911 272.786 642.82 Q272.786 635.711 275.269 631.987 Q277.77 628.244 282.491 628.244 Z\" fill=\"#000000\" fill-rule=\"evenodd\" fill-opacity=\"1\" /><path clip-path=\"url(#clip490)\" d=\"M56.6171 418.574 L72.9365 418.574 L72.9365 422.509 L50.9921 422.509 L50.9921 418.574 Q53.6541 415.819 58.2375 411.189 Q62.8439 406.537 64.0245 405.194 Q66.2698 402.671 67.1494 400.935 Q68.0522 399.175 68.0522 397.486 Q68.0522 394.731 66.1078 392.995 Q64.1865 391.259 61.0847 391.259 Q58.8856 391.259 56.4319 392.023 Q54.0014 392.787 51.2236 394.338 L51.2236 389.615 Q54.0477 388.481 56.5014 387.902 Q58.955 387.324 60.9921 387.324 Q66.3624 387.324 69.5568 390.009 Q72.7513 392.694 72.7513 397.185 Q72.7513 399.314 71.9411 401.236 Q71.1541 403.134 69.0476 405.726 Q68.4689 406.398 65.367 409.615 Q62.2652 412.81 56.6171 418.574 Z\" fill=\"#000000\" fill-rule=\"evenodd\" fill-opacity=\"1\" /><path clip-path=\"url(#clip490)\" d=\"M82.7512 416.629 L87.6354 416.629 L87.6354 422.509 L82.7512 422.509 L82.7512 416.629 Z\" fill=\"#000000\" fill-rule=\"evenodd\" fill-opacity=\"1\" /><path clip-path=\"url(#clip490)\" d=\"M107.821 391.027 Q104.209 391.027 102.381 394.592 Q100.575 398.134 100.575 405.263 Q100.575 412.37 102.381 415.935 Q104.209 419.476 107.821 419.476 Q111.455 419.476 113.26 415.935 Q115.089 412.37 115.089 405.263 Q115.089 398.134 113.26 394.592 Q111.455 391.027 107.821 391.027 M107.821 387.324 Q113.631 387.324 116.686 391.93 Q119.765 396.513 119.765 405.263 Q119.765 413.99 116.686 418.597 Q113.631 423.18 107.821 423.18 Q102.01 423.18 98.9317 418.597 Q95.8761 413.99 95.8761 405.263 Q95.8761 396.513 98.9317 391.93 Q102.01 387.324 107.821 387.324 Z\" fill=\"#000000\" fill-rule=\"evenodd\" fill-opacity=\"1\" /><path clip-path=\"url(#clip490)\" d=\"M137.982 391.027 Q134.371 391.027 132.543 394.592 Q130.737 398.134 130.737 405.263 Q130.737 412.37 132.543 415.935 Q134.371 419.476 137.982 419.476 Q141.617 419.476 143.422 415.935 Q145.251 412.37 145.251 405.263 Q145.251 398.134 143.422 394.592 Q141.617 391.027 137.982 391.027 M137.982 387.324 Q143.793 387.324 146.848 391.93 Q149.927 396.513 149.927 405.263 Q149.927 413.99 146.848 418.597 Q143.793 423.18 137.982 423.18 Q132.172 423.18 129.094 418.597 Q126.038 413.99 126.038 405.263 Q126.038 396.513 129.094 391.93 Q132.172 387.324 137.982 387.324 Z\" fill=\"#000000\" fill-rule=\"evenodd\" fill-opacity=\"1\" /><path clip-path=\"url(#clip490)\" d=\"M186.315 397.046 L175.737 407.671 L186.315 418.249 L183.561 421.05 L172.936 410.425 L162.311 421.05 L159.58 418.249 L170.135 407.671 L159.58 397.046 L162.311 394.245 L172.936 404.87 L183.561 394.245 L186.315 397.046 Z\" fill=\"#000000\" fill-rule=\"evenodd\" fill-opacity=\"1\" /><path clip-path=\"url(#clip490)\" d=\"M198.677 418.574 L206.315 418.574 L206.315 392.208 L198.005 393.875 L198.005 389.615 L206.269 387.949 L210.945 387.949 L210.945 418.574 L218.584 418.574 L218.584 422.509 L198.677 422.509 L198.677 418.574 Z\" fill=\"#000000\" fill-rule=\"evenodd\" fill-opacity=\"1\" /><path clip-path=\"url(#clip490)\" d=\"M238.028 391.027 Q234.417 391.027 232.588 394.592 Q230.783 398.134 230.783 405.263 Q230.783 412.37 232.588 415.935 Q234.417 419.476 238.028 419.476 Q241.662 419.476 243.468 415.935 Q245.297 412.37 245.297 405.263 Q245.297 398.134 243.468 394.592 Q241.662 391.027 238.028 391.027 M238.028 387.324 Q243.838 387.324 246.894 391.93 Q249.973 396.513 249.973 405.263 Q249.973 413.99 246.894 418.597 Q243.838 423.18 238.028 423.18 Q232.218 423.18 229.139 418.597 Q226.084 413.99 226.084 405.263 Q226.084 396.513 229.139 391.93 Q232.218 387.324 238.028 387.324 Z\" fill=\"#000000\" fill-rule=\"evenodd\" fill-opacity=\"1\" /><path clip-path=\"url(#clip490)\" d=\"M250.518 391.901 L256.725 391.901 L256.725 370.479 L249.973 371.833 L249.973 368.372 L256.687 367.018 L260.486 367.018 L260.486 391.901 L266.693 391.901 L266.693 395.098 L250.518 395.098 L250.518 391.901 Z\" fill=\"#000000\" fill-rule=\"evenodd\" fill-opacity=\"1\" /><path clip-path=\"url(#clip490)\" d=\"M282.491 369.52 Q279.557 369.52 278.071 372.416 Q276.604 375.294 276.604 381.086 Q276.604 386.86 278.071 389.757 Q279.557 392.634 282.491 392.634 Q285.444 392.634 286.911 389.757 Q288.397 386.86 288.397 381.086 Q288.397 375.294 286.911 372.416 Q285.444 369.52 282.491 369.52 M282.491 366.51 Q287.212 366.51 289.695 370.253 Q292.196 373.977 292.196 381.086 Q292.196 388.177 289.695 391.92 Q287.212 395.644 282.491 395.644 Q277.77 395.644 275.269 391.92 Q272.786 388.177 272.786 381.086 Q272.786 373.977 275.269 370.253 Q277.77 366.51 282.491 366.51 Z\" fill=\"#000000\" fill-rule=\"evenodd\" fill-opacity=\"1\" /><path clip-path=\"url(#clip490)\" d=\"M56.6171 156.84 L72.9365 156.84 L72.9365 160.775 L50.9921 160.775 L50.9921 156.84 Q53.6541 154.085 58.2375 149.456 Q62.8439 144.803 64.0245 143.46 Q66.2698 140.937 67.1494 139.201 Q68.0522 137.442 68.0522 135.752 Q68.0522 132.997 66.1078 131.261 Q64.1865 129.525 61.0847 129.525 Q58.8856 129.525 56.4319 130.289 Q54.0014 131.053 51.2236 132.604 L51.2236 127.882 Q54.0477 126.747 56.5014 126.169 Q58.955 125.59 60.9921 125.59 Q66.3624 125.59 69.5568 128.275 Q72.7513 130.96 72.7513 135.451 Q72.7513 137.581 71.9411 139.502 Q71.1541 141.4 69.0476 143.993 Q68.4689 144.664 65.367 147.882 Q62.2652 151.076 56.6171 156.84 Z\" fill=\"#000000\" fill-rule=\"evenodd\" fill-opacity=\"1\" /><path clip-path=\"url(#clip490)\" d=\"M82.7512 154.895 L87.6354 154.895 L87.6354 160.775 L82.7512 160.775 L82.7512 154.895 Z\" fill=\"#000000\" fill-rule=\"evenodd\" fill-opacity=\"1\" /><path clip-path=\"url(#clip490)\" d=\"M97.8669 126.215 L116.223 126.215 L116.223 130.15 L102.149 130.15 L102.149 138.622 Q103.168 138.275 104.186 138.113 Q105.205 137.928 106.223 137.928 Q112.01 137.928 115.39 141.099 Q118.77 144.27 118.77 149.687 Q118.77 155.266 115.297 158.368 Q111.825 161.446 105.506 161.446 Q103.33 161.446 101.061 161.076 Q98.8159 160.706 96.4085 159.965 L96.4085 155.266 Q98.4919 156.4 100.714 156.956 Q102.936 157.511 105.413 157.511 Q109.418 157.511 111.756 155.405 Q114.094 153.298 114.094 149.687 Q114.094 146.076 111.756 143.97 Q109.418 141.863 105.413 141.863 Q103.538 141.863 101.663 142.28 Q99.8113 142.696 97.8669 143.576 L97.8669 126.215 Z\" fill=\"#000000\" fill-rule=\"evenodd\" fill-opacity=\"1\" /><path clip-path=\"url(#clip490)\" d=\"M137.982 129.294 Q134.371 129.294 132.543 132.859 Q130.737 136.4 130.737 143.53 Q130.737 150.636 132.543 154.201 Q134.371 157.743 137.982 157.743 Q141.617 157.743 143.422 154.201 Q145.251 150.636 145.251 143.53 Q145.251 136.4 143.422 132.859 Q141.617 129.294 137.982 129.294 M137.982 125.59 Q143.793 125.59 146.848 130.196 Q149.927 134.78 149.927 143.53 Q149.927 152.257 146.848 156.863 Q143.793 161.446 137.982 161.446 Q132.172 161.446 129.094 156.863 Q126.038 152.257 126.038 143.53 Q126.038 134.78 129.094 130.196 Q132.172 125.59 137.982 125.59 Z\" fill=\"#000000\" fill-rule=\"evenodd\" fill-opacity=\"1\" /><path clip-path=\"url(#clip490)\" d=\"M186.315 135.312 L175.737 145.937 L186.315 156.516 L183.561 159.317 L172.936 148.692 L162.311 159.317 L159.58 156.516 L170.135 145.937 L159.58 135.312 L162.311 132.511 L172.936 143.136 L183.561 132.511 L186.315 135.312 Z\" fill=\"#000000\" fill-rule=\"evenodd\" fill-opacity=\"1\" /><path clip-path=\"url(#clip490)\" d=\"M198.677 156.84 L206.315 156.84 L206.315 130.474 L198.005 132.141 L198.005 127.882 L206.269 126.215 L210.945 126.215 L210.945 156.84 L218.584 156.84 L218.584 160.775 L198.677 160.775 L198.677 156.84 Z\" fill=\"#000000\" fill-rule=\"evenodd\" fill-opacity=\"1\" /><path clip-path=\"url(#clip490)\" d=\"M238.028 129.294 Q234.417 129.294 232.588 132.859 Q230.783 136.4 230.783 143.53 Q230.783 150.636 232.588 154.201 Q234.417 157.743 238.028 157.743 Q241.662 157.743 243.468 154.201 Q245.297 150.636 245.297 143.53 Q245.297 136.4 243.468 132.859 Q241.662 129.294 238.028 129.294 M238.028 125.59 Q243.838 125.59 246.894 130.196 Q249.973 134.78 249.973 143.53 Q249.973 152.257 246.894 156.863 Q243.838 161.446 238.028 161.446 Q232.218 161.446 229.139 156.863 Q226.084 152.257 226.084 143.53 Q226.084 134.78 229.139 130.196 Q232.218 125.59 238.028 125.59 Z\" fill=\"#000000\" fill-rule=\"evenodd\" fill-opacity=\"1\" /><path clip-path=\"url(#clip490)\" d=\"M250.518 130.167 L256.725 130.167 L256.725 108.745 L249.973 110.099 L249.973 106.639 L256.687 105.285 L260.486 105.285 L260.486 130.167 L266.693 130.167 L266.693 133.365 L250.518 133.365 L250.518 130.167 Z\" fill=\"#000000\" fill-rule=\"evenodd\" fill-opacity=\"1\" /><path clip-path=\"url(#clip490)\" d=\"M282.491 107.786 Q279.557 107.786 278.071 110.682 Q276.604 113.56 276.604 119.353 Q276.604 125.127 278.071 128.023 Q279.557 130.901 282.491 130.901 Q285.444 130.901 286.911 128.023 Q288.397 125.127 288.397 119.353 Q288.397 113.56 286.911 110.682 Q285.444 107.786 282.491 107.786 M282.491 104.777 Q287.212 104.777 289.695 108.52 Q292.196 112.244 292.196 119.353 Q292.196 126.443 289.695 130.186 Q287.212 133.91 282.491 133.91 Q277.77 133.91 275.269 130.186 Q272.786 126.443 272.786 119.353 Q272.786 112.244 275.269 108.52 Q277.77 104.777 282.491 104.777 Z\" fill=\"#000000\" fill-rule=\"evenodd\" fill-opacity=\"1\" /><circle clip-path=\"url(#clip492)\" cx=\"472.311\" cy=\"922.248\" r=\"14.4\" fill=\"#009af9\" fill-rule=\"evenodd\" fill-opacity=\"1\" stroke=\"#000000\" stroke-opacity=\"1\" stroke-width=\"3.2\"/>\n",
       "<circle clip-path=\"url(#clip492)\" cx=\"559.128\" cy=\"1263.19\" r=\"14.4\" fill=\"#009af9\" fill-rule=\"evenodd\" fill-opacity=\"1\" stroke=\"#000000\" stroke-opacity=\"1\" stroke-width=\"3.2\"/>\n",
       "<circle clip-path=\"url(#clip492)\" cx=\"645.944\" cy=\"1389.51\" r=\"14.4\" fill=\"#009af9\" fill-rule=\"evenodd\" fill-opacity=\"1\" stroke=\"#000000\" stroke-opacity=\"1\" stroke-width=\"3.2\"/>\n",
       "<circle clip-path=\"url(#clip492)\" cx=\"732.761\" cy=\"1430.93\" r=\"14.4\" fill=\"#009af9\" fill-rule=\"evenodd\" fill-opacity=\"1\" stroke=\"#000000\" stroke-opacity=\"1\" stroke-width=\"3.2\"/>\n",
       "<circle clip-path=\"url(#clip492)\" cx=\"819.577\" cy=\"1442.55\" r=\"14.4\" fill=\"#009af9\" fill-rule=\"evenodd\" fill-opacity=\"1\" stroke=\"#000000\" stroke-opacity=\"1\" stroke-width=\"3.2\"/>\n",
       "<circle clip-path=\"url(#clip492)\" cx=\"906.394\" cy=\"1445.2\" r=\"14.4\" fill=\"#009af9\" fill-rule=\"evenodd\" fill-opacity=\"1\" stroke=\"#000000\" stroke-opacity=\"1\" stroke-width=\"3.2\"/>\n",
       "<circle clip-path=\"url(#clip492)\" cx=\"993.21\" cy=\"1445.66\" r=\"14.4\" fill=\"#009af9\" fill-rule=\"evenodd\" fill-opacity=\"1\" stroke=\"#000000\" stroke-opacity=\"1\" stroke-width=\"3.2\"/>\n",
       "<circle clip-path=\"url(#clip492)\" cx=\"1080.03\" cy=\"1445.71\" r=\"14.4\" fill=\"#009af9\" fill-rule=\"evenodd\" fill-opacity=\"1\" stroke=\"#000000\" stroke-opacity=\"1\" stroke-width=\"3.2\"/>\n",
       "<circle clip-path=\"url(#clip492)\" cx=\"1166.84\" cy=\"1445.72\" r=\"14.4\" fill=\"#009af9\" fill-rule=\"evenodd\" fill-opacity=\"1\" stroke=\"#000000\" stroke-opacity=\"1\" stroke-width=\"3.2\"/>\n",
       "<circle clip-path=\"url(#clip492)\" cx=\"1253.66\" cy=\"1445.72\" r=\"14.4\" fill=\"#009af9\" fill-rule=\"evenodd\" fill-opacity=\"1\" stroke=\"#000000\" stroke-opacity=\"1\" stroke-width=\"3.2\"/>\n",
       "<circle clip-path=\"url(#clip492)\" cx=\"1340.48\" cy=\"1445.72\" r=\"14.4\" fill=\"#009af9\" fill-rule=\"evenodd\" fill-opacity=\"1\" stroke=\"#000000\" stroke-opacity=\"1\" stroke-width=\"3.2\"/>\n",
       "<circle clip-path=\"url(#clip492)\" cx=\"1427.29\" cy=\"1445.72\" r=\"14.4\" fill=\"#009af9\" fill-rule=\"evenodd\" fill-opacity=\"1\" stroke=\"#000000\" stroke-opacity=\"1\" stroke-width=\"3.2\"/>\n",
       "<circle clip-path=\"url(#clip492)\" cx=\"1514.11\" cy=\"1445.72\" r=\"14.4\" fill=\"#009af9\" fill-rule=\"evenodd\" fill-opacity=\"1\" stroke=\"#000000\" stroke-opacity=\"1\" stroke-width=\"3.2\"/>\n",
       "<circle clip-path=\"url(#clip492)\" cx=\"1600.93\" cy=\"1445.71\" r=\"14.4\" fill=\"#009af9\" fill-rule=\"evenodd\" fill-opacity=\"1\" stroke=\"#000000\" stroke-opacity=\"1\" stroke-width=\"3.2\"/>\n",
       "<circle clip-path=\"url(#clip492)\" cx=\"1687.74\" cy=\"1445.66\" r=\"14.4\" fill=\"#009af9\" fill-rule=\"evenodd\" fill-opacity=\"1\" stroke=\"#000000\" stroke-opacity=\"1\" stroke-width=\"3.2\"/>\n",
       "<circle clip-path=\"url(#clip492)\" cx=\"1774.56\" cy=\"1445.2\" r=\"14.4\" fill=\"#009af9\" fill-rule=\"evenodd\" fill-opacity=\"1\" stroke=\"#000000\" stroke-opacity=\"1\" stroke-width=\"3.2\"/>\n",
       "<circle clip-path=\"url(#clip492)\" cx=\"1861.37\" cy=\"1442.55\" r=\"14.4\" fill=\"#009af9\" fill-rule=\"evenodd\" fill-opacity=\"1\" stroke=\"#000000\" stroke-opacity=\"1\" stroke-width=\"3.2\"/>\n",
       "<circle clip-path=\"url(#clip492)\" cx=\"1948.19\" cy=\"1430.93\" r=\"14.4\" fill=\"#009af9\" fill-rule=\"evenodd\" fill-opacity=\"1\" stroke=\"#000000\" stroke-opacity=\"1\" stroke-width=\"3.2\"/>\n",
       "<circle clip-path=\"url(#clip492)\" cx=\"2035.01\" cy=\"1389.51\" r=\"14.4\" fill=\"#009af9\" fill-rule=\"evenodd\" fill-opacity=\"1\" stroke=\"#000000\" stroke-opacity=\"1\" stroke-width=\"3.2\"/>\n",
       "<circle clip-path=\"url(#clip492)\" cx=\"2121.82\" cy=\"1263.19\" r=\"14.4\" fill=\"#009af9\" fill-rule=\"evenodd\" fill-opacity=\"1\" stroke=\"#000000\" stroke-opacity=\"1\" stroke-width=\"3.2\"/>\n",
       "<circle clip-path=\"url(#clip492)\" cx=\"2208.64\" cy=\"922.248\" r=\"14.4\" fill=\"#009af9\" fill-rule=\"evenodd\" fill-opacity=\"1\" stroke=\"#000000\" stroke-opacity=\"1\" stroke-width=\"3.2\"/>\n",
       "<polyline clip-path=\"url(#clip492)\" style=\"stroke:#e26f46; stroke-linecap:round; stroke-linejoin:round; stroke-width:4; stroke-opacity:1; fill:none\" points=\"472.311,922.248 559.128,1263.19 645.944,1389.51 732.761,1430.93 819.577,1442.55 906.394,1445.2 993.21,1445.66 1080.03,1445.71 1166.84,1445.72 1253.66,1445.72 1340.48,1445.72 1427.29,1445.72 1514.11,1445.72 1600.93,1445.71 1687.74,1445.66 1774.56,1445.2 1861.37,1442.55 1948.19,1430.93 2035.01,1389.51 2121.82,1263.19 2208.64,922.248 \"/>\n",
       "<polyline clip-path=\"url(#clip492)\" style=\"stroke:#3da44d; stroke-linecap:round; stroke-linejoin:round; stroke-width:4; stroke-opacity:1; fill:none\" points=\"385.495,87.9763 394.176,206.478 402.858,315.589 411.54,415.976 420.221,508.265 428.903,593.043 437.585,670.856 446.266,742.219 454.948,807.612 463.63,867.482 472.311,922.248 480.993,972.301 489.675,1018 498.356,1059.7 507.038,1097.7 515.72,1132.3 524.401,1163.77 533.083,1192.37 541.764,1218.33 550.446,1241.87 559.128,1263.19 567.809,1282.49 576.491,1299.93 585.173,1315.67 593.854,1329.87 602.536,1342.66 611.218,1354.16 619.899,1364.49 628.581,1373.77 637.263,1382.07 645.944,1389.51 654.626,1396.15 663.308,1402.08 671.989,1407.36 680.671,1412.06 689.352,1416.24 698.034,1419.94 706.716,1423.22 715.397,1426.12 724.079,1428.68 732.761,1430.93 741.442,1432.91 750.124,1434.65 758.806,1436.17 767.487,1437.51 776.169,1438.67 784.851,1439.68 793.532,1440.56 802.214,1441.32 810.896,1441.98 819.577,1442.55 828.259,1443.04 836.94,1443.46 845.622,1443.82 854.304,1444.13 862.985,1444.39 871.667,1444.61 880.349,1444.8 889.03,1444.96 897.712,1445.09 906.394,1445.2 915.075,1445.3 923.757,1445.38 932.439,1445.44 941.12,1445.49 949.802,1445.54 958.484,1445.57 967.165,1445.6 975.847,1445.63 984.528,1445.65 993.21,1445.66 1001.89,1445.67 1010.57,1445.68 1019.26,1445.69 1027.94,1445.7 1036.62,1445.7 1045.3,1445.7 1053.98,1445.71 1062.66,1445.71 1071.34,1445.71 1080.03,1445.71 1088.71,1445.71 1097.39,1445.71 1106.07,1445.71 1114.75,1445.71 1123.43,1445.72 1132.12,1445.72 1140.8,1445.72 1149.48,1445.72 1158.16,1445.72 1166.84,1445.72 1175.52,1445.72 1184.21,1445.72 1192.89,1445.72 1201.57,1445.72 1210.25,1445.72 1218.93,1445.72 1227.61,1445.72 1236.3,1445.72 1244.98,1445.72 1253.66,1445.72 1262.34,1445.72 1271.02,1445.72 1279.7,1445.72 1288.39,1445.72 1297.07,1445.72 1305.75,1445.72 1314.43,1445.72 1323.11,1445.72 1331.79,1445.72 1340.48,1445.72 1349.16,1445.72 1357.84,1445.72 1366.52,1445.72 1375.2,1445.72 1383.88,1445.72 1392.57,1445.72 1401.25,1445.72 1409.93,1445.72 1418.61,1445.72 1427.29,1445.72 1435.97,1445.72 1444.66,1445.72 1453.34,1445.72 1462.02,1445.72 1470.7,1445.72 1479.38,1445.72 1488.06,1445.72 1496.75,1445.72 1505.43,1445.72 1514.11,1445.72 1522.79,1445.72 1531.47,1445.72 1540.15,1445.72 1548.84,1445.72 1557.52,1445.72 1566.2,1445.71 1574.88,1445.71 1583.56,1445.71 1592.24,1445.71 1600.93,1445.71 1609.61,1445.71 1618.29,1445.71 1626.97,1445.71 1635.65,1445.7 1644.33,1445.7 1653.02,1445.7 1661.7,1445.69 1670.38,1445.68 1679.06,1445.67 1687.74,1445.66 1696.42,1445.65 1705.11,1445.63 1713.79,1445.6 1722.47,1445.57 1731.15,1445.54 1739.83,1445.49 1748.51,1445.44 1757.19,1445.38 1765.88,1445.3 1774.56,1445.2 1783.24,1445.09 1791.92,1444.96 1800.6,1444.8 1809.28,1444.61 1817.97,1444.39 1826.65,1444.13 1835.33,1443.82 1844.01,1443.46 1852.69,1443.04 1861.37,1442.55 1870.06,1441.98 1878.74,1441.32 1887.42,1440.56 1896.1,1439.68 1904.78,1438.67 1913.46,1437.51 1922.15,1436.17 1930.83,1434.65 1939.51,1432.91 1948.19,1430.93 1956.87,1428.68 1965.55,1426.12 1974.24,1423.22 1982.92,1419.94 1991.6,1416.24 2000.28,1412.06 2008.96,1407.36 2017.64,1402.08 2026.33,1396.15 2035.01,1389.51 2043.69,1382.07 2052.37,1373.77 2061.05,1364.49 2069.73,1354.16 2078.42,1342.66 2087.1,1329.87 2095.78,1315.67 2104.46,1299.93 2113.14,1282.49 2121.82,1263.19 2130.51,1241.87 2139.19,1218.33 2147.87,1192.37 2156.55,1163.77 2165.23,1132.3 2173.91,1097.7 2182.6,1059.7 2191.28,1018 2199.96,972.301 2208.64,922.248 2217.32,867.482 2226,807.612 2234.69,742.219 2243.37,670.856 2252.05,593.043 2260.73,508.265 2269.41,415.976 2278.09,315.589 2286.78,206.478 2295.46,87.9763 \"/>\n",
       "<path clip-path=\"url(#clip490)\" d=\"M1855.94 302.578 L2285.27 302.578 L2285.27 95.2176 L1855.94 95.2176  Z\" fill=\"#ffffff\" fill-rule=\"evenodd\" fill-opacity=\"1\"/>\n",
       "<polyline clip-path=\"url(#clip490)\" style=\"stroke:#000000; stroke-linecap:round; stroke-linejoin:round; stroke-width:4; stroke-opacity:1; fill:none\" points=\"1855.94,302.578 2285.27,302.578 2285.27,95.2176 1855.94,95.2176 1855.94,302.578 \"/>\n",
       "<circle clip-path=\"url(#clip490)\" cx=\"1945.92\" cy=\"147.058\" r=\"23.04\" fill=\"#009af9\" fill-rule=\"evenodd\" fill-opacity=\"1\" stroke=\"#000000\" stroke-opacity=\"1\" stroke-width=\"5.12\"/>\n",
       "<path clip-path=\"url(#clip490)\" d=\"M2054.81 142.347 L2054.81 128.319 L2059.07 128.319 L2059.07 164.338 L2054.81 164.338 L2054.81 160.449 Q2053.47 162.763 2051.41 163.898 Q2049.37 165.009 2046.5 165.009 Q2041.8 165.009 2038.84 161.259 Q2035.9 157.509 2035.9 151.398 Q2035.9 145.287 2038.84 141.537 Q2041.8 137.787 2046.5 137.787 Q2049.37 137.787 2051.41 138.921 Q2053.47 140.032 2054.81 142.347 M2040.3 151.398 Q2040.3 156.097 2042.22 158.782 Q2044.17 161.444 2047.55 161.444 Q2050.92 161.444 2052.87 158.782 Q2054.81 156.097 2054.81 151.398 Q2054.81 146.699 2052.87 144.037 Q2050.92 141.352 2047.55 141.352 Q2044.17 141.352 2042.22 144.037 Q2040.3 146.699 2040.3 151.398 Z\" fill=\"#000000\" fill-rule=\"evenodd\" fill-opacity=\"1\" /><path clip-path=\"url(#clip490)\" d=\"M2079.63 151.305 Q2074.47 151.305 2072.48 152.486 Q2070.48 153.666 2070.48 156.514 Q2070.48 158.782 2071.97 160.125 Q2073.47 161.444 2076.04 161.444 Q2079.58 161.444 2081.71 158.944 Q2083.86 156.421 2083.86 152.254 L2083.86 151.305 L2079.63 151.305 M2088.12 149.546 L2088.12 164.338 L2083.86 164.338 L2083.86 160.402 Q2082.41 162.763 2080.23 163.898 Q2078.05 165.009 2074.91 165.009 Q2070.92 165.009 2068.56 162.787 Q2066.23 160.541 2066.23 156.791 Q2066.23 152.416 2069.14 150.194 Q2072.08 147.972 2077.89 147.972 L2083.86 147.972 L2083.86 147.555 Q2083.86 144.615 2081.92 143.018 Q2080 141.398 2076.5 141.398 Q2074.28 141.398 2072.17 141.93 Q2070.07 142.463 2068.12 143.527 L2068.12 139.592 Q2070.46 138.69 2072.66 138.25 Q2074.86 137.787 2076.94 137.787 Q2082.57 137.787 2085.35 140.703 Q2088.12 143.62 2088.12 149.546 Z\" fill=\"#000000\" fill-rule=\"evenodd\" fill-opacity=\"1\" /><path clip-path=\"url(#clip490)\" d=\"M2101.11 131.051 L2101.11 138.412 L2109.88 138.412 L2109.88 141.722 L2101.11 141.722 L2101.11 155.796 Q2101.11 158.967 2101.97 159.87 Q2102.85 160.773 2105.51 160.773 L2109.88 160.773 L2109.88 164.338 L2105.51 164.338 Q2100.58 164.338 2098.7 162.509 Q2096.83 160.657 2096.83 155.796 L2096.83 141.722 L2093.7 141.722 L2093.7 138.412 L2096.83 138.412 L2096.83 131.051 L2101.11 131.051 Z\" fill=\"#000000\" fill-rule=\"evenodd\" fill-opacity=\"1\" /><path clip-path=\"url(#clip490)\" d=\"M2127.27 151.305 Q2122.1 151.305 2120.11 152.486 Q2118.12 153.666 2118.12 156.514 Q2118.12 158.782 2119.6 160.125 Q2121.11 161.444 2123.68 161.444 Q2127.22 161.444 2129.35 158.944 Q2131.5 156.421 2131.5 152.254 L2131.5 151.305 L2127.27 151.305 M2135.76 149.546 L2135.76 164.338 L2131.5 164.338 L2131.5 160.402 Q2130.04 162.763 2127.87 163.898 Q2125.69 165.009 2122.54 165.009 Q2118.56 165.009 2116.2 162.787 Q2113.86 160.541 2113.86 156.791 Q2113.86 152.416 2116.78 150.194 Q2119.72 147.972 2125.53 147.972 L2131.5 147.972 L2131.5 147.555 Q2131.5 144.615 2129.56 143.018 Q2127.64 141.398 2124.14 141.398 Q2121.92 141.398 2119.81 141.93 Q2117.71 142.463 2115.76 143.527 L2115.76 139.592 Q2118.1 138.69 2120.3 138.25 Q2122.5 137.787 2124.58 137.787 Q2130.21 137.787 2132.98 140.703 Q2135.76 143.62 2135.76 149.546 Z\" fill=\"#000000\" fill-rule=\"evenodd\" fill-opacity=\"1\" /><polyline clip-path=\"url(#clip490)\" style=\"stroke:#e26f46; stroke-linecap:round; stroke-linejoin:round; stroke-width:4; stroke-opacity:1; fill:none\" points=\"1878.44,198.898 2013.41,198.898 \"/>\n",
       "<path clip-path=\"url(#clip490)\" d=\"M2035.9 181.618 L2065.14 181.618 L2065.14 185.553 L2052.87 185.553 L2052.87 216.178 L2048.17 216.178 L2048.17 185.553 L2035.9 185.553 L2035.9 181.618 Z\" fill=\"#000000\" fill-rule=\"evenodd\" fill-opacity=\"1\" /><path clip-path=\"url(#clip490)\" d=\"M2077.52 194.233 Q2076.8 193.817 2075.95 193.631 Q2075.11 193.423 2074.1 193.423 Q2070.48 193.423 2068.54 195.784 Q2066.62 198.122 2066.62 202.52 L2066.62 216.178 L2062.34 216.178 L2062.34 190.252 L2066.62 190.252 L2066.62 194.28 Q2067.96 191.918 2070.11 190.784 Q2072.27 189.627 2075.35 189.627 Q2075.79 189.627 2076.32 189.696 Q2076.85 189.743 2077.5 189.858 L2077.52 194.233 Z\" fill=\"#000000\" fill-rule=\"evenodd\" fill-opacity=\"1\" /><path clip-path=\"url(#clip490)\" d=\"M2081.55 205.946 L2081.55 190.252 L2085.81 190.252 L2085.81 205.784 Q2085.81 209.465 2087.24 211.316 Q2088.68 213.145 2091.55 213.145 Q2095 213.145 2096.99 210.946 Q2099 208.747 2099 204.951 L2099 190.252 L2103.26 190.252 L2103.26 216.178 L2099 216.178 L2099 212.196 Q2097.45 214.557 2095.39 215.715 Q2093.36 216.849 2090.65 216.849 Q2086.18 216.849 2083.86 214.071 Q2081.55 211.293 2081.55 205.946 M2092.27 189.627 L2092.27 189.627 Z\" fill=\"#000000\" fill-rule=\"evenodd\" fill-opacity=\"1\" /><path clip-path=\"url(#clip490)\" d=\"M2134.21 202.15 L2134.21 204.233 L2114.63 204.233 Q2114.91 208.631 2117.27 210.946 Q2119.65 213.238 2123.89 213.238 Q2126.34 213.238 2128.63 212.636 Q2130.95 212.034 2133.22 210.83 L2133.22 214.858 Q2130.92 215.83 2128.52 216.34 Q2126.11 216.849 2123.63 216.849 Q2117.43 216.849 2113.79 213.238 Q2110.18 209.627 2110.18 203.469 Q2110.18 197.104 2113.61 193.377 Q2117.06 189.627 2122.89 189.627 Q2128.12 189.627 2131.16 193.006 Q2134.21 196.363 2134.21 202.15 M2129.95 200.9 Q2129.91 197.405 2127.98 195.321 Q2126.09 193.238 2122.94 193.238 Q2119.37 193.238 2117.22 195.252 Q2115.09 197.266 2114.77 200.923 L2129.95 200.9 Z\" fill=\"#000000\" fill-rule=\"evenodd\" fill-opacity=\"1\" /><path clip-path=\"url(#clip490)\" d=\"M2156.27 180.159 L2160.53 180.159 L2160.53 216.178 L2156.27 216.178 L2156.27 180.159 Z\" fill=\"#000000\" fill-rule=\"evenodd\" fill-opacity=\"1\" /><path clip-path=\"url(#clip490)\" d=\"M2169.44 190.252 L2173.7 190.252 L2173.7 216.178 L2169.44 216.178 L2169.44 190.252 M2169.44 180.159 L2173.7 180.159 L2173.7 185.553 L2169.44 185.553 L2169.44 180.159 Z\" fill=\"#000000\" fill-rule=\"evenodd\" fill-opacity=\"1\" /><path clip-path=\"url(#clip490)\" d=\"M2204.16 200.529 L2204.16 216.178 L2199.91 216.178 L2199.91 200.668 Q2199.91 196.988 2198.47 195.159 Q2197.04 193.33 2194.16 193.33 Q2190.72 193.33 2188.72 195.53 Q2186.73 197.729 2186.73 201.525 L2186.73 216.178 L2182.45 216.178 L2182.45 190.252 L2186.73 190.252 L2186.73 194.28 Q2188.26 191.942 2190.32 190.784 Q2192.41 189.627 2195.11 189.627 Q2199.58 189.627 2201.87 192.405 Q2204.16 195.159 2204.16 200.529 Z\" fill=\"#000000\" fill-rule=\"evenodd\" fill-opacity=\"1\" /><path clip-path=\"url(#clip490)\" d=\"M2234.84 202.15 L2234.84 204.233 L2215.25 204.233 Q2215.53 208.631 2217.89 210.946 Q2220.28 213.238 2224.51 213.238 Q2226.97 213.238 2229.26 212.636 Q2231.57 212.034 2233.84 210.83 L2233.84 214.858 Q2231.55 215.83 2229.14 216.34 Q2226.73 216.849 2224.26 216.849 Q2218.05 216.849 2214.42 213.238 Q2210.81 209.627 2210.81 203.469 Q2210.81 197.104 2214.23 193.377 Q2217.68 189.627 2223.52 189.627 Q2228.75 189.627 2231.78 193.006 Q2234.84 196.363 2234.84 202.15 M2230.58 200.9 Q2230.53 197.405 2228.61 195.321 Q2226.71 193.238 2223.56 193.238 Q2220 193.238 2217.85 195.252 Q2215.72 197.266 2215.39 200.923 L2230.58 200.9 Z\" fill=\"#000000\" fill-rule=\"evenodd\" fill-opacity=\"1\" /><polyline clip-path=\"url(#clip490)\" style=\"stroke:#3da44d; stroke-linecap:round; stroke-linejoin:round; stroke-width:4; stroke-opacity:1; fill:none\" points=\"1878.44,250.738 2013.41,250.738 \"/>\n",
       "<path clip-path=\"url(#clip490)\" d=\"M2035.9 233.458 L2055.76 233.458 L2055.76 237.393 L2040.58 237.393 L2040.58 247.578 L2054.28 247.578 L2054.28 251.513 L2040.58 251.513 L2040.58 268.018 L2035.9 268.018 L2035.9 233.458 Z\" fill=\"#000000\" fill-rule=\"evenodd\" fill-opacity=\"1\" /><path clip-path=\"url(#clip490)\" d=\"M2059.54 242.092 L2063.8 242.092 L2063.8 268.018 L2059.54 268.018 L2059.54 242.092 M2059.54 231.999 L2063.8 231.999 L2063.8 237.393 L2059.54 237.393 L2059.54 231.999 Z\" fill=\"#000000\" fill-rule=\"evenodd\" fill-opacity=\"1\" /><path clip-path=\"url(#clip490)\" d=\"M2076.92 234.731 L2076.92 242.092 L2085.69 242.092 L2085.69 245.402 L2076.92 245.402 L2076.92 259.476 Q2076.92 262.647 2077.78 263.55 Q2078.66 264.453 2081.32 264.453 L2085.69 264.453 L2085.69 268.018 L2081.32 268.018 Q2076.39 268.018 2074.51 266.189 Q2072.64 264.337 2072.64 259.476 L2072.64 245.402 L2069.51 245.402 L2069.51 242.092 L2072.64 242.092 L2072.64 234.731 L2076.92 234.731 Z\" fill=\"#000000\" fill-rule=\"evenodd\" fill-opacity=\"1\" /><path clip-path=\"url(#clip490)\" d=\"M2095.51 234.731 L2095.51 242.092 L2104.28 242.092 L2104.28 245.402 L2095.51 245.402 L2095.51 259.476 Q2095.51 262.647 2096.36 263.55 Q2097.24 264.453 2099.91 264.453 L2104.28 264.453 L2104.28 268.018 L2099.91 268.018 Q2094.98 268.018 2093.1 266.189 Q2091.23 264.337 2091.23 259.476 L2091.23 245.402 L2088.1 245.402 L2088.1 242.092 L2091.23 242.092 L2091.23 234.731 L2095.51 234.731 Z\" fill=\"#000000\" fill-rule=\"evenodd\" fill-opacity=\"1\" /><path clip-path=\"url(#clip490)\" d=\"M2132.06 253.99 L2132.06 256.073 L2112.48 256.073 Q2112.75 260.471 2115.11 262.786 Q2117.5 265.078 2121.73 265.078 Q2124.19 265.078 2126.48 264.476 Q2128.79 263.874 2131.06 262.67 L2131.06 266.698 Q2128.77 267.67 2126.36 268.18 Q2123.96 268.689 2121.48 268.689 Q2115.28 268.689 2111.64 265.078 Q2108.03 261.467 2108.03 255.309 Q2108.03 248.944 2111.46 245.217 Q2114.91 241.467 2120.74 241.467 Q2125.97 241.467 2129 244.846 Q2132.06 248.203 2132.06 253.99 M2127.8 252.74 Q2127.75 249.245 2125.83 247.161 Q2123.93 245.078 2120.79 245.078 Q2117.22 245.078 2115.07 247.092 Q2112.94 249.106 2112.61 252.763 L2127.8 252.74 Z\" fill=\"#000000\" fill-rule=\"evenodd\" fill-opacity=\"1\" /><path clip-path=\"url(#clip490)\" d=\"M2156.11 246.027 L2156.11 231.999 L2160.37 231.999 L2160.37 268.018 L2156.11 268.018 L2156.11 264.129 Q2154.77 266.443 2152.71 267.578 Q2150.67 268.689 2147.8 268.689 Q2143.1 268.689 2140.14 264.939 Q2137.2 261.189 2137.2 255.078 Q2137.2 248.967 2140.14 245.217 Q2143.1 241.467 2147.8 241.467 Q2150.67 241.467 2152.71 242.601 Q2154.77 243.712 2156.11 246.027 M2141.6 255.078 Q2141.6 259.777 2143.52 262.462 Q2145.46 265.124 2148.84 265.124 Q2152.22 265.124 2154.16 262.462 Q2156.11 259.777 2156.11 255.078 Q2156.11 250.379 2154.16 247.717 Q2152.22 245.032 2148.84 245.032 Q2145.46 245.032 2143.52 247.717 Q2141.6 250.379 2141.6 255.078 Z\" fill=\"#000000\" fill-rule=\"evenodd\" fill-opacity=\"1\" /><path clip-path=\"url(#clip490)\" d=\"M2184.21 231.999 L2188.47 231.999 L2188.47 268.018 L2184.21 268.018 L2184.21 231.999 Z\" fill=\"#000000\" fill-rule=\"evenodd\" fill-opacity=\"1\" /><path clip-path=\"url(#clip490)\" d=\"M2197.38 242.092 L2201.64 242.092 L2201.64 268.018 L2197.38 268.018 L2197.38 242.092 M2197.38 231.999 L2201.64 231.999 L2201.64 237.393 L2197.38 237.393 L2197.38 231.999 Z\" fill=\"#000000\" fill-rule=\"evenodd\" fill-opacity=\"1\" /><path clip-path=\"url(#clip490)\" d=\"M2232.1 252.369 L2232.1 268.018 L2227.85 268.018 L2227.85 252.508 Q2227.85 248.828 2226.41 246.999 Q2224.97 245.17 2222.1 245.17 Q2218.66 245.17 2216.66 247.37 Q2214.67 249.569 2214.67 253.365 L2214.67 268.018 L2210.39 268.018 L2210.39 242.092 L2214.67 242.092 L2214.67 246.12 Q2216.2 243.782 2218.26 242.624 Q2220.35 241.467 2223.05 241.467 Q2227.52 241.467 2229.81 244.245 Q2232.1 246.999 2232.1 252.369 Z\" fill=\"#000000\" fill-rule=\"evenodd\" fill-opacity=\"1\" /><path clip-path=\"url(#clip490)\" d=\"M2262.78 253.99 L2262.78 256.073 L2243.19 256.073 Q2243.47 260.471 2245.83 262.786 Q2248.22 265.078 2252.45 265.078 Q2254.91 265.078 2257.2 264.476 Q2259.51 263.874 2261.78 262.67 L2261.78 266.698 Q2259.49 267.67 2257.08 268.18 Q2254.67 268.689 2252.2 268.689 Q2245.99 268.689 2242.36 265.078 Q2238.75 261.467 2238.75 255.309 Q2238.75 248.944 2242.17 245.217 Q2245.62 241.467 2251.46 241.467 Q2256.69 241.467 2259.72 244.846 Q2262.78 248.203 2262.78 253.99 M2258.52 252.74 Q2258.47 249.245 2256.55 247.161 Q2254.65 245.078 2251.5 245.078 Q2247.94 245.078 2245.78 247.092 Q2243.66 249.106 2243.33 252.763 L2258.52 252.74 Z\" fill=\"#000000\" fill-rule=\"evenodd\" fill-opacity=\"1\" /></svg>\n"
      ]
     },
     "execution_count": 24,
     "metadata": {},
     "output_type": "execute_result"
    }
   ],
   "source": [
    "y_observed =  x .^10 .+ x .^2 .+3 .*x .-2   + rand(d,length(x))\n",
    "y_true = x .^10 .+ x .^2 .+3 .*x .-2 \n",
    "poly_fit = fit(x,y_observed,11)\n",
    "x_fit = range(-11, 11; step = 0.1)\n",
    "y_fitted = poly_fit.(x_fit)\n",
    "scatter(x,y_observed, label=\"data\")\n",
    "plot!(x,y_true, label=\"True line\")\n",
    "plot!(x_fit,y_fitted,label=\"Fitted line\")"
   ]
  },
  {
   "cell_type": "markdown",
   "id": "bbcb4ef4",
   "metadata": {},
   "source": [
    "3. What do you observe in the plot? What is this phenomenon called?"
   ]
  },
  {
   "cell_type": "markdown",
   "id": "49a085b1",
   "metadata": {},
   "source": [
    "The fitted line completely overlaps with the true line. This phenomenon is called overfitting. "
   ]
  }
 ],
 "metadata": {
  "kernelspec": {
   "display_name": "Julia 1.8.5",
   "language": "julia",
   "name": "julia-1.8"
  },
  "language_info": {
   "file_extension": ".jl",
   "mimetype": "application/julia",
   "name": "julia",
   "version": "1.8.5"
  }
 },
 "nbformat": 4,
 "nbformat_minor": 5
}
