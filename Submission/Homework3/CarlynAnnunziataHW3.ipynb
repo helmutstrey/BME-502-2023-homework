{
 "cells": [
  {
   "cell_type": "markdown",
   "id": "1fbe377b",
   "metadata": {},
   "source": [
    "<h1>HW3</h1>"
   ]
  },
  {
   "cell_type": "markdown",
   "id": "79813e24",
   "metadata": {},
   "source": [
    "# Question 1\n",
    "### (Bayes Theorem) Read the following example and complete the exercises \n",
    "\n",
    "Trolls Under the Bridge\n",
    "1. Trolls(T) are bad\n",
    "2. Gnomes(G) are benign\n",
    "3. Every bridge has 5 creatures under it\n",
    "\n",
    "Below are the probabilities of what creatures live under a bridge:\n",
    "1. TTGGG: 20% (E1)\n",
    "2. TGGGG: 20% (E2)\n",
    "3. GGGGG: 60% (E3)\n",
    "\n",
    "A knight is approaching a bridge and he wants to know his chance of crossing the bridge safely."
   ]
  },
  {
   "cell_type": "markdown",
   "id": "425f8583",
   "metadata": {},
   "source": [
    "### 1.1 \n",
    "\n",
    "#### What is the chance of the knight crossing the bridge safely?\n"
   ]
  },
  {
   "cell_type": "markdown",
   "id": "371e17db",
   "metadata": {},
   "source": [
    "60%"
   ]
  },
  {
   "cell_type": "markdown",
   "id": "61f687e4",
   "metadata": {},
   "source": [
    "### 1.2\n",
    "\n",
    "#### Before crossing a bridge, a knight captures a troll. “I now have an 80% chance of crossing safely,” he reasons, “since only the case 20% had TTGGG (E1) now have TGGG is still a threat.”\n",
    "\n",
    "#### Do you agree with him? Why?"
   ]
  },
  {
   "cell_type": "markdown",
   "id": "94fb51ab",
   "metadata": {},
   "source": [
    "# 1.2\n",
    "No. If he catches a troll there is still an event that can occur where he will encounter a troll. So his probability of crossing the bridge safely occurs in one event of out the three possible events if he captured the troll from E1.\n",
    "P(hit) = 33.3%. If he captured a troll from E2, there are two events which he will cross the bridge safely, P(safe) = 66.7%."
   ]
  },
  {
   "cell_type": "markdown",
   "id": "09025213",
   "metadata": {},
   "source": []
  },
  {
   "cell_type": "markdown",
   "id": "3e1cd874",
   "metadata": {},
   "source": [
    "### 1.3\n",
    "\n",
    "#### Now he wants to use Bayes' theorem to calculate his chance of crossing safely given a troll captured \n",
    "\n",
    "\\begin{equation*}\n",
    "P(A|B) = \\frac{P(B|A)P(A)}{P(B)} \\\\\n",
    "P(A|B): Posteior \\\\\n",
    "P(B|A): Likelihood \\\\\n",
    "P(A): Prior \\\\\n",
    "P(B): Marginal Probability \\\\\n",
    "\\end{equation*}\n",
    "\n",
    "#### Given the three events, E1, E2, and E3, under which two events the knight can't cross safely after a troll was captured?"
   ]
  },
  {
   "cell_type": "markdown",
   "id": "765808bc",
   "metadata": {},
   "source": [
    "# 1.3\n",
    "If he captures the one troll in event E2, then there is no troll in this event. For event three there are no trolls. \n",
    "#So E2 and E1 are the only possible events that have a troll and the knight won't be safe."
   ]
  },
  {
   "cell_type": "code",
   "execution_count": null,
   "id": "03b9f925",
   "metadata": {},
   "outputs": [],
   "source": [
    "# E3: P(A) = chance of safe passage = 0.6\n",
    "    #P(B) = chance of capyuring troll = 0.4\n",
    "    #P(B|A) = P(B)xP(A) = 0.6 x 0.4 = 0.24\n",
    "#P(A|B) = P(B|A)x P(A)/P(B) = 0.24 x 0.6/0.4 = 0.36 = 36%"
   ]
  },
  {
   "cell_type": "markdown",
   "id": "0adb7f0a",
   "metadata": {},
   "source": []
  },
  {
   "cell_type": "markdown",
   "id": "a665e610",
   "metadata": {},
   "source": [
    "1.4\n",
    "\n",
    "Use Bayes' theorem to calculate the probability of the two events in 1.3 (separately) given the troll was captured. "
   ]
  },
  {
   "cell_type": "markdown",
   "id": "27eec2d9",
   "metadata": {},
   "source": [
    "Probability of one event given a troll captured: "
   ]
  },
  {
   "cell_type": "markdown",
   "id": "115493d6",
   "metadata": {},
   "source": [
    "# 1.4\n",
    "Using Baye's law:\n",
    "E1: P(T) = chance of troll = 2/5 = 0.4\n",
    "    P(E1) = chance of event 1 = 0.2 \n",
    "    P(T|E) = Chance of troll given event all events = 0.4x0.2+0.2x0.2+0x0.6\n",
    "    P(T|E) = 0.08/0.12 = 66.6%\n",
    "#P(T) = chance of not safe passage = 1-0.2 = 0.8\n",
    " #   P(B) = chance of capyuring troll = 2/5 = 0.4\n",
    "  #  P(B|A) = P(B)x P(A) = 0.8 x 0.4 = 0.32 \n",
    "#P(A|B) = P(B|A)x P(A)/P(B) = 0.32 x 0.8/0.4 = 0.64 = 64%"
   ]
  },
  {
   "cell_type": "markdown",
   "id": "37843aee",
   "metadata": {},
   "source": [
    "Probability of the other event given a troll captured: "
   ]
  },
  {
   "cell_type": "markdown",
   "id": "5462f90e",
   "metadata": {},
   "source": [
    "# 1.4\n",
    "E2: P(T) = chance of troll = 1/5 = 0.2\n",
    "    P(E1) = chance of event 2 = 0.2 \n",
    "    P(T|E) = Chance of troll given event all events = 0.04/0.12 = 33.3%"
   ]
  },
  {
   "cell_type": "markdown",
   "id": "f3b7f049",
   "metadata": {},
   "source": [
    "1.5  What is the chance of the knight crossing safely?"
   ]
  },
  {
   "cell_type": "markdown",
   "id": "8e3a22c8",
   "metadata": {},
   "source": [
    "# 1.5 \n",
    "For E2, the chances of crossing safely are 33.3%."
   ]
  },
  {
   "cell_type": "markdown",
   "id": "7b815ae0",
   "metadata": {},
   "source": [
    "#### Now looking back to 1.1, the probabilities were changed after assimilating data! "
   ]
  },
  {
   "cell_type": "markdown",
   "id": "f1450094",
   "metadata": {},
   "source": [
    "# Question 2\n",
    "### (Polynomial Fitting) Read the following example and complete the exercises \n",
    "\n",
    "Biological data always comes with errors that influence the intepretation of the data significantly. In this question, we will simulate data and see how noises affect the parameter estimation."
   ]
  },
  {
   "cell_type": "code",
   "execution_count": 41,
   "id": "c20822fa",
   "metadata": {},
   "outputs": [
    {
     "name": "stderr",
     "output_type": "stream",
     "text": [
      "\u001b[32m\u001b[1m   Resolving\u001b[22m\u001b[39m package versions...\n",
      "\u001b[32m\u001b[1m  No Changes\u001b[22m\u001b[39m to `C:\\Users\\Carly\\.julia\\environments\\v1.8\\Project.toml`\n",
      "\u001b[32m\u001b[1m  No Changes\u001b[22m\u001b[39m to `C:\\Users\\Carly\\.julia\\environments\\v1.8\\Manifest.toml`\n"
     ]
    }
   ],
   "source": [
    "import Pkg\n",
    "import Pkg\n",
    "Pkg.add([\"Plots\",\"Distributions\", \"Random\", \"Statistics\", \"Polynomials\"])"
   ]
  },
  {
   "cell_type": "code",
   "execution_count": 43,
   "id": "a343123d",
   "metadata": {},
   "outputs": [],
   "source": [
    "using Plots\n",
    "import Distributions as di\n",
    "using Random\n",
    "using Polynomials: Polynomials, fit, coeffs\n",
    "using Statistics"
   ]
  },
  {
   "cell_type": "markdown",
   "id": "a90dd09d",
   "metadata": {},
   "source": [
    "### 2.1\n",
    "\n",
    "1. Generate the independent variable x ranging from -10 to 10 with an increment of 1\n",
    "2. Generate the dependent variable y_true using the equation y_true = x^2 + 3x - 2\n"
   ]
  },
  {
   "cell_type": "code",
   "execution_count": 17,
   "id": "6b0b33c5",
   "metadata": {},
   "outputs": [
    {
     "data": {
      "text/plain": [
       "-10:10"
      ]
     },
     "execution_count": 17,
     "metadata": {},
     "output_type": "execute_result"
    }
   ],
   "source": [
    "x=-10:10"
   ]
  },
  {
   "cell_type": "code",
   "execution_count": 18,
   "id": "f87bcf21",
   "metadata": {},
   "outputs": [
    {
     "data": {
      "text/plain": [
       "21-element Vector{Int64}:\n",
       " -10\n",
       "  -9\n",
       "  -8\n",
       "  -7\n",
       "  -6\n",
       "  -5\n",
       "  -4\n",
       "  -3\n",
       "  -2\n",
       "  -1\n",
       "   0\n",
       "   1\n",
       "   2\n",
       "   3\n",
       "   4\n",
       "   5\n",
       "   6\n",
       "   7\n",
       "   8\n",
       "   9\n",
       "  10"
      ]
     },
     "execution_count": 18,
     "metadata": {},
     "output_type": "execute_result"
    }
   ],
   "source": [
    "collect(x)"
   ]
  },
  {
   "cell_type": "code",
   "execution_count": 21,
   "id": "88f5fe83",
   "metadata": {},
   "outputs": [
    {
     "data": {
      "text/plain": [
       "21-element Vector{Int64}:\n",
       "  68\n",
       "  52\n",
       "  38\n",
       "  26\n",
       "  16\n",
       "   8\n",
       "   2\n",
       "  -2\n",
       "  -4\n",
       "  -4\n",
       "  -2\n",
       "   2\n",
       "   8\n",
       "  16\n",
       "  26\n",
       "  38\n",
       "  52\n",
       "  68\n",
       "  86\n",
       " 106\n",
       " 128"
      ]
     },
     "execution_count": 21,
     "metadata": {},
     "output_type": "execute_result"
    }
   ],
   "source": [
    "y_true = x .^ 2 + 3 * x .- 2\n",
    "#y_true = x^2.0 .+ 3.0 .* x .- 2.0"
   ]
  },
  {
   "cell_type": "markdown",
   "id": "74d2a191",
   "metadata": {},
   "source": [
    "### 2.2\n",
    "\n",
    "1. Generate the Guassian noises with zero mean and a standard deviation of 10\n",
    "\n",
    "2. Add the noises to y_true to obtain y_observed\n"
   ]
  },
  {
   "cell_type": "code",
   "execution_count": 131,
   "id": "f4b0b015",
   "metadata": {},
   "outputs": [
    {
     "data": {
      "text/plain": [
       "-10:10"
      ]
     },
     "execution_count": 131,
     "metadata": {},
     "output_type": "execute_result"
    }
   ],
   "source": [
    "x_t=-10:10"
   ]
  },
  {
   "cell_type": "code",
   "execution_count": 132,
   "id": "29fb56cb",
   "metadata": {},
   "outputs": [
    {
     "data": {
      "text/plain": [
       "21-element Vector{Int64}:\n",
       " -10\n",
       "  -9\n",
       "  -8\n",
       "  -7\n",
       "  -6\n",
       "  -5\n",
       "  -4\n",
       "  -3\n",
       "  -2\n",
       "  -1\n",
       "   0\n",
       "   1\n",
       "   2\n",
       "   3\n",
       "   4\n",
       "   5\n",
       "   6\n",
       "   7\n",
       "   8\n",
       "   9\n",
       "  10"
      ]
     },
     "execution_count": 132,
     "metadata": {},
     "output_type": "execute_result"
    }
   ],
   "source": [
    "collect(x_t)"
   ]
  },
  {
   "cell_type": "code",
   "execution_count": 133,
   "id": "7936417a",
   "metadata": {},
   "outputs": [
    {
     "data": {
      "text/plain": [
       "Normal{Float64}(μ=0.0, σ=10.0)"
      ]
     },
     "execution_count": 133,
     "metadata": {},
     "output_type": "execute_result"
    }
   ],
   "source": [
    "dataerr = 10\n",
    "noise = di.Normal(0,dataerr)"
   ]
  },
  {
   "cell_type": "code",
   "execution_count": 134,
   "id": "c3f99a02",
   "metadata": {},
   "outputs": [
    {
     "data": {
      "text/plain": [
       "21-element Vector{Float64}:\n",
       "  53.722082786552754\n",
       "  47.432490490193025\n",
       "  38.94233871693235\n",
       "  24.183053219746732\n",
       "  25.60515958401075\n",
       "   7.618629291762193\n",
       "  -3.908190863889483\n",
       "   6.610081751119694\n",
       "   0.1466660644158111\n",
       " -14.965538298141821\n",
       "  -8.093436751106099\n",
       " -11.07724768384092\n",
       "  18.03309657679416\n",
       "  26.957405335862973\n",
       "  23.043206041879817\n",
       "  44.80551755835941\n",
       "  51.287779373862556\n",
       "  77.29870135720992\n",
       "  93.2413771218733\n",
       " 115.54495289672158\n",
       " 130.97888710862338"
      ]
     },
     "execution_count": 134,
     "metadata": {},
     "output_type": "execute_result"
    }
   ],
   "source": [
    "y_observed = y_true + rand(noise,length(x_t))"
   ]
  },
  {
   "cell_type": "markdown",
   "id": "ecf2e554",
   "metadata": {},
   "source": [
    "### 2.3\n",
    "\n",
    "#### Fit the data (x, y_observed) with a second order polynomial. \n",
    "\n",
    "1. Make a scatter plot of y_observed along x\n",
    "2. Plot a line of y_true along x on the scatter plot\n",
    "3. Plot a line of the fitted polynomial along x on the same plot"
   ]
  },
  {
   "cell_type": "code",
   "execution_count": 135,
   "id": "d39a136b",
   "metadata": {},
   "outputs": [
    {
     "data": {
      "image/svg+xml": [
       "<?xml version=\"1.0\" encoding=\"utf-8\"?>\n",
       "<svg xmlns=\"http://www.w3.org/2000/svg\" xmlns:xlink=\"http://www.w3.org/1999/xlink\" width=\"600\" height=\"400\" viewBox=\"0 0 2400 1600\">\n",
       "<defs>\n",
       "  <clipPath id=\"clip170\">\n",
       "    <rect x=\"0\" y=\"0\" width=\"2400\" height=\"1600\"/>\n",
       "  </clipPath>\n",
       "</defs>\n",
       "<path clip-path=\"url(#clip170)\" d=\"M0 1600 L2400 1600 L2400 0 L0 0  Z\" fill=\"#ffffff\" fill-rule=\"evenodd\" fill-opacity=\"1\"/>\n",
       "<defs>\n",
       "  <clipPath id=\"clip171\">\n",
       "    <rect x=\"480\" y=\"0\" width=\"1681\" height=\"1600\"/>\n",
       "  </clipPath>\n",
       "</defs>\n",
       "<path clip-path=\"url(#clip170)\" d=\"M169.121 1486.45 L2352.76 1486.45 L2352.76 47.2441 L169.121 47.2441  Z\" fill=\"#ffffff\" fill-rule=\"evenodd\" fill-opacity=\"1\"/>\n",
       "<defs>\n",
       "  <clipPath id=\"clip172\">\n",
       "    <rect x=\"169\" y=\"47\" width=\"2185\" height=\"1440\"/>\n",
       "  </clipPath>\n",
       "</defs>\n",
       "<polyline clip-path=\"url(#clip172)\" style=\"stroke:#000000; stroke-linecap:round; stroke-linejoin:round; stroke-width:2; stroke-opacity:0.1; fill:none\" points=\"230.922,1486.45 230.922,47.2441 \"/>\n",
       "<polyline clip-path=\"url(#clip172)\" style=\"stroke:#000000; stroke-linecap:round; stroke-linejoin:round; stroke-width:2; stroke-opacity:0.1; fill:none\" points=\"745.93,1486.45 745.93,47.2441 \"/>\n",
       "<polyline clip-path=\"url(#clip172)\" style=\"stroke:#000000; stroke-linecap:round; stroke-linejoin:round; stroke-width:2; stroke-opacity:0.1; fill:none\" points=\"1260.94,1486.45 1260.94,47.2441 \"/>\n",
       "<polyline clip-path=\"url(#clip172)\" style=\"stroke:#000000; stroke-linecap:round; stroke-linejoin:round; stroke-width:2; stroke-opacity:0.1; fill:none\" points=\"1775.95,1486.45 1775.95,47.2441 \"/>\n",
       "<polyline clip-path=\"url(#clip172)\" style=\"stroke:#000000; stroke-linecap:round; stroke-linejoin:round; stroke-width:2; stroke-opacity:0.1; fill:none\" points=\"2290.95,1486.45 2290.95,47.2441 \"/>\n",
       "<polyline clip-path=\"url(#clip170)\" style=\"stroke:#000000; stroke-linecap:round; stroke-linejoin:round; stroke-width:4; stroke-opacity:1; fill:none\" points=\"169.121,1486.45 2352.76,1486.45 \"/>\n",
       "<polyline clip-path=\"url(#clip170)\" style=\"stroke:#000000; stroke-linecap:round; stroke-linejoin:round; stroke-width:4; stroke-opacity:1; fill:none\" points=\"230.922,1486.45 230.922,1467.55 \"/>\n",
       "<polyline clip-path=\"url(#clip170)\" style=\"stroke:#000000; stroke-linecap:round; stroke-linejoin:round; stroke-width:4; stroke-opacity:1; fill:none\" points=\"745.93,1486.45 745.93,1467.55 \"/>\n",
       "<polyline clip-path=\"url(#clip170)\" style=\"stroke:#000000; stroke-linecap:round; stroke-linejoin:round; stroke-width:4; stroke-opacity:1; fill:none\" points=\"1260.94,1486.45 1260.94,1467.55 \"/>\n",
       "<polyline clip-path=\"url(#clip170)\" style=\"stroke:#000000; stroke-linecap:round; stroke-linejoin:round; stroke-width:4; stroke-opacity:1; fill:none\" points=\"1775.95,1486.45 1775.95,1467.55 \"/>\n",
       "<polyline clip-path=\"url(#clip170)\" style=\"stroke:#000000; stroke-linecap:round; stroke-linejoin:round; stroke-width:4; stroke-opacity:1; fill:none\" points=\"2290.95,1486.45 2290.95,1467.55 \"/>\n",
       "<path clip-path=\"url(#clip170)\" d=\"M184.985 1532.02 L214.661 1532.02 L214.661 1535.95 L184.985 1535.95 L184.985 1532.02 Z\" fill=\"#000000\" fill-rule=\"evenodd\" fill-opacity=\"1\" /><path clip-path=\"url(#clip170)\" d=\"M225.564 1544.91 L233.202 1544.91 L233.202 1518.55 L224.892 1520.21 L224.892 1515.95 L233.156 1514.29 L237.832 1514.29 L237.832 1544.91 L245.471 1544.91 L245.471 1548.85 L225.564 1548.85 L225.564 1544.91 Z\" fill=\"#000000\" fill-rule=\"evenodd\" fill-opacity=\"1\" /><path clip-path=\"url(#clip170)\" d=\"M264.915 1517.37 Q261.304 1517.37 259.475 1520.93 Q257.67 1524.47 257.67 1531.6 Q257.67 1538.71 259.475 1542.27 Q261.304 1545.82 264.915 1545.82 Q268.549 1545.82 270.355 1542.27 Q272.184 1538.71 272.184 1531.6 Q272.184 1524.47 270.355 1520.93 Q268.549 1517.37 264.915 1517.37 M264.915 1513.66 Q270.725 1513.66 273.781 1518.27 Q276.86 1522.85 276.86 1531.6 Q276.86 1540.33 273.781 1544.94 Q270.725 1549.52 264.915 1549.52 Q259.105 1549.52 256.026 1544.94 Q252.971 1540.33 252.971 1531.6 Q252.971 1522.85 256.026 1518.27 Q259.105 1513.66 264.915 1513.66 Z\" fill=\"#000000\" fill-rule=\"evenodd\" fill-opacity=\"1\" /><path clip-path=\"url(#clip170)\" d=\"M715.572 1532.02 L745.248 1532.02 L745.248 1535.95 L715.572 1535.95 L715.572 1532.02 Z\" fill=\"#000000\" fill-rule=\"evenodd\" fill-opacity=\"1\" /><path clip-path=\"url(#clip170)\" d=\"M755.386 1514.29 L773.743 1514.29 L773.743 1518.22 L759.669 1518.22 L759.669 1526.7 Q760.687 1526.35 761.706 1526.19 Q762.724 1526 763.743 1526 Q769.53 1526 772.909 1529.17 Q776.289 1532.34 776.289 1537.76 Q776.289 1543.34 772.817 1546.44 Q769.345 1549.52 763.025 1549.52 Q760.849 1549.52 758.581 1549.15 Q756.335 1548.78 753.928 1548.04 L753.928 1543.34 Q756.011 1544.47 758.234 1545.03 Q760.456 1545.58 762.933 1545.58 Q766.937 1545.58 769.275 1543.48 Q771.613 1541.37 771.613 1537.76 Q771.613 1534.15 769.275 1532.04 Q766.937 1529.94 762.933 1529.94 Q761.058 1529.94 759.183 1530.35 Q757.331 1530.77 755.386 1531.65 L755.386 1514.29 Z\" fill=\"#000000\" fill-rule=\"evenodd\" fill-opacity=\"1\" /><path clip-path=\"url(#clip170)\" d=\"M1260.94 1517.37 Q1257.33 1517.37 1255.5 1520.93 Q1253.69 1524.47 1253.69 1531.6 Q1253.69 1538.71 1255.5 1542.27 Q1257.33 1545.82 1260.94 1545.82 Q1264.57 1545.82 1266.38 1542.27 Q1268.21 1538.71 1268.21 1531.6 Q1268.21 1524.47 1266.38 1520.93 Q1264.57 1517.37 1260.94 1517.37 M1260.94 1513.66 Q1266.75 1513.66 1269.8 1518.27 Q1272.88 1522.85 1272.88 1531.6 Q1272.88 1540.33 1269.8 1544.94 Q1266.75 1549.52 1260.94 1549.52 Q1255.13 1549.52 1252.05 1544.94 Q1248.99 1540.33 1248.99 1531.6 Q1248.99 1522.85 1252.05 1518.27 Q1255.13 1513.66 1260.94 1513.66 Z\" fill=\"#000000\" fill-rule=\"evenodd\" fill-opacity=\"1\" /><path clip-path=\"url(#clip170)\" d=\"M1766.22 1514.29 L1784.58 1514.29 L1784.58 1518.22 L1770.51 1518.22 L1770.51 1526.7 Q1771.53 1526.35 1772.54 1526.19 Q1773.56 1526 1774.58 1526 Q1780.37 1526 1783.75 1529.17 Q1787.13 1532.34 1787.13 1537.76 Q1787.13 1543.34 1783.66 1546.44 Q1780.18 1549.52 1773.86 1549.52 Q1771.69 1549.52 1769.42 1549.15 Q1767.17 1548.78 1764.77 1548.04 L1764.77 1543.34 Q1766.85 1544.47 1769.07 1545.03 Q1771.29 1545.58 1773.77 1545.58 Q1777.78 1545.58 1780.11 1543.48 Q1782.45 1541.37 1782.45 1537.76 Q1782.45 1534.15 1780.11 1532.04 Q1777.78 1529.94 1773.77 1529.94 Q1771.9 1529.94 1770.02 1530.35 Q1768.17 1530.77 1766.22 1531.65 L1766.22 1514.29 Z\" fill=\"#000000\" fill-rule=\"evenodd\" fill-opacity=\"1\" /><path clip-path=\"url(#clip170)\" d=\"M2265.64 1544.91 L2273.28 1544.91 L2273.28 1518.55 L2264.97 1520.21 L2264.97 1515.95 L2273.24 1514.29 L2277.91 1514.29 L2277.91 1544.91 L2285.55 1544.91 L2285.55 1548.85 L2265.64 1548.85 L2265.64 1544.91 Z\" fill=\"#000000\" fill-rule=\"evenodd\" fill-opacity=\"1\" /><path clip-path=\"url(#clip170)\" d=\"M2304.99 1517.37 Q2301.38 1517.37 2299.55 1520.93 Q2297.75 1524.47 2297.75 1531.6 Q2297.75 1538.71 2299.55 1542.27 Q2301.38 1545.82 2304.99 1545.82 Q2308.63 1545.82 2310.43 1542.27 Q2312.26 1538.71 2312.26 1531.6 Q2312.26 1524.47 2310.43 1520.93 Q2308.63 1517.37 2304.99 1517.37 M2304.99 1513.66 Q2310.8 1513.66 2313.86 1518.27 Q2316.94 1522.85 2316.94 1531.6 Q2316.94 1540.33 2313.86 1544.94 Q2310.8 1549.52 2304.99 1549.52 Q2299.18 1549.52 2296.11 1544.94 Q2293.05 1540.33 2293.05 1531.6 Q2293.05 1522.85 2296.11 1518.27 Q2299.18 1513.66 2304.99 1513.66 Z\" fill=\"#000000\" fill-rule=\"evenodd\" fill-opacity=\"1\" /><polyline clip-path=\"url(#clip172)\" style=\"stroke:#000000; stroke-linecap:round; stroke-linejoin:round; stroke-width:2; stroke-opacity:0.1; fill:none\" points=\"169.121,1269.89 2352.76,1269.89 \"/>\n",
       "<polyline clip-path=\"url(#clip172)\" style=\"stroke:#000000; stroke-linecap:round; stroke-linejoin:round; stroke-width:2; stroke-opacity:0.1; fill:none\" points=\"169.121,992.878 2352.76,992.878 \"/>\n",
       "<polyline clip-path=\"url(#clip172)\" style=\"stroke:#000000; stroke-linecap:round; stroke-linejoin:round; stroke-width:2; stroke-opacity:0.1; fill:none\" points=\"169.121,715.867 2352.76,715.867 \"/>\n",
       "<polyline clip-path=\"url(#clip172)\" style=\"stroke:#000000; stroke-linecap:round; stroke-linejoin:round; stroke-width:2; stroke-opacity:0.1; fill:none\" points=\"169.121,438.856 2352.76,438.856 \"/>\n",
       "<polyline clip-path=\"url(#clip172)\" style=\"stroke:#000000; stroke-linecap:round; stroke-linejoin:round; stroke-width:2; stroke-opacity:0.1; fill:none\" points=\"169.121,161.846 2352.76,161.846 \"/>\n",
       "<polyline clip-path=\"url(#clip170)\" style=\"stroke:#000000; stroke-linecap:round; stroke-linejoin:round; stroke-width:4; stroke-opacity:1; fill:none\" points=\"169.121,1486.45 169.121,47.2441 \"/>\n",
       "<polyline clip-path=\"url(#clip170)\" style=\"stroke:#000000; stroke-linecap:round; stroke-linejoin:round; stroke-width:4; stroke-opacity:1; fill:none\" points=\"169.121,1269.89 188.019,1269.89 \"/>\n",
       "<polyline clip-path=\"url(#clip170)\" style=\"stroke:#000000; stroke-linecap:round; stroke-linejoin:round; stroke-width:4; stroke-opacity:1; fill:none\" points=\"169.121,992.878 188.019,992.878 \"/>\n",
       "<polyline clip-path=\"url(#clip170)\" style=\"stroke:#000000; stroke-linecap:round; stroke-linejoin:round; stroke-width:4; stroke-opacity:1; fill:none\" points=\"169.121,715.867 188.019,715.867 \"/>\n",
       "<polyline clip-path=\"url(#clip170)\" style=\"stroke:#000000; stroke-linecap:round; stroke-linejoin:round; stroke-width:4; stroke-opacity:1; fill:none\" points=\"169.121,438.856 188.019,438.856 \"/>\n",
       "<polyline clip-path=\"url(#clip170)\" style=\"stroke:#000000; stroke-linecap:round; stroke-linejoin:round; stroke-width:4; stroke-opacity:1; fill:none\" points=\"169.121,161.846 188.019,161.846 \"/>\n",
       "<path clip-path=\"url(#clip170)\" d=\"M121.177 1255.69 Q117.566 1255.69 115.737 1259.25 Q113.932 1262.79 113.932 1269.92 Q113.932 1277.03 115.737 1280.59 Q117.566 1284.14 121.177 1284.14 Q124.811 1284.14 126.617 1280.59 Q128.445 1277.03 128.445 1269.92 Q128.445 1262.79 126.617 1259.25 Q124.811 1255.69 121.177 1255.69 M121.177 1251.98 Q126.987 1251.98 130.043 1256.59 Q133.121 1261.17 133.121 1269.92 Q133.121 1278.65 130.043 1283.26 Q126.987 1287.84 121.177 1287.84 Q115.367 1287.84 112.288 1283.26 Q109.233 1278.65 109.233 1269.92 Q109.233 1261.17 112.288 1256.59 Q115.367 1251.98 121.177 1251.98 Z\" fill=\"#000000\" fill-rule=\"evenodd\" fill-opacity=\"1\" /><path clip-path=\"url(#clip170)\" d=\"M95.1817 991.524 Q98.5382 992.241 100.413 994.51 Q102.311 996.778 102.311 1000.11 Q102.311 1005.23 98.7928 1008.03 Q95.2743 1010.83 88.7928 1010.83 Q86.6169 1010.83 84.3021 1010.39 Q82.0105 1009.97 79.5568 1009.12 L79.5568 1004.6 Q81.5012 1005.74 83.816 1006.32 Q86.1308 1006.89 88.654 1006.89 Q93.0521 1006.89 95.3437 1005.16 Q97.6585 1003.42 97.6585 1000.11 Q97.6585 997.056 95.5058 995.343 Q93.3762 993.607 89.5567 993.607 L85.529 993.607 L85.529 989.764 L89.7419 989.764 Q93.191 989.764 95.0197 988.399 Q96.8484 987.01 96.8484 984.417 Q96.8484 981.755 94.9502 980.343 Q93.0752 978.908 89.5567 978.908 Q87.6354 978.908 85.4364 979.325 Q83.2373 979.741 80.5984 980.621 L80.5984 976.454 Q83.2605 975.714 85.5753 975.343 Q87.9132 974.973 89.9734 974.973 Q95.2974 974.973 98.3993 977.403 Q101.501 979.811 101.501 983.931 Q101.501 986.802 99.8576 988.792 Q98.2141 990.76 95.1817 991.524 Z\" fill=\"#000000\" fill-rule=\"evenodd\" fill-opacity=\"1\" /><path clip-path=\"url(#clip170)\" d=\"M121.177 978.677 Q117.566 978.677 115.737 982.241 Q113.932 985.783 113.932 992.913 Q113.932 1000.02 115.737 1003.58 Q117.566 1007.13 121.177 1007.13 Q124.811 1007.13 126.617 1003.58 Q128.445 1000.02 128.445 992.913 Q128.445 985.783 126.617 982.241 Q124.811 978.677 121.177 978.677 M121.177 974.973 Q126.987 974.973 130.043 979.579 Q133.121 984.163 133.121 992.913 Q133.121 1001.64 130.043 1006.25 Q126.987 1010.83 121.177 1010.83 Q115.367 1010.83 112.288 1006.25 Q109.233 1001.64 109.233 992.913 Q109.233 984.163 112.288 979.579 Q115.367 974.973 121.177 974.973 Z\" fill=\"#000000\" fill-rule=\"evenodd\" fill-opacity=\"1\" /><path clip-path=\"url(#clip170)\" d=\"M91.5938 714.004 Q88.4456 714.004 86.5938 716.157 Q84.7651 718.309 84.7651 722.059 Q84.7651 725.786 86.5938 727.962 Q88.4456 730.115 91.5938 730.115 Q94.7419 730.115 96.5706 727.962 Q98.4224 725.786 98.4224 722.059 Q98.4224 718.309 96.5706 716.157 Q94.7419 714.004 91.5938 714.004 M100.876 699.351 L100.876 703.61 Q99.1169 702.777 97.3113 702.337 Q95.5289 701.897 93.7697 701.897 Q89.1401 701.897 86.6864 705.022 Q84.2558 708.147 83.9086 714.467 Q85.2743 712.453 87.3345 711.388 Q89.3947 710.3 91.8715 710.3 Q97.0798 710.3 100.089 713.471 Q103.121 716.62 103.121 722.059 Q103.121 727.383 99.9733 730.601 Q96.8252 733.818 91.5938 733.818 Q85.5984 733.818 82.4271 729.235 Q79.2559 724.629 79.2559 715.902 Q79.2559 707.708 83.1447 702.846 Q87.0336 697.962 93.5845 697.962 Q95.3437 697.962 97.1261 698.309 Q98.9317 698.657 100.876 699.351 Z\" fill=\"#000000\" fill-rule=\"evenodd\" fill-opacity=\"1\" /><path clip-path=\"url(#clip170)\" d=\"M121.177 701.666 Q117.566 701.666 115.737 705.231 Q113.932 708.772 113.932 715.902 Q113.932 723.008 115.737 726.573 Q117.566 730.115 121.177 730.115 Q124.811 730.115 126.617 726.573 Q128.445 723.008 128.445 715.902 Q128.445 708.772 126.617 705.231 Q124.811 701.666 121.177 701.666 M121.177 697.962 Q126.987 697.962 130.043 702.569 Q133.121 707.152 133.121 715.902 Q133.121 724.629 130.043 729.235 Q126.987 733.818 121.177 733.818 Q115.367 733.818 112.288 729.235 Q109.233 724.629 109.233 715.902 Q109.233 707.152 112.288 702.569 Q115.367 697.962 121.177 697.962 Z\" fill=\"#000000\" fill-rule=\"evenodd\" fill-opacity=\"1\" /><path clip-path=\"url(#clip170)\" d=\"M81.154 455.419 L81.154 451.16 Q82.9133 451.993 84.7188 452.433 Q86.5243 452.873 88.2604 452.873 Q92.89 452.873 95.3206 449.771 Q97.7743 446.646 98.1215 440.303 Q96.7789 442.294 94.7187 443.359 Q92.6586 444.424 90.1586 444.424 Q84.9734 444.424 81.941 441.299 Q78.9318 438.15 78.9318 432.711 Q78.9318 427.387 82.0799 424.169 Q85.2281 420.952 90.4595 420.952 Q96.4548 420.952 99.603 425.558 Q102.774 430.141 102.774 438.891 Q102.774 447.062 98.8854 451.947 Q95.0197 456.808 88.4688 456.808 Q86.7095 456.808 84.904 456.461 Q83.0984 456.113 81.154 455.419 M90.4595 440.766 Q93.6076 440.766 95.4363 438.613 Q97.2882 436.461 97.2882 432.711 Q97.2882 428.984 95.4363 426.831 Q93.6076 424.655 90.4595 424.655 Q87.3114 424.655 85.4595 426.831 Q83.6308 428.984 83.6308 432.711 Q83.6308 436.461 85.4595 438.613 Q87.3114 440.766 90.4595 440.766 Z\" fill=\"#000000\" fill-rule=\"evenodd\" fill-opacity=\"1\" /><path clip-path=\"url(#clip170)\" d=\"M121.177 424.655 Q117.566 424.655 115.737 428.22 Q113.932 431.762 113.932 438.891 Q113.932 445.998 115.737 449.562 Q117.566 453.104 121.177 453.104 Q124.811 453.104 126.617 449.562 Q128.445 445.998 128.445 438.891 Q128.445 431.762 126.617 428.22 Q124.811 424.655 121.177 424.655 M121.177 420.952 Q126.987 420.952 130.043 425.558 Q133.121 430.141 133.121 438.891 Q133.121 447.618 130.043 452.224 Q126.987 456.808 121.177 456.808 Q115.367 456.808 112.288 452.224 Q109.233 447.618 109.233 438.891 Q109.233 430.141 112.288 425.558 Q115.367 420.952 121.177 420.952 Z\" fill=\"#000000\" fill-rule=\"evenodd\" fill-opacity=\"1\" /><path clip-path=\"url(#clip170)\" d=\"M51.6634 175.191 L59.3023 175.191 L59.3023 148.825 L50.9921 150.492 L50.9921 146.232 L59.256 144.566 L63.9319 144.566 L63.9319 175.191 L71.5707 175.191 L71.5707 179.126 L51.6634 179.126 L51.6634 175.191 Z\" fill=\"#000000\" fill-rule=\"evenodd\" fill-opacity=\"1\" /><path clip-path=\"url(#clip170)\" d=\"M85.0429 175.191 L101.362 175.191 L101.362 179.126 L79.4179 179.126 L79.4179 175.191 Q82.0799 172.436 86.6632 167.806 Q91.2697 163.154 92.4502 161.811 Q94.6956 159.288 95.5752 157.552 Q96.478 155.793 96.478 154.103 Q96.478 151.348 94.5336 149.612 Q92.6123 147.876 89.5104 147.876 Q87.3114 147.876 84.8577 148.64 Q82.4271 149.404 79.6494 150.955 L79.6494 146.232 Q82.4734 145.098 84.9271 144.52 Q87.3808 143.941 89.4178 143.941 Q94.7882 143.941 97.9826 146.626 Q101.177 149.311 101.177 153.802 Q101.177 155.931 100.367 157.853 Q99.5798 159.751 97.4734 162.343 Q96.8947 163.015 93.7928 166.232 Q90.691 169.427 85.0429 175.191 Z\" fill=\"#000000\" fill-rule=\"evenodd\" fill-opacity=\"1\" /><path clip-path=\"url(#clip170)\" d=\"M121.177 147.644 Q117.566 147.644 115.737 151.209 Q113.932 154.751 113.932 161.881 Q113.932 168.987 115.737 172.552 Q117.566 176.093 121.177 176.093 Q124.811 176.093 126.617 172.552 Q128.445 168.987 128.445 161.881 Q128.445 154.751 126.617 151.209 Q124.811 147.644 121.177 147.644 M121.177 143.941 Q126.987 143.941 130.043 148.547 Q133.121 153.131 133.121 161.881 Q133.121 170.607 130.043 175.214 Q126.987 179.797 121.177 179.797 Q115.367 179.797 112.288 175.214 Q109.233 170.607 109.233 161.881 Q109.233 153.131 112.288 148.547 Q115.367 143.941 121.177 143.941 Z\" fill=\"#000000\" fill-rule=\"evenodd\" fill-opacity=\"1\" /><circle clip-path=\"url(#clip172)\" cx=\"230.922\" cy=\"607.353\" r=\"14.4\" fill=\"#009af9\" fill-rule=\"evenodd\" fill-opacity=\"1\" stroke=\"#000000\" stroke-opacity=\"1\" stroke-width=\"3.2\"/>\n",
       "<circle clip-path=\"url(#clip172)\" cx=\"333.924\" cy=\"833.642\" r=\"14.4\" fill=\"#009af9\" fill-rule=\"evenodd\" fill-opacity=\"1\" stroke=\"#000000\" stroke-opacity=\"1\" stroke-width=\"3.2\"/>\n",
       "<circle clip-path=\"url(#clip172)\" cx=\"436.926\" cy=\"838.586\" r=\"14.4\" fill=\"#009af9\" fill-rule=\"evenodd\" fill-opacity=\"1\" stroke=\"#000000\" stroke-opacity=\"1\" stroke-width=\"3.2\"/>\n",
       "<circle clip-path=\"url(#clip172)\" cx=\"539.927\" cy=\"966.172\" r=\"14.4\" fill=\"#009af9\" fill-rule=\"evenodd\" fill-opacity=\"1\" stroke=\"#000000\" stroke-opacity=\"1\" stroke-width=\"3.2\"/>\n",
       "<circle clip-path=\"url(#clip172)\" cx=\"642.929\" cy=\"1229.71\" r=\"14.4\" fill=\"#009af9\" fill-rule=\"evenodd\" fill-opacity=\"1\" stroke=\"#000000\" stroke-opacity=\"1\" stroke-width=\"3.2\"/>\n",
       "<circle clip-path=\"url(#clip172)\" cx=\"745.93\" cy=\"1144.94\" r=\"14.4\" fill=\"#009af9\" fill-rule=\"evenodd\" fill-opacity=\"1\" stroke=\"#000000\" stroke-opacity=\"1\" stroke-width=\"3.2\"/>\n",
       "<circle clip-path=\"url(#clip172)\" cx=\"848.932\" cy=\"1445.72\" r=\"14.4\" fill=\"#009af9\" fill-rule=\"evenodd\" fill-opacity=\"1\" stroke=\"#000000\" stroke-opacity=\"1\" stroke-width=\"3.2\"/>\n",
       "<circle clip-path=\"url(#clip172)\" cx=\"951.934\" cy=\"1408.12\" r=\"14.4\" fill=\"#009af9\" fill-rule=\"evenodd\" fill-opacity=\"1\" stroke=\"#000000\" stroke-opacity=\"1\" stroke-width=\"3.2\"/>\n",
       "<circle clip-path=\"url(#clip172)\" cx=\"1054.94\" cy=\"1229.64\" r=\"14.4\" fill=\"#009af9\" fill-rule=\"evenodd\" fill-opacity=\"1\" stroke=\"#000000\" stroke-opacity=\"1\" stroke-width=\"3.2\"/>\n",
       "<circle clip-path=\"url(#clip172)\" cx=\"1157.94\" cy=\"1323.32\" r=\"14.4\" fill=\"#009af9\" fill-rule=\"evenodd\" fill-opacity=\"1\" stroke=\"#000000\" stroke-opacity=\"1\" stroke-width=\"3.2\"/>\n",
       "<circle clip-path=\"url(#clip172)\" cx=\"1260.94\" cy=\"1277.45\" r=\"14.4\" fill=\"#009af9\" fill-rule=\"evenodd\" fill-opacity=\"1\" stroke=\"#000000\" stroke-opacity=\"1\" stroke-width=\"3.2\"/>\n",
       "<circle clip-path=\"url(#clip172)\" cx=\"1363.94\" cy=\"1238.64\" r=\"14.4\" fill=\"#009af9\" fill-rule=\"evenodd\" fill-opacity=\"1\" stroke=\"#000000\" stroke-opacity=\"1\" stroke-width=\"3.2\"/>\n",
       "<circle clip-path=\"url(#clip172)\" cx=\"1466.94\" cy=\"1281.58\" r=\"14.4\" fill=\"#009af9\" fill-rule=\"evenodd\" fill-opacity=\"1\" stroke=\"#000000\" stroke-opacity=\"1\" stroke-width=\"3.2\"/>\n",
       "<circle clip-path=\"url(#clip172)\" cx=\"1569.94\" cy=\"945.76\" r=\"14.4\" fill=\"#009af9\" fill-rule=\"evenodd\" fill-opacity=\"1\" stroke=\"#000000\" stroke-opacity=\"1\" stroke-width=\"3.2\"/>\n",
       "<circle clip-path=\"url(#clip172)\" cx=\"1672.95\" cy=\"915.586\" r=\"14.4\" fill=\"#009af9\" fill-rule=\"evenodd\" fill-opacity=\"1\" stroke=\"#000000\" stroke-opacity=\"1\" stroke-width=\"3.2\"/>\n",
       "<circle clip-path=\"url(#clip172)\" cx=\"1775.95\" cy=\"816.176\" r=\"14.4\" fill=\"#009af9\" fill-rule=\"evenodd\" fill-opacity=\"1\" stroke=\"#000000\" stroke-opacity=\"1\" stroke-width=\"3.2\"/>\n",
       "<circle clip-path=\"url(#clip172)\" cx=\"1878.95\" cy=\"674.497\" r=\"14.4\" fill=\"#009af9\" fill-rule=\"evenodd\" fill-opacity=\"1\" stroke=\"#000000\" stroke-opacity=\"1\" stroke-width=\"3.2\"/>\n",
       "<circle clip-path=\"url(#clip172)\" cx=\"1981.95\" cy=\"720.187\" r=\"14.4\" fill=\"#009af9\" fill-rule=\"evenodd\" fill-opacity=\"1\" stroke=\"#000000\" stroke-opacity=\"1\" stroke-width=\"3.2\"/>\n",
       "<circle clip-path=\"url(#clip172)\" cx=\"2084.95\" cy=\"540.299\" r=\"14.4\" fill=\"#009af9\" fill-rule=\"evenodd\" fill-opacity=\"1\" stroke=\"#000000\" stroke-opacity=\"1\" stroke-width=\"3.2\"/>\n",
       "<circle clip-path=\"url(#clip172)\" cx=\"2187.95\" cy=\"119.99\" r=\"14.4\" fill=\"#009af9\" fill-rule=\"evenodd\" fill-opacity=\"1\" stroke=\"#000000\" stroke-opacity=\"1\" stroke-width=\"3.2\"/>\n",
       "<circle clip-path=\"url(#clip172)\" cx=\"2290.95\" cy=\"140.398\" r=\"14.4\" fill=\"#009af9\" fill-rule=\"evenodd\" fill-opacity=\"1\" stroke=\"#000000\" stroke-opacity=\"1\" stroke-width=\"3.2\"/>\n",
       "<polyline clip-path=\"url(#clip172)\" style=\"stroke:#e26f46; stroke-linecap:round; stroke-linejoin:round; stroke-width:4; stroke-opacity:1; fill:none\" points=\"230.922,641.998 333.924,789.737 436.926,919.008 539.927,1029.81 642.929,1122.15 745.93,1196.02 848.932,1251.42 951.934,1288.36 1054.94,1306.82 1157.94,1306.82 1260.94,1288.36 1363.94,1251.42 1466.94,1196.02 1569.94,1122.15 1672.95,1029.81 1775.95,919.008 1878.95,789.737 1981.95,641.998 2084.95,475.791 2187.95,291.117 2290.95,87.9763 \"/>\n",
       "<path clip-path=\"url(#clip170)\" d=\"M241.909 250.738 L512.703 250.738 L512.703 95.2176 L241.909 95.2176  Z\" fill=\"#ffffff\" fill-rule=\"evenodd\" fill-opacity=\"1\"/>\n",
       "<polyline clip-path=\"url(#clip170)\" style=\"stroke:#000000; stroke-linecap:round; stroke-linejoin:round; stroke-width:4; stroke-opacity:1; fill:none\" points=\"241.909,250.738 512.703,250.738 512.703,95.2176 241.909,95.2176 241.909,250.738 \"/>\n",
       "<circle clip-path=\"url(#clip170)\" cx=\"338.96\" cy=\"147.058\" r=\"23.04\" fill=\"#009af9\" fill-rule=\"evenodd\" fill-opacity=\"1\" stroke=\"#000000\" stroke-opacity=\"1\" stroke-width=\"5.12\"/>\n",
       "<path clip-path=\"url(#clip170)\" d=\"M449.853 166.745 Q448.047 171.375 446.334 172.787 Q444.621 174.199 441.751 174.199 L438.348 174.199 L438.348 170.634 L440.848 170.634 Q442.607 170.634 443.579 169.8 Q444.552 168.967 445.732 165.865 L446.496 163.921 L436.01 138.412 L440.524 138.412 L448.626 158.689 L456.727 138.412 L461.241 138.412 L449.853 166.745 Z\" fill=\"#000000\" fill-rule=\"evenodd\" fill-opacity=\"1\" /><path clip-path=\"url(#clip170)\" d=\"M468.533 160.402 L476.172 160.402 L476.172 134.037 L467.862 135.703 L467.862 131.444 L476.126 129.778 L480.801 129.778 L480.801 160.402 L488.44 160.402 L488.44 164.338 L468.533 164.338 L468.533 160.402 Z\" fill=\"#000000\" fill-rule=\"evenodd\" fill-opacity=\"1\" /><polyline clip-path=\"url(#clip170)\" style=\"stroke:#e26f46; stroke-linecap:round; stroke-linejoin:round; stroke-width:4; stroke-opacity:1; fill:none\" points=\"266.172,198.898 411.747,198.898 \"/>\n",
       "<path clip-path=\"url(#clip170)\" d=\"M449.853 218.585 Q448.047 223.215 446.334 224.627 Q444.621 226.039 441.751 226.039 L438.348 226.039 L438.348 222.474 L440.848 222.474 Q442.607 222.474 443.579 221.64 Q444.552 220.807 445.732 217.705 L446.496 215.761 L436.01 190.252 L440.524 190.252 L448.626 210.529 L456.727 190.252 L461.241 190.252 L449.853 218.585 Z\" fill=\"#000000\" fill-rule=\"evenodd\" fill-opacity=\"1\" /><path clip-path=\"url(#clip170)\" d=\"M471.751 212.242 L488.07 212.242 L488.07 216.178 L466.126 216.178 L466.126 212.242 Q468.788 209.488 473.371 204.858 Q477.977 200.205 479.158 198.863 Q481.403 196.34 482.283 194.604 Q483.186 192.844 483.186 191.155 Q483.186 188.4 481.241 186.664 Q479.32 184.928 476.218 184.928 Q474.019 184.928 471.565 185.692 Q469.135 186.455 466.357 188.006 L466.357 183.284 Q469.181 182.15 471.635 181.571 Q474.088 180.993 476.126 180.993 Q481.496 180.993 484.69 183.678 Q487.885 186.363 487.885 190.854 Q487.885 192.983 487.075 194.905 Q486.287 196.803 484.181 199.395 Q483.602 200.067 480.5 203.284 Q477.399 206.479 471.751 212.242 Z\" fill=\"#000000\" fill-rule=\"evenodd\" fill-opacity=\"1\" /></svg>\n"
      ]
     },
     "execution_count": 135,
     "metadata": {},
     "output_type": "execute_result"
    }
   ],
   "source": [
    "y_observed = y_true + rand(noise,length(x_t))\n",
    "y_true = x_t .^ 2 + 3 * x_t .- 2\n",
    "scatter(x_t,y_observed)\n",
    "plot!(x_t,y_true)"
   ]
  },
  {
   "cell_type": "code",
   "execution_count": 71,
   "id": "1faac901",
   "metadata": {},
   "outputs": [
    {
     "data": {
      "text/html": [
       "&#45;2 &#43; 3&#8729;x &#43; x<sup>2</sup>"
      ],
      "text/latex": [
       "$-2 + 3\\cdot x + x^{2}$"
      ],
      "text/plain": [
       "Polynomial(-2 + 3*x + x^2)"
      ]
     },
     "execution_count": 71,
     "metadata": {},
     "output_type": "execute_result"
    }
   ],
   "source": [
    "Polynomial([-2,3,1])"
   ]
  },
  {
   "cell_type": "code",
   "execution_count": 72,
   "id": "b0c45ab8",
   "metadata": {},
   "outputs": [
    {
     "data": {
      "text/html": [
       "&#45;15.796502410793964 &#43; 5.062899166393957&#8729;x &#43; 0.5863821995377649&#8729;x<sup>2</sup>"
      ],
      "text/latex": [
       "$-15.796502410793964 + 5.062899166393957\\cdot x + 0.5863821995377649\\cdot x^{2}$"
      ],
      "text/plain": [
       "Polynomial(-15.796502410793964 + 5.062899166393957*x + 0.5863821995377649*x^2)"
      ]
     },
     "execution_count": 72,
     "metadata": {},
     "output_type": "execute_result"
    }
   ],
   "source": [
    "line_fit = fit(x_t,y_observed,2)"
   ]
  },
  {
   "cell_type": "code",
   "execution_count": 73,
   "id": "c3a84b20",
   "metadata": {},
   "outputs": [
    {
     "data": {
      "text/plain": [
       "Polynomial{Float64, :x}"
      ]
     },
     "execution_count": 73,
     "metadata": {},
     "output_type": "execute_result"
    }
   ],
   "source": [
    "typeof(line_fit)"
   ]
  },
  {
   "cell_type": "code",
   "execution_count": 136,
   "id": "8d0f23e1",
   "metadata": {},
   "outputs": [
    {
     "data": {
      "text/plain": [
       "11-element Vector{Float64}:\n",
       " -14.874130395451889\n",
       " -23.148829734831807\n",
       "  -3.0487201503685917\n",
       "   2.3408521095184627\n",
       "   0.6542073089207648\n",
       "  -0.06780417703407078\n",
       "  -0.023234981393380167\n",
       "   0.000761644088019567\n",
       "   0.00030133660949201255\n",
       "  -2.9279356347561893e-6\n",
       "  -1.3002876678217498e-6"
      ]
     },
     "execution_count": 136,
     "metadata": {},
     "output_type": "execute_result"
    }
   ],
   "source": [
    "fit_coeff = coeffs(line_fit)"
   ]
  },
  {
   "cell_type": "code",
   "execution_count": 137,
   "id": "4e20c0d3",
   "metadata": {},
   "outputs": [
    {
     "data": {
      "text/plain": [
       "21-element Vector{Float64}:\n",
       "  -88.257848083993\n",
       "  -53.48099496182155\n",
       "  -24.801582140387296\n",
       "   -2.2196096196902317\n",
       "   14.264922600269657\n",
       "   24.652014519492354\n",
       "   28.941666137977876\n",
       "   27.133877455726196\n",
       "   19.22864847273736\n",
       "    5.2259791890113405\n",
       "  -14.874130395451889\n",
       "  -41.0716802806523\n",
       "  -73.36667046658987\n",
       " -111.75910095326462\n",
       " -156.2489717406766\n",
       " -206.83628282882574\n",
       " -263.52103421771204\n",
       " -326.3032259073355\n",
       " -395.1828578976962\n",
       " -470.1599301887941\n",
       " -551.2344427806291"
      ]
     },
     "execution_count": 137,
     "metadata": {},
     "output_type": "execute_result"
    }
   ],
   "source": [
    "y_fitted = fit_coeff[1] .+ (fit_coeff[2] .* (x_t)) .+ ((fit_coeff[3]) .* (x_t.^2))"
   ]
  },
  {
   "cell_type": "code",
   "execution_count": 138,
   "id": "12abee18",
   "metadata": {},
   "outputs": [
    {
     "data": {
      "image/svg+xml": [
       "<?xml version=\"1.0\" encoding=\"utf-8\"?>\n",
       "<svg xmlns=\"http://www.w3.org/2000/svg\" xmlns:xlink=\"http://www.w3.org/1999/xlink\" width=\"600\" height=\"400\" viewBox=\"0 0 2400 1600\">\n",
       "<defs>\n",
       "  <clipPath id=\"clip210\">\n",
       "    <rect x=\"0\" y=\"0\" width=\"2400\" height=\"1600\"/>\n",
       "  </clipPath>\n",
       "</defs>\n",
       "<path clip-path=\"url(#clip210)\" d=\"M0 1600 L2400 1600 L2400 0 L0 0  Z\" fill=\"#ffffff\" fill-rule=\"evenodd\" fill-opacity=\"1\"/>\n",
       "<defs>\n",
       "  <clipPath id=\"clip211\">\n",
       "    <rect x=\"480\" y=\"0\" width=\"1681\" height=\"1600\"/>\n",
       "  </clipPath>\n",
       "</defs>\n",
       "<path clip-path=\"url(#clip210)\" d=\"M209.029 1486.45 L2352.76 1486.45 L2352.76 47.2441 L209.029 47.2441  Z\" fill=\"#ffffff\" fill-rule=\"evenodd\" fill-opacity=\"1\"/>\n",
       "<defs>\n",
       "  <clipPath id=\"clip212\">\n",
       "    <rect x=\"209\" y=\"47\" width=\"2145\" height=\"1440\"/>\n",
       "  </clipPath>\n",
       "</defs>\n",
       "<polyline clip-path=\"url(#clip212)\" style=\"stroke:#000000; stroke-linecap:round; stroke-linejoin:round; stroke-width:2; stroke-opacity:0.1; fill:none\" points=\"269.7,1486.45 269.7,47.2441 \"/>\n",
       "<polyline clip-path=\"url(#clip212)\" style=\"stroke:#000000; stroke-linecap:round; stroke-linejoin:round; stroke-width:2; stroke-opacity:0.1; fill:none\" points=\"775.296,1486.45 775.296,47.2441 \"/>\n",
       "<polyline clip-path=\"url(#clip212)\" style=\"stroke:#000000; stroke-linecap:round; stroke-linejoin:round; stroke-width:2; stroke-opacity:0.1; fill:none\" points=\"1280.89,1486.45 1280.89,47.2441 \"/>\n",
       "<polyline clip-path=\"url(#clip212)\" style=\"stroke:#000000; stroke-linecap:round; stroke-linejoin:round; stroke-width:2; stroke-opacity:0.1; fill:none\" points=\"1786.49,1486.45 1786.49,47.2441 \"/>\n",
       "<polyline clip-path=\"url(#clip212)\" style=\"stroke:#000000; stroke-linecap:round; stroke-linejoin:round; stroke-width:2; stroke-opacity:0.1; fill:none\" points=\"2292.08,1486.45 2292.08,47.2441 \"/>\n",
       "<polyline clip-path=\"url(#clip210)\" style=\"stroke:#000000; stroke-linecap:round; stroke-linejoin:round; stroke-width:4; stroke-opacity:1; fill:none\" points=\"209.029,1486.45 2352.76,1486.45 \"/>\n",
       "<polyline clip-path=\"url(#clip210)\" style=\"stroke:#000000; stroke-linecap:round; stroke-linejoin:round; stroke-width:4; stroke-opacity:1; fill:none\" points=\"269.7,1486.45 269.7,1467.55 \"/>\n",
       "<polyline clip-path=\"url(#clip210)\" style=\"stroke:#000000; stroke-linecap:round; stroke-linejoin:round; stroke-width:4; stroke-opacity:1; fill:none\" points=\"775.296,1486.45 775.296,1467.55 \"/>\n",
       "<polyline clip-path=\"url(#clip210)\" style=\"stroke:#000000; stroke-linecap:round; stroke-linejoin:round; stroke-width:4; stroke-opacity:1; fill:none\" points=\"1280.89,1486.45 1280.89,1467.55 \"/>\n",
       "<polyline clip-path=\"url(#clip210)\" style=\"stroke:#000000; stroke-linecap:round; stroke-linejoin:round; stroke-width:4; stroke-opacity:1; fill:none\" points=\"1786.49,1486.45 1786.49,1467.55 \"/>\n",
       "<polyline clip-path=\"url(#clip210)\" style=\"stroke:#000000; stroke-linecap:round; stroke-linejoin:round; stroke-width:4; stroke-opacity:1; fill:none\" points=\"2292.08,1486.45 2292.08,1467.55 \"/>\n",
       "<path clip-path=\"url(#clip210)\" d=\"M223.763 1532.02 L253.439 1532.02 L253.439 1535.95 L223.763 1535.95 L223.763 1532.02 Z\" fill=\"#000000\" fill-rule=\"evenodd\" fill-opacity=\"1\" /><path clip-path=\"url(#clip210)\" d=\"M264.341 1544.91 L271.98 1544.91 L271.98 1518.55 L263.67 1520.21 L263.67 1515.95 L271.934 1514.29 L276.61 1514.29 L276.61 1544.91 L284.249 1544.91 L284.249 1548.85 L264.341 1548.85 L264.341 1544.91 Z\" fill=\"#000000\" fill-rule=\"evenodd\" fill-opacity=\"1\" /><path clip-path=\"url(#clip210)\" d=\"M303.693 1517.37 Q300.082 1517.37 298.253 1520.93 Q296.448 1524.47 296.448 1531.6 Q296.448 1538.71 298.253 1542.27 Q300.082 1545.82 303.693 1545.82 Q307.327 1545.82 309.133 1542.27 Q310.961 1538.71 310.961 1531.6 Q310.961 1524.47 309.133 1520.93 Q307.327 1517.37 303.693 1517.37 M303.693 1513.66 Q309.503 1513.66 312.559 1518.27 Q315.637 1522.85 315.637 1531.6 Q315.637 1540.33 312.559 1544.94 Q309.503 1549.52 303.693 1549.52 Q297.883 1549.52 294.804 1544.94 Q291.749 1540.33 291.749 1531.6 Q291.749 1522.85 294.804 1518.27 Q297.883 1513.66 303.693 1513.66 Z\" fill=\"#000000\" fill-rule=\"evenodd\" fill-opacity=\"1\" /><path clip-path=\"url(#clip210)\" d=\"M744.937 1532.02 L774.613 1532.02 L774.613 1535.95 L744.937 1535.95 L744.937 1532.02 Z\" fill=\"#000000\" fill-rule=\"evenodd\" fill-opacity=\"1\" /><path clip-path=\"url(#clip210)\" d=\"M784.752 1514.29 L803.108 1514.29 L803.108 1518.22 L789.034 1518.22 L789.034 1526.7 Q790.053 1526.35 791.072 1526.19 Q792.09 1526 793.109 1526 Q798.896 1526 802.275 1529.17 Q805.655 1532.34 805.655 1537.76 Q805.655 1543.34 802.183 1546.44 Q798.71 1549.52 792.391 1549.52 Q790.215 1549.52 787.947 1549.15 Q785.701 1548.78 783.294 1548.04 L783.294 1543.34 Q785.377 1544.47 787.599 1545.03 Q789.822 1545.58 792.298 1545.58 Q796.303 1545.58 798.641 1543.48 Q800.979 1541.37 800.979 1537.76 Q800.979 1534.15 798.641 1532.04 Q796.303 1529.94 792.298 1529.94 Q790.423 1529.94 788.548 1530.35 Q786.697 1530.77 784.752 1531.65 L784.752 1514.29 Z\" fill=\"#000000\" fill-rule=\"evenodd\" fill-opacity=\"1\" /><path clip-path=\"url(#clip210)\" d=\"M1280.89 1517.37 Q1277.28 1517.37 1275.45 1520.93 Q1273.65 1524.47 1273.65 1531.6 Q1273.65 1538.71 1275.45 1542.27 Q1277.28 1545.82 1280.89 1545.82 Q1284.53 1545.82 1286.33 1542.27 Q1288.16 1538.71 1288.16 1531.6 Q1288.16 1524.47 1286.33 1520.93 Q1284.53 1517.37 1280.89 1517.37 M1280.89 1513.66 Q1286.7 1513.66 1289.76 1518.27 Q1292.84 1522.85 1292.84 1531.6 Q1292.84 1540.33 1289.76 1544.94 Q1286.7 1549.52 1280.89 1549.52 Q1275.08 1549.52 1272 1544.94 Q1268.95 1540.33 1268.95 1531.6 Q1268.95 1522.85 1272 1518.27 Q1275.08 1513.66 1280.89 1513.66 Z\" fill=\"#000000\" fill-rule=\"evenodd\" fill-opacity=\"1\" /><path clip-path=\"url(#clip210)\" d=\"M1776.77 1514.29 L1795.12 1514.29 L1795.12 1518.22 L1781.05 1518.22 L1781.05 1526.7 Q1782.07 1526.35 1783.09 1526.19 Q1784.1 1526 1785.12 1526 Q1790.91 1526 1794.29 1529.17 Q1797.67 1532.34 1797.67 1537.76 Q1797.67 1543.34 1794.2 1546.44 Q1790.72 1549.52 1784.4 1549.52 Q1782.23 1549.52 1779.96 1549.15 Q1777.72 1548.78 1775.31 1548.04 L1775.31 1543.34 Q1777.39 1544.47 1779.61 1545.03 Q1781.84 1545.58 1784.31 1545.58 Q1788.32 1545.58 1790.65 1543.48 Q1792.99 1541.37 1792.99 1537.76 Q1792.99 1534.15 1790.65 1532.04 Q1788.32 1529.94 1784.31 1529.94 Q1782.44 1529.94 1780.56 1530.35 Q1778.71 1530.77 1776.77 1531.65 L1776.77 1514.29 Z\" fill=\"#000000\" fill-rule=\"evenodd\" fill-opacity=\"1\" /><path clip-path=\"url(#clip210)\" d=\"M2266.77 1544.91 L2274.41 1544.91 L2274.41 1518.55 L2266.1 1520.21 L2266.1 1515.95 L2274.36 1514.29 L2279.04 1514.29 L2279.04 1544.91 L2286.68 1544.91 L2286.68 1548.85 L2266.77 1548.85 L2266.77 1544.91 Z\" fill=\"#000000\" fill-rule=\"evenodd\" fill-opacity=\"1\" /><path clip-path=\"url(#clip210)\" d=\"M2306.12 1517.37 Q2302.51 1517.37 2300.68 1520.93 Q2298.88 1524.47 2298.88 1531.6 Q2298.88 1538.71 2300.68 1542.27 Q2302.51 1545.82 2306.12 1545.82 Q2309.76 1545.82 2311.56 1542.27 Q2313.39 1538.71 2313.39 1531.6 Q2313.39 1524.47 2311.56 1520.93 Q2309.76 1517.37 2306.12 1517.37 M2306.12 1513.66 Q2311.93 1513.66 2314.99 1518.27 Q2318.07 1522.85 2318.07 1531.6 Q2318.07 1540.33 2314.99 1544.94 Q2311.93 1549.52 2306.12 1549.52 Q2300.31 1549.52 2297.23 1544.94 Q2294.18 1540.33 2294.18 1531.6 Q2294.18 1522.85 2297.23 1518.27 Q2300.31 1513.66 2306.12 1513.66 Z\" fill=\"#000000\" fill-rule=\"evenodd\" fill-opacity=\"1\" /><polyline clip-path=\"url(#clip212)\" style=\"stroke:#000000; stroke-linecap:round; stroke-linejoin:round; stroke-width:2; stroke-opacity:0.1; fill:none\" points=\"209.029,1343.3 2352.76,1343.3 \"/>\n",
       "<polyline clip-path=\"url(#clip212)\" style=\"stroke:#000000; stroke-linecap:round; stroke-linejoin:round; stroke-width:2; stroke-opacity:0.1; fill:none\" points=\"209.029,1143.41 2352.76,1143.41 \"/>\n",
       "<polyline clip-path=\"url(#clip212)\" style=\"stroke:#000000; stroke-linecap:round; stroke-linejoin:round; stroke-width:2; stroke-opacity:0.1; fill:none\" points=\"209.029,943.517 2352.76,943.517 \"/>\n",
       "<polyline clip-path=\"url(#clip212)\" style=\"stroke:#000000; stroke-linecap:round; stroke-linejoin:round; stroke-width:2; stroke-opacity:0.1; fill:none\" points=\"209.029,743.624 2352.76,743.624 \"/>\n",
       "<polyline clip-path=\"url(#clip212)\" style=\"stroke:#000000; stroke-linecap:round; stroke-linejoin:round; stroke-width:2; stroke-opacity:0.1; fill:none\" points=\"209.029,543.731 2352.76,543.731 \"/>\n",
       "<polyline clip-path=\"url(#clip212)\" style=\"stroke:#000000; stroke-linecap:round; stroke-linejoin:round; stroke-width:2; stroke-opacity:0.1; fill:none\" points=\"209.029,343.839 2352.76,343.839 \"/>\n",
       "<polyline clip-path=\"url(#clip212)\" style=\"stroke:#000000; stroke-linecap:round; stroke-linejoin:round; stroke-width:2; stroke-opacity:0.1; fill:none\" points=\"209.029,143.946 2352.76,143.946 \"/>\n",
       "<polyline clip-path=\"url(#clip210)\" style=\"stroke:#000000; stroke-linecap:round; stroke-linejoin:round; stroke-width:4; stroke-opacity:1; fill:none\" points=\"209.029,1486.45 209.029,47.2441 \"/>\n",
       "<polyline clip-path=\"url(#clip210)\" style=\"stroke:#000000; stroke-linecap:round; stroke-linejoin:round; stroke-width:4; stroke-opacity:1; fill:none\" points=\"209.029,1343.3 227.926,1343.3 \"/>\n",
       "<polyline clip-path=\"url(#clip210)\" style=\"stroke:#000000; stroke-linecap:round; stroke-linejoin:round; stroke-width:4; stroke-opacity:1; fill:none\" points=\"209.029,1143.41 227.926,1143.41 \"/>\n",
       "<polyline clip-path=\"url(#clip210)\" style=\"stroke:#000000; stroke-linecap:round; stroke-linejoin:round; stroke-width:4; stroke-opacity:1; fill:none\" points=\"209.029,943.517 227.926,943.517 \"/>\n",
       "<polyline clip-path=\"url(#clip210)\" style=\"stroke:#000000; stroke-linecap:round; stroke-linejoin:round; stroke-width:4; stroke-opacity:1; fill:none\" points=\"209.029,743.624 227.926,743.624 \"/>\n",
       "<polyline clip-path=\"url(#clip210)\" style=\"stroke:#000000; stroke-linecap:round; stroke-linejoin:round; stroke-width:4; stroke-opacity:1; fill:none\" points=\"209.029,543.731 227.926,543.731 \"/>\n",
       "<polyline clip-path=\"url(#clip210)\" style=\"stroke:#000000; stroke-linecap:round; stroke-linejoin:round; stroke-width:4; stroke-opacity:1; fill:none\" points=\"209.029,343.839 227.926,343.839 \"/>\n",
       "<polyline clip-path=\"url(#clip210)\" style=\"stroke:#000000; stroke-linecap:round; stroke-linejoin:round; stroke-width:4; stroke-opacity:1; fill:none\" points=\"209.029,143.946 227.926,143.946 \"/>\n",
       "<path clip-path=\"url(#clip210)\" d=\"M50.9921 1343.75 L80.6679 1343.75 L80.6679 1347.69 L50.9921 1347.69 L50.9921 1343.75 Z\" fill=\"#000000\" fill-rule=\"evenodd\" fill-opacity=\"1\" /><path clip-path=\"url(#clip210)\" d=\"M90.8067 1326.02 L109.163 1326.02 L109.163 1329.96 L95.0891 1329.96 L95.0891 1338.43 Q96.1076 1338.08 97.1261 1337.92 Q98.1447 1337.73 99.1632 1337.73 Q104.95 1337.73 108.33 1340.91 Q111.709 1344.08 111.709 1349.49 Q111.709 1355.07 108.237 1358.17 Q104.765 1361.25 98.4456 1361.25 Q96.2697 1361.25 94.0012 1360.88 Q91.7558 1360.51 89.3484 1359.77 L89.3484 1355.07 Q91.4317 1356.21 93.6539 1356.76 Q95.8761 1357.32 98.353 1357.32 Q102.358 1357.32 104.696 1355.21 Q107.033 1353.11 107.033 1349.49 Q107.033 1345.88 104.696 1343.78 Q102.358 1341.67 98.353 1341.67 Q96.478 1341.67 94.603 1342.09 Q92.7512 1342.5 90.8067 1343.38 L90.8067 1326.02 Z\" fill=\"#000000\" fill-rule=\"evenodd\" fill-opacity=\"1\" /><path clip-path=\"url(#clip210)\" d=\"M130.922 1329.1 Q127.311 1329.1 125.482 1332.67 Q123.677 1336.21 123.677 1343.34 Q123.677 1350.44 125.482 1354.01 Q127.311 1357.55 130.922 1357.55 Q134.556 1357.55 136.362 1354.01 Q138.191 1350.44 138.191 1343.34 Q138.191 1336.21 136.362 1332.67 Q134.556 1329.1 130.922 1329.1 M130.922 1325.4 Q136.732 1325.4 139.788 1330 Q142.867 1334.59 142.867 1343.34 Q142.867 1352.06 139.788 1356.67 Q136.732 1361.25 130.922 1361.25 Q125.112 1361.25 122.033 1356.67 Q118.978 1352.06 118.978 1343.34 Q118.978 1334.59 122.033 1330 Q125.112 1325.4 130.922 1325.4 Z\" fill=\"#000000\" fill-rule=\"evenodd\" fill-opacity=\"1\" /><path clip-path=\"url(#clip210)\" d=\"M161.084 1329.1 Q157.473 1329.1 155.644 1332.67 Q153.839 1336.21 153.839 1343.34 Q153.839 1350.44 155.644 1354.01 Q157.473 1357.55 161.084 1357.55 Q164.718 1357.55 166.524 1354.01 Q168.353 1350.44 168.353 1343.34 Q168.353 1336.21 166.524 1332.67 Q164.718 1329.1 161.084 1329.1 M161.084 1325.4 Q166.894 1325.4 169.95 1330 Q173.029 1334.59 173.029 1343.34 Q173.029 1352.06 169.95 1356.67 Q166.894 1361.25 161.084 1361.25 Q155.274 1361.25 152.195 1356.67 Q149.14 1352.06 149.14 1343.34 Q149.14 1334.59 152.195 1330 Q155.274 1325.4 161.084 1325.4 Z\" fill=\"#000000\" fill-rule=\"evenodd\" fill-opacity=\"1\" /><path clip-path=\"url(#clip210)\" d=\"M50.9921 1143.86 L80.6679 1143.86 L80.6679 1147.8 L50.9921 1147.8 L50.9921 1143.86 Z\" fill=\"#000000\" fill-rule=\"evenodd\" fill-opacity=\"1\" /><path clip-path=\"url(#clip210)\" d=\"M103.608 1130.2 L91.8021 1148.65 L103.608 1148.65 L103.608 1130.2 M102.381 1126.13 L108.26 1126.13 L108.26 1148.65 L113.191 1148.65 L113.191 1152.54 L108.26 1152.54 L108.26 1160.69 L103.608 1160.69 L103.608 1152.54 L88.0058 1152.54 L88.0058 1148.03 L102.381 1126.13 Z\" fill=\"#000000\" fill-rule=\"evenodd\" fill-opacity=\"1\" /><path clip-path=\"url(#clip210)\" d=\"M130.922 1129.21 Q127.311 1129.21 125.482 1132.77 Q123.677 1136.31 123.677 1143.44 Q123.677 1150.55 125.482 1154.12 Q127.311 1157.66 130.922 1157.66 Q134.556 1157.66 136.362 1154.12 Q138.191 1150.55 138.191 1143.44 Q138.191 1136.31 136.362 1132.77 Q134.556 1129.21 130.922 1129.21 M130.922 1125.5 Q136.732 1125.5 139.788 1130.11 Q142.867 1134.69 142.867 1143.44 Q142.867 1152.17 139.788 1156.78 Q136.732 1161.36 130.922 1161.36 Q125.112 1161.36 122.033 1156.78 Q118.978 1152.17 118.978 1143.44 Q118.978 1134.69 122.033 1130.11 Q125.112 1125.5 130.922 1125.5 Z\" fill=\"#000000\" fill-rule=\"evenodd\" fill-opacity=\"1\" /><path clip-path=\"url(#clip210)\" d=\"M161.084 1129.21 Q157.473 1129.21 155.644 1132.77 Q153.839 1136.31 153.839 1143.44 Q153.839 1150.55 155.644 1154.12 Q157.473 1157.66 161.084 1157.66 Q164.718 1157.66 166.524 1154.12 Q168.353 1150.55 168.353 1143.44 Q168.353 1136.31 166.524 1132.77 Q164.718 1129.21 161.084 1129.21 M161.084 1125.5 Q166.894 1125.5 169.95 1130.11 Q173.029 1134.69 173.029 1143.44 Q173.029 1152.17 169.95 1156.78 Q166.894 1161.36 161.084 1161.36 Q155.274 1161.36 152.195 1156.78 Q149.14 1152.17 149.14 1143.44 Q149.14 1134.69 152.195 1130.11 Q155.274 1125.5 161.084 1125.5 Z\" fill=\"#000000\" fill-rule=\"evenodd\" fill-opacity=\"1\" /><path clip-path=\"url(#clip210)\" d=\"M50.9921 943.968 L80.6679 943.968 L80.6679 947.903 L50.9921 947.903 L50.9921 943.968 Z\" fill=\"#000000\" fill-rule=\"evenodd\" fill-opacity=\"1\" /><path clip-path=\"url(#clip210)\" d=\"M104.927 942.162 Q108.283 942.88 110.158 945.149 Q112.057 947.417 112.057 950.75 Q112.057 955.866 108.538 958.667 Q105.02 961.468 98.5382 961.468 Q96.3623 961.468 94.0475 961.028 Q91.7558 960.611 89.3021 959.755 L89.3021 955.241 Q91.2465 956.375 93.5613 956.954 Q95.8761 957.533 98.3993 957.533 Q102.797 957.533 105.089 955.797 Q107.404 954.061 107.404 950.75 Q107.404 947.695 105.251 945.982 Q103.121 944.246 99.3021 944.246 L95.2743 944.246 L95.2743 940.403 L99.4872 940.403 Q102.936 940.403 104.765 939.037 Q106.594 937.649 106.594 935.056 Q106.594 932.394 104.696 930.982 Q102.821 929.547 99.3021 929.547 Q97.3808 929.547 95.1817 929.963 Q92.9826 930.38 90.3438 931.26 L90.3438 927.093 Q93.0058 926.352 95.3206 925.982 Q97.6585 925.612 99.7187 925.612 Q105.043 925.612 108.145 928.042 Q111.246 930.45 111.246 934.57 Q111.246 937.44 109.603 939.431 Q107.959 941.399 104.927 942.162 Z\" fill=\"#000000\" fill-rule=\"evenodd\" fill-opacity=\"1\" /><path clip-path=\"url(#clip210)\" d=\"M130.922 929.315 Q127.311 929.315 125.482 932.88 Q123.677 936.422 123.677 943.551 Q123.677 950.658 125.482 954.223 Q127.311 957.764 130.922 957.764 Q134.556 957.764 136.362 954.223 Q138.191 950.658 138.191 943.551 Q138.191 936.422 136.362 932.88 Q134.556 929.315 130.922 929.315 M130.922 925.612 Q136.732 925.612 139.788 930.218 Q142.867 934.801 142.867 943.551 Q142.867 952.278 139.788 956.885 Q136.732 961.468 130.922 961.468 Q125.112 961.468 122.033 956.885 Q118.978 952.278 118.978 943.551 Q118.978 934.801 122.033 930.218 Q125.112 925.612 130.922 925.612 Z\" fill=\"#000000\" fill-rule=\"evenodd\" fill-opacity=\"1\" /><path clip-path=\"url(#clip210)\" d=\"M161.084 929.315 Q157.473 929.315 155.644 932.88 Q153.839 936.422 153.839 943.551 Q153.839 950.658 155.644 954.223 Q157.473 957.764 161.084 957.764 Q164.718 957.764 166.524 954.223 Q168.353 950.658 168.353 943.551 Q168.353 936.422 166.524 932.88 Q164.718 929.315 161.084 929.315 M161.084 925.612 Q166.894 925.612 169.95 930.218 Q173.029 934.801 173.029 943.551 Q173.029 952.278 169.95 956.885 Q166.894 961.468 161.084 961.468 Q155.274 961.468 152.195 956.885 Q149.14 952.278 149.14 943.551 Q149.14 934.801 152.195 930.218 Q155.274 925.612 161.084 925.612 Z\" fill=\"#000000\" fill-rule=\"evenodd\" fill-opacity=\"1\" /><path clip-path=\"url(#clip210)\" d=\"M50.9921 744.075 L80.6679 744.075 L80.6679 748.011 L50.9921 748.011 L50.9921 744.075 Z\" fill=\"#000000\" fill-rule=\"evenodd\" fill-opacity=\"1\" /><path clip-path=\"url(#clip210)\" d=\"M94.7882 756.969 L111.108 756.969 L111.108 760.904 L89.1632 760.904 L89.1632 756.969 Q91.8252 754.214 96.4085 749.585 Q101.015 744.932 102.196 743.589 Q104.441 741.066 105.321 739.33 Q106.223 737.571 106.223 735.881 Q106.223 733.126 104.279 731.39 Q102.358 729.654 99.2558 729.654 Q97.0567 729.654 94.603 730.418 Q92.1725 731.182 89.3947 732.733 L89.3947 728.011 Q92.2188 726.876 94.6724 726.298 Q97.1261 725.719 99.1632 725.719 Q104.534 725.719 107.728 728.404 Q110.922 731.089 110.922 735.58 Q110.922 737.71 110.112 739.631 Q109.325 741.529 107.219 744.122 Q106.64 744.793 103.538 748.011 Q100.436 751.205 94.7882 756.969 Z\" fill=\"#000000\" fill-rule=\"evenodd\" fill-opacity=\"1\" /><path clip-path=\"url(#clip210)\" d=\"M130.922 729.423 Q127.311 729.423 125.482 732.988 Q123.677 736.529 123.677 743.659 Q123.677 750.765 125.482 754.33 Q127.311 757.872 130.922 757.872 Q134.556 757.872 136.362 754.33 Q138.191 750.765 138.191 743.659 Q138.191 736.529 136.362 732.988 Q134.556 729.423 130.922 729.423 M130.922 725.719 Q136.732 725.719 139.788 730.325 Q142.867 734.909 142.867 743.659 Q142.867 752.386 139.788 756.992 Q136.732 761.575 130.922 761.575 Q125.112 761.575 122.033 756.992 Q118.978 752.386 118.978 743.659 Q118.978 734.909 122.033 730.325 Q125.112 725.719 130.922 725.719 Z\" fill=\"#000000\" fill-rule=\"evenodd\" fill-opacity=\"1\" /><path clip-path=\"url(#clip210)\" d=\"M161.084 729.423 Q157.473 729.423 155.644 732.988 Q153.839 736.529 153.839 743.659 Q153.839 750.765 155.644 754.33 Q157.473 757.872 161.084 757.872 Q164.718 757.872 166.524 754.33 Q168.353 750.765 168.353 743.659 Q168.353 736.529 166.524 732.988 Q164.718 729.423 161.084 729.423 M161.084 725.719 Q166.894 725.719 169.95 730.325 Q173.029 734.909 173.029 743.659 Q173.029 752.386 169.95 756.992 Q166.894 761.575 161.084 761.575 Q155.274 761.575 152.195 756.992 Q149.14 752.386 149.14 743.659 Q149.14 734.909 152.195 730.325 Q155.274 725.719 161.084 725.719 Z\" fill=\"#000000\" fill-rule=\"evenodd\" fill-opacity=\"1\" /><path clip-path=\"url(#clip210)\" d=\"M50.9921 544.183 L80.6679 544.183 L80.6679 548.118 L50.9921 548.118 L50.9921 544.183 Z\" fill=\"#000000\" fill-rule=\"evenodd\" fill-opacity=\"1\" /><path clip-path=\"url(#clip210)\" d=\"M91.5706 557.076 L99.2095 557.076 L99.2095 530.711 L90.8993 532.377 L90.8993 528.118 L99.1632 526.451 L103.839 526.451 L103.839 557.076 L111.478 557.076 L111.478 561.011 L91.5706 561.011 L91.5706 557.076 Z\" fill=\"#000000\" fill-rule=\"evenodd\" fill-opacity=\"1\" /><path clip-path=\"url(#clip210)\" d=\"M130.922 529.53 Q127.311 529.53 125.482 533.095 Q123.677 536.637 123.677 543.766 Q123.677 550.873 125.482 554.437 Q127.311 557.979 130.922 557.979 Q134.556 557.979 136.362 554.437 Q138.191 550.873 138.191 543.766 Q138.191 536.637 136.362 533.095 Q134.556 529.53 130.922 529.53 M130.922 525.826 Q136.732 525.826 139.788 530.433 Q142.867 535.016 142.867 543.766 Q142.867 552.493 139.788 557.099 Q136.732 561.683 130.922 561.683 Q125.112 561.683 122.033 557.099 Q118.978 552.493 118.978 543.766 Q118.978 535.016 122.033 530.433 Q125.112 525.826 130.922 525.826 Z\" fill=\"#000000\" fill-rule=\"evenodd\" fill-opacity=\"1\" /><path clip-path=\"url(#clip210)\" d=\"M161.084 529.53 Q157.473 529.53 155.644 533.095 Q153.839 536.637 153.839 543.766 Q153.839 550.873 155.644 554.437 Q157.473 557.979 161.084 557.979 Q164.718 557.979 166.524 554.437 Q168.353 550.873 168.353 543.766 Q168.353 536.637 166.524 533.095 Q164.718 529.53 161.084 529.53 M161.084 525.826 Q166.894 525.826 169.95 530.433 Q173.029 535.016 173.029 543.766 Q173.029 552.493 169.95 557.099 Q166.894 561.683 161.084 561.683 Q155.274 561.683 152.195 557.099 Q149.14 552.493 149.14 543.766 Q149.14 535.016 152.195 530.433 Q155.274 525.826 161.084 525.826 Z\" fill=\"#000000\" fill-rule=\"evenodd\" fill-opacity=\"1\" /><path clip-path=\"url(#clip210)\" d=\"M161.084 329.637 Q157.473 329.637 155.644 333.202 Q153.839 336.744 153.839 343.874 Q153.839 350.98 155.644 354.545 Q157.473 358.086 161.084 358.086 Q164.718 358.086 166.524 354.545 Q168.353 350.98 168.353 343.874 Q168.353 336.744 166.524 333.202 Q164.718 329.637 161.084 329.637 M161.084 325.934 Q166.894 325.934 169.95 330.54 Q173.029 335.124 173.029 343.874 Q173.029 352.6 169.95 357.207 Q166.894 361.79 161.084 361.79 Q155.274 361.79 152.195 357.207 Q149.14 352.6 149.14 343.874 Q149.14 335.124 152.195 330.54 Q155.274 325.934 161.084 325.934 Z\" fill=\"#000000\" fill-rule=\"evenodd\" fill-opacity=\"1\" /><path clip-path=\"url(#clip210)\" d=\"M91.5706 157.291 L99.2095 157.291 L99.2095 130.925 L90.8993 132.592 L90.8993 128.333 L99.1632 126.666 L103.839 126.666 L103.839 157.291 L111.478 157.291 L111.478 161.226 L91.5706 161.226 L91.5706 157.291 Z\" fill=\"#000000\" fill-rule=\"evenodd\" fill-opacity=\"1\" /><path clip-path=\"url(#clip210)\" d=\"M130.922 129.745 Q127.311 129.745 125.482 133.31 Q123.677 136.851 123.677 143.981 Q123.677 151.087 125.482 154.652 Q127.311 158.194 130.922 158.194 Q134.556 158.194 136.362 154.652 Q138.191 151.087 138.191 143.981 Q138.191 136.851 136.362 133.31 Q134.556 129.745 130.922 129.745 M130.922 126.041 Q136.732 126.041 139.788 130.648 Q142.867 135.231 142.867 143.981 Q142.867 152.708 139.788 157.314 Q136.732 161.897 130.922 161.897 Q125.112 161.897 122.033 157.314 Q118.978 152.708 118.978 143.981 Q118.978 135.231 122.033 130.648 Q125.112 126.041 130.922 126.041 Z\" fill=\"#000000\" fill-rule=\"evenodd\" fill-opacity=\"1\" /><path clip-path=\"url(#clip210)\" d=\"M161.084 129.745 Q157.473 129.745 155.644 133.31 Q153.839 136.851 153.839 143.981 Q153.839 151.087 155.644 154.652 Q157.473 158.194 161.084 158.194 Q164.718 158.194 166.524 154.652 Q168.353 151.087 168.353 143.981 Q168.353 136.851 166.524 133.31 Q164.718 129.745 161.084 129.745 M161.084 126.041 Q166.894 126.041 169.95 130.648 Q173.029 135.231 173.029 143.981 Q173.029 152.708 169.95 157.314 Q166.894 161.897 161.084 161.897 Q155.274 161.897 152.195 157.314 Q149.14 152.708 149.14 143.981 Q149.14 135.231 152.195 130.648 Q155.274 126.041 161.084 126.041 Z\" fill=\"#000000\" fill-rule=\"evenodd\" fill-opacity=\"1\" /><circle clip-path=\"url(#clip212)\" cx=\"269.7\" cy=\"200.412\" r=\"14.4\" fill=\"#009af9\" fill-rule=\"evenodd\" fill-opacity=\"1\" stroke=\"#000000\" stroke-opacity=\"1\" stroke-width=\"3.2\"/>\n",
       "<circle clip-path=\"url(#clip212)\" cx=\"370.819\" cy=\"249.399\" r=\"14.4\" fill=\"#009af9\" fill-rule=\"evenodd\" fill-opacity=\"1\" stroke=\"#000000\" stroke-opacity=\"1\" stroke-width=\"3.2\"/>\n",
       "<circle clip-path=\"url(#clip212)\" cx=\"471.938\" cy=\"250.47\" r=\"14.4\" fill=\"#009af9\" fill-rule=\"evenodd\" fill-opacity=\"1\" stroke=\"#000000\" stroke-opacity=\"1\" stroke-width=\"3.2\"/>\n",
       "<circle clip-path=\"url(#clip212)\" cx=\"573.058\" cy=\"278.09\" r=\"14.4\" fill=\"#009af9\" fill-rule=\"evenodd\" fill-opacity=\"1\" stroke=\"#000000\" stroke-opacity=\"1\" stroke-width=\"3.2\"/>\n",
       "<circle clip-path=\"url(#clip212)\" cx=\"674.177\" cy=\"335.141\" r=\"14.4\" fill=\"#009af9\" fill-rule=\"evenodd\" fill-opacity=\"1\" stroke=\"#000000\" stroke-opacity=\"1\" stroke-width=\"3.2\"/>\n",
       "<circle clip-path=\"url(#clip212)\" cx=\"775.296\" cy=\"316.79\" r=\"14.4\" fill=\"#009af9\" fill-rule=\"evenodd\" fill-opacity=\"1\" stroke=\"#000000\" stroke-opacity=\"1\" stroke-width=\"3.2\"/>\n",
       "<circle clip-path=\"url(#clip212)\" cx=\"876.415\" cy=\"381.902\" r=\"14.4\" fill=\"#009af9\" fill-rule=\"evenodd\" fill-opacity=\"1\" stroke=\"#000000\" stroke-opacity=\"1\" stroke-width=\"3.2\"/>\n",
       "<circle clip-path=\"url(#clip212)\" cx=\"977.535\" cy=\"373.763\" r=\"14.4\" fill=\"#009af9\" fill-rule=\"evenodd\" fill-opacity=\"1\" stroke=\"#000000\" stroke-opacity=\"1\" stroke-width=\"3.2\"/>\n",
       "<circle clip-path=\"url(#clip212)\" cx=\"1078.65\" cy=\"335.126\" r=\"14.4\" fill=\"#009af9\" fill-rule=\"evenodd\" fill-opacity=\"1\" stroke=\"#000000\" stroke-opacity=\"1\" stroke-width=\"3.2\"/>\n",
       "<circle clip-path=\"url(#clip212)\" cx=\"1179.77\" cy=\"355.406\" r=\"14.4\" fill=\"#009af9\" fill-rule=\"evenodd\" fill-opacity=\"1\" stroke=\"#000000\" stroke-opacity=\"1\" stroke-width=\"3.2\"/>\n",
       "<circle clip-path=\"url(#clip212)\" cx=\"1280.89\" cy=\"345.476\" r=\"14.4\" fill=\"#009af9\" fill-rule=\"evenodd\" fill-opacity=\"1\" stroke=\"#000000\" stroke-opacity=\"1\" stroke-width=\"3.2\"/>\n",
       "<circle clip-path=\"url(#clip212)\" cx=\"1382.01\" cy=\"337.075\" r=\"14.4\" fill=\"#009af9\" fill-rule=\"evenodd\" fill-opacity=\"1\" stroke=\"#000000\" stroke-opacity=\"1\" stroke-width=\"3.2\"/>\n",
       "<circle clip-path=\"url(#clip212)\" cx=\"1483.13\" cy=\"346.37\" r=\"14.4\" fill=\"#009af9\" fill-rule=\"evenodd\" fill-opacity=\"1\" stroke=\"#000000\" stroke-opacity=\"1\" stroke-width=\"3.2\"/>\n",
       "<circle clip-path=\"url(#clip212)\" cx=\"1584.25\" cy=\"273.671\" r=\"14.4\" fill=\"#009af9\" fill-rule=\"evenodd\" fill-opacity=\"1\" stroke=\"#000000\" stroke-opacity=\"1\" stroke-width=\"3.2\"/>\n",
       "<circle clip-path=\"url(#clip212)\" cx=\"1685.37\" cy=\"267.139\" r=\"14.4\" fill=\"#009af9\" fill-rule=\"evenodd\" fill-opacity=\"1\" stroke=\"#000000\" stroke-opacity=\"1\" stroke-width=\"3.2\"/>\n",
       "<circle clip-path=\"url(#clip212)\" cx=\"1786.49\" cy=\"245.618\" r=\"14.4\" fill=\"#009af9\" fill-rule=\"evenodd\" fill-opacity=\"1\" stroke=\"#000000\" stroke-opacity=\"1\" stroke-width=\"3.2\"/>\n",
       "<circle clip-path=\"url(#clip212)\" cx=\"1887.61\" cy=\"214.947\" r=\"14.4\" fill=\"#009af9\" fill-rule=\"evenodd\" fill-opacity=\"1\" stroke=\"#000000\" stroke-opacity=\"1\" stroke-width=\"3.2\"/>\n",
       "<circle clip-path=\"url(#clip212)\" cx=\"1988.73\" cy=\"224.838\" r=\"14.4\" fill=\"#009af9\" fill-rule=\"evenodd\" fill-opacity=\"1\" stroke=\"#000000\" stroke-opacity=\"1\" stroke-width=\"3.2\"/>\n",
       "<circle clip-path=\"url(#clip212)\" cx=\"2089.85\" cy=\"185.896\" r=\"14.4\" fill=\"#009af9\" fill-rule=\"evenodd\" fill-opacity=\"1\" stroke=\"#000000\" stroke-opacity=\"1\" stroke-width=\"3.2\"/>\n",
       "<circle clip-path=\"url(#clip212)\" cx=\"2190.97\" cy=\"94.9067\" r=\"14.4\" fill=\"#009af9\" fill-rule=\"evenodd\" fill-opacity=\"1\" stroke=\"#000000\" stroke-opacity=\"1\" stroke-width=\"3.2\"/>\n",
       "<circle clip-path=\"url(#clip212)\" cx=\"2292.08\" cy=\"99.3246\" r=\"14.4\" fill=\"#009af9\" fill-rule=\"evenodd\" fill-opacity=\"1\" stroke=\"#000000\" stroke-opacity=\"1\" stroke-width=\"3.2\"/>\n",
       "<polyline clip-path=\"url(#clip212)\" style=\"stroke:#e26f46; stroke-linecap:round; stroke-linejoin:round; stroke-width:4; stroke-opacity:1; fill:none\" points=\"269.7,207.912 370.819,239.895 471.938,267.88 573.058,291.867 674.177,311.856 775.296,327.847 876.415,339.841 977.535,347.837 1078.65,351.835 1179.77,351.835 1280.89,347.837 1382.01,339.841 1483.13,327.847 1584.25,311.856 1685.37,291.867 1786.49,267.88 1887.61,239.895 1988.73,207.912 2089.85,171.931 2190.97,131.953 2292.08,87.9763 \"/>\n",
       "<polyline clip-path=\"url(#clip212)\" style=\"stroke:#3da44d; stroke-linecap:round; stroke-linejoin:round; stroke-width:4; stroke-opacity:1; fill:none\" points=\"269.7,520.26 370.819,450.743 471.938,393.415 573.058,348.276 674.177,315.324 775.296,294.561 876.415,285.987 977.535,289.6 1078.65,305.402 1179.77,333.392 1280.89,373.571 1382.01,425.938 1483.13,490.493 1584.25,567.237 1685.37,656.169 1786.49,757.289 1887.61,870.598 1988.73,996.095 2089.85,1133.78 2190.97,1283.65 2292.08,1445.72 \"/>\n",
       "<path clip-path=\"url(#clip210)\" d=\"M280.486 1438.47 L547.868 1438.47 L547.868 1231.11 L280.486 1231.11  Z\" fill=\"#ffffff\" fill-rule=\"evenodd\" fill-opacity=\"1\"/>\n",
       "<polyline clip-path=\"url(#clip210)\" style=\"stroke:#000000; stroke-linecap:round; stroke-linejoin:round; stroke-width:4; stroke-opacity:1; fill:none\" points=\"280.486,1438.47 547.868,1438.47 547.868,1231.11 280.486,1231.11 280.486,1438.47 \"/>\n",
       "<circle clip-path=\"url(#clip210)\" cx=\"375.763\" cy=\"1282.95\" r=\"23.04\" fill=\"#009af9\" fill-rule=\"evenodd\" fill-opacity=\"1\" stroke=\"#000000\" stroke-opacity=\"1\" stroke-width=\"5.12\"/>\n",
       "<path clip-path=\"url(#clip210)\" d=\"M484.882 1302.64 Q483.077 1307.27 481.364 1308.68 Q479.651 1310.1 476.78 1310.1 L473.378 1310.1 L473.378 1306.53 L475.878 1306.53 Q477.637 1306.53 478.609 1305.7 Q479.581 1304.86 480.762 1301.76 L481.526 1299.82 L471.04 1274.31 L475.554 1274.31 L483.655 1294.59 L491.757 1274.31 L496.271 1274.31 L484.882 1302.64 Z\" fill=\"#000000\" fill-rule=\"evenodd\" fill-opacity=\"1\" /><path clip-path=\"url(#clip210)\" d=\"M503.563 1296.3 L511.201 1296.3 L511.201 1269.93 L502.891 1271.6 L502.891 1267.34 L511.155 1265.67 L515.831 1265.67 L515.831 1296.3 L523.47 1296.3 L523.47 1300.23 L503.563 1300.23 L503.563 1296.3 Z\" fill=\"#000000\" fill-rule=\"evenodd\" fill-opacity=\"1\" /><polyline clip-path=\"url(#clip210)\" style=\"stroke:#e26f46; stroke-linecap:round; stroke-linejoin:round; stroke-width:4; stroke-opacity:1; fill:none\" points=\"304.305,1334.79 447.22,1334.79 \"/>\n",
       "<path clip-path=\"url(#clip210)\" d=\"M484.882 1354.48 Q483.077 1359.11 481.364 1360.52 Q479.651 1361.94 476.78 1361.94 L473.378 1361.94 L473.378 1358.37 L475.878 1358.37 Q477.637 1358.37 478.609 1357.54 Q479.581 1356.7 480.762 1353.6 L481.526 1351.66 L471.04 1326.15 L475.554 1326.15 L483.655 1346.43 L491.757 1326.15 L496.271 1326.15 L484.882 1354.48 Z\" fill=\"#000000\" fill-rule=\"evenodd\" fill-opacity=\"1\" /><path clip-path=\"url(#clip210)\" d=\"M506.78 1348.14 L523.1 1348.14 L523.1 1352.07 L501.155 1352.07 L501.155 1348.14 Q503.817 1345.38 508.401 1340.76 Q513.007 1336.1 514.188 1334.76 Q516.433 1332.24 517.313 1330.5 Q518.215 1328.74 518.215 1327.05 Q518.215 1324.3 516.271 1322.56 Q514.35 1320.82 511.248 1320.82 Q509.049 1320.82 506.595 1321.59 Q504.164 1322.35 501.387 1323.9 L501.387 1319.18 Q504.211 1318.05 506.664 1317.47 Q509.118 1316.89 511.155 1316.89 Q516.526 1316.89 519.72 1319.57 Q522.914 1322.26 522.914 1326.75 Q522.914 1328.88 522.104 1330.8 Q521.317 1332.7 519.211 1335.29 Q518.632 1335.96 515.53 1339.18 Q512.428 1342.38 506.78 1348.14 Z\" fill=\"#000000\" fill-rule=\"evenodd\" fill-opacity=\"1\" /><polyline clip-path=\"url(#clip210)\" style=\"stroke:#3da44d; stroke-linecap:round; stroke-linejoin:round; stroke-width:4; stroke-opacity:1; fill:none\" points=\"304.305,1386.63 447.22,1386.63 \"/>\n",
       "<path clip-path=\"url(#clip210)\" d=\"M484.882 1406.32 Q483.077 1410.95 481.364 1412.36 Q479.651 1413.78 476.78 1413.78 L473.378 1413.78 L473.378 1410.21 L475.878 1410.21 Q477.637 1410.21 478.609 1409.38 Q479.581 1408.54 480.762 1405.44 L481.526 1403.5 L471.04 1377.99 L475.554 1377.99 L483.655 1398.27 L491.757 1377.99 L496.271 1377.99 L484.882 1406.32 Z\" fill=\"#000000\" fill-rule=\"evenodd\" fill-opacity=\"1\" /><path clip-path=\"url(#clip210)\" d=\"M516.919 1385.28 Q520.275 1386 522.15 1388.27 Q524.049 1390.53 524.049 1393.87 Q524.049 1398.98 520.53 1401.78 Q517.012 1404.59 510.53 1404.59 Q508.354 1404.59 506.039 1404.15 Q503.748 1403.73 501.294 1402.87 L501.294 1398.36 Q503.239 1399.49 505.553 1400.07 Q507.868 1400.65 510.391 1400.65 Q514.789 1400.65 517.081 1398.91 Q519.396 1397.18 519.396 1393.87 Q519.396 1390.81 517.243 1389.1 Q515.113 1387.36 511.294 1387.36 L507.266 1387.36 L507.266 1383.52 L511.479 1383.52 Q514.928 1383.52 516.757 1382.16 Q518.586 1380.77 518.586 1378.17 Q518.586 1375.51 516.688 1374.1 Q514.813 1372.66 511.294 1372.66 Q509.373 1372.66 507.174 1373.08 Q504.975 1373.5 502.336 1374.38 L502.336 1370.21 Q504.998 1369.47 507.313 1369.1 Q509.651 1368.73 511.711 1368.73 Q517.035 1368.73 520.137 1371.16 Q523.238 1373.57 523.238 1377.69 Q523.238 1380.56 521.595 1382.55 Q519.951 1384.52 516.919 1385.28 Z\" fill=\"#000000\" fill-rule=\"evenodd\" fill-opacity=\"1\" /></svg>\n"
      ]
     },
     "execution_count": 138,
     "metadata": {},
     "output_type": "execute_result"
    }
   ],
   "source": [
    "scatter(x_t,y_observed)\n",
    "plot!(x_t,y_true)\n",
    "plot!(x_t,y_fitted)"
   ]
  },
  {
   "cell_type": "markdown",
   "id": "b3b5a343",
   "metadata": {},
   "source": [
    "### 2.4\n",
    "\n",
    "1. Repeat 2.2 and 2.3 with a noise with a standard deviation of 50"
   ]
  },
  {
   "cell_type": "code",
   "execution_count": 139,
   "id": "7e1d326f",
   "metadata": {},
   "outputs": [
    {
     "data": {
      "text/plain": [
       "-10:10"
      ]
     },
     "execution_count": 139,
     "metadata": {},
     "output_type": "execute_result"
    }
   ],
   "source": [
    "x_t1=-10:10"
   ]
  },
  {
   "cell_type": "code",
   "execution_count": 140,
   "id": "e1bcedd5",
   "metadata": {},
   "outputs": [
    {
     "data": {
      "text/plain": [
       "21-element Vector{Int64}:\n",
       " -10\n",
       "  -9\n",
       "  -8\n",
       "  -7\n",
       "  -6\n",
       "  -5\n",
       "  -4\n",
       "  -3\n",
       "  -2\n",
       "  -1\n",
       "   0\n",
       "   1\n",
       "   2\n",
       "   3\n",
       "   4\n",
       "   5\n",
       "   6\n",
       "   7\n",
       "   8\n",
       "   9\n",
       "  10"
      ]
     },
     "execution_count": 140,
     "metadata": {},
     "output_type": "execute_result"
    }
   ],
   "source": [
    "collect(x_t1)"
   ]
  },
  {
   "cell_type": "code",
   "execution_count": 111,
   "id": "9bd8c247",
   "metadata": {},
   "outputs": [
    {
     "data": {
      "text/plain": [
       "Normal{Float64}(μ=0.0, σ=50.0)"
      ]
     },
     "execution_count": 111,
     "metadata": {},
     "output_type": "execute_result"
    }
   ],
   "source": [
    "dataerr = 50\n",
    "noise = di.Normal(0,dataerr)"
   ]
  },
  {
   "cell_type": "code",
   "execution_count": 141,
   "id": "b4c08499",
   "metadata": {},
   "outputs": [
    {
     "data": {
      "image/svg+xml": [
       "<?xml version=\"1.0\" encoding=\"utf-8\"?>\n",
       "<svg xmlns=\"http://www.w3.org/2000/svg\" xmlns:xlink=\"http://www.w3.org/1999/xlink\" width=\"600\" height=\"400\" viewBox=\"0 0 2400 1600\">\n",
       "<defs>\n",
       "  <clipPath id=\"clip250\">\n",
       "    <rect x=\"0\" y=\"0\" width=\"2400\" height=\"1600\"/>\n",
       "  </clipPath>\n",
       "</defs>\n",
       "<path clip-path=\"url(#clip250)\" d=\"M0 1600 L2400 1600 L2400 0 L0 0  Z\" fill=\"#ffffff\" fill-rule=\"evenodd\" fill-opacity=\"1\"/>\n",
       "<defs>\n",
       "  <clipPath id=\"clip251\">\n",
       "    <rect x=\"480\" y=\"0\" width=\"1681\" height=\"1600\"/>\n",
       "  </clipPath>\n",
       "</defs>\n",
       "<path clip-path=\"url(#clip250)\" d=\"M169.121 1486.45 L2352.76 1486.45 L2352.76 47.2441 L169.121 47.2441  Z\" fill=\"#ffffff\" fill-rule=\"evenodd\" fill-opacity=\"1\"/>\n",
       "<defs>\n",
       "  <clipPath id=\"clip252\">\n",
       "    <rect x=\"169\" y=\"47\" width=\"2185\" height=\"1440\"/>\n",
       "  </clipPath>\n",
       "</defs>\n",
       "<polyline clip-path=\"url(#clip252)\" style=\"stroke:#000000; stroke-linecap:round; stroke-linejoin:round; stroke-width:2; stroke-opacity:0.1; fill:none\" points=\"230.922,1486.45 230.922,47.2441 \"/>\n",
       "<polyline clip-path=\"url(#clip252)\" style=\"stroke:#000000; stroke-linecap:round; stroke-linejoin:round; stroke-width:2; stroke-opacity:0.1; fill:none\" points=\"745.93,1486.45 745.93,47.2441 \"/>\n",
       "<polyline clip-path=\"url(#clip252)\" style=\"stroke:#000000; stroke-linecap:round; stroke-linejoin:round; stroke-width:2; stroke-opacity:0.1; fill:none\" points=\"1260.94,1486.45 1260.94,47.2441 \"/>\n",
       "<polyline clip-path=\"url(#clip252)\" style=\"stroke:#000000; stroke-linecap:round; stroke-linejoin:round; stroke-width:2; stroke-opacity:0.1; fill:none\" points=\"1775.95,1486.45 1775.95,47.2441 \"/>\n",
       "<polyline clip-path=\"url(#clip252)\" style=\"stroke:#000000; stroke-linecap:round; stroke-linejoin:round; stroke-width:2; stroke-opacity:0.1; fill:none\" points=\"2290.95,1486.45 2290.95,47.2441 \"/>\n",
       "<polyline clip-path=\"url(#clip250)\" style=\"stroke:#000000; stroke-linecap:round; stroke-linejoin:round; stroke-width:4; stroke-opacity:1; fill:none\" points=\"169.121,1486.45 2352.76,1486.45 \"/>\n",
       "<polyline clip-path=\"url(#clip250)\" style=\"stroke:#000000; stroke-linecap:round; stroke-linejoin:round; stroke-width:4; stroke-opacity:1; fill:none\" points=\"230.922,1486.45 230.922,1467.55 \"/>\n",
       "<polyline clip-path=\"url(#clip250)\" style=\"stroke:#000000; stroke-linecap:round; stroke-linejoin:round; stroke-width:4; stroke-opacity:1; fill:none\" points=\"745.93,1486.45 745.93,1467.55 \"/>\n",
       "<polyline clip-path=\"url(#clip250)\" style=\"stroke:#000000; stroke-linecap:round; stroke-linejoin:round; stroke-width:4; stroke-opacity:1; fill:none\" points=\"1260.94,1486.45 1260.94,1467.55 \"/>\n",
       "<polyline clip-path=\"url(#clip250)\" style=\"stroke:#000000; stroke-linecap:round; stroke-linejoin:round; stroke-width:4; stroke-opacity:1; fill:none\" points=\"1775.95,1486.45 1775.95,1467.55 \"/>\n",
       "<polyline clip-path=\"url(#clip250)\" style=\"stroke:#000000; stroke-linecap:round; stroke-linejoin:round; stroke-width:4; stroke-opacity:1; fill:none\" points=\"2290.95,1486.45 2290.95,1467.55 \"/>\n",
       "<path clip-path=\"url(#clip250)\" d=\"M184.985 1532.02 L214.661 1532.02 L214.661 1535.95 L184.985 1535.95 L184.985 1532.02 Z\" fill=\"#000000\" fill-rule=\"evenodd\" fill-opacity=\"1\" /><path clip-path=\"url(#clip250)\" d=\"M225.564 1544.91 L233.202 1544.91 L233.202 1518.55 L224.892 1520.21 L224.892 1515.95 L233.156 1514.29 L237.832 1514.29 L237.832 1544.91 L245.471 1544.91 L245.471 1548.85 L225.564 1548.85 L225.564 1544.91 Z\" fill=\"#000000\" fill-rule=\"evenodd\" fill-opacity=\"1\" /><path clip-path=\"url(#clip250)\" d=\"M264.915 1517.37 Q261.304 1517.37 259.475 1520.93 Q257.67 1524.47 257.67 1531.6 Q257.67 1538.71 259.475 1542.27 Q261.304 1545.82 264.915 1545.82 Q268.549 1545.82 270.355 1542.27 Q272.184 1538.71 272.184 1531.6 Q272.184 1524.47 270.355 1520.93 Q268.549 1517.37 264.915 1517.37 M264.915 1513.66 Q270.725 1513.66 273.781 1518.27 Q276.86 1522.85 276.86 1531.6 Q276.86 1540.33 273.781 1544.94 Q270.725 1549.52 264.915 1549.52 Q259.105 1549.52 256.026 1544.94 Q252.971 1540.33 252.971 1531.6 Q252.971 1522.85 256.026 1518.27 Q259.105 1513.66 264.915 1513.66 Z\" fill=\"#000000\" fill-rule=\"evenodd\" fill-opacity=\"1\" /><path clip-path=\"url(#clip250)\" d=\"M715.572 1532.02 L745.248 1532.02 L745.248 1535.95 L715.572 1535.95 L715.572 1532.02 Z\" fill=\"#000000\" fill-rule=\"evenodd\" fill-opacity=\"1\" /><path clip-path=\"url(#clip250)\" d=\"M755.386 1514.29 L773.743 1514.29 L773.743 1518.22 L759.669 1518.22 L759.669 1526.7 Q760.687 1526.35 761.706 1526.19 Q762.724 1526 763.743 1526 Q769.53 1526 772.909 1529.17 Q776.289 1532.34 776.289 1537.76 Q776.289 1543.34 772.817 1546.44 Q769.345 1549.52 763.025 1549.52 Q760.849 1549.52 758.581 1549.15 Q756.335 1548.78 753.928 1548.04 L753.928 1543.34 Q756.011 1544.47 758.234 1545.03 Q760.456 1545.58 762.933 1545.58 Q766.937 1545.58 769.275 1543.48 Q771.613 1541.37 771.613 1537.76 Q771.613 1534.15 769.275 1532.04 Q766.937 1529.94 762.933 1529.94 Q761.058 1529.94 759.183 1530.35 Q757.331 1530.77 755.386 1531.65 L755.386 1514.29 Z\" fill=\"#000000\" fill-rule=\"evenodd\" fill-opacity=\"1\" /><path clip-path=\"url(#clip250)\" d=\"M1260.94 1517.37 Q1257.33 1517.37 1255.5 1520.93 Q1253.69 1524.47 1253.69 1531.6 Q1253.69 1538.71 1255.5 1542.27 Q1257.33 1545.82 1260.94 1545.82 Q1264.57 1545.82 1266.38 1542.27 Q1268.21 1538.71 1268.21 1531.6 Q1268.21 1524.47 1266.38 1520.93 Q1264.57 1517.37 1260.94 1517.37 M1260.94 1513.66 Q1266.75 1513.66 1269.8 1518.27 Q1272.88 1522.85 1272.88 1531.6 Q1272.88 1540.33 1269.8 1544.94 Q1266.75 1549.52 1260.94 1549.52 Q1255.13 1549.52 1252.05 1544.94 Q1248.99 1540.33 1248.99 1531.6 Q1248.99 1522.85 1252.05 1518.27 Q1255.13 1513.66 1260.94 1513.66 Z\" fill=\"#000000\" fill-rule=\"evenodd\" fill-opacity=\"1\" /><path clip-path=\"url(#clip250)\" d=\"M1766.22 1514.29 L1784.58 1514.29 L1784.58 1518.22 L1770.51 1518.22 L1770.51 1526.7 Q1771.53 1526.35 1772.54 1526.19 Q1773.56 1526 1774.58 1526 Q1780.37 1526 1783.75 1529.17 Q1787.13 1532.34 1787.13 1537.76 Q1787.13 1543.34 1783.66 1546.44 Q1780.18 1549.52 1773.86 1549.52 Q1771.69 1549.52 1769.42 1549.15 Q1767.17 1548.78 1764.77 1548.04 L1764.77 1543.34 Q1766.85 1544.47 1769.07 1545.03 Q1771.29 1545.58 1773.77 1545.58 Q1777.78 1545.58 1780.11 1543.48 Q1782.45 1541.37 1782.45 1537.76 Q1782.45 1534.15 1780.11 1532.04 Q1777.78 1529.94 1773.77 1529.94 Q1771.9 1529.94 1770.02 1530.35 Q1768.17 1530.77 1766.22 1531.65 L1766.22 1514.29 Z\" fill=\"#000000\" fill-rule=\"evenodd\" fill-opacity=\"1\" /><path clip-path=\"url(#clip250)\" d=\"M2265.64 1544.91 L2273.28 1544.91 L2273.28 1518.55 L2264.97 1520.21 L2264.97 1515.95 L2273.24 1514.29 L2277.91 1514.29 L2277.91 1544.91 L2285.55 1544.91 L2285.55 1548.85 L2265.64 1548.85 L2265.64 1544.91 Z\" fill=\"#000000\" fill-rule=\"evenodd\" fill-opacity=\"1\" /><path clip-path=\"url(#clip250)\" d=\"M2304.99 1517.37 Q2301.38 1517.37 2299.55 1520.93 Q2297.75 1524.47 2297.75 1531.6 Q2297.75 1538.71 2299.55 1542.27 Q2301.38 1545.82 2304.99 1545.82 Q2308.63 1545.82 2310.43 1542.27 Q2312.26 1538.71 2312.26 1531.6 Q2312.26 1524.47 2310.43 1520.93 Q2308.63 1517.37 2304.99 1517.37 M2304.99 1513.66 Q2310.8 1513.66 2313.86 1518.27 Q2316.94 1522.85 2316.94 1531.6 Q2316.94 1540.33 2313.86 1544.94 Q2310.8 1549.52 2304.99 1549.52 Q2299.18 1549.52 2296.11 1544.94 Q2293.05 1540.33 2293.05 1531.6 Q2293.05 1522.85 2296.11 1518.27 Q2299.18 1513.66 2304.99 1513.66 Z\" fill=\"#000000\" fill-rule=\"evenodd\" fill-opacity=\"1\" /><polyline clip-path=\"url(#clip252)\" style=\"stroke:#000000; stroke-linecap:round; stroke-linejoin:round; stroke-width:2; stroke-opacity:0.1; fill:none\" points=\"169.121,1266.62 2352.76,1266.62 \"/>\n",
       "<polyline clip-path=\"url(#clip252)\" style=\"stroke:#000000; stroke-linecap:round; stroke-linejoin:round; stroke-width:2; stroke-opacity:0.1; fill:none\" points=\"169.121,868.804 2352.76,868.804 \"/>\n",
       "<polyline clip-path=\"url(#clip252)\" style=\"stroke:#000000; stroke-linecap:round; stroke-linejoin:round; stroke-width:2; stroke-opacity:0.1; fill:none\" points=\"169.121,470.988 2352.76,470.988 \"/>\n",
       "<polyline clip-path=\"url(#clip252)\" style=\"stroke:#000000; stroke-linecap:round; stroke-linejoin:round; stroke-width:2; stroke-opacity:0.1; fill:none\" points=\"169.121,73.172 2352.76,73.172 \"/>\n",
       "<polyline clip-path=\"url(#clip250)\" style=\"stroke:#000000; stroke-linecap:round; stroke-linejoin:round; stroke-width:4; stroke-opacity:1; fill:none\" points=\"169.121,1486.45 169.121,47.2441 \"/>\n",
       "<polyline clip-path=\"url(#clip250)\" style=\"stroke:#000000; stroke-linecap:round; stroke-linejoin:round; stroke-width:4; stroke-opacity:1; fill:none\" points=\"169.121,1266.62 188.019,1266.62 \"/>\n",
       "<polyline clip-path=\"url(#clip250)\" style=\"stroke:#000000; stroke-linecap:round; stroke-linejoin:round; stroke-width:4; stroke-opacity:1; fill:none\" points=\"169.121,868.804 188.019,868.804 \"/>\n",
       "<polyline clip-path=\"url(#clip250)\" style=\"stroke:#000000; stroke-linecap:round; stroke-linejoin:round; stroke-width:4; stroke-opacity:1; fill:none\" points=\"169.121,470.988 188.019,470.988 \"/>\n",
       "<polyline clip-path=\"url(#clip250)\" style=\"stroke:#000000; stroke-linecap:round; stroke-linejoin:round; stroke-width:4; stroke-opacity:1; fill:none\" points=\"169.121,73.172 188.019,73.172 \"/>\n",
       "<path clip-path=\"url(#clip250)\" d=\"M121.177 1252.42 Q117.566 1252.42 115.737 1255.98 Q113.932 1259.53 113.932 1266.65 Q113.932 1273.76 115.737 1277.33 Q117.566 1280.87 121.177 1280.87 Q124.811 1280.87 126.617 1277.33 Q128.445 1273.76 128.445 1266.65 Q128.445 1259.53 126.617 1255.98 Q124.811 1252.42 121.177 1252.42 M121.177 1248.71 Q126.987 1248.71 130.043 1253.32 Q133.121 1257.9 133.121 1266.65 Q133.121 1275.38 130.043 1279.99 Q126.987 1284.57 121.177 1284.57 Q115.367 1284.57 112.288 1279.99 Q109.233 1275.38 109.233 1266.65 Q109.233 1257.9 112.288 1253.32 Q115.367 1248.71 121.177 1248.71 Z\" fill=\"#000000\" fill-rule=\"evenodd\" fill-opacity=\"1\" /><path clip-path=\"url(#clip250)\" d=\"M81.0614 851.524 L99.4178 851.524 L99.4178 855.459 L85.3438 855.459 L85.3438 863.931 Q86.3623 863.584 87.3808 863.422 Q88.3993 863.237 89.4178 863.237 Q95.2049 863.237 98.5845 866.408 Q101.964 869.579 101.964 874.996 Q101.964 880.575 98.4919 883.677 Q95.0197 886.755 88.7003 886.755 Q86.5243 886.755 84.2558 886.385 Q82.0105 886.015 79.6031 885.274 L79.6031 880.575 Q81.6864 881.709 83.9086 882.265 Q86.1308 882.82 88.6077 882.82 Q92.6123 882.82 94.9502 880.714 Q97.2882 878.607 97.2882 874.996 Q97.2882 871.385 94.9502 869.279 Q92.6123 867.172 88.6077 867.172 Q86.7327 867.172 84.8577 867.589 Q83.0058 868.005 81.0614 868.885 L81.0614 851.524 Z\" fill=\"#000000\" fill-rule=\"evenodd\" fill-opacity=\"1\" /><path clip-path=\"url(#clip250)\" d=\"M121.177 854.603 Q117.566 854.603 115.737 858.167 Q113.932 861.709 113.932 868.839 Q113.932 875.945 115.737 879.51 Q117.566 883.052 121.177 883.052 Q124.811 883.052 126.617 879.51 Q128.445 875.945 128.445 868.839 Q128.445 861.709 126.617 858.167 Q124.811 854.603 121.177 854.603 M121.177 850.899 Q126.987 850.899 130.043 855.505 Q133.121 860.089 133.121 868.839 Q133.121 877.566 130.043 882.172 Q126.987 886.755 121.177 886.755 Q115.367 886.755 112.288 882.172 Q109.233 877.566 109.233 868.839 Q109.233 860.089 112.288 855.505 Q115.367 850.899 121.177 850.899 Z\" fill=\"#000000\" fill-rule=\"evenodd\" fill-opacity=\"1\" /><path clip-path=\"url(#clip250)\" d=\"M51.6634 484.333 L59.3023 484.333 L59.3023 457.967 L50.9921 459.634 L50.9921 455.375 L59.256 453.708 L63.9319 453.708 L63.9319 484.333 L71.5707 484.333 L71.5707 488.268 L51.6634 488.268 L51.6634 484.333 Z\" fill=\"#000000\" fill-rule=\"evenodd\" fill-opacity=\"1\" /><path clip-path=\"url(#clip250)\" d=\"M91.0151 456.787 Q87.404 456.787 85.5753 460.351 Q83.7697 463.893 83.7697 471.023 Q83.7697 478.129 85.5753 481.694 Q87.404 485.236 91.0151 485.236 Q94.6493 485.236 96.4548 481.694 Q98.2835 478.129 98.2835 471.023 Q98.2835 463.893 96.4548 460.351 Q94.6493 456.787 91.0151 456.787 M91.0151 453.083 Q96.8252 453.083 99.8808 457.689 Q102.959 462.273 102.959 471.023 Q102.959 479.75 99.8808 484.356 Q96.8252 488.939 91.0151 488.939 Q85.2049 488.939 82.1262 484.356 Q79.0707 479.75 79.0707 471.023 Q79.0707 462.273 82.1262 457.689 Q85.2049 453.083 91.0151 453.083 Z\" fill=\"#000000\" fill-rule=\"evenodd\" fill-opacity=\"1\" /><path clip-path=\"url(#clip250)\" d=\"M121.177 456.787 Q117.566 456.787 115.737 460.351 Q113.932 463.893 113.932 471.023 Q113.932 478.129 115.737 481.694 Q117.566 485.236 121.177 485.236 Q124.811 485.236 126.617 481.694 Q128.445 478.129 128.445 471.023 Q128.445 463.893 126.617 460.351 Q124.811 456.787 121.177 456.787 M121.177 453.083 Q126.987 453.083 130.043 457.689 Q133.121 462.273 133.121 471.023 Q133.121 479.75 130.043 484.356 Q126.987 488.939 121.177 488.939 Q115.367 488.939 112.288 484.356 Q109.233 479.75 109.233 471.023 Q109.233 462.273 112.288 457.689 Q115.367 453.083 121.177 453.083 Z\" fill=\"#000000\" fill-rule=\"evenodd\" fill-opacity=\"1\" /><path clip-path=\"url(#clip250)\" d=\"M51.6634 86.5169 L59.3023 86.5169 L59.3023 60.1513 L50.9921 61.8179 L50.9921 57.5587 L59.256 55.892 L63.9319 55.892 L63.9319 86.5169 L71.5707 86.5169 L71.5707 90.452 L51.6634 90.452 L51.6634 86.5169 Z\" fill=\"#000000\" fill-rule=\"evenodd\" fill-opacity=\"1\" /><path clip-path=\"url(#clip250)\" d=\"M81.0614 55.892 L99.4178 55.892 L99.4178 59.8272 L85.3438 59.8272 L85.3438 68.2994 Q86.3623 67.9522 87.3808 67.7901 Q88.3993 67.6049 89.4178 67.6049 Q95.2049 67.6049 98.5845 70.7762 Q101.964 73.9475 101.964 79.3641 Q101.964 84.9428 98.4919 88.0446 Q95.0197 91.1233 88.7003 91.1233 Q86.5243 91.1233 84.2558 90.753 Q82.0105 90.3826 79.6031 89.6419 L79.6031 84.9428 Q81.6864 86.0771 83.9086 86.6326 Q86.1308 87.1882 88.6077 87.1882 Q92.6123 87.1882 94.9502 85.0817 Q97.2882 82.9752 97.2882 79.3641 Q97.2882 75.753 94.9502 73.6466 Q92.6123 71.5401 88.6077 71.5401 Q86.7327 71.5401 84.8577 71.9568 Q83.0058 72.3734 81.0614 73.2531 L81.0614 55.892 Z\" fill=\"#000000\" fill-rule=\"evenodd\" fill-opacity=\"1\" /><path clip-path=\"url(#clip250)\" d=\"M121.177 58.9707 Q117.566 58.9707 115.737 62.5355 Q113.932 66.0772 113.932 73.2068 Q113.932 80.3132 115.737 83.878 Q117.566 87.4197 121.177 87.4197 Q124.811 87.4197 126.617 83.878 Q128.445 80.3132 128.445 73.2068 Q128.445 66.0772 126.617 62.5355 Q124.811 58.9707 121.177 58.9707 M121.177 55.267 Q126.987 55.267 130.043 59.8735 Q133.121 64.4568 133.121 73.2068 Q133.121 81.9336 130.043 86.54 Q126.987 91.1233 121.177 91.1233 Q115.367 91.1233 112.288 86.54 Q109.233 81.9336 109.233 73.2068 Q109.233 64.4568 112.288 59.8735 Q115.367 55.267 121.177 55.267 Z\" fill=\"#000000\" fill-rule=\"evenodd\" fill-opacity=\"1\" /><circle clip-path=\"url(#clip252)\" cx=\"230.922\" cy=\"681.671\" r=\"14.4\" fill=\"#009af9\" fill-rule=\"evenodd\" fill-opacity=\"1\" stroke=\"#000000\" stroke-opacity=\"1\" stroke-width=\"3.2\"/>\n",
       "<circle clip-path=\"url(#clip252)\" cx=\"333.924\" cy=\"783.709\" r=\"14.4\" fill=\"#009af9\" fill-rule=\"evenodd\" fill-opacity=\"1\" stroke=\"#000000\" stroke-opacity=\"1\" stroke-width=\"3.2\"/>\n",
       "<circle clip-path=\"url(#clip252)\" cx=\"436.926\" cy=\"958.197\" r=\"14.4\" fill=\"#009af9\" fill-rule=\"evenodd\" fill-opacity=\"1\" stroke=\"#000000\" stroke-opacity=\"1\" stroke-width=\"3.2\"/>\n",
       "<circle clip-path=\"url(#clip252)\" cx=\"539.927\" cy=\"885.757\" r=\"14.4\" fill=\"#009af9\" fill-rule=\"evenodd\" fill-opacity=\"1\" stroke=\"#000000\" stroke-opacity=\"1\" stroke-width=\"3.2\"/>\n",
       "<circle clip-path=\"url(#clip252)\" cx=\"642.929\" cy=\"1064.21\" r=\"14.4\" fill=\"#009af9\" fill-rule=\"evenodd\" fill-opacity=\"1\" stroke=\"#000000\" stroke-opacity=\"1\" stroke-width=\"3.2\"/>\n",
       "<circle clip-path=\"url(#clip252)\" cx=\"745.93\" cy=\"1095.8\" r=\"14.4\" fill=\"#009af9\" fill-rule=\"evenodd\" fill-opacity=\"1\" stroke=\"#000000\" stroke-opacity=\"1\" stroke-width=\"3.2\"/>\n",
       "<circle clip-path=\"url(#clip252)\" cx=\"848.932\" cy=\"1219.54\" r=\"14.4\" fill=\"#009af9\" fill-rule=\"evenodd\" fill-opacity=\"1\" stroke=\"#000000\" stroke-opacity=\"1\" stroke-width=\"3.2\"/>\n",
       "<circle clip-path=\"url(#clip252)\" cx=\"951.934\" cy=\"1326.57\" r=\"14.4\" fill=\"#009af9\" fill-rule=\"evenodd\" fill-opacity=\"1\" stroke=\"#000000\" stroke-opacity=\"1\" stroke-width=\"3.2\"/>\n",
       "<circle clip-path=\"url(#clip252)\" cx=\"1054.94\" cy=\"1391.63\" r=\"14.4\" fill=\"#009af9\" fill-rule=\"evenodd\" fill-opacity=\"1\" stroke=\"#000000\" stroke-opacity=\"1\" stroke-width=\"3.2\"/>\n",
       "<circle clip-path=\"url(#clip252)\" cx=\"1157.94\" cy=\"1445.72\" r=\"14.4\" fill=\"#009af9\" fill-rule=\"evenodd\" fill-opacity=\"1\" stroke=\"#000000\" stroke-opacity=\"1\" stroke-width=\"3.2\"/>\n",
       "<circle clip-path=\"url(#clip252)\" cx=\"1260.94\" cy=\"1298.57\" r=\"14.4\" fill=\"#009af9\" fill-rule=\"evenodd\" fill-opacity=\"1\" stroke=\"#000000\" stroke-opacity=\"1\" stroke-width=\"3.2\"/>\n",
       "<circle clip-path=\"url(#clip252)\" cx=\"1363.94\" cy=\"1362.07\" r=\"14.4\" fill=\"#009af9\" fill-rule=\"evenodd\" fill-opacity=\"1\" stroke=\"#000000\" stroke-opacity=\"1\" stroke-width=\"3.2\"/>\n",
       "<circle clip-path=\"url(#clip252)\" cx=\"1466.94\" cy=\"1235.69\" r=\"14.4\" fill=\"#009af9\" fill-rule=\"evenodd\" fill-opacity=\"1\" stroke=\"#000000\" stroke-opacity=\"1\" stroke-width=\"3.2\"/>\n",
       "<circle clip-path=\"url(#clip252)\" cx=\"1569.94\" cy=\"1065.81\" r=\"14.4\" fill=\"#009af9\" fill-rule=\"evenodd\" fill-opacity=\"1\" stroke=\"#000000\" stroke-opacity=\"1\" stroke-width=\"3.2\"/>\n",
       "<circle clip-path=\"url(#clip252)\" cx=\"1672.95\" cy=\"1009.36\" r=\"14.4\" fill=\"#009af9\" fill-rule=\"evenodd\" fill-opacity=\"1\" stroke=\"#000000\" stroke-opacity=\"1\" stroke-width=\"3.2\"/>\n",
       "<circle clip-path=\"url(#clip252)\" cx=\"1775.95\" cy=\"915.915\" r=\"14.4\" fill=\"#009af9\" fill-rule=\"evenodd\" fill-opacity=\"1\" stroke=\"#000000\" stroke-opacity=\"1\" stroke-width=\"3.2\"/>\n",
       "<circle clip-path=\"url(#clip252)\" cx=\"1878.95\" cy=\"824.868\" r=\"14.4\" fill=\"#009af9\" fill-rule=\"evenodd\" fill-opacity=\"1\" stroke=\"#000000\" stroke-opacity=\"1\" stroke-width=\"3.2\"/>\n",
       "<circle clip-path=\"url(#clip252)\" cx=\"1981.95\" cy=\"665.347\" r=\"14.4\" fill=\"#009af9\" fill-rule=\"evenodd\" fill-opacity=\"1\" stroke=\"#000000\" stroke-opacity=\"1\" stroke-width=\"3.2\"/>\n",
       "<circle clip-path=\"url(#clip252)\" cx=\"2084.95\" cy=\"459.495\" r=\"14.4\" fill=\"#009af9\" fill-rule=\"evenodd\" fill-opacity=\"1\" stroke=\"#000000\" stroke-opacity=\"1\" stroke-width=\"3.2\"/>\n",
       "<circle clip-path=\"url(#clip252)\" cx=\"2187.95\" cy=\"513.489\" r=\"14.4\" fill=\"#009af9\" fill-rule=\"evenodd\" fill-opacity=\"1\" stroke=\"#000000\" stroke-opacity=\"1\" stroke-width=\"3.2\"/>\n",
       "<circle clip-path=\"url(#clip252)\" cx=\"2290.95\" cy=\"87.9763\" r=\"14.4\" fill=\"#009af9\" fill-rule=\"evenodd\" fill-opacity=\"1\" stroke=\"#000000\" stroke-opacity=\"1\" stroke-width=\"3.2\"/>\n",
       "<polyline clip-path=\"url(#clip252)\" style=\"stroke:#e26f46; stroke-linecap:round; stroke-linejoin:round; stroke-width:4; stroke-opacity:1; fill:none\" points=\"230.922,725.59 333.924,852.891 436.926,964.28 539.927,1059.76 642.929,1139.32 745.93,1202.97 848.932,1250.71 951.934,1282.53 1054.94,1298.45 1157.94,1298.45 1260.94,1282.53 1363.94,1250.71 1466.94,1202.97 1569.94,1139.32 1672.95,1059.76 1775.95,964.28 1878.95,852.891 1981.95,725.59 2084.95,582.376 2187.95,423.25 2290.95,248.211 \"/>\n",
       "<path clip-path=\"url(#clip250)\" d=\"M241.909 250.738 L512.703 250.738 L512.703 95.2176 L241.909 95.2176  Z\" fill=\"#ffffff\" fill-rule=\"evenodd\" fill-opacity=\"1\"/>\n",
       "<polyline clip-path=\"url(#clip250)\" style=\"stroke:#000000; stroke-linecap:round; stroke-linejoin:round; stroke-width:4; stroke-opacity:1; fill:none\" points=\"241.909,250.738 512.703,250.738 512.703,95.2176 241.909,95.2176 241.909,250.738 \"/>\n",
       "<circle clip-path=\"url(#clip250)\" cx=\"338.96\" cy=\"147.058\" r=\"23.04\" fill=\"#009af9\" fill-rule=\"evenodd\" fill-opacity=\"1\" stroke=\"#000000\" stroke-opacity=\"1\" stroke-width=\"5.12\"/>\n",
       "<path clip-path=\"url(#clip250)\" d=\"M449.853 166.745 Q448.047 171.375 446.334 172.787 Q444.621 174.199 441.751 174.199 L438.348 174.199 L438.348 170.634 L440.848 170.634 Q442.607 170.634 443.579 169.8 Q444.552 168.967 445.732 165.865 L446.496 163.921 L436.01 138.412 L440.524 138.412 L448.626 158.689 L456.727 138.412 L461.241 138.412 L449.853 166.745 Z\" fill=\"#000000\" fill-rule=\"evenodd\" fill-opacity=\"1\" /><path clip-path=\"url(#clip250)\" d=\"M468.533 160.402 L476.172 160.402 L476.172 134.037 L467.862 135.703 L467.862 131.444 L476.126 129.778 L480.801 129.778 L480.801 160.402 L488.44 160.402 L488.44 164.338 L468.533 164.338 L468.533 160.402 Z\" fill=\"#000000\" fill-rule=\"evenodd\" fill-opacity=\"1\" /><polyline clip-path=\"url(#clip250)\" style=\"stroke:#e26f46; stroke-linecap:round; stroke-linejoin:round; stroke-width:4; stroke-opacity:1; fill:none\" points=\"266.172,198.898 411.747,198.898 \"/>\n",
       "<path clip-path=\"url(#clip250)\" d=\"M449.853 218.585 Q448.047 223.215 446.334 224.627 Q444.621 226.039 441.751 226.039 L438.348 226.039 L438.348 222.474 L440.848 222.474 Q442.607 222.474 443.579 221.64 Q444.552 220.807 445.732 217.705 L446.496 215.761 L436.01 190.252 L440.524 190.252 L448.626 210.529 L456.727 190.252 L461.241 190.252 L449.853 218.585 Z\" fill=\"#000000\" fill-rule=\"evenodd\" fill-opacity=\"1\" /><path clip-path=\"url(#clip250)\" d=\"M471.751 212.242 L488.07 212.242 L488.07 216.178 L466.126 216.178 L466.126 212.242 Q468.788 209.488 473.371 204.858 Q477.977 200.205 479.158 198.863 Q481.403 196.34 482.283 194.604 Q483.186 192.844 483.186 191.155 Q483.186 188.4 481.241 186.664 Q479.32 184.928 476.218 184.928 Q474.019 184.928 471.565 185.692 Q469.135 186.455 466.357 188.006 L466.357 183.284 Q469.181 182.15 471.635 181.571 Q474.088 180.993 476.126 180.993 Q481.496 180.993 484.69 183.678 Q487.885 186.363 487.885 190.854 Q487.885 192.983 487.075 194.905 Q486.287 196.803 484.181 199.395 Q483.602 200.067 480.5 203.284 Q477.399 206.479 471.751 212.242 Z\" fill=\"#000000\" fill-rule=\"evenodd\" fill-opacity=\"1\" /></svg>\n"
      ]
     },
     "execution_count": 141,
     "metadata": {},
     "output_type": "execute_result"
    }
   ],
   "source": [
    "y_true1 = x_t1 .^ 2 + 3 * x_t1 .- 2\n",
    "y_observed1 = y_true1 + rand(noise,length(x_t1))\n",
    "scatter(x_t1,y_observed1)\n",
    "plot!(x_t1,y_true1)\n",
    "#dataerr = 50\n",
    "#noise = di.Normal(0,dataerr)"
   ]
  },
  {
   "cell_type": "code",
   "execution_count": 142,
   "id": "d4ca0b36",
   "metadata": {},
   "outputs": [
    {
     "data": {
      "text/plain": [
       "21-element Vector{Float64}:\n",
       "  72.75200157991974\n",
       "  60.194574800081256\n",
       "  37.90143390885375\n",
       "  25.977367839669967\n",
       "   6.720974638171995\n",
       "   1.0212184546452772\n",
       "   5.5538305357420725\n",
       " -16.610406608114637\n",
       "  -5.972864351374216\n",
       "  -7.532177920364298\n",
       "  -1.5225267379834677\n",
       " -10.976242821602767\n",
       "  17.201902583868144\n",
       "  10.82551616175213\n",
       "  36.644865220065284\n",
       "  51.53643192480712\n",
       "  38.27753613475047\n",
       "  73.35998679693074\n",
       "  76.54094798211096\n",
       " 119.15734072221062\n",
       " 132.3841848596306"
      ]
     },
     "execution_count": 142,
     "metadata": {},
     "output_type": "execute_result"
    }
   ],
   "source": [
    "y_observed1 = y_true1 + rand(noise,length(x_t1))"
   ]
  },
  {
   "cell_type": "code",
   "execution_count": 144,
   "id": "9708dc49",
   "metadata": {},
   "outputs": [
    {
     "data": {
      "image/svg+xml": [
       "<?xml version=\"1.0\" encoding=\"utf-8\"?>\n",
       "<svg xmlns=\"http://www.w3.org/2000/svg\" xmlns:xlink=\"http://www.w3.org/1999/xlink\" width=\"600\" height=\"400\" viewBox=\"0 0 2400 1600\">\n",
       "<defs>\n",
       "  <clipPath id=\"clip330\">\n",
       "    <rect x=\"0\" y=\"0\" width=\"2400\" height=\"1600\"/>\n",
       "  </clipPath>\n",
       "</defs>\n",
       "<path clip-path=\"url(#clip330)\" d=\"M0 1600 L2400 1600 L2400 0 L0 0  Z\" fill=\"#ffffff\" fill-rule=\"evenodd\" fill-opacity=\"1\"/>\n",
       "<defs>\n",
       "  <clipPath id=\"clip331\">\n",
       "    <rect x=\"480\" y=\"0\" width=\"1681\" height=\"1600\"/>\n",
       "  </clipPath>\n",
       "</defs>\n",
       "<path clip-path=\"url(#clip330)\" d=\"M169.121 1486.45 L2352.76 1486.45 L2352.76 47.2441 L169.121 47.2441  Z\" fill=\"#ffffff\" fill-rule=\"evenodd\" fill-opacity=\"1\"/>\n",
       "<defs>\n",
       "  <clipPath id=\"clip332\">\n",
       "    <rect x=\"169\" y=\"47\" width=\"2185\" height=\"1440\"/>\n",
       "  </clipPath>\n",
       "</defs>\n",
       "<polyline clip-path=\"url(#clip332)\" style=\"stroke:#000000; stroke-linecap:round; stroke-linejoin:round; stroke-width:2; stroke-opacity:0.1; fill:none\" points=\"230.922,1486.45 230.922,47.2441 \"/>\n",
       "<polyline clip-path=\"url(#clip332)\" style=\"stroke:#000000; stroke-linecap:round; stroke-linejoin:round; stroke-width:2; stroke-opacity:0.1; fill:none\" points=\"745.93,1486.45 745.93,47.2441 \"/>\n",
       "<polyline clip-path=\"url(#clip332)\" style=\"stroke:#000000; stroke-linecap:round; stroke-linejoin:round; stroke-width:2; stroke-opacity:0.1; fill:none\" points=\"1260.94,1486.45 1260.94,47.2441 \"/>\n",
       "<polyline clip-path=\"url(#clip332)\" style=\"stroke:#000000; stroke-linecap:round; stroke-linejoin:round; stroke-width:2; stroke-opacity:0.1; fill:none\" points=\"1775.95,1486.45 1775.95,47.2441 \"/>\n",
       "<polyline clip-path=\"url(#clip332)\" style=\"stroke:#000000; stroke-linecap:round; stroke-linejoin:round; stroke-width:2; stroke-opacity:0.1; fill:none\" points=\"2290.95,1486.45 2290.95,47.2441 \"/>\n",
       "<polyline clip-path=\"url(#clip330)\" style=\"stroke:#000000; stroke-linecap:round; stroke-linejoin:round; stroke-width:4; stroke-opacity:1; fill:none\" points=\"169.121,1486.45 2352.76,1486.45 \"/>\n",
       "<polyline clip-path=\"url(#clip330)\" style=\"stroke:#000000; stroke-linecap:round; stroke-linejoin:round; stroke-width:4; stroke-opacity:1; fill:none\" points=\"230.922,1486.45 230.922,1467.55 \"/>\n",
       "<polyline clip-path=\"url(#clip330)\" style=\"stroke:#000000; stroke-linecap:round; stroke-linejoin:round; stroke-width:4; stroke-opacity:1; fill:none\" points=\"745.93,1486.45 745.93,1467.55 \"/>\n",
       "<polyline clip-path=\"url(#clip330)\" style=\"stroke:#000000; stroke-linecap:round; stroke-linejoin:round; stroke-width:4; stroke-opacity:1; fill:none\" points=\"1260.94,1486.45 1260.94,1467.55 \"/>\n",
       "<polyline clip-path=\"url(#clip330)\" style=\"stroke:#000000; stroke-linecap:round; stroke-linejoin:round; stroke-width:4; stroke-opacity:1; fill:none\" points=\"1775.95,1486.45 1775.95,1467.55 \"/>\n",
       "<polyline clip-path=\"url(#clip330)\" style=\"stroke:#000000; stroke-linecap:round; stroke-linejoin:round; stroke-width:4; stroke-opacity:1; fill:none\" points=\"2290.95,1486.45 2290.95,1467.55 \"/>\n",
       "<path clip-path=\"url(#clip330)\" d=\"M184.985 1532.02 L214.661 1532.02 L214.661 1535.95 L184.985 1535.95 L184.985 1532.02 Z\" fill=\"#000000\" fill-rule=\"evenodd\" fill-opacity=\"1\" /><path clip-path=\"url(#clip330)\" d=\"M225.564 1544.91 L233.202 1544.91 L233.202 1518.55 L224.892 1520.21 L224.892 1515.95 L233.156 1514.29 L237.832 1514.29 L237.832 1544.91 L245.471 1544.91 L245.471 1548.85 L225.564 1548.85 L225.564 1544.91 Z\" fill=\"#000000\" fill-rule=\"evenodd\" fill-opacity=\"1\" /><path clip-path=\"url(#clip330)\" d=\"M264.915 1517.37 Q261.304 1517.37 259.475 1520.93 Q257.67 1524.47 257.67 1531.6 Q257.67 1538.71 259.475 1542.27 Q261.304 1545.82 264.915 1545.82 Q268.549 1545.82 270.355 1542.27 Q272.184 1538.71 272.184 1531.6 Q272.184 1524.47 270.355 1520.93 Q268.549 1517.37 264.915 1517.37 M264.915 1513.66 Q270.725 1513.66 273.781 1518.27 Q276.86 1522.85 276.86 1531.6 Q276.86 1540.33 273.781 1544.94 Q270.725 1549.52 264.915 1549.52 Q259.105 1549.52 256.026 1544.94 Q252.971 1540.33 252.971 1531.6 Q252.971 1522.85 256.026 1518.27 Q259.105 1513.66 264.915 1513.66 Z\" fill=\"#000000\" fill-rule=\"evenodd\" fill-opacity=\"1\" /><path clip-path=\"url(#clip330)\" d=\"M715.572 1532.02 L745.248 1532.02 L745.248 1535.95 L715.572 1535.95 L715.572 1532.02 Z\" fill=\"#000000\" fill-rule=\"evenodd\" fill-opacity=\"1\" /><path clip-path=\"url(#clip330)\" d=\"M755.386 1514.29 L773.743 1514.29 L773.743 1518.22 L759.669 1518.22 L759.669 1526.7 Q760.687 1526.35 761.706 1526.19 Q762.724 1526 763.743 1526 Q769.53 1526 772.909 1529.17 Q776.289 1532.34 776.289 1537.76 Q776.289 1543.34 772.817 1546.44 Q769.345 1549.52 763.025 1549.52 Q760.849 1549.52 758.581 1549.15 Q756.335 1548.78 753.928 1548.04 L753.928 1543.34 Q756.011 1544.47 758.234 1545.03 Q760.456 1545.58 762.933 1545.58 Q766.937 1545.58 769.275 1543.48 Q771.613 1541.37 771.613 1537.76 Q771.613 1534.15 769.275 1532.04 Q766.937 1529.94 762.933 1529.94 Q761.058 1529.94 759.183 1530.35 Q757.331 1530.77 755.386 1531.65 L755.386 1514.29 Z\" fill=\"#000000\" fill-rule=\"evenodd\" fill-opacity=\"1\" /><path clip-path=\"url(#clip330)\" d=\"M1260.94 1517.37 Q1257.33 1517.37 1255.5 1520.93 Q1253.69 1524.47 1253.69 1531.6 Q1253.69 1538.71 1255.5 1542.27 Q1257.33 1545.82 1260.94 1545.82 Q1264.57 1545.82 1266.38 1542.27 Q1268.21 1538.71 1268.21 1531.6 Q1268.21 1524.47 1266.38 1520.93 Q1264.57 1517.37 1260.94 1517.37 M1260.94 1513.66 Q1266.75 1513.66 1269.8 1518.27 Q1272.88 1522.85 1272.88 1531.6 Q1272.88 1540.33 1269.8 1544.94 Q1266.75 1549.52 1260.94 1549.52 Q1255.13 1549.52 1252.05 1544.94 Q1248.99 1540.33 1248.99 1531.6 Q1248.99 1522.85 1252.05 1518.27 Q1255.13 1513.66 1260.94 1513.66 Z\" fill=\"#000000\" fill-rule=\"evenodd\" fill-opacity=\"1\" /><path clip-path=\"url(#clip330)\" d=\"M1766.22 1514.29 L1784.58 1514.29 L1784.58 1518.22 L1770.51 1518.22 L1770.51 1526.7 Q1771.53 1526.35 1772.54 1526.19 Q1773.56 1526 1774.58 1526 Q1780.37 1526 1783.75 1529.17 Q1787.13 1532.34 1787.13 1537.76 Q1787.13 1543.34 1783.66 1546.44 Q1780.18 1549.52 1773.86 1549.52 Q1771.69 1549.52 1769.42 1549.15 Q1767.17 1548.78 1764.77 1548.04 L1764.77 1543.34 Q1766.85 1544.47 1769.07 1545.03 Q1771.29 1545.58 1773.77 1545.58 Q1777.78 1545.58 1780.11 1543.48 Q1782.45 1541.37 1782.45 1537.76 Q1782.45 1534.15 1780.11 1532.04 Q1777.78 1529.94 1773.77 1529.94 Q1771.9 1529.94 1770.02 1530.35 Q1768.17 1530.77 1766.22 1531.65 L1766.22 1514.29 Z\" fill=\"#000000\" fill-rule=\"evenodd\" fill-opacity=\"1\" /><path clip-path=\"url(#clip330)\" d=\"M2265.64 1544.91 L2273.28 1544.91 L2273.28 1518.55 L2264.97 1520.21 L2264.97 1515.95 L2273.24 1514.29 L2277.91 1514.29 L2277.91 1544.91 L2285.55 1544.91 L2285.55 1548.85 L2265.64 1548.85 L2265.64 1544.91 Z\" fill=\"#000000\" fill-rule=\"evenodd\" fill-opacity=\"1\" /><path clip-path=\"url(#clip330)\" d=\"M2304.99 1517.37 Q2301.38 1517.37 2299.55 1520.93 Q2297.75 1524.47 2297.75 1531.6 Q2297.75 1538.71 2299.55 1542.27 Q2301.38 1545.82 2304.99 1545.82 Q2308.63 1545.82 2310.43 1542.27 Q2312.26 1538.71 2312.26 1531.6 Q2312.26 1524.47 2310.43 1520.93 Q2308.63 1517.37 2304.99 1517.37 M2304.99 1513.66 Q2310.8 1513.66 2313.86 1518.27 Q2316.94 1522.85 2316.94 1531.6 Q2316.94 1540.33 2313.86 1544.94 Q2310.8 1549.52 2304.99 1549.52 Q2299.18 1549.52 2296.11 1544.94 Q2293.05 1540.33 2293.05 1531.6 Q2293.05 1522.85 2296.11 1518.27 Q2299.18 1513.66 2304.99 1513.66 Z\" fill=\"#000000\" fill-rule=\"evenodd\" fill-opacity=\"1\" /><polyline clip-path=\"url(#clip332)\" style=\"stroke:#000000; stroke-linecap:round; stroke-linejoin:round; stroke-width:2; stroke-opacity:0.1; fill:none\" points=\"169.121,1305.13 2352.76,1305.13 \"/>\n",
       "<polyline clip-path=\"url(#clip332)\" style=\"stroke:#000000; stroke-linecap:round; stroke-linejoin:round; stroke-width:2; stroke-opacity:0.1; fill:none\" points=\"169.121,1114.95 2352.76,1114.95 \"/>\n",
       "<polyline clip-path=\"url(#clip332)\" style=\"stroke:#000000; stroke-linecap:round; stroke-linejoin:round; stroke-width:2; stroke-opacity:0.1; fill:none\" points=\"169.121,924.772 2352.76,924.772 \"/>\n",
       "<polyline clip-path=\"url(#clip332)\" style=\"stroke:#000000; stroke-linecap:round; stroke-linejoin:round; stroke-width:2; stroke-opacity:0.1; fill:none\" points=\"169.121,734.591 2352.76,734.591 \"/>\n",
       "<polyline clip-path=\"url(#clip332)\" style=\"stroke:#000000; stroke-linecap:round; stroke-linejoin:round; stroke-width:2; stroke-opacity:0.1; fill:none\" points=\"169.121,544.41 2352.76,544.41 \"/>\n",
       "<polyline clip-path=\"url(#clip332)\" style=\"stroke:#000000; stroke-linecap:round; stroke-linejoin:round; stroke-width:2; stroke-opacity:0.1; fill:none\" points=\"169.121,354.229 2352.76,354.229 \"/>\n",
       "<polyline clip-path=\"url(#clip332)\" style=\"stroke:#000000; stroke-linecap:round; stroke-linejoin:round; stroke-width:2; stroke-opacity:0.1; fill:none\" points=\"169.121,164.049 2352.76,164.049 \"/>\n",
       "<polyline clip-path=\"url(#clip330)\" style=\"stroke:#000000; stroke-linecap:round; stroke-linejoin:round; stroke-width:4; stroke-opacity:1; fill:none\" points=\"169.121,1486.45 169.121,47.2441 \"/>\n",
       "<polyline clip-path=\"url(#clip330)\" style=\"stroke:#000000; stroke-linecap:round; stroke-linejoin:round; stroke-width:4; stroke-opacity:1; fill:none\" points=\"169.121,1305.13 188.019,1305.13 \"/>\n",
       "<polyline clip-path=\"url(#clip330)\" style=\"stroke:#000000; stroke-linecap:round; stroke-linejoin:round; stroke-width:4; stroke-opacity:1; fill:none\" points=\"169.121,1114.95 188.019,1114.95 \"/>\n",
       "<polyline clip-path=\"url(#clip330)\" style=\"stroke:#000000; stroke-linecap:round; stroke-linejoin:round; stroke-width:4; stroke-opacity:1; fill:none\" points=\"169.121,924.772 188.019,924.772 \"/>\n",
       "<polyline clip-path=\"url(#clip330)\" style=\"stroke:#000000; stroke-linecap:round; stroke-linejoin:round; stroke-width:4; stroke-opacity:1; fill:none\" points=\"169.121,734.591 188.019,734.591 \"/>\n",
       "<polyline clip-path=\"url(#clip330)\" style=\"stroke:#000000; stroke-linecap:round; stroke-linejoin:round; stroke-width:4; stroke-opacity:1; fill:none\" points=\"169.121,544.41 188.019,544.41 \"/>\n",
       "<polyline clip-path=\"url(#clip330)\" style=\"stroke:#000000; stroke-linecap:round; stroke-linejoin:round; stroke-width:4; stroke-opacity:1; fill:none\" points=\"169.121,354.229 188.019,354.229 \"/>\n",
       "<polyline clip-path=\"url(#clip330)\" style=\"stroke:#000000; stroke-linecap:round; stroke-linejoin:round; stroke-width:4; stroke-opacity:1; fill:none\" points=\"169.121,164.049 188.019,164.049 \"/>\n",
       "<path clip-path=\"url(#clip330)\" d=\"M121.177 1290.93 Q117.566 1290.93 115.737 1294.5 Q113.932 1298.04 113.932 1305.17 Q113.932 1312.27 115.737 1315.84 Q117.566 1319.38 121.177 1319.38 Q124.811 1319.38 126.617 1315.84 Q128.445 1312.27 128.445 1305.17 Q128.445 1298.04 126.617 1294.5 Q124.811 1290.93 121.177 1290.93 M121.177 1287.23 Q126.987 1287.23 130.043 1291.83 Q133.121 1296.42 133.121 1305.17 Q133.121 1313.89 130.043 1318.5 Q126.987 1323.08 121.177 1323.08 Q115.367 1323.08 112.288 1318.5 Q109.233 1313.89 109.233 1305.17 Q109.233 1296.42 112.288 1291.83 Q115.367 1287.23 121.177 1287.23 Z\" fill=\"#000000\" fill-rule=\"evenodd\" fill-opacity=\"1\" /><path clip-path=\"url(#clip330)\" d=\"M85.0429 1128.3 L101.362 1128.3 L101.362 1132.23 L79.4179 1132.23 L79.4179 1128.3 Q82.0799 1125.54 86.6632 1120.91 Q91.2697 1116.26 92.4502 1114.92 Q94.6956 1112.39 95.5752 1110.66 Q96.478 1108.9 96.478 1107.21 Q96.478 1104.45 94.5336 1102.72 Q92.6123 1100.98 89.5104 1100.98 Q87.3114 1100.98 84.8577 1101.75 Q82.4271 1102.51 79.6494 1104.06 L79.6494 1099.34 Q82.4734 1098.2 84.9271 1097.63 Q87.3808 1097.05 89.4178 1097.05 Q94.7882 1097.05 97.9826 1099.73 Q101.177 1102.42 101.177 1106.91 Q101.177 1109.04 100.367 1110.96 Q99.5798 1112.86 97.4734 1115.45 Q96.8947 1116.12 93.7928 1119.34 Q90.691 1122.53 85.0429 1128.3 Z\" fill=\"#000000\" fill-rule=\"evenodd\" fill-opacity=\"1\" /><path clip-path=\"url(#clip330)\" d=\"M121.177 1100.75 Q117.566 1100.75 115.737 1104.32 Q113.932 1107.86 113.932 1114.99 Q113.932 1122.09 115.737 1125.66 Q117.566 1129.2 121.177 1129.2 Q124.811 1129.2 126.617 1125.66 Q128.445 1122.09 128.445 1114.99 Q128.445 1107.86 126.617 1104.32 Q124.811 1100.75 121.177 1100.75 M121.177 1097.05 Q126.987 1097.05 130.043 1101.65 Q133.121 1106.24 133.121 1114.99 Q133.121 1123.71 130.043 1128.32 Q126.987 1132.9 121.177 1132.9 Q115.367 1132.9 112.288 1128.32 Q109.233 1123.71 109.233 1114.99 Q109.233 1106.24 112.288 1101.65 Q115.367 1097.05 121.177 1097.05 Z\" fill=\"#000000\" fill-rule=\"evenodd\" fill-opacity=\"1\" /><path clip-path=\"url(#clip330)\" d=\"M93.8623 911.566 L82.0568 930.015 L93.8623 930.015 L93.8623 911.566 M92.6354 907.492 L98.515 907.492 L98.515 930.015 L103.446 930.015 L103.446 933.904 L98.515 933.904 L98.515 942.052 L93.8623 942.052 L93.8623 933.904 L78.2605 933.904 L78.2605 929.39 L92.6354 907.492 Z\" fill=\"#000000\" fill-rule=\"evenodd\" fill-opacity=\"1\" /><path clip-path=\"url(#clip330)\" d=\"M121.177 910.57 Q117.566 910.57 115.737 914.135 Q113.932 917.677 113.932 924.806 Q113.932 931.913 115.737 935.478 Q117.566 939.019 121.177 939.019 Q124.811 939.019 126.617 935.478 Q128.445 931.913 128.445 924.806 Q128.445 917.677 126.617 914.135 Q124.811 910.57 121.177 910.57 M121.177 906.867 Q126.987 906.867 130.043 911.473 Q133.121 916.057 133.121 924.806 Q133.121 933.533 130.043 938.14 Q126.987 942.723 121.177 942.723 Q115.367 942.723 112.288 938.14 Q109.233 933.533 109.233 924.806 Q109.233 916.057 112.288 911.473 Q115.367 906.867 121.177 906.867 Z\" fill=\"#000000\" fill-rule=\"evenodd\" fill-opacity=\"1\" /><path clip-path=\"url(#clip330)\" d=\"M91.5938 732.728 Q88.4456 732.728 86.5938 734.88 Q84.7651 737.033 84.7651 740.783 Q84.7651 744.51 86.5938 746.686 Q88.4456 748.839 91.5938 748.839 Q94.7419 748.839 96.5706 746.686 Q98.4224 744.51 98.4224 740.783 Q98.4224 737.033 96.5706 734.88 Q94.7419 732.728 91.5938 732.728 M100.876 718.075 L100.876 722.334 Q99.1169 721.501 97.3113 721.061 Q95.5289 720.621 93.7697 720.621 Q89.1401 720.621 86.6864 723.746 Q84.2558 726.871 83.9086 733.191 Q85.2743 731.177 87.3345 730.112 Q89.3947 729.024 91.8715 729.024 Q97.0798 729.024 100.089 732.195 Q103.121 735.343 103.121 740.783 Q103.121 746.107 99.9733 749.325 Q96.8252 752.542 91.5938 752.542 Q85.5984 752.542 82.4271 747.959 Q79.2559 743.352 79.2559 734.626 Q79.2559 726.431 83.1447 721.57 Q87.0336 716.686 93.5845 716.686 Q95.3437 716.686 97.1261 717.033 Q98.9317 717.38 100.876 718.075 Z\" fill=\"#000000\" fill-rule=\"evenodd\" fill-opacity=\"1\" /><path clip-path=\"url(#clip330)\" d=\"M121.177 720.39 Q117.566 720.39 115.737 723.954 Q113.932 727.496 113.932 734.626 Q113.932 741.732 115.737 745.297 Q117.566 748.839 121.177 748.839 Q124.811 748.839 126.617 745.297 Q128.445 741.732 128.445 734.626 Q128.445 727.496 126.617 723.954 Q124.811 720.39 121.177 720.39 M121.177 716.686 Q126.987 716.686 130.043 721.292 Q133.121 725.876 133.121 734.626 Q133.121 743.352 130.043 747.959 Q126.987 752.542 121.177 752.542 Q115.367 752.542 112.288 747.959 Q109.233 743.352 109.233 734.626 Q109.233 725.876 112.288 721.292 Q115.367 716.686 121.177 716.686 Z\" fill=\"#000000\" fill-rule=\"evenodd\" fill-opacity=\"1\" /><path clip-path=\"url(#clip330)\" d=\"M91.0151 545.278 Q87.6817 545.278 85.7605 547.061 Q83.8623 548.843 83.8623 551.968 Q83.8623 555.093 85.7605 556.875 Q87.6817 558.658 91.0151 558.658 Q94.3484 558.658 96.2697 556.875 Q98.1909 555.07 98.1909 551.968 Q98.1909 548.843 96.2697 547.061 Q94.3715 545.278 91.0151 545.278 M86.3392 543.287 Q83.3299 542.547 81.6401 540.487 Q79.9735 538.426 79.9735 535.463 Q79.9735 531.32 82.9133 528.913 Q85.8762 526.505 91.0151 526.505 Q96.1771 526.505 99.1169 528.913 Q102.057 531.32 102.057 535.463 Q102.057 538.426 100.367 540.487 Q98.7002 542.547 95.7141 543.287 Q99.0937 544.075 100.969 546.366 Q102.867 548.658 102.867 551.968 Q102.867 556.991 99.7882 559.676 Q96.7326 562.361 91.0151 562.361 Q85.2975 562.361 82.2188 559.676 Q79.1633 556.991 79.1633 551.968 Q79.1633 548.658 81.0614 546.366 Q82.9595 544.075 86.3392 543.287 M84.6262 535.903 Q84.6262 538.588 86.2929 540.093 Q87.9827 541.598 91.0151 541.598 Q94.0243 541.598 95.7141 540.093 Q97.4271 538.588 97.4271 535.903 Q97.4271 533.218 95.7141 531.713 Q94.0243 530.209 91.0151 530.209 Q87.9827 530.209 86.2929 531.713 Q84.6262 533.218 84.6262 535.903 Z\" fill=\"#000000\" fill-rule=\"evenodd\" fill-opacity=\"1\" /><path clip-path=\"url(#clip330)\" d=\"M121.177 530.209 Q117.566 530.209 115.737 533.774 Q113.932 537.315 113.932 544.445 Q113.932 551.551 115.737 555.116 Q117.566 558.658 121.177 558.658 Q124.811 558.658 126.617 555.116 Q128.445 551.551 128.445 544.445 Q128.445 537.315 126.617 533.774 Q124.811 530.209 121.177 530.209 M121.177 526.505 Q126.987 526.505 130.043 531.112 Q133.121 535.695 133.121 544.445 Q133.121 553.172 130.043 557.778 Q126.987 562.361 121.177 562.361 Q115.367 562.361 112.288 557.778 Q109.233 553.172 109.233 544.445 Q109.233 535.695 112.288 531.112 Q115.367 526.505 121.177 526.505 Z\" fill=\"#000000\" fill-rule=\"evenodd\" fill-opacity=\"1\" /><path clip-path=\"url(#clip330)\" d=\"M51.6634 367.574 L59.3023 367.574 L59.3023 341.209 L50.9921 342.875 L50.9921 338.616 L59.256 336.949 L63.9319 336.949 L63.9319 367.574 L71.5707 367.574 L71.5707 371.509 L51.6634 371.509 L51.6634 367.574 Z\" fill=\"#000000\" fill-rule=\"evenodd\" fill-opacity=\"1\" /><path clip-path=\"url(#clip330)\" d=\"M91.0151 340.028 Q87.404 340.028 85.5753 343.593 Q83.7697 347.135 83.7697 354.264 Q83.7697 361.371 85.5753 364.935 Q87.404 368.477 91.0151 368.477 Q94.6493 368.477 96.4548 364.935 Q98.2835 361.371 98.2835 354.264 Q98.2835 347.135 96.4548 343.593 Q94.6493 340.028 91.0151 340.028 M91.0151 336.324 Q96.8252 336.324 99.8808 340.931 Q102.959 345.514 102.959 354.264 Q102.959 362.991 99.8808 367.597 Q96.8252 372.181 91.0151 372.181 Q85.2049 372.181 82.1262 367.597 Q79.0707 362.991 79.0707 354.264 Q79.0707 345.514 82.1262 340.931 Q85.2049 336.324 91.0151 336.324 Z\" fill=\"#000000\" fill-rule=\"evenodd\" fill-opacity=\"1\" /><path clip-path=\"url(#clip330)\" d=\"M121.177 340.028 Q117.566 340.028 115.737 343.593 Q113.932 347.135 113.932 354.264 Q113.932 361.371 115.737 364.935 Q117.566 368.477 121.177 368.477 Q124.811 368.477 126.617 364.935 Q128.445 361.371 128.445 354.264 Q128.445 347.135 126.617 343.593 Q124.811 340.028 121.177 340.028 M121.177 336.324 Q126.987 336.324 130.043 340.931 Q133.121 345.514 133.121 354.264 Q133.121 362.991 130.043 367.597 Q126.987 372.181 121.177 372.181 Q115.367 372.181 112.288 367.597 Q109.233 362.991 109.233 354.264 Q109.233 345.514 112.288 340.931 Q115.367 336.324 121.177 336.324 Z\" fill=\"#000000\" fill-rule=\"evenodd\" fill-opacity=\"1\" /><path clip-path=\"url(#clip330)\" d=\"M51.6634 177.393 L59.3023 177.393 L59.3023 151.028 L50.9921 152.694 L50.9921 148.435 L59.256 146.769 L63.9319 146.769 L63.9319 177.393 L71.5707 177.393 L71.5707 181.329 L51.6634 181.329 L51.6634 177.393 Z\" fill=\"#000000\" fill-rule=\"evenodd\" fill-opacity=\"1\" /><path clip-path=\"url(#clip330)\" d=\"M85.0429 177.393 L101.362 177.393 L101.362 181.329 L79.4179 181.329 L79.4179 177.393 Q82.0799 174.639 86.6632 170.009 Q91.2697 165.356 92.4502 164.014 Q94.6956 161.491 95.5752 159.755 Q96.478 157.995 96.478 156.306 Q96.478 153.551 94.5336 151.815 Q92.6123 150.079 89.5104 150.079 Q87.3114 150.079 84.8577 150.843 Q82.4271 151.607 79.6494 153.157 L79.6494 148.435 Q82.4734 147.301 84.9271 146.722 Q87.3808 146.144 89.4178 146.144 Q94.7882 146.144 97.9826 148.829 Q101.177 151.514 101.177 156.005 Q101.177 158.134 100.367 160.056 Q99.5798 161.954 97.4734 164.546 Q96.8947 165.218 93.7928 168.435 Q90.691 171.63 85.0429 177.393 Z\" fill=\"#000000\" fill-rule=\"evenodd\" fill-opacity=\"1\" /><path clip-path=\"url(#clip330)\" d=\"M121.177 149.847 Q117.566 149.847 115.737 153.412 Q113.932 156.954 113.932 164.083 Q113.932 171.19 115.737 174.755 Q117.566 178.296 121.177 178.296 Q124.811 178.296 126.617 174.755 Q128.445 171.19 128.445 164.083 Q128.445 156.954 126.617 153.412 Q124.811 149.847 121.177 149.847 M121.177 146.144 Q126.987 146.144 130.043 150.75 Q133.121 155.333 133.121 164.083 Q133.121 172.81 130.043 177.417 Q126.987 182 121.177 182 Q115.367 182 112.288 177.417 Q109.233 172.81 109.233 164.083 Q109.233 155.333 112.288 150.75 Q115.367 146.144 121.177 146.144 Z\" fill=\"#000000\" fill-rule=\"evenodd\" fill-opacity=\"1\" /><circle clip-path=\"url(#clip332)\" cx=\"230.922\" cy=\"740.329\" r=\"14.4\" fill=\"#009af9\" fill-rule=\"evenodd\" fill-opacity=\"1\" stroke=\"#000000\" stroke-opacity=\"1\" stroke-width=\"3.2\"/>\n",
       "<circle clip-path=\"url(#clip332)\" cx=\"333.924\" cy=\"644.663\" r=\"14.4\" fill=\"#009af9\" fill-rule=\"evenodd\" fill-opacity=\"1\" stroke=\"#000000\" stroke-opacity=\"1\" stroke-width=\"3.2\"/>\n",
       "<circle clip-path=\"url(#clip332)\" cx=\"436.926\" cy=\"1052.59\" r=\"14.4\" fill=\"#009af9\" fill-rule=\"evenodd\" fill-opacity=\"1\" stroke=\"#000000\" stroke-opacity=\"1\" stroke-width=\"3.2\"/>\n",
       "<circle clip-path=\"url(#clip332)\" cx=\"539.927\" cy=\"885.292\" r=\"14.4\" fill=\"#009af9\" fill-rule=\"evenodd\" fill-opacity=\"1\" stroke=\"#000000\" stroke-opacity=\"1\" stroke-width=\"3.2\"/>\n",
       "<circle clip-path=\"url(#clip332)\" cx=\"642.929\" cy=\"1148.22\" r=\"14.4\" fill=\"#009af9\" fill-rule=\"evenodd\" fill-opacity=\"1\" stroke=\"#000000\" stroke-opacity=\"1\" stroke-width=\"3.2\"/>\n",
       "<circle clip-path=\"url(#clip332)\" cx=\"745.93\" cy=\"1055.33\" r=\"14.4\" fill=\"#009af9\" fill-rule=\"evenodd\" fill-opacity=\"1\" stroke=\"#000000\" stroke-opacity=\"1\" stroke-width=\"3.2\"/>\n",
       "<circle clip-path=\"url(#clip332)\" cx=\"848.932\" cy=\"1336.43\" r=\"14.4\" fill=\"#009af9\" fill-rule=\"evenodd\" fill-opacity=\"1\" stroke=\"#000000\" stroke-opacity=\"1\" stroke-width=\"3.2\"/>\n",
       "<circle clip-path=\"url(#clip332)\" cx=\"951.934\" cy=\"1369.68\" r=\"14.4\" fill=\"#009af9\" fill-rule=\"evenodd\" fill-opacity=\"1\" stroke=\"#000000\" stroke-opacity=\"1\" stroke-width=\"3.2\"/>\n",
       "<circle clip-path=\"url(#clip332)\" cx=\"1054.94\" cy=\"1255.03\" r=\"14.4\" fill=\"#009af9\" fill-rule=\"evenodd\" fill-opacity=\"1\" stroke=\"#000000\" stroke-opacity=\"1\" stroke-width=\"3.2\"/>\n",
       "<circle clip-path=\"url(#clip332)\" cx=\"1157.94\" cy=\"1396.4\" r=\"14.4\" fill=\"#009af9\" fill-rule=\"evenodd\" fill-opacity=\"1\" stroke=\"#000000\" stroke-opacity=\"1\" stroke-width=\"3.2\"/>\n",
       "<circle clip-path=\"url(#clip332)\" cx=\"1260.94\" cy=\"1445.72\" r=\"14.4\" fill=\"#009af9\" fill-rule=\"evenodd\" fill-opacity=\"1\" stroke=\"#000000\" stroke-opacity=\"1\" stroke-width=\"3.2\"/>\n",
       "<circle clip-path=\"url(#clip332)\" cx=\"1363.94\" cy=\"1248.85\" r=\"14.4\" fill=\"#009af9\" fill-rule=\"evenodd\" fill-opacity=\"1\" stroke=\"#000000\" stroke-opacity=\"1\" stroke-width=\"3.2\"/>\n",
       "<circle clip-path=\"url(#clip332)\" cx=\"1466.94\" cy=\"1247.59\" r=\"14.4\" fill=\"#009af9\" fill-rule=\"evenodd\" fill-opacity=\"1\" stroke=\"#000000\" stroke-opacity=\"1\" stroke-width=\"3.2\"/>\n",
       "<circle clip-path=\"url(#clip332)\" cx=\"1569.94\" cy=\"1250.76\" r=\"14.4\" fill=\"#009af9\" fill-rule=\"evenodd\" fill-opacity=\"1\" stroke=\"#000000\" stroke-opacity=\"1\" stroke-width=\"3.2\"/>\n",
       "<circle clip-path=\"url(#clip332)\" cx=\"1672.95\" cy=\"1068.22\" r=\"14.4\" fill=\"#009af9\" fill-rule=\"evenodd\" fill-opacity=\"1\" stroke=\"#000000\" stroke-opacity=\"1\" stroke-width=\"3.2\"/>\n",
       "<circle clip-path=\"url(#clip332)\" cx=\"1775.95\" cy=\"878.134\" r=\"14.4\" fill=\"#009af9\" fill-rule=\"evenodd\" fill-opacity=\"1\" stroke=\"#000000\" stroke-opacity=\"1\" stroke-width=\"3.2\"/>\n",
       "<circle clip-path=\"url(#clip332)\" cx=\"1878.95\" cy=\"755.927\" r=\"14.4\" fill=\"#009af9\" fill-rule=\"evenodd\" fill-opacity=\"1\" stroke=\"#000000\" stroke-opacity=\"1\" stroke-width=\"3.2\"/>\n",
       "<circle clip-path=\"url(#clip332)\" cx=\"1981.95\" cy=\"556.058\" r=\"14.4\" fill=\"#009af9\" fill-rule=\"evenodd\" fill-opacity=\"1\" stroke=\"#000000\" stroke-opacity=\"1\" stroke-width=\"3.2\"/>\n",
       "<circle clip-path=\"url(#clip332)\" cx=\"2084.95\" cy=\"616.52\" r=\"14.4\" fill=\"#009af9\" fill-rule=\"evenodd\" fill-opacity=\"1\" stroke=\"#000000\" stroke-opacity=\"1\" stroke-width=\"3.2\"/>\n",
       "<circle clip-path=\"url(#clip332)\" cx=\"2187.95\" cy=\"347.542\" r=\"14.4\" fill=\"#009af9\" fill-rule=\"evenodd\" fill-opacity=\"1\" stroke=\"#000000\" stroke-opacity=\"1\" stroke-width=\"3.2\"/>\n",
       "<circle clip-path=\"url(#clip332)\" cx=\"2290.95\" cy=\"297.335\" r=\"14.4\" fill=\"#009af9\" fill-rule=\"evenodd\" fill-opacity=\"1\" stroke=\"#000000\" stroke-opacity=\"1\" stroke-width=\"3.2\"/>\n",
       "<polyline clip-path=\"url(#clip332)\" style=\"stroke:#e26f46; stroke-linecap:round; stroke-linejoin:round; stroke-width:4; stroke-opacity:1; fill:none\" points=\"230.922,658.519 333.924,810.663 436.926,943.79 539.927,1057.9 642.929,1152.99 745.93,1229.06 848.932,1286.12 951.934,1324.15 1054.94,1343.17 1157.94,1343.17 1260.94,1324.15 1363.94,1286.12 1466.94,1229.06 1569.94,1152.99 1672.95,1057.9 1775.95,943.79 1878.95,810.663 1981.95,658.519 2084.95,487.356 2187.95,297.175 2290.95,87.9763 \"/>\n",
       "<path clip-path=\"url(#clip330)\" d=\"M241.909 250.738 L512.703 250.738 L512.703 95.2176 L241.909 95.2176  Z\" fill=\"#ffffff\" fill-rule=\"evenodd\" fill-opacity=\"1\"/>\n",
       "<polyline clip-path=\"url(#clip330)\" style=\"stroke:#000000; stroke-linecap:round; stroke-linejoin:round; stroke-width:4; stroke-opacity:1; fill:none\" points=\"241.909,250.738 512.703,250.738 512.703,95.2176 241.909,95.2176 241.909,250.738 \"/>\n",
       "<circle clip-path=\"url(#clip330)\" cx=\"338.96\" cy=\"147.058\" r=\"23.04\" fill=\"#009af9\" fill-rule=\"evenodd\" fill-opacity=\"1\" stroke=\"#000000\" stroke-opacity=\"1\" stroke-width=\"5.12\"/>\n",
       "<path clip-path=\"url(#clip330)\" d=\"M449.853 166.745 Q448.047 171.375 446.334 172.787 Q444.621 174.199 441.751 174.199 L438.348 174.199 L438.348 170.634 L440.848 170.634 Q442.607 170.634 443.579 169.8 Q444.552 168.967 445.732 165.865 L446.496 163.921 L436.01 138.412 L440.524 138.412 L448.626 158.689 L456.727 138.412 L461.241 138.412 L449.853 166.745 Z\" fill=\"#000000\" fill-rule=\"evenodd\" fill-opacity=\"1\" /><path clip-path=\"url(#clip330)\" d=\"M468.533 160.402 L476.172 160.402 L476.172 134.037 L467.862 135.703 L467.862 131.444 L476.126 129.778 L480.801 129.778 L480.801 160.402 L488.44 160.402 L488.44 164.338 L468.533 164.338 L468.533 160.402 Z\" fill=\"#000000\" fill-rule=\"evenodd\" fill-opacity=\"1\" /><polyline clip-path=\"url(#clip330)\" style=\"stroke:#e26f46; stroke-linecap:round; stroke-linejoin:round; stroke-width:4; stroke-opacity:1; fill:none\" points=\"266.172,198.898 411.747,198.898 \"/>\n",
       "<path clip-path=\"url(#clip330)\" d=\"M449.853 218.585 Q448.047 223.215 446.334 224.627 Q444.621 226.039 441.751 226.039 L438.348 226.039 L438.348 222.474 L440.848 222.474 Q442.607 222.474 443.579 221.64 Q444.552 220.807 445.732 217.705 L446.496 215.761 L436.01 190.252 L440.524 190.252 L448.626 210.529 L456.727 190.252 L461.241 190.252 L449.853 218.585 Z\" fill=\"#000000\" fill-rule=\"evenodd\" fill-opacity=\"1\" /><path clip-path=\"url(#clip330)\" d=\"M471.751 212.242 L488.07 212.242 L488.07 216.178 L466.126 216.178 L466.126 212.242 Q468.788 209.488 473.371 204.858 Q477.977 200.205 479.158 198.863 Q481.403 196.34 482.283 194.604 Q483.186 192.844 483.186 191.155 Q483.186 188.4 481.241 186.664 Q479.32 184.928 476.218 184.928 Q474.019 184.928 471.565 185.692 Q469.135 186.455 466.357 188.006 L466.357 183.284 Q469.181 182.15 471.635 181.571 Q474.088 180.993 476.126 180.993 Q481.496 180.993 484.69 183.678 Q487.885 186.363 487.885 190.854 Q487.885 192.983 487.075 194.905 Q486.287 196.803 484.181 199.395 Q483.602 200.067 480.5 203.284 Q477.399 206.479 471.751 212.242 Z\" fill=\"#000000\" fill-rule=\"evenodd\" fill-opacity=\"1\" /></svg>\n"
      ]
     },
     "execution_count": 144,
     "metadata": {},
     "output_type": "execute_result"
    }
   ],
   "source": [
    "y_observed1 = y_true1 + rand(noise,length(x_t1))\n",
    "y_true1 = x_t1 .^ 2 + 3 * x_t1 .- 2\n",
    "scatter(x_t1,y_observed1)\n",
    "plot!(x_t1,y_true1)"
   ]
  },
  {
   "cell_type": "code",
   "execution_count": 116,
   "id": "1ffaaacf",
   "metadata": {},
   "outputs": [
    {
     "data": {
      "text/html": [
       "&#45;2 &#43; 3&#8729;x &#43; x<sup>2</sup>"
      ],
      "text/latex": [
       "$-2 + 3\\cdot x + x^{2}$"
      ],
      "text/plain": [
       "Polynomial(-2 + 3*x + x^2)"
      ]
     },
     "execution_count": 116,
     "metadata": {},
     "output_type": "execute_result"
    }
   ],
   "source": [
    "Polynomial([-2,3,1])"
   ]
  },
  {
   "cell_type": "code",
   "execution_count": 145,
   "id": "5a042aa7",
   "metadata": {},
   "outputs": [
    {
     "data": {
      "text/html": [
       "&#45;0.6175406815908698 &#43; 2.4213513129762068&#8729;x &#43; 0.9470825037527592&#8729;x<sup>2</sup>"
      ],
      "text/latex": [
       "$-0.6175406815908698 + 2.4213513129762068\\cdot x + 0.9470825037527592\\cdot x^{2}$"
      ],
      "text/plain": [
       "Polynomial(-0.6175406815908698 + 2.4213513129762068*x + 0.9470825037527592*x^2)"
      ]
     },
     "execution_count": 145,
     "metadata": {},
     "output_type": "execute_result"
    }
   ],
   "source": [
    "line_fit1 = fit(x_t1,y_observed1,2)"
   ]
  },
  {
   "cell_type": "code",
   "execution_count": 118,
   "id": "5b4086fc",
   "metadata": {},
   "outputs": [
    {
     "data": {
      "text/plain": [
       "Polynomial{Float64, :x}"
      ]
     },
     "execution_count": 118,
     "metadata": {},
     "output_type": "execute_result"
    }
   ],
   "source": [
    "typeof(line_fit1)"
   ]
  },
  {
   "cell_type": "code",
   "execution_count": 119,
   "id": "67ab68b6",
   "metadata": {},
   "outputs": [
    {
     "data": {
      "text/plain": [
       "3-element Vector{Float64}:\n",
       " -6.480701008098128\n",
       "  1.2964034017427843\n",
       "  1.2694351465360585"
      ]
     },
     "execution_count": 119,
     "metadata": {},
     "output_type": "execute_result"
    }
   ],
   "source": [
    "fit_coeff1 = coeffs(line_fit1)"
   ]
  },
  {
   "cell_type": "code",
   "execution_count": 146,
   "id": "e59a2be2",
   "metadata": {},
   "outputs": [
    {
     "data": {
      "text/plain": [
       "21-element Vector{Float64}:\n",
       " 107.49877962807987\n",
       "  84.67591524563754\n",
       "  64.39192115626734\n",
       "  46.64679735996925\n",
       "  31.44054385674327\n",
       "  18.77316064658941\n",
       "   8.64464772950767\n",
       "   1.0550051054980436\n",
       "  -3.9957672254394634\n",
       "  -6.507669263304854\n",
       "  -6.480701008098128\n",
       "  -3.914862459819285\n",
       "   1.189846381531673\n",
       "   8.833425515954751\n",
       "  19.015874943449944\n",
       "  31.737194664017256\n",
       "  46.99738467765668\n",
       "  64.79644498436824\n",
       "  85.13437558415188\n",
       " 108.01117647700767\n",
       " 133.42684766293556"
      ]
     },
     "execution_count": 146,
     "metadata": {},
     "output_type": "execute_result"
    }
   ],
   "source": [
    "y_fitted1 = fit_coeff1[1] .+ (fit_coeff1[2] .* (x_t1)) .+ ((fit_coeff1[3]) .* (x_t1.^2))"
   ]
  },
  {
   "cell_type": "code",
   "execution_count": 147,
   "id": "79948c73",
   "metadata": {},
   "outputs": [
    {
     "data": {
      "image/svg+xml": [
       "<?xml version=\"1.0\" encoding=\"utf-8\"?>\n",
       "<svg xmlns=\"http://www.w3.org/2000/svg\" xmlns:xlink=\"http://www.w3.org/1999/xlink\" width=\"600\" height=\"400\" viewBox=\"0 0 2400 1600\">\n",
       "<defs>\n",
       "  <clipPath id=\"clip370\">\n",
       "    <rect x=\"0\" y=\"0\" width=\"2400\" height=\"1600\"/>\n",
       "  </clipPath>\n",
       "</defs>\n",
       "<path clip-path=\"url(#clip370)\" d=\"M0 1600 L2400 1600 L2400 0 L0 0  Z\" fill=\"#ffffff\" fill-rule=\"evenodd\" fill-opacity=\"1\"/>\n",
       "<defs>\n",
       "  <clipPath id=\"clip371\">\n",
       "    <rect x=\"480\" y=\"0\" width=\"1681\" height=\"1600\"/>\n",
       "  </clipPath>\n",
       "</defs>\n",
       "<path clip-path=\"url(#clip370)\" d=\"M169.121 1486.45 L2352.76 1486.45 L2352.76 47.2441 L169.121 47.2441  Z\" fill=\"#ffffff\" fill-rule=\"evenodd\" fill-opacity=\"1\"/>\n",
       "<defs>\n",
       "  <clipPath id=\"clip372\">\n",
       "    <rect x=\"169\" y=\"47\" width=\"2185\" height=\"1440\"/>\n",
       "  </clipPath>\n",
       "</defs>\n",
       "<polyline clip-path=\"url(#clip372)\" style=\"stroke:#000000; stroke-linecap:round; stroke-linejoin:round; stroke-width:2; stroke-opacity:0.1; fill:none\" points=\"230.922,1486.45 230.922,47.2441 \"/>\n",
       "<polyline clip-path=\"url(#clip372)\" style=\"stroke:#000000; stroke-linecap:round; stroke-linejoin:round; stroke-width:2; stroke-opacity:0.1; fill:none\" points=\"745.93,1486.45 745.93,47.2441 \"/>\n",
       "<polyline clip-path=\"url(#clip372)\" style=\"stroke:#000000; stroke-linecap:round; stroke-linejoin:round; stroke-width:2; stroke-opacity:0.1; fill:none\" points=\"1260.94,1486.45 1260.94,47.2441 \"/>\n",
       "<polyline clip-path=\"url(#clip372)\" style=\"stroke:#000000; stroke-linecap:round; stroke-linejoin:round; stroke-width:2; stroke-opacity:0.1; fill:none\" points=\"1775.95,1486.45 1775.95,47.2441 \"/>\n",
       "<polyline clip-path=\"url(#clip372)\" style=\"stroke:#000000; stroke-linecap:round; stroke-linejoin:round; stroke-width:2; stroke-opacity:0.1; fill:none\" points=\"2290.95,1486.45 2290.95,47.2441 \"/>\n",
       "<polyline clip-path=\"url(#clip370)\" style=\"stroke:#000000; stroke-linecap:round; stroke-linejoin:round; stroke-width:4; stroke-opacity:1; fill:none\" points=\"169.121,1486.45 2352.76,1486.45 \"/>\n",
       "<polyline clip-path=\"url(#clip370)\" style=\"stroke:#000000; stroke-linecap:round; stroke-linejoin:round; stroke-width:4; stroke-opacity:1; fill:none\" points=\"230.922,1486.45 230.922,1467.55 \"/>\n",
       "<polyline clip-path=\"url(#clip370)\" style=\"stroke:#000000; stroke-linecap:round; stroke-linejoin:round; stroke-width:4; stroke-opacity:1; fill:none\" points=\"745.93,1486.45 745.93,1467.55 \"/>\n",
       "<polyline clip-path=\"url(#clip370)\" style=\"stroke:#000000; stroke-linecap:round; stroke-linejoin:round; stroke-width:4; stroke-opacity:1; fill:none\" points=\"1260.94,1486.45 1260.94,1467.55 \"/>\n",
       "<polyline clip-path=\"url(#clip370)\" style=\"stroke:#000000; stroke-linecap:round; stroke-linejoin:round; stroke-width:4; stroke-opacity:1; fill:none\" points=\"1775.95,1486.45 1775.95,1467.55 \"/>\n",
       "<polyline clip-path=\"url(#clip370)\" style=\"stroke:#000000; stroke-linecap:round; stroke-linejoin:round; stroke-width:4; stroke-opacity:1; fill:none\" points=\"2290.95,1486.45 2290.95,1467.55 \"/>\n",
       "<path clip-path=\"url(#clip370)\" d=\"M184.985 1532.02 L214.661 1532.02 L214.661 1535.95 L184.985 1535.95 L184.985 1532.02 Z\" fill=\"#000000\" fill-rule=\"evenodd\" fill-opacity=\"1\" /><path clip-path=\"url(#clip370)\" d=\"M225.564 1544.91 L233.202 1544.91 L233.202 1518.55 L224.892 1520.21 L224.892 1515.95 L233.156 1514.29 L237.832 1514.29 L237.832 1544.91 L245.471 1544.91 L245.471 1548.85 L225.564 1548.85 L225.564 1544.91 Z\" fill=\"#000000\" fill-rule=\"evenodd\" fill-opacity=\"1\" /><path clip-path=\"url(#clip370)\" d=\"M264.915 1517.37 Q261.304 1517.37 259.475 1520.93 Q257.67 1524.47 257.67 1531.6 Q257.67 1538.71 259.475 1542.27 Q261.304 1545.82 264.915 1545.82 Q268.549 1545.82 270.355 1542.27 Q272.184 1538.71 272.184 1531.6 Q272.184 1524.47 270.355 1520.93 Q268.549 1517.37 264.915 1517.37 M264.915 1513.66 Q270.725 1513.66 273.781 1518.27 Q276.86 1522.85 276.86 1531.6 Q276.86 1540.33 273.781 1544.94 Q270.725 1549.52 264.915 1549.52 Q259.105 1549.52 256.026 1544.94 Q252.971 1540.33 252.971 1531.6 Q252.971 1522.85 256.026 1518.27 Q259.105 1513.66 264.915 1513.66 Z\" fill=\"#000000\" fill-rule=\"evenodd\" fill-opacity=\"1\" /><path clip-path=\"url(#clip370)\" d=\"M715.572 1532.02 L745.248 1532.02 L745.248 1535.95 L715.572 1535.95 L715.572 1532.02 Z\" fill=\"#000000\" fill-rule=\"evenodd\" fill-opacity=\"1\" /><path clip-path=\"url(#clip370)\" d=\"M755.386 1514.29 L773.743 1514.29 L773.743 1518.22 L759.669 1518.22 L759.669 1526.7 Q760.687 1526.35 761.706 1526.19 Q762.724 1526 763.743 1526 Q769.53 1526 772.909 1529.17 Q776.289 1532.34 776.289 1537.76 Q776.289 1543.34 772.817 1546.44 Q769.345 1549.52 763.025 1549.52 Q760.849 1549.52 758.581 1549.15 Q756.335 1548.78 753.928 1548.04 L753.928 1543.34 Q756.011 1544.47 758.234 1545.03 Q760.456 1545.58 762.933 1545.58 Q766.937 1545.58 769.275 1543.48 Q771.613 1541.37 771.613 1537.76 Q771.613 1534.15 769.275 1532.04 Q766.937 1529.94 762.933 1529.94 Q761.058 1529.94 759.183 1530.35 Q757.331 1530.77 755.386 1531.65 L755.386 1514.29 Z\" fill=\"#000000\" fill-rule=\"evenodd\" fill-opacity=\"1\" /><path clip-path=\"url(#clip370)\" d=\"M1260.94 1517.37 Q1257.33 1517.37 1255.5 1520.93 Q1253.69 1524.47 1253.69 1531.6 Q1253.69 1538.71 1255.5 1542.27 Q1257.33 1545.82 1260.94 1545.82 Q1264.57 1545.82 1266.38 1542.27 Q1268.21 1538.71 1268.21 1531.6 Q1268.21 1524.47 1266.38 1520.93 Q1264.57 1517.37 1260.94 1517.37 M1260.94 1513.66 Q1266.75 1513.66 1269.8 1518.27 Q1272.88 1522.85 1272.88 1531.6 Q1272.88 1540.33 1269.8 1544.94 Q1266.75 1549.52 1260.94 1549.52 Q1255.13 1549.52 1252.05 1544.94 Q1248.99 1540.33 1248.99 1531.6 Q1248.99 1522.85 1252.05 1518.27 Q1255.13 1513.66 1260.94 1513.66 Z\" fill=\"#000000\" fill-rule=\"evenodd\" fill-opacity=\"1\" /><path clip-path=\"url(#clip370)\" d=\"M1766.22 1514.29 L1784.58 1514.29 L1784.58 1518.22 L1770.51 1518.22 L1770.51 1526.7 Q1771.53 1526.35 1772.54 1526.19 Q1773.56 1526 1774.58 1526 Q1780.37 1526 1783.75 1529.17 Q1787.13 1532.34 1787.13 1537.76 Q1787.13 1543.34 1783.66 1546.44 Q1780.18 1549.52 1773.86 1549.52 Q1771.69 1549.52 1769.42 1549.15 Q1767.17 1548.78 1764.77 1548.04 L1764.77 1543.34 Q1766.85 1544.47 1769.07 1545.03 Q1771.29 1545.58 1773.77 1545.58 Q1777.78 1545.58 1780.11 1543.48 Q1782.45 1541.37 1782.45 1537.76 Q1782.45 1534.15 1780.11 1532.04 Q1777.78 1529.94 1773.77 1529.94 Q1771.9 1529.94 1770.02 1530.35 Q1768.17 1530.77 1766.22 1531.65 L1766.22 1514.29 Z\" fill=\"#000000\" fill-rule=\"evenodd\" fill-opacity=\"1\" /><path clip-path=\"url(#clip370)\" d=\"M2265.64 1544.91 L2273.28 1544.91 L2273.28 1518.55 L2264.97 1520.21 L2264.97 1515.95 L2273.24 1514.29 L2277.91 1514.29 L2277.91 1544.91 L2285.55 1544.91 L2285.55 1548.85 L2265.64 1548.85 L2265.64 1544.91 Z\" fill=\"#000000\" fill-rule=\"evenodd\" fill-opacity=\"1\" /><path clip-path=\"url(#clip370)\" d=\"M2304.99 1517.37 Q2301.38 1517.37 2299.55 1520.93 Q2297.75 1524.47 2297.75 1531.6 Q2297.75 1538.71 2299.55 1542.27 Q2301.38 1545.82 2304.99 1545.82 Q2308.63 1545.82 2310.43 1542.27 Q2312.26 1538.71 2312.26 1531.6 Q2312.26 1524.47 2310.43 1520.93 Q2308.63 1517.37 2304.99 1517.37 M2304.99 1513.66 Q2310.8 1513.66 2313.86 1518.27 Q2316.94 1522.85 2316.94 1531.6 Q2316.94 1540.33 2313.86 1544.94 Q2310.8 1549.52 2304.99 1549.52 Q2299.18 1549.52 2296.11 1544.94 Q2293.05 1540.33 2293.05 1531.6 Q2293.05 1522.85 2296.11 1518.27 Q2299.18 1513.66 2304.99 1513.66 Z\" fill=\"#000000\" fill-rule=\"evenodd\" fill-opacity=\"1\" /><polyline clip-path=\"url(#clip372)\" style=\"stroke:#000000; stroke-linecap:round; stroke-linejoin:round; stroke-width:2; stroke-opacity:0.1; fill:none\" points=\"169.121,1310.28 2352.76,1310.28 \"/>\n",
       "<polyline clip-path=\"url(#clip372)\" style=\"stroke:#000000; stroke-linecap:round; stroke-linejoin:round; stroke-width:2; stroke-opacity:0.1; fill:none\" points=\"169.121,1127.06 2352.76,1127.06 \"/>\n",
       "<polyline clip-path=\"url(#clip372)\" style=\"stroke:#000000; stroke-linecap:round; stroke-linejoin:round; stroke-width:2; stroke-opacity:0.1; fill:none\" points=\"169.121,943.846 2352.76,943.846 \"/>\n",
       "<polyline clip-path=\"url(#clip372)\" style=\"stroke:#000000; stroke-linecap:round; stroke-linejoin:round; stroke-width:2; stroke-opacity:0.1; fill:none\" points=\"169.121,760.629 2352.76,760.629 \"/>\n",
       "<polyline clip-path=\"url(#clip372)\" style=\"stroke:#000000; stroke-linecap:round; stroke-linejoin:round; stroke-width:2; stroke-opacity:0.1; fill:none\" points=\"169.121,577.412 2352.76,577.412 \"/>\n",
       "<polyline clip-path=\"url(#clip372)\" style=\"stroke:#000000; stroke-linecap:round; stroke-linejoin:round; stroke-width:2; stroke-opacity:0.1; fill:none\" points=\"169.121,394.195 2352.76,394.195 \"/>\n",
       "<polyline clip-path=\"url(#clip372)\" style=\"stroke:#000000; stroke-linecap:round; stroke-linejoin:round; stroke-width:2; stroke-opacity:0.1; fill:none\" points=\"169.121,210.978 2352.76,210.978 \"/>\n",
       "<polyline clip-path=\"url(#clip370)\" style=\"stroke:#000000; stroke-linecap:round; stroke-linejoin:round; stroke-width:4; stroke-opacity:1; fill:none\" points=\"169.121,1486.45 169.121,47.2441 \"/>\n",
       "<polyline clip-path=\"url(#clip370)\" style=\"stroke:#000000; stroke-linecap:round; stroke-linejoin:round; stroke-width:4; stroke-opacity:1; fill:none\" points=\"169.121,1310.28 188.019,1310.28 \"/>\n",
       "<polyline clip-path=\"url(#clip370)\" style=\"stroke:#000000; stroke-linecap:round; stroke-linejoin:round; stroke-width:4; stroke-opacity:1; fill:none\" points=\"169.121,1127.06 188.019,1127.06 \"/>\n",
       "<polyline clip-path=\"url(#clip370)\" style=\"stroke:#000000; stroke-linecap:round; stroke-linejoin:round; stroke-width:4; stroke-opacity:1; fill:none\" points=\"169.121,943.846 188.019,943.846 \"/>\n",
       "<polyline clip-path=\"url(#clip370)\" style=\"stroke:#000000; stroke-linecap:round; stroke-linejoin:round; stroke-width:4; stroke-opacity:1; fill:none\" points=\"169.121,760.629 188.019,760.629 \"/>\n",
       "<polyline clip-path=\"url(#clip370)\" style=\"stroke:#000000; stroke-linecap:round; stroke-linejoin:round; stroke-width:4; stroke-opacity:1; fill:none\" points=\"169.121,577.412 188.019,577.412 \"/>\n",
       "<polyline clip-path=\"url(#clip370)\" style=\"stroke:#000000; stroke-linecap:round; stroke-linejoin:round; stroke-width:4; stroke-opacity:1; fill:none\" points=\"169.121,394.195 188.019,394.195 \"/>\n",
       "<polyline clip-path=\"url(#clip370)\" style=\"stroke:#000000; stroke-linecap:round; stroke-linejoin:round; stroke-width:4; stroke-opacity:1; fill:none\" points=\"169.121,210.978 188.019,210.978 \"/>\n",
       "<path clip-path=\"url(#clip370)\" d=\"M121.177 1296.08 Q117.566 1296.08 115.737 1299.64 Q113.932 1303.19 113.932 1310.32 Q113.932 1317.42 115.737 1320.99 Q117.566 1324.53 121.177 1324.53 Q124.811 1324.53 126.617 1320.99 Q128.445 1317.42 128.445 1310.32 Q128.445 1303.19 126.617 1299.64 Q124.811 1296.08 121.177 1296.08 M121.177 1292.38 Q126.987 1292.38 130.043 1296.98 Q133.121 1301.57 133.121 1310.32 Q133.121 1319.04 130.043 1323.65 Q126.987 1328.23 121.177 1328.23 Q115.367 1328.23 112.288 1323.65 Q109.233 1319.04 109.233 1310.32 Q109.233 1301.57 112.288 1296.98 Q115.367 1292.38 121.177 1292.38 Z\" fill=\"#000000\" fill-rule=\"evenodd\" fill-opacity=\"1\" /><path clip-path=\"url(#clip370)\" d=\"M85.0429 1140.41 L101.362 1140.41 L101.362 1144.34 L79.4179 1144.34 L79.4179 1140.41 Q82.0799 1137.65 86.6632 1133.02 Q91.2697 1128.37 92.4502 1127.03 Q94.6956 1124.51 95.5752 1122.77 Q96.478 1121.01 96.478 1119.32 Q96.478 1116.57 94.5336 1114.83 Q92.6123 1113.09 89.5104 1113.09 Q87.3114 1113.09 84.8577 1113.86 Q82.4271 1114.62 79.6494 1116.17 L79.6494 1111.45 Q82.4734 1110.32 84.9271 1109.74 Q87.3808 1109.16 89.4178 1109.16 Q94.7882 1109.16 97.9826 1111.84 Q101.177 1114.53 101.177 1119.02 Q101.177 1121.15 100.367 1123.07 Q99.5798 1124.97 97.4734 1127.56 Q96.8947 1128.23 93.7928 1131.45 Q90.691 1134.64 85.0429 1140.41 Z\" fill=\"#000000\" fill-rule=\"evenodd\" fill-opacity=\"1\" /><path clip-path=\"url(#clip370)\" d=\"M121.177 1112.86 Q117.566 1112.86 115.737 1116.43 Q113.932 1119.97 113.932 1127.1 Q113.932 1134.2 115.737 1137.77 Q117.566 1141.31 121.177 1141.31 Q124.811 1141.31 126.617 1137.77 Q128.445 1134.2 128.445 1127.1 Q128.445 1119.97 126.617 1116.43 Q124.811 1112.86 121.177 1112.86 M121.177 1109.16 Q126.987 1109.16 130.043 1113.77 Q133.121 1118.35 133.121 1127.1 Q133.121 1135.83 130.043 1140.43 Q126.987 1145.01 121.177 1145.01 Q115.367 1145.01 112.288 1140.43 Q109.233 1135.83 109.233 1127.1 Q109.233 1118.35 112.288 1113.77 Q115.367 1109.16 121.177 1109.16 Z\" fill=\"#000000\" fill-rule=\"evenodd\" fill-opacity=\"1\" /><path clip-path=\"url(#clip370)\" d=\"M93.8623 930.641 L82.0568 949.09 L93.8623 949.09 L93.8623 930.641 M92.6354 926.566 L98.515 926.566 L98.515 949.09 L103.446 949.09 L103.446 952.978 L98.515 952.978 L98.515 961.126 L93.8623 961.126 L93.8623 952.978 L78.2605 952.978 L78.2605 948.465 L92.6354 926.566 Z\" fill=\"#000000\" fill-rule=\"evenodd\" fill-opacity=\"1\" /><path clip-path=\"url(#clip370)\" d=\"M121.177 929.645 Q117.566 929.645 115.737 933.21 Q113.932 936.752 113.932 943.881 Q113.932 950.988 115.737 954.552 Q117.566 958.094 121.177 958.094 Q124.811 958.094 126.617 954.552 Q128.445 950.988 128.445 943.881 Q128.445 936.752 126.617 933.21 Q124.811 929.645 121.177 929.645 M121.177 925.941 Q126.987 925.941 130.043 930.548 Q133.121 935.131 133.121 943.881 Q133.121 952.608 130.043 957.214 Q126.987 961.798 121.177 961.798 Q115.367 961.798 112.288 957.214 Q109.233 952.608 109.233 943.881 Q109.233 935.131 112.288 930.548 Q115.367 925.941 121.177 925.941 Z\" fill=\"#000000\" fill-rule=\"evenodd\" fill-opacity=\"1\" /><path clip-path=\"url(#clip370)\" d=\"M91.5938 758.766 Q88.4456 758.766 86.5938 760.919 Q84.7651 763.071 84.7651 766.821 Q84.7651 770.548 86.5938 772.724 Q88.4456 774.877 91.5938 774.877 Q94.7419 774.877 96.5706 772.724 Q98.4224 770.548 98.4224 766.821 Q98.4224 763.071 96.5706 760.919 Q94.7419 758.766 91.5938 758.766 M100.876 744.113 L100.876 748.372 Q99.1169 747.539 97.3113 747.099 Q95.5289 746.659 93.7697 746.659 Q89.1401 746.659 86.6864 749.784 Q84.2558 752.909 83.9086 759.229 Q85.2743 757.215 87.3345 756.15 Q89.3947 755.062 91.8715 755.062 Q97.0798 755.062 100.089 758.233 Q103.121 761.382 103.121 766.821 Q103.121 772.145 99.9733 775.363 Q96.8252 778.581 91.5938 778.581 Q85.5984 778.581 82.4271 773.997 Q79.2559 769.391 79.2559 760.664 Q79.2559 752.47 83.1447 747.609 Q87.0336 742.724 93.5845 742.724 Q95.3437 742.724 97.1261 743.072 Q98.9317 743.419 100.876 744.113 Z\" fill=\"#000000\" fill-rule=\"evenodd\" fill-opacity=\"1\" /><path clip-path=\"url(#clip370)\" d=\"M121.177 746.428 Q117.566 746.428 115.737 749.993 Q113.932 753.534 113.932 760.664 Q113.932 767.77 115.737 771.335 Q117.566 774.877 121.177 774.877 Q124.811 774.877 126.617 771.335 Q128.445 767.77 128.445 760.664 Q128.445 753.534 126.617 749.993 Q124.811 746.428 121.177 746.428 M121.177 742.724 Q126.987 742.724 130.043 747.331 Q133.121 751.914 133.121 760.664 Q133.121 769.391 130.043 773.997 Q126.987 778.581 121.177 778.581 Q115.367 778.581 112.288 773.997 Q109.233 769.391 109.233 760.664 Q109.233 751.914 112.288 747.331 Q115.367 742.724 121.177 742.724 Z\" fill=\"#000000\" fill-rule=\"evenodd\" fill-opacity=\"1\" /><path clip-path=\"url(#clip370)\" d=\"M91.0151 578.28 Q87.6817 578.28 85.7605 580.063 Q83.8623 581.845 83.8623 584.97 Q83.8623 588.095 85.7605 589.877 Q87.6817 591.66 91.0151 591.66 Q94.3484 591.66 96.2697 589.877 Q98.1909 588.072 98.1909 584.97 Q98.1909 581.845 96.2697 580.063 Q94.3715 578.28 91.0151 578.28 M86.3392 576.289 Q83.3299 575.549 81.6401 573.489 Q79.9735 571.428 79.9735 568.465 Q79.9735 564.322 82.9133 561.915 Q85.8762 559.507 91.0151 559.507 Q96.1771 559.507 99.1169 561.915 Q102.057 564.322 102.057 568.465 Q102.057 571.428 100.367 573.489 Q98.7002 575.549 95.7141 576.289 Q99.0937 577.076 100.969 579.368 Q102.867 581.66 102.867 584.97 Q102.867 589.993 99.7882 592.678 Q96.7326 595.363 91.0151 595.363 Q85.2975 595.363 82.2188 592.678 Q79.1633 589.993 79.1633 584.97 Q79.1633 581.66 81.0614 579.368 Q82.9595 577.076 86.3392 576.289 M84.6262 568.905 Q84.6262 571.59 86.2929 573.095 Q87.9827 574.6 91.0151 574.6 Q94.0243 574.6 95.7141 573.095 Q97.4271 571.59 97.4271 568.905 Q97.4271 566.22 95.7141 564.715 Q94.0243 563.211 91.0151 563.211 Q87.9827 563.211 86.2929 564.715 Q84.6262 566.22 84.6262 568.905 Z\" fill=\"#000000\" fill-rule=\"evenodd\" fill-opacity=\"1\" /><path clip-path=\"url(#clip370)\" d=\"M121.177 563.211 Q117.566 563.211 115.737 566.776 Q113.932 570.317 113.932 577.447 Q113.932 584.553 115.737 588.118 Q117.566 591.66 121.177 591.66 Q124.811 591.66 126.617 588.118 Q128.445 584.553 128.445 577.447 Q128.445 570.317 126.617 566.776 Q124.811 563.211 121.177 563.211 M121.177 559.507 Q126.987 559.507 130.043 564.114 Q133.121 568.697 133.121 577.447 Q133.121 586.174 130.043 590.78 Q126.987 595.363 121.177 595.363 Q115.367 595.363 112.288 590.78 Q109.233 586.174 109.233 577.447 Q109.233 568.697 112.288 564.114 Q115.367 559.507 121.177 559.507 Z\" fill=\"#000000\" fill-rule=\"evenodd\" fill-opacity=\"1\" /><path clip-path=\"url(#clip370)\" d=\"M51.6634 407.54 L59.3023 407.54 L59.3023 381.174 L50.9921 382.841 L50.9921 378.582 L59.256 376.915 L63.9319 376.915 L63.9319 407.54 L71.5707 407.54 L71.5707 411.475 L51.6634 411.475 L51.6634 407.54 Z\" fill=\"#000000\" fill-rule=\"evenodd\" fill-opacity=\"1\" /><path clip-path=\"url(#clip370)\" d=\"M91.0151 379.994 Q87.404 379.994 85.5753 383.558 Q83.7697 387.1 83.7697 394.23 Q83.7697 401.336 85.5753 404.901 Q87.404 408.443 91.0151 408.443 Q94.6493 408.443 96.4548 404.901 Q98.2835 401.336 98.2835 394.23 Q98.2835 387.1 96.4548 383.558 Q94.6493 379.994 91.0151 379.994 M91.0151 376.29 Q96.8252 376.29 99.8808 380.896 Q102.959 385.48 102.959 394.23 Q102.959 402.956 99.8808 407.563 Q96.8252 412.146 91.0151 412.146 Q85.2049 412.146 82.1262 407.563 Q79.0707 402.956 79.0707 394.23 Q79.0707 385.48 82.1262 380.896 Q85.2049 376.29 91.0151 376.29 Z\" fill=\"#000000\" fill-rule=\"evenodd\" fill-opacity=\"1\" /><path clip-path=\"url(#clip370)\" d=\"M121.177 379.994 Q117.566 379.994 115.737 383.558 Q113.932 387.1 113.932 394.23 Q113.932 401.336 115.737 404.901 Q117.566 408.443 121.177 408.443 Q124.811 408.443 126.617 404.901 Q128.445 401.336 128.445 394.23 Q128.445 387.1 126.617 383.558 Q124.811 379.994 121.177 379.994 M121.177 376.29 Q126.987 376.29 130.043 380.896 Q133.121 385.48 133.121 394.23 Q133.121 402.956 130.043 407.563 Q126.987 412.146 121.177 412.146 Q115.367 412.146 112.288 407.563 Q109.233 402.956 109.233 394.23 Q109.233 385.48 112.288 380.896 Q115.367 376.29 121.177 376.29 Z\" fill=\"#000000\" fill-rule=\"evenodd\" fill-opacity=\"1\" /><path clip-path=\"url(#clip370)\" d=\"M51.6634 224.323 L59.3023 224.323 L59.3023 197.957 L50.9921 199.624 L50.9921 195.364 L59.256 193.698 L63.9319 193.698 L63.9319 224.323 L71.5707 224.323 L71.5707 228.258 L51.6634 228.258 L51.6634 224.323 Z\" fill=\"#000000\" fill-rule=\"evenodd\" fill-opacity=\"1\" /><path clip-path=\"url(#clip370)\" d=\"M85.0429 224.323 L101.362 224.323 L101.362 228.258 L79.4179 228.258 L79.4179 224.323 Q82.0799 221.568 86.6632 216.938 Q91.2697 212.286 92.4502 210.943 Q94.6956 208.42 95.5752 206.684 Q96.478 204.925 96.478 203.235 Q96.478 200.48 94.5336 198.744 Q92.6123 197.008 89.5104 197.008 Q87.3114 197.008 84.8577 197.772 Q82.4271 198.536 79.6494 200.087 L79.6494 195.364 Q82.4734 194.23 84.9271 193.651 Q87.3808 193.073 89.4178 193.073 Q94.7882 193.073 97.9826 195.758 Q101.177 198.443 101.177 202.934 Q101.177 205.063 100.367 206.985 Q99.5798 208.883 97.4734 211.475 Q96.8947 212.147 93.7928 215.364 Q90.691 218.559 85.0429 224.323 Z\" fill=\"#000000\" fill-rule=\"evenodd\" fill-opacity=\"1\" /><path clip-path=\"url(#clip370)\" d=\"M121.177 196.776 Q117.566 196.776 115.737 200.341 Q113.932 203.883 113.932 211.012 Q113.932 218.119 115.737 221.684 Q117.566 225.225 121.177 225.225 Q124.811 225.225 126.617 221.684 Q128.445 218.119 128.445 211.012 Q128.445 203.883 126.617 200.341 Q124.811 196.776 121.177 196.776 M121.177 193.073 Q126.987 193.073 130.043 197.679 Q133.121 202.263 133.121 211.012 Q133.121 219.739 130.043 224.346 Q126.987 228.929 121.177 228.929 Q115.367 228.929 112.288 224.346 Q109.233 219.739 109.233 211.012 Q109.233 202.263 112.288 197.679 Q115.367 193.073 121.177 193.073 Z\" fill=\"#000000\" fill-rule=\"evenodd\" fill-opacity=\"1\" /><circle clip-path=\"url(#clip372)\" cx=\"230.922\" cy=\"766.158\" r=\"14.4\" fill=\"#009af9\" fill-rule=\"evenodd\" fill-opacity=\"1\" stroke=\"#000000\" stroke-opacity=\"1\" stroke-width=\"3.2\"/>\n",
       "<circle clip-path=\"url(#clip372)\" cx=\"333.924\" cy=\"673.994\" r=\"14.4\" fill=\"#009af9\" fill-rule=\"evenodd\" fill-opacity=\"1\" stroke=\"#000000\" stroke-opacity=\"1\" stroke-width=\"3.2\"/>\n",
       "<circle clip-path=\"url(#clip372)\" cx=\"436.926\" cy=\"1066.98\" r=\"14.4\" fill=\"#009af9\" fill-rule=\"evenodd\" fill-opacity=\"1\" stroke=\"#000000\" stroke-opacity=\"1\" stroke-width=\"3.2\"/>\n",
       "<circle clip-path=\"url(#clip372)\" cx=\"539.927\" cy=\"905.812\" r=\"14.4\" fill=\"#009af9\" fill-rule=\"evenodd\" fill-opacity=\"1\" stroke=\"#000000\" stroke-opacity=\"1\" stroke-width=\"3.2\"/>\n",
       "<circle clip-path=\"url(#clip372)\" cx=\"642.929\" cy=\"1159.12\" r=\"14.4\" fill=\"#009af9\" fill-rule=\"evenodd\" fill-opacity=\"1\" stroke=\"#000000\" stroke-opacity=\"1\" stroke-width=\"3.2\"/>\n",
       "<circle clip-path=\"url(#clip372)\" cx=\"745.93\" cy=\"1069.62\" r=\"14.4\" fill=\"#009af9\" fill-rule=\"evenodd\" fill-opacity=\"1\" stroke=\"#000000\" stroke-opacity=\"1\" stroke-width=\"3.2\"/>\n",
       "<circle clip-path=\"url(#clip372)\" cx=\"848.932\" cy=\"1340.43\" r=\"14.4\" fill=\"#009af9\" fill-rule=\"evenodd\" fill-opacity=\"1\" stroke=\"#000000\" stroke-opacity=\"1\" stroke-width=\"3.2\"/>\n",
       "<circle clip-path=\"url(#clip372)\" cx=\"951.934\" cy=\"1372.47\" r=\"14.4\" fill=\"#009af9\" fill-rule=\"evenodd\" fill-opacity=\"1\" stroke=\"#000000\" stroke-opacity=\"1\" stroke-width=\"3.2\"/>\n",
       "<circle clip-path=\"url(#clip372)\" cx=\"1054.94\" cy=\"1262.01\" r=\"14.4\" fill=\"#009af9\" fill-rule=\"evenodd\" fill-opacity=\"1\" stroke=\"#000000\" stroke-opacity=\"1\" stroke-width=\"3.2\"/>\n",
       "<circle clip-path=\"url(#clip372)\" cx=\"1157.94\" cy=\"1398.2\" r=\"14.4\" fill=\"#009af9\" fill-rule=\"evenodd\" fill-opacity=\"1\" stroke=\"#000000\" stroke-opacity=\"1\" stroke-width=\"3.2\"/>\n",
       "<circle clip-path=\"url(#clip372)\" cx=\"1260.94\" cy=\"1445.72\" r=\"14.4\" fill=\"#009af9\" fill-rule=\"evenodd\" fill-opacity=\"1\" stroke=\"#000000\" stroke-opacity=\"1\" stroke-width=\"3.2\"/>\n",
       "<circle clip-path=\"url(#clip372)\" cx=\"1363.94\" cy=\"1256.06\" r=\"14.4\" fill=\"#009af9\" fill-rule=\"evenodd\" fill-opacity=\"1\" stroke=\"#000000\" stroke-opacity=\"1\" stroke-width=\"3.2\"/>\n",
       "<circle clip-path=\"url(#clip372)\" cx=\"1466.94\" cy=\"1254.85\" r=\"14.4\" fill=\"#009af9\" fill-rule=\"evenodd\" fill-opacity=\"1\" stroke=\"#000000\" stroke-opacity=\"1\" stroke-width=\"3.2\"/>\n",
       "<circle clip-path=\"url(#clip372)\" cx=\"1569.94\" cy=\"1257.9\" r=\"14.4\" fill=\"#009af9\" fill-rule=\"evenodd\" fill-opacity=\"1\" stroke=\"#000000\" stroke-opacity=\"1\" stroke-width=\"3.2\"/>\n",
       "<circle clip-path=\"url(#clip372)\" cx=\"1672.95\" cy=\"1082.04\" r=\"14.4\" fill=\"#009af9\" fill-rule=\"evenodd\" fill-opacity=\"1\" stroke=\"#000000\" stroke-opacity=\"1\" stroke-width=\"3.2\"/>\n",
       "<circle clip-path=\"url(#clip372)\" cx=\"1775.95\" cy=\"898.917\" r=\"14.4\" fill=\"#009af9\" fill-rule=\"evenodd\" fill-opacity=\"1\" stroke=\"#000000\" stroke-opacity=\"1\" stroke-width=\"3.2\"/>\n",
       "<circle clip-path=\"url(#clip372)\" cx=\"1878.95\" cy=\"781.184\" r=\"14.4\" fill=\"#009af9\" fill-rule=\"evenodd\" fill-opacity=\"1\" stroke=\"#000000\" stroke-opacity=\"1\" stroke-width=\"3.2\"/>\n",
       "<circle clip-path=\"url(#clip372)\" cx=\"1981.95\" cy=\"588.634\" r=\"14.4\" fill=\"#009af9\" fill-rule=\"evenodd\" fill-opacity=\"1\" stroke=\"#000000\" stroke-opacity=\"1\" stroke-width=\"3.2\"/>\n",
       "<circle clip-path=\"url(#clip372)\" cx=\"2084.95\" cy=\"646.881\" r=\"14.4\" fill=\"#009af9\" fill-rule=\"evenodd\" fill-opacity=\"1\" stroke=\"#000000\" stroke-opacity=\"1\" stroke-width=\"3.2\"/>\n",
       "<circle clip-path=\"url(#clip372)\" cx=\"2187.95\" cy=\"387.753\" r=\"14.4\" fill=\"#009af9\" fill-rule=\"evenodd\" fill-opacity=\"1\" stroke=\"#000000\" stroke-opacity=\"1\" stroke-width=\"3.2\"/>\n",
       "<circle clip-path=\"url(#clip372)\" cx=\"2290.95\" cy=\"339.383\" r=\"14.4\" fill=\"#009af9\" fill-rule=\"evenodd\" fill-opacity=\"1\" stroke=\"#000000\" stroke-opacity=\"1\" stroke-width=\"3.2\"/>\n",
       "<polyline clip-path=\"url(#clip372)\" style=\"stroke:#e26f46; stroke-linecap:round; stroke-linejoin:round; stroke-width:4; stroke-opacity:1; fill:none\" points=\"230.922,687.342 333.924,833.916 436.926,962.168 539.927,1072.1 642.929,1163.71 745.93,1236.99 848.932,1291.96 951.934,1328.6 1054.94,1346.92 1157.94,1346.92 1260.94,1328.6 1363.94,1291.96 1466.94,1236.99 1569.94,1163.71 1672.95,1072.1 1775.95,962.168 1878.95,833.916 1981.95,687.342 2084.95,522.447 2187.95,339.23 2290.95,137.691 \"/>\n",
       "<polyline clip-path=\"url(#clip372)\" style=\"stroke:#3da44d; stroke-linecap:round; stroke-linejoin:round; stroke-width:4; stroke-opacity:1; fill:none\" points=\"230.922,325.5 333.924,534.577 436.926,720.396 539.927,882.956 642.929,1022.26 745.93,1138.3 848.932,1231.09 951.934,1300.62 1054.94,1346.89 1157.94,1369.9 1260.94,1369.65 1363.94,1346.14 1466.94,1299.38 1569.94,1229.36 1672.95,1136.08 1775.95,1019.54 1878.95,879.744 1981.95,716.69 2084.95,530.377 2187.95,320.806 2290.95,87.9763 \"/>\n",
       "<path clip-path=\"url(#clip370)\" d=\"M2008.6 1438.47 L2279.97 1438.47 L2279.97 1231.11 L2008.6 1231.11  Z\" fill=\"#ffffff\" fill-rule=\"evenodd\" fill-opacity=\"1\"/>\n",
       "<polyline clip-path=\"url(#clip370)\" style=\"stroke:#000000; stroke-linecap:round; stroke-linejoin:round; stroke-width:4; stroke-opacity:1; fill:none\" points=\"2008.6,1438.47 2279.97,1438.47 2279.97,1231.11 2008.6,1231.11 2008.6,1438.47 \"/>\n",
       "<circle clip-path=\"url(#clip370)\" cx=\"2105.65\" cy=\"1282.95\" r=\"23.04\" fill=\"#009af9\" fill-rule=\"evenodd\" fill-opacity=\"1\" stroke=\"#000000\" stroke-opacity=\"1\" stroke-width=\"5.12\"/>\n",
       "<path clip-path=\"url(#clip370)\" d=\"M2216.54 1302.64 Q2214.73 1307.27 2213.02 1308.68 Q2211.31 1310.1 2208.44 1310.1 L2205.03 1310.1 L2205.03 1306.53 L2207.53 1306.53 Q2209.29 1306.53 2210.27 1305.7 Q2211.24 1304.86 2212.42 1301.76 L2213.18 1299.82 L2202.7 1274.31 L2207.21 1274.31 L2215.31 1294.59 L2223.41 1274.31 L2227.93 1274.31 L2216.54 1302.64 Z\" fill=\"#000000\" fill-rule=\"evenodd\" fill-opacity=\"1\" /><path clip-path=\"url(#clip370)\" d=\"M2235.22 1296.3 L2242.86 1296.3 L2242.86 1269.93 L2234.55 1271.6 L2234.55 1267.34 L2242.81 1265.67 L2247.49 1265.67 L2247.49 1296.3 L2255.13 1296.3 L2255.13 1300.23 L2235.22 1300.23 L2235.22 1296.3 Z\" fill=\"#000000\" fill-rule=\"evenodd\" fill-opacity=\"1\" /><polyline clip-path=\"url(#clip370)\" style=\"stroke:#e26f46; stroke-linecap:round; stroke-linejoin:round; stroke-width:4; stroke-opacity:1; fill:none\" points=\"2032.86,1334.79 2178.43,1334.79 \"/>\n",
       "<path clip-path=\"url(#clip370)\" d=\"M2216.54 1354.48 Q2214.73 1359.11 2213.02 1360.52 Q2211.31 1361.94 2208.44 1361.94 L2205.03 1361.94 L2205.03 1358.37 L2207.53 1358.37 Q2209.29 1358.37 2210.27 1357.54 Q2211.24 1356.7 2212.42 1353.6 L2213.18 1351.66 L2202.7 1326.15 L2207.21 1326.15 L2215.31 1346.43 L2223.41 1326.15 L2227.93 1326.15 L2216.54 1354.48 Z\" fill=\"#000000\" fill-rule=\"evenodd\" fill-opacity=\"1\" /><path clip-path=\"url(#clip370)\" d=\"M2238.44 1348.14 L2254.76 1348.14 L2254.76 1352.07 L2232.81 1352.07 L2232.81 1348.14 Q2235.47 1345.38 2240.06 1340.76 Q2244.66 1336.1 2245.84 1334.76 Q2248.09 1332.24 2248.97 1330.5 Q2249.87 1328.74 2249.87 1327.05 Q2249.87 1324.3 2247.93 1322.56 Q2246.01 1320.82 2242.9 1320.82 Q2240.71 1320.82 2238.25 1321.59 Q2235.82 1322.35 2233.04 1323.9 L2233.04 1319.18 Q2235.87 1318.05 2238.32 1317.47 Q2240.78 1316.89 2242.81 1316.89 Q2248.18 1316.89 2251.38 1319.57 Q2254.57 1322.26 2254.57 1326.75 Q2254.57 1328.88 2253.76 1330.8 Q2252.97 1332.7 2250.87 1335.29 Q2250.29 1335.96 2247.19 1339.18 Q2244.09 1342.38 2238.44 1348.14 Z\" fill=\"#000000\" fill-rule=\"evenodd\" fill-opacity=\"1\" /><polyline clip-path=\"url(#clip370)\" style=\"stroke:#3da44d; stroke-linecap:round; stroke-linejoin:round; stroke-width:4; stroke-opacity:1; fill:none\" points=\"2032.86,1386.63 2178.43,1386.63 \"/>\n",
       "<path clip-path=\"url(#clip370)\" d=\"M2216.54 1406.32 Q2214.73 1410.95 2213.02 1412.36 Q2211.31 1413.78 2208.44 1413.78 L2205.03 1413.78 L2205.03 1410.21 L2207.53 1410.21 Q2209.29 1410.21 2210.27 1409.38 Q2211.24 1408.54 2212.42 1405.44 L2213.18 1403.5 L2202.7 1377.99 L2207.21 1377.99 L2215.31 1398.27 L2223.41 1377.99 L2227.93 1377.99 L2216.54 1406.32 Z\" fill=\"#000000\" fill-rule=\"evenodd\" fill-opacity=\"1\" /><path clip-path=\"url(#clip370)\" d=\"M2248.58 1385.28 Q2251.93 1386 2253.81 1388.27 Q2255.71 1390.53 2255.71 1393.87 Q2255.71 1398.98 2252.19 1401.78 Q2248.67 1404.59 2242.19 1404.59 Q2240.01 1404.59 2237.7 1404.15 Q2235.4 1403.73 2232.95 1402.87 L2232.95 1398.36 Q2234.9 1399.49 2237.21 1400.07 Q2239.53 1400.65 2242.05 1400.65 Q2246.45 1400.65 2248.74 1398.91 Q2251.05 1397.18 2251.05 1393.87 Q2251.05 1390.81 2248.9 1389.1 Q2246.77 1387.36 2242.95 1387.36 L2238.92 1387.36 L2238.92 1383.52 L2243.14 1383.52 Q2246.59 1383.52 2248.41 1382.16 Q2250.24 1380.77 2250.24 1378.17 Q2250.24 1375.51 2248.34 1374.1 Q2246.47 1372.66 2242.95 1372.66 Q2241.03 1372.66 2238.83 1373.08 Q2236.63 1373.5 2233.99 1374.38 L2233.99 1370.21 Q2236.65 1369.47 2238.97 1369.1 Q2241.31 1368.73 2243.37 1368.73 Q2248.69 1368.73 2251.79 1371.16 Q2254.9 1373.57 2254.9 1377.69 Q2254.9 1380.56 2253.25 1382.55 Q2251.61 1384.52 2248.58 1385.28 Z\" fill=\"#000000\" fill-rule=\"evenodd\" fill-opacity=\"1\" /></svg>\n"
      ]
     },
     "execution_count": 147,
     "metadata": {},
     "output_type": "execute_result"
    }
   ],
   "source": [
    "scatter(x_t1,y_observed1)\n",
    "plot!(x_t1,y_true1)\n",
    "plot!(x_t1,y_fitted1)"
   ]
  },
  {
   "cell_type": "markdown",
   "id": "ab12acbd",
   "metadata": {},
   "source": [
    "2. Compare the plot with the plot in 2.3. Is the fit closer to y_true or not, and why?"
   ]
  },
  {
   "cell_type": "markdown",
   "id": "a34fcca4",
   "metadata": {},
   "source": []
  },
  {
   "cell_type": "markdown",
   "id": "5fd1d93b",
   "metadata": {},
   "source": [
    "### 2.5\n",
    "\n",
    "#### Repeat 2.2 and 2.3 with a tenth order polynomial fit\n"
   ]
  },
  {
   "cell_type": "code",
   "execution_count": 151,
   "id": "28a098fc",
   "metadata": {},
   "outputs": [
    {
     "data": {
      "text/plain": [
       "-10:10"
      ]
     },
     "execution_count": 151,
     "metadata": {},
     "output_type": "execute_result"
    }
   ],
   "source": [
    "x_t2 = -10:10"
   ]
  },
  {
   "cell_type": "code",
   "execution_count": 152,
   "id": "b8f10aa1",
   "metadata": {},
   "outputs": [
    {
     "data": {
      "text/plain": [
       "21-element Vector{Int64}:\n",
       " -10\n",
       "  -9\n",
       "  -8\n",
       "  -7\n",
       "  -6\n",
       "  -5\n",
       "  -4\n",
       "  -3\n",
       "  -2\n",
       "  -1\n",
       "   0\n",
       "   1\n",
       "   2\n",
       "   3\n",
       "   4\n",
       "   5\n",
       "   6\n",
       "   7\n",
       "   8\n",
       "   9\n",
       "  10"
      ]
     },
     "execution_count": 152,
     "metadata": {},
     "output_type": "execute_result"
    }
   ],
   "source": [
    "collect(x_t2)"
   ]
  },
  {
   "cell_type": "code",
   "execution_count": 158,
   "id": "bfee793f",
   "metadata": {},
   "outputs": [
    {
     "data": {
      "text/plain": [
       "Normal{Float64}(μ=0.0, σ=50.0)"
      ]
     },
     "execution_count": 158,
     "metadata": {},
     "output_type": "execute_result"
    }
   ],
   "source": [
    "dataerr = 50\n",
    "noise = di.Normal(0,dataerr)"
   ]
  },
  {
   "cell_type": "code",
   "execution_count": 159,
   "id": "b6dbd546",
   "metadata": {},
   "outputs": [
    {
     "data": {
      "image/svg+xml": [
       "<?xml version=\"1.0\" encoding=\"utf-8\"?>\n",
       "<svg xmlns=\"http://www.w3.org/2000/svg\" xmlns:xlink=\"http://www.w3.org/1999/xlink\" width=\"600\" height=\"400\" viewBox=\"0 0 2400 1600\">\n",
       "<defs>\n",
       "  <clipPath id=\"clip570\">\n",
       "    <rect x=\"0\" y=\"0\" width=\"2400\" height=\"1600\"/>\n",
       "  </clipPath>\n",
       "</defs>\n",
       "<path clip-path=\"url(#clip570)\" d=\"M0 1600 L2400 1600 L2400 0 L0 0  Z\" fill=\"#ffffff\" fill-rule=\"evenodd\" fill-opacity=\"1\"/>\n",
       "<defs>\n",
       "  <clipPath id=\"clip571\">\n",
       "    <rect x=\"480\" y=\"0\" width=\"1681\" height=\"1600\"/>\n",
       "  </clipPath>\n",
       "</defs>\n",
       "<path clip-path=\"url(#clip570)\" d=\"M313.354 1486.45 L2352.76 1486.45 L2352.76 47.2441 L313.354 47.2441  Z\" fill=\"#ffffff\" fill-rule=\"evenodd\" fill-opacity=\"1\"/>\n",
       "<defs>\n",
       "  <clipPath id=\"clip572\">\n",
       "    <rect x=\"313\" y=\"47\" width=\"2040\" height=\"1440\"/>\n",
       "  </clipPath>\n",
       "</defs>\n",
       "<polyline clip-path=\"url(#clip572)\" style=\"stroke:#000000; stroke-linecap:round; stroke-linejoin:round; stroke-width:2; stroke-opacity:0.1; fill:none\" points=\"371.073,1486.45 371.073,47.2441 \"/>\n",
       "<polyline clip-path=\"url(#clip572)\" style=\"stroke:#000000; stroke-linecap:round; stroke-linejoin:round; stroke-width:2; stroke-opacity:0.1; fill:none\" points=\"852.064,1486.45 852.064,47.2441 \"/>\n",
       "<polyline clip-path=\"url(#clip572)\" style=\"stroke:#000000; stroke-linecap:round; stroke-linejoin:round; stroke-width:2; stroke-opacity:0.1; fill:none\" points=\"1333.05,1486.45 1333.05,47.2441 \"/>\n",
       "<polyline clip-path=\"url(#clip572)\" style=\"stroke:#000000; stroke-linecap:round; stroke-linejoin:round; stroke-width:2; stroke-opacity:0.1; fill:none\" points=\"1814.05,1486.45 1814.05,47.2441 \"/>\n",
       "<polyline clip-path=\"url(#clip572)\" style=\"stroke:#000000; stroke-linecap:round; stroke-linejoin:round; stroke-width:2; stroke-opacity:0.1; fill:none\" points=\"2295.04,1486.45 2295.04,47.2441 \"/>\n",
       "<polyline clip-path=\"url(#clip570)\" style=\"stroke:#000000; stroke-linecap:round; stroke-linejoin:round; stroke-width:4; stroke-opacity:1; fill:none\" points=\"313.354,1486.45 2352.76,1486.45 \"/>\n",
       "<polyline clip-path=\"url(#clip570)\" style=\"stroke:#000000; stroke-linecap:round; stroke-linejoin:round; stroke-width:4; stroke-opacity:1; fill:none\" points=\"371.073,1486.45 371.073,1467.55 \"/>\n",
       "<polyline clip-path=\"url(#clip570)\" style=\"stroke:#000000; stroke-linecap:round; stroke-linejoin:round; stroke-width:4; stroke-opacity:1; fill:none\" points=\"852.064,1486.45 852.064,1467.55 \"/>\n",
       "<polyline clip-path=\"url(#clip570)\" style=\"stroke:#000000; stroke-linecap:round; stroke-linejoin:round; stroke-width:4; stroke-opacity:1; fill:none\" points=\"1333.05,1486.45 1333.05,1467.55 \"/>\n",
       "<polyline clip-path=\"url(#clip570)\" style=\"stroke:#000000; stroke-linecap:round; stroke-linejoin:round; stroke-width:4; stroke-opacity:1; fill:none\" points=\"1814.05,1486.45 1814.05,1467.55 \"/>\n",
       "<polyline clip-path=\"url(#clip570)\" style=\"stroke:#000000; stroke-linecap:round; stroke-linejoin:round; stroke-width:4; stroke-opacity:1; fill:none\" points=\"2295.04,1486.45 2295.04,1467.55 \"/>\n",
       "<path clip-path=\"url(#clip570)\" d=\"M325.135 1532.02 L354.811 1532.02 L354.811 1535.95 L325.135 1535.95 L325.135 1532.02 Z\" fill=\"#000000\" fill-rule=\"evenodd\" fill-opacity=\"1\" /><path clip-path=\"url(#clip570)\" d=\"M365.714 1544.91 L373.353 1544.91 L373.353 1518.55 L365.043 1520.21 L365.043 1515.95 L373.306 1514.29 L377.982 1514.29 L377.982 1544.91 L385.621 1544.91 L385.621 1548.85 L365.714 1548.85 L365.714 1544.91 Z\" fill=\"#000000\" fill-rule=\"evenodd\" fill-opacity=\"1\" /><path clip-path=\"url(#clip570)\" d=\"M405.066 1517.37 Q401.454 1517.37 399.626 1520.93 Q397.82 1524.47 397.82 1531.6 Q397.82 1538.71 399.626 1542.27 Q401.454 1545.82 405.066 1545.82 Q408.7 1545.82 410.505 1542.27 Q412.334 1538.71 412.334 1531.6 Q412.334 1524.47 410.505 1520.93 Q408.7 1517.37 405.066 1517.37 M405.066 1513.66 Q410.876 1513.66 413.931 1518.27 Q417.01 1522.85 417.01 1531.6 Q417.01 1540.33 413.931 1544.94 Q410.876 1549.52 405.066 1549.52 Q399.255 1549.52 396.177 1544.94 Q393.121 1540.33 393.121 1531.6 Q393.121 1522.85 396.177 1518.27 Q399.255 1513.66 405.066 1513.66 Z\" fill=\"#000000\" fill-rule=\"evenodd\" fill-opacity=\"1\" /><path clip-path=\"url(#clip570)\" d=\"M821.705 1532.02 L851.381 1532.02 L851.381 1535.95 L821.705 1535.95 L821.705 1532.02 Z\" fill=\"#000000\" fill-rule=\"evenodd\" fill-opacity=\"1\" /><path clip-path=\"url(#clip570)\" d=\"M861.52 1514.29 L879.876 1514.29 L879.876 1518.22 L865.802 1518.22 L865.802 1526.7 Q866.821 1526.35 867.839 1526.19 Q868.858 1526 869.876 1526 Q875.663 1526 879.043 1529.17 Q882.422 1532.34 882.422 1537.76 Q882.422 1543.34 878.95 1546.44 Q875.478 1549.52 869.159 1549.52 Q866.983 1549.52 864.714 1549.15 Q862.469 1548.78 860.061 1548.04 L860.061 1543.34 Q862.145 1544.47 864.367 1545.03 Q866.589 1545.58 869.066 1545.58 Q873.071 1545.58 875.409 1543.48 Q877.746 1541.37 877.746 1537.76 Q877.746 1534.15 875.409 1532.04 Q873.071 1529.94 869.066 1529.94 Q867.191 1529.94 865.316 1530.35 Q863.464 1530.77 861.52 1531.65 L861.52 1514.29 Z\" fill=\"#000000\" fill-rule=\"evenodd\" fill-opacity=\"1\" /><path clip-path=\"url(#clip570)\" d=\"M1333.05 1517.37 Q1329.44 1517.37 1327.62 1520.93 Q1325.81 1524.47 1325.81 1531.6 Q1325.81 1538.71 1327.62 1542.27 Q1329.44 1545.82 1333.05 1545.82 Q1336.69 1545.82 1338.49 1542.27 Q1340.32 1538.71 1340.32 1531.6 Q1340.32 1524.47 1338.49 1520.93 Q1336.69 1517.37 1333.05 1517.37 M1333.05 1513.66 Q1338.86 1513.66 1341.92 1518.27 Q1345 1522.85 1345 1531.6 Q1345 1540.33 1341.92 1544.94 Q1338.86 1549.52 1333.05 1549.52 Q1327.24 1549.52 1324.17 1544.94 Q1321.11 1540.33 1321.11 1531.6 Q1321.11 1522.85 1324.17 1518.27 Q1327.24 1513.66 1333.05 1513.66 Z\" fill=\"#000000\" fill-rule=\"evenodd\" fill-opacity=\"1\" /><path clip-path=\"url(#clip570)\" d=\"M1804.32 1514.29 L1822.68 1514.29 L1822.68 1518.22 L1808.61 1518.22 L1808.61 1526.7 Q1809.62 1526.35 1810.64 1526.19 Q1811.66 1526 1812.68 1526 Q1818.47 1526 1821.85 1529.17 Q1825.23 1532.34 1825.23 1537.76 Q1825.23 1543.34 1821.75 1546.44 Q1818.28 1549.52 1811.96 1549.52 Q1809.79 1549.52 1807.52 1549.15 Q1805.27 1548.78 1802.87 1548.04 L1802.87 1543.34 Q1804.95 1544.47 1807.17 1545.03 Q1809.39 1545.58 1811.87 1545.58 Q1815.87 1545.58 1818.21 1543.48 Q1820.55 1541.37 1820.55 1537.76 Q1820.55 1534.15 1818.21 1532.04 Q1815.87 1529.94 1811.87 1529.94 Q1810 1529.94 1808.12 1530.35 Q1806.27 1530.77 1804.32 1531.65 L1804.32 1514.29 Z\" fill=\"#000000\" fill-rule=\"evenodd\" fill-opacity=\"1\" /><path clip-path=\"url(#clip570)\" d=\"M2269.72 1544.91 L2277.36 1544.91 L2277.36 1518.55 L2269.05 1520.21 L2269.05 1515.95 L2277.32 1514.29 L2281.99 1514.29 L2281.99 1544.91 L2289.63 1544.91 L2289.63 1548.85 L2269.72 1548.85 L2269.72 1544.91 Z\" fill=\"#000000\" fill-rule=\"evenodd\" fill-opacity=\"1\" /><path clip-path=\"url(#clip570)\" d=\"M2309.08 1517.37 Q2305.47 1517.37 2303.64 1520.93 Q2301.83 1524.47 2301.83 1531.6 Q2301.83 1538.71 2303.64 1542.27 Q2305.47 1545.82 2309.08 1545.82 Q2312.71 1545.82 2314.52 1542.27 Q2316.34 1538.71 2316.34 1531.6 Q2316.34 1524.47 2314.52 1520.93 Q2312.71 1517.37 2309.08 1517.37 M2309.08 1513.66 Q2314.89 1513.66 2317.94 1518.27 Q2321.02 1522.85 2321.02 1531.6 Q2321.02 1540.33 2317.94 1544.94 Q2314.89 1549.52 2309.08 1549.52 Q2303.27 1549.52 2300.19 1544.94 Q2297.13 1540.33 2297.13 1531.6 Q2297.13 1522.85 2300.19 1518.27 Q2303.27 1513.66 2309.08 1513.66 Z\" fill=\"#000000\" fill-rule=\"evenodd\" fill-opacity=\"1\" /><polyline clip-path=\"url(#clip572)\" style=\"stroke:#000000; stroke-linecap:round; stroke-linejoin:round; stroke-width:2; stroke-opacity:0.1; fill:none\" points=\"313.354,1164.65 2352.76,1164.65 \"/>\n",
       "<polyline clip-path=\"url(#clip572)\" style=\"stroke:#000000; stroke-linecap:round; stroke-linejoin:round; stroke-width:2; stroke-opacity:0.1; fill:none\" points=\"313.354,827.931 2352.76,827.931 \"/>\n",
       "<polyline clip-path=\"url(#clip572)\" style=\"stroke:#000000; stroke-linecap:round; stroke-linejoin:round; stroke-width:2; stroke-opacity:0.1; fill:none\" points=\"313.354,491.21 2352.76,491.21 \"/>\n",
       "<polyline clip-path=\"url(#clip572)\" style=\"stroke:#000000; stroke-linecap:round; stroke-linejoin:round; stroke-width:2; stroke-opacity:0.1; fill:none\" points=\"313.354,154.489 2352.76,154.489 \"/>\n",
       "<polyline clip-path=\"url(#clip570)\" style=\"stroke:#000000; stroke-linecap:round; stroke-linejoin:round; stroke-width:4; stroke-opacity:1; fill:none\" points=\"313.354,1486.45 313.354,47.2441 \"/>\n",
       "<polyline clip-path=\"url(#clip570)\" style=\"stroke:#000000; stroke-linecap:round; stroke-linejoin:round; stroke-width:4; stroke-opacity:1; fill:none\" points=\"313.354,1164.65 332.251,1164.65 \"/>\n",
       "<polyline clip-path=\"url(#clip570)\" style=\"stroke:#000000; stroke-linecap:round; stroke-linejoin:round; stroke-width:4; stroke-opacity:1; fill:none\" points=\"313.354,827.931 332.251,827.931 \"/>\n",
       "<polyline clip-path=\"url(#clip570)\" style=\"stroke:#000000; stroke-linecap:round; stroke-linejoin:round; stroke-width:4; stroke-opacity:1; fill:none\" points=\"313.354,491.21 332.251,491.21 \"/>\n",
       "<polyline clip-path=\"url(#clip570)\" style=\"stroke:#000000; stroke-linecap:round; stroke-linejoin:round; stroke-width:4; stroke-opacity:1; fill:none\" points=\"313.354,154.489 332.251,154.489 \"/>\n",
       "<path clip-path=\"url(#clip570)\" d=\"M50.9921 1171.55 L80.6679 1171.55 L80.6679 1175.49 L50.9921 1175.49 L50.9921 1171.55 Z\" fill=\"#000000\" fill-rule=\"evenodd\" fill-opacity=\"1\" /><path clip-path=\"url(#clip570)\" d=\"M90.8067 1153.82 L109.163 1153.82 L109.163 1157.75 L95.0891 1157.75 L95.0891 1166.23 Q96.1076 1165.88 97.1261 1165.72 Q98.1447 1165.53 99.1632 1165.53 Q104.95 1165.53 108.33 1168.7 Q111.709 1171.87 111.709 1177.29 Q111.709 1182.87 108.237 1185.97 Q104.765 1189.05 98.4456 1189.05 Q96.2697 1189.05 94.0012 1188.68 Q91.7558 1188.31 89.3484 1187.57 L89.3484 1182.87 Q91.4317 1184 93.6539 1184.56 Q95.8761 1185.11 98.353 1185.11 Q102.358 1185.11 104.696 1183.01 Q107.033 1180.9 107.033 1177.29 Q107.033 1173.68 104.696 1171.57 Q102.358 1169.47 98.353 1169.47 Q96.478 1169.47 94.603 1169.88 Q92.7512 1170.3 90.8067 1171.18 L90.8067 1153.82 Z\" fill=\"#000000\" fill-rule=\"evenodd\" fill-opacity=\"1\" /><path clip-path=\"url(#clip570)\" d=\"M120.922 1182.5 L125.807 1182.5 L125.807 1188.38 L120.922 1188.38 L120.922 1182.5 Z\" fill=\"#000000\" fill-rule=\"evenodd\" fill-opacity=\"1\" /><path clip-path=\"url(#clip570)\" d=\"M145.992 1156.9 Q142.381 1156.9 140.552 1160.46 Q138.746 1164 138.746 1171.13 Q138.746 1178.24 140.552 1181.8 Q142.381 1185.35 145.992 1185.35 Q149.626 1185.35 151.431 1181.8 Q153.26 1178.24 153.26 1171.13 Q153.26 1164 151.431 1160.46 Q149.626 1156.9 145.992 1156.9 M145.992 1153.19 Q151.802 1153.19 154.857 1157.8 Q157.936 1162.38 157.936 1171.13 Q157.936 1179.86 154.857 1184.47 Q151.802 1189.05 145.992 1189.05 Q140.181 1189.05 137.103 1184.47 Q134.047 1179.86 134.047 1171.13 Q134.047 1162.38 137.103 1157.8 Q140.181 1153.19 145.992 1153.19 Z\" fill=\"#000000\" fill-rule=\"evenodd\" fill-opacity=\"1\" /><path clip-path=\"url(#clip570)\" d=\"M194.325 1162.92 L183.746 1173.54 L194.325 1184.12 L191.57 1186.92 L180.945 1176.3 L170.32 1186.92 L167.589 1184.12 L178.144 1173.54 L167.589 1162.92 L170.32 1160.12 L180.945 1170.74 L191.57 1160.12 L194.325 1162.92 Z\" fill=\"#000000\" fill-rule=\"evenodd\" fill-opacity=\"1\" /><path clip-path=\"url(#clip570)\" d=\"M206.686 1184.44 L214.325 1184.44 L214.325 1158.08 L206.014 1159.74 L206.014 1155.49 L214.278 1153.82 L218.954 1153.82 L218.954 1184.44 L226.593 1184.44 L226.593 1188.38 L206.686 1188.38 L206.686 1184.44 Z\" fill=\"#000000\" fill-rule=\"evenodd\" fill-opacity=\"1\" /><path clip-path=\"url(#clip570)\" d=\"M246.037 1156.9 Q242.426 1156.9 240.598 1160.46 Q238.792 1164 238.792 1171.13 Q238.792 1178.24 240.598 1181.8 Q242.426 1185.35 246.037 1185.35 Q249.672 1185.35 251.477 1181.8 Q253.306 1178.24 253.306 1171.13 Q253.306 1164 251.477 1160.46 Q249.672 1156.9 246.037 1156.9 M246.037 1153.19 Q251.848 1153.19 254.903 1157.8 Q257.982 1162.38 257.982 1171.13 Q257.982 1179.86 254.903 1184.47 Q251.848 1189.05 246.037 1189.05 Q240.227 1189.05 237.149 1184.47 Q234.093 1179.86 234.093 1171.13 Q234.093 1162.38 237.149 1157.8 Q240.227 1153.19 246.037 1153.19 Z\" fill=\"#000000\" fill-rule=\"evenodd\" fill-opacity=\"1\" /><path clip-path=\"url(#clip570)\" d=\"M259.787 1160.39 L259.787 1156.92 Q261.217 1157.6 262.684 1157.96 Q264.151 1158.32 265.561 1158.32 Q269.323 1158.32 271.298 1155.8 Q273.291 1153.26 273.573 1148.1 Q272.483 1149.72 270.809 1150.59 Q269.135 1151.45 267.104 1151.45 Q262.891 1151.45 260.427 1148.91 Q257.982 1146.35 257.982 1141.94 Q257.982 1137.61 260.54 1134.99 Q263.097 1132.38 267.348 1132.38 Q272.219 1132.38 274.777 1136.12 Q277.354 1139.85 277.354 1146.96 Q277.354 1153.6 274.194 1157.56 Q271.053 1161.51 265.731 1161.51 Q264.301 1161.51 262.834 1161.23 Q261.367 1160.95 259.787 1160.39 M267.348 1148.48 Q269.906 1148.48 271.392 1146.73 Q272.896 1144.98 272.896 1141.94 Q272.896 1138.91 271.392 1137.16 Q269.906 1135.39 267.348 1135.39 Q264.79 1135.39 263.286 1137.16 Q261.8 1138.91 261.8 1141.94 Q261.8 1144.98 263.286 1146.73 Q264.79 1148.48 267.348 1148.48 Z\" fill=\"#000000\" fill-rule=\"evenodd\" fill-opacity=\"1\" /><path clip-path=\"url(#clip570)\" d=\"M265.409 813.729 Q261.798 813.729 259.97 817.294 Q258.164 820.836 258.164 827.965 Q258.164 835.072 259.97 838.636 Q261.798 842.178 265.409 842.178 Q269.044 842.178 270.849 838.636 Q272.678 835.072 272.678 827.965 Q272.678 820.836 270.849 817.294 Q269.044 813.729 265.409 813.729 M265.409 810.026 Q271.22 810.026 274.275 814.632 Q277.354 819.215 277.354 827.965 Q277.354 836.692 274.275 841.298 Q271.22 845.882 265.409 845.882 Q259.599 845.882 256.521 841.298 Q253.465 836.692 253.465 827.965 Q253.465 819.215 256.521 814.632 Q259.599 810.026 265.409 810.026 Z\" fill=\"#000000\" fill-rule=\"evenodd\" fill-opacity=\"1\" /><path clip-path=\"url(#clip570)\" d=\"M90.8067 480.377 L109.163 480.377 L109.163 484.313 L95.0891 484.313 L95.0891 492.785 Q96.1076 492.437 97.1261 492.275 Q98.1447 492.09 99.1632 492.09 Q104.95 492.09 108.33 495.262 Q111.709 498.433 111.709 503.849 Q111.709 509.428 108.237 512.53 Q104.765 515.609 98.4456 515.609 Q96.2697 515.609 94.0012 515.238 Q91.7558 514.868 89.3484 514.127 L89.3484 509.428 Q91.4317 510.562 93.6539 511.118 Q95.8761 511.673 98.353 511.673 Q102.358 511.673 104.696 509.567 Q107.033 507.461 107.033 503.849 Q107.033 500.238 104.696 498.132 Q102.358 496.025 98.353 496.025 Q96.478 496.025 94.603 496.442 Q92.7512 496.859 90.8067 497.738 L90.8067 480.377 Z\" fill=\"#000000\" fill-rule=\"evenodd\" fill-opacity=\"1\" /><path clip-path=\"url(#clip570)\" d=\"M120.922 509.058 L125.807 509.058 L125.807 514.937 L120.922 514.937 L120.922 509.058 Z\" fill=\"#000000\" fill-rule=\"evenodd\" fill-opacity=\"1\" /><path clip-path=\"url(#clip570)\" d=\"M145.992 483.456 Q142.381 483.456 140.552 487.021 Q138.746 490.562 138.746 497.692 Q138.746 504.799 140.552 508.363 Q142.381 511.905 145.992 511.905 Q149.626 511.905 151.431 508.363 Q153.26 504.799 153.26 497.692 Q153.26 490.562 151.431 487.021 Q149.626 483.456 145.992 483.456 M145.992 479.752 Q151.802 479.752 154.857 484.359 Q157.936 488.942 157.936 497.692 Q157.936 506.419 154.857 511.025 Q151.802 515.609 145.992 515.609 Q140.181 515.609 137.103 511.025 Q134.047 506.419 134.047 497.692 Q134.047 488.942 137.103 484.359 Q140.181 479.752 145.992 479.752 Z\" fill=\"#000000\" fill-rule=\"evenodd\" fill-opacity=\"1\" /><path clip-path=\"url(#clip570)\" d=\"M194.325 489.475 L183.746 500.099 L194.325 510.678 L191.57 513.479 L180.945 502.854 L170.32 513.479 L167.589 510.678 L178.144 500.099 L167.589 489.475 L170.32 486.674 L180.945 497.299 L191.57 486.674 L194.325 489.475 Z\" fill=\"#000000\" fill-rule=\"evenodd\" fill-opacity=\"1\" /><path clip-path=\"url(#clip570)\" d=\"M206.686 511.002 L214.325 511.002 L214.325 484.637 L206.014 486.303 L206.014 482.044 L214.278 480.377 L218.954 480.377 L218.954 511.002 L226.593 511.002 L226.593 514.937 L206.686 514.937 L206.686 511.002 Z\" fill=\"#000000\" fill-rule=\"evenodd\" fill-opacity=\"1\" /><path clip-path=\"url(#clip570)\" d=\"M246.037 483.456 Q242.426 483.456 240.598 487.021 Q238.792 490.562 238.792 497.692 Q238.792 504.799 240.598 508.363 Q242.426 511.905 246.037 511.905 Q249.672 511.905 251.477 508.363 Q253.306 504.799 253.306 497.692 Q253.306 490.562 251.477 487.021 Q249.672 483.456 246.037 483.456 M246.037 479.752 Q251.848 479.752 254.903 484.359 Q257.982 488.942 257.982 497.692 Q257.982 506.419 254.903 511.025 Q251.848 515.609 246.037 515.609 Q240.227 515.609 237.149 511.025 Q234.093 506.419 234.093 497.692 Q234.093 488.942 237.149 484.359 Q240.227 479.752 246.037 479.752 Z\" fill=\"#000000\" fill-rule=\"evenodd\" fill-opacity=\"1\" /><path clip-path=\"url(#clip570)\" d=\"M259.787 486.944 L259.787 483.483 Q261.217 484.16 262.684 484.518 Q264.151 484.875 265.561 484.875 Q269.323 484.875 271.298 482.355 Q273.291 479.816 273.573 474.662 Q272.483 476.28 270.809 477.145 Q269.135 478.01 267.104 478.01 Q262.891 478.01 260.427 475.471 Q257.982 472.913 257.982 468.494 Q257.982 464.168 260.54 461.553 Q263.097 458.939 267.348 458.939 Q272.219 458.939 274.777 462.682 Q277.354 466.406 277.354 473.515 Q277.354 480.154 274.194 484.123 Q271.053 488.072 265.731 488.072 Q264.301 488.072 262.834 487.79 Q261.367 487.508 259.787 486.944 M267.348 475.039 Q269.906 475.039 271.392 473.289 Q272.896 471.54 272.896 468.494 Q272.896 465.465 271.392 463.716 Q269.906 461.948 267.348 461.948 Q264.79 461.948 263.286 463.716 Q261.8 465.465 261.8 468.494 Q261.8 471.54 263.286 473.289 Q264.79 475.039 267.348 475.039 Z\" fill=\"#000000\" fill-rule=\"evenodd\" fill-opacity=\"1\" /><path clip-path=\"url(#clip570)\" d=\"M68.7192 174.281 L76.358 174.281 L76.358 147.916 L68.0479 149.583 L68.0479 145.323 L76.3117 143.657 L80.9876 143.657 L80.9876 174.281 L88.6265 174.281 L88.6265 178.217 L68.7192 178.217 L68.7192 174.281 Z\" fill=\"#000000\" fill-rule=\"evenodd\" fill-opacity=\"1\" /><path clip-path=\"url(#clip570)\" d=\"M98.0709 172.337 L102.955 172.337 L102.955 178.217 L98.0709 178.217 L98.0709 172.337 Z\" fill=\"#000000\" fill-rule=\"evenodd\" fill-opacity=\"1\" /><path clip-path=\"url(#clip570)\" d=\"M123.14 146.735 Q119.529 146.735 117.7 150.3 Q115.895 153.842 115.895 160.971 Q115.895 168.078 117.7 171.643 Q119.529 175.184 123.14 175.184 Q126.774 175.184 128.58 171.643 Q130.409 168.078 130.409 160.971 Q130.409 153.842 128.58 150.3 Q126.774 146.735 123.14 146.735 M123.14 143.032 Q128.95 143.032 132.006 147.638 Q135.085 152.221 135.085 160.971 Q135.085 169.698 132.006 174.305 Q128.95 178.888 123.14 178.888 Q117.33 178.888 114.251 174.305 Q111.196 169.698 111.196 160.971 Q111.196 152.221 114.251 147.638 Q117.33 143.032 123.14 143.032 Z\" fill=\"#000000\" fill-rule=\"evenodd\" fill-opacity=\"1\" /><path clip-path=\"url(#clip570)\" d=\"M171.473 152.754 L160.895 163.379 L171.473 173.957 L168.719 176.758 L158.094 166.133 L147.469 176.758 L144.737 173.957 L155.293 163.379 L144.737 152.754 L147.469 149.953 L158.094 160.578 L168.719 149.953 L171.473 152.754 Z\" fill=\"#000000\" fill-rule=\"evenodd\" fill-opacity=\"1\" /><path clip-path=\"url(#clip570)\" d=\"M183.834 174.281 L191.473 174.281 L191.473 147.916 L183.163 149.583 L183.163 145.323 L191.427 143.657 L196.103 143.657 L196.103 174.281 L203.742 174.281 L203.742 178.217 L183.834 178.217 L183.834 174.281 Z\" fill=\"#000000\" fill-rule=\"evenodd\" fill-opacity=\"1\" /><path clip-path=\"url(#clip570)\" d=\"M223.186 146.735 Q219.575 146.735 217.746 150.3 Q215.941 153.842 215.941 160.971 Q215.941 168.078 217.746 171.643 Q219.575 175.184 223.186 175.184 Q226.82 175.184 228.626 171.643 Q230.454 168.078 230.454 160.971 Q230.454 153.842 228.626 150.3 Q226.82 146.735 223.186 146.735 M223.186 143.032 Q228.996 143.032 232.052 147.638 Q235.13 152.221 235.13 160.971 Q235.13 169.698 232.052 174.305 Q228.996 178.888 223.186 178.888 Q217.376 178.888 214.297 174.305 Q211.242 169.698 211.242 160.971 Q211.242 152.221 214.297 147.638 Q217.376 143.032 223.186 143.032 Z\" fill=\"#000000\" fill-rule=\"evenodd\" fill-opacity=\"1\" /><path clip-path=\"url(#clip570)\" d=\"M235.676 147.609 L241.882 147.609 L241.882 126.187 L235.13 127.541 L235.13 124.08 L241.845 122.726 L245.644 122.726 L245.644 147.609 L251.85 147.609 L251.85 150.806 L235.676 150.806 L235.676 147.609 Z\" fill=\"#000000\" fill-rule=\"evenodd\" fill-opacity=\"1\" /><path clip-path=\"url(#clip570)\" d=\"M267.649 125.228 Q264.715 125.228 263.229 128.124 Q261.762 131.002 261.762 136.794 Q261.762 142.568 263.229 145.465 Q264.715 148.342 267.649 148.342 Q270.602 148.342 272.069 145.465 Q273.555 142.568 273.555 136.794 Q273.555 131.002 272.069 128.124 Q270.602 125.228 267.649 125.228 M267.649 122.218 Q272.37 122.218 274.852 125.961 Q277.354 129.685 277.354 136.794 Q277.354 143.885 274.852 147.628 Q272.37 151.352 267.649 151.352 Q262.928 151.352 260.427 147.628 Q257.944 143.885 257.944 136.794 Q257.944 129.685 260.427 125.961 Q262.928 122.218 267.649 122.218 Z\" fill=\"#000000\" fill-rule=\"evenodd\" fill-opacity=\"1\" /><circle clip-path=\"url(#clip572)\" cx=\"371.073\" cy=\"1445.72\" r=\"14.4\" fill=\"#009af9\" fill-rule=\"evenodd\" fill-opacity=\"1\" stroke=\"#000000\" stroke-opacity=\"1\" stroke-width=\"3.2\"/>\n",
       "<circle clip-path=\"url(#clip572)\" cx=\"467.271\" cy=\"1065.09\" r=\"14.4\" fill=\"#009af9\" fill-rule=\"evenodd\" fill-opacity=\"1\" stroke=\"#000000\" stroke-opacity=\"1\" stroke-width=\"3.2\"/>\n",
       "<circle clip-path=\"url(#clip572)\" cx=\"563.469\" cy=\"909.168\" r=\"14.4\" fill=\"#009af9\" fill-rule=\"evenodd\" fill-opacity=\"1\" stroke=\"#000000\" stroke-opacity=\"1\" stroke-width=\"3.2\"/>\n",
       "<circle clip-path=\"url(#clip572)\" cx=\"659.667\" cy=\"852.007\" r=\"14.4\" fill=\"#009af9\" fill-rule=\"evenodd\" fill-opacity=\"1\" stroke=\"#000000\" stroke-opacity=\"1\" stroke-width=\"3.2\"/>\n",
       "<circle clip-path=\"url(#clip572)\" cx=\"755.866\" cy=\"833.831\" r=\"14.4\" fill=\"#009af9\" fill-rule=\"evenodd\" fill-opacity=\"1\" stroke=\"#000000\" stroke-opacity=\"1\" stroke-width=\"3.2\"/>\n",
       "<circle clip-path=\"url(#clip572)\" cx=\"852.064\" cy=\"829.045\" r=\"14.4\" fill=\"#009af9\" fill-rule=\"evenodd\" fill-opacity=\"1\" stroke=\"#000000\" stroke-opacity=\"1\" stroke-width=\"3.2\"/>\n",
       "<circle clip-path=\"url(#clip572)\" cx=\"948.262\" cy=\"828.075\" r=\"14.4\" fill=\"#009af9\" fill-rule=\"evenodd\" fill-opacity=\"1\" stroke=\"#000000\" stroke-opacity=\"1\" stroke-width=\"3.2\"/>\n",
       "<circle clip-path=\"url(#clip572)\" cx=\"1044.46\" cy=\"827.941\" r=\"14.4\" fill=\"#009af9\" fill-rule=\"evenodd\" fill-opacity=\"1\" stroke=\"#000000\" stroke-opacity=\"1\" stroke-width=\"3.2\"/>\n",
       "<circle clip-path=\"url(#clip572)\" cx=\"1140.66\" cy=\"827.931\" r=\"14.4\" fill=\"#009af9\" fill-rule=\"evenodd\" fill-opacity=\"1\" stroke=\"#000000\" stroke-opacity=\"1\" stroke-width=\"3.2\"/>\n",
       "<circle clip-path=\"url(#clip572)\" cx=\"1236.86\" cy=\"827.931\" r=\"14.4\" fill=\"#009af9\" fill-rule=\"evenodd\" fill-opacity=\"1\" stroke=\"#000000\" stroke-opacity=\"1\" stroke-width=\"3.2\"/>\n",
       "<circle clip-path=\"url(#clip572)\" cx=\"1333.05\" cy=\"827.931\" r=\"14.4\" fill=\"#009af9\" fill-rule=\"evenodd\" fill-opacity=\"1\" stroke=\"#000000\" stroke-opacity=\"1\" stroke-width=\"3.2\"/>\n",
       "<circle clip-path=\"url(#clip572)\" cx=\"1429.25\" cy=\"827.931\" r=\"14.4\" fill=\"#009af9\" fill-rule=\"evenodd\" fill-opacity=\"1\" stroke=\"#000000\" stroke-opacity=\"1\" stroke-width=\"3.2\"/>\n",
       "<circle clip-path=\"url(#clip572)\" cx=\"1525.45\" cy=\"827.93\" r=\"14.4\" fill=\"#009af9\" fill-rule=\"evenodd\" fill-opacity=\"1\" stroke=\"#000000\" stroke-opacity=\"1\" stroke-width=\"3.2\"/>\n",
       "<circle clip-path=\"url(#clip572)\" cx=\"1621.65\" cy=\"827.912\" r=\"14.4\" fill=\"#009af9\" fill-rule=\"evenodd\" fill-opacity=\"1\" stroke=\"#000000\" stroke-opacity=\"1\" stroke-width=\"3.2\"/>\n",
       "<circle clip-path=\"url(#clip572)\" cx=\"1717.85\" cy=\"827.703\" r=\"14.4\" fill=\"#009af9\" fill-rule=\"evenodd\" fill-opacity=\"1\" stroke=\"#000000\" stroke-opacity=\"1\" stroke-width=\"3.2\"/>\n",
       "<circle clip-path=\"url(#clip572)\" cx=\"1814.05\" cy=\"826.327\" r=\"14.4\" fill=\"#009af9\" fill-rule=\"evenodd\" fill-opacity=\"1\" stroke=\"#000000\" stroke-opacity=\"1\" stroke-width=\"3.2\"/>\n",
       "<circle clip-path=\"url(#clip572)\" cx=\"1910.24\" cy=\"819.949\" r=\"14.4\" fill=\"#009af9\" fill-rule=\"evenodd\" fill-opacity=\"1\" stroke=\"#000000\" stroke-opacity=\"1\" stroke-width=\"3.2\"/>\n",
       "<circle clip-path=\"url(#clip572)\" cx=\"2006.44\" cy=\"796.754\" r=\"14.4\" fill=\"#009af9\" fill-rule=\"evenodd\" fill-opacity=\"1\" stroke=\"#000000\" stroke-opacity=\"1\" stroke-width=\"3.2\"/>\n",
       "<circle clip-path=\"url(#clip572)\" cx=\"2102.64\" cy=\"726.106\" r=\"14.4\" fill=\"#009af9\" fill-rule=\"evenodd\" fill-opacity=\"1\" stroke=\"#000000\" stroke-opacity=\"1\" stroke-width=\"3.2\"/>\n",
       "<circle clip-path=\"url(#clip572)\" cx=\"2198.84\" cy=\"538.081\" r=\"14.4\" fill=\"#009af9\" fill-rule=\"evenodd\" fill-opacity=\"1\" stroke=\"#000000\" stroke-opacity=\"1\" stroke-width=\"3.2\"/>\n",
       "<circle clip-path=\"url(#clip572)\" cx=\"2295.04\" cy=\"87.9763\" r=\"14.4\" fill=\"#009af9\" fill-rule=\"evenodd\" fill-opacity=\"1\" stroke=\"#000000\" stroke-opacity=\"1\" stroke-width=\"3.2\"/>\n",
       "<polyline clip-path=\"url(#clip572)\" style=\"stroke:#e26f46; stroke-linecap:round; stroke-linejoin:round; stroke-width:4; stroke-opacity:1; fill:none\" points=\"371.073,1445.72 467.271,1065.09 563.469,909.168 659.667,852.007 755.866,833.831 852.064,829.045 948.262,828.075 1044.46,827.941 1140.66,827.931 1236.86,827.931 1333.05,827.931 1429.25,827.931 1525.45,827.93 1621.65,827.912 1717.85,827.703 1814.05,826.327 1910.24,819.949 2006.44,796.754 2102.64,726.106 2198.84,538.081 2295.04,87.9763 \"/>\n",
       "<path clip-path=\"url(#clip570)\" d=\"M381.334 250.738 L637.704 250.738 L637.704 95.2176 L381.334 95.2176  Z\" fill=\"#ffffff\" fill-rule=\"evenodd\" fill-opacity=\"1\"/>\n",
       "<polyline clip-path=\"url(#clip570)\" style=\"stroke:#000000; stroke-linecap:round; stroke-linejoin:round; stroke-width:4; stroke-opacity:1; fill:none\" points=\"381.334,250.738 637.704,250.738 637.704,95.2176 381.334,95.2176 381.334,250.738 \"/>\n",
       "<circle clip-path=\"url(#clip570)\" cx=\"471.974\" cy=\"147.058\" r=\"23.04\" fill=\"#009af9\" fill-rule=\"evenodd\" fill-opacity=\"1\" stroke=\"#000000\" stroke-opacity=\"1\" stroke-width=\"5.12\"/>\n",
       "<path clip-path=\"url(#clip570)\" d=\"M576.457 166.745 Q574.651 171.375 572.938 172.787 Q571.225 174.199 568.355 174.199 L564.952 174.199 L564.952 170.634 L567.452 170.634 Q569.211 170.634 570.183 169.8 Q571.156 168.967 572.336 165.865 L573.1 163.921 L562.614 138.412 L567.128 138.412 L575.23 158.689 L583.332 138.412 L587.845 138.412 L576.457 166.745 Z\" fill=\"#000000\" fill-rule=\"evenodd\" fill-opacity=\"1\" /><path clip-path=\"url(#clip570)\" d=\"M595.137 160.402 L602.776 160.402 L602.776 134.037 L594.466 135.703 L594.466 131.444 L602.73 129.778 L607.405 129.778 L607.405 160.402 L615.044 160.402 L615.044 164.338 L595.137 164.338 L595.137 160.402 Z\" fill=\"#000000\" fill-rule=\"evenodd\" fill-opacity=\"1\" /><polyline clip-path=\"url(#clip570)\" style=\"stroke:#e26f46; stroke-linecap:round; stroke-linejoin:round; stroke-width:4; stroke-opacity:1; fill:none\" points=\"403.994,198.898 539.954,198.898 \"/>\n",
       "<path clip-path=\"url(#clip570)\" d=\"M576.457 218.585 Q574.651 223.215 572.938 224.627 Q571.225 226.039 568.355 226.039 L564.952 226.039 L564.952 222.474 L567.452 222.474 Q569.211 222.474 570.183 221.64 Q571.156 220.807 572.336 217.705 L573.1 215.761 L562.614 190.252 L567.128 190.252 L575.23 210.529 L583.332 190.252 L587.845 190.252 L576.457 218.585 Z\" fill=\"#000000\" fill-rule=\"evenodd\" fill-opacity=\"1\" /><path clip-path=\"url(#clip570)\" d=\"M598.355 212.242 L614.674 212.242 L614.674 216.178 L592.73 216.178 L592.73 212.242 Q595.392 209.488 599.975 204.858 Q604.581 200.205 605.762 198.863 Q608.007 196.34 608.887 194.604 Q609.79 192.844 609.79 191.155 Q609.79 188.4 607.845 186.664 Q605.924 184.928 602.822 184.928 Q600.623 184.928 598.169 185.692 Q595.739 186.455 592.961 188.006 L592.961 183.284 Q595.785 182.15 598.239 181.571 Q600.693 180.993 602.73 180.993 Q608.1 180.993 611.294 183.678 Q614.489 186.363 614.489 190.854 Q614.489 192.983 613.679 194.905 Q612.892 196.803 610.785 199.395 Q610.206 200.067 607.105 203.284 Q604.003 206.479 598.355 212.242 Z\" fill=\"#000000\" fill-rule=\"evenodd\" fill-opacity=\"1\" /></svg>\n"
      ]
     },
     "execution_count": 159,
     "metadata": {},
     "output_type": "execute_result"
    }
   ],
   "source": [
    "y_true2 = x_t2 .^ 2 + 3 * x_t2 .- 2\n",
    "y_true2=Polynomial([1,2,3,4,5,6,7,8,9,10]).(x_t2)\n",
    "y_observed2 = y_true2 + rand(noise,length(x_t2))\n",
    "scatter(x_t2,y_observed2)\n",
    "plot!(x_t2,y_true2)"
   ]
  },
  {
   "cell_type": "code",
   "execution_count": 164,
   "id": "5ccfe986",
   "metadata": {},
   "outputs": [
    {
     "data": {
      "text/html": [
       "20.635563343359056 &#43; 1.6652025833993622&#8729;x &#43; 1.2349180629128267&#8729;x<sup>2</sup> &#43; 4.357501371630307&#8729;x<sup>3</sup> &#43; 5.135099840663973&#8729;x<sup>4</sup> &#43; 5.970940821201027&#8729;x<sup>5</sup> &#43; 6.996111809679445&#8729;x<sup>6</sup> &#43; 8.00059347453413&#8729;x<sup>7</sup> &#43; 9.000048019792533&#8729;x<sup>8</sup> &#43; 9.999996546564386&#8729;x<sup>9</sup> &#45; 2.1457878337912296e-7&#8729;x<sup>10</sup>"
      ],
      "text/latex": [
       "$20.635563343359056 + 1.6652025833993622\\cdot x + 1.2349180629128267\\cdot x^{2} + 4.357501371630307\\cdot x^{3} + 5.135099840663973\\cdot x^{4} + 5.970940821201027\\cdot x^{5} + 6.996111809679445\\cdot x^{6} + 8.00059347453413\\cdot x^{7} + 9.000048019792533\\cdot x^{8} + 9.999996546564386\\cdot x^{9} - 2.1457878337912296e-7\\cdot x^{10}$"
      ],
      "text/plain": [
       "Polynomial(20.635563343359056 + 1.6652025833993622*x + 1.2349180629128267*x^2 + 4.357501371630307*x^3 + 5.135099840663973*x^4 + 5.970940821201027*x^5 + 6.996111809679445*x^6 + 8.00059347453413*x^7 + 9.000048019792533*x^8 + 9.999996546564386*x^9 - 2.1457878337912296e-7*x^10)"
      ]
     },
     "execution_count": 164,
     "metadata": {},
     "output_type": "execute_result"
    }
   ],
   "source": [
    "line_fit2 = fit(x_t2,y_observed2,10)"
   ]
  },
  {
   "cell_type": "code",
   "execution_count": 165,
   "id": "ef3ad207",
   "metadata": {},
   "outputs": [
    {
     "data": {
      "text/plain": [
       "Polynomial{Float64, :x}"
      ]
     },
     "execution_count": 165,
     "metadata": {},
     "output_type": "execute_result"
    }
   ],
   "source": [
    "typeof(line_fit2)"
   ]
  },
  {
   "cell_type": "code",
   "execution_count": 166,
   "id": "14bcd54e",
   "metadata": {},
   "outputs": [
    {
     "data": {
      "text/plain": [
       "11-element Vector{Float64}:\n",
       " 20.635563343359056\n",
       "  1.6652025833993622\n",
       "  1.2349180629128267\n",
       "  4.357501371630307\n",
       "  5.135099840663973\n",
       "  5.970940821201027\n",
       "  6.996111809679445\n",
       "  8.00059347453413\n",
       "  9.000048019792533\n",
       "  9.999996546564386\n",
       " -2.1457878337912296e-7"
      ]
     },
     "execution_count": 166,
     "metadata": {},
     "output_type": "execute_result"
    }
   ],
   "source": [
    "fit_coeff2 = coeffs(line_fit2)"
   ]
  },
  {
   "cell_type": "code",
   "execution_count": 183,
   "id": "a5dfd1c3",
   "metadata": {},
   "outputs": [
    {
     "data": {
      "text/plain": [
       "21-element Vector{Float64}:\n",
       " 127.4753438006481\n",
       " 105.67710318870375\n",
       "  86.34869870258507\n",
       "  69.49013034229203\n",
       "  55.10139810782465\n",
       "  43.18250199918291\n",
       "  33.73344201636684\n",
       "  26.75421815937641\n",
       "  22.24483042821164\n",
       "  20.20527882287252\n",
       "  20.635563343359056\n",
       "  23.535683989671245\n",
       "  28.905640761809085\n",
       "  36.74543365977259\n",
       "  47.05506268356173\n",
       "  59.83452783317654\n",
       "  75.083829108617\n",
       "  92.8029665098831\n",
       " 112.99194003697485\n",
       " 135.65074968989228\n",
       " 160.77939546863536"
      ]
     },
     "execution_count": 183,
     "metadata": {},
     "output_type": "execute_result"
    }
   ],
   "source": [
    "y_fitted2 = fit_coeff2[1] .+ (fit_coeff2[2] .* (x_t2)) .+ ((fit_coeff2[3]) .* (x_t2.^2))"
   ]
  },
  {
   "cell_type": "code",
   "execution_count": 168,
   "id": "49d75f89",
   "metadata": {},
   "outputs": [],
   "source": [
    "#y_observed2 = y_true2 + rand(noise,length(x_t2))"
   ]
  },
  {
   "cell_type": "code",
   "execution_count": 169,
   "id": "871dc8e9",
   "metadata": {},
   "outputs": [],
   "source": [
    "#y_true2 = x .^ 2 + 3 * x .- 2\n",
    "#y_observed2 = y_true2 + rand(noise,length(x_t2))\n",
    "#scatter(x_t2,y_observed2)\n",
    "#plot!(x_t2,y_true2)"
   ]
  },
  {
   "cell_type": "code",
   "execution_count": 170,
   "id": "7bcbdeb7",
   "metadata": {},
   "outputs": [],
   "source": [
    "#line_fit2 = fit(x_t2,y_observed2,10)"
   ]
  },
  {
   "cell_type": "code",
   "execution_count": 171,
   "id": "d2f2fadb",
   "metadata": {},
   "outputs": [],
   "source": [
    "#typeof(line_fit2)"
   ]
  },
  {
   "cell_type": "code",
   "execution_count": 172,
   "id": "8ca79929",
   "metadata": {},
   "outputs": [],
   "source": [
    "#fit_coeff2 = coeffs(line_fit2)"
   ]
  },
  {
   "cell_type": "code",
   "execution_count": 173,
   "id": "a23a93af",
   "metadata": {},
   "outputs": [],
   "source": [
    "#y_fitted2 = fit_coeff2[1] .+ (fit_coeff2[2] .* (x)) .+ ((fit_coeff2[3]) .* (x.^2))"
   ]
  },
  {
   "cell_type": "code",
   "execution_count": 174,
   "id": "52834246",
   "metadata": {},
   "outputs": [],
   "source": [
    "#scatter(x,y_observed2)\n",
    "#plot!(x,y_true2)\n",
    "#plot!(x,y_fitted2)"
   ]
  },
  {
   "cell_type": "markdown",
   "id": "36028ee0",
   "metadata": {},
   "source": [
    "### 2.6\n",
    "\n",
    "1. Create a new independent parameter x_fit ranging from -11 to 11 with an increment of 0.1\n",
    "2. Plot the same three plots as in 2.3 again but apply the tenth order polynomial to x_fit instead of x\n"
   ]
  },
  {
   "cell_type": "code",
   "execution_count": 13,
   "id": "6c67a977",
   "metadata": {},
   "outputs": [
    {
     "data": {
      "text/plain": [
       "-11.0:0.1:11.0"
      ]
     },
     "execution_count": 13,
     "metadata": {},
     "output_type": "execute_result"
    }
   ],
   "source": [
    "x_fit = -11.0:0.1:11.0"
   ]
  },
  {
   "cell_type": "code",
   "execution_count": 175,
   "id": "58dfdd9b",
   "metadata": {},
   "outputs": [
    {
     "data": {
      "text/plain": [
       "221-element Vector{Float64}:\n",
       " -11.0\n",
       " -10.9\n",
       " -10.8\n",
       " -10.7\n",
       " -10.6\n",
       " -10.5\n",
       " -10.4\n",
       " -10.3\n",
       " -10.2\n",
       " -10.1\n",
       " -10.0\n",
       "  -9.9\n",
       "  -9.8\n",
       "   ⋮\n",
       "   9.9\n",
       "  10.0\n",
       "  10.1\n",
       "  10.2\n",
       "  10.3\n",
       "  10.4\n",
       "  10.5\n",
       "  10.6\n",
       "  10.7\n",
       "  10.8\n",
       "  10.9\n",
       "  11.0"
      ]
     },
     "execution_count": 175,
     "metadata": {},
     "output_type": "execute_result"
    }
   ],
   "source": [
    "collect(x_fit)"
   ]
  },
  {
   "cell_type": "markdown",
   "id": "bbcb4ef4",
   "metadata": {},
   "source": [
    "3. What do you observe in the plot? What is this phenomenon called?"
   ]
  },
  {
   "cell_type": "code",
   "execution_count": 178,
   "id": "4ca78285",
   "metadata": {},
   "outputs": [
    {
     "data": {
      "text/plain": [
       "Normal{Float64}(μ=0.0, σ=50.0)"
      ]
     },
     "execution_count": 178,
     "metadata": {},
     "output_type": "execute_result"
    }
   ],
   "source": [
    "dataerr = 50\n",
    "noise = di.Normal(0,dataerr)"
   ]
  },
  {
   "cell_type": "code",
   "execution_count": 179,
   "id": "284c2729",
   "metadata": {},
   "outputs": [
    {
     "data": {
      "image/svg+xml": [
       "<?xml version=\"1.0\" encoding=\"utf-8\"?>\n",
       "<svg xmlns=\"http://www.w3.org/2000/svg\" xmlns:xlink=\"http://www.w3.org/1999/xlink\" width=\"600\" height=\"400\" viewBox=\"0 0 2400 1600\">\n",
       "<defs>\n",
       "  <clipPath id=\"clip650\">\n",
       "    <rect x=\"0\" y=\"0\" width=\"2400\" height=\"1600\"/>\n",
       "  </clipPath>\n",
       "</defs>\n",
       "<path clip-path=\"url(#clip650)\" d=\"M0 1600 L2400 1600 L2400 0 L0 0  Z\" fill=\"#ffffff\" fill-rule=\"evenodd\" fill-opacity=\"1\"/>\n",
       "<defs>\n",
       "  <clipPath id=\"clip651\">\n",
       "    <rect x=\"480\" y=\"0\" width=\"1681\" height=\"1600\"/>\n",
       "  </clipPath>\n",
       "</defs>\n",
       "<path clip-path=\"url(#clip650)\" d=\"M336.205 1486.45 L2352.76 1486.45 L2352.76 47.2441 L336.205 47.2441  Z\" fill=\"#ffffff\" fill-rule=\"evenodd\" fill-opacity=\"1\"/>\n",
       "<defs>\n",
       "  <clipPath id=\"clip652\">\n",
       "    <rect x=\"336\" y=\"47\" width=\"2018\" height=\"1440\"/>\n",
       "  </clipPath>\n",
       "</defs>\n",
       "<polyline clip-path=\"url(#clip652)\" style=\"stroke:#000000; stroke-linecap:round; stroke-linejoin:round; stroke-width:2; stroke-opacity:0.1; fill:none\" points=\"479.75,1486.45 479.75,47.2441 \"/>\n",
       "<polyline clip-path=\"url(#clip652)\" style=\"stroke:#000000; stroke-linecap:round; stroke-linejoin:round; stroke-width:2; stroke-opacity:0.1; fill:none\" points=\"912.115,1486.45 912.115,47.2441 \"/>\n",
       "<polyline clip-path=\"url(#clip652)\" style=\"stroke:#000000; stroke-linecap:round; stroke-linejoin:round; stroke-width:2; stroke-opacity:0.1; fill:none\" points=\"1344.48,1486.45 1344.48,47.2441 \"/>\n",
       "<polyline clip-path=\"url(#clip652)\" style=\"stroke:#000000; stroke-linecap:round; stroke-linejoin:round; stroke-width:2; stroke-opacity:0.1; fill:none\" points=\"1776.85,1486.45 1776.85,47.2441 \"/>\n",
       "<polyline clip-path=\"url(#clip652)\" style=\"stroke:#000000; stroke-linecap:round; stroke-linejoin:round; stroke-width:2; stroke-opacity:0.1; fill:none\" points=\"2209.21,1486.45 2209.21,47.2441 \"/>\n",
       "<polyline clip-path=\"url(#clip650)\" style=\"stroke:#000000; stroke-linecap:round; stroke-linejoin:round; stroke-width:4; stroke-opacity:1; fill:none\" points=\"336.205,1486.45 2352.76,1486.45 \"/>\n",
       "<polyline clip-path=\"url(#clip650)\" style=\"stroke:#000000; stroke-linecap:round; stroke-linejoin:round; stroke-width:4; stroke-opacity:1; fill:none\" points=\"479.75,1486.45 479.75,1467.55 \"/>\n",
       "<polyline clip-path=\"url(#clip650)\" style=\"stroke:#000000; stroke-linecap:round; stroke-linejoin:round; stroke-width:4; stroke-opacity:1; fill:none\" points=\"912.115,1486.45 912.115,1467.55 \"/>\n",
       "<polyline clip-path=\"url(#clip650)\" style=\"stroke:#000000; stroke-linecap:round; stroke-linejoin:round; stroke-width:4; stroke-opacity:1; fill:none\" points=\"1344.48,1486.45 1344.48,1467.55 \"/>\n",
       "<polyline clip-path=\"url(#clip650)\" style=\"stroke:#000000; stroke-linecap:round; stroke-linejoin:round; stroke-width:4; stroke-opacity:1; fill:none\" points=\"1776.85,1486.45 1776.85,1467.55 \"/>\n",
       "<polyline clip-path=\"url(#clip650)\" style=\"stroke:#000000; stroke-linecap:round; stroke-linejoin:round; stroke-width:4; stroke-opacity:1; fill:none\" points=\"2209.21,1486.45 2209.21,1467.55 \"/>\n",
       "<path clip-path=\"url(#clip650)\" d=\"M433.813 1532.02 L463.489 1532.02 L463.489 1535.95 L433.813 1535.95 L433.813 1532.02 Z\" fill=\"#000000\" fill-rule=\"evenodd\" fill-opacity=\"1\" /><path clip-path=\"url(#clip650)\" d=\"M474.392 1544.91 L482.03 1544.91 L482.03 1518.55 L473.72 1520.21 L473.72 1515.95 L481.984 1514.29 L486.66 1514.29 L486.66 1544.91 L494.299 1544.91 L494.299 1548.85 L474.392 1548.85 L474.392 1544.91 Z\" fill=\"#000000\" fill-rule=\"evenodd\" fill-opacity=\"1\" /><path clip-path=\"url(#clip650)\" d=\"M513.743 1517.37 Q510.132 1517.37 508.303 1520.93 Q506.498 1524.47 506.498 1531.6 Q506.498 1538.71 508.303 1542.27 Q510.132 1545.82 513.743 1545.82 Q517.378 1545.82 519.183 1542.27 Q521.012 1538.71 521.012 1531.6 Q521.012 1524.47 519.183 1520.93 Q517.378 1517.37 513.743 1517.37 M513.743 1513.66 Q519.553 1513.66 522.609 1518.27 Q525.688 1522.85 525.688 1531.6 Q525.688 1540.33 522.609 1544.94 Q519.553 1549.52 513.743 1549.52 Q507.933 1549.52 504.854 1544.94 Q501.799 1540.33 501.799 1531.6 Q501.799 1522.85 504.854 1518.27 Q507.933 1513.66 513.743 1513.66 Z\" fill=\"#000000\" fill-rule=\"evenodd\" fill-opacity=\"1\" /><path clip-path=\"url(#clip650)\" d=\"M881.757 1532.02 L911.433 1532.02 L911.433 1535.95 L881.757 1535.95 L881.757 1532.02 Z\" fill=\"#000000\" fill-rule=\"evenodd\" fill-opacity=\"1\" /><path clip-path=\"url(#clip650)\" d=\"M921.571 1514.29 L939.928 1514.29 L939.928 1518.22 L925.854 1518.22 L925.854 1526.7 Q926.872 1526.35 927.891 1526.19 Q928.909 1526 929.928 1526 Q935.715 1526 939.095 1529.17 Q942.474 1532.34 942.474 1537.76 Q942.474 1543.34 939.002 1546.44 Q935.53 1549.52 929.21 1549.52 Q927.034 1549.52 924.766 1549.15 Q922.521 1548.78 920.113 1548.04 L920.113 1543.34 Q922.196 1544.47 924.419 1545.03 Q926.641 1545.58 929.118 1545.58 Q933.122 1545.58 935.46 1543.48 Q937.798 1541.37 937.798 1537.76 Q937.798 1534.15 935.46 1532.04 Q933.122 1529.94 929.118 1529.94 Q927.243 1529.94 925.368 1530.35 Q923.516 1530.77 921.571 1531.65 L921.571 1514.29 Z\" fill=\"#000000\" fill-rule=\"evenodd\" fill-opacity=\"1\" /><path clip-path=\"url(#clip650)\" d=\"M1344.48 1517.37 Q1340.87 1517.37 1339.04 1520.93 Q1337.24 1524.47 1337.24 1531.6 Q1337.24 1538.71 1339.04 1542.27 Q1340.87 1545.82 1344.48 1545.82 Q1348.11 1545.82 1349.92 1542.27 Q1351.75 1538.71 1351.75 1531.6 Q1351.75 1524.47 1349.92 1520.93 Q1348.11 1517.37 1344.48 1517.37 M1344.48 1513.66 Q1350.29 1513.66 1353.35 1518.27 Q1356.42 1522.85 1356.42 1531.6 Q1356.42 1540.33 1353.35 1544.94 Q1350.29 1549.52 1344.48 1549.52 Q1338.67 1549.52 1335.59 1544.94 Q1332.54 1540.33 1332.54 1531.6 Q1332.54 1522.85 1335.59 1518.27 Q1338.67 1513.66 1344.48 1513.66 Z\" fill=\"#000000\" fill-rule=\"evenodd\" fill-opacity=\"1\" /><path clip-path=\"url(#clip650)\" d=\"M1767.12 1514.29 L1785.48 1514.29 L1785.48 1518.22 L1771.41 1518.22 L1771.41 1526.7 Q1772.42 1526.35 1773.44 1526.19 Q1774.46 1526 1775.48 1526 Q1781.27 1526 1784.65 1529.17 Q1788.03 1532.34 1788.03 1537.76 Q1788.03 1543.34 1784.55 1546.44 Q1781.08 1549.52 1774.76 1549.52 Q1772.59 1549.52 1770.32 1549.15 Q1768.07 1548.78 1765.67 1548.04 L1765.67 1543.34 Q1767.75 1544.47 1769.97 1545.03 Q1772.19 1545.58 1774.67 1545.58 Q1778.67 1545.58 1781.01 1543.48 Q1783.35 1541.37 1783.35 1537.76 Q1783.35 1534.15 1781.01 1532.04 Q1778.67 1529.94 1774.67 1529.94 Q1772.79 1529.94 1770.92 1530.35 Q1769.07 1530.77 1767.12 1531.65 L1767.12 1514.29 Z\" fill=\"#000000\" fill-rule=\"evenodd\" fill-opacity=\"1\" /><path clip-path=\"url(#clip650)\" d=\"M2183.9 1544.91 L2191.54 1544.91 L2191.54 1518.55 L2183.23 1520.21 L2183.23 1515.95 L2191.49 1514.29 L2196.17 1514.29 L2196.17 1544.91 L2203.81 1544.91 L2203.81 1548.85 L2183.9 1548.85 L2183.9 1544.91 Z\" fill=\"#000000\" fill-rule=\"evenodd\" fill-opacity=\"1\" /><path clip-path=\"url(#clip650)\" d=\"M2223.25 1517.37 Q2219.64 1517.37 2217.81 1520.93 Q2216 1524.47 2216 1531.6 Q2216 1538.71 2217.81 1542.27 Q2219.64 1545.82 2223.25 1545.82 Q2226.88 1545.82 2228.69 1542.27 Q2230.52 1538.71 2230.52 1531.6 Q2230.52 1524.47 2228.69 1520.93 Q2226.88 1517.37 2223.25 1517.37 M2223.25 1513.66 Q2229.06 1513.66 2232.12 1518.27 Q2235.19 1522.85 2235.19 1531.6 Q2235.19 1540.33 2232.12 1544.94 Q2229.06 1549.52 2223.25 1549.52 Q2217.44 1549.52 2214.36 1544.94 Q2211.31 1540.33 2211.31 1531.6 Q2211.31 1522.85 2214.36 1518.27 Q2217.44 1513.66 2223.25 1513.66 Z\" fill=\"#000000\" fill-rule=\"evenodd\" fill-opacity=\"1\" /><polyline clip-path=\"url(#clip652)\" style=\"stroke:#000000; stroke-linecap:round; stroke-linejoin:round; stroke-width:2; stroke-opacity:0.1; fill:none\" points=\"336.205,1394.39 2352.76,1394.39 \"/>\n",
       "<polyline clip-path=\"url(#clip652)\" style=\"stroke:#000000; stroke-linecap:round; stroke-linejoin:round; stroke-width:2; stroke-opacity:0.1; fill:none\" points=\"336.205,1108.38 2352.76,1108.38 \"/>\n",
       "<polyline clip-path=\"url(#clip652)\" style=\"stroke:#000000; stroke-linecap:round; stroke-linejoin:round; stroke-width:2; stroke-opacity:0.1; fill:none\" points=\"336.205,822.38 2352.76,822.38 \"/>\n",
       "<polyline clip-path=\"url(#clip652)\" style=\"stroke:#000000; stroke-linecap:round; stroke-linejoin:round; stroke-width:2; stroke-opacity:0.1; fill:none\" points=\"336.205,536.375 2352.76,536.375 \"/>\n",
       "<polyline clip-path=\"url(#clip652)\" style=\"stroke:#000000; stroke-linecap:round; stroke-linejoin:round; stroke-width:2; stroke-opacity:0.1; fill:none\" points=\"336.205,250.371 2352.76,250.371 \"/>\n",
       "<polyline clip-path=\"url(#clip650)\" style=\"stroke:#000000; stroke-linecap:round; stroke-linejoin:round; stroke-width:4; stroke-opacity:1; fill:none\" points=\"336.205,1486.45 336.205,47.2441 \"/>\n",
       "<polyline clip-path=\"url(#clip650)\" style=\"stroke:#000000; stroke-linecap:round; stroke-linejoin:round; stroke-width:4; stroke-opacity:1; fill:none\" points=\"336.205,1394.39 355.103,1394.39 \"/>\n",
       "<polyline clip-path=\"url(#clip650)\" style=\"stroke:#000000; stroke-linecap:round; stroke-linejoin:round; stroke-width:4; stroke-opacity:1; fill:none\" points=\"336.205,1108.38 355.103,1108.38 \"/>\n",
       "<polyline clip-path=\"url(#clip650)\" style=\"stroke:#000000; stroke-linecap:round; stroke-linejoin:round; stroke-width:4; stroke-opacity:1; fill:none\" points=\"336.205,822.38 355.103,822.38 \"/>\n",
       "<polyline clip-path=\"url(#clip650)\" style=\"stroke:#000000; stroke-linecap:round; stroke-linejoin:round; stroke-width:4; stroke-opacity:1; fill:none\" points=\"336.205,536.375 355.103,536.375 \"/>\n",
       "<polyline clip-path=\"url(#clip650)\" style=\"stroke:#000000; stroke-linecap:round; stroke-linejoin:round; stroke-width:4; stroke-opacity:1; fill:none\" points=\"336.205,250.371 355.103,250.371 \"/>\n",
       "<path clip-path=\"url(#clip650)\" d=\"M50.9921 1401.29 L80.6679 1401.29 L80.6679 1405.22 L50.9921 1405.22 L50.9921 1401.29 Z\" fill=\"#000000\" fill-rule=\"evenodd\" fill-opacity=\"1\" /><path clip-path=\"url(#clip650)\" d=\"M94.7882 1414.18 L111.108 1414.18 L111.108 1418.12 L89.1632 1418.12 L89.1632 1414.18 Q91.8252 1411.43 96.4085 1406.8 Q101.015 1402.14 102.196 1400.8 Q104.441 1398.28 105.321 1396.54 Q106.223 1394.78 106.223 1393.09 Q106.223 1390.34 104.279 1388.6 Q102.358 1386.87 99.2558 1386.87 Q97.0567 1386.87 94.603 1387.63 Q92.1725 1388.39 89.3947 1389.94 L89.3947 1385.22 Q92.2188 1384.09 94.6724 1383.51 Q97.1261 1382.93 99.1632 1382.93 Q104.534 1382.93 107.728 1385.62 Q110.922 1388.3 110.922 1392.79 Q110.922 1394.92 110.112 1396.84 Q109.325 1398.74 107.219 1401.33 Q106.64 1402 103.538 1405.22 Q100.436 1408.42 94.7882 1414.18 Z\" fill=\"#000000\" fill-rule=\"evenodd\" fill-opacity=\"1\" /><path clip-path=\"url(#clip650)\" d=\"M120.922 1412.24 L125.807 1412.24 L125.807 1418.12 L120.922 1418.12 L120.922 1412.24 Z\" fill=\"#000000\" fill-rule=\"evenodd\" fill-opacity=\"1\" /><path clip-path=\"url(#clip650)\" d=\"M145.992 1386.63 Q142.381 1386.63 140.552 1390.2 Q138.746 1393.74 138.746 1400.87 Q138.746 1407.98 140.552 1411.54 Q142.381 1415.08 145.992 1415.08 Q149.626 1415.08 151.431 1411.54 Q153.26 1407.98 153.26 1400.87 Q153.26 1393.74 151.431 1390.2 Q149.626 1386.63 145.992 1386.63 M145.992 1382.93 Q151.802 1382.93 154.857 1387.54 Q157.936 1392.12 157.936 1400.87 Q157.936 1409.6 154.857 1414.2 Q151.802 1418.79 145.992 1418.79 Q140.181 1418.79 137.103 1414.2 Q134.047 1409.6 134.047 1400.87 Q134.047 1392.12 137.103 1387.54 Q140.181 1382.93 145.992 1382.93 Z\" fill=\"#000000\" fill-rule=\"evenodd\" fill-opacity=\"1\" /><path clip-path=\"url(#clip650)\" d=\"M194.325 1392.65 L183.746 1403.28 L194.325 1413.86 L191.57 1416.66 L180.945 1406.03 L170.32 1416.66 L167.589 1413.86 L178.144 1403.28 L167.589 1392.65 L170.32 1389.85 L180.945 1400.48 L191.57 1389.85 L194.325 1392.65 Z\" fill=\"#000000\" fill-rule=\"evenodd\" fill-opacity=\"1\" /><path clip-path=\"url(#clip650)\" d=\"M206.686 1414.18 L214.325 1414.18 L214.325 1387.82 L206.014 1389.48 L206.014 1385.22 L214.278 1383.56 L218.954 1383.56 L218.954 1414.18 L226.593 1414.18 L226.593 1418.12 L206.686 1418.12 L206.686 1414.18 Z\" fill=\"#000000\" fill-rule=\"evenodd\" fill-opacity=\"1\" /><path clip-path=\"url(#clip650)\" d=\"M246.037 1386.63 Q242.426 1386.63 240.598 1390.2 Q238.792 1393.74 238.792 1400.87 Q238.792 1407.98 240.598 1411.54 Q242.426 1415.08 246.037 1415.08 Q249.672 1415.08 251.477 1411.54 Q253.306 1407.98 253.306 1400.87 Q253.306 1393.74 251.477 1390.2 Q249.672 1386.63 246.037 1386.63 M246.037 1382.93 Q251.848 1382.93 254.903 1387.54 Q257.982 1392.12 257.982 1400.87 Q257.982 1409.6 254.903 1414.2 Q251.848 1418.79 246.037 1418.79 Q240.227 1418.79 237.149 1414.2 Q234.093 1409.6 234.093 1400.87 Q234.093 1392.12 237.149 1387.54 Q240.227 1382.93 246.037 1382.93 Z\" fill=\"#000000\" fill-rule=\"evenodd\" fill-opacity=\"1\" /><path clip-path=\"url(#clip650)\" d=\"M258.527 1387.51 L264.734 1387.51 L264.734 1366.09 L257.982 1367.44 L257.982 1363.98 L264.696 1362.63 L268.495 1362.63 L268.495 1387.51 L274.702 1387.51 L274.702 1390.71 L258.527 1390.71 L258.527 1387.51 Z\" fill=\"#000000\" fill-rule=\"evenodd\" fill-opacity=\"1\" /><path clip-path=\"url(#clip650)\" d=\"M290.5 1365.13 Q287.566 1365.13 286.081 1368.02 Q284.614 1370.9 284.614 1376.69 Q284.614 1382.47 286.081 1385.36 Q287.566 1388.24 290.5 1388.24 Q293.453 1388.24 294.92 1385.36 Q296.406 1382.47 296.406 1376.69 Q296.406 1370.9 294.92 1368.02 Q293.453 1365.13 290.5 1365.13 M290.5 1362.12 Q295.221 1362.12 297.704 1365.86 Q300.205 1369.58 300.205 1376.69 Q300.205 1383.78 297.704 1387.53 Q295.221 1391.25 290.5 1391.25 Q285.78 1391.25 283.278 1387.53 Q280.796 1383.78 280.796 1376.69 Q280.796 1369.58 283.278 1365.86 Q285.78 1362.12 290.5 1362.12 Z\" fill=\"#000000\" fill-rule=\"evenodd\" fill-opacity=\"1\" /><path clip-path=\"url(#clip650)\" d=\"M50.9921 1115.28 L80.6679 1115.28 L80.6679 1119.22 L50.9921 1119.22 L50.9921 1115.28 Z\" fill=\"#000000\" fill-rule=\"evenodd\" fill-opacity=\"1\" /><path clip-path=\"url(#clip650)\" d=\"M91.5706 1128.18 L99.2095 1128.18 L99.2095 1101.81 L90.8993 1103.48 L90.8993 1099.22 L99.1632 1097.55 L103.839 1097.55 L103.839 1128.18 L111.478 1128.18 L111.478 1132.11 L91.5706 1132.11 L91.5706 1128.18 Z\" fill=\"#000000\" fill-rule=\"evenodd\" fill-opacity=\"1\" /><path clip-path=\"url(#clip650)\" d=\"M120.922 1126.23 L125.807 1126.23 L125.807 1132.11 L120.922 1132.11 L120.922 1126.23 Z\" fill=\"#000000\" fill-rule=\"evenodd\" fill-opacity=\"1\" /><path clip-path=\"url(#clip650)\" d=\"M145.992 1100.63 Q142.381 1100.63 140.552 1104.19 Q138.746 1107.74 138.746 1114.87 Q138.746 1121.97 140.552 1125.54 Q142.381 1129.08 145.992 1129.08 Q149.626 1129.08 151.431 1125.54 Q153.26 1121.97 153.26 1114.87 Q153.26 1107.74 151.431 1104.19 Q149.626 1100.63 145.992 1100.63 M145.992 1096.93 Q151.802 1096.93 154.857 1101.53 Q157.936 1106.12 157.936 1114.87 Q157.936 1123.59 154.857 1128.2 Q151.802 1132.78 145.992 1132.78 Q140.181 1132.78 137.103 1128.2 Q134.047 1123.59 134.047 1114.87 Q134.047 1106.12 137.103 1101.53 Q140.181 1096.93 145.992 1096.93 Z\" fill=\"#000000\" fill-rule=\"evenodd\" fill-opacity=\"1\" /><path clip-path=\"url(#clip650)\" d=\"M194.325 1106.65 L183.746 1117.27 L194.325 1127.85 L191.57 1130.65 L180.945 1120.03 L170.32 1130.65 L167.589 1127.85 L178.144 1117.27 L167.589 1106.65 L170.32 1103.85 L180.945 1114.47 L191.57 1103.85 L194.325 1106.65 Z\" fill=\"#000000\" fill-rule=\"evenodd\" fill-opacity=\"1\" /><path clip-path=\"url(#clip650)\" d=\"M206.686 1128.18 L214.325 1128.18 L214.325 1101.81 L206.014 1103.48 L206.014 1099.22 L214.278 1097.55 L218.954 1097.55 L218.954 1128.18 L226.593 1128.18 L226.593 1132.11 L206.686 1132.11 L206.686 1128.18 Z\" fill=\"#000000\" fill-rule=\"evenodd\" fill-opacity=\"1\" /><path clip-path=\"url(#clip650)\" d=\"M246.037 1100.63 Q242.426 1100.63 240.598 1104.19 Q238.792 1107.74 238.792 1114.87 Q238.792 1121.97 240.598 1125.54 Q242.426 1129.08 246.037 1129.08 Q249.672 1129.08 251.477 1125.54 Q253.306 1121.97 253.306 1114.87 Q253.306 1107.74 251.477 1104.19 Q249.672 1100.63 246.037 1100.63 M246.037 1096.93 Q251.848 1096.93 254.903 1101.53 Q257.982 1106.12 257.982 1114.87 Q257.982 1123.59 254.903 1128.2 Q251.848 1132.78 246.037 1132.78 Q240.227 1132.78 237.149 1128.2 Q234.093 1123.59 234.093 1114.87 Q234.093 1106.12 237.149 1101.53 Q240.227 1096.93 246.037 1096.93 Z\" fill=\"#000000\" fill-rule=\"evenodd\" fill-opacity=\"1\" /><path clip-path=\"url(#clip650)\" d=\"M258.527 1101.5 L264.734 1101.5 L264.734 1080.08 L257.982 1081.44 L257.982 1077.98 L264.696 1076.62 L268.495 1076.62 L268.495 1101.5 L274.702 1101.5 L274.702 1104.7 L258.527 1104.7 L258.527 1101.5 Z\" fill=\"#000000\" fill-rule=\"evenodd\" fill-opacity=\"1\" /><path clip-path=\"url(#clip650)\" d=\"M290.5 1079.12 Q287.566 1079.12 286.081 1082.02 Q284.614 1084.9 284.614 1090.69 Q284.614 1096.46 286.081 1099.36 Q287.566 1102.24 290.5 1102.24 Q293.453 1102.24 294.92 1099.36 Q296.406 1096.46 296.406 1090.69 Q296.406 1084.9 294.92 1082.02 Q293.453 1079.12 290.5 1079.12 M290.5 1076.11 Q295.221 1076.11 297.704 1079.86 Q300.205 1083.58 300.205 1090.69 Q300.205 1097.78 297.704 1101.52 Q295.221 1105.25 290.5 1105.25 Q285.78 1105.25 283.278 1101.52 Q280.796 1097.78 280.796 1090.69 Q280.796 1083.58 283.278 1079.86 Q285.78 1076.11 290.5 1076.11 Z\" fill=\"#000000\" fill-rule=\"evenodd\" fill-opacity=\"1\" /><path clip-path=\"url(#clip650)\" d=\"M288.261 808.178 Q284.65 808.178 282.821 811.743 Q281.015 815.285 281.015 822.414 Q281.015 829.521 282.821 833.086 Q284.65 836.627 288.261 836.627 Q291.895 836.627 293.701 833.086 Q295.529 829.521 295.529 822.414 Q295.529 815.285 293.701 811.743 Q291.895 808.178 288.261 808.178 M288.261 804.475 Q294.071 804.475 297.127 809.081 Q300.205 813.664 300.205 822.414 Q300.205 831.141 297.127 835.748 Q294.071 840.331 288.261 840.331 Q282.451 840.331 279.372 835.748 Q276.316 831.141 276.316 822.414 Q276.316 813.664 279.372 809.081 Q282.451 804.475 288.261 804.475 Z\" fill=\"#000000\" fill-rule=\"evenodd\" fill-opacity=\"1\" /><path clip-path=\"url(#clip650)\" d=\"M91.5706 556.168 L99.2095 556.168 L99.2095 529.802 L90.8993 531.469 L90.8993 527.21 L99.1632 525.543 L103.839 525.543 L103.839 556.168 L111.478 556.168 L111.478 560.103 L91.5706 560.103 L91.5706 556.168 Z\" fill=\"#000000\" fill-rule=\"evenodd\" fill-opacity=\"1\" /><path clip-path=\"url(#clip650)\" d=\"M120.922 554.223 L125.807 554.223 L125.807 560.103 L120.922 560.103 L120.922 554.223 Z\" fill=\"#000000\" fill-rule=\"evenodd\" fill-opacity=\"1\" /><path clip-path=\"url(#clip650)\" d=\"M145.992 528.622 Q142.381 528.622 140.552 532.186 Q138.746 535.728 138.746 542.858 Q138.746 549.964 140.552 553.529 Q142.381 557.07 145.992 557.07 Q149.626 557.07 151.431 553.529 Q153.26 549.964 153.26 542.858 Q153.26 535.728 151.431 532.186 Q149.626 528.622 145.992 528.622 M145.992 524.918 Q151.802 524.918 154.857 529.524 Q157.936 534.108 157.936 542.858 Q157.936 551.584 154.857 556.191 Q151.802 560.774 145.992 560.774 Q140.181 560.774 137.103 556.191 Q134.047 551.584 134.047 542.858 Q134.047 534.108 137.103 529.524 Q140.181 524.918 145.992 524.918 Z\" fill=\"#000000\" fill-rule=\"evenodd\" fill-opacity=\"1\" /><path clip-path=\"url(#clip650)\" d=\"M194.325 534.64 L183.746 545.265 L194.325 555.844 L191.57 558.645 L180.945 548.02 L170.32 558.645 L167.589 555.844 L178.144 545.265 L167.589 534.64 L170.32 531.839 L180.945 542.464 L191.57 531.839 L194.325 534.64 Z\" fill=\"#000000\" fill-rule=\"evenodd\" fill-opacity=\"1\" /><path clip-path=\"url(#clip650)\" d=\"M206.686 556.168 L214.325 556.168 L214.325 529.802 L206.014 531.469 L206.014 527.21 L214.278 525.543 L218.954 525.543 L218.954 556.168 L226.593 556.168 L226.593 560.103 L206.686 560.103 L206.686 556.168 Z\" fill=\"#000000\" fill-rule=\"evenodd\" fill-opacity=\"1\" /><path clip-path=\"url(#clip650)\" d=\"M246.037 528.622 Q242.426 528.622 240.598 532.186 Q238.792 535.728 238.792 542.858 Q238.792 549.964 240.598 553.529 Q242.426 557.07 246.037 557.07 Q249.672 557.07 251.477 553.529 Q253.306 549.964 253.306 542.858 Q253.306 535.728 251.477 532.186 Q249.672 528.622 246.037 528.622 M246.037 524.918 Q251.848 524.918 254.903 529.524 Q257.982 534.108 257.982 542.858 Q257.982 551.584 254.903 556.191 Q251.848 560.774 246.037 560.774 Q240.227 560.774 237.149 556.191 Q234.093 551.584 234.093 542.858 Q234.093 534.108 237.149 529.524 Q240.227 524.918 246.037 524.918 Z\" fill=\"#000000\" fill-rule=\"evenodd\" fill-opacity=\"1\" /><path clip-path=\"url(#clip650)\" d=\"M258.527 529.495 L264.734 529.495 L264.734 508.073 L257.982 509.427 L257.982 505.967 L264.696 504.612 L268.495 504.612 L268.495 529.495 L274.702 529.495 L274.702 532.692 L258.527 532.692 L258.527 529.495 Z\" fill=\"#000000\" fill-rule=\"evenodd\" fill-opacity=\"1\" /><path clip-path=\"url(#clip650)\" d=\"M290.5 507.114 Q287.566 507.114 286.081 510.01 Q284.614 512.888 284.614 518.681 Q284.614 524.455 286.081 527.351 Q287.566 530.229 290.5 530.229 Q293.453 530.229 294.92 527.351 Q296.406 524.455 296.406 518.681 Q296.406 512.888 294.92 510.01 Q293.453 507.114 290.5 507.114 M290.5 504.105 Q295.221 504.105 297.704 507.847 Q300.205 511.571 300.205 518.681 Q300.205 525.771 297.704 529.514 Q295.221 533.238 290.5 533.238 Q285.78 533.238 283.278 529.514 Q280.796 525.771 280.796 518.681 Q280.796 511.571 283.278 507.847 Q285.78 504.105 290.5 504.105 Z\" fill=\"#000000\" fill-rule=\"evenodd\" fill-opacity=\"1\" /><path clip-path=\"url(#clip650)\" d=\"M94.7882 270.163 L111.108 270.163 L111.108 274.099 L89.1632 274.099 L89.1632 270.163 Q91.8252 267.409 96.4085 262.779 Q101.015 258.126 102.196 256.784 Q104.441 254.261 105.321 252.525 Q106.223 250.765 106.223 249.076 Q106.223 246.321 104.279 244.585 Q102.358 242.849 99.2558 242.849 Q97.0567 242.849 94.603 243.613 Q92.1725 244.376 89.3947 245.927 L89.3947 241.205 Q92.2188 240.071 94.6724 239.492 Q97.1261 238.914 99.1632 238.914 Q104.534 238.914 107.728 241.599 Q110.922 244.284 110.922 248.775 Q110.922 250.904 110.112 252.826 Q109.325 254.724 107.219 257.316 Q106.64 257.988 103.538 261.205 Q100.436 264.4 94.7882 270.163 Z\" fill=\"#000000\" fill-rule=\"evenodd\" fill-opacity=\"1\" /><path clip-path=\"url(#clip650)\" d=\"M120.922 268.219 L125.807 268.219 L125.807 274.099 L120.922 274.099 L120.922 268.219 Z\" fill=\"#000000\" fill-rule=\"evenodd\" fill-opacity=\"1\" /><path clip-path=\"url(#clip650)\" d=\"M145.992 242.617 Q142.381 242.617 140.552 246.182 Q138.746 249.724 138.746 256.853 Q138.746 263.96 140.552 267.525 Q142.381 271.066 145.992 271.066 Q149.626 271.066 151.431 267.525 Q153.26 263.96 153.26 256.853 Q153.26 249.724 151.431 246.182 Q149.626 242.617 145.992 242.617 M145.992 238.914 Q151.802 238.914 154.857 243.52 Q157.936 248.103 157.936 256.853 Q157.936 265.58 154.857 270.187 Q151.802 274.77 145.992 274.77 Q140.181 274.77 137.103 270.187 Q134.047 265.58 134.047 256.853 Q134.047 248.103 137.103 243.52 Q140.181 238.914 145.992 238.914 Z\" fill=\"#000000\" fill-rule=\"evenodd\" fill-opacity=\"1\" /><path clip-path=\"url(#clip650)\" d=\"M194.325 248.636 L183.746 259.261 L194.325 269.839 L191.57 272.64 L180.945 262.015 L170.32 272.64 L167.589 269.839 L178.144 259.261 L167.589 248.636 L170.32 245.835 L180.945 256.46 L191.57 245.835 L194.325 248.636 Z\" fill=\"#000000\" fill-rule=\"evenodd\" fill-opacity=\"1\" /><path clip-path=\"url(#clip650)\" d=\"M206.686 270.163 L214.325 270.163 L214.325 243.798 L206.014 245.464 L206.014 241.205 L214.278 239.539 L218.954 239.539 L218.954 270.163 L226.593 270.163 L226.593 274.099 L206.686 274.099 L206.686 270.163 Z\" fill=\"#000000\" fill-rule=\"evenodd\" fill-opacity=\"1\" /><path clip-path=\"url(#clip650)\" d=\"M246.037 242.617 Q242.426 242.617 240.598 246.182 Q238.792 249.724 238.792 256.853 Q238.792 263.96 240.598 267.525 Q242.426 271.066 246.037 271.066 Q249.672 271.066 251.477 267.525 Q253.306 263.96 253.306 256.853 Q253.306 249.724 251.477 246.182 Q249.672 242.617 246.037 242.617 M246.037 238.914 Q251.848 238.914 254.903 243.52 Q257.982 248.103 257.982 256.853 Q257.982 265.58 254.903 270.187 Q251.848 274.77 246.037 274.77 Q240.227 274.77 237.149 270.187 Q234.093 265.58 234.093 256.853 Q234.093 248.103 237.149 243.52 Q240.227 238.914 246.037 238.914 Z\" fill=\"#000000\" fill-rule=\"evenodd\" fill-opacity=\"1\" /><path clip-path=\"url(#clip650)\" d=\"M258.527 243.491 L264.734 243.491 L264.734 222.069 L257.982 223.423 L257.982 219.962 L264.696 218.608 L268.495 218.608 L268.495 243.491 L274.702 243.491 L274.702 246.688 L258.527 246.688 L258.527 243.491 Z\" fill=\"#000000\" fill-rule=\"evenodd\" fill-opacity=\"1\" /><path clip-path=\"url(#clip650)\" d=\"M290.5 221.11 Q287.566 221.11 286.081 224.006 Q284.614 226.884 284.614 232.676 Q284.614 238.45 286.081 241.347 Q287.566 244.224 290.5 244.224 Q293.453 244.224 294.92 241.347 Q296.406 238.45 296.406 232.676 Q296.406 226.884 294.92 224.006 Q293.453 221.11 290.5 221.11 M290.5 218.1 Q295.221 218.1 297.704 221.843 Q300.205 225.567 300.205 232.676 Q300.205 239.767 297.704 243.51 Q295.221 247.234 290.5 247.234 Q285.78 247.234 283.278 243.51 Q280.796 239.767 280.796 232.676 Q280.796 225.567 283.278 221.843 Q285.78 218.1 290.5 218.1 Z\" fill=\"#000000\" fill-rule=\"evenodd\" fill-opacity=\"1\" /><circle clip-path=\"url(#clip652)\" cx=\"393.277\" cy=\"1445.72\" r=\"14.4\" fill=\"#009af9\" fill-rule=\"evenodd\" fill-opacity=\"1\" stroke=\"#000000\" stroke-opacity=\"1\" stroke-width=\"3.2\"/>\n",
       "<circle clip-path=\"url(#clip652)\" cx=\"401.925\" cy=\"1396.13\" r=\"14.4\" fill=\"#009af9\" fill-rule=\"evenodd\" fill-opacity=\"1\" stroke=\"#000000\" stroke-opacity=\"1\" stroke-width=\"3.2\"/>\n",
       "<circle clip-path=\"url(#clip652)\" cx=\"410.572\" cy=\"1350.09\" r=\"14.4\" fill=\"#009af9\" fill-rule=\"evenodd\" fill-opacity=\"1\" stroke=\"#000000\" stroke-opacity=\"1\" stroke-width=\"3.2\"/>\n",
       "<circle clip-path=\"url(#clip652)\" cx=\"419.219\" cy=\"1307.36\" r=\"14.4\" fill=\"#009af9\" fill-rule=\"evenodd\" fill-opacity=\"1\" stroke=\"#000000\" stroke-opacity=\"1\" stroke-width=\"3.2\"/>\n",
       "<circle clip-path=\"url(#clip652)\" cx=\"427.867\" cy=\"1267.73\" r=\"14.4\" fill=\"#009af9\" fill-rule=\"evenodd\" fill-opacity=\"1\" stroke=\"#000000\" stroke-opacity=\"1\" stroke-width=\"3.2\"/>\n",
       "<circle clip-path=\"url(#clip652)\" cx=\"436.514\" cy=\"1231.01\" r=\"14.4\" fill=\"#009af9\" fill-rule=\"evenodd\" fill-opacity=\"1\" stroke=\"#000000\" stroke-opacity=\"1\" stroke-width=\"3.2\"/>\n",
       "<circle clip-path=\"url(#clip652)\" cx=\"445.161\" cy=\"1197\" r=\"14.4\" fill=\"#009af9\" fill-rule=\"evenodd\" fill-opacity=\"1\" stroke=\"#000000\" stroke-opacity=\"1\" stroke-width=\"3.2\"/>\n",
       "<circle clip-path=\"url(#clip652)\" cx=\"453.809\" cy=\"1165.54\" r=\"14.4\" fill=\"#009af9\" fill-rule=\"evenodd\" fill-opacity=\"1\" stroke=\"#000000\" stroke-opacity=\"1\" stroke-width=\"3.2\"/>\n",
       "<circle clip-path=\"url(#clip652)\" cx=\"462.456\" cy=\"1136.44\" r=\"14.4\" fill=\"#009af9\" fill-rule=\"evenodd\" fill-opacity=\"1\" stroke=\"#000000\" stroke-opacity=\"1\" stroke-width=\"3.2\"/>\n",
       "<circle clip-path=\"url(#clip652)\" cx=\"471.103\" cy=\"1109.56\" r=\"14.4\" fill=\"#009af9\" fill-rule=\"evenodd\" fill-opacity=\"1\" stroke=\"#000000\" stroke-opacity=\"1\" stroke-width=\"3.2\"/>\n",
       "<circle clip-path=\"url(#clip652)\" cx=\"479.75\" cy=\"1084.75\" r=\"14.4\" fill=\"#009af9\" fill-rule=\"evenodd\" fill-opacity=\"1\" stroke=\"#000000\" stroke-opacity=\"1\" stroke-width=\"3.2\"/>\n",
       "<circle clip-path=\"url(#clip652)\" cx=\"488.398\" cy=\"1061.86\" r=\"14.4\" fill=\"#009af9\" fill-rule=\"evenodd\" fill-opacity=\"1\" stroke=\"#000000\" stroke-opacity=\"1\" stroke-width=\"3.2\"/>\n",
       "<circle clip-path=\"url(#clip652)\" cx=\"497.045\" cy=\"1040.76\" r=\"14.4\" fill=\"#009af9\" fill-rule=\"evenodd\" fill-opacity=\"1\" stroke=\"#000000\" stroke-opacity=\"1\" stroke-width=\"3.2\"/>\n",
       "<circle clip-path=\"url(#clip652)\" cx=\"505.692\" cy=\"1021.33\" r=\"14.4\" fill=\"#009af9\" fill-rule=\"evenodd\" fill-opacity=\"1\" stroke=\"#000000\" stroke-opacity=\"1\" stroke-width=\"3.2\"/>\n",
       "<circle clip-path=\"url(#clip652)\" cx=\"514.34\" cy=\"1003.45\" r=\"14.4\" fill=\"#009af9\" fill-rule=\"evenodd\" fill-opacity=\"1\" stroke=\"#000000\" stroke-opacity=\"1\" stroke-width=\"3.2\"/>\n",
       "<circle clip-path=\"url(#clip652)\" cx=\"522.987\" cy=\"987.02\" r=\"14.4\" fill=\"#009af9\" fill-rule=\"evenodd\" fill-opacity=\"1\" stroke=\"#000000\" stroke-opacity=\"1\" stroke-width=\"3.2\"/>\n",
       "<circle clip-path=\"url(#clip652)\" cx=\"531.634\" cy=\"971.925\" r=\"14.4\" fill=\"#009af9\" fill-rule=\"evenodd\" fill-opacity=\"1\" stroke=\"#000000\" stroke-opacity=\"1\" stroke-width=\"3.2\"/>\n",
       "<circle clip-path=\"url(#clip652)\" cx=\"540.282\" cy=\"958.074\" r=\"14.4\" fill=\"#009af9\" fill-rule=\"evenodd\" fill-opacity=\"1\" stroke=\"#000000\" stroke-opacity=\"1\" stroke-width=\"3.2\"/>\n",
       "<circle clip-path=\"url(#clip652)\" cx=\"548.929\" cy=\"945.375\" r=\"14.4\" fill=\"#009af9\" fill-rule=\"evenodd\" fill-opacity=\"1\" stroke=\"#000000\" stroke-opacity=\"1\" stroke-width=\"3.2\"/>\n",
       "<circle clip-path=\"url(#clip652)\" cx=\"557.576\" cy=\"933.743\" r=\"14.4\" fill=\"#009af9\" fill-rule=\"evenodd\" fill-opacity=\"1\" stroke=\"#000000\" stroke-opacity=\"1\" stroke-width=\"3.2\"/>\n",
       "<circle clip-path=\"url(#clip652)\" cx=\"566.223\" cy=\"923.1\" r=\"14.4\" fill=\"#009af9\" fill-rule=\"evenodd\" fill-opacity=\"1\" stroke=\"#000000\" stroke-opacity=\"1\" stroke-width=\"3.2\"/>\n",
       "<circle clip-path=\"url(#clip652)\" cx=\"574.871\" cy=\"913.371\" r=\"14.4\" fill=\"#009af9\" fill-rule=\"evenodd\" fill-opacity=\"1\" stroke=\"#000000\" stroke-opacity=\"1\" stroke-width=\"3.2\"/>\n",
       "<circle clip-path=\"url(#clip652)\" cx=\"583.518\" cy=\"904.487\" r=\"14.4\" fill=\"#009af9\" fill-rule=\"evenodd\" fill-opacity=\"1\" stroke=\"#000000\" stroke-opacity=\"1\" stroke-width=\"3.2\"/>\n",
       "<circle clip-path=\"url(#clip652)\" cx=\"592.165\" cy=\"896.382\" r=\"14.4\" fill=\"#009af9\" fill-rule=\"evenodd\" fill-opacity=\"1\" stroke=\"#000000\" stroke-opacity=\"1\" stroke-width=\"3.2\"/>\n",
       "<circle clip-path=\"url(#clip652)\" cx=\"600.813\" cy=\"888.997\" r=\"14.4\" fill=\"#009af9\" fill-rule=\"evenodd\" fill-opacity=\"1\" stroke=\"#000000\" stroke-opacity=\"1\" stroke-width=\"3.2\"/>\n",
       "<circle clip-path=\"url(#clip652)\" cx=\"609.46\" cy=\"882.274\" r=\"14.4\" fill=\"#009af9\" fill-rule=\"evenodd\" fill-opacity=\"1\" stroke=\"#000000\" stroke-opacity=\"1\" stroke-width=\"3.2\"/>\n",
       "<circle clip-path=\"url(#clip652)\" cx=\"618.107\" cy=\"876.161\" r=\"14.4\" fill=\"#009af9\" fill-rule=\"evenodd\" fill-opacity=\"1\" stroke=\"#000000\" stroke-opacity=\"1\" stroke-width=\"3.2\"/>\n",
       "<circle clip-path=\"url(#clip652)\" cx=\"626.755\" cy=\"870.609\" r=\"14.4\" fill=\"#009af9\" fill-rule=\"evenodd\" fill-opacity=\"1\" stroke=\"#000000\" stroke-opacity=\"1\" stroke-width=\"3.2\"/>\n",
       "<circle clip-path=\"url(#clip652)\" cx=\"635.402\" cy=\"865.573\" r=\"14.4\" fill=\"#009af9\" fill-rule=\"evenodd\" fill-opacity=\"1\" stroke=\"#000000\" stroke-opacity=\"1\" stroke-width=\"3.2\"/>\n",
       "<circle clip-path=\"url(#clip652)\" cx=\"644.049\" cy=\"861.01\" r=\"14.4\" fill=\"#009af9\" fill-rule=\"evenodd\" fill-opacity=\"1\" stroke=\"#000000\" stroke-opacity=\"1\" stroke-width=\"3.2\"/>\n",
       "<circle clip-path=\"url(#clip652)\" cx=\"652.696\" cy=\"856.88\" r=\"14.4\" fill=\"#009af9\" fill-rule=\"evenodd\" fill-opacity=\"1\" stroke=\"#000000\" stroke-opacity=\"1\" stroke-width=\"3.2\"/>\n",
       "<circle clip-path=\"url(#clip652)\" cx=\"661.344\" cy=\"853.148\" r=\"14.4\" fill=\"#009af9\" fill-rule=\"evenodd\" fill-opacity=\"1\" stroke=\"#000000\" stroke-opacity=\"1\" stroke-width=\"3.2\"/>\n",
       "<circle clip-path=\"url(#clip652)\" cx=\"669.991\" cy=\"849.779\" r=\"14.4\" fill=\"#009af9\" fill-rule=\"evenodd\" fill-opacity=\"1\" stroke=\"#000000\" stroke-opacity=\"1\" stroke-width=\"3.2\"/>\n",
       "<circle clip-path=\"url(#clip652)\" cx=\"678.638\" cy=\"846.742\" r=\"14.4\" fill=\"#009af9\" fill-rule=\"evenodd\" fill-opacity=\"1\" stroke=\"#000000\" stroke-opacity=\"1\" stroke-width=\"3.2\"/>\n",
       "<circle clip-path=\"url(#clip652)\" cx=\"687.286\" cy=\"844.008\" r=\"14.4\" fill=\"#009af9\" fill-rule=\"evenodd\" fill-opacity=\"1\" stroke=\"#000000\" stroke-opacity=\"1\" stroke-width=\"3.2\"/>\n",
       "<circle clip-path=\"url(#clip652)\" cx=\"695.933\" cy=\"841.551\" r=\"14.4\" fill=\"#009af9\" fill-rule=\"evenodd\" fill-opacity=\"1\" stroke=\"#000000\" stroke-opacity=\"1\" stroke-width=\"3.2\"/>\n",
       "<circle clip-path=\"url(#clip652)\" cx=\"704.58\" cy=\"839.344\" r=\"14.4\" fill=\"#009af9\" fill-rule=\"evenodd\" fill-opacity=\"1\" stroke=\"#000000\" stroke-opacity=\"1\" stroke-width=\"3.2\"/>\n",
       "<circle clip-path=\"url(#clip652)\" cx=\"713.228\" cy=\"837.367\" r=\"14.4\" fill=\"#009af9\" fill-rule=\"evenodd\" fill-opacity=\"1\" stroke=\"#000000\" stroke-opacity=\"1\" stroke-width=\"3.2\"/>\n",
       "<circle clip-path=\"url(#clip652)\" cx=\"721.875\" cy=\"835.597\" r=\"14.4\" fill=\"#009af9\" fill-rule=\"evenodd\" fill-opacity=\"1\" stroke=\"#000000\" stroke-opacity=\"1\" stroke-width=\"3.2\"/>\n",
       "<circle clip-path=\"url(#clip652)\" cx=\"730.522\" cy=\"834.015\" r=\"14.4\" fill=\"#009af9\" fill-rule=\"evenodd\" fill-opacity=\"1\" stroke=\"#000000\" stroke-opacity=\"1\" stroke-width=\"3.2\"/>\n",
       "<circle clip-path=\"url(#clip652)\" cx=\"739.169\" cy=\"832.604\" r=\"14.4\" fill=\"#009af9\" fill-rule=\"evenodd\" fill-opacity=\"1\" stroke=\"#000000\" stroke-opacity=\"1\" stroke-width=\"3.2\"/>\n",
       "<circle clip-path=\"url(#clip652)\" cx=\"747.817\" cy=\"831.348\" r=\"14.4\" fill=\"#009af9\" fill-rule=\"evenodd\" fill-opacity=\"1\" stroke=\"#000000\" stroke-opacity=\"1\" stroke-width=\"3.2\"/>\n",
       "<circle clip-path=\"url(#clip652)\" cx=\"756.464\" cy=\"830.23\" r=\"14.4\" fill=\"#009af9\" fill-rule=\"evenodd\" fill-opacity=\"1\" stroke=\"#000000\" stroke-opacity=\"1\" stroke-width=\"3.2\"/>\n",
       "<circle clip-path=\"url(#clip652)\" cx=\"765.111\" cy=\"829.238\" r=\"14.4\" fill=\"#009af9\" fill-rule=\"evenodd\" fill-opacity=\"1\" stroke=\"#000000\" stroke-opacity=\"1\" stroke-width=\"3.2\"/>\n",
       "<circle clip-path=\"url(#clip652)\" cx=\"773.759\" cy=\"828.359\" r=\"14.4\" fill=\"#009af9\" fill-rule=\"evenodd\" fill-opacity=\"1\" stroke=\"#000000\" stroke-opacity=\"1\" stroke-width=\"3.2\"/>\n",
       "<circle clip-path=\"url(#clip652)\" cx=\"782.406\" cy=\"827.582\" r=\"14.4\" fill=\"#009af9\" fill-rule=\"evenodd\" fill-opacity=\"1\" stroke=\"#000000\" stroke-opacity=\"1\" stroke-width=\"3.2\"/>\n",
       "<circle clip-path=\"url(#clip652)\" cx=\"791.053\" cy=\"826.896\" r=\"14.4\" fill=\"#009af9\" fill-rule=\"evenodd\" fill-opacity=\"1\" stroke=\"#000000\" stroke-opacity=\"1\" stroke-width=\"3.2\"/>\n",
       "<circle clip-path=\"url(#clip652)\" cx=\"799.701\" cy=\"826.291\" r=\"14.4\" fill=\"#009af9\" fill-rule=\"evenodd\" fill-opacity=\"1\" stroke=\"#000000\" stroke-opacity=\"1\" stroke-width=\"3.2\"/>\n",
       "<circle clip-path=\"url(#clip652)\" cx=\"808.348\" cy=\"825.76\" r=\"14.4\" fill=\"#009af9\" fill-rule=\"evenodd\" fill-opacity=\"1\" stroke=\"#000000\" stroke-opacity=\"1\" stroke-width=\"3.2\"/>\n",
       "<circle clip-path=\"url(#clip652)\" cx=\"816.995\" cy=\"825.294\" r=\"14.4\" fill=\"#009af9\" fill-rule=\"evenodd\" fill-opacity=\"1\" stroke=\"#000000\" stroke-opacity=\"1\" stroke-width=\"3.2\"/>\n",
       "<circle clip-path=\"url(#clip652)\" cx=\"825.642\" cy=\"824.885\" r=\"14.4\" fill=\"#009af9\" fill-rule=\"evenodd\" fill-opacity=\"1\" stroke=\"#000000\" stroke-opacity=\"1\" stroke-width=\"3.2\"/>\n",
       "<circle clip-path=\"url(#clip652)\" cx=\"834.29\" cy=\"824.529\" r=\"14.4\" fill=\"#009af9\" fill-rule=\"evenodd\" fill-opacity=\"1\" stroke=\"#000000\" stroke-opacity=\"1\" stroke-width=\"3.2\"/>\n",
       "<circle clip-path=\"url(#clip652)\" cx=\"842.937\" cy=\"824.218\" r=\"14.4\" fill=\"#009af9\" fill-rule=\"evenodd\" fill-opacity=\"1\" stroke=\"#000000\" stroke-opacity=\"1\" stroke-width=\"3.2\"/>\n",
       "<circle clip-path=\"url(#clip652)\" cx=\"851.584\" cy=\"823.948\" r=\"14.4\" fill=\"#009af9\" fill-rule=\"evenodd\" fill-opacity=\"1\" stroke=\"#000000\" stroke-opacity=\"1\" stroke-width=\"3.2\"/>\n",
       "<circle clip-path=\"url(#clip652)\" cx=\"860.232\" cy=\"823.714\" r=\"14.4\" fill=\"#009af9\" fill-rule=\"evenodd\" fill-opacity=\"1\" stroke=\"#000000\" stroke-opacity=\"1\" stroke-width=\"3.2\"/>\n",
       "<circle clip-path=\"url(#clip652)\" cx=\"868.879\" cy=\"823.511\" r=\"14.4\" fill=\"#009af9\" fill-rule=\"evenodd\" fill-opacity=\"1\" stroke=\"#000000\" stroke-opacity=\"1\" stroke-width=\"3.2\"/>\n",
       "<circle clip-path=\"url(#clip652)\" cx=\"877.526\" cy=\"823.336\" r=\"14.4\" fill=\"#009af9\" fill-rule=\"evenodd\" fill-opacity=\"1\" stroke=\"#000000\" stroke-opacity=\"1\" stroke-width=\"3.2\"/>\n",
       "<circle clip-path=\"url(#clip652)\" cx=\"886.174\" cy=\"823.186\" r=\"14.4\" fill=\"#009af9\" fill-rule=\"evenodd\" fill-opacity=\"1\" stroke=\"#000000\" stroke-opacity=\"1\" stroke-width=\"3.2\"/>\n",
       "<circle clip-path=\"url(#clip652)\" cx=\"894.821\" cy=\"823.057\" r=\"14.4\" fill=\"#009af9\" fill-rule=\"evenodd\" fill-opacity=\"1\" stroke=\"#000000\" stroke-opacity=\"1\" stroke-width=\"3.2\"/>\n",
       "<circle clip-path=\"url(#clip652)\" cx=\"903.468\" cy=\"822.947\" r=\"14.4\" fill=\"#009af9\" fill-rule=\"evenodd\" fill-opacity=\"1\" stroke=\"#000000\" stroke-opacity=\"1\" stroke-width=\"3.2\"/>\n",
       "<circle clip-path=\"url(#clip652)\" cx=\"912.115\" cy=\"822.853\" r=\"14.4\" fill=\"#009af9\" fill-rule=\"evenodd\" fill-opacity=\"1\" stroke=\"#000000\" stroke-opacity=\"1\" stroke-width=\"3.2\"/>\n",
       "<circle clip-path=\"url(#clip652)\" cx=\"920.763\" cy=\"822.773\" r=\"14.4\" fill=\"#009af9\" fill-rule=\"evenodd\" fill-opacity=\"1\" stroke=\"#000000\" stroke-opacity=\"1\" stroke-width=\"3.2\"/>\n",
       "<circle clip-path=\"url(#clip652)\" cx=\"929.41\" cy=\"822.705\" r=\"14.4\" fill=\"#009af9\" fill-rule=\"evenodd\" fill-opacity=\"1\" stroke=\"#000000\" stroke-opacity=\"1\" stroke-width=\"3.2\"/>\n",
       "<circle clip-path=\"url(#clip652)\" cx=\"938.057\" cy=\"822.648\" r=\"14.4\" fill=\"#009af9\" fill-rule=\"evenodd\" fill-opacity=\"1\" stroke=\"#000000\" stroke-opacity=\"1\" stroke-width=\"3.2\"/>\n",
       "<circle clip-path=\"url(#clip652)\" cx=\"946.705\" cy=\"822.6\" r=\"14.4\" fill=\"#009af9\" fill-rule=\"evenodd\" fill-opacity=\"1\" stroke=\"#000000\" stroke-opacity=\"1\" stroke-width=\"3.2\"/>\n",
       "<circle clip-path=\"url(#clip652)\" cx=\"955.352\" cy=\"822.56\" r=\"14.4\" fill=\"#009af9\" fill-rule=\"evenodd\" fill-opacity=\"1\" stroke=\"#000000\" stroke-opacity=\"1\" stroke-width=\"3.2\"/>\n",
       "<circle clip-path=\"url(#clip652)\" cx=\"963.999\" cy=\"822.526\" r=\"14.4\" fill=\"#009af9\" fill-rule=\"evenodd\" fill-opacity=\"1\" stroke=\"#000000\" stroke-opacity=\"1\" stroke-width=\"3.2\"/>\n",
       "<circle clip-path=\"url(#clip652)\" cx=\"972.647\" cy=\"822.498\" r=\"14.4\" fill=\"#009af9\" fill-rule=\"evenodd\" fill-opacity=\"1\" stroke=\"#000000\" stroke-opacity=\"1\" stroke-width=\"3.2\"/>\n",
       "<circle clip-path=\"url(#clip652)\" cx=\"981.294\" cy=\"822.475\" r=\"14.4\" fill=\"#009af9\" fill-rule=\"evenodd\" fill-opacity=\"1\" stroke=\"#000000\" stroke-opacity=\"1\" stroke-width=\"3.2\"/>\n",
       "<circle clip-path=\"url(#clip652)\" cx=\"989.941\" cy=\"822.456\" r=\"14.4\" fill=\"#009af9\" fill-rule=\"evenodd\" fill-opacity=\"1\" stroke=\"#000000\" stroke-opacity=\"1\" stroke-width=\"3.2\"/>\n",
       "<circle clip-path=\"url(#clip652)\" cx=\"998.588\" cy=\"822.441\" r=\"14.4\" fill=\"#009af9\" fill-rule=\"evenodd\" fill-opacity=\"1\" stroke=\"#000000\" stroke-opacity=\"1\" stroke-width=\"3.2\"/>\n",
       "<circle clip-path=\"url(#clip652)\" cx=\"1007.24\" cy=\"822.428\" r=\"14.4\" fill=\"#009af9\" fill-rule=\"evenodd\" fill-opacity=\"1\" stroke=\"#000000\" stroke-opacity=\"1\" stroke-width=\"3.2\"/>\n",
       "<circle clip-path=\"url(#clip652)\" cx=\"1015.88\" cy=\"822.418\" r=\"14.4\" fill=\"#009af9\" fill-rule=\"evenodd\" fill-opacity=\"1\" stroke=\"#000000\" stroke-opacity=\"1\" stroke-width=\"3.2\"/>\n",
       "<circle clip-path=\"url(#clip652)\" cx=\"1024.53\" cy=\"822.409\" r=\"14.4\" fill=\"#009af9\" fill-rule=\"evenodd\" fill-opacity=\"1\" stroke=\"#000000\" stroke-opacity=\"1\" stroke-width=\"3.2\"/>\n",
       "<circle clip-path=\"url(#clip652)\" cx=\"1033.18\" cy=\"822.403\" r=\"14.4\" fill=\"#009af9\" fill-rule=\"evenodd\" fill-opacity=\"1\" stroke=\"#000000\" stroke-opacity=\"1\" stroke-width=\"3.2\"/>\n",
       "<circle clip-path=\"url(#clip652)\" cx=\"1041.83\" cy=\"822.397\" r=\"14.4\" fill=\"#009af9\" fill-rule=\"evenodd\" fill-opacity=\"1\" stroke=\"#000000\" stroke-opacity=\"1\" stroke-width=\"3.2\"/>\n",
       "<circle clip-path=\"url(#clip652)\" cx=\"1050.47\" cy=\"822.393\" r=\"14.4\" fill=\"#009af9\" fill-rule=\"evenodd\" fill-opacity=\"1\" stroke=\"#000000\" stroke-opacity=\"1\" stroke-width=\"3.2\"/>\n",
       "<circle clip-path=\"url(#clip652)\" cx=\"1059.12\" cy=\"822.39\" r=\"14.4\" fill=\"#009af9\" fill-rule=\"evenodd\" fill-opacity=\"1\" stroke=\"#000000\" stroke-opacity=\"1\" stroke-width=\"3.2\"/>\n",
       "<circle clip-path=\"url(#clip652)\" cx=\"1067.77\" cy=\"822.387\" r=\"14.4\" fill=\"#009af9\" fill-rule=\"evenodd\" fill-opacity=\"1\" stroke=\"#000000\" stroke-opacity=\"1\" stroke-width=\"3.2\"/>\n",
       "<circle clip-path=\"url(#clip652)\" cx=\"1076.41\" cy=\"822.385\" r=\"14.4\" fill=\"#009af9\" fill-rule=\"evenodd\" fill-opacity=\"1\" stroke=\"#000000\" stroke-opacity=\"1\" stroke-width=\"3.2\"/>\n",
       "<circle clip-path=\"url(#clip652)\" cx=\"1085.06\" cy=\"822.384\" r=\"14.4\" fill=\"#009af9\" fill-rule=\"evenodd\" fill-opacity=\"1\" stroke=\"#000000\" stroke-opacity=\"1\" stroke-width=\"3.2\"/>\n",
       "<circle clip-path=\"url(#clip652)\" cx=\"1093.71\" cy=\"822.383\" r=\"14.4\" fill=\"#009af9\" fill-rule=\"evenodd\" fill-opacity=\"1\" stroke=\"#000000\" stroke-opacity=\"1\" stroke-width=\"3.2\"/>\n",
       "<circle clip-path=\"url(#clip652)\" cx=\"1102.36\" cy=\"822.382\" r=\"14.4\" fill=\"#009af9\" fill-rule=\"evenodd\" fill-opacity=\"1\" stroke=\"#000000\" stroke-opacity=\"1\" stroke-width=\"3.2\"/>\n",
       "<circle clip-path=\"url(#clip652)\" cx=\"1111\" cy=\"822.381\" r=\"14.4\" fill=\"#009af9\" fill-rule=\"evenodd\" fill-opacity=\"1\" stroke=\"#000000\" stroke-opacity=\"1\" stroke-width=\"3.2\"/>\n",
       "<circle clip-path=\"url(#clip652)\" cx=\"1119.65\" cy=\"822.381\" r=\"14.4\" fill=\"#009af9\" fill-rule=\"evenodd\" fill-opacity=\"1\" stroke=\"#000000\" stroke-opacity=\"1\" stroke-width=\"3.2\"/>\n",
       "<circle clip-path=\"url(#clip652)\" cx=\"1128.3\" cy=\"822.38\" r=\"14.4\" fill=\"#009af9\" fill-rule=\"evenodd\" fill-opacity=\"1\" stroke=\"#000000\" stroke-opacity=\"1\" stroke-width=\"3.2\"/>\n",
       "<circle clip-path=\"url(#clip652)\" cx=\"1136.95\" cy=\"822.38\" r=\"14.4\" fill=\"#009af9\" fill-rule=\"evenodd\" fill-opacity=\"1\" stroke=\"#000000\" stroke-opacity=\"1\" stroke-width=\"3.2\"/>\n",
       "<circle clip-path=\"url(#clip652)\" cx=\"1145.59\" cy=\"822.38\" r=\"14.4\" fill=\"#009af9\" fill-rule=\"evenodd\" fill-opacity=\"1\" stroke=\"#000000\" stroke-opacity=\"1\" stroke-width=\"3.2\"/>\n",
       "<circle clip-path=\"url(#clip652)\" cx=\"1154.24\" cy=\"822.38\" r=\"14.4\" fill=\"#009af9\" fill-rule=\"evenodd\" fill-opacity=\"1\" stroke=\"#000000\" stroke-opacity=\"1\" stroke-width=\"3.2\"/>\n",
       "<circle clip-path=\"url(#clip652)\" cx=\"1162.89\" cy=\"822.38\" r=\"14.4\" fill=\"#009af9\" fill-rule=\"evenodd\" fill-opacity=\"1\" stroke=\"#000000\" stroke-opacity=\"1\" stroke-width=\"3.2\"/>\n",
       "<circle clip-path=\"url(#clip652)\" cx=\"1171.53\" cy=\"822.38\" r=\"14.4\" fill=\"#009af9\" fill-rule=\"evenodd\" fill-opacity=\"1\" stroke=\"#000000\" stroke-opacity=\"1\" stroke-width=\"3.2\"/>\n",
       "<circle clip-path=\"url(#clip652)\" cx=\"1180.18\" cy=\"822.38\" r=\"14.4\" fill=\"#009af9\" fill-rule=\"evenodd\" fill-opacity=\"1\" stroke=\"#000000\" stroke-opacity=\"1\" stroke-width=\"3.2\"/>\n",
       "<circle clip-path=\"url(#clip652)\" cx=\"1188.83\" cy=\"822.38\" r=\"14.4\" fill=\"#009af9\" fill-rule=\"evenodd\" fill-opacity=\"1\" stroke=\"#000000\" stroke-opacity=\"1\" stroke-width=\"3.2\"/>\n",
       "<circle clip-path=\"url(#clip652)\" cx=\"1197.48\" cy=\"822.38\" r=\"14.4\" fill=\"#009af9\" fill-rule=\"evenodd\" fill-opacity=\"1\" stroke=\"#000000\" stroke-opacity=\"1\" stroke-width=\"3.2\"/>\n",
       "<circle clip-path=\"url(#clip652)\" cx=\"1206.12\" cy=\"822.38\" r=\"14.4\" fill=\"#009af9\" fill-rule=\"evenodd\" fill-opacity=\"1\" stroke=\"#000000\" stroke-opacity=\"1\" stroke-width=\"3.2\"/>\n",
       "<circle clip-path=\"url(#clip652)\" cx=\"1214.77\" cy=\"822.38\" r=\"14.4\" fill=\"#009af9\" fill-rule=\"evenodd\" fill-opacity=\"1\" stroke=\"#000000\" stroke-opacity=\"1\" stroke-width=\"3.2\"/>\n",
       "<circle clip-path=\"url(#clip652)\" cx=\"1223.42\" cy=\"822.38\" r=\"14.4\" fill=\"#009af9\" fill-rule=\"evenodd\" fill-opacity=\"1\" stroke=\"#000000\" stroke-opacity=\"1\" stroke-width=\"3.2\"/>\n",
       "<circle clip-path=\"url(#clip652)\" cx=\"1232.07\" cy=\"822.38\" r=\"14.4\" fill=\"#009af9\" fill-rule=\"evenodd\" fill-opacity=\"1\" stroke=\"#000000\" stroke-opacity=\"1\" stroke-width=\"3.2\"/>\n",
       "<circle clip-path=\"url(#clip652)\" cx=\"1240.71\" cy=\"822.38\" r=\"14.4\" fill=\"#009af9\" fill-rule=\"evenodd\" fill-opacity=\"1\" stroke=\"#000000\" stroke-opacity=\"1\" stroke-width=\"3.2\"/>\n",
       "<circle clip-path=\"url(#clip652)\" cx=\"1249.36\" cy=\"822.38\" r=\"14.4\" fill=\"#009af9\" fill-rule=\"evenodd\" fill-opacity=\"1\" stroke=\"#000000\" stroke-opacity=\"1\" stroke-width=\"3.2\"/>\n",
       "<circle clip-path=\"url(#clip652)\" cx=\"1258.01\" cy=\"822.38\" r=\"14.4\" fill=\"#009af9\" fill-rule=\"evenodd\" fill-opacity=\"1\" stroke=\"#000000\" stroke-opacity=\"1\" stroke-width=\"3.2\"/>\n",
       "<circle clip-path=\"url(#clip652)\" cx=\"1266.65\" cy=\"822.38\" r=\"14.4\" fill=\"#009af9\" fill-rule=\"evenodd\" fill-opacity=\"1\" stroke=\"#000000\" stroke-opacity=\"1\" stroke-width=\"3.2\"/>\n",
       "<circle clip-path=\"url(#clip652)\" cx=\"1275.3\" cy=\"822.38\" r=\"14.4\" fill=\"#009af9\" fill-rule=\"evenodd\" fill-opacity=\"1\" stroke=\"#000000\" stroke-opacity=\"1\" stroke-width=\"3.2\"/>\n",
       "<circle clip-path=\"url(#clip652)\" cx=\"1283.95\" cy=\"822.38\" r=\"14.4\" fill=\"#009af9\" fill-rule=\"evenodd\" fill-opacity=\"1\" stroke=\"#000000\" stroke-opacity=\"1\" stroke-width=\"3.2\"/>\n",
       "<circle clip-path=\"url(#clip652)\" cx=\"1292.6\" cy=\"822.38\" r=\"14.4\" fill=\"#009af9\" fill-rule=\"evenodd\" fill-opacity=\"1\" stroke=\"#000000\" stroke-opacity=\"1\" stroke-width=\"3.2\"/>\n",
       "<circle clip-path=\"url(#clip652)\" cx=\"1301.24\" cy=\"822.38\" r=\"14.4\" fill=\"#009af9\" fill-rule=\"evenodd\" fill-opacity=\"1\" stroke=\"#000000\" stroke-opacity=\"1\" stroke-width=\"3.2\"/>\n",
       "<circle clip-path=\"url(#clip652)\" cx=\"1309.89\" cy=\"822.38\" r=\"14.4\" fill=\"#009af9\" fill-rule=\"evenodd\" fill-opacity=\"1\" stroke=\"#000000\" stroke-opacity=\"1\" stroke-width=\"3.2\"/>\n",
       "<circle clip-path=\"url(#clip652)\" cx=\"1318.54\" cy=\"822.38\" r=\"14.4\" fill=\"#009af9\" fill-rule=\"evenodd\" fill-opacity=\"1\" stroke=\"#000000\" stroke-opacity=\"1\" stroke-width=\"3.2\"/>\n",
       "<circle clip-path=\"url(#clip652)\" cx=\"1327.19\" cy=\"822.38\" r=\"14.4\" fill=\"#009af9\" fill-rule=\"evenodd\" fill-opacity=\"1\" stroke=\"#000000\" stroke-opacity=\"1\" stroke-width=\"3.2\"/>\n",
       "<circle clip-path=\"url(#clip652)\" cx=\"1335.83\" cy=\"822.38\" r=\"14.4\" fill=\"#009af9\" fill-rule=\"evenodd\" fill-opacity=\"1\" stroke=\"#000000\" stroke-opacity=\"1\" stroke-width=\"3.2\"/>\n",
       "<circle clip-path=\"url(#clip652)\" cx=\"1344.48\" cy=\"822.38\" r=\"14.4\" fill=\"#009af9\" fill-rule=\"evenodd\" fill-opacity=\"1\" stroke=\"#000000\" stroke-opacity=\"1\" stroke-width=\"3.2\"/>\n",
       "<circle clip-path=\"url(#clip652)\" cx=\"1353.13\" cy=\"822.38\" r=\"14.4\" fill=\"#009af9\" fill-rule=\"evenodd\" fill-opacity=\"1\" stroke=\"#000000\" stroke-opacity=\"1\" stroke-width=\"3.2\"/>\n",
       "<circle clip-path=\"url(#clip652)\" cx=\"1361.78\" cy=\"822.38\" r=\"14.4\" fill=\"#009af9\" fill-rule=\"evenodd\" fill-opacity=\"1\" stroke=\"#000000\" stroke-opacity=\"1\" stroke-width=\"3.2\"/>\n",
       "<circle clip-path=\"url(#clip652)\" cx=\"1370.42\" cy=\"822.38\" r=\"14.4\" fill=\"#009af9\" fill-rule=\"evenodd\" fill-opacity=\"1\" stroke=\"#000000\" stroke-opacity=\"1\" stroke-width=\"3.2\"/>\n",
       "<circle clip-path=\"url(#clip652)\" cx=\"1379.07\" cy=\"822.38\" r=\"14.4\" fill=\"#009af9\" fill-rule=\"evenodd\" fill-opacity=\"1\" stroke=\"#000000\" stroke-opacity=\"1\" stroke-width=\"3.2\"/>\n",
       "<circle clip-path=\"url(#clip652)\" cx=\"1387.72\" cy=\"822.38\" r=\"14.4\" fill=\"#009af9\" fill-rule=\"evenodd\" fill-opacity=\"1\" stroke=\"#000000\" stroke-opacity=\"1\" stroke-width=\"3.2\"/>\n",
       "<circle clip-path=\"url(#clip652)\" cx=\"1396.36\" cy=\"822.38\" r=\"14.4\" fill=\"#009af9\" fill-rule=\"evenodd\" fill-opacity=\"1\" stroke=\"#000000\" stroke-opacity=\"1\" stroke-width=\"3.2\"/>\n",
       "<circle clip-path=\"url(#clip652)\" cx=\"1405.01\" cy=\"822.38\" r=\"14.4\" fill=\"#009af9\" fill-rule=\"evenodd\" fill-opacity=\"1\" stroke=\"#000000\" stroke-opacity=\"1\" stroke-width=\"3.2\"/>\n",
       "<circle clip-path=\"url(#clip652)\" cx=\"1413.66\" cy=\"822.38\" r=\"14.4\" fill=\"#009af9\" fill-rule=\"evenodd\" fill-opacity=\"1\" stroke=\"#000000\" stroke-opacity=\"1\" stroke-width=\"3.2\"/>\n",
       "<circle clip-path=\"url(#clip652)\" cx=\"1422.31\" cy=\"822.38\" r=\"14.4\" fill=\"#009af9\" fill-rule=\"evenodd\" fill-opacity=\"1\" stroke=\"#000000\" stroke-opacity=\"1\" stroke-width=\"3.2\"/>\n",
       "<circle clip-path=\"url(#clip652)\" cx=\"1430.95\" cy=\"822.38\" r=\"14.4\" fill=\"#009af9\" fill-rule=\"evenodd\" fill-opacity=\"1\" stroke=\"#000000\" stroke-opacity=\"1\" stroke-width=\"3.2\"/>\n",
       "<circle clip-path=\"url(#clip652)\" cx=\"1439.6\" cy=\"822.38\" r=\"14.4\" fill=\"#009af9\" fill-rule=\"evenodd\" fill-opacity=\"1\" stroke=\"#000000\" stroke-opacity=\"1\" stroke-width=\"3.2\"/>\n",
       "<circle clip-path=\"url(#clip652)\" cx=\"1448.25\" cy=\"822.38\" r=\"14.4\" fill=\"#009af9\" fill-rule=\"evenodd\" fill-opacity=\"1\" stroke=\"#000000\" stroke-opacity=\"1\" stroke-width=\"3.2\"/>\n",
       "<circle clip-path=\"url(#clip652)\" cx=\"1456.9\" cy=\"822.38\" r=\"14.4\" fill=\"#009af9\" fill-rule=\"evenodd\" fill-opacity=\"1\" stroke=\"#000000\" stroke-opacity=\"1\" stroke-width=\"3.2\"/>\n",
       "<circle clip-path=\"url(#clip652)\" cx=\"1465.54\" cy=\"822.38\" r=\"14.4\" fill=\"#009af9\" fill-rule=\"evenodd\" fill-opacity=\"1\" stroke=\"#000000\" stroke-opacity=\"1\" stroke-width=\"3.2\"/>\n",
       "<circle clip-path=\"url(#clip652)\" cx=\"1474.19\" cy=\"822.38\" r=\"14.4\" fill=\"#009af9\" fill-rule=\"evenodd\" fill-opacity=\"1\" stroke=\"#000000\" stroke-opacity=\"1\" stroke-width=\"3.2\"/>\n",
       "<circle clip-path=\"url(#clip652)\" cx=\"1482.84\" cy=\"822.38\" r=\"14.4\" fill=\"#009af9\" fill-rule=\"evenodd\" fill-opacity=\"1\" stroke=\"#000000\" stroke-opacity=\"1\" stroke-width=\"3.2\"/>\n",
       "<circle clip-path=\"url(#clip652)\" cx=\"1491.48\" cy=\"822.379\" r=\"14.4\" fill=\"#009af9\" fill-rule=\"evenodd\" fill-opacity=\"1\" stroke=\"#000000\" stroke-opacity=\"1\" stroke-width=\"3.2\"/>\n",
       "<circle clip-path=\"url(#clip652)\" cx=\"1500.13\" cy=\"822.379\" r=\"14.4\" fill=\"#009af9\" fill-rule=\"evenodd\" fill-opacity=\"1\" stroke=\"#000000\" stroke-opacity=\"1\" stroke-width=\"3.2\"/>\n",
       "<circle clip-path=\"url(#clip652)\" cx=\"1508.78\" cy=\"822.379\" r=\"14.4\" fill=\"#009af9\" fill-rule=\"evenodd\" fill-opacity=\"1\" stroke=\"#000000\" stroke-opacity=\"1\" stroke-width=\"3.2\"/>\n",
       "<circle clip-path=\"url(#clip652)\" cx=\"1517.43\" cy=\"822.379\" r=\"14.4\" fill=\"#009af9\" fill-rule=\"evenodd\" fill-opacity=\"1\" stroke=\"#000000\" stroke-opacity=\"1\" stroke-width=\"3.2\"/>\n",
       "<circle clip-path=\"url(#clip652)\" cx=\"1526.07\" cy=\"822.379\" r=\"14.4\" fill=\"#009af9\" fill-rule=\"evenodd\" fill-opacity=\"1\" stroke=\"#000000\" stroke-opacity=\"1\" stroke-width=\"3.2\"/>\n",
       "<circle clip-path=\"url(#clip652)\" cx=\"1534.72\" cy=\"822.379\" r=\"14.4\" fill=\"#009af9\" fill-rule=\"evenodd\" fill-opacity=\"1\" stroke=\"#000000\" stroke-opacity=\"1\" stroke-width=\"3.2\"/>\n",
       "<circle clip-path=\"url(#clip652)\" cx=\"1543.37\" cy=\"822.379\" r=\"14.4\" fill=\"#009af9\" fill-rule=\"evenodd\" fill-opacity=\"1\" stroke=\"#000000\" stroke-opacity=\"1\" stroke-width=\"3.2\"/>\n",
       "<circle clip-path=\"url(#clip652)\" cx=\"1552.02\" cy=\"822.378\" r=\"14.4\" fill=\"#009af9\" fill-rule=\"evenodd\" fill-opacity=\"1\" stroke=\"#000000\" stroke-opacity=\"1\" stroke-width=\"3.2\"/>\n",
       "<circle clip-path=\"url(#clip652)\" cx=\"1560.66\" cy=\"822.378\" r=\"14.4\" fill=\"#009af9\" fill-rule=\"evenodd\" fill-opacity=\"1\" stroke=\"#000000\" stroke-opacity=\"1\" stroke-width=\"3.2\"/>\n",
       "<circle clip-path=\"url(#clip652)\" cx=\"1569.31\" cy=\"822.377\" r=\"14.4\" fill=\"#009af9\" fill-rule=\"evenodd\" fill-opacity=\"1\" stroke=\"#000000\" stroke-opacity=\"1\" stroke-width=\"3.2\"/>\n",
       "<circle clip-path=\"url(#clip652)\" cx=\"1577.96\" cy=\"822.376\" r=\"14.4\" fill=\"#009af9\" fill-rule=\"evenodd\" fill-opacity=\"1\" stroke=\"#000000\" stroke-opacity=\"1\" stroke-width=\"3.2\"/>\n",
       "<circle clip-path=\"url(#clip652)\" cx=\"1586.6\" cy=\"822.375\" r=\"14.4\" fill=\"#009af9\" fill-rule=\"evenodd\" fill-opacity=\"1\" stroke=\"#000000\" stroke-opacity=\"1\" stroke-width=\"3.2\"/>\n",
       "<circle clip-path=\"url(#clip652)\" cx=\"1595.25\" cy=\"822.374\" r=\"14.4\" fill=\"#009af9\" fill-rule=\"evenodd\" fill-opacity=\"1\" stroke=\"#000000\" stroke-opacity=\"1\" stroke-width=\"3.2\"/>\n",
       "<circle clip-path=\"url(#clip652)\" cx=\"1603.9\" cy=\"822.372\" r=\"14.4\" fill=\"#009af9\" fill-rule=\"evenodd\" fill-opacity=\"1\" stroke=\"#000000\" stroke-opacity=\"1\" stroke-width=\"3.2\"/>\n",
       "<circle clip-path=\"url(#clip652)\" cx=\"1612.55\" cy=\"822.369\" r=\"14.4\" fill=\"#009af9\" fill-rule=\"evenodd\" fill-opacity=\"1\" stroke=\"#000000\" stroke-opacity=\"1\" stroke-width=\"3.2\"/>\n",
       "<circle clip-path=\"url(#clip652)\" cx=\"1621.19\" cy=\"822.366\" r=\"14.4\" fill=\"#009af9\" fill-rule=\"evenodd\" fill-opacity=\"1\" stroke=\"#000000\" stroke-opacity=\"1\" stroke-width=\"3.2\"/>\n",
       "<circle clip-path=\"url(#clip652)\" cx=\"1629.84\" cy=\"822.361\" r=\"14.4\" fill=\"#009af9\" fill-rule=\"evenodd\" fill-opacity=\"1\" stroke=\"#000000\" stroke-opacity=\"1\" stroke-width=\"3.2\"/>\n",
       "<circle clip-path=\"url(#clip652)\" cx=\"1638.49\" cy=\"822.356\" r=\"14.4\" fill=\"#009af9\" fill-rule=\"evenodd\" fill-opacity=\"1\" stroke=\"#000000\" stroke-opacity=\"1\" stroke-width=\"3.2\"/>\n",
       "<circle clip-path=\"url(#clip652)\" cx=\"1647.14\" cy=\"822.349\" r=\"14.4\" fill=\"#009af9\" fill-rule=\"evenodd\" fill-opacity=\"1\" stroke=\"#000000\" stroke-opacity=\"1\" stroke-width=\"3.2\"/>\n",
       "<circle clip-path=\"url(#clip652)\" cx=\"1655.78\" cy=\"822.341\" r=\"14.4\" fill=\"#009af9\" fill-rule=\"evenodd\" fill-opacity=\"1\" stroke=\"#000000\" stroke-opacity=\"1\" stroke-width=\"3.2\"/>\n",
       "<circle clip-path=\"url(#clip652)\" cx=\"1664.43\" cy=\"822.331\" r=\"14.4\" fill=\"#009af9\" fill-rule=\"evenodd\" fill-opacity=\"1\" stroke=\"#000000\" stroke-opacity=\"1\" stroke-width=\"3.2\"/>\n",
       "<circle clip-path=\"url(#clip652)\" cx=\"1673.08\" cy=\"822.318\" r=\"14.4\" fill=\"#009af9\" fill-rule=\"evenodd\" fill-opacity=\"1\" stroke=\"#000000\" stroke-opacity=\"1\" stroke-width=\"3.2\"/>\n",
       "<circle clip-path=\"url(#clip652)\" cx=\"1681.73\" cy=\"822.302\" r=\"14.4\" fill=\"#009af9\" fill-rule=\"evenodd\" fill-opacity=\"1\" stroke=\"#000000\" stroke-opacity=\"1\" stroke-width=\"3.2\"/>\n",
       "<circle clip-path=\"url(#clip652)\" cx=\"1690.37\" cy=\"822.283\" r=\"14.4\" fill=\"#009af9\" fill-rule=\"evenodd\" fill-opacity=\"1\" stroke=\"#000000\" stroke-opacity=\"1\" stroke-width=\"3.2\"/>\n",
       "<circle clip-path=\"url(#clip652)\" cx=\"1699.02\" cy=\"822.26\" r=\"14.4\" fill=\"#009af9\" fill-rule=\"evenodd\" fill-opacity=\"1\" stroke=\"#000000\" stroke-opacity=\"1\" stroke-width=\"3.2\"/>\n",
       "<circle clip-path=\"url(#clip652)\" cx=\"1707.67\" cy=\"822.232\" r=\"14.4\" fill=\"#009af9\" fill-rule=\"evenodd\" fill-opacity=\"1\" stroke=\"#000000\" stroke-opacity=\"1\" stroke-width=\"3.2\"/>\n",
       "<circle clip-path=\"url(#clip652)\" cx=\"1716.31\" cy=\"822.198\" r=\"14.4\" fill=\"#009af9\" fill-rule=\"evenodd\" fill-opacity=\"1\" stroke=\"#000000\" stroke-opacity=\"1\" stroke-width=\"3.2\"/>\n",
       "<circle clip-path=\"url(#clip652)\" cx=\"1724.96\" cy=\"822.158\" r=\"14.4\" fill=\"#009af9\" fill-rule=\"evenodd\" fill-opacity=\"1\" stroke=\"#000000\" stroke-opacity=\"1\" stroke-width=\"3.2\"/>\n",
       "<circle clip-path=\"url(#clip652)\" cx=\"1733.61\" cy=\"822.109\" r=\"14.4\" fill=\"#009af9\" fill-rule=\"evenodd\" fill-opacity=\"1\" stroke=\"#000000\" stroke-opacity=\"1\" stroke-width=\"3.2\"/>\n",
       "<circle clip-path=\"url(#clip652)\" cx=\"1742.26\" cy=\"822.052\" r=\"14.4\" fill=\"#009af9\" fill-rule=\"evenodd\" fill-opacity=\"1\" stroke=\"#000000\" stroke-opacity=\"1\" stroke-width=\"3.2\"/>\n",
       "<circle clip-path=\"url(#clip652)\" cx=\"1750.9\" cy=\"821.984\" r=\"14.4\" fill=\"#009af9\" fill-rule=\"evenodd\" fill-opacity=\"1\" stroke=\"#000000\" stroke-opacity=\"1\" stroke-width=\"3.2\"/>\n",
       "<circle clip-path=\"url(#clip652)\" cx=\"1759.55\" cy=\"821.904\" r=\"14.4\" fill=\"#009af9\" fill-rule=\"evenodd\" fill-opacity=\"1\" stroke=\"#000000\" stroke-opacity=\"1\" stroke-width=\"3.2\"/>\n",
       "<circle clip-path=\"url(#clip652)\" cx=\"1768.2\" cy=\"821.809\" r=\"14.4\" fill=\"#009af9\" fill-rule=\"evenodd\" fill-opacity=\"1\" stroke=\"#000000\" stroke-opacity=\"1\" stroke-width=\"3.2\"/>\n",
       "<circle clip-path=\"url(#clip652)\" cx=\"1776.85\" cy=\"821.699\" r=\"14.4\" fill=\"#009af9\" fill-rule=\"evenodd\" fill-opacity=\"1\" stroke=\"#000000\" stroke-opacity=\"1\" stroke-width=\"3.2\"/>\n",
       "<circle clip-path=\"url(#clip652)\" cx=\"1785.49\" cy=\"821.569\" r=\"14.4\" fill=\"#009af9\" fill-rule=\"evenodd\" fill-opacity=\"1\" stroke=\"#000000\" stroke-opacity=\"1\" stroke-width=\"3.2\"/>\n",
       "<circle clip-path=\"url(#clip652)\" cx=\"1794.14\" cy=\"821.419\" r=\"14.4\" fill=\"#009af9\" fill-rule=\"evenodd\" fill-opacity=\"1\" stroke=\"#000000\" stroke-opacity=\"1\" stroke-width=\"3.2\"/>\n",
       "<circle clip-path=\"url(#clip652)\" cx=\"1802.79\" cy=\"821.243\" r=\"14.4\" fill=\"#009af9\" fill-rule=\"evenodd\" fill-opacity=\"1\" stroke=\"#000000\" stroke-opacity=\"1\" stroke-width=\"3.2\"/>\n",
       "<circle clip-path=\"url(#clip652)\" cx=\"1811.43\" cy=\"821.04\" r=\"14.4\" fill=\"#009af9\" fill-rule=\"evenodd\" fill-opacity=\"1\" stroke=\"#000000\" stroke-opacity=\"1\" stroke-width=\"3.2\"/>\n",
       "<circle clip-path=\"url(#clip652)\" cx=\"1820.08\" cy=\"820.805\" r=\"14.4\" fill=\"#009af9\" fill-rule=\"evenodd\" fill-opacity=\"1\" stroke=\"#000000\" stroke-opacity=\"1\" stroke-width=\"3.2\"/>\n",
       "<circle clip-path=\"url(#clip652)\" cx=\"1828.73\" cy=\"820.535\" r=\"14.4\" fill=\"#009af9\" fill-rule=\"evenodd\" fill-opacity=\"1\" stroke=\"#000000\" stroke-opacity=\"1\" stroke-width=\"3.2\"/>\n",
       "<circle clip-path=\"url(#clip652)\" cx=\"1837.38\" cy=\"820.223\" r=\"14.4\" fill=\"#009af9\" fill-rule=\"evenodd\" fill-opacity=\"1\" stroke=\"#000000\" stroke-opacity=\"1\" stroke-width=\"3.2\"/>\n",
       "<circle clip-path=\"url(#clip652)\" cx=\"1846.02\" cy=\"819.866\" r=\"14.4\" fill=\"#009af9\" fill-rule=\"evenodd\" fill-opacity=\"1\" stroke=\"#000000\" stroke-opacity=\"1\" stroke-width=\"3.2\"/>\n",
       "<circle clip-path=\"url(#clip652)\" cx=\"1854.67\" cy=\"819.457\" r=\"14.4\" fill=\"#009af9\" fill-rule=\"evenodd\" fill-opacity=\"1\" stroke=\"#000000\" stroke-opacity=\"1\" stroke-width=\"3.2\"/>\n",
       "<circle clip-path=\"url(#clip652)\" cx=\"1863.32\" cy=\"818.99\" r=\"14.4\" fill=\"#009af9\" fill-rule=\"evenodd\" fill-opacity=\"1\" stroke=\"#000000\" stroke-opacity=\"1\" stroke-width=\"3.2\"/>\n",
       "<circle clip-path=\"url(#clip652)\" cx=\"1871.97\" cy=\"818.458\" r=\"14.4\" fill=\"#009af9\" fill-rule=\"evenodd\" fill-opacity=\"1\" stroke=\"#000000\" stroke-opacity=\"1\" stroke-width=\"3.2\"/>\n",
       "<circle clip-path=\"url(#clip652)\" cx=\"1880.61\" cy=\"817.852\" r=\"14.4\" fill=\"#009af9\" fill-rule=\"evenodd\" fill-opacity=\"1\" stroke=\"#000000\" stroke-opacity=\"1\" stroke-width=\"3.2\"/>\n",
       "<circle clip-path=\"url(#clip652)\" cx=\"1889.26\" cy=\"817.165\" r=\"14.4\" fill=\"#009af9\" fill-rule=\"evenodd\" fill-opacity=\"1\" stroke=\"#000000\" stroke-opacity=\"1\" stroke-width=\"3.2\"/>\n",
       "<circle clip-path=\"url(#clip652)\" cx=\"1897.91\" cy=\"816.386\" r=\"14.4\" fill=\"#009af9\" fill-rule=\"evenodd\" fill-opacity=\"1\" stroke=\"#000000\" stroke-opacity=\"1\" stroke-width=\"3.2\"/>\n",
       "<circle clip-path=\"url(#clip652)\" cx=\"1906.56\" cy=\"815.506\" r=\"14.4\" fill=\"#009af9\" fill-rule=\"evenodd\" fill-opacity=\"1\" stroke=\"#000000\" stroke-opacity=\"1\" stroke-width=\"3.2\"/>\n",
       "<circle clip-path=\"url(#clip652)\" cx=\"1915.2\" cy=\"814.513\" r=\"14.4\" fill=\"#009af9\" fill-rule=\"evenodd\" fill-opacity=\"1\" stroke=\"#000000\" stroke-opacity=\"1\" stroke-width=\"3.2\"/>\n",
       "<circle clip-path=\"url(#clip652)\" cx=\"1923.85\" cy=\"813.394\" r=\"14.4\" fill=\"#009af9\" fill-rule=\"evenodd\" fill-opacity=\"1\" stroke=\"#000000\" stroke-opacity=\"1\" stroke-width=\"3.2\"/>\n",
       "<circle clip-path=\"url(#clip652)\" cx=\"1932.5\" cy=\"812.135\" r=\"14.4\" fill=\"#009af9\" fill-rule=\"evenodd\" fill-opacity=\"1\" stroke=\"#000000\" stroke-opacity=\"1\" stroke-width=\"3.2\"/>\n",
       "<circle clip-path=\"url(#clip652)\" cx=\"1941.14\" cy=\"810.723\" r=\"14.4\" fill=\"#009af9\" fill-rule=\"evenodd\" fill-opacity=\"1\" stroke=\"#000000\" stroke-opacity=\"1\" stroke-width=\"3.2\"/>\n",
       "<circle clip-path=\"url(#clip652)\" cx=\"1949.79\" cy=\"809.139\" r=\"14.4\" fill=\"#009af9\" fill-rule=\"evenodd\" fill-opacity=\"1\" stroke=\"#000000\" stroke-opacity=\"1\" stroke-width=\"3.2\"/>\n",
       "<circle clip-path=\"url(#clip652)\" cx=\"1958.44\" cy=\"807.367\" r=\"14.4\" fill=\"#009af9\" fill-rule=\"evenodd\" fill-opacity=\"1\" stroke=\"#000000\" stroke-opacity=\"1\" stroke-width=\"3.2\"/>\n",
       "<circle clip-path=\"url(#clip652)\" cx=\"1967.09\" cy=\"805.388\" r=\"14.4\" fill=\"#009af9\" fill-rule=\"evenodd\" fill-opacity=\"1\" stroke=\"#000000\" stroke-opacity=\"1\" stroke-width=\"3.2\"/>\n",
       "<circle clip-path=\"url(#clip652)\" cx=\"1975.73\" cy=\"803.179\" r=\"14.4\" fill=\"#009af9\" fill-rule=\"evenodd\" fill-opacity=\"1\" stroke=\"#000000\" stroke-opacity=\"1\" stroke-width=\"3.2\"/>\n",
       "<circle clip-path=\"url(#clip652)\" cx=\"1984.38\" cy=\"800.719\" r=\"14.4\" fill=\"#009af9\" fill-rule=\"evenodd\" fill-opacity=\"1\" stroke=\"#000000\" stroke-opacity=\"1\" stroke-width=\"3.2\"/>\n",
       "<circle clip-path=\"url(#clip652)\" cx=\"1993.03\" cy=\"797.982\" r=\"14.4\" fill=\"#009af9\" fill-rule=\"evenodd\" fill-opacity=\"1\" stroke=\"#000000\" stroke-opacity=\"1\" stroke-width=\"3.2\"/>\n",
       "<circle clip-path=\"url(#clip652)\" cx=\"2001.68\" cy=\"794.943\" r=\"14.4\" fill=\"#009af9\" fill-rule=\"evenodd\" fill-opacity=\"1\" stroke=\"#000000\" stroke-opacity=\"1\" stroke-width=\"3.2\"/>\n",
       "<circle clip-path=\"url(#clip652)\" cx=\"2010.32\" cy=\"791.571\" r=\"14.4\" fill=\"#009af9\" fill-rule=\"evenodd\" fill-opacity=\"1\" stroke=\"#000000\" stroke-opacity=\"1\" stroke-width=\"3.2\"/>\n",
       "<circle clip-path=\"url(#clip652)\" cx=\"2018.97\" cy=\"787.835\" r=\"14.4\" fill=\"#009af9\" fill-rule=\"evenodd\" fill-opacity=\"1\" stroke=\"#000000\" stroke-opacity=\"1\" stroke-width=\"3.2\"/>\n",
       "<circle clip-path=\"url(#clip652)\" cx=\"2027.62\" cy=\"783.702\" r=\"14.4\" fill=\"#009af9\" fill-rule=\"evenodd\" fill-opacity=\"1\" stroke=\"#000000\" stroke-opacity=\"1\" stroke-width=\"3.2\"/>\n",
       "<circle clip-path=\"url(#clip652)\" cx=\"2036.26\" cy=\"779.136\" r=\"14.4\" fill=\"#009af9\" fill-rule=\"evenodd\" fill-opacity=\"1\" stroke=\"#000000\" stroke-opacity=\"1\" stroke-width=\"3.2\"/>\n",
       "<circle clip-path=\"url(#clip652)\" cx=\"2044.91\" cy=\"774.095\" r=\"14.4\" fill=\"#009af9\" fill-rule=\"evenodd\" fill-opacity=\"1\" stroke=\"#000000\" stroke-opacity=\"1\" stroke-width=\"3.2\"/>\n",
       "<circle clip-path=\"url(#clip652)\" cx=\"2053.56\" cy=\"768.54\" r=\"14.4\" fill=\"#009af9\" fill-rule=\"evenodd\" fill-opacity=\"1\" stroke=\"#000000\" stroke-opacity=\"1\" stroke-width=\"3.2\"/>\n",
       "<circle clip-path=\"url(#clip652)\" cx=\"2062.21\" cy=\"762.423\" r=\"14.4\" fill=\"#009af9\" fill-rule=\"evenodd\" fill-opacity=\"1\" stroke=\"#000000\" stroke-opacity=\"1\" stroke-width=\"3.2\"/>\n",
       "<circle clip-path=\"url(#clip652)\" cx=\"2070.85\" cy=\"755.695\" r=\"14.4\" fill=\"#009af9\" fill-rule=\"evenodd\" fill-opacity=\"1\" stroke=\"#000000\" stroke-opacity=\"1\" stroke-width=\"3.2\"/>\n",
       "<circle clip-path=\"url(#clip652)\" cx=\"2079.5\" cy=\"748.305\" r=\"14.4\" fill=\"#009af9\" fill-rule=\"evenodd\" fill-opacity=\"1\" stroke=\"#000000\" stroke-opacity=\"1\" stroke-width=\"3.2\"/>\n",
       "<circle clip-path=\"url(#clip652)\" cx=\"2088.15\" cy=\"740.195\" r=\"14.4\" fill=\"#009af9\" fill-rule=\"evenodd\" fill-opacity=\"1\" stroke=\"#000000\" stroke-opacity=\"1\" stroke-width=\"3.2\"/>\n",
       "<circle clip-path=\"url(#clip652)\" cx=\"2096.8\" cy=\"731.305\" r=\"14.4\" fill=\"#009af9\" fill-rule=\"evenodd\" fill-opacity=\"1\" stroke=\"#000000\" stroke-opacity=\"1\" stroke-width=\"3.2\"/>\n",
       "<circle clip-path=\"url(#clip652)\" cx=\"2105.44\" cy=\"721.57\" r=\"14.4\" fill=\"#009af9\" fill-rule=\"evenodd\" fill-opacity=\"1\" stroke=\"#000000\" stroke-opacity=\"1\" stroke-width=\"3.2\"/>\n",
       "<circle clip-path=\"url(#clip652)\" cx=\"2114.09\" cy=\"710.921\" r=\"14.4\" fill=\"#009af9\" fill-rule=\"evenodd\" fill-opacity=\"1\" stroke=\"#000000\" stroke-opacity=\"1\" stroke-width=\"3.2\"/>\n",
       "<circle clip-path=\"url(#clip652)\" cx=\"2122.74\" cy=\"699.283\" r=\"14.4\" fill=\"#009af9\" fill-rule=\"evenodd\" fill-opacity=\"1\" stroke=\"#000000\" stroke-opacity=\"1\" stroke-width=\"3.2\"/>\n",
       "<circle clip-path=\"url(#clip652)\" cx=\"2131.38\" cy=\"686.577\" r=\"14.4\" fill=\"#009af9\" fill-rule=\"evenodd\" fill-opacity=\"1\" stroke=\"#000000\" stroke-opacity=\"1\" stroke-width=\"3.2\"/>\n",
       "<circle clip-path=\"url(#clip652)\" cx=\"2140.03\" cy=\"672.719\" r=\"14.4\" fill=\"#009af9\" fill-rule=\"evenodd\" fill-opacity=\"1\" stroke=\"#000000\" stroke-opacity=\"1\" stroke-width=\"3.2\"/>\n",
       "<circle clip-path=\"url(#clip652)\" cx=\"2148.68\" cy=\"657.617\" r=\"14.4\" fill=\"#009af9\" fill-rule=\"evenodd\" fill-opacity=\"1\" stroke=\"#000000\" stroke-opacity=\"1\" stroke-width=\"3.2\"/>\n",
       "<circle clip-path=\"url(#clip652)\" cx=\"2157.33\" cy=\"641.174\" r=\"14.4\" fill=\"#009af9\" fill-rule=\"evenodd\" fill-opacity=\"1\" stroke=\"#000000\" stroke-opacity=\"1\" stroke-width=\"3.2\"/>\n",
       "<circle clip-path=\"url(#clip652)\" cx=\"2165.97\" cy=\"623.289\" r=\"14.4\" fill=\"#009af9\" fill-rule=\"evenodd\" fill-opacity=\"1\" stroke=\"#000000\" stroke-opacity=\"1\" stroke-width=\"3.2\"/>\n",
       "<circle clip-path=\"url(#clip652)\" cx=\"2174.62\" cy=\"603.852\" r=\"14.4\" fill=\"#009af9\" fill-rule=\"evenodd\" fill-opacity=\"1\" stroke=\"#000000\" stroke-opacity=\"1\" stroke-width=\"3.2\"/>\n",
       "<circle clip-path=\"url(#clip652)\" cx=\"2183.27\" cy=\"582.745\" r=\"14.4\" fill=\"#009af9\" fill-rule=\"evenodd\" fill-opacity=\"1\" stroke=\"#000000\" stroke-opacity=\"1\" stroke-width=\"3.2\"/>\n",
       "<circle clip-path=\"url(#clip652)\" cx=\"2191.92\" cy=\"559.845\" r=\"14.4\" fill=\"#009af9\" fill-rule=\"evenodd\" fill-opacity=\"1\" stroke=\"#000000\" stroke-opacity=\"1\" stroke-width=\"3.2\"/>\n",
       "<circle clip-path=\"url(#clip652)\" cx=\"2200.56\" cy=\"535.019\" r=\"14.4\" fill=\"#009af9\" fill-rule=\"evenodd\" fill-opacity=\"1\" stroke=\"#000000\" stroke-opacity=\"1\" stroke-width=\"3.2\"/>\n",
       "<circle clip-path=\"url(#clip652)\" cx=\"2209.21\" cy=\"508.128\" r=\"14.4\" fill=\"#009af9\" fill-rule=\"evenodd\" fill-opacity=\"1\" stroke=\"#000000\" stroke-opacity=\"1\" stroke-width=\"3.2\"/>\n",
       "<circle clip-path=\"url(#clip652)\" cx=\"2217.86\" cy=\"479.022\" r=\"14.4\" fill=\"#009af9\" fill-rule=\"evenodd\" fill-opacity=\"1\" stroke=\"#000000\" stroke-opacity=\"1\" stroke-width=\"3.2\"/>\n",
       "<circle clip-path=\"url(#clip652)\" cx=\"2226.51\" cy=\"447.545\" r=\"14.4\" fill=\"#009af9\" fill-rule=\"evenodd\" fill-opacity=\"1\" stroke=\"#000000\" stroke-opacity=\"1\" stroke-width=\"3.2\"/>\n",
       "<circle clip-path=\"url(#clip652)\" cx=\"2235.15\" cy=\"413.527\" r=\"14.4\" fill=\"#009af9\" fill-rule=\"evenodd\" fill-opacity=\"1\" stroke=\"#000000\" stroke-opacity=\"1\" stroke-width=\"3.2\"/>\n",
       "<circle clip-path=\"url(#clip652)\" cx=\"2243.8\" cy=\"376.792\" r=\"14.4\" fill=\"#009af9\" fill-rule=\"evenodd\" fill-opacity=\"1\" stroke=\"#000000\" stroke-opacity=\"1\" stroke-width=\"3.2\"/>\n",
       "<circle clip-path=\"url(#clip652)\" cx=\"2252.45\" cy=\"337.151\" r=\"14.4\" fill=\"#009af9\" fill-rule=\"evenodd\" fill-opacity=\"1\" stroke=\"#000000\" stroke-opacity=\"1\" stroke-width=\"3.2\"/>\n",
       "<circle clip-path=\"url(#clip652)\" cx=\"2261.09\" cy=\"294.406\" r=\"14.4\" fill=\"#009af9\" fill-rule=\"evenodd\" fill-opacity=\"1\" stroke=\"#000000\" stroke-opacity=\"1\" stroke-width=\"3.2\"/>\n",
       "<circle clip-path=\"url(#clip652)\" cx=\"2269.74\" cy=\"248.345\" r=\"14.4\" fill=\"#009af9\" fill-rule=\"evenodd\" fill-opacity=\"1\" stroke=\"#000000\" stroke-opacity=\"1\" stroke-width=\"3.2\"/>\n",
       "<circle clip-path=\"url(#clip652)\" cx=\"2278.39\" cy=\"198.746\" r=\"14.4\" fill=\"#009af9\" fill-rule=\"evenodd\" fill-opacity=\"1\" stroke=\"#000000\" stroke-opacity=\"1\" stroke-width=\"3.2\"/>\n",
       "<circle clip-path=\"url(#clip652)\" cx=\"2287.04\" cy=\"145.372\" r=\"14.4\" fill=\"#009af9\" fill-rule=\"evenodd\" fill-opacity=\"1\" stroke=\"#000000\" stroke-opacity=\"1\" stroke-width=\"3.2\"/>\n",
       "<circle clip-path=\"url(#clip652)\" cx=\"2295.68\" cy=\"87.9763\" r=\"14.4\" fill=\"#009af9\" fill-rule=\"evenodd\" fill-opacity=\"1\" stroke=\"#000000\" stroke-opacity=\"1\" stroke-width=\"3.2\"/>\n",
       "<polyline clip-path=\"url(#clip652)\" style=\"stroke:#e26f46; stroke-linecap:round; stroke-linejoin:round; stroke-width:4; stroke-opacity:1; fill:none\" points=\"393.277,1445.72 401.925,1396.13 410.572,1350.09 419.219,1307.36 427.867,1267.73 436.514,1231.01 445.161,1197 453.809,1165.54 462.456,1136.44 471.103,1109.56 479.75,1084.75 488.398,1061.86 497.045,1040.76 505.692,1021.33 514.34,1003.45 522.987,987.02 531.634,971.925 540.282,958.074 548.929,945.375 557.576,933.743 566.223,923.1 574.871,913.371 583.518,904.487 592.165,896.382 600.813,888.997 609.46,882.274 618.107,876.161 626.755,870.609 635.402,865.573 644.049,861.01 652.696,856.88 661.344,853.148 669.991,849.779 678.638,846.742 687.286,844.008 695.933,841.551 704.58,839.344 713.228,837.367 721.875,835.597 730.522,834.015 739.169,832.604 747.817,831.348 756.464,830.23 765.111,829.238 773.759,828.359 782.406,827.582 791.053,826.896 799.701,826.291 808.348,825.76 816.995,825.294 825.642,824.885 834.29,824.529 842.937,824.218 851.584,823.948 860.232,823.714 868.879,823.511 877.526,823.336 886.174,823.186 894.821,823.057 903.468,822.947 912.115,822.853 920.763,822.773 929.41,822.705 938.057,822.648 946.705,822.6 955.352,822.56 963.999,822.526 972.647,822.498 981.294,822.475 989.941,822.456 998.588,822.441 1007.24,822.428 1015.88,822.418 1024.53,822.409 1033.18,822.403 1041.83,822.397 1050.47,822.393 1059.12,822.39 1067.77,822.387 1076.41,822.385 1085.06,822.384 1093.71,822.383 1102.36,822.382 1111,822.381 1119.65,822.381 1128.3,822.38 1136.95,822.38 1145.59,822.38 1154.24,822.38 1162.89,822.38 1171.53,822.38 1180.18,822.38 1188.83,822.38 1197.48,822.38 1206.12,822.38 1214.77,822.38 1223.42,822.38 1232.07,822.38 1240.71,822.38 1249.36,822.38 1258.01,822.38 1266.65,822.38 1275.3,822.38 1283.95,822.38 1292.6,822.38 1301.24,822.38 1309.89,822.38 1318.54,822.38 1327.19,822.38 1335.83,822.38 1344.48,822.38 1353.13,822.38 1361.78,822.38 1370.42,822.38 1379.07,822.38 1387.72,822.38 1396.36,822.38 1405.01,822.38 1413.66,822.38 1422.31,822.38 1430.95,822.38 1439.6,822.38 1448.25,822.38 1456.9,822.38 1465.54,822.38 1474.19,822.38 1482.84,822.38 1491.48,822.379 1500.13,822.379 1508.78,822.379 1517.43,822.379 1526.07,822.379 1534.72,822.379 1543.37,822.379 1552.02,822.378 1560.66,822.378 1569.31,822.377 1577.96,822.376 1586.6,822.375 1595.25,822.374 1603.9,822.372 1612.55,822.369 1621.19,822.366 1629.84,822.361 1638.49,822.356 1647.14,822.349 1655.78,822.341 1664.43,822.331 1673.08,822.318 1681.73,822.302 1690.37,822.283 1699.02,822.26 1707.67,822.232 1716.31,822.198 1724.96,822.158 1733.61,822.109 1742.26,822.052 1750.9,821.984 1759.55,821.904 1768.2,821.809 1776.85,821.699 1785.49,821.569 1794.14,821.419 1802.79,821.243 1811.43,821.04 1820.08,820.805 1828.73,820.535 1837.38,820.223 1846.02,819.866 1854.67,819.457 1863.32,818.99 1871.97,818.458 1880.61,817.852 1889.26,817.165 1897.91,816.386 1906.56,815.506 1915.2,814.513 1923.85,813.394 1932.5,812.135 1941.14,810.723 1949.79,809.139 1958.44,807.367 1967.09,805.388 1975.73,803.179 1984.38,800.719 1993.03,797.982 2001.68,794.943 2010.32,791.571 2018.97,787.835 2027.62,783.702 2036.26,779.136 2044.91,774.095 2053.56,768.54 2062.21,762.423 2070.85,755.695 2079.5,748.305 2088.15,740.195 2096.8,731.305 2105.44,721.57 2114.09,710.921 2122.74,699.283 2131.38,686.577 2140.03,672.719 2148.68,657.617 2157.33,641.174 2165.97,623.289 2174.62,603.852 2183.27,582.745 2191.92,559.845 2200.56,535.019 2209.21,508.128 2217.86,479.022 2226.51,447.545 2235.15,413.527 2243.8,376.792 2252.45,337.151 2261.09,294.406 2269.74,248.345 2278.39,198.746 2287.04,145.372 2295.68,87.9763 \"/>\n",
       "<path clip-path=\"url(#clip650)\" d=\"M403.424 250.738 L657.509 250.738 L657.509 95.2176 L403.424 95.2176  Z\" fill=\"#ffffff\" fill-rule=\"evenodd\" fill-opacity=\"1\"/>\n",
       "<polyline clip-path=\"url(#clip650)\" style=\"stroke:#000000; stroke-linecap:round; stroke-linejoin:round; stroke-width:4; stroke-opacity:1; fill:none\" points=\"403.424,250.738 657.509,250.738 657.509,95.2176 403.424,95.2176 403.424,250.738 \"/>\n",
       "<circle clip-path=\"url(#clip650)\" cx=\"493.048\" cy=\"147.058\" r=\"23.04\" fill=\"#009af9\" fill-rule=\"evenodd\" fill-opacity=\"1\" stroke=\"#000000\" stroke-opacity=\"1\" stroke-width=\"5.12\"/>\n",
       "<path clip-path=\"url(#clip650)\" d=\"M596.515 166.745 Q594.709 171.375 592.997 172.787 Q591.284 174.199 588.413 174.199 L585.01 174.199 L585.01 170.634 L587.51 170.634 Q589.27 170.634 590.242 169.8 Q591.214 168.967 592.395 165.865 L593.159 163.921 L582.673 138.412 L587.186 138.412 L595.288 158.689 L603.39 138.412 L607.904 138.412 L596.515 166.745 Z\" fill=\"#000000\" fill-rule=\"evenodd\" fill-opacity=\"1\" /><path clip-path=\"url(#clip650)\" d=\"M615.195 160.402 L622.834 160.402 L622.834 134.037 L614.524 135.703 L614.524 131.444 L622.788 129.778 L627.464 129.778 L627.464 160.402 L635.103 160.402 L635.103 164.338 L615.195 164.338 L615.195 160.402 Z\" fill=\"#000000\" fill-rule=\"evenodd\" fill-opacity=\"1\" /><polyline clip-path=\"url(#clip650)\" style=\"stroke:#e26f46; stroke-linecap:round; stroke-linejoin:round; stroke-width:4; stroke-opacity:1; fill:none\" points=\"425.83,198.898 560.266,198.898 \"/>\n",
       "<path clip-path=\"url(#clip650)\" d=\"M596.515 218.585 Q594.709 223.215 592.997 224.627 Q591.284 226.039 588.413 226.039 L585.01 226.039 L585.01 222.474 L587.51 222.474 Q589.27 222.474 590.242 221.64 Q591.214 220.807 592.395 217.705 L593.159 215.761 L582.673 190.252 L587.186 190.252 L595.288 210.529 L603.39 190.252 L607.904 190.252 L596.515 218.585 Z\" fill=\"#000000\" fill-rule=\"evenodd\" fill-opacity=\"1\" /><path clip-path=\"url(#clip650)\" d=\"M618.413 212.242 L634.732 212.242 L634.732 216.178 L612.788 216.178 L612.788 212.242 Q615.45 209.488 620.033 204.858 Q624.64 200.205 625.82 198.863 Q628.066 196.34 628.945 194.604 Q629.848 192.844 629.848 191.155 Q629.848 188.4 627.904 186.664 Q625.982 184.928 622.881 184.928 Q620.682 184.928 618.228 185.692 Q615.797 186.455 613.02 188.006 L613.02 183.284 Q615.844 182.15 618.297 181.571 Q620.751 180.993 622.788 180.993 Q628.158 180.993 631.353 183.678 Q634.547 186.363 634.547 190.854 Q634.547 192.983 633.737 194.905 Q632.95 196.803 630.844 199.395 Q630.265 200.067 627.163 203.284 Q624.061 206.479 618.413 212.242 Z\" fill=\"#000000\" fill-rule=\"evenodd\" fill-opacity=\"1\" /></svg>\n"
      ]
     },
     "execution_count": 179,
     "metadata": {},
     "output_type": "execute_result"
    }
   ],
   "source": [
    "y_true3=Polynomial([1,2,3,4,5,6,7,8,9,10]).(x_fit)\n",
    "y_observed3 = y_true3 + rand(noise,length(x_fit))\n",
    "scatter(x_fit,y_observed3)\n",
    "plot!(x_fit,y_true3)"
   ]
  },
  {
   "cell_type": "code",
   "execution_count": 180,
   "id": "18e4c9cf",
   "metadata": {},
   "outputs": [
    {
     "data": {
      "text/html": [
       "11.879172112622328 &#45; 2.570916076923993&#8729;x &#43; 1.1605772646732448&#8729;x<sup>2</sup> &#43; 4.54078969907082&#8729;x<sup>3</sup> &#43; 5.043406315893162&#8729;x<sup>4</sup> &#43; 5.984174696096683&#8729;x<sup>5</sup> &#43; 6.999743101085051&#8729;x<sup>6</sup> &#43; 8.000164271676088&#8729;x<sup>7</sup> &#43; 8.999999226149079&#8729;x<sup>8</sup> &#43; 9.99999945628021&#8729;x<sup>9</sup> &#43; 8.011196435700446e-9&#8729;x<sup>10</sup>"
      ],
      "text/latex": [
       "$11.879172112622328 - 2.570916076923993\\cdot x + 1.1605772646732448\\cdot x^{2} + 4.54078969907082\\cdot x^{3} + 5.043406315893162\\cdot x^{4} + 5.984174696096683\\cdot x^{5} + 6.999743101085051\\cdot x^{6} + 8.000164271676088\\cdot x^{7} + 8.999999226149079\\cdot x^{8} + 9.99999945628021\\cdot x^{9} + 8.011196435700446e-9\\cdot x^{10}$"
      ],
      "text/plain": [
       "Polynomial(11.879172112622328 - 2.570916076923993*x + 1.1605772646732448*x^2 + 4.54078969907082*x^3 + 5.043406315893162*x^4 + 5.984174696096683*x^5 + 6.999743101085051*x^6 + 8.000164271676088*x^7 + 8.999999226149079*x^8 + 9.99999945628021*x^9 + 8.011196435700446e-9*x^10)"
      ]
     },
     "execution_count": 180,
     "metadata": {},
     "output_type": "execute_result"
    }
   ],
   "source": [
    "line_fit3 = fit(x_fit,y_observed3,10)"
   ]
  },
  {
   "cell_type": "code",
   "execution_count": 184,
   "id": "643f0953",
   "metadata": {},
   "outputs": [
    {
     "data": {
      "text/plain": [
       "221-element Vector{Float64}:\n",
       " 180.5890979842489\n",
       " 177.79034216692207\n",
       " 175.01479789488874\n",
       " 172.26246516814882\n",
       " 169.53334398670245\n",
       " 166.82743435054948\n",
       " 164.14473625969003\n",
       " 161.48524971412402\n",
       " 158.84897471385145\n",
       " 156.23591125887236\n",
       " 153.64605934918674\n",
       " 151.0794189847946\n",
       " 148.53599016569592\n",
       "   ⋮\n",
       " 100.17528066169953\n",
       " 102.22773781070688\n",
       " 104.30340650500769\n",
       " 106.40228674460198\n",
       " 108.52437852948977\n",
       " 110.66968185967097\n",
       " 112.83819673514564\n",
       " 115.02992315591379\n",
       " 117.24486112197538\n",
       " 119.4830106333305\n",
       " 121.74437168997903\n",
       " 124.02894429192104"
      ]
     },
     "execution_count": 184,
     "metadata": {},
     "output_type": "execute_result"
    }
   ],
   "source": [
    "y_fitted3 = fit_coeff3[1] .+ (fit_coeff3[2] .* (x_fit)) .+ ((fit_coeff3[3]) .* (x_fit.^2))"
   ]
  },
  {
   "cell_type": "markdown",
   "id": "49a085b1",
   "metadata": {},
   "source": []
  },
  {
   "cell_type": "markdown",
   "id": "1e5bde69",
   "metadata": {},
   "source": [
    "# 2.6\n",
    "The phenomena in the plot is called overfitting."
   ]
  }
 ],
 "metadata": {
  "kernelspec": {
   "display_name": "Julia 1.8.5",
   "language": "julia",
   "name": "julia-1.8"
  },
  "language_info": {
   "file_extension": ".jl",
   "mimetype": "application/julia",
   "name": "julia",
   "version": "1.8.5"
  }
 },
 "nbformat": 4,
 "nbformat_minor": 5
}
