{
 "cells": [
  {
   "cell_type": "markdown",
   "id": "1fbe377b",
   "metadata": {
    "id": "1fbe377b"
   },
   "source": [
    "<h1>HW3</h1>"
   ]
  },
  {
   "cell_type": "markdown",
   "id": "79813e24",
   "metadata": {
    "id": "79813e24"
   },
   "source": [
    "# Question 1\n",
    "### (Bayes Theorem) Read the following example and complete the exercises \n",
    "\n",
    "Trolls Under the Bridge\n",
    "1. Trolls(T) are bad\n",
    "2. Gnomes(G) are benign\n",
    "3. Every bridge has 5 creatures under it\n",
    "\n",
    "Below are the probabilities of what creatures live under a bridge:\n",
    "1. TTGGG: 20% (E1)\n",
    "2. TGGGG: 20% (E2)\n",
    "3. GGGGG: 60% (E3)\n",
    "\n",
    "A knight is approaching a bridge and he wants to know his chance of crossing the bridge safely."
   ]
  },
  {
   "cell_type": "markdown",
   "id": "425f8583",
   "metadata": {
    "id": "425f8583"
   },
   "source": [
    "### 1.1 \n",
    "\n",
    "#### What is the chance of the knight crossing the bridge safely?\n"
   ]
  },
  {
   "cell_type": "markdown",
   "id": "df252875",
   "metadata": {
    "id": "df252875"
   },
   "source": [
    "It is 60% since the only event which result in crossing the bridge safely is E3."
   ]
  },
  {
   "cell_type": "markdown",
   "id": "61f687e4",
   "metadata": {
    "id": "61f687e4"
   },
   "source": [
    "### 1.2\n",
    "\n",
    "#### Before crossing a bridge, a knight captures a troll. “I now have an 80% chance of crossing safely,” he reasons, “since only the case 20% had TTGGG (E1) now have TGGG is still a threat.”\n",
    "\n",
    "#### Do you agree with him? Why?"
   ]
  },
  {
   "cell_type": "markdown",
   "id": "09025213",
   "metadata": {
    "id": "09025213"
   },
   "source": [
    "No, I don't agree with him. Once we capture a troll, we gain new information, which means event E3 cannot occur. To calculate the probability of crossing the bridge safely, we need to compute the posterior probability."
   ]
  },
  {
   "cell_type": "markdown",
   "id": "c1533b67",
   "metadata": {
    "id": "c1533b67"
   },
   "source": [
    "### 1.3\n",
    "\n",
    "#### Now he wants to use Bayes' theorem to calculate his chance of crossing safely given a troll captured \n",
    "\n",
    "\\begin{equation*}\n",
    "P(A|B) = \\frac{P(B|A)P(A)}{P(B)} \\\\\n",
    "P(A|B): Posteior \\\\\n",
    "P(B|A): Likelihood \\\\\n",
    "P(A): Prior \\\\\n",
    "P(B): Marginal Probability \\\\\n",
    "\\end{equation*}\n",
    "\n",
    "#### Given the three events, E1, E2, and E3, which two of the three events does the knight need to consider after a troll was captured?"
   ]
  },
  {
   "cell_type": "markdown",
   "id": "0adb7f0a",
   "metadata": {
    "id": "0adb7f0a"
   },
   "source": [
    "The knight need to consider E1 and E2 in his calculation."
   ]
  },
  {
   "cell_type": "markdown",
   "id": "e45e8fa6",
   "metadata": {
    "id": "e45e8fa6"
   },
   "source": [
    "### 1.4\n",
    "\n",
    "#### Use Bayes' theorem to calculate the probability of the two events in 1.3 (separately) given the troll was captured. "
   ]
  },
  {
   "cell_type": "markdown",
   "id": "5d9c3c0b",
   "metadata": {
    "id": "5d9c3c0b"
   },
   "source": [
    "Probability of one event given a troll captured: "
   ]
  },
  {
   "cell_type": "code",
   "execution_count": 11,
   "id": "f2f0e7c8",
   "metadata": {
    "executionInfo": {
     "elapsed": 174,
     "status": "ok",
     "timestamp": 1676536839263,
     "user": {
      "displayName": "Haleh Akrami",
      "userId": "17790894529808852975"
     },
     "user_tz": 480
    },
    "id": "f2f0e7c8"
   },
   "outputs": [
    {
     "data": {
      "text/plain": [
       "0.6666666666666666"
      ]
     },
     "execution_count": 11,
     "metadata": {},
     "output_type": "execute_result"
    }
   ],
   "source": [
    "# P(TC|E1) = 2/5\n",
    "# P(TC|E2) = 1/5\n",
    "# P(E1) = 1/5\n",
    "# P(E2) = 1/5\n",
    "# P(E1|TC)= (P(TC|E1)* P(E1)) / (P(TC|E1)* P(E1) +P(TC|E2) * P(E2)) = ((.4*.2)/((.4*.2)+(.2*.2))) = 2/3\n",
    "\n",
    "P=((.4*.2)/((.4*.2)+(.2*.2)))"
   ]
  },
  {
   "cell_type": "markdown",
   "id": "37843aee",
   "metadata": {
    "id": "37843aee"
   },
   "source": [
    "Probability of the other event given a troll captured: "
   ]
  },
  {
   "cell_type": "code",
   "execution_count": 12,
   "id": "5db10bc7",
   "metadata": {
    "executionInfo": {
     "elapsed": 36,
     "status": "ok",
     "timestamp": 1676536839487,
     "user": {
      "displayName": "Haleh Akrami",
      "userId": "17790894529808852975"
     },
     "user_tz": 480
    },
    "id": "5db10bc7"
   },
   "outputs": [
    {
     "data": {
      "text/plain": [
       "0.3333333333333333"
      ]
     },
     "execution_count": 12,
     "metadata": {},
     "output_type": "execute_result"
    }
   ],
   "source": [
    "# P(E2|TC)=(P(TC|E2)* P(E2)) / (P(TC|E2)* P(E2) +P(TC|E1) * P(E1))= ((.2*.2)/((.2*.2)+(.4*.2))) =1/3\n",
    "P=((.2*.2)/((.2*.2)+(.4*.2)))"
   ]
  },
  {
   "cell_type": "markdown",
   "id": "f3b7f049",
   "metadata": {
    "id": "f3b7f049"
   },
   "source": [
    "### 1.5\n",
    "\n",
    "#### What is the chance of the knight crossing safely?"
   ]
  },
  {
   "cell_type": "code",
   "execution_count": 4,
   "id": "0f6fd73b",
   "metadata": {
    "executionInfo": {
     "elapsed": 40,
     "status": "ok",
     "timestamp": 1676536839494,
     "user": {
      "displayName": "Haleh Akrami",
      "userId": "17790894529808852975"
     },
     "user_tz": 480
    },
    "id": "0f6fd73b"
   },
   "outputs": [],
   "source": [
    "# It is equal to P(E2|TC) = 1/3"
   ]
  },
  {
   "cell_type": "markdown",
   "id": "7b815ae0",
   "metadata": {
    "id": "7b815ae0"
   },
   "source": [
    "#### Now looking back to 1.1, the probabilities were changed after assimilating data! "
   ]
  },
  {
   "cell_type": "markdown",
   "id": "f1450094",
   "metadata": {
    "id": "f1450094"
   },
   "source": [
    "# Question 2\n",
    "### (Polynomial Fitting) Read the following example and complete the exercises \n",
    "\n",
    "Biological data always comes with errors that influence the intepretation of the data significantly. In this question, we will simulate data and see how noises affect the parameter estimation."
   ]
  },
  {
   "cell_type": "code",
   "execution_count": 1,
   "id": "c20822fa",
   "metadata": {
    "colab": {
     "base_uri": "https://localhost:8080/",
     "height": 322
    },
    "executionInfo": {
     "elapsed": 41,
     "status": "error",
     "timestamp": 1676536839497,
     "user": {
      "displayName": "Haleh Akrami",
      "userId": "17790894529808852975"
     },
     "user_tz": 480
    },
    "id": "c20822fa",
    "outputId": "28957d06-f325-4c1e-bdf9-623f5a9a0591"
   },
   "outputs": [
    {
     "name": "stderr",
     "output_type": "stream",
     "text": [
      "\u001b[32m\u001b[1m    Updating\u001b[22m\u001b[39m registry at `C:\\Users\\akram\\.julia\\registries\\General.toml`\n",
      "\u001b[32m\u001b[1m   Resolving\u001b[22m\u001b[39m package versions...\n",
      "\u001b[32m\u001b[1m  No Changes\u001b[22m\u001b[39m to `C:\\Users\\akram\\.julia\\environments\\v1.8\\Project.toml`\n",
      "\u001b[32m\u001b[1m  No Changes\u001b[22m\u001b[39m to `C:\\Users\\akram\\.julia\\environments\\v1.8\\Manifest.toml`\n"
     ]
    }
   ],
   "source": [
    "import Pkg\n",
    "Pkg.add([\"Distributions\", \"Plots\", \"Polynomials\", \"Random\", \"Statistics\"])"
   ]
  },
  {
   "cell_type": "code",
   "execution_count": 2,
   "id": "d7d1ca8d",
   "metadata": {
    "executionInfo": {
     "elapsed": 37,
     "status": "aborted",
     "timestamp": 1676536839501,
     "user": {
      "displayName": "Haleh Akrami",
      "userId": "17790894529808852975"
     },
     "user_tz": 480
    },
    "id": "d7d1ca8d"
   },
   "outputs": [],
   "source": [
    "import Distributions as di\n",
    "import Plots\n",
    "import Polynomials\n",
    "import Random\n",
    "import Statistics"
   ]
  },
  {
   "cell_type": "markdown",
   "id": "a90dd09d",
   "metadata": {
    "id": "a90dd09d"
   },
   "source": [
    "### 2.1\n",
    "\n",
    "1. Generate the independent variable x ranging from -10 to 10 with an increment of 1\n",
    "2. Generate the dependent variable y_true using the equation y_true = x^2 + 3x - 2\n"
   ]
  },
  {
   "cell_type": "code",
   "execution_count": 4,
   "id": "6b0b33c5",
   "metadata": {
    "executionInfo": {
     "elapsed": 38,
     "status": "aborted",
     "timestamp": 1676536839503,
     "user": {
      "displayName": "Haleh Akrami",
      "userId": "17790894529808852975"
     },
     "user_tz": 480
    },
    "id": "6b0b33c5"
   },
   "outputs": [
    {
     "data": {
      "text/plain": [
       "21-element Vector{Int64}:\n",
       "  68\n",
       "  52\n",
       "  38\n",
       "  26\n",
       "  16\n",
       "   8\n",
       "   2\n",
       "  -2\n",
       "  -4\n",
       "  -4\n",
       "  -2\n",
       "   2\n",
       "   8\n",
       "  16\n",
       "  26\n",
       "  38\n",
       "  52\n",
       "  68\n",
       "  86\n",
       " 106\n",
       " 128"
      ]
     },
     "execution_count": 4,
     "metadata": {},
     "output_type": "execute_result"
    }
   ],
   "source": [
    "x = collect(-10:1:10)\n",
    "y_true = (x .^ 2) .+ (3 .* x) .- 2"
   ]
  },
  {
   "cell_type": "markdown",
   "id": "74d2a191",
   "metadata": {
    "id": "74d2a191"
   },
   "source": [
    "### 2.2\n",
    "\n",
    "1. Generate the Guassian noises with zero mean and a standard deviation of 10\n",
    "\n",
    "2. Add the noises to y_true to obtain y_observed\n"
   ]
  },
  {
   "cell_type": "code",
   "execution_count": 5,
   "id": "7936417a",
   "metadata": {
    "executionInfo": {
     "elapsed": 43,
     "status": "aborted",
     "timestamp": 1676536839509,
     "user": {
      "displayName": "Haleh Akrami",
      "userId": "17790894529808852975"
     },
     "user_tz": 480
    },
    "id": "7936417a"
   },
   "outputs": [
    {
     "data": {
      "text/plain": [
       "21-element Vector{Float64}:\n",
       "  64.6551986376958\n",
       "  52.77934931477418\n",
       "  50.85794304384584\n",
       "  24.009771295470866\n",
       "  20.11341800986515\n",
       "  -1.8538043567980704\n",
       "  -8.967924684118174\n",
       "  16.38621483031968\n",
       " -16.545353142883734\n",
       "  -3.6843566013002165\n",
       "   5.924410725756018\n",
       "   8.371274396157968\n",
       "   4.778486913288036\n",
       "  21.256107756351067\n",
       "  29.915030048591245\n",
       "  48.85576584738331\n",
       "  54.48313364503985\n",
       "  73.09335670219815\n",
       " 120.8505684269804\n",
       " 105.94609616459778\n",
       " 134.11237196108257"
      ]
     },
     "execution_count": 5,
     "metadata": {},
     "output_type": "execute_result"
    }
   ],
   "source": [
    "using Random, Distributions, Statistics\n",
    "d = Normal(0,10)\n",
    "gaussian = rand(d,length(x))\n",
    "y_observed = y_true .+ gaussian"
   ]
  },
  {
   "cell_type": "markdown",
   "id": "ecf2e554",
   "metadata": {
    "id": "ecf2e554"
   },
   "source": [
    "### 2.3\n",
    "\n",
    "#### Fit the data (x, y_observed) with a second order polynomial. \n",
    "\n",
    "1. Make a scatter plot of y_observed along x\n",
    "2. Plot a line of y_true along x on the scatter plot\n",
    "3. Plot a line of the fitted polynomial along x on the same plot"
   ]
  },
  {
   "cell_type": "code",
   "execution_count": 6,
   "id": "d39a136b",
   "metadata": {
    "executionInfo": {
     "elapsed": 51,
     "status": "aborted",
     "timestamp": 1676536839518,
     "user": {
      "displayName": "Haleh Akrami",
      "userId": "17790894529808852975"
     },
     "user_tz": 480
    },
    "id": "d39a136b"
   },
   "outputs": [
    {
     "data": {
      "image/svg+xml": [
       "<?xml version=\"1.0\" encoding=\"utf-8\"?>\n",
       "<svg xmlns=\"http://www.w3.org/2000/svg\" xmlns:xlink=\"http://www.w3.org/1999/xlink\" width=\"600\" height=\"400\" viewBox=\"0 0 2400 1600\">\n",
       "<defs>\n",
       "  <clipPath id=\"clip170\">\n",
       "    <rect x=\"0\" y=\"0\" width=\"2400\" height=\"1600\"/>\n",
       "  </clipPath>\n",
       "</defs>\n",
       "<path clip-path=\"url(#clip170)\" d=\"M0 1600 L2400 1600 L2400 0 L0 0  Z\" fill=\"#ffffff\" fill-rule=\"evenodd\" fill-opacity=\"1\"/>\n",
       "<defs>\n",
       "  <clipPath id=\"clip171\">\n",
       "    <rect x=\"480\" y=\"0\" width=\"1681\" height=\"1600\"/>\n",
       "  </clipPath>\n",
       "</defs>\n",
       "<path clip-path=\"url(#clip170)\" d=\"M169.121 1486.45 L2352.76 1486.45 L2352.76 47.2441 L169.121 47.2441  Z\" fill=\"#ffffff\" fill-rule=\"evenodd\" fill-opacity=\"1\"/>\n",
       "<defs>\n",
       "  <clipPath id=\"clip172\">\n",
       "    <rect x=\"169\" y=\"47\" width=\"2185\" height=\"1440\"/>\n",
       "  </clipPath>\n",
       "</defs>\n",
       "<polyline clip-path=\"url(#clip172)\" style=\"stroke:#000000; stroke-linecap:round; stroke-linejoin:round; stroke-width:2; stroke-opacity:0.1; fill:none\" points=\"230.922,1486.45 230.922,47.2441 \"/>\n",
       "<polyline clip-path=\"url(#clip172)\" style=\"stroke:#000000; stroke-linecap:round; stroke-linejoin:round; stroke-width:2; stroke-opacity:0.1; fill:none\" points=\"745.93,1486.45 745.93,47.2441 \"/>\n",
       "<polyline clip-path=\"url(#clip172)\" style=\"stroke:#000000; stroke-linecap:round; stroke-linejoin:round; stroke-width:2; stroke-opacity:0.1; fill:none\" points=\"1260.94,1486.45 1260.94,47.2441 \"/>\n",
       "<polyline clip-path=\"url(#clip172)\" style=\"stroke:#000000; stroke-linecap:round; stroke-linejoin:round; stroke-width:2; stroke-opacity:0.1; fill:none\" points=\"1775.95,1486.45 1775.95,47.2441 \"/>\n",
       "<polyline clip-path=\"url(#clip172)\" style=\"stroke:#000000; stroke-linecap:round; stroke-linejoin:round; stroke-width:2; stroke-opacity:0.1; fill:none\" points=\"2290.95,1486.45 2290.95,47.2441 \"/>\n",
       "<polyline clip-path=\"url(#clip170)\" style=\"stroke:#000000; stroke-linecap:round; stroke-linejoin:round; stroke-width:4; stroke-opacity:1; fill:none\" points=\"169.121,1486.45 2352.76,1486.45 \"/>\n",
       "<polyline clip-path=\"url(#clip170)\" style=\"stroke:#000000; stroke-linecap:round; stroke-linejoin:round; stroke-width:4; stroke-opacity:1; fill:none\" points=\"230.922,1486.45 230.922,1467.55 \"/>\n",
       "<polyline clip-path=\"url(#clip170)\" style=\"stroke:#000000; stroke-linecap:round; stroke-linejoin:round; stroke-width:4; stroke-opacity:1; fill:none\" points=\"745.93,1486.45 745.93,1467.55 \"/>\n",
       "<polyline clip-path=\"url(#clip170)\" style=\"stroke:#000000; stroke-linecap:round; stroke-linejoin:round; stroke-width:4; stroke-opacity:1; fill:none\" points=\"1260.94,1486.45 1260.94,1467.55 \"/>\n",
       "<polyline clip-path=\"url(#clip170)\" style=\"stroke:#000000; stroke-linecap:round; stroke-linejoin:round; stroke-width:4; stroke-opacity:1; fill:none\" points=\"1775.95,1486.45 1775.95,1467.55 \"/>\n",
       "<polyline clip-path=\"url(#clip170)\" style=\"stroke:#000000; stroke-linecap:round; stroke-linejoin:round; stroke-width:4; stroke-opacity:1; fill:none\" points=\"2290.95,1486.45 2290.95,1467.55 \"/>\n",
       "<path clip-path=\"url(#clip170)\" d=\"M184.985 1532.02 L214.661 1532.02 L214.661 1535.95 L184.985 1535.95 L184.985 1532.02 Z\" fill=\"#000000\" fill-rule=\"evenodd\" fill-opacity=\"1\" /><path clip-path=\"url(#clip170)\" d=\"M225.564 1544.91 L233.202 1544.91 L233.202 1518.55 L224.892 1520.21 L224.892 1515.95 L233.156 1514.29 L237.832 1514.29 L237.832 1544.91 L245.471 1544.91 L245.471 1548.85 L225.564 1548.85 L225.564 1544.91 Z\" fill=\"#000000\" fill-rule=\"evenodd\" fill-opacity=\"1\" /><path clip-path=\"url(#clip170)\" d=\"M264.915 1517.37 Q261.304 1517.37 259.475 1520.93 Q257.67 1524.47 257.67 1531.6 Q257.67 1538.71 259.475 1542.27 Q261.304 1545.82 264.915 1545.82 Q268.549 1545.82 270.355 1542.27 Q272.184 1538.71 272.184 1531.6 Q272.184 1524.47 270.355 1520.93 Q268.549 1517.37 264.915 1517.37 M264.915 1513.66 Q270.725 1513.66 273.781 1518.27 Q276.86 1522.85 276.86 1531.6 Q276.86 1540.33 273.781 1544.94 Q270.725 1549.52 264.915 1549.52 Q259.105 1549.52 256.026 1544.94 Q252.971 1540.33 252.971 1531.6 Q252.971 1522.85 256.026 1518.27 Q259.105 1513.66 264.915 1513.66 Z\" fill=\"#000000\" fill-rule=\"evenodd\" fill-opacity=\"1\" /><path clip-path=\"url(#clip170)\" d=\"M715.572 1532.02 L745.248 1532.02 L745.248 1535.95 L715.572 1535.95 L715.572 1532.02 Z\" fill=\"#000000\" fill-rule=\"evenodd\" fill-opacity=\"1\" /><path clip-path=\"url(#clip170)\" d=\"M755.386 1514.29 L773.743 1514.29 L773.743 1518.22 L759.669 1518.22 L759.669 1526.7 Q760.687 1526.35 761.706 1526.19 Q762.724 1526 763.743 1526 Q769.53 1526 772.909 1529.17 Q776.289 1532.34 776.289 1537.76 Q776.289 1543.34 772.817 1546.44 Q769.345 1549.52 763.025 1549.52 Q760.849 1549.52 758.581 1549.15 Q756.335 1548.78 753.928 1548.04 L753.928 1543.34 Q756.011 1544.47 758.234 1545.03 Q760.456 1545.58 762.933 1545.58 Q766.937 1545.58 769.275 1543.48 Q771.613 1541.37 771.613 1537.76 Q771.613 1534.15 769.275 1532.04 Q766.937 1529.94 762.933 1529.94 Q761.058 1529.94 759.183 1530.35 Q757.331 1530.77 755.386 1531.65 L755.386 1514.29 Z\" fill=\"#000000\" fill-rule=\"evenodd\" fill-opacity=\"1\" /><path clip-path=\"url(#clip170)\" d=\"M1260.94 1517.37 Q1257.33 1517.37 1255.5 1520.93 Q1253.69 1524.47 1253.69 1531.6 Q1253.69 1538.71 1255.5 1542.27 Q1257.33 1545.82 1260.94 1545.82 Q1264.57 1545.82 1266.38 1542.27 Q1268.21 1538.71 1268.21 1531.6 Q1268.21 1524.47 1266.38 1520.93 Q1264.57 1517.37 1260.94 1517.37 M1260.94 1513.66 Q1266.75 1513.66 1269.8 1518.27 Q1272.88 1522.85 1272.88 1531.6 Q1272.88 1540.33 1269.8 1544.94 Q1266.75 1549.52 1260.94 1549.52 Q1255.13 1549.52 1252.05 1544.94 Q1248.99 1540.33 1248.99 1531.6 Q1248.99 1522.85 1252.05 1518.27 Q1255.13 1513.66 1260.94 1513.66 Z\" fill=\"#000000\" fill-rule=\"evenodd\" fill-opacity=\"1\" /><path clip-path=\"url(#clip170)\" d=\"M1766.22 1514.29 L1784.58 1514.29 L1784.58 1518.22 L1770.51 1518.22 L1770.51 1526.7 Q1771.53 1526.35 1772.54 1526.19 Q1773.56 1526 1774.58 1526 Q1780.37 1526 1783.75 1529.17 Q1787.13 1532.34 1787.13 1537.76 Q1787.13 1543.34 1783.66 1546.44 Q1780.18 1549.52 1773.86 1549.52 Q1771.69 1549.52 1769.42 1549.15 Q1767.17 1548.78 1764.77 1548.04 L1764.77 1543.34 Q1766.85 1544.47 1769.07 1545.03 Q1771.29 1545.58 1773.77 1545.58 Q1777.78 1545.58 1780.11 1543.48 Q1782.45 1541.37 1782.45 1537.76 Q1782.45 1534.15 1780.11 1532.04 Q1777.78 1529.94 1773.77 1529.94 Q1771.9 1529.94 1770.02 1530.35 Q1768.17 1530.77 1766.22 1531.65 L1766.22 1514.29 Z\" fill=\"#000000\" fill-rule=\"evenodd\" fill-opacity=\"1\" /><path clip-path=\"url(#clip170)\" d=\"M2265.64 1544.91 L2273.28 1544.91 L2273.28 1518.55 L2264.97 1520.21 L2264.97 1515.95 L2273.24 1514.29 L2277.91 1514.29 L2277.91 1544.91 L2285.55 1544.91 L2285.55 1548.85 L2265.64 1548.85 L2265.64 1544.91 Z\" fill=\"#000000\" fill-rule=\"evenodd\" fill-opacity=\"1\" /><path clip-path=\"url(#clip170)\" d=\"M2304.99 1517.37 Q2301.38 1517.37 2299.55 1520.93 Q2297.75 1524.47 2297.75 1531.6 Q2297.75 1538.71 2299.55 1542.27 Q2301.38 1545.82 2304.99 1545.82 Q2308.63 1545.82 2310.43 1542.27 Q2312.26 1538.71 2312.26 1531.6 Q2312.26 1524.47 2310.43 1520.93 Q2308.63 1517.37 2304.99 1517.37 M2304.99 1513.66 Q2310.8 1513.66 2313.86 1518.27 Q2316.94 1522.85 2316.94 1531.6 Q2316.94 1540.33 2313.86 1544.94 Q2310.8 1549.52 2304.99 1549.52 Q2299.18 1549.52 2296.11 1544.94 Q2293.05 1540.33 2293.05 1531.6 Q2293.05 1522.85 2296.11 1518.27 Q2299.18 1513.66 2304.99 1513.66 Z\" fill=\"#000000\" fill-rule=\"evenodd\" fill-opacity=\"1\" /><polyline clip-path=\"url(#clip172)\" style=\"stroke:#000000; stroke-linecap:round; stroke-linejoin:round; stroke-width:2; stroke-opacity:0.1; fill:none\" points=\"169.121,1316.75 2352.76,1316.75 \"/>\n",
       "<polyline clip-path=\"url(#clip172)\" style=\"stroke:#000000; stroke-linecap:round; stroke-linejoin:round; stroke-width:2; stroke-opacity:0.1; fill:none\" points=\"169.121,905.934 2352.76,905.934 \"/>\n",
       "<polyline clip-path=\"url(#clip172)\" style=\"stroke:#000000; stroke-linecap:round; stroke-linejoin:round; stroke-width:2; stroke-opacity:0.1; fill:none\" points=\"169.121,495.122 2352.76,495.122 \"/>\n",
       "<polyline clip-path=\"url(#clip172)\" style=\"stroke:#000000; stroke-linecap:round; stroke-linejoin:round; stroke-width:2; stroke-opacity:0.1; fill:none\" points=\"169.121,84.3109 2352.76,84.3109 \"/>\n",
       "<polyline clip-path=\"url(#clip170)\" style=\"stroke:#000000; stroke-linecap:round; stroke-linejoin:round; stroke-width:4; stroke-opacity:1; fill:none\" points=\"169.121,1486.45 169.121,47.2441 \"/>\n",
       "<polyline clip-path=\"url(#clip170)\" style=\"stroke:#000000; stroke-linecap:round; stroke-linejoin:round; stroke-width:4; stroke-opacity:1; fill:none\" points=\"169.121,1316.75 188.019,1316.75 \"/>\n",
       "<polyline clip-path=\"url(#clip170)\" style=\"stroke:#000000; stroke-linecap:round; stroke-linejoin:round; stroke-width:4; stroke-opacity:1; fill:none\" points=\"169.121,905.934 188.019,905.934 \"/>\n",
       "<polyline clip-path=\"url(#clip170)\" style=\"stroke:#000000; stroke-linecap:round; stroke-linejoin:round; stroke-width:4; stroke-opacity:1; fill:none\" points=\"169.121,495.122 188.019,495.122 \"/>\n",
       "<polyline clip-path=\"url(#clip170)\" style=\"stroke:#000000; stroke-linecap:round; stroke-linejoin:round; stroke-width:4; stroke-opacity:1; fill:none\" points=\"169.121,84.3109 188.019,84.3109 \"/>\n",
       "<path clip-path=\"url(#clip170)\" d=\"M121.177 1302.54 Q117.566 1302.54 115.737 1306.11 Q113.932 1309.65 113.932 1316.78 Q113.932 1323.89 115.737 1327.45 Q117.566 1330.99 121.177 1330.99 Q124.811 1330.99 126.617 1327.45 Q128.445 1323.89 128.445 1316.78 Q128.445 1309.65 126.617 1306.11 Q124.811 1302.54 121.177 1302.54 M121.177 1298.84 Q126.987 1298.84 130.043 1303.45 Q133.121 1308.03 133.121 1316.78 Q133.121 1325.51 130.043 1330.11 Q126.987 1334.7 121.177 1334.7 Q115.367 1334.7 112.288 1330.11 Q109.233 1325.51 109.233 1316.78 Q109.233 1308.03 112.288 1303.45 Q115.367 1298.84 121.177 1298.84 Z\" fill=\"#000000\" fill-rule=\"evenodd\" fill-opacity=\"1\" /><path clip-path=\"url(#clip170)\" d=\"M81.0614 888.654 L99.4178 888.654 L99.4178 892.589 L85.3438 892.589 L85.3438 901.061 Q86.3623 900.714 87.3808 900.552 Q88.3993 900.367 89.4178 900.367 Q95.2049 900.367 98.5845 903.538 Q101.964 906.709 101.964 912.126 Q101.964 917.705 98.4919 920.807 Q95.0197 923.885 88.7003 923.885 Q86.5243 923.885 84.2558 923.515 Q82.0105 923.145 79.6031 922.404 L79.6031 917.705 Q81.6864 918.839 83.9086 919.395 Q86.1308 919.95 88.6077 919.95 Q92.6123 919.95 94.9502 917.844 Q97.2882 915.737 97.2882 912.126 Q97.2882 908.515 94.9502 906.409 Q92.6123 904.302 88.6077 904.302 Q86.7327 904.302 84.8577 904.719 Q83.0058 905.135 81.0614 906.015 L81.0614 888.654 Z\" fill=\"#000000\" fill-rule=\"evenodd\" fill-opacity=\"1\" /><path clip-path=\"url(#clip170)\" d=\"M121.177 891.733 Q117.566 891.733 115.737 895.297 Q113.932 898.839 113.932 905.969 Q113.932 913.075 115.737 916.64 Q117.566 920.182 121.177 920.182 Q124.811 920.182 126.617 916.64 Q128.445 913.075 128.445 905.969 Q128.445 898.839 126.617 895.297 Q124.811 891.733 121.177 891.733 M121.177 888.029 Q126.987 888.029 130.043 892.635 Q133.121 897.219 133.121 905.969 Q133.121 914.696 130.043 919.302 Q126.987 923.885 121.177 923.885 Q115.367 923.885 112.288 919.302 Q109.233 914.696 109.233 905.969 Q109.233 897.219 112.288 892.635 Q115.367 888.029 121.177 888.029 Z\" fill=\"#000000\" fill-rule=\"evenodd\" fill-opacity=\"1\" /><path clip-path=\"url(#clip170)\" d=\"M51.6634 508.467 L59.3023 508.467 L59.3023 482.102 L50.9921 483.768 L50.9921 479.509 L59.256 477.842 L63.9319 477.842 L63.9319 508.467 L71.5707 508.467 L71.5707 512.402 L51.6634 512.402 L51.6634 508.467 Z\" fill=\"#000000\" fill-rule=\"evenodd\" fill-opacity=\"1\" /><path clip-path=\"url(#clip170)\" d=\"M91.0151 480.921 Q87.404 480.921 85.5753 484.486 Q83.7697 488.028 83.7697 495.157 Q83.7697 502.264 85.5753 505.828 Q87.404 509.37 91.0151 509.37 Q94.6493 509.37 96.4548 505.828 Q98.2835 502.264 98.2835 495.157 Q98.2835 488.028 96.4548 484.486 Q94.6493 480.921 91.0151 480.921 M91.0151 477.217 Q96.8252 477.217 99.8808 481.824 Q102.959 486.407 102.959 495.157 Q102.959 503.884 99.8808 508.49 Q96.8252 513.074 91.0151 513.074 Q85.2049 513.074 82.1262 508.49 Q79.0707 503.884 79.0707 495.157 Q79.0707 486.407 82.1262 481.824 Q85.2049 477.217 91.0151 477.217 Z\" fill=\"#000000\" fill-rule=\"evenodd\" fill-opacity=\"1\" /><path clip-path=\"url(#clip170)\" d=\"M121.177 480.921 Q117.566 480.921 115.737 484.486 Q113.932 488.028 113.932 495.157 Q113.932 502.264 115.737 505.828 Q117.566 509.37 121.177 509.37 Q124.811 509.37 126.617 505.828 Q128.445 502.264 128.445 495.157 Q128.445 488.028 126.617 484.486 Q124.811 480.921 121.177 480.921 M121.177 477.217 Q126.987 477.217 130.043 481.824 Q133.121 486.407 133.121 495.157 Q133.121 503.884 130.043 508.49 Q126.987 513.074 121.177 513.074 Q115.367 513.074 112.288 508.49 Q109.233 503.884 109.233 495.157 Q109.233 486.407 112.288 481.824 Q115.367 477.217 121.177 477.217 Z\" fill=\"#000000\" fill-rule=\"evenodd\" fill-opacity=\"1\" /><path clip-path=\"url(#clip170)\" d=\"M51.6634 97.6557 L59.3023 97.6557 L59.3023 71.2901 L50.9921 72.9568 L50.9921 68.6976 L59.256 67.0309 L63.9319 67.0309 L63.9319 97.6557 L71.5707 97.6557 L71.5707 101.591 L51.6634 101.591 L51.6634 97.6557 Z\" fill=\"#000000\" fill-rule=\"evenodd\" fill-opacity=\"1\" /><path clip-path=\"url(#clip170)\" d=\"M81.0614 67.0309 L99.4178 67.0309 L99.4178 70.9661 L85.3438 70.9661 L85.3438 79.4382 Q86.3623 79.091 87.3808 78.929 Q88.3993 78.7438 89.4178 78.7438 Q95.2049 78.7438 98.5845 81.9151 Q101.964 85.0864 101.964 90.503 Q101.964 96.0817 98.4919 99.1835 Q95.0197 102.262 88.7003 102.262 Q86.5243 102.262 84.2558 101.892 Q82.0105 101.521 79.6031 100.781 L79.6031 96.0817 Q81.6864 97.2159 83.9086 97.7715 Q86.1308 98.327 88.6077 98.327 Q92.6123 98.327 94.9502 96.2206 Q97.2882 94.1141 97.2882 90.503 Q97.2882 86.8919 94.9502 84.7854 Q92.6123 82.679 88.6077 82.679 Q86.7327 82.679 84.8577 83.0956 Q83.0058 83.5123 81.0614 84.3919 L81.0614 67.0309 Z\" fill=\"#000000\" fill-rule=\"evenodd\" fill-opacity=\"1\" /><path clip-path=\"url(#clip170)\" d=\"M121.177 70.1096 Q117.566 70.1096 115.737 73.6744 Q113.932 77.216 113.932 84.3456 Q113.932 91.4521 115.737 95.0169 Q117.566 98.5585 121.177 98.5585 Q124.811 98.5585 126.617 95.0169 Q128.445 91.4521 128.445 84.3456 Q128.445 77.216 126.617 73.6744 Q124.811 70.1096 121.177 70.1096 M121.177 66.4059 Q126.987 66.4059 130.043 71.0124 Q133.121 75.5957 133.121 84.3456 Q133.121 93.0724 130.043 97.6789 Q126.987 102.262 121.177 102.262 Q115.367 102.262 112.288 97.6789 Q109.233 93.0724 109.233 84.3456 Q109.233 75.5957 112.288 71.0124 Q115.367 66.4059 121.177 66.4059 Z\" fill=\"#000000\" fill-rule=\"evenodd\" fill-opacity=\"1\" /><circle clip-path=\"url(#clip172)\" cx=\"230.922\" cy=\"776.017\" r=\"14.4\" fill=\"#009af9\" fill-rule=\"evenodd\" fill-opacity=\"1\" stroke=\"#000000\" stroke-opacity=\"1\" stroke-width=\"3.2\"/>\n",
       "<circle clip-path=\"url(#clip172)\" cx=\"333.924\" cy=\"850.011\" r=\"14.4\" fill=\"#009af9\" fill-rule=\"evenodd\" fill-opacity=\"1\" stroke=\"#000000\" stroke-opacity=\"1\" stroke-width=\"3.2\"/>\n",
       "<circle clip-path=\"url(#clip172)\" cx=\"436.926\" cy=\"1032.12\" r=\"14.4\" fill=\"#009af9\" fill-rule=\"evenodd\" fill-opacity=\"1\" stroke=\"#000000\" stroke-opacity=\"1\" stroke-width=\"3.2\"/>\n",
       "<circle clip-path=\"url(#clip172)\" cx=\"539.927\" cy=\"1030.12\" r=\"14.4\" fill=\"#009af9\" fill-rule=\"evenodd\" fill-opacity=\"1\" stroke=\"#000000\" stroke-opacity=\"1\" stroke-width=\"3.2\"/>\n",
       "<circle clip-path=\"url(#clip172)\" cx=\"642.929\" cy=\"1101.46\" r=\"14.4\" fill=\"#009af9\" fill-rule=\"evenodd\" fill-opacity=\"1\" stroke=\"#000000\" stroke-opacity=\"1\" stroke-width=\"3.2\"/>\n",
       "<circle clip-path=\"url(#clip172)\" cx=\"745.93\" cy=\"1262.6\" r=\"14.4\" fill=\"#009af9\" fill-rule=\"evenodd\" fill-opacity=\"1\" stroke=\"#000000\" stroke-opacity=\"1\" stroke-width=\"3.2\"/>\n",
       "<circle clip-path=\"url(#clip172)\" cx=\"848.932\" cy=\"1445.72\" r=\"14.4\" fill=\"#009af9\" fill-rule=\"evenodd\" fill-opacity=\"1\" stroke=\"#000000\" stroke-opacity=\"1\" stroke-width=\"3.2\"/>\n",
       "<circle clip-path=\"url(#clip172)\" cx=\"951.934\" cy=\"1283.38\" r=\"14.4\" fill=\"#009af9\" fill-rule=\"evenodd\" fill-opacity=\"1\" stroke=\"#000000\" stroke-opacity=\"1\" stroke-width=\"3.2\"/>\n",
       "<circle clip-path=\"url(#clip172)\" cx=\"1054.94\" cy=\"1352.31\" r=\"14.4\" fill=\"#009af9\" fill-rule=\"evenodd\" fill-opacity=\"1\" stroke=\"#000000\" stroke-opacity=\"1\" stroke-width=\"3.2\"/>\n",
       "<circle clip-path=\"url(#clip172)\" cx=\"1157.94\" cy=\"1256.69\" r=\"14.4\" fill=\"#009af9\" fill-rule=\"evenodd\" fill-opacity=\"1\" stroke=\"#000000\" stroke-opacity=\"1\" stroke-width=\"3.2\"/>\n",
       "<circle clip-path=\"url(#clip172)\" cx=\"1260.94\" cy=\"1290.93\" r=\"14.4\" fill=\"#009af9\" fill-rule=\"evenodd\" fill-opacity=\"1\" stroke=\"#000000\" stroke-opacity=\"1\" stroke-width=\"3.2\"/>\n",
       "<circle clip-path=\"url(#clip172)\" cx=\"1363.94\" cy=\"1323.89\" r=\"14.4\" fill=\"#009af9\" fill-rule=\"evenodd\" fill-opacity=\"1\" stroke=\"#000000\" stroke-opacity=\"1\" stroke-width=\"3.2\"/>\n",
       "<circle clip-path=\"url(#clip172)\" cx=\"1466.94\" cy=\"1289.66\" r=\"14.4\" fill=\"#009af9\" fill-rule=\"evenodd\" fill-opacity=\"1\" stroke=\"#000000\" stroke-opacity=\"1\" stroke-width=\"3.2\"/>\n",
       "<circle clip-path=\"url(#clip172)\" cx=\"1569.94\" cy=\"1121.13\" r=\"14.4\" fill=\"#009af9\" fill-rule=\"evenodd\" fill-opacity=\"1\" stroke=\"#000000\" stroke-opacity=\"1\" stroke-width=\"3.2\"/>\n",
       "<circle clip-path=\"url(#clip172)\" cx=\"1672.95\" cy=\"924.36\" r=\"14.4\" fill=\"#009af9\" fill-rule=\"evenodd\" fill-opacity=\"1\" stroke=\"#000000\" stroke-opacity=\"1\" stroke-width=\"3.2\"/>\n",
       "<circle clip-path=\"url(#clip172)\" cx=\"1775.95\" cy=\"977.508\" r=\"14.4\" fill=\"#009af9\" fill-rule=\"evenodd\" fill-opacity=\"1\" stroke=\"#000000\" stroke-opacity=\"1\" stroke-width=\"3.2\"/>\n",
       "<circle clip-path=\"url(#clip172)\" cx=\"1878.95\" cy=\"904.691\" r=\"14.4\" fill=\"#009af9\" fill-rule=\"evenodd\" fill-opacity=\"1\" stroke=\"#000000\" stroke-opacity=\"1\" stroke-width=\"3.2\"/>\n",
       "<circle clip-path=\"url(#clip172)\" cx=\"1981.95\" cy=\"799.05\" r=\"14.4\" fill=\"#009af9\" fill-rule=\"evenodd\" fill-opacity=\"1\" stroke=\"#000000\" stroke-opacity=\"1\" stroke-width=\"3.2\"/>\n",
       "<circle clip-path=\"url(#clip172)\" cx=\"2084.95\" cy=\"722.519\" r=\"14.4\" fill=\"#009af9\" fill-rule=\"evenodd\" fill-opacity=\"1\" stroke=\"#000000\" stroke-opacity=\"1\" stroke-width=\"3.2\"/>\n",
       "<circle clip-path=\"url(#clip172)\" cx=\"2187.95\" cy=\"471.857\" r=\"14.4\" fill=\"#009af9\" fill-rule=\"evenodd\" fill-opacity=\"1\" stroke=\"#000000\" stroke-opacity=\"1\" stroke-width=\"3.2\"/>\n",
       "<circle clip-path=\"url(#clip172)\" cx=\"2290.95\" cy=\"87.9763\" r=\"14.4\" fill=\"#009af9\" fill-rule=\"evenodd\" fill-opacity=\"1\" stroke=\"#000000\" stroke-opacity=\"1\" stroke-width=\"3.2\"/>\n",
       "<polyline clip-path=\"url(#clip172)\" style=\"stroke:#e26f46; stroke-linecap:round; stroke-linejoin:round; stroke-width:4; stroke-opacity:1; fill:none\" points=\"230.922,758.042 333.924,889.502 436.926,1004.53 539.927,1103.12 642.929,1185.29 745.93,1251.02 848.932,1300.31 951.934,1333.18 1054.94,1349.61 1157.94,1349.61 1260.94,1333.18 1363.94,1300.31 1466.94,1251.02 1569.94,1185.29 1672.95,1103.12 1775.95,1004.53 1878.95,889.502 1981.95,758.042 2084.95,610.15 2187.95,445.825 2290.95,265.068 \"/>\n",
       "<polyline clip-path=\"url(#clip172)\" style=\"stroke:#3da44d; stroke-linecap:round; stroke-linejoin:round; stroke-width:4; stroke-opacity:1; fill:none\" points=\"230.922,747.427 333.924,878.489 436.926,993.073 539.927,1091.18 642.929,1172.81 745.93,1237.96 848.932,1286.64 951.934,1318.83 1054.94,1334.55 1157.94,1333.8 1260.94,1316.56 1363.94,1282.85 1466.94,1232.66 1569.94,1165.99 1672.95,1082.85 1775.95,983.228 1878.95,867.129 1981.95,734.553 2084.95,585.5 2187.95,419.969 2290.95,237.961 \"/>\n",
       "<path clip-path=\"url(#clip170)\" d=\"M241.909 302.578 L734.415 302.578 L734.415 95.2176 L241.909 95.2176  Z\" fill=\"#ffffff\" fill-rule=\"evenodd\" fill-opacity=\"1\"/>\n",
       "<polyline clip-path=\"url(#clip170)\" style=\"stroke:#000000; stroke-linecap:round; stroke-linejoin:round; stroke-width:4; stroke-opacity:1; fill:none\" points=\"241.909,302.578 734.415,302.578 734.415,95.2176 241.909,95.2176 241.909,302.578 \"/>\n",
       "<circle clip-path=\"url(#clip170)\" cx=\"338.96\" cy=\"147.058\" r=\"23.04\" fill=\"#009af9\" fill-rule=\"evenodd\" fill-opacity=\"1\" stroke=\"#000000\" stroke-opacity=\"1\" stroke-width=\"5.12\"/>\n",
       "<path clip-path=\"url(#clip170)\" d=\"M454.922 142.347 L454.922 128.319 L459.181 128.319 L459.181 164.338 L454.922 164.338 L454.922 160.449 Q453.579 162.763 451.519 163.898 Q449.482 165.009 446.612 165.009 Q441.913 165.009 438.95 161.259 Q436.01 157.509 436.01 151.398 Q436.01 145.287 438.95 141.537 Q441.913 137.787 446.612 137.787 Q449.482 137.787 451.519 138.921 Q453.579 140.032 454.922 142.347 M440.408 151.398 Q440.408 156.097 442.329 158.782 Q444.274 161.444 447.653 161.444 Q451.033 161.444 452.977 158.782 Q454.922 156.097 454.922 151.398 Q454.922 146.699 452.977 144.037 Q451.033 141.352 447.653 141.352 Q444.274 141.352 442.329 144.037 Q440.408 146.699 440.408 151.398 Z\" fill=\"#000000\" fill-rule=\"evenodd\" fill-opacity=\"1\" /><path clip-path=\"url(#clip170)\" d=\"M479.737 151.305 Q474.575 151.305 472.584 152.486 Q470.593 153.666 470.593 156.514 Q470.593 158.782 472.075 160.125 Q473.579 161.444 476.149 161.444 Q479.69 161.444 481.82 158.944 Q483.973 156.421 483.973 152.254 L483.973 151.305 L479.737 151.305 M488.232 149.546 L488.232 164.338 L483.973 164.338 L483.973 160.402 Q482.514 162.763 480.338 163.898 Q478.163 165.009 475.014 165.009 Q471.033 165.009 468.672 162.787 Q466.334 160.541 466.334 156.791 Q466.334 152.416 469.251 150.194 Q472.19 147.972 478.001 147.972 L483.973 147.972 L483.973 147.555 Q483.973 144.615 482.028 143.018 Q480.107 141.398 476.612 141.398 Q474.389 141.398 472.283 141.93 Q470.176 142.463 468.232 143.527 L468.232 139.592 Q470.57 138.69 472.769 138.25 Q474.968 137.787 477.051 137.787 Q482.676 137.787 485.454 140.703 Q488.232 143.62 488.232 149.546 Z\" fill=\"#000000\" fill-rule=\"evenodd\" fill-opacity=\"1\" /><path clip-path=\"url(#clip170)\" d=\"M501.218 131.051 L501.218 138.412 L509.991 138.412 L509.991 141.722 L501.218 141.722 L501.218 155.796 Q501.218 158.967 502.074 159.87 Q502.954 160.773 505.616 160.773 L509.991 160.773 L509.991 164.338 L505.616 164.338 Q500.686 164.338 498.811 162.509 Q496.936 160.657 496.936 155.796 L496.936 141.722 L493.811 141.722 L493.811 138.412 L496.936 138.412 L496.936 131.051 L501.218 131.051 Z\" fill=\"#000000\" fill-rule=\"evenodd\" fill-opacity=\"1\" /><path clip-path=\"url(#clip170)\" d=\"M527.375 151.305 Q522.213 151.305 520.222 152.486 Q518.232 153.666 518.232 156.514 Q518.232 158.782 519.713 160.125 Q521.218 161.444 523.787 161.444 Q527.329 161.444 529.459 158.944 Q531.611 156.421 531.611 152.254 L531.611 151.305 L527.375 151.305 M535.871 149.546 L535.871 164.338 L531.611 164.338 L531.611 160.402 Q530.153 162.763 527.977 163.898 Q525.801 165.009 522.653 165.009 Q518.672 165.009 516.31 162.787 Q513.973 160.541 513.973 156.791 Q513.973 152.416 516.889 150.194 Q519.829 147.972 525.639 147.972 L531.611 147.972 L531.611 147.555 Q531.611 144.615 529.667 143.018 Q527.746 141.398 524.25 141.398 Q522.028 141.398 519.922 141.93 Q517.815 142.463 515.871 143.527 L515.871 139.592 Q518.209 138.69 520.408 138.25 Q522.607 137.787 524.69 137.787 Q530.315 137.787 533.093 140.703 Q535.871 143.62 535.871 149.546 Z\" fill=\"#000000\" fill-rule=\"evenodd\" fill-opacity=\"1\" /><polyline clip-path=\"url(#clip170)\" style=\"stroke:#e26f46; stroke-linecap:round; stroke-linejoin:round; stroke-width:4; stroke-opacity:1; fill:none\" points=\"266.172,198.898 411.747,198.898 \"/>\n",
       "<path clip-path=\"url(#clip170)\" d=\"M436.01 181.618 L465.246 181.618 L465.246 185.553 L452.977 185.553 L452.977 216.178 L448.278 216.178 L448.278 185.553 L436.01 185.553 L436.01 181.618 Z\" fill=\"#000000\" fill-rule=\"evenodd\" fill-opacity=\"1\" /><path clip-path=\"url(#clip170)\" d=\"M477.63 194.233 Q476.913 193.817 476.056 193.631 Q475.223 193.423 474.204 193.423 Q470.593 193.423 468.649 195.784 Q466.727 198.122 466.727 202.52 L466.727 216.178 L462.445 216.178 L462.445 190.252 L466.727 190.252 L466.727 194.28 Q468.07 191.918 470.223 190.784 Q472.376 189.627 475.454 189.627 Q475.894 189.627 476.426 189.696 Q476.959 189.743 477.607 189.858 L477.63 194.233 Z\" fill=\"#000000\" fill-rule=\"evenodd\" fill-opacity=\"1\" /><path clip-path=\"url(#clip170)\" d=\"M481.658 205.946 L481.658 190.252 L485.917 190.252 L485.917 205.784 Q485.917 209.465 487.352 211.316 Q488.787 213.145 491.658 213.145 Q495.107 213.145 497.098 210.946 Q499.112 208.747 499.112 204.951 L499.112 190.252 L503.371 190.252 L503.371 216.178 L499.112 216.178 L499.112 212.196 Q497.561 214.557 495.5 215.715 Q493.463 216.849 490.755 216.849 Q486.287 216.849 483.973 214.071 Q481.658 211.293 481.658 205.946 M492.375 189.627 L492.375 189.627 Z\" fill=\"#000000\" fill-rule=\"evenodd\" fill-opacity=\"1\" /><path clip-path=\"url(#clip170)\" d=\"M534.32 202.15 L534.32 204.233 L514.736 204.233 Q515.014 208.631 517.375 210.946 Q519.76 213.238 523.996 213.238 Q526.449 213.238 528.741 212.636 Q531.056 212.034 533.324 210.83 L533.324 214.858 Q531.033 215.83 528.625 216.34 Q526.218 216.849 523.741 216.849 Q517.537 216.849 513.903 213.238 Q510.292 209.627 510.292 203.469 Q510.292 197.104 513.718 193.377 Q517.167 189.627 523 189.627 Q528.232 189.627 531.264 193.006 Q534.32 196.363 534.32 202.15 M530.06 200.9 Q530.014 197.405 528.093 195.321 Q526.195 193.238 523.047 193.238 Q519.482 193.238 517.329 195.252 Q515.199 197.266 514.875 200.923 L530.06 200.9 Z\" fill=\"#000000\" fill-rule=\"evenodd\" fill-opacity=\"1\" /><path clip-path=\"url(#clip170)\" d=\"M575.037 191.247 L575.037 195.229 Q573.231 194.233 571.403 193.747 Q569.597 193.238 567.745 193.238 Q563.602 193.238 561.31 195.877 Q559.019 198.492 559.019 203.238 Q559.019 207.983 561.31 210.622 Q563.602 213.238 567.745 213.238 Q569.597 213.238 571.403 212.752 Q573.231 212.242 575.037 211.247 L575.037 215.182 Q573.255 216.016 571.333 216.432 Q569.435 216.849 567.282 216.849 Q561.426 216.849 557.977 213.168 Q554.528 209.488 554.528 203.238 Q554.528 196.895 558 193.261 Q561.495 189.627 567.56 189.627 Q569.528 189.627 571.403 190.043 Q573.278 190.437 575.037 191.247 Z\" fill=\"#000000\" fill-rule=\"evenodd\" fill-opacity=\"1\" /><path clip-path=\"url(#clip170)\" d=\"M582.005 205.946 L582.005 190.252 L586.264 190.252 L586.264 205.784 Q586.264 209.465 587.699 211.316 Q589.134 213.145 592.005 213.145 Q595.454 213.145 597.444 210.946 Q599.458 208.747 599.458 204.951 L599.458 190.252 L603.717 190.252 L603.717 216.178 L599.458 216.178 L599.458 212.196 Q597.907 214.557 595.847 215.715 Q593.81 216.849 591.102 216.849 Q586.634 216.849 584.319 214.071 Q582.005 211.293 582.005 205.946 M592.722 189.627 L592.722 189.627 Z\" fill=\"#000000\" fill-rule=\"evenodd\" fill-opacity=\"1\" /><path clip-path=\"url(#clip170)\" d=\"M627.514 194.233 Q626.796 193.817 625.94 193.631 Q625.106 193.423 624.088 193.423 Q620.477 193.423 618.532 195.784 Q616.611 198.122 616.611 202.52 L616.611 216.178 L612.328 216.178 L612.328 190.252 L616.611 190.252 L616.611 194.28 Q617.953 191.918 620.106 190.784 Q622.259 189.627 625.338 189.627 Q625.777 189.627 626.31 189.696 Q626.842 189.743 627.49 189.858 L627.514 194.233 Z\" fill=\"#000000\" fill-rule=\"evenodd\" fill-opacity=\"1\" /><path clip-path=\"url(#clip170)\" d=\"M628.926 190.252 L633.439 190.252 L641.541 212.011 L649.643 190.252 L654.157 190.252 L644.435 216.178 L638.648 216.178 L628.926 190.252 Z\" fill=\"#000000\" fill-rule=\"evenodd\" fill-opacity=\"1\" /><path clip-path=\"url(#clip170)\" d=\"M682.212 202.15 L682.212 204.233 L662.629 204.233 Q662.907 208.631 665.268 210.946 Q667.652 213.238 671.888 213.238 Q674.342 213.238 676.634 212.636 Q678.949 212.034 681.217 210.83 L681.217 214.858 Q678.925 215.83 676.518 216.34 Q674.111 216.849 671.634 216.849 Q665.43 216.849 661.796 213.238 Q658.185 209.627 658.185 203.469 Q658.185 197.104 661.611 193.377 Q665.06 189.627 670.893 189.627 Q676.124 189.627 679.157 193.006 Q682.212 196.363 682.212 202.15 M677.953 200.9 Q677.907 197.405 675.986 195.321 Q674.087 193.238 670.939 193.238 Q667.374 193.238 665.222 195.252 Q663.092 197.266 662.768 200.923 L677.953 200.9 Z\" fill=\"#000000\" fill-rule=\"evenodd\" fill-opacity=\"1\" /><polyline clip-path=\"url(#clip170)\" style=\"stroke:#3da44d; stroke-linecap:round; stroke-linejoin:round; stroke-width:4; stroke-opacity:1; fill:none\" points=\"266.172,250.738 411.747,250.738 \"/>\n",
       "<path clip-path=\"url(#clip170)\" d=\"M436.01 233.458 L455.871 233.458 L455.871 237.393 L440.686 237.393 L440.686 247.578 L454.39 247.578 L454.39 251.513 L440.686 251.513 L440.686 268.018 L436.01 268.018 L436.01 233.458 Z\" fill=\"#000000\" fill-rule=\"evenodd\" fill-opacity=\"1\" /><path clip-path=\"url(#clip170)\" d=\"M459.644 242.092 L463.903 242.092 L463.903 268.018 L459.644 268.018 L459.644 242.092 M459.644 231.999 L463.903 231.999 L463.903 237.393 L459.644 237.393 L459.644 231.999 Z\" fill=\"#000000\" fill-rule=\"evenodd\" fill-opacity=\"1\" /><path clip-path=\"url(#clip170)\" d=\"M477.028 234.731 L477.028 242.092 L485.801 242.092 L485.801 245.402 L477.028 245.402 L477.028 259.476 Q477.028 262.647 477.885 263.55 Q478.764 264.453 481.426 264.453 L485.801 264.453 L485.801 268.018 L481.426 268.018 Q476.496 268.018 474.621 266.189 Q472.746 264.337 472.746 259.476 L472.746 245.402 L469.621 245.402 L469.621 242.092 L472.746 242.092 L472.746 234.731 L477.028 234.731 Z\" fill=\"#000000\" fill-rule=\"evenodd\" fill-opacity=\"1\" /><path clip-path=\"url(#clip170)\" d=\"M495.616 234.731 L495.616 242.092 L504.389 242.092 L504.389 245.402 L495.616 245.402 L495.616 259.476 Q495.616 262.647 496.473 263.55 Q497.352 264.453 500.014 264.453 L504.389 264.453 L504.389 268.018 L500.014 268.018 Q495.084 268.018 493.209 266.189 Q491.334 264.337 491.334 259.476 L491.334 245.402 L488.209 245.402 L488.209 242.092 L491.334 242.092 L491.334 234.731 L495.616 234.731 Z\" fill=\"#000000\" fill-rule=\"evenodd\" fill-opacity=\"1\" /><path clip-path=\"url(#clip170)\" d=\"M532.167 253.99 L532.167 256.073 L512.584 256.073 Q512.861 260.471 515.223 262.786 Q517.607 265.078 521.843 265.078 Q524.297 265.078 526.588 264.476 Q528.903 263.874 531.172 262.67 L531.172 266.698 Q528.88 267.67 526.472 268.18 Q524.065 268.689 521.588 268.689 Q515.385 268.689 511.75 265.078 Q508.139 261.467 508.139 255.309 Q508.139 248.944 511.565 245.217 Q515.014 241.467 520.847 241.467 Q526.079 241.467 529.111 244.846 Q532.167 248.203 532.167 253.99 M527.908 252.74 Q527.861 249.245 525.94 247.161 Q524.042 245.078 520.894 245.078 Q517.329 245.078 515.176 247.092 Q513.047 249.106 512.723 252.763 L527.908 252.74 Z\" fill=\"#000000\" fill-rule=\"evenodd\" fill-opacity=\"1\" /><path clip-path=\"url(#clip170)\" d=\"M556.218 246.027 L556.218 231.999 L560.477 231.999 L560.477 268.018 L556.218 268.018 L556.218 264.129 Q554.875 266.443 552.815 267.578 Q550.778 268.689 547.908 268.689 Q543.208 268.689 540.246 264.939 Q537.306 261.189 537.306 255.078 Q537.306 248.967 540.246 245.217 Q543.208 241.467 547.908 241.467 Q550.778 241.467 552.815 242.601 Q554.875 243.712 556.218 246.027 M541.704 255.078 Q541.704 259.777 543.625 262.462 Q545.57 265.124 548.949 265.124 Q552.329 265.124 554.273 262.462 Q556.218 259.777 556.218 255.078 Q556.218 250.379 554.273 247.717 Q552.329 245.032 548.949 245.032 Q545.57 245.032 543.625 247.717 Q541.704 250.379 541.704 255.078 Z\" fill=\"#000000\" fill-rule=\"evenodd\" fill-opacity=\"1\" /><path clip-path=\"url(#clip170)\" d=\"M602.977 243.087 L602.977 247.069 Q601.171 246.073 599.342 245.587 Q597.537 245.078 595.685 245.078 Q591.542 245.078 589.25 247.717 Q586.958 250.332 586.958 255.078 Q586.958 259.823 589.25 262.462 Q591.542 265.078 595.685 265.078 Q597.537 265.078 599.342 264.592 Q601.171 264.082 602.977 263.087 L602.977 267.022 Q601.194 267.856 599.273 268.272 Q597.375 268.689 595.222 268.689 Q589.366 268.689 585.917 265.008 Q582.468 261.328 582.468 255.078 Q582.468 248.735 585.94 245.101 Q589.435 241.467 595.5 241.467 Q597.467 241.467 599.342 241.883 Q601.217 242.277 602.977 243.087 Z\" fill=\"#000000\" fill-rule=\"evenodd\" fill-opacity=\"1\" /><path clip-path=\"url(#clip170)\" d=\"M609.944 257.786 L609.944 242.092 L614.203 242.092 L614.203 257.624 Q614.203 261.305 615.639 263.156 Q617.074 264.985 619.944 264.985 Q623.393 264.985 625.384 262.786 Q627.398 260.587 627.398 256.791 L627.398 242.092 L631.657 242.092 L631.657 268.018 L627.398 268.018 L627.398 264.036 Q625.847 266.397 623.787 267.555 Q621.75 268.689 619.041 268.689 Q614.574 268.689 612.259 265.911 Q609.944 263.133 609.944 257.786 M620.662 241.467 L620.662 241.467 Z\" fill=\"#000000\" fill-rule=\"evenodd\" fill-opacity=\"1\" /><path clip-path=\"url(#clip170)\" d=\"M655.453 246.073 Q654.736 245.657 653.879 245.471 Q653.046 245.263 652.027 245.263 Q648.416 245.263 646.472 247.624 Q644.551 249.962 644.551 254.36 L644.551 268.018 L640.268 268.018 L640.268 242.092 L644.551 242.092 L644.551 246.12 Q645.893 243.758 648.046 242.624 Q650.199 241.467 653.277 241.467 Q653.717 241.467 654.25 241.536 Q654.782 241.583 655.43 241.698 L655.453 246.073 Z\" fill=\"#000000\" fill-rule=\"evenodd\" fill-opacity=\"1\" /><path clip-path=\"url(#clip170)\" d=\"M656.865 242.092 L661.379 242.092 L669.481 263.851 L677.583 242.092 L682.097 242.092 L672.374 268.018 L666.587 268.018 L656.865 242.092 Z\" fill=\"#000000\" fill-rule=\"evenodd\" fill-opacity=\"1\" /><path clip-path=\"url(#clip170)\" d=\"M710.152 253.99 L710.152 256.073 L690.569 256.073 Q690.847 260.471 693.208 262.786 Q695.592 265.078 699.828 265.078 Q702.282 265.078 704.573 264.476 Q706.888 263.874 709.157 262.67 L709.157 266.698 Q706.865 267.67 704.458 268.18 Q702.05 268.689 699.573 268.689 Q693.37 268.689 689.735 265.078 Q686.124 261.467 686.124 255.309 Q686.124 248.944 689.55 245.217 Q692.999 241.467 698.833 241.467 Q704.064 241.467 707.096 244.846 Q710.152 248.203 710.152 253.99 M705.893 252.74 Q705.847 249.245 703.925 247.161 Q702.027 245.078 698.879 245.078 Q695.314 245.078 693.161 247.092 Q691.032 249.106 690.708 252.763 L705.893 252.74 Z\" fill=\"#000000\" fill-rule=\"evenodd\" fill-opacity=\"1\" /></svg>\n"
      ]
     },
     "execution_count": 6,
     "metadata": {},
     "output_type": "execute_result"
    }
   ],
   "source": [
    "x = collect(-10:1:10)\n",
    "y_true = (x .^ 2) .+ (3 .* x) .- 2\n",
    "d = Normal(0,10)\n",
    "gaussian = rand(d,length(x))\n",
    "y_observed = y_true .+ gaussian\n",
    "using Plots\n",
    "scatter(x,y_observed, label=\"data\")\n",
    "plot!(x,y_true, label=\"True curve\")\n",
    "line_fit = Polynomials.fit(x,y_observed,2)\n",
    "y_fitted = line_fit.(x)\n",
    "plot!(x,y_fitted, label=\"Fitted curve\")"
   ]
  },
  {
   "cell_type": "markdown",
   "id": "b3b5a343",
   "metadata": {
    "id": "b3b5a343"
   },
   "source": [
    "### 2.4\n",
    "\n",
    "1. Repeat 2.2 and 2.3 with a noise with a standard deviation of 50"
   ]
  },
  {
   "cell_type": "code",
   "execution_count": 7,
   "id": "b4c08499",
   "metadata": {
    "executionInfo": {
     "elapsed": 1114,
     "status": "aborted",
     "timestamp": 1676536839522,
     "user": {
      "displayName": "Haleh Akrami",
      "userId": "17790894529808852975"
     },
     "user_tz": 480
    },
    "id": "b4c08499"
   },
   "outputs": [
    {
     "data": {
      "image/svg+xml": [
       "<?xml version=\"1.0\" encoding=\"utf-8\"?>\n",
       "<svg xmlns=\"http://www.w3.org/2000/svg\" xmlns:xlink=\"http://www.w3.org/1999/xlink\" width=\"600\" height=\"400\" viewBox=\"0 0 2400 1600\">\n",
       "<defs>\n",
       "  <clipPath id=\"clip210\">\n",
       "    <rect x=\"0\" y=\"0\" width=\"2400\" height=\"1600\"/>\n",
       "  </clipPath>\n",
       "</defs>\n",
       "<path clip-path=\"url(#clip210)\" d=\"M0 1600 L2400 1600 L2400 0 L0 0  Z\" fill=\"#ffffff\" fill-rule=\"evenodd\" fill-opacity=\"1\"/>\n",
       "<defs>\n",
       "  <clipPath id=\"clip211\">\n",
       "    <rect x=\"480\" y=\"0\" width=\"1681\" height=\"1600\"/>\n",
       "  </clipPath>\n",
       "</defs>\n",
       "<path clip-path=\"url(#clip210)\" d=\"M178.867 1486.45 L2352.76 1486.45 L2352.76 47.2441 L178.867 47.2441  Z\" fill=\"#ffffff\" fill-rule=\"evenodd\" fill-opacity=\"1\"/>\n",
       "<defs>\n",
       "  <clipPath id=\"clip212\">\n",
       "    <rect x=\"178\" y=\"47\" width=\"2175\" height=\"1440\"/>\n",
       "  </clipPath>\n",
       "</defs>\n",
       "<polyline clip-path=\"url(#clip212)\" style=\"stroke:#000000; stroke-linecap:round; stroke-linejoin:round; stroke-width:2; stroke-opacity:0.1; fill:none\" points=\"240.392,1486.45 240.392,47.2441 \"/>\n",
       "<polyline clip-path=\"url(#clip212)\" style=\"stroke:#000000; stroke-linecap:round; stroke-linejoin:round; stroke-width:2; stroke-opacity:0.1; fill:none\" points=\"753.102,1486.45 753.102,47.2441 \"/>\n",
       "<polyline clip-path=\"url(#clip212)\" style=\"stroke:#000000; stroke-linecap:round; stroke-linejoin:round; stroke-width:2; stroke-opacity:0.1; fill:none\" points=\"1265.81,1486.45 1265.81,47.2441 \"/>\n",
       "<polyline clip-path=\"url(#clip212)\" style=\"stroke:#000000; stroke-linecap:round; stroke-linejoin:round; stroke-width:2; stroke-opacity:0.1; fill:none\" points=\"1778.52,1486.45 1778.52,47.2441 \"/>\n",
       "<polyline clip-path=\"url(#clip212)\" style=\"stroke:#000000; stroke-linecap:round; stroke-linejoin:round; stroke-width:2; stroke-opacity:0.1; fill:none\" points=\"2291.23,1486.45 2291.23,47.2441 \"/>\n",
       "<polyline clip-path=\"url(#clip210)\" style=\"stroke:#000000; stroke-linecap:round; stroke-linejoin:round; stroke-width:4; stroke-opacity:1; fill:none\" points=\"178.867,1486.45 2352.76,1486.45 \"/>\n",
       "<polyline clip-path=\"url(#clip210)\" style=\"stroke:#000000; stroke-linecap:round; stroke-linejoin:round; stroke-width:4; stroke-opacity:1; fill:none\" points=\"240.392,1486.45 240.392,1467.55 \"/>\n",
       "<polyline clip-path=\"url(#clip210)\" style=\"stroke:#000000; stroke-linecap:round; stroke-linejoin:round; stroke-width:4; stroke-opacity:1; fill:none\" points=\"753.102,1486.45 753.102,1467.55 \"/>\n",
       "<polyline clip-path=\"url(#clip210)\" style=\"stroke:#000000; stroke-linecap:round; stroke-linejoin:round; stroke-width:4; stroke-opacity:1; fill:none\" points=\"1265.81,1486.45 1265.81,1467.55 \"/>\n",
       "<polyline clip-path=\"url(#clip210)\" style=\"stroke:#000000; stroke-linecap:round; stroke-linejoin:round; stroke-width:4; stroke-opacity:1; fill:none\" points=\"1778.52,1486.45 1778.52,1467.55 \"/>\n",
       "<polyline clip-path=\"url(#clip210)\" style=\"stroke:#000000; stroke-linecap:round; stroke-linejoin:round; stroke-width:4; stroke-opacity:1; fill:none\" points=\"2291.23,1486.45 2291.23,1467.55 \"/>\n",
       "<path clip-path=\"url(#clip210)\" d=\"M194.455 1532.02 L224.13 1532.02 L224.13 1535.95 L194.455 1535.95 L194.455 1532.02 Z\" fill=\"#000000\" fill-rule=\"evenodd\" fill-opacity=\"1\" /><path clip-path=\"url(#clip210)\" d=\"M235.033 1544.91 L242.672 1544.91 L242.672 1518.55 L234.362 1520.21 L234.362 1515.95 L242.626 1514.29 L247.301 1514.29 L247.301 1544.91 L254.94 1544.91 L254.94 1548.85 L235.033 1548.85 L235.033 1544.91 Z\" fill=\"#000000\" fill-rule=\"evenodd\" fill-opacity=\"1\" /><path clip-path=\"url(#clip210)\" d=\"M274.385 1517.37 Q270.774 1517.37 268.945 1520.93 Q267.139 1524.47 267.139 1531.6 Q267.139 1538.71 268.945 1542.27 Q270.774 1545.82 274.385 1545.82 Q278.019 1545.82 279.824 1542.27 Q281.653 1538.71 281.653 1531.6 Q281.653 1524.47 279.824 1520.93 Q278.019 1517.37 274.385 1517.37 M274.385 1513.66 Q280.195 1513.66 283.25 1518.27 Q286.329 1522.85 286.329 1531.6 Q286.329 1540.33 283.25 1544.94 Q280.195 1549.52 274.385 1549.52 Q268.575 1549.52 265.496 1544.94 Q262.44 1540.33 262.44 1531.6 Q262.44 1522.85 265.496 1518.27 Q268.575 1513.66 274.385 1513.66 Z\" fill=\"#000000\" fill-rule=\"evenodd\" fill-opacity=\"1\" /><path clip-path=\"url(#clip210)\" d=\"M722.743 1532.02 L752.419 1532.02 L752.419 1535.95 L722.743 1535.95 L722.743 1532.02 Z\" fill=\"#000000\" fill-rule=\"evenodd\" fill-opacity=\"1\" /><path clip-path=\"url(#clip210)\" d=\"M762.558 1514.29 L780.914 1514.29 L780.914 1518.22 L766.84 1518.22 L766.84 1526.7 Q767.858 1526.35 768.877 1526.19 Q769.895 1526 770.914 1526 Q776.701 1526 780.081 1529.17 Q783.46 1532.34 783.46 1537.76 Q783.46 1543.34 779.988 1546.44 Q776.516 1549.52 770.196 1549.52 Q768.02 1549.52 765.752 1549.15 Q763.507 1548.78 761.099 1548.04 L761.099 1543.34 Q763.183 1544.47 765.405 1545.03 Q767.627 1545.58 770.104 1545.58 Q774.108 1545.58 776.446 1543.48 Q778.784 1541.37 778.784 1537.76 Q778.784 1534.15 776.446 1532.04 Q774.108 1529.94 770.104 1529.94 Q768.229 1529.94 766.354 1530.35 Q764.502 1530.77 762.558 1531.65 L762.558 1514.29 Z\" fill=\"#000000\" fill-rule=\"evenodd\" fill-opacity=\"1\" /><path clip-path=\"url(#clip210)\" d=\"M1265.81 1517.37 Q1262.2 1517.37 1260.37 1520.93 Q1258.57 1524.47 1258.57 1531.6 Q1258.57 1538.71 1260.37 1542.27 Q1262.2 1545.82 1265.81 1545.82 Q1269.45 1545.82 1271.25 1542.27 Q1273.08 1538.71 1273.08 1531.6 Q1273.08 1524.47 1271.25 1520.93 Q1269.45 1517.37 1265.81 1517.37 M1265.81 1513.66 Q1271.62 1513.66 1274.68 1518.27 Q1277.76 1522.85 1277.76 1531.6 Q1277.76 1540.33 1274.68 1544.94 Q1271.62 1549.52 1265.81 1549.52 Q1260 1549.52 1256.92 1544.94 Q1253.87 1540.33 1253.87 1531.6 Q1253.87 1522.85 1256.92 1518.27 Q1260 1513.66 1265.81 1513.66 Z\" fill=\"#000000\" fill-rule=\"evenodd\" fill-opacity=\"1\" /><path clip-path=\"url(#clip210)\" d=\"M1768.8 1514.29 L1787.16 1514.29 L1787.16 1518.22 L1773.08 1518.22 L1773.08 1526.7 Q1774.1 1526.35 1775.12 1526.19 Q1776.14 1526 1777.16 1526 Q1782.94 1526 1786.32 1529.17 Q1789.7 1532.34 1789.7 1537.76 Q1789.7 1543.34 1786.23 1546.44 Q1782.76 1549.52 1776.44 1549.52 Q1774.26 1549.52 1771.99 1549.15 Q1769.75 1548.78 1767.34 1548.04 L1767.34 1543.34 Q1769.42 1544.47 1771.65 1545.03 Q1773.87 1545.58 1776.35 1545.58 Q1780.35 1545.58 1782.69 1543.48 Q1785.03 1541.37 1785.03 1537.76 Q1785.03 1534.15 1782.69 1532.04 Q1780.35 1529.94 1776.35 1529.94 Q1774.47 1529.94 1772.6 1530.35 Q1770.74 1530.77 1768.8 1531.65 L1768.8 1514.29 Z\" fill=\"#000000\" fill-rule=\"evenodd\" fill-opacity=\"1\" /><path clip-path=\"url(#clip210)\" d=\"M2265.92 1544.91 L2273.56 1544.91 L2273.56 1518.55 L2265.25 1520.21 L2265.25 1515.95 L2273.51 1514.29 L2278.19 1514.29 L2278.19 1544.91 L2285.83 1544.91 L2285.83 1548.85 L2265.92 1548.85 L2265.92 1544.91 Z\" fill=\"#000000\" fill-rule=\"evenodd\" fill-opacity=\"1\" /><path clip-path=\"url(#clip210)\" d=\"M2305.27 1517.37 Q2301.66 1517.37 2299.83 1520.93 Q2298.02 1524.47 2298.02 1531.6 Q2298.02 1538.71 2299.83 1542.27 Q2301.66 1545.82 2305.27 1545.82 Q2308.9 1545.82 2310.71 1542.27 Q2312.54 1538.71 2312.54 1531.6 Q2312.54 1524.47 2310.71 1520.93 Q2308.9 1517.37 2305.27 1517.37 M2305.27 1513.66 Q2311.08 1513.66 2314.14 1518.27 Q2317.21 1522.85 2317.21 1531.6 Q2317.21 1540.33 2314.14 1544.94 Q2311.08 1549.52 2305.27 1549.52 Q2299.46 1549.52 2296.38 1544.94 Q2293.33 1540.33 2293.33 1531.6 Q2293.33 1522.85 2296.38 1518.27 Q2299.46 1513.66 2305.27 1513.66 Z\" fill=\"#000000\" fill-rule=\"evenodd\" fill-opacity=\"1\" /><polyline clip-path=\"url(#clip212)\" style=\"stroke:#000000; stroke-linecap:round; stroke-linejoin:round; stroke-width:2; stroke-opacity:0.1; fill:none\" points=\"178.867,1385.24 2352.76,1385.24 \"/>\n",
       "<polyline clip-path=\"url(#clip212)\" style=\"stroke:#000000; stroke-linecap:round; stroke-linejoin:round; stroke-width:2; stroke-opacity:0.1; fill:none\" points=\"178.867,1051.57 2352.76,1051.57 \"/>\n",
       "<polyline clip-path=\"url(#clip212)\" style=\"stroke:#000000; stroke-linecap:round; stroke-linejoin:round; stroke-width:2; stroke-opacity:0.1; fill:none\" points=\"178.867,717.899 2352.76,717.899 \"/>\n",
       "<polyline clip-path=\"url(#clip212)\" style=\"stroke:#000000; stroke-linecap:round; stroke-linejoin:round; stroke-width:2; stroke-opacity:0.1; fill:none\" points=\"178.867,384.229 2352.76,384.229 \"/>\n",
       "<polyline clip-path=\"url(#clip212)\" style=\"stroke:#000000; stroke-linecap:round; stroke-linejoin:round; stroke-width:2; stroke-opacity:0.1; fill:none\" points=\"178.867,50.5593 2352.76,50.5593 \"/>\n",
       "<polyline clip-path=\"url(#clip210)\" style=\"stroke:#000000; stroke-linecap:round; stroke-linejoin:round; stroke-width:4; stroke-opacity:1; fill:none\" points=\"178.867,1486.45 178.867,47.2441 \"/>\n",
       "<polyline clip-path=\"url(#clip210)\" style=\"stroke:#000000; stroke-linecap:round; stroke-linejoin:round; stroke-width:4; stroke-opacity:1; fill:none\" points=\"178.867,1385.24 197.764,1385.24 \"/>\n",
       "<polyline clip-path=\"url(#clip210)\" style=\"stroke:#000000; stroke-linecap:round; stroke-linejoin:round; stroke-width:4; stroke-opacity:1; fill:none\" points=\"178.867,1051.57 197.764,1051.57 \"/>\n",
       "<polyline clip-path=\"url(#clip210)\" style=\"stroke:#000000; stroke-linecap:round; stroke-linejoin:round; stroke-width:4; stroke-opacity:1; fill:none\" points=\"178.867,717.899 197.764,717.899 \"/>\n",
       "<polyline clip-path=\"url(#clip210)\" style=\"stroke:#000000; stroke-linecap:round; stroke-linejoin:round; stroke-width:4; stroke-opacity:1; fill:none\" points=\"178.867,384.229 197.764,384.229 \"/>\n",
       "<polyline clip-path=\"url(#clip210)\" style=\"stroke:#000000; stroke-linecap:round; stroke-linejoin:round; stroke-width:4; stroke-opacity:1; fill:none\" points=\"178.867,50.5593 197.764,50.5593 \"/>\n",
       "<path clip-path=\"url(#clip210)\" d=\"M50.9921 1385.69 L80.6679 1385.69 L80.6679 1389.63 L50.9921 1389.63 L50.9921 1385.69 Z\" fill=\"#000000\" fill-rule=\"evenodd\" fill-opacity=\"1\" /><path clip-path=\"url(#clip210)\" d=\"M90.8067 1367.96 L109.163 1367.96 L109.163 1371.89 L95.0891 1371.89 L95.0891 1380.37 Q96.1076 1380.02 97.1261 1379.86 Q98.1447 1379.67 99.1632 1379.67 Q104.95 1379.67 108.33 1382.84 Q111.709 1386.01 111.709 1391.43 Q111.709 1397.01 108.237 1400.11 Q104.765 1403.19 98.4456 1403.19 Q96.2697 1403.19 94.0012 1402.82 Q91.7558 1402.45 89.3484 1401.71 L89.3484 1397.01 Q91.4317 1398.14 93.6539 1398.7 Q95.8761 1399.26 98.353 1399.26 Q102.358 1399.26 104.696 1397.15 Q107.033 1395.04 107.033 1391.43 Q107.033 1387.82 104.696 1385.71 Q102.358 1383.61 98.353 1383.61 Q96.478 1383.61 94.603 1384.02 Q92.7512 1384.44 90.8067 1385.32 L90.8067 1367.96 Z\" fill=\"#000000\" fill-rule=\"evenodd\" fill-opacity=\"1\" /><path clip-path=\"url(#clip210)\" d=\"M130.922 1371.04 Q127.311 1371.04 125.482 1374.6 Q123.677 1378.14 123.677 1385.27 Q123.677 1392.38 125.482 1395.95 Q127.311 1399.49 130.922 1399.49 Q134.556 1399.49 136.362 1395.95 Q138.191 1392.38 138.191 1385.27 Q138.191 1378.14 136.362 1374.6 Q134.556 1371.04 130.922 1371.04 M130.922 1367.33 Q136.732 1367.33 139.788 1371.94 Q142.867 1376.52 142.867 1385.27 Q142.867 1394 139.788 1398.61 Q136.732 1403.19 130.922 1403.19 Q125.112 1403.19 122.033 1398.61 Q118.978 1394 118.978 1385.27 Q118.978 1376.52 122.033 1371.94 Q125.112 1367.33 130.922 1367.33 Z\" fill=\"#000000\" fill-rule=\"evenodd\" fill-opacity=\"1\" /><path clip-path=\"url(#clip210)\" d=\"M130.922 1037.37 Q127.311 1037.37 125.482 1040.93 Q123.677 1044.47 123.677 1051.6 Q123.677 1058.71 125.482 1062.28 Q127.311 1065.82 130.922 1065.82 Q134.556 1065.82 136.362 1062.28 Q138.191 1058.71 138.191 1051.6 Q138.191 1044.47 136.362 1040.93 Q134.556 1037.37 130.922 1037.37 M130.922 1033.66 Q136.732 1033.66 139.788 1038.27 Q142.867 1042.85 142.867 1051.6 Q142.867 1060.33 139.788 1064.94 Q136.732 1069.52 130.922 1069.52 Q125.112 1069.52 122.033 1064.94 Q118.978 1060.33 118.978 1051.6 Q118.978 1042.85 122.033 1038.27 Q125.112 1033.66 130.922 1033.66 Z\" fill=\"#000000\" fill-rule=\"evenodd\" fill-opacity=\"1\" /><path clip-path=\"url(#clip210)\" d=\"M90.8067 700.619 L109.163 700.619 L109.163 704.555 L95.0891 704.555 L95.0891 713.027 Q96.1076 712.679 97.1261 712.517 Q98.1447 712.332 99.1632 712.332 Q104.95 712.332 108.33 715.504 Q111.709 718.675 111.709 724.091 Q111.709 729.67 108.237 732.772 Q104.765 735.851 98.4456 735.851 Q96.2697 735.851 94.0012 735.48 Q91.7558 735.11 89.3484 734.369 L89.3484 729.67 Q91.4317 730.804 93.6539 731.36 Q95.8761 731.916 98.353 731.916 Q102.358 731.916 104.696 729.809 Q107.033 727.703 107.033 724.091 Q107.033 720.48 104.696 718.374 Q102.358 716.267 98.353 716.267 Q96.478 716.267 94.603 716.684 Q92.7512 717.101 90.8067 717.98 L90.8067 700.619 Z\" fill=\"#000000\" fill-rule=\"evenodd\" fill-opacity=\"1\" /><path clip-path=\"url(#clip210)\" d=\"M130.922 703.698 Q127.311 703.698 125.482 707.263 Q123.677 710.805 123.677 717.934 Q123.677 725.041 125.482 728.605 Q127.311 732.147 130.922 732.147 Q134.556 732.147 136.362 728.605 Q138.191 725.041 138.191 717.934 Q138.191 710.805 136.362 707.263 Q134.556 703.698 130.922 703.698 M130.922 699.994 Q136.732 699.994 139.788 704.601 Q142.867 709.184 142.867 717.934 Q142.867 726.661 139.788 731.267 Q136.732 735.851 130.922 735.851 Q125.112 735.851 122.033 731.267 Q118.978 726.661 118.978 717.934 Q118.978 709.184 122.033 704.601 Q125.112 699.994 130.922 699.994 Z\" fill=\"#000000\" fill-rule=\"evenodd\" fill-opacity=\"1\" /><path clip-path=\"url(#clip210)\" d=\"M61.4087 397.574 L69.0476 397.574 L69.0476 371.209 L60.7374 372.875 L60.7374 368.616 L69.0013 366.949 L73.6772 366.949 L73.6772 397.574 L81.316 397.574 L81.316 401.509 L61.4087 401.509 L61.4087 397.574 Z\" fill=\"#000000\" fill-rule=\"evenodd\" fill-opacity=\"1\" /><path clip-path=\"url(#clip210)\" d=\"M100.76 370.028 Q97.1493 370.028 95.3206 373.593 Q93.515 377.134 93.515 384.264 Q93.515 391.371 95.3206 394.935 Q97.1493 398.477 100.76 398.477 Q104.395 398.477 106.2 394.935 Q108.029 391.371 108.029 384.264 Q108.029 377.134 106.2 373.593 Q104.395 370.028 100.76 370.028 M100.76 366.324 Q106.571 366.324 109.626 370.931 Q112.705 375.514 112.705 384.264 Q112.705 392.991 109.626 397.597 Q106.571 402.181 100.76 402.181 Q94.9502 402.181 91.8715 397.597 Q88.816 392.991 88.816 384.264 Q88.816 375.514 91.8715 370.931 Q94.9502 366.324 100.76 366.324 Z\" fill=\"#000000\" fill-rule=\"evenodd\" fill-opacity=\"1\" /><path clip-path=\"url(#clip210)\" d=\"M130.922 370.028 Q127.311 370.028 125.482 373.593 Q123.677 377.134 123.677 384.264 Q123.677 391.371 125.482 394.935 Q127.311 398.477 130.922 398.477 Q134.556 398.477 136.362 394.935 Q138.191 391.371 138.191 384.264 Q138.191 377.134 136.362 373.593 Q134.556 370.028 130.922 370.028 M130.922 366.324 Q136.732 366.324 139.788 370.931 Q142.867 375.514 142.867 384.264 Q142.867 392.991 139.788 397.597 Q136.732 402.181 130.922 402.181 Q125.112 402.181 122.033 397.597 Q118.978 392.991 118.978 384.264 Q118.978 375.514 122.033 370.931 Q125.112 366.324 130.922 366.324 Z\" fill=\"#000000\" fill-rule=\"evenodd\" fill-opacity=\"1\" /><path clip-path=\"url(#clip210)\" d=\"M61.4087 63.9041 L69.0476 63.9041 L69.0476 37.5385 L60.7374 39.2052 L60.7374 34.946 L69.0013 33.2793 L73.6772 33.2793 L73.6772 63.9041 L81.316 63.9041 L81.316 67.8393 L61.4087 67.8393 L61.4087 63.9041 Z\" fill=\"#000000\" fill-rule=\"evenodd\" fill-opacity=\"1\" /><path clip-path=\"url(#clip210)\" d=\"M90.8067 33.2793 L109.163 33.2793 L109.163 37.2145 L95.0891 37.2145 L95.0891 45.6867 Q96.1076 45.3394 97.1261 45.1774 Q98.1447 44.9922 99.1632 44.9922 Q104.95 44.9922 108.33 48.1635 Q111.709 51.3348 111.709 56.7514 Q111.709 62.3301 108.237 65.4319 Q104.765 68.5106 98.4456 68.5106 Q96.2697 68.5106 94.0012 68.1402 Q91.7558 67.7699 89.3484 67.0291 L89.3484 62.3301 Q91.4317 63.4643 93.6539 64.0199 Q95.8761 64.5754 98.353 64.5754 Q102.358 64.5754 104.696 62.469 Q107.033 60.3625 107.033 56.7514 Q107.033 53.1403 104.696 51.0338 Q102.358 48.9274 98.353 48.9274 Q96.478 48.9274 94.603 49.344 Q92.7512 49.7607 90.8067 50.6403 L90.8067 33.2793 Z\" fill=\"#000000\" fill-rule=\"evenodd\" fill-opacity=\"1\" /><path clip-path=\"url(#clip210)\" d=\"M130.922 36.358 Q127.311 36.358 125.482 39.9228 Q123.677 43.4644 123.677 50.594 Q123.677 57.7005 125.482 61.2653 Q127.311 64.8069 130.922 64.8069 Q134.556 64.8069 136.362 61.2653 Q138.191 57.7005 138.191 50.594 Q138.191 43.4644 136.362 39.9228 Q134.556 36.358 130.922 36.358 M130.922 32.6543 Q136.732 32.6543 139.788 37.2608 Q142.867 41.8441 142.867 50.594 Q142.867 59.3208 139.788 63.9273 Q136.732 68.5106 130.922 68.5106 Q125.112 68.5106 122.033 63.9273 Q118.978 59.3208 118.978 50.594 Q118.978 41.8441 122.033 37.2608 Q125.112 32.6543 130.922 32.6543 Z\" fill=\"#000000\" fill-rule=\"evenodd\" fill-opacity=\"1\" /><circle clip-path=\"url(#clip212)\" cx=\"240.392\" cy=\"1273.12\" r=\"14.4\" fill=\"#009af9\" fill-rule=\"evenodd\" fill-opacity=\"1\" stroke=\"#000000\" stroke-opacity=\"1\" stroke-width=\"3.2\"/>\n",
       "<circle clip-path=\"url(#clip212)\" cx=\"342.934\" cy=\"723.887\" r=\"14.4\" fill=\"#009af9\" fill-rule=\"evenodd\" fill-opacity=\"1\" stroke=\"#000000\" stroke-opacity=\"1\" stroke-width=\"3.2\"/>\n",
       "<circle clip-path=\"url(#clip212)\" cx=\"445.476\" cy=\"887.613\" r=\"14.4\" fill=\"#009af9\" fill-rule=\"evenodd\" fill-opacity=\"1\" stroke=\"#000000\" stroke-opacity=\"1\" stroke-width=\"3.2\"/>\n",
       "<circle clip-path=\"url(#clip212)\" cx=\"548.018\" cy=\"808.601\" r=\"14.4\" fill=\"#009af9\" fill-rule=\"evenodd\" fill-opacity=\"1\" stroke=\"#000000\" stroke-opacity=\"1\" stroke-width=\"3.2\"/>\n",
       "<circle clip-path=\"url(#clip212)\" cx=\"650.56\" cy=\"451.569\" r=\"14.4\" fill=\"#009af9\" fill-rule=\"evenodd\" fill-opacity=\"1\" stroke=\"#000000\" stroke-opacity=\"1\" stroke-width=\"3.2\"/>\n",
       "<circle clip-path=\"url(#clip212)\" cx=\"753.102\" cy=\"509.025\" r=\"14.4\" fill=\"#009af9\" fill-rule=\"evenodd\" fill-opacity=\"1\" stroke=\"#000000\" stroke-opacity=\"1\" stroke-width=\"3.2\"/>\n",
       "<circle clip-path=\"url(#clip212)\" cx=\"855.643\" cy=\"710.028\" r=\"14.4\" fill=\"#009af9\" fill-rule=\"evenodd\" fill-opacity=\"1\" stroke=\"#000000\" stroke-opacity=\"1\" stroke-width=\"3.2\"/>\n",
       "<circle clip-path=\"url(#clip212)\" cx=\"958.185\" cy=\"1445.72\" r=\"14.4\" fill=\"#009af9\" fill-rule=\"evenodd\" fill-opacity=\"1\" stroke=\"#000000\" stroke-opacity=\"1\" stroke-width=\"3.2\"/>\n",
       "<circle clip-path=\"url(#clip212)\" cx=\"1060.73\" cy=\"1442.24\" r=\"14.4\" fill=\"#009af9\" fill-rule=\"evenodd\" fill-opacity=\"1\" stroke=\"#000000\" stroke-opacity=\"1\" stroke-width=\"3.2\"/>\n",
       "<circle clip-path=\"url(#clip212)\" cx=\"1163.27\" cy=\"531.982\" r=\"14.4\" fill=\"#009af9\" fill-rule=\"evenodd\" fill-opacity=\"1\" stroke=\"#000000\" stroke-opacity=\"1\" stroke-width=\"3.2\"/>\n",
       "<circle clip-path=\"url(#clip212)\" cx=\"1265.81\" cy=\"1018.98\" r=\"14.4\" fill=\"#009af9\" fill-rule=\"evenodd\" fill-opacity=\"1\" stroke=\"#000000\" stroke-opacity=\"1\" stroke-width=\"3.2\"/>\n",
       "<circle clip-path=\"url(#clip212)\" cx=\"1368.35\" cy=\"1401.29\" r=\"14.4\" fill=\"#009af9\" fill-rule=\"evenodd\" fill-opacity=\"1\" stroke=\"#000000\" stroke-opacity=\"1\" stroke-width=\"3.2\"/>\n",
       "<circle clip-path=\"url(#clip212)\" cx=\"1470.9\" cy=\"375.808\" r=\"14.4\" fill=\"#009af9\" fill-rule=\"evenodd\" fill-opacity=\"1\" stroke=\"#000000\" stroke-opacity=\"1\" stroke-width=\"3.2\"/>\n",
       "<circle clip-path=\"url(#clip212)\" cx=\"1573.44\" cy=\"531.044\" r=\"14.4\" fill=\"#009af9\" fill-rule=\"evenodd\" fill-opacity=\"1\" stroke=\"#000000\" stroke-opacity=\"1\" stroke-width=\"3.2\"/>\n",
       "<circle clip-path=\"url(#clip212)\" cx=\"1675.98\" cy=\"466.416\" r=\"14.4\" fill=\"#009af9\" fill-rule=\"evenodd\" fill-opacity=\"1\" stroke=\"#000000\" stroke-opacity=\"1\" stroke-width=\"3.2\"/>\n",
       "<circle clip-path=\"url(#clip212)\" cx=\"1778.52\" cy=\"936.277\" r=\"14.4\" fill=\"#009af9\" fill-rule=\"evenodd\" fill-opacity=\"1\" stroke=\"#000000\" stroke-opacity=\"1\" stroke-width=\"3.2\"/>\n",
       "<circle clip-path=\"url(#clip212)\" cx=\"1881.06\" cy=\"551.654\" r=\"14.4\" fill=\"#009af9\" fill-rule=\"evenodd\" fill-opacity=\"1\" stroke=\"#000000\" stroke-opacity=\"1\" stroke-width=\"3.2\"/>\n",
       "<circle clip-path=\"url(#clip212)\" cx=\"1983.6\" cy=\"902.652\" r=\"14.4\" fill=\"#009af9\" fill-rule=\"evenodd\" fill-opacity=\"1\" stroke=\"#000000\" stroke-opacity=\"1\" stroke-width=\"3.2\"/>\n",
       "<circle clip-path=\"url(#clip212)\" cx=\"2086.15\" cy=\"371.309\" r=\"14.4\" fill=\"#009af9\" fill-rule=\"evenodd\" fill-opacity=\"1\" stroke=\"#000000\" stroke-opacity=\"1\" stroke-width=\"3.2\"/>\n",
       "<circle clip-path=\"url(#clip212)\" cx=\"2188.69\" cy=\"606.245\" r=\"14.4\" fill=\"#009af9\" fill-rule=\"evenodd\" fill-opacity=\"1\" stroke=\"#000000\" stroke-opacity=\"1\" stroke-width=\"3.2\"/>\n",
       "<circle clip-path=\"url(#clip212)\" cx=\"2291.23\" cy=\"87.9763\" r=\"14.4\" fill=\"#009af9\" fill-rule=\"evenodd\" fill-opacity=\"1\" stroke=\"#000000\" stroke-opacity=\"1\" stroke-width=\"3.2\"/>\n",
       "<polyline clip-path=\"url(#clip212)\" style=\"stroke:#e26f46; stroke-linecap:round; stroke-linejoin:round; stroke-width:4; stroke-opacity:1; fill:none\" points=\"240.392,597.778 342.934,704.553 445.476,797.98 548.018,878.061 650.56,944.795 753.102,998.182 855.643,1038.22 958.185,1064.92 1060.73,1078.26 1163.27,1078.26 1265.81,1064.92 1368.35,1038.22 1470.9,998.182 1573.44,944.795 1675.98,878.061 1778.52,797.98 1881.06,704.553 1983.6,597.778 2086.15,477.657 2188.69,344.189 2291.23,197.374 \"/>\n",
       "<polyline clip-path=\"url(#clip212)\" style=\"stroke:#3da44d; stroke-linecap:round; stroke-linejoin:round; stroke-width:4; stroke-opacity:1; fill:none\" points=\"240.392,831.638 342.934,859.579 445.476,882.033 548.018,898.998 650.56,910.477 753.102,916.467 855.643,916.97 958.185,911.985 1060.73,901.512 1163.27,885.552 1265.81,864.104 1368.35,837.169 1470.9,804.746 1573.44,766.835 1675.98,723.436 1778.52,674.55 1881.06,620.176 1983.6,560.315 2086.15,494.966 2188.69,424.129 2291.23,347.804 \"/>\n",
       "<path clip-path=\"url(#clip210)\" d=\"M251.33 302.578 L742.861 302.578 L742.861 95.2176 L251.33 95.2176  Z\" fill=\"#ffffff\" fill-rule=\"evenodd\" fill-opacity=\"1\"/>\n",
       "<polyline clip-path=\"url(#clip210)\" style=\"stroke:#000000; stroke-linecap:round; stroke-linejoin:round; stroke-width:4; stroke-opacity:1; fill:none\" points=\"251.33,302.578 742.861,302.578 742.861,95.2176 251.33,95.2176 251.33,302.578 \"/>\n",
       "<circle clip-path=\"url(#clip210)\" cx=\"347.947\" cy=\"147.058\" r=\"23.04\" fill=\"#009af9\" fill-rule=\"evenodd\" fill-opacity=\"1\" stroke=\"#000000\" stroke-opacity=\"1\" stroke-width=\"5.12\"/>\n",
       "<path clip-path=\"url(#clip210)\" d=\"M463.476 142.347 L463.476 128.319 L467.735 128.319 L467.735 164.338 L463.476 164.338 L463.476 160.449 Q462.134 162.763 460.073 163.898 Q458.036 165.009 455.166 165.009 Q450.467 165.009 447.504 161.259 Q444.564 157.509 444.564 151.398 Q444.564 145.287 447.504 141.537 Q450.467 137.787 455.166 137.787 Q458.036 137.787 460.073 138.921 Q462.134 140.032 463.476 142.347 M448.962 151.398 Q448.962 156.097 450.884 158.782 Q452.828 161.444 456.208 161.444 Q459.587 161.444 461.532 158.782 Q463.476 156.097 463.476 151.398 Q463.476 146.699 461.532 144.037 Q459.587 141.352 456.208 141.352 Q452.828 141.352 450.884 144.037 Q448.962 146.699 448.962 151.398 Z\" fill=\"#000000\" fill-rule=\"evenodd\" fill-opacity=\"1\" /><path clip-path=\"url(#clip210)\" d=\"M488.291 151.305 Q483.129 151.305 481.138 152.486 Q479.147 153.666 479.147 156.514 Q479.147 158.782 480.629 160.125 Q482.133 161.444 484.703 161.444 Q488.245 161.444 490.374 158.944 Q492.527 156.421 492.527 152.254 L492.527 151.305 L488.291 151.305 M496.786 149.546 L496.786 164.338 L492.527 164.338 L492.527 160.402 Q491.069 162.763 488.893 163.898 Q486.717 165.009 483.569 165.009 Q479.587 165.009 477.226 162.787 Q474.888 160.541 474.888 156.791 Q474.888 152.416 477.805 150.194 Q480.745 147.972 486.555 147.972 L492.527 147.972 L492.527 147.555 Q492.527 144.615 490.582 143.018 Q488.661 141.398 485.166 141.398 Q482.944 141.398 480.837 141.93 Q478.731 142.463 476.786 143.527 L476.786 139.592 Q479.124 138.69 481.323 138.25 Q483.522 137.787 485.606 137.787 Q491.231 137.787 494.008 140.703 Q496.786 143.62 496.786 149.546 Z\" fill=\"#000000\" fill-rule=\"evenodd\" fill-opacity=\"1\" /><path clip-path=\"url(#clip210)\" d=\"M509.772 131.051 L509.772 138.412 L518.545 138.412 L518.545 141.722 L509.772 141.722 L509.772 155.796 Q509.772 158.967 510.629 159.87 Q511.508 160.773 514.17 160.773 L518.545 160.773 L518.545 164.338 L514.17 164.338 Q509.24 164.338 507.365 162.509 Q505.49 160.657 505.49 155.796 L505.49 141.722 L502.365 141.722 L502.365 138.412 L505.49 138.412 L505.49 131.051 L509.772 131.051 Z\" fill=\"#000000\" fill-rule=\"evenodd\" fill-opacity=\"1\" /><path clip-path=\"url(#clip210)\" d=\"M535.929 151.305 Q530.767 151.305 528.777 152.486 Q526.786 153.666 526.786 156.514 Q526.786 158.782 528.267 160.125 Q529.772 161.444 532.342 161.444 Q535.883 161.444 538.013 158.944 Q540.166 156.421 540.166 152.254 L540.166 151.305 L535.929 151.305 M544.425 149.546 L544.425 164.338 L540.166 164.338 L540.166 160.402 Q538.707 162.763 536.531 163.898 Q534.355 165.009 531.207 165.009 Q527.226 165.009 524.865 162.787 Q522.527 160.541 522.527 156.791 Q522.527 152.416 525.443 150.194 Q528.383 147.972 534.193 147.972 L540.166 147.972 L540.166 147.555 Q540.166 144.615 538.221 143.018 Q536.3 141.398 532.804 141.398 Q530.582 141.398 528.476 141.93 Q526.369 142.463 524.425 143.527 L524.425 139.592 Q526.763 138.69 528.962 138.25 Q531.161 137.787 533.244 137.787 Q538.869 137.787 541.647 140.703 Q544.425 143.62 544.425 149.546 Z\" fill=\"#000000\" fill-rule=\"evenodd\" fill-opacity=\"1\" /><polyline clip-path=\"url(#clip210)\" style=\"stroke:#e26f46; stroke-linecap:round; stroke-linejoin:round; stroke-width:4; stroke-opacity:1; fill:none\" points=\"275.484,198.898 420.41,198.898 \"/>\n",
       "<path clip-path=\"url(#clip210)\" d=\"M444.564 181.618 L473.8 181.618 L473.8 185.553 L461.532 185.553 L461.532 216.178 L456.833 216.178 L456.833 185.553 L444.564 185.553 L444.564 181.618 Z\" fill=\"#000000\" fill-rule=\"evenodd\" fill-opacity=\"1\" /><path clip-path=\"url(#clip210)\" d=\"M486.184 194.233 Q485.467 193.817 484.61 193.631 Q483.777 193.423 482.758 193.423 Q479.147 193.423 477.203 195.784 Q475.282 198.122 475.282 202.52 L475.282 216.178 L470.999 216.178 L470.999 190.252 L475.282 190.252 L475.282 194.28 Q476.624 191.918 478.777 190.784 Q480.93 189.627 484.008 189.627 Q484.448 189.627 484.981 189.696 Q485.513 189.743 486.161 189.858 L486.184 194.233 Z\" fill=\"#000000\" fill-rule=\"evenodd\" fill-opacity=\"1\" /><path clip-path=\"url(#clip210)\" d=\"M490.212 205.946 L490.212 190.252 L494.471 190.252 L494.471 205.784 Q494.471 209.465 495.907 211.316 Q497.342 213.145 500.212 213.145 Q503.661 213.145 505.652 210.946 Q507.666 208.747 507.666 204.951 L507.666 190.252 L511.925 190.252 L511.925 216.178 L507.666 216.178 L507.666 212.196 Q506.115 214.557 504.055 215.715 Q502.018 216.849 499.309 216.849 Q494.842 216.849 492.527 214.071 Q490.212 211.293 490.212 205.946 M500.93 189.627 L500.93 189.627 Z\" fill=\"#000000\" fill-rule=\"evenodd\" fill-opacity=\"1\" /><path clip-path=\"url(#clip210)\" d=\"M542.874 202.15 L542.874 204.233 L523.291 204.233 Q523.568 208.631 525.93 210.946 Q528.314 213.238 532.55 213.238 Q535.004 213.238 537.295 212.636 Q539.61 212.034 541.879 210.83 L541.879 214.858 Q539.587 215.83 537.179 216.34 Q534.772 216.849 532.295 216.849 Q526.092 216.849 522.457 213.238 Q518.846 209.627 518.846 203.469 Q518.846 197.104 522.272 193.377 Q525.721 189.627 531.554 189.627 Q536.786 189.627 539.818 193.006 Q542.874 196.363 542.874 202.15 M538.615 200.9 Q538.568 197.405 536.647 195.321 Q534.749 193.238 531.601 193.238 Q528.036 193.238 525.883 195.252 Q523.754 197.266 523.43 200.923 L538.615 200.9 Z\" fill=\"#000000\" fill-rule=\"evenodd\" fill-opacity=\"1\" /><path clip-path=\"url(#clip210)\" d=\"M583.591 191.247 L583.591 195.229 Q581.786 194.233 579.957 193.747 Q578.151 193.238 576.3 193.238 Q572.156 193.238 569.864 195.877 Q567.573 198.492 567.573 203.238 Q567.573 207.983 569.864 210.622 Q572.156 213.238 576.3 213.238 Q578.151 213.238 579.957 212.752 Q581.786 212.242 583.591 211.247 L583.591 215.182 Q581.809 216.016 579.888 216.432 Q577.989 216.849 575.837 216.849 Q569.98 216.849 566.531 213.168 Q563.082 209.488 563.082 203.238 Q563.082 196.895 566.554 193.261 Q570.05 189.627 576.114 189.627 Q578.082 189.627 579.957 190.043 Q581.832 190.437 583.591 191.247 Z\" fill=\"#000000\" fill-rule=\"evenodd\" fill-opacity=\"1\" /><path clip-path=\"url(#clip210)\" d=\"M590.559 205.946 L590.559 190.252 L594.818 190.252 L594.818 205.784 Q594.818 209.465 596.253 211.316 Q597.688 213.145 600.559 213.145 Q604.008 213.145 605.999 210.946 Q608.012 208.747 608.012 204.951 L608.012 190.252 L612.272 190.252 L612.272 216.178 L608.012 216.178 L608.012 212.196 Q606.461 214.557 604.401 215.715 Q602.364 216.849 599.656 216.849 Q595.188 216.849 592.874 214.071 Q590.559 211.293 590.559 205.946 M601.276 189.627 L601.276 189.627 Z\" fill=\"#000000\" fill-rule=\"evenodd\" fill-opacity=\"1\" /><path clip-path=\"url(#clip210)\" d=\"M636.068 194.233 Q635.35 193.817 634.494 193.631 Q633.66 193.423 632.642 193.423 Q629.031 193.423 627.086 195.784 Q625.165 198.122 625.165 202.52 L625.165 216.178 L620.883 216.178 L620.883 190.252 L625.165 190.252 L625.165 194.28 Q626.508 191.918 628.66 190.784 Q630.813 189.627 633.892 189.627 Q634.332 189.627 634.864 189.696 Q635.397 189.743 636.045 189.858 L636.068 194.233 Z\" fill=\"#000000\" fill-rule=\"evenodd\" fill-opacity=\"1\" /><path clip-path=\"url(#clip210)\" d=\"M637.48 190.252 L641.994 190.252 L650.096 212.011 L658.197 190.252 L662.711 190.252 L652.989 216.178 L647.202 216.178 L637.48 190.252 Z\" fill=\"#000000\" fill-rule=\"evenodd\" fill-opacity=\"1\" /><path clip-path=\"url(#clip210)\" d=\"M690.767 202.15 L690.767 204.233 L671.183 204.233 Q671.461 208.631 673.822 210.946 Q676.206 213.238 680.443 213.238 Q682.896 213.238 685.188 212.636 Q687.503 212.034 689.771 210.83 L689.771 214.858 Q687.48 215.83 685.072 216.34 Q682.665 216.849 680.188 216.849 Q673.984 216.849 670.35 213.238 Q666.739 209.627 666.739 203.469 Q666.739 197.104 670.165 193.377 Q673.614 189.627 679.447 189.627 Q684.679 189.627 687.711 193.006 Q690.767 196.363 690.767 202.15 M686.507 200.9 Q686.461 197.405 684.54 195.321 Q682.642 193.238 679.494 193.238 Q675.929 193.238 673.776 195.252 Q671.646 197.266 671.322 200.923 L686.507 200.9 Z\" fill=\"#000000\" fill-rule=\"evenodd\" fill-opacity=\"1\" /><polyline clip-path=\"url(#clip210)\" style=\"stroke:#3da44d; stroke-linecap:round; stroke-linejoin:round; stroke-width:4; stroke-opacity:1; fill:none\" points=\"275.484,250.738 420.41,250.738 \"/>\n",
       "<path clip-path=\"url(#clip210)\" d=\"M444.564 233.458 L464.425 233.458 L464.425 237.393 L449.24 237.393 L449.24 247.578 L462.944 247.578 L462.944 251.513 L449.24 251.513 L449.24 268.018 L444.564 268.018 L444.564 233.458 Z\" fill=\"#000000\" fill-rule=\"evenodd\" fill-opacity=\"1\" /><path clip-path=\"url(#clip210)\" d=\"M468.198 242.092 L472.458 242.092 L472.458 268.018 L468.198 268.018 L468.198 242.092 M468.198 231.999 L472.458 231.999 L472.458 237.393 L468.198 237.393 L468.198 231.999 Z\" fill=\"#000000\" fill-rule=\"evenodd\" fill-opacity=\"1\" /><path clip-path=\"url(#clip210)\" d=\"M485.583 234.731 L485.583 242.092 L494.356 242.092 L494.356 245.402 L485.583 245.402 L485.583 259.476 Q485.583 262.647 486.439 263.55 Q487.319 264.453 489.981 264.453 L494.356 264.453 L494.356 268.018 L489.981 268.018 Q485.05 268.018 483.175 266.189 Q481.3 264.337 481.3 259.476 L481.3 245.402 L478.175 245.402 L478.175 242.092 L481.3 242.092 L481.3 234.731 L485.583 234.731 Z\" fill=\"#000000\" fill-rule=\"evenodd\" fill-opacity=\"1\" /><path clip-path=\"url(#clip210)\" d=\"M504.17 234.731 L504.17 242.092 L512.943 242.092 L512.943 245.402 L504.17 245.402 L504.17 259.476 Q504.17 262.647 505.027 263.55 Q505.906 264.453 508.568 264.453 L512.943 264.453 L512.943 268.018 L508.568 268.018 Q503.638 268.018 501.763 266.189 Q499.888 264.337 499.888 259.476 L499.888 245.402 L496.763 245.402 L496.763 242.092 L499.888 242.092 L499.888 234.731 L504.17 234.731 Z\" fill=\"#000000\" fill-rule=\"evenodd\" fill-opacity=\"1\" /><path clip-path=\"url(#clip210)\" d=\"M540.721 253.99 L540.721 256.073 L521.138 256.073 Q521.416 260.471 523.777 262.786 Q526.161 265.078 530.397 265.078 Q532.851 265.078 535.142 264.476 Q537.457 263.874 539.726 262.67 L539.726 266.698 Q537.434 267.67 535.027 268.18 Q532.619 268.689 530.142 268.689 Q523.939 268.689 520.305 265.078 Q516.693 261.467 516.693 255.309 Q516.693 248.944 520.119 245.217 Q523.568 241.467 529.402 241.467 Q534.633 241.467 537.666 244.846 Q540.721 248.203 540.721 253.99 M536.462 252.74 Q536.416 249.245 534.494 247.161 Q532.596 245.078 529.448 245.078 Q525.883 245.078 523.73 247.092 Q521.601 249.106 521.277 252.763 L536.462 252.74 Z\" fill=\"#000000\" fill-rule=\"evenodd\" fill-opacity=\"1\" /><path clip-path=\"url(#clip210)\" d=\"M564.772 246.027 L564.772 231.999 L569.031 231.999 L569.031 268.018 L564.772 268.018 L564.772 264.129 Q563.429 266.443 561.369 267.578 Q559.332 268.689 556.462 268.689 Q551.763 268.689 548.8 264.939 Q545.86 261.189 545.86 255.078 Q545.86 248.967 548.8 245.217 Q551.763 241.467 556.462 241.467 Q559.332 241.467 561.369 242.601 Q563.429 243.712 564.772 246.027 M550.258 255.078 Q550.258 259.777 552.179 262.462 Q554.124 265.124 557.503 265.124 Q560.883 265.124 562.827 262.462 Q564.772 259.777 564.772 255.078 Q564.772 250.379 562.827 247.717 Q560.883 245.032 557.503 245.032 Q554.124 245.032 552.179 247.717 Q550.258 250.379 550.258 255.078 Z\" fill=\"#000000\" fill-rule=\"evenodd\" fill-opacity=\"1\" /><path clip-path=\"url(#clip210)\" d=\"M611.531 243.087 L611.531 247.069 Q609.725 246.073 607.897 245.587 Q606.091 245.078 604.239 245.078 Q600.096 245.078 597.804 247.717 Q595.512 250.332 595.512 255.078 Q595.512 259.823 597.804 262.462 Q600.096 265.078 604.239 265.078 Q606.091 265.078 607.897 264.592 Q609.725 264.082 611.531 263.087 L611.531 267.022 Q609.749 267.856 607.827 268.272 Q605.929 268.689 603.776 268.689 Q597.92 268.689 594.471 265.008 Q591.022 261.328 591.022 255.078 Q591.022 248.735 594.494 245.101 Q597.989 241.467 604.054 241.467 Q606.022 241.467 607.897 241.883 Q609.772 242.277 611.531 243.087 Z\" fill=\"#000000\" fill-rule=\"evenodd\" fill-opacity=\"1\" /><path clip-path=\"url(#clip210)\" d=\"M618.498 257.786 L618.498 242.092 L622.758 242.092 L622.758 257.624 Q622.758 261.305 624.193 263.156 Q625.628 264.985 628.498 264.985 Q631.947 264.985 633.938 262.786 Q635.952 260.587 635.952 256.791 L635.952 242.092 L640.211 242.092 L640.211 268.018 L635.952 268.018 L635.952 264.036 Q634.401 266.397 632.341 267.555 Q630.304 268.689 627.596 268.689 Q623.128 268.689 620.813 265.911 Q618.498 263.133 618.498 257.786 M629.216 241.467 L629.216 241.467 Z\" fill=\"#000000\" fill-rule=\"evenodd\" fill-opacity=\"1\" /><path clip-path=\"url(#clip210)\" d=\"M664.007 246.073 Q663.29 245.657 662.433 245.471 Q661.6 245.263 660.582 245.263 Q656.97 245.263 655.026 247.624 Q653.105 249.962 653.105 254.36 L653.105 268.018 L648.822 268.018 L648.822 242.092 L653.105 242.092 L653.105 246.12 Q654.447 243.758 656.6 242.624 Q658.753 241.467 661.832 241.467 Q662.271 241.467 662.804 241.536 Q663.336 241.583 663.984 241.698 L664.007 246.073 Z\" fill=\"#000000\" fill-rule=\"evenodd\" fill-opacity=\"1\" /><path clip-path=\"url(#clip210)\" d=\"M665.42 242.092 L669.933 242.092 L678.035 263.851 L686.137 242.092 L690.651 242.092 L680.929 268.018 L675.142 268.018 L665.42 242.092 Z\" fill=\"#000000\" fill-rule=\"evenodd\" fill-opacity=\"1\" /><path clip-path=\"url(#clip210)\" d=\"M718.706 253.99 L718.706 256.073 L699.123 256.073 Q699.401 260.471 701.762 262.786 Q704.146 265.078 708.382 265.078 Q710.836 265.078 713.128 264.476 Q715.442 263.874 717.711 262.67 L717.711 266.698 Q715.419 267.67 713.012 268.18 Q710.604 268.689 708.128 268.689 Q701.924 268.689 698.29 265.078 Q694.679 261.467 694.679 255.309 Q694.679 248.944 698.105 245.217 Q701.554 241.467 707.387 241.467 Q712.618 241.467 715.651 244.846 Q718.706 248.203 718.706 253.99 M714.447 252.74 Q714.401 249.245 712.479 247.161 Q710.581 245.078 707.433 245.078 Q703.868 245.078 701.716 247.092 Q699.586 249.106 699.262 252.763 L714.447 252.74 Z\" fill=\"#000000\" fill-rule=\"evenodd\" fill-opacity=\"1\" /></svg>\n"
      ]
     },
     "execution_count": 7,
     "metadata": {},
     "output_type": "execute_result"
    }
   ],
   "source": [
    "x = collect(-10:1:10)\n",
    "y_true = (x .^ 2) .+ (3 .* x) .- 2\n",
    "d = Normal(0,50)\n",
    "gaussian = rand(d,length(x))\n",
    "y_observed = y_true .+ gaussian\n",
    "using Plots\n",
    "scatter(x,y_observed, label=\"data\")\n",
    "plot!(x,y_true, label=\"True curve\")\n",
    "line_fit = Polynomials.fit(x,y_observed,2)\n",
    "y_fitted = line_fit.(x)\n",
    "plot!(x,y_fitted, label=\"Fitted curve\")"
   ]
  },
  {
   "cell_type": "markdown",
   "id": "ab12acbd",
   "metadata": {
    "id": "ab12acbd"
   },
   "source": [
    "2. Compare the plot with the plot in 2.3. Is the fit closer to y_true or not, and why?"
   ]
  },
  {
   "cell_type": "markdown",
   "id": "a34fcca4",
   "metadata": {
    "id": "a34fcca4"
   },
   "source": [
    "The fit is not closer because the standard deviation is 50, which is higher than the standard deviation of 10 in question 2.3. This indicates that more error or noise is incorporated into the fit, resulting in a less accurate fit compared to the fit with a standard deviation of 10."
   ]
  },
  {
   "cell_type": "markdown",
   "id": "5fd1d93b",
   "metadata": {
    "id": "5fd1d93b"
   },
   "source": [
    "### 2.5\n",
    "\n",
    "#### Repeat 2.2 and 2.3 with a tenth order polynomial fit\n"
   ]
  },
  {
   "cell_type": "code",
   "execution_count": 8,
   "id": "b6dbd546",
   "metadata": {
    "executionInfo": {
     "elapsed": 1098,
     "status": "aborted",
     "timestamp": 1676536839525,
     "user": {
      "displayName": "Haleh Akrami",
      "userId": "17790894529808852975"
     },
     "user_tz": 480
    },
    "id": "b6dbd546"
   },
   "outputs": [
    {
     "data": {
      "image/svg+xml": [
       "<?xml version=\"1.0\" encoding=\"utf-8\"?>\n",
       "<svg xmlns=\"http://www.w3.org/2000/svg\" xmlns:xlink=\"http://www.w3.org/1999/xlink\" width=\"600\" height=\"400\" viewBox=\"0 0 2400 1600\">\n",
       "<defs>\n",
       "  <clipPath id=\"clip250\">\n",
       "    <rect x=\"0\" y=\"0\" width=\"2400\" height=\"1600\"/>\n",
       "  </clipPath>\n",
       "</defs>\n",
       "<path clip-path=\"url(#clip250)\" d=\"M0 1600 L2400 1600 L2400 0 L0 0  Z\" fill=\"#ffffff\" fill-rule=\"evenodd\" fill-opacity=\"1\"/>\n",
       "<defs>\n",
       "  <clipPath id=\"clip251\">\n",
       "    <rect x=\"480\" y=\"0\" width=\"1681\" height=\"1600\"/>\n",
       "  </clipPath>\n",
       "</defs>\n",
       "<path clip-path=\"url(#clip250)\" d=\"M169.121 1486.45 L2352.76 1486.45 L2352.76 47.2441 L169.121 47.2441  Z\" fill=\"#ffffff\" fill-rule=\"evenodd\" fill-opacity=\"1\"/>\n",
       "<defs>\n",
       "  <clipPath id=\"clip252\">\n",
       "    <rect x=\"169\" y=\"47\" width=\"2185\" height=\"1440\"/>\n",
       "  </clipPath>\n",
       "</defs>\n",
       "<polyline clip-path=\"url(#clip252)\" style=\"stroke:#000000; stroke-linecap:round; stroke-linejoin:round; stroke-width:2; stroke-opacity:0.1; fill:none\" points=\"230.922,1486.45 230.922,47.2441 \"/>\n",
       "<polyline clip-path=\"url(#clip252)\" style=\"stroke:#000000; stroke-linecap:round; stroke-linejoin:round; stroke-width:2; stroke-opacity:0.1; fill:none\" points=\"745.93,1486.45 745.93,47.2441 \"/>\n",
       "<polyline clip-path=\"url(#clip252)\" style=\"stroke:#000000; stroke-linecap:round; stroke-linejoin:round; stroke-width:2; stroke-opacity:0.1; fill:none\" points=\"1260.94,1486.45 1260.94,47.2441 \"/>\n",
       "<polyline clip-path=\"url(#clip252)\" style=\"stroke:#000000; stroke-linecap:round; stroke-linejoin:round; stroke-width:2; stroke-opacity:0.1; fill:none\" points=\"1775.95,1486.45 1775.95,47.2441 \"/>\n",
       "<polyline clip-path=\"url(#clip252)\" style=\"stroke:#000000; stroke-linecap:round; stroke-linejoin:round; stroke-width:2; stroke-opacity:0.1; fill:none\" points=\"2290.95,1486.45 2290.95,47.2441 \"/>\n",
       "<polyline clip-path=\"url(#clip250)\" style=\"stroke:#000000; stroke-linecap:round; stroke-linejoin:round; stroke-width:4; stroke-opacity:1; fill:none\" points=\"169.121,1486.45 2352.76,1486.45 \"/>\n",
       "<polyline clip-path=\"url(#clip250)\" style=\"stroke:#000000; stroke-linecap:round; stroke-linejoin:round; stroke-width:4; stroke-opacity:1; fill:none\" points=\"230.922,1486.45 230.922,1467.55 \"/>\n",
       "<polyline clip-path=\"url(#clip250)\" style=\"stroke:#000000; stroke-linecap:round; stroke-linejoin:round; stroke-width:4; stroke-opacity:1; fill:none\" points=\"745.93,1486.45 745.93,1467.55 \"/>\n",
       "<polyline clip-path=\"url(#clip250)\" style=\"stroke:#000000; stroke-linecap:round; stroke-linejoin:round; stroke-width:4; stroke-opacity:1; fill:none\" points=\"1260.94,1486.45 1260.94,1467.55 \"/>\n",
       "<polyline clip-path=\"url(#clip250)\" style=\"stroke:#000000; stroke-linecap:round; stroke-linejoin:round; stroke-width:4; stroke-opacity:1; fill:none\" points=\"1775.95,1486.45 1775.95,1467.55 \"/>\n",
       "<polyline clip-path=\"url(#clip250)\" style=\"stroke:#000000; stroke-linecap:round; stroke-linejoin:round; stroke-width:4; stroke-opacity:1; fill:none\" points=\"2290.95,1486.45 2290.95,1467.55 \"/>\n",
       "<path clip-path=\"url(#clip250)\" d=\"M184.985 1532.02 L214.661 1532.02 L214.661 1535.95 L184.985 1535.95 L184.985 1532.02 Z\" fill=\"#000000\" fill-rule=\"evenodd\" fill-opacity=\"1\" /><path clip-path=\"url(#clip250)\" d=\"M225.564 1544.91 L233.202 1544.91 L233.202 1518.55 L224.892 1520.21 L224.892 1515.95 L233.156 1514.29 L237.832 1514.29 L237.832 1544.91 L245.471 1544.91 L245.471 1548.85 L225.564 1548.85 L225.564 1544.91 Z\" fill=\"#000000\" fill-rule=\"evenodd\" fill-opacity=\"1\" /><path clip-path=\"url(#clip250)\" d=\"M264.915 1517.37 Q261.304 1517.37 259.475 1520.93 Q257.67 1524.47 257.67 1531.6 Q257.67 1538.71 259.475 1542.27 Q261.304 1545.82 264.915 1545.82 Q268.549 1545.82 270.355 1542.27 Q272.184 1538.71 272.184 1531.6 Q272.184 1524.47 270.355 1520.93 Q268.549 1517.37 264.915 1517.37 M264.915 1513.66 Q270.725 1513.66 273.781 1518.27 Q276.86 1522.85 276.86 1531.6 Q276.86 1540.33 273.781 1544.94 Q270.725 1549.52 264.915 1549.52 Q259.105 1549.52 256.026 1544.94 Q252.971 1540.33 252.971 1531.6 Q252.971 1522.85 256.026 1518.27 Q259.105 1513.66 264.915 1513.66 Z\" fill=\"#000000\" fill-rule=\"evenodd\" fill-opacity=\"1\" /><path clip-path=\"url(#clip250)\" d=\"M715.572 1532.02 L745.248 1532.02 L745.248 1535.95 L715.572 1535.95 L715.572 1532.02 Z\" fill=\"#000000\" fill-rule=\"evenodd\" fill-opacity=\"1\" /><path clip-path=\"url(#clip250)\" d=\"M755.386 1514.29 L773.743 1514.29 L773.743 1518.22 L759.669 1518.22 L759.669 1526.7 Q760.687 1526.35 761.706 1526.19 Q762.724 1526 763.743 1526 Q769.53 1526 772.909 1529.17 Q776.289 1532.34 776.289 1537.76 Q776.289 1543.34 772.817 1546.44 Q769.345 1549.52 763.025 1549.52 Q760.849 1549.52 758.581 1549.15 Q756.335 1548.78 753.928 1548.04 L753.928 1543.34 Q756.011 1544.47 758.234 1545.03 Q760.456 1545.58 762.933 1545.58 Q766.937 1545.58 769.275 1543.48 Q771.613 1541.37 771.613 1537.76 Q771.613 1534.15 769.275 1532.04 Q766.937 1529.94 762.933 1529.94 Q761.058 1529.94 759.183 1530.35 Q757.331 1530.77 755.386 1531.65 L755.386 1514.29 Z\" fill=\"#000000\" fill-rule=\"evenodd\" fill-opacity=\"1\" /><path clip-path=\"url(#clip250)\" d=\"M1260.94 1517.37 Q1257.33 1517.37 1255.5 1520.93 Q1253.69 1524.47 1253.69 1531.6 Q1253.69 1538.71 1255.5 1542.27 Q1257.33 1545.82 1260.94 1545.82 Q1264.57 1545.82 1266.38 1542.27 Q1268.21 1538.71 1268.21 1531.6 Q1268.21 1524.47 1266.38 1520.93 Q1264.57 1517.37 1260.94 1517.37 M1260.94 1513.66 Q1266.75 1513.66 1269.8 1518.27 Q1272.88 1522.85 1272.88 1531.6 Q1272.88 1540.33 1269.8 1544.94 Q1266.75 1549.52 1260.94 1549.52 Q1255.13 1549.52 1252.05 1544.94 Q1248.99 1540.33 1248.99 1531.6 Q1248.99 1522.85 1252.05 1518.27 Q1255.13 1513.66 1260.94 1513.66 Z\" fill=\"#000000\" fill-rule=\"evenodd\" fill-opacity=\"1\" /><path clip-path=\"url(#clip250)\" d=\"M1766.22 1514.29 L1784.58 1514.29 L1784.58 1518.22 L1770.51 1518.22 L1770.51 1526.7 Q1771.53 1526.35 1772.54 1526.19 Q1773.56 1526 1774.58 1526 Q1780.37 1526 1783.75 1529.17 Q1787.13 1532.34 1787.13 1537.76 Q1787.13 1543.34 1783.66 1546.44 Q1780.18 1549.52 1773.86 1549.52 Q1771.69 1549.52 1769.42 1549.15 Q1767.17 1548.78 1764.77 1548.04 L1764.77 1543.34 Q1766.85 1544.47 1769.07 1545.03 Q1771.29 1545.58 1773.77 1545.58 Q1777.78 1545.58 1780.11 1543.48 Q1782.45 1541.37 1782.45 1537.76 Q1782.45 1534.15 1780.11 1532.04 Q1777.78 1529.94 1773.77 1529.94 Q1771.9 1529.94 1770.02 1530.35 Q1768.17 1530.77 1766.22 1531.65 L1766.22 1514.29 Z\" fill=\"#000000\" fill-rule=\"evenodd\" fill-opacity=\"1\" /><path clip-path=\"url(#clip250)\" d=\"M2265.64 1544.91 L2273.28 1544.91 L2273.28 1518.55 L2264.97 1520.21 L2264.97 1515.95 L2273.24 1514.29 L2277.91 1514.29 L2277.91 1544.91 L2285.55 1544.91 L2285.55 1548.85 L2265.64 1548.85 L2265.64 1544.91 Z\" fill=\"#000000\" fill-rule=\"evenodd\" fill-opacity=\"1\" /><path clip-path=\"url(#clip250)\" d=\"M2304.99 1517.37 Q2301.38 1517.37 2299.55 1520.93 Q2297.75 1524.47 2297.75 1531.6 Q2297.75 1538.71 2299.55 1542.27 Q2301.38 1545.82 2304.99 1545.82 Q2308.63 1545.82 2310.43 1542.27 Q2312.26 1538.71 2312.26 1531.6 Q2312.26 1524.47 2310.43 1520.93 Q2308.63 1517.37 2304.99 1517.37 M2304.99 1513.66 Q2310.8 1513.66 2313.86 1518.27 Q2316.94 1522.85 2316.94 1531.6 Q2316.94 1540.33 2313.86 1544.94 Q2310.8 1549.52 2304.99 1549.52 Q2299.18 1549.52 2296.11 1544.94 Q2293.05 1540.33 2293.05 1531.6 Q2293.05 1522.85 2296.11 1518.27 Q2299.18 1513.66 2304.99 1513.66 Z\" fill=\"#000000\" fill-rule=\"evenodd\" fill-opacity=\"1\" /><polyline clip-path=\"url(#clip252)\" style=\"stroke:#000000; stroke-linecap:round; stroke-linejoin:round; stroke-width:2; stroke-opacity:0.1; fill:none\" points=\"169.121,1259.62 2352.76,1259.62 \"/>\n",
       "<polyline clip-path=\"url(#clip252)\" style=\"stroke:#000000; stroke-linecap:round; stroke-linejoin:round; stroke-width:2; stroke-opacity:0.1; fill:none\" points=\"169.121,985.017 2352.76,985.017 \"/>\n",
       "<polyline clip-path=\"url(#clip252)\" style=\"stroke:#000000; stroke-linecap:round; stroke-linejoin:round; stroke-width:2; stroke-opacity:0.1; fill:none\" points=\"169.121,710.413 2352.76,710.413 \"/>\n",
       "<polyline clip-path=\"url(#clip252)\" style=\"stroke:#000000; stroke-linecap:round; stroke-linejoin:round; stroke-width:2; stroke-opacity:0.1; fill:none\" points=\"169.121,435.809 2352.76,435.809 \"/>\n",
       "<polyline clip-path=\"url(#clip252)\" style=\"stroke:#000000; stroke-linecap:round; stroke-linejoin:round; stroke-width:2; stroke-opacity:0.1; fill:none\" points=\"169.121,161.204 2352.76,161.204 \"/>\n",
       "<polyline clip-path=\"url(#clip250)\" style=\"stroke:#000000; stroke-linecap:round; stroke-linejoin:round; stroke-width:4; stroke-opacity:1; fill:none\" points=\"169.121,1486.45 169.121,47.2441 \"/>\n",
       "<polyline clip-path=\"url(#clip250)\" style=\"stroke:#000000; stroke-linecap:round; stroke-linejoin:round; stroke-width:4; stroke-opacity:1; fill:none\" points=\"169.121,1259.62 188.019,1259.62 \"/>\n",
       "<polyline clip-path=\"url(#clip250)\" style=\"stroke:#000000; stroke-linecap:round; stroke-linejoin:round; stroke-width:4; stroke-opacity:1; fill:none\" points=\"169.121,985.017 188.019,985.017 \"/>\n",
       "<polyline clip-path=\"url(#clip250)\" style=\"stroke:#000000; stroke-linecap:round; stroke-linejoin:round; stroke-width:4; stroke-opacity:1; fill:none\" points=\"169.121,710.413 188.019,710.413 \"/>\n",
       "<polyline clip-path=\"url(#clip250)\" style=\"stroke:#000000; stroke-linecap:round; stroke-linejoin:round; stroke-width:4; stroke-opacity:1; fill:none\" points=\"169.121,435.809 188.019,435.809 \"/>\n",
       "<polyline clip-path=\"url(#clip250)\" style=\"stroke:#000000; stroke-linecap:round; stroke-linejoin:round; stroke-width:4; stroke-opacity:1; fill:none\" points=\"169.121,161.204 188.019,161.204 \"/>\n",
       "<path clip-path=\"url(#clip250)\" d=\"M121.177 1245.42 Q117.566 1245.42 115.737 1248.99 Q113.932 1252.53 113.932 1259.66 Q113.932 1266.76 115.737 1270.33 Q117.566 1273.87 121.177 1273.87 Q124.811 1273.87 126.617 1270.33 Q128.445 1266.76 128.445 1259.66 Q128.445 1252.53 126.617 1248.99 Q124.811 1245.42 121.177 1245.42 M121.177 1241.72 Q126.987 1241.72 130.043 1246.32 Q133.121 1250.91 133.121 1259.66 Q133.121 1268.38 130.043 1272.99 Q126.987 1277.57 121.177 1277.57 Q115.367 1277.57 112.288 1272.99 Q109.233 1268.38 109.233 1259.66 Q109.233 1250.91 112.288 1246.32 Q115.367 1241.72 121.177 1241.72 Z\" fill=\"#000000\" fill-rule=\"evenodd\" fill-opacity=\"1\" /><path clip-path=\"url(#clip250)\" d=\"M95.1817 983.663 Q98.5382 984.381 100.413 986.649 Q102.311 988.918 102.311 992.251 Q102.311 997.367 98.7928 1000.17 Q95.2743 1002.97 88.7928 1002.97 Q86.6169 1002.97 84.3021 1002.53 Q82.0105 1002.11 79.5568 1001.26 L79.5568 996.742 Q81.5012 997.876 83.816 998.455 Q86.1308 999.034 88.654 999.034 Q93.0521 999.034 95.3437 997.297 Q97.6585 995.561 97.6585 992.251 Q97.6585 989.196 95.5058 987.483 Q93.3762 985.747 89.5567 985.747 L85.529 985.747 L85.529 981.904 L89.7419 981.904 Q93.191 981.904 95.0197 980.538 Q96.8484 979.149 96.8484 976.557 Q96.8484 973.895 94.9502 972.483 Q93.0752 971.048 89.5567 971.048 Q87.6354 971.048 85.4364 971.464 Q83.2373 971.881 80.5984 972.761 L80.5984 968.594 Q83.2605 967.853 85.5753 967.483 Q87.9132 967.112 89.9734 967.112 Q95.2974 967.112 98.3993 969.543 Q101.501 971.95 101.501 976.071 Q101.501 978.941 99.8576 980.932 Q98.2141 982.899 95.1817 983.663 Z\" fill=\"#000000\" fill-rule=\"evenodd\" fill-opacity=\"1\" /><path clip-path=\"url(#clip250)\" d=\"M121.177 970.816 Q117.566 970.816 115.737 974.381 Q113.932 977.923 113.932 985.052 Q113.932 992.159 115.737 995.723 Q117.566 999.265 121.177 999.265 Q124.811 999.265 126.617 995.723 Q128.445 992.159 128.445 985.052 Q128.445 977.923 126.617 974.381 Q124.811 970.816 121.177 970.816 M121.177 967.112 Q126.987 967.112 130.043 971.719 Q133.121 976.302 133.121 985.052 Q133.121 993.779 130.043 998.385 Q126.987 1002.97 121.177 1002.97 Q115.367 1002.97 112.288 998.385 Q109.233 993.779 109.233 985.052 Q109.233 976.302 112.288 971.719 Q115.367 967.112 121.177 967.112 Z\" fill=\"#000000\" fill-rule=\"evenodd\" fill-opacity=\"1\" /><path clip-path=\"url(#clip250)\" d=\"M91.5938 708.55 Q88.4456 708.55 86.5938 710.702 Q84.7651 712.855 84.7651 716.605 Q84.7651 720.332 86.5938 722.508 Q88.4456 724.661 91.5938 724.661 Q94.7419 724.661 96.5706 722.508 Q98.4224 720.332 98.4224 716.605 Q98.4224 712.855 96.5706 710.702 Q94.7419 708.55 91.5938 708.55 M100.876 693.897 L100.876 698.156 Q99.1169 697.323 97.3113 696.883 Q95.5289 696.443 93.7697 696.443 Q89.1401 696.443 86.6864 699.568 Q84.2558 702.693 83.9086 709.013 Q85.2743 706.999 87.3345 705.934 Q89.3947 704.846 91.8715 704.846 Q97.0798 704.846 100.089 708.017 Q103.121 711.165 103.121 716.605 Q103.121 721.929 99.9733 725.147 Q96.8252 728.364 91.5938 728.364 Q85.5984 728.364 82.4271 723.781 Q79.2559 719.175 79.2559 710.448 Q79.2559 702.253 83.1447 697.392 Q87.0336 692.508 93.5845 692.508 Q95.3437 692.508 97.1261 692.855 Q98.9317 693.202 100.876 693.897 Z\" fill=\"#000000\" fill-rule=\"evenodd\" fill-opacity=\"1\" /><path clip-path=\"url(#clip250)\" d=\"M121.177 696.212 Q117.566 696.212 115.737 699.777 Q113.932 703.318 113.932 710.448 Q113.932 717.554 115.737 721.119 Q117.566 724.661 121.177 724.661 Q124.811 724.661 126.617 721.119 Q128.445 717.554 128.445 710.448 Q128.445 703.318 126.617 699.777 Q124.811 696.212 121.177 696.212 M121.177 692.508 Q126.987 692.508 130.043 697.114 Q133.121 701.698 133.121 710.448 Q133.121 719.175 130.043 723.781 Q126.987 728.364 121.177 728.364 Q115.367 728.364 112.288 723.781 Q109.233 719.175 109.233 710.448 Q109.233 701.698 112.288 697.114 Q115.367 692.508 121.177 692.508 Z\" fill=\"#000000\" fill-rule=\"evenodd\" fill-opacity=\"1\" /><path clip-path=\"url(#clip250)\" d=\"M81.154 452.371 L81.154 448.112 Q82.9133 448.945 84.7188 449.385 Q86.5243 449.825 88.2604 449.825 Q92.89 449.825 95.3206 446.723 Q97.7743 443.598 98.1215 437.255 Q96.7789 439.246 94.7187 440.311 Q92.6586 441.376 90.1586 441.376 Q84.9734 441.376 81.941 438.251 Q78.9318 435.103 78.9318 429.663 Q78.9318 424.339 82.0799 421.121 Q85.2281 417.904 90.4595 417.904 Q96.4548 417.904 99.603 422.51 Q102.774 427.093 102.774 435.843 Q102.774 444.015 98.8854 448.899 Q95.0197 453.76 88.4688 453.76 Q86.7095 453.76 84.904 453.413 Q83.0984 453.065 81.154 452.371 M90.4595 437.718 Q93.6076 437.718 95.4363 435.566 Q97.2882 433.413 97.2882 429.663 Q97.2882 425.936 95.4363 423.783 Q93.6076 421.607 90.4595 421.607 Q87.3114 421.607 85.4595 423.783 Q83.6308 425.936 83.6308 429.663 Q83.6308 433.413 85.4595 435.566 Q87.3114 437.718 90.4595 437.718 Z\" fill=\"#000000\" fill-rule=\"evenodd\" fill-opacity=\"1\" /><path clip-path=\"url(#clip250)\" d=\"M121.177 421.607 Q117.566 421.607 115.737 425.172 Q113.932 428.714 113.932 435.843 Q113.932 442.95 115.737 446.515 Q117.566 450.056 121.177 450.056 Q124.811 450.056 126.617 446.515 Q128.445 442.95 128.445 435.843 Q128.445 428.714 126.617 425.172 Q124.811 421.607 121.177 421.607 M121.177 417.904 Q126.987 417.904 130.043 422.51 Q133.121 427.093 133.121 435.843 Q133.121 444.57 130.043 449.177 Q126.987 453.76 121.177 453.76 Q115.367 453.76 112.288 449.177 Q109.233 444.57 109.233 435.843 Q109.233 427.093 112.288 422.51 Q115.367 417.904 121.177 417.904 Z\" fill=\"#000000\" fill-rule=\"evenodd\" fill-opacity=\"1\" /><path clip-path=\"url(#clip250)\" d=\"M51.6634 174.549 L59.3023 174.549 L59.3023 148.183 L50.9921 149.85 L50.9921 145.591 L59.256 143.924 L63.9319 143.924 L63.9319 174.549 L71.5707 174.549 L71.5707 178.484 L51.6634 178.484 L51.6634 174.549 Z\" fill=\"#000000\" fill-rule=\"evenodd\" fill-opacity=\"1\" /><path clip-path=\"url(#clip250)\" d=\"M85.0429 174.549 L101.362 174.549 L101.362 178.484 L79.4179 178.484 L79.4179 174.549 Q82.0799 171.794 86.6632 167.165 Q91.2697 162.512 92.4502 161.169 Q94.6956 158.646 95.5752 156.91 Q96.478 155.151 96.478 153.461 Q96.478 150.707 94.5336 148.97 Q92.6123 147.234 89.5104 147.234 Q87.3114 147.234 84.8577 147.998 Q82.4271 148.762 79.6494 150.313 L79.6494 145.591 Q82.4734 144.457 84.9271 143.878 Q87.3808 143.299 89.4178 143.299 Q94.7882 143.299 97.9826 145.984 Q101.177 148.669 101.177 153.16 Q101.177 155.29 100.367 157.211 Q99.5798 159.109 97.4734 161.702 Q96.8947 162.373 93.7928 165.591 Q90.691 168.785 85.0429 174.549 Z\" fill=\"#000000\" fill-rule=\"evenodd\" fill-opacity=\"1\" /><path clip-path=\"url(#clip250)\" d=\"M121.177 147.003 Q117.566 147.003 115.737 150.568 Q113.932 154.109 113.932 161.239 Q113.932 168.345 115.737 171.91 Q117.566 175.452 121.177 175.452 Q124.811 175.452 126.617 171.91 Q128.445 168.345 128.445 161.239 Q128.445 154.109 126.617 150.568 Q124.811 147.003 121.177 147.003 M121.177 143.299 Q126.987 143.299 130.043 147.906 Q133.121 152.489 133.121 161.239 Q133.121 169.966 130.043 174.572 Q126.987 179.155 121.177 179.155 Q115.367 179.155 112.288 174.572 Q109.233 169.966 109.233 161.239 Q109.233 152.489 112.288 147.906 Q115.367 143.299 121.177 143.299 Z\" fill=\"#000000\" fill-rule=\"evenodd\" fill-opacity=\"1\" /><circle clip-path=\"url(#clip252)\" cx=\"230.922\" cy=\"564.637\" r=\"14.4\" fill=\"#009af9\" fill-rule=\"evenodd\" fill-opacity=\"1\" stroke=\"#000000\" stroke-opacity=\"1\" stroke-width=\"3.2\"/>\n",
       "<circle clip-path=\"url(#clip252)\" cx=\"333.924\" cy=\"1021.51\" r=\"14.4\" fill=\"#009af9\" fill-rule=\"evenodd\" fill-opacity=\"1\" stroke=\"#000000\" stroke-opacity=\"1\" stroke-width=\"3.2\"/>\n",
       "<circle clip-path=\"url(#clip252)\" cx=\"436.926\" cy=\"725.821\" r=\"14.4\" fill=\"#009af9\" fill-rule=\"evenodd\" fill-opacity=\"1\" stroke=\"#000000\" stroke-opacity=\"1\" stroke-width=\"3.2\"/>\n",
       "<circle clip-path=\"url(#clip252)\" cx=\"539.927\" cy=\"1084.69\" r=\"14.4\" fill=\"#009af9\" fill-rule=\"evenodd\" fill-opacity=\"1\" stroke=\"#000000\" stroke-opacity=\"1\" stroke-width=\"3.2\"/>\n",
       "<circle clip-path=\"url(#clip252)\" cx=\"642.929\" cy=\"1150.49\" r=\"14.4\" fill=\"#009af9\" fill-rule=\"evenodd\" fill-opacity=\"1\" stroke=\"#000000\" stroke-opacity=\"1\" stroke-width=\"3.2\"/>\n",
       "<circle clip-path=\"url(#clip252)\" cx=\"745.93\" cy=\"1214.16\" r=\"14.4\" fill=\"#009af9\" fill-rule=\"evenodd\" fill-opacity=\"1\" stroke=\"#000000\" stroke-opacity=\"1\" stroke-width=\"3.2\"/>\n",
       "<circle clip-path=\"url(#clip252)\" cx=\"848.932\" cy=\"1228.57\" r=\"14.4\" fill=\"#009af9\" fill-rule=\"evenodd\" fill-opacity=\"1\" stroke=\"#000000\" stroke-opacity=\"1\" stroke-width=\"3.2\"/>\n",
       "<circle clip-path=\"url(#clip252)\" cx=\"951.934\" cy=\"1445.72\" r=\"14.4\" fill=\"#009af9\" fill-rule=\"evenodd\" fill-opacity=\"1\" stroke=\"#000000\" stroke-opacity=\"1\" stroke-width=\"3.2\"/>\n",
       "<circle clip-path=\"url(#clip252)\" cx=\"1054.94\" cy=\"1312.55\" r=\"14.4\" fill=\"#009af9\" fill-rule=\"evenodd\" fill-opacity=\"1\" stroke=\"#000000\" stroke-opacity=\"1\" stroke-width=\"3.2\"/>\n",
       "<circle clip-path=\"url(#clip252)\" cx=\"1157.94\" cy=\"1335.36\" r=\"14.4\" fill=\"#009af9\" fill-rule=\"evenodd\" fill-opacity=\"1\" stroke=\"#000000\" stroke-opacity=\"1\" stroke-width=\"3.2\"/>\n",
       "<circle clip-path=\"url(#clip252)\" cx=\"1260.94\" cy=\"1280.03\" r=\"14.4\" fill=\"#009af9\" fill-rule=\"evenodd\" fill-opacity=\"1\" stroke=\"#000000\" stroke-opacity=\"1\" stroke-width=\"3.2\"/>\n",
       "<circle clip-path=\"url(#clip252)\" cx=\"1363.94\" cy=\"1170.16\" r=\"14.4\" fill=\"#009af9\" fill-rule=\"evenodd\" fill-opacity=\"1\" stroke=\"#000000\" stroke-opacity=\"1\" stroke-width=\"3.2\"/>\n",
       "<circle clip-path=\"url(#clip252)\" cx=\"1466.94\" cy=\"1051\" r=\"14.4\" fill=\"#009af9\" fill-rule=\"evenodd\" fill-opacity=\"1\" stroke=\"#000000\" stroke-opacity=\"1\" stroke-width=\"3.2\"/>\n",
       "<circle clip-path=\"url(#clip252)\" cx=\"1569.94\" cy=\"1103.91\" r=\"14.4\" fill=\"#009af9\" fill-rule=\"evenodd\" fill-opacity=\"1\" stroke=\"#000000\" stroke-opacity=\"1\" stroke-width=\"3.2\"/>\n",
       "<circle clip-path=\"url(#clip252)\" cx=\"1672.95\" cy=\"1037.63\" r=\"14.4\" fill=\"#009af9\" fill-rule=\"evenodd\" fill-opacity=\"1\" stroke=\"#000000\" stroke-opacity=\"1\" stroke-width=\"3.2\"/>\n",
       "<circle clip-path=\"url(#clip252)\" cx=\"1775.95\" cy=\"885.49\" r=\"14.4\" fill=\"#009af9\" fill-rule=\"evenodd\" fill-opacity=\"1\" stroke=\"#000000\" stroke-opacity=\"1\" stroke-width=\"3.2\"/>\n",
       "<circle clip-path=\"url(#clip252)\" cx=\"1878.95\" cy=\"819.99\" r=\"14.4\" fill=\"#009af9\" fill-rule=\"evenodd\" fill-opacity=\"1\" stroke=\"#000000\" stroke-opacity=\"1\" stroke-width=\"3.2\"/>\n",
       "<circle clip-path=\"url(#clip252)\" cx=\"1981.95\" cy=\"643.768\" r=\"14.4\" fill=\"#009af9\" fill-rule=\"evenodd\" fill-opacity=\"1\" stroke=\"#000000\" stroke-opacity=\"1\" stroke-width=\"3.2\"/>\n",
       "<circle clip-path=\"url(#clip252)\" cx=\"2084.95\" cy=\"585.294\" r=\"14.4\" fill=\"#009af9\" fill-rule=\"evenodd\" fill-opacity=\"1\" stroke=\"#000000\" stroke-opacity=\"1\" stroke-width=\"3.2\"/>\n",
       "<circle clip-path=\"url(#clip252)\" cx=\"2187.95\" cy=\"331.252\" r=\"14.4\" fill=\"#009af9\" fill-rule=\"evenodd\" fill-opacity=\"1\" stroke=\"#000000\" stroke-opacity=\"1\" stroke-width=\"3.2\"/>\n",
       "<circle clip-path=\"url(#clip252)\" cx=\"2290.95\" cy=\"270.534\" r=\"14.4\" fill=\"#009af9\" fill-rule=\"evenodd\" fill-opacity=\"1\" stroke=\"#000000\" stroke-opacity=\"1\" stroke-width=\"3.2\"/>\n",
       "<polyline clip-path=\"url(#clip252)\" style=\"stroke:#e26f46; stroke-linecap:round; stroke-linejoin:round; stroke-width:4; stroke-opacity:1; fill:none\" points=\"230.922,637.185 333.924,783.641 436.926,911.79 539.927,1021.63 642.929,1113.17 745.93,1186.39 848.932,1241.31 951.934,1277.93 1054.94,1296.24 1157.94,1296.24 1260.94,1277.93 1363.94,1241.31 1466.94,1186.39 1569.94,1113.17 1672.95,1021.63 1775.95,911.79 1878.95,783.641 1981.95,637.185 2084.95,472.423 2187.95,289.353 2290.95,87.9763 \"/>\n",
       "<polyline clip-path=\"url(#clip252)\" style=\"stroke:#3da44d; stroke-linecap:round; stroke-linejoin:round; stroke-width:4; stroke-opacity:1; fill:none\" points=\"230.922,576.365 333.924,949.471 436.926,886.475 539.927,956.36 642.929,1119.11 745.93,1258.41 848.932,1328.83 951.934,1344.62 1054.94,1333.46 1157.94,1308.21 1260.94,1265.96 1363.94,1202.26 1466.94,1123.49 1569.94,1045.88 1672.95,981.158 1775.95,920.168 1878.95,831.534 1981.95,687.608 2084.95,508.44 2187.95,371.38 2290.95,263.361 \"/>\n",
       "<path clip-path=\"url(#clip250)\" d=\"M241.909 302.578 L734.415 302.578 L734.415 95.2176 L241.909 95.2176  Z\" fill=\"#ffffff\" fill-rule=\"evenodd\" fill-opacity=\"1\"/>\n",
       "<polyline clip-path=\"url(#clip250)\" style=\"stroke:#000000; stroke-linecap:round; stroke-linejoin:round; stroke-width:4; stroke-opacity:1; fill:none\" points=\"241.909,302.578 734.415,302.578 734.415,95.2176 241.909,95.2176 241.909,302.578 \"/>\n",
       "<circle clip-path=\"url(#clip250)\" cx=\"338.96\" cy=\"147.058\" r=\"23.04\" fill=\"#009af9\" fill-rule=\"evenodd\" fill-opacity=\"1\" stroke=\"#000000\" stroke-opacity=\"1\" stroke-width=\"5.12\"/>\n",
       "<path clip-path=\"url(#clip250)\" d=\"M454.922 142.347 L454.922 128.319 L459.181 128.319 L459.181 164.338 L454.922 164.338 L454.922 160.449 Q453.579 162.763 451.519 163.898 Q449.482 165.009 446.612 165.009 Q441.913 165.009 438.95 161.259 Q436.01 157.509 436.01 151.398 Q436.01 145.287 438.95 141.537 Q441.913 137.787 446.612 137.787 Q449.482 137.787 451.519 138.921 Q453.579 140.032 454.922 142.347 M440.408 151.398 Q440.408 156.097 442.329 158.782 Q444.274 161.444 447.653 161.444 Q451.033 161.444 452.977 158.782 Q454.922 156.097 454.922 151.398 Q454.922 146.699 452.977 144.037 Q451.033 141.352 447.653 141.352 Q444.274 141.352 442.329 144.037 Q440.408 146.699 440.408 151.398 Z\" fill=\"#000000\" fill-rule=\"evenodd\" fill-opacity=\"1\" /><path clip-path=\"url(#clip250)\" d=\"M479.737 151.305 Q474.575 151.305 472.584 152.486 Q470.593 153.666 470.593 156.514 Q470.593 158.782 472.075 160.125 Q473.579 161.444 476.149 161.444 Q479.69 161.444 481.82 158.944 Q483.973 156.421 483.973 152.254 L483.973 151.305 L479.737 151.305 M488.232 149.546 L488.232 164.338 L483.973 164.338 L483.973 160.402 Q482.514 162.763 480.338 163.898 Q478.163 165.009 475.014 165.009 Q471.033 165.009 468.672 162.787 Q466.334 160.541 466.334 156.791 Q466.334 152.416 469.251 150.194 Q472.19 147.972 478.001 147.972 L483.973 147.972 L483.973 147.555 Q483.973 144.615 482.028 143.018 Q480.107 141.398 476.612 141.398 Q474.389 141.398 472.283 141.93 Q470.176 142.463 468.232 143.527 L468.232 139.592 Q470.57 138.69 472.769 138.25 Q474.968 137.787 477.051 137.787 Q482.676 137.787 485.454 140.703 Q488.232 143.62 488.232 149.546 Z\" fill=\"#000000\" fill-rule=\"evenodd\" fill-opacity=\"1\" /><path clip-path=\"url(#clip250)\" d=\"M501.218 131.051 L501.218 138.412 L509.991 138.412 L509.991 141.722 L501.218 141.722 L501.218 155.796 Q501.218 158.967 502.074 159.87 Q502.954 160.773 505.616 160.773 L509.991 160.773 L509.991 164.338 L505.616 164.338 Q500.686 164.338 498.811 162.509 Q496.936 160.657 496.936 155.796 L496.936 141.722 L493.811 141.722 L493.811 138.412 L496.936 138.412 L496.936 131.051 L501.218 131.051 Z\" fill=\"#000000\" fill-rule=\"evenodd\" fill-opacity=\"1\" /><path clip-path=\"url(#clip250)\" d=\"M527.375 151.305 Q522.213 151.305 520.222 152.486 Q518.232 153.666 518.232 156.514 Q518.232 158.782 519.713 160.125 Q521.218 161.444 523.787 161.444 Q527.329 161.444 529.459 158.944 Q531.611 156.421 531.611 152.254 L531.611 151.305 L527.375 151.305 M535.871 149.546 L535.871 164.338 L531.611 164.338 L531.611 160.402 Q530.153 162.763 527.977 163.898 Q525.801 165.009 522.653 165.009 Q518.672 165.009 516.31 162.787 Q513.973 160.541 513.973 156.791 Q513.973 152.416 516.889 150.194 Q519.829 147.972 525.639 147.972 L531.611 147.972 L531.611 147.555 Q531.611 144.615 529.667 143.018 Q527.746 141.398 524.25 141.398 Q522.028 141.398 519.922 141.93 Q517.815 142.463 515.871 143.527 L515.871 139.592 Q518.209 138.69 520.408 138.25 Q522.607 137.787 524.69 137.787 Q530.315 137.787 533.093 140.703 Q535.871 143.62 535.871 149.546 Z\" fill=\"#000000\" fill-rule=\"evenodd\" fill-opacity=\"1\" /><polyline clip-path=\"url(#clip250)\" style=\"stroke:#e26f46; stroke-linecap:round; stroke-linejoin:round; stroke-width:4; stroke-opacity:1; fill:none\" points=\"266.172,198.898 411.747,198.898 \"/>\n",
       "<path clip-path=\"url(#clip250)\" d=\"M436.01 181.618 L465.246 181.618 L465.246 185.553 L452.977 185.553 L452.977 216.178 L448.278 216.178 L448.278 185.553 L436.01 185.553 L436.01 181.618 Z\" fill=\"#000000\" fill-rule=\"evenodd\" fill-opacity=\"1\" /><path clip-path=\"url(#clip250)\" d=\"M477.63 194.233 Q476.913 193.817 476.056 193.631 Q475.223 193.423 474.204 193.423 Q470.593 193.423 468.649 195.784 Q466.727 198.122 466.727 202.52 L466.727 216.178 L462.445 216.178 L462.445 190.252 L466.727 190.252 L466.727 194.28 Q468.07 191.918 470.223 190.784 Q472.376 189.627 475.454 189.627 Q475.894 189.627 476.426 189.696 Q476.959 189.743 477.607 189.858 L477.63 194.233 Z\" fill=\"#000000\" fill-rule=\"evenodd\" fill-opacity=\"1\" /><path clip-path=\"url(#clip250)\" d=\"M481.658 205.946 L481.658 190.252 L485.917 190.252 L485.917 205.784 Q485.917 209.465 487.352 211.316 Q488.787 213.145 491.658 213.145 Q495.107 213.145 497.098 210.946 Q499.112 208.747 499.112 204.951 L499.112 190.252 L503.371 190.252 L503.371 216.178 L499.112 216.178 L499.112 212.196 Q497.561 214.557 495.5 215.715 Q493.463 216.849 490.755 216.849 Q486.287 216.849 483.973 214.071 Q481.658 211.293 481.658 205.946 M492.375 189.627 L492.375 189.627 Z\" fill=\"#000000\" fill-rule=\"evenodd\" fill-opacity=\"1\" /><path clip-path=\"url(#clip250)\" d=\"M534.32 202.15 L534.32 204.233 L514.736 204.233 Q515.014 208.631 517.375 210.946 Q519.76 213.238 523.996 213.238 Q526.449 213.238 528.741 212.636 Q531.056 212.034 533.324 210.83 L533.324 214.858 Q531.033 215.83 528.625 216.34 Q526.218 216.849 523.741 216.849 Q517.537 216.849 513.903 213.238 Q510.292 209.627 510.292 203.469 Q510.292 197.104 513.718 193.377 Q517.167 189.627 523 189.627 Q528.232 189.627 531.264 193.006 Q534.32 196.363 534.32 202.15 M530.06 200.9 Q530.014 197.405 528.093 195.321 Q526.195 193.238 523.047 193.238 Q519.482 193.238 517.329 195.252 Q515.199 197.266 514.875 200.923 L530.06 200.9 Z\" fill=\"#000000\" fill-rule=\"evenodd\" fill-opacity=\"1\" /><path clip-path=\"url(#clip250)\" d=\"M575.037 191.247 L575.037 195.229 Q573.231 194.233 571.403 193.747 Q569.597 193.238 567.745 193.238 Q563.602 193.238 561.31 195.877 Q559.019 198.492 559.019 203.238 Q559.019 207.983 561.31 210.622 Q563.602 213.238 567.745 213.238 Q569.597 213.238 571.403 212.752 Q573.231 212.242 575.037 211.247 L575.037 215.182 Q573.255 216.016 571.333 216.432 Q569.435 216.849 567.282 216.849 Q561.426 216.849 557.977 213.168 Q554.528 209.488 554.528 203.238 Q554.528 196.895 558 193.261 Q561.495 189.627 567.56 189.627 Q569.528 189.627 571.403 190.043 Q573.278 190.437 575.037 191.247 Z\" fill=\"#000000\" fill-rule=\"evenodd\" fill-opacity=\"1\" /><path clip-path=\"url(#clip250)\" d=\"M582.005 205.946 L582.005 190.252 L586.264 190.252 L586.264 205.784 Q586.264 209.465 587.699 211.316 Q589.134 213.145 592.005 213.145 Q595.454 213.145 597.444 210.946 Q599.458 208.747 599.458 204.951 L599.458 190.252 L603.717 190.252 L603.717 216.178 L599.458 216.178 L599.458 212.196 Q597.907 214.557 595.847 215.715 Q593.81 216.849 591.102 216.849 Q586.634 216.849 584.319 214.071 Q582.005 211.293 582.005 205.946 M592.722 189.627 L592.722 189.627 Z\" fill=\"#000000\" fill-rule=\"evenodd\" fill-opacity=\"1\" /><path clip-path=\"url(#clip250)\" d=\"M627.514 194.233 Q626.796 193.817 625.94 193.631 Q625.106 193.423 624.088 193.423 Q620.477 193.423 618.532 195.784 Q616.611 198.122 616.611 202.52 L616.611 216.178 L612.328 216.178 L612.328 190.252 L616.611 190.252 L616.611 194.28 Q617.953 191.918 620.106 190.784 Q622.259 189.627 625.338 189.627 Q625.777 189.627 626.31 189.696 Q626.842 189.743 627.49 189.858 L627.514 194.233 Z\" fill=\"#000000\" fill-rule=\"evenodd\" fill-opacity=\"1\" /><path clip-path=\"url(#clip250)\" d=\"M628.926 190.252 L633.439 190.252 L641.541 212.011 L649.643 190.252 L654.157 190.252 L644.435 216.178 L638.648 216.178 L628.926 190.252 Z\" fill=\"#000000\" fill-rule=\"evenodd\" fill-opacity=\"1\" /><path clip-path=\"url(#clip250)\" d=\"M682.212 202.15 L682.212 204.233 L662.629 204.233 Q662.907 208.631 665.268 210.946 Q667.652 213.238 671.888 213.238 Q674.342 213.238 676.634 212.636 Q678.949 212.034 681.217 210.83 L681.217 214.858 Q678.925 215.83 676.518 216.34 Q674.111 216.849 671.634 216.849 Q665.43 216.849 661.796 213.238 Q658.185 209.627 658.185 203.469 Q658.185 197.104 661.611 193.377 Q665.06 189.627 670.893 189.627 Q676.124 189.627 679.157 193.006 Q682.212 196.363 682.212 202.15 M677.953 200.9 Q677.907 197.405 675.986 195.321 Q674.087 193.238 670.939 193.238 Q667.374 193.238 665.222 195.252 Q663.092 197.266 662.768 200.923 L677.953 200.9 Z\" fill=\"#000000\" fill-rule=\"evenodd\" fill-opacity=\"1\" /><polyline clip-path=\"url(#clip250)\" style=\"stroke:#3da44d; stroke-linecap:round; stroke-linejoin:round; stroke-width:4; stroke-opacity:1; fill:none\" points=\"266.172,250.738 411.747,250.738 \"/>\n",
       "<path clip-path=\"url(#clip250)\" d=\"M436.01 233.458 L455.871 233.458 L455.871 237.393 L440.686 237.393 L440.686 247.578 L454.39 247.578 L454.39 251.513 L440.686 251.513 L440.686 268.018 L436.01 268.018 L436.01 233.458 Z\" fill=\"#000000\" fill-rule=\"evenodd\" fill-opacity=\"1\" /><path clip-path=\"url(#clip250)\" d=\"M459.644 242.092 L463.903 242.092 L463.903 268.018 L459.644 268.018 L459.644 242.092 M459.644 231.999 L463.903 231.999 L463.903 237.393 L459.644 237.393 L459.644 231.999 Z\" fill=\"#000000\" fill-rule=\"evenodd\" fill-opacity=\"1\" /><path clip-path=\"url(#clip250)\" d=\"M477.028 234.731 L477.028 242.092 L485.801 242.092 L485.801 245.402 L477.028 245.402 L477.028 259.476 Q477.028 262.647 477.885 263.55 Q478.764 264.453 481.426 264.453 L485.801 264.453 L485.801 268.018 L481.426 268.018 Q476.496 268.018 474.621 266.189 Q472.746 264.337 472.746 259.476 L472.746 245.402 L469.621 245.402 L469.621 242.092 L472.746 242.092 L472.746 234.731 L477.028 234.731 Z\" fill=\"#000000\" fill-rule=\"evenodd\" fill-opacity=\"1\" /><path clip-path=\"url(#clip250)\" d=\"M495.616 234.731 L495.616 242.092 L504.389 242.092 L504.389 245.402 L495.616 245.402 L495.616 259.476 Q495.616 262.647 496.473 263.55 Q497.352 264.453 500.014 264.453 L504.389 264.453 L504.389 268.018 L500.014 268.018 Q495.084 268.018 493.209 266.189 Q491.334 264.337 491.334 259.476 L491.334 245.402 L488.209 245.402 L488.209 242.092 L491.334 242.092 L491.334 234.731 L495.616 234.731 Z\" fill=\"#000000\" fill-rule=\"evenodd\" fill-opacity=\"1\" /><path clip-path=\"url(#clip250)\" d=\"M532.167 253.99 L532.167 256.073 L512.584 256.073 Q512.861 260.471 515.223 262.786 Q517.607 265.078 521.843 265.078 Q524.297 265.078 526.588 264.476 Q528.903 263.874 531.172 262.67 L531.172 266.698 Q528.88 267.67 526.472 268.18 Q524.065 268.689 521.588 268.689 Q515.385 268.689 511.75 265.078 Q508.139 261.467 508.139 255.309 Q508.139 248.944 511.565 245.217 Q515.014 241.467 520.847 241.467 Q526.079 241.467 529.111 244.846 Q532.167 248.203 532.167 253.99 M527.908 252.74 Q527.861 249.245 525.94 247.161 Q524.042 245.078 520.894 245.078 Q517.329 245.078 515.176 247.092 Q513.047 249.106 512.723 252.763 L527.908 252.74 Z\" fill=\"#000000\" fill-rule=\"evenodd\" fill-opacity=\"1\" /><path clip-path=\"url(#clip250)\" d=\"M556.218 246.027 L556.218 231.999 L560.477 231.999 L560.477 268.018 L556.218 268.018 L556.218 264.129 Q554.875 266.443 552.815 267.578 Q550.778 268.689 547.908 268.689 Q543.208 268.689 540.246 264.939 Q537.306 261.189 537.306 255.078 Q537.306 248.967 540.246 245.217 Q543.208 241.467 547.908 241.467 Q550.778 241.467 552.815 242.601 Q554.875 243.712 556.218 246.027 M541.704 255.078 Q541.704 259.777 543.625 262.462 Q545.57 265.124 548.949 265.124 Q552.329 265.124 554.273 262.462 Q556.218 259.777 556.218 255.078 Q556.218 250.379 554.273 247.717 Q552.329 245.032 548.949 245.032 Q545.57 245.032 543.625 247.717 Q541.704 250.379 541.704 255.078 Z\" fill=\"#000000\" fill-rule=\"evenodd\" fill-opacity=\"1\" /><path clip-path=\"url(#clip250)\" d=\"M602.977 243.087 L602.977 247.069 Q601.171 246.073 599.342 245.587 Q597.537 245.078 595.685 245.078 Q591.542 245.078 589.25 247.717 Q586.958 250.332 586.958 255.078 Q586.958 259.823 589.25 262.462 Q591.542 265.078 595.685 265.078 Q597.537 265.078 599.342 264.592 Q601.171 264.082 602.977 263.087 L602.977 267.022 Q601.194 267.856 599.273 268.272 Q597.375 268.689 595.222 268.689 Q589.366 268.689 585.917 265.008 Q582.468 261.328 582.468 255.078 Q582.468 248.735 585.94 245.101 Q589.435 241.467 595.5 241.467 Q597.467 241.467 599.342 241.883 Q601.217 242.277 602.977 243.087 Z\" fill=\"#000000\" fill-rule=\"evenodd\" fill-opacity=\"1\" /><path clip-path=\"url(#clip250)\" d=\"M609.944 257.786 L609.944 242.092 L614.203 242.092 L614.203 257.624 Q614.203 261.305 615.639 263.156 Q617.074 264.985 619.944 264.985 Q623.393 264.985 625.384 262.786 Q627.398 260.587 627.398 256.791 L627.398 242.092 L631.657 242.092 L631.657 268.018 L627.398 268.018 L627.398 264.036 Q625.847 266.397 623.787 267.555 Q621.75 268.689 619.041 268.689 Q614.574 268.689 612.259 265.911 Q609.944 263.133 609.944 257.786 M620.662 241.467 L620.662 241.467 Z\" fill=\"#000000\" fill-rule=\"evenodd\" fill-opacity=\"1\" /><path clip-path=\"url(#clip250)\" d=\"M655.453 246.073 Q654.736 245.657 653.879 245.471 Q653.046 245.263 652.027 245.263 Q648.416 245.263 646.472 247.624 Q644.551 249.962 644.551 254.36 L644.551 268.018 L640.268 268.018 L640.268 242.092 L644.551 242.092 L644.551 246.12 Q645.893 243.758 648.046 242.624 Q650.199 241.467 653.277 241.467 Q653.717 241.467 654.25 241.536 Q654.782 241.583 655.43 241.698 L655.453 246.073 Z\" fill=\"#000000\" fill-rule=\"evenodd\" fill-opacity=\"1\" /><path clip-path=\"url(#clip250)\" d=\"M656.865 242.092 L661.379 242.092 L669.481 263.851 L677.583 242.092 L682.097 242.092 L672.374 268.018 L666.587 268.018 L656.865 242.092 Z\" fill=\"#000000\" fill-rule=\"evenodd\" fill-opacity=\"1\" /><path clip-path=\"url(#clip250)\" d=\"M710.152 253.99 L710.152 256.073 L690.569 256.073 Q690.847 260.471 693.208 262.786 Q695.592 265.078 699.828 265.078 Q702.282 265.078 704.573 264.476 Q706.888 263.874 709.157 262.67 L709.157 266.698 Q706.865 267.67 704.458 268.18 Q702.05 268.689 699.573 268.689 Q693.37 268.689 689.735 265.078 Q686.124 261.467 686.124 255.309 Q686.124 248.944 689.55 245.217 Q692.999 241.467 698.833 241.467 Q704.064 241.467 707.096 244.846 Q710.152 248.203 710.152 253.99 M705.893 252.74 Q705.847 249.245 703.925 247.161 Q702.027 245.078 698.879 245.078 Q695.314 245.078 693.161 247.092 Q691.032 249.106 690.708 252.763 L705.893 252.74 Z\" fill=\"#000000\" fill-rule=\"evenodd\" fill-opacity=\"1\" /></svg>\n"
      ]
     },
     "execution_count": 8,
     "metadata": {},
     "output_type": "execute_result"
    }
   ],
   "source": [
    "x = collect(-10:1:10)\n",
    "y_true = (x .^ 2) .+ (3 .* x) .- 2\n",
    "d = Normal(0,10)\n",
    "gaussian = rand(d,length(x))\n",
    "y_observed = y_true .+ gaussian\n",
    "using Plots\n",
    "scatter(x,y_observed, label=\"data\")\n",
    "plot!(x,y_true, label=\"True curve\")\n",
    "line_fit = Polynomials.fit(x,y_observed,10)\n",
    "y_fitted = line_fit.(x)\n",
    "plot!(x,y_fitted, label=\"Fitted curve\")"
   ]
  },
  {
   "cell_type": "code",
   "execution_count": 9,
   "id": "38beb4fc",
   "metadata": {},
   "outputs": [
    {
     "data": {
      "image/svg+xml": [
       "<?xml version=\"1.0\" encoding=\"utf-8\"?>\n",
       "<svg xmlns=\"http://www.w3.org/2000/svg\" xmlns:xlink=\"http://www.w3.org/1999/xlink\" width=\"600\" height=\"400\" viewBox=\"0 0 2400 1600\">\n",
       "<defs>\n",
       "  <clipPath id=\"clip290\">\n",
       "    <rect x=\"0\" y=\"0\" width=\"2400\" height=\"1600\"/>\n",
       "  </clipPath>\n",
       "</defs>\n",
       "<path clip-path=\"url(#clip290)\" d=\"M0 1600 L2400 1600 L2400 0 L0 0  Z\" fill=\"#ffffff\" fill-rule=\"evenodd\" fill-opacity=\"1\"/>\n",
       "<defs>\n",
       "  <clipPath id=\"clip291\">\n",
       "    <rect x=\"480\" y=\"0\" width=\"1681\" height=\"1600\"/>\n",
       "  </clipPath>\n",
       "</defs>\n",
       "<path clip-path=\"url(#clip290)\" d=\"M178.867 1486.45 L2352.76 1486.45 L2352.76 47.2441 L178.867 47.2441  Z\" fill=\"#ffffff\" fill-rule=\"evenodd\" fill-opacity=\"1\"/>\n",
       "<defs>\n",
       "  <clipPath id=\"clip292\">\n",
       "    <rect x=\"178\" y=\"47\" width=\"2175\" height=\"1440\"/>\n",
       "  </clipPath>\n",
       "</defs>\n",
       "<polyline clip-path=\"url(#clip292)\" style=\"stroke:#000000; stroke-linecap:round; stroke-linejoin:round; stroke-width:2; stroke-opacity:0.1; fill:none\" points=\"240.392,1486.45 240.392,47.2441 \"/>\n",
       "<polyline clip-path=\"url(#clip292)\" style=\"stroke:#000000; stroke-linecap:round; stroke-linejoin:round; stroke-width:2; stroke-opacity:0.1; fill:none\" points=\"753.102,1486.45 753.102,47.2441 \"/>\n",
       "<polyline clip-path=\"url(#clip292)\" style=\"stroke:#000000; stroke-linecap:round; stroke-linejoin:round; stroke-width:2; stroke-opacity:0.1; fill:none\" points=\"1265.81,1486.45 1265.81,47.2441 \"/>\n",
       "<polyline clip-path=\"url(#clip292)\" style=\"stroke:#000000; stroke-linecap:round; stroke-linejoin:round; stroke-width:2; stroke-opacity:0.1; fill:none\" points=\"1778.52,1486.45 1778.52,47.2441 \"/>\n",
       "<polyline clip-path=\"url(#clip292)\" style=\"stroke:#000000; stroke-linecap:round; stroke-linejoin:round; stroke-width:2; stroke-opacity:0.1; fill:none\" points=\"2291.23,1486.45 2291.23,47.2441 \"/>\n",
       "<polyline clip-path=\"url(#clip290)\" style=\"stroke:#000000; stroke-linecap:round; stroke-linejoin:round; stroke-width:4; stroke-opacity:1; fill:none\" points=\"178.867,1486.45 2352.76,1486.45 \"/>\n",
       "<polyline clip-path=\"url(#clip290)\" style=\"stroke:#000000; stroke-linecap:round; stroke-linejoin:round; stroke-width:4; stroke-opacity:1; fill:none\" points=\"240.392,1486.45 240.392,1467.55 \"/>\n",
       "<polyline clip-path=\"url(#clip290)\" style=\"stroke:#000000; stroke-linecap:round; stroke-linejoin:round; stroke-width:4; stroke-opacity:1; fill:none\" points=\"753.102,1486.45 753.102,1467.55 \"/>\n",
       "<polyline clip-path=\"url(#clip290)\" style=\"stroke:#000000; stroke-linecap:round; stroke-linejoin:round; stroke-width:4; stroke-opacity:1; fill:none\" points=\"1265.81,1486.45 1265.81,1467.55 \"/>\n",
       "<polyline clip-path=\"url(#clip290)\" style=\"stroke:#000000; stroke-linecap:round; stroke-linejoin:round; stroke-width:4; stroke-opacity:1; fill:none\" points=\"1778.52,1486.45 1778.52,1467.55 \"/>\n",
       "<polyline clip-path=\"url(#clip290)\" style=\"stroke:#000000; stroke-linecap:round; stroke-linejoin:round; stroke-width:4; stroke-opacity:1; fill:none\" points=\"2291.23,1486.45 2291.23,1467.55 \"/>\n",
       "<path clip-path=\"url(#clip290)\" d=\"M194.455 1532.02 L224.13 1532.02 L224.13 1535.95 L194.455 1535.95 L194.455 1532.02 Z\" fill=\"#000000\" fill-rule=\"evenodd\" fill-opacity=\"1\" /><path clip-path=\"url(#clip290)\" d=\"M235.033 1544.91 L242.672 1544.91 L242.672 1518.55 L234.362 1520.21 L234.362 1515.95 L242.626 1514.29 L247.301 1514.29 L247.301 1544.91 L254.94 1544.91 L254.94 1548.85 L235.033 1548.85 L235.033 1544.91 Z\" fill=\"#000000\" fill-rule=\"evenodd\" fill-opacity=\"1\" /><path clip-path=\"url(#clip290)\" d=\"M274.385 1517.37 Q270.774 1517.37 268.945 1520.93 Q267.139 1524.47 267.139 1531.6 Q267.139 1538.71 268.945 1542.27 Q270.774 1545.82 274.385 1545.82 Q278.019 1545.82 279.824 1542.27 Q281.653 1538.71 281.653 1531.6 Q281.653 1524.47 279.824 1520.93 Q278.019 1517.37 274.385 1517.37 M274.385 1513.66 Q280.195 1513.66 283.25 1518.27 Q286.329 1522.85 286.329 1531.6 Q286.329 1540.33 283.25 1544.94 Q280.195 1549.52 274.385 1549.52 Q268.575 1549.52 265.496 1544.94 Q262.44 1540.33 262.44 1531.6 Q262.44 1522.85 265.496 1518.27 Q268.575 1513.66 274.385 1513.66 Z\" fill=\"#000000\" fill-rule=\"evenodd\" fill-opacity=\"1\" /><path clip-path=\"url(#clip290)\" d=\"M722.743 1532.02 L752.419 1532.02 L752.419 1535.95 L722.743 1535.95 L722.743 1532.02 Z\" fill=\"#000000\" fill-rule=\"evenodd\" fill-opacity=\"1\" /><path clip-path=\"url(#clip290)\" d=\"M762.558 1514.29 L780.914 1514.29 L780.914 1518.22 L766.84 1518.22 L766.84 1526.7 Q767.858 1526.35 768.877 1526.19 Q769.895 1526 770.914 1526 Q776.701 1526 780.081 1529.17 Q783.46 1532.34 783.46 1537.76 Q783.46 1543.34 779.988 1546.44 Q776.516 1549.52 770.196 1549.52 Q768.02 1549.52 765.752 1549.15 Q763.507 1548.78 761.099 1548.04 L761.099 1543.34 Q763.183 1544.47 765.405 1545.03 Q767.627 1545.58 770.104 1545.58 Q774.108 1545.58 776.446 1543.48 Q778.784 1541.37 778.784 1537.76 Q778.784 1534.15 776.446 1532.04 Q774.108 1529.94 770.104 1529.94 Q768.229 1529.94 766.354 1530.35 Q764.502 1530.77 762.558 1531.65 L762.558 1514.29 Z\" fill=\"#000000\" fill-rule=\"evenodd\" fill-opacity=\"1\" /><path clip-path=\"url(#clip290)\" d=\"M1265.81 1517.37 Q1262.2 1517.37 1260.37 1520.93 Q1258.57 1524.47 1258.57 1531.6 Q1258.57 1538.71 1260.37 1542.27 Q1262.2 1545.82 1265.81 1545.82 Q1269.45 1545.82 1271.25 1542.27 Q1273.08 1538.71 1273.08 1531.6 Q1273.08 1524.47 1271.25 1520.93 Q1269.45 1517.37 1265.81 1517.37 M1265.81 1513.66 Q1271.62 1513.66 1274.68 1518.27 Q1277.76 1522.85 1277.76 1531.6 Q1277.76 1540.33 1274.68 1544.94 Q1271.62 1549.52 1265.81 1549.52 Q1260 1549.52 1256.92 1544.94 Q1253.87 1540.33 1253.87 1531.6 Q1253.87 1522.85 1256.92 1518.27 Q1260 1513.66 1265.81 1513.66 Z\" fill=\"#000000\" fill-rule=\"evenodd\" fill-opacity=\"1\" /><path clip-path=\"url(#clip290)\" d=\"M1768.8 1514.29 L1787.16 1514.29 L1787.16 1518.22 L1773.08 1518.22 L1773.08 1526.7 Q1774.1 1526.35 1775.12 1526.19 Q1776.14 1526 1777.16 1526 Q1782.94 1526 1786.32 1529.17 Q1789.7 1532.34 1789.7 1537.76 Q1789.7 1543.34 1786.23 1546.44 Q1782.76 1549.52 1776.44 1549.52 Q1774.26 1549.52 1771.99 1549.15 Q1769.75 1548.78 1767.34 1548.04 L1767.34 1543.34 Q1769.42 1544.47 1771.65 1545.03 Q1773.87 1545.58 1776.35 1545.58 Q1780.35 1545.58 1782.69 1543.48 Q1785.03 1541.37 1785.03 1537.76 Q1785.03 1534.15 1782.69 1532.04 Q1780.35 1529.94 1776.35 1529.94 Q1774.47 1529.94 1772.6 1530.35 Q1770.74 1530.77 1768.8 1531.65 L1768.8 1514.29 Z\" fill=\"#000000\" fill-rule=\"evenodd\" fill-opacity=\"1\" /><path clip-path=\"url(#clip290)\" d=\"M2265.92 1544.91 L2273.56 1544.91 L2273.56 1518.55 L2265.25 1520.21 L2265.25 1515.95 L2273.51 1514.29 L2278.19 1514.29 L2278.19 1544.91 L2285.83 1544.91 L2285.83 1548.85 L2265.92 1548.85 L2265.92 1544.91 Z\" fill=\"#000000\" fill-rule=\"evenodd\" fill-opacity=\"1\" /><path clip-path=\"url(#clip290)\" d=\"M2305.27 1517.37 Q2301.66 1517.37 2299.83 1520.93 Q2298.02 1524.47 2298.02 1531.6 Q2298.02 1538.71 2299.83 1542.27 Q2301.66 1545.82 2305.27 1545.82 Q2308.9 1545.82 2310.71 1542.27 Q2312.54 1538.71 2312.54 1531.6 Q2312.54 1524.47 2310.71 1520.93 Q2308.9 1517.37 2305.27 1517.37 M2305.27 1513.66 Q2311.08 1513.66 2314.14 1518.27 Q2317.21 1522.85 2317.21 1531.6 Q2317.21 1540.33 2314.14 1544.94 Q2311.08 1549.52 2305.27 1549.52 Q2299.46 1549.52 2296.38 1544.94 Q2293.33 1540.33 2293.33 1531.6 Q2293.33 1522.85 2296.38 1518.27 Q2299.46 1513.66 2305.27 1513.66 Z\" fill=\"#000000\" fill-rule=\"evenodd\" fill-opacity=\"1\" /><polyline clip-path=\"url(#clip292)\" style=\"stroke:#000000; stroke-linecap:round; stroke-linejoin:round; stroke-width:2; stroke-opacity:0.1; fill:none\" points=\"178.867,1408.96 2352.76,1408.96 \"/>\n",
       "<polyline clip-path=\"url(#clip292)\" style=\"stroke:#000000; stroke-linecap:round; stroke-linejoin:round; stroke-width:2; stroke-opacity:0.1; fill:none\" points=\"178.867,1127.26 2352.76,1127.26 \"/>\n",
       "<polyline clip-path=\"url(#clip292)\" style=\"stroke:#000000; stroke-linecap:round; stroke-linejoin:round; stroke-width:2; stroke-opacity:0.1; fill:none\" points=\"178.867,845.558 2352.76,845.558 \"/>\n",
       "<polyline clip-path=\"url(#clip292)\" style=\"stroke:#000000; stroke-linecap:round; stroke-linejoin:round; stroke-width:2; stroke-opacity:0.1; fill:none\" points=\"178.867,563.86 2352.76,563.86 \"/>\n",
       "<polyline clip-path=\"url(#clip292)\" style=\"stroke:#000000; stroke-linecap:round; stroke-linejoin:round; stroke-width:2; stroke-opacity:0.1; fill:none\" points=\"178.867,282.161 2352.76,282.161 \"/>\n",
       "<polyline clip-path=\"url(#clip290)\" style=\"stroke:#000000; stroke-linecap:round; stroke-linejoin:round; stroke-width:4; stroke-opacity:1; fill:none\" points=\"178.867,1486.45 178.867,47.2441 \"/>\n",
       "<polyline clip-path=\"url(#clip290)\" style=\"stroke:#000000; stroke-linecap:round; stroke-linejoin:round; stroke-width:4; stroke-opacity:1; fill:none\" points=\"178.867,1408.96 197.764,1408.96 \"/>\n",
       "<polyline clip-path=\"url(#clip290)\" style=\"stroke:#000000; stroke-linecap:round; stroke-linejoin:round; stroke-width:4; stroke-opacity:1; fill:none\" points=\"178.867,1127.26 197.764,1127.26 \"/>\n",
       "<polyline clip-path=\"url(#clip290)\" style=\"stroke:#000000; stroke-linecap:round; stroke-linejoin:round; stroke-width:4; stroke-opacity:1; fill:none\" points=\"178.867,845.558 197.764,845.558 \"/>\n",
       "<polyline clip-path=\"url(#clip290)\" style=\"stroke:#000000; stroke-linecap:round; stroke-linejoin:round; stroke-width:4; stroke-opacity:1; fill:none\" points=\"178.867,563.86 197.764,563.86 \"/>\n",
       "<polyline clip-path=\"url(#clip290)\" style=\"stroke:#000000; stroke-linecap:round; stroke-linejoin:round; stroke-width:4; stroke-opacity:1; fill:none\" points=\"178.867,282.161 197.764,282.161 \"/>\n",
       "<path clip-path=\"url(#clip290)\" d=\"M50.9921 1409.41 L80.6679 1409.41 L80.6679 1413.34 L50.9921 1413.34 L50.9921 1409.41 Z\" fill=\"#000000\" fill-rule=\"evenodd\" fill-opacity=\"1\" /><path clip-path=\"url(#clip290)\" d=\"M90.8067 1391.68 L109.163 1391.68 L109.163 1395.61 L95.0891 1395.61 L95.0891 1404.08 Q96.1076 1403.74 97.1261 1403.57 Q98.1447 1403.39 99.1632 1403.39 Q104.95 1403.39 108.33 1406.56 Q111.709 1409.73 111.709 1415.15 Q111.709 1420.73 108.237 1423.83 Q104.765 1426.91 98.4456 1426.91 Q96.2697 1426.91 94.0012 1426.54 Q91.7558 1426.17 89.3484 1425.42 L89.3484 1420.73 Q91.4317 1421.86 93.6539 1422.42 Q95.8761 1422.97 98.353 1422.97 Q102.358 1422.97 104.696 1420.86 Q107.033 1418.76 107.033 1415.15 Q107.033 1411.54 104.696 1409.43 Q102.358 1407.32 98.353 1407.32 Q96.478 1407.32 94.603 1407.74 Q92.7512 1408.16 90.8067 1409.04 L90.8067 1391.68 Z\" fill=\"#000000\" fill-rule=\"evenodd\" fill-opacity=\"1\" /><path clip-path=\"url(#clip290)\" d=\"M130.922 1394.75 Q127.311 1394.75 125.482 1398.32 Q123.677 1401.86 123.677 1408.99 Q123.677 1416.1 125.482 1419.66 Q127.311 1423.2 130.922 1423.2 Q134.556 1423.2 136.362 1419.66 Q138.191 1416.1 138.191 1408.99 Q138.191 1401.86 136.362 1398.32 Q134.556 1394.75 130.922 1394.75 M130.922 1391.05 Q136.732 1391.05 139.788 1395.66 Q142.867 1400.24 142.867 1408.99 Q142.867 1417.72 139.788 1422.32 Q136.732 1426.91 130.922 1426.91 Q125.112 1426.91 122.033 1422.32 Q118.978 1417.72 118.978 1408.99 Q118.978 1400.24 122.033 1395.66 Q125.112 1391.05 130.922 1391.05 Z\" fill=\"#000000\" fill-rule=\"evenodd\" fill-opacity=\"1\" /><path clip-path=\"url(#clip290)\" d=\"M130.922 1113.06 Q127.311 1113.06 125.482 1116.62 Q123.677 1120.16 123.677 1127.29 Q123.677 1134.4 125.482 1137.96 Q127.311 1141.5 130.922 1141.5 Q134.556 1141.5 136.362 1137.96 Q138.191 1134.4 138.191 1127.29 Q138.191 1120.16 136.362 1116.62 Q134.556 1113.06 130.922 1113.06 M130.922 1109.35 Q136.732 1109.35 139.788 1113.96 Q142.867 1118.54 142.867 1127.29 Q142.867 1136.02 139.788 1140.62 Q136.732 1145.21 130.922 1145.21 Q125.112 1145.21 122.033 1140.62 Q118.978 1136.02 118.978 1127.29 Q118.978 1118.54 122.033 1113.96 Q125.112 1109.35 130.922 1109.35 Z\" fill=\"#000000\" fill-rule=\"evenodd\" fill-opacity=\"1\" /><path clip-path=\"url(#clip290)\" d=\"M90.8067 828.278 L109.163 828.278 L109.163 832.213 L95.0891 832.213 L95.0891 840.685 Q96.1076 840.338 97.1261 840.176 Q98.1447 839.991 99.1632 839.991 Q104.95 839.991 108.33 843.162 Q111.709 846.334 111.709 851.75 Q111.709 857.329 108.237 860.431 Q104.765 863.509 98.4456 863.509 Q96.2697 863.509 94.0012 863.139 Q91.7558 862.769 89.3484 862.028 L89.3484 857.329 Q91.4317 858.463 93.6539 859.019 Q95.8761 859.574 98.353 859.574 Q102.358 859.574 104.696 857.468 Q107.033 855.361 107.033 851.75 Q107.033 848.139 104.696 846.033 Q102.358 843.926 98.353 843.926 Q96.478 843.926 94.603 844.343 Q92.7512 844.76 90.8067 845.639 L90.8067 828.278 Z\" fill=\"#000000\" fill-rule=\"evenodd\" fill-opacity=\"1\" /><path clip-path=\"url(#clip290)\" d=\"M130.922 831.357 Q127.311 831.357 125.482 834.922 Q123.677 838.463 123.677 845.593 Q123.677 852.699 125.482 856.264 Q127.311 859.806 130.922 859.806 Q134.556 859.806 136.362 856.264 Q138.191 852.699 138.191 845.593 Q138.191 838.463 136.362 834.922 Q134.556 831.357 130.922 831.357 M130.922 827.653 Q136.732 827.653 139.788 832.26 Q142.867 836.843 142.867 845.593 Q142.867 854.32 139.788 858.926 Q136.732 863.509 130.922 863.509 Q125.112 863.509 122.033 858.926 Q118.978 854.32 118.978 845.593 Q118.978 836.843 122.033 832.26 Q125.112 827.653 130.922 827.653 Z\" fill=\"#000000\" fill-rule=\"evenodd\" fill-opacity=\"1\" /><path clip-path=\"url(#clip290)\" d=\"M61.4087 577.204 L69.0476 577.204 L69.0476 550.839 L60.7374 552.505 L60.7374 548.246 L69.0013 546.58 L73.6772 546.58 L73.6772 577.204 L81.316 577.204 L81.316 581.14 L61.4087 581.14 L61.4087 577.204 Z\" fill=\"#000000\" fill-rule=\"evenodd\" fill-opacity=\"1\" /><path clip-path=\"url(#clip290)\" d=\"M100.76 549.658 Q97.1493 549.658 95.3206 553.223 Q93.515 556.765 93.515 563.894 Q93.515 571.001 95.3206 574.566 Q97.1493 578.107 100.76 578.107 Q104.395 578.107 106.2 574.566 Q108.029 571.001 108.029 563.894 Q108.029 556.765 106.2 553.223 Q104.395 549.658 100.76 549.658 M100.76 545.955 Q106.571 545.955 109.626 550.561 Q112.705 555.144 112.705 563.894 Q112.705 572.621 109.626 577.228 Q106.571 581.811 100.76 581.811 Q94.9502 581.811 91.8715 577.228 Q88.816 572.621 88.816 563.894 Q88.816 555.144 91.8715 550.561 Q94.9502 545.955 100.76 545.955 Z\" fill=\"#000000\" fill-rule=\"evenodd\" fill-opacity=\"1\" /><path clip-path=\"url(#clip290)\" d=\"M130.922 549.658 Q127.311 549.658 125.482 553.223 Q123.677 556.765 123.677 563.894 Q123.677 571.001 125.482 574.566 Q127.311 578.107 130.922 578.107 Q134.556 578.107 136.362 574.566 Q138.191 571.001 138.191 563.894 Q138.191 556.765 136.362 553.223 Q134.556 549.658 130.922 549.658 M130.922 545.955 Q136.732 545.955 139.788 550.561 Q142.867 555.144 142.867 563.894 Q142.867 572.621 139.788 577.228 Q136.732 581.811 130.922 581.811 Q125.112 581.811 122.033 577.228 Q118.978 572.621 118.978 563.894 Q118.978 555.144 122.033 550.561 Q125.112 545.955 130.922 545.955 Z\" fill=\"#000000\" fill-rule=\"evenodd\" fill-opacity=\"1\" /><path clip-path=\"url(#clip290)\" d=\"M61.4087 295.506 L69.0476 295.506 L69.0476 269.14 L60.7374 270.807 L60.7374 266.548 L69.0013 264.881 L73.6772 264.881 L73.6772 295.506 L81.316 295.506 L81.316 299.441 L61.4087 299.441 L61.4087 295.506 Z\" fill=\"#000000\" fill-rule=\"evenodd\" fill-opacity=\"1\" /><path clip-path=\"url(#clip290)\" d=\"M90.8067 264.881 L109.163 264.881 L109.163 268.816 L95.0891 268.816 L95.0891 277.288 Q96.1076 276.941 97.1261 276.779 Q98.1447 276.594 99.1632 276.594 Q104.95 276.594 108.33 279.765 Q111.709 282.937 111.709 288.353 Q111.709 293.932 108.237 297.034 Q104.765 300.112 98.4456 300.112 Q96.2697 300.112 94.0012 299.742 Q91.7558 299.372 89.3484 298.631 L89.3484 293.932 Q91.4317 295.066 93.6539 295.622 Q95.8761 296.177 98.353 296.177 Q102.358 296.177 104.696 294.071 Q107.033 291.964 107.033 288.353 Q107.033 284.742 104.696 282.636 Q102.358 280.529 98.353 280.529 Q96.478 280.529 94.603 280.946 Q92.7512 281.362 90.8067 282.242 L90.8067 264.881 Z\" fill=\"#000000\" fill-rule=\"evenodd\" fill-opacity=\"1\" /><path clip-path=\"url(#clip290)\" d=\"M130.922 267.96 Q127.311 267.96 125.482 271.525 Q123.677 275.066 123.677 282.196 Q123.677 289.302 125.482 292.867 Q127.311 296.409 130.922 296.409 Q134.556 296.409 136.362 292.867 Q138.191 289.302 138.191 282.196 Q138.191 275.066 136.362 271.525 Q134.556 267.96 130.922 267.96 M130.922 264.256 Q136.732 264.256 139.788 268.863 Q142.867 273.446 142.867 282.196 Q142.867 290.923 139.788 295.529 Q136.732 300.112 130.922 300.112 Q125.112 300.112 122.033 295.529 Q118.978 290.923 118.978 282.196 Q118.978 273.446 122.033 268.863 Q125.112 264.256 130.922 264.256 Z\" fill=\"#000000\" fill-rule=\"evenodd\" fill-opacity=\"1\" /><circle clip-path=\"url(#clip292)\" cx=\"240.392\" cy=\"827.805\" r=\"14.4\" fill=\"#009af9\" fill-rule=\"evenodd\" fill-opacity=\"1\" stroke=\"#000000\" stroke-opacity=\"1\" stroke-width=\"3.2\"/>\n",
       "<circle clip-path=\"url(#clip292)\" cx=\"342.934\" cy=\"587.269\" r=\"14.4\" fill=\"#009af9\" fill-rule=\"evenodd\" fill-opacity=\"1\" stroke=\"#000000\" stroke-opacity=\"1\" stroke-width=\"3.2\"/>\n",
       "<circle clip-path=\"url(#clip292)\" cx=\"445.476\" cy=\"1216.49\" r=\"14.4\" fill=\"#009af9\" fill-rule=\"evenodd\" fill-opacity=\"1\" stroke=\"#000000\" stroke-opacity=\"1\" stroke-width=\"3.2\"/>\n",
       "<circle clip-path=\"url(#clip292)\" cx=\"548.018\" cy=\"1159.73\" r=\"14.4\" fill=\"#009af9\" fill-rule=\"evenodd\" fill-opacity=\"1\" stroke=\"#000000\" stroke-opacity=\"1\" stroke-width=\"3.2\"/>\n",
       "<circle clip-path=\"url(#clip292)\" cx=\"650.56\" cy=\"1099.6\" r=\"14.4\" fill=\"#009af9\" fill-rule=\"evenodd\" fill-opacity=\"1\" stroke=\"#000000\" stroke-opacity=\"1\" stroke-width=\"3.2\"/>\n",
       "<circle clip-path=\"url(#clip292)\" cx=\"753.102\" cy=\"1445.72\" r=\"14.4\" fill=\"#009af9\" fill-rule=\"evenodd\" fill-opacity=\"1\" stroke=\"#000000\" stroke-opacity=\"1\" stroke-width=\"3.2\"/>\n",
       "<circle clip-path=\"url(#clip292)\" cx=\"855.643\" cy=\"1151.28\" r=\"14.4\" fill=\"#009af9\" fill-rule=\"evenodd\" fill-opacity=\"1\" stroke=\"#000000\" stroke-opacity=\"1\" stroke-width=\"3.2\"/>\n",
       "<circle clip-path=\"url(#clip292)\" cx=\"958.185\" cy=\"823.268\" r=\"14.4\" fill=\"#009af9\" fill-rule=\"evenodd\" fill-opacity=\"1\" stroke=\"#000000\" stroke-opacity=\"1\" stroke-width=\"3.2\"/>\n",
       "<circle clip-path=\"url(#clip292)\" cx=\"1060.73\" cy=\"1260.68\" r=\"14.4\" fill=\"#009af9\" fill-rule=\"evenodd\" fill-opacity=\"1\" stroke=\"#000000\" stroke-opacity=\"1\" stroke-width=\"3.2\"/>\n",
       "<circle clip-path=\"url(#clip292)\" cx=\"1163.27\" cy=\"885.181\" r=\"14.4\" fill=\"#009af9\" fill-rule=\"evenodd\" fill-opacity=\"1\" stroke=\"#000000\" stroke-opacity=\"1\" stroke-width=\"3.2\"/>\n",
       "<circle clip-path=\"url(#clip292)\" cx=\"1265.81\" cy=\"1203.93\" r=\"14.4\" fill=\"#009af9\" fill-rule=\"evenodd\" fill-opacity=\"1\" stroke=\"#000000\" stroke-opacity=\"1\" stroke-width=\"3.2\"/>\n",
       "<circle clip-path=\"url(#clip292)\" cx=\"1368.35\" cy=\"1015.47\" r=\"14.4\" fill=\"#009af9\" fill-rule=\"evenodd\" fill-opacity=\"1\" stroke=\"#000000\" stroke-opacity=\"1\" stroke-width=\"3.2\"/>\n",
       "<circle clip-path=\"url(#clip292)\" cx=\"1470.9\" cy=\"703.981\" r=\"14.4\" fill=\"#009af9\" fill-rule=\"evenodd\" fill-opacity=\"1\" stroke=\"#000000\" stroke-opacity=\"1\" stroke-width=\"3.2\"/>\n",
       "<circle clip-path=\"url(#clip292)\" cx=\"1573.44\" cy=\"1080.26\" r=\"14.4\" fill=\"#009af9\" fill-rule=\"evenodd\" fill-opacity=\"1\" stroke=\"#000000\" stroke-opacity=\"1\" stroke-width=\"3.2\"/>\n",
       "<circle clip-path=\"url(#clip292)\" cx=\"1675.98\" cy=\"1275.76\" r=\"14.4\" fill=\"#009af9\" fill-rule=\"evenodd\" fill-opacity=\"1\" stroke=\"#000000\" stroke-opacity=\"1\" stroke-width=\"3.2\"/>\n",
       "<circle clip-path=\"url(#clip292)\" cx=\"1778.52\" cy=\"501.901\" r=\"14.4\" fill=\"#009af9\" fill-rule=\"evenodd\" fill-opacity=\"1\" stroke=\"#000000\" stroke-opacity=\"1\" stroke-width=\"3.2\"/>\n",
       "<circle clip-path=\"url(#clip292)\" cx=\"1881.06\" cy=\"1048.21\" r=\"14.4\" fill=\"#009af9\" fill-rule=\"evenodd\" fill-opacity=\"1\" stroke=\"#000000\" stroke-opacity=\"1\" stroke-width=\"3.2\"/>\n",
       "<circle clip-path=\"url(#clip292)\" cx=\"1983.6\" cy=\"1167.3\" r=\"14.4\" fill=\"#009af9\" fill-rule=\"evenodd\" fill-opacity=\"1\" stroke=\"#000000\" stroke-opacity=\"1\" stroke-width=\"3.2\"/>\n",
       "<circle clip-path=\"url(#clip292)\" cx=\"2086.15\" cy=\"991.237\" r=\"14.4\" fill=\"#009af9\" fill-rule=\"evenodd\" fill-opacity=\"1\" stroke=\"#000000\" stroke-opacity=\"1\" stroke-width=\"3.2\"/>\n",
       "<circle clip-path=\"url(#clip292)\" cx=\"2188.69\" cy=\"547.61\" r=\"14.4\" fill=\"#009af9\" fill-rule=\"evenodd\" fill-opacity=\"1\" stroke=\"#000000\" stroke-opacity=\"1\" stroke-width=\"3.2\"/>\n",
       "<circle clip-path=\"url(#clip292)\" cx=\"2291.23\" cy=\"87.9763\" r=\"14.4\" fill=\"#009af9\" fill-rule=\"evenodd\" fill-opacity=\"1\" stroke=\"#000000\" stroke-opacity=\"1\" stroke-width=\"3.2\"/>\n",
       "<polyline clip-path=\"url(#clip292)\" style=\"stroke:#e26f46; stroke-linecap:round; stroke-linejoin:round; stroke-width:4; stroke-opacity:1; fill:none\" points=\"240.392,744.147 342.934,834.29 445.476,913.166 548.018,980.773 650.56,1037.11 753.102,1082.18 855.643,1115.99 958.185,1138.52 1060.73,1149.79 1163.27,1149.79 1265.81,1138.52 1368.35,1115.99 1470.9,1082.18 1573.44,1037.11 1675.98,980.773 1778.52,913.166 1881.06,834.29 1983.6,744.147 2086.15,642.735 2188.69,530.056 2291.23,406.108 \"/>\n",
       "<polyline clip-path=\"url(#clip292)\" style=\"stroke:#3da44d; stroke-linecap:round; stroke-linejoin:round; stroke-width:4; stroke-opacity:1; fill:none\" points=\"240.392,820.471 342.934,638.338 445.476,1087.78 548.018,1258.62 650.56,1234.12 753.102,1180.71 855.643,1146.15 958.185,1110.01 1060.73,1059.5 1163.27,1012.95 1265.81,995.885 1368.35,1008.23 1470.9,1017.15 1573.44,986.164 1675.98,920.285 1778.52,884.509 1881.06,954.025 1983.6,1093.26 2086.15,1052.51 2188.69,530.175 2291.23,89.7999 \"/>\n",
       "<path clip-path=\"url(#clip290)\" d=\"M251.33 302.578 L742.861 302.578 L742.861 95.2176 L251.33 95.2176  Z\" fill=\"#ffffff\" fill-rule=\"evenodd\" fill-opacity=\"1\"/>\n",
       "<polyline clip-path=\"url(#clip290)\" style=\"stroke:#000000; stroke-linecap:round; stroke-linejoin:round; stroke-width:4; stroke-opacity:1; fill:none\" points=\"251.33,302.578 742.861,302.578 742.861,95.2176 251.33,95.2176 251.33,302.578 \"/>\n",
       "<circle clip-path=\"url(#clip290)\" cx=\"347.947\" cy=\"147.058\" r=\"23.04\" fill=\"#009af9\" fill-rule=\"evenodd\" fill-opacity=\"1\" stroke=\"#000000\" stroke-opacity=\"1\" stroke-width=\"5.12\"/>\n",
       "<path clip-path=\"url(#clip290)\" d=\"M463.476 142.347 L463.476 128.319 L467.735 128.319 L467.735 164.338 L463.476 164.338 L463.476 160.449 Q462.134 162.763 460.073 163.898 Q458.036 165.009 455.166 165.009 Q450.467 165.009 447.504 161.259 Q444.564 157.509 444.564 151.398 Q444.564 145.287 447.504 141.537 Q450.467 137.787 455.166 137.787 Q458.036 137.787 460.073 138.921 Q462.134 140.032 463.476 142.347 M448.962 151.398 Q448.962 156.097 450.884 158.782 Q452.828 161.444 456.208 161.444 Q459.587 161.444 461.532 158.782 Q463.476 156.097 463.476 151.398 Q463.476 146.699 461.532 144.037 Q459.587 141.352 456.208 141.352 Q452.828 141.352 450.884 144.037 Q448.962 146.699 448.962 151.398 Z\" fill=\"#000000\" fill-rule=\"evenodd\" fill-opacity=\"1\" /><path clip-path=\"url(#clip290)\" d=\"M488.291 151.305 Q483.129 151.305 481.138 152.486 Q479.147 153.666 479.147 156.514 Q479.147 158.782 480.629 160.125 Q482.133 161.444 484.703 161.444 Q488.245 161.444 490.374 158.944 Q492.527 156.421 492.527 152.254 L492.527 151.305 L488.291 151.305 M496.786 149.546 L496.786 164.338 L492.527 164.338 L492.527 160.402 Q491.069 162.763 488.893 163.898 Q486.717 165.009 483.569 165.009 Q479.587 165.009 477.226 162.787 Q474.888 160.541 474.888 156.791 Q474.888 152.416 477.805 150.194 Q480.745 147.972 486.555 147.972 L492.527 147.972 L492.527 147.555 Q492.527 144.615 490.582 143.018 Q488.661 141.398 485.166 141.398 Q482.944 141.398 480.837 141.93 Q478.731 142.463 476.786 143.527 L476.786 139.592 Q479.124 138.69 481.323 138.25 Q483.522 137.787 485.606 137.787 Q491.231 137.787 494.008 140.703 Q496.786 143.62 496.786 149.546 Z\" fill=\"#000000\" fill-rule=\"evenodd\" fill-opacity=\"1\" /><path clip-path=\"url(#clip290)\" d=\"M509.772 131.051 L509.772 138.412 L518.545 138.412 L518.545 141.722 L509.772 141.722 L509.772 155.796 Q509.772 158.967 510.629 159.87 Q511.508 160.773 514.17 160.773 L518.545 160.773 L518.545 164.338 L514.17 164.338 Q509.24 164.338 507.365 162.509 Q505.49 160.657 505.49 155.796 L505.49 141.722 L502.365 141.722 L502.365 138.412 L505.49 138.412 L505.49 131.051 L509.772 131.051 Z\" fill=\"#000000\" fill-rule=\"evenodd\" fill-opacity=\"1\" /><path clip-path=\"url(#clip290)\" d=\"M535.929 151.305 Q530.767 151.305 528.777 152.486 Q526.786 153.666 526.786 156.514 Q526.786 158.782 528.267 160.125 Q529.772 161.444 532.342 161.444 Q535.883 161.444 538.013 158.944 Q540.166 156.421 540.166 152.254 L540.166 151.305 L535.929 151.305 M544.425 149.546 L544.425 164.338 L540.166 164.338 L540.166 160.402 Q538.707 162.763 536.531 163.898 Q534.355 165.009 531.207 165.009 Q527.226 165.009 524.865 162.787 Q522.527 160.541 522.527 156.791 Q522.527 152.416 525.443 150.194 Q528.383 147.972 534.193 147.972 L540.166 147.972 L540.166 147.555 Q540.166 144.615 538.221 143.018 Q536.3 141.398 532.804 141.398 Q530.582 141.398 528.476 141.93 Q526.369 142.463 524.425 143.527 L524.425 139.592 Q526.763 138.69 528.962 138.25 Q531.161 137.787 533.244 137.787 Q538.869 137.787 541.647 140.703 Q544.425 143.62 544.425 149.546 Z\" fill=\"#000000\" fill-rule=\"evenodd\" fill-opacity=\"1\" /><polyline clip-path=\"url(#clip290)\" style=\"stroke:#e26f46; stroke-linecap:round; stroke-linejoin:round; stroke-width:4; stroke-opacity:1; fill:none\" points=\"275.484,198.898 420.41,198.898 \"/>\n",
       "<path clip-path=\"url(#clip290)\" d=\"M444.564 181.618 L473.8 181.618 L473.8 185.553 L461.532 185.553 L461.532 216.178 L456.833 216.178 L456.833 185.553 L444.564 185.553 L444.564 181.618 Z\" fill=\"#000000\" fill-rule=\"evenodd\" fill-opacity=\"1\" /><path clip-path=\"url(#clip290)\" d=\"M486.184 194.233 Q485.467 193.817 484.61 193.631 Q483.777 193.423 482.758 193.423 Q479.147 193.423 477.203 195.784 Q475.282 198.122 475.282 202.52 L475.282 216.178 L470.999 216.178 L470.999 190.252 L475.282 190.252 L475.282 194.28 Q476.624 191.918 478.777 190.784 Q480.93 189.627 484.008 189.627 Q484.448 189.627 484.981 189.696 Q485.513 189.743 486.161 189.858 L486.184 194.233 Z\" fill=\"#000000\" fill-rule=\"evenodd\" fill-opacity=\"1\" /><path clip-path=\"url(#clip290)\" d=\"M490.212 205.946 L490.212 190.252 L494.471 190.252 L494.471 205.784 Q494.471 209.465 495.907 211.316 Q497.342 213.145 500.212 213.145 Q503.661 213.145 505.652 210.946 Q507.666 208.747 507.666 204.951 L507.666 190.252 L511.925 190.252 L511.925 216.178 L507.666 216.178 L507.666 212.196 Q506.115 214.557 504.055 215.715 Q502.018 216.849 499.309 216.849 Q494.842 216.849 492.527 214.071 Q490.212 211.293 490.212 205.946 M500.93 189.627 L500.93 189.627 Z\" fill=\"#000000\" fill-rule=\"evenodd\" fill-opacity=\"1\" /><path clip-path=\"url(#clip290)\" d=\"M542.874 202.15 L542.874 204.233 L523.291 204.233 Q523.568 208.631 525.93 210.946 Q528.314 213.238 532.55 213.238 Q535.004 213.238 537.295 212.636 Q539.61 212.034 541.879 210.83 L541.879 214.858 Q539.587 215.83 537.179 216.34 Q534.772 216.849 532.295 216.849 Q526.092 216.849 522.457 213.238 Q518.846 209.627 518.846 203.469 Q518.846 197.104 522.272 193.377 Q525.721 189.627 531.554 189.627 Q536.786 189.627 539.818 193.006 Q542.874 196.363 542.874 202.15 M538.615 200.9 Q538.568 197.405 536.647 195.321 Q534.749 193.238 531.601 193.238 Q528.036 193.238 525.883 195.252 Q523.754 197.266 523.43 200.923 L538.615 200.9 Z\" fill=\"#000000\" fill-rule=\"evenodd\" fill-opacity=\"1\" /><path clip-path=\"url(#clip290)\" d=\"M583.591 191.247 L583.591 195.229 Q581.786 194.233 579.957 193.747 Q578.151 193.238 576.3 193.238 Q572.156 193.238 569.864 195.877 Q567.573 198.492 567.573 203.238 Q567.573 207.983 569.864 210.622 Q572.156 213.238 576.3 213.238 Q578.151 213.238 579.957 212.752 Q581.786 212.242 583.591 211.247 L583.591 215.182 Q581.809 216.016 579.888 216.432 Q577.989 216.849 575.837 216.849 Q569.98 216.849 566.531 213.168 Q563.082 209.488 563.082 203.238 Q563.082 196.895 566.554 193.261 Q570.05 189.627 576.114 189.627 Q578.082 189.627 579.957 190.043 Q581.832 190.437 583.591 191.247 Z\" fill=\"#000000\" fill-rule=\"evenodd\" fill-opacity=\"1\" /><path clip-path=\"url(#clip290)\" d=\"M590.559 205.946 L590.559 190.252 L594.818 190.252 L594.818 205.784 Q594.818 209.465 596.253 211.316 Q597.688 213.145 600.559 213.145 Q604.008 213.145 605.999 210.946 Q608.012 208.747 608.012 204.951 L608.012 190.252 L612.272 190.252 L612.272 216.178 L608.012 216.178 L608.012 212.196 Q606.461 214.557 604.401 215.715 Q602.364 216.849 599.656 216.849 Q595.188 216.849 592.874 214.071 Q590.559 211.293 590.559 205.946 M601.276 189.627 L601.276 189.627 Z\" fill=\"#000000\" fill-rule=\"evenodd\" fill-opacity=\"1\" /><path clip-path=\"url(#clip290)\" d=\"M636.068 194.233 Q635.35 193.817 634.494 193.631 Q633.66 193.423 632.642 193.423 Q629.031 193.423 627.086 195.784 Q625.165 198.122 625.165 202.52 L625.165 216.178 L620.883 216.178 L620.883 190.252 L625.165 190.252 L625.165 194.28 Q626.508 191.918 628.66 190.784 Q630.813 189.627 633.892 189.627 Q634.332 189.627 634.864 189.696 Q635.397 189.743 636.045 189.858 L636.068 194.233 Z\" fill=\"#000000\" fill-rule=\"evenodd\" fill-opacity=\"1\" /><path clip-path=\"url(#clip290)\" d=\"M637.48 190.252 L641.994 190.252 L650.096 212.011 L658.197 190.252 L662.711 190.252 L652.989 216.178 L647.202 216.178 L637.48 190.252 Z\" fill=\"#000000\" fill-rule=\"evenodd\" fill-opacity=\"1\" /><path clip-path=\"url(#clip290)\" d=\"M690.767 202.15 L690.767 204.233 L671.183 204.233 Q671.461 208.631 673.822 210.946 Q676.206 213.238 680.443 213.238 Q682.896 213.238 685.188 212.636 Q687.503 212.034 689.771 210.83 L689.771 214.858 Q687.48 215.83 685.072 216.34 Q682.665 216.849 680.188 216.849 Q673.984 216.849 670.35 213.238 Q666.739 209.627 666.739 203.469 Q666.739 197.104 670.165 193.377 Q673.614 189.627 679.447 189.627 Q684.679 189.627 687.711 193.006 Q690.767 196.363 690.767 202.15 M686.507 200.9 Q686.461 197.405 684.54 195.321 Q682.642 193.238 679.494 193.238 Q675.929 193.238 673.776 195.252 Q671.646 197.266 671.322 200.923 L686.507 200.9 Z\" fill=\"#000000\" fill-rule=\"evenodd\" fill-opacity=\"1\" /><polyline clip-path=\"url(#clip290)\" style=\"stroke:#3da44d; stroke-linecap:round; stroke-linejoin:round; stroke-width:4; stroke-opacity:1; fill:none\" points=\"275.484,250.738 420.41,250.738 \"/>\n",
       "<path clip-path=\"url(#clip290)\" d=\"M444.564 233.458 L464.425 233.458 L464.425 237.393 L449.24 237.393 L449.24 247.578 L462.944 247.578 L462.944 251.513 L449.24 251.513 L449.24 268.018 L444.564 268.018 L444.564 233.458 Z\" fill=\"#000000\" fill-rule=\"evenodd\" fill-opacity=\"1\" /><path clip-path=\"url(#clip290)\" d=\"M468.198 242.092 L472.458 242.092 L472.458 268.018 L468.198 268.018 L468.198 242.092 M468.198 231.999 L472.458 231.999 L472.458 237.393 L468.198 237.393 L468.198 231.999 Z\" fill=\"#000000\" fill-rule=\"evenodd\" fill-opacity=\"1\" /><path clip-path=\"url(#clip290)\" d=\"M485.583 234.731 L485.583 242.092 L494.356 242.092 L494.356 245.402 L485.583 245.402 L485.583 259.476 Q485.583 262.647 486.439 263.55 Q487.319 264.453 489.981 264.453 L494.356 264.453 L494.356 268.018 L489.981 268.018 Q485.05 268.018 483.175 266.189 Q481.3 264.337 481.3 259.476 L481.3 245.402 L478.175 245.402 L478.175 242.092 L481.3 242.092 L481.3 234.731 L485.583 234.731 Z\" fill=\"#000000\" fill-rule=\"evenodd\" fill-opacity=\"1\" /><path clip-path=\"url(#clip290)\" d=\"M504.17 234.731 L504.17 242.092 L512.943 242.092 L512.943 245.402 L504.17 245.402 L504.17 259.476 Q504.17 262.647 505.027 263.55 Q505.906 264.453 508.568 264.453 L512.943 264.453 L512.943 268.018 L508.568 268.018 Q503.638 268.018 501.763 266.189 Q499.888 264.337 499.888 259.476 L499.888 245.402 L496.763 245.402 L496.763 242.092 L499.888 242.092 L499.888 234.731 L504.17 234.731 Z\" fill=\"#000000\" fill-rule=\"evenodd\" fill-opacity=\"1\" /><path clip-path=\"url(#clip290)\" d=\"M540.721 253.99 L540.721 256.073 L521.138 256.073 Q521.416 260.471 523.777 262.786 Q526.161 265.078 530.397 265.078 Q532.851 265.078 535.142 264.476 Q537.457 263.874 539.726 262.67 L539.726 266.698 Q537.434 267.67 535.027 268.18 Q532.619 268.689 530.142 268.689 Q523.939 268.689 520.305 265.078 Q516.693 261.467 516.693 255.309 Q516.693 248.944 520.119 245.217 Q523.568 241.467 529.402 241.467 Q534.633 241.467 537.666 244.846 Q540.721 248.203 540.721 253.99 M536.462 252.74 Q536.416 249.245 534.494 247.161 Q532.596 245.078 529.448 245.078 Q525.883 245.078 523.73 247.092 Q521.601 249.106 521.277 252.763 L536.462 252.74 Z\" fill=\"#000000\" fill-rule=\"evenodd\" fill-opacity=\"1\" /><path clip-path=\"url(#clip290)\" d=\"M564.772 246.027 L564.772 231.999 L569.031 231.999 L569.031 268.018 L564.772 268.018 L564.772 264.129 Q563.429 266.443 561.369 267.578 Q559.332 268.689 556.462 268.689 Q551.763 268.689 548.8 264.939 Q545.86 261.189 545.86 255.078 Q545.86 248.967 548.8 245.217 Q551.763 241.467 556.462 241.467 Q559.332 241.467 561.369 242.601 Q563.429 243.712 564.772 246.027 M550.258 255.078 Q550.258 259.777 552.179 262.462 Q554.124 265.124 557.503 265.124 Q560.883 265.124 562.827 262.462 Q564.772 259.777 564.772 255.078 Q564.772 250.379 562.827 247.717 Q560.883 245.032 557.503 245.032 Q554.124 245.032 552.179 247.717 Q550.258 250.379 550.258 255.078 Z\" fill=\"#000000\" fill-rule=\"evenodd\" fill-opacity=\"1\" /><path clip-path=\"url(#clip290)\" d=\"M611.531 243.087 L611.531 247.069 Q609.725 246.073 607.897 245.587 Q606.091 245.078 604.239 245.078 Q600.096 245.078 597.804 247.717 Q595.512 250.332 595.512 255.078 Q595.512 259.823 597.804 262.462 Q600.096 265.078 604.239 265.078 Q606.091 265.078 607.897 264.592 Q609.725 264.082 611.531 263.087 L611.531 267.022 Q609.749 267.856 607.827 268.272 Q605.929 268.689 603.776 268.689 Q597.92 268.689 594.471 265.008 Q591.022 261.328 591.022 255.078 Q591.022 248.735 594.494 245.101 Q597.989 241.467 604.054 241.467 Q606.022 241.467 607.897 241.883 Q609.772 242.277 611.531 243.087 Z\" fill=\"#000000\" fill-rule=\"evenodd\" fill-opacity=\"1\" /><path clip-path=\"url(#clip290)\" d=\"M618.498 257.786 L618.498 242.092 L622.758 242.092 L622.758 257.624 Q622.758 261.305 624.193 263.156 Q625.628 264.985 628.498 264.985 Q631.947 264.985 633.938 262.786 Q635.952 260.587 635.952 256.791 L635.952 242.092 L640.211 242.092 L640.211 268.018 L635.952 268.018 L635.952 264.036 Q634.401 266.397 632.341 267.555 Q630.304 268.689 627.596 268.689 Q623.128 268.689 620.813 265.911 Q618.498 263.133 618.498 257.786 M629.216 241.467 L629.216 241.467 Z\" fill=\"#000000\" fill-rule=\"evenodd\" fill-opacity=\"1\" /><path clip-path=\"url(#clip290)\" d=\"M664.007 246.073 Q663.29 245.657 662.433 245.471 Q661.6 245.263 660.582 245.263 Q656.97 245.263 655.026 247.624 Q653.105 249.962 653.105 254.36 L653.105 268.018 L648.822 268.018 L648.822 242.092 L653.105 242.092 L653.105 246.12 Q654.447 243.758 656.6 242.624 Q658.753 241.467 661.832 241.467 Q662.271 241.467 662.804 241.536 Q663.336 241.583 663.984 241.698 L664.007 246.073 Z\" fill=\"#000000\" fill-rule=\"evenodd\" fill-opacity=\"1\" /><path clip-path=\"url(#clip290)\" d=\"M665.42 242.092 L669.933 242.092 L678.035 263.851 L686.137 242.092 L690.651 242.092 L680.929 268.018 L675.142 268.018 L665.42 242.092 Z\" fill=\"#000000\" fill-rule=\"evenodd\" fill-opacity=\"1\" /><path clip-path=\"url(#clip290)\" d=\"M718.706 253.99 L718.706 256.073 L699.123 256.073 Q699.401 260.471 701.762 262.786 Q704.146 265.078 708.382 265.078 Q710.836 265.078 713.128 264.476 Q715.442 263.874 717.711 262.67 L717.711 266.698 Q715.419 267.67 713.012 268.18 Q710.604 268.689 708.128 268.689 Q701.924 268.689 698.29 265.078 Q694.679 261.467 694.679 255.309 Q694.679 248.944 698.105 245.217 Q701.554 241.467 707.387 241.467 Q712.618 241.467 715.651 244.846 Q718.706 248.203 718.706 253.99 M714.447 252.74 Q714.401 249.245 712.479 247.161 Q710.581 245.078 707.433 245.078 Q703.868 245.078 701.716 247.092 Q699.586 249.106 699.262 252.763 L714.447 252.74 Z\" fill=\"#000000\" fill-rule=\"evenodd\" fill-opacity=\"1\" /></svg>\n"
      ]
     },
     "execution_count": 9,
     "metadata": {},
     "output_type": "execute_result"
    }
   ],
   "source": [
    "x = collect(-10:1:10)\n",
    "y_true = (x .^ 2) .+ (3 .* x) .- 2\n",
    "d = Normal(0,50)\n",
    "gaussian = rand(d,length(x))\n",
    "y_observed = y_true .+ gaussian\n",
    "using Plots\n",
    "scatter(x,y_observed, label=\"data\")\n",
    "plot!(x,y_true, label=\"True curve\")\n",
    "line_fit = Polynomials.fit(x,y_observed,10)\n",
    "y_fitted = line_fit.(x)\n",
    "plot!(x,y_fitted, label=\"Fitted curve\")"
   ]
  },
  {
   "cell_type": "markdown",
   "id": "36028ee0",
   "metadata": {
    "id": "36028ee0"
   },
   "source": [
    "### 2.6\n",
    "\n",
    "1. Create a new independent parameter x_fit ranging from -11 to 11 with an increment of 0.1\n",
    "2. Plot the same three plots as in 2.3 again but apply the tenth order polynomial to x_fit instead of x\n"
   ]
  },
  {
   "cell_type": "code",
   "execution_count": 10,
   "id": "6c67a977",
   "metadata": {
    "executionInfo": {
     "elapsed": 1087,
     "status": "aborted",
     "timestamp": 1676536839530,
     "user": {
      "displayName": "Haleh Akrami",
      "userId": "17790894529808852975"
     },
     "user_tz": 480
    },
    "id": "6c67a977"
   },
   "outputs": [
    {
     "data": {
      "image/svg+xml": [
       "<?xml version=\"1.0\" encoding=\"utf-8\"?>\n",
       "<svg xmlns=\"http://www.w3.org/2000/svg\" xmlns:xlink=\"http://www.w3.org/1999/xlink\" width=\"600\" height=\"400\" viewBox=\"0 0 2400 1600\">\n",
       "<defs>\n",
       "  <clipPath id=\"clip330\">\n",
       "    <rect x=\"0\" y=\"0\" width=\"2400\" height=\"1600\"/>\n",
       "  </clipPath>\n",
       "</defs>\n",
       "<path clip-path=\"url(#clip330)\" d=\"M0 1600 L2400 1600 L2400 0 L0 0  Z\" fill=\"#ffffff\" fill-rule=\"evenodd\" fill-opacity=\"1\"/>\n",
       "<defs>\n",
       "  <clipPath id=\"clip331\">\n",
       "    <rect x=\"480\" y=\"0\" width=\"1681\" height=\"1600\"/>\n",
       "  </clipPath>\n",
       "</defs>\n",
       "<path clip-path=\"url(#clip330)\" d=\"M169.121 1486.45 L2352.76 1486.45 L2352.76 47.2441 L169.121 47.2441  Z\" fill=\"#ffffff\" fill-rule=\"evenodd\" fill-opacity=\"1\"/>\n",
       "<defs>\n",
       "  <clipPath id=\"clip332\">\n",
       "    <rect x=\"169\" y=\"47\" width=\"2185\" height=\"1440\"/>\n",
       "  </clipPath>\n",
       "</defs>\n",
       "<polyline clip-path=\"url(#clip332)\" style=\"stroke:#000000; stroke-linecap:round; stroke-linejoin:round; stroke-width:2; stroke-opacity:0.1; fill:none\" points=\"324.56,1486.45 324.56,47.2441 \"/>\n",
       "<polyline clip-path=\"url(#clip332)\" style=\"stroke:#000000; stroke-linecap:round; stroke-linejoin:round; stroke-width:2; stroke-opacity:0.1; fill:none\" points=\"792.749,1486.45 792.749,47.2441 \"/>\n",
       "<polyline clip-path=\"url(#clip332)\" style=\"stroke:#000000; stroke-linecap:round; stroke-linejoin:round; stroke-width:2; stroke-opacity:0.1; fill:none\" points=\"1260.94,1486.45 1260.94,47.2441 \"/>\n",
       "<polyline clip-path=\"url(#clip332)\" style=\"stroke:#000000; stroke-linecap:round; stroke-linejoin:round; stroke-width:2; stroke-opacity:0.1; fill:none\" points=\"1729.13,1486.45 1729.13,47.2441 \"/>\n",
       "<polyline clip-path=\"url(#clip332)\" style=\"stroke:#000000; stroke-linecap:round; stroke-linejoin:round; stroke-width:2; stroke-opacity:0.1; fill:none\" points=\"2197.32,1486.45 2197.32,47.2441 \"/>\n",
       "<polyline clip-path=\"url(#clip330)\" style=\"stroke:#000000; stroke-linecap:round; stroke-linejoin:round; stroke-width:4; stroke-opacity:1; fill:none\" points=\"169.121,1486.45 2352.76,1486.45 \"/>\n",
       "<polyline clip-path=\"url(#clip330)\" style=\"stroke:#000000; stroke-linecap:round; stroke-linejoin:round; stroke-width:4; stroke-opacity:1; fill:none\" points=\"324.56,1486.45 324.56,1467.55 \"/>\n",
       "<polyline clip-path=\"url(#clip330)\" style=\"stroke:#000000; stroke-linecap:round; stroke-linejoin:round; stroke-width:4; stroke-opacity:1; fill:none\" points=\"792.749,1486.45 792.749,1467.55 \"/>\n",
       "<polyline clip-path=\"url(#clip330)\" style=\"stroke:#000000; stroke-linecap:round; stroke-linejoin:round; stroke-width:4; stroke-opacity:1; fill:none\" points=\"1260.94,1486.45 1260.94,1467.55 \"/>\n",
       "<polyline clip-path=\"url(#clip330)\" style=\"stroke:#000000; stroke-linecap:round; stroke-linejoin:round; stroke-width:4; stroke-opacity:1; fill:none\" points=\"1729.13,1486.45 1729.13,1467.55 \"/>\n",
       "<polyline clip-path=\"url(#clip330)\" style=\"stroke:#000000; stroke-linecap:round; stroke-linejoin:round; stroke-width:4; stroke-opacity:1; fill:none\" points=\"2197.32,1486.45 2197.32,1467.55 \"/>\n",
       "<path clip-path=\"url(#clip330)\" d=\"M278.623 1532.02 L308.299 1532.02 L308.299 1535.95 L278.623 1535.95 L278.623 1532.02 Z\" fill=\"#000000\" fill-rule=\"evenodd\" fill-opacity=\"1\" /><path clip-path=\"url(#clip330)\" d=\"M319.201 1544.91 L326.84 1544.91 L326.84 1518.55 L318.53 1520.21 L318.53 1515.95 L326.794 1514.29 L331.47 1514.29 L331.47 1544.91 L339.109 1544.91 L339.109 1548.85 L319.201 1548.85 L319.201 1544.91 Z\" fill=\"#000000\" fill-rule=\"evenodd\" fill-opacity=\"1\" /><path clip-path=\"url(#clip330)\" d=\"M358.553 1517.37 Q354.942 1517.37 353.113 1520.93 Q351.308 1524.47 351.308 1531.6 Q351.308 1538.71 353.113 1542.27 Q354.942 1545.82 358.553 1545.82 Q362.187 1545.82 363.993 1542.27 Q365.821 1538.71 365.821 1531.6 Q365.821 1524.47 363.993 1520.93 Q362.187 1517.37 358.553 1517.37 M358.553 1513.66 Q364.363 1513.66 367.419 1518.27 Q370.497 1522.85 370.497 1531.6 Q370.497 1540.33 367.419 1544.94 Q364.363 1549.52 358.553 1549.52 Q352.743 1549.52 349.664 1544.94 Q346.609 1540.33 346.609 1531.6 Q346.609 1522.85 349.664 1518.27 Q352.743 1513.66 358.553 1513.66 Z\" fill=\"#000000\" fill-rule=\"evenodd\" fill-opacity=\"1\" /><path clip-path=\"url(#clip330)\" d=\"M762.391 1532.02 L792.067 1532.02 L792.067 1535.95 L762.391 1535.95 L762.391 1532.02 Z\" fill=\"#000000\" fill-rule=\"evenodd\" fill-opacity=\"1\" /><path clip-path=\"url(#clip330)\" d=\"M802.205 1514.29 L820.562 1514.29 L820.562 1518.22 L806.488 1518.22 L806.488 1526.7 Q807.506 1526.35 808.525 1526.19 Q809.543 1526 810.562 1526 Q816.349 1526 819.728 1529.17 Q823.108 1532.34 823.108 1537.76 Q823.108 1543.34 819.636 1546.44 Q816.164 1549.52 809.844 1549.52 Q807.668 1549.52 805.4 1549.15 Q803.154 1548.78 800.747 1548.04 L800.747 1543.34 Q802.83 1544.47 805.053 1545.03 Q807.275 1545.58 809.752 1545.58 Q813.756 1545.58 816.094 1543.48 Q818.432 1541.37 818.432 1537.76 Q818.432 1534.15 816.094 1532.04 Q813.756 1529.94 809.752 1529.94 Q807.877 1529.94 806.002 1530.35 Q804.15 1530.77 802.205 1531.65 L802.205 1514.29 Z\" fill=\"#000000\" fill-rule=\"evenodd\" fill-opacity=\"1\" /><path clip-path=\"url(#clip330)\" d=\"M1260.94 1517.37 Q1257.33 1517.37 1255.5 1520.93 Q1253.69 1524.47 1253.69 1531.6 Q1253.69 1538.71 1255.5 1542.27 Q1257.33 1545.82 1260.94 1545.82 Q1264.57 1545.82 1266.38 1542.27 Q1268.21 1538.71 1268.21 1531.6 Q1268.21 1524.47 1266.38 1520.93 Q1264.57 1517.37 1260.94 1517.37 M1260.94 1513.66 Q1266.75 1513.66 1269.8 1518.27 Q1272.88 1522.85 1272.88 1531.6 Q1272.88 1540.33 1269.8 1544.94 Q1266.75 1549.52 1260.94 1549.52 Q1255.13 1549.52 1252.05 1544.94 Q1248.99 1540.33 1248.99 1531.6 Q1248.99 1522.85 1252.05 1518.27 Q1255.13 1513.66 1260.94 1513.66 Z\" fill=\"#000000\" fill-rule=\"evenodd\" fill-opacity=\"1\" /><path clip-path=\"url(#clip330)\" d=\"M1719.41 1514.29 L1737.76 1514.29 L1737.76 1518.22 L1723.69 1518.22 L1723.69 1526.7 Q1724.71 1526.35 1725.73 1526.19 Q1726.74 1526 1727.76 1526 Q1733.55 1526 1736.93 1529.17 Q1740.31 1532.34 1740.31 1537.76 Q1740.31 1543.34 1736.84 1546.44 Q1733.36 1549.52 1727.04 1549.52 Q1724.87 1549.52 1722.6 1549.15 Q1720.35 1548.78 1717.95 1548.04 L1717.95 1543.34 Q1720.03 1544.47 1722.25 1545.03 Q1724.48 1545.58 1726.95 1545.58 Q1730.96 1545.58 1733.29 1543.48 Q1735.63 1541.37 1735.63 1537.76 Q1735.63 1534.15 1733.29 1532.04 Q1730.96 1529.94 1726.95 1529.94 Q1725.08 1529.94 1723.2 1530.35 Q1721.35 1530.77 1719.41 1531.65 L1719.41 1514.29 Z\" fill=\"#000000\" fill-rule=\"evenodd\" fill-opacity=\"1\" /><path clip-path=\"url(#clip330)\" d=\"M2172 1544.91 L2179.64 1544.91 L2179.64 1518.55 L2171.33 1520.21 L2171.33 1515.95 L2179.6 1514.29 L2184.27 1514.29 L2184.27 1544.91 L2191.91 1544.91 L2191.91 1548.85 L2172 1548.85 L2172 1544.91 Z\" fill=\"#000000\" fill-rule=\"evenodd\" fill-opacity=\"1\" /><path clip-path=\"url(#clip330)\" d=\"M2211.36 1517.37 Q2207.75 1517.37 2205.92 1520.93 Q2204.11 1524.47 2204.11 1531.6 Q2204.11 1538.71 2205.92 1542.27 Q2207.75 1545.82 2211.36 1545.82 Q2214.99 1545.82 2216.8 1542.27 Q2218.62 1538.71 2218.62 1531.6 Q2218.62 1524.47 2216.8 1520.93 Q2214.99 1517.37 2211.36 1517.37 M2211.36 1513.66 Q2217.17 1513.66 2220.22 1518.27 Q2223.3 1522.85 2223.3 1531.6 Q2223.3 1540.33 2220.22 1544.94 Q2217.17 1549.52 2211.36 1549.52 Q2205.55 1549.52 2202.47 1544.94 Q2199.41 1540.33 2199.41 1531.6 Q2199.41 1522.85 2202.47 1518.27 Q2205.55 1513.66 2211.36 1513.66 Z\" fill=\"#000000\" fill-rule=\"evenodd\" fill-opacity=\"1\" /><polyline clip-path=\"url(#clip332)\" style=\"stroke:#000000; stroke-linecap:round; stroke-linejoin:round; stroke-width:2; stroke-opacity:0.1; fill:none\" points=\"169.121,1245.97 2352.76,1245.97 \"/>\n",
       "<polyline clip-path=\"url(#clip332)\" style=\"stroke:#000000; stroke-linecap:round; stroke-linejoin:round; stroke-width:2; stroke-opacity:0.1; fill:none\" points=\"169.121,878.556 2352.76,878.556 \"/>\n",
       "<polyline clip-path=\"url(#clip332)\" style=\"stroke:#000000; stroke-linecap:round; stroke-linejoin:round; stroke-width:2; stroke-opacity:0.1; fill:none\" points=\"169.121,511.141 2352.76,511.141 \"/>\n",
       "<polyline clip-path=\"url(#clip332)\" style=\"stroke:#000000; stroke-linecap:round; stroke-linejoin:round; stroke-width:2; stroke-opacity:0.1; fill:none\" points=\"169.121,143.725 2352.76,143.725 \"/>\n",
       "<polyline clip-path=\"url(#clip330)\" style=\"stroke:#000000; stroke-linecap:round; stroke-linejoin:round; stroke-width:4; stroke-opacity:1; fill:none\" points=\"169.121,1486.45 169.121,47.2441 \"/>\n",
       "<polyline clip-path=\"url(#clip330)\" style=\"stroke:#000000; stroke-linecap:round; stroke-linejoin:round; stroke-width:4; stroke-opacity:1; fill:none\" points=\"169.121,1245.97 188.019,1245.97 \"/>\n",
       "<polyline clip-path=\"url(#clip330)\" style=\"stroke:#000000; stroke-linecap:round; stroke-linejoin:round; stroke-width:4; stroke-opacity:1; fill:none\" points=\"169.121,878.556 188.019,878.556 \"/>\n",
       "<polyline clip-path=\"url(#clip330)\" style=\"stroke:#000000; stroke-linecap:round; stroke-linejoin:round; stroke-width:4; stroke-opacity:1; fill:none\" points=\"169.121,511.141 188.019,511.141 \"/>\n",
       "<polyline clip-path=\"url(#clip330)\" style=\"stroke:#000000; stroke-linecap:round; stroke-linejoin:round; stroke-width:4; stroke-opacity:1; fill:none\" points=\"169.121,143.725 188.019,143.725 \"/>\n",
       "<path clip-path=\"url(#clip330)\" d=\"M121.177 1231.77 Q117.566 1231.77 115.737 1235.34 Q113.932 1238.88 113.932 1246.01 Q113.932 1253.11 115.737 1256.68 Q117.566 1260.22 121.177 1260.22 Q124.811 1260.22 126.617 1256.68 Q128.445 1253.11 128.445 1246.01 Q128.445 1238.88 126.617 1235.34 Q124.811 1231.77 121.177 1231.77 M121.177 1228.07 Q126.987 1228.07 130.043 1232.67 Q133.121 1237.26 133.121 1246.01 Q133.121 1254.73 130.043 1259.34 Q126.987 1263.92 121.177 1263.92 Q115.367 1263.92 112.288 1259.34 Q109.233 1254.73 109.233 1246.01 Q109.233 1237.26 112.288 1232.67 Q115.367 1228.07 121.177 1228.07 Z\" fill=\"#000000\" fill-rule=\"evenodd\" fill-opacity=\"1\" /><path clip-path=\"url(#clip330)\" d=\"M81.0614 861.276 L99.4178 861.276 L99.4178 865.212 L85.3438 865.212 L85.3438 873.684 Q86.3623 873.337 87.3808 873.174 Q88.3993 872.989 89.4178 872.989 Q95.2049 872.989 98.5845 876.161 Q101.964 879.332 101.964 884.748 Q101.964 890.327 98.4919 893.429 Q95.0197 896.508 88.7003 896.508 Q86.5243 896.508 84.2558 896.137 Q82.0105 895.767 79.6031 895.026 L79.6031 890.327 Q81.6864 891.461 83.9086 892.017 Q86.1308 892.573 88.6077 892.573 Q92.6123 892.573 94.9502 890.466 Q97.2882 888.36 97.2882 884.748 Q97.2882 881.137 94.9502 879.031 Q92.6123 876.924 88.6077 876.924 Q86.7327 876.924 84.8577 877.341 Q83.0058 877.758 81.0614 878.637 L81.0614 861.276 Z\" fill=\"#000000\" fill-rule=\"evenodd\" fill-opacity=\"1\" /><path clip-path=\"url(#clip330)\" d=\"M121.177 864.355 Q117.566 864.355 115.737 867.92 Q113.932 871.462 113.932 878.591 Q113.932 885.698 115.737 889.262 Q117.566 892.804 121.177 892.804 Q124.811 892.804 126.617 889.262 Q128.445 885.698 128.445 878.591 Q128.445 871.462 126.617 867.92 Q124.811 864.355 121.177 864.355 M121.177 860.651 Q126.987 860.651 130.043 865.258 Q133.121 869.841 133.121 878.591 Q133.121 887.318 130.043 891.924 Q126.987 896.508 121.177 896.508 Q115.367 896.508 112.288 891.924 Q109.233 887.318 109.233 878.591 Q109.233 869.841 112.288 865.258 Q115.367 860.651 121.177 860.651 Z\" fill=\"#000000\" fill-rule=\"evenodd\" fill-opacity=\"1\" /><path clip-path=\"url(#clip330)\" d=\"M51.6634 524.486 L59.3023 524.486 L59.3023 498.12 L50.9921 499.787 L50.9921 495.527 L59.256 493.861 L63.9319 493.861 L63.9319 524.486 L71.5707 524.486 L71.5707 528.421 L51.6634 528.421 L51.6634 524.486 Z\" fill=\"#000000\" fill-rule=\"evenodd\" fill-opacity=\"1\" /><path clip-path=\"url(#clip330)\" d=\"M91.0151 496.939 Q87.404 496.939 85.5753 500.504 Q83.7697 504.046 83.7697 511.175 Q83.7697 518.282 85.5753 521.847 Q87.404 525.388 91.0151 525.388 Q94.6493 525.388 96.4548 521.847 Q98.2835 518.282 98.2835 511.175 Q98.2835 504.046 96.4548 500.504 Q94.6493 496.939 91.0151 496.939 M91.0151 493.236 Q96.8252 493.236 99.8808 497.842 Q102.959 502.425 102.959 511.175 Q102.959 519.902 99.8808 524.509 Q96.8252 529.092 91.0151 529.092 Q85.2049 529.092 82.1262 524.509 Q79.0707 519.902 79.0707 511.175 Q79.0707 502.425 82.1262 497.842 Q85.2049 493.236 91.0151 493.236 Z\" fill=\"#000000\" fill-rule=\"evenodd\" fill-opacity=\"1\" /><path clip-path=\"url(#clip330)\" d=\"M121.177 496.939 Q117.566 496.939 115.737 500.504 Q113.932 504.046 113.932 511.175 Q113.932 518.282 115.737 521.847 Q117.566 525.388 121.177 525.388 Q124.811 525.388 126.617 521.847 Q128.445 518.282 128.445 511.175 Q128.445 504.046 126.617 500.504 Q124.811 496.939 121.177 496.939 M121.177 493.236 Q126.987 493.236 130.043 497.842 Q133.121 502.425 133.121 511.175 Q133.121 519.902 130.043 524.509 Q126.987 529.092 121.177 529.092 Q115.367 529.092 112.288 524.509 Q109.233 519.902 109.233 511.175 Q109.233 502.425 112.288 497.842 Q115.367 493.236 121.177 493.236 Z\" fill=\"#000000\" fill-rule=\"evenodd\" fill-opacity=\"1\" /><path clip-path=\"url(#clip330)\" d=\"M51.6634 157.07 L59.3023 157.07 L59.3023 130.704 L50.9921 132.371 L50.9921 128.112 L59.256 126.445 L63.9319 126.445 L63.9319 157.07 L71.5707 157.07 L71.5707 161.005 L51.6634 161.005 L51.6634 157.07 Z\" fill=\"#000000\" fill-rule=\"evenodd\" fill-opacity=\"1\" /><path clip-path=\"url(#clip330)\" d=\"M81.0614 126.445 L99.4178 126.445 L99.4178 130.38 L85.3438 130.38 L85.3438 138.852 Q86.3623 138.505 87.3808 138.343 Q88.3993 138.158 89.4178 138.158 Q95.2049 138.158 98.5845 141.329 Q101.964 144.5 101.964 149.917 Q101.964 155.496 98.4919 158.598 Q95.0197 161.676 88.7003 161.676 Q86.5243 161.676 84.2558 161.306 Q82.0105 160.936 79.6031 160.195 L79.6031 155.496 Q81.6864 156.63 83.9086 157.186 Q86.1308 157.741 88.6077 157.741 Q92.6123 157.741 94.9502 155.635 Q97.2882 153.528 97.2882 149.917 Q97.2882 146.306 94.9502 144.199 Q92.6123 142.093 88.6077 142.093 Q86.7327 142.093 84.8577 142.51 Q83.0058 142.926 81.0614 143.806 L81.0614 126.445 Z\" fill=\"#000000\" fill-rule=\"evenodd\" fill-opacity=\"1\" /><path clip-path=\"url(#clip330)\" d=\"M121.177 129.524 Q117.566 129.524 115.737 133.088 Q113.932 136.63 113.932 143.76 Q113.932 150.866 115.737 154.431 Q117.566 157.973 121.177 157.973 Q124.811 157.973 126.617 154.431 Q128.445 150.866 128.445 143.76 Q128.445 136.63 126.617 133.088 Q124.811 129.524 121.177 129.524 M121.177 125.82 Q126.987 125.82 130.043 130.426 Q133.121 135.01 133.121 143.76 Q133.121 152.486 130.043 157.093 Q126.987 161.676 121.177 161.676 Q115.367 161.676 112.288 157.093 Q109.233 152.486 109.233 143.76 Q109.233 135.01 112.288 130.426 Q115.367 125.82 121.177 125.82 Z\" fill=\"#000000\" fill-rule=\"evenodd\" fill-opacity=\"1\" /><circle clip-path=\"url(#clip332)\" cx=\"230.922\" cy=\"478.539\" r=\"14.4\" fill=\"#009af9\" fill-rule=\"evenodd\" fill-opacity=\"1\" stroke=\"#000000\" stroke-opacity=\"1\" stroke-width=\"3.2\"/>\n",
       "<circle clip-path=\"url(#clip332)\" cx=\"240.286\" cy=\"568.775\" r=\"14.4\" fill=\"#009af9\" fill-rule=\"evenodd\" fill-opacity=\"1\" stroke=\"#000000\" stroke-opacity=\"1\" stroke-width=\"3.2\"/>\n",
       "<circle clip-path=\"url(#clip332)\" cx=\"249.65\" cy=\"619.01\" r=\"14.4\" fill=\"#009af9\" fill-rule=\"evenodd\" fill-opacity=\"1\" stroke=\"#000000\" stroke-opacity=\"1\" stroke-width=\"3.2\"/>\n",
       "<circle clip-path=\"url(#clip332)\" cx=\"259.014\" cy=\"603.973\" r=\"14.4\" fill=\"#009af9\" fill-rule=\"evenodd\" fill-opacity=\"1\" stroke=\"#000000\" stroke-opacity=\"1\" stroke-width=\"3.2\"/>\n",
       "<circle clip-path=\"url(#clip332)\" cx=\"268.377\" cy=\"691.784\" r=\"14.4\" fill=\"#009af9\" fill-rule=\"evenodd\" fill-opacity=\"1\" stroke=\"#000000\" stroke-opacity=\"1\" stroke-width=\"3.2\"/>\n",
       "<circle clip-path=\"url(#clip332)\" cx=\"277.741\" cy=\"570.57\" r=\"14.4\" fill=\"#009af9\" fill-rule=\"evenodd\" fill-opacity=\"1\" stroke=\"#000000\" stroke-opacity=\"1\" stroke-width=\"3.2\"/>\n",
       "<circle clip-path=\"url(#clip332)\" cx=\"287.105\" cy=\"683.418\" r=\"14.4\" fill=\"#009af9\" fill-rule=\"evenodd\" fill-opacity=\"1\" stroke=\"#000000\" stroke-opacity=\"1\" stroke-width=\"3.2\"/>\n",
       "<circle clip-path=\"url(#clip332)\" cx=\"296.469\" cy=\"677.782\" r=\"14.4\" fill=\"#009af9\" fill-rule=\"evenodd\" fill-opacity=\"1\" stroke=\"#000000\" stroke-opacity=\"1\" stroke-width=\"3.2\"/>\n",
       "<circle clip-path=\"url(#clip332)\" cx=\"305.833\" cy=\"841.521\" r=\"14.4\" fill=\"#009af9\" fill-rule=\"evenodd\" fill-opacity=\"1\" stroke=\"#000000\" stroke-opacity=\"1\" stroke-width=\"3.2\"/>\n",
       "<circle clip-path=\"url(#clip332)\" cx=\"315.196\" cy=\"676.758\" r=\"14.4\" fill=\"#009af9\" fill-rule=\"evenodd\" fill-opacity=\"1\" stroke=\"#000000\" stroke-opacity=\"1\" stroke-width=\"3.2\"/>\n",
       "<circle clip-path=\"url(#clip332)\" cx=\"324.56\" cy=\"602.503\" r=\"14.4\" fill=\"#009af9\" fill-rule=\"evenodd\" fill-opacity=\"1\" stroke=\"#000000\" stroke-opacity=\"1\" stroke-width=\"3.2\"/>\n",
       "<circle clip-path=\"url(#clip332)\" cx=\"333.924\" cy=\"823.897\" r=\"14.4\" fill=\"#009af9\" fill-rule=\"evenodd\" fill-opacity=\"1\" stroke=\"#000000\" stroke-opacity=\"1\" stroke-width=\"3.2\"/>\n",
       "<circle clip-path=\"url(#clip332)\" cx=\"343.288\" cy=\"823.413\" r=\"14.4\" fill=\"#009af9\" fill-rule=\"evenodd\" fill-opacity=\"1\" stroke=\"#000000\" stroke-opacity=\"1\" stroke-width=\"3.2\"/>\n",
       "<circle clip-path=\"url(#clip332)\" cx=\"352.651\" cy=\"808.568\" r=\"14.4\" fill=\"#009af9\" fill-rule=\"evenodd\" fill-opacity=\"1\" stroke=\"#000000\" stroke-opacity=\"1\" stroke-width=\"3.2\"/>\n",
       "<circle clip-path=\"url(#clip332)\" cx=\"362.015\" cy=\"798.203\" r=\"14.4\" fill=\"#009af9\" fill-rule=\"evenodd\" fill-opacity=\"1\" stroke=\"#000000\" stroke-opacity=\"1\" stroke-width=\"3.2\"/>\n",
       "<circle clip-path=\"url(#clip332)\" cx=\"371.379\" cy=\"757.503\" r=\"14.4\" fill=\"#009af9\" fill-rule=\"evenodd\" fill-opacity=\"1\" stroke=\"#000000\" stroke-opacity=\"1\" stroke-width=\"3.2\"/>\n",
       "<circle clip-path=\"url(#clip332)\" cx=\"380.743\" cy=\"907.45\" r=\"14.4\" fill=\"#009af9\" fill-rule=\"evenodd\" fill-opacity=\"1\" stroke=\"#000000\" stroke-opacity=\"1\" stroke-width=\"3.2\"/>\n",
       "<circle clip-path=\"url(#clip332)\" cx=\"390.107\" cy=\"860.322\" r=\"14.4\" fill=\"#009af9\" fill-rule=\"evenodd\" fill-opacity=\"1\" stroke=\"#000000\" stroke-opacity=\"1\" stroke-width=\"3.2\"/>\n",
       "<circle clip-path=\"url(#clip332)\" cx=\"399.47\" cy=\"705.396\" r=\"14.4\" fill=\"#009af9\" fill-rule=\"evenodd\" fill-opacity=\"1\" stroke=\"#000000\" stroke-opacity=\"1\" stroke-width=\"3.2\"/>\n",
       "<circle clip-path=\"url(#clip332)\" cx=\"408.834\" cy=\"847.923\" r=\"14.4\" fill=\"#009af9\" fill-rule=\"evenodd\" fill-opacity=\"1\" stroke=\"#000000\" stroke-opacity=\"1\" stroke-width=\"3.2\"/>\n",
       "<circle clip-path=\"url(#clip332)\" cx=\"418.198\" cy=\"897.314\" r=\"14.4\" fill=\"#009af9\" fill-rule=\"evenodd\" fill-opacity=\"1\" stroke=\"#000000\" stroke-opacity=\"1\" stroke-width=\"3.2\"/>\n",
       "<circle clip-path=\"url(#clip332)\" cx=\"427.562\" cy=\"831.402\" r=\"14.4\" fill=\"#009af9\" fill-rule=\"evenodd\" fill-opacity=\"1\" stroke=\"#000000\" stroke-opacity=\"1\" stroke-width=\"3.2\"/>\n",
       "<circle clip-path=\"url(#clip332)\" cx=\"436.926\" cy=\"963.436\" r=\"14.4\" fill=\"#009af9\" fill-rule=\"evenodd\" fill-opacity=\"1\" stroke=\"#000000\" stroke-opacity=\"1\" stroke-width=\"3.2\"/>\n",
       "<circle clip-path=\"url(#clip332)\" cx=\"446.289\" cy=\"819.076\" r=\"14.4\" fill=\"#009af9\" fill-rule=\"evenodd\" fill-opacity=\"1\" stroke=\"#000000\" stroke-opacity=\"1\" stroke-width=\"3.2\"/>\n",
       "<circle clip-path=\"url(#clip332)\" cx=\"455.653\" cy=\"1064.56\" r=\"14.4\" fill=\"#009af9\" fill-rule=\"evenodd\" fill-opacity=\"1\" stroke=\"#000000\" stroke-opacity=\"1\" stroke-width=\"3.2\"/>\n",
       "<circle clip-path=\"url(#clip332)\" cx=\"465.017\" cy=\"822.191\" r=\"14.4\" fill=\"#009af9\" fill-rule=\"evenodd\" fill-opacity=\"1\" stroke=\"#000000\" stroke-opacity=\"1\" stroke-width=\"3.2\"/>\n",
       "<circle clip-path=\"url(#clip332)\" cx=\"474.381\" cy=\"863.193\" r=\"14.4\" fill=\"#009af9\" fill-rule=\"evenodd\" fill-opacity=\"1\" stroke=\"#000000\" stroke-opacity=\"1\" stroke-width=\"3.2\"/>\n",
       "<circle clip-path=\"url(#clip332)\" cx=\"483.744\" cy=\"1019.18\" r=\"14.4\" fill=\"#009af9\" fill-rule=\"evenodd\" fill-opacity=\"1\" stroke=\"#000000\" stroke-opacity=\"1\" stroke-width=\"3.2\"/>\n",
       "<circle clip-path=\"url(#clip332)\" cx=\"493.108\" cy=\"1006.46\" r=\"14.4\" fill=\"#009af9\" fill-rule=\"evenodd\" fill-opacity=\"1\" stroke=\"#000000\" stroke-opacity=\"1\" stroke-width=\"3.2\"/>\n",
       "<circle clip-path=\"url(#clip332)\" cx=\"502.472\" cy=\"935.142\" r=\"14.4\" fill=\"#009af9\" fill-rule=\"evenodd\" fill-opacity=\"1\" stroke=\"#000000\" stroke-opacity=\"1\" stroke-width=\"3.2\"/>\n",
       "<circle clip-path=\"url(#clip332)\" cx=\"511.836\" cy=\"1033.16\" r=\"14.4\" fill=\"#009af9\" fill-rule=\"evenodd\" fill-opacity=\"1\" stroke=\"#000000\" stroke-opacity=\"1\" stroke-width=\"3.2\"/>\n",
       "<circle clip-path=\"url(#clip332)\" cx=\"521.2\" cy=\"1065.25\" r=\"14.4\" fill=\"#009af9\" fill-rule=\"evenodd\" fill-opacity=\"1\" stroke=\"#000000\" stroke-opacity=\"1\" stroke-width=\"3.2\"/>\n",
       "<circle clip-path=\"url(#clip332)\" cx=\"530.563\" cy=\"956.472\" r=\"14.4\" fill=\"#009af9\" fill-rule=\"evenodd\" fill-opacity=\"1\" stroke=\"#000000\" stroke-opacity=\"1\" stroke-width=\"3.2\"/>\n",
       "<circle clip-path=\"url(#clip332)\" cx=\"539.927\" cy=\"981.927\" r=\"14.4\" fill=\"#009af9\" fill-rule=\"evenodd\" fill-opacity=\"1\" stroke=\"#000000\" stroke-opacity=\"1\" stroke-width=\"3.2\"/>\n",
       "<circle clip-path=\"url(#clip332)\" cx=\"549.291\" cy=\"924.518\" r=\"14.4\" fill=\"#009af9\" fill-rule=\"evenodd\" fill-opacity=\"1\" stroke=\"#000000\" stroke-opacity=\"1\" stroke-width=\"3.2\"/>\n",
       "<circle clip-path=\"url(#clip332)\" cx=\"558.655\" cy=\"1045.83\" r=\"14.4\" fill=\"#009af9\" fill-rule=\"evenodd\" fill-opacity=\"1\" stroke=\"#000000\" stroke-opacity=\"1\" stroke-width=\"3.2\"/>\n",
       "<circle clip-path=\"url(#clip332)\" cx=\"568.019\" cy=\"985.465\" r=\"14.4\" fill=\"#009af9\" fill-rule=\"evenodd\" fill-opacity=\"1\" stroke=\"#000000\" stroke-opacity=\"1\" stroke-width=\"3.2\"/>\n",
       "<circle clip-path=\"url(#clip332)\" cx=\"577.382\" cy=\"991.979\" r=\"14.4\" fill=\"#009af9\" fill-rule=\"evenodd\" fill-opacity=\"1\" stroke=\"#000000\" stroke-opacity=\"1\" stroke-width=\"3.2\"/>\n",
       "<circle clip-path=\"url(#clip332)\" cx=\"586.746\" cy=\"1019.91\" r=\"14.4\" fill=\"#009af9\" fill-rule=\"evenodd\" fill-opacity=\"1\" stroke=\"#000000\" stroke-opacity=\"1\" stroke-width=\"3.2\"/>\n",
       "<circle clip-path=\"url(#clip332)\" cx=\"596.11\" cy=\"1112.9\" r=\"14.4\" fill=\"#009af9\" fill-rule=\"evenodd\" fill-opacity=\"1\" stroke=\"#000000\" stroke-opacity=\"1\" stroke-width=\"3.2\"/>\n",
       "<circle clip-path=\"url(#clip332)\" cx=\"605.474\" cy=\"1072.61\" r=\"14.4\" fill=\"#009af9\" fill-rule=\"evenodd\" fill-opacity=\"1\" stroke=\"#000000\" stroke-opacity=\"1\" stroke-width=\"3.2\"/>\n",
       "<circle clip-path=\"url(#clip332)\" cx=\"614.837\" cy=\"1110.9\" r=\"14.4\" fill=\"#009af9\" fill-rule=\"evenodd\" fill-opacity=\"1\" stroke=\"#000000\" stroke-opacity=\"1\" stroke-width=\"3.2\"/>\n",
       "<circle clip-path=\"url(#clip332)\" cx=\"624.201\" cy=\"1154.25\" r=\"14.4\" fill=\"#009af9\" fill-rule=\"evenodd\" fill-opacity=\"1\" stroke=\"#000000\" stroke-opacity=\"1\" stroke-width=\"3.2\"/>\n",
       "<circle clip-path=\"url(#clip332)\" cx=\"633.565\" cy=\"1006.21\" r=\"14.4\" fill=\"#009af9\" fill-rule=\"evenodd\" fill-opacity=\"1\" stroke=\"#000000\" stroke-opacity=\"1\" stroke-width=\"3.2\"/>\n",
       "<circle clip-path=\"url(#clip332)\" cx=\"642.929\" cy=\"1010.27\" r=\"14.4\" fill=\"#009af9\" fill-rule=\"evenodd\" fill-opacity=\"1\" stroke=\"#000000\" stroke-opacity=\"1\" stroke-width=\"3.2\"/>\n",
       "<circle clip-path=\"url(#clip332)\" cx=\"652.293\" cy=\"1156.64\" r=\"14.4\" fill=\"#009af9\" fill-rule=\"evenodd\" fill-opacity=\"1\" stroke=\"#000000\" stroke-opacity=\"1\" stroke-width=\"3.2\"/>\n",
       "<circle clip-path=\"url(#clip332)\" cx=\"661.656\" cy=\"1077.58\" r=\"14.4\" fill=\"#009af9\" fill-rule=\"evenodd\" fill-opacity=\"1\" stroke=\"#000000\" stroke-opacity=\"1\" stroke-width=\"3.2\"/>\n",
       "<circle clip-path=\"url(#clip332)\" cx=\"671.02\" cy=\"1227.53\" r=\"14.4\" fill=\"#009af9\" fill-rule=\"evenodd\" fill-opacity=\"1\" stroke=\"#000000\" stroke-opacity=\"1\" stroke-width=\"3.2\"/>\n",
       "<circle clip-path=\"url(#clip332)\" cx=\"680.384\" cy=\"1108.49\" r=\"14.4\" fill=\"#009af9\" fill-rule=\"evenodd\" fill-opacity=\"1\" stroke=\"#000000\" stroke-opacity=\"1\" stroke-width=\"3.2\"/>\n",
       "<circle clip-path=\"url(#clip332)\" cx=\"689.748\" cy=\"1300.16\" r=\"14.4\" fill=\"#009af9\" fill-rule=\"evenodd\" fill-opacity=\"1\" stroke=\"#000000\" stroke-opacity=\"1\" stroke-width=\"3.2\"/>\n",
       "<circle clip-path=\"url(#clip332)\" cx=\"699.112\" cy=\"1024.58\" r=\"14.4\" fill=\"#009af9\" fill-rule=\"evenodd\" fill-opacity=\"1\" stroke=\"#000000\" stroke-opacity=\"1\" stroke-width=\"3.2\"/>\n",
       "<circle clip-path=\"url(#clip332)\" cx=\"708.475\" cy=\"1129.76\" r=\"14.4\" fill=\"#009af9\" fill-rule=\"evenodd\" fill-opacity=\"1\" stroke=\"#000000\" stroke-opacity=\"1\" stroke-width=\"3.2\"/>\n",
       "<circle clip-path=\"url(#clip332)\" cx=\"717.839\" cy=\"1231.38\" r=\"14.4\" fill=\"#009af9\" fill-rule=\"evenodd\" fill-opacity=\"1\" stroke=\"#000000\" stroke-opacity=\"1\" stroke-width=\"3.2\"/>\n",
       "<circle clip-path=\"url(#clip332)\" cx=\"727.203\" cy=\"1119.06\" r=\"14.4\" fill=\"#009af9\" fill-rule=\"evenodd\" fill-opacity=\"1\" stroke=\"#000000\" stroke-opacity=\"1\" stroke-width=\"3.2\"/>\n",
       "<circle clip-path=\"url(#clip332)\" cx=\"736.567\" cy=\"1096.93\" r=\"14.4\" fill=\"#009af9\" fill-rule=\"evenodd\" fill-opacity=\"1\" stroke=\"#000000\" stroke-opacity=\"1\" stroke-width=\"3.2\"/>\n",
       "<circle clip-path=\"url(#clip332)\" cx=\"745.93\" cy=\"1192.27\" r=\"14.4\" fill=\"#009af9\" fill-rule=\"evenodd\" fill-opacity=\"1\" stroke=\"#000000\" stroke-opacity=\"1\" stroke-width=\"3.2\"/>\n",
       "<circle clip-path=\"url(#clip332)\" cx=\"755.294\" cy=\"1212.32\" r=\"14.4\" fill=\"#009af9\" fill-rule=\"evenodd\" fill-opacity=\"1\" stroke=\"#000000\" stroke-opacity=\"1\" stroke-width=\"3.2\"/>\n",
       "<circle clip-path=\"url(#clip332)\" cx=\"764.658\" cy=\"1251.63\" r=\"14.4\" fill=\"#009af9\" fill-rule=\"evenodd\" fill-opacity=\"1\" stroke=\"#000000\" stroke-opacity=\"1\" stroke-width=\"3.2\"/>\n",
       "<circle clip-path=\"url(#clip332)\" cx=\"774.022\" cy=\"1163.96\" r=\"14.4\" fill=\"#009af9\" fill-rule=\"evenodd\" fill-opacity=\"1\" stroke=\"#000000\" stroke-opacity=\"1\" stroke-width=\"3.2\"/>\n",
       "<circle clip-path=\"url(#clip332)\" cx=\"783.386\" cy=\"1223.86\" r=\"14.4\" fill=\"#009af9\" fill-rule=\"evenodd\" fill-opacity=\"1\" stroke=\"#000000\" stroke-opacity=\"1\" stroke-width=\"3.2\"/>\n",
       "<circle clip-path=\"url(#clip332)\" cx=\"792.749\" cy=\"1156.59\" r=\"14.4\" fill=\"#009af9\" fill-rule=\"evenodd\" fill-opacity=\"1\" stroke=\"#000000\" stroke-opacity=\"1\" stroke-width=\"3.2\"/>\n",
       "<circle clip-path=\"url(#clip332)\" cx=\"802.113\" cy=\"1245.01\" r=\"14.4\" fill=\"#009af9\" fill-rule=\"evenodd\" fill-opacity=\"1\" stroke=\"#000000\" stroke-opacity=\"1\" stroke-width=\"3.2\"/>\n",
       "<circle clip-path=\"url(#clip332)\" cx=\"811.477\" cy=\"1213.53\" r=\"14.4\" fill=\"#009af9\" fill-rule=\"evenodd\" fill-opacity=\"1\" stroke=\"#000000\" stroke-opacity=\"1\" stroke-width=\"3.2\"/>\n",
       "<circle clip-path=\"url(#clip332)\" cx=\"820.841\" cy=\"1262.59\" r=\"14.4\" fill=\"#009af9\" fill-rule=\"evenodd\" fill-opacity=\"1\" stroke=\"#000000\" stroke-opacity=\"1\" stroke-width=\"3.2\"/>\n",
       "<circle clip-path=\"url(#clip332)\" cx=\"830.205\" cy=\"1288.26\" r=\"14.4\" fill=\"#009af9\" fill-rule=\"evenodd\" fill-opacity=\"1\" stroke=\"#000000\" stroke-opacity=\"1\" stroke-width=\"3.2\"/>\n",
       "<circle clip-path=\"url(#clip332)\" cx=\"839.568\" cy=\"1212.88\" r=\"14.4\" fill=\"#009af9\" fill-rule=\"evenodd\" fill-opacity=\"1\" stroke=\"#000000\" stroke-opacity=\"1\" stroke-width=\"3.2\"/>\n",
       "<circle clip-path=\"url(#clip332)\" cx=\"848.932\" cy=\"1294.58\" r=\"14.4\" fill=\"#009af9\" fill-rule=\"evenodd\" fill-opacity=\"1\" stroke=\"#000000\" stroke-opacity=\"1\" stroke-width=\"3.2\"/>\n",
       "<circle clip-path=\"url(#clip332)\" cx=\"858.296\" cy=\"1047.03\" r=\"14.4\" fill=\"#009af9\" fill-rule=\"evenodd\" fill-opacity=\"1\" stroke=\"#000000\" stroke-opacity=\"1\" stroke-width=\"3.2\"/>\n",
       "<circle clip-path=\"url(#clip332)\" cx=\"867.66\" cy=\"1224.39\" r=\"14.4\" fill=\"#009af9\" fill-rule=\"evenodd\" fill-opacity=\"1\" stroke=\"#000000\" stroke-opacity=\"1\" stroke-width=\"3.2\"/>\n",
       "<circle clip-path=\"url(#clip332)\" cx=\"877.023\" cy=\"1324.65\" r=\"14.4\" fill=\"#009af9\" fill-rule=\"evenodd\" fill-opacity=\"1\" stroke=\"#000000\" stroke-opacity=\"1\" stroke-width=\"3.2\"/>\n",
       "<circle clip-path=\"url(#clip332)\" cx=\"886.387\" cy=\"1240.43\" r=\"14.4\" fill=\"#009af9\" fill-rule=\"evenodd\" fill-opacity=\"1\" stroke=\"#000000\" stroke-opacity=\"1\" stroke-width=\"3.2\"/>\n",
       "<circle clip-path=\"url(#clip332)\" cx=\"895.751\" cy=\"1267\" r=\"14.4\" fill=\"#009af9\" fill-rule=\"evenodd\" fill-opacity=\"1\" stroke=\"#000000\" stroke-opacity=\"1\" stroke-width=\"3.2\"/>\n",
       "<circle clip-path=\"url(#clip332)\" cx=\"905.115\" cy=\"1395.44\" r=\"14.4\" fill=\"#009af9\" fill-rule=\"evenodd\" fill-opacity=\"1\" stroke=\"#000000\" stroke-opacity=\"1\" stroke-width=\"3.2\"/>\n",
       "<circle clip-path=\"url(#clip332)\" cx=\"914.479\" cy=\"1261.94\" r=\"14.4\" fill=\"#009af9\" fill-rule=\"evenodd\" fill-opacity=\"1\" stroke=\"#000000\" stroke-opacity=\"1\" stroke-width=\"3.2\"/>\n",
       "<circle clip-path=\"url(#clip332)\" cx=\"923.842\" cy=\"1283.87\" r=\"14.4\" fill=\"#009af9\" fill-rule=\"evenodd\" fill-opacity=\"1\" stroke=\"#000000\" stroke-opacity=\"1\" stroke-width=\"3.2\"/>\n",
       "<circle clip-path=\"url(#clip332)\" cx=\"933.206\" cy=\"1190.59\" r=\"14.4\" fill=\"#009af9\" fill-rule=\"evenodd\" fill-opacity=\"1\" stroke=\"#000000\" stroke-opacity=\"1\" stroke-width=\"3.2\"/>\n",
       "<circle clip-path=\"url(#clip332)\" cx=\"942.57\" cy=\"1243.28\" r=\"14.4\" fill=\"#009af9\" fill-rule=\"evenodd\" fill-opacity=\"1\" stroke=\"#000000\" stroke-opacity=\"1\" stroke-width=\"3.2\"/>\n",
       "<circle clip-path=\"url(#clip332)\" cx=\"951.934\" cy=\"1291.41\" r=\"14.4\" fill=\"#009af9\" fill-rule=\"evenodd\" fill-opacity=\"1\" stroke=\"#000000\" stroke-opacity=\"1\" stroke-width=\"3.2\"/>\n",
       "<circle clip-path=\"url(#clip332)\" cx=\"961.298\" cy=\"1178.69\" r=\"14.4\" fill=\"#009af9\" fill-rule=\"evenodd\" fill-opacity=\"1\" stroke=\"#000000\" stroke-opacity=\"1\" stroke-width=\"3.2\"/>\n",
       "<circle clip-path=\"url(#clip332)\" cx=\"970.661\" cy=\"1285.63\" r=\"14.4\" fill=\"#009af9\" fill-rule=\"evenodd\" fill-opacity=\"1\" stroke=\"#000000\" stroke-opacity=\"1\" stroke-width=\"3.2\"/>\n",
       "<circle clip-path=\"url(#clip332)\" cx=\"980.025\" cy=\"1146.37\" r=\"14.4\" fill=\"#009af9\" fill-rule=\"evenodd\" fill-opacity=\"1\" stroke=\"#000000\" stroke-opacity=\"1\" stroke-width=\"3.2\"/>\n",
       "<circle clip-path=\"url(#clip332)\" cx=\"989.389\" cy=\"1150.87\" r=\"14.4\" fill=\"#009af9\" fill-rule=\"evenodd\" fill-opacity=\"1\" stroke=\"#000000\" stroke-opacity=\"1\" stroke-width=\"3.2\"/>\n",
       "<circle clip-path=\"url(#clip332)\" cx=\"998.753\" cy=\"1349.84\" r=\"14.4\" fill=\"#009af9\" fill-rule=\"evenodd\" fill-opacity=\"1\" stroke=\"#000000\" stroke-opacity=\"1\" stroke-width=\"3.2\"/>\n",
       "<circle clip-path=\"url(#clip332)\" cx=\"1008.12\" cy=\"1351.09\" r=\"14.4\" fill=\"#009af9\" fill-rule=\"evenodd\" fill-opacity=\"1\" stroke=\"#000000\" stroke-opacity=\"1\" stroke-width=\"3.2\"/>\n",
       "<circle clip-path=\"url(#clip332)\" cx=\"1017.48\" cy=\"1309.14\" r=\"14.4\" fill=\"#009af9\" fill-rule=\"evenodd\" fill-opacity=\"1\" stroke=\"#000000\" stroke-opacity=\"1\" stroke-width=\"3.2\"/>\n",
       "<circle clip-path=\"url(#clip332)\" cx=\"1026.84\" cy=\"1337.23\" r=\"14.4\" fill=\"#009af9\" fill-rule=\"evenodd\" fill-opacity=\"1\" stroke=\"#000000\" stroke-opacity=\"1\" stroke-width=\"3.2\"/>\n",
       "<circle clip-path=\"url(#clip332)\" cx=\"1036.21\" cy=\"1187.82\" r=\"14.4\" fill=\"#009af9\" fill-rule=\"evenodd\" fill-opacity=\"1\" stroke=\"#000000\" stroke-opacity=\"1\" stroke-width=\"3.2\"/>\n",
       "<circle clip-path=\"url(#clip332)\" cx=\"1045.57\" cy=\"1256.79\" r=\"14.4\" fill=\"#009af9\" fill-rule=\"evenodd\" fill-opacity=\"1\" stroke=\"#000000\" stroke-opacity=\"1\" stroke-width=\"3.2\"/>\n",
       "<circle clip-path=\"url(#clip332)\" cx=\"1054.94\" cy=\"1296.18\" r=\"14.4\" fill=\"#009af9\" fill-rule=\"evenodd\" fill-opacity=\"1\" stroke=\"#000000\" stroke-opacity=\"1\" stroke-width=\"3.2\"/>\n",
       "<circle clip-path=\"url(#clip332)\" cx=\"1064.3\" cy=\"1331.16\" r=\"14.4\" fill=\"#009af9\" fill-rule=\"evenodd\" fill-opacity=\"1\" stroke=\"#000000\" stroke-opacity=\"1\" stroke-width=\"3.2\"/>\n",
       "<circle clip-path=\"url(#clip332)\" cx=\"1073.66\" cy=\"1291.08\" r=\"14.4\" fill=\"#009af9\" fill-rule=\"evenodd\" fill-opacity=\"1\" stroke=\"#000000\" stroke-opacity=\"1\" stroke-width=\"3.2\"/>\n",
       "<circle clip-path=\"url(#clip332)\" cx=\"1083.03\" cy=\"1332.01\" r=\"14.4\" fill=\"#009af9\" fill-rule=\"evenodd\" fill-opacity=\"1\" stroke=\"#000000\" stroke-opacity=\"1\" stroke-width=\"3.2\"/>\n",
       "<circle clip-path=\"url(#clip332)\" cx=\"1092.39\" cy=\"1265.02\" r=\"14.4\" fill=\"#009af9\" fill-rule=\"evenodd\" fill-opacity=\"1\" stroke=\"#000000\" stroke-opacity=\"1\" stroke-width=\"3.2\"/>\n",
       "<circle clip-path=\"url(#clip332)\" cx=\"1101.75\" cy=\"1348.13\" r=\"14.4\" fill=\"#009af9\" fill-rule=\"evenodd\" fill-opacity=\"1\" stroke=\"#000000\" stroke-opacity=\"1\" stroke-width=\"3.2\"/>\n",
       "<circle clip-path=\"url(#clip332)\" cx=\"1111.12\" cy=\"1366.81\" r=\"14.4\" fill=\"#009af9\" fill-rule=\"evenodd\" fill-opacity=\"1\" stroke=\"#000000\" stroke-opacity=\"1\" stroke-width=\"3.2\"/>\n",
       "<circle clip-path=\"url(#clip332)\" cx=\"1120.48\" cy=\"1357.31\" r=\"14.4\" fill=\"#009af9\" fill-rule=\"evenodd\" fill-opacity=\"1\" stroke=\"#000000\" stroke-opacity=\"1\" stroke-width=\"3.2\"/>\n",
       "<circle clip-path=\"url(#clip332)\" cx=\"1129.85\" cy=\"1188.86\" r=\"14.4\" fill=\"#009af9\" fill-rule=\"evenodd\" fill-opacity=\"1\" stroke=\"#000000\" stroke-opacity=\"1\" stroke-width=\"3.2\"/>\n",
       "<circle clip-path=\"url(#clip332)\" cx=\"1139.21\" cy=\"1294.09\" r=\"14.4\" fill=\"#009af9\" fill-rule=\"evenodd\" fill-opacity=\"1\" stroke=\"#000000\" stroke-opacity=\"1\" stroke-width=\"3.2\"/>\n",
       "<circle clip-path=\"url(#clip332)\" cx=\"1148.57\" cy=\"1260.84\" r=\"14.4\" fill=\"#009af9\" fill-rule=\"evenodd\" fill-opacity=\"1\" stroke=\"#000000\" stroke-opacity=\"1\" stroke-width=\"3.2\"/>\n",
       "<circle clip-path=\"url(#clip332)\" cx=\"1157.94\" cy=\"1273.41\" r=\"14.4\" fill=\"#009af9\" fill-rule=\"evenodd\" fill-opacity=\"1\" stroke=\"#000000\" stroke-opacity=\"1\" stroke-width=\"3.2\"/>\n",
       "<circle clip-path=\"url(#clip332)\" cx=\"1167.3\" cy=\"1308.44\" r=\"14.4\" fill=\"#009af9\" fill-rule=\"evenodd\" fill-opacity=\"1\" stroke=\"#000000\" stroke-opacity=\"1\" stroke-width=\"3.2\"/>\n",
       "<circle clip-path=\"url(#clip332)\" cx=\"1176.66\" cy=\"1320.82\" r=\"14.4\" fill=\"#009af9\" fill-rule=\"evenodd\" fill-opacity=\"1\" stroke=\"#000000\" stroke-opacity=\"1\" stroke-width=\"3.2\"/>\n",
       "<circle clip-path=\"url(#clip332)\" cx=\"1186.03\" cy=\"1317.18\" r=\"14.4\" fill=\"#009af9\" fill-rule=\"evenodd\" fill-opacity=\"1\" stroke=\"#000000\" stroke-opacity=\"1\" stroke-width=\"3.2\"/>\n",
       "<circle clip-path=\"url(#clip332)\" cx=\"1195.39\" cy=\"1354.28\" r=\"14.4\" fill=\"#009af9\" fill-rule=\"evenodd\" fill-opacity=\"1\" stroke=\"#000000\" stroke-opacity=\"1\" stroke-width=\"3.2\"/>\n",
       "<circle clip-path=\"url(#clip332)\" cx=\"1204.76\" cy=\"1180.75\" r=\"14.4\" fill=\"#009af9\" fill-rule=\"evenodd\" fill-opacity=\"1\" stroke=\"#000000\" stroke-opacity=\"1\" stroke-width=\"3.2\"/>\n",
       "<circle clip-path=\"url(#clip332)\" cx=\"1214.12\" cy=\"1212.4\" r=\"14.4\" fill=\"#009af9\" fill-rule=\"evenodd\" fill-opacity=\"1\" stroke=\"#000000\" stroke-opacity=\"1\" stroke-width=\"3.2\"/>\n",
       "<circle clip-path=\"url(#clip332)\" cx=\"1223.48\" cy=\"1255.74\" r=\"14.4\" fill=\"#009af9\" fill-rule=\"evenodd\" fill-opacity=\"1\" stroke=\"#000000\" stroke-opacity=\"1\" stroke-width=\"3.2\"/>\n",
       "<circle clip-path=\"url(#clip332)\" cx=\"1232.85\" cy=\"1207.49\" r=\"14.4\" fill=\"#009af9\" fill-rule=\"evenodd\" fill-opacity=\"1\" stroke=\"#000000\" stroke-opacity=\"1\" stroke-width=\"3.2\"/>\n",
       "<circle clip-path=\"url(#clip332)\" cx=\"1242.21\" cy=\"1186.23\" r=\"14.4\" fill=\"#009af9\" fill-rule=\"evenodd\" fill-opacity=\"1\" stroke=\"#000000\" stroke-opacity=\"1\" stroke-width=\"3.2\"/>\n",
       "<circle clip-path=\"url(#clip332)\" cx=\"1251.57\" cy=\"1206.22\" r=\"14.4\" fill=\"#009af9\" fill-rule=\"evenodd\" fill-opacity=\"1\" stroke=\"#000000\" stroke-opacity=\"1\" stroke-width=\"3.2\"/>\n",
       "<circle clip-path=\"url(#clip332)\" cx=\"1260.94\" cy=\"1408.84\" r=\"14.4\" fill=\"#009af9\" fill-rule=\"evenodd\" fill-opacity=\"1\" stroke=\"#000000\" stroke-opacity=\"1\" stroke-width=\"3.2\"/>\n",
       "<circle clip-path=\"url(#clip332)\" cx=\"1270.3\" cy=\"1315.04\" r=\"14.4\" fill=\"#009af9\" fill-rule=\"evenodd\" fill-opacity=\"1\" stroke=\"#000000\" stroke-opacity=\"1\" stroke-width=\"3.2\"/>\n",
       "<circle clip-path=\"url(#clip332)\" cx=\"1279.67\" cy=\"1242.38\" r=\"14.4\" fill=\"#009af9\" fill-rule=\"evenodd\" fill-opacity=\"1\" stroke=\"#000000\" stroke-opacity=\"1\" stroke-width=\"3.2\"/>\n",
       "<circle clip-path=\"url(#clip332)\" cx=\"1289.03\" cy=\"1173.24\" r=\"14.4\" fill=\"#009af9\" fill-rule=\"evenodd\" fill-opacity=\"1\" stroke=\"#000000\" stroke-opacity=\"1\" stroke-width=\"3.2\"/>\n",
       "<circle clip-path=\"url(#clip332)\" cx=\"1298.39\" cy=\"1238.35\" r=\"14.4\" fill=\"#009af9\" fill-rule=\"evenodd\" fill-opacity=\"1\" stroke=\"#000000\" stroke-opacity=\"1\" stroke-width=\"3.2\"/>\n",
       "<circle clip-path=\"url(#clip332)\" cx=\"1307.76\" cy=\"1445.72\" r=\"14.4\" fill=\"#009af9\" fill-rule=\"evenodd\" fill-opacity=\"1\" stroke=\"#000000\" stroke-opacity=\"1\" stroke-width=\"3.2\"/>\n",
       "<circle clip-path=\"url(#clip332)\" cx=\"1317.12\" cy=\"1239.69\" r=\"14.4\" fill=\"#009af9\" fill-rule=\"evenodd\" fill-opacity=\"1\" stroke=\"#000000\" stroke-opacity=\"1\" stroke-width=\"3.2\"/>\n",
       "<circle clip-path=\"url(#clip332)\" cx=\"1326.49\" cy=\"1306.74\" r=\"14.4\" fill=\"#009af9\" fill-rule=\"evenodd\" fill-opacity=\"1\" stroke=\"#000000\" stroke-opacity=\"1\" stroke-width=\"3.2\"/>\n",
       "<circle clip-path=\"url(#clip332)\" cx=\"1335.85\" cy=\"1359.11\" r=\"14.4\" fill=\"#009af9\" fill-rule=\"evenodd\" fill-opacity=\"1\" stroke=\"#000000\" stroke-opacity=\"1\" stroke-width=\"3.2\"/>\n",
       "<circle clip-path=\"url(#clip332)\" cx=\"1345.21\" cy=\"1196.28\" r=\"14.4\" fill=\"#009af9\" fill-rule=\"evenodd\" fill-opacity=\"1\" stroke=\"#000000\" stroke-opacity=\"1\" stroke-width=\"3.2\"/>\n",
       "<circle clip-path=\"url(#clip332)\" cx=\"1354.58\" cy=\"1197.55\" r=\"14.4\" fill=\"#009af9\" fill-rule=\"evenodd\" fill-opacity=\"1\" stroke=\"#000000\" stroke-opacity=\"1\" stroke-width=\"3.2\"/>\n",
       "<circle clip-path=\"url(#clip332)\" cx=\"1363.94\" cy=\"1232.66\" r=\"14.4\" fill=\"#009af9\" fill-rule=\"evenodd\" fill-opacity=\"1\" stroke=\"#000000\" stroke-opacity=\"1\" stroke-width=\"3.2\"/>\n",
       "<circle clip-path=\"url(#clip332)\" cx=\"1373.3\" cy=\"1142.01\" r=\"14.4\" fill=\"#009af9\" fill-rule=\"evenodd\" fill-opacity=\"1\" stroke=\"#000000\" stroke-opacity=\"1\" stroke-width=\"3.2\"/>\n",
       "<circle clip-path=\"url(#clip332)\" cx=\"1382.67\" cy=\"1185.17\" r=\"14.4\" fill=\"#009af9\" fill-rule=\"evenodd\" fill-opacity=\"1\" stroke=\"#000000\" stroke-opacity=\"1\" stroke-width=\"3.2\"/>\n",
       "<circle clip-path=\"url(#clip332)\" cx=\"1392.03\" cy=\"1241.34\" r=\"14.4\" fill=\"#009af9\" fill-rule=\"evenodd\" fill-opacity=\"1\" stroke=\"#000000\" stroke-opacity=\"1\" stroke-width=\"3.2\"/>\n",
       "<circle clip-path=\"url(#clip332)\" cx=\"1401.4\" cy=\"1171.02\" r=\"14.4\" fill=\"#009af9\" fill-rule=\"evenodd\" fill-opacity=\"1\" stroke=\"#000000\" stroke-opacity=\"1\" stroke-width=\"3.2\"/>\n",
       "<circle clip-path=\"url(#clip332)\" cx=\"1410.76\" cy=\"1385\" r=\"14.4\" fill=\"#009af9\" fill-rule=\"evenodd\" fill-opacity=\"1\" stroke=\"#000000\" stroke-opacity=\"1\" stroke-width=\"3.2\"/>\n",
       "<circle clip-path=\"url(#clip332)\" cx=\"1420.12\" cy=\"1194.13\" r=\"14.4\" fill=\"#009af9\" fill-rule=\"evenodd\" fill-opacity=\"1\" stroke=\"#000000\" stroke-opacity=\"1\" stroke-width=\"3.2\"/>\n",
       "<circle clip-path=\"url(#clip332)\" cx=\"1429.49\" cy=\"1169.71\" r=\"14.4\" fill=\"#009af9\" fill-rule=\"evenodd\" fill-opacity=\"1\" stroke=\"#000000\" stroke-opacity=\"1\" stroke-width=\"3.2\"/>\n",
       "<circle clip-path=\"url(#clip332)\" cx=\"1438.85\" cy=\"1179.26\" r=\"14.4\" fill=\"#009af9\" fill-rule=\"evenodd\" fill-opacity=\"1\" stroke=\"#000000\" stroke-opacity=\"1\" stroke-width=\"3.2\"/>\n",
       "<circle clip-path=\"url(#clip332)\" cx=\"1448.21\" cy=\"1256.05\" r=\"14.4\" fill=\"#009af9\" fill-rule=\"evenodd\" fill-opacity=\"1\" stroke=\"#000000\" stroke-opacity=\"1\" stroke-width=\"3.2\"/>\n",
       "<circle clip-path=\"url(#clip332)\" cx=\"1457.58\" cy=\"1154.69\" r=\"14.4\" fill=\"#009af9\" fill-rule=\"evenodd\" fill-opacity=\"1\" stroke=\"#000000\" stroke-opacity=\"1\" stroke-width=\"3.2\"/>\n",
       "<circle clip-path=\"url(#clip332)\" cx=\"1466.94\" cy=\"1080.98\" r=\"14.4\" fill=\"#009af9\" fill-rule=\"evenodd\" fill-opacity=\"1\" stroke=\"#000000\" stroke-opacity=\"1\" stroke-width=\"3.2\"/>\n",
       "<circle clip-path=\"url(#clip332)\" cx=\"1476.31\" cy=\"1136.83\" r=\"14.4\" fill=\"#009af9\" fill-rule=\"evenodd\" fill-opacity=\"1\" stroke=\"#000000\" stroke-opacity=\"1\" stroke-width=\"3.2\"/>\n",
       "<circle clip-path=\"url(#clip332)\" cx=\"1485.67\" cy=\"1073\" r=\"14.4\" fill=\"#009af9\" fill-rule=\"evenodd\" fill-opacity=\"1\" stroke=\"#000000\" stroke-opacity=\"1\" stroke-width=\"3.2\"/>\n",
       "<circle clip-path=\"url(#clip332)\" cx=\"1495.03\" cy=\"1213.98\" r=\"14.4\" fill=\"#009af9\" fill-rule=\"evenodd\" fill-opacity=\"1\" stroke=\"#000000\" stroke-opacity=\"1\" stroke-width=\"3.2\"/>\n",
       "<circle clip-path=\"url(#clip332)\" cx=\"1504.4\" cy=\"1230.04\" r=\"14.4\" fill=\"#009af9\" fill-rule=\"evenodd\" fill-opacity=\"1\" stroke=\"#000000\" stroke-opacity=\"1\" stroke-width=\"3.2\"/>\n",
       "<circle clip-path=\"url(#clip332)\" cx=\"1513.76\" cy=\"1148.46\" r=\"14.4\" fill=\"#009af9\" fill-rule=\"evenodd\" fill-opacity=\"1\" stroke=\"#000000\" stroke-opacity=\"1\" stroke-width=\"3.2\"/>\n",
       "<circle clip-path=\"url(#clip332)\" cx=\"1523.12\" cy=\"1276.43\" r=\"14.4\" fill=\"#009af9\" fill-rule=\"evenodd\" fill-opacity=\"1\" stroke=\"#000000\" stroke-opacity=\"1\" stroke-width=\"3.2\"/>\n",
       "<circle clip-path=\"url(#clip332)\" cx=\"1532.49\" cy=\"1177.35\" r=\"14.4\" fill=\"#009af9\" fill-rule=\"evenodd\" fill-opacity=\"1\" stroke=\"#000000\" stroke-opacity=\"1\" stroke-width=\"3.2\"/>\n",
       "<circle clip-path=\"url(#clip332)\" cx=\"1541.85\" cy=\"1043.19\" r=\"14.4\" fill=\"#009af9\" fill-rule=\"evenodd\" fill-opacity=\"1\" stroke=\"#000000\" stroke-opacity=\"1\" stroke-width=\"3.2\"/>\n",
       "<circle clip-path=\"url(#clip332)\" cx=\"1551.22\" cy=\"1065.93\" r=\"14.4\" fill=\"#009af9\" fill-rule=\"evenodd\" fill-opacity=\"1\" stroke=\"#000000\" stroke-opacity=\"1\" stroke-width=\"3.2\"/>\n",
       "<circle clip-path=\"url(#clip332)\" cx=\"1560.58\" cy=\"947.949\" r=\"14.4\" fill=\"#009af9\" fill-rule=\"evenodd\" fill-opacity=\"1\" stroke=\"#000000\" stroke-opacity=\"1\" stroke-width=\"3.2\"/>\n",
       "<circle clip-path=\"url(#clip332)\" cx=\"1569.94\" cy=\"906.984\" r=\"14.4\" fill=\"#009af9\" fill-rule=\"evenodd\" fill-opacity=\"1\" stroke=\"#000000\" stroke-opacity=\"1\" stroke-width=\"3.2\"/>\n",
       "<circle clip-path=\"url(#clip332)\" cx=\"1579.31\" cy=\"1123.21\" r=\"14.4\" fill=\"#009af9\" fill-rule=\"evenodd\" fill-opacity=\"1\" stroke=\"#000000\" stroke-opacity=\"1\" stroke-width=\"3.2\"/>\n",
       "<circle clip-path=\"url(#clip332)\" cx=\"1588.67\" cy=\"913.037\" r=\"14.4\" fill=\"#009af9\" fill-rule=\"evenodd\" fill-opacity=\"1\" stroke=\"#000000\" stroke-opacity=\"1\" stroke-width=\"3.2\"/>\n",
       "<circle clip-path=\"url(#clip332)\" cx=\"1598.03\" cy=\"1063.98\" r=\"14.4\" fill=\"#009af9\" fill-rule=\"evenodd\" fill-opacity=\"1\" stroke=\"#000000\" stroke-opacity=\"1\" stroke-width=\"3.2\"/>\n",
       "<circle clip-path=\"url(#clip332)\" cx=\"1607.4\" cy=\"1073.36\" r=\"14.4\" fill=\"#009af9\" fill-rule=\"evenodd\" fill-opacity=\"1\" stroke=\"#000000\" stroke-opacity=\"1\" stroke-width=\"3.2\"/>\n",
       "<circle clip-path=\"url(#clip332)\" cx=\"1616.76\" cy=\"1069.68\" r=\"14.4\" fill=\"#009af9\" fill-rule=\"evenodd\" fill-opacity=\"1\" stroke=\"#000000\" stroke-opacity=\"1\" stroke-width=\"3.2\"/>\n",
       "<circle clip-path=\"url(#clip332)\" cx=\"1626.13\" cy=\"1192.66\" r=\"14.4\" fill=\"#009af9\" fill-rule=\"evenodd\" fill-opacity=\"1\" stroke=\"#000000\" stroke-opacity=\"1\" stroke-width=\"3.2\"/>\n",
       "<circle clip-path=\"url(#clip332)\" cx=\"1635.49\" cy=\"1125.12\" r=\"14.4\" fill=\"#009af9\" fill-rule=\"evenodd\" fill-opacity=\"1\" stroke=\"#000000\" stroke-opacity=\"1\" stroke-width=\"3.2\"/>\n",
       "<circle clip-path=\"url(#clip332)\" cx=\"1644.85\" cy=\"1080.05\" r=\"14.4\" fill=\"#009af9\" fill-rule=\"evenodd\" fill-opacity=\"1\" stroke=\"#000000\" stroke-opacity=\"1\" stroke-width=\"3.2\"/>\n",
       "<circle clip-path=\"url(#clip332)\" cx=\"1654.22\" cy=\"1034.09\" r=\"14.4\" fill=\"#009af9\" fill-rule=\"evenodd\" fill-opacity=\"1\" stroke=\"#000000\" stroke-opacity=\"1\" stroke-width=\"3.2\"/>\n",
       "<circle clip-path=\"url(#clip332)\" cx=\"1663.58\" cy=\"1095.2\" r=\"14.4\" fill=\"#009af9\" fill-rule=\"evenodd\" fill-opacity=\"1\" stroke=\"#000000\" stroke-opacity=\"1\" stroke-width=\"3.2\"/>\n",
       "<circle clip-path=\"url(#clip332)\" cx=\"1672.95\" cy=\"829.311\" r=\"14.4\" fill=\"#009af9\" fill-rule=\"evenodd\" fill-opacity=\"1\" stroke=\"#000000\" stroke-opacity=\"1\" stroke-width=\"3.2\"/>\n",
       "<circle clip-path=\"url(#clip332)\" cx=\"1682.31\" cy=\"966.537\" r=\"14.4\" fill=\"#009af9\" fill-rule=\"evenodd\" fill-opacity=\"1\" stroke=\"#000000\" stroke-opacity=\"1\" stroke-width=\"3.2\"/>\n",
       "<circle clip-path=\"url(#clip332)\" cx=\"1691.67\" cy=\"922.657\" r=\"14.4\" fill=\"#009af9\" fill-rule=\"evenodd\" fill-opacity=\"1\" stroke=\"#000000\" stroke-opacity=\"1\" stroke-width=\"3.2\"/>\n",
       "<circle clip-path=\"url(#clip332)\" cx=\"1701.04\" cy=\"1154.89\" r=\"14.4\" fill=\"#009af9\" fill-rule=\"evenodd\" fill-opacity=\"1\" stroke=\"#000000\" stroke-opacity=\"1\" stroke-width=\"3.2\"/>\n",
       "<circle clip-path=\"url(#clip332)\" cx=\"1710.4\" cy=\"892.571\" r=\"14.4\" fill=\"#009af9\" fill-rule=\"evenodd\" fill-opacity=\"1\" stroke=\"#000000\" stroke-opacity=\"1\" stroke-width=\"3.2\"/>\n",
       "<circle clip-path=\"url(#clip332)\" cx=\"1719.76\" cy=\"1011.61\" r=\"14.4\" fill=\"#009af9\" fill-rule=\"evenodd\" fill-opacity=\"1\" stroke=\"#000000\" stroke-opacity=\"1\" stroke-width=\"3.2\"/>\n",
       "<circle clip-path=\"url(#clip332)\" cx=\"1729.13\" cy=\"958.629\" r=\"14.4\" fill=\"#009af9\" fill-rule=\"evenodd\" fill-opacity=\"1\" stroke=\"#000000\" stroke-opacity=\"1\" stroke-width=\"3.2\"/>\n",
       "<circle clip-path=\"url(#clip332)\" cx=\"1738.49\" cy=\"925.651\" r=\"14.4\" fill=\"#009af9\" fill-rule=\"evenodd\" fill-opacity=\"1\" stroke=\"#000000\" stroke-opacity=\"1\" stroke-width=\"3.2\"/>\n",
       "<circle clip-path=\"url(#clip332)\" cx=\"1747.86\" cy=\"989.714\" r=\"14.4\" fill=\"#009af9\" fill-rule=\"evenodd\" fill-opacity=\"1\" stroke=\"#000000\" stroke-opacity=\"1\" stroke-width=\"3.2\"/>\n",
       "<circle clip-path=\"url(#clip332)\" cx=\"1757.22\" cy=\"892.598\" r=\"14.4\" fill=\"#009af9\" fill-rule=\"evenodd\" fill-opacity=\"1\" stroke=\"#000000\" stroke-opacity=\"1\" stroke-width=\"3.2\"/>\n",
       "<circle clip-path=\"url(#clip332)\" cx=\"1766.58\" cy=\"978.463\" r=\"14.4\" fill=\"#009af9\" fill-rule=\"evenodd\" fill-opacity=\"1\" stroke=\"#000000\" stroke-opacity=\"1\" stroke-width=\"3.2\"/>\n",
       "<circle clip-path=\"url(#clip332)\" cx=\"1775.95\" cy=\"1075.01\" r=\"14.4\" fill=\"#009af9\" fill-rule=\"evenodd\" fill-opacity=\"1\" stroke=\"#000000\" stroke-opacity=\"1\" stroke-width=\"3.2\"/>\n",
       "<circle clip-path=\"url(#clip332)\" cx=\"1785.31\" cy=\"985.8\" r=\"14.4\" fill=\"#009af9\" fill-rule=\"evenodd\" fill-opacity=\"1\" stroke=\"#000000\" stroke-opacity=\"1\" stroke-width=\"3.2\"/>\n",
       "<circle clip-path=\"url(#clip332)\" cx=\"1794.67\" cy=\"729.373\" r=\"14.4\" fill=\"#009af9\" fill-rule=\"evenodd\" fill-opacity=\"1\" stroke=\"#000000\" stroke-opacity=\"1\" stroke-width=\"3.2\"/>\n",
       "<circle clip-path=\"url(#clip332)\" cx=\"1804.04\" cy=\"945.579\" r=\"14.4\" fill=\"#009af9\" fill-rule=\"evenodd\" fill-opacity=\"1\" stroke=\"#000000\" stroke-opacity=\"1\" stroke-width=\"3.2\"/>\n",
       "<circle clip-path=\"url(#clip332)\" cx=\"1813.4\" cy=\"808.606\" r=\"14.4\" fill=\"#009af9\" fill-rule=\"evenodd\" fill-opacity=\"1\" stroke=\"#000000\" stroke-opacity=\"1\" stroke-width=\"3.2\"/>\n",
       "<circle clip-path=\"url(#clip332)\" cx=\"1822.77\" cy=\"968.255\" r=\"14.4\" fill=\"#009af9\" fill-rule=\"evenodd\" fill-opacity=\"1\" stroke=\"#000000\" stroke-opacity=\"1\" stroke-width=\"3.2\"/>\n",
       "<circle clip-path=\"url(#clip332)\" cx=\"1832.13\" cy=\"730.624\" r=\"14.4\" fill=\"#009af9\" fill-rule=\"evenodd\" fill-opacity=\"1\" stroke=\"#000000\" stroke-opacity=\"1\" stroke-width=\"3.2\"/>\n",
       "<circle clip-path=\"url(#clip332)\" cx=\"1841.49\" cy=\"877.446\" r=\"14.4\" fill=\"#009af9\" fill-rule=\"evenodd\" fill-opacity=\"1\" stroke=\"#000000\" stroke-opacity=\"1\" stroke-width=\"3.2\"/>\n",
       "<circle clip-path=\"url(#clip332)\" cx=\"1850.86\" cy=\"886.382\" r=\"14.4\" fill=\"#009af9\" fill-rule=\"evenodd\" fill-opacity=\"1\" stroke=\"#000000\" stroke-opacity=\"1\" stroke-width=\"3.2\"/>\n",
       "<circle clip-path=\"url(#clip332)\" cx=\"1860.22\" cy=\"884.676\" r=\"14.4\" fill=\"#009af9\" fill-rule=\"evenodd\" fill-opacity=\"1\" stroke=\"#000000\" stroke-opacity=\"1\" stroke-width=\"3.2\"/>\n",
       "<circle clip-path=\"url(#clip332)\" cx=\"1869.58\" cy=\"706.679\" r=\"14.4\" fill=\"#009af9\" fill-rule=\"evenodd\" fill-opacity=\"1\" stroke=\"#000000\" stroke-opacity=\"1\" stroke-width=\"3.2\"/>\n",
       "<circle clip-path=\"url(#clip332)\" cx=\"1878.95\" cy=\"716.169\" r=\"14.4\" fill=\"#009af9\" fill-rule=\"evenodd\" fill-opacity=\"1\" stroke=\"#000000\" stroke-opacity=\"1\" stroke-width=\"3.2\"/>\n",
       "<circle clip-path=\"url(#clip332)\" cx=\"1888.31\" cy=\"825.636\" r=\"14.4\" fill=\"#009af9\" fill-rule=\"evenodd\" fill-opacity=\"1\" stroke=\"#000000\" stroke-opacity=\"1\" stroke-width=\"3.2\"/>\n",
       "<circle clip-path=\"url(#clip332)\" cx=\"1897.68\" cy=\"673.158\" r=\"14.4\" fill=\"#009af9\" fill-rule=\"evenodd\" fill-opacity=\"1\" stroke=\"#000000\" stroke-opacity=\"1\" stroke-width=\"3.2\"/>\n",
       "<circle clip-path=\"url(#clip332)\" cx=\"1907.04\" cy=\"806.289\" r=\"14.4\" fill=\"#009af9\" fill-rule=\"evenodd\" fill-opacity=\"1\" stroke=\"#000000\" stroke-opacity=\"1\" stroke-width=\"3.2\"/>\n",
       "<circle clip-path=\"url(#clip332)\" cx=\"1916.4\" cy=\"710.548\" r=\"14.4\" fill=\"#009af9\" fill-rule=\"evenodd\" fill-opacity=\"1\" stroke=\"#000000\" stroke-opacity=\"1\" stroke-width=\"3.2\"/>\n",
       "<circle clip-path=\"url(#clip332)\" cx=\"1925.77\" cy=\"636.812\" r=\"14.4\" fill=\"#009af9\" fill-rule=\"evenodd\" fill-opacity=\"1\" stroke=\"#000000\" stroke-opacity=\"1\" stroke-width=\"3.2\"/>\n",
       "<circle clip-path=\"url(#clip332)\" cx=\"1935.13\" cy=\"666.673\" r=\"14.4\" fill=\"#009af9\" fill-rule=\"evenodd\" fill-opacity=\"1\" stroke=\"#000000\" stroke-opacity=\"1\" stroke-width=\"3.2\"/>\n",
       "<circle clip-path=\"url(#clip332)\" cx=\"1944.49\" cy=\"795.759\" r=\"14.4\" fill=\"#009af9\" fill-rule=\"evenodd\" fill-opacity=\"1\" stroke=\"#000000\" stroke-opacity=\"1\" stroke-width=\"3.2\"/>\n",
       "<circle clip-path=\"url(#clip332)\" cx=\"1953.86\" cy=\"743.381\" r=\"14.4\" fill=\"#009af9\" fill-rule=\"evenodd\" fill-opacity=\"1\" stroke=\"#000000\" stroke-opacity=\"1\" stroke-width=\"3.2\"/>\n",
       "<circle clip-path=\"url(#clip332)\" cx=\"1963.22\" cy=\"680.138\" r=\"14.4\" fill=\"#009af9\" fill-rule=\"evenodd\" fill-opacity=\"1\" stroke=\"#000000\" stroke-opacity=\"1\" stroke-width=\"3.2\"/>\n",
       "<circle clip-path=\"url(#clip332)\" cx=\"1972.59\" cy=\"720.872\" r=\"14.4\" fill=\"#009af9\" fill-rule=\"evenodd\" fill-opacity=\"1\" stroke=\"#000000\" stroke-opacity=\"1\" stroke-width=\"3.2\"/>\n",
       "<circle clip-path=\"url(#clip332)\" cx=\"1981.95\" cy=\"544.693\" r=\"14.4\" fill=\"#009af9\" fill-rule=\"evenodd\" fill-opacity=\"1\" stroke=\"#000000\" stroke-opacity=\"1\" stroke-width=\"3.2\"/>\n",
       "<circle clip-path=\"url(#clip332)\" cx=\"1991.31\" cy=\"633.711\" r=\"14.4\" fill=\"#009af9\" fill-rule=\"evenodd\" fill-opacity=\"1\" stroke=\"#000000\" stroke-opacity=\"1\" stroke-width=\"3.2\"/>\n",
       "<circle clip-path=\"url(#clip332)\" cx=\"2000.68\" cy=\"568.675\" r=\"14.4\" fill=\"#009af9\" fill-rule=\"evenodd\" fill-opacity=\"1\" stroke=\"#000000\" stroke-opacity=\"1\" stroke-width=\"3.2\"/>\n",
       "<circle clip-path=\"url(#clip332)\" cx=\"2010.04\" cy=\"522.339\" r=\"14.4\" fill=\"#009af9\" fill-rule=\"evenodd\" fill-opacity=\"1\" stroke=\"#000000\" stroke-opacity=\"1\" stroke-width=\"3.2\"/>\n",
       "<circle clip-path=\"url(#clip332)\" cx=\"2019.41\" cy=\"514.784\" r=\"14.4\" fill=\"#009af9\" fill-rule=\"evenodd\" fill-opacity=\"1\" stroke=\"#000000\" stroke-opacity=\"1\" stroke-width=\"3.2\"/>\n",
       "<circle clip-path=\"url(#clip332)\" cx=\"2028.77\" cy=\"531.204\" r=\"14.4\" fill=\"#009af9\" fill-rule=\"evenodd\" fill-opacity=\"1\" stroke=\"#000000\" stroke-opacity=\"1\" stroke-width=\"3.2\"/>\n",
       "<circle clip-path=\"url(#clip332)\" cx=\"2038.13\" cy=\"552.796\" r=\"14.4\" fill=\"#009af9\" fill-rule=\"evenodd\" fill-opacity=\"1\" stroke=\"#000000\" stroke-opacity=\"1\" stroke-width=\"3.2\"/>\n",
       "<circle clip-path=\"url(#clip332)\" cx=\"2047.5\" cy=\"581.711\" r=\"14.4\" fill=\"#009af9\" fill-rule=\"evenodd\" fill-opacity=\"1\" stroke=\"#000000\" stroke-opacity=\"1\" stroke-width=\"3.2\"/>\n",
       "<circle clip-path=\"url(#clip332)\" cx=\"2056.86\" cy=\"467.7\" r=\"14.4\" fill=\"#009af9\" fill-rule=\"evenodd\" fill-opacity=\"1\" stroke=\"#000000\" stroke-opacity=\"1\" stroke-width=\"3.2\"/>\n",
       "<circle clip-path=\"url(#clip332)\" cx=\"2066.22\" cy=\"522.244\" r=\"14.4\" fill=\"#009af9\" fill-rule=\"evenodd\" fill-opacity=\"1\" stroke=\"#000000\" stroke-opacity=\"1\" stroke-width=\"3.2\"/>\n",
       "<circle clip-path=\"url(#clip332)\" cx=\"2075.59\" cy=\"432.229\" r=\"14.4\" fill=\"#009af9\" fill-rule=\"evenodd\" fill-opacity=\"1\" stroke=\"#000000\" stroke-opacity=\"1\" stroke-width=\"3.2\"/>\n",
       "<circle clip-path=\"url(#clip332)\" cx=\"2084.95\" cy=\"456.716\" r=\"14.4\" fill=\"#009af9\" fill-rule=\"evenodd\" fill-opacity=\"1\" stroke=\"#000000\" stroke-opacity=\"1\" stroke-width=\"3.2\"/>\n",
       "<circle clip-path=\"url(#clip332)\" cx=\"2094.32\" cy=\"579.574\" r=\"14.4\" fill=\"#009af9\" fill-rule=\"evenodd\" fill-opacity=\"1\" stroke=\"#000000\" stroke-opacity=\"1\" stroke-width=\"3.2\"/>\n",
       "<circle clip-path=\"url(#clip332)\" cx=\"2103.68\" cy=\"432.1\" r=\"14.4\" fill=\"#009af9\" fill-rule=\"evenodd\" fill-opacity=\"1\" stroke=\"#000000\" stroke-opacity=\"1\" stroke-width=\"3.2\"/>\n",
       "<circle clip-path=\"url(#clip332)\" cx=\"2113.04\" cy=\"440.415\" r=\"14.4\" fill=\"#009af9\" fill-rule=\"evenodd\" fill-opacity=\"1\" stroke=\"#000000\" stroke-opacity=\"1\" stroke-width=\"3.2\"/>\n",
       "<circle clip-path=\"url(#clip332)\" cx=\"2122.41\" cy=\"351.496\" r=\"14.4\" fill=\"#009af9\" fill-rule=\"evenodd\" fill-opacity=\"1\" stroke=\"#000000\" stroke-opacity=\"1\" stroke-width=\"3.2\"/>\n",
       "<circle clip-path=\"url(#clip332)\" cx=\"2131.77\" cy=\"472.44\" r=\"14.4\" fill=\"#009af9\" fill-rule=\"evenodd\" fill-opacity=\"1\" stroke=\"#000000\" stroke-opacity=\"1\" stroke-width=\"3.2\"/>\n",
       "<circle clip-path=\"url(#clip332)\" cx=\"2141.13\" cy=\"370.135\" r=\"14.4\" fill=\"#009af9\" fill-rule=\"evenodd\" fill-opacity=\"1\" stroke=\"#000000\" stroke-opacity=\"1\" stroke-width=\"3.2\"/>\n",
       "<circle clip-path=\"url(#clip332)\" cx=\"2150.5\" cy=\"334.169\" r=\"14.4\" fill=\"#009af9\" fill-rule=\"evenodd\" fill-opacity=\"1\" stroke=\"#000000\" stroke-opacity=\"1\" stroke-width=\"3.2\"/>\n",
       "<circle clip-path=\"url(#clip332)\" cx=\"2159.86\" cy=\"440.929\" r=\"14.4\" fill=\"#009af9\" fill-rule=\"evenodd\" fill-opacity=\"1\" stroke=\"#000000\" stroke-opacity=\"1\" stroke-width=\"3.2\"/>\n",
       "<circle clip-path=\"url(#clip332)\" cx=\"2169.23\" cy=\"333.283\" r=\"14.4\" fill=\"#009af9\" fill-rule=\"evenodd\" fill-opacity=\"1\" stroke=\"#000000\" stroke-opacity=\"1\" stroke-width=\"3.2\"/>\n",
       "<circle clip-path=\"url(#clip332)\" cx=\"2178.59\" cy=\"396.017\" r=\"14.4\" fill=\"#009af9\" fill-rule=\"evenodd\" fill-opacity=\"1\" stroke=\"#000000\" stroke-opacity=\"1\" stroke-width=\"3.2\"/>\n",
       "<circle clip-path=\"url(#clip332)\" cx=\"2187.95\" cy=\"239.582\" r=\"14.4\" fill=\"#009af9\" fill-rule=\"evenodd\" fill-opacity=\"1\" stroke=\"#000000\" stroke-opacity=\"1\" stroke-width=\"3.2\"/>\n",
       "<circle clip-path=\"url(#clip332)\" cx=\"2197.32\" cy=\"334.502\" r=\"14.4\" fill=\"#009af9\" fill-rule=\"evenodd\" fill-opacity=\"1\" stroke=\"#000000\" stroke-opacity=\"1\" stroke-width=\"3.2\"/>\n",
       "<circle clip-path=\"url(#clip332)\" cx=\"2206.68\" cy=\"317.942\" r=\"14.4\" fill=\"#009af9\" fill-rule=\"evenodd\" fill-opacity=\"1\" stroke=\"#000000\" stroke-opacity=\"1\" stroke-width=\"3.2\"/>\n",
       "<circle clip-path=\"url(#clip332)\" cx=\"2216.04\" cy=\"245.894\" r=\"14.4\" fill=\"#009af9\" fill-rule=\"evenodd\" fill-opacity=\"1\" stroke=\"#000000\" stroke-opacity=\"1\" stroke-width=\"3.2\"/>\n",
       "<circle clip-path=\"url(#clip332)\" cx=\"2225.41\" cy=\"289.348\" r=\"14.4\" fill=\"#009af9\" fill-rule=\"evenodd\" fill-opacity=\"1\" stroke=\"#000000\" stroke-opacity=\"1\" stroke-width=\"3.2\"/>\n",
       "<circle clip-path=\"url(#clip332)\" cx=\"2234.77\" cy=\"254.694\" r=\"14.4\" fill=\"#009af9\" fill-rule=\"evenodd\" fill-opacity=\"1\" stroke=\"#000000\" stroke-opacity=\"1\" stroke-width=\"3.2\"/>\n",
       "<circle clip-path=\"url(#clip332)\" cx=\"2244.14\" cy=\"87.9763\" r=\"14.4\" fill=\"#009af9\" fill-rule=\"evenodd\" fill-opacity=\"1\" stroke=\"#000000\" stroke-opacity=\"1\" stroke-width=\"3.2\"/>\n",
       "<circle clip-path=\"url(#clip332)\" cx=\"2253.5\" cy=\"154.556\" r=\"14.4\" fill=\"#009af9\" fill-rule=\"evenodd\" fill-opacity=\"1\" stroke=\"#000000\" stroke-opacity=\"1\" stroke-width=\"3.2\"/>\n",
       "<circle clip-path=\"url(#clip332)\" cx=\"2262.86\" cy=\"255.204\" r=\"14.4\" fill=\"#009af9\" fill-rule=\"evenodd\" fill-opacity=\"1\" stroke=\"#000000\" stroke-opacity=\"1\" stroke-width=\"3.2\"/>\n",
       "<circle clip-path=\"url(#clip332)\" cx=\"2272.23\" cy=\"264.931\" r=\"14.4\" fill=\"#009af9\" fill-rule=\"evenodd\" fill-opacity=\"1\" stroke=\"#000000\" stroke-opacity=\"1\" stroke-width=\"3.2\"/>\n",
       "<circle clip-path=\"url(#clip332)\" cx=\"2281.59\" cy=\"192.092\" r=\"14.4\" fill=\"#009af9\" fill-rule=\"evenodd\" fill-opacity=\"1\" stroke=\"#000000\" stroke-opacity=\"1\" stroke-width=\"3.2\"/>\n",
       "<circle clip-path=\"url(#clip332)\" cx=\"2290.95\" cy=\"121.065\" r=\"14.4\" fill=\"#009af9\" fill-rule=\"evenodd\" fill-opacity=\"1\" stroke=\"#000000\" stroke-opacity=\"1\" stroke-width=\"3.2\"/>\n",
       "<polyline clip-path=\"url(#clip332)\" style=\"stroke:#e26f46; stroke-linecap:round; stroke-linejoin:round; stroke-width:4; stroke-opacity:1; fill:none\" points=\"230.922,614.017 240.286,627.905 249.65,641.647 259.014,655.241 268.377,668.689 277.741,681.989 287.105,695.142 296.469,708.149 305.833,721.009 315.196,733.721 324.56,746.287 333.924,758.705 343.288,770.977 352.651,783.102 362.015,795.08 371.379,806.91 380.743,818.594 390.107,830.131 399.47,841.521 408.834,852.764 418.198,863.86 427.562,874.809 436.926,885.611 446.289,896.266 455.653,906.774 465.017,917.135 474.381,927.349 483.744,937.416 493.108,947.337 502.472,957.11 511.836,966.736 521.2,976.215 530.563,985.548 539.927,994.733 549.291,1003.77 558.655,1012.66 568.019,1021.41 577.382,1030.01 586.746,1038.46 596.11,1046.76 605.474,1054.92 614.837,1062.93 624.201,1070.79 633.565,1078.5 642.929,1086.07 652.293,1093.49 661.656,1100.77 671.02,1107.9 680.384,1114.88 689.748,1121.71 699.112,1128.4 708.475,1134.94 717.839,1141.33 727.203,1147.58 736.567,1153.68 745.93,1159.63 755.294,1165.43 764.658,1171.09 774.022,1176.6 783.386,1181.97 792.749,1187.19 802.113,1192.26 811.477,1197.18 820.841,1201.96 830.205,1206.59 839.568,1211.07 848.932,1215.4 858.296,1219.59 867.66,1223.63 877.023,1227.53 886.387,1231.28 895.751,1234.88 905.115,1238.33 914.479,1241.64 923.842,1244.8 933.206,1247.81 942.57,1250.68 951.934,1253.39 961.298,1255.97 970.661,1258.39 980.025,1260.67 989.389,1262.8 998.753,1264.78 1008.12,1266.62 1017.48,1268.31 1026.84,1269.85 1036.21,1271.25 1045.57,1272.5 1054.94,1273.6 1064.3,1274.56 1073.66,1275.37 1083.03,1276.03 1092.39,1276.54 1101.75,1276.91 1111.12,1277.13 1120.48,1277.2 1129.85,1277.13 1139.21,1276.91 1148.57,1276.54 1157.94,1276.03 1167.3,1275.37 1176.66,1274.56 1186.03,1273.6 1195.39,1272.5 1204.76,1271.25 1214.12,1269.85 1223.48,1268.31 1232.85,1266.62 1242.21,1264.78 1251.57,1262.8 1260.94,1260.67 1270.3,1258.39 1279.67,1255.97 1289.03,1253.39 1298.39,1250.68 1307.76,1247.81 1317.12,1244.8 1326.49,1241.64 1335.85,1238.33 1345.21,1234.88 1354.58,1231.28 1363.94,1227.53 1373.3,1223.63 1382.67,1219.59 1392.03,1215.4 1401.4,1211.07 1410.76,1206.59 1420.12,1201.96 1429.49,1197.18 1438.85,1192.26 1448.21,1187.19 1457.58,1181.97 1466.94,1176.6 1476.31,1171.09 1485.67,1165.43 1495.03,1159.63 1504.4,1153.68 1513.76,1147.58 1523.12,1141.33 1532.49,1134.94 1541.85,1128.4 1551.22,1121.71 1560.58,1114.88 1569.94,1107.9 1579.31,1100.77 1588.67,1093.49 1598.03,1086.07 1607.4,1078.5 1616.76,1070.79 1626.13,1062.93 1635.49,1054.92 1644.85,1046.76 1654.22,1038.46 1663.58,1030.01 1672.95,1021.41 1682.31,1012.66 1691.67,1003.77 1701.04,994.733 1710.4,985.548 1719.76,976.215 1729.13,966.736 1738.49,957.11 1747.86,947.337 1757.22,937.416 1766.58,927.349 1775.95,917.135 1785.31,906.774 1794.67,896.266 1804.04,885.611 1813.4,874.809 1822.77,863.86 1832.13,852.764 1841.49,841.521 1850.86,830.131 1860.22,818.594 1869.58,806.91 1878.95,795.08 1888.31,783.102 1897.68,770.977 1907.04,758.705 1916.4,746.287 1925.77,733.721 1935.13,721.009 1944.49,708.149 1953.86,695.142 1963.22,681.989 1972.59,668.689 1981.95,655.241 1991.31,641.647 2000.68,627.905 2010.04,614.017 2019.41,599.982 2028.77,585.8 2038.13,571.47 2047.5,556.994 2056.86,542.371 2066.22,527.601 2075.59,512.684 2084.95,497.62 2094.32,482.409 2103.68,467.051 2113.04,451.546 2122.41,435.894 2131.77,420.095 2141.13,404.149 2150.5,388.056 2159.86,371.817 2169.23,355.43 2178.59,338.896 2187.95,322.216 2197.32,305.388 2206.68,288.413 2216.04,271.292 2225.41,254.023 2234.77,236.608 2244.14,219.045 2253.5,201.336 2262.86,183.479 2272.23,165.476 2281.59,147.326 2290.95,129.028 \"/>\n",
       "<polyline clip-path=\"url(#clip332)\" style=\"stroke:#3da44d; stroke-linecap:round; stroke-linejoin:round; stroke-width:4; stroke-opacity:1; fill:none\" points=\"230.922,512.609 240.286,549.091 249.65,581.511 259.014,610.395 268.377,636.216 277.741,659.399 287.105,680.319 296.469,699.312 305.833,716.674 315.196,732.665 324.56,747.514 333.924,761.42 343.288,774.556 352.651,787.069 362.015,799.087 371.379,810.717 380.743,822.048 390.107,833.154 399.47,844.096 408.834,854.921 418.198,865.667 427.562,876.361 436.926,887.022 446.289,897.664 455.653,908.293 465.017,918.909 474.381,929.51 483.744,940.09 493.108,950.639 502.472,961.147 511.836,971.6 521.2,981.984 530.563,992.285 539.927,1002.49 549.291,1012.58 558.655,1022.54 568.019,1032.36 577.382,1042.03 586.746,1051.52 596.11,1060.84 605.474,1069.97 614.837,1078.9 624.201,1087.62 633.565,1096.13 642.929,1104.42 652.293,1112.48 661.656,1120.32 671.02,1127.93 680.384,1135.31 689.748,1142.46 699.112,1149.38 708.475,1156.07 717.839,1162.54 727.203,1168.8 736.567,1174.83 745.93,1180.65 755.294,1186.27 764.658,1191.69 774.022,1196.91 783.386,1201.95 792.749,1206.8 802.113,1211.48 811.477,1215.99 820.841,1220.33 830.205,1224.52 839.568,1228.56 848.932,1232.45 858.296,1236.21 867.66,1239.82 877.023,1243.31 886.387,1246.67 895.751,1249.91 905.115,1253.02 914.479,1256.02 923.842,1258.91 933.206,1261.68 942.57,1264.33 951.934,1266.88 961.298,1269.31 970.661,1271.63 980.025,1273.84 989.389,1275.93 998.753,1277.9 1008.12,1279.76 1017.48,1281.49 1026.84,1283.09 1036.21,1284.57 1045.57,1285.92 1054.94,1287.13 1064.3,1288.2 1073.66,1289.12 1083.03,1289.9 1092.39,1290.52 1101.75,1290.99 1111.12,1291.3 1120.48,1291.44 1129.85,1291.41 1139.21,1291.2 1148.57,1290.82 1157.94,1290.26 1167.3,1289.51 1176.66,1288.58 1186.03,1287.45 1195.39,1286.13 1204.76,1284.62 1214.12,1282.91 1223.48,1281 1232.85,1278.89 1242.21,1276.59 1251.57,1274.08 1260.94,1271.38 1270.3,1268.48 1279.67,1265.39 1289.03,1262.1 1298.39,1258.62 1307.76,1254.95 1317.12,1251.09 1326.49,1247.06 1335.85,1242.84 1345.21,1238.45 1354.58,1233.9 1363.94,1229.18 1373.3,1224.3 1382.67,1219.26 1392.03,1214.08 1401.4,1208.76 1410.76,1203.3 1420.12,1197.71 1429.49,1191.99 1438.85,1186.15 1448.21,1180.2 1457.58,1174.15 1466.94,1167.98 1476.31,1161.72 1485.67,1155.37 1495.03,1148.93 1504.4,1142.4 1513.76,1135.8 1523.12,1129.11 1532.49,1122.35 1541.85,1115.51 1551.22,1108.61 1560.58,1101.63 1569.94,1094.58 1579.31,1087.45 1588.67,1080.26 1598.03,1072.99 1607.4,1065.64 1616.76,1058.22 1626.13,1050.71 1635.49,1043.11 1644.85,1035.41 1654.22,1027.62 1663.58,1019.72 1672.95,1011.7 1682.31,1003.57 1691.67,995.306 1701.04,986.903 1710.4,978.354 1719.76,969.649 1729.13,960.778 1738.49,951.731 1747.86,942.499 1757.22,933.073 1766.58,923.442 1775.95,913.598 1785.31,903.53 1794.67,893.232 1804.04,882.694 1813.4,871.909 1822.77,860.871 1832.13,849.575 1841.49,838.015 1850.86,826.189 1860.22,814.094 1869.58,801.729 1878.95,789.095 1888.31,776.196 1897.68,763.034 1907.04,749.616 1916.4,735.949 1925.77,722.043 1935.13,707.91 1944.49,693.563 1953.86,679.018 1963.22,664.293 1972.59,649.407 1981.95,634.381 1991.31,619.239 2000.68,604.005 2010.04,588.705 2019.41,573.368 2028.77,558.021 2038.13,542.693 2047.5,527.415 2056.86,512.214 2066.22,497.12 2075.59,482.16 2084.95,467.36 2094.32,452.743 2103.68,438.328 2113.04,424.133 2122.41,410.167 2131.77,396.434 2141.13,382.933 2150.5,369.651 2159.86,356.568 2169.23,343.649 2178.59,330.85 2187.95,318.109 2197.32,305.347 2206.68,292.468 2216.04,279.353 2225.41,265.859 2234.77,251.818 2244.14,237.032 2253.5,221.271 2262.86,204.269 2272.23,185.72 2281.59,165.277 2290.95,142.546 \"/>\n",
       "<path clip-path=\"url(#clip330)\" d=\"M241.909 302.578 L734.415 302.578 L734.415 95.2176 L241.909 95.2176  Z\" fill=\"#ffffff\" fill-rule=\"evenodd\" fill-opacity=\"1\"/>\n",
       "<polyline clip-path=\"url(#clip330)\" style=\"stroke:#000000; stroke-linecap:round; stroke-linejoin:round; stroke-width:4; stroke-opacity:1; fill:none\" points=\"241.909,302.578 734.415,302.578 734.415,95.2176 241.909,95.2176 241.909,302.578 \"/>\n",
       "<circle clip-path=\"url(#clip330)\" cx=\"338.96\" cy=\"147.058\" r=\"23.04\" fill=\"#009af9\" fill-rule=\"evenodd\" fill-opacity=\"1\" stroke=\"#000000\" stroke-opacity=\"1\" stroke-width=\"5.12\"/>\n",
       "<path clip-path=\"url(#clip330)\" d=\"M454.922 142.347 L454.922 128.319 L459.181 128.319 L459.181 164.338 L454.922 164.338 L454.922 160.449 Q453.579 162.763 451.519 163.898 Q449.482 165.009 446.612 165.009 Q441.913 165.009 438.95 161.259 Q436.01 157.509 436.01 151.398 Q436.01 145.287 438.95 141.537 Q441.913 137.787 446.612 137.787 Q449.482 137.787 451.519 138.921 Q453.579 140.032 454.922 142.347 M440.408 151.398 Q440.408 156.097 442.329 158.782 Q444.274 161.444 447.653 161.444 Q451.033 161.444 452.977 158.782 Q454.922 156.097 454.922 151.398 Q454.922 146.699 452.977 144.037 Q451.033 141.352 447.653 141.352 Q444.274 141.352 442.329 144.037 Q440.408 146.699 440.408 151.398 Z\" fill=\"#000000\" fill-rule=\"evenodd\" fill-opacity=\"1\" /><path clip-path=\"url(#clip330)\" d=\"M479.737 151.305 Q474.575 151.305 472.584 152.486 Q470.593 153.666 470.593 156.514 Q470.593 158.782 472.075 160.125 Q473.579 161.444 476.149 161.444 Q479.69 161.444 481.82 158.944 Q483.973 156.421 483.973 152.254 L483.973 151.305 L479.737 151.305 M488.232 149.546 L488.232 164.338 L483.973 164.338 L483.973 160.402 Q482.514 162.763 480.338 163.898 Q478.163 165.009 475.014 165.009 Q471.033 165.009 468.672 162.787 Q466.334 160.541 466.334 156.791 Q466.334 152.416 469.251 150.194 Q472.19 147.972 478.001 147.972 L483.973 147.972 L483.973 147.555 Q483.973 144.615 482.028 143.018 Q480.107 141.398 476.612 141.398 Q474.389 141.398 472.283 141.93 Q470.176 142.463 468.232 143.527 L468.232 139.592 Q470.57 138.69 472.769 138.25 Q474.968 137.787 477.051 137.787 Q482.676 137.787 485.454 140.703 Q488.232 143.62 488.232 149.546 Z\" fill=\"#000000\" fill-rule=\"evenodd\" fill-opacity=\"1\" /><path clip-path=\"url(#clip330)\" d=\"M501.218 131.051 L501.218 138.412 L509.991 138.412 L509.991 141.722 L501.218 141.722 L501.218 155.796 Q501.218 158.967 502.074 159.87 Q502.954 160.773 505.616 160.773 L509.991 160.773 L509.991 164.338 L505.616 164.338 Q500.686 164.338 498.811 162.509 Q496.936 160.657 496.936 155.796 L496.936 141.722 L493.811 141.722 L493.811 138.412 L496.936 138.412 L496.936 131.051 L501.218 131.051 Z\" fill=\"#000000\" fill-rule=\"evenodd\" fill-opacity=\"1\" /><path clip-path=\"url(#clip330)\" d=\"M527.375 151.305 Q522.213 151.305 520.222 152.486 Q518.232 153.666 518.232 156.514 Q518.232 158.782 519.713 160.125 Q521.218 161.444 523.787 161.444 Q527.329 161.444 529.459 158.944 Q531.611 156.421 531.611 152.254 L531.611 151.305 L527.375 151.305 M535.871 149.546 L535.871 164.338 L531.611 164.338 L531.611 160.402 Q530.153 162.763 527.977 163.898 Q525.801 165.009 522.653 165.009 Q518.672 165.009 516.31 162.787 Q513.973 160.541 513.973 156.791 Q513.973 152.416 516.889 150.194 Q519.829 147.972 525.639 147.972 L531.611 147.972 L531.611 147.555 Q531.611 144.615 529.667 143.018 Q527.746 141.398 524.25 141.398 Q522.028 141.398 519.922 141.93 Q517.815 142.463 515.871 143.527 L515.871 139.592 Q518.209 138.69 520.408 138.25 Q522.607 137.787 524.69 137.787 Q530.315 137.787 533.093 140.703 Q535.871 143.62 535.871 149.546 Z\" fill=\"#000000\" fill-rule=\"evenodd\" fill-opacity=\"1\" /><polyline clip-path=\"url(#clip330)\" style=\"stroke:#e26f46; stroke-linecap:round; stroke-linejoin:round; stroke-width:4; stroke-opacity:1; fill:none\" points=\"266.172,198.898 411.747,198.898 \"/>\n",
       "<path clip-path=\"url(#clip330)\" d=\"M436.01 181.618 L465.246 181.618 L465.246 185.553 L452.977 185.553 L452.977 216.178 L448.278 216.178 L448.278 185.553 L436.01 185.553 L436.01 181.618 Z\" fill=\"#000000\" fill-rule=\"evenodd\" fill-opacity=\"1\" /><path clip-path=\"url(#clip330)\" d=\"M477.63 194.233 Q476.913 193.817 476.056 193.631 Q475.223 193.423 474.204 193.423 Q470.593 193.423 468.649 195.784 Q466.727 198.122 466.727 202.52 L466.727 216.178 L462.445 216.178 L462.445 190.252 L466.727 190.252 L466.727 194.28 Q468.07 191.918 470.223 190.784 Q472.376 189.627 475.454 189.627 Q475.894 189.627 476.426 189.696 Q476.959 189.743 477.607 189.858 L477.63 194.233 Z\" fill=\"#000000\" fill-rule=\"evenodd\" fill-opacity=\"1\" /><path clip-path=\"url(#clip330)\" d=\"M481.658 205.946 L481.658 190.252 L485.917 190.252 L485.917 205.784 Q485.917 209.465 487.352 211.316 Q488.787 213.145 491.658 213.145 Q495.107 213.145 497.098 210.946 Q499.112 208.747 499.112 204.951 L499.112 190.252 L503.371 190.252 L503.371 216.178 L499.112 216.178 L499.112 212.196 Q497.561 214.557 495.5 215.715 Q493.463 216.849 490.755 216.849 Q486.287 216.849 483.973 214.071 Q481.658 211.293 481.658 205.946 M492.375 189.627 L492.375 189.627 Z\" fill=\"#000000\" fill-rule=\"evenodd\" fill-opacity=\"1\" /><path clip-path=\"url(#clip330)\" d=\"M534.32 202.15 L534.32 204.233 L514.736 204.233 Q515.014 208.631 517.375 210.946 Q519.76 213.238 523.996 213.238 Q526.449 213.238 528.741 212.636 Q531.056 212.034 533.324 210.83 L533.324 214.858 Q531.033 215.83 528.625 216.34 Q526.218 216.849 523.741 216.849 Q517.537 216.849 513.903 213.238 Q510.292 209.627 510.292 203.469 Q510.292 197.104 513.718 193.377 Q517.167 189.627 523 189.627 Q528.232 189.627 531.264 193.006 Q534.32 196.363 534.32 202.15 M530.06 200.9 Q530.014 197.405 528.093 195.321 Q526.195 193.238 523.047 193.238 Q519.482 193.238 517.329 195.252 Q515.199 197.266 514.875 200.923 L530.06 200.9 Z\" fill=\"#000000\" fill-rule=\"evenodd\" fill-opacity=\"1\" /><path clip-path=\"url(#clip330)\" d=\"M575.037 191.247 L575.037 195.229 Q573.231 194.233 571.403 193.747 Q569.597 193.238 567.745 193.238 Q563.602 193.238 561.31 195.877 Q559.019 198.492 559.019 203.238 Q559.019 207.983 561.31 210.622 Q563.602 213.238 567.745 213.238 Q569.597 213.238 571.403 212.752 Q573.231 212.242 575.037 211.247 L575.037 215.182 Q573.255 216.016 571.333 216.432 Q569.435 216.849 567.282 216.849 Q561.426 216.849 557.977 213.168 Q554.528 209.488 554.528 203.238 Q554.528 196.895 558 193.261 Q561.495 189.627 567.56 189.627 Q569.528 189.627 571.403 190.043 Q573.278 190.437 575.037 191.247 Z\" fill=\"#000000\" fill-rule=\"evenodd\" fill-opacity=\"1\" /><path clip-path=\"url(#clip330)\" d=\"M582.005 205.946 L582.005 190.252 L586.264 190.252 L586.264 205.784 Q586.264 209.465 587.699 211.316 Q589.134 213.145 592.005 213.145 Q595.454 213.145 597.444 210.946 Q599.458 208.747 599.458 204.951 L599.458 190.252 L603.717 190.252 L603.717 216.178 L599.458 216.178 L599.458 212.196 Q597.907 214.557 595.847 215.715 Q593.81 216.849 591.102 216.849 Q586.634 216.849 584.319 214.071 Q582.005 211.293 582.005 205.946 M592.722 189.627 L592.722 189.627 Z\" fill=\"#000000\" fill-rule=\"evenodd\" fill-opacity=\"1\" /><path clip-path=\"url(#clip330)\" d=\"M627.514 194.233 Q626.796 193.817 625.94 193.631 Q625.106 193.423 624.088 193.423 Q620.477 193.423 618.532 195.784 Q616.611 198.122 616.611 202.52 L616.611 216.178 L612.328 216.178 L612.328 190.252 L616.611 190.252 L616.611 194.28 Q617.953 191.918 620.106 190.784 Q622.259 189.627 625.338 189.627 Q625.777 189.627 626.31 189.696 Q626.842 189.743 627.49 189.858 L627.514 194.233 Z\" fill=\"#000000\" fill-rule=\"evenodd\" fill-opacity=\"1\" /><path clip-path=\"url(#clip330)\" d=\"M628.926 190.252 L633.439 190.252 L641.541 212.011 L649.643 190.252 L654.157 190.252 L644.435 216.178 L638.648 216.178 L628.926 190.252 Z\" fill=\"#000000\" fill-rule=\"evenodd\" fill-opacity=\"1\" /><path clip-path=\"url(#clip330)\" d=\"M682.212 202.15 L682.212 204.233 L662.629 204.233 Q662.907 208.631 665.268 210.946 Q667.652 213.238 671.888 213.238 Q674.342 213.238 676.634 212.636 Q678.949 212.034 681.217 210.83 L681.217 214.858 Q678.925 215.83 676.518 216.34 Q674.111 216.849 671.634 216.849 Q665.43 216.849 661.796 213.238 Q658.185 209.627 658.185 203.469 Q658.185 197.104 661.611 193.377 Q665.06 189.627 670.893 189.627 Q676.124 189.627 679.157 193.006 Q682.212 196.363 682.212 202.15 M677.953 200.9 Q677.907 197.405 675.986 195.321 Q674.087 193.238 670.939 193.238 Q667.374 193.238 665.222 195.252 Q663.092 197.266 662.768 200.923 L677.953 200.9 Z\" fill=\"#000000\" fill-rule=\"evenodd\" fill-opacity=\"1\" /><polyline clip-path=\"url(#clip330)\" style=\"stroke:#3da44d; stroke-linecap:round; stroke-linejoin:round; stroke-width:4; stroke-opacity:1; fill:none\" points=\"266.172,250.738 411.747,250.738 \"/>\n",
       "<path clip-path=\"url(#clip330)\" d=\"M436.01 233.458 L455.871 233.458 L455.871 237.393 L440.686 237.393 L440.686 247.578 L454.39 247.578 L454.39 251.513 L440.686 251.513 L440.686 268.018 L436.01 268.018 L436.01 233.458 Z\" fill=\"#000000\" fill-rule=\"evenodd\" fill-opacity=\"1\" /><path clip-path=\"url(#clip330)\" d=\"M459.644 242.092 L463.903 242.092 L463.903 268.018 L459.644 268.018 L459.644 242.092 M459.644 231.999 L463.903 231.999 L463.903 237.393 L459.644 237.393 L459.644 231.999 Z\" fill=\"#000000\" fill-rule=\"evenodd\" fill-opacity=\"1\" /><path clip-path=\"url(#clip330)\" d=\"M477.028 234.731 L477.028 242.092 L485.801 242.092 L485.801 245.402 L477.028 245.402 L477.028 259.476 Q477.028 262.647 477.885 263.55 Q478.764 264.453 481.426 264.453 L485.801 264.453 L485.801 268.018 L481.426 268.018 Q476.496 268.018 474.621 266.189 Q472.746 264.337 472.746 259.476 L472.746 245.402 L469.621 245.402 L469.621 242.092 L472.746 242.092 L472.746 234.731 L477.028 234.731 Z\" fill=\"#000000\" fill-rule=\"evenodd\" fill-opacity=\"1\" /><path clip-path=\"url(#clip330)\" d=\"M495.616 234.731 L495.616 242.092 L504.389 242.092 L504.389 245.402 L495.616 245.402 L495.616 259.476 Q495.616 262.647 496.473 263.55 Q497.352 264.453 500.014 264.453 L504.389 264.453 L504.389 268.018 L500.014 268.018 Q495.084 268.018 493.209 266.189 Q491.334 264.337 491.334 259.476 L491.334 245.402 L488.209 245.402 L488.209 242.092 L491.334 242.092 L491.334 234.731 L495.616 234.731 Z\" fill=\"#000000\" fill-rule=\"evenodd\" fill-opacity=\"1\" /><path clip-path=\"url(#clip330)\" d=\"M532.167 253.99 L532.167 256.073 L512.584 256.073 Q512.861 260.471 515.223 262.786 Q517.607 265.078 521.843 265.078 Q524.297 265.078 526.588 264.476 Q528.903 263.874 531.172 262.67 L531.172 266.698 Q528.88 267.67 526.472 268.18 Q524.065 268.689 521.588 268.689 Q515.385 268.689 511.75 265.078 Q508.139 261.467 508.139 255.309 Q508.139 248.944 511.565 245.217 Q515.014 241.467 520.847 241.467 Q526.079 241.467 529.111 244.846 Q532.167 248.203 532.167 253.99 M527.908 252.74 Q527.861 249.245 525.94 247.161 Q524.042 245.078 520.894 245.078 Q517.329 245.078 515.176 247.092 Q513.047 249.106 512.723 252.763 L527.908 252.74 Z\" fill=\"#000000\" fill-rule=\"evenodd\" fill-opacity=\"1\" /><path clip-path=\"url(#clip330)\" d=\"M556.218 246.027 L556.218 231.999 L560.477 231.999 L560.477 268.018 L556.218 268.018 L556.218 264.129 Q554.875 266.443 552.815 267.578 Q550.778 268.689 547.908 268.689 Q543.208 268.689 540.246 264.939 Q537.306 261.189 537.306 255.078 Q537.306 248.967 540.246 245.217 Q543.208 241.467 547.908 241.467 Q550.778 241.467 552.815 242.601 Q554.875 243.712 556.218 246.027 M541.704 255.078 Q541.704 259.777 543.625 262.462 Q545.57 265.124 548.949 265.124 Q552.329 265.124 554.273 262.462 Q556.218 259.777 556.218 255.078 Q556.218 250.379 554.273 247.717 Q552.329 245.032 548.949 245.032 Q545.57 245.032 543.625 247.717 Q541.704 250.379 541.704 255.078 Z\" fill=\"#000000\" fill-rule=\"evenodd\" fill-opacity=\"1\" /><path clip-path=\"url(#clip330)\" d=\"M602.977 243.087 L602.977 247.069 Q601.171 246.073 599.342 245.587 Q597.537 245.078 595.685 245.078 Q591.542 245.078 589.25 247.717 Q586.958 250.332 586.958 255.078 Q586.958 259.823 589.25 262.462 Q591.542 265.078 595.685 265.078 Q597.537 265.078 599.342 264.592 Q601.171 264.082 602.977 263.087 L602.977 267.022 Q601.194 267.856 599.273 268.272 Q597.375 268.689 595.222 268.689 Q589.366 268.689 585.917 265.008 Q582.468 261.328 582.468 255.078 Q582.468 248.735 585.94 245.101 Q589.435 241.467 595.5 241.467 Q597.467 241.467 599.342 241.883 Q601.217 242.277 602.977 243.087 Z\" fill=\"#000000\" fill-rule=\"evenodd\" fill-opacity=\"1\" /><path clip-path=\"url(#clip330)\" d=\"M609.944 257.786 L609.944 242.092 L614.203 242.092 L614.203 257.624 Q614.203 261.305 615.639 263.156 Q617.074 264.985 619.944 264.985 Q623.393 264.985 625.384 262.786 Q627.398 260.587 627.398 256.791 L627.398 242.092 L631.657 242.092 L631.657 268.018 L627.398 268.018 L627.398 264.036 Q625.847 266.397 623.787 267.555 Q621.75 268.689 619.041 268.689 Q614.574 268.689 612.259 265.911 Q609.944 263.133 609.944 257.786 M620.662 241.467 L620.662 241.467 Z\" fill=\"#000000\" fill-rule=\"evenodd\" fill-opacity=\"1\" /><path clip-path=\"url(#clip330)\" d=\"M655.453 246.073 Q654.736 245.657 653.879 245.471 Q653.046 245.263 652.027 245.263 Q648.416 245.263 646.472 247.624 Q644.551 249.962 644.551 254.36 L644.551 268.018 L640.268 268.018 L640.268 242.092 L644.551 242.092 L644.551 246.12 Q645.893 243.758 648.046 242.624 Q650.199 241.467 653.277 241.467 Q653.717 241.467 654.25 241.536 Q654.782 241.583 655.43 241.698 L655.453 246.073 Z\" fill=\"#000000\" fill-rule=\"evenodd\" fill-opacity=\"1\" /><path clip-path=\"url(#clip330)\" d=\"M656.865 242.092 L661.379 242.092 L669.481 263.851 L677.583 242.092 L682.097 242.092 L672.374 268.018 L666.587 268.018 L656.865 242.092 Z\" fill=\"#000000\" fill-rule=\"evenodd\" fill-opacity=\"1\" /><path clip-path=\"url(#clip330)\" d=\"M710.152 253.99 L710.152 256.073 L690.569 256.073 Q690.847 260.471 693.208 262.786 Q695.592 265.078 699.828 265.078 Q702.282 265.078 704.573 264.476 Q706.888 263.874 709.157 262.67 L709.157 266.698 Q706.865 267.67 704.458 268.18 Q702.05 268.689 699.573 268.689 Q693.37 268.689 689.735 265.078 Q686.124 261.467 686.124 255.309 Q686.124 248.944 689.55 245.217 Q692.999 241.467 698.833 241.467 Q704.064 241.467 707.096 244.846 Q710.152 248.203 710.152 253.99 M705.893 252.74 Q705.847 249.245 703.925 247.161 Q702.027 245.078 698.879 245.078 Q695.314 245.078 693.161 247.092 Q691.032 249.106 690.708 252.763 L705.893 252.74 Z\" fill=\"#000000\" fill-rule=\"evenodd\" fill-opacity=\"1\" /></svg>\n"
      ]
     },
     "execution_count": 10,
     "metadata": {},
     "output_type": "execute_result"
    }
   ],
   "source": [
    "x = collect(-11:0.1:11)\n",
    "y_true = (x .^ 2) .+ (3 .* x) .- 2\n",
    "d = Normal(0,10)\n",
    "gaussian = rand(d,length(x))\n",
    "y_observed = y_true .+ gaussian\n",
    "using Plots\n",
    "scatter(x,y_observed, label=\"data\")\n",
    "plot!(x,y_true, label=\"True curve\")\n",
    "line_fit = Polynomials.fit(x,y_observed,10)\n",
    "y_fitted = line_fit.(x)\n",
    "plot!(x,y_fitted, label=\"Fitted curve\")"
   ]
  },
  {
   "cell_type": "markdown",
   "id": "bbcb4ef4",
   "metadata": {
    "id": "bbcb4ef4"
   },
   "source": [
    "3. What do you observe in the plot? What is this phenomenon called?"
   ]
  },
  {
   "cell_type": "markdown",
   "id": "49a085b1",
   "metadata": {
    "id": "49a085b1"
   },
   "source": [
    "The 10th order polynomial attempted to fit each individual point in 2.5, leading to overfitting. By increasing the number of observed samples, the overfitting problem is mitigated that results in better fit in 2.6. "
   ]
  }
 ],
 "metadata": {
  "colab": {
   "provenance": []
  },
  "kernelspec": {
   "display_name": "Julia (4 threads) 1.8.5",
   "language": "julia",
   "name": "julia-_4-threads_-1.8"
  },
  "language_info": {
   "file_extension": ".jl",
   "mimetype": "application/julia",
   "name": "julia",
   "version": "1.8.5"
  }
 },
 "nbformat": 4,
 "nbformat_minor": 5
}
