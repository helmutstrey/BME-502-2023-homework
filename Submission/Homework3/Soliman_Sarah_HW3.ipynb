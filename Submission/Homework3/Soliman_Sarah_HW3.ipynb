{
 "cells": [
  {
   "cell_type": "markdown",
   "id": "1fbe377b",
   "metadata": {},
   "source": [
    "<h1>HW3</h1>"
   ]
  },
  {
   "cell_type": "markdown",
   "id": "79813e24",
   "metadata": {},
   "source": [
    "# Question 1\n",
    "### (Bayes Theorem) Read the following example and complete the exercises \n",
    "\n",
    "Trolls Under the Bridge\n",
    "1. Trolls(T) are bad\n",
    "2. Gnomes(G) are benign\n",
    "3. Every bridge has 5 creatures under it\n",
    "\n",
    "Below are the probabilities of what creatures live under a bridge:\n",
    "1. TTGGG: 20% (E1)\n",
    "2. TGGGG: 20% (E2)\n",
    "3. GGGGG: 60% (E3)\n",
    "\n",
    "A knight is approaching a bridge and he wants to know his chance of crossing the bridge safely."
   ]
  },
  {
   "cell_type": "markdown",
   "id": "425f8583",
   "metadata": {},
   "source": [
    "### 1.1 \n",
    "\n",
    "#### What is the chance of the knight crossing the bridge safely?\n"
   ]
  },
  {
   "cell_type": "markdown",
   "id": "f46935bc",
   "metadata": {},
   "source": [
    "60% of the bridges have only gnomes which are benign, while all other bridges have at least one troll.\n",
    "For this reason, the knight has a 60% of crossing the bridge safely"
   ]
  },
  {
   "cell_type": "code",
   "execution_count": null,
   "id": "a15a79ea",
   "metadata": {},
   "outputs": [],
   "source": [
    "# P(E1) = 20%\n",
    "p_E1 = 0.2 #TTGGG so dangerous\n",
    "#P(E2) = 20%\n",
    "p_E2 =0.2 #TGGGG so dangerous\n",
    "#P(E3) = 60%\n",
    "p_E3 = 0.6 #GGGGG so safe\n",
    "println(\"The knight has a \", E3*100, \"% chance of crossing the bridge safely!\")"
   ]
  },
  {
   "cell_type": "markdown",
   "id": "61f687e4",
   "metadata": {},
   "source": [
    "### 1.2\n",
    "\n",
    "#### Before crossing a bridge, a knight captures a troll. “I now have an 80% chance of crossing safely,” he reasons, “since only the case 20% had TTGGG (E1) now have TGGG is still a threat.”\n",
    "\n",
    "#### Do you agree with him? Why?"
   ]
  },
  {
   "cell_type": "markdown",
   "id": "09025213",
   "metadata": {},
   "source": []
  },
  {
   "cell_type": "markdown",
   "id": "dc05d77e",
   "metadata": {},
   "source": [
    "I do not agree with the knight because the presence of a troll automatically means he is not on the 60% of bridges that are safe. That limits his options to E1 and E2 and gets rid 60% of the safe options."
   ]
  },
  {
   "cell_type": "code",
   "execution_count": null,
   "id": "6425a5db",
   "metadata": {},
   "outputs": [],
   "source": [
    "#P(E3|T) = (P(T|E3)*P(E3))/P(T) = 0 because all E3 bridges only have gnomes\n",
    "pE3_T = (0*p_E3)/(p_T);\n",
    "# This leaves the remaining 40% of bridges, and makes the odds worse for the knight to cross safely"
   ]
  },
  {
   "cell_type": "markdown",
   "id": "c1533b67",
   "metadata": {},
   "source": [
    "### 1.3\n",
    "\n",
    "#### Now he wants to use Bayes' theorem to calculate his chance of crossing safely given a troll captured \n",
    "\n",
    "\\begin{equation*}\n",
    "P(A|B) = \\frac{P(B|A)P(A)}{P(B)} \\\\\n",
    "P(A|B): Posteior \\\\\n",
    "P(B|A): Likelihood \\\\\n",
    "P(A): Prior \\\\\n",
    "P(B): Marginal Probability \\\\\n",
    "\\end{equation*}\n",
    "\n",
    "#### Given the three events, E1, E2, and E3, which two of the three events does the knight need to consider after a troll was captured?"
   ]
  },
  {
   "cell_type": "markdown",
   "id": "0adb7f0a",
   "metadata": {},
   "source": [
    "E1 and E2"
   ]
  },
  {
   "cell_type": "markdown",
   "id": "e45e8fa6",
   "metadata": {},
   "source": [
    "### 1.4\n",
    "\n",
    "#### Use Bayes' theorem to calculate the probability of the two events in 1.3 (separately) given the troll was captured. "
   ]
  },
  {
   "cell_type": "markdown",
   "id": "5d9c3c0b",
   "metadata": {},
   "source": [
    "Probability of one event given a troll captured: "
   ]
  },
  {
   "cell_type": "code",
   "execution_count": null,
   "id": "f2f0e7c8",
   "metadata": {},
   "outputs": [],
   "source": [
    "#P(E1|T) = (P(T|E1)*P(E1)/P(T)) where P(T) needs to be found\n",
    "#P(T) = P(E1 AND T)+P(E2 AND T) + P(E3 AND T)\n",
    "p_T = (p_E1*(2/5)) + (p_E2*(1/5)) + (p_E3*0) #out of every 25 creatures there are 3 trolls\n",
    "#and P(T|E1) is the prob of trolls on E1 bridges = 2/5 because E1 is TTGGG\n",
    "p_T_E1 = 2/5"
   ]
  },
  {
   "cell_type": "code",
   "execution_count": null,
   "id": "05c491a6",
   "metadata": {},
   "outputs": [],
   "source": [
    "# so P(E1|T) is:\n",
    "p_E1_T = p_E1*p_T_E1/p_T\n",
    "println(\"The chance that the knight is on a bridge with two trolls is \", Float16(p_E1_T*100),\"%!\")"
   ]
  },
  {
   "cell_type": "markdown",
   "id": "37843aee",
   "metadata": {},
   "source": [
    "Probability of the other event given a troll captured: "
   ]
  },
  {
   "cell_type": "code",
   "execution_count": null,
   "id": "5db10bc7",
   "metadata": {},
   "outputs": [],
   "source": [
    "#P(E2|T) = P(T|E2)*P(E2)/P(T)\n",
    "#we know P(T) so what is P(T|E2)?\n",
    "#P(T|E2) is the prob of trolls on E2 bridges = 1/5 because E2 is TGGGG\n",
    "p_T_E2 = 1/5"
   ]
  },
  {
   "cell_type": "code",
   "execution_count": null,
   "id": "415a4834",
   "metadata": {},
   "outputs": [],
   "source": [
    "# so P(E2|T) is:\n",
    "p_E2_T = p_E2 * p_T_E2/p_T\n",
    "println(\"The chance that the knight is on a bridge that had only one troll (the one he captured) is \", Float16(p_E2_T*100),\"%!\")"
   ]
  },
  {
   "cell_type": "markdown",
   "id": "f3b7f049",
   "metadata": {},
   "source": [
    "### 1.5\n",
    "\n",
    "#### What is the chance of the knight crossing safely?"
   ]
  },
  {
   "cell_type": "code",
   "execution_count": null,
   "id": "0f6fd73b",
   "metadata": {},
   "outputs": [],
   "source": [
    "#Because he captured a troll, the only chance of safety is if he was on a bridge that only had one troll or the case of E2\n",
    "println(\"Given that he captured a troll, the chances of the knight crossing the bridge safely is \", Float16(p_E2_T*100),\"%!\")"
   ]
  },
  {
   "cell_type": "markdown",
   "id": "7b815ae0",
   "metadata": {},
   "source": [
    "#### Now looking back to 1.1, the probabilities were changed after assimilating data! "
   ]
  },
  {
   "cell_type": "markdown",
   "id": "f1450094",
   "metadata": {},
   "source": [
    "# Question 2\n",
    "### (Polynomial Fitting) Read the following example and complete the exercises \n",
    "\n",
    "Biological data always comes with errors that influence the intepretation of the data significantly. In this question, we will simulate data and see how noises affect the parameter estimation."
   ]
  },
  {
   "cell_type": "code",
   "execution_count": 1,
   "id": "c20822fa",
   "metadata": {},
   "outputs": [
    {
     "name": "stderr",
     "output_type": "stream",
     "text": [
      "\u001b[32m\u001b[1m    Updating\u001b[22m\u001b[39m registry at `C:\\Users\\solim\\.julia\\registries\\General.toml`\n",
      "\u001b[32m\u001b[1m   Resolving\u001b[22m\u001b[39m package versions...\n",
      "\u001b[32m\u001b[1m  No Changes\u001b[22m\u001b[39m to `C:\\Users\\solim\\.julia\\environments\\v1.8\\Project.toml`\n",
      "\u001b[32m\u001b[1m  No Changes\u001b[22m\u001b[39m to `C:\\Users\\solim\\.julia\\environments\\v1.8\\Manifest.toml`\n"
     ]
    }
   ],
   "source": [
    "import Pkg\n",
    "Pkg.add([\"Distributions\", \"Plots\", \"Polynomials\", \"Random\"])"
   ]
  },
  {
   "cell_type": "code",
   "execution_count": 2,
   "id": "d7d1ca8d",
   "metadata": {},
   "outputs": [],
   "source": [
    "import Distributions as di\n",
    "import Plots\n",
    "import Polynomials\n",
    "import Random"
   ]
  },
  {
   "cell_type": "markdown",
   "id": "a90dd09d",
   "metadata": {},
   "source": [
    "### 2.1\n",
    "\n",
    "1. Generate the independent variable x ranging from -10 to 10 with an increment of 1\n",
    "2. Generate the dependent variable y_true using the equation y_true = x^2 + 3x - 2\n"
   ]
  },
  {
   "cell_type": "code",
   "execution_count": 3,
   "id": "6b0b33c5",
   "metadata": {},
   "outputs": [
    {
     "data": {
      "text/plain": [
       "21-element Vector{Float64}:\n",
       " -10.0\n",
       "  -9.0\n",
       "  -8.0\n",
       "  -7.0\n",
       "  -6.0\n",
       "  -5.0\n",
       "  -4.0\n",
       "  -3.0\n",
       "  -2.0\n",
       "  -1.0\n",
       "   0.0\n",
       "   1.0\n",
       "   2.0\n",
       "   3.0\n",
       "   4.0\n",
       "   5.0\n",
       "   6.0\n",
       "   7.0\n",
       "   8.0\n",
       "   9.0\n",
       "  10.0"
      ]
     },
     "execution_count": 3,
     "metadata": {},
     "output_type": "execute_result"
    }
   ],
   "source": [
    "x = -10.0:10.0\n",
    "collect(x)"
   ]
  },
  {
   "cell_type": "code",
   "execution_count": 4,
   "id": "d9ce4979",
   "metadata": {},
   "outputs": [
    {
     "data": {
      "text/plain": [
       "21-element Vector{Float64}:\n",
       "  68.0\n",
       "  52.0\n",
       "  38.0\n",
       "  26.0\n",
       "  16.0\n",
       "   8.0\n",
       "   2.0\n",
       "  -2.0\n",
       "  -4.0\n",
       "  -4.0\n",
       "  -2.0\n",
       "   2.0\n",
       "   8.0\n",
       "  16.0\n",
       "  26.0\n",
       "  38.0\n",
       "  52.0\n",
       "  68.0\n",
       "  86.0\n",
       " 106.0\n",
       " 128.0"
      ]
     },
     "execution_count": 4,
     "metadata": {},
     "output_type": "execute_result"
    }
   ],
   "source": [
    "y_true = x.^2 + 3.0 .*x .- 2"
   ]
  },
  {
   "cell_type": "markdown",
   "id": "74d2a191",
   "metadata": {},
   "source": [
    "### 2.2\n",
    "\n",
    "1. Generate the Guassian noises with zero mean and a standard deviation of 10\n",
    "\n",
    "2. Add the noises to y_true to obtain y_observed\n"
   ]
  },
  {
   "cell_type": "code",
   "execution_count": 5,
   "id": "7936417a",
   "metadata": {},
   "outputs": [
    {
     "data": {
      "text/plain": [
       "Distributions.Normal{Float64}(μ=0.0, σ=10.0)"
      ]
     },
     "execution_count": 5,
     "metadata": {},
     "output_type": "execute_result"
    }
   ],
   "source": [
    "g_noise = di.Normal(0.0,10.0)"
   ]
  },
  {
   "cell_type": "code",
   "execution_count": 6,
   "id": "cc686c91",
   "metadata": {},
   "outputs": [
    {
     "data": {
      "text/plain": [
       "21-element Vector{Float64}:\n",
       "  51.32576610456846\n",
       "  44.16617742085143\n",
       "  42.152397381426844\n",
       "  23.641425137816658\n",
       "  12.252722290790171\n",
       "  14.058494224816421\n",
       "  -8.593258323054258\n",
       " -24.04437117876267\n",
       "  -7.213824499175674\n",
       "   2.33245070403923\n",
       "  -4.290437622711517\n",
       " -12.35710123592006\n",
       "   2.9860269254130962\n",
       "   5.863160298349715\n",
       "  37.79872575324933\n",
       "  31.705116973580346\n",
       "  47.880146018156296\n",
       "  66.71821111581976\n",
       " 101.24312443344995\n",
       " 117.42114572888461\n",
       " 127.12450567891251"
      ]
     },
     "execution_count": 6,
     "metadata": {},
     "output_type": "execute_result"
    }
   ],
   "source": [
    "y_observed = y_true .+ rand(g_noise,length(x))"
   ]
  },
  {
   "cell_type": "markdown",
   "id": "ecf2e554",
   "metadata": {},
   "source": [
    "### 2.3\n",
    "\n",
    "#### Fit the data (x, y_observed) with a second order polynomial. \n",
    "\n",
    "1. Make a scatter plot of y_observed along x\n",
    "2. Plot a line of y_true along x on the scatter plot\n",
    "3. Plot a line of the fitted polynomial along x on the same plot"
   ]
  },
  {
   "cell_type": "code",
   "execution_count": 10,
   "id": "d39a136b",
   "metadata": {},
   "outputs": [
    {
     "data": {
      "image/svg+xml": [
       "<?xml version=\"1.0\" encoding=\"utf-8\"?>\n",
       "<svg xmlns=\"http://www.w3.org/2000/svg\" xmlns:xlink=\"http://www.w3.org/1999/xlink\" width=\"600\" height=\"400\" viewBox=\"0 0 2400 1600\">\n",
       "<defs>\n",
       "  <clipPath id=\"clip530\">\n",
       "    <rect x=\"0\" y=\"0\" width=\"2400\" height=\"1600\"/>\n",
       "  </clipPath>\n",
       "</defs>\n",
       "<path clip-path=\"url(#clip530)\" d=\"M0 1600 L2400 1600 L2400 0 L0 0  Z\" fill=\"#ffffff\" fill-rule=\"evenodd\" fill-opacity=\"1\"/>\n",
       "<defs>\n",
       "  <clipPath id=\"clip531\">\n",
       "    <rect x=\"480\" y=\"0\" width=\"1681\" height=\"1600\"/>\n",
       "  </clipPath>\n",
       "</defs>\n",
       "<path clip-path=\"url(#clip530)\" d=\"M169.121 1486.45 L2352.76 1486.45 L2352.76 47.2441 L169.121 47.2441  Z\" fill=\"#ffffff\" fill-rule=\"evenodd\" fill-opacity=\"1\"/>\n",
       "<defs>\n",
       "  <clipPath id=\"clip532\">\n",
       "    <rect x=\"169\" y=\"47\" width=\"2185\" height=\"1440\"/>\n",
       "  </clipPath>\n",
       "</defs>\n",
       "<polyline clip-path=\"url(#clip532)\" style=\"stroke:#000000; stroke-linecap:round; stroke-linejoin:round; stroke-width:2; stroke-opacity:0.1; fill:none\" points=\"230.922,1486.45 230.922,47.2441 \"/>\n",
       "<polyline clip-path=\"url(#clip532)\" style=\"stroke:#000000; stroke-linecap:round; stroke-linejoin:round; stroke-width:2; stroke-opacity:0.1; fill:none\" points=\"745.93,1486.45 745.93,47.2441 \"/>\n",
       "<polyline clip-path=\"url(#clip532)\" style=\"stroke:#000000; stroke-linecap:round; stroke-linejoin:round; stroke-width:2; stroke-opacity:0.1; fill:none\" points=\"1260.94,1486.45 1260.94,47.2441 \"/>\n",
       "<polyline clip-path=\"url(#clip532)\" style=\"stroke:#000000; stroke-linecap:round; stroke-linejoin:round; stroke-width:2; stroke-opacity:0.1; fill:none\" points=\"1775.95,1486.45 1775.95,47.2441 \"/>\n",
       "<polyline clip-path=\"url(#clip532)\" style=\"stroke:#000000; stroke-linecap:round; stroke-linejoin:round; stroke-width:2; stroke-opacity:0.1; fill:none\" points=\"2290.95,1486.45 2290.95,47.2441 \"/>\n",
       "<polyline clip-path=\"url(#clip530)\" style=\"stroke:#000000; stroke-linecap:round; stroke-linejoin:round; stroke-width:4; stroke-opacity:1; fill:none\" points=\"169.121,1486.45 2352.76,1486.45 \"/>\n",
       "<polyline clip-path=\"url(#clip530)\" style=\"stroke:#000000; stroke-linecap:round; stroke-linejoin:round; stroke-width:4; stroke-opacity:1; fill:none\" points=\"230.922,1486.45 230.922,1467.55 \"/>\n",
       "<polyline clip-path=\"url(#clip530)\" style=\"stroke:#000000; stroke-linecap:round; stroke-linejoin:round; stroke-width:4; stroke-opacity:1; fill:none\" points=\"745.93,1486.45 745.93,1467.55 \"/>\n",
       "<polyline clip-path=\"url(#clip530)\" style=\"stroke:#000000; stroke-linecap:round; stroke-linejoin:round; stroke-width:4; stroke-opacity:1; fill:none\" points=\"1260.94,1486.45 1260.94,1467.55 \"/>\n",
       "<polyline clip-path=\"url(#clip530)\" style=\"stroke:#000000; stroke-linecap:round; stroke-linejoin:round; stroke-width:4; stroke-opacity:1; fill:none\" points=\"1775.95,1486.45 1775.95,1467.55 \"/>\n",
       "<polyline clip-path=\"url(#clip530)\" style=\"stroke:#000000; stroke-linecap:round; stroke-linejoin:round; stroke-width:4; stroke-opacity:1; fill:none\" points=\"2290.95,1486.45 2290.95,1467.55 \"/>\n",
       "<path clip-path=\"url(#clip530)\" d=\"M184.985 1532.02 L214.661 1532.02 L214.661 1535.95 L184.985 1535.95 L184.985 1532.02 Z\" fill=\"#000000\" fill-rule=\"evenodd\" fill-opacity=\"1\" /><path clip-path=\"url(#clip530)\" d=\"M225.564 1544.91 L233.202 1544.91 L233.202 1518.55 L224.892 1520.21 L224.892 1515.95 L233.156 1514.29 L237.832 1514.29 L237.832 1544.91 L245.471 1544.91 L245.471 1548.85 L225.564 1548.85 L225.564 1544.91 Z\" fill=\"#000000\" fill-rule=\"evenodd\" fill-opacity=\"1\" /><path clip-path=\"url(#clip530)\" d=\"M264.915 1517.37 Q261.304 1517.37 259.475 1520.93 Q257.67 1524.47 257.67 1531.6 Q257.67 1538.71 259.475 1542.27 Q261.304 1545.82 264.915 1545.82 Q268.549 1545.82 270.355 1542.27 Q272.184 1538.71 272.184 1531.6 Q272.184 1524.47 270.355 1520.93 Q268.549 1517.37 264.915 1517.37 M264.915 1513.66 Q270.725 1513.66 273.781 1518.27 Q276.86 1522.85 276.86 1531.6 Q276.86 1540.33 273.781 1544.94 Q270.725 1549.52 264.915 1549.52 Q259.105 1549.52 256.026 1544.94 Q252.971 1540.33 252.971 1531.6 Q252.971 1522.85 256.026 1518.27 Q259.105 1513.66 264.915 1513.66 Z\" fill=\"#000000\" fill-rule=\"evenodd\" fill-opacity=\"1\" /><path clip-path=\"url(#clip530)\" d=\"M715.572 1532.02 L745.248 1532.02 L745.248 1535.95 L715.572 1535.95 L715.572 1532.02 Z\" fill=\"#000000\" fill-rule=\"evenodd\" fill-opacity=\"1\" /><path clip-path=\"url(#clip530)\" d=\"M755.386 1514.29 L773.743 1514.29 L773.743 1518.22 L759.669 1518.22 L759.669 1526.7 Q760.687 1526.35 761.706 1526.19 Q762.724 1526 763.743 1526 Q769.53 1526 772.909 1529.17 Q776.289 1532.34 776.289 1537.76 Q776.289 1543.34 772.817 1546.44 Q769.345 1549.52 763.025 1549.52 Q760.849 1549.52 758.581 1549.15 Q756.335 1548.78 753.928 1548.04 L753.928 1543.34 Q756.011 1544.47 758.234 1545.03 Q760.456 1545.58 762.933 1545.58 Q766.937 1545.58 769.275 1543.48 Q771.613 1541.37 771.613 1537.76 Q771.613 1534.15 769.275 1532.04 Q766.937 1529.94 762.933 1529.94 Q761.058 1529.94 759.183 1530.35 Q757.331 1530.77 755.386 1531.65 L755.386 1514.29 Z\" fill=\"#000000\" fill-rule=\"evenodd\" fill-opacity=\"1\" /><path clip-path=\"url(#clip530)\" d=\"M1260.94 1517.37 Q1257.33 1517.37 1255.5 1520.93 Q1253.69 1524.47 1253.69 1531.6 Q1253.69 1538.71 1255.5 1542.27 Q1257.33 1545.82 1260.94 1545.82 Q1264.57 1545.82 1266.38 1542.27 Q1268.21 1538.71 1268.21 1531.6 Q1268.21 1524.47 1266.38 1520.93 Q1264.57 1517.37 1260.94 1517.37 M1260.94 1513.66 Q1266.75 1513.66 1269.8 1518.27 Q1272.88 1522.85 1272.88 1531.6 Q1272.88 1540.33 1269.8 1544.94 Q1266.75 1549.52 1260.94 1549.52 Q1255.13 1549.52 1252.05 1544.94 Q1248.99 1540.33 1248.99 1531.6 Q1248.99 1522.85 1252.05 1518.27 Q1255.13 1513.66 1260.94 1513.66 Z\" fill=\"#000000\" fill-rule=\"evenodd\" fill-opacity=\"1\" /><path clip-path=\"url(#clip530)\" d=\"M1766.22 1514.29 L1784.58 1514.29 L1784.58 1518.22 L1770.51 1518.22 L1770.51 1526.7 Q1771.53 1526.35 1772.54 1526.19 Q1773.56 1526 1774.58 1526 Q1780.37 1526 1783.75 1529.17 Q1787.13 1532.34 1787.13 1537.76 Q1787.13 1543.34 1783.66 1546.44 Q1780.18 1549.52 1773.86 1549.52 Q1771.69 1549.52 1769.42 1549.15 Q1767.17 1548.78 1764.77 1548.04 L1764.77 1543.34 Q1766.85 1544.47 1769.07 1545.03 Q1771.29 1545.58 1773.77 1545.58 Q1777.78 1545.58 1780.11 1543.48 Q1782.45 1541.37 1782.45 1537.76 Q1782.45 1534.15 1780.11 1532.04 Q1777.78 1529.94 1773.77 1529.94 Q1771.9 1529.94 1770.02 1530.35 Q1768.17 1530.77 1766.22 1531.65 L1766.22 1514.29 Z\" fill=\"#000000\" fill-rule=\"evenodd\" fill-opacity=\"1\" /><path clip-path=\"url(#clip530)\" d=\"M2265.64 1544.91 L2273.28 1544.91 L2273.28 1518.55 L2264.97 1520.21 L2264.97 1515.95 L2273.24 1514.29 L2277.91 1514.29 L2277.91 1544.91 L2285.55 1544.91 L2285.55 1548.85 L2265.64 1548.85 L2265.64 1544.91 Z\" fill=\"#000000\" fill-rule=\"evenodd\" fill-opacity=\"1\" /><path clip-path=\"url(#clip530)\" d=\"M2304.99 1517.37 Q2301.38 1517.37 2299.55 1520.93 Q2297.75 1524.47 2297.75 1531.6 Q2297.75 1538.71 2299.55 1542.27 Q2301.38 1545.82 2304.99 1545.82 Q2308.63 1545.82 2310.43 1542.27 Q2312.26 1538.71 2312.26 1531.6 Q2312.26 1524.47 2310.43 1520.93 Q2308.63 1517.37 2304.99 1517.37 M2304.99 1513.66 Q2310.8 1513.66 2313.86 1518.27 Q2316.94 1522.85 2316.94 1531.6 Q2316.94 1540.33 2313.86 1544.94 Q2310.8 1549.52 2304.99 1549.52 Q2299.18 1549.52 2296.11 1544.94 Q2293.05 1540.33 2293.05 1531.6 Q2293.05 1522.85 2296.11 1518.27 Q2299.18 1513.66 2304.99 1513.66 Z\" fill=\"#000000\" fill-rule=\"evenodd\" fill-opacity=\"1\" /><polyline clip-path=\"url(#clip532)\" style=\"stroke:#000000; stroke-linecap:round; stroke-linejoin:round; stroke-width:2; stroke-opacity:0.1; fill:none\" points=\"169.121,1239.58 2352.76,1239.58 \"/>\n",
       "<polyline clip-path=\"url(#clip532)\" style=\"stroke:#000000; stroke-linecap:round; stroke-linejoin:round; stroke-width:2; stroke-opacity:0.1; fill:none\" points=\"169.121,982.381 2352.76,982.381 \"/>\n",
       "<polyline clip-path=\"url(#clip532)\" style=\"stroke:#000000; stroke-linecap:round; stroke-linejoin:round; stroke-width:2; stroke-opacity:0.1; fill:none\" points=\"169.121,725.184 2352.76,725.184 \"/>\n",
       "<polyline clip-path=\"url(#clip532)\" style=\"stroke:#000000; stroke-linecap:round; stroke-linejoin:round; stroke-width:2; stroke-opacity:0.1; fill:none\" points=\"169.121,467.988 2352.76,467.988 \"/>\n",
       "<polyline clip-path=\"url(#clip532)\" style=\"stroke:#000000; stroke-linecap:round; stroke-linejoin:round; stroke-width:2; stroke-opacity:0.1; fill:none\" points=\"169.121,210.791 2352.76,210.791 \"/>\n",
       "<polyline clip-path=\"url(#clip530)\" style=\"stroke:#000000; stroke-linecap:round; stroke-linejoin:round; stroke-width:4; stroke-opacity:1; fill:none\" points=\"169.121,1486.45 169.121,47.2441 \"/>\n",
       "<polyline clip-path=\"url(#clip530)\" style=\"stroke:#000000; stroke-linecap:round; stroke-linejoin:round; stroke-width:4; stroke-opacity:1; fill:none\" points=\"169.121,1239.58 188.019,1239.58 \"/>\n",
       "<polyline clip-path=\"url(#clip530)\" style=\"stroke:#000000; stroke-linecap:round; stroke-linejoin:round; stroke-width:4; stroke-opacity:1; fill:none\" points=\"169.121,982.381 188.019,982.381 \"/>\n",
       "<polyline clip-path=\"url(#clip530)\" style=\"stroke:#000000; stroke-linecap:round; stroke-linejoin:round; stroke-width:4; stroke-opacity:1; fill:none\" points=\"169.121,725.184 188.019,725.184 \"/>\n",
       "<polyline clip-path=\"url(#clip530)\" style=\"stroke:#000000; stroke-linecap:round; stroke-linejoin:round; stroke-width:4; stroke-opacity:1; fill:none\" points=\"169.121,467.988 188.019,467.988 \"/>\n",
       "<polyline clip-path=\"url(#clip530)\" style=\"stroke:#000000; stroke-linecap:round; stroke-linejoin:round; stroke-width:4; stroke-opacity:1; fill:none\" points=\"169.121,210.791 188.019,210.791 \"/>\n",
       "<path clip-path=\"url(#clip530)\" d=\"M121.177 1225.38 Q117.566 1225.38 115.737 1228.94 Q113.932 1232.48 113.932 1239.61 Q113.932 1246.72 115.737 1250.28 Q117.566 1253.83 121.177 1253.83 Q124.811 1253.83 126.617 1250.28 Q128.445 1246.72 128.445 1239.61 Q128.445 1232.48 126.617 1228.94 Q124.811 1225.38 121.177 1225.38 M121.177 1221.67 Q126.987 1221.67 130.043 1226.28 Q133.121 1230.86 133.121 1239.61 Q133.121 1248.34 130.043 1252.95 Q126.987 1257.53 121.177 1257.53 Q115.367 1257.53 112.288 1252.95 Q109.233 1248.34 109.233 1239.61 Q109.233 1230.86 112.288 1226.28 Q115.367 1221.67 121.177 1221.67 Z\" fill=\"#000000\" fill-rule=\"evenodd\" fill-opacity=\"1\" /><path clip-path=\"url(#clip530)\" d=\"M95.1817 981.027 Q98.5382 981.745 100.413 984.013 Q102.311 986.282 102.311 989.615 Q102.311 994.731 98.7928 997.532 Q95.2743 1000.33 88.7928 1000.33 Q86.6169 1000.33 84.3021 999.893 Q82.0105 999.476 79.5568 998.62 L79.5568 994.106 Q81.5012 995.24 83.816 995.819 Q86.1308 996.397 88.654 996.397 Q93.0521 996.397 95.3437 994.661 Q97.6585 992.925 97.6585 989.615 Q97.6585 986.559 95.5058 984.846 Q93.3762 983.11 89.5567 983.11 L85.529 983.11 L85.529 979.268 L89.7419 979.268 Q93.191 979.268 95.0197 977.902 Q96.8484 976.513 96.8484 973.921 Q96.8484 971.259 94.9502 969.847 Q93.0752 968.411 89.5567 968.411 Q87.6354 968.411 85.4364 968.828 Q83.2373 969.245 80.5984 970.124 L80.5984 965.958 Q83.2605 965.217 85.5753 964.847 Q87.9132 964.476 89.9734 964.476 Q95.2974 964.476 98.3993 966.907 Q101.501 969.314 101.501 973.434 Q101.501 976.305 99.8576 978.296 Q98.2141 980.263 95.1817 981.027 Z\" fill=\"#000000\" fill-rule=\"evenodd\" fill-opacity=\"1\" /><path clip-path=\"url(#clip530)\" d=\"M121.177 968.18 Q117.566 968.18 115.737 971.745 Q113.932 975.286 113.932 982.416 Q113.932 989.522 115.737 993.087 Q117.566 996.629 121.177 996.629 Q124.811 996.629 126.617 993.087 Q128.445 989.522 128.445 982.416 Q128.445 975.286 126.617 971.745 Q124.811 968.18 121.177 968.18 M121.177 964.476 Q126.987 964.476 130.043 969.083 Q133.121 973.666 133.121 982.416 Q133.121 991.143 130.043 995.749 Q126.987 1000.33 121.177 1000.33 Q115.367 1000.33 112.288 995.749 Q109.233 991.143 109.233 982.416 Q109.233 973.666 112.288 969.083 Q115.367 964.476 121.177 964.476 Z\" fill=\"#000000\" fill-rule=\"evenodd\" fill-opacity=\"1\" /><path clip-path=\"url(#clip530)\" d=\"M91.5938 723.321 Q88.4456 723.321 86.5938 725.474 Q84.7651 727.627 84.7651 731.377 Q84.7651 735.103 86.5938 737.279 Q88.4456 739.432 91.5938 739.432 Q94.7419 739.432 96.5706 737.279 Q98.4224 735.103 98.4224 731.377 Q98.4224 727.627 96.5706 725.474 Q94.7419 723.321 91.5938 723.321 M100.876 708.668 L100.876 712.928 Q99.1169 712.094 97.3113 711.654 Q95.5289 711.215 93.7697 711.215 Q89.1401 711.215 86.6864 714.34 Q84.2558 717.465 83.9086 723.784 Q85.2743 721.77 87.3345 720.705 Q89.3947 719.617 91.8715 719.617 Q97.0798 719.617 100.089 722.789 Q103.121 725.937 103.121 731.377 Q103.121 736.701 99.9733 739.918 Q96.8252 743.136 91.5938 743.136 Q85.5984 743.136 82.4271 738.552 Q79.2559 733.946 79.2559 725.219 Q79.2559 717.025 83.1447 712.164 Q87.0336 707.279 93.5845 707.279 Q95.3437 707.279 97.1261 707.627 Q98.9317 707.974 100.876 708.668 Z\" fill=\"#000000\" fill-rule=\"evenodd\" fill-opacity=\"1\" /><path clip-path=\"url(#clip530)\" d=\"M121.177 710.983 Q117.566 710.983 115.737 714.548 Q113.932 718.09 113.932 725.219 Q113.932 732.326 115.737 735.89 Q117.566 739.432 121.177 739.432 Q124.811 739.432 126.617 735.89 Q128.445 732.326 128.445 725.219 Q128.445 718.09 126.617 714.548 Q124.811 710.983 121.177 710.983 M121.177 707.279 Q126.987 707.279 130.043 711.886 Q133.121 716.469 133.121 725.219 Q133.121 733.946 130.043 738.552 Q126.987 743.136 121.177 743.136 Q115.367 743.136 112.288 738.552 Q109.233 733.946 109.233 725.219 Q109.233 716.469 112.288 711.886 Q115.367 707.279 121.177 707.279 Z\" fill=\"#000000\" fill-rule=\"evenodd\" fill-opacity=\"1\" /><path clip-path=\"url(#clip530)\" d=\"M81.154 484.55 L81.154 480.291 Q82.9133 481.124 84.7188 481.564 Q86.5243 482.004 88.2604 482.004 Q92.89 482.004 95.3206 478.902 Q97.7743 475.777 98.1215 469.435 Q96.7789 471.425 94.7187 472.49 Q92.6586 473.555 90.1586 473.555 Q84.9734 473.555 81.941 470.43 Q78.9318 467.282 78.9318 461.842 Q78.9318 456.518 82.0799 453.3 Q85.2281 450.083 90.4595 450.083 Q96.4548 450.083 99.603 454.689 Q102.774 459.273 102.774 468.022 Q102.774 476.194 98.8854 481.078 Q95.0197 485.939 88.4688 485.939 Q86.7095 485.939 84.904 485.592 Q83.0984 485.245 81.154 484.55 M90.4595 469.897 Q93.6076 469.897 95.4363 467.745 Q97.2882 465.592 97.2882 461.842 Q97.2882 458.115 95.4363 455.962 Q93.6076 453.786 90.4595 453.786 Q87.3114 453.786 85.4595 455.962 Q83.6308 458.115 83.6308 461.842 Q83.6308 465.592 85.4595 467.745 Q87.3114 469.897 90.4595 469.897 Z\" fill=\"#000000\" fill-rule=\"evenodd\" fill-opacity=\"1\" /><path clip-path=\"url(#clip530)\" d=\"M121.177 453.786 Q117.566 453.786 115.737 457.351 Q113.932 460.893 113.932 468.022 Q113.932 475.129 115.737 478.694 Q117.566 482.235 121.177 482.235 Q124.811 482.235 126.617 478.694 Q128.445 475.129 128.445 468.022 Q128.445 460.893 126.617 457.351 Q124.811 453.786 121.177 453.786 M121.177 450.083 Q126.987 450.083 130.043 454.689 Q133.121 459.273 133.121 468.022 Q133.121 476.749 130.043 481.356 Q126.987 485.939 121.177 485.939 Q115.367 485.939 112.288 481.356 Q109.233 476.749 109.233 468.022 Q109.233 459.273 112.288 454.689 Q115.367 450.083 121.177 450.083 Z\" fill=\"#000000\" fill-rule=\"evenodd\" fill-opacity=\"1\" /><path clip-path=\"url(#clip530)\" d=\"M51.6634 224.136 L59.3023 224.136 L59.3023 197.77 L50.9921 199.437 L50.9921 195.178 L59.256 193.511 L63.9319 193.511 L63.9319 224.136 L71.5707 224.136 L71.5707 228.071 L51.6634 228.071 L51.6634 224.136 Z\" fill=\"#000000\" fill-rule=\"evenodd\" fill-opacity=\"1\" /><path clip-path=\"url(#clip530)\" d=\"M85.0429 224.136 L101.362 224.136 L101.362 228.071 L79.4179 228.071 L79.4179 224.136 Q82.0799 221.381 86.6632 216.752 Q91.2697 212.099 92.4502 210.756 Q94.6956 208.233 95.5752 206.497 Q96.478 204.738 96.478 203.048 Q96.478 200.293 94.5336 198.557 Q92.6123 196.821 89.5104 196.821 Q87.3114 196.821 84.8577 197.585 Q82.4271 198.349 79.6494 199.9 L79.6494 195.178 Q82.4734 194.043 84.9271 193.465 Q87.3808 192.886 89.4178 192.886 Q94.7882 192.886 97.9826 195.571 Q101.177 198.256 101.177 202.747 Q101.177 204.877 100.367 206.798 Q99.5798 208.696 97.4734 211.289 Q96.8947 211.96 93.7928 215.178 Q90.691 218.372 85.0429 224.136 Z\" fill=\"#000000\" fill-rule=\"evenodd\" fill-opacity=\"1\" /><path clip-path=\"url(#clip530)\" d=\"M121.177 196.59 Q117.566 196.59 115.737 200.155 Q113.932 203.696 113.932 210.826 Q113.932 217.932 115.737 221.497 Q117.566 225.039 121.177 225.039 Q124.811 225.039 126.617 221.497 Q128.445 217.932 128.445 210.826 Q128.445 203.696 126.617 200.155 Q124.811 196.59 121.177 196.59 M121.177 192.886 Q126.987 192.886 130.043 197.493 Q133.121 202.076 133.121 210.826 Q133.121 219.553 130.043 224.159 Q126.987 228.742 121.177 228.742 Q115.367 228.742 112.288 224.159 Q109.233 219.553 109.233 210.826 Q109.233 202.076 112.288 197.493 Q115.367 192.886 121.177 192.886 Z\" fill=\"#000000\" fill-rule=\"evenodd\" fill-opacity=\"1\" /><circle clip-path=\"url(#clip532)\" cx=\"230.922\" cy=\"799.551\" r=\"14.4\" fill=\"#009af9\" fill-rule=\"evenodd\" fill-opacity=\"1\" stroke=\"#000000\" stroke-opacity=\"1\" stroke-width=\"3.2\"/>\n",
       "<circle clip-path=\"url(#clip532)\" cx=\"333.924\" cy=\"860.931\" r=\"14.4\" fill=\"#009af9\" fill-rule=\"evenodd\" fill-opacity=\"1\" stroke=\"#000000\" stroke-opacity=\"1\" stroke-width=\"3.2\"/>\n",
       "<circle clip-path=\"url(#clip532)\" cx=\"436.926\" cy=\"878.196\" r=\"14.4\" fill=\"#009af9\" fill-rule=\"evenodd\" fill-opacity=\"1\" stroke=\"#000000\" stroke-opacity=\"1\" stroke-width=\"3.2\"/>\n",
       "<circle clip-path=\"url(#clip532)\" cx=\"539.927\" cy=\"1036.89\" r=\"14.4\" fill=\"#009af9\" fill-rule=\"evenodd\" fill-opacity=\"1\" stroke=\"#000000\" stroke-opacity=\"1\" stroke-width=\"3.2\"/>\n",
       "<circle clip-path=\"url(#clip532)\" cx=\"642.929\" cy=\"1134.53\" r=\"14.4\" fill=\"#009af9\" fill-rule=\"evenodd\" fill-opacity=\"1\" stroke=\"#000000\" stroke-opacity=\"1\" stroke-width=\"3.2\"/>\n",
       "<circle clip-path=\"url(#clip532)\" cx=\"745.93\" cy=\"1119.05\" r=\"14.4\" fill=\"#009af9\" fill-rule=\"evenodd\" fill-opacity=\"1\" stroke=\"#000000\" stroke-opacity=\"1\" stroke-width=\"3.2\"/>\n",
       "<circle clip-path=\"url(#clip532)\" cx=\"848.932\" cy=\"1313.25\" r=\"14.4\" fill=\"#009af9\" fill-rule=\"evenodd\" fill-opacity=\"1\" stroke=\"#000000\" stroke-opacity=\"1\" stroke-width=\"3.2\"/>\n",
       "<circle clip-path=\"url(#clip532)\" cx=\"951.934\" cy=\"1445.72\" r=\"14.4\" fill=\"#009af9\" fill-rule=\"evenodd\" fill-opacity=\"1\" stroke=\"#000000\" stroke-opacity=\"1\" stroke-width=\"3.2\"/>\n",
       "<circle clip-path=\"url(#clip532)\" cx=\"1054.94\" cy=\"1301.42\" r=\"14.4\" fill=\"#009af9\" fill-rule=\"evenodd\" fill-opacity=\"1\" stroke=\"#000000\" stroke-opacity=\"1\" stroke-width=\"3.2\"/>\n",
       "<circle clip-path=\"url(#clip532)\" cx=\"1157.94\" cy=\"1219.58\" r=\"14.4\" fill=\"#009af9\" fill-rule=\"evenodd\" fill-opacity=\"1\" stroke=\"#000000\" stroke-opacity=\"1\" stroke-width=\"3.2\"/>\n",
       "<circle clip-path=\"url(#clip532)\" cx=\"1260.94\" cy=\"1276.36\" r=\"14.4\" fill=\"#009af9\" fill-rule=\"evenodd\" fill-opacity=\"1\" stroke=\"#000000\" stroke-opacity=\"1\" stroke-width=\"3.2\"/>\n",
       "<circle clip-path=\"url(#clip532)\" cx=\"1363.94\" cy=\"1345.52\" r=\"14.4\" fill=\"#009af9\" fill-rule=\"evenodd\" fill-opacity=\"1\" stroke=\"#000000\" stroke-opacity=\"1\" stroke-width=\"3.2\"/>\n",
       "<circle clip-path=\"url(#clip532)\" cx=\"1466.94\" cy=\"1213.98\" r=\"14.4\" fill=\"#009af9\" fill-rule=\"evenodd\" fill-opacity=\"1\" stroke=\"#000000\" stroke-opacity=\"1\" stroke-width=\"3.2\"/>\n",
       "<circle clip-path=\"url(#clip532)\" cx=\"1569.94\" cy=\"1189.31\" r=\"14.4\" fill=\"#009af9\" fill-rule=\"evenodd\" fill-opacity=\"1\" stroke=\"#000000\" stroke-opacity=\"1\" stroke-width=\"3.2\"/>\n",
       "<circle clip-path=\"url(#clip532)\" cx=\"1672.95\" cy=\"915.521\" r=\"14.4\" fill=\"#009af9\" fill-rule=\"evenodd\" fill-opacity=\"1\" stroke=\"#000000\" stroke-opacity=\"1\" stroke-width=\"3.2\"/>\n",
       "<circle clip-path=\"url(#clip532)\" cx=\"1775.95\" cy=\"967.763\" r=\"14.4\" fill=\"#009af9\" fill-rule=\"evenodd\" fill-opacity=\"1\" stroke=\"#000000\" stroke-opacity=\"1\" stroke-width=\"3.2\"/>\n",
       "<circle clip-path=\"url(#clip532)\" cx=\"1878.95\" cy=\"829.091\" r=\"14.4\" fill=\"#009af9\" fill-rule=\"evenodd\" fill-opacity=\"1\" stroke=\"#000000\" stroke-opacity=\"1\" stroke-width=\"3.2\"/>\n",
       "<circle clip-path=\"url(#clip532)\" cx=\"1981.95\" cy=\"667.588\" r=\"14.4\" fill=\"#009af9\" fill-rule=\"evenodd\" fill-opacity=\"1\" stroke=\"#000000\" stroke-opacity=\"1\" stroke-width=\"3.2\"/>\n",
       "<circle clip-path=\"url(#clip532)\" cx=\"2084.95\" cy=\"371.598\" r=\"14.4\" fill=\"#009af9\" fill-rule=\"evenodd\" fill-opacity=\"1\" stroke=\"#000000\" stroke-opacity=\"1\" stroke-width=\"3.2\"/>\n",
       "<circle clip-path=\"url(#clip532)\" cx=\"2187.95\" cy=\"232.9\" r=\"14.4\" fill=\"#009af9\" fill-rule=\"evenodd\" fill-opacity=\"1\" stroke=\"#000000\" stroke-opacity=\"1\" stroke-width=\"3.2\"/>\n",
       "<circle clip-path=\"url(#clip532)\" cx=\"2290.95\" cy=\"149.711\" r=\"14.4\" fill=\"#009af9\" fill-rule=\"evenodd\" fill-opacity=\"1\" stroke=\"#000000\" stroke-opacity=\"1\" stroke-width=\"3.2\"/>\n",
       "<polyline clip-path=\"url(#clip532)\" style=\"stroke:#e26f46; stroke-linecap:round; stroke-linejoin:round; stroke-width:4; stroke-opacity:1; fill:none\" points=\"230.922,656.599 333.924,793.77 436.926,913.795 539.927,1016.67 642.929,1102.41 745.93,1170.99 848.932,1222.43 951.934,1256.72 1054.94,1273.87 1157.94,1273.87 1260.94,1256.72 1363.94,1222.43 1466.94,1170.99 1569.94,1102.41 1672.95,1016.67 1775.95,913.795 1878.95,793.77 1981.95,656.599 2084.95,502.281 2187.95,330.816 2290.95,142.205 \"/>\n",
       "<polyline clip-path=\"url(#clip532)\" style=\"stroke:#3da44d; stroke-linecap:round; stroke-linejoin:round; stroke-width:4; stroke-opacity:1; fill:none\" points=\"230.922,705.815 333.924,845.404 436.926,967.047 539.927,1070.75 642.929,1156.5 745.93,1224.31 848.932,1274.17 951.934,1306.08 1054.94,1320.06 1157.94,1316.08 1260.94,1294.16 1363.94,1254.3 1466.94,1196.49 1569.94,1120.73 1672.95,1027.03 1775.95,915.387 1878.95,785.795 1981.95,638.259 2084.95,472.777 2187.95,289.349 2290.95,87.9763 \"/>\n",
       "<path clip-path=\"url(#clip530)\" d=\"M241.909 302.578 L673.119 302.578 L673.119 95.2176 L241.909 95.2176  Z\" fill=\"#ffffff\" fill-rule=\"evenodd\" fill-opacity=\"1\"/>\n",
       "<polyline clip-path=\"url(#clip530)\" style=\"stroke:#000000; stroke-linecap:round; stroke-linejoin:round; stroke-width:4; stroke-opacity:1; fill:none\" points=\"241.909,302.578 673.119,302.578 673.119,95.2176 241.909,95.2176 241.909,302.578 \"/>\n",
       "<circle clip-path=\"url(#clip530)\" cx=\"338.96\" cy=\"147.058\" r=\"23.04\" fill=\"#009af9\" fill-rule=\"evenodd\" fill-opacity=\"1\" stroke=\"#000000\" stroke-opacity=\"1\" stroke-width=\"5.12\"/>\n",
       "<path clip-path=\"url(#clip530)\" d=\"M447.908 141.398 Q444.482 141.398 442.491 144.083 Q440.501 146.745 440.501 151.398 Q440.501 156.051 442.468 158.736 Q444.459 161.398 447.908 161.398 Q451.311 161.398 453.302 158.713 Q455.292 156.027 455.292 151.398 Q455.292 146.791 453.302 144.106 Q451.311 141.398 447.908 141.398 M447.908 137.787 Q453.464 137.787 456.635 141.398 Q459.806 145.009 459.806 151.398 Q459.806 157.764 456.635 161.398 Q453.464 165.009 447.908 165.009 Q442.329 165.009 439.158 161.398 Q436.01 157.764 436.01 151.398 Q436.01 145.009 439.158 141.398 Q442.329 137.787 447.908 137.787 Z\" fill=\"#000000\" fill-rule=\"evenodd\" fill-opacity=\"1\" /><path clip-path=\"url(#clip530)\" d=\"M485.477 151.398 Q485.477 146.699 483.533 144.037 Q481.612 141.352 478.232 141.352 Q474.852 141.352 472.908 144.037 Q470.987 146.699 470.987 151.398 Q470.987 156.097 472.908 158.782 Q474.852 161.444 478.232 161.444 Q481.612 161.444 483.533 158.782 Q485.477 156.097 485.477 151.398 M470.987 142.347 Q472.329 140.032 474.366 138.921 Q476.426 137.787 479.274 137.787 Q483.996 137.787 486.936 141.537 Q489.899 145.287 489.899 151.398 Q489.899 157.509 486.936 161.259 Q483.996 165.009 479.274 165.009 Q476.426 165.009 474.366 163.898 Q472.329 162.763 470.987 160.449 L470.987 164.338 L466.704 164.338 L466.704 128.319 L470.987 128.319 L470.987 142.347 Z\" fill=\"#000000\" fill-rule=\"evenodd\" fill-opacity=\"1\" /><path clip-path=\"url(#clip530)\" d=\"M513.486 139.176 L513.486 143.203 Q511.681 142.277 509.736 141.815 Q507.792 141.352 505.709 141.352 Q502.537 141.352 500.94 142.324 Q499.366 143.296 499.366 145.24 Q499.366 146.722 500.5 147.578 Q501.635 148.412 505.061 149.176 L506.519 149.5 Q511.056 150.472 512.954 152.254 Q514.875 154.014 514.875 157.185 Q514.875 160.796 512.005 162.902 Q509.158 165.009 504.158 165.009 Q502.074 165.009 499.806 164.592 Q497.561 164.199 495.061 163.388 L495.061 158.99 Q497.422 160.217 499.713 160.842 Q502.005 161.444 504.25 161.444 Q507.26 161.444 508.88 160.426 Q510.5 159.384 510.5 157.509 Q510.5 155.773 509.32 154.847 Q508.162 153.921 504.204 153.064 L502.723 152.717 Q498.764 151.884 497.005 150.171 Q495.246 148.435 495.246 145.426 Q495.246 141.768 497.838 139.778 Q500.431 137.787 505.199 137.787 Q507.561 137.787 509.644 138.134 Q511.727 138.481 513.486 139.176 Z\" fill=\"#000000\" fill-rule=\"evenodd\" fill-opacity=\"1\" /><path clip-path=\"url(#clip530)\" d=\"M543.833 150.31 L543.833 152.393 L524.25 152.393 Q524.528 156.791 526.889 159.106 Q529.273 161.398 533.509 161.398 Q535.963 161.398 538.255 160.796 Q540.57 160.194 542.838 158.99 L542.838 163.018 Q540.546 163.99 538.139 164.5 Q535.732 165.009 533.255 165.009 Q527.051 165.009 523.417 161.398 Q519.806 157.787 519.806 151.629 Q519.806 145.264 523.232 141.537 Q526.681 137.787 532.514 137.787 Q537.746 137.787 540.778 141.166 Q543.833 144.523 543.833 150.31 M539.574 149.06 Q539.528 145.565 537.607 143.481 Q535.709 141.398 532.56 141.398 Q528.996 141.398 526.843 143.412 Q524.713 145.426 524.389 149.083 L539.574 149.06 Z\" fill=\"#000000\" fill-rule=\"evenodd\" fill-opacity=\"1\" /><path clip-path=\"url(#clip530)\" d=\"M565.847 142.393 Q565.13 141.977 564.273 141.791 Q563.44 141.583 562.421 141.583 Q558.81 141.583 556.866 143.944 Q554.945 146.282 554.945 150.68 L554.945 164.338 L550.662 164.338 L550.662 138.412 L554.945 138.412 L554.945 142.44 Q556.287 140.078 558.44 138.944 Q560.593 137.787 563.671 137.787 Q564.111 137.787 564.644 137.856 Q565.176 137.903 565.824 138.018 L565.847 142.393 Z\" fill=\"#000000\" fill-rule=\"evenodd\" fill-opacity=\"1\" /><path clip-path=\"url(#clip530)\" d=\"M567.259 138.412 L571.773 138.412 L579.875 160.171 L587.977 138.412 L592.491 138.412 L582.768 164.338 L576.981 164.338 L567.259 138.412 Z\" fill=\"#000000\" fill-rule=\"evenodd\" fill-opacity=\"1\" /><path clip-path=\"url(#clip530)\" d=\"M620.546 150.31 L620.546 152.393 L600.963 152.393 Q601.241 156.791 603.602 159.106 Q605.986 161.398 610.222 161.398 Q612.676 161.398 614.967 160.796 Q617.282 160.194 619.551 158.99 L619.551 163.018 Q617.259 163.99 614.852 164.5 Q612.444 165.009 609.967 165.009 Q603.764 165.009 600.129 161.398 Q596.518 157.787 596.518 151.629 Q596.518 145.264 599.944 141.537 Q603.393 137.787 609.227 137.787 Q614.458 137.787 617.49 141.166 Q620.546 144.523 620.546 150.31 M616.287 149.06 Q616.241 145.565 614.319 143.481 Q612.421 141.398 609.273 141.398 Q605.708 141.398 603.555 143.412 Q601.426 145.426 601.102 149.083 L616.287 149.06 Z\" fill=\"#000000\" fill-rule=\"evenodd\" fill-opacity=\"1\" /><path clip-path=\"url(#clip530)\" d=\"M644.597 142.347 L644.597 128.319 L648.856 128.319 L648.856 164.338 L644.597 164.338 L644.597 160.449 Q643.254 162.763 641.194 163.898 Q639.157 165.009 636.287 165.009 Q631.588 165.009 628.625 161.259 Q625.685 157.509 625.685 151.398 Q625.685 145.287 628.625 141.537 Q631.588 137.787 636.287 137.787 Q639.157 137.787 641.194 138.921 Q643.254 140.032 644.597 142.347 M630.083 151.398 Q630.083 156.097 632.004 158.782 Q633.949 161.444 637.328 161.444 Q640.708 161.444 642.652 158.782 Q644.597 156.097 644.597 151.398 Q644.597 146.699 642.652 144.037 Q640.708 141.352 637.328 141.352 Q633.949 141.352 632.004 144.037 Q630.083 146.699 630.083 151.398 Z\" fill=\"#000000\" fill-rule=\"evenodd\" fill-opacity=\"1\" /><polyline clip-path=\"url(#clip530)\" style=\"stroke:#e26f46; stroke-linecap:round; stroke-linejoin:round; stroke-width:4; stroke-opacity:1; fill:none\" points=\"266.172,198.898 411.747,198.898 \"/>\n",
       "<path clip-path=\"url(#clip530)\" d=\"M443.417 182.891 L443.417 190.252 L452.19 190.252 L452.19 193.562 L443.417 193.562 L443.417 207.636 Q443.417 210.807 444.274 211.71 Q445.153 212.613 447.815 212.613 L452.19 212.613 L452.19 216.178 L447.815 216.178 Q442.885 216.178 441.01 214.349 Q439.135 212.497 439.135 207.636 L439.135 193.562 L436.01 193.562 L436.01 190.252 L439.135 190.252 L439.135 182.891 L443.417 182.891 Z\" fill=\"#000000\" fill-rule=\"evenodd\" fill-opacity=\"1\" /><path clip-path=\"url(#clip530)\" d=\"M472.815 194.233 Q472.098 193.817 471.241 193.631 Q470.408 193.423 469.389 193.423 Q465.778 193.423 463.834 195.784 Q461.913 198.122 461.913 202.52 L461.913 216.178 L457.63 216.178 L457.63 190.252 L461.913 190.252 L461.913 194.28 Q463.255 191.918 465.408 190.784 Q467.561 189.627 470.639 189.627 Q471.079 189.627 471.612 189.696 Q472.144 189.743 472.792 189.858 L472.815 194.233 Z\" fill=\"#000000\" fill-rule=\"evenodd\" fill-opacity=\"1\" /><path clip-path=\"url(#clip530)\" d=\"M476.843 205.946 L476.843 190.252 L481.102 190.252 L481.102 205.784 Q481.102 209.465 482.538 211.316 Q483.973 213.145 486.843 213.145 Q490.292 213.145 492.283 210.946 Q494.297 208.747 494.297 204.951 L494.297 190.252 L498.556 190.252 L498.556 216.178 L494.297 216.178 L494.297 212.196 Q492.746 214.557 490.686 215.715 Q488.649 216.849 485.94 216.849 Q481.473 216.849 479.158 214.071 Q476.843 211.293 476.843 205.946 M487.561 189.627 L487.561 189.627 Z\" fill=\"#000000\" fill-rule=\"evenodd\" fill-opacity=\"1\" /><path clip-path=\"url(#clip530)\" d=\"M529.505 202.15 L529.505 204.233 L509.922 204.233 Q510.199 208.631 512.561 210.946 Q514.945 213.238 519.181 213.238 Q521.635 213.238 523.926 212.636 Q526.241 212.034 528.509 210.83 L528.509 214.858 Q526.218 215.83 523.81 216.34 Q521.403 216.849 518.926 216.849 Q512.723 216.849 509.088 213.238 Q505.477 209.627 505.477 203.469 Q505.477 197.104 508.903 193.377 Q512.352 189.627 518.185 189.627 Q523.417 189.627 526.449 193.006 Q529.505 196.363 529.505 202.15 M525.246 200.9 Q525.199 197.405 523.278 195.321 Q521.38 193.238 518.232 193.238 Q514.667 193.238 512.514 195.252 Q510.385 197.266 510.061 200.923 L525.246 200.9 Z\" fill=\"#000000\" fill-rule=\"evenodd\" fill-opacity=\"1\" /><polyline clip-path=\"url(#clip530)\" style=\"stroke:#3da44d; stroke-linecap:round; stroke-linejoin:round; stroke-width:4; stroke-opacity:1; fill:none\" points=\"266.172,250.738 411.747,250.738 \"/>\n",
       "<path clip-path=\"url(#clip530)\" d=\"M440.292 264.129 L440.292 277.879 L436.01 277.879 L436.01 242.092 L440.292 242.092 L440.292 246.027 Q441.635 243.712 443.672 242.601 Q445.732 241.467 448.579 241.467 Q453.302 241.467 456.241 245.217 Q459.204 248.967 459.204 255.078 Q459.204 261.189 456.241 264.939 Q453.302 268.689 448.579 268.689 Q445.732 268.689 443.672 267.578 Q441.635 266.443 440.292 264.129 M454.783 255.078 Q454.783 250.379 452.839 247.717 Q450.917 245.032 447.538 245.032 Q444.158 245.032 442.214 247.717 Q440.292 250.379 440.292 255.078 Q440.292 259.777 442.214 262.462 Q444.158 265.124 447.538 265.124 Q450.917 265.124 452.839 262.462 Q454.783 259.777 454.783 255.078 Z\" fill=\"#000000\" fill-rule=\"evenodd\" fill-opacity=\"1\" /><path clip-path=\"url(#clip530)\" d=\"M476.311 245.078 Q472.885 245.078 470.894 247.763 Q468.903 250.425 468.903 255.078 Q468.903 259.731 470.871 262.416 Q472.862 265.078 476.311 265.078 Q479.713 265.078 481.704 262.393 Q483.695 259.707 483.695 255.078 Q483.695 250.471 481.704 247.786 Q479.713 245.078 476.311 245.078 M476.311 241.467 Q481.866 241.467 485.038 245.078 Q488.209 248.689 488.209 255.078 Q488.209 261.444 485.038 265.078 Q481.866 268.689 476.311 268.689 Q470.732 268.689 467.561 265.078 Q464.413 261.444 464.413 255.078 Q464.413 248.689 467.561 245.078 Q470.732 241.467 476.311 241.467 Z\" fill=\"#000000\" fill-rule=\"evenodd\" fill-opacity=\"1\" /><path clip-path=\"url(#clip530)\" d=\"M495.269 231.999 L499.528 231.999 L499.528 268.018 L495.269 268.018 L495.269 231.999 Z\" fill=\"#000000\" fill-rule=\"evenodd\" fill-opacity=\"1\" /><path clip-path=\"url(#clip530)\" d=\"M519.227 270.425 Q517.422 275.055 515.709 276.467 Q513.996 277.879 511.125 277.879 L507.723 277.879 L507.723 274.314 L510.223 274.314 Q511.982 274.314 512.954 273.48 Q513.926 272.647 515.107 269.545 L515.871 267.601 L505.385 242.092 L509.898 242.092 L518 262.369 L526.102 242.092 L530.616 242.092 L519.227 270.425 Z\" fill=\"#000000\" fill-rule=\"evenodd\" fill-opacity=\"1\" /><path clip-path=\"url(#clip530)\" d=\"M549.62 231.999 L549.62 235.541 L545.546 235.541 Q543.255 235.541 542.352 236.467 Q541.472 237.393 541.472 239.8 L541.472 242.092 L548.486 242.092 L548.486 245.402 L541.472 245.402 L541.472 268.018 L537.19 268.018 L537.19 245.402 L533.116 245.402 L533.116 242.092 L537.19 242.092 L537.19 240.286 Q537.19 235.958 539.204 233.99 Q541.218 231.999 545.593 231.999 L549.62 231.999 Z\" fill=\"#000000\" fill-rule=\"evenodd\" fill-opacity=\"1\" /><path clip-path=\"url(#clip530)\" d=\"M553.185 242.092 L557.445 242.092 L557.445 268.018 L553.185 268.018 L553.185 242.092 M553.185 231.999 L557.445 231.999 L557.445 237.393 L553.185 237.393 L553.185 231.999 Z\" fill=\"#000000\" fill-rule=\"evenodd\" fill-opacity=\"1\" /><path clip-path=\"url(#clip530)\" d=\"M570.569 234.731 L570.569 242.092 L579.343 242.092 L579.343 245.402 L570.569 245.402 L570.569 259.476 Q570.569 262.647 571.426 263.55 Q572.306 264.453 574.968 264.453 L579.343 264.453 L579.343 268.018 L574.968 268.018 Q570.037 268.018 568.162 266.189 Q566.287 264.337 566.287 259.476 L566.287 245.402 L563.162 245.402 L563.162 242.092 L566.287 242.092 L566.287 234.731 L570.569 234.731 Z\" fill=\"#000000\" fill-rule=\"evenodd\" fill-opacity=\"1\" /></svg>\n"
      ]
     },
     "execution_count": 10,
     "metadata": {},
     "output_type": "execute_result"
    }
   ],
   "source": [
    "using Plots\n",
    "using Polynomials\n",
    "scatter(x,y_observed, label = \"observed\")\n",
    "plot!(x,y_true, label = \"true\")\n",
    "poly_fit = fit(x,y_observed,2) #creates a polynomial fit of y_observed with an order of 2\n",
    "y_poly_fit = poly_fit.(x)\n",
    "plot!(x,y_poly_fit, label = \"polyfit\")"
   ]
  },
  {
   "cell_type": "markdown",
   "id": "b3b5a343",
   "metadata": {},
   "source": [
    "### 2.4\n",
    "\n",
    "1. Repeat 2.2 and 2.3 with a noise with a standard deviation of 50"
   ]
  },
  {
   "cell_type": "code",
   "execution_count": 11,
   "id": "b4c08499",
   "metadata": {},
   "outputs": [
    {
     "data": {
      "text/plain": [
       "Distributions.Normal{Float64}(μ=0.0, σ=50.0)"
      ]
     },
     "execution_count": 11,
     "metadata": {},
     "output_type": "execute_result"
    }
   ],
   "source": [
    "g_noise_2 = di.Normal(0,50)"
   ]
  },
  {
   "cell_type": "code",
   "execution_count": 16,
   "id": "bdf4947d",
   "metadata": {},
   "outputs": [
    {
     "data": {
      "image/svg+xml": [
       "<?xml version=\"1.0\" encoding=\"utf-8\"?>\n",
       "<svg xmlns=\"http://www.w3.org/2000/svg\" xmlns:xlink=\"http://www.w3.org/1999/xlink\" width=\"600\" height=\"400\" viewBox=\"0 0 2400 1600\">\n",
       "<defs>\n",
       "  <clipPath id=\"clip690\">\n",
       "    <rect x=\"0\" y=\"0\" width=\"2400\" height=\"1600\"/>\n",
       "  </clipPath>\n",
       "</defs>\n",
       "<path clip-path=\"url(#clip690)\" d=\"M0 1600 L2400 1600 L2400 0 L0 0  Z\" fill=\"#ffffff\" fill-rule=\"evenodd\" fill-opacity=\"1\"/>\n",
       "<defs>\n",
       "  <clipPath id=\"clip691\">\n",
       "    <rect x=\"480\" y=\"0\" width=\"1681\" height=\"1600\"/>\n",
       "  </clipPath>\n",
       "</defs>\n",
       "<path clip-path=\"url(#clip690)\" d=\"M209.029 1486.45 L2352.76 1486.45 L2352.76 47.2441 L209.029 47.2441  Z\" fill=\"#ffffff\" fill-rule=\"evenodd\" fill-opacity=\"1\"/>\n",
       "<defs>\n",
       "  <clipPath id=\"clip692\">\n",
       "    <rect x=\"209\" y=\"47\" width=\"2145\" height=\"1440\"/>\n",
       "  </clipPath>\n",
       "</defs>\n",
       "<polyline clip-path=\"url(#clip692)\" style=\"stroke:#000000; stroke-linecap:round; stroke-linejoin:round; stroke-width:2; stroke-opacity:0.1; fill:none\" points=\"269.7,1486.45 269.7,47.2441 \"/>\n",
       "<polyline clip-path=\"url(#clip692)\" style=\"stroke:#000000; stroke-linecap:round; stroke-linejoin:round; stroke-width:2; stroke-opacity:0.1; fill:none\" points=\"775.296,1486.45 775.296,47.2441 \"/>\n",
       "<polyline clip-path=\"url(#clip692)\" style=\"stroke:#000000; stroke-linecap:round; stroke-linejoin:round; stroke-width:2; stroke-opacity:0.1; fill:none\" points=\"1280.89,1486.45 1280.89,47.2441 \"/>\n",
       "<polyline clip-path=\"url(#clip692)\" style=\"stroke:#000000; stroke-linecap:round; stroke-linejoin:round; stroke-width:2; stroke-opacity:0.1; fill:none\" points=\"1786.49,1486.45 1786.49,47.2441 \"/>\n",
       "<polyline clip-path=\"url(#clip692)\" style=\"stroke:#000000; stroke-linecap:round; stroke-linejoin:round; stroke-width:2; stroke-opacity:0.1; fill:none\" points=\"2292.08,1486.45 2292.08,47.2441 \"/>\n",
       "<polyline clip-path=\"url(#clip690)\" style=\"stroke:#000000; stroke-linecap:round; stroke-linejoin:round; stroke-width:4; stroke-opacity:1; fill:none\" points=\"209.029,1486.45 2352.76,1486.45 \"/>\n",
       "<polyline clip-path=\"url(#clip690)\" style=\"stroke:#000000; stroke-linecap:round; stroke-linejoin:round; stroke-width:4; stroke-opacity:1; fill:none\" points=\"269.7,1486.45 269.7,1467.55 \"/>\n",
       "<polyline clip-path=\"url(#clip690)\" style=\"stroke:#000000; stroke-linecap:round; stroke-linejoin:round; stroke-width:4; stroke-opacity:1; fill:none\" points=\"775.296,1486.45 775.296,1467.55 \"/>\n",
       "<polyline clip-path=\"url(#clip690)\" style=\"stroke:#000000; stroke-linecap:round; stroke-linejoin:round; stroke-width:4; stroke-opacity:1; fill:none\" points=\"1280.89,1486.45 1280.89,1467.55 \"/>\n",
       "<polyline clip-path=\"url(#clip690)\" style=\"stroke:#000000; stroke-linecap:round; stroke-linejoin:round; stroke-width:4; stroke-opacity:1; fill:none\" points=\"1786.49,1486.45 1786.49,1467.55 \"/>\n",
       "<polyline clip-path=\"url(#clip690)\" style=\"stroke:#000000; stroke-linecap:round; stroke-linejoin:round; stroke-width:4; stroke-opacity:1; fill:none\" points=\"2292.08,1486.45 2292.08,1467.55 \"/>\n",
       "<path clip-path=\"url(#clip690)\" d=\"M223.763 1532.02 L253.439 1532.02 L253.439 1535.95 L223.763 1535.95 L223.763 1532.02 Z\" fill=\"#000000\" fill-rule=\"evenodd\" fill-opacity=\"1\" /><path clip-path=\"url(#clip690)\" d=\"M264.341 1544.91 L271.98 1544.91 L271.98 1518.55 L263.67 1520.21 L263.67 1515.95 L271.934 1514.29 L276.61 1514.29 L276.61 1544.91 L284.249 1544.91 L284.249 1548.85 L264.341 1548.85 L264.341 1544.91 Z\" fill=\"#000000\" fill-rule=\"evenodd\" fill-opacity=\"1\" /><path clip-path=\"url(#clip690)\" d=\"M303.693 1517.37 Q300.082 1517.37 298.253 1520.93 Q296.448 1524.47 296.448 1531.6 Q296.448 1538.71 298.253 1542.27 Q300.082 1545.82 303.693 1545.82 Q307.327 1545.82 309.133 1542.27 Q310.961 1538.71 310.961 1531.6 Q310.961 1524.47 309.133 1520.93 Q307.327 1517.37 303.693 1517.37 M303.693 1513.66 Q309.503 1513.66 312.559 1518.27 Q315.637 1522.85 315.637 1531.6 Q315.637 1540.33 312.559 1544.94 Q309.503 1549.52 303.693 1549.52 Q297.883 1549.52 294.804 1544.94 Q291.749 1540.33 291.749 1531.6 Q291.749 1522.85 294.804 1518.27 Q297.883 1513.66 303.693 1513.66 Z\" fill=\"#000000\" fill-rule=\"evenodd\" fill-opacity=\"1\" /><path clip-path=\"url(#clip690)\" d=\"M744.937 1532.02 L774.613 1532.02 L774.613 1535.95 L744.937 1535.95 L744.937 1532.02 Z\" fill=\"#000000\" fill-rule=\"evenodd\" fill-opacity=\"1\" /><path clip-path=\"url(#clip690)\" d=\"M784.752 1514.29 L803.108 1514.29 L803.108 1518.22 L789.034 1518.22 L789.034 1526.7 Q790.053 1526.35 791.072 1526.19 Q792.09 1526 793.109 1526 Q798.896 1526 802.275 1529.17 Q805.655 1532.34 805.655 1537.76 Q805.655 1543.34 802.183 1546.44 Q798.71 1549.52 792.391 1549.52 Q790.215 1549.52 787.947 1549.15 Q785.701 1548.78 783.294 1548.04 L783.294 1543.34 Q785.377 1544.47 787.599 1545.03 Q789.822 1545.58 792.298 1545.58 Q796.303 1545.58 798.641 1543.48 Q800.979 1541.37 800.979 1537.76 Q800.979 1534.15 798.641 1532.04 Q796.303 1529.94 792.298 1529.94 Q790.423 1529.94 788.548 1530.35 Q786.697 1530.77 784.752 1531.65 L784.752 1514.29 Z\" fill=\"#000000\" fill-rule=\"evenodd\" fill-opacity=\"1\" /><path clip-path=\"url(#clip690)\" d=\"M1280.89 1517.37 Q1277.28 1517.37 1275.45 1520.93 Q1273.65 1524.47 1273.65 1531.6 Q1273.65 1538.71 1275.45 1542.27 Q1277.28 1545.82 1280.89 1545.82 Q1284.53 1545.82 1286.33 1542.27 Q1288.16 1538.71 1288.16 1531.6 Q1288.16 1524.47 1286.33 1520.93 Q1284.53 1517.37 1280.89 1517.37 M1280.89 1513.66 Q1286.7 1513.66 1289.76 1518.27 Q1292.84 1522.85 1292.84 1531.6 Q1292.84 1540.33 1289.76 1544.94 Q1286.7 1549.52 1280.89 1549.52 Q1275.08 1549.52 1272 1544.94 Q1268.95 1540.33 1268.95 1531.6 Q1268.95 1522.85 1272 1518.27 Q1275.08 1513.66 1280.89 1513.66 Z\" fill=\"#000000\" fill-rule=\"evenodd\" fill-opacity=\"1\" /><path clip-path=\"url(#clip690)\" d=\"M1776.77 1514.29 L1795.12 1514.29 L1795.12 1518.22 L1781.05 1518.22 L1781.05 1526.7 Q1782.07 1526.35 1783.09 1526.19 Q1784.1 1526 1785.12 1526 Q1790.91 1526 1794.29 1529.17 Q1797.67 1532.34 1797.67 1537.76 Q1797.67 1543.34 1794.2 1546.44 Q1790.72 1549.52 1784.4 1549.52 Q1782.23 1549.52 1779.96 1549.15 Q1777.72 1548.78 1775.31 1548.04 L1775.31 1543.34 Q1777.39 1544.47 1779.61 1545.03 Q1781.84 1545.58 1784.31 1545.58 Q1788.32 1545.58 1790.65 1543.48 Q1792.99 1541.37 1792.99 1537.76 Q1792.99 1534.15 1790.65 1532.04 Q1788.32 1529.94 1784.31 1529.94 Q1782.44 1529.94 1780.56 1530.35 Q1778.71 1530.77 1776.77 1531.65 L1776.77 1514.29 Z\" fill=\"#000000\" fill-rule=\"evenodd\" fill-opacity=\"1\" /><path clip-path=\"url(#clip690)\" d=\"M2266.77 1544.91 L2274.41 1544.91 L2274.41 1518.55 L2266.1 1520.21 L2266.1 1515.95 L2274.36 1514.29 L2279.04 1514.29 L2279.04 1544.91 L2286.68 1544.91 L2286.68 1548.85 L2266.77 1548.85 L2266.77 1544.91 Z\" fill=\"#000000\" fill-rule=\"evenodd\" fill-opacity=\"1\" /><path clip-path=\"url(#clip690)\" d=\"M2306.12 1517.37 Q2302.51 1517.37 2300.68 1520.93 Q2298.88 1524.47 2298.88 1531.6 Q2298.88 1538.71 2300.68 1542.27 Q2302.51 1545.82 2306.12 1545.82 Q2309.76 1545.82 2311.56 1542.27 Q2313.39 1538.71 2313.39 1531.6 Q2313.39 1524.47 2311.56 1520.93 Q2309.76 1517.37 2306.12 1517.37 M2306.12 1513.66 Q2311.93 1513.66 2314.99 1518.27 Q2318.07 1522.85 2318.07 1531.6 Q2318.07 1540.33 2314.99 1544.94 Q2311.93 1549.52 2306.12 1549.52 Q2300.31 1549.52 2297.23 1544.94 Q2294.18 1540.33 2294.18 1531.6 Q2294.18 1522.85 2297.23 1518.27 Q2300.31 1513.66 2306.12 1513.66 Z\" fill=\"#000000\" fill-rule=\"evenodd\" fill-opacity=\"1\" /><polyline clip-path=\"url(#clip692)\" style=\"stroke:#000000; stroke-linecap:round; stroke-linejoin:round; stroke-width:2; stroke-opacity:0.1; fill:none\" points=\"209.029,1421.62 2352.76,1421.62 \"/>\n",
       "<polyline clip-path=\"url(#clip692)\" style=\"stroke:#000000; stroke-linecap:round; stroke-linejoin:round; stroke-width:2; stroke-opacity:0.1; fill:none\" points=\"209.029,1187.18 2352.76,1187.18 \"/>\n",
       "<polyline clip-path=\"url(#clip692)\" style=\"stroke:#000000; stroke-linecap:round; stroke-linejoin:round; stroke-width:2; stroke-opacity:0.1; fill:none\" points=\"209.029,952.738 2352.76,952.738 \"/>\n",
       "<polyline clip-path=\"url(#clip692)\" style=\"stroke:#000000; stroke-linecap:round; stroke-linejoin:round; stroke-width:2; stroke-opacity:0.1; fill:none\" points=\"209.029,718.297 2352.76,718.297 \"/>\n",
       "<polyline clip-path=\"url(#clip692)\" style=\"stroke:#000000; stroke-linecap:round; stroke-linejoin:round; stroke-width:2; stroke-opacity:0.1; fill:none\" points=\"209.029,483.857 2352.76,483.857 \"/>\n",
       "<polyline clip-path=\"url(#clip692)\" style=\"stroke:#000000; stroke-linecap:round; stroke-linejoin:round; stroke-width:2; stroke-opacity:0.1; fill:none\" points=\"209.029,249.416 2352.76,249.416 \"/>\n",
       "<polyline clip-path=\"url(#clip690)\" style=\"stroke:#000000; stroke-linecap:round; stroke-linejoin:round; stroke-width:4; stroke-opacity:1; fill:none\" points=\"209.029,1486.45 209.029,47.2441 \"/>\n",
       "<polyline clip-path=\"url(#clip690)\" style=\"stroke:#000000; stroke-linecap:round; stroke-linejoin:round; stroke-width:4; stroke-opacity:1; fill:none\" points=\"209.029,1421.62 227.926,1421.62 \"/>\n",
       "<polyline clip-path=\"url(#clip690)\" style=\"stroke:#000000; stroke-linecap:round; stroke-linejoin:round; stroke-width:4; stroke-opacity:1; fill:none\" points=\"209.029,1187.18 227.926,1187.18 \"/>\n",
       "<polyline clip-path=\"url(#clip690)\" style=\"stroke:#000000; stroke-linecap:round; stroke-linejoin:round; stroke-width:4; stroke-opacity:1; fill:none\" points=\"209.029,952.738 227.926,952.738 \"/>\n",
       "<polyline clip-path=\"url(#clip690)\" style=\"stroke:#000000; stroke-linecap:round; stroke-linejoin:round; stroke-width:4; stroke-opacity:1; fill:none\" points=\"209.029,718.297 227.926,718.297 \"/>\n",
       "<polyline clip-path=\"url(#clip690)\" style=\"stroke:#000000; stroke-linecap:round; stroke-linejoin:round; stroke-width:4; stroke-opacity:1; fill:none\" points=\"209.029,483.857 227.926,483.857 \"/>\n",
       "<polyline clip-path=\"url(#clip690)\" style=\"stroke:#000000; stroke-linecap:round; stroke-linejoin:round; stroke-width:4; stroke-opacity:1; fill:none\" points=\"209.029,249.416 227.926,249.416 \"/>\n",
       "<path clip-path=\"url(#clip690)\" d=\"M50.9921 1422.07 L80.6679 1422.07 L80.6679 1426.01 L50.9921 1426.01 L50.9921 1422.07 Z\" fill=\"#000000\" fill-rule=\"evenodd\" fill-opacity=\"1\" /><path clip-path=\"url(#clip690)\" d=\"M91.5706 1434.96 L99.2095 1434.96 L99.2095 1408.6 L90.8993 1410.27 L90.8993 1406.01 L99.1632 1404.34 L103.839 1404.34 L103.839 1434.96 L111.478 1434.96 L111.478 1438.9 L91.5706 1438.9 L91.5706 1434.96 Z\" fill=\"#000000\" fill-rule=\"evenodd\" fill-opacity=\"1\" /><path clip-path=\"url(#clip690)\" d=\"M130.922 1407.42 Q127.311 1407.42 125.482 1410.98 Q123.677 1414.52 123.677 1421.65 Q123.677 1428.76 125.482 1432.33 Q127.311 1435.87 130.922 1435.87 Q134.556 1435.87 136.362 1432.33 Q138.191 1428.76 138.191 1421.65 Q138.191 1414.52 136.362 1410.98 Q134.556 1407.42 130.922 1407.42 M130.922 1403.71 Q136.732 1403.71 139.788 1408.32 Q142.867 1412.9 142.867 1421.65 Q142.867 1430.38 139.788 1434.99 Q136.732 1439.57 130.922 1439.57 Q125.112 1439.57 122.033 1434.99 Q118.978 1430.38 118.978 1421.65 Q118.978 1412.9 122.033 1408.32 Q125.112 1403.71 130.922 1403.71 Z\" fill=\"#000000\" fill-rule=\"evenodd\" fill-opacity=\"1\" /><path clip-path=\"url(#clip690)\" d=\"M161.084 1407.42 Q157.473 1407.42 155.644 1410.98 Q153.839 1414.52 153.839 1421.65 Q153.839 1428.76 155.644 1432.33 Q157.473 1435.87 161.084 1435.87 Q164.718 1435.87 166.524 1432.33 Q168.353 1428.76 168.353 1421.65 Q168.353 1414.52 166.524 1410.98 Q164.718 1407.42 161.084 1407.42 M161.084 1403.71 Q166.894 1403.71 169.95 1408.32 Q173.029 1412.9 173.029 1421.65 Q173.029 1430.38 169.95 1434.99 Q166.894 1439.57 161.084 1439.57 Q155.274 1439.57 152.195 1434.99 Q149.14 1430.38 149.14 1421.65 Q149.14 1412.9 152.195 1408.32 Q155.274 1403.71 161.084 1403.71 Z\" fill=\"#000000\" fill-rule=\"evenodd\" fill-opacity=\"1\" /><path clip-path=\"url(#clip690)\" d=\"M81.154 1187.63 L110.83 1187.63 L110.83 1191.57 L81.154 1191.57 L81.154 1187.63 Z\" fill=\"#000000\" fill-rule=\"evenodd\" fill-opacity=\"1\" /><path clip-path=\"url(#clip690)\" d=\"M120.969 1169.9 L139.325 1169.9 L139.325 1173.83 L125.251 1173.83 L125.251 1182.31 Q126.27 1181.96 127.288 1181.8 Q128.307 1181.61 129.325 1181.61 Q135.112 1181.61 138.492 1184.78 Q141.871 1187.95 141.871 1193.37 Q141.871 1198.95 138.399 1202.05 Q134.927 1205.13 128.607 1205.13 Q126.432 1205.13 124.163 1204.76 Q121.918 1204.39 119.51 1203.65 L119.51 1198.95 Q121.594 1200.08 123.816 1200.64 Q126.038 1201.19 128.515 1201.19 Q132.519 1201.19 134.857 1199.09 Q137.195 1196.98 137.195 1193.37 Q137.195 1189.76 134.857 1187.65 Q132.519 1185.55 128.515 1185.55 Q126.64 1185.55 124.765 1185.96 Q122.913 1186.38 120.969 1187.26 L120.969 1169.9 Z\" fill=\"#000000\" fill-rule=\"evenodd\" fill-opacity=\"1\" /><path clip-path=\"url(#clip690)\" d=\"M161.084 1172.98 Q157.473 1172.98 155.644 1176.54 Q153.839 1180.08 153.839 1187.21 Q153.839 1194.32 155.644 1197.88 Q157.473 1201.43 161.084 1201.43 Q164.718 1201.43 166.524 1197.88 Q168.353 1194.32 168.353 1187.21 Q168.353 1180.08 166.524 1176.54 Q164.718 1172.98 161.084 1172.98 M161.084 1169.27 Q166.894 1169.27 169.95 1173.88 Q173.029 1178.46 173.029 1187.21 Q173.029 1195.94 169.95 1200.55 Q166.894 1205.13 161.084 1205.13 Q155.274 1205.13 152.195 1200.55 Q149.14 1195.94 149.14 1187.21 Q149.14 1178.46 152.195 1173.88 Q155.274 1169.27 161.084 1169.27 Z\" fill=\"#000000\" fill-rule=\"evenodd\" fill-opacity=\"1\" /><path clip-path=\"url(#clip690)\" d=\"M161.084 938.537 Q157.473 938.537 155.644 942.102 Q153.839 945.643 153.839 952.773 Q153.839 959.879 155.644 963.444 Q157.473 966.986 161.084 966.986 Q164.718 966.986 166.524 963.444 Q168.353 959.879 168.353 952.773 Q168.353 945.643 166.524 942.102 Q164.718 938.537 161.084 938.537 M161.084 934.833 Q166.894 934.833 169.95 939.44 Q173.029 944.023 173.029 952.773 Q173.029 961.5 169.95 966.106 Q166.894 970.689 161.084 970.689 Q155.274 970.689 152.195 966.106 Q149.14 961.5 149.14 952.773 Q149.14 944.023 152.195 939.44 Q155.274 934.833 161.084 934.833 Z\" fill=\"#000000\" fill-rule=\"evenodd\" fill-opacity=\"1\" /><path clip-path=\"url(#clip690)\" d=\"M120.969 701.017 L139.325 701.017 L139.325 704.953 L125.251 704.953 L125.251 713.425 Q126.27 713.077 127.288 712.915 Q128.307 712.73 129.325 712.73 Q135.112 712.73 138.492 715.902 Q141.871 719.073 141.871 724.489 Q141.871 730.068 138.399 733.17 Q134.927 736.249 128.607 736.249 Q126.432 736.249 124.163 735.878 Q121.918 735.508 119.51 734.767 L119.51 730.068 Q121.594 731.202 123.816 731.758 Q126.038 732.314 128.515 732.314 Q132.519 732.314 134.857 730.207 Q137.195 728.101 137.195 724.489 Q137.195 720.878 134.857 718.772 Q132.519 716.665 128.515 716.665 Q126.64 716.665 124.765 717.082 Q122.913 717.499 120.969 718.378 L120.969 701.017 Z\" fill=\"#000000\" fill-rule=\"evenodd\" fill-opacity=\"1\" /><path clip-path=\"url(#clip690)\" d=\"M161.084 704.096 Q157.473 704.096 155.644 707.661 Q153.839 711.203 153.839 718.332 Q153.839 725.439 155.644 729.003 Q157.473 732.545 161.084 732.545 Q164.718 732.545 166.524 729.003 Q168.353 725.439 168.353 718.332 Q168.353 711.203 166.524 707.661 Q164.718 704.096 161.084 704.096 M161.084 700.392 Q166.894 700.392 169.95 704.999 Q173.029 709.582 173.029 718.332 Q173.029 727.059 169.95 731.665 Q166.894 736.249 161.084 736.249 Q155.274 736.249 152.195 731.665 Q149.14 727.059 149.14 718.332 Q149.14 709.582 152.195 704.999 Q155.274 700.392 161.084 700.392 Z\" fill=\"#000000\" fill-rule=\"evenodd\" fill-opacity=\"1\" /><path clip-path=\"url(#clip690)\" d=\"M91.5706 497.201 L99.2095 497.201 L99.2095 470.836 L90.8993 472.503 L90.8993 468.243 L99.1632 466.577 L103.839 466.577 L103.839 497.201 L111.478 497.201 L111.478 501.137 L91.5706 501.137 L91.5706 497.201 Z\" fill=\"#000000\" fill-rule=\"evenodd\" fill-opacity=\"1\" /><path clip-path=\"url(#clip690)\" d=\"M130.922 469.655 Q127.311 469.655 125.482 473.22 Q123.677 476.762 123.677 483.891 Q123.677 490.998 125.482 494.563 Q127.311 498.104 130.922 498.104 Q134.556 498.104 136.362 494.563 Q138.191 490.998 138.191 483.891 Q138.191 476.762 136.362 473.22 Q134.556 469.655 130.922 469.655 M130.922 465.952 Q136.732 465.952 139.788 470.558 Q142.867 475.141 142.867 483.891 Q142.867 492.618 139.788 497.225 Q136.732 501.808 130.922 501.808 Q125.112 501.808 122.033 497.225 Q118.978 492.618 118.978 483.891 Q118.978 475.141 122.033 470.558 Q125.112 465.952 130.922 465.952 Z\" fill=\"#000000\" fill-rule=\"evenodd\" fill-opacity=\"1\" /><path clip-path=\"url(#clip690)\" d=\"M161.084 469.655 Q157.473 469.655 155.644 473.22 Q153.839 476.762 153.839 483.891 Q153.839 490.998 155.644 494.563 Q157.473 498.104 161.084 498.104 Q164.718 498.104 166.524 494.563 Q168.353 490.998 168.353 483.891 Q168.353 476.762 166.524 473.22 Q164.718 469.655 161.084 469.655 M161.084 465.952 Q166.894 465.952 169.95 470.558 Q173.029 475.141 173.029 483.891 Q173.029 492.618 169.95 497.225 Q166.894 501.808 161.084 501.808 Q155.274 501.808 152.195 497.225 Q149.14 492.618 149.14 483.891 Q149.14 475.141 152.195 470.558 Q155.274 465.952 161.084 465.952 Z\" fill=\"#000000\" fill-rule=\"evenodd\" fill-opacity=\"1\" /><path clip-path=\"url(#clip690)\" d=\"M91.5706 262.761 L99.2095 262.761 L99.2095 236.395 L90.8993 238.062 L90.8993 233.803 L99.1632 232.136 L103.839 232.136 L103.839 262.761 L111.478 262.761 L111.478 266.696 L91.5706 266.696 L91.5706 262.761 Z\" fill=\"#000000\" fill-rule=\"evenodd\" fill-opacity=\"1\" /><path clip-path=\"url(#clip690)\" d=\"M120.969 232.136 L139.325 232.136 L139.325 236.071 L125.251 236.071 L125.251 244.543 Q126.27 244.196 127.288 244.034 Q128.307 243.849 129.325 243.849 Q135.112 243.849 138.492 247.02 Q141.871 250.191 141.871 255.608 Q141.871 261.187 138.399 264.289 Q134.927 267.367 128.607 267.367 Q126.432 267.367 124.163 266.997 Q121.918 266.626 119.51 265.886 L119.51 261.187 Q121.594 262.321 123.816 262.876 Q126.038 263.432 128.515 263.432 Q132.519 263.432 134.857 261.326 Q137.195 259.219 137.195 255.608 Q137.195 251.997 134.857 249.89 Q132.519 247.784 128.515 247.784 Q126.64 247.784 124.765 248.201 Q122.913 248.617 120.969 249.497 L120.969 232.136 Z\" fill=\"#000000\" fill-rule=\"evenodd\" fill-opacity=\"1\" /><path clip-path=\"url(#clip690)\" d=\"M161.084 235.215 Q157.473 235.215 155.644 238.779 Q153.839 242.321 153.839 249.451 Q153.839 256.557 155.644 260.122 Q157.473 263.664 161.084 263.664 Q164.718 263.664 166.524 260.122 Q168.353 256.557 168.353 249.451 Q168.353 242.321 166.524 238.779 Q164.718 235.215 161.084 235.215 M161.084 231.511 Q166.894 231.511 169.95 236.117 Q173.029 240.701 173.029 249.451 Q173.029 258.177 169.95 262.784 Q166.894 267.367 161.084 267.367 Q155.274 267.367 152.195 262.784 Q149.14 258.177 149.14 249.451 Q149.14 240.701 152.195 236.117 Q155.274 231.511 161.084 231.511 Z\" fill=\"#000000\" fill-rule=\"evenodd\" fill-opacity=\"1\" /><circle clip-path=\"url(#clip692)\" cx=\"269.7\" cy=\"568.193\" r=\"14.4\" fill=\"#009af9\" fill-rule=\"evenodd\" fill-opacity=\"1\" stroke=\"#000000\" stroke-opacity=\"1\" stroke-width=\"3.2\"/>\n",
       "<circle clip-path=\"url(#clip692)\" cx=\"370.819\" cy=\"213.778\" r=\"14.4\" fill=\"#009af9\" fill-rule=\"evenodd\" fill-opacity=\"1\" stroke=\"#000000\" stroke-opacity=\"1\" stroke-width=\"3.2\"/>\n",
       "<circle clip-path=\"url(#clip692)\" cx=\"471.938\" cy=\"1103.71\" r=\"14.4\" fill=\"#009af9\" fill-rule=\"evenodd\" fill-opacity=\"1\" stroke=\"#000000\" stroke-opacity=\"1\" stroke-width=\"3.2\"/>\n",
       "<circle clip-path=\"url(#clip692)\" cx=\"573.058\" cy=\"790.857\" r=\"14.4\" fill=\"#009af9\" fill-rule=\"evenodd\" fill-opacity=\"1\" stroke=\"#000000\" stroke-opacity=\"1\" stroke-width=\"3.2\"/>\n",
       "<circle clip-path=\"url(#clip692)\" cx=\"674.177\" cy=\"662.195\" r=\"14.4\" fill=\"#009af9\" fill-rule=\"evenodd\" fill-opacity=\"1\" stroke=\"#000000\" stroke-opacity=\"1\" stroke-width=\"3.2\"/>\n",
       "<circle clip-path=\"url(#clip692)\" cx=\"775.296\" cy=\"1194.96\" r=\"14.4\" fill=\"#009af9\" fill-rule=\"evenodd\" fill-opacity=\"1\" stroke=\"#000000\" stroke-opacity=\"1\" stroke-width=\"3.2\"/>\n",
       "<circle clip-path=\"url(#clip692)\" cx=\"876.415\" cy=\"1445.72\" r=\"14.4\" fill=\"#009af9\" fill-rule=\"evenodd\" fill-opacity=\"1\" stroke=\"#000000\" stroke-opacity=\"1\" stroke-width=\"3.2\"/>\n",
       "<circle clip-path=\"url(#clip692)\" cx=\"977.535\" cy=\"1211.71\" r=\"14.4\" fill=\"#009af9\" fill-rule=\"evenodd\" fill-opacity=\"1\" stroke=\"#000000\" stroke-opacity=\"1\" stroke-width=\"3.2\"/>\n",
       "<circle clip-path=\"url(#clip692)\" cx=\"1078.65\" cy=\"1287.74\" r=\"14.4\" fill=\"#009af9\" fill-rule=\"evenodd\" fill-opacity=\"1\" stroke=\"#000000\" stroke-opacity=\"1\" stroke-width=\"3.2\"/>\n",
       "<circle clip-path=\"url(#clip692)\" cx=\"1179.77\" cy=\"1122.26\" r=\"14.4\" fill=\"#009af9\" fill-rule=\"evenodd\" fill-opacity=\"1\" stroke=\"#000000\" stroke-opacity=\"1\" stroke-width=\"3.2\"/>\n",
       "<circle clip-path=\"url(#clip692)\" cx=\"1280.89\" cy=\"745.571\" r=\"14.4\" fill=\"#009af9\" fill-rule=\"evenodd\" fill-opacity=\"1\" stroke=\"#000000\" stroke-opacity=\"1\" stroke-width=\"3.2\"/>\n",
       "<circle clip-path=\"url(#clip692)\" cx=\"1382.01\" cy=\"883.303\" r=\"14.4\" fill=\"#009af9\" fill-rule=\"evenodd\" fill-opacity=\"1\" stroke=\"#000000\" stroke-opacity=\"1\" stroke-width=\"3.2\"/>\n",
       "<circle clip-path=\"url(#clip692)\" cx=\"1483.13\" cy=\"1132.3\" r=\"14.4\" fill=\"#009af9\" fill-rule=\"evenodd\" fill-opacity=\"1\" stroke=\"#000000\" stroke-opacity=\"1\" stroke-width=\"3.2\"/>\n",
       "<circle clip-path=\"url(#clip692)\" cx=\"1584.25\" cy=\"612.154\" r=\"14.4\" fill=\"#009af9\" fill-rule=\"evenodd\" fill-opacity=\"1\" stroke=\"#000000\" stroke-opacity=\"1\" stroke-width=\"3.2\"/>\n",
       "<circle clip-path=\"url(#clip692)\" cx=\"1685.37\" cy=\"855.019\" r=\"14.4\" fill=\"#009af9\" fill-rule=\"evenodd\" fill-opacity=\"1\" stroke=\"#000000\" stroke-opacity=\"1\" stroke-width=\"3.2\"/>\n",
       "<circle clip-path=\"url(#clip692)\" cx=\"1786.49\" cy=\"597.67\" r=\"14.4\" fill=\"#009af9\" fill-rule=\"evenodd\" fill-opacity=\"1\" stroke=\"#000000\" stroke-opacity=\"1\" stroke-width=\"3.2\"/>\n",
       "<circle clip-path=\"url(#clip692)\" cx=\"1887.61\" cy=\"450.977\" r=\"14.4\" fill=\"#009af9\" fill-rule=\"evenodd\" fill-opacity=\"1\" stroke=\"#000000\" stroke-opacity=\"1\" stroke-width=\"3.2\"/>\n",
       "<circle clip-path=\"url(#clip692)\" cx=\"1988.73\" cy=\"262.135\" r=\"14.4\" fill=\"#009af9\" fill-rule=\"evenodd\" fill-opacity=\"1\" stroke=\"#000000\" stroke-opacity=\"1\" stroke-width=\"3.2\"/>\n",
       "<circle clip-path=\"url(#clip692)\" cx=\"2089.85\" cy=\"497.751\" r=\"14.4\" fill=\"#009af9\" fill-rule=\"evenodd\" fill-opacity=\"1\" stroke=\"#000000\" stroke-opacity=\"1\" stroke-width=\"3.2\"/>\n",
       "<circle clip-path=\"url(#clip692)\" cx=\"2190.97\" cy=\"119.097\" r=\"14.4\" fill=\"#009af9\" fill-rule=\"evenodd\" fill-opacity=\"1\" stroke=\"#000000\" stroke-opacity=\"1\" stroke-width=\"3.2\"/>\n",
       "<circle clip-path=\"url(#clip692)\" cx=\"2292.08\" cy=\"523.75\" r=\"14.4\" fill=\"#009af9\" fill-rule=\"evenodd\" fill-opacity=\"1\" stroke=\"#000000\" stroke-opacity=\"1\" stroke-width=\"3.2\"/>\n",
       "<polyline clip-path=\"url(#clip692)\" style=\"stroke:#e26f46; stroke-linecap:round; stroke-linejoin:round; stroke-width:4; stroke-opacity:1; fill:none\" points=\"269.7,633.899 370.819,708.92 471.938,774.563 573.058,830.829 674.177,877.717 775.296,915.228 876.415,943.36 977.535,962.116 1078.65,971.493 1179.77,971.493 1280.89,962.116 1382.01,943.36 1483.13,915.228 1584.25,877.717 1685.37,830.829 1786.49,774.563 1887.61,708.92 1988.73,633.899 2089.85,549.5 2190.97,455.724 2292.08,352.57 \"/>\n",
       "<polyline clip-path=\"url(#clip692)\" style=\"stroke:#3da44d; stroke-linecap:round; stroke-linejoin:round; stroke-width:4; stroke-opacity:1; fill:none\" points=\"269.7,576.556 370.819,685.031 471.938,779.515 573.058,860.01 674.177,926.515 775.296,979.03 876.415,1017.56 977.535,1042.09 1078.65,1052.64 1179.77,1049.19 1280.89,1031.76 1382.01,1000.33 1483.13,954.921 1584.25,895.517 1685.37,822.124 1786.49,734.74 1887.61,633.367 1988.73,518.004 2089.85,388.651 2190.97,245.309 2292.08,87.9763 \"/>\n",
       "<path clip-path=\"url(#clip690)\" d=\"M1854.08 1438.47 L2281.3 1438.47 L2281.3 1231.11 L1854.08 1231.11  Z\" fill=\"#ffffff\" fill-rule=\"evenodd\" fill-opacity=\"1\"/>\n",
       "<polyline clip-path=\"url(#clip690)\" style=\"stroke:#000000; stroke-linecap:round; stroke-linejoin:round; stroke-width:4; stroke-opacity:1; fill:none\" points=\"1854.08,1438.47 2281.3,1438.47 2281.3,1231.11 1854.08,1231.11 1854.08,1438.47 \"/>\n",
       "<circle clip-path=\"url(#clip690)\" cx=\"1949.36\" cy=\"1282.95\" r=\"23.04\" fill=\"#009af9\" fill-rule=\"evenodd\" fill-opacity=\"1\" stroke=\"#000000\" stroke-opacity=\"1\" stroke-width=\"5.12\"/>\n",
       "<path clip-path=\"url(#clip690)\" d=\"M2056.53 1277.29 Q2053.11 1277.29 2051.11 1279.98 Q2049.12 1282.64 2049.12 1287.29 Q2049.12 1291.95 2051.09 1294.63 Q2053.08 1297.29 2056.53 1297.29 Q2059.93 1297.29 2061.92 1294.61 Q2063.92 1291.92 2063.92 1287.29 Q2063.92 1282.69 2061.92 1280 Q2059.93 1277.29 2056.53 1277.29 M2056.53 1273.68 Q2062.09 1273.68 2065.26 1277.29 Q2068.43 1280.91 2068.43 1287.29 Q2068.43 1293.66 2065.26 1297.29 Q2062.09 1300.91 2056.53 1300.91 Q2050.95 1300.91 2047.78 1297.29 Q2044.63 1293.66 2044.63 1287.29 Q2044.63 1280.91 2047.78 1277.29 Q2050.95 1273.68 2056.53 1273.68 Z\" fill=\"#000000\" fill-rule=\"evenodd\" fill-opacity=\"1\" /><path clip-path=\"url(#clip690)\" d=\"M2094.1 1287.29 Q2094.1 1282.6 2092.16 1279.93 Q2090.23 1277.25 2086.86 1277.25 Q2083.48 1277.25 2081.53 1279.93 Q2079.61 1282.6 2079.61 1287.29 Q2079.61 1291.99 2081.53 1294.68 Q2083.48 1297.34 2086.86 1297.34 Q2090.23 1297.34 2092.16 1294.68 Q2094.1 1291.99 2094.1 1287.29 M2079.61 1278.24 Q2080.95 1275.93 2082.99 1274.82 Q2085.05 1273.68 2087.9 1273.68 Q2092.62 1273.68 2095.56 1277.43 Q2098.52 1281.18 2098.52 1287.29 Q2098.52 1293.41 2095.56 1297.16 Q2092.62 1300.91 2087.9 1300.91 Q2085.05 1300.91 2082.99 1299.79 Q2080.95 1298.66 2079.61 1296.35 L2079.61 1300.23 L2075.33 1300.23 L2075.33 1264.22 L2079.61 1264.22 L2079.61 1278.24 Z\" fill=\"#000000\" fill-rule=\"evenodd\" fill-opacity=\"1\" /><path clip-path=\"url(#clip690)\" d=\"M2122.11 1275.07 L2122.11 1279.1 Q2120.3 1278.17 2118.36 1277.71 Q2116.42 1277.25 2114.33 1277.25 Q2111.16 1277.25 2109.56 1278.22 Q2107.99 1279.19 2107.99 1281.14 Q2107.99 1282.62 2109.12 1283.48 Q2110.26 1284.31 2113.68 1285.07 L2115.14 1285.4 Q2119.68 1286.37 2121.58 1288.15 Q2123.5 1289.91 2123.5 1293.08 Q2123.5 1296.69 2120.63 1298.8 Q2117.78 1300.91 2112.78 1300.91 Q2110.7 1300.91 2108.43 1300.49 Q2106.18 1300.1 2103.68 1299.29 L2103.68 1294.89 Q2106.04 1296.11 2108.34 1296.74 Q2110.63 1297.34 2112.87 1297.34 Q2115.88 1297.34 2117.5 1296.32 Q2119.12 1295.28 2119.12 1293.41 Q2119.12 1291.67 2117.94 1290.74 Q2116.79 1289.82 2112.83 1288.96 L2111.35 1288.61 Q2107.39 1287.78 2105.63 1286.07 Q2103.87 1284.33 2103.87 1281.32 Q2103.87 1277.67 2106.46 1275.67 Q2109.05 1273.68 2113.82 1273.68 Q2116.18 1273.68 2118.27 1274.03 Q2120.35 1274.38 2122.11 1275.07 Z\" fill=\"#000000\" fill-rule=\"evenodd\" fill-opacity=\"1\" /><path clip-path=\"url(#clip690)\" d=\"M2152.46 1286.21 L2152.46 1288.29 L2132.87 1288.29 Q2133.15 1292.69 2135.51 1295 Q2137.9 1297.29 2142.13 1297.29 Q2144.59 1297.29 2146.88 1296.69 Q2149.19 1296.09 2151.46 1294.89 L2151.46 1298.91 Q2149.17 1299.89 2146.76 1300.4 Q2144.35 1300.91 2141.88 1300.91 Q2135.67 1300.91 2132.04 1297.29 Q2128.43 1293.68 2128.43 1287.53 Q2128.43 1281.16 2131.85 1277.43 Q2135.3 1273.68 2141.14 1273.68 Q2146.37 1273.68 2149.4 1277.06 Q2152.46 1280.42 2152.46 1286.21 M2148.2 1284.96 Q2148.15 1281.46 2146.23 1279.38 Q2144.33 1277.29 2141.18 1277.29 Q2137.62 1277.29 2135.47 1279.31 Q2133.34 1281.32 2133.01 1284.98 L2148.2 1284.96 Z\" fill=\"#000000\" fill-rule=\"evenodd\" fill-opacity=\"1\" /><path clip-path=\"url(#clip690)\" d=\"M2174.47 1278.29 Q2173.75 1277.87 2172.9 1277.69 Q2172.06 1277.48 2171.04 1277.48 Q2167.43 1277.48 2165.49 1279.84 Q2163.57 1282.18 2163.57 1286.58 L2163.57 1300.23 L2159.29 1300.23 L2159.29 1274.31 L2163.57 1274.31 L2163.57 1278.34 Q2164.91 1275.98 2167.06 1274.84 Q2169.22 1273.68 2172.29 1273.68 Q2172.73 1273.68 2173.27 1273.75 Q2173.8 1273.8 2174.45 1273.92 L2174.47 1278.29 Z\" fill=\"#000000\" fill-rule=\"evenodd\" fill-opacity=\"1\" /><path clip-path=\"url(#clip690)\" d=\"M2175.88 1274.31 L2180.4 1274.31 L2188.5 1296.07 L2196.6 1274.31 L2201.11 1274.31 L2191.39 1300.23 L2185.6 1300.23 L2175.88 1274.31 Z\" fill=\"#000000\" fill-rule=\"evenodd\" fill-opacity=\"1\" /><path clip-path=\"url(#clip690)\" d=\"M2229.17 1286.21 L2229.17 1288.29 L2209.59 1288.29 Q2209.86 1292.69 2212.22 1295 Q2214.61 1297.29 2218.85 1297.29 Q2221.3 1297.29 2223.59 1296.69 Q2225.91 1296.09 2228.17 1294.89 L2228.17 1298.91 Q2225.88 1299.89 2223.47 1300.4 Q2221.07 1300.91 2218.59 1300.91 Q2212.39 1300.91 2208.75 1297.29 Q2205.14 1293.68 2205.14 1287.53 Q2205.14 1281.16 2208.57 1277.43 Q2212.02 1273.68 2217.85 1273.68 Q2223.08 1273.68 2226.11 1277.06 Q2229.17 1280.42 2229.17 1286.21 M2224.91 1284.96 Q2224.86 1281.46 2222.94 1279.38 Q2221.04 1277.29 2217.9 1277.29 Q2214.33 1277.29 2212.18 1279.31 Q2210.05 1281.32 2209.72 1284.98 L2224.91 1284.96 Z\" fill=\"#000000\" fill-rule=\"evenodd\" fill-opacity=\"1\" /><path clip-path=\"url(#clip690)\" d=\"M2253.22 1278.24 L2253.22 1264.22 L2257.48 1264.22 L2257.48 1300.23 L2253.22 1300.23 L2253.22 1296.35 Q2251.88 1298.66 2249.82 1299.79 Q2247.78 1300.91 2244.91 1300.91 Q2240.21 1300.91 2237.25 1297.16 Q2234.31 1293.41 2234.31 1287.29 Q2234.31 1281.18 2237.25 1277.43 Q2240.21 1273.68 2244.91 1273.68 Q2247.78 1273.68 2249.82 1274.82 Q2251.88 1275.93 2253.22 1278.24 M2238.71 1287.29 Q2238.71 1291.99 2240.63 1294.68 Q2242.57 1297.34 2245.95 1297.34 Q2249.33 1297.34 2251.28 1294.68 Q2253.22 1291.99 2253.22 1287.29 Q2253.22 1282.6 2251.28 1279.93 Q2249.33 1277.25 2245.95 1277.25 Q2242.57 1277.25 2240.63 1279.93 Q2238.71 1282.6 2238.71 1287.29 Z\" fill=\"#000000\" fill-rule=\"evenodd\" fill-opacity=\"1\" /><polyline clip-path=\"url(#clip690)\" style=\"stroke:#e26f46; stroke-linecap:round; stroke-linejoin:round; stroke-width:4; stroke-opacity:1; fill:none\" points=\"1877.9,1334.79 2020.81,1334.79 \"/>\n",
       "<path clip-path=\"url(#clip690)\" d=\"M2052.04 1318.79 L2052.04 1326.15 L2060.81 1326.15 L2060.81 1329.46 L2052.04 1329.46 L2052.04 1343.53 Q2052.04 1346.7 2052.9 1347.61 Q2053.78 1348.51 2056.44 1348.51 L2060.81 1348.51 L2060.81 1352.07 L2056.44 1352.07 Q2051.51 1352.07 2049.63 1350.25 Q2047.76 1348.39 2047.76 1343.53 L2047.76 1329.46 L2044.63 1329.46 L2044.63 1326.15 L2047.76 1326.15 L2047.76 1318.79 L2052.04 1318.79 Z\" fill=\"#000000\" fill-rule=\"evenodd\" fill-opacity=\"1\" /><path clip-path=\"url(#clip690)\" d=\"M2081.44 1330.13 Q2080.72 1329.71 2079.86 1329.53 Q2079.03 1329.32 2078.01 1329.32 Q2074.4 1329.32 2072.46 1331.68 Q2070.54 1334.02 2070.54 1338.42 L2070.54 1352.07 L2066.25 1352.07 L2066.25 1326.15 L2070.54 1326.15 L2070.54 1330.18 Q2071.88 1327.82 2074.03 1326.68 Q2076.18 1325.52 2079.26 1325.52 Q2079.7 1325.52 2080.23 1325.59 Q2080.77 1325.64 2081.42 1325.76 L2081.44 1330.13 Z\" fill=\"#000000\" fill-rule=\"evenodd\" fill-opacity=\"1\" /><path clip-path=\"url(#clip690)\" d=\"M2085.47 1341.84 L2085.47 1326.15 L2089.73 1326.15 L2089.73 1341.68 Q2089.73 1345.36 2091.16 1347.21 Q2092.6 1349.04 2095.47 1349.04 Q2098.92 1349.04 2100.91 1346.84 Q2102.92 1344.64 2102.92 1340.85 L2102.92 1326.15 L2107.18 1326.15 L2107.18 1352.07 L2102.92 1352.07 L2102.92 1348.09 Q2101.37 1350.45 2099.31 1351.61 Q2097.27 1352.75 2094.56 1352.75 Q2090.1 1352.75 2087.78 1349.97 Q2085.47 1347.19 2085.47 1341.84 M2096.18 1325.52 L2096.18 1325.52 Z\" fill=\"#000000\" fill-rule=\"evenodd\" fill-opacity=\"1\" /><path clip-path=\"url(#clip690)\" d=\"M2138.13 1338.05 L2138.13 1340.13 L2118.54 1340.13 Q2118.82 1344.53 2121.18 1346.84 Q2123.57 1349.13 2127.8 1349.13 Q2130.26 1349.13 2132.55 1348.53 Q2134.86 1347.93 2137.13 1346.73 L2137.13 1350.75 Q2134.84 1351.73 2132.43 1352.24 Q2130.03 1352.75 2127.55 1352.75 Q2121.35 1352.75 2117.71 1349.13 Q2114.1 1345.52 2114.1 1339.37 Q2114.1 1333 2117.53 1329.27 Q2120.98 1325.52 2126.81 1325.52 Q2132.04 1325.52 2135.07 1328.9 Q2138.13 1332.26 2138.13 1338.05 M2133.87 1336.8 Q2133.82 1333.3 2131.9 1331.22 Q2130 1329.13 2126.85 1329.13 Q2123.29 1329.13 2121.14 1331.15 Q2119.01 1333.16 2118.68 1336.82 L2133.87 1336.8 Z\" fill=\"#000000\" fill-rule=\"evenodd\" fill-opacity=\"1\" /><polyline clip-path=\"url(#clip690)\" style=\"stroke:#3da44d; stroke-linecap:round; stroke-linejoin:round; stroke-width:4; stroke-opacity:1; fill:none\" points=\"1877.9,1386.63 2020.81,1386.63 \"/>\n",
       "<path clip-path=\"url(#clip690)\" d=\"M2048.92 1400.03 L2048.92 1413.78 L2044.63 1413.78 L2044.63 1377.99 L2048.92 1377.99 L2048.92 1381.92 Q2050.26 1379.61 2052.3 1378.5 Q2054.36 1377.36 2057.2 1377.36 Q2061.92 1377.36 2064.86 1381.11 Q2067.83 1384.86 2067.83 1390.97 Q2067.83 1397.09 2064.86 1400.84 Q2061.92 1404.59 2057.2 1404.59 Q2054.36 1404.59 2052.3 1403.47 Q2050.26 1402.34 2048.92 1400.03 M2063.41 1390.97 Q2063.41 1386.28 2061.46 1383.61 Q2059.54 1380.93 2056.16 1380.93 Q2052.78 1380.93 2050.84 1383.61 Q2048.92 1386.28 2048.92 1390.97 Q2048.92 1395.67 2050.84 1398.36 Q2052.78 1401.02 2056.16 1401.02 Q2059.54 1401.02 2061.46 1398.36 Q2063.41 1395.67 2063.41 1390.97 Z\" fill=\"#000000\" fill-rule=\"evenodd\" fill-opacity=\"1\" /><path clip-path=\"url(#clip690)\" d=\"M2084.93 1380.97 Q2081.51 1380.97 2079.52 1383.66 Q2077.53 1386.32 2077.53 1390.97 Q2077.53 1395.63 2079.49 1398.31 Q2081.48 1400.97 2084.93 1400.97 Q2088.34 1400.97 2090.33 1398.29 Q2092.32 1395.6 2092.32 1390.97 Q2092.32 1386.37 2090.33 1383.68 Q2088.34 1380.97 2084.93 1380.97 M2084.93 1377.36 Q2090.49 1377.36 2093.66 1380.97 Q2096.83 1384.59 2096.83 1390.97 Q2096.83 1397.34 2093.66 1400.97 Q2090.49 1404.59 2084.93 1404.59 Q2079.36 1404.59 2076.18 1400.97 Q2073.04 1397.34 2073.04 1390.97 Q2073.04 1384.59 2076.18 1380.97 Q2079.36 1377.36 2084.93 1377.36 Z\" fill=\"#000000\" fill-rule=\"evenodd\" fill-opacity=\"1\" /><path clip-path=\"url(#clip690)\" d=\"M2103.89 1367.9 L2108.15 1367.9 L2108.15 1403.91 L2103.89 1403.91 L2103.89 1367.9 Z\" fill=\"#000000\" fill-rule=\"evenodd\" fill-opacity=\"1\" /><path clip-path=\"url(#clip690)\" d=\"M2127.85 1406.32 Q2126.04 1410.95 2124.33 1412.36 Q2122.62 1413.78 2119.75 1413.78 L2116.35 1413.78 L2116.35 1410.21 L2118.85 1410.21 Q2120.6 1410.21 2121.58 1409.38 Q2122.55 1408.54 2123.73 1405.44 L2124.49 1403.5 L2114.01 1377.99 L2118.52 1377.99 L2126.62 1398.27 L2134.73 1377.99 L2139.24 1377.99 L2127.85 1406.32 Z\" fill=\"#000000\" fill-rule=\"evenodd\" fill-opacity=\"1\" /><path clip-path=\"url(#clip690)\" d=\"M2158.24 1367.9 L2158.24 1371.44 L2154.17 1371.44 Q2151.88 1371.44 2150.98 1372.36 Q2150.1 1373.29 2150.1 1375.7 L2150.1 1377.99 L2157.11 1377.99 L2157.11 1381.3 L2150.1 1381.3 L2150.1 1403.91 L2145.81 1403.91 L2145.81 1381.3 L2141.74 1381.3 L2141.74 1377.99 L2145.81 1377.99 L2145.81 1376.18 Q2145.81 1371.85 2147.83 1369.89 Q2149.84 1367.9 2154.22 1367.9 L2158.24 1367.9 Z\" fill=\"#000000\" fill-rule=\"evenodd\" fill-opacity=\"1\" /><path clip-path=\"url(#clip690)\" d=\"M2161.81 1377.99 L2166.07 1377.99 L2166.07 1403.91 L2161.81 1403.91 L2161.81 1377.99 M2161.81 1367.9 L2166.07 1367.9 L2166.07 1373.29 L2161.81 1373.29 L2161.81 1367.9 Z\" fill=\"#000000\" fill-rule=\"evenodd\" fill-opacity=\"1\" /><path clip-path=\"url(#clip690)\" d=\"M2179.19 1370.63 L2179.19 1377.99 L2187.97 1377.99 L2187.97 1381.3 L2179.19 1381.3 L2179.19 1395.37 Q2179.19 1398.54 2180.05 1399.45 Q2180.93 1400.35 2183.59 1400.35 L2187.97 1400.35 L2187.97 1403.91 L2183.59 1403.91 Q2178.66 1403.91 2176.79 1402.09 Q2174.91 1400.23 2174.91 1395.37 L2174.91 1381.3 L2171.79 1381.3 L2171.79 1377.99 L2174.91 1377.99 L2174.91 1370.63 L2179.19 1370.63 Z\" fill=\"#000000\" fill-rule=\"evenodd\" fill-opacity=\"1\" /></svg>\n"
      ]
     },
     "execution_count": 16,
     "metadata": {},
     "output_type": "execute_result"
    }
   ],
   "source": [
    "y_observed_2 = y_true .+ rand(g_noise_2,length(x))\n",
    "scatter(x,y_observed_2, label = \"observed\")\n",
    "plot!(x,y_true, label = \"true\")\n",
    "poly_fit = fit(x,y_observed_2,2) \n",
    "y_poly_fit = poly_fit.(x)\n",
    "plot!(x,y_poly_fit, label = \"polyfit\")"
   ]
  },
  {
   "cell_type": "markdown",
   "id": "ab12acbd",
   "metadata": {},
   "source": [
    "2. Compare the plot with the plot in 2.3. Is the fit closer to y_true or not, and why?"
   ]
  },
  {
   "cell_type": "markdown",
   "id": "a34fcca4",
   "metadata": {},
   "source": [
    "The second fit is not a closer fit to y_true because it has a greater standard deviation. Since the mean did not change between the two, changing the standard deviation from 10 to 50 caused the polynomial fit to vary farther from y_true. This is why poly fit curve does not align as well with either the data or the true line."
   ]
  },
  {
   "cell_type": "markdown",
   "id": "5fd1d93b",
   "metadata": {},
   "source": [
    "### 2.5\n",
    "\n",
    "#### Repeat 2.2 and 2.3 with a tenth order polynomial fit\n"
   ]
  },
  {
   "cell_type": "code",
   "execution_count": 17,
   "id": "f3d366bf",
   "metadata": {},
   "outputs": [
    {
     "data": {
      "image/svg+xml": [
       "<?xml version=\"1.0\" encoding=\"utf-8\"?>\n",
       "<svg xmlns=\"http://www.w3.org/2000/svg\" xmlns:xlink=\"http://www.w3.org/1999/xlink\" width=\"600\" height=\"400\" viewBox=\"0 0 2400 1600\">\n",
       "<defs>\n",
       "  <clipPath id=\"clip730\">\n",
       "    <rect x=\"0\" y=\"0\" width=\"2400\" height=\"1600\"/>\n",
       "  </clipPath>\n",
       "</defs>\n",
       "<path clip-path=\"url(#clip730)\" d=\"M0 1600 L2400 1600 L2400 0 L0 0  Z\" fill=\"#ffffff\" fill-rule=\"evenodd\" fill-opacity=\"1\"/>\n",
       "<defs>\n",
       "  <clipPath id=\"clip731\">\n",
       "    <rect x=\"480\" y=\"0\" width=\"1681\" height=\"1600\"/>\n",
       "  </clipPath>\n",
       "</defs>\n",
       "<path clip-path=\"url(#clip730)\" d=\"M169.121 1486.45 L2352.76 1486.45 L2352.76 47.2441 L169.121 47.2441  Z\" fill=\"#ffffff\" fill-rule=\"evenodd\" fill-opacity=\"1\"/>\n",
       "<defs>\n",
       "  <clipPath id=\"clip732\">\n",
       "    <rect x=\"169\" y=\"47\" width=\"2185\" height=\"1440\"/>\n",
       "  </clipPath>\n",
       "</defs>\n",
       "<polyline clip-path=\"url(#clip732)\" style=\"stroke:#000000; stroke-linecap:round; stroke-linejoin:round; stroke-width:2; stroke-opacity:0.1; fill:none\" points=\"230.922,1486.45 230.922,47.2441 \"/>\n",
       "<polyline clip-path=\"url(#clip732)\" style=\"stroke:#000000; stroke-linecap:round; stroke-linejoin:round; stroke-width:2; stroke-opacity:0.1; fill:none\" points=\"745.93,1486.45 745.93,47.2441 \"/>\n",
       "<polyline clip-path=\"url(#clip732)\" style=\"stroke:#000000; stroke-linecap:round; stroke-linejoin:round; stroke-width:2; stroke-opacity:0.1; fill:none\" points=\"1260.94,1486.45 1260.94,47.2441 \"/>\n",
       "<polyline clip-path=\"url(#clip732)\" style=\"stroke:#000000; stroke-linecap:round; stroke-linejoin:round; stroke-width:2; stroke-opacity:0.1; fill:none\" points=\"1775.95,1486.45 1775.95,47.2441 \"/>\n",
       "<polyline clip-path=\"url(#clip732)\" style=\"stroke:#000000; stroke-linecap:round; stroke-linejoin:round; stroke-width:2; stroke-opacity:0.1; fill:none\" points=\"2290.95,1486.45 2290.95,47.2441 \"/>\n",
       "<polyline clip-path=\"url(#clip730)\" style=\"stroke:#000000; stroke-linecap:round; stroke-linejoin:round; stroke-width:4; stroke-opacity:1; fill:none\" points=\"169.121,1486.45 2352.76,1486.45 \"/>\n",
       "<polyline clip-path=\"url(#clip730)\" style=\"stroke:#000000; stroke-linecap:round; stroke-linejoin:round; stroke-width:4; stroke-opacity:1; fill:none\" points=\"230.922,1486.45 230.922,1467.55 \"/>\n",
       "<polyline clip-path=\"url(#clip730)\" style=\"stroke:#000000; stroke-linecap:round; stroke-linejoin:round; stroke-width:4; stroke-opacity:1; fill:none\" points=\"745.93,1486.45 745.93,1467.55 \"/>\n",
       "<polyline clip-path=\"url(#clip730)\" style=\"stroke:#000000; stroke-linecap:round; stroke-linejoin:round; stroke-width:4; stroke-opacity:1; fill:none\" points=\"1260.94,1486.45 1260.94,1467.55 \"/>\n",
       "<polyline clip-path=\"url(#clip730)\" style=\"stroke:#000000; stroke-linecap:round; stroke-linejoin:round; stroke-width:4; stroke-opacity:1; fill:none\" points=\"1775.95,1486.45 1775.95,1467.55 \"/>\n",
       "<polyline clip-path=\"url(#clip730)\" style=\"stroke:#000000; stroke-linecap:round; stroke-linejoin:round; stroke-width:4; stroke-opacity:1; fill:none\" points=\"2290.95,1486.45 2290.95,1467.55 \"/>\n",
       "<path clip-path=\"url(#clip730)\" d=\"M184.985 1532.02 L214.661 1532.02 L214.661 1535.95 L184.985 1535.95 L184.985 1532.02 Z\" fill=\"#000000\" fill-rule=\"evenodd\" fill-opacity=\"1\" /><path clip-path=\"url(#clip730)\" d=\"M225.564 1544.91 L233.202 1544.91 L233.202 1518.55 L224.892 1520.21 L224.892 1515.95 L233.156 1514.29 L237.832 1514.29 L237.832 1544.91 L245.471 1544.91 L245.471 1548.85 L225.564 1548.85 L225.564 1544.91 Z\" fill=\"#000000\" fill-rule=\"evenodd\" fill-opacity=\"1\" /><path clip-path=\"url(#clip730)\" d=\"M264.915 1517.37 Q261.304 1517.37 259.475 1520.93 Q257.67 1524.47 257.67 1531.6 Q257.67 1538.71 259.475 1542.27 Q261.304 1545.82 264.915 1545.82 Q268.549 1545.82 270.355 1542.27 Q272.184 1538.71 272.184 1531.6 Q272.184 1524.47 270.355 1520.93 Q268.549 1517.37 264.915 1517.37 M264.915 1513.66 Q270.725 1513.66 273.781 1518.27 Q276.86 1522.85 276.86 1531.6 Q276.86 1540.33 273.781 1544.94 Q270.725 1549.52 264.915 1549.52 Q259.105 1549.52 256.026 1544.94 Q252.971 1540.33 252.971 1531.6 Q252.971 1522.85 256.026 1518.27 Q259.105 1513.66 264.915 1513.66 Z\" fill=\"#000000\" fill-rule=\"evenodd\" fill-opacity=\"1\" /><path clip-path=\"url(#clip730)\" d=\"M715.572 1532.02 L745.248 1532.02 L745.248 1535.95 L715.572 1535.95 L715.572 1532.02 Z\" fill=\"#000000\" fill-rule=\"evenodd\" fill-opacity=\"1\" /><path clip-path=\"url(#clip730)\" d=\"M755.386 1514.29 L773.743 1514.29 L773.743 1518.22 L759.669 1518.22 L759.669 1526.7 Q760.687 1526.35 761.706 1526.19 Q762.724 1526 763.743 1526 Q769.53 1526 772.909 1529.17 Q776.289 1532.34 776.289 1537.76 Q776.289 1543.34 772.817 1546.44 Q769.345 1549.52 763.025 1549.52 Q760.849 1549.52 758.581 1549.15 Q756.335 1548.78 753.928 1548.04 L753.928 1543.34 Q756.011 1544.47 758.234 1545.03 Q760.456 1545.58 762.933 1545.58 Q766.937 1545.58 769.275 1543.48 Q771.613 1541.37 771.613 1537.76 Q771.613 1534.15 769.275 1532.04 Q766.937 1529.94 762.933 1529.94 Q761.058 1529.94 759.183 1530.35 Q757.331 1530.77 755.386 1531.65 L755.386 1514.29 Z\" fill=\"#000000\" fill-rule=\"evenodd\" fill-opacity=\"1\" /><path clip-path=\"url(#clip730)\" d=\"M1260.94 1517.37 Q1257.33 1517.37 1255.5 1520.93 Q1253.69 1524.47 1253.69 1531.6 Q1253.69 1538.71 1255.5 1542.27 Q1257.33 1545.82 1260.94 1545.82 Q1264.57 1545.82 1266.38 1542.27 Q1268.21 1538.71 1268.21 1531.6 Q1268.21 1524.47 1266.38 1520.93 Q1264.57 1517.37 1260.94 1517.37 M1260.94 1513.66 Q1266.75 1513.66 1269.8 1518.27 Q1272.88 1522.85 1272.88 1531.6 Q1272.88 1540.33 1269.8 1544.94 Q1266.75 1549.52 1260.94 1549.52 Q1255.13 1549.52 1252.05 1544.94 Q1248.99 1540.33 1248.99 1531.6 Q1248.99 1522.85 1252.05 1518.27 Q1255.13 1513.66 1260.94 1513.66 Z\" fill=\"#000000\" fill-rule=\"evenodd\" fill-opacity=\"1\" /><path clip-path=\"url(#clip730)\" d=\"M1766.22 1514.29 L1784.58 1514.29 L1784.58 1518.22 L1770.51 1518.22 L1770.51 1526.7 Q1771.53 1526.35 1772.54 1526.19 Q1773.56 1526 1774.58 1526 Q1780.37 1526 1783.75 1529.17 Q1787.13 1532.34 1787.13 1537.76 Q1787.13 1543.34 1783.66 1546.44 Q1780.18 1549.52 1773.86 1549.52 Q1771.69 1549.52 1769.42 1549.15 Q1767.17 1548.78 1764.77 1548.04 L1764.77 1543.34 Q1766.85 1544.47 1769.07 1545.03 Q1771.29 1545.58 1773.77 1545.58 Q1777.78 1545.58 1780.11 1543.48 Q1782.45 1541.37 1782.45 1537.76 Q1782.45 1534.15 1780.11 1532.04 Q1777.78 1529.94 1773.77 1529.94 Q1771.9 1529.94 1770.02 1530.35 Q1768.17 1530.77 1766.22 1531.65 L1766.22 1514.29 Z\" fill=\"#000000\" fill-rule=\"evenodd\" fill-opacity=\"1\" /><path clip-path=\"url(#clip730)\" d=\"M2265.64 1544.91 L2273.28 1544.91 L2273.28 1518.55 L2264.97 1520.21 L2264.97 1515.95 L2273.24 1514.29 L2277.91 1514.29 L2277.91 1544.91 L2285.55 1544.91 L2285.55 1548.85 L2265.64 1548.85 L2265.64 1544.91 Z\" fill=\"#000000\" fill-rule=\"evenodd\" fill-opacity=\"1\" /><path clip-path=\"url(#clip730)\" d=\"M2304.99 1517.37 Q2301.38 1517.37 2299.55 1520.93 Q2297.75 1524.47 2297.75 1531.6 Q2297.75 1538.71 2299.55 1542.27 Q2301.38 1545.82 2304.99 1545.82 Q2308.63 1545.82 2310.43 1542.27 Q2312.26 1538.71 2312.26 1531.6 Q2312.26 1524.47 2310.43 1520.93 Q2308.63 1517.37 2304.99 1517.37 M2304.99 1513.66 Q2310.8 1513.66 2313.86 1518.27 Q2316.94 1522.85 2316.94 1531.6 Q2316.94 1540.33 2313.86 1544.94 Q2310.8 1549.52 2304.99 1549.52 Q2299.18 1549.52 2296.11 1544.94 Q2293.05 1540.33 2293.05 1531.6 Q2293.05 1522.85 2296.11 1518.27 Q2299.18 1513.66 2304.99 1513.66 Z\" fill=\"#000000\" fill-rule=\"evenodd\" fill-opacity=\"1\" /><polyline clip-path=\"url(#clip732)\" style=\"stroke:#000000; stroke-linecap:round; stroke-linejoin:round; stroke-width:2; stroke-opacity:0.1; fill:none\" points=\"169.121,1231 2352.76,1231 \"/>\n",
       "<polyline clip-path=\"url(#clip732)\" style=\"stroke:#000000; stroke-linecap:round; stroke-linejoin:round; stroke-width:2; stroke-opacity:0.1; fill:none\" points=\"169.121,963.105 2352.76,963.105 \"/>\n",
       "<polyline clip-path=\"url(#clip732)\" style=\"stroke:#000000; stroke-linecap:round; stroke-linejoin:round; stroke-width:2; stroke-opacity:0.1; fill:none\" points=\"169.121,695.209 2352.76,695.209 \"/>\n",
       "<polyline clip-path=\"url(#clip732)\" style=\"stroke:#000000; stroke-linecap:round; stroke-linejoin:round; stroke-width:2; stroke-opacity:0.1; fill:none\" points=\"169.121,427.312 2352.76,427.312 \"/>\n",
       "<polyline clip-path=\"url(#clip732)\" style=\"stroke:#000000; stroke-linecap:round; stroke-linejoin:round; stroke-width:2; stroke-opacity:0.1; fill:none\" points=\"169.121,159.415 2352.76,159.415 \"/>\n",
       "<polyline clip-path=\"url(#clip730)\" style=\"stroke:#000000; stroke-linecap:round; stroke-linejoin:round; stroke-width:4; stroke-opacity:1; fill:none\" points=\"169.121,1486.45 169.121,47.2441 \"/>\n",
       "<polyline clip-path=\"url(#clip730)\" style=\"stroke:#000000; stroke-linecap:round; stroke-linejoin:round; stroke-width:4; stroke-opacity:1; fill:none\" points=\"169.121,1231 188.019,1231 \"/>\n",
       "<polyline clip-path=\"url(#clip730)\" style=\"stroke:#000000; stroke-linecap:round; stroke-linejoin:round; stroke-width:4; stroke-opacity:1; fill:none\" points=\"169.121,963.105 188.019,963.105 \"/>\n",
       "<polyline clip-path=\"url(#clip730)\" style=\"stroke:#000000; stroke-linecap:round; stroke-linejoin:round; stroke-width:4; stroke-opacity:1; fill:none\" points=\"169.121,695.209 188.019,695.209 \"/>\n",
       "<polyline clip-path=\"url(#clip730)\" style=\"stroke:#000000; stroke-linecap:round; stroke-linejoin:round; stroke-width:4; stroke-opacity:1; fill:none\" points=\"169.121,427.312 188.019,427.312 \"/>\n",
       "<polyline clip-path=\"url(#clip730)\" style=\"stroke:#000000; stroke-linecap:round; stroke-linejoin:round; stroke-width:4; stroke-opacity:1; fill:none\" points=\"169.121,159.415 188.019,159.415 \"/>\n",
       "<path clip-path=\"url(#clip730)\" d=\"M121.177 1216.8 Q117.566 1216.8 115.737 1220.37 Q113.932 1223.91 113.932 1231.04 Q113.932 1238.14 115.737 1241.71 Q117.566 1245.25 121.177 1245.25 Q124.811 1245.25 126.617 1241.71 Q128.445 1238.14 128.445 1231.04 Q128.445 1223.91 126.617 1220.37 Q124.811 1216.8 121.177 1216.8 M121.177 1213.1 Q126.987 1213.1 130.043 1217.7 Q133.121 1222.29 133.121 1231.04 Q133.121 1239.76 130.043 1244.37 Q126.987 1248.95 121.177 1248.95 Q115.367 1248.95 112.288 1244.37 Q109.233 1239.76 109.233 1231.04 Q109.233 1222.29 112.288 1217.7 Q115.367 1213.1 121.177 1213.1 Z\" fill=\"#000000\" fill-rule=\"evenodd\" fill-opacity=\"1\" /><path clip-path=\"url(#clip730)\" d=\"M95.1817 961.751 Q98.5382 962.469 100.413 964.737 Q102.311 967.006 102.311 970.339 Q102.311 975.455 98.7928 978.256 Q95.2743 981.057 88.7928 981.057 Q86.6169 981.057 84.3021 980.617 Q82.0105 980.2 79.5568 979.344 L79.5568 974.83 Q81.5012 975.964 83.816 976.543 Q86.1308 977.122 88.654 977.122 Q93.0521 977.122 95.3437 975.385 Q97.6585 973.649 97.6585 970.339 Q97.6585 967.284 95.5058 965.571 Q93.3762 963.835 89.5567 963.835 L85.529 963.835 L85.529 959.992 L89.7419 959.992 Q93.191 959.992 95.0197 958.626 Q96.8484 957.237 96.8484 954.645 Q96.8484 951.983 94.9502 950.571 Q93.0752 949.136 89.5567 949.136 Q87.6354 949.136 85.4364 949.552 Q83.2373 949.969 80.5984 950.849 L80.5984 946.682 Q83.2605 945.941 85.5753 945.571 Q87.9132 945.2 89.9734 945.2 Q95.2974 945.2 98.3993 947.631 Q101.501 950.038 101.501 954.159 Q101.501 957.029 99.8576 959.02 Q98.2141 960.987 95.1817 961.751 Z\" fill=\"#000000\" fill-rule=\"evenodd\" fill-opacity=\"1\" /><path clip-path=\"url(#clip730)\" d=\"M121.177 948.904 Q117.566 948.904 115.737 952.469 Q113.932 956.011 113.932 963.14 Q113.932 970.247 115.737 973.811 Q117.566 977.353 121.177 977.353 Q124.811 977.353 126.617 973.811 Q128.445 970.247 128.445 963.14 Q128.445 956.011 126.617 952.469 Q124.811 948.904 121.177 948.904 M121.177 945.2 Q126.987 945.2 130.043 949.807 Q133.121 954.39 133.121 963.14 Q133.121 971.867 130.043 976.473 Q126.987 981.057 121.177 981.057 Q115.367 981.057 112.288 976.473 Q109.233 971.867 109.233 963.14 Q109.233 954.39 112.288 949.807 Q115.367 945.2 121.177 945.2 Z\" fill=\"#000000\" fill-rule=\"evenodd\" fill-opacity=\"1\" /><path clip-path=\"url(#clip730)\" d=\"M91.5938 693.345 Q88.4456 693.345 86.5938 695.498 Q84.7651 697.651 84.7651 701.401 Q84.7651 705.128 86.5938 707.304 Q88.4456 709.456 91.5938 709.456 Q94.7419 709.456 96.5706 707.304 Q98.4224 705.128 98.4224 701.401 Q98.4224 697.651 96.5706 695.498 Q94.7419 693.345 91.5938 693.345 M100.876 678.693 L100.876 682.952 Q99.1169 682.119 97.3113 681.679 Q95.5289 681.239 93.7697 681.239 Q89.1401 681.239 86.6864 684.364 Q84.2558 687.489 83.9086 693.808 Q85.2743 691.794 87.3345 690.73 Q89.3947 689.642 91.8715 689.642 Q97.0798 689.642 100.089 692.813 Q103.121 695.961 103.121 701.401 Q103.121 706.725 99.9733 709.942 Q96.8252 713.16 91.5938 713.16 Q85.5984 713.16 82.4271 708.577 Q79.2559 703.97 79.2559 695.243 Q79.2559 687.049 83.1447 682.188 Q87.0336 677.304 93.5845 677.304 Q95.3437 677.304 97.1261 677.651 Q98.9317 677.998 100.876 678.693 Z\" fill=\"#000000\" fill-rule=\"evenodd\" fill-opacity=\"1\" /><path clip-path=\"url(#clip730)\" d=\"M121.177 681.007 Q117.566 681.007 115.737 684.572 Q113.932 688.114 113.932 695.243 Q113.932 702.35 115.737 705.915 Q117.566 709.456 121.177 709.456 Q124.811 709.456 126.617 705.915 Q128.445 702.35 128.445 695.243 Q128.445 688.114 126.617 684.572 Q124.811 681.007 121.177 681.007 M121.177 677.304 Q126.987 677.304 130.043 681.91 Q133.121 686.494 133.121 695.243 Q133.121 703.97 130.043 708.577 Q126.987 713.16 121.177 713.16 Q115.367 713.16 112.288 708.577 Q109.233 703.97 109.233 695.243 Q109.233 686.494 112.288 681.91 Q115.367 677.304 121.177 677.304 Z\" fill=\"#000000\" fill-rule=\"evenodd\" fill-opacity=\"1\" /><path clip-path=\"url(#clip730)\" d=\"M81.154 443.874 L81.154 439.615 Q82.9133 440.449 84.7188 440.888 Q86.5243 441.328 88.2604 441.328 Q92.89 441.328 95.3206 438.226 Q97.7743 435.101 98.1215 428.759 Q96.7789 430.75 94.7187 431.814 Q92.6586 432.879 90.1586 432.879 Q84.9734 432.879 81.941 429.754 Q78.9318 426.606 78.9318 421.166 Q78.9318 415.842 82.0799 412.625 Q85.2281 409.407 90.4595 409.407 Q96.4548 409.407 99.603 414.014 Q102.774 418.597 102.774 427.347 Q102.774 435.518 98.8854 440.402 Q95.0197 445.263 88.4688 445.263 Q86.7095 445.263 84.904 444.916 Q83.0984 444.569 81.154 443.874 M90.4595 429.222 Q93.6076 429.222 95.4363 427.069 Q97.2882 424.916 97.2882 421.166 Q97.2882 417.439 95.4363 415.287 Q93.6076 413.111 90.4595 413.111 Q87.3114 413.111 85.4595 415.287 Q83.6308 417.439 83.6308 421.166 Q83.6308 424.916 85.4595 427.069 Q87.3114 429.222 90.4595 429.222 Z\" fill=\"#000000\" fill-rule=\"evenodd\" fill-opacity=\"1\" /><path clip-path=\"url(#clip730)\" d=\"M121.177 413.111 Q117.566 413.111 115.737 416.676 Q113.932 420.217 113.932 427.347 Q113.932 434.453 115.737 438.018 Q117.566 441.56 121.177 441.56 Q124.811 441.56 126.617 438.018 Q128.445 434.453 128.445 427.347 Q128.445 420.217 126.617 416.676 Q124.811 413.111 121.177 413.111 M121.177 409.407 Q126.987 409.407 130.043 414.014 Q133.121 418.597 133.121 427.347 Q133.121 436.074 130.043 440.68 Q126.987 445.263 121.177 445.263 Q115.367 445.263 112.288 440.68 Q109.233 436.074 109.233 427.347 Q109.233 418.597 112.288 414.014 Q115.367 409.407 121.177 409.407 Z\" fill=\"#000000\" fill-rule=\"evenodd\" fill-opacity=\"1\" /><path clip-path=\"url(#clip730)\" d=\"M51.6634 172.76 L59.3023 172.76 L59.3023 146.395 L50.9921 148.061 L50.9921 143.802 L59.256 142.135 L63.9319 142.135 L63.9319 172.76 L71.5707 172.76 L71.5707 176.695 L51.6634 176.695 L51.6634 172.76 Z\" fill=\"#000000\" fill-rule=\"evenodd\" fill-opacity=\"1\" /><path clip-path=\"url(#clip730)\" d=\"M85.0429 172.76 L101.362 172.76 L101.362 176.695 L79.4179 176.695 L79.4179 172.76 Q82.0799 170.006 86.6632 165.376 Q91.2697 160.723 92.4502 159.381 Q94.6956 156.858 95.5752 155.121 Q96.478 153.362 96.478 151.672 Q96.478 148.918 94.5336 147.182 Q92.6123 145.446 89.5104 145.446 Q87.3114 145.446 84.8577 146.209 Q82.4271 146.973 79.6494 148.524 L79.6494 143.802 Q82.4734 142.668 84.9271 142.089 Q87.3808 141.51 89.4178 141.51 Q94.7882 141.51 97.9826 144.196 Q101.177 146.881 101.177 151.371 Q101.177 153.501 100.367 155.422 Q99.5798 157.32 97.4734 159.913 Q96.8947 160.584 93.7928 163.802 Q90.691 166.996 85.0429 172.76 Z\" fill=\"#000000\" fill-rule=\"evenodd\" fill-opacity=\"1\" /><path clip-path=\"url(#clip730)\" d=\"M121.177 145.214 Q117.566 145.214 115.737 148.779 Q113.932 152.321 113.932 159.45 Q113.932 166.557 115.737 170.121 Q117.566 173.663 121.177 173.663 Q124.811 173.663 126.617 170.121 Q128.445 166.557 128.445 159.45 Q128.445 152.321 126.617 148.779 Q124.811 145.214 121.177 145.214 M121.177 141.51 Q126.987 141.51 130.043 146.117 Q133.121 150.7 133.121 159.45 Q133.121 168.177 130.043 172.783 Q126.987 177.367 121.177 177.367 Q115.367 177.367 112.288 172.783 Q109.233 168.177 109.233 159.45 Q109.233 150.7 112.288 146.117 Q115.367 141.51 121.177 141.51 Z\" fill=\"#000000\" fill-rule=\"evenodd\" fill-opacity=\"1\" /><circle clip-path=\"url(#clip732)\" cx=\"230.922\" cy=\"772.669\" r=\"14.4\" fill=\"#009af9\" fill-rule=\"evenodd\" fill-opacity=\"1\" stroke=\"#000000\" stroke-opacity=\"1\" stroke-width=\"3.2\"/>\n",
       "<circle clip-path=\"url(#clip732)\" cx=\"333.924\" cy=\"836.603\" r=\"14.4\" fill=\"#009af9\" fill-rule=\"evenodd\" fill-opacity=\"1\" stroke=\"#000000\" stroke-opacity=\"1\" stroke-width=\"3.2\"/>\n",
       "<circle clip-path=\"url(#clip732)\" cx=\"436.926\" cy=\"854.586\" r=\"14.4\" fill=\"#009af9\" fill-rule=\"evenodd\" fill-opacity=\"1\" stroke=\"#000000\" stroke-opacity=\"1\" stroke-width=\"3.2\"/>\n",
       "<circle clip-path=\"url(#clip732)\" cx=\"539.927\" cy=\"1019.89\" r=\"14.4\" fill=\"#009af9\" fill-rule=\"evenodd\" fill-opacity=\"1\" stroke=\"#000000\" stroke-opacity=\"1\" stroke-width=\"3.2\"/>\n",
       "<circle clip-path=\"url(#clip732)\" cx=\"642.929\" cy=\"1121.59\" r=\"14.4\" fill=\"#009af9\" fill-rule=\"evenodd\" fill-opacity=\"1\" stroke=\"#000000\" stroke-opacity=\"1\" stroke-width=\"3.2\"/>\n",
       "<circle clip-path=\"url(#clip732)\" cx=\"745.93\" cy=\"1105.46\" r=\"14.4\" fill=\"#009af9\" fill-rule=\"evenodd\" fill-opacity=\"1\" stroke=\"#000000\" stroke-opacity=\"1\" stroke-width=\"3.2\"/>\n",
       "<circle clip-path=\"url(#clip732)\" cx=\"848.932\" cy=\"1307.74\" r=\"14.4\" fill=\"#009af9\" fill-rule=\"evenodd\" fill-opacity=\"1\" stroke=\"#000000\" stroke-opacity=\"1\" stroke-width=\"3.2\"/>\n",
       "<circle clip-path=\"url(#clip732)\" cx=\"951.934\" cy=\"1445.72\" r=\"14.4\" fill=\"#009af9\" fill-rule=\"evenodd\" fill-opacity=\"1\" stroke=\"#000000\" stroke-opacity=\"1\" stroke-width=\"3.2\"/>\n",
       "<circle clip-path=\"url(#clip732)\" cx=\"1054.94\" cy=\"1295.42\" r=\"14.4\" fill=\"#009af9\" fill-rule=\"evenodd\" fill-opacity=\"1\" stroke=\"#000000\" stroke-opacity=\"1\" stroke-width=\"3.2\"/>\n",
       "<circle clip-path=\"url(#clip732)\" cx=\"1157.94\" cy=\"1210.17\" r=\"14.4\" fill=\"#009af9\" fill-rule=\"evenodd\" fill-opacity=\"1\" stroke=\"#000000\" stroke-opacity=\"1\" stroke-width=\"3.2\"/>\n",
       "<circle clip-path=\"url(#clip732)\" cx=\"1260.94\" cy=\"1269.32\" r=\"14.4\" fill=\"#009af9\" fill-rule=\"evenodd\" fill-opacity=\"1\" stroke=\"#000000\" stroke-opacity=\"1\" stroke-width=\"3.2\"/>\n",
       "<circle clip-path=\"url(#clip732)\" cx=\"1363.94\" cy=\"1341.35\" r=\"14.4\" fill=\"#009af9\" fill-rule=\"evenodd\" fill-opacity=\"1\" stroke=\"#000000\" stroke-opacity=\"1\" stroke-width=\"3.2\"/>\n",
       "<circle clip-path=\"url(#clip732)\" cx=\"1466.94\" cy=\"1204.34\" r=\"14.4\" fill=\"#009af9\" fill-rule=\"evenodd\" fill-opacity=\"1\" stroke=\"#000000\" stroke-opacity=\"1\" stroke-width=\"3.2\"/>\n",
       "<circle clip-path=\"url(#clip732)\" cx=\"1569.94\" cy=\"1178.64\" r=\"14.4\" fill=\"#009af9\" fill-rule=\"evenodd\" fill-opacity=\"1\" stroke=\"#000000\" stroke-opacity=\"1\" stroke-width=\"3.2\"/>\n",
       "<circle clip-path=\"url(#clip732)\" cx=\"1672.95\" cy=\"893.464\" r=\"14.4\" fill=\"#009af9\" fill-rule=\"evenodd\" fill-opacity=\"1\" stroke=\"#000000\" stroke-opacity=\"1\" stroke-width=\"3.2\"/>\n",
       "<circle clip-path=\"url(#clip732)\" cx=\"1775.95\" cy=\"947.879\" r=\"14.4\" fill=\"#009af9\" fill-rule=\"evenodd\" fill-opacity=\"1\" stroke=\"#000000\" stroke-opacity=\"1\" stroke-width=\"3.2\"/>\n",
       "<circle clip-path=\"url(#clip732)\" cx=\"1878.95\" cy=\"803.438\" r=\"14.4\" fill=\"#009af9\" fill-rule=\"evenodd\" fill-opacity=\"1\" stroke=\"#000000\" stroke-opacity=\"1\" stroke-width=\"3.2\"/>\n",
       "<circle clip-path=\"url(#clip732)\" cx=\"1981.95\" cy=\"635.216\" r=\"14.4\" fill=\"#009af9\" fill-rule=\"evenodd\" fill-opacity=\"1\" stroke=\"#000000\" stroke-opacity=\"1\" stroke-width=\"3.2\"/>\n",
       "<circle clip-path=\"url(#clip732)\" cx=\"2084.95\" cy=\"326.912\" r=\"14.4\" fill=\"#009af9\" fill-rule=\"evenodd\" fill-opacity=\"1\" stroke=\"#000000\" stroke-opacity=\"1\" stroke-width=\"3.2\"/>\n",
       "<circle clip-path=\"url(#clip732)\" cx=\"2187.95\" cy=\"182.444\" r=\"14.4\" fill=\"#009af9\" fill-rule=\"evenodd\" fill-opacity=\"1\" stroke=\"#000000\" stroke-opacity=\"1\" stroke-width=\"3.2\"/>\n",
       "<circle clip-path=\"url(#clip732)\" cx=\"2290.95\" cy=\"95.7943\" r=\"14.4\" fill=\"#009af9\" fill-rule=\"evenodd\" fill-opacity=\"1\" stroke=\"#000000\" stroke-opacity=\"1\" stroke-width=\"3.2\"/>\n",
       "<polyline clip-path=\"url(#clip732)\" style=\"stroke:#e26f46; stroke-linecap:round; stroke-linejoin:round; stroke-width:4; stroke-opacity:1; fill:none\" points=\"230.922,623.77 333.924,766.648 436.926,891.666 539.927,998.825 642.929,1088.12 745.93,1159.56 848.932,1213.14 951.934,1248.86 1054.94,1266.72 1157.94,1266.72 1260.94,1248.86 1363.94,1213.14 1466.94,1159.56 1569.94,1088.12 1672.95,998.825 1775.95,891.666 1878.95,766.648 1981.95,623.77 2084.95,463.032 2187.95,284.434 2290.95,87.9763 \"/>\n",
       "<polyline clip-path=\"url(#clip732)\" style=\"stroke:#3da44d; stroke-linecap:round; stroke-linejoin:round; stroke-width:4; stroke-opacity:1; fill:none\" points=\"230.922,772.21 333.924,833.651 436.926,879.541 539.927,976.42 642.929,1101.47 745.93,1213.7 848.932,1287.6 951.934,1320.12 1054.94,1322.88 1157.94,1309.84 1260.94,1288.14 1363.94,1255.49 1466.94,1204.1 1569.94,1127.73 1672.95,1026.9 1775.95,907.511 1878.95,771.792 1981.95,607.435 2084.95,392.199 2187.95,148.105 2290.95,101.814 \"/>\n",
       "<path clip-path=\"url(#clip730)\" d=\"M241.909 302.578 L673.119 302.578 L673.119 95.2176 L241.909 95.2176  Z\" fill=\"#ffffff\" fill-rule=\"evenodd\" fill-opacity=\"1\"/>\n",
       "<polyline clip-path=\"url(#clip730)\" style=\"stroke:#000000; stroke-linecap:round; stroke-linejoin:round; stroke-width:4; stroke-opacity:1; fill:none\" points=\"241.909,302.578 673.119,302.578 673.119,95.2176 241.909,95.2176 241.909,302.578 \"/>\n",
       "<circle clip-path=\"url(#clip730)\" cx=\"338.96\" cy=\"147.058\" r=\"23.04\" fill=\"#009af9\" fill-rule=\"evenodd\" fill-opacity=\"1\" stroke=\"#000000\" stroke-opacity=\"1\" stroke-width=\"5.12\"/>\n",
       "<path clip-path=\"url(#clip730)\" d=\"M447.908 141.398 Q444.482 141.398 442.491 144.083 Q440.501 146.745 440.501 151.398 Q440.501 156.051 442.468 158.736 Q444.459 161.398 447.908 161.398 Q451.311 161.398 453.302 158.713 Q455.292 156.027 455.292 151.398 Q455.292 146.791 453.302 144.106 Q451.311 141.398 447.908 141.398 M447.908 137.787 Q453.464 137.787 456.635 141.398 Q459.806 145.009 459.806 151.398 Q459.806 157.764 456.635 161.398 Q453.464 165.009 447.908 165.009 Q442.329 165.009 439.158 161.398 Q436.01 157.764 436.01 151.398 Q436.01 145.009 439.158 141.398 Q442.329 137.787 447.908 137.787 Z\" fill=\"#000000\" fill-rule=\"evenodd\" fill-opacity=\"1\" /><path clip-path=\"url(#clip730)\" d=\"M485.477 151.398 Q485.477 146.699 483.533 144.037 Q481.612 141.352 478.232 141.352 Q474.852 141.352 472.908 144.037 Q470.987 146.699 470.987 151.398 Q470.987 156.097 472.908 158.782 Q474.852 161.444 478.232 161.444 Q481.612 161.444 483.533 158.782 Q485.477 156.097 485.477 151.398 M470.987 142.347 Q472.329 140.032 474.366 138.921 Q476.426 137.787 479.274 137.787 Q483.996 137.787 486.936 141.537 Q489.899 145.287 489.899 151.398 Q489.899 157.509 486.936 161.259 Q483.996 165.009 479.274 165.009 Q476.426 165.009 474.366 163.898 Q472.329 162.763 470.987 160.449 L470.987 164.338 L466.704 164.338 L466.704 128.319 L470.987 128.319 L470.987 142.347 Z\" fill=\"#000000\" fill-rule=\"evenodd\" fill-opacity=\"1\" /><path clip-path=\"url(#clip730)\" d=\"M513.486 139.176 L513.486 143.203 Q511.681 142.277 509.736 141.815 Q507.792 141.352 505.709 141.352 Q502.537 141.352 500.94 142.324 Q499.366 143.296 499.366 145.24 Q499.366 146.722 500.5 147.578 Q501.635 148.412 505.061 149.176 L506.519 149.5 Q511.056 150.472 512.954 152.254 Q514.875 154.014 514.875 157.185 Q514.875 160.796 512.005 162.902 Q509.158 165.009 504.158 165.009 Q502.074 165.009 499.806 164.592 Q497.561 164.199 495.061 163.388 L495.061 158.99 Q497.422 160.217 499.713 160.842 Q502.005 161.444 504.25 161.444 Q507.26 161.444 508.88 160.426 Q510.5 159.384 510.5 157.509 Q510.5 155.773 509.32 154.847 Q508.162 153.921 504.204 153.064 L502.723 152.717 Q498.764 151.884 497.005 150.171 Q495.246 148.435 495.246 145.426 Q495.246 141.768 497.838 139.778 Q500.431 137.787 505.199 137.787 Q507.561 137.787 509.644 138.134 Q511.727 138.481 513.486 139.176 Z\" fill=\"#000000\" fill-rule=\"evenodd\" fill-opacity=\"1\" /><path clip-path=\"url(#clip730)\" d=\"M543.833 150.31 L543.833 152.393 L524.25 152.393 Q524.528 156.791 526.889 159.106 Q529.273 161.398 533.509 161.398 Q535.963 161.398 538.255 160.796 Q540.57 160.194 542.838 158.99 L542.838 163.018 Q540.546 163.99 538.139 164.5 Q535.732 165.009 533.255 165.009 Q527.051 165.009 523.417 161.398 Q519.806 157.787 519.806 151.629 Q519.806 145.264 523.232 141.537 Q526.681 137.787 532.514 137.787 Q537.746 137.787 540.778 141.166 Q543.833 144.523 543.833 150.31 M539.574 149.06 Q539.528 145.565 537.607 143.481 Q535.709 141.398 532.56 141.398 Q528.996 141.398 526.843 143.412 Q524.713 145.426 524.389 149.083 L539.574 149.06 Z\" fill=\"#000000\" fill-rule=\"evenodd\" fill-opacity=\"1\" /><path clip-path=\"url(#clip730)\" d=\"M565.847 142.393 Q565.13 141.977 564.273 141.791 Q563.44 141.583 562.421 141.583 Q558.81 141.583 556.866 143.944 Q554.945 146.282 554.945 150.68 L554.945 164.338 L550.662 164.338 L550.662 138.412 L554.945 138.412 L554.945 142.44 Q556.287 140.078 558.44 138.944 Q560.593 137.787 563.671 137.787 Q564.111 137.787 564.644 137.856 Q565.176 137.903 565.824 138.018 L565.847 142.393 Z\" fill=\"#000000\" fill-rule=\"evenodd\" fill-opacity=\"1\" /><path clip-path=\"url(#clip730)\" d=\"M567.259 138.412 L571.773 138.412 L579.875 160.171 L587.977 138.412 L592.491 138.412 L582.768 164.338 L576.981 164.338 L567.259 138.412 Z\" fill=\"#000000\" fill-rule=\"evenodd\" fill-opacity=\"1\" /><path clip-path=\"url(#clip730)\" d=\"M620.546 150.31 L620.546 152.393 L600.963 152.393 Q601.241 156.791 603.602 159.106 Q605.986 161.398 610.222 161.398 Q612.676 161.398 614.967 160.796 Q617.282 160.194 619.551 158.99 L619.551 163.018 Q617.259 163.99 614.852 164.5 Q612.444 165.009 609.967 165.009 Q603.764 165.009 600.129 161.398 Q596.518 157.787 596.518 151.629 Q596.518 145.264 599.944 141.537 Q603.393 137.787 609.227 137.787 Q614.458 137.787 617.49 141.166 Q620.546 144.523 620.546 150.31 M616.287 149.06 Q616.241 145.565 614.319 143.481 Q612.421 141.398 609.273 141.398 Q605.708 141.398 603.555 143.412 Q601.426 145.426 601.102 149.083 L616.287 149.06 Z\" fill=\"#000000\" fill-rule=\"evenodd\" fill-opacity=\"1\" /><path clip-path=\"url(#clip730)\" d=\"M644.597 142.347 L644.597 128.319 L648.856 128.319 L648.856 164.338 L644.597 164.338 L644.597 160.449 Q643.254 162.763 641.194 163.898 Q639.157 165.009 636.287 165.009 Q631.588 165.009 628.625 161.259 Q625.685 157.509 625.685 151.398 Q625.685 145.287 628.625 141.537 Q631.588 137.787 636.287 137.787 Q639.157 137.787 641.194 138.921 Q643.254 140.032 644.597 142.347 M630.083 151.398 Q630.083 156.097 632.004 158.782 Q633.949 161.444 637.328 161.444 Q640.708 161.444 642.652 158.782 Q644.597 156.097 644.597 151.398 Q644.597 146.699 642.652 144.037 Q640.708 141.352 637.328 141.352 Q633.949 141.352 632.004 144.037 Q630.083 146.699 630.083 151.398 Z\" fill=\"#000000\" fill-rule=\"evenodd\" fill-opacity=\"1\" /><polyline clip-path=\"url(#clip730)\" style=\"stroke:#e26f46; stroke-linecap:round; stroke-linejoin:round; stroke-width:4; stroke-opacity:1; fill:none\" points=\"266.172,198.898 411.747,198.898 \"/>\n",
       "<path clip-path=\"url(#clip730)\" d=\"M443.417 182.891 L443.417 190.252 L452.19 190.252 L452.19 193.562 L443.417 193.562 L443.417 207.636 Q443.417 210.807 444.274 211.71 Q445.153 212.613 447.815 212.613 L452.19 212.613 L452.19 216.178 L447.815 216.178 Q442.885 216.178 441.01 214.349 Q439.135 212.497 439.135 207.636 L439.135 193.562 L436.01 193.562 L436.01 190.252 L439.135 190.252 L439.135 182.891 L443.417 182.891 Z\" fill=\"#000000\" fill-rule=\"evenodd\" fill-opacity=\"1\" /><path clip-path=\"url(#clip730)\" d=\"M472.815 194.233 Q472.098 193.817 471.241 193.631 Q470.408 193.423 469.389 193.423 Q465.778 193.423 463.834 195.784 Q461.913 198.122 461.913 202.52 L461.913 216.178 L457.63 216.178 L457.63 190.252 L461.913 190.252 L461.913 194.28 Q463.255 191.918 465.408 190.784 Q467.561 189.627 470.639 189.627 Q471.079 189.627 471.612 189.696 Q472.144 189.743 472.792 189.858 L472.815 194.233 Z\" fill=\"#000000\" fill-rule=\"evenodd\" fill-opacity=\"1\" /><path clip-path=\"url(#clip730)\" d=\"M476.843 205.946 L476.843 190.252 L481.102 190.252 L481.102 205.784 Q481.102 209.465 482.538 211.316 Q483.973 213.145 486.843 213.145 Q490.292 213.145 492.283 210.946 Q494.297 208.747 494.297 204.951 L494.297 190.252 L498.556 190.252 L498.556 216.178 L494.297 216.178 L494.297 212.196 Q492.746 214.557 490.686 215.715 Q488.649 216.849 485.94 216.849 Q481.473 216.849 479.158 214.071 Q476.843 211.293 476.843 205.946 M487.561 189.627 L487.561 189.627 Z\" fill=\"#000000\" fill-rule=\"evenodd\" fill-opacity=\"1\" /><path clip-path=\"url(#clip730)\" d=\"M529.505 202.15 L529.505 204.233 L509.922 204.233 Q510.199 208.631 512.561 210.946 Q514.945 213.238 519.181 213.238 Q521.635 213.238 523.926 212.636 Q526.241 212.034 528.509 210.83 L528.509 214.858 Q526.218 215.83 523.81 216.34 Q521.403 216.849 518.926 216.849 Q512.723 216.849 509.088 213.238 Q505.477 209.627 505.477 203.469 Q505.477 197.104 508.903 193.377 Q512.352 189.627 518.185 189.627 Q523.417 189.627 526.449 193.006 Q529.505 196.363 529.505 202.15 M525.246 200.9 Q525.199 197.405 523.278 195.321 Q521.38 193.238 518.232 193.238 Q514.667 193.238 512.514 195.252 Q510.385 197.266 510.061 200.923 L525.246 200.9 Z\" fill=\"#000000\" fill-rule=\"evenodd\" fill-opacity=\"1\" /><polyline clip-path=\"url(#clip730)\" style=\"stroke:#3da44d; stroke-linecap:round; stroke-linejoin:round; stroke-width:4; stroke-opacity:1; fill:none\" points=\"266.172,250.738 411.747,250.738 \"/>\n",
       "<path clip-path=\"url(#clip730)\" d=\"M440.292 264.129 L440.292 277.879 L436.01 277.879 L436.01 242.092 L440.292 242.092 L440.292 246.027 Q441.635 243.712 443.672 242.601 Q445.732 241.467 448.579 241.467 Q453.302 241.467 456.241 245.217 Q459.204 248.967 459.204 255.078 Q459.204 261.189 456.241 264.939 Q453.302 268.689 448.579 268.689 Q445.732 268.689 443.672 267.578 Q441.635 266.443 440.292 264.129 M454.783 255.078 Q454.783 250.379 452.839 247.717 Q450.917 245.032 447.538 245.032 Q444.158 245.032 442.214 247.717 Q440.292 250.379 440.292 255.078 Q440.292 259.777 442.214 262.462 Q444.158 265.124 447.538 265.124 Q450.917 265.124 452.839 262.462 Q454.783 259.777 454.783 255.078 Z\" fill=\"#000000\" fill-rule=\"evenodd\" fill-opacity=\"1\" /><path clip-path=\"url(#clip730)\" d=\"M476.311 245.078 Q472.885 245.078 470.894 247.763 Q468.903 250.425 468.903 255.078 Q468.903 259.731 470.871 262.416 Q472.862 265.078 476.311 265.078 Q479.713 265.078 481.704 262.393 Q483.695 259.707 483.695 255.078 Q483.695 250.471 481.704 247.786 Q479.713 245.078 476.311 245.078 M476.311 241.467 Q481.866 241.467 485.038 245.078 Q488.209 248.689 488.209 255.078 Q488.209 261.444 485.038 265.078 Q481.866 268.689 476.311 268.689 Q470.732 268.689 467.561 265.078 Q464.413 261.444 464.413 255.078 Q464.413 248.689 467.561 245.078 Q470.732 241.467 476.311 241.467 Z\" fill=\"#000000\" fill-rule=\"evenodd\" fill-opacity=\"1\" /><path clip-path=\"url(#clip730)\" d=\"M495.269 231.999 L499.528 231.999 L499.528 268.018 L495.269 268.018 L495.269 231.999 Z\" fill=\"#000000\" fill-rule=\"evenodd\" fill-opacity=\"1\" /><path clip-path=\"url(#clip730)\" d=\"M519.227 270.425 Q517.422 275.055 515.709 276.467 Q513.996 277.879 511.125 277.879 L507.723 277.879 L507.723 274.314 L510.223 274.314 Q511.982 274.314 512.954 273.48 Q513.926 272.647 515.107 269.545 L515.871 267.601 L505.385 242.092 L509.898 242.092 L518 262.369 L526.102 242.092 L530.616 242.092 L519.227 270.425 Z\" fill=\"#000000\" fill-rule=\"evenodd\" fill-opacity=\"1\" /><path clip-path=\"url(#clip730)\" d=\"M549.62 231.999 L549.62 235.541 L545.546 235.541 Q543.255 235.541 542.352 236.467 Q541.472 237.393 541.472 239.8 L541.472 242.092 L548.486 242.092 L548.486 245.402 L541.472 245.402 L541.472 268.018 L537.19 268.018 L537.19 245.402 L533.116 245.402 L533.116 242.092 L537.19 242.092 L537.19 240.286 Q537.19 235.958 539.204 233.99 Q541.218 231.999 545.593 231.999 L549.62 231.999 Z\" fill=\"#000000\" fill-rule=\"evenodd\" fill-opacity=\"1\" /><path clip-path=\"url(#clip730)\" d=\"M553.185 242.092 L557.445 242.092 L557.445 268.018 L553.185 268.018 L553.185 242.092 M553.185 231.999 L557.445 231.999 L557.445 237.393 L553.185 237.393 L553.185 231.999 Z\" fill=\"#000000\" fill-rule=\"evenodd\" fill-opacity=\"1\" /><path clip-path=\"url(#clip730)\" d=\"M570.569 234.731 L570.569 242.092 L579.343 242.092 L579.343 245.402 L570.569 245.402 L570.569 259.476 Q570.569 262.647 571.426 263.55 Q572.306 264.453 574.968 264.453 L579.343 264.453 L579.343 268.018 L574.968 268.018 Q570.037 268.018 568.162 266.189 Q566.287 264.337 566.287 259.476 L566.287 245.402 L563.162 245.402 L563.162 242.092 L566.287 242.092 L566.287 234.731 L570.569 234.731 Z\" fill=\"#000000\" fill-rule=\"evenodd\" fill-opacity=\"1\" /></svg>\n"
      ]
     },
     "execution_count": 17,
     "metadata": {},
     "output_type": "execute_result"
    }
   ],
   "source": [
    "scatter(x,y_observed, label = \"observed\")\n",
    "plot!(x,y_true, label = \"true\")\n",
    "poly_fit = fit(x,y_observed,10) \n",
    "y_poly_fit = poly_fit.(x)\n",
    "plot!(x,y_poly_fit, label = \"polyfit\")"
   ]
  },
  {
   "cell_type": "code",
   "execution_count": 18,
   "id": "ffacd8b6",
   "metadata": {},
   "outputs": [
    {
     "data": {
      "image/svg+xml": [
       "<?xml version=\"1.0\" encoding=\"utf-8\"?>\n",
       "<svg xmlns=\"http://www.w3.org/2000/svg\" xmlns:xlink=\"http://www.w3.org/1999/xlink\" width=\"600\" height=\"400\" viewBox=\"0 0 2400 1600\">\n",
       "<defs>\n",
       "  <clipPath id=\"clip770\">\n",
       "    <rect x=\"0\" y=\"0\" width=\"2400\" height=\"1600\"/>\n",
       "  </clipPath>\n",
       "</defs>\n",
       "<path clip-path=\"url(#clip770)\" d=\"M0 1600 L2400 1600 L2400 0 L0 0  Z\" fill=\"#ffffff\" fill-rule=\"evenodd\" fill-opacity=\"1\"/>\n",
       "<defs>\n",
       "  <clipPath id=\"clip771\">\n",
       "    <rect x=\"480\" y=\"0\" width=\"1681\" height=\"1600\"/>\n",
       "  </clipPath>\n",
       "</defs>\n",
       "<path clip-path=\"url(#clip770)\" d=\"M209.029 1486.45 L2352.76 1486.45 L2352.76 47.2441 L209.029 47.2441  Z\" fill=\"#ffffff\" fill-rule=\"evenodd\" fill-opacity=\"1\"/>\n",
       "<defs>\n",
       "  <clipPath id=\"clip772\">\n",
       "    <rect x=\"209\" y=\"47\" width=\"2145\" height=\"1440\"/>\n",
       "  </clipPath>\n",
       "</defs>\n",
       "<polyline clip-path=\"url(#clip772)\" style=\"stroke:#000000; stroke-linecap:round; stroke-linejoin:round; stroke-width:2; stroke-opacity:0.1; fill:none\" points=\"269.7,1486.45 269.7,47.2441 \"/>\n",
       "<polyline clip-path=\"url(#clip772)\" style=\"stroke:#000000; stroke-linecap:round; stroke-linejoin:round; stroke-width:2; stroke-opacity:0.1; fill:none\" points=\"775.296,1486.45 775.296,47.2441 \"/>\n",
       "<polyline clip-path=\"url(#clip772)\" style=\"stroke:#000000; stroke-linecap:round; stroke-linejoin:round; stroke-width:2; stroke-opacity:0.1; fill:none\" points=\"1280.89,1486.45 1280.89,47.2441 \"/>\n",
       "<polyline clip-path=\"url(#clip772)\" style=\"stroke:#000000; stroke-linecap:round; stroke-linejoin:round; stroke-width:2; stroke-opacity:0.1; fill:none\" points=\"1786.49,1486.45 1786.49,47.2441 \"/>\n",
       "<polyline clip-path=\"url(#clip772)\" style=\"stroke:#000000; stroke-linecap:round; stroke-linejoin:round; stroke-width:2; stroke-opacity:0.1; fill:none\" points=\"2292.08,1486.45 2292.08,47.2441 \"/>\n",
       "<polyline clip-path=\"url(#clip770)\" style=\"stroke:#000000; stroke-linecap:round; stroke-linejoin:round; stroke-width:4; stroke-opacity:1; fill:none\" points=\"209.029,1486.45 2352.76,1486.45 \"/>\n",
       "<polyline clip-path=\"url(#clip770)\" style=\"stroke:#000000; stroke-linecap:round; stroke-linejoin:round; stroke-width:4; stroke-opacity:1; fill:none\" points=\"269.7,1486.45 269.7,1467.55 \"/>\n",
       "<polyline clip-path=\"url(#clip770)\" style=\"stroke:#000000; stroke-linecap:round; stroke-linejoin:round; stroke-width:4; stroke-opacity:1; fill:none\" points=\"775.296,1486.45 775.296,1467.55 \"/>\n",
       "<polyline clip-path=\"url(#clip770)\" style=\"stroke:#000000; stroke-linecap:round; stroke-linejoin:round; stroke-width:4; stroke-opacity:1; fill:none\" points=\"1280.89,1486.45 1280.89,1467.55 \"/>\n",
       "<polyline clip-path=\"url(#clip770)\" style=\"stroke:#000000; stroke-linecap:round; stroke-linejoin:round; stroke-width:4; stroke-opacity:1; fill:none\" points=\"1786.49,1486.45 1786.49,1467.55 \"/>\n",
       "<polyline clip-path=\"url(#clip770)\" style=\"stroke:#000000; stroke-linecap:round; stroke-linejoin:round; stroke-width:4; stroke-opacity:1; fill:none\" points=\"2292.08,1486.45 2292.08,1467.55 \"/>\n",
       "<path clip-path=\"url(#clip770)\" d=\"M223.763 1532.02 L253.439 1532.02 L253.439 1535.95 L223.763 1535.95 L223.763 1532.02 Z\" fill=\"#000000\" fill-rule=\"evenodd\" fill-opacity=\"1\" /><path clip-path=\"url(#clip770)\" d=\"M264.341 1544.91 L271.98 1544.91 L271.98 1518.55 L263.67 1520.21 L263.67 1515.95 L271.934 1514.29 L276.61 1514.29 L276.61 1544.91 L284.249 1544.91 L284.249 1548.85 L264.341 1548.85 L264.341 1544.91 Z\" fill=\"#000000\" fill-rule=\"evenodd\" fill-opacity=\"1\" /><path clip-path=\"url(#clip770)\" d=\"M303.693 1517.37 Q300.082 1517.37 298.253 1520.93 Q296.448 1524.47 296.448 1531.6 Q296.448 1538.71 298.253 1542.27 Q300.082 1545.82 303.693 1545.82 Q307.327 1545.82 309.133 1542.27 Q310.961 1538.71 310.961 1531.6 Q310.961 1524.47 309.133 1520.93 Q307.327 1517.37 303.693 1517.37 M303.693 1513.66 Q309.503 1513.66 312.559 1518.27 Q315.637 1522.85 315.637 1531.6 Q315.637 1540.33 312.559 1544.94 Q309.503 1549.52 303.693 1549.52 Q297.883 1549.52 294.804 1544.94 Q291.749 1540.33 291.749 1531.6 Q291.749 1522.85 294.804 1518.27 Q297.883 1513.66 303.693 1513.66 Z\" fill=\"#000000\" fill-rule=\"evenodd\" fill-opacity=\"1\" /><path clip-path=\"url(#clip770)\" d=\"M744.937 1532.02 L774.613 1532.02 L774.613 1535.95 L744.937 1535.95 L744.937 1532.02 Z\" fill=\"#000000\" fill-rule=\"evenodd\" fill-opacity=\"1\" /><path clip-path=\"url(#clip770)\" d=\"M784.752 1514.29 L803.108 1514.29 L803.108 1518.22 L789.034 1518.22 L789.034 1526.7 Q790.053 1526.35 791.072 1526.19 Q792.09 1526 793.109 1526 Q798.896 1526 802.275 1529.17 Q805.655 1532.34 805.655 1537.76 Q805.655 1543.34 802.183 1546.44 Q798.71 1549.52 792.391 1549.52 Q790.215 1549.52 787.947 1549.15 Q785.701 1548.78 783.294 1548.04 L783.294 1543.34 Q785.377 1544.47 787.599 1545.03 Q789.822 1545.58 792.298 1545.58 Q796.303 1545.58 798.641 1543.48 Q800.979 1541.37 800.979 1537.76 Q800.979 1534.15 798.641 1532.04 Q796.303 1529.94 792.298 1529.94 Q790.423 1529.94 788.548 1530.35 Q786.697 1530.77 784.752 1531.65 L784.752 1514.29 Z\" fill=\"#000000\" fill-rule=\"evenodd\" fill-opacity=\"1\" /><path clip-path=\"url(#clip770)\" d=\"M1280.89 1517.37 Q1277.28 1517.37 1275.45 1520.93 Q1273.65 1524.47 1273.65 1531.6 Q1273.65 1538.71 1275.45 1542.27 Q1277.28 1545.82 1280.89 1545.82 Q1284.53 1545.82 1286.33 1542.27 Q1288.16 1538.71 1288.16 1531.6 Q1288.16 1524.47 1286.33 1520.93 Q1284.53 1517.37 1280.89 1517.37 M1280.89 1513.66 Q1286.7 1513.66 1289.76 1518.27 Q1292.84 1522.85 1292.84 1531.6 Q1292.84 1540.33 1289.76 1544.94 Q1286.7 1549.52 1280.89 1549.52 Q1275.08 1549.52 1272 1544.94 Q1268.95 1540.33 1268.95 1531.6 Q1268.95 1522.85 1272 1518.27 Q1275.08 1513.66 1280.89 1513.66 Z\" fill=\"#000000\" fill-rule=\"evenodd\" fill-opacity=\"1\" /><path clip-path=\"url(#clip770)\" d=\"M1776.77 1514.29 L1795.12 1514.29 L1795.12 1518.22 L1781.05 1518.22 L1781.05 1526.7 Q1782.07 1526.35 1783.09 1526.19 Q1784.1 1526 1785.12 1526 Q1790.91 1526 1794.29 1529.17 Q1797.67 1532.34 1797.67 1537.76 Q1797.67 1543.34 1794.2 1546.44 Q1790.72 1549.52 1784.4 1549.52 Q1782.23 1549.52 1779.96 1549.15 Q1777.72 1548.78 1775.31 1548.04 L1775.31 1543.34 Q1777.39 1544.47 1779.61 1545.03 Q1781.84 1545.58 1784.31 1545.58 Q1788.32 1545.58 1790.65 1543.48 Q1792.99 1541.37 1792.99 1537.76 Q1792.99 1534.15 1790.65 1532.04 Q1788.32 1529.94 1784.31 1529.94 Q1782.44 1529.94 1780.56 1530.35 Q1778.71 1530.77 1776.77 1531.65 L1776.77 1514.29 Z\" fill=\"#000000\" fill-rule=\"evenodd\" fill-opacity=\"1\" /><path clip-path=\"url(#clip770)\" d=\"M2266.77 1544.91 L2274.41 1544.91 L2274.41 1518.55 L2266.1 1520.21 L2266.1 1515.95 L2274.36 1514.29 L2279.04 1514.29 L2279.04 1544.91 L2286.68 1544.91 L2286.68 1548.85 L2266.77 1548.85 L2266.77 1544.91 Z\" fill=\"#000000\" fill-rule=\"evenodd\" fill-opacity=\"1\" /><path clip-path=\"url(#clip770)\" d=\"M2306.12 1517.37 Q2302.51 1517.37 2300.68 1520.93 Q2298.88 1524.47 2298.88 1531.6 Q2298.88 1538.71 2300.68 1542.27 Q2302.51 1545.82 2306.12 1545.82 Q2309.76 1545.82 2311.56 1542.27 Q2313.39 1538.71 2313.39 1531.6 Q2313.39 1524.47 2311.56 1520.93 Q2309.76 1517.37 2306.12 1517.37 M2306.12 1513.66 Q2311.93 1513.66 2314.99 1518.27 Q2318.07 1522.85 2318.07 1531.6 Q2318.07 1540.33 2314.99 1544.94 Q2311.93 1549.52 2306.12 1549.52 Q2300.31 1549.52 2297.23 1544.94 Q2294.18 1540.33 2294.18 1531.6 Q2294.18 1522.85 2297.23 1518.27 Q2300.31 1513.66 2306.12 1513.66 Z\" fill=\"#000000\" fill-rule=\"evenodd\" fill-opacity=\"1\" /><polyline clip-path=\"url(#clip772)\" style=\"stroke:#000000; stroke-linecap:round; stroke-linejoin:round; stroke-width:2; stroke-opacity:0.1; fill:none\" points=\"209.029,1421.05 2352.76,1421.05 \"/>\n",
       "<polyline clip-path=\"url(#clip772)\" style=\"stroke:#000000; stroke-linecap:round; stroke-linejoin:round; stroke-width:2; stroke-opacity:0.1; fill:none\" points=\"209.029,1181.11 2352.76,1181.11 \"/>\n",
       "<polyline clip-path=\"url(#clip772)\" style=\"stroke:#000000; stroke-linecap:round; stroke-linejoin:round; stroke-width:2; stroke-opacity:0.1; fill:none\" points=\"209.029,941.174 2352.76,941.174 \"/>\n",
       "<polyline clip-path=\"url(#clip772)\" style=\"stroke:#000000; stroke-linecap:round; stroke-linejoin:round; stroke-width:2; stroke-opacity:0.1; fill:none\" points=\"209.029,701.233 2352.76,701.233 \"/>\n",
       "<polyline clip-path=\"url(#clip772)\" style=\"stroke:#000000; stroke-linecap:round; stroke-linejoin:round; stroke-width:2; stroke-opacity:0.1; fill:none\" points=\"209.029,461.293 2352.76,461.293 \"/>\n",
       "<polyline clip-path=\"url(#clip772)\" style=\"stroke:#000000; stroke-linecap:round; stroke-linejoin:round; stroke-width:2; stroke-opacity:0.1; fill:none\" points=\"209.029,221.353 2352.76,221.353 \"/>\n",
       "<polyline clip-path=\"url(#clip770)\" style=\"stroke:#000000; stroke-linecap:round; stroke-linejoin:round; stroke-width:4; stroke-opacity:1; fill:none\" points=\"209.029,1486.45 209.029,47.2441 \"/>\n",
       "<polyline clip-path=\"url(#clip770)\" style=\"stroke:#000000; stroke-linecap:round; stroke-linejoin:round; stroke-width:4; stroke-opacity:1; fill:none\" points=\"209.029,1421.05 227.926,1421.05 \"/>\n",
       "<polyline clip-path=\"url(#clip770)\" style=\"stroke:#000000; stroke-linecap:round; stroke-linejoin:round; stroke-width:4; stroke-opacity:1; fill:none\" points=\"209.029,1181.11 227.926,1181.11 \"/>\n",
       "<polyline clip-path=\"url(#clip770)\" style=\"stroke:#000000; stroke-linecap:round; stroke-linejoin:round; stroke-width:4; stroke-opacity:1; fill:none\" points=\"209.029,941.174 227.926,941.174 \"/>\n",
       "<polyline clip-path=\"url(#clip770)\" style=\"stroke:#000000; stroke-linecap:round; stroke-linejoin:round; stroke-width:4; stroke-opacity:1; fill:none\" points=\"209.029,701.233 227.926,701.233 \"/>\n",
       "<polyline clip-path=\"url(#clip770)\" style=\"stroke:#000000; stroke-linecap:round; stroke-linejoin:round; stroke-width:4; stroke-opacity:1; fill:none\" points=\"209.029,461.293 227.926,461.293 \"/>\n",
       "<polyline clip-path=\"url(#clip770)\" style=\"stroke:#000000; stroke-linecap:round; stroke-linejoin:round; stroke-width:4; stroke-opacity:1; fill:none\" points=\"209.029,221.353 227.926,221.353 \"/>\n",
       "<path clip-path=\"url(#clip770)\" d=\"M50.9921 1421.51 L80.6679 1421.51 L80.6679 1425.44 L50.9921 1425.44 L50.9921 1421.51 Z\" fill=\"#000000\" fill-rule=\"evenodd\" fill-opacity=\"1\" /><path clip-path=\"url(#clip770)\" d=\"M91.5706 1434.4 L99.2095 1434.4 L99.2095 1408.03 L90.8993 1409.7 L90.8993 1405.44 L99.1632 1403.77 L103.839 1403.77 L103.839 1434.4 L111.478 1434.4 L111.478 1438.33 L91.5706 1438.33 L91.5706 1434.4 Z\" fill=\"#000000\" fill-rule=\"evenodd\" fill-opacity=\"1\" /><path clip-path=\"url(#clip770)\" d=\"M130.922 1406.85 Q127.311 1406.85 125.482 1410.42 Q123.677 1413.96 123.677 1421.09 Q123.677 1428.2 125.482 1431.76 Q127.311 1435.3 130.922 1435.3 Q134.556 1435.3 136.362 1431.76 Q138.191 1428.2 138.191 1421.09 Q138.191 1413.96 136.362 1410.42 Q134.556 1406.85 130.922 1406.85 M130.922 1403.15 Q136.732 1403.15 139.788 1407.76 Q142.867 1412.34 142.867 1421.09 Q142.867 1429.82 139.788 1434.42 Q136.732 1439.01 130.922 1439.01 Q125.112 1439.01 122.033 1434.42 Q118.978 1429.82 118.978 1421.09 Q118.978 1412.34 122.033 1407.76 Q125.112 1403.15 130.922 1403.15 Z\" fill=\"#000000\" fill-rule=\"evenodd\" fill-opacity=\"1\" /><path clip-path=\"url(#clip770)\" d=\"M161.084 1406.85 Q157.473 1406.85 155.644 1410.42 Q153.839 1413.96 153.839 1421.09 Q153.839 1428.2 155.644 1431.76 Q157.473 1435.3 161.084 1435.3 Q164.718 1435.3 166.524 1431.76 Q168.353 1428.2 168.353 1421.09 Q168.353 1413.96 166.524 1410.42 Q164.718 1406.85 161.084 1406.85 M161.084 1403.15 Q166.894 1403.15 169.95 1407.76 Q173.029 1412.34 173.029 1421.09 Q173.029 1429.82 169.95 1434.42 Q166.894 1439.01 161.084 1439.01 Q155.274 1439.01 152.195 1434.42 Q149.14 1429.82 149.14 1421.09 Q149.14 1412.34 152.195 1407.76 Q155.274 1403.15 161.084 1403.15 Z\" fill=\"#000000\" fill-rule=\"evenodd\" fill-opacity=\"1\" /><path clip-path=\"url(#clip770)\" d=\"M81.154 1181.57 L110.83 1181.57 L110.83 1185.5 L81.154 1185.5 L81.154 1181.57 Z\" fill=\"#000000\" fill-rule=\"evenodd\" fill-opacity=\"1\" /><path clip-path=\"url(#clip770)\" d=\"M120.969 1163.83 L139.325 1163.83 L139.325 1167.77 L125.251 1167.77 L125.251 1176.24 Q126.27 1175.89 127.288 1175.73 Q128.307 1175.55 129.325 1175.55 Q135.112 1175.55 138.492 1178.72 Q141.871 1181.89 141.871 1187.31 Q141.871 1192.88 138.399 1195.99 Q134.927 1199.07 128.607 1199.07 Q126.432 1199.07 124.163 1198.69 Q121.918 1198.32 119.51 1197.58 L119.51 1192.88 Q121.594 1194.02 123.816 1194.57 Q126.038 1195.13 128.515 1195.13 Q132.519 1195.13 134.857 1193.02 Q137.195 1190.92 137.195 1187.31 Q137.195 1183.69 134.857 1181.59 Q132.519 1179.48 128.515 1179.48 Q126.64 1179.48 124.765 1179.9 Q122.913 1180.32 120.969 1181.19 L120.969 1163.83 Z\" fill=\"#000000\" fill-rule=\"evenodd\" fill-opacity=\"1\" /><path clip-path=\"url(#clip770)\" d=\"M161.084 1166.91 Q157.473 1166.91 155.644 1170.48 Q153.839 1174.02 153.839 1181.15 Q153.839 1188.26 155.644 1191.82 Q157.473 1195.36 161.084 1195.36 Q164.718 1195.36 166.524 1191.82 Q168.353 1188.26 168.353 1181.15 Q168.353 1174.02 166.524 1170.48 Q164.718 1166.91 161.084 1166.91 M161.084 1163.21 Q166.894 1163.21 169.95 1167.82 Q173.029 1172.4 173.029 1181.15 Q173.029 1189.88 169.95 1194.48 Q166.894 1199.07 161.084 1199.07 Q155.274 1199.07 152.195 1194.48 Q149.14 1189.88 149.14 1181.15 Q149.14 1172.4 152.195 1167.82 Q155.274 1163.21 161.084 1163.21 Z\" fill=\"#000000\" fill-rule=\"evenodd\" fill-opacity=\"1\" /><path clip-path=\"url(#clip770)\" d=\"M161.084 926.972 Q157.473 926.972 155.644 930.537 Q153.839 934.079 153.839 941.208 Q153.839 948.315 155.644 951.88 Q157.473 955.421 161.084 955.421 Q164.718 955.421 166.524 951.88 Q168.353 948.315 168.353 941.208 Q168.353 934.079 166.524 930.537 Q164.718 926.972 161.084 926.972 M161.084 923.269 Q166.894 923.269 169.95 927.875 Q173.029 932.458 173.029 941.208 Q173.029 949.935 169.95 954.542 Q166.894 959.125 161.084 959.125 Q155.274 959.125 152.195 954.542 Q149.14 949.935 149.14 941.208 Q149.14 932.458 152.195 927.875 Q155.274 923.269 161.084 923.269 Z\" fill=\"#000000\" fill-rule=\"evenodd\" fill-opacity=\"1\" /><path clip-path=\"url(#clip770)\" d=\"M120.969 683.953 L139.325 683.953 L139.325 687.888 L125.251 687.888 L125.251 696.361 Q126.27 696.013 127.288 695.851 Q128.307 695.666 129.325 695.666 Q135.112 695.666 138.492 698.837 Q141.871 702.009 141.871 707.425 Q141.871 713.004 138.399 716.106 Q134.927 719.185 128.607 719.185 Q126.432 719.185 124.163 718.814 Q121.918 718.444 119.51 717.703 L119.51 713.004 Q121.594 714.138 123.816 714.694 Q126.038 715.249 128.515 715.249 Q132.519 715.249 134.857 713.143 Q137.195 711.036 137.195 707.425 Q137.195 703.814 134.857 701.708 Q132.519 699.601 128.515 699.601 Q126.64 699.601 124.765 700.018 Q122.913 700.435 120.969 701.314 L120.969 683.953 Z\" fill=\"#000000\" fill-rule=\"evenodd\" fill-opacity=\"1\" /><path clip-path=\"url(#clip770)\" d=\"M161.084 687.032 Q157.473 687.032 155.644 690.597 Q153.839 694.138 153.839 701.268 Q153.839 708.374 155.644 711.939 Q157.473 715.481 161.084 715.481 Q164.718 715.481 166.524 711.939 Q168.353 708.374 168.353 701.268 Q168.353 694.138 166.524 690.597 Q164.718 687.032 161.084 687.032 M161.084 683.328 Q166.894 683.328 169.95 687.935 Q173.029 692.518 173.029 701.268 Q173.029 709.995 169.95 714.601 Q166.894 719.185 161.084 719.185 Q155.274 719.185 152.195 714.601 Q149.14 709.995 149.14 701.268 Q149.14 692.518 152.195 687.935 Q155.274 683.328 161.084 683.328 Z\" fill=\"#000000\" fill-rule=\"evenodd\" fill-opacity=\"1\" /><path clip-path=\"url(#clip770)\" d=\"M91.5706 474.638 L99.2095 474.638 L99.2095 448.272 L90.8993 449.939 L90.8993 445.68 L99.1632 444.013 L103.839 444.013 L103.839 474.638 L111.478 474.638 L111.478 478.573 L91.5706 478.573 L91.5706 474.638 Z\" fill=\"#000000\" fill-rule=\"evenodd\" fill-opacity=\"1\" /><path clip-path=\"url(#clip770)\" d=\"M130.922 447.092 Q127.311 447.092 125.482 450.656 Q123.677 454.198 123.677 461.328 Q123.677 468.434 125.482 471.999 Q127.311 475.54 130.922 475.54 Q134.556 475.54 136.362 471.999 Q138.191 468.434 138.191 461.328 Q138.191 454.198 136.362 450.656 Q134.556 447.092 130.922 447.092 M130.922 443.388 Q136.732 443.388 139.788 447.994 Q142.867 452.578 142.867 461.328 Q142.867 470.054 139.788 474.661 Q136.732 479.244 130.922 479.244 Q125.112 479.244 122.033 474.661 Q118.978 470.054 118.978 461.328 Q118.978 452.578 122.033 447.994 Q125.112 443.388 130.922 443.388 Z\" fill=\"#000000\" fill-rule=\"evenodd\" fill-opacity=\"1\" /><path clip-path=\"url(#clip770)\" d=\"M161.084 447.092 Q157.473 447.092 155.644 450.656 Q153.839 454.198 153.839 461.328 Q153.839 468.434 155.644 471.999 Q157.473 475.54 161.084 475.54 Q164.718 475.54 166.524 471.999 Q168.353 468.434 168.353 461.328 Q168.353 454.198 166.524 450.656 Q164.718 447.092 161.084 447.092 M161.084 443.388 Q166.894 443.388 169.95 447.994 Q173.029 452.578 173.029 461.328 Q173.029 470.054 169.95 474.661 Q166.894 479.244 161.084 479.244 Q155.274 479.244 152.195 474.661 Q149.14 470.054 149.14 461.328 Q149.14 452.578 152.195 447.994 Q155.274 443.388 161.084 443.388 Z\" fill=\"#000000\" fill-rule=\"evenodd\" fill-opacity=\"1\" /><path clip-path=\"url(#clip770)\" d=\"M91.5706 234.697 L99.2095 234.697 L99.2095 208.332 L90.8993 209.998 L90.8993 205.739 L99.1632 204.073 L103.839 204.073 L103.839 234.697 L111.478 234.697 L111.478 238.633 L91.5706 238.633 L91.5706 234.697 Z\" fill=\"#000000\" fill-rule=\"evenodd\" fill-opacity=\"1\" /><path clip-path=\"url(#clip770)\" d=\"M120.969 204.073 L139.325 204.073 L139.325 208.008 L125.251 208.008 L125.251 216.48 Q126.27 216.133 127.288 215.971 Q128.307 215.785 129.325 215.785 Q135.112 215.785 138.492 218.957 Q141.871 222.128 141.871 227.545 Q141.871 233.123 138.399 236.225 Q134.927 239.304 128.607 239.304 Q126.432 239.304 124.163 238.933 Q121.918 238.563 119.51 237.822 L119.51 233.123 Q121.594 234.258 123.816 234.813 Q126.038 235.369 128.515 235.369 Q132.519 235.369 134.857 233.262 Q137.195 231.156 137.195 227.545 Q137.195 223.934 134.857 221.827 Q132.519 219.721 128.515 219.721 Q126.64 219.721 124.765 220.137 Q122.913 220.554 120.969 221.434 L120.969 204.073 Z\" fill=\"#000000\" fill-rule=\"evenodd\" fill-opacity=\"1\" /><path clip-path=\"url(#clip770)\" d=\"M161.084 207.151 Q157.473 207.151 155.644 210.716 Q153.839 214.258 153.839 221.387 Q153.839 228.494 155.644 232.058 Q157.473 235.6 161.084 235.6 Q164.718 235.6 166.524 232.058 Q168.353 228.494 168.353 221.387 Q168.353 214.258 166.524 210.716 Q164.718 207.151 161.084 207.151 M161.084 203.448 Q166.894 203.448 169.95 208.054 Q173.029 212.637 173.029 221.387 Q173.029 230.114 169.95 234.72 Q166.894 239.304 161.084 239.304 Q155.274 239.304 152.195 234.72 Q149.14 230.114 149.14 221.387 Q149.14 212.637 152.195 208.054 Q155.274 203.448 161.084 203.448 Z\" fill=\"#000000\" fill-rule=\"evenodd\" fill-opacity=\"1\" /><circle clip-path=\"url(#clip772)\" cx=\"269.7\" cy=\"547.607\" r=\"14.4\" fill=\"#009af9\" fill-rule=\"evenodd\" fill-opacity=\"1\" stroke=\"#000000\" stroke-opacity=\"1\" stroke-width=\"3.2\"/>\n",
       "<circle clip-path=\"url(#clip772)\" cx=\"370.819\" cy=\"184.879\" r=\"14.4\" fill=\"#009af9\" fill-rule=\"evenodd\" fill-opacity=\"1\" stroke=\"#000000\" stroke-opacity=\"1\" stroke-width=\"3.2\"/>\n",
       "<circle clip-path=\"url(#clip772)\" cx=\"471.938\" cy=\"1095.69\" r=\"14.4\" fill=\"#009af9\" fill-rule=\"evenodd\" fill-opacity=\"1\" stroke=\"#000000\" stroke-opacity=\"1\" stroke-width=\"3.2\"/>\n",
       "<circle clip-path=\"url(#clip772)\" cx=\"573.058\" cy=\"775.495\" r=\"14.4\" fill=\"#009af9\" fill-rule=\"evenodd\" fill-opacity=\"1\" stroke=\"#000000\" stroke-opacity=\"1\" stroke-width=\"3.2\"/>\n",
       "<circle clip-path=\"url(#clip772)\" cx=\"674.177\" cy=\"643.814\" r=\"14.4\" fill=\"#009af9\" fill-rule=\"evenodd\" fill-opacity=\"1\" stroke=\"#000000\" stroke-opacity=\"1\" stroke-width=\"3.2\"/>\n",
       "<circle clip-path=\"url(#clip772)\" cx=\"775.296\" cy=\"1189.07\" r=\"14.4\" fill=\"#009af9\" fill-rule=\"evenodd\" fill-opacity=\"1\" stroke=\"#000000\" stroke-opacity=\"1\" stroke-width=\"3.2\"/>\n",
       "<circle clip-path=\"url(#clip772)\" cx=\"876.415\" cy=\"1445.72\" r=\"14.4\" fill=\"#009af9\" fill-rule=\"evenodd\" fill-opacity=\"1\" stroke=\"#000000\" stroke-opacity=\"1\" stroke-width=\"3.2\"/>\n",
       "<circle clip-path=\"url(#clip772)\" cx=\"977.535\" cy=\"1206.22\" r=\"14.4\" fill=\"#009af9\" fill-rule=\"evenodd\" fill-opacity=\"1\" stroke=\"#000000\" stroke-opacity=\"1\" stroke-width=\"3.2\"/>\n",
       "<circle clip-path=\"url(#clip772)\" cx=\"1078.65\" cy=\"1284.03\" r=\"14.4\" fill=\"#009af9\" fill-rule=\"evenodd\" fill-opacity=\"1\" stroke=\"#000000\" stroke-opacity=\"1\" stroke-width=\"3.2\"/>\n",
       "<circle clip-path=\"url(#clip772)\" cx=\"1179.77\" cy=\"1114.67\" r=\"14.4\" fill=\"#009af9\" fill-rule=\"evenodd\" fill-opacity=\"1\" stroke=\"#000000\" stroke-opacity=\"1\" stroke-width=\"3.2\"/>\n",
       "<circle clip-path=\"url(#clip772)\" cx=\"1280.89\" cy=\"729.146\" r=\"14.4\" fill=\"#009af9\" fill-rule=\"evenodd\" fill-opacity=\"1\" stroke=\"#000000\" stroke-opacity=\"1\" stroke-width=\"3.2\"/>\n",
       "<circle clip-path=\"url(#clip772)\" cx=\"1382.01\" cy=\"870.11\" r=\"14.4\" fill=\"#009af9\" fill-rule=\"evenodd\" fill-opacity=\"1\" stroke=\"#000000\" stroke-opacity=\"1\" stroke-width=\"3.2\"/>\n",
       "<circle clip-path=\"url(#clip772)\" cx=\"1483.13\" cy=\"1124.94\" r=\"14.4\" fill=\"#009af9\" fill-rule=\"evenodd\" fill-opacity=\"1\" stroke=\"#000000\" stroke-opacity=\"1\" stroke-width=\"3.2\"/>\n",
       "<circle clip-path=\"url(#clip772)\" cx=\"1584.25\" cy=\"592.6\" r=\"14.4\" fill=\"#009af9\" fill-rule=\"evenodd\" fill-opacity=\"1\" stroke=\"#000000\" stroke-opacity=\"1\" stroke-width=\"3.2\"/>\n",
       "<circle clip-path=\"url(#clip772)\" cx=\"1685.37\" cy=\"841.162\" r=\"14.4\" fill=\"#009af9\" fill-rule=\"evenodd\" fill-opacity=\"1\" stroke=\"#000000\" stroke-opacity=\"1\" stroke-width=\"3.2\"/>\n",
       "<circle clip-path=\"url(#clip772)\" cx=\"1786.49\" cy=\"577.776\" r=\"14.4\" fill=\"#009af9\" fill-rule=\"evenodd\" fill-opacity=\"1\" stroke=\"#000000\" stroke-opacity=\"1\" stroke-width=\"3.2\"/>\n",
       "<circle clip-path=\"url(#clip772)\" cx=\"1887.61\" cy=\"427.642\" r=\"14.4\" fill=\"#009af9\" fill-rule=\"evenodd\" fill-opacity=\"1\" stroke=\"#000000\" stroke-opacity=\"1\" stroke-width=\"3.2\"/>\n",
       "<circle clip-path=\"url(#clip772)\" cx=\"1988.73\" cy=\"234.37\" r=\"14.4\" fill=\"#009af9\" fill-rule=\"evenodd\" fill-opacity=\"1\" stroke=\"#000000\" stroke-opacity=\"1\" stroke-width=\"3.2\"/>\n",
       "<circle clip-path=\"url(#clip772)\" cx=\"2089.85\" cy=\"475.513\" r=\"14.4\" fill=\"#009af9\" fill-rule=\"evenodd\" fill-opacity=\"1\" stroke=\"#000000\" stroke-opacity=\"1\" stroke-width=\"3.2\"/>\n",
       "<circle clip-path=\"url(#clip772)\" cx=\"2190.97\" cy=\"87.9763\" r=\"14.4\" fill=\"#009af9\" fill-rule=\"evenodd\" fill-opacity=\"1\" stroke=\"#000000\" stroke-opacity=\"1\" stroke-width=\"3.2\"/>\n",
       "<circle clip-path=\"url(#clip772)\" cx=\"2292.08\" cy=\"502.122\" r=\"14.4\" fill=\"#009af9\" fill-rule=\"evenodd\" fill-opacity=\"1\" stroke=\"#000000\" stroke-opacity=\"1\" stroke-width=\"3.2\"/>\n",
       "<polyline clip-path=\"url(#clip772)\" style=\"stroke:#e26f46; stroke-linecap:round; stroke-linejoin:round; stroke-width:4; stroke-opacity:1; fill:none\" points=\"269.7,614.855 370.819,691.636 471.938,758.819 573.058,816.405 674.177,864.393 775.296,902.783 876.415,931.576 977.535,950.771 1078.65,960.369 1179.77,960.369 1280.89,950.771 1382.01,931.576 1483.13,902.783 1584.25,864.393 1685.37,816.405 1786.49,758.819 1887.61,691.636 1988.73,614.855 2089.85,528.476 2190.97,432.5 2292.08,326.926 \"/>\n",
       "<polyline clip-path=\"url(#clip772)\" style=\"stroke:#3da44d; stroke-linecap:round; stroke-linejoin:round; stroke-width:4; stroke-opacity:1; fill:none\" points=\"269.7,530.421 370.819,289.049 471.938,876.657 573.058,893.108 674.177,831.513 775.296,1004.72 876.415,1284.97 977.535,1416.93 1078.65,1298.73 1179.77,1039.32 1280.89,835.196 1382.01,802.025 1483.13,888.271 1584.25,927.163 1685.37,789.341 1786.49,521.265 1887.61,332.809 1988.73,371.027 2089.85,425.04 2190.97,88.8835 2292.08,504.117 \"/>\n",
       "<path clip-path=\"url(#clip770)\" d=\"M1854.08 1438.47 L2281.3 1438.47 L2281.3 1231.11 L1854.08 1231.11  Z\" fill=\"#ffffff\" fill-rule=\"evenodd\" fill-opacity=\"1\"/>\n",
       "<polyline clip-path=\"url(#clip770)\" style=\"stroke:#000000; stroke-linecap:round; stroke-linejoin:round; stroke-width:4; stroke-opacity:1; fill:none\" points=\"1854.08,1438.47 2281.3,1438.47 2281.3,1231.11 1854.08,1231.11 1854.08,1438.47 \"/>\n",
       "<circle clip-path=\"url(#clip770)\" cx=\"1949.36\" cy=\"1282.95\" r=\"23.04\" fill=\"#009af9\" fill-rule=\"evenodd\" fill-opacity=\"1\" stroke=\"#000000\" stroke-opacity=\"1\" stroke-width=\"5.12\"/>\n",
       "<path clip-path=\"url(#clip770)\" d=\"M2056.53 1277.29 Q2053.11 1277.29 2051.11 1279.98 Q2049.12 1282.64 2049.12 1287.29 Q2049.12 1291.95 2051.09 1294.63 Q2053.08 1297.29 2056.53 1297.29 Q2059.93 1297.29 2061.92 1294.61 Q2063.92 1291.92 2063.92 1287.29 Q2063.92 1282.69 2061.92 1280 Q2059.93 1277.29 2056.53 1277.29 M2056.53 1273.68 Q2062.09 1273.68 2065.26 1277.29 Q2068.43 1280.91 2068.43 1287.29 Q2068.43 1293.66 2065.26 1297.29 Q2062.09 1300.91 2056.53 1300.91 Q2050.95 1300.91 2047.78 1297.29 Q2044.63 1293.66 2044.63 1287.29 Q2044.63 1280.91 2047.78 1277.29 Q2050.95 1273.68 2056.53 1273.68 Z\" fill=\"#000000\" fill-rule=\"evenodd\" fill-opacity=\"1\" /><path clip-path=\"url(#clip770)\" d=\"M2094.1 1287.29 Q2094.1 1282.6 2092.16 1279.93 Q2090.23 1277.25 2086.86 1277.25 Q2083.48 1277.25 2081.53 1279.93 Q2079.61 1282.6 2079.61 1287.29 Q2079.61 1291.99 2081.53 1294.68 Q2083.48 1297.34 2086.86 1297.34 Q2090.23 1297.34 2092.16 1294.68 Q2094.1 1291.99 2094.1 1287.29 M2079.61 1278.24 Q2080.95 1275.93 2082.99 1274.82 Q2085.05 1273.68 2087.9 1273.68 Q2092.62 1273.68 2095.56 1277.43 Q2098.52 1281.18 2098.52 1287.29 Q2098.52 1293.41 2095.56 1297.16 Q2092.62 1300.91 2087.9 1300.91 Q2085.05 1300.91 2082.99 1299.79 Q2080.95 1298.66 2079.61 1296.35 L2079.61 1300.23 L2075.33 1300.23 L2075.33 1264.22 L2079.61 1264.22 L2079.61 1278.24 Z\" fill=\"#000000\" fill-rule=\"evenodd\" fill-opacity=\"1\" /><path clip-path=\"url(#clip770)\" d=\"M2122.11 1275.07 L2122.11 1279.1 Q2120.3 1278.17 2118.36 1277.71 Q2116.42 1277.25 2114.33 1277.25 Q2111.16 1277.25 2109.56 1278.22 Q2107.99 1279.19 2107.99 1281.14 Q2107.99 1282.62 2109.12 1283.48 Q2110.26 1284.31 2113.68 1285.07 L2115.14 1285.4 Q2119.68 1286.37 2121.58 1288.15 Q2123.5 1289.91 2123.5 1293.08 Q2123.5 1296.69 2120.63 1298.8 Q2117.78 1300.91 2112.78 1300.91 Q2110.7 1300.91 2108.43 1300.49 Q2106.18 1300.1 2103.68 1299.29 L2103.68 1294.89 Q2106.04 1296.11 2108.34 1296.74 Q2110.63 1297.34 2112.87 1297.34 Q2115.88 1297.34 2117.5 1296.32 Q2119.12 1295.28 2119.12 1293.41 Q2119.12 1291.67 2117.94 1290.74 Q2116.79 1289.82 2112.83 1288.96 L2111.35 1288.61 Q2107.39 1287.78 2105.63 1286.07 Q2103.87 1284.33 2103.87 1281.32 Q2103.87 1277.67 2106.46 1275.67 Q2109.05 1273.68 2113.82 1273.68 Q2116.18 1273.68 2118.27 1274.03 Q2120.35 1274.38 2122.11 1275.07 Z\" fill=\"#000000\" fill-rule=\"evenodd\" fill-opacity=\"1\" /><path clip-path=\"url(#clip770)\" d=\"M2152.46 1286.21 L2152.46 1288.29 L2132.87 1288.29 Q2133.15 1292.69 2135.51 1295 Q2137.9 1297.29 2142.13 1297.29 Q2144.59 1297.29 2146.88 1296.69 Q2149.19 1296.09 2151.46 1294.89 L2151.46 1298.91 Q2149.17 1299.89 2146.76 1300.4 Q2144.35 1300.91 2141.88 1300.91 Q2135.67 1300.91 2132.04 1297.29 Q2128.43 1293.68 2128.43 1287.53 Q2128.43 1281.16 2131.85 1277.43 Q2135.3 1273.68 2141.14 1273.68 Q2146.37 1273.68 2149.4 1277.06 Q2152.46 1280.42 2152.46 1286.21 M2148.2 1284.96 Q2148.15 1281.46 2146.23 1279.38 Q2144.33 1277.29 2141.18 1277.29 Q2137.62 1277.29 2135.47 1279.31 Q2133.34 1281.32 2133.01 1284.98 L2148.2 1284.96 Z\" fill=\"#000000\" fill-rule=\"evenodd\" fill-opacity=\"1\" /><path clip-path=\"url(#clip770)\" d=\"M2174.47 1278.29 Q2173.75 1277.87 2172.9 1277.69 Q2172.06 1277.48 2171.04 1277.48 Q2167.43 1277.48 2165.49 1279.84 Q2163.57 1282.18 2163.57 1286.58 L2163.57 1300.23 L2159.29 1300.23 L2159.29 1274.31 L2163.57 1274.31 L2163.57 1278.34 Q2164.91 1275.98 2167.06 1274.84 Q2169.22 1273.68 2172.29 1273.68 Q2172.73 1273.68 2173.27 1273.75 Q2173.8 1273.8 2174.45 1273.92 L2174.47 1278.29 Z\" fill=\"#000000\" fill-rule=\"evenodd\" fill-opacity=\"1\" /><path clip-path=\"url(#clip770)\" d=\"M2175.88 1274.31 L2180.4 1274.31 L2188.5 1296.07 L2196.6 1274.31 L2201.11 1274.31 L2191.39 1300.23 L2185.6 1300.23 L2175.88 1274.31 Z\" fill=\"#000000\" fill-rule=\"evenodd\" fill-opacity=\"1\" /><path clip-path=\"url(#clip770)\" d=\"M2229.17 1286.21 L2229.17 1288.29 L2209.59 1288.29 Q2209.86 1292.69 2212.22 1295 Q2214.61 1297.29 2218.85 1297.29 Q2221.3 1297.29 2223.59 1296.69 Q2225.91 1296.09 2228.17 1294.89 L2228.17 1298.91 Q2225.88 1299.89 2223.47 1300.4 Q2221.07 1300.91 2218.59 1300.91 Q2212.39 1300.91 2208.75 1297.29 Q2205.14 1293.68 2205.14 1287.53 Q2205.14 1281.16 2208.57 1277.43 Q2212.02 1273.68 2217.85 1273.68 Q2223.08 1273.68 2226.11 1277.06 Q2229.17 1280.42 2229.17 1286.21 M2224.91 1284.96 Q2224.86 1281.46 2222.94 1279.38 Q2221.04 1277.29 2217.9 1277.29 Q2214.33 1277.29 2212.18 1279.31 Q2210.05 1281.32 2209.72 1284.98 L2224.91 1284.96 Z\" fill=\"#000000\" fill-rule=\"evenodd\" fill-opacity=\"1\" /><path clip-path=\"url(#clip770)\" d=\"M2253.22 1278.24 L2253.22 1264.22 L2257.48 1264.22 L2257.48 1300.23 L2253.22 1300.23 L2253.22 1296.35 Q2251.88 1298.66 2249.82 1299.79 Q2247.78 1300.91 2244.91 1300.91 Q2240.21 1300.91 2237.25 1297.16 Q2234.31 1293.41 2234.31 1287.29 Q2234.31 1281.18 2237.25 1277.43 Q2240.21 1273.68 2244.91 1273.68 Q2247.78 1273.68 2249.82 1274.82 Q2251.88 1275.93 2253.22 1278.24 M2238.71 1287.29 Q2238.71 1291.99 2240.63 1294.68 Q2242.57 1297.34 2245.95 1297.34 Q2249.33 1297.34 2251.28 1294.68 Q2253.22 1291.99 2253.22 1287.29 Q2253.22 1282.6 2251.28 1279.93 Q2249.33 1277.25 2245.95 1277.25 Q2242.57 1277.25 2240.63 1279.93 Q2238.71 1282.6 2238.71 1287.29 Z\" fill=\"#000000\" fill-rule=\"evenodd\" fill-opacity=\"1\" /><polyline clip-path=\"url(#clip770)\" style=\"stroke:#e26f46; stroke-linecap:round; stroke-linejoin:round; stroke-width:4; stroke-opacity:1; fill:none\" points=\"1877.9,1334.79 2020.81,1334.79 \"/>\n",
       "<path clip-path=\"url(#clip770)\" d=\"M2052.04 1318.79 L2052.04 1326.15 L2060.81 1326.15 L2060.81 1329.46 L2052.04 1329.46 L2052.04 1343.53 Q2052.04 1346.7 2052.9 1347.61 Q2053.78 1348.51 2056.44 1348.51 L2060.81 1348.51 L2060.81 1352.07 L2056.44 1352.07 Q2051.51 1352.07 2049.63 1350.25 Q2047.76 1348.39 2047.76 1343.53 L2047.76 1329.46 L2044.63 1329.46 L2044.63 1326.15 L2047.76 1326.15 L2047.76 1318.79 L2052.04 1318.79 Z\" fill=\"#000000\" fill-rule=\"evenodd\" fill-opacity=\"1\" /><path clip-path=\"url(#clip770)\" d=\"M2081.44 1330.13 Q2080.72 1329.71 2079.86 1329.53 Q2079.03 1329.32 2078.01 1329.32 Q2074.4 1329.32 2072.46 1331.68 Q2070.54 1334.02 2070.54 1338.42 L2070.54 1352.07 L2066.25 1352.07 L2066.25 1326.15 L2070.54 1326.15 L2070.54 1330.18 Q2071.88 1327.82 2074.03 1326.68 Q2076.18 1325.52 2079.26 1325.52 Q2079.7 1325.52 2080.23 1325.59 Q2080.77 1325.64 2081.42 1325.76 L2081.44 1330.13 Z\" fill=\"#000000\" fill-rule=\"evenodd\" fill-opacity=\"1\" /><path clip-path=\"url(#clip770)\" d=\"M2085.47 1341.84 L2085.47 1326.15 L2089.73 1326.15 L2089.73 1341.68 Q2089.73 1345.36 2091.16 1347.21 Q2092.6 1349.04 2095.47 1349.04 Q2098.92 1349.04 2100.91 1346.84 Q2102.92 1344.64 2102.92 1340.85 L2102.92 1326.15 L2107.18 1326.15 L2107.18 1352.07 L2102.92 1352.07 L2102.92 1348.09 Q2101.37 1350.45 2099.31 1351.61 Q2097.27 1352.75 2094.56 1352.75 Q2090.1 1352.75 2087.78 1349.97 Q2085.47 1347.19 2085.47 1341.84 M2096.18 1325.52 L2096.18 1325.52 Z\" fill=\"#000000\" fill-rule=\"evenodd\" fill-opacity=\"1\" /><path clip-path=\"url(#clip770)\" d=\"M2138.13 1338.05 L2138.13 1340.13 L2118.54 1340.13 Q2118.82 1344.53 2121.18 1346.84 Q2123.57 1349.13 2127.8 1349.13 Q2130.26 1349.13 2132.55 1348.53 Q2134.86 1347.93 2137.13 1346.73 L2137.13 1350.75 Q2134.84 1351.73 2132.43 1352.24 Q2130.03 1352.75 2127.55 1352.75 Q2121.35 1352.75 2117.71 1349.13 Q2114.1 1345.52 2114.1 1339.37 Q2114.1 1333 2117.53 1329.27 Q2120.98 1325.52 2126.81 1325.52 Q2132.04 1325.52 2135.07 1328.9 Q2138.13 1332.26 2138.13 1338.05 M2133.87 1336.8 Q2133.82 1333.3 2131.9 1331.22 Q2130 1329.13 2126.85 1329.13 Q2123.29 1329.13 2121.14 1331.15 Q2119.01 1333.16 2118.68 1336.82 L2133.87 1336.8 Z\" fill=\"#000000\" fill-rule=\"evenodd\" fill-opacity=\"1\" /><polyline clip-path=\"url(#clip770)\" style=\"stroke:#3da44d; stroke-linecap:round; stroke-linejoin:round; stroke-width:4; stroke-opacity:1; fill:none\" points=\"1877.9,1386.63 2020.81,1386.63 \"/>\n",
       "<path clip-path=\"url(#clip770)\" d=\"M2048.92 1400.03 L2048.92 1413.78 L2044.63 1413.78 L2044.63 1377.99 L2048.92 1377.99 L2048.92 1381.92 Q2050.26 1379.61 2052.3 1378.5 Q2054.36 1377.36 2057.2 1377.36 Q2061.92 1377.36 2064.86 1381.11 Q2067.83 1384.86 2067.83 1390.97 Q2067.83 1397.09 2064.86 1400.84 Q2061.92 1404.59 2057.2 1404.59 Q2054.36 1404.59 2052.3 1403.47 Q2050.26 1402.34 2048.92 1400.03 M2063.41 1390.97 Q2063.41 1386.28 2061.46 1383.61 Q2059.54 1380.93 2056.16 1380.93 Q2052.78 1380.93 2050.84 1383.61 Q2048.92 1386.28 2048.92 1390.97 Q2048.92 1395.67 2050.84 1398.36 Q2052.78 1401.02 2056.16 1401.02 Q2059.54 1401.02 2061.46 1398.36 Q2063.41 1395.67 2063.41 1390.97 Z\" fill=\"#000000\" fill-rule=\"evenodd\" fill-opacity=\"1\" /><path clip-path=\"url(#clip770)\" d=\"M2084.93 1380.97 Q2081.51 1380.97 2079.52 1383.66 Q2077.53 1386.32 2077.53 1390.97 Q2077.53 1395.63 2079.49 1398.31 Q2081.48 1400.97 2084.93 1400.97 Q2088.34 1400.97 2090.33 1398.29 Q2092.32 1395.6 2092.32 1390.97 Q2092.32 1386.37 2090.33 1383.68 Q2088.34 1380.97 2084.93 1380.97 M2084.93 1377.36 Q2090.49 1377.36 2093.66 1380.97 Q2096.83 1384.59 2096.83 1390.97 Q2096.83 1397.34 2093.66 1400.97 Q2090.49 1404.59 2084.93 1404.59 Q2079.36 1404.59 2076.18 1400.97 Q2073.04 1397.34 2073.04 1390.97 Q2073.04 1384.59 2076.18 1380.97 Q2079.36 1377.36 2084.93 1377.36 Z\" fill=\"#000000\" fill-rule=\"evenodd\" fill-opacity=\"1\" /><path clip-path=\"url(#clip770)\" d=\"M2103.89 1367.9 L2108.15 1367.9 L2108.15 1403.91 L2103.89 1403.91 L2103.89 1367.9 Z\" fill=\"#000000\" fill-rule=\"evenodd\" fill-opacity=\"1\" /><path clip-path=\"url(#clip770)\" d=\"M2127.85 1406.32 Q2126.04 1410.95 2124.33 1412.36 Q2122.62 1413.78 2119.75 1413.78 L2116.35 1413.78 L2116.35 1410.21 L2118.85 1410.21 Q2120.6 1410.21 2121.58 1409.38 Q2122.55 1408.54 2123.73 1405.44 L2124.49 1403.5 L2114.01 1377.99 L2118.52 1377.99 L2126.62 1398.27 L2134.73 1377.99 L2139.24 1377.99 L2127.85 1406.32 Z\" fill=\"#000000\" fill-rule=\"evenodd\" fill-opacity=\"1\" /><path clip-path=\"url(#clip770)\" d=\"M2158.24 1367.9 L2158.24 1371.44 L2154.17 1371.44 Q2151.88 1371.44 2150.98 1372.36 Q2150.1 1373.29 2150.1 1375.7 L2150.1 1377.99 L2157.11 1377.99 L2157.11 1381.3 L2150.1 1381.3 L2150.1 1403.91 L2145.81 1403.91 L2145.81 1381.3 L2141.74 1381.3 L2141.74 1377.99 L2145.81 1377.99 L2145.81 1376.18 Q2145.81 1371.85 2147.83 1369.89 Q2149.84 1367.9 2154.22 1367.9 L2158.24 1367.9 Z\" fill=\"#000000\" fill-rule=\"evenodd\" fill-opacity=\"1\" /><path clip-path=\"url(#clip770)\" d=\"M2161.81 1377.99 L2166.07 1377.99 L2166.07 1403.91 L2161.81 1403.91 L2161.81 1377.99 M2161.81 1367.9 L2166.07 1367.9 L2166.07 1373.29 L2161.81 1373.29 L2161.81 1367.9 Z\" fill=\"#000000\" fill-rule=\"evenodd\" fill-opacity=\"1\" /><path clip-path=\"url(#clip770)\" d=\"M2179.19 1370.63 L2179.19 1377.99 L2187.97 1377.99 L2187.97 1381.3 L2179.19 1381.3 L2179.19 1395.37 Q2179.19 1398.54 2180.05 1399.45 Q2180.93 1400.35 2183.59 1400.35 L2187.97 1400.35 L2187.97 1403.91 L2183.59 1403.91 Q2178.66 1403.91 2176.79 1402.09 Q2174.91 1400.23 2174.91 1395.37 L2174.91 1381.3 L2171.79 1381.3 L2171.79 1377.99 L2174.91 1377.99 L2174.91 1370.63 L2179.19 1370.63 Z\" fill=\"#000000\" fill-rule=\"evenodd\" fill-opacity=\"1\" /></svg>\n"
      ]
     },
     "execution_count": 18,
     "metadata": {},
     "output_type": "execute_result"
    }
   ],
   "source": [
    "scatter(x,y_observed_2, label = \"observed\")\n",
    "plot!(x,y_true, label = \"true\")\n",
    "poly_fit = fit(x,y_observed_2,10) \n",
    "y_poly_fit = poly_fit.(x)\n",
    "plot!(x,y_poly_fit, label = \"polyfit\")"
   ]
  },
  {
   "cell_type": "markdown",
   "id": "36028ee0",
   "metadata": {},
   "source": [
    "### 2.6\n",
    "\n",
    "1. Create a new independent parameter x_fit ranging from -11 to 11 with an increment of 0.1\n",
    "2. Plot the same three plots as in 2.3 again but apply the tenth order polynomial to x_fit instead of x\n"
   ]
  },
  {
   "cell_type": "code",
   "execution_count": 25,
   "id": "6c67a977",
   "metadata": {},
   "outputs": [
    {
     "data": {
      "text/plain": [
       "221-element Vector{Float64}:\n",
       "  86.0\n",
       "  84.11000000000001\n",
       "  82.24000000000001\n",
       "  80.38999999999999\n",
       "  78.56\n",
       "  76.75\n",
       "  74.96000000000001\n",
       "  73.19000000000003\n",
       "  71.44\n",
       "  69.71\n",
       "  68.0\n",
       "  66.31\n",
       "  64.64000000000001\n",
       "   ⋮\n",
       " 125.71000000000001\n",
       " 128.0\n",
       " 130.31\n",
       " 132.64\n",
       " 134.99\n",
       " 137.36\n",
       " 139.75\n",
       " 142.16\n",
       " 144.58999999999997\n",
       " 147.04000000000002\n",
       " 149.51\n",
       " 152.0"
      ]
     },
     "execution_count": 25,
     "metadata": {},
     "output_type": "execute_result"
    }
   ],
   "source": [
    "x_fit = -11.0:0.1:11.0\n",
    "collect(x_fit)\n",
    "y_fit_observed = x_fit.^2.0 + 3.0 .*x_fit .- 2.0"
   ]
  },
  {
   "cell_type": "code",
   "execution_count": 31,
   "id": "4cc0b235",
   "metadata": {},
   "outputs": [
    {
     "data": {
      "image/svg+xml": [
       "<?xml version=\"1.0\" encoding=\"utf-8\"?>\n",
       "<svg xmlns=\"http://www.w3.org/2000/svg\" xmlns:xlink=\"http://www.w3.org/1999/xlink\" width=\"600\" height=\"400\" viewBox=\"0 0 2400 1600\">\n",
       "<defs>\n",
       "  <clipPath id=\"clip930\">\n",
       "    <rect x=\"0\" y=\"0\" width=\"2400\" height=\"1600\"/>\n",
       "  </clipPath>\n",
       "</defs>\n",
       "<path clip-path=\"url(#clip930)\" d=\"M0 1600 L2400 1600 L2400 0 L0 0  Z\" fill=\"#ffffff\" fill-rule=\"evenodd\" fill-opacity=\"1\"/>\n",
       "<defs>\n",
       "  <clipPath id=\"clip931\">\n",
       "    <rect x=\"480\" y=\"0\" width=\"1681\" height=\"1600\"/>\n",
       "  </clipPath>\n",
       "</defs>\n",
       "<path clip-path=\"url(#clip930)\" d=\"M169.121 1486.45 L2352.76 1486.45 L2352.76 47.2441 L169.121 47.2441  Z\" fill=\"#ffffff\" fill-rule=\"evenodd\" fill-opacity=\"1\"/>\n",
       "<defs>\n",
       "  <clipPath id=\"clip932\">\n",
       "    <rect x=\"169\" y=\"47\" width=\"2185\" height=\"1440\"/>\n",
       "  </clipPath>\n",
       "</defs>\n",
       "<polyline clip-path=\"url(#clip932)\" style=\"stroke:#000000; stroke-linecap:round; stroke-linejoin:round; stroke-width:2; stroke-opacity:0.1; fill:none\" points=\"324.56,1486.45 324.56,47.2441 \"/>\n",
       "<polyline clip-path=\"url(#clip932)\" style=\"stroke:#000000; stroke-linecap:round; stroke-linejoin:round; stroke-width:2; stroke-opacity:0.1; fill:none\" points=\"792.749,1486.45 792.749,47.2441 \"/>\n",
       "<polyline clip-path=\"url(#clip932)\" style=\"stroke:#000000; stroke-linecap:round; stroke-linejoin:round; stroke-width:2; stroke-opacity:0.1; fill:none\" points=\"1260.94,1486.45 1260.94,47.2441 \"/>\n",
       "<polyline clip-path=\"url(#clip932)\" style=\"stroke:#000000; stroke-linecap:round; stroke-linejoin:round; stroke-width:2; stroke-opacity:0.1; fill:none\" points=\"1729.13,1486.45 1729.13,47.2441 \"/>\n",
       "<polyline clip-path=\"url(#clip932)\" style=\"stroke:#000000; stroke-linecap:round; stroke-linejoin:round; stroke-width:2; stroke-opacity:0.1; fill:none\" points=\"2197.32,1486.45 2197.32,47.2441 \"/>\n",
       "<polyline clip-path=\"url(#clip930)\" style=\"stroke:#000000; stroke-linecap:round; stroke-linejoin:round; stroke-width:4; stroke-opacity:1; fill:none\" points=\"169.121,1486.45 2352.76,1486.45 \"/>\n",
       "<polyline clip-path=\"url(#clip930)\" style=\"stroke:#000000; stroke-linecap:round; stroke-linejoin:round; stroke-width:4; stroke-opacity:1; fill:none\" points=\"324.56,1486.45 324.56,1467.55 \"/>\n",
       "<polyline clip-path=\"url(#clip930)\" style=\"stroke:#000000; stroke-linecap:round; stroke-linejoin:round; stroke-width:4; stroke-opacity:1; fill:none\" points=\"792.749,1486.45 792.749,1467.55 \"/>\n",
       "<polyline clip-path=\"url(#clip930)\" style=\"stroke:#000000; stroke-linecap:round; stroke-linejoin:round; stroke-width:4; stroke-opacity:1; fill:none\" points=\"1260.94,1486.45 1260.94,1467.55 \"/>\n",
       "<polyline clip-path=\"url(#clip930)\" style=\"stroke:#000000; stroke-linecap:round; stroke-linejoin:round; stroke-width:4; stroke-opacity:1; fill:none\" points=\"1729.13,1486.45 1729.13,1467.55 \"/>\n",
       "<polyline clip-path=\"url(#clip930)\" style=\"stroke:#000000; stroke-linecap:round; stroke-linejoin:round; stroke-width:4; stroke-opacity:1; fill:none\" points=\"2197.32,1486.45 2197.32,1467.55 \"/>\n",
       "<path clip-path=\"url(#clip930)\" d=\"M278.623 1532.02 L308.299 1532.02 L308.299 1535.95 L278.623 1535.95 L278.623 1532.02 Z\" fill=\"#000000\" fill-rule=\"evenodd\" fill-opacity=\"1\" /><path clip-path=\"url(#clip930)\" d=\"M319.201 1544.91 L326.84 1544.91 L326.84 1518.55 L318.53 1520.21 L318.53 1515.95 L326.794 1514.29 L331.47 1514.29 L331.47 1544.91 L339.109 1544.91 L339.109 1548.85 L319.201 1548.85 L319.201 1544.91 Z\" fill=\"#000000\" fill-rule=\"evenodd\" fill-opacity=\"1\" /><path clip-path=\"url(#clip930)\" d=\"M358.553 1517.37 Q354.942 1517.37 353.113 1520.93 Q351.308 1524.47 351.308 1531.6 Q351.308 1538.71 353.113 1542.27 Q354.942 1545.82 358.553 1545.82 Q362.187 1545.82 363.993 1542.27 Q365.821 1538.71 365.821 1531.6 Q365.821 1524.47 363.993 1520.93 Q362.187 1517.37 358.553 1517.37 M358.553 1513.66 Q364.363 1513.66 367.419 1518.27 Q370.497 1522.85 370.497 1531.6 Q370.497 1540.33 367.419 1544.94 Q364.363 1549.52 358.553 1549.52 Q352.743 1549.52 349.664 1544.94 Q346.609 1540.33 346.609 1531.6 Q346.609 1522.85 349.664 1518.27 Q352.743 1513.66 358.553 1513.66 Z\" fill=\"#000000\" fill-rule=\"evenodd\" fill-opacity=\"1\" /><path clip-path=\"url(#clip930)\" d=\"M762.391 1532.02 L792.067 1532.02 L792.067 1535.95 L762.391 1535.95 L762.391 1532.02 Z\" fill=\"#000000\" fill-rule=\"evenodd\" fill-opacity=\"1\" /><path clip-path=\"url(#clip930)\" d=\"M802.205 1514.29 L820.562 1514.29 L820.562 1518.22 L806.488 1518.22 L806.488 1526.7 Q807.506 1526.35 808.525 1526.19 Q809.543 1526 810.562 1526 Q816.349 1526 819.728 1529.17 Q823.108 1532.34 823.108 1537.76 Q823.108 1543.34 819.636 1546.44 Q816.164 1549.52 809.844 1549.52 Q807.668 1549.52 805.4 1549.15 Q803.154 1548.78 800.747 1548.04 L800.747 1543.34 Q802.83 1544.47 805.053 1545.03 Q807.275 1545.58 809.752 1545.58 Q813.756 1545.58 816.094 1543.48 Q818.432 1541.37 818.432 1537.76 Q818.432 1534.15 816.094 1532.04 Q813.756 1529.94 809.752 1529.94 Q807.877 1529.94 806.002 1530.35 Q804.15 1530.77 802.205 1531.65 L802.205 1514.29 Z\" fill=\"#000000\" fill-rule=\"evenodd\" fill-opacity=\"1\" /><path clip-path=\"url(#clip930)\" d=\"M1260.94 1517.37 Q1257.33 1517.37 1255.5 1520.93 Q1253.69 1524.47 1253.69 1531.6 Q1253.69 1538.71 1255.5 1542.27 Q1257.33 1545.82 1260.94 1545.82 Q1264.57 1545.82 1266.38 1542.27 Q1268.21 1538.71 1268.21 1531.6 Q1268.21 1524.47 1266.38 1520.93 Q1264.57 1517.37 1260.94 1517.37 M1260.94 1513.66 Q1266.75 1513.66 1269.8 1518.27 Q1272.88 1522.85 1272.88 1531.6 Q1272.88 1540.33 1269.8 1544.94 Q1266.75 1549.52 1260.94 1549.52 Q1255.13 1549.52 1252.05 1544.94 Q1248.99 1540.33 1248.99 1531.6 Q1248.99 1522.85 1252.05 1518.27 Q1255.13 1513.66 1260.94 1513.66 Z\" fill=\"#000000\" fill-rule=\"evenodd\" fill-opacity=\"1\" /><path clip-path=\"url(#clip930)\" d=\"M1719.41 1514.29 L1737.76 1514.29 L1737.76 1518.22 L1723.69 1518.22 L1723.69 1526.7 Q1724.71 1526.35 1725.73 1526.19 Q1726.74 1526 1727.76 1526 Q1733.55 1526 1736.93 1529.17 Q1740.31 1532.34 1740.31 1537.76 Q1740.31 1543.34 1736.84 1546.44 Q1733.36 1549.52 1727.04 1549.52 Q1724.87 1549.52 1722.6 1549.15 Q1720.35 1548.78 1717.95 1548.04 L1717.95 1543.34 Q1720.03 1544.47 1722.25 1545.03 Q1724.48 1545.58 1726.95 1545.58 Q1730.96 1545.58 1733.29 1543.48 Q1735.63 1541.37 1735.63 1537.76 Q1735.63 1534.15 1733.29 1532.04 Q1730.96 1529.94 1726.95 1529.94 Q1725.08 1529.94 1723.2 1530.35 Q1721.35 1530.77 1719.41 1531.65 L1719.41 1514.29 Z\" fill=\"#000000\" fill-rule=\"evenodd\" fill-opacity=\"1\" /><path clip-path=\"url(#clip930)\" d=\"M2172 1544.91 L2179.64 1544.91 L2179.64 1518.55 L2171.33 1520.21 L2171.33 1515.95 L2179.6 1514.29 L2184.27 1514.29 L2184.27 1544.91 L2191.91 1544.91 L2191.91 1548.85 L2172 1548.85 L2172 1544.91 Z\" fill=\"#000000\" fill-rule=\"evenodd\" fill-opacity=\"1\" /><path clip-path=\"url(#clip930)\" d=\"M2211.36 1517.37 Q2207.75 1517.37 2205.92 1520.93 Q2204.11 1524.47 2204.11 1531.6 Q2204.11 1538.71 2205.92 1542.27 Q2207.75 1545.82 2211.36 1545.82 Q2214.99 1545.82 2216.8 1542.27 Q2218.62 1538.71 2218.62 1531.6 Q2218.62 1524.47 2216.8 1520.93 Q2214.99 1517.37 2211.36 1517.37 M2211.36 1513.66 Q2217.17 1513.66 2220.22 1518.27 Q2223.3 1522.85 2223.3 1531.6 Q2223.3 1540.33 2220.22 1544.94 Q2217.17 1549.52 2211.36 1549.52 Q2205.55 1549.52 2202.47 1544.94 Q2199.41 1540.33 2199.41 1531.6 Q2199.41 1522.85 2202.47 1518.27 Q2205.55 1513.66 2211.36 1513.66 Z\" fill=\"#000000\" fill-rule=\"evenodd\" fill-opacity=\"1\" /><polyline clip-path=\"url(#clip932)\" style=\"stroke:#000000; stroke-linecap:round; stroke-linejoin:round; stroke-width:2; stroke-opacity:0.1; fill:none\" points=\"169.121,1260.27 2352.76,1260.27 \"/>\n",
       "<polyline clip-path=\"url(#clip932)\" style=\"stroke:#000000; stroke-linecap:round; stroke-linejoin:round; stroke-width:2; stroke-opacity:0.1; fill:none\" points=\"169.121,874.65 2352.76,874.65 \"/>\n",
       "<polyline clip-path=\"url(#clip932)\" style=\"stroke:#000000; stroke-linecap:round; stroke-linejoin:round; stroke-width:2; stroke-opacity:0.1; fill:none\" points=\"169.121,489.025 2352.76,489.025 \"/>\n",
       "<polyline clip-path=\"url(#clip932)\" style=\"stroke:#000000; stroke-linecap:round; stroke-linejoin:round; stroke-width:2; stroke-opacity:0.1; fill:none\" points=\"169.121,103.401 2352.76,103.401 \"/>\n",
       "<polyline clip-path=\"url(#clip930)\" style=\"stroke:#000000; stroke-linecap:round; stroke-linejoin:round; stroke-width:4; stroke-opacity:1; fill:none\" points=\"169.121,1486.45 169.121,47.2441 \"/>\n",
       "<polyline clip-path=\"url(#clip930)\" style=\"stroke:#000000; stroke-linecap:round; stroke-linejoin:round; stroke-width:4; stroke-opacity:1; fill:none\" points=\"169.121,1260.27 188.019,1260.27 \"/>\n",
       "<polyline clip-path=\"url(#clip930)\" style=\"stroke:#000000; stroke-linecap:round; stroke-linejoin:round; stroke-width:4; stroke-opacity:1; fill:none\" points=\"169.121,874.65 188.019,874.65 \"/>\n",
       "<polyline clip-path=\"url(#clip930)\" style=\"stroke:#000000; stroke-linecap:round; stroke-linejoin:round; stroke-width:4; stroke-opacity:1; fill:none\" points=\"169.121,489.025 188.019,489.025 \"/>\n",
       "<polyline clip-path=\"url(#clip930)\" style=\"stroke:#000000; stroke-linecap:round; stroke-linejoin:round; stroke-width:4; stroke-opacity:1; fill:none\" points=\"169.121,103.401 188.019,103.401 \"/>\n",
       "<path clip-path=\"url(#clip930)\" d=\"M121.177 1246.07 Q117.566 1246.07 115.737 1249.64 Q113.932 1253.18 113.932 1260.31 Q113.932 1267.42 115.737 1270.98 Q117.566 1274.52 121.177 1274.52 Q124.811 1274.52 126.617 1270.98 Q128.445 1267.42 128.445 1260.31 Q128.445 1253.18 126.617 1249.64 Q124.811 1246.07 121.177 1246.07 M121.177 1242.37 Q126.987 1242.37 130.043 1246.98 Q133.121 1251.56 133.121 1260.31 Q133.121 1269.04 130.043 1273.64 Q126.987 1278.23 121.177 1278.23 Q115.367 1278.23 112.288 1273.64 Q109.233 1269.04 109.233 1260.31 Q109.233 1251.56 112.288 1246.98 Q115.367 1242.37 121.177 1242.37 Z\" fill=\"#000000\" fill-rule=\"evenodd\" fill-opacity=\"1\" /><path clip-path=\"url(#clip930)\" d=\"M81.0614 857.37 L99.4178 857.37 L99.4178 861.305 L85.3438 861.305 L85.3438 869.777 Q86.3623 869.43 87.3808 869.268 Q88.3993 869.083 89.4178 869.083 Q95.2049 869.083 98.5845 872.254 Q101.964 875.425 101.964 880.842 Q101.964 886.42 98.4919 889.522 Q95.0197 892.601 88.7003 892.601 Q86.5243 892.601 84.2558 892.231 Q82.0105 891.86 79.6031 891.119 L79.6031 886.42 Q81.6864 887.555 83.9086 888.11 Q86.1308 888.666 88.6077 888.666 Q92.6123 888.666 94.9502 886.559 Q97.2882 884.453 97.2882 880.842 Q97.2882 877.231 94.9502 875.124 Q92.6123 873.018 88.6077 873.018 Q86.7327 873.018 84.8577 873.434 Q83.0058 873.851 81.0614 874.731 L81.0614 857.37 Z\" fill=\"#000000\" fill-rule=\"evenodd\" fill-opacity=\"1\" /><path clip-path=\"url(#clip930)\" d=\"M121.177 860.448 Q117.566 860.448 115.737 864.013 Q113.932 867.555 113.932 874.684 Q113.932 881.791 115.737 885.356 Q117.566 888.897 121.177 888.897 Q124.811 888.897 126.617 885.356 Q128.445 881.791 128.445 874.684 Q128.445 867.555 126.617 864.013 Q124.811 860.448 121.177 860.448 M121.177 856.745 Q126.987 856.745 130.043 861.351 Q133.121 865.934 133.121 874.684 Q133.121 883.411 130.043 888.018 Q126.987 892.601 121.177 892.601 Q115.367 892.601 112.288 888.018 Q109.233 883.411 109.233 874.684 Q109.233 865.934 112.288 861.351 Q115.367 856.745 121.177 856.745 Z\" fill=\"#000000\" fill-rule=\"evenodd\" fill-opacity=\"1\" /><path clip-path=\"url(#clip930)\" d=\"M51.6634 502.37 L59.3023 502.37 L59.3023 476.005 L50.9921 477.671 L50.9921 473.412 L59.256 471.745 L63.9319 471.745 L63.9319 502.37 L71.5707 502.37 L71.5707 506.305 L51.6634 506.305 L51.6634 502.37 Z\" fill=\"#000000\" fill-rule=\"evenodd\" fill-opacity=\"1\" /><path clip-path=\"url(#clip930)\" d=\"M91.0151 474.824 Q87.404 474.824 85.5753 478.389 Q83.7697 481.931 83.7697 489.06 Q83.7697 496.167 85.5753 499.731 Q87.404 503.273 91.0151 503.273 Q94.6493 503.273 96.4548 499.731 Q98.2835 496.167 98.2835 489.06 Q98.2835 481.931 96.4548 478.389 Q94.6493 474.824 91.0151 474.824 M91.0151 471.12 Q96.8252 471.12 99.8808 475.727 Q102.959 480.31 102.959 489.06 Q102.959 497.787 99.8808 502.393 Q96.8252 506.977 91.0151 506.977 Q85.2049 506.977 82.1262 502.393 Q79.0707 497.787 79.0707 489.06 Q79.0707 480.31 82.1262 475.727 Q85.2049 471.12 91.0151 471.12 Z\" fill=\"#000000\" fill-rule=\"evenodd\" fill-opacity=\"1\" /><path clip-path=\"url(#clip930)\" d=\"M121.177 474.824 Q117.566 474.824 115.737 478.389 Q113.932 481.931 113.932 489.06 Q113.932 496.167 115.737 499.731 Q117.566 503.273 121.177 503.273 Q124.811 503.273 126.617 499.731 Q128.445 496.167 128.445 489.06 Q128.445 481.931 126.617 478.389 Q124.811 474.824 121.177 474.824 M121.177 471.12 Q126.987 471.12 130.043 475.727 Q133.121 480.31 133.121 489.06 Q133.121 497.787 130.043 502.393 Q126.987 506.977 121.177 506.977 Q115.367 506.977 112.288 502.393 Q109.233 497.787 109.233 489.06 Q109.233 480.31 112.288 475.727 Q115.367 471.12 121.177 471.12 Z\" fill=\"#000000\" fill-rule=\"evenodd\" fill-opacity=\"1\" /><path clip-path=\"url(#clip930)\" d=\"M51.6634 116.746 L59.3023 116.746 L59.3023 90.3805 L50.9921 92.0471 L50.9921 87.7879 L59.256 86.1212 L63.9319 86.1212 L63.9319 116.746 L71.5707 116.746 L71.5707 120.681 L51.6634 120.681 L51.6634 116.746 Z\" fill=\"#000000\" fill-rule=\"evenodd\" fill-opacity=\"1\" /><path clip-path=\"url(#clip930)\" d=\"M81.0614 86.1212 L99.4178 86.1212 L99.4178 90.0564 L85.3438 90.0564 L85.3438 98.5286 Q86.3623 98.1814 87.3808 98.0193 Q88.3993 97.8341 89.4178 97.8341 Q95.2049 97.8341 98.5845 101.005 Q101.964 104.177 101.964 109.593 Q101.964 115.172 98.4919 118.274 Q95.0197 121.353 88.7003 121.353 Q86.5243 121.353 84.2558 120.982 Q82.0105 120.612 79.6031 119.871 L79.6031 115.172 Q81.6864 116.306 83.9086 116.862 Q86.1308 117.417 88.6077 117.417 Q92.6123 117.417 94.9502 115.311 Q97.2882 113.204 97.2882 109.593 Q97.2882 105.982 94.9502 103.876 Q92.6123 101.769 88.6077 101.769 Q86.7327 101.769 84.8577 102.186 Q83.0058 102.603 81.0614 103.482 L81.0614 86.1212 Z\" fill=\"#000000\" fill-rule=\"evenodd\" fill-opacity=\"1\" /><path clip-path=\"url(#clip930)\" d=\"M121.177 89.1999 Q117.566 89.1999 115.737 92.7647 Q113.932 96.3064 113.932 103.436 Q113.932 110.542 115.737 114.107 Q117.566 117.649 121.177 117.649 Q124.811 117.649 126.617 114.107 Q128.445 110.542 128.445 103.436 Q128.445 96.3064 126.617 92.7647 Q124.811 89.1999 121.177 89.1999 M121.177 85.4962 Q126.987 85.4962 130.043 90.1027 Q133.121 94.686 133.121 103.436 Q133.121 112.163 130.043 116.769 Q126.987 121.353 121.177 121.353 Q115.367 121.353 112.288 116.769 Q109.233 112.163 109.233 103.436 Q109.233 94.686 112.288 90.1027 Q115.367 85.4962 121.177 85.4962 Z\" fill=\"#000000\" fill-rule=\"evenodd\" fill-opacity=\"1\" /><circle clip-path=\"url(#clip932)\" cx=\"324.56\" cy=\"864.425\" r=\"14.4\" fill=\"#009af9\" fill-rule=\"evenodd\" fill-opacity=\"1\" stroke=\"#000000\" stroke-opacity=\"1\" stroke-width=\"3.2\"/>\n",
       "<circle clip-path=\"url(#clip932)\" cx=\"418.198\" cy=\"919.643\" r=\"14.4\" fill=\"#009af9\" fill-rule=\"evenodd\" fill-opacity=\"1\" stroke=\"#000000\" stroke-opacity=\"1\" stroke-width=\"3.2\"/>\n",
       "<circle clip-path=\"url(#clip932)\" cx=\"511.836\" cy=\"935.174\" r=\"14.4\" fill=\"#009af9\" fill-rule=\"evenodd\" fill-opacity=\"1\" stroke=\"#000000\" stroke-opacity=\"1\" stroke-width=\"3.2\"/>\n",
       "<circle clip-path=\"url(#clip932)\" cx=\"605.474\" cy=\"1077.94\" r=\"14.4\" fill=\"#009af9\" fill-rule=\"evenodd\" fill-opacity=\"1\" stroke=\"#000000\" stroke-opacity=\"1\" stroke-width=\"3.2\"/>\n",
       "<circle clip-path=\"url(#clip932)\" cx=\"699.112\" cy=\"1165.77\" r=\"14.4\" fill=\"#009af9\" fill-rule=\"evenodd\" fill-opacity=\"1\" stroke=\"#000000\" stroke-opacity=\"1\" stroke-width=\"3.2\"/>\n",
       "<circle clip-path=\"url(#clip932)\" cx=\"792.749\" cy=\"1151.85\" r=\"14.4\" fill=\"#009af9\" fill-rule=\"evenodd\" fill-opacity=\"1\" stroke=\"#000000\" stroke-opacity=\"1\" stroke-width=\"3.2\"/>\n",
       "<circle clip-path=\"url(#clip932)\" cx=\"886.387\" cy=\"1326.55\" r=\"14.4\" fill=\"#009af9\" fill-rule=\"evenodd\" fill-opacity=\"1\" stroke=\"#000000\" stroke-opacity=\"1\" stroke-width=\"3.2\"/>\n",
       "<circle clip-path=\"url(#clip932)\" cx=\"980.025\" cy=\"1445.72\" r=\"14.4\" fill=\"#009af9\" fill-rule=\"evenodd\" fill-opacity=\"1\" stroke=\"#000000\" stroke-opacity=\"1\" stroke-width=\"3.2\"/>\n",
       "<circle clip-path=\"url(#clip932)\" cx=\"1073.66\" cy=\"1315.91\" r=\"14.4\" fill=\"#009af9\" fill-rule=\"evenodd\" fill-opacity=\"1\" stroke=\"#000000\" stroke-opacity=\"1\" stroke-width=\"3.2\"/>\n",
       "<circle clip-path=\"url(#clip932)\" cx=\"1167.3\" cy=\"1242.28\" r=\"14.4\" fill=\"#009af9\" fill-rule=\"evenodd\" fill-opacity=\"1\" stroke=\"#000000\" stroke-opacity=\"1\" stroke-width=\"3.2\"/>\n",
       "<circle clip-path=\"url(#clip932)\" cx=\"1260.94\" cy=\"1293.36\" r=\"14.4\" fill=\"#009af9\" fill-rule=\"evenodd\" fill-opacity=\"1\" stroke=\"#000000\" stroke-opacity=\"1\" stroke-width=\"3.2\"/>\n",
       "<circle clip-path=\"url(#clip932)\" cx=\"1354.58\" cy=\"1355.58\" r=\"14.4\" fill=\"#009af9\" fill-rule=\"evenodd\" fill-opacity=\"1\" stroke=\"#000000\" stroke-opacity=\"1\" stroke-width=\"3.2\"/>\n",
       "<circle clip-path=\"url(#clip932)\" cx=\"1448.21\" cy=\"1237.24\" r=\"14.4\" fill=\"#009af9\" fill-rule=\"evenodd\" fill-opacity=\"1\" stroke=\"#000000\" stroke-opacity=\"1\" stroke-width=\"3.2\"/>\n",
       "<circle clip-path=\"url(#clip932)\" cx=\"1541.85\" cy=\"1215.05\" r=\"14.4\" fill=\"#009af9\" fill-rule=\"evenodd\" fill-opacity=\"1\" stroke=\"#000000\" stroke-opacity=\"1\" stroke-width=\"3.2\"/>\n",
       "<circle clip-path=\"url(#clip932)\" cx=\"1635.49\" cy=\"968.752\" r=\"14.4\" fill=\"#009af9\" fill-rule=\"evenodd\" fill-opacity=\"1\" stroke=\"#000000\" stroke-opacity=\"1\" stroke-width=\"3.2\"/>\n",
       "<circle clip-path=\"url(#clip932)\" cx=\"1729.13\" cy=\"1015.75\" r=\"14.4\" fill=\"#009af9\" fill-rule=\"evenodd\" fill-opacity=\"1\" stroke=\"#000000\" stroke-opacity=\"1\" stroke-width=\"3.2\"/>\n",
       "<circle clip-path=\"url(#clip932)\" cx=\"1822.77\" cy=\"890.999\" r=\"14.4\" fill=\"#009af9\" fill-rule=\"evenodd\" fill-opacity=\"1\" stroke=\"#000000\" stroke-opacity=\"1\" stroke-width=\"3.2\"/>\n",
       "<circle clip-path=\"url(#clip932)\" cx=\"1916.4\" cy=\"745.711\" r=\"14.4\" fill=\"#009af9\" fill-rule=\"evenodd\" fill-opacity=\"1\" stroke=\"#000000\" stroke-opacity=\"1\" stroke-width=\"3.2\"/>\n",
       "<circle clip-path=\"url(#clip932)\" cx=\"2010.04\" cy=\"479.438\" r=\"14.4\" fill=\"#009af9\" fill-rule=\"evenodd\" fill-opacity=\"1\" stroke=\"#000000\" stroke-opacity=\"1\" stroke-width=\"3.2\"/>\n",
       "<circle clip-path=\"url(#clip932)\" cx=\"2103.68\" cy=\"354.665\" r=\"14.4\" fill=\"#009af9\" fill-rule=\"evenodd\" fill-opacity=\"1\" stroke=\"#000000\" stroke-opacity=\"1\" stroke-width=\"3.2\"/>\n",
       "<circle clip-path=\"url(#clip932)\" cx=\"2197.32\" cy=\"279.828\" r=\"14.4\" fill=\"#009af9\" fill-rule=\"evenodd\" fill-opacity=\"1\" stroke=\"#000000\" stroke-opacity=\"1\" stroke-width=\"3.2\"/>\n",
       "<polyline clip-path=\"url(#clip932)\" style=\"stroke:#e26f46; stroke-linecap:round; stroke-linejoin:round; stroke-width:4; stroke-opacity:1; fill:none\" points=\"324.56,735.825 418.198,859.225 511.836,967.199 605.474,1059.75 699.112,1136.87 792.749,1198.57 886.387,1244.85 980.025,1275.7 1073.66,1291.12 1167.3,1291.12 1260.94,1275.7 1354.58,1244.85 1448.21,1198.57 1541.85,1136.87 1635.49,1059.75 1729.13,967.199 1822.77,859.225 1916.4,735.825 2010.04,597 2103.68,442.751 2197.32,273.076 \"/>\n",
       "<polyline clip-path=\"url(#clip932)\" style=\"stroke:#3da44d; stroke-linecap:round; stroke-linejoin:round; stroke-width:4; stroke-opacity:1; fill:none\" points=\"230.922,597 240.286,611.577 249.65,625.999 259.014,640.267 268.377,654.381 277.741,668.341 287.105,682.146 296.469,695.797 305.833,709.294 315.196,722.637 324.56,735.825 333.924,748.859 343.288,761.739 352.651,774.464 362.015,787.036 371.379,799.453 380.743,811.716 390.107,823.824 399.47,835.779 408.834,847.579 418.198,859.225 427.562,870.716 436.926,882.054 446.289,893.237 455.653,904.266 465.017,915.14 474.381,925.861 483.744,936.427 493.108,946.839 502.472,957.096 511.836,967.199 521.2,977.149 530.563,986.943 539.927,996.584 549.291,1006.07 558.655,1015.4 568.019,1024.58 577.382,1033.6 586.746,1042.47 596.11,1051.19 605.474,1059.75 614.837,1068.16 624.201,1076.41 633.565,1084.51 642.929,1092.45 652.293,1100.24 661.656,1107.88 671.02,1115.36 680.384,1122.68 689.748,1129.86 699.112,1136.87 708.475,1143.74 717.839,1150.45 727.203,1157 736.567,1163.41 745.93,1169.65 755.294,1175.75 764.658,1181.68 774.022,1187.47 783.386,1193.1 792.749,1198.57 802.113,1203.9 811.477,1209.06 820.841,1214.08 830.205,1218.93 839.568,1223.64 848.932,1228.19 858.296,1232.59 867.66,1236.83 877.023,1240.92 886.387,1244.85 895.751,1248.63 905.115,1252.25 914.479,1255.72 923.842,1259.04 933.206,1262.2 942.57,1265.21 951.934,1268.06 961.298,1270.76 970.661,1273.31 980.025,1275.7 989.389,1277.94 998.753,1280.02 1008.12,1281.95 1017.48,1283.72 1026.84,1285.34 1036.21,1286.8 1045.57,1288.12 1054.94,1289.27 1064.3,1290.28 1073.66,1291.12 1083.03,1291.82 1092.39,1292.36 1101.75,1292.74 1111.12,1292.97 1120.48,1293.05 1129.85,1292.97 1139.21,1292.74 1148.57,1292.36 1157.94,1291.82 1167.3,1291.12 1176.66,1290.28 1186.03,1289.27 1195.39,1288.12 1204.76,1286.8 1214.12,1285.34 1223.48,1283.72 1232.85,1281.95 1242.21,1280.02 1251.57,1277.94 1260.94,1275.7 1270.3,1273.31 1279.67,1270.76 1289.03,1268.06 1298.39,1265.21 1307.76,1262.2 1317.12,1259.04 1326.49,1255.72 1335.85,1252.25 1345.21,1248.63 1354.58,1244.85 1363.94,1240.92 1373.3,1236.83 1382.67,1232.59 1392.03,1228.19 1401.4,1223.64 1410.76,1218.93 1420.12,1214.08 1429.49,1209.06 1438.85,1203.9 1448.21,1198.57 1457.58,1193.1 1466.94,1187.47 1476.31,1181.68 1485.67,1175.75 1495.03,1169.65 1504.4,1163.41 1513.76,1157 1523.12,1150.45 1532.49,1143.74 1541.85,1136.87 1551.22,1129.86 1560.58,1122.68 1569.94,1115.36 1579.31,1107.88 1588.67,1100.24 1598.03,1092.45 1607.4,1084.51 1616.76,1076.41 1626.13,1068.16 1635.49,1059.75 1644.85,1051.19 1654.22,1042.47 1663.58,1033.6 1672.95,1024.58 1682.31,1015.4 1691.67,1006.07 1701.04,996.584 1710.4,986.943 1719.76,977.149 1729.13,967.199 1738.49,957.096 1747.86,946.839 1757.22,936.427 1766.58,925.861 1775.95,915.14 1785.31,904.266 1794.67,893.237 1804.04,882.054 1813.4,870.716 1822.77,859.225 1832.13,847.579 1841.49,835.779 1850.86,823.824 1860.22,811.716 1869.58,799.453 1878.95,787.036 1888.31,774.464 1897.68,761.739 1907.04,748.859 1916.4,735.825 1925.77,722.637 1935.13,709.294 1944.49,695.797 1953.86,682.146 1963.22,668.341 1972.59,654.381 1981.95,640.267 1991.31,625.999 2000.68,611.577 2010.04,597 2019.41,582.269 2028.77,567.384 2038.13,552.345 2047.5,537.151 2056.86,521.804 2066.22,506.301 2075.59,490.645 2084.95,474.834 2094.32,458.87 2103.68,442.751 2113.04,426.477 2122.41,410.05 2131.77,393.468 2141.13,376.732 2150.5,359.841 2159.86,342.797 2169.23,325.598 2178.59,308.245 2187.95,290.737 2197.32,273.076 2206.68,255.26 2216.04,237.29 2225.41,219.166 2234.77,200.887 2244.14,182.454 2253.5,163.867 2262.86,145.126 2272.23,126.23 2281.59,107.18 2290.95,87.9763 \"/>\n",
       "<path clip-path=\"url(#clip930)\" d=\"M241.909 302.578 L673.119 302.578 L673.119 95.2176 L241.909 95.2176  Z\" fill=\"#ffffff\" fill-rule=\"evenodd\" fill-opacity=\"1\"/>\n",
       "<polyline clip-path=\"url(#clip930)\" style=\"stroke:#000000; stroke-linecap:round; stroke-linejoin:round; stroke-width:4; stroke-opacity:1; fill:none\" points=\"241.909,302.578 673.119,302.578 673.119,95.2176 241.909,95.2176 241.909,302.578 \"/>\n",
       "<circle clip-path=\"url(#clip930)\" cx=\"338.96\" cy=\"147.058\" r=\"23.04\" fill=\"#009af9\" fill-rule=\"evenodd\" fill-opacity=\"1\" stroke=\"#000000\" stroke-opacity=\"1\" stroke-width=\"5.12\"/>\n",
       "<path clip-path=\"url(#clip930)\" d=\"M447.908 141.398 Q444.482 141.398 442.491 144.083 Q440.501 146.745 440.501 151.398 Q440.501 156.051 442.468 158.736 Q444.459 161.398 447.908 161.398 Q451.311 161.398 453.302 158.713 Q455.292 156.027 455.292 151.398 Q455.292 146.791 453.302 144.106 Q451.311 141.398 447.908 141.398 M447.908 137.787 Q453.464 137.787 456.635 141.398 Q459.806 145.009 459.806 151.398 Q459.806 157.764 456.635 161.398 Q453.464 165.009 447.908 165.009 Q442.329 165.009 439.158 161.398 Q436.01 157.764 436.01 151.398 Q436.01 145.009 439.158 141.398 Q442.329 137.787 447.908 137.787 Z\" fill=\"#000000\" fill-rule=\"evenodd\" fill-opacity=\"1\" /><path clip-path=\"url(#clip930)\" d=\"M485.477 151.398 Q485.477 146.699 483.533 144.037 Q481.612 141.352 478.232 141.352 Q474.852 141.352 472.908 144.037 Q470.987 146.699 470.987 151.398 Q470.987 156.097 472.908 158.782 Q474.852 161.444 478.232 161.444 Q481.612 161.444 483.533 158.782 Q485.477 156.097 485.477 151.398 M470.987 142.347 Q472.329 140.032 474.366 138.921 Q476.426 137.787 479.274 137.787 Q483.996 137.787 486.936 141.537 Q489.899 145.287 489.899 151.398 Q489.899 157.509 486.936 161.259 Q483.996 165.009 479.274 165.009 Q476.426 165.009 474.366 163.898 Q472.329 162.763 470.987 160.449 L470.987 164.338 L466.704 164.338 L466.704 128.319 L470.987 128.319 L470.987 142.347 Z\" fill=\"#000000\" fill-rule=\"evenodd\" fill-opacity=\"1\" /><path clip-path=\"url(#clip930)\" d=\"M513.486 139.176 L513.486 143.203 Q511.681 142.277 509.736 141.815 Q507.792 141.352 505.709 141.352 Q502.537 141.352 500.94 142.324 Q499.366 143.296 499.366 145.24 Q499.366 146.722 500.5 147.578 Q501.635 148.412 505.061 149.176 L506.519 149.5 Q511.056 150.472 512.954 152.254 Q514.875 154.014 514.875 157.185 Q514.875 160.796 512.005 162.902 Q509.158 165.009 504.158 165.009 Q502.074 165.009 499.806 164.592 Q497.561 164.199 495.061 163.388 L495.061 158.99 Q497.422 160.217 499.713 160.842 Q502.005 161.444 504.25 161.444 Q507.26 161.444 508.88 160.426 Q510.5 159.384 510.5 157.509 Q510.5 155.773 509.32 154.847 Q508.162 153.921 504.204 153.064 L502.723 152.717 Q498.764 151.884 497.005 150.171 Q495.246 148.435 495.246 145.426 Q495.246 141.768 497.838 139.778 Q500.431 137.787 505.199 137.787 Q507.561 137.787 509.644 138.134 Q511.727 138.481 513.486 139.176 Z\" fill=\"#000000\" fill-rule=\"evenodd\" fill-opacity=\"1\" /><path clip-path=\"url(#clip930)\" d=\"M543.833 150.31 L543.833 152.393 L524.25 152.393 Q524.528 156.791 526.889 159.106 Q529.273 161.398 533.509 161.398 Q535.963 161.398 538.255 160.796 Q540.57 160.194 542.838 158.99 L542.838 163.018 Q540.546 163.99 538.139 164.5 Q535.732 165.009 533.255 165.009 Q527.051 165.009 523.417 161.398 Q519.806 157.787 519.806 151.629 Q519.806 145.264 523.232 141.537 Q526.681 137.787 532.514 137.787 Q537.746 137.787 540.778 141.166 Q543.833 144.523 543.833 150.31 M539.574 149.06 Q539.528 145.565 537.607 143.481 Q535.709 141.398 532.56 141.398 Q528.996 141.398 526.843 143.412 Q524.713 145.426 524.389 149.083 L539.574 149.06 Z\" fill=\"#000000\" fill-rule=\"evenodd\" fill-opacity=\"1\" /><path clip-path=\"url(#clip930)\" d=\"M565.847 142.393 Q565.13 141.977 564.273 141.791 Q563.44 141.583 562.421 141.583 Q558.81 141.583 556.866 143.944 Q554.945 146.282 554.945 150.68 L554.945 164.338 L550.662 164.338 L550.662 138.412 L554.945 138.412 L554.945 142.44 Q556.287 140.078 558.44 138.944 Q560.593 137.787 563.671 137.787 Q564.111 137.787 564.644 137.856 Q565.176 137.903 565.824 138.018 L565.847 142.393 Z\" fill=\"#000000\" fill-rule=\"evenodd\" fill-opacity=\"1\" /><path clip-path=\"url(#clip930)\" d=\"M567.259 138.412 L571.773 138.412 L579.875 160.171 L587.977 138.412 L592.491 138.412 L582.768 164.338 L576.981 164.338 L567.259 138.412 Z\" fill=\"#000000\" fill-rule=\"evenodd\" fill-opacity=\"1\" /><path clip-path=\"url(#clip930)\" d=\"M620.546 150.31 L620.546 152.393 L600.963 152.393 Q601.241 156.791 603.602 159.106 Q605.986 161.398 610.222 161.398 Q612.676 161.398 614.967 160.796 Q617.282 160.194 619.551 158.99 L619.551 163.018 Q617.259 163.99 614.852 164.5 Q612.444 165.009 609.967 165.009 Q603.764 165.009 600.129 161.398 Q596.518 157.787 596.518 151.629 Q596.518 145.264 599.944 141.537 Q603.393 137.787 609.227 137.787 Q614.458 137.787 617.49 141.166 Q620.546 144.523 620.546 150.31 M616.287 149.06 Q616.241 145.565 614.319 143.481 Q612.421 141.398 609.273 141.398 Q605.708 141.398 603.555 143.412 Q601.426 145.426 601.102 149.083 L616.287 149.06 Z\" fill=\"#000000\" fill-rule=\"evenodd\" fill-opacity=\"1\" /><path clip-path=\"url(#clip930)\" d=\"M644.597 142.347 L644.597 128.319 L648.856 128.319 L648.856 164.338 L644.597 164.338 L644.597 160.449 Q643.254 162.763 641.194 163.898 Q639.157 165.009 636.287 165.009 Q631.588 165.009 628.625 161.259 Q625.685 157.509 625.685 151.398 Q625.685 145.287 628.625 141.537 Q631.588 137.787 636.287 137.787 Q639.157 137.787 641.194 138.921 Q643.254 140.032 644.597 142.347 M630.083 151.398 Q630.083 156.097 632.004 158.782 Q633.949 161.444 637.328 161.444 Q640.708 161.444 642.652 158.782 Q644.597 156.097 644.597 151.398 Q644.597 146.699 642.652 144.037 Q640.708 141.352 637.328 141.352 Q633.949 141.352 632.004 144.037 Q630.083 146.699 630.083 151.398 Z\" fill=\"#000000\" fill-rule=\"evenodd\" fill-opacity=\"1\" /><polyline clip-path=\"url(#clip930)\" style=\"stroke:#e26f46; stroke-linecap:round; stroke-linejoin:round; stroke-width:4; stroke-opacity:1; fill:none\" points=\"266.172,198.898 411.747,198.898 \"/>\n",
       "<path clip-path=\"url(#clip930)\" d=\"M443.417 182.891 L443.417 190.252 L452.19 190.252 L452.19 193.562 L443.417 193.562 L443.417 207.636 Q443.417 210.807 444.274 211.71 Q445.153 212.613 447.815 212.613 L452.19 212.613 L452.19 216.178 L447.815 216.178 Q442.885 216.178 441.01 214.349 Q439.135 212.497 439.135 207.636 L439.135 193.562 L436.01 193.562 L436.01 190.252 L439.135 190.252 L439.135 182.891 L443.417 182.891 Z\" fill=\"#000000\" fill-rule=\"evenodd\" fill-opacity=\"1\" /><path clip-path=\"url(#clip930)\" d=\"M472.815 194.233 Q472.098 193.817 471.241 193.631 Q470.408 193.423 469.389 193.423 Q465.778 193.423 463.834 195.784 Q461.913 198.122 461.913 202.52 L461.913 216.178 L457.63 216.178 L457.63 190.252 L461.913 190.252 L461.913 194.28 Q463.255 191.918 465.408 190.784 Q467.561 189.627 470.639 189.627 Q471.079 189.627 471.612 189.696 Q472.144 189.743 472.792 189.858 L472.815 194.233 Z\" fill=\"#000000\" fill-rule=\"evenodd\" fill-opacity=\"1\" /><path clip-path=\"url(#clip930)\" d=\"M476.843 205.946 L476.843 190.252 L481.102 190.252 L481.102 205.784 Q481.102 209.465 482.538 211.316 Q483.973 213.145 486.843 213.145 Q490.292 213.145 492.283 210.946 Q494.297 208.747 494.297 204.951 L494.297 190.252 L498.556 190.252 L498.556 216.178 L494.297 216.178 L494.297 212.196 Q492.746 214.557 490.686 215.715 Q488.649 216.849 485.94 216.849 Q481.473 216.849 479.158 214.071 Q476.843 211.293 476.843 205.946 M487.561 189.627 L487.561 189.627 Z\" fill=\"#000000\" fill-rule=\"evenodd\" fill-opacity=\"1\" /><path clip-path=\"url(#clip930)\" d=\"M529.505 202.15 L529.505 204.233 L509.922 204.233 Q510.199 208.631 512.561 210.946 Q514.945 213.238 519.181 213.238 Q521.635 213.238 523.926 212.636 Q526.241 212.034 528.509 210.83 L528.509 214.858 Q526.218 215.83 523.81 216.34 Q521.403 216.849 518.926 216.849 Q512.723 216.849 509.088 213.238 Q505.477 209.627 505.477 203.469 Q505.477 197.104 508.903 193.377 Q512.352 189.627 518.185 189.627 Q523.417 189.627 526.449 193.006 Q529.505 196.363 529.505 202.15 M525.246 200.9 Q525.199 197.405 523.278 195.321 Q521.38 193.238 518.232 193.238 Q514.667 193.238 512.514 195.252 Q510.385 197.266 510.061 200.923 L525.246 200.9 Z\" fill=\"#000000\" fill-rule=\"evenodd\" fill-opacity=\"1\" /><polyline clip-path=\"url(#clip930)\" style=\"stroke:#3da44d; stroke-linecap:round; stroke-linejoin:round; stroke-width:4; stroke-opacity:1; fill:none\" points=\"266.172,250.738 411.747,250.738 \"/>\n",
       "<path clip-path=\"url(#clip930)\" d=\"M440.292 264.129 L440.292 277.879 L436.01 277.879 L436.01 242.092 L440.292 242.092 L440.292 246.027 Q441.635 243.712 443.672 242.601 Q445.732 241.467 448.579 241.467 Q453.302 241.467 456.241 245.217 Q459.204 248.967 459.204 255.078 Q459.204 261.189 456.241 264.939 Q453.302 268.689 448.579 268.689 Q445.732 268.689 443.672 267.578 Q441.635 266.443 440.292 264.129 M454.783 255.078 Q454.783 250.379 452.839 247.717 Q450.917 245.032 447.538 245.032 Q444.158 245.032 442.214 247.717 Q440.292 250.379 440.292 255.078 Q440.292 259.777 442.214 262.462 Q444.158 265.124 447.538 265.124 Q450.917 265.124 452.839 262.462 Q454.783 259.777 454.783 255.078 Z\" fill=\"#000000\" fill-rule=\"evenodd\" fill-opacity=\"1\" /><path clip-path=\"url(#clip930)\" d=\"M476.311 245.078 Q472.885 245.078 470.894 247.763 Q468.903 250.425 468.903 255.078 Q468.903 259.731 470.871 262.416 Q472.862 265.078 476.311 265.078 Q479.713 265.078 481.704 262.393 Q483.695 259.707 483.695 255.078 Q483.695 250.471 481.704 247.786 Q479.713 245.078 476.311 245.078 M476.311 241.467 Q481.866 241.467 485.038 245.078 Q488.209 248.689 488.209 255.078 Q488.209 261.444 485.038 265.078 Q481.866 268.689 476.311 268.689 Q470.732 268.689 467.561 265.078 Q464.413 261.444 464.413 255.078 Q464.413 248.689 467.561 245.078 Q470.732 241.467 476.311 241.467 Z\" fill=\"#000000\" fill-rule=\"evenodd\" fill-opacity=\"1\" /><path clip-path=\"url(#clip930)\" d=\"M495.269 231.999 L499.528 231.999 L499.528 268.018 L495.269 268.018 L495.269 231.999 Z\" fill=\"#000000\" fill-rule=\"evenodd\" fill-opacity=\"1\" /><path clip-path=\"url(#clip930)\" d=\"M519.227 270.425 Q517.422 275.055 515.709 276.467 Q513.996 277.879 511.125 277.879 L507.723 277.879 L507.723 274.314 L510.223 274.314 Q511.982 274.314 512.954 273.48 Q513.926 272.647 515.107 269.545 L515.871 267.601 L505.385 242.092 L509.898 242.092 L518 262.369 L526.102 242.092 L530.616 242.092 L519.227 270.425 Z\" fill=\"#000000\" fill-rule=\"evenodd\" fill-opacity=\"1\" /><path clip-path=\"url(#clip930)\" d=\"M549.62 231.999 L549.62 235.541 L545.546 235.541 Q543.255 235.541 542.352 236.467 Q541.472 237.393 541.472 239.8 L541.472 242.092 L548.486 242.092 L548.486 245.402 L541.472 245.402 L541.472 268.018 L537.19 268.018 L537.19 245.402 L533.116 245.402 L533.116 242.092 L537.19 242.092 L537.19 240.286 Q537.19 235.958 539.204 233.99 Q541.218 231.999 545.593 231.999 L549.62 231.999 Z\" fill=\"#000000\" fill-rule=\"evenodd\" fill-opacity=\"1\" /><path clip-path=\"url(#clip930)\" d=\"M553.185 242.092 L557.445 242.092 L557.445 268.018 L553.185 268.018 L553.185 242.092 M553.185 231.999 L557.445 231.999 L557.445 237.393 L553.185 237.393 L553.185 231.999 Z\" fill=\"#000000\" fill-rule=\"evenodd\" fill-opacity=\"1\" /><path clip-path=\"url(#clip930)\" d=\"M570.569 234.731 L570.569 242.092 L579.343 242.092 L579.343 245.402 L570.569 245.402 L570.569 259.476 Q570.569 262.647 571.426 263.55 Q572.306 264.453 574.968 264.453 L579.343 264.453 L579.343 268.018 L574.968 268.018 Q570.037 268.018 568.162 266.189 Q566.287 264.337 566.287 259.476 L566.287 245.402 L563.162 245.402 L563.162 242.092 L566.287 242.092 L566.287 234.731 L570.569 234.731 Z\" fill=\"#000000\" fill-rule=\"evenodd\" fill-opacity=\"1\" /></svg>\n"
      ]
     },
     "execution_count": 31,
     "metadata": {},
     "output_type": "execute_result"
    }
   ],
   "source": [
    "scatter(x,y_observed, label = \"observed\")\n",
    "plot!(x,y_true, label = \"true\")\n",
    "poly_fit = fit(x_fit,y_fit_observed,10) \n",
    "y_poly_fit = poly_fit.(x_fit)\n",
    "plot!(x_fit,y_poly_fit, label = \"polyfit\")"
   ]
  },
  {
   "cell_type": "markdown",
   "id": "bbcb4ef4",
   "metadata": {},
   "source": [
    "3. What do you observe in the plot? What is this phenomenon called?"
   ]
  },
  {
   "cell_type": "markdown",
   "id": "49a085b1",
   "metadata": {},
   "source": [
    "The tenth order polynomial fit and x_fit appear to match perfectly despite the additional guassian noise. This is because x_fit uses many more equidistant data points than x, and the tenth order polynomial fit oscillates much more causing them to match frequently and appear to correlate. This is called Runger's phenomenon."
   ]
  }
 ],
 "metadata": {
  "kernelspec": {
   "display_name": "Julia 1.8.5",
   "language": "julia",
   "name": "julia-1.8"
  },
  "language_info": {
   "file_extension": ".jl",
   "mimetype": "application/julia",
   "name": "julia",
   "version": "1.8.5"
  }
 },
 "nbformat": 4,
 "nbformat_minor": 5
}
