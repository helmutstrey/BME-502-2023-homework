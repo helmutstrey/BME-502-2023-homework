{
 "cells": [
  {
   "cell_type": "markdown",
   "id": "1fbe377b",
   "metadata": {},
   "source": [
    "<h1>HW3</h1>"
   ]
  },
  {
   "cell_type": "markdown",
   "id": "79813e24",
   "metadata": {},
   "source": [
    "# Question 1\n",
    "### (Bayes Theorem) Read the following example and complete the exercises \n",
    "\n",
    "Trolls Under the Bridge\n",
    "1. Trolls(T) are bad\n",
    "2. Gnomes(G) are benign\n",
    "3. Every bridge has 5 creatures under it\n",
    "\n",
    "Below are the probabilities of what creatures live under a bridge:\n",
    "1. TTGGG: 20% (E1)\n",
    "2. TGGGG: 20% (E2)\n",
    "3. GGGGG: 60% (E3)\n",
    "\n",
    "A knight is approaching a bridge and he wants to know his chance of crossing the bridge safely."
   ]
  },
  {
   "cell_type": "markdown",
   "id": "425f8583",
   "metadata": {},
   "source": [
    "### 1.1 \n",
    "\n",
    "#### What is the chance of the knight crossing the bridge safely?\n"
   ]
  },
  {
   "cell_type": "markdown",
   "id": "40b4013b",
   "metadata": {},
   "source": [
    "There is a 60% chance that the knight crosses the bridge safely. This is because E1 and E2, cumulatively having 40% of encoutering, both specify having trolls. E3 does not have any trolls and would ensure the knight's safety. Therefore, the knight has a 60% of crossing the bridge safely."
   ]
  },
  {
   "cell_type": "markdown",
   "id": "61f687e4",
   "metadata": {},
   "source": [
    "### 1.2\n",
    "\n",
    "#### Before crossing a bridge, a knight captures a troll. “I now have an 80% chance of crossing safely,” he reasons, “since only the case 20% had TTGGG (E1) now have TGGG is still a threat.”\n",
    "\n",
    "#### Do you agree with him? Why?"
   ]
  },
  {
   "cell_type": "markdown",
   "id": "09025213",
   "metadata": {},
   "source": [
    "I do not agree with the knight because the capturing of a troll renomalizes the possibilities of him crossing safely. This removes the possibility of Bridge three when considering cases where he would be hit by a troll. This leaves us to consider E1 and E2. Cumulatively, there are three trolls that exist on these two possibilities of what creatures live under the bridge. By this logic, the knight has possibilities to get hit on these two bridges by one of these three trolls. He has a 2/3 possibility of being hit by a troll and 1/3 possibility of crossing safely."
   ]
  },
  {
   "cell_type": "markdown",
   "id": "c1533b67",
   "metadata": {},
   "source": [
    "### 1.3\n",
    "\n",
    "#### Now he wants to use Bayes' theorem to calculate his chance of crossing safely given a troll captured \n",
    "\n",
    "\\begin{equation*}\n",
    "P(A|B) = \\frac{P(B|A)P(A)}{P(B)} \\\\\n",
    "P(A|B): Posteior \\\\\n",
    "P(B|A): Likelihood \\\\\n",
    "P(A): Prior \\\\\n",
    "P(B): Marginal Probability \\\\\n",
    "\\end{equation*}\n",
    "\n",
    "#### Given the three events, E1, E2, and E3, under which two events the knight cannot cross safely after a troll was captured?"
   ]
  },
  {
   "cell_type": "markdown",
   "id": "0adb7f0a",
   "metadata": {},
   "source": [
    "The knight will not be able to cross safely in events E1 and E2 once a troll is captured."
   ]
  },
  {
   "cell_type": "markdown",
   "id": "e45e8fa6",
   "metadata": {},
   "source": [
    "### 1.4\n",
    "\n",
    "#### Use Bayes' theorem to calculate the probability of the two events in 1.3 (separately) given the troll was captured. "
   ]
  },
  {
   "cell_type": "markdown",
   "id": "5d9c3c0b",
   "metadata": {},
   "source": [
    "Probability of one event given a troll captured: "
   ]
  },
  {
   "cell_type": "code",
   "execution_count": 2,
   "id": "f2f0e7c8",
   "metadata": {},
   "outputs": [
    {
     "data": {
      "text/plain": [
       "0.6666666666666666"
      ]
     },
     "execution_count": 2,
     "metadata": {},
     "output_type": "execute_result"
    }
   ],
   "source": [
    "#P(E1|T) - Probability E1 occurs given a troll was captured\n",
    "#P(T|E1) = 2/5, P(E1) = 1/5, P(T) - consider possibilities for all events\n",
    "#P(T) = P(T|E1) + P(T|E2) + P(T|E3)\n",
    "\n",
    "#P(E1|T) = (P(T|E1)P(E1) / P(T)) \n",
    "#P(E1|T) = ((2/5)*(1/5)) / (((2/5)*(1/5)) + ((1/5)*(1/5)) + ((0)*(3/5)))\n",
    "E1Troll = ((2/5)*(1/5)) / (((2/5)*(1/5)) + ((1/5)*(1/5)) + ((0)*(3/5)))"
   ]
  },
  {
   "cell_type": "markdown",
   "id": "37843aee",
   "metadata": {},
   "source": [
    "Probability of the other event given a troll captured: "
   ]
  },
  {
   "cell_type": "code",
   "execution_count": 3,
   "id": "5db10bc7",
   "metadata": {},
   "outputs": [
    {
     "data": {
      "text/plain": [
       "0.3333333333333333"
      ]
     },
     "execution_count": 3,
     "metadata": {},
     "output_type": "execute_result"
    }
   ],
   "source": [
    "#P(E2|T) - Probability E2 occurs given a troll was captured\n",
    "#P(T|E2) = 1/5, P(E1) = 1/5, P(T) - consider possibilities for all events\n",
    "#P(T) = P(T|E1) + P(T|E2) + P(T|E3)\n",
    "\n",
    "\n",
    "#P(E2|T) = P(T|E2)P(E2) / P(T)\n",
    "#P(E2|T) = ((1/5)*(1/5))/ (((2/5)*(1/5)) + ((1/5)*(1/5)) + ((0)*(3/5)))\n",
    "E2Troll = ((1/5)*(1/5))/ (((2/5)*(1/5)) + ((1/5)*(1/5)) + ((0)*(3/5)))"
   ]
  },
  {
   "cell_type": "markdown",
   "id": "f3b7f049",
   "metadata": {},
   "source": [
    "### 1.5\n",
    "\n",
    "#### What is the chance of the knight crossing safely?"
   ]
  },
  {
   "cell_type": "code",
   "execution_count": 5,
   "id": "0f6fd73b",
   "metadata": {},
   "outputs": [
    {
     "data": {
      "text/plain": [
       "0.3333333333333333"
      ]
     },
     "execution_count": 5,
     "metadata": {},
     "output_type": "execute_result"
    }
   ],
   "source": [
    "SafePassage = 1 - E1Troll\n",
    "SafePassage = E2Troll"
   ]
  },
  {
   "cell_type": "markdown",
   "id": "7b815ae0",
   "metadata": {},
   "source": [
    "#### Now looking back to 1.1, the probabilities were changed after assimilating data! "
   ]
  },
  {
   "cell_type": "markdown",
   "id": "f1450094",
   "metadata": {},
   "source": [
    "# Question 2\n",
    "### (Polynomial Fitting) Read the following example and complete the exercises \n",
    "\n",
    "Biological data always comes with errors that influence the intepretation of the data significantly. In this question, we will simulate data and see how noises affect the parameter estimation."
   ]
  },
  {
   "cell_type": "code",
   "execution_count": 6,
   "id": "c20822fa",
   "metadata": {},
   "outputs": [
    {
     "name": "stderr",
     "output_type": "stream",
     "text": [
      "\u001b[32m\u001b[1m    Updating\u001b[22m\u001b[39m registry at `C:\\Users\\slee4\\.julia\\registries\\General.toml`\n",
      "\u001b[32m\u001b[1m   Resolving\u001b[22m\u001b[39m package versions...\n",
      "\u001b[32m\u001b[1m  No Changes\u001b[22m\u001b[39m to `C:\\Users\\slee4\\.julia\\environments\\v1.8\\Project.toml`\n",
      "\u001b[32m\u001b[1m  No Changes\u001b[22m\u001b[39m to `C:\\Users\\slee4\\.julia\\environments\\v1.8\\Manifest.toml`\n"
     ]
    }
   ],
   "source": [
    "import Pkg\n",
    "Pkg.add([\"Distributions\", \"Plots\", \"Polynomials\", \"Random\"])\n",
    "\n",
    "import Distributions as di\n",
    "using Plots\n",
    "import Polynomials: Polynomial, fit, coeffs\n",
    "import Random"
   ]
  },
  {
   "cell_type": "markdown",
   "id": "a90dd09d",
   "metadata": {},
   "source": [
    "### 2.1\n",
    "\n",
    "1. Generate the independent variable x ranging from -10 to 10 with an increment of 1\n",
    "2. Generate the dependent variable y_true using the equation y_true = x^2 + 3x - 2\n"
   ]
  },
  {
   "cell_type": "code",
   "execution_count": 7,
   "id": "6b0b33c5",
   "metadata": {},
   "outputs": [
    {
     "data": {
      "text/plain": [
       "21-element Vector{Int64}:\n",
       "  68\n",
       "  52\n",
       "  38\n",
       "  26\n",
       "  16\n",
       "   8\n",
       "   2\n",
       "  -2\n",
       "  -4\n",
       "  -4\n",
       "  -2\n",
       "   2\n",
       "   8\n",
       "  16\n",
       "  26\n",
       "  38\n",
       "  52\n",
       "  68\n",
       "  86\n",
       " 106\n",
       " 128"
      ]
     },
     "execution_count": 7,
     "metadata": {},
     "output_type": "execute_result"
    }
   ],
   "source": [
    "x = -10:1:10\n",
    "y_true = (x .^ 2) .+ (3 .* x) .- 2"
   ]
  },
  {
   "cell_type": "markdown",
   "id": "74d2a191",
   "metadata": {},
   "source": [
    "### 2.2\n",
    "\n",
    "1. Generate the Guassian noises with zero mean and a standard deviation of 10\n",
    "\n",
    "2. Add the noises to y_true to obtain y_observed\n"
   ]
  },
  {
   "cell_type": "code",
   "execution_count": 8,
   "id": "7936417a",
   "metadata": {},
   "outputs": [
    {
     "data": {
      "text/plain": [
       "21-element Vector{Float64}:\n",
       "  58.83530013626567\n",
       "  54.78044857212035\n",
       "  63.428932922379005\n",
       "  22.992803651614675\n",
       "  23.43169155430963\n",
       "   1.09523246492458\n",
       "   3.381381330530159\n",
       "   4.1130002772431435\n",
       "  -5.980881151133021\n",
       "  -2.860337404113742\n",
       "   6.012799939394091\n",
       "  14.907394907952924\n",
       "   5.144096750324707\n",
       "  17.368443943947963\n",
       "  42.373896094296114\n",
       "  30.565551783369795\n",
       "  56.301158983164164\n",
       "  63.30385588100048\n",
       " 101.03215686187751\n",
       " 110.76980132841253\n",
       " 139.61343407217345"
      ]
     },
     "execution_count": 8,
     "metadata": {},
     "output_type": "execute_result"
    }
   ],
   "source": [
    "d = di.Normal(0, 10)\n",
    "y_observed = y_true .+ rand(d,length(x))"
   ]
  },
  {
   "cell_type": "markdown",
   "id": "ecf2e554",
   "metadata": {},
   "source": [
    "### 2.3\n",
    "\n",
    "#### Fit the data (x, y_observed) with a second order polynomial. \n",
    "\n",
    "1. Make a scatter plot of y_observed along x\n",
    "2. Plot a line of y_true along x on the scatter plot\n",
    "3. Plot a line of the fitted polynomial along x on the same plot"
   ]
  },
  {
   "cell_type": "code",
   "execution_count": 9,
   "id": "d39a136b",
   "metadata": {},
   "outputs": [
    {
     "data": {
      "image/svg+xml": [
       "<?xml version=\"1.0\" encoding=\"utf-8\"?>\n",
       "<svg xmlns=\"http://www.w3.org/2000/svg\" xmlns:xlink=\"http://www.w3.org/1999/xlink\" width=\"600\" height=\"400\" viewBox=\"0 0 2400 1600\">\n",
       "<defs>\n",
       "  <clipPath id=\"clip690\">\n",
       "    <rect x=\"0\" y=\"0\" width=\"2400\" height=\"1600\"/>\n",
       "  </clipPath>\n",
       "</defs>\n",
       "<path clip-path=\"url(#clip690)\" d=\"M0 1600 L2400 1600 L2400 0 L0 0  Z\" fill=\"#ffffff\" fill-rule=\"evenodd\" fill-opacity=\"1\"/>\n",
       "<defs>\n",
       "  <clipPath id=\"clip691\">\n",
       "    <rect x=\"480\" y=\"0\" width=\"1681\" height=\"1600\"/>\n",
       "  </clipPath>\n",
       "</defs>\n",
       "<path clip-path=\"url(#clip690)\" d=\"M169.121 1486.45 L2352.76 1486.45 L2352.76 47.2441 L169.121 47.2441  Z\" fill=\"#ffffff\" fill-rule=\"evenodd\" fill-opacity=\"1\"/>\n",
       "<defs>\n",
       "  <clipPath id=\"clip692\">\n",
       "    <rect x=\"169\" y=\"47\" width=\"2185\" height=\"1440\"/>\n",
       "  </clipPath>\n",
       "</defs>\n",
       "<polyline clip-path=\"url(#clip692)\" style=\"stroke:#000000; stroke-linecap:round; stroke-linejoin:round; stroke-width:2; stroke-opacity:0.1; fill:none\" points=\"230.922,1486.45 230.922,47.2441 \"/>\n",
       "<polyline clip-path=\"url(#clip692)\" style=\"stroke:#000000; stroke-linecap:round; stroke-linejoin:round; stroke-width:2; stroke-opacity:0.1; fill:none\" points=\"745.93,1486.45 745.93,47.2441 \"/>\n",
       "<polyline clip-path=\"url(#clip692)\" style=\"stroke:#000000; stroke-linecap:round; stroke-linejoin:round; stroke-width:2; stroke-opacity:0.1; fill:none\" points=\"1260.94,1486.45 1260.94,47.2441 \"/>\n",
       "<polyline clip-path=\"url(#clip692)\" style=\"stroke:#000000; stroke-linecap:round; stroke-linejoin:round; stroke-width:2; stroke-opacity:0.1; fill:none\" points=\"1775.95,1486.45 1775.95,47.2441 \"/>\n",
       "<polyline clip-path=\"url(#clip692)\" style=\"stroke:#000000; stroke-linecap:round; stroke-linejoin:round; stroke-width:2; stroke-opacity:0.1; fill:none\" points=\"2290.95,1486.45 2290.95,47.2441 \"/>\n",
       "<polyline clip-path=\"url(#clip690)\" style=\"stroke:#000000; stroke-linecap:round; stroke-linejoin:round; stroke-width:4; stroke-opacity:1; fill:none\" points=\"169.121,1486.45 2352.76,1486.45 \"/>\n",
       "<polyline clip-path=\"url(#clip690)\" style=\"stroke:#000000; stroke-linecap:round; stroke-linejoin:round; stroke-width:4; stroke-opacity:1; fill:none\" points=\"230.922,1486.45 230.922,1467.55 \"/>\n",
       "<polyline clip-path=\"url(#clip690)\" style=\"stroke:#000000; stroke-linecap:round; stroke-linejoin:round; stroke-width:4; stroke-opacity:1; fill:none\" points=\"745.93,1486.45 745.93,1467.55 \"/>\n",
       "<polyline clip-path=\"url(#clip690)\" style=\"stroke:#000000; stroke-linecap:round; stroke-linejoin:round; stroke-width:4; stroke-opacity:1; fill:none\" points=\"1260.94,1486.45 1260.94,1467.55 \"/>\n",
       "<polyline clip-path=\"url(#clip690)\" style=\"stroke:#000000; stroke-linecap:round; stroke-linejoin:round; stroke-width:4; stroke-opacity:1; fill:none\" points=\"1775.95,1486.45 1775.95,1467.55 \"/>\n",
       "<polyline clip-path=\"url(#clip690)\" style=\"stroke:#000000; stroke-linecap:round; stroke-linejoin:round; stroke-width:4; stroke-opacity:1; fill:none\" points=\"2290.95,1486.45 2290.95,1467.55 \"/>\n",
       "<path clip-path=\"url(#clip690)\" d=\"M184.985 1532.02 L214.661 1532.02 L214.661 1535.95 L184.985 1535.95 L184.985 1532.02 Z\" fill=\"#000000\" fill-rule=\"evenodd\" fill-opacity=\"1\" /><path clip-path=\"url(#clip690)\" d=\"M225.564 1544.91 L233.202 1544.91 L233.202 1518.55 L224.892 1520.21 L224.892 1515.95 L233.156 1514.29 L237.832 1514.29 L237.832 1544.91 L245.471 1544.91 L245.471 1548.85 L225.564 1548.85 L225.564 1544.91 Z\" fill=\"#000000\" fill-rule=\"evenodd\" fill-opacity=\"1\" /><path clip-path=\"url(#clip690)\" d=\"M264.915 1517.37 Q261.304 1517.37 259.475 1520.93 Q257.67 1524.47 257.67 1531.6 Q257.67 1538.71 259.475 1542.27 Q261.304 1545.82 264.915 1545.82 Q268.549 1545.82 270.355 1542.27 Q272.184 1538.71 272.184 1531.6 Q272.184 1524.47 270.355 1520.93 Q268.549 1517.37 264.915 1517.37 M264.915 1513.66 Q270.725 1513.66 273.781 1518.27 Q276.86 1522.85 276.86 1531.6 Q276.86 1540.33 273.781 1544.94 Q270.725 1549.52 264.915 1549.52 Q259.105 1549.52 256.026 1544.94 Q252.971 1540.33 252.971 1531.6 Q252.971 1522.85 256.026 1518.27 Q259.105 1513.66 264.915 1513.66 Z\" fill=\"#000000\" fill-rule=\"evenodd\" fill-opacity=\"1\" /><path clip-path=\"url(#clip690)\" d=\"M715.572 1532.02 L745.248 1532.02 L745.248 1535.95 L715.572 1535.95 L715.572 1532.02 Z\" fill=\"#000000\" fill-rule=\"evenodd\" fill-opacity=\"1\" /><path clip-path=\"url(#clip690)\" d=\"M755.386 1514.29 L773.743 1514.29 L773.743 1518.22 L759.669 1518.22 L759.669 1526.7 Q760.687 1526.35 761.706 1526.19 Q762.724 1526 763.743 1526 Q769.53 1526 772.909 1529.17 Q776.289 1532.34 776.289 1537.76 Q776.289 1543.34 772.817 1546.44 Q769.345 1549.52 763.025 1549.52 Q760.849 1549.52 758.581 1549.15 Q756.335 1548.78 753.928 1548.04 L753.928 1543.34 Q756.011 1544.47 758.234 1545.03 Q760.456 1545.58 762.933 1545.58 Q766.937 1545.58 769.275 1543.48 Q771.613 1541.37 771.613 1537.76 Q771.613 1534.15 769.275 1532.04 Q766.937 1529.94 762.933 1529.94 Q761.058 1529.94 759.183 1530.35 Q757.331 1530.77 755.386 1531.65 L755.386 1514.29 Z\" fill=\"#000000\" fill-rule=\"evenodd\" fill-opacity=\"1\" /><path clip-path=\"url(#clip690)\" d=\"M1260.94 1517.37 Q1257.33 1517.37 1255.5 1520.93 Q1253.69 1524.47 1253.69 1531.6 Q1253.69 1538.71 1255.5 1542.27 Q1257.33 1545.82 1260.94 1545.82 Q1264.57 1545.82 1266.38 1542.27 Q1268.21 1538.71 1268.21 1531.6 Q1268.21 1524.47 1266.38 1520.93 Q1264.57 1517.37 1260.94 1517.37 M1260.94 1513.66 Q1266.75 1513.66 1269.8 1518.27 Q1272.88 1522.85 1272.88 1531.6 Q1272.88 1540.33 1269.8 1544.94 Q1266.75 1549.52 1260.94 1549.52 Q1255.13 1549.52 1252.05 1544.94 Q1248.99 1540.33 1248.99 1531.6 Q1248.99 1522.85 1252.05 1518.27 Q1255.13 1513.66 1260.94 1513.66 Z\" fill=\"#000000\" fill-rule=\"evenodd\" fill-opacity=\"1\" /><path clip-path=\"url(#clip690)\" d=\"M1766.22 1514.29 L1784.58 1514.29 L1784.58 1518.22 L1770.51 1518.22 L1770.51 1526.7 Q1771.53 1526.35 1772.54 1526.19 Q1773.56 1526 1774.58 1526 Q1780.37 1526 1783.75 1529.17 Q1787.13 1532.34 1787.13 1537.76 Q1787.13 1543.34 1783.66 1546.44 Q1780.18 1549.52 1773.86 1549.52 Q1771.69 1549.52 1769.42 1549.15 Q1767.17 1548.78 1764.77 1548.04 L1764.77 1543.34 Q1766.85 1544.47 1769.07 1545.03 Q1771.29 1545.58 1773.77 1545.58 Q1777.78 1545.58 1780.11 1543.48 Q1782.45 1541.37 1782.45 1537.76 Q1782.45 1534.15 1780.11 1532.04 Q1777.78 1529.94 1773.77 1529.94 Q1771.9 1529.94 1770.02 1530.35 Q1768.17 1530.77 1766.22 1531.65 L1766.22 1514.29 Z\" fill=\"#000000\" fill-rule=\"evenodd\" fill-opacity=\"1\" /><path clip-path=\"url(#clip690)\" d=\"M2265.64 1544.91 L2273.28 1544.91 L2273.28 1518.55 L2264.97 1520.21 L2264.97 1515.95 L2273.24 1514.29 L2277.91 1514.29 L2277.91 1544.91 L2285.55 1544.91 L2285.55 1548.85 L2265.64 1548.85 L2265.64 1544.91 Z\" fill=\"#000000\" fill-rule=\"evenodd\" fill-opacity=\"1\" /><path clip-path=\"url(#clip690)\" d=\"M2304.99 1517.37 Q2301.38 1517.37 2299.55 1520.93 Q2297.75 1524.47 2297.75 1531.6 Q2297.75 1538.71 2299.55 1542.27 Q2301.38 1545.82 2304.99 1545.82 Q2308.63 1545.82 2310.43 1542.27 Q2312.26 1538.71 2312.26 1531.6 Q2312.26 1524.47 2310.43 1520.93 Q2308.63 1517.37 2304.99 1517.37 M2304.99 1513.66 Q2310.8 1513.66 2313.86 1518.27 Q2316.94 1522.85 2316.94 1531.6 Q2316.94 1540.33 2313.86 1544.94 Q2310.8 1549.52 2304.99 1549.52 Q2299.18 1549.52 2296.11 1544.94 Q2293.05 1540.33 2293.05 1531.6 Q2293.05 1522.85 2296.11 1518.27 Q2299.18 1513.66 2304.99 1513.66 Z\" fill=\"#000000\" fill-rule=\"evenodd\" fill-opacity=\"1\" /><polyline clip-path=\"url(#clip692)\" style=\"stroke:#000000; stroke-linecap:round; stroke-linejoin:round; stroke-width:2; stroke-opacity:0.1; fill:none\" points=\"169.121,1389.94 2352.76,1389.94 \"/>\n",
       "<polyline clip-path=\"url(#clip692)\" style=\"stroke:#000000; stroke-linecap:round; stroke-linejoin:round; stroke-width:2; stroke-opacity:0.1; fill:none\" points=\"169.121,1110.18 2352.76,1110.18 \"/>\n",
       "<polyline clip-path=\"url(#clip692)\" style=\"stroke:#000000; stroke-linecap:round; stroke-linejoin:round; stroke-width:2; stroke-opacity:0.1; fill:none\" points=\"169.121,830.411 2352.76,830.411 \"/>\n",
       "<polyline clip-path=\"url(#clip692)\" style=\"stroke:#000000; stroke-linecap:round; stroke-linejoin:round; stroke-width:2; stroke-opacity:0.1; fill:none\" points=\"169.121,550.646 2352.76,550.646 \"/>\n",
       "<polyline clip-path=\"url(#clip692)\" style=\"stroke:#000000; stroke-linecap:round; stroke-linejoin:round; stroke-width:2; stroke-opacity:0.1; fill:none\" points=\"169.121,270.881 2352.76,270.881 \"/>\n",
       "<polyline clip-path=\"url(#clip690)\" style=\"stroke:#000000; stroke-linecap:round; stroke-linejoin:round; stroke-width:4; stroke-opacity:1; fill:none\" points=\"169.121,1486.45 169.121,47.2441 \"/>\n",
       "<polyline clip-path=\"url(#clip690)\" style=\"stroke:#000000; stroke-linecap:round; stroke-linejoin:round; stroke-width:4; stroke-opacity:1; fill:none\" points=\"169.121,1389.94 188.019,1389.94 \"/>\n",
       "<polyline clip-path=\"url(#clip690)\" style=\"stroke:#000000; stroke-linecap:round; stroke-linejoin:round; stroke-width:4; stroke-opacity:1; fill:none\" points=\"169.121,1110.18 188.019,1110.18 \"/>\n",
       "<polyline clip-path=\"url(#clip690)\" style=\"stroke:#000000; stroke-linecap:round; stroke-linejoin:round; stroke-width:4; stroke-opacity:1; fill:none\" points=\"169.121,830.411 188.019,830.411 \"/>\n",
       "<polyline clip-path=\"url(#clip690)\" style=\"stroke:#000000; stroke-linecap:round; stroke-linejoin:round; stroke-width:4; stroke-opacity:1; fill:none\" points=\"169.121,550.646 188.019,550.646 \"/>\n",
       "<polyline clip-path=\"url(#clip690)\" style=\"stroke:#000000; stroke-linecap:round; stroke-linejoin:round; stroke-width:4; stroke-opacity:1; fill:none\" points=\"169.121,270.881 188.019,270.881 \"/>\n",
       "<path clip-path=\"url(#clip690)\" d=\"M121.177 1375.74 Q117.566 1375.74 115.737 1379.3 Q113.932 1382.85 113.932 1389.98 Q113.932 1397.08 115.737 1400.65 Q117.566 1404.19 121.177 1404.19 Q124.811 1404.19 126.617 1400.65 Q128.445 1397.08 128.445 1389.98 Q128.445 1382.85 126.617 1379.3 Q124.811 1375.74 121.177 1375.74 M121.177 1372.04 Q126.987 1372.04 130.043 1376.64 Q133.121 1381.23 133.121 1389.98 Q133.121 1398.7 130.043 1403.31 Q126.987 1407.89 121.177 1407.89 Q115.367 1407.89 112.288 1403.31 Q109.233 1398.7 109.233 1389.98 Q109.233 1381.23 112.288 1376.64 Q115.367 1372.04 121.177 1372.04 Z\" fill=\"#000000\" fill-rule=\"evenodd\" fill-opacity=\"1\" /><path clip-path=\"url(#clip690)\" d=\"M95.1817 1108.82 Q98.5382 1109.54 100.413 1111.81 Q102.311 1114.08 102.311 1117.41 Q102.311 1122.53 98.7928 1125.33 Q95.2743 1128.13 88.7928 1128.13 Q86.6169 1128.13 84.3021 1127.69 Q82.0105 1127.27 79.5568 1126.41 L79.5568 1121.9 Q81.5012 1123.03 83.816 1123.61 Q86.1308 1124.19 88.654 1124.19 Q93.0521 1124.19 95.3437 1122.46 Q97.6585 1120.72 97.6585 1117.41 Q97.6585 1114.35 95.5058 1112.64 Q93.3762 1110.91 89.5567 1110.91 L85.529 1110.91 L85.529 1107.06 L89.7419 1107.06 Q93.191 1107.06 95.0197 1105.7 Q96.8484 1104.31 96.8484 1101.72 Q96.8484 1099.05 94.9502 1097.64 Q93.0752 1096.21 89.5567 1096.21 Q87.6354 1096.21 85.4364 1096.62 Q83.2373 1097.04 80.5984 1097.92 L80.5984 1093.75 Q83.2605 1093.01 85.5753 1092.64 Q87.9132 1092.27 89.9734 1092.27 Q95.2974 1092.27 98.3993 1094.7 Q101.501 1097.11 101.501 1101.23 Q101.501 1104.1 99.8576 1106.09 Q98.2141 1108.06 95.1817 1108.82 Z\" fill=\"#000000\" fill-rule=\"evenodd\" fill-opacity=\"1\" /><path clip-path=\"url(#clip690)\" d=\"M121.177 1095.97 Q117.566 1095.97 115.737 1099.54 Q113.932 1103.08 113.932 1110.21 Q113.932 1117.32 115.737 1120.88 Q117.566 1124.42 121.177 1124.42 Q124.811 1124.42 126.617 1120.88 Q128.445 1117.32 128.445 1110.21 Q128.445 1103.08 126.617 1099.54 Q124.811 1095.97 121.177 1095.97 M121.177 1092.27 Q126.987 1092.27 130.043 1096.88 Q133.121 1101.46 133.121 1110.21 Q133.121 1118.94 130.043 1123.54 Q126.987 1128.13 121.177 1128.13 Q115.367 1128.13 112.288 1123.54 Q109.233 1118.94 109.233 1110.21 Q109.233 1101.46 112.288 1096.88 Q115.367 1092.27 121.177 1092.27 Z\" fill=\"#000000\" fill-rule=\"evenodd\" fill-opacity=\"1\" /><path clip-path=\"url(#clip690)\" d=\"M91.5938 828.548 Q88.4456 828.548 86.5938 830.701 Q84.7651 832.853 84.7651 836.603 Q84.7651 840.33 86.5938 842.506 Q88.4456 844.659 91.5938 844.659 Q94.7419 844.659 96.5706 842.506 Q98.4224 840.33 98.4224 836.603 Q98.4224 832.853 96.5706 830.701 Q94.7419 828.548 91.5938 828.548 M100.876 813.895 L100.876 818.154 Q99.1169 817.321 97.3113 816.881 Q95.5289 816.441 93.7697 816.441 Q89.1401 816.441 86.6864 819.566 Q84.2558 822.691 83.9086 829.011 Q85.2743 826.997 87.3345 825.932 Q89.3947 824.844 91.8715 824.844 Q97.0798 824.844 100.089 828.015 Q103.121 831.163 103.121 836.603 Q103.121 841.927 99.9733 845.145 Q96.8252 848.362 91.5938 848.362 Q85.5984 848.362 82.4271 843.779 Q79.2559 839.173 79.2559 830.446 Q79.2559 822.251 83.1447 817.39 Q87.0336 812.506 93.5845 812.506 Q95.3437 812.506 97.1261 812.853 Q98.9317 813.201 100.876 813.895 Z\" fill=\"#000000\" fill-rule=\"evenodd\" fill-opacity=\"1\" /><path clip-path=\"url(#clip690)\" d=\"M121.177 816.21 Q117.566 816.21 115.737 819.775 Q113.932 823.316 113.932 830.446 Q113.932 837.552 115.737 841.117 Q117.566 844.659 121.177 844.659 Q124.811 844.659 126.617 841.117 Q128.445 837.552 128.445 830.446 Q128.445 823.316 126.617 819.775 Q124.811 816.21 121.177 816.21 M121.177 812.506 Q126.987 812.506 130.043 817.113 Q133.121 821.696 133.121 830.446 Q133.121 839.173 130.043 843.779 Q126.987 848.362 121.177 848.362 Q115.367 848.362 112.288 843.779 Q109.233 839.173 109.233 830.446 Q109.233 821.696 112.288 817.113 Q115.367 812.506 121.177 812.506 Z\" fill=\"#000000\" fill-rule=\"evenodd\" fill-opacity=\"1\" /><path clip-path=\"url(#clip690)\" d=\"M81.154 567.209 L81.154 562.949 Q82.9133 563.783 84.7188 564.223 Q86.5243 564.662 88.2604 564.662 Q92.89 564.662 95.3206 561.561 Q97.7743 558.436 98.1215 552.093 Q96.7789 554.084 94.7187 555.149 Q92.6586 556.213 90.1586 556.213 Q84.9734 556.213 81.941 553.088 Q78.9318 549.94 78.9318 544.5 Q78.9318 539.176 82.0799 535.959 Q85.2281 532.741 90.4595 532.741 Q96.4548 532.741 99.603 537.348 Q102.774 541.931 102.774 550.681 Q102.774 558.852 98.8854 563.736 Q95.0197 568.598 88.4688 568.598 Q86.7095 568.598 84.904 568.25 Q83.0984 567.903 81.154 567.209 M90.4595 552.556 Q93.6076 552.556 95.4363 550.403 Q97.2882 548.25 97.2882 544.5 Q97.2882 540.774 95.4363 538.621 Q93.6076 536.445 90.4595 536.445 Q87.3114 536.445 85.4595 538.621 Q83.6308 540.774 83.6308 544.5 Q83.6308 548.25 85.4595 550.403 Q87.3114 552.556 90.4595 552.556 Z\" fill=\"#000000\" fill-rule=\"evenodd\" fill-opacity=\"1\" /><path clip-path=\"url(#clip690)\" d=\"M121.177 536.445 Q117.566 536.445 115.737 540.01 Q113.932 543.551 113.932 550.681 Q113.932 557.787 115.737 561.352 Q117.566 564.894 121.177 564.894 Q124.811 564.894 126.617 561.352 Q128.445 557.787 128.445 550.681 Q128.445 543.551 126.617 540.01 Q124.811 536.445 121.177 536.445 M121.177 532.741 Q126.987 532.741 130.043 537.348 Q133.121 541.931 133.121 550.681 Q133.121 559.408 130.043 564.014 Q126.987 568.598 121.177 568.598 Q115.367 568.598 112.288 564.014 Q109.233 559.408 109.233 550.681 Q109.233 541.931 112.288 537.348 Q115.367 532.741 121.177 532.741 Z\" fill=\"#000000\" fill-rule=\"evenodd\" fill-opacity=\"1\" /><path clip-path=\"url(#clip690)\" d=\"M51.6634 284.226 L59.3023 284.226 L59.3023 257.861 L50.9921 259.527 L50.9921 255.268 L59.256 253.601 L63.9319 253.601 L63.9319 284.226 L71.5707 284.226 L71.5707 288.161 L51.6634 288.161 L51.6634 284.226 Z\" fill=\"#000000\" fill-rule=\"evenodd\" fill-opacity=\"1\" /><path clip-path=\"url(#clip690)\" d=\"M85.0429 284.226 L101.362 284.226 L101.362 288.161 L79.4179 288.161 L79.4179 284.226 Q82.0799 281.472 86.6632 276.842 Q91.2697 272.189 92.4502 270.847 Q94.6956 268.323 95.5752 266.587 Q96.478 264.828 96.478 263.138 Q96.478 260.384 94.5336 258.648 Q92.6123 256.911 89.5104 256.911 Q87.3114 256.911 84.8577 257.675 Q82.4271 258.439 79.6494 259.99 L79.6494 255.268 Q82.4734 254.134 84.9271 253.555 Q87.3808 252.976 89.4178 252.976 Q94.7882 252.976 97.9826 255.661 Q101.177 258.347 101.177 262.837 Q101.177 264.967 100.367 266.888 Q99.5798 268.786 97.4734 271.379 Q96.8947 272.05 93.7928 275.268 Q90.691 278.462 85.0429 284.226 Z\" fill=\"#000000\" fill-rule=\"evenodd\" fill-opacity=\"1\" /><path clip-path=\"url(#clip690)\" d=\"M121.177 256.68 Q117.566 256.68 115.737 260.245 Q113.932 263.786 113.932 270.916 Q113.932 278.022 115.737 281.587 Q117.566 285.129 121.177 285.129 Q124.811 285.129 126.617 281.587 Q128.445 278.022 128.445 270.916 Q128.445 263.786 126.617 260.245 Q124.811 256.68 121.177 256.68 M121.177 252.976 Q126.987 252.976 130.043 257.583 Q133.121 262.166 133.121 270.916 Q133.121 279.643 130.043 284.249 Q126.987 288.833 121.177 288.833 Q115.367 288.833 112.288 284.249 Q109.233 279.643 109.233 270.916 Q109.233 262.166 112.288 257.583 Q115.367 252.976 121.177 252.976 Z\" fill=\"#000000\" fill-rule=\"evenodd\" fill-opacity=\"1\" /><circle clip-path=\"url(#clip692)\" cx=\"230.922\" cy=\"841.273\" r=\"14.4\" fill=\"#009af9\" fill-rule=\"evenodd\" fill-opacity=\"1\" stroke=\"#000000\" stroke-opacity=\"1\" stroke-width=\"3.2\"/>\n",
       "<circle clip-path=\"url(#clip692)\" cx=\"333.924\" cy=\"879.086\" r=\"14.4\" fill=\"#009af9\" fill-rule=\"evenodd\" fill-opacity=\"1\" stroke=\"#000000\" stroke-opacity=\"1\" stroke-width=\"3.2\"/>\n",
       "<circle clip-path=\"url(#clip692)\" cx=\"436.926\" cy=\"798.435\" r=\"14.4\" fill=\"#009af9\" fill-rule=\"evenodd\" fill-opacity=\"1\" stroke=\"#000000\" stroke-opacity=\"1\" stroke-width=\"3.2\"/>\n",
       "<circle clip-path=\"url(#clip692)\" cx=\"539.927\" cy=\"1175.52\" r=\"14.4\" fill=\"#009af9\" fill-rule=\"evenodd\" fill-opacity=\"1\" stroke=\"#000000\" stroke-opacity=\"1\" stroke-width=\"3.2\"/>\n",
       "<circle clip-path=\"url(#clip692)\" cx=\"642.929\" cy=\"1171.43\" r=\"14.4\" fill=\"#009af9\" fill-rule=\"evenodd\" fill-opacity=\"1\" stroke=\"#000000\" stroke-opacity=\"1\" stroke-width=\"3.2\"/>\n",
       "<circle clip-path=\"url(#clip692)\" cx=\"745.93\" cy=\"1379.73\" r=\"14.4\" fill=\"#009af9\" fill-rule=\"evenodd\" fill-opacity=\"1\" stroke=\"#000000\" stroke-opacity=\"1\" stroke-width=\"3.2\"/>\n",
       "<circle clip-path=\"url(#clip692)\" cx=\"848.932\" cy=\"1358.41\" r=\"14.4\" fill=\"#009af9\" fill-rule=\"evenodd\" fill-opacity=\"1\" stroke=\"#000000\" stroke-opacity=\"1\" stroke-width=\"3.2\"/>\n",
       "<circle clip-path=\"url(#clip692)\" cx=\"951.934\" cy=\"1351.59\" r=\"14.4\" fill=\"#009af9\" fill-rule=\"evenodd\" fill-opacity=\"1\" stroke=\"#000000\" stroke-opacity=\"1\" stroke-width=\"3.2\"/>\n",
       "<circle clip-path=\"url(#clip692)\" cx=\"1054.94\" cy=\"1445.72\" r=\"14.4\" fill=\"#009af9\" fill-rule=\"evenodd\" fill-opacity=\"1\" stroke=\"#000000\" stroke-opacity=\"1\" stroke-width=\"3.2\"/>\n",
       "<circle clip-path=\"url(#clip692)\" cx=\"1157.94\" cy=\"1416.62\" r=\"14.4\" fill=\"#009af9\" fill-rule=\"evenodd\" fill-opacity=\"1\" stroke=\"#000000\" stroke-opacity=\"1\" stroke-width=\"3.2\"/>\n",
       "<circle clip-path=\"url(#clip692)\" cx=\"1260.94\" cy=\"1333.87\" r=\"14.4\" fill=\"#009af9\" fill-rule=\"evenodd\" fill-opacity=\"1\" stroke=\"#000000\" stroke-opacity=\"1\" stroke-width=\"3.2\"/>\n",
       "<circle clip-path=\"url(#clip692)\" cx=\"1363.94\" cy=\"1250.92\" r=\"14.4\" fill=\"#009af9\" fill-rule=\"evenodd\" fill-opacity=\"1\" stroke=\"#000000\" stroke-opacity=\"1\" stroke-width=\"3.2\"/>\n",
       "<circle clip-path=\"url(#clip692)\" cx=\"1466.94\" cy=\"1341.97\" r=\"14.4\" fill=\"#009af9\" fill-rule=\"evenodd\" fill-opacity=\"1\" stroke=\"#000000\" stroke-opacity=\"1\" stroke-width=\"3.2\"/>\n",
       "<circle clip-path=\"url(#clip692)\" cx=\"1569.94\" cy=\"1227.97\" r=\"14.4\" fill=\"#009af9\" fill-rule=\"evenodd\" fill-opacity=\"1\" stroke=\"#000000\" stroke-opacity=\"1\" stroke-width=\"3.2\"/>\n",
       "<circle clip-path=\"url(#clip692)\" cx=\"1672.95\" cy=\"994.783\" r=\"14.4\" fill=\"#009af9\" fill-rule=\"evenodd\" fill-opacity=\"1\" stroke=\"#000000\" stroke-opacity=\"1\" stroke-width=\"3.2\"/>\n",
       "<circle clip-path=\"url(#clip692)\" cx=\"1775.95\" cy=\"1104.9\" r=\"14.4\" fill=\"#009af9\" fill-rule=\"evenodd\" fill-opacity=\"1\" stroke=\"#000000\" stroke-opacity=\"1\" stroke-width=\"3.2\"/>\n",
       "<circle clip-path=\"url(#clip692)\" cx=\"1878.95\" cy=\"864.905\" r=\"14.4\" fill=\"#009af9\" fill-rule=\"evenodd\" fill-opacity=\"1\" stroke=\"#000000\" stroke-opacity=\"1\" stroke-width=\"3.2\"/>\n",
       "<circle clip-path=\"url(#clip692)\" cx=\"1981.95\" cy=\"799.601\" r=\"14.4\" fill=\"#009af9\" fill-rule=\"evenodd\" fill-opacity=\"1\" stroke=\"#000000\" stroke-opacity=\"1\" stroke-width=\"3.2\"/>\n",
       "<circle clip-path=\"url(#clip692)\" cx=\"2084.95\" cy=\"447.766\" r=\"14.4\" fill=\"#009af9\" fill-rule=\"evenodd\" fill-opacity=\"1\" stroke=\"#000000\" stroke-opacity=\"1\" stroke-width=\"3.2\"/>\n",
       "<circle clip-path=\"url(#clip692)\" cx=\"2187.95\" cy=\"356.958\" r=\"14.4\" fill=\"#009af9\" fill-rule=\"evenodd\" fill-opacity=\"1\" stroke=\"#000000\" stroke-opacity=\"1\" stroke-width=\"3.2\"/>\n",
       "<circle clip-path=\"url(#clip692)\" cx=\"2290.95\" cy=\"87.9763\" r=\"14.4\" fill=\"#009af9\" fill-rule=\"evenodd\" fill-opacity=\"1\" stroke=\"#000000\" stroke-opacity=\"1\" stroke-width=\"3.2\"/>\n",
       "<polyline clip-path=\"url(#clip692)\" style=\"stroke:#e26f46; stroke-linecap:round; stroke-linejoin:round; stroke-width:4; stroke-opacity:1; fill:none\" points=\"230.922,755.807 333.924,905.015 436.926,1035.57 539.927,1147.48 642.929,1240.73 745.93,1315.34 848.932,1371.29 951.934,1408.59 1054.94,1427.24 1157.94,1427.24 1260.94,1408.59 1363.94,1371.29 1466.94,1315.34 1569.94,1240.73 1672.95,1147.48 1775.95,1035.57 1878.95,905.015 1981.95,755.807 2084.95,587.948 2187.95,401.438 2290.95,196.277 \"/>\n",
       "<polyline clip-path=\"url(#clip692)\" style=\"stroke:#3da44d; stroke-linecap:round; stroke-linejoin:round; stroke-width:4; stroke-opacity:1; fill:none\" points=\"230.922,727.273 333.924,878.033 436.926,1009.77 539.927,1122.48 642.929,1216.16 745.93,1290.82 848.932,1346.46 951.934,1383.07 1054.94,1400.66 1157.94,1399.22 1260.94,1378.76 1363.94,1339.27 1466.94,1280.76 1569.94,1203.22 1672.95,1106.66 1775.95,991.075 1878.95,856.464 1981.95,702.829 2084.95,530.169 2187.95,338.484 2290.95,127.774 \"/>\n",
       "<path clip-path=\"url(#clip690)\" d=\"M241.909 302.578 L700.387 302.578 L700.387 95.2176 L241.909 95.2176  Z\" fill=\"#ffffff\" fill-rule=\"evenodd\" fill-opacity=\"1\"/>\n",
       "<polyline clip-path=\"url(#clip690)\" style=\"stroke:#000000; stroke-linecap:round; stroke-linejoin:round; stroke-width:4; stroke-opacity:1; fill:none\" points=\"241.909,302.578 700.387,302.578 700.387,95.2176 241.909,95.2176 241.909,302.578 \"/>\n",
       "<circle clip-path=\"url(#clip690)\" cx=\"338.96\" cy=\"147.058\" r=\"23.04\" fill=\"#009af9\" fill-rule=\"evenodd\" fill-opacity=\"1\" stroke=\"#000000\" stroke-opacity=\"1\" stroke-width=\"5.12\"/>\n",
       "<path clip-path=\"url(#clip690)\" d=\"M440.686 133.62 L440.686 160.495 L446.334 160.495 Q453.487 160.495 456.797 157.254 Q460.13 154.014 460.13 147.023 Q460.13 140.078 456.797 136.861 Q453.487 133.62 446.334 133.62 L440.686 133.62 M436.01 129.778 L445.616 129.778 Q455.663 129.778 460.362 133.967 Q465.061 138.134 465.061 147.023 Q465.061 155.958 460.339 160.148 Q455.616 164.338 445.616 164.338 L436.01 164.338 L436.01 129.778 Z\" fill=\"#000000\" fill-rule=\"evenodd\" fill-opacity=\"1\" /><path clip-path=\"url(#clip690)\" d=\"M484.112 151.305 Q478.95 151.305 476.959 152.486 Q474.968 153.666 474.968 156.514 Q474.968 158.782 476.45 160.125 Q477.954 161.444 480.524 161.444 Q484.065 161.444 486.195 158.944 Q488.348 156.421 488.348 152.254 L488.348 151.305 L484.112 151.305 M492.607 149.546 L492.607 164.338 L488.348 164.338 L488.348 160.402 Q486.889 162.763 484.713 163.898 Q482.538 165.009 479.389 165.009 Q475.408 165.009 473.047 162.787 Q470.709 160.541 470.709 156.791 Q470.709 152.416 473.626 150.194 Q476.565 147.972 482.375 147.972 L488.348 147.972 L488.348 147.555 Q488.348 144.615 486.403 143.018 Q484.482 141.398 480.987 141.398 Q478.764 141.398 476.658 141.93 Q474.551 142.463 472.607 143.527 L472.607 139.592 Q474.945 138.69 477.144 138.25 Q479.343 137.787 481.426 137.787 Q487.051 137.787 489.829 140.703 Q492.607 143.62 492.607 149.546 Z\" fill=\"#000000\" fill-rule=\"evenodd\" fill-opacity=\"1\" /><path clip-path=\"url(#clip690)\" d=\"M505.593 131.051 L505.593 138.412 L514.366 138.412 L514.366 141.722 L505.593 141.722 L505.593 155.796 Q505.593 158.967 506.449 159.87 Q507.329 160.773 509.991 160.773 L514.366 160.773 L514.366 164.338 L509.991 164.338 Q505.061 164.338 503.186 162.509 Q501.311 160.657 501.311 155.796 L501.311 141.722 L498.186 141.722 L498.186 138.412 L501.311 138.412 L501.311 131.051 L505.593 131.051 Z\" fill=\"#000000\" fill-rule=\"evenodd\" fill-opacity=\"1\" /><path clip-path=\"url(#clip690)\" d=\"M531.75 151.305 Q526.588 151.305 524.597 152.486 Q522.607 153.666 522.607 156.514 Q522.607 158.782 524.088 160.125 Q525.593 161.444 528.162 161.444 Q531.704 161.444 533.834 158.944 Q535.986 156.421 535.986 152.254 L535.986 151.305 L531.75 151.305 M540.246 149.546 L540.246 164.338 L535.986 164.338 L535.986 160.402 Q534.528 162.763 532.352 163.898 Q530.176 165.009 527.028 165.009 Q523.047 165.009 520.685 162.787 Q518.348 160.541 518.348 156.791 Q518.348 152.416 521.264 150.194 Q524.204 147.972 530.014 147.972 L535.986 147.972 L535.986 147.555 Q535.986 144.615 534.042 143.018 Q532.121 141.398 528.625 141.398 Q526.403 141.398 524.297 141.93 Q522.19 142.463 520.246 143.527 L520.246 139.592 Q522.584 138.69 524.783 138.25 Q526.982 137.787 529.065 137.787 Q534.69 137.787 537.468 140.703 Q540.246 143.62 540.246 149.546 Z\" fill=\"#000000\" fill-rule=\"evenodd\" fill-opacity=\"1\" /><polyline clip-path=\"url(#clip690)\" style=\"stroke:#e26f46; stroke-linecap:round; stroke-linejoin:round; stroke-width:4; stroke-opacity:1; fill:none\" points=\"266.172,198.898 411.747,198.898 \"/>\n",
       "<path clip-path=\"url(#clip690)\" d=\"M436.01 181.618 L465.246 181.618 L465.246 185.553 L452.977 185.553 L452.977 216.178 L448.278 216.178 L448.278 185.553 L436.01 185.553 L436.01 181.618 Z\" fill=\"#000000\" fill-rule=\"evenodd\" fill-opacity=\"1\" /><path clip-path=\"url(#clip690)\" d=\"M477.63 194.233 Q476.913 193.817 476.056 193.631 Q475.223 193.423 474.204 193.423 Q470.593 193.423 468.649 195.784 Q466.727 198.122 466.727 202.52 L466.727 216.178 L462.445 216.178 L462.445 190.252 L466.727 190.252 L466.727 194.28 Q468.07 191.918 470.223 190.784 Q472.376 189.627 475.454 189.627 Q475.894 189.627 476.426 189.696 Q476.959 189.743 477.607 189.858 L477.63 194.233 Z\" fill=\"#000000\" fill-rule=\"evenodd\" fill-opacity=\"1\" /><path clip-path=\"url(#clip690)\" d=\"M481.658 205.946 L481.658 190.252 L485.917 190.252 L485.917 205.784 Q485.917 209.465 487.352 211.316 Q488.787 213.145 491.658 213.145 Q495.107 213.145 497.098 210.946 Q499.112 208.747 499.112 204.951 L499.112 190.252 L503.371 190.252 L503.371 216.178 L499.112 216.178 L499.112 212.196 Q497.561 214.557 495.5 215.715 Q493.463 216.849 490.755 216.849 Q486.287 216.849 483.973 214.071 Q481.658 211.293 481.658 205.946 M492.375 189.627 L492.375 189.627 Z\" fill=\"#000000\" fill-rule=\"evenodd\" fill-opacity=\"1\" /><path clip-path=\"url(#clip690)\" d=\"M534.32 202.15 L534.32 204.233 L514.736 204.233 Q515.014 208.631 517.375 210.946 Q519.76 213.238 523.996 213.238 Q526.449 213.238 528.741 212.636 Q531.056 212.034 533.324 210.83 L533.324 214.858 Q531.033 215.83 528.625 216.34 Q526.218 216.849 523.741 216.849 Q517.537 216.849 513.903 213.238 Q510.292 209.627 510.292 203.469 Q510.292 197.104 513.718 193.377 Q517.167 189.627 523 189.627 Q528.232 189.627 531.264 193.006 Q534.32 196.363 534.32 202.15 M530.06 200.9 Q530.014 197.405 528.093 195.321 Q526.195 193.238 523.047 193.238 Q519.482 193.238 517.329 195.252 Q515.199 197.266 514.875 200.923 L530.06 200.9 Z\" fill=\"#000000\" fill-rule=\"evenodd\" fill-opacity=\"1\" /><path clip-path=\"url(#clip690)\" d=\"M556.565 181.618 L561.241 181.618 L561.241 212.242 L578.069 212.242 L578.069 216.178 L556.565 216.178 L556.565 181.618 Z\" fill=\"#000000\" fill-rule=\"evenodd\" fill-opacity=\"1\" /><path clip-path=\"url(#clip690)\" d=\"M582.792 190.252 L587.051 190.252 L587.051 216.178 L582.792 216.178 L582.792 190.252 M582.792 180.159 L587.051 180.159 L587.051 185.553 L582.792 185.553 L582.792 180.159 Z\" fill=\"#000000\" fill-rule=\"evenodd\" fill-opacity=\"1\" /><path clip-path=\"url(#clip690)\" d=\"M617.514 200.529 L617.514 216.178 L613.254 216.178 L613.254 200.668 Q613.254 196.988 611.819 195.159 Q610.384 193.33 607.514 193.33 Q604.065 193.33 602.074 195.53 Q600.083 197.729 600.083 201.525 L600.083 216.178 L595.801 216.178 L595.801 190.252 L600.083 190.252 L600.083 194.28 Q601.611 191.942 603.671 190.784 Q605.754 189.627 608.463 189.627 Q612.93 189.627 615.222 192.405 Q617.514 195.159 617.514 200.529 Z\" fill=\"#000000\" fill-rule=\"evenodd\" fill-opacity=\"1\" /><path clip-path=\"url(#clip690)\" d=\"M648.185 202.15 L648.185 204.233 L628.602 204.233 Q628.879 208.631 631.24 210.946 Q633.625 213.238 637.861 213.238 Q640.314 213.238 642.606 212.636 Q644.921 212.034 647.189 210.83 L647.189 214.858 Q644.898 215.83 642.49 216.34 Q640.083 216.849 637.606 216.849 Q631.402 216.849 627.768 213.238 Q624.157 209.627 624.157 203.469 Q624.157 197.104 627.583 193.377 Q631.032 189.627 636.865 189.627 Q642.097 189.627 645.129 193.006 Q648.185 196.363 648.185 202.15 M643.926 200.9 Q643.879 197.405 641.958 195.321 Q640.06 193.238 636.912 193.238 Q633.347 193.238 631.194 195.252 Q629.065 197.266 628.74 200.923 L643.926 200.9 Z\" fill=\"#000000\" fill-rule=\"evenodd\" fill-opacity=\"1\" /><polyline clip-path=\"url(#clip690)\" style=\"stroke:#3da44d; stroke-linecap:round; stroke-linejoin:round; stroke-width:4; stroke-opacity:1; fill:none\" points=\"266.172,250.738 411.747,250.738 \"/>\n",
       "<path clip-path=\"url(#clip690)\" d=\"M436.01 233.458 L455.871 233.458 L455.871 237.393 L440.686 237.393 L440.686 247.578 L454.39 247.578 L454.39 251.513 L440.686 251.513 L440.686 268.018 L436.01 268.018 L436.01 233.458 Z\" fill=\"#000000\" fill-rule=\"evenodd\" fill-opacity=\"1\" /><path clip-path=\"url(#clip690)\" d=\"M459.644 242.092 L463.903 242.092 L463.903 268.018 L459.644 268.018 L459.644 242.092 M459.644 231.999 L463.903 231.999 L463.903 237.393 L459.644 237.393 L459.644 231.999 Z\" fill=\"#000000\" fill-rule=\"evenodd\" fill-opacity=\"1\" /><path clip-path=\"url(#clip690)\" d=\"M477.028 234.731 L477.028 242.092 L485.801 242.092 L485.801 245.402 L477.028 245.402 L477.028 259.476 Q477.028 262.647 477.885 263.55 Q478.764 264.453 481.426 264.453 L485.801 264.453 L485.801 268.018 L481.426 268.018 Q476.496 268.018 474.621 266.189 Q472.746 264.337 472.746 259.476 L472.746 245.402 L469.621 245.402 L469.621 242.092 L472.746 242.092 L472.746 234.731 L477.028 234.731 Z\" fill=\"#000000\" fill-rule=\"evenodd\" fill-opacity=\"1\" /><path clip-path=\"url(#clip690)\" d=\"M495.616 234.731 L495.616 242.092 L504.389 242.092 L504.389 245.402 L495.616 245.402 L495.616 259.476 Q495.616 262.647 496.473 263.55 Q497.352 264.453 500.014 264.453 L504.389 264.453 L504.389 268.018 L500.014 268.018 Q495.084 268.018 493.209 266.189 Q491.334 264.337 491.334 259.476 L491.334 245.402 L488.209 245.402 L488.209 242.092 L491.334 242.092 L491.334 234.731 L495.616 234.731 Z\" fill=\"#000000\" fill-rule=\"evenodd\" fill-opacity=\"1\" /><path clip-path=\"url(#clip690)\" d=\"M532.167 253.99 L532.167 256.073 L512.584 256.073 Q512.861 260.471 515.223 262.786 Q517.607 265.078 521.843 265.078 Q524.297 265.078 526.588 264.476 Q528.903 263.874 531.172 262.67 L531.172 266.698 Q528.88 267.67 526.472 268.18 Q524.065 268.689 521.588 268.689 Q515.385 268.689 511.75 265.078 Q508.139 261.467 508.139 255.309 Q508.139 248.944 511.565 245.217 Q515.014 241.467 520.847 241.467 Q526.079 241.467 529.111 244.846 Q532.167 248.203 532.167 253.99 M527.908 252.74 Q527.861 249.245 525.94 247.161 Q524.042 245.078 520.894 245.078 Q517.329 245.078 515.176 247.092 Q513.047 249.106 512.723 252.763 L527.908 252.74 Z\" fill=\"#000000\" fill-rule=\"evenodd\" fill-opacity=\"1\" /><path clip-path=\"url(#clip690)\" d=\"M556.218 246.027 L556.218 231.999 L560.477 231.999 L560.477 268.018 L556.218 268.018 L556.218 264.129 Q554.875 266.443 552.815 267.578 Q550.778 268.689 547.908 268.689 Q543.208 268.689 540.246 264.939 Q537.306 261.189 537.306 255.078 Q537.306 248.967 540.246 245.217 Q543.208 241.467 547.908 241.467 Q550.778 241.467 552.815 242.601 Q554.875 243.712 556.218 246.027 M541.704 255.078 Q541.704 259.777 543.625 262.462 Q545.57 265.124 548.949 265.124 Q552.329 265.124 554.273 262.462 Q556.218 259.777 556.218 255.078 Q556.218 250.379 554.273 247.717 Q552.329 245.032 548.949 245.032 Q545.57 245.032 543.625 247.717 Q541.704 250.379 541.704 255.078 Z\" fill=\"#000000\" fill-rule=\"evenodd\" fill-opacity=\"1\" /><path clip-path=\"url(#clip690)\" d=\"M584.505 233.458 L589.18 233.458 L589.18 264.082 L606.009 264.082 L606.009 268.018 L584.505 268.018 L584.505 233.458 Z\" fill=\"#000000\" fill-rule=\"evenodd\" fill-opacity=\"1\" /><path clip-path=\"url(#clip690)\" d=\"M610.731 242.092 L614.991 242.092 L614.991 268.018 L610.731 268.018 L610.731 242.092 M610.731 231.999 L614.991 231.999 L614.991 237.393 L610.731 237.393 L610.731 231.999 Z\" fill=\"#000000\" fill-rule=\"evenodd\" fill-opacity=\"1\" /><path clip-path=\"url(#clip690)\" d=\"M645.453 252.369 L645.453 268.018 L641.194 268.018 L641.194 252.508 Q641.194 248.828 639.759 246.999 Q638.324 245.17 635.453 245.17 Q632.004 245.17 630.014 247.37 Q628.023 249.569 628.023 253.365 L628.023 268.018 L623.74 268.018 L623.74 242.092 L628.023 242.092 L628.023 246.12 Q629.551 243.782 631.611 242.624 Q633.694 241.467 636.402 241.467 Q640.87 241.467 643.162 244.245 Q645.453 246.999 645.453 252.369 Z\" fill=\"#000000\" fill-rule=\"evenodd\" fill-opacity=\"1\" /><path clip-path=\"url(#clip690)\" d=\"M676.124 253.99 L676.124 256.073 L656.541 256.073 Q656.819 260.471 659.18 262.786 Q661.564 265.078 665.8 265.078 Q668.254 265.078 670.546 264.476 Q672.861 263.874 675.129 262.67 L675.129 266.698 Q672.837 267.67 670.43 268.18 Q668.023 268.689 665.546 268.689 Q659.342 268.689 655.708 265.078 Q652.097 261.467 652.097 255.309 Q652.097 248.944 655.523 245.217 Q658.972 241.467 664.805 241.467 Q670.037 241.467 673.069 244.846 Q676.124 248.203 676.124 253.99 M671.865 252.74 Q671.819 249.245 669.898 247.161 Q667.999 245.078 664.851 245.078 Q661.287 245.078 659.134 247.092 Q657.004 249.106 656.68 252.763 L671.865 252.74 Z\" fill=\"#000000\" fill-rule=\"evenodd\" fill-opacity=\"1\" /></svg>\n"
      ]
     },
     "execution_count": 9,
     "metadata": {},
     "output_type": "execute_result"
    }
   ],
   "source": [
    "scatter(x, y_observed, label = \"Data\")\n",
    "plot!(x, y_true, label = \"True Line\")\n",
    "\n",
    "fit_coeff = coeffs(fit(x, y_observed, 2))\n",
    "y_fit = fit_coeff[1] .+ (fit_coeff[2] .* x) .+ (fit_coeff[3] .* (x.^2))\n",
    "\n",
    "plot!(x, y_fit, label = \"Fitted Line\")"
   ]
  },
  {
   "cell_type": "markdown",
   "id": "b3b5a343",
   "metadata": {},
   "source": [
    "### 2.4\n",
    "\n",
    "1. Repeat 2.2 and 2.3 with a noise with a standard deviation of 50"
   ]
  },
  {
   "cell_type": "code",
   "execution_count": 10,
   "id": "b4c08499",
   "metadata": {},
   "outputs": [
    {
     "data": {
      "image/svg+xml": [
       "<?xml version=\"1.0\" encoding=\"utf-8\"?>\n",
       "<svg xmlns=\"http://www.w3.org/2000/svg\" xmlns:xlink=\"http://www.w3.org/1999/xlink\" width=\"600\" height=\"400\" viewBox=\"0 0 2400 1600\">\n",
       "<defs>\n",
       "  <clipPath id=\"clip730\">\n",
       "    <rect x=\"0\" y=\"0\" width=\"2400\" height=\"1600\"/>\n",
       "  </clipPath>\n",
       "</defs>\n",
       "<path clip-path=\"url(#clip730)\" d=\"M0 1600 L2400 1600 L2400 0 L0 0  Z\" fill=\"#ffffff\" fill-rule=\"evenodd\" fill-opacity=\"1\"/>\n",
       "<defs>\n",
       "  <clipPath id=\"clip731\">\n",
       "    <rect x=\"480\" y=\"0\" width=\"1681\" height=\"1600\"/>\n",
       "  </clipPath>\n",
       "</defs>\n",
       "<path clip-path=\"url(#clip730)\" d=\"M178.867 1486.45 L2352.76 1486.45 L2352.76 47.2441 L178.867 47.2441  Z\" fill=\"#ffffff\" fill-rule=\"evenodd\" fill-opacity=\"1\"/>\n",
       "<defs>\n",
       "  <clipPath id=\"clip732\">\n",
       "    <rect x=\"178\" y=\"47\" width=\"2175\" height=\"1440\"/>\n",
       "  </clipPath>\n",
       "</defs>\n",
       "<polyline clip-path=\"url(#clip732)\" style=\"stroke:#000000; stroke-linecap:round; stroke-linejoin:round; stroke-width:2; stroke-opacity:0.1; fill:none\" points=\"240.392,1486.45 240.392,47.2441 \"/>\n",
       "<polyline clip-path=\"url(#clip732)\" style=\"stroke:#000000; stroke-linecap:round; stroke-linejoin:round; stroke-width:2; stroke-opacity:0.1; fill:none\" points=\"753.102,1486.45 753.102,47.2441 \"/>\n",
       "<polyline clip-path=\"url(#clip732)\" style=\"stroke:#000000; stroke-linecap:round; stroke-linejoin:round; stroke-width:2; stroke-opacity:0.1; fill:none\" points=\"1265.81,1486.45 1265.81,47.2441 \"/>\n",
       "<polyline clip-path=\"url(#clip732)\" style=\"stroke:#000000; stroke-linecap:round; stroke-linejoin:round; stroke-width:2; stroke-opacity:0.1; fill:none\" points=\"1778.52,1486.45 1778.52,47.2441 \"/>\n",
       "<polyline clip-path=\"url(#clip732)\" style=\"stroke:#000000; stroke-linecap:round; stroke-linejoin:round; stroke-width:2; stroke-opacity:0.1; fill:none\" points=\"2291.23,1486.45 2291.23,47.2441 \"/>\n",
       "<polyline clip-path=\"url(#clip730)\" style=\"stroke:#000000; stroke-linecap:round; stroke-linejoin:round; stroke-width:4; stroke-opacity:1; fill:none\" points=\"178.867,1486.45 2352.76,1486.45 \"/>\n",
       "<polyline clip-path=\"url(#clip730)\" style=\"stroke:#000000; stroke-linecap:round; stroke-linejoin:round; stroke-width:4; stroke-opacity:1; fill:none\" points=\"240.392,1486.45 240.392,1467.55 \"/>\n",
       "<polyline clip-path=\"url(#clip730)\" style=\"stroke:#000000; stroke-linecap:round; stroke-linejoin:round; stroke-width:4; stroke-opacity:1; fill:none\" points=\"753.102,1486.45 753.102,1467.55 \"/>\n",
       "<polyline clip-path=\"url(#clip730)\" style=\"stroke:#000000; stroke-linecap:round; stroke-linejoin:round; stroke-width:4; stroke-opacity:1; fill:none\" points=\"1265.81,1486.45 1265.81,1467.55 \"/>\n",
       "<polyline clip-path=\"url(#clip730)\" style=\"stroke:#000000; stroke-linecap:round; stroke-linejoin:round; stroke-width:4; stroke-opacity:1; fill:none\" points=\"1778.52,1486.45 1778.52,1467.55 \"/>\n",
       "<polyline clip-path=\"url(#clip730)\" style=\"stroke:#000000; stroke-linecap:round; stroke-linejoin:round; stroke-width:4; stroke-opacity:1; fill:none\" points=\"2291.23,1486.45 2291.23,1467.55 \"/>\n",
       "<path clip-path=\"url(#clip730)\" d=\"M194.455 1532.02 L224.13 1532.02 L224.13 1535.95 L194.455 1535.95 L194.455 1532.02 Z\" fill=\"#000000\" fill-rule=\"evenodd\" fill-opacity=\"1\" /><path clip-path=\"url(#clip730)\" d=\"M235.033 1544.91 L242.672 1544.91 L242.672 1518.55 L234.362 1520.21 L234.362 1515.95 L242.626 1514.29 L247.301 1514.29 L247.301 1544.91 L254.94 1544.91 L254.94 1548.85 L235.033 1548.85 L235.033 1544.91 Z\" fill=\"#000000\" fill-rule=\"evenodd\" fill-opacity=\"1\" /><path clip-path=\"url(#clip730)\" d=\"M274.385 1517.37 Q270.774 1517.37 268.945 1520.93 Q267.139 1524.47 267.139 1531.6 Q267.139 1538.71 268.945 1542.27 Q270.774 1545.82 274.385 1545.82 Q278.019 1545.82 279.824 1542.27 Q281.653 1538.71 281.653 1531.6 Q281.653 1524.47 279.824 1520.93 Q278.019 1517.37 274.385 1517.37 M274.385 1513.66 Q280.195 1513.66 283.25 1518.27 Q286.329 1522.85 286.329 1531.6 Q286.329 1540.33 283.25 1544.94 Q280.195 1549.52 274.385 1549.52 Q268.575 1549.52 265.496 1544.94 Q262.44 1540.33 262.44 1531.6 Q262.44 1522.85 265.496 1518.27 Q268.575 1513.66 274.385 1513.66 Z\" fill=\"#000000\" fill-rule=\"evenodd\" fill-opacity=\"1\" /><path clip-path=\"url(#clip730)\" d=\"M722.743 1532.02 L752.419 1532.02 L752.419 1535.95 L722.743 1535.95 L722.743 1532.02 Z\" fill=\"#000000\" fill-rule=\"evenodd\" fill-opacity=\"1\" /><path clip-path=\"url(#clip730)\" d=\"M762.558 1514.29 L780.914 1514.29 L780.914 1518.22 L766.84 1518.22 L766.84 1526.7 Q767.858 1526.35 768.877 1526.19 Q769.895 1526 770.914 1526 Q776.701 1526 780.081 1529.17 Q783.46 1532.34 783.46 1537.76 Q783.46 1543.34 779.988 1546.44 Q776.516 1549.52 770.196 1549.52 Q768.02 1549.52 765.752 1549.15 Q763.507 1548.78 761.099 1548.04 L761.099 1543.34 Q763.183 1544.47 765.405 1545.03 Q767.627 1545.58 770.104 1545.58 Q774.108 1545.58 776.446 1543.48 Q778.784 1541.37 778.784 1537.76 Q778.784 1534.15 776.446 1532.04 Q774.108 1529.94 770.104 1529.94 Q768.229 1529.94 766.354 1530.35 Q764.502 1530.77 762.558 1531.65 L762.558 1514.29 Z\" fill=\"#000000\" fill-rule=\"evenodd\" fill-opacity=\"1\" /><path clip-path=\"url(#clip730)\" d=\"M1265.81 1517.37 Q1262.2 1517.37 1260.37 1520.93 Q1258.57 1524.47 1258.57 1531.6 Q1258.57 1538.71 1260.37 1542.27 Q1262.2 1545.82 1265.81 1545.82 Q1269.45 1545.82 1271.25 1542.27 Q1273.08 1538.71 1273.08 1531.6 Q1273.08 1524.47 1271.25 1520.93 Q1269.45 1517.37 1265.81 1517.37 M1265.81 1513.66 Q1271.62 1513.66 1274.68 1518.27 Q1277.76 1522.85 1277.76 1531.6 Q1277.76 1540.33 1274.68 1544.94 Q1271.62 1549.52 1265.81 1549.52 Q1260 1549.52 1256.92 1544.94 Q1253.87 1540.33 1253.87 1531.6 Q1253.87 1522.85 1256.92 1518.27 Q1260 1513.66 1265.81 1513.66 Z\" fill=\"#000000\" fill-rule=\"evenodd\" fill-opacity=\"1\" /><path clip-path=\"url(#clip730)\" d=\"M1768.8 1514.29 L1787.16 1514.29 L1787.16 1518.22 L1773.08 1518.22 L1773.08 1526.7 Q1774.1 1526.35 1775.12 1526.19 Q1776.14 1526 1777.16 1526 Q1782.94 1526 1786.32 1529.17 Q1789.7 1532.34 1789.7 1537.76 Q1789.7 1543.34 1786.23 1546.44 Q1782.76 1549.52 1776.44 1549.52 Q1774.26 1549.52 1771.99 1549.15 Q1769.75 1548.78 1767.34 1548.04 L1767.34 1543.34 Q1769.42 1544.47 1771.65 1545.03 Q1773.87 1545.58 1776.35 1545.58 Q1780.35 1545.58 1782.69 1543.48 Q1785.03 1541.37 1785.03 1537.76 Q1785.03 1534.15 1782.69 1532.04 Q1780.35 1529.94 1776.35 1529.94 Q1774.47 1529.94 1772.6 1530.35 Q1770.74 1530.77 1768.8 1531.65 L1768.8 1514.29 Z\" fill=\"#000000\" fill-rule=\"evenodd\" fill-opacity=\"1\" /><path clip-path=\"url(#clip730)\" d=\"M2265.92 1544.91 L2273.56 1544.91 L2273.56 1518.55 L2265.25 1520.21 L2265.25 1515.95 L2273.51 1514.29 L2278.19 1514.29 L2278.19 1544.91 L2285.83 1544.91 L2285.83 1548.85 L2265.92 1548.85 L2265.92 1544.91 Z\" fill=\"#000000\" fill-rule=\"evenodd\" fill-opacity=\"1\" /><path clip-path=\"url(#clip730)\" d=\"M2305.27 1517.37 Q2301.66 1517.37 2299.83 1520.93 Q2298.02 1524.47 2298.02 1531.6 Q2298.02 1538.71 2299.83 1542.27 Q2301.66 1545.82 2305.27 1545.82 Q2308.9 1545.82 2310.71 1542.27 Q2312.54 1538.71 2312.54 1531.6 Q2312.54 1524.47 2310.71 1520.93 Q2308.9 1517.37 2305.27 1517.37 M2305.27 1513.66 Q2311.08 1513.66 2314.14 1518.27 Q2317.21 1522.85 2317.21 1531.6 Q2317.21 1540.33 2314.14 1544.94 Q2311.08 1549.52 2305.27 1549.52 Q2299.46 1549.52 2296.38 1544.94 Q2293.33 1540.33 2293.33 1531.6 Q2293.33 1522.85 2296.38 1518.27 Q2299.46 1513.66 2305.27 1513.66 Z\" fill=\"#000000\" fill-rule=\"evenodd\" fill-opacity=\"1\" /><polyline clip-path=\"url(#clip732)\" style=\"stroke:#000000; stroke-linecap:round; stroke-linejoin:round; stroke-width:2; stroke-opacity:0.1; fill:none\" points=\"178.867,1224.26 2352.76,1224.26 \"/>\n",
       "<polyline clip-path=\"url(#clip732)\" style=\"stroke:#000000; stroke-linecap:round; stroke-linejoin:round; stroke-width:2; stroke-opacity:0.1; fill:none\" points=\"178.867,927.319 2352.76,927.319 \"/>\n",
       "<polyline clip-path=\"url(#clip732)\" style=\"stroke:#000000; stroke-linecap:round; stroke-linejoin:round; stroke-width:2; stroke-opacity:0.1; fill:none\" points=\"178.867,630.375 2352.76,630.375 \"/>\n",
       "<polyline clip-path=\"url(#clip732)\" style=\"stroke:#000000; stroke-linecap:round; stroke-linejoin:round; stroke-width:2; stroke-opacity:0.1; fill:none\" points=\"178.867,333.43 2352.76,333.43 \"/>\n",
       "<polyline clip-path=\"url(#clip730)\" style=\"stroke:#000000; stroke-linecap:round; stroke-linejoin:round; stroke-width:4; stroke-opacity:1; fill:none\" points=\"178.867,1486.45 178.867,47.2441 \"/>\n",
       "<polyline clip-path=\"url(#clip730)\" style=\"stroke:#000000; stroke-linecap:round; stroke-linejoin:round; stroke-width:4; stroke-opacity:1; fill:none\" points=\"178.867,1224.26 197.764,1224.26 \"/>\n",
       "<polyline clip-path=\"url(#clip730)\" style=\"stroke:#000000; stroke-linecap:round; stroke-linejoin:round; stroke-width:4; stroke-opacity:1; fill:none\" points=\"178.867,927.319 197.764,927.319 \"/>\n",
       "<polyline clip-path=\"url(#clip730)\" style=\"stroke:#000000; stroke-linecap:round; stroke-linejoin:round; stroke-width:4; stroke-opacity:1; fill:none\" points=\"178.867,630.375 197.764,630.375 \"/>\n",
       "<polyline clip-path=\"url(#clip730)\" style=\"stroke:#000000; stroke-linecap:round; stroke-linejoin:round; stroke-width:4; stroke-opacity:1; fill:none\" points=\"178.867,333.43 197.764,333.43 \"/>\n",
       "<path clip-path=\"url(#clip730)\" d=\"M50.9921 1224.71 L80.6679 1224.71 L80.6679 1228.65 L50.9921 1228.65 L50.9921 1224.71 Z\" fill=\"#000000\" fill-rule=\"evenodd\" fill-opacity=\"1\" /><path clip-path=\"url(#clip730)\" d=\"M90.8067 1206.98 L109.163 1206.98 L109.163 1210.92 L95.0891 1210.92 L95.0891 1219.39 Q96.1076 1219.04 97.1261 1218.88 Q98.1447 1218.7 99.1632 1218.7 Q104.95 1218.7 108.33 1221.87 Q111.709 1225.04 111.709 1230.46 Q111.709 1236.03 108.237 1239.14 Q104.765 1242.21 98.4456 1242.21 Q96.2697 1242.21 94.0012 1241.84 Q91.7558 1241.47 89.3484 1240.73 L89.3484 1236.03 Q91.4317 1237.17 93.6539 1237.72 Q95.8761 1238.28 98.353 1238.28 Q102.358 1238.28 104.696 1236.17 Q107.033 1234.07 107.033 1230.46 Q107.033 1226.84 104.696 1224.74 Q102.358 1222.63 98.353 1222.63 Q96.478 1222.63 94.603 1223.05 Q92.7512 1223.46 90.8067 1224.34 L90.8067 1206.98 Z\" fill=\"#000000\" fill-rule=\"evenodd\" fill-opacity=\"1\" /><path clip-path=\"url(#clip730)\" d=\"M130.922 1210.06 Q127.311 1210.06 125.482 1213.63 Q123.677 1217.17 123.677 1224.3 Q123.677 1231.4 125.482 1234.97 Q127.311 1238.51 130.922 1238.51 Q134.556 1238.51 136.362 1234.97 Q138.191 1231.4 138.191 1224.3 Q138.191 1217.17 136.362 1213.63 Q134.556 1210.06 130.922 1210.06 M130.922 1206.36 Q136.732 1206.36 139.788 1210.96 Q142.867 1215.55 142.867 1224.3 Q142.867 1233.02 139.788 1237.63 Q136.732 1242.21 130.922 1242.21 Q125.112 1242.21 122.033 1237.63 Q118.978 1233.02 118.978 1224.3 Q118.978 1215.55 122.033 1210.96 Q125.112 1206.36 130.922 1206.36 Z\" fill=\"#000000\" fill-rule=\"evenodd\" fill-opacity=\"1\" /><path clip-path=\"url(#clip730)\" d=\"M130.922 913.118 Q127.311 913.118 125.482 916.682 Q123.677 920.224 123.677 927.354 Q123.677 934.46 125.482 938.025 Q127.311 941.567 130.922 941.567 Q134.556 941.567 136.362 938.025 Q138.191 934.46 138.191 927.354 Q138.191 920.224 136.362 916.682 Q134.556 913.118 130.922 913.118 M130.922 909.414 Q136.732 909.414 139.788 914.02 Q142.867 918.604 142.867 927.354 Q142.867 936.081 139.788 940.687 Q136.732 945.27 130.922 945.27 Q125.112 945.27 122.033 940.687 Q118.978 936.081 118.978 927.354 Q118.978 918.604 122.033 914.02 Q125.112 909.414 130.922 909.414 Z\" fill=\"#000000\" fill-rule=\"evenodd\" fill-opacity=\"1\" /><path clip-path=\"url(#clip730)\" d=\"M90.8067 613.095 L109.163 613.095 L109.163 617.03 L95.0891 617.03 L95.0891 625.502 Q96.1076 625.155 97.1261 624.993 Q98.1447 624.807 99.1632 624.807 Q104.95 624.807 108.33 627.979 Q111.709 631.15 111.709 636.567 Q111.709 642.145 108.237 645.247 Q104.765 648.326 98.4456 648.326 Q96.2697 648.326 94.0012 647.955 Q91.7558 647.585 89.3484 646.844 L89.3484 642.145 Q91.4317 643.28 93.6539 643.835 Q95.8761 644.391 98.353 644.391 Q102.358 644.391 104.696 642.284 Q107.033 640.178 107.033 636.567 Q107.033 632.956 104.696 630.849 Q102.358 628.743 98.353 628.743 Q96.478 628.743 94.603 629.159 Q92.7512 629.576 90.8067 630.456 L90.8067 613.095 Z\" fill=\"#000000\" fill-rule=\"evenodd\" fill-opacity=\"1\" /><path clip-path=\"url(#clip730)\" d=\"M130.922 616.173 Q127.311 616.173 125.482 619.738 Q123.677 623.28 123.677 630.409 Q123.677 637.516 125.482 641.081 Q127.311 644.622 130.922 644.622 Q134.556 644.622 136.362 641.081 Q138.191 637.516 138.191 630.409 Q138.191 623.28 136.362 619.738 Q134.556 616.173 130.922 616.173 M130.922 612.47 Q136.732 612.47 139.788 617.076 Q142.867 621.659 142.867 630.409 Q142.867 639.136 139.788 643.743 Q136.732 648.326 130.922 648.326 Q125.112 648.326 122.033 643.743 Q118.978 639.136 118.978 630.409 Q118.978 621.659 122.033 617.076 Q125.112 612.47 130.922 612.47 Z\" fill=\"#000000\" fill-rule=\"evenodd\" fill-opacity=\"1\" /><path clip-path=\"url(#clip730)\" d=\"M61.4087 346.775 L69.0476 346.775 L69.0476 320.409 L60.7374 322.076 L60.7374 317.817 L69.0013 316.15 L73.6772 316.15 L73.6772 346.775 L81.316 346.775 L81.316 350.71 L61.4087 350.71 L61.4087 346.775 Z\" fill=\"#000000\" fill-rule=\"evenodd\" fill-opacity=\"1\" /><path clip-path=\"url(#clip730)\" d=\"M100.76 319.229 Q97.1493 319.229 95.3206 322.794 Q93.515 326.335 93.515 333.465 Q93.515 340.571 95.3206 344.136 Q97.1493 347.678 100.76 347.678 Q104.395 347.678 106.2 344.136 Q108.029 340.571 108.029 333.465 Q108.029 326.335 106.2 322.794 Q104.395 319.229 100.76 319.229 M100.76 315.525 Q106.571 315.525 109.626 320.132 Q112.705 324.715 112.705 333.465 Q112.705 342.192 109.626 346.798 Q106.571 351.381 100.76 351.381 Q94.9502 351.381 91.8715 346.798 Q88.816 342.192 88.816 333.465 Q88.816 324.715 91.8715 320.132 Q94.9502 315.525 100.76 315.525 Z\" fill=\"#000000\" fill-rule=\"evenodd\" fill-opacity=\"1\" /><path clip-path=\"url(#clip730)\" d=\"M130.922 319.229 Q127.311 319.229 125.482 322.794 Q123.677 326.335 123.677 333.465 Q123.677 340.571 125.482 344.136 Q127.311 347.678 130.922 347.678 Q134.556 347.678 136.362 344.136 Q138.191 340.571 138.191 333.465 Q138.191 326.335 136.362 322.794 Q134.556 319.229 130.922 319.229 M130.922 315.525 Q136.732 315.525 139.788 320.132 Q142.867 324.715 142.867 333.465 Q142.867 342.192 139.788 346.798 Q136.732 351.381 130.922 351.381 Q125.112 351.381 122.033 346.798 Q118.978 342.192 118.978 333.465 Q118.978 324.715 122.033 320.132 Q125.112 315.525 130.922 315.525 Z\" fill=\"#000000\" fill-rule=\"evenodd\" fill-opacity=\"1\" /><circle clip-path=\"url(#clip732)\" cx=\"240.392\" cy=\"918.235\" r=\"14.4\" fill=\"#009af9\" fill-rule=\"evenodd\" fill-opacity=\"1\" stroke=\"#000000\" stroke-opacity=\"1\" stroke-width=\"3.2\"/>\n",
       "<circle clip-path=\"url(#clip732)\" cx=\"342.934\" cy=\"763.986\" r=\"14.4\" fill=\"#009af9\" fill-rule=\"evenodd\" fill-opacity=\"1\" stroke=\"#000000\" stroke-opacity=\"1\" stroke-width=\"3.2\"/>\n",
       "<circle clip-path=\"url(#clip732)\" cx=\"445.476\" cy=\"680.399\" r=\"14.4\" fill=\"#009af9\" fill-rule=\"evenodd\" fill-opacity=\"1\" stroke=\"#000000\" stroke-opacity=\"1\" stroke-width=\"3.2\"/>\n",
       "<circle clip-path=\"url(#clip732)\" cx=\"548.018\" cy=\"579.641\" r=\"14.4\" fill=\"#009af9\" fill-rule=\"evenodd\" fill-opacity=\"1\" stroke=\"#000000\" stroke-opacity=\"1\" stroke-width=\"3.2\"/>\n",
       "<circle clip-path=\"url(#clip732)\" cx=\"650.56\" cy=\"822.184\" r=\"14.4\" fill=\"#009af9\" fill-rule=\"evenodd\" fill-opacity=\"1\" stroke=\"#000000\" stroke-opacity=\"1\" stroke-width=\"3.2\"/>\n",
       "<circle clip-path=\"url(#clip732)\" cx=\"753.102\" cy=\"1024.86\" r=\"14.4\" fill=\"#009af9\" fill-rule=\"evenodd\" fill-opacity=\"1\" stroke=\"#000000\" stroke-opacity=\"1\" stroke-width=\"3.2\"/>\n",
       "<circle clip-path=\"url(#clip732)\" cx=\"855.643\" cy=\"808.074\" r=\"14.4\" fill=\"#009af9\" fill-rule=\"evenodd\" fill-opacity=\"1\" stroke=\"#000000\" stroke-opacity=\"1\" stroke-width=\"3.2\"/>\n",
       "<circle clip-path=\"url(#clip732)\" cx=\"958.185\" cy=\"777.913\" r=\"14.4\" fill=\"#009af9\" fill-rule=\"evenodd\" fill-opacity=\"1\" stroke=\"#000000\" stroke-opacity=\"1\" stroke-width=\"3.2\"/>\n",
       "<circle clip-path=\"url(#clip732)\" cx=\"1060.73\" cy=\"700.996\" r=\"14.4\" fill=\"#009af9\" fill-rule=\"evenodd\" fill-opacity=\"1\" stroke=\"#000000\" stroke-opacity=\"1\" stroke-width=\"3.2\"/>\n",
       "<circle clip-path=\"url(#clip732)\" cx=\"1163.27\" cy=\"1445.72\" r=\"14.4\" fill=\"#009af9\" fill-rule=\"evenodd\" fill-opacity=\"1\" stroke=\"#000000\" stroke-opacity=\"1\" stroke-width=\"3.2\"/>\n",
       "<circle clip-path=\"url(#clip732)\" cx=\"1265.81\" cy=\"1240.82\" r=\"14.4\" fill=\"#009af9\" fill-rule=\"evenodd\" fill-opacity=\"1\" stroke=\"#000000\" stroke-opacity=\"1\" stroke-width=\"3.2\"/>\n",
       "<circle clip-path=\"url(#clip732)\" cx=\"1368.35\" cy=\"767.238\" r=\"14.4\" fill=\"#009af9\" fill-rule=\"evenodd\" fill-opacity=\"1\" stroke=\"#000000\" stroke-opacity=\"1\" stroke-width=\"3.2\"/>\n",
       "<circle clip-path=\"url(#clip732)\" cx=\"1470.9\" cy=\"939.011\" r=\"14.4\" fill=\"#009af9\" fill-rule=\"evenodd\" fill-opacity=\"1\" stroke=\"#000000\" stroke-opacity=\"1\" stroke-width=\"3.2\"/>\n",
       "<circle clip-path=\"url(#clip732)\" cx=\"1573.44\" cy=\"87.9763\" r=\"14.4\" fill=\"#009af9\" fill-rule=\"evenodd\" fill-opacity=\"1\" stroke=\"#000000\" stroke-opacity=\"1\" stroke-width=\"3.2\"/>\n",
       "<circle clip-path=\"url(#clip732)\" cx=\"1675.98\" cy=\"940.52\" r=\"14.4\" fill=\"#009af9\" fill-rule=\"evenodd\" fill-opacity=\"1\" stroke=\"#000000\" stroke-opacity=\"1\" stroke-width=\"3.2\"/>\n",
       "<circle clip-path=\"url(#clip732)\" cx=\"1778.52\" cy=\"586.552\" r=\"14.4\" fill=\"#009af9\" fill-rule=\"evenodd\" fill-opacity=\"1\" stroke=\"#000000\" stroke-opacity=\"1\" stroke-width=\"3.2\"/>\n",
       "<circle clip-path=\"url(#clip732)\" cx=\"1881.06\" cy=\"527.304\" r=\"14.4\" fill=\"#009af9\" fill-rule=\"evenodd\" fill-opacity=\"1\" stroke=\"#000000\" stroke-opacity=\"1\" stroke-width=\"3.2\"/>\n",
       "<circle clip-path=\"url(#clip732)\" cx=\"1983.6\" cy=\"765.954\" r=\"14.4\" fill=\"#009af9\" fill-rule=\"evenodd\" fill-opacity=\"1\" stroke=\"#000000\" stroke-opacity=\"1\" stroke-width=\"3.2\"/>\n",
       "<circle clip-path=\"url(#clip732)\" cx=\"2086.15\" cy=\"791.437\" r=\"14.4\" fill=\"#009af9\" fill-rule=\"evenodd\" fill-opacity=\"1\" stroke=\"#000000\" stroke-opacity=\"1\" stroke-width=\"3.2\"/>\n",
       "<circle clip-path=\"url(#clip732)\" cx=\"2188.69\" cy=\"236.945\" r=\"14.4\" fill=\"#009af9\" fill-rule=\"evenodd\" fill-opacity=\"1\" stroke=\"#000000\" stroke-opacity=\"1\" stroke-width=\"3.2\"/>\n",
       "<circle clip-path=\"url(#clip732)\" cx=\"2291.23\" cy=\"743.16\" r=\"14.4\" fill=\"#009af9\" fill-rule=\"evenodd\" fill-opacity=\"1\" stroke=\"#000000\" stroke-opacity=\"1\" stroke-width=\"3.2\"/>\n",
       "<polyline clip-path=\"url(#clip732)\" style=\"stroke:#e26f46; stroke-linecap:round; stroke-linejoin:round; stroke-width:4; stroke-opacity:1; fill:none\" points=\"240.392,523.475 342.934,618.497 445.476,701.641 548.018,772.908 650.56,832.297 753.102,879.808 855.643,915.441 958.185,939.197 1060.73,951.075 1163.27,951.075 1265.81,939.197 1368.35,915.441 1470.9,879.808 1573.44,832.297 1675.98,772.908 1778.52,701.641 1881.06,618.497 1983.6,523.475 2086.15,416.575 2188.69,297.797 2291.23,167.141 \"/>\n",
       "<polyline clip-path=\"url(#clip732)\" style=\"stroke:#3da44d; stroke-linecap:round; stroke-linejoin:round; stroke-width:4; stroke-opacity:1; fill:none\" points=\"240.392,753.899 342.934,784.415 445.476,810.351 548.018,831.707 650.56,848.484 753.102,860.68 855.643,868.296 958.185,871.333 1060.73,869.789 1163.27,863.665 1265.81,852.962 1368.35,837.679 1470.9,817.815 1573.44,793.372 1675.98,764.349 1778.52,730.746 1881.06,692.563 1983.6,649.8 2086.15,602.457 2188.69,550.534 2291.23,494.031 \"/>\n",
       "<path clip-path=\"url(#clip730)\" d=\"M251.33 302.578 L708.833 302.578 L708.833 95.2176 L251.33 95.2176  Z\" fill=\"#ffffff\" fill-rule=\"evenodd\" fill-opacity=\"1\"/>\n",
       "<polyline clip-path=\"url(#clip730)\" style=\"stroke:#000000; stroke-linecap:round; stroke-linejoin:round; stroke-width:4; stroke-opacity:1; fill:none\" points=\"251.33,302.578 708.833,302.578 708.833,95.2176 251.33,95.2176 251.33,302.578 \"/>\n",
       "<circle clip-path=\"url(#clip730)\" cx=\"347.947\" cy=\"147.058\" r=\"23.04\" fill=\"#009af9\" fill-rule=\"evenodd\" fill-opacity=\"1\" stroke=\"#000000\" stroke-opacity=\"1\" stroke-width=\"5.12\"/>\n",
       "<path clip-path=\"url(#clip730)\" d=\"M449.24 133.62 L449.24 160.495 L454.888 160.495 Q462.041 160.495 465.351 157.254 Q468.684 154.014 468.684 147.023 Q468.684 140.078 465.351 136.861 Q462.041 133.62 454.888 133.62 L449.24 133.62 M444.564 129.778 L454.171 129.778 Q464.217 129.778 468.916 133.967 Q473.615 138.134 473.615 147.023 Q473.615 155.958 468.893 160.148 Q464.171 164.338 454.171 164.338 L444.564 164.338 L444.564 129.778 Z\" fill=\"#000000\" fill-rule=\"evenodd\" fill-opacity=\"1\" /><path clip-path=\"url(#clip730)\" d=\"M492.666 151.305 Q487.504 151.305 485.513 152.486 Q483.522 153.666 483.522 156.514 Q483.522 158.782 485.004 160.125 Q486.508 161.444 489.078 161.444 Q492.62 161.444 494.749 158.944 Q496.902 156.421 496.902 152.254 L496.902 151.305 L492.666 151.305 M501.161 149.546 L501.161 164.338 L496.902 164.338 L496.902 160.402 Q495.444 162.763 493.268 163.898 Q491.092 165.009 487.944 165.009 Q483.962 165.009 481.601 162.787 Q479.263 160.541 479.263 156.791 Q479.263 152.416 482.18 150.194 Q485.12 147.972 490.93 147.972 L496.902 147.972 L496.902 147.555 Q496.902 144.615 494.957 143.018 Q493.036 141.398 489.541 141.398 Q487.319 141.398 485.212 141.93 Q483.106 142.463 481.161 143.527 L481.161 139.592 Q483.499 138.69 485.698 138.25 Q487.897 137.787 489.981 137.787 Q495.606 137.787 498.383 140.703 Q501.161 143.62 501.161 149.546 Z\" fill=\"#000000\" fill-rule=\"evenodd\" fill-opacity=\"1\" /><path clip-path=\"url(#clip730)\" d=\"M514.147 131.051 L514.147 138.412 L522.92 138.412 L522.92 141.722 L514.147 141.722 L514.147 155.796 Q514.147 158.967 515.004 159.87 Q515.883 160.773 518.545 160.773 L522.92 160.773 L522.92 164.338 L518.545 164.338 Q513.615 164.338 511.74 162.509 Q509.865 160.657 509.865 155.796 L509.865 141.722 L506.74 141.722 L506.74 138.412 L509.865 138.412 L509.865 131.051 L514.147 131.051 Z\" fill=\"#000000\" fill-rule=\"evenodd\" fill-opacity=\"1\" /><path clip-path=\"url(#clip730)\" d=\"M540.304 151.305 Q535.142 151.305 533.152 152.486 Q531.161 153.666 531.161 156.514 Q531.161 158.782 532.642 160.125 Q534.147 161.444 536.716 161.444 Q540.258 161.444 542.388 158.944 Q544.541 156.421 544.541 152.254 L544.541 151.305 L540.304 151.305 M548.8 149.546 L548.8 164.338 L544.541 164.338 L544.541 160.402 Q543.082 162.763 540.906 163.898 Q538.73 165.009 535.582 165.009 Q531.601 165.009 529.24 162.787 Q526.902 160.541 526.902 156.791 Q526.902 152.416 529.818 150.194 Q532.758 147.972 538.568 147.972 L544.541 147.972 L544.541 147.555 Q544.541 144.615 542.596 143.018 Q540.675 141.398 537.179 141.398 Q534.957 141.398 532.851 141.93 Q530.744 142.463 528.8 143.527 L528.8 139.592 Q531.138 138.69 533.337 138.25 Q535.536 137.787 537.619 137.787 Q543.244 137.787 546.022 140.703 Q548.8 143.62 548.8 149.546 Z\" fill=\"#000000\" fill-rule=\"evenodd\" fill-opacity=\"1\" /><polyline clip-path=\"url(#clip730)\" style=\"stroke:#e26f46; stroke-linecap:round; stroke-linejoin:round; stroke-width:4; stroke-opacity:1; fill:none\" points=\"275.484,198.898 420.41,198.898 \"/>\n",
       "<path clip-path=\"url(#clip730)\" d=\"M444.564 181.618 L473.8 181.618 L473.8 185.553 L461.532 185.553 L461.532 216.178 L456.833 216.178 L456.833 185.553 L444.564 185.553 L444.564 181.618 Z\" fill=\"#000000\" fill-rule=\"evenodd\" fill-opacity=\"1\" /><path clip-path=\"url(#clip730)\" d=\"M486.184 194.233 Q485.467 193.817 484.61 193.631 Q483.777 193.423 482.758 193.423 Q479.147 193.423 477.203 195.784 Q475.282 198.122 475.282 202.52 L475.282 216.178 L470.999 216.178 L470.999 190.252 L475.282 190.252 L475.282 194.28 Q476.624 191.918 478.777 190.784 Q480.93 189.627 484.008 189.627 Q484.448 189.627 484.981 189.696 Q485.513 189.743 486.161 189.858 L486.184 194.233 Z\" fill=\"#000000\" fill-rule=\"evenodd\" fill-opacity=\"1\" /><path clip-path=\"url(#clip730)\" d=\"M490.212 205.946 L490.212 190.252 L494.471 190.252 L494.471 205.784 Q494.471 209.465 495.907 211.316 Q497.342 213.145 500.212 213.145 Q503.661 213.145 505.652 210.946 Q507.666 208.747 507.666 204.951 L507.666 190.252 L511.925 190.252 L511.925 216.178 L507.666 216.178 L507.666 212.196 Q506.115 214.557 504.055 215.715 Q502.018 216.849 499.309 216.849 Q494.842 216.849 492.527 214.071 Q490.212 211.293 490.212 205.946 M500.93 189.627 L500.93 189.627 Z\" fill=\"#000000\" fill-rule=\"evenodd\" fill-opacity=\"1\" /><path clip-path=\"url(#clip730)\" d=\"M542.874 202.15 L542.874 204.233 L523.291 204.233 Q523.568 208.631 525.93 210.946 Q528.314 213.238 532.55 213.238 Q535.004 213.238 537.295 212.636 Q539.61 212.034 541.879 210.83 L541.879 214.858 Q539.587 215.83 537.179 216.34 Q534.772 216.849 532.295 216.849 Q526.092 216.849 522.457 213.238 Q518.846 209.627 518.846 203.469 Q518.846 197.104 522.272 193.377 Q525.721 189.627 531.554 189.627 Q536.786 189.627 539.818 193.006 Q542.874 196.363 542.874 202.15 M538.615 200.9 Q538.568 197.405 536.647 195.321 Q534.749 193.238 531.601 193.238 Q528.036 193.238 525.883 195.252 Q523.754 197.266 523.43 200.923 L538.615 200.9 Z\" fill=\"#000000\" fill-rule=\"evenodd\" fill-opacity=\"1\" /><path clip-path=\"url(#clip730)\" d=\"M565.119 181.618 L569.795 181.618 L569.795 212.242 L586.624 212.242 L586.624 216.178 L565.119 216.178 L565.119 181.618 Z\" fill=\"#000000\" fill-rule=\"evenodd\" fill-opacity=\"1\" /><path clip-path=\"url(#clip730)\" d=\"M591.346 190.252 L595.605 190.252 L595.605 216.178 L591.346 216.178 L591.346 190.252 M591.346 180.159 L595.605 180.159 L595.605 185.553 L591.346 185.553 L591.346 180.159 Z\" fill=\"#000000\" fill-rule=\"evenodd\" fill-opacity=\"1\" /><path clip-path=\"url(#clip730)\" d=\"M626.068 200.529 L626.068 216.178 L621.809 216.178 L621.809 200.668 Q621.809 196.988 620.373 195.159 Q618.938 193.33 616.068 193.33 Q612.619 193.33 610.628 195.53 Q608.637 197.729 608.637 201.525 L608.637 216.178 L604.355 216.178 L604.355 190.252 L608.637 190.252 L608.637 194.28 Q610.165 191.942 612.225 190.784 Q614.309 189.627 617.017 189.627 Q621.485 189.627 623.776 192.405 Q626.068 195.159 626.068 200.529 Z\" fill=\"#000000\" fill-rule=\"evenodd\" fill-opacity=\"1\" /><path clip-path=\"url(#clip730)\" d=\"M656.739 202.15 L656.739 204.233 L637.156 204.233 Q637.434 208.631 639.795 210.946 Q642.179 213.238 646.415 213.238 Q648.869 213.238 651.16 212.636 Q653.475 212.034 655.744 210.83 L655.744 214.858 Q653.452 215.83 651.045 216.34 Q648.637 216.849 646.16 216.849 Q639.957 216.849 636.322 213.238 Q632.711 209.627 632.711 203.469 Q632.711 197.104 636.137 193.377 Q639.586 189.627 645.42 189.627 Q650.651 189.627 653.683 193.006 Q656.739 196.363 656.739 202.15 M652.48 200.9 Q652.433 197.405 650.512 195.321 Q648.614 193.238 645.466 193.238 Q641.901 193.238 639.748 195.252 Q637.619 197.266 637.295 200.923 L652.48 200.9 Z\" fill=\"#000000\" fill-rule=\"evenodd\" fill-opacity=\"1\" /><polyline clip-path=\"url(#clip730)\" style=\"stroke:#3da44d; stroke-linecap:round; stroke-linejoin:round; stroke-width:4; stroke-opacity:1; fill:none\" points=\"275.484,250.738 420.41,250.738 \"/>\n",
       "<path clip-path=\"url(#clip730)\" d=\"M444.564 233.458 L464.425 233.458 L464.425 237.393 L449.24 237.393 L449.24 247.578 L462.944 247.578 L462.944 251.513 L449.24 251.513 L449.24 268.018 L444.564 268.018 L444.564 233.458 Z\" fill=\"#000000\" fill-rule=\"evenodd\" fill-opacity=\"1\" /><path clip-path=\"url(#clip730)\" d=\"M468.198 242.092 L472.458 242.092 L472.458 268.018 L468.198 268.018 L468.198 242.092 M468.198 231.999 L472.458 231.999 L472.458 237.393 L468.198 237.393 L468.198 231.999 Z\" fill=\"#000000\" fill-rule=\"evenodd\" fill-opacity=\"1\" /><path clip-path=\"url(#clip730)\" d=\"M485.583 234.731 L485.583 242.092 L494.356 242.092 L494.356 245.402 L485.583 245.402 L485.583 259.476 Q485.583 262.647 486.439 263.55 Q487.319 264.453 489.981 264.453 L494.356 264.453 L494.356 268.018 L489.981 268.018 Q485.05 268.018 483.175 266.189 Q481.3 264.337 481.3 259.476 L481.3 245.402 L478.175 245.402 L478.175 242.092 L481.3 242.092 L481.3 234.731 L485.583 234.731 Z\" fill=\"#000000\" fill-rule=\"evenodd\" fill-opacity=\"1\" /><path clip-path=\"url(#clip730)\" d=\"M504.17 234.731 L504.17 242.092 L512.943 242.092 L512.943 245.402 L504.17 245.402 L504.17 259.476 Q504.17 262.647 505.027 263.55 Q505.906 264.453 508.568 264.453 L512.943 264.453 L512.943 268.018 L508.568 268.018 Q503.638 268.018 501.763 266.189 Q499.888 264.337 499.888 259.476 L499.888 245.402 L496.763 245.402 L496.763 242.092 L499.888 242.092 L499.888 234.731 L504.17 234.731 Z\" fill=\"#000000\" fill-rule=\"evenodd\" fill-opacity=\"1\" /><path clip-path=\"url(#clip730)\" d=\"M540.721 253.99 L540.721 256.073 L521.138 256.073 Q521.416 260.471 523.777 262.786 Q526.161 265.078 530.397 265.078 Q532.851 265.078 535.142 264.476 Q537.457 263.874 539.726 262.67 L539.726 266.698 Q537.434 267.67 535.027 268.18 Q532.619 268.689 530.142 268.689 Q523.939 268.689 520.305 265.078 Q516.693 261.467 516.693 255.309 Q516.693 248.944 520.119 245.217 Q523.568 241.467 529.402 241.467 Q534.633 241.467 537.666 244.846 Q540.721 248.203 540.721 253.99 M536.462 252.74 Q536.416 249.245 534.494 247.161 Q532.596 245.078 529.448 245.078 Q525.883 245.078 523.73 247.092 Q521.601 249.106 521.277 252.763 L536.462 252.74 Z\" fill=\"#000000\" fill-rule=\"evenodd\" fill-opacity=\"1\" /><path clip-path=\"url(#clip730)\" d=\"M564.772 246.027 L564.772 231.999 L569.031 231.999 L569.031 268.018 L564.772 268.018 L564.772 264.129 Q563.429 266.443 561.369 267.578 Q559.332 268.689 556.462 268.689 Q551.763 268.689 548.8 264.939 Q545.86 261.189 545.86 255.078 Q545.86 248.967 548.8 245.217 Q551.763 241.467 556.462 241.467 Q559.332 241.467 561.369 242.601 Q563.429 243.712 564.772 246.027 M550.258 255.078 Q550.258 259.777 552.179 262.462 Q554.124 265.124 557.503 265.124 Q560.883 265.124 562.827 262.462 Q564.772 259.777 564.772 255.078 Q564.772 250.379 562.827 247.717 Q560.883 245.032 557.503 245.032 Q554.124 245.032 552.179 247.717 Q550.258 250.379 550.258 255.078 Z\" fill=\"#000000\" fill-rule=\"evenodd\" fill-opacity=\"1\" /><path clip-path=\"url(#clip730)\" d=\"M593.059 233.458 L597.735 233.458 L597.735 264.082 L614.563 264.082 L614.563 268.018 L593.059 268.018 L593.059 233.458 Z\" fill=\"#000000\" fill-rule=\"evenodd\" fill-opacity=\"1\" /><path clip-path=\"url(#clip730)\" d=\"M619.285 242.092 L623.545 242.092 L623.545 268.018 L619.285 268.018 L619.285 242.092 M619.285 231.999 L623.545 231.999 L623.545 237.393 L619.285 237.393 L619.285 231.999 Z\" fill=\"#000000\" fill-rule=\"evenodd\" fill-opacity=\"1\" /><path clip-path=\"url(#clip730)\" d=\"M654.008 252.369 L654.008 268.018 L649.748 268.018 L649.748 252.508 Q649.748 248.828 648.313 246.999 Q646.878 245.17 644.008 245.17 Q640.559 245.17 638.568 247.37 Q636.577 249.569 636.577 253.365 L636.577 268.018 L632.295 268.018 L632.295 242.092 L636.577 242.092 L636.577 246.12 Q638.105 243.782 640.165 242.624 Q642.248 241.467 644.957 241.467 Q649.424 241.467 651.716 244.245 Q654.008 246.999 654.008 252.369 Z\" fill=\"#000000\" fill-rule=\"evenodd\" fill-opacity=\"1\" /><path clip-path=\"url(#clip730)\" d=\"M684.679 253.99 L684.679 256.073 L665.095 256.073 Q665.373 260.471 667.734 262.786 Q670.119 265.078 674.355 265.078 Q676.808 265.078 679.1 264.476 Q681.415 263.874 683.683 262.67 L683.683 266.698 Q681.392 267.67 678.984 268.18 Q676.577 268.689 674.1 268.689 Q667.896 268.689 664.262 265.078 Q660.651 261.467 660.651 255.309 Q660.651 248.944 664.077 245.217 Q667.526 241.467 673.359 241.467 Q678.591 241.467 681.623 244.846 Q684.679 248.203 684.679 253.99 M680.419 252.74 Q680.373 249.245 678.452 247.161 Q676.554 245.078 673.406 245.078 Q669.841 245.078 667.688 247.092 Q665.558 249.106 665.234 252.763 L680.419 252.74 Z\" fill=\"#000000\" fill-rule=\"evenodd\" fill-opacity=\"1\" /></svg>\n"
      ]
     },
     "execution_count": 10,
     "metadata": {},
     "output_type": "execute_result"
    }
   ],
   "source": [
    "d2 = di.Normal(0, 50)\n",
    "y_observed2 = y_true .+ rand(d2,length(x))\n",
    "\n",
    "scatter(x, y_observed2, label = \"Data\")\n",
    "plot!(x, y_true, label = \"True Line\")\n",
    "\n",
    "fit_coeff2 = coeffs(fit(x, y_observed2, 2))\n",
    "y_fit2 = fit_coeff2[1] .+ (fit_coeff2[2] .* x) .+ (fit_coeff2[3] .* x.^2)\n",
    "plot!(x, y_fit2, label = \"Fitted Line\")"
   ]
  },
  {
   "cell_type": "markdown",
   "id": "ab12acbd",
   "metadata": {},
   "source": [
    "2. Compare the plot with the plot in 2.3. Is the fit closer to y_true or not, and why?"
   ]
  },
  {
   "cell_type": "markdown",
   "id": "a34fcca4",
   "metadata": {},
   "source": [
    "This plot in 2.4 is not a closer fit to y_true whereas the plot in 2.3 is. This is because the Gaussian noise for the plot in 2.3 has a lower standard deviation. This makes the fitted data to be closer to y_true. The plot in 2.4 had Gaussian noises with a greater standard deviation. This made the fitted curve to be less close to y_true."
   ]
  },
  {
   "cell_type": "markdown",
   "id": "5fd1d93b",
   "metadata": {},
   "source": [
    "### 2.5\n",
    "\n",
    "#### Repeat 2.2 and 2.3 with a tenth order polynomial fit\n"
   ]
  },
  {
   "cell_type": "code",
   "execution_count": 13,
   "id": "b6dbd546",
   "metadata": {},
   "outputs": [
    {
     "data": {
      "image/svg+xml": [
       "<?xml version=\"1.0\" encoding=\"utf-8\"?>\n",
       "<svg xmlns=\"http://www.w3.org/2000/svg\" xmlns:xlink=\"http://www.w3.org/1999/xlink\" width=\"600\" height=\"400\" viewBox=\"0 0 2400 1600\">\n",
       "<defs>\n",
       "  <clipPath id=\"clip850\">\n",
       "    <rect x=\"0\" y=\"0\" width=\"2400\" height=\"1600\"/>\n",
       "  </clipPath>\n",
       "</defs>\n",
       "<path clip-path=\"url(#clip850)\" d=\"M0 1600 L2400 1600 L2400 0 L0 0  Z\" fill=\"#ffffff\" fill-rule=\"evenodd\" fill-opacity=\"1\"/>\n",
       "<defs>\n",
       "  <clipPath id=\"clip851\">\n",
       "    <rect x=\"480\" y=\"0\" width=\"1681\" height=\"1600\"/>\n",
       "  </clipPath>\n",
       "</defs>\n",
       "<path clip-path=\"url(#clip850)\" d=\"M172.015 1486.45 L2352.76 1486.45 L2352.76 47.2441 L172.015 47.2441  Z\" fill=\"#ffffff\" fill-rule=\"evenodd\" fill-opacity=\"1\"/>\n",
       "<defs>\n",
       "  <clipPath id=\"clip852\">\n",
       "    <rect x=\"172\" y=\"47\" width=\"2182\" height=\"1440\"/>\n",
       "  </clipPath>\n",
       "</defs>\n",
       "<polyline clip-path=\"url(#clip852)\" style=\"stroke:#000000; stroke-linecap:round; stroke-linejoin:round; stroke-width:2; stroke-opacity:0.1; fill:none\" points=\"233.734,1486.45 233.734,47.2441 \"/>\n",
       "<polyline clip-path=\"url(#clip852)\" style=\"stroke:#000000; stroke-linecap:round; stroke-linejoin:round; stroke-width:2; stroke-opacity:0.1; fill:none\" points=\"748.06,1486.45 748.06,47.2441 \"/>\n",
       "<polyline clip-path=\"url(#clip852)\" style=\"stroke:#000000; stroke-linecap:round; stroke-linejoin:round; stroke-width:2; stroke-opacity:0.1; fill:none\" points=\"1262.39,1486.45 1262.39,47.2441 \"/>\n",
       "<polyline clip-path=\"url(#clip852)\" style=\"stroke:#000000; stroke-linecap:round; stroke-linejoin:round; stroke-width:2; stroke-opacity:0.1; fill:none\" points=\"1776.71,1486.45 1776.71,47.2441 \"/>\n",
       "<polyline clip-path=\"url(#clip852)\" style=\"stroke:#000000; stroke-linecap:round; stroke-linejoin:round; stroke-width:2; stroke-opacity:0.1; fill:none\" points=\"2291.04,1486.45 2291.04,47.2441 \"/>\n",
       "<polyline clip-path=\"url(#clip850)\" style=\"stroke:#000000; stroke-linecap:round; stroke-linejoin:round; stroke-width:4; stroke-opacity:1; fill:none\" points=\"172.015,1486.45 2352.76,1486.45 \"/>\n",
       "<polyline clip-path=\"url(#clip850)\" style=\"stroke:#000000; stroke-linecap:round; stroke-linejoin:round; stroke-width:4; stroke-opacity:1; fill:none\" points=\"233.734,1486.45 233.734,1467.55 \"/>\n",
       "<polyline clip-path=\"url(#clip850)\" style=\"stroke:#000000; stroke-linecap:round; stroke-linejoin:round; stroke-width:4; stroke-opacity:1; fill:none\" points=\"748.06,1486.45 748.06,1467.55 \"/>\n",
       "<polyline clip-path=\"url(#clip850)\" style=\"stroke:#000000; stroke-linecap:round; stroke-linejoin:round; stroke-width:4; stroke-opacity:1; fill:none\" points=\"1262.39,1486.45 1262.39,1467.55 \"/>\n",
       "<polyline clip-path=\"url(#clip850)\" style=\"stroke:#000000; stroke-linecap:round; stroke-linejoin:round; stroke-width:4; stroke-opacity:1; fill:none\" points=\"1776.71,1486.45 1776.71,1467.55 \"/>\n",
       "<polyline clip-path=\"url(#clip850)\" style=\"stroke:#000000; stroke-linecap:round; stroke-linejoin:round; stroke-width:4; stroke-opacity:1; fill:none\" points=\"2291.04,1486.45 2291.04,1467.55 \"/>\n",
       "<path clip-path=\"url(#clip850)\" d=\"M187.797 1532.02 L217.472 1532.02 L217.472 1535.95 L187.797 1535.95 L187.797 1532.02 Z\" fill=\"#000000\" fill-rule=\"evenodd\" fill-opacity=\"1\" /><path clip-path=\"url(#clip850)\" d=\"M228.375 1544.91 L236.014 1544.91 L236.014 1518.55 L227.704 1520.21 L227.704 1515.95 L235.968 1514.29 L240.644 1514.29 L240.644 1544.91 L248.282 1544.91 L248.282 1548.85 L228.375 1548.85 L228.375 1544.91 Z\" fill=\"#000000\" fill-rule=\"evenodd\" fill-opacity=\"1\" /><path clip-path=\"url(#clip850)\" d=\"M267.727 1517.37 Q264.116 1517.37 262.287 1520.93 Q260.481 1524.47 260.481 1531.6 Q260.481 1538.71 262.287 1542.27 Q264.116 1545.82 267.727 1545.82 Q271.361 1545.82 273.167 1542.27 Q274.995 1538.71 274.995 1531.6 Q274.995 1524.47 273.167 1520.93 Q271.361 1517.37 267.727 1517.37 M267.727 1513.66 Q273.537 1513.66 276.592 1518.27 Q279.671 1522.85 279.671 1531.6 Q279.671 1540.33 276.592 1544.94 Q273.537 1549.52 267.727 1549.52 Q261.917 1549.52 258.838 1544.94 Q255.782 1540.33 255.782 1531.6 Q255.782 1522.85 258.838 1518.27 Q261.917 1513.66 267.727 1513.66 Z\" fill=\"#000000\" fill-rule=\"evenodd\" fill-opacity=\"1\" /><path clip-path=\"url(#clip850)\" d=\"M717.701 1532.02 L747.377 1532.02 L747.377 1535.95 L717.701 1535.95 L717.701 1532.02 Z\" fill=\"#000000\" fill-rule=\"evenodd\" fill-opacity=\"1\" /><path clip-path=\"url(#clip850)\" d=\"M757.516 1514.29 L775.872 1514.29 L775.872 1518.22 L761.798 1518.22 L761.798 1526.7 Q762.816 1526.35 763.835 1526.19 Q764.854 1526 765.872 1526 Q771.659 1526 775.039 1529.17 Q778.418 1532.34 778.418 1537.76 Q778.418 1543.34 774.946 1546.44 Q771.474 1549.52 765.154 1549.52 Q762.979 1549.52 760.71 1549.15 Q758.465 1548.78 756.057 1548.04 L756.057 1543.34 Q758.141 1544.47 760.363 1545.03 Q762.585 1545.58 765.062 1545.58 Q769.066 1545.58 771.404 1543.48 Q773.742 1541.37 773.742 1537.76 Q773.742 1534.15 771.404 1532.04 Q769.066 1529.94 765.062 1529.94 Q763.187 1529.94 761.312 1530.35 Q759.46 1530.77 757.516 1531.65 L757.516 1514.29 Z\" fill=\"#000000\" fill-rule=\"evenodd\" fill-opacity=\"1\" /><path clip-path=\"url(#clip850)\" d=\"M1262.39 1517.37 Q1258.77 1517.37 1256.95 1520.93 Q1255.14 1524.47 1255.14 1531.6 Q1255.14 1538.71 1256.95 1542.27 Q1258.77 1545.82 1262.39 1545.82 Q1266.02 1545.82 1267.83 1542.27 Q1269.65 1538.71 1269.65 1531.6 Q1269.65 1524.47 1267.83 1520.93 Q1266.02 1517.37 1262.39 1517.37 M1262.39 1513.66 Q1268.2 1513.66 1271.25 1518.27 Q1274.33 1522.85 1274.33 1531.6 Q1274.33 1540.33 1271.25 1544.94 Q1268.2 1549.52 1262.39 1549.52 Q1256.58 1549.52 1253.5 1544.94 Q1250.44 1540.33 1250.44 1531.6 Q1250.44 1522.85 1253.5 1518.27 Q1256.58 1513.66 1262.39 1513.66 Z\" fill=\"#000000\" fill-rule=\"evenodd\" fill-opacity=\"1\" /><path clip-path=\"url(#clip850)\" d=\"M1766.99 1514.29 L1785.35 1514.29 L1785.35 1518.22 L1771.27 1518.22 L1771.27 1526.7 Q1772.29 1526.35 1773.31 1526.19 Q1774.33 1526 1775.35 1526 Q1781.13 1526 1784.51 1529.17 Q1787.89 1532.34 1787.89 1537.76 Q1787.89 1543.34 1784.42 1546.44 Q1780.95 1549.52 1774.63 1549.52 Q1772.45 1549.52 1770.18 1549.15 Q1767.94 1548.78 1765.53 1548.04 L1765.53 1543.34 Q1767.61 1544.47 1769.84 1545.03 Q1772.06 1545.58 1774.54 1545.58 Q1778.54 1545.58 1780.88 1543.48 Q1783.22 1541.37 1783.22 1537.76 Q1783.22 1534.15 1780.88 1532.04 Q1778.54 1529.94 1774.54 1529.94 Q1772.66 1529.94 1770.79 1530.35 Q1768.93 1530.77 1766.99 1531.65 L1766.99 1514.29 Z\" fill=\"#000000\" fill-rule=\"evenodd\" fill-opacity=\"1\" /><path clip-path=\"url(#clip850)\" d=\"M2265.72 1544.91 L2273.36 1544.91 L2273.36 1518.55 L2265.05 1520.21 L2265.05 1515.95 L2273.32 1514.29 L2277.99 1514.29 L2277.99 1544.91 L2285.63 1544.91 L2285.63 1548.85 L2265.72 1548.85 L2265.72 1544.91 Z\" fill=\"#000000\" fill-rule=\"evenodd\" fill-opacity=\"1\" /><path clip-path=\"url(#clip850)\" d=\"M2305.08 1517.37 Q2301.47 1517.37 2299.64 1520.93 Q2297.83 1524.47 2297.83 1531.6 Q2297.83 1538.71 2299.64 1542.27 Q2301.47 1545.82 2305.08 1545.82 Q2308.71 1545.82 2310.52 1542.27 Q2312.34 1538.71 2312.34 1531.6 Q2312.34 1524.47 2310.52 1520.93 Q2308.71 1517.37 2305.08 1517.37 M2305.08 1513.66 Q2310.89 1513.66 2313.94 1518.27 Q2317.02 1522.85 2317.02 1531.6 Q2317.02 1540.33 2313.94 1544.94 Q2310.89 1549.52 2305.08 1549.52 Q2299.27 1549.52 2296.19 1544.94 Q2293.13 1540.33 2293.13 1531.6 Q2293.13 1522.85 2296.19 1518.27 Q2299.27 1513.66 2305.08 1513.66 Z\" fill=\"#000000\" fill-rule=\"evenodd\" fill-opacity=\"1\" /><polyline clip-path=\"url(#clip852)\" style=\"stroke:#000000; stroke-linecap:round; stroke-linejoin:round; stroke-width:2; stroke-opacity:0.1; fill:none\" points=\"172.015,1429.56 2352.76,1429.56 \"/>\n",
       "<polyline clip-path=\"url(#clip852)\" style=\"stroke:#000000; stroke-linecap:round; stroke-linejoin:round; stroke-width:2; stroke-opacity:0.1; fill:none\" points=\"172.015,1179.33 2352.76,1179.33 \"/>\n",
       "<polyline clip-path=\"url(#clip852)\" style=\"stroke:#000000; stroke-linecap:round; stroke-linejoin:round; stroke-width:2; stroke-opacity:0.1; fill:none\" points=\"172.015,929.101 2352.76,929.101 \"/>\n",
       "<polyline clip-path=\"url(#clip852)\" style=\"stroke:#000000; stroke-linecap:round; stroke-linejoin:round; stroke-width:2; stroke-opacity:0.1; fill:none\" points=\"172.015,678.87 2352.76,678.87 \"/>\n",
       "<polyline clip-path=\"url(#clip852)\" style=\"stroke:#000000; stroke-linecap:round; stroke-linejoin:round; stroke-width:2; stroke-opacity:0.1; fill:none\" points=\"172.015,428.638 2352.76,428.638 \"/>\n",
       "<polyline clip-path=\"url(#clip852)\" style=\"stroke:#000000; stroke-linecap:round; stroke-linejoin:round; stroke-width:2; stroke-opacity:0.1; fill:none\" points=\"172.015,178.406 2352.76,178.406 \"/>\n",
       "<polyline clip-path=\"url(#clip850)\" style=\"stroke:#000000; stroke-linecap:round; stroke-linejoin:round; stroke-width:4; stroke-opacity:1; fill:none\" points=\"172.015,1486.45 172.015,47.2441 \"/>\n",
       "<polyline clip-path=\"url(#clip850)\" style=\"stroke:#000000; stroke-linecap:round; stroke-linejoin:round; stroke-width:4; stroke-opacity:1; fill:none\" points=\"172.015,1429.56 190.912,1429.56 \"/>\n",
       "<polyline clip-path=\"url(#clip850)\" style=\"stroke:#000000; stroke-linecap:round; stroke-linejoin:round; stroke-width:4; stroke-opacity:1; fill:none\" points=\"172.015,1179.33 190.912,1179.33 \"/>\n",
       "<polyline clip-path=\"url(#clip850)\" style=\"stroke:#000000; stroke-linecap:round; stroke-linejoin:round; stroke-width:4; stroke-opacity:1; fill:none\" points=\"172.015,929.101 190.912,929.101 \"/>\n",
       "<polyline clip-path=\"url(#clip850)\" style=\"stroke:#000000; stroke-linecap:round; stroke-linejoin:round; stroke-width:4; stroke-opacity:1; fill:none\" points=\"172.015,678.87 190.912,678.87 \"/>\n",
       "<polyline clip-path=\"url(#clip850)\" style=\"stroke:#000000; stroke-linecap:round; stroke-linejoin:round; stroke-width:4; stroke-opacity:1; fill:none\" points=\"172.015,428.638 190.912,428.638 \"/>\n",
       "<polyline clip-path=\"url(#clip850)\" style=\"stroke:#000000; stroke-linecap:round; stroke-linejoin:round; stroke-width:4; stroke-opacity:1; fill:none\" points=\"172.015,178.406 190.912,178.406 \"/>\n",
       "<path clip-path=\"url(#clip850)\" d=\"M124.07 1415.36 Q120.459 1415.36 118.631 1418.93 Q116.825 1422.47 116.825 1429.6 Q116.825 1436.71 118.631 1440.27 Q120.459 1443.81 124.07 1443.81 Q127.705 1443.81 129.51 1440.27 Q131.339 1436.71 131.339 1429.6 Q131.339 1422.47 129.51 1418.93 Q127.705 1415.36 124.07 1415.36 M124.07 1411.66 Q129.881 1411.66 132.936 1416.27 Q136.015 1420.85 136.015 1429.6 Q136.015 1438.33 132.936 1442.93 Q129.881 1447.52 124.07 1447.52 Q118.26 1447.52 115.182 1442.93 Q112.126 1438.33 112.126 1429.6 Q112.126 1420.85 115.182 1416.27 Q118.26 1411.66 124.07 1411.66 Z\" fill=\"#000000\" fill-rule=\"evenodd\" fill-opacity=\"1\" /><path clip-path=\"url(#clip850)\" d=\"M54.5569 1192.68 L62.1958 1192.68 L62.1958 1166.31 L53.8856 1167.98 L53.8856 1163.72 L62.1495 1162.05 L66.8254 1162.05 L66.8254 1192.68 L74.4642 1192.68 L74.4642 1196.61 L54.5569 1196.61 L54.5569 1192.68 Z\" fill=\"#000000\" fill-rule=\"evenodd\" fill-opacity=\"1\" /><path clip-path=\"url(#clip850)\" d=\"M93.9086 1165.13 Q90.2975 1165.13 88.4688 1168.7 Q86.6632 1172.24 86.6632 1179.37 Q86.6632 1186.47 88.4688 1190.04 Q90.2975 1193.58 93.9086 1193.58 Q97.5428 1193.58 99.3483 1190.04 Q101.177 1186.47 101.177 1179.37 Q101.177 1172.24 99.3483 1168.7 Q97.5428 1165.13 93.9086 1165.13 M93.9086 1161.43 Q99.7187 1161.43 102.774 1166.03 Q105.853 1170.62 105.853 1179.37 Q105.853 1188.09 102.774 1192.7 Q99.7187 1197.28 93.9086 1197.28 Q88.0984 1197.28 85.0197 1192.7 Q81.9642 1188.09 81.9642 1179.37 Q81.9642 1170.62 85.0197 1166.03 Q88.0984 1161.43 93.9086 1161.43 Z\" fill=\"#000000\" fill-rule=\"evenodd\" fill-opacity=\"1\" /><path clip-path=\"url(#clip850)\" d=\"M124.07 1165.13 Q120.459 1165.13 118.631 1168.7 Q116.825 1172.24 116.825 1179.37 Q116.825 1186.47 118.631 1190.04 Q120.459 1193.58 124.07 1193.58 Q127.705 1193.58 129.51 1190.04 Q131.339 1186.47 131.339 1179.37 Q131.339 1172.24 129.51 1168.7 Q127.705 1165.13 124.07 1165.13 M124.07 1161.43 Q129.881 1161.43 132.936 1166.03 Q136.015 1170.62 136.015 1179.37 Q136.015 1188.09 132.936 1192.7 Q129.881 1197.28 124.07 1197.28 Q118.26 1197.28 115.182 1192.7 Q112.126 1188.09 112.126 1179.37 Q112.126 1170.62 115.182 1166.03 Q118.26 1161.43 124.07 1161.43 Z\" fill=\"#000000\" fill-rule=\"evenodd\" fill-opacity=\"1\" /><path clip-path=\"url(#clip850)\" d=\"M57.7745 942.446 L74.0939 942.446 L74.0939 946.381 L52.1495 946.381 L52.1495 942.446 Q54.8115 939.691 59.3949 935.062 Q64.0013 930.409 65.1819 929.067 Q67.4272 926.543 68.3068 924.807 Q69.2096 923.048 69.2096 921.358 Q69.2096 918.604 67.2652 916.868 Q65.3439 915.131 62.2421 915.131 Q60.043 915.131 57.5893 915.895 Q55.1588 916.659 52.381 918.21 L52.381 913.488 Q55.2051 912.354 57.6588 911.775 Q60.1124 911.196 62.1495 911.196 Q67.5198 911.196 70.7142 913.881 Q73.9087 916.567 73.9087 921.057 Q73.9087 923.187 73.0985 925.108 Q72.3115 927.006 70.205 929.599 Q69.6263 930.27 66.5245 933.488 Q63.4226 936.682 57.7745 942.446 Z\" fill=\"#000000\" fill-rule=\"evenodd\" fill-opacity=\"1\" /><path clip-path=\"url(#clip850)\" d=\"M93.9086 914.9 Q90.2975 914.9 88.4688 918.465 Q86.6632 922.006 86.6632 929.136 Q86.6632 936.242 88.4688 939.807 Q90.2975 943.349 93.9086 943.349 Q97.5428 943.349 99.3483 939.807 Q101.177 936.242 101.177 929.136 Q101.177 922.006 99.3483 918.465 Q97.5428 914.9 93.9086 914.9 M93.9086 911.196 Q99.7187 911.196 102.774 915.803 Q105.853 920.386 105.853 929.136 Q105.853 937.863 102.774 942.469 Q99.7187 947.053 93.9086 947.053 Q88.0984 947.053 85.0197 942.469 Q81.9642 937.863 81.9642 929.136 Q81.9642 920.386 85.0197 915.803 Q88.0984 911.196 93.9086 911.196 Z\" fill=\"#000000\" fill-rule=\"evenodd\" fill-opacity=\"1\" /><path clip-path=\"url(#clip850)\" d=\"M124.07 914.9 Q120.459 914.9 118.631 918.465 Q116.825 922.006 116.825 929.136 Q116.825 936.242 118.631 939.807 Q120.459 943.349 124.07 943.349 Q127.705 943.349 129.51 939.807 Q131.339 936.242 131.339 929.136 Q131.339 922.006 129.51 918.465 Q127.705 914.9 124.07 914.9 M124.07 911.196 Q129.881 911.196 132.936 915.803 Q136.015 920.386 136.015 929.136 Q136.015 937.863 132.936 942.469 Q129.881 947.053 124.07 947.053 Q118.26 947.053 115.182 942.469 Q112.126 937.863 112.126 929.136 Q112.126 920.386 115.182 915.803 Q118.26 911.196 124.07 911.196 Z\" fill=\"#000000\" fill-rule=\"evenodd\" fill-opacity=\"1\" /><path clip-path=\"url(#clip850)\" d=\"M67.9133 677.515 Q71.2698 678.233 73.1448 680.502 Q75.0429 682.77 75.0429 686.103 Q75.0429 691.219 71.5244 694.02 Q68.0059 696.821 61.5245 696.821 Q59.3486 696.821 57.0338 696.381 Q54.7421 695.964 52.2884 695.108 L52.2884 690.594 Q54.2328 691.728 56.5477 692.307 Q58.8625 692.886 61.3856 692.886 Q65.7837 692.886 68.0754 691.15 Q70.3902 689.414 70.3902 686.103 Q70.3902 683.048 68.2374 681.335 Q66.1078 679.599 62.2884 679.599 L58.2606 679.599 L58.2606 675.756 L62.4735 675.756 Q65.9226 675.756 67.7513 674.39 Q69.58 673.002 69.58 670.409 Q69.58 667.747 67.6819 666.335 Q65.8069 664.9 62.2884 664.9 Q60.3671 664.9 58.168 665.316 Q55.969 665.733 53.3301 666.613 L53.3301 662.446 Q55.9921 661.705 58.3069 661.335 Q60.6449 660.965 62.705 660.965 Q68.0291 660.965 71.1309 663.395 Q74.2327 665.803 74.2327 669.923 Q74.2327 672.793 72.5892 674.784 Q70.9457 676.752 67.9133 677.515 Z\" fill=\"#000000\" fill-rule=\"evenodd\" fill-opacity=\"1\" /><path clip-path=\"url(#clip850)\" d=\"M93.9086 664.668 Q90.2975 664.668 88.4688 668.233 Q86.6632 671.775 86.6632 678.904 Q86.6632 686.011 88.4688 689.576 Q90.2975 693.117 93.9086 693.117 Q97.5428 693.117 99.3483 689.576 Q101.177 686.011 101.177 678.904 Q101.177 671.775 99.3483 668.233 Q97.5428 664.668 93.9086 664.668 M93.9086 660.965 Q99.7187 660.965 102.774 665.571 Q105.853 670.154 105.853 678.904 Q105.853 687.631 102.774 692.238 Q99.7187 696.821 93.9086 696.821 Q88.0984 696.821 85.0197 692.238 Q81.9642 687.631 81.9642 678.904 Q81.9642 670.154 85.0197 665.571 Q88.0984 660.965 93.9086 660.965 Z\" fill=\"#000000\" fill-rule=\"evenodd\" fill-opacity=\"1\" /><path clip-path=\"url(#clip850)\" d=\"M124.07 664.668 Q120.459 664.668 118.631 668.233 Q116.825 671.775 116.825 678.904 Q116.825 686.011 118.631 689.576 Q120.459 693.117 124.07 693.117 Q127.705 693.117 129.51 689.576 Q131.339 686.011 131.339 678.904 Q131.339 671.775 129.51 668.233 Q127.705 664.668 124.07 664.668 M124.07 660.965 Q129.881 660.965 132.936 665.571 Q136.015 670.154 136.015 678.904 Q136.015 687.631 132.936 692.238 Q129.881 696.821 124.07 696.821 Q118.26 696.821 115.182 692.238 Q112.126 687.631 112.126 678.904 Q112.126 670.154 115.182 665.571 Q118.26 660.965 124.07 660.965 Z\" fill=\"#000000\" fill-rule=\"evenodd\" fill-opacity=\"1\" /><path clip-path=\"url(#clip850)\" d=\"M66.5939 415.432 L54.7884 433.881 L66.5939 433.881 L66.5939 415.432 M65.367 411.358 L71.2466 411.358 L71.2466 433.881 L76.1772 433.881 L76.1772 437.77 L71.2466 437.77 L71.2466 445.918 L66.5939 445.918 L66.5939 437.77 L50.9921 437.77 L50.9921 433.256 L65.367 411.358 Z\" fill=\"#000000\" fill-rule=\"evenodd\" fill-opacity=\"1\" /><path clip-path=\"url(#clip850)\" d=\"M93.9086 414.437 Q90.2975 414.437 88.4688 418.001 Q86.6632 421.543 86.6632 428.673 Q86.6632 435.779 88.4688 439.344 Q90.2975 442.886 93.9086 442.886 Q97.5428 442.886 99.3483 439.344 Q101.177 435.779 101.177 428.673 Q101.177 421.543 99.3483 418.001 Q97.5428 414.437 93.9086 414.437 M93.9086 410.733 Q99.7187 410.733 102.774 415.339 Q105.853 419.923 105.853 428.673 Q105.853 437.4 102.774 442.006 Q99.7187 446.589 93.9086 446.589 Q88.0984 446.589 85.0197 442.006 Q81.9642 437.4 81.9642 428.673 Q81.9642 419.923 85.0197 415.339 Q88.0984 410.733 93.9086 410.733 Z\" fill=\"#000000\" fill-rule=\"evenodd\" fill-opacity=\"1\" /><path clip-path=\"url(#clip850)\" d=\"M124.07 414.437 Q120.459 414.437 118.631 418.001 Q116.825 421.543 116.825 428.673 Q116.825 435.779 118.631 439.344 Q120.459 442.886 124.07 442.886 Q127.705 442.886 129.51 439.344 Q131.339 435.779 131.339 428.673 Q131.339 421.543 129.51 418.001 Q127.705 414.437 124.07 414.437 M124.07 410.733 Q129.881 410.733 132.936 415.339 Q136.015 419.923 136.015 428.673 Q136.015 437.4 132.936 442.006 Q129.881 446.589 124.07 446.589 Q118.26 446.589 115.182 442.006 Q112.126 437.4 112.126 428.673 Q112.126 419.923 115.182 415.339 Q118.26 410.733 124.07 410.733 Z\" fill=\"#000000\" fill-rule=\"evenodd\" fill-opacity=\"1\" /><path clip-path=\"url(#clip850)\" d=\"M53.793 161.126 L72.1494 161.126 L72.1494 165.062 L58.0754 165.062 L58.0754 173.534 Q59.0939 173.186 60.1124 173.024 Q61.131 172.839 62.1495 172.839 Q67.9365 172.839 71.3161 176.011 Q74.6957 179.182 74.6957 184.598 Q74.6957 190.177 71.2235 193.279 Q67.7513 196.358 61.4319 196.358 Q59.256 196.358 56.9875 195.987 Q54.7421 195.617 52.3347 194.876 L52.3347 190.177 Q54.418 191.311 56.6402 191.867 Q58.8625 192.423 61.3393 192.423 Q65.3439 192.423 67.6819 190.316 Q70.0198 188.21 70.0198 184.598 Q70.0198 180.987 67.6819 178.881 Q65.3439 176.774 61.3393 176.774 Q59.4643 176.774 57.5893 177.191 Q55.7375 177.608 53.793 178.487 L53.793 161.126 Z\" fill=\"#000000\" fill-rule=\"evenodd\" fill-opacity=\"1\" /><path clip-path=\"url(#clip850)\" d=\"M93.9086 164.205 Q90.2975 164.205 88.4688 167.77 Q86.6632 171.312 86.6632 178.441 Q86.6632 185.548 88.4688 189.112 Q90.2975 192.654 93.9086 192.654 Q97.5428 192.654 99.3483 189.112 Q101.177 185.548 101.177 178.441 Q101.177 171.312 99.3483 167.77 Q97.5428 164.205 93.9086 164.205 M93.9086 160.501 Q99.7187 160.501 102.774 165.108 Q105.853 169.691 105.853 178.441 Q105.853 187.168 102.774 191.774 Q99.7187 196.358 93.9086 196.358 Q88.0984 196.358 85.0197 191.774 Q81.9642 187.168 81.9642 178.441 Q81.9642 169.691 85.0197 165.108 Q88.0984 160.501 93.9086 160.501 Z\" fill=\"#000000\" fill-rule=\"evenodd\" fill-opacity=\"1\" /><path clip-path=\"url(#clip850)\" d=\"M124.07 164.205 Q120.459 164.205 118.631 167.77 Q116.825 171.312 116.825 178.441 Q116.825 185.548 118.631 189.112 Q120.459 192.654 124.07 192.654 Q127.705 192.654 129.51 189.112 Q131.339 185.548 131.339 178.441 Q131.339 171.312 129.51 167.77 Q127.705 164.205 124.07 164.205 M124.07 160.501 Q129.881 160.501 132.936 165.108 Q136.015 169.691 136.015 178.441 Q136.015 187.168 132.936 191.774 Q129.881 196.358 124.07 196.358 Q118.26 196.358 115.182 191.774 Q112.126 187.168 112.126 178.441 Q112.126 169.691 115.182 165.108 Q118.26 160.501 124.07 160.501 Z\" fill=\"#000000\" fill-rule=\"evenodd\" fill-opacity=\"1\" /><circle clip-path=\"url(#clip852)\" cx=\"233.734\" cy=\"1263.61\" r=\"14.4\" fill=\"#009af9\" fill-rule=\"evenodd\" fill-opacity=\"1\" stroke=\"#000000\" stroke-opacity=\"1\" stroke-width=\"3.2\"/>\n",
       "<circle clip-path=\"url(#clip852)\" cx=\"336.599\" cy=\"1287.74\" r=\"14.4\" fill=\"#009af9\" fill-rule=\"evenodd\" fill-opacity=\"1\" stroke=\"#000000\" stroke-opacity=\"1\" stroke-width=\"3.2\"/>\n",
       "<circle clip-path=\"url(#clip852)\" cx=\"439.464\" cy=\"1344.66\" r=\"14.4\" fill=\"#009af9\" fill-rule=\"evenodd\" fill-opacity=\"1\" stroke=\"#000000\" stroke-opacity=\"1\" stroke-width=\"3.2\"/>\n",
       "<circle clip-path=\"url(#clip852)\" cx=\"542.329\" cy=\"1379.87\" r=\"14.4\" fill=\"#009af9\" fill-rule=\"evenodd\" fill-opacity=\"1\" stroke=\"#000000\" stroke-opacity=\"1\" stroke-width=\"3.2\"/>\n",
       "<circle clip-path=\"url(#clip852)\" cx=\"645.194\" cy=\"1394.66\" r=\"14.4\" fill=\"#009af9\" fill-rule=\"evenodd\" fill-opacity=\"1\" stroke=\"#000000\" stroke-opacity=\"1\" stroke-width=\"3.2\"/>\n",
       "<circle clip-path=\"url(#clip852)\" cx=\"748.06\" cy=\"1403.56\" r=\"14.4\" fill=\"#009af9\" fill-rule=\"evenodd\" fill-opacity=\"1\" stroke=\"#000000\" stroke-opacity=\"1\" stroke-width=\"3.2\"/>\n",
       "<circle clip-path=\"url(#clip852)\" cx=\"850.925\" cy=\"1424.56\" r=\"14.4\" fill=\"#009af9\" fill-rule=\"evenodd\" fill-opacity=\"1\" stroke=\"#000000\" stroke-opacity=\"1\" stroke-width=\"3.2\"/>\n",
       "<circle clip-path=\"url(#clip852)\" cx=\"953.79\" cy=\"1441.51\" r=\"14.4\" fill=\"#009af9\" fill-rule=\"evenodd\" fill-opacity=\"1\" stroke=\"#000000\" stroke-opacity=\"1\" stroke-width=\"3.2\"/>\n",
       "<circle clip-path=\"url(#clip852)\" cx=\"1056.66\" cy=\"1408.12\" r=\"14.4\" fill=\"#009af9\" fill-rule=\"evenodd\" fill-opacity=\"1\" stroke=\"#000000\" stroke-opacity=\"1\" stroke-width=\"3.2\"/>\n",
       "<circle clip-path=\"url(#clip852)\" cx=\"1159.52\" cy=\"1442.6\" r=\"14.4\" fill=\"#009af9\" fill-rule=\"evenodd\" fill-opacity=\"1\" stroke=\"#000000\" stroke-opacity=\"1\" stroke-width=\"3.2\"/>\n",
       "<circle clip-path=\"url(#clip852)\" cx=\"1262.39\" cy=\"1420.03\" r=\"14.4\" fill=\"#009af9\" fill-rule=\"evenodd\" fill-opacity=\"1\" stroke=\"#000000\" stroke-opacity=\"1\" stroke-width=\"3.2\"/>\n",
       "<circle clip-path=\"url(#clip852)\" cx=\"1365.25\" cy=\"1445.72\" r=\"14.4\" fill=\"#009af9\" fill-rule=\"evenodd\" fill-opacity=\"1\" stroke=\"#000000\" stroke-opacity=\"1\" stroke-width=\"3.2\"/>\n",
       "<circle clip-path=\"url(#clip852)\" cx=\"1468.12\" cy=\"1395.72\" r=\"14.4\" fill=\"#009af9\" fill-rule=\"evenodd\" fill-opacity=\"1\" stroke=\"#000000\" stroke-opacity=\"1\" stroke-width=\"3.2\"/>\n",
       "<circle clip-path=\"url(#clip852)\" cx=\"1570.98\" cy=\"1403.26\" r=\"14.4\" fill=\"#009af9\" fill-rule=\"evenodd\" fill-opacity=\"1\" stroke=\"#000000\" stroke-opacity=\"1\" stroke-width=\"3.2\"/>\n",
       "<circle clip-path=\"url(#clip852)\" cx=\"1673.85\" cy=\"1343.3\" r=\"14.4\" fill=\"#009af9\" fill-rule=\"evenodd\" fill-opacity=\"1\" stroke=\"#000000\" stroke-opacity=\"1\" stroke-width=\"3.2\"/>\n",
       "<circle clip-path=\"url(#clip852)\" cx=\"1776.71\" cy=\"1347.38\" r=\"14.4\" fill=\"#009af9\" fill-rule=\"evenodd\" fill-opacity=\"1\" stroke=\"#000000\" stroke-opacity=\"1\" stroke-width=\"3.2\"/>\n",
       "<circle clip-path=\"url(#clip852)\" cx=\"1879.58\" cy=\"1286.81\" r=\"14.4\" fill=\"#009af9\" fill-rule=\"evenodd\" fill-opacity=\"1\" stroke=\"#000000\" stroke-opacity=\"1\" stroke-width=\"3.2\"/>\n",
       "<circle clip-path=\"url(#clip852)\" cx=\"1982.44\" cy=\"1223.53\" r=\"14.4\" fill=\"#009af9\" fill-rule=\"evenodd\" fill-opacity=\"1\" stroke=\"#000000\" stroke-opacity=\"1\" stroke-width=\"3.2\"/>\n",
       "<circle clip-path=\"url(#clip852)\" cx=\"2085.31\" cy=\"1234.83\" r=\"14.4\" fill=\"#009af9\" fill-rule=\"evenodd\" fill-opacity=\"1\" stroke=\"#000000\" stroke-opacity=\"1\" stroke-width=\"3.2\"/>\n",
       "<circle clip-path=\"url(#clip852)\" cx=\"2188.17\" cy=\"1181.69\" r=\"14.4\" fill=\"#009af9\" fill-rule=\"evenodd\" fill-opacity=\"1\" stroke=\"#000000\" stroke-opacity=\"1\" stroke-width=\"3.2\"/>\n",
       "<circle clip-path=\"url(#clip852)\" cx=\"2291.04\" cy=\"1136.3\" r=\"14.4\" fill=\"#009af9\" fill-rule=\"evenodd\" fill-opacity=\"1\" stroke=\"#000000\" stroke-opacity=\"1\" stroke-width=\"3.2\"/>\n",
       "<polyline clip-path=\"url(#clip852)\" style=\"stroke:#e26f46; stroke-linecap:round; stroke-linejoin:round; stroke-width:4; stroke-opacity:1; fill:none\" points=\"233.734,1259.41 336.599,1299.44 439.464,1334.48 542.329,1364.5 645.194,1389.53 748.06,1409.55 850.925,1424.56 953.79,1434.57 1056.66,1439.57 1159.52,1439.57 1262.39,1434.57 1365.25,1424.56 1468.12,1409.55 1570.98,1389.53 1673.85,1364.5 1776.71,1334.48 1879.58,1299.44 1982.44,1259.41 2085.31,1214.37 2188.17,1164.32 2291.04,1109.27 \"/>\n",
       "<polyline clip-path=\"url(#clip852)\" style=\"stroke:#3da44d; stroke-linecap:round; stroke-linejoin:round; stroke-width:4; stroke-opacity:1; fill:none\" points=\"233.734,463.401 336.599,795.592 439.464,1033.72 542.329,1197.7 645.194,1305.01 748.06,1370.69 850.925,1407.31 953.79,1425.01 1056.66,1431.46 1159.52,1431.91 1262.39,1429.15 1365.25,1423.52 1468.12,1412.9 1570.98,1392.75 1673.85,1356.06 1776.71,1293.38 1879.58,1192.81 1982.44,1040 2085.31,818.165 2188.17,508.054 2291.04,87.9763 \"/>\n",
       "<path clip-path=\"url(#clip850)\" d=\"M244.706 302.578 L702.895 302.578 L702.895 95.2176 L244.706 95.2176  Z\" fill=\"#ffffff\" fill-rule=\"evenodd\" fill-opacity=\"1\"/>\n",
       "<polyline clip-path=\"url(#clip850)\" style=\"stroke:#000000; stroke-linecap:round; stroke-linejoin:round; stroke-width:4; stroke-opacity:1; fill:none\" points=\"244.706,302.578 702.895,302.578 702.895,95.2176 244.706,95.2176 244.706,302.578 \"/>\n",
       "<circle clip-path=\"url(#clip850)\" cx=\"341.628\" cy=\"147.058\" r=\"23.04\" fill=\"#009af9\" fill-rule=\"evenodd\" fill-opacity=\"1\" stroke=\"#000000\" stroke-opacity=\"1\" stroke-width=\"5.12\"/>\n",
       "<path clip-path=\"url(#clip850)\" d=\"M443.226 133.62 L443.226 160.495 L448.874 160.495 Q456.027 160.495 459.337 157.254 Q462.67 154.014 462.67 147.023 Q462.67 140.078 459.337 136.861 Q456.027 133.62 448.874 133.62 L443.226 133.62 M438.55 129.778 L448.156 129.778 Q458.203 129.778 462.902 133.967 Q467.601 138.134 467.601 147.023 Q467.601 155.958 462.878 160.148 Q458.156 164.338 448.156 164.338 L438.55 164.338 L438.55 129.778 Z\" fill=\"#000000\" fill-rule=\"evenodd\" fill-opacity=\"1\" /><path clip-path=\"url(#clip850)\" d=\"M486.651 151.305 Q481.489 151.305 479.499 152.486 Q477.508 153.666 477.508 156.514 Q477.508 158.782 478.989 160.125 Q480.494 161.444 483.063 161.444 Q486.605 161.444 488.735 158.944 Q490.888 156.421 490.888 152.254 L490.888 151.305 L486.651 151.305 M495.147 149.546 L495.147 164.338 L490.888 164.338 L490.888 160.402 Q489.429 162.763 487.253 163.898 Q485.077 165.009 481.929 165.009 Q477.948 165.009 475.587 162.787 Q473.249 160.541 473.249 156.791 Q473.249 152.416 476.165 150.194 Q479.105 147.972 484.915 147.972 L490.888 147.972 L490.888 147.555 Q490.888 144.615 488.943 143.018 Q487.022 141.398 483.526 141.398 Q481.304 141.398 479.198 141.93 Q477.091 142.463 475.147 143.527 L475.147 139.592 Q477.485 138.69 479.684 138.25 Q481.883 137.787 483.966 137.787 Q489.591 137.787 492.369 140.703 Q495.147 143.62 495.147 149.546 Z\" fill=\"#000000\" fill-rule=\"evenodd\" fill-opacity=\"1\" /><path clip-path=\"url(#clip850)\" d=\"M508.133 131.051 L508.133 138.412 L516.906 138.412 L516.906 141.722 L508.133 141.722 L508.133 155.796 Q508.133 158.967 508.989 159.87 Q509.869 160.773 512.531 160.773 L516.906 160.773 L516.906 164.338 L512.531 164.338 Q507.6 164.338 505.725 162.509 Q503.85 160.657 503.85 155.796 L503.85 141.722 L500.725 141.722 L500.725 138.412 L503.85 138.412 L503.85 131.051 L508.133 131.051 Z\" fill=\"#000000\" fill-rule=\"evenodd\" fill-opacity=\"1\" /><path clip-path=\"url(#clip850)\" d=\"M534.29 151.305 Q529.128 151.305 527.137 152.486 Q525.147 153.666 525.147 156.514 Q525.147 158.782 526.628 160.125 Q528.133 161.444 530.702 161.444 Q534.244 161.444 536.373 158.944 Q538.526 156.421 538.526 152.254 L538.526 151.305 L534.29 151.305 M542.785 149.546 L542.785 164.338 L538.526 164.338 L538.526 160.402 Q537.068 162.763 534.892 163.898 Q532.716 165.009 529.568 165.009 Q525.586 165.009 523.225 162.787 Q520.887 160.541 520.887 156.791 Q520.887 152.416 523.804 150.194 Q526.744 147.972 532.554 147.972 L538.526 147.972 L538.526 147.555 Q538.526 144.615 536.582 143.018 Q534.66 141.398 531.165 141.398 Q528.943 141.398 526.836 141.93 Q524.73 142.463 522.786 143.527 L522.786 139.592 Q525.123 138.69 527.323 138.25 Q529.522 137.787 531.605 137.787 Q537.23 137.787 540.008 140.703 Q542.785 143.62 542.785 149.546 Z\" fill=\"#000000\" fill-rule=\"evenodd\" fill-opacity=\"1\" /><polyline clip-path=\"url(#clip850)\" style=\"stroke:#e26f46; stroke-linecap:round; stroke-linejoin:round; stroke-width:4; stroke-opacity:1; fill:none\" points=\"268.937,198.898 414.319,198.898 \"/>\n",
       "<path clip-path=\"url(#clip850)\" d=\"M438.55 181.618 L467.786 181.618 L467.786 185.553 L455.517 185.553 L455.517 216.178 L450.818 216.178 L450.818 185.553 L438.55 185.553 L438.55 181.618 Z\" fill=\"#000000\" fill-rule=\"evenodd\" fill-opacity=\"1\" /><path clip-path=\"url(#clip850)\" d=\"M480.17 194.233 Q479.452 193.817 478.596 193.631 Q477.763 193.423 476.744 193.423 Q473.133 193.423 471.189 195.784 Q469.267 198.122 469.267 202.52 L469.267 216.178 L464.985 216.178 L464.985 190.252 L469.267 190.252 L469.267 194.28 Q470.61 191.918 472.763 190.784 Q474.915 189.627 477.994 189.627 Q478.434 189.627 478.966 189.696 Q479.499 189.743 480.147 189.858 L480.17 194.233 Z\" fill=\"#000000\" fill-rule=\"evenodd\" fill-opacity=\"1\" /><path clip-path=\"url(#clip850)\" d=\"M484.198 205.946 L484.198 190.252 L488.457 190.252 L488.457 205.784 Q488.457 209.465 489.892 211.316 Q491.327 213.145 494.198 213.145 Q497.647 213.145 499.637 210.946 Q501.651 208.747 501.651 204.951 L501.651 190.252 L505.911 190.252 L505.911 216.178 L501.651 216.178 L501.651 212.196 Q500.1 214.557 498.04 215.715 Q496.003 216.849 493.295 216.849 Q488.827 216.849 486.513 214.071 Q484.198 211.293 484.198 205.946 M494.915 189.627 L494.915 189.627 Z\" fill=\"#000000\" fill-rule=\"evenodd\" fill-opacity=\"1\" /><path clip-path=\"url(#clip850)\" d=\"M536.859 202.15 L536.859 204.233 L517.276 204.233 Q517.554 208.631 519.915 210.946 Q522.299 213.238 526.535 213.238 Q528.989 213.238 531.281 212.636 Q533.596 212.034 535.864 210.83 L535.864 214.858 Q533.572 215.83 531.165 216.34 Q528.758 216.849 526.281 216.849 Q520.077 216.849 516.443 213.238 Q512.832 209.627 512.832 203.469 Q512.832 197.104 516.258 193.377 Q519.707 189.627 525.54 189.627 Q530.772 189.627 533.804 193.006 Q536.859 196.363 536.859 202.15 M532.6 200.9 Q532.554 197.405 530.633 195.321 Q528.735 193.238 525.586 193.238 Q522.022 193.238 519.869 195.252 Q517.739 197.266 517.415 200.923 L532.6 200.9 Z\" fill=\"#000000\" fill-rule=\"evenodd\" fill-opacity=\"1\" /><path clip-path=\"url(#clip850)\" d=\"M559.105 181.618 L563.781 181.618 L563.781 212.242 L580.609 212.242 L580.609 216.178 L559.105 216.178 L559.105 181.618 Z\" fill=\"#000000\" fill-rule=\"evenodd\" fill-opacity=\"1\" /><path clip-path=\"url(#clip850)\" d=\"M585.331 190.252 L589.591 190.252 L589.591 216.178 L585.331 216.178 L585.331 190.252 M585.331 180.159 L589.591 180.159 L589.591 185.553 L585.331 185.553 L585.331 180.159 Z\" fill=\"#000000\" fill-rule=\"evenodd\" fill-opacity=\"1\" /><path clip-path=\"url(#clip850)\" d=\"M620.053 200.529 L620.053 216.178 L615.794 216.178 L615.794 200.668 Q615.794 196.988 614.359 195.159 Q612.924 193.33 610.054 193.33 Q606.604 193.33 604.614 195.53 Q602.623 197.729 602.623 201.525 L602.623 216.178 L598.341 216.178 L598.341 190.252 L602.623 190.252 L602.623 194.28 Q604.151 191.942 606.211 190.784 Q608.294 189.627 611.003 189.627 Q615.47 189.627 617.762 192.405 Q620.053 195.159 620.053 200.529 Z\" fill=\"#000000\" fill-rule=\"evenodd\" fill-opacity=\"1\" /><path clip-path=\"url(#clip850)\" d=\"M650.725 202.15 L650.725 204.233 L631.141 204.233 Q631.419 208.631 633.78 210.946 Q636.165 213.238 640.401 213.238 Q642.854 213.238 645.146 212.636 Q647.461 212.034 649.729 210.83 L649.729 214.858 Q647.438 215.83 645.03 216.34 Q642.623 216.849 640.146 216.849 Q633.942 216.849 630.308 213.238 Q626.697 209.627 626.697 203.469 Q626.697 197.104 630.123 193.377 Q633.572 189.627 639.405 189.627 Q644.637 189.627 647.669 193.006 Q650.725 196.363 650.725 202.15 M646.465 200.9 Q646.419 197.405 644.498 195.321 Q642.6 193.238 639.452 193.238 Q635.887 193.238 633.734 195.252 Q631.604 197.266 631.28 200.923 L646.465 200.9 Z\" fill=\"#000000\" fill-rule=\"evenodd\" fill-opacity=\"1\" /><polyline clip-path=\"url(#clip850)\" style=\"stroke:#3da44d; stroke-linecap:round; stroke-linejoin:round; stroke-width:4; stroke-opacity:1; fill:none\" points=\"268.937,250.738 414.319,250.738 \"/>\n",
       "<path clip-path=\"url(#clip850)\" d=\"M438.55 233.458 L458.411 233.458 L458.411 237.393 L443.226 237.393 L443.226 247.578 L456.929 247.578 L456.929 251.513 L443.226 251.513 L443.226 268.018 L438.55 268.018 L438.55 233.458 Z\" fill=\"#000000\" fill-rule=\"evenodd\" fill-opacity=\"1\" /><path clip-path=\"url(#clip850)\" d=\"M462.184 242.092 L466.443 242.092 L466.443 268.018 L462.184 268.018 L462.184 242.092 M462.184 231.999 L466.443 231.999 L466.443 237.393 L462.184 237.393 L462.184 231.999 Z\" fill=\"#000000\" fill-rule=\"evenodd\" fill-opacity=\"1\" /><path clip-path=\"url(#clip850)\" d=\"M479.568 234.731 L479.568 242.092 L488.341 242.092 L488.341 245.402 L479.568 245.402 L479.568 259.476 Q479.568 262.647 480.425 263.55 Q481.304 264.453 483.966 264.453 L488.341 264.453 L488.341 268.018 L483.966 268.018 Q479.036 268.018 477.161 266.189 Q475.286 264.337 475.286 259.476 L475.286 245.402 L472.161 245.402 L472.161 242.092 L475.286 242.092 L475.286 234.731 L479.568 234.731 Z\" fill=\"#000000\" fill-rule=\"evenodd\" fill-opacity=\"1\" /><path clip-path=\"url(#clip850)\" d=\"M498.156 234.731 L498.156 242.092 L506.929 242.092 L506.929 245.402 L498.156 245.402 L498.156 259.476 Q498.156 262.647 499.012 263.55 Q499.892 264.453 502.554 264.453 L506.929 264.453 L506.929 268.018 L502.554 268.018 Q497.624 268.018 495.749 266.189 Q493.874 264.337 493.874 259.476 L493.874 245.402 L490.749 245.402 L490.749 242.092 L493.874 242.092 L493.874 234.731 L498.156 234.731 Z\" fill=\"#000000\" fill-rule=\"evenodd\" fill-opacity=\"1\" /><path clip-path=\"url(#clip850)\" d=\"M534.707 253.99 L534.707 256.073 L515.124 256.073 Q515.401 260.471 517.762 262.786 Q520.147 265.078 524.383 265.078 Q526.836 265.078 529.128 264.476 Q531.443 263.874 533.711 262.67 L533.711 266.698 Q531.42 267.67 529.012 268.18 Q526.605 268.689 524.128 268.689 Q517.924 268.689 514.29 265.078 Q510.679 261.467 510.679 255.309 Q510.679 248.944 514.105 245.217 Q517.554 241.467 523.387 241.467 Q528.619 241.467 531.651 244.846 Q534.707 248.203 534.707 253.99 M530.447 252.74 Q530.401 249.245 528.48 247.161 Q526.582 245.078 523.434 245.078 Q519.869 245.078 517.716 247.092 Q515.586 249.106 515.262 252.763 L530.447 252.74 Z\" fill=\"#000000\" fill-rule=\"evenodd\" fill-opacity=\"1\" /><path clip-path=\"url(#clip850)\" d=\"M558.758 246.027 L558.758 231.999 L563.017 231.999 L563.017 268.018 L558.758 268.018 L558.758 264.129 Q557.415 266.443 555.355 267.578 Q553.318 268.689 550.447 268.689 Q545.748 268.689 542.785 264.939 Q539.846 261.189 539.846 255.078 Q539.846 248.967 542.785 245.217 Q545.748 241.467 550.447 241.467 Q553.318 241.467 555.355 242.601 Q557.415 243.712 558.758 246.027 M544.244 255.078 Q544.244 259.777 546.165 262.462 Q548.109 265.124 551.489 265.124 Q554.869 265.124 556.813 262.462 Q558.758 259.777 558.758 255.078 Q558.758 250.379 556.813 247.717 Q554.869 245.032 551.489 245.032 Q548.109 245.032 546.165 247.717 Q544.244 250.379 544.244 255.078 Z\" fill=\"#000000\" fill-rule=\"evenodd\" fill-opacity=\"1\" /><path clip-path=\"url(#clip850)\" d=\"M587.044 233.458 L591.72 233.458 L591.72 264.082 L608.549 264.082 L608.549 268.018 L587.044 268.018 L587.044 233.458 Z\" fill=\"#000000\" fill-rule=\"evenodd\" fill-opacity=\"1\" /><path clip-path=\"url(#clip850)\" d=\"M613.271 242.092 L617.53 242.092 L617.53 268.018 L613.271 268.018 L613.271 242.092 M613.271 231.999 L617.53 231.999 L617.53 237.393 L613.271 237.393 L613.271 231.999 Z\" fill=\"#000000\" fill-rule=\"evenodd\" fill-opacity=\"1\" /><path clip-path=\"url(#clip850)\" d=\"M647.993 252.369 L647.993 268.018 L643.734 268.018 L643.734 252.508 Q643.734 248.828 642.299 246.999 Q640.864 245.17 637.993 245.17 Q634.544 245.17 632.553 247.37 Q630.563 249.569 630.563 253.365 L630.563 268.018 L626.28 268.018 L626.28 242.092 L630.563 242.092 L630.563 246.12 Q632.09 243.782 634.151 242.624 Q636.234 241.467 638.942 241.467 Q643.41 241.467 645.702 244.245 Q647.993 246.999 647.993 252.369 Z\" fill=\"#000000\" fill-rule=\"evenodd\" fill-opacity=\"1\" /><path clip-path=\"url(#clip850)\" d=\"M678.664 253.99 L678.664 256.073 L659.081 256.073 Q659.359 260.471 661.72 262.786 Q664.104 265.078 668.34 265.078 Q670.794 265.078 673.086 264.476 Q675.4 263.874 677.669 262.67 L677.669 266.698 Q675.377 267.67 672.97 268.18 Q670.562 268.689 668.086 268.689 Q661.882 268.689 658.248 265.078 Q654.637 261.467 654.637 255.309 Q654.637 248.944 658.063 245.217 Q661.512 241.467 667.345 241.467 Q672.576 241.467 675.609 244.846 Q678.664 248.203 678.664 253.99 M674.405 252.74 Q674.359 249.245 672.437 247.161 Q670.539 245.078 667.391 245.078 Q663.826 245.078 661.674 247.092 Q659.544 249.106 659.22 252.763 L674.405 252.74 Z\" fill=\"#000000\" fill-rule=\"evenodd\" fill-opacity=\"1\" /></svg>\n"
      ]
     },
     "execution_count": 13,
     "metadata": {},
     "output_type": "execute_result"
    }
   ],
   "source": [
    "d3 = di.Normal(0, 10)\n",
    "y_observed3 = y_true .+ rand(d3,length(x))\n",
    "\n",
    "scatter(x, y_observed3, label = \"Data\")\n",
    "plot!(x, y_true, label = \"True Line\")\n",
    "\n",
    "fit_coeff3 = coeffs(fit(x, y_observed3, 10))\n",
    "y_fit3 = fit_coeff3[1] .+ (fit_coeff3[2] .* x) .+ (fit_coeff3[3] .* x.^2) .+ (fit_coeff3[4] .* x.^3) .+ (fit_coeff3[5] .* x.^4)\n",
    "    .+ (fit_coeff3[6] .* x.^5) .+ (fit_coeff3[7] .* x.^6) .+ (fit_coeff3[8] .* x.^7) .+ (fit_coeff3[9] .* x.^8)\n",
    "    .+ (fit_coeff3[10] .* x.^9)\n",
    "plot!(x, y_fit3, label = \"Fitted Line\")"
   ]
  },
  {
   "cell_type": "markdown",
   "id": "36028ee0",
   "metadata": {},
   "source": [
    "### 2.6\n",
    "\n",
    "1. Create a new independent parameter x_fit ranging from -11 to 11 with an increment of 0.1\n",
    "2. Plot the same three plots as in 2.3 again but apply the tenth order polynomial to x_fit instead of x\n"
   ]
  },
  {
   "cell_type": "code",
   "execution_count": 19,
   "id": "6c67a977",
   "metadata": {},
   "outputs": [
    {
     "data": {
      "image/svg+xml": [
       "<?xml version=\"1.0\" encoding=\"utf-8\"?>\n",
       "<svg xmlns=\"http://www.w3.org/2000/svg\" xmlns:xlink=\"http://www.w3.org/1999/xlink\" width=\"600\" height=\"400\" viewBox=\"0 0 2400 1600\">\n",
       "<defs>\n",
       "  <clipPath id=\"clip090\">\n",
       "    <rect x=\"0\" y=\"0\" width=\"2400\" height=\"1600\"/>\n",
       "  </clipPath>\n",
       "</defs>\n",
       "<path clip-path=\"url(#clip090)\" d=\"M0 1600 L2400 1600 L2400 0 L0 0  Z\" fill=\"#ffffff\" fill-rule=\"evenodd\" fill-opacity=\"1\"/>\n",
       "<defs>\n",
       "  <clipPath id=\"clip091\">\n",
       "    <rect x=\"480\" y=\"0\" width=\"1681\" height=\"1600\"/>\n",
       "  </clipPath>\n",
       "</defs>\n",
       "<path clip-path=\"url(#clip090)\" d=\"M209.029 1486.45 L2352.76 1486.45 L2352.76 47.2441 L209.029 47.2441  Z\" fill=\"#ffffff\" fill-rule=\"evenodd\" fill-opacity=\"1\"/>\n",
       "<defs>\n",
       "  <clipPath id=\"clip092\">\n",
       "    <rect x=\"209\" y=\"47\" width=\"2145\" height=\"1440\"/>\n",
       "  </clipPath>\n",
       "</defs>\n",
       "<polyline clip-path=\"url(#clip092)\" style=\"stroke:#000000; stroke-linecap:round; stroke-linejoin:round; stroke-width:2; stroke-opacity:0.1; fill:none\" points=\"361.627,1486.45 361.627,47.2441 \"/>\n",
       "<polyline clip-path=\"url(#clip092)\" style=\"stroke:#000000; stroke-linecap:round; stroke-linejoin:round; stroke-width:2; stroke-opacity:0.1; fill:none\" points=\"821.259,1486.45 821.259,47.2441 \"/>\n",
       "<polyline clip-path=\"url(#clip092)\" style=\"stroke:#000000; stroke-linecap:round; stroke-linejoin:round; stroke-width:2; stroke-opacity:0.1; fill:none\" points=\"1280.89,1486.45 1280.89,47.2441 \"/>\n",
       "<polyline clip-path=\"url(#clip092)\" style=\"stroke:#000000; stroke-linecap:round; stroke-linejoin:round; stroke-width:2; stroke-opacity:0.1; fill:none\" points=\"1740.53,1486.45 1740.53,47.2441 \"/>\n",
       "<polyline clip-path=\"url(#clip092)\" style=\"stroke:#000000; stroke-linecap:round; stroke-linejoin:round; stroke-width:2; stroke-opacity:0.1; fill:none\" points=\"2200.16,1486.45 2200.16,47.2441 \"/>\n",
       "<polyline clip-path=\"url(#clip090)\" style=\"stroke:#000000; stroke-linecap:round; stroke-linejoin:round; stroke-width:4; stroke-opacity:1; fill:none\" points=\"209.029,1486.45 2352.76,1486.45 \"/>\n",
       "<polyline clip-path=\"url(#clip090)\" style=\"stroke:#000000; stroke-linecap:round; stroke-linejoin:round; stroke-width:4; stroke-opacity:1; fill:none\" points=\"361.627,1486.45 361.627,1467.55 \"/>\n",
       "<polyline clip-path=\"url(#clip090)\" style=\"stroke:#000000; stroke-linecap:round; stroke-linejoin:round; stroke-width:4; stroke-opacity:1; fill:none\" points=\"821.259,1486.45 821.259,1467.55 \"/>\n",
       "<polyline clip-path=\"url(#clip090)\" style=\"stroke:#000000; stroke-linecap:round; stroke-linejoin:round; stroke-width:4; stroke-opacity:1; fill:none\" points=\"1280.89,1486.45 1280.89,1467.55 \"/>\n",
       "<polyline clip-path=\"url(#clip090)\" style=\"stroke:#000000; stroke-linecap:round; stroke-linejoin:round; stroke-width:4; stroke-opacity:1; fill:none\" points=\"1740.53,1486.45 1740.53,1467.55 \"/>\n",
       "<polyline clip-path=\"url(#clip090)\" style=\"stroke:#000000; stroke-linecap:round; stroke-linejoin:round; stroke-width:4; stroke-opacity:1; fill:none\" points=\"2200.16,1486.45 2200.16,1467.55 \"/>\n",
       "<path clip-path=\"url(#clip090)\" d=\"M315.689 1532.02 L345.365 1532.02 L345.365 1535.95 L315.689 1535.95 L315.689 1532.02 Z\" fill=\"#000000\" fill-rule=\"evenodd\" fill-opacity=\"1\" /><path clip-path=\"url(#clip090)\" d=\"M356.268 1544.91 L363.907 1544.91 L363.907 1518.55 L355.597 1520.21 L355.597 1515.95 L363.86 1514.29 L368.536 1514.29 L368.536 1544.91 L376.175 1544.91 L376.175 1548.85 L356.268 1548.85 L356.268 1544.91 Z\" fill=\"#000000\" fill-rule=\"evenodd\" fill-opacity=\"1\" /><path clip-path=\"url(#clip090)\" d=\"M395.619 1517.37 Q392.008 1517.37 390.18 1520.93 Q388.374 1524.47 388.374 1531.6 Q388.374 1538.71 390.18 1542.27 Q392.008 1545.82 395.619 1545.82 Q399.254 1545.82 401.059 1542.27 Q402.888 1538.71 402.888 1531.6 Q402.888 1524.47 401.059 1520.93 Q399.254 1517.37 395.619 1517.37 M395.619 1513.66 Q401.43 1513.66 404.485 1518.27 Q407.564 1522.85 407.564 1531.6 Q407.564 1540.33 404.485 1544.94 Q401.43 1549.52 395.619 1549.52 Q389.809 1549.52 386.731 1544.94 Q383.675 1540.33 383.675 1531.6 Q383.675 1522.85 386.731 1518.27 Q389.809 1513.66 395.619 1513.66 Z\" fill=\"#000000\" fill-rule=\"evenodd\" fill-opacity=\"1\" /><path clip-path=\"url(#clip090)\" d=\"M790.901 1532.02 L820.577 1532.02 L820.577 1535.95 L790.901 1535.95 L790.901 1532.02 Z\" fill=\"#000000\" fill-rule=\"evenodd\" fill-opacity=\"1\" /><path clip-path=\"url(#clip090)\" d=\"M830.715 1514.29 L849.072 1514.29 L849.072 1518.22 L834.998 1518.22 L834.998 1526.7 Q836.016 1526.35 837.035 1526.19 Q838.053 1526 839.072 1526 Q844.859 1526 848.238 1529.17 Q851.618 1532.34 851.618 1537.76 Q851.618 1543.34 848.146 1546.44 Q844.674 1549.52 838.354 1549.52 Q836.178 1549.52 833.91 1549.15 Q831.664 1548.78 829.257 1548.04 L829.257 1543.34 Q831.34 1544.47 833.563 1545.03 Q835.785 1545.58 838.262 1545.58 Q842.266 1545.58 844.604 1543.48 Q846.942 1541.37 846.942 1537.76 Q846.942 1534.15 844.604 1532.04 Q842.266 1529.94 838.262 1529.94 Q836.387 1529.94 834.512 1530.35 Q832.66 1530.77 830.715 1531.65 L830.715 1514.29 Z\" fill=\"#000000\" fill-rule=\"evenodd\" fill-opacity=\"1\" /><path clip-path=\"url(#clip090)\" d=\"M1280.89 1517.37 Q1277.28 1517.37 1275.45 1520.93 Q1273.65 1524.47 1273.65 1531.6 Q1273.65 1538.71 1275.45 1542.27 Q1277.28 1545.82 1280.89 1545.82 Q1284.53 1545.82 1286.33 1542.27 Q1288.16 1538.71 1288.16 1531.6 Q1288.16 1524.47 1286.33 1520.93 Q1284.53 1517.37 1280.89 1517.37 M1280.89 1513.66 Q1286.7 1513.66 1289.76 1518.27 Q1292.84 1522.85 1292.84 1531.6 Q1292.84 1540.33 1289.76 1544.94 Q1286.7 1549.52 1280.89 1549.52 Q1275.08 1549.52 1272 1544.94 Q1268.95 1540.33 1268.95 1531.6 Q1268.95 1522.85 1272 1518.27 Q1275.08 1513.66 1280.89 1513.66 Z\" fill=\"#000000\" fill-rule=\"evenodd\" fill-opacity=\"1\" /><path clip-path=\"url(#clip090)\" d=\"M1730.8 1514.29 L1749.16 1514.29 L1749.16 1518.22 L1735.09 1518.22 L1735.09 1526.7 Q1736.1 1526.35 1737.12 1526.19 Q1738.14 1526 1739.16 1526 Q1744.95 1526 1748.33 1529.17 Q1751.71 1532.34 1751.71 1537.76 Q1751.71 1543.34 1748.23 1546.44 Q1744.76 1549.52 1738.44 1549.52 Q1736.27 1549.52 1734 1549.15 Q1731.75 1548.78 1729.34 1548.04 L1729.34 1543.34 Q1731.43 1544.47 1733.65 1545.03 Q1735.87 1545.58 1738.35 1545.58 Q1742.35 1545.58 1744.69 1543.48 Q1747.03 1541.37 1747.03 1537.76 Q1747.03 1534.15 1744.69 1532.04 Q1742.35 1529.94 1738.35 1529.94 Q1736.47 1529.94 1734.6 1530.35 Q1732.75 1530.77 1730.8 1531.65 L1730.8 1514.29 Z\" fill=\"#000000\" fill-rule=\"evenodd\" fill-opacity=\"1\" /><path clip-path=\"url(#clip090)\" d=\"M2174.85 1544.91 L2182.48 1544.91 L2182.48 1518.55 L2174.17 1520.21 L2174.17 1515.95 L2182.44 1514.29 L2187.11 1514.29 L2187.11 1544.91 L2194.75 1544.91 L2194.75 1548.85 L2174.85 1548.85 L2174.85 1544.91 Z\" fill=\"#000000\" fill-rule=\"evenodd\" fill-opacity=\"1\" /><path clip-path=\"url(#clip090)\" d=\"M2214.2 1517.37 Q2210.59 1517.37 2208.76 1520.93 Q2206.95 1524.47 2206.95 1531.6 Q2206.95 1538.71 2208.76 1542.27 Q2210.59 1545.82 2214.2 1545.82 Q2217.83 1545.82 2219.64 1542.27 Q2221.47 1538.71 2221.47 1531.6 Q2221.47 1524.47 2219.64 1520.93 Q2217.83 1517.37 2214.2 1517.37 M2214.2 1513.66 Q2220.01 1513.66 2223.06 1518.27 Q2226.14 1522.85 2226.14 1531.6 Q2226.14 1540.33 2223.06 1544.94 Q2220.01 1549.52 2214.2 1549.52 Q2208.39 1549.52 2205.31 1544.94 Q2202.25 1540.33 2202.25 1531.6 Q2202.25 1522.85 2205.31 1518.27 Q2208.39 1513.66 2214.2 1513.66 Z\" fill=\"#000000\" fill-rule=\"evenodd\" fill-opacity=\"1\" /><polyline clip-path=\"url(#clip092)\" style=\"stroke:#000000; stroke-linecap:round; stroke-linejoin:round; stroke-width:2; stroke-opacity:0.1; fill:none\" points=\"209.029,1254.01 2352.76,1254.01 \"/>\n",
       "<polyline clip-path=\"url(#clip092)\" style=\"stroke:#000000; stroke-linecap:round; stroke-linejoin:round; stroke-width:2; stroke-opacity:0.1; fill:none\" points=\"209.029,900.321 2352.76,900.321 \"/>\n",
       "<polyline clip-path=\"url(#clip092)\" style=\"stroke:#000000; stroke-linecap:round; stroke-linejoin:round; stroke-width:2; stroke-opacity:0.1; fill:none\" points=\"209.029,546.634 2352.76,546.634 \"/>\n",
       "<polyline clip-path=\"url(#clip092)\" style=\"stroke:#000000; stroke-linecap:round; stroke-linejoin:round; stroke-width:2; stroke-opacity:0.1; fill:none\" points=\"209.029,192.947 2352.76,192.947 \"/>\n",
       "<polyline clip-path=\"url(#clip090)\" style=\"stroke:#000000; stroke-linecap:round; stroke-linejoin:round; stroke-width:4; stroke-opacity:1; fill:none\" points=\"209.029,1486.45 209.029,47.2441 \"/>\n",
       "<polyline clip-path=\"url(#clip090)\" style=\"stroke:#000000; stroke-linecap:round; stroke-linejoin:round; stroke-width:4; stroke-opacity:1; fill:none\" points=\"209.029,1254.01 227.926,1254.01 \"/>\n",
       "<polyline clip-path=\"url(#clip090)\" style=\"stroke:#000000; stroke-linecap:round; stroke-linejoin:round; stroke-width:4; stroke-opacity:1; fill:none\" points=\"209.029,900.321 227.926,900.321 \"/>\n",
       "<polyline clip-path=\"url(#clip090)\" style=\"stroke:#000000; stroke-linecap:round; stroke-linejoin:round; stroke-width:4; stroke-opacity:1; fill:none\" points=\"209.029,546.634 227.926,546.634 \"/>\n",
       "<polyline clip-path=\"url(#clip090)\" style=\"stroke:#000000; stroke-linecap:round; stroke-linejoin:round; stroke-width:4; stroke-opacity:1; fill:none\" points=\"209.029,192.947 227.926,192.947 \"/>\n",
       "<path clip-path=\"url(#clip090)\" d=\"M50.9921 1254.46 L80.6679 1254.46 L80.6679 1258.39 L50.9921 1258.39 L50.9921 1254.46 Z\" fill=\"#000000\" fill-rule=\"evenodd\" fill-opacity=\"1\" /><path clip-path=\"url(#clip090)\" d=\"M91.5706 1267.35 L99.2095 1267.35 L99.2095 1240.99 L90.8993 1242.65 L90.8993 1238.4 L99.1632 1236.73 L103.839 1236.73 L103.839 1267.35 L111.478 1267.35 L111.478 1271.29 L91.5706 1271.29 L91.5706 1267.35 Z\" fill=\"#000000\" fill-rule=\"evenodd\" fill-opacity=\"1\" /><path clip-path=\"url(#clip090)\" d=\"M130.922 1239.81 Q127.311 1239.81 125.482 1243.37 Q123.677 1246.91 123.677 1254.04 Q123.677 1261.15 125.482 1264.71 Q127.311 1268.26 130.922 1268.26 Q134.556 1268.26 136.362 1264.71 Q138.191 1261.15 138.191 1254.04 Q138.191 1246.91 136.362 1243.37 Q134.556 1239.81 130.922 1239.81 M130.922 1236.1 Q136.732 1236.1 139.788 1240.71 Q142.867 1245.29 142.867 1254.04 Q142.867 1262.77 139.788 1267.38 Q136.732 1271.96 130.922 1271.96 Q125.112 1271.96 122.033 1267.38 Q118.978 1262.77 118.978 1254.04 Q118.978 1245.29 122.033 1240.71 Q125.112 1236.1 130.922 1236.1 Z\" fill=\"#000000\" fill-rule=\"evenodd\" fill-opacity=\"1\" /><path clip-path=\"url(#clip090)\" d=\"M161.084 1239.81 Q157.473 1239.81 155.644 1243.37 Q153.839 1246.91 153.839 1254.04 Q153.839 1261.15 155.644 1264.71 Q157.473 1268.26 161.084 1268.26 Q164.718 1268.26 166.524 1264.71 Q168.353 1261.15 168.353 1254.04 Q168.353 1246.91 166.524 1243.37 Q164.718 1239.81 161.084 1239.81 M161.084 1236.1 Q166.894 1236.1 169.95 1240.71 Q173.029 1245.29 173.029 1254.04 Q173.029 1262.77 169.95 1267.38 Q166.894 1271.96 161.084 1271.96 Q155.274 1271.96 152.195 1267.38 Q149.14 1262.77 149.14 1254.04 Q149.14 1245.29 152.195 1240.71 Q155.274 1236.1 161.084 1236.1 Z\" fill=\"#000000\" fill-rule=\"evenodd\" fill-opacity=\"1\" /><path clip-path=\"url(#clip090)\" d=\"M161.084 886.12 Q157.473 886.12 155.644 889.685 Q153.839 893.226 153.839 900.356 Q153.839 907.462 155.644 911.027 Q157.473 914.569 161.084 914.569 Q164.718 914.569 166.524 911.027 Q168.353 907.462 168.353 900.356 Q168.353 893.226 166.524 889.685 Q164.718 886.12 161.084 886.12 M161.084 882.416 Q166.894 882.416 169.95 887.023 Q173.029 891.606 173.029 900.356 Q173.029 909.083 169.95 913.689 Q166.894 918.272 161.084 918.272 Q155.274 918.272 152.195 913.689 Q149.14 909.083 149.14 900.356 Q149.14 891.606 152.195 887.023 Q155.274 882.416 161.084 882.416 Z\" fill=\"#000000\" fill-rule=\"evenodd\" fill-opacity=\"1\" /><path clip-path=\"url(#clip090)\" d=\"M91.5706 559.979 L99.2095 559.979 L99.2095 533.613 L90.8993 535.28 L90.8993 531.021 L99.1632 529.354 L103.839 529.354 L103.839 559.979 L111.478 559.979 L111.478 563.914 L91.5706 563.914 L91.5706 559.979 Z\" fill=\"#000000\" fill-rule=\"evenodd\" fill-opacity=\"1\" /><path clip-path=\"url(#clip090)\" d=\"M130.922 532.433 Q127.311 532.433 125.482 535.997 Q123.677 539.539 123.677 546.669 Q123.677 553.775 125.482 557.34 Q127.311 560.882 130.922 560.882 Q134.556 560.882 136.362 557.34 Q138.191 553.775 138.191 546.669 Q138.191 539.539 136.362 535.997 Q134.556 532.433 130.922 532.433 M130.922 528.729 Q136.732 528.729 139.788 533.335 Q142.867 537.919 142.867 546.669 Q142.867 555.395 139.788 560.002 Q136.732 564.585 130.922 564.585 Q125.112 564.585 122.033 560.002 Q118.978 555.395 118.978 546.669 Q118.978 537.919 122.033 533.335 Q125.112 528.729 130.922 528.729 Z\" fill=\"#000000\" fill-rule=\"evenodd\" fill-opacity=\"1\" /><path clip-path=\"url(#clip090)\" d=\"M161.084 532.433 Q157.473 532.433 155.644 535.997 Q153.839 539.539 153.839 546.669 Q153.839 553.775 155.644 557.34 Q157.473 560.882 161.084 560.882 Q164.718 560.882 166.524 557.34 Q168.353 553.775 168.353 546.669 Q168.353 539.539 166.524 535.997 Q164.718 532.433 161.084 532.433 M161.084 528.729 Q166.894 528.729 169.95 533.335 Q173.029 537.919 173.029 546.669 Q173.029 555.395 169.95 560.002 Q166.894 564.585 161.084 564.585 Q155.274 564.585 152.195 560.002 Q149.14 555.395 149.14 546.669 Q149.14 537.919 152.195 533.335 Q155.274 528.729 161.084 528.729 Z\" fill=\"#000000\" fill-rule=\"evenodd\" fill-opacity=\"1\" /><path clip-path=\"url(#clip090)\" d=\"M94.7882 206.292 L111.108 206.292 L111.108 210.227 L89.1632 210.227 L89.1632 206.292 Q91.8252 203.537 96.4085 198.907 Q101.015 194.255 102.196 192.912 Q104.441 190.389 105.321 188.653 Q106.223 186.894 106.223 185.204 Q106.223 182.449 104.279 180.713 Q102.358 178.977 99.2558 178.977 Q97.0567 178.977 94.603 179.741 Q92.1725 180.505 89.3947 182.056 L89.3947 177.333 Q92.2188 176.199 94.6724 175.62 Q97.1261 175.042 99.1632 175.042 Q104.534 175.042 107.728 177.727 Q110.922 180.412 110.922 184.903 Q110.922 187.032 110.112 188.954 Q109.325 190.852 107.219 193.444 Q106.64 194.116 103.538 197.333 Q100.436 200.528 94.7882 206.292 Z\" fill=\"#000000\" fill-rule=\"evenodd\" fill-opacity=\"1\" /><path clip-path=\"url(#clip090)\" d=\"M130.922 178.745 Q127.311 178.745 125.482 182.31 Q123.677 185.852 123.677 192.981 Q123.677 200.088 125.482 203.653 Q127.311 207.194 130.922 207.194 Q134.556 207.194 136.362 203.653 Q138.191 200.088 138.191 192.981 Q138.191 185.852 136.362 182.31 Q134.556 178.745 130.922 178.745 M130.922 175.042 Q136.732 175.042 139.788 179.648 Q142.867 184.232 142.867 192.981 Q142.867 201.708 139.788 206.315 Q136.732 210.898 130.922 210.898 Q125.112 210.898 122.033 206.315 Q118.978 201.708 118.978 192.981 Q118.978 184.232 122.033 179.648 Q125.112 175.042 130.922 175.042 Z\" fill=\"#000000\" fill-rule=\"evenodd\" fill-opacity=\"1\" /><path clip-path=\"url(#clip090)\" d=\"M161.084 178.745 Q157.473 178.745 155.644 182.31 Q153.839 185.852 153.839 192.981 Q153.839 200.088 155.644 203.653 Q157.473 207.194 161.084 207.194 Q164.718 207.194 166.524 203.653 Q168.353 200.088 168.353 192.981 Q168.353 185.852 166.524 182.31 Q164.718 178.745 161.084 178.745 M161.084 175.042 Q166.894 175.042 169.95 179.648 Q173.029 184.232 173.029 192.981 Q173.029 201.708 169.95 206.315 Q166.894 210.898 161.084 210.898 Q155.274 210.898 152.195 206.315 Q149.14 201.708 149.14 192.981 Q149.14 184.232 152.195 179.648 Q155.274 175.042 161.084 175.042 Z\" fill=\"#000000\" fill-rule=\"evenodd\" fill-opacity=\"1\" /><circle clip-path=\"url(#clip092)\" cx=\"269.7\" cy=\"617.373\" r=\"14.4\" fill=\"#009af9\" fill-rule=\"evenodd\" fill-opacity=\"1\" stroke=\"#000000\" stroke-opacity=\"1\" stroke-width=\"3.2\"/>\n",
       "<circle clip-path=\"url(#clip092)\" cx=\"278.893\" cy=\"567.451\" r=\"14.4\" fill=\"#009af9\" fill-rule=\"evenodd\" fill-opacity=\"1\" stroke=\"#000000\" stroke-opacity=\"1\" stroke-width=\"3.2\"/>\n",
       "<circle clip-path=\"url(#clip092)\" cx=\"288.085\" cy=\"657.625\" r=\"14.4\" fill=\"#009af9\" fill-rule=\"evenodd\" fill-opacity=\"1\" stroke=\"#000000\" stroke-opacity=\"1\" stroke-width=\"3.2\"/>\n",
       "<circle clip-path=\"url(#clip092)\" cx=\"297.278\" cy=\"623.935\" r=\"14.4\" fill=\"#009af9\" fill-rule=\"evenodd\" fill-opacity=\"1\" stroke=\"#000000\" stroke-opacity=\"1\" stroke-width=\"3.2\"/>\n",
       "<circle clip-path=\"url(#clip092)\" cx=\"306.471\" cy=\"586.214\" r=\"14.4\" fill=\"#009af9\" fill-rule=\"evenodd\" fill-opacity=\"1\" stroke=\"#000000\" stroke-opacity=\"1\" stroke-width=\"3.2\"/>\n",
       "<circle clip-path=\"url(#clip092)\" cx=\"315.663\" cy=\"586.725\" r=\"14.4\" fill=\"#009af9\" fill-rule=\"evenodd\" fill-opacity=\"1\" stroke=\"#000000\" stroke-opacity=\"1\" stroke-width=\"3.2\"/>\n",
       "<circle clip-path=\"url(#clip092)\" cx=\"324.856\" cy=\"623.109\" r=\"14.4\" fill=\"#009af9\" fill-rule=\"evenodd\" fill-opacity=\"1\" stroke=\"#000000\" stroke-opacity=\"1\" stroke-width=\"3.2\"/>\n",
       "<circle clip-path=\"url(#clip092)\" cx=\"334.049\" cy=\"623.792\" r=\"14.4\" fill=\"#009af9\" fill-rule=\"evenodd\" fill-opacity=\"1\" stroke=\"#000000\" stroke-opacity=\"1\" stroke-width=\"3.2\"/>\n",
       "<circle clip-path=\"url(#clip092)\" cx=\"343.241\" cy=\"671.198\" r=\"14.4\" fill=\"#009af9\" fill-rule=\"evenodd\" fill-opacity=\"1\" stroke=\"#000000\" stroke-opacity=\"1\" stroke-width=\"3.2\"/>\n",
       "<circle clip-path=\"url(#clip092)\" cx=\"352.434\" cy=\"654.601\" r=\"14.4\" fill=\"#009af9\" fill-rule=\"evenodd\" fill-opacity=\"1\" stroke=\"#000000\" stroke-opacity=\"1\" stroke-width=\"3.2\"/>\n",
       "<circle clip-path=\"url(#clip092)\" cx=\"361.627\" cy=\"629.088\" r=\"14.4\" fill=\"#009af9\" fill-rule=\"evenodd\" fill-opacity=\"1\" stroke=\"#000000\" stroke-opacity=\"1\" stroke-width=\"3.2\"/>\n",
       "<circle clip-path=\"url(#clip092)\" cx=\"370.819\" cy=\"611.51\" r=\"14.4\" fill=\"#009af9\" fill-rule=\"evenodd\" fill-opacity=\"1\" stroke=\"#000000\" stroke-opacity=\"1\" stroke-width=\"3.2\"/>\n",
       "<circle clip-path=\"url(#clip092)\" cx=\"380.012\" cy=\"697.704\" r=\"14.4\" fill=\"#009af9\" fill-rule=\"evenodd\" fill-opacity=\"1\" stroke=\"#000000\" stroke-opacity=\"1\" stroke-width=\"3.2\"/>\n",
       "<circle clip-path=\"url(#clip092)\" cx=\"389.205\" cy=\"674.425\" r=\"14.4\" fill=\"#009af9\" fill-rule=\"evenodd\" fill-opacity=\"1\" stroke=\"#000000\" stroke-opacity=\"1\" stroke-width=\"3.2\"/>\n",
       "<circle clip-path=\"url(#clip092)\" cx=\"398.397\" cy=\"686.488\" r=\"14.4\" fill=\"#009af9\" fill-rule=\"evenodd\" fill-opacity=\"1\" stroke=\"#000000\" stroke-opacity=\"1\" stroke-width=\"3.2\"/>\n",
       "<circle clip-path=\"url(#clip092)\" cx=\"407.59\" cy=\"672.156\" r=\"14.4\" fill=\"#009af9\" fill-rule=\"evenodd\" fill-opacity=\"1\" stroke=\"#000000\" stroke-opacity=\"1\" stroke-width=\"3.2\"/>\n",
       "<circle clip-path=\"url(#clip092)\" cx=\"416.783\" cy=\"680.143\" r=\"14.4\" fill=\"#009af9\" fill-rule=\"evenodd\" fill-opacity=\"1\" stroke=\"#000000\" stroke-opacity=\"1\" stroke-width=\"3.2\"/>\n",
       "<circle clip-path=\"url(#clip092)\" cx=\"425.975\" cy=\"666.886\" r=\"14.4\" fill=\"#009af9\" fill-rule=\"evenodd\" fill-opacity=\"1\" stroke=\"#000000\" stroke-opacity=\"1\" stroke-width=\"3.2\"/>\n",
       "<circle clip-path=\"url(#clip092)\" cx=\"435.168\" cy=\"762.65\" r=\"14.4\" fill=\"#009af9\" fill-rule=\"evenodd\" fill-opacity=\"1\" stroke=\"#000000\" stroke-opacity=\"1\" stroke-width=\"3.2\"/>\n",
       "<circle clip-path=\"url(#clip092)\" cx=\"444.361\" cy=\"726.436\" r=\"14.4\" fill=\"#009af9\" fill-rule=\"evenodd\" fill-opacity=\"1\" stroke=\"#000000\" stroke-opacity=\"1\" stroke-width=\"3.2\"/>\n",
       "<circle clip-path=\"url(#clip092)\" cx=\"453.553\" cy=\"693.187\" r=\"14.4\" fill=\"#009af9\" fill-rule=\"evenodd\" fill-opacity=\"1\" stroke=\"#000000\" stroke-opacity=\"1\" stroke-width=\"3.2\"/>\n",
       "<circle clip-path=\"url(#clip092)\" cx=\"462.746\" cy=\"652.244\" r=\"14.4\" fill=\"#009af9\" fill-rule=\"evenodd\" fill-opacity=\"1\" stroke=\"#000000\" stroke-opacity=\"1\" stroke-width=\"3.2\"/>\n",
       "<circle clip-path=\"url(#clip092)\" cx=\"471.938\" cy=\"733.053\" r=\"14.4\" fill=\"#009af9\" fill-rule=\"evenodd\" fill-opacity=\"1\" stroke=\"#000000\" stroke-opacity=\"1\" stroke-width=\"3.2\"/>\n",
       "<circle clip-path=\"url(#clip092)\" cx=\"481.131\" cy=\"759.854\" r=\"14.4\" fill=\"#009af9\" fill-rule=\"evenodd\" fill-opacity=\"1\" stroke=\"#000000\" stroke-opacity=\"1\" stroke-width=\"3.2\"/>\n",
       "<circle clip-path=\"url(#clip092)\" cx=\"490.324\" cy=\"777.226\" r=\"14.4\" fill=\"#009af9\" fill-rule=\"evenodd\" fill-opacity=\"1\" stroke=\"#000000\" stroke-opacity=\"1\" stroke-width=\"3.2\"/>\n",
       "<circle clip-path=\"url(#clip092)\" cx=\"499.516\" cy=\"788.364\" r=\"14.4\" fill=\"#009af9\" fill-rule=\"evenodd\" fill-opacity=\"1\" stroke=\"#000000\" stroke-opacity=\"1\" stroke-width=\"3.2\"/>\n",
       "<circle clip-path=\"url(#clip092)\" cx=\"508.709\" cy=\"728.014\" r=\"14.4\" fill=\"#009af9\" fill-rule=\"evenodd\" fill-opacity=\"1\" stroke=\"#000000\" stroke-opacity=\"1\" stroke-width=\"3.2\"/>\n",
       "<circle clip-path=\"url(#clip092)\" cx=\"517.902\" cy=\"732.93\" r=\"14.4\" fill=\"#009af9\" fill-rule=\"evenodd\" fill-opacity=\"1\" stroke=\"#000000\" stroke-opacity=\"1\" stroke-width=\"3.2\"/>\n",
       "<circle clip-path=\"url(#clip092)\" cx=\"527.094\" cy=\"719.745\" r=\"14.4\" fill=\"#009af9\" fill-rule=\"evenodd\" fill-opacity=\"1\" stroke=\"#000000\" stroke-opacity=\"1\" stroke-width=\"3.2\"/>\n",
       "<circle clip-path=\"url(#clip092)\" cx=\"536.287\" cy=\"740.416\" r=\"14.4\" fill=\"#009af9\" fill-rule=\"evenodd\" fill-opacity=\"1\" stroke=\"#000000\" stroke-opacity=\"1\" stroke-width=\"3.2\"/>\n",
       "<circle clip-path=\"url(#clip092)\" cx=\"545.48\" cy=\"784.115\" r=\"14.4\" fill=\"#009af9\" fill-rule=\"evenodd\" fill-opacity=\"1\" stroke=\"#000000\" stroke-opacity=\"1\" stroke-width=\"3.2\"/>\n",
       "<circle clip-path=\"url(#clip092)\" cx=\"554.672\" cy=\"788.543\" r=\"14.4\" fill=\"#009af9\" fill-rule=\"evenodd\" fill-opacity=\"1\" stroke=\"#000000\" stroke-opacity=\"1\" stroke-width=\"3.2\"/>\n",
       "<circle clip-path=\"url(#clip092)\" cx=\"563.865\" cy=\"745.564\" r=\"14.4\" fill=\"#009af9\" fill-rule=\"evenodd\" fill-opacity=\"1\" stroke=\"#000000\" stroke-opacity=\"1\" stroke-width=\"3.2\"/>\n",
       "<circle clip-path=\"url(#clip092)\" cx=\"573.058\" cy=\"798.317\" r=\"14.4\" fill=\"#009af9\" fill-rule=\"evenodd\" fill-opacity=\"1\" stroke=\"#000000\" stroke-opacity=\"1\" stroke-width=\"3.2\"/>\n",
       "<circle clip-path=\"url(#clip092)\" cx=\"582.25\" cy=\"772.381\" r=\"14.4\" fill=\"#009af9\" fill-rule=\"evenodd\" fill-opacity=\"1\" stroke=\"#000000\" stroke-opacity=\"1\" stroke-width=\"3.2\"/>\n",
       "<circle clip-path=\"url(#clip092)\" cx=\"591.443\" cy=\"769.135\" r=\"14.4\" fill=\"#009af9\" fill-rule=\"evenodd\" fill-opacity=\"1\" stroke=\"#000000\" stroke-opacity=\"1\" stroke-width=\"3.2\"/>\n",
       "<circle clip-path=\"url(#clip092)\" cx=\"600.636\" cy=\"869.523\" r=\"14.4\" fill=\"#009af9\" fill-rule=\"evenodd\" fill-opacity=\"1\" stroke=\"#000000\" stroke-opacity=\"1\" stroke-width=\"3.2\"/>\n",
       "<circle clip-path=\"url(#clip092)\" cx=\"609.828\" cy=\"833.509\" r=\"14.4\" fill=\"#009af9\" fill-rule=\"evenodd\" fill-opacity=\"1\" stroke=\"#000000\" stroke-opacity=\"1\" stroke-width=\"3.2\"/>\n",
       "<circle clip-path=\"url(#clip092)\" cx=\"619.021\" cy=\"819.303\" r=\"14.4\" fill=\"#009af9\" fill-rule=\"evenodd\" fill-opacity=\"1\" stroke=\"#000000\" stroke-opacity=\"1\" stroke-width=\"3.2\"/>\n",
       "<circle clip-path=\"url(#clip092)\" cx=\"628.214\" cy=\"815.058\" r=\"14.4\" fill=\"#009af9\" fill-rule=\"evenodd\" fill-opacity=\"1\" stroke=\"#000000\" stroke-opacity=\"1\" stroke-width=\"3.2\"/>\n",
       "<circle clip-path=\"url(#clip092)\" cx=\"637.406\" cy=\"836.577\" r=\"14.4\" fill=\"#009af9\" fill-rule=\"evenodd\" fill-opacity=\"1\" stroke=\"#000000\" stroke-opacity=\"1\" stroke-width=\"3.2\"/>\n",
       "<circle clip-path=\"url(#clip092)\" cx=\"646.599\" cy=\"800.555\" r=\"14.4\" fill=\"#009af9\" fill-rule=\"evenodd\" fill-opacity=\"1\" stroke=\"#000000\" stroke-opacity=\"1\" stroke-width=\"3.2\"/>\n",
       "<circle clip-path=\"url(#clip092)\" cx=\"655.792\" cy=\"821.375\" r=\"14.4\" fill=\"#009af9\" fill-rule=\"evenodd\" fill-opacity=\"1\" stroke=\"#000000\" stroke-opacity=\"1\" stroke-width=\"3.2\"/>\n",
       "<circle clip-path=\"url(#clip092)\" cx=\"664.984\" cy=\"824.697\" r=\"14.4\" fill=\"#009af9\" fill-rule=\"evenodd\" fill-opacity=\"1\" stroke=\"#000000\" stroke-opacity=\"1\" stroke-width=\"3.2\"/>\n",
       "<circle clip-path=\"url(#clip092)\" cx=\"674.177\" cy=\"900.848\" r=\"14.4\" fill=\"#009af9\" fill-rule=\"evenodd\" fill-opacity=\"1\" stroke=\"#000000\" stroke-opacity=\"1\" stroke-width=\"3.2\"/>\n",
       "<circle clip-path=\"url(#clip092)\" cx=\"683.37\" cy=\"801.834\" r=\"14.4\" fill=\"#009af9\" fill-rule=\"evenodd\" fill-opacity=\"1\" stroke=\"#000000\" stroke-opacity=\"1\" stroke-width=\"3.2\"/>\n",
       "<circle clip-path=\"url(#clip092)\" cx=\"692.562\" cy=\"827.863\" r=\"14.4\" fill=\"#009af9\" fill-rule=\"evenodd\" fill-opacity=\"1\" stroke=\"#000000\" stroke-opacity=\"1\" stroke-width=\"3.2\"/>\n",
       "<circle clip-path=\"url(#clip092)\" cx=\"701.755\" cy=\"812.379\" r=\"14.4\" fill=\"#009af9\" fill-rule=\"evenodd\" fill-opacity=\"1\" stroke=\"#000000\" stroke-opacity=\"1\" stroke-width=\"3.2\"/>\n",
       "<circle clip-path=\"url(#clip092)\" cx=\"710.948\" cy=\"840.075\" r=\"14.4\" fill=\"#009af9\" fill-rule=\"evenodd\" fill-opacity=\"1\" stroke=\"#000000\" stroke-opacity=\"1\" stroke-width=\"3.2\"/>\n",
       "<circle clip-path=\"url(#clip092)\" cx=\"720.14\" cy=\"895.985\" r=\"14.4\" fill=\"#009af9\" fill-rule=\"evenodd\" fill-opacity=\"1\" stroke=\"#000000\" stroke-opacity=\"1\" stroke-width=\"3.2\"/>\n",
       "<circle clip-path=\"url(#clip092)\" cx=\"729.333\" cy=\"820.838\" r=\"14.4\" fill=\"#009af9\" fill-rule=\"evenodd\" fill-opacity=\"1\" stroke=\"#000000\" stroke-opacity=\"1\" stroke-width=\"3.2\"/>\n",
       "<circle clip-path=\"url(#clip092)\" cx=\"738.525\" cy=\"850.167\" r=\"14.4\" fill=\"#009af9\" fill-rule=\"evenodd\" fill-opacity=\"1\" stroke=\"#000000\" stroke-opacity=\"1\" stroke-width=\"3.2\"/>\n",
       "<circle clip-path=\"url(#clip092)\" cx=\"747.718\" cy=\"876.928\" r=\"14.4\" fill=\"#009af9\" fill-rule=\"evenodd\" fill-opacity=\"1\" stroke=\"#000000\" stroke-opacity=\"1\" stroke-width=\"3.2\"/>\n",
       "<circle clip-path=\"url(#clip092)\" cx=\"756.911\" cy=\"891.892\" r=\"14.4\" fill=\"#009af9\" fill-rule=\"evenodd\" fill-opacity=\"1\" stroke=\"#000000\" stroke-opacity=\"1\" stroke-width=\"3.2\"/>\n",
       "<circle clip-path=\"url(#clip092)\" cx=\"766.103\" cy=\"847.915\" r=\"14.4\" fill=\"#009af9\" fill-rule=\"evenodd\" fill-opacity=\"1\" stroke=\"#000000\" stroke-opacity=\"1\" stroke-width=\"3.2\"/>\n",
       "<circle clip-path=\"url(#clip092)\" cx=\"775.296\" cy=\"863.809\" r=\"14.4\" fill=\"#009af9\" fill-rule=\"evenodd\" fill-opacity=\"1\" stroke=\"#000000\" stroke-opacity=\"1\" stroke-width=\"3.2\"/>\n",
       "<circle clip-path=\"url(#clip092)\" cx=\"784.489\" cy=\"828.234\" r=\"14.4\" fill=\"#009af9\" fill-rule=\"evenodd\" fill-opacity=\"1\" stroke=\"#000000\" stroke-opacity=\"1\" stroke-width=\"3.2\"/>\n",
       "<circle clip-path=\"url(#clip092)\" cx=\"793.681\" cy=\"814.339\" r=\"14.4\" fill=\"#009af9\" fill-rule=\"evenodd\" fill-opacity=\"1\" stroke=\"#000000\" stroke-opacity=\"1\" stroke-width=\"3.2\"/>\n",
       "<circle clip-path=\"url(#clip092)\" cx=\"802.874\" cy=\"880.801\" r=\"14.4\" fill=\"#009af9\" fill-rule=\"evenodd\" fill-opacity=\"1\" stroke=\"#000000\" stroke-opacity=\"1\" stroke-width=\"3.2\"/>\n",
       "<circle clip-path=\"url(#clip092)\" cx=\"812.067\" cy=\"868.158\" r=\"14.4\" fill=\"#009af9\" fill-rule=\"evenodd\" fill-opacity=\"1\" stroke=\"#000000\" stroke-opacity=\"1\" stroke-width=\"3.2\"/>\n",
       "<circle clip-path=\"url(#clip092)\" cx=\"821.259\" cy=\"840.053\" r=\"14.4\" fill=\"#009af9\" fill-rule=\"evenodd\" fill-opacity=\"1\" stroke=\"#000000\" stroke-opacity=\"1\" stroke-width=\"3.2\"/>\n",
       "<circle clip-path=\"url(#clip092)\" cx=\"830.452\" cy=\"882.548\" r=\"14.4\" fill=\"#009af9\" fill-rule=\"evenodd\" fill-opacity=\"1\" stroke=\"#000000\" stroke-opacity=\"1\" stroke-width=\"3.2\"/>\n",
       "<circle clip-path=\"url(#clip092)\" cx=\"839.645\" cy=\"879.473\" r=\"14.4\" fill=\"#009af9\" fill-rule=\"evenodd\" fill-opacity=\"1\" stroke=\"#000000\" stroke-opacity=\"1\" stroke-width=\"3.2\"/>\n",
       "<circle clip-path=\"url(#clip092)\" cx=\"848.837\" cy=\"883.435\" r=\"14.4\" fill=\"#009af9\" fill-rule=\"evenodd\" fill-opacity=\"1\" stroke=\"#000000\" stroke-opacity=\"1\" stroke-width=\"3.2\"/>\n",
       "<circle clip-path=\"url(#clip092)\" cx=\"858.03\" cy=\"897.647\" r=\"14.4\" fill=\"#009af9\" fill-rule=\"evenodd\" fill-opacity=\"1\" stroke=\"#000000\" stroke-opacity=\"1\" stroke-width=\"3.2\"/>\n",
       "<circle clip-path=\"url(#clip092)\" cx=\"867.223\" cy=\"827.404\" r=\"14.4\" fill=\"#009af9\" fill-rule=\"evenodd\" fill-opacity=\"1\" stroke=\"#000000\" stroke-opacity=\"1\" stroke-width=\"3.2\"/>\n",
       "<circle clip-path=\"url(#clip092)\" cx=\"876.415\" cy=\"881.928\" r=\"14.4\" fill=\"#009af9\" fill-rule=\"evenodd\" fill-opacity=\"1\" stroke=\"#000000\" stroke-opacity=\"1\" stroke-width=\"3.2\"/>\n",
       "<circle clip-path=\"url(#clip092)\" cx=\"885.608\" cy=\"900.374\" r=\"14.4\" fill=\"#009af9\" fill-rule=\"evenodd\" fill-opacity=\"1\" stroke=\"#000000\" stroke-opacity=\"1\" stroke-width=\"3.2\"/>\n",
       "<circle clip-path=\"url(#clip092)\" cx=\"894.801\" cy=\"867.275\" r=\"14.4\" fill=\"#009af9\" fill-rule=\"evenodd\" fill-opacity=\"1\" stroke=\"#000000\" stroke-opacity=\"1\" stroke-width=\"3.2\"/>\n",
       "<circle clip-path=\"url(#clip092)\" cx=\"903.993\" cy=\"907.004\" r=\"14.4\" fill=\"#009af9\" fill-rule=\"evenodd\" fill-opacity=\"1\" stroke=\"#000000\" stroke-opacity=\"1\" stroke-width=\"3.2\"/>\n",
       "<circle clip-path=\"url(#clip092)\" cx=\"913.186\" cy=\"959.348\" r=\"14.4\" fill=\"#009af9\" fill-rule=\"evenodd\" fill-opacity=\"1\" stroke=\"#000000\" stroke-opacity=\"1\" stroke-width=\"3.2\"/>\n",
       "<circle clip-path=\"url(#clip092)\" cx=\"922.379\" cy=\"936.833\" r=\"14.4\" fill=\"#009af9\" fill-rule=\"evenodd\" fill-opacity=\"1\" stroke=\"#000000\" stroke-opacity=\"1\" stroke-width=\"3.2\"/>\n",
       "<circle clip-path=\"url(#clip092)\" cx=\"931.571\" cy=\"900.588\" r=\"14.4\" fill=\"#009af9\" fill-rule=\"evenodd\" fill-opacity=\"1\" stroke=\"#000000\" stroke-opacity=\"1\" stroke-width=\"3.2\"/>\n",
       "<circle clip-path=\"url(#clip092)\" cx=\"940.764\" cy=\"882.172\" r=\"14.4\" fill=\"#009af9\" fill-rule=\"evenodd\" fill-opacity=\"1\" stroke=\"#000000\" stroke-opacity=\"1\" stroke-width=\"3.2\"/>\n",
       "<circle clip-path=\"url(#clip092)\" cx=\"949.957\" cy=\"889.306\" r=\"14.4\" fill=\"#009af9\" fill-rule=\"evenodd\" fill-opacity=\"1\" stroke=\"#000000\" stroke-opacity=\"1\" stroke-width=\"3.2\"/>\n",
       "<circle clip-path=\"url(#clip092)\" cx=\"959.149\" cy=\"830.851\" r=\"14.4\" fill=\"#009af9\" fill-rule=\"evenodd\" fill-opacity=\"1\" stroke=\"#000000\" stroke-opacity=\"1\" stroke-width=\"3.2\"/>\n",
       "<circle clip-path=\"url(#clip092)\" cx=\"968.342\" cy=\"943.928\" r=\"14.4\" fill=\"#009af9\" fill-rule=\"evenodd\" fill-opacity=\"1\" stroke=\"#000000\" stroke-opacity=\"1\" stroke-width=\"3.2\"/>\n",
       "<circle clip-path=\"url(#clip092)\" cx=\"977.535\" cy=\"837.61\" r=\"14.4\" fill=\"#009af9\" fill-rule=\"evenodd\" fill-opacity=\"1\" stroke=\"#000000\" stroke-opacity=\"1\" stroke-width=\"3.2\"/>\n",
       "<circle clip-path=\"url(#clip092)\" cx=\"986.727\" cy=\"986.96\" r=\"14.4\" fill=\"#009af9\" fill-rule=\"evenodd\" fill-opacity=\"1\" stroke=\"#000000\" stroke-opacity=\"1\" stroke-width=\"3.2\"/>\n",
       "<circle clip-path=\"url(#clip092)\" cx=\"995.92\" cy=\"945.647\" r=\"14.4\" fill=\"#009af9\" fill-rule=\"evenodd\" fill-opacity=\"1\" stroke=\"#000000\" stroke-opacity=\"1\" stroke-width=\"3.2\"/>\n",
       "<circle clip-path=\"url(#clip092)\" cx=\"1005.11\" cy=\"896.902\" r=\"14.4\" fill=\"#009af9\" fill-rule=\"evenodd\" fill-opacity=\"1\" stroke=\"#000000\" stroke-opacity=\"1\" stroke-width=\"3.2\"/>\n",
       "<circle clip-path=\"url(#clip092)\" cx=\"1014.31\" cy=\"928.297\" r=\"14.4\" fill=\"#009af9\" fill-rule=\"evenodd\" fill-opacity=\"1\" stroke=\"#000000\" stroke-opacity=\"1\" stroke-width=\"3.2\"/>\n",
       "<circle clip-path=\"url(#clip092)\" cx=\"1023.5\" cy=\"845.706\" r=\"14.4\" fill=\"#009af9\" fill-rule=\"evenodd\" fill-opacity=\"1\" stroke=\"#000000\" stroke-opacity=\"1\" stroke-width=\"3.2\"/>\n",
       "<circle clip-path=\"url(#clip092)\" cx=\"1032.69\" cy=\"858.283\" r=\"14.4\" fill=\"#009af9\" fill-rule=\"evenodd\" fill-opacity=\"1\" stroke=\"#000000\" stroke-opacity=\"1\" stroke-width=\"3.2\"/>\n",
       "<circle clip-path=\"url(#clip092)\" cx=\"1041.88\" cy=\"879.494\" r=\"14.4\" fill=\"#009af9\" fill-rule=\"evenodd\" fill-opacity=\"1\" stroke=\"#000000\" stroke-opacity=\"1\" stroke-width=\"3.2\"/>\n",
       "<circle clip-path=\"url(#clip092)\" cx=\"1051.08\" cy=\"962.208\" r=\"14.4\" fill=\"#009af9\" fill-rule=\"evenodd\" fill-opacity=\"1\" stroke=\"#000000\" stroke-opacity=\"1\" stroke-width=\"3.2\"/>\n",
       "<circle clip-path=\"url(#clip092)\" cx=\"1060.27\" cy=\"886.022\" r=\"14.4\" fill=\"#009af9\" fill-rule=\"evenodd\" fill-opacity=\"1\" stroke=\"#000000\" stroke-opacity=\"1\" stroke-width=\"3.2\"/>\n",
       "<circle clip-path=\"url(#clip092)\" cx=\"1069.46\" cy=\"898.241\" r=\"14.4\" fill=\"#009af9\" fill-rule=\"evenodd\" fill-opacity=\"1\" stroke=\"#000000\" stroke-opacity=\"1\" stroke-width=\"3.2\"/>\n",
       "<circle clip-path=\"url(#clip092)\" cx=\"1078.65\" cy=\"905.047\" r=\"14.4\" fill=\"#009af9\" fill-rule=\"evenodd\" fill-opacity=\"1\" stroke=\"#000000\" stroke-opacity=\"1\" stroke-width=\"3.2\"/>\n",
       "<circle clip-path=\"url(#clip092)\" cx=\"1087.85\" cy=\"892.68\" r=\"14.4\" fill=\"#009af9\" fill-rule=\"evenodd\" fill-opacity=\"1\" stroke=\"#000000\" stroke-opacity=\"1\" stroke-width=\"3.2\"/>\n",
       "<circle clip-path=\"url(#clip092)\" cx=\"1097.04\" cy=\"849.126\" r=\"14.4\" fill=\"#009af9\" fill-rule=\"evenodd\" fill-opacity=\"1\" stroke=\"#000000\" stroke-opacity=\"1\" stroke-width=\"3.2\"/>\n",
       "<circle clip-path=\"url(#clip092)\" cx=\"1106.23\" cy=\"882.54\" r=\"14.4\" fill=\"#009af9\" fill-rule=\"evenodd\" fill-opacity=\"1\" stroke=\"#000000\" stroke-opacity=\"1\" stroke-width=\"3.2\"/>\n",
       "<circle clip-path=\"url(#clip092)\" cx=\"1115.42\" cy=\"935.077\" r=\"14.4\" fill=\"#009af9\" fill-rule=\"evenodd\" fill-opacity=\"1\" stroke=\"#000000\" stroke-opacity=\"1\" stroke-width=\"3.2\"/>\n",
       "<circle clip-path=\"url(#clip092)\" cx=\"1124.62\" cy=\"919.187\" r=\"14.4\" fill=\"#009af9\" fill-rule=\"evenodd\" fill-opacity=\"1\" stroke=\"#000000\" stroke-opacity=\"1\" stroke-width=\"3.2\"/>\n",
       "<circle clip-path=\"url(#clip092)\" cx=\"1133.81\" cy=\"836.676\" r=\"14.4\" fill=\"#009af9\" fill-rule=\"evenodd\" fill-opacity=\"1\" stroke=\"#000000\" stroke-opacity=\"1\" stroke-width=\"3.2\"/>\n",
       "<circle clip-path=\"url(#clip092)\" cx=\"1143\" cy=\"903.915\" r=\"14.4\" fill=\"#009af9\" fill-rule=\"evenodd\" fill-opacity=\"1\" stroke=\"#000000\" stroke-opacity=\"1\" stroke-width=\"3.2\"/>\n",
       "<circle clip-path=\"url(#clip092)\" cx=\"1152.2\" cy=\"919.986\" r=\"14.4\" fill=\"#009af9\" fill-rule=\"evenodd\" fill-opacity=\"1\" stroke=\"#000000\" stroke-opacity=\"1\" stroke-width=\"3.2\"/>\n",
       "<circle clip-path=\"url(#clip092)\" cx=\"1161.39\" cy=\"859.598\" r=\"14.4\" fill=\"#009af9\" fill-rule=\"evenodd\" fill-opacity=\"1\" stroke=\"#000000\" stroke-opacity=\"1\" stroke-width=\"3.2\"/>\n",
       "<circle clip-path=\"url(#clip092)\" cx=\"1170.58\" cy=\"934.192\" r=\"14.4\" fill=\"#009af9\" fill-rule=\"evenodd\" fill-opacity=\"1\" stroke=\"#000000\" stroke-opacity=\"1\" stroke-width=\"3.2\"/>\n",
       "<circle clip-path=\"url(#clip092)\" cx=\"1179.77\" cy=\"944.99\" r=\"14.4\" fill=\"#009af9\" fill-rule=\"evenodd\" fill-opacity=\"1\" stroke=\"#000000\" stroke-opacity=\"1\" stroke-width=\"3.2\"/>\n",
       "<circle clip-path=\"url(#clip092)\" cx=\"1188.97\" cy=\"880.779\" r=\"14.4\" fill=\"#009af9\" fill-rule=\"evenodd\" fill-opacity=\"1\" stroke=\"#000000\" stroke-opacity=\"1\" stroke-width=\"3.2\"/>\n",
       "<circle clip-path=\"url(#clip092)\" cx=\"1198.16\" cy=\"908.882\" r=\"14.4\" fill=\"#009af9\" fill-rule=\"evenodd\" fill-opacity=\"1\" stroke=\"#000000\" stroke-opacity=\"1\" stroke-width=\"3.2\"/>\n",
       "<circle clip-path=\"url(#clip092)\" cx=\"1207.35\" cy=\"883.632\" r=\"14.4\" fill=\"#009af9\" fill-rule=\"evenodd\" fill-opacity=\"1\" stroke=\"#000000\" stroke-opacity=\"1\" stroke-width=\"3.2\"/>\n",
       "<circle clip-path=\"url(#clip092)\" cx=\"1216.54\" cy=\"871.655\" r=\"14.4\" fill=\"#009af9\" fill-rule=\"evenodd\" fill-opacity=\"1\" stroke=\"#000000\" stroke-opacity=\"1\" stroke-width=\"3.2\"/>\n",
       "<circle clip-path=\"url(#clip092)\" cx=\"1225.74\" cy=\"859.646\" r=\"14.4\" fill=\"#009af9\" fill-rule=\"evenodd\" fill-opacity=\"1\" stroke=\"#000000\" stroke-opacity=\"1\" stroke-width=\"3.2\"/>\n",
       "<circle clip-path=\"url(#clip092)\" cx=\"1234.93\" cy=\"943.149\" r=\"14.4\" fill=\"#009af9\" fill-rule=\"evenodd\" fill-opacity=\"1\" stroke=\"#000000\" stroke-opacity=\"1\" stroke-width=\"3.2\"/>\n",
       "<circle clip-path=\"url(#clip092)\" cx=\"1244.12\" cy=\"875.676\" r=\"14.4\" fill=\"#009af9\" fill-rule=\"evenodd\" fill-opacity=\"1\" stroke=\"#000000\" stroke-opacity=\"1\" stroke-width=\"3.2\"/>\n",
       "<circle clip-path=\"url(#clip092)\" cx=\"1253.31\" cy=\"924.865\" r=\"14.4\" fill=\"#009af9\" fill-rule=\"evenodd\" fill-opacity=\"1\" stroke=\"#000000\" stroke-opacity=\"1\" stroke-width=\"3.2\"/>\n",
       "<circle clip-path=\"url(#clip092)\" cx=\"1262.51\" cy=\"937.276\" r=\"14.4\" fill=\"#009af9\" fill-rule=\"evenodd\" fill-opacity=\"1\" stroke=\"#000000\" stroke-opacity=\"1\" stroke-width=\"3.2\"/>\n",
       "<circle clip-path=\"url(#clip092)\" cx=\"1271.7\" cy=\"909.564\" r=\"14.4\" fill=\"#009af9\" fill-rule=\"evenodd\" fill-opacity=\"1\" stroke=\"#000000\" stroke-opacity=\"1\" stroke-width=\"3.2\"/>\n",
       "<circle clip-path=\"url(#clip092)\" cx=\"1280.89\" cy=\"915.785\" r=\"14.4\" fill=\"#009af9\" fill-rule=\"evenodd\" fill-opacity=\"1\" stroke=\"#000000\" stroke-opacity=\"1\" stroke-width=\"3.2\"/>\n",
       "<circle clip-path=\"url(#clip092)\" cx=\"1290.08\" cy=\"903.349\" r=\"14.4\" fill=\"#009af9\" fill-rule=\"evenodd\" fill-opacity=\"1\" stroke=\"#000000\" stroke-opacity=\"1\" stroke-width=\"3.2\"/>\n",
       "<circle clip-path=\"url(#clip092)\" cx=\"1299.28\" cy=\"929.308\" r=\"14.4\" fill=\"#009af9\" fill-rule=\"evenodd\" fill-opacity=\"1\" stroke=\"#000000\" stroke-opacity=\"1\" stroke-width=\"3.2\"/>\n",
       "<circle clip-path=\"url(#clip092)\" cx=\"1308.47\" cy=\"911.372\" r=\"14.4\" fill=\"#009af9\" fill-rule=\"evenodd\" fill-opacity=\"1\" stroke=\"#000000\" stroke-opacity=\"1\" stroke-width=\"3.2\"/>\n",
       "<circle clip-path=\"url(#clip092)\" cx=\"1317.66\" cy=\"900.027\" r=\"14.4\" fill=\"#009af9\" fill-rule=\"evenodd\" fill-opacity=\"1\" stroke=\"#000000\" stroke-opacity=\"1\" stroke-width=\"3.2\"/>\n",
       "<circle clip-path=\"url(#clip092)\" cx=\"1326.86\" cy=\"864.745\" r=\"14.4\" fill=\"#009af9\" fill-rule=\"evenodd\" fill-opacity=\"1\" stroke=\"#000000\" stroke-opacity=\"1\" stroke-width=\"3.2\"/>\n",
       "<circle clip-path=\"url(#clip092)\" cx=\"1336.05\" cy=\"880.072\" r=\"14.4\" fill=\"#009af9\" fill-rule=\"evenodd\" fill-opacity=\"1\" stroke=\"#000000\" stroke-opacity=\"1\" stroke-width=\"3.2\"/>\n",
       "<circle clip-path=\"url(#clip092)\" cx=\"1345.24\" cy=\"888.27\" r=\"14.4\" fill=\"#009af9\" fill-rule=\"evenodd\" fill-opacity=\"1\" stroke=\"#000000\" stroke-opacity=\"1\" stroke-width=\"3.2\"/>\n",
       "<circle clip-path=\"url(#clip092)\" cx=\"1354.43\" cy=\"842.574\" r=\"14.4\" fill=\"#009af9\" fill-rule=\"evenodd\" fill-opacity=\"1\" stroke=\"#000000\" stroke-opacity=\"1\" stroke-width=\"3.2\"/>\n",
       "<circle clip-path=\"url(#clip092)\" cx=\"1363.63\" cy=\"843.689\" r=\"14.4\" fill=\"#009af9\" fill-rule=\"evenodd\" fill-opacity=\"1\" stroke=\"#000000\" stroke-opacity=\"1\" stroke-width=\"3.2\"/>\n",
       "<circle clip-path=\"url(#clip092)\" cx=\"1372.82\" cy=\"906.594\" r=\"14.4\" fill=\"#009af9\" fill-rule=\"evenodd\" fill-opacity=\"1\" stroke=\"#000000\" stroke-opacity=\"1\" stroke-width=\"3.2\"/>\n",
       "<circle clip-path=\"url(#clip092)\" cx=\"1382.01\" cy=\"904.797\" r=\"14.4\" fill=\"#009af9\" fill-rule=\"evenodd\" fill-opacity=\"1\" stroke=\"#000000\" stroke-opacity=\"1\" stroke-width=\"3.2\"/>\n",
       "<circle clip-path=\"url(#clip092)\" cx=\"1391.2\" cy=\"891.175\" r=\"14.4\" fill=\"#009af9\" fill-rule=\"evenodd\" fill-opacity=\"1\" stroke=\"#000000\" stroke-opacity=\"1\" stroke-width=\"3.2\"/>\n",
       "<circle clip-path=\"url(#clip092)\" cx=\"1400.4\" cy=\"901.735\" r=\"14.4\" fill=\"#009af9\" fill-rule=\"evenodd\" fill-opacity=\"1\" stroke=\"#000000\" stroke-opacity=\"1\" stroke-width=\"3.2\"/>\n",
       "<circle clip-path=\"url(#clip092)\" cx=\"1409.59\" cy=\"935.581\" r=\"14.4\" fill=\"#009af9\" fill-rule=\"evenodd\" fill-opacity=\"1\" stroke=\"#000000\" stroke-opacity=\"1\" stroke-width=\"3.2\"/>\n",
       "<circle clip-path=\"url(#clip092)\" cx=\"1418.78\" cy=\"923.201\" r=\"14.4\" fill=\"#009af9\" fill-rule=\"evenodd\" fill-opacity=\"1\" stroke=\"#000000\" stroke-opacity=\"1\" stroke-width=\"3.2\"/>\n",
       "<circle clip-path=\"url(#clip092)\" cx=\"1427.97\" cy=\"860.287\" r=\"14.4\" fill=\"#009af9\" fill-rule=\"evenodd\" fill-opacity=\"1\" stroke=\"#000000\" stroke-opacity=\"1\" stroke-width=\"3.2\"/>\n",
       "<circle clip-path=\"url(#clip092)\" cx=\"1437.17\" cy=\"840.291\" r=\"14.4\" fill=\"#009af9\" fill-rule=\"evenodd\" fill-opacity=\"1\" stroke=\"#000000\" stroke-opacity=\"1\" stroke-width=\"3.2\"/>\n",
       "<circle clip-path=\"url(#clip092)\" cx=\"1446.36\" cy=\"853.05\" r=\"14.4\" fill=\"#009af9\" fill-rule=\"evenodd\" fill-opacity=\"1\" stroke=\"#000000\" stroke-opacity=\"1\" stroke-width=\"3.2\"/>\n",
       "<circle clip-path=\"url(#clip092)\" cx=\"1455.55\" cy=\"918.827\" r=\"14.4\" fill=\"#009af9\" fill-rule=\"evenodd\" fill-opacity=\"1\" stroke=\"#000000\" stroke-opacity=\"1\" stroke-width=\"3.2\"/>\n",
       "<circle clip-path=\"url(#clip092)\" cx=\"1464.75\" cy=\"871.596\" r=\"14.4\" fill=\"#009af9\" fill-rule=\"evenodd\" fill-opacity=\"1\" stroke=\"#000000\" stroke-opacity=\"1\" stroke-width=\"3.2\"/>\n",
       "<circle clip-path=\"url(#clip092)\" cx=\"1473.94\" cy=\"856.611\" r=\"14.4\" fill=\"#009af9\" fill-rule=\"evenodd\" fill-opacity=\"1\" stroke=\"#000000\" stroke-opacity=\"1\" stroke-width=\"3.2\"/>\n",
       "<circle clip-path=\"url(#clip092)\" cx=\"1483.13\" cy=\"826.032\" r=\"14.4\" fill=\"#009af9\" fill-rule=\"evenodd\" fill-opacity=\"1\" stroke=\"#000000\" stroke-opacity=\"1\" stroke-width=\"3.2\"/>\n",
       "<circle clip-path=\"url(#clip092)\" cx=\"1492.32\" cy=\"886.955\" r=\"14.4\" fill=\"#009af9\" fill-rule=\"evenodd\" fill-opacity=\"1\" stroke=\"#000000\" stroke-opacity=\"1\" stroke-width=\"3.2\"/>\n",
       "<circle clip-path=\"url(#clip092)\" cx=\"1501.52\" cy=\"848.322\" r=\"14.4\" fill=\"#009af9\" fill-rule=\"evenodd\" fill-opacity=\"1\" stroke=\"#000000\" stroke-opacity=\"1\" stroke-width=\"3.2\"/>\n",
       "<circle clip-path=\"url(#clip092)\" cx=\"1510.71\" cy=\"902.444\" r=\"14.4\" fill=\"#009af9\" fill-rule=\"evenodd\" fill-opacity=\"1\" stroke=\"#000000\" stroke-opacity=\"1\" stroke-width=\"3.2\"/>\n",
       "<circle clip-path=\"url(#clip092)\" cx=\"1519.9\" cy=\"865.88\" r=\"14.4\" fill=\"#009af9\" fill-rule=\"evenodd\" fill-opacity=\"1\" stroke=\"#000000\" stroke-opacity=\"1\" stroke-width=\"3.2\"/>\n",
       "<circle clip-path=\"url(#clip092)\" cx=\"1529.09\" cy=\"875.383\" r=\"14.4\" fill=\"#009af9\" fill-rule=\"evenodd\" fill-opacity=\"1\" stroke=\"#000000\" stroke-opacity=\"1\" stroke-width=\"3.2\"/>\n",
       "<circle clip-path=\"url(#clip092)\" cx=\"1538.29\" cy=\"849.941\" r=\"14.4\" fill=\"#009af9\" fill-rule=\"evenodd\" fill-opacity=\"1\" stroke=\"#000000\" stroke-opacity=\"1\" stroke-width=\"3.2\"/>\n",
       "<circle clip-path=\"url(#clip092)\" cx=\"1547.48\" cy=\"814.717\" r=\"14.4\" fill=\"#009af9\" fill-rule=\"evenodd\" fill-opacity=\"1\" stroke=\"#000000\" stroke-opacity=\"1\" stroke-width=\"3.2\"/>\n",
       "<circle clip-path=\"url(#clip092)\" cx=\"1556.67\" cy=\"857.572\" r=\"14.4\" fill=\"#009af9\" fill-rule=\"evenodd\" fill-opacity=\"1\" stroke=\"#000000\" stroke-opacity=\"1\" stroke-width=\"3.2\"/>\n",
       "<circle clip-path=\"url(#clip092)\" cx=\"1565.86\" cy=\"857.036\" r=\"14.4\" fill=\"#009af9\" fill-rule=\"evenodd\" fill-opacity=\"1\" stroke=\"#000000\" stroke-opacity=\"1\" stroke-width=\"3.2\"/>\n",
       "<circle clip-path=\"url(#clip092)\" cx=\"1575.06\" cy=\"946.333\" r=\"14.4\" fill=\"#009af9\" fill-rule=\"evenodd\" fill-opacity=\"1\" stroke=\"#000000\" stroke-opacity=\"1\" stroke-width=\"3.2\"/>\n",
       "<circle clip-path=\"url(#clip092)\" cx=\"1584.25\" cy=\"882.011\" r=\"14.4\" fill=\"#009af9\" fill-rule=\"evenodd\" fill-opacity=\"1\" stroke=\"#000000\" stroke-opacity=\"1\" stroke-width=\"3.2\"/>\n",
       "<circle clip-path=\"url(#clip092)\" cx=\"1593.44\" cy=\"835.066\" r=\"14.4\" fill=\"#009af9\" fill-rule=\"evenodd\" fill-opacity=\"1\" stroke=\"#000000\" stroke-opacity=\"1\" stroke-width=\"3.2\"/>\n",
       "<circle clip-path=\"url(#clip092)\" cx=\"1602.64\" cy=\"808.795\" r=\"14.4\" fill=\"#009af9\" fill-rule=\"evenodd\" fill-opacity=\"1\" stroke=\"#000000\" stroke-opacity=\"1\" stroke-width=\"3.2\"/>\n",
       "<circle clip-path=\"url(#clip092)\" cx=\"1611.83\" cy=\"814.427\" r=\"14.4\" fill=\"#009af9\" fill-rule=\"evenodd\" fill-opacity=\"1\" stroke=\"#000000\" stroke-opacity=\"1\" stroke-width=\"3.2\"/>\n",
       "<circle clip-path=\"url(#clip092)\" cx=\"1621.02\" cy=\"846.098\" r=\"14.4\" fill=\"#009af9\" fill-rule=\"evenodd\" fill-opacity=\"1\" stroke=\"#000000\" stroke-opacity=\"1\" stroke-width=\"3.2\"/>\n",
       "<circle clip-path=\"url(#clip092)\" cx=\"1630.21\" cy=\"775.122\" r=\"14.4\" fill=\"#009af9\" fill-rule=\"evenodd\" fill-opacity=\"1\" stroke=\"#000000\" stroke-opacity=\"1\" stroke-width=\"3.2\"/>\n",
       "<circle clip-path=\"url(#clip092)\" cx=\"1639.41\" cy=\"777.346\" r=\"14.4\" fill=\"#009af9\" fill-rule=\"evenodd\" fill-opacity=\"1\" stroke=\"#000000\" stroke-opacity=\"1\" stroke-width=\"3.2\"/>\n",
       "<circle clip-path=\"url(#clip092)\" cx=\"1648.6\" cy=\"822.799\" r=\"14.4\" fill=\"#009af9\" fill-rule=\"evenodd\" fill-opacity=\"1\" stroke=\"#000000\" stroke-opacity=\"1\" stroke-width=\"3.2\"/>\n",
       "<circle clip-path=\"url(#clip092)\" cx=\"1657.79\" cy=\"795.132\" r=\"14.4\" fill=\"#009af9\" fill-rule=\"evenodd\" fill-opacity=\"1\" stroke=\"#000000\" stroke-opacity=\"1\" stroke-width=\"3.2\"/>\n",
       "<circle clip-path=\"url(#clip092)\" cx=\"1666.98\" cy=\"836.999\" r=\"14.4\" fill=\"#009af9\" fill-rule=\"evenodd\" fill-opacity=\"1\" stroke=\"#000000\" stroke-opacity=\"1\" stroke-width=\"3.2\"/>\n",
       "<circle clip-path=\"url(#clip092)\" cx=\"1676.18\" cy=\"841.614\" r=\"14.4\" fill=\"#009af9\" fill-rule=\"evenodd\" fill-opacity=\"1\" stroke=\"#000000\" stroke-opacity=\"1\" stroke-width=\"3.2\"/>\n",
       "<circle clip-path=\"url(#clip092)\" cx=\"1685.37\" cy=\"801.016\" r=\"14.4\" fill=\"#009af9\" fill-rule=\"evenodd\" fill-opacity=\"1\" stroke=\"#000000\" stroke-opacity=\"1\" stroke-width=\"3.2\"/>\n",
       "<circle clip-path=\"url(#clip092)\" cx=\"1694.56\" cy=\"797.221\" r=\"14.4\" fill=\"#009af9\" fill-rule=\"evenodd\" fill-opacity=\"1\" stroke=\"#000000\" stroke-opacity=\"1\" stroke-width=\"3.2\"/>\n",
       "<circle clip-path=\"url(#clip092)\" cx=\"1703.75\" cy=\"840.054\" r=\"14.4\" fill=\"#009af9\" fill-rule=\"evenodd\" fill-opacity=\"1\" stroke=\"#000000\" stroke-opacity=\"1\" stroke-width=\"3.2\"/>\n",
       "<circle clip-path=\"url(#clip092)\" cx=\"1712.95\" cy=\"770.131\" r=\"14.4\" fill=\"#009af9\" fill-rule=\"evenodd\" fill-opacity=\"1\" stroke=\"#000000\" stroke-opacity=\"1\" stroke-width=\"3.2\"/>\n",
       "<circle clip-path=\"url(#clip092)\" cx=\"1722.14\" cy=\"810.537\" r=\"14.4\" fill=\"#009af9\" fill-rule=\"evenodd\" fill-opacity=\"1\" stroke=\"#000000\" stroke-opacity=\"1\" stroke-width=\"3.2\"/>\n",
       "<circle clip-path=\"url(#clip092)\" cx=\"1731.33\" cy=\"762.158\" r=\"14.4\" fill=\"#009af9\" fill-rule=\"evenodd\" fill-opacity=\"1\" stroke=\"#000000\" stroke-opacity=\"1\" stroke-width=\"3.2\"/>\n",
       "<circle clip-path=\"url(#clip092)\" cx=\"1740.53\" cy=\"731.773\" r=\"14.4\" fill=\"#009af9\" fill-rule=\"evenodd\" fill-opacity=\"1\" stroke=\"#000000\" stroke-opacity=\"1\" stroke-width=\"3.2\"/>\n",
       "<circle clip-path=\"url(#clip092)\" cx=\"1749.72\" cy=\"790.678\" r=\"14.4\" fill=\"#009af9\" fill-rule=\"evenodd\" fill-opacity=\"1\" stroke=\"#000000\" stroke-opacity=\"1\" stroke-width=\"3.2\"/>\n",
       "<circle clip-path=\"url(#clip092)\" cx=\"1758.91\" cy=\"690.291\" r=\"14.4\" fill=\"#009af9\" fill-rule=\"evenodd\" fill-opacity=\"1\" stroke=\"#000000\" stroke-opacity=\"1\" stroke-width=\"3.2\"/>\n",
       "<circle clip-path=\"url(#clip092)\" cx=\"1768.1\" cy=\"708.292\" r=\"14.4\" fill=\"#009af9\" fill-rule=\"evenodd\" fill-opacity=\"1\" stroke=\"#000000\" stroke-opacity=\"1\" stroke-width=\"3.2\"/>\n",
       "<circle clip-path=\"url(#clip092)\" cx=\"1777.3\" cy=\"722.078\" r=\"14.4\" fill=\"#009af9\" fill-rule=\"evenodd\" fill-opacity=\"1\" stroke=\"#000000\" stroke-opacity=\"1\" stroke-width=\"3.2\"/>\n",
       "<circle clip-path=\"url(#clip092)\" cx=\"1786.49\" cy=\"790.032\" r=\"14.4\" fill=\"#009af9\" fill-rule=\"evenodd\" fill-opacity=\"1\" stroke=\"#000000\" stroke-opacity=\"1\" stroke-width=\"3.2\"/>\n",
       "<circle clip-path=\"url(#clip092)\" cx=\"1795.68\" cy=\"747.943\" r=\"14.4\" fill=\"#009af9\" fill-rule=\"evenodd\" fill-opacity=\"1\" stroke=\"#000000\" stroke-opacity=\"1\" stroke-width=\"3.2\"/>\n",
       "<circle clip-path=\"url(#clip092)\" cx=\"1804.87\" cy=\"758.001\" r=\"14.4\" fill=\"#009af9\" fill-rule=\"evenodd\" fill-opacity=\"1\" stroke=\"#000000\" stroke-opacity=\"1\" stroke-width=\"3.2\"/>\n",
       "<circle clip-path=\"url(#clip092)\" cx=\"1814.07\" cy=\"698.88\" r=\"14.4\" fill=\"#009af9\" fill-rule=\"evenodd\" fill-opacity=\"1\" stroke=\"#000000\" stroke-opacity=\"1\" stroke-width=\"3.2\"/>\n",
       "<circle clip-path=\"url(#clip092)\" cx=\"1823.26\" cy=\"734.636\" r=\"14.4\" fill=\"#009af9\" fill-rule=\"evenodd\" fill-opacity=\"1\" stroke=\"#000000\" stroke-opacity=\"1\" stroke-width=\"3.2\"/>\n",
       "<circle clip-path=\"url(#clip092)\" cx=\"1832.45\" cy=\"698.786\" r=\"14.4\" fill=\"#009af9\" fill-rule=\"evenodd\" fill-opacity=\"1\" stroke=\"#000000\" stroke-opacity=\"1\" stroke-width=\"3.2\"/>\n",
       "<circle clip-path=\"url(#clip092)\" cx=\"1841.64\" cy=\"745.12\" r=\"14.4\" fill=\"#009af9\" fill-rule=\"evenodd\" fill-opacity=\"1\" stroke=\"#000000\" stroke-opacity=\"1\" stroke-width=\"3.2\"/>\n",
       "<circle clip-path=\"url(#clip092)\" cx=\"1850.84\" cy=\"729.962\" r=\"14.4\" fill=\"#009af9\" fill-rule=\"evenodd\" fill-opacity=\"1\" stroke=\"#000000\" stroke-opacity=\"1\" stroke-width=\"3.2\"/>\n",
       "<circle clip-path=\"url(#clip092)\" cx=\"1860.03\" cy=\"695.581\" r=\"14.4\" fill=\"#009af9\" fill-rule=\"evenodd\" fill-opacity=\"1\" stroke=\"#000000\" stroke-opacity=\"1\" stroke-width=\"3.2\"/>\n",
       "<circle clip-path=\"url(#clip092)\" cx=\"1869.22\" cy=\"708.915\" r=\"14.4\" fill=\"#009af9\" fill-rule=\"evenodd\" fill-opacity=\"1\" stroke=\"#000000\" stroke-opacity=\"1\" stroke-width=\"3.2\"/>\n",
       "<circle clip-path=\"url(#clip092)\" cx=\"1878.41\" cy=\"694.132\" r=\"14.4\" fill=\"#009af9\" fill-rule=\"evenodd\" fill-opacity=\"1\" stroke=\"#000000\" stroke-opacity=\"1\" stroke-width=\"3.2\"/>\n",
       "<circle clip-path=\"url(#clip092)\" cx=\"1887.61\" cy=\"690.036\" r=\"14.4\" fill=\"#009af9\" fill-rule=\"evenodd\" fill-opacity=\"1\" stroke=\"#000000\" stroke-opacity=\"1\" stroke-width=\"3.2\"/>\n",
       "<circle clip-path=\"url(#clip092)\" cx=\"1896.8\" cy=\"698.253\" r=\"14.4\" fill=\"#009af9\" fill-rule=\"evenodd\" fill-opacity=\"1\" stroke=\"#000000\" stroke-opacity=\"1\" stroke-width=\"3.2\"/>\n",
       "<circle clip-path=\"url(#clip092)\" cx=\"1905.99\" cy=\"716.106\" r=\"14.4\" fill=\"#009af9\" fill-rule=\"evenodd\" fill-opacity=\"1\" stroke=\"#000000\" stroke-opacity=\"1\" stroke-width=\"3.2\"/>\n",
       "<circle clip-path=\"url(#clip092)\" cx=\"1915.19\" cy=\"631.104\" r=\"14.4\" fill=\"#009af9\" fill-rule=\"evenodd\" fill-opacity=\"1\" stroke=\"#000000\" stroke-opacity=\"1\" stroke-width=\"3.2\"/>\n",
       "<circle clip-path=\"url(#clip092)\" cx=\"1924.38\" cy=\"648.571\" r=\"14.4\" fill=\"#009af9\" fill-rule=\"evenodd\" fill-opacity=\"1\" stroke=\"#000000\" stroke-opacity=\"1\" stroke-width=\"3.2\"/>\n",
       "<circle clip-path=\"url(#clip092)\" cx=\"1933.57\" cy=\"652.364\" r=\"14.4\" fill=\"#009af9\" fill-rule=\"evenodd\" fill-opacity=\"1\" stroke=\"#000000\" stroke-opacity=\"1\" stroke-width=\"3.2\"/>\n",
       "<circle clip-path=\"url(#clip092)\" cx=\"1942.76\" cy=\"618.359\" r=\"14.4\" fill=\"#009af9\" fill-rule=\"evenodd\" fill-opacity=\"1\" stroke=\"#000000\" stroke-opacity=\"1\" stroke-width=\"3.2\"/>\n",
       "<circle clip-path=\"url(#clip092)\" cx=\"1951.96\" cy=\"652.585\" r=\"14.4\" fill=\"#009af9\" fill-rule=\"evenodd\" fill-opacity=\"1\" stroke=\"#000000\" stroke-opacity=\"1\" stroke-width=\"3.2\"/>\n",
       "<circle clip-path=\"url(#clip092)\" cx=\"1961.15\" cy=\"605.198\" r=\"14.4\" fill=\"#009af9\" fill-rule=\"evenodd\" fill-opacity=\"1\" stroke=\"#000000\" stroke-opacity=\"1\" stroke-width=\"3.2\"/>\n",
       "<circle clip-path=\"url(#clip092)\" cx=\"1970.34\" cy=\"633.302\" r=\"14.4\" fill=\"#009af9\" fill-rule=\"evenodd\" fill-opacity=\"1\" stroke=\"#000000\" stroke-opacity=\"1\" stroke-width=\"3.2\"/>\n",
       "<circle clip-path=\"url(#clip092)\" cx=\"1979.53\" cy=\"585.88\" r=\"14.4\" fill=\"#009af9\" fill-rule=\"evenodd\" fill-opacity=\"1\" stroke=\"#000000\" stroke-opacity=\"1\" stroke-width=\"3.2\"/>\n",
       "<circle clip-path=\"url(#clip092)\" cx=\"1988.73\" cy=\"580.801\" r=\"14.4\" fill=\"#009af9\" fill-rule=\"evenodd\" fill-opacity=\"1\" stroke=\"#000000\" stroke-opacity=\"1\" stroke-width=\"3.2\"/>\n",
       "<circle clip-path=\"url(#clip092)\" cx=\"1997.92\" cy=\"616.103\" r=\"14.4\" fill=\"#009af9\" fill-rule=\"evenodd\" fill-opacity=\"1\" stroke=\"#000000\" stroke-opacity=\"1\" stroke-width=\"3.2\"/>\n",
       "<circle clip-path=\"url(#clip092)\" cx=\"2007.11\" cy=\"588.808\" r=\"14.4\" fill=\"#009af9\" fill-rule=\"evenodd\" fill-opacity=\"1\" stroke=\"#000000\" stroke-opacity=\"1\" stroke-width=\"3.2\"/>\n",
       "<circle clip-path=\"url(#clip092)\" cx=\"2016.3\" cy=\"581.632\" r=\"14.4\" fill=\"#009af9\" fill-rule=\"evenodd\" fill-opacity=\"1\" stroke=\"#000000\" stroke-opacity=\"1\" stroke-width=\"3.2\"/>\n",
       "<circle clip-path=\"url(#clip092)\" cx=\"2025.5\" cy=\"666.436\" r=\"14.4\" fill=\"#009af9\" fill-rule=\"evenodd\" fill-opacity=\"1\" stroke=\"#000000\" stroke-opacity=\"1\" stroke-width=\"3.2\"/>\n",
       "<circle clip-path=\"url(#clip092)\" cx=\"2034.69\" cy=\"593.478\" r=\"14.4\" fill=\"#009af9\" fill-rule=\"evenodd\" fill-opacity=\"1\" stroke=\"#000000\" stroke-opacity=\"1\" stroke-width=\"3.2\"/>\n",
       "<circle clip-path=\"url(#clip092)\" cx=\"2043.88\" cy=\"584.832\" r=\"14.4\" fill=\"#009af9\" fill-rule=\"evenodd\" fill-opacity=\"1\" stroke=\"#000000\" stroke-opacity=\"1\" stroke-width=\"3.2\"/>\n",
       "<circle clip-path=\"url(#clip092)\" cx=\"2053.08\" cy=\"588.385\" r=\"14.4\" fill=\"#009af9\" fill-rule=\"evenodd\" fill-opacity=\"1\" stroke=\"#000000\" stroke-opacity=\"1\" stroke-width=\"3.2\"/>\n",
       "<circle clip-path=\"url(#clip092)\" cx=\"2062.27\" cy=\"643.315\" r=\"14.4\" fill=\"#009af9\" fill-rule=\"evenodd\" fill-opacity=\"1\" stroke=\"#000000\" stroke-opacity=\"1\" stroke-width=\"3.2\"/>\n",
       "<circle clip-path=\"url(#clip092)\" cx=\"2071.46\" cy=\"608.544\" r=\"14.4\" fill=\"#009af9\" fill-rule=\"evenodd\" fill-opacity=\"1\" stroke=\"#000000\" stroke-opacity=\"1\" stroke-width=\"3.2\"/>\n",
       "<circle clip-path=\"url(#clip092)\" cx=\"2080.65\" cy=\"507.732\" r=\"14.4\" fill=\"#009af9\" fill-rule=\"evenodd\" fill-opacity=\"1\" stroke=\"#000000\" stroke-opacity=\"1\" stroke-width=\"3.2\"/>\n",
       "<circle clip-path=\"url(#clip092)\" cx=\"2089.85\" cy=\"464.987\" r=\"14.4\" fill=\"#009af9\" fill-rule=\"evenodd\" fill-opacity=\"1\" stroke=\"#000000\" stroke-opacity=\"1\" stroke-width=\"3.2\"/>\n",
       "<circle clip-path=\"url(#clip092)\" cx=\"2099.04\" cy=\"618.831\" r=\"14.4\" fill=\"#009af9\" fill-rule=\"evenodd\" fill-opacity=\"1\" stroke=\"#000000\" stroke-opacity=\"1\" stroke-width=\"3.2\"/>\n",
       "<circle clip-path=\"url(#clip092)\" cx=\"2108.23\" cy=\"515.14\" r=\"14.4\" fill=\"#009af9\" fill-rule=\"evenodd\" fill-opacity=\"1\" stroke=\"#000000\" stroke-opacity=\"1\" stroke-width=\"3.2\"/>\n",
       "<circle clip-path=\"url(#clip092)\" cx=\"2117.42\" cy=\"604.501\" r=\"14.4\" fill=\"#009af9\" fill-rule=\"evenodd\" fill-opacity=\"1\" stroke=\"#000000\" stroke-opacity=\"1\" stroke-width=\"3.2\"/>\n",
       "<circle clip-path=\"url(#clip092)\" cx=\"2126.62\" cy=\"511.262\" r=\"14.4\" fill=\"#009af9\" fill-rule=\"evenodd\" fill-opacity=\"1\" stroke=\"#000000\" stroke-opacity=\"1\" stroke-width=\"3.2\"/>\n",
       "<circle clip-path=\"url(#clip092)\" cx=\"2135.81\" cy=\"505.89\" r=\"14.4\" fill=\"#009af9\" fill-rule=\"evenodd\" fill-opacity=\"1\" stroke=\"#000000\" stroke-opacity=\"1\" stroke-width=\"3.2\"/>\n",
       "<circle clip-path=\"url(#clip092)\" cx=\"2145\" cy=\"493.097\" r=\"14.4\" fill=\"#009af9\" fill-rule=\"evenodd\" fill-opacity=\"1\" stroke=\"#000000\" stroke-opacity=\"1\" stroke-width=\"3.2\"/>\n",
       "<circle clip-path=\"url(#clip092)\" cx=\"2154.19\" cy=\"533.57\" r=\"14.4\" fill=\"#009af9\" fill-rule=\"evenodd\" fill-opacity=\"1\" stroke=\"#000000\" stroke-opacity=\"1\" stroke-width=\"3.2\"/>\n",
       "<circle clip-path=\"url(#clip092)\" cx=\"2163.39\" cy=\"531.101\" r=\"14.4\" fill=\"#009af9\" fill-rule=\"evenodd\" fill-opacity=\"1\" stroke=\"#000000\" stroke-opacity=\"1\" stroke-width=\"3.2\"/>\n",
       "<circle clip-path=\"url(#clip092)\" cx=\"2172.58\" cy=\"472.186\" r=\"14.4\" fill=\"#009af9\" fill-rule=\"evenodd\" fill-opacity=\"1\" stroke=\"#000000\" stroke-opacity=\"1\" stroke-width=\"3.2\"/>\n",
       "<circle clip-path=\"url(#clip092)\" cx=\"2181.77\" cy=\"467.379\" r=\"14.4\" fill=\"#009af9\" fill-rule=\"evenodd\" fill-opacity=\"1\" stroke=\"#000000\" stroke-opacity=\"1\" stroke-width=\"3.2\"/>\n",
       "<circle clip-path=\"url(#clip092)\" cx=\"2190.97\" cy=\"446.438\" r=\"14.4\" fill=\"#009af9\" fill-rule=\"evenodd\" fill-opacity=\"1\" stroke=\"#000000\" stroke-opacity=\"1\" stroke-width=\"3.2\"/>\n",
       "<circle clip-path=\"url(#clip092)\" cx=\"2200.16\" cy=\"478.784\" r=\"14.4\" fill=\"#009af9\" fill-rule=\"evenodd\" fill-opacity=\"1\" stroke=\"#000000\" stroke-opacity=\"1\" stroke-width=\"3.2\"/>\n",
       "<circle clip-path=\"url(#clip092)\" cx=\"2209.35\" cy=\"359.455\" r=\"14.4\" fill=\"#009af9\" fill-rule=\"evenodd\" fill-opacity=\"1\" stroke=\"#000000\" stroke-opacity=\"1\" stroke-width=\"3.2\"/>\n",
       "<circle clip-path=\"url(#clip092)\" cx=\"2218.54\" cy=\"474.993\" r=\"14.4\" fill=\"#009af9\" fill-rule=\"evenodd\" fill-opacity=\"1\" stroke=\"#000000\" stroke-opacity=\"1\" stroke-width=\"3.2\"/>\n",
       "<circle clip-path=\"url(#clip092)\" cx=\"2227.74\" cy=\"351.866\" r=\"14.4\" fill=\"#009af9\" fill-rule=\"evenodd\" fill-opacity=\"1\" stroke=\"#000000\" stroke-opacity=\"1\" stroke-width=\"3.2\"/>\n",
       "<circle clip-path=\"url(#clip092)\" cx=\"2236.93\" cy=\"422.457\" r=\"14.4\" fill=\"#009af9\" fill-rule=\"evenodd\" fill-opacity=\"1\" stroke=\"#000000\" stroke-opacity=\"1\" stroke-width=\"3.2\"/>\n",
       "<circle clip-path=\"url(#clip092)\" cx=\"2246.12\" cy=\"419.131\" r=\"14.4\" fill=\"#009af9\" fill-rule=\"evenodd\" fill-opacity=\"1\" stroke=\"#000000\" stroke-opacity=\"1\" stroke-width=\"3.2\"/>\n",
       "<circle clip-path=\"url(#clip092)\" cx=\"2255.31\" cy=\"405.196\" r=\"14.4\" fill=\"#009af9\" fill-rule=\"evenodd\" fill-opacity=\"1\" stroke=\"#000000\" stroke-opacity=\"1\" stroke-width=\"3.2\"/>\n",
       "<circle clip-path=\"url(#clip092)\" cx=\"2264.51\" cy=\"430.18\" r=\"14.4\" fill=\"#009af9\" fill-rule=\"evenodd\" fill-opacity=\"1\" stroke=\"#000000\" stroke-opacity=\"1\" stroke-width=\"3.2\"/>\n",
       "<circle clip-path=\"url(#clip092)\" cx=\"2273.7\" cy=\"347.947\" r=\"14.4\" fill=\"#009af9\" fill-rule=\"evenodd\" fill-opacity=\"1\" stroke=\"#000000\" stroke-opacity=\"1\" stroke-width=\"3.2\"/>\n",
       "<circle clip-path=\"url(#clip092)\" cx=\"2282.89\" cy=\"315.307\" r=\"14.4\" fill=\"#009af9\" fill-rule=\"evenodd\" fill-opacity=\"1\" stroke=\"#000000\" stroke-opacity=\"1\" stroke-width=\"3.2\"/>\n",
       "<circle clip-path=\"url(#clip092)\" cx=\"2292.08\" cy=\"422.571\" r=\"14.4\" fill=\"#009af9\" fill-rule=\"evenodd\" fill-opacity=\"1\" stroke=\"#000000\" stroke-opacity=\"1\" stroke-width=\"3.2\"/>\n",
       "<polyline clip-path=\"url(#clip092)\" style=\"stroke:#e26f46; stroke-linecap:round; stroke-linejoin:round; stroke-width:4; stroke-opacity:1; fill:none\" points=\"269.7,596.15 278.893,602.835 288.085,609.449 297.278,615.992 306.471,622.465 315.663,628.866 324.856,635.197 334.049,641.458 343.241,647.647 352.434,653.766 361.627,659.814 370.819,665.791 380.012,671.698 389.205,677.534 398.397,683.299 407.59,688.993 416.783,694.617 425.975,700.17 435.168,705.652 444.361,711.063 453.553,716.404 462.746,721.674 471.938,726.873 481.131,732.001 490.324,737.059 499.516,742.046 508.709,746.962 517.902,751.808 527.094,756.583 536.287,761.287 545.48,765.92 554.672,770.483 563.865,774.974 573.058,779.396 582.25,783.746 591.443,788.025 600.636,792.234 609.828,796.372 619.021,800.44 628.214,804.437 637.406,808.362 646.599,812.218 655.792,816.002 664.984,819.716 674.177,823.359 683.37,826.931 692.562,830.433 701.755,833.863 710.948,837.223 720.14,840.513 729.333,843.731 738.525,846.879 747.718,849.956 756.911,852.962 766.103,855.898 775.296,858.763 784.489,861.557 793.681,864.28 802.874,866.933 812.067,869.515 821.259,872.026 830.452,874.467 839.645,876.836 848.837,879.135 858.03,881.364 867.223,883.521 876.415,885.608 885.608,887.624 894.801,889.569 903.993,891.444 913.186,893.247 922.379,894.98 931.571,896.643 940.764,898.234 949.957,899.755 959.149,901.205 968.342,902.585 977.535,903.893 986.727,905.131 995.92,906.298 1005.11,907.395 1014.31,908.421 1023.5,909.376 1032.69,910.26 1041.88,911.073 1051.08,911.816 1060.27,912.488 1069.46,913.089 1078.65,913.62 1087.85,914.08 1097.04,914.469 1106.23,914.787 1115.42,915.035 1124.62,915.211 1133.81,915.317 1143,915.353 1152.2,915.317 1161.39,915.211 1170.58,915.035 1179.77,914.787 1188.97,914.469 1198.16,914.08 1207.35,913.62 1216.54,913.089 1225.74,912.488 1234.93,911.816 1244.12,911.073 1253.31,910.26 1262.51,909.376 1271.7,908.421 1280.89,907.395 1290.08,906.298 1299.28,905.131 1308.47,903.893 1317.66,902.585 1326.86,901.205 1336.05,899.755 1345.24,898.234 1354.43,896.643 1363.63,894.98 1372.82,893.247 1382.01,891.444 1391.2,889.569 1400.4,887.624 1409.59,885.608 1418.78,883.521 1427.97,881.364 1437.17,879.135 1446.36,876.836 1455.55,874.467 1464.75,872.026 1473.94,869.515 1483.13,866.933 1492.32,864.28 1501.52,861.557 1510.71,858.763 1519.9,855.898 1529.09,852.962 1538.29,849.956 1547.48,846.879 1556.67,843.731 1565.86,840.513 1575.06,837.223 1584.25,833.863 1593.44,830.433 1602.64,826.931 1611.83,823.359 1621.02,819.716 1630.21,816.002 1639.41,812.218 1648.6,808.362 1657.79,804.437 1666.98,800.44 1676.18,796.372 1685.37,792.234 1694.56,788.025 1703.75,783.746 1712.95,779.396 1722.14,774.974 1731.33,770.483 1740.53,765.92 1749.72,761.287 1758.91,756.583 1768.1,751.808 1777.3,746.962 1786.49,742.046 1795.68,737.059 1804.87,732.001 1814.07,726.873 1823.26,721.674 1832.45,716.404 1841.64,711.063 1850.84,705.652 1860.03,700.17 1869.22,694.617 1878.41,688.993 1887.61,683.299 1896.8,677.534 1905.99,671.698 1915.19,665.791 1924.38,659.814 1933.57,653.766 1942.76,647.647 1951.96,641.458 1961.15,635.197 1970.34,628.866 1979.53,622.465 1988.73,615.992 1997.92,609.449 2007.11,602.835 2016.3,596.15 2025.5,589.395 2034.69,582.569 2043.88,575.672 2053.08,568.704 2062.27,561.666 2071.46,554.557 2080.65,547.377 2089.85,540.126 2099.04,532.805 2108.23,525.413 2117.42,517.95 2126.62,510.416 2135.81,502.812 2145,495.137 2154.19,487.391 2163.39,479.575 2172.58,471.688 2181.77,463.73 2190.97,455.701 2200.16,447.602 2209.35,439.431 2218.54,431.19 2227.74,422.879 2236.93,414.496 2246.12,406.043 2255.31,397.519 2264.51,388.925 2273.7,380.26 2282.89,371.523 2292.08,362.717 \"/>\n",
       "<polyline clip-path=\"url(#clip092)\" style=\"stroke:#3da44d; stroke-linecap:round; stroke-linejoin:round; stroke-width:4; stroke-opacity:1; fill:none\" points=\"269.7,1445.72 278.893,1430.47 288.085,1415.52 297.278,1400.86 306.471,1386.48 315.663,1372.38 324.856,1358.57 334.049,1345.03 343.241,1331.77 352.434,1318.77 361.627,1306.05 370.819,1293.59 380.012,1281.4 389.205,1269.46 398.397,1257.78 407.59,1246.35 416.783,1235.18 425.975,1224.25 435.168,1213.57 444.361,1203.13 453.553,1192.94 462.746,1182.98 471.938,1173.25 481.131,1163.75 490.324,1154.48 499.516,1145.44 508.709,1136.62 517.902,1128.02 527.094,1119.64 536.287,1111.47 545.48,1103.51 554.672,1095.76 563.865,1088.21 573.058,1080.87 582.25,1073.72 591.443,1066.78 600.636,1060.02 609.828,1053.46 619.021,1047.09 628.214,1040.9 637.406,1034.89 646.599,1029.06 655.792,1023.41 664.984,1017.93 674.177,1012.63 683.37,1007.49 692.562,1002.52 701.755,997.705 710.948,993.053 720.14,988.558 729.333,984.217 738.525,980.026 747.718,975.983 756.911,972.085 766.103,968.329 775.296,964.713 784.489,961.233 793.681,957.886 802.874,954.671 812.067,951.582 821.259,948.619 830.452,945.778 839.645,943.056 848.837,940.451 858.03,937.959 867.223,935.577 876.415,933.303 885.608,931.134 894.801,929.067 903.993,927.1 913.186,925.228 922.379,923.45 931.571,921.762 940.764,920.162 949.957,918.646 959.149,917.213 968.342,915.858 977.535,914.58 986.727,913.375 995.92,912.24 1005.11,911.173 1014.31,910.171 1023.5,909.23 1032.69,908.348 1041.88,907.523 1051.08,906.75 1060.27,906.028 1069.46,905.353 1078.65,904.723 1087.85,904.135 1097.04,903.586 1106.23,903.072 1115.42,902.592 1124.62,902.142 1133.81,901.719 1143,901.321 1152.2,900.944 1161.39,900.586 1170.58,900.244 1179.77,899.915 1188.97,899.596 1198.16,899.285 1207.35,898.978 1216.54,898.672 1225.74,898.365 1234.93,898.054 1244.12,897.736 1253.31,897.408 1262.51,897.067 1271.7,896.711 1280.89,896.336 1290.08,895.94 1299.28,895.519 1308.47,895.071 1317.66,894.593 1326.86,894.083 1336.05,893.536 1345.24,892.951 1354.43,892.324 1363.63,891.653 1372.82,890.935 1382.01,890.167 1391.2,889.346 1400.4,888.469 1409.59,887.533 1418.78,886.536 1427.97,885.474 1437.17,884.345 1446.36,883.146 1455.55,881.873 1464.75,880.525 1473.94,879.098 1483.13,877.589 1492.32,875.996 1501.52,874.316 1510.71,872.545 1519.9,870.681 1529.09,868.721 1538.29,866.662 1547.48,864.501 1556.67,862.236 1565.86,859.863 1575.06,857.38 1584.25,854.784 1593.44,852.072 1602.64,849.24 1611.83,846.287 1621.02,843.209 1630.21,840.004 1639.41,836.668 1648.6,833.199 1657.79,829.593 1666.98,825.849 1676.18,821.963 1685.37,817.932 1694.56,813.753 1703.75,809.424 1712.95,804.941 1722.14,800.302 1731.33,795.504 1740.53,790.544 1749.72,785.419 1758.91,780.127 1768.1,774.664 1777.3,769.027 1786.49,763.214 1795.68,757.222 1804.87,751.047 1814.07,744.688 1823.26,738.141 1832.45,731.403 1841.64,724.472 1850.84,717.344 1860.03,710.017 1869.22,702.488 1878.41,694.754 1887.61,686.812 1896.8,678.659 1905.99,670.292 1915.19,661.709 1924.38,652.907 1933.57,643.882 1942.76,634.632 1951.96,625.154 1961.15,615.445 1970.34,605.503 1979.53,595.324 1988.73,584.906 1997.92,574.245 2007.11,563.339 2016.3,552.185 2025.5,540.78 2034.69,529.121 2043.88,517.205 2053.08,505.03 2062.27,492.593 2071.46,479.89 2080.65,466.919 2089.85,453.677 2099.04,440.161 2108.23,426.368 2117.42,412.296 2126.62,397.941 2135.81,383.301 2145,368.373 2154.19,353.153 2163.39,337.64 2172.58,321.83 2181.77,305.72 2190.97,289.307 2200.16,272.589 2209.35,255.562 2218.54,238.225 2227.74,220.573 2236.93,202.604 2246.12,184.316 2255.31,165.705 2264.51,146.768 2273.7,127.503 2282.89,107.907 2292.08,87.9763 \"/>\n",
       "<path clip-path=\"url(#clip090)\" d=\"M280.486 302.578 L734.973 302.578 L734.973 95.2176 L280.486 95.2176  Z\" fill=\"#ffffff\" fill-rule=\"evenodd\" fill-opacity=\"1\"/>\n",
       "<polyline clip-path=\"url(#clip090)\" style=\"stroke:#000000; stroke-linecap:round; stroke-linejoin:round; stroke-width:4; stroke-opacity:1; fill:none\" points=\"280.486,302.578 734.973,302.578 734.973,95.2176 280.486,95.2176 280.486,302.578 \"/>\n",
       "<circle clip-path=\"url(#clip090)\" cx=\"375.763\" cy=\"147.058\" r=\"23.04\" fill=\"#009af9\" fill-rule=\"evenodd\" fill-opacity=\"1\" stroke=\"#000000\" stroke-opacity=\"1\" stroke-width=\"5.12\"/>\n",
       "<path clip-path=\"url(#clip090)\" d=\"M475.716 133.62 L475.716 160.495 L481.364 160.495 Q488.516 160.495 491.827 157.254 Q495.16 154.014 495.16 147.023 Q495.16 140.078 491.827 136.861 Q488.516 133.62 481.364 133.62 L475.716 133.62 M471.04 129.778 L480.646 129.778 Q490.692 129.778 495.391 133.967 Q500.09 138.134 500.09 147.023 Q500.09 155.958 495.368 160.148 Q490.646 164.338 480.646 164.338 L471.04 164.338 L471.04 129.778 Z\" fill=\"#000000\" fill-rule=\"evenodd\" fill-opacity=\"1\" /><path clip-path=\"url(#clip090)\" d=\"M519.141 151.305 Q513.979 151.305 511.988 152.486 Q509.998 153.666 509.998 156.514 Q509.998 158.782 511.479 160.125 Q512.984 161.444 515.553 161.444 Q519.095 161.444 521.225 158.944 Q523.377 156.421 523.377 152.254 L523.377 151.305 L519.141 151.305 M527.637 149.546 L527.637 164.338 L523.377 164.338 L523.377 160.402 Q521.919 162.763 519.743 163.898 Q517.567 165.009 514.419 165.009 Q510.438 165.009 508.076 162.787 Q505.739 160.541 505.739 156.791 Q505.739 152.416 508.655 150.194 Q511.595 147.972 517.405 147.972 L523.377 147.972 L523.377 147.555 Q523.377 144.615 521.433 143.018 Q519.512 141.398 516.016 141.398 Q513.794 141.398 511.688 141.93 Q509.581 142.463 507.637 143.527 L507.637 139.592 Q509.975 138.69 512.174 138.25 Q514.373 137.787 516.456 137.787 Q522.081 137.787 524.859 140.703 Q527.637 143.62 527.637 149.546 Z\" fill=\"#000000\" fill-rule=\"evenodd\" fill-opacity=\"1\" /><path clip-path=\"url(#clip090)\" d=\"M540.623 131.051 L540.623 138.412 L549.396 138.412 L549.396 141.722 L540.623 141.722 L540.623 155.796 Q540.623 158.967 541.479 159.87 Q542.359 160.773 545.021 160.773 L549.396 160.773 L549.396 164.338 L545.021 164.338 Q540.09 164.338 538.215 162.509 Q536.34 160.657 536.34 155.796 L536.34 141.722 L533.215 141.722 L533.215 138.412 L536.34 138.412 L536.34 131.051 L540.623 131.051 Z\" fill=\"#000000\" fill-rule=\"evenodd\" fill-opacity=\"1\" /><path clip-path=\"url(#clip090)\" d=\"M566.78 151.305 Q561.618 151.305 559.627 152.486 Q557.636 153.666 557.636 156.514 Q557.636 158.782 559.118 160.125 Q560.622 161.444 563.192 161.444 Q566.734 161.444 568.863 158.944 Q571.016 156.421 571.016 152.254 L571.016 151.305 L566.78 151.305 M575.275 149.546 L575.275 164.338 L571.016 164.338 L571.016 160.402 Q569.558 162.763 567.382 163.898 Q565.206 165.009 562.058 165.009 Q558.076 165.009 555.715 162.787 Q553.377 160.541 553.377 156.791 Q553.377 152.416 556.294 150.194 Q559.234 147.972 565.044 147.972 L571.016 147.972 L571.016 147.555 Q571.016 144.615 569.072 143.018 Q567.15 141.398 563.655 141.398 Q561.433 141.398 559.326 141.93 Q557.22 142.463 555.275 143.527 L555.275 139.592 Q557.613 138.69 559.812 138.25 Q562.011 137.787 564.095 137.787 Q569.72 137.787 572.497 140.703 Q575.275 143.62 575.275 149.546 Z\" fill=\"#000000\" fill-rule=\"evenodd\" fill-opacity=\"1\" /><polyline clip-path=\"url(#clip090)\" style=\"stroke:#e26f46; stroke-linecap:round; stroke-linejoin:round; stroke-width:4; stroke-opacity:1; fill:none\" points=\"304.305,198.898 447.22,198.898 \"/>\n",
       "<path clip-path=\"url(#clip090)\" d=\"M471.04 181.618 L500.276 181.618 L500.276 185.553 L488.007 185.553 L488.007 216.178 L483.308 216.178 L483.308 185.553 L471.04 185.553 L471.04 181.618 Z\" fill=\"#000000\" fill-rule=\"evenodd\" fill-opacity=\"1\" /><path clip-path=\"url(#clip090)\" d=\"M512.66 194.233 Q511.942 193.817 511.086 193.631 Q510.252 193.423 509.234 193.423 Q505.623 193.423 503.678 195.784 Q501.757 198.122 501.757 202.52 L501.757 216.178 L497.475 216.178 L497.475 190.252 L501.757 190.252 L501.757 194.28 Q503.1 191.918 505.252 190.784 Q507.405 189.627 510.484 189.627 Q510.924 189.627 511.456 189.696 Q511.988 189.743 512.637 189.858 L512.66 194.233 Z\" fill=\"#000000\" fill-rule=\"evenodd\" fill-opacity=\"1\" /><path clip-path=\"url(#clip090)\" d=\"M516.688 205.946 L516.688 190.252 L520.947 190.252 L520.947 205.784 Q520.947 209.465 522.382 211.316 Q523.817 213.145 526.687 213.145 Q530.137 213.145 532.127 210.946 Q534.141 208.747 534.141 204.951 L534.141 190.252 L538.4 190.252 L538.4 216.178 L534.141 216.178 L534.141 212.196 Q532.59 214.557 530.53 215.715 Q528.493 216.849 525.785 216.849 Q521.317 216.849 519.002 214.071 Q516.688 211.293 516.688 205.946 M527.405 189.627 L527.405 189.627 Z\" fill=\"#000000\" fill-rule=\"evenodd\" fill-opacity=\"1\" /><path clip-path=\"url(#clip090)\" d=\"M569.349 202.15 L569.349 204.233 L549.766 204.233 Q550.044 208.631 552.405 210.946 Q554.789 213.238 559.025 213.238 Q561.479 213.238 563.771 212.636 Q566.085 212.034 568.354 210.83 L568.354 214.858 Q566.062 215.83 563.655 216.34 Q561.247 216.849 558.771 216.849 Q552.567 216.849 548.933 213.238 Q545.322 209.627 545.322 203.469 Q545.322 197.104 548.748 193.377 Q552.197 189.627 558.03 189.627 Q563.261 189.627 566.294 193.006 Q569.349 196.363 569.349 202.15 M565.09 200.9 Q565.044 197.405 563.122 195.321 Q561.224 193.238 558.076 193.238 Q554.511 193.238 552.359 195.252 Q550.229 197.266 549.905 200.923 L565.09 200.9 Z\" fill=\"#000000\" fill-rule=\"evenodd\" fill-opacity=\"1\" /><path clip-path=\"url(#clip090)\" d=\"M591.595 181.618 L596.27 181.618 L596.27 212.242 L613.099 212.242 L613.099 216.178 L591.595 216.178 L591.595 181.618 Z\" fill=\"#000000\" fill-rule=\"evenodd\" fill-opacity=\"1\" /><path clip-path=\"url(#clip090)\" d=\"M617.821 190.252 L622.08 190.252 L622.08 216.178 L617.821 216.178 L617.821 190.252 M617.821 180.159 L622.08 180.159 L622.08 185.553 L617.821 185.553 L617.821 180.159 Z\" fill=\"#000000\" fill-rule=\"evenodd\" fill-opacity=\"1\" /><path clip-path=\"url(#clip090)\" d=\"M652.543 200.529 L652.543 216.178 L648.284 216.178 L648.284 200.668 Q648.284 196.988 646.849 195.159 Q645.414 193.33 642.543 193.33 Q639.094 193.33 637.104 195.53 Q635.113 197.729 635.113 201.525 L635.113 216.178 L630.83 216.178 L630.83 190.252 L635.113 190.252 L635.113 194.28 Q636.641 191.942 638.701 190.784 Q640.784 189.627 643.492 189.627 Q647.96 189.627 650.252 192.405 Q652.543 195.159 652.543 200.529 Z\" fill=\"#000000\" fill-rule=\"evenodd\" fill-opacity=\"1\" /><path clip-path=\"url(#clip090)\" d=\"M683.214 202.15 L683.214 204.233 L663.631 204.233 Q663.909 208.631 666.27 210.946 Q668.654 213.238 672.89 213.238 Q675.344 213.238 677.636 212.636 Q679.951 212.034 682.219 210.83 L682.219 214.858 Q679.927 215.83 677.52 216.34 Q675.113 216.849 672.636 216.849 Q666.432 216.849 662.798 213.238 Q659.187 209.627 659.187 203.469 Q659.187 197.104 662.613 193.377 Q666.062 189.627 671.895 189.627 Q677.126 189.627 680.159 193.006 Q683.214 196.363 683.214 202.15 M678.955 200.9 Q678.909 197.405 676.988 195.321 Q675.089 193.238 671.941 193.238 Q668.377 193.238 666.224 195.252 Q664.094 197.266 663.77 200.923 L678.955 200.9 Z\" fill=\"#000000\" fill-rule=\"evenodd\" fill-opacity=\"1\" /><polyline clip-path=\"url(#clip090)\" style=\"stroke:#3da44d; stroke-linecap:round; stroke-linejoin:round; stroke-width:4; stroke-opacity:1; fill:none\" points=\"304.305,250.738 447.22,250.738 \"/>\n",
       "<path clip-path=\"url(#clip090)\" d=\"M471.04 233.458 L490.901 233.458 L490.901 237.393 L475.716 237.393 L475.716 247.578 L489.419 247.578 L489.419 251.513 L475.716 251.513 L475.716 268.018 L471.04 268.018 L471.04 233.458 Z\" fill=\"#000000\" fill-rule=\"evenodd\" fill-opacity=\"1\" /><path clip-path=\"url(#clip090)\" d=\"M494.674 242.092 L498.933 242.092 L498.933 268.018 L494.674 268.018 L494.674 242.092 M494.674 231.999 L498.933 231.999 L498.933 237.393 L494.674 237.393 L494.674 231.999 Z\" fill=\"#000000\" fill-rule=\"evenodd\" fill-opacity=\"1\" /><path clip-path=\"url(#clip090)\" d=\"M512.058 234.731 L512.058 242.092 L520.831 242.092 L520.831 245.402 L512.058 245.402 L512.058 259.476 Q512.058 262.647 512.914 263.55 Q513.794 264.453 516.456 264.453 L520.831 264.453 L520.831 268.018 L516.456 268.018 Q511.526 268.018 509.651 266.189 Q507.776 264.337 507.776 259.476 L507.776 245.402 L504.651 245.402 L504.651 242.092 L507.776 242.092 L507.776 234.731 L512.058 234.731 Z\" fill=\"#000000\" fill-rule=\"evenodd\" fill-opacity=\"1\" /><path clip-path=\"url(#clip090)\" d=\"M530.646 234.731 L530.646 242.092 L539.419 242.092 L539.419 245.402 L530.646 245.402 L530.646 259.476 Q530.646 262.647 531.502 263.55 Q532.382 264.453 535.044 264.453 L539.419 264.453 L539.419 268.018 L535.044 268.018 Q530.113 268.018 528.238 266.189 Q526.363 264.337 526.363 259.476 L526.363 245.402 L523.238 245.402 L523.238 242.092 L526.363 242.092 L526.363 234.731 L530.646 234.731 Z\" fill=\"#000000\" fill-rule=\"evenodd\" fill-opacity=\"1\" /><path clip-path=\"url(#clip090)\" d=\"M567.197 253.99 L567.197 256.073 L547.613 256.073 Q547.891 260.471 550.252 262.786 Q552.636 265.078 556.873 265.078 Q559.326 265.078 561.618 264.476 Q563.933 263.874 566.201 262.67 L566.201 266.698 Q563.91 267.67 561.502 268.18 Q559.095 268.689 556.618 268.689 Q550.414 268.689 546.78 265.078 Q543.169 261.467 543.169 255.309 Q543.169 248.944 546.595 245.217 Q550.044 241.467 555.877 241.467 Q561.109 241.467 564.141 244.846 Q567.197 248.203 567.197 253.99 M562.937 252.74 Q562.891 249.245 560.97 247.161 Q559.072 245.078 555.923 245.078 Q552.359 245.078 550.206 247.092 Q548.076 249.106 547.752 252.763 L562.937 252.74 Z\" fill=\"#000000\" fill-rule=\"evenodd\" fill-opacity=\"1\" /><path clip-path=\"url(#clip090)\" d=\"M591.247 246.027 L591.247 231.999 L595.507 231.999 L595.507 268.018 L591.247 268.018 L591.247 264.129 Q589.905 266.443 587.845 267.578 Q585.808 268.689 582.937 268.689 Q578.238 268.689 575.275 264.939 Q572.335 261.189 572.335 255.078 Q572.335 248.967 575.275 245.217 Q578.238 241.467 582.937 241.467 Q585.808 241.467 587.845 242.601 Q589.905 243.712 591.247 246.027 M576.734 255.078 Q576.734 259.777 578.655 262.462 Q580.599 265.124 583.979 265.124 Q587.358 265.124 589.303 262.462 Q591.247 259.777 591.247 255.078 Q591.247 250.379 589.303 247.717 Q587.358 245.032 583.979 245.032 Q580.599 245.032 578.655 247.717 Q576.734 250.379 576.734 255.078 Z\" fill=\"#000000\" fill-rule=\"evenodd\" fill-opacity=\"1\" /><path clip-path=\"url(#clip090)\" d=\"M619.534 233.458 L624.21 233.458 L624.21 264.082 L641.039 264.082 L641.039 268.018 L619.534 268.018 L619.534 233.458 Z\" fill=\"#000000\" fill-rule=\"evenodd\" fill-opacity=\"1\" /><path clip-path=\"url(#clip090)\" d=\"M645.761 242.092 L650.02 242.092 L650.02 268.018 L645.761 268.018 L645.761 242.092 M645.761 231.999 L650.02 231.999 L650.02 237.393 L645.761 237.393 L645.761 231.999 Z\" fill=\"#000000\" fill-rule=\"evenodd\" fill-opacity=\"1\" /><path clip-path=\"url(#clip090)\" d=\"M680.483 252.369 L680.483 268.018 L676.224 268.018 L676.224 252.508 Q676.224 248.828 674.789 246.999 Q673.353 245.17 670.483 245.17 Q667.034 245.17 665.043 247.37 Q663.052 249.569 663.052 253.365 L663.052 268.018 L658.77 268.018 L658.77 242.092 L663.052 242.092 L663.052 246.12 Q664.58 243.782 666.64 242.624 Q668.724 241.467 671.432 241.467 Q675.9 241.467 678.191 244.245 Q680.483 246.999 680.483 252.369 Z\" fill=\"#000000\" fill-rule=\"evenodd\" fill-opacity=\"1\" /><path clip-path=\"url(#clip090)\" d=\"M711.154 253.99 L711.154 256.073 L691.571 256.073 Q691.849 260.471 694.21 262.786 Q696.594 265.078 700.83 265.078 Q703.284 265.078 705.575 264.476 Q707.89 263.874 710.159 262.67 L710.159 266.698 Q707.867 267.67 705.46 268.18 Q703.052 268.689 700.575 268.689 Q694.372 268.689 690.738 265.078 Q687.126 261.467 687.126 255.309 Q687.126 248.944 690.552 245.217 Q694.001 241.467 699.835 241.467 Q705.066 241.467 708.099 244.846 Q711.154 248.203 711.154 253.99 M706.895 252.74 Q706.849 249.245 704.927 247.161 Q703.029 245.078 699.881 245.078 Q696.316 245.078 694.163 247.092 Q692.034 249.106 691.71 252.763 L706.895 252.74 Z\" fill=\"#000000\" fill-rule=\"evenodd\" fill-opacity=\"1\" /></svg>\n"
      ]
     },
     "execution_count": 19,
     "metadata": {},
     "output_type": "execute_result"
    }
   ],
   "source": [
    "x_fit = -11:0.1:11\n",
    "y_true4 = (x_fit .^ 2) .+ (3 .* x_fit) .- 2\n",
    "d4 = di.Normal(0, 10)\n",
    "y_observed4 = y_true4 .+ rand(d4,length(x_fit))\n",
    "\n",
    "scatter(x_fit, y_observed4, label = \"Data\")\n",
    "plot!(x_fit, y_true4, label = \"True Line\")\n",
    "\n",
    "fit_coeff4 = coeffs(fit(x_fit, y_observed4, 10))\n",
    "y_fit4 = fit_coeff4[1] .+ (fit_coeff4[2] .* x_fit) .+ (fit_coeff4[3] .* x_fit.^2) .+ (fit_coeff4[4] .* x_fit.^3) \n",
    "    .+ (fit_coeff4[5] .* x_fit.^4) .+ (fit_coeff4[6] .* x_fit.^5) .+ (fit_coeff4[7] .* x_fit.^6) .+ (fit_coeff4[8] .* x_fit.^7) \n",
    "    .+ (fit_coeff4[9] .* x_fit.^8) .+ (fit_coeff4[10] .* x_fit.^9)\n",
    "plot!(x_fit, y_fit4, label = \"Fitted Line\")"
   ]
  },
  {
   "cell_type": "markdown",
   "id": "bbcb4ef4",
   "metadata": {},
   "source": [
    "3. What do you observe in the plot? What is this phenomenon called?"
   ]
  },
  {
   "cell_type": "markdown",
   "id": "49a085b1",
   "metadata": {},
   "source": [
    "The fitted line is not very close to the true line. It looks like the fitted line only seems to represent only the data at the center of the curve but not the data to the left or right of curve's center. This phenomenon is called overfitting."
   ]
  }
 ],
 "metadata": {
  "kernelspec": {
   "display_name": "Julia 1.8.5",
   "language": "julia",
   "name": "julia-1.8"
  },
  "language_info": {
   "file_extension": ".jl",
   "mimetype": "application/julia",
   "name": "julia",
   "version": "1.8.5"
  }
 },
 "nbformat": 4,
 "nbformat_minor": 5
}
