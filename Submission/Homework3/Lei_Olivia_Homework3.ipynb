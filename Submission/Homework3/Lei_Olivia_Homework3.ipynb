{
 "cells": [
  {
   "cell_type": "markdown",
   "id": "1fbe377b",
   "metadata": {},
   "source": [
    "<h1>HW3</h1>"
   ]
  },
  {
   "cell_type": "markdown",
   "id": "79813e24",
   "metadata": {},
   "source": [
    "# Question 1\n",
    "### (Bayes Theorem) Read the following example and complete the exercises \n",
    "\n",
    "Trolls Under the Bridge\n",
    "1. Trolls(T) are bad\n",
    "2. Gnomes(G) are benign\n",
    "3. Every bridge has 5 creatures under it\n",
    "\n",
    "Below are the probabilities of what creatures live under a bridge:\n",
    "1. TTGGG: 20% (E1)\n",
    "2. TGGGG: 20% (E2)\n",
    "3. GGGGG: 60% (E3)\n",
    "\n",
    "A knight is approaching a bridge and he wants to know his chance of crossing the bridge safely."
   ]
  },
  {
   "cell_type": "markdown",
   "id": "425f8583",
   "metadata": {},
   "source": [
    "### 1.1 \n",
    "\n",
    "#### What is the chance of the knight crossing the bridge safely?\n"
   ]
  },
  {
   "cell_type": "code",
   "execution_count": null,
   "id": "29bea308",
   "metadata": {},
   "outputs": [],
   "source": [
    "He has a chance of crossing safely 60% of the time."
   ]
  },
  {
   "cell_type": "markdown",
   "id": "61f687e4",
   "metadata": {},
   "source": [
    "### 1.2\n",
    "\n",
    "#### Before crossing a bridge, a knight captures a troll. “I now have an 80% chance of crossing safely,” he reasons, “since only the case 20% had TTGGG (E1) now have TGGG is still a threat.”\n",
    "\n",
    "#### Do you agree with him? Why?"
   ]
  },
  {
   "cell_type": "markdown",
   "id": "09025213",
   "metadata": {},
   "source": [
    "No, his reasoning is incorrect. There are 3 instances where the knight can capture a troll and in only one of these three instances where he will make it across safely as in two scnarios, there will still be a troll remainig even if he captures one. "
   ]
  },
  {
   "cell_type": "markdown",
   "id": "c1533b67",
   "metadata": {},
   "source": [
    "### 1.3\n",
    "\n",
    "#### Now he wants to use Bayes' theorem to calculate his chance of crossing safely given a troll captured \n",
    "\n",
    "\\begin{equation*}\n",
    "P(A|B) = \\frac{P(B|A)P(A)}{P(B)} \\\\\n",
    "P(A|B): Posteior \\\\\n",
    "P(B|A): Likelihood \\\\\n",
    "P(A): Prior \\\\\n",
    "P(B): Marginal Probability \\\\\n",
    "\\end{equation*}\n",
    "    \n",
    "#### Given the three events, E1, E2, and E3, under which two events the knight cannot cross safely after a troll was captured?"
   ]
  },
  {
   "cell_type": "markdown",
   "id": "0adb7f0a",
   "metadata": {},
   "source": [
    "If the knight captures either of the trolls in E1, there is still a troll left to attack him, preventing him from crossing safely."
   ]
  },
  {
   "cell_type": "markdown",
   "id": "e45e8fa6",
   "metadata": {},
   "source": [
    "### 1.4\n",
    "\n",
    "#### Use Bayes' theorem to calculate the probability of the two events in 1.3 (separately) given the troll was captured. "
   ]
  },
  {
   "cell_type": "markdown",
   "id": "5d9c3c0b",
   "metadata": {},
   "source": [
    "Probability of one event given a troll captured: "
   ]
  },
  {
   "cell_type": "code",
   "execution_count": null,
   "id": "f2f0e7c8",
   "metadata": {},
   "outputs": [],
   "source": [
    "P(B) = Troll Captured\n",
    "P(A) = E1 Occurs\n",
    "P(A|B) = E1 occurs given troll captured\n",
    "P(B|A) = Troll captured given E1 occur = 2/5\n"
   ]
  },
  {
   "cell_type": "code",
   "execution_count": 3,
   "id": "bb68ae2e",
   "metadata": {},
   "outputs": [
    {
     "data": {
      "text/plain": [
       "0.6666666666666666"
      ]
     },
     "execution_count": 3,
     "metadata": {},
     "output_type": "execute_result"
    }
   ],
   "source": [
    "likelihood = (2/5)\n",
    "prior = (1/5)\n",
    "marginal_probability = ((2/5)*.2)+((1/5)*.2)+((0/5)*0.6)\n",
    "\n",
    "posterior = (likelihood*prior)/marginal_probability"
   ]
  },
  {
   "cell_type": "markdown",
   "id": "37843aee",
   "metadata": {},
   "source": [
    "Probability of the other event given a troll captured: "
   ]
  },
  {
   "cell_type": "code",
   "execution_count": null,
   "id": "5db10bc7",
   "metadata": {},
   "outputs": [],
   "source": [
    "P(B) = Troll Captured\n",
    "P(A) = E2 Occurs\n",
    "P(A|B) = E2 occurs given troll captured\n",
    "P(B|A) = Troll captured given E1 occur = 1/5\n"
   ]
  },
  {
   "cell_type": "code",
   "execution_count": 4,
   "id": "b0b1e30a",
   "metadata": {},
   "outputs": [
    {
     "data": {
      "text/plain": [
       "0.3333333333333333"
      ]
     },
     "execution_count": 4,
     "metadata": {},
     "output_type": "execute_result"
    }
   ],
   "source": [
    "likelihood = (1/5)\n",
    "prior = (1/5)\n",
    "marginal_probability = ((2/5)*.2)+((1/5)*.2)+((0/5)*0.6)\n",
    "\n",
    "posterior = (likelihood*prior)/marginal_probability"
   ]
  },
  {
   "cell_type": "markdown",
   "id": "f3b7f049",
   "metadata": {},
   "source": [
    "### 1.5\n",
    "\n",
    "#### What is the chance of the knight crossing safely?"
   ]
  },
  {
   "cell_type": "code",
   "execution_count": null,
   "id": "0f6fd73b",
   "metadata": {},
   "outputs": [],
   "source": [
    "1/3"
   ]
  },
  {
   "cell_type": "markdown",
   "id": "7b815ae0",
   "metadata": {},
   "source": [
    "#### Now looking back to 1.1, the probabilities were changed after assimilating data! "
   ]
  },
  {
   "cell_type": "markdown",
   "id": "f1450094",
   "metadata": {},
   "source": [
    "# Question 2\n",
    "### (Polynomial Fitting) Read the following example and complete the exercises \n",
    "\n",
    "Biological data always comes with errors that influence the intepretation of the data significantly. In this question, we will simulate data and see how noises affect the parameter estimation."
   ]
  },
  {
   "cell_type": "code",
   "execution_count": 1,
   "id": "c20822fa",
   "metadata": {},
   "outputs": [
    {
     "name": "stderr",
     "output_type": "stream",
     "text": [
      "\u001b[32m\u001b[1m    Updating\u001b[22m\u001b[39m registry at `~/.julia/registries/General.toml`\n",
      "\u001b[32m\u001b[1m   Resolving\u001b[22m\u001b[39m package versions...\n",
      "\u001b[32m\u001b[1m   Installed\u001b[22m\u001b[39m Polynomials ─ v3.2.4\n",
      "\u001b[32m\u001b[1m    Updating\u001b[22m\u001b[39m `~/.julia/environments/v1.8/Project.toml`\n",
      " \u001b[90m [f27b6e38] \u001b[39m\u001b[92m+ Polynomials v3.2.4\u001b[39m\n",
      "\u001b[32m\u001b[1m    Updating\u001b[22m\u001b[39m `~/.julia/environments/v1.8/Manifest.toml`\n",
      " \u001b[90m [f27b6e38] \u001b[39m\u001b[92m+ Polynomials v3.2.4\u001b[39m\n",
      "\u001b[32m\u001b[1mPrecompiling\u001b[22m\u001b[39m project...\n",
      "\u001b[32m  ✓ \u001b[39mPolynomials\n",
      "  1 dependency successfully precompiled in 10 seconds. 169 already precompiled.\n"
     ]
    }
   ],
   "source": [
    "import Pkg\n",
    "Pkg.add([\"Distributions\", \"Plots\", \"Polynomials\", \"Random\"])"
   ]
  },
  {
   "cell_type": "code",
   "execution_count": 2,
   "id": "d7d1ca8d",
   "metadata": {},
   "outputs": [],
   "source": [
    "import Distributions as di\n",
    "import Plots\n",
    "import Polynomials\n",
    "import Random"
   ]
  },
  {
   "cell_type": "markdown",
   "id": "a90dd09d",
   "metadata": {},
   "source": [
    "### 2.1\n",
    "\n",
    "1. Generate the independent variable x ranging from -10 to 10 with an increment of 1\n",
    "2. Generate the dependent variable y_true using the equation y_true = x^2 + 3x - 2\n"
   ]
  },
  {
   "cell_type": "code",
   "execution_count": 8,
   "id": "6b0b33c5",
   "metadata": {},
   "outputs": [
    {
     "data": {
      "text/plain": [
       "21-element Vector{Int64}:\n",
       "  68\n",
       "  52\n",
       "  38\n",
       "  26\n",
       "  16\n",
       "   8\n",
       "   2\n",
       "  -2\n",
       "  -4\n",
       "  -4\n",
       "  -2\n",
       "   2\n",
       "   8\n",
       "  16\n",
       "  26\n",
       "  38\n",
       "  52\n",
       "  68\n",
       "  86\n",
       " 106\n",
       " 128"
      ]
     },
     "execution_count": 8,
     "metadata": {},
     "output_type": "execute_result"
    }
   ],
   "source": [
    "x = -10:1:10\n",
    "y_true = (x.^2) .+ (3 .* x) .- 2"
   ]
  },
  {
   "cell_type": "markdown",
   "id": "74d2a191",
   "metadata": {},
   "source": [
    "### 2.2\n",
    "\n",
    "1. Generate the Guassian noises with zero mean and a standard deviation of 10\n",
    "\n",
    "2. Add the noises to y_true to obtain y_observed\n"
   ]
  },
  {
   "cell_type": "code",
   "execution_count": 29,
   "id": "7936417a",
   "metadata": {},
   "outputs": [
    {
     "data": {
      "text/plain": [
       "21-element Vector{Float64}:\n",
       "  62.65788813000223\n",
       "  60.99019669770811\n",
       "  36.72410722431202\n",
       "  32.98756089531801\n",
       "  18.872546771346244\n",
       "  15.855923423990756\n",
       "  24.119910752514947\n",
       "   5.156394206775818\n",
       "  -7.494937017947392\n",
       "   7.865984235112636\n",
       "  16.967929550592086\n",
       "   2.283927772504608\n",
       "  -1.6842451393988114\n",
       "   2.796039056225556\n",
       "  14.823714223565736\n",
       "  53.45899643500112\n",
       "  56.54249443053413\n",
       "  46.50122423476037\n",
       "  94.55302746638058\n",
       " 107.94807629809495\n",
       " 126.12288407967301"
      ]
     },
     "execution_count": 29,
     "metadata": {},
     "output_type": "execute_result"
    }
   ],
   "source": [
    "using Random, Distributions, Statistics\n",
    "d = Normal(0,10)\n",
    "gaussian = rand(d,21)\n",
    "y_observed = y_true .+ gaussian"
   ]
  },
  {
   "cell_type": "code",
   "execution_count": 9,
   "id": "03e1ef0b",
   "metadata": {},
   "outputs": [
    {
     "data": {
      "text/plain": [
       "21"
      ]
     },
     "execution_count": 9,
     "metadata": {},
     "output_type": "execute_result"
    }
   ],
   "source": [
    "length(x)"
   ]
  },
  {
   "cell_type": "markdown",
   "id": "ecf2e554",
   "metadata": {},
   "source": [
    "### 2.3\n",
    "\n",
    "#### Fit the data (x, y_observed) with a second order polynomial. \n",
    "\n",
    "1. Make a scatter plot of y_observed along x\n",
    "2. Plot a line of y_true along x on the scatter plot\n",
    "3. Plot a line of the fitted polynomial along x on the same plot"
   ]
  },
  {
   "cell_type": "code",
   "execution_count": 30,
   "id": "d39a136b",
   "metadata": {},
   "outputs": [
    {
     "data": {
      "image/svg+xml": [
       "<?xml version=\"1.0\" encoding=\"utf-8\"?>\n",
       "<svg xmlns=\"http://www.w3.org/2000/svg\" xmlns:xlink=\"http://www.w3.org/1999/xlink\" width=\"600\" height=\"400\" viewBox=\"0 0 2400 1600\">\n",
       "<defs>\n",
       "  <clipPath id=\"clip660\">\n",
       "    <rect x=\"0\" y=\"0\" width=\"2400\" height=\"1600\"/>\n",
       "  </clipPath>\n",
       "</defs>\n",
       "<path clip-path=\"url(#clip660)\" d=\"M0 1600 L2400 1600 L2400 0 L0 0  Z\" fill=\"#ffffff\" fill-rule=\"evenodd\" fill-opacity=\"1\"/>\n",
       "<defs>\n",
       "  <clipPath id=\"clip661\">\n",
       "    <rect x=\"480\" y=\"0\" width=\"1681\" height=\"1600\"/>\n",
       "  </clipPath>\n",
       "</defs>\n",
       "<path clip-path=\"url(#clip660)\" d=\"M169.121 1486.45 L2352.76 1486.45 L2352.76 47.2441 L169.121 47.2441  Z\" fill=\"#ffffff\" fill-rule=\"evenodd\" fill-opacity=\"1\"/>\n",
       "<defs>\n",
       "  <clipPath id=\"clip662\">\n",
       "    <rect x=\"169\" y=\"47\" width=\"2185\" height=\"1440\"/>\n",
       "  </clipPath>\n",
       "</defs>\n",
       "<polyline clip-path=\"url(#clip662)\" style=\"stroke:#000000; stroke-linecap:round; stroke-linejoin:round; stroke-width:2; stroke-opacity:0.1; fill:none\" points=\"230.922,1486.45 230.922,47.2441 \"/>\n",
       "<polyline clip-path=\"url(#clip662)\" style=\"stroke:#000000; stroke-linecap:round; stroke-linejoin:round; stroke-width:2; stroke-opacity:0.1; fill:none\" points=\"745.93,1486.45 745.93,47.2441 \"/>\n",
       "<polyline clip-path=\"url(#clip662)\" style=\"stroke:#000000; stroke-linecap:round; stroke-linejoin:round; stroke-width:2; stroke-opacity:0.1; fill:none\" points=\"1260.94,1486.45 1260.94,47.2441 \"/>\n",
       "<polyline clip-path=\"url(#clip662)\" style=\"stroke:#000000; stroke-linecap:round; stroke-linejoin:round; stroke-width:2; stroke-opacity:0.1; fill:none\" points=\"1775.95,1486.45 1775.95,47.2441 \"/>\n",
       "<polyline clip-path=\"url(#clip662)\" style=\"stroke:#000000; stroke-linecap:round; stroke-linejoin:round; stroke-width:2; stroke-opacity:0.1; fill:none\" points=\"2290.95,1486.45 2290.95,47.2441 \"/>\n",
       "<polyline clip-path=\"url(#clip660)\" style=\"stroke:#000000; stroke-linecap:round; stroke-linejoin:round; stroke-width:4; stroke-opacity:1; fill:none\" points=\"169.121,1486.45 2352.76,1486.45 \"/>\n",
       "<polyline clip-path=\"url(#clip660)\" style=\"stroke:#000000; stroke-linecap:round; stroke-linejoin:round; stroke-width:4; stroke-opacity:1; fill:none\" points=\"230.922,1486.45 230.922,1467.55 \"/>\n",
       "<polyline clip-path=\"url(#clip660)\" style=\"stroke:#000000; stroke-linecap:round; stroke-linejoin:round; stroke-width:4; stroke-opacity:1; fill:none\" points=\"745.93,1486.45 745.93,1467.55 \"/>\n",
       "<polyline clip-path=\"url(#clip660)\" style=\"stroke:#000000; stroke-linecap:round; stroke-linejoin:round; stroke-width:4; stroke-opacity:1; fill:none\" points=\"1260.94,1486.45 1260.94,1467.55 \"/>\n",
       "<polyline clip-path=\"url(#clip660)\" style=\"stroke:#000000; stroke-linecap:round; stroke-linejoin:round; stroke-width:4; stroke-opacity:1; fill:none\" points=\"1775.95,1486.45 1775.95,1467.55 \"/>\n",
       "<polyline clip-path=\"url(#clip660)\" style=\"stroke:#000000; stroke-linecap:round; stroke-linejoin:round; stroke-width:4; stroke-opacity:1; fill:none\" points=\"2290.95,1486.45 2290.95,1467.55 \"/>\n",
       "<path clip-path=\"url(#clip660)\" d=\"M184.985 1532.02 L214.661 1532.02 L214.661 1535.95 L184.985 1535.95 L184.985 1532.02 Z\" fill=\"#000000\" fill-rule=\"evenodd\" fill-opacity=\"1\" /><path clip-path=\"url(#clip660)\" d=\"M225.564 1544.91 L233.202 1544.91 L233.202 1518.55 L224.892 1520.21 L224.892 1515.95 L233.156 1514.29 L237.832 1514.29 L237.832 1544.91 L245.471 1544.91 L245.471 1548.85 L225.564 1548.85 L225.564 1544.91 Z\" fill=\"#000000\" fill-rule=\"evenodd\" fill-opacity=\"1\" /><path clip-path=\"url(#clip660)\" d=\"M264.915 1517.37 Q261.304 1517.37 259.475 1520.93 Q257.67 1524.47 257.67 1531.6 Q257.67 1538.71 259.475 1542.27 Q261.304 1545.82 264.915 1545.82 Q268.549 1545.82 270.355 1542.27 Q272.184 1538.71 272.184 1531.6 Q272.184 1524.47 270.355 1520.93 Q268.549 1517.37 264.915 1517.37 M264.915 1513.66 Q270.725 1513.66 273.781 1518.27 Q276.86 1522.85 276.86 1531.6 Q276.86 1540.33 273.781 1544.94 Q270.725 1549.52 264.915 1549.52 Q259.105 1549.52 256.026 1544.94 Q252.971 1540.33 252.971 1531.6 Q252.971 1522.85 256.026 1518.27 Q259.105 1513.66 264.915 1513.66 Z\" fill=\"#000000\" fill-rule=\"evenodd\" fill-opacity=\"1\" /><path clip-path=\"url(#clip660)\" d=\"M715.572 1532.02 L745.248 1532.02 L745.248 1535.95 L715.572 1535.95 L715.572 1532.02 Z\" fill=\"#000000\" fill-rule=\"evenodd\" fill-opacity=\"1\" /><path clip-path=\"url(#clip660)\" d=\"M755.386 1514.29 L773.743 1514.29 L773.743 1518.22 L759.669 1518.22 L759.669 1526.7 Q760.687 1526.35 761.706 1526.19 Q762.724 1526 763.743 1526 Q769.53 1526 772.909 1529.17 Q776.289 1532.34 776.289 1537.76 Q776.289 1543.34 772.817 1546.44 Q769.345 1549.52 763.025 1549.52 Q760.849 1549.52 758.581 1549.15 Q756.335 1548.78 753.928 1548.04 L753.928 1543.34 Q756.011 1544.47 758.234 1545.03 Q760.456 1545.58 762.933 1545.58 Q766.937 1545.58 769.275 1543.48 Q771.613 1541.37 771.613 1537.76 Q771.613 1534.15 769.275 1532.04 Q766.937 1529.94 762.933 1529.94 Q761.058 1529.94 759.183 1530.35 Q757.331 1530.77 755.386 1531.65 L755.386 1514.29 Z\" fill=\"#000000\" fill-rule=\"evenodd\" fill-opacity=\"1\" /><path clip-path=\"url(#clip660)\" d=\"M1260.94 1517.37 Q1257.33 1517.37 1255.5 1520.93 Q1253.69 1524.47 1253.69 1531.6 Q1253.69 1538.71 1255.5 1542.27 Q1257.33 1545.82 1260.94 1545.82 Q1264.57 1545.82 1266.38 1542.27 Q1268.21 1538.71 1268.21 1531.6 Q1268.21 1524.47 1266.38 1520.93 Q1264.57 1517.37 1260.94 1517.37 M1260.94 1513.66 Q1266.75 1513.66 1269.8 1518.27 Q1272.88 1522.85 1272.88 1531.6 Q1272.88 1540.33 1269.8 1544.94 Q1266.75 1549.52 1260.94 1549.52 Q1255.13 1549.52 1252.05 1544.94 Q1248.99 1540.33 1248.99 1531.6 Q1248.99 1522.85 1252.05 1518.27 Q1255.13 1513.66 1260.94 1513.66 Z\" fill=\"#000000\" fill-rule=\"evenodd\" fill-opacity=\"1\" /><path clip-path=\"url(#clip660)\" d=\"M1766.22 1514.29 L1784.58 1514.29 L1784.58 1518.22 L1770.51 1518.22 L1770.51 1526.7 Q1771.53 1526.35 1772.54 1526.19 Q1773.56 1526 1774.58 1526 Q1780.37 1526 1783.75 1529.17 Q1787.13 1532.34 1787.13 1537.76 Q1787.13 1543.34 1783.66 1546.44 Q1780.18 1549.52 1773.86 1549.52 Q1771.69 1549.52 1769.42 1549.15 Q1767.17 1548.78 1764.77 1548.04 L1764.77 1543.34 Q1766.85 1544.47 1769.07 1545.03 Q1771.29 1545.58 1773.77 1545.58 Q1777.78 1545.58 1780.11 1543.48 Q1782.45 1541.37 1782.45 1537.76 Q1782.45 1534.15 1780.11 1532.04 Q1777.78 1529.94 1773.77 1529.94 Q1771.9 1529.94 1770.02 1530.35 Q1768.17 1530.77 1766.22 1531.65 L1766.22 1514.29 Z\" fill=\"#000000\" fill-rule=\"evenodd\" fill-opacity=\"1\" /><path clip-path=\"url(#clip660)\" d=\"M2265.64 1544.91 L2273.28 1544.91 L2273.28 1518.55 L2264.97 1520.21 L2264.97 1515.95 L2273.24 1514.29 L2277.91 1514.29 L2277.91 1544.91 L2285.55 1544.91 L2285.55 1548.85 L2265.64 1548.85 L2265.64 1544.91 Z\" fill=\"#000000\" fill-rule=\"evenodd\" fill-opacity=\"1\" /><path clip-path=\"url(#clip660)\" d=\"M2304.99 1517.37 Q2301.38 1517.37 2299.55 1520.93 Q2297.75 1524.47 2297.75 1531.6 Q2297.75 1538.71 2299.55 1542.27 Q2301.38 1545.82 2304.99 1545.82 Q2308.63 1545.82 2310.43 1542.27 Q2312.26 1538.71 2312.26 1531.6 Q2312.26 1524.47 2310.43 1520.93 Q2308.63 1517.37 2304.99 1517.37 M2304.99 1513.66 Q2310.8 1513.66 2313.86 1518.27 Q2316.94 1522.85 2316.94 1531.6 Q2316.94 1540.33 2313.86 1544.94 Q2310.8 1549.52 2304.99 1549.52 Q2299.18 1549.52 2296.11 1544.94 Q2293.05 1540.33 2293.05 1531.6 Q2293.05 1522.85 2296.11 1518.27 Q2299.18 1513.66 2304.99 1513.66 Z\" fill=\"#000000\" fill-rule=\"evenodd\" fill-opacity=\"1\" /><polyline clip-path=\"url(#clip662)\" style=\"stroke:#000000; stroke-linecap:round; stroke-linejoin:round; stroke-width:2; stroke-opacity:0.1; fill:none\" points=\"169.121,1370.61 2352.76,1370.61 \"/>\n",
       "<polyline clip-path=\"url(#clip662)\" style=\"stroke:#000000; stroke-linecap:round; stroke-linejoin:round; stroke-width:2; stroke-opacity:0.1; fill:none\" points=\"169.121,1170.2 2352.76,1170.2 \"/>\n",
       "<polyline clip-path=\"url(#clip662)\" style=\"stroke:#000000; stroke-linecap:round; stroke-linejoin:round; stroke-width:2; stroke-opacity:0.1; fill:none\" points=\"169.121,969.788 2352.76,969.788 \"/>\n",
       "<polyline clip-path=\"url(#clip662)\" style=\"stroke:#000000; stroke-linecap:round; stroke-linejoin:round; stroke-width:2; stroke-opacity:0.1; fill:none\" points=\"169.121,769.376 2352.76,769.376 \"/>\n",
       "<polyline clip-path=\"url(#clip662)\" style=\"stroke:#000000; stroke-linecap:round; stroke-linejoin:round; stroke-width:2; stroke-opacity:0.1; fill:none\" points=\"169.121,568.965 2352.76,568.965 \"/>\n",
       "<polyline clip-path=\"url(#clip662)\" style=\"stroke:#000000; stroke-linecap:round; stroke-linejoin:round; stroke-width:2; stroke-opacity:0.1; fill:none\" points=\"169.121,368.553 2352.76,368.553 \"/>\n",
       "<polyline clip-path=\"url(#clip662)\" style=\"stroke:#000000; stroke-linecap:round; stroke-linejoin:round; stroke-width:2; stroke-opacity:0.1; fill:none\" points=\"169.121,168.141 2352.76,168.141 \"/>\n",
       "<polyline clip-path=\"url(#clip660)\" style=\"stroke:#000000; stroke-linecap:round; stroke-linejoin:round; stroke-width:4; stroke-opacity:1; fill:none\" points=\"169.121,1486.45 169.121,47.2441 \"/>\n",
       "<polyline clip-path=\"url(#clip660)\" style=\"stroke:#000000; stroke-linecap:round; stroke-linejoin:round; stroke-width:4; stroke-opacity:1; fill:none\" points=\"169.121,1370.61 188.019,1370.61 \"/>\n",
       "<polyline clip-path=\"url(#clip660)\" style=\"stroke:#000000; stroke-linecap:round; stroke-linejoin:round; stroke-width:4; stroke-opacity:1; fill:none\" points=\"169.121,1170.2 188.019,1170.2 \"/>\n",
       "<polyline clip-path=\"url(#clip660)\" style=\"stroke:#000000; stroke-linecap:round; stroke-linejoin:round; stroke-width:4; stroke-opacity:1; fill:none\" points=\"169.121,969.788 188.019,969.788 \"/>\n",
       "<polyline clip-path=\"url(#clip660)\" style=\"stroke:#000000; stroke-linecap:round; stroke-linejoin:round; stroke-width:4; stroke-opacity:1; fill:none\" points=\"169.121,769.376 188.019,769.376 \"/>\n",
       "<polyline clip-path=\"url(#clip660)\" style=\"stroke:#000000; stroke-linecap:round; stroke-linejoin:round; stroke-width:4; stroke-opacity:1; fill:none\" points=\"169.121,568.965 188.019,568.965 \"/>\n",
       "<polyline clip-path=\"url(#clip660)\" style=\"stroke:#000000; stroke-linecap:round; stroke-linejoin:round; stroke-width:4; stroke-opacity:1; fill:none\" points=\"169.121,368.553 188.019,368.553 \"/>\n",
       "<polyline clip-path=\"url(#clip660)\" style=\"stroke:#000000; stroke-linecap:round; stroke-linejoin:round; stroke-width:4; stroke-opacity:1; fill:none\" points=\"169.121,168.141 188.019,168.141 \"/>\n",
       "<path clip-path=\"url(#clip660)\" d=\"M121.177 1356.41 Q117.566 1356.41 115.737 1359.98 Q113.932 1363.52 113.932 1370.65 Q113.932 1377.75 115.737 1381.32 Q117.566 1384.86 121.177 1384.86 Q124.811 1384.86 126.617 1381.32 Q128.445 1377.75 128.445 1370.65 Q128.445 1363.52 126.617 1359.98 Q124.811 1356.41 121.177 1356.41 M121.177 1352.71 Q126.987 1352.71 130.043 1357.31 Q133.121 1361.9 133.121 1370.65 Q133.121 1379.37 130.043 1383.98 Q126.987 1388.56 121.177 1388.56 Q115.367 1388.56 112.288 1383.98 Q109.233 1379.37 109.233 1370.65 Q109.233 1361.9 112.288 1357.31 Q115.367 1352.71 121.177 1352.71 Z\" fill=\"#000000\" fill-rule=\"evenodd\" fill-opacity=\"1\" /><path clip-path=\"url(#clip660)\" d=\"M85.0429 1183.54 L101.362 1183.54 L101.362 1187.48 L79.4179 1187.48 L79.4179 1183.54 Q82.0799 1180.79 86.6632 1176.16 Q91.2697 1171.51 92.4502 1170.17 Q94.6956 1167.64 95.5752 1165.91 Q96.478 1164.15 96.478 1162.46 Q96.478 1159.7 94.5336 1157.97 Q92.6123 1156.23 89.5104 1156.23 Q87.3114 1156.23 84.8577 1156.99 Q82.4271 1157.76 79.6494 1159.31 L79.6494 1154.59 Q82.4734 1153.45 84.9271 1152.87 Q87.3808 1152.3 89.4178 1152.3 Q94.7882 1152.3 97.9826 1154.98 Q101.177 1157.67 101.177 1162.16 Q101.177 1164.29 100.367 1166.21 Q99.5798 1168.11 97.4734 1170.7 Q96.8947 1171.37 93.7928 1174.59 Q90.691 1177.78 85.0429 1183.54 Z\" fill=\"#000000\" fill-rule=\"evenodd\" fill-opacity=\"1\" /><path clip-path=\"url(#clip660)\" d=\"M121.177 1156 Q117.566 1156 115.737 1159.56 Q113.932 1163.11 113.932 1170.23 Q113.932 1177.34 115.737 1180.91 Q117.566 1184.45 121.177 1184.45 Q124.811 1184.45 126.617 1180.91 Q128.445 1177.34 128.445 1170.23 Q128.445 1163.11 126.617 1159.56 Q124.811 1156 121.177 1156 M121.177 1152.3 Q126.987 1152.3 130.043 1156.9 Q133.121 1161.48 133.121 1170.23 Q133.121 1178.96 130.043 1183.57 Q126.987 1188.15 121.177 1188.15 Q115.367 1188.15 112.288 1183.57 Q109.233 1178.96 109.233 1170.23 Q109.233 1161.48 112.288 1156.9 Q115.367 1152.3 121.177 1152.3 Z\" fill=\"#000000\" fill-rule=\"evenodd\" fill-opacity=\"1\" /><path clip-path=\"url(#clip660)\" d=\"M93.8623 956.582 L82.0568 975.031 L93.8623 975.031 L93.8623 956.582 M92.6354 952.508 L98.515 952.508 L98.515 975.031 L103.446 975.031 L103.446 978.92 L98.515 978.92 L98.515 987.068 L93.8623 987.068 L93.8623 978.92 L78.2605 978.92 L78.2605 974.406 L92.6354 952.508 Z\" fill=\"#000000\" fill-rule=\"evenodd\" fill-opacity=\"1\" /><path clip-path=\"url(#clip660)\" d=\"M121.177 955.587 Q117.566 955.587 115.737 959.152 Q113.932 962.693 113.932 969.823 Q113.932 976.929 115.737 980.494 Q117.566 984.036 121.177 984.036 Q124.811 984.036 126.617 980.494 Q128.445 976.929 128.445 969.823 Q128.445 962.693 126.617 959.152 Q124.811 955.587 121.177 955.587 M121.177 951.883 Q126.987 951.883 130.043 956.49 Q133.121 961.073 133.121 969.823 Q133.121 978.55 130.043 983.156 Q126.987 987.74 121.177 987.74 Q115.367 987.74 112.288 983.156 Q109.233 978.55 109.233 969.823 Q109.233 961.073 112.288 956.49 Q115.367 951.883 121.177 951.883 Z\" fill=\"#000000\" fill-rule=\"evenodd\" fill-opacity=\"1\" /><path clip-path=\"url(#clip660)\" d=\"M91.5938 767.513 Q88.4456 767.513 86.5938 769.666 Q84.7651 771.819 84.7651 775.569 Q84.7651 779.295 86.5938 781.471 Q88.4456 783.624 91.5938 783.624 Q94.7419 783.624 96.5706 781.471 Q98.4224 779.295 98.4224 775.569 Q98.4224 771.819 96.5706 769.666 Q94.7419 767.513 91.5938 767.513 M100.876 752.86 L100.876 757.12 Q99.1169 756.286 97.3113 755.846 Q95.5289 755.407 93.7697 755.407 Q89.1401 755.407 86.6864 758.532 Q84.2558 761.657 83.9086 767.976 Q85.2743 765.962 87.3345 764.897 Q89.3947 763.809 91.8715 763.809 Q97.0798 763.809 100.089 766.981 Q103.121 770.129 103.121 775.569 Q103.121 780.893 99.9733 784.11 Q96.8252 787.328 91.5938 787.328 Q85.5984 787.328 82.4271 782.744 Q79.2559 778.138 79.2559 769.411 Q79.2559 761.217 83.1447 756.356 Q87.0336 751.472 93.5845 751.472 Q95.3437 751.472 97.1261 751.819 Q98.9317 752.166 100.876 752.86 Z\" fill=\"#000000\" fill-rule=\"evenodd\" fill-opacity=\"1\" /><path clip-path=\"url(#clip660)\" d=\"M121.177 755.175 Q117.566 755.175 115.737 758.74 Q113.932 762.282 113.932 769.411 Q113.932 776.518 115.737 780.082 Q117.566 783.624 121.177 783.624 Q124.811 783.624 126.617 780.082 Q128.445 776.518 128.445 769.411 Q128.445 762.282 126.617 758.74 Q124.811 755.175 121.177 755.175 M121.177 751.472 Q126.987 751.472 130.043 756.078 Q133.121 760.661 133.121 769.411 Q133.121 778.138 130.043 782.744 Q126.987 787.328 121.177 787.328 Q115.367 787.328 112.288 782.744 Q109.233 778.138 109.233 769.411 Q109.233 760.661 112.288 756.078 Q115.367 751.472 121.177 751.472 Z\" fill=\"#000000\" fill-rule=\"evenodd\" fill-opacity=\"1\" /><path clip-path=\"url(#clip660)\" d=\"M91.0151 569.833 Q87.6817 569.833 85.7605 571.615 Q83.8623 573.398 83.8623 576.522 Q83.8623 579.647 85.7605 581.43 Q87.6817 583.212 91.0151 583.212 Q94.3484 583.212 96.2697 581.43 Q98.1909 579.624 98.1909 576.522 Q98.1909 573.398 96.2697 571.615 Q94.3715 569.833 91.0151 569.833 M86.3392 567.842 Q83.3299 567.101 81.6401 565.041 Q79.9735 562.981 79.9735 560.018 Q79.9735 555.874 82.9133 553.467 Q85.8762 551.06 91.0151 551.06 Q96.1771 551.06 99.1169 553.467 Q102.057 555.874 102.057 560.018 Q102.057 562.981 100.367 565.041 Q98.7002 567.101 95.7141 567.842 Q99.0937 568.629 100.969 570.921 Q102.867 573.212 102.867 576.522 Q102.867 581.546 99.7882 584.231 Q96.7326 586.916 91.0151 586.916 Q85.2975 586.916 82.2188 584.231 Q79.1633 581.546 79.1633 576.522 Q79.1633 573.212 81.0614 570.921 Q82.9595 568.629 86.3392 567.842 M84.6262 560.458 Q84.6262 563.143 86.2929 564.648 Q87.9827 566.152 91.0151 566.152 Q94.0243 566.152 95.7141 564.648 Q97.4271 563.143 97.4271 560.458 Q97.4271 557.773 95.7141 556.268 Q94.0243 554.763 91.0151 554.763 Q87.9827 554.763 86.2929 556.268 Q84.6262 557.773 84.6262 560.458 Z\" fill=\"#000000\" fill-rule=\"evenodd\" fill-opacity=\"1\" /><path clip-path=\"url(#clip660)\" d=\"M121.177 554.763 Q117.566 554.763 115.737 558.328 Q113.932 561.87 113.932 568.999 Q113.932 576.106 115.737 579.671 Q117.566 583.212 121.177 583.212 Q124.811 583.212 126.617 579.671 Q128.445 576.106 128.445 568.999 Q128.445 561.87 126.617 558.328 Q124.811 554.763 121.177 554.763 M121.177 551.06 Q126.987 551.06 130.043 555.666 Q133.121 560.249 133.121 568.999 Q133.121 577.726 130.043 582.333 Q126.987 586.916 121.177 586.916 Q115.367 586.916 112.288 582.333 Q109.233 577.726 109.233 568.999 Q109.233 560.249 112.288 555.666 Q115.367 551.06 121.177 551.06 Z\" fill=\"#000000\" fill-rule=\"evenodd\" fill-opacity=\"1\" /><path clip-path=\"url(#clip660)\" d=\"M51.6634 381.898 L59.3023 381.898 L59.3023 355.532 L50.9921 357.199 L50.9921 352.939 L59.256 351.273 L63.9319 351.273 L63.9319 381.898 L71.5707 381.898 L71.5707 385.833 L51.6634 385.833 L51.6634 381.898 Z\" fill=\"#000000\" fill-rule=\"evenodd\" fill-opacity=\"1\" /><path clip-path=\"url(#clip660)\" d=\"M91.0151 354.352 Q87.404 354.352 85.5753 357.916 Q83.7697 361.458 83.7697 368.588 Q83.7697 375.694 85.5753 379.259 Q87.404 382.8 91.0151 382.8 Q94.6493 382.8 96.4548 379.259 Q98.2835 375.694 98.2835 368.588 Q98.2835 361.458 96.4548 357.916 Q94.6493 354.352 91.0151 354.352 M91.0151 350.648 Q96.8252 350.648 99.8808 355.254 Q102.959 359.838 102.959 368.588 Q102.959 377.314 99.8808 381.921 Q96.8252 386.504 91.0151 386.504 Q85.2049 386.504 82.1262 381.921 Q79.0707 377.314 79.0707 368.588 Q79.0707 359.838 82.1262 355.254 Q85.2049 350.648 91.0151 350.648 Z\" fill=\"#000000\" fill-rule=\"evenodd\" fill-opacity=\"1\" /><path clip-path=\"url(#clip660)\" d=\"M121.177 354.352 Q117.566 354.352 115.737 357.916 Q113.932 361.458 113.932 368.588 Q113.932 375.694 115.737 379.259 Q117.566 382.8 121.177 382.8 Q124.811 382.8 126.617 379.259 Q128.445 375.694 128.445 368.588 Q128.445 361.458 126.617 357.916 Q124.811 354.352 121.177 354.352 M121.177 350.648 Q126.987 350.648 130.043 355.254 Q133.121 359.838 133.121 368.588 Q133.121 377.314 130.043 381.921 Q126.987 386.504 121.177 386.504 Q115.367 386.504 112.288 381.921 Q109.233 377.314 109.233 368.588 Q109.233 359.838 112.288 355.254 Q115.367 350.648 121.177 350.648 Z\" fill=\"#000000\" fill-rule=\"evenodd\" fill-opacity=\"1\" /><path clip-path=\"url(#clip660)\" d=\"M51.6634 181.486 L59.3023 181.486 L59.3023 155.12 L50.9921 156.787 L50.9921 152.528 L59.256 150.861 L63.9319 150.861 L63.9319 181.486 L71.5707 181.486 L71.5707 185.421 L51.6634 185.421 L51.6634 181.486 Z\" fill=\"#000000\" fill-rule=\"evenodd\" fill-opacity=\"1\" /><path clip-path=\"url(#clip660)\" d=\"M85.0429 181.486 L101.362 181.486 L101.362 185.421 L79.4179 185.421 L79.4179 181.486 Q82.0799 178.731 86.6632 174.102 Q91.2697 169.449 92.4502 168.106 Q94.6956 165.583 95.5752 163.847 Q96.478 162.088 96.478 160.398 Q96.478 157.643 94.5336 155.907 Q92.6123 154.171 89.5104 154.171 Q87.3114 154.171 84.8577 154.935 Q82.4271 155.699 79.6494 157.25 L79.6494 152.528 Q82.4734 151.393 84.9271 150.815 Q87.3808 150.236 89.4178 150.236 Q94.7882 150.236 97.9826 152.921 Q101.177 155.606 101.177 160.097 Q101.177 162.227 100.367 164.148 Q99.5798 166.046 97.4734 168.639 Q96.8947 169.31 93.7928 172.528 Q90.691 175.722 85.0429 181.486 Z\" fill=\"#000000\" fill-rule=\"evenodd\" fill-opacity=\"1\" /><path clip-path=\"url(#clip660)\" d=\"M121.177 153.94 Q117.566 153.94 115.737 157.504 Q113.932 161.046 113.932 168.176 Q113.932 175.282 115.737 178.847 Q117.566 182.389 121.177 182.389 Q124.811 182.389 126.617 178.847 Q128.445 175.282 128.445 168.176 Q128.445 161.046 126.617 157.504 Q124.811 153.94 121.177 153.94 M121.177 150.236 Q126.987 150.236 130.043 154.842 Q133.121 159.426 133.121 168.176 Q133.121 176.903 130.043 181.509 Q126.987 186.092 121.177 186.092 Q115.367 186.092 112.288 181.509 Q109.233 176.903 109.233 168.176 Q109.233 159.426 112.288 154.842 Q115.367 150.236 121.177 150.236 Z\" fill=\"#000000\" fill-rule=\"evenodd\" fill-opacity=\"1\" /><circle clip-path=\"url(#clip662)\" cx=\"230.922\" cy=\"742.743\" r=\"14.4\" fill=\"#009af9\" fill-rule=\"evenodd\" fill-opacity=\"1\" stroke=\"#000000\" stroke-opacity=\"1\" stroke-width=\"3.2\"/>\n",
       "<circle clip-path=\"url(#clip662)\" cx=\"333.924\" cy=\"759.454\" r=\"14.4\" fill=\"#009af9\" fill-rule=\"evenodd\" fill-opacity=\"1\" stroke=\"#000000\" stroke-opacity=\"1\" stroke-width=\"3.2\"/>\n",
       "<circle clip-path=\"url(#clip662)\" cx=\"436.926\" cy=\"1002.61\" r=\"14.4\" fill=\"#009af9\" fill-rule=\"evenodd\" fill-opacity=\"1\" stroke=\"#000000\" stroke-opacity=\"1\" stroke-width=\"3.2\"/>\n",
       "<circle clip-path=\"url(#clip662)\" cx=\"539.927\" cy=\"1040.06\" r=\"14.4\" fill=\"#009af9\" fill-rule=\"evenodd\" fill-opacity=\"1\" stroke=\"#000000\" stroke-opacity=\"1\" stroke-width=\"3.2\"/>\n",
       "<circle clip-path=\"url(#clip662)\" cx=\"642.929\" cy=\"1181.5\" r=\"14.4\" fill=\"#009af9\" fill-rule=\"evenodd\" fill-opacity=\"1\" stroke=\"#000000\" stroke-opacity=\"1\" stroke-width=\"3.2\"/>\n",
       "<circle clip-path=\"url(#clip662)\" cx=\"745.93\" cy=\"1211.73\" r=\"14.4\" fill=\"#009af9\" fill-rule=\"evenodd\" fill-opacity=\"1\" stroke=\"#000000\" stroke-opacity=\"1\" stroke-width=\"3.2\"/>\n",
       "<circle clip-path=\"url(#clip662)\" cx=\"848.932\" cy=\"1128.92\" r=\"14.4\" fill=\"#009af9\" fill-rule=\"evenodd\" fill-opacity=\"1\" stroke=\"#000000\" stroke-opacity=\"1\" stroke-width=\"3.2\"/>\n",
       "<circle clip-path=\"url(#clip662)\" cx=\"951.934\" cy=\"1318.94\" r=\"14.4\" fill=\"#009af9\" fill-rule=\"evenodd\" fill-opacity=\"1\" stroke=\"#000000\" stroke-opacity=\"1\" stroke-width=\"3.2\"/>\n",
       "<circle clip-path=\"url(#clip662)\" cx=\"1054.94\" cy=\"1445.72\" r=\"14.4\" fill=\"#009af9\" fill-rule=\"evenodd\" fill-opacity=\"1\" stroke=\"#000000\" stroke-opacity=\"1\" stroke-width=\"3.2\"/>\n",
       "<circle clip-path=\"url(#clip662)\" cx=\"1157.94\" cy=\"1291.79\" r=\"14.4\" fill=\"#009af9\" fill-rule=\"evenodd\" fill-opacity=\"1\" stroke=\"#000000\" stroke-opacity=\"1\" stroke-width=\"3.2\"/>\n",
       "<circle clip-path=\"url(#clip662)\" cx=\"1260.94\" cy=\"1200.58\" r=\"14.4\" fill=\"#009af9\" fill-rule=\"evenodd\" fill-opacity=\"1\" stroke=\"#000000\" stroke-opacity=\"1\" stroke-width=\"3.2\"/>\n",
       "<circle clip-path=\"url(#clip662)\" cx=\"1363.94\" cy=\"1347.73\" r=\"14.4\" fill=\"#009af9\" fill-rule=\"evenodd\" fill-opacity=\"1\" stroke=\"#000000\" stroke-opacity=\"1\" stroke-width=\"3.2\"/>\n",
       "<circle clip-path=\"url(#clip662)\" cx=\"1466.94\" cy=\"1387.49\" r=\"14.4\" fill=\"#009af9\" fill-rule=\"evenodd\" fill-opacity=\"1\" stroke=\"#000000\" stroke-opacity=\"1\" stroke-width=\"3.2\"/>\n",
       "<circle clip-path=\"url(#clip662)\" cx=\"1569.94\" cy=\"1342.59\" r=\"14.4\" fill=\"#009af9\" fill-rule=\"evenodd\" fill-opacity=\"1\" stroke=\"#000000\" stroke-opacity=\"1\" stroke-width=\"3.2\"/>\n",
       "<circle clip-path=\"url(#clip662)\" cx=\"1672.95\" cy=\"1222.07\" r=\"14.4\" fill=\"#009af9\" fill-rule=\"evenodd\" fill-opacity=\"1\" stroke=\"#000000\" stroke-opacity=\"1\" stroke-width=\"3.2\"/>\n",
       "<circle clip-path=\"url(#clip662)\" cx=\"1775.95\" cy=\"834.921\" r=\"14.4\" fill=\"#009af9\" fill-rule=\"evenodd\" fill-opacity=\"1\" stroke=\"#000000\" stroke-opacity=\"1\" stroke-width=\"3.2\"/>\n",
       "<circle clip-path=\"url(#clip662)\" cx=\"1878.95\" cy=\"804.023\" r=\"14.4\" fill=\"#009af9\" fill-rule=\"evenodd\" fill-opacity=\"1\" stroke=\"#000000\" stroke-opacity=\"1\" stroke-width=\"3.2\"/>\n",
       "<circle clip-path=\"url(#clip662)\" cx=\"1981.95\" cy=\"904.642\" r=\"14.4\" fill=\"#009af9\" fill-rule=\"evenodd\" fill-opacity=\"1\" stroke=\"#000000\" stroke-opacity=\"1\" stroke-width=\"3.2\"/>\n",
       "<circle clip-path=\"url(#clip662)\" cx=\"2084.95\" cy=\"423.135\" r=\"14.4\" fill=\"#009af9\" fill-rule=\"evenodd\" fill-opacity=\"1\" stroke=\"#000000\" stroke-opacity=\"1\" stroke-width=\"3.2\"/>\n",
       "<circle clip-path=\"url(#clip662)\" cx=\"2187.95\" cy=\"288.908\" r=\"14.4\" fill=\"#009af9\" fill-rule=\"evenodd\" fill-opacity=\"1\" stroke=\"#000000\" stroke-opacity=\"1\" stroke-width=\"3.2\"/>\n",
       "<circle clip-path=\"url(#clip662)\" cx=\"2290.95\" cy=\"106.786\" r=\"14.4\" fill=\"#009af9\" fill-rule=\"evenodd\" fill-opacity=\"1\" stroke=\"#000000\" stroke-opacity=\"1\" stroke-width=\"3.2\"/>\n",
       "<polyline clip-path=\"url(#clip662)\" style=\"stroke:#e26f46; stroke-linecap:round; stroke-linejoin:round; stroke-width:4; stroke-opacity:1; fill:none\" points=\"230.922,689.212 333.924,849.541 436.926,989.83 539.927,1110.08 642.929,1210.28 745.93,1290.45 848.932,1350.57 951.934,1390.65 1054.94,1410.69 1157.94,1410.69 1260.94,1390.65 1363.94,1350.57 1466.94,1290.45 1569.94,1210.28 1672.95,1110.08 1775.95,989.83 1878.95,849.541 1981.95,689.212 2084.95,508.841 2187.95,308.429 2290.95,87.9763 \"/>\n",
       "<polyline clip-path=\"url(#clip662)\" style=\"stroke:#3da44d; stroke-linecap:round; stroke-linejoin:round; stroke-width:4; stroke-opacity:1; fill:none\" points=\"230.922,651.633 333.924,807.751 436.926,944.708 539.927,1062.51 642.929,1161.14 745.93,1240.62 848.932,1300.94 951.934,1342.1 1054.94,1364.1 1157.94,1366.94 1260.94,1350.61 1363.94,1315.13 1466.94,1260.49 1569.94,1186.69 1672.95,1093.73 1775.95,981.608 1878.95,850.328 1981.95,699.887 2084.95,530.287 2187.95,341.526 2290.95,133.606 \"/>\n",
       "<path clip-path=\"url(#clip660)\" d=\"M241.909 302.578 L513.282 302.578 L513.282 95.2176 L241.909 95.2176  Z\" fill=\"#ffffff\" fill-rule=\"evenodd\" fill-opacity=\"1\"/>\n",
       "<polyline clip-path=\"url(#clip660)\" style=\"stroke:#000000; stroke-linecap:round; stroke-linejoin:round; stroke-width:4; stroke-opacity:1; fill:none\" points=\"241.909,302.578 513.282,302.578 513.282,95.2176 241.909,95.2176 241.909,302.578 \"/>\n",
       "<circle clip-path=\"url(#clip660)\" cx=\"338.96\" cy=\"147.058\" r=\"23.04\" fill=\"#009af9\" fill-rule=\"evenodd\" fill-opacity=\"1\" stroke=\"#000000\" stroke-opacity=\"1\" stroke-width=\"5.12\"/>\n",
       "<path clip-path=\"url(#clip660)\" d=\"M449.853 166.745 Q448.047 171.375 446.334 172.787 Q444.621 174.199 441.751 174.199 L438.348 174.199 L438.348 170.634 L440.848 170.634 Q442.607 170.634 443.579 169.8 Q444.552 168.967 445.732 165.865 L446.496 163.921 L436.01 138.412 L440.524 138.412 L448.626 158.689 L456.727 138.412 L461.241 138.412 L449.853 166.745 Z\" fill=\"#000000\" fill-rule=\"evenodd\" fill-opacity=\"1\" /><path clip-path=\"url(#clip660)\" d=\"M468.533 160.402 L476.172 160.402 L476.172 134.037 L467.862 135.703 L467.862 131.444 L476.126 129.778 L480.801 129.778 L480.801 160.402 L488.44 160.402 L488.44 164.338 L468.533 164.338 L468.533 160.402 Z\" fill=\"#000000\" fill-rule=\"evenodd\" fill-opacity=\"1\" /><polyline clip-path=\"url(#clip660)\" style=\"stroke:#e26f46; stroke-linecap:round; stroke-linejoin:round; stroke-width:4; stroke-opacity:1; fill:none\" points=\"266.172,198.898 411.747,198.898 \"/>\n",
       "<path clip-path=\"url(#clip660)\" d=\"M449.853 218.585 Q448.047 223.215 446.334 224.627 Q444.621 226.039 441.751 226.039 L438.348 226.039 L438.348 222.474 L440.848 222.474 Q442.607 222.474 443.579 221.64 Q444.552 220.807 445.732 217.705 L446.496 215.761 L436.01 190.252 L440.524 190.252 L448.626 210.529 L456.727 190.252 L461.241 190.252 L449.853 218.585 Z\" fill=\"#000000\" fill-rule=\"evenodd\" fill-opacity=\"1\" /><path clip-path=\"url(#clip660)\" d=\"M471.751 212.242 L488.07 212.242 L488.07 216.178 L466.126 216.178 L466.126 212.242 Q468.788 209.488 473.371 204.858 Q477.977 200.205 479.158 198.863 Q481.403 196.34 482.283 194.604 Q483.186 192.844 483.186 191.155 Q483.186 188.4 481.241 186.664 Q479.32 184.928 476.218 184.928 Q474.019 184.928 471.565 185.692 Q469.135 186.455 466.357 188.006 L466.357 183.284 Q469.181 182.15 471.635 181.571 Q474.088 180.993 476.126 180.993 Q481.496 180.993 484.69 183.678 Q487.885 186.363 487.885 190.854 Q487.885 192.983 487.075 194.905 Q486.287 196.803 484.181 199.395 Q483.602 200.067 480.5 203.284 Q477.399 206.479 471.751 212.242 Z\" fill=\"#000000\" fill-rule=\"evenodd\" fill-opacity=\"1\" /><polyline clip-path=\"url(#clip660)\" style=\"stroke:#3da44d; stroke-linecap:round; stroke-linejoin:round; stroke-width:4; stroke-opacity:1; fill:none\" points=\"266.172,250.738 411.747,250.738 \"/>\n",
       "<path clip-path=\"url(#clip660)\" d=\"M449.853 270.425 Q448.047 275.055 446.334 276.467 Q444.621 277.879 441.751 277.879 L438.348 277.879 L438.348 274.314 L440.848 274.314 Q442.607 274.314 443.579 273.48 Q444.552 272.647 445.732 269.545 L446.496 267.601 L436.01 242.092 L440.524 242.092 L448.626 262.369 L456.727 242.092 L461.241 242.092 L449.853 270.425 Z\" fill=\"#000000\" fill-rule=\"evenodd\" fill-opacity=\"1\" /><path clip-path=\"url(#clip660)\" d=\"M481.889 249.383 Q485.246 250.101 487.121 252.369 Q489.019 254.638 489.019 257.971 Q489.019 263.087 485.5 265.888 Q481.982 268.689 475.501 268.689 Q473.325 268.689 471.01 268.249 Q468.718 267.832 466.264 266.976 L466.264 262.462 Q468.209 263.596 470.524 264.175 Q472.838 264.754 475.362 264.754 Q479.76 264.754 482.051 263.018 Q484.366 261.281 484.366 257.971 Q484.366 254.916 482.213 253.203 Q480.084 251.467 476.264 251.467 L472.237 251.467 L472.237 247.624 L476.45 247.624 Q479.899 247.624 481.727 246.258 Q483.556 244.87 483.556 242.277 Q483.556 239.615 481.658 238.203 Q479.783 236.768 476.264 236.768 Q474.343 236.768 472.144 237.184 Q469.945 237.601 467.306 238.481 L467.306 234.314 Q469.968 233.573 472.283 233.203 Q474.621 232.833 476.681 232.833 Q482.005 232.833 485.107 235.263 Q488.209 237.67 488.209 241.791 Q488.209 244.661 486.565 246.652 Q484.922 248.62 481.889 249.383 Z\" fill=\"#000000\" fill-rule=\"evenodd\" fill-opacity=\"1\" /></svg>\n"
      ]
     },
     "execution_count": 30,
     "metadata": {},
     "output_type": "execute_result"
    }
   ],
   "source": [
    "using Plots\n",
    "\n",
    "scatter(x, y_observed)\n",
    "plot!(x, y_true)\n",
    "line_fit = Polynomials.fit(x,y_observed,2)\n",
    "y_fit = line_fit.(x)\n",
    "plot!(x, y_fit)"
   ]
  },
  {
   "cell_type": "markdown",
   "id": "b3b5a343",
   "metadata": {},
   "source": [
    "### 2.4\n",
    "\n",
    "1. Repeat 2.2 and 2.3 with a noise with a standard deviation of 50"
   ]
  },
  {
   "cell_type": "code",
   "execution_count": 31,
   "id": "b4c08499",
   "metadata": {},
   "outputs": [
    {
     "data": {
      "image/svg+xml": [
       "<?xml version=\"1.0\" encoding=\"utf-8\"?>\n",
       "<svg xmlns=\"http://www.w3.org/2000/svg\" xmlns:xlink=\"http://www.w3.org/1999/xlink\" width=\"600\" height=\"400\" viewBox=\"0 0 2400 1600\">\n",
       "<defs>\n",
       "  <clipPath id=\"clip700\">\n",
       "    <rect x=\"0\" y=\"0\" width=\"2400\" height=\"1600\"/>\n",
       "  </clipPath>\n",
       "</defs>\n",
       "<path clip-path=\"url(#clip700)\" d=\"M0 1600 L2400 1600 L2400 0 L0 0  Z\" fill=\"#ffffff\" fill-rule=\"evenodd\" fill-opacity=\"1\"/>\n",
       "<defs>\n",
       "  <clipPath id=\"clip701\">\n",
       "    <rect x=\"480\" y=\"0\" width=\"1681\" height=\"1600\"/>\n",
       "  </clipPath>\n",
       "</defs>\n",
       "<path clip-path=\"url(#clip700)\" d=\"M178.867 1486.45 L2352.76 1486.45 L2352.76 47.2441 L178.867 47.2441  Z\" fill=\"#ffffff\" fill-rule=\"evenodd\" fill-opacity=\"1\"/>\n",
       "<defs>\n",
       "  <clipPath id=\"clip702\">\n",
       "    <rect x=\"178\" y=\"47\" width=\"2175\" height=\"1440\"/>\n",
       "  </clipPath>\n",
       "</defs>\n",
       "<polyline clip-path=\"url(#clip702)\" style=\"stroke:#000000; stroke-linecap:round; stroke-linejoin:round; stroke-width:2; stroke-opacity:0.1; fill:none\" points=\"240.392,1486.45 240.392,47.2441 \"/>\n",
       "<polyline clip-path=\"url(#clip702)\" style=\"stroke:#000000; stroke-linecap:round; stroke-linejoin:round; stroke-width:2; stroke-opacity:0.1; fill:none\" points=\"753.102,1486.45 753.102,47.2441 \"/>\n",
       "<polyline clip-path=\"url(#clip702)\" style=\"stroke:#000000; stroke-linecap:round; stroke-linejoin:round; stroke-width:2; stroke-opacity:0.1; fill:none\" points=\"1265.81,1486.45 1265.81,47.2441 \"/>\n",
       "<polyline clip-path=\"url(#clip702)\" style=\"stroke:#000000; stroke-linecap:round; stroke-linejoin:round; stroke-width:2; stroke-opacity:0.1; fill:none\" points=\"1778.52,1486.45 1778.52,47.2441 \"/>\n",
       "<polyline clip-path=\"url(#clip702)\" style=\"stroke:#000000; stroke-linecap:round; stroke-linejoin:round; stroke-width:2; stroke-opacity:0.1; fill:none\" points=\"2291.23,1486.45 2291.23,47.2441 \"/>\n",
       "<polyline clip-path=\"url(#clip700)\" style=\"stroke:#000000; stroke-linecap:round; stroke-linejoin:round; stroke-width:4; stroke-opacity:1; fill:none\" points=\"178.867,1486.45 2352.76,1486.45 \"/>\n",
       "<polyline clip-path=\"url(#clip700)\" style=\"stroke:#000000; stroke-linecap:round; stroke-linejoin:round; stroke-width:4; stroke-opacity:1; fill:none\" points=\"240.392,1486.45 240.392,1467.55 \"/>\n",
       "<polyline clip-path=\"url(#clip700)\" style=\"stroke:#000000; stroke-linecap:round; stroke-linejoin:round; stroke-width:4; stroke-opacity:1; fill:none\" points=\"753.102,1486.45 753.102,1467.55 \"/>\n",
       "<polyline clip-path=\"url(#clip700)\" style=\"stroke:#000000; stroke-linecap:round; stroke-linejoin:round; stroke-width:4; stroke-opacity:1; fill:none\" points=\"1265.81,1486.45 1265.81,1467.55 \"/>\n",
       "<polyline clip-path=\"url(#clip700)\" style=\"stroke:#000000; stroke-linecap:round; stroke-linejoin:round; stroke-width:4; stroke-opacity:1; fill:none\" points=\"1778.52,1486.45 1778.52,1467.55 \"/>\n",
       "<polyline clip-path=\"url(#clip700)\" style=\"stroke:#000000; stroke-linecap:round; stroke-linejoin:round; stroke-width:4; stroke-opacity:1; fill:none\" points=\"2291.23,1486.45 2291.23,1467.55 \"/>\n",
       "<path clip-path=\"url(#clip700)\" d=\"M194.455 1532.02 L224.13 1532.02 L224.13 1535.95 L194.455 1535.95 L194.455 1532.02 Z\" fill=\"#000000\" fill-rule=\"evenodd\" fill-opacity=\"1\" /><path clip-path=\"url(#clip700)\" d=\"M235.033 1544.91 L242.672 1544.91 L242.672 1518.55 L234.362 1520.21 L234.362 1515.95 L242.626 1514.29 L247.301 1514.29 L247.301 1544.91 L254.94 1544.91 L254.94 1548.85 L235.033 1548.85 L235.033 1544.91 Z\" fill=\"#000000\" fill-rule=\"evenodd\" fill-opacity=\"1\" /><path clip-path=\"url(#clip700)\" d=\"M274.385 1517.37 Q270.774 1517.37 268.945 1520.93 Q267.139 1524.47 267.139 1531.6 Q267.139 1538.71 268.945 1542.27 Q270.774 1545.82 274.385 1545.82 Q278.019 1545.82 279.824 1542.27 Q281.653 1538.71 281.653 1531.6 Q281.653 1524.47 279.824 1520.93 Q278.019 1517.37 274.385 1517.37 M274.385 1513.66 Q280.195 1513.66 283.25 1518.27 Q286.329 1522.85 286.329 1531.6 Q286.329 1540.33 283.25 1544.94 Q280.195 1549.52 274.385 1549.52 Q268.575 1549.52 265.496 1544.94 Q262.44 1540.33 262.44 1531.6 Q262.44 1522.85 265.496 1518.27 Q268.575 1513.66 274.385 1513.66 Z\" fill=\"#000000\" fill-rule=\"evenodd\" fill-opacity=\"1\" /><path clip-path=\"url(#clip700)\" d=\"M722.743 1532.02 L752.419 1532.02 L752.419 1535.95 L722.743 1535.95 L722.743 1532.02 Z\" fill=\"#000000\" fill-rule=\"evenodd\" fill-opacity=\"1\" /><path clip-path=\"url(#clip700)\" d=\"M762.558 1514.29 L780.914 1514.29 L780.914 1518.22 L766.84 1518.22 L766.84 1526.7 Q767.858 1526.35 768.877 1526.19 Q769.895 1526 770.914 1526 Q776.701 1526 780.081 1529.17 Q783.46 1532.34 783.46 1537.76 Q783.46 1543.34 779.988 1546.44 Q776.516 1549.52 770.196 1549.52 Q768.02 1549.52 765.752 1549.15 Q763.507 1548.78 761.099 1548.04 L761.099 1543.34 Q763.183 1544.47 765.405 1545.03 Q767.627 1545.58 770.104 1545.58 Q774.108 1545.58 776.446 1543.48 Q778.784 1541.37 778.784 1537.76 Q778.784 1534.15 776.446 1532.04 Q774.108 1529.94 770.104 1529.94 Q768.229 1529.94 766.354 1530.35 Q764.502 1530.77 762.558 1531.65 L762.558 1514.29 Z\" fill=\"#000000\" fill-rule=\"evenodd\" fill-opacity=\"1\" /><path clip-path=\"url(#clip700)\" d=\"M1265.81 1517.37 Q1262.2 1517.37 1260.37 1520.93 Q1258.57 1524.47 1258.57 1531.6 Q1258.57 1538.71 1260.37 1542.27 Q1262.2 1545.82 1265.81 1545.82 Q1269.45 1545.82 1271.25 1542.27 Q1273.08 1538.71 1273.08 1531.6 Q1273.08 1524.47 1271.25 1520.93 Q1269.45 1517.37 1265.81 1517.37 M1265.81 1513.66 Q1271.62 1513.66 1274.68 1518.27 Q1277.76 1522.85 1277.76 1531.6 Q1277.76 1540.33 1274.68 1544.94 Q1271.62 1549.52 1265.81 1549.52 Q1260 1549.52 1256.92 1544.94 Q1253.87 1540.33 1253.87 1531.6 Q1253.87 1522.85 1256.92 1518.27 Q1260 1513.66 1265.81 1513.66 Z\" fill=\"#000000\" fill-rule=\"evenodd\" fill-opacity=\"1\" /><path clip-path=\"url(#clip700)\" d=\"M1768.8 1514.29 L1787.16 1514.29 L1787.16 1518.22 L1773.08 1518.22 L1773.08 1526.7 Q1774.1 1526.35 1775.12 1526.19 Q1776.14 1526 1777.16 1526 Q1782.94 1526 1786.32 1529.17 Q1789.7 1532.34 1789.7 1537.76 Q1789.7 1543.34 1786.23 1546.44 Q1782.76 1549.52 1776.44 1549.52 Q1774.26 1549.52 1771.99 1549.15 Q1769.75 1548.78 1767.34 1548.04 L1767.34 1543.34 Q1769.42 1544.47 1771.65 1545.03 Q1773.87 1545.58 1776.35 1545.58 Q1780.35 1545.58 1782.69 1543.48 Q1785.03 1541.37 1785.03 1537.76 Q1785.03 1534.15 1782.69 1532.04 Q1780.35 1529.94 1776.35 1529.94 Q1774.47 1529.94 1772.6 1530.35 Q1770.74 1530.77 1768.8 1531.65 L1768.8 1514.29 Z\" fill=\"#000000\" fill-rule=\"evenodd\" fill-opacity=\"1\" /><path clip-path=\"url(#clip700)\" d=\"M2265.92 1544.91 L2273.56 1544.91 L2273.56 1518.55 L2265.25 1520.21 L2265.25 1515.95 L2273.51 1514.29 L2278.19 1514.29 L2278.19 1544.91 L2285.83 1544.91 L2285.83 1548.85 L2265.92 1548.85 L2265.92 1544.91 Z\" fill=\"#000000\" fill-rule=\"evenodd\" fill-opacity=\"1\" /><path clip-path=\"url(#clip700)\" d=\"M2305.27 1517.37 Q2301.66 1517.37 2299.83 1520.93 Q2298.02 1524.47 2298.02 1531.6 Q2298.02 1538.71 2299.83 1542.27 Q2301.66 1545.82 2305.27 1545.82 Q2308.9 1545.82 2310.71 1542.27 Q2312.54 1538.71 2312.54 1531.6 Q2312.54 1524.47 2310.71 1520.93 Q2308.9 1517.37 2305.27 1517.37 M2305.27 1513.66 Q2311.08 1513.66 2314.14 1518.27 Q2317.21 1522.85 2317.21 1531.6 Q2317.21 1540.33 2314.14 1544.94 Q2311.08 1549.52 2305.27 1549.52 Q2299.46 1549.52 2296.38 1544.94 Q2293.33 1540.33 2293.33 1531.6 Q2293.33 1522.85 2296.38 1518.27 Q2299.46 1513.66 2305.27 1513.66 Z\" fill=\"#000000\" fill-rule=\"evenodd\" fill-opacity=\"1\" /><polyline clip-path=\"url(#clip702)\" style=\"stroke:#000000; stroke-linecap:round; stroke-linejoin:round; stroke-width:2; stroke-opacity:0.1; fill:none\" points=\"178.867,1241.4 2352.76,1241.4 \"/>\n",
       "<polyline clip-path=\"url(#clip702)\" style=\"stroke:#000000; stroke-linecap:round; stroke-linejoin:round; stroke-width:2; stroke-opacity:0.1; fill:none\" points=\"178.867,957.716 2352.76,957.716 \"/>\n",
       "<polyline clip-path=\"url(#clip702)\" style=\"stroke:#000000; stroke-linecap:round; stroke-linejoin:round; stroke-width:2; stroke-opacity:0.1; fill:none\" points=\"178.867,674.036 2352.76,674.036 \"/>\n",
       "<polyline clip-path=\"url(#clip702)\" style=\"stroke:#000000; stroke-linecap:round; stroke-linejoin:round; stroke-width:2; stroke-opacity:0.1; fill:none\" points=\"178.867,390.356 2352.76,390.356 \"/>\n",
       "<polyline clip-path=\"url(#clip702)\" style=\"stroke:#000000; stroke-linecap:round; stroke-linejoin:round; stroke-width:2; stroke-opacity:0.1; fill:none\" points=\"178.867,106.676 2352.76,106.676 \"/>\n",
       "<polyline clip-path=\"url(#clip700)\" style=\"stroke:#000000; stroke-linecap:round; stroke-linejoin:round; stroke-width:4; stroke-opacity:1; fill:none\" points=\"178.867,1486.45 178.867,47.2441 \"/>\n",
       "<polyline clip-path=\"url(#clip700)\" style=\"stroke:#000000; stroke-linecap:round; stroke-linejoin:round; stroke-width:4; stroke-opacity:1; fill:none\" points=\"178.867,1241.4 197.764,1241.4 \"/>\n",
       "<polyline clip-path=\"url(#clip700)\" style=\"stroke:#000000; stroke-linecap:round; stroke-linejoin:round; stroke-width:4; stroke-opacity:1; fill:none\" points=\"178.867,957.716 197.764,957.716 \"/>\n",
       "<polyline clip-path=\"url(#clip700)\" style=\"stroke:#000000; stroke-linecap:round; stroke-linejoin:round; stroke-width:4; stroke-opacity:1; fill:none\" points=\"178.867,674.036 197.764,674.036 \"/>\n",
       "<polyline clip-path=\"url(#clip700)\" style=\"stroke:#000000; stroke-linecap:round; stroke-linejoin:round; stroke-width:4; stroke-opacity:1; fill:none\" points=\"178.867,390.356 197.764,390.356 \"/>\n",
       "<polyline clip-path=\"url(#clip700)\" style=\"stroke:#000000; stroke-linecap:round; stroke-linejoin:round; stroke-width:4; stroke-opacity:1; fill:none\" points=\"178.867,106.676 197.764,106.676 \"/>\n",
       "<path clip-path=\"url(#clip700)\" d=\"M50.9921 1241.85 L80.6679 1241.85 L80.6679 1245.78 L50.9921 1245.78 L50.9921 1241.85 Z\" fill=\"#000000\" fill-rule=\"evenodd\" fill-opacity=\"1\" /><path clip-path=\"url(#clip700)\" d=\"M90.8067 1224.12 L109.163 1224.12 L109.163 1228.05 L95.0891 1228.05 L95.0891 1236.52 Q96.1076 1236.18 97.1261 1236.01 Q98.1447 1235.83 99.1632 1235.83 Q104.95 1235.83 108.33 1239 Q111.709 1242.17 111.709 1247.59 Q111.709 1253.17 108.237 1256.27 Q104.765 1259.35 98.4456 1259.35 Q96.2697 1259.35 94.0012 1258.98 Q91.7558 1258.61 89.3484 1257.87 L89.3484 1253.17 Q91.4317 1254.3 93.6539 1254.86 Q95.8761 1255.41 98.353 1255.41 Q102.358 1255.41 104.696 1253.31 Q107.033 1251.2 107.033 1247.59 Q107.033 1243.98 104.696 1241.87 Q102.358 1239.76 98.353 1239.76 Q96.478 1239.76 94.603 1240.18 Q92.7512 1240.6 90.8067 1241.48 L90.8067 1224.12 Z\" fill=\"#000000\" fill-rule=\"evenodd\" fill-opacity=\"1\" /><path clip-path=\"url(#clip700)\" d=\"M130.922 1227.2 Q127.311 1227.2 125.482 1230.76 Q123.677 1234.3 123.677 1241.43 Q123.677 1248.54 125.482 1252.1 Q127.311 1255.64 130.922 1255.64 Q134.556 1255.64 136.362 1252.1 Q138.191 1248.54 138.191 1241.43 Q138.191 1234.3 136.362 1230.76 Q134.556 1227.2 130.922 1227.2 M130.922 1223.49 Q136.732 1223.49 139.788 1228.1 Q142.867 1232.68 142.867 1241.43 Q142.867 1250.16 139.788 1254.76 Q136.732 1259.35 130.922 1259.35 Q125.112 1259.35 122.033 1254.76 Q118.978 1250.16 118.978 1241.43 Q118.978 1232.68 122.033 1228.1 Q125.112 1223.49 130.922 1223.49 Z\" fill=\"#000000\" fill-rule=\"evenodd\" fill-opacity=\"1\" /><path clip-path=\"url(#clip700)\" d=\"M130.922 943.515 Q127.311 943.515 125.482 947.08 Q123.677 950.621 123.677 957.751 Q123.677 964.857 125.482 968.422 Q127.311 971.964 130.922 971.964 Q134.556 971.964 136.362 968.422 Q138.191 964.857 138.191 957.751 Q138.191 950.621 136.362 947.08 Q134.556 943.515 130.922 943.515 M130.922 939.811 Q136.732 939.811 139.788 944.418 Q142.867 949.001 142.867 957.751 Q142.867 966.478 139.788 971.084 Q136.732 975.667 130.922 975.667 Q125.112 975.667 122.033 971.084 Q118.978 966.478 118.978 957.751 Q118.978 949.001 122.033 944.418 Q125.112 939.811 130.922 939.811 Z\" fill=\"#000000\" fill-rule=\"evenodd\" fill-opacity=\"1\" /><path clip-path=\"url(#clip700)\" d=\"M90.8067 656.756 L109.163 656.756 L109.163 660.691 L95.0891 660.691 L95.0891 669.163 Q96.1076 668.816 97.1261 668.654 Q98.1447 668.469 99.1632 668.469 Q104.95 668.469 108.33 671.64 Q111.709 674.811 111.709 680.228 Q111.709 685.807 108.237 688.909 Q104.765 691.987 98.4456 691.987 Q96.2697 691.987 94.0012 691.617 Q91.7558 691.247 89.3484 690.506 L89.3484 685.807 Q91.4317 686.941 93.6539 687.497 Q95.8761 688.052 98.353 688.052 Q102.358 688.052 104.696 685.946 Q107.033 683.839 107.033 680.228 Q107.033 676.617 104.696 674.511 Q102.358 672.404 98.353 672.404 Q96.478 672.404 94.603 672.821 Q92.7512 673.237 90.8067 674.117 L90.8067 656.756 Z\" fill=\"#000000\" fill-rule=\"evenodd\" fill-opacity=\"1\" /><path clip-path=\"url(#clip700)\" d=\"M130.922 659.835 Q127.311 659.835 125.482 663.399 Q123.677 666.941 123.677 674.071 Q123.677 681.177 125.482 684.742 Q127.311 688.284 130.922 688.284 Q134.556 688.284 136.362 684.742 Q138.191 681.177 138.191 674.071 Q138.191 666.941 136.362 663.399 Q134.556 659.835 130.922 659.835 M130.922 656.131 Q136.732 656.131 139.788 660.737 Q142.867 665.321 142.867 674.071 Q142.867 682.797 139.788 687.404 Q136.732 691.987 130.922 691.987 Q125.112 691.987 122.033 687.404 Q118.978 682.797 118.978 674.071 Q118.978 665.321 122.033 660.737 Q125.112 656.131 130.922 656.131 Z\" fill=\"#000000\" fill-rule=\"evenodd\" fill-opacity=\"1\" /><path clip-path=\"url(#clip700)\" d=\"M61.4087 403.701 L69.0476 403.701 L69.0476 377.335 L60.7374 379.002 L60.7374 374.742 L69.0013 373.076 L73.6772 373.076 L73.6772 403.701 L81.316 403.701 L81.316 407.636 L61.4087 407.636 L61.4087 403.701 Z\" fill=\"#000000\" fill-rule=\"evenodd\" fill-opacity=\"1\" /><path clip-path=\"url(#clip700)\" d=\"M100.76 376.154 Q97.1493 376.154 95.3206 379.719 Q93.515 383.261 93.515 390.39 Q93.515 397.497 95.3206 401.062 Q97.1493 404.603 100.76 404.603 Q104.395 404.603 106.2 401.062 Q108.029 397.497 108.029 390.39 Q108.029 383.261 106.2 379.719 Q104.395 376.154 100.76 376.154 M100.76 372.451 Q106.571 372.451 109.626 377.057 Q112.705 381.641 112.705 390.39 Q112.705 399.117 109.626 403.724 Q106.571 408.307 100.76 408.307 Q94.9502 408.307 91.8715 403.724 Q88.816 399.117 88.816 390.39 Q88.816 381.641 91.8715 377.057 Q94.9502 372.451 100.76 372.451 Z\" fill=\"#000000\" fill-rule=\"evenodd\" fill-opacity=\"1\" /><path clip-path=\"url(#clip700)\" d=\"M130.922 376.154 Q127.311 376.154 125.482 379.719 Q123.677 383.261 123.677 390.39 Q123.677 397.497 125.482 401.062 Q127.311 404.603 130.922 404.603 Q134.556 404.603 136.362 401.062 Q138.191 397.497 138.191 390.39 Q138.191 383.261 136.362 379.719 Q134.556 376.154 130.922 376.154 M130.922 372.451 Q136.732 372.451 139.788 377.057 Q142.867 381.641 142.867 390.39 Q142.867 399.117 139.788 403.724 Q136.732 408.307 130.922 408.307 Q125.112 408.307 122.033 403.724 Q118.978 399.117 118.978 390.39 Q118.978 381.641 122.033 377.057 Q125.112 372.451 130.922 372.451 Z\" fill=\"#000000\" fill-rule=\"evenodd\" fill-opacity=\"1\" /><path clip-path=\"url(#clip700)\" d=\"M61.4087 120.02 L69.0476 120.02 L69.0476 93.6547 L60.7374 95.3214 L60.7374 91.0622 L69.0013 89.3955 L73.6772 89.3955 L73.6772 120.02 L81.316 120.02 L81.316 123.956 L61.4087 123.956 L61.4087 120.02 Z\" fill=\"#000000\" fill-rule=\"evenodd\" fill-opacity=\"1\" /><path clip-path=\"url(#clip700)\" d=\"M90.8067 89.3955 L109.163 89.3955 L109.163 93.3307 L95.0891 93.3307 L95.0891 101.803 Q96.1076 101.456 97.1261 101.294 Q98.1447 101.108 99.1632 101.108 Q104.95 101.108 108.33 104.28 Q111.709 107.451 111.709 112.868 Q111.709 118.446 108.237 121.548 Q104.765 124.627 98.4456 124.627 Q96.2697 124.627 94.0012 124.256 Q91.7558 123.886 89.3484 123.145 L89.3484 118.446 Q91.4317 119.581 93.6539 120.136 Q95.8761 120.692 98.353 120.692 Q102.358 120.692 104.696 118.585 Q107.033 116.479 107.033 112.868 Q107.033 109.257 104.696 107.15 Q102.358 105.044 98.353 105.044 Q96.478 105.044 94.603 105.46 Q92.7512 105.877 90.8067 106.757 L90.8067 89.3955 Z\" fill=\"#000000\" fill-rule=\"evenodd\" fill-opacity=\"1\" /><path clip-path=\"url(#clip700)\" d=\"M130.922 92.4742 Q127.311 92.4742 125.482 96.039 Q123.677 99.5806 123.677 106.71 Q123.677 113.817 125.482 117.381 Q127.311 120.923 130.922 120.923 Q134.556 120.923 136.362 117.381 Q138.191 113.817 138.191 106.71 Q138.191 99.5806 136.362 96.039 Q134.556 92.4742 130.922 92.4742 M130.922 88.7705 Q136.732 88.7705 139.788 93.377 Q142.867 97.9603 142.867 106.71 Q142.867 115.437 139.788 120.043 Q136.732 124.627 130.922 124.627 Q125.112 124.627 122.033 120.043 Q118.978 115.437 118.978 106.71 Q118.978 97.9603 122.033 93.377 Q125.112 88.7705 130.922 88.7705 Z\" fill=\"#000000\" fill-rule=\"evenodd\" fill-opacity=\"1\" /><circle clip-path=\"url(#clip702)\" cx=\"240.392\" cy=\"553.815\" r=\"14.4\" fill=\"#009af9\" fill-rule=\"evenodd\" fill-opacity=\"1\" stroke=\"#000000\" stroke-opacity=\"1\" stroke-width=\"3.2\"/>\n",
       "<circle clip-path=\"url(#clip702)\" cx=\"342.934\" cy=\"514.859\" r=\"14.4\" fill=\"#009af9\" fill-rule=\"evenodd\" fill-opacity=\"1\" stroke=\"#000000\" stroke-opacity=\"1\" stroke-width=\"3.2\"/>\n",
       "<circle clip-path=\"url(#clip702)\" cx=\"445.476\" cy=\"825.669\" r=\"14.4\" fill=\"#009af9\" fill-rule=\"evenodd\" fill-opacity=\"1\" stroke=\"#000000\" stroke-opacity=\"1\" stroke-width=\"3.2\"/>\n",
       "<circle clip-path=\"url(#clip702)\" cx=\"548.018\" cy=\"1074.28\" r=\"14.4\" fill=\"#009af9\" fill-rule=\"evenodd\" fill-opacity=\"1\" stroke=\"#000000\" stroke-opacity=\"1\" stroke-width=\"3.2\"/>\n",
       "<circle clip-path=\"url(#clip702)\" cx=\"650.56\" cy=\"832.708\" r=\"14.4\" fill=\"#009af9\" fill-rule=\"evenodd\" fill-opacity=\"1\" stroke=\"#000000\" stroke-opacity=\"1\" stroke-width=\"3.2\"/>\n",
       "<circle clip-path=\"url(#clip702)\" cx=\"753.102\" cy=\"1112.48\" r=\"14.4\" fill=\"#009af9\" fill-rule=\"evenodd\" fill-opacity=\"1\" stroke=\"#000000\" stroke-opacity=\"1\" stroke-width=\"3.2\"/>\n",
       "<circle clip-path=\"url(#clip702)\" cx=\"855.643\" cy=\"1148.74\" r=\"14.4\" fill=\"#009af9\" fill-rule=\"evenodd\" fill-opacity=\"1\" stroke=\"#000000\" stroke-opacity=\"1\" stroke-width=\"3.2\"/>\n",
       "<circle clip-path=\"url(#clip702)\" cx=\"958.185\" cy=\"556.52\" r=\"14.4\" fill=\"#009af9\" fill-rule=\"evenodd\" fill-opacity=\"1\" stroke=\"#000000\" stroke-opacity=\"1\" stroke-width=\"3.2\"/>\n",
       "<circle clip-path=\"url(#clip702)\" cx=\"1060.73\" cy=\"1405.64\" r=\"14.4\" fill=\"#009af9\" fill-rule=\"evenodd\" fill-opacity=\"1\" stroke=\"#000000\" stroke-opacity=\"1\" stroke-width=\"3.2\"/>\n",
       "<circle clip-path=\"url(#clip702)\" cx=\"1163.27\" cy=\"710.284\" r=\"14.4\" fill=\"#009af9\" fill-rule=\"evenodd\" fill-opacity=\"1\" stroke=\"#000000\" stroke-opacity=\"1\" stroke-width=\"3.2\"/>\n",
       "<circle clip-path=\"url(#clip702)\" cx=\"1265.81\" cy=\"961.387\" r=\"14.4\" fill=\"#009af9\" fill-rule=\"evenodd\" fill-opacity=\"1\" stroke=\"#000000\" stroke-opacity=\"1\" stroke-width=\"3.2\"/>\n",
       "<circle clip-path=\"url(#clip702)\" cx=\"1368.35\" cy=\"1445.72\" r=\"14.4\" fill=\"#009af9\" fill-rule=\"evenodd\" fill-opacity=\"1\" stroke=\"#000000\" stroke-opacity=\"1\" stroke-width=\"3.2\"/>\n",
       "<circle clip-path=\"url(#clip702)\" cx=\"1470.9\" cy=\"1136.46\" r=\"14.4\" fill=\"#009af9\" fill-rule=\"evenodd\" fill-opacity=\"1\" stroke=\"#000000\" stroke-opacity=\"1\" stroke-width=\"3.2\"/>\n",
       "<circle clip-path=\"url(#clip702)\" cx=\"1573.44\" cy=\"1130.32\" r=\"14.4\" fill=\"#009af9\" fill-rule=\"evenodd\" fill-opacity=\"1\" stroke=\"#000000\" stroke-opacity=\"1\" stroke-width=\"3.2\"/>\n",
       "<circle clip-path=\"url(#clip702)\" cx=\"1675.98\" cy=\"920.604\" r=\"14.4\" fill=\"#009af9\" fill-rule=\"evenodd\" fill-opacity=\"1\" stroke=\"#000000\" stroke-opacity=\"1\" stroke-width=\"3.2\"/>\n",
       "<circle clip-path=\"url(#clip702)\" cx=\"1778.52\" cy=\"1131.41\" r=\"14.4\" fill=\"#009af9\" fill-rule=\"evenodd\" fill-opacity=\"1\" stroke=\"#000000\" stroke-opacity=\"1\" stroke-width=\"3.2\"/>\n",
       "<circle clip-path=\"url(#clip702)\" cx=\"1881.06\" cy=\"572.627\" r=\"14.4\" fill=\"#009af9\" fill-rule=\"evenodd\" fill-opacity=\"1\" stroke=\"#000000\" stroke-opacity=\"1\" stroke-width=\"3.2\"/>\n",
       "<circle clip-path=\"url(#clip702)\" cx=\"1983.6\" cy=\"747.491\" r=\"14.4\" fill=\"#009af9\" fill-rule=\"evenodd\" fill-opacity=\"1\" stroke=\"#000000\" stroke-opacity=\"1\" stroke-width=\"3.2\"/>\n",
       "<circle clip-path=\"url(#clip702)\" cx=\"2086.15\" cy=\"554.79\" r=\"14.4\" fill=\"#009af9\" fill-rule=\"evenodd\" fill-opacity=\"1\" stroke=\"#000000\" stroke-opacity=\"1\" stroke-width=\"3.2\"/>\n",
       "<circle clip-path=\"url(#clip702)\" cx=\"2188.69\" cy=\"87.9763\" r=\"14.4\" fill=\"#009af9\" fill-rule=\"evenodd\" fill-opacity=\"1\" stroke=\"#000000\" stroke-opacity=\"1\" stroke-width=\"3.2\"/>\n",
       "<circle clip-path=\"url(#clip702)\" cx=\"2291.23\" cy=\"377.79\" r=\"14.4\" fill=\"#009af9\" fill-rule=\"evenodd\" fill-opacity=\"1\" stroke=\"#000000\" stroke-opacity=\"1\" stroke-width=\"3.2\"/>\n",
       "<polyline clip-path=\"url(#clip702)\" style=\"stroke:#e26f46; stroke-linecap:round; stroke-linejoin:round; stroke-width:4; stroke-opacity:1; fill:none\" points=\"240.392,571.911 342.934,662.689 445.476,742.119 548.018,810.202 650.56,866.939 753.102,912.327 855.643,946.369 958.185,969.063 1060.73,980.411 1163.27,980.411 1265.81,969.063 1368.35,946.369 1470.9,912.327 1573.44,866.939 1675.98,810.202 1778.52,742.119 1881.06,662.689 1983.6,571.911 2086.15,469.786 2188.69,356.314 2291.23,231.495 \"/>\n",
       "<polyline clip-path=\"url(#clip702)\" style=\"stroke:#3da44d; stroke-linecap:round; stroke-linejoin:round; stroke-width:4; stroke-opacity:1; fill:none\" points=\"240.392,516.14 342.934,642.922 445.476,754.921 548.018,852.137 650.56,934.569 753.102,1002.22 855.643,1055.08 958.185,1093.17 1060.73,1116.47 1163.27,1124.98 1265.81,1118.72 1368.35,1097.67 1470.9,1061.84 1573.44,1011.22 1675.98,945.821 1778.52,865.638 1881.06,770.673 1983.6,660.924 2086.15,536.392 2188.69,397.078 2291.23,242.979 \"/>\n",
       "<path clip-path=\"url(#clip700)\" d=\"M251.33 302.578 L521.728 302.578 L521.728 95.2176 L251.33 95.2176  Z\" fill=\"#ffffff\" fill-rule=\"evenodd\" fill-opacity=\"1\"/>\n",
       "<polyline clip-path=\"url(#clip700)\" style=\"stroke:#000000; stroke-linecap:round; stroke-linejoin:round; stroke-width:4; stroke-opacity:1; fill:none\" points=\"251.33,302.578 521.728,302.578 521.728,95.2176 251.33,95.2176 251.33,302.578 \"/>\n",
       "<circle clip-path=\"url(#clip700)\" cx=\"347.947\" cy=\"147.058\" r=\"23.04\" fill=\"#009af9\" fill-rule=\"evenodd\" fill-opacity=\"1\" stroke=\"#000000\" stroke-opacity=\"1\" stroke-width=\"5.12\"/>\n",
       "<path clip-path=\"url(#clip700)\" d=\"M458.407 166.745 Q456.601 171.375 454.888 172.787 Q453.175 174.199 450.305 174.199 L446.902 174.199 L446.902 170.634 L449.402 170.634 Q451.161 170.634 452.134 169.8 Q453.106 168.967 454.286 165.865 L455.05 163.921 L444.564 138.412 L449.078 138.412 L457.18 158.689 L465.282 138.412 L469.796 138.412 L458.407 166.745 Z\" fill=\"#000000\" fill-rule=\"evenodd\" fill-opacity=\"1\" /><path clip-path=\"url(#clip700)\" d=\"M477.087 160.402 L484.726 160.402 L484.726 134.037 L476.416 135.703 L476.416 131.444 L484.68 129.778 L489.356 129.778 L489.356 160.402 L496.994 160.402 L496.994 164.338 L477.087 164.338 L477.087 160.402 Z\" fill=\"#000000\" fill-rule=\"evenodd\" fill-opacity=\"1\" /><polyline clip-path=\"url(#clip700)\" style=\"stroke:#e26f46; stroke-linecap:round; stroke-linejoin:round; stroke-width:4; stroke-opacity:1; fill:none\" points=\"275.484,198.898 420.41,198.898 \"/>\n",
       "<path clip-path=\"url(#clip700)\" d=\"M458.407 218.585 Q456.601 223.215 454.888 224.627 Q453.175 226.039 450.305 226.039 L446.902 226.039 L446.902 222.474 L449.402 222.474 Q451.161 222.474 452.134 221.64 Q453.106 220.807 454.286 217.705 L455.05 215.761 L444.564 190.252 L449.078 190.252 L457.18 210.529 L465.282 190.252 L469.796 190.252 L458.407 218.585 Z\" fill=\"#000000\" fill-rule=\"evenodd\" fill-opacity=\"1\" /><path clip-path=\"url(#clip700)\" d=\"M480.305 212.242 L496.624 212.242 L496.624 216.178 L474.68 216.178 L474.68 212.242 Q477.342 209.488 481.925 204.858 Q486.532 200.205 487.712 198.863 Q489.957 196.34 490.837 194.604 Q491.74 192.844 491.74 191.155 Q491.74 188.4 489.795 186.664 Q487.874 184.928 484.772 184.928 Q482.573 184.928 480.12 185.692 Q477.689 186.455 474.911 188.006 L474.911 183.284 Q477.735 182.15 480.189 181.571 Q482.643 180.993 484.68 180.993 Q490.05 180.993 493.245 183.678 Q496.439 186.363 496.439 190.854 Q496.439 192.983 495.629 194.905 Q494.842 196.803 492.735 199.395 Q492.157 200.067 489.055 203.284 Q485.953 206.479 480.305 212.242 Z\" fill=\"#000000\" fill-rule=\"evenodd\" fill-opacity=\"1\" /><polyline clip-path=\"url(#clip700)\" style=\"stroke:#3da44d; stroke-linecap:round; stroke-linejoin:round; stroke-width:4; stroke-opacity:1; fill:none\" points=\"275.484,250.738 420.41,250.738 \"/>\n",
       "<path clip-path=\"url(#clip700)\" d=\"M458.407 270.425 Q456.601 275.055 454.888 276.467 Q453.175 277.879 450.305 277.879 L446.902 277.879 L446.902 274.314 L449.402 274.314 Q451.161 274.314 452.134 273.48 Q453.106 272.647 454.286 269.545 L455.05 267.601 L444.564 242.092 L449.078 242.092 L457.18 262.369 L465.282 242.092 L469.796 242.092 L458.407 270.425 Z\" fill=\"#000000\" fill-rule=\"evenodd\" fill-opacity=\"1\" /><path clip-path=\"url(#clip700)\" d=\"M490.444 249.383 Q493.8 250.101 495.675 252.369 Q497.573 254.638 497.573 257.971 Q497.573 263.087 494.055 265.888 Q490.536 268.689 484.055 268.689 Q481.879 268.689 479.564 268.249 Q477.272 267.832 474.819 266.976 L474.819 262.462 Q476.763 263.596 479.078 264.175 Q481.393 264.754 483.916 264.754 Q488.314 264.754 490.606 263.018 Q492.92 261.281 492.92 257.971 Q492.92 254.916 490.768 253.203 Q488.638 251.467 484.819 251.467 L480.791 251.467 L480.791 247.624 L485.004 247.624 Q488.453 247.624 490.282 246.258 Q492.11 244.87 492.11 242.277 Q492.11 239.615 490.212 238.203 Q488.337 236.768 484.819 236.768 Q482.897 236.768 480.698 237.184 Q478.499 237.601 475.86 238.481 L475.86 234.314 Q478.522 233.573 480.837 233.203 Q483.175 232.833 485.235 232.833 Q490.559 232.833 493.661 235.263 Q496.763 237.67 496.763 241.791 Q496.763 244.661 495.119 246.652 Q493.476 248.62 490.444 249.383 Z\" fill=\"#000000\" fill-rule=\"evenodd\" fill-opacity=\"1\" /></svg>\n"
      ]
     },
     "execution_count": 31,
     "metadata": {},
     "output_type": "execute_result"
    }
   ],
   "source": [
    "\n",
    "d = Normal(0,50)\n",
    "gaussian = rand(d,21)\n",
    "y_observed = y_true .+ gaussian\n",
    "\n",
    "scatter(x, y_observed)\n",
    "plot!(x, y_true)\n",
    "line_fit = Polynomials.fit(x,y_observed,2)\n",
    "y_fit = line_fit.(x)\n",
    "plot!(x, y_fit)"
   ]
  },
  {
   "cell_type": "markdown",
   "id": "ab12acbd",
   "metadata": {},
   "source": [
    "2. Compare the plot with the plot in 2.3. Is the fit closer to y_true or not, and why?"
   ]
  },
  {
   "cell_type": "markdown",
   "id": "a34fcca4",
   "metadata": {},
   "source": [
    "The fit is not closer to y_true since the standard deviation is bigger, which is considered the noise. The bigger the noise the less closer to y_true."
   ]
  },
  {
   "cell_type": "markdown",
   "id": "5fd1d93b",
   "metadata": {},
   "source": [
    "### 2.5\n",
    "\n",
    "#### Repeat 2.2 and 2.3 with a tenth order polynomial fit\n"
   ]
  },
  {
   "cell_type": "code",
   "execution_count": 32,
   "id": "b6dbd546",
   "metadata": {},
   "outputs": [
    {
     "data": {
      "image/svg+xml": [
       "<?xml version=\"1.0\" encoding=\"utf-8\"?>\n",
       "<svg xmlns=\"http://www.w3.org/2000/svg\" xmlns:xlink=\"http://www.w3.org/1999/xlink\" width=\"600\" height=\"400\" viewBox=\"0 0 2400 1600\">\n",
       "<defs>\n",
       "  <clipPath id=\"clip740\">\n",
       "    <rect x=\"0\" y=\"0\" width=\"2400\" height=\"1600\"/>\n",
       "  </clipPath>\n",
       "</defs>\n",
       "<path clip-path=\"url(#clip740)\" d=\"M0 1600 L2400 1600 L2400 0 L0 0  Z\" fill=\"#ffffff\" fill-rule=\"evenodd\" fill-opacity=\"1\"/>\n",
       "<defs>\n",
       "  <clipPath id=\"clip741\">\n",
       "    <rect x=\"480\" y=\"0\" width=\"1681\" height=\"1600\"/>\n",
       "  </clipPath>\n",
       "</defs>\n",
       "<path clip-path=\"url(#clip740)\" d=\"M169.121 1486.45 L2352.76 1486.45 L2352.76 47.2441 L169.121 47.2441  Z\" fill=\"#ffffff\" fill-rule=\"evenodd\" fill-opacity=\"1\"/>\n",
       "<defs>\n",
       "  <clipPath id=\"clip742\">\n",
       "    <rect x=\"169\" y=\"47\" width=\"2185\" height=\"1440\"/>\n",
       "  </clipPath>\n",
       "</defs>\n",
       "<polyline clip-path=\"url(#clip742)\" style=\"stroke:#000000; stroke-linecap:round; stroke-linejoin:round; stroke-width:2; stroke-opacity:0.1; fill:none\" points=\"230.922,1486.45 230.922,47.2441 \"/>\n",
       "<polyline clip-path=\"url(#clip742)\" style=\"stroke:#000000; stroke-linecap:round; stroke-linejoin:round; stroke-width:2; stroke-opacity:0.1; fill:none\" points=\"745.93,1486.45 745.93,47.2441 \"/>\n",
       "<polyline clip-path=\"url(#clip742)\" style=\"stroke:#000000; stroke-linecap:round; stroke-linejoin:round; stroke-width:2; stroke-opacity:0.1; fill:none\" points=\"1260.94,1486.45 1260.94,47.2441 \"/>\n",
       "<polyline clip-path=\"url(#clip742)\" style=\"stroke:#000000; stroke-linecap:round; stroke-linejoin:round; stroke-width:2; stroke-opacity:0.1; fill:none\" points=\"1775.95,1486.45 1775.95,47.2441 \"/>\n",
       "<polyline clip-path=\"url(#clip742)\" style=\"stroke:#000000; stroke-linecap:round; stroke-linejoin:round; stroke-width:2; stroke-opacity:0.1; fill:none\" points=\"2290.95,1486.45 2290.95,47.2441 \"/>\n",
       "<polyline clip-path=\"url(#clip740)\" style=\"stroke:#000000; stroke-linecap:round; stroke-linejoin:round; stroke-width:4; stroke-opacity:1; fill:none\" points=\"169.121,1486.45 2352.76,1486.45 \"/>\n",
       "<polyline clip-path=\"url(#clip740)\" style=\"stroke:#000000; stroke-linecap:round; stroke-linejoin:round; stroke-width:4; stroke-opacity:1; fill:none\" points=\"230.922,1486.45 230.922,1467.55 \"/>\n",
       "<polyline clip-path=\"url(#clip740)\" style=\"stroke:#000000; stroke-linecap:round; stroke-linejoin:round; stroke-width:4; stroke-opacity:1; fill:none\" points=\"745.93,1486.45 745.93,1467.55 \"/>\n",
       "<polyline clip-path=\"url(#clip740)\" style=\"stroke:#000000; stroke-linecap:round; stroke-linejoin:round; stroke-width:4; stroke-opacity:1; fill:none\" points=\"1260.94,1486.45 1260.94,1467.55 \"/>\n",
       "<polyline clip-path=\"url(#clip740)\" style=\"stroke:#000000; stroke-linecap:round; stroke-linejoin:round; stroke-width:4; stroke-opacity:1; fill:none\" points=\"1775.95,1486.45 1775.95,1467.55 \"/>\n",
       "<polyline clip-path=\"url(#clip740)\" style=\"stroke:#000000; stroke-linecap:round; stroke-linejoin:round; stroke-width:4; stroke-opacity:1; fill:none\" points=\"2290.95,1486.45 2290.95,1467.55 \"/>\n",
       "<path clip-path=\"url(#clip740)\" d=\"M184.985 1532.02 L214.661 1532.02 L214.661 1535.95 L184.985 1535.95 L184.985 1532.02 Z\" fill=\"#000000\" fill-rule=\"evenodd\" fill-opacity=\"1\" /><path clip-path=\"url(#clip740)\" d=\"M225.564 1544.91 L233.202 1544.91 L233.202 1518.55 L224.892 1520.21 L224.892 1515.95 L233.156 1514.29 L237.832 1514.29 L237.832 1544.91 L245.471 1544.91 L245.471 1548.85 L225.564 1548.85 L225.564 1544.91 Z\" fill=\"#000000\" fill-rule=\"evenodd\" fill-opacity=\"1\" /><path clip-path=\"url(#clip740)\" d=\"M264.915 1517.37 Q261.304 1517.37 259.475 1520.93 Q257.67 1524.47 257.67 1531.6 Q257.67 1538.71 259.475 1542.27 Q261.304 1545.82 264.915 1545.82 Q268.549 1545.82 270.355 1542.27 Q272.184 1538.71 272.184 1531.6 Q272.184 1524.47 270.355 1520.93 Q268.549 1517.37 264.915 1517.37 M264.915 1513.66 Q270.725 1513.66 273.781 1518.27 Q276.86 1522.85 276.86 1531.6 Q276.86 1540.33 273.781 1544.94 Q270.725 1549.52 264.915 1549.52 Q259.105 1549.52 256.026 1544.94 Q252.971 1540.33 252.971 1531.6 Q252.971 1522.85 256.026 1518.27 Q259.105 1513.66 264.915 1513.66 Z\" fill=\"#000000\" fill-rule=\"evenodd\" fill-opacity=\"1\" /><path clip-path=\"url(#clip740)\" d=\"M715.572 1532.02 L745.248 1532.02 L745.248 1535.95 L715.572 1535.95 L715.572 1532.02 Z\" fill=\"#000000\" fill-rule=\"evenodd\" fill-opacity=\"1\" /><path clip-path=\"url(#clip740)\" d=\"M755.386 1514.29 L773.743 1514.29 L773.743 1518.22 L759.669 1518.22 L759.669 1526.7 Q760.687 1526.35 761.706 1526.19 Q762.724 1526 763.743 1526 Q769.53 1526 772.909 1529.17 Q776.289 1532.34 776.289 1537.76 Q776.289 1543.34 772.817 1546.44 Q769.345 1549.52 763.025 1549.52 Q760.849 1549.52 758.581 1549.15 Q756.335 1548.78 753.928 1548.04 L753.928 1543.34 Q756.011 1544.47 758.234 1545.03 Q760.456 1545.58 762.933 1545.58 Q766.937 1545.58 769.275 1543.48 Q771.613 1541.37 771.613 1537.76 Q771.613 1534.15 769.275 1532.04 Q766.937 1529.94 762.933 1529.94 Q761.058 1529.94 759.183 1530.35 Q757.331 1530.77 755.386 1531.65 L755.386 1514.29 Z\" fill=\"#000000\" fill-rule=\"evenodd\" fill-opacity=\"1\" /><path clip-path=\"url(#clip740)\" d=\"M1260.94 1517.37 Q1257.33 1517.37 1255.5 1520.93 Q1253.69 1524.47 1253.69 1531.6 Q1253.69 1538.71 1255.5 1542.27 Q1257.33 1545.82 1260.94 1545.82 Q1264.57 1545.82 1266.38 1542.27 Q1268.21 1538.71 1268.21 1531.6 Q1268.21 1524.47 1266.38 1520.93 Q1264.57 1517.37 1260.94 1517.37 M1260.94 1513.66 Q1266.75 1513.66 1269.8 1518.27 Q1272.88 1522.85 1272.88 1531.6 Q1272.88 1540.33 1269.8 1544.94 Q1266.75 1549.52 1260.94 1549.52 Q1255.13 1549.52 1252.05 1544.94 Q1248.99 1540.33 1248.99 1531.6 Q1248.99 1522.85 1252.05 1518.27 Q1255.13 1513.66 1260.94 1513.66 Z\" fill=\"#000000\" fill-rule=\"evenodd\" fill-opacity=\"1\" /><path clip-path=\"url(#clip740)\" d=\"M1766.22 1514.29 L1784.58 1514.29 L1784.58 1518.22 L1770.51 1518.22 L1770.51 1526.7 Q1771.53 1526.35 1772.54 1526.19 Q1773.56 1526 1774.58 1526 Q1780.37 1526 1783.75 1529.17 Q1787.13 1532.34 1787.13 1537.76 Q1787.13 1543.34 1783.66 1546.44 Q1780.18 1549.52 1773.86 1549.52 Q1771.69 1549.52 1769.42 1549.15 Q1767.17 1548.78 1764.77 1548.04 L1764.77 1543.34 Q1766.85 1544.47 1769.07 1545.03 Q1771.29 1545.58 1773.77 1545.58 Q1777.78 1545.58 1780.11 1543.48 Q1782.45 1541.37 1782.45 1537.76 Q1782.45 1534.15 1780.11 1532.04 Q1777.78 1529.94 1773.77 1529.94 Q1771.9 1529.94 1770.02 1530.35 Q1768.17 1530.77 1766.22 1531.65 L1766.22 1514.29 Z\" fill=\"#000000\" fill-rule=\"evenodd\" fill-opacity=\"1\" /><path clip-path=\"url(#clip740)\" d=\"M2265.64 1544.91 L2273.28 1544.91 L2273.28 1518.55 L2264.97 1520.21 L2264.97 1515.95 L2273.24 1514.29 L2277.91 1514.29 L2277.91 1544.91 L2285.55 1544.91 L2285.55 1548.85 L2265.64 1548.85 L2265.64 1544.91 Z\" fill=\"#000000\" fill-rule=\"evenodd\" fill-opacity=\"1\" /><path clip-path=\"url(#clip740)\" d=\"M2304.99 1517.37 Q2301.38 1517.37 2299.55 1520.93 Q2297.75 1524.47 2297.75 1531.6 Q2297.75 1538.71 2299.55 1542.27 Q2301.38 1545.82 2304.99 1545.82 Q2308.63 1545.82 2310.43 1542.27 Q2312.26 1538.71 2312.26 1531.6 Q2312.26 1524.47 2310.43 1520.93 Q2308.63 1517.37 2304.99 1517.37 M2304.99 1513.66 Q2310.8 1513.66 2313.86 1518.27 Q2316.94 1522.85 2316.94 1531.6 Q2316.94 1540.33 2313.86 1544.94 Q2310.8 1549.52 2304.99 1549.52 Q2299.18 1549.52 2296.11 1544.94 Q2293.05 1540.33 2293.05 1531.6 Q2293.05 1522.85 2296.11 1518.27 Q2299.18 1513.66 2304.99 1513.66 Z\" fill=\"#000000\" fill-rule=\"evenodd\" fill-opacity=\"1\" /><polyline clip-path=\"url(#clip742)\" style=\"stroke:#000000; stroke-linecap:round; stroke-linejoin:round; stroke-width:2; stroke-opacity:0.1; fill:none\" points=\"169.121,1245.68 2352.76,1245.68 \"/>\n",
       "<polyline clip-path=\"url(#clip742)\" style=\"stroke:#000000; stroke-linecap:round; stroke-linejoin:round; stroke-width:2; stroke-opacity:0.1; fill:none\" points=\"169.121,974.342 2352.76,974.342 \"/>\n",
       "<polyline clip-path=\"url(#clip742)\" style=\"stroke:#000000; stroke-linecap:round; stroke-linejoin:round; stroke-width:2; stroke-opacity:0.1; fill:none\" points=\"169.121,703.005 2352.76,703.005 \"/>\n",
       "<polyline clip-path=\"url(#clip742)\" style=\"stroke:#000000; stroke-linecap:round; stroke-linejoin:round; stroke-width:2; stroke-opacity:0.1; fill:none\" points=\"169.121,431.669 2352.76,431.669 \"/>\n",
       "<polyline clip-path=\"url(#clip742)\" style=\"stroke:#000000; stroke-linecap:round; stroke-linejoin:round; stroke-width:2; stroke-opacity:0.1; fill:none\" points=\"169.121,160.333 2352.76,160.333 \"/>\n",
       "<polyline clip-path=\"url(#clip740)\" style=\"stroke:#000000; stroke-linecap:round; stroke-linejoin:round; stroke-width:4; stroke-opacity:1; fill:none\" points=\"169.121,1486.45 169.121,47.2441 \"/>\n",
       "<polyline clip-path=\"url(#clip740)\" style=\"stroke:#000000; stroke-linecap:round; stroke-linejoin:round; stroke-width:4; stroke-opacity:1; fill:none\" points=\"169.121,1245.68 188.019,1245.68 \"/>\n",
       "<polyline clip-path=\"url(#clip740)\" style=\"stroke:#000000; stroke-linecap:round; stroke-linejoin:round; stroke-width:4; stroke-opacity:1; fill:none\" points=\"169.121,974.342 188.019,974.342 \"/>\n",
       "<polyline clip-path=\"url(#clip740)\" style=\"stroke:#000000; stroke-linecap:round; stroke-linejoin:round; stroke-width:4; stroke-opacity:1; fill:none\" points=\"169.121,703.005 188.019,703.005 \"/>\n",
       "<polyline clip-path=\"url(#clip740)\" style=\"stroke:#000000; stroke-linecap:round; stroke-linejoin:round; stroke-width:4; stroke-opacity:1; fill:none\" points=\"169.121,431.669 188.019,431.669 \"/>\n",
       "<polyline clip-path=\"url(#clip740)\" style=\"stroke:#000000; stroke-linecap:round; stroke-linejoin:round; stroke-width:4; stroke-opacity:1; fill:none\" points=\"169.121,160.333 188.019,160.333 \"/>\n",
       "<path clip-path=\"url(#clip740)\" d=\"M121.177 1231.48 Q117.566 1231.48 115.737 1235.04 Q113.932 1238.58 113.932 1245.71 Q113.932 1252.82 115.737 1256.38 Q117.566 1259.93 121.177 1259.93 Q124.811 1259.93 126.617 1256.38 Q128.445 1252.82 128.445 1245.71 Q128.445 1238.58 126.617 1235.04 Q124.811 1231.48 121.177 1231.48 M121.177 1227.77 Q126.987 1227.77 130.043 1232.38 Q133.121 1236.96 133.121 1245.71 Q133.121 1254.44 130.043 1259.05 Q126.987 1263.63 121.177 1263.63 Q115.367 1263.63 112.288 1259.05 Q109.233 1254.44 109.233 1245.71 Q109.233 1236.96 112.288 1232.38 Q115.367 1227.77 121.177 1227.77 Z\" fill=\"#000000\" fill-rule=\"evenodd\" fill-opacity=\"1\" /><path clip-path=\"url(#clip740)\" d=\"M95.1817 972.988 Q98.5382 973.705 100.413 975.974 Q102.311 978.242 102.311 981.575 Q102.311 986.691 98.7928 989.492 Q95.2743 992.293 88.7928 992.293 Q86.6169 992.293 84.3021 991.853 Q82.0105 991.436 79.5568 990.58 L79.5568 986.066 Q81.5012 987.2 83.816 987.779 Q86.1308 988.358 88.654 988.358 Q93.0521 988.358 95.3437 986.622 Q97.6585 984.886 97.6585 981.575 Q97.6585 978.52 95.5058 976.807 Q93.3762 975.071 89.5567 975.071 L85.529 975.071 L85.529 971.228 L89.7419 971.228 Q93.191 971.228 95.0197 969.863 Q96.8484 968.474 96.8484 965.881 Q96.8484 963.219 94.9502 961.807 Q93.0752 960.372 89.5567 960.372 Q87.6354 960.372 85.4364 960.789 Q83.2373 961.205 80.5984 962.085 L80.5984 957.918 Q83.2605 957.177 85.5753 956.807 Q87.9132 956.437 89.9734 956.437 Q95.2974 956.437 98.3993 958.867 Q101.501 961.275 101.501 965.395 Q101.501 968.265 99.8576 970.256 Q98.2141 972.224 95.1817 972.988 Z\" fill=\"#000000\" fill-rule=\"evenodd\" fill-opacity=\"1\" /><path clip-path=\"url(#clip740)\" d=\"M121.177 960.14 Q117.566 960.14 115.737 963.705 Q113.932 967.247 113.932 974.376 Q113.932 981.483 115.737 985.048 Q117.566 988.589 121.177 988.589 Q124.811 988.589 126.617 985.048 Q128.445 981.483 128.445 974.376 Q128.445 967.247 126.617 963.705 Q124.811 960.14 121.177 960.14 M121.177 956.437 Q126.987 956.437 130.043 961.043 Q133.121 965.626 133.121 974.376 Q133.121 983.103 130.043 987.71 Q126.987 992.293 121.177 992.293 Q115.367 992.293 112.288 987.71 Q109.233 983.103 109.233 974.376 Q109.233 965.626 112.288 961.043 Q115.367 956.437 121.177 956.437 Z\" fill=\"#000000\" fill-rule=\"evenodd\" fill-opacity=\"1\" /><path clip-path=\"url(#clip740)\" d=\"M91.5938 701.142 Q88.4456 701.142 86.5938 703.295 Q84.7651 705.447 84.7651 709.197 Q84.7651 712.924 86.5938 715.1 Q88.4456 717.253 91.5938 717.253 Q94.7419 717.253 96.5706 715.1 Q98.4224 712.924 98.4224 709.197 Q98.4224 705.447 96.5706 703.295 Q94.7419 701.142 91.5938 701.142 M100.876 686.489 L100.876 690.748 Q99.1169 689.915 97.3113 689.475 Q95.5289 689.036 93.7697 689.036 Q89.1401 689.036 86.6864 692.16 Q84.2558 695.285 83.9086 701.605 Q85.2743 699.591 87.3345 698.526 Q89.3947 697.438 91.8715 697.438 Q97.0798 697.438 100.089 700.61 Q103.121 703.758 103.121 709.197 Q103.121 714.521 99.9733 717.739 Q96.8252 720.957 91.5938 720.957 Q85.5984 720.957 82.4271 716.373 Q79.2559 711.767 79.2559 703.04 Q79.2559 694.846 83.1447 689.985 Q87.0336 685.1 93.5845 685.1 Q95.3437 685.1 97.1261 685.448 Q98.9317 685.795 100.876 686.489 Z\" fill=\"#000000\" fill-rule=\"evenodd\" fill-opacity=\"1\" /><path clip-path=\"url(#clip740)\" d=\"M121.177 688.804 Q117.566 688.804 115.737 692.369 Q113.932 695.91 113.932 703.04 Q113.932 710.146 115.737 713.711 Q117.566 717.253 121.177 717.253 Q124.811 717.253 126.617 713.711 Q128.445 710.146 128.445 703.04 Q128.445 695.91 126.617 692.369 Q124.811 688.804 121.177 688.804 M121.177 685.1 Q126.987 685.1 130.043 689.707 Q133.121 694.29 133.121 703.04 Q133.121 711.767 130.043 716.373 Q126.987 720.957 121.177 720.957 Q115.367 720.957 112.288 716.373 Q109.233 711.767 109.233 703.04 Q109.233 694.29 112.288 689.707 Q115.367 685.1 121.177 685.1 Z\" fill=\"#000000\" fill-rule=\"evenodd\" fill-opacity=\"1\" /><path clip-path=\"url(#clip740)\" d=\"M81.154 448.231 L81.154 443.972 Q82.9133 444.805 84.7188 445.245 Q86.5243 445.685 88.2604 445.685 Q92.89 445.685 95.3206 442.583 Q97.7743 439.458 98.1215 433.116 Q96.7789 435.106 94.7187 436.171 Q92.6586 437.236 90.1586 437.236 Q84.9734 437.236 81.941 434.111 Q78.9318 430.963 78.9318 425.523 Q78.9318 420.199 82.0799 416.982 Q85.2281 413.764 90.4595 413.764 Q96.4548 413.764 99.603 418.37 Q102.774 422.954 102.774 431.704 Q102.774 439.875 98.8854 444.759 Q95.0197 449.62 88.4688 449.62 Q86.7095 449.62 84.904 449.273 Q83.0984 448.926 81.154 448.231 M90.4595 433.579 Q93.6076 433.579 95.4363 431.426 Q97.2882 429.273 97.2882 425.523 Q97.2882 421.796 95.4363 419.644 Q93.6076 417.468 90.4595 417.468 Q87.3114 417.468 85.4595 419.644 Q83.6308 421.796 83.6308 425.523 Q83.6308 429.273 85.4595 431.426 Q87.3114 433.579 90.4595 433.579 Z\" fill=\"#000000\" fill-rule=\"evenodd\" fill-opacity=\"1\" /><path clip-path=\"url(#clip740)\" d=\"M121.177 417.468 Q117.566 417.468 115.737 421.032 Q113.932 424.574 113.932 431.704 Q113.932 438.81 115.737 442.375 Q117.566 445.917 121.177 445.917 Q124.811 445.917 126.617 442.375 Q128.445 438.81 128.445 431.704 Q128.445 424.574 126.617 421.032 Q124.811 417.468 121.177 417.468 M121.177 413.764 Q126.987 413.764 130.043 418.37 Q133.121 422.954 133.121 431.704 Q133.121 440.431 130.043 445.037 Q126.987 449.62 121.177 449.62 Q115.367 449.62 112.288 445.037 Q109.233 440.431 109.233 431.704 Q109.233 422.954 112.288 418.37 Q115.367 413.764 121.177 413.764 Z\" fill=\"#000000\" fill-rule=\"evenodd\" fill-opacity=\"1\" /><path clip-path=\"url(#clip740)\" d=\"M51.6634 173.677 L59.3023 173.677 L59.3023 147.312 L50.9921 148.979 L50.9921 144.719 L59.256 143.053 L63.9319 143.053 L63.9319 173.677 L71.5707 173.677 L71.5707 177.613 L51.6634 177.613 L51.6634 173.677 Z\" fill=\"#000000\" fill-rule=\"evenodd\" fill-opacity=\"1\" /><path clip-path=\"url(#clip740)\" d=\"M85.0429 173.677 L101.362 173.677 L101.362 177.613 L79.4179 177.613 L79.4179 173.677 Q82.0799 170.923 86.6632 166.293 Q91.2697 161.64 92.4502 160.298 Q94.6956 157.775 95.5752 156.039 Q96.478 154.279 96.478 152.59 Q96.478 149.835 94.5336 148.099 Q92.6123 146.363 89.5104 146.363 Q87.3114 146.363 84.8577 147.127 Q82.4271 147.891 79.6494 149.441 L79.6494 144.719 Q82.4734 143.585 84.9271 143.006 Q87.3808 142.428 89.4178 142.428 Q94.7882 142.428 97.9826 145.113 Q101.177 147.798 101.177 152.289 Q101.177 154.418 100.367 156.34 Q99.5798 158.238 97.4734 160.83 Q96.8947 161.502 93.7928 164.719 Q90.691 167.914 85.0429 173.677 Z\" fill=\"#000000\" fill-rule=\"evenodd\" fill-opacity=\"1\" /><path clip-path=\"url(#clip740)\" d=\"M121.177 146.131 Q117.566 146.131 115.737 149.696 Q113.932 153.238 113.932 160.367 Q113.932 167.474 115.737 171.039 Q117.566 174.58 121.177 174.58 Q124.811 174.58 126.617 171.039 Q128.445 167.474 128.445 160.367 Q128.445 153.238 126.617 149.696 Q124.811 146.131 121.177 146.131 M121.177 142.428 Q126.987 142.428 130.043 147.034 Q133.121 151.617 133.121 160.367 Q133.121 169.094 130.043 173.701 Q126.987 178.284 121.177 178.284 Q115.367 178.284 112.288 173.701 Q109.233 169.094 109.233 160.367 Q109.233 151.617 112.288 147.034 Q115.367 142.428 121.177 142.428 Z\" fill=\"#000000\" fill-rule=\"evenodd\" fill-opacity=\"1\" /><circle clip-path=\"url(#clip742)\" cx=\"230.922\" cy=\"668.942\" r=\"14.4\" fill=\"#009af9\" fill-rule=\"evenodd\" fill-opacity=\"1\" stroke=\"#000000\" stroke-opacity=\"1\" stroke-width=\"3.2\"/>\n",
       "<circle clip-path=\"url(#clip742)\" cx=\"333.924\" cy=\"816.956\" r=\"14.4\" fill=\"#009af9\" fill-rule=\"evenodd\" fill-opacity=\"1\" stroke=\"#000000\" stroke-opacity=\"1\" stroke-width=\"3.2\"/>\n",
       "<circle clip-path=\"url(#clip742)\" cx=\"436.926\" cy=\"817.118\" r=\"14.4\" fill=\"#009af9\" fill-rule=\"evenodd\" fill-opacity=\"1\" stroke=\"#000000\" stroke-opacity=\"1\" stroke-width=\"3.2\"/>\n",
       "<circle clip-path=\"url(#clip742)\" cx=\"539.927\" cy=\"1014.32\" r=\"14.4\" fill=\"#009af9\" fill-rule=\"evenodd\" fill-opacity=\"1\" stroke=\"#000000\" stroke-opacity=\"1\" stroke-width=\"3.2\"/>\n",
       "<circle clip-path=\"url(#clip742)\" cx=\"642.929\" cy=\"1170.47\" r=\"14.4\" fill=\"#009af9\" fill-rule=\"evenodd\" fill-opacity=\"1\" stroke=\"#000000\" stroke-opacity=\"1\" stroke-width=\"3.2\"/>\n",
       "<circle clip-path=\"url(#clip742)\" cx=\"745.93\" cy=\"1308.9\" r=\"14.4\" fill=\"#009af9\" fill-rule=\"evenodd\" fill-opacity=\"1\" stroke=\"#000000\" stroke-opacity=\"1\" stroke-width=\"3.2\"/>\n",
       "<circle clip-path=\"url(#clip742)\" cx=\"848.932\" cy=\"1196.94\" r=\"14.4\" fill=\"#009af9\" fill-rule=\"evenodd\" fill-opacity=\"1\" stroke=\"#000000\" stroke-opacity=\"1\" stroke-width=\"3.2\"/>\n",
       "<circle clip-path=\"url(#clip742)\" cx=\"951.934\" cy=\"1445.72\" r=\"14.4\" fill=\"#009af9\" fill-rule=\"evenodd\" fill-opacity=\"1\" stroke=\"#000000\" stroke-opacity=\"1\" stroke-width=\"3.2\"/>\n",
       "<circle clip-path=\"url(#clip742)\" cx=\"1054.94\" cy=\"1211.18\" r=\"14.4\" fill=\"#009af9\" fill-rule=\"evenodd\" fill-opacity=\"1\" stroke=\"#000000\" stroke-opacity=\"1\" stroke-width=\"3.2\"/>\n",
       "<circle clip-path=\"url(#clip742)\" cx=\"1157.94\" cy=\"1359.23\" r=\"14.4\" fill=\"#009af9\" fill-rule=\"evenodd\" fill-opacity=\"1\" stroke=\"#000000\" stroke-opacity=\"1\" stroke-width=\"3.2\"/>\n",
       "<circle clip-path=\"url(#clip742)\" cx=\"1260.94\" cy=\"1377.71\" r=\"14.4\" fill=\"#009af9\" fill-rule=\"evenodd\" fill-opacity=\"1\" stroke=\"#000000\" stroke-opacity=\"1\" stroke-width=\"3.2\"/>\n",
       "<circle clip-path=\"url(#clip742)\" cx=\"1363.94\" cy=\"1377.14\" r=\"14.4\" fill=\"#009af9\" fill-rule=\"evenodd\" fill-opacity=\"1\" stroke=\"#000000\" stroke-opacity=\"1\" stroke-width=\"3.2\"/>\n",
       "<circle clip-path=\"url(#clip742)\" cx=\"1466.94\" cy=\"1016.53\" r=\"14.4\" fill=\"#009af9\" fill-rule=\"evenodd\" fill-opacity=\"1\" stroke=\"#000000\" stroke-opacity=\"1\" stroke-width=\"3.2\"/>\n",
       "<circle clip-path=\"url(#clip742)\" cx=\"1569.94\" cy=\"1076.85\" r=\"14.4\" fill=\"#009af9\" fill-rule=\"evenodd\" fill-opacity=\"1\" stroke=\"#000000\" stroke-opacity=\"1\" stroke-width=\"3.2\"/>\n",
       "<circle clip-path=\"url(#clip742)\" cx=\"1672.95\" cy=\"1079.07\" r=\"14.4\" fill=\"#009af9\" fill-rule=\"evenodd\" fill-opacity=\"1\" stroke=\"#000000\" stroke-opacity=\"1\" stroke-width=\"3.2\"/>\n",
       "<circle clip-path=\"url(#clip742)\" cx=\"1775.95\" cy=\"866.268\" r=\"14.4\" fill=\"#009af9\" fill-rule=\"evenodd\" fill-opacity=\"1\" stroke=\"#000000\" stroke-opacity=\"1\" stroke-width=\"3.2\"/>\n",
       "<circle clip-path=\"url(#clip742)\" cx=\"1878.95\" cy=\"756.357\" r=\"14.4\" fill=\"#009af9\" fill-rule=\"evenodd\" fill-opacity=\"1\" stroke=\"#000000\" stroke-opacity=\"1\" stroke-width=\"3.2\"/>\n",
       "<circle clip-path=\"url(#clip742)\" cx=\"1981.95\" cy=\"716.014\" r=\"14.4\" fill=\"#009af9\" fill-rule=\"evenodd\" fill-opacity=\"1\" stroke=\"#000000\" stroke-opacity=\"1\" stroke-width=\"3.2\"/>\n",
       "<circle clip-path=\"url(#clip742)\" cx=\"2084.95\" cy=\"500.885\" r=\"14.4\" fill=\"#009af9\" fill-rule=\"evenodd\" fill-opacity=\"1\" stroke=\"#000000\" stroke-opacity=\"1\" stroke-width=\"3.2\"/>\n",
       "<circle clip-path=\"url(#clip742)\" cx=\"2187.95\" cy=\"201.137\" r=\"14.4\" fill=\"#009af9\" fill-rule=\"evenodd\" fill-opacity=\"1\" stroke=\"#000000\" stroke-opacity=\"1\" stroke-width=\"3.2\"/>\n",
       "<circle clip-path=\"url(#clip742)\" cx=\"2290.95\" cy=\"102.307\" r=\"14.4\" fill=\"#009af9\" fill-rule=\"evenodd\" fill-opacity=\"1\" stroke=\"#000000\" stroke-opacity=\"1\" stroke-width=\"3.2\"/>\n",
       "<polyline clip-path=\"url(#clip742)\" style=\"stroke:#e26f46; stroke-linecap:round; stroke-linejoin:round; stroke-width:4; stroke-opacity:1; fill:none\" points=\"230.922,630.649 333.924,775.362 436.926,901.985 539.927,1010.52 642.929,1100.97 745.93,1173.32 848.932,1227.59 951.934,1263.77 1054.94,1281.86 1157.94,1281.86 1260.94,1263.77 1363.94,1227.59 1466.94,1173.32 1569.94,1100.97 1672.95,1010.52 1775.95,901.985 1878.95,775.362 1981.95,630.649 2084.95,467.847 2187.95,286.956 2290.95,87.9763 \"/>\n",
       "<polyline clip-path=\"url(#clip742)\" style=\"stroke:#3da44d; stroke-linecap:round; stroke-linejoin:round; stroke-width:4; stroke-opacity:1; fill:none\" points=\"230.922,671.22 333.924,804.416 436.926,840.662 539.927,1000.88 642.929,1172.12 745.93,1270.31 848.932,1300.39 951.934,1307.86 1054.94,1324.12 1157.94,1344.71 1260.94,1341.07 1363.94,1288.24 1466.94,1187.01 1569.94,1066.07 1672.95,962.182 1775.95,889.731 1878.95,820.404 1981.95,694.818 2084.95,475.43 2187.95,219.637 2290.95,98.7544 \"/>\n",
       "<path clip-path=\"url(#clip740)\" d=\"M241.909 302.578 L513.282 302.578 L513.282 95.2176 L241.909 95.2176  Z\" fill=\"#ffffff\" fill-rule=\"evenodd\" fill-opacity=\"1\"/>\n",
       "<polyline clip-path=\"url(#clip740)\" style=\"stroke:#000000; stroke-linecap:round; stroke-linejoin:round; stroke-width:4; stroke-opacity:1; fill:none\" points=\"241.909,302.578 513.282,302.578 513.282,95.2176 241.909,95.2176 241.909,302.578 \"/>\n",
       "<circle clip-path=\"url(#clip740)\" cx=\"338.96\" cy=\"147.058\" r=\"23.04\" fill=\"#009af9\" fill-rule=\"evenodd\" fill-opacity=\"1\" stroke=\"#000000\" stroke-opacity=\"1\" stroke-width=\"5.12\"/>\n",
       "<path clip-path=\"url(#clip740)\" d=\"M449.853 166.745 Q448.047 171.375 446.334 172.787 Q444.621 174.199 441.751 174.199 L438.348 174.199 L438.348 170.634 L440.848 170.634 Q442.607 170.634 443.579 169.8 Q444.552 168.967 445.732 165.865 L446.496 163.921 L436.01 138.412 L440.524 138.412 L448.626 158.689 L456.727 138.412 L461.241 138.412 L449.853 166.745 Z\" fill=\"#000000\" fill-rule=\"evenodd\" fill-opacity=\"1\" /><path clip-path=\"url(#clip740)\" d=\"M468.533 160.402 L476.172 160.402 L476.172 134.037 L467.862 135.703 L467.862 131.444 L476.126 129.778 L480.801 129.778 L480.801 160.402 L488.44 160.402 L488.44 164.338 L468.533 164.338 L468.533 160.402 Z\" fill=\"#000000\" fill-rule=\"evenodd\" fill-opacity=\"1\" /><polyline clip-path=\"url(#clip740)\" style=\"stroke:#e26f46; stroke-linecap:round; stroke-linejoin:round; stroke-width:4; stroke-opacity:1; fill:none\" points=\"266.172,198.898 411.747,198.898 \"/>\n",
       "<path clip-path=\"url(#clip740)\" d=\"M449.853 218.585 Q448.047 223.215 446.334 224.627 Q444.621 226.039 441.751 226.039 L438.348 226.039 L438.348 222.474 L440.848 222.474 Q442.607 222.474 443.579 221.64 Q444.552 220.807 445.732 217.705 L446.496 215.761 L436.01 190.252 L440.524 190.252 L448.626 210.529 L456.727 190.252 L461.241 190.252 L449.853 218.585 Z\" fill=\"#000000\" fill-rule=\"evenodd\" fill-opacity=\"1\" /><path clip-path=\"url(#clip740)\" d=\"M471.751 212.242 L488.07 212.242 L488.07 216.178 L466.126 216.178 L466.126 212.242 Q468.788 209.488 473.371 204.858 Q477.977 200.205 479.158 198.863 Q481.403 196.34 482.283 194.604 Q483.186 192.844 483.186 191.155 Q483.186 188.4 481.241 186.664 Q479.32 184.928 476.218 184.928 Q474.019 184.928 471.565 185.692 Q469.135 186.455 466.357 188.006 L466.357 183.284 Q469.181 182.15 471.635 181.571 Q474.088 180.993 476.126 180.993 Q481.496 180.993 484.69 183.678 Q487.885 186.363 487.885 190.854 Q487.885 192.983 487.075 194.905 Q486.287 196.803 484.181 199.395 Q483.602 200.067 480.5 203.284 Q477.399 206.479 471.751 212.242 Z\" fill=\"#000000\" fill-rule=\"evenodd\" fill-opacity=\"1\" /><polyline clip-path=\"url(#clip740)\" style=\"stroke:#3da44d; stroke-linecap:round; stroke-linejoin:round; stroke-width:4; stroke-opacity:1; fill:none\" points=\"266.172,250.738 411.747,250.738 \"/>\n",
       "<path clip-path=\"url(#clip740)\" d=\"M449.853 270.425 Q448.047 275.055 446.334 276.467 Q444.621 277.879 441.751 277.879 L438.348 277.879 L438.348 274.314 L440.848 274.314 Q442.607 274.314 443.579 273.48 Q444.552 272.647 445.732 269.545 L446.496 267.601 L436.01 242.092 L440.524 242.092 L448.626 262.369 L456.727 242.092 L461.241 242.092 L449.853 270.425 Z\" fill=\"#000000\" fill-rule=\"evenodd\" fill-opacity=\"1\" /><path clip-path=\"url(#clip740)\" d=\"M481.889 249.383 Q485.246 250.101 487.121 252.369 Q489.019 254.638 489.019 257.971 Q489.019 263.087 485.5 265.888 Q481.982 268.689 475.501 268.689 Q473.325 268.689 471.01 268.249 Q468.718 267.832 466.264 266.976 L466.264 262.462 Q468.209 263.596 470.524 264.175 Q472.838 264.754 475.362 264.754 Q479.76 264.754 482.051 263.018 Q484.366 261.281 484.366 257.971 Q484.366 254.916 482.213 253.203 Q480.084 251.467 476.264 251.467 L472.237 251.467 L472.237 247.624 L476.45 247.624 Q479.899 247.624 481.727 246.258 Q483.556 244.87 483.556 242.277 Q483.556 239.615 481.658 238.203 Q479.783 236.768 476.264 236.768 Q474.343 236.768 472.144 237.184 Q469.945 237.601 467.306 238.481 L467.306 234.314 Q469.968 233.573 472.283 233.203 Q474.621 232.833 476.681 232.833 Q482.005 232.833 485.107 235.263 Q488.209 237.67 488.209 241.791 Q488.209 244.661 486.565 246.652 Q484.922 248.62 481.889 249.383 Z\" fill=\"#000000\" fill-rule=\"evenodd\" fill-opacity=\"1\" /></svg>\n"
      ]
     },
     "execution_count": 32,
     "metadata": {},
     "output_type": "execute_result"
    }
   ],
   "source": [
    "d = Normal(0,10)\n",
    "gaussian = rand(d,21)\n",
    "y_observed = y_true .+ gaussian\n",
    "\n",
    "scatter(x, y_observed)\n",
    "plot!(x, y_true)\n",
    "line_fit = Polynomials.fit(x,y_observed,10)\n",
    "y_fit = line_fit.(x)\n",
    "plot!(x, y_fit)"
   ]
  },
  {
   "cell_type": "code",
   "execution_count": 33,
   "id": "a4d27077",
   "metadata": {},
   "outputs": [
    {
     "data": {
      "image/svg+xml": [
       "<?xml version=\"1.0\" encoding=\"utf-8\"?>\n",
       "<svg xmlns=\"http://www.w3.org/2000/svg\" xmlns:xlink=\"http://www.w3.org/1999/xlink\" width=\"600\" height=\"400\" viewBox=\"0 0 2400 1600\">\n",
       "<defs>\n",
       "  <clipPath id=\"clip780\">\n",
       "    <rect x=\"0\" y=\"0\" width=\"2400\" height=\"1600\"/>\n",
       "  </clipPath>\n",
       "</defs>\n",
       "<path clip-path=\"url(#clip780)\" d=\"M0 1600 L2400 1600 L2400 0 L0 0  Z\" fill=\"#ffffff\" fill-rule=\"evenodd\" fill-opacity=\"1\"/>\n",
       "<defs>\n",
       "  <clipPath id=\"clip781\">\n",
       "    <rect x=\"480\" y=\"0\" width=\"1681\" height=\"1600\"/>\n",
       "  </clipPath>\n",
       "</defs>\n",
       "<path clip-path=\"url(#clip780)\" d=\"M178.867 1486.45 L2352.76 1486.45 L2352.76 47.2441 L178.867 47.2441  Z\" fill=\"#ffffff\" fill-rule=\"evenodd\" fill-opacity=\"1\"/>\n",
       "<defs>\n",
       "  <clipPath id=\"clip782\">\n",
       "    <rect x=\"178\" y=\"47\" width=\"2175\" height=\"1440\"/>\n",
       "  </clipPath>\n",
       "</defs>\n",
       "<polyline clip-path=\"url(#clip782)\" style=\"stroke:#000000; stroke-linecap:round; stroke-linejoin:round; stroke-width:2; stroke-opacity:0.1; fill:none\" points=\"240.392,1486.45 240.392,47.2441 \"/>\n",
       "<polyline clip-path=\"url(#clip782)\" style=\"stroke:#000000; stroke-linecap:round; stroke-linejoin:round; stroke-width:2; stroke-opacity:0.1; fill:none\" points=\"753.102,1486.45 753.102,47.2441 \"/>\n",
       "<polyline clip-path=\"url(#clip782)\" style=\"stroke:#000000; stroke-linecap:round; stroke-linejoin:round; stroke-width:2; stroke-opacity:0.1; fill:none\" points=\"1265.81,1486.45 1265.81,47.2441 \"/>\n",
       "<polyline clip-path=\"url(#clip782)\" style=\"stroke:#000000; stroke-linecap:round; stroke-linejoin:round; stroke-width:2; stroke-opacity:0.1; fill:none\" points=\"1778.52,1486.45 1778.52,47.2441 \"/>\n",
       "<polyline clip-path=\"url(#clip782)\" style=\"stroke:#000000; stroke-linecap:round; stroke-linejoin:round; stroke-width:2; stroke-opacity:0.1; fill:none\" points=\"2291.23,1486.45 2291.23,47.2441 \"/>\n",
       "<polyline clip-path=\"url(#clip780)\" style=\"stroke:#000000; stroke-linecap:round; stroke-linejoin:round; stroke-width:4; stroke-opacity:1; fill:none\" points=\"178.867,1486.45 2352.76,1486.45 \"/>\n",
       "<polyline clip-path=\"url(#clip780)\" style=\"stroke:#000000; stroke-linecap:round; stroke-linejoin:round; stroke-width:4; stroke-opacity:1; fill:none\" points=\"240.392,1486.45 240.392,1467.55 \"/>\n",
       "<polyline clip-path=\"url(#clip780)\" style=\"stroke:#000000; stroke-linecap:round; stroke-linejoin:round; stroke-width:4; stroke-opacity:1; fill:none\" points=\"753.102,1486.45 753.102,1467.55 \"/>\n",
       "<polyline clip-path=\"url(#clip780)\" style=\"stroke:#000000; stroke-linecap:round; stroke-linejoin:round; stroke-width:4; stroke-opacity:1; fill:none\" points=\"1265.81,1486.45 1265.81,1467.55 \"/>\n",
       "<polyline clip-path=\"url(#clip780)\" style=\"stroke:#000000; stroke-linecap:round; stroke-linejoin:round; stroke-width:4; stroke-opacity:1; fill:none\" points=\"1778.52,1486.45 1778.52,1467.55 \"/>\n",
       "<polyline clip-path=\"url(#clip780)\" style=\"stroke:#000000; stroke-linecap:round; stroke-linejoin:round; stroke-width:4; stroke-opacity:1; fill:none\" points=\"2291.23,1486.45 2291.23,1467.55 \"/>\n",
       "<path clip-path=\"url(#clip780)\" d=\"M194.455 1532.02 L224.13 1532.02 L224.13 1535.95 L194.455 1535.95 L194.455 1532.02 Z\" fill=\"#000000\" fill-rule=\"evenodd\" fill-opacity=\"1\" /><path clip-path=\"url(#clip780)\" d=\"M235.033 1544.91 L242.672 1544.91 L242.672 1518.55 L234.362 1520.21 L234.362 1515.95 L242.626 1514.29 L247.301 1514.29 L247.301 1544.91 L254.94 1544.91 L254.94 1548.85 L235.033 1548.85 L235.033 1544.91 Z\" fill=\"#000000\" fill-rule=\"evenodd\" fill-opacity=\"1\" /><path clip-path=\"url(#clip780)\" d=\"M274.385 1517.37 Q270.774 1517.37 268.945 1520.93 Q267.139 1524.47 267.139 1531.6 Q267.139 1538.71 268.945 1542.27 Q270.774 1545.82 274.385 1545.82 Q278.019 1545.82 279.824 1542.27 Q281.653 1538.71 281.653 1531.6 Q281.653 1524.47 279.824 1520.93 Q278.019 1517.37 274.385 1517.37 M274.385 1513.66 Q280.195 1513.66 283.25 1518.27 Q286.329 1522.85 286.329 1531.6 Q286.329 1540.33 283.25 1544.94 Q280.195 1549.52 274.385 1549.52 Q268.575 1549.52 265.496 1544.94 Q262.44 1540.33 262.44 1531.6 Q262.44 1522.85 265.496 1518.27 Q268.575 1513.66 274.385 1513.66 Z\" fill=\"#000000\" fill-rule=\"evenodd\" fill-opacity=\"1\" /><path clip-path=\"url(#clip780)\" d=\"M722.743 1532.02 L752.419 1532.02 L752.419 1535.95 L722.743 1535.95 L722.743 1532.02 Z\" fill=\"#000000\" fill-rule=\"evenodd\" fill-opacity=\"1\" /><path clip-path=\"url(#clip780)\" d=\"M762.558 1514.29 L780.914 1514.29 L780.914 1518.22 L766.84 1518.22 L766.84 1526.7 Q767.858 1526.35 768.877 1526.19 Q769.895 1526 770.914 1526 Q776.701 1526 780.081 1529.17 Q783.46 1532.34 783.46 1537.76 Q783.46 1543.34 779.988 1546.44 Q776.516 1549.52 770.196 1549.52 Q768.02 1549.52 765.752 1549.15 Q763.507 1548.78 761.099 1548.04 L761.099 1543.34 Q763.183 1544.47 765.405 1545.03 Q767.627 1545.58 770.104 1545.58 Q774.108 1545.58 776.446 1543.48 Q778.784 1541.37 778.784 1537.76 Q778.784 1534.15 776.446 1532.04 Q774.108 1529.94 770.104 1529.94 Q768.229 1529.94 766.354 1530.35 Q764.502 1530.77 762.558 1531.65 L762.558 1514.29 Z\" fill=\"#000000\" fill-rule=\"evenodd\" fill-opacity=\"1\" /><path clip-path=\"url(#clip780)\" d=\"M1265.81 1517.37 Q1262.2 1517.37 1260.37 1520.93 Q1258.57 1524.47 1258.57 1531.6 Q1258.57 1538.71 1260.37 1542.27 Q1262.2 1545.82 1265.81 1545.82 Q1269.45 1545.82 1271.25 1542.27 Q1273.08 1538.71 1273.08 1531.6 Q1273.08 1524.47 1271.25 1520.93 Q1269.45 1517.37 1265.81 1517.37 M1265.81 1513.66 Q1271.62 1513.66 1274.68 1518.27 Q1277.76 1522.85 1277.76 1531.6 Q1277.76 1540.33 1274.68 1544.94 Q1271.62 1549.52 1265.81 1549.52 Q1260 1549.52 1256.92 1544.94 Q1253.87 1540.33 1253.87 1531.6 Q1253.87 1522.85 1256.92 1518.27 Q1260 1513.66 1265.81 1513.66 Z\" fill=\"#000000\" fill-rule=\"evenodd\" fill-opacity=\"1\" /><path clip-path=\"url(#clip780)\" d=\"M1768.8 1514.29 L1787.16 1514.29 L1787.16 1518.22 L1773.08 1518.22 L1773.08 1526.7 Q1774.1 1526.35 1775.12 1526.19 Q1776.14 1526 1777.16 1526 Q1782.94 1526 1786.32 1529.17 Q1789.7 1532.34 1789.7 1537.76 Q1789.7 1543.34 1786.23 1546.44 Q1782.76 1549.52 1776.44 1549.52 Q1774.26 1549.52 1771.99 1549.15 Q1769.75 1548.78 1767.34 1548.04 L1767.34 1543.34 Q1769.42 1544.47 1771.65 1545.03 Q1773.87 1545.58 1776.35 1545.58 Q1780.35 1545.58 1782.69 1543.48 Q1785.03 1541.37 1785.03 1537.76 Q1785.03 1534.15 1782.69 1532.04 Q1780.35 1529.94 1776.35 1529.94 Q1774.47 1529.94 1772.6 1530.35 Q1770.74 1530.77 1768.8 1531.65 L1768.8 1514.29 Z\" fill=\"#000000\" fill-rule=\"evenodd\" fill-opacity=\"1\" /><path clip-path=\"url(#clip780)\" d=\"M2265.92 1544.91 L2273.56 1544.91 L2273.56 1518.55 L2265.25 1520.21 L2265.25 1515.95 L2273.51 1514.29 L2278.19 1514.29 L2278.19 1544.91 L2285.83 1544.91 L2285.83 1548.85 L2265.92 1548.85 L2265.92 1544.91 Z\" fill=\"#000000\" fill-rule=\"evenodd\" fill-opacity=\"1\" /><path clip-path=\"url(#clip780)\" d=\"M2305.27 1517.37 Q2301.66 1517.37 2299.83 1520.93 Q2298.02 1524.47 2298.02 1531.6 Q2298.02 1538.71 2299.83 1542.27 Q2301.66 1545.82 2305.27 1545.82 Q2308.9 1545.82 2310.71 1542.27 Q2312.54 1538.71 2312.54 1531.6 Q2312.54 1524.47 2310.71 1520.93 Q2308.9 1517.37 2305.27 1517.37 M2305.27 1513.66 Q2311.08 1513.66 2314.14 1518.27 Q2317.21 1522.85 2317.21 1531.6 Q2317.21 1540.33 2314.14 1544.94 Q2311.08 1549.52 2305.27 1549.52 Q2299.46 1549.52 2296.38 1544.94 Q2293.33 1540.33 2293.33 1531.6 Q2293.33 1522.85 2296.38 1518.27 Q2299.46 1513.66 2305.27 1513.66 Z\" fill=\"#000000\" fill-rule=\"evenodd\" fill-opacity=\"1\" /><polyline clip-path=\"url(#clip782)\" style=\"stroke:#000000; stroke-linecap:round; stroke-linejoin:round; stroke-width:2; stroke-opacity:0.1; fill:none\" points=\"178.867,1374.72 2352.76,1374.72 \"/>\n",
       "<polyline clip-path=\"url(#clip782)\" style=\"stroke:#000000; stroke-linecap:round; stroke-linejoin:round; stroke-width:2; stroke-opacity:0.1; fill:none\" points=\"178.867,1200.84 2352.76,1200.84 \"/>\n",
       "<polyline clip-path=\"url(#clip782)\" style=\"stroke:#000000; stroke-linecap:round; stroke-linejoin:round; stroke-width:2; stroke-opacity:0.1; fill:none\" points=\"178.867,1026.95 2352.76,1026.95 \"/>\n",
       "<polyline clip-path=\"url(#clip782)\" style=\"stroke:#000000; stroke-linecap:round; stroke-linejoin:round; stroke-width:2; stroke-opacity:0.1; fill:none\" points=\"178.867,853.068 2352.76,853.068 \"/>\n",
       "<polyline clip-path=\"url(#clip782)\" style=\"stroke:#000000; stroke-linecap:round; stroke-linejoin:round; stroke-width:2; stroke-opacity:0.1; fill:none\" points=\"178.867,679.184 2352.76,679.184 \"/>\n",
       "<polyline clip-path=\"url(#clip782)\" style=\"stroke:#000000; stroke-linecap:round; stroke-linejoin:round; stroke-width:2; stroke-opacity:0.1; fill:none\" points=\"178.867,505.299 2352.76,505.299 \"/>\n",
       "<polyline clip-path=\"url(#clip782)\" style=\"stroke:#000000; stroke-linecap:round; stroke-linejoin:round; stroke-width:2; stroke-opacity:0.1; fill:none\" points=\"178.867,331.415 2352.76,331.415 \"/>\n",
       "<polyline clip-path=\"url(#clip782)\" style=\"stroke:#000000; stroke-linecap:round; stroke-linejoin:round; stroke-width:2; stroke-opacity:0.1; fill:none\" points=\"178.867,157.53 2352.76,157.53 \"/>\n",
       "<polyline clip-path=\"url(#clip780)\" style=\"stroke:#000000; stroke-linecap:round; stroke-linejoin:round; stroke-width:4; stroke-opacity:1; fill:none\" points=\"178.867,1486.45 178.867,47.2441 \"/>\n",
       "<polyline clip-path=\"url(#clip780)\" style=\"stroke:#000000; stroke-linecap:round; stroke-linejoin:round; stroke-width:4; stroke-opacity:1; fill:none\" points=\"178.867,1374.72 197.764,1374.72 \"/>\n",
       "<polyline clip-path=\"url(#clip780)\" style=\"stroke:#000000; stroke-linecap:round; stroke-linejoin:round; stroke-width:4; stroke-opacity:1; fill:none\" points=\"178.867,1200.84 197.764,1200.84 \"/>\n",
       "<polyline clip-path=\"url(#clip780)\" style=\"stroke:#000000; stroke-linecap:round; stroke-linejoin:round; stroke-width:4; stroke-opacity:1; fill:none\" points=\"178.867,1026.95 197.764,1026.95 \"/>\n",
       "<polyline clip-path=\"url(#clip780)\" style=\"stroke:#000000; stroke-linecap:round; stroke-linejoin:round; stroke-width:4; stroke-opacity:1; fill:none\" points=\"178.867,853.068 197.764,853.068 \"/>\n",
       "<polyline clip-path=\"url(#clip780)\" style=\"stroke:#000000; stroke-linecap:round; stroke-linejoin:round; stroke-width:4; stroke-opacity:1; fill:none\" points=\"178.867,679.184 197.764,679.184 \"/>\n",
       "<polyline clip-path=\"url(#clip780)\" style=\"stroke:#000000; stroke-linecap:round; stroke-linejoin:round; stroke-width:4; stroke-opacity:1; fill:none\" points=\"178.867,505.299 197.764,505.299 \"/>\n",
       "<polyline clip-path=\"url(#clip780)\" style=\"stroke:#000000; stroke-linecap:round; stroke-linejoin:round; stroke-width:4; stroke-opacity:1; fill:none\" points=\"178.867,331.415 197.764,331.415 \"/>\n",
       "<polyline clip-path=\"url(#clip780)\" style=\"stroke:#000000; stroke-linecap:round; stroke-linejoin:round; stroke-width:4; stroke-opacity:1; fill:none\" points=\"178.867,157.53 197.764,157.53 \"/>\n",
       "<path clip-path=\"url(#clip780)\" d=\"M50.9921 1375.17 L80.6679 1375.17 L80.6679 1379.11 L50.9921 1379.11 L50.9921 1375.17 Z\" fill=\"#000000\" fill-rule=\"evenodd\" fill-opacity=\"1\" /><path clip-path=\"url(#clip780)\" d=\"M94.7882 1388.07 L111.108 1388.07 L111.108 1392 L89.1632 1392 L89.1632 1388.07 Q91.8252 1385.31 96.4085 1380.68 Q101.015 1376.03 102.196 1374.69 Q104.441 1372.16 105.321 1370.43 Q106.223 1368.67 106.223 1366.98 Q106.223 1364.22 104.279 1362.49 Q102.358 1360.75 99.2558 1360.75 Q97.0567 1360.75 94.603 1361.52 Q92.1725 1362.28 89.3947 1363.83 L89.3947 1359.11 Q92.2188 1357.97 94.6724 1357.4 Q97.1261 1356.82 99.1632 1356.82 Q104.534 1356.82 107.728 1359.5 Q110.922 1362.19 110.922 1366.68 Q110.922 1368.81 110.112 1370.73 Q109.325 1372.63 107.219 1375.22 Q106.64 1375.89 103.538 1379.11 Q100.436 1382.3 94.7882 1388.07 Z\" fill=\"#000000\" fill-rule=\"evenodd\" fill-opacity=\"1\" /><path clip-path=\"url(#clip780)\" d=\"M130.922 1360.52 Q127.311 1360.52 125.482 1364.09 Q123.677 1367.63 123.677 1374.76 Q123.677 1381.86 125.482 1385.43 Q127.311 1388.97 130.922 1388.97 Q134.556 1388.97 136.362 1385.43 Q138.191 1381.86 138.191 1374.76 Q138.191 1367.63 136.362 1364.09 Q134.556 1360.52 130.922 1360.52 M130.922 1356.82 Q136.732 1356.82 139.788 1361.42 Q142.867 1366.01 142.867 1374.76 Q142.867 1383.48 139.788 1388.09 Q136.732 1392.67 130.922 1392.67 Q125.112 1392.67 122.033 1388.09 Q118.978 1383.48 118.978 1374.76 Q118.978 1366.01 122.033 1361.42 Q125.112 1356.82 130.922 1356.82 Z\" fill=\"#000000\" fill-rule=\"evenodd\" fill-opacity=\"1\" /><path clip-path=\"url(#clip780)\" d=\"M130.922 1186.64 Q127.311 1186.64 125.482 1190.2 Q123.677 1193.74 123.677 1200.87 Q123.677 1207.98 125.482 1211.54 Q127.311 1215.09 130.922 1215.09 Q134.556 1215.09 136.362 1211.54 Q138.191 1207.98 138.191 1200.87 Q138.191 1193.74 136.362 1190.2 Q134.556 1186.64 130.922 1186.64 M130.922 1182.93 Q136.732 1182.93 139.788 1187.54 Q142.867 1192.12 142.867 1200.87 Q142.867 1209.6 139.788 1214.21 Q136.732 1218.79 130.922 1218.79 Q125.112 1218.79 122.033 1214.21 Q118.978 1209.6 118.978 1200.87 Q118.978 1192.12 122.033 1187.54 Q125.112 1182.93 130.922 1182.93 Z\" fill=\"#000000\" fill-rule=\"evenodd\" fill-opacity=\"1\" /><path clip-path=\"url(#clip780)\" d=\"M94.7882 1040.3 L111.108 1040.3 L111.108 1044.23 L89.1632 1044.23 L89.1632 1040.3 Q91.8252 1037.54 96.4085 1032.91 Q101.015 1028.26 102.196 1026.92 Q104.441 1024.4 105.321 1022.66 Q106.223 1020.9 106.223 1019.21 Q106.223 1016.46 104.279 1014.72 Q102.358 1012.98 99.2558 1012.98 Q97.0567 1012.98 94.603 1013.75 Q92.1725 1014.51 89.3947 1016.06 L89.3947 1011.34 Q92.2188 1010.21 94.6724 1009.63 Q97.1261 1009.05 99.1632 1009.05 Q104.534 1009.05 107.728 1011.73 Q110.922 1014.42 110.922 1018.91 Q110.922 1021.04 110.112 1022.96 Q109.325 1024.86 107.219 1027.45 Q106.64 1028.12 103.538 1031.34 Q100.436 1034.53 94.7882 1040.3 Z\" fill=\"#000000\" fill-rule=\"evenodd\" fill-opacity=\"1\" /><path clip-path=\"url(#clip780)\" d=\"M130.922 1012.75 Q127.311 1012.75 125.482 1016.32 Q123.677 1019.86 123.677 1026.99 Q123.677 1034.09 125.482 1037.66 Q127.311 1041.2 130.922 1041.2 Q134.556 1041.2 136.362 1037.66 Q138.191 1034.09 138.191 1026.99 Q138.191 1019.86 136.362 1016.32 Q134.556 1012.75 130.922 1012.75 M130.922 1009.05 Q136.732 1009.05 139.788 1013.65 Q142.867 1018.24 142.867 1026.99 Q142.867 1035.71 139.788 1040.32 Q136.732 1044.9 130.922 1044.9 Q125.112 1044.9 122.033 1040.32 Q118.978 1035.71 118.978 1026.99 Q118.978 1018.24 122.033 1013.65 Q125.112 1009.05 130.922 1009.05 Z\" fill=\"#000000\" fill-rule=\"evenodd\" fill-opacity=\"1\" /><path clip-path=\"url(#clip780)\" d=\"M103.608 839.863 L91.8021 858.312 L103.608 858.312 L103.608 839.863 M102.381 835.788 L108.26 835.788 L108.26 858.312 L113.191 858.312 L113.191 862.2 L108.26 862.2 L108.26 870.348 L103.608 870.348 L103.608 862.2 L88.0058 862.2 L88.0058 857.687 L102.381 835.788 Z\" fill=\"#000000\" fill-rule=\"evenodd\" fill-opacity=\"1\" /><path clip-path=\"url(#clip780)\" d=\"M130.922 838.867 Q127.311 838.867 125.482 842.432 Q123.677 845.974 123.677 853.103 Q123.677 860.21 125.482 863.774 Q127.311 867.316 130.922 867.316 Q134.556 867.316 136.362 863.774 Q138.191 860.21 138.191 853.103 Q138.191 845.974 136.362 842.432 Q134.556 838.867 130.922 838.867 M130.922 835.163 Q136.732 835.163 139.788 839.77 Q142.867 844.353 142.867 853.103 Q142.867 861.83 139.788 866.436 Q136.732 871.02 130.922 871.02 Q125.112 871.02 122.033 866.436 Q118.978 861.83 118.978 853.103 Q118.978 844.353 122.033 839.77 Q125.112 835.163 130.922 835.163 Z\" fill=\"#000000\" fill-rule=\"evenodd\" fill-opacity=\"1\" /><path clip-path=\"url(#clip780)\" d=\"M101.339 677.32 Q98.1909 677.32 96.3391 679.473 Q94.5104 681.626 94.5104 685.376 Q94.5104 689.103 96.3391 691.279 Q98.1909 693.432 101.339 693.432 Q104.487 693.432 106.316 691.279 Q108.168 689.103 108.168 685.376 Q108.168 681.626 106.316 679.473 Q104.487 677.32 101.339 677.32 M110.621 662.668 L110.621 666.927 Q108.862 666.094 107.057 665.654 Q105.274 665.214 103.515 665.214 Q98.8854 665.214 96.4317 668.339 Q94.0012 671.464 93.6539 677.783 Q95.0197 675.77 97.0798 674.705 Q99.14 673.617 101.617 673.617 Q106.825 673.617 109.834 676.788 Q112.867 679.936 112.867 685.376 Q112.867 690.7 109.719 693.918 Q106.571 697.135 101.339 697.135 Q95.3437 697.135 92.1725 692.552 Q89.0012 687.945 89.0012 679.219 Q89.0012 671.024 92.89 666.163 Q96.7789 661.279 103.33 661.279 Q105.089 661.279 106.871 661.626 Q108.677 661.973 110.621 662.668 Z\" fill=\"#000000\" fill-rule=\"evenodd\" fill-opacity=\"1\" /><path clip-path=\"url(#clip780)\" d=\"M130.922 664.983 Q127.311 664.983 125.482 668.547 Q123.677 672.089 123.677 679.219 Q123.677 686.325 125.482 689.89 Q127.311 693.432 130.922 693.432 Q134.556 693.432 136.362 689.89 Q138.191 686.325 138.191 679.219 Q138.191 672.089 136.362 668.547 Q134.556 664.983 130.922 664.983 M130.922 661.279 Q136.732 661.279 139.788 665.885 Q142.867 670.469 142.867 679.219 Q142.867 687.945 139.788 692.552 Q136.732 697.135 130.922 697.135 Q125.112 697.135 122.033 692.552 Q118.978 687.945 118.978 679.219 Q118.978 670.469 122.033 665.885 Q125.112 661.279 130.922 661.279 Z\" fill=\"#000000\" fill-rule=\"evenodd\" fill-opacity=\"1\" /><path clip-path=\"url(#clip780)\" d=\"M100.76 506.167 Q97.4271 506.167 95.5058 507.95 Q93.6076 509.732 93.6076 512.857 Q93.6076 515.982 95.5058 517.765 Q97.4271 519.547 100.76 519.547 Q104.094 519.547 106.015 517.765 Q107.936 515.959 107.936 512.857 Q107.936 509.732 106.015 507.95 Q104.117 506.167 100.76 506.167 M96.0845 504.177 Q93.0752 503.436 91.3854 501.376 Q89.7188 499.316 89.7188 496.353 Q89.7188 492.209 92.6586 489.802 Q95.6215 487.394 100.76 487.394 Q105.922 487.394 108.862 489.802 Q111.802 492.209 111.802 496.353 Q111.802 499.316 110.112 501.376 Q108.446 503.436 105.459 504.177 Q108.839 504.964 110.714 507.255 Q112.612 509.547 112.612 512.857 Q112.612 517.88 109.533 520.565 Q106.478 523.251 100.76 523.251 Q95.0428 523.251 91.9641 520.565 Q88.9086 517.88 88.9086 512.857 Q88.9086 509.547 90.8067 507.255 Q92.7049 504.964 96.0845 504.177 M94.3715 496.792 Q94.3715 499.478 96.0382 500.982 Q97.728 502.487 100.76 502.487 Q103.77 502.487 105.459 500.982 Q107.172 499.478 107.172 496.792 Q107.172 494.107 105.459 492.603 Q103.77 491.098 100.76 491.098 Q97.728 491.098 96.0382 492.603 Q94.3715 494.107 94.3715 496.792 Z\" fill=\"#000000\" fill-rule=\"evenodd\" fill-opacity=\"1\" /><path clip-path=\"url(#clip780)\" d=\"M130.922 491.098 Q127.311 491.098 125.482 494.663 Q123.677 498.204 123.677 505.334 Q123.677 512.44 125.482 516.005 Q127.311 519.547 130.922 519.547 Q134.556 519.547 136.362 516.005 Q138.191 512.44 138.191 505.334 Q138.191 498.204 136.362 494.663 Q134.556 491.098 130.922 491.098 M130.922 487.394 Q136.732 487.394 139.788 492.001 Q142.867 496.584 142.867 505.334 Q142.867 514.061 139.788 518.667 Q136.732 523.251 130.922 523.251 Q125.112 523.251 122.033 518.667 Q118.978 514.061 118.978 505.334 Q118.978 496.584 122.033 492.001 Q125.112 487.394 130.922 487.394 Z\" fill=\"#000000\" fill-rule=\"evenodd\" fill-opacity=\"1\" /><path clip-path=\"url(#clip780)\" d=\"M61.4087 344.76 L69.0476 344.76 L69.0476 318.394 L60.7374 320.061 L60.7374 315.801 L69.0013 314.135 L73.6772 314.135 L73.6772 344.76 L81.316 344.76 L81.316 348.695 L61.4087 348.695 L61.4087 344.76 Z\" fill=\"#000000\" fill-rule=\"evenodd\" fill-opacity=\"1\" /><path clip-path=\"url(#clip780)\" d=\"M100.76 317.213 Q97.1493 317.213 95.3206 320.778 Q93.515 324.32 93.515 331.449 Q93.515 338.556 95.3206 342.121 Q97.1493 345.662 100.76 345.662 Q104.395 345.662 106.2 342.121 Q108.029 338.556 108.029 331.449 Q108.029 324.32 106.2 320.778 Q104.395 317.213 100.76 317.213 M100.76 313.51 Q106.571 313.51 109.626 318.116 Q112.705 322.699 112.705 331.449 Q112.705 340.176 109.626 344.783 Q106.571 349.366 100.76 349.366 Q94.9502 349.366 91.8715 344.783 Q88.816 340.176 88.816 331.449 Q88.816 322.699 91.8715 318.116 Q94.9502 313.51 100.76 313.51 Z\" fill=\"#000000\" fill-rule=\"evenodd\" fill-opacity=\"1\" /><path clip-path=\"url(#clip780)\" d=\"M130.922 317.213 Q127.311 317.213 125.482 320.778 Q123.677 324.32 123.677 331.449 Q123.677 338.556 125.482 342.121 Q127.311 345.662 130.922 345.662 Q134.556 345.662 136.362 342.121 Q138.191 338.556 138.191 331.449 Q138.191 324.32 136.362 320.778 Q134.556 317.213 130.922 317.213 M130.922 313.51 Q136.732 313.51 139.788 318.116 Q142.867 322.699 142.867 331.449 Q142.867 340.176 139.788 344.783 Q136.732 349.366 130.922 349.366 Q125.112 349.366 122.033 344.783 Q118.978 340.176 118.978 331.449 Q118.978 322.699 122.033 318.116 Q125.112 313.51 130.922 313.51 Z\" fill=\"#000000\" fill-rule=\"evenodd\" fill-opacity=\"1\" /><path clip-path=\"url(#clip780)\" d=\"M61.4087 170.875 L69.0476 170.875 L69.0476 144.509 L60.7374 146.176 L60.7374 141.917 L69.0013 140.25 L73.6772 140.25 L73.6772 170.875 L81.316 170.875 L81.316 174.81 L61.4087 174.81 L61.4087 170.875 Z\" fill=\"#000000\" fill-rule=\"evenodd\" fill-opacity=\"1\" /><path clip-path=\"url(#clip780)\" d=\"M94.7882 170.875 L111.108 170.875 L111.108 174.81 L89.1632 174.81 L89.1632 170.875 Q91.8252 168.12 96.4085 163.491 Q101.015 158.838 102.196 157.495 Q104.441 154.972 105.321 153.236 Q106.223 151.477 106.223 149.787 Q106.223 147.032 104.279 145.296 Q102.358 143.56 99.2558 143.56 Q97.0567 143.56 94.603 144.324 Q92.1725 145.088 89.3947 146.639 L89.3947 141.917 Q92.2188 140.783 94.6724 140.204 Q97.1261 139.625 99.1632 139.625 Q104.534 139.625 107.728 142.31 Q110.922 144.995 110.922 149.486 Q110.922 151.616 110.112 153.537 Q109.325 155.435 107.219 158.028 Q106.64 158.699 103.538 161.917 Q100.436 165.111 94.7882 170.875 Z\" fill=\"#000000\" fill-rule=\"evenodd\" fill-opacity=\"1\" /><path clip-path=\"url(#clip780)\" d=\"M130.922 143.329 Q127.311 143.329 125.482 146.894 Q123.677 150.435 123.677 157.565 Q123.677 164.671 125.482 168.236 Q127.311 171.778 130.922 171.778 Q134.556 171.778 136.362 168.236 Q138.191 164.671 138.191 157.565 Q138.191 150.435 136.362 146.894 Q134.556 143.329 130.922 143.329 M130.922 139.625 Q136.732 139.625 139.788 144.232 Q142.867 148.815 142.867 157.565 Q142.867 166.292 139.788 170.898 Q136.732 175.481 130.922 175.481 Q125.112 175.481 122.033 170.898 Q118.978 166.292 118.978 157.565 Q118.978 148.815 122.033 144.232 Q125.112 139.625 130.922 139.625 Z\" fill=\"#000000\" fill-rule=\"evenodd\" fill-opacity=\"1\" /><circle clip-path=\"url(#clip782)\" cx=\"240.392\" cy=\"253.995\" r=\"14.4\" fill=\"#009af9\" fill-rule=\"evenodd\" fill-opacity=\"1\" stroke=\"#000000\" stroke-opacity=\"1\" stroke-width=\"3.2\"/>\n",
       "<circle clip-path=\"url(#clip782)\" cx=\"342.934\" cy=\"1255.6\" r=\"14.4\" fill=\"#009af9\" fill-rule=\"evenodd\" fill-opacity=\"1\" stroke=\"#000000\" stroke-opacity=\"1\" stroke-width=\"3.2\"/>\n",
       "<circle clip-path=\"url(#clip782)\" cx=\"445.476\" cy=\"974.989\" r=\"14.4\" fill=\"#009af9\" fill-rule=\"evenodd\" fill-opacity=\"1\" stroke=\"#000000\" stroke-opacity=\"1\" stroke-width=\"3.2\"/>\n",
       "<circle clip-path=\"url(#clip782)\" cx=\"548.018\" cy=\"1445.72\" r=\"14.4\" fill=\"#009af9\" fill-rule=\"evenodd\" fill-opacity=\"1\" stroke=\"#000000\" stroke-opacity=\"1\" stroke-width=\"3.2\"/>\n",
       "<circle clip-path=\"url(#clip782)\" cx=\"650.56\" cy=\"627.599\" r=\"14.4\" fill=\"#009af9\" fill-rule=\"evenodd\" fill-opacity=\"1\" stroke=\"#000000\" stroke-opacity=\"1\" stroke-width=\"3.2\"/>\n",
       "<circle clip-path=\"url(#clip782)\" cx=\"753.102\" cy=\"1097.16\" r=\"14.4\" fill=\"#009af9\" fill-rule=\"evenodd\" fill-opacity=\"1\" stroke=\"#000000\" stroke-opacity=\"1\" stroke-width=\"3.2\"/>\n",
       "<circle clip-path=\"url(#clip782)\" cx=\"855.643\" cy=\"1196.91\" r=\"14.4\" fill=\"#009af9\" fill-rule=\"evenodd\" fill-opacity=\"1\" stroke=\"#000000\" stroke-opacity=\"1\" stroke-width=\"3.2\"/>\n",
       "<circle clip-path=\"url(#clip782)\" cx=\"958.185\" cy=\"505.091\" r=\"14.4\" fill=\"#009af9\" fill-rule=\"evenodd\" fill-opacity=\"1\" stroke=\"#000000\" stroke-opacity=\"1\" stroke-width=\"3.2\"/>\n",
       "<circle clip-path=\"url(#clip782)\" cx=\"1060.73\" cy=\"780.937\" r=\"14.4\" fill=\"#009af9\" fill-rule=\"evenodd\" fill-opacity=\"1\" stroke=\"#000000\" stroke-opacity=\"1\" stroke-width=\"3.2\"/>\n",
       "<circle clip-path=\"url(#clip782)\" cx=\"1163.27\" cy=\"1241.51\" r=\"14.4\" fill=\"#009af9\" fill-rule=\"evenodd\" fill-opacity=\"1\" stroke=\"#000000\" stroke-opacity=\"1\" stroke-width=\"3.2\"/>\n",
       "<circle clip-path=\"url(#clip782)\" cx=\"1265.81\" cy=\"1358.36\" r=\"14.4\" fill=\"#009af9\" fill-rule=\"evenodd\" fill-opacity=\"1\" stroke=\"#000000\" stroke-opacity=\"1\" stroke-width=\"3.2\"/>\n",
       "<circle clip-path=\"url(#clip782)\" cx=\"1368.35\" cy=\"1004.29\" r=\"14.4\" fill=\"#009af9\" fill-rule=\"evenodd\" fill-opacity=\"1\" stroke=\"#000000\" stroke-opacity=\"1\" stroke-width=\"3.2\"/>\n",
       "<circle clip-path=\"url(#clip782)\" cx=\"1470.9\" cy=\"734.831\" r=\"14.4\" fill=\"#009af9\" fill-rule=\"evenodd\" fill-opacity=\"1\" stroke=\"#000000\" stroke-opacity=\"1\" stroke-width=\"3.2\"/>\n",
       "<circle clip-path=\"url(#clip782)\" cx=\"1573.44\" cy=\"828.759\" r=\"14.4\" fill=\"#009af9\" fill-rule=\"evenodd\" fill-opacity=\"1\" stroke=\"#000000\" stroke-opacity=\"1\" stroke-width=\"3.2\"/>\n",
       "<circle clip-path=\"url(#clip782)\" cx=\"1675.98\" cy=\"126.675\" r=\"14.4\" fill=\"#009af9\" fill-rule=\"evenodd\" fill-opacity=\"1\" stroke=\"#000000\" stroke-opacity=\"1\" stroke-width=\"3.2\"/>\n",
       "<circle clip-path=\"url(#clip782)\" cx=\"1778.52\" cy=\"879.866\" r=\"14.4\" fill=\"#009af9\" fill-rule=\"evenodd\" fill-opacity=\"1\" stroke=\"#000000\" stroke-opacity=\"1\" stroke-width=\"3.2\"/>\n",
       "<circle clip-path=\"url(#clip782)\" cx=\"1881.06\" cy=\"621.721\" r=\"14.4\" fill=\"#009af9\" fill-rule=\"evenodd\" fill-opacity=\"1\" stroke=\"#000000\" stroke-opacity=\"1\" stroke-width=\"3.2\"/>\n",
       "<circle clip-path=\"url(#clip782)\" cx=\"1983.6\" cy=\"665.766\" r=\"14.4\" fill=\"#009af9\" fill-rule=\"evenodd\" fill-opacity=\"1\" stroke=\"#000000\" stroke-opacity=\"1\" stroke-width=\"3.2\"/>\n",
       "<circle clip-path=\"url(#clip782)\" cx=\"2086.15\" cy=\"1064.15\" r=\"14.4\" fill=\"#009af9\" fill-rule=\"evenodd\" fill-opacity=\"1\" stroke=\"#000000\" stroke-opacity=\"1\" stroke-width=\"3.2\"/>\n",
       "<circle clip-path=\"url(#clip782)\" cx=\"2188.69\" cy=\"869.37\" r=\"14.4\" fill=\"#009af9\" fill-rule=\"evenodd\" fill-opacity=\"1\" stroke=\"#000000\" stroke-opacity=\"1\" stroke-width=\"3.2\"/>\n",
       "<circle clip-path=\"url(#clip782)\" cx=\"2291.23\" cy=\"144.89\" r=\"14.4\" fill=\"#009af9\" fill-rule=\"evenodd\" fill-opacity=\"1\" stroke=\"#000000\" stroke-opacity=\"1\" stroke-width=\"3.2\"/>\n",
       "<polyline clip-path=\"url(#clip782)\" style=\"stroke:#e26f46; stroke-linecap:round; stroke-linejoin:round; stroke-width:4; stroke-opacity:1; fill:none\" points=\"240.392,609.63 342.934,748.738 445.476,870.457 548.018,974.788 650.56,1061.73 753.102,1131.28 855.643,1183.45 958.185,1218.23 1060.73,1235.61 1163.27,1235.61 1265.81,1218.23 1368.35,1183.45 1470.9,1131.28 1573.44,1061.73 1675.98,974.788 1778.52,870.457 1881.06,748.738 1983.6,609.63 2086.15,453.134 2188.69,279.249 2291.23,87.9763 \"/>\n",
       "<polyline clip-path=\"url(#clip782)\" style=\"stroke:#3da44d; stroke-linecap:round; stroke-linejoin:round; stroke-width:4; stroke-opacity:1; fill:none\" points=\"240.392,254.789 342.934,1235.92 445.476,1099.5 548.018,1093.07 650.56,1093.14 753.102,974.189 855.643,827.445 958.185,798.195 1060.73,925.087 1163.27,1110.05 1265.81,1200.68 1368.35,1104.79 1470.9,857.154 1573.44,597.424 1675.98,473.751 1778.52,535.625 1881.06,698.608 1983.6,830.686 2086.15,901.62 2188.69,930.145 2291.23,136.328 \"/>\n",
       "<path clip-path=\"url(#clip780)\" d=\"M2009.9 1438.47 L2280.29 1438.47 L2280.29 1231.11 L2009.9 1231.11  Z\" fill=\"#ffffff\" fill-rule=\"evenodd\" fill-opacity=\"1\"/>\n",
       "<polyline clip-path=\"url(#clip780)\" style=\"stroke:#000000; stroke-linecap:round; stroke-linejoin:round; stroke-width:4; stroke-opacity:1; fill:none\" points=\"2009.9,1438.47 2280.29,1438.47 2280.29,1231.11 2009.9,1231.11 2009.9,1438.47 \"/>\n",
       "<circle clip-path=\"url(#clip780)\" cx=\"2106.51\" cy=\"1282.95\" r=\"23.04\" fill=\"#009af9\" fill-rule=\"evenodd\" fill-opacity=\"1\" stroke=\"#000000\" stroke-opacity=\"1\" stroke-width=\"5.12\"/>\n",
       "<path clip-path=\"url(#clip780)\" d=\"M2216.97 1302.64 Q2215.17 1307.27 2213.45 1308.68 Q2211.74 1310.1 2208.87 1310.1 L2205.47 1310.1 L2205.47 1306.53 L2207.97 1306.53 Q2209.73 1306.53 2210.7 1305.7 Q2211.67 1304.86 2212.85 1301.76 L2213.62 1299.82 L2203.13 1274.31 L2207.64 1274.31 L2215.75 1294.59 L2223.85 1274.31 L2228.36 1274.31 L2216.97 1302.64 Z\" fill=\"#000000\" fill-rule=\"evenodd\" fill-opacity=\"1\" /><path clip-path=\"url(#clip780)\" d=\"M2235.65 1296.3 L2243.29 1296.3 L2243.29 1269.93 L2234.98 1271.6 L2234.98 1267.34 L2243.25 1265.67 L2247.92 1265.67 L2247.92 1296.3 L2255.56 1296.3 L2255.56 1300.23 L2235.65 1300.23 L2235.65 1296.3 Z\" fill=\"#000000\" fill-rule=\"evenodd\" fill-opacity=\"1\" /><polyline clip-path=\"url(#clip780)\" style=\"stroke:#e26f46; stroke-linecap:round; stroke-linejoin:round; stroke-width:4; stroke-opacity:1; fill:none\" points=\"2034.05,1334.79 2178.98,1334.79 \"/>\n",
       "<path clip-path=\"url(#clip780)\" d=\"M2216.97 1354.48 Q2215.17 1359.11 2213.45 1360.52 Q2211.74 1361.94 2208.87 1361.94 L2205.47 1361.94 L2205.47 1358.37 L2207.97 1358.37 Q2209.73 1358.37 2210.7 1357.54 Q2211.67 1356.7 2212.85 1353.6 L2213.62 1351.66 L2203.13 1326.15 L2207.64 1326.15 L2215.75 1346.43 L2223.85 1326.15 L2228.36 1326.15 L2216.97 1354.48 Z\" fill=\"#000000\" fill-rule=\"evenodd\" fill-opacity=\"1\" /><path clip-path=\"url(#clip780)\" d=\"M2238.87 1348.14 L2255.19 1348.14 L2255.19 1352.07 L2233.25 1352.07 L2233.25 1348.14 Q2235.91 1345.38 2240.49 1340.76 Q2245.1 1336.1 2246.28 1334.76 Q2248.52 1332.24 2249.4 1330.5 Q2250.31 1328.74 2250.31 1327.05 Q2250.31 1324.3 2248.36 1322.56 Q2246.44 1320.82 2243.34 1320.82 Q2241.14 1320.82 2238.68 1321.59 Q2236.25 1322.35 2233.48 1323.9 L2233.48 1319.18 Q2236.3 1318.05 2238.75 1317.47 Q2241.21 1316.89 2243.25 1316.89 Q2248.62 1316.89 2251.81 1319.57 Q2255 1322.26 2255 1326.75 Q2255 1328.88 2254.19 1330.8 Q2253.41 1332.7 2251.3 1335.29 Q2250.72 1335.96 2247.62 1339.18 Q2244.52 1342.38 2238.87 1348.14 Z\" fill=\"#000000\" fill-rule=\"evenodd\" fill-opacity=\"1\" /><polyline clip-path=\"url(#clip780)\" style=\"stroke:#3da44d; stroke-linecap:round; stroke-linejoin:round; stroke-width:4; stroke-opacity:1; fill:none\" points=\"2034.05,1386.63 2178.98,1386.63 \"/>\n",
       "<path clip-path=\"url(#clip780)\" d=\"M2216.97 1406.32 Q2215.17 1410.95 2213.45 1412.36 Q2211.74 1413.78 2208.87 1413.78 L2205.47 1413.78 L2205.47 1410.21 L2207.97 1410.21 Q2209.73 1410.21 2210.7 1409.38 Q2211.67 1408.54 2212.85 1405.44 L2213.62 1403.5 L2203.13 1377.99 L2207.64 1377.99 L2215.75 1398.27 L2223.85 1377.99 L2228.36 1377.99 L2216.97 1406.32 Z\" fill=\"#000000\" fill-rule=\"evenodd\" fill-opacity=\"1\" /><path clip-path=\"url(#clip780)\" d=\"M2249.01 1385.28 Q2252.37 1386 2254.24 1388.27 Q2256.14 1390.53 2256.14 1393.87 Q2256.14 1398.98 2252.62 1401.78 Q2249.1 1404.59 2242.62 1404.59 Q2240.44 1404.59 2238.13 1404.15 Q2235.84 1403.73 2233.38 1402.87 L2233.38 1398.36 Q2235.33 1399.49 2237.64 1400.07 Q2239.96 1400.65 2242.48 1400.65 Q2246.88 1400.65 2249.17 1398.91 Q2251.49 1397.18 2251.49 1393.87 Q2251.49 1390.81 2249.33 1389.1 Q2247.2 1387.36 2243.38 1387.36 L2239.36 1387.36 L2239.36 1383.52 L2243.57 1383.52 Q2247.02 1383.52 2248.85 1382.16 Q2250.68 1380.77 2250.68 1378.17 Q2250.68 1375.51 2248.78 1374.1 Q2246.9 1372.66 2243.38 1372.66 Q2241.46 1372.66 2239.26 1373.08 Q2237.06 1373.5 2234.43 1374.38 L2234.43 1370.21 Q2237.09 1369.47 2239.4 1369.1 Q2241.74 1368.73 2243.8 1368.73 Q2249.12 1368.73 2252.23 1371.16 Q2255.33 1373.57 2255.33 1377.69 Q2255.33 1380.56 2253.68 1382.55 Q2252.04 1384.52 2249.01 1385.28 Z\" fill=\"#000000\" fill-rule=\"evenodd\" fill-opacity=\"1\" /></svg>\n"
      ]
     },
     "execution_count": 33,
     "metadata": {},
     "output_type": "execute_result"
    }
   ],
   "source": [
    "d = Normal(0,50)\n",
    "gaussian = rand(d,21)\n",
    "y_observed = y_true .+ gaussian\n",
    "\n",
    "scatter(x, y_observed)\n",
    "plot!(x, y_true)\n",
    "line_fit = Polynomials.fit(x,y_observed,10)\n",
    "y_fit = line_fit.(x)\n",
    "plot!(x, y_fit)"
   ]
  },
  {
   "cell_type": "markdown",
   "id": "36028ee0",
   "metadata": {},
   "source": [
    "### 2.6\n",
    "\n",
    "1. Create a new independent parameter x_fit ranging from -11 to 11 with an increment of 0.1\n",
    "2. Plot the same three plots as in 2.3 again but apply the tenth order polynomial to x_fit instead of x\n"
   ]
  },
  {
   "cell_type": "code",
   "execution_count": 34,
   "id": "6c67a977",
   "metadata": {},
   "outputs": [
    {
     "data": {
      "image/svg+xml": [
       "<?xml version=\"1.0\" encoding=\"utf-8\"?>\n",
       "<svg xmlns=\"http://www.w3.org/2000/svg\" xmlns:xlink=\"http://www.w3.org/1999/xlink\" width=\"600\" height=\"400\" viewBox=\"0 0 2400 1600\">\n",
       "<defs>\n",
       "  <clipPath id=\"clip820\">\n",
       "    <rect x=\"0\" y=\"0\" width=\"2400\" height=\"1600\"/>\n",
       "  </clipPath>\n",
       "</defs>\n",
       "<path clip-path=\"url(#clip820)\" d=\"M0 1600 L2400 1600 L2400 0 L0 0  Z\" fill=\"#ffffff\" fill-rule=\"evenodd\" fill-opacity=\"1\"/>\n",
       "<defs>\n",
       "  <clipPath id=\"clip821\">\n",
       "    <rect x=\"480\" y=\"0\" width=\"1681\" height=\"1600\"/>\n",
       "  </clipPath>\n",
       "</defs>\n",
       "<path clip-path=\"url(#clip820)\" d=\"M199.283 1486.45 L2352.76 1486.45 L2352.76 47.2441 L199.283 47.2441  Z\" fill=\"#ffffff\" fill-rule=\"evenodd\" fill-opacity=\"1\"/>\n",
       "<defs>\n",
       "  <clipPath id=\"clip822\">\n",
       "    <rect x=\"199\" y=\"47\" width=\"2154\" height=\"1440\"/>\n",
       "  </clipPath>\n",
       "</defs>\n",
       "<polyline clip-path=\"url(#clip822)\" style=\"stroke:#000000; stroke-linecap:round; stroke-linejoin:round; stroke-width:2; stroke-opacity:0.1; fill:none\" points=\"352.575,1486.45 352.575,47.2441 \"/>\n",
       "<polyline clip-path=\"url(#clip822)\" style=\"stroke:#000000; stroke-linecap:round; stroke-linejoin:round; stroke-width:2; stroke-opacity:0.1; fill:none\" points=\"814.297,1486.45 814.297,47.2441 \"/>\n",
       "<polyline clip-path=\"url(#clip822)\" style=\"stroke:#000000; stroke-linecap:round; stroke-linejoin:round; stroke-width:2; stroke-opacity:0.1; fill:none\" points=\"1276.02,1486.45 1276.02,47.2441 \"/>\n",
       "<polyline clip-path=\"url(#clip822)\" style=\"stroke:#000000; stroke-linecap:round; stroke-linejoin:round; stroke-width:2; stroke-opacity:0.1; fill:none\" points=\"1737.74,1486.45 1737.74,47.2441 \"/>\n",
       "<polyline clip-path=\"url(#clip822)\" style=\"stroke:#000000; stroke-linecap:round; stroke-linejoin:round; stroke-width:2; stroke-opacity:0.1; fill:none\" points=\"2199.46,1486.45 2199.46,47.2441 \"/>\n",
       "<polyline clip-path=\"url(#clip820)\" style=\"stroke:#000000; stroke-linecap:round; stroke-linejoin:round; stroke-width:4; stroke-opacity:1; fill:none\" points=\"199.283,1486.45 2352.76,1486.45 \"/>\n",
       "<polyline clip-path=\"url(#clip820)\" style=\"stroke:#000000; stroke-linecap:round; stroke-linejoin:round; stroke-width:4; stroke-opacity:1; fill:none\" points=\"352.575,1486.45 352.575,1467.55 \"/>\n",
       "<polyline clip-path=\"url(#clip820)\" style=\"stroke:#000000; stroke-linecap:round; stroke-linejoin:round; stroke-width:4; stroke-opacity:1; fill:none\" points=\"814.297,1486.45 814.297,1467.55 \"/>\n",
       "<polyline clip-path=\"url(#clip820)\" style=\"stroke:#000000; stroke-linecap:round; stroke-linejoin:round; stroke-width:4; stroke-opacity:1; fill:none\" points=\"1276.02,1486.45 1276.02,1467.55 \"/>\n",
       "<polyline clip-path=\"url(#clip820)\" style=\"stroke:#000000; stroke-linecap:round; stroke-linejoin:round; stroke-width:4; stroke-opacity:1; fill:none\" points=\"1737.74,1486.45 1737.74,1467.55 \"/>\n",
       "<polyline clip-path=\"url(#clip820)\" style=\"stroke:#000000; stroke-linecap:round; stroke-linejoin:round; stroke-width:4; stroke-opacity:1; fill:none\" points=\"2199.46,1486.45 2199.46,1467.55 \"/>\n",
       "<path clip-path=\"url(#clip820)\" d=\"M306.638 1532.02 L336.314 1532.02 L336.314 1535.95 L306.638 1535.95 L306.638 1532.02 Z\" fill=\"#000000\" fill-rule=\"evenodd\" fill-opacity=\"1\" /><path clip-path=\"url(#clip820)\" d=\"M347.216 1544.91 L354.855 1544.91 L354.855 1518.55 L346.545 1520.21 L346.545 1515.95 L354.809 1514.29 L359.485 1514.29 L359.485 1544.91 L367.124 1544.91 L367.124 1548.85 L347.216 1548.85 L347.216 1544.91 Z\" fill=\"#000000\" fill-rule=\"evenodd\" fill-opacity=\"1\" /><path clip-path=\"url(#clip820)\" d=\"M386.568 1517.37 Q382.957 1517.37 381.128 1520.93 Q379.323 1524.47 379.323 1531.6 Q379.323 1538.71 381.128 1542.27 Q382.957 1545.82 386.568 1545.82 Q390.202 1545.82 392.008 1542.27 Q393.836 1538.71 393.836 1531.6 Q393.836 1524.47 392.008 1520.93 Q390.202 1517.37 386.568 1517.37 M386.568 1513.66 Q392.378 1513.66 395.434 1518.27 Q398.512 1522.85 398.512 1531.6 Q398.512 1540.33 395.434 1544.94 Q392.378 1549.52 386.568 1549.52 Q380.758 1549.52 377.679 1544.94 Q374.623 1540.33 374.623 1531.6 Q374.623 1522.85 377.679 1518.27 Q380.758 1513.66 386.568 1513.66 Z\" fill=\"#000000\" fill-rule=\"evenodd\" fill-opacity=\"1\" /><path clip-path=\"url(#clip820)\" d=\"M783.939 1532.02 L813.614 1532.02 L813.614 1535.95 L783.939 1535.95 L783.939 1532.02 Z\" fill=\"#000000\" fill-rule=\"evenodd\" fill-opacity=\"1\" /><path clip-path=\"url(#clip820)\" d=\"M823.753 1514.29 L842.11 1514.29 L842.11 1518.22 L828.036 1518.22 L828.036 1526.7 Q829.054 1526.35 830.073 1526.19 Q831.091 1526 832.11 1526 Q837.897 1526 841.276 1529.17 Q844.656 1532.34 844.656 1537.76 Q844.656 1543.34 841.184 1546.44 Q837.711 1549.52 831.392 1549.52 Q829.216 1549.52 826.948 1549.15 Q824.702 1548.78 822.295 1548.04 L822.295 1543.34 Q824.378 1544.47 826.6 1545.03 Q828.823 1545.58 831.299 1545.58 Q835.304 1545.58 837.642 1543.48 Q839.98 1541.37 839.98 1537.76 Q839.98 1534.15 837.642 1532.04 Q835.304 1529.94 831.299 1529.94 Q829.425 1529.94 827.55 1530.35 Q825.698 1530.77 823.753 1531.65 L823.753 1514.29 Z\" fill=\"#000000\" fill-rule=\"evenodd\" fill-opacity=\"1\" /><path clip-path=\"url(#clip820)\" d=\"M1276.02 1517.37 Q1272.41 1517.37 1270.58 1520.93 Q1268.77 1524.47 1268.77 1531.6 Q1268.77 1538.71 1270.58 1542.27 Q1272.41 1545.82 1276.02 1545.82 Q1279.65 1545.82 1281.46 1542.27 Q1283.29 1538.71 1283.29 1531.6 Q1283.29 1524.47 1281.46 1520.93 Q1279.65 1517.37 1276.02 1517.37 M1276.02 1513.66 Q1281.83 1513.66 1284.89 1518.27 Q1287.96 1522.85 1287.96 1531.6 Q1287.96 1540.33 1284.89 1544.94 Q1281.83 1549.52 1276.02 1549.52 Q1270.21 1549.52 1267.13 1544.94 Q1264.08 1540.33 1264.08 1531.6 Q1264.08 1522.85 1267.13 1518.27 Q1270.21 1513.66 1276.02 1513.66 Z\" fill=\"#000000\" fill-rule=\"evenodd\" fill-opacity=\"1\" /><path clip-path=\"url(#clip820)\" d=\"M1728.02 1514.29 L1746.38 1514.29 L1746.38 1518.22 L1732.3 1518.22 L1732.3 1526.7 Q1733.32 1526.35 1734.34 1526.19 Q1735.36 1526 1736.38 1526 Q1742.16 1526 1745.54 1529.17 Q1748.92 1532.34 1748.92 1537.76 Q1748.92 1543.34 1745.45 1546.44 Q1741.98 1549.52 1735.66 1549.52 Q1733.48 1549.52 1731.21 1549.15 Q1728.97 1548.78 1726.56 1548.04 L1726.56 1543.34 Q1728.64 1544.47 1730.87 1545.03 Q1733.09 1545.58 1735.57 1545.58 Q1739.57 1545.58 1741.91 1543.48 Q1744.25 1541.37 1744.25 1537.76 Q1744.25 1534.15 1741.91 1532.04 Q1739.57 1529.94 1735.57 1529.94 Q1733.69 1529.94 1731.82 1530.35 Q1729.96 1530.77 1728.02 1531.65 L1728.02 1514.29 Z\" fill=\"#000000\" fill-rule=\"evenodd\" fill-opacity=\"1\" /><path clip-path=\"url(#clip820)\" d=\"M2174.15 1544.91 L2181.79 1544.91 L2181.79 1518.55 L2173.48 1520.21 L2173.48 1515.95 L2181.74 1514.29 L2186.42 1514.29 L2186.42 1544.91 L2194.06 1544.91 L2194.06 1548.85 L2174.15 1548.85 L2174.15 1544.91 Z\" fill=\"#000000\" fill-rule=\"evenodd\" fill-opacity=\"1\" /><path clip-path=\"url(#clip820)\" d=\"M2213.5 1517.37 Q2209.89 1517.37 2208.06 1520.93 Q2206.26 1524.47 2206.26 1531.6 Q2206.26 1538.71 2208.06 1542.27 Q2209.89 1545.82 2213.5 1545.82 Q2217.14 1545.82 2218.94 1542.27 Q2220.77 1538.71 2220.77 1531.6 Q2220.77 1524.47 2218.94 1520.93 Q2217.14 1517.37 2213.5 1517.37 M2213.5 1513.66 Q2219.31 1513.66 2222.37 1518.27 Q2225.45 1522.85 2225.45 1531.6 Q2225.45 1540.33 2222.37 1544.94 Q2219.31 1549.52 2213.5 1549.52 Q2207.69 1549.52 2204.61 1544.94 Q2201.56 1540.33 2201.56 1531.6 Q2201.56 1522.85 2204.61 1518.27 Q2207.69 1513.66 2213.5 1513.66 Z\" fill=\"#000000\" fill-rule=\"evenodd\" fill-opacity=\"1\" /><polyline clip-path=\"url(#clip822)\" style=\"stroke:#000000; stroke-linecap:round; stroke-linejoin:round; stroke-width:2; stroke-opacity:0.1; fill:none\" points=\"199.283,1411.56 2352.76,1411.56 \"/>\n",
       "<polyline clip-path=\"url(#clip822)\" style=\"stroke:#000000; stroke-linecap:round; stroke-linejoin:round; stroke-width:2; stroke-opacity:0.1; fill:none\" points=\"199.283,1108.43 2352.76,1108.43 \"/>\n",
       "<polyline clip-path=\"url(#clip822)\" style=\"stroke:#000000; stroke-linecap:round; stroke-linejoin:round; stroke-width:2; stroke-opacity:0.1; fill:none\" points=\"199.283,805.288 2352.76,805.288 \"/>\n",
       "<polyline clip-path=\"url(#clip822)\" style=\"stroke:#000000; stroke-linecap:round; stroke-linejoin:round; stroke-width:2; stroke-opacity:0.1; fill:none\" points=\"199.283,502.15 2352.76,502.15 \"/>\n",
       "<polyline clip-path=\"url(#clip822)\" style=\"stroke:#000000; stroke-linecap:round; stroke-linejoin:round; stroke-width:2; stroke-opacity:0.1; fill:none\" points=\"199.283,199.012 2352.76,199.012 \"/>\n",
       "<polyline clip-path=\"url(#clip820)\" style=\"stroke:#000000; stroke-linecap:round; stroke-linejoin:round; stroke-width:4; stroke-opacity:1; fill:none\" points=\"199.283,1486.45 199.283,47.2441 \"/>\n",
       "<polyline clip-path=\"url(#clip820)\" style=\"stroke:#000000; stroke-linecap:round; stroke-linejoin:round; stroke-width:4; stroke-opacity:1; fill:none\" points=\"199.283,1411.56 218.181,1411.56 \"/>\n",
       "<polyline clip-path=\"url(#clip820)\" style=\"stroke:#000000; stroke-linecap:round; stroke-linejoin:round; stroke-width:4; stroke-opacity:1; fill:none\" points=\"199.283,1108.43 218.181,1108.43 \"/>\n",
       "<polyline clip-path=\"url(#clip820)\" style=\"stroke:#000000; stroke-linecap:round; stroke-linejoin:round; stroke-width:4; stroke-opacity:1; fill:none\" points=\"199.283,805.288 218.181,805.288 \"/>\n",
       "<polyline clip-path=\"url(#clip820)\" style=\"stroke:#000000; stroke-linecap:round; stroke-linejoin:round; stroke-width:4; stroke-opacity:1; fill:none\" points=\"199.283,502.15 218.181,502.15 \"/>\n",
       "<polyline clip-path=\"url(#clip820)\" style=\"stroke:#000000; stroke-linecap:round; stroke-linejoin:round; stroke-width:4; stroke-opacity:1; fill:none\" points=\"199.283,199.012 218.181,199.012 \"/>\n",
       "<path clip-path=\"url(#clip820)\" d=\"M151.339 1397.36 Q147.728 1397.36 145.899 1400.93 Q144.093 1404.47 144.093 1411.6 Q144.093 1418.7 145.899 1422.27 Q147.728 1425.81 151.339 1425.81 Q154.973 1425.81 156.779 1422.27 Q158.607 1418.7 158.607 1411.6 Q158.607 1404.47 156.779 1400.93 Q154.973 1397.36 151.339 1397.36 M151.339 1393.66 Q157.149 1393.66 160.205 1398.26 Q163.283 1402.85 163.283 1411.6 Q163.283 1420.33 160.205 1424.93 Q157.149 1429.51 151.339 1429.51 Q145.529 1429.51 142.45 1424.93 Q139.394 1420.33 139.394 1411.6 Q139.394 1402.85 142.45 1398.26 Q145.529 1393.66 151.339 1393.66 Z\" fill=\"#000000\" fill-rule=\"evenodd\" fill-opacity=\"1\" /><path clip-path=\"url(#clip820)\" d=\"M85.0429 1121.77 L101.362 1121.77 L101.362 1125.71 L79.4179 1125.71 L79.4179 1121.77 Q82.0799 1119.02 86.6632 1114.39 Q91.2697 1109.73 92.4502 1108.39 Q94.6956 1105.87 95.5752 1104.13 Q96.478 1102.37 96.478 1100.68 Q96.478 1097.93 94.5336 1096.19 Q92.6123 1094.46 89.5104 1094.46 Q87.3114 1094.46 84.8577 1095.22 Q82.4271 1095.98 79.6494 1097.53 L79.6494 1092.81 Q82.4734 1091.68 84.9271 1091.1 Q87.3808 1090.52 89.4178 1090.52 Q94.7882 1090.52 97.9826 1093.21 Q101.177 1095.89 101.177 1100.38 Q101.177 1102.51 100.367 1104.43 Q99.5798 1106.33 97.4734 1108.92 Q96.8947 1109.59 93.7928 1112.81 Q90.691 1116.01 85.0429 1121.77 Z\" fill=\"#000000\" fill-rule=\"evenodd\" fill-opacity=\"1\" /><path clip-path=\"url(#clip820)\" d=\"M111.223 1091.15 L129.58 1091.15 L129.58 1095.08 L115.506 1095.08 L115.506 1103.55 Q116.524 1103.21 117.543 1103.04 Q118.561 1102.86 119.58 1102.86 Q125.367 1102.86 128.746 1106.03 Q132.126 1109.2 132.126 1114.62 Q132.126 1120.2 128.654 1123.3 Q125.182 1126.38 118.862 1126.38 Q116.686 1126.38 114.418 1126.01 Q112.172 1125.64 109.765 1124.9 L109.765 1120.2 Q111.848 1121.33 114.07 1121.89 Q116.293 1122.44 118.77 1122.44 Q122.774 1122.44 125.112 1120.34 Q127.45 1118.23 127.45 1114.62 Q127.45 1111.01 125.112 1108.9 Q122.774 1106.79 118.77 1106.79 Q116.895 1106.79 115.02 1107.21 Q113.168 1107.63 111.223 1108.51 L111.223 1091.15 Z\" fill=\"#000000\" fill-rule=\"evenodd\" fill-opacity=\"1\" /><path clip-path=\"url(#clip820)\" d=\"M151.339 1094.22 Q147.728 1094.22 145.899 1097.79 Q144.093 1101.33 144.093 1108.46 Q144.093 1115.57 145.899 1119.13 Q147.728 1122.67 151.339 1122.67 Q154.973 1122.67 156.779 1119.13 Q158.607 1115.57 158.607 1108.46 Q158.607 1101.33 156.779 1097.79 Q154.973 1094.22 151.339 1094.22 M151.339 1090.52 Q157.149 1090.52 160.205 1095.13 Q163.283 1099.71 163.283 1108.46 Q163.283 1117.19 160.205 1121.79 Q157.149 1126.38 151.339 1126.38 Q145.529 1126.38 142.45 1121.79 Q139.394 1117.19 139.394 1108.46 Q139.394 1099.71 142.45 1095.13 Q145.529 1090.52 151.339 1090.52 Z\" fill=\"#000000\" fill-rule=\"evenodd\" fill-opacity=\"1\" /><path clip-path=\"url(#clip820)\" d=\"M81.0614 788.008 L99.4178 788.008 L99.4178 791.943 L85.3438 791.943 L85.3438 800.415 Q86.3623 800.068 87.3808 799.906 Q88.3993 799.721 89.4178 799.721 Q95.2049 799.721 98.5845 802.892 Q101.964 806.063 101.964 811.48 Q101.964 817.059 98.4919 820.16 Q95.0197 823.239 88.7003 823.239 Q86.5243 823.239 84.2558 822.869 Q82.0105 822.498 79.6031 821.758 L79.6031 817.059 Q81.6864 818.193 83.9086 818.748 Q86.1308 819.304 88.6077 819.304 Q92.6123 819.304 94.9502 817.197 Q97.2882 815.091 97.2882 811.48 Q97.2882 807.869 94.9502 805.762 Q92.6123 803.656 88.6077 803.656 Q86.7327 803.656 84.8577 804.073 Q83.0058 804.489 81.0614 805.369 L81.0614 788.008 Z\" fill=\"#000000\" fill-rule=\"evenodd\" fill-opacity=\"1\" /><path clip-path=\"url(#clip820)\" d=\"M121.177 791.087 Q117.566 791.087 115.737 794.651 Q113.932 798.193 113.932 805.323 Q113.932 812.429 115.737 815.994 Q117.566 819.535 121.177 819.535 Q124.811 819.535 126.617 815.994 Q128.445 812.429 128.445 805.323 Q128.445 798.193 126.617 794.651 Q124.811 791.087 121.177 791.087 M121.177 787.383 Q126.987 787.383 130.043 791.989 Q133.121 796.573 133.121 805.323 Q133.121 814.049 130.043 818.656 Q126.987 823.239 121.177 823.239 Q115.367 823.239 112.288 818.656 Q109.233 814.049 109.233 805.323 Q109.233 796.573 112.288 791.989 Q115.367 787.383 121.177 787.383 Z\" fill=\"#000000\" fill-rule=\"evenodd\" fill-opacity=\"1\" /><path clip-path=\"url(#clip820)\" d=\"M151.339 791.087 Q147.728 791.087 145.899 794.651 Q144.093 798.193 144.093 805.323 Q144.093 812.429 145.899 815.994 Q147.728 819.535 151.339 819.535 Q154.973 819.535 156.779 815.994 Q158.607 812.429 158.607 805.323 Q158.607 798.193 156.779 794.651 Q154.973 791.087 151.339 791.087 M151.339 787.383 Q157.149 787.383 160.205 791.989 Q163.283 796.573 163.283 805.323 Q163.283 814.049 160.205 818.656 Q157.149 823.239 151.339 823.239 Q145.529 823.239 142.45 818.656 Q139.394 814.049 139.394 805.323 Q139.394 796.573 142.45 791.989 Q145.529 787.383 151.339 787.383 Z\" fill=\"#000000\" fill-rule=\"evenodd\" fill-opacity=\"1\" /><path clip-path=\"url(#clip820)\" d=\"M79.8346 484.87 L102.057 484.87 L102.057 486.861 L89.5104 519.43 L84.6262 519.43 L96.4317 488.805 L79.8346 488.805 L79.8346 484.87 Z\" fill=\"#000000\" fill-rule=\"evenodd\" fill-opacity=\"1\" /><path clip-path=\"url(#clip820)\" d=\"M111.223 484.87 L129.58 484.87 L129.58 488.805 L115.506 488.805 L115.506 497.277 Q116.524 496.93 117.543 496.768 Q118.561 496.583 119.58 496.583 Q125.367 496.583 128.746 499.754 Q132.126 502.925 132.126 508.342 Q132.126 513.921 128.654 517.023 Q125.182 520.101 118.862 520.101 Q116.686 520.101 114.418 519.731 Q112.172 519.361 109.765 518.62 L109.765 513.921 Q111.848 515.055 114.07 515.611 Q116.293 516.166 118.77 516.166 Q122.774 516.166 125.112 514.06 Q127.45 511.953 127.45 508.342 Q127.45 504.731 125.112 502.625 Q122.774 500.518 118.77 500.518 Q116.895 500.518 115.02 500.935 Q113.168 501.351 111.223 502.231 L111.223 484.87 Z\" fill=\"#000000\" fill-rule=\"evenodd\" fill-opacity=\"1\" /><path clip-path=\"url(#clip820)\" d=\"M151.339 487.949 Q147.728 487.949 145.899 491.513 Q144.093 495.055 144.093 502.185 Q144.093 509.291 145.899 512.856 Q147.728 516.398 151.339 516.398 Q154.973 516.398 156.779 512.856 Q158.607 509.291 158.607 502.185 Q158.607 495.055 156.779 491.513 Q154.973 487.949 151.339 487.949 M151.339 484.245 Q157.149 484.245 160.205 488.851 Q163.283 493.435 163.283 502.185 Q163.283 510.912 160.205 515.518 Q157.149 520.101 151.339 520.101 Q145.529 520.101 142.45 515.518 Q139.394 510.912 139.394 502.185 Q139.394 493.435 142.45 488.851 Q145.529 484.245 151.339 484.245 Z\" fill=\"#000000\" fill-rule=\"evenodd\" fill-opacity=\"1\" /><path clip-path=\"url(#clip820)\" d=\"M51.6634 212.357 L59.3023 212.357 L59.3023 185.991 L50.9921 187.658 L50.9921 183.399 L59.256 181.732 L63.9319 181.732 L63.9319 212.357 L71.5707 212.357 L71.5707 216.292 L51.6634 216.292 L51.6634 212.357 Z\" fill=\"#000000\" fill-rule=\"evenodd\" fill-opacity=\"1\" /><path clip-path=\"url(#clip820)\" d=\"M91.0151 184.811 Q87.404 184.811 85.5753 188.376 Q83.7697 191.917 83.7697 199.047 Q83.7697 206.153 85.5753 209.718 Q87.404 213.26 91.0151 213.26 Q94.6493 213.26 96.4548 209.718 Q98.2835 206.153 98.2835 199.047 Q98.2835 191.917 96.4548 188.376 Q94.6493 184.811 91.0151 184.811 M91.0151 181.107 Q96.8252 181.107 99.8808 185.714 Q102.959 190.297 102.959 199.047 Q102.959 207.774 99.8808 212.38 Q96.8252 216.963 91.0151 216.963 Q85.2049 216.963 82.1262 212.38 Q79.0707 207.774 79.0707 199.047 Q79.0707 190.297 82.1262 185.714 Q85.2049 181.107 91.0151 181.107 Z\" fill=\"#000000\" fill-rule=\"evenodd\" fill-opacity=\"1\" /><path clip-path=\"url(#clip820)\" d=\"M121.177 184.811 Q117.566 184.811 115.737 188.376 Q113.932 191.917 113.932 199.047 Q113.932 206.153 115.737 209.718 Q117.566 213.26 121.177 213.26 Q124.811 213.26 126.617 209.718 Q128.445 206.153 128.445 199.047 Q128.445 191.917 126.617 188.376 Q124.811 184.811 121.177 184.811 M121.177 181.107 Q126.987 181.107 130.043 185.714 Q133.121 190.297 133.121 199.047 Q133.121 207.774 130.043 212.38 Q126.987 216.963 121.177 216.963 Q115.367 216.963 112.288 212.38 Q109.233 207.774 109.233 199.047 Q109.233 190.297 112.288 185.714 Q115.367 181.107 121.177 181.107 Z\" fill=\"#000000\" fill-rule=\"evenodd\" fill-opacity=\"1\" /><path clip-path=\"url(#clip820)\" d=\"M151.339 184.811 Q147.728 184.811 145.899 188.376 Q144.093 191.917 144.093 199.047 Q144.093 206.153 145.899 209.718 Q147.728 213.26 151.339 213.26 Q154.973 213.26 156.779 209.718 Q158.607 206.153 158.607 199.047 Q158.607 191.917 156.779 188.376 Q154.973 184.811 151.339 184.811 M151.339 181.107 Q157.149 181.107 160.205 185.714 Q163.283 190.297 163.283 199.047 Q163.283 207.774 160.205 212.38 Q157.149 216.963 151.339 216.963 Q145.529 216.963 142.45 212.38 Q139.394 207.774 139.394 199.047 Q139.394 190.297 142.45 185.714 Q145.529 181.107 151.339 181.107 Z\" fill=\"#000000\" fill-rule=\"evenodd\" fill-opacity=\"1\" /><circle clip-path=\"url(#clip822)\" cx=\"352.575\" cy=\"1279.51\" r=\"14.4\" fill=\"#009af9\" fill-rule=\"evenodd\" fill-opacity=\"1\" stroke=\"#000000\" stroke-opacity=\"1\" stroke-width=\"3.2\"/>\n",
       "<circle clip-path=\"url(#clip822)\" cx=\"444.919\" cy=\"1419.2\" r=\"14.4\" fill=\"#009af9\" fill-rule=\"evenodd\" fill-opacity=\"1\" stroke=\"#000000\" stroke-opacity=\"1\" stroke-width=\"3.2\"/>\n",
       "<circle clip-path=\"url(#clip822)\" cx=\"537.264\" cy=\"1380.07\" r=\"14.4\" fill=\"#009af9\" fill-rule=\"evenodd\" fill-opacity=\"1\" stroke=\"#000000\" stroke-opacity=\"1\" stroke-width=\"3.2\"/>\n",
       "<circle clip-path=\"url(#clip822)\" cx=\"629.608\" cy=\"1445.72\" r=\"14.4\" fill=\"#009af9\" fill-rule=\"evenodd\" fill-opacity=\"1\" stroke=\"#000000\" stroke-opacity=\"1\" stroke-width=\"3.2\"/>\n",
       "<circle clip-path=\"url(#clip822)\" cx=\"721.953\" cy=\"1331.62\" r=\"14.4\" fill=\"#009af9\" fill-rule=\"evenodd\" fill-opacity=\"1\" stroke=\"#000000\" stroke-opacity=\"1\" stroke-width=\"3.2\"/>\n",
       "<circle clip-path=\"url(#clip822)\" cx=\"814.297\" cy=\"1397.1\" r=\"14.4\" fill=\"#009af9\" fill-rule=\"evenodd\" fill-opacity=\"1\" stroke=\"#000000\" stroke-opacity=\"1\" stroke-width=\"3.2\"/>\n",
       "<circle clip-path=\"url(#clip822)\" cx=\"906.642\" cy=\"1411.02\" r=\"14.4\" fill=\"#009af9\" fill-rule=\"evenodd\" fill-opacity=\"1\" stroke=\"#000000\" stroke-opacity=\"1\" stroke-width=\"3.2\"/>\n",
       "<circle clip-path=\"url(#clip822)\" cx=\"998.986\" cy=\"1314.53\" r=\"14.4\" fill=\"#009af9\" fill-rule=\"evenodd\" fill-opacity=\"1\" stroke=\"#000000\" stroke-opacity=\"1\" stroke-width=\"3.2\"/>\n",
       "<circle clip-path=\"url(#clip822)\" cx=\"1091.33\" cy=\"1353\" r=\"14.4\" fill=\"#009af9\" fill-rule=\"evenodd\" fill-opacity=\"1\" stroke=\"#000000\" stroke-opacity=\"1\" stroke-width=\"3.2\"/>\n",
       "<circle clip-path=\"url(#clip822)\" cx=\"1183.68\" cy=\"1417.24\" r=\"14.4\" fill=\"#009af9\" fill-rule=\"evenodd\" fill-opacity=\"1\" stroke=\"#000000\" stroke-opacity=\"1\" stroke-width=\"3.2\"/>\n",
       "<circle clip-path=\"url(#clip822)\" cx=\"1276.02\" cy=\"1433.53\" r=\"14.4\" fill=\"#009af9\" fill-rule=\"evenodd\" fill-opacity=\"1\" stroke=\"#000000\" stroke-opacity=\"1\" stroke-width=\"3.2\"/>\n",
       "<circle clip-path=\"url(#clip822)\" cx=\"1368.36\" cy=\"1384.15\" r=\"14.4\" fill=\"#009af9\" fill-rule=\"evenodd\" fill-opacity=\"1\" stroke=\"#000000\" stroke-opacity=\"1\" stroke-width=\"3.2\"/>\n",
       "<circle clip-path=\"url(#clip822)\" cx=\"1460.71\" cy=\"1346.57\" r=\"14.4\" fill=\"#009af9\" fill-rule=\"evenodd\" fill-opacity=\"1\" stroke=\"#000000\" stroke-opacity=\"1\" stroke-width=\"3.2\"/>\n",
       "<circle clip-path=\"url(#clip822)\" cx=\"1553.05\" cy=\"1359.67\" r=\"14.4\" fill=\"#009af9\" fill-rule=\"evenodd\" fill-opacity=\"1\" stroke=\"#000000\" stroke-opacity=\"1\" stroke-width=\"3.2\"/>\n",
       "<circle clip-path=\"url(#clip822)\" cx=\"1645.4\" cy=\"1261.75\" r=\"14.4\" fill=\"#009af9\" fill-rule=\"evenodd\" fill-opacity=\"1\" stroke=\"#000000\" stroke-opacity=\"1\" stroke-width=\"3.2\"/>\n",
       "<circle clip-path=\"url(#clip822)\" cx=\"1737.74\" cy=\"1366.8\" r=\"14.4\" fill=\"#009af9\" fill-rule=\"evenodd\" fill-opacity=\"1\" stroke=\"#000000\" stroke-opacity=\"1\" stroke-width=\"3.2\"/>\n",
       "<circle clip-path=\"url(#clip822)\" cx=\"1830.09\" cy=\"1330.8\" r=\"14.4\" fill=\"#009af9\" fill-rule=\"evenodd\" fill-opacity=\"1\" stroke=\"#000000\" stroke-opacity=\"1\" stroke-width=\"3.2\"/>\n",
       "<circle clip-path=\"url(#clip822)\" cx=\"1922.43\" cy=\"1336.94\" r=\"14.4\" fill=\"#009af9\" fill-rule=\"evenodd\" fill-opacity=\"1\" stroke=\"#000000\" stroke-opacity=\"1\" stroke-width=\"3.2\"/>\n",
       "<circle clip-path=\"url(#clip822)\" cx=\"2014.78\" cy=\"1392.5\" r=\"14.4\" fill=\"#009af9\" fill-rule=\"evenodd\" fill-opacity=\"1\" stroke=\"#000000\" stroke-opacity=\"1\" stroke-width=\"3.2\"/>\n",
       "<circle clip-path=\"url(#clip822)\" cx=\"2107.12\" cy=\"1365.33\" r=\"14.4\" fill=\"#009af9\" fill-rule=\"evenodd\" fill-opacity=\"1\" stroke=\"#000000\" stroke-opacity=\"1\" stroke-width=\"3.2\"/>\n",
       "<circle clip-path=\"url(#clip822)\" cx=\"2199.46\" cy=\"1264.29\" r=\"14.4\" fill=\"#009af9\" fill-rule=\"evenodd\" fill-opacity=\"1\" stroke=\"#000000\" stroke-opacity=\"1\" stroke-width=\"3.2\"/>\n",
       "<polyline clip-path=\"url(#clip822)\" style=\"stroke:#e26f46; stroke-linecap:round; stroke-linejoin:round; stroke-width:4; stroke-opacity:1; fill:none\" points=\"352.575,1329.11 444.919,1348.51 537.264,1365.49 629.608,1380.04 721.953,1392.16 814.297,1401.86 906.642,1409.14 998.986,1413.99 1091.33,1416.41 1183.68,1416.41 1276.02,1413.99 1368.36,1409.14 1460.71,1401.86 1553.05,1392.16 1645.4,1380.04 1737.74,1365.49 1830.09,1348.51 1922.43,1329.11 2014.78,1307.28 2107.12,1283.03 2199.46,1256.36 \"/>\n",
       "<polyline clip-path=\"url(#clip822)\" style=\"stroke:#3da44d; stroke-linecap:round; stroke-linejoin:round; stroke-width:4; stroke-opacity:1; fill:none\" points=\"260.231,87.9763 269.465,311.267 278.699,503.302 287.934,667.652 297.168,807.56 306.403,925.964 315.637,1025.52 324.872,1108.62 334.106,1177.41 343.341,1233.84 352.575,1279.62 361.809,1316.3 371.044,1345.24 380.278,1367.65 389.513,1384.6 398.747,1397.04 407.982,1405.76 417.216,1411.5 426.451,1414.86 435.685,1416.36 444.919,1416.46 454.154,1415.53 463.388,1413.89 472.623,1411.8 481.857,1409.46 491.092,1407.06 500.326,1404.71 509.561,1402.51 518.795,1400.54 528.029,1398.84 537.264,1397.43 546.498,1396.33 555.733,1395.52 564.967,1394.99 574.202,1394.73 583.436,1394.68 592.671,1394.83 601.905,1395.13 611.139,1395.54 620.374,1396.02 629.608,1396.53 638.843,1397.04 648.077,1397.5 657.312,1397.89 666.546,1398.17 675.781,1398.32 685.015,1398.33 694.249,1398.16 703.484,1397.81 712.718,1397.27 721.953,1396.54 731.187,1395.61 740.422,1394.49 749.656,1393.19 758.891,1391.7 768.125,1390.05 777.359,1388.25 786.594,1386.33 795.828,1384.28 805.063,1382.15 814.297,1379.95 823.532,1377.71 832.766,1375.45 842.001,1373.19 851.235,1370.96 860.469,1368.78 869.704,1366.68 878.938,1364.68 888.173,1362.8 897.407,1361.06 906.642,1359.49 915.876,1358.09 925.111,1356.89 934.345,1355.89 943.58,1355.12 952.814,1354.57 962.048,1354.25 971.283,1354.18 980.517,1354.35 989.752,1354.76 998.986,1355.41 1008.22,1356.29 1017.46,1357.41 1026.69,1358.74 1035.92,1360.28 1045.16,1362.02 1054.39,1363.95 1063.63,1366.03 1072.86,1368.27 1082.1,1370.63 1091.33,1373.11 1100.57,1375.67 1109.8,1378.29 1119.03,1380.96 1128.27,1383.65 1137.5,1386.34 1146.74,1389 1155.97,1391.61 1165.21,1394.14 1174.44,1396.58 1183.68,1398.9 1192.91,1401.08 1202.14,1403.11 1211.38,1404.95 1220.61,1406.6 1229.85,1408.03 1239.08,1409.24 1248.32,1410.2 1257.55,1410.91 1266.79,1411.36 1276.02,1411.54 1285.25,1411.44 1294.49,1411.07 1303.72,1410.41 1312.96,1409.47 1322.19,1408.25 1331.43,1406.75 1340.66,1404.98 1349.9,1402.96 1359.13,1400.68 1368.36,1398.17 1377.6,1395.43 1386.83,1392.48 1396.07,1389.34 1405.3,1386.02 1414.54,1382.55 1423.77,1378.94 1433.01,1375.23 1442.24,1371.42 1451.47,1367.55 1460.71,1363.63 1469.94,1359.7 1479.18,1355.77 1488.41,1351.88 1497.65,1348.03 1506.88,1344.27 1516.12,1340.61 1525.35,1337.07 1534.58,1333.68 1543.82,1330.45 1553.05,1327.41 1562.29,1324.57 1571.52,1321.95 1580.76,1319.56 1589.99,1317.41 1599.23,1315.52 1608.46,1313.9 1617.69,1312.55 1626.93,1311.48 1636.16,1310.68 1645.4,1310.16 1654.63,1309.92 1663.87,1309.95 1673.1,1310.24 1682.34,1310.79 1691.57,1311.59 1700.8,1312.63 1710.04,1313.88 1719.27,1315.34 1728.51,1316.98 1737.74,1318.79 1746.98,1320.75 1756.21,1322.83 1765.45,1325.03 1774.68,1327.3 1783.91,1329.64 1793.15,1332.02 1802.38,1334.42 1811.62,1336.81 1820.85,1339.19 1830.09,1341.52 1839.32,1343.8 1848.56,1346 1857.79,1348.12 1867.02,1350.14 1876.26,1352.06 1885.49,1353.86 1894.73,1355.55 1903.96,1357.13 1913.2,1358.59 1922.43,1359.94 1931.67,1361.19 1940.9,1362.35 1950.13,1363.42 1959.37,1364.43 1968.6,1365.39 1977.84,1366.3 1987.07,1367.19 1996.31,1368.07 2005.54,1368.95 2014.78,1369.83 2024.01,1370.72 2033.24,1371.61 2042.48,1372.48 2051.71,1373.31 2060.95,1374.06 2070.18,1374.67 2079.42,1375.07 2088.65,1375.14 2097.89,1374.78 2107.12,1373.81 2116.35,1372.05 2125.59,1369.25 2134.82,1365.15 2144.06,1359.39 2153.29,1351.59 2162.53,1341.29 2171.76,1327.96 2181,1310.97 2190.23,1289.62 2199.46,1263.1 2208.7,1230.49 2217.93,1190.75 2227.17,1142.7 2236.4,1085.02 2245.64,1016.21 2254.87,934.614 2264.11,838.38 2273.34,725.442 2282.57,593.511 2291.81,440.052 \"/>\n",
       "<path clip-path=\"url(#clip820)\" d=\"M2012.62 302.578 L2280.97 302.578 L2280.97 95.2176 L2012.62 95.2176  Z\" fill=\"#ffffff\" fill-rule=\"evenodd\" fill-opacity=\"1\"/>\n",
       "<polyline clip-path=\"url(#clip820)\" style=\"stroke:#000000; stroke-linecap:round; stroke-linejoin:round; stroke-width:4; stroke-opacity:1; fill:none\" points=\"2012.62,302.578 2280.97,302.578 2280.97,95.2176 2012.62,95.2176 2012.62,302.578 \"/>\n",
       "<circle clip-path=\"url(#clip820)\" cx=\"2108.33\" cy=\"147.058\" r=\"23.04\" fill=\"#009af9\" fill-rule=\"evenodd\" fill-opacity=\"1\" stroke=\"#000000\" stroke-opacity=\"1\" stroke-width=\"5.12\"/>\n",
       "<path clip-path=\"url(#clip820)\" d=\"M2217.88 166.745 Q2216.07 171.375 2214.36 172.787 Q2212.65 174.199 2209.78 174.199 L2206.37 174.199 L2206.37 170.634 L2208.87 170.634 Q2210.63 170.634 2211.61 169.8 Q2212.58 168.967 2213.76 165.865 L2214.52 163.921 L2204.04 138.412 L2208.55 138.412 L2216.65 158.689 L2224.75 138.412 L2229.27 138.412 L2217.88 166.745 Z\" fill=\"#000000\" fill-rule=\"evenodd\" fill-opacity=\"1\" /><path clip-path=\"url(#clip820)\" d=\"M2236.56 160.402 L2244.2 160.402 L2244.2 134.037 L2235.89 135.703 L2235.89 131.444 L2244.15 129.778 L2248.83 129.778 L2248.83 160.402 L2256.47 160.402 L2256.47 164.338 L2236.56 164.338 L2236.56 160.402 Z\" fill=\"#000000\" fill-rule=\"evenodd\" fill-opacity=\"1\" /><polyline clip-path=\"url(#clip820)\" style=\"stroke:#e26f46; stroke-linecap:round; stroke-linejoin:round; stroke-width:4; stroke-opacity:1; fill:none\" points=\"2036.54,198.898 2180.11,198.898 \"/>\n",
       "<path clip-path=\"url(#clip820)\" d=\"M2217.88 218.585 Q2216.07 223.215 2214.36 224.627 Q2212.65 226.039 2209.78 226.039 L2206.37 226.039 L2206.37 222.474 L2208.87 222.474 Q2210.63 222.474 2211.61 221.64 Q2212.58 220.807 2213.76 217.705 L2214.52 215.761 L2204.04 190.252 L2208.55 190.252 L2216.65 210.529 L2224.75 190.252 L2229.27 190.252 L2217.88 218.585 Z\" fill=\"#000000\" fill-rule=\"evenodd\" fill-opacity=\"1\" /><path clip-path=\"url(#clip820)\" d=\"M2239.78 212.242 L2256.1 212.242 L2256.1 216.178 L2234.15 216.178 L2234.15 212.242 Q2236.81 209.488 2241.4 204.858 Q2246 200.205 2247.18 198.863 Q2249.43 196.34 2250.31 194.604 Q2251.21 192.844 2251.21 191.155 Q2251.21 188.4 2249.27 186.664 Q2247.35 184.928 2244.25 184.928 Q2242.05 184.928 2239.59 185.692 Q2237.16 186.455 2234.38 188.006 L2234.38 183.284 Q2237.21 182.15 2239.66 181.571 Q2242.12 180.993 2244.15 180.993 Q2249.52 180.993 2252.72 183.678 Q2255.91 186.363 2255.91 190.854 Q2255.91 192.983 2255.1 194.905 Q2254.31 196.803 2252.21 199.395 Q2251.63 200.067 2248.53 203.284 Q2245.43 206.479 2239.78 212.242 Z\" fill=\"#000000\" fill-rule=\"evenodd\" fill-opacity=\"1\" /><polyline clip-path=\"url(#clip820)\" style=\"stroke:#3da44d; stroke-linecap:round; stroke-linejoin:round; stroke-width:4; stroke-opacity:1; fill:none\" points=\"2036.54,250.738 2180.11,250.738 \"/>\n",
       "<path clip-path=\"url(#clip820)\" d=\"M2217.88 270.425 Q2216.07 275.055 2214.36 276.467 Q2212.65 277.879 2209.78 277.879 L2206.37 277.879 L2206.37 274.314 L2208.87 274.314 Q2210.63 274.314 2211.61 273.48 Q2212.58 272.647 2213.76 269.545 L2214.52 267.601 L2204.04 242.092 L2208.55 242.092 L2216.65 262.369 L2224.75 242.092 L2229.27 242.092 L2217.88 270.425 Z\" fill=\"#000000\" fill-rule=\"evenodd\" fill-opacity=\"1\" /><path clip-path=\"url(#clip820)\" d=\"M2249.92 249.383 Q2253.27 250.101 2255.15 252.369 Q2257.05 254.638 2257.05 257.971 Q2257.05 263.087 2253.53 265.888 Q2250.01 268.689 2243.53 268.689 Q2241.35 268.689 2239.04 268.249 Q2236.75 267.832 2234.29 266.976 L2234.29 262.462 Q2236.24 263.596 2238.55 264.175 Q2240.87 264.754 2243.39 264.754 Q2247.79 264.754 2250.08 263.018 Q2252.39 261.281 2252.39 257.971 Q2252.39 254.916 2250.24 253.203 Q2248.11 251.467 2244.29 251.467 L2240.26 251.467 L2240.26 247.624 L2244.48 247.624 Q2247.93 247.624 2249.75 246.258 Q2251.58 244.87 2251.58 242.277 Q2251.58 239.615 2249.68 238.203 Q2247.81 236.768 2244.29 236.768 Q2242.37 236.768 2240.17 237.184 Q2237.97 237.601 2235.33 238.481 L2235.33 234.314 Q2238 233.573 2240.31 233.203 Q2242.65 232.833 2244.71 232.833 Q2250.03 232.833 2253.13 235.263 Q2256.24 237.67 2256.24 241.791 Q2256.24 244.661 2254.59 246.652 Q2252.95 248.62 2249.92 249.383 Z\" fill=\"#000000\" fill-rule=\"evenodd\" fill-opacity=\"1\" /></svg>\n"
      ]
     },
     "execution_count": 34,
     "metadata": {},
     "output_type": "execute_result"
    }
   ],
   "source": [
    "x_fit = -11:0.1:11\n",
    "scatter(x, y_observed)\n",
    "plot!(x, y_true)\n",
    "line_fit = Polynomials.fit(x,y_observed,10)\n",
    "y_fit = line_fit.(x_fit)\n",
    "plot!(x_fit, y_fit)"
   ]
  },
  {
   "cell_type": "markdown",
   "id": "bbcb4ef4",
   "metadata": {},
   "source": [
    "3. What do you observe in the plot? What is this phenomenon called?"
   ]
  },
  {
   "cell_type": "markdown",
   "id": "49a085b1",
   "metadata": {},
   "source": [
    "This is overfitting where the fitted line tries to stick every parameter that is given. This occurs when there are too many parameters to meet. "
   ]
  }
 ],
 "metadata": {
  "kernelspec": {
   "display_name": "Julia 1.8.5",
   "language": "julia",
   "name": "julia-1.8"
  },
  "language_info": {
   "file_extension": ".jl",
   "mimetype": "application/julia",
   "name": "julia",
   "version": "1.8.5"
  }
 },
 "nbformat": 4,
 "nbformat_minor": 5
}
