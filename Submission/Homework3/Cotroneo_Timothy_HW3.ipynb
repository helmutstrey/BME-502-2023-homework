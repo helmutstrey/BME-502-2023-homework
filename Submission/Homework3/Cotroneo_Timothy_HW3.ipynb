{
 "cells": [
  {
   "cell_type": "markdown",
   "id": "1fbe377b",
   "metadata": {},
   "source": [
    "<h1>HW3</h1>"
   ]
  },
  {
   "cell_type": "markdown",
   "id": "79813e24",
   "metadata": {},
   "source": [
    "# Question 1\n",
    "### (Bayes Theorem) Read the following example and complete the exercises \n",
    "\n",
    "Trolls Under the Bridge\n",
    "1. Trolls(T) are bad\n",
    "2. Gnomes(G) are benign\n",
    "3. Every bridge has 5 creatures under it\n",
    "\n",
    "Below are the probabilities of what creatures live under a bridge:\n",
    "1. TTGGG: 20% (E1)\n",
    "2. TGGGG: 20% (E2)\n",
    "3. GGGGG: 60% (E3)\n",
    "\n",
    "A knight is approaching a bridge and he wants to know his chance of crossing the bridge safely."
   ]
  },
  {
   "cell_type": "markdown",
   "id": "425f8583",
   "metadata": {},
   "source": [
    "### 1.1 \n",
    "\n",
    "#### What is the chance of the knight crossing the bridge safely?\n"
   ]
  },
  {
   "cell_type": "markdown",
   "id": "53085818",
   "metadata": {},
   "source": [
    "If the knight can not cross safely with a troll present, then 60%, because the other possibilities have a troll."
   ]
  },
  {
   "cell_type": "markdown",
   "id": "61f687e4",
   "metadata": {},
   "source": [
    "### 1.2\n",
    "\n",
    "#### Before crossing a bridge, a knight captures a troll. “I now have an 80% chance of crossing safely,” he reasons, “since only the case 20% had TTGGG (E1) now have TGGG is still a threat.”\n",
    "\n",
    "#### Do you agree with him? Why?"
   ]
  },
  {
   "cell_type": "markdown",
   "id": "09025213",
   "metadata": {},
   "source": [
    "No, the probability is no longer just, P(E1) or P(E2) or P(E3). It would be given a troll is found, so either P(E1) or P(E2) not P(E3)."
   ]
  },
  {
   "cell_type": "markdown",
   "id": "c1533b67",
   "metadata": {},
   "source": [
    "### 1.3\n",
    "\n",
    "#### Now he wants to use Bayes' theorem to calculate his chance of crossing safely given a troll captured \n",
    "\n",
    "\\begin{equation*}\n",
    "P(A|B) = \\frac{P(B|A)P(A)}{P(B)} \\\\\n",
    "P(A|B): Posteior \\\\\n",
    "P(B|A): Likelihood \\\\\n",
    "P(A): Prior \\\\\n",
    "P(B): Marginal Probability \\\\\n",
    "\\end{equation*}\n",
    "\n",
    "#### Given the three events, E1, E2, and E3, which two of the three events does the knight need to consider after a troll was captured?"
   ]
  },
  {
   "cell_type": "markdown",
   "id": "0adb7f0a",
   "metadata": {},
   "source": [
    "E1 or E2 have a troll. E3 does not have a troll and since one was captured, it could not be the event."
   ]
  },
  {
   "cell_type": "markdown",
   "id": "e45e8fa6",
   "metadata": {},
   "source": [
    "### 1.4\n",
    "\n",
    "#### Use Bayes' theorem to calculate the probability of the two events in 1.3 (separately) given the troll was captured. "
   ]
  },
  {
   "cell_type": "markdown",
   "id": "5d9c3c0b",
   "metadata": {},
   "source": [
    "Probability of one event given a troll captured: "
   ]
  },
  {
   "cell_type": "code",
   "execution_count": 9,
   "id": "e30121c0",
   "metadata": {},
   "outputs": [],
   "source": [
    "#P(E2|TrollCap) = P(E2)P(TrollCap|E2) / P(TrollCap) = Postrior\n",
    "\n",
    "#P(E2) = .2 = Likelihood\n",
    "#P(TrollCap) = P(E1) + P(E2) = .2 + .2 = .4 , the troll can only be captured in E1 or E2 = Prior\n",
    "#P(TrollCap|E2) = 1 , the troll was captured if there is one in the scenario = Marginal Probability\n",
    "\n",
    "#P(E2|TrollCap) = .2*1/.4 = .5"
   ]
  },
  {
   "cell_type": "markdown",
   "id": "37843aee",
   "metadata": {},
   "source": [
    "Probability of the other event given a troll captured: "
   ]
  },
  {
   "cell_type": "code",
   "execution_count": 10,
   "id": "fdc883cd",
   "metadata": {},
   "outputs": [],
   "source": [
    "#P(E1|TrollCap) = P(E1)P(TrollCap|E1) / P(TrollCap) = Postrior\n",
    "\n",
    "#P(E1) = .2 = Likelihood\n",
    "#P(TrollCap) = P(E1) + P(E2) = .2 + .2 = .4 , the troll can only be captured in E1 or E2 = Prior\n",
    "#P(TrollCap|E1) = 1 , the troll was captured if there is one in the scenario = Marginal Probability\n",
    "\n",
    "#P(E1|TrollCap) = .2*1/.4 = .5"
   ]
  },
  {
   "cell_type": "markdown",
   "id": "f3b7f049",
   "metadata": {},
   "source": [
    "### 1.5\n",
    "\n",
    "#### What is the chance of the knight crossing safely?"
   ]
  },
  {
   "cell_type": "markdown",
   "id": "d0805f29",
   "metadata": {},
   "source": [
    "There is a 50% chance the knight will cross safely, either E1 or E2 have the same probability. There is no probability on  whether they will capture a troll based on the number of trolls."
   ]
  },
  {
   "cell_type": "markdown",
   "id": "7b815ae0",
   "metadata": {},
   "source": [
    "#### Now looking back to 1.1, the probabilities were changed after assimilating data! "
   ]
  },
  {
   "cell_type": "markdown",
   "id": "f1450094",
   "metadata": {},
   "source": [
    "# Question 2\n",
    "### (Polynomial Fitting) Read the following example and complete the exercises \n",
    "\n",
    "Biological data always comes with errors that influence the intepretation of the data significantly. In this question, we will simulate data and see how noises affect the parameter estimation."
   ]
  },
  {
   "cell_type": "code",
   "execution_count": 1,
   "id": "c20822fa",
   "metadata": {},
   "outputs": [
    {
     "name": "stderr",
     "output_type": "stream",
     "text": [
      "\u001b[32m\u001b[1m    Updating\u001b[22m\u001b[39m registry at `C:\\Users\\Tim\\.julia\\registries\\General.toml`\n",
      "\u001b[32m\u001b[1m   Resolving\u001b[22m\u001b[39m package versions...\n",
      "\u001b[32m\u001b[1m  No Changes\u001b[22m\u001b[39m to `C:\\Users\\Tim\\.julia\\environments\\v1.8\\Project.toml`\n",
      "\u001b[32m\u001b[1m  No Changes\u001b[22m\u001b[39m to `C:\\Users\\Tim\\.julia\\environments\\v1.8\\Manifest.toml`\n"
     ]
    }
   ],
   "source": [
    "import Pkg\n",
    "Pkg.add([\"Distributions\", \"Plots\", \"Polynomials\", \"Random\"])"
   ]
  },
  {
   "cell_type": "code",
   "execution_count": 2,
   "id": "d7d1ca8d",
   "metadata": {},
   "outputs": [],
   "source": [
    "using Plots\n",
    "import Distributions as di\n",
    "using Random\n",
    "using Polynomials: Polynomial, fit, coeffs\n",
    "using Statistics"
   ]
  },
  {
   "cell_type": "markdown",
   "id": "a90dd09d",
   "metadata": {},
   "source": [
    "### 2.1\n",
    "\n",
    "1. Generate the independent variable x ranging from -10 to 10 with an increment of 1\n",
    "2. Generate the dependent variable y_true using the equation y_true = x^2 + 3x - 2\n"
   ]
  },
  {
   "cell_type": "code",
   "execution_count": 3,
   "id": "6b0b33c5",
   "metadata": {},
   "outputs": [
    {
     "data": {
      "text/plain": [
       "21-element Vector{Int64}:\n",
       "  68\n",
       "  52\n",
       "  38\n",
       "  26\n",
       "  16\n",
       "   8\n",
       "   2\n",
       "  -2\n",
       "  -4\n",
       "  -4\n",
       "  -2\n",
       "   2\n",
       "   8\n",
       "  16\n",
       "  26\n",
       "  38\n",
       "  52\n",
       "  68\n",
       "  86\n",
       " 106\n",
       " 128"
      ]
     },
     "execution_count": 3,
     "metadata": {},
     "output_type": "execute_result"
    }
   ],
   "source": [
    "x = collect(-10:10)\n",
    "y_true = x.^2 .+ (3*x) .- 2"
   ]
  },
  {
   "cell_type": "markdown",
   "id": "74d2a191",
   "metadata": {},
   "source": [
    "### 2.2\n",
    "\n",
    "1. Generate the Guassian noises with zero mean and a standard deviation of 10\n",
    "\n",
    "2. Add the noises to y_true to obtain y_observed\n"
   ]
  },
  {
   "cell_type": "code",
   "execution_count": 4,
   "id": "7936417a",
   "metadata": {},
   "outputs": [
    {
     "data": {
      "text/plain": [
       "21-element Vector{Float64}:\n",
       "  63.16966798930592\n",
       "  64.97042092332313\n",
       "  36.9012303833235\n",
       "  27.30717521784467\n",
       "   6.070134667810356\n",
       "  19.737336005421245\n",
       "  -3.0117454822177354\n",
       " -20.255190379744803\n",
       "  -1.947753146635336\n",
       "   0.17767159877625982\n",
       "  19.085806404538218\n",
       "  12.167461761206091\n",
       "   5.000309587542425\n",
       "  -1.641266420036004\n",
       "  21.18066277900656\n",
       "  33.67414834059422\n",
       "  46.60857674312671\n",
       "  74.63407672011235\n",
       " 100.04045132767895\n",
       "  88.30654800146635\n",
       " 128.4475203508521"
      ]
     },
     "execution_count": 4,
     "metadata": {},
     "output_type": "execute_result"
    }
   ],
   "source": [
    "noise = rand(di.Normal(0,10),21)\n",
    "y_observed = y_true .+ noise"
   ]
  },
  {
   "cell_type": "markdown",
   "id": "ecf2e554",
   "metadata": {},
   "source": [
    "### 2.3\n",
    "\n",
    "#### Fit the data (x, y_observed) with a second order polynomial. \n",
    "\n",
    "1. Make a scatter plot of y_observed along x\n",
    "2. Plot a line of y_true along x on the scatter plot\n",
    "3. Plot a line of the fitted polynomial along x on the same plot"
   ]
  },
  {
   "cell_type": "code",
   "execution_count": 5,
   "id": "d39a136b",
   "metadata": {},
   "outputs": [
    {
     "data": {
      "image/svg+xml": [
       "<?xml version=\"1.0\" encoding=\"utf-8\"?>\n",
       "<svg xmlns=\"http://www.w3.org/2000/svg\" xmlns:xlink=\"http://www.w3.org/1999/xlink\" width=\"600\" height=\"400\" viewBox=\"0 0 2400 1600\">\n",
       "<defs>\n",
       "  <clipPath id=\"clip330\">\n",
       "    <rect x=\"0\" y=\"0\" width=\"2400\" height=\"1600\"/>\n",
       "  </clipPath>\n",
       "</defs>\n",
       "<path clip-path=\"url(#clip330)\" d=\"M0 1600 L2400 1600 L2400 0 L0 0  Z\" fill=\"#ffffff\" fill-rule=\"evenodd\" fill-opacity=\"1\"/>\n",
       "<defs>\n",
       "  <clipPath id=\"clip331\">\n",
       "    <rect x=\"480\" y=\"0\" width=\"1681\" height=\"1600\"/>\n",
       "  </clipPath>\n",
       "</defs>\n",
       "<path clip-path=\"url(#clip330)\" d=\"M169.121 1486.45 L2352.76 1486.45 L2352.76 47.2441 L169.121 47.2441  Z\" fill=\"#ffffff\" fill-rule=\"evenodd\" fill-opacity=\"1\"/>\n",
       "<defs>\n",
       "  <clipPath id=\"clip332\">\n",
       "    <rect x=\"169\" y=\"47\" width=\"2185\" height=\"1440\"/>\n",
       "  </clipPath>\n",
       "</defs>\n",
       "<polyline clip-path=\"url(#clip332)\" style=\"stroke:#000000; stroke-linecap:round; stroke-linejoin:round; stroke-width:2; stroke-opacity:0.1; fill:none\" points=\"230.922,1486.45 230.922,47.2441 \"/>\n",
       "<polyline clip-path=\"url(#clip332)\" style=\"stroke:#000000; stroke-linecap:round; stroke-linejoin:round; stroke-width:2; stroke-opacity:0.1; fill:none\" points=\"745.93,1486.45 745.93,47.2441 \"/>\n",
       "<polyline clip-path=\"url(#clip332)\" style=\"stroke:#000000; stroke-linecap:round; stroke-linejoin:round; stroke-width:2; stroke-opacity:0.1; fill:none\" points=\"1260.94,1486.45 1260.94,47.2441 \"/>\n",
       "<polyline clip-path=\"url(#clip332)\" style=\"stroke:#000000; stroke-linecap:round; stroke-linejoin:round; stroke-width:2; stroke-opacity:0.1; fill:none\" points=\"1775.95,1486.45 1775.95,47.2441 \"/>\n",
       "<polyline clip-path=\"url(#clip332)\" style=\"stroke:#000000; stroke-linecap:round; stroke-linejoin:round; stroke-width:2; stroke-opacity:0.1; fill:none\" points=\"2290.95,1486.45 2290.95,47.2441 \"/>\n",
       "<polyline clip-path=\"url(#clip330)\" style=\"stroke:#000000; stroke-linecap:round; stroke-linejoin:round; stroke-width:4; stroke-opacity:1; fill:none\" points=\"169.121,1486.45 2352.76,1486.45 \"/>\n",
       "<polyline clip-path=\"url(#clip330)\" style=\"stroke:#000000; stroke-linecap:round; stroke-linejoin:round; stroke-width:4; stroke-opacity:1; fill:none\" points=\"230.922,1486.45 230.922,1467.55 \"/>\n",
       "<polyline clip-path=\"url(#clip330)\" style=\"stroke:#000000; stroke-linecap:round; stroke-linejoin:round; stroke-width:4; stroke-opacity:1; fill:none\" points=\"745.93,1486.45 745.93,1467.55 \"/>\n",
       "<polyline clip-path=\"url(#clip330)\" style=\"stroke:#000000; stroke-linecap:round; stroke-linejoin:round; stroke-width:4; stroke-opacity:1; fill:none\" points=\"1260.94,1486.45 1260.94,1467.55 \"/>\n",
       "<polyline clip-path=\"url(#clip330)\" style=\"stroke:#000000; stroke-linecap:round; stroke-linejoin:round; stroke-width:4; stroke-opacity:1; fill:none\" points=\"1775.95,1486.45 1775.95,1467.55 \"/>\n",
       "<polyline clip-path=\"url(#clip330)\" style=\"stroke:#000000; stroke-linecap:round; stroke-linejoin:round; stroke-width:4; stroke-opacity:1; fill:none\" points=\"2290.95,1486.45 2290.95,1467.55 \"/>\n",
       "<path clip-path=\"url(#clip330)\" d=\"M184.985 1532.02 L214.661 1532.02 L214.661 1535.95 L184.985 1535.95 L184.985 1532.02 Z\" fill=\"#000000\" fill-rule=\"evenodd\" fill-opacity=\"1\" /><path clip-path=\"url(#clip330)\" d=\"M225.564 1544.91 L233.202 1544.91 L233.202 1518.55 L224.892 1520.21 L224.892 1515.95 L233.156 1514.29 L237.832 1514.29 L237.832 1544.91 L245.471 1544.91 L245.471 1548.85 L225.564 1548.85 L225.564 1544.91 Z\" fill=\"#000000\" fill-rule=\"evenodd\" fill-opacity=\"1\" /><path clip-path=\"url(#clip330)\" d=\"M264.915 1517.37 Q261.304 1517.37 259.475 1520.93 Q257.67 1524.47 257.67 1531.6 Q257.67 1538.71 259.475 1542.27 Q261.304 1545.82 264.915 1545.82 Q268.549 1545.82 270.355 1542.27 Q272.184 1538.71 272.184 1531.6 Q272.184 1524.47 270.355 1520.93 Q268.549 1517.37 264.915 1517.37 M264.915 1513.66 Q270.725 1513.66 273.781 1518.27 Q276.86 1522.85 276.86 1531.6 Q276.86 1540.33 273.781 1544.94 Q270.725 1549.52 264.915 1549.52 Q259.105 1549.52 256.026 1544.94 Q252.971 1540.33 252.971 1531.6 Q252.971 1522.85 256.026 1518.27 Q259.105 1513.66 264.915 1513.66 Z\" fill=\"#000000\" fill-rule=\"evenodd\" fill-opacity=\"1\" /><path clip-path=\"url(#clip330)\" d=\"M715.572 1532.02 L745.248 1532.02 L745.248 1535.95 L715.572 1535.95 L715.572 1532.02 Z\" fill=\"#000000\" fill-rule=\"evenodd\" fill-opacity=\"1\" /><path clip-path=\"url(#clip330)\" d=\"M755.386 1514.29 L773.743 1514.29 L773.743 1518.22 L759.669 1518.22 L759.669 1526.7 Q760.687 1526.35 761.706 1526.19 Q762.724 1526 763.743 1526 Q769.53 1526 772.909 1529.17 Q776.289 1532.34 776.289 1537.76 Q776.289 1543.34 772.817 1546.44 Q769.345 1549.52 763.025 1549.52 Q760.849 1549.52 758.581 1549.15 Q756.335 1548.78 753.928 1548.04 L753.928 1543.34 Q756.011 1544.47 758.234 1545.03 Q760.456 1545.58 762.933 1545.58 Q766.937 1545.58 769.275 1543.48 Q771.613 1541.37 771.613 1537.76 Q771.613 1534.15 769.275 1532.04 Q766.937 1529.94 762.933 1529.94 Q761.058 1529.94 759.183 1530.35 Q757.331 1530.77 755.386 1531.65 L755.386 1514.29 Z\" fill=\"#000000\" fill-rule=\"evenodd\" fill-opacity=\"1\" /><path clip-path=\"url(#clip330)\" d=\"M1260.94 1517.37 Q1257.33 1517.37 1255.5 1520.93 Q1253.69 1524.47 1253.69 1531.6 Q1253.69 1538.71 1255.5 1542.27 Q1257.33 1545.82 1260.94 1545.82 Q1264.57 1545.82 1266.38 1542.27 Q1268.21 1538.71 1268.21 1531.6 Q1268.21 1524.47 1266.38 1520.93 Q1264.57 1517.37 1260.94 1517.37 M1260.94 1513.66 Q1266.75 1513.66 1269.8 1518.27 Q1272.88 1522.85 1272.88 1531.6 Q1272.88 1540.33 1269.8 1544.94 Q1266.75 1549.52 1260.94 1549.52 Q1255.13 1549.52 1252.05 1544.94 Q1248.99 1540.33 1248.99 1531.6 Q1248.99 1522.85 1252.05 1518.27 Q1255.13 1513.66 1260.94 1513.66 Z\" fill=\"#000000\" fill-rule=\"evenodd\" fill-opacity=\"1\" /><path clip-path=\"url(#clip330)\" d=\"M1766.22 1514.29 L1784.58 1514.29 L1784.58 1518.22 L1770.51 1518.22 L1770.51 1526.7 Q1771.53 1526.35 1772.54 1526.19 Q1773.56 1526 1774.58 1526 Q1780.37 1526 1783.75 1529.17 Q1787.13 1532.34 1787.13 1537.76 Q1787.13 1543.34 1783.66 1546.44 Q1780.18 1549.52 1773.86 1549.52 Q1771.69 1549.52 1769.42 1549.15 Q1767.17 1548.78 1764.77 1548.04 L1764.77 1543.34 Q1766.85 1544.47 1769.07 1545.03 Q1771.29 1545.58 1773.77 1545.58 Q1777.78 1545.58 1780.11 1543.48 Q1782.45 1541.37 1782.45 1537.76 Q1782.45 1534.15 1780.11 1532.04 Q1777.78 1529.94 1773.77 1529.94 Q1771.9 1529.94 1770.02 1530.35 Q1768.17 1530.77 1766.22 1531.65 L1766.22 1514.29 Z\" fill=\"#000000\" fill-rule=\"evenodd\" fill-opacity=\"1\" /><path clip-path=\"url(#clip330)\" d=\"M2265.64 1544.91 L2273.28 1544.91 L2273.28 1518.55 L2264.97 1520.21 L2264.97 1515.95 L2273.24 1514.29 L2277.91 1514.29 L2277.91 1544.91 L2285.55 1544.91 L2285.55 1548.85 L2265.64 1548.85 L2265.64 1544.91 Z\" fill=\"#000000\" fill-rule=\"evenodd\" fill-opacity=\"1\" /><path clip-path=\"url(#clip330)\" d=\"M2304.99 1517.37 Q2301.38 1517.37 2299.55 1520.93 Q2297.75 1524.47 2297.75 1531.6 Q2297.75 1538.71 2299.55 1542.27 Q2301.38 1545.82 2304.99 1545.82 Q2308.63 1545.82 2310.43 1542.27 Q2312.26 1538.71 2312.26 1531.6 Q2312.26 1524.47 2310.43 1520.93 Q2308.63 1517.37 2304.99 1517.37 M2304.99 1513.66 Q2310.8 1513.66 2313.86 1518.27 Q2316.94 1522.85 2316.94 1531.6 Q2316.94 1540.33 2313.86 1544.94 Q2310.8 1549.52 2304.99 1549.52 Q2299.18 1549.52 2296.11 1544.94 Q2293.05 1540.33 2293.05 1531.6 Q2293.05 1522.85 2296.11 1518.27 Q2299.18 1513.66 2304.99 1513.66 Z\" fill=\"#000000\" fill-rule=\"evenodd\" fill-opacity=\"1\" /><polyline clip-path=\"url(#clip332)\" style=\"stroke:#000000; stroke-linecap:round; stroke-linejoin:round; stroke-width:2; stroke-opacity:0.1; fill:none\" points=\"169.121,1260.77 2352.76,1260.77 \"/>\n",
       "<polyline clip-path=\"url(#clip332)\" style=\"stroke:#000000; stroke-linecap:round; stroke-linejoin:round; stroke-width:2; stroke-opacity:0.1; fill:none\" points=\"169.121,986.858 2352.76,986.858 \"/>\n",
       "<polyline clip-path=\"url(#clip332)\" style=\"stroke:#000000; stroke-linecap:round; stroke-linejoin:round; stroke-width:2; stroke-opacity:0.1; fill:none\" points=\"169.121,712.941 2352.76,712.941 \"/>\n",
       "<polyline clip-path=\"url(#clip332)\" style=\"stroke:#000000; stroke-linecap:round; stroke-linejoin:round; stroke-width:2; stroke-opacity:0.1; fill:none\" points=\"169.121,439.024 2352.76,439.024 \"/>\n",
       "<polyline clip-path=\"url(#clip332)\" style=\"stroke:#000000; stroke-linecap:round; stroke-linejoin:round; stroke-width:2; stroke-opacity:0.1; fill:none\" points=\"169.121,165.107 2352.76,165.107 \"/>\n",
       "<polyline clip-path=\"url(#clip330)\" style=\"stroke:#000000; stroke-linecap:round; stroke-linejoin:round; stroke-width:4; stroke-opacity:1; fill:none\" points=\"169.121,1486.45 169.121,47.2441 \"/>\n",
       "<polyline clip-path=\"url(#clip330)\" style=\"stroke:#000000; stroke-linecap:round; stroke-linejoin:round; stroke-width:4; stroke-opacity:1; fill:none\" points=\"169.121,1260.77 188.019,1260.77 \"/>\n",
       "<polyline clip-path=\"url(#clip330)\" style=\"stroke:#000000; stroke-linecap:round; stroke-linejoin:round; stroke-width:4; stroke-opacity:1; fill:none\" points=\"169.121,986.858 188.019,986.858 \"/>\n",
       "<polyline clip-path=\"url(#clip330)\" style=\"stroke:#000000; stroke-linecap:round; stroke-linejoin:round; stroke-width:4; stroke-opacity:1; fill:none\" points=\"169.121,712.941 188.019,712.941 \"/>\n",
       "<polyline clip-path=\"url(#clip330)\" style=\"stroke:#000000; stroke-linecap:round; stroke-linejoin:round; stroke-width:4; stroke-opacity:1; fill:none\" points=\"169.121,439.024 188.019,439.024 \"/>\n",
       "<polyline clip-path=\"url(#clip330)\" style=\"stroke:#000000; stroke-linecap:round; stroke-linejoin:round; stroke-width:4; stroke-opacity:1; fill:none\" points=\"169.121,165.107 188.019,165.107 \"/>\n",
       "<path clip-path=\"url(#clip330)\" d=\"M121.177 1246.57 Q117.566 1246.57 115.737 1250.14 Q113.932 1253.68 113.932 1260.81 Q113.932 1267.92 115.737 1271.48 Q117.566 1275.02 121.177 1275.02 Q124.811 1275.02 126.617 1271.48 Q128.445 1267.92 128.445 1260.81 Q128.445 1253.68 126.617 1250.14 Q124.811 1246.57 121.177 1246.57 M121.177 1242.87 Q126.987 1242.87 130.043 1247.48 Q133.121 1252.06 133.121 1260.81 Q133.121 1269.54 130.043 1274.14 Q126.987 1278.73 121.177 1278.73 Q115.367 1278.73 112.288 1274.14 Q109.233 1269.54 109.233 1260.81 Q109.233 1252.06 112.288 1247.48 Q115.367 1242.87 121.177 1242.87 Z\" fill=\"#000000\" fill-rule=\"evenodd\" fill-opacity=\"1\" /><path clip-path=\"url(#clip330)\" d=\"M95.1817 985.503 Q98.5382 986.221 100.413 988.489 Q102.311 990.758 102.311 994.091 Q102.311 999.207 98.7928 1002.01 Q95.2743 1004.81 88.7928 1004.81 Q86.6169 1004.81 84.3021 1004.37 Q82.0105 1003.95 79.5568 1003.1 L79.5568 998.582 Q81.5012 999.716 83.816 1000.29 Q86.1308 1000.87 88.654 1000.87 Q93.0521 1000.87 95.3437 999.138 Q97.6585 997.401 97.6585 994.091 Q97.6585 991.036 95.5058 989.323 Q93.3762 987.587 89.5567 987.587 L85.529 987.587 L85.529 983.744 L89.7419 983.744 Q93.191 983.744 95.0197 982.378 Q96.8484 980.99 96.8484 978.397 Q96.8484 975.735 94.9502 974.323 Q93.0752 972.888 89.5567 972.888 Q87.6354 972.888 85.4364 973.304 Q83.2373 973.721 80.5984 974.601 L80.5984 970.434 Q83.2605 969.693 85.5753 969.323 Q87.9132 968.953 89.9734 968.953 Q95.2974 968.953 98.3993 971.383 Q101.501 973.79 101.501 977.911 Q101.501 980.781 99.8576 982.772 Q98.2141 984.739 95.1817 985.503 Z\" fill=\"#000000\" fill-rule=\"evenodd\" fill-opacity=\"1\" /><path clip-path=\"url(#clip330)\" d=\"M121.177 972.656 Q117.566 972.656 115.737 976.221 Q113.932 979.763 113.932 986.892 Q113.932 993.999 115.737 997.563 Q117.566 1001.11 121.177 1001.11 Q124.811 1001.11 126.617 997.563 Q128.445 993.999 128.445 986.892 Q128.445 979.763 126.617 976.221 Q124.811 972.656 121.177 972.656 M121.177 968.953 Q126.987 968.953 130.043 973.559 Q133.121 978.142 133.121 986.892 Q133.121 995.619 130.043 1000.23 Q126.987 1004.81 121.177 1004.81 Q115.367 1004.81 112.288 1000.23 Q109.233 995.619 109.233 986.892 Q109.233 978.142 112.288 973.559 Q115.367 968.953 121.177 968.953 Z\" fill=\"#000000\" fill-rule=\"evenodd\" fill-opacity=\"1\" /><path clip-path=\"url(#clip330)\" d=\"M91.5938 711.077 Q88.4456 711.077 86.5938 713.23 Q84.7651 715.383 84.7651 719.133 Q84.7651 722.86 86.5938 725.035 Q88.4456 727.188 91.5938 727.188 Q94.7419 727.188 96.5706 725.035 Q98.4224 722.86 98.4224 719.133 Q98.4224 715.383 96.5706 713.23 Q94.7419 711.077 91.5938 711.077 M100.876 696.425 L100.876 700.684 Q99.1169 699.85 97.3113 699.411 Q95.5289 698.971 93.7697 698.971 Q89.1401 698.971 86.6864 702.096 Q84.2558 705.221 83.9086 711.54 Q85.2743 709.526 87.3345 708.462 Q89.3947 707.374 91.8715 707.374 Q97.0798 707.374 100.089 710.545 Q103.121 713.693 103.121 719.133 Q103.121 724.457 99.9733 727.674 Q96.8252 730.892 91.5938 730.892 Q85.5984 730.892 82.4271 726.309 Q79.2559 721.702 79.2559 712.975 Q79.2559 704.781 83.1447 699.92 Q87.0336 695.036 93.5845 695.036 Q95.3437 695.036 97.1261 695.383 Q98.9317 695.73 100.876 696.425 Z\" fill=\"#000000\" fill-rule=\"evenodd\" fill-opacity=\"1\" /><path clip-path=\"url(#clip330)\" d=\"M121.177 698.739 Q117.566 698.739 115.737 702.304 Q113.932 705.846 113.932 712.975 Q113.932 720.082 115.737 723.647 Q117.566 727.188 121.177 727.188 Q124.811 727.188 126.617 723.647 Q128.445 720.082 128.445 712.975 Q128.445 705.846 126.617 702.304 Q124.811 698.739 121.177 698.739 M121.177 695.036 Q126.987 695.036 130.043 699.642 Q133.121 704.225 133.121 712.975 Q133.121 721.702 130.043 726.309 Q126.987 730.892 121.177 730.892 Q115.367 730.892 112.288 726.309 Q109.233 721.702 109.233 712.975 Q109.233 704.225 112.288 699.642 Q115.367 695.036 121.177 695.036 Z\" fill=\"#000000\" fill-rule=\"evenodd\" fill-opacity=\"1\" /><path clip-path=\"url(#clip330)\" d=\"M81.154 455.586 L81.154 451.327 Q82.9133 452.16 84.7188 452.6 Q86.5243 453.04 88.2604 453.04 Q92.89 453.04 95.3206 449.938 Q97.7743 446.813 98.1215 440.471 Q96.7789 442.461 94.7187 443.526 Q92.6586 444.591 90.1586 444.591 Q84.9734 444.591 81.941 441.466 Q78.9318 438.318 78.9318 432.878 Q78.9318 427.554 82.0799 424.336 Q85.2281 421.119 90.4595 421.119 Q96.4548 421.119 99.603 425.725 Q102.774 430.309 102.774 439.058 Q102.774 447.23 98.8854 452.114 Q95.0197 456.975 88.4688 456.975 Q86.7095 456.975 84.904 456.628 Q83.0984 456.281 81.154 455.586 M90.4595 440.933 Q93.6076 440.933 95.4363 438.781 Q97.2882 436.628 97.2882 432.878 Q97.2882 429.151 95.4363 426.998 Q93.6076 424.822 90.4595 424.822 Q87.3114 424.822 85.4595 426.998 Q83.6308 429.151 83.6308 432.878 Q83.6308 436.628 85.4595 438.781 Q87.3114 440.933 90.4595 440.933 Z\" fill=\"#000000\" fill-rule=\"evenodd\" fill-opacity=\"1\" /><path clip-path=\"url(#clip330)\" d=\"M121.177 424.822 Q117.566 424.822 115.737 428.387 Q113.932 431.929 113.932 439.058 Q113.932 446.165 115.737 449.73 Q117.566 453.271 121.177 453.271 Q124.811 453.271 126.617 449.73 Q128.445 446.165 128.445 439.058 Q128.445 431.929 126.617 428.387 Q124.811 424.822 121.177 424.822 M121.177 421.119 Q126.987 421.119 130.043 425.725 Q133.121 430.309 133.121 439.058 Q133.121 447.785 130.043 452.392 Q126.987 456.975 121.177 456.975 Q115.367 456.975 112.288 452.392 Q109.233 447.785 109.233 439.058 Q109.233 430.309 112.288 425.725 Q115.367 421.119 121.177 421.119 Z\" fill=\"#000000\" fill-rule=\"evenodd\" fill-opacity=\"1\" /><path clip-path=\"url(#clip330)\" d=\"M51.6634 178.452 L59.3023 178.452 L59.3023 152.086 L50.9921 153.753 L50.9921 149.494 L59.256 147.827 L63.9319 147.827 L63.9319 178.452 L71.5707 178.452 L71.5707 182.387 L51.6634 182.387 L51.6634 178.452 Z\" fill=\"#000000\" fill-rule=\"evenodd\" fill-opacity=\"1\" /><path clip-path=\"url(#clip330)\" d=\"M85.0429 178.452 L101.362 178.452 L101.362 182.387 L79.4179 182.387 L79.4179 178.452 Q82.0799 175.697 86.6632 171.068 Q91.2697 166.415 92.4502 165.072 Q94.6956 162.549 95.5752 160.813 Q96.478 159.054 96.478 157.364 Q96.478 154.609 94.5336 152.873 Q92.6123 151.137 89.5104 151.137 Q87.3114 151.137 84.8577 151.901 Q82.4271 152.665 79.6494 154.216 L79.6494 149.494 Q82.4734 148.359 84.9271 147.781 Q87.3808 147.202 89.4178 147.202 Q94.7882 147.202 97.9826 149.887 Q101.177 152.572 101.177 157.063 Q101.177 159.193 100.367 161.114 Q99.5798 163.012 97.4734 165.605 Q96.8947 166.276 93.7928 169.493 Q90.691 172.688 85.0429 178.452 Z\" fill=\"#000000\" fill-rule=\"evenodd\" fill-opacity=\"1\" /><path clip-path=\"url(#clip330)\" d=\"M121.177 150.906 Q117.566 150.906 115.737 154.47 Q113.932 158.012 113.932 165.142 Q113.932 172.248 115.737 175.813 Q117.566 179.354 121.177 179.354 Q124.811 179.354 126.617 175.813 Q128.445 172.248 128.445 165.142 Q128.445 158.012 126.617 154.47 Q124.811 150.906 121.177 150.906 M121.177 147.202 Q126.987 147.202 130.043 151.808 Q133.121 156.392 133.121 165.142 Q133.121 173.868 130.043 178.475 Q126.987 183.058 121.177 183.058 Q115.367 183.058 112.288 178.475 Q109.233 173.868 109.233 165.142 Q109.233 156.392 112.288 151.808 Q115.367 147.202 121.177 147.202 Z\" fill=\"#000000\" fill-rule=\"evenodd\" fill-opacity=\"1\" /><circle clip-path=\"url(#clip332)\" cx=\"230.922\" cy=\"684\" r=\"14.4\" fill=\"#009af9\" fill-rule=\"evenodd\" fill-opacity=\"1\" stroke=\"#000000\" stroke-opacity=\"1\" stroke-width=\"3.2\"/>\n",
       "<circle clip-path=\"url(#clip332)\" cx=\"333.924\" cy=\"667.558\" r=\"14.4\" fill=\"#009af9\" fill-rule=\"evenodd\" fill-opacity=\"1\" stroke=\"#000000\" stroke-opacity=\"1\" stroke-width=\"3.2\"/>\n",
       "<circle clip-path=\"url(#clip332)\" cx=\"436.926\" cy=\"923.845\" r=\"14.4\" fill=\"#009af9\" fill-rule=\"evenodd\" fill-opacity=\"1\" stroke=\"#000000\" stroke-opacity=\"1\" stroke-width=\"3.2\"/>\n",
       "<circle clip-path=\"url(#clip332)\" cx=\"539.927\" cy=\"1011.44\" r=\"14.4\" fill=\"#009af9\" fill-rule=\"evenodd\" fill-opacity=\"1\" stroke=\"#000000\" stroke-opacity=\"1\" stroke-width=\"3.2\"/>\n",
       "<circle clip-path=\"url(#clip332)\" cx=\"642.929\" cy=\"1205.35\" r=\"14.4\" fill=\"#009af9\" fill-rule=\"evenodd\" fill-opacity=\"1\" stroke=\"#000000\" stroke-opacity=\"1\" stroke-width=\"3.2\"/>\n",
       "<circle clip-path=\"url(#clip332)\" cx=\"745.93\" cy=\"1080.56\" r=\"14.4\" fill=\"#009af9\" fill-rule=\"evenodd\" fill-opacity=\"1\" stroke=\"#000000\" stroke-opacity=\"1\" stroke-width=\"3.2\"/>\n",
       "<circle clip-path=\"url(#clip332)\" cx=\"848.932\" cy=\"1288.27\" r=\"14.4\" fill=\"#009af9\" fill-rule=\"evenodd\" fill-opacity=\"1\" stroke=\"#000000\" stroke-opacity=\"1\" stroke-width=\"3.2\"/>\n",
       "<circle clip-path=\"url(#clip332)\" cx=\"951.934\" cy=\"1445.72\" r=\"14.4\" fill=\"#009af9\" fill-rule=\"evenodd\" fill-opacity=\"1\" stroke=\"#000000\" stroke-opacity=\"1\" stroke-width=\"3.2\"/>\n",
       "<circle clip-path=\"url(#clip332)\" cx=\"1054.94\" cy=\"1278.56\" r=\"14.4\" fill=\"#009af9\" fill-rule=\"evenodd\" fill-opacity=\"1\" stroke=\"#000000\" stroke-opacity=\"1\" stroke-width=\"3.2\"/>\n",
       "<circle clip-path=\"url(#clip332)\" cx=\"1157.94\" cy=\"1259.15\" r=\"14.4\" fill=\"#009af9\" fill-rule=\"evenodd\" fill-opacity=\"1\" stroke=\"#000000\" stroke-opacity=\"1\" stroke-width=\"3.2\"/>\n",
       "<circle clip-path=\"url(#clip332)\" cx=\"1260.94\" cy=\"1086.51\" r=\"14.4\" fill=\"#009af9\" fill-rule=\"evenodd\" fill-opacity=\"1\" stroke=\"#000000\" stroke-opacity=\"1\" stroke-width=\"3.2\"/>\n",
       "<circle clip-path=\"url(#clip332)\" cx=\"1363.94\" cy=\"1149.68\" r=\"14.4\" fill=\"#009af9\" fill-rule=\"evenodd\" fill-opacity=\"1\" stroke=\"#000000\" stroke-opacity=\"1\" stroke-width=\"3.2\"/>\n",
       "<circle clip-path=\"url(#clip332)\" cx=\"1466.94\" cy=\"1215.12\" r=\"14.4\" fill=\"#009af9\" fill-rule=\"evenodd\" fill-opacity=\"1\" stroke=\"#000000\" stroke-opacity=\"1\" stroke-width=\"3.2\"/>\n",
       "<circle clip-path=\"url(#clip332)\" cx=\"1569.94\" cy=\"1275.76\" r=\"14.4\" fill=\"#009af9\" fill-rule=\"evenodd\" fill-opacity=\"1\" stroke=\"#000000\" stroke-opacity=\"1\" stroke-width=\"3.2\"/>\n",
       "<circle clip-path=\"url(#clip332)\" cx=\"1672.95\" cy=\"1067.38\" r=\"14.4\" fill=\"#009af9\" fill-rule=\"evenodd\" fill-opacity=\"1\" stroke=\"#000000\" stroke-opacity=\"1\" stroke-width=\"3.2\"/>\n",
       "<circle clip-path=\"url(#clip332)\" cx=\"1775.95\" cy=\"953.31\" r=\"14.4\" fill=\"#009af9\" fill-rule=\"evenodd\" fill-opacity=\"1\" stroke=\"#000000\" stroke-opacity=\"1\" stroke-width=\"3.2\"/>\n",
       "<circle clip-path=\"url(#clip332)\" cx=\"1878.95\" cy=\"835.212\" r=\"14.4\" fill=\"#009af9\" fill-rule=\"evenodd\" fill-opacity=\"1\" stroke=\"#000000\" stroke-opacity=\"1\" stroke-width=\"3.2\"/>\n",
       "<circle clip-path=\"url(#clip332)\" cx=\"1981.95\" cy=\"579.323\" r=\"14.4\" fill=\"#009af9\" fill-rule=\"evenodd\" fill-opacity=\"1\" stroke=\"#000000\" stroke-opacity=\"1\" stroke-width=\"3.2\"/>\n",
       "<circle clip-path=\"url(#clip332)\" cx=\"2084.95\" cy=\"347.349\" r=\"14.4\" fill=\"#009af9\" fill-rule=\"evenodd\" fill-opacity=\"1\" stroke=\"#000000\" stroke-opacity=\"1\" stroke-width=\"3.2\"/>\n",
       "<circle clip-path=\"url(#clip332)\" cx=\"2187.95\" cy=\"454.486\" r=\"14.4\" fill=\"#009af9\" fill-rule=\"evenodd\" fill-opacity=\"1\" stroke=\"#000000\" stroke-opacity=\"1\" stroke-width=\"3.2\"/>\n",
       "<circle clip-path=\"url(#clip332)\" cx=\"2290.95\" cy=\"87.9763\" r=\"14.4\" fill=\"#009af9\" fill-rule=\"evenodd\" fill-opacity=\"1\" stroke=\"#000000\" stroke-opacity=\"1\" stroke-width=\"3.2\"/>\n",
       "<polyline clip-path=\"url(#clip332)\" style=\"stroke:#e26f46; stroke-linecap:round; stroke-linejoin:round; stroke-width:4; stroke-opacity:1; fill:none\" points=\"230.922,639.896 333.924,785.985 436.926,913.813 539.927,1023.38 642.929,1114.69 745.93,1187.73 848.932,1242.51 951.934,1279.04 1054.94,1297.3 1157.94,1297.3 1260.94,1279.04 1363.94,1242.51 1466.94,1187.73 1569.94,1114.69 1672.95,1023.38 1775.95,913.813 1878.95,785.985 1981.95,639.896 2084.95,475.546 2187.95,292.935 2290.95,92.0624 \"/>\n",
       "<polyline clip-path=\"url(#clip332)\" style=\"stroke:#3da44d; stroke-linecap:round; stroke-linejoin:round; stroke-width:4; stroke-opacity:1; fill:none\" points=\"230.922,633.305 333.924,779.503 436.926,907.576 539.927,1017.53 642.929,1109.35 745.93,1183.06 848.932,1238.64 951.934,1276.09 1054.94,1295.42 1157.94,1296.63 1260.94,1279.72 1363.94,1244.68 1466.94,1191.52 1569.94,1120.24 1672.95,1030.83 1775.95,923.296 1878.95,797.64 1981.95,653.862 2084.95,491.959 2187.95,311.933 2290.95,113.784 \"/>\n",
       "<path clip-path=\"url(#clip330)\" d=\"M241.909 302.578 L659.207 302.578 L659.207 95.2176 L241.909 95.2176  Z\" fill=\"#ffffff\" fill-rule=\"evenodd\" fill-opacity=\"1\"/>\n",
       "<polyline clip-path=\"url(#clip330)\" style=\"stroke:#000000; stroke-linecap:round; stroke-linejoin:round; stroke-width:4; stroke-opacity:1; fill:none\" points=\"241.909,302.578 659.207,302.578 659.207,95.2176 241.909,95.2176 241.909,302.578 \"/>\n",
       "<circle clip-path=\"url(#clip330)\" cx=\"338.96\" cy=\"147.058\" r=\"23.04\" fill=\"#009af9\" fill-rule=\"evenodd\" fill-opacity=\"1\" stroke=\"#000000\" stroke-opacity=\"1\" stroke-width=\"5.12\"/>\n",
       "<path clip-path=\"url(#clip330)\" d=\"M449.853 166.745 Q448.047 171.375 446.334 172.787 Q444.621 174.199 441.751 174.199 L438.348 174.199 L438.348 170.634 L440.848 170.634 Q442.607 170.634 443.579 169.8 Q444.552 168.967 445.732 165.865 L446.496 163.921 L436.01 138.412 L440.524 138.412 L448.626 158.689 L456.727 138.412 L461.241 138.412 L449.853 166.745 Z\" fill=\"#000000\" fill-rule=\"evenodd\" fill-opacity=\"1\" /><path clip-path=\"url(#clip330)\" d=\"M468.533 160.402 L476.172 160.402 L476.172 134.037 L467.862 135.703 L467.862 131.444 L476.126 129.778 L480.801 129.778 L480.801 160.402 L488.44 160.402 L488.44 164.338 L468.533 164.338 L468.533 160.402 Z\" fill=\"#000000\" fill-rule=\"evenodd\" fill-opacity=\"1\" /><polyline clip-path=\"url(#clip330)\" style=\"stroke:#e26f46; stroke-linecap:round; stroke-linejoin:round; stroke-width:4; stroke-opacity:1; fill:none\" points=\"266.172,198.898 411.747,198.898 \"/>\n",
       "<path clip-path=\"url(#clip330)\" d=\"M436.01 181.618 L465.246 181.618 L465.246 185.553 L452.977 185.553 L452.977 216.178 L448.278 216.178 L448.278 185.553 L436.01 185.553 L436.01 181.618 Z\" fill=\"#000000\" fill-rule=\"evenodd\" fill-opacity=\"1\" /><path clip-path=\"url(#clip330)\" d=\"M477.63 194.233 Q476.913 193.817 476.056 193.631 Q475.223 193.423 474.204 193.423 Q470.593 193.423 468.649 195.784 Q466.727 198.122 466.727 202.52 L466.727 216.178 L462.445 216.178 L462.445 190.252 L466.727 190.252 L466.727 194.28 Q468.07 191.918 470.223 190.784 Q472.376 189.627 475.454 189.627 Q475.894 189.627 476.426 189.696 Q476.959 189.743 477.607 189.858 L477.63 194.233 Z\" fill=\"#000000\" fill-rule=\"evenodd\" fill-opacity=\"1\" /><path clip-path=\"url(#clip330)\" d=\"M481.658 205.946 L481.658 190.252 L485.917 190.252 L485.917 205.784 Q485.917 209.465 487.352 211.316 Q488.787 213.145 491.658 213.145 Q495.107 213.145 497.098 210.946 Q499.112 208.747 499.112 204.951 L499.112 190.252 L503.371 190.252 L503.371 216.178 L499.112 216.178 L499.112 212.196 Q497.561 214.557 495.5 215.715 Q493.463 216.849 490.755 216.849 Q486.287 216.849 483.973 214.071 Q481.658 211.293 481.658 205.946 M492.375 189.627 L492.375 189.627 Z\" fill=\"#000000\" fill-rule=\"evenodd\" fill-opacity=\"1\" /><path clip-path=\"url(#clip330)\" d=\"M534.32 202.15 L534.32 204.233 L514.736 204.233 Q515.014 208.631 517.375 210.946 Q519.76 213.238 523.996 213.238 Q526.449 213.238 528.741 212.636 Q531.056 212.034 533.324 210.83 L533.324 214.858 Q531.033 215.83 528.625 216.34 Q526.218 216.849 523.741 216.849 Q517.537 216.849 513.903 213.238 Q510.292 209.627 510.292 203.469 Q510.292 197.104 513.718 193.377 Q517.167 189.627 523 189.627 Q528.232 189.627 531.264 193.006 Q534.32 196.363 534.32 202.15 M530.06 200.9 Q530.014 197.405 528.093 195.321 Q526.195 193.238 523.047 193.238 Q519.482 193.238 517.329 195.252 Q515.199 197.266 514.875 200.923 L530.06 200.9 Z\" fill=\"#000000\" fill-rule=\"evenodd\" fill-opacity=\"1\" /><path clip-path=\"url(#clip330)\" d=\"M556.38 180.159 L560.639 180.159 L560.639 216.178 L556.38 216.178 L556.38 180.159 Z\" fill=\"#000000\" fill-rule=\"evenodd\" fill-opacity=\"1\" /><path clip-path=\"url(#clip330)\" d=\"M569.551 190.252 L573.81 190.252 L573.81 216.178 L569.551 216.178 L569.551 190.252 M569.551 180.159 L573.81 180.159 L573.81 185.553 L569.551 185.553 L569.551 180.159 Z\" fill=\"#000000\" fill-rule=\"evenodd\" fill-opacity=\"1\" /><path clip-path=\"url(#clip330)\" d=\"M604.273 200.529 L604.273 216.178 L600.014 216.178 L600.014 200.668 Q600.014 196.988 598.579 195.159 Q597.143 193.33 594.273 193.33 Q590.824 193.33 588.833 195.53 Q586.843 197.729 586.843 201.525 L586.843 216.178 L582.56 216.178 L582.56 190.252 L586.843 190.252 L586.843 194.28 Q588.37 191.942 590.43 190.784 Q592.514 189.627 595.222 189.627 Q599.69 189.627 601.981 192.405 Q604.273 195.159 604.273 200.529 Z\" fill=\"#000000\" fill-rule=\"evenodd\" fill-opacity=\"1\" /><path clip-path=\"url(#clip330)\" d=\"M634.944 202.15 L634.944 204.233 L615.361 204.233 Q615.639 208.631 618 210.946 Q620.384 213.238 624.62 213.238 Q627.074 213.238 629.365 212.636 Q631.68 212.034 633.949 210.83 L633.949 214.858 Q631.657 215.83 629.25 216.34 Q626.842 216.849 624.365 216.849 Q618.162 216.849 614.528 213.238 Q610.916 209.627 610.916 203.469 Q610.916 197.104 614.342 193.377 Q617.791 189.627 623.625 189.627 Q628.856 189.627 631.889 193.006 Q634.944 196.363 634.944 202.15 M630.685 200.9 Q630.639 197.405 628.717 195.321 Q626.819 193.238 623.671 193.238 Q620.106 193.238 617.953 195.252 Q615.824 197.266 615.5 200.923 L630.685 200.9 Z\" fill=\"#000000\" fill-rule=\"evenodd\" fill-opacity=\"1\" /><polyline clip-path=\"url(#clip330)\" style=\"stroke:#3da44d; stroke-linecap:round; stroke-linejoin:round; stroke-width:4; stroke-opacity:1; fill:none\" points=\"266.172,250.738 411.747,250.738 \"/>\n",
       "<path clip-path=\"url(#clip330)\" d=\"M436.01 233.458 L455.871 233.458 L455.871 237.393 L440.686 237.393 L440.686 247.578 L454.39 247.578 L454.39 251.513 L440.686 251.513 L440.686 268.018 L436.01 268.018 L436.01 233.458 Z\" fill=\"#000000\" fill-rule=\"evenodd\" fill-opacity=\"1\" /><path clip-path=\"url(#clip330)\" d=\"M459.644 242.092 L463.903 242.092 L463.903 268.018 L459.644 268.018 L459.644 242.092 M459.644 231.999 L463.903 231.999 L463.903 237.393 L459.644 237.393 L459.644 231.999 Z\" fill=\"#000000\" fill-rule=\"evenodd\" fill-opacity=\"1\" /><path clip-path=\"url(#clip330)\" d=\"M477.028 234.731 L477.028 242.092 L485.801 242.092 L485.801 245.402 L477.028 245.402 L477.028 259.476 Q477.028 262.647 477.885 263.55 Q478.764 264.453 481.426 264.453 L485.801 264.453 L485.801 268.018 L481.426 268.018 Q476.496 268.018 474.621 266.189 Q472.746 264.337 472.746 259.476 L472.746 245.402 L469.621 245.402 L469.621 242.092 L472.746 242.092 L472.746 234.731 L477.028 234.731 Z\" fill=\"#000000\" fill-rule=\"evenodd\" fill-opacity=\"1\" /><path clip-path=\"url(#clip330)\" d=\"M506.473 231.999 L510.732 231.999 L510.732 268.018 L506.473 268.018 L506.473 231.999 Z\" fill=\"#000000\" fill-rule=\"evenodd\" fill-opacity=\"1\" /><path clip-path=\"url(#clip330)\" d=\"M519.644 242.092 L523.903 242.092 L523.903 268.018 L519.644 268.018 L519.644 242.092 M519.644 231.999 L523.903 231.999 L523.903 237.393 L519.644 237.393 L519.644 231.999 Z\" fill=\"#000000\" fill-rule=\"evenodd\" fill-opacity=\"1\" /><path clip-path=\"url(#clip330)\" d=\"M554.366 252.369 L554.366 268.018 L550.107 268.018 L550.107 252.508 Q550.107 248.828 548.671 246.999 Q547.236 245.17 544.366 245.17 Q540.917 245.17 538.926 247.37 Q536.935 249.569 536.935 253.365 L536.935 268.018 L532.653 268.018 L532.653 242.092 L536.935 242.092 L536.935 246.12 Q538.463 243.782 540.523 242.624 Q542.607 241.467 545.315 241.467 Q549.783 241.467 552.074 244.245 Q554.366 246.999 554.366 252.369 Z\" fill=\"#000000\" fill-rule=\"evenodd\" fill-opacity=\"1\" /><path clip-path=\"url(#clip330)\" d=\"M585.037 253.99 L585.037 256.073 L565.454 256.073 Q565.732 260.471 568.093 262.786 Q570.477 265.078 574.713 265.078 Q577.167 265.078 579.458 264.476 Q581.773 263.874 584.042 262.67 L584.042 266.698 Q581.75 267.67 579.343 268.18 Q576.935 268.689 574.458 268.689 Q568.255 268.689 564.62 265.078 Q561.009 261.467 561.009 255.309 Q561.009 248.944 564.435 245.217 Q567.884 241.467 573.718 241.467 Q578.949 241.467 581.981 244.846 Q585.037 248.203 585.037 253.99 M580.778 252.74 Q580.731 249.245 578.81 247.161 Q576.912 245.078 573.764 245.078 Q570.199 245.078 568.046 247.092 Q565.917 249.106 565.593 252.763 L580.778 252.74 Z\" fill=\"#000000\" fill-rule=\"evenodd\" fill-opacity=\"1\" /></svg>\n"
      ]
     },
     "execution_count": 5,
     "metadata": {},
     "output_type": "execute_result"
    }
   ],
   "source": [
    "scatter(x,y_observed)\n",
    "plot!(x,y_true,label = \"True line\")\n",
    "plot!(x,fit(x,y_observed,2).(x),label = \"Fit line\")"
   ]
  },
  {
   "cell_type": "markdown",
   "id": "5e7d1d11",
   "metadata": {},
   "source": [
    "poly_fit = fit(x,y_true,2)\n",
    "y_fit = fit(x,y_true,2).(x)"
   ]
  },
  {
   "cell_type": "markdown",
   "id": "b3b5a343",
   "metadata": {},
   "source": [
    "### 2.4\n",
    "\n",
    "1. Repeat 2.2 and 2.3 with a noise with a standard deviation of 50"
   ]
  },
  {
   "cell_type": "code",
   "execution_count": 6,
   "id": "b4c08499",
   "metadata": {},
   "outputs": [
    {
     "data": {
      "image/svg+xml": [
       "<?xml version=\"1.0\" encoding=\"utf-8\"?>\n",
       "<svg xmlns=\"http://www.w3.org/2000/svg\" xmlns:xlink=\"http://www.w3.org/1999/xlink\" width=\"600\" height=\"400\" viewBox=\"0 0 2400 1600\">\n",
       "<defs>\n",
       "  <clipPath id=\"clip370\">\n",
       "    <rect x=\"0\" y=\"0\" width=\"2400\" height=\"1600\"/>\n",
       "  </clipPath>\n",
       "</defs>\n",
       "<path clip-path=\"url(#clip370)\" d=\"M0 1600 L2400 1600 L2400 0 L0 0  Z\" fill=\"#ffffff\" fill-rule=\"evenodd\" fill-opacity=\"1\"/>\n",
       "<defs>\n",
       "  <clipPath id=\"clip371\">\n",
       "    <rect x=\"480\" y=\"0\" width=\"1681\" height=\"1600\"/>\n",
       "  </clipPath>\n",
       "</defs>\n",
       "<path clip-path=\"url(#clip370)\" d=\"M178.867 1486.45 L2352.76 1486.45 L2352.76 47.2441 L178.867 47.2441  Z\" fill=\"#ffffff\" fill-rule=\"evenodd\" fill-opacity=\"1\"/>\n",
       "<defs>\n",
       "  <clipPath id=\"clip372\">\n",
       "    <rect x=\"178\" y=\"47\" width=\"2175\" height=\"1440\"/>\n",
       "  </clipPath>\n",
       "</defs>\n",
       "<polyline clip-path=\"url(#clip372)\" style=\"stroke:#000000; stroke-linecap:round; stroke-linejoin:round; stroke-width:2; stroke-opacity:0.1; fill:none\" points=\"240.392,1486.45 240.392,47.2441 \"/>\n",
       "<polyline clip-path=\"url(#clip372)\" style=\"stroke:#000000; stroke-linecap:round; stroke-linejoin:round; stroke-width:2; stroke-opacity:0.1; fill:none\" points=\"753.102,1486.45 753.102,47.2441 \"/>\n",
       "<polyline clip-path=\"url(#clip372)\" style=\"stroke:#000000; stroke-linecap:round; stroke-linejoin:round; stroke-width:2; stroke-opacity:0.1; fill:none\" points=\"1265.81,1486.45 1265.81,47.2441 \"/>\n",
       "<polyline clip-path=\"url(#clip372)\" style=\"stroke:#000000; stroke-linecap:round; stroke-linejoin:round; stroke-width:2; stroke-opacity:0.1; fill:none\" points=\"1778.52,1486.45 1778.52,47.2441 \"/>\n",
       "<polyline clip-path=\"url(#clip372)\" style=\"stroke:#000000; stroke-linecap:round; stroke-linejoin:round; stroke-width:2; stroke-opacity:0.1; fill:none\" points=\"2291.23,1486.45 2291.23,47.2441 \"/>\n",
       "<polyline clip-path=\"url(#clip370)\" style=\"stroke:#000000; stroke-linecap:round; stroke-linejoin:round; stroke-width:4; stroke-opacity:1; fill:none\" points=\"178.867,1486.45 2352.76,1486.45 \"/>\n",
       "<polyline clip-path=\"url(#clip370)\" style=\"stroke:#000000; stroke-linecap:round; stroke-linejoin:round; stroke-width:4; stroke-opacity:1; fill:none\" points=\"240.392,1486.45 240.392,1467.55 \"/>\n",
       "<polyline clip-path=\"url(#clip370)\" style=\"stroke:#000000; stroke-linecap:round; stroke-linejoin:round; stroke-width:4; stroke-opacity:1; fill:none\" points=\"753.102,1486.45 753.102,1467.55 \"/>\n",
       "<polyline clip-path=\"url(#clip370)\" style=\"stroke:#000000; stroke-linecap:round; stroke-linejoin:round; stroke-width:4; stroke-opacity:1; fill:none\" points=\"1265.81,1486.45 1265.81,1467.55 \"/>\n",
       "<polyline clip-path=\"url(#clip370)\" style=\"stroke:#000000; stroke-linecap:round; stroke-linejoin:round; stroke-width:4; stroke-opacity:1; fill:none\" points=\"1778.52,1486.45 1778.52,1467.55 \"/>\n",
       "<polyline clip-path=\"url(#clip370)\" style=\"stroke:#000000; stroke-linecap:round; stroke-linejoin:round; stroke-width:4; stroke-opacity:1; fill:none\" points=\"2291.23,1486.45 2291.23,1467.55 \"/>\n",
       "<path clip-path=\"url(#clip370)\" d=\"M194.455 1532.02 L224.13 1532.02 L224.13 1535.95 L194.455 1535.95 L194.455 1532.02 Z\" fill=\"#000000\" fill-rule=\"evenodd\" fill-opacity=\"1\" /><path clip-path=\"url(#clip370)\" d=\"M235.033 1544.91 L242.672 1544.91 L242.672 1518.55 L234.362 1520.21 L234.362 1515.95 L242.626 1514.29 L247.301 1514.29 L247.301 1544.91 L254.94 1544.91 L254.94 1548.85 L235.033 1548.85 L235.033 1544.91 Z\" fill=\"#000000\" fill-rule=\"evenodd\" fill-opacity=\"1\" /><path clip-path=\"url(#clip370)\" d=\"M274.385 1517.37 Q270.774 1517.37 268.945 1520.93 Q267.139 1524.47 267.139 1531.6 Q267.139 1538.71 268.945 1542.27 Q270.774 1545.82 274.385 1545.82 Q278.019 1545.82 279.824 1542.27 Q281.653 1538.71 281.653 1531.6 Q281.653 1524.47 279.824 1520.93 Q278.019 1517.37 274.385 1517.37 M274.385 1513.66 Q280.195 1513.66 283.25 1518.27 Q286.329 1522.85 286.329 1531.6 Q286.329 1540.33 283.25 1544.94 Q280.195 1549.52 274.385 1549.52 Q268.575 1549.52 265.496 1544.94 Q262.44 1540.33 262.44 1531.6 Q262.44 1522.85 265.496 1518.27 Q268.575 1513.66 274.385 1513.66 Z\" fill=\"#000000\" fill-rule=\"evenodd\" fill-opacity=\"1\" /><path clip-path=\"url(#clip370)\" d=\"M722.743 1532.02 L752.419 1532.02 L752.419 1535.95 L722.743 1535.95 L722.743 1532.02 Z\" fill=\"#000000\" fill-rule=\"evenodd\" fill-opacity=\"1\" /><path clip-path=\"url(#clip370)\" d=\"M762.558 1514.29 L780.914 1514.29 L780.914 1518.22 L766.84 1518.22 L766.84 1526.7 Q767.858 1526.35 768.877 1526.19 Q769.895 1526 770.914 1526 Q776.701 1526 780.081 1529.17 Q783.46 1532.34 783.46 1537.76 Q783.46 1543.34 779.988 1546.44 Q776.516 1549.52 770.196 1549.52 Q768.02 1549.52 765.752 1549.15 Q763.507 1548.78 761.099 1548.04 L761.099 1543.34 Q763.183 1544.47 765.405 1545.03 Q767.627 1545.58 770.104 1545.58 Q774.108 1545.58 776.446 1543.48 Q778.784 1541.37 778.784 1537.76 Q778.784 1534.15 776.446 1532.04 Q774.108 1529.94 770.104 1529.94 Q768.229 1529.94 766.354 1530.35 Q764.502 1530.77 762.558 1531.65 L762.558 1514.29 Z\" fill=\"#000000\" fill-rule=\"evenodd\" fill-opacity=\"1\" /><path clip-path=\"url(#clip370)\" d=\"M1265.81 1517.37 Q1262.2 1517.37 1260.37 1520.93 Q1258.57 1524.47 1258.57 1531.6 Q1258.57 1538.71 1260.37 1542.27 Q1262.2 1545.82 1265.81 1545.82 Q1269.45 1545.82 1271.25 1542.27 Q1273.08 1538.71 1273.08 1531.6 Q1273.08 1524.47 1271.25 1520.93 Q1269.45 1517.37 1265.81 1517.37 M1265.81 1513.66 Q1271.62 1513.66 1274.68 1518.27 Q1277.76 1522.85 1277.76 1531.6 Q1277.76 1540.33 1274.68 1544.94 Q1271.62 1549.52 1265.81 1549.52 Q1260 1549.52 1256.92 1544.94 Q1253.87 1540.33 1253.87 1531.6 Q1253.87 1522.85 1256.92 1518.27 Q1260 1513.66 1265.81 1513.66 Z\" fill=\"#000000\" fill-rule=\"evenodd\" fill-opacity=\"1\" /><path clip-path=\"url(#clip370)\" d=\"M1768.8 1514.29 L1787.16 1514.29 L1787.16 1518.22 L1773.08 1518.22 L1773.08 1526.7 Q1774.1 1526.35 1775.12 1526.19 Q1776.14 1526 1777.16 1526 Q1782.94 1526 1786.32 1529.17 Q1789.7 1532.34 1789.7 1537.76 Q1789.7 1543.34 1786.23 1546.44 Q1782.76 1549.52 1776.44 1549.52 Q1774.26 1549.52 1771.99 1549.15 Q1769.75 1548.78 1767.34 1548.04 L1767.34 1543.34 Q1769.42 1544.47 1771.65 1545.03 Q1773.87 1545.58 1776.35 1545.58 Q1780.35 1545.58 1782.69 1543.48 Q1785.03 1541.37 1785.03 1537.76 Q1785.03 1534.15 1782.69 1532.04 Q1780.35 1529.94 1776.35 1529.94 Q1774.47 1529.94 1772.6 1530.35 Q1770.74 1530.77 1768.8 1531.65 L1768.8 1514.29 Z\" fill=\"#000000\" fill-rule=\"evenodd\" fill-opacity=\"1\" /><path clip-path=\"url(#clip370)\" d=\"M2265.92 1544.91 L2273.56 1544.91 L2273.56 1518.55 L2265.25 1520.21 L2265.25 1515.95 L2273.51 1514.29 L2278.19 1514.29 L2278.19 1544.91 L2285.83 1544.91 L2285.83 1548.85 L2265.92 1548.85 L2265.92 1544.91 Z\" fill=\"#000000\" fill-rule=\"evenodd\" fill-opacity=\"1\" /><path clip-path=\"url(#clip370)\" d=\"M2305.27 1517.37 Q2301.66 1517.37 2299.83 1520.93 Q2298.02 1524.47 2298.02 1531.6 Q2298.02 1538.71 2299.83 1542.27 Q2301.66 1545.82 2305.27 1545.82 Q2308.9 1545.82 2310.71 1542.27 Q2312.54 1538.71 2312.54 1531.6 Q2312.54 1524.47 2310.71 1520.93 Q2308.9 1517.37 2305.27 1517.37 M2305.27 1513.66 Q2311.08 1513.66 2314.14 1518.27 Q2317.21 1522.85 2317.21 1531.6 Q2317.21 1540.33 2314.14 1544.94 Q2311.08 1549.52 2305.27 1549.52 Q2299.46 1549.52 2296.38 1544.94 Q2293.33 1540.33 2293.33 1531.6 Q2293.33 1522.85 2296.38 1518.27 Q2299.46 1513.66 2305.27 1513.66 Z\" fill=\"#000000\" fill-rule=\"evenodd\" fill-opacity=\"1\" /><polyline clip-path=\"url(#clip372)\" style=\"stroke:#000000; stroke-linecap:round; stroke-linejoin:round; stroke-width:2; stroke-opacity:0.1; fill:none\" points=\"178.867,1246.78 2352.76,1246.78 \"/>\n",
       "<polyline clip-path=\"url(#clip372)\" style=\"stroke:#000000; stroke-linecap:round; stroke-linejoin:round; stroke-width:2; stroke-opacity:0.1; fill:none\" points=\"178.867,921.276 2352.76,921.276 \"/>\n",
       "<polyline clip-path=\"url(#clip372)\" style=\"stroke:#000000; stroke-linecap:round; stroke-linejoin:round; stroke-width:2; stroke-opacity:0.1; fill:none\" points=\"178.867,595.768 2352.76,595.768 \"/>\n",
       "<polyline clip-path=\"url(#clip372)\" style=\"stroke:#000000; stroke-linecap:round; stroke-linejoin:round; stroke-width:2; stroke-opacity:0.1; fill:none\" points=\"178.867,270.261 2352.76,270.261 \"/>\n",
       "<polyline clip-path=\"url(#clip370)\" style=\"stroke:#000000; stroke-linecap:round; stroke-linejoin:round; stroke-width:4; stroke-opacity:1; fill:none\" points=\"178.867,1486.45 178.867,47.2441 \"/>\n",
       "<polyline clip-path=\"url(#clip370)\" style=\"stroke:#000000; stroke-linecap:round; stroke-linejoin:round; stroke-width:4; stroke-opacity:1; fill:none\" points=\"178.867,1246.78 197.764,1246.78 \"/>\n",
       "<polyline clip-path=\"url(#clip370)\" style=\"stroke:#000000; stroke-linecap:round; stroke-linejoin:round; stroke-width:4; stroke-opacity:1; fill:none\" points=\"178.867,921.276 197.764,921.276 \"/>\n",
       "<polyline clip-path=\"url(#clip370)\" style=\"stroke:#000000; stroke-linecap:round; stroke-linejoin:round; stroke-width:4; stroke-opacity:1; fill:none\" points=\"178.867,595.768 197.764,595.768 \"/>\n",
       "<polyline clip-path=\"url(#clip370)\" style=\"stroke:#000000; stroke-linecap:round; stroke-linejoin:round; stroke-width:4; stroke-opacity:1; fill:none\" points=\"178.867,270.261 197.764,270.261 \"/>\n",
       "<path clip-path=\"url(#clip370)\" d=\"M50.9921 1247.23 L80.6679 1247.23 L80.6679 1251.17 L50.9921 1251.17 L50.9921 1247.23 Z\" fill=\"#000000\" fill-rule=\"evenodd\" fill-opacity=\"1\" /><path clip-path=\"url(#clip370)\" d=\"M90.8067 1229.5 L109.163 1229.5 L109.163 1233.44 L95.0891 1233.44 L95.0891 1241.91 Q96.1076 1241.56 97.1261 1241.4 Q98.1447 1241.22 99.1632 1241.22 Q104.95 1241.22 108.33 1244.39 Q111.709 1247.56 111.709 1252.98 Q111.709 1258.55 108.237 1261.66 Q104.765 1264.73 98.4456 1264.73 Q96.2697 1264.73 94.0012 1264.36 Q91.7558 1263.99 89.3484 1263.25 L89.3484 1258.55 Q91.4317 1259.69 93.6539 1260.24 Q95.8761 1260.8 98.353 1260.8 Q102.358 1260.8 104.696 1258.69 Q107.033 1256.59 107.033 1252.98 Q107.033 1249.36 104.696 1247.26 Q102.358 1245.15 98.353 1245.15 Q96.478 1245.15 94.603 1245.57 Q92.7512 1245.98 90.8067 1246.86 L90.8067 1229.5 Z\" fill=\"#000000\" fill-rule=\"evenodd\" fill-opacity=\"1\" /><path clip-path=\"url(#clip370)\" d=\"M130.922 1232.58 Q127.311 1232.58 125.482 1236.15 Q123.677 1239.69 123.677 1246.82 Q123.677 1253.92 125.482 1257.49 Q127.311 1261.03 130.922 1261.03 Q134.556 1261.03 136.362 1257.49 Q138.191 1253.92 138.191 1246.82 Q138.191 1239.69 136.362 1236.15 Q134.556 1232.58 130.922 1232.58 M130.922 1228.88 Q136.732 1228.88 139.788 1233.48 Q142.867 1238.07 142.867 1246.82 Q142.867 1255.55 139.788 1260.15 Q136.732 1264.73 130.922 1264.73 Q125.112 1264.73 122.033 1260.15 Q118.978 1255.55 118.978 1246.82 Q118.978 1238.07 122.033 1233.48 Q125.112 1228.88 130.922 1228.88 Z\" fill=\"#000000\" fill-rule=\"evenodd\" fill-opacity=\"1\" /><path clip-path=\"url(#clip370)\" d=\"M130.922 907.075 Q127.311 907.075 125.482 910.639 Q123.677 914.181 123.677 921.311 Q123.677 928.417 125.482 931.982 Q127.311 935.523 130.922 935.523 Q134.556 935.523 136.362 931.982 Q138.191 928.417 138.191 921.311 Q138.191 914.181 136.362 910.639 Q134.556 907.075 130.922 907.075 M130.922 903.371 Q136.732 903.371 139.788 907.977 Q142.867 912.561 142.867 921.311 Q142.867 930.037 139.788 934.644 Q136.732 939.227 130.922 939.227 Q125.112 939.227 122.033 934.644 Q118.978 930.037 118.978 921.311 Q118.978 912.561 122.033 907.977 Q125.112 903.371 130.922 903.371 Z\" fill=\"#000000\" fill-rule=\"evenodd\" fill-opacity=\"1\" /><path clip-path=\"url(#clip370)\" d=\"M90.8067 578.488 L109.163 578.488 L109.163 582.423 L95.0891 582.423 L95.0891 590.896 Q96.1076 590.548 97.1261 590.386 Q98.1447 590.201 99.1632 590.201 Q104.95 590.201 108.33 593.372 Q111.709 596.544 111.709 601.96 Q111.709 607.539 108.237 610.641 Q104.765 613.719 98.4456 613.719 Q96.2697 613.719 94.0012 613.349 Q91.7558 612.979 89.3484 612.238 L89.3484 607.539 Q91.4317 608.673 93.6539 609.229 Q95.8761 609.784 98.353 609.784 Q102.358 609.784 104.696 607.678 Q107.033 605.571 107.033 601.96 Q107.033 598.349 104.696 596.243 Q102.358 594.136 98.353 594.136 Q96.478 594.136 94.603 594.553 Q92.7512 594.97 90.8067 595.849 L90.8067 578.488 Z\" fill=\"#000000\" fill-rule=\"evenodd\" fill-opacity=\"1\" /><path clip-path=\"url(#clip370)\" d=\"M130.922 581.567 Q127.311 581.567 125.482 585.132 Q123.677 588.673 123.677 595.803 Q123.677 602.909 125.482 606.474 Q127.311 610.016 130.922 610.016 Q134.556 610.016 136.362 606.474 Q138.191 602.909 138.191 595.803 Q138.191 588.673 136.362 585.132 Q134.556 581.567 130.922 581.567 M130.922 577.863 Q136.732 577.863 139.788 582.47 Q142.867 587.053 142.867 595.803 Q142.867 604.53 139.788 609.136 Q136.732 613.719 130.922 613.719 Q125.112 613.719 122.033 609.136 Q118.978 604.53 118.978 595.803 Q118.978 587.053 122.033 582.47 Q125.112 577.863 130.922 577.863 Z\" fill=\"#000000\" fill-rule=\"evenodd\" fill-opacity=\"1\" /><path clip-path=\"url(#clip370)\" d=\"M61.4087 283.605 L69.0476 283.605 L69.0476 257.24 L60.7374 258.906 L60.7374 254.647 L69.0013 252.981 L73.6772 252.981 L73.6772 283.605 L81.316 283.605 L81.316 287.541 L61.4087 287.541 L61.4087 283.605 Z\" fill=\"#000000\" fill-rule=\"evenodd\" fill-opacity=\"1\" /><path clip-path=\"url(#clip370)\" d=\"M100.76 256.059 Q97.1493 256.059 95.3206 259.624 Q93.515 263.166 93.515 270.295 Q93.515 277.402 95.3206 280.967 Q97.1493 284.508 100.76 284.508 Q104.395 284.508 106.2 280.967 Q108.029 277.402 108.029 270.295 Q108.029 263.166 106.2 259.624 Q104.395 256.059 100.76 256.059 M100.76 252.356 Q106.571 252.356 109.626 256.962 Q112.705 261.545 112.705 270.295 Q112.705 279.022 109.626 283.629 Q106.571 288.212 100.76 288.212 Q94.9502 288.212 91.8715 283.629 Q88.816 279.022 88.816 270.295 Q88.816 261.545 91.8715 256.962 Q94.9502 252.356 100.76 252.356 Z\" fill=\"#000000\" fill-rule=\"evenodd\" fill-opacity=\"1\" /><path clip-path=\"url(#clip370)\" d=\"M130.922 256.059 Q127.311 256.059 125.482 259.624 Q123.677 263.166 123.677 270.295 Q123.677 277.402 125.482 280.967 Q127.311 284.508 130.922 284.508 Q134.556 284.508 136.362 280.967 Q138.191 277.402 138.191 270.295 Q138.191 263.166 136.362 259.624 Q134.556 256.059 130.922 256.059 M130.922 252.356 Q136.732 252.356 139.788 256.962 Q142.867 261.545 142.867 270.295 Q142.867 279.022 139.788 283.629 Q136.732 288.212 130.922 288.212 Q125.112 288.212 122.033 283.629 Q118.978 279.022 118.978 270.295 Q118.978 261.545 122.033 256.962 Q125.112 252.356 130.922 252.356 Z\" fill=\"#000000\" fill-rule=\"evenodd\" fill-opacity=\"1\" /><circle clip-path=\"url(#clip372)\" cx=\"240.392\" cy=\"564.443\" r=\"14.4\" fill=\"#009af9\" fill-rule=\"evenodd\" fill-opacity=\"1\" stroke=\"#000000\" stroke-opacity=\"1\" stroke-width=\"3.2\"/>\n",
       "<circle clip-path=\"url(#clip372)\" cx=\"342.934\" cy=\"706.325\" r=\"14.4\" fill=\"#009af9\" fill-rule=\"evenodd\" fill-opacity=\"1\" stroke=\"#000000\" stroke-opacity=\"1\" stroke-width=\"3.2\"/>\n",
       "<circle clip-path=\"url(#clip372)\" cx=\"445.476\" cy=\"879.999\" r=\"14.4\" fill=\"#009af9\" fill-rule=\"evenodd\" fill-opacity=\"1\" stroke=\"#000000\" stroke-opacity=\"1\" stroke-width=\"3.2\"/>\n",
       "<circle clip-path=\"url(#clip372)\" cx=\"548.018\" cy=\"1175.06\" r=\"14.4\" fill=\"#009af9\" fill-rule=\"evenodd\" fill-opacity=\"1\" stroke=\"#000000\" stroke-opacity=\"1\" stroke-width=\"3.2\"/>\n",
       "<circle clip-path=\"url(#clip372)\" cx=\"650.56\" cy=\"504.964\" r=\"14.4\" fill=\"#009af9\" fill-rule=\"evenodd\" fill-opacity=\"1\" stroke=\"#000000\" stroke-opacity=\"1\" stroke-width=\"3.2\"/>\n",
       "<circle clip-path=\"url(#clip372)\" cx=\"753.102\" cy=\"444.755\" r=\"14.4\" fill=\"#009af9\" fill-rule=\"evenodd\" fill-opacity=\"1\" stroke=\"#000000\" stroke-opacity=\"1\" stroke-width=\"3.2\"/>\n",
       "<circle clip-path=\"url(#clip372)\" cx=\"855.643\" cy=\"1218.44\" r=\"14.4\" fill=\"#009af9\" fill-rule=\"evenodd\" fill-opacity=\"1\" stroke=\"#000000\" stroke-opacity=\"1\" stroke-width=\"3.2\"/>\n",
       "<circle clip-path=\"url(#clip372)\" cx=\"958.185\" cy=\"664.639\" r=\"14.4\" fill=\"#009af9\" fill-rule=\"evenodd\" fill-opacity=\"1\" stroke=\"#000000\" stroke-opacity=\"1\" stroke-width=\"3.2\"/>\n",
       "<circle clip-path=\"url(#clip372)\" cx=\"1060.73\" cy=\"832.604\" r=\"14.4\" fill=\"#009af9\" fill-rule=\"evenodd\" fill-opacity=\"1\" stroke=\"#000000\" stroke-opacity=\"1\" stroke-width=\"3.2\"/>\n",
       "<circle clip-path=\"url(#clip372)\" cx=\"1163.27\" cy=\"1445.72\" r=\"14.4\" fill=\"#009af9\" fill-rule=\"evenodd\" fill-opacity=\"1\" stroke=\"#000000\" stroke-opacity=\"1\" stroke-width=\"3.2\"/>\n",
       "<circle clip-path=\"url(#clip372)\" cx=\"1265.81\" cy=\"1083.78\" r=\"14.4\" fill=\"#009af9\" fill-rule=\"evenodd\" fill-opacity=\"1\" stroke=\"#000000\" stroke-opacity=\"1\" stroke-width=\"3.2\"/>\n",
       "<circle clip-path=\"url(#clip372)\" cx=\"1368.35\" cy=\"692.833\" r=\"14.4\" fill=\"#009af9\" fill-rule=\"evenodd\" fill-opacity=\"1\" stroke=\"#000000\" stroke-opacity=\"1\" stroke-width=\"3.2\"/>\n",
       "<circle clip-path=\"url(#clip372)\" cx=\"1470.9\" cy=\"1402.7\" r=\"14.4\" fill=\"#009af9\" fill-rule=\"evenodd\" fill-opacity=\"1\" stroke=\"#000000\" stroke-opacity=\"1\" stroke-width=\"3.2\"/>\n",
       "<circle clip-path=\"url(#clip372)\" cx=\"1573.44\" cy=\"508.137\" r=\"14.4\" fill=\"#009af9\" fill-rule=\"evenodd\" fill-opacity=\"1\" stroke=\"#000000\" stroke-opacity=\"1\" stroke-width=\"3.2\"/>\n",
       "<circle clip-path=\"url(#clip372)\" cx=\"1675.98\" cy=\"522.282\" r=\"14.4\" fill=\"#009af9\" fill-rule=\"evenodd\" fill-opacity=\"1\" stroke=\"#000000\" stroke-opacity=\"1\" stroke-width=\"3.2\"/>\n",
       "<circle clip-path=\"url(#clip372)\" cx=\"1778.52\" cy=\"1131.84\" r=\"14.4\" fill=\"#009af9\" fill-rule=\"evenodd\" fill-opacity=\"1\" stroke=\"#000000\" stroke-opacity=\"1\" stroke-width=\"3.2\"/>\n",
       "<circle clip-path=\"url(#clip372)\" cx=\"1881.06\" cy=\"646.079\" r=\"14.4\" fill=\"#009af9\" fill-rule=\"evenodd\" fill-opacity=\"1\" stroke=\"#000000\" stroke-opacity=\"1\" stroke-width=\"3.2\"/>\n",
       "<circle clip-path=\"url(#clip372)\" cx=\"1983.6\" cy=\"824.763\" r=\"14.4\" fill=\"#009af9\" fill-rule=\"evenodd\" fill-opacity=\"1\" stroke=\"#000000\" stroke-opacity=\"1\" stroke-width=\"3.2\"/>\n",
       "<circle clip-path=\"url(#clip372)\" cx=\"2086.15\" cy=\"1070.47\" r=\"14.4\" fill=\"#009af9\" fill-rule=\"evenodd\" fill-opacity=\"1\" stroke=\"#000000\" stroke-opacity=\"1\" stroke-width=\"3.2\"/>\n",
       "<circle clip-path=\"url(#clip372)\" cx=\"2188.69\" cy=\"141.311\" r=\"14.4\" fill=\"#009af9\" fill-rule=\"evenodd\" fill-opacity=\"1\" stroke=\"#000000\" stroke-opacity=\"1\" stroke-width=\"3.2\"/>\n",
       "<circle clip-path=\"url(#clip372)\" cx=\"2291.23\" cy=\"500.484\" r=\"14.4\" fill=\"#009af9\" fill-rule=\"evenodd\" fill-opacity=\"1\" stroke=\"#000000\" stroke-opacity=\"1\" stroke-width=\"3.2\"/>\n",
       "<polyline clip-path=\"url(#clip372)\" style=\"stroke:#e26f46; stroke-linecap:round; stroke-linejoin:round; stroke-width:4; stroke-opacity:1; fill:none\" points=\"240.392,478.585 342.934,582.748 445.476,673.89 548.018,752.012 650.56,817.113 753.102,869.195 855.643,908.256 958.185,934.296 1060.73,947.316 1163.27,947.316 1265.81,934.296 1368.35,908.256 1470.9,869.195 1573.44,817.113 1675.98,752.012 1778.52,673.89 1881.06,582.748 1983.6,478.585 2086.15,361.403 2188.69,231.2 2291.23,87.9763 \"/>\n",
       "<polyline clip-path=\"url(#clip372)\" style=\"stroke:#3da44d; stroke-linecap:round; stroke-linejoin:round; stroke-width:4; stroke-opacity:1; fill:none\" points=\"240.392,611.419 342.934,683.907 445.476,748.048 548.018,803.843 650.56,851.292 753.102,890.394 855.643,921.151 958.185,943.56 1060.73,957.624 1163.27,963.341 1265.81,960.712 1368.35,949.736 1470.9,930.415 1573.44,902.747 1675.98,866.732 1778.52,822.372 1881.06,769.665 1983.6,708.611 2086.15,639.212 2188.69,561.466 2291.23,475.374 \"/>\n",
       "<path clip-path=\"url(#clip370)\" d=\"M251.33 302.578 L667.653 302.578 L667.653 95.2176 L251.33 95.2176  Z\" fill=\"#ffffff\" fill-rule=\"evenodd\" fill-opacity=\"1\"/>\n",
       "<polyline clip-path=\"url(#clip370)\" style=\"stroke:#000000; stroke-linecap:round; stroke-linejoin:round; stroke-width:4; stroke-opacity:1; fill:none\" points=\"251.33,302.578 667.653,302.578 667.653,95.2176 251.33,95.2176 251.33,302.578 \"/>\n",
       "<circle clip-path=\"url(#clip370)\" cx=\"347.947\" cy=\"147.058\" r=\"23.04\" fill=\"#009af9\" fill-rule=\"evenodd\" fill-opacity=\"1\" stroke=\"#000000\" stroke-opacity=\"1\" stroke-width=\"5.12\"/>\n",
       "<path clip-path=\"url(#clip370)\" d=\"M458.407 166.745 Q456.601 171.375 454.888 172.787 Q453.175 174.199 450.305 174.199 L446.902 174.199 L446.902 170.634 L449.402 170.634 Q451.161 170.634 452.134 169.8 Q453.106 168.967 454.286 165.865 L455.05 163.921 L444.564 138.412 L449.078 138.412 L457.18 158.689 L465.282 138.412 L469.796 138.412 L458.407 166.745 Z\" fill=\"#000000\" fill-rule=\"evenodd\" fill-opacity=\"1\" /><path clip-path=\"url(#clip370)\" d=\"M477.087 160.402 L484.726 160.402 L484.726 134.037 L476.416 135.703 L476.416 131.444 L484.68 129.778 L489.356 129.778 L489.356 160.402 L496.994 160.402 L496.994 164.338 L477.087 164.338 L477.087 160.402 Z\" fill=\"#000000\" fill-rule=\"evenodd\" fill-opacity=\"1\" /><polyline clip-path=\"url(#clip370)\" style=\"stroke:#e26f46; stroke-linecap:round; stroke-linejoin:round; stroke-width:4; stroke-opacity:1; fill:none\" points=\"275.484,198.898 420.41,198.898 \"/>\n",
       "<path clip-path=\"url(#clip370)\" d=\"M444.564 181.618 L473.8 181.618 L473.8 185.553 L461.532 185.553 L461.532 216.178 L456.833 216.178 L456.833 185.553 L444.564 185.553 L444.564 181.618 Z\" fill=\"#000000\" fill-rule=\"evenodd\" fill-opacity=\"1\" /><path clip-path=\"url(#clip370)\" d=\"M486.184 194.233 Q485.467 193.817 484.61 193.631 Q483.777 193.423 482.758 193.423 Q479.147 193.423 477.203 195.784 Q475.282 198.122 475.282 202.52 L475.282 216.178 L470.999 216.178 L470.999 190.252 L475.282 190.252 L475.282 194.28 Q476.624 191.918 478.777 190.784 Q480.93 189.627 484.008 189.627 Q484.448 189.627 484.981 189.696 Q485.513 189.743 486.161 189.858 L486.184 194.233 Z\" fill=\"#000000\" fill-rule=\"evenodd\" fill-opacity=\"1\" /><path clip-path=\"url(#clip370)\" d=\"M490.212 205.946 L490.212 190.252 L494.471 190.252 L494.471 205.784 Q494.471 209.465 495.907 211.316 Q497.342 213.145 500.212 213.145 Q503.661 213.145 505.652 210.946 Q507.666 208.747 507.666 204.951 L507.666 190.252 L511.925 190.252 L511.925 216.178 L507.666 216.178 L507.666 212.196 Q506.115 214.557 504.055 215.715 Q502.018 216.849 499.309 216.849 Q494.842 216.849 492.527 214.071 Q490.212 211.293 490.212 205.946 M500.93 189.627 L500.93 189.627 Z\" fill=\"#000000\" fill-rule=\"evenodd\" fill-opacity=\"1\" /><path clip-path=\"url(#clip370)\" d=\"M542.874 202.15 L542.874 204.233 L523.291 204.233 Q523.568 208.631 525.93 210.946 Q528.314 213.238 532.55 213.238 Q535.004 213.238 537.295 212.636 Q539.61 212.034 541.879 210.83 L541.879 214.858 Q539.587 215.83 537.179 216.34 Q534.772 216.849 532.295 216.849 Q526.092 216.849 522.457 213.238 Q518.846 209.627 518.846 203.469 Q518.846 197.104 522.272 193.377 Q525.721 189.627 531.554 189.627 Q536.786 189.627 539.818 193.006 Q542.874 196.363 542.874 202.15 M538.615 200.9 Q538.568 197.405 536.647 195.321 Q534.749 193.238 531.601 193.238 Q528.036 193.238 525.883 195.252 Q523.754 197.266 523.43 200.923 L538.615 200.9 Z\" fill=\"#000000\" fill-rule=\"evenodd\" fill-opacity=\"1\" /><path clip-path=\"url(#clip370)\" d=\"M564.934 180.159 L569.193 180.159 L569.193 216.178 L564.934 216.178 L564.934 180.159 Z\" fill=\"#000000\" fill-rule=\"evenodd\" fill-opacity=\"1\" /><path clip-path=\"url(#clip370)\" d=\"M578.105 190.252 L582.364 190.252 L582.364 216.178 L578.105 216.178 L578.105 190.252 M578.105 180.159 L582.364 180.159 L582.364 185.553 L578.105 185.553 L578.105 180.159 Z\" fill=\"#000000\" fill-rule=\"evenodd\" fill-opacity=\"1\" /><path clip-path=\"url(#clip370)\" d=\"M612.827 200.529 L612.827 216.178 L608.568 216.178 L608.568 200.668 Q608.568 196.988 607.133 195.159 Q605.698 193.33 602.827 193.33 Q599.378 193.33 597.387 195.53 Q595.397 197.729 595.397 201.525 L595.397 216.178 L591.114 216.178 L591.114 190.252 L595.397 190.252 L595.397 194.28 Q596.925 191.942 598.985 190.784 Q601.068 189.627 603.776 189.627 Q608.244 189.627 610.536 192.405 Q612.827 195.159 612.827 200.529 Z\" fill=\"#000000\" fill-rule=\"evenodd\" fill-opacity=\"1\" /><path clip-path=\"url(#clip370)\" d=\"M643.498 202.15 L643.498 204.233 L623.915 204.233 Q624.193 208.631 626.554 210.946 Q628.938 213.238 633.174 213.238 Q635.628 213.238 637.92 212.636 Q640.234 212.034 642.503 210.83 L642.503 214.858 Q640.211 215.83 637.804 216.34 Q635.397 216.849 632.92 216.849 Q626.716 216.849 623.082 213.238 Q619.471 209.627 619.471 203.469 Q619.471 197.104 622.897 193.377 Q626.346 189.627 632.179 189.627 Q637.41 189.627 640.443 193.006 Q643.498 196.363 643.498 202.15 M639.239 200.9 Q639.193 197.405 637.272 195.321 Q635.373 193.238 632.225 193.238 Q628.66 193.238 626.508 195.252 Q624.378 197.266 624.054 200.923 L639.239 200.9 Z\" fill=\"#000000\" fill-rule=\"evenodd\" fill-opacity=\"1\" /><polyline clip-path=\"url(#clip370)\" style=\"stroke:#3da44d; stroke-linecap:round; stroke-linejoin:round; stroke-width:4; stroke-opacity:1; fill:none\" points=\"275.484,250.738 420.41,250.738 \"/>\n",
       "<path clip-path=\"url(#clip370)\" d=\"M444.564 233.458 L464.425 233.458 L464.425 237.393 L449.24 237.393 L449.24 247.578 L462.944 247.578 L462.944 251.513 L449.24 251.513 L449.24 268.018 L444.564 268.018 L444.564 233.458 Z\" fill=\"#000000\" fill-rule=\"evenodd\" fill-opacity=\"1\" /><path clip-path=\"url(#clip370)\" d=\"M468.198 242.092 L472.458 242.092 L472.458 268.018 L468.198 268.018 L468.198 242.092 M468.198 231.999 L472.458 231.999 L472.458 237.393 L468.198 237.393 L468.198 231.999 Z\" fill=\"#000000\" fill-rule=\"evenodd\" fill-opacity=\"1\" /><path clip-path=\"url(#clip370)\" d=\"M485.583 234.731 L485.583 242.092 L494.356 242.092 L494.356 245.402 L485.583 245.402 L485.583 259.476 Q485.583 262.647 486.439 263.55 Q487.319 264.453 489.981 264.453 L494.356 264.453 L494.356 268.018 L489.981 268.018 Q485.05 268.018 483.175 266.189 Q481.3 264.337 481.3 259.476 L481.3 245.402 L478.175 245.402 L478.175 242.092 L481.3 242.092 L481.3 234.731 L485.583 234.731 Z\" fill=\"#000000\" fill-rule=\"evenodd\" fill-opacity=\"1\" /><path clip-path=\"url(#clip370)\" d=\"M515.027 231.999 L519.286 231.999 L519.286 268.018 L515.027 268.018 L515.027 231.999 Z\" fill=\"#000000\" fill-rule=\"evenodd\" fill-opacity=\"1\" /><path clip-path=\"url(#clip370)\" d=\"M528.198 242.092 L532.457 242.092 L532.457 268.018 L528.198 268.018 L528.198 242.092 M528.198 231.999 L532.457 231.999 L532.457 237.393 L528.198 237.393 L528.198 231.999 Z\" fill=\"#000000\" fill-rule=\"evenodd\" fill-opacity=\"1\" /><path clip-path=\"url(#clip370)\" d=\"M562.92 252.369 L562.92 268.018 L558.661 268.018 L558.661 252.508 Q558.661 248.828 557.226 246.999 Q555.79 245.17 552.92 245.17 Q549.471 245.17 547.48 247.37 Q545.49 249.569 545.49 253.365 L545.49 268.018 L541.207 268.018 L541.207 242.092 L545.49 242.092 L545.49 246.12 Q547.017 243.782 549.078 242.624 Q551.161 241.467 553.869 241.467 Q558.337 241.467 560.628 244.245 Q562.92 246.999 562.92 252.369 Z\" fill=\"#000000\" fill-rule=\"evenodd\" fill-opacity=\"1\" /><path clip-path=\"url(#clip370)\" d=\"M593.591 253.99 L593.591 256.073 L574.008 256.073 Q574.286 260.471 576.647 262.786 Q579.031 265.078 583.267 265.078 Q585.721 265.078 588.013 264.476 Q590.327 263.874 592.596 262.67 L592.596 266.698 Q590.304 267.67 587.897 268.18 Q585.489 268.689 583.013 268.689 Q576.809 268.689 573.175 265.078 Q569.564 261.467 569.564 255.309 Q569.564 248.944 572.989 245.217 Q576.439 241.467 582.272 241.467 Q587.503 241.467 590.536 244.846 Q593.591 248.203 593.591 253.99 M589.332 252.74 Q589.286 249.245 587.364 247.161 Q585.466 245.078 582.318 245.078 Q578.753 245.078 576.601 247.092 Q574.471 249.106 574.147 252.763 L589.332 252.74 Z\" fill=\"#000000\" fill-rule=\"evenodd\" fill-opacity=\"1\" /></svg>\n"
      ]
     },
     "execution_count": 6,
     "metadata": {},
     "output_type": "execute_result"
    }
   ],
   "source": [
    "noise50 = rand(di.Normal(0,50),21)\n",
    "y_observed50 = y_true .+ noise50\n",
    "scatter(x,y_observed50)\n",
    "plot!(x,y_true,label = \"True line\")\n",
    "plot!(x,fit(x,y_observed50,2).(x),label = \"Fit line\")"
   ]
  },
  {
   "cell_type": "markdown",
   "id": "ab12acbd",
   "metadata": {},
   "source": [
    "2. Compare the plot with the plot in 2.3. Is the fit closer to y_true or not, and why?"
   ]
  },
  {
   "cell_type": "markdown",
   "id": "a34fcca4",
   "metadata": {},
   "source": [
    "The plot with 50 std is farther from the y_true because the variance in the data shifts the fit away from the true equation. With higher variance/std the more inaccurate the data can become because too many data points in one direction could affect the trend of the data."
   ]
  },
  {
   "cell_type": "markdown",
   "id": "5fd1d93b",
   "metadata": {},
   "source": [
    "### 2.5\n",
    "\n",
    "#### Repeat 2.2 and 2.3 with a tenth order polynomial fit\n"
   ]
  },
  {
   "cell_type": "code",
   "execution_count": 7,
   "id": "b6dbd546",
   "metadata": {},
   "outputs": [
    {
     "data": {
      "image/svg+xml": [
       "<?xml version=\"1.0\" encoding=\"utf-8\"?>\n",
       "<svg xmlns=\"http://www.w3.org/2000/svg\" xmlns:xlink=\"http://www.w3.org/1999/xlink\" width=\"600\" height=\"400\" viewBox=\"0 0 2400 1600\">\n",
       "<defs>\n",
       "  <clipPath id=\"clip410\">\n",
       "    <rect x=\"0\" y=\"0\" width=\"2400\" height=\"1600\"/>\n",
       "  </clipPath>\n",
       "</defs>\n",
       "<path clip-path=\"url(#clip410)\" d=\"M0 1600 L2400 1600 L2400 0 L0 0  Z\" fill=\"#ffffff\" fill-rule=\"evenodd\" fill-opacity=\"1\"/>\n",
       "<defs>\n",
       "  <clipPath id=\"clip411\">\n",
       "    <rect x=\"480\" y=\"0\" width=\"1681\" height=\"1600\"/>\n",
       "  </clipPath>\n",
       "</defs>\n",
       "<path clip-path=\"url(#clip410)\" d=\"M169.121 1486.45 L2352.76 1486.45 L2352.76 47.2441 L169.121 47.2441  Z\" fill=\"#ffffff\" fill-rule=\"evenodd\" fill-opacity=\"1\"/>\n",
       "<defs>\n",
       "  <clipPath id=\"clip412\">\n",
       "    <rect x=\"169\" y=\"47\" width=\"2185\" height=\"1440\"/>\n",
       "  </clipPath>\n",
       "</defs>\n",
       "<polyline clip-path=\"url(#clip412)\" style=\"stroke:#000000; stroke-linecap:round; stroke-linejoin:round; stroke-width:2; stroke-opacity:0.1; fill:none\" points=\"230.922,1486.45 230.922,47.2441 \"/>\n",
       "<polyline clip-path=\"url(#clip412)\" style=\"stroke:#000000; stroke-linecap:round; stroke-linejoin:round; stroke-width:2; stroke-opacity:0.1; fill:none\" points=\"745.93,1486.45 745.93,47.2441 \"/>\n",
       "<polyline clip-path=\"url(#clip412)\" style=\"stroke:#000000; stroke-linecap:round; stroke-linejoin:round; stroke-width:2; stroke-opacity:0.1; fill:none\" points=\"1260.94,1486.45 1260.94,47.2441 \"/>\n",
       "<polyline clip-path=\"url(#clip412)\" style=\"stroke:#000000; stroke-linecap:round; stroke-linejoin:round; stroke-width:2; stroke-opacity:0.1; fill:none\" points=\"1775.95,1486.45 1775.95,47.2441 \"/>\n",
       "<polyline clip-path=\"url(#clip412)\" style=\"stroke:#000000; stroke-linecap:round; stroke-linejoin:round; stroke-width:2; stroke-opacity:0.1; fill:none\" points=\"2290.95,1486.45 2290.95,47.2441 \"/>\n",
       "<polyline clip-path=\"url(#clip410)\" style=\"stroke:#000000; stroke-linecap:round; stroke-linejoin:round; stroke-width:4; stroke-opacity:1; fill:none\" points=\"169.121,1486.45 2352.76,1486.45 \"/>\n",
       "<polyline clip-path=\"url(#clip410)\" style=\"stroke:#000000; stroke-linecap:round; stroke-linejoin:round; stroke-width:4; stroke-opacity:1; fill:none\" points=\"230.922,1486.45 230.922,1467.55 \"/>\n",
       "<polyline clip-path=\"url(#clip410)\" style=\"stroke:#000000; stroke-linecap:round; stroke-linejoin:round; stroke-width:4; stroke-opacity:1; fill:none\" points=\"745.93,1486.45 745.93,1467.55 \"/>\n",
       "<polyline clip-path=\"url(#clip410)\" style=\"stroke:#000000; stroke-linecap:round; stroke-linejoin:round; stroke-width:4; stroke-opacity:1; fill:none\" points=\"1260.94,1486.45 1260.94,1467.55 \"/>\n",
       "<polyline clip-path=\"url(#clip410)\" style=\"stroke:#000000; stroke-linecap:round; stroke-linejoin:round; stroke-width:4; stroke-opacity:1; fill:none\" points=\"1775.95,1486.45 1775.95,1467.55 \"/>\n",
       "<polyline clip-path=\"url(#clip410)\" style=\"stroke:#000000; stroke-linecap:round; stroke-linejoin:round; stroke-width:4; stroke-opacity:1; fill:none\" points=\"2290.95,1486.45 2290.95,1467.55 \"/>\n",
       "<path clip-path=\"url(#clip410)\" d=\"M184.985 1532.02 L214.661 1532.02 L214.661 1535.95 L184.985 1535.95 L184.985 1532.02 Z\" fill=\"#000000\" fill-rule=\"evenodd\" fill-opacity=\"1\" /><path clip-path=\"url(#clip410)\" d=\"M225.564 1544.91 L233.202 1544.91 L233.202 1518.55 L224.892 1520.21 L224.892 1515.95 L233.156 1514.29 L237.832 1514.29 L237.832 1544.91 L245.471 1544.91 L245.471 1548.85 L225.564 1548.85 L225.564 1544.91 Z\" fill=\"#000000\" fill-rule=\"evenodd\" fill-opacity=\"1\" /><path clip-path=\"url(#clip410)\" d=\"M264.915 1517.37 Q261.304 1517.37 259.475 1520.93 Q257.67 1524.47 257.67 1531.6 Q257.67 1538.71 259.475 1542.27 Q261.304 1545.82 264.915 1545.82 Q268.549 1545.82 270.355 1542.27 Q272.184 1538.71 272.184 1531.6 Q272.184 1524.47 270.355 1520.93 Q268.549 1517.37 264.915 1517.37 M264.915 1513.66 Q270.725 1513.66 273.781 1518.27 Q276.86 1522.85 276.86 1531.6 Q276.86 1540.33 273.781 1544.94 Q270.725 1549.52 264.915 1549.52 Q259.105 1549.52 256.026 1544.94 Q252.971 1540.33 252.971 1531.6 Q252.971 1522.85 256.026 1518.27 Q259.105 1513.66 264.915 1513.66 Z\" fill=\"#000000\" fill-rule=\"evenodd\" fill-opacity=\"1\" /><path clip-path=\"url(#clip410)\" d=\"M715.572 1532.02 L745.248 1532.02 L745.248 1535.95 L715.572 1535.95 L715.572 1532.02 Z\" fill=\"#000000\" fill-rule=\"evenodd\" fill-opacity=\"1\" /><path clip-path=\"url(#clip410)\" d=\"M755.386 1514.29 L773.743 1514.29 L773.743 1518.22 L759.669 1518.22 L759.669 1526.7 Q760.687 1526.35 761.706 1526.19 Q762.724 1526 763.743 1526 Q769.53 1526 772.909 1529.17 Q776.289 1532.34 776.289 1537.76 Q776.289 1543.34 772.817 1546.44 Q769.345 1549.52 763.025 1549.52 Q760.849 1549.52 758.581 1549.15 Q756.335 1548.78 753.928 1548.04 L753.928 1543.34 Q756.011 1544.47 758.234 1545.03 Q760.456 1545.58 762.933 1545.58 Q766.937 1545.58 769.275 1543.48 Q771.613 1541.37 771.613 1537.76 Q771.613 1534.15 769.275 1532.04 Q766.937 1529.94 762.933 1529.94 Q761.058 1529.94 759.183 1530.35 Q757.331 1530.77 755.386 1531.65 L755.386 1514.29 Z\" fill=\"#000000\" fill-rule=\"evenodd\" fill-opacity=\"1\" /><path clip-path=\"url(#clip410)\" d=\"M1260.94 1517.37 Q1257.33 1517.37 1255.5 1520.93 Q1253.69 1524.47 1253.69 1531.6 Q1253.69 1538.71 1255.5 1542.27 Q1257.33 1545.82 1260.94 1545.82 Q1264.57 1545.82 1266.38 1542.27 Q1268.21 1538.71 1268.21 1531.6 Q1268.21 1524.47 1266.38 1520.93 Q1264.57 1517.37 1260.94 1517.37 M1260.94 1513.66 Q1266.75 1513.66 1269.8 1518.27 Q1272.88 1522.85 1272.88 1531.6 Q1272.88 1540.33 1269.8 1544.94 Q1266.75 1549.52 1260.94 1549.52 Q1255.13 1549.52 1252.05 1544.94 Q1248.99 1540.33 1248.99 1531.6 Q1248.99 1522.85 1252.05 1518.27 Q1255.13 1513.66 1260.94 1513.66 Z\" fill=\"#000000\" fill-rule=\"evenodd\" fill-opacity=\"1\" /><path clip-path=\"url(#clip410)\" d=\"M1766.22 1514.29 L1784.58 1514.29 L1784.58 1518.22 L1770.51 1518.22 L1770.51 1526.7 Q1771.53 1526.35 1772.54 1526.19 Q1773.56 1526 1774.58 1526 Q1780.37 1526 1783.75 1529.17 Q1787.13 1532.34 1787.13 1537.76 Q1787.13 1543.34 1783.66 1546.44 Q1780.18 1549.52 1773.86 1549.52 Q1771.69 1549.52 1769.42 1549.15 Q1767.17 1548.78 1764.77 1548.04 L1764.77 1543.34 Q1766.85 1544.47 1769.07 1545.03 Q1771.29 1545.58 1773.77 1545.58 Q1777.78 1545.58 1780.11 1543.48 Q1782.45 1541.37 1782.45 1537.76 Q1782.45 1534.15 1780.11 1532.04 Q1777.78 1529.94 1773.77 1529.94 Q1771.9 1529.94 1770.02 1530.35 Q1768.17 1530.77 1766.22 1531.65 L1766.22 1514.29 Z\" fill=\"#000000\" fill-rule=\"evenodd\" fill-opacity=\"1\" /><path clip-path=\"url(#clip410)\" d=\"M2265.64 1544.91 L2273.28 1544.91 L2273.28 1518.55 L2264.97 1520.21 L2264.97 1515.95 L2273.24 1514.29 L2277.91 1514.29 L2277.91 1544.91 L2285.55 1544.91 L2285.55 1548.85 L2265.64 1548.85 L2265.64 1544.91 Z\" fill=\"#000000\" fill-rule=\"evenodd\" fill-opacity=\"1\" /><path clip-path=\"url(#clip410)\" d=\"M2304.99 1517.37 Q2301.38 1517.37 2299.55 1520.93 Q2297.75 1524.47 2297.75 1531.6 Q2297.75 1538.71 2299.55 1542.27 Q2301.38 1545.82 2304.99 1545.82 Q2308.63 1545.82 2310.43 1542.27 Q2312.26 1538.71 2312.26 1531.6 Q2312.26 1524.47 2310.43 1520.93 Q2308.63 1517.37 2304.99 1517.37 M2304.99 1513.66 Q2310.8 1513.66 2313.86 1518.27 Q2316.94 1522.85 2316.94 1531.6 Q2316.94 1540.33 2313.86 1544.94 Q2310.8 1549.52 2304.99 1549.52 Q2299.18 1549.52 2296.11 1544.94 Q2293.05 1540.33 2293.05 1531.6 Q2293.05 1522.85 2296.11 1518.27 Q2299.18 1513.66 2304.99 1513.66 Z\" fill=\"#000000\" fill-rule=\"evenodd\" fill-opacity=\"1\" /><polyline clip-path=\"url(#clip412)\" style=\"stroke:#000000; stroke-linecap:round; stroke-linejoin:round; stroke-width:2; stroke-opacity:0.1; fill:none\" points=\"169.121,1260.77 2352.76,1260.77 \"/>\n",
       "<polyline clip-path=\"url(#clip412)\" style=\"stroke:#000000; stroke-linecap:round; stroke-linejoin:round; stroke-width:2; stroke-opacity:0.1; fill:none\" points=\"169.121,986.858 2352.76,986.858 \"/>\n",
       "<polyline clip-path=\"url(#clip412)\" style=\"stroke:#000000; stroke-linecap:round; stroke-linejoin:round; stroke-width:2; stroke-opacity:0.1; fill:none\" points=\"169.121,712.941 2352.76,712.941 \"/>\n",
       "<polyline clip-path=\"url(#clip412)\" style=\"stroke:#000000; stroke-linecap:round; stroke-linejoin:round; stroke-width:2; stroke-opacity:0.1; fill:none\" points=\"169.121,439.024 2352.76,439.024 \"/>\n",
       "<polyline clip-path=\"url(#clip412)\" style=\"stroke:#000000; stroke-linecap:round; stroke-linejoin:round; stroke-width:2; stroke-opacity:0.1; fill:none\" points=\"169.121,165.107 2352.76,165.107 \"/>\n",
       "<polyline clip-path=\"url(#clip410)\" style=\"stroke:#000000; stroke-linecap:round; stroke-linejoin:round; stroke-width:4; stroke-opacity:1; fill:none\" points=\"169.121,1486.45 169.121,47.2441 \"/>\n",
       "<polyline clip-path=\"url(#clip410)\" style=\"stroke:#000000; stroke-linecap:round; stroke-linejoin:round; stroke-width:4; stroke-opacity:1; fill:none\" points=\"169.121,1260.77 188.019,1260.77 \"/>\n",
       "<polyline clip-path=\"url(#clip410)\" style=\"stroke:#000000; stroke-linecap:round; stroke-linejoin:round; stroke-width:4; stroke-opacity:1; fill:none\" points=\"169.121,986.858 188.019,986.858 \"/>\n",
       "<polyline clip-path=\"url(#clip410)\" style=\"stroke:#000000; stroke-linecap:round; stroke-linejoin:round; stroke-width:4; stroke-opacity:1; fill:none\" points=\"169.121,712.941 188.019,712.941 \"/>\n",
       "<polyline clip-path=\"url(#clip410)\" style=\"stroke:#000000; stroke-linecap:round; stroke-linejoin:round; stroke-width:4; stroke-opacity:1; fill:none\" points=\"169.121,439.024 188.019,439.024 \"/>\n",
       "<polyline clip-path=\"url(#clip410)\" style=\"stroke:#000000; stroke-linecap:round; stroke-linejoin:round; stroke-width:4; stroke-opacity:1; fill:none\" points=\"169.121,165.107 188.019,165.107 \"/>\n",
       "<path clip-path=\"url(#clip410)\" d=\"M121.177 1246.57 Q117.566 1246.57 115.737 1250.14 Q113.932 1253.68 113.932 1260.81 Q113.932 1267.92 115.737 1271.48 Q117.566 1275.02 121.177 1275.02 Q124.811 1275.02 126.617 1271.48 Q128.445 1267.92 128.445 1260.81 Q128.445 1253.68 126.617 1250.14 Q124.811 1246.57 121.177 1246.57 M121.177 1242.87 Q126.987 1242.87 130.043 1247.48 Q133.121 1252.06 133.121 1260.81 Q133.121 1269.54 130.043 1274.14 Q126.987 1278.73 121.177 1278.73 Q115.367 1278.73 112.288 1274.14 Q109.233 1269.54 109.233 1260.81 Q109.233 1252.06 112.288 1247.48 Q115.367 1242.87 121.177 1242.87 Z\" fill=\"#000000\" fill-rule=\"evenodd\" fill-opacity=\"1\" /><path clip-path=\"url(#clip410)\" d=\"M95.1817 985.503 Q98.5382 986.221 100.413 988.489 Q102.311 990.758 102.311 994.091 Q102.311 999.207 98.7928 1002.01 Q95.2743 1004.81 88.7928 1004.81 Q86.6169 1004.81 84.3021 1004.37 Q82.0105 1003.95 79.5568 1003.1 L79.5568 998.582 Q81.5012 999.716 83.816 1000.29 Q86.1308 1000.87 88.654 1000.87 Q93.0521 1000.87 95.3437 999.138 Q97.6585 997.401 97.6585 994.091 Q97.6585 991.036 95.5058 989.323 Q93.3762 987.587 89.5567 987.587 L85.529 987.587 L85.529 983.744 L89.7419 983.744 Q93.191 983.744 95.0197 982.378 Q96.8484 980.99 96.8484 978.397 Q96.8484 975.735 94.9502 974.323 Q93.0752 972.888 89.5567 972.888 Q87.6354 972.888 85.4364 973.304 Q83.2373 973.721 80.5984 974.601 L80.5984 970.434 Q83.2605 969.693 85.5753 969.323 Q87.9132 968.953 89.9734 968.953 Q95.2974 968.953 98.3993 971.383 Q101.501 973.79 101.501 977.911 Q101.501 980.781 99.8576 982.772 Q98.2141 984.739 95.1817 985.503 Z\" fill=\"#000000\" fill-rule=\"evenodd\" fill-opacity=\"1\" /><path clip-path=\"url(#clip410)\" d=\"M121.177 972.656 Q117.566 972.656 115.737 976.221 Q113.932 979.763 113.932 986.892 Q113.932 993.999 115.737 997.563 Q117.566 1001.11 121.177 1001.11 Q124.811 1001.11 126.617 997.563 Q128.445 993.999 128.445 986.892 Q128.445 979.763 126.617 976.221 Q124.811 972.656 121.177 972.656 M121.177 968.953 Q126.987 968.953 130.043 973.559 Q133.121 978.142 133.121 986.892 Q133.121 995.619 130.043 1000.23 Q126.987 1004.81 121.177 1004.81 Q115.367 1004.81 112.288 1000.23 Q109.233 995.619 109.233 986.892 Q109.233 978.142 112.288 973.559 Q115.367 968.953 121.177 968.953 Z\" fill=\"#000000\" fill-rule=\"evenodd\" fill-opacity=\"1\" /><path clip-path=\"url(#clip410)\" d=\"M91.5938 711.077 Q88.4456 711.077 86.5938 713.23 Q84.7651 715.383 84.7651 719.133 Q84.7651 722.86 86.5938 725.035 Q88.4456 727.188 91.5938 727.188 Q94.7419 727.188 96.5706 725.035 Q98.4224 722.86 98.4224 719.133 Q98.4224 715.383 96.5706 713.23 Q94.7419 711.077 91.5938 711.077 M100.876 696.425 L100.876 700.684 Q99.1169 699.85 97.3113 699.411 Q95.5289 698.971 93.7697 698.971 Q89.1401 698.971 86.6864 702.096 Q84.2558 705.221 83.9086 711.54 Q85.2743 709.526 87.3345 708.462 Q89.3947 707.374 91.8715 707.374 Q97.0798 707.374 100.089 710.545 Q103.121 713.693 103.121 719.133 Q103.121 724.457 99.9733 727.674 Q96.8252 730.892 91.5938 730.892 Q85.5984 730.892 82.4271 726.309 Q79.2559 721.702 79.2559 712.975 Q79.2559 704.781 83.1447 699.92 Q87.0336 695.036 93.5845 695.036 Q95.3437 695.036 97.1261 695.383 Q98.9317 695.73 100.876 696.425 Z\" fill=\"#000000\" fill-rule=\"evenodd\" fill-opacity=\"1\" /><path clip-path=\"url(#clip410)\" d=\"M121.177 698.739 Q117.566 698.739 115.737 702.304 Q113.932 705.846 113.932 712.975 Q113.932 720.082 115.737 723.647 Q117.566 727.188 121.177 727.188 Q124.811 727.188 126.617 723.647 Q128.445 720.082 128.445 712.975 Q128.445 705.846 126.617 702.304 Q124.811 698.739 121.177 698.739 M121.177 695.036 Q126.987 695.036 130.043 699.642 Q133.121 704.225 133.121 712.975 Q133.121 721.702 130.043 726.309 Q126.987 730.892 121.177 730.892 Q115.367 730.892 112.288 726.309 Q109.233 721.702 109.233 712.975 Q109.233 704.225 112.288 699.642 Q115.367 695.036 121.177 695.036 Z\" fill=\"#000000\" fill-rule=\"evenodd\" fill-opacity=\"1\" /><path clip-path=\"url(#clip410)\" d=\"M81.154 455.586 L81.154 451.327 Q82.9133 452.16 84.7188 452.6 Q86.5243 453.04 88.2604 453.04 Q92.89 453.04 95.3206 449.938 Q97.7743 446.813 98.1215 440.471 Q96.7789 442.461 94.7187 443.526 Q92.6586 444.591 90.1586 444.591 Q84.9734 444.591 81.941 441.466 Q78.9318 438.318 78.9318 432.878 Q78.9318 427.554 82.0799 424.336 Q85.2281 421.119 90.4595 421.119 Q96.4548 421.119 99.603 425.725 Q102.774 430.309 102.774 439.058 Q102.774 447.23 98.8854 452.114 Q95.0197 456.975 88.4688 456.975 Q86.7095 456.975 84.904 456.628 Q83.0984 456.281 81.154 455.586 M90.4595 440.933 Q93.6076 440.933 95.4363 438.781 Q97.2882 436.628 97.2882 432.878 Q97.2882 429.151 95.4363 426.998 Q93.6076 424.822 90.4595 424.822 Q87.3114 424.822 85.4595 426.998 Q83.6308 429.151 83.6308 432.878 Q83.6308 436.628 85.4595 438.781 Q87.3114 440.933 90.4595 440.933 Z\" fill=\"#000000\" fill-rule=\"evenodd\" fill-opacity=\"1\" /><path clip-path=\"url(#clip410)\" d=\"M121.177 424.822 Q117.566 424.822 115.737 428.387 Q113.932 431.929 113.932 439.058 Q113.932 446.165 115.737 449.73 Q117.566 453.271 121.177 453.271 Q124.811 453.271 126.617 449.73 Q128.445 446.165 128.445 439.058 Q128.445 431.929 126.617 428.387 Q124.811 424.822 121.177 424.822 M121.177 421.119 Q126.987 421.119 130.043 425.725 Q133.121 430.309 133.121 439.058 Q133.121 447.785 130.043 452.392 Q126.987 456.975 121.177 456.975 Q115.367 456.975 112.288 452.392 Q109.233 447.785 109.233 439.058 Q109.233 430.309 112.288 425.725 Q115.367 421.119 121.177 421.119 Z\" fill=\"#000000\" fill-rule=\"evenodd\" fill-opacity=\"1\" /><path clip-path=\"url(#clip410)\" d=\"M51.6634 178.452 L59.3023 178.452 L59.3023 152.086 L50.9921 153.753 L50.9921 149.494 L59.256 147.827 L63.9319 147.827 L63.9319 178.452 L71.5707 178.452 L71.5707 182.387 L51.6634 182.387 L51.6634 178.452 Z\" fill=\"#000000\" fill-rule=\"evenodd\" fill-opacity=\"1\" /><path clip-path=\"url(#clip410)\" d=\"M85.0429 178.452 L101.362 178.452 L101.362 182.387 L79.4179 182.387 L79.4179 178.452 Q82.0799 175.697 86.6632 171.068 Q91.2697 166.415 92.4502 165.072 Q94.6956 162.549 95.5752 160.813 Q96.478 159.054 96.478 157.364 Q96.478 154.609 94.5336 152.873 Q92.6123 151.137 89.5104 151.137 Q87.3114 151.137 84.8577 151.901 Q82.4271 152.665 79.6494 154.216 L79.6494 149.494 Q82.4734 148.359 84.9271 147.781 Q87.3808 147.202 89.4178 147.202 Q94.7882 147.202 97.9826 149.887 Q101.177 152.572 101.177 157.063 Q101.177 159.193 100.367 161.114 Q99.5798 163.012 97.4734 165.605 Q96.8947 166.276 93.7928 169.493 Q90.691 172.688 85.0429 178.452 Z\" fill=\"#000000\" fill-rule=\"evenodd\" fill-opacity=\"1\" /><path clip-path=\"url(#clip410)\" d=\"M121.177 150.906 Q117.566 150.906 115.737 154.47 Q113.932 158.012 113.932 165.142 Q113.932 172.248 115.737 175.813 Q117.566 179.354 121.177 179.354 Q124.811 179.354 126.617 175.813 Q128.445 172.248 128.445 165.142 Q128.445 158.012 126.617 154.47 Q124.811 150.906 121.177 150.906 M121.177 147.202 Q126.987 147.202 130.043 151.808 Q133.121 156.392 133.121 165.142 Q133.121 173.868 130.043 178.475 Q126.987 183.058 121.177 183.058 Q115.367 183.058 112.288 178.475 Q109.233 173.868 109.233 165.142 Q109.233 156.392 112.288 151.808 Q115.367 147.202 121.177 147.202 Z\" fill=\"#000000\" fill-rule=\"evenodd\" fill-opacity=\"1\" /><circle clip-path=\"url(#clip412)\" cx=\"230.922\" cy=\"684\" r=\"14.4\" fill=\"#009af9\" fill-rule=\"evenodd\" fill-opacity=\"1\" stroke=\"#000000\" stroke-opacity=\"1\" stroke-width=\"3.2\"/>\n",
       "<circle clip-path=\"url(#clip412)\" cx=\"333.924\" cy=\"667.558\" r=\"14.4\" fill=\"#009af9\" fill-rule=\"evenodd\" fill-opacity=\"1\" stroke=\"#000000\" stroke-opacity=\"1\" stroke-width=\"3.2\"/>\n",
       "<circle clip-path=\"url(#clip412)\" cx=\"436.926\" cy=\"923.845\" r=\"14.4\" fill=\"#009af9\" fill-rule=\"evenodd\" fill-opacity=\"1\" stroke=\"#000000\" stroke-opacity=\"1\" stroke-width=\"3.2\"/>\n",
       "<circle clip-path=\"url(#clip412)\" cx=\"539.927\" cy=\"1011.44\" r=\"14.4\" fill=\"#009af9\" fill-rule=\"evenodd\" fill-opacity=\"1\" stroke=\"#000000\" stroke-opacity=\"1\" stroke-width=\"3.2\"/>\n",
       "<circle clip-path=\"url(#clip412)\" cx=\"642.929\" cy=\"1205.35\" r=\"14.4\" fill=\"#009af9\" fill-rule=\"evenodd\" fill-opacity=\"1\" stroke=\"#000000\" stroke-opacity=\"1\" stroke-width=\"3.2\"/>\n",
       "<circle clip-path=\"url(#clip412)\" cx=\"745.93\" cy=\"1080.56\" r=\"14.4\" fill=\"#009af9\" fill-rule=\"evenodd\" fill-opacity=\"1\" stroke=\"#000000\" stroke-opacity=\"1\" stroke-width=\"3.2\"/>\n",
       "<circle clip-path=\"url(#clip412)\" cx=\"848.932\" cy=\"1288.27\" r=\"14.4\" fill=\"#009af9\" fill-rule=\"evenodd\" fill-opacity=\"1\" stroke=\"#000000\" stroke-opacity=\"1\" stroke-width=\"3.2\"/>\n",
       "<circle clip-path=\"url(#clip412)\" cx=\"951.934\" cy=\"1445.72\" r=\"14.4\" fill=\"#009af9\" fill-rule=\"evenodd\" fill-opacity=\"1\" stroke=\"#000000\" stroke-opacity=\"1\" stroke-width=\"3.2\"/>\n",
       "<circle clip-path=\"url(#clip412)\" cx=\"1054.94\" cy=\"1278.56\" r=\"14.4\" fill=\"#009af9\" fill-rule=\"evenodd\" fill-opacity=\"1\" stroke=\"#000000\" stroke-opacity=\"1\" stroke-width=\"3.2\"/>\n",
       "<circle clip-path=\"url(#clip412)\" cx=\"1157.94\" cy=\"1259.15\" r=\"14.4\" fill=\"#009af9\" fill-rule=\"evenodd\" fill-opacity=\"1\" stroke=\"#000000\" stroke-opacity=\"1\" stroke-width=\"3.2\"/>\n",
       "<circle clip-path=\"url(#clip412)\" cx=\"1260.94\" cy=\"1086.51\" r=\"14.4\" fill=\"#009af9\" fill-rule=\"evenodd\" fill-opacity=\"1\" stroke=\"#000000\" stroke-opacity=\"1\" stroke-width=\"3.2\"/>\n",
       "<circle clip-path=\"url(#clip412)\" cx=\"1363.94\" cy=\"1149.68\" r=\"14.4\" fill=\"#009af9\" fill-rule=\"evenodd\" fill-opacity=\"1\" stroke=\"#000000\" stroke-opacity=\"1\" stroke-width=\"3.2\"/>\n",
       "<circle clip-path=\"url(#clip412)\" cx=\"1466.94\" cy=\"1215.12\" r=\"14.4\" fill=\"#009af9\" fill-rule=\"evenodd\" fill-opacity=\"1\" stroke=\"#000000\" stroke-opacity=\"1\" stroke-width=\"3.2\"/>\n",
       "<circle clip-path=\"url(#clip412)\" cx=\"1569.94\" cy=\"1275.76\" r=\"14.4\" fill=\"#009af9\" fill-rule=\"evenodd\" fill-opacity=\"1\" stroke=\"#000000\" stroke-opacity=\"1\" stroke-width=\"3.2\"/>\n",
       "<circle clip-path=\"url(#clip412)\" cx=\"1672.95\" cy=\"1067.38\" r=\"14.4\" fill=\"#009af9\" fill-rule=\"evenodd\" fill-opacity=\"1\" stroke=\"#000000\" stroke-opacity=\"1\" stroke-width=\"3.2\"/>\n",
       "<circle clip-path=\"url(#clip412)\" cx=\"1775.95\" cy=\"953.31\" r=\"14.4\" fill=\"#009af9\" fill-rule=\"evenodd\" fill-opacity=\"1\" stroke=\"#000000\" stroke-opacity=\"1\" stroke-width=\"3.2\"/>\n",
       "<circle clip-path=\"url(#clip412)\" cx=\"1878.95\" cy=\"835.212\" r=\"14.4\" fill=\"#009af9\" fill-rule=\"evenodd\" fill-opacity=\"1\" stroke=\"#000000\" stroke-opacity=\"1\" stroke-width=\"3.2\"/>\n",
       "<circle clip-path=\"url(#clip412)\" cx=\"1981.95\" cy=\"579.323\" r=\"14.4\" fill=\"#009af9\" fill-rule=\"evenodd\" fill-opacity=\"1\" stroke=\"#000000\" stroke-opacity=\"1\" stroke-width=\"3.2\"/>\n",
       "<circle clip-path=\"url(#clip412)\" cx=\"2084.95\" cy=\"347.349\" r=\"14.4\" fill=\"#009af9\" fill-rule=\"evenodd\" fill-opacity=\"1\" stroke=\"#000000\" stroke-opacity=\"1\" stroke-width=\"3.2\"/>\n",
       "<circle clip-path=\"url(#clip412)\" cx=\"2187.95\" cy=\"454.486\" r=\"14.4\" fill=\"#009af9\" fill-rule=\"evenodd\" fill-opacity=\"1\" stroke=\"#000000\" stroke-opacity=\"1\" stroke-width=\"3.2\"/>\n",
       "<circle clip-path=\"url(#clip412)\" cx=\"2290.95\" cy=\"87.9763\" r=\"14.4\" fill=\"#009af9\" fill-rule=\"evenodd\" fill-opacity=\"1\" stroke=\"#000000\" stroke-opacity=\"1\" stroke-width=\"3.2\"/>\n",
       "<polyline clip-path=\"url(#clip412)\" style=\"stroke:#e26f46; stroke-linecap:round; stroke-linejoin:round; stroke-width:4; stroke-opacity:1; fill:none\" points=\"230.922,639.896 333.924,785.985 436.926,913.813 539.927,1023.38 642.929,1114.69 745.93,1187.73 848.932,1242.51 951.934,1279.04 1054.94,1297.3 1157.94,1297.3 1260.94,1279.04 1363.94,1242.51 1466.94,1187.73 1569.94,1114.69 1672.95,1023.38 1775.95,913.813 1878.95,785.985 1981.95,639.896 2084.95,475.546 2187.95,292.935 2290.95,92.0624 \"/>\n",
       "<polyline clip-path=\"url(#clip412)\" style=\"stroke:#3da44d; stroke-linecap:round; stroke-linejoin:round; stroke-width:4; stroke-opacity:1; fill:none\" points=\"230.922,683.77 333.924,667.625 436.926,922.121 539.927,1041.17 642.929,1106.33 745.93,1196.14 848.932,1294.23 951.934,1344.51 1054.94,1318.26 1157.94,1239.43 1260.94,1164.64 1363.94,1140.81 1466.94,1169.66 1569.94,1201.1 1672.95,1161.73 1775.95,1006.2 1878.95,762.596 1981.95,535.141 2084.95,432.495 2187.95,413.99 2290.95,94.6171 \"/>\n",
       "<path clip-path=\"url(#clip410)\" d=\"M241.909 302.578 L659.207 302.578 L659.207 95.2176 L241.909 95.2176  Z\" fill=\"#ffffff\" fill-rule=\"evenodd\" fill-opacity=\"1\"/>\n",
       "<polyline clip-path=\"url(#clip410)\" style=\"stroke:#000000; stroke-linecap:round; stroke-linejoin:round; stroke-width:4; stroke-opacity:1; fill:none\" points=\"241.909,302.578 659.207,302.578 659.207,95.2176 241.909,95.2176 241.909,302.578 \"/>\n",
       "<circle clip-path=\"url(#clip410)\" cx=\"338.96\" cy=\"147.058\" r=\"23.04\" fill=\"#009af9\" fill-rule=\"evenodd\" fill-opacity=\"1\" stroke=\"#000000\" stroke-opacity=\"1\" stroke-width=\"5.12\"/>\n",
       "<path clip-path=\"url(#clip410)\" d=\"M449.853 166.745 Q448.047 171.375 446.334 172.787 Q444.621 174.199 441.751 174.199 L438.348 174.199 L438.348 170.634 L440.848 170.634 Q442.607 170.634 443.579 169.8 Q444.552 168.967 445.732 165.865 L446.496 163.921 L436.01 138.412 L440.524 138.412 L448.626 158.689 L456.727 138.412 L461.241 138.412 L449.853 166.745 Z\" fill=\"#000000\" fill-rule=\"evenodd\" fill-opacity=\"1\" /><path clip-path=\"url(#clip410)\" d=\"M468.533 160.402 L476.172 160.402 L476.172 134.037 L467.862 135.703 L467.862 131.444 L476.126 129.778 L480.801 129.778 L480.801 160.402 L488.44 160.402 L488.44 164.338 L468.533 164.338 L468.533 160.402 Z\" fill=\"#000000\" fill-rule=\"evenodd\" fill-opacity=\"1\" /><polyline clip-path=\"url(#clip410)\" style=\"stroke:#e26f46; stroke-linecap:round; stroke-linejoin:round; stroke-width:4; stroke-opacity:1; fill:none\" points=\"266.172,198.898 411.747,198.898 \"/>\n",
       "<path clip-path=\"url(#clip410)\" d=\"M436.01 181.618 L465.246 181.618 L465.246 185.553 L452.977 185.553 L452.977 216.178 L448.278 216.178 L448.278 185.553 L436.01 185.553 L436.01 181.618 Z\" fill=\"#000000\" fill-rule=\"evenodd\" fill-opacity=\"1\" /><path clip-path=\"url(#clip410)\" d=\"M477.63 194.233 Q476.913 193.817 476.056 193.631 Q475.223 193.423 474.204 193.423 Q470.593 193.423 468.649 195.784 Q466.727 198.122 466.727 202.52 L466.727 216.178 L462.445 216.178 L462.445 190.252 L466.727 190.252 L466.727 194.28 Q468.07 191.918 470.223 190.784 Q472.376 189.627 475.454 189.627 Q475.894 189.627 476.426 189.696 Q476.959 189.743 477.607 189.858 L477.63 194.233 Z\" fill=\"#000000\" fill-rule=\"evenodd\" fill-opacity=\"1\" /><path clip-path=\"url(#clip410)\" d=\"M481.658 205.946 L481.658 190.252 L485.917 190.252 L485.917 205.784 Q485.917 209.465 487.352 211.316 Q488.787 213.145 491.658 213.145 Q495.107 213.145 497.098 210.946 Q499.112 208.747 499.112 204.951 L499.112 190.252 L503.371 190.252 L503.371 216.178 L499.112 216.178 L499.112 212.196 Q497.561 214.557 495.5 215.715 Q493.463 216.849 490.755 216.849 Q486.287 216.849 483.973 214.071 Q481.658 211.293 481.658 205.946 M492.375 189.627 L492.375 189.627 Z\" fill=\"#000000\" fill-rule=\"evenodd\" fill-opacity=\"1\" /><path clip-path=\"url(#clip410)\" d=\"M534.32 202.15 L534.32 204.233 L514.736 204.233 Q515.014 208.631 517.375 210.946 Q519.76 213.238 523.996 213.238 Q526.449 213.238 528.741 212.636 Q531.056 212.034 533.324 210.83 L533.324 214.858 Q531.033 215.83 528.625 216.34 Q526.218 216.849 523.741 216.849 Q517.537 216.849 513.903 213.238 Q510.292 209.627 510.292 203.469 Q510.292 197.104 513.718 193.377 Q517.167 189.627 523 189.627 Q528.232 189.627 531.264 193.006 Q534.32 196.363 534.32 202.15 M530.06 200.9 Q530.014 197.405 528.093 195.321 Q526.195 193.238 523.047 193.238 Q519.482 193.238 517.329 195.252 Q515.199 197.266 514.875 200.923 L530.06 200.9 Z\" fill=\"#000000\" fill-rule=\"evenodd\" fill-opacity=\"1\" /><path clip-path=\"url(#clip410)\" d=\"M556.38 180.159 L560.639 180.159 L560.639 216.178 L556.38 216.178 L556.38 180.159 Z\" fill=\"#000000\" fill-rule=\"evenodd\" fill-opacity=\"1\" /><path clip-path=\"url(#clip410)\" d=\"M569.551 190.252 L573.81 190.252 L573.81 216.178 L569.551 216.178 L569.551 190.252 M569.551 180.159 L573.81 180.159 L573.81 185.553 L569.551 185.553 L569.551 180.159 Z\" fill=\"#000000\" fill-rule=\"evenodd\" fill-opacity=\"1\" /><path clip-path=\"url(#clip410)\" d=\"M604.273 200.529 L604.273 216.178 L600.014 216.178 L600.014 200.668 Q600.014 196.988 598.579 195.159 Q597.143 193.33 594.273 193.33 Q590.824 193.33 588.833 195.53 Q586.843 197.729 586.843 201.525 L586.843 216.178 L582.56 216.178 L582.56 190.252 L586.843 190.252 L586.843 194.28 Q588.37 191.942 590.43 190.784 Q592.514 189.627 595.222 189.627 Q599.69 189.627 601.981 192.405 Q604.273 195.159 604.273 200.529 Z\" fill=\"#000000\" fill-rule=\"evenodd\" fill-opacity=\"1\" /><path clip-path=\"url(#clip410)\" d=\"M634.944 202.15 L634.944 204.233 L615.361 204.233 Q615.639 208.631 618 210.946 Q620.384 213.238 624.62 213.238 Q627.074 213.238 629.365 212.636 Q631.68 212.034 633.949 210.83 L633.949 214.858 Q631.657 215.83 629.25 216.34 Q626.842 216.849 624.365 216.849 Q618.162 216.849 614.528 213.238 Q610.916 209.627 610.916 203.469 Q610.916 197.104 614.342 193.377 Q617.791 189.627 623.625 189.627 Q628.856 189.627 631.889 193.006 Q634.944 196.363 634.944 202.15 M630.685 200.9 Q630.639 197.405 628.717 195.321 Q626.819 193.238 623.671 193.238 Q620.106 193.238 617.953 195.252 Q615.824 197.266 615.5 200.923 L630.685 200.9 Z\" fill=\"#000000\" fill-rule=\"evenodd\" fill-opacity=\"1\" /><polyline clip-path=\"url(#clip410)\" style=\"stroke:#3da44d; stroke-linecap:round; stroke-linejoin:round; stroke-width:4; stroke-opacity:1; fill:none\" points=\"266.172,250.738 411.747,250.738 \"/>\n",
       "<path clip-path=\"url(#clip410)\" d=\"M436.01 233.458 L455.871 233.458 L455.871 237.393 L440.686 237.393 L440.686 247.578 L454.39 247.578 L454.39 251.513 L440.686 251.513 L440.686 268.018 L436.01 268.018 L436.01 233.458 Z\" fill=\"#000000\" fill-rule=\"evenodd\" fill-opacity=\"1\" /><path clip-path=\"url(#clip410)\" d=\"M459.644 242.092 L463.903 242.092 L463.903 268.018 L459.644 268.018 L459.644 242.092 M459.644 231.999 L463.903 231.999 L463.903 237.393 L459.644 237.393 L459.644 231.999 Z\" fill=\"#000000\" fill-rule=\"evenodd\" fill-opacity=\"1\" /><path clip-path=\"url(#clip410)\" d=\"M477.028 234.731 L477.028 242.092 L485.801 242.092 L485.801 245.402 L477.028 245.402 L477.028 259.476 Q477.028 262.647 477.885 263.55 Q478.764 264.453 481.426 264.453 L485.801 264.453 L485.801 268.018 L481.426 268.018 Q476.496 268.018 474.621 266.189 Q472.746 264.337 472.746 259.476 L472.746 245.402 L469.621 245.402 L469.621 242.092 L472.746 242.092 L472.746 234.731 L477.028 234.731 Z\" fill=\"#000000\" fill-rule=\"evenodd\" fill-opacity=\"1\" /><path clip-path=\"url(#clip410)\" d=\"M506.473 231.999 L510.732 231.999 L510.732 268.018 L506.473 268.018 L506.473 231.999 Z\" fill=\"#000000\" fill-rule=\"evenodd\" fill-opacity=\"1\" /><path clip-path=\"url(#clip410)\" d=\"M519.644 242.092 L523.903 242.092 L523.903 268.018 L519.644 268.018 L519.644 242.092 M519.644 231.999 L523.903 231.999 L523.903 237.393 L519.644 237.393 L519.644 231.999 Z\" fill=\"#000000\" fill-rule=\"evenodd\" fill-opacity=\"1\" /><path clip-path=\"url(#clip410)\" d=\"M554.366 252.369 L554.366 268.018 L550.107 268.018 L550.107 252.508 Q550.107 248.828 548.671 246.999 Q547.236 245.17 544.366 245.17 Q540.917 245.17 538.926 247.37 Q536.935 249.569 536.935 253.365 L536.935 268.018 L532.653 268.018 L532.653 242.092 L536.935 242.092 L536.935 246.12 Q538.463 243.782 540.523 242.624 Q542.607 241.467 545.315 241.467 Q549.783 241.467 552.074 244.245 Q554.366 246.999 554.366 252.369 Z\" fill=\"#000000\" fill-rule=\"evenodd\" fill-opacity=\"1\" /><path clip-path=\"url(#clip410)\" d=\"M585.037 253.99 L585.037 256.073 L565.454 256.073 Q565.732 260.471 568.093 262.786 Q570.477 265.078 574.713 265.078 Q577.167 265.078 579.458 264.476 Q581.773 263.874 584.042 262.67 L584.042 266.698 Q581.75 267.67 579.343 268.18 Q576.935 268.689 574.458 268.689 Q568.255 268.689 564.62 265.078 Q561.009 261.467 561.009 255.309 Q561.009 248.944 564.435 245.217 Q567.884 241.467 573.718 241.467 Q578.949 241.467 581.981 244.846 Q585.037 248.203 585.037 253.99 M580.778 252.74 Q580.731 249.245 578.81 247.161 Q576.912 245.078 573.764 245.078 Q570.199 245.078 568.046 247.092 Q565.917 249.106 565.593 252.763 L580.778 252.74 Z\" fill=\"#000000\" fill-rule=\"evenodd\" fill-opacity=\"1\" /></svg>\n"
      ]
     },
     "execution_count": 7,
     "metadata": {},
     "output_type": "execute_result"
    }
   ],
   "source": [
    "scatter(x,y_observed)\n",
    "plot!(x,y_true,label = \"True line\")\n",
    "plot!(x,fit(x,y_observed,10).(x),label = \"Fit line\")"
   ]
  },
  {
   "cell_type": "markdown",
   "id": "36028ee0",
   "metadata": {},
   "source": [
    "### 2.6\n",
    "\n",
    "1. Create a new independent parameter x_fit ranging from -11 to 11 with an increment of 0.1\n",
    "2. Plot the same three plots as in 2.3 again but apply the tenth order polynomial to x_fit instead of x\n"
   ]
  },
  {
   "cell_type": "code",
   "execution_count": 8,
   "id": "6c67a977",
   "metadata": {},
   "outputs": [
    {
     "data": {
      "image/svg+xml": [
       "<?xml version=\"1.0\" encoding=\"utf-8\"?>\n",
       "<svg xmlns=\"http://www.w3.org/2000/svg\" xmlns:xlink=\"http://www.w3.org/1999/xlink\" width=\"600\" height=\"400\" viewBox=\"0 0 2400 1600\">\n",
       "<defs>\n",
       "  <clipPath id=\"clip450\">\n",
       "    <rect x=\"0\" y=\"0\" width=\"2400\" height=\"1600\"/>\n",
       "  </clipPath>\n",
       "</defs>\n",
       "<path clip-path=\"url(#clip450)\" d=\"M0 1600 L2400 1600 L2400 0 L0 0  Z\" fill=\"#ffffff\" fill-rule=\"evenodd\" fill-opacity=\"1\"/>\n",
       "<defs>\n",
       "  <clipPath id=\"clip451\">\n",
       "    <rect x=\"480\" y=\"0\" width=\"1681\" height=\"1600\"/>\n",
       "  </clipPath>\n",
       "</defs>\n",
       "<path clip-path=\"url(#clip450)\" d=\"M209.029 1486.45 L2352.76 1486.45 L2352.76 47.2441 L209.029 47.2441  Z\" fill=\"#ffffff\" fill-rule=\"evenodd\" fill-opacity=\"1\"/>\n",
       "<defs>\n",
       "  <clipPath id=\"clip452\">\n",
       "    <rect x=\"209\" y=\"47\" width=\"2145\" height=\"1440\"/>\n",
       "  </clipPath>\n",
       "</defs>\n",
       "<polyline clip-path=\"url(#clip452)\" style=\"stroke:#000000; stroke-linecap:round; stroke-linejoin:round; stroke-width:2; stroke-opacity:0.1; fill:none\" points=\"361.627,1486.45 361.627,47.2441 \"/>\n",
       "<polyline clip-path=\"url(#clip452)\" style=\"stroke:#000000; stroke-linecap:round; stroke-linejoin:round; stroke-width:2; stroke-opacity:0.1; fill:none\" points=\"821.259,1486.45 821.259,47.2441 \"/>\n",
       "<polyline clip-path=\"url(#clip452)\" style=\"stroke:#000000; stroke-linecap:round; stroke-linejoin:round; stroke-width:2; stroke-opacity:0.1; fill:none\" points=\"1280.89,1486.45 1280.89,47.2441 \"/>\n",
       "<polyline clip-path=\"url(#clip452)\" style=\"stroke:#000000; stroke-linecap:round; stroke-linejoin:round; stroke-width:2; stroke-opacity:0.1; fill:none\" points=\"1740.53,1486.45 1740.53,47.2441 \"/>\n",
       "<polyline clip-path=\"url(#clip452)\" style=\"stroke:#000000; stroke-linecap:round; stroke-linejoin:round; stroke-width:2; stroke-opacity:0.1; fill:none\" points=\"2200.16,1486.45 2200.16,47.2441 \"/>\n",
       "<polyline clip-path=\"url(#clip450)\" style=\"stroke:#000000; stroke-linecap:round; stroke-linejoin:round; stroke-width:4; stroke-opacity:1; fill:none\" points=\"209.029,1486.45 2352.76,1486.45 \"/>\n",
       "<polyline clip-path=\"url(#clip450)\" style=\"stroke:#000000; stroke-linecap:round; stroke-linejoin:round; stroke-width:4; stroke-opacity:1; fill:none\" points=\"361.627,1486.45 361.627,1467.55 \"/>\n",
       "<polyline clip-path=\"url(#clip450)\" style=\"stroke:#000000; stroke-linecap:round; stroke-linejoin:round; stroke-width:4; stroke-opacity:1; fill:none\" points=\"821.259,1486.45 821.259,1467.55 \"/>\n",
       "<polyline clip-path=\"url(#clip450)\" style=\"stroke:#000000; stroke-linecap:round; stroke-linejoin:round; stroke-width:4; stroke-opacity:1; fill:none\" points=\"1280.89,1486.45 1280.89,1467.55 \"/>\n",
       "<polyline clip-path=\"url(#clip450)\" style=\"stroke:#000000; stroke-linecap:round; stroke-linejoin:round; stroke-width:4; stroke-opacity:1; fill:none\" points=\"1740.53,1486.45 1740.53,1467.55 \"/>\n",
       "<polyline clip-path=\"url(#clip450)\" style=\"stroke:#000000; stroke-linecap:round; stroke-linejoin:round; stroke-width:4; stroke-opacity:1; fill:none\" points=\"2200.16,1486.45 2200.16,1467.55 \"/>\n",
       "<path clip-path=\"url(#clip450)\" d=\"M315.689 1532.02 L345.365 1532.02 L345.365 1535.95 L315.689 1535.95 L315.689 1532.02 Z\" fill=\"#000000\" fill-rule=\"evenodd\" fill-opacity=\"1\" /><path clip-path=\"url(#clip450)\" d=\"M356.268 1544.91 L363.907 1544.91 L363.907 1518.55 L355.597 1520.21 L355.597 1515.95 L363.86 1514.29 L368.536 1514.29 L368.536 1544.91 L376.175 1544.91 L376.175 1548.85 L356.268 1548.85 L356.268 1544.91 Z\" fill=\"#000000\" fill-rule=\"evenodd\" fill-opacity=\"1\" /><path clip-path=\"url(#clip450)\" d=\"M395.619 1517.37 Q392.008 1517.37 390.18 1520.93 Q388.374 1524.47 388.374 1531.6 Q388.374 1538.71 390.18 1542.27 Q392.008 1545.82 395.619 1545.82 Q399.254 1545.82 401.059 1542.27 Q402.888 1538.71 402.888 1531.6 Q402.888 1524.47 401.059 1520.93 Q399.254 1517.37 395.619 1517.37 M395.619 1513.66 Q401.43 1513.66 404.485 1518.27 Q407.564 1522.85 407.564 1531.6 Q407.564 1540.33 404.485 1544.94 Q401.43 1549.52 395.619 1549.52 Q389.809 1549.52 386.731 1544.94 Q383.675 1540.33 383.675 1531.6 Q383.675 1522.85 386.731 1518.27 Q389.809 1513.66 395.619 1513.66 Z\" fill=\"#000000\" fill-rule=\"evenodd\" fill-opacity=\"1\" /><path clip-path=\"url(#clip450)\" d=\"M790.901 1532.02 L820.577 1532.02 L820.577 1535.95 L790.901 1535.95 L790.901 1532.02 Z\" fill=\"#000000\" fill-rule=\"evenodd\" fill-opacity=\"1\" /><path clip-path=\"url(#clip450)\" d=\"M830.715 1514.29 L849.072 1514.29 L849.072 1518.22 L834.998 1518.22 L834.998 1526.7 Q836.016 1526.35 837.035 1526.19 Q838.053 1526 839.072 1526 Q844.859 1526 848.238 1529.17 Q851.618 1532.34 851.618 1537.76 Q851.618 1543.34 848.146 1546.44 Q844.674 1549.52 838.354 1549.52 Q836.178 1549.52 833.91 1549.15 Q831.664 1548.78 829.257 1548.04 L829.257 1543.34 Q831.34 1544.47 833.563 1545.03 Q835.785 1545.58 838.262 1545.58 Q842.266 1545.58 844.604 1543.48 Q846.942 1541.37 846.942 1537.76 Q846.942 1534.15 844.604 1532.04 Q842.266 1529.94 838.262 1529.94 Q836.387 1529.94 834.512 1530.35 Q832.66 1530.77 830.715 1531.65 L830.715 1514.29 Z\" fill=\"#000000\" fill-rule=\"evenodd\" fill-opacity=\"1\" /><path clip-path=\"url(#clip450)\" d=\"M1280.89 1517.37 Q1277.28 1517.37 1275.45 1520.93 Q1273.65 1524.47 1273.65 1531.6 Q1273.65 1538.71 1275.45 1542.27 Q1277.28 1545.82 1280.89 1545.82 Q1284.53 1545.82 1286.33 1542.27 Q1288.16 1538.71 1288.16 1531.6 Q1288.16 1524.47 1286.33 1520.93 Q1284.53 1517.37 1280.89 1517.37 M1280.89 1513.66 Q1286.7 1513.66 1289.76 1518.27 Q1292.84 1522.85 1292.84 1531.6 Q1292.84 1540.33 1289.76 1544.94 Q1286.7 1549.52 1280.89 1549.52 Q1275.08 1549.52 1272 1544.94 Q1268.95 1540.33 1268.95 1531.6 Q1268.95 1522.85 1272 1518.27 Q1275.08 1513.66 1280.89 1513.66 Z\" fill=\"#000000\" fill-rule=\"evenodd\" fill-opacity=\"1\" /><path clip-path=\"url(#clip450)\" d=\"M1730.8 1514.29 L1749.16 1514.29 L1749.16 1518.22 L1735.09 1518.22 L1735.09 1526.7 Q1736.1 1526.35 1737.12 1526.19 Q1738.14 1526 1739.16 1526 Q1744.95 1526 1748.33 1529.17 Q1751.71 1532.34 1751.71 1537.76 Q1751.71 1543.34 1748.23 1546.44 Q1744.76 1549.52 1738.44 1549.52 Q1736.27 1549.52 1734 1549.15 Q1731.75 1548.78 1729.34 1548.04 L1729.34 1543.34 Q1731.43 1544.47 1733.65 1545.03 Q1735.87 1545.58 1738.35 1545.58 Q1742.35 1545.58 1744.69 1543.48 Q1747.03 1541.37 1747.03 1537.76 Q1747.03 1534.15 1744.69 1532.04 Q1742.35 1529.94 1738.35 1529.94 Q1736.47 1529.94 1734.6 1530.35 Q1732.75 1530.77 1730.8 1531.65 L1730.8 1514.29 Z\" fill=\"#000000\" fill-rule=\"evenodd\" fill-opacity=\"1\" /><path clip-path=\"url(#clip450)\" d=\"M2174.85 1544.91 L2182.48 1544.91 L2182.48 1518.55 L2174.17 1520.21 L2174.17 1515.95 L2182.44 1514.29 L2187.11 1514.29 L2187.11 1544.91 L2194.75 1544.91 L2194.75 1548.85 L2174.85 1548.85 L2174.85 1544.91 Z\" fill=\"#000000\" fill-rule=\"evenodd\" fill-opacity=\"1\" /><path clip-path=\"url(#clip450)\" d=\"M2214.2 1517.37 Q2210.59 1517.37 2208.76 1520.93 Q2206.95 1524.47 2206.95 1531.6 Q2206.95 1538.71 2208.76 1542.27 Q2210.59 1545.82 2214.2 1545.82 Q2217.83 1545.82 2219.64 1542.27 Q2221.47 1538.71 2221.47 1531.6 Q2221.47 1524.47 2219.64 1520.93 Q2217.83 1517.37 2214.2 1517.37 M2214.2 1513.66 Q2220.01 1513.66 2223.06 1518.27 Q2226.14 1522.85 2226.14 1531.6 Q2226.14 1540.33 2223.06 1544.94 Q2220.01 1549.52 2214.2 1549.52 Q2208.39 1549.52 2205.31 1544.94 Q2202.25 1540.33 2202.25 1531.6 Q2202.25 1522.85 2205.31 1518.27 Q2208.39 1513.66 2214.2 1513.66 Z\" fill=\"#000000\" fill-rule=\"evenodd\" fill-opacity=\"1\" /><polyline clip-path=\"url(#clip452)\" style=\"stroke:#000000; stroke-linecap:round; stroke-linejoin:round; stroke-width:2; stroke-opacity:0.1; fill:none\" points=\"209.029,1422.78 2352.76,1422.78 \"/>\n",
       "<polyline clip-path=\"url(#clip452)\" style=\"stroke:#000000; stroke-linecap:round; stroke-linejoin:round; stroke-width:2; stroke-opacity:0.1; fill:none\" points=\"209.029,1149.47 2352.76,1149.47 \"/>\n",
       "<polyline clip-path=\"url(#clip452)\" style=\"stroke:#000000; stroke-linecap:round; stroke-linejoin:round; stroke-width:2; stroke-opacity:0.1; fill:none\" points=\"209.029,876.151 2352.76,876.151 \"/>\n",
       "<polyline clip-path=\"url(#clip452)\" style=\"stroke:#000000; stroke-linecap:round; stroke-linejoin:round; stroke-width:2; stroke-opacity:0.1; fill:none\" points=\"209.029,602.836 2352.76,602.836 \"/>\n",
       "<polyline clip-path=\"url(#clip452)\" style=\"stroke:#000000; stroke-linecap:round; stroke-linejoin:round; stroke-width:2; stroke-opacity:0.1; fill:none\" points=\"209.029,329.522 2352.76,329.522 \"/>\n",
       "<polyline clip-path=\"url(#clip452)\" style=\"stroke:#000000; stroke-linecap:round; stroke-linejoin:round; stroke-width:2; stroke-opacity:0.1; fill:none\" points=\"209.029,56.2066 2352.76,56.2066 \"/>\n",
       "<polyline clip-path=\"url(#clip450)\" style=\"stroke:#000000; stroke-linecap:round; stroke-linejoin:round; stroke-width:4; stroke-opacity:1; fill:none\" points=\"209.029,1486.45 209.029,47.2441 \"/>\n",
       "<polyline clip-path=\"url(#clip450)\" style=\"stroke:#000000; stroke-linecap:round; stroke-linejoin:round; stroke-width:4; stroke-opacity:1; fill:none\" points=\"209.029,1422.78 227.926,1422.78 \"/>\n",
       "<polyline clip-path=\"url(#clip450)\" style=\"stroke:#000000; stroke-linecap:round; stroke-linejoin:round; stroke-width:4; stroke-opacity:1; fill:none\" points=\"209.029,1149.47 227.926,1149.47 \"/>\n",
       "<polyline clip-path=\"url(#clip450)\" style=\"stroke:#000000; stroke-linecap:round; stroke-linejoin:round; stroke-width:4; stroke-opacity:1; fill:none\" points=\"209.029,876.151 227.926,876.151 \"/>\n",
       "<polyline clip-path=\"url(#clip450)\" style=\"stroke:#000000; stroke-linecap:round; stroke-linejoin:round; stroke-width:4; stroke-opacity:1; fill:none\" points=\"209.029,602.836 227.926,602.836 \"/>\n",
       "<polyline clip-path=\"url(#clip450)\" style=\"stroke:#000000; stroke-linecap:round; stroke-linejoin:round; stroke-width:4; stroke-opacity:1; fill:none\" points=\"209.029,329.522 227.926,329.522 \"/>\n",
       "<polyline clip-path=\"url(#clip450)\" style=\"stroke:#000000; stroke-linecap:round; stroke-linejoin:round; stroke-width:4; stroke-opacity:1; fill:none\" points=\"209.029,56.2066 227.926,56.2066 \"/>\n",
       "<path clip-path=\"url(#clip450)\" d=\"M50.9921 1423.23 L80.6679 1423.23 L80.6679 1427.17 L50.9921 1427.17 L50.9921 1423.23 Z\" fill=\"#000000\" fill-rule=\"evenodd\" fill-opacity=\"1\" /><path clip-path=\"url(#clip450)\" d=\"M94.7882 1436.13 L111.108 1436.13 L111.108 1440.06 L89.1632 1440.06 L89.1632 1436.13 Q91.8252 1433.37 96.4085 1428.74 Q101.015 1424.09 102.196 1422.75 Q104.441 1420.22 105.321 1418.49 Q106.223 1416.73 106.223 1415.04 Q106.223 1412.28 104.279 1410.55 Q102.358 1408.81 99.2558 1408.81 Q97.0567 1408.81 94.603 1409.58 Q92.1725 1410.34 89.3947 1411.89 L89.3947 1407.17 Q92.2188 1406.03 94.6724 1405.45 Q97.1261 1404.88 99.1632 1404.88 Q104.534 1404.88 107.728 1407.56 Q110.922 1410.25 110.922 1414.74 Q110.922 1416.87 110.112 1418.79 Q109.325 1420.69 107.219 1423.28 Q106.64 1423.95 103.538 1427.17 Q100.436 1430.36 94.7882 1436.13 Z\" fill=\"#000000\" fill-rule=\"evenodd\" fill-opacity=\"1\" /><path clip-path=\"url(#clip450)\" d=\"M130.922 1408.58 Q127.311 1408.58 125.482 1412.14 Q123.677 1415.69 123.677 1422.82 Q123.677 1429.92 125.482 1433.49 Q127.311 1437.03 130.922 1437.03 Q134.556 1437.03 136.362 1433.49 Q138.191 1429.92 138.191 1422.82 Q138.191 1415.69 136.362 1412.14 Q134.556 1408.58 130.922 1408.58 M130.922 1404.88 Q136.732 1404.88 139.788 1409.48 Q142.867 1414.07 142.867 1422.82 Q142.867 1431.54 139.788 1436.15 Q136.732 1440.73 130.922 1440.73 Q125.112 1440.73 122.033 1436.15 Q118.978 1431.54 118.978 1422.82 Q118.978 1414.07 122.033 1409.48 Q125.112 1404.88 130.922 1404.88 Z\" fill=\"#000000\" fill-rule=\"evenodd\" fill-opacity=\"1\" /><path clip-path=\"url(#clip450)\" d=\"M161.084 1408.58 Q157.473 1408.58 155.644 1412.14 Q153.839 1415.69 153.839 1422.82 Q153.839 1429.92 155.644 1433.49 Q157.473 1437.03 161.084 1437.03 Q164.718 1437.03 166.524 1433.49 Q168.353 1429.92 168.353 1422.82 Q168.353 1415.69 166.524 1412.14 Q164.718 1408.58 161.084 1408.58 M161.084 1404.88 Q166.894 1404.88 169.95 1409.48 Q173.029 1414.07 173.029 1422.82 Q173.029 1431.54 169.95 1436.15 Q166.894 1440.73 161.084 1440.73 Q155.274 1440.73 152.195 1436.15 Q149.14 1431.54 149.14 1422.82 Q149.14 1414.07 152.195 1409.48 Q155.274 1404.88 161.084 1404.88 Z\" fill=\"#000000\" fill-rule=\"evenodd\" fill-opacity=\"1\" /><path clip-path=\"url(#clip450)\" d=\"M50.9921 1149.92 L80.6679 1149.92 L80.6679 1153.85 L50.9921 1153.85 L50.9921 1149.92 Z\" fill=\"#000000\" fill-rule=\"evenodd\" fill-opacity=\"1\" /><path clip-path=\"url(#clip450)\" d=\"M91.5706 1162.81 L99.2095 1162.81 L99.2095 1136.45 L90.8993 1138.11 L90.8993 1133.85 L99.1632 1132.19 L103.839 1132.19 L103.839 1162.81 L111.478 1162.81 L111.478 1166.75 L91.5706 1166.75 L91.5706 1162.81 Z\" fill=\"#000000\" fill-rule=\"evenodd\" fill-opacity=\"1\" /><path clip-path=\"url(#clip450)\" d=\"M130.922 1135.26 Q127.311 1135.26 125.482 1138.83 Q123.677 1142.37 123.677 1149.5 Q123.677 1156.61 125.482 1160.17 Q127.311 1163.71 130.922 1163.71 Q134.556 1163.71 136.362 1160.17 Q138.191 1156.61 138.191 1149.5 Q138.191 1142.37 136.362 1138.83 Q134.556 1135.26 130.922 1135.26 M130.922 1131.56 Q136.732 1131.56 139.788 1136.17 Q142.867 1140.75 142.867 1149.5 Q142.867 1158.23 139.788 1162.83 Q136.732 1167.42 130.922 1167.42 Q125.112 1167.42 122.033 1162.83 Q118.978 1158.23 118.978 1149.5 Q118.978 1140.75 122.033 1136.17 Q125.112 1131.56 130.922 1131.56 Z\" fill=\"#000000\" fill-rule=\"evenodd\" fill-opacity=\"1\" /><path clip-path=\"url(#clip450)\" d=\"M161.084 1135.26 Q157.473 1135.26 155.644 1138.83 Q153.839 1142.37 153.839 1149.5 Q153.839 1156.61 155.644 1160.17 Q157.473 1163.71 161.084 1163.71 Q164.718 1163.71 166.524 1160.17 Q168.353 1156.61 168.353 1149.5 Q168.353 1142.37 166.524 1138.83 Q164.718 1135.26 161.084 1135.26 M161.084 1131.56 Q166.894 1131.56 169.95 1136.17 Q173.029 1140.75 173.029 1149.5 Q173.029 1158.23 169.95 1162.83 Q166.894 1167.42 161.084 1167.42 Q155.274 1167.42 152.195 1162.83 Q149.14 1158.23 149.14 1149.5 Q149.14 1140.75 152.195 1136.17 Q155.274 1131.56 161.084 1131.56 Z\" fill=\"#000000\" fill-rule=\"evenodd\" fill-opacity=\"1\" /><path clip-path=\"url(#clip450)\" d=\"M161.084 861.95 Q157.473 861.95 155.644 865.515 Q153.839 869.056 153.839 876.186 Q153.839 883.293 155.644 886.857 Q157.473 890.399 161.084 890.399 Q164.718 890.399 166.524 886.857 Q168.353 883.293 168.353 876.186 Q168.353 869.056 166.524 865.515 Q164.718 861.95 161.084 861.95 M161.084 858.246 Q166.894 858.246 169.95 862.853 Q173.029 867.436 173.029 876.186 Q173.029 884.913 169.95 889.519 Q166.894 894.103 161.084 894.103 Q155.274 894.103 152.195 889.519 Q149.14 884.913 149.14 876.186 Q149.14 867.436 152.195 862.853 Q155.274 858.246 161.084 858.246 Z\" fill=\"#000000\" fill-rule=\"evenodd\" fill-opacity=\"1\" /><path clip-path=\"url(#clip450)\" d=\"M91.5706 616.181 L99.2095 616.181 L99.2095 589.816 L90.8993 591.482 L90.8993 587.223 L99.1632 585.556 L103.839 585.556 L103.839 616.181 L111.478 616.181 L111.478 620.116 L91.5706 620.116 L91.5706 616.181 Z\" fill=\"#000000\" fill-rule=\"evenodd\" fill-opacity=\"1\" /><path clip-path=\"url(#clip450)\" d=\"M130.922 588.635 Q127.311 588.635 125.482 592.2 Q123.677 595.742 123.677 602.871 Q123.677 609.978 125.482 613.542 Q127.311 617.084 130.922 617.084 Q134.556 617.084 136.362 613.542 Q138.191 609.978 138.191 602.871 Q138.191 595.742 136.362 592.2 Q134.556 588.635 130.922 588.635 M130.922 584.931 Q136.732 584.931 139.788 589.538 Q142.867 594.121 142.867 602.871 Q142.867 611.598 139.788 616.204 Q136.732 620.788 130.922 620.788 Q125.112 620.788 122.033 616.204 Q118.978 611.598 118.978 602.871 Q118.978 594.121 122.033 589.538 Q125.112 584.931 130.922 584.931 Z\" fill=\"#000000\" fill-rule=\"evenodd\" fill-opacity=\"1\" /><path clip-path=\"url(#clip450)\" d=\"M161.084 588.635 Q157.473 588.635 155.644 592.2 Q153.839 595.742 153.839 602.871 Q153.839 609.978 155.644 613.542 Q157.473 617.084 161.084 617.084 Q164.718 617.084 166.524 613.542 Q168.353 609.978 168.353 602.871 Q168.353 595.742 166.524 592.2 Q164.718 588.635 161.084 588.635 M161.084 584.931 Q166.894 584.931 169.95 589.538 Q173.029 594.121 173.029 602.871 Q173.029 611.598 169.95 616.204 Q166.894 620.788 161.084 620.788 Q155.274 620.788 152.195 616.204 Q149.14 611.598 149.14 602.871 Q149.14 594.121 152.195 589.538 Q155.274 584.931 161.084 584.931 Z\" fill=\"#000000\" fill-rule=\"evenodd\" fill-opacity=\"1\" /><path clip-path=\"url(#clip450)\" d=\"M94.7882 342.866 L111.108 342.866 L111.108 346.802 L89.1632 346.802 L89.1632 342.866 Q91.8252 340.112 96.4085 335.482 Q101.015 330.829 102.196 329.487 Q104.441 326.964 105.321 325.228 Q106.223 323.468 106.223 321.779 Q106.223 319.024 104.279 317.288 Q102.358 315.552 99.2558 315.552 Q97.0567 315.552 94.603 316.316 Q92.1725 317.079 89.3947 318.63 L89.3947 313.908 Q92.2188 312.774 94.6724 312.195 Q97.1261 311.617 99.1632 311.617 Q104.534 311.617 107.728 314.302 Q110.922 316.987 110.922 321.478 Q110.922 323.607 110.112 325.528 Q109.325 327.427 107.219 330.019 Q106.64 330.691 103.538 333.908 Q100.436 337.103 94.7882 342.866 Z\" fill=\"#000000\" fill-rule=\"evenodd\" fill-opacity=\"1\" /><path clip-path=\"url(#clip450)\" d=\"M130.922 315.32 Q127.311 315.32 125.482 318.885 Q123.677 322.427 123.677 329.556 Q123.677 336.663 125.482 340.227 Q127.311 343.769 130.922 343.769 Q134.556 343.769 136.362 340.227 Q138.191 336.663 138.191 329.556 Q138.191 322.427 136.362 318.885 Q134.556 315.32 130.922 315.32 M130.922 311.617 Q136.732 311.617 139.788 316.223 Q142.867 320.806 142.867 329.556 Q142.867 338.283 139.788 342.89 Q136.732 347.473 130.922 347.473 Q125.112 347.473 122.033 342.89 Q118.978 338.283 118.978 329.556 Q118.978 320.806 122.033 316.223 Q125.112 311.617 130.922 311.617 Z\" fill=\"#000000\" fill-rule=\"evenodd\" fill-opacity=\"1\" /><path clip-path=\"url(#clip450)\" d=\"M161.084 315.32 Q157.473 315.32 155.644 318.885 Q153.839 322.427 153.839 329.556 Q153.839 336.663 155.644 340.227 Q157.473 343.769 161.084 343.769 Q164.718 343.769 166.524 340.227 Q168.353 336.663 168.353 329.556 Q168.353 322.427 166.524 318.885 Q164.718 315.32 161.084 315.32 M161.084 311.617 Q166.894 311.617 169.95 316.223 Q173.029 320.806 173.029 329.556 Q173.029 338.283 169.95 342.89 Q166.894 347.473 161.084 347.473 Q155.274 347.473 152.195 342.89 Q149.14 338.283 149.14 329.556 Q149.14 320.806 152.195 316.223 Q155.274 311.617 161.084 311.617 Z\" fill=\"#000000\" fill-rule=\"evenodd\" fill-opacity=\"1\" /><path clip-path=\"url(#clip450)\" d=\"M104.927 54.8525 Q108.283 55.57 110.158 57.8386 Q112.057 60.1071 112.057 63.4404 Q112.057 68.5561 108.538 71.357 Q105.02 74.1579 98.5382 74.1579 Q96.3623 74.1579 94.0475 73.7181 Q91.7558 73.3014 89.3021 72.445 L89.3021 67.9311 Q91.2465 69.0653 93.5613 69.644 Q95.8761 70.2227 98.3993 70.2227 Q102.797 70.2227 105.089 68.4866 Q107.404 66.7505 107.404 63.4404 Q107.404 60.3848 105.251 58.6719 Q103.121 56.9358 99.3021 56.9358 L95.2743 56.9358 L95.2743 53.0932 L99.4872 53.0932 Q102.936 53.0932 104.765 51.7275 Q106.594 50.3386 106.594 47.746 Q106.594 45.084 104.696 43.672 Q102.821 42.2368 99.3021 42.2368 Q97.3808 42.2368 95.1817 42.6535 Q92.9826 43.0701 90.3438 43.9497 L90.3438 39.7831 Q93.0058 39.0424 95.3206 38.672 Q97.6585 38.3016 99.7187 38.3016 Q105.043 38.3016 108.145 40.7322 Q111.246 43.1396 111.246 47.2599 Q111.246 50.1303 109.603 52.121 Q107.959 54.0886 104.927 54.8525 Z\" fill=\"#000000\" fill-rule=\"evenodd\" fill-opacity=\"1\" /><path clip-path=\"url(#clip450)\" d=\"M130.922 42.0053 Q127.311 42.0053 125.482 45.5701 Q123.677 49.1118 123.677 56.2413 Q123.677 63.3478 125.482 66.9126 Q127.311 70.4542 130.922 70.4542 Q134.556 70.4542 136.362 66.9126 Q138.191 63.3478 138.191 56.2413 Q138.191 49.1118 136.362 45.5701 Q134.556 42.0053 130.922 42.0053 M130.922 38.3016 Q136.732 38.3016 139.788 42.9081 Q142.867 47.4914 142.867 56.2413 Q142.867 64.9681 139.788 69.5746 Q136.732 74.1579 130.922 74.1579 Q125.112 74.1579 122.033 69.5746 Q118.978 64.9681 118.978 56.2413 Q118.978 47.4914 122.033 42.9081 Q125.112 38.3016 130.922 38.3016 Z\" fill=\"#000000\" fill-rule=\"evenodd\" fill-opacity=\"1\" /><path clip-path=\"url(#clip450)\" d=\"M161.084 42.0053 Q157.473 42.0053 155.644 45.5701 Q153.839 49.1118 153.839 56.2413 Q153.839 63.3478 155.644 66.9126 Q157.473 70.4542 161.084 70.4542 Q164.718 70.4542 166.524 66.9126 Q168.353 63.3478 168.353 56.2413 Q168.353 49.1118 166.524 45.5701 Q164.718 42.0053 161.084 42.0053 M161.084 38.3016 Q166.894 38.3016 169.95 42.9081 Q173.029 47.4914 173.029 56.2413 Q173.029 64.9681 169.95 69.5746 Q166.894 74.1579 161.084 74.1579 Q155.274 74.1579 152.195 69.5746 Q149.14 64.9681 149.14 56.2413 Q149.14 47.4914 152.195 42.9081 Q155.274 38.3016 161.084 38.3016 Z\" fill=\"#000000\" fill-rule=\"evenodd\" fill-opacity=\"1\" /><circle clip-path=\"url(#clip452)\" cx=\"361.627\" cy=\"703.499\" r=\"14.4\" fill=\"#009af9\" fill-rule=\"evenodd\" fill-opacity=\"1\" stroke=\"#000000\" stroke-opacity=\"1\" stroke-width=\"3.2\"/>\n",
       "<circle clip-path=\"url(#clip452)\" cx=\"453.553\" cy=\"698.577\" r=\"14.4\" fill=\"#009af9\" fill-rule=\"evenodd\" fill-opacity=\"1\" stroke=\"#000000\" stroke-opacity=\"1\" stroke-width=\"3.2\"/>\n",
       "<circle clip-path=\"url(#clip452)\" cx=\"545.48\" cy=\"775.295\" r=\"14.4\" fill=\"#009af9\" fill-rule=\"evenodd\" fill-opacity=\"1\" stroke=\"#000000\" stroke-opacity=\"1\" stroke-width=\"3.2\"/>\n",
       "<circle clip-path=\"url(#clip452)\" cx=\"637.406\" cy=\"801.517\" r=\"14.4\" fill=\"#009af9\" fill-rule=\"evenodd\" fill-opacity=\"1\" stroke=\"#000000\" stroke-opacity=\"1\" stroke-width=\"3.2\"/>\n",
       "<circle clip-path=\"url(#clip452)\" cx=\"729.333\" cy=\"859.561\" r=\"14.4\" fill=\"#009af9\" fill-rule=\"evenodd\" fill-opacity=\"1\" stroke=\"#000000\" stroke-opacity=\"1\" stroke-width=\"3.2\"/>\n",
       "<circle clip-path=\"url(#clip452)\" cx=\"821.259\" cy=\"822.206\" r=\"14.4\" fill=\"#009af9\" fill-rule=\"evenodd\" fill-opacity=\"1\" stroke=\"#000000\" stroke-opacity=\"1\" stroke-width=\"3.2\"/>\n",
       "<circle clip-path=\"url(#clip452)\" cx=\"913.186\" cy=\"884.383\" r=\"14.4\" fill=\"#009af9\" fill-rule=\"evenodd\" fill-opacity=\"1\" stroke=\"#000000\" stroke-opacity=\"1\" stroke-width=\"3.2\"/>\n",
       "<circle clip-path=\"url(#clip452)\" cx=\"1005.11\" cy=\"931.512\" r=\"14.4\" fill=\"#009af9\" fill-rule=\"evenodd\" fill-opacity=\"1\" stroke=\"#000000\" stroke-opacity=\"1\" stroke-width=\"3.2\"/>\n",
       "<circle clip-path=\"url(#clip452)\" cx=\"1097.04\" cy=\"881.475\" r=\"14.4\" fill=\"#009af9\" fill-rule=\"evenodd\" fill-opacity=\"1\" stroke=\"#000000\" stroke-opacity=\"1\" stroke-width=\"3.2\"/>\n",
       "<circle clip-path=\"url(#clip452)\" cx=\"1188.97\" cy=\"875.666\" r=\"14.4\" fill=\"#009af9\" fill-rule=\"evenodd\" fill-opacity=\"1\" stroke=\"#000000\" stroke-opacity=\"1\" stroke-width=\"3.2\"/>\n",
       "<circle clip-path=\"url(#clip452)\" cx=\"1280.89\" cy=\"823.987\" r=\"14.4\" fill=\"#009af9\" fill-rule=\"evenodd\" fill-opacity=\"1\" stroke=\"#000000\" stroke-opacity=\"1\" stroke-width=\"3.2\"/>\n",
       "<circle clip-path=\"url(#clip452)\" cx=\"1372.82\" cy=\"842.896\" r=\"14.4\" fill=\"#009af9\" fill-rule=\"evenodd\" fill-opacity=\"1\" stroke=\"#000000\" stroke-opacity=\"1\" stroke-width=\"3.2\"/>\n",
       "<circle clip-path=\"url(#clip452)\" cx=\"1464.75\" cy=\"862.485\" r=\"14.4\" fill=\"#009af9\" fill-rule=\"evenodd\" fill-opacity=\"1\" stroke=\"#000000\" stroke-opacity=\"1\" stroke-width=\"3.2\"/>\n",
       "<circle clip-path=\"url(#clip452)\" cx=\"1556.67\" cy=\"880.637\" r=\"14.4\" fill=\"#009af9\" fill-rule=\"evenodd\" fill-opacity=\"1\" stroke=\"#000000\" stroke-opacity=\"1\" stroke-width=\"3.2\"/>\n",
       "<circle clip-path=\"url(#clip452)\" cx=\"1648.6\" cy=\"818.261\" r=\"14.4\" fill=\"#009af9\" fill-rule=\"evenodd\" fill-opacity=\"1\" stroke=\"#000000\" stroke-opacity=\"1\" stroke-width=\"3.2\"/>\n",
       "<circle clip-path=\"url(#clip452)\" cx=\"1740.53\" cy=\"784.115\" r=\"14.4\" fill=\"#009af9\" fill-rule=\"evenodd\" fill-opacity=\"1\" stroke=\"#000000\" stroke-opacity=\"1\" stroke-width=\"3.2\"/>\n",
       "<circle clip-path=\"url(#clip452)\" cx=\"1832.45\" cy=\"748.763\" r=\"14.4\" fill=\"#009af9\" fill-rule=\"evenodd\" fill-opacity=\"1\" stroke=\"#000000\" stroke-opacity=\"1\" stroke-width=\"3.2\"/>\n",
       "<circle clip-path=\"url(#clip452)\" cx=\"1924.38\" cy=\"672.165\" r=\"14.4\" fill=\"#009af9\" fill-rule=\"evenodd\" fill-opacity=\"1\" stroke=\"#000000\" stroke-opacity=\"1\" stroke-width=\"3.2\"/>\n",
       "<circle clip-path=\"url(#clip452)\" cx=\"2016.3\" cy=\"602.726\" r=\"14.4\" fill=\"#009af9\" fill-rule=\"evenodd\" fill-opacity=\"1\" stroke=\"#000000\" stroke-opacity=\"1\" stroke-width=\"3.2\"/>\n",
       "<circle clip-path=\"url(#clip452)\" cx=\"2108.23\" cy=\"634.796\" r=\"14.4\" fill=\"#009af9\" fill-rule=\"evenodd\" fill-opacity=\"1\" stroke=\"#000000\" stroke-opacity=\"1\" stroke-width=\"3.2\"/>\n",
       "<circle clip-path=\"url(#clip452)\" cx=\"2200.16\" cy=\"525.085\" r=\"14.4\" fill=\"#009af9\" fill-rule=\"evenodd\" fill-opacity=\"1\" stroke=\"#000000\" stroke-opacity=\"1\" stroke-width=\"3.2\"/>\n",
       "<polyline clip-path=\"url(#clip452)\" style=\"stroke:#e26f46; stroke-linecap:round; stroke-linejoin:round; stroke-width:4; stroke-opacity:1; fill:none\" points=\"361.627,690.297 453.553,734.028 545.48,772.292 637.406,805.089 729.333,832.421 821.259,854.286 913.186,870.685 1005.11,881.618 1097.04,887.084 1188.97,887.084 1280.89,881.618 1372.82,870.685 1464.75,854.286 1556.67,832.421 1648.6,805.089 1740.53,772.292 1832.45,734.028 1924.38,690.297 2016.3,641.101 2108.23,586.438 2200.16,526.308 \"/>\n",
       "<polyline clip-path=\"url(#clip452)\" style=\"stroke:#3da44d; stroke-linecap:round; stroke-linejoin:round; stroke-width:4; stroke-opacity:1; fill:none\" points=\"269.7,1445.72 278.893,1297.16 288.085,1170.98 297.278,1064.6 306.471,975.692 315.663,902.128 324.856,841.986 334.049,793.531 343.241,755.2 352.434,725.586 361.627,703.431 370.819,687.61 380.012,677.124 389.205,671.086 398.397,668.714 407.59,669.32 416.783,672.303 425.975,677.141 435.168,683.385 444.361,690.646 453.553,698.598 462.746,706.963 471.938,715.514 481.131,724.062 490.324,732.457 499.516,740.58 508.709,748.341 517.902,755.676 527.094,762.542 536.287,768.912 545.48,774.778 554.672,780.144 563.865,785.024 573.058,789.442 582.25,793.427 591.443,797.014 600.636,800.243 609.828,803.155 619.021,805.792 628.214,808.198 637.406,810.414 646.599,812.482 655.792,814.441 664.984,816.328 674.177,818.175 683.37,820.015 692.562,821.873 701.755,823.775 710.948,825.739 720.14,827.783 729.333,829.919 738.525,832.156 747.718,834.501 756.911,836.955 766.103,839.519 775.296,842.187 784.489,844.954 793.681,847.812 802.874,850.748 812.067,853.75 821.259,856.802 830.452,859.89 839.645,862.994 848.837,866.097 858.03,869.18 867.223,872.224 876.415,875.208 885.608,878.113 894.801,880.92 903.993,883.611 913.186,886.167 922.379,888.572 931.571,890.809 940.764,892.864 949.957,894.723 959.149,896.374 968.342,897.808 977.535,899.015 986.727,899.989 995.92,900.724 1005.11,901.216 1014.31,901.465 1023.5,901.471 1032.69,901.236 1041.88,900.762 1051.08,900.057 1060.27,899.127 1069.46,897.982 1078.65,896.631 1087.85,895.086 1097.04,893.36 1106.23,891.469 1115.42,889.426 1124.62,887.249 1133.81,884.955 1143,882.562 1152.2,880.087 1161.39,877.551 1170.58,874.972 1179.77,872.37 1188.97,869.763 1198.16,867.171 1207.35,864.613 1216.54,862.106 1225.74,859.669 1234.93,857.317 1244.12,855.068 1253.31,852.936 1262.51,850.935 1271.7,849.077 1280.89,847.375 1290.08,845.837 1299.28,844.472 1308.47,843.287 1317.66,842.287 1326.86,841.476 1336.05,840.854 1345.24,840.423 1354.43,840.18 1363.63,840.121 1372.82,840.241 1382.01,840.533 1391.2,840.988 1400.4,841.595 1409.59,842.341 1418.78,843.214 1427.97,844.197 1437.17,845.273 1446.36,846.426 1455.55,847.634 1464.75,848.878 1473.94,850.136 1483.13,851.387 1492.32,852.606 1501.52,853.772 1510.71,854.859 1519.9,855.844 1529.09,856.703 1538.29,857.412 1547.48,857.948 1556.67,858.287 1565.86,858.407 1575.06,858.287 1584.25,857.905 1593.44,857.244 1602.64,856.284 1611.83,855.009 1621.02,853.406 1630.21,851.46 1639.41,849.162 1648.6,846.503 1657.79,843.477 1666.98,840.08 1676.18,836.31 1685.37,832.169 1694.56,827.661 1703.75,822.793 1712.95,817.573 1722.14,812.016 1731.33,806.134 1740.53,799.947 1749.72,793.475 1758.91,786.742 1768.1,779.772 1777.3,772.595 1786.49,765.241 1795.68,757.742 1804.87,750.134 1814.07,742.454 1823.26,734.738 1832.45,727.026 1841.64,719.359 1850.84,711.777 1860.03,704.32 1869.22,697.03 1878.41,689.947 1887.61,683.11 1896.8,676.557 1905.99,670.322 1915.19,664.44 1924.38,658.94 1933.57,653.848 1942.76,649.188 1951.96,644.976 1961.15,641.224 1970.34,637.939 1979.53,635.12 1988.73,632.758 1997.92,630.838 2007.11,629.334 2016.3,628.214 2025.5,627.432 2034.69,626.934 2043.88,626.656 2053.08,626.518 2062.27,626.43 2071.46,626.291 2080.65,625.984 2089.85,625.377 2099.04,624.327 2108.23,622.674 2117.42,620.244 2126.62,616.848 2135.81,612.279 2145,606.318 2154.19,598.729 2163.39,589.262 2172.58,577.65 2181.77,563.613 2190.97,546.856 2200.16,527.073 2209.35,503.943 2218.54,477.135 2227.74,446.308 2236.93,411.111 2246.12,371.189 2255.31,326.179 2264.51,275.716 2273.7,219.435 2282.89,156.975 2292.08,87.9763 \"/>\n",
       "<path clip-path=\"url(#clip450)\" d=\"M280.486 302.578 L693.793 302.578 L693.793 95.2176 L280.486 95.2176  Z\" fill=\"#ffffff\" fill-rule=\"evenodd\" fill-opacity=\"1\"/>\n",
       "<polyline clip-path=\"url(#clip450)\" style=\"stroke:#000000; stroke-linecap:round; stroke-linejoin:round; stroke-width:4; stroke-opacity:1; fill:none\" points=\"280.486,302.578 693.793,302.578 693.793,95.2176 280.486,95.2176 280.486,302.578 \"/>\n",
       "<circle clip-path=\"url(#clip450)\" cx=\"375.763\" cy=\"147.058\" r=\"23.04\" fill=\"#009af9\" fill-rule=\"evenodd\" fill-opacity=\"1\" stroke=\"#000000\" stroke-opacity=\"1\" stroke-width=\"5.12\"/>\n",
       "<path clip-path=\"url(#clip450)\" d=\"M484.882 166.745 Q483.077 171.375 481.364 172.787 Q479.651 174.199 476.78 174.199 L473.378 174.199 L473.378 170.634 L475.878 170.634 Q477.637 170.634 478.609 169.8 Q479.581 168.967 480.762 165.865 L481.526 163.921 L471.04 138.412 L475.554 138.412 L483.655 158.689 L491.757 138.412 L496.271 138.412 L484.882 166.745 Z\" fill=\"#000000\" fill-rule=\"evenodd\" fill-opacity=\"1\" /><path clip-path=\"url(#clip450)\" d=\"M503.563 160.402 L511.201 160.402 L511.201 134.037 L502.891 135.703 L502.891 131.444 L511.155 129.778 L515.831 129.778 L515.831 160.402 L523.47 160.402 L523.47 164.338 L503.563 164.338 L503.563 160.402 Z\" fill=\"#000000\" fill-rule=\"evenodd\" fill-opacity=\"1\" /><polyline clip-path=\"url(#clip450)\" style=\"stroke:#e26f46; stroke-linecap:round; stroke-linejoin:round; stroke-width:4; stroke-opacity:1; fill:none\" points=\"304.305,198.898 447.22,198.898 \"/>\n",
       "<path clip-path=\"url(#clip450)\" d=\"M471.04 181.618 L500.276 181.618 L500.276 185.553 L488.007 185.553 L488.007 216.178 L483.308 216.178 L483.308 185.553 L471.04 185.553 L471.04 181.618 Z\" fill=\"#000000\" fill-rule=\"evenodd\" fill-opacity=\"1\" /><path clip-path=\"url(#clip450)\" d=\"M512.66 194.233 Q511.942 193.817 511.086 193.631 Q510.252 193.423 509.234 193.423 Q505.623 193.423 503.678 195.784 Q501.757 198.122 501.757 202.52 L501.757 216.178 L497.475 216.178 L497.475 190.252 L501.757 190.252 L501.757 194.28 Q503.1 191.918 505.252 190.784 Q507.405 189.627 510.484 189.627 Q510.924 189.627 511.456 189.696 Q511.988 189.743 512.637 189.858 L512.66 194.233 Z\" fill=\"#000000\" fill-rule=\"evenodd\" fill-opacity=\"1\" /><path clip-path=\"url(#clip450)\" d=\"M516.688 205.946 L516.688 190.252 L520.947 190.252 L520.947 205.784 Q520.947 209.465 522.382 211.316 Q523.817 213.145 526.687 213.145 Q530.137 213.145 532.127 210.946 Q534.141 208.747 534.141 204.951 L534.141 190.252 L538.4 190.252 L538.4 216.178 L534.141 216.178 L534.141 212.196 Q532.59 214.557 530.53 215.715 Q528.493 216.849 525.785 216.849 Q521.317 216.849 519.002 214.071 Q516.688 211.293 516.688 205.946 M527.405 189.627 L527.405 189.627 Z\" fill=\"#000000\" fill-rule=\"evenodd\" fill-opacity=\"1\" /><path clip-path=\"url(#clip450)\" d=\"M569.349 202.15 L569.349 204.233 L549.766 204.233 Q550.044 208.631 552.405 210.946 Q554.789 213.238 559.025 213.238 Q561.479 213.238 563.771 212.636 Q566.085 212.034 568.354 210.83 L568.354 214.858 Q566.062 215.83 563.655 216.34 Q561.247 216.849 558.771 216.849 Q552.567 216.849 548.933 213.238 Q545.322 209.627 545.322 203.469 Q545.322 197.104 548.748 193.377 Q552.197 189.627 558.03 189.627 Q563.261 189.627 566.294 193.006 Q569.349 196.363 569.349 202.15 M565.09 200.9 Q565.044 197.405 563.122 195.321 Q561.224 193.238 558.076 193.238 Q554.511 193.238 552.359 195.252 Q550.229 197.266 549.905 200.923 L565.09 200.9 Z\" fill=\"#000000\" fill-rule=\"evenodd\" fill-opacity=\"1\" /><path clip-path=\"url(#clip450)\" d=\"M591.409 180.159 L595.669 180.159 L595.669 216.178 L591.409 216.178 L591.409 180.159 Z\" fill=\"#000000\" fill-rule=\"evenodd\" fill-opacity=\"1\" /><path clip-path=\"url(#clip450)\" d=\"M604.581 190.252 L608.84 190.252 L608.84 216.178 L604.581 216.178 L604.581 190.252 M604.581 180.159 L608.84 180.159 L608.84 185.553 L604.581 185.553 L604.581 180.159 Z\" fill=\"#000000\" fill-rule=\"evenodd\" fill-opacity=\"1\" /><path clip-path=\"url(#clip450)\" d=\"M639.303 200.529 L639.303 216.178 L635.043 216.178 L635.043 200.668 Q635.043 196.988 633.608 195.159 Q632.173 193.33 629.303 193.33 Q625.854 193.33 623.863 195.53 Q621.872 197.729 621.872 201.525 L621.872 216.178 L617.59 216.178 L617.59 190.252 L621.872 190.252 L621.872 194.28 Q623.4 191.942 625.46 190.784 Q627.543 189.627 630.252 189.627 Q634.719 189.627 637.011 192.405 Q639.303 195.159 639.303 200.529 Z\" fill=\"#000000\" fill-rule=\"evenodd\" fill-opacity=\"1\" /><path clip-path=\"url(#clip450)\" d=\"M669.974 202.15 L669.974 204.233 L650.391 204.233 Q650.668 208.631 653.029 210.946 Q655.414 213.238 659.65 213.238 Q662.103 213.238 664.395 212.636 Q666.71 212.034 668.978 210.83 L668.978 214.858 Q666.687 215.83 664.279 216.34 Q661.872 216.849 659.395 216.849 Q653.191 216.849 649.557 213.238 Q645.946 209.627 645.946 203.469 Q645.946 197.104 649.372 193.377 Q652.821 189.627 658.654 189.627 Q663.886 189.627 666.918 193.006 Q669.974 196.363 669.974 202.15 M665.715 200.9 Q665.668 197.405 663.747 195.321 Q661.849 193.238 658.701 193.238 Q655.136 193.238 652.983 195.252 Q650.853 197.266 650.529 200.923 L665.715 200.9 Z\" fill=\"#000000\" fill-rule=\"evenodd\" fill-opacity=\"1\" /><polyline clip-path=\"url(#clip450)\" style=\"stroke:#3da44d; stroke-linecap:round; stroke-linejoin:round; stroke-width:4; stroke-opacity:1; fill:none\" points=\"304.305,250.738 447.22,250.738 \"/>\n",
       "<path clip-path=\"url(#clip450)\" d=\"M471.04 233.458 L490.901 233.458 L490.901 237.393 L475.716 237.393 L475.716 247.578 L489.419 247.578 L489.419 251.513 L475.716 251.513 L475.716 268.018 L471.04 268.018 L471.04 233.458 Z\" fill=\"#000000\" fill-rule=\"evenodd\" fill-opacity=\"1\" /><path clip-path=\"url(#clip450)\" d=\"M494.674 242.092 L498.933 242.092 L498.933 268.018 L494.674 268.018 L494.674 242.092 M494.674 231.999 L498.933 231.999 L498.933 237.393 L494.674 237.393 L494.674 231.999 Z\" fill=\"#000000\" fill-rule=\"evenodd\" fill-opacity=\"1\" /><path clip-path=\"url(#clip450)\" d=\"M512.058 234.731 L512.058 242.092 L520.831 242.092 L520.831 245.402 L512.058 245.402 L512.058 259.476 Q512.058 262.647 512.914 263.55 Q513.794 264.453 516.456 264.453 L520.831 264.453 L520.831 268.018 L516.456 268.018 Q511.526 268.018 509.651 266.189 Q507.776 264.337 507.776 259.476 L507.776 245.402 L504.651 245.402 L504.651 242.092 L507.776 242.092 L507.776 234.731 L512.058 234.731 Z\" fill=\"#000000\" fill-rule=\"evenodd\" fill-opacity=\"1\" /><path clip-path=\"url(#clip450)\" d=\"M541.502 231.999 L545.761 231.999 L545.761 268.018 L541.502 268.018 L541.502 231.999 Z\" fill=\"#000000\" fill-rule=\"evenodd\" fill-opacity=\"1\" /><path clip-path=\"url(#clip450)\" d=\"M554.673 242.092 L558.933 242.092 L558.933 268.018 L554.673 268.018 L554.673 242.092 M554.673 231.999 L558.933 231.999 L558.933 237.393 L554.673 237.393 L554.673 231.999 Z\" fill=\"#000000\" fill-rule=\"evenodd\" fill-opacity=\"1\" /><path clip-path=\"url(#clip450)\" d=\"M589.395 252.369 L589.395 268.018 L585.136 268.018 L585.136 252.508 Q585.136 248.828 583.701 246.999 Q582.266 245.17 579.396 245.17 Q575.946 245.17 573.956 247.37 Q571.965 249.569 571.965 253.365 L571.965 268.018 L567.683 268.018 L567.683 242.092 L571.965 242.092 L571.965 246.12 Q573.493 243.782 575.553 242.624 Q577.636 241.467 580.345 241.467 Q584.812 241.467 587.104 244.245 Q589.395 246.999 589.395 252.369 Z\" fill=\"#000000\" fill-rule=\"evenodd\" fill-opacity=\"1\" /><path clip-path=\"url(#clip450)\" d=\"M620.067 253.99 L620.067 256.073 L600.483 256.073 Q600.761 260.471 603.122 262.786 Q605.507 265.078 609.743 265.078 Q612.196 265.078 614.488 264.476 Q616.803 263.874 619.071 262.67 L619.071 266.698 Q616.78 267.67 614.372 268.18 Q611.965 268.689 609.488 268.689 Q603.284 268.689 599.65 265.078 Q596.039 261.467 596.039 255.309 Q596.039 248.944 599.465 245.217 Q602.914 241.467 608.747 241.467 Q613.979 241.467 617.011 244.846 Q620.067 248.203 620.067 253.99 M615.807 252.74 Q615.761 249.245 613.84 247.161 Q611.942 245.078 608.794 245.078 Q605.229 245.078 603.076 247.092 Q600.946 249.106 600.622 252.763 L615.807 252.74 Z\" fill=\"#000000\" fill-rule=\"evenodd\" fill-opacity=\"1\" /></svg>\n"
      ]
     },
     "execution_count": 8,
     "metadata": {},
     "output_type": "execute_result"
    }
   ],
   "source": [
    "x_fit = collect(-11:.1:11)\n",
    "scatter(x,y_observed)\n",
    "plot!(x,y_true,label = \"True line\")\n",
    "plot!(x_fit,fit(x,y_observed,10).(x_fit),label = \"Fit line\")"
   ]
  },
  {
   "cell_type": "markdown",
   "id": "bbcb4ef4",
   "metadata": {},
   "source": [
    "3. What do you observe in the plot? What is this phenomenon called?"
   ]
  },
  {
   "cell_type": "markdown",
   "id": "49a085b1",
   "metadata": {},
   "source": [
    "The plot has steep curve in the data fit line at the ends. It is called overfitting the data. It most likely does not accurately resemble the real trend beyond the data points."
   ]
  }
 ],
 "metadata": {
  "kernelspec": {
   "display_name": "Julia 1.8.5",
   "language": "julia",
   "name": "julia-1.8"
  },
  "language_info": {
   "file_extension": ".jl",
   "mimetype": "application/julia",
   "name": "julia",
   "version": "1.8.5"
  }
 },
 "nbformat": 4,
 "nbformat_minor": 5
}
