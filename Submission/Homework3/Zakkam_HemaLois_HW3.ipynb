{
 "cells": [
  {
   "cell_type": "markdown",
   "id": "1fbe377b",
   "metadata": {},
   "source": [
    "<h1>HW3</h1>"
   ]
  },
  {
   "cell_type": "markdown",
   "id": "79813e24",
   "metadata": {},
   "source": [
    "# Question 1\n",
    "### (Bayes Theorem) Read the following example and complete the exercises \n",
    "\n",
    "Trolls Under the Bridge\n",
    "1. Trolls(T) are bad\n",
    "2. Gnomes(G) are benign\n",
    "3. Every bridge has 5 creatures under it\n",
    "\n",
    "Below are the probabilities of what creatures live under a bridge:\n",
    "1. TTGGG: 20% (E1)\n",
    "2. TGGGG: 20% (E2)\n",
    "3. GGGGG: 60% (E3)\n",
    "\n",
    "A knight is approaching a bridge and he wants to know his chance of crossing the bridge safely."
   ]
  },
  {
   "cell_type": "markdown",
   "id": "425f8583",
   "metadata": {},
   "source": [
    "### 1.1 \n",
    "\n",
    "#### What is the chance of the knight crossing the bridge safely?\n"
   ]
  },
  {
   "cell_type": "code",
   "execution_count": 103,
   "id": "29bea308",
   "metadata": {},
   "outputs": [
    {
     "data": {
      "text/plain": [
       "60"
      ]
     },
     "execution_count": 103,
     "metadata": {},
     "output_type": "execute_result"
    }
   ],
   "source": [
    "60"
   ]
  },
  {
   "cell_type": "markdown",
   "id": "61f687e4",
   "metadata": {},
   "source": [
    "### 1.2\n",
    "\n",
    "#### Before crossing a bridge, a knight captures a troll. “I now have an 80% chance of crossing safely,” he reasons, “since only the case 20% had TTGGG (E1) now have TGGG is still a threat.”\n",
    "\n",
    "#### Do you agree with him? Why?"
   ]
  },
  {
   "cell_type": "markdown",
   "id": "09025213",
   "metadata": {},
   "source": [
    "I do not agree with the statement of crossing safely since the knight caught the troll from the event E1 which has two trolls. So after catching the troll from the event E1 there will be one more troll left giving probability of 20%, also another event E2 has one troll giving another 20% so 40% in total. So the probability of crossing the bridge safely is 60% and having a threat of trolls is 40%."
   ]
  },
  {
   "cell_type": "markdown",
   "id": "c1533b67",
   "metadata": {},
   "source": [
    "### 1.3\n",
    "\n",
    "#### Now he wants to use Bayes' theorem to calculate his chance of crossing safely given a troll captured \n",
    "\n",
    "\\begin{equation*}\n",
    "P(A|B) = \\frac{P(B|A)P(A)}{P(B)} \\\\\n",
    "P(A|B): Posteior \\\\\n",
    "P(B|A): Likelihood \\\\\n",
    "P(A): Prior \\\\\n",
    "P(B): Marginal Probability \\\\\n",
    "\\end{equation*}\n",
    "\n",
    "#### Given the three events, E1, E2, and E3, which two of the three events does the knight need to consider after a troll was captured?"
   ]
  },
  {
   "cell_type": "markdown",
   "id": "0adb7f0a",
   "metadata": {},
   "source": [
    "After capturing a troll, the events to be considered by knight should be E1(TTGGG) and E2(TGGGG);"
   ]
  },
  {
   "cell_type": "markdown",
   "id": "e45e8fa6",
   "metadata": {},
   "source": [
    "### 1.4\n",
    "\n",
    "#### Use Bayes' theorem to calculate the probability of the two events in 1.3 (separately) given the troll was captured. "
   ]
  },
  {
   "cell_type": "markdown",
   "id": "5d9c3c0b",
   "metadata": {},
   "source": [
    "Probability of one event given a troll captured: E2"
   ]
  },
  {
   "cell_type": "code",
   "execution_count": 79,
   "id": "f2f0e7c8",
   "metadata": {},
   "outputs": [
    {
     "name": "stdout",
     "output_type": "stream",
     "text": [
      "Prior: P(B) = Troll Captured\n",
      "Marginal Probability: P(A) = Event1 Occurs\n",
      "Posterior: P(A|B) = Event2 occurs given troll captured\n",
      "Likelyhood: P(B|A) = Troll captured given E1 occur = 2/5\n"
     ]
    },
    {
     "data": {
      "text/plain": [
       "0.6666666666666666"
      ]
     },
     "execution_count": 79,
     "metadata": {},
     "output_type": "execute_result"
    }
   ],
   "source": [
    "println(\"Prior: P(B) = Troll Captured\")\n",
    "println(\"Marginal Probability: P(A) = Event1 Occurs\")\n",
    "println(\"Posterior: P(A|B) = Event2 occurs given troll captured\")\n",
    "println(\"Likelyhood: P(B|A) = Troll captured given E1 occur = 2/5\")\n",
    "likelihood = (2/5)\n",
    "prior = (1/5)\n",
    "marginal_probability = ((2/5)*.2+((1/5)*.2)+((0/5)*0.6))\n",
    "posterior = (likelihood*prior)/marginal_probability"
   ]
  },
  {
   "cell_type": "markdown",
   "id": "37843aee",
   "metadata": {},
   "source": [
    "Probability of the other event given a troll captured: "
   ]
  },
  {
   "cell_type": "code",
   "execution_count": 80,
   "id": "5db10bc7",
   "metadata": {},
   "outputs": [
    {
     "name": "stdout",
     "output_type": "stream",
     "text": [
      "Prior: P(B) = Troll Captured\n",
      "Marginal Probability: P(A) = Event2 Occurs\n",
      "Posterior: P(A|B) = Event2 occurs given troll captured\n",
      "Likelyhood: P(B|A) = Troll captured given E1 occur = 1/5\n"
     ]
    },
    {
     "data": {
      "text/plain": [
       "0.3333333333333333"
      ]
     },
     "execution_count": 80,
     "metadata": {},
     "output_type": "execute_result"
    }
   ],
   "source": [
    "println(\"Prior: P(B) = Troll Captured\")\n",
    "println(\"Marginal Probability: P(A) = Event2 Occurs\")\n",
    "println(\"Posterior: P(A|B) = Event2 occurs given troll captured\")\n",
    "println(\"Likelyhood: P(B|A) = Troll captured given E1 occur = 1/5\")\n",
    "likelihood = (1/5)\n",
    "prior = (1/5)\n",
    "marginal_probability = ((2/5)*.2+((1/5)*.2)+((0/5)*0.6))\n",
    "posterior = (likelihood*prior)/marginal_probability"
   ]
  },
  {
   "cell_type": "markdown",
   "id": "f3b7f049",
   "metadata": {},
   "source": [
    "### 1.5\n",
    "\n",
    "#### What is the chance of the knight crossing safely?"
   ]
  },
  {
   "cell_type": "code",
   "execution_count": 81,
   "id": "0f6fd73b",
   "metadata": {},
   "outputs": [
    {
     "data": {
      "text/plain": [
       "0.3333333333333333"
      ]
     },
     "execution_count": 81,
     "metadata": {},
     "output_type": "execute_result"
    }
   ],
   "source": [
    "1/3"
   ]
  },
  {
   "cell_type": "markdown",
   "id": "7b815ae0",
   "metadata": {},
   "source": [
    "#### Now looking back to 1.1, the probabilities were changed after assimilating data! "
   ]
  },
  {
   "cell_type": "markdown",
   "id": "f1450094",
   "metadata": {},
   "source": [
    "# Question 2\n",
    "### (Polynomial Fitting) Read the following example and complete the exercises \n",
    "\n",
    "Biological data always comes with errors that influence the intepretation of the data significantly. In this question, we will simulate data and see how noises affect the parameter estimation."
   ]
  },
  {
   "cell_type": "code",
   "execution_count": 16,
   "id": "c20822fa",
   "metadata": {},
   "outputs": [
    {
     "name": "stderr",
     "output_type": "stream",
     "text": [
      "\u001b[32m\u001b[1m   Resolving\u001b[22m\u001b[39m package versions...\n",
      "\u001b[32m\u001b[1m  No Changes\u001b[22m\u001b[39m to `C:\\Users\\hzakkam\\.julia\\environments\\v1.8\\Project.toml`\n",
      "\u001b[32m\u001b[1m  No Changes\u001b[22m\u001b[39m to `C:\\Users\\hzakkam\\.julia\\environments\\v1.8\\Manifest.toml`\n"
     ]
    }
   ],
   "source": [
    "import Pkg\n",
    "Pkg.add([\"Distributions\", \"Plots\", \"Polynomials\", \"Random\"])"
   ]
  },
  {
   "cell_type": "code",
   "execution_count": 90,
   "id": "d7d1ca8d",
   "metadata": {},
   "outputs": [],
   "source": [
    "import Distributions as di\n",
    "import Plots\n",
    "import Polynomials\n",
    "import Random\n",
    "using Plots\n",
    "using Random\n",
    "using Polynomials: Polynomial, fit, coeffs\n",
    "using Statistics\n"
   ]
  },
  {
   "cell_type": "markdown",
   "id": "a90dd09d",
   "metadata": {},
   "source": [
    "### 2.1\n",
    "\n",
    "1. Generate the independent variable x ranging from -10 to 10 with an increment of 1\n",
    "2. Generate the dependent variable y_true using the equation y_true = x^2 + 3x - 2\n"
   ]
  },
  {
   "cell_type": "code",
   "execution_count": 91,
   "id": "6b0b33c5",
   "metadata": {},
   "outputs": [
    {
     "data": {
      "text/plain": [
       "21-element Vector{Int64}:\n",
       " -10\n",
       "  -9\n",
       "  -8\n",
       "  -7\n",
       "  -6\n",
       "  -5\n",
       "  -4\n",
       "  -3\n",
       "  -2\n",
       "  -1\n",
       "   0\n",
       "   1\n",
       "   2\n",
       "   3\n",
       "   4\n",
       "   5\n",
       "   6\n",
       "   7\n",
       "   8\n",
       "   9\n",
       "  10"
      ]
     },
     "execution_count": 91,
     "metadata": {},
     "output_type": "execute_result"
    }
   ],
   "source": [
    "x= -10:10\n",
    "collect(x)"
   ]
  },
  {
   "cell_type": "code",
   "execution_count": 92,
   "id": "36f51985",
   "metadata": {},
   "outputs": [
    {
     "data": {
      "text/plain": [
       "21-element Vector{Int64}:\n",
       "  68\n",
       "  52\n",
       "  38\n",
       "  26\n",
       "  16\n",
       "   8\n",
       "   2\n",
       "  -2\n",
       "  -4\n",
       "  -4\n",
       "  -2\n",
       "   2\n",
       "   8\n",
       "  16\n",
       "  26\n",
       "  38\n",
       "  52\n",
       "  68\n",
       "  86\n",
       " 106\n",
       " 128"
      ]
     },
     "execution_count": 92,
     "metadata": {},
     "output_type": "execute_result"
    }
   ],
   "source": [
    "y_true = x .^2 .+ 3 .*x .-2"
   ]
  },
  {
   "cell_type": "markdown",
   "id": "74d2a191",
   "metadata": {},
   "source": [
    "### 2.2\n",
    "\n",
    "1. Generate the Guassian noises with zero mean and a standard deviation of 10\n",
    "\n",
    "2. Add the noises to y_true to obtain y_observed\n"
   ]
  },
  {
   "cell_type": "code",
   "execution_count": 93,
   "id": "7936417a",
   "metadata": {},
   "outputs": [
    {
     "data": {
      "text/plain": [
       "Distributions.Normal{Float64}(μ=0.0, σ=10.0)"
      ]
     },
     "execution_count": 93,
     "metadata": {},
     "output_type": "execute_result"
    }
   ],
   "source": [
    "stdev =10.0\n",
    "d = di.Normal(0,stdev)"
   ]
  },
  {
   "cell_type": "code",
   "execution_count": 94,
   "id": "9c1d5d56",
   "metadata": {},
   "outputs": [
    {
     "data": {
      "text/plain": [
       "21-element Vector{Float64}:\n",
       "  61.25339987373175\n",
       "  58.963574005776294\n",
       "  31.139683179821027\n",
       "  39.49199465051793\n",
       "  29.056809757817874\n",
       "   0.7859758073625631\n",
       "   7.617927368073149\n",
       "   0.016046454507233854\n",
       "   8.9077979056514\n",
       " -16.632201077334607\n",
       "   2.3410447241286425\n",
       "   0.9863979989124405\n",
       "  34.158221891131156\n",
       "  14.459184632657477\n",
       "  16.584712352146443\n",
       "  30.024559176699128\n",
       "  51.46905528251096\n",
       "  72.8574902817241\n",
       "  86.9678112140013\n",
       "  99.21123005733526\n",
       " 122.5849639157849"
      ]
     },
     "execution_count": 94,
     "metadata": {},
     "output_type": "execute_result"
    }
   ],
   "source": [
    "y_observed = y_true + rand(d,length(x))"
   ]
  },
  {
   "cell_type": "markdown",
   "id": "ecf2e554",
   "metadata": {},
   "source": [
    "### 2.3\n",
    "\n",
    "#### Fit the data (x, y_observed) with a second order polynomial. \n",
    "\n",
    "1. Make a scatter plot of y_observed along x\n",
    "2. Plot a line of y_true along x on the scatter plot\n",
    "3. Plot a line of the fitted polynomial along x on the same plot"
   ]
  },
  {
   "cell_type": "code",
   "execution_count": 95,
   "id": "d39a136b",
   "metadata": {},
   "outputs": [
    {
     "data": {
      "image/svg+xml": [
       "<?xml version=\"1.0\" encoding=\"utf-8\"?>\n",
       "<svg xmlns=\"http://www.w3.org/2000/svg\" xmlns:xlink=\"http://www.w3.org/1999/xlink\" width=\"600\" height=\"400\" viewBox=\"0 0 2400 1600\">\n",
       "<defs>\n",
       "  <clipPath id=\"clip980\">\n",
       "    <rect x=\"0\" y=\"0\" width=\"2400\" height=\"1600\"/>\n",
       "  </clipPath>\n",
       "</defs>\n",
       "<path clip-path=\"url(#clip980)\" d=\"M0 1600 L2400 1600 L2400 0 L0 0  Z\" fill=\"#ffffff\" fill-rule=\"evenodd\" fill-opacity=\"1\"/>\n",
       "<defs>\n",
       "  <clipPath id=\"clip981\">\n",
       "    <rect x=\"480\" y=\"0\" width=\"1681\" height=\"1600\"/>\n",
       "  </clipPath>\n",
       "</defs>\n",
       "<path clip-path=\"url(#clip980)\" d=\"M169.121 1486.45 L2352.76 1486.45 L2352.76 47.2441 L169.121 47.2441  Z\" fill=\"#ffffff\" fill-rule=\"evenodd\" fill-opacity=\"1\"/>\n",
       "<defs>\n",
       "  <clipPath id=\"clip982\">\n",
       "    <rect x=\"169\" y=\"47\" width=\"2185\" height=\"1440\"/>\n",
       "  </clipPath>\n",
       "</defs>\n",
       "<polyline clip-path=\"url(#clip982)\" style=\"stroke:#000000; stroke-linecap:round; stroke-linejoin:round; stroke-width:2; stroke-opacity:0.1; fill:none\" points=\"230.922,1486.45 230.922,47.2441 \"/>\n",
       "<polyline clip-path=\"url(#clip982)\" style=\"stroke:#000000; stroke-linecap:round; stroke-linejoin:round; stroke-width:2; stroke-opacity:0.1; fill:none\" points=\"745.93,1486.45 745.93,47.2441 \"/>\n",
       "<polyline clip-path=\"url(#clip982)\" style=\"stroke:#000000; stroke-linecap:round; stroke-linejoin:round; stroke-width:2; stroke-opacity:0.1; fill:none\" points=\"1260.94,1486.45 1260.94,47.2441 \"/>\n",
       "<polyline clip-path=\"url(#clip982)\" style=\"stroke:#000000; stroke-linecap:round; stroke-linejoin:round; stroke-width:2; stroke-opacity:0.1; fill:none\" points=\"1775.95,1486.45 1775.95,47.2441 \"/>\n",
       "<polyline clip-path=\"url(#clip982)\" style=\"stroke:#000000; stroke-linecap:round; stroke-linejoin:round; stroke-width:2; stroke-opacity:0.1; fill:none\" points=\"2290.95,1486.45 2290.95,47.2441 \"/>\n",
       "<polyline clip-path=\"url(#clip980)\" style=\"stroke:#000000; stroke-linecap:round; stroke-linejoin:round; stroke-width:4; stroke-opacity:1; fill:none\" points=\"169.121,1486.45 2352.76,1486.45 \"/>\n",
       "<polyline clip-path=\"url(#clip980)\" style=\"stroke:#000000; stroke-linecap:round; stroke-linejoin:round; stroke-width:4; stroke-opacity:1; fill:none\" points=\"230.922,1486.45 230.922,1467.55 \"/>\n",
       "<polyline clip-path=\"url(#clip980)\" style=\"stroke:#000000; stroke-linecap:round; stroke-linejoin:round; stroke-width:4; stroke-opacity:1; fill:none\" points=\"745.93,1486.45 745.93,1467.55 \"/>\n",
       "<polyline clip-path=\"url(#clip980)\" style=\"stroke:#000000; stroke-linecap:round; stroke-linejoin:round; stroke-width:4; stroke-opacity:1; fill:none\" points=\"1260.94,1486.45 1260.94,1467.55 \"/>\n",
       "<polyline clip-path=\"url(#clip980)\" style=\"stroke:#000000; stroke-linecap:round; stroke-linejoin:round; stroke-width:4; stroke-opacity:1; fill:none\" points=\"1775.95,1486.45 1775.95,1467.55 \"/>\n",
       "<polyline clip-path=\"url(#clip980)\" style=\"stroke:#000000; stroke-linecap:round; stroke-linejoin:round; stroke-width:4; stroke-opacity:1; fill:none\" points=\"2290.95,1486.45 2290.95,1467.55 \"/>\n",
       "<path clip-path=\"url(#clip980)\" d=\"M184.985 1532.02 L214.661 1532.02 L214.661 1535.95 L184.985 1535.95 L184.985 1532.02 Z\" fill=\"#000000\" fill-rule=\"evenodd\" fill-opacity=\"1\" /><path clip-path=\"url(#clip980)\" d=\"M225.564 1544.91 L233.202 1544.91 L233.202 1518.55 L224.892 1520.21 L224.892 1515.95 L233.156 1514.29 L237.832 1514.29 L237.832 1544.91 L245.471 1544.91 L245.471 1548.85 L225.564 1548.85 L225.564 1544.91 Z\" fill=\"#000000\" fill-rule=\"evenodd\" fill-opacity=\"1\" /><path clip-path=\"url(#clip980)\" d=\"M264.915 1517.37 Q261.304 1517.37 259.475 1520.93 Q257.67 1524.47 257.67 1531.6 Q257.67 1538.71 259.475 1542.27 Q261.304 1545.82 264.915 1545.82 Q268.549 1545.82 270.355 1542.27 Q272.184 1538.71 272.184 1531.6 Q272.184 1524.47 270.355 1520.93 Q268.549 1517.37 264.915 1517.37 M264.915 1513.66 Q270.725 1513.66 273.781 1518.27 Q276.86 1522.85 276.86 1531.6 Q276.86 1540.33 273.781 1544.94 Q270.725 1549.52 264.915 1549.52 Q259.105 1549.52 256.026 1544.94 Q252.971 1540.33 252.971 1531.6 Q252.971 1522.85 256.026 1518.27 Q259.105 1513.66 264.915 1513.66 Z\" fill=\"#000000\" fill-rule=\"evenodd\" fill-opacity=\"1\" /><path clip-path=\"url(#clip980)\" d=\"M715.572 1532.02 L745.248 1532.02 L745.248 1535.95 L715.572 1535.95 L715.572 1532.02 Z\" fill=\"#000000\" fill-rule=\"evenodd\" fill-opacity=\"1\" /><path clip-path=\"url(#clip980)\" d=\"M755.386 1514.29 L773.743 1514.29 L773.743 1518.22 L759.669 1518.22 L759.669 1526.7 Q760.687 1526.35 761.706 1526.19 Q762.724 1526 763.743 1526 Q769.53 1526 772.909 1529.17 Q776.289 1532.34 776.289 1537.76 Q776.289 1543.34 772.817 1546.44 Q769.345 1549.52 763.025 1549.52 Q760.849 1549.52 758.581 1549.15 Q756.335 1548.78 753.928 1548.04 L753.928 1543.34 Q756.011 1544.47 758.234 1545.03 Q760.456 1545.58 762.933 1545.58 Q766.937 1545.58 769.275 1543.48 Q771.613 1541.37 771.613 1537.76 Q771.613 1534.15 769.275 1532.04 Q766.937 1529.94 762.933 1529.94 Q761.058 1529.94 759.183 1530.35 Q757.331 1530.77 755.386 1531.65 L755.386 1514.29 Z\" fill=\"#000000\" fill-rule=\"evenodd\" fill-opacity=\"1\" /><path clip-path=\"url(#clip980)\" d=\"M1260.94 1517.37 Q1257.33 1517.37 1255.5 1520.93 Q1253.69 1524.47 1253.69 1531.6 Q1253.69 1538.71 1255.5 1542.27 Q1257.33 1545.82 1260.94 1545.82 Q1264.57 1545.82 1266.38 1542.27 Q1268.21 1538.71 1268.21 1531.6 Q1268.21 1524.47 1266.38 1520.93 Q1264.57 1517.37 1260.94 1517.37 M1260.94 1513.66 Q1266.75 1513.66 1269.8 1518.27 Q1272.88 1522.85 1272.88 1531.6 Q1272.88 1540.33 1269.8 1544.94 Q1266.75 1549.52 1260.94 1549.52 Q1255.13 1549.52 1252.05 1544.94 Q1248.99 1540.33 1248.99 1531.6 Q1248.99 1522.85 1252.05 1518.27 Q1255.13 1513.66 1260.94 1513.66 Z\" fill=\"#000000\" fill-rule=\"evenodd\" fill-opacity=\"1\" /><path clip-path=\"url(#clip980)\" d=\"M1766.22 1514.29 L1784.58 1514.29 L1784.58 1518.22 L1770.51 1518.22 L1770.51 1526.7 Q1771.53 1526.35 1772.54 1526.19 Q1773.56 1526 1774.58 1526 Q1780.37 1526 1783.75 1529.17 Q1787.13 1532.34 1787.13 1537.76 Q1787.13 1543.34 1783.66 1546.44 Q1780.18 1549.52 1773.86 1549.52 Q1771.69 1549.52 1769.42 1549.15 Q1767.17 1548.78 1764.77 1548.04 L1764.77 1543.34 Q1766.85 1544.47 1769.07 1545.03 Q1771.29 1545.58 1773.77 1545.58 Q1777.78 1545.58 1780.11 1543.48 Q1782.45 1541.37 1782.45 1537.76 Q1782.45 1534.15 1780.11 1532.04 Q1777.78 1529.94 1773.77 1529.94 Q1771.9 1529.94 1770.02 1530.35 Q1768.17 1530.77 1766.22 1531.65 L1766.22 1514.29 Z\" fill=\"#000000\" fill-rule=\"evenodd\" fill-opacity=\"1\" /><path clip-path=\"url(#clip980)\" d=\"M2265.64 1544.91 L2273.28 1544.91 L2273.28 1518.55 L2264.97 1520.21 L2264.97 1515.95 L2273.24 1514.29 L2277.91 1514.29 L2277.91 1544.91 L2285.55 1544.91 L2285.55 1548.85 L2265.64 1548.85 L2265.64 1544.91 Z\" fill=\"#000000\" fill-rule=\"evenodd\" fill-opacity=\"1\" /><path clip-path=\"url(#clip980)\" d=\"M2304.99 1517.37 Q2301.38 1517.37 2299.55 1520.93 Q2297.75 1524.47 2297.75 1531.6 Q2297.75 1538.71 2299.55 1542.27 Q2301.38 1545.82 2304.99 1545.82 Q2308.63 1545.82 2310.43 1542.27 Q2312.26 1538.71 2312.26 1531.6 Q2312.26 1524.47 2310.43 1520.93 Q2308.63 1517.37 2304.99 1517.37 M2304.99 1513.66 Q2310.8 1513.66 2313.86 1518.27 Q2316.94 1522.85 2316.94 1531.6 Q2316.94 1540.33 2313.86 1544.94 Q2310.8 1549.52 2304.99 1549.52 Q2299.18 1549.52 2296.11 1544.94 Q2293.05 1540.33 2293.05 1531.6 Q2293.05 1522.85 2296.11 1518.27 Q2299.18 1513.66 2304.99 1513.66 Z\" fill=\"#000000\" fill-rule=\"evenodd\" fill-opacity=\"1\" /><polyline clip-path=\"url(#clip982)\" style=\"stroke:#000000; stroke-linecap:round; stroke-linejoin:round; stroke-width:2; stroke-opacity:0.1; fill:none\" points=\"169.121,1289.58 2352.76,1289.58 \"/>\n",
       "<polyline clip-path=\"url(#clip982)\" style=\"stroke:#000000; stroke-linecap:round; stroke-linejoin:round; stroke-width:2; stroke-opacity:0.1; fill:none\" points=\"169.121,1007.95 2352.76,1007.95 \"/>\n",
       "<polyline clip-path=\"url(#clip982)\" style=\"stroke:#000000; stroke-linecap:round; stroke-linejoin:round; stroke-width:2; stroke-opacity:0.1; fill:none\" points=\"169.121,726.328 2352.76,726.328 \"/>\n",
       "<polyline clip-path=\"url(#clip982)\" style=\"stroke:#000000; stroke-linecap:round; stroke-linejoin:round; stroke-width:2; stroke-opacity:0.1; fill:none\" points=\"169.121,444.702 2352.76,444.702 \"/>\n",
       "<polyline clip-path=\"url(#clip982)\" style=\"stroke:#000000; stroke-linecap:round; stroke-linejoin:round; stroke-width:2; stroke-opacity:0.1; fill:none\" points=\"169.121,163.077 2352.76,163.077 \"/>\n",
       "<polyline clip-path=\"url(#clip980)\" style=\"stroke:#000000; stroke-linecap:round; stroke-linejoin:round; stroke-width:4; stroke-opacity:1; fill:none\" points=\"169.121,1486.45 169.121,47.2441 \"/>\n",
       "<polyline clip-path=\"url(#clip980)\" style=\"stroke:#000000; stroke-linecap:round; stroke-linejoin:round; stroke-width:4; stroke-opacity:1; fill:none\" points=\"169.121,1289.58 188.019,1289.58 \"/>\n",
       "<polyline clip-path=\"url(#clip980)\" style=\"stroke:#000000; stroke-linecap:round; stroke-linejoin:round; stroke-width:4; stroke-opacity:1; fill:none\" points=\"169.121,1007.95 188.019,1007.95 \"/>\n",
       "<polyline clip-path=\"url(#clip980)\" style=\"stroke:#000000; stroke-linecap:round; stroke-linejoin:round; stroke-width:4; stroke-opacity:1; fill:none\" points=\"169.121,726.328 188.019,726.328 \"/>\n",
       "<polyline clip-path=\"url(#clip980)\" style=\"stroke:#000000; stroke-linecap:round; stroke-linejoin:round; stroke-width:4; stroke-opacity:1; fill:none\" points=\"169.121,444.702 188.019,444.702 \"/>\n",
       "<polyline clip-path=\"url(#clip980)\" style=\"stroke:#000000; stroke-linecap:round; stroke-linejoin:round; stroke-width:4; stroke-opacity:1; fill:none\" points=\"169.121,163.077 188.019,163.077 \"/>\n",
       "<path clip-path=\"url(#clip980)\" d=\"M121.177 1275.38 Q117.566 1275.38 115.737 1278.94 Q113.932 1282.49 113.932 1289.62 Q113.932 1296.72 115.737 1300.29 Q117.566 1303.83 121.177 1303.83 Q124.811 1303.83 126.617 1300.29 Q128.445 1296.72 128.445 1289.62 Q128.445 1282.49 126.617 1278.94 Q124.811 1275.38 121.177 1275.38 M121.177 1271.68 Q126.987 1271.68 130.043 1276.28 Q133.121 1280.87 133.121 1289.62 Q133.121 1298.34 130.043 1302.95 Q126.987 1307.53 121.177 1307.53 Q115.367 1307.53 112.288 1302.95 Q109.233 1298.34 109.233 1289.62 Q109.233 1280.87 112.288 1276.28 Q115.367 1271.68 121.177 1271.68 Z\" fill=\"#000000\" fill-rule=\"evenodd\" fill-opacity=\"1\" /><path clip-path=\"url(#clip980)\" d=\"M95.1817 1006.6 Q98.5382 1007.32 100.413 1009.59 Q102.311 1011.85 102.311 1015.19 Q102.311 1020.3 98.7928 1023.1 Q95.2743 1025.91 88.7928 1025.91 Q86.6169 1025.91 84.3021 1025.47 Q82.0105 1025.05 79.5568 1024.19 L79.5568 1019.68 Q81.5012 1020.81 83.816 1021.39 Q86.1308 1021.97 88.654 1021.97 Q93.0521 1021.97 95.3437 1020.23 Q97.6585 1018.5 97.6585 1015.19 Q97.6585 1012.13 95.5058 1010.42 Q93.3762 1008.68 89.5567 1008.68 L85.529 1008.68 L85.529 1004.84 L89.7419 1004.84 Q93.191 1004.84 95.0197 1003.48 Q96.8484 1002.09 96.8484 999.494 Q96.8484 996.832 94.9502 995.42 Q93.0752 993.985 89.5567 993.985 Q87.6354 993.985 85.4364 994.401 Q83.2373 994.818 80.5984 995.698 L80.5984 991.531 Q83.2605 990.79 85.5753 990.42 Q87.9132 990.049 89.9734 990.049 Q95.2974 990.049 98.3993 992.48 Q101.501 994.887 101.501 999.008 Q101.501 1001.88 99.8576 1003.87 Q98.2141 1005.84 95.1817 1006.6 Z\" fill=\"#000000\" fill-rule=\"evenodd\" fill-opacity=\"1\" /><path clip-path=\"url(#clip980)\" d=\"M121.177 993.753 Q117.566 993.753 115.737 997.318 Q113.932 1000.86 113.932 1007.99 Q113.932 1015.1 115.737 1018.66 Q117.566 1022.2 121.177 1022.2 Q124.811 1022.2 126.617 1018.66 Q128.445 1015.1 128.445 1007.99 Q128.445 1000.86 126.617 997.318 Q124.811 993.753 121.177 993.753 M121.177 990.049 Q126.987 990.049 130.043 994.656 Q133.121 999.239 133.121 1007.99 Q133.121 1016.72 130.043 1021.32 Q126.987 1025.91 121.177 1025.91 Q115.367 1025.91 112.288 1021.32 Q109.233 1016.72 109.233 1007.99 Q109.233 999.239 112.288 994.656 Q115.367 990.049 121.177 990.049 Z\" fill=\"#000000\" fill-rule=\"evenodd\" fill-opacity=\"1\" /><path clip-path=\"url(#clip980)\" d=\"M91.5938 724.465 Q88.4456 724.465 86.5938 726.618 Q84.7651 728.771 84.7651 732.521 Q84.7651 736.247 86.5938 738.423 Q88.4456 740.576 91.5938 740.576 Q94.7419 740.576 96.5706 738.423 Q98.4224 736.247 98.4224 732.521 Q98.4224 728.771 96.5706 726.618 Q94.7419 724.465 91.5938 724.465 M100.876 709.812 L100.876 714.072 Q99.1169 713.238 97.3113 712.798 Q95.5289 712.359 93.7697 712.359 Q89.1401 712.359 86.6864 715.484 Q84.2558 718.609 83.9086 724.928 Q85.2743 722.914 87.3345 721.849 Q89.3947 720.761 91.8715 720.761 Q97.0798 720.761 100.089 723.933 Q103.121 727.081 103.121 732.521 Q103.121 737.845 99.9733 741.062 Q96.8252 744.28 91.5938 744.28 Q85.5984 744.28 82.4271 739.696 Q79.2559 735.09 79.2559 726.363 Q79.2559 718.169 83.1447 713.308 Q87.0336 708.423 93.5845 708.423 Q95.3437 708.423 97.1261 708.771 Q98.9317 709.118 100.876 709.812 Z\" fill=\"#000000\" fill-rule=\"evenodd\" fill-opacity=\"1\" /><path clip-path=\"url(#clip980)\" d=\"M121.177 712.127 Q117.566 712.127 115.737 715.692 Q113.932 719.234 113.932 726.363 Q113.932 733.47 115.737 737.034 Q117.566 740.576 121.177 740.576 Q124.811 740.576 126.617 737.034 Q128.445 733.47 128.445 726.363 Q128.445 719.234 126.617 715.692 Q124.811 712.127 121.177 712.127 M121.177 708.423 Q126.987 708.423 130.043 713.03 Q133.121 717.613 133.121 726.363 Q133.121 735.09 130.043 739.696 Q126.987 744.28 121.177 744.28 Q115.367 744.28 112.288 739.696 Q109.233 735.09 109.233 726.363 Q109.233 717.613 112.288 713.03 Q115.367 708.423 121.177 708.423 Z\" fill=\"#000000\" fill-rule=\"evenodd\" fill-opacity=\"1\" /><path clip-path=\"url(#clip980)\" d=\"M81.154 461.265 L81.154 457.006 Q82.9133 457.839 84.7188 458.279 Q86.5243 458.719 88.2604 458.719 Q92.89 458.719 95.3206 455.617 Q97.7743 452.492 98.1215 446.149 Q96.7789 448.14 94.7187 449.205 Q92.6586 450.27 90.1586 450.27 Q84.9734 450.27 81.941 447.145 Q78.9318 443.996 78.9318 438.557 Q78.9318 433.233 82.0799 430.015 Q85.2281 426.797 90.4595 426.797 Q96.4548 426.797 99.603 431.404 Q102.774 435.987 102.774 444.737 Q102.774 452.908 98.8854 457.793 Q95.0197 462.654 88.4688 462.654 Q86.7095 462.654 84.904 462.307 Q83.0984 461.959 81.154 461.265 M90.4595 446.612 Q93.6076 446.612 95.4363 444.459 Q97.2882 442.307 97.2882 438.557 Q97.2882 434.83 95.4363 432.677 Q93.6076 430.501 90.4595 430.501 Q87.3114 430.501 85.4595 432.677 Q83.6308 434.83 83.6308 438.557 Q83.6308 442.307 85.4595 444.459 Q87.3114 446.612 90.4595 446.612 Z\" fill=\"#000000\" fill-rule=\"evenodd\" fill-opacity=\"1\" /><path clip-path=\"url(#clip980)\" d=\"M121.177 430.501 Q117.566 430.501 115.737 434.066 Q113.932 437.608 113.932 444.737 Q113.932 451.844 115.737 455.408 Q117.566 458.95 121.177 458.95 Q124.811 458.95 126.617 455.408 Q128.445 451.844 128.445 444.737 Q128.445 437.608 126.617 434.066 Q124.811 430.501 121.177 430.501 M121.177 426.797 Q126.987 426.797 130.043 431.404 Q133.121 435.987 133.121 444.737 Q133.121 453.464 130.043 458.07 Q126.987 462.654 121.177 462.654 Q115.367 462.654 112.288 458.07 Q109.233 453.464 109.233 444.737 Q109.233 435.987 112.288 431.404 Q115.367 426.797 121.177 426.797 Z\" fill=\"#000000\" fill-rule=\"evenodd\" fill-opacity=\"1\" /><path clip-path=\"url(#clip980)\" d=\"M51.6634 176.421 L59.3023 176.421 L59.3023 150.056 L50.9921 151.722 L50.9921 147.463 L59.256 145.797 L63.9319 145.797 L63.9319 176.421 L71.5707 176.421 L71.5707 180.357 L51.6634 180.357 L51.6634 176.421 Z\" fill=\"#000000\" fill-rule=\"evenodd\" fill-opacity=\"1\" /><path clip-path=\"url(#clip980)\" d=\"M85.0429 176.421 L101.362 176.421 L101.362 180.357 L79.4179 180.357 L79.4179 176.421 Q82.0799 173.667 86.6632 169.037 Q91.2697 164.384 92.4502 163.042 Q94.6956 160.519 95.5752 158.783 Q96.478 157.023 96.478 155.334 Q96.478 152.579 94.5336 150.843 Q92.6123 149.107 89.5104 149.107 Q87.3114 149.107 84.8577 149.871 Q82.4271 150.634 79.6494 152.185 L79.6494 147.463 Q82.4734 146.329 84.9271 145.75 Q87.3808 145.172 89.4178 145.172 Q94.7882 145.172 97.9826 147.857 Q101.177 150.542 101.177 155.033 Q101.177 157.162 100.367 159.083 Q99.5798 160.982 97.4734 163.574 Q96.8947 164.246 93.7928 167.463 Q90.691 170.658 85.0429 176.421 Z\" fill=\"#000000\" fill-rule=\"evenodd\" fill-opacity=\"1\" /><path clip-path=\"url(#clip980)\" d=\"M121.177 148.875 Q117.566 148.875 115.737 152.44 Q113.932 155.982 113.932 163.111 Q113.932 170.218 115.737 173.782 Q117.566 177.324 121.177 177.324 Q124.811 177.324 126.617 173.782 Q128.445 170.218 128.445 163.111 Q128.445 155.982 126.617 152.44 Q124.811 148.875 121.177 148.875 M121.177 145.172 Q126.987 145.172 130.043 149.778 Q133.121 154.361 133.121 163.111 Q133.121 171.838 130.043 176.445 Q126.987 181.028 121.177 181.028 Q115.367 181.028 112.288 176.445 Q109.233 171.838 109.233 163.111 Q109.233 154.361 112.288 149.778 Q115.367 145.172 121.177 145.172 Z\" fill=\"#000000\" fill-rule=\"evenodd\" fill-opacity=\"1\" /><circle clip-path=\"url(#clip982)\" cx=\"230.922\" cy=\"714.562\" r=\"14.4\" fill=\"#009af9\" fill-rule=\"evenodd\" fill-opacity=\"1\" stroke=\"#000000\" stroke-opacity=\"1\" stroke-width=\"3.2\"/>\n",
       "<circle clip-path=\"url(#clip982)\" cx=\"333.924\" cy=\"736.058\" r=\"14.4\" fill=\"#009af9\" fill-rule=\"evenodd\" fill-opacity=\"1\" stroke=\"#000000\" stroke-opacity=\"1\" stroke-width=\"3.2\"/>\n",
       "<circle clip-path=\"url(#clip982)\" cx=\"436.926\" cy=\"997.256\" r=\"14.4\" fill=\"#009af9\" fill-rule=\"evenodd\" fill-opacity=\"1\" stroke=\"#000000\" stroke-opacity=\"1\" stroke-width=\"3.2\"/>\n",
       "<circle clip-path=\"url(#clip982)\" cx=\"539.927\" cy=\"918.848\" r=\"14.4\" fill=\"#009af9\" fill-rule=\"evenodd\" fill-opacity=\"1\" stroke=\"#000000\" stroke-opacity=\"1\" stroke-width=\"3.2\"/>\n",
       "<circle clip-path=\"url(#clip982)\" cx=\"642.929\" cy=\"1016.81\" r=\"14.4\" fill=\"#009af9\" fill-rule=\"evenodd\" fill-opacity=\"1\" stroke=\"#000000\" stroke-opacity=\"1\" stroke-width=\"3.2\"/>\n",
       "<circle clip-path=\"url(#clip982)\" cx=\"745.93\" cy=\"1282.2\" r=\"14.4\" fill=\"#009af9\" fill-rule=\"evenodd\" fill-opacity=\"1\" stroke=\"#000000\" stroke-opacity=\"1\" stroke-width=\"3.2\"/>\n",
       "<circle clip-path=\"url(#clip982)\" cx=\"848.932\" cy=\"1218.07\" r=\"14.4\" fill=\"#009af9\" fill-rule=\"evenodd\" fill-opacity=\"1\" stroke=\"#000000\" stroke-opacity=\"1\" stroke-width=\"3.2\"/>\n",
       "<circle clip-path=\"url(#clip982)\" cx=\"951.934\" cy=\"1289.43\" r=\"14.4\" fill=\"#009af9\" fill-rule=\"evenodd\" fill-opacity=\"1\" stroke=\"#000000\" stroke-opacity=\"1\" stroke-width=\"3.2\"/>\n",
       "<circle clip-path=\"url(#clip982)\" cx=\"1054.94\" cy=\"1205.96\" r=\"14.4\" fill=\"#009af9\" fill-rule=\"evenodd\" fill-opacity=\"1\" stroke=\"#000000\" stroke-opacity=\"1\" stroke-width=\"3.2\"/>\n",
       "<circle clip-path=\"url(#clip982)\" cx=\"1157.94\" cy=\"1445.72\" r=\"14.4\" fill=\"#009af9\" fill-rule=\"evenodd\" fill-opacity=\"1\" stroke=\"#000000\" stroke-opacity=\"1\" stroke-width=\"3.2\"/>\n",
       "<circle clip-path=\"url(#clip982)\" cx=\"1260.94\" cy=\"1267.6\" r=\"14.4\" fill=\"#009af9\" fill-rule=\"evenodd\" fill-opacity=\"1\" stroke=\"#000000\" stroke-opacity=\"1\" stroke-width=\"3.2\"/>\n",
       "<circle clip-path=\"url(#clip982)\" cx=\"1363.94\" cy=\"1280.32\" r=\"14.4\" fill=\"#009af9\" fill-rule=\"evenodd\" fill-opacity=\"1\" stroke=\"#000000\" stroke-opacity=\"1\" stroke-width=\"3.2\"/>\n",
       "<circle clip-path=\"url(#clip982)\" cx=\"1466.94\" cy=\"968.919\" r=\"14.4\" fill=\"#009af9\" fill-rule=\"evenodd\" fill-opacity=\"1\" stroke=\"#000000\" stroke-opacity=\"1\" stroke-width=\"3.2\"/>\n",
       "<circle clip-path=\"url(#clip982)\" cx=\"1569.94\" cy=\"1153.84\" r=\"14.4\" fill=\"#009af9\" fill-rule=\"evenodd\" fill-opacity=\"1\" stroke=\"#000000\" stroke-opacity=\"1\" stroke-width=\"3.2\"/>\n",
       "<circle clip-path=\"url(#clip982)\" cx=\"1672.95\" cy=\"1133.89\" r=\"14.4\" fill=\"#009af9\" fill-rule=\"evenodd\" fill-opacity=\"1\" stroke=\"#000000\" stroke-opacity=\"1\" stroke-width=\"3.2\"/>\n",
       "<circle clip-path=\"url(#clip982)\" cx=\"1775.95\" cy=\"1007.72\" r=\"14.4\" fill=\"#009af9\" fill-rule=\"evenodd\" fill-opacity=\"1\" stroke=\"#000000\" stroke-opacity=\"1\" stroke-width=\"3.2\"/>\n",
       "<circle clip-path=\"url(#clip982)\" cx=\"1878.95\" cy=\"806.413\" r=\"14.4\" fill=\"#009af9\" fill-rule=\"evenodd\" fill-opacity=\"1\" stroke=\"#000000\" stroke-opacity=\"1\" stroke-width=\"3.2\"/>\n",
       "<circle clip-path=\"url(#clip982)\" cx=\"1981.95\" cy=\"605.628\" r=\"14.4\" fill=\"#009af9\" fill-rule=\"evenodd\" fill-opacity=\"1\" stroke=\"#000000\" stroke-opacity=\"1\" stroke-width=\"3.2\"/>\n",
       "<circle clip-path=\"url(#clip982)\" cx=\"2084.95\" cy=\"473.167\" r=\"14.4\" fill=\"#009af9\" fill-rule=\"evenodd\" fill-opacity=\"1\" stroke=\"#000000\" stroke-opacity=\"1\" stroke-width=\"3.2\"/>\n",
       "<circle clip-path=\"url(#clip982)\" cx=\"2187.95\" cy=\"358.232\" r=\"14.4\" fill=\"#009af9\" fill-rule=\"evenodd\" fill-opacity=\"1\" stroke=\"#000000\" stroke-opacity=\"1\" stroke-width=\"3.2\"/>\n",
       "<circle clip-path=\"url(#clip982)\" cx=\"2290.95\" cy=\"138.81\" r=\"14.4\" fill=\"#009af9\" fill-rule=\"evenodd\" fill-opacity=\"1\" stroke=\"#000000\" stroke-opacity=\"1\" stroke-width=\"3.2\"/>\n",
       "<polyline clip-path=\"url(#clip982)\" style=\"stroke:#e26f46; stroke-linecap:round; stroke-linejoin:round; stroke-width:4; stroke-opacity:1; fill:none\" points=\"230.922,651.228 333.924,801.429 436.926,932.854 539.927,1045.5 642.929,1139.38 745.93,1214.48 848.932,1270.81 951.934,1308.36 1054.94,1327.13 1157.94,1327.13 1260.94,1308.36 1363.94,1270.81 1466.94,1214.48 1569.94,1139.38 1672.95,1045.5 1775.95,932.854 1878.95,801.429 1981.95,651.228 2084.95,482.253 2187.95,294.502 2290.95,87.9763 \"/>\n",
       "<path clip-path=\"url(#clip980)\" d=\"M241.909 250.738 L659.207 250.738 L659.207 95.2176 L241.909 95.2176  Z\" fill=\"#ffffff\" fill-rule=\"evenodd\" fill-opacity=\"1\"/>\n",
       "<polyline clip-path=\"url(#clip980)\" style=\"stroke:#000000; stroke-linecap:round; stroke-linejoin:round; stroke-width:4; stroke-opacity:1; fill:none\" points=\"241.909,250.738 659.207,250.738 659.207,95.2176 241.909,95.2176 241.909,250.738 \"/>\n",
       "<circle clip-path=\"url(#clip980)\" cx=\"338.96\" cy=\"147.058\" r=\"23.04\" fill=\"#009af9\" fill-rule=\"evenodd\" fill-opacity=\"1\" stroke=\"#000000\" stroke-opacity=\"1\" stroke-width=\"5.12\"/>\n",
       "<path clip-path=\"url(#clip980)\" d=\"M454.922 142.347 L454.922 128.319 L459.181 128.319 L459.181 164.338 L454.922 164.338 L454.922 160.449 Q453.579 162.763 451.519 163.898 Q449.482 165.009 446.612 165.009 Q441.913 165.009 438.95 161.259 Q436.01 157.509 436.01 151.398 Q436.01 145.287 438.95 141.537 Q441.913 137.787 446.612 137.787 Q449.482 137.787 451.519 138.921 Q453.579 140.032 454.922 142.347 M440.408 151.398 Q440.408 156.097 442.329 158.782 Q444.274 161.444 447.653 161.444 Q451.033 161.444 452.977 158.782 Q454.922 156.097 454.922 151.398 Q454.922 146.699 452.977 144.037 Q451.033 141.352 447.653 141.352 Q444.274 141.352 442.329 144.037 Q440.408 146.699 440.408 151.398 Z\" fill=\"#000000\" fill-rule=\"evenodd\" fill-opacity=\"1\" /><path clip-path=\"url(#clip980)\" d=\"M479.737 151.305 Q474.575 151.305 472.584 152.486 Q470.593 153.666 470.593 156.514 Q470.593 158.782 472.075 160.125 Q473.579 161.444 476.149 161.444 Q479.69 161.444 481.82 158.944 Q483.973 156.421 483.973 152.254 L483.973 151.305 L479.737 151.305 M488.232 149.546 L488.232 164.338 L483.973 164.338 L483.973 160.402 Q482.514 162.763 480.338 163.898 Q478.163 165.009 475.014 165.009 Q471.033 165.009 468.672 162.787 Q466.334 160.541 466.334 156.791 Q466.334 152.416 469.251 150.194 Q472.19 147.972 478.001 147.972 L483.973 147.972 L483.973 147.555 Q483.973 144.615 482.028 143.018 Q480.107 141.398 476.612 141.398 Q474.389 141.398 472.283 141.93 Q470.176 142.463 468.232 143.527 L468.232 139.592 Q470.57 138.69 472.769 138.25 Q474.968 137.787 477.051 137.787 Q482.676 137.787 485.454 140.703 Q488.232 143.62 488.232 149.546 Z\" fill=\"#000000\" fill-rule=\"evenodd\" fill-opacity=\"1\" /><path clip-path=\"url(#clip980)\" d=\"M501.218 131.051 L501.218 138.412 L509.991 138.412 L509.991 141.722 L501.218 141.722 L501.218 155.796 Q501.218 158.967 502.074 159.87 Q502.954 160.773 505.616 160.773 L509.991 160.773 L509.991 164.338 L505.616 164.338 Q500.686 164.338 498.811 162.509 Q496.936 160.657 496.936 155.796 L496.936 141.722 L493.811 141.722 L493.811 138.412 L496.936 138.412 L496.936 131.051 L501.218 131.051 Z\" fill=\"#000000\" fill-rule=\"evenodd\" fill-opacity=\"1\" /><path clip-path=\"url(#clip980)\" d=\"M527.375 151.305 Q522.213 151.305 520.222 152.486 Q518.232 153.666 518.232 156.514 Q518.232 158.782 519.713 160.125 Q521.218 161.444 523.787 161.444 Q527.329 161.444 529.459 158.944 Q531.611 156.421 531.611 152.254 L531.611 151.305 L527.375 151.305 M535.871 149.546 L535.871 164.338 L531.611 164.338 L531.611 160.402 Q530.153 162.763 527.977 163.898 Q525.801 165.009 522.653 165.009 Q518.672 165.009 516.31 162.787 Q513.973 160.541 513.973 156.791 Q513.973 152.416 516.889 150.194 Q519.829 147.972 525.639 147.972 L531.611 147.972 L531.611 147.555 Q531.611 144.615 529.667 143.018 Q527.746 141.398 524.25 141.398 Q522.028 141.398 519.922 141.93 Q517.815 142.463 515.871 143.527 L515.871 139.592 Q518.209 138.69 520.408 138.25 Q522.607 137.787 524.69 137.787 Q530.315 137.787 533.093 140.703 Q535.871 143.62 535.871 149.546 Z\" fill=\"#000000\" fill-rule=\"evenodd\" fill-opacity=\"1\" /><polyline clip-path=\"url(#clip980)\" style=\"stroke:#e26f46; stroke-linecap:round; stroke-linejoin:round; stroke-width:4; stroke-opacity:1; fill:none\" points=\"266.172,198.898 411.747,198.898 \"/>\n",
       "<path clip-path=\"url(#clip980)\" d=\"M436.01 181.618 L465.246 181.618 L465.246 185.553 L452.977 185.553 L452.977 216.178 L448.278 216.178 L448.278 185.553 L436.01 185.553 L436.01 181.618 Z\" fill=\"#000000\" fill-rule=\"evenodd\" fill-opacity=\"1\" /><path clip-path=\"url(#clip980)\" d=\"M477.63 194.233 Q476.913 193.817 476.056 193.631 Q475.223 193.423 474.204 193.423 Q470.593 193.423 468.649 195.784 Q466.727 198.122 466.727 202.52 L466.727 216.178 L462.445 216.178 L462.445 190.252 L466.727 190.252 L466.727 194.28 Q468.07 191.918 470.223 190.784 Q472.376 189.627 475.454 189.627 Q475.894 189.627 476.426 189.696 Q476.959 189.743 477.607 189.858 L477.63 194.233 Z\" fill=\"#000000\" fill-rule=\"evenodd\" fill-opacity=\"1\" /><path clip-path=\"url(#clip980)\" d=\"M481.658 205.946 L481.658 190.252 L485.917 190.252 L485.917 205.784 Q485.917 209.465 487.352 211.316 Q488.787 213.145 491.658 213.145 Q495.107 213.145 497.098 210.946 Q499.112 208.747 499.112 204.951 L499.112 190.252 L503.371 190.252 L503.371 216.178 L499.112 216.178 L499.112 212.196 Q497.561 214.557 495.5 215.715 Q493.463 216.849 490.755 216.849 Q486.287 216.849 483.973 214.071 Q481.658 211.293 481.658 205.946 M492.375 189.627 L492.375 189.627 Z\" fill=\"#000000\" fill-rule=\"evenodd\" fill-opacity=\"1\" /><path clip-path=\"url(#clip980)\" d=\"M534.32 202.15 L534.32 204.233 L514.736 204.233 Q515.014 208.631 517.375 210.946 Q519.76 213.238 523.996 213.238 Q526.449 213.238 528.741 212.636 Q531.056 212.034 533.324 210.83 L533.324 214.858 Q531.033 215.83 528.625 216.34 Q526.218 216.849 523.741 216.849 Q517.537 216.849 513.903 213.238 Q510.292 209.627 510.292 203.469 Q510.292 197.104 513.718 193.377 Q517.167 189.627 523 189.627 Q528.232 189.627 531.264 193.006 Q534.32 196.363 534.32 202.15 M530.06 200.9 Q530.014 197.405 528.093 195.321 Q526.195 193.238 523.047 193.238 Q519.482 193.238 517.329 195.252 Q515.199 197.266 514.875 200.923 L530.06 200.9 Z\" fill=\"#000000\" fill-rule=\"evenodd\" fill-opacity=\"1\" /><path clip-path=\"url(#clip980)\" d=\"M556.38 180.159 L560.639 180.159 L560.639 216.178 L556.38 216.178 L556.38 180.159 Z\" fill=\"#000000\" fill-rule=\"evenodd\" fill-opacity=\"1\" /><path clip-path=\"url(#clip980)\" d=\"M569.551 190.252 L573.81 190.252 L573.81 216.178 L569.551 216.178 L569.551 190.252 M569.551 180.159 L573.81 180.159 L573.81 185.553 L569.551 185.553 L569.551 180.159 Z\" fill=\"#000000\" fill-rule=\"evenodd\" fill-opacity=\"1\" /><path clip-path=\"url(#clip980)\" d=\"M604.273 200.529 L604.273 216.178 L600.014 216.178 L600.014 200.668 Q600.014 196.988 598.579 195.159 Q597.143 193.33 594.273 193.33 Q590.824 193.33 588.833 195.53 Q586.843 197.729 586.843 201.525 L586.843 216.178 L582.56 216.178 L582.56 190.252 L586.843 190.252 L586.843 194.28 Q588.37 191.942 590.43 190.784 Q592.514 189.627 595.222 189.627 Q599.69 189.627 601.981 192.405 Q604.273 195.159 604.273 200.529 Z\" fill=\"#000000\" fill-rule=\"evenodd\" fill-opacity=\"1\" /><path clip-path=\"url(#clip980)\" d=\"M634.944 202.15 L634.944 204.233 L615.361 204.233 Q615.639 208.631 618 210.946 Q620.384 213.238 624.62 213.238 Q627.074 213.238 629.365 212.636 Q631.68 212.034 633.949 210.83 L633.949 214.858 Q631.657 215.83 629.25 216.34 Q626.842 216.849 624.365 216.849 Q618.162 216.849 614.528 213.238 Q610.916 209.627 610.916 203.469 Q610.916 197.104 614.342 193.377 Q617.791 189.627 623.625 189.627 Q628.856 189.627 631.889 193.006 Q634.944 196.363 634.944 202.15 M630.685 200.9 Q630.639 197.405 628.717 195.321 Q626.819 193.238 623.671 193.238 Q620.106 193.238 617.953 195.252 Q615.824 197.266 615.5 200.923 L630.685 200.9 Z\" fill=\"#000000\" fill-rule=\"evenodd\" fill-opacity=\"1\" /></svg>\n"
      ]
     },
     "execution_count": 95,
     "metadata": {},
     "output_type": "execute_result"
    }
   ],
   "source": [
    "using Plots\n",
    "using Polynomials\n",
    "scatter(x,y_observed, label=\"data\")\n",
    "plot!(x,y_true, label=\"True line\")"
   ]
  },
  {
   "cell_type": "code",
   "execution_count": 96,
   "id": "1865cf59",
   "metadata": {},
   "outputs": [
    {
     "data": {
      "text/html": [
       "1.4619707250510945 &#43; 2.7061174416743365&#8729;x &#43; 0.9370705119829652&#8729;x<sup>2</sup>"
      ],
      "text/latex": [
       "$1.4619707250510945 + 2.7061174416743365\\cdot x + 0.9370705119829652\\cdot x^{2}$"
      ],
      "text/plain": [
       "Polynomial(1.4619707250510945 + 2.7061174416743365*x + 0.9370705119829652*x^2)"
      ]
     },
     "execution_count": 96,
     "metadata": {},
     "output_type": "execute_result"
    }
   ],
   "source": [
    "line_fit= fit(x,y_observed,2)"
   ]
  },
  {
   "cell_type": "code",
   "execution_count": 68,
   "id": "795194db",
   "metadata": {},
   "outputs": [
    {
     "data": {
      "text/plain": [
       "3-element Vector{Float64}:\n",
       " -5.519429963960699\n",
       "  2.851768487082851\n",
       "  1.027357501813223"
      ]
     },
     "execution_count": 68,
     "metadata": {},
     "output_type": "execute_result"
    }
   ],
   "source": [
    "fit_coeff= coeffs(line_fit)"
   ]
  },
  {
   "cell_type": "code",
   "execution_count": 69,
   "id": "cb6e66ac",
   "metadata": {},
   "outputs": [
    {
     "data": {
      "text/plain": [
       "21-element Vector{Float64}:\n",
       "  68.6986353465331\n",
       "  52.030611299164704\n",
       "  37.41730225542277\n",
       "  24.858708215307278\n",
       "  14.354829178818225\n",
       "   5.9056651459556235\n",
       "  -0.4887838832805329\n",
       "  -4.828517908890245\n",
       "  -7.113536930873509\n",
       "  -7.343840949230327\n",
       "  -5.519429963960699\n",
       "  -1.640303975064626\n",
       "   4.293537017457897\n",
       "  12.282093013606861\n",
       "  22.325364013382273\n",
       "  34.42335001678413\n",
       "  48.57605102381243\n",
       "  64.78346703446718\n",
       "  83.04559804874839\n",
       " 103.36244406665602\n",
       " 125.73400508819012"
      ]
     },
     "execution_count": 69,
     "metadata": {},
     "output_type": "execute_result"
    }
   ],
   "source": [
    "y_fitted=fit_coeff[1] .+ (fit_coeff[2].*(x)) .+ (fit_coeff[3] .*(x.^2))"
   ]
  },
  {
   "cell_type": "code",
   "execution_count": 70,
   "id": "2eac1c88",
   "metadata": {},
   "outputs": [
    {
     "data": {
      "image/svg+xml": [
       "<?xml version=\"1.0\" encoding=\"utf-8\"?>\n",
       "<svg xmlns=\"http://www.w3.org/2000/svg\" xmlns:xlink=\"http://www.w3.org/1999/xlink\" width=\"600\" height=\"400\" viewBox=\"0 0 2400 1600\">\n",
       "<defs>\n",
       "  <clipPath id=\"clip660\">\n",
       "    <rect x=\"0\" y=\"0\" width=\"2400\" height=\"1600\"/>\n",
       "  </clipPath>\n",
       "</defs>\n",
       "<path clip-path=\"url(#clip660)\" d=\"M0 1600 L2400 1600 L2400 0 L0 0  Z\" fill=\"#ffffff\" fill-rule=\"evenodd\" fill-opacity=\"1\"/>\n",
       "<defs>\n",
       "  <clipPath id=\"clip661\">\n",
       "    <rect x=\"480\" y=\"0\" width=\"1681\" height=\"1600\"/>\n",
       "  </clipPath>\n",
       "</defs>\n",
       "<path clip-path=\"url(#clip660)\" d=\"M169.121 1486.45 L2352.76 1486.45 L2352.76 47.2441 L169.121 47.2441  Z\" fill=\"#ffffff\" fill-rule=\"evenodd\" fill-opacity=\"1\"/>\n",
       "<defs>\n",
       "  <clipPath id=\"clip662\">\n",
       "    <rect x=\"169\" y=\"47\" width=\"2185\" height=\"1440\"/>\n",
       "  </clipPath>\n",
       "</defs>\n",
       "<polyline clip-path=\"url(#clip662)\" style=\"stroke:#000000; stroke-linecap:round; stroke-linejoin:round; stroke-width:2; stroke-opacity:0.1; fill:none\" points=\"230.922,1486.45 230.922,47.2441 \"/>\n",
       "<polyline clip-path=\"url(#clip662)\" style=\"stroke:#000000; stroke-linecap:round; stroke-linejoin:round; stroke-width:2; stroke-opacity:0.1; fill:none\" points=\"745.93,1486.45 745.93,47.2441 \"/>\n",
       "<polyline clip-path=\"url(#clip662)\" style=\"stroke:#000000; stroke-linecap:round; stroke-linejoin:round; stroke-width:2; stroke-opacity:0.1; fill:none\" points=\"1260.94,1486.45 1260.94,47.2441 \"/>\n",
       "<polyline clip-path=\"url(#clip662)\" style=\"stroke:#000000; stroke-linecap:round; stroke-linejoin:round; stroke-width:2; stroke-opacity:0.1; fill:none\" points=\"1775.95,1486.45 1775.95,47.2441 \"/>\n",
       "<polyline clip-path=\"url(#clip662)\" style=\"stroke:#000000; stroke-linecap:round; stroke-linejoin:round; stroke-width:2; stroke-opacity:0.1; fill:none\" points=\"2290.95,1486.45 2290.95,47.2441 \"/>\n",
       "<polyline clip-path=\"url(#clip660)\" style=\"stroke:#000000; stroke-linecap:round; stroke-linejoin:round; stroke-width:4; stroke-opacity:1; fill:none\" points=\"169.121,1486.45 2352.76,1486.45 \"/>\n",
       "<polyline clip-path=\"url(#clip660)\" style=\"stroke:#000000; stroke-linecap:round; stroke-linejoin:round; stroke-width:4; stroke-opacity:1; fill:none\" points=\"230.922,1486.45 230.922,1467.55 \"/>\n",
       "<polyline clip-path=\"url(#clip660)\" style=\"stroke:#000000; stroke-linecap:round; stroke-linejoin:round; stroke-width:4; stroke-opacity:1; fill:none\" points=\"745.93,1486.45 745.93,1467.55 \"/>\n",
       "<polyline clip-path=\"url(#clip660)\" style=\"stroke:#000000; stroke-linecap:round; stroke-linejoin:round; stroke-width:4; stroke-opacity:1; fill:none\" points=\"1260.94,1486.45 1260.94,1467.55 \"/>\n",
       "<polyline clip-path=\"url(#clip660)\" style=\"stroke:#000000; stroke-linecap:round; stroke-linejoin:round; stroke-width:4; stroke-opacity:1; fill:none\" points=\"1775.95,1486.45 1775.95,1467.55 \"/>\n",
       "<polyline clip-path=\"url(#clip660)\" style=\"stroke:#000000; stroke-linecap:round; stroke-linejoin:round; stroke-width:4; stroke-opacity:1; fill:none\" points=\"2290.95,1486.45 2290.95,1467.55 \"/>\n",
       "<path clip-path=\"url(#clip660)\" d=\"M184.985 1532.02 L214.661 1532.02 L214.661 1535.95 L184.985 1535.95 L184.985 1532.02 Z\" fill=\"#000000\" fill-rule=\"evenodd\" fill-opacity=\"1\" /><path clip-path=\"url(#clip660)\" d=\"M225.564 1544.91 L233.202 1544.91 L233.202 1518.55 L224.892 1520.21 L224.892 1515.95 L233.156 1514.29 L237.832 1514.29 L237.832 1544.91 L245.471 1544.91 L245.471 1548.85 L225.564 1548.85 L225.564 1544.91 Z\" fill=\"#000000\" fill-rule=\"evenodd\" fill-opacity=\"1\" /><path clip-path=\"url(#clip660)\" d=\"M264.915 1517.37 Q261.304 1517.37 259.475 1520.93 Q257.67 1524.47 257.67 1531.6 Q257.67 1538.71 259.475 1542.27 Q261.304 1545.82 264.915 1545.82 Q268.549 1545.82 270.355 1542.27 Q272.184 1538.71 272.184 1531.6 Q272.184 1524.47 270.355 1520.93 Q268.549 1517.37 264.915 1517.37 M264.915 1513.66 Q270.725 1513.66 273.781 1518.27 Q276.86 1522.85 276.86 1531.6 Q276.86 1540.33 273.781 1544.94 Q270.725 1549.52 264.915 1549.52 Q259.105 1549.52 256.026 1544.94 Q252.971 1540.33 252.971 1531.6 Q252.971 1522.85 256.026 1518.27 Q259.105 1513.66 264.915 1513.66 Z\" fill=\"#000000\" fill-rule=\"evenodd\" fill-opacity=\"1\" /><path clip-path=\"url(#clip660)\" d=\"M715.572 1532.02 L745.248 1532.02 L745.248 1535.95 L715.572 1535.95 L715.572 1532.02 Z\" fill=\"#000000\" fill-rule=\"evenodd\" fill-opacity=\"1\" /><path clip-path=\"url(#clip660)\" d=\"M755.386 1514.29 L773.743 1514.29 L773.743 1518.22 L759.669 1518.22 L759.669 1526.7 Q760.687 1526.35 761.706 1526.19 Q762.724 1526 763.743 1526 Q769.53 1526 772.909 1529.17 Q776.289 1532.34 776.289 1537.76 Q776.289 1543.34 772.817 1546.44 Q769.345 1549.52 763.025 1549.52 Q760.849 1549.52 758.581 1549.15 Q756.335 1548.78 753.928 1548.04 L753.928 1543.34 Q756.011 1544.47 758.234 1545.03 Q760.456 1545.58 762.933 1545.58 Q766.937 1545.58 769.275 1543.48 Q771.613 1541.37 771.613 1537.76 Q771.613 1534.15 769.275 1532.04 Q766.937 1529.94 762.933 1529.94 Q761.058 1529.94 759.183 1530.35 Q757.331 1530.77 755.386 1531.65 L755.386 1514.29 Z\" fill=\"#000000\" fill-rule=\"evenodd\" fill-opacity=\"1\" /><path clip-path=\"url(#clip660)\" d=\"M1260.94 1517.37 Q1257.33 1517.37 1255.5 1520.93 Q1253.69 1524.47 1253.69 1531.6 Q1253.69 1538.71 1255.5 1542.27 Q1257.33 1545.82 1260.94 1545.82 Q1264.57 1545.82 1266.38 1542.27 Q1268.21 1538.71 1268.21 1531.6 Q1268.21 1524.47 1266.38 1520.93 Q1264.57 1517.37 1260.94 1517.37 M1260.94 1513.66 Q1266.75 1513.66 1269.8 1518.27 Q1272.88 1522.85 1272.88 1531.6 Q1272.88 1540.33 1269.8 1544.94 Q1266.75 1549.52 1260.94 1549.52 Q1255.13 1549.52 1252.05 1544.94 Q1248.99 1540.33 1248.99 1531.6 Q1248.99 1522.85 1252.05 1518.27 Q1255.13 1513.66 1260.94 1513.66 Z\" fill=\"#000000\" fill-rule=\"evenodd\" fill-opacity=\"1\" /><path clip-path=\"url(#clip660)\" d=\"M1766.22 1514.29 L1784.58 1514.29 L1784.58 1518.22 L1770.51 1518.22 L1770.51 1526.7 Q1771.53 1526.35 1772.54 1526.19 Q1773.56 1526 1774.58 1526 Q1780.37 1526 1783.75 1529.17 Q1787.13 1532.34 1787.13 1537.76 Q1787.13 1543.34 1783.66 1546.44 Q1780.18 1549.52 1773.86 1549.52 Q1771.69 1549.52 1769.42 1549.15 Q1767.17 1548.78 1764.77 1548.04 L1764.77 1543.34 Q1766.85 1544.47 1769.07 1545.03 Q1771.29 1545.58 1773.77 1545.58 Q1777.78 1545.58 1780.11 1543.48 Q1782.45 1541.37 1782.45 1537.76 Q1782.45 1534.15 1780.11 1532.04 Q1777.78 1529.94 1773.77 1529.94 Q1771.9 1529.94 1770.02 1530.35 Q1768.17 1530.77 1766.22 1531.65 L1766.22 1514.29 Z\" fill=\"#000000\" fill-rule=\"evenodd\" fill-opacity=\"1\" /><path clip-path=\"url(#clip660)\" d=\"M2265.64 1544.91 L2273.28 1544.91 L2273.28 1518.55 L2264.97 1520.21 L2264.97 1515.95 L2273.24 1514.29 L2277.91 1514.29 L2277.91 1544.91 L2285.55 1544.91 L2285.55 1548.85 L2265.64 1548.85 L2265.64 1544.91 Z\" fill=\"#000000\" fill-rule=\"evenodd\" fill-opacity=\"1\" /><path clip-path=\"url(#clip660)\" d=\"M2304.99 1517.37 Q2301.38 1517.37 2299.55 1520.93 Q2297.75 1524.47 2297.75 1531.6 Q2297.75 1538.71 2299.55 1542.27 Q2301.38 1545.82 2304.99 1545.82 Q2308.63 1545.82 2310.43 1542.27 Q2312.26 1538.71 2312.26 1531.6 Q2312.26 1524.47 2310.43 1520.93 Q2308.63 1517.37 2304.99 1517.37 M2304.99 1513.66 Q2310.8 1513.66 2313.86 1518.27 Q2316.94 1522.85 2316.94 1531.6 Q2316.94 1540.33 2313.86 1544.94 Q2310.8 1549.52 2304.99 1549.52 Q2299.18 1549.52 2296.11 1544.94 Q2293.05 1540.33 2293.05 1531.6 Q2293.05 1522.85 2296.11 1518.27 Q2299.18 1513.66 2304.99 1513.66 Z\" fill=\"#000000\" fill-rule=\"evenodd\" fill-opacity=\"1\" /><polyline clip-path=\"url(#clip662)\" style=\"stroke:#000000; stroke-linecap:round; stroke-linejoin:round; stroke-width:2; stroke-opacity:0.1; fill:none\" points=\"169.121,1282.72 2352.76,1282.72 \"/>\n",
       "<polyline clip-path=\"url(#clip662)\" style=\"stroke:#000000; stroke-linecap:round; stroke-linejoin:round; stroke-width:2; stroke-opacity:0.1; fill:none\" points=\"169.121,1002.7 2352.76,1002.7 \"/>\n",
       "<polyline clip-path=\"url(#clip662)\" style=\"stroke:#000000; stroke-linecap:round; stroke-linejoin:round; stroke-width:2; stroke-opacity:0.1; fill:none\" points=\"169.121,722.683 2352.76,722.683 \"/>\n",
       "<polyline clip-path=\"url(#clip662)\" style=\"stroke:#000000; stroke-linecap:round; stroke-linejoin:round; stroke-width:2; stroke-opacity:0.1; fill:none\" points=\"169.121,442.666 2352.76,442.666 \"/>\n",
       "<polyline clip-path=\"url(#clip662)\" style=\"stroke:#000000; stroke-linecap:round; stroke-linejoin:round; stroke-width:2; stroke-opacity:0.1; fill:none\" points=\"169.121,162.648 2352.76,162.648 \"/>\n",
       "<polyline clip-path=\"url(#clip660)\" style=\"stroke:#000000; stroke-linecap:round; stroke-linejoin:round; stroke-width:4; stroke-opacity:1; fill:none\" points=\"169.121,1486.45 169.121,47.2441 \"/>\n",
       "<polyline clip-path=\"url(#clip660)\" style=\"stroke:#000000; stroke-linecap:round; stroke-linejoin:round; stroke-width:4; stroke-opacity:1; fill:none\" points=\"169.121,1282.72 188.019,1282.72 \"/>\n",
       "<polyline clip-path=\"url(#clip660)\" style=\"stroke:#000000; stroke-linecap:round; stroke-linejoin:round; stroke-width:4; stroke-opacity:1; fill:none\" points=\"169.121,1002.7 188.019,1002.7 \"/>\n",
       "<polyline clip-path=\"url(#clip660)\" style=\"stroke:#000000; stroke-linecap:round; stroke-linejoin:round; stroke-width:4; stroke-opacity:1; fill:none\" points=\"169.121,722.683 188.019,722.683 \"/>\n",
       "<polyline clip-path=\"url(#clip660)\" style=\"stroke:#000000; stroke-linecap:round; stroke-linejoin:round; stroke-width:4; stroke-opacity:1; fill:none\" points=\"169.121,442.666 188.019,442.666 \"/>\n",
       "<polyline clip-path=\"url(#clip660)\" style=\"stroke:#000000; stroke-linecap:round; stroke-linejoin:round; stroke-width:4; stroke-opacity:1; fill:none\" points=\"169.121,162.648 188.019,162.648 \"/>\n",
       "<path clip-path=\"url(#clip660)\" d=\"M121.177 1268.52 Q117.566 1268.52 115.737 1272.08 Q113.932 1275.62 113.932 1282.75 Q113.932 1289.86 115.737 1293.43 Q117.566 1296.97 121.177 1296.97 Q124.811 1296.97 126.617 1293.43 Q128.445 1289.86 128.445 1282.75 Q128.445 1275.62 126.617 1272.08 Q124.811 1268.52 121.177 1268.52 M121.177 1264.81 Q126.987 1264.81 130.043 1269.42 Q133.121 1274 133.121 1282.75 Q133.121 1291.48 130.043 1296.09 Q126.987 1300.67 121.177 1300.67 Q115.367 1300.67 112.288 1296.09 Q109.233 1291.48 109.233 1282.75 Q109.233 1274 112.288 1269.42 Q115.367 1264.81 121.177 1264.81 Z\" fill=\"#000000\" fill-rule=\"evenodd\" fill-opacity=\"1\" /><path clip-path=\"url(#clip660)\" d=\"M95.1817 1001.35 Q98.5382 1002.06 100.413 1004.33 Q102.311 1006.6 102.311 1009.93 Q102.311 1015.05 98.7928 1017.85 Q95.2743 1020.65 88.7928 1020.65 Q86.6169 1020.65 84.3021 1020.21 Q82.0105 1019.8 79.5568 1018.94 L79.5568 1014.43 Q81.5012 1015.56 83.816 1016.14 Q86.1308 1016.72 88.654 1016.72 Q93.0521 1016.72 95.3437 1014.98 Q97.6585 1013.25 97.6585 1009.93 Q97.6585 1006.88 95.5058 1005.17 Q93.3762 1003.43 89.5567 1003.43 L85.529 1003.43 L85.529 999.588 L89.7419 999.588 Q93.191 999.588 95.0197 998.222 Q96.8484 996.833 96.8484 994.241 Q96.8484 991.579 94.9502 990.167 Q93.0752 988.731 89.5567 988.731 Q87.6354 988.731 85.4364 989.148 Q83.2373 989.565 80.5984 990.444 L80.5984 986.278 Q83.2605 985.537 85.5753 985.167 Q87.9132 984.796 89.9734 984.796 Q95.2974 984.796 98.3993 987.227 Q101.501 989.634 101.501 993.754 Q101.501 996.625 99.8576 998.616 Q98.2141 1000.58 95.1817 1001.35 Z\" fill=\"#000000\" fill-rule=\"evenodd\" fill-opacity=\"1\" /><path clip-path=\"url(#clip660)\" d=\"M121.177 988.5 Q117.566 988.5 115.737 992.065 Q113.932 995.606 113.932 1002.74 Q113.932 1009.84 115.737 1013.41 Q117.566 1016.95 121.177 1016.95 Q124.811 1016.95 126.617 1013.41 Q128.445 1009.84 128.445 1002.74 Q128.445 995.606 126.617 992.065 Q124.811 988.5 121.177 988.5 M121.177 984.796 Q126.987 984.796 130.043 989.403 Q133.121 993.986 133.121 1002.74 Q133.121 1011.46 130.043 1016.07 Q126.987 1020.65 121.177 1020.65 Q115.367 1020.65 112.288 1016.07 Q109.233 1011.46 109.233 1002.74 Q109.233 993.986 112.288 989.403 Q115.367 984.796 121.177 984.796 Z\" fill=\"#000000\" fill-rule=\"evenodd\" fill-opacity=\"1\" /><path clip-path=\"url(#clip660)\" d=\"M91.5938 720.82 Q88.4456 720.82 86.5938 722.973 Q84.7651 725.125 84.7651 728.875 Q84.7651 732.602 86.5938 734.778 Q88.4456 736.931 91.5938 736.931 Q94.7419 736.931 96.5706 734.778 Q98.4224 732.602 98.4224 728.875 Q98.4224 725.125 96.5706 722.973 Q94.7419 720.82 91.5938 720.82 M100.876 706.167 L100.876 710.426 Q99.1169 709.593 97.3113 709.153 Q95.5289 708.714 93.7697 708.714 Q89.1401 708.714 86.6864 711.839 Q84.2558 714.964 83.9086 721.283 Q85.2743 719.269 87.3345 718.204 Q89.3947 717.116 91.8715 717.116 Q97.0798 717.116 100.089 720.288 Q103.121 723.436 103.121 728.875 Q103.121 734.2 99.9733 737.417 Q96.8252 740.635 91.5938 740.635 Q85.5984 740.635 82.4271 736.051 Q79.2559 731.445 79.2559 722.718 Q79.2559 714.524 83.1447 709.663 Q87.0336 704.778 93.5845 704.778 Q95.3437 704.778 97.1261 705.126 Q98.9317 705.473 100.876 706.167 Z\" fill=\"#000000\" fill-rule=\"evenodd\" fill-opacity=\"1\" /><path clip-path=\"url(#clip660)\" d=\"M121.177 708.482 Q117.566 708.482 115.737 712.047 Q113.932 715.589 113.932 722.718 Q113.932 729.825 115.737 733.389 Q117.566 736.931 121.177 736.931 Q124.811 736.931 126.617 733.389 Q128.445 729.825 128.445 722.718 Q128.445 715.589 126.617 712.047 Q124.811 708.482 121.177 708.482 M121.177 704.778 Q126.987 704.778 130.043 709.385 Q133.121 713.968 133.121 722.718 Q133.121 731.445 130.043 736.051 Q126.987 740.635 121.177 740.635 Q115.367 740.635 112.288 736.051 Q109.233 731.445 109.233 722.718 Q109.233 713.968 112.288 709.385 Q115.367 704.778 121.177 704.778 Z\" fill=\"#000000\" fill-rule=\"evenodd\" fill-opacity=\"1\" /><path clip-path=\"url(#clip660)\" d=\"M81.154 459.228 L81.154 454.969 Q82.9133 455.802 84.7188 456.242 Q86.5243 456.682 88.2604 456.682 Q92.89 456.682 95.3206 453.58 Q97.7743 450.455 98.1215 444.112 Q96.7789 446.103 94.7187 447.168 Q92.6586 448.233 90.1586 448.233 Q84.9734 448.233 81.941 445.108 Q78.9318 441.96 78.9318 436.52 Q78.9318 431.196 82.0799 427.978 Q85.2281 424.761 90.4595 424.761 Q96.4548 424.761 99.603 429.367 Q102.774 433.95 102.774 442.7 Q102.774 450.872 98.8854 455.756 Q95.0197 460.617 88.4688 460.617 Q86.7095 460.617 84.904 460.27 Q83.0984 459.922 81.154 459.228 M90.4595 444.575 Q93.6076 444.575 95.4363 442.422 Q97.2882 440.27 97.2882 436.52 Q97.2882 432.793 95.4363 430.64 Q93.6076 428.464 90.4595 428.464 Q87.3114 428.464 85.4595 430.64 Q83.6308 432.793 83.6308 436.52 Q83.6308 440.27 85.4595 442.422 Q87.3114 444.575 90.4595 444.575 Z\" fill=\"#000000\" fill-rule=\"evenodd\" fill-opacity=\"1\" /><path clip-path=\"url(#clip660)\" d=\"M121.177 428.464 Q117.566 428.464 115.737 432.029 Q113.932 435.571 113.932 442.7 Q113.932 449.807 115.737 453.371 Q117.566 456.913 121.177 456.913 Q124.811 456.913 126.617 453.371 Q128.445 449.807 128.445 442.7 Q128.445 435.571 126.617 432.029 Q124.811 428.464 121.177 428.464 M121.177 424.761 Q126.987 424.761 130.043 429.367 Q133.121 433.95 133.121 442.7 Q133.121 451.427 130.043 456.034 Q126.987 460.617 121.177 460.617 Q115.367 460.617 112.288 456.034 Q109.233 451.427 109.233 442.7 Q109.233 433.95 112.288 429.367 Q115.367 424.761 121.177 424.761 Z\" fill=\"#000000\" fill-rule=\"evenodd\" fill-opacity=\"1\" /><path clip-path=\"url(#clip660)\" d=\"M51.6634 175.993 L59.3023 175.993 L59.3023 149.627 L50.9921 151.294 L50.9921 147.034 L59.256 145.368 L63.9319 145.368 L63.9319 175.993 L71.5707 175.993 L71.5707 179.928 L51.6634 179.928 L51.6634 175.993 Z\" fill=\"#000000\" fill-rule=\"evenodd\" fill-opacity=\"1\" /><path clip-path=\"url(#clip660)\" d=\"M85.0429 175.993 L101.362 175.993 L101.362 179.928 L79.4179 179.928 L79.4179 175.993 Q82.0799 173.238 86.6632 168.608 Q91.2697 163.956 92.4502 162.613 Q94.6956 160.09 95.5752 158.354 Q96.478 156.594 96.478 154.905 Q96.478 152.15 94.5336 150.414 Q92.6123 148.678 89.5104 148.678 Q87.3114 148.678 84.8577 149.442 Q82.4271 150.206 79.6494 151.757 L79.6494 147.034 Q82.4734 145.9 84.9271 145.321 Q87.3808 144.743 89.4178 144.743 Q94.7882 144.743 97.9826 147.428 Q101.177 150.113 101.177 154.604 Q101.177 156.733 100.367 158.655 Q99.5798 160.553 97.4734 163.145 Q96.8947 163.817 93.7928 167.034 Q90.691 170.229 85.0429 175.993 Z\" fill=\"#000000\" fill-rule=\"evenodd\" fill-opacity=\"1\" /><path clip-path=\"url(#clip660)\" d=\"M121.177 148.446 Q117.566 148.446 115.737 152.011 Q113.932 155.553 113.932 162.682 Q113.932 169.789 115.737 173.354 Q117.566 176.895 121.177 176.895 Q124.811 176.895 126.617 173.354 Q128.445 169.789 128.445 162.682 Q128.445 155.553 126.617 152.011 Q124.811 148.446 121.177 148.446 M121.177 144.743 Q126.987 144.743 130.043 149.349 Q133.121 153.932 133.121 162.682 Q133.121 171.409 130.043 176.016 Q126.987 180.599 121.177 180.599 Q115.367 180.599 112.288 176.016 Q109.233 171.409 109.233 162.682 Q109.233 153.932 112.288 149.349 Q115.367 144.743 121.177 144.743 Z\" fill=\"#000000\" fill-rule=\"evenodd\" fill-opacity=\"1\" /><circle clip-path=\"url(#clip662)\" cx=\"230.922\" cy=\"749.096\" r=\"14.4\" fill=\"#009af9\" fill-rule=\"evenodd\" fill-opacity=\"1\" stroke=\"#000000\" stroke-opacity=\"1\" stroke-width=\"3.2\"/>\n",
       "<circle clip-path=\"url(#clip662)\" cx=\"333.924\" cy=\"741.732\" r=\"14.4\" fill=\"#009af9\" fill-rule=\"evenodd\" fill-opacity=\"1\" stroke=\"#000000\" stroke-opacity=\"1\" stroke-width=\"3.2\"/>\n",
       "<circle clip-path=\"url(#clip662)\" cx=\"436.926\" cy=\"993.655\" r=\"14.4\" fill=\"#009af9\" fill-rule=\"evenodd\" fill-opacity=\"1\" stroke=\"#000000\" stroke-opacity=\"1\" stroke-width=\"3.2\"/>\n",
       "<circle clip-path=\"url(#clip662)\" cx=\"539.927\" cy=\"972.305\" r=\"14.4\" fill=\"#009af9\" fill-rule=\"evenodd\" fill-opacity=\"1\" stroke=\"#000000\" stroke-opacity=\"1\" stroke-width=\"3.2\"/>\n",
       "<circle clip-path=\"url(#clip662)\" cx=\"642.929\" cy=\"1095.41\" r=\"14.4\" fill=\"#009af9\" fill-rule=\"evenodd\" fill-opacity=\"1\" stroke=\"#000000\" stroke-opacity=\"1\" stroke-width=\"3.2\"/>\n",
       "<circle clip-path=\"url(#clip662)\" cx=\"745.93\" cy=\"1240.73\" r=\"14.4\" fill=\"#009af9\" fill-rule=\"evenodd\" fill-opacity=\"1\" stroke=\"#000000\" stroke-opacity=\"1\" stroke-width=\"3.2\"/>\n",
       "<circle clip-path=\"url(#clip662)\" cx=\"848.932\" cy=\"1263.19\" r=\"14.4\" fill=\"#009af9\" fill-rule=\"evenodd\" fill-opacity=\"1\" stroke=\"#000000\" stroke-opacity=\"1\" stroke-width=\"3.2\"/>\n",
       "<circle clip-path=\"url(#clip662)\" cx=\"951.934\" cy=\"1171.7\" r=\"14.4\" fill=\"#009af9\" fill-rule=\"evenodd\" fill-opacity=\"1\" stroke=\"#000000\" stroke-opacity=\"1\" stroke-width=\"3.2\"/>\n",
       "<circle clip-path=\"url(#clip662)\" cx=\"1054.94\" cy=\"1404.13\" r=\"14.4\" fill=\"#009af9\" fill-rule=\"evenodd\" fill-opacity=\"1\" stroke=\"#000000\" stroke-opacity=\"1\" stroke-width=\"3.2\"/>\n",
       "<circle clip-path=\"url(#clip662)\" cx=\"1157.94\" cy=\"1445.72\" r=\"14.4\" fill=\"#009af9\" fill-rule=\"evenodd\" fill-opacity=\"1\" stroke=\"#000000\" stroke-opacity=\"1\" stroke-width=\"3.2\"/>\n",
       "<circle clip-path=\"url(#clip662)\" cx=\"1260.94\" cy=\"1391.72\" r=\"14.4\" fill=\"#009af9\" fill-rule=\"evenodd\" fill-opacity=\"1\" stroke=\"#000000\" stroke-opacity=\"1\" stroke-width=\"3.2\"/>\n",
       "<circle clip-path=\"url(#clip662)\" cx=\"1363.94\" cy=\"1219.49\" r=\"14.4\" fill=\"#009af9\" fill-rule=\"evenodd\" fill-opacity=\"1\" stroke=\"#000000\" stroke-opacity=\"1\" stroke-width=\"3.2\"/>\n",
       "<circle clip-path=\"url(#clip662)\" cx=\"1466.94\" cy=\"1172.64\" r=\"14.4\" fill=\"#009af9\" fill-rule=\"evenodd\" fill-opacity=\"1\" stroke=\"#000000\" stroke-opacity=\"1\" stroke-width=\"3.2\"/>\n",
       "<circle clip-path=\"url(#clip662)\" cx=\"1569.94\" cy=\"1195.06\" r=\"14.4\" fill=\"#009af9\" fill-rule=\"evenodd\" fill-opacity=\"1\" stroke=\"#000000\" stroke-opacity=\"1\" stroke-width=\"3.2\"/>\n",
       "<circle clip-path=\"url(#clip662)\" cx=\"1672.95\" cy=\"1210.62\" r=\"14.4\" fill=\"#009af9\" fill-rule=\"evenodd\" fill-opacity=\"1\" stroke=\"#000000\" stroke-opacity=\"1\" stroke-width=\"3.2\"/>\n",
       "<circle clip-path=\"url(#clip662)\" cx=\"1775.95\" cy=\"1054\" r=\"14.4\" fill=\"#009af9\" fill-rule=\"evenodd\" fill-opacity=\"1\" stroke=\"#000000\" stroke-opacity=\"1\" stroke-width=\"3.2\"/>\n",
       "<circle clip-path=\"url(#clip662)\" cx=\"1878.95\" cy=\"746.281\" r=\"14.4\" fill=\"#009af9\" fill-rule=\"evenodd\" fill-opacity=\"1\" stroke=\"#000000\" stroke-opacity=\"1\" stroke-width=\"3.2\"/>\n",
       "<circle clip-path=\"url(#clip662)\" cx=\"1981.95\" cy=\"765.663\" r=\"14.4\" fill=\"#009af9\" fill-rule=\"evenodd\" fill-opacity=\"1\" stroke=\"#000000\" stroke-opacity=\"1\" stroke-width=\"3.2\"/>\n",
       "<circle clip-path=\"url(#clip662)\" cx=\"2084.95\" cy=\"438.325\" r=\"14.4\" fill=\"#009af9\" fill-rule=\"evenodd\" fill-opacity=\"1\" stroke=\"#000000\" stroke-opacity=\"1\" stroke-width=\"3.2\"/>\n",
       "<circle clip-path=\"url(#clip662)\" cx=\"2187.95\" cy=\"220.299\" r=\"14.4\" fill=\"#009af9\" fill-rule=\"evenodd\" fill-opacity=\"1\" stroke=\"#000000\" stroke-opacity=\"1\" stroke-width=\"3.2\"/>\n",
       "<circle clip-path=\"url(#clip662)\" cx=\"2290.95\" cy=\"143.477\" r=\"14.4\" fill=\"#009af9\" fill-rule=\"evenodd\" fill-opacity=\"1\" stroke=\"#000000\" stroke-opacity=\"1\" stroke-width=\"3.2\"/>\n",
       "<polyline clip-path=\"url(#clip662)\" style=\"stroke:#e26f46; stroke-linecap:round; stroke-linejoin:round; stroke-width:4; stroke-opacity:1; fill:none\" points=\"230.922,648.012 333.924,797.355 436.926,928.03 539.927,1040.04 642.929,1133.38 745.93,1208.05 848.932,1264.05 951.934,1301.39 1054.94,1320.05 1157.94,1320.05 1260.94,1301.39 1363.94,1264.05 1466.94,1208.05 1569.94,1133.38 1672.95,1040.04 1775.95,928.03 1878.95,797.355 1981.95,648.012 2084.95,480.001 2187.95,293.323 2290.95,87.9763 \"/>\n",
       "<polyline clip-path=\"url(#clip662)\" style=\"stroke:#3da44d; stroke-linecap:round; stroke-linejoin:round; stroke-width:4; stroke-opacity:1; fill:none\" points=\"230.922,641.491 333.924,797.069 436.926,933.469 539.927,1050.69 642.929,1148.73 745.93,1227.6 848.932,1287.28 951.934,1327.79 1054.94,1349.12 1157.94,1351.27 1260.94,1334.24 1363.94,1298.03 1466.94,1242.64 1569.94,1168.08 1672.95,1074.34 1775.95,961.414 1878.95,829.314 1981.95,678.035 2084.95,507.577 2187.95,317.941 2290.95,109.127 \"/>\n",
       "<path clip-path=\"url(#clip660)\" d=\"M241.909 302.578 L700.387 302.578 L700.387 95.2176 L241.909 95.2176  Z\" fill=\"#ffffff\" fill-rule=\"evenodd\" fill-opacity=\"1\"/>\n",
       "<polyline clip-path=\"url(#clip660)\" style=\"stroke:#000000; stroke-linecap:round; stroke-linejoin:round; stroke-width:4; stroke-opacity:1; fill:none\" points=\"241.909,302.578 700.387,302.578 700.387,95.2176 241.909,95.2176 241.909,302.578 \"/>\n",
       "<circle clip-path=\"url(#clip660)\" cx=\"338.96\" cy=\"147.058\" r=\"23.04\" fill=\"#009af9\" fill-rule=\"evenodd\" fill-opacity=\"1\" stroke=\"#000000\" stroke-opacity=\"1\" stroke-width=\"5.12\"/>\n",
       "<path clip-path=\"url(#clip660)\" d=\"M454.922 142.347 L454.922 128.319 L459.181 128.319 L459.181 164.338 L454.922 164.338 L454.922 160.449 Q453.579 162.763 451.519 163.898 Q449.482 165.009 446.612 165.009 Q441.913 165.009 438.95 161.259 Q436.01 157.509 436.01 151.398 Q436.01 145.287 438.95 141.537 Q441.913 137.787 446.612 137.787 Q449.482 137.787 451.519 138.921 Q453.579 140.032 454.922 142.347 M440.408 151.398 Q440.408 156.097 442.329 158.782 Q444.274 161.444 447.653 161.444 Q451.033 161.444 452.977 158.782 Q454.922 156.097 454.922 151.398 Q454.922 146.699 452.977 144.037 Q451.033 141.352 447.653 141.352 Q444.274 141.352 442.329 144.037 Q440.408 146.699 440.408 151.398 Z\" fill=\"#000000\" fill-rule=\"evenodd\" fill-opacity=\"1\" /><path clip-path=\"url(#clip660)\" d=\"M479.737 151.305 Q474.575 151.305 472.584 152.486 Q470.593 153.666 470.593 156.514 Q470.593 158.782 472.075 160.125 Q473.579 161.444 476.149 161.444 Q479.69 161.444 481.82 158.944 Q483.973 156.421 483.973 152.254 L483.973 151.305 L479.737 151.305 M488.232 149.546 L488.232 164.338 L483.973 164.338 L483.973 160.402 Q482.514 162.763 480.338 163.898 Q478.163 165.009 475.014 165.009 Q471.033 165.009 468.672 162.787 Q466.334 160.541 466.334 156.791 Q466.334 152.416 469.251 150.194 Q472.19 147.972 478.001 147.972 L483.973 147.972 L483.973 147.555 Q483.973 144.615 482.028 143.018 Q480.107 141.398 476.612 141.398 Q474.389 141.398 472.283 141.93 Q470.176 142.463 468.232 143.527 L468.232 139.592 Q470.57 138.69 472.769 138.25 Q474.968 137.787 477.051 137.787 Q482.676 137.787 485.454 140.703 Q488.232 143.62 488.232 149.546 Z\" fill=\"#000000\" fill-rule=\"evenodd\" fill-opacity=\"1\" /><path clip-path=\"url(#clip660)\" d=\"M501.218 131.051 L501.218 138.412 L509.991 138.412 L509.991 141.722 L501.218 141.722 L501.218 155.796 Q501.218 158.967 502.074 159.87 Q502.954 160.773 505.616 160.773 L509.991 160.773 L509.991 164.338 L505.616 164.338 Q500.686 164.338 498.811 162.509 Q496.936 160.657 496.936 155.796 L496.936 141.722 L493.811 141.722 L493.811 138.412 L496.936 138.412 L496.936 131.051 L501.218 131.051 Z\" fill=\"#000000\" fill-rule=\"evenodd\" fill-opacity=\"1\" /><path clip-path=\"url(#clip660)\" d=\"M527.375 151.305 Q522.213 151.305 520.222 152.486 Q518.232 153.666 518.232 156.514 Q518.232 158.782 519.713 160.125 Q521.218 161.444 523.787 161.444 Q527.329 161.444 529.459 158.944 Q531.611 156.421 531.611 152.254 L531.611 151.305 L527.375 151.305 M535.871 149.546 L535.871 164.338 L531.611 164.338 L531.611 160.402 Q530.153 162.763 527.977 163.898 Q525.801 165.009 522.653 165.009 Q518.672 165.009 516.31 162.787 Q513.973 160.541 513.973 156.791 Q513.973 152.416 516.889 150.194 Q519.829 147.972 525.639 147.972 L531.611 147.972 L531.611 147.555 Q531.611 144.615 529.667 143.018 Q527.746 141.398 524.25 141.398 Q522.028 141.398 519.922 141.93 Q517.815 142.463 515.871 143.527 L515.871 139.592 Q518.209 138.69 520.408 138.25 Q522.607 137.787 524.69 137.787 Q530.315 137.787 533.093 140.703 Q535.871 143.62 535.871 149.546 Z\" fill=\"#000000\" fill-rule=\"evenodd\" fill-opacity=\"1\" /><polyline clip-path=\"url(#clip660)\" style=\"stroke:#e26f46; stroke-linecap:round; stroke-linejoin:round; stroke-width:4; stroke-opacity:1; fill:none\" points=\"266.172,198.898 411.747,198.898 \"/>\n",
       "<path clip-path=\"url(#clip660)\" d=\"M436.01 181.618 L465.246 181.618 L465.246 185.553 L452.977 185.553 L452.977 216.178 L448.278 216.178 L448.278 185.553 L436.01 185.553 L436.01 181.618 Z\" fill=\"#000000\" fill-rule=\"evenodd\" fill-opacity=\"1\" /><path clip-path=\"url(#clip660)\" d=\"M477.63 194.233 Q476.913 193.817 476.056 193.631 Q475.223 193.423 474.204 193.423 Q470.593 193.423 468.649 195.784 Q466.727 198.122 466.727 202.52 L466.727 216.178 L462.445 216.178 L462.445 190.252 L466.727 190.252 L466.727 194.28 Q468.07 191.918 470.223 190.784 Q472.376 189.627 475.454 189.627 Q475.894 189.627 476.426 189.696 Q476.959 189.743 477.607 189.858 L477.63 194.233 Z\" fill=\"#000000\" fill-rule=\"evenodd\" fill-opacity=\"1\" /><path clip-path=\"url(#clip660)\" d=\"M481.658 205.946 L481.658 190.252 L485.917 190.252 L485.917 205.784 Q485.917 209.465 487.352 211.316 Q488.787 213.145 491.658 213.145 Q495.107 213.145 497.098 210.946 Q499.112 208.747 499.112 204.951 L499.112 190.252 L503.371 190.252 L503.371 216.178 L499.112 216.178 L499.112 212.196 Q497.561 214.557 495.5 215.715 Q493.463 216.849 490.755 216.849 Q486.287 216.849 483.973 214.071 Q481.658 211.293 481.658 205.946 M492.375 189.627 L492.375 189.627 Z\" fill=\"#000000\" fill-rule=\"evenodd\" fill-opacity=\"1\" /><path clip-path=\"url(#clip660)\" d=\"M534.32 202.15 L534.32 204.233 L514.736 204.233 Q515.014 208.631 517.375 210.946 Q519.76 213.238 523.996 213.238 Q526.449 213.238 528.741 212.636 Q531.056 212.034 533.324 210.83 L533.324 214.858 Q531.033 215.83 528.625 216.34 Q526.218 216.849 523.741 216.849 Q517.537 216.849 513.903 213.238 Q510.292 209.627 510.292 203.469 Q510.292 197.104 513.718 193.377 Q517.167 189.627 523 189.627 Q528.232 189.627 531.264 193.006 Q534.32 196.363 534.32 202.15 M530.06 200.9 Q530.014 197.405 528.093 195.321 Q526.195 193.238 523.047 193.238 Q519.482 193.238 517.329 195.252 Q515.199 197.266 514.875 200.923 L530.06 200.9 Z\" fill=\"#000000\" fill-rule=\"evenodd\" fill-opacity=\"1\" /><path clip-path=\"url(#clip660)\" d=\"M556.38 180.159 L560.639 180.159 L560.639 216.178 L556.38 216.178 L556.38 180.159 Z\" fill=\"#000000\" fill-rule=\"evenodd\" fill-opacity=\"1\" /><path clip-path=\"url(#clip660)\" d=\"M569.551 190.252 L573.81 190.252 L573.81 216.178 L569.551 216.178 L569.551 190.252 M569.551 180.159 L573.81 180.159 L573.81 185.553 L569.551 185.553 L569.551 180.159 Z\" fill=\"#000000\" fill-rule=\"evenodd\" fill-opacity=\"1\" /><path clip-path=\"url(#clip660)\" d=\"M604.273 200.529 L604.273 216.178 L600.014 216.178 L600.014 200.668 Q600.014 196.988 598.579 195.159 Q597.143 193.33 594.273 193.33 Q590.824 193.33 588.833 195.53 Q586.843 197.729 586.843 201.525 L586.843 216.178 L582.56 216.178 L582.56 190.252 L586.843 190.252 L586.843 194.28 Q588.37 191.942 590.43 190.784 Q592.514 189.627 595.222 189.627 Q599.69 189.627 601.981 192.405 Q604.273 195.159 604.273 200.529 Z\" fill=\"#000000\" fill-rule=\"evenodd\" fill-opacity=\"1\" /><path clip-path=\"url(#clip660)\" d=\"M634.944 202.15 L634.944 204.233 L615.361 204.233 Q615.639 208.631 618 210.946 Q620.384 213.238 624.62 213.238 Q627.074 213.238 629.365 212.636 Q631.68 212.034 633.949 210.83 L633.949 214.858 Q631.657 215.83 629.25 216.34 Q626.842 216.849 624.365 216.849 Q618.162 216.849 614.528 213.238 Q610.916 209.627 610.916 203.469 Q610.916 197.104 614.342 193.377 Q617.791 189.627 623.625 189.627 Q628.856 189.627 631.889 193.006 Q634.944 196.363 634.944 202.15 M630.685 200.9 Q630.639 197.405 628.717 195.321 Q626.819 193.238 623.671 193.238 Q620.106 193.238 617.953 195.252 Q615.824 197.266 615.5 200.923 L630.685 200.9 Z\" fill=\"#000000\" fill-rule=\"evenodd\" fill-opacity=\"1\" /><polyline clip-path=\"url(#clip660)\" style=\"stroke:#3da44d; stroke-linecap:round; stroke-linejoin:round; stroke-width:4; stroke-opacity:1; fill:none\" points=\"266.172,250.738 411.747,250.738 \"/>\n",
       "<path clip-path=\"url(#clip660)\" d=\"M436.01 233.458 L455.871 233.458 L455.871 237.393 L440.686 237.393 L440.686 247.578 L454.39 247.578 L454.39 251.513 L440.686 251.513 L440.686 268.018 L436.01 268.018 L436.01 233.458 Z\" fill=\"#000000\" fill-rule=\"evenodd\" fill-opacity=\"1\" /><path clip-path=\"url(#clip660)\" d=\"M459.644 242.092 L463.903 242.092 L463.903 268.018 L459.644 268.018 L459.644 242.092 M459.644 231.999 L463.903 231.999 L463.903 237.393 L459.644 237.393 L459.644 231.999 Z\" fill=\"#000000\" fill-rule=\"evenodd\" fill-opacity=\"1\" /><path clip-path=\"url(#clip660)\" d=\"M477.028 234.731 L477.028 242.092 L485.801 242.092 L485.801 245.402 L477.028 245.402 L477.028 259.476 Q477.028 262.647 477.885 263.55 Q478.764 264.453 481.426 264.453 L485.801 264.453 L485.801 268.018 L481.426 268.018 Q476.496 268.018 474.621 266.189 Q472.746 264.337 472.746 259.476 L472.746 245.402 L469.621 245.402 L469.621 242.092 L472.746 242.092 L472.746 234.731 L477.028 234.731 Z\" fill=\"#000000\" fill-rule=\"evenodd\" fill-opacity=\"1\" /><path clip-path=\"url(#clip660)\" d=\"M495.616 234.731 L495.616 242.092 L504.389 242.092 L504.389 245.402 L495.616 245.402 L495.616 259.476 Q495.616 262.647 496.473 263.55 Q497.352 264.453 500.014 264.453 L504.389 264.453 L504.389 268.018 L500.014 268.018 Q495.084 268.018 493.209 266.189 Q491.334 264.337 491.334 259.476 L491.334 245.402 L488.209 245.402 L488.209 242.092 L491.334 242.092 L491.334 234.731 L495.616 234.731 Z\" fill=\"#000000\" fill-rule=\"evenodd\" fill-opacity=\"1\" /><path clip-path=\"url(#clip660)\" d=\"M532.167 253.99 L532.167 256.073 L512.584 256.073 Q512.861 260.471 515.223 262.786 Q517.607 265.078 521.843 265.078 Q524.297 265.078 526.588 264.476 Q528.903 263.874 531.172 262.67 L531.172 266.698 Q528.88 267.67 526.472 268.18 Q524.065 268.689 521.588 268.689 Q515.385 268.689 511.75 265.078 Q508.139 261.467 508.139 255.309 Q508.139 248.944 511.565 245.217 Q515.014 241.467 520.847 241.467 Q526.079 241.467 529.111 244.846 Q532.167 248.203 532.167 253.99 M527.908 252.74 Q527.861 249.245 525.94 247.161 Q524.042 245.078 520.894 245.078 Q517.329 245.078 515.176 247.092 Q513.047 249.106 512.723 252.763 L527.908 252.74 Z\" fill=\"#000000\" fill-rule=\"evenodd\" fill-opacity=\"1\" /><path clip-path=\"url(#clip660)\" d=\"M556.218 246.027 L556.218 231.999 L560.477 231.999 L560.477 268.018 L556.218 268.018 L556.218 264.129 Q554.875 266.443 552.815 267.578 Q550.778 268.689 547.908 268.689 Q543.208 268.689 540.246 264.939 Q537.306 261.189 537.306 255.078 Q537.306 248.967 540.246 245.217 Q543.208 241.467 547.908 241.467 Q550.778 241.467 552.815 242.601 Q554.875 243.712 556.218 246.027 M541.704 255.078 Q541.704 259.777 543.625 262.462 Q545.57 265.124 548.949 265.124 Q552.329 265.124 554.273 262.462 Q556.218 259.777 556.218 255.078 Q556.218 250.379 554.273 247.717 Q552.329 245.032 548.949 245.032 Q545.57 245.032 543.625 247.717 Q541.704 250.379 541.704 255.078 Z\" fill=\"#000000\" fill-rule=\"evenodd\" fill-opacity=\"1\" /><path clip-path=\"url(#clip660)\" d=\"M584.505 233.458 L589.18 233.458 L589.18 264.082 L606.009 264.082 L606.009 268.018 L584.505 268.018 L584.505 233.458 Z\" fill=\"#000000\" fill-rule=\"evenodd\" fill-opacity=\"1\" /><path clip-path=\"url(#clip660)\" d=\"M610.731 242.092 L614.991 242.092 L614.991 268.018 L610.731 268.018 L610.731 242.092 M610.731 231.999 L614.991 231.999 L614.991 237.393 L610.731 237.393 L610.731 231.999 Z\" fill=\"#000000\" fill-rule=\"evenodd\" fill-opacity=\"1\" /><path clip-path=\"url(#clip660)\" d=\"M645.453 252.369 L645.453 268.018 L641.194 268.018 L641.194 252.508 Q641.194 248.828 639.759 246.999 Q638.324 245.17 635.453 245.17 Q632.004 245.17 630.014 247.37 Q628.023 249.569 628.023 253.365 L628.023 268.018 L623.74 268.018 L623.74 242.092 L628.023 242.092 L628.023 246.12 Q629.551 243.782 631.611 242.624 Q633.694 241.467 636.402 241.467 Q640.87 241.467 643.162 244.245 Q645.453 246.999 645.453 252.369 Z\" fill=\"#000000\" fill-rule=\"evenodd\" fill-opacity=\"1\" /><path clip-path=\"url(#clip660)\" d=\"M676.124 253.99 L676.124 256.073 L656.541 256.073 Q656.819 260.471 659.18 262.786 Q661.564 265.078 665.8 265.078 Q668.254 265.078 670.546 264.476 Q672.861 263.874 675.129 262.67 L675.129 266.698 Q672.837 267.67 670.43 268.18 Q668.023 268.689 665.546 268.689 Q659.342 268.689 655.708 265.078 Q652.097 261.467 652.097 255.309 Q652.097 248.944 655.523 245.217 Q658.972 241.467 664.805 241.467 Q670.037 241.467 673.069 244.846 Q676.124 248.203 676.124 253.99 M671.865 252.74 Q671.819 249.245 669.898 247.161 Q667.999 245.078 664.851 245.078 Q661.287 245.078 659.134 247.092 Q657.004 249.106 656.68 252.763 L671.865 252.74 Z\" fill=\"#000000\" fill-rule=\"evenodd\" fill-opacity=\"1\" /></svg>\n"
      ]
     },
     "execution_count": 70,
     "metadata": {},
     "output_type": "execute_result"
    }
   ],
   "source": [
    "scatter(x,y_observed,label=\"data\")\n",
    "plot!(x,y_true, label=\"True line\")\n",
    "plot!(x,y_fitted, label=\"Fitted Line\")"
   ]
  },
  {
   "cell_type": "markdown",
   "id": "b3b5a343",
   "metadata": {},
   "source": [
    "### 2.4\n",
    "\n",
    "1. Repeat 2.2 and 2.3 with a noise with a standard deviation of 50"
   ]
  },
  {
   "cell_type": "code",
   "execution_count": 72,
   "id": "b4c08499",
   "metadata": {},
   "outputs": [
    {
     "data": {
      "image/svg+xml": [
       "<?xml version=\"1.0\" encoding=\"utf-8\"?>\n",
       "<svg xmlns=\"http://www.w3.org/2000/svg\" xmlns:xlink=\"http://www.w3.org/1999/xlink\" width=\"600\" height=\"400\" viewBox=\"0 0 2400 1600\">\n",
       "<defs>\n",
       "  <clipPath id=\"clip700\">\n",
       "    <rect x=\"0\" y=\"0\" width=\"2400\" height=\"1600\"/>\n",
       "  </clipPath>\n",
       "</defs>\n",
       "<path clip-path=\"url(#clip700)\" d=\"M0 1600 L2400 1600 L2400 0 L0 0  Z\" fill=\"#ffffff\" fill-rule=\"evenodd\" fill-opacity=\"1\"/>\n",
       "<defs>\n",
       "  <clipPath id=\"clip701\">\n",
       "    <rect x=\"480\" y=\"0\" width=\"1681\" height=\"1600\"/>\n",
       "  </clipPath>\n",
       "</defs>\n",
       "<path clip-path=\"url(#clip700)\" d=\"M169.121 1486.45 L2352.76 1486.45 L2352.76 47.2441 L169.121 47.2441  Z\" fill=\"#ffffff\" fill-rule=\"evenodd\" fill-opacity=\"1\"/>\n",
       "<defs>\n",
       "  <clipPath id=\"clip702\">\n",
       "    <rect x=\"169\" y=\"47\" width=\"2185\" height=\"1440\"/>\n",
       "  </clipPath>\n",
       "</defs>\n",
       "<polyline clip-path=\"url(#clip702)\" style=\"stroke:#000000; stroke-linecap:round; stroke-linejoin:round; stroke-width:2; stroke-opacity:0.1; fill:none\" points=\"230.922,1486.45 230.922,47.2441 \"/>\n",
       "<polyline clip-path=\"url(#clip702)\" style=\"stroke:#000000; stroke-linecap:round; stroke-linejoin:round; stroke-width:2; stroke-opacity:0.1; fill:none\" points=\"745.93,1486.45 745.93,47.2441 \"/>\n",
       "<polyline clip-path=\"url(#clip702)\" style=\"stroke:#000000; stroke-linecap:round; stroke-linejoin:round; stroke-width:2; stroke-opacity:0.1; fill:none\" points=\"1260.94,1486.45 1260.94,47.2441 \"/>\n",
       "<polyline clip-path=\"url(#clip702)\" style=\"stroke:#000000; stroke-linecap:round; stroke-linejoin:round; stroke-width:2; stroke-opacity:0.1; fill:none\" points=\"1775.95,1486.45 1775.95,47.2441 \"/>\n",
       "<polyline clip-path=\"url(#clip702)\" style=\"stroke:#000000; stroke-linecap:round; stroke-linejoin:round; stroke-width:2; stroke-opacity:0.1; fill:none\" points=\"2290.95,1486.45 2290.95,47.2441 \"/>\n",
       "<polyline clip-path=\"url(#clip700)\" style=\"stroke:#000000; stroke-linecap:round; stroke-linejoin:round; stroke-width:4; stroke-opacity:1; fill:none\" points=\"169.121,1486.45 2352.76,1486.45 \"/>\n",
       "<polyline clip-path=\"url(#clip700)\" style=\"stroke:#000000; stroke-linecap:round; stroke-linejoin:round; stroke-width:4; stroke-opacity:1; fill:none\" points=\"230.922,1486.45 230.922,1467.55 \"/>\n",
       "<polyline clip-path=\"url(#clip700)\" style=\"stroke:#000000; stroke-linecap:round; stroke-linejoin:round; stroke-width:4; stroke-opacity:1; fill:none\" points=\"745.93,1486.45 745.93,1467.55 \"/>\n",
       "<polyline clip-path=\"url(#clip700)\" style=\"stroke:#000000; stroke-linecap:round; stroke-linejoin:round; stroke-width:4; stroke-opacity:1; fill:none\" points=\"1260.94,1486.45 1260.94,1467.55 \"/>\n",
       "<polyline clip-path=\"url(#clip700)\" style=\"stroke:#000000; stroke-linecap:round; stroke-linejoin:round; stroke-width:4; stroke-opacity:1; fill:none\" points=\"1775.95,1486.45 1775.95,1467.55 \"/>\n",
       "<polyline clip-path=\"url(#clip700)\" style=\"stroke:#000000; stroke-linecap:round; stroke-linejoin:round; stroke-width:4; stroke-opacity:1; fill:none\" points=\"2290.95,1486.45 2290.95,1467.55 \"/>\n",
       "<path clip-path=\"url(#clip700)\" d=\"M184.985 1532.02 L214.661 1532.02 L214.661 1535.95 L184.985 1535.95 L184.985 1532.02 Z\" fill=\"#000000\" fill-rule=\"evenodd\" fill-opacity=\"1\" /><path clip-path=\"url(#clip700)\" d=\"M225.564 1544.91 L233.202 1544.91 L233.202 1518.55 L224.892 1520.21 L224.892 1515.95 L233.156 1514.29 L237.832 1514.29 L237.832 1544.91 L245.471 1544.91 L245.471 1548.85 L225.564 1548.85 L225.564 1544.91 Z\" fill=\"#000000\" fill-rule=\"evenodd\" fill-opacity=\"1\" /><path clip-path=\"url(#clip700)\" d=\"M264.915 1517.37 Q261.304 1517.37 259.475 1520.93 Q257.67 1524.47 257.67 1531.6 Q257.67 1538.71 259.475 1542.27 Q261.304 1545.82 264.915 1545.82 Q268.549 1545.82 270.355 1542.27 Q272.184 1538.71 272.184 1531.6 Q272.184 1524.47 270.355 1520.93 Q268.549 1517.37 264.915 1517.37 M264.915 1513.66 Q270.725 1513.66 273.781 1518.27 Q276.86 1522.85 276.86 1531.6 Q276.86 1540.33 273.781 1544.94 Q270.725 1549.52 264.915 1549.52 Q259.105 1549.52 256.026 1544.94 Q252.971 1540.33 252.971 1531.6 Q252.971 1522.85 256.026 1518.27 Q259.105 1513.66 264.915 1513.66 Z\" fill=\"#000000\" fill-rule=\"evenodd\" fill-opacity=\"1\" /><path clip-path=\"url(#clip700)\" d=\"M715.572 1532.02 L745.248 1532.02 L745.248 1535.95 L715.572 1535.95 L715.572 1532.02 Z\" fill=\"#000000\" fill-rule=\"evenodd\" fill-opacity=\"1\" /><path clip-path=\"url(#clip700)\" d=\"M755.386 1514.29 L773.743 1514.29 L773.743 1518.22 L759.669 1518.22 L759.669 1526.7 Q760.687 1526.35 761.706 1526.19 Q762.724 1526 763.743 1526 Q769.53 1526 772.909 1529.17 Q776.289 1532.34 776.289 1537.76 Q776.289 1543.34 772.817 1546.44 Q769.345 1549.52 763.025 1549.52 Q760.849 1549.52 758.581 1549.15 Q756.335 1548.78 753.928 1548.04 L753.928 1543.34 Q756.011 1544.47 758.234 1545.03 Q760.456 1545.58 762.933 1545.58 Q766.937 1545.58 769.275 1543.48 Q771.613 1541.37 771.613 1537.76 Q771.613 1534.15 769.275 1532.04 Q766.937 1529.94 762.933 1529.94 Q761.058 1529.94 759.183 1530.35 Q757.331 1530.77 755.386 1531.65 L755.386 1514.29 Z\" fill=\"#000000\" fill-rule=\"evenodd\" fill-opacity=\"1\" /><path clip-path=\"url(#clip700)\" d=\"M1260.94 1517.37 Q1257.33 1517.37 1255.5 1520.93 Q1253.69 1524.47 1253.69 1531.6 Q1253.69 1538.71 1255.5 1542.27 Q1257.33 1545.82 1260.94 1545.82 Q1264.57 1545.82 1266.38 1542.27 Q1268.21 1538.71 1268.21 1531.6 Q1268.21 1524.47 1266.38 1520.93 Q1264.57 1517.37 1260.94 1517.37 M1260.94 1513.66 Q1266.75 1513.66 1269.8 1518.27 Q1272.88 1522.85 1272.88 1531.6 Q1272.88 1540.33 1269.8 1544.94 Q1266.75 1549.52 1260.94 1549.52 Q1255.13 1549.52 1252.05 1544.94 Q1248.99 1540.33 1248.99 1531.6 Q1248.99 1522.85 1252.05 1518.27 Q1255.13 1513.66 1260.94 1513.66 Z\" fill=\"#000000\" fill-rule=\"evenodd\" fill-opacity=\"1\" /><path clip-path=\"url(#clip700)\" d=\"M1766.22 1514.29 L1784.58 1514.29 L1784.58 1518.22 L1770.51 1518.22 L1770.51 1526.7 Q1771.53 1526.35 1772.54 1526.19 Q1773.56 1526 1774.58 1526 Q1780.37 1526 1783.75 1529.17 Q1787.13 1532.34 1787.13 1537.76 Q1787.13 1543.34 1783.66 1546.44 Q1780.18 1549.52 1773.86 1549.52 Q1771.69 1549.52 1769.42 1549.15 Q1767.17 1548.78 1764.77 1548.04 L1764.77 1543.34 Q1766.85 1544.47 1769.07 1545.03 Q1771.29 1545.58 1773.77 1545.58 Q1777.78 1545.58 1780.11 1543.48 Q1782.45 1541.37 1782.45 1537.76 Q1782.45 1534.15 1780.11 1532.04 Q1777.78 1529.94 1773.77 1529.94 Q1771.9 1529.94 1770.02 1530.35 Q1768.17 1530.77 1766.22 1531.65 L1766.22 1514.29 Z\" fill=\"#000000\" fill-rule=\"evenodd\" fill-opacity=\"1\" /><path clip-path=\"url(#clip700)\" d=\"M2265.64 1544.91 L2273.28 1544.91 L2273.28 1518.55 L2264.97 1520.21 L2264.97 1515.95 L2273.24 1514.29 L2277.91 1514.29 L2277.91 1544.91 L2285.55 1544.91 L2285.55 1548.85 L2265.64 1548.85 L2265.64 1544.91 Z\" fill=\"#000000\" fill-rule=\"evenodd\" fill-opacity=\"1\" /><path clip-path=\"url(#clip700)\" d=\"M2304.99 1517.37 Q2301.38 1517.37 2299.55 1520.93 Q2297.75 1524.47 2297.75 1531.6 Q2297.75 1538.71 2299.55 1542.27 Q2301.38 1545.82 2304.99 1545.82 Q2308.63 1545.82 2310.43 1542.27 Q2312.26 1538.71 2312.26 1531.6 Q2312.26 1524.47 2310.43 1520.93 Q2308.63 1517.37 2304.99 1517.37 M2304.99 1513.66 Q2310.8 1513.66 2313.86 1518.27 Q2316.94 1522.85 2316.94 1531.6 Q2316.94 1540.33 2313.86 1544.94 Q2310.8 1549.52 2304.99 1549.52 Q2299.18 1549.52 2296.11 1544.94 Q2293.05 1540.33 2293.05 1531.6 Q2293.05 1522.85 2296.11 1518.27 Q2299.18 1513.66 2304.99 1513.66 Z\" fill=\"#000000\" fill-rule=\"evenodd\" fill-opacity=\"1\" /><polyline clip-path=\"url(#clip702)\" style=\"stroke:#000000; stroke-linecap:round; stroke-linejoin:round; stroke-width:2; stroke-opacity:0.1; fill:none\" points=\"169.121,1148.76 2352.76,1148.76 \"/>\n",
       "<polyline clip-path=\"url(#clip702)\" style=\"stroke:#000000; stroke-linecap:round; stroke-linejoin:round; stroke-width:2; stroke-opacity:0.1; fill:none\" points=\"169.121,803.396 2352.76,803.396 \"/>\n",
       "<polyline clip-path=\"url(#clip702)\" style=\"stroke:#000000; stroke-linecap:round; stroke-linejoin:round; stroke-width:2; stroke-opacity:0.1; fill:none\" points=\"169.121,458.027 2352.76,458.027 \"/>\n",
       "<polyline clip-path=\"url(#clip702)\" style=\"stroke:#000000; stroke-linecap:round; stroke-linejoin:round; stroke-width:2; stroke-opacity:0.1; fill:none\" points=\"169.121,112.658 2352.76,112.658 \"/>\n",
       "<polyline clip-path=\"url(#clip700)\" style=\"stroke:#000000; stroke-linecap:round; stroke-linejoin:round; stroke-width:4; stroke-opacity:1; fill:none\" points=\"169.121,1486.45 169.121,47.2441 \"/>\n",
       "<polyline clip-path=\"url(#clip700)\" style=\"stroke:#000000; stroke-linecap:round; stroke-linejoin:round; stroke-width:4; stroke-opacity:1; fill:none\" points=\"169.121,1148.76 188.019,1148.76 \"/>\n",
       "<polyline clip-path=\"url(#clip700)\" style=\"stroke:#000000; stroke-linecap:round; stroke-linejoin:round; stroke-width:4; stroke-opacity:1; fill:none\" points=\"169.121,803.396 188.019,803.396 \"/>\n",
       "<polyline clip-path=\"url(#clip700)\" style=\"stroke:#000000; stroke-linecap:round; stroke-linejoin:round; stroke-width:4; stroke-opacity:1; fill:none\" points=\"169.121,458.027 188.019,458.027 \"/>\n",
       "<polyline clip-path=\"url(#clip700)\" style=\"stroke:#000000; stroke-linecap:round; stroke-linejoin:round; stroke-width:4; stroke-opacity:1; fill:none\" points=\"169.121,112.658 188.019,112.658 \"/>\n",
       "<path clip-path=\"url(#clip700)\" d=\"M121.177 1134.56 Q117.566 1134.56 115.737 1138.13 Q113.932 1141.67 113.932 1148.8 Q113.932 1155.91 115.737 1159.47 Q117.566 1163.01 121.177 1163.01 Q124.811 1163.01 126.617 1159.47 Q128.445 1155.91 128.445 1148.8 Q128.445 1141.67 126.617 1138.13 Q124.811 1134.56 121.177 1134.56 M121.177 1130.86 Q126.987 1130.86 130.043 1135.47 Q133.121 1140.05 133.121 1148.8 Q133.121 1157.53 130.043 1162.13 Q126.987 1166.72 121.177 1166.72 Q115.367 1166.72 112.288 1162.13 Q109.233 1157.53 109.233 1148.8 Q109.233 1140.05 112.288 1135.47 Q115.367 1130.86 121.177 1130.86 Z\" fill=\"#000000\" fill-rule=\"evenodd\" fill-opacity=\"1\" /><path clip-path=\"url(#clip700)\" d=\"M81.0614 786.116 L99.4178 786.116 L99.4178 790.051 L85.3438 790.051 L85.3438 798.523 Q86.3623 798.176 87.3808 798.014 Q88.3993 797.828 89.4178 797.828 Q95.2049 797.828 98.5845 801 Q101.964 804.171 101.964 809.588 Q101.964 815.166 98.4919 818.268 Q95.0197 821.347 88.7003 821.347 Q86.5243 821.347 84.2558 820.976 Q82.0105 820.606 79.6031 819.865 L79.6031 815.166 Q81.6864 816.301 83.9086 816.856 Q86.1308 817.412 88.6077 817.412 Q92.6123 817.412 94.9502 815.305 Q97.2882 813.199 97.2882 809.588 Q97.2882 805.977 94.9502 803.87 Q92.6123 801.764 88.6077 801.764 Q86.7327 801.764 84.8577 802.18 Q83.0058 802.597 81.0614 803.477 L81.0614 786.116 Z\" fill=\"#000000\" fill-rule=\"evenodd\" fill-opacity=\"1\" /><path clip-path=\"url(#clip700)\" d=\"M121.177 789.194 Q117.566 789.194 115.737 792.759 Q113.932 796.301 113.932 803.43 Q113.932 810.537 115.737 814.101 Q117.566 817.643 121.177 817.643 Q124.811 817.643 126.617 814.101 Q128.445 810.537 128.445 803.43 Q128.445 796.301 126.617 792.759 Q124.811 789.194 121.177 789.194 M121.177 785.491 Q126.987 785.491 130.043 790.097 Q133.121 794.68 133.121 803.43 Q133.121 812.157 130.043 816.764 Q126.987 821.347 121.177 821.347 Q115.367 821.347 112.288 816.764 Q109.233 812.157 109.233 803.43 Q109.233 794.68 112.288 790.097 Q115.367 785.491 121.177 785.491 Z\" fill=\"#000000\" fill-rule=\"evenodd\" fill-opacity=\"1\" /><path clip-path=\"url(#clip700)\" d=\"M51.6634 471.371 L59.3023 471.371 L59.3023 445.006 L50.9921 446.672 L50.9921 442.413 L59.256 440.747 L63.9319 440.747 L63.9319 471.371 L71.5707 471.371 L71.5707 475.307 L51.6634 475.307 L51.6634 471.371 Z\" fill=\"#000000\" fill-rule=\"evenodd\" fill-opacity=\"1\" /><path clip-path=\"url(#clip700)\" d=\"M91.0151 443.825 Q87.404 443.825 85.5753 447.39 Q83.7697 450.932 83.7697 458.061 Q83.7697 465.168 85.5753 468.732 Q87.404 472.274 91.0151 472.274 Q94.6493 472.274 96.4548 468.732 Q98.2835 465.168 98.2835 458.061 Q98.2835 450.932 96.4548 447.39 Q94.6493 443.825 91.0151 443.825 M91.0151 440.122 Q96.8252 440.122 99.8808 444.728 Q102.959 449.311 102.959 458.061 Q102.959 466.788 99.8808 471.395 Q96.8252 475.978 91.0151 475.978 Q85.2049 475.978 82.1262 471.395 Q79.0707 466.788 79.0707 458.061 Q79.0707 449.311 82.1262 444.728 Q85.2049 440.122 91.0151 440.122 Z\" fill=\"#000000\" fill-rule=\"evenodd\" fill-opacity=\"1\" /><path clip-path=\"url(#clip700)\" d=\"M121.177 443.825 Q117.566 443.825 115.737 447.39 Q113.932 450.932 113.932 458.061 Q113.932 465.168 115.737 468.732 Q117.566 472.274 121.177 472.274 Q124.811 472.274 126.617 468.732 Q128.445 465.168 128.445 458.061 Q128.445 450.932 126.617 447.39 Q124.811 443.825 121.177 443.825 M121.177 440.122 Q126.987 440.122 130.043 444.728 Q133.121 449.311 133.121 458.061 Q133.121 466.788 130.043 471.395 Q126.987 475.978 121.177 475.978 Q115.367 475.978 112.288 471.395 Q109.233 466.788 109.233 458.061 Q109.233 449.311 112.288 444.728 Q115.367 440.122 121.177 440.122 Z\" fill=\"#000000\" fill-rule=\"evenodd\" fill-opacity=\"1\" /><path clip-path=\"url(#clip700)\" d=\"M51.6634 126.002 L59.3023 126.002 L59.3023 99.6368 L50.9921 101.303 L50.9921 97.0442 L59.256 95.3775 L63.9319 95.3775 L63.9319 126.002 L71.5707 126.002 L71.5707 129.938 L51.6634 129.938 L51.6634 126.002 Z\" fill=\"#000000\" fill-rule=\"evenodd\" fill-opacity=\"1\" /><path clip-path=\"url(#clip700)\" d=\"M81.0614 95.3775 L99.4178 95.3775 L99.4178 99.3127 L85.3438 99.3127 L85.3438 107.785 Q86.3623 107.438 87.3808 107.276 Q88.3993 107.09 89.4178 107.09 Q95.2049 107.09 98.5845 110.262 Q101.964 113.433 101.964 118.85 Q101.964 124.428 98.4919 127.53 Q95.0197 130.609 88.7003 130.609 Q86.5243 130.609 84.2558 130.238 Q82.0105 129.868 79.6031 129.127 L79.6031 124.428 Q81.6864 125.563 83.9086 126.118 Q86.1308 126.674 88.6077 126.674 Q92.6123 126.674 94.9502 124.567 Q97.2882 122.461 97.2882 118.85 Q97.2882 115.239 94.9502 113.132 Q92.6123 111.026 88.6077 111.026 Q86.7327 111.026 84.8577 111.442 Q83.0058 111.859 81.0614 112.739 L81.0614 95.3775 Z\" fill=\"#000000\" fill-rule=\"evenodd\" fill-opacity=\"1\" /><path clip-path=\"url(#clip700)\" d=\"M121.177 98.4562 Q117.566 98.4562 115.737 102.021 Q113.932 105.563 113.932 112.692 Q113.932 119.799 115.737 123.363 Q117.566 126.905 121.177 126.905 Q124.811 126.905 126.617 123.363 Q128.445 119.799 128.445 112.692 Q128.445 105.563 126.617 102.021 Q124.811 98.4562 121.177 98.4562 M121.177 94.7525 Q126.987 94.7525 130.043 99.359 Q133.121 103.942 133.121 112.692 Q133.121 121.419 130.043 126.026 Q126.987 130.609 121.177 130.609 Q115.367 130.609 112.288 126.026 Q109.233 121.419 109.233 112.692 Q109.233 103.942 112.288 99.359 Q115.367 94.7525 121.177 94.7525 Z\" fill=\"#000000\" fill-rule=\"evenodd\" fill-opacity=\"1\" /><circle clip-path=\"url(#clip702)\" cx=\"230.922\" cy=\"188.429\" r=\"14.4\" fill=\"#009af9\" fill-rule=\"evenodd\" fill-opacity=\"1\" stroke=\"#000000\" stroke-opacity=\"1\" stroke-width=\"3.2\"/>\n",
       "<circle clip-path=\"url(#clip702)\" cx=\"333.924\" cy=\"749.37\" r=\"14.4\" fill=\"#009af9\" fill-rule=\"evenodd\" fill-opacity=\"1\" stroke=\"#000000\" stroke-opacity=\"1\" stroke-width=\"3.2\"/>\n",
       "<circle clip-path=\"url(#clip702)\" cx=\"436.926\" cy=\"1032.61\" r=\"14.4\" fill=\"#009af9\" fill-rule=\"evenodd\" fill-opacity=\"1\" stroke=\"#000000\" stroke-opacity=\"1\" stroke-width=\"3.2\"/>\n",
       "<circle clip-path=\"url(#clip702)\" cx=\"539.927\" cy=\"1016.23\" r=\"14.4\" fill=\"#009af9\" fill-rule=\"evenodd\" fill-opacity=\"1\" stroke=\"#000000\" stroke-opacity=\"1\" stroke-width=\"3.2\"/>\n",
       "<circle clip-path=\"url(#clip702)\" cx=\"642.929\" cy=\"360.555\" r=\"14.4\" fill=\"#009af9\" fill-rule=\"evenodd\" fill-opacity=\"1\" stroke=\"#000000\" stroke-opacity=\"1\" stroke-width=\"3.2\"/>\n",
       "<circle clip-path=\"url(#clip702)\" cx=\"745.93\" cy=\"678.556\" r=\"14.4\" fill=\"#009af9\" fill-rule=\"evenodd\" fill-opacity=\"1\" stroke=\"#000000\" stroke-opacity=\"1\" stroke-width=\"3.2\"/>\n",
       "<circle clip-path=\"url(#clip702)\" cx=\"848.932\" cy=\"1228.3\" r=\"14.4\" fill=\"#009af9\" fill-rule=\"evenodd\" fill-opacity=\"1\" stroke=\"#000000\" stroke-opacity=\"1\" stroke-width=\"3.2\"/>\n",
       "<circle clip-path=\"url(#clip702)\" cx=\"951.934\" cy=\"1445.72\" r=\"14.4\" fill=\"#009af9\" fill-rule=\"evenodd\" fill-opacity=\"1\" stroke=\"#000000\" stroke-opacity=\"1\" stroke-width=\"3.2\"/>\n",
       "<circle clip-path=\"url(#clip702)\" cx=\"1054.94\" cy=\"1053.23\" r=\"14.4\" fill=\"#009af9\" fill-rule=\"evenodd\" fill-opacity=\"1\" stroke=\"#000000\" stroke-opacity=\"1\" stroke-width=\"3.2\"/>\n",
       "<circle clip-path=\"url(#clip702)\" cx=\"1157.94\" cy=\"1338.8\" r=\"14.4\" fill=\"#009af9\" fill-rule=\"evenodd\" fill-opacity=\"1\" stroke=\"#000000\" stroke-opacity=\"1\" stroke-width=\"3.2\"/>\n",
       "<circle clip-path=\"url(#clip702)\" cx=\"1260.94\" cy=\"531.845\" r=\"14.4\" fill=\"#009af9\" fill-rule=\"evenodd\" fill-opacity=\"1\" stroke=\"#000000\" stroke-opacity=\"1\" stroke-width=\"3.2\"/>\n",
       "<circle clip-path=\"url(#clip702)\" cx=\"1363.94\" cy=\"823.317\" r=\"14.4\" fill=\"#009af9\" fill-rule=\"evenodd\" fill-opacity=\"1\" stroke=\"#000000\" stroke-opacity=\"1\" stroke-width=\"3.2\"/>\n",
       "<circle clip-path=\"url(#clip702)\" cx=\"1466.94\" cy=\"1046.26\" r=\"14.4\" fill=\"#009af9\" fill-rule=\"evenodd\" fill-opacity=\"1\" stroke=\"#000000\" stroke-opacity=\"1\" stroke-width=\"3.2\"/>\n",
       "<circle clip-path=\"url(#clip702)\" cx=\"1569.94\" cy=\"1092.78\" r=\"14.4\" fill=\"#009af9\" fill-rule=\"evenodd\" fill-opacity=\"1\" stroke=\"#000000\" stroke-opacity=\"1\" stroke-width=\"3.2\"/>\n",
       "<circle clip-path=\"url(#clip702)\" cx=\"1672.95\" cy=\"898.431\" r=\"14.4\" fill=\"#009af9\" fill-rule=\"evenodd\" fill-opacity=\"1\" stroke=\"#000000\" stroke-opacity=\"1\" stroke-width=\"3.2\"/>\n",
       "<circle clip-path=\"url(#clip702)\" cx=\"1775.95\" cy=\"1411.95\" r=\"14.4\" fill=\"#009af9\" fill-rule=\"evenodd\" fill-opacity=\"1\" stroke=\"#000000\" stroke-opacity=\"1\" stroke-width=\"3.2\"/>\n",
       "<circle clip-path=\"url(#clip702)\" cx=\"1878.95\" cy=\"537.153\" r=\"14.4\" fill=\"#009af9\" fill-rule=\"evenodd\" fill-opacity=\"1\" stroke=\"#000000\" stroke-opacity=\"1\" stroke-width=\"3.2\"/>\n",
       "<circle clip-path=\"url(#clip702)\" cx=\"1981.95\" cy=\"378.418\" r=\"14.4\" fill=\"#009af9\" fill-rule=\"evenodd\" fill-opacity=\"1\" stroke=\"#000000\" stroke-opacity=\"1\" stroke-width=\"3.2\"/>\n",
       "<circle clip-path=\"url(#clip702)\" cx=\"2084.95\" cy=\"232.414\" r=\"14.4\" fill=\"#009af9\" fill-rule=\"evenodd\" fill-opacity=\"1\" stroke=\"#000000\" stroke-opacity=\"1\" stroke-width=\"3.2\"/>\n",
       "<circle clip-path=\"url(#clip702)\" cx=\"2187.95\" cy=\"873.766\" r=\"14.4\" fill=\"#009af9\" fill-rule=\"evenodd\" fill-opacity=\"1\" stroke=\"#000000\" stroke-opacity=\"1\" stroke-width=\"3.2\"/>\n",
       "<circle clip-path=\"url(#clip702)\" cx=\"2290.95\" cy=\"87.9763\" r=\"14.4\" fill=\"#009af9\" fill-rule=\"evenodd\" fill-opacity=\"1\" stroke=\"#000000\" stroke-opacity=\"1\" stroke-width=\"3.2\"/>\n",
       "<polyline clip-path=\"url(#clip702)\" style=\"stroke:#e26f46; stroke-linecap:round; stroke-linejoin:round; stroke-width:4; stroke-opacity:1; fill:none\" points=\"230.922,679.063 333.924,789.581 436.926,886.284 539.927,969.173 642.929,1038.25 745.93,1093.51 848.932,1134.95 951.934,1162.58 1054.94,1176.39 1157.94,1176.39 1260.94,1162.58 1363.94,1134.95 1466.94,1093.51 1569.94,1038.25 1672.95,969.173 1775.95,886.284 1878.95,789.581 1981.95,679.063 2084.95,554.73 2187.95,416.582 2290.95,264.62 \"/>\n",
       "<polyline clip-path=\"url(#clip702)\" style=\"stroke:#3da44d; stroke-linecap:round; stroke-linejoin:round; stroke-width:4; stroke-opacity:1; fill:none\" points=\"230.922,465.263 333.924,591.829 436.926,703.852 539.927,801.33 642.929,884.265 745.93,952.656 848.932,1006.5 951.934,1045.81 1054.94,1070.56 1157.94,1080.78 1260.94,1076.45 1363.94,1057.58 1466.94,1024.16 1569.94,976.203 1672.95,913.699 1775.95,836.651 1878.95,745.059 1981.95,638.924 2084.95,518.245 2187.95,383.021 2290.95,233.254 \"/>\n",
       "<path clip-path=\"url(#clip700)\" d=\"M1834.73 1438.47 L2279.97 1438.47 L2279.97 1231.11 L1834.73 1231.11  Z\" fill=\"#ffffff\" fill-rule=\"evenodd\" fill-opacity=\"1\"/>\n",
       "<polyline clip-path=\"url(#clip700)\" style=\"stroke:#000000; stroke-linecap:round; stroke-linejoin:round; stroke-width:4; stroke-opacity:1; fill:none\" points=\"1834.73,1438.47 2279.97,1438.47 2279.97,1231.11 1834.73,1231.11 1834.73,1438.47 \"/>\n",
       "<circle clip-path=\"url(#clip700)\" cx=\"1931.78\" cy=\"1282.95\" r=\"23.04\" fill=\"#009af9\" fill-rule=\"evenodd\" fill-opacity=\"1\" stroke=\"#000000\" stroke-opacity=\"1\" stroke-width=\"5.12\"/>\n",
       "<path clip-path=\"url(#clip700)\" d=\"M2047.74 1278.24 L2047.74 1264.22 L2052 1264.22 L2052 1300.23 L2047.74 1300.23 L2047.74 1296.35 Q2046.4 1298.66 2044.34 1299.79 Q2042.3 1300.91 2039.43 1300.91 Q2034.73 1300.91 2031.77 1297.16 Q2028.83 1293.41 2028.83 1287.29 Q2028.83 1281.18 2031.77 1277.43 Q2034.73 1273.68 2039.43 1273.68 Q2042.3 1273.68 2044.34 1274.82 Q2046.4 1275.93 2047.74 1278.24 M2033.23 1287.29 Q2033.23 1291.99 2035.15 1294.68 Q2037.1 1297.34 2040.48 1297.34 Q2043.85 1297.34 2045.8 1294.68 Q2047.74 1291.99 2047.74 1287.29 Q2047.74 1282.6 2045.8 1279.93 Q2043.85 1277.25 2040.48 1277.25 Q2037.1 1277.25 2035.15 1279.93 Q2033.23 1282.6 2033.23 1287.29 Z\" fill=\"#000000\" fill-rule=\"evenodd\" fill-opacity=\"1\" /><path clip-path=\"url(#clip700)\" d=\"M2072.56 1287.2 Q2067.4 1287.2 2065.41 1288.38 Q2063.41 1289.56 2063.41 1292.41 Q2063.41 1294.68 2064.9 1296.02 Q2066.4 1297.34 2068.97 1297.34 Q2072.51 1297.34 2074.64 1294.84 Q2076.79 1292.32 2076.79 1288.15 L2076.79 1287.2 L2072.56 1287.2 M2081.05 1285.44 L2081.05 1300.23 L2076.79 1300.23 L2076.79 1296.3 Q2075.34 1298.66 2073.16 1299.79 Q2070.98 1300.91 2067.84 1300.91 Q2063.85 1300.91 2061.49 1298.68 Q2059.16 1296.44 2059.16 1292.69 Q2059.16 1288.31 2062.07 1286.09 Q2065.01 1283.87 2070.82 1283.87 L2076.79 1283.87 L2076.79 1283.45 Q2076.79 1280.51 2074.85 1278.92 Q2072.93 1277.29 2069.43 1277.29 Q2067.21 1277.29 2065.1 1277.83 Q2063 1278.36 2061.05 1279.42 L2061.05 1275.49 Q2063.39 1274.59 2065.59 1274.15 Q2067.79 1273.68 2069.87 1273.68 Q2075.5 1273.68 2078.28 1276.6 Q2081.05 1279.52 2081.05 1285.44 Z\" fill=\"#000000\" fill-rule=\"evenodd\" fill-opacity=\"1\" /><path clip-path=\"url(#clip700)\" d=\"M2094.04 1266.95 L2094.04 1274.31 L2102.81 1274.31 L2102.81 1277.62 L2094.04 1277.62 L2094.04 1291.69 Q2094.04 1294.86 2094.9 1295.77 Q2095.78 1296.67 2098.44 1296.67 L2102.81 1296.67 L2102.81 1300.23 L2098.44 1300.23 Q2093.51 1300.23 2091.63 1298.41 Q2089.76 1296.55 2089.76 1291.69 L2089.76 1277.62 L2086.63 1277.62 L2086.63 1274.31 L2089.76 1274.31 L2089.76 1266.95 L2094.04 1266.95 Z\" fill=\"#000000\" fill-rule=\"evenodd\" fill-opacity=\"1\" /><path clip-path=\"url(#clip700)\" d=\"M2120.2 1287.2 Q2115.03 1287.2 2113.04 1288.38 Q2111.05 1289.56 2111.05 1292.41 Q2111.05 1294.68 2112.53 1296.02 Q2114.04 1297.34 2116.61 1297.34 Q2120.15 1297.34 2122.28 1294.84 Q2124.43 1292.32 2124.43 1288.15 L2124.43 1287.2 L2120.2 1287.2 M2128.69 1285.44 L2128.69 1300.23 L2124.43 1300.23 L2124.43 1296.3 Q2122.97 1298.66 2120.8 1299.79 Q2118.62 1300.91 2115.47 1300.91 Q2111.49 1300.91 2109.13 1298.68 Q2106.79 1296.44 2106.79 1292.69 Q2106.79 1288.31 2109.71 1286.09 Q2112.65 1283.87 2118.46 1283.87 L2124.43 1283.87 L2124.43 1283.45 Q2124.43 1280.51 2122.49 1278.92 Q2120.57 1277.29 2117.07 1277.29 Q2114.85 1277.29 2112.74 1277.83 Q2110.64 1278.36 2108.69 1279.42 L2108.69 1275.49 Q2111.03 1274.59 2113.23 1274.15 Q2115.43 1273.68 2117.51 1273.68 Q2123.14 1273.68 2125.91 1276.6 Q2128.69 1279.52 2128.69 1285.44 Z\" fill=\"#000000\" fill-rule=\"evenodd\" fill-opacity=\"1\" /><polyline clip-path=\"url(#clip700)\" style=\"stroke:#e26f46; stroke-linecap:round; stroke-linejoin:round; stroke-width:4; stroke-opacity:1; fill:none\" points=\"1858.99,1334.79 2004.57,1334.79 \"/>\n",
       "<path clip-path=\"url(#clip700)\" d=\"M2028.83 1317.51 L2058.07 1317.51 L2058.07 1321.45 L2045.8 1321.45 L2045.8 1352.07 L2041.1 1352.07 L2041.1 1321.45 L2028.83 1321.45 L2028.83 1317.51 Z\" fill=\"#000000\" fill-rule=\"evenodd\" fill-opacity=\"1\" /><path clip-path=\"url(#clip700)\" d=\"M2070.45 1330.13 Q2069.73 1329.71 2068.88 1329.53 Q2068.04 1329.32 2067.03 1329.32 Q2063.41 1329.32 2061.47 1331.68 Q2059.55 1334.02 2059.55 1338.42 L2059.55 1352.07 L2055.27 1352.07 L2055.27 1326.15 L2059.55 1326.15 L2059.55 1330.18 Q2060.89 1327.82 2063.04 1326.68 Q2065.2 1325.52 2068.28 1325.52 Q2068.72 1325.52 2069.25 1325.59 Q2069.78 1325.64 2070.43 1325.76 L2070.45 1330.13 Z\" fill=\"#000000\" fill-rule=\"evenodd\" fill-opacity=\"1\" /><path clip-path=\"url(#clip700)\" d=\"M2074.48 1341.84 L2074.48 1326.15 L2078.74 1326.15 L2078.74 1341.68 Q2078.74 1345.36 2080.17 1347.21 Q2081.61 1349.04 2084.48 1349.04 Q2087.93 1349.04 2089.92 1346.84 Q2091.93 1344.64 2091.93 1340.85 L2091.93 1326.15 L2096.19 1326.15 L2096.19 1352.07 L2091.93 1352.07 L2091.93 1348.09 Q2090.38 1350.45 2088.32 1351.61 Q2086.29 1352.75 2083.58 1352.75 Q2079.11 1352.75 2076.79 1349.97 Q2074.48 1347.19 2074.48 1341.84 M2085.2 1325.52 L2085.2 1325.52 Z\" fill=\"#000000\" fill-rule=\"evenodd\" fill-opacity=\"1\" /><path clip-path=\"url(#clip700)\" d=\"M2127.14 1338.05 L2127.14 1340.13 L2107.56 1340.13 Q2107.84 1344.53 2110.2 1346.84 Q2112.58 1349.13 2116.82 1349.13 Q2119.27 1349.13 2121.56 1348.53 Q2123.88 1347.93 2126.15 1346.73 L2126.15 1350.75 Q2123.85 1351.73 2121.45 1352.24 Q2119.04 1352.75 2116.56 1352.75 Q2110.36 1352.75 2106.72 1349.13 Q2103.11 1345.52 2103.11 1339.37 Q2103.11 1333 2106.54 1329.27 Q2109.99 1325.52 2115.82 1325.52 Q2121.05 1325.52 2124.09 1328.9 Q2127.14 1332.26 2127.14 1338.05 M2122.88 1336.8 Q2122.84 1333.3 2120.91 1331.22 Q2119.02 1329.13 2115.87 1329.13 Q2112.3 1329.13 2110.15 1331.15 Q2108.02 1333.16 2107.7 1336.82 L2122.88 1336.8 Z\" fill=\"#000000\" fill-rule=\"evenodd\" fill-opacity=\"1\" /><path clip-path=\"url(#clip700)\" d=\"M2149.2 1316.06 L2153.46 1316.06 L2153.46 1352.07 L2149.2 1352.07 L2149.2 1316.06 Z\" fill=\"#000000\" fill-rule=\"evenodd\" fill-opacity=\"1\" /><path clip-path=\"url(#clip700)\" d=\"M2162.37 1326.15 L2166.63 1326.15 L2166.63 1352.07 L2162.37 1352.07 L2162.37 1326.15 M2162.37 1316.06 L2166.63 1316.06 L2166.63 1321.45 L2162.37 1321.45 L2162.37 1316.06 Z\" fill=\"#000000\" fill-rule=\"evenodd\" fill-opacity=\"1\" /><path clip-path=\"url(#clip700)\" d=\"M2197.09 1336.43 L2197.09 1352.07 L2192.84 1352.07 L2192.84 1336.57 Q2192.84 1332.88 2191.4 1331.06 Q2189.97 1329.23 2187.09 1329.23 Q2183.65 1329.23 2181.65 1331.43 Q2179.66 1333.63 2179.66 1337.42 L2179.66 1352.07 L2175.38 1352.07 L2175.38 1326.15 L2179.66 1326.15 L2179.66 1330.18 Q2181.19 1327.84 2183.25 1326.68 Q2185.34 1325.52 2188.04 1325.52 Q2192.51 1325.52 2194.8 1328.3 Q2197.09 1331.06 2197.09 1336.43 Z\" fill=\"#000000\" fill-rule=\"evenodd\" fill-opacity=\"1\" /><path clip-path=\"url(#clip700)\" d=\"M2227.77 1338.05 L2227.77 1340.13 L2208.18 1340.13 Q2208.46 1344.53 2210.82 1346.84 Q2213.21 1349.13 2217.44 1349.13 Q2219.9 1349.13 2222.19 1348.53 Q2224.5 1347.93 2226.77 1346.73 L2226.77 1350.75 Q2224.48 1351.73 2222.07 1352.24 Q2219.66 1352.75 2217.19 1352.75 Q2210.98 1352.75 2207.35 1349.13 Q2203.74 1345.52 2203.74 1339.37 Q2203.74 1333 2207.16 1329.27 Q2210.61 1325.52 2216.45 1325.52 Q2221.68 1325.52 2224.71 1328.9 Q2227.77 1332.26 2227.77 1338.05 M2223.51 1336.8 Q2223.46 1333.3 2221.54 1331.22 Q2219.64 1329.13 2216.49 1329.13 Q2212.93 1329.13 2210.78 1331.15 Q2208.65 1333.16 2208.32 1336.82 L2223.51 1336.8 Z\" fill=\"#000000\" fill-rule=\"evenodd\" fill-opacity=\"1\" /><polyline clip-path=\"url(#clip700)\" style=\"stroke:#3da44d; stroke-linecap:round; stroke-linejoin:round; stroke-width:4; stroke-opacity:1; fill:none\" points=\"1858.99,1386.63 2004.57,1386.63 \"/>\n",
       "<path clip-path=\"url(#clip700)\" d=\"M2028.83 1369.35 L2048.69 1369.35 L2048.69 1373.29 L2033.51 1373.29 L2033.51 1383.47 L2047.21 1383.47 L2047.21 1387.41 L2033.51 1387.41 L2033.51 1403.91 L2028.83 1403.91 L2028.83 1369.35 Z\" fill=\"#000000\" fill-rule=\"evenodd\" fill-opacity=\"1\" /><path clip-path=\"url(#clip700)\" d=\"M2052.47 1377.99 L2056.73 1377.99 L2056.73 1403.91 L2052.47 1403.91 L2052.47 1377.99 M2052.47 1367.9 L2056.73 1367.9 L2056.73 1373.29 L2052.47 1373.29 L2052.47 1367.9 Z\" fill=\"#000000\" fill-rule=\"evenodd\" fill-opacity=\"1\" /><path clip-path=\"url(#clip700)\" d=\"M2069.85 1370.63 L2069.85 1377.99 L2078.62 1377.99 L2078.62 1381.3 L2069.85 1381.3 L2069.85 1395.37 Q2069.85 1398.54 2070.71 1399.45 Q2071.59 1400.35 2074.25 1400.35 L2078.62 1400.35 L2078.62 1403.91 L2074.25 1403.91 Q2069.32 1403.91 2067.44 1402.09 Q2065.57 1400.23 2065.57 1395.37 L2065.57 1381.3 L2062.44 1381.3 L2062.44 1377.99 L2065.57 1377.99 L2065.57 1370.63 L2069.85 1370.63 Z\" fill=\"#000000\" fill-rule=\"evenodd\" fill-opacity=\"1\" /><path clip-path=\"url(#clip700)\" d=\"M2088.44 1370.63 L2088.44 1377.99 L2097.21 1377.99 L2097.21 1381.3 L2088.44 1381.3 L2088.44 1395.37 Q2088.44 1398.54 2089.29 1399.45 Q2090.17 1400.35 2092.84 1400.35 L2097.21 1400.35 L2097.21 1403.91 L2092.84 1403.91 Q2087.91 1403.91 2086.03 1402.09 Q2084.16 1400.23 2084.16 1395.37 L2084.16 1381.3 L2081.03 1381.3 L2081.03 1377.99 L2084.16 1377.99 L2084.16 1370.63 L2088.44 1370.63 Z\" fill=\"#000000\" fill-rule=\"evenodd\" fill-opacity=\"1\" /><path clip-path=\"url(#clip700)\" d=\"M2124.99 1389.89 L2124.99 1391.97 L2105.41 1391.97 Q2105.68 1396.37 2108.04 1398.68 Q2110.43 1400.97 2114.66 1400.97 Q2117.12 1400.97 2119.41 1400.37 Q2121.72 1399.77 2123.99 1398.57 L2123.99 1402.59 Q2121.7 1403.57 2119.29 1404.08 Q2116.89 1404.59 2114.41 1404.59 Q2108.21 1404.59 2104.57 1400.97 Q2100.96 1397.36 2100.96 1391.21 Q2100.96 1384.84 2104.39 1381.11 Q2107.84 1377.36 2113.67 1377.36 Q2118.9 1377.36 2121.93 1380.74 Q2124.99 1384.1 2124.99 1389.89 M2120.73 1388.64 Q2120.68 1385.14 2118.76 1383.06 Q2116.86 1380.97 2113.72 1380.97 Q2110.15 1380.97 2108 1382.99 Q2105.87 1385 2105.54 1388.66 L2120.73 1388.64 Z\" fill=\"#000000\" fill-rule=\"evenodd\" fill-opacity=\"1\" /><path clip-path=\"url(#clip700)\" d=\"M2149.04 1381.92 L2149.04 1367.9 L2153.3 1367.9 L2153.3 1403.91 L2149.04 1403.91 L2149.04 1400.03 Q2147.7 1402.34 2145.64 1403.47 Q2143.6 1404.59 2140.73 1404.59 Q2136.03 1404.59 2133.07 1400.84 Q2130.13 1397.09 2130.13 1390.97 Q2130.13 1384.86 2133.07 1381.11 Q2136.03 1377.36 2140.73 1377.36 Q2143.6 1377.36 2145.64 1378.5 Q2147.7 1379.61 2149.04 1381.92 M2134.53 1390.97 Q2134.53 1395.67 2136.45 1398.36 Q2138.39 1401.02 2141.77 1401.02 Q2145.15 1401.02 2147.09 1398.36 Q2149.04 1395.67 2149.04 1390.97 Q2149.04 1386.28 2147.09 1383.61 Q2145.15 1380.93 2141.77 1380.93 Q2138.39 1380.93 2136.45 1383.61 Q2134.53 1386.28 2134.53 1390.97 Z\" fill=\"#000000\" fill-rule=\"evenodd\" fill-opacity=\"1\" /><path clip-path=\"url(#clip700)\" d=\"M2177.14 1367.9 L2181.4 1367.9 L2181.4 1403.91 L2177.14 1403.91 L2177.14 1367.9 Z\" fill=\"#000000\" fill-rule=\"evenodd\" fill-opacity=\"1\" /><path clip-path=\"url(#clip700)\" d=\"M2190.31 1377.99 L2194.57 1377.99 L2194.57 1403.91 L2190.31 1403.91 L2190.31 1377.99 M2190.31 1367.9 L2194.57 1367.9 L2194.57 1373.29 L2190.31 1373.29 L2190.31 1367.9 Z\" fill=\"#000000\" fill-rule=\"evenodd\" fill-opacity=\"1\" /><path clip-path=\"url(#clip700)\" d=\"M2225.03 1388.27 L2225.03 1403.91 L2220.78 1403.91 L2220.78 1388.41 Q2220.78 1384.72 2219.34 1382.9 Q2217.9 1381.07 2215.03 1381.07 Q2211.59 1381.07 2209.59 1383.27 Q2207.6 1385.47 2207.6 1389.26 L2207.6 1403.91 L2203.32 1403.91 L2203.32 1377.99 L2207.6 1377.99 L2207.6 1382.02 Q2209.13 1379.68 2211.19 1378.52 Q2213.28 1377.36 2215.98 1377.36 Q2220.45 1377.36 2222.74 1380.14 Q2225.03 1382.9 2225.03 1388.27 Z\" fill=\"#000000\" fill-rule=\"evenodd\" fill-opacity=\"1\" /><path clip-path=\"url(#clip700)\" d=\"M2255.71 1389.89 L2255.71 1391.97 L2236.12 1391.97 Q2236.4 1396.37 2238.76 1398.68 Q2241.15 1400.97 2245.38 1400.97 Q2247.84 1400.97 2250.13 1400.37 Q2252.44 1399.77 2254.71 1398.57 L2254.71 1402.59 Q2252.42 1403.57 2250.01 1404.08 Q2247.6 1404.59 2245.13 1404.59 Q2238.92 1404.59 2235.29 1400.97 Q2231.68 1397.36 2231.68 1391.21 Q2231.68 1384.84 2235.1 1381.11 Q2238.55 1377.36 2244.39 1377.36 Q2249.62 1377.36 2252.65 1380.74 Q2255.71 1384.1 2255.71 1389.89 M2251.45 1388.64 Q2251.4 1385.14 2249.48 1383.06 Q2247.58 1380.97 2244.43 1380.97 Q2240.87 1380.97 2238.71 1382.99 Q2236.59 1385 2236.26 1388.66 L2251.45 1388.64 Z\" fill=\"#000000\" fill-rule=\"evenodd\" fill-opacity=\"1\" /></svg>\n"
      ]
     },
     "execution_count": 72,
     "metadata": {},
     "output_type": "execute_result"
    }
   ],
   "source": [
    "x2=-10:10\n",
    "collect(x2)\n",
    "y_true2 = x2.^2 .+ 3 .*x2 .-2\n",
    "d2=50\n",
    "noise2 = di.Normal(0,d2)\n",
    "y_observed2 = y_true2 + rand(noise2,length(x2))\n",
    "scatter(x2,y_observed2)\n",
    "plot!(x2,y_true2)\n",
    "line_fit2 = fit(x2,y_observed2,2)\n",
    "fit_coeff2 = coeffs(line_fit2)\n",
    "y_fitted2= fit_coeff2[1] .+(fit_coeff2[2].*(x2)) .+(fit_coeff2[3] .*(x2.^2))\n",
    "scatter(x2,y_observed2, label=\"data\")\n",
    "plot!(x2,y_true2, label=\"True line\")\n",
    "plot!(x2,y_fitted2,label=\"Fitted line\")"
   ]
  },
  {
   "cell_type": "markdown",
   "id": "ab12acbd",
   "metadata": {},
   "source": [
    "2. Compare the plot with the plot in 2.3. Is the fit closer to y_true or not, and why?"
   ]
  },
  {
   "cell_type": "markdown",
   "id": "a34fcca4",
   "metadata": {},
   "source": [
    "The fitted line is not close to the true line and this indicates that there is large standard deviation error."
   ]
  },
  {
   "cell_type": "markdown",
   "id": "5fd1d93b",
   "metadata": {},
   "source": [
    "### 2.5\n",
    "\n",
    "#### Repeat 2.2 and 2.3 with a tenth order polynomial fit\n"
   ]
  },
  {
   "cell_type": "code",
   "execution_count": 75,
   "id": "b6dbd546",
   "metadata": {},
   "outputs": [
    {
     "data": {
      "image/svg+xml": [
       "<?xml version=\"1.0\" encoding=\"utf-8\"?>\n",
       "<svg xmlns=\"http://www.w3.org/2000/svg\" xmlns:xlink=\"http://www.w3.org/1999/xlink\" width=\"600\" height=\"400\" viewBox=\"0 0 2400 1600\">\n",
       "<defs>\n",
       "  <clipPath id=\"clip820\">\n",
       "    <rect x=\"0\" y=\"0\" width=\"2400\" height=\"1600\"/>\n",
       "  </clipPath>\n",
       "</defs>\n",
       "<path clip-path=\"url(#clip820)\" d=\"M0 1600 L2400 1600 L2400 0 L0 0  Z\" fill=\"#ffffff\" fill-rule=\"evenodd\" fill-opacity=\"1\"/>\n",
       "<defs>\n",
       "  <clipPath id=\"clip821\">\n",
       "    <rect x=\"480\" y=\"0\" width=\"1681\" height=\"1600\"/>\n",
       "  </clipPath>\n",
       "</defs>\n",
       "<path clip-path=\"url(#clip820)\" d=\"M169.121 1486.45 L2352.76 1486.45 L2352.76 47.2441 L169.121 47.2441  Z\" fill=\"#ffffff\" fill-rule=\"evenodd\" fill-opacity=\"1\"/>\n",
       "<defs>\n",
       "  <clipPath id=\"clip822\">\n",
       "    <rect x=\"169\" y=\"47\" width=\"2185\" height=\"1440\"/>\n",
       "  </clipPath>\n",
       "</defs>\n",
       "<polyline clip-path=\"url(#clip822)\" style=\"stroke:#000000; stroke-linecap:round; stroke-linejoin:round; stroke-width:2; stroke-opacity:0.1; fill:none\" points=\"230.922,1486.45 230.922,47.2441 \"/>\n",
       "<polyline clip-path=\"url(#clip822)\" style=\"stroke:#000000; stroke-linecap:round; stroke-linejoin:round; stroke-width:2; stroke-opacity:0.1; fill:none\" points=\"745.93,1486.45 745.93,47.2441 \"/>\n",
       "<polyline clip-path=\"url(#clip822)\" style=\"stroke:#000000; stroke-linecap:round; stroke-linejoin:round; stroke-width:2; stroke-opacity:0.1; fill:none\" points=\"1260.94,1486.45 1260.94,47.2441 \"/>\n",
       "<polyline clip-path=\"url(#clip822)\" style=\"stroke:#000000; stroke-linecap:round; stroke-linejoin:round; stroke-width:2; stroke-opacity:0.1; fill:none\" points=\"1775.95,1486.45 1775.95,47.2441 \"/>\n",
       "<polyline clip-path=\"url(#clip822)\" style=\"stroke:#000000; stroke-linecap:round; stroke-linejoin:round; stroke-width:2; stroke-opacity:0.1; fill:none\" points=\"2290.95,1486.45 2290.95,47.2441 \"/>\n",
       "<polyline clip-path=\"url(#clip820)\" style=\"stroke:#000000; stroke-linecap:round; stroke-linejoin:round; stroke-width:4; stroke-opacity:1; fill:none\" points=\"169.121,1486.45 2352.76,1486.45 \"/>\n",
       "<polyline clip-path=\"url(#clip820)\" style=\"stroke:#000000; stroke-linecap:round; stroke-linejoin:round; stroke-width:4; stroke-opacity:1; fill:none\" points=\"230.922,1486.45 230.922,1467.55 \"/>\n",
       "<polyline clip-path=\"url(#clip820)\" style=\"stroke:#000000; stroke-linecap:round; stroke-linejoin:round; stroke-width:4; stroke-opacity:1; fill:none\" points=\"745.93,1486.45 745.93,1467.55 \"/>\n",
       "<polyline clip-path=\"url(#clip820)\" style=\"stroke:#000000; stroke-linecap:round; stroke-linejoin:round; stroke-width:4; stroke-opacity:1; fill:none\" points=\"1260.94,1486.45 1260.94,1467.55 \"/>\n",
       "<polyline clip-path=\"url(#clip820)\" style=\"stroke:#000000; stroke-linecap:round; stroke-linejoin:round; stroke-width:4; stroke-opacity:1; fill:none\" points=\"1775.95,1486.45 1775.95,1467.55 \"/>\n",
       "<polyline clip-path=\"url(#clip820)\" style=\"stroke:#000000; stroke-linecap:round; stroke-linejoin:round; stroke-width:4; stroke-opacity:1; fill:none\" points=\"2290.95,1486.45 2290.95,1467.55 \"/>\n",
       "<path clip-path=\"url(#clip820)\" d=\"M184.985 1532.02 L214.661 1532.02 L214.661 1535.95 L184.985 1535.95 L184.985 1532.02 Z\" fill=\"#000000\" fill-rule=\"evenodd\" fill-opacity=\"1\" /><path clip-path=\"url(#clip820)\" d=\"M225.564 1544.91 L233.202 1544.91 L233.202 1518.55 L224.892 1520.21 L224.892 1515.95 L233.156 1514.29 L237.832 1514.29 L237.832 1544.91 L245.471 1544.91 L245.471 1548.85 L225.564 1548.85 L225.564 1544.91 Z\" fill=\"#000000\" fill-rule=\"evenodd\" fill-opacity=\"1\" /><path clip-path=\"url(#clip820)\" d=\"M264.915 1517.37 Q261.304 1517.37 259.475 1520.93 Q257.67 1524.47 257.67 1531.6 Q257.67 1538.71 259.475 1542.27 Q261.304 1545.82 264.915 1545.82 Q268.549 1545.82 270.355 1542.27 Q272.184 1538.71 272.184 1531.6 Q272.184 1524.47 270.355 1520.93 Q268.549 1517.37 264.915 1517.37 M264.915 1513.66 Q270.725 1513.66 273.781 1518.27 Q276.86 1522.85 276.86 1531.6 Q276.86 1540.33 273.781 1544.94 Q270.725 1549.52 264.915 1549.52 Q259.105 1549.52 256.026 1544.94 Q252.971 1540.33 252.971 1531.6 Q252.971 1522.85 256.026 1518.27 Q259.105 1513.66 264.915 1513.66 Z\" fill=\"#000000\" fill-rule=\"evenodd\" fill-opacity=\"1\" /><path clip-path=\"url(#clip820)\" d=\"M715.572 1532.02 L745.248 1532.02 L745.248 1535.95 L715.572 1535.95 L715.572 1532.02 Z\" fill=\"#000000\" fill-rule=\"evenodd\" fill-opacity=\"1\" /><path clip-path=\"url(#clip820)\" d=\"M755.386 1514.29 L773.743 1514.29 L773.743 1518.22 L759.669 1518.22 L759.669 1526.7 Q760.687 1526.35 761.706 1526.19 Q762.724 1526 763.743 1526 Q769.53 1526 772.909 1529.17 Q776.289 1532.34 776.289 1537.76 Q776.289 1543.34 772.817 1546.44 Q769.345 1549.52 763.025 1549.52 Q760.849 1549.52 758.581 1549.15 Q756.335 1548.78 753.928 1548.04 L753.928 1543.34 Q756.011 1544.47 758.234 1545.03 Q760.456 1545.58 762.933 1545.58 Q766.937 1545.58 769.275 1543.48 Q771.613 1541.37 771.613 1537.76 Q771.613 1534.15 769.275 1532.04 Q766.937 1529.94 762.933 1529.94 Q761.058 1529.94 759.183 1530.35 Q757.331 1530.77 755.386 1531.65 L755.386 1514.29 Z\" fill=\"#000000\" fill-rule=\"evenodd\" fill-opacity=\"1\" /><path clip-path=\"url(#clip820)\" d=\"M1260.94 1517.37 Q1257.33 1517.37 1255.5 1520.93 Q1253.69 1524.47 1253.69 1531.6 Q1253.69 1538.71 1255.5 1542.27 Q1257.33 1545.82 1260.94 1545.82 Q1264.57 1545.82 1266.38 1542.27 Q1268.21 1538.71 1268.21 1531.6 Q1268.21 1524.47 1266.38 1520.93 Q1264.57 1517.37 1260.94 1517.37 M1260.94 1513.66 Q1266.75 1513.66 1269.8 1518.27 Q1272.88 1522.85 1272.88 1531.6 Q1272.88 1540.33 1269.8 1544.94 Q1266.75 1549.52 1260.94 1549.52 Q1255.13 1549.52 1252.05 1544.94 Q1248.99 1540.33 1248.99 1531.6 Q1248.99 1522.85 1252.05 1518.27 Q1255.13 1513.66 1260.94 1513.66 Z\" fill=\"#000000\" fill-rule=\"evenodd\" fill-opacity=\"1\" /><path clip-path=\"url(#clip820)\" d=\"M1766.22 1514.29 L1784.58 1514.29 L1784.58 1518.22 L1770.51 1518.22 L1770.51 1526.7 Q1771.53 1526.35 1772.54 1526.19 Q1773.56 1526 1774.58 1526 Q1780.37 1526 1783.75 1529.17 Q1787.13 1532.34 1787.13 1537.76 Q1787.13 1543.34 1783.66 1546.44 Q1780.18 1549.52 1773.86 1549.52 Q1771.69 1549.52 1769.42 1549.15 Q1767.17 1548.78 1764.77 1548.04 L1764.77 1543.34 Q1766.85 1544.47 1769.07 1545.03 Q1771.29 1545.58 1773.77 1545.58 Q1777.78 1545.58 1780.11 1543.48 Q1782.45 1541.37 1782.45 1537.76 Q1782.45 1534.15 1780.11 1532.04 Q1777.78 1529.94 1773.77 1529.94 Q1771.9 1529.94 1770.02 1530.35 Q1768.17 1530.77 1766.22 1531.65 L1766.22 1514.29 Z\" fill=\"#000000\" fill-rule=\"evenodd\" fill-opacity=\"1\" /><path clip-path=\"url(#clip820)\" d=\"M2265.64 1544.91 L2273.28 1544.91 L2273.28 1518.55 L2264.97 1520.21 L2264.97 1515.95 L2273.24 1514.29 L2277.91 1514.29 L2277.91 1544.91 L2285.55 1544.91 L2285.55 1548.85 L2265.64 1548.85 L2265.64 1544.91 Z\" fill=\"#000000\" fill-rule=\"evenodd\" fill-opacity=\"1\" /><path clip-path=\"url(#clip820)\" d=\"M2304.99 1517.37 Q2301.38 1517.37 2299.55 1520.93 Q2297.75 1524.47 2297.75 1531.6 Q2297.75 1538.71 2299.55 1542.27 Q2301.38 1545.82 2304.99 1545.82 Q2308.63 1545.82 2310.43 1542.27 Q2312.26 1538.71 2312.26 1531.6 Q2312.26 1524.47 2310.43 1520.93 Q2308.63 1517.37 2304.99 1517.37 M2304.99 1513.66 Q2310.8 1513.66 2313.86 1518.27 Q2316.94 1522.85 2316.94 1531.6 Q2316.94 1540.33 2313.86 1544.94 Q2310.8 1549.52 2304.99 1549.52 Q2299.18 1549.52 2296.11 1544.94 Q2293.05 1540.33 2293.05 1531.6 Q2293.05 1522.85 2296.11 1518.27 Q2299.18 1513.66 2304.99 1513.66 Z\" fill=\"#000000\" fill-rule=\"evenodd\" fill-opacity=\"1\" /><polyline clip-path=\"url(#clip822)\" style=\"stroke:#000000; stroke-linecap:round; stroke-linejoin:round; stroke-width:2; stroke-opacity:0.1; fill:none\" points=\"169.121,1292.07 2352.76,1292.07 \"/>\n",
       "<polyline clip-path=\"url(#clip822)\" style=\"stroke:#000000; stroke-linecap:round; stroke-linejoin:round; stroke-width:2; stroke-opacity:0.1; fill:none\" points=\"169.121,1009.86 2352.76,1009.86 \"/>\n",
       "<polyline clip-path=\"url(#clip822)\" style=\"stroke:#000000; stroke-linecap:round; stroke-linejoin:round; stroke-width:2; stroke-opacity:0.1; fill:none\" points=\"169.121,727.651 2352.76,727.651 \"/>\n",
       "<polyline clip-path=\"url(#clip822)\" style=\"stroke:#000000; stroke-linecap:round; stroke-linejoin:round; stroke-width:2; stroke-opacity:0.1; fill:none\" points=\"169.121,445.442 2352.76,445.442 \"/>\n",
       "<polyline clip-path=\"url(#clip822)\" style=\"stroke:#000000; stroke-linecap:round; stroke-linejoin:round; stroke-width:2; stroke-opacity:0.1; fill:none\" points=\"169.121,163.232 2352.76,163.232 \"/>\n",
       "<polyline clip-path=\"url(#clip820)\" style=\"stroke:#000000; stroke-linecap:round; stroke-linejoin:round; stroke-width:4; stroke-opacity:1; fill:none\" points=\"169.121,1486.45 169.121,47.2441 \"/>\n",
       "<polyline clip-path=\"url(#clip820)\" style=\"stroke:#000000; stroke-linecap:round; stroke-linejoin:round; stroke-width:4; stroke-opacity:1; fill:none\" points=\"169.121,1292.07 188.019,1292.07 \"/>\n",
       "<polyline clip-path=\"url(#clip820)\" style=\"stroke:#000000; stroke-linecap:round; stroke-linejoin:round; stroke-width:4; stroke-opacity:1; fill:none\" points=\"169.121,1009.86 188.019,1009.86 \"/>\n",
       "<polyline clip-path=\"url(#clip820)\" style=\"stroke:#000000; stroke-linecap:round; stroke-linejoin:round; stroke-width:4; stroke-opacity:1; fill:none\" points=\"169.121,727.651 188.019,727.651 \"/>\n",
       "<polyline clip-path=\"url(#clip820)\" style=\"stroke:#000000; stroke-linecap:round; stroke-linejoin:round; stroke-width:4; stroke-opacity:1; fill:none\" points=\"169.121,445.442 188.019,445.442 \"/>\n",
       "<polyline clip-path=\"url(#clip820)\" style=\"stroke:#000000; stroke-linecap:round; stroke-linejoin:round; stroke-width:4; stroke-opacity:1; fill:none\" points=\"169.121,163.232 188.019,163.232 \"/>\n",
       "<path clip-path=\"url(#clip820)\" d=\"M121.177 1277.87 Q117.566 1277.87 115.737 1281.43 Q113.932 1284.98 113.932 1292.11 Q113.932 1299.21 115.737 1302.78 Q117.566 1306.32 121.177 1306.32 Q124.811 1306.32 126.617 1302.78 Q128.445 1299.21 128.445 1292.11 Q128.445 1284.98 126.617 1281.43 Q124.811 1277.87 121.177 1277.87 M121.177 1274.17 Q126.987 1274.17 130.043 1278.77 Q133.121 1283.36 133.121 1292.11 Q133.121 1300.83 130.043 1305.44 Q126.987 1310.02 121.177 1310.02 Q115.367 1310.02 112.288 1305.44 Q109.233 1300.83 109.233 1292.11 Q109.233 1283.36 112.288 1278.77 Q115.367 1274.17 121.177 1274.17 Z\" fill=\"#000000\" fill-rule=\"evenodd\" fill-opacity=\"1\" /><path clip-path=\"url(#clip820)\" d=\"M95.1817 1008.51 Q98.5382 1009.22 100.413 1011.49 Q102.311 1013.76 102.311 1017.09 Q102.311 1022.21 98.7928 1025.01 Q95.2743 1027.81 88.7928 1027.81 Q86.6169 1027.81 84.3021 1027.37 Q82.0105 1026.96 79.5568 1026.1 L79.5568 1021.59 Q81.5012 1022.72 83.816 1023.3 Q86.1308 1023.88 88.654 1023.88 Q93.0521 1023.88 95.3437 1022.14 Q97.6585 1020.4 97.6585 1017.09 Q97.6585 1014.04 95.5058 1012.33 Q93.3762 1010.59 89.5567 1010.59 L85.529 1010.59 L85.529 1006.75 L89.7419 1006.75 Q93.191 1006.75 95.0197 1005.38 Q96.8484 1003.99 96.8484 1001.4 Q96.8484 998.738 94.9502 997.326 Q93.0752 995.891 89.5567 995.891 Q87.6354 995.891 85.4364 996.308 Q83.2373 996.724 80.5984 997.604 L80.5984 993.437 Q83.2605 992.697 85.5753 992.326 Q87.9132 991.956 89.9734 991.956 Q95.2974 991.956 98.3993 994.387 Q101.501 996.794 101.501 1000.91 Q101.501 1003.78 99.8576 1005.78 Q98.2141 1007.74 95.1817 1008.51 Z\" fill=\"#000000\" fill-rule=\"evenodd\" fill-opacity=\"1\" /><path clip-path=\"url(#clip820)\" d=\"M121.177 995.66 Q117.566 995.66 115.737 999.224 Q113.932 1002.77 113.932 1009.9 Q113.932 1017 115.737 1020.57 Q117.566 1024.11 121.177 1024.11 Q124.811 1024.11 126.617 1020.57 Q128.445 1017 128.445 1009.9 Q128.445 1002.77 126.617 999.224 Q124.811 995.66 121.177 995.66 M121.177 991.956 Q126.987 991.956 130.043 996.562 Q133.121 1001.15 133.121 1009.9 Q133.121 1018.62 130.043 1023.23 Q126.987 1027.81 121.177 1027.81 Q115.367 1027.81 112.288 1023.23 Q109.233 1018.62 109.233 1009.9 Q109.233 1001.15 112.288 996.562 Q115.367 991.956 121.177 991.956 Z\" fill=\"#000000\" fill-rule=\"evenodd\" fill-opacity=\"1\" /><path clip-path=\"url(#clip820)\" d=\"M91.5938 725.788 Q88.4456 725.788 86.5938 727.941 Q84.7651 730.093 84.7651 733.843 Q84.7651 737.57 86.5938 739.746 Q88.4456 741.899 91.5938 741.899 Q94.7419 741.899 96.5706 739.746 Q98.4224 737.57 98.4224 733.843 Q98.4224 730.093 96.5706 727.941 Q94.7419 725.788 91.5938 725.788 M100.876 711.135 L100.876 715.395 Q99.1169 714.561 97.3113 714.121 Q95.5289 713.682 93.7697 713.682 Q89.1401 713.682 86.6864 716.807 Q84.2558 719.932 83.9086 726.251 Q85.2743 724.237 87.3345 723.172 Q89.3947 722.084 91.8715 722.084 Q97.0798 722.084 100.089 725.256 Q103.121 728.404 103.121 733.843 Q103.121 739.168 99.9733 742.385 Q96.8252 745.603 91.5938 745.603 Q85.5984 745.603 82.4271 741.019 Q79.2559 736.413 79.2559 727.686 Q79.2559 719.492 83.1447 714.631 Q87.0336 709.746 93.5845 709.746 Q95.3437 709.746 97.1261 710.094 Q98.9317 710.441 100.876 711.135 Z\" fill=\"#000000\" fill-rule=\"evenodd\" fill-opacity=\"1\" /><path clip-path=\"url(#clip820)\" d=\"M121.177 713.45 Q117.566 713.45 115.737 717.015 Q113.932 720.557 113.932 727.686 Q113.932 734.793 115.737 738.357 Q117.566 741.899 121.177 741.899 Q124.811 741.899 126.617 738.357 Q128.445 734.793 128.445 727.686 Q128.445 720.557 126.617 717.015 Q124.811 713.45 121.177 713.45 M121.177 709.746 Q126.987 709.746 130.043 714.353 Q133.121 718.936 133.121 727.686 Q133.121 736.413 130.043 741.019 Q126.987 745.603 121.177 745.603 Q115.367 745.603 112.288 741.019 Q109.233 736.413 109.233 727.686 Q109.233 718.936 112.288 714.353 Q115.367 709.746 121.177 709.746 Z\" fill=\"#000000\" fill-rule=\"evenodd\" fill-opacity=\"1\" /><path clip-path=\"url(#clip820)\" d=\"M81.154 462.004 L81.154 457.745 Q82.9133 458.578 84.7188 459.018 Q86.5243 459.458 88.2604 459.458 Q92.89 459.458 95.3206 456.356 Q97.7743 453.231 98.1215 446.889 Q96.7789 448.879 94.7187 449.944 Q92.6586 451.009 90.1586 451.009 Q84.9734 451.009 81.941 447.884 Q78.9318 444.736 78.9318 439.296 Q78.9318 433.972 82.0799 430.754 Q85.2281 427.537 90.4595 427.537 Q96.4548 427.537 99.603 432.143 Q102.774 436.727 102.774 445.476 Q102.774 453.648 98.8854 458.532 Q95.0197 463.393 88.4688 463.393 Q86.7095 463.393 84.904 463.046 Q83.0984 462.699 81.154 462.004 M90.4595 447.351 Q93.6076 447.351 95.4363 445.199 Q97.2882 443.046 97.2882 439.296 Q97.2882 435.569 95.4363 433.416 Q93.6076 431.24 90.4595 431.24 Q87.3114 431.24 85.4595 433.416 Q83.6308 435.569 83.6308 439.296 Q83.6308 443.046 85.4595 445.199 Q87.3114 447.351 90.4595 447.351 Z\" fill=\"#000000\" fill-rule=\"evenodd\" fill-opacity=\"1\" /><path clip-path=\"url(#clip820)\" d=\"M121.177 431.24 Q117.566 431.24 115.737 434.805 Q113.932 438.347 113.932 445.476 Q113.932 452.583 115.737 456.148 Q117.566 459.689 121.177 459.689 Q124.811 459.689 126.617 456.148 Q128.445 452.583 128.445 445.476 Q128.445 438.347 126.617 434.805 Q124.811 431.24 121.177 431.24 M121.177 427.537 Q126.987 427.537 130.043 432.143 Q133.121 436.727 133.121 445.476 Q133.121 454.203 130.043 458.81 Q126.987 463.393 121.177 463.393 Q115.367 463.393 112.288 458.81 Q109.233 454.203 109.233 445.476 Q109.233 436.727 112.288 432.143 Q115.367 427.537 121.177 427.537 Z\" fill=\"#000000\" fill-rule=\"evenodd\" fill-opacity=\"1\" /><path clip-path=\"url(#clip820)\" d=\"M51.6634 176.577 L59.3023 176.577 L59.3023 150.211 L50.9921 151.878 L50.9921 147.619 L59.256 145.952 L63.9319 145.952 L63.9319 176.577 L71.5707 176.577 L71.5707 180.512 L51.6634 180.512 L51.6634 176.577 Z\" fill=\"#000000\" fill-rule=\"evenodd\" fill-opacity=\"1\" /><path clip-path=\"url(#clip820)\" d=\"M85.0429 176.577 L101.362 176.577 L101.362 180.512 L79.4179 180.512 L79.4179 176.577 Q82.0799 173.822 86.6632 169.193 Q91.2697 164.54 92.4502 163.197 Q94.6956 160.674 95.5752 158.938 Q96.478 157.179 96.478 155.489 Q96.478 152.735 94.5336 150.998 Q92.6123 149.262 89.5104 149.262 Q87.3114 149.262 84.8577 150.026 Q82.4271 150.79 79.6494 152.341 L79.6494 147.619 Q82.4734 146.485 84.9271 145.906 Q87.3808 145.327 89.4178 145.327 Q94.7882 145.327 97.9826 148.012 Q101.177 150.698 101.177 155.188 Q101.177 157.318 100.367 159.239 Q99.5798 161.137 97.4734 163.73 Q96.8947 164.401 93.7928 167.619 Q90.691 170.813 85.0429 176.577 Z\" fill=\"#000000\" fill-rule=\"evenodd\" fill-opacity=\"1\" /><path clip-path=\"url(#clip820)\" d=\"M121.177 149.031 Q117.566 149.031 115.737 152.596 Q113.932 156.137 113.932 163.267 Q113.932 170.373 115.737 173.938 Q117.566 177.48 121.177 177.48 Q124.811 177.48 126.617 173.938 Q128.445 170.373 128.445 163.267 Q128.445 156.137 126.617 152.596 Q124.811 149.031 121.177 149.031 M121.177 145.327 Q126.987 145.327 130.043 149.934 Q133.121 154.517 133.121 163.267 Q133.121 171.994 130.043 176.6 Q126.987 181.183 121.177 181.183 Q115.367 181.183 112.288 176.6 Q109.233 171.994 109.233 163.267 Q109.233 154.517 112.288 149.934 Q115.367 145.327 121.177 145.327 Z\" fill=\"#000000\" fill-rule=\"evenodd\" fill-opacity=\"1\" /><circle clip-path=\"url(#clip822)\" cx=\"230.922\" cy=\"633.71\" r=\"14.4\" fill=\"#009af9\" fill-rule=\"evenodd\" fill-opacity=\"1\" stroke=\"#000000\" stroke-opacity=\"1\" stroke-width=\"3.2\"/>\n",
       "<circle clip-path=\"url(#clip822)\" cx=\"333.924\" cy=\"691.976\" r=\"14.4\" fill=\"#009af9\" fill-rule=\"evenodd\" fill-opacity=\"1\" stroke=\"#000000\" stroke-opacity=\"1\" stroke-width=\"3.2\"/>\n",
       "<circle clip-path=\"url(#clip822)\" cx=\"436.926\" cy=\"1047.38\" r=\"14.4\" fill=\"#009af9\" fill-rule=\"evenodd\" fill-opacity=\"1\" stroke=\"#000000\" stroke-opacity=\"1\" stroke-width=\"3.2\"/>\n",
       "<circle clip-path=\"url(#clip822)\" cx=\"539.927\" cy=\"1142.26\" r=\"14.4\" fill=\"#009af9\" fill-rule=\"evenodd\" fill-opacity=\"1\" stroke=\"#000000\" stroke-opacity=\"1\" stroke-width=\"3.2\"/>\n",
       "<circle clip-path=\"url(#clip822)\" cx=\"642.929\" cy=\"1101.14\" r=\"14.4\" fill=\"#009af9\" fill-rule=\"evenodd\" fill-opacity=\"1\" stroke=\"#000000\" stroke-opacity=\"1\" stroke-width=\"3.2\"/>\n",
       "<circle clip-path=\"url(#clip822)\" cx=\"745.93\" cy=\"1328.91\" r=\"14.4\" fill=\"#009af9\" fill-rule=\"evenodd\" fill-opacity=\"1\" stroke=\"#000000\" stroke-opacity=\"1\" stroke-width=\"3.2\"/>\n",
       "<circle clip-path=\"url(#clip822)\" cx=\"848.932\" cy=\"1151.1\" r=\"14.4\" fill=\"#009af9\" fill-rule=\"evenodd\" fill-opacity=\"1\" stroke=\"#000000\" stroke-opacity=\"1\" stroke-width=\"3.2\"/>\n",
       "<circle clip-path=\"url(#clip822)\" cx=\"951.934\" cy=\"1382.94\" r=\"14.4\" fill=\"#009af9\" fill-rule=\"evenodd\" fill-opacity=\"1\" stroke=\"#000000\" stroke-opacity=\"1\" stroke-width=\"3.2\"/>\n",
       "<circle clip-path=\"url(#clip822)\" cx=\"1054.94\" cy=\"1347.78\" r=\"14.4\" fill=\"#009af9\" fill-rule=\"evenodd\" fill-opacity=\"1\" stroke=\"#000000\" stroke-opacity=\"1\" stroke-width=\"3.2\"/>\n",
       "<circle clip-path=\"url(#clip822)\" cx=\"1157.94\" cy=\"1445.72\" r=\"14.4\" fill=\"#009af9\" fill-rule=\"evenodd\" fill-opacity=\"1\" stroke=\"#000000\" stroke-opacity=\"1\" stroke-width=\"3.2\"/>\n",
       "<circle clip-path=\"url(#clip822)\" cx=\"1260.94\" cy=\"1317.26\" r=\"14.4\" fill=\"#009af9\" fill-rule=\"evenodd\" fill-opacity=\"1\" stroke=\"#000000\" stroke-opacity=\"1\" stroke-width=\"3.2\"/>\n",
       "<circle clip-path=\"url(#clip822)\" cx=\"1363.94\" cy=\"1256.72\" r=\"14.4\" fill=\"#009af9\" fill-rule=\"evenodd\" fill-opacity=\"1\" stroke=\"#000000\" stroke-opacity=\"1\" stroke-width=\"3.2\"/>\n",
       "<circle clip-path=\"url(#clip822)\" cx=\"1466.94\" cy=\"1237.03\" r=\"14.4\" fill=\"#009af9\" fill-rule=\"evenodd\" fill-opacity=\"1\" stroke=\"#000000\" stroke-opacity=\"1\" stroke-width=\"3.2\"/>\n",
       "<circle clip-path=\"url(#clip822)\" cx=\"1569.94\" cy=\"1157.18\" r=\"14.4\" fill=\"#009af9\" fill-rule=\"evenodd\" fill-opacity=\"1\" stroke=\"#000000\" stroke-opacity=\"1\" stroke-width=\"3.2\"/>\n",
       "<circle clip-path=\"url(#clip822)\" cx=\"1672.95\" cy=\"1051.57\" r=\"14.4\" fill=\"#009af9\" fill-rule=\"evenodd\" fill-opacity=\"1\" stroke=\"#000000\" stroke-opacity=\"1\" stroke-width=\"3.2\"/>\n",
       "<circle clip-path=\"url(#clip822)\" cx=\"1775.95\" cy=\"1072.29\" r=\"14.4\" fill=\"#009af9\" fill-rule=\"evenodd\" fill-opacity=\"1\" stroke=\"#000000\" stroke-opacity=\"1\" stroke-width=\"3.2\"/>\n",
       "<circle clip-path=\"url(#clip822)\" cx=\"1878.95\" cy=\"849.682\" r=\"14.4\" fill=\"#009af9\" fill-rule=\"evenodd\" fill-opacity=\"1\" stroke=\"#000000\" stroke-opacity=\"1\" stroke-width=\"3.2\"/>\n",
       "<circle clip-path=\"url(#clip822)\" cx=\"1981.95\" cy=\"729.734\" r=\"14.4\" fill=\"#009af9\" fill-rule=\"evenodd\" fill-opacity=\"1\" stroke=\"#000000\" stroke-opacity=\"1\" stroke-width=\"3.2\"/>\n",
       "<circle clip-path=\"url(#clip822)\" cx=\"2084.95\" cy=\"467.746\" r=\"14.4\" fill=\"#009af9\" fill-rule=\"evenodd\" fill-opacity=\"1\" stroke=\"#000000\" stroke-opacity=\"1\" stroke-width=\"3.2\"/>\n",
       "<circle clip-path=\"url(#clip822)\" cx=\"2187.95\" cy=\"375.068\" r=\"14.4\" fill=\"#009af9\" fill-rule=\"evenodd\" fill-opacity=\"1\" stroke=\"#000000\" stroke-opacity=\"1\" stroke-width=\"3.2\"/>\n",
       "<circle clip-path=\"url(#clip822)\" cx=\"2290.95\" cy=\"170.452\" r=\"14.4\" fill=\"#009af9\" fill-rule=\"evenodd\" fill-opacity=\"1\" stroke=\"#000000\" stroke-opacity=\"1\" stroke-width=\"3.2\"/>\n",
       "<polyline clip-path=\"url(#clip822)\" style=\"stroke:#e26f46; stroke-linecap:round; stroke-linejoin:round; stroke-width:4; stroke-opacity:1; fill:none\" points=\"230.922,652.395 333.924,802.907 436.926,934.605 539.927,1047.49 642.929,1141.56 745.93,1216.81 848.932,1273.26 951.934,1310.88 1054.94,1329.7 1157.94,1329.7 1260.94,1310.88 1363.94,1273.26 1466.94,1216.81 1569.94,1141.56 1672.95,1047.49 1775.95,934.605 1878.95,802.907 1981.95,652.395 2084.95,483.07 2187.95,294.93 2290.95,87.9763 \"/>\n",
       "<polyline clip-path=\"url(#clip822)\" style=\"stroke:#3da44d; stroke-linecap:round; stroke-linejoin:round; stroke-width:4; stroke-opacity:1; fill:none\" points=\"230.922,630.961 333.924,708.886 436.926,1012.05 539.927,1152.56 642.929,1176.73 745.93,1194.43 848.932,1252.89 951.934,1333.27 1054.94,1391.13 1157.94,1395.58 1260.94,1347.14 1363.94,1272.09 1466.94,1201.79 1569.94,1150.29 1672.95,1103.07 1775.95,1024.79 1878.95,885.228 1981.95,691.221 2084.95,498.497 2187.95,362.603 2290.95,172.43 \"/>\n",
       "<path clip-path=\"url(#clip820)\" d=\"M241.909 302.578 L687.146 302.578 L687.146 95.2176 L241.909 95.2176  Z\" fill=\"#ffffff\" fill-rule=\"evenodd\" fill-opacity=\"1\"/>\n",
       "<polyline clip-path=\"url(#clip820)\" style=\"stroke:#000000; stroke-linecap:round; stroke-linejoin:round; stroke-width:4; stroke-opacity:1; fill:none\" points=\"241.909,302.578 687.146,302.578 687.146,95.2176 241.909,95.2176 241.909,302.578 \"/>\n",
       "<circle clip-path=\"url(#clip820)\" cx=\"338.96\" cy=\"147.058\" r=\"23.04\" fill=\"#009af9\" fill-rule=\"evenodd\" fill-opacity=\"1\" stroke=\"#000000\" stroke-opacity=\"1\" stroke-width=\"5.12\"/>\n",
       "<path clip-path=\"url(#clip820)\" d=\"M454.922 142.347 L454.922 128.319 L459.181 128.319 L459.181 164.338 L454.922 164.338 L454.922 160.449 Q453.579 162.763 451.519 163.898 Q449.482 165.009 446.612 165.009 Q441.913 165.009 438.95 161.259 Q436.01 157.509 436.01 151.398 Q436.01 145.287 438.95 141.537 Q441.913 137.787 446.612 137.787 Q449.482 137.787 451.519 138.921 Q453.579 140.032 454.922 142.347 M440.408 151.398 Q440.408 156.097 442.329 158.782 Q444.274 161.444 447.653 161.444 Q451.033 161.444 452.977 158.782 Q454.922 156.097 454.922 151.398 Q454.922 146.699 452.977 144.037 Q451.033 141.352 447.653 141.352 Q444.274 141.352 442.329 144.037 Q440.408 146.699 440.408 151.398 Z\" fill=\"#000000\" fill-rule=\"evenodd\" fill-opacity=\"1\" /><path clip-path=\"url(#clip820)\" d=\"M479.737 151.305 Q474.575 151.305 472.584 152.486 Q470.593 153.666 470.593 156.514 Q470.593 158.782 472.075 160.125 Q473.579 161.444 476.149 161.444 Q479.69 161.444 481.82 158.944 Q483.973 156.421 483.973 152.254 L483.973 151.305 L479.737 151.305 M488.232 149.546 L488.232 164.338 L483.973 164.338 L483.973 160.402 Q482.514 162.763 480.338 163.898 Q478.163 165.009 475.014 165.009 Q471.033 165.009 468.672 162.787 Q466.334 160.541 466.334 156.791 Q466.334 152.416 469.251 150.194 Q472.19 147.972 478.001 147.972 L483.973 147.972 L483.973 147.555 Q483.973 144.615 482.028 143.018 Q480.107 141.398 476.612 141.398 Q474.389 141.398 472.283 141.93 Q470.176 142.463 468.232 143.527 L468.232 139.592 Q470.57 138.69 472.769 138.25 Q474.968 137.787 477.051 137.787 Q482.676 137.787 485.454 140.703 Q488.232 143.62 488.232 149.546 Z\" fill=\"#000000\" fill-rule=\"evenodd\" fill-opacity=\"1\" /><path clip-path=\"url(#clip820)\" d=\"M501.218 131.051 L501.218 138.412 L509.991 138.412 L509.991 141.722 L501.218 141.722 L501.218 155.796 Q501.218 158.967 502.074 159.87 Q502.954 160.773 505.616 160.773 L509.991 160.773 L509.991 164.338 L505.616 164.338 Q500.686 164.338 498.811 162.509 Q496.936 160.657 496.936 155.796 L496.936 141.722 L493.811 141.722 L493.811 138.412 L496.936 138.412 L496.936 131.051 L501.218 131.051 Z\" fill=\"#000000\" fill-rule=\"evenodd\" fill-opacity=\"1\" /><path clip-path=\"url(#clip820)\" d=\"M527.375 151.305 Q522.213 151.305 520.222 152.486 Q518.232 153.666 518.232 156.514 Q518.232 158.782 519.713 160.125 Q521.218 161.444 523.787 161.444 Q527.329 161.444 529.459 158.944 Q531.611 156.421 531.611 152.254 L531.611 151.305 L527.375 151.305 M535.871 149.546 L535.871 164.338 L531.611 164.338 L531.611 160.402 Q530.153 162.763 527.977 163.898 Q525.801 165.009 522.653 165.009 Q518.672 165.009 516.31 162.787 Q513.973 160.541 513.973 156.791 Q513.973 152.416 516.889 150.194 Q519.829 147.972 525.639 147.972 L531.611 147.972 L531.611 147.555 Q531.611 144.615 529.667 143.018 Q527.746 141.398 524.25 141.398 Q522.028 141.398 519.922 141.93 Q517.815 142.463 515.871 143.527 L515.871 139.592 Q518.209 138.69 520.408 138.25 Q522.607 137.787 524.69 137.787 Q530.315 137.787 533.093 140.703 Q535.871 143.62 535.871 149.546 Z\" fill=\"#000000\" fill-rule=\"evenodd\" fill-opacity=\"1\" /><polyline clip-path=\"url(#clip820)\" style=\"stroke:#e26f46; stroke-linecap:round; stroke-linejoin:round; stroke-width:4; stroke-opacity:1; fill:none\" points=\"266.172,198.898 411.747,198.898 \"/>\n",
       "<path clip-path=\"url(#clip820)\" d=\"M436.01 181.618 L465.246 181.618 L465.246 185.553 L452.977 185.553 L452.977 216.178 L448.278 216.178 L448.278 185.553 L436.01 185.553 L436.01 181.618 Z\" fill=\"#000000\" fill-rule=\"evenodd\" fill-opacity=\"1\" /><path clip-path=\"url(#clip820)\" d=\"M477.63 194.233 Q476.913 193.817 476.056 193.631 Q475.223 193.423 474.204 193.423 Q470.593 193.423 468.649 195.784 Q466.727 198.122 466.727 202.52 L466.727 216.178 L462.445 216.178 L462.445 190.252 L466.727 190.252 L466.727 194.28 Q468.07 191.918 470.223 190.784 Q472.376 189.627 475.454 189.627 Q475.894 189.627 476.426 189.696 Q476.959 189.743 477.607 189.858 L477.63 194.233 Z\" fill=\"#000000\" fill-rule=\"evenodd\" fill-opacity=\"1\" /><path clip-path=\"url(#clip820)\" d=\"M481.658 205.946 L481.658 190.252 L485.917 190.252 L485.917 205.784 Q485.917 209.465 487.352 211.316 Q488.787 213.145 491.658 213.145 Q495.107 213.145 497.098 210.946 Q499.112 208.747 499.112 204.951 L499.112 190.252 L503.371 190.252 L503.371 216.178 L499.112 216.178 L499.112 212.196 Q497.561 214.557 495.5 215.715 Q493.463 216.849 490.755 216.849 Q486.287 216.849 483.973 214.071 Q481.658 211.293 481.658 205.946 M492.375 189.627 L492.375 189.627 Z\" fill=\"#000000\" fill-rule=\"evenodd\" fill-opacity=\"1\" /><path clip-path=\"url(#clip820)\" d=\"M534.32 202.15 L534.32 204.233 L514.736 204.233 Q515.014 208.631 517.375 210.946 Q519.76 213.238 523.996 213.238 Q526.449 213.238 528.741 212.636 Q531.056 212.034 533.324 210.83 L533.324 214.858 Q531.033 215.83 528.625 216.34 Q526.218 216.849 523.741 216.849 Q517.537 216.849 513.903 213.238 Q510.292 209.627 510.292 203.469 Q510.292 197.104 513.718 193.377 Q517.167 189.627 523 189.627 Q528.232 189.627 531.264 193.006 Q534.32 196.363 534.32 202.15 M530.06 200.9 Q530.014 197.405 528.093 195.321 Q526.195 193.238 523.047 193.238 Q519.482 193.238 517.329 195.252 Q515.199 197.266 514.875 200.923 L530.06 200.9 Z\" fill=\"#000000\" fill-rule=\"evenodd\" fill-opacity=\"1\" /><path clip-path=\"url(#clip820)\" d=\"M556.38 180.159 L560.639 180.159 L560.639 216.178 L556.38 216.178 L556.38 180.159 Z\" fill=\"#000000\" fill-rule=\"evenodd\" fill-opacity=\"1\" /><path clip-path=\"url(#clip820)\" d=\"M569.551 190.252 L573.81 190.252 L573.81 216.178 L569.551 216.178 L569.551 190.252 M569.551 180.159 L573.81 180.159 L573.81 185.553 L569.551 185.553 L569.551 180.159 Z\" fill=\"#000000\" fill-rule=\"evenodd\" fill-opacity=\"1\" /><path clip-path=\"url(#clip820)\" d=\"M604.273 200.529 L604.273 216.178 L600.014 216.178 L600.014 200.668 Q600.014 196.988 598.579 195.159 Q597.143 193.33 594.273 193.33 Q590.824 193.33 588.833 195.53 Q586.843 197.729 586.843 201.525 L586.843 216.178 L582.56 216.178 L582.56 190.252 L586.843 190.252 L586.843 194.28 Q588.37 191.942 590.43 190.784 Q592.514 189.627 595.222 189.627 Q599.69 189.627 601.981 192.405 Q604.273 195.159 604.273 200.529 Z\" fill=\"#000000\" fill-rule=\"evenodd\" fill-opacity=\"1\" /><path clip-path=\"url(#clip820)\" d=\"M634.944 202.15 L634.944 204.233 L615.361 204.233 Q615.639 208.631 618 210.946 Q620.384 213.238 624.62 213.238 Q627.074 213.238 629.365 212.636 Q631.68 212.034 633.949 210.83 L633.949 214.858 Q631.657 215.83 629.25 216.34 Q626.842 216.849 624.365 216.849 Q618.162 216.849 614.528 213.238 Q610.916 209.627 610.916 203.469 Q610.916 197.104 614.342 193.377 Q617.791 189.627 623.625 189.627 Q628.856 189.627 631.889 193.006 Q634.944 196.363 634.944 202.15 M630.685 200.9 Q630.639 197.405 628.717 195.321 Q626.819 193.238 623.671 193.238 Q620.106 193.238 617.953 195.252 Q615.824 197.266 615.5 200.923 L630.685 200.9 Z\" fill=\"#000000\" fill-rule=\"evenodd\" fill-opacity=\"1\" /><polyline clip-path=\"url(#clip820)\" style=\"stroke:#3da44d; stroke-linecap:round; stroke-linejoin:round; stroke-width:4; stroke-opacity:1; fill:none\" points=\"266.172,250.738 411.747,250.738 \"/>\n",
       "<path clip-path=\"url(#clip820)\" d=\"M436.01 233.458 L455.871 233.458 L455.871 237.393 L440.686 237.393 L440.686 247.578 L454.39 247.578 L454.39 251.513 L440.686 251.513 L440.686 268.018 L436.01 268.018 L436.01 233.458 Z\" fill=\"#000000\" fill-rule=\"evenodd\" fill-opacity=\"1\" /><path clip-path=\"url(#clip820)\" d=\"M459.644 242.092 L463.903 242.092 L463.903 268.018 L459.644 268.018 L459.644 242.092 M459.644 231.999 L463.903 231.999 L463.903 237.393 L459.644 237.393 L459.644 231.999 Z\" fill=\"#000000\" fill-rule=\"evenodd\" fill-opacity=\"1\" /><path clip-path=\"url(#clip820)\" d=\"M477.028 234.731 L477.028 242.092 L485.801 242.092 L485.801 245.402 L477.028 245.402 L477.028 259.476 Q477.028 262.647 477.885 263.55 Q478.764 264.453 481.426 264.453 L485.801 264.453 L485.801 268.018 L481.426 268.018 Q476.496 268.018 474.621 266.189 Q472.746 264.337 472.746 259.476 L472.746 245.402 L469.621 245.402 L469.621 242.092 L472.746 242.092 L472.746 234.731 L477.028 234.731 Z\" fill=\"#000000\" fill-rule=\"evenodd\" fill-opacity=\"1\" /><path clip-path=\"url(#clip820)\" d=\"M495.616 234.731 L495.616 242.092 L504.389 242.092 L504.389 245.402 L495.616 245.402 L495.616 259.476 Q495.616 262.647 496.473 263.55 Q497.352 264.453 500.014 264.453 L504.389 264.453 L504.389 268.018 L500.014 268.018 Q495.084 268.018 493.209 266.189 Q491.334 264.337 491.334 259.476 L491.334 245.402 L488.209 245.402 L488.209 242.092 L491.334 242.092 L491.334 234.731 L495.616 234.731 Z\" fill=\"#000000\" fill-rule=\"evenodd\" fill-opacity=\"1\" /><path clip-path=\"url(#clip820)\" d=\"M532.167 253.99 L532.167 256.073 L512.584 256.073 Q512.861 260.471 515.223 262.786 Q517.607 265.078 521.843 265.078 Q524.297 265.078 526.588 264.476 Q528.903 263.874 531.172 262.67 L531.172 266.698 Q528.88 267.67 526.472 268.18 Q524.065 268.689 521.588 268.689 Q515.385 268.689 511.75 265.078 Q508.139 261.467 508.139 255.309 Q508.139 248.944 511.565 245.217 Q515.014 241.467 520.847 241.467 Q526.079 241.467 529.111 244.846 Q532.167 248.203 532.167 253.99 M527.908 252.74 Q527.861 249.245 525.94 247.161 Q524.042 245.078 520.894 245.078 Q517.329 245.078 515.176 247.092 Q513.047 249.106 512.723 252.763 L527.908 252.74 Z\" fill=\"#000000\" fill-rule=\"evenodd\" fill-opacity=\"1\" /><path clip-path=\"url(#clip820)\" d=\"M556.218 246.027 L556.218 231.999 L560.477 231.999 L560.477 268.018 L556.218 268.018 L556.218 264.129 Q554.875 266.443 552.815 267.578 Q550.778 268.689 547.908 268.689 Q543.208 268.689 540.246 264.939 Q537.306 261.189 537.306 255.078 Q537.306 248.967 540.246 245.217 Q543.208 241.467 547.908 241.467 Q550.778 241.467 552.815 242.601 Q554.875 243.712 556.218 246.027 M541.704 255.078 Q541.704 259.777 543.625 262.462 Q545.57 265.124 548.949 265.124 Q552.329 265.124 554.273 262.462 Q556.218 259.777 556.218 255.078 Q556.218 250.379 554.273 247.717 Q552.329 245.032 548.949 245.032 Q545.57 245.032 543.625 247.717 Q541.704 250.379 541.704 255.078 Z\" fill=\"#000000\" fill-rule=\"evenodd\" fill-opacity=\"1\" /><path clip-path=\"url(#clip820)\" d=\"M584.319 231.999 L588.579 231.999 L588.579 268.018 L584.319 268.018 L584.319 231.999 Z\" fill=\"#000000\" fill-rule=\"evenodd\" fill-opacity=\"1\" /><path clip-path=\"url(#clip820)\" d=\"M597.491 242.092 L601.75 242.092 L601.75 268.018 L597.491 268.018 L597.491 242.092 M597.491 231.999 L601.75 231.999 L601.75 237.393 L597.491 237.393 L597.491 231.999 Z\" fill=\"#000000\" fill-rule=\"evenodd\" fill-opacity=\"1\" /><path clip-path=\"url(#clip820)\" d=\"M632.213 252.369 L632.213 268.018 L627.953 268.018 L627.953 252.508 Q627.953 248.828 626.518 246.999 Q625.083 245.17 622.213 245.17 Q618.764 245.17 616.773 247.37 Q614.782 249.569 614.782 253.365 L614.782 268.018 L610.5 268.018 L610.5 242.092 L614.782 242.092 L614.782 246.12 Q616.31 243.782 618.37 242.624 Q620.453 241.467 623.162 241.467 Q627.629 241.467 629.921 244.245 Q632.213 246.999 632.213 252.369 Z\" fill=\"#000000\" fill-rule=\"evenodd\" fill-opacity=\"1\" /><path clip-path=\"url(#clip820)\" d=\"M662.884 253.99 L662.884 256.073 L643.301 256.073 Q643.578 260.471 645.939 262.786 Q648.324 265.078 652.56 265.078 Q655.013 265.078 657.305 264.476 Q659.62 263.874 661.888 262.67 L661.888 266.698 Q659.597 267.67 657.189 268.18 Q654.782 268.689 652.305 268.689 Q646.101 268.689 642.467 265.078 Q638.856 261.467 638.856 255.309 Q638.856 248.944 642.282 245.217 Q645.731 241.467 651.564 241.467 Q656.796 241.467 659.828 244.846 Q662.884 248.203 662.884 253.99 M658.625 252.74 Q658.578 249.245 656.657 247.161 Q654.759 245.078 651.611 245.078 Q648.046 245.078 645.893 247.092 Q643.764 249.106 643.439 252.763 L658.625 252.74 Z\" fill=\"#000000\" fill-rule=\"evenodd\" fill-opacity=\"1\" /></svg>\n"
      ]
     },
     "execution_count": 75,
     "metadata": {},
     "output_type": "execute_result"
    }
   ],
   "source": [
    "x3=-10:10\n",
    "collect(x3)\n",
    "y_true3 = x3.^2 .+ 3 .*x3 .-2\n",
    "d3=10\n",
    "noise3 = di.Normal(0,d3)\n",
    "y_observed3 = y_true3 + rand(noise3,length(x3))\n",
    "scatter(x3,y_observed3, label=\"data\")\n",
    "plot!(x3,y_true3,label= \"True line\")\n",
    "poly_fit3 = fit(x3,y_observed3,10)\n",
    "y_fitted3= poly_fit3.(x3)\n",
    "plot!(x3, y_fitted3, label = \"Fitted line\")"
   ]
  },
  {
   "cell_type": "code",
   "execution_count": 76,
   "id": "b6de0d38",
   "metadata": {},
   "outputs": [
    {
     "data": {
      "image/svg+xml": [
       "<?xml version=\"1.0\" encoding=\"utf-8\"?>\n",
       "<svg xmlns=\"http://www.w3.org/2000/svg\" xmlns:xlink=\"http://www.w3.org/1999/xlink\" width=\"600\" height=\"400\" viewBox=\"0 0 2400 1600\">\n",
       "<defs>\n",
       "  <clipPath id=\"clip860\">\n",
       "    <rect x=\"0\" y=\"0\" width=\"2400\" height=\"1600\"/>\n",
       "  </clipPath>\n",
       "</defs>\n",
       "<path clip-path=\"url(#clip860)\" d=\"M0 1600 L2400 1600 L2400 0 L0 0  Z\" fill=\"#ffffff\" fill-rule=\"evenodd\" fill-opacity=\"1\"/>\n",
       "<defs>\n",
       "  <clipPath id=\"clip861\">\n",
       "    <rect x=\"480\" y=\"0\" width=\"1681\" height=\"1600\"/>\n",
       "  </clipPath>\n",
       "</defs>\n",
       "<path clip-path=\"url(#clip860)\" d=\"M209.029 1486.45 L2352.76 1486.45 L2352.76 47.2441 L209.029 47.2441  Z\" fill=\"#ffffff\" fill-rule=\"evenodd\" fill-opacity=\"1\"/>\n",
       "<defs>\n",
       "  <clipPath id=\"clip862\">\n",
       "    <rect x=\"209\" y=\"47\" width=\"2145\" height=\"1440\"/>\n",
       "  </clipPath>\n",
       "</defs>\n",
       "<polyline clip-path=\"url(#clip862)\" style=\"stroke:#000000; stroke-linecap:round; stroke-linejoin:round; stroke-width:2; stroke-opacity:0.1; fill:none\" points=\"269.7,1486.45 269.7,47.2441 \"/>\n",
       "<polyline clip-path=\"url(#clip862)\" style=\"stroke:#000000; stroke-linecap:round; stroke-linejoin:round; stroke-width:2; stroke-opacity:0.1; fill:none\" points=\"775.296,1486.45 775.296,47.2441 \"/>\n",
       "<polyline clip-path=\"url(#clip862)\" style=\"stroke:#000000; stroke-linecap:round; stroke-linejoin:round; stroke-width:2; stroke-opacity:0.1; fill:none\" points=\"1280.89,1486.45 1280.89,47.2441 \"/>\n",
       "<polyline clip-path=\"url(#clip862)\" style=\"stroke:#000000; stroke-linecap:round; stroke-linejoin:round; stroke-width:2; stroke-opacity:0.1; fill:none\" points=\"1786.49,1486.45 1786.49,47.2441 \"/>\n",
       "<polyline clip-path=\"url(#clip862)\" style=\"stroke:#000000; stroke-linecap:round; stroke-linejoin:round; stroke-width:2; stroke-opacity:0.1; fill:none\" points=\"2292.08,1486.45 2292.08,47.2441 \"/>\n",
       "<polyline clip-path=\"url(#clip860)\" style=\"stroke:#000000; stroke-linecap:round; stroke-linejoin:round; stroke-width:4; stroke-opacity:1; fill:none\" points=\"209.029,1486.45 2352.76,1486.45 \"/>\n",
       "<polyline clip-path=\"url(#clip860)\" style=\"stroke:#000000; stroke-linecap:round; stroke-linejoin:round; stroke-width:4; stroke-opacity:1; fill:none\" points=\"269.7,1486.45 269.7,1467.55 \"/>\n",
       "<polyline clip-path=\"url(#clip860)\" style=\"stroke:#000000; stroke-linecap:round; stroke-linejoin:round; stroke-width:4; stroke-opacity:1; fill:none\" points=\"775.296,1486.45 775.296,1467.55 \"/>\n",
       "<polyline clip-path=\"url(#clip860)\" style=\"stroke:#000000; stroke-linecap:round; stroke-linejoin:round; stroke-width:4; stroke-opacity:1; fill:none\" points=\"1280.89,1486.45 1280.89,1467.55 \"/>\n",
       "<polyline clip-path=\"url(#clip860)\" style=\"stroke:#000000; stroke-linecap:round; stroke-linejoin:round; stroke-width:4; stroke-opacity:1; fill:none\" points=\"1786.49,1486.45 1786.49,1467.55 \"/>\n",
       "<polyline clip-path=\"url(#clip860)\" style=\"stroke:#000000; stroke-linecap:round; stroke-linejoin:round; stroke-width:4; stroke-opacity:1; fill:none\" points=\"2292.08,1486.45 2292.08,1467.55 \"/>\n",
       "<path clip-path=\"url(#clip860)\" d=\"M223.763 1532.02 L253.439 1532.02 L253.439 1535.95 L223.763 1535.95 L223.763 1532.02 Z\" fill=\"#000000\" fill-rule=\"evenodd\" fill-opacity=\"1\" /><path clip-path=\"url(#clip860)\" d=\"M264.341 1544.91 L271.98 1544.91 L271.98 1518.55 L263.67 1520.21 L263.67 1515.95 L271.934 1514.29 L276.61 1514.29 L276.61 1544.91 L284.249 1544.91 L284.249 1548.85 L264.341 1548.85 L264.341 1544.91 Z\" fill=\"#000000\" fill-rule=\"evenodd\" fill-opacity=\"1\" /><path clip-path=\"url(#clip860)\" d=\"M303.693 1517.37 Q300.082 1517.37 298.253 1520.93 Q296.448 1524.47 296.448 1531.6 Q296.448 1538.71 298.253 1542.27 Q300.082 1545.82 303.693 1545.82 Q307.327 1545.82 309.133 1542.27 Q310.961 1538.71 310.961 1531.6 Q310.961 1524.47 309.133 1520.93 Q307.327 1517.37 303.693 1517.37 M303.693 1513.66 Q309.503 1513.66 312.559 1518.27 Q315.637 1522.85 315.637 1531.6 Q315.637 1540.33 312.559 1544.94 Q309.503 1549.52 303.693 1549.52 Q297.883 1549.52 294.804 1544.94 Q291.749 1540.33 291.749 1531.6 Q291.749 1522.85 294.804 1518.27 Q297.883 1513.66 303.693 1513.66 Z\" fill=\"#000000\" fill-rule=\"evenodd\" fill-opacity=\"1\" /><path clip-path=\"url(#clip860)\" d=\"M744.937 1532.02 L774.613 1532.02 L774.613 1535.95 L744.937 1535.95 L744.937 1532.02 Z\" fill=\"#000000\" fill-rule=\"evenodd\" fill-opacity=\"1\" /><path clip-path=\"url(#clip860)\" d=\"M784.752 1514.29 L803.108 1514.29 L803.108 1518.22 L789.034 1518.22 L789.034 1526.7 Q790.053 1526.35 791.072 1526.19 Q792.09 1526 793.109 1526 Q798.896 1526 802.275 1529.17 Q805.655 1532.34 805.655 1537.76 Q805.655 1543.34 802.183 1546.44 Q798.71 1549.52 792.391 1549.52 Q790.215 1549.52 787.947 1549.15 Q785.701 1548.78 783.294 1548.04 L783.294 1543.34 Q785.377 1544.47 787.599 1545.03 Q789.822 1545.58 792.298 1545.58 Q796.303 1545.58 798.641 1543.48 Q800.979 1541.37 800.979 1537.76 Q800.979 1534.15 798.641 1532.04 Q796.303 1529.94 792.298 1529.94 Q790.423 1529.94 788.548 1530.35 Q786.697 1530.77 784.752 1531.65 L784.752 1514.29 Z\" fill=\"#000000\" fill-rule=\"evenodd\" fill-opacity=\"1\" /><path clip-path=\"url(#clip860)\" d=\"M1280.89 1517.37 Q1277.28 1517.37 1275.45 1520.93 Q1273.65 1524.47 1273.65 1531.6 Q1273.65 1538.71 1275.45 1542.27 Q1277.28 1545.82 1280.89 1545.82 Q1284.53 1545.82 1286.33 1542.27 Q1288.16 1538.71 1288.16 1531.6 Q1288.16 1524.47 1286.33 1520.93 Q1284.53 1517.37 1280.89 1517.37 M1280.89 1513.66 Q1286.7 1513.66 1289.76 1518.27 Q1292.84 1522.85 1292.84 1531.6 Q1292.84 1540.33 1289.76 1544.94 Q1286.7 1549.52 1280.89 1549.52 Q1275.08 1549.52 1272 1544.94 Q1268.95 1540.33 1268.95 1531.6 Q1268.95 1522.85 1272 1518.27 Q1275.08 1513.66 1280.89 1513.66 Z\" fill=\"#000000\" fill-rule=\"evenodd\" fill-opacity=\"1\" /><path clip-path=\"url(#clip860)\" d=\"M1776.77 1514.29 L1795.12 1514.29 L1795.12 1518.22 L1781.05 1518.22 L1781.05 1526.7 Q1782.07 1526.35 1783.09 1526.19 Q1784.1 1526 1785.12 1526 Q1790.91 1526 1794.29 1529.17 Q1797.67 1532.34 1797.67 1537.76 Q1797.67 1543.34 1794.2 1546.44 Q1790.72 1549.52 1784.4 1549.52 Q1782.23 1549.52 1779.96 1549.15 Q1777.72 1548.78 1775.31 1548.04 L1775.31 1543.34 Q1777.39 1544.47 1779.61 1545.03 Q1781.84 1545.58 1784.31 1545.58 Q1788.32 1545.58 1790.65 1543.48 Q1792.99 1541.37 1792.99 1537.76 Q1792.99 1534.15 1790.65 1532.04 Q1788.32 1529.94 1784.31 1529.94 Q1782.44 1529.94 1780.56 1530.35 Q1778.71 1530.77 1776.77 1531.65 L1776.77 1514.29 Z\" fill=\"#000000\" fill-rule=\"evenodd\" fill-opacity=\"1\" /><path clip-path=\"url(#clip860)\" d=\"M2266.77 1544.91 L2274.41 1544.91 L2274.41 1518.55 L2266.1 1520.21 L2266.1 1515.95 L2274.36 1514.29 L2279.04 1514.29 L2279.04 1544.91 L2286.68 1544.91 L2286.68 1548.85 L2266.77 1548.85 L2266.77 1544.91 Z\" fill=\"#000000\" fill-rule=\"evenodd\" fill-opacity=\"1\" /><path clip-path=\"url(#clip860)\" d=\"M2306.12 1517.37 Q2302.51 1517.37 2300.68 1520.93 Q2298.88 1524.47 2298.88 1531.6 Q2298.88 1538.71 2300.68 1542.27 Q2302.51 1545.82 2306.12 1545.82 Q2309.76 1545.82 2311.56 1542.27 Q2313.39 1538.71 2313.39 1531.6 Q2313.39 1524.47 2311.56 1520.93 Q2309.76 1517.37 2306.12 1517.37 M2306.12 1513.66 Q2311.93 1513.66 2314.99 1518.27 Q2318.07 1522.85 2318.07 1531.6 Q2318.07 1540.33 2314.99 1544.94 Q2311.93 1549.52 2306.12 1549.52 Q2300.31 1549.52 2297.23 1544.94 Q2294.18 1540.33 2294.18 1531.6 Q2294.18 1522.85 2297.23 1518.27 Q2300.31 1513.66 2306.12 1513.66 Z\" fill=\"#000000\" fill-rule=\"evenodd\" fill-opacity=\"1\" /><polyline clip-path=\"url(#clip862)\" style=\"stroke:#000000; stroke-linecap:round; stroke-linejoin:round; stroke-width:2; stroke-opacity:0.1; fill:none\" points=\"209.029,1453.95 2352.76,1453.95 \"/>\n",
       "<polyline clip-path=\"url(#clip862)\" style=\"stroke:#000000; stroke-linecap:round; stroke-linejoin:round; stroke-width:2; stroke-opacity:0.1; fill:none\" points=\"209.029,1164.7 2352.76,1164.7 \"/>\n",
       "<polyline clip-path=\"url(#clip862)\" style=\"stroke:#000000; stroke-linecap:round; stroke-linejoin:round; stroke-width:2; stroke-opacity:0.1; fill:none\" points=\"209.029,875.456 2352.76,875.456 \"/>\n",
       "<polyline clip-path=\"url(#clip862)\" style=\"stroke:#000000; stroke-linecap:round; stroke-linejoin:round; stroke-width:2; stroke-opacity:0.1; fill:none\" points=\"209.029,586.211 2352.76,586.211 \"/>\n",
       "<polyline clip-path=\"url(#clip862)\" style=\"stroke:#000000; stroke-linecap:round; stroke-linejoin:round; stroke-width:2; stroke-opacity:0.1; fill:none\" points=\"209.029,296.966 2352.76,296.966 \"/>\n",
       "<polyline clip-path=\"url(#clip860)\" style=\"stroke:#000000; stroke-linecap:round; stroke-linejoin:round; stroke-width:4; stroke-opacity:1; fill:none\" points=\"209.029,1486.45 209.029,47.2441 \"/>\n",
       "<polyline clip-path=\"url(#clip860)\" style=\"stroke:#000000; stroke-linecap:round; stroke-linejoin:round; stroke-width:4; stroke-opacity:1; fill:none\" points=\"209.029,1453.95 227.926,1453.95 \"/>\n",
       "<polyline clip-path=\"url(#clip860)\" style=\"stroke:#000000; stroke-linecap:round; stroke-linejoin:round; stroke-width:4; stroke-opacity:1; fill:none\" points=\"209.029,1164.7 227.926,1164.7 \"/>\n",
       "<polyline clip-path=\"url(#clip860)\" style=\"stroke:#000000; stroke-linecap:round; stroke-linejoin:round; stroke-width:4; stroke-opacity:1; fill:none\" points=\"209.029,875.456 227.926,875.456 \"/>\n",
       "<polyline clip-path=\"url(#clip860)\" style=\"stroke:#000000; stroke-linecap:round; stroke-linejoin:round; stroke-width:4; stroke-opacity:1; fill:none\" points=\"209.029,586.211 227.926,586.211 \"/>\n",
       "<polyline clip-path=\"url(#clip860)\" style=\"stroke:#000000; stroke-linecap:round; stroke-linejoin:round; stroke-width:4; stroke-opacity:1; fill:none\" points=\"209.029,296.966 227.926,296.966 \"/>\n",
       "<path clip-path=\"url(#clip860)\" d=\"M50.9921 1454.4 L80.6679 1454.4 L80.6679 1458.33 L50.9921 1458.33 L50.9921 1454.4 Z\" fill=\"#000000\" fill-rule=\"evenodd\" fill-opacity=\"1\" /><path clip-path=\"url(#clip860)\" d=\"M91.5706 1467.29 L99.2095 1467.29 L99.2095 1440.93 L90.8993 1442.59 L90.8993 1438.33 L99.1632 1436.67 L103.839 1436.67 L103.839 1467.29 L111.478 1467.29 L111.478 1471.23 L91.5706 1471.23 L91.5706 1467.29 Z\" fill=\"#000000\" fill-rule=\"evenodd\" fill-opacity=\"1\" /><path clip-path=\"url(#clip860)\" d=\"M130.922 1439.74 Q127.311 1439.74 125.482 1443.31 Q123.677 1446.85 123.677 1453.98 Q123.677 1461.09 125.482 1464.65 Q127.311 1468.19 130.922 1468.19 Q134.556 1468.19 136.362 1464.65 Q138.191 1461.09 138.191 1453.98 Q138.191 1446.85 136.362 1443.31 Q134.556 1439.74 130.922 1439.74 M130.922 1436.04 Q136.732 1436.04 139.788 1440.65 Q142.867 1445.23 142.867 1453.98 Q142.867 1462.71 139.788 1467.31 Q136.732 1471.9 130.922 1471.9 Q125.112 1471.9 122.033 1467.31 Q118.978 1462.71 118.978 1453.98 Q118.978 1445.23 122.033 1440.65 Q125.112 1436.04 130.922 1436.04 Z\" fill=\"#000000\" fill-rule=\"evenodd\" fill-opacity=\"1\" /><path clip-path=\"url(#clip860)\" d=\"M161.084 1439.74 Q157.473 1439.74 155.644 1443.31 Q153.839 1446.85 153.839 1453.98 Q153.839 1461.09 155.644 1464.65 Q157.473 1468.19 161.084 1468.19 Q164.718 1468.19 166.524 1464.65 Q168.353 1461.09 168.353 1453.98 Q168.353 1446.85 166.524 1443.31 Q164.718 1439.74 161.084 1439.74 M161.084 1436.04 Q166.894 1436.04 169.95 1440.65 Q173.029 1445.23 173.029 1453.98 Q173.029 1462.71 169.95 1467.31 Q166.894 1471.9 161.084 1471.9 Q155.274 1471.9 152.195 1467.31 Q149.14 1462.71 149.14 1453.98 Q149.14 1445.23 152.195 1440.65 Q155.274 1436.04 161.084 1436.04 Z\" fill=\"#000000\" fill-rule=\"evenodd\" fill-opacity=\"1\" /><path clip-path=\"url(#clip860)\" d=\"M81.154 1165.15 L110.83 1165.15 L110.83 1169.09 L81.154 1169.09 L81.154 1165.15 Z\" fill=\"#000000\" fill-rule=\"evenodd\" fill-opacity=\"1\" /><path clip-path=\"url(#clip860)\" d=\"M120.969 1147.42 L139.325 1147.42 L139.325 1151.36 L125.251 1151.36 L125.251 1159.83 Q126.27 1159.48 127.288 1159.32 Q128.307 1159.13 129.325 1159.13 Q135.112 1159.13 138.492 1162.31 Q141.871 1165.48 141.871 1170.89 Q141.871 1176.47 138.399 1179.57 Q134.927 1182.65 128.607 1182.65 Q126.432 1182.65 124.163 1182.28 Q121.918 1181.91 119.51 1181.17 L119.51 1176.47 Q121.594 1177.61 123.816 1178.16 Q126.038 1178.72 128.515 1178.72 Q132.519 1178.72 134.857 1176.61 Q137.195 1174.5 137.195 1170.89 Q137.195 1167.28 134.857 1165.18 Q132.519 1163.07 128.515 1163.07 Q126.64 1163.07 124.765 1163.49 Q122.913 1163.9 120.969 1164.78 L120.969 1147.42 Z\" fill=\"#000000\" fill-rule=\"evenodd\" fill-opacity=\"1\" /><path clip-path=\"url(#clip860)\" d=\"M161.084 1150.5 Q157.473 1150.5 155.644 1154.06 Q153.839 1157.61 153.839 1164.74 Q153.839 1171.84 155.644 1175.41 Q157.473 1178.95 161.084 1178.95 Q164.718 1178.95 166.524 1175.41 Q168.353 1171.84 168.353 1164.74 Q168.353 1157.61 166.524 1154.06 Q164.718 1150.5 161.084 1150.5 M161.084 1146.8 Q166.894 1146.8 169.95 1151.4 Q173.029 1155.99 173.029 1164.74 Q173.029 1173.46 169.95 1178.07 Q166.894 1182.65 161.084 1182.65 Q155.274 1182.65 152.195 1178.07 Q149.14 1173.46 149.14 1164.74 Q149.14 1155.99 152.195 1151.4 Q155.274 1146.8 161.084 1146.8 Z\" fill=\"#000000\" fill-rule=\"evenodd\" fill-opacity=\"1\" /><path clip-path=\"url(#clip860)\" d=\"M161.084 861.255 Q157.473 861.255 155.644 864.82 Q153.839 868.361 153.839 875.491 Q153.839 882.597 155.644 886.162 Q157.473 889.704 161.084 889.704 Q164.718 889.704 166.524 886.162 Q168.353 882.597 168.353 875.491 Q168.353 868.361 166.524 864.82 Q164.718 861.255 161.084 861.255 M161.084 857.551 Q166.894 857.551 169.95 862.158 Q173.029 866.741 173.029 875.491 Q173.029 884.218 169.95 888.824 Q166.894 893.407 161.084 893.407 Q155.274 893.407 152.195 888.824 Q149.14 884.218 149.14 875.491 Q149.14 866.741 152.195 862.158 Q155.274 857.551 161.084 857.551 Z\" fill=\"#000000\" fill-rule=\"evenodd\" fill-opacity=\"1\" /><path clip-path=\"url(#clip860)\" d=\"M120.969 568.931 L139.325 568.931 L139.325 572.866 L125.251 572.866 L125.251 581.339 Q126.27 580.991 127.288 580.829 Q128.307 580.644 129.325 580.644 Q135.112 580.644 138.492 583.815 Q141.871 586.987 141.871 592.403 Q141.871 597.982 138.399 601.084 Q134.927 604.163 128.607 604.163 Q126.432 604.163 124.163 603.792 Q121.918 603.422 119.51 602.681 L119.51 597.982 Q121.594 599.116 123.816 599.672 Q126.038 600.227 128.515 600.227 Q132.519 600.227 134.857 598.121 Q137.195 596.014 137.195 592.403 Q137.195 588.792 134.857 586.686 Q132.519 584.579 128.515 584.579 Q126.64 584.579 124.765 584.996 Q122.913 585.413 120.969 586.292 L120.969 568.931 Z\" fill=\"#000000\" fill-rule=\"evenodd\" fill-opacity=\"1\" /><path clip-path=\"url(#clip860)\" d=\"M161.084 572.01 Q157.473 572.01 155.644 575.575 Q153.839 579.116 153.839 586.246 Q153.839 593.352 155.644 596.917 Q157.473 600.459 161.084 600.459 Q164.718 600.459 166.524 596.917 Q168.353 593.352 168.353 586.246 Q168.353 579.116 166.524 575.575 Q164.718 572.01 161.084 572.01 M161.084 568.306 Q166.894 568.306 169.95 572.913 Q173.029 577.496 173.029 586.246 Q173.029 594.973 169.95 599.579 Q166.894 604.163 161.084 604.163 Q155.274 604.163 152.195 599.579 Q149.14 594.973 149.14 586.246 Q149.14 577.496 152.195 572.913 Q155.274 568.306 161.084 568.306 Z\" fill=\"#000000\" fill-rule=\"evenodd\" fill-opacity=\"1\" /><path clip-path=\"url(#clip860)\" d=\"M91.5706 310.311 L99.2095 310.311 L99.2095 283.946 L90.8993 285.612 L90.8993 281.353 L99.1632 279.686 L103.839 279.686 L103.839 310.311 L111.478 310.311 L111.478 314.246 L91.5706 314.246 L91.5706 310.311 Z\" fill=\"#000000\" fill-rule=\"evenodd\" fill-opacity=\"1\" /><path clip-path=\"url(#clip860)\" d=\"M130.922 282.765 Q127.311 282.765 125.482 286.33 Q123.677 289.871 123.677 297.001 Q123.677 304.108 125.482 307.672 Q127.311 311.214 130.922 311.214 Q134.556 311.214 136.362 307.672 Q138.191 304.108 138.191 297.001 Q138.191 289.871 136.362 286.33 Q134.556 282.765 130.922 282.765 M130.922 279.061 Q136.732 279.061 139.788 283.668 Q142.867 288.251 142.867 297.001 Q142.867 305.728 139.788 310.334 Q136.732 314.918 130.922 314.918 Q125.112 314.918 122.033 310.334 Q118.978 305.728 118.978 297.001 Q118.978 288.251 122.033 283.668 Q125.112 279.061 130.922 279.061 Z\" fill=\"#000000\" fill-rule=\"evenodd\" fill-opacity=\"1\" /><path clip-path=\"url(#clip860)\" d=\"M161.084 282.765 Q157.473 282.765 155.644 286.33 Q153.839 289.871 153.839 297.001 Q153.839 304.108 155.644 307.672 Q157.473 311.214 161.084 311.214 Q164.718 311.214 166.524 307.672 Q168.353 304.108 168.353 297.001 Q168.353 289.871 166.524 286.33 Q164.718 282.765 161.084 282.765 M161.084 279.061 Q166.894 279.061 169.95 283.668 Q173.029 288.251 173.029 297.001 Q173.029 305.728 169.95 310.334 Q166.894 314.918 161.084 314.918 Q155.274 314.918 152.195 310.334 Q149.14 305.728 149.14 297.001 Q149.14 288.251 152.195 283.668 Q155.274 279.061 161.084 279.061 Z\" fill=\"#000000\" fill-rule=\"evenodd\" fill-opacity=\"1\" /><circle clip-path=\"url(#clip862)\" cx=\"269.7\" cy=\"570.951\" r=\"14.4\" fill=\"#009af9\" fill-rule=\"evenodd\" fill-opacity=\"1\" stroke=\"#000000\" stroke-opacity=\"1\" stroke-width=\"3.2\"/>\n",
       "<circle clip-path=\"url(#clip862)\" cx=\"370.819\" cy=\"614.559\" r=\"14.4\" fill=\"#009af9\" fill-rule=\"evenodd\" fill-opacity=\"1\" stroke=\"#000000\" stroke-opacity=\"1\" stroke-width=\"3.2\"/>\n",
       "<circle clip-path=\"url(#clip862)\" cx=\"471.938\" cy=\"489.041\" r=\"14.4\" fill=\"#009af9\" fill-rule=\"evenodd\" fill-opacity=\"1\" stroke=\"#000000\" stroke-opacity=\"1\" stroke-width=\"3.2\"/>\n",
       "<circle clip-path=\"url(#clip862)\" cx=\"573.058\" cy=\"666.882\" r=\"14.4\" fill=\"#009af9\" fill-rule=\"evenodd\" fill-opacity=\"1\" stroke=\"#000000\" stroke-opacity=\"1\" stroke-width=\"3.2\"/>\n",
       "<circle clip-path=\"url(#clip862)\" cx=\"674.177\" cy=\"1337.47\" r=\"14.4\" fill=\"#009af9\" fill-rule=\"evenodd\" fill-opacity=\"1\" stroke=\"#000000\" stroke-opacity=\"1\" stroke-width=\"3.2\"/>\n",
       "<circle clip-path=\"url(#clip862)\" cx=\"775.296\" cy=\"1260.88\" r=\"14.4\" fill=\"#009af9\" fill-rule=\"evenodd\" fill-opacity=\"1\" stroke=\"#000000\" stroke-opacity=\"1\" stroke-width=\"3.2\"/>\n",
       "<circle clip-path=\"url(#clip862)\" cx=\"876.415\" cy=\"694.168\" r=\"14.4\" fill=\"#009af9\" fill-rule=\"evenodd\" fill-opacity=\"1\" stroke=\"#000000\" stroke-opacity=\"1\" stroke-width=\"3.2\"/>\n",
       "<circle clip-path=\"url(#clip862)\" cx=\"977.535\" cy=\"976.886\" r=\"14.4\" fill=\"#009af9\" fill-rule=\"evenodd\" fill-opacity=\"1\" stroke=\"#000000\" stroke-opacity=\"1\" stroke-width=\"3.2\"/>\n",
       "<circle clip-path=\"url(#clip862)\" cx=\"1078.65\" cy=\"317.518\" r=\"14.4\" fill=\"#009af9\" fill-rule=\"evenodd\" fill-opacity=\"1\" stroke=\"#000000\" stroke-opacity=\"1\" stroke-width=\"3.2\"/>\n",
       "<circle clip-path=\"url(#clip862)\" cx=\"1179.77\" cy=\"271.702\" r=\"14.4\" fill=\"#009af9\" fill-rule=\"evenodd\" fill-opacity=\"1\" stroke=\"#000000\" stroke-opacity=\"1\" stroke-width=\"3.2\"/>\n",
       "<circle clip-path=\"url(#clip862)\" cx=\"1280.89\" cy=\"889.426\" r=\"14.4\" fill=\"#009af9\" fill-rule=\"evenodd\" fill-opacity=\"1\" stroke=\"#000000\" stroke-opacity=\"1\" stroke-width=\"3.2\"/>\n",
       "<circle clip-path=\"url(#clip862)\" cx=\"1382.01\" cy=\"1020.87\" r=\"14.4\" fill=\"#009af9\" fill-rule=\"evenodd\" fill-opacity=\"1\" stroke=\"#000000\" stroke-opacity=\"1\" stroke-width=\"3.2\"/>\n",
       "<circle clip-path=\"url(#clip862)\" cx=\"1483.13\" cy=\"1445.72\" r=\"14.4\" fill=\"#009af9\" fill-rule=\"evenodd\" fill-opacity=\"1\" stroke=\"#000000\" stroke-opacity=\"1\" stroke-width=\"3.2\"/>\n",
       "<circle clip-path=\"url(#clip862)\" cx=\"1584.25\" cy=\"881.934\" r=\"14.4\" fill=\"#009af9\" fill-rule=\"evenodd\" fill-opacity=\"1\" stroke=\"#000000\" stroke-opacity=\"1\" stroke-width=\"3.2\"/>\n",
       "<circle clip-path=\"url(#clip862)\" cx=\"1685.37\" cy=\"594.95\" r=\"14.4\" fill=\"#009af9\" fill-rule=\"evenodd\" fill-opacity=\"1\" stroke=\"#000000\" stroke-opacity=\"1\" stroke-width=\"3.2\"/>\n",
       "<circle clip-path=\"url(#clip862)\" cx=\"1786.49\" cy=\"260.99\" r=\"14.4\" fill=\"#009af9\" fill-rule=\"evenodd\" fill-opacity=\"1\" stroke=\"#000000\" stroke-opacity=\"1\" stroke-width=\"3.2\"/>\n",
       "<circle clip-path=\"url(#clip862)\" cx=\"1887.61\" cy=\"766.066\" r=\"14.4\" fill=\"#009af9\" fill-rule=\"evenodd\" fill-opacity=\"1\" stroke=\"#000000\" stroke-opacity=\"1\" stroke-width=\"3.2\"/>\n",
       "<circle clip-path=\"url(#clip862)\" cx=\"1988.73\" cy=\"399.47\" r=\"14.4\" fill=\"#009af9\" fill-rule=\"evenodd\" fill-opacity=\"1\" stroke=\"#000000\" stroke-opacity=\"1\" stroke-width=\"3.2\"/>\n",
       "<circle clip-path=\"url(#clip862)\" cx=\"2089.85\" cy=\"418\" r=\"14.4\" fill=\"#009af9\" fill-rule=\"evenodd\" fill-opacity=\"1\" stroke=\"#000000\" stroke-opacity=\"1\" stroke-width=\"3.2\"/>\n",
       "<circle clip-path=\"url(#clip862)\" cx=\"2190.97\" cy=\"649.757\" r=\"14.4\" fill=\"#009af9\" fill-rule=\"evenodd\" fill-opacity=\"1\" stroke=\"#000000\" stroke-opacity=\"1\" stroke-width=\"3.2\"/>\n",
       "<circle clip-path=\"url(#clip862)\" cx=\"2292.08\" cy=\"87.9763\" r=\"14.4\" fill=\"#009af9\" fill-rule=\"evenodd\" fill-opacity=\"1\" stroke=\"#000000\" stroke-opacity=\"1\" stroke-width=\"3.2\"/>\n",
       "<polyline clip-path=\"url(#clip862)\" style=\"stroke:#e26f46; stroke-linecap:round; stroke-linejoin:round; stroke-width:4; stroke-opacity:1; fill:none\" points=\"269.7,482.083 370.819,574.641 471.938,655.63 573.058,725.049 674.177,782.898 775.296,829.177 876.415,863.886 977.535,887.026 1078.65,898.596 1179.77,898.596 1280.89,887.026 1382.01,863.886 1483.13,829.177 1584.25,782.898 1685.37,725.049 1786.49,655.63 1887.61,574.641 1988.73,482.083 2089.85,377.955 2190.97,262.257 2292.08,134.989 \"/>\n",
       "<polyline clip-path=\"url(#clip862)\" style=\"stroke:#3da44d; stroke-linecap:round; stroke-linejoin:round; stroke-width:4; stroke-opacity:1; fill:none\" points=\"269.7,561.634 370.819,667.008 471.938,378.011 573.058,783.905 674.177,1244.55 775.296,1283.45 876.415,944.101 977.535,549.879 1078.65,385.533 1179.77,523.345 1280.89,829.654 1382.01,1087.55 1483.13,1139.63 1584.25,971.083 1685.37,697.773 1786.49,477.642 1887.61,405.55 1988.73,463.182 2089.85,556.219 2190.97,561.167 2292.08,104.344 \"/>\n",
       "<path clip-path=\"url(#clip860)\" d=\"M1840.05 1438.47 L2281.3 1438.47 L2281.3 1231.11 L1840.05 1231.11  Z\" fill=\"#ffffff\" fill-rule=\"evenodd\" fill-opacity=\"1\"/>\n",
       "<polyline clip-path=\"url(#clip860)\" style=\"stroke:#000000; stroke-linecap:round; stroke-linejoin:round; stroke-width:4; stroke-opacity:1; fill:none\" points=\"1840.05,1438.47 2281.3,1438.47 2281.3,1231.11 1840.05,1231.11 1840.05,1438.47 \"/>\n",
       "<circle clip-path=\"url(#clip860)\" cx=\"1935.33\" cy=\"1282.95\" r=\"23.04\" fill=\"#009af9\" fill-rule=\"evenodd\" fill-opacity=\"1\" stroke=\"#000000\" stroke-opacity=\"1\" stroke-width=\"5.12\"/>\n",
       "<path clip-path=\"url(#clip860)\" d=\"M2049.52 1278.24 L2049.52 1264.22 L2053.78 1264.22 L2053.78 1300.23 L2049.52 1300.23 L2049.52 1296.35 Q2048.17 1298.66 2046.11 1299.79 Q2044.08 1300.91 2041.21 1300.91 Q2036.51 1300.91 2033.55 1297.16 Q2030.61 1293.41 2030.61 1287.29 Q2030.61 1281.18 2033.55 1277.43 Q2036.51 1273.68 2041.21 1273.68 Q2044.08 1273.68 2046.11 1274.82 Q2048.17 1275.93 2049.52 1278.24 M2035 1287.29 Q2035 1291.99 2036.92 1294.68 Q2038.87 1297.34 2042.25 1297.34 Q2045.63 1297.34 2047.57 1294.68 Q2049.52 1291.99 2049.52 1287.29 Q2049.52 1282.6 2047.57 1279.93 Q2045.63 1277.25 2042.25 1277.25 Q2038.87 1277.25 2036.92 1279.93 Q2035 1282.6 2035 1287.29 Z\" fill=\"#000000\" fill-rule=\"evenodd\" fill-opacity=\"1\" /><path clip-path=\"url(#clip860)\" d=\"M2074.33 1287.2 Q2069.17 1287.2 2067.18 1288.38 Q2065.19 1289.56 2065.19 1292.41 Q2065.19 1294.68 2066.67 1296.02 Q2068.17 1297.34 2070.74 1297.34 Q2074.29 1297.34 2076.42 1294.84 Q2078.57 1292.32 2078.57 1288.15 L2078.57 1287.2 L2074.33 1287.2 M2082.83 1285.44 L2082.83 1300.23 L2078.57 1300.23 L2078.57 1296.3 Q2077.11 1298.66 2074.93 1299.79 Q2072.76 1300.91 2069.61 1300.91 Q2065.63 1300.91 2063.27 1298.68 Q2060.93 1296.44 2060.93 1292.69 Q2060.93 1288.31 2063.85 1286.09 Q2066.79 1283.87 2072.6 1283.87 L2078.57 1283.87 L2078.57 1283.45 Q2078.57 1280.51 2076.62 1278.92 Q2074.7 1277.29 2071.21 1277.29 Q2068.98 1277.29 2066.88 1277.83 Q2064.77 1278.36 2062.83 1279.42 L2062.83 1275.49 Q2065.17 1274.59 2067.36 1274.15 Q2069.56 1273.68 2071.65 1273.68 Q2077.27 1273.68 2080.05 1276.6 Q2082.83 1279.52 2082.83 1285.44 Z\" fill=\"#000000\" fill-rule=\"evenodd\" fill-opacity=\"1\" /><path clip-path=\"url(#clip860)\" d=\"M2095.81 1266.95 L2095.81 1274.31 L2104.59 1274.31 L2104.59 1277.62 L2095.81 1277.62 L2095.81 1291.69 Q2095.81 1294.86 2096.67 1295.77 Q2097.55 1296.67 2100.21 1296.67 L2104.59 1296.67 L2104.59 1300.23 L2100.21 1300.23 Q2095.28 1300.23 2093.41 1298.41 Q2091.53 1296.55 2091.53 1291.69 L2091.53 1277.62 L2088.41 1277.62 L2088.41 1274.31 L2091.53 1274.31 L2091.53 1266.95 L2095.81 1266.95 Z\" fill=\"#000000\" fill-rule=\"evenodd\" fill-opacity=\"1\" /><path clip-path=\"url(#clip860)\" d=\"M2121.97 1287.2 Q2116.81 1287.2 2114.82 1288.38 Q2112.83 1289.56 2112.83 1292.41 Q2112.83 1294.68 2114.31 1296.02 Q2115.81 1297.34 2118.38 1297.34 Q2121.92 1297.34 2124.05 1294.84 Q2126.21 1292.32 2126.21 1288.15 L2126.21 1287.2 L2121.97 1287.2 M2130.47 1285.44 L2130.47 1300.23 L2126.21 1300.23 L2126.21 1296.3 Q2124.75 1298.66 2122.57 1299.79 Q2120.4 1300.91 2117.25 1300.91 Q2113.27 1300.91 2110.91 1298.68 Q2108.57 1296.44 2108.57 1292.69 Q2108.57 1288.31 2111.48 1286.09 Q2114.42 1283.87 2120.23 1283.87 L2126.21 1283.87 L2126.21 1283.45 Q2126.21 1280.51 2124.26 1278.92 Q2122.34 1277.29 2118.85 1277.29 Q2116.62 1277.29 2114.52 1277.83 Q2112.41 1278.36 2110.47 1279.42 L2110.47 1275.49 Q2112.8 1274.59 2115 1274.15 Q2117.2 1273.68 2119.29 1273.68 Q2124.91 1273.68 2127.69 1276.6 Q2130.47 1279.52 2130.47 1285.44 Z\" fill=\"#000000\" fill-rule=\"evenodd\" fill-opacity=\"1\" /><polyline clip-path=\"url(#clip860)\" style=\"stroke:#e26f46; stroke-linecap:round; stroke-linejoin:round; stroke-width:4; stroke-opacity:1; fill:none\" points=\"1863.87,1334.79 2006.79,1334.79 \"/>\n",
       "<path clip-path=\"url(#clip860)\" d=\"M2030.61 1317.51 L2059.84 1317.51 L2059.84 1321.45 L2047.57 1321.45 L2047.57 1352.07 L2042.87 1352.07 L2042.87 1321.45 L2030.61 1321.45 L2030.61 1317.51 Z\" fill=\"#000000\" fill-rule=\"evenodd\" fill-opacity=\"1\" /><path clip-path=\"url(#clip860)\" d=\"M2072.23 1330.13 Q2071.51 1329.71 2070.65 1329.53 Q2069.82 1329.32 2068.8 1329.32 Q2065.19 1329.32 2063.24 1331.68 Q2061.32 1334.02 2061.32 1338.42 L2061.32 1352.07 L2057.04 1352.07 L2057.04 1326.15 L2061.32 1326.15 L2061.32 1330.18 Q2062.67 1327.82 2064.82 1326.68 Q2066.97 1325.52 2070.05 1325.52 Q2070.49 1325.52 2071.02 1325.59 Q2071.55 1325.64 2072.2 1325.76 L2072.23 1330.13 Z\" fill=\"#000000\" fill-rule=\"evenodd\" fill-opacity=\"1\" /><path clip-path=\"url(#clip860)\" d=\"M2076.25 1341.84 L2076.25 1326.15 L2080.51 1326.15 L2080.51 1341.68 Q2080.51 1345.36 2081.95 1347.21 Q2083.38 1349.04 2086.25 1349.04 Q2089.7 1349.04 2091.69 1346.84 Q2093.71 1344.64 2093.71 1340.85 L2093.71 1326.15 L2097.97 1326.15 L2097.97 1352.07 L2093.71 1352.07 L2093.71 1348.09 Q2092.16 1350.45 2090.1 1351.61 Q2088.06 1352.75 2085.35 1352.75 Q2080.88 1352.75 2078.57 1349.97 Q2076.25 1347.19 2076.25 1341.84 M2086.97 1325.52 L2086.97 1325.52 Z\" fill=\"#000000\" fill-rule=\"evenodd\" fill-opacity=\"1\" /><path clip-path=\"url(#clip860)\" d=\"M2128.92 1338.05 L2128.92 1340.13 L2109.33 1340.13 Q2109.61 1344.53 2111.97 1346.84 Q2114.35 1349.13 2118.59 1349.13 Q2121.04 1349.13 2123.34 1348.53 Q2125.65 1347.93 2127.92 1346.73 L2127.92 1350.75 Q2125.63 1351.73 2123.22 1352.24 Q2120.81 1352.75 2118.34 1352.75 Q2112.13 1352.75 2108.5 1349.13 Q2104.89 1345.52 2104.89 1339.37 Q2104.89 1333 2108.31 1329.27 Q2111.76 1325.52 2117.6 1325.52 Q2122.83 1325.52 2125.86 1328.9 Q2128.92 1332.26 2128.92 1338.05 M2124.66 1336.8 Q2124.61 1333.3 2122.69 1331.22 Q2120.79 1329.13 2117.64 1329.13 Q2114.08 1329.13 2111.92 1331.15 Q2109.79 1333.16 2109.47 1336.82 L2124.66 1336.8 Z\" fill=\"#000000\" fill-rule=\"evenodd\" fill-opacity=\"1\" /><path clip-path=\"url(#clip860)\" d=\"M2150.98 1316.06 L2155.23 1316.06 L2155.23 1352.07 L2150.98 1352.07 L2150.98 1316.06 Z\" fill=\"#000000\" fill-rule=\"evenodd\" fill-opacity=\"1\" /><path clip-path=\"url(#clip860)\" d=\"M2164.15 1326.15 L2168.41 1326.15 L2168.41 1352.07 L2164.15 1352.07 L2164.15 1326.15 M2164.15 1316.06 L2168.41 1316.06 L2168.41 1321.45 L2164.15 1321.45 L2164.15 1316.06 Z\" fill=\"#000000\" fill-rule=\"evenodd\" fill-opacity=\"1\" /><path clip-path=\"url(#clip860)\" d=\"M2198.87 1336.43 L2198.87 1352.07 L2194.61 1352.07 L2194.61 1336.57 Q2194.61 1332.88 2193.17 1331.06 Q2191.74 1329.23 2188.87 1329.23 Q2185.42 1329.23 2183.43 1331.43 Q2181.44 1333.63 2181.44 1337.42 L2181.44 1352.07 L2177.16 1352.07 L2177.16 1326.15 L2181.44 1326.15 L2181.44 1330.18 Q2182.97 1327.84 2185.03 1326.68 Q2187.11 1325.52 2189.82 1325.52 Q2194.29 1325.52 2196.58 1328.3 Q2198.87 1331.06 2198.87 1336.43 Z\" fill=\"#000000\" fill-rule=\"evenodd\" fill-opacity=\"1\" /><path clip-path=\"url(#clip860)\" d=\"M2229.54 1338.05 L2229.54 1340.13 L2209.96 1340.13 Q2210.23 1344.53 2212.6 1346.84 Q2214.98 1349.13 2219.22 1349.13 Q2221.67 1349.13 2223.96 1348.53 Q2226.28 1347.93 2228.54 1346.73 L2228.54 1350.75 Q2226.25 1351.73 2223.85 1352.24 Q2221.44 1352.75 2218.96 1352.75 Q2212.76 1352.75 2209.12 1349.13 Q2205.51 1345.52 2205.51 1339.37 Q2205.51 1333 2208.94 1329.27 Q2212.39 1325.52 2218.22 1325.52 Q2223.45 1325.52 2226.48 1328.9 Q2229.54 1332.26 2229.54 1338.05 M2225.28 1336.8 Q2225.23 1333.3 2223.31 1331.22 Q2221.41 1329.13 2218.27 1329.13 Q2214.7 1329.13 2212.55 1331.15 Q2210.42 1333.16 2210.1 1336.82 L2225.28 1336.8 Z\" fill=\"#000000\" fill-rule=\"evenodd\" fill-opacity=\"1\" /><polyline clip-path=\"url(#clip860)\" style=\"stroke:#3da44d; stroke-linecap:round; stroke-linejoin:round; stroke-width:4; stroke-opacity:1; fill:none\" points=\"1863.87,1386.63 2006.79,1386.63 \"/>\n",
       "<path clip-path=\"url(#clip860)\" d=\"M2030.61 1369.35 L2050.47 1369.35 L2050.47 1373.29 L2035.28 1373.29 L2035.28 1383.47 L2048.98 1383.47 L2048.98 1387.41 L2035.28 1387.41 L2035.28 1403.91 L2030.61 1403.91 L2030.61 1369.35 Z\" fill=\"#000000\" fill-rule=\"evenodd\" fill-opacity=\"1\" /><path clip-path=\"url(#clip860)\" d=\"M2054.24 1377.99 L2058.5 1377.99 L2058.5 1403.91 L2054.24 1403.91 L2054.24 1377.99 M2054.24 1367.9 L2058.5 1367.9 L2058.5 1373.29 L2054.24 1373.29 L2054.24 1367.9 Z\" fill=\"#000000\" fill-rule=\"evenodd\" fill-opacity=\"1\" /><path clip-path=\"url(#clip860)\" d=\"M2071.62 1370.63 L2071.62 1377.99 L2080.4 1377.99 L2080.4 1381.3 L2071.62 1381.3 L2071.62 1395.37 Q2071.62 1398.54 2072.48 1399.45 Q2073.36 1400.35 2076.02 1400.35 L2080.4 1400.35 L2080.4 1403.91 L2076.02 1403.91 Q2071.09 1403.91 2069.22 1402.09 Q2067.34 1400.23 2067.34 1395.37 L2067.34 1381.3 L2064.22 1381.3 L2064.22 1377.99 L2067.34 1377.99 L2067.34 1370.63 L2071.62 1370.63 Z\" fill=\"#000000\" fill-rule=\"evenodd\" fill-opacity=\"1\" /><path clip-path=\"url(#clip860)\" d=\"M2090.21 1370.63 L2090.21 1377.99 L2098.98 1377.99 L2098.98 1381.3 L2090.21 1381.3 L2090.21 1395.37 Q2090.21 1398.54 2091.07 1399.45 Q2091.95 1400.35 2094.61 1400.35 L2098.98 1400.35 L2098.98 1403.91 L2094.61 1403.91 Q2089.68 1403.91 2087.8 1402.09 Q2085.93 1400.23 2085.93 1395.37 L2085.93 1381.3 L2082.8 1381.3 L2082.8 1377.99 L2085.93 1377.99 L2085.93 1370.63 L2090.21 1370.63 Z\" fill=\"#000000\" fill-rule=\"evenodd\" fill-opacity=\"1\" /><path clip-path=\"url(#clip860)\" d=\"M2126.76 1389.89 L2126.76 1391.97 L2107.18 1391.97 Q2107.46 1396.37 2109.82 1398.68 Q2112.2 1400.97 2116.44 1400.97 Q2118.89 1400.97 2121.18 1400.37 Q2123.5 1399.77 2125.77 1398.57 L2125.77 1402.59 Q2123.48 1403.57 2121.07 1404.08 Q2118.66 1404.59 2116.18 1404.59 Q2109.98 1404.59 2106.35 1400.97 Q2102.73 1397.36 2102.73 1391.21 Q2102.73 1384.84 2106.16 1381.11 Q2109.61 1377.36 2115.44 1377.36 Q2120.67 1377.36 2123.71 1380.74 Q2126.76 1384.1 2126.76 1389.89 M2122.5 1388.64 Q2122.46 1385.14 2120.54 1383.06 Q2118.64 1380.97 2115.49 1380.97 Q2111.92 1380.97 2109.77 1382.99 Q2107.64 1385 2107.32 1388.66 L2122.5 1388.64 Z\" fill=\"#000000\" fill-rule=\"evenodd\" fill-opacity=\"1\" /><path clip-path=\"url(#clip860)\" d=\"M2150.81 1381.92 L2150.81 1367.9 L2155.07 1367.9 L2155.07 1403.91 L2150.81 1403.91 L2150.81 1400.03 Q2149.47 1402.34 2147.41 1403.47 Q2145.37 1404.59 2142.5 1404.59 Q2137.8 1404.59 2134.84 1400.84 Q2131.9 1397.09 2131.9 1390.97 Q2131.9 1384.86 2134.84 1381.11 Q2137.8 1377.36 2142.5 1377.36 Q2145.37 1377.36 2147.41 1378.5 Q2149.47 1379.61 2150.81 1381.92 M2136.3 1390.97 Q2136.3 1395.67 2138.22 1398.36 Q2140.16 1401.02 2143.54 1401.02 Q2146.92 1401.02 2148.87 1398.36 Q2150.81 1395.67 2150.81 1390.97 Q2150.81 1386.28 2148.87 1383.61 Q2146.92 1380.93 2143.54 1380.93 Q2140.16 1380.93 2138.22 1383.61 Q2136.3 1386.28 2136.3 1390.97 Z\" fill=\"#000000\" fill-rule=\"evenodd\" fill-opacity=\"1\" /><path clip-path=\"url(#clip860)\" d=\"M2178.91 1367.9 L2183.17 1367.9 L2183.17 1403.91 L2178.91 1403.91 L2178.91 1367.9 Z\" fill=\"#000000\" fill-rule=\"evenodd\" fill-opacity=\"1\" /><path clip-path=\"url(#clip860)\" d=\"M2192.09 1377.99 L2196.35 1377.99 L2196.35 1403.91 L2192.09 1403.91 L2192.09 1377.99 M2192.09 1367.9 L2196.35 1367.9 L2196.35 1373.29 L2192.09 1373.29 L2192.09 1367.9 Z\" fill=\"#000000\" fill-rule=\"evenodd\" fill-opacity=\"1\" /><path clip-path=\"url(#clip860)\" d=\"M2226.81 1388.27 L2226.81 1403.91 L2222.55 1403.91 L2222.55 1388.41 Q2222.55 1384.72 2221.11 1382.9 Q2219.68 1381.07 2216.81 1381.07 Q2213.36 1381.07 2211.37 1383.27 Q2209.38 1385.47 2209.38 1389.26 L2209.38 1403.91 L2205.1 1403.91 L2205.1 1377.99 L2209.38 1377.99 L2209.38 1382.02 Q2210.91 1379.68 2212.97 1378.52 Q2215.05 1377.36 2217.76 1377.36 Q2222.22 1377.36 2224.52 1380.14 Q2226.81 1382.9 2226.81 1388.27 Z\" fill=\"#000000\" fill-rule=\"evenodd\" fill-opacity=\"1\" /><path clip-path=\"url(#clip860)\" d=\"M2257.48 1389.89 L2257.48 1391.97 L2237.9 1391.97 Q2238.17 1396.37 2240.53 1398.68 Q2242.92 1400.97 2247.16 1400.97 Q2249.61 1400.97 2251.9 1400.37 Q2254.22 1399.77 2256.48 1398.57 L2256.48 1402.59 Q2254.19 1403.57 2251.78 1404.08 Q2249.38 1404.59 2246.9 1404.59 Q2240.7 1404.59 2237.06 1400.97 Q2233.45 1397.36 2233.45 1391.21 Q2233.45 1384.84 2236.88 1381.11 Q2240.33 1377.36 2246.16 1377.36 Q2251.39 1377.36 2254.42 1380.74 Q2257.48 1384.1 2257.48 1389.89 M2253.22 1388.64 Q2253.17 1385.14 2251.25 1383.06 Q2249.35 1380.97 2246.21 1380.97 Q2242.64 1380.97 2240.49 1382.99 Q2238.36 1385 2238.03 1388.66 L2253.22 1388.64 Z\" fill=\"#000000\" fill-rule=\"evenodd\" fill-opacity=\"1\" /></svg>\n"
      ]
     },
     "execution_count": 76,
     "metadata": {},
     "output_type": "execute_result"
    }
   ],
   "source": [
    "x3=-10:10\n",
    "collect(x3)\n",
    "y_true3 = x3.^2 .+ 3 .*x3 .-2\n",
    "d3=50\n",
    "noise3 = di.Normal(0,d3)\n",
    "y_observed3 = y_true3 + rand(noise3,length(x3))\n",
    "scatter(x3,y_observed3, label=\"data\")\n",
    "plot!(x3,y_true3,label= \"True line\")\n",
    "poly_fit3 = fit(x3,y_observed3,10)\n",
    "y_fitted3= poly_fit3.(x3)\n",
    "plot!(x3, y_fitted3, label = \"Fitted line\")"
   ]
  },
  {
   "cell_type": "markdown",
   "id": "36028ee0",
   "metadata": {},
   "source": [
    "### 2.6\n",
    "\n",
    "1. Create a new independent parameter x_fit ranging from -11 to 11 with an increment of 0.1\n",
    "2. Plot the same three plots as in 2.3 again but apply the tenth order polynomial to x_fit instead of x\n"
   ]
  },
  {
   "cell_type": "code",
   "execution_count": 77,
   "id": "6c67a977",
   "metadata": {},
   "outputs": [
    {
     "data": {
      "image/svg+xml": [
       "<?xml version=\"1.0\" encoding=\"utf-8\"?>\n",
       "<svg xmlns=\"http://www.w3.org/2000/svg\" xmlns:xlink=\"http://www.w3.org/1999/xlink\" width=\"600\" height=\"400\" viewBox=\"0 0 2400 1600\">\n",
       "<defs>\n",
       "  <clipPath id=\"clip900\">\n",
       "    <rect x=\"0\" y=\"0\" width=\"2400\" height=\"1600\"/>\n",
       "  </clipPath>\n",
       "</defs>\n",
       "<path clip-path=\"url(#clip900)\" d=\"M0 1600 L2400 1600 L2400 0 L0 0  Z\" fill=\"#ffffff\" fill-rule=\"evenodd\" fill-opacity=\"1\"/>\n",
       "<defs>\n",
       "  <clipPath id=\"clip901\">\n",
       "    <rect x=\"480\" y=\"0\" width=\"1681\" height=\"1600\"/>\n",
       "  </clipPath>\n",
       "</defs>\n",
       "<path clip-path=\"url(#clip900)\" d=\"M209.029 1486.45 L2352.76 1486.45 L2352.76 47.2441 L209.029 47.2441  Z\" fill=\"#ffffff\" fill-rule=\"evenodd\" fill-opacity=\"1\"/>\n",
       "<defs>\n",
       "  <clipPath id=\"clip902\">\n",
       "    <rect x=\"209\" y=\"47\" width=\"2145\" height=\"1440\"/>\n",
       "  </clipPath>\n",
       "</defs>\n",
       "<polyline clip-path=\"url(#clip902)\" style=\"stroke:#000000; stroke-linecap:round; stroke-linejoin:round; stroke-width:2; stroke-opacity:0.1; fill:none\" points=\"361.627,1486.45 361.627,47.2441 \"/>\n",
       "<polyline clip-path=\"url(#clip902)\" style=\"stroke:#000000; stroke-linecap:round; stroke-linejoin:round; stroke-width:2; stroke-opacity:0.1; fill:none\" points=\"821.259,1486.45 821.259,47.2441 \"/>\n",
       "<polyline clip-path=\"url(#clip902)\" style=\"stroke:#000000; stroke-linecap:round; stroke-linejoin:round; stroke-width:2; stroke-opacity:0.1; fill:none\" points=\"1280.89,1486.45 1280.89,47.2441 \"/>\n",
       "<polyline clip-path=\"url(#clip902)\" style=\"stroke:#000000; stroke-linecap:round; stroke-linejoin:round; stroke-width:2; stroke-opacity:0.1; fill:none\" points=\"1740.53,1486.45 1740.53,47.2441 \"/>\n",
       "<polyline clip-path=\"url(#clip902)\" style=\"stroke:#000000; stroke-linecap:round; stroke-linejoin:round; stroke-width:2; stroke-opacity:0.1; fill:none\" points=\"2200.16,1486.45 2200.16,47.2441 \"/>\n",
       "<polyline clip-path=\"url(#clip900)\" style=\"stroke:#000000; stroke-linecap:round; stroke-linejoin:round; stroke-width:4; stroke-opacity:1; fill:none\" points=\"209.029,1486.45 2352.76,1486.45 \"/>\n",
       "<polyline clip-path=\"url(#clip900)\" style=\"stroke:#000000; stroke-linecap:round; stroke-linejoin:round; stroke-width:4; stroke-opacity:1; fill:none\" points=\"361.627,1486.45 361.627,1467.55 \"/>\n",
       "<polyline clip-path=\"url(#clip900)\" style=\"stroke:#000000; stroke-linecap:round; stroke-linejoin:round; stroke-width:4; stroke-opacity:1; fill:none\" points=\"821.259,1486.45 821.259,1467.55 \"/>\n",
       "<polyline clip-path=\"url(#clip900)\" style=\"stroke:#000000; stroke-linecap:round; stroke-linejoin:round; stroke-width:4; stroke-opacity:1; fill:none\" points=\"1280.89,1486.45 1280.89,1467.55 \"/>\n",
       "<polyline clip-path=\"url(#clip900)\" style=\"stroke:#000000; stroke-linecap:round; stroke-linejoin:round; stroke-width:4; stroke-opacity:1; fill:none\" points=\"1740.53,1486.45 1740.53,1467.55 \"/>\n",
       "<polyline clip-path=\"url(#clip900)\" style=\"stroke:#000000; stroke-linecap:round; stroke-linejoin:round; stroke-width:4; stroke-opacity:1; fill:none\" points=\"2200.16,1486.45 2200.16,1467.55 \"/>\n",
       "<path clip-path=\"url(#clip900)\" d=\"M315.689 1532.02 L345.365 1532.02 L345.365 1535.95 L315.689 1535.95 L315.689 1532.02 Z\" fill=\"#000000\" fill-rule=\"evenodd\" fill-opacity=\"1\" /><path clip-path=\"url(#clip900)\" d=\"M356.268 1544.91 L363.907 1544.91 L363.907 1518.55 L355.597 1520.21 L355.597 1515.95 L363.86 1514.29 L368.536 1514.29 L368.536 1544.91 L376.175 1544.91 L376.175 1548.85 L356.268 1548.85 L356.268 1544.91 Z\" fill=\"#000000\" fill-rule=\"evenodd\" fill-opacity=\"1\" /><path clip-path=\"url(#clip900)\" d=\"M395.619 1517.37 Q392.008 1517.37 390.18 1520.93 Q388.374 1524.47 388.374 1531.6 Q388.374 1538.71 390.18 1542.27 Q392.008 1545.82 395.619 1545.82 Q399.254 1545.82 401.059 1542.27 Q402.888 1538.71 402.888 1531.6 Q402.888 1524.47 401.059 1520.93 Q399.254 1517.37 395.619 1517.37 M395.619 1513.66 Q401.43 1513.66 404.485 1518.27 Q407.564 1522.85 407.564 1531.6 Q407.564 1540.33 404.485 1544.94 Q401.43 1549.52 395.619 1549.52 Q389.809 1549.52 386.731 1544.94 Q383.675 1540.33 383.675 1531.6 Q383.675 1522.85 386.731 1518.27 Q389.809 1513.66 395.619 1513.66 Z\" fill=\"#000000\" fill-rule=\"evenodd\" fill-opacity=\"1\" /><path clip-path=\"url(#clip900)\" d=\"M790.901 1532.02 L820.577 1532.02 L820.577 1535.95 L790.901 1535.95 L790.901 1532.02 Z\" fill=\"#000000\" fill-rule=\"evenodd\" fill-opacity=\"1\" /><path clip-path=\"url(#clip900)\" d=\"M830.715 1514.29 L849.072 1514.29 L849.072 1518.22 L834.998 1518.22 L834.998 1526.7 Q836.016 1526.35 837.035 1526.19 Q838.053 1526 839.072 1526 Q844.859 1526 848.238 1529.17 Q851.618 1532.34 851.618 1537.76 Q851.618 1543.34 848.146 1546.44 Q844.674 1549.52 838.354 1549.52 Q836.178 1549.52 833.91 1549.15 Q831.664 1548.78 829.257 1548.04 L829.257 1543.34 Q831.34 1544.47 833.563 1545.03 Q835.785 1545.58 838.262 1545.58 Q842.266 1545.58 844.604 1543.48 Q846.942 1541.37 846.942 1537.76 Q846.942 1534.15 844.604 1532.04 Q842.266 1529.94 838.262 1529.94 Q836.387 1529.94 834.512 1530.35 Q832.66 1530.77 830.715 1531.65 L830.715 1514.29 Z\" fill=\"#000000\" fill-rule=\"evenodd\" fill-opacity=\"1\" /><path clip-path=\"url(#clip900)\" d=\"M1280.89 1517.37 Q1277.28 1517.37 1275.45 1520.93 Q1273.65 1524.47 1273.65 1531.6 Q1273.65 1538.71 1275.45 1542.27 Q1277.28 1545.82 1280.89 1545.82 Q1284.53 1545.82 1286.33 1542.27 Q1288.16 1538.71 1288.16 1531.6 Q1288.16 1524.47 1286.33 1520.93 Q1284.53 1517.37 1280.89 1517.37 M1280.89 1513.66 Q1286.7 1513.66 1289.76 1518.27 Q1292.84 1522.85 1292.84 1531.6 Q1292.84 1540.33 1289.76 1544.94 Q1286.7 1549.52 1280.89 1549.52 Q1275.08 1549.52 1272 1544.94 Q1268.95 1540.33 1268.95 1531.6 Q1268.95 1522.85 1272 1518.27 Q1275.08 1513.66 1280.89 1513.66 Z\" fill=\"#000000\" fill-rule=\"evenodd\" fill-opacity=\"1\" /><path clip-path=\"url(#clip900)\" d=\"M1730.8 1514.29 L1749.16 1514.29 L1749.16 1518.22 L1735.09 1518.22 L1735.09 1526.7 Q1736.1 1526.35 1737.12 1526.19 Q1738.14 1526 1739.16 1526 Q1744.95 1526 1748.33 1529.17 Q1751.71 1532.34 1751.71 1537.76 Q1751.71 1543.34 1748.23 1546.44 Q1744.76 1549.52 1738.44 1549.52 Q1736.27 1549.52 1734 1549.15 Q1731.75 1548.78 1729.34 1548.04 L1729.34 1543.34 Q1731.43 1544.47 1733.65 1545.03 Q1735.87 1545.58 1738.35 1545.58 Q1742.35 1545.58 1744.69 1543.48 Q1747.03 1541.37 1747.03 1537.76 Q1747.03 1534.15 1744.69 1532.04 Q1742.35 1529.94 1738.35 1529.94 Q1736.47 1529.94 1734.6 1530.35 Q1732.75 1530.77 1730.8 1531.65 L1730.8 1514.29 Z\" fill=\"#000000\" fill-rule=\"evenodd\" fill-opacity=\"1\" /><path clip-path=\"url(#clip900)\" d=\"M2174.85 1544.91 L2182.48 1544.91 L2182.48 1518.55 L2174.17 1520.21 L2174.17 1515.95 L2182.44 1514.29 L2187.11 1514.29 L2187.11 1544.91 L2194.75 1544.91 L2194.75 1548.85 L2174.85 1548.85 L2174.85 1544.91 Z\" fill=\"#000000\" fill-rule=\"evenodd\" fill-opacity=\"1\" /><path clip-path=\"url(#clip900)\" d=\"M2214.2 1517.37 Q2210.59 1517.37 2208.76 1520.93 Q2206.95 1524.47 2206.95 1531.6 Q2206.95 1538.71 2208.76 1542.27 Q2210.59 1545.82 2214.2 1545.82 Q2217.83 1545.82 2219.64 1542.27 Q2221.47 1538.71 2221.47 1531.6 Q2221.47 1524.47 2219.64 1520.93 Q2217.83 1517.37 2214.2 1517.37 M2214.2 1513.66 Q2220.01 1513.66 2223.06 1518.27 Q2226.14 1522.85 2226.14 1531.6 Q2226.14 1540.33 2223.06 1544.94 Q2220.01 1549.52 2214.2 1549.52 Q2208.39 1549.52 2205.31 1544.94 Q2202.25 1540.33 2202.25 1531.6 Q2202.25 1522.85 2205.31 1518.27 Q2208.39 1513.66 2214.2 1513.66 Z\" fill=\"#000000\" fill-rule=\"evenodd\" fill-opacity=\"1\" /><polyline clip-path=\"url(#clip902)\" style=\"stroke:#000000; stroke-linecap:round; stroke-linejoin:round; stroke-width:2; stroke-opacity:0.1; fill:none\" points=\"209.029,1462.4 2352.76,1462.4 \"/>\n",
       "<polyline clip-path=\"url(#clip902)\" style=\"stroke:#000000; stroke-linecap:round; stroke-linejoin:round; stroke-width:2; stroke-opacity:0.1; fill:none\" points=\"209.029,1092.37 2352.76,1092.37 \"/>\n",
       "<polyline clip-path=\"url(#clip902)\" style=\"stroke:#000000; stroke-linecap:round; stroke-linejoin:round; stroke-width:2; stroke-opacity:0.1; fill:none\" points=\"209.029,722.344 2352.76,722.344 \"/>\n",
       "<polyline clip-path=\"url(#clip902)\" style=\"stroke:#000000; stroke-linecap:round; stroke-linejoin:round; stroke-width:2; stroke-opacity:0.1; fill:none\" points=\"209.029,352.318 2352.76,352.318 \"/>\n",
       "<polyline clip-path=\"url(#clip900)\" style=\"stroke:#000000; stroke-linecap:round; stroke-linejoin:round; stroke-width:4; stroke-opacity:1; fill:none\" points=\"209.029,1486.45 209.029,47.2441 \"/>\n",
       "<polyline clip-path=\"url(#clip900)\" style=\"stroke:#000000; stroke-linecap:round; stroke-linejoin:round; stroke-width:4; stroke-opacity:1; fill:none\" points=\"209.029,1462.4 227.926,1462.4 \"/>\n",
       "<polyline clip-path=\"url(#clip900)\" style=\"stroke:#000000; stroke-linecap:round; stroke-linejoin:round; stroke-width:4; stroke-opacity:1; fill:none\" points=\"209.029,1092.37 227.926,1092.37 \"/>\n",
       "<polyline clip-path=\"url(#clip900)\" style=\"stroke:#000000; stroke-linecap:round; stroke-linejoin:round; stroke-width:4; stroke-opacity:1; fill:none\" points=\"209.029,722.344 227.926,722.344 \"/>\n",
       "<polyline clip-path=\"url(#clip900)\" style=\"stroke:#000000; stroke-linecap:round; stroke-linejoin:round; stroke-width:4; stroke-opacity:1; fill:none\" points=\"209.029,352.318 227.926,352.318 \"/>\n",
       "<path clip-path=\"url(#clip900)\" d=\"M50.9921 1462.85 L80.6679 1462.85 L80.6679 1466.78 L50.9921 1466.78 L50.9921 1462.85 Z\" fill=\"#000000\" fill-rule=\"evenodd\" fill-opacity=\"1\" /><path clip-path=\"url(#clip900)\" d=\"M91.5706 1475.74 L99.2095 1475.74 L99.2095 1449.37 L90.8993 1451.04 L90.8993 1446.78 L99.1632 1445.12 L103.839 1445.12 L103.839 1475.74 L111.478 1475.74 L111.478 1479.68 L91.5706 1479.68 L91.5706 1475.74 Z\" fill=\"#000000\" fill-rule=\"evenodd\" fill-opacity=\"1\" /><path clip-path=\"url(#clip900)\" d=\"M130.922 1448.19 Q127.311 1448.19 125.482 1451.76 Q123.677 1455.3 123.677 1462.43 Q123.677 1469.54 125.482 1473.1 Q127.311 1476.64 130.922 1476.64 Q134.556 1476.64 136.362 1473.1 Q138.191 1469.54 138.191 1462.43 Q138.191 1455.3 136.362 1451.76 Q134.556 1448.19 130.922 1448.19 M130.922 1444.49 Q136.732 1444.49 139.788 1449.1 Q142.867 1453.68 142.867 1462.43 Q142.867 1471.16 139.788 1475.76 Q136.732 1480.35 130.922 1480.35 Q125.112 1480.35 122.033 1475.76 Q118.978 1471.16 118.978 1462.43 Q118.978 1453.68 122.033 1449.1 Q125.112 1444.49 130.922 1444.49 Z\" fill=\"#000000\" fill-rule=\"evenodd\" fill-opacity=\"1\" /><path clip-path=\"url(#clip900)\" d=\"M161.084 1448.19 Q157.473 1448.19 155.644 1451.76 Q153.839 1455.3 153.839 1462.43 Q153.839 1469.54 155.644 1473.1 Q157.473 1476.64 161.084 1476.64 Q164.718 1476.64 166.524 1473.1 Q168.353 1469.54 168.353 1462.43 Q168.353 1455.3 166.524 1451.76 Q164.718 1448.19 161.084 1448.19 M161.084 1444.49 Q166.894 1444.49 169.95 1449.1 Q173.029 1453.68 173.029 1462.43 Q173.029 1471.16 169.95 1475.76 Q166.894 1480.35 161.084 1480.35 Q155.274 1480.35 152.195 1475.76 Q149.14 1471.16 149.14 1462.43 Q149.14 1453.68 152.195 1449.1 Q155.274 1444.49 161.084 1444.49 Z\" fill=\"#000000\" fill-rule=\"evenodd\" fill-opacity=\"1\" /><path clip-path=\"url(#clip900)\" d=\"M161.084 1078.17 Q157.473 1078.17 155.644 1081.73 Q153.839 1085.27 153.839 1092.4 Q153.839 1099.51 155.644 1103.08 Q157.473 1106.62 161.084 1106.62 Q164.718 1106.62 166.524 1103.08 Q168.353 1099.51 168.353 1092.4 Q168.353 1085.27 166.524 1081.73 Q164.718 1078.17 161.084 1078.17 M161.084 1074.46 Q166.894 1074.46 169.95 1079.07 Q173.029 1083.65 173.029 1092.4 Q173.029 1101.13 169.95 1105.74 Q166.894 1110.32 161.084 1110.32 Q155.274 1110.32 152.195 1105.74 Q149.14 1101.13 149.14 1092.4 Q149.14 1083.65 152.195 1079.07 Q155.274 1074.46 161.084 1074.46 Z\" fill=\"#000000\" fill-rule=\"evenodd\" fill-opacity=\"1\" /><path clip-path=\"url(#clip900)\" d=\"M91.5706 735.688 L99.2095 735.688 L99.2095 709.323 L90.8993 710.99 L90.8993 706.73 L99.1632 705.064 L103.839 705.064 L103.839 735.688 L111.478 735.688 L111.478 739.624 L91.5706 739.624 L91.5706 735.688 Z\" fill=\"#000000\" fill-rule=\"evenodd\" fill-opacity=\"1\" /><path clip-path=\"url(#clip900)\" d=\"M130.922 708.142 Q127.311 708.142 125.482 711.707 Q123.677 715.249 123.677 722.378 Q123.677 729.485 125.482 733.05 Q127.311 736.591 130.922 736.591 Q134.556 736.591 136.362 733.05 Q138.191 729.485 138.191 722.378 Q138.191 715.249 136.362 711.707 Q134.556 708.142 130.922 708.142 M130.922 704.439 Q136.732 704.439 139.788 709.045 Q142.867 713.628 142.867 722.378 Q142.867 731.105 139.788 735.712 Q136.732 740.295 130.922 740.295 Q125.112 740.295 122.033 735.712 Q118.978 731.105 118.978 722.378 Q118.978 713.628 122.033 709.045 Q125.112 704.439 130.922 704.439 Z\" fill=\"#000000\" fill-rule=\"evenodd\" fill-opacity=\"1\" /><path clip-path=\"url(#clip900)\" d=\"M161.084 708.142 Q157.473 708.142 155.644 711.707 Q153.839 715.249 153.839 722.378 Q153.839 729.485 155.644 733.05 Q157.473 736.591 161.084 736.591 Q164.718 736.591 166.524 733.05 Q168.353 729.485 168.353 722.378 Q168.353 715.249 166.524 711.707 Q164.718 708.142 161.084 708.142 M161.084 704.439 Q166.894 704.439 169.95 709.045 Q173.029 713.628 173.029 722.378 Q173.029 731.105 169.95 735.712 Q166.894 740.295 161.084 740.295 Q155.274 740.295 152.195 735.712 Q149.14 731.105 149.14 722.378 Q149.14 713.628 152.195 709.045 Q155.274 704.439 161.084 704.439 Z\" fill=\"#000000\" fill-rule=\"evenodd\" fill-opacity=\"1\" /><path clip-path=\"url(#clip900)\" d=\"M94.7882 365.663 L111.108 365.663 L111.108 369.598 L89.1632 369.598 L89.1632 365.663 Q91.8252 362.908 96.4085 358.279 Q101.015 353.626 102.196 352.283 Q104.441 349.76 105.321 348.024 Q106.223 346.265 106.223 344.575 Q106.223 341.82 104.279 340.084 Q102.358 338.348 99.2558 338.348 Q97.0567 338.348 94.603 339.112 Q92.1725 339.876 89.3947 341.427 L89.3947 336.705 Q92.2188 335.57 94.6724 334.992 Q97.1261 334.413 99.1632 334.413 Q104.534 334.413 107.728 337.098 Q110.922 339.783 110.922 344.274 Q110.922 346.404 110.112 348.325 Q109.325 350.223 107.219 352.816 Q106.64 353.487 103.538 356.704 Q100.436 359.899 94.7882 365.663 Z\" fill=\"#000000\" fill-rule=\"evenodd\" fill-opacity=\"1\" /><path clip-path=\"url(#clip900)\" d=\"M130.922 338.117 Q127.311 338.117 125.482 341.681 Q123.677 345.223 123.677 352.353 Q123.677 359.459 125.482 363.024 Q127.311 366.566 130.922 366.566 Q134.556 366.566 136.362 363.024 Q138.191 359.459 138.191 352.353 Q138.191 345.223 136.362 341.681 Q134.556 338.117 130.922 338.117 M130.922 334.413 Q136.732 334.413 139.788 339.019 Q142.867 343.603 142.867 352.353 Q142.867 361.079 139.788 365.686 Q136.732 370.269 130.922 370.269 Q125.112 370.269 122.033 365.686 Q118.978 361.079 118.978 352.353 Q118.978 343.603 122.033 339.019 Q125.112 334.413 130.922 334.413 Z\" fill=\"#000000\" fill-rule=\"evenodd\" fill-opacity=\"1\" /><path clip-path=\"url(#clip900)\" d=\"M161.084 338.117 Q157.473 338.117 155.644 341.681 Q153.839 345.223 153.839 352.353 Q153.839 359.459 155.644 363.024 Q157.473 366.566 161.084 366.566 Q164.718 366.566 166.524 363.024 Q168.353 359.459 168.353 352.353 Q168.353 345.223 166.524 341.681 Q164.718 338.117 161.084 338.117 M161.084 334.413 Q166.894 334.413 169.95 339.019 Q173.029 343.603 173.029 352.353 Q173.029 361.079 169.95 365.686 Q166.894 370.269 161.084 370.269 Q155.274 370.269 152.195 365.686 Q149.14 361.079 149.14 352.353 Q149.14 343.603 152.195 339.019 Q155.274 334.413 161.084 334.413 Z\" fill=\"#000000\" fill-rule=\"evenodd\" fill-opacity=\"1\" /><circle clip-path=\"url(#clip902)\" cx=\"269.7\" cy=\"669.63\" r=\"14.4\" fill=\"#009af9\" fill-rule=\"evenodd\" fill-opacity=\"1\" stroke=\"#000000\" stroke-opacity=\"1\" stroke-width=\"3.2\"/>\n",
       "<circle clip-path=\"url(#clip902)\" cx=\"278.893\" cy=\"659.251\" r=\"14.4\" fill=\"#009af9\" fill-rule=\"evenodd\" fill-opacity=\"1\" stroke=\"#000000\" stroke-opacity=\"1\" stroke-width=\"3.2\"/>\n",
       "<circle clip-path=\"url(#clip902)\" cx=\"288.085\" cy=\"1021.51\" r=\"14.4\" fill=\"#009af9\" fill-rule=\"evenodd\" fill-opacity=\"1\" stroke=\"#000000\" stroke-opacity=\"1\" stroke-width=\"3.2\"/>\n",
       "<circle clip-path=\"url(#clip902)\" cx=\"297.278\" cy=\"1039.22\" r=\"14.4\" fill=\"#009af9\" fill-rule=\"evenodd\" fill-opacity=\"1\" stroke=\"#000000\" stroke-opacity=\"1\" stroke-width=\"3.2\"/>\n",
       "<circle clip-path=\"url(#clip902)\" cx=\"306.471\" cy=\"1007.22\" r=\"14.4\" fill=\"#009af9\" fill-rule=\"evenodd\" fill-opacity=\"1\" stroke=\"#000000\" stroke-opacity=\"1\" stroke-width=\"3.2\"/>\n",
       "<circle clip-path=\"url(#clip902)\" cx=\"315.663\" cy=\"677.036\" r=\"14.4\" fill=\"#009af9\" fill-rule=\"evenodd\" fill-opacity=\"1\" stroke=\"#000000\" stroke-opacity=\"1\" stroke-width=\"3.2\"/>\n",
       "<circle clip-path=\"url(#clip902)\" cx=\"324.856\" cy=\"599.132\" r=\"14.4\" fill=\"#009af9\" fill-rule=\"evenodd\" fill-opacity=\"1\" stroke=\"#000000\" stroke-opacity=\"1\" stroke-width=\"3.2\"/>\n",
       "<circle clip-path=\"url(#clip902)\" cx=\"334.049\" cy=\"726.399\" r=\"14.4\" fill=\"#009af9\" fill-rule=\"evenodd\" fill-opacity=\"1\" stroke=\"#000000\" stroke-opacity=\"1\" stroke-width=\"3.2\"/>\n",
       "<circle clip-path=\"url(#clip902)\" cx=\"343.241\" cy=\"601.298\" r=\"14.4\" fill=\"#009af9\" fill-rule=\"evenodd\" fill-opacity=\"1\" stroke=\"#000000\" stroke-opacity=\"1\" stroke-width=\"3.2\"/>\n",
       "<circle clip-path=\"url(#clip902)\" cx=\"352.434\" cy=\"1024.84\" r=\"14.4\" fill=\"#009af9\" fill-rule=\"evenodd\" fill-opacity=\"1\" stroke=\"#000000\" stroke-opacity=\"1\" stroke-width=\"3.2\"/>\n",
       "<circle clip-path=\"url(#clip902)\" cx=\"361.627\" cy=\"678.316\" r=\"14.4\" fill=\"#009af9\" fill-rule=\"evenodd\" fill-opacity=\"1\" stroke=\"#000000\" stroke-opacity=\"1\" stroke-width=\"3.2\"/>\n",
       "<circle clip-path=\"url(#clip902)\" cx=\"370.819\" cy=\"839.173\" r=\"14.4\" fill=\"#009af9\" fill-rule=\"evenodd\" fill-opacity=\"1\" stroke=\"#000000\" stroke-opacity=\"1\" stroke-width=\"3.2\"/>\n",
       "<circle clip-path=\"url(#clip902)\" cx=\"380.012\" cy=\"540.944\" r=\"14.4\" fill=\"#009af9\" fill-rule=\"evenodd\" fill-opacity=\"1\" stroke=\"#000000\" stroke-opacity=\"1\" stroke-width=\"3.2\"/>\n",
       "<circle clip-path=\"url(#clip902)\" cx=\"389.205\" cy=\"928.318\" r=\"14.4\" fill=\"#009af9\" fill-rule=\"evenodd\" fill-opacity=\"1\" stroke=\"#000000\" stroke-opacity=\"1\" stroke-width=\"3.2\"/>\n",
       "<circle clip-path=\"url(#clip902)\" cx=\"398.397\" cy=\"791.979\" r=\"14.4\" fill=\"#009af9\" fill-rule=\"evenodd\" fill-opacity=\"1\" stroke=\"#000000\" stroke-opacity=\"1\" stroke-width=\"3.2\"/>\n",
       "<circle clip-path=\"url(#clip902)\" cx=\"407.59\" cy=\"882.467\" r=\"14.4\" fill=\"#009af9\" fill-rule=\"evenodd\" fill-opacity=\"1\" stroke=\"#000000\" stroke-opacity=\"1\" stroke-width=\"3.2\"/>\n",
       "<circle clip-path=\"url(#clip902)\" cx=\"416.783\" cy=\"1025.26\" r=\"14.4\" fill=\"#009af9\" fill-rule=\"evenodd\" fill-opacity=\"1\" stroke=\"#000000\" stroke-opacity=\"1\" stroke-width=\"3.2\"/>\n",
       "<circle clip-path=\"url(#clip902)\" cx=\"425.975\" cy=\"794.633\" r=\"14.4\" fill=\"#009af9\" fill-rule=\"evenodd\" fill-opacity=\"1\" stroke=\"#000000\" stroke-opacity=\"1\" stroke-width=\"3.2\"/>\n",
       "<circle clip-path=\"url(#clip902)\" cx=\"435.168\" cy=\"897.552\" r=\"14.4\" fill=\"#009af9\" fill-rule=\"evenodd\" fill-opacity=\"1\" stroke=\"#000000\" stroke-opacity=\"1\" stroke-width=\"3.2\"/>\n",
       "<circle clip-path=\"url(#clip902)\" cx=\"444.361\" cy=\"863.444\" r=\"14.4\" fill=\"#009af9\" fill-rule=\"evenodd\" fill-opacity=\"1\" stroke=\"#000000\" stroke-opacity=\"1\" stroke-width=\"3.2\"/>\n",
       "<circle clip-path=\"url(#clip902)\" cx=\"453.553\" cy=\"1098.2\" r=\"14.4\" fill=\"#009af9\" fill-rule=\"evenodd\" fill-opacity=\"1\" stroke=\"#000000\" stroke-opacity=\"1\" stroke-width=\"3.2\"/>\n",
       "<circle clip-path=\"url(#clip902)\" cx=\"462.746\" cy=\"352.078\" r=\"14.4\" fill=\"#009af9\" fill-rule=\"evenodd\" fill-opacity=\"1\" stroke=\"#000000\" stroke-opacity=\"1\" stroke-width=\"3.2\"/>\n",
       "<circle clip-path=\"url(#clip902)\" cx=\"471.938\" cy=\"909.341\" r=\"14.4\" fill=\"#009af9\" fill-rule=\"evenodd\" fill-opacity=\"1\" stroke=\"#000000\" stroke-opacity=\"1\" stroke-width=\"3.2\"/>\n",
       "<circle clip-path=\"url(#clip902)\" cx=\"481.131\" cy=\"952.088\" r=\"14.4\" fill=\"#009af9\" fill-rule=\"evenodd\" fill-opacity=\"1\" stroke=\"#000000\" stroke-opacity=\"1\" stroke-width=\"3.2\"/>\n",
       "<circle clip-path=\"url(#clip902)\" cx=\"490.324\" cy=\"1145.37\" r=\"14.4\" fill=\"#009af9\" fill-rule=\"evenodd\" fill-opacity=\"1\" stroke=\"#000000\" stroke-opacity=\"1\" stroke-width=\"3.2\"/>\n",
       "<circle clip-path=\"url(#clip902)\" cx=\"499.516\" cy=\"1050.82\" r=\"14.4\" fill=\"#009af9\" fill-rule=\"evenodd\" fill-opacity=\"1\" stroke=\"#000000\" stroke-opacity=\"1\" stroke-width=\"3.2\"/>\n",
       "<circle clip-path=\"url(#clip902)\" cx=\"508.709\" cy=\"656.403\" r=\"14.4\" fill=\"#009af9\" fill-rule=\"evenodd\" fill-opacity=\"1\" stroke=\"#000000\" stroke-opacity=\"1\" stroke-width=\"3.2\"/>\n",
       "<circle clip-path=\"url(#clip902)\" cx=\"517.902\" cy=\"752.267\" r=\"14.4\" fill=\"#009af9\" fill-rule=\"evenodd\" fill-opacity=\"1\" stroke=\"#000000\" stroke-opacity=\"1\" stroke-width=\"3.2\"/>\n",
       "<circle clip-path=\"url(#clip902)\" cx=\"527.094\" cy=\"1180.92\" r=\"14.4\" fill=\"#009af9\" fill-rule=\"evenodd\" fill-opacity=\"1\" stroke=\"#000000\" stroke-opacity=\"1\" stroke-width=\"3.2\"/>\n",
       "<circle clip-path=\"url(#clip902)\" cx=\"536.287\" cy=\"1075.62\" r=\"14.4\" fill=\"#009af9\" fill-rule=\"evenodd\" fill-opacity=\"1\" stroke=\"#000000\" stroke-opacity=\"1\" stroke-width=\"3.2\"/>\n",
       "<circle clip-path=\"url(#clip902)\" cx=\"545.48\" cy=\"927.192\" r=\"14.4\" fill=\"#009af9\" fill-rule=\"evenodd\" fill-opacity=\"1\" stroke=\"#000000\" stroke-opacity=\"1\" stroke-width=\"3.2\"/>\n",
       "<circle clip-path=\"url(#clip902)\" cx=\"554.672\" cy=\"1049.85\" r=\"14.4\" fill=\"#009af9\" fill-rule=\"evenodd\" fill-opacity=\"1\" stroke=\"#000000\" stroke-opacity=\"1\" stroke-width=\"3.2\"/>\n",
       "<circle clip-path=\"url(#clip902)\" cx=\"563.865\" cy=\"888.536\" r=\"14.4\" fill=\"#009af9\" fill-rule=\"evenodd\" fill-opacity=\"1\" stroke=\"#000000\" stroke-opacity=\"1\" stroke-width=\"3.2\"/>\n",
       "<circle clip-path=\"url(#clip902)\" cx=\"573.058\" cy=\"1144.78\" r=\"14.4\" fill=\"#009af9\" fill-rule=\"evenodd\" fill-opacity=\"1\" stroke=\"#000000\" stroke-opacity=\"1\" stroke-width=\"3.2\"/>\n",
       "<circle clip-path=\"url(#clip902)\" cx=\"582.25\" cy=\"1164.38\" r=\"14.4\" fill=\"#009af9\" fill-rule=\"evenodd\" fill-opacity=\"1\" stroke=\"#000000\" stroke-opacity=\"1\" stroke-width=\"3.2\"/>\n",
       "<circle clip-path=\"url(#clip902)\" cx=\"591.443\" cy=\"725.979\" r=\"14.4\" fill=\"#009af9\" fill-rule=\"evenodd\" fill-opacity=\"1\" stroke=\"#000000\" stroke-opacity=\"1\" stroke-width=\"3.2\"/>\n",
       "<circle clip-path=\"url(#clip902)\" cx=\"600.636\" cy=\"819.633\" r=\"14.4\" fill=\"#009af9\" fill-rule=\"evenodd\" fill-opacity=\"1\" stroke=\"#000000\" stroke-opacity=\"1\" stroke-width=\"3.2\"/>\n",
       "<circle clip-path=\"url(#clip902)\" cx=\"609.828\" cy=\"1165\" r=\"14.4\" fill=\"#009af9\" fill-rule=\"evenodd\" fill-opacity=\"1\" stroke=\"#000000\" stroke-opacity=\"1\" stroke-width=\"3.2\"/>\n",
       "<circle clip-path=\"url(#clip902)\" cx=\"619.021\" cy=\"886.028\" r=\"14.4\" fill=\"#009af9\" fill-rule=\"evenodd\" fill-opacity=\"1\" stroke=\"#000000\" stroke-opacity=\"1\" stroke-width=\"3.2\"/>\n",
       "<circle clip-path=\"url(#clip902)\" cx=\"628.214\" cy=\"788.533\" r=\"14.4\" fill=\"#009af9\" fill-rule=\"evenodd\" fill-opacity=\"1\" stroke=\"#000000\" stroke-opacity=\"1\" stroke-width=\"3.2\"/>\n",
       "<circle clip-path=\"url(#clip902)\" cx=\"637.406\" cy=\"810.842\" r=\"14.4\" fill=\"#009af9\" fill-rule=\"evenodd\" fill-opacity=\"1\" stroke=\"#000000\" stroke-opacity=\"1\" stroke-width=\"3.2\"/>\n",
       "<circle clip-path=\"url(#clip902)\" cx=\"646.599\" cy=\"866.776\" r=\"14.4\" fill=\"#009af9\" fill-rule=\"evenodd\" fill-opacity=\"1\" stroke=\"#000000\" stroke-opacity=\"1\" stroke-width=\"3.2\"/>\n",
       "<circle clip-path=\"url(#clip902)\" cx=\"655.792\" cy=\"867.914\" r=\"14.4\" fill=\"#009af9\" fill-rule=\"evenodd\" fill-opacity=\"1\" stroke=\"#000000\" stroke-opacity=\"1\" stroke-width=\"3.2\"/>\n",
       "<circle clip-path=\"url(#clip902)\" cx=\"664.984\" cy=\"1091.82\" r=\"14.4\" fill=\"#009af9\" fill-rule=\"evenodd\" fill-opacity=\"1\" stroke=\"#000000\" stroke-opacity=\"1\" stroke-width=\"3.2\"/>\n",
       "<circle clip-path=\"url(#clip902)\" cx=\"674.177\" cy=\"1196.43\" r=\"14.4\" fill=\"#009af9\" fill-rule=\"evenodd\" fill-opacity=\"1\" stroke=\"#000000\" stroke-opacity=\"1\" stroke-width=\"3.2\"/>\n",
       "<circle clip-path=\"url(#clip902)\" cx=\"683.37\" cy=\"1055.51\" r=\"14.4\" fill=\"#009af9\" fill-rule=\"evenodd\" fill-opacity=\"1\" stroke=\"#000000\" stroke-opacity=\"1\" stroke-width=\"3.2\"/>\n",
       "<circle clip-path=\"url(#clip902)\" cx=\"692.562\" cy=\"991.503\" r=\"14.4\" fill=\"#009af9\" fill-rule=\"evenodd\" fill-opacity=\"1\" stroke=\"#000000\" stroke-opacity=\"1\" stroke-width=\"3.2\"/>\n",
       "<circle clip-path=\"url(#clip902)\" cx=\"701.755\" cy=\"924.07\" r=\"14.4\" fill=\"#009af9\" fill-rule=\"evenodd\" fill-opacity=\"1\" stroke=\"#000000\" stroke-opacity=\"1\" stroke-width=\"3.2\"/>\n",
       "<circle clip-path=\"url(#clip902)\" cx=\"710.948\" cy=\"1157.9\" r=\"14.4\" fill=\"#009af9\" fill-rule=\"evenodd\" fill-opacity=\"1\" stroke=\"#000000\" stroke-opacity=\"1\" stroke-width=\"3.2\"/>\n",
       "<circle clip-path=\"url(#clip902)\" cx=\"720.14\" cy=\"1064.44\" r=\"14.4\" fill=\"#009af9\" fill-rule=\"evenodd\" fill-opacity=\"1\" stroke=\"#000000\" stroke-opacity=\"1\" stroke-width=\"3.2\"/>\n",
       "<circle clip-path=\"url(#clip902)\" cx=\"729.333\" cy=\"1106.94\" r=\"14.4\" fill=\"#009af9\" fill-rule=\"evenodd\" fill-opacity=\"1\" stroke=\"#000000\" stroke-opacity=\"1\" stroke-width=\"3.2\"/>\n",
       "<circle clip-path=\"url(#clip902)\" cx=\"738.525\" cy=\"882.598\" r=\"14.4\" fill=\"#009af9\" fill-rule=\"evenodd\" fill-opacity=\"1\" stroke=\"#000000\" stroke-opacity=\"1\" stroke-width=\"3.2\"/>\n",
       "<circle clip-path=\"url(#clip902)\" cx=\"747.718\" cy=\"963.539\" r=\"14.4\" fill=\"#009af9\" fill-rule=\"evenodd\" fill-opacity=\"1\" stroke=\"#000000\" stroke-opacity=\"1\" stroke-width=\"3.2\"/>\n",
       "<circle clip-path=\"url(#clip902)\" cx=\"756.911\" cy=\"1265.77\" r=\"14.4\" fill=\"#009af9\" fill-rule=\"evenodd\" fill-opacity=\"1\" stroke=\"#000000\" stroke-opacity=\"1\" stroke-width=\"3.2\"/>\n",
       "<circle clip-path=\"url(#clip902)\" cx=\"766.103\" cy=\"1002.58\" r=\"14.4\" fill=\"#009af9\" fill-rule=\"evenodd\" fill-opacity=\"1\" stroke=\"#000000\" stroke-opacity=\"1\" stroke-width=\"3.2\"/>\n",
       "<circle clip-path=\"url(#clip902)\" cx=\"775.296\" cy=\"956.377\" r=\"14.4\" fill=\"#009af9\" fill-rule=\"evenodd\" fill-opacity=\"1\" stroke=\"#000000\" stroke-opacity=\"1\" stroke-width=\"3.2\"/>\n",
       "<circle clip-path=\"url(#clip902)\" cx=\"784.489\" cy=\"641.301\" r=\"14.4\" fill=\"#009af9\" fill-rule=\"evenodd\" fill-opacity=\"1\" stroke=\"#000000\" stroke-opacity=\"1\" stroke-width=\"3.2\"/>\n",
       "<circle clip-path=\"url(#clip902)\" cx=\"793.681\" cy=\"1141.62\" r=\"14.4\" fill=\"#009af9\" fill-rule=\"evenodd\" fill-opacity=\"1\" stroke=\"#000000\" stroke-opacity=\"1\" stroke-width=\"3.2\"/>\n",
       "<circle clip-path=\"url(#clip902)\" cx=\"802.874\" cy=\"754.259\" r=\"14.4\" fill=\"#009af9\" fill-rule=\"evenodd\" fill-opacity=\"1\" stroke=\"#000000\" stroke-opacity=\"1\" stroke-width=\"3.2\"/>\n",
       "<circle clip-path=\"url(#clip902)\" cx=\"812.067\" cy=\"1196.2\" r=\"14.4\" fill=\"#009af9\" fill-rule=\"evenodd\" fill-opacity=\"1\" stroke=\"#000000\" stroke-opacity=\"1\" stroke-width=\"3.2\"/>\n",
       "<circle clip-path=\"url(#clip902)\" cx=\"821.259\" cy=\"907.322\" r=\"14.4\" fill=\"#009af9\" fill-rule=\"evenodd\" fill-opacity=\"1\" stroke=\"#000000\" stroke-opacity=\"1\" stroke-width=\"3.2\"/>\n",
       "<circle clip-path=\"url(#clip902)\" cx=\"830.452\" cy=\"878.4\" r=\"14.4\" fill=\"#009af9\" fill-rule=\"evenodd\" fill-opacity=\"1\" stroke=\"#000000\" stroke-opacity=\"1\" stroke-width=\"3.2\"/>\n",
       "<circle clip-path=\"url(#clip902)\" cx=\"839.645\" cy=\"1043.47\" r=\"14.4\" fill=\"#009af9\" fill-rule=\"evenodd\" fill-opacity=\"1\" stroke=\"#000000\" stroke-opacity=\"1\" stroke-width=\"3.2\"/>\n",
       "<circle clip-path=\"url(#clip902)\" cx=\"848.837\" cy=\"801.319\" r=\"14.4\" fill=\"#009af9\" fill-rule=\"evenodd\" fill-opacity=\"1\" stroke=\"#000000\" stroke-opacity=\"1\" stroke-width=\"3.2\"/>\n",
       "<circle clip-path=\"url(#clip902)\" cx=\"858.03\" cy=\"1217.99\" r=\"14.4\" fill=\"#009af9\" fill-rule=\"evenodd\" fill-opacity=\"1\" stroke=\"#000000\" stroke-opacity=\"1\" stroke-width=\"3.2\"/>\n",
       "<circle clip-path=\"url(#clip902)\" cx=\"867.223\" cy=\"701.31\" r=\"14.4\" fill=\"#009af9\" fill-rule=\"evenodd\" fill-opacity=\"1\" stroke=\"#000000\" stroke-opacity=\"1\" stroke-width=\"3.2\"/>\n",
       "<circle clip-path=\"url(#clip902)\" cx=\"876.415\" cy=\"1022.22\" r=\"14.4\" fill=\"#009af9\" fill-rule=\"evenodd\" fill-opacity=\"1\" stroke=\"#000000\" stroke-opacity=\"1\" stroke-width=\"3.2\"/>\n",
       "<circle clip-path=\"url(#clip902)\" cx=\"885.608\" cy=\"1096.5\" r=\"14.4\" fill=\"#009af9\" fill-rule=\"evenodd\" fill-opacity=\"1\" stroke=\"#000000\" stroke-opacity=\"1\" stroke-width=\"3.2\"/>\n",
       "<circle clip-path=\"url(#clip902)\" cx=\"894.801\" cy=\"1258.95\" r=\"14.4\" fill=\"#009af9\" fill-rule=\"evenodd\" fill-opacity=\"1\" stroke=\"#000000\" stroke-opacity=\"1\" stroke-width=\"3.2\"/>\n",
       "<circle clip-path=\"url(#clip902)\" cx=\"903.993\" cy=\"1445.72\" r=\"14.4\" fill=\"#009af9\" fill-rule=\"evenodd\" fill-opacity=\"1\" stroke=\"#000000\" stroke-opacity=\"1\" stroke-width=\"3.2\"/>\n",
       "<circle clip-path=\"url(#clip902)\" cx=\"913.186\" cy=\"1423.87\" r=\"14.4\" fill=\"#009af9\" fill-rule=\"evenodd\" fill-opacity=\"1\" stroke=\"#000000\" stroke-opacity=\"1\" stroke-width=\"3.2\"/>\n",
       "<circle clip-path=\"url(#clip902)\" cx=\"922.379\" cy=\"792.245\" r=\"14.4\" fill=\"#009af9\" fill-rule=\"evenodd\" fill-opacity=\"1\" stroke=\"#000000\" stroke-opacity=\"1\" stroke-width=\"3.2\"/>\n",
       "<circle clip-path=\"url(#clip902)\" cx=\"931.571\" cy=\"1148.37\" r=\"14.4\" fill=\"#009af9\" fill-rule=\"evenodd\" fill-opacity=\"1\" stroke=\"#000000\" stroke-opacity=\"1\" stroke-width=\"3.2\"/>\n",
       "<circle clip-path=\"url(#clip902)\" cx=\"940.764\" cy=\"818.565\" r=\"14.4\" fill=\"#009af9\" fill-rule=\"evenodd\" fill-opacity=\"1\" stroke=\"#000000\" stroke-opacity=\"1\" stroke-width=\"3.2\"/>\n",
       "<circle clip-path=\"url(#clip902)\" cx=\"949.957\" cy=\"1199.38\" r=\"14.4\" fill=\"#009af9\" fill-rule=\"evenodd\" fill-opacity=\"1\" stroke=\"#000000\" stroke-opacity=\"1\" stroke-width=\"3.2\"/>\n",
       "<circle clip-path=\"url(#clip902)\" cx=\"959.149\" cy=\"743.459\" r=\"14.4\" fill=\"#009af9\" fill-rule=\"evenodd\" fill-opacity=\"1\" stroke=\"#000000\" stroke-opacity=\"1\" stroke-width=\"3.2\"/>\n",
       "<circle clip-path=\"url(#clip902)\" cx=\"968.342\" cy=\"1071.69\" r=\"14.4\" fill=\"#009af9\" fill-rule=\"evenodd\" fill-opacity=\"1\" stroke=\"#000000\" stroke-opacity=\"1\" stroke-width=\"3.2\"/>\n",
       "<circle clip-path=\"url(#clip902)\" cx=\"977.535\" cy=\"1203.01\" r=\"14.4\" fill=\"#009af9\" fill-rule=\"evenodd\" fill-opacity=\"1\" stroke=\"#000000\" stroke-opacity=\"1\" stroke-width=\"3.2\"/>\n",
       "<circle clip-path=\"url(#clip902)\" cx=\"986.727\" cy=\"994.813\" r=\"14.4\" fill=\"#009af9\" fill-rule=\"evenodd\" fill-opacity=\"1\" stroke=\"#000000\" stroke-opacity=\"1\" stroke-width=\"3.2\"/>\n",
       "<circle clip-path=\"url(#clip902)\" cx=\"995.92\" cy=\"1268.78\" r=\"14.4\" fill=\"#009af9\" fill-rule=\"evenodd\" fill-opacity=\"1\" stroke=\"#000000\" stroke-opacity=\"1\" stroke-width=\"3.2\"/>\n",
       "<circle clip-path=\"url(#clip902)\" cx=\"1005.11\" cy=\"1170.86\" r=\"14.4\" fill=\"#009af9\" fill-rule=\"evenodd\" fill-opacity=\"1\" stroke=\"#000000\" stroke-opacity=\"1\" stroke-width=\"3.2\"/>\n",
       "<circle clip-path=\"url(#clip902)\" cx=\"1014.31\" cy=\"1012.3\" r=\"14.4\" fill=\"#009af9\" fill-rule=\"evenodd\" fill-opacity=\"1\" stroke=\"#000000\" stroke-opacity=\"1\" stroke-width=\"3.2\"/>\n",
       "<circle clip-path=\"url(#clip902)\" cx=\"1023.5\" cy=\"1164.9\" r=\"14.4\" fill=\"#009af9\" fill-rule=\"evenodd\" fill-opacity=\"1\" stroke=\"#000000\" stroke-opacity=\"1\" stroke-width=\"3.2\"/>\n",
       "<circle clip-path=\"url(#clip902)\" cx=\"1032.69\" cy=\"1005.64\" r=\"14.4\" fill=\"#009af9\" fill-rule=\"evenodd\" fill-opacity=\"1\" stroke=\"#000000\" stroke-opacity=\"1\" stroke-width=\"3.2\"/>\n",
       "<circle clip-path=\"url(#clip902)\" cx=\"1041.88\" cy=\"855.504\" r=\"14.4\" fill=\"#009af9\" fill-rule=\"evenodd\" fill-opacity=\"1\" stroke=\"#000000\" stroke-opacity=\"1\" stroke-width=\"3.2\"/>\n",
       "<circle clip-path=\"url(#clip902)\" cx=\"1051.08\" cy=\"783.726\" r=\"14.4\" fill=\"#009af9\" fill-rule=\"evenodd\" fill-opacity=\"1\" stroke=\"#000000\" stroke-opacity=\"1\" stroke-width=\"3.2\"/>\n",
       "<circle clip-path=\"url(#clip902)\" cx=\"1060.27\" cy=\"1147.93\" r=\"14.4\" fill=\"#009af9\" fill-rule=\"evenodd\" fill-opacity=\"1\" stroke=\"#000000\" stroke-opacity=\"1\" stroke-width=\"3.2\"/>\n",
       "<circle clip-path=\"url(#clip902)\" cx=\"1069.46\" cy=\"682.139\" r=\"14.4\" fill=\"#009af9\" fill-rule=\"evenodd\" fill-opacity=\"1\" stroke=\"#000000\" stroke-opacity=\"1\" stroke-width=\"3.2\"/>\n",
       "<circle clip-path=\"url(#clip902)\" cx=\"1078.65\" cy=\"1077.19\" r=\"14.4\" fill=\"#009af9\" fill-rule=\"evenodd\" fill-opacity=\"1\" stroke=\"#000000\" stroke-opacity=\"1\" stroke-width=\"3.2\"/>\n",
       "<circle clip-path=\"url(#clip902)\" cx=\"1087.85\" cy=\"1077.29\" r=\"14.4\" fill=\"#009af9\" fill-rule=\"evenodd\" fill-opacity=\"1\" stroke=\"#000000\" stroke-opacity=\"1\" stroke-width=\"3.2\"/>\n",
       "<circle clip-path=\"url(#clip902)\" cx=\"1097.04\" cy=\"1252.23\" r=\"14.4\" fill=\"#009af9\" fill-rule=\"evenodd\" fill-opacity=\"1\" stroke=\"#000000\" stroke-opacity=\"1\" stroke-width=\"3.2\"/>\n",
       "<circle clip-path=\"url(#clip902)\" cx=\"1106.23\" cy=\"1201.51\" r=\"14.4\" fill=\"#009af9\" fill-rule=\"evenodd\" fill-opacity=\"1\" stroke=\"#000000\" stroke-opacity=\"1\" stroke-width=\"3.2\"/>\n",
       "<circle clip-path=\"url(#clip902)\" cx=\"1115.42\" cy=\"1224.56\" r=\"14.4\" fill=\"#009af9\" fill-rule=\"evenodd\" fill-opacity=\"1\" stroke=\"#000000\" stroke-opacity=\"1\" stroke-width=\"3.2\"/>\n",
       "<circle clip-path=\"url(#clip902)\" cx=\"1124.62\" cy=\"979.861\" r=\"14.4\" fill=\"#009af9\" fill-rule=\"evenodd\" fill-opacity=\"1\" stroke=\"#000000\" stroke-opacity=\"1\" stroke-width=\"3.2\"/>\n",
       "<circle clip-path=\"url(#clip902)\" cx=\"1133.81\" cy=\"1168.45\" r=\"14.4\" fill=\"#009af9\" fill-rule=\"evenodd\" fill-opacity=\"1\" stroke=\"#000000\" stroke-opacity=\"1\" stroke-width=\"3.2\"/>\n",
       "<circle clip-path=\"url(#clip902)\" cx=\"1143\" cy=\"1372.19\" r=\"14.4\" fill=\"#009af9\" fill-rule=\"evenodd\" fill-opacity=\"1\" stroke=\"#000000\" stroke-opacity=\"1\" stroke-width=\"3.2\"/>\n",
       "<circle clip-path=\"url(#clip902)\" cx=\"1152.2\" cy=\"1186.8\" r=\"14.4\" fill=\"#009af9\" fill-rule=\"evenodd\" fill-opacity=\"1\" stroke=\"#000000\" stroke-opacity=\"1\" stroke-width=\"3.2\"/>\n",
       "<circle clip-path=\"url(#clip902)\" cx=\"1161.39\" cy=\"1027.89\" r=\"14.4\" fill=\"#009af9\" fill-rule=\"evenodd\" fill-opacity=\"1\" stroke=\"#000000\" stroke-opacity=\"1\" stroke-width=\"3.2\"/>\n",
       "<circle clip-path=\"url(#clip902)\" cx=\"1170.58\" cy=\"997.973\" r=\"14.4\" fill=\"#009af9\" fill-rule=\"evenodd\" fill-opacity=\"1\" stroke=\"#000000\" stroke-opacity=\"1\" stroke-width=\"3.2\"/>\n",
       "<circle clip-path=\"url(#clip902)\" cx=\"1179.77\" cy=\"1214.84\" r=\"14.4\" fill=\"#009af9\" fill-rule=\"evenodd\" fill-opacity=\"1\" stroke=\"#000000\" stroke-opacity=\"1\" stroke-width=\"3.2\"/>\n",
       "<circle clip-path=\"url(#clip902)\" cx=\"1188.97\" cy=\"1187.79\" r=\"14.4\" fill=\"#009af9\" fill-rule=\"evenodd\" fill-opacity=\"1\" stroke=\"#000000\" stroke-opacity=\"1\" stroke-width=\"3.2\"/>\n",
       "<circle clip-path=\"url(#clip902)\" cx=\"1198.16\" cy=\"972.224\" r=\"14.4\" fill=\"#009af9\" fill-rule=\"evenodd\" fill-opacity=\"1\" stroke=\"#000000\" stroke-opacity=\"1\" stroke-width=\"3.2\"/>\n",
       "<circle clip-path=\"url(#clip902)\" cx=\"1207.35\" cy=\"1347.18\" r=\"14.4\" fill=\"#009af9\" fill-rule=\"evenodd\" fill-opacity=\"1\" stroke=\"#000000\" stroke-opacity=\"1\" stroke-width=\"3.2\"/>\n",
       "<circle clip-path=\"url(#clip902)\" cx=\"1216.54\" cy=\"753.98\" r=\"14.4\" fill=\"#009af9\" fill-rule=\"evenodd\" fill-opacity=\"1\" stroke=\"#000000\" stroke-opacity=\"1\" stroke-width=\"3.2\"/>\n",
       "<circle clip-path=\"url(#clip902)\" cx=\"1225.74\" cy=\"699.698\" r=\"14.4\" fill=\"#009af9\" fill-rule=\"evenodd\" fill-opacity=\"1\" stroke=\"#000000\" stroke-opacity=\"1\" stroke-width=\"3.2\"/>\n",
       "<circle clip-path=\"url(#clip902)\" cx=\"1234.93\" cy=\"1075.86\" r=\"14.4\" fill=\"#009af9\" fill-rule=\"evenodd\" fill-opacity=\"1\" stroke=\"#000000\" stroke-opacity=\"1\" stroke-width=\"3.2\"/>\n",
       "<circle clip-path=\"url(#clip902)\" cx=\"1244.12\" cy=\"1081.59\" r=\"14.4\" fill=\"#009af9\" fill-rule=\"evenodd\" fill-opacity=\"1\" stroke=\"#000000\" stroke-opacity=\"1\" stroke-width=\"3.2\"/>\n",
       "<circle clip-path=\"url(#clip902)\" cx=\"1253.31\" cy=\"861.143\" r=\"14.4\" fill=\"#009af9\" fill-rule=\"evenodd\" fill-opacity=\"1\" stroke=\"#000000\" stroke-opacity=\"1\" stroke-width=\"3.2\"/>\n",
       "<circle clip-path=\"url(#clip902)\" cx=\"1262.51\" cy=\"1132.39\" r=\"14.4\" fill=\"#009af9\" fill-rule=\"evenodd\" fill-opacity=\"1\" stroke=\"#000000\" stroke-opacity=\"1\" stroke-width=\"3.2\"/>\n",
       "<circle clip-path=\"url(#clip902)\" cx=\"1271.7\" cy=\"634.164\" r=\"14.4\" fill=\"#009af9\" fill-rule=\"evenodd\" fill-opacity=\"1\" stroke=\"#000000\" stroke-opacity=\"1\" stroke-width=\"3.2\"/>\n",
       "<circle clip-path=\"url(#clip902)\" cx=\"1280.89\" cy=\"789.197\" r=\"14.4\" fill=\"#009af9\" fill-rule=\"evenodd\" fill-opacity=\"1\" stroke=\"#000000\" stroke-opacity=\"1\" stroke-width=\"3.2\"/>\n",
       "<circle clip-path=\"url(#clip902)\" cx=\"1290.08\" cy=\"739.001\" r=\"14.4\" fill=\"#009af9\" fill-rule=\"evenodd\" fill-opacity=\"1\" stroke=\"#000000\" stroke-opacity=\"1\" stroke-width=\"3.2\"/>\n",
       "<circle clip-path=\"url(#clip902)\" cx=\"1299.28\" cy=\"1249.61\" r=\"14.4\" fill=\"#009af9\" fill-rule=\"evenodd\" fill-opacity=\"1\" stroke=\"#000000\" stroke-opacity=\"1\" stroke-width=\"3.2\"/>\n",
       "<circle clip-path=\"url(#clip902)\" cx=\"1308.47\" cy=\"1192.09\" r=\"14.4\" fill=\"#009af9\" fill-rule=\"evenodd\" fill-opacity=\"1\" stroke=\"#000000\" stroke-opacity=\"1\" stroke-width=\"3.2\"/>\n",
       "<circle clip-path=\"url(#clip902)\" cx=\"1317.66\" cy=\"1136.2\" r=\"14.4\" fill=\"#009af9\" fill-rule=\"evenodd\" fill-opacity=\"1\" stroke=\"#000000\" stroke-opacity=\"1\" stroke-width=\"3.2\"/>\n",
       "<circle clip-path=\"url(#clip902)\" cx=\"1326.86\" cy=\"725.833\" r=\"14.4\" fill=\"#009af9\" fill-rule=\"evenodd\" fill-opacity=\"1\" stroke=\"#000000\" stroke-opacity=\"1\" stroke-width=\"3.2\"/>\n",
       "<circle clip-path=\"url(#clip902)\" cx=\"1336.05\" cy=\"834.034\" r=\"14.4\" fill=\"#009af9\" fill-rule=\"evenodd\" fill-opacity=\"1\" stroke=\"#000000\" stroke-opacity=\"1\" stroke-width=\"3.2\"/>\n",
       "<circle clip-path=\"url(#clip902)\" cx=\"1345.24\" cy=\"1138.73\" r=\"14.4\" fill=\"#009af9\" fill-rule=\"evenodd\" fill-opacity=\"1\" stroke=\"#000000\" stroke-opacity=\"1\" stroke-width=\"3.2\"/>\n",
       "<circle clip-path=\"url(#clip902)\" cx=\"1354.43\" cy=\"914.933\" r=\"14.4\" fill=\"#009af9\" fill-rule=\"evenodd\" fill-opacity=\"1\" stroke=\"#000000\" stroke-opacity=\"1\" stroke-width=\"3.2\"/>\n",
       "<circle clip-path=\"url(#clip902)\" cx=\"1363.63\" cy=\"1071.04\" r=\"14.4\" fill=\"#009af9\" fill-rule=\"evenodd\" fill-opacity=\"1\" stroke=\"#000000\" stroke-opacity=\"1\" stroke-width=\"3.2\"/>\n",
       "<circle clip-path=\"url(#clip902)\" cx=\"1372.82\" cy=\"1229.06\" r=\"14.4\" fill=\"#009af9\" fill-rule=\"evenodd\" fill-opacity=\"1\" stroke=\"#000000\" stroke-opacity=\"1\" stroke-width=\"3.2\"/>\n",
       "<circle clip-path=\"url(#clip902)\" cx=\"1382.01\" cy=\"1258.02\" r=\"14.4\" fill=\"#009af9\" fill-rule=\"evenodd\" fill-opacity=\"1\" stroke=\"#000000\" stroke-opacity=\"1\" stroke-width=\"3.2\"/>\n",
       "<circle clip-path=\"url(#clip902)\" cx=\"1391.2\" cy=\"1438.27\" r=\"14.4\" fill=\"#009af9\" fill-rule=\"evenodd\" fill-opacity=\"1\" stroke=\"#000000\" stroke-opacity=\"1\" stroke-width=\"3.2\"/>\n",
       "<circle clip-path=\"url(#clip902)\" cx=\"1400.4\" cy=\"1077.93\" r=\"14.4\" fill=\"#009af9\" fill-rule=\"evenodd\" fill-opacity=\"1\" stroke=\"#000000\" stroke-opacity=\"1\" stroke-width=\"3.2\"/>\n",
       "<circle clip-path=\"url(#clip902)\" cx=\"1409.59\" cy=\"1041.52\" r=\"14.4\" fill=\"#009af9\" fill-rule=\"evenodd\" fill-opacity=\"1\" stroke=\"#000000\" stroke-opacity=\"1\" stroke-width=\"3.2\"/>\n",
       "<circle clip-path=\"url(#clip902)\" cx=\"1418.78\" cy=\"970.984\" r=\"14.4\" fill=\"#009af9\" fill-rule=\"evenodd\" fill-opacity=\"1\" stroke=\"#000000\" stroke-opacity=\"1\" stroke-width=\"3.2\"/>\n",
       "<circle clip-path=\"url(#clip902)\" cx=\"1427.97\" cy=\"866.762\" r=\"14.4\" fill=\"#009af9\" fill-rule=\"evenodd\" fill-opacity=\"1\" stroke=\"#000000\" stroke-opacity=\"1\" stroke-width=\"3.2\"/>\n",
       "<circle clip-path=\"url(#clip902)\" cx=\"1437.17\" cy=\"1121.67\" r=\"14.4\" fill=\"#009af9\" fill-rule=\"evenodd\" fill-opacity=\"1\" stroke=\"#000000\" stroke-opacity=\"1\" stroke-width=\"3.2\"/>\n",
       "<circle clip-path=\"url(#clip902)\" cx=\"1446.36\" cy=\"1037.81\" r=\"14.4\" fill=\"#009af9\" fill-rule=\"evenodd\" fill-opacity=\"1\" stroke=\"#000000\" stroke-opacity=\"1\" stroke-width=\"3.2\"/>\n",
       "<circle clip-path=\"url(#clip902)\" cx=\"1455.55\" cy=\"990.744\" r=\"14.4\" fill=\"#009af9\" fill-rule=\"evenodd\" fill-opacity=\"1\" stroke=\"#000000\" stroke-opacity=\"1\" stroke-width=\"3.2\"/>\n",
       "<circle clip-path=\"url(#clip902)\" cx=\"1464.75\" cy=\"1353.04\" r=\"14.4\" fill=\"#009af9\" fill-rule=\"evenodd\" fill-opacity=\"1\" stroke=\"#000000\" stroke-opacity=\"1\" stroke-width=\"3.2\"/>\n",
       "<circle clip-path=\"url(#clip902)\" cx=\"1473.94\" cy=\"1037.99\" r=\"14.4\" fill=\"#009af9\" fill-rule=\"evenodd\" fill-opacity=\"1\" stroke=\"#000000\" stroke-opacity=\"1\" stroke-width=\"3.2\"/>\n",
       "<circle clip-path=\"url(#clip902)\" cx=\"1483.13\" cy=\"1075.64\" r=\"14.4\" fill=\"#009af9\" fill-rule=\"evenodd\" fill-opacity=\"1\" stroke=\"#000000\" stroke-opacity=\"1\" stroke-width=\"3.2\"/>\n",
       "<circle clip-path=\"url(#clip902)\" cx=\"1492.32\" cy=\"1125.84\" r=\"14.4\" fill=\"#009af9\" fill-rule=\"evenodd\" fill-opacity=\"1\" stroke=\"#000000\" stroke-opacity=\"1\" stroke-width=\"3.2\"/>\n",
       "<circle clip-path=\"url(#clip902)\" cx=\"1501.52\" cy=\"1136.8\" r=\"14.4\" fill=\"#009af9\" fill-rule=\"evenodd\" fill-opacity=\"1\" stroke=\"#000000\" stroke-opacity=\"1\" stroke-width=\"3.2\"/>\n",
       "<circle clip-path=\"url(#clip902)\" cx=\"1510.71\" cy=\"1205.96\" r=\"14.4\" fill=\"#009af9\" fill-rule=\"evenodd\" fill-opacity=\"1\" stroke=\"#000000\" stroke-opacity=\"1\" stroke-width=\"3.2\"/>\n",
       "<circle clip-path=\"url(#clip902)\" cx=\"1519.9\" cy=\"1183.17\" r=\"14.4\" fill=\"#009af9\" fill-rule=\"evenodd\" fill-opacity=\"1\" stroke=\"#000000\" stroke-opacity=\"1\" stroke-width=\"3.2\"/>\n",
       "<circle clip-path=\"url(#clip902)\" cx=\"1529.09\" cy=\"714.827\" r=\"14.4\" fill=\"#009af9\" fill-rule=\"evenodd\" fill-opacity=\"1\" stroke=\"#000000\" stroke-opacity=\"1\" stroke-width=\"3.2\"/>\n",
       "<circle clip-path=\"url(#clip902)\" cx=\"1538.29\" cy=\"737.047\" r=\"14.4\" fill=\"#009af9\" fill-rule=\"evenodd\" fill-opacity=\"1\" stroke=\"#000000\" stroke-opacity=\"1\" stroke-width=\"3.2\"/>\n",
       "<circle clip-path=\"url(#clip902)\" cx=\"1547.48\" cy=\"996.722\" r=\"14.4\" fill=\"#009af9\" fill-rule=\"evenodd\" fill-opacity=\"1\" stroke=\"#000000\" stroke-opacity=\"1\" stroke-width=\"3.2\"/>\n",
       "<circle clip-path=\"url(#clip902)\" cx=\"1556.67\" cy=\"1056.35\" r=\"14.4\" fill=\"#009af9\" fill-rule=\"evenodd\" fill-opacity=\"1\" stroke=\"#000000\" stroke-opacity=\"1\" stroke-width=\"3.2\"/>\n",
       "<circle clip-path=\"url(#clip902)\" cx=\"1565.86\" cy=\"1026.56\" r=\"14.4\" fill=\"#009af9\" fill-rule=\"evenodd\" fill-opacity=\"1\" stroke=\"#000000\" stroke-opacity=\"1\" stroke-width=\"3.2\"/>\n",
       "<circle clip-path=\"url(#clip902)\" cx=\"1575.06\" cy=\"1352.47\" r=\"14.4\" fill=\"#009af9\" fill-rule=\"evenodd\" fill-opacity=\"1\" stroke=\"#000000\" stroke-opacity=\"1\" stroke-width=\"3.2\"/>\n",
       "<circle clip-path=\"url(#clip902)\" cx=\"1584.25\" cy=\"902.989\" r=\"14.4\" fill=\"#009af9\" fill-rule=\"evenodd\" fill-opacity=\"1\" stroke=\"#000000\" stroke-opacity=\"1\" stroke-width=\"3.2\"/>\n",
       "<circle clip-path=\"url(#clip902)\" cx=\"1593.44\" cy=\"973.229\" r=\"14.4\" fill=\"#009af9\" fill-rule=\"evenodd\" fill-opacity=\"1\" stroke=\"#000000\" stroke-opacity=\"1\" stroke-width=\"3.2\"/>\n",
       "<circle clip-path=\"url(#clip902)\" cx=\"1602.64\" cy=\"897.741\" r=\"14.4\" fill=\"#009af9\" fill-rule=\"evenodd\" fill-opacity=\"1\" stroke=\"#000000\" stroke-opacity=\"1\" stroke-width=\"3.2\"/>\n",
       "<circle clip-path=\"url(#clip902)\" cx=\"1611.83\" cy=\"1062.92\" r=\"14.4\" fill=\"#009af9\" fill-rule=\"evenodd\" fill-opacity=\"1\" stroke=\"#000000\" stroke-opacity=\"1\" stroke-width=\"3.2\"/>\n",
       "<circle clip-path=\"url(#clip902)\" cx=\"1621.02\" cy=\"1124.72\" r=\"14.4\" fill=\"#009af9\" fill-rule=\"evenodd\" fill-opacity=\"1\" stroke=\"#000000\" stroke-opacity=\"1\" stroke-width=\"3.2\"/>\n",
       "<circle clip-path=\"url(#clip902)\" cx=\"1630.21\" cy=\"963.772\" r=\"14.4\" fill=\"#009af9\" fill-rule=\"evenodd\" fill-opacity=\"1\" stroke=\"#000000\" stroke-opacity=\"1\" stroke-width=\"3.2\"/>\n",
       "<circle clip-path=\"url(#clip902)\" cx=\"1639.41\" cy=\"1037.75\" r=\"14.4\" fill=\"#009af9\" fill-rule=\"evenodd\" fill-opacity=\"1\" stroke=\"#000000\" stroke-opacity=\"1\" stroke-width=\"3.2\"/>\n",
       "<circle clip-path=\"url(#clip902)\" cx=\"1648.6\" cy=\"914.594\" r=\"14.4\" fill=\"#009af9\" fill-rule=\"evenodd\" fill-opacity=\"1\" stroke=\"#000000\" stroke-opacity=\"1\" stroke-width=\"3.2\"/>\n",
       "<circle clip-path=\"url(#clip902)\" cx=\"1657.79\" cy=\"1127.42\" r=\"14.4\" fill=\"#009af9\" fill-rule=\"evenodd\" fill-opacity=\"1\" stroke=\"#000000\" stroke-opacity=\"1\" stroke-width=\"3.2\"/>\n",
       "<circle clip-path=\"url(#clip902)\" cx=\"1666.98\" cy=\"1229.52\" r=\"14.4\" fill=\"#009af9\" fill-rule=\"evenodd\" fill-opacity=\"1\" stroke=\"#000000\" stroke-opacity=\"1\" stroke-width=\"3.2\"/>\n",
       "<circle clip-path=\"url(#clip902)\" cx=\"1676.18\" cy=\"675.376\" r=\"14.4\" fill=\"#009af9\" fill-rule=\"evenodd\" fill-opacity=\"1\" stroke=\"#000000\" stroke-opacity=\"1\" stroke-width=\"3.2\"/>\n",
       "<circle clip-path=\"url(#clip902)\" cx=\"1685.37\" cy=\"685.352\" r=\"14.4\" fill=\"#009af9\" fill-rule=\"evenodd\" fill-opacity=\"1\" stroke=\"#000000\" stroke-opacity=\"1\" stroke-width=\"3.2\"/>\n",
       "<circle clip-path=\"url(#clip902)\" cx=\"1694.56\" cy=\"979.626\" r=\"14.4\" fill=\"#009af9\" fill-rule=\"evenodd\" fill-opacity=\"1\" stroke=\"#000000\" stroke-opacity=\"1\" stroke-width=\"3.2\"/>\n",
       "<circle clip-path=\"url(#clip902)\" cx=\"1703.75\" cy=\"761.22\" r=\"14.4\" fill=\"#009af9\" fill-rule=\"evenodd\" fill-opacity=\"1\" stroke=\"#000000\" stroke-opacity=\"1\" stroke-width=\"3.2\"/>\n",
       "<circle clip-path=\"url(#clip902)\" cx=\"1712.95\" cy=\"765.047\" r=\"14.4\" fill=\"#009af9\" fill-rule=\"evenodd\" fill-opacity=\"1\" stroke=\"#000000\" stroke-opacity=\"1\" stroke-width=\"3.2\"/>\n",
       "<circle clip-path=\"url(#clip902)\" cx=\"1722.14\" cy=\"877.575\" r=\"14.4\" fill=\"#009af9\" fill-rule=\"evenodd\" fill-opacity=\"1\" stroke=\"#000000\" stroke-opacity=\"1\" stroke-width=\"3.2\"/>\n",
       "<circle clip-path=\"url(#clip902)\" cx=\"1731.33\" cy=\"660.398\" r=\"14.4\" fill=\"#009af9\" fill-rule=\"evenodd\" fill-opacity=\"1\" stroke=\"#000000\" stroke-opacity=\"1\" stroke-width=\"3.2\"/>\n",
       "<circle clip-path=\"url(#clip902)\" cx=\"1740.53\" cy=\"909.237\" r=\"14.4\" fill=\"#009af9\" fill-rule=\"evenodd\" fill-opacity=\"1\" stroke=\"#000000\" stroke-opacity=\"1\" stroke-width=\"3.2\"/>\n",
       "<circle clip-path=\"url(#clip902)\" cx=\"1749.72\" cy=\"1022.49\" r=\"14.4\" fill=\"#009af9\" fill-rule=\"evenodd\" fill-opacity=\"1\" stroke=\"#000000\" stroke-opacity=\"1\" stroke-width=\"3.2\"/>\n",
       "<circle clip-path=\"url(#clip902)\" cx=\"1758.91\" cy=\"1242.63\" r=\"14.4\" fill=\"#009af9\" fill-rule=\"evenodd\" fill-opacity=\"1\" stroke=\"#000000\" stroke-opacity=\"1\" stroke-width=\"3.2\"/>\n",
       "<circle clip-path=\"url(#clip902)\" cx=\"1768.1\" cy=\"1179.23\" r=\"14.4\" fill=\"#009af9\" fill-rule=\"evenodd\" fill-opacity=\"1\" stroke=\"#000000\" stroke-opacity=\"1\" stroke-width=\"3.2\"/>\n",
       "<circle clip-path=\"url(#clip902)\" cx=\"1777.3\" cy=\"931.09\" r=\"14.4\" fill=\"#009af9\" fill-rule=\"evenodd\" fill-opacity=\"1\" stroke=\"#000000\" stroke-opacity=\"1\" stroke-width=\"3.2\"/>\n",
       "<circle clip-path=\"url(#clip902)\" cx=\"1786.49\" cy=\"1027.01\" r=\"14.4\" fill=\"#009af9\" fill-rule=\"evenodd\" fill-opacity=\"1\" stroke=\"#000000\" stroke-opacity=\"1\" stroke-width=\"3.2\"/>\n",
       "<circle clip-path=\"url(#clip902)\" cx=\"1795.68\" cy=\"1001.76\" r=\"14.4\" fill=\"#009af9\" fill-rule=\"evenodd\" fill-opacity=\"1\" stroke=\"#000000\" stroke-opacity=\"1\" stroke-width=\"3.2\"/>\n",
       "<circle clip-path=\"url(#clip902)\" cx=\"1804.87\" cy=\"691.338\" r=\"14.4\" fill=\"#009af9\" fill-rule=\"evenodd\" fill-opacity=\"1\" stroke=\"#000000\" stroke-opacity=\"1\" stroke-width=\"3.2\"/>\n",
       "<circle clip-path=\"url(#clip902)\" cx=\"1814.07\" cy=\"867.728\" r=\"14.4\" fill=\"#009af9\" fill-rule=\"evenodd\" fill-opacity=\"1\" stroke=\"#000000\" stroke-opacity=\"1\" stroke-width=\"3.2\"/>\n",
       "<circle clip-path=\"url(#clip902)\" cx=\"1823.26\" cy=\"1064.92\" r=\"14.4\" fill=\"#009af9\" fill-rule=\"evenodd\" fill-opacity=\"1\" stroke=\"#000000\" stroke-opacity=\"1\" stroke-width=\"3.2\"/>\n",
       "<circle clip-path=\"url(#clip902)\" cx=\"1832.45\" cy=\"1039.97\" r=\"14.4\" fill=\"#009af9\" fill-rule=\"evenodd\" fill-opacity=\"1\" stroke=\"#000000\" stroke-opacity=\"1\" stroke-width=\"3.2\"/>\n",
       "<circle clip-path=\"url(#clip902)\" cx=\"1841.64\" cy=\"976.571\" r=\"14.4\" fill=\"#009af9\" fill-rule=\"evenodd\" fill-opacity=\"1\" stroke=\"#000000\" stroke-opacity=\"1\" stroke-width=\"3.2\"/>\n",
       "<circle clip-path=\"url(#clip902)\" cx=\"1850.84\" cy=\"1317.94\" r=\"14.4\" fill=\"#009af9\" fill-rule=\"evenodd\" fill-opacity=\"1\" stroke=\"#000000\" stroke-opacity=\"1\" stroke-width=\"3.2\"/>\n",
       "<circle clip-path=\"url(#clip902)\" cx=\"1860.03\" cy=\"1033.26\" r=\"14.4\" fill=\"#009af9\" fill-rule=\"evenodd\" fill-opacity=\"1\" stroke=\"#000000\" stroke-opacity=\"1\" stroke-width=\"3.2\"/>\n",
       "<circle clip-path=\"url(#clip902)\" cx=\"1869.22\" cy=\"1056.73\" r=\"14.4\" fill=\"#009af9\" fill-rule=\"evenodd\" fill-opacity=\"1\" stroke=\"#000000\" stroke-opacity=\"1\" stroke-width=\"3.2\"/>\n",
       "<circle clip-path=\"url(#clip902)\" cx=\"1878.41\" cy=\"733.781\" r=\"14.4\" fill=\"#009af9\" fill-rule=\"evenodd\" fill-opacity=\"1\" stroke=\"#000000\" stroke-opacity=\"1\" stroke-width=\"3.2\"/>\n",
       "<circle clip-path=\"url(#clip902)\" cx=\"1887.61\" cy=\"621.23\" r=\"14.4\" fill=\"#009af9\" fill-rule=\"evenodd\" fill-opacity=\"1\" stroke=\"#000000\" stroke-opacity=\"1\" stroke-width=\"3.2\"/>\n",
       "<circle clip-path=\"url(#clip902)\" cx=\"1896.8\" cy=\"999.133\" r=\"14.4\" fill=\"#009af9\" fill-rule=\"evenodd\" fill-opacity=\"1\" stroke=\"#000000\" stroke-opacity=\"1\" stroke-width=\"3.2\"/>\n",
       "<circle clip-path=\"url(#clip902)\" cx=\"1905.99\" cy=\"711.342\" r=\"14.4\" fill=\"#009af9\" fill-rule=\"evenodd\" fill-opacity=\"1\" stroke=\"#000000\" stroke-opacity=\"1\" stroke-width=\"3.2\"/>\n",
       "<circle clip-path=\"url(#clip902)\" cx=\"1915.19\" cy=\"395.313\" r=\"14.4\" fill=\"#009af9\" fill-rule=\"evenodd\" fill-opacity=\"1\" stroke=\"#000000\" stroke-opacity=\"1\" stroke-width=\"3.2\"/>\n",
       "<circle clip-path=\"url(#clip902)\" cx=\"1924.38\" cy=\"690.57\" r=\"14.4\" fill=\"#009af9\" fill-rule=\"evenodd\" fill-opacity=\"1\" stroke=\"#000000\" stroke-opacity=\"1\" stroke-width=\"3.2\"/>\n",
       "<circle clip-path=\"url(#clip902)\" cx=\"1933.57\" cy=\"766.949\" r=\"14.4\" fill=\"#009af9\" fill-rule=\"evenodd\" fill-opacity=\"1\" stroke=\"#000000\" stroke-opacity=\"1\" stroke-width=\"3.2\"/>\n",
       "<circle clip-path=\"url(#clip902)\" cx=\"1942.76\" cy=\"887.211\" r=\"14.4\" fill=\"#009af9\" fill-rule=\"evenodd\" fill-opacity=\"1\" stroke=\"#000000\" stroke-opacity=\"1\" stroke-width=\"3.2\"/>\n",
       "<circle clip-path=\"url(#clip902)\" cx=\"1951.96\" cy=\"675.391\" r=\"14.4\" fill=\"#009af9\" fill-rule=\"evenodd\" fill-opacity=\"1\" stroke=\"#000000\" stroke-opacity=\"1\" stroke-width=\"3.2\"/>\n",
       "<circle clip-path=\"url(#clip902)\" cx=\"1961.15\" cy=\"960.29\" r=\"14.4\" fill=\"#009af9\" fill-rule=\"evenodd\" fill-opacity=\"1\" stroke=\"#000000\" stroke-opacity=\"1\" stroke-width=\"3.2\"/>\n",
       "<circle clip-path=\"url(#clip902)\" cx=\"1970.34\" cy=\"874.51\" r=\"14.4\" fill=\"#009af9\" fill-rule=\"evenodd\" fill-opacity=\"1\" stroke=\"#000000\" stroke-opacity=\"1\" stroke-width=\"3.2\"/>\n",
       "<circle clip-path=\"url(#clip902)\" cx=\"1979.53\" cy=\"569.401\" r=\"14.4\" fill=\"#009af9\" fill-rule=\"evenodd\" fill-opacity=\"1\" stroke=\"#000000\" stroke-opacity=\"1\" stroke-width=\"3.2\"/>\n",
       "<circle clip-path=\"url(#clip902)\" cx=\"1988.73\" cy=\"706.416\" r=\"14.4\" fill=\"#009af9\" fill-rule=\"evenodd\" fill-opacity=\"1\" stroke=\"#000000\" stroke-opacity=\"1\" stroke-width=\"3.2\"/>\n",
       "<circle clip-path=\"url(#clip902)\" cx=\"1997.92\" cy=\"586.287\" r=\"14.4\" fill=\"#009af9\" fill-rule=\"evenodd\" fill-opacity=\"1\" stroke=\"#000000\" stroke-opacity=\"1\" stroke-width=\"3.2\"/>\n",
       "<circle clip-path=\"url(#clip902)\" cx=\"2007.11\" cy=\"835.705\" r=\"14.4\" fill=\"#009af9\" fill-rule=\"evenodd\" fill-opacity=\"1\" stroke=\"#000000\" stroke-opacity=\"1\" stroke-width=\"3.2\"/>\n",
       "<circle clip-path=\"url(#clip902)\" cx=\"2016.3\" cy=\"992.123\" r=\"14.4\" fill=\"#009af9\" fill-rule=\"evenodd\" fill-opacity=\"1\" stroke=\"#000000\" stroke-opacity=\"1\" stroke-width=\"3.2\"/>\n",
       "<circle clip-path=\"url(#clip902)\" cx=\"2025.5\" cy=\"793.095\" r=\"14.4\" fill=\"#009af9\" fill-rule=\"evenodd\" fill-opacity=\"1\" stroke=\"#000000\" stroke-opacity=\"1\" stroke-width=\"3.2\"/>\n",
       "<circle clip-path=\"url(#clip902)\" cx=\"2034.69\" cy=\"1065.95\" r=\"14.4\" fill=\"#009af9\" fill-rule=\"evenodd\" fill-opacity=\"1\" stroke=\"#000000\" stroke-opacity=\"1\" stroke-width=\"3.2\"/>\n",
       "<circle clip-path=\"url(#clip902)\" cx=\"2043.88\" cy=\"1025.35\" r=\"14.4\" fill=\"#009af9\" fill-rule=\"evenodd\" fill-opacity=\"1\" stroke=\"#000000\" stroke-opacity=\"1\" stroke-width=\"3.2\"/>\n",
       "<circle clip-path=\"url(#clip902)\" cx=\"2053.08\" cy=\"743.128\" r=\"14.4\" fill=\"#009af9\" fill-rule=\"evenodd\" fill-opacity=\"1\" stroke=\"#000000\" stroke-opacity=\"1\" stroke-width=\"3.2\"/>\n",
       "<circle clip-path=\"url(#clip902)\" cx=\"2062.27\" cy=\"491.734\" r=\"14.4\" fill=\"#009af9\" fill-rule=\"evenodd\" fill-opacity=\"1\" stroke=\"#000000\" stroke-opacity=\"1\" stroke-width=\"3.2\"/>\n",
       "<circle clip-path=\"url(#clip902)\" cx=\"2071.46\" cy=\"977.761\" r=\"14.4\" fill=\"#009af9\" fill-rule=\"evenodd\" fill-opacity=\"1\" stroke=\"#000000\" stroke-opacity=\"1\" stroke-width=\"3.2\"/>\n",
       "<circle clip-path=\"url(#clip902)\" cx=\"2080.65\" cy=\"737.652\" r=\"14.4\" fill=\"#009af9\" fill-rule=\"evenodd\" fill-opacity=\"1\" stroke=\"#000000\" stroke-opacity=\"1\" stroke-width=\"3.2\"/>\n",
       "<circle clip-path=\"url(#clip902)\" cx=\"2089.85\" cy=\"210.659\" r=\"14.4\" fill=\"#009af9\" fill-rule=\"evenodd\" fill-opacity=\"1\" stroke=\"#000000\" stroke-opacity=\"1\" stroke-width=\"3.2\"/>\n",
       "<circle clip-path=\"url(#clip902)\" cx=\"2099.04\" cy=\"842.001\" r=\"14.4\" fill=\"#009af9\" fill-rule=\"evenodd\" fill-opacity=\"1\" stroke=\"#000000\" stroke-opacity=\"1\" stroke-width=\"3.2\"/>\n",
       "<circle clip-path=\"url(#clip902)\" cx=\"2108.23\" cy=\"678.982\" r=\"14.4\" fill=\"#009af9\" fill-rule=\"evenodd\" fill-opacity=\"1\" stroke=\"#000000\" stroke-opacity=\"1\" stroke-width=\"3.2\"/>\n",
       "<circle clip-path=\"url(#clip902)\" cx=\"2117.42\" cy=\"990.828\" r=\"14.4\" fill=\"#009af9\" fill-rule=\"evenodd\" fill-opacity=\"1\" stroke=\"#000000\" stroke-opacity=\"1\" stroke-width=\"3.2\"/>\n",
       "<circle clip-path=\"url(#clip902)\" cx=\"2126.62\" cy=\"541.6\" r=\"14.4\" fill=\"#009af9\" fill-rule=\"evenodd\" fill-opacity=\"1\" stroke=\"#000000\" stroke-opacity=\"1\" stroke-width=\"3.2\"/>\n",
       "<circle clip-path=\"url(#clip902)\" cx=\"2135.81\" cy=\"609.121\" r=\"14.4\" fill=\"#009af9\" fill-rule=\"evenodd\" fill-opacity=\"1\" stroke=\"#000000\" stroke-opacity=\"1\" stroke-width=\"3.2\"/>\n",
       "<circle clip-path=\"url(#clip902)\" cx=\"2145\" cy=\"207.167\" r=\"14.4\" fill=\"#009af9\" fill-rule=\"evenodd\" fill-opacity=\"1\" stroke=\"#000000\" stroke-opacity=\"1\" stroke-width=\"3.2\"/>\n",
       "<circle clip-path=\"url(#clip902)\" cx=\"2154.19\" cy=\"229.21\" r=\"14.4\" fill=\"#009af9\" fill-rule=\"evenodd\" fill-opacity=\"1\" stroke=\"#000000\" stroke-opacity=\"1\" stroke-width=\"3.2\"/>\n",
       "<circle clip-path=\"url(#clip902)\" cx=\"2163.39\" cy=\"897.814\" r=\"14.4\" fill=\"#009af9\" fill-rule=\"evenodd\" fill-opacity=\"1\" stroke=\"#000000\" stroke-opacity=\"1\" stroke-width=\"3.2\"/>\n",
       "<circle clip-path=\"url(#clip902)\" cx=\"2172.58\" cy=\"673.721\" r=\"14.4\" fill=\"#009af9\" fill-rule=\"evenodd\" fill-opacity=\"1\" stroke=\"#000000\" stroke-opacity=\"1\" stroke-width=\"3.2\"/>\n",
       "<circle clip-path=\"url(#clip902)\" cx=\"2181.77\" cy=\"625.462\" r=\"14.4\" fill=\"#009af9\" fill-rule=\"evenodd\" fill-opacity=\"1\" stroke=\"#000000\" stroke-opacity=\"1\" stroke-width=\"3.2\"/>\n",
       "<circle clip-path=\"url(#clip902)\" cx=\"2190.97\" cy=\"598.544\" r=\"14.4\" fill=\"#009af9\" fill-rule=\"evenodd\" fill-opacity=\"1\" stroke=\"#000000\" stroke-opacity=\"1\" stroke-width=\"3.2\"/>\n",
       "<circle clip-path=\"url(#clip902)\" cx=\"2200.16\" cy=\"243.845\" r=\"14.4\" fill=\"#009af9\" fill-rule=\"evenodd\" fill-opacity=\"1\" stroke=\"#000000\" stroke-opacity=\"1\" stroke-width=\"3.2\"/>\n",
       "<circle clip-path=\"url(#clip902)\" cx=\"2209.35\" cy=\"517.83\" r=\"14.4\" fill=\"#009af9\" fill-rule=\"evenodd\" fill-opacity=\"1\" stroke=\"#000000\" stroke-opacity=\"1\" stroke-width=\"3.2\"/>\n",
       "<circle clip-path=\"url(#clip902)\" cx=\"2218.54\" cy=\"684.051\" r=\"14.4\" fill=\"#009af9\" fill-rule=\"evenodd\" fill-opacity=\"1\" stroke=\"#000000\" stroke-opacity=\"1\" stroke-width=\"3.2\"/>\n",
       "<circle clip-path=\"url(#clip902)\" cx=\"2227.74\" cy=\"423.281\" r=\"14.4\" fill=\"#009af9\" fill-rule=\"evenodd\" fill-opacity=\"1\" stroke=\"#000000\" stroke-opacity=\"1\" stroke-width=\"3.2\"/>\n",
       "<circle clip-path=\"url(#clip902)\" cx=\"2236.93\" cy=\"530.031\" r=\"14.4\" fill=\"#009af9\" fill-rule=\"evenodd\" fill-opacity=\"1\" stroke=\"#000000\" stroke-opacity=\"1\" stroke-width=\"3.2\"/>\n",
       "<circle clip-path=\"url(#clip902)\" cx=\"2246.12\" cy=\"328.956\" r=\"14.4\" fill=\"#009af9\" fill-rule=\"evenodd\" fill-opacity=\"1\" stroke=\"#000000\" stroke-opacity=\"1\" stroke-width=\"3.2\"/>\n",
       "<circle clip-path=\"url(#clip902)\" cx=\"2255.31\" cy=\"799.12\" r=\"14.4\" fill=\"#009af9\" fill-rule=\"evenodd\" fill-opacity=\"1\" stroke=\"#000000\" stroke-opacity=\"1\" stroke-width=\"3.2\"/>\n",
       "<circle clip-path=\"url(#clip902)\" cx=\"2264.51\" cy=\"87.9763\" r=\"14.4\" fill=\"#009af9\" fill-rule=\"evenodd\" fill-opacity=\"1\" stroke=\"#000000\" stroke-opacity=\"1\" stroke-width=\"3.2\"/>\n",
       "<circle clip-path=\"url(#clip902)\" cx=\"2273.7\" cy=\"454.775\" r=\"14.4\" fill=\"#009af9\" fill-rule=\"evenodd\" fill-opacity=\"1\" stroke=\"#000000\" stroke-opacity=\"1\" stroke-width=\"3.2\"/>\n",
       "<circle clip-path=\"url(#clip902)\" cx=\"2282.89\" cy=\"309.84\" r=\"14.4\" fill=\"#009af9\" fill-rule=\"evenodd\" fill-opacity=\"1\" stroke=\"#000000\" stroke-opacity=\"1\" stroke-width=\"3.2\"/>\n",
       "<circle clip-path=\"url(#clip902)\" cx=\"2292.08\" cy=\"536.53\" r=\"14.4\" fill=\"#009af9\" fill-rule=\"evenodd\" fill-opacity=\"1\" stroke=\"#000000\" stroke-opacity=\"1\" stroke-width=\"3.2\"/>\n",
       "<polyline clip-path=\"url(#clip902)\" style=\"stroke:#e26f46; stroke-linecap:round; stroke-linejoin:round; stroke-width:4; stroke-opacity:1; fill:none\" points=\"269.7,774.147 278.893,781.141 288.085,788.06 297.278,794.906 306.471,801.677 315.663,808.375 324.856,814.998 334.049,821.548 343.241,828.023 352.434,834.424 361.627,840.752 370.819,847.005 380.012,853.185 389.205,859.29 398.397,865.322 407.59,871.279 416.783,877.162 425.975,882.972 435.168,888.707 444.361,894.369 453.553,899.956 462.746,905.469 471.938,910.909 481.131,916.274 490.324,921.565 499.516,926.783 508.709,931.926 517.902,936.996 527.094,941.991 536.287,946.912 545.48,951.76 554.672,956.533 563.865,961.232 573.058,965.858 582.25,970.409 591.443,974.886 600.636,979.289 609.828,983.619 619.021,987.874 628.214,992.055 637.406,996.163 646.599,1000.2 655.792,1004.16 664.984,1008.04 674.177,1011.85 683.37,1015.59 692.562,1019.25 701.755,1022.84 710.948,1026.36 720.14,1029.8 729.333,1033.17 738.525,1036.46 747.718,1039.68 756.911,1042.82 766.103,1045.89 775.296,1048.89 784.489,1051.81 793.681,1054.66 802.874,1057.44 812.067,1060.14 821.259,1062.77 830.452,1065.32 839.645,1067.8 848.837,1070.2 858.03,1072.54 867.223,1074.79 876.415,1076.98 885.608,1079.09 894.801,1081.12 903.993,1083.08 913.186,1084.97 922.379,1086.78 931.571,1088.52 940.764,1090.19 949.957,1091.78 959.149,1093.29 968.342,1094.74 977.535,1096.11 986.727,1097.4 995.92,1098.62 1005.11,1099.77 1014.31,1100.84 1023.5,1101.84 1032.69,1102.77 1041.88,1103.62 1051.08,1104.4 1060.27,1105.1 1069.46,1105.73 1078.65,1106.28 1087.85,1106.76 1097.04,1107.17 1106.23,1107.5 1115.42,1107.76 1124.62,1107.95 1133.81,1108.06 1143,1108.1 1152.2,1108.06 1161.39,1107.95 1170.58,1107.76 1179.77,1107.5 1188.97,1107.17 1198.16,1106.76 1207.35,1106.28 1216.54,1105.73 1225.74,1105.1 1234.93,1104.4 1244.12,1103.62 1253.31,1102.77 1262.51,1101.84 1271.7,1100.84 1280.89,1099.77 1290.08,1098.62 1299.28,1097.4 1308.47,1096.11 1317.66,1094.74 1326.86,1093.29 1336.05,1091.78 1345.24,1090.19 1354.43,1088.52 1363.63,1086.78 1372.82,1084.97 1382.01,1083.08 1391.2,1081.12 1400.4,1079.09 1409.59,1076.98 1418.78,1074.79 1427.97,1072.54 1437.17,1070.2 1446.36,1067.8 1455.55,1065.32 1464.75,1062.77 1473.94,1060.14 1483.13,1057.44 1492.32,1054.66 1501.52,1051.81 1510.71,1048.89 1519.9,1045.89 1529.09,1042.82 1538.29,1039.68 1547.48,1036.46 1556.67,1033.17 1565.86,1029.8 1575.06,1026.36 1584.25,1022.84 1593.44,1019.25 1602.64,1015.59 1611.83,1011.85 1621.02,1008.04 1630.21,1004.16 1639.41,1000.2 1648.6,996.163 1657.79,992.055 1666.98,987.874 1676.18,983.619 1685.37,979.289 1694.56,974.886 1703.75,970.409 1712.95,965.858 1722.14,961.232 1731.33,956.533 1740.53,951.76 1749.72,946.912 1758.91,941.991 1768.1,936.996 1777.3,931.926 1786.49,926.783 1795.68,921.565 1804.87,916.274 1814.07,910.909 1823.26,905.469 1832.45,899.956 1841.64,894.369 1850.84,888.707 1860.03,882.972 1869.22,877.162 1878.41,871.279 1887.61,865.322 1896.8,859.29 1905.99,853.185 1915.19,847.005 1924.38,840.752 1933.57,834.424 1942.76,828.023 1951.96,821.548 1961.15,814.998 1970.34,808.375 1979.53,801.677 1988.73,794.906 1997.92,788.06 2007.11,781.141 2016.3,774.147 2025.5,767.08 2034.69,759.938 2043.88,752.723 2053.08,745.433 2062.27,738.07 2071.46,730.632 2080.65,723.121 2089.85,715.535 2099.04,707.876 2108.23,700.142 2117.42,692.335 2126.62,684.453 2135.81,676.497 2145,668.468 2154.19,660.364 2163.39,652.187 2172.58,643.935 2181.77,635.61 2190.97,627.21 2200.16,618.736 2209.35,610.189 2218.54,601.567 2227.74,592.872 2236.93,584.102 2246.12,575.258 2255.31,566.341 2264.51,557.349 2273.7,548.284 2282.89,539.144 2292.08,529.93 \"/>\n",
       "<polyline clip-path=\"url(#clip902)\" style=\"stroke:#3da44d; stroke-linecap:round; stroke-linejoin:round; stroke-width:4; stroke-opacity:1; fill:none\" points=\"269.7,838.114 278.893,813.501 288.085,795.49 297.278,783.115 306.471,775.515 315.663,771.921 324.856,771.653 334.049,774.106 343.241,778.753 352.434,785.128 361.627,792.829 370.819,801.506 380.012,810.86 389.205,820.636 398.397,830.619 407.59,840.631 416.783,850.525 425.975,860.182 435.168,869.511 444.361,878.44 453.553,886.92 462.746,894.914 471.938,902.405 481.131,909.384 490.324,915.855 499.516,921.831 508.709,927.329 517.902,932.376 527.094,937 536.287,941.234 545.48,945.113 554.672,948.672 563.865,951.949 573.058,954.98 582.25,957.801 591.443,960.447 600.636,962.951 609.828,965.344 619.021,967.655 628.214,969.91 637.406,972.134 646.599,974.348 655.792,976.57 664.984,978.817 674.177,981.102 683.37,983.434 692.562,985.822 701.755,988.271 710.948,990.785 720.14,993.363 729.333,996.005 738.525,998.708 747.718,1001.47 756.911,1004.27 766.103,1007.12 775.296,1010 784.489,1012.91 793.681,1015.82 802.874,1018.74 812.067,1021.64 821.259,1024.52 830.452,1027.36 839.645,1030.15 848.837,1032.89 858.03,1035.55 867.223,1038.13 876.415,1040.61 885.608,1042.99 894.801,1045.25 903.993,1047.39 913.186,1049.4 922.379,1051.27 931.571,1053 940.764,1054.59 949.957,1056.02 959.149,1057.29 968.342,1058.42 977.535,1059.38 986.727,1060.2 995.92,1060.86 1005.11,1061.37 1014.31,1061.73 1023.5,1061.95 1032.69,1062.03 1041.88,1061.99 1051.08,1061.82 1060.27,1061.53 1069.46,1061.14 1078.65,1060.65 1087.85,1060.07 1097.04,1059.41 1106.23,1058.68 1115.42,1057.9 1124.62,1057.06 1133.81,1056.18 1143,1055.27 1152.2,1054.34 1161.39,1053.4 1170.58,1052.46 1179.77,1051.53 1188.97,1050.61 1198.16,1049.72 1207.35,1048.86 1216.54,1048.03 1225.74,1047.25 1234.93,1046.52 1244.12,1045.83 1253.31,1045.21 1262.51,1044.64 1271.7,1044.12 1280.89,1043.67 1290.08,1043.28 1299.28,1042.95 1308.47,1042.67 1317.66,1042.44 1326.86,1042.26 1336.05,1042.13 1345.24,1042.03 1354.43,1041.97 1363.63,1041.92 1372.82,1041.9 1382.01,1041.88 1391.2,1041.85 1400.4,1041.82 1409.59,1041.76 1418.78,1041.66 1427.97,1041.53 1437.17,1041.33 1446.36,1041.07 1455.55,1040.73 1464.75,1040.29 1473.94,1039.76 1483.13,1039.11 1492.32,1038.33 1501.52,1037.43 1510.71,1036.37 1519.9,1035.17 1529.09,1033.79 1538.29,1032.25 1547.48,1030.53 1556.67,1028.62 1565.86,1026.52 1575.06,1024.23 1584.25,1021.74 1593.44,1019.04 1602.64,1016.14 1611.83,1013.04 1621.02,1009.74 1630.21,1006.23 1639.41,1002.53 1648.6,998.632 1657.79,994.548 1666.98,990.283 1676.18,985.844 1685.37,981.24 1694.56,976.48 1703.75,971.574 1712.95,966.533 1722.14,961.37 1731.33,956.095 1740.53,950.722 1749.72,945.263 1758.91,939.731 1768.1,934.139 1777.3,928.499 1786.49,922.823 1795.68,917.122 1804.87,911.409 1814.07,905.691 1823.26,899.977 1832.45,894.276 1841.64,888.592 1850.84,882.928 1860.03,877.288 1869.22,871.671 1878.41,866.073 1887.61,860.49 1896.8,854.914 1905.99,849.334 1915.19,843.738 1924.38,838.108 1933.57,832.426 1942.76,826.668 1951.96,820.809 1961.15,814.822 1970.34,808.674 1979.53,802.331 1988.73,795.758 1997.92,788.916 2007.11,781.763 2016.3,774.259 2025.5,766.36 2034.69,758.024 2043.88,749.207 2053.08,739.869 2062.27,729.97 2071.46,719.475 2080.65,708.352 2089.85,696.574 2099.04,684.125 2108.23,670.993 2117.42,657.181 2126.62,642.702 2135.81,627.585 2145,611.876 2154.19,595.641 2163.39,578.971 2172.58,561.979 2181.77,544.812 2190.97,527.646 2200.16,510.697 2209.35,494.221 2218.54,478.522 2227.74,463.951 2236.93,450.921 2246.12,439.902 2255.31,431.434 2264.51,426.134 2273.7,424.698 2282.89,427.911 2292.08,436.657 \"/>\n",
       "<path clip-path=\"url(#clip900)\" d=\"M1840.05 1438.47 L2281.3 1438.47 L2281.3 1231.11 L1840.05 1231.11  Z\" fill=\"#ffffff\" fill-rule=\"evenodd\" fill-opacity=\"1\"/>\n",
       "<polyline clip-path=\"url(#clip900)\" style=\"stroke:#000000; stroke-linecap:round; stroke-linejoin:round; stroke-width:4; stroke-opacity:1; fill:none\" points=\"1840.05,1438.47 2281.3,1438.47 2281.3,1231.11 1840.05,1231.11 1840.05,1438.47 \"/>\n",
       "<circle clip-path=\"url(#clip900)\" cx=\"1935.33\" cy=\"1282.95\" r=\"23.04\" fill=\"#009af9\" fill-rule=\"evenodd\" fill-opacity=\"1\" stroke=\"#000000\" stroke-opacity=\"1\" stroke-width=\"5.12\"/>\n",
       "<path clip-path=\"url(#clip900)\" d=\"M2049.52 1278.24 L2049.52 1264.22 L2053.78 1264.22 L2053.78 1300.23 L2049.52 1300.23 L2049.52 1296.35 Q2048.17 1298.66 2046.11 1299.79 Q2044.08 1300.91 2041.21 1300.91 Q2036.51 1300.91 2033.55 1297.16 Q2030.61 1293.41 2030.61 1287.29 Q2030.61 1281.18 2033.55 1277.43 Q2036.51 1273.68 2041.21 1273.68 Q2044.08 1273.68 2046.11 1274.82 Q2048.17 1275.93 2049.52 1278.24 M2035 1287.29 Q2035 1291.99 2036.92 1294.68 Q2038.87 1297.34 2042.25 1297.34 Q2045.63 1297.34 2047.57 1294.68 Q2049.52 1291.99 2049.52 1287.29 Q2049.52 1282.6 2047.57 1279.93 Q2045.63 1277.25 2042.25 1277.25 Q2038.87 1277.25 2036.92 1279.93 Q2035 1282.6 2035 1287.29 Z\" fill=\"#000000\" fill-rule=\"evenodd\" fill-opacity=\"1\" /><path clip-path=\"url(#clip900)\" d=\"M2074.33 1287.2 Q2069.17 1287.2 2067.18 1288.38 Q2065.19 1289.56 2065.19 1292.41 Q2065.19 1294.68 2066.67 1296.02 Q2068.17 1297.34 2070.74 1297.34 Q2074.29 1297.34 2076.42 1294.84 Q2078.57 1292.32 2078.57 1288.15 L2078.57 1287.2 L2074.33 1287.2 M2082.83 1285.44 L2082.83 1300.23 L2078.57 1300.23 L2078.57 1296.3 Q2077.11 1298.66 2074.93 1299.79 Q2072.76 1300.91 2069.61 1300.91 Q2065.63 1300.91 2063.27 1298.68 Q2060.93 1296.44 2060.93 1292.69 Q2060.93 1288.31 2063.85 1286.09 Q2066.79 1283.87 2072.6 1283.87 L2078.57 1283.87 L2078.57 1283.45 Q2078.57 1280.51 2076.62 1278.92 Q2074.7 1277.29 2071.21 1277.29 Q2068.98 1277.29 2066.88 1277.83 Q2064.77 1278.36 2062.83 1279.42 L2062.83 1275.49 Q2065.17 1274.59 2067.36 1274.15 Q2069.56 1273.68 2071.65 1273.68 Q2077.27 1273.68 2080.05 1276.6 Q2082.83 1279.52 2082.83 1285.44 Z\" fill=\"#000000\" fill-rule=\"evenodd\" fill-opacity=\"1\" /><path clip-path=\"url(#clip900)\" d=\"M2095.81 1266.95 L2095.81 1274.31 L2104.59 1274.31 L2104.59 1277.62 L2095.81 1277.62 L2095.81 1291.69 Q2095.81 1294.86 2096.67 1295.77 Q2097.55 1296.67 2100.21 1296.67 L2104.59 1296.67 L2104.59 1300.23 L2100.21 1300.23 Q2095.28 1300.23 2093.41 1298.41 Q2091.53 1296.55 2091.53 1291.69 L2091.53 1277.62 L2088.41 1277.62 L2088.41 1274.31 L2091.53 1274.31 L2091.53 1266.95 L2095.81 1266.95 Z\" fill=\"#000000\" fill-rule=\"evenodd\" fill-opacity=\"1\" /><path clip-path=\"url(#clip900)\" d=\"M2121.97 1287.2 Q2116.81 1287.2 2114.82 1288.38 Q2112.83 1289.56 2112.83 1292.41 Q2112.83 1294.68 2114.31 1296.02 Q2115.81 1297.34 2118.38 1297.34 Q2121.92 1297.34 2124.05 1294.84 Q2126.21 1292.32 2126.21 1288.15 L2126.21 1287.2 L2121.97 1287.2 M2130.47 1285.44 L2130.47 1300.23 L2126.21 1300.23 L2126.21 1296.3 Q2124.75 1298.66 2122.57 1299.79 Q2120.4 1300.91 2117.25 1300.91 Q2113.27 1300.91 2110.91 1298.68 Q2108.57 1296.44 2108.57 1292.69 Q2108.57 1288.31 2111.48 1286.09 Q2114.42 1283.87 2120.23 1283.87 L2126.21 1283.87 L2126.21 1283.45 Q2126.21 1280.51 2124.26 1278.92 Q2122.34 1277.29 2118.85 1277.29 Q2116.62 1277.29 2114.52 1277.83 Q2112.41 1278.36 2110.47 1279.42 L2110.47 1275.49 Q2112.8 1274.59 2115 1274.15 Q2117.2 1273.68 2119.29 1273.68 Q2124.91 1273.68 2127.69 1276.6 Q2130.47 1279.52 2130.47 1285.44 Z\" fill=\"#000000\" fill-rule=\"evenodd\" fill-opacity=\"1\" /><polyline clip-path=\"url(#clip900)\" style=\"stroke:#e26f46; stroke-linecap:round; stroke-linejoin:round; stroke-width:4; stroke-opacity:1; fill:none\" points=\"1863.87,1334.79 2006.79,1334.79 \"/>\n",
       "<path clip-path=\"url(#clip900)\" d=\"M2030.61 1317.51 L2059.84 1317.51 L2059.84 1321.45 L2047.57 1321.45 L2047.57 1352.07 L2042.87 1352.07 L2042.87 1321.45 L2030.61 1321.45 L2030.61 1317.51 Z\" fill=\"#000000\" fill-rule=\"evenodd\" fill-opacity=\"1\" /><path clip-path=\"url(#clip900)\" d=\"M2072.23 1330.13 Q2071.51 1329.71 2070.65 1329.53 Q2069.82 1329.32 2068.8 1329.32 Q2065.19 1329.32 2063.24 1331.68 Q2061.32 1334.02 2061.32 1338.42 L2061.32 1352.07 L2057.04 1352.07 L2057.04 1326.15 L2061.32 1326.15 L2061.32 1330.18 Q2062.67 1327.82 2064.82 1326.68 Q2066.97 1325.52 2070.05 1325.52 Q2070.49 1325.52 2071.02 1325.59 Q2071.55 1325.64 2072.2 1325.76 L2072.23 1330.13 Z\" fill=\"#000000\" fill-rule=\"evenodd\" fill-opacity=\"1\" /><path clip-path=\"url(#clip900)\" d=\"M2076.25 1341.84 L2076.25 1326.15 L2080.51 1326.15 L2080.51 1341.68 Q2080.51 1345.36 2081.95 1347.21 Q2083.38 1349.04 2086.25 1349.04 Q2089.7 1349.04 2091.69 1346.84 Q2093.71 1344.64 2093.71 1340.85 L2093.71 1326.15 L2097.97 1326.15 L2097.97 1352.07 L2093.71 1352.07 L2093.71 1348.09 Q2092.16 1350.45 2090.1 1351.61 Q2088.06 1352.75 2085.35 1352.75 Q2080.88 1352.75 2078.57 1349.97 Q2076.25 1347.19 2076.25 1341.84 M2086.97 1325.52 L2086.97 1325.52 Z\" fill=\"#000000\" fill-rule=\"evenodd\" fill-opacity=\"1\" /><path clip-path=\"url(#clip900)\" d=\"M2128.92 1338.05 L2128.92 1340.13 L2109.33 1340.13 Q2109.61 1344.53 2111.97 1346.84 Q2114.35 1349.13 2118.59 1349.13 Q2121.04 1349.13 2123.34 1348.53 Q2125.65 1347.93 2127.92 1346.73 L2127.92 1350.75 Q2125.63 1351.73 2123.22 1352.24 Q2120.81 1352.75 2118.34 1352.75 Q2112.13 1352.75 2108.5 1349.13 Q2104.89 1345.52 2104.89 1339.37 Q2104.89 1333 2108.31 1329.27 Q2111.76 1325.52 2117.6 1325.52 Q2122.83 1325.52 2125.86 1328.9 Q2128.92 1332.26 2128.92 1338.05 M2124.66 1336.8 Q2124.61 1333.3 2122.69 1331.22 Q2120.79 1329.13 2117.64 1329.13 Q2114.08 1329.13 2111.92 1331.15 Q2109.79 1333.16 2109.47 1336.82 L2124.66 1336.8 Z\" fill=\"#000000\" fill-rule=\"evenodd\" fill-opacity=\"1\" /><path clip-path=\"url(#clip900)\" d=\"M2150.98 1316.06 L2155.23 1316.06 L2155.23 1352.07 L2150.98 1352.07 L2150.98 1316.06 Z\" fill=\"#000000\" fill-rule=\"evenodd\" fill-opacity=\"1\" /><path clip-path=\"url(#clip900)\" d=\"M2164.15 1326.15 L2168.41 1326.15 L2168.41 1352.07 L2164.15 1352.07 L2164.15 1326.15 M2164.15 1316.06 L2168.41 1316.06 L2168.41 1321.45 L2164.15 1321.45 L2164.15 1316.06 Z\" fill=\"#000000\" fill-rule=\"evenodd\" fill-opacity=\"1\" /><path clip-path=\"url(#clip900)\" d=\"M2198.87 1336.43 L2198.87 1352.07 L2194.61 1352.07 L2194.61 1336.57 Q2194.61 1332.88 2193.17 1331.06 Q2191.74 1329.23 2188.87 1329.23 Q2185.42 1329.23 2183.43 1331.43 Q2181.44 1333.63 2181.44 1337.42 L2181.44 1352.07 L2177.16 1352.07 L2177.16 1326.15 L2181.44 1326.15 L2181.44 1330.18 Q2182.97 1327.84 2185.03 1326.68 Q2187.11 1325.52 2189.82 1325.52 Q2194.29 1325.52 2196.58 1328.3 Q2198.87 1331.06 2198.87 1336.43 Z\" fill=\"#000000\" fill-rule=\"evenodd\" fill-opacity=\"1\" /><path clip-path=\"url(#clip900)\" d=\"M2229.54 1338.05 L2229.54 1340.13 L2209.96 1340.13 Q2210.23 1344.53 2212.6 1346.84 Q2214.98 1349.13 2219.22 1349.13 Q2221.67 1349.13 2223.96 1348.53 Q2226.28 1347.93 2228.54 1346.73 L2228.54 1350.75 Q2226.25 1351.73 2223.85 1352.24 Q2221.44 1352.75 2218.96 1352.75 Q2212.76 1352.75 2209.12 1349.13 Q2205.51 1345.52 2205.51 1339.37 Q2205.51 1333 2208.94 1329.27 Q2212.39 1325.52 2218.22 1325.52 Q2223.45 1325.52 2226.48 1328.9 Q2229.54 1332.26 2229.54 1338.05 M2225.28 1336.8 Q2225.23 1333.3 2223.31 1331.22 Q2221.41 1329.13 2218.27 1329.13 Q2214.7 1329.13 2212.55 1331.15 Q2210.42 1333.16 2210.1 1336.82 L2225.28 1336.8 Z\" fill=\"#000000\" fill-rule=\"evenodd\" fill-opacity=\"1\" /><polyline clip-path=\"url(#clip900)\" style=\"stroke:#3da44d; stroke-linecap:round; stroke-linejoin:round; stroke-width:4; stroke-opacity:1; fill:none\" points=\"1863.87,1386.63 2006.79,1386.63 \"/>\n",
       "<path clip-path=\"url(#clip900)\" d=\"M2030.61 1369.35 L2050.47 1369.35 L2050.47 1373.29 L2035.28 1373.29 L2035.28 1383.47 L2048.98 1383.47 L2048.98 1387.41 L2035.28 1387.41 L2035.28 1403.91 L2030.61 1403.91 L2030.61 1369.35 Z\" fill=\"#000000\" fill-rule=\"evenodd\" fill-opacity=\"1\" /><path clip-path=\"url(#clip900)\" d=\"M2054.24 1377.99 L2058.5 1377.99 L2058.5 1403.91 L2054.24 1403.91 L2054.24 1377.99 M2054.24 1367.9 L2058.5 1367.9 L2058.5 1373.29 L2054.24 1373.29 L2054.24 1367.9 Z\" fill=\"#000000\" fill-rule=\"evenodd\" fill-opacity=\"1\" /><path clip-path=\"url(#clip900)\" d=\"M2071.62 1370.63 L2071.62 1377.99 L2080.4 1377.99 L2080.4 1381.3 L2071.62 1381.3 L2071.62 1395.37 Q2071.62 1398.54 2072.48 1399.45 Q2073.36 1400.35 2076.02 1400.35 L2080.4 1400.35 L2080.4 1403.91 L2076.02 1403.91 Q2071.09 1403.91 2069.22 1402.09 Q2067.34 1400.23 2067.34 1395.37 L2067.34 1381.3 L2064.22 1381.3 L2064.22 1377.99 L2067.34 1377.99 L2067.34 1370.63 L2071.62 1370.63 Z\" fill=\"#000000\" fill-rule=\"evenodd\" fill-opacity=\"1\" /><path clip-path=\"url(#clip900)\" d=\"M2090.21 1370.63 L2090.21 1377.99 L2098.98 1377.99 L2098.98 1381.3 L2090.21 1381.3 L2090.21 1395.37 Q2090.21 1398.54 2091.07 1399.45 Q2091.95 1400.35 2094.61 1400.35 L2098.98 1400.35 L2098.98 1403.91 L2094.61 1403.91 Q2089.68 1403.91 2087.8 1402.09 Q2085.93 1400.23 2085.93 1395.37 L2085.93 1381.3 L2082.8 1381.3 L2082.8 1377.99 L2085.93 1377.99 L2085.93 1370.63 L2090.21 1370.63 Z\" fill=\"#000000\" fill-rule=\"evenodd\" fill-opacity=\"1\" /><path clip-path=\"url(#clip900)\" d=\"M2126.76 1389.89 L2126.76 1391.97 L2107.18 1391.97 Q2107.46 1396.37 2109.82 1398.68 Q2112.2 1400.97 2116.44 1400.97 Q2118.89 1400.97 2121.18 1400.37 Q2123.5 1399.77 2125.77 1398.57 L2125.77 1402.59 Q2123.48 1403.57 2121.07 1404.08 Q2118.66 1404.59 2116.18 1404.59 Q2109.98 1404.59 2106.35 1400.97 Q2102.73 1397.36 2102.73 1391.21 Q2102.73 1384.84 2106.16 1381.11 Q2109.61 1377.36 2115.44 1377.36 Q2120.67 1377.36 2123.71 1380.74 Q2126.76 1384.1 2126.76 1389.89 M2122.5 1388.64 Q2122.46 1385.14 2120.54 1383.06 Q2118.64 1380.97 2115.49 1380.97 Q2111.92 1380.97 2109.77 1382.99 Q2107.64 1385 2107.32 1388.66 L2122.5 1388.64 Z\" fill=\"#000000\" fill-rule=\"evenodd\" fill-opacity=\"1\" /><path clip-path=\"url(#clip900)\" d=\"M2150.81 1381.92 L2150.81 1367.9 L2155.07 1367.9 L2155.07 1403.91 L2150.81 1403.91 L2150.81 1400.03 Q2149.47 1402.34 2147.41 1403.47 Q2145.37 1404.59 2142.5 1404.59 Q2137.8 1404.59 2134.84 1400.84 Q2131.9 1397.09 2131.9 1390.97 Q2131.9 1384.86 2134.84 1381.11 Q2137.8 1377.36 2142.5 1377.36 Q2145.37 1377.36 2147.41 1378.5 Q2149.47 1379.61 2150.81 1381.92 M2136.3 1390.97 Q2136.3 1395.67 2138.22 1398.36 Q2140.16 1401.02 2143.54 1401.02 Q2146.92 1401.02 2148.87 1398.36 Q2150.81 1395.67 2150.81 1390.97 Q2150.81 1386.28 2148.87 1383.61 Q2146.92 1380.93 2143.54 1380.93 Q2140.16 1380.93 2138.22 1383.61 Q2136.3 1386.28 2136.3 1390.97 Z\" fill=\"#000000\" fill-rule=\"evenodd\" fill-opacity=\"1\" /><path clip-path=\"url(#clip900)\" d=\"M2178.91 1367.9 L2183.17 1367.9 L2183.17 1403.91 L2178.91 1403.91 L2178.91 1367.9 Z\" fill=\"#000000\" fill-rule=\"evenodd\" fill-opacity=\"1\" /><path clip-path=\"url(#clip900)\" d=\"M2192.09 1377.99 L2196.35 1377.99 L2196.35 1403.91 L2192.09 1403.91 L2192.09 1377.99 M2192.09 1367.9 L2196.35 1367.9 L2196.35 1373.29 L2192.09 1373.29 L2192.09 1367.9 Z\" fill=\"#000000\" fill-rule=\"evenodd\" fill-opacity=\"1\" /><path clip-path=\"url(#clip900)\" d=\"M2226.81 1388.27 L2226.81 1403.91 L2222.55 1403.91 L2222.55 1388.41 Q2222.55 1384.72 2221.11 1382.9 Q2219.68 1381.07 2216.81 1381.07 Q2213.36 1381.07 2211.37 1383.27 Q2209.38 1385.47 2209.38 1389.26 L2209.38 1403.91 L2205.1 1403.91 L2205.1 1377.99 L2209.38 1377.99 L2209.38 1382.02 Q2210.91 1379.68 2212.97 1378.52 Q2215.05 1377.36 2217.76 1377.36 Q2222.22 1377.36 2224.52 1380.14 Q2226.81 1382.9 2226.81 1388.27 Z\" fill=\"#000000\" fill-rule=\"evenodd\" fill-opacity=\"1\" /><path clip-path=\"url(#clip900)\" d=\"M2257.48 1389.89 L2257.48 1391.97 L2237.9 1391.97 Q2238.17 1396.37 2240.53 1398.68 Q2242.92 1400.97 2247.16 1400.97 Q2249.61 1400.97 2251.9 1400.37 Q2254.22 1399.77 2256.48 1398.57 L2256.48 1402.59 Q2254.19 1403.57 2251.78 1404.08 Q2249.38 1404.59 2246.9 1404.59 Q2240.7 1404.59 2237.06 1400.97 Q2233.45 1397.36 2233.45 1391.21 Q2233.45 1384.84 2236.88 1381.11 Q2240.33 1377.36 2246.16 1377.36 Q2251.39 1377.36 2254.42 1380.74 Q2257.48 1384.1 2257.48 1389.89 M2253.22 1388.64 Q2253.17 1385.14 2251.25 1383.06 Q2249.35 1380.97 2246.21 1380.97 Q2242.64 1380.97 2240.49 1382.99 Q2238.36 1385 2238.03 1388.66 L2253.22 1388.64 Z\" fill=\"#000000\" fill-rule=\"evenodd\" fill-opacity=\"1\" /></svg>\n"
      ]
     },
     "execution_count": 77,
     "metadata": {},
     "output_type": "execute_result"
    }
   ],
   "source": [
    "x_fit=-11:0.1:11\n",
    "collect(x_fit)\n",
    "y_true = x_fit.^2 .+ 3 .*x_fit .-2\n",
    "d=10\n",
    "noise = di.Normal(0,d)\n",
    "y_observed = y_true + rand(noise3,length(x_fit));\n",
    "scatter(x_fit,y_observed, label=\"data\")\n",
    "plot!(x_fit,y_true,label= \"True line\")\n",
    "poly_fit = fit(x_fit,y_observed,10)\n",
    "y_fitted= poly_fit.(x_fit)\n",
    "plot!(x_fit, y_fitted, label = \"Fitted line\")"
   ]
  },
  {
   "cell_type": "markdown",
   "id": "bbcb4ef4",
   "metadata": {},
   "source": [
    "3. What do you observe in the plot? What is this phenomenon called?"
   ]
  },
  {
   "cell_type": "markdown",
   "id": "49a085b1",
   "metadata": {},
   "source": [
    "The y value is scattered a lot and it inteferes with the true value and makes it complex. This polynomial phenomenon leads to overfitting"
   ]
  },
  {
   "cell_type": "code",
   "execution_count": null,
   "id": "edce5739",
   "metadata": {},
   "outputs": [],
   "source": []
  }
 ],
 "metadata": {
  "kernelspec": {
   "display_name": "Julia 1.8.5",
   "language": "julia",
   "name": "julia-1.8"
  },
  "language_info": {
   "file_extension": ".jl",
   "mimetype": "application/julia",
   "name": "julia",
   "version": "1.8.5"
  }
 },
 "nbformat": 4,
 "nbformat_minor": 5
}
