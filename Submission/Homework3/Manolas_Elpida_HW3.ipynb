{
 "cells": [
  {
   "cell_type": "markdown",
   "metadata": {},
   "source": [
    "<h1>HW3</h1>"
   ]
  },
  {
   "cell_type": "markdown",
   "metadata": {},
   "source": [
    "# Question 1\n",
    "### (Bayes Theorem) Read the following example and complete the exercises \n",
    "\n",
    "Trolls Under the Bridge\n",
    "1. Trolls(T) are bad\n",
    "2. Gnomes(G) are benign\n",
    "3. Every bridge has 5 creatures under it\n",
    "\n",
    "Below are the probabilities of what creatures live under a bridge:\n",
    "1. TTGGG: 20% (E1)\n",
    "2. TGGGG: 20% (E2)\n",
    "3. GGGGG: 60% (E3)\n",
    "\n",
    "A knight is approaching a bridge and he wants to know his chance of crossing the bridge safely."
   ]
  },
  {
   "cell_type": "markdown",
   "metadata": {},
   "source": [
    "### 1.1 \n",
    "\n",
    "#### What is the chance of the knight crossing the bridge safely?\n"
   ]
  },
  {
   "cell_type": "code",
   "execution_count": null,
   "metadata": {},
   "outputs": [],
   "source": [
    "E1 = 20\n",
    "E2 = 20\n",
    "E3 = 60 \n",
    "\n",
    "#The knight has a 60% chance of crossing the bridge safely"
   ]
  },
  {
   "cell_type": "markdown",
   "metadata": {},
   "source": [
    "### 1.2\n",
    "\n",
    "#### Before crossing a bridge, a knight captures a troll. “I now have an 80% chance of crossing safely,” he reasons, “since only the case 20% had TTGGG (E1) now have TGGG is still a threat.”\n",
    "\n",
    "#### Do you agree with him? Why?"
   ]
  },
  {
   "cell_type": "markdown",
   "metadata": {},
   "source": [
    "No, I do not agree with him. Since he captured a troll that means he is either at E1 or E2, and could not be at E3. He actually now has a 1/3 chance of crossing the bridge safely, if he captured a troll from E1 there is still one troll left so it is still not safe to cross that route, however if he captured a troll from E2, he would pass safely since there is only one on that route. In this case, since there are 3 trolls overall and he only has a chance of being safe if he captured the one troll from E2, he has a 1/3 chance of crossing safely. "
   ]
  },
  {
   "cell_type": "markdown",
   "metadata": {},
   "source": [
    "### 1.3\n",
    "\n",
    "#### Now he wants to use Bayes' theorem to calculate his chance of crossing safely given a troll captured \n",
    "\n",
    "\\begin{equation*}\n",
    "P(A|B) = \\frac{P(B|A)P(A)}{P(B)} \\\\\n",
    "P(A|B): Posteior \\\\\n",
    "P(B|A): Likelihood \\\\\n",
    "P(A): Prior \\\\\n",
    "P(B): Marginal Probability \\\\\n",
    "\\end{equation*}\n",
    "\n",
    "Given the three events, E1, E2, and E3, which two of the three events does the knight need to consider after a troll was captured?"
   ]
  },
  {
   "cell_type": "markdown",
   "metadata": {},
   "source": [
    "After a troll is captured, the knight must consider Event 1 and Event 2, since Event 3 has no trolls to begin with."
   ]
  },
  {
   "cell_type": "markdown",
   "metadata": {},
   "source": [
    "### 1.4\n",
    "\n",
    "#### Use Bayes' theorem to calculate the probability of the two events in 1.3 (separately) given the troll was captured. "
   ]
  },
  {
   "cell_type": "markdown",
   "metadata": {},
   "source": [
    "Probability of one event given a troll captured: "
   ]
  },
  {
   "cell_type": "code",
   "execution_count": 87,
   "metadata": {},
   "outputs": [
    {
     "data": {
      "text/plain": [
       "0.6666666666666666"
      ]
     },
     "execution_count": 87,
     "metadata": {},
     "output_type": "execute_result"
    }
   ],
   "source": [
    "#Probability of crossing E1\n",
    "#P(E1|T) = (P(T|E1)*P(E1))/P(T)\n",
    "PE1T = ((2/5)*(1/5))/(((2/5)*(1/5))+((1/5)*(1/5))+(0*(3/5)))"
   ]
  },
  {
   "cell_type": "markdown",
   "metadata": {},
   "source": [
    "Probability of the other event given a troll captured: "
   ]
  },
  {
   "cell_type": "code",
   "execution_count": 91,
   "metadata": {},
   "outputs": [
    {
     "data": {
      "text/plain": [
       "0.3333333333333333"
      ]
     },
     "execution_count": 91,
     "metadata": {},
     "output_type": "execute_result"
    }
   ],
   "source": [
    "#Probability of crossing E2:\n",
    "#P(E2|T) = (P(T|E2)*P(E2))/(P(T))\n",
    "#P(E2|T) = ((1/5)*(1/5)/((2/5*1/5)+(1/5*1/5)+(0*3/5))\n",
    "#Probability of troll is 2/5 for E1, 1/5 for E2, and 0 for E3\n",
    "#Probability of E1 -> 1/5, of E2 1/5, of E3 3/5\n",
    "PE2T = ((1/5)*(1/5))/(((2/5)*(1/5))+((1/5)*(1/5))+(0*(3/5)))"
   ]
  },
  {
   "cell_type": "markdown",
   "metadata": {},
   "source": [
    "### 1.5\n",
    "\n",
    "#### What is the chance of the knight crossing safely?"
   ]
  },
  {
   "cell_type": "code",
   "execution_count": 92,
   "metadata": {},
   "outputs": [
    {
     "data": {
      "text/plain": [
       "0.3333333333333333"
      ]
     },
     "execution_count": 92,
     "metadata": {},
     "output_type": "execute_result"
    }
   ],
   "source": [
    "#Impossible to cross E1 safely, since there will be a troll left if a troll is captured\n",
    "PS = PE2T"
   ]
  },
  {
   "cell_type": "markdown",
   "metadata": {},
   "source": [
    "#### Now looking back to 1.1, the probabilities were changed after assimilating data! "
   ]
  },
  {
   "cell_type": "markdown",
   "metadata": {},
   "source": [
    "# Question 2\n",
    "### (Polynomial Fitting) Read the following example and complete the exercises \n",
    "\n",
    "Biological data always comes with errors that influence the intepretation of the data significantly. In this question, we will simulate data and see how noises affect the parameter estimation."
   ]
  },
  {
   "cell_type": "code",
   "execution_count": 162,
   "metadata": {
    "scrolled": true
   },
   "outputs": [
    {
     "name": "stderr",
     "output_type": "stream",
     "text": [
      "\u001b[32m\u001b[1m   Resolving\u001b[22m\u001b[39m package versions...\n",
      "\u001b[32m\u001b[1m  No Changes\u001b[22m\u001b[39m to `C:\\Users\\elpid\\.julia\\environments\\v1.8\\Project.toml`\n",
      "\u001b[32m\u001b[1m  No Changes\u001b[22m\u001b[39m to `C:\\Users\\elpid\\.julia\\environments\\v1.8\\Manifest.toml`\n"
     ]
    }
   ],
   "source": [
    "import Pkg\n",
    "Pkg.add([\"Distributions\", \"Plots\", \"Polynomials\", \"Random\"])"
   ]
  },
  {
   "cell_type": "code",
   "execution_count": 217,
   "metadata": {},
   "outputs": [],
   "source": [
    "import Distributions as di\n",
    "import Plots\n",
    "import Polynomials\n",
    "import Random"
   ]
  },
  {
   "cell_type": "markdown",
   "metadata": {},
   "source": [
    "### 2.1\n",
    "\n",
    "1. Generate the independent variable x ranging from -10 to 10 with an increment of 1\n",
    "2. Generate the dependent variable y_true using the equation y_true = x^2 + 3x - 2\n"
   ]
  },
  {
   "cell_type": "code",
   "execution_count": 218,
   "metadata": {
    "scrolled": true
   },
   "outputs": [
    {
     "data": {
      "text/plain": [
       "21-element Vector{Int64}:\n",
       " -10\n",
       "  -9\n",
       "  -8\n",
       "  -7\n",
       "  -6\n",
       "  -5\n",
       "  -4\n",
       "  -3\n",
       "  -2\n",
       "  -1\n",
       "   0\n",
       "   1\n",
       "   2\n",
       "   3\n",
       "   4\n",
       "   5\n",
       "   6\n",
       "   7\n",
       "   8\n",
       "   9\n",
       "  10"
      ]
     },
     "execution_count": 218,
     "metadata": {},
     "output_type": "execute_result"
    }
   ],
   "source": [
    "using Polynomials\n",
    "using Plots\n",
    "using Random\n",
    "using Statistics\n",
    "x = -10:1:10\n",
    "collect(x)"
   ]
  },
  {
   "cell_type": "code",
   "execution_count": 219,
   "metadata": {
    "scrolled": false
   },
   "outputs": [
    {
     "data": {
      "text/plain": [
       "21-element Vector{Int64}:\n",
       "  68\n",
       "  52\n",
       "  38\n",
       "  26\n",
       "  16\n",
       "   8\n",
       "   2\n",
       "  -2\n",
       "  -4\n",
       "  -4\n",
       "  -2\n",
       "   2\n",
       "   8\n",
       "  16\n",
       "  26\n",
       "  38\n",
       "  52\n",
       "  68\n",
       "  86\n",
       " 106\n",
       " 128"
      ]
     },
     "execution_count": 219,
     "metadata": {},
     "output_type": "execute_result"
    }
   ],
   "source": [
    "y_true = x.^2 + 3x .- 2"
   ]
  },
  {
   "cell_type": "markdown",
   "metadata": {},
   "source": [
    "### 2.2\n",
    "\n",
    "1. Generate the Guassian noises with zero mean and a standard deviation of 10\n",
    "\n",
    "2. Add the noises to y_true to obtain y_observed\n"
   ]
  },
  {
   "cell_type": "code",
   "execution_count": 220,
   "metadata": {
    "scrolled": true
   },
   "outputs": [
    {
     "data": {
      "text/plain": [
       "21-element Vector{Float64}:\n",
       "  83.4552229960784\n",
       "  43.01271816621804\n",
       "  51.0412231730971\n",
       "  27.53976435085972\n",
       "  19.09707663736019\n",
       "  -2.651234974195331\n",
       " -10.866858537401217\n",
       "  -4.093898875293073\n",
       "  -6.089920824835171\n",
       "  11.10208509612016\n",
       " -17.318012531477567\n",
       "   0.17187836135960977\n",
       "   4.078800103878077\n",
       "  17.251673359943613\n",
       "  25.77449475259422\n",
       "  32.53114216760347\n",
       "  68.582557958526\n",
       "  59.59222630476002\n",
       "  84.25791247945324\n",
       " 110.05095604082493\n",
       " 145.72027868147762"
      ]
     },
     "execution_count": 220,
     "metadata": {},
     "output_type": "execute_result"
    }
   ],
   "source": [
    "dataerror = 10.0\n",
    "noise = di.Normal(0, dataerror)\n",
    "y_observed = y_true+rand(noise, length(x))"
   ]
  },
  {
   "cell_type": "markdown",
   "metadata": {},
   "source": [
    "### 2.3\n",
    "\n",
    "#### Fit the data (x, y_observed) with a second order polynomial. \n",
    "\n",
    "1. Make a scatter plot of y_observed along x\n",
    "2. Plot a line of y_true along x on the scatter plot\n",
    "3. Plot a line of the fitted polynomial along x on the same plot"
   ]
  },
  {
   "cell_type": "code",
   "execution_count": 221,
   "metadata": {
    "scrolled": true
   },
   "outputs": [
    {
     "data": {
      "image/svg+xml": [
       "<?xml version=\"1.0\" encoding=\"utf-8\"?>\n",
       "<svg xmlns=\"http://www.w3.org/2000/svg\" xmlns:xlink=\"http://www.w3.org/1999/xlink\" width=\"600\" height=\"400\" viewBox=\"0 0 2400 1600\">\n",
       "<defs>\n",
       "  <clipPath id=\"clip040\">\n",
       "    <rect x=\"0\" y=\"0\" width=\"2400\" height=\"1600\"/>\n",
       "  </clipPath>\n",
       "</defs>\n",
       "<path clip-path=\"url(#clip040)\" d=\"M0 1600 L2400 1600 L2400 0 L0 0  Z\" fill=\"#ffffff\" fill-rule=\"evenodd\" fill-opacity=\"1\"/>\n",
       "<defs>\n",
       "  <clipPath id=\"clip041\">\n",
       "    <rect x=\"480\" y=\"0\" width=\"1681\" height=\"1600\"/>\n",
       "  </clipPath>\n",
       "</defs>\n",
       "<path clip-path=\"url(#clip040)\" d=\"M169.121 1486.45 L2352.76 1486.45 L2352.76 47.2441 L169.121 47.2441  Z\" fill=\"#ffffff\" fill-rule=\"evenodd\" fill-opacity=\"1\"/>\n",
       "<defs>\n",
       "  <clipPath id=\"clip042\">\n",
       "    <rect x=\"169\" y=\"47\" width=\"2185\" height=\"1440\"/>\n",
       "  </clipPath>\n",
       "</defs>\n",
       "<polyline clip-path=\"url(#clip042)\" style=\"stroke:#000000; stroke-linecap:round; stroke-linejoin:round; stroke-width:2; stroke-opacity:0.1; fill:none\" points=\"230.922,1486.45 230.922,47.2441 \"/>\n",
       "<polyline clip-path=\"url(#clip042)\" style=\"stroke:#000000; stroke-linecap:round; stroke-linejoin:round; stroke-width:2; stroke-opacity:0.1; fill:none\" points=\"745.93,1486.45 745.93,47.2441 \"/>\n",
       "<polyline clip-path=\"url(#clip042)\" style=\"stroke:#000000; stroke-linecap:round; stroke-linejoin:round; stroke-width:2; stroke-opacity:0.1; fill:none\" points=\"1260.94,1486.45 1260.94,47.2441 \"/>\n",
       "<polyline clip-path=\"url(#clip042)\" style=\"stroke:#000000; stroke-linecap:round; stroke-linejoin:round; stroke-width:2; stroke-opacity:0.1; fill:none\" points=\"1775.95,1486.45 1775.95,47.2441 \"/>\n",
       "<polyline clip-path=\"url(#clip042)\" style=\"stroke:#000000; stroke-linecap:round; stroke-linejoin:round; stroke-width:2; stroke-opacity:0.1; fill:none\" points=\"2290.95,1486.45 2290.95,47.2441 \"/>\n",
       "<polyline clip-path=\"url(#clip040)\" style=\"stroke:#000000; stroke-linecap:round; stroke-linejoin:round; stroke-width:4; stroke-opacity:1; fill:none\" points=\"169.121,1486.45 2352.76,1486.45 \"/>\n",
       "<polyline clip-path=\"url(#clip040)\" style=\"stroke:#000000; stroke-linecap:round; stroke-linejoin:round; stroke-width:4; stroke-opacity:1; fill:none\" points=\"230.922,1486.45 230.922,1467.55 \"/>\n",
       "<polyline clip-path=\"url(#clip040)\" style=\"stroke:#000000; stroke-linecap:round; stroke-linejoin:round; stroke-width:4; stroke-opacity:1; fill:none\" points=\"745.93,1486.45 745.93,1467.55 \"/>\n",
       "<polyline clip-path=\"url(#clip040)\" style=\"stroke:#000000; stroke-linecap:round; stroke-linejoin:round; stroke-width:4; stroke-opacity:1; fill:none\" points=\"1260.94,1486.45 1260.94,1467.55 \"/>\n",
       "<polyline clip-path=\"url(#clip040)\" style=\"stroke:#000000; stroke-linecap:round; stroke-linejoin:round; stroke-width:4; stroke-opacity:1; fill:none\" points=\"1775.95,1486.45 1775.95,1467.55 \"/>\n",
       "<polyline clip-path=\"url(#clip040)\" style=\"stroke:#000000; stroke-linecap:round; stroke-linejoin:round; stroke-width:4; stroke-opacity:1; fill:none\" points=\"2290.95,1486.45 2290.95,1467.55 \"/>\n",
       "<path clip-path=\"url(#clip040)\" d=\"M184.985 1532.02 L214.661 1532.02 L214.661 1535.95 L184.985 1535.95 L184.985 1532.02 Z\" fill=\"#000000\" fill-rule=\"evenodd\" fill-opacity=\"1\" /><path clip-path=\"url(#clip040)\" d=\"M225.564 1544.91 L233.202 1544.91 L233.202 1518.55 L224.892 1520.21 L224.892 1515.95 L233.156 1514.29 L237.832 1514.29 L237.832 1544.91 L245.471 1544.91 L245.471 1548.85 L225.564 1548.85 L225.564 1544.91 Z\" fill=\"#000000\" fill-rule=\"evenodd\" fill-opacity=\"1\" /><path clip-path=\"url(#clip040)\" d=\"M264.915 1517.37 Q261.304 1517.37 259.475 1520.93 Q257.67 1524.47 257.67 1531.6 Q257.67 1538.71 259.475 1542.27 Q261.304 1545.82 264.915 1545.82 Q268.549 1545.82 270.355 1542.27 Q272.184 1538.71 272.184 1531.6 Q272.184 1524.47 270.355 1520.93 Q268.549 1517.37 264.915 1517.37 M264.915 1513.66 Q270.725 1513.66 273.781 1518.27 Q276.86 1522.85 276.86 1531.6 Q276.86 1540.33 273.781 1544.94 Q270.725 1549.52 264.915 1549.52 Q259.105 1549.52 256.026 1544.94 Q252.971 1540.33 252.971 1531.6 Q252.971 1522.85 256.026 1518.27 Q259.105 1513.66 264.915 1513.66 Z\" fill=\"#000000\" fill-rule=\"evenodd\" fill-opacity=\"1\" /><path clip-path=\"url(#clip040)\" d=\"M715.572 1532.02 L745.248 1532.02 L745.248 1535.95 L715.572 1535.95 L715.572 1532.02 Z\" fill=\"#000000\" fill-rule=\"evenodd\" fill-opacity=\"1\" /><path clip-path=\"url(#clip040)\" d=\"M755.386 1514.29 L773.743 1514.29 L773.743 1518.22 L759.669 1518.22 L759.669 1526.7 Q760.687 1526.35 761.706 1526.19 Q762.724 1526 763.743 1526 Q769.53 1526 772.909 1529.17 Q776.289 1532.34 776.289 1537.76 Q776.289 1543.34 772.817 1546.44 Q769.345 1549.52 763.025 1549.52 Q760.849 1549.52 758.581 1549.15 Q756.335 1548.78 753.928 1548.04 L753.928 1543.34 Q756.011 1544.47 758.234 1545.03 Q760.456 1545.58 762.933 1545.58 Q766.937 1545.58 769.275 1543.48 Q771.613 1541.37 771.613 1537.76 Q771.613 1534.15 769.275 1532.04 Q766.937 1529.94 762.933 1529.94 Q761.058 1529.94 759.183 1530.35 Q757.331 1530.77 755.386 1531.65 L755.386 1514.29 Z\" fill=\"#000000\" fill-rule=\"evenodd\" fill-opacity=\"1\" /><path clip-path=\"url(#clip040)\" d=\"M1260.94 1517.37 Q1257.33 1517.37 1255.5 1520.93 Q1253.69 1524.47 1253.69 1531.6 Q1253.69 1538.71 1255.5 1542.27 Q1257.33 1545.82 1260.94 1545.82 Q1264.57 1545.82 1266.38 1542.27 Q1268.21 1538.71 1268.21 1531.6 Q1268.21 1524.47 1266.38 1520.93 Q1264.57 1517.37 1260.94 1517.37 M1260.94 1513.66 Q1266.75 1513.66 1269.8 1518.27 Q1272.88 1522.85 1272.88 1531.6 Q1272.88 1540.33 1269.8 1544.94 Q1266.75 1549.52 1260.94 1549.52 Q1255.13 1549.52 1252.05 1544.94 Q1248.99 1540.33 1248.99 1531.6 Q1248.99 1522.85 1252.05 1518.27 Q1255.13 1513.66 1260.94 1513.66 Z\" fill=\"#000000\" fill-rule=\"evenodd\" fill-opacity=\"1\" /><path clip-path=\"url(#clip040)\" d=\"M1766.22 1514.29 L1784.58 1514.29 L1784.58 1518.22 L1770.51 1518.22 L1770.51 1526.7 Q1771.53 1526.35 1772.54 1526.19 Q1773.56 1526 1774.58 1526 Q1780.37 1526 1783.75 1529.17 Q1787.13 1532.34 1787.13 1537.76 Q1787.13 1543.34 1783.66 1546.44 Q1780.18 1549.52 1773.86 1549.52 Q1771.69 1549.52 1769.42 1549.15 Q1767.17 1548.78 1764.77 1548.04 L1764.77 1543.34 Q1766.85 1544.47 1769.07 1545.03 Q1771.29 1545.58 1773.77 1545.58 Q1777.78 1545.58 1780.11 1543.48 Q1782.45 1541.37 1782.45 1537.76 Q1782.45 1534.15 1780.11 1532.04 Q1777.78 1529.94 1773.77 1529.94 Q1771.9 1529.94 1770.02 1530.35 Q1768.17 1530.77 1766.22 1531.65 L1766.22 1514.29 Z\" fill=\"#000000\" fill-rule=\"evenodd\" fill-opacity=\"1\" /><path clip-path=\"url(#clip040)\" d=\"M2265.64 1544.91 L2273.28 1544.91 L2273.28 1518.55 L2264.97 1520.21 L2264.97 1515.95 L2273.24 1514.29 L2277.91 1514.29 L2277.91 1544.91 L2285.55 1544.91 L2285.55 1548.85 L2265.64 1548.85 L2265.64 1544.91 Z\" fill=\"#000000\" fill-rule=\"evenodd\" fill-opacity=\"1\" /><path clip-path=\"url(#clip040)\" d=\"M2304.99 1517.37 Q2301.38 1517.37 2299.55 1520.93 Q2297.75 1524.47 2297.75 1531.6 Q2297.75 1538.71 2299.55 1542.27 Q2301.38 1545.82 2304.99 1545.82 Q2308.63 1545.82 2310.43 1542.27 Q2312.26 1538.71 2312.26 1531.6 Q2312.26 1524.47 2310.43 1520.93 Q2308.63 1517.37 2304.99 1517.37 M2304.99 1513.66 Q2310.8 1513.66 2313.86 1518.27 Q2316.94 1522.85 2316.94 1531.6 Q2316.94 1540.33 2313.86 1544.94 Q2310.8 1549.52 2304.99 1549.52 Q2299.18 1549.52 2296.11 1544.94 Q2293.05 1540.33 2293.05 1531.6 Q2293.05 1522.85 2296.11 1518.27 Q2299.18 1513.66 2304.99 1513.66 Z\" fill=\"#000000\" fill-rule=\"evenodd\" fill-opacity=\"1\" /><polyline clip-path=\"url(#clip042)\" style=\"stroke:#000000; stroke-linecap:round; stroke-linejoin:round; stroke-width:2; stroke-opacity:0.1; fill:none\" points=\"169.121,1301.5 2352.76,1301.5 \"/>\n",
       "<polyline clip-path=\"url(#clip042)\" style=\"stroke:#000000; stroke-linecap:round; stroke-linejoin:round; stroke-width:2; stroke-opacity:0.1; fill:none\" points=\"169.121,885.109 2352.76,885.109 \"/>\n",
       "<polyline clip-path=\"url(#clip042)\" style=\"stroke:#000000; stroke-linecap:round; stroke-linejoin:round; stroke-width:2; stroke-opacity:0.1; fill:none\" points=\"169.121,468.723 2352.76,468.723 \"/>\n",
       "<polyline clip-path=\"url(#clip042)\" style=\"stroke:#000000; stroke-linecap:round; stroke-linejoin:round; stroke-width:2; stroke-opacity:0.1; fill:none\" points=\"169.121,52.3359 2352.76,52.3359 \"/>\n",
       "<polyline clip-path=\"url(#clip040)\" style=\"stroke:#000000; stroke-linecap:round; stroke-linejoin:round; stroke-width:4; stroke-opacity:1; fill:none\" points=\"169.121,1486.45 169.121,47.2441 \"/>\n",
       "<polyline clip-path=\"url(#clip040)\" style=\"stroke:#000000; stroke-linecap:round; stroke-linejoin:round; stroke-width:4; stroke-opacity:1; fill:none\" points=\"169.121,1301.5 188.019,1301.5 \"/>\n",
       "<polyline clip-path=\"url(#clip040)\" style=\"stroke:#000000; stroke-linecap:round; stroke-linejoin:round; stroke-width:4; stroke-opacity:1; fill:none\" points=\"169.121,885.109 188.019,885.109 \"/>\n",
       "<polyline clip-path=\"url(#clip040)\" style=\"stroke:#000000; stroke-linecap:round; stroke-linejoin:round; stroke-width:4; stroke-opacity:1; fill:none\" points=\"169.121,468.723 188.019,468.723 \"/>\n",
       "<polyline clip-path=\"url(#clip040)\" style=\"stroke:#000000; stroke-linecap:round; stroke-linejoin:round; stroke-width:4; stroke-opacity:1; fill:none\" points=\"169.121,52.3359 188.019,52.3359 \"/>\n",
       "<path clip-path=\"url(#clip040)\" d=\"M121.177 1287.29 Q117.566 1287.29 115.737 1290.86 Q113.932 1294.4 113.932 1301.53 Q113.932 1308.64 115.737 1312.2 Q117.566 1315.74 121.177 1315.74 Q124.811 1315.74 126.617 1312.2 Q128.445 1308.64 128.445 1301.53 Q128.445 1294.4 126.617 1290.86 Q124.811 1287.29 121.177 1287.29 M121.177 1283.59 Q126.987 1283.59 130.043 1288.2 Q133.121 1292.78 133.121 1301.53 Q133.121 1310.26 130.043 1314.86 Q126.987 1319.45 121.177 1319.45 Q115.367 1319.45 112.288 1314.86 Q109.233 1310.26 109.233 1301.53 Q109.233 1292.78 112.288 1288.2 Q115.367 1283.59 121.177 1283.59 Z\" fill=\"#000000\" fill-rule=\"evenodd\" fill-opacity=\"1\" /><path clip-path=\"url(#clip040)\" d=\"M81.0614 867.829 L99.4178 867.829 L99.4178 871.764 L85.3438 871.764 L85.3438 880.237 Q86.3623 879.889 87.3808 879.727 Q88.3993 879.542 89.4178 879.542 Q95.2049 879.542 98.5845 882.713 Q101.964 885.885 101.964 891.301 Q101.964 896.88 98.4919 899.982 Q95.0197 903.061 88.7003 903.061 Q86.5243 903.061 84.2558 902.69 Q82.0105 902.32 79.6031 901.579 L79.6031 896.88 Q81.6864 898.014 83.9086 898.57 Q86.1308 899.125 88.6077 899.125 Q92.6123 899.125 94.9502 897.019 Q97.2882 894.912 97.2882 891.301 Q97.2882 887.69 94.9502 885.584 Q92.6123 883.477 88.6077 883.477 Q86.7327 883.477 84.8577 883.894 Q83.0058 884.311 81.0614 885.19 L81.0614 867.829 Z\" fill=\"#000000\" fill-rule=\"evenodd\" fill-opacity=\"1\" /><path clip-path=\"url(#clip040)\" d=\"M121.177 870.908 Q117.566 870.908 115.737 874.473 Q113.932 878.014 113.932 885.144 Q113.932 892.25 115.737 895.815 Q117.566 899.357 121.177 899.357 Q124.811 899.357 126.617 895.815 Q128.445 892.25 128.445 885.144 Q128.445 878.014 126.617 874.473 Q124.811 870.908 121.177 870.908 M121.177 867.204 Q126.987 867.204 130.043 871.811 Q133.121 876.394 133.121 885.144 Q133.121 893.871 130.043 898.477 Q126.987 903.061 121.177 903.061 Q115.367 903.061 112.288 898.477 Q109.233 893.871 109.233 885.144 Q109.233 876.394 112.288 871.811 Q115.367 867.204 121.177 867.204 Z\" fill=\"#000000\" fill-rule=\"evenodd\" fill-opacity=\"1\" /><path clip-path=\"url(#clip040)\" d=\"M51.6634 482.067 L59.3023 482.067 L59.3023 455.702 L50.9921 457.368 L50.9921 453.109 L59.256 451.443 L63.9319 451.443 L63.9319 482.067 L71.5707 482.067 L71.5707 486.003 L51.6634 486.003 L51.6634 482.067 Z\" fill=\"#000000\" fill-rule=\"evenodd\" fill-opacity=\"1\" /><path clip-path=\"url(#clip040)\" d=\"M91.0151 454.521 Q87.404 454.521 85.5753 458.086 Q83.7697 461.628 83.7697 468.757 Q83.7697 475.864 85.5753 479.429 Q87.404 482.97 91.0151 482.97 Q94.6493 482.97 96.4548 479.429 Q98.2835 475.864 98.2835 468.757 Q98.2835 461.628 96.4548 458.086 Q94.6493 454.521 91.0151 454.521 M91.0151 450.818 Q96.8252 450.818 99.8808 455.424 Q102.959 460.007 102.959 468.757 Q102.959 477.484 99.8808 482.091 Q96.8252 486.674 91.0151 486.674 Q85.2049 486.674 82.1262 482.091 Q79.0707 477.484 79.0707 468.757 Q79.0707 460.007 82.1262 455.424 Q85.2049 450.818 91.0151 450.818 Z\" fill=\"#000000\" fill-rule=\"evenodd\" fill-opacity=\"1\" /><path clip-path=\"url(#clip040)\" d=\"M121.177 454.521 Q117.566 454.521 115.737 458.086 Q113.932 461.628 113.932 468.757 Q113.932 475.864 115.737 479.429 Q117.566 482.97 121.177 482.97 Q124.811 482.97 126.617 479.429 Q128.445 475.864 128.445 468.757 Q128.445 461.628 126.617 458.086 Q124.811 454.521 121.177 454.521 M121.177 450.818 Q126.987 450.818 130.043 455.424 Q133.121 460.007 133.121 468.757 Q133.121 477.484 130.043 482.091 Q126.987 486.674 121.177 486.674 Q115.367 486.674 112.288 482.091 Q109.233 477.484 109.233 468.757 Q109.233 460.007 112.288 455.424 Q115.367 450.818 121.177 450.818 Z\" fill=\"#000000\" fill-rule=\"evenodd\" fill-opacity=\"1\" /><path clip-path=\"url(#clip040)\" d=\"M51.6634 65.6807 L59.3023 65.6807 L59.3023 39.3151 L50.9921 40.9818 L50.9921 36.7226 L59.256 35.0559 L63.9319 35.0559 L63.9319 65.6807 L71.5707 65.6807 L71.5707 69.6159 L51.6634 69.6159 L51.6634 65.6807 Z\" fill=\"#000000\" fill-rule=\"evenodd\" fill-opacity=\"1\" /><path clip-path=\"url(#clip040)\" d=\"M81.0614 35.0559 L99.4178 35.0559 L99.4178 38.9911 L85.3438 38.9911 L85.3438 47.4632 Q86.3623 47.116 87.3808 46.954 Q88.3993 46.7688 89.4178 46.7688 Q95.2049 46.7688 98.5845 49.9401 Q101.964 53.1114 101.964 58.528 Q101.964 64.1067 98.4919 67.2085 Q95.0197 70.2872 88.7003 70.2872 Q86.5243 70.2872 84.2558 69.9168 Q82.0105 69.5465 79.6031 68.8057 L79.6031 64.1067 Q81.6864 65.2409 83.9086 65.7965 Q86.1308 66.352 88.6077 66.352 Q92.6123 66.352 94.9502 64.2456 Q97.2882 62.1391 97.2882 58.528 Q97.2882 54.9169 94.9502 52.8104 Q92.6123 50.704 88.6077 50.704 Q86.7327 50.704 84.8577 51.1206 Q83.0058 51.5373 81.0614 52.4169 L81.0614 35.0559 Z\" fill=\"#000000\" fill-rule=\"evenodd\" fill-opacity=\"1\" /><path clip-path=\"url(#clip040)\" d=\"M121.177 38.1346 Q117.566 38.1346 115.737 41.6994 Q113.932 45.241 113.932 52.3706 Q113.932 59.4771 115.737 63.0419 Q117.566 66.5835 121.177 66.5835 Q124.811 66.5835 126.617 63.0419 Q128.445 59.4771 128.445 52.3706 Q128.445 45.241 126.617 41.6994 Q124.811 38.1346 121.177 38.1346 M121.177 34.4309 Q126.987 34.4309 130.043 39.0374 Q133.121 43.6207 133.121 52.3706 Q133.121 61.0974 130.043 65.7039 Q126.987 70.2872 121.177 70.2872 Q115.367 70.2872 112.288 65.7039 Q109.233 61.0974 109.233 52.3706 Q109.233 43.6207 112.288 39.0374 Q115.367 34.4309 121.177 34.4309 Z\" fill=\"#000000\" fill-rule=\"evenodd\" fill-opacity=\"1\" /><circle clip-path=\"url(#clip042)\" cx=\"230.922\" cy=\"606.503\" r=\"14.4\" fill=\"#009af9\" fill-rule=\"evenodd\" fill-opacity=\"1\" stroke=\"#000000\" stroke-opacity=\"1\" stroke-width=\"3.2\"/>\n",
       "<circle clip-path=\"url(#clip042)\" cx=\"333.924\" cy=\"943.297\" r=\"14.4\" fill=\"#009af9\" fill-rule=\"evenodd\" fill-opacity=\"1\" stroke=\"#000000\" stroke-opacity=\"1\" stroke-width=\"3.2\"/>\n",
       "<circle clip-path=\"url(#clip042)\" cx=\"436.926\" cy=\"876.438\" r=\"14.4\" fill=\"#009af9\" fill-rule=\"evenodd\" fill-opacity=\"1\" stroke=\"#000000\" stroke-opacity=\"1\" stroke-width=\"3.2\"/>\n",
       "<circle clip-path=\"url(#clip042)\" cx=\"539.927\" cy=\"1072.15\" r=\"14.4\" fill=\"#009af9\" fill-rule=\"evenodd\" fill-opacity=\"1\" stroke=\"#000000\" stroke-opacity=\"1\" stroke-width=\"3.2\"/>\n",
       "<circle clip-path=\"url(#clip042)\" cx=\"642.929\" cy=\"1142.46\" r=\"14.4\" fill=\"#009af9\" fill-rule=\"evenodd\" fill-opacity=\"1\" stroke=\"#000000\" stroke-opacity=\"1\" stroke-width=\"3.2\"/>\n",
       "<circle clip-path=\"url(#clip042)\" cx=\"745.93\" cy=\"1323.57\" r=\"14.4\" fill=\"#009af9\" fill-rule=\"evenodd\" fill-opacity=\"1\" stroke=\"#000000\" stroke-opacity=\"1\" stroke-width=\"3.2\"/>\n",
       "<circle clip-path=\"url(#clip042)\" cx=\"848.932\" cy=\"1391.99\" r=\"14.4\" fill=\"#009af9\" fill-rule=\"evenodd\" fill-opacity=\"1\" stroke=\"#000000\" stroke-opacity=\"1\" stroke-width=\"3.2\"/>\n",
       "<circle clip-path=\"url(#clip042)\" cx=\"951.934\" cy=\"1335.59\" r=\"14.4\" fill=\"#009af9\" fill-rule=\"evenodd\" fill-opacity=\"1\" stroke=\"#000000\" stroke-opacity=\"1\" stroke-width=\"3.2\"/>\n",
       "<circle clip-path=\"url(#clip042)\" cx=\"1054.94\" cy=\"1352.21\" r=\"14.4\" fill=\"#009af9\" fill-rule=\"evenodd\" fill-opacity=\"1\" stroke=\"#000000\" stroke-opacity=\"1\" stroke-width=\"3.2\"/>\n",
       "<circle clip-path=\"url(#clip042)\" cx=\"1157.94\" cy=\"1209.04\" r=\"14.4\" fill=\"#009af9\" fill-rule=\"evenodd\" fill-opacity=\"1\" stroke=\"#000000\" stroke-opacity=\"1\" stroke-width=\"3.2\"/>\n",
       "<circle clip-path=\"url(#clip042)\" cx=\"1260.94\" cy=\"1445.72\" r=\"14.4\" fill=\"#009af9\" fill-rule=\"evenodd\" fill-opacity=\"1\" stroke=\"#000000\" stroke-opacity=\"1\" stroke-width=\"3.2\"/>\n",
       "<circle clip-path=\"url(#clip042)\" cx=\"1363.94\" cy=\"1300.06\" r=\"14.4\" fill=\"#009af9\" fill-rule=\"evenodd\" fill-opacity=\"1\" stroke=\"#000000\" stroke-opacity=\"1\" stroke-width=\"3.2\"/>\n",
       "<circle clip-path=\"url(#clip042)\" cx=\"1466.94\" cy=\"1267.53\" r=\"14.4\" fill=\"#009af9\" fill-rule=\"evenodd\" fill-opacity=\"1\" stroke=\"#000000\" stroke-opacity=\"1\" stroke-width=\"3.2\"/>\n",
       "<circle clip-path=\"url(#clip042)\" cx=\"1569.94\" cy=\"1157.83\" r=\"14.4\" fill=\"#009af9\" fill-rule=\"evenodd\" fill-opacity=\"1\" stroke=\"#000000\" stroke-opacity=\"1\" stroke-width=\"3.2\"/>\n",
       "<circle clip-path=\"url(#clip042)\" cx=\"1672.95\" cy=\"1086.85\" r=\"14.4\" fill=\"#009af9\" fill-rule=\"evenodd\" fill-opacity=\"1\" stroke=\"#000000\" stroke-opacity=\"1\" stroke-width=\"3.2\"/>\n",
       "<circle clip-path=\"url(#clip042)\" cx=\"1775.95\" cy=\"1030.59\" r=\"14.4\" fill=\"#009af9\" fill-rule=\"evenodd\" fill-opacity=\"1\" stroke=\"#000000\" stroke-opacity=\"1\" stroke-width=\"3.2\"/>\n",
       "<circle clip-path=\"url(#clip042)\" cx=\"1878.95\" cy=\"730.359\" r=\"14.4\" fill=\"#009af9\" fill-rule=\"evenodd\" fill-opacity=\"1\" stroke=\"#000000\" stroke-opacity=\"1\" stroke-width=\"3.2\"/>\n",
       "<circle clip-path=\"url(#clip042)\" cx=\"1981.95\" cy=\"805.228\" r=\"14.4\" fill=\"#009af9\" fill-rule=\"evenodd\" fill-opacity=\"1\" stroke=\"#000000\" stroke-opacity=\"1\" stroke-width=\"3.2\"/>\n",
       "<circle clip-path=\"url(#clip042)\" cx=\"2084.95\" cy=\"599.818\" r=\"14.4\" fill=\"#009af9\" fill-rule=\"evenodd\" fill-opacity=\"1\" stroke=\"#000000\" stroke-opacity=\"1\" stroke-width=\"3.2\"/>\n",
       "<circle clip-path=\"url(#clip042)\" cx=\"2187.95\" cy=\"385.021\" r=\"14.4\" fill=\"#009af9\" fill-rule=\"evenodd\" fill-opacity=\"1\" stroke=\"#000000\" stroke-opacity=\"1\" stroke-width=\"3.2\"/>\n",
       "<circle clip-path=\"url(#clip042)\" cx=\"2290.95\" cy=\"87.9763\" r=\"14.4\" fill=\"#009af9\" fill-rule=\"evenodd\" fill-opacity=\"1\" stroke=\"#000000\" stroke-opacity=\"1\" stroke-width=\"3.2\"/>\n",
       "<polyline clip-path=\"url(#clip042)\" style=\"stroke:#e26f46; stroke-linecap:round; stroke-linejoin:round; stroke-width:4; stroke-opacity:1; fill:none\" points=\"230.922,735.21 333.924,868.454 436.926,985.042 539.927,1084.97 642.929,1168.25 745.93,1234.87 848.932,1284.84 951.934,1318.15 1054.94,1334.81 1157.94,1334.81 1260.94,1318.15 1363.94,1284.84 1466.94,1234.87 1569.94,1168.25 1672.95,1084.97 1775.95,985.042 1878.95,868.454 1981.95,735.21 2084.95,585.311 2187.95,418.756 2290.95,235.546 \"/>\n",
       "<polyline clip-path=\"url(#clip042)\" style=\"stroke:#3da44d; stroke-linecap:round; stroke-linejoin:round; stroke-width:4; stroke-opacity:1; fill:none\" points=\"230.922,673.024 333.924,825.369 436.926,958.936 539.927,1073.72 642.929,1169.73 745.93,1246.96 848.932,1305.41 951.934,1345.09 1054.94,1365.98 1157.94,1368.1 1260.94,1351.43 1363.94,1315.99 1466.94,1261.77 1569.94,1188.77 1672.95,1096.99 1775.95,986.431 1878.95,857.095 1981.95,708.98 2084.95,542.086 2187.95,356.413 2290.95,151.961 \"/>\n",
       "<path clip-path=\"url(#clip040)\" d=\"M241.909 302.578 L973.21 302.578 L973.21 95.2176 L241.909 95.2176  Z\" fill=\"#ffffff\" fill-rule=\"evenodd\" fill-opacity=\"1\"/>\n",
       "<polyline clip-path=\"url(#clip040)\" style=\"stroke:#000000; stroke-linecap:round; stroke-linejoin:round; stroke-width:4; stroke-opacity:1; fill:none\" points=\"241.909,302.578 973.21,302.578 973.21,95.2176 241.909,95.2176 241.909,302.578 \"/>\n",
       "<circle clip-path=\"url(#clip040)\" cx=\"338.96\" cy=\"147.058\" r=\"23.04\" fill=\"#009af9\" fill-rule=\"evenodd\" fill-opacity=\"1\" stroke=\"#000000\" stroke-opacity=\"1\" stroke-width=\"5.12\"/>\n",
       "<path clip-path=\"url(#clip040)\" d=\"M449.853 166.745 Q448.047 171.375 446.334 172.787 Q444.621 174.199 441.751 174.199 L438.348 174.199 L438.348 170.634 L440.848 170.634 Q442.607 170.634 443.579 169.8 Q444.552 168.967 445.732 165.865 L446.496 163.921 L436.01 138.412 L440.524 138.412 L448.626 158.689 L456.727 138.412 L461.241 138.412 L449.853 166.745 Z\" fill=\"#000000\" fill-rule=\"evenodd\" fill-opacity=\"1\" /><path clip-path=\"url(#clip040)\" d=\"M468.533 160.402 L476.172 160.402 L476.172 134.037 L467.862 135.703 L467.862 131.444 L476.126 129.778 L480.801 129.778 L480.801 160.402 L488.44 160.402 L488.44 164.338 L468.533 164.338 L468.533 160.402 Z\" fill=\"#000000\" fill-rule=\"evenodd\" fill-opacity=\"1\" /><polyline clip-path=\"url(#clip040)\" style=\"stroke:#e26f46; stroke-linecap:round; stroke-linejoin:round; stroke-width:4; stroke-opacity:1; fill:none\" points=\"266.172,198.898 411.747,198.898 \"/>\n",
       "<path clip-path=\"url(#clip040)\" d=\"M436.01 181.618 L465.246 181.618 L465.246 185.553 L452.977 185.553 L452.977 216.178 L448.278 216.178 L448.278 185.553 L436.01 185.553 L436.01 181.618 Z\" fill=\"#000000\" fill-rule=\"evenodd\" fill-opacity=\"1\" /><path clip-path=\"url(#clip040)\" d=\"M477.63 194.233 Q476.913 193.817 476.056 193.631 Q475.223 193.423 474.204 193.423 Q470.593 193.423 468.649 195.784 Q466.727 198.122 466.727 202.52 L466.727 216.178 L462.445 216.178 L462.445 190.252 L466.727 190.252 L466.727 194.28 Q468.07 191.918 470.223 190.784 Q472.376 189.627 475.454 189.627 Q475.894 189.627 476.426 189.696 Q476.959 189.743 477.607 189.858 L477.63 194.233 Z\" fill=\"#000000\" fill-rule=\"evenodd\" fill-opacity=\"1\" /><path clip-path=\"url(#clip040)\" d=\"M481.658 205.946 L481.658 190.252 L485.917 190.252 L485.917 205.784 Q485.917 209.465 487.352 211.316 Q488.787 213.145 491.658 213.145 Q495.107 213.145 497.098 210.946 Q499.112 208.747 499.112 204.951 L499.112 190.252 L503.371 190.252 L503.371 216.178 L499.112 216.178 L499.112 212.196 Q497.561 214.557 495.5 215.715 Q493.463 216.849 490.755 216.849 Q486.287 216.849 483.973 214.071 Q481.658 211.293 481.658 205.946 M492.375 189.627 L492.375 189.627 Z\" fill=\"#000000\" fill-rule=\"evenodd\" fill-opacity=\"1\" /><path clip-path=\"url(#clip040)\" d=\"M534.32 202.15 L534.32 204.233 L514.736 204.233 Q515.014 208.631 517.375 210.946 Q519.76 213.238 523.996 213.238 Q526.449 213.238 528.741 212.636 Q531.056 212.034 533.324 210.83 L533.324 214.858 Q531.033 215.83 528.625 216.34 Q526.218 216.849 523.741 216.849 Q517.537 216.849 513.903 213.238 Q510.292 209.627 510.292 203.469 Q510.292 197.104 513.718 193.377 Q517.167 189.627 523 189.627 Q528.232 189.627 531.264 193.006 Q534.32 196.363 534.32 202.15 M530.06 200.9 Q530.014 197.405 528.093 195.321 Q526.195 193.238 523.047 193.238 Q519.482 193.238 517.329 195.252 Q515.199 197.266 514.875 200.923 L530.06 200.9 Z\" fill=\"#000000\" fill-rule=\"evenodd\" fill-opacity=\"1\" /><path clip-path=\"url(#clip040)\" d=\"M556.565 181.618 L561.241 181.618 L561.241 212.242 L578.069 212.242 L578.069 216.178 L556.565 216.178 L556.565 181.618 Z\" fill=\"#000000\" fill-rule=\"evenodd\" fill-opacity=\"1\" /><path clip-path=\"url(#clip040)\" d=\"M582.792 190.252 L587.051 190.252 L587.051 216.178 L582.792 216.178 L582.792 190.252 M582.792 180.159 L587.051 180.159 L587.051 185.553 L582.792 185.553 L582.792 180.159 Z\" fill=\"#000000\" fill-rule=\"evenodd\" fill-opacity=\"1\" /><path clip-path=\"url(#clip040)\" d=\"M617.514 200.529 L617.514 216.178 L613.254 216.178 L613.254 200.668 Q613.254 196.988 611.819 195.159 Q610.384 193.33 607.514 193.33 Q604.065 193.33 602.074 195.53 Q600.083 197.729 600.083 201.525 L600.083 216.178 L595.801 216.178 L595.801 190.252 L600.083 190.252 L600.083 194.28 Q601.611 191.942 603.671 190.784 Q605.754 189.627 608.463 189.627 Q612.93 189.627 615.222 192.405 Q617.514 195.159 617.514 200.529 Z\" fill=\"#000000\" fill-rule=\"evenodd\" fill-opacity=\"1\" /><path clip-path=\"url(#clip040)\" d=\"M648.185 202.15 L648.185 204.233 L628.602 204.233 Q628.879 208.631 631.24 210.946 Q633.625 213.238 637.861 213.238 Q640.314 213.238 642.606 212.636 Q644.921 212.034 647.189 210.83 L647.189 214.858 Q644.898 215.83 642.49 216.34 Q640.083 216.849 637.606 216.849 Q631.402 216.849 627.768 213.238 Q624.157 209.627 624.157 203.469 Q624.157 197.104 627.583 193.377 Q631.032 189.627 636.865 189.627 Q642.097 189.627 645.129 193.006 Q648.185 196.363 648.185 202.15 M643.926 200.9 Q643.879 197.405 641.958 195.321 Q640.06 193.238 636.912 193.238 Q633.347 193.238 631.194 195.252 Q629.065 197.266 628.74 200.923 L643.926 200.9 Z\" fill=\"#000000\" fill-rule=\"evenodd\" fill-opacity=\"1\" /><polyline clip-path=\"url(#clip040)\" style=\"stroke:#3da44d; stroke-linecap:round; stroke-linejoin:round; stroke-width:4; stroke-opacity:1; fill:none\" points=\"266.172,250.738 411.747,250.738 \"/>\n",
       "<path clip-path=\"url(#clip040)\" d=\"M436.01 233.458 L455.871 233.458 L455.871 237.393 L440.686 237.393 L440.686 247.578 L454.39 247.578 L454.39 251.513 L440.686 251.513 L440.686 268.018 L436.01 268.018 L436.01 233.458 Z\" fill=\"#000000\" fill-rule=\"evenodd\" fill-opacity=\"1\" /><path clip-path=\"url(#clip040)\" d=\"M459.644 242.092 L463.903 242.092 L463.903 268.018 L459.644 268.018 L459.644 242.092 M459.644 231.999 L463.903 231.999 L463.903 237.393 L459.644 237.393 L459.644 231.999 Z\" fill=\"#000000\" fill-rule=\"evenodd\" fill-opacity=\"1\" /><path clip-path=\"url(#clip040)\" d=\"M477.028 234.731 L477.028 242.092 L485.801 242.092 L485.801 245.402 L477.028 245.402 L477.028 259.476 Q477.028 262.647 477.885 263.55 Q478.764 264.453 481.426 264.453 L485.801 264.453 L485.801 268.018 L481.426 268.018 Q476.496 268.018 474.621 266.189 Q472.746 264.337 472.746 259.476 L472.746 245.402 L469.621 245.402 L469.621 242.092 L472.746 242.092 L472.746 234.731 L477.028 234.731 Z\" fill=\"#000000\" fill-rule=\"evenodd\" fill-opacity=\"1\" /><path clip-path=\"url(#clip040)\" d=\"M495.616 234.731 L495.616 242.092 L504.389 242.092 L504.389 245.402 L495.616 245.402 L495.616 259.476 Q495.616 262.647 496.473 263.55 Q497.352 264.453 500.014 264.453 L504.389 264.453 L504.389 268.018 L500.014 268.018 Q495.084 268.018 493.209 266.189 Q491.334 264.337 491.334 259.476 L491.334 245.402 L488.209 245.402 L488.209 242.092 L491.334 242.092 L491.334 234.731 L495.616 234.731 Z\" fill=\"#000000\" fill-rule=\"evenodd\" fill-opacity=\"1\" /><path clip-path=\"url(#clip040)\" d=\"M532.167 253.99 L532.167 256.073 L512.584 256.073 Q512.861 260.471 515.223 262.786 Q517.607 265.078 521.843 265.078 Q524.297 265.078 526.588 264.476 Q528.903 263.874 531.172 262.67 L531.172 266.698 Q528.88 267.67 526.472 268.18 Q524.065 268.689 521.588 268.689 Q515.385 268.689 511.75 265.078 Q508.139 261.467 508.139 255.309 Q508.139 248.944 511.565 245.217 Q515.014 241.467 520.847 241.467 Q526.079 241.467 529.111 244.846 Q532.167 248.203 532.167 253.99 M527.908 252.74 Q527.861 249.245 525.94 247.161 Q524.042 245.078 520.894 245.078 Q517.329 245.078 515.176 247.092 Q513.047 249.106 512.723 252.763 L527.908 252.74 Z\" fill=\"#000000\" fill-rule=\"evenodd\" fill-opacity=\"1\" /><path clip-path=\"url(#clip040)\" d=\"M556.218 246.027 L556.218 231.999 L560.477 231.999 L560.477 268.018 L556.218 268.018 L556.218 264.129 Q554.875 266.443 552.815 267.578 Q550.778 268.689 547.908 268.689 Q543.208 268.689 540.246 264.939 Q537.306 261.189 537.306 255.078 Q537.306 248.967 540.246 245.217 Q543.208 241.467 547.908 241.467 Q550.778 241.467 552.815 242.601 Q554.875 243.712 556.218 246.027 M541.704 255.078 Q541.704 259.777 543.625 262.462 Q545.57 265.124 548.949 265.124 Q552.329 265.124 554.273 262.462 Q556.218 259.777 556.218 255.078 Q556.218 250.379 554.273 247.717 Q552.329 245.032 548.949 245.032 Q545.57 245.032 543.625 247.717 Q541.704 250.379 541.704 255.078 Z\" fill=\"#000000\" fill-rule=\"evenodd\" fill-opacity=\"1\" /><path clip-path=\"url(#clip040)\" d=\"M589.18 237.3 L589.18 250.286 L595.06 250.286 Q598.324 250.286 600.106 248.596 Q601.889 246.907 601.889 243.782 Q601.889 240.68 600.106 238.99 Q598.324 237.3 595.06 237.3 L589.18 237.3 M584.505 233.458 L595.06 233.458 Q600.87 233.458 603.833 236.096 Q606.819 238.712 606.819 243.782 Q606.819 248.897 603.833 251.513 Q600.87 254.129 595.06 254.129 L589.18 254.129 L589.18 268.018 L584.505 268.018 L584.505 233.458 Z\" fill=\"#000000\" fill-rule=\"evenodd\" fill-opacity=\"1\" /><path clip-path=\"url(#clip040)\" d=\"M621.264 245.078 Q617.838 245.078 615.847 247.763 Q613.856 250.425 613.856 255.078 Q613.856 259.731 615.824 262.416 Q617.815 265.078 621.264 265.078 Q624.666 265.078 626.657 262.393 Q628.648 259.707 628.648 255.078 Q628.648 250.471 626.657 247.786 Q624.666 245.078 621.264 245.078 M621.264 241.467 Q626.819 241.467 629.99 245.078 Q633.162 248.689 633.162 255.078 Q633.162 261.444 629.99 265.078 Q626.819 268.689 621.264 268.689 Q615.685 268.689 612.514 265.078 Q609.366 261.444 609.366 255.078 Q609.366 248.689 612.514 245.078 Q615.685 241.467 621.264 241.467 Z\" fill=\"#000000\" fill-rule=\"evenodd\" fill-opacity=\"1\" /><path clip-path=\"url(#clip040)\" d=\"M640.222 231.999 L644.481 231.999 L644.481 268.018 L640.222 268.018 L640.222 231.999 Z\" fill=\"#000000\" fill-rule=\"evenodd\" fill-opacity=\"1\" /><path clip-path=\"url(#clip040)\" d=\"M664.18 270.425 Q662.375 275.055 660.662 276.467 Q658.949 277.879 656.078 277.879 L652.675 277.879 L652.675 274.314 L655.175 274.314 Q656.935 274.314 657.907 273.48 Q658.879 272.647 660.06 269.545 L660.824 267.601 L650.338 242.092 L654.851 242.092 L662.953 262.369 L671.055 242.092 L675.569 242.092 L664.18 270.425 Z\" fill=\"#000000\" fill-rule=\"evenodd\" fill-opacity=\"1\" /><path clip-path=\"url(#clip040)\" d=\"M702.999 252.369 L702.999 268.018 L698.74 268.018 L698.74 252.508 Q698.74 248.828 697.305 246.999 Q695.87 245.17 692.999 245.17 Q689.55 245.17 687.56 247.37 Q685.569 249.569 685.569 253.365 L685.569 268.018 L681.286 268.018 L681.286 242.092 L685.569 242.092 L685.569 246.12 Q687.097 243.782 689.157 242.624 Q691.24 241.467 693.948 241.467 Q698.416 241.467 700.708 244.245 Q702.999 246.999 702.999 252.369 Z\" fill=\"#000000\" fill-rule=\"evenodd\" fill-opacity=\"1\" /><path clip-path=\"url(#clip040)\" d=\"M721.541 245.078 Q718.115 245.078 716.124 247.763 Q714.133 250.425 714.133 255.078 Q714.133 259.731 716.101 262.416 Q718.092 265.078 721.541 265.078 Q724.944 265.078 726.934 262.393 Q728.925 259.707 728.925 255.078 Q728.925 250.471 726.934 247.786 Q724.944 245.078 721.541 245.078 M721.541 241.467 Q727.096 241.467 730.268 245.078 Q733.439 248.689 733.439 255.078 Q733.439 261.444 730.268 265.078 Q727.096 268.689 721.541 268.689 Q715.962 268.689 712.791 265.078 Q709.643 261.444 709.643 255.078 Q709.643 248.689 712.791 245.078 Q715.962 241.467 721.541 241.467 Z\" fill=\"#000000\" fill-rule=\"evenodd\" fill-opacity=\"1\" /><path clip-path=\"url(#clip040)\" d=\"M760.684 247.069 Q762.281 244.198 764.504 242.833 Q766.726 241.467 769.735 241.467 Q773.786 241.467 775.985 244.314 Q778.184 247.138 778.184 252.369 L778.184 268.018 L773.902 268.018 L773.902 252.508 Q773.902 248.782 772.582 246.976 Q771.263 245.17 768.555 245.17 Q765.244 245.17 763.323 247.37 Q761.402 249.569 761.402 253.365 L761.402 268.018 L757.119 268.018 L757.119 252.508 Q757.119 248.758 755.8 246.976 Q754.481 245.17 751.726 245.17 Q748.462 245.17 746.541 247.393 Q744.619 249.592 744.619 253.365 L744.619 268.018 L740.337 268.018 L740.337 242.092 L744.619 242.092 L744.619 246.12 Q746.078 243.735 748.115 242.601 Q750.152 241.467 752.953 241.467 Q755.777 241.467 757.744 242.902 Q759.735 244.337 760.684 247.069 Z\" fill=\"#000000\" fill-rule=\"evenodd\" fill-opacity=\"1\" /><path clip-path=\"url(#clip040)\" d=\"M786.679 242.092 L790.939 242.092 L790.939 268.018 L786.679 268.018 L786.679 242.092 M786.679 231.999 L790.939 231.999 L790.939 237.393 L786.679 237.393 L786.679 231.999 Z\" fill=\"#000000\" fill-rule=\"evenodd\" fill-opacity=\"1\" /><path clip-path=\"url(#clip040)\" d=\"M811.633 254.985 Q806.471 254.985 804.48 256.166 Q802.49 257.346 802.49 260.194 Q802.49 262.462 803.971 263.805 Q805.476 265.124 808.045 265.124 Q811.587 265.124 813.716 262.624 Q815.869 260.101 815.869 255.934 L815.869 254.985 L811.633 254.985 M820.128 253.226 L820.128 268.018 L815.869 268.018 L815.869 264.082 Q814.411 266.443 812.235 267.578 Q810.059 268.689 806.911 268.689 Q802.929 268.689 800.568 266.467 Q798.23 264.221 798.23 260.471 Q798.23 256.096 801.147 253.874 Q804.087 251.652 809.897 251.652 L815.869 251.652 L815.869 251.235 Q815.869 248.295 813.925 246.698 Q812.003 245.078 808.508 245.078 Q806.286 245.078 804.179 245.61 Q802.073 246.143 800.128 247.207 L800.128 243.272 Q802.466 242.37 804.665 241.93 Q806.864 241.467 808.948 241.467 Q814.573 241.467 817.351 244.383 Q820.128 247.3 820.128 253.226 Z\" fill=\"#000000\" fill-rule=\"evenodd\" fill-opacity=\"1\" /><path clip-path=\"url(#clip040)\" d=\"M828.901 231.999 L833.161 231.999 L833.161 268.018 L828.901 268.018 L828.901 231.999 Z\" fill=\"#000000\" fill-rule=\"evenodd\" fill-opacity=\"1\" /><path clip-path=\"url(#clip040)\" d=\"M857.327 233.458 L862.003 233.458 L862.003 264.082 L878.832 264.082 L878.832 268.018 L857.327 268.018 L857.327 233.458 Z\" fill=\"#000000\" fill-rule=\"evenodd\" fill-opacity=\"1\" /><path clip-path=\"url(#clip040)\" d=\"M883.554 242.092 L887.813 242.092 L887.813 268.018 L883.554 268.018 L883.554 242.092 M883.554 231.999 L887.813 231.999 L887.813 237.393 L883.554 237.393 L883.554 231.999 Z\" fill=\"#000000\" fill-rule=\"evenodd\" fill-opacity=\"1\" /><path clip-path=\"url(#clip040)\" d=\"M918.276 252.369 L918.276 268.018 L914.017 268.018 L914.017 252.508 Q914.017 248.828 912.582 246.999 Q911.146 245.17 908.276 245.17 Q904.827 245.17 902.836 247.37 Q900.845 249.569 900.845 253.365 L900.845 268.018 L896.563 268.018 L896.563 242.092 L900.845 242.092 L900.845 246.12 Q902.373 243.782 904.433 242.624 Q906.517 241.467 909.225 241.467 Q913.693 241.467 915.984 244.245 Q918.276 246.999 918.276 252.369 Z\" fill=\"#000000\" fill-rule=\"evenodd\" fill-opacity=\"1\" /><path clip-path=\"url(#clip040)\" d=\"M948.947 253.99 L948.947 256.073 L929.364 256.073 Q929.642 260.471 932.003 262.786 Q934.387 265.078 938.623 265.078 Q941.077 265.078 943.368 264.476 Q945.683 263.874 947.952 262.67 L947.952 266.698 Q945.66 267.67 943.253 268.18 Q940.845 268.689 938.368 268.689 Q932.165 268.689 928.53 265.078 Q924.919 261.467 924.919 255.309 Q924.919 248.944 928.345 245.217 Q931.794 241.467 937.628 241.467 Q942.859 241.467 945.892 244.846 Q948.947 248.203 948.947 253.99 M944.688 252.74 Q944.642 249.245 942.72 247.161 Q940.822 245.078 937.674 245.078 Q934.109 245.078 931.956 247.092 Q929.827 249.106 929.503 252.763 L944.688 252.74 Z\" fill=\"#000000\" fill-rule=\"evenodd\" fill-opacity=\"1\" /></svg>\n"
      ]
     },
     "execution_count": 221,
     "metadata": {},
     "output_type": "execute_result"
    }
   ],
   "source": [
    "using Polynomials\n",
    "x = collect(x)\n",
    "\n",
    "line_fit = fit(x,y_observed,2)\n",
    "fit_coeff = coeffs(line_fit)\n",
    "y_fitpol = fit_coeff[1] .+ (fit_coeff[2] .* x) .+ (fit_coeff[3] .* (x.^2))\n",
    "\n",
    "\n",
    "scatter(x, y_observed)\n",
    "plot!(x, y_true, label = \"True Line\")\n",
    "plot!(x, y_fitpol, label= \"Fitted Polynomial Line\")"
   ]
  },
  {
   "cell_type": "markdown",
   "metadata": {},
   "source": [
    "### 2.4\n",
    "\n",
    "1. Repeat 2.2 and 2.3 with a noise with a standard deviation of 50"
   ]
  },
  {
   "cell_type": "code",
   "execution_count": 222,
   "metadata": {
    "scrolled": false
   },
   "outputs": [
    {
     "data": {
      "image/svg+xml": [
       "<?xml version=\"1.0\" encoding=\"utf-8\"?>\n",
       "<svg xmlns=\"http://www.w3.org/2000/svg\" xmlns:xlink=\"http://www.w3.org/1999/xlink\" width=\"600\" height=\"400\" viewBox=\"0 0 2400 1600\">\n",
       "<defs>\n",
       "  <clipPath id=\"clip080\">\n",
       "    <rect x=\"0\" y=\"0\" width=\"2400\" height=\"1600\"/>\n",
       "  </clipPath>\n",
       "</defs>\n",
       "<path clip-path=\"url(#clip080)\" d=\"M0 1600 L2400 1600 L2400 0 L0 0  Z\" fill=\"#ffffff\" fill-rule=\"evenodd\" fill-opacity=\"1\"/>\n",
       "<defs>\n",
       "  <clipPath id=\"clip081\">\n",
       "    <rect x=\"480\" y=\"0\" width=\"1681\" height=\"1600\"/>\n",
       "  </clipPath>\n",
       "</defs>\n",
       "<path clip-path=\"url(#clip080)\" d=\"M178.867 1486.45 L2352.76 1486.45 L2352.76 47.2441 L178.867 47.2441  Z\" fill=\"#ffffff\" fill-rule=\"evenodd\" fill-opacity=\"1\"/>\n",
       "<defs>\n",
       "  <clipPath id=\"clip082\">\n",
       "    <rect x=\"178\" y=\"47\" width=\"2175\" height=\"1440\"/>\n",
       "  </clipPath>\n",
       "</defs>\n",
       "<polyline clip-path=\"url(#clip082)\" style=\"stroke:#000000; stroke-linecap:round; stroke-linejoin:round; stroke-width:2; stroke-opacity:0.1; fill:none\" points=\"240.392,1486.45 240.392,47.2441 \"/>\n",
       "<polyline clip-path=\"url(#clip082)\" style=\"stroke:#000000; stroke-linecap:round; stroke-linejoin:round; stroke-width:2; stroke-opacity:0.1; fill:none\" points=\"753.102,1486.45 753.102,47.2441 \"/>\n",
       "<polyline clip-path=\"url(#clip082)\" style=\"stroke:#000000; stroke-linecap:round; stroke-linejoin:round; stroke-width:2; stroke-opacity:0.1; fill:none\" points=\"1265.81,1486.45 1265.81,47.2441 \"/>\n",
       "<polyline clip-path=\"url(#clip082)\" style=\"stroke:#000000; stroke-linecap:round; stroke-linejoin:round; stroke-width:2; stroke-opacity:0.1; fill:none\" points=\"1778.52,1486.45 1778.52,47.2441 \"/>\n",
       "<polyline clip-path=\"url(#clip082)\" style=\"stroke:#000000; stroke-linecap:round; stroke-linejoin:round; stroke-width:2; stroke-opacity:0.1; fill:none\" points=\"2291.23,1486.45 2291.23,47.2441 \"/>\n",
       "<polyline clip-path=\"url(#clip080)\" style=\"stroke:#000000; stroke-linecap:round; stroke-linejoin:round; stroke-width:4; stroke-opacity:1; fill:none\" points=\"178.867,1486.45 2352.76,1486.45 \"/>\n",
       "<polyline clip-path=\"url(#clip080)\" style=\"stroke:#000000; stroke-linecap:round; stroke-linejoin:round; stroke-width:4; stroke-opacity:1; fill:none\" points=\"240.392,1486.45 240.392,1467.55 \"/>\n",
       "<polyline clip-path=\"url(#clip080)\" style=\"stroke:#000000; stroke-linecap:round; stroke-linejoin:round; stroke-width:4; stroke-opacity:1; fill:none\" points=\"753.102,1486.45 753.102,1467.55 \"/>\n",
       "<polyline clip-path=\"url(#clip080)\" style=\"stroke:#000000; stroke-linecap:round; stroke-linejoin:round; stroke-width:4; stroke-opacity:1; fill:none\" points=\"1265.81,1486.45 1265.81,1467.55 \"/>\n",
       "<polyline clip-path=\"url(#clip080)\" style=\"stroke:#000000; stroke-linecap:round; stroke-linejoin:round; stroke-width:4; stroke-opacity:1; fill:none\" points=\"1778.52,1486.45 1778.52,1467.55 \"/>\n",
       "<polyline clip-path=\"url(#clip080)\" style=\"stroke:#000000; stroke-linecap:round; stroke-linejoin:round; stroke-width:4; stroke-opacity:1; fill:none\" points=\"2291.23,1486.45 2291.23,1467.55 \"/>\n",
       "<path clip-path=\"url(#clip080)\" d=\"M194.455 1532.02 L224.13 1532.02 L224.13 1535.95 L194.455 1535.95 L194.455 1532.02 Z\" fill=\"#000000\" fill-rule=\"evenodd\" fill-opacity=\"1\" /><path clip-path=\"url(#clip080)\" d=\"M235.033 1544.91 L242.672 1544.91 L242.672 1518.55 L234.362 1520.21 L234.362 1515.95 L242.626 1514.29 L247.301 1514.29 L247.301 1544.91 L254.94 1544.91 L254.94 1548.85 L235.033 1548.85 L235.033 1544.91 Z\" fill=\"#000000\" fill-rule=\"evenodd\" fill-opacity=\"1\" /><path clip-path=\"url(#clip080)\" d=\"M274.385 1517.37 Q270.774 1517.37 268.945 1520.93 Q267.139 1524.47 267.139 1531.6 Q267.139 1538.71 268.945 1542.27 Q270.774 1545.82 274.385 1545.82 Q278.019 1545.82 279.824 1542.27 Q281.653 1538.71 281.653 1531.6 Q281.653 1524.47 279.824 1520.93 Q278.019 1517.37 274.385 1517.37 M274.385 1513.66 Q280.195 1513.66 283.25 1518.27 Q286.329 1522.85 286.329 1531.6 Q286.329 1540.33 283.25 1544.94 Q280.195 1549.52 274.385 1549.52 Q268.575 1549.52 265.496 1544.94 Q262.44 1540.33 262.44 1531.6 Q262.44 1522.85 265.496 1518.27 Q268.575 1513.66 274.385 1513.66 Z\" fill=\"#000000\" fill-rule=\"evenodd\" fill-opacity=\"1\" /><path clip-path=\"url(#clip080)\" d=\"M722.743 1532.02 L752.419 1532.02 L752.419 1535.95 L722.743 1535.95 L722.743 1532.02 Z\" fill=\"#000000\" fill-rule=\"evenodd\" fill-opacity=\"1\" /><path clip-path=\"url(#clip080)\" d=\"M762.558 1514.29 L780.914 1514.29 L780.914 1518.22 L766.84 1518.22 L766.84 1526.7 Q767.858 1526.35 768.877 1526.19 Q769.895 1526 770.914 1526 Q776.701 1526 780.081 1529.17 Q783.46 1532.34 783.46 1537.76 Q783.46 1543.34 779.988 1546.44 Q776.516 1549.52 770.196 1549.52 Q768.02 1549.52 765.752 1549.15 Q763.507 1548.78 761.099 1548.04 L761.099 1543.34 Q763.183 1544.47 765.405 1545.03 Q767.627 1545.58 770.104 1545.58 Q774.108 1545.58 776.446 1543.48 Q778.784 1541.37 778.784 1537.76 Q778.784 1534.15 776.446 1532.04 Q774.108 1529.94 770.104 1529.94 Q768.229 1529.94 766.354 1530.35 Q764.502 1530.77 762.558 1531.65 L762.558 1514.29 Z\" fill=\"#000000\" fill-rule=\"evenodd\" fill-opacity=\"1\" /><path clip-path=\"url(#clip080)\" d=\"M1265.81 1517.37 Q1262.2 1517.37 1260.37 1520.93 Q1258.57 1524.47 1258.57 1531.6 Q1258.57 1538.71 1260.37 1542.27 Q1262.2 1545.82 1265.81 1545.82 Q1269.45 1545.82 1271.25 1542.27 Q1273.08 1538.71 1273.08 1531.6 Q1273.08 1524.47 1271.25 1520.93 Q1269.45 1517.37 1265.81 1517.37 M1265.81 1513.66 Q1271.62 1513.66 1274.68 1518.27 Q1277.76 1522.85 1277.76 1531.6 Q1277.76 1540.33 1274.68 1544.94 Q1271.62 1549.52 1265.81 1549.52 Q1260 1549.52 1256.92 1544.94 Q1253.87 1540.33 1253.87 1531.6 Q1253.87 1522.85 1256.92 1518.27 Q1260 1513.66 1265.81 1513.66 Z\" fill=\"#000000\" fill-rule=\"evenodd\" fill-opacity=\"1\" /><path clip-path=\"url(#clip080)\" d=\"M1768.8 1514.29 L1787.16 1514.29 L1787.16 1518.22 L1773.08 1518.22 L1773.08 1526.7 Q1774.1 1526.35 1775.12 1526.19 Q1776.14 1526 1777.16 1526 Q1782.94 1526 1786.32 1529.17 Q1789.7 1532.34 1789.7 1537.76 Q1789.7 1543.34 1786.23 1546.44 Q1782.76 1549.52 1776.44 1549.52 Q1774.26 1549.52 1771.99 1549.15 Q1769.75 1548.78 1767.34 1548.04 L1767.34 1543.34 Q1769.42 1544.47 1771.65 1545.03 Q1773.87 1545.58 1776.35 1545.58 Q1780.35 1545.58 1782.69 1543.48 Q1785.03 1541.37 1785.03 1537.76 Q1785.03 1534.15 1782.69 1532.04 Q1780.35 1529.94 1776.35 1529.94 Q1774.47 1529.94 1772.6 1530.35 Q1770.74 1530.77 1768.8 1531.65 L1768.8 1514.29 Z\" fill=\"#000000\" fill-rule=\"evenodd\" fill-opacity=\"1\" /><path clip-path=\"url(#clip080)\" d=\"M2265.92 1544.91 L2273.56 1544.91 L2273.56 1518.55 L2265.25 1520.21 L2265.25 1515.95 L2273.51 1514.29 L2278.19 1514.29 L2278.19 1544.91 L2285.83 1544.91 L2285.83 1548.85 L2265.92 1548.85 L2265.92 1544.91 Z\" fill=\"#000000\" fill-rule=\"evenodd\" fill-opacity=\"1\" /><path clip-path=\"url(#clip080)\" d=\"M2305.27 1517.37 Q2301.66 1517.37 2299.83 1520.93 Q2298.02 1524.47 2298.02 1531.6 Q2298.02 1538.71 2299.83 1542.27 Q2301.66 1545.82 2305.27 1545.82 Q2308.9 1545.82 2310.71 1542.27 Q2312.54 1538.71 2312.54 1531.6 Q2312.54 1524.47 2310.71 1520.93 Q2308.9 1517.37 2305.27 1517.37 M2305.27 1513.66 Q2311.08 1513.66 2314.14 1518.27 Q2317.21 1522.85 2317.21 1531.6 Q2317.21 1540.33 2314.14 1544.94 Q2311.08 1549.52 2305.27 1549.52 Q2299.46 1549.52 2296.38 1544.94 Q2293.33 1540.33 2293.33 1531.6 Q2293.33 1522.85 2296.38 1518.27 Q2299.46 1513.66 2305.27 1513.66 Z\" fill=\"#000000\" fill-rule=\"evenodd\" fill-opacity=\"1\" /><polyline clip-path=\"url(#clip082)\" style=\"stroke:#000000; stroke-linecap:round; stroke-linejoin:round; stroke-width:2; stroke-opacity:0.1; fill:none\" points=\"178.867,1247.93 2352.76,1247.93 \"/>\n",
       "<polyline clip-path=\"url(#clip082)\" style=\"stroke:#000000; stroke-linecap:round; stroke-linejoin:round; stroke-width:2; stroke-opacity:0.1; fill:none\" points=\"178.867,996.532 2352.76,996.532 \"/>\n",
       "<polyline clip-path=\"url(#clip082)\" style=\"stroke:#000000; stroke-linecap:round; stroke-linejoin:round; stroke-width:2; stroke-opacity:0.1; fill:none\" points=\"178.867,745.13 2352.76,745.13 \"/>\n",
       "<polyline clip-path=\"url(#clip082)\" style=\"stroke:#000000; stroke-linecap:round; stroke-linejoin:round; stroke-width:2; stroke-opacity:0.1; fill:none\" points=\"178.867,493.729 2352.76,493.729 \"/>\n",
       "<polyline clip-path=\"url(#clip082)\" style=\"stroke:#000000; stroke-linecap:round; stroke-linejoin:round; stroke-width:2; stroke-opacity:0.1; fill:none\" points=\"178.867,242.327 2352.76,242.327 \"/>\n",
       "<polyline clip-path=\"url(#clip080)\" style=\"stroke:#000000; stroke-linecap:round; stroke-linejoin:round; stroke-width:4; stroke-opacity:1; fill:none\" points=\"178.867,1486.45 178.867,47.2441 \"/>\n",
       "<polyline clip-path=\"url(#clip080)\" style=\"stroke:#000000; stroke-linecap:round; stroke-linejoin:round; stroke-width:4; stroke-opacity:1; fill:none\" points=\"178.867,1247.93 197.764,1247.93 \"/>\n",
       "<polyline clip-path=\"url(#clip080)\" style=\"stroke:#000000; stroke-linecap:round; stroke-linejoin:round; stroke-width:4; stroke-opacity:1; fill:none\" points=\"178.867,996.532 197.764,996.532 \"/>\n",
       "<polyline clip-path=\"url(#clip080)\" style=\"stroke:#000000; stroke-linecap:round; stroke-linejoin:round; stroke-width:4; stroke-opacity:1; fill:none\" points=\"178.867,745.13 197.764,745.13 \"/>\n",
       "<polyline clip-path=\"url(#clip080)\" style=\"stroke:#000000; stroke-linecap:round; stroke-linejoin:round; stroke-width:4; stroke-opacity:1; fill:none\" points=\"178.867,493.729 197.764,493.729 \"/>\n",
       "<polyline clip-path=\"url(#clip080)\" style=\"stroke:#000000; stroke-linecap:round; stroke-linejoin:round; stroke-width:4; stroke-opacity:1; fill:none\" points=\"178.867,242.327 197.764,242.327 \"/>\n",
       "<path clip-path=\"url(#clip080)\" d=\"M50.9921 1248.38 L80.6679 1248.38 L80.6679 1252.32 L50.9921 1252.32 L50.9921 1248.38 Z\" fill=\"#000000\" fill-rule=\"evenodd\" fill-opacity=\"1\" /><path clip-path=\"url(#clip080)\" d=\"M90.8067 1230.65 L109.163 1230.65 L109.163 1234.59 L95.0891 1234.59 L95.0891 1243.06 Q96.1076 1242.71 97.1261 1242.55 Q98.1447 1242.37 99.1632 1242.37 Q104.95 1242.37 108.33 1245.54 Q111.709 1248.71 111.709 1254.13 Q111.709 1259.7 108.237 1262.81 Q104.765 1265.88 98.4456 1265.88 Q96.2697 1265.88 94.0012 1265.51 Q91.7558 1265.14 89.3484 1264.4 L89.3484 1259.7 Q91.4317 1260.84 93.6539 1261.39 Q95.8761 1261.95 98.353 1261.95 Q102.358 1261.95 104.696 1259.84 Q107.033 1257.74 107.033 1254.13 Q107.033 1250.51 104.696 1248.41 Q102.358 1246.3 98.353 1246.3 Q96.478 1246.3 94.603 1246.72 Q92.7512 1247.13 90.8067 1248.01 L90.8067 1230.65 Z\" fill=\"#000000\" fill-rule=\"evenodd\" fill-opacity=\"1\" /><path clip-path=\"url(#clip080)\" d=\"M130.922 1233.73 Q127.311 1233.73 125.482 1237.3 Q123.677 1240.84 123.677 1247.97 Q123.677 1255.07 125.482 1258.64 Q127.311 1262.18 130.922 1262.18 Q134.556 1262.18 136.362 1258.64 Q138.191 1255.07 138.191 1247.97 Q138.191 1240.84 136.362 1237.3 Q134.556 1233.73 130.922 1233.73 M130.922 1230.03 Q136.732 1230.03 139.788 1234.63 Q142.867 1239.22 142.867 1247.97 Q142.867 1256.69 139.788 1261.3 Q136.732 1265.88 130.922 1265.88 Q125.112 1265.88 122.033 1261.3 Q118.978 1256.69 118.978 1247.97 Q118.978 1239.22 122.033 1234.63 Q125.112 1230.03 130.922 1230.03 Z\" fill=\"#000000\" fill-rule=\"evenodd\" fill-opacity=\"1\" /><path clip-path=\"url(#clip080)\" d=\"M130.922 982.33 Q127.311 982.33 125.482 985.895 Q123.677 989.437 123.677 996.566 Q123.677 1003.67 125.482 1007.24 Q127.311 1010.78 130.922 1010.78 Q134.556 1010.78 136.362 1007.24 Q138.191 1003.67 138.191 996.566 Q138.191 989.437 136.362 985.895 Q134.556 982.33 130.922 982.33 M130.922 978.627 Q136.732 978.627 139.788 983.233 Q142.867 987.816 142.867 996.566 Q142.867 1005.29 139.788 1009.9 Q136.732 1014.48 130.922 1014.48 Q125.112 1014.48 122.033 1009.9 Q118.978 1005.29 118.978 996.566 Q118.978 987.816 122.033 983.233 Q125.112 978.627 130.922 978.627 Z\" fill=\"#000000\" fill-rule=\"evenodd\" fill-opacity=\"1\" /><path clip-path=\"url(#clip080)\" d=\"M90.8067 727.85 L109.163 727.85 L109.163 731.785 L95.0891 731.785 L95.0891 740.258 Q96.1076 739.91 97.1261 739.748 Q98.1447 739.563 99.1632 739.563 Q104.95 739.563 108.33 742.734 Q111.709 745.906 111.709 751.322 Q111.709 756.901 108.237 760.003 Q104.765 763.082 98.4456 763.082 Q96.2697 763.082 94.0012 762.711 Q91.7558 762.341 89.3484 761.6 L89.3484 756.901 Q91.4317 758.035 93.6539 758.591 Q95.8761 759.146 98.353 759.146 Q102.358 759.146 104.696 757.04 Q107.033 754.933 107.033 751.322 Q107.033 747.711 104.696 745.605 Q102.358 743.498 98.353 743.498 Q96.478 743.498 94.603 743.915 Q92.7512 744.332 90.8067 745.211 L90.8067 727.85 Z\" fill=\"#000000\" fill-rule=\"evenodd\" fill-opacity=\"1\" /><path clip-path=\"url(#clip080)\" d=\"M130.922 730.929 Q127.311 730.929 125.482 734.494 Q123.677 738.035 123.677 745.165 Q123.677 752.271 125.482 755.836 Q127.311 759.378 130.922 759.378 Q134.556 759.378 136.362 755.836 Q138.191 752.271 138.191 745.165 Q138.191 738.035 136.362 734.494 Q134.556 730.929 130.922 730.929 M130.922 727.225 Q136.732 727.225 139.788 731.832 Q142.867 736.415 142.867 745.165 Q142.867 753.892 139.788 758.498 Q136.732 763.082 130.922 763.082 Q125.112 763.082 122.033 758.498 Q118.978 753.892 118.978 745.165 Q118.978 736.415 122.033 731.832 Q125.112 727.225 130.922 727.225 Z\" fill=\"#000000\" fill-rule=\"evenodd\" fill-opacity=\"1\" /><path clip-path=\"url(#clip080)\" d=\"M61.4087 507.074 L69.0476 507.074 L69.0476 480.708 L60.7374 482.375 L60.7374 478.115 L69.0013 476.449 L73.6772 476.449 L73.6772 507.074 L81.316 507.074 L81.316 511.009 L61.4087 511.009 L61.4087 507.074 Z\" fill=\"#000000\" fill-rule=\"evenodd\" fill-opacity=\"1\" /><path clip-path=\"url(#clip080)\" d=\"M100.76 479.528 Q97.1493 479.528 95.3206 483.092 Q93.515 486.634 93.515 493.764 Q93.515 500.87 95.3206 504.435 Q97.1493 507.976 100.76 507.976 Q104.395 507.976 106.2 504.435 Q108.029 500.87 108.029 493.764 Q108.029 486.634 106.2 483.092 Q104.395 479.528 100.76 479.528 M100.76 475.824 Q106.571 475.824 109.626 480.43 Q112.705 485.014 112.705 493.764 Q112.705 502.49 109.626 507.097 Q106.571 511.68 100.76 511.68 Q94.9502 511.68 91.8715 507.097 Q88.816 502.49 88.816 493.764 Q88.816 485.014 91.8715 480.43 Q94.9502 475.824 100.76 475.824 Z\" fill=\"#000000\" fill-rule=\"evenodd\" fill-opacity=\"1\" /><path clip-path=\"url(#clip080)\" d=\"M130.922 479.528 Q127.311 479.528 125.482 483.092 Q123.677 486.634 123.677 493.764 Q123.677 500.87 125.482 504.435 Q127.311 507.976 130.922 507.976 Q134.556 507.976 136.362 504.435 Q138.191 500.87 138.191 493.764 Q138.191 486.634 136.362 483.092 Q134.556 479.528 130.922 479.528 M130.922 475.824 Q136.732 475.824 139.788 480.43 Q142.867 485.014 142.867 493.764 Q142.867 502.49 139.788 507.097 Q136.732 511.68 130.922 511.68 Q125.112 511.68 122.033 507.097 Q118.978 502.49 118.978 493.764 Q118.978 485.014 122.033 480.43 Q125.112 475.824 130.922 475.824 Z\" fill=\"#000000\" fill-rule=\"evenodd\" fill-opacity=\"1\" /><path clip-path=\"url(#clip080)\" d=\"M61.4087 255.672 L69.0476 255.672 L69.0476 229.307 L60.7374 230.973 L60.7374 226.714 L69.0013 225.047 L73.6772 225.047 L73.6772 255.672 L81.316 255.672 L81.316 259.607 L61.4087 259.607 L61.4087 255.672 Z\" fill=\"#000000\" fill-rule=\"evenodd\" fill-opacity=\"1\" /><path clip-path=\"url(#clip080)\" d=\"M90.8067 225.047 L109.163 225.047 L109.163 228.983 L95.0891 228.983 L95.0891 237.455 Q96.1076 237.107 97.1261 236.945 Q98.1447 236.76 99.1632 236.76 Q104.95 236.76 108.33 239.932 Q111.709 243.103 111.709 248.519 Q111.709 254.098 108.237 257.2 Q104.765 260.279 98.4456 260.279 Q96.2697 260.279 94.0012 259.908 Q91.7558 259.538 89.3484 258.797 L89.3484 254.098 Q91.4317 255.232 93.6539 255.788 Q95.8761 256.344 98.353 256.344 Q102.358 256.344 104.696 254.237 Q107.033 252.131 107.033 248.519 Q107.033 244.908 104.696 242.802 Q102.358 240.695 98.353 240.695 Q96.478 240.695 94.603 241.112 Q92.7512 241.529 90.8067 242.408 L90.8067 225.047 Z\" fill=\"#000000\" fill-rule=\"evenodd\" fill-opacity=\"1\" /><path clip-path=\"url(#clip080)\" d=\"M130.922 228.126 Q127.311 228.126 125.482 231.691 Q123.677 235.233 123.677 242.362 Q123.677 249.469 125.482 253.033 Q127.311 256.575 130.922 256.575 Q134.556 256.575 136.362 253.033 Q138.191 249.469 138.191 242.362 Q138.191 235.233 136.362 231.691 Q134.556 228.126 130.922 228.126 M130.922 224.422 Q136.732 224.422 139.788 229.029 Q142.867 233.612 142.867 242.362 Q142.867 251.089 139.788 255.695 Q136.732 260.279 130.922 260.279 Q125.112 260.279 122.033 255.695 Q118.978 251.089 118.978 242.362 Q118.978 233.612 122.033 229.029 Q125.112 224.422 130.922 224.422 Z\" fill=\"#000000\" fill-rule=\"evenodd\" fill-opacity=\"1\" /><circle clip-path=\"url(#clip082)\" cx=\"240.392\" cy=\"314.332\" r=\"14.4\" fill=\"#009af9\" fill-rule=\"evenodd\" fill-opacity=\"1\" stroke=\"#000000\" stroke-opacity=\"1\" stroke-width=\"3.2\"/>\n",
       "<circle clip-path=\"url(#clip082)\" cx=\"342.934\" cy=\"871.633\" r=\"14.4\" fill=\"#009af9\" fill-rule=\"evenodd\" fill-opacity=\"1\" stroke=\"#000000\" stroke-opacity=\"1\" stroke-width=\"3.2\"/>\n",
       "<circle clip-path=\"url(#clip082)\" cx=\"445.476\" cy=\"907.786\" r=\"14.4\" fill=\"#009af9\" fill-rule=\"evenodd\" fill-opacity=\"1\" stroke=\"#000000\" stroke-opacity=\"1\" stroke-width=\"3.2\"/>\n",
       "<circle clip-path=\"url(#clip082)\" cx=\"548.018\" cy=\"382.528\" r=\"14.4\" fill=\"#009af9\" fill-rule=\"evenodd\" fill-opacity=\"1\" stroke=\"#000000\" stroke-opacity=\"1\" stroke-width=\"3.2\"/>\n",
       "<circle clip-path=\"url(#clip082)\" cx=\"650.56\" cy=\"1234.36\" r=\"14.4\" fill=\"#009af9\" fill-rule=\"evenodd\" fill-opacity=\"1\" stroke=\"#000000\" stroke-opacity=\"1\" stroke-width=\"3.2\"/>\n",
       "<circle clip-path=\"url(#clip082)\" cx=\"753.102\" cy=\"1252.62\" r=\"14.4\" fill=\"#009af9\" fill-rule=\"evenodd\" fill-opacity=\"1\" stroke=\"#000000\" stroke-opacity=\"1\" stroke-width=\"3.2\"/>\n",
       "<circle clip-path=\"url(#clip082)\" cx=\"855.643\" cy=\"1072.04\" r=\"14.4\" fill=\"#009af9\" fill-rule=\"evenodd\" fill-opacity=\"1\" stroke=\"#000000\" stroke-opacity=\"1\" stroke-width=\"3.2\"/>\n",
       "<circle clip-path=\"url(#clip082)\" cx=\"958.185\" cy=\"1214.73\" r=\"14.4\" fill=\"#009af9\" fill-rule=\"evenodd\" fill-opacity=\"1\" stroke=\"#000000\" stroke-opacity=\"1\" stroke-width=\"3.2\"/>\n",
       "<circle clip-path=\"url(#clip082)\" cx=\"1060.73\" cy=\"820.579\" r=\"14.4\" fill=\"#009af9\" fill-rule=\"evenodd\" fill-opacity=\"1\" stroke=\"#000000\" stroke-opacity=\"1\" stroke-width=\"3.2\"/>\n",
       "<circle clip-path=\"url(#clip082)\" cx=\"1163.27\" cy=\"986.392\" r=\"14.4\" fill=\"#009af9\" fill-rule=\"evenodd\" fill-opacity=\"1\" stroke=\"#000000\" stroke-opacity=\"1\" stroke-width=\"3.2\"/>\n",
       "<circle clip-path=\"url(#clip082)\" cx=\"1265.81\" cy=\"1410.67\" r=\"14.4\" fill=\"#009af9\" fill-rule=\"evenodd\" fill-opacity=\"1\" stroke=\"#000000\" stroke-opacity=\"1\" stroke-width=\"3.2\"/>\n",
       "<circle clip-path=\"url(#clip082)\" cx=\"1368.35\" cy=\"537.149\" r=\"14.4\" fill=\"#009af9\" fill-rule=\"evenodd\" fill-opacity=\"1\" stroke=\"#000000\" stroke-opacity=\"1\" stroke-width=\"3.2\"/>\n",
       "<circle clip-path=\"url(#clip082)\" cx=\"1470.9\" cy=\"1445.72\" r=\"14.4\" fill=\"#009af9\" fill-rule=\"evenodd\" fill-opacity=\"1\" stroke=\"#000000\" stroke-opacity=\"1\" stroke-width=\"3.2\"/>\n",
       "<circle clip-path=\"url(#clip082)\" cx=\"1573.44\" cy=\"978.621\" r=\"14.4\" fill=\"#009af9\" fill-rule=\"evenodd\" fill-opacity=\"1\" stroke=\"#000000\" stroke-opacity=\"1\" stroke-width=\"3.2\"/>\n",
       "<circle clip-path=\"url(#clip082)\" cx=\"1675.98\" cy=\"927.463\" r=\"14.4\" fill=\"#009af9\" fill-rule=\"evenodd\" fill-opacity=\"1\" stroke=\"#000000\" stroke-opacity=\"1\" stroke-width=\"3.2\"/>\n",
       "<circle clip-path=\"url(#clip082)\" cx=\"1778.52\" cy=\"702.587\" r=\"14.4\" fill=\"#009af9\" fill-rule=\"evenodd\" fill-opacity=\"1\" stroke=\"#000000\" stroke-opacity=\"1\" stroke-width=\"3.2\"/>\n",
       "<circle clip-path=\"url(#clip082)\" cx=\"1881.06\" cy=\"999.736\" r=\"14.4\" fill=\"#009af9\" fill-rule=\"evenodd\" fill-opacity=\"1\" stroke=\"#000000\" stroke-opacity=\"1\" stroke-width=\"3.2\"/>\n",
       "<circle clip-path=\"url(#clip082)\" cx=\"1983.6\" cy=\"563.678\" r=\"14.4\" fill=\"#009af9\" fill-rule=\"evenodd\" fill-opacity=\"1\" stroke=\"#000000\" stroke-opacity=\"1\" stroke-width=\"3.2\"/>\n",
       "<circle clip-path=\"url(#clip082)\" cx=\"2086.15\" cy=\"130.821\" r=\"14.4\" fill=\"#009af9\" fill-rule=\"evenodd\" fill-opacity=\"1\" stroke=\"#000000\" stroke-opacity=\"1\" stroke-width=\"3.2\"/>\n",
       "<circle clip-path=\"url(#clip082)\" cx=\"2188.69\" cy=\"87.9763\" r=\"14.4\" fill=\"#009af9\" fill-rule=\"evenodd\" fill-opacity=\"1\" stroke=\"#000000\" stroke-opacity=\"1\" stroke-width=\"3.2\"/>\n",
       "<circle clip-path=\"url(#clip082)\" cx=\"2291.23\" cy=\"481.703\" r=\"14.4\" fill=\"#009af9\" fill-rule=\"evenodd\" fill-opacity=\"1\" stroke=\"#000000\" stroke-opacity=\"1\" stroke-width=\"3.2\"/>\n",
       "<polyline clip-path=\"url(#clip082)\" style=\"stroke:#e26f46; stroke-linecap:round; stroke-linejoin:round; stroke-width:4; stroke-opacity:1; fill:none\" points=\"240.392,654.626 342.934,735.074 445.476,805.467 548.018,865.803 650.56,916.083 753.102,956.307 855.643,986.476 958.185,1006.59 1060.73,1016.64 1163.27,1016.64 1265.81,1006.59 1368.35,986.476 1470.9,956.307 1573.44,916.083 1675.98,865.803 1778.52,805.467 1881.06,735.074 1983.6,654.626 2086.15,564.121 2188.69,463.561 2291.23,352.944 \"/>\n",
       "<polyline clip-path=\"url(#clip082)\" style=\"stroke:#3da44d; stroke-linecap:round; stroke-linejoin:round; stroke-width:4; stroke-opacity:1; fill:none\" points=\"240.392,529.818 342.934,657.23 445.476,769.184 548.018,865.679 650.56,946.716 753.102,1012.3 855.643,1062.42 958.185,1097.08 1060.73,1116.28 1163.27,1120.03 1265.81,1108.31 1368.35,1081.14 1470.9,1038.51 1573.44,980.425 1675.98,906.878 1778.52,817.874 1881.06,713.411 1983.6,593.49 2086.15,458.11 2188.69,307.272 2291.23,140.976 \"/>\n",
       "<path clip-path=\"url(#clip080)\" d=\"M1549.97 1438.47 L2280.29 1438.47 L2280.29 1231.11 L1549.97 1231.11  Z\" fill=\"#ffffff\" fill-rule=\"evenodd\" fill-opacity=\"1\"/>\n",
       "<polyline clip-path=\"url(#clip080)\" style=\"stroke:#000000; stroke-linecap:round; stroke-linejoin:round; stroke-width:4; stroke-opacity:1; fill:none\" points=\"1549.97,1438.47 2280.29,1438.47 2280.29,1231.11 1549.97,1231.11 1549.97,1438.47 \"/>\n",
       "<circle clip-path=\"url(#clip080)\" cx=\"1646.58\" cy=\"1282.95\" r=\"23.04\" fill=\"#009af9\" fill-rule=\"evenodd\" fill-opacity=\"1\" stroke=\"#000000\" stroke-opacity=\"1\" stroke-width=\"5.12\"/>\n",
       "<path clip-path=\"url(#clip080)\" d=\"M1757.04 1302.64 Q1755.24 1307.27 1753.53 1308.68 Q1751.81 1310.1 1748.94 1310.1 L1745.54 1310.1 L1745.54 1306.53 L1748.04 1306.53 Q1749.8 1306.53 1750.77 1305.7 Q1751.74 1304.86 1752.92 1301.76 L1753.69 1299.82 L1743.2 1274.31 L1747.72 1274.31 L1755.82 1294.59 L1763.92 1274.31 L1768.43 1274.31 L1757.04 1302.64 Z\" fill=\"#000000\" fill-rule=\"evenodd\" fill-opacity=\"1\" /><path clip-path=\"url(#clip080)\" d=\"M1775.72 1296.3 L1783.36 1296.3 L1783.36 1269.93 L1775.05 1271.6 L1775.05 1267.34 L1783.32 1265.67 L1787.99 1265.67 L1787.99 1296.3 L1795.63 1296.3 L1795.63 1300.23 L1775.72 1300.23 L1775.72 1296.3 Z\" fill=\"#000000\" fill-rule=\"evenodd\" fill-opacity=\"1\" /><polyline clip-path=\"url(#clip080)\" style=\"stroke:#e26f46; stroke-linecap:round; stroke-linejoin:round; stroke-width:4; stroke-opacity:1; fill:none\" points=\"1574.12,1334.79 1719.05,1334.79 \"/>\n",
       "<path clip-path=\"url(#clip080)\" d=\"M1743.2 1317.51 L1772.44 1317.51 L1772.44 1321.45 L1760.17 1321.45 L1760.17 1352.07 L1755.47 1352.07 L1755.47 1321.45 L1743.2 1321.45 L1743.2 1317.51 Z\" fill=\"#000000\" fill-rule=\"evenodd\" fill-opacity=\"1\" /><path clip-path=\"url(#clip080)\" d=\"M1784.82 1330.13 Q1784.1 1329.71 1783.25 1329.53 Q1782.41 1329.32 1781.4 1329.32 Q1777.78 1329.32 1775.84 1331.68 Q1773.92 1334.02 1773.92 1338.42 L1773.92 1352.07 L1769.64 1352.07 L1769.64 1326.15 L1773.92 1326.15 L1773.92 1330.18 Q1775.26 1327.82 1777.41 1326.68 Q1779.57 1325.52 1782.65 1325.52 Q1783.09 1325.52 1783.62 1325.59 Q1784.15 1325.64 1784.8 1325.76 L1784.82 1330.13 Z\" fill=\"#000000\" fill-rule=\"evenodd\" fill-opacity=\"1\" /><path clip-path=\"url(#clip080)\" d=\"M1788.85 1341.84 L1788.85 1326.15 L1793.11 1326.15 L1793.11 1341.68 Q1793.11 1345.36 1794.54 1347.21 Q1795.98 1349.04 1798.85 1349.04 Q1802.3 1349.04 1804.29 1346.84 Q1806.3 1344.64 1806.3 1340.85 L1806.3 1326.15 L1810.56 1326.15 L1810.56 1352.07 L1806.3 1352.07 L1806.3 1348.09 Q1804.75 1350.45 1802.69 1351.61 Q1800.65 1352.75 1797.95 1352.75 Q1793.48 1352.75 1791.16 1349.97 Q1788.85 1347.19 1788.85 1341.84 M1799.57 1325.52 L1799.57 1325.52 Z\" fill=\"#000000\" fill-rule=\"evenodd\" fill-opacity=\"1\" /><path clip-path=\"url(#clip080)\" d=\"M1841.51 1338.05 L1841.51 1340.13 L1821.93 1340.13 Q1822.21 1344.53 1824.57 1346.84 Q1826.95 1349.13 1831.19 1349.13 Q1833.64 1349.13 1835.93 1348.53 Q1838.25 1347.93 1840.52 1346.73 L1840.52 1350.75 Q1838.22 1351.73 1835.82 1352.24 Q1833.41 1352.75 1830.93 1352.75 Q1824.73 1352.75 1821.09 1349.13 Q1817.48 1345.52 1817.48 1339.37 Q1817.48 1333 1820.91 1329.27 Q1824.36 1325.52 1830.19 1325.52 Q1835.42 1325.52 1838.46 1328.9 Q1841.51 1332.26 1841.51 1338.05 M1837.25 1336.8 Q1837.21 1333.3 1835.28 1331.22 Q1833.39 1329.13 1830.24 1329.13 Q1826.67 1329.13 1824.52 1331.15 Q1822.39 1333.16 1822.07 1336.82 L1837.25 1336.8 Z\" fill=\"#000000\" fill-rule=\"evenodd\" fill-opacity=\"1\" /><path clip-path=\"url(#clip080)\" d=\"M1863.76 1317.51 L1868.43 1317.51 L1868.43 1348.14 L1885.26 1348.14 L1885.26 1352.07 L1863.76 1352.07 L1863.76 1317.51 Z\" fill=\"#000000\" fill-rule=\"evenodd\" fill-opacity=\"1\" /><path clip-path=\"url(#clip080)\" d=\"M1889.98 1326.15 L1894.24 1326.15 L1894.24 1352.07 L1889.98 1352.07 L1889.98 1326.15 M1889.98 1316.06 L1894.24 1316.06 L1894.24 1321.45 L1889.98 1321.45 L1889.98 1316.06 Z\" fill=\"#000000\" fill-rule=\"evenodd\" fill-opacity=\"1\" /><path clip-path=\"url(#clip080)\" d=\"M1924.71 1336.43 L1924.71 1352.07 L1920.45 1352.07 L1920.45 1336.57 Q1920.45 1332.88 1919.01 1331.06 Q1917.58 1329.23 1914.71 1329.23 Q1911.26 1329.23 1909.27 1331.43 Q1907.27 1333.63 1907.27 1337.42 L1907.27 1352.07 L1902.99 1352.07 L1902.99 1326.15 L1907.27 1326.15 L1907.27 1330.18 Q1908.8 1327.84 1910.86 1326.68 Q1912.95 1325.52 1915.65 1325.52 Q1920.12 1325.52 1922.41 1328.3 Q1924.71 1331.06 1924.71 1336.43 Z\" fill=\"#000000\" fill-rule=\"evenodd\" fill-opacity=\"1\" /><path clip-path=\"url(#clip080)\" d=\"M1955.38 1338.05 L1955.38 1340.13 L1935.79 1340.13 Q1936.07 1344.53 1938.43 1346.84 Q1940.82 1349.13 1945.05 1349.13 Q1947.51 1349.13 1949.8 1348.53 Q1952.11 1347.93 1954.38 1346.73 L1954.38 1350.75 Q1952.09 1351.73 1949.68 1352.24 Q1947.27 1352.75 1944.8 1352.75 Q1938.59 1352.75 1934.96 1349.13 Q1931.35 1345.52 1931.35 1339.37 Q1931.35 1333 1934.77 1329.27 Q1938.22 1325.52 1944.06 1325.52 Q1949.29 1325.52 1952.32 1328.9 Q1955.38 1332.26 1955.38 1338.05 M1951.12 1336.8 Q1951.07 1333.3 1949.15 1331.22 Q1947.25 1329.13 1944.1 1329.13 Q1940.54 1329.13 1938.39 1331.15 Q1936.26 1333.16 1935.93 1336.82 L1951.12 1336.8 Z\" fill=\"#000000\" fill-rule=\"evenodd\" fill-opacity=\"1\" /><polyline clip-path=\"url(#clip080)\" style=\"stroke:#3da44d; stroke-linecap:round; stroke-linejoin:round; stroke-width:4; stroke-opacity:1; fill:none\" points=\"1574.12,1386.63 1719.05,1386.63 \"/>\n",
       "<path clip-path=\"url(#clip080)\" d=\"M1743.2 1369.35 L1763.06 1369.35 L1763.06 1373.29 L1747.88 1373.29 L1747.88 1383.47 L1761.58 1383.47 L1761.58 1387.41 L1747.88 1387.41 L1747.88 1403.91 L1743.2 1403.91 L1743.2 1369.35 Z\" fill=\"#000000\" fill-rule=\"evenodd\" fill-opacity=\"1\" /><path clip-path=\"url(#clip080)\" d=\"M1766.84 1377.99 L1771.09 1377.99 L1771.09 1403.91 L1766.84 1403.91 L1766.84 1377.99 M1766.84 1367.9 L1771.09 1367.9 L1771.09 1373.29 L1766.84 1373.29 L1766.84 1367.9 Z\" fill=\"#000000\" fill-rule=\"evenodd\" fill-opacity=\"1\" /><path clip-path=\"url(#clip080)\" d=\"M1784.22 1370.63 L1784.22 1377.99 L1792.99 1377.99 L1792.99 1381.3 L1784.22 1381.3 L1784.22 1395.37 Q1784.22 1398.54 1785.08 1399.45 Q1785.96 1400.35 1788.62 1400.35 L1792.99 1400.35 L1792.99 1403.91 L1788.62 1403.91 Q1783.69 1403.91 1781.81 1402.09 Q1779.94 1400.23 1779.94 1395.37 L1779.94 1381.3 L1776.81 1381.3 L1776.81 1377.99 L1779.94 1377.99 L1779.94 1370.63 L1784.22 1370.63 Z\" fill=\"#000000\" fill-rule=\"evenodd\" fill-opacity=\"1\" /><path clip-path=\"url(#clip080)\" d=\"M1802.81 1370.63 L1802.81 1377.99 L1811.58 1377.99 L1811.58 1381.3 L1802.81 1381.3 L1802.81 1395.37 Q1802.81 1398.54 1803.66 1399.45 Q1804.54 1400.35 1807.21 1400.35 L1811.58 1400.35 L1811.58 1403.91 L1807.21 1403.91 Q1802.28 1403.91 1800.4 1402.09 Q1798.53 1400.23 1798.53 1395.37 L1798.53 1381.3 L1795.4 1381.3 L1795.4 1377.99 L1798.53 1377.99 L1798.53 1370.63 L1802.81 1370.63 Z\" fill=\"#000000\" fill-rule=\"evenodd\" fill-opacity=\"1\" /><path clip-path=\"url(#clip080)\" d=\"M1839.36 1389.89 L1839.36 1391.97 L1819.78 1391.97 Q1820.05 1396.37 1822.41 1398.68 Q1824.8 1400.97 1829.03 1400.97 Q1831.49 1400.97 1833.78 1400.37 Q1836.09 1399.77 1838.36 1398.57 L1838.36 1402.59 Q1836.07 1403.57 1833.66 1404.08 Q1831.26 1404.59 1828.78 1404.59 Q1822.58 1404.59 1818.94 1400.97 Q1815.33 1397.36 1815.33 1391.21 Q1815.33 1384.84 1818.76 1381.11 Q1822.21 1377.36 1828.04 1377.36 Q1833.27 1377.36 1836.3 1380.74 Q1839.36 1384.1 1839.36 1389.89 M1835.1 1388.64 Q1835.05 1385.14 1833.13 1383.06 Q1831.23 1380.97 1828.09 1380.97 Q1824.52 1380.97 1822.37 1382.99 Q1820.24 1385 1819.91 1388.66 L1835.1 1388.64 Z\" fill=\"#000000\" fill-rule=\"evenodd\" fill-opacity=\"1\" /><path clip-path=\"url(#clip080)\" d=\"M1863.41 1381.92 L1863.41 1367.9 L1867.67 1367.9 L1867.67 1403.91 L1863.41 1403.91 L1863.41 1400.03 Q1862.07 1402.34 1860.01 1403.47 Q1857.97 1404.59 1855.1 1404.59 Q1850.4 1404.59 1847.44 1400.84 Q1844.5 1397.09 1844.5 1390.97 Q1844.5 1384.86 1847.44 1381.11 Q1850.4 1377.36 1855.1 1377.36 Q1857.97 1377.36 1860.01 1378.5 Q1862.07 1379.61 1863.41 1381.92 M1848.9 1390.97 Q1848.9 1395.67 1850.82 1398.36 Q1852.76 1401.02 1856.14 1401.02 Q1859.52 1401.02 1861.46 1398.36 Q1863.41 1395.67 1863.41 1390.97 Q1863.41 1386.28 1861.46 1383.61 Q1859.52 1380.93 1856.14 1380.93 Q1852.76 1380.93 1850.82 1383.61 Q1848.9 1386.28 1848.9 1390.97 Z\" fill=\"#000000\" fill-rule=\"evenodd\" fill-opacity=\"1\" /><path clip-path=\"url(#clip080)\" d=\"M1896.37 1373.2 L1896.37 1386.18 L1902.25 1386.18 Q1905.52 1386.18 1907.3 1384.49 Q1909.08 1382.8 1909.08 1379.68 Q1909.08 1376.58 1907.3 1374.89 Q1905.52 1373.2 1902.25 1373.2 L1896.37 1373.2 M1891.7 1369.35 L1902.25 1369.35 Q1908.06 1369.35 1911.02 1371.99 Q1914.01 1374.61 1914.01 1379.68 Q1914.01 1384.79 1911.02 1387.41 Q1908.06 1390.03 1902.25 1390.03 L1896.37 1390.03 L1896.37 1403.91 L1891.7 1403.91 L1891.7 1369.35 Z\" fill=\"#000000\" fill-rule=\"evenodd\" fill-opacity=\"1\" /><path clip-path=\"url(#clip080)\" d=\"M1928.46 1380.97 Q1925.03 1380.97 1923.04 1383.66 Q1921.05 1386.32 1921.05 1390.97 Q1921.05 1395.63 1923.02 1398.31 Q1925.01 1400.97 1928.46 1400.97 Q1931.86 1400.97 1933.85 1398.29 Q1935.84 1395.6 1935.84 1390.97 Q1935.84 1386.37 1933.85 1383.68 Q1931.86 1380.97 1928.46 1380.97 M1928.46 1377.36 Q1934.01 1377.36 1937.18 1380.97 Q1940.35 1384.59 1940.35 1390.97 Q1940.35 1397.34 1937.18 1400.97 Q1934.01 1404.59 1928.46 1404.59 Q1922.88 1404.59 1919.71 1400.97 Q1916.56 1397.34 1916.56 1390.97 Q1916.56 1384.59 1919.71 1380.97 Q1922.88 1377.36 1928.46 1377.36 Z\" fill=\"#000000\" fill-rule=\"evenodd\" fill-opacity=\"1\" /><path clip-path=\"url(#clip080)\" d=\"M1947.41 1367.9 L1951.67 1367.9 L1951.67 1403.91 L1947.41 1403.91 L1947.41 1367.9 Z\" fill=\"#000000\" fill-rule=\"evenodd\" fill-opacity=\"1\" /><path clip-path=\"url(#clip080)\" d=\"M1971.37 1406.32 Q1969.57 1410.95 1967.85 1412.36 Q1966.14 1413.78 1963.27 1413.78 L1959.87 1413.78 L1959.87 1410.21 L1962.37 1410.21 Q1964.13 1410.21 1965.1 1409.38 Q1966.07 1408.54 1967.25 1405.44 L1968.02 1403.5 L1957.53 1377.99 L1962.04 1377.99 L1970.14 1398.27 L1978.25 1377.99 L1982.76 1377.99 L1971.37 1406.32 Z\" fill=\"#000000\" fill-rule=\"evenodd\" fill-opacity=\"1\" /><path clip-path=\"url(#clip080)\" d=\"M2010.19 1388.27 L2010.19 1403.91 L2005.93 1403.91 L2005.93 1388.41 Q2005.93 1384.72 2004.5 1382.9 Q2003.06 1381.07 2000.19 1381.07 Q1996.74 1381.07 1994.75 1383.27 Q1992.76 1385.47 1992.76 1389.26 L1992.76 1403.91 L1988.48 1403.91 L1988.48 1377.99 L1992.76 1377.99 L1992.76 1382.02 Q1994.29 1379.68 1996.35 1378.52 Q1998.43 1377.36 2001.14 1377.36 Q2005.61 1377.36 2007.9 1380.14 Q2010.19 1382.9 2010.19 1388.27 Z\" fill=\"#000000\" fill-rule=\"evenodd\" fill-opacity=\"1\" /><path clip-path=\"url(#clip080)\" d=\"M2028.73 1380.97 Q2025.31 1380.97 2023.32 1383.66 Q2021.33 1386.32 2021.33 1390.97 Q2021.33 1395.63 2023.29 1398.31 Q2025.28 1400.97 2028.73 1400.97 Q2032.14 1400.97 2034.13 1398.29 Q2036.12 1395.6 2036.12 1390.97 Q2036.12 1386.37 2034.13 1383.68 Q2032.14 1380.97 2028.73 1380.97 M2028.73 1377.36 Q2034.29 1377.36 2037.46 1380.97 Q2040.63 1384.59 2040.63 1390.97 Q2040.63 1397.34 2037.46 1400.97 Q2034.29 1404.59 2028.73 1404.59 Q2023.15 1404.59 2019.98 1400.97 Q2016.83 1397.34 2016.83 1390.97 Q2016.83 1384.59 2019.98 1380.97 Q2023.15 1377.36 2028.73 1377.36 Z\" fill=\"#000000\" fill-rule=\"evenodd\" fill-opacity=\"1\" /><path clip-path=\"url(#clip080)\" d=\"M2067.88 1382.97 Q2069.47 1380.1 2071.7 1378.73 Q2073.92 1377.36 2076.93 1377.36 Q2080.98 1377.36 2083.18 1380.21 Q2085.38 1383.03 2085.38 1388.27 L2085.38 1403.91 L2081.09 1403.91 L2081.09 1388.41 Q2081.09 1384.68 2079.77 1382.87 Q2078.45 1381.07 2075.75 1381.07 Q2072.44 1381.07 2070.51 1383.27 Q2068.59 1385.47 2068.59 1389.26 L2068.59 1403.91 L2064.31 1403.91 L2064.31 1388.41 Q2064.31 1384.66 2062.99 1382.87 Q2061.67 1381.07 2058.92 1381.07 Q2055.65 1381.07 2053.73 1383.29 Q2051.81 1385.49 2051.81 1389.26 L2051.81 1403.91 L2047.53 1403.91 L2047.53 1377.99 L2051.81 1377.99 L2051.81 1382.02 Q2053.27 1379.63 2055.31 1378.5 Q2057.34 1377.36 2060.14 1377.36 Q2062.97 1377.36 2064.94 1378.8 Q2066.93 1380.23 2067.88 1382.97 Z\" fill=\"#000000\" fill-rule=\"evenodd\" fill-opacity=\"1\" /><path clip-path=\"url(#clip080)\" d=\"M2093.87 1377.99 L2098.13 1377.99 L2098.13 1403.91 L2093.87 1403.91 L2093.87 1377.99 M2093.87 1367.9 L2098.13 1367.9 L2098.13 1373.29 L2093.87 1373.29 L2093.87 1367.9 Z\" fill=\"#000000\" fill-rule=\"evenodd\" fill-opacity=\"1\" /><path clip-path=\"url(#clip080)\" d=\"M2118.82 1390.88 Q2113.66 1390.88 2111.67 1392.06 Q2109.68 1393.24 2109.68 1396.09 Q2109.68 1398.36 2111.16 1399.7 Q2112.67 1401.02 2115.24 1401.02 Q2118.78 1401.02 2120.91 1398.52 Q2123.06 1396 2123.06 1391.83 L2123.06 1390.88 L2118.82 1390.88 M2127.32 1389.12 L2127.32 1403.91 L2123.06 1403.91 L2123.06 1399.98 Q2121.6 1402.34 2119.43 1403.47 Q2117.25 1404.59 2114.1 1404.59 Q2110.12 1404.59 2107.76 1402.36 Q2105.42 1400.12 2105.42 1396.37 Q2105.42 1391.99 2108.34 1389.77 Q2111.28 1387.55 2117.09 1387.55 L2123.06 1387.55 L2123.06 1387.13 Q2123.06 1384.19 2121.12 1382.6 Q2119.19 1380.97 2115.7 1380.97 Q2113.48 1380.97 2111.37 1381.51 Q2109.26 1382.04 2107.32 1383.1 L2107.32 1379.17 Q2109.66 1378.27 2111.86 1377.83 Q2114.06 1377.36 2116.14 1377.36 Q2121.76 1377.36 2124.54 1380.28 Q2127.32 1383.2 2127.32 1389.12 Z\" fill=\"#000000\" fill-rule=\"evenodd\" fill-opacity=\"1\" /><path clip-path=\"url(#clip080)\" d=\"M2136.09 1367.9 L2140.35 1367.9 L2140.35 1403.91 L2136.09 1403.91 L2136.09 1367.9 Z\" fill=\"#000000\" fill-rule=\"evenodd\" fill-opacity=\"1\" /><path clip-path=\"url(#clip080)\" d=\"M2164.52 1369.35 L2169.19 1369.35 L2169.19 1399.98 L2186.02 1399.98 L2186.02 1403.91 L2164.52 1403.91 L2164.52 1369.35 Z\" fill=\"#000000\" fill-rule=\"evenodd\" fill-opacity=\"1\" /><path clip-path=\"url(#clip080)\" d=\"M2190.75 1377.99 L2195 1377.99 L2195 1403.91 L2190.75 1403.91 L2190.75 1377.99 M2190.75 1367.9 L2195 1367.9 L2195 1373.29 L2190.75 1373.29 L2190.75 1367.9 Z\" fill=\"#000000\" fill-rule=\"evenodd\" fill-opacity=\"1\" /><path clip-path=\"url(#clip080)\" d=\"M2225.47 1388.27 L2225.47 1403.91 L2221.21 1403.91 L2221.21 1388.41 Q2221.21 1384.72 2219.77 1382.9 Q2218.34 1381.07 2215.47 1381.07 Q2212.02 1381.07 2210.03 1383.27 Q2208.04 1385.47 2208.04 1389.26 L2208.04 1403.91 L2203.75 1403.91 L2203.75 1377.99 L2208.04 1377.99 L2208.04 1382.02 Q2209.56 1379.68 2211.62 1378.52 Q2213.71 1377.36 2216.42 1377.36 Q2220.88 1377.36 2223.18 1380.14 Q2225.47 1382.9 2225.47 1388.27 Z\" fill=\"#000000\" fill-rule=\"evenodd\" fill-opacity=\"1\" /><path clip-path=\"url(#clip080)\" d=\"M2256.14 1389.89 L2256.14 1391.97 L2236.56 1391.97 Q2236.83 1396.37 2239.19 1398.68 Q2241.58 1400.97 2245.81 1400.97 Q2248.27 1400.97 2250.56 1400.37 Q2252.87 1399.77 2255.14 1398.57 L2255.14 1402.59 Q2252.85 1403.57 2250.44 1404.08 Q2248.04 1404.59 2245.56 1404.59 Q2239.36 1404.59 2235.72 1400.97 Q2232.11 1397.36 2232.11 1391.21 Q2232.11 1384.84 2235.54 1381.11 Q2238.99 1377.36 2244.82 1377.36 Q2250.05 1377.36 2253.08 1380.74 Q2256.14 1384.1 2256.14 1389.89 M2251.88 1388.64 Q2251.83 1385.14 2249.91 1383.06 Q2248.01 1380.97 2244.87 1380.97 Q2241.3 1380.97 2239.15 1382.99 Q2237.02 1385 2236.69 1388.66 L2251.88 1388.64 Z\" fill=\"#000000\" fill-rule=\"evenodd\" fill-opacity=\"1\" /></svg>\n"
      ]
     },
     "execution_count": 222,
     "metadata": {},
     "output_type": "execute_result"
    }
   ],
   "source": [
    "dataerror50 = 50.0\n",
    "noise50 = di.Normal(0, dataerror50)\n",
    "y_observed_new = y_true+rand(noise50, length(x))\n",
    "\n",
    "line_fit_new = fit(x,y_observed_new, 2)\n",
    "typeof(line_fit)\n",
    "fit_coeff_new = coeffs(line_fit_new)\n",
    "y_fitpol = fit_coeff_new[1] .+ (fit_coeff_new[2] .* x) .+ (fit_coeff_new[3] .* (x.^2))\n",
    "\n",
    "scatter(x, y_observed_new)\n",
    "plot!(x, y_true, label = \"True Line\")\n",
    "plot!(x, y_fitpol, label= \"Fitted Polynomial Line\")"
   ]
  },
  {
   "cell_type": "markdown",
   "metadata": {},
   "source": [
    "2. Compare the plot with the plot in 2.3. Is the fit closer to y_true or not, and why?"
   ]
  },
  {
   "cell_type": "markdown",
   "metadata": {},
   "source": [
    "The fit is not closer to y_true, due to the standard deviation being 5 times larger than before. "
   ]
  },
  {
   "cell_type": "markdown",
   "metadata": {},
   "source": [
    "### 2.5\n",
    "\n",
    "#### Repeat 2.2 and 2.3 with a tenth order polynomial fit\n"
   ]
  },
  {
   "cell_type": "code",
   "execution_count": 223,
   "metadata": {
    "scrolled": true
   },
   "outputs": [
    {
     "data": {
      "image/svg+xml": [
       "<?xml version=\"1.0\" encoding=\"utf-8\"?>\n",
       "<svg xmlns=\"http://www.w3.org/2000/svg\" xmlns:xlink=\"http://www.w3.org/1999/xlink\" width=\"600\" height=\"400\" viewBox=\"0 0 2400 1600\">\n",
       "<defs>\n",
       "  <clipPath id=\"clip120\">\n",
       "    <rect x=\"0\" y=\"0\" width=\"2400\" height=\"1600\"/>\n",
       "  </clipPath>\n",
       "</defs>\n",
       "<path clip-path=\"url(#clip120)\" d=\"M0 1600 L2400 1600 L2400 0 L0 0  Z\" fill=\"#ffffff\" fill-rule=\"evenodd\" fill-opacity=\"1\"/>\n",
       "<defs>\n",
       "  <clipPath id=\"clip121\">\n",
       "    <rect x=\"480\" y=\"0\" width=\"1681\" height=\"1600\"/>\n",
       "  </clipPath>\n",
       "</defs>\n",
       "<path clip-path=\"url(#clip120)\" d=\"M169.121 1486.45 L2352.76 1486.45 L2352.76 47.2441 L169.121 47.2441  Z\" fill=\"#ffffff\" fill-rule=\"evenodd\" fill-opacity=\"1\"/>\n",
       "<defs>\n",
       "  <clipPath id=\"clip122\">\n",
       "    <rect x=\"169\" y=\"47\" width=\"2185\" height=\"1440\"/>\n",
       "  </clipPath>\n",
       "</defs>\n",
       "<polyline clip-path=\"url(#clip122)\" style=\"stroke:#000000; stroke-linecap:round; stroke-linejoin:round; stroke-width:2; stroke-opacity:0.1; fill:none\" points=\"230.922,1486.45 230.922,47.2441 \"/>\n",
       "<polyline clip-path=\"url(#clip122)\" style=\"stroke:#000000; stroke-linecap:round; stroke-linejoin:round; stroke-width:2; stroke-opacity:0.1; fill:none\" points=\"745.93,1486.45 745.93,47.2441 \"/>\n",
       "<polyline clip-path=\"url(#clip122)\" style=\"stroke:#000000; stroke-linecap:round; stroke-linejoin:round; stroke-width:2; stroke-opacity:0.1; fill:none\" points=\"1260.94,1486.45 1260.94,47.2441 \"/>\n",
       "<polyline clip-path=\"url(#clip122)\" style=\"stroke:#000000; stroke-linecap:round; stroke-linejoin:round; stroke-width:2; stroke-opacity:0.1; fill:none\" points=\"1775.95,1486.45 1775.95,47.2441 \"/>\n",
       "<polyline clip-path=\"url(#clip122)\" style=\"stroke:#000000; stroke-linecap:round; stroke-linejoin:round; stroke-width:2; stroke-opacity:0.1; fill:none\" points=\"2290.95,1486.45 2290.95,47.2441 \"/>\n",
       "<polyline clip-path=\"url(#clip120)\" style=\"stroke:#000000; stroke-linecap:round; stroke-linejoin:round; stroke-width:4; stroke-opacity:1; fill:none\" points=\"169.121,1486.45 2352.76,1486.45 \"/>\n",
       "<polyline clip-path=\"url(#clip120)\" style=\"stroke:#000000; stroke-linecap:round; stroke-linejoin:round; stroke-width:4; stroke-opacity:1; fill:none\" points=\"230.922,1486.45 230.922,1467.55 \"/>\n",
       "<polyline clip-path=\"url(#clip120)\" style=\"stroke:#000000; stroke-linecap:round; stroke-linejoin:round; stroke-width:4; stroke-opacity:1; fill:none\" points=\"745.93,1486.45 745.93,1467.55 \"/>\n",
       "<polyline clip-path=\"url(#clip120)\" style=\"stroke:#000000; stroke-linecap:round; stroke-linejoin:round; stroke-width:4; stroke-opacity:1; fill:none\" points=\"1260.94,1486.45 1260.94,1467.55 \"/>\n",
       "<polyline clip-path=\"url(#clip120)\" style=\"stroke:#000000; stroke-linecap:round; stroke-linejoin:round; stroke-width:4; stroke-opacity:1; fill:none\" points=\"1775.95,1486.45 1775.95,1467.55 \"/>\n",
       "<polyline clip-path=\"url(#clip120)\" style=\"stroke:#000000; stroke-linecap:round; stroke-linejoin:round; stroke-width:4; stroke-opacity:1; fill:none\" points=\"2290.95,1486.45 2290.95,1467.55 \"/>\n",
       "<path clip-path=\"url(#clip120)\" d=\"M184.985 1532.02 L214.661 1532.02 L214.661 1535.95 L184.985 1535.95 L184.985 1532.02 Z\" fill=\"#000000\" fill-rule=\"evenodd\" fill-opacity=\"1\" /><path clip-path=\"url(#clip120)\" d=\"M225.564 1544.91 L233.202 1544.91 L233.202 1518.55 L224.892 1520.21 L224.892 1515.95 L233.156 1514.29 L237.832 1514.29 L237.832 1544.91 L245.471 1544.91 L245.471 1548.85 L225.564 1548.85 L225.564 1544.91 Z\" fill=\"#000000\" fill-rule=\"evenodd\" fill-opacity=\"1\" /><path clip-path=\"url(#clip120)\" d=\"M264.915 1517.37 Q261.304 1517.37 259.475 1520.93 Q257.67 1524.47 257.67 1531.6 Q257.67 1538.71 259.475 1542.27 Q261.304 1545.82 264.915 1545.82 Q268.549 1545.82 270.355 1542.27 Q272.184 1538.71 272.184 1531.6 Q272.184 1524.47 270.355 1520.93 Q268.549 1517.37 264.915 1517.37 M264.915 1513.66 Q270.725 1513.66 273.781 1518.27 Q276.86 1522.85 276.86 1531.6 Q276.86 1540.33 273.781 1544.94 Q270.725 1549.52 264.915 1549.52 Q259.105 1549.52 256.026 1544.94 Q252.971 1540.33 252.971 1531.6 Q252.971 1522.85 256.026 1518.27 Q259.105 1513.66 264.915 1513.66 Z\" fill=\"#000000\" fill-rule=\"evenodd\" fill-opacity=\"1\" /><path clip-path=\"url(#clip120)\" d=\"M715.572 1532.02 L745.248 1532.02 L745.248 1535.95 L715.572 1535.95 L715.572 1532.02 Z\" fill=\"#000000\" fill-rule=\"evenodd\" fill-opacity=\"1\" /><path clip-path=\"url(#clip120)\" d=\"M755.386 1514.29 L773.743 1514.29 L773.743 1518.22 L759.669 1518.22 L759.669 1526.7 Q760.687 1526.35 761.706 1526.19 Q762.724 1526 763.743 1526 Q769.53 1526 772.909 1529.17 Q776.289 1532.34 776.289 1537.76 Q776.289 1543.34 772.817 1546.44 Q769.345 1549.52 763.025 1549.52 Q760.849 1549.52 758.581 1549.15 Q756.335 1548.78 753.928 1548.04 L753.928 1543.34 Q756.011 1544.47 758.234 1545.03 Q760.456 1545.58 762.933 1545.58 Q766.937 1545.58 769.275 1543.48 Q771.613 1541.37 771.613 1537.76 Q771.613 1534.15 769.275 1532.04 Q766.937 1529.94 762.933 1529.94 Q761.058 1529.94 759.183 1530.35 Q757.331 1530.77 755.386 1531.65 L755.386 1514.29 Z\" fill=\"#000000\" fill-rule=\"evenodd\" fill-opacity=\"1\" /><path clip-path=\"url(#clip120)\" d=\"M1260.94 1517.37 Q1257.33 1517.37 1255.5 1520.93 Q1253.69 1524.47 1253.69 1531.6 Q1253.69 1538.71 1255.5 1542.27 Q1257.33 1545.82 1260.94 1545.82 Q1264.57 1545.82 1266.38 1542.27 Q1268.21 1538.71 1268.21 1531.6 Q1268.21 1524.47 1266.38 1520.93 Q1264.57 1517.37 1260.94 1517.37 M1260.94 1513.66 Q1266.75 1513.66 1269.8 1518.27 Q1272.88 1522.85 1272.88 1531.6 Q1272.88 1540.33 1269.8 1544.94 Q1266.75 1549.52 1260.94 1549.52 Q1255.13 1549.52 1252.05 1544.94 Q1248.99 1540.33 1248.99 1531.6 Q1248.99 1522.85 1252.05 1518.27 Q1255.13 1513.66 1260.94 1513.66 Z\" fill=\"#000000\" fill-rule=\"evenodd\" fill-opacity=\"1\" /><path clip-path=\"url(#clip120)\" d=\"M1766.22 1514.29 L1784.58 1514.29 L1784.58 1518.22 L1770.51 1518.22 L1770.51 1526.7 Q1771.53 1526.35 1772.54 1526.19 Q1773.56 1526 1774.58 1526 Q1780.37 1526 1783.75 1529.17 Q1787.13 1532.34 1787.13 1537.76 Q1787.13 1543.34 1783.66 1546.44 Q1780.18 1549.52 1773.86 1549.52 Q1771.69 1549.52 1769.42 1549.15 Q1767.17 1548.78 1764.77 1548.04 L1764.77 1543.34 Q1766.85 1544.47 1769.07 1545.03 Q1771.29 1545.58 1773.77 1545.58 Q1777.78 1545.58 1780.11 1543.48 Q1782.45 1541.37 1782.45 1537.76 Q1782.45 1534.15 1780.11 1532.04 Q1777.78 1529.94 1773.77 1529.94 Q1771.9 1529.94 1770.02 1530.35 Q1768.17 1530.77 1766.22 1531.65 L1766.22 1514.29 Z\" fill=\"#000000\" fill-rule=\"evenodd\" fill-opacity=\"1\" /><path clip-path=\"url(#clip120)\" d=\"M2265.64 1544.91 L2273.28 1544.91 L2273.28 1518.55 L2264.97 1520.21 L2264.97 1515.95 L2273.24 1514.29 L2277.91 1514.29 L2277.91 1544.91 L2285.55 1544.91 L2285.55 1548.85 L2265.64 1548.85 L2265.64 1544.91 Z\" fill=\"#000000\" fill-rule=\"evenodd\" fill-opacity=\"1\" /><path clip-path=\"url(#clip120)\" d=\"M2304.99 1517.37 Q2301.38 1517.37 2299.55 1520.93 Q2297.75 1524.47 2297.75 1531.6 Q2297.75 1538.71 2299.55 1542.27 Q2301.38 1545.82 2304.99 1545.82 Q2308.63 1545.82 2310.43 1542.27 Q2312.26 1538.71 2312.26 1531.6 Q2312.26 1524.47 2310.43 1520.93 Q2308.63 1517.37 2304.99 1517.37 M2304.99 1513.66 Q2310.8 1513.66 2313.86 1518.27 Q2316.94 1522.85 2316.94 1531.6 Q2316.94 1540.33 2313.86 1544.94 Q2310.8 1549.52 2304.99 1549.52 Q2299.18 1549.52 2296.11 1544.94 Q2293.05 1540.33 2293.05 1531.6 Q2293.05 1522.85 2296.11 1518.27 Q2299.18 1513.66 2304.99 1513.66 Z\" fill=\"#000000\" fill-rule=\"evenodd\" fill-opacity=\"1\" /><polyline clip-path=\"url(#clip122)\" style=\"stroke:#000000; stroke-linecap:round; stroke-linejoin:round; stroke-width:2; stroke-opacity:0.1; fill:none\" points=\"169.121,1254.25 2352.76,1254.25 \"/>\n",
       "<polyline clip-path=\"url(#clip122)\" style=\"stroke:#000000; stroke-linecap:round; stroke-linejoin:round; stroke-width:2; stroke-opacity:0.1; fill:none\" points=\"169.121,1008.6 2352.76,1008.6 \"/>\n",
       "<polyline clip-path=\"url(#clip122)\" style=\"stroke:#000000; stroke-linecap:round; stroke-linejoin:round; stroke-width:2; stroke-opacity:0.1; fill:none\" points=\"169.121,762.957 2352.76,762.957 \"/>\n",
       "<polyline clip-path=\"url(#clip122)\" style=\"stroke:#000000; stroke-linecap:round; stroke-linejoin:round; stroke-width:2; stroke-opacity:0.1; fill:none\" points=\"169.121,517.311 2352.76,517.311 \"/>\n",
       "<polyline clip-path=\"url(#clip122)\" style=\"stroke:#000000; stroke-linecap:round; stroke-linejoin:round; stroke-width:2; stroke-opacity:0.1; fill:none\" points=\"169.121,271.665 2352.76,271.665 \"/>\n",
       "<polyline clip-path=\"url(#clip120)\" style=\"stroke:#000000; stroke-linecap:round; stroke-linejoin:round; stroke-width:4; stroke-opacity:1; fill:none\" points=\"169.121,1486.45 169.121,47.2441 \"/>\n",
       "<polyline clip-path=\"url(#clip120)\" style=\"stroke:#000000; stroke-linecap:round; stroke-linejoin:round; stroke-width:4; stroke-opacity:1; fill:none\" points=\"169.121,1254.25 188.019,1254.25 \"/>\n",
       "<polyline clip-path=\"url(#clip120)\" style=\"stroke:#000000; stroke-linecap:round; stroke-linejoin:round; stroke-width:4; stroke-opacity:1; fill:none\" points=\"169.121,1008.6 188.019,1008.6 \"/>\n",
       "<polyline clip-path=\"url(#clip120)\" style=\"stroke:#000000; stroke-linecap:round; stroke-linejoin:round; stroke-width:4; stroke-opacity:1; fill:none\" points=\"169.121,762.957 188.019,762.957 \"/>\n",
       "<polyline clip-path=\"url(#clip120)\" style=\"stroke:#000000; stroke-linecap:round; stroke-linejoin:round; stroke-width:4; stroke-opacity:1; fill:none\" points=\"169.121,517.311 188.019,517.311 \"/>\n",
       "<polyline clip-path=\"url(#clip120)\" style=\"stroke:#000000; stroke-linecap:round; stroke-linejoin:round; stroke-width:4; stroke-opacity:1; fill:none\" points=\"169.121,271.665 188.019,271.665 \"/>\n",
       "<path clip-path=\"url(#clip120)\" d=\"M121.177 1240.05 Q117.566 1240.05 115.737 1243.61 Q113.932 1247.15 113.932 1254.28 Q113.932 1261.39 115.737 1264.95 Q117.566 1268.5 121.177 1268.5 Q124.811 1268.5 126.617 1264.95 Q128.445 1261.39 128.445 1254.28 Q128.445 1247.15 126.617 1243.61 Q124.811 1240.05 121.177 1240.05 M121.177 1236.34 Q126.987 1236.34 130.043 1240.95 Q133.121 1245.53 133.121 1254.28 Q133.121 1263.01 130.043 1267.62 Q126.987 1272.2 121.177 1272.2 Q115.367 1272.2 112.288 1267.62 Q109.233 1263.01 109.233 1254.28 Q109.233 1245.53 112.288 1240.95 Q115.367 1236.34 121.177 1236.34 Z\" fill=\"#000000\" fill-rule=\"evenodd\" fill-opacity=\"1\" /><path clip-path=\"url(#clip120)\" d=\"M95.1817 1007.25 Q98.5382 1007.97 100.413 1010.23 Q102.311 1012.5 102.311 1015.84 Q102.311 1020.95 98.7928 1023.75 Q95.2743 1026.55 88.7928 1026.55 Q86.6169 1026.55 84.3021 1026.11 Q82.0105 1025.7 79.5568 1024.84 L79.5568 1020.33 Q81.5012 1021.46 83.816 1022.04 Q86.1308 1022.62 88.654 1022.62 Q93.0521 1022.62 95.3437 1020.88 Q97.6585 1019.15 97.6585 1015.84 Q97.6585 1012.78 95.5058 1011.07 Q93.3762 1009.33 89.5567 1009.33 L85.529 1009.33 L85.529 1005.49 L89.7419 1005.49 Q93.191 1005.49 95.0197 1004.12 Q96.8484 1002.73 96.8484 1000.14 Q96.8484 997.48 94.9502 996.068 Q93.0752 994.633 89.5567 994.633 Q87.6354 994.633 85.4364 995.05 Q83.2373 995.466 80.5984 996.346 L80.5984 992.179 Q83.2605 991.438 85.5753 991.068 Q87.9132 990.698 89.9734 990.698 Q95.2974 990.698 98.3993 993.128 Q101.501 995.536 101.501 999.656 Q101.501 1002.53 99.8576 1004.52 Q98.2141 1006.48 95.1817 1007.25 Z\" fill=\"#000000\" fill-rule=\"evenodd\" fill-opacity=\"1\" /><path clip-path=\"url(#clip120)\" d=\"M121.177 994.401 Q117.566 994.401 115.737 997.966 Q113.932 1001.51 113.932 1008.64 Q113.932 1015.74 115.737 1019.31 Q117.566 1022.85 121.177 1022.85 Q124.811 1022.85 126.617 1019.31 Q128.445 1015.74 128.445 1008.64 Q128.445 1001.51 126.617 997.966 Q124.811 994.401 121.177 994.401 M121.177 990.698 Q126.987 990.698 130.043 995.304 Q133.121 999.888 133.121 1008.64 Q133.121 1017.36 130.043 1021.97 Q126.987 1026.55 121.177 1026.55 Q115.367 1026.55 112.288 1021.97 Q109.233 1017.36 109.233 1008.64 Q109.233 999.888 112.288 995.304 Q115.367 990.698 121.177 990.698 Z\" fill=\"#000000\" fill-rule=\"evenodd\" fill-opacity=\"1\" /><path clip-path=\"url(#clip120)\" d=\"M91.5938 761.093 Q88.4456 761.093 86.5938 763.246 Q84.7651 765.399 84.7651 769.149 Q84.7651 772.876 86.5938 775.052 Q88.4456 777.204 91.5938 777.204 Q94.7419 777.204 96.5706 775.052 Q98.4224 772.876 98.4224 769.149 Q98.4224 765.399 96.5706 763.246 Q94.7419 761.093 91.5938 761.093 M100.876 746.441 L100.876 750.7 Q99.1169 749.867 97.3113 749.427 Q95.5289 748.987 93.7697 748.987 Q89.1401 748.987 86.6864 752.112 Q84.2558 755.237 83.9086 761.556 Q85.2743 759.542 87.3345 758.478 Q89.3947 757.39 91.8715 757.39 Q97.0798 757.39 100.089 760.561 Q103.121 763.709 103.121 769.149 Q103.121 774.473 99.9733 777.691 Q96.8252 780.908 91.5938 780.908 Q85.5984 780.908 82.4271 776.325 Q79.2559 771.718 79.2559 762.992 Q79.2559 754.797 83.1447 749.936 Q87.0336 745.052 93.5845 745.052 Q95.3437 745.052 97.1261 745.399 Q98.9317 745.746 100.876 746.441 Z\" fill=\"#000000\" fill-rule=\"evenodd\" fill-opacity=\"1\" /><path clip-path=\"url(#clip120)\" d=\"M121.177 748.755 Q117.566 748.755 115.737 752.32 Q113.932 755.862 113.932 762.992 Q113.932 770.098 115.737 773.663 Q117.566 777.204 121.177 777.204 Q124.811 777.204 126.617 773.663 Q128.445 770.098 128.445 762.992 Q128.445 755.862 126.617 752.32 Q124.811 748.755 121.177 748.755 M121.177 745.052 Q126.987 745.052 130.043 749.658 Q133.121 754.242 133.121 762.992 Q133.121 771.718 130.043 776.325 Q126.987 780.908 121.177 780.908 Q115.367 780.908 112.288 776.325 Q109.233 771.718 109.233 762.992 Q109.233 754.242 112.288 749.658 Q115.367 745.052 121.177 745.052 Z\" fill=\"#000000\" fill-rule=\"evenodd\" fill-opacity=\"1\" /><path clip-path=\"url(#clip120)\" d=\"M81.154 533.873 L81.154 529.614 Q82.9133 530.447 84.7188 530.887 Q86.5243 531.327 88.2604 531.327 Q92.89 531.327 95.3206 528.225 Q97.7743 525.1 98.1215 518.758 Q96.7789 520.748 94.7187 521.813 Q92.6586 522.878 90.1586 522.878 Q84.9734 522.878 81.941 519.753 Q78.9318 516.605 78.9318 511.165 Q78.9318 505.841 82.0799 502.623 Q85.2281 499.406 90.4595 499.406 Q96.4548 499.406 99.603 504.012 Q102.774 508.596 102.774 517.346 Q102.774 525.517 98.8854 530.401 Q95.0197 535.262 88.4688 535.262 Q86.7095 535.262 84.904 534.915 Q83.0984 534.568 81.154 533.873 M90.4595 519.221 Q93.6076 519.221 95.4363 517.068 Q97.2882 514.915 97.2882 511.165 Q97.2882 507.438 95.4363 505.285 Q93.6076 503.11 90.4595 503.11 Q87.3114 503.11 85.4595 505.285 Q83.6308 507.438 83.6308 511.165 Q83.6308 514.915 85.4595 517.068 Q87.3114 519.221 90.4595 519.221 Z\" fill=\"#000000\" fill-rule=\"evenodd\" fill-opacity=\"1\" /><path clip-path=\"url(#clip120)\" d=\"M121.177 503.11 Q117.566 503.11 115.737 506.674 Q113.932 510.216 113.932 517.346 Q113.932 524.452 115.737 528.017 Q117.566 531.558 121.177 531.558 Q124.811 531.558 126.617 528.017 Q128.445 524.452 128.445 517.346 Q128.445 510.216 126.617 506.674 Q124.811 503.11 121.177 503.11 M121.177 499.406 Q126.987 499.406 130.043 504.012 Q133.121 508.596 133.121 517.346 Q133.121 526.072 130.043 530.679 Q126.987 535.262 121.177 535.262 Q115.367 535.262 112.288 530.679 Q109.233 526.072 109.233 517.346 Q109.233 508.596 112.288 504.012 Q115.367 499.406 121.177 499.406 Z\" fill=\"#000000\" fill-rule=\"evenodd\" fill-opacity=\"1\" /><path clip-path=\"url(#clip120)\" d=\"M51.6634 285.01 L59.3023 285.01 L59.3023 258.644 L50.9921 260.311 L50.9921 256.052 L59.256 254.385 L63.9319 254.385 L63.9319 285.01 L71.5707 285.01 L71.5707 288.945 L51.6634 288.945 L51.6634 285.01 Z\" fill=\"#000000\" fill-rule=\"evenodd\" fill-opacity=\"1\" /><path clip-path=\"url(#clip120)\" d=\"M85.0429 285.01 L101.362 285.01 L101.362 288.945 L79.4179 288.945 L79.4179 285.01 Q82.0799 282.255 86.6632 277.626 Q91.2697 272.973 92.4502 271.63 Q94.6956 269.107 95.5752 267.371 Q96.478 265.612 96.478 263.922 Q96.478 261.167 94.5336 259.431 Q92.6123 257.695 89.5104 257.695 Q87.3114 257.695 84.8577 258.459 Q82.4271 259.223 79.6494 260.774 L79.6494 256.052 Q82.4734 254.917 84.9271 254.339 Q87.3808 253.76 89.4178 253.76 Q94.7882 253.76 97.9826 256.445 Q101.177 259.13 101.177 263.621 Q101.177 265.751 100.367 267.672 Q99.5798 269.57 97.4734 272.163 Q96.8947 272.834 93.7928 276.052 Q90.691 279.246 85.0429 285.01 Z\" fill=\"#000000\" fill-rule=\"evenodd\" fill-opacity=\"1\" /><path clip-path=\"url(#clip120)\" d=\"M121.177 257.464 Q117.566 257.464 115.737 261.028 Q113.932 264.57 113.932 271.7 Q113.932 278.806 115.737 282.371 Q117.566 285.913 121.177 285.913 Q124.811 285.913 126.617 282.371 Q128.445 278.806 128.445 271.7 Q128.445 264.57 126.617 261.028 Q124.811 257.464 121.177 257.464 M121.177 253.76 Q126.987 253.76 130.043 258.366 Q133.121 262.95 133.121 271.7 Q133.121 280.426 130.043 285.033 Q126.987 289.616 121.177 289.616 Q115.367 289.616 112.288 285.033 Q109.233 280.426 109.233 271.7 Q109.233 262.95 112.288 258.366 Q115.367 253.76 121.177 253.76 Z\" fill=\"#000000\" fill-rule=\"evenodd\" fill-opacity=\"1\" /><circle clip-path=\"url(#clip122)\" cx=\"230.922\" cy=\"730.404\" r=\"14.4\" fill=\"#009af9\" fill-rule=\"evenodd\" fill-opacity=\"1\" stroke=\"#000000\" stroke-opacity=\"1\" stroke-width=\"3.2\"/>\n",
       "<circle clip-path=\"url(#clip122)\" cx=\"333.924\" cy=\"638.069\" r=\"14.4\" fill=\"#009af9\" fill-rule=\"evenodd\" fill-opacity=\"1\" stroke=\"#000000\" stroke-opacity=\"1\" stroke-width=\"3.2\"/>\n",
       "<circle clip-path=\"url(#clip122)\" cx=\"436.926\" cy=\"964.266\" r=\"14.4\" fill=\"#009af9\" fill-rule=\"evenodd\" fill-opacity=\"1\" stroke=\"#000000\" stroke-opacity=\"1\" stroke-width=\"3.2\"/>\n",
       "<circle clip-path=\"url(#clip122)\" cx=\"539.927\" cy=\"1056.69\" r=\"14.4\" fill=\"#009af9\" fill-rule=\"evenodd\" fill-opacity=\"1\" stroke=\"#000000\" stroke-opacity=\"1\" stroke-width=\"3.2\"/>\n",
       "<circle clip-path=\"url(#clip122)\" cx=\"642.929\" cy=\"1240.41\" r=\"14.4\" fill=\"#009af9\" fill-rule=\"evenodd\" fill-opacity=\"1\" stroke=\"#000000\" stroke-opacity=\"1\" stroke-width=\"3.2\"/>\n",
       "<circle clip-path=\"url(#clip122)\" cx=\"745.93\" cy=\"1077.15\" r=\"14.4\" fill=\"#009af9\" fill-rule=\"evenodd\" fill-opacity=\"1\" stroke=\"#000000\" stroke-opacity=\"1\" stroke-width=\"3.2\"/>\n",
       "<circle clip-path=\"url(#clip122)\" cx=\"848.932\" cy=\"1275.04\" r=\"14.4\" fill=\"#009af9\" fill-rule=\"evenodd\" fill-opacity=\"1\" stroke=\"#000000\" stroke-opacity=\"1\" stroke-width=\"3.2\"/>\n",
       "<circle clip-path=\"url(#clip122)\" cx=\"951.934\" cy=\"1190.25\" r=\"14.4\" fill=\"#009af9\" fill-rule=\"evenodd\" fill-opacity=\"1\" stroke=\"#000000\" stroke-opacity=\"1\" stroke-width=\"3.2\"/>\n",
       "<circle clip-path=\"url(#clip122)\" cx=\"1054.94\" cy=\"1445.72\" r=\"14.4\" fill=\"#009af9\" fill-rule=\"evenodd\" fill-opacity=\"1\" stroke=\"#000000\" stroke-opacity=\"1\" stroke-width=\"3.2\"/>\n",
       "<circle clip-path=\"url(#clip122)\" cx=\"1157.94\" cy=\"1314.59\" r=\"14.4\" fill=\"#009af9\" fill-rule=\"evenodd\" fill-opacity=\"1\" stroke=\"#000000\" stroke-opacity=\"1\" stroke-width=\"3.2\"/>\n",
       "<circle clip-path=\"url(#clip122)\" cx=\"1260.94\" cy=\"1226.46\" r=\"14.4\" fill=\"#009af9\" fill-rule=\"evenodd\" fill-opacity=\"1\" stroke=\"#000000\" stroke-opacity=\"1\" stroke-width=\"3.2\"/>\n",
       "<circle clip-path=\"url(#clip122)\" cx=\"1363.94\" cy=\"1119.86\" r=\"14.4\" fill=\"#009af9\" fill-rule=\"evenodd\" fill-opacity=\"1\" stroke=\"#000000\" stroke-opacity=\"1\" stroke-width=\"3.2\"/>\n",
       "<circle clip-path=\"url(#clip122)\" cx=\"1466.94\" cy=\"1239.84\" r=\"14.4\" fill=\"#009af9\" fill-rule=\"evenodd\" fill-opacity=\"1\" stroke=\"#000000\" stroke-opacity=\"1\" stroke-width=\"3.2\"/>\n",
       "<circle clip-path=\"url(#clip122)\" cx=\"1569.94\" cy=\"1078.58\" r=\"14.4\" fill=\"#009af9\" fill-rule=\"evenodd\" fill-opacity=\"1\" stroke=\"#000000\" stroke-opacity=\"1\" stroke-width=\"3.2\"/>\n",
       "<circle clip-path=\"url(#clip122)\" cx=\"1672.95\" cy=\"906.419\" r=\"14.4\" fill=\"#009af9\" fill-rule=\"evenodd\" fill-opacity=\"1\" stroke=\"#000000\" stroke-opacity=\"1\" stroke-width=\"3.2\"/>\n",
       "<circle clip-path=\"url(#clip122)\" cx=\"1775.95\" cy=\"989.456\" r=\"14.4\" fill=\"#009af9\" fill-rule=\"evenodd\" fill-opacity=\"1\" stroke=\"#000000\" stroke-opacity=\"1\" stroke-width=\"3.2\"/>\n",
       "<circle clip-path=\"url(#clip122)\" cx=\"1878.95\" cy=\"875.176\" r=\"14.4\" fill=\"#009af9\" fill-rule=\"evenodd\" fill-opacity=\"1\" stroke=\"#000000\" stroke-opacity=\"1\" stroke-width=\"3.2\"/>\n",
       "<circle clip-path=\"url(#clip122)\" cx=\"1981.95\" cy=\"687.385\" r=\"14.4\" fill=\"#009af9\" fill-rule=\"evenodd\" fill-opacity=\"1\" stroke=\"#000000\" stroke-opacity=\"1\" stroke-width=\"3.2\"/>\n",
       "<circle clip-path=\"url(#clip122)\" cx=\"2084.95\" cy=\"441.788\" r=\"14.4\" fill=\"#009af9\" fill-rule=\"evenodd\" fill-opacity=\"1\" stroke=\"#000000\" stroke-opacity=\"1\" stroke-width=\"3.2\"/>\n",
       "<circle clip-path=\"url(#clip122)\" cx=\"2187.95\" cy=\"309.504\" r=\"14.4\" fill=\"#009af9\" fill-rule=\"evenodd\" fill-opacity=\"1\" stroke=\"#000000\" stroke-opacity=\"1\" stroke-width=\"3.2\"/>\n",
       "<circle clip-path=\"url(#clip122)\" cx=\"2290.95\" cy=\"87.9763\" r=\"14.4\" fill=\"#009af9\" fill-rule=\"evenodd\" fill-opacity=\"1\" stroke=\"#000000\" stroke-opacity=\"1\" stroke-width=\"3.2\"/>\n",
       "<polyline clip-path=\"url(#clip122)\" style=\"stroke:#e26f46; stroke-linecap:round; stroke-linejoin:round; stroke-width:4; stroke-opacity:1; fill:none\" points=\"230.922,697.451 333.924,828.462 436.926,943.097 539.927,1041.36 642.929,1123.24 745.93,1188.74 848.932,1237.87 951.934,1270.63 1054.94,1287 1157.94,1287 1260.94,1270.63 1363.94,1237.87 1466.94,1188.74 1569.94,1123.24 1672.95,1041.36 1775.95,943.097 1878.95,828.462 1981.95,697.451 2084.95,550.064 2187.95,386.3 2290.95,206.159 \"/>\n",
       "<polyline clip-path=\"url(#clip122)\" style=\"stroke:#3da44d; stroke-linecap:round; stroke-linejoin:round; stroke-width:4; stroke-opacity:1; fill:none\" points=\"230.922,729.894 333.924,642.541 436.926,944.34 539.927,1111.49 642.929,1149.08 745.93,1164.34 848.932,1212.66 951.934,1282.38 1054.94,1331.95 1157.94,1329.74 1260.94,1274.22 1363.94,1190.65 1466.94,1112.12 1569.94,1057.35 1672.95,1017.53 1775.95,960.132 1878.95,849.779 1981.95,676.928 2084.95,474.532 2187.95,292.519 2290.95,90.8634 \"/>\n",
       "<path clip-path=\"url(#clip120)\" d=\"M241.909 302.578 L973.21 302.578 L973.21 95.2176 L241.909 95.2176  Z\" fill=\"#ffffff\" fill-rule=\"evenodd\" fill-opacity=\"1\"/>\n",
       "<polyline clip-path=\"url(#clip120)\" style=\"stroke:#000000; stroke-linecap:round; stroke-linejoin:round; stroke-width:4; stroke-opacity:1; fill:none\" points=\"241.909,302.578 973.21,302.578 973.21,95.2176 241.909,95.2176 241.909,302.578 \"/>\n",
       "<circle clip-path=\"url(#clip120)\" cx=\"338.96\" cy=\"147.058\" r=\"23.04\" fill=\"#009af9\" fill-rule=\"evenodd\" fill-opacity=\"1\" stroke=\"#000000\" stroke-opacity=\"1\" stroke-width=\"5.12\"/>\n",
       "<path clip-path=\"url(#clip120)\" d=\"M449.853 166.745 Q448.047 171.375 446.334 172.787 Q444.621 174.199 441.751 174.199 L438.348 174.199 L438.348 170.634 L440.848 170.634 Q442.607 170.634 443.579 169.8 Q444.552 168.967 445.732 165.865 L446.496 163.921 L436.01 138.412 L440.524 138.412 L448.626 158.689 L456.727 138.412 L461.241 138.412 L449.853 166.745 Z\" fill=\"#000000\" fill-rule=\"evenodd\" fill-opacity=\"1\" /><path clip-path=\"url(#clip120)\" d=\"M468.533 160.402 L476.172 160.402 L476.172 134.037 L467.862 135.703 L467.862 131.444 L476.126 129.778 L480.801 129.778 L480.801 160.402 L488.44 160.402 L488.44 164.338 L468.533 164.338 L468.533 160.402 Z\" fill=\"#000000\" fill-rule=\"evenodd\" fill-opacity=\"1\" /><polyline clip-path=\"url(#clip120)\" style=\"stroke:#e26f46; stroke-linecap:round; stroke-linejoin:round; stroke-width:4; stroke-opacity:1; fill:none\" points=\"266.172,198.898 411.747,198.898 \"/>\n",
       "<path clip-path=\"url(#clip120)\" d=\"M436.01 181.618 L465.246 181.618 L465.246 185.553 L452.977 185.553 L452.977 216.178 L448.278 216.178 L448.278 185.553 L436.01 185.553 L436.01 181.618 Z\" fill=\"#000000\" fill-rule=\"evenodd\" fill-opacity=\"1\" /><path clip-path=\"url(#clip120)\" d=\"M477.63 194.233 Q476.913 193.817 476.056 193.631 Q475.223 193.423 474.204 193.423 Q470.593 193.423 468.649 195.784 Q466.727 198.122 466.727 202.52 L466.727 216.178 L462.445 216.178 L462.445 190.252 L466.727 190.252 L466.727 194.28 Q468.07 191.918 470.223 190.784 Q472.376 189.627 475.454 189.627 Q475.894 189.627 476.426 189.696 Q476.959 189.743 477.607 189.858 L477.63 194.233 Z\" fill=\"#000000\" fill-rule=\"evenodd\" fill-opacity=\"1\" /><path clip-path=\"url(#clip120)\" d=\"M481.658 205.946 L481.658 190.252 L485.917 190.252 L485.917 205.784 Q485.917 209.465 487.352 211.316 Q488.787 213.145 491.658 213.145 Q495.107 213.145 497.098 210.946 Q499.112 208.747 499.112 204.951 L499.112 190.252 L503.371 190.252 L503.371 216.178 L499.112 216.178 L499.112 212.196 Q497.561 214.557 495.5 215.715 Q493.463 216.849 490.755 216.849 Q486.287 216.849 483.973 214.071 Q481.658 211.293 481.658 205.946 M492.375 189.627 L492.375 189.627 Z\" fill=\"#000000\" fill-rule=\"evenodd\" fill-opacity=\"1\" /><path clip-path=\"url(#clip120)\" d=\"M534.32 202.15 L534.32 204.233 L514.736 204.233 Q515.014 208.631 517.375 210.946 Q519.76 213.238 523.996 213.238 Q526.449 213.238 528.741 212.636 Q531.056 212.034 533.324 210.83 L533.324 214.858 Q531.033 215.83 528.625 216.34 Q526.218 216.849 523.741 216.849 Q517.537 216.849 513.903 213.238 Q510.292 209.627 510.292 203.469 Q510.292 197.104 513.718 193.377 Q517.167 189.627 523 189.627 Q528.232 189.627 531.264 193.006 Q534.32 196.363 534.32 202.15 M530.06 200.9 Q530.014 197.405 528.093 195.321 Q526.195 193.238 523.047 193.238 Q519.482 193.238 517.329 195.252 Q515.199 197.266 514.875 200.923 L530.06 200.9 Z\" fill=\"#000000\" fill-rule=\"evenodd\" fill-opacity=\"1\" /><path clip-path=\"url(#clip120)\" d=\"M556.565 181.618 L561.241 181.618 L561.241 212.242 L578.069 212.242 L578.069 216.178 L556.565 216.178 L556.565 181.618 Z\" fill=\"#000000\" fill-rule=\"evenodd\" fill-opacity=\"1\" /><path clip-path=\"url(#clip120)\" d=\"M582.792 190.252 L587.051 190.252 L587.051 216.178 L582.792 216.178 L582.792 190.252 M582.792 180.159 L587.051 180.159 L587.051 185.553 L582.792 185.553 L582.792 180.159 Z\" fill=\"#000000\" fill-rule=\"evenodd\" fill-opacity=\"1\" /><path clip-path=\"url(#clip120)\" d=\"M617.514 200.529 L617.514 216.178 L613.254 216.178 L613.254 200.668 Q613.254 196.988 611.819 195.159 Q610.384 193.33 607.514 193.33 Q604.065 193.33 602.074 195.53 Q600.083 197.729 600.083 201.525 L600.083 216.178 L595.801 216.178 L595.801 190.252 L600.083 190.252 L600.083 194.28 Q601.611 191.942 603.671 190.784 Q605.754 189.627 608.463 189.627 Q612.93 189.627 615.222 192.405 Q617.514 195.159 617.514 200.529 Z\" fill=\"#000000\" fill-rule=\"evenodd\" fill-opacity=\"1\" /><path clip-path=\"url(#clip120)\" d=\"M648.185 202.15 L648.185 204.233 L628.602 204.233 Q628.879 208.631 631.24 210.946 Q633.625 213.238 637.861 213.238 Q640.314 213.238 642.606 212.636 Q644.921 212.034 647.189 210.83 L647.189 214.858 Q644.898 215.83 642.49 216.34 Q640.083 216.849 637.606 216.849 Q631.402 216.849 627.768 213.238 Q624.157 209.627 624.157 203.469 Q624.157 197.104 627.583 193.377 Q631.032 189.627 636.865 189.627 Q642.097 189.627 645.129 193.006 Q648.185 196.363 648.185 202.15 M643.926 200.9 Q643.879 197.405 641.958 195.321 Q640.06 193.238 636.912 193.238 Q633.347 193.238 631.194 195.252 Q629.065 197.266 628.74 200.923 L643.926 200.9 Z\" fill=\"#000000\" fill-rule=\"evenodd\" fill-opacity=\"1\" /><polyline clip-path=\"url(#clip120)\" style=\"stroke:#3da44d; stroke-linecap:round; stroke-linejoin:round; stroke-width:4; stroke-opacity:1; fill:none\" points=\"266.172,250.738 411.747,250.738 \"/>\n",
       "<path clip-path=\"url(#clip120)\" d=\"M436.01 233.458 L455.871 233.458 L455.871 237.393 L440.686 237.393 L440.686 247.578 L454.39 247.578 L454.39 251.513 L440.686 251.513 L440.686 268.018 L436.01 268.018 L436.01 233.458 Z\" fill=\"#000000\" fill-rule=\"evenodd\" fill-opacity=\"1\" /><path clip-path=\"url(#clip120)\" d=\"M459.644 242.092 L463.903 242.092 L463.903 268.018 L459.644 268.018 L459.644 242.092 M459.644 231.999 L463.903 231.999 L463.903 237.393 L459.644 237.393 L459.644 231.999 Z\" fill=\"#000000\" fill-rule=\"evenodd\" fill-opacity=\"1\" /><path clip-path=\"url(#clip120)\" d=\"M477.028 234.731 L477.028 242.092 L485.801 242.092 L485.801 245.402 L477.028 245.402 L477.028 259.476 Q477.028 262.647 477.885 263.55 Q478.764 264.453 481.426 264.453 L485.801 264.453 L485.801 268.018 L481.426 268.018 Q476.496 268.018 474.621 266.189 Q472.746 264.337 472.746 259.476 L472.746 245.402 L469.621 245.402 L469.621 242.092 L472.746 242.092 L472.746 234.731 L477.028 234.731 Z\" fill=\"#000000\" fill-rule=\"evenodd\" fill-opacity=\"1\" /><path clip-path=\"url(#clip120)\" d=\"M495.616 234.731 L495.616 242.092 L504.389 242.092 L504.389 245.402 L495.616 245.402 L495.616 259.476 Q495.616 262.647 496.473 263.55 Q497.352 264.453 500.014 264.453 L504.389 264.453 L504.389 268.018 L500.014 268.018 Q495.084 268.018 493.209 266.189 Q491.334 264.337 491.334 259.476 L491.334 245.402 L488.209 245.402 L488.209 242.092 L491.334 242.092 L491.334 234.731 L495.616 234.731 Z\" fill=\"#000000\" fill-rule=\"evenodd\" fill-opacity=\"1\" /><path clip-path=\"url(#clip120)\" d=\"M532.167 253.99 L532.167 256.073 L512.584 256.073 Q512.861 260.471 515.223 262.786 Q517.607 265.078 521.843 265.078 Q524.297 265.078 526.588 264.476 Q528.903 263.874 531.172 262.67 L531.172 266.698 Q528.88 267.67 526.472 268.18 Q524.065 268.689 521.588 268.689 Q515.385 268.689 511.75 265.078 Q508.139 261.467 508.139 255.309 Q508.139 248.944 511.565 245.217 Q515.014 241.467 520.847 241.467 Q526.079 241.467 529.111 244.846 Q532.167 248.203 532.167 253.99 M527.908 252.74 Q527.861 249.245 525.94 247.161 Q524.042 245.078 520.894 245.078 Q517.329 245.078 515.176 247.092 Q513.047 249.106 512.723 252.763 L527.908 252.74 Z\" fill=\"#000000\" fill-rule=\"evenodd\" fill-opacity=\"1\" /><path clip-path=\"url(#clip120)\" d=\"M556.218 246.027 L556.218 231.999 L560.477 231.999 L560.477 268.018 L556.218 268.018 L556.218 264.129 Q554.875 266.443 552.815 267.578 Q550.778 268.689 547.908 268.689 Q543.208 268.689 540.246 264.939 Q537.306 261.189 537.306 255.078 Q537.306 248.967 540.246 245.217 Q543.208 241.467 547.908 241.467 Q550.778 241.467 552.815 242.601 Q554.875 243.712 556.218 246.027 M541.704 255.078 Q541.704 259.777 543.625 262.462 Q545.57 265.124 548.949 265.124 Q552.329 265.124 554.273 262.462 Q556.218 259.777 556.218 255.078 Q556.218 250.379 554.273 247.717 Q552.329 245.032 548.949 245.032 Q545.57 245.032 543.625 247.717 Q541.704 250.379 541.704 255.078 Z\" fill=\"#000000\" fill-rule=\"evenodd\" fill-opacity=\"1\" /><path clip-path=\"url(#clip120)\" d=\"M589.18 237.3 L589.18 250.286 L595.06 250.286 Q598.324 250.286 600.106 248.596 Q601.889 246.907 601.889 243.782 Q601.889 240.68 600.106 238.99 Q598.324 237.3 595.06 237.3 L589.18 237.3 M584.505 233.458 L595.06 233.458 Q600.87 233.458 603.833 236.096 Q606.819 238.712 606.819 243.782 Q606.819 248.897 603.833 251.513 Q600.87 254.129 595.06 254.129 L589.18 254.129 L589.18 268.018 L584.505 268.018 L584.505 233.458 Z\" fill=\"#000000\" fill-rule=\"evenodd\" fill-opacity=\"1\" /><path clip-path=\"url(#clip120)\" d=\"M621.264 245.078 Q617.838 245.078 615.847 247.763 Q613.856 250.425 613.856 255.078 Q613.856 259.731 615.824 262.416 Q617.815 265.078 621.264 265.078 Q624.666 265.078 626.657 262.393 Q628.648 259.707 628.648 255.078 Q628.648 250.471 626.657 247.786 Q624.666 245.078 621.264 245.078 M621.264 241.467 Q626.819 241.467 629.99 245.078 Q633.162 248.689 633.162 255.078 Q633.162 261.444 629.99 265.078 Q626.819 268.689 621.264 268.689 Q615.685 268.689 612.514 265.078 Q609.366 261.444 609.366 255.078 Q609.366 248.689 612.514 245.078 Q615.685 241.467 621.264 241.467 Z\" fill=\"#000000\" fill-rule=\"evenodd\" fill-opacity=\"1\" /><path clip-path=\"url(#clip120)\" d=\"M640.222 231.999 L644.481 231.999 L644.481 268.018 L640.222 268.018 L640.222 231.999 Z\" fill=\"#000000\" fill-rule=\"evenodd\" fill-opacity=\"1\" /><path clip-path=\"url(#clip120)\" d=\"M664.18 270.425 Q662.375 275.055 660.662 276.467 Q658.949 277.879 656.078 277.879 L652.675 277.879 L652.675 274.314 L655.175 274.314 Q656.935 274.314 657.907 273.48 Q658.879 272.647 660.06 269.545 L660.824 267.601 L650.338 242.092 L654.851 242.092 L662.953 262.369 L671.055 242.092 L675.569 242.092 L664.18 270.425 Z\" fill=\"#000000\" fill-rule=\"evenodd\" fill-opacity=\"1\" /><path clip-path=\"url(#clip120)\" d=\"M702.999 252.369 L702.999 268.018 L698.74 268.018 L698.74 252.508 Q698.74 248.828 697.305 246.999 Q695.87 245.17 692.999 245.17 Q689.55 245.17 687.56 247.37 Q685.569 249.569 685.569 253.365 L685.569 268.018 L681.286 268.018 L681.286 242.092 L685.569 242.092 L685.569 246.12 Q687.097 243.782 689.157 242.624 Q691.24 241.467 693.948 241.467 Q698.416 241.467 700.708 244.245 Q702.999 246.999 702.999 252.369 Z\" fill=\"#000000\" fill-rule=\"evenodd\" fill-opacity=\"1\" /><path clip-path=\"url(#clip120)\" d=\"M721.541 245.078 Q718.115 245.078 716.124 247.763 Q714.133 250.425 714.133 255.078 Q714.133 259.731 716.101 262.416 Q718.092 265.078 721.541 265.078 Q724.944 265.078 726.934 262.393 Q728.925 259.707 728.925 255.078 Q728.925 250.471 726.934 247.786 Q724.944 245.078 721.541 245.078 M721.541 241.467 Q727.096 241.467 730.268 245.078 Q733.439 248.689 733.439 255.078 Q733.439 261.444 730.268 265.078 Q727.096 268.689 721.541 268.689 Q715.962 268.689 712.791 265.078 Q709.643 261.444 709.643 255.078 Q709.643 248.689 712.791 245.078 Q715.962 241.467 721.541 241.467 Z\" fill=\"#000000\" fill-rule=\"evenodd\" fill-opacity=\"1\" /><path clip-path=\"url(#clip120)\" d=\"M760.684 247.069 Q762.281 244.198 764.504 242.833 Q766.726 241.467 769.735 241.467 Q773.786 241.467 775.985 244.314 Q778.184 247.138 778.184 252.369 L778.184 268.018 L773.902 268.018 L773.902 252.508 Q773.902 248.782 772.582 246.976 Q771.263 245.17 768.555 245.17 Q765.244 245.17 763.323 247.37 Q761.402 249.569 761.402 253.365 L761.402 268.018 L757.119 268.018 L757.119 252.508 Q757.119 248.758 755.8 246.976 Q754.481 245.17 751.726 245.17 Q748.462 245.17 746.541 247.393 Q744.619 249.592 744.619 253.365 L744.619 268.018 L740.337 268.018 L740.337 242.092 L744.619 242.092 L744.619 246.12 Q746.078 243.735 748.115 242.601 Q750.152 241.467 752.953 241.467 Q755.777 241.467 757.744 242.902 Q759.735 244.337 760.684 247.069 Z\" fill=\"#000000\" fill-rule=\"evenodd\" fill-opacity=\"1\" /><path clip-path=\"url(#clip120)\" d=\"M786.679 242.092 L790.939 242.092 L790.939 268.018 L786.679 268.018 L786.679 242.092 M786.679 231.999 L790.939 231.999 L790.939 237.393 L786.679 237.393 L786.679 231.999 Z\" fill=\"#000000\" fill-rule=\"evenodd\" fill-opacity=\"1\" /><path clip-path=\"url(#clip120)\" d=\"M811.633 254.985 Q806.471 254.985 804.48 256.166 Q802.49 257.346 802.49 260.194 Q802.49 262.462 803.971 263.805 Q805.476 265.124 808.045 265.124 Q811.587 265.124 813.716 262.624 Q815.869 260.101 815.869 255.934 L815.869 254.985 L811.633 254.985 M820.128 253.226 L820.128 268.018 L815.869 268.018 L815.869 264.082 Q814.411 266.443 812.235 267.578 Q810.059 268.689 806.911 268.689 Q802.929 268.689 800.568 266.467 Q798.23 264.221 798.23 260.471 Q798.23 256.096 801.147 253.874 Q804.087 251.652 809.897 251.652 L815.869 251.652 L815.869 251.235 Q815.869 248.295 813.925 246.698 Q812.003 245.078 808.508 245.078 Q806.286 245.078 804.179 245.61 Q802.073 246.143 800.128 247.207 L800.128 243.272 Q802.466 242.37 804.665 241.93 Q806.864 241.467 808.948 241.467 Q814.573 241.467 817.351 244.383 Q820.128 247.3 820.128 253.226 Z\" fill=\"#000000\" fill-rule=\"evenodd\" fill-opacity=\"1\" /><path clip-path=\"url(#clip120)\" d=\"M828.901 231.999 L833.161 231.999 L833.161 268.018 L828.901 268.018 L828.901 231.999 Z\" fill=\"#000000\" fill-rule=\"evenodd\" fill-opacity=\"1\" /><path clip-path=\"url(#clip120)\" d=\"M857.327 233.458 L862.003 233.458 L862.003 264.082 L878.832 264.082 L878.832 268.018 L857.327 268.018 L857.327 233.458 Z\" fill=\"#000000\" fill-rule=\"evenodd\" fill-opacity=\"1\" /><path clip-path=\"url(#clip120)\" d=\"M883.554 242.092 L887.813 242.092 L887.813 268.018 L883.554 268.018 L883.554 242.092 M883.554 231.999 L887.813 231.999 L887.813 237.393 L883.554 237.393 L883.554 231.999 Z\" fill=\"#000000\" fill-rule=\"evenodd\" fill-opacity=\"1\" /><path clip-path=\"url(#clip120)\" d=\"M918.276 252.369 L918.276 268.018 L914.017 268.018 L914.017 252.508 Q914.017 248.828 912.582 246.999 Q911.146 245.17 908.276 245.17 Q904.827 245.17 902.836 247.37 Q900.845 249.569 900.845 253.365 L900.845 268.018 L896.563 268.018 L896.563 242.092 L900.845 242.092 L900.845 246.12 Q902.373 243.782 904.433 242.624 Q906.517 241.467 909.225 241.467 Q913.693 241.467 915.984 244.245 Q918.276 246.999 918.276 252.369 Z\" fill=\"#000000\" fill-rule=\"evenodd\" fill-opacity=\"1\" /><path clip-path=\"url(#clip120)\" d=\"M948.947 253.99 L948.947 256.073 L929.364 256.073 Q929.642 260.471 932.003 262.786 Q934.387 265.078 938.623 265.078 Q941.077 265.078 943.368 264.476 Q945.683 263.874 947.952 262.67 L947.952 266.698 Q945.66 267.67 943.253 268.18 Q940.845 268.689 938.368 268.689 Q932.165 268.689 928.53 265.078 Q924.919 261.467 924.919 255.309 Q924.919 248.944 928.345 245.217 Q931.794 241.467 937.628 241.467 Q942.859 241.467 945.892 244.846 Q948.947 248.203 948.947 253.99 M944.688 252.74 Q944.642 249.245 942.72 247.161 Q940.822 245.078 937.674 245.078 Q934.109 245.078 931.956 247.092 Q929.827 249.106 929.503 252.763 L944.688 252.74 Z\" fill=\"#000000\" fill-rule=\"evenodd\" fill-opacity=\"1\" /></svg>\n"
      ]
     },
     "execution_count": 223,
     "metadata": {},
     "output_type": "execute_result"
    }
   ],
   "source": [
    "using Polynomials\n",
    "x = collect(x)\n",
    "\n",
    "dataerror = 10.0\n",
    "noise = di.Normal(0, dataerror)\n",
    "y_observed10 = y_true+rand(noise, length(x))\n",
    "\n",
    "# Fit the data (x, y_observed) with a 10th-degree polynomial\n",
    "line_fit10 = fit(x, y_observed10, 10)\n",
    "p = coeffs(line_fit10)\n",
    "# Evaluate the polynomial at a set of points\n",
    "\n",
    "y_fitpol = p[1] .+ (p[2] .* x.^1) + (p[3] .* (x.^2)) + (p[4] .* (x.^3)) + (p[5] .* (x.^4)) + (p[6] .* (x.^5)) + (p[7] .* (x.^6)) + (p[8] .* (x.^7)) + (p[9] .* (x.^8)) + (p[10] .* (x.^9)) + (p[11] .* (x.^10))\n",
    "\n",
    "scatter(x, y_observed10)\n",
    "plot!(x, y_true, label = \"True Line\")\n",
    "plot!(x, y_fitpol, label= \"Fitted Polynomial Line\")"
   ]
  },
  {
   "cell_type": "markdown",
   "metadata": {},
   "source": [
    "### 2.6\n",
    "\n",
    "1. Create a new independent parameter x_fit ranging from -11 to 11 with an increment of 0.1\n",
    "2. Plot the same three plots as in 2.3 again but apply the tenth order polynomial to x_fit instead of x\n"
   ]
  },
  {
   "cell_type": "code",
   "execution_count": 228,
   "metadata": {
    "scrolled": true
   },
   "outputs": [
    {
     "data": {
      "image/svg+xml": [
       "<?xml version=\"1.0\" encoding=\"utf-8\"?>\n",
       "<svg xmlns=\"http://www.w3.org/2000/svg\" xmlns:xlink=\"http://www.w3.org/1999/xlink\" width=\"600\" height=\"400\" viewBox=\"0 0 2400 1600\">\n",
       "<defs>\n",
       "  <clipPath id=\"clip260\">\n",
       "    <rect x=\"0\" y=\"0\" width=\"2400\" height=\"1600\"/>\n",
       "  </clipPath>\n",
       "</defs>\n",
       "<path clip-path=\"url(#clip260)\" d=\"M0 1600 L2400 1600 L2400 0 L0 0  Z\" fill=\"#ffffff\" fill-rule=\"evenodd\" fill-opacity=\"1\"/>\n",
       "<defs>\n",
       "  <clipPath id=\"clip261\">\n",
       "    <rect x=\"480\" y=\"0\" width=\"1681\" height=\"1600\"/>\n",
       "  </clipPath>\n",
       "</defs>\n",
       "<path clip-path=\"url(#clip260)\" d=\"M172.015 1486.45 L2352.76 1486.45 L2352.76 47.2441 L172.015 47.2441  Z\" fill=\"#ffffff\" fill-rule=\"evenodd\" fill-opacity=\"1\"/>\n",
       "<defs>\n",
       "  <clipPath id=\"clip262\">\n",
       "    <rect x=\"172\" y=\"47\" width=\"2182\" height=\"1440\"/>\n",
       "  </clipPath>\n",
       "</defs>\n",
       "<polyline clip-path=\"url(#clip262)\" style=\"stroke:#000000; stroke-linecap:round; stroke-linejoin:round; stroke-width:2; stroke-opacity:0.1; fill:none\" points=\"327.248,1486.45 327.248,47.2441 \"/>\n",
       "<polyline clip-path=\"url(#clip262)\" style=\"stroke:#000000; stroke-linecap:round; stroke-linejoin:round; stroke-width:2; stroke-opacity:0.1; fill:none\" points=\"794.817,1486.45 794.817,47.2441 \"/>\n",
       "<polyline clip-path=\"url(#clip262)\" style=\"stroke:#000000; stroke-linecap:round; stroke-linejoin:round; stroke-width:2; stroke-opacity:0.1; fill:none\" points=\"1262.39,1486.45 1262.39,47.2441 \"/>\n",
       "<polyline clip-path=\"url(#clip262)\" style=\"stroke:#000000; stroke-linecap:round; stroke-linejoin:round; stroke-width:2; stroke-opacity:0.1; fill:none\" points=\"1729.95,1486.45 1729.95,47.2441 \"/>\n",
       "<polyline clip-path=\"url(#clip262)\" style=\"stroke:#000000; stroke-linecap:round; stroke-linejoin:round; stroke-width:2; stroke-opacity:0.1; fill:none\" points=\"2197.52,1486.45 2197.52,47.2441 \"/>\n",
       "<polyline clip-path=\"url(#clip260)\" style=\"stroke:#000000; stroke-linecap:round; stroke-linejoin:round; stroke-width:4; stroke-opacity:1; fill:none\" points=\"172.015,1486.45 2352.76,1486.45 \"/>\n",
       "<polyline clip-path=\"url(#clip260)\" style=\"stroke:#000000; stroke-linecap:round; stroke-linejoin:round; stroke-width:4; stroke-opacity:1; fill:none\" points=\"327.248,1486.45 327.248,1467.55 \"/>\n",
       "<polyline clip-path=\"url(#clip260)\" style=\"stroke:#000000; stroke-linecap:round; stroke-linejoin:round; stroke-width:4; stroke-opacity:1; fill:none\" points=\"794.817,1486.45 794.817,1467.55 \"/>\n",
       "<polyline clip-path=\"url(#clip260)\" style=\"stroke:#000000; stroke-linecap:round; stroke-linejoin:round; stroke-width:4; stroke-opacity:1; fill:none\" points=\"1262.39,1486.45 1262.39,1467.55 \"/>\n",
       "<polyline clip-path=\"url(#clip260)\" style=\"stroke:#000000; stroke-linecap:round; stroke-linejoin:round; stroke-width:4; stroke-opacity:1; fill:none\" points=\"1729.95,1486.45 1729.95,1467.55 \"/>\n",
       "<polyline clip-path=\"url(#clip260)\" style=\"stroke:#000000; stroke-linecap:round; stroke-linejoin:round; stroke-width:4; stroke-opacity:1; fill:none\" points=\"2197.52,1486.45 2197.52,1467.55 \"/>\n",
       "<path clip-path=\"url(#clip260)\" d=\"M281.31 1532.02 L310.986 1532.02 L310.986 1535.95 L281.31 1535.95 L281.31 1532.02 Z\" fill=\"#000000\" fill-rule=\"evenodd\" fill-opacity=\"1\" /><path clip-path=\"url(#clip260)\" d=\"M321.889 1544.91 L329.528 1544.91 L329.528 1518.55 L321.218 1520.21 L321.218 1515.95 L329.481 1514.29 L334.157 1514.29 L334.157 1544.91 L341.796 1544.91 L341.796 1548.85 L321.889 1548.85 L321.889 1544.91 Z\" fill=\"#000000\" fill-rule=\"evenodd\" fill-opacity=\"1\" /><path clip-path=\"url(#clip260)\" d=\"M361.241 1517.37 Q357.629 1517.37 355.801 1520.93 Q353.995 1524.47 353.995 1531.6 Q353.995 1538.71 355.801 1542.27 Q357.629 1545.82 361.241 1545.82 Q364.875 1545.82 366.68 1542.27 Q368.509 1538.71 368.509 1531.6 Q368.509 1524.47 366.68 1520.93 Q364.875 1517.37 361.241 1517.37 M361.241 1513.66 Q367.051 1513.66 370.106 1518.27 Q373.185 1522.85 373.185 1531.6 Q373.185 1540.33 370.106 1544.94 Q367.051 1549.52 361.241 1549.52 Q355.43 1549.52 352.352 1544.94 Q349.296 1540.33 349.296 1531.6 Q349.296 1522.85 352.352 1518.27 Q355.43 1513.66 361.241 1513.66 Z\" fill=\"#000000\" fill-rule=\"evenodd\" fill-opacity=\"1\" /><path clip-path=\"url(#clip260)\" d=\"M764.458 1532.02 L794.134 1532.02 L794.134 1535.95 L764.458 1535.95 L764.458 1532.02 Z\" fill=\"#000000\" fill-rule=\"evenodd\" fill-opacity=\"1\" /><path clip-path=\"url(#clip260)\" d=\"M804.272 1514.29 L822.629 1514.29 L822.629 1518.22 L808.555 1518.22 L808.555 1526.7 Q809.573 1526.35 810.592 1526.19 Q811.61 1526 812.629 1526 Q818.416 1526 821.796 1529.17 Q825.175 1532.34 825.175 1537.76 Q825.175 1543.34 821.703 1546.44 Q818.231 1549.52 811.911 1549.52 Q809.735 1549.52 807.467 1549.15 Q805.222 1548.78 802.814 1548.04 L802.814 1543.34 Q804.897 1544.47 807.12 1545.03 Q809.342 1545.58 811.819 1545.58 Q815.823 1545.58 818.161 1543.48 Q820.499 1541.37 820.499 1537.76 Q820.499 1534.15 818.161 1532.04 Q815.823 1529.94 811.819 1529.94 Q809.944 1529.94 808.069 1530.35 Q806.217 1530.77 804.272 1531.65 L804.272 1514.29 Z\" fill=\"#000000\" fill-rule=\"evenodd\" fill-opacity=\"1\" /><path clip-path=\"url(#clip260)\" d=\"M1262.39 1517.37 Q1258.77 1517.37 1256.95 1520.93 Q1255.14 1524.47 1255.14 1531.6 Q1255.14 1538.71 1256.95 1542.27 Q1258.77 1545.82 1262.39 1545.82 Q1266.02 1545.82 1267.83 1542.27 Q1269.65 1538.71 1269.65 1531.6 Q1269.65 1524.47 1267.83 1520.93 Q1266.02 1517.37 1262.39 1517.37 M1262.39 1513.66 Q1268.2 1513.66 1271.25 1518.27 Q1274.33 1522.85 1274.33 1531.6 Q1274.33 1540.33 1271.25 1544.94 Q1268.2 1549.52 1262.39 1549.52 Q1256.58 1549.52 1253.5 1544.94 Q1250.44 1540.33 1250.44 1531.6 Q1250.44 1522.85 1253.5 1518.27 Q1256.58 1513.66 1262.39 1513.66 Z\" fill=\"#000000\" fill-rule=\"evenodd\" fill-opacity=\"1\" /><path clip-path=\"url(#clip260)\" d=\"M1720.23 1514.29 L1738.59 1514.29 L1738.59 1518.22 L1724.51 1518.22 L1724.51 1526.7 Q1725.53 1526.35 1726.55 1526.19 Q1727.57 1526 1728.59 1526 Q1734.38 1526 1737.76 1529.17 Q1741.13 1532.34 1741.13 1537.76 Q1741.13 1543.34 1737.66 1546.44 Q1734.19 1549.52 1727.87 1549.52 Q1725.69 1549.52 1723.43 1549.15 Q1721.18 1548.78 1718.77 1548.04 L1718.77 1543.34 Q1720.86 1544.47 1723.08 1545.03 Q1725.3 1545.58 1727.78 1545.58 Q1731.78 1545.58 1734.12 1543.48 Q1736.46 1541.37 1736.46 1537.76 Q1736.46 1534.15 1734.12 1532.04 Q1731.78 1529.94 1727.78 1529.94 Q1725.9 1529.94 1724.03 1530.35 Q1722.18 1530.77 1720.23 1531.65 L1720.23 1514.29 Z\" fill=\"#000000\" fill-rule=\"evenodd\" fill-opacity=\"1\" /><path clip-path=\"url(#clip260)\" d=\"M2172.21 1544.91 L2179.85 1544.91 L2179.85 1518.55 L2171.54 1520.21 L2171.54 1515.95 L2179.8 1514.29 L2184.48 1514.29 L2184.48 1544.91 L2192.12 1544.91 L2192.12 1548.85 L2172.21 1548.85 L2172.21 1544.91 Z\" fill=\"#000000\" fill-rule=\"evenodd\" fill-opacity=\"1\" /><path clip-path=\"url(#clip260)\" d=\"M2211.56 1517.37 Q2207.95 1517.37 2206.12 1520.93 Q2204.32 1524.47 2204.32 1531.6 Q2204.32 1538.71 2206.12 1542.27 Q2207.95 1545.82 2211.56 1545.82 Q2215.2 1545.82 2217 1542.27 Q2218.83 1538.71 2218.83 1531.6 Q2218.83 1524.47 2217 1520.93 Q2215.2 1517.37 2211.56 1517.37 M2211.56 1513.66 Q2217.37 1513.66 2220.43 1518.27 Q2223.51 1522.85 2223.51 1531.6 Q2223.51 1540.33 2220.43 1544.94 Q2217.37 1549.52 2211.56 1549.52 Q2205.75 1549.52 2202.67 1544.94 Q2199.62 1540.33 2199.62 1531.6 Q2199.62 1522.85 2202.67 1518.27 Q2205.75 1513.66 2211.56 1513.66 Z\" fill=\"#000000\" fill-rule=\"evenodd\" fill-opacity=\"1\" /><polyline clip-path=\"url(#clip262)\" style=\"stroke:#000000; stroke-linecap:round; stroke-linejoin:round; stroke-width:2; stroke-opacity:0.1; fill:none\" points=\"172.015,1398.12 2352.76,1398.12 \"/>\n",
       "<polyline clip-path=\"url(#clip262)\" style=\"stroke:#000000; stroke-linecap:round; stroke-linejoin:round; stroke-width:2; stroke-opacity:0.1; fill:none\" points=\"172.015,1087.94 2352.76,1087.94 \"/>\n",
       "<polyline clip-path=\"url(#clip262)\" style=\"stroke:#000000; stroke-linecap:round; stroke-linejoin:round; stroke-width:2; stroke-opacity:0.1; fill:none\" points=\"172.015,777.76 2352.76,777.76 \"/>\n",
       "<polyline clip-path=\"url(#clip262)\" style=\"stroke:#000000; stroke-linecap:round; stroke-linejoin:round; stroke-width:2; stroke-opacity:0.1; fill:none\" points=\"172.015,467.578 2352.76,467.578 \"/>\n",
       "<polyline clip-path=\"url(#clip262)\" style=\"stroke:#000000; stroke-linecap:round; stroke-linejoin:round; stroke-width:2; stroke-opacity:0.1; fill:none\" points=\"172.015,157.396 2352.76,157.396 \"/>\n",
       "<polyline clip-path=\"url(#clip260)\" style=\"stroke:#000000; stroke-linecap:round; stroke-linejoin:round; stroke-width:4; stroke-opacity:1; fill:none\" points=\"172.015,1486.45 172.015,47.2441 \"/>\n",
       "<polyline clip-path=\"url(#clip260)\" style=\"stroke:#000000; stroke-linecap:round; stroke-linejoin:round; stroke-width:4; stroke-opacity:1; fill:none\" points=\"172.015,1398.12 190.912,1398.12 \"/>\n",
       "<polyline clip-path=\"url(#clip260)\" style=\"stroke:#000000; stroke-linecap:round; stroke-linejoin:round; stroke-width:4; stroke-opacity:1; fill:none\" points=\"172.015,1087.94 190.912,1087.94 \"/>\n",
       "<polyline clip-path=\"url(#clip260)\" style=\"stroke:#000000; stroke-linecap:round; stroke-linejoin:round; stroke-width:4; stroke-opacity:1; fill:none\" points=\"172.015,777.76 190.912,777.76 \"/>\n",
       "<polyline clip-path=\"url(#clip260)\" style=\"stroke:#000000; stroke-linecap:round; stroke-linejoin:round; stroke-width:4; stroke-opacity:1; fill:none\" points=\"172.015,467.578 190.912,467.578 \"/>\n",
       "<polyline clip-path=\"url(#clip260)\" style=\"stroke:#000000; stroke-linecap:round; stroke-linejoin:round; stroke-width:4; stroke-opacity:1; fill:none\" points=\"172.015,157.396 190.912,157.396 \"/>\n",
       "<path clip-path=\"url(#clip260)\" d=\"M124.07 1383.92 Q120.459 1383.92 118.631 1387.49 Q116.825 1391.03 116.825 1398.16 Q116.825 1405.27 118.631 1408.83 Q120.459 1412.37 124.07 1412.37 Q127.705 1412.37 129.51 1408.83 Q131.339 1405.27 131.339 1398.16 Q131.339 1391.03 129.51 1387.49 Q127.705 1383.92 124.07 1383.92 M124.07 1380.22 Q129.881 1380.22 132.936 1384.83 Q136.015 1389.41 136.015 1398.16 Q136.015 1406.89 132.936 1411.49 Q129.881 1416.08 124.07 1416.08 Q118.26 1416.08 115.182 1411.49 Q112.126 1406.89 112.126 1398.16 Q112.126 1389.41 115.182 1384.83 Q118.26 1380.22 124.07 1380.22 Z\" fill=\"#000000\" fill-rule=\"evenodd\" fill-opacity=\"1\" /><path clip-path=\"url(#clip260)\" d=\"M54.5569 1101.29 L62.1958 1101.29 L62.1958 1074.92 L53.8856 1076.59 L53.8856 1072.33 L62.1495 1070.66 L66.8254 1070.66 L66.8254 1101.29 L74.4642 1101.29 L74.4642 1105.22 L54.5569 1105.22 L54.5569 1101.29 Z\" fill=\"#000000\" fill-rule=\"evenodd\" fill-opacity=\"1\" /><path clip-path=\"url(#clip260)\" d=\"M93.9086 1073.74 Q90.2975 1073.74 88.4688 1077.31 Q86.6632 1080.85 86.6632 1087.98 Q86.6632 1095.08 88.4688 1098.65 Q90.2975 1102.19 93.9086 1102.19 Q97.5428 1102.19 99.3483 1098.65 Q101.177 1095.08 101.177 1087.98 Q101.177 1080.85 99.3483 1077.31 Q97.5428 1073.74 93.9086 1073.74 M93.9086 1070.04 Q99.7187 1070.04 102.774 1074.64 Q105.853 1079.23 105.853 1087.98 Q105.853 1096.7 102.774 1101.31 Q99.7187 1105.89 93.9086 1105.89 Q88.0984 1105.89 85.0197 1101.31 Q81.9642 1096.7 81.9642 1087.98 Q81.9642 1079.23 85.0197 1074.64 Q88.0984 1070.04 93.9086 1070.04 Z\" fill=\"#000000\" fill-rule=\"evenodd\" fill-opacity=\"1\" /><path clip-path=\"url(#clip260)\" d=\"M124.07 1073.74 Q120.459 1073.74 118.631 1077.31 Q116.825 1080.85 116.825 1087.98 Q116.825 1095.08 118.631 1098.65 Q120.459 1102.19 124.07 1102.19 Q127.705 1102.19 129.51 1098.65 Q131.339 1095.08 131.339 1087.98 Q131.339 1080.85 129.51 1077.31 Q127.705 1073.74 124.07 1073.74 M124.07 1070.04 Q129.881 1070.04 132.936 1074.64 Q136.015 1079.23 136.015 1087.98 Q136.015 1096.7 132.936 1101.31 Q129.881 1105.89 124.07 1105.89 Q118.26 1105.89 115.182 1101.31 Q112.126 1096.7 112.126 1087.98 Q112.126 1079.23 115.182 1074.64 Q118.26 1070.04 124.07 1070.04 Z\" fill=\"#000000\" fill-rule=\"evenodd\" fill-opacity=\"1\" /><path clip-path=\"url(#clip260)\" d=\"M57.7745 791.105 L74.0939 791.105 L74.0939 795.04 L52.1495 795.04 L52.1495 791.105 Q54.8115 788.351 59.3949 783.721 Q64.0013 779.068 65.1819 777.726 Q67.4272 775.203 68.3068 773.466 Q69.2096 771.707 69.2096 770.017 Q69.2096 767.263 67.2652 765.527 Q65.3439 763.791 62.2421 763.791 Q60.043 763.791 57.5893 764.554 Q55.1588 765.318 52.381 766.869 L52.381 762.147 Q55.2051 761.013 57.6588 760.434 Q60.1124 759.855 62.1495 759.855 Q67.5198 759.855 70.7142 762.541 Q73.9087 765.226 73.9087 769.716 Q73.9087 771.846 73.0985 773.767 Q72.3115 775.665 70.205 778.258 Q69.6263 778.929 66.5245 782.147 Q63.4226 785.341 57.7745 791.105 Z\" fill=\"#000000\" fill-rule=\"evenodd\" fill-opacity=\"1\" /><path clip-path=\"url(#clip260)\" d=\"M93.9086 763.559 Q90.2975 763.559 88.4688 767.124 Q86.6632 770.665 86.6632 777.795 Q86.6632 784.902 88.4688 788.466 Q90.2975 792.008 93.9086 792.008 Q97.5428 792.008 99.3483 788.466 Q101.177 784.902 101.177 777.795 Q101.177 770.665 99.3483 767.124 Q97.5428 763.559 93.9086 763.559 M93.9086 759.855 Q99.7187 759.855 102.774 764.462 Q105.853 769.045 105.853 777.795 Q105.853 786.522 102.774 791.128 Q99.7187 795.712 93.9086 795.712 Q88.0984 795.712 85.0197 791.128 Q81.9642 786.522 81.9642 777.795 Q81.9642 769.045 85.0197 764.462 Q88.0984 759.855 93.9086 759.855 Z\" fill=\"#000000\" fill-rule=\"evenodd\" fill-opacity=\"1\" /><path clip-path=\"url(#clip260)\" d=\"M124.07 763.559 Q120.459 763.559 118.631 767.124 Q116.825 770.665 116.825 777.795 Q116.825 784.902 118.631 788.466 Q120.459 792.008 124.07 792.008 Q127.705 792.008 129.51 788.466 Q131.339 784.902 131.339 777.795 Q131.339 770.665 129.51 767.124 Q127.705 763.559 124.07 763.559 M124.07 759.855 Q129.881 759.855 132.936 764.462 Q136.015 769.045 136.015 777.795 Q136.015 786.522 132.936 791.128 Q129.881 795.712 124.07 795.712 Q118.26 795.712 115.182 791.128 Q112.126 786.522 112.126 777.795 Q112.126 769.045 115.182 764.462 Q118.26 759.855 124.07 759.855 Z\" fill=\"#000000\" fill-rule=\"evenodd\" fill-opacity=\"1\" /><path clip-path=\"url(#clip260)\" d=\"M67.9133 466.224 Q71.2698 466.942 73.1448 469.21 Q75.0429 471.479 75.0429 474.812 Q75.0429 479.928 71.5244 482.729 Q68.0059 485.53 61.5245 485.53 Q59.3486 485.53 57.0338 485.09 Q54.7421 484.673 52.2884 483.817 L52.2884 479.303 Q54.2328 480.437 56.5477 481.016 Q58.8625 481.595 61.3856 481.595 Q65.7837 481.595 68.0754 479.858 Q70.3902 478.122 70.3902 474.812 Q70.3902 471.757 68.2374 470.044 Q66.1078 468.308 62.2884 468.308 L58.2606 468.308 L58.2606 464.465 L62.4735 464.465 Q65.9226 464.465 67.7513 463.099 Q69.58 461.71 69.58 459.118 Q69.58 456.456 67.6819 455.044 Q65.8069 453.609 62.2884 453.609 Q60.3671 453.609 58.168 454.025 Q55.969 454.442 53.3301 455.322 L53.3301 451.155 Q55.9921 450.414 58.3069 450.044 Q60.6449 449.673 62.705 449.673 Q68.0291 449.673 71.1309 452.104 Q74.2327 454.511 74.2327 458.632 Q74.2327 461.502 72.5892 463.493 Q70.9457 465.46 67.9133 466.224 Z\" fill=\"#000000\" fill-rule=\"evenodd\" fill-opacity=\"1\" /><path clip-path=\"url(#clip260)\" d=\"M93.9086 453.377 Q90.2975 453.377 88.4688 456.942 Q86.6632 460.484 86.6632 467.613 Q86.6632 474.72 88.4688 478.284 Q90.2975 481.826 93.9086 481.826 Q97.5428 481.826 99.3483 478.284 Q101.177 474.72 101.177 467.613 Q101.177 460.484 99.3483 456.942 Q97.5428 453.377 93.9086 453.377 M93.9086 449.673 Q99.7187 449.673 102.774 454.28 Q105.853 458.863 105.853 467.613 Q105.853 476.34 102.774 480.946 Q99.7187 485.53 93.9086 485.53 Q88.0984 485.53 85.0197 480.946 Q81.9642 476.34 81.9642 467.613 Q81.9642 458.863 85.0197 454.28 Q88.0984 449.673 93.9086 449.673 Z\" fill=\"#000000\" fill-rule=\"evenodd\" fill-opacity=\"1\" /><path clip-path=\"url(#clip260)\" d=\"M124.07 453.377 Q120.459 453.377 118.631 456.942 Q116.825 460.484 116.825 467.613 Q116.825 474.72 118.631 478.284 Q120.459 481.826 124.07 481.826 Q127.705 481.826 129.51 478.284 Q131.339 474.72 131.339 467.613 Q131.339 460.484 129.51 456.942 Q127.705 453.377 124.07 453.377 M124.07 449.673 Q129.881 449.673 132.936 454.28 Q136.015 458.863 136.015 467.613 Q136.015 476.34 132.936 480.946 Q129.881 485.53 124.07 485.53 Q118.26 485.53 115.182 480.946 Q112.126 476.34 112.126 467.613 Q112.126 458.863 115.182 454.28 Q118.26 449.673 124.07 449.673 Z\" fill=\"#000000\" fill-rule=\"evenodd\" fill-opacity=\"1\" /><path clip-path=\"url(#clip260)\" d=\"M66.5939 144.191 L54.7884 162.639 L66.5939 162.639 L66.5939 144.191 M65.367 140.116 L71.2466 140.116 L71.2466 162.639 L76.1772 162.639 L76.1772 166.528 L71.2466 166.528 L71.2466 174.676 L66.5939 174.676 L66.5939 166.528 L50.9921 166.528 L50.9921 162.014 L65.367 140.116 Z\" fill=\"#000000\" fill-rule=\"evenodd\" fill-opacity=\"1\" /><path clip-path=\"url(#clip260)\" d=\"M93.9086 143.195 Q90.2975 143.195 88.4688 146.76 Q86.6632 150.302 86.6632 157.431 Q86.6632 164.538 88.4688 168.102 Q90.2975 171.644 93.9086 171.644 Q97.5428 171.644 99.3483 168.102 Q101.177 164.538 101.177 157.431 Q101.177 150.302 99.3483 146.76 Q97.5428 143.195 93.9086 143.195 M93.9086 139.491 Q99.7187 139.491 102.774 144.098 Q105.853 148.681 105.853 157.431 Q105.853 166.158 102.774 170.764 Q99.7187 175.348 93.9086 175.348 Q88.0984 175.348 85.0197 170.764 Q81.9642 166.158 81.9642 157.431 Q81.9642 148.681 85.0197 144.098 Q88.0984 139.491 93.9086 139.491 Z\" fill=\"#000000\" fill-rule=\"evenodd\" fill-opacity=\"1\" /><path clip-path=\"url(#clip260)\" d=\"M124.07 143.195 Q120.459 143.195 118.631 146.76 Q116.825 150.302 116.825 157.431 Q116.825 164.538 118.631 168.102 Q120.459 171.644 124.07 171.644 Q127.705 171.644 129.51 168.102 Q131.339 164.538 131.339 157.431 Q131.339 150.302 129.51 146.76 Q127.705 143.195 124.07 143.195 M124.07 139.491 Q129.881 139.491 132.936 144.098 Q136.015 148.681 136.015 157.431 Q136.015 166.158 132.936 170.764 Q129.881 175.348 124.07 175.348 Q118.26 175.348 115.182 170.764 Q112.126 166.158 112.126 157.431 Q112.126 148.681 115.182 144.098 Q118.26 139.491 124.07 139.491 Z\" fill=\"#000000\" fill-rule=\"evenodd\" fill-opacity=\"1\" /><circle clip-path=\"url(#clip262)\" cx=\"327.248\" cy=\"1181\" r=\"14.4\" fill=\"#009af9\" fill-rule=\"evenodd\" fill-opacity=\"1\" stroke=\"#000000\" stroke-opacity=\"1\" stroke-width=\"3.2\"/>\n",
       "<circle clip-path=\"url(#clip262)\" cx=\"420.761\" cy=\"1283.75\" r=\"14.4\" fill=\"#009af9\" fill-rule=\"evenodd\" fill-opacity=\"1\" stroke=\"#000000\" stroke-opacity=\"1\" stroke-width=\"3.2\"/>\n",
       "<circle clip-path=\"url(#clip262)\" cx=\"514.275\" cy=\"1284.27\" r=\"14.4\" fill=\"#009af9\" fill-rule=\"evenodd\" fill-opacity=\"1\" stroke=\"#000000\" stroke-opacity=\"1\" stroke-width=\"3.2\"/>\n",
       "<circle clip-path=\"url(#clip262)\" cx=\"607.789\" cy=\"1339.89\" r=\"14.4\" fill=\"#009af9\" fill-rule=\"evenodd\" fill-opacity=\"1\" stroke=\"#000000\" stroke-opacity=\"1\" stroke-width=\"3.2\"/>\n",
       "<circle clip-path=\"url(#clip262)\" cx=\"701.303\" cy=\"1347.51\" r=\"14.4\" fill=\"#009af9\" fill-rule=\"evenodd\" fill-opacity=\"1\" stroke=\"#000000\" stroke-opacity=\"1\" stroke-width=\"3.2\"/>\n",
       "<circle clip-path=\"url(#clip262)\" cx=\"794.817\" cy=\"1416.57\" r=\"14.4\" fill=\"#009af9\" fill-rule=\"evenodd\" fill-opacity=\"1\" stroke=\"#000000\" stroke-opacity=\"1\" stroke-width=\"3.2\"/>\n",
       "<circle clip-path=\"url(#clip262)\" cx=\"888.33\" cy=\"1394.56\" r=\"14.4\" fill=\"#009af9\" fill-rule=\"evenodd\" fill-opacity=\"1\" stroke=\"#000000\" stroke-opacity=\"1\" stroke-width=\"3.2\"/>\n",
       "<circle clip-path=\"url(#clip262)\" cx=\"981.844\" cy=\"1363.89\" r=\"14.4\" fill=\"#009af9\" fill-rule=\"evenodd\" fill-opacity=\"1\" stroke=\"#000000\" stroke-opacity=\"1\" stroke-width=\"3.2\"/>\n",
       "<circle clip-path=\"url(#clip262)\" cx=\"1075.36\" cy=\"1436.11\" r=\"14.4\" fill=\"#009af9\" fill-rule=\"evenodd\" fill-opacity=\"1\" stroke=\"#000000\" stroke-opacity=\"1\" stroke-width=\"3.2\"/>\n",
       "<circle clip-path=\"url(#clip262)\" cx=\"1168.87\" cy=\"1445.72\" r=\"14.4\" fill=\"#009af9\" fill-rule=\"evenodd\" fill-opacity=\"1\" stroke=\"#000000\" stroke-opacity=\"1\" stroke-width=\"3.2\"/>\n",
       "<circle clip-path=\"url(#clip262)\" cx=\"1262.39\" cy=\"1370.63\" r=\"14.4\" fill=\"#009af9\" fill-rule=\"evenodd\" fill-opacity=\"1\" stroke=\"#000000\" stroke-opacity=\"1\" stroke-width=\"3.2\"/>\n",
       "<circle clip-path=\"url(#clip262)\" cx=\"1355.9\" cy=\"1380.78\" r=\"14.4\" fill=\"#009af9\" fill-rule=\"evenodd\" fill-opacity=\"1\" stroke=\"#000000\" stroke-opacity=\"1\" stroke-width=\"3.2\"/>\n",
       "<circle clip-path=\"url(#clip262)\" cx=\"1449.41\" cy=\"1377.71\" r=\"14.4\" fill=\"#009af9\" fill-rule=\"evenodd\" fill-opacity=\"1\" stroke=\"#000000\" stroke-opacity=\"1\" stroke-width=\"3.2\"/>\n",
       "<circle clip-path=\"url(#clip262)\" cx=\"1542.93\" cy=\"1312.95\" r=\"14.4\" fill=\"#009af9\" fill-rule=\"evenodd\" fill-opacity=\"1\" stroke=\"#000000\" stroke-opacity=\"1\" stroke-width=\"3.2\"/>\n",
       "<circle clip-path=\"url(#clip262)\" cx=\"1636.44\" cy=\"1313.09\" r=\"14.4\" fill=\"#009af9\" fill-rule=\"evenodd\" fill-opacity=\"1\" stroke=\"#000000\" stroke-opacity=\"1\" stroke-width=\"3.2\"/>\n",
       "<circle clip-path=\"url(#clip262)\" cx=\"1729.95\" cy=\"1292.38\" r=\"14.4\" fill=\"#009af9\" fill-rule=\"evenodd\" fill-opacity=\"1\" stroke=\"#000000\" stroke-opacity=\"1\" stroke-width=\"3.2\"/>\n",
       "<circle clip-path=\"url(#clip262)\" cx=\"1823.47\" cy=\"1318.58\" r=\"14.4\" fill=\"#009af9\" fill-rule=\"evenodd\" fill-opacity=\"1\" stroke=\"#000000\" stroke-opacity=\"1\" stroke-width=\"3.2\"/>\n",
       "<circle clip-path=\"url(#clip262)\" cx=\"1916.98\" cy=\"1188.83\" r=\"14.4\" fill=\"#009af9\" fill-rule=\"evenodd\" fill-opacity=\"1\" stroke=\"#000000\" stroke-opacity=\"1\" stroke-width=\"3.2\"/>\n",
       "<circle clip-path=\"url(#clip262)\" cx=\"2010.5\" cy=\"1100.12\" r=\"14.4\" fill=\"#009af9\" fill-rule=\"evenodd\" fill-opacity=\"1\" stroke=\"#000000\" stroke-opacity=\"1\" stroke-width=\"3.2\"/>\n",
       "<circle clip-path=\"url(#clip262)\" cx=\"2104.01\" cy=\"1047.93\" r=\"14.4\" fill=\"#009af9\" fill-rule=\"evenodd\" fill-opacity=\"1\" stroke=\"#000000\" stroke-opacity=\"1\" stroke-width=\"3.2\"/>\n",
       "<circle clip-path=\"url(#clip262)\" cx=\"2197.52\" cy=\"984.062\" r=\"14.4\" fill=\"#009af9\" fill-rule=\"evenodd\" fill-opacity=\"1\" stroke=\"#000000\" stroke-opacity=\"1\" stroke-width=\"3.2\"/>\n",
       "<polyline clip-path=\"url(#clip262)\" style=\"stroke:#e26f46; stroke-linecap:round; stroke-linejoin:round; stroke-width:4; stroke-opacity:1; fill:none\" points=\"327.248,1187.2 420.761,1236.83 514.275,1280.26 607.789,1317.48 701.303,1348.5 794.817,1373.31 888.33,1391.92 981.844,1404.33 1075.36,1410.53 1168.87,1410.53 1262.39,1404.33 1355.9,1391.92 1449.41,1373.31 1542.93,1348.5 1636.44,1317.48 1729.95,1280.26 1823.47,1236.83 1916.98,1187.2 2010.5,1131.37 2104.01,1069.33 2197.52,1001.09 \"/>\n",
       "<polyline clip-path=\"url(#clip262)\" style=\"stroke:#3da44d; stroke-linecap:round; stroke-linejoin:round; stroke-width:4; stroke-opacity:1; fill:none\" points=\"233.734,87.9763 243.085,299.895 252.437,480.561 261.788,633.711 271.139,762.723 280.491,870.65 289.842,960.24 299.194,1033.96 308.545,1094.03 317.896,1142.41 327.248,1180.87 336.599,1210.96 345.95,1234.06 355.302,1251.37 364.653,1263.97 374.005,1272.78 383.356,1278.58 392.707,1282.07 402.059,1283.84 411.41,1284.38 420.761,1284.1 430.113,1283.36 439.464,1282.42 448.816,1281.52 458.167,1280.83 467.518,1280.48 476.87,1280.56 486.221,1281.14 495.572,1282.24 504.924,1283.9 514.275,1286.09 523.627,1288.8 532.978,1291.99 542.329,1295.62 551.681,1299.64 561.032,1303.99 570.383,1308.61 579.735,1313.45 589.086,1318.44 598.438,1323.53 607.789,1328.66 617.14,1333.77 626.492,1338.83 635.843,1343.77 645.194,1348.57 654.546,1353.19 663.897,1357.59 673.249,1361.75 682.6,1365.65 691.951,1369.28 701.303,1372.62 710.654,1375.67 720.006,1378.43 729.357,1380.9 738.708,1383.08 748.06,1384.99 757.411,1386.64 766.762,1388.04 776.114,1389.21 785.465,1390.17 794.817,1390.94 804.168,1391.55 813.519,1392 822.871,1392.34 832.222,1392.58 841.573,1392.74 850.925,1392.85 860.276,1392.93 869.628,1392.99 878.979,1393.07 888.33,1393.16 897.682,1393.31 907.033,1393.5 916.384,1393.77 925.736,1394.11 935.087,1394.54 944.439,1395.06 953.79,1395.69 963.141,1396.41 972.493,1397.23 981.844,1398.15 991.195,1399.16 1000.55,1400.26 1009.9,1401.44 1019.25,1402.7 1028.6,1404.01 1037.95,1405.37 1047.3,1406.76 1056.66,1408.17 1066.01,1409.59 1075.36,1410.99 1084.71,1412.37 1094.06,1413.7 1103.41,1414.96 1112.76,1416.14 1122.11,1417.23 1131.47,1418.2 1140.82,1419.03 1150.17,1419.72 1159.52,1420.25 1168.87,1420.61 1178.22,1420.77 1187.57,1420.74 1196.93,1420.5 1206.28,1420.04 1215.63,1419.36 1224.98,1418.46 1234.33,1417.32 1243.68,1415.95 1253.03,1414.35 1262.39,1412.52 1271.74,1410.46 1281.09,1408.19 1290.44,1405.71 1299.79,1403.03 1309.14,1400.16 1318.49,1397.12 1327.85,1393.91 1337.2,1390.57 1346.55,1387.09 1355.9,1383.51 1365.25,1379.84 1374.6,1376.11 1383.95,1372.33 1393.3,1368.52 1402.66,1364.71 1412.01,1360.93 1421.36,1357.18 1430.71,1353.5 1440.06,1349.9 1449.41,1346.41 1458.76,1343.04 1468.12,1339.82 1477.47,1336.75 1486.82,1333.87 1496.17,1331.17 1505.52,1328.67 1514.87,1326.38 1524.22,1324.31 1533.58,1322.47 1542.93,1320.85 1552.28,1319.45 1561.63,1318.28 1570.98,1317.33 1580.33,1316.58 1589.68,1316.02 1599.03,1315.65 1608.39,1315.45 1617.74,1315.38 1627.09,1315.44 1636.44,1315.59 1645.79,1315.81 1655.14,1316.07 1664.49,1316.32 1673.85,1316.55 1683.2,1316.71 1692.55,1316.77 1701.9,1316.68 1711.25,1316.41 1720.6,1315.92 1729.95,1315.17 1739.31,1314.11 1748.66,1312.72 1758.01,1310.95 1767.36,1308.77 1776.71,1306.14 1786.06,1303.04 1795.41,1299.44 1804.77,1295.32 1814.12,1290.66 1823.47,1285.44 1832.82,1279.66 1842.17,1273.31 1851.52,1266.41 1860.87,1258.95 1870.22,1250.96 1879.58,1242.46 1888.93,1233.48 1898.28,1224.07 1907.63,1214.26 1916.98,1204.11 1926.33,1193.68 1935.68,1183.04 1945.04,1172.26 1954.39,1161.42 1963.74,1150.61 1973.09,1139.92 1982.44,1129.43 1991.79,1119.24 2001.14,1109.44 2010.5,1100.12 2019.85,1091.37 2029.2,1083.26 2038.55,1075.87 2047.9,1069.23 2057.25,1063.41 2066.6,1058.4 2075.96,1054.21 2085.31,1050.78 2094.66,1048.05 2104.01,1045.9 2113.36,1044.16 2122.71,1042.6 2132.06,1040.95 2141.41,1038.83 2150.77,1035.8 2160.12,1031.34 2169.47,1024.8 2178.82,1015.42 2188.17,1002.34 2197.52,984.518 2206.87,960.783 2216.23,929.783 2225.58,889.977 2234.93,839.618 2244.28,776.733 2253.63,699.101 2262.98,604.232 2272.33,489.346 2281.69,351.344 2291.04,186.782 \"/>\n",
       "<path clip-path=\"url(#clip260)\" d=\"M1549.05 302.578 L2280.06 302.578 L2280.06 95.2176 L1549.05 95.2176  Z\" fill=\"#ffffff\" fill-rule=\"evenodd\" fill-opacity=\"1\"/>\n",
       "<polyline clip-path=\"url(#clip260)\" style=\"stroke:#000000; stroke-linecap:round; stroke-linejoin:round; stroke-width:4; stroke-opacity:1; fill:none\" points=\"1549.05,302.578 2280.06,302.578 2280.06,95.2176 1549.05,95.2176 1549.05,302.578 \"/>\n",
       "<circle clip-path=\"url(#clip260)\" cx=\"1645.98\" cy=\"147.058\" r=\"23.04\" fill=\"#009af9\" fill-rule=\"evenodd\" fill-opacity=\"1\" stroke=\"#000000\" stroke-opacity=\"1\" stroke-width=\"5.12\"/>\n",
       "<path clip-path=\"url(#clip260)\" d=\"M1756.74 166.745 Q1754.93 171.375 1753.22 172.787 Q1751.51 174.199 1748.64 174.199 L1745.23 174.199 L1745.23 170.634 L1747.73 170.634 Q1749.49 170.634 1750.47 169.8 Q1751.44 168.967 1752.62 165.865 L1753.38 163.921 L1742.9 138.412 L1747.41 138.412 L1755.51 158.689 L1763.61 138.412 L1768.13 138.412 L1756.74 166.745 Z\" fill=\"#000000\" fill-rule=\"evenodd\" fill-opacity=\"1\" /><path clip-path=\"url(#clip260)\" d=\"M1775.42 160.402 L1783.06 160.402 L1783.06 134.037 L1774.75 135.703 L1774.75 131.444 L1783.01 129.778 L1787.69 129.778 L1787.69 160.402 L1795.33 160.402 L1795.33 164.338 L1775.42 164.338 L1775.42 160.402 Z\" fill=\"#000000\" fill-rule=\"evenodd\" fill-opacity=\"1\" /><polyline clip-path=\"url(#clip260)\" style=\"stroke:#e26f46; stroke-linecap:round; stroke-linejoin:round; stroke-width:4; stroke-opacity:1; fill:none\" points=\"1573.28,198.898 1718.67,198.898 \"/>\n",
       "<path clip-path=\"url(#clip260)\" d=\"M1742.9 181.618 L1772.13 181.618 L1772.13 185.553 L1759.86 185.553 L1759.86 216.178 L1755.17 216.178 L1755.17 185.553 L1742.9 185.553 L1742.9 181.618 Z\" fill=\"#000000\" fill-rule=\"evenodd\" fill-opacity=\"1\" /><path clip-path=\"url(#clip260)\" d=\"M1784.52 194.233 Q1783.8 193.817 1782.94 193.631 Q1782.11 193.423 1781.09 193.423 Q1777.48 193.423 1775.54 195.784 Q1773.61 198.122 1773.61 202.52 L1773.61 216.178 L1769.33 216.178 L1769.33 190.252 L1773.61 190.252 L1773.61 194.28 Q1774.96 191.918 1777.11 190.784 Q1779.26 189.627 1782.34 189.627 Q1782.78 189.627 1783.31 189.696 Q1783.85 189.743 1784.49 189.858 L1784.52 194.233 Z\" fill=\"#000000\" fill-rule=\"evenodd\" fill-opacity=\"1\" /><path clip-path=\"url(#clip260)\" d=\"M1788.54 205.946 L1788.54 190.252 L1792.8 190.252 L1792.8 205.784 Q1792.8 209.465 1794.24 211.316 Q1795.67 213.145 1798.54 213.145 Q1801.99 213.145 1803.98 210.946 Q1806 208.747 1806 204.951 L1806 190.252 L1810.26 190.252 L1810.26 216.178 L1806 216.178 L1806 212.196 Q1804.45 214.557 1802.39 215.715 Q1800.35 216.849 1797.64 216.849 Q1793.17 216.849 1790.86 214.071 Q1788.54 211.293 1788.54 205.946 M1799.26 189.627 L1799.26 189.627 Z\" fill=\"#000000\" fill-rule=\"evenodd\" fill-opacity=\"1\" /><path clip-path=\"url(#clip260)\" d=\"M1841.21 202.15 L1841.21 204.233 L1821.62 204.233 Q1821.9 208.631 1824.26 210.946 Q1826.65 213.238 1830.88 213.238 Q1833.34 213.238 1835.63 212.636 Q1837.94 212.034 1840.21 210.83 L1840.21 214.858 Q1837.92 215.83 1835.51 216.34 Q1833.1 216.849 1830.63 216.849 Q1824.42 216.849 1820.79 213.238 Q1817.18 209.627 1817.18 203.469 Q1817.18 197.104 1820.6 193.377 Q1824.05 189.627 1829.89 189.627 Q1835.12 189.627 1838.15 193.006 Q1841.21 196.363 1841.21 202.15 M1836.95 200.9 Q1836.9 197.405 1834.98 195.321 Q1833.08 193.238 1829.93 193.238 Q1826.37 193.238 1824.22 195.252 Q1822.09 197.266 1821.76 200.923 L1836.95 200.9 Z\" fill=\"#000000\" fill-rule=\"evenodd\" fill-opacity=\"1\" /><path clip-path=\"url(#clip260)\" d=\"M1863.45 181.618 L1868.13 181.618 L1868.13 212.242 L1884.96 212.242 L1884.96 216.178 L1863.45 216.178 L1863.45 181.618 Z\" fill=\"#000000\" fill-rule=\"evenodd\" fill-opacity=\"1\" /><path clip-path=\"url(#clip260)\" d=\"M1889.68 190.252 L1893.94 190.252 L1893.94 216.178 L1889.68 216.178 L1889.68 190.252 M1889.68 180.159 L1893.94 180.159 L1893.94 185.553 L1889.68 185.553 L1889.68 180.159 Z\" fill=\"#000000\" fill-rule=\"evenodd\" fill-opacity=\"1\" /><path clip-path=\"url(#clip260)\" d=\"M1924.4 200.529 L1924.4 216.178 L1920.14 216.178 L1920.14 200.668 Q1920.14 196.988 1918.71 195.159 Q1917.27 193.33 1914.4 193.33 Q1910.95 193.33 1908.96 195.53 Q1906.97 197.729 1906.97 201.525 L1906.97 216.178 L1902.69 216.178 L1902.69 190.252 L1906.97 190.252 L1906.97 194.28 Q1908.5 191.942 1910.56 190.784 Q1912.64 189.627 1915.35 189.627 Q1919.82 189.627 1922.11 192.405 Q1924.4 195.159 1924.4 200.529 Z\" fill=\"#000000\" fill-rule=\"evenodd\" fill-opacity=\"1\" /><path clip-path=\"url(#clip260)\" d=\"M1955.07 202.15 L1955.07 204.233 L1935.49 204.233 Q1935.77 208.631 1938.13 210.946 Q1940.51 213.238 1944.75 213.238 Q1947.2 213.238 1949.49 212.636 Q1951.81 212.034 1954.08 210.83 L1954.08 214.858 Q1951.78 215.83 1949.38 216.34 Q1946.97 216.849 1944.49 216.849 Q1938.29 216.849 1934.66 213.238 Q1931.04 209.627 1931.04 203.469 Q1931.04 197.104 1934.47 193.377 Q1937.92 189.627 1943.75 189.627 Q1948.98 189.627 1952.02 193.006 Q1955.07 196.363 1955.07 202.15 M1950.81 200.9 Q1950.77 197.405 1948.84 195.321 Q1946.95 193.238 1943.8 193.238 Q1940.23 193.238 1938.08 195.252 Q1935.95 197.266 1935.63 200.923 L1950.81 200.9 Z\" fill=\"#000000\" fill-rule=\"evenodd\" fill-opacity=\"1\" /><polyline clip-path=\"url(#clip260)\" style=\"stroke:#3da44d; stroke-linecap:round; stroke-linejoin:round; stroke-width:4; stroke-opacity:1; fill:none\" points=\"1573.28,250.738 1718.67,250.738 \"/>\n",
       "<path clip-path=\"url(#clip260)\" d=\"M1742.9 233.458 L1762.76 233.458 L1762.76 237.393 L1747.57 237.393 L1747.57 247.578 L1761.28 247.578 L1761.28 251.513 L1747.57 251.513 L1747.57 268.018 L1742.9 268.018 L1742.9 233.458 Z\" fill=\"#000000\" fill-rule=\"evenodd\" fill-opacity=\"1\" /><path clip-path=\"url(#clip260)\" d=\"M1766.53 242.092 L1770.79 242.092 L1770.79 268.018 L1766.53 268.018 L1766.53 242.092 M1766.53 231.999 L1770.79 231.999 L1770.79 237.393 L1766.53 237.393 L1766.53 231.999 Z\" fill=\"#000000\" fill-rule=\"evenodd\" fill-opacity=\"1\" /><path clip-path=\"url(#clip260)\" d=\"M1783.92 234.731 L1783.92 242.092 L1792.69 242.092 L1792.69 245.402 L1783.92 245.402 L1783.92 259.476 Q1783.92 262.647 1784.77 263.55 Q1785.65 264.453 1788.31 264.453 L1792.69 264.453 L1792.69 268.018 L1788.31 268.018 Q1783.38 268.018 1781.51 266.189 Q1779.63 264.337 1779.63 259.476 L1779.63 245.402 L1776.51 245.402 L1776.51 242.092 L1779.63 242.092 L1779.63 234.731 L1783.92 234.731 Z\" fill=\"#000000\" fill-rule=\"evenodd\" fill-opacity=\"1\" /><path clip-path=\"url(#clip260)\" d=\"M1802.5 234.731 L1802.5 242.092 L1811.28 242.092 L1811.28 245.402 L1802.5 245.402 L1802.5 259.476 Q1802.5 262.647 1803.36 263.55 Q1804.24 264.453 1806.9 264.453 L1811.28 264.453 L1811.28 268.018 L1806.9 268.018 Q1801.97 268.018 1800.1 266.189 Q1798.22 264.337 1798.22 259.476 L1798.22 245.402 L1795.1 245.402 L1795.1 242.092 L1798.22 242.092 L1798.22 234.731 L1802.5 234.731 Z\" fill=\"#000000\" fill-rule=\"evenodd\" fill-opacity=\"1\" /><path clip-path=\"url(#clip260)\" d=\"M1839.05 253.99 L1839.05 256.073 L1819.47 256.073 Q1819.75 260.471 1822.11 262.786 Q1824.49 265.078 1828.73 265.078 Q1831.18 265.078 1833.48 264.476 Q1835.79 263.874 1838.06 262.67 L1838.06 266.698 Q1835.77 267.67 1833.36 268.18 Q1830.95 268.689 1828.48 268.689 Q1822.27 268.689 1818.64 265.078 Q1815.03 261.467 1815.03 255.309 Q1815.03 248.944 1818.45 245.217 Q1821.9 241.467 1827.73 241.467 Q1832.97 241.467 1836 244.846 Q1839.05 248.203 1839.05 253.99 M1834.79 252.74 Q1834.75 249.245 1832.83 247.161 Q1830.93 245.078 1827.78 245.078 Q1824.22 245.078 1822.06 247.092 Q1819.93 249.106 1819.61 252.763 L1834.79 252.74 Z\" fill=\"#000000\" fill-rule=\"evenodd\" fill-opacity=\"1\" /><path clip-path=\"url(#clip260)\" d=\"M1863.1 246.027 L1863.1 231.999 L1867.36 231.999 L1867.36 268.018 L1863.1 268.018 L1863.1 264.129 Q1861.76 266.443 1859.7 267.578 Q1857.66 268.689 1854.79 268.689 Q1850.1 268.689 1847.13 264.939 Q1844.19 261.189 1844.19 255.078 Q1844.19 248.967 1847.13 245.217 Q1850.1 241.467 1854.79 241.467 Q1857.66 241.467 1859.7 242.601 Q1861.76 243.712 1863.1 246.027 M1848.59 255.078 Q1848.59 259.777 1850.51 262.462 Q1852.46 265.124 1855.84 265.124 Q1859.22 265.124 1861.16 262.462 Q1863.1 259.777 1863.1 255.078 Q1863.1 250.379 1861.16 247.717 Q1859.22 245.032 1855.84 245.032 Q1852.46 245.032 1850.51 247.717 Q1848.59 250.379 1848.59 255.078 Z\" fill=\"#000000\" fill-rule=\"evenodd\" fill-opacity=\"1\" /><path clip-path=\"url(#clip260)\" d=\"M1896.07 237.3 L1896.07 250.286 L1901.95 250.286 Q1905.21 250.286 1906.99 248.596 Q1908.78 246.907 1908.78 243.782 Q1908.78 240.68 1906.99 238.99 Q1905.21 237.3 1901.95 237.3 L1896.07 237.3 M1891.39 233.458 L1901.95 233.458 Q1907.76 233.458 1910.72 236.096 Q1913.71 238.712 1913.71 243.782 Q1913.71 248.897 1910.72 251.513 Q1907.76 254.129 1901.95 254.129 L1896.07 254.129 L1896.07 268.018 L1891.39 268.018 L1891.39 233.458 Z\" fill=\"#000000\" fill-rule=\"evenodd\" fill-opacity=\"1\" /><path clip-path=\"url(#clip260)\" d=\"M1928.15 245.078 Q1924.72 245.078 1922.73 247.763 Q1920.74 250.425 1920.74 255.078 Q1920.74 259.731 1922.71 262.416 Q1924.7 265.078 1928.15 265.078 Q1931.55 265.078 1933.54 262.393 Q1935.53 259.707 1935.53 255.078 Q1935.53 250.471 1933.54 247.786 Q1931.55 245.078 1928.15 245.078 M1928.15 241.467 Q1933.71 241.467 1936.88 245.078 Q1940.05 248.689 1940.05 255.078 Q1940.05 261.444 1936.88 265.078 Q1933.71 268.689 1928.15 268.689 Q1922.57 268.689 1919.4 265.078 Q1916.25 261.444 1916.25 255.078 Q1916.25 248.689 1919.4 245.078 Q1922.57 241.467 1928.15 241.467 Z\" fill=\"#000000\" fill-rule=\"evenodd\" fill-opacity=\"1\" /><path clip-path=\"url(#clip260)\" d=\"M1947.11 231.999 L1951.37 231.999 L1951.37 268.018 L1947.11 268.018 L1947.11 231.999 Z\" fill=\"#000000\" fill-rule=\"evenodd\" fill-opacity=\"1\" /><path clip-path=\"url(#clip260)\" d=\"M1971.07 270.425 Q1969.26 275.055 1967.55 276.467 Q1965.84 277.879 1962.97 277.879 L1959.56 277.879 L1959.56 274.314 L1962.06 274.314 Q1963.82 274.314 1964.79 273.48 Q1965.77 272.647 1966.95 269.545 L1967.71 267.601 L1957.22 242.092 L1961.74 242.092 L1969.84 262.369 L1977.94 242.092 L1982.46 242.092 L1971.07 270.425 Z\" fill=\"#000000\" fill-rule=\"evenodd\" fill-opacity=\"1\" /><path clip-path=\"url(#clip260)\" d=\"M2009.89 252.369 L2009.89 268.018 L2005.63 268.018 L2005.63 252.508 Q2005.63 248.828 2004.19 246.999 Q2002.76 245.17 1999.89 245.17 Q1996.44 245.17 1994.45 247.37 Q1992.46 249.569 1992.46 253.365 L1992.46 268.018 L1988.17 268.018 L1988.17 242.092 L1992.46 242.092 L1992.46 246.12 Q1993.98 243.782 1996.04 242.624 Q1998.13 241.467 2000.84 241.467 Q2005.3 241.467 2007.59 244.245 Q2009.89 246.999 2009.89 252.369 Z\" fill=\"#000000\" fill-rule=\"evenodd\" fill-opacity=\"1\" /><path clip-path=\"url(#clip260)\" d=\"M2028.43 245.078 Q2025 245.078 2023.01 247.763 Q2021.02 250.425 2021.02 255.078 Q2021.02 259.731 2022.99 262.416 Q2024.98 265.078 2028.43 265.078 Q2031.83 265.078 2033.82 262.393 Q2035.81 259.707 2035.81 255.078 Q2035.81 250.471 2033.82 247.786 Q2031.83 245.078 2028.43 245.078 M2028.43 241.467 Q2033.98 241.467 2037.15 245.078 Q2040.33 248.689 2040.33 255.078 Q2040.33 261.444 2037.15 265.078 Q2033.98 268.689 2028.43 268.689 Q2022.85 268.689 2019.68 265.078 Q2016.53 261.444 2016.53 255.078 Q2016.53 248.689 2019.68 245.078 Q2022.85 241.467 2028.43 241.467 Z\" fill=\"#000000\" fill-rule=\"evenodd\" fill-opacity=\"1\" /><path clip-path=\"url(#clip260)\" d=\"M2067.57 247.069 Q2069.17 244.198 2071.39 242.833 Q2073.61 241.467 2076.62 241.467 Q2080.67 241.467 2082.87 244.314 Q2085.07 247.138 2085.07 252.369 L2085.07 268.018 L2080.79 268.018 L2080.79 252.508 Q2080.79 248.782 2079.47 246.976 Q2078.15 245.17 2075.44 245.17 Q2072.13 245.17 2070.21 247.37 Q2068.29 249.569 2068.29 253.365 L2068.29 268.018 L2064.01 268.018 L2064.01 252.508 Q2064.01 248.758 2062.69 246.976 Q2061.37 245.17 2058.61 245.17 Q2055.35 245.17 2053.43 247.393 Q2051.51 249.592 2051.51 253.365 L2051.51 268.018 L2047.22 268.018 L2047.22 242.092 L2051.51 242.092 L2051.51 246.12 Q2052.96 243.735 2055 242.601 Q2057.04 241.467 2059.84 241.467 Q2062.66 241.467 2064.63 242.902 Q2066.62 244.337 2067.57 247.069 Z\" fill=\"#000000\" fill-rule=\"evenodd\" fill-opacity=\"1\" /><path clip-path=\"url(#clip260)\" d=\"M2093.57 242.092 L2097.83 242.092 L2097.83 268.018 L2093.57 268.018 L2093.57 242.092 M2093.57 231.999 L2097.83 231.999 L2097.83 237.393 L2093.57 237.393 L2093.57 231.999 Z\" fill=\"#000000\" fill-rule=\"evenodd\" fill-opacity=\"1\" /><path clip-path=\"url(#clip260)\" d=\"M2118.52 254.985 Q2113.36 254.985 2111.37 256.166 Q2109.38 257.346 2109.38 260.194 Q2109.38 262.462 2110.86 263.805 Q2112.36 265.124 2114.93 265.124 Q2118.47 265.124 2120.6 262.624 Q2122.76 260.101 2122.76 255.934 L2122.76 254.985 L2118.52 254.985 M2127.02 253.226 L2127.02 268.018 L2122.76 268.018 L2122.76 264.082 Q2121.3 266.443 2119.12 267.578 Q2116.95 268.689 2113.8 268.689 Q2109.82 268.689 2107.46 266.467 Q2105.12 264.221 2105.12 260.471 Q2105.12 256.096 2108.03 253.874 Q2110.97 251.652 2116.78 251.652 L2122.76 251.652 L2122.76 251.235 Q2122.76 248.295 2120.81 246.698 Q2118.89 245.078 2115.4 245.078 Q2113.17 245.078 2111.07 245.61 Q2108.96 246.143 2107.02 247.207 L2107.02 243.272 Q2109.35 242.37 2111.55 241.93 Q2113.75 241.467 2115.83 241.467 Q2121.46 241.467 2124.24 244.383 Q2127.02 247.3 2127.02 253.226 Z\" fill=\"#000000\" fill-rule=\"evenodd\" fill-opacity=\"1\" /><path clip-path=\"url(#clip260)\" d=\"M2135.79 231.999 L2140.05 231.999 L2140.05 268.018 L2135.79 268.018 L2135.79 231.999 Z\" fill=\"#000000\" fill-rule=\"evenodd\" fill-opacity=\"1\" /><path clip-path=\"url(#clip260)\" d=\"M2164.21 233.458 L2168.89 233.458 L2168.89 264.082 L2185.72 264.082 L2185.72 268.018 L2164.21 268.018 L2164.21 233.458 Z\" fill=\"#000000\" fill-rule=\"evenodd\" fill-opacity=\"1\" /><path clip-path=\"url(#clip260)\" d=\"M2190.44 242.092 L2194.7 242.092 L2194.7 268.018 L2190.44 268.018 L2190.44 242.092 M2190.44 231.999 L2194.7 231.999 L2194.7 237.393 L2190.44 237.393 L2190.44 231.999 Z\" fill=\"#000000\" fill-rule=\"evenodd\" fill-opacity=\"1\" /><path clip-path=\"url(#clip260)\" d=\"M2225.16 252.369 L2225.16 268.018 L2220.9 268.018 L2220.9 252.508 Q2220.9 248.828 2219.47 246.999 Q2218.03 245.17 2215.16 245.17 Q2211.71 245.17 2209.72 247.37 Q2207.73 249.569 2207.73 253.365 L2207.73 268.018 L2203.45 268.018 L2203.45 242.092 L2207.73 242.092 L2207.73 246.12 Q2209.26 243.782 2211.32 242.624 Q2213.4 241.467 2216.11 241.467 Q2220.58 241.467 2222.87 244.245 Q2225.16 246.999 2225.16 252.369 Z\" fill=\"#000000\" fill-rule=\"evenodd\" fill-opacity=\"1\" /><path clip-path=\"url(#clip260)\" d=\"M2255.83 253.99 L2255.83 256.073 L2236.25 256.073 Q2236.53 260.471 2238.89 262.786 Q2241.27 265.078 2245.51 265.078 Q2247.96 265.078 2250.26 264.476 Q2252.57 263.874 2254.84 262.67 L2254.84 266.698 Q2252.55 267.67 2250.14 268.18 Q2247.73 268.689 2245.26 268.689 Q2239.05 268.689 2235.42 265.078 Q2231.81 261.467 2231.81 255.309 Q2231.81 248.944 2235.23 245.217 Q2238.68 241.467 2244.51 241.467 Q2249.75 241.467 2252.78 244.846 Q2255.83 248.203 2255.83 253.99 M2251.57 252.74 Q2251.53 249.245 2249.61 247.161 Q2247.71 245.078 2244.56 245.078 Q2241 245.078 2238.84 247.092 Q2236.71 249.106 2236.39 252.763 L2251.57 252.74 Z\" fill=\"#000000\" fill-rule=\"evenodd\" fill-opacity=\"1\" /></svg>\n"
      ]
     },
     "execution_count": 228,
     "metadata": {},
     "output_type": "execute_result"
    }
   ],
   "source": [
    "x = -10:1:10\n",
    "x = collect(x)\n",
    "x_fit = -11:0.1:11\n",
    "x_fit=collect(x_fit)\n",
    "y_true = x.^2 + 3x .- 2\n",
    "\n",
    "\n",
    "noise10 = di.Normal(0, 10)\n",
    "y_observed_fit = y_true+rand(noise10, length(x))\n",
    "\n",
    "line_fit_fit10 = fit(x, y_observed_fit, 10)\n",
    "p10 = coeffs(line_fit_fit10)\n",
    "\n",
    "y_fitpol_fit = p10[1] .+ (p10[2] .* (x_fit.^1)) + (p10[3] .* (x_fit.^2)) + (p10[4] .* (x_fit.^3)) + (p10[5] .* (x_fit.^4)) + (p10[6] .* (x_fit.^5)) + (p10[7] .* (x_fit.^6)) + (p10[8] .* (x_fit.^7)) + (p10[9] .* (x_fit.^8)) + (p10[10] .* (x_fit.^9)) + (p10[11] .* (x_fit.^10))\n",
    "\n",
    "scatter(x, y_observed_fit)\n",
    "plot!(x, y_true, label = \"True Line\")\n",
    "plot!(x_fit, y_fitpol_fit, label= \"Fitted Polynomial Line\")"
   ]
  },
  {
   "cell_type": "markdown",
   "metadata": {},
   "source": [
    "3. What do you observe in the plot? What is this phenomenon called?"
   ]
  },
  {
   "cell_type": "markdown",
   "metadata": {},
   "source": [
    "This is an overfitted graph, it almost completely traces the data points."
   ]
  }
 ],
 "metadata": {
  "kernelspec": {
   "display_name": "Julia 1.8.5",
   "language": "julia",
   "name": "julia-1.8"
  },
  "language_info": {
   "file_extension": ".jl",
   "mimetype": "application/julia",
   "name": "julia",
   "version": "1.8.5"
  }
 },
 "nbformat": 4,
 "nbformat_minor": 5
}
