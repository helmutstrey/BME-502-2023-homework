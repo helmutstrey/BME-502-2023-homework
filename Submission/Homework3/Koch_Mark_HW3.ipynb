{
 "cells": [
  {
   "cell_type": "markdown",
   "id": "1fbe377b",
   "metadata": {},
   "source": [
    "<h1>HW3</h1>"
   ]
  },
  {
   "cell_type": "markdown",
   "id": "79813e24",
   "metadata": {},
   "source": [
    "# Question 1\n",
    "### (Bayes Theorem) Read the following example and complete the exercises \n",
    "\n",
    "Trolls Under the Bridge\n",
    "1. Trolls(T) are bad\n",
    "2. Gnomes(G) are benign\n",
    "3. Every bridge has 5 creatures under it\n",
    "\n",
    "Below are the probabilities of what creatures live under a bridge:\n",
    "1. TTGGG: 20% (E1)\n",
    "2. TGGGG: 20% (E2)\n",
    "3. GGGGG: 60% (E3)\n",
    "\n",
    "A knight is approaching a bridge and he wants to know his chance of crossing the bridge safely."
   ]
  },
  {
   "cell_type": "markdown",
   "id": "425f8583",
   "metadata": {},
   "source": [
    "### 1.1 \n",
    "\n",
    "#### What is the chance of the knight crossing the bridge safely?\n"
   ]
  },
  {
   "cell_type": "code",
   "execution_count": null,
   "id": "29bea308",
   "metadata": {},
   "outputs": [],
   "source": [
    "60 percent"
   ]
  },
  {
   "cell_type": "markdown",
   "id": "61f687e4",
   "metadata": {},
   "source": [
    "### 1.2\n",
    "\n",
    "#### Before crossing a bridge, a knight captures a troll. “I now have an 80% chance of crossing safely,” he reasons, “since only the case 20% had TTGGG (E1) now have TGGG is still a threat.”\n",
    "\n",
    "#### Do you agree with him? Why?"
   ]
  },
  {
   "cell_type": "markdown",
   "id": "09025213",
   "metadata": {},
   "source": [
    "I do not agree with him. He does not know from which possibility he took the troll from. Since he doesn't he only has a 33.3 percent chance since he eliminated the 60 percent possibility of having all gnomes so its only between E1 and E2."
   ]
  },
  {
   "cell_type": "markdown",
   "id": "c1533b67",
   "metadata": {},
   "source": [
    "### 1.3\n",
    "\n",
    "#### Now he wants to use Bayes' theorem to calculate his chance of crossing safely given a troll captured \n",
    "\n",
    "\\begin{equation*}\n",
    "P(A|B) = \\frac{P(B|A)P(A)}{P(B)} \\\\\n",
    "P(A|B): Posteior \\\\\n",
    "P(B|A): Likelihood \\\\\n",
    "P(A): Prior \\\\\n",
    "P(B): Marginal Probability \\\\\n",
    "\\end{equation*}\n",
    "\n",
    "####Given the three events, E1, E2, and E3, which two of the three events does the knight need to consider after a troll was captured?"
   ]
  },
  {
   "cell_type": "markdown",
   "id": "0adb7f0a",
   "metadata": {},
   "source": [
    "E1 and E2"
   ]
  },
  {
   "cell_type": "markdown",
   "id": "e45e8fa6",
   "metadata": {},
   "source": [
    "### 1.4\n",
    "\n",
    "#### Use Bayes' theorem to calculate the probability of the two events in 1.3 (separately) given the troll was captured. "
   ]
  },
  {
   "cell_type": "markdown",
   "id": "5d9c3c0b",
   "metadata": {},
   "source": [
    "Probability of one event given a troll captured: "
   ]
  },
  {
   "cell_type": "code",
   "execution_count": 1,
   "id": "f2f0e7c8",
   "metadata": {},
   "outputs": [
    {
     "ename": "LoadError",
     "evalue": "syntax: \"((2 / 5) * 0.5)\" is not a valid function argument name around In[1]:3",
     "output_type": "error",
     "traceback": [
      "syntax: \"((2 / 5) * 0.5)\" is not a valid function argument name around In[1]:3",
      "",
      "Stacktrace:",
      " [1] top-level scope",
      "   @ In[1]:3"
     ]
    }
   ],
   "source": [
    "#####P(A)=probabilty of crossing bridge safely\n",
    "######P(B)=crossing bridge after troll captured\n",
    "2/5*.5/(2/5*.5+1/5*.5)=2/3\n",
    "P(trollcaptured|E1)=2/5\n",
    "P(E1)=.5\n",
    "P(trollcaptured)=2/5*.5+1/5*.5\n",
    "2/5*.5/(2/5*.5+1/5*.5)=2/3\n",
    "P(E1)=2/3\n",
    "2/3"
   ]
  },
  {
   "cell_type": "markdown",
   "id": "37843aee",
   "metadata": {},
   "source": [
    "Probability of the other event given a troll captured: "
   ]
  },
  {
   "cell_type": "code",
   "execution_count": null,
   "id": "5db10bc7",
   "metadata": {},
   "outputs": [],
   "source": [
    "P(trollcaptured|E2)=1/5\n",
    "P(E2)=.5\n",
    "P(trollcaptured)=2/5*.5+1/5*.5\n",
    "1/5*.5/(2/5*.5+1/5*.5)=2/3\n",
    "P(E2)=1/3"
   ]
  },
  {
   "cell_type": "markdown",
   "id": "f3b7f049",
   "metadata": {},
   "source": [
    "### 1.5\n",
    "\n",
    "#### What is the chance of the knight crossing safely?"
   ]
  },
  {
   "cell_type": "code",
   "execution_count": null,
   "id": "0f6fd73b",
   "metadata": {},
   "outputs": [],
   "source": [
    "has to be event e2\n",
    "1/3 33.3 percent chance"
   ]
  },
  {
   "cell_type": "markdown",
   "id": "7b815ae0",
   "metadata": {},
   "source": [
    "#### Now looking back to 1.1, the probabilities were changed after assimilating data! "
   ]
  },
  {
   "cell_type": "markdown",
   "id": "f1450094",
   "metadata": {},
   "source": [
    "# Question 2\n",
    "### (Polynomial Fitting) Read the following example and complete the exercises \n",
    "\n",
    "Biological data always comes with errors that influence the intepretation of the data significantly. In this question, we will simulate data and see how noises affect the parameter estimation."
   ]
  },
  {
   "cell_type": "code",
   "execution_count": 1,
   "id": "c20822fa",
   "metadata": {},
   "outputs": [
    {
     "name": "stderr",
     "output_type": "stream",
     "text": [
      "\u001b[32m\u001b[1m    Updating\u001b[22m\u001b[39m registry at `C:\\Users\\mckoc\\.julia\\registries\\General.toml`\n",
      "\u001b[32m\u001b[1m   Resolving\u001b[22m\u001b[39m package versions...\n",
      "\u001b[32m\u001b[1m  No Changes\u001b[22m\u001b[39m to `C:\\Users\\mckoc\\.julia\\environments\\v1.8\\Project.toml`\n",
      "\u001b[32m\u001b[1m  No Changes\u001b[22m\u001b[39m to `C:\\Users\\mckoc\\.julia\\environments\\v1.8\\Manifest.toml`\n"
     ]
    }
   ],
   "source": [
    "import Pkg\n",
    "Pkg.add([\"Distributions\", \"Plots\", \"Polynomials\", \"Random\"])"
   ]
  },
  {
   "cell_type": "code",
   "execution_count": 2,
   "id": "d7d1ca8d",
   "metadata": {},
   "outputs": [],
   "source": [
    "import Distributions as di\n",
    "import Plots\n",
    "import Polynomials\n",
    "import Random\n",
    "using Plots\n",
    "using Polynomials\n",
    "using Random\n",
    "using Distributions"
   ]
  },
  {
   "cell_type": "markdown",
   "id": "a90dd09d",
   "metadata": {},
   "source": [
    "### 2.1\n",
    "\n",
    "1. Generate the independent variable x ranging from -10 to 10 with an increment of 1\n",
    "2. Generate the dependent variable y_true using the equation y_true = x^2 + 3x - 2\n"
   ]
  },
  {
   "cell_type": "code",
   "execution_count": 4,
   "id": "6b0b33c5",
   "metadata": {},
   "outputs": [
    {
     "data": {
      "text/plain": [
       "21-element Vector{Int64}:\n",
       "  68\n",
       "  52\n",
       "  38\n",
       "  26\n",
       "  16\n",
       "   8\n",
       "   2\n",
       "  -2\n",
       "  -4\n",
       "  -4\n",
       "  -2\n",
       "   2\n",
       "   8\n",
       "  16\n",
       "  26\n",
       "  38\n",
       "  52\n",
       "  68\n",
       "  86\n",
       " 106\n",
       " 128"
      ]
     },
     "execution_count": 4,
     "metadata": {},
     "output_type": "execute_result"
    }
   ],
   "source": [
    "x=(-10:10)\n",
    "y_true=x .^2 .+ 3x .-2"
   ]
  },
  {
   "cell_type": "markdown",
   "id": "74d2a191",
   "metadata": {},
   "source": [
    "### 2.2\n",
    "\n",
    "1. Generate the Guassian noises with zero mean and a standard deviation of 10\n",
    "\n",
    "2. Add the noises to y_true to obtain y_observed\n"
   ]
  },
  {
   "cell_type": "code",
   "execution_count": 22,
   "id": "7936417a",
   "metadata": {},
   "outputs": [
    {
     "data": {
      "text/plain": [
       "21-element Vector{Float64}:\n",
       "  45.04323457544899\n",
       "  41.885962995794344\n",
       "  41.627997151197526\n",
       "  21.12803595730142\n",
       "  23.96638966103785\n",
       "   0.8562083136354985\n",
       "  -0.4947411852243966\n",
       "  -1.9144133401041052\n",
       " -24.02548426199366\n",
       "  -6.225902026097312\n",
       " -11.340309228142061\n",
       "   6.8970472550880695\n",
       "   1.2731886132254973\n",
       "   3.725084029172166\n",
       "  26.767541421672306\n",
       "  43.7751812971282\n",
       "  59.02767133682971\n",
       "  62.80860050412235\n",
       "  86.60113071357974\n",
       " 122.4054105430825\n",
       " 122.50306565022036"
      ]
     },
     "execution_count": 22,
     "metadata": {},
     "output_type": "execute_result"
    }
   ],
   "source": [
    "noises=10\n",
    "d=di.Normal(0,noises)\n",
    "y_observed=y_true+rand(d,length(x))"
   ]
  },
  {
   "cell_type": "markdown",
   "id": "ecf2e554",
   "metadata": {},
   "source": [
    "### 2.3\n",
    "\n",
    "#### Fit the data (x, y_observed) with a second order polynomial. \n",
    "\n",
    "1. Make a scatter plot of y_observed along x\n",
    "2. Plot a line of y_true along x on the scatter plot\n",
    "3. Plot a line of the fitted polynomial along x on the same plot"
   ]
  },
  {
   "cell_type": "code",
   "execution_count": 48,
   "id": "d39a136b",
   "metadata": {},
   "outputs": [
    {
     "data": {
      "image/svg+xml": [
       "<?xml version=\"1.0\" encoding=\"utf-8\"?>\n",
       "<svg xmlns=\"http://www.w3.org/2000/svg\" xmlns:xlink=\"http://www.w3.org/1999/xlink\" width=\"600\" height=\"400\" viewBox=\"0 0 2400 1600\">\n",
       "<defs>\n",
       "  <clipPath id=\"clip660\">\n",
       "    <rect x=\"0\" y=\"0\" width=\"2400\" height=\"1600\"/>\n",
       "  </clipPath>\n",
       "</defs>\n",
       "<path clip-path=\"url(#clip660)\" d=\"M0 1600 L2400 1600 L2400 0 L0 0  Z\" fill=\"#ffffff\" fill-rule=\"evenodd\" fill-opacity=\"1\"/>\n",
       "<defs>\n",
       "  <clipPath id=\"clip661\">\n",
       "    <rect x=\"480\" y=\"0\" width=\"1681\" height=\"1600\"/>\n",
       "  </clipPath>\n",
       "</defs>\n",
       "<path clip-path=\"url(#clip660)\" d=\"M169.121 1486.45 L2352.76 1486.45 L2352.76 47.2441 L169.121 47.2441  Z\" fill=\"#ffffff\" fill-rule=\"evenodd\" fill-opacity=\"1\"/>\n",
       "<defs>\n",
       "  <clipPath id=\"clip662\">\n",
       "    <rect x=\"169\" y=\"47\" width=\"2185\" height=\"1440\"/>\n",
       "  </clipPath>\n",
       "</defs>\n",
       "<polyline clip-path=\"url(#clip662)\" style=\"stroke:#000000; stroke-linecap:round; stroke-linejoin:round; stroke-width:2; stroke-opacity:0.1; fill:none\" points=\"230.922,1486.45 230.922,47.2441 \"/>\n",
       "<polyline clip-path=\"url(#clip662)\" style=\"stroke:#000000; stroke-linecap:round; stroke-linejoin:round; stroke-width:2; stroke-opacity:0.1; fill:none\" points=\"745.93,1486.45 745.93,47.2441 \"/>\n",
       "<polyline clip-path=\"url(#clip662)\" style=\"stroke:#000000; stroke-linecap:round; stroke-linejoin:round; stroke-width:2; stroke-opacity:0.1; fill:none\" points=\"1260.94,1486.45 1260.94,47.2441 \"/>\n",
       "<polyline clip-path=\"url(#clip662)\" style=\"stroke:#000000; stroke-linecap:round; stroke-linejoin:round; stroke-width:2; stroke-opacity:0.1; fill:none\" points=\"1775.95,1486.45 1775.95,47.2441 \"/>\n",
       "<polyline clip-path=\"url(#clip662)\" style=\"stroke:#000000; stroke-linecap:round; stroke-linejoin:round; stroke-width:2; stroke-opacity:0.1; fill:none\" points=\"2290.95,1486.45 2290.95,47.2441 \"/>\n",
       "<polyline clip-path=\"url(#clip660)\" style=\"stroke:#000000; stroke-linecap:round; stroke-linejoin:round; stroke-width:4; stroke-opacity:1; fill:none\" points=\"169.121,1486.45 2352.76,1486.45 \"/>\n",
       "<polyline clip-path=\"url(#clip660)\" style=\"stroke:#000000; stroke-linecap:round; stroke-linejoin:round; stroke-width:4; stroke-opacity:1; fill:none\" points=\"230.922,1486.45 230.922,1467.55 \"/>\n",
       "<polyline clip-path=\"url(#clip660)\" style=\"stroke:#000000; stroke-linecap:round; stroke-linejoin:round; stroke-width:4; stroke-opacity:1; fill:none\" points=\"745.93,1486.45 745.93,1467.55 \"/>\n",
       "<polyline clip-path=\"url(#clip660)\" style=\"stroke:#000000; stroke-linecap:round; stroke-linejoin:round; stroke-width:4; stroke-opacity:1; fill:none\" points=\"1260.94,1486.45 1260.94,1467.55 \"/>\n",
       "<polyline clip-path=\"url(#clip660)\" style=\"stroke:#000000; stroke-linecap:round; stroke-linejoin:round; stroke-width:4; stroke-opacity:1; fill:none\" points=\"1775.95,1486.45 1775.95,1467.55 \"/>\n",
       "<polyline clip-path=\"url(#clip660)\" style=\"stroke:#000000; stroke-linecap:round; stroke-linejoin:round; stroke-width:4; stroke-opacity:1; fill:none\" points=\"2290.95,1486.45 2290.95,1467.55 \"/>\n",
       "<path clip-path=\"url(#clip660)\" d=\"M184.985 1532.02 L214.661 1532.02 L214.661 1535.95 L184.985 1535.95 L184.985 1532.02 Z\" fill=\"#000000\" fill-rule=\"evenodd\" fill-opacity=\"1\" /><path clip-path=\"url(#clip660)\" d=\"M225.564 1544.91 L233.202 1544.91 L233.202 1518.55 L224.892 1520.21 L224.892 1515.95 L233.156 1514.29 L237.832 1514.29 L237.832 1544.91 L245.471 1544.91 L245.471 1548.85 L225.564 1548.85 L225.564 1544.91 Z\" fill=\"#000000\" fill-rule=\"evenodd\" fill-opacity=\"1\" /><path clip-path=\"url(#clip660)\" d=\"M264.915 1517.37 Q261.304 1517.37 259.475 1520.93 Q257.67 1524.47 257.67 1531.6 Q257.67 1538.71 259.475 1542.27 Q261.304 1545.82 264.915 1545.82 Q268.549 1545.82 270.355 1542.27 Q272.184 1538.71 272.184 1531.6 Q272.184 1524.47 270.355 1520.93 Q268.549 1517.37 264.915 1517.37 M264.915 1513.66 Q270.725 1513.66 273.781 1518.27 Q276.86 1522.85 276.86 1531.6 Q276.86 1540.33 273.781 1544.94 Q270.725 1549.52 264.915 1549.52 Q259.105 1549.52 256.026 1544.94 Q252.971 1540.33 252.971 1531.6 Q252.971 1522.85 256.026 1518.27 Q259.105 1513.66 264.915 1513.66 Z\" fill=\"#000000\" fill-rule=\"evenodd\" fill-opacity=\"1\" /><path clip-path=\"url(#clip660)\" d=\"M715.572 1532.02 L745.248 1532.02 L745.248 1535.95 L715.572 1535.95 L715.572 1532.02 Z\" fill=\"#000000\" fill-rule=\"evenodd\" fill-opacity=\"1\" /><path clip-path=\"url(#clip660)\" d=\"M755.386 1514.29 L773.743 1514.29 L773.743 1518.22 L759.669 1518.22 L759.669 1526.7 Q760.687 1526.35 761.706 1526.19 Q762.724 1526 763.743 1526 Q769.53 1526 772.909 1529.17 Q776.289 1532.34 776.289 1537.76 Q776.289 1543.34 772.817 1546.44 Q769.345 1549.52 763.025 1549.52 Q760.849 1549.52 758.581 1549.15 Q756.335 1548.78 753.928 1548.04 L753.928 1543.34 Q756.011 1544.47 758.234 1545.03 Q760.456 1545.58 762.933 1545.58 Q766.937 1545.58 769.275 1543.48 Q771.613 1541.37 771.613 1537.76 Q771.613 1534.15 769.275 1532.04 Q766.937 1529.94 762.933 1529.94 Q761.058 1529.94 759.183 1530.35 Q757.331 1530.77 755.386 1531.65 L755.386 1514.29 Z\" fill=\"#000000\" fill-rule=\"evenodd\" fill-opacity=\"1\" /><path clip-path=\"url(#clip660)\" d=\"M1260.94 1517.37 Q1257.33 1517.37 1255.5 1520.93 Q1253.69 1524.47 1253.69 1531.6 Q1253.69 1538.71 1255.5 1542.27 Q1257.33 1545.82 1260.94 1545.82 Q1264.57 1545.82 1266.38 1542.27 Q1268.21 1538.71 1268.21 1531.6 Q1268.21 1524.47 1266.38 1520.93 Q1264.57 1517.37 1260.94 1517.37 M1260.94 1513.66 Q1266.75 1513.66 1269.8 1518.27 Q1272.88 1522.85 1272.88 1531.6 Q1272.88 1540.33 1269.8 1544.94 Q1266.75 1549.52 1260.94 1549.52 Q1255.13 1549.52 1252.05 1544.94 Q1248.99 1540.33 1248.99 1531.6 Q1248.99 1522.85 1252.05 1518.27 Q1255.13 1513.66 1260.94 1513.66 Z\" fill=\"#000000\" fill-rule=\"evenodd\" fill-opacity=\"1\" /><path clip-path=\"url(#clip660)\" d=\"M1766.22 1514.29 L1784.58 1514.29 L1784.58 1518.22 L1770.51 1518.22 L1770.51 1526.7 Q1771.53 1526.35 1772.54 1526.19 Q1773.56 1526 1774.58 1526 Q1780.37 1526 1783.75 1529.17 Q1787.13 1532.34 1787.13 1537.76 Q1787.13 1543.34 1783.66 1546.44 Q1780.18 1549.52 1773.86 1549.52 Q1771.69 1549.52 1769.42 1549.15 Q1767.17 1548.78 1764.77 1548.04 L1764.77 1543.34 Q1766.85 1544.47 1769.07 1545.03 Q1771.29 1545.58 1773.77 1545.58 Q1777.78 1545.58 1780.11 1543.48 Q1782.45 1541.37 1782.45 1537.76 Q1782.45 1534.15 1780.11 1532.04 Q1777.78 1529.94 1773.77 1529.94 Q1771.9 1529.94 1770.02 1530.35 Q1768.17 1530.77 1766.22 1531.65 L1766.22 1514.29 Z\" fill=\"#000000\" fill-rule=\"evenodd\" fill-opacity=\"1\" /><path clip-path=\"url(#clip660)\" d=\"M2265.64 1544.91 L2273.28 1544.91 L2273.28 1518.55 L2264.97 1520.21 L2264.97 1515.95 L2273.24 1514.29 L2277.91 1514.29 L2277.91 1544.91 L2285.55 1544.91 L2285.55 1548.85 L2265.64 1548.85 L2265.64 1544.91 Z\" fill=\"#000000\" fill-rule=\"evenodd\" fill-opacity=\"1\" /><path clip-path=\"url(#clip660)\" d=\"M2304.99 1517.37 Q2301.38 1517.37 2299.55 1520.93 Q2297.75 1524.47 2297.75 1531.6 Q2297.75 1538.71 2299.55 1542.27 Q2301.38 1545.82 2304.99 1545.82 Q2308.63 1545.82 2310.43 1542.27 Q2312.26 1538.71 2312.26 1531.6 Q2312.26 1524.47 2310.43 1520.93 Q2308.63 1517.37 2304.99 1517.37 M2304.99 1513.66 Q2310.8 1513.66 2313.86 1518.27 Q2316.94 1522.85 2316.94 1531.6 Q2316.94 1540.33 2313.86 1544.94 Q2310.8 1549.52 2304.99 1549.52 Q2299.18 1549.52 2296.11 1544.94 Q2293.05 1540.33 2293.05 1531.6 Q2293.05 1522.85 2296.11 1518.27 Q2299.18 1513.66 2304.99 1513.66 Z\" fill=\"#000000\" fill-rule=\"evenodd\" fill-opacity=\"1\" /><polyline clip-path=\"url(#clip662)\" style=\"stroke:#000000; stroke-linecap:round; stroke-linejoin:round; stroke-width:2; stroke-opacity:0.1; fill:none\" points=\"169.121,1304.63 2352.76,1304.63 \"/>\n",
       "<polyline clip-path=\"url(#clip662)\" style=\"stroke:#000000; stroke-linecap:round; stroke-linejoin:round; stroke-width:2; stroke-opacity:0.1; fill:none\" points=\"169.121,1038.59 2352.76,1038.59 \"/>\n",
       "<polyline clip-path=\"url(#clip662)\" style=\"stroke:#000000; stroke-linecap:round; stroke-linejoin:round; stroke-width:2; stroke-opacity:0.1; fill:none\" points=\"169.121,772.551 2352.76,772.551 \"/>\n",
       "<polyline clip-path=\"url(#clip662)\" style=\"stroke:#000000; stroke-linecap:round; stroke-linejoin:round; stroke-width:2; stroke-opacity:0.1; fill:none\" points=\"169.121,506.513 2352.76,506.513 \"/>\n",
       "<polyline clip-path=\"url(#clip662)\" style=\"stroke:#000000; stroke-linecap:round; stroke-linejoin:round; stroke-width:2; stroke-opacity:0.1; fill:none\" points=\"169.121,240.476 2352.76,240.476 \"/>\n",
       "<polyline clip-path=\"url(#clip660)\" style=\"stroke:#000000; stroke-linecap:round; stroke-linejoin:round; stroke-width:4; stroke-opacity:1; fill:none\" points=\"169.121,1486.45 169.121,47.2441 \"/>\n",
       "<polyline clip-path=\"url(#clip660)\" style=\"stroke:#000000; stroke-linecap:round; stroke-linejoin:round; stroke-width:4; stroke-opacity:1; fill:none\" points=\"169.121,1304.63 188.019,1304.63 \"/>\n",
       "<polyline clip-path=\"url(#clip660)\" style=\"stroke:#000000; stroke-linecap:round; stroke-linejoin:round; stroke-width:4; stroke-opacity:1; fill:none\" points=\"169.121,1038.59 188.019,1038.59 \"/>\n",
       "<polyline clip-path=\"url(#clip660)\" style=\"stroke:#000000; stroke-linecap:round; stroke-linejoin:round; stroke-width:4; stroke-opacity:1; fill:none\" points=\"169.121,772.551 188.019,772.551 \"/>\n",
       "<polyline clip-path=\"url(#clip660)\" style=\"stroke:#000000; stroke-linecap:round; stroke-linejoin:round; stroke-width:4; stroke-opacity:1; fill:none\" points=\"169.121,506.513 188.019,506.513 \"/>\n",
       "<polyline clip-path=\"url(#clip660)\" style=\"stroke:#000000; stroke-linecap:round; stroke-linejoin:round; stroke-width:4; stroke-opacity:1; fill:none\" points=\"169.121,240.476 188.019,240.476 \"/>\n",
       "<path clip-path=\"url(#clip660)\" d=\"M121.177 1290.42 Q117.566 1290.42 115.737 1293.99 Q113.932 1297.53 113.932 1304.66 Q113.932 1311.77 115.737 1315.33 Q117.566 1318.87 121.177 1318.87 Q124.811 1318.87 126.617 1315.33 Q128.445 1311.77 128.445 1304.66 Q128.445 1297.53 126.617 1293.99 Q124.811 1290.42 121.177 1290.42 M121.177 1286.72 Q126.987 1286.72 130.043 1291.33 Q133.121 1295.91 133.121 1304.66 Q133.121 1313.39 130.043 1317.99 Q126.987 1322.58 121.177 1322.58 Q115.367 1322.58 112.288 1317.99 Q109.233 1313.39 109.233 1304.66 Q109.233 1295.91 112.288 1291.33 Q115.367 1286.72 121.177 1286.72 Z\" fill=\"#000000\" fill-rule=\"evenodd\" fill-opacity=\"1\" /><path clip-path=\"url(#clip660)\" d=\"M95.1817 1037.23 Q98.5382 1037.95 100.413 1040.22 Q102.311 1042.49 102.311 1045.82 Q102.311 1050.94 98.7928 1053.74 Q95.2743 1056.54 88.7928 1056.54 Q86.6169 1056.54 84.3021 1056.1 Q82.0105 1055.68 79.5568 1054.83 L79.5568 1050.31 Q81.5012 1051.45 83.816 1052.03 Q86.1308 1052.6 88.654 1052.6 Q93.0521 1052.6 95.3437 1050.87 Q97.6585 1049.13 97.6585 1045.82 Q97.6585 1042.77 95.5058 1041.05 Q93.3762 1039.32 89.5567 1039.32 L85.529 1039.32 L85.529 1035.47 L89.7419 1035.47 Q93.191 1035.47 95.0197 1034.11 Q96.8484 1032.72 96.8484 1030.13 Q96.8484 1027.47 94.9502 1026.05 Q93.0752 1024.62 89.5567 1024.62 Q87.6354 1024.62 85.4364 1025.04 Q83.2373 1025.45 80.5984 1026.33 L80.5984 1022.16 Q83.2605 1021.42 85.5753 1021.05 Q87.9132 1020.68 89.9734 1020.68 Q95.2974 1020.68 98.3993 1023.11 Q101.501 1025.52 101.501 1029.64 Q101.501 1032.51 99.8576 1034.5 Q98.2141 1036.47 95.1817 1037.23 Z\" fill=\"#000000\" fill-rule=\"evenodd\" fill-opacity=\"1\" /><path clip-path=\"url(#clip660)\" d=\"M121.177 1024.39 Q117.566 1024.39 115.737 1027.95 Q113.932 1031.49 113.932 1038.62 Q113.932 1045.73 115.737 1049.29 Q117.566 1052.84 121.177 1052.84 Q124.811 1052.84 126.617 1049.29 Q128.445 1045.73 128.445 1038.62 Q128.445 1031.49 126.617 1027.95 Q124.811 1024.39 121.177 1024.39 M121.177 1020.68 Q126.987 1020.68 130.043 1025.29 Q133.121 1029.87 133.121 1038.62 Q133.121 1047.35 130.043 1051.96 Q126.987 1056.54 121.177 1056.54 Q115.367 1056.54 112.288 1051.96 Q109.233 1047.35 109.233 1038.62 Q109.233 1029.87 112.288 1025.29 Q115.367 1020.68 121.177 1020.68 Z\" fill=\"#000000\" fill-rule=\"evenodd\" fill-opacity=\"1\" /><path clip-path=\"url(#clip660)\" d=\"M91.5938 770.687 Q88.4456 770.687 86.5938 772.84 Q84.7651 774.993 84.7651 778.743 Q84.7651 782.47 86.5938 784.646 Q88.4456 786.798 91.5938 786.798 Q94.7419 786.798 96.5706 784.646 Q98.4224 782.47 98.4224 778.743 Q98.4224 774.993 96.5706 772.84 Q94.7419 770.687 91.5938 770.687 M100.876 756.035 L100.876 760.294 Q99.1169 759.461 97.3113 759.021 Q95.5289 758.581 93.7697 758.581 Q89.1401 758.581 86.6864 761.706 Q84.2558 764.831 83.9086 771.15 Q85.2743 769.137 87.3345 768.072 Q89.3947 766.984 91.8715 766.984 Q97.0798 766.984 100.089 770.155 Q103.121 773.303 103.121 778.743 Q103.121 784.067 99.9733 787.285 Q96.8252 790.502 91.5938 790.502 Q85.5984 790.502 82.4271 785.919 Q79.2559 781.312 79.2559 772.586 Q79.2559 764.391 83.1447 759.53 Q87.0336 754.646 93.5845 754.646 Q95.3437 754.646 97.1261 754.993 Q98.9317 755.34 100.876 756.035 Z\" fill=\"#000000\" fill-rule=\"evenodd\" fill-opacity=\"1\" /><path clip-path=\"url(#clip660)\" d=\"M121.177 758.35 Q117.566 758.35 115.737 761.914 Q113.932 765.456 113.932 772.586 Q113.932 779.692 115.737 783.257 Q117.566 786.798 121.177 786.798 Q124.811 786.798 126.617 783.257 Q128.445 779.692 128.445 772.586 Q128.445 765.456 126.617 761.914 Q124.811 758.35 121.177 758.35 M121.177 754.646 Q126.987 754.646 130.043 759.252 Q133.121 763.836 133.121 772.586 Q133.121 781.312 130.043 785.919 Q126.987 790.502 121.177 790.502 Q115.367 790.502 112.288 785.919 Q109.233 781.312 109.233 772.586 Q109.233 763.836 112.288 759.252 Q115.367 754.646 121.177 754.646 Z\" fill=\"#000000\" fill-rule=\"evenodd\" fill-opacity=\"1\" /><path clip-path=\"url(#clip660)\" d=\"M81.154 523.076 L81.154 518.817 Q82.9133 519.65 84.7188 520.09 Q86.5243 520.53 88.2604 520.53 Q92.89 520.53 95.3206 517.428 Q97.7743 514.303 98.1215 507.96 Q96.7789 509.951 94.7187 511.016 Q92.6586 512.08 90.1586 512.08 Q84.9734 512.08 81.941 508.956 Q78.9318 505.807 78.9318 500.368 Q78.9318 495.044 82.0799 491.826 Q85.2281 488.608 90.4595 488.608 Q96.4548 488.608 99.603 493.215 Q102.774 497.798 102.774 506.548 Q102.774 514.719 98.8854 519.604 Q95.0197 524.465 88.4688 524.465 Q86.7095 524.465 84.904 524.117 Q83.0984 523.77 81.154 523.076 M90.4595 508.423 Q93.6076 508.423 95.4363 506.27 Q97.2882 504.118 97.2882 500.368 Q97.2882 496.641 95.4363 494.488 Q93.6076 492.312 90.4595 492.312 Q87.3114 492.312 85.4595 494.488 Q83.6308 496.641 83.6308 500.368 Q83.6308 504.118 85.4595 506.27 Q87.3114 508.423 90.4595 508.423 Z\" fill=\"#000000\" fill-rule=\"evenodd\" fill-opacity=\"1\" /><path clip-path=\"url(#clip660)\" d=\"M121.177 492.312 Q117.566 492.312 115.737 495.877 Q113.932 499.419 113.932 506.548 Q113.932 513.655 115.737 517.219 Q117.566 520.761 121.177 520.761 Q124.811 520.761 126.617 517.219 Q128.445 513.655 128.445 506.548 Q128.445 499.419 126.617 495.877 Q124.811 492.312 121.177 492.312 M121.177 488.608 Q126.987 488.608 130.043 493.215 Q133.121 497.798 133.121 506.548 Q133.121 515.275 130.043 519.881 Q126.987 524.465 121.177 524.465 Q115.367 524.465 112.288 519.881 Q109.233 515.275 109.233 506.548 Q109.233 497.798 112.288 493.215 Q115.367 488.608 121.177 488.608 Z\" fill=\"#000000\" fill-rule=\"evenodd\" fill-opacity=\"1\" /><path clip-path=\"url(#clip660)\" d=\"M51.6634 253.821 L59.3023 253.821 L59.3023 227.455 L50.9921 229.122 L50.9921 224.863 L59.256 223.196 L63.9319 223.196 L63.9319 253.821 L71.5707 253.821 L71.5707 257.756 L51.6634 257.756 L51.6634 253.821 Z\" fill=\"#000000\" fill-rule=\"evenodd\" fill-opacity=\"1\" /><path clip-path=\"url(#clip660)\" d=\"M85.0429 253.821 L101.362 253.821 L101.362 257.756 L79.4179 257.756 L79.4179 253.821 Q82.0799 251.066 86.6632 246.437 Q91.2697 241.784 92.4502 240.441 Q94.6956 237.918 95.5752 236.182 Q96.478 234.423 96.478 232.733 Q96.478 229.978 94.5336 228.242 Q92.6123 226.506 89.5104 226.506 Q87.3114 226.506 84.8577 227.27 Q82.4271 228.034 79.6494 229.585 L79.6494 224.863 Q82.4734 223.728 84.9271 223.15 Q87.3808 222.571 89.4178 222.571 Q94.7882 222.571 97.9826 225.256 Q101.177 227.941 101.177 232.432 Q101.177 234.562 100.367 236.483 Q99.5798 238.381 97.4734 240.974 Q96.8947 241.645 93.7928 244.862 Q90.691 248.057 85.0429 253.821 Z\" fill=\"#000000\" fill-rule=\"evenodd\" fill-opacity=\"1\" /><path clip-path=\"url(#clip660)\" d=\"M121.177 226.275 Q117.566 226.275 115.737 229.839 Q113.932 233.381 113.932 240.511 Q113.932 247.617 115.737 251.182 Q117.566 254.724 121.177 254.724 Q124.811 254.724 126.617 251.182 Q128.445 247.617 128.445 240.511 Q128.445 233.381 126.617 229.839 Q124.811 226.275 121.177 226.275 M121.177 222.571 Q126.987 222.571 130.043 227.177 Q133.121 231.761 133.121 240.511 Q133.121 249.237 130.043 253.844 Q126.987 258.427 121.177 258.427 Q115.367 258.427 112.288 253.844 Q109.233 249.237 109.233 240.511 Q109.233 231.761 112.288 227.177 Q115.367 222.571 121.177 222.571 Z\" fill=\"#000000\" fill-rule=\"evenodd\" fill-opacity=\"1\" /><circle clip-path=\"url(#clip662)\" cx=\"230.922\" cy=\"512.651\" r=\"14.4\" fill=\"#009af9\" fill-rule=\"evenodd\" fill-opacity=\"1\" stroke=\"#000000\" stroke-opacity=\"1\" stroke-width=\"3.2\"/>\n",
       "<circle clip-path=\"url(#clip662)\" cx=\"333.924\" cy=\"889.245\" r=\"14.4\" fill=\"#009af9\" fill-rule=\"evenodd\" fill-opacity=\"1\" stroke=\"#000000\" stroke-opacity=\"1\" stroke-width=\"3.2\"/>\n",
       "<circle clip-path=\"url(#clip662)\" cx=\"436.926\" cy=\"965.125\" r=\"14.4\" fill=\"#009af9\" fill-rule=\"evenodd\" fill-opacity=\"1\" stroke=\"#000000\" stroke-opacity=\"1\" stroke-width=\"3.2\"/>\n",
       "<circle clip-path=\"url(#clip662)\" cx=\"539.927\" cy=\"1056.04\" r=\"14.4\" fill=\"#009af9\" fill-rule=\"evenodd\" fill-opacity=\"1\" stroke=\"#000000\" stroke-opacity=\"1\" stroke-width=\"3.2\"/>\n",
       "<circle clip-path=\"url(#clip662)\" cx=\"642.929\" cy=\"1248.79\" r=\"14.4\" fill=\"#009af9\" fill-rule=\"evenodd\" fill-opacity=\"1\" stroke=\"#000000\" stroke-opacity=\"1\" stroke-width=\"3.2\"/>\n",
       "<circle clip-path=\"url(#clip662)\" cx=\"745.93\" cy=\"1077.64\" r=\"14.4\" fill=\"#009af9\" fill-rule=\"evenodd\" fill-opacity=\"1\" stroke=\"#000000\" stroke-opacity=\"1\" stroke-width=\"3.2\"/>\n",
       "<circle clip-path=\"url(#clip662)\" cx=\"848.932\" cy=\"1128.1\" r=\"14.4\" fill=\"#009af9\" fill-rule=\"evenodd\" fill-opacity=\"1\" stroke=\"#000000\" stroke-opacity=\"1\" stroke-width=\"3.2\"/>\n",
       "<circle clip-path=\"url(#clip662)\" cx=\"951.934\" cy=\"1445.72\" r=\"14.4\" fill=\"#009af9\" fill-rule=\"evenodd\" fill-opacity=\"1\" stroke=\"#000000\" stroke-opacity=\"1\" stroke-width=\"3.2\"/>\n",
       "<circle clip-path=\"url(#clip662)\" cx=\"1054.94\" cy=\"1337.93\" r=\"14.4\" fill=\"#009af9\" fill-rule=\"evenodd\" fill-opacity=\"1\" stroke=\"#000000\" stroke-opacity=\"1\" stroke-width=\"3.2\"/>\n",
       "<circle clip-path=\"url(#clip662)\" cx=\"1157.94\" cy=\"1407.42\" r=\"14.4\" fill=\"#009af9\" fill-rule=\"evenodd\" fill-opacity=\"1\" stroke=\"#000000\" stroke-opacity=\"1\" stroke-width=\"3.2\"/>\n",
       "<circle clip-path=\"url(#clip662)\" cx=\"1260.94\" cy=\"1262.49\" r=\"14.4\" fill=\"#009af9\" fill-rule=\"evenodd\" fill-opacity=\"1\" stroke=\"#000000\" stroke-opacity=\"1\" stroke-width=\"3.2\"/>\n",
       "<circle clip-path=\"url(#clip662)\" cx=\"1363.94\" cy=\"1239.96\" r=\"14.4\" fill=\"#009af9\" fill-rule=\"evenodd\" fill-opacity=\"1\" stroke=\"#000000\" stroke-opacity=\"1\" stroke-width=\"3.2\"/>\n",
       "<circle clip-path=\"url(#clip662)\" cx=\"1466.94\" cy=\"1379.85\" r=\"14.4\" fill=\"#009af9\" fill-rule=\"evenodd\" fill-opacity=\"1\" stroke=\"#000000\" stroke-opacity=\"1\" stroke-width=\"3.2\"/>\n",
       "<circle clip-path=\"url(#clip662)\" cx=\"1569.94\" cy=\"1316.07\" r=\"14.4\" fill=\"#009af9\" fill-rule=\"evenodd\" fill-opacity=\"1\" stroke=\"#000000\" stroke-opacity=\"1\" stroke-width=\"3.2\"/>\n",
       "<circle clip-path=\"url(#clip662)\" cx=\"1672.95\" cy=\"1050.1\" r=\"14.4\" fill=\"#009af9\" fill-rule=\"evenodd\" fill-opacity=\"1\" stroke=\"#000000\" stroke-opacity=\"1\" stroke-width=\"3.2\"/>\n",
       "<circle clip-path=\"url(#clip662)\" cx=\"1775.95\" cy=\"873.267\" r=\"14.4\" fill=\"#009af9\" fill-rule=\"evenodd\" fill-opacity=\"1\" stroke=\"#000000\" stroke-opacity=\"1\" stroke-width=\"3.2\"/>\n",
       "<circle clip-path=\"url(#clip662)\" cx=\"1878.95\" cy=\"807.601\" r=\"14.4\" fill=\"#009af9\" fill-rule=\"evenodd\" fill-opacity=\"1\" stroke=\"#000000\" stroke-opacity=\"1\" stroke-width=\"3.2\"/>\n",
       "<circle clip-path=\"url(#clip662)\" cx=\"1981.95\" cy=\"618.961\" r=\"14.4\" fill=\"#009af9\" fill-rule=\"evenodd\" fill-opacity=\"1\" stroke=\"#000000\" stroke-opacity=\"1\" stroke-width=\"3.2\"/>\n",
       "<circle clip-path=\"url(#clip662)\" cx=\"2084.95\" cy=\"477.659\" r=\"14.4\" fill=\"#009af9\" fill-rule=\"evenodd\" fill-opacity=\"1\" stroke=\"#000000\" stroke-opacity=\"1\" stroke-width=\"3.2\"/>\n",
       "<circle clip-path=\"url(#clip662)\" cx=\"2187.95\" cy=\"580.383\" r=\"14.4\" fill=\"#009af9\" fill-rule=\"evenodd\" fill-opacity=\"1\" stroke=\"#000000\" stroke-opacity=\"1\" stroke-width=\"3.2\"/>\n",
       "<circle clip-path=\"url(#clip662)\" cx=\"2290.95\" cy=\"87.9763\" r=\"14.4\" fill=\"#009af9\" fill-rule=\"evenodd\" fill-opacity=\"1\" stroke=\"#000000\" stroke-opacity=\"1\" stroke-width=\"3.2\"/>\n",
       "<polyline clip-path=\"url(#clip662)\" style=\"stroke:#e26f46; stroke-linecap:round; stroke-linejoin:round; stroke-width:4; stroke-opacity:1; fill:none\" points=\"230.922,701.608 333.924,843.494 436.926,967.645 539.927,1074.06 642.929,1162.74 745.93,1233.68 848.932,1286.89 951.934,1322.36 1054.94,1340.1 1157.94,1340.1 1260.94,1322.36 1363.94,1286.89 1466.94,1233.68 1569.94,1162.74 1672.95,1074.06 1775.95,967.645 1878.95,843.494 1981.95,701.608 2084.95,541.985 2187.95,364.627 2290.95,169.533 \"/>\n",
       "<polyline clip-path=\"url(#clip662)\" style=\"stroke:#3da44d; stroke-linecap:round; stroke-linejoin:round; stroke-width:4; stroke-opacity:1; fill:none\" points=\"230.922,630.318 333.924,785.731 436.926,922.264 539.927,1039.92 642.929,1138.69 745.93,1218.58 848.932,1279.6 951.934,1321.73 1054.94,1344.98 1157.94,1349.35 1260.94,1334.85 1363.94,1301.46 1466.94,1249.19 1569.94,1178.04 1672.95,1088.02 1775.95,979.11 1878.95,851.323 1981.95,704.656 2084.95,539.108 2187.95,354.681 2290.95,151.374 \"/>\n",
       "<path clip-path=\"url(#clip660)\" d=\"M241.909 302.578 L726.081 302.578 L726.081 95.2176 L241.909 95.2176  Z\" fill=\"#ffffff\" fill-rule=\"evenodd\" fill-opacity=\"1\"/>\n",
       "<polyline clip-path=\"url(#clip660)\" style=\"stroke:#000000; stroke-linecap:round; stroke-linejoin:round; stroke-width:4; stroke-opacity:1; fill:none\" points=\"241.909,302.578 726.081,302.578 726.081,95.2176 241.909,95.2176 241.909,302.578 \"/>\n",
       "<circle clip-path=\"url(#clip660)\" cx=\"338.96\" cy=\"147.058\" r=\"23.04\" fill=\"#009af9\" fill-rule=\"evenodd\" fill-opacity=\"1\" stroke=\"#000000\" stroke-opacity=\"1\" stroke-width=\"5.12\"/>\n",
       "<path clip-path=\"url(#clip660)\" d=\"M440.686 133.62 L440.686 160.495 L446.334 160.495 Q453.487 160.495 456.797 157.254 Q460.13 154.014 460.13 147.023 Q460.13 140.078 456.797 136.861 Q453.487 133.62 446.334 133.62 L440.686 133.62 M436.01 129.778 L445.616 129.778 Q455.663 129.778 460.362 133.967 Q465.061 138.134 465.061 147.023 Q465.061 155.958 460.339 160.148 Q455.616 164.338 445.616 164.338 L436.01 164.338 L436.01 129.778 Z\" fill=\"#000000\" fill-rule=\"evenodd\" fill-opacity=\"1\" /><path clip-path=\"url(#clip660)\" d=\"M484.112 151.305 Q478.95 151.305 476.959 152.486 Q474.968 153.666 474.968 156.514 Q474.968 158.782 476.45 160.125 Q477.954 161.444 480.524 161.444 Q484.065 161.444 486.195 158.944 Q488.348 156.421 488.348 152.254 L488.348 151.305 L484.112 151.305 M492.607 149.546 L492.607 164.338 L488.348 164.338 L488.348 160.402 Q486.889 162.763 484.713 163.898 Q482.538 165.009 479.389 165.009 Q475.408 165.009 473.047 162.787 Q470.709 160.541 470.709 156.791 Q470.709 152.416 473.626 150.194 Q476.565 147.972 482.375 147.972 L488.348 147.972 L488.348 147.555 Q488.348 144.615 486.403 143.018 Q484.482 141.398 480.987 141.398 Q478.764 141.398 476.658 141.93 Q474.551 142.463 472.607 143.527 L472.607 139.592 Q474.945 138.69 477.144 138.25 Q479.343 137.787 481.426 137.787 Q487.051 137.787 489.829 140.703 Q492.607 143.62 492.607 149.546 Z\" fill=\"#000000\" fill-rule=\"evenodd\" fill-opacity=\"1\" /><path clip-path=\"url(#clip660)\" d=\"M505.593 131.051 L505.593 138.412 L514.366 138.412 L514.366 141.722 L505.593 141.722 L505.593 155.796 Q505.593 158.967 506.449 159.87 Q507.329 160.773 509.991 160.773 L514.366 160.773 L514.366 164.338 L509.991 164.338 Q505.061 164.338 503.186 162.509 Q501.311 160.657 501.311 155.796 L501.311 141.722 L498.186 141.722 L498.186 138.412 L501.311 138.412 L501.311 131.051 L505.593 131.051 Z\" fill=\"#000000\" fill-rule=\"evenodd\" fill-opacity=\"1\" /><path clip-path=\"url(#clip660)\" d=\"M531.75 151.305 Q526.588 151.305 524.597 152.486 Q522.607 153.666 522.607 156.514 Q522.607 158.782 524.088 160.125 Q525.593 161.444 528.162 161.444 Q531.704 161.444 533.834 158.944 Q535.986 156.421 535.986 152.254 L535.986 151.305 L531.75 151.305 M540.246 149.546 L540.246 164.338 L535.986 164.338 L535.986 160.402 Q534.528 162.763 532.352 163.898 Q530.176 165.009 527.028 165.009 Q523.047 165.009 520.685 162.787 Q518.348 160.541 518.348 156.791 Q518.348 152.416 521.264 150.194 Q524.204 147.972 530.014 147.972 L535.986 147.972 L535.986 147.555 Q535.986 144.615 534.042 143.018 Q532.121 141.398 528.625 141.398 Q526.403 141.398 524.297 141.93 Q522.19 142.463 520.246 143.527 L520.246 139.592 Q522.584 138.69 524.783 138.25 Q526.982 137.787 529.065 137.787 Q534.69 137.787 537.468 140.703 Q540.246 143.62 540.246 149.546 Z\" fill=\"#000000\" fill-rule=\"evenodd\" fill-opacity=\"1\" /><polyline clip-path=\"url(#clip660)\" style=\"stroke:#e26f46; stroke-linecap:round; stroke-linejoin:round; stroke-width:4; stroke-opacity:1; fill:none\" points=\"266.172,198.898 411.747,198.898 \"/>\n",
       "<path clip-path=\"url(#clip660)\" d=\"M449.853 218.585 Q448.047 223.215 446.334 224.627 Q444.621 226.039 441.751 226.039 L438.348 226.039 L438.348 222.474 L440.848 222.474 Q442.607 222.474 443.579 221.64 Q444.552 220.807 445.732 217.705 L446.496 215.761 L436.01 190.252 L440.524 190.252 L448.626 210.529 L456.727 190.252 L461.241 190.252 L449.853 218.585 Z\" fill=\"#000000\" fill-rule=\"evenodd\" fill-opacity=\"1\" /><path clip-path=\"url(#clip660)\" d=\"M486.82 224.048 L486.82 227.358 L462.19 227.358 L462.19 224.048 L486.82 224.048 Z\" fill=\"#000000\" fill-rule=\"evenodd\" fill-opacity=\"1\" /><path clip-path=\"url(#clip660)\" d=\"M495.037 182.891 L495.037 190.252 L503.811 190.252 L503.811 193.562 L495.037 193.562 L495.037 207.636 Q495.037 210.807 495.894 211.71 Q496.774 212.613 499.436 212.613 L503.811 212.613 L503.811 216.178 L499.436 216.178 Q494.505 216.178 492.63 214.349 Q490.755 212.497 490.755 207.636 L490.755 193.562 L487.63 193.562 L487.63 190.252 L490.755 190.252 L490.755 182.891 L495.037 182.891 Z\" fill=\"#000000\" fill-rule=\"evenodd\" fill-opacity=\"1\" /><path clip-path=\"url(#clip660)\" d=\"M524.435 194.233 Q523.718 193.817 522.861 193.631 Q522.028 193.423 521.01 193.423 Q517.398 193.423 515.454 195.784 Q513.533 198.122 513.533 202.52 L513.533 216.178 L509.25 216.178 L509.25 190.252 L513.533 190.252 L513.533 194.28 Q514.875 191.918 517.028 190.784 Q519.181 189.627 522.26 189.627 Q522.699 189.627 523.232 189.696 Q523.764 189.743 524.412 189.858 L524.435 194.233 Z\" fill=\"#000000\" fill-rule=\"evenodd\" fill-opacity=\"1\" /><path clip-path=\"url(#clip660)\" d=\"M528.463 205.946 L528.463 190.252 L532.722 190.252 L532.722 205.784 Q532.722 209.465 534.158 211.316 Q535.593 213.145 538.463 213.145 Q541.912 213.145 543.903 210.946 Q545.917 208.747 545.917 204.951 L545.917 190.252 L550.176 190.252 L550.176 216.178 L545.917 216.178 L545.917 212.196 Q544.366 214.557 542.306 215.715 Q540.269 216.849 537.56 216.849 Q533.093 216.849 530.778 214.071 Q528.463 211.293 528.463 205.946 M539.181 189.627 L539.181 189.627 Z\" fill=\"#000000\" fill-rule=\"evenodd\" fill-opacity=\"1\" /><path clip-path=\"url(#clip660)\" d=\"M581.125 202.15 L581.125 204.233 L561.542 204.233 Q561.819 208.631 564.181 210.946 Q566.565 213.238 570.801 213.238 Q573.255 213.238 575.546 212.636 Q577.861 212.034 580.13 210.83 L580.13 214.858 Q577.838 215.83 575.431 216.34 Q573.023 216.849 570.546 216.849 Q564.343 216.849 560.708 213.238 Q557.097 209.627 557.097 203.469 Q557.097 197.104 560.523 193.377 Q563.972 189.627 569.806 189.627 Q575.037 189.627 578.069 193.006 Q581.125 196.363 581.125 202.15 M576.866 200.9 Q576.819 197.405 574.898 195.321 Q573 193.238 569.852 193.238 Q566.287 193.238 564.134 195.252 Q562.005 197.266 561.681 200.923 L576.866 200.9 Z\" fill=\"#000000\" fill-rule=\"evenodd\" fill-opacity=\"1\" /><polyline clip-path=\"url(#clip660)\" style=\"stroke:#3da44d; stroke-linecap:round; stroke-linejoin:round; stroke-width:4; stroke-opacity:1; fill:none\" points=\"266.172,250.738 411.747,250.738 \"/>\n",
       "<path clip-path=\"url(#clip660)\" d=\"M449.853 270.425 Q448.047 275.055 446.334 276.467 Q444.621 277.879 441.751 277.879 L438.348 277.879 L438.348 274.314 L440.848 274.314 Q442.607 274.314 443.579 273.48 Q444.552 272.647 445.732 269.545 L446.496 267.601 L436.01 242.092 L440.524 242.092 L448.626 262.369 L456.727 242.092 L461.241 242.092 L449.853 270.425 Z\" fill=\"#000000\" fill-rule=\"evenodd\" fill-opacity=\"1\" /><path clip-path=\"url(#clip660)\" d=\"M486.82 275.888 L486.82 279.198 L462.19 279.198 L462.19 275.888 L486.82 275.888 Z\" fill=\"#000000\" fill-rule=\"evenodd\" fill-opacity=\"1\" /><path clip-path=\"url(#clip660)\" d=\"M500.871 245.078 Q497.445 245.078 495.454 247.763 Q493.463 250.425 493.463 255.078 Q493.463 259.731 495.431 262.416 Q497.422 265.078 500.871 265.078 Q504.274 265.078 506.264 262.393 Q508.255 259.707 508.255 255.078 Q508.255 250.471 506.264 247.786 Q504.274 245.078 500.871 245.078 M500.871 241.467 Q506.426 241.467 509.598 245.078 Q512.769 248.689 512.769 255.078 Q512.769 261.444 509.598 265.078 Q506.426 268.689 500.871 268.689 Q495.292 268.689 492.121 265.078 Q488.973 261.444 488.973 255.078 Q488.973 248.689 492.121 245.078 Q495.292 241.467 500.871 241.467 Z\" fill=\"#000000\" fill-rule=\"evenodd\" fill-opacity=\"1\" /><path clip-path=\"url(#clip660)\" d=\"M538.44 255.078 Q538.44 250.379 536.496 247.717 Q534.574 245.032 531.195 245.032 Q527.815 245.032 525.871 247.717 Q523.949 250.379 523.949 255.078 Q523.949 259.777 525.871 262.462 Q527.815 265.124 531.195 265.124 Q534.574 265.124 536.496 262.462 Q538.44 259.777 538.44 255.078 M523.949 246.027 Q525.292 243.712 527.329 242.601 Q529.389 241.467 532.236 241.467 Q536.959 241.467 539.898 245.217 Q542.861 248.967 542.861 255.078 Q542.861 261.189 539.898 264.939 Q536.959 268.689 532.236 268.689 Q529.389 268.689 527.329 267.578 Q525.292 266.443 523.949 264.129 L523.949 268.018 L519.667 268.018 L519.667 231.999 L523.949 231.999 L523.949 246.027 Z\" fill=\"#000000\" fill-rule=\"evenodd\" fill-opacity=\"1\" /><path clip-path=\"url(#clip660)\" d=\"M566.449 242.856 L566.449 246.883 Q564.644 245.957 562.699 245.495 Q560.755 245.032 558.671 245.032 Q555.5 245.032 553.903 246.004 Q552.329 246.976 552.329 248.92 Q552.329 250.402 553.463 251.258 Q554.597 252.092 558.023 252.856 L559.482 253.18 Q564.019 254.152 565.917 255.934 Q567.838 257.694 567.838 260.865 Q567.838 264.476 564.968 266.582 Q562.12 268.689 557.12 268.689 Q555.037 268.689 552.769 268.272 Q550.523 267.879 548.023 267.068 L548.023 262.67 Q550.384 263.897 552.676 264.522 Q554.968 265.124 557.213 265.124 Q560.222 265.124 561.843 264.106 Q563.463 263.064 563.463 261.189 Q563.463 259.453 562.282 258.527 Q561.125 257.601 557.167 256.744 L555.685 256.397 Q551.727 255.564 549.968 253.851 Q548.208 252.115 548.208 249.106 Q548.208 245.448 550.801 243.458 Q553.394 241.467 558.162 241.467 Q560.523 241.467 562.607 241.814 Q564.69 242.161 566.449 242.856 Z\" fill=\"#000000\" fill-rule=\"evenodd\" fill-opacity=\"1\" /><path clip-path=\"url(#clip660)\" d=\"M596.796 253.99 L596.796 256.073 L577.213 256.073 Q577.491 260.471 579.852 262.786 Q582.236 265.078 586.472 265.078 Q588.926 265.078 591.217 264.476 Q593.532 263.874 595.801 262.67 L595.801 266.698 Q593.509 267.67 591.102 268.18 Q588.694 268.689 586.218 268.689 Q580.014 268.689 576.38 265.078 Q572.769 261.467 572.769 255.309 Q572.769 248.944 576.194 245.217 Q579.643 241.467 585.477 241.467 Q590.708 241.467 593.741 244.846 Q596.796 248.203 596.796 253.99 M592.537 252.74 Q592.491 249.245 590.569 247.161 Q588.671 245.078 585.523 245.078 Q581.958 245.078 579.806 247.092 Q577.676 249.106 577.352 252.763 L592.537 252.74 Z\" fill=\"#000000\" fill-rule=\"evenodd\" fill-opacity=\"1\" /><path clip-path=\"url(#clip660)\" d=\"M618.81 246.073 Q618.092 245.657 617.236 245.471 Q616.403 245.263 615.384 245.263 Q611.773 245.263 609.829 247.624 Q607.907 249.962 607.907 254.36 L607.907 268.018 L603.625 268.018 L603.625 242.092 L607.907 242.092 L607.907 246.12 Q609.25 243.758 611.403 242.624 Q613.555 241.467 616.634 241.467 Q617.074 241.467 617.606 241.536 Q618.139 241.583 618.787 241.698 L618.81 246.073 Z\" fill=\"#000000\" fill-rule=\"evenodd\" fill-opacity=\"1\" /><path clip-path=\"url(#clip660)\" d=\"M620.222 242.092 L624.736 242.092 L632.838 263.851 L640.939 242.092 L645.453 242.092 L635.731 268.018 L629.944 268.018 L620.222 242.092 Z\" fill=\"#000000\" fill-rule=\"evenodd\" fill-opacity=\"1\" /><path clip-path=\"url(#clip660)\" d=\"M673.509 253.99 L673.509 256.073 L653.925 256.073 Q654.203 260.471 656.564 262.786 Q658.949 265.078 663.185 265.078 Q665.638 265.078 667.93 264.476 Q670.245 263.874 672.513 262.67 L672.513 266.698 Q670.222 267.67 667.814 268.18 Q665.407 268.689 662.93 268.689 Q656.726 268.689 653.092 265.078 Q649.481 261.467 649.481 255.309 Q649.481 248.944 652.907 245.217 Q656.356 241.467 662.189 241.467 Q667.421 241.467 670.453 244.846 Q673.509 248.203 673.509 253.99 M669.249 252.74 Q669.203 249.245 667.282 247.161 Q665.384 245.078 662.236 245.078 Q658.671 245.078 656.518 247.092 Q654.388 249.106 654.064 252.763 L669.249 252.74 Z\" fill=\"#000000\" fill-rule=\"evenodd\" fill-opacity=\"1\" /><path clip-path=\"url(#clip660)\" d=\"M697.56 246.027 L697.56 231.999 L701.819 231.999 L701.819 268.018 L697.56 268.018 L697.56 264.129 Q696.217 266.443 694.157 267.578 Q692.12 268.689 689.249 268.689 Q684.55 268.689 681.587 264.939 Q678.648 261.189 678.648 255.078 Q678.648 248.967 681.587 245.217 Q684.55 241.467 689.249 241.467 Q692.12 241.467 694.157 242.601 Q696.217 243.712 697.56 246.027 M683.046 255.078 Q683.046 259.777 684.967 262.462 Q686.911 265.124 690.291 265.124 Q693.671 265.124 695.615 262.462 Q697.56 259.777 697.56 255.078 Q697.56 250.379 695.615 247.717 Q693.671 245.032 690.291 245.032 Q686.911 245.032 684.967 247.717 Q683.046 250.379 683.046 255.078 Z\" fill=\"#000000\" fill-rule=\"evenodd\" fill-opacity=\"1\" /></svg>\n"
      ]
     },
     "execution_count": 48,
     "metadata": {},
     "output_type": "execute_result"
    }
   ],
   "source": [
    "noises=10\n",
    "d=di.Normal(0,noises)\n",
    "y_observed=y_true+rand(d,length(x))\n",
    "scatter(x,y_observed, label=\"Data\")\n",
    "plot!(x,y_true, label=\"y_true\")\n",
    "line_fit=Polynomials.fit(x,y_observed,2)\n",
    "fit_coeff=coeffs(line_fit)\n",
    "y_fitted=fit_coeff[1] .+ fit_coeff[2] .*x .+ fit_coeff[3] .*x .^2\n",
    "plot!(x,y_fitted, label=\"y_fitted\")"
   ]
  },
  {
   "cell_type": "code",
   "execution_count": 43,
   "id": "e7dd1351",
   "metadata": {},
   "outputs": [
    {
     "data": {
      "text/plain": [
       "21-element Vector{Float64}:\n",
       "  59.05688747418777\n",
       "  43.675216344487275\n",
       "  30.29072356084403\n",
       "  18.903409123258026\n",
       "   9.513273031729263\n",
       "   2.1203152862577497\n",
       "  -3.27546411315652\n",
       "  -6.674065166513547\n",
       "  -8.075487873813326\n",
       "  -7.479732235055864\n",
       "  -4.886798250241152\n",
       "  -0.2966859193692033\n",
       "   6.290604757559997\n",
       "  14.875073780546433\n",
       "  25.456721149590123\n",
       "  38.03554686469105\n",
       "  52.61155092584923\n",
       "  69.18473333306466\n",
       "  87.75509408633731\n",
       " 108.32263318566721\n",
       " 130.88735063105437"
      ]
     },
     "execution_count": 43,
     "metadata": {},
     "output_type": "execute_result"
    }
   ],
   "source": []
  },
  {
   "cell_type": "markdown",
   "id": "b3b5a343",
   "metadata": {},
   "source": [
    "### 2.4\n",
    "\n",
    "1. Repeat 2.2 and 2.3 with a noise with a standard deviation of 50"
   ]
  },
  {
   "cell_type": "code",
   "execution_count": 49,
   "id": "b4c08499",
   "metadata": {},
   "outputs": [
    {
     "data": {
      "image/svg+xml": [
       "<?xml version=\"1.0\" encoding=\"utf-8\"?>\n",
       "<svg xmlns=\"http://www.w3.org/2000/svg\" xmlns:xlink=\"http://www.w3.org/1999/xlink\" width=\"600\" height=\"400\" viewBox=\"0 0 2400 1600\">\n",
       "<defs>\n",
       "  <clipPath id=\"clip700\">\n",
       "    <rect x=\"0\" y=\"0\" width=\"2400\" height=\"1600\"/>\n",
       "  </clipPath>\n",
       "</defs>\n",
       "<path clip-path=\"url(#clip700)\" d=\"M0 1600 L2400 1600 L2400 0 L0 0  Z\" fill=\"#ffffff\" fill-rule=\"evenodd\" fill-opacity=\"1\"/>\n",
       "<defs>\n",
       "  <clipPath id=\"clip701\">\n",
       "    <rect x=\"480\" y=\"0\" width=\"1681\" height=\"1600\"/>\n",
       "  </clipPath>\n",
       "</defs>\n",
       "<path clip-path=\"url(#clip700)\" d=\"M178.867 1486.45 L2352.76 1486.45 L2352.76 47.2441 L178.867 47.2441  Z\" fill=\"#ffffff\" fill-rule=\"evenodd\" fill-opacity=\"1\"/>\n",
       "<defs>\n",
       "  <clipPath id=\"clip702\">\n",
       "    <rect x=\"178\" y=\"47\" width=\"2175\" height=\"1440\"/>\n",
       "  </clipPath>\n",
       "</defs>\n",
       "<polyline clip-path=\"url(#clip702)\" style=\"stroke:#000000; stroke-linecap:round; stroke-linejoin:round; stroke-width:2; stroke-opacity:0.1; fill:none\" points=\"240.392,1486.45 240.392,47.2441 \"/>\n",
       "<polyline clip-path=\"url(#clip702)\" style=\"stroke:#000000; stroke-linecap:round; stroke-linejoin:round; stroke-width:2; stroke-opacity:0.1; fill:none\" points=\"753.102,1486.45 753.102,47.2441 \"/>\n",
       "<polyline clip-path=\"url(#clip702)\" style=\"stroke:#000000; stroke-linecap:round; stroke-linejoin:round; stroke-width:2; stroke-opacity:0.1; fill:none\" points=\"1265.81,1486.45 1265.81,47.2441 \"/>\n",
       "<polyline clip-path=\"url(#clip702)\" style=\"stroke:#000000; stroke-linecap:round; stroke-linejoin:round; stroke-width:2; stroke-opacity:0.1; fill:none\" points=\"1778.52,1486.45 1778.52,47.2441 \"/>\n",
       "<polyline clip-path=\"url(#clip702)\" style=\"stroke:#000000; stroke-linecap:round; stroke-linejoin:round; stroke-width:2; stroke-opacity:0.1; fill:none\" points=\"2291.23,1486.45 2291.23,47.2441 \"/>\n",
       "<polyline clip-path=\"url(#clip700)\" style=\"stroke:#000000; stroke-linecap:round; stroke-linejoin:round; stroke-width:4; stroke-opacity:1; fill:none\" points=\"178.867,1486.45 2352.76,1486.45 \"/>\n",
       "<polyline clip-path=\"url(#clip700)\" style=\"stroke:#000000; stroke-linecap:round; stroke-linejoin:round; stroke-width:4; stroke-opacity:1; fill:none\" points=\"240.392,1486.45 240.392,1467.55 \"/>\n",
       "<polyline clip-path=\"url(#clip700)\" style=\"stroke:#000000; stroke-linecap:round; stroke-linejoin:round; stroke-width:4; stroke-opacity:1; fill:none\" points=\"753.102,1486.45 753.102,1467.55 \"/>\n",
       "<polyline clip-path=\"url(#clip700)\" style=\"stroke:#000000; stroke-linecap:round; stroke-linejoin:round; stroke-width:4; stroke-opacity:1; fill:none\" points=\"1265.81,1486.45 1265.81,1467.55 \"/>\n",
       "<polyline clip-path=\"url(#clip700)\" style=\"stroke:#000000; stroke-linecap:round; stroke-linejoin:round; stroke-width:4; stroke-opacity:1; fill:none\" points=\"1778.52,1486.45 1778.52,1467.55 \"/>\n",
       "<polyline clip-path=\"url(#clip700)\" style=\"stroke:#000000; stroke-linecap:round; stroke-linejoin:round; stroke-width:4; stroke-opacity:1; fill:none\" points=\"2291.23,1486.45 2291.23,1467.55 \"/>\n",
       "<path clip-path=\"url(#clip700)\" d=\"M194.455 1532.02 L224.13 1532.02 L224.13 1535.95 L194.455 1535.95 L194.455 1532.02 Z\" fill=\"#000000\" fill-rule=\"evenodd\" fill-opacity=\"1\" /><path clip-path=\"url(#clip700)\" d=\"M235.033 1544.91 L242.672 1544.91 L242.672 1518.55 L234.362 1520.21 L234.362 1515.95 L242.626 1514.29 L247.301 1514.29 L247.301 1544.91 L254.94 1544.91 L254.94 1548.85 L235.033 1548.85 L235.033 1544.91 Z\" fill=\"#000000\" fill-rule=\"evenodd\" fill-opacity=\"1\" /><path clip-path=\"url(#clip700)\" d=\"M274.385 1517.37 Q270.774 1517.37 268.945 1520.93 Q267.139 1524.47 267.139 1531.6 Q267.139 1538.71 268.945 1542.27 Q270.774 1545.82 274.385 1545.82 Q278.019 1545.82 279.824 1542.27 Q281.653 1538.71 281.653 1531.6 Q281.653 1524.47 279.824 1520.93 Q278.019 1517.37 274.385 1517.37 M274.385 1513.66 Q280.195 1513.66 283.25 1518.27 Q286.329 1522.85 286.329 1531.6 Q286.329 1540.33 283.25 1544.94 Q280.195 1549.52 274.385 1549.52 Q268.575 1549.52 265.496 1544.94 Q262.44 1540.33 262.44 1531.6 Q262.44 1522.85 265.496 1518.27 Q268.575 1513.66 274.385 1513.66 Z\" fill=\"#000000\" fill-rule=\"evenodd\" fill-opacity=\"1\" /><path clip-path=\"url(#clip700)\" d=\"M722.743 1532.02 L752.419 1532.02 L752.419 1535.95 L722.743 1535.95 L722.743 1532.02 Z\" fill=\"#000000\" fill-rule=\"evenodd\" fill-opacity=\"1\" /><path clip-path=\"url(#clip700)\" d=\"M762.558 1514.29 L780.914 1514.29 L780.914 1518.22 L766.84 1518.22 L766.84 1526.7 Q767.858 1526.35 768.877 1526.19 Q769.895 1526 770.914 1526 Q776.701 1526 780.081 1529.17 Q783.46 1532.34 783.46 1537.76 Q783.46 1543.34 779.988 1546.44 Q776.516 1549.52 770.196 1549.52 Q768.02 1549.52 765.752 1549.15 Q763.507 1548.78 761.099 1548.04 L761.099 1543.34 Q763.183 1544.47 765.405 1545.03 Q767.627 1545.58 770.104 1545.58 Q774.108 1545.58 776.446 1543.48 Q778.784 1541.37 778.784 1537.76 Q778.784 1534.15 776.446 1532.04 Q774.108 1529.94 770.104 1529.94 Q768.229 1529.94 766.354 1530.35 Q764.502 1530.77 762.558 1531.65 L762.558 1514.29 Z\" fill=\"#000000\" fill-rule=\"evenodd\" fill-opacity=\"1\" /><path clip-path=\"url(#clip700)\" d=\"M1265.81 1517.37 Q1262.2 1517.37 1260.37 1520.93 Q1258.57 1524.47 1258.57 1531.6 Q1258.57 1538.71 1260.37 1542.27 Q1262.2 1545.82 1265.81 1545.82 Q1269.45 1545.82 1271.25 1542.27 Q1273.08 1538.71 1273.08 1531.6 Q1273.08 1524.47 1271.25 1520.93 Q1269.45 1517.37 1265.81 1517.37 M1265.81 1513.66 Q1271.62 1513.66 1274.68 1518.27 Q1277.76 1522.85 1277.76 1531.6 Q1277.76 1540.33 1274.68 1544.94 Q1271.62 1549.52 1265.81 1549.52 Q1260 1549.52 1256.92 1544.94 Q1253.87 1540.33 1253.87 1531.6 Q1253.87 1522.85 1256.92 1518.27 Q1260 1513.66 1265.81 1513.66 Z\" fill=\"#000000\" fill-rule=\"evenodd\" fill-opacity=\"1\" /><path clip-path=\"url(#clip700)\" d=\"M1768.8 1514.29 L1787.16 1514.29 L1787.16 1518.22 L1773.08 1518.22 L1773.08 1526.7 Q1774.1 1526.35 1775.12 1526.19 Q1776.14 1526 1777.16 1526 Q1782.94 1526 1786.32 1529.17 Q1789.7 1532.34 1789.7 1537.76 Q1789.7 1543.34 1786.23 1546.44 Q1782.76 1549.52 1776.44 1549.52 Q1774.26 1549.52 1771.99 1549.15 Q1769.75 1548.78 1767.34 1548.04 L1767.34 1543.34 Q1769.42 1544.47 1771.65 1545.03 Q1773.87 1545.58 1776.35 1545.58 Q1780.35 1545.58 1782.69 1543.48 Q1785.03 1541.37 1785.03 1537.76 Q1785.03 1534.15 1782.69 1532.04 Q1780.35 1529.94 1776.35 1529.94 Q1774.47 1529.94 1772.6 1530.35 Q1770.74 1530.77 1768.8 1531.65 L1768.8 1514.29 Z\" fill=\"#000000\" fill-rule=\"evenodd\" fill-opacity=\"1\" /><path clip-path=\"url(#clip700)\" d=\"M2265.92 1544.91 L2273.56 1544.91 L2273.56 1518.55 L2265.25 1520.21 L2265.25 1515.95 L2273.51 1514.29 L2278.19 1514.29 L2278.19 1544.91 L2285.83 1544.91 L2285.83 1548.85 L2265.92 1548.85 L2265.92 1544.91 Z\" fill=\"#000000\" fill-rule=\"evenodd\" fill-opacity=\"1\" /><path clip-path=\"url(#clip700)\" d=\"M2305.27 1517.37 Q2301.66 1517.37 2299.83 1520.93 Q2298.02 1524.47 2298.02 1531.6 Q2298.02 1538.71 2299.83 1542.27 Q2301.66 1545.82 2305.27 1545.82 Q2308.9 1545.82 2310.71 1542.27 Q2312.54 1538.71 2312.54 1531.6 Q2312.54 1524.47 2310.71 1520.93 Q2308.9 1517.37 2305.27 1517.37 M2305.27 1513.66 Q2311.08 1513.66 2314.14 1518.27 Q2317.21 1522.85 2317.21 1531.6 Q2317.21 1540.33 2314.14 1544.94 Q2311.08 1549.52 2305.27 1549.52 Q2299.46 1549.52 2296.38 1544.94 Q2293.33 1540.33 2293.33 1531.6 Q2293.33 1522.85 2296.38 1518.27 Q2299.46 1513.66 2305.27 1513.66 Z\" fill=\"#000000\" fill-rule=\"evenodd\" fill-opacity=\"1\" /><polyline clip-path=\"url(#clip702)\" style=\"stroke:#000000; stroke-linecap:round; stroke-linejoin:round; stroke-width:2; stroke-opacity:0.1; fill:none\" points=\"178.867,1311.02 2352.76,1311.02 \"/>\n",
       "<polyline clip-path=\"url(#clip702)\" style=\"stroke:#000000; stroke-linecap:round; stroke-linejoin:round; stroke-width:2; stroke-opacity:0.1; fill:none\" points=\"178.867,995.317 2352.76,995.317 \"/>\n",
       "<polyline clip-path=\"url(#clip702)\" style=\"stroke:#000000; stroke-linecap:round; stroke-linejoin:round; stroke-width:2; stroke-opacity:0.1; fill:none\" points=\"178.867,679.619 2352.76,679.619 \"/>\n",
       "<polyline clip-path=\"url(#clip702)\" style=\"stroke:#000000; stroke-linecap:round; stroke-linejoin:round; stroke-width:2; stroke-opacity:0.1; fill:none\" points=\"178.867,363.92 2352.76,363.92 \"/>\n",
       "<polyline clip-path=\"url(#clip702)\" style=\"stroke:#000000; stroke-linecap:round; stroke-linejoin:round; stroke-width:2; stroke-opacity:0.1; fill:none\" points=\"178.867,48.2221 2352.76,48.2221 \"/>\n",
       "<polyline clip-path=\"url(#clip700)\" style=\"stroke:#000000; stroke-linecap:round; stroke-linejoin:round; stroke-width:4; stroke-opacity:1; fill:none\" points=\"178.867,1486.45 178.867,47.2441 \"/>\n",
       "<polyline clip-path=\"url(#clip700)\" style=\"stroke:#000000; stroke-linecap:round; stroke-linejoin:round; stroke-width:4; stroke-opacity:1; fill:none\" points=\"178.867,1311.02 197.764,1311.02 \"/>\n",
       "<polyline clip-path=\"url(#clip700)\" style=\"stroke:#000000; stroke-linecap:round; stroke-linejoin:round; stroke-width:4; stroke-opacity:1; fill:none\" points=\"178.867,995.317 197.764,995.317 \"/>\n",
       "<polyline clip-path=\"url(#clip700)\" style=\"stroke:#000000; stroke-linecap:round; stroke-linejoin:round; stroke-width:4; stroke-opacity:1; fill:none\" points=\"178.867,679.619 197.764,679.619 \"/>\n",
       "<polyline clip-path=\"url(#clip700)\" style=\"stroke:#000000; stroke-linecap:round; stroke-linejoin:round; stroke-width:4; stroke-opacity:1; fill:none\" points=\"178.867,363.92 197.764,363.92 \"/>\n",
       "<polyline clip-path=\"url(#clip700)\" style=\"stroke:#000000; stroke-linecap:round; stroke-linejoin:round; stroke-width:4; stroke-opacity:1; fill:none\" points=\"178.867,48.2221 197.764,48.2221 \"/>\n",
       "<path clip-path=\"url(#clip700)\" d=\"M50.9921 1311.47 L80.6679 1311.47 L80.6679 1315.4 L50.9921 1315.4 L50.9921 1311.47 Z\" fill=\"#000000\" fill-rule=\"evenodd\" fill-opacity=\"1\" /><path clip-path=\"url(#clip700)\" d=\"M90.8067 1293.74 L109.163 1293.74 L109.163 1297.67 L95.0891 1297.67 L95.0891 1306.14 Q96.1076 1305.8 97.1261 1305.63 Q98.1447 1305.45 99.1632 1305.45 Q104.95 1305.45 108.33 1308.62 Q111.709 1311.79 111.709 1317.21 Q111.709 1322.79 108.237 1325.89 Q104.765 1328.97 98.4456 1328.97 Q96.2697 1328.97 94.0012 1328.6 Q91.7558 1328.23 89.3484 1327.49 L89.3484 1322.79 Q91.4317 1323.92 93.6539 1324.48 Q95.8761 1325.03 98.353 1325.03 Q102.358 1325.03 104.696 1322.92 Q107.033 1320.82 107.033 1317.21 Q107.033 1313.6 104.696 1311.49 Q102.358 1309.38 98.353 1309.38 Q96.478 1309.38 94.603 1309.8 Q92.7512 1310.22 90.8067 1311.1 L90.8067 1293.74 Z\" fill=\"#000000\" fill-rule=\"evenodd\" fill-opacity=\"1\" /><path clip-path=\"url(#clip700)\" d=\"M130.922 1296.81 Q127.311 1296.81 125.482 1300.38 Q123.677 1303.92 123.677 1311.05 Q123.677 1318.16 125.482 1321.72 Q127.311 1325.26 130.922 1325.26 Q134.556 1325.26 136.362 1321.72 Q138.191 1318.16 138.191 1311.05 Q138.191 1303.92 136.362 1300.38 Q134.556 1296.81 130.922 1296.81 M130.922 1293.11 Q136.732 1293.11 139.788 1297.72 Q142.867 1302.3 142.867 1311.05 Q142.867 1319.78 139.788 1324.38 Q136.732 1328.97 130.922 1328.97 Q125.112 1328.97 122.033 1324.38 Q118.978 1319.78 118.978 1311.05 Q118.978 1302.3 122.033 1297.72 Q125.112 1293.11 130.922 1293.11 Z\" fill=\"#000000\" fill-rule=\"evenodd\" fill-opacity=\"1\" /><path clip-path=\"url(#clip700)\" d=\"M130.922 981.116 Q127.311 981.116 125.482 984.68 Q123.677 988.222 123.677 995.352 Q123.677 1002.46 125.482 1006.02 Q127.311 1009.56 130.922 1009.56 Q134.556 1009.56 136.362 1006.02 Q138.191 1002.46 138.191 995.352 Q138.191 988.222 136.362 984.68 Q134.556 981.116 130.922 981.116 M130.922 977.412 Q136.732 977.412 139.788 982.018 Q142.867 986.602 142.867 995.352 Q142.867 1004.08 139.788 1008.68 Q136.732 1013.27 130.922 1013.27 Q125.112 1013.27 122.033 1008.68 Q118.978 1004.08 118.978 995.352 Q118.978 986.602 122.033 982.018 Q125.112 977.412 130.922 977.412 Z\" fill=\"#000000\" fill-rule=\"evenodd\" fill-opacity=\"1\" /><path clip-path=\"url(#clip700)\" d=\"M90.8067 662.339 L109.163 662.339 L109.163 666.274 L95.0891 666.274 L95.0891 674.746 Q96.1076 674.399 97.1261 674.237 Q98.1447 674.052 99.1632 674.052 Q104.95 674.052 108.33 677.223 Q111.709 680.394 111.709 685.811 Q111.709 691.389 108.237 694.491 Q104.765 697.57 98.4456 697.57 Q96.2697 697.57 94.0012 697.2 Q91.7558 696.829 89.3484 696.088 L89.3484 691.389 Q91.4317 692.524 93.6539 693.079 Q95.8761 693.635 98.353 693.635 Q102.358 693.635 104.696 691.528 Q107.033 689.422 107.033 685.811 Q107.033 682.2 104.696 680.093 Q102.358 677.987 98.353 677.987 Q96.478 677.987 94.603 678.403 Q92.7512 678.82 90.8067 679.7 L90.8067 662.339 Z\" fill=\"#000000\" fill-rule=\"evenodd\" fill-opacity=\"1\" /><path clip-path=\"url(#clip700)\" d=\"M130.922 665.417 Q127.311 665.417 125.482 668.982 Q123.677 672.524 123.677 679.653 Q123.677 686.76 125.482 690.325 Q127.311 693.866 130.922 693.866 Q134.556 693.866 136.362 690.325 Q138.191 686.76 138.191 679.653 Q138.191 672.524 136.362 668.982 Q134.556 665.417 130.922 665.417 M130.922 661.714 Q136.732 661.714 139.788 666.32 Q142.867 670.903 142.867 679.653 Q142.867 688.38 139.788 692.987 Q136.732 697.57 130.922 697.57 Q125.112 697.57 122.033 692.987 Q118.978 688.38 118.978 679.653 Q118.978 670.903 122.033 666.32 Q125.112 661.714 130.922 661.714 Z\" fill=\"#000000\" fill-rule=\"evenodd\" fill-opacity=\"1\" /><path clip-path=\"url(#clip700)\" d=\"M61.4087 377.265 L69.0476 377.265 L69.0476 350.9 L60.7374 352.566 L60.7374 348.307 L69.0013 346.64 L73.6772 346.64 L73.6772 377.265 L81.316 377.265 L81.316 381.2 L61.4087 381.2 L61.4087 377.265 Z\" fill=\"#000000\" fill-rule=\"evenodd\" fill-opacity=\"1\" /><path clip-path=\"url(#clip700)\" d=\"M100.76 349.719 Q97.1493 349.719 95.3206 353.284 Q93.515 356.825 93.515 363.955 Q93.515 371.062 95.3206 374.626 Q97.1493 378.168 100.76 378.168 Q104.395 378.168 106.2 374.626 Q108.029 371.062 108.029 363.955 Q108.029 356.825 106.2 353.284 Q104.395 349.719 100.76 349.719 M100.76 346.015 Q106.571 346.015 109.626 350.622 Q112.705 355.205 112.705 363.955 Q112.705 372.682 109.626 377.288 Q106.571 381.872 100.76 381.872 Q94.9502 381.872 91.8715 377.288 Q88.816 372.682 88.816 363.955 Q88.816 355.205 91.8715 350.622 Q94.9502 346.015 100.76 346.015 Z\" fill=\"#000000\" fill-rule=\"evenodd\" fill-opacity=\"1\" /><path clip-path=\"url(#clip700)\" d=\"M130.922 349.719 Q127.311 349.719 125.482 353.284 Q123.677 356.825 123.677 363.955 Q123.677 371.062 125.482 374.626 Q127.311 378.168 130.922 378.168 Q134.556 378.168 136.362 374.626 Q138.191 371.062 138.191 363.955 Q138.191 356.825 136.362 353.284 Q134.556 349.719 130.922 349.719 M130.922 346.015 Q136.732 346.015 139.788 350.622 Q142.867 355.205 142.867 363.955 Q142.867 372.682 139.788 377.288 Q136.732 381.872 130.922 381.872 Q125.112 381.872 122.033 377.288 Q118.978 372.682 118.978 363.955 Q118.978 355.205 122.033 350.622 Q125.112 346.015 130.922 346.015 Z\" fill=\"#000000\" fill-rule=\"evenodd\" fill-opacity=\"1\" /><path clip-path=\"url(#clip700)\" d=\"M61.4087 61.5669 L69.0476 61.5669 L69.0476 35.2013 L60.7374 36.868 L60.7374 32.6087 L69.0013 30.9421 L73.6772 30.9421 L73.6772 61.5669 L81.316 61.5669 L81.316 65.5021 L61.4087 65.5021 L61.4087 61.5669 Z\" fill=\"#000000\" fill-rule=\"evenodd\" fill-opacity=\"1\" /><path clip-path=\"url(#clip700)\" d=\"M90.8067 30.9421 L109.163 30.9421 L109.163 34.8772 L95.0891 34.8772 L95.0891 43.3494 Q96.1076 43.0022 97.1261 42.8402 Q98.1447 42.655 99.1632 42.655 Q104.95 42.655 108.33 45.8263 Q111.709 48.9975 111.709 54.4142 Q111.709 59.9928 108.237 63.0947 Q104.765 66.1734 98.4456 66.1734 Q96.2697 66.1734 94.0012 65.803 Q91.7558 65.4326 89.3484 64.6919 L89.3484 59.9928 Q91.4317 61.1271 93.6539 61.6827 Q95.8761 62.2382 98.353 62.2382 Q102.358 62.2382 104.696 60.1317 Q107.033 58.0253 107.033 54.4142 Q107.033 50.8031 104.696 48.6966 Q102.358 46.5901 98.353 46.5901 Q96.478 46.5901 94.603 47.0068 Q92.7512 47.4235 90.8067 48.3031 L90.8067 30.9421 Z\" fill=\"#000000\" fill-rule=\"evenodd\" fill-opacity=\"1\" /><path clip-path=\"url(#clip700)\" d=\"M130.922 34.0208 Q127.311 34.0208 125.482 37.5856 Q123.677 41.1272 123.677 48.2568 Q123.677 55.3632 125.482 58.928 Q127.311 62.4697 130.922 62.4697 Q134.556 62.4697 136.362 58.928 Q138.191 55.3632 138.191 48.2568 Q138.191 41.1272 136.362 37.5856 Q134.556 34.0208 130.922 34.0208 M130.922 30.3171 Q136.732 30.3171 139.788 34.9235 Q142.867 39.5068 142.867 48.2568 Q142.867 56.9836 139.788 61.5901 Q136.732 66.1734 130.922 66.1734 Q125.112 66.1734 122.033 61.5901 Q118.978 56.9836 118.978 48.2568 Q118.978 39.5068 122.033 34.9235 Q125.112 30.3171 130.922 30.3171 Z\" fill=\"#000000\" fill-rule=\"evenodd\" fill-opacity=\"1\" /><circle clip-path=\"url(#clip702)\" cx=\"240.392\" cy=\"446.417\" r=\"14.4\" fill=\"#009af9\" fill-rule=\"evenodd\" fill-opacity=\"1\" stroke=\"#000000\" stroke-opacity=\"1\" stroke-width=\"3.2\"/>\n",
       "<circle clip-path=\"url(#clip702)\" cx=\"342.934\" cy=\"87.9763\" r=\"14.4\" fill=\"#009af9\" fill-rule=\"evenodd\" fill-opacity=\"1\" stroke=\"#000000\" stroke-opacity=\"1\" stroke-width=\"3.2\"/>\n",
       "<circle clip-path=\"url(#clip702)\" cx=\"445.476\" cy=\"500.872\" r=\"14.4\" fill=\"#009af9\" fill-rule=\"evenodd\" fill-opacity=\"1\" stroke=\"#000000\" stroke-opacity=\"1\" stroke-width=\"3.2\"/>\n",
       "<circle clip-path=\"url(#clip702)\" cx=\"548.018\" cy=\"1272.04\" r=\"14.4\" fill=\"#009af9\" fill-rule=\"evenodd\" fill-opacity=\"1\" stroke=\"#000000\" stroke-opacity=\"1\" stroke-width=\"3.2\"/>\n",
       "<circle clip-path=\"url(#clip702)\" cx=\"650.56\" cy=\"698.396\" r=\"14.4\" fill=\"#009af9\" fill-rule=\"evenodd\" fill-opacity=\"1\" stroke=\"#000000\" stroke-opacity=\"1\" stroke-width=\"3.2\"/>\n",
       "<circle clip-path=\"url(#clip702)\" cx=\"753.102\" cy=\"1445.72\" r=\"14.4\" fill=\"#009af9\" fill-rule=\"evenodd\" fill-opacity=\"1\" stroke=\"#000000\" stroke-opacity=\"1\" stroke-width=\"3.2\"/>\n",
       "<circle clip-path=\"url(#clip702)\" cx=\"855.643\" cy=\"814.592\" r=\"14.4\" fill=\"#009af9\" fill-rule=\"evenodd\" fill-opacity=\"1\" stroke=\"#000000\" stroke-opacity=\"1\" stroke-width=\"3.2\"/>\n",
       "<circle clip-path=\"url(#clip702)\" cx=\"958.185\" cy=\"1224.13\" r=\"14.4\" fill=\"#009af9\" fill-rule=\"evenodd\" fill-opacity=\"1\" stroke=\"#000000\" stroke-opacity=\"1\" stroke-width=\"3.2\"/>\n",
       "<circle clip-path=\"url(#clip702)\" cx=\"1060.73\" cy=\"856.356\" r=\"14.4\" fill=\"#009af9\" fill-rule=\"evenodd\" fill-opacity=\"1\" stroke=\"#000000\" stroke-opacity=\"1\" stroke-width=\"3.2\"/>\n",
       "<circle clip-path=\"url(#clip702)\" cx=\"1163.27\" cy=\"622.571\" r=\"14.4\" fill=\"#009af9\" fill-rule=\"evenodd\" fill-opacity=\"1\" stroke=\"#000000\" stroke-opacity=\"1\" stroke-width=\"3.2\"/>\n",
       "<circle clip-path=\"url(#clip702)\" cx=\"1265.81\" cy=\"686.663\" r=\"14.4\" fill=\"#009af9\" fill-rule=\"evenodd\" fill-opacity=\"1\" stroke=\"#000000\" stroke-opacity=\"1\" stroke-width=\"3.2\"/>\n",
       "<circle clip-path=\"url(#clip702)\" cx=\"1368.35\" cy=\"628.447\" r=\"14.4\" fill=\"#009af9\" fill-rule=\"evenodd\" fill-opacity=\"1\" stroke=\"#000000\" stroke-opacity=\"1\" stroke-width=\"3.2\"/>\n",
       "<circle clip-path=\"url(#clip702)\" cx=\"1470.9\" cy=\"1209.46\" r=\"14.4\" fill=\"#009af9\" fill-rule=\"evenodd\" fill-opacity=\"1\" stroke=\"#000000\" stroke-opacity=\"1\" stroke-width=\"3.2\"/>\n",
       "<circle clip-path=\"url(#clip702)\" cx=\"1573.44\" cy=\"1025.49\" r=\"14.4\" fill=\"#009af9\" fill-rule=\"evenodd\" fill-opacity=\"1\" stroke=\"#000000\" stroke-opacity=\"1\" stroke-width=\"3.2\"/>\n",
       "<circle clip-path=\"url(#clip702)\" cx=\"1675.98\" cy=\"814.924\" r=\"14.4\" fill=\"#009af9\" fill-rule=\"evenodd\" fill-opacity=\"1\" stroke=\"#000000\" stroke-opacity=\"1\" stroke-width=\"3.2\"/>\n",
       "<circle clip-path=\"url(#clip702)\" cx=\"1778.52\" cy=\"452.145\" r=\"14.4\" fill=\"#009af9\" fill-rule=\"evenodd\" fill-opacity=\"1\" stroke=\"#000000\" stroke-opacity=\"1\" stroke-width=\"3.2\"/>\n",
       "<circle clip-path=\"url(#clip702)\" cx=\"1881.06\" cy=\"500.73\" r=\"14.4\" fill=\"#009af9\" fill-rule=\"evenodd\" fill-opacity=\"1\" stroke=\"#000000\" stroke-opacity=\"1\" stroke-width=\"3.2\"/>\n",
       "<circle clip-path=\"url(#clip702)\" cx=\"1983.6\" cy=\"732.871\" r=\"14.4\" fill=\"#009af9\" fill-rule=\"evenodd\" fill-opacity=\"1\" stroke=\"#000000\" stroke-opacity=\"1\" stroke-width=\"3.2\"/>\n",
       "<circle clip-path=\"url(#clip702)\" cx=\"2086.15\" cy=\"395.705\" r=\"14.4\" fill=\"#009af9\" fill-rule=\"evenodd\" fill-opacity=\"1\" stroke=\"#000000\" stroke-opacity=\"1\" stroke-width=\"3.2\"/>\n",
       "<circle clip-path=\"url(#clip702)\" cx=\"2188.69\" cy=\"728.139\" r=\"14.4\" fill=\"#009af9\" fill-rule=\"evenodd\" fill-opacity=\"1\" stroke=\"#000000\" stroke-opacity=\"1\" stroke-width=\"3.2\"/>\n",
       "<circle clip-path=\"url(#clip702)\" cx=\"2291.23\" cy=\"286.679\" r=\"14.4\" fill=\"#009af9\" fill-rule=\"evenodd\" fill-opacity=\"1\" stroke=\"#000000\" stroke-opacity=\"1\" stroke-width=\"3.2\"/>\n",
       "<polyline clip-path=\"url(#clip702)\" style=\"stroke:#e26f46; stroke-linecap:round; stroke-linejoin:round; stroke-width:4; stroke-opacity:1; fill:none\" points=\"240.392,565.967 342.934,666.991 445.476,755.386 548.018,831.154 650.56,894.294 753.102,944.805 855.643,982.689 958.185,1007.94 1060.73,1020.57 1163.27,1020.57 1265.81,1007.94 1368.35,982.689 1470.9,944.805 1573.44,894.294 1675.98,831.154 1778.52,755.386 1881.06,666.991 1983.6,565.967 2086.15,452.316 2188.69,326.037 2291.23,187.129 \"/>\n",
       "<polyline clip-path=\"url(#clip702)\" style=\"stroke:#3da44d; stroke-linecap:round; stroke-linejoin:round; stroke-width:4; stroke-opacity:1; fill:none\" points=\"240.392,468.121 342.934,564.969 445.476,650.736 548.018,725.421 650.56,789.025 753.102,841.547 855.643,882.988 958.185,913.347 1060.73,932.625 1163.27,940.822 1265.81,937.937 1368.35,923.97 1470.9,898.923 1573.44,862.793 1675.98,815.582 1778.52,757.29 1881.06,687.916 1983.6,607.461 2086.15,515.924 2188.69,413.306 2291.23,299.606 \"/>\n",
       "<path clip-path=\"url(#clip700)\" d=\"M1797.1 1438.47 L2280.29 1438.47 L2280.29 1231.11 L1797.1 1231.11  Z\" fill=\"#ffffff\" fill-rule=\"evenodd\" fill-opacity=\"1\"/>\n",
       "<polyline clip-path=\"url(#clip700)\" style=\"stroke:#000000; stroke-linecap:round; stroke-linejoin:round; stroke-width:4; stroke-opacity:1; fill:none\" points=\"1797.1,1438.47 2280.29,1438.47 2280.29,1231.11 1797.1,1231.11 1797.1,1438.47 \"/>\n",
       "<circle clip-path=\"url(#clip700)\" cx=\"1893.71\" cy=\"1282.95\" r=\"23.04\" fill=\"#009af9\" fill-rule=\"evenodd\" fill-opacity=\"1\" stroke=\"#000000\" stroke-opacity=\"1\" stroke-width=\"5.12\"/>\n",
       "<path clip-path=\"url(#clip700)\" d=\"M2009.24 1278.24 L2009.24 1264.22 L2013.5 1264.22 L2013.5 1300.23 L2009.24 1300.23 L2009.24 1296.35 Q2007.9 1298.66 2005.84 1299.79 Q2003.8 1300.91 2000.93 1300.91 Q1996.23 1300.91 1993.27 1297.16 Q1990.33 1293.41 1990.33 1287.29 Q1990.33 1281.18 1993.27 1277.43 Q1996.23 1273.68 2000.93 1273.68 Q2003.8 1273.68 2005.84 1274.82 Q2007.9 1275.93 2009.24 1278.24 M1994.73 1287.29 Q1994.73 1291.99 1996.65 1294.68 Q1998.59 1297.34 2001.97 1297.34 Q2005.35 1297.34 2007.3 1294.68 Q2009.24 1291.99 2009.24 1287.29 Q2009.24 1282.6 2007.3 1279.93 Q2005.35 1277.25 2001.97 1277.25 Q1998.59 1277.25 1996.65 1279.93 Q1994.73 1282.6 1994.73 1287.29 Z\" fill=\"#000000\" fill-rule=\"evenodd\" fill-opacity=\"1\" /><path clip-path=\"url(#clip700)\" d=\"M2034.06 1287.2 Q2028.89 1287.2 2026.9 1288.38 Q2024.91 1289.56 2024.91 1292.41 Q2024.91 1294.68 2026.39 1296.02 Q2027.9 1297.34 2030.47 1297.34 Q2034.01 1297.34 2036.14 1294.84 Q2038.29 1292.32 2038.29 1288.15 L2038.29 1287.2 L2034.06 1287.2 M2042.55 1285.44 L2042.55 1300.23 L2038.29 1300.23 L2038.29 1296.3 Q2036.83 1298.66 2034.66 1299.79 Q2032.48 1300.91 2029.33 1300.91 Q2025.35 1300.91 2022.99 1298.68 Q2020.65 1296.44 2020.65 1292.69 Q2020.65 1288.31 2023.57 1286.09 Q2026.51 1283.87 2032.32 1283.87 L2038.29 1283.87 L2038.29 1283.45 Q2038.29 1280.51 2036.35 1278.92 Q2034.43 1277.29 2030.93 1277.29 Q2028.71 1277.29 2026.6 1277.83 Q2024.5 1278.36 2022.55 1279.42 L2022.55 1275.49 Q2024.89 1274.59 2027.09 1274.15 Q2029.29 1273.68 2031.37 1273.68 Q2037 1273.68 2039.77 1276.6 Q2042.55 1279.52 2042.55 1285.44 Z\" fill=\"#000000\" fill-rule=\"evenodd\" fill-opacity=\"1\" /><path clip-path=\"url(#clip700)\" d=\"M2055.54 1266.95 L2055.54 1274.31 L2064.31 1274.31 L2064.31 1277.62 L2055.54 1277.62 L2055.54 1291.69 Q2055.54 1294.86 2056.39 1295.77 Q2057.27 1296.67 2059.94 1296.67 L2064.31 1296.67 L2064.31 1300.23 L2059.94 1300.23 Q2055.01 1300.23 2053.13 1298.41 Q2051.26 1296.55 2051.26 1291.69 L2051.26 1277.62 L2048.13 1277.62 L2048.13 1274.31 L2051.26 1274.31 L2051.26 1266.95 L2055.54 1266.95 Z\" fill=\"#000000\" fill-rule=\"evenodd\" fill-opacity=\"1\" /><path clip-path=\"url(#clip700)\" d=\"M2081.7 1287.2 Q2076.53 1287.2 2074.54 1288.38 Q2072.55 1289.56 2072.55 1292.41 Q2072.55 1294.68 2074.03 1296.02 Q2075.54 1297.34 2078.11 1297.34 Q2081.65 1297.34 2083.78 1294.84 Q2085.93 1292.32 2085.93 1288.15 L2085.93 1287.2 L2081.7 1287.2 M2090.19 1285.44 L2090.19 1300.23 L2085.93 1300.23 L2085.93 1296.3 Q2084.47 1298.66 2082.3 1299.79 Q2080.12 1300.91 2076.97 1300.91 Q2072.99 1300.91 2070.63 1298.68 Q2068.29 1296.44 2068.29 1292.69 Q2068.29 1288.31 2071.21 1286.09 Q2074.15 1283.87 2079.96 1283.87 L2085.93 1283.87 L2085.93 1283.45 Q2085.93 1280.51 2083.99 1278.92 Q2082.07 1277.29 2078.57 1277.29 Q2076.35 1277.29 2074.24 1277.83 Q2072.13 1278.36 2070.19 1279.42 L2070.19 1275.49 Q2072.53 1274.59 2074.73 1274.15 Q2076.93 1273.68 2079.01 1273.68 Q2084.63 1273.68 2087.41 1276.6 Q2090.19 1279.52 2090.19 1285.44 Z\" fill=\"#000000\" fill-rule=\"evenodd\" fill-opacity=\"1\" /><polyline clip-path=\"url(#clip700)\" style=\"stroke:#e26f46; stroke-linecap:round; stroke-linejoin:round; stroke-width:4; stroke-opacity:1; fill:none\" points=\"1821.25,1334.79 1966.18,1334.79 \"/>\n",
       "<path clip-path=\"url(#clip700)\" d=\"M2004.17 1354.48 Q2002.37 1359.11 2000.65 1360.52 Q1998.94 1361.94 1996.07 1361.94 L1992.67 1361.94 L1992.67 1358.37 L1995.17 1358.37 Q1996.93 1358.37 1997.9 1357.54 Q1998.87 1356.7 2000.05 1353.6 L2000.82 1351.66 L1990.33 1326.15 L1994.84 1326.15 L2002.95 1346.43 L2011.05 1326.15 L2015.56 1326.15 L2004.17 1354.48 Z\" fill=\"#000000\" fill-rule=\"evenodd\" fill-opacity=\"1\" /><path clip-path=\"url(#clip700)\" d=\"M2041.14 1359.94 L2041.14 1363.25 L2016.51 1363.25 L2016.51 1359.94 L2041.14 1359.94 Z\" fill=\"#000000\" fill-rule=\"evenodd\" fill-opacity=\"1\" /><path clip-path=\"url(#clip700)\" d=\"M2049.36 1318.79 L2049.36 1326.15 L2058.13 1326.15 L2058.13 1329.46 L2049.36 1329.46 L2049.36 1343.53 Q2049.36 1346.7 2050.21 1347.61 Q2051.09 1348.51 2053.76 1348.51 L2058.13 1348.51 L2058.13 1352.07 L2053.76 1352.07 Q2048.82 1352.07 2046.95 1350.25 Q2045.07 1348.39 2045.07 1343.53 L2045.07 1329.46 L2041.95 1329.46 L2041.95 1326.15 L2045.07 1326.15 L2045.07 1318.79 L2049.36 1318.79 Z\" fill=\"#000000\" fill-rule=\"evenodd\" fill-opacity=\"1\" /><path clip-path=\"url(#clip700)\" d=\"M2078.76 1330.13 Q2078.04 1329.71 2077.18 1329.53 Q2076.35 1329.32 2075.33 1329.32 Q2071.72 1329.32 2069.77 1331.68 Q2067.85 1334.02 2067.85 1338.42 L2067.85 1352.07 L2063.57 1352.07 L2063.57 1326.15 L2067.85 1326.15 L2067.85 1330.18 Q2069.2 1327.82 2071.35 1326.68 Q2073.5 1325.52 2076.58 1325.52 Q2077.02 1325.52 2077.55 1325.59 Q2078.08 1325.64 2078.73 1325.76 L2078.76 1330.13 Z\" fill=\"#000000\" fill-rule=\"evenodd\" fill-opacity=\"1\" /><path clip-path=\"url(#clip700)\" d=\"M2082.78 1341.84 L2082.78 1326.15 L2087.04 1326.15 L2087.04 1341.68 Q2087.04 1345.36 2088.48 1347.21 Q2089.91 1349.04 2092.78 1349.04 Q2096.23 1349.04 2098.22 1346.84 Q2100.24 1344.64 2100.24 1340.85 L2100.24 1326.15 L2104.5 1326.15 L2104.5 1352.07 L2100.24 1352.07 L2100.24 1348.09 Q2098.69 1350.45 2096.63 1351.61 Q2094.59 1352.75 2091.88 1352.75 Q2087.41 1352.75 2085.1 1349.97 Q2082.78 1347.19 2082.78 1341.84 M2093.5 1325.52 L2093.5 1325.52 Z\" fill=\"#000000\" fill-rule=\"evenodd\" fill-opacity=\"1\" /><path clip-path=\"url(#clip700)\" d=\"M2135.44 1338.05 L2135.44 1340.13 L2115.86 1340.13 Q2116.14 1344.53 2118.5 1346.84 Q2120.88 1349.13 2125.12 1349.13 Q2127.57 1349.13 2129.87 1348.53 Q2132.18 1347.93 2134.45 1346.73 L2134.45 1350.75 Q2132.16 1351.73 2129.75 1352.24 Q2127.34 1352.75 2124.87 1352.75 Q2118.66 1352.75 2115.03 1349.13 Q2111.42 1345.52 2111.42 1339.37 Q2111.42 1333 2114.84 1329.27 Q2118.29 1325.52 2124.13 1325.52 Q2129.36 1325.52 2132.39 1328.9 Q2135.44 1332.26 2135.44 1338.05 M2131.19 1336.8 Q2131.14 1333.3 2129.22 1331.22 Q2127.32 1329.13 2124.17 1329.13 Q2120.61 1329.13 2118.45 1331.15 Q2116.32 1333.16 2116 1336.82 L2131.19 1336.8 Z\" fill=\"#000000\" fill-rule=\"evenodd\" fill-opacity=\"1\" /><polyline clip-path=\"url(#clip700)\" style=\"stroke:#3da44d; stroke-linecap:round; stroke-linejoin:round; stroke-width:4; stroke-opacity:1; fill:none\" points=\"1821.25,1386.63 1966.18,1386.63 \"/>\n",
       "<path clip-path=\"url(#clip700)\" d=\"M2004.17 1406.32 Q2002.37 1410.95 2000.65 1412.36 Q1998.94 1413.78 1996.07 1413.78 L1992.67 1413.78 L1992.67 1410.21 L1995.17 1410.21 Q1996.93 1410.21 1997.9 1409.38 Q1998.87 1408.54 2000.05 1405.44 L2000.82 1403.5 L1990.33 1377.99 L1994.84 1377.99 L2002.95 1398.27 L2011.05 1377.99 L2015.56 1377.99 L2004.17 1406.32 Z\" fill=\"#000000\" fill-rule=\"evenodd\" fill-opacity=\"1\" /><path clip-path=\"url(#clip700)\" d=\"M2041.14 1411.78 L2041.14 1415.09 L2016.51 1415.09 L2016.51 1411.78 L2041.14 1411.78 Z\" fill=\"#000000\" fill-rule=\"evenodd\" fill-opacity=\"1\" /><path clip-path=\"url(#clip700)\" d=\"M2055.19 1380.97 Q2051.76 1380.97 2049.77 1383.66 Q2047.78 1386.32 2047.78 1390.97 Q2047.78 1395.63 2049.75 1398.31 Q2051.74 1400.97 2055.19 1400.97 Q2058.59 1400.97 2060.58 1398.29 Q2062.57 1395.6 2062.57 1390.97 Q2062.57 1386.37 2060.58 1383.68 Q2058.59 1380.97 2055.19 1380.97 M2055.19 1377.36 Q2060.75 1377.36 2063.92 1380.97 Q2067.09 1384.59 2067.09 1390.97 Q2067.09 1397.34 2063.92 1400.97 Q2060.75 1404.59 2055.19 1404.59 Q2049.61 1404.59 2046.44 1400.97 Q2043.29 1397.34 2043.29 1390.97 Q2043.29 1384.59 2046.44 1380.97 Q2049.61 1377.36 2055.19 1377.36 Z\" fill=\"#000000\" fill-rule=\"evenodd\" fill-opacity=\"1\" /><path clip-path=\"url(#clip700)\" d=\"M2092.76 1390.97 Q2092.76 1386.28 2090.82 1383.61 Q2088.89 1380.93 2085.51 1380.93 Q2082.13 1380.93 2080.19 1383.61 Q2078.27 1386.28 2078.27 1390.97 Q2078.27 1395.67 2080.19 1398.36 Q2082.13 1401.02 2085.51 1401.02 Q2088.89 1401.02 2090.82 1398.36 Q2092.76 1395.67 2092.76 1390.97 M2078.27 1381.92 Q2079.61 1379.61 2081.65 1378.5 Q2083.71 1377.36 2086.56 1377.36 Q2091.28 1377.36 2094.22 1381.11 Q2097.18 1384.86 2097.18 1390.97 Q2097.18 1397.09 2094.22 1400.84 Q2091.28 1404.59 2086.56 1404.59 Q2083.71 1404.59 2081.65 1403.47 Q2079.61 1402.34 2078.27 1400.03 L2078.27 1403.91 L2073.99 1403.91 L2073.99 1367.9 L2078.27 1367.9 L2078.27 1381.92 Z\" fill=\"#000000\" fill-rule=\"evenodd\" fill-opacity=\"1\" /><path clip-path=\"url(#clip700)\" d=\"M2120.77 1378.75 L2120.77 1382.78 Q2118.96 1381.85 2117.02 1381.39 Q2115.07 1380.93 2112.99 1380.93 Q2109.82 1380.93 2108.22 1381.9 Q2106.65 1382.87 2106.65 1384.82 Q2106.65 1386.3 2107.78 1387.16 Q2108.92 1387.99 2112.34 1388.75 L2113.8 1389.08 Q2118.34 1390.05 2120.24 1391.83 Q2122.16 1393.59 2122.16 1396.76 Q2122.16 1400.37 2119.29 1402.48 Q2116.44 1404.59 2111.44 1404.59 Q2109.36 1404.59 2107.09 1404.17 Q2104.84 1403.78 2102.34 1402.97 L2102.34 1398.57 Q2104.7 1399.79 2107 1400.42 Q2109.29 1401.02 2111.53 1401.02 Q2114.54 1401.02 2116.16 1400 Q2117.78 1398.96 2117.78 1397.09 Q2117.78 1395.35 2116.6 1394.42 Q2115.44 1393.5 2111.49 1392.64 L2110.01 1392.29 Q2106.05 1391.46 2104.29 1389.75 Q2102.53 1388.01 2102.53 1385 Q2102.53 1381.35 2105.12 1379.35 Q2107.71 1377.36 2112.48 1377.36 Q2114.84 1377.36 2116.93 1377.71 Q2119.01 1378.06 2120.77 1378.75 Z\" fill=\"#000000\" fill-rule=\"evenodd\" fill-opacity=\"1\" /><path clip-path=\"url(#clip700)\" d=\"M2151.12 1389.89 L2151.12 1391.97 L2131.53 1391.97 Q2131.81 1396.37 2134.17 1398.68 Q2136.56 1400.97 2140.79 1400.97 Q2143.25 1400.97 2145.54 1400.37 Q2147.85 1399.77 2150.12 1398.57 L2150.12 1402.59 Q2147.83 1403.57 2145.42 1404.08 Q2143.01 1404.59 2140.54 1404.59 Q2134.33 1404.59 2130.7 1400.97 Q2127.09 1397.36 2127.09 1391.21 Q2127.09 1384.84 2130.51 1381.11 Q2133.96 1377.36 2139.8 1377.36 Q2145.03 1377.36 2148.06 1380.74 Q2151.12 1384.1 2151.12 1389.89 M2146.86 1388.64 Q2146.81 1385.14 2144.89 1383.06 Q2142.99 1380.97 2139.84 1380.97 Q2136.28 1380.97 2134.13 1382.99 Q2132 1385 2131.67 1388.66 L2146.86 1388.64 Z\" fill=\"#000000\" fill-rule=\"evenodd\" fill-opacity=\"1\" /><path clip-path=\"url(#clip700)\" d=\"M2173.13 1381.97 Q2172.41 1381.55 2171.56 1381.37 Q2170.72 1381.16 2169.7 1381.16 Q2166.09 1381.16 2164.15 1383.52 Q2162.23 1385.86 2162.23 1390.26 L2162.23 1403.91 L2157.94 1403.91 L2157.94 1377.99 L2162.23 1377.99 L2162.23 1382.02 Q2163.57 1379.66 2165.72 1378.52 Q2167.88 1377.36 2170.95 1377.36 Q2171.39 1377.36 2171.93 1377.43 Q2172.46 1377.48 2173.11 1377.6 L2173.13 1381.97 Z\" fill=\"#000000\" fill-rule=\"evenodd\" fill-opacity=\"1\" /><path clip-path=\"url(#clip700)\" d=\"M2174.54 1377.99 L2179.06 1377.99 L2187.16 1399.75 L2195.26 1377.99 L2199.77 1377.99 L2190.05 1403.91 L2184.26 1403.91 L2174.54 1377.99 Z\" fill=\"#000000\" fill-rule=\"evenodd\" fill-opacity=\"1\" /><path clip-path=\"url(#clip700)\" d=\"M2227.83 1389.89 L2227.83 1391.97 L2208.25 1391.97 Q2208.52 1396.37 2210.88 1398.68 Q2213.27 1400.97 2217.5 1400.97 Q2219.96 1400.97 2222.25 1400.37 Q2224.56 1399.77 2226.83 1398.57 L2226.83 1402.59 Q2224.54 1403.57 2222.13 1404.08 Q2219.73 1404.59 2217.25 1404.59 Q2211.05 1404.59 2207.41 1400.97 Q2203.8 1397.36 2203.8 1391.21 Q2203.8 1384.84 2207.23 1381.11 Q2210.68 1377.36 2216.51 1377.36 Q2221.74 1377.36 2224.77 1380.74 Q2227.83 1384.1 2227.83 1389.89 M2223.57 1388.64 Q2223.52 1385.14 2221.6 1383.06 Q2219.7 1380.97 2216.56 1380.97 Q2212.99 1380.97 2210.84 1382.99 Q2208.71 1385 2208.38 1388.66 L2223.57 1388.64 Z\" fill=\"#000000\" fill-rule=\"evenodd\" fill-opacity=\"1\" /><path clip-path=\"url(#clip700)\" d=\"M2251.88 1381.92 L2251.88 1367.9 L2256.14 1367.9 L2256.14 1403.91 L2251.88 1403.91 L2251.88 1400.03 Q2250.54 1402.34 2248.48 1403.47 Q2246.44 1404.59 2243.57 1404.59 Q2238.87 1404.59 2235.91 1400.84 Q2232.97 1397.09 2232.97 1390.97 Q2232.97 1384.86 2235.91 1381.11 Q2238.87 1377.36 2243.57 1377.36 Q2246.44 1377.36 2248.48 1378.5 Q2250.54 1379.61 2251.88 1381.92 M2237.37 1390.97 Q2237.37 1395.67 2239.29 1398.36 Q2241.23 1401.02 2244.61 1401.02 Q2247.99 1401.02 2249.93 1398.36 Q2251.88 1395.67 2251.88 1390.97 Q2251.88 1386.28 2249.93 1383.61 Q2247.99 1380.93 2244.61 1380.93 Q2241.23 1380.93 2239.29 1383.61 Q2237.37 1386.28 2237.37 1390.97 Z\" fill=\"#000000\" fill-rule=\"evenodd\" fill-opacity=\"1\" /></svg>\n"
      ]
     },
     "execution_count": 49,
     "metadata": {},
     "output_type": "execute_result"
    }
   ],
   "source": [
    "noises=50\n",
    "d=di.Normal(0,noises)\n",
    "y_observed=y_true+rand(d,length(x))\n",
    "scatter(x,y_observed, label=\"data\")\n",
    "plot!(x,y_true, label=\"y_true\")\n",
    "line_fit=Polynomials.fit(x,y_observed,2)\n",
    "fit_coeff=coeffs(line_fit)\n",
    "y_fitted=fit_coeff[1] .+ fit_coeff[2] .*x .+ fit_coeff[3] .*x .^2\n",
    "plot!(x,y_fitted, label=\"y_fitted\")"
   ]
  },
  {
   "cell_type": "markdown",
   "id": "ab12acbd",
   "metadata": {},
   "source": [
    "2. Compare the plot with the plot in 2.3. Is the fit closer to y_true or not, and why?"
   ]
  },
  {
   "cell_type": "markdown",
   "id": "a34fcca4",
   "metadata": {},
   "source": [
    "the fit is less close to y_true because there is more noise and therefore uncertainty "
   ]
  },
  {
   "cell_type": "markdown",
   "id": "5fd1d93b",
   "metadata": {},
   "source": [
    "### 2.5\n",
    "\n",
    "#### Repeat 2.2 and 2.3 with a tenth order polynomial fit\n"
   ]
  },
  {
   "cell_type": "code",
   "execution_count": 53,
   "id": "b6dbd546",
   "metadata": {},
   "outputs": [
    {
     "data": {
      "image/svg+xml": [
       "<?xml version=\"1.0\" encoding=\"utf-8\"?>\n",
       "<svg xmlns=\"http://www.w3.org/2000/svg\" xmlns:xlink=\"http://www.w3.org/1999/xlink\" width=\"600\" height=\"400\" viewBox=\"0 0 2400 1600\">\n",
       "<defs>\n",
       "  <clipPath id=\"clip860\">\n",
       "    <rect x=\"0\" y=\"0\" width=\"2400\" height=\"1600\"/>\n",
       "  </clipPath>\n",
       "</defs>\n",
       "<path clip-path=\"url(#clip860)\" d=\"M0 1600 L2400 1600 L2400 0 L0 0  Z\" fill=\"#ffffff\" fill-rule=\"evenodd\" fill-opacity=\"1\"/>\n",
       "<defs>\n",
       "  <clipPath id=\"clip861\">\n",
       "    <rect x=\"480\" y=\"0\" width=\"1681\" height=\"1600\"/>\n",
       "  </clipPath>\n",
       "</defs>\n",
       "<path clip-path=\"url(#clip860)\" d=\"M169.121 1486.45 L2352.76 1486.45 L2352.76 47.2441 L169.121 47.2441  Z\" fill=\"#ffffff\" fill-rule=\"evenodd\" fill-opacity=\"1\"/>\n",
       "<defs>\n",
       "  <clipPath id=\"clip862\">\n",
       "    <rect x=\"169\" y=\"47\" width=\"2185\" height=\"1440\"/>\n",
       "  </clipPath>\n",
       "</defs>\n",
       "<polyline clip-path=\"url(#clip862)\" style=\"stroke:#000000; stroke-linecap:round; stroke-linejoin:round; stroke-width:2; stroke-opacity:0.1; fill:none\" points=\"230.922,1486.45 230.922,47.2441 \"/>\n",
       "<polyline clip-path=\"url(#clip862)\" style=\"stroke:#000000; stroke-linecap:round; stroke-linejoin:round; stroke-width:2; stroke-opacity:0.1; fill:none\" points=\"745.93,1486.45 745.93,47.2441 \"/>\n",
       "<polyline clip-path=\"url(#clip862)\" style=\"stroke:#000000; stroke-linecap:round; stroke-linejoin:round; stroke-width:2; stroke-opacity:0.1; fill:none\" points=\"1260.94,1486.45 1260.94,47.2441 \"/>\n",
       "<polyline clip-path=\"url(#clip862)\" style=\"stroke:#000000; stroke-linecap:round; stroke-linejoin:round; stroke-width:2; stroke-opacity:0.1; fill:none\" points=\"1775.95,1486.45 1775.95,47.2441 \"/>\n",
       "<polyline clip-path=\"url(#clip862)\" style=\"stroke:#000000; stroke-linecap:round; stroke-linejoin:round; stroke-width:2; stroke-opacity:0.1; fill:none\" points=\"2290.95,1486.45 2290.95,47.2441 \"/>\n",
       "<polyline clip-path=\"url(#clip860)\" style=\"stroke:#000000; stroke-linecap:round; stroke-linejoin:round; stroke-width:4; stroke-opacity:1; fill:none\" points=\"169.121,1486.45 2352.76,1486.45 \"/>\n",
       "<polyline clip-path=\"url(#clip860)\" style=\"stroke:#000000; stroke-linecap:round; stroke-linejoin:round; stroke-width:4; stroke-opacity:1; fill:none\" points=\"230.922,1486.45 230.922,1467.55 \"/>\n",
       "<polyline clip-path=\"url(#clip860)\" style=\"stroke:#000000; stroke-linecap:round; stroke-linejoin:round; stroke-width:4; stroke-opacity:1; fill:none\" points=\"745.93,1486.45 745.93,1467.55 \"/>\n",
       "<polyline clip-path=\"url(#clip860)\" style=\"stroke:#000000; stroke-linecap:round; stroke-linejoin:round; stroke-width:4; stroke-opacity:1; fill:none\" points=\"1260.94,1486.45 1260.94,1467.55 \"/>\n",
       "<polyline clip-path=\"url(#clip860)\" style=\"stroke:#000000; stroke-linecap:round; stroke-linejoin:round; stroke-width:4; stroke-opacity:1; fill:none\" points=\"1775.95,1486.45 1775.95,1467.55 \"/>\n",
       "<polyline clip-path=\"url(#clip860)\" style=\"stroke:#000000; stroke-linecap:round; stroke-linejoin:round; stroke-width:4; stroke-opacity:1; fill:none\" points=\"2290.95,1486.45 2290.95,1467.55 \"/>\n",
       "<path clip-path=\"url(#clip860)\" d=\"M184.985 1532.02 L214.661 1532.02 L214.661 1535.95 L184.985 1535.95 L184.985 1532.02 Z\" fill=\"#000000\" fill-rule=\"evenodd\" fill-opacity=\"1\" /><path clip-path=\"url(#clip860)\" d=\"M225.564 1544.91 L233.202 1544.91 L233.202 1518.55 L224.892 1520.21 L224.892 1515.95 L233.156 1514.29 L237.832 1514.29 L237.832 1544.91 L245.471 1544.91 L245.471 1548.85 L225.564 1548.85 L225.564 1544.91 Z\" fill=\"#000000\" fill-rule=\"evenodd\" fill-opacity=\"1\" /><path clip-path=\"url(#clip860)\" d=\"M264.915 1517.37 Q261.304 1517.37 259.475 1520.93 Q257.67 1524.47 257.67 1531.6 Q257.67 1538.71 259.475 1542.27 Q261.304 1545.82 264.915 1545.82 Q268.549 1545.82 270.355 1542.27 Q272.184 1538.71 272.184 1531.6 Q272.184 1524.47 270.355 1520.93 Q268.549 1517.37 264.915 1517.37 M264.915 1513.66 Q270.725 1513.66 273.781 1518.27 Q276.86 1522.85 276.86 1531.6 Q276.86 1540.33 273.781 1544.94 Q270.725 1549.52 264.915 1549.52 Q259.105 1549.52 256.026 1544.94 Q252.971 1540.33 252.971 1531.6 Q252.971 1522.85 256.026 1518.27 Q259.105 1513.66 264.915 1513.66 Z\" fill=\"#000000\" fill-rule=\"evenodd\" fill-opacity=\"1\" /><path clip-path=\"url(#clip860)\" d=\"M715.572 1532.02 L745.248 1532.02 L745.248 1535.95 L715.572 1535.95 L715.572 1532.02 Z\" fill=\"#000000\" fill-rule=\"evenodd\" fill-opacity=\"1\" /><path clip-path=\"url(#clip860)\" d=\"M755.386 1514.29 L773.743 1514.29 L773.743 1518.22 L759.669 1518.22 L759.669 1526.7 Q760.687 1526.35 761.706 1526.19 Q762.724 1526 763.743 1526 Q769.53 1526 772.909 1529.17 Q776.289 1532.34 776.289 1537.76 Q776.289 1543.34 772.817 1546.44 Q769.345 1549.52 763.025 1549.52 Q760.849 1549.52 758.581 1549.15 Q756.335 1548.78 753.928 1548.04 L753.928 1543.34 Q756.011 1544.47 758.234 1545.03 Q760.456 1545.58 762.933 1545.58 Q766.937 1545.58 769.275 1543.48 Q771.613 1541.37 771.613 1537.76 Q771.613 1534.15 769.275 1532.04 Q766.937 1529.94 762.933 1529.94 Q761.058 1529.94 759.183 1530.35 Q757.331 1530.77 755.386 1531.65 L755.386 1514.29 Z\" fill=\"#000000\" fill-rule=\"evenodd\" fill-opacity=\"1\" /><path clip-path=\"url(#clip860)\" d=\"M1260.94 1517.37 Q1257.33 1517.37 1255.5 1520.93 Q1253.69 1524.47 1253.69 1531.6 Q1253.69 1538.71 1255.5 1542.27 Q1257.33 1545.82 1260.94 1545.82 Q1264.57 1545.82 1266.38 1542.27 Q1268.21 1538.71 1268.21 1531.6 Q1268.21 1524.47 1266.38 1520.93 Q1264.57 1517.37 1260.94 1517.37 M1260.94 1513.66 Q1266.75 1513.66 1269.8 1518.27 Q1272.88 1522.85 1272.88 1531.6 Q1272.88 1540.33 1269.8 1544.94 Q1266.75 1549.52 1260.94 1549.52 Q1255.13 1549.52 1252.05 1544.94 Q1248.99 1540.33 1248.99 1531.6 Q1248.99 1522.85 1252.05 1518.27 Q1255.13 1513.66 1260.94 1513.66 Z\" fill=\"#000000\" fill-rule=\"evenodd\" fill-opacity=\"1\" /><path clip-path=\"url(#clip860)\" d=\"M1766.22 1514.29 L1784.58 1514.29 L1784.58 1518.22 L1770.51 1518.22 L1770.51 1526.7 Q1771.53 1526.35 1772.54 1526.19 Q1773.56 1526 1774.58 1526 Q1780.37 1526 1783.75 1529.17 Q1787.13 1532.34 1787.13 1537.76 Q1787.13 1543.34 1783.66 1546.44 Q1780.18 1549.52 1773.86 1549.52 Q1771.69 1549.52 1769.42 1549.15 Q1767.17 1548.78 1764.77 1548.04 L1764.77 1543.34 Q1766.85 1544.47 1769.07 1545.03 Q1771.29 1545.58 1773.77 1545.58 Q1777.78 1545.58 1780.11 1543.48 Q1782.45 1541.37 1782.45 1537.76 Q1782.45 1534.15 1780.11 1532.04 Q1777.78 1529.94 1773.77 1529.94 Q1771.9 1529.94 1770.02 1530.35 Q1768.17 1530.77 1766.22 1531.65 L1766.22 1514.29 Z\" fill=\"#000000\" fill-rule=\"evenodd\" fill-opacity=\"1\" /><path clip-path=\"url(#clip860)\" d=\"M2265.64 1544.91 L2273.28 1544.91 L2273.28 1518.55 L2264.97 1520.21 L2264.97 1515.95 L2273.24 1514.29 L2277.91 1514.29 L2277.91 1544.91 L2285.55 1544.91 L2285.55 1548.85 L2265.64 1548.85 L2265.64 1544.91 Z\" fill=\"#000000\" fill-rule=\"evenodd\" fill-opacity=\"1\" /><path clip-path=\"url(#clip860)\" d=\"M2304.99 1517.37 Q2301.38 1517.37 2299.55 1520.93 Q2297.75 1524.47 2297.75 1531.6 Q2297.75 1538.71 2299.55 1542.27 Q2301.38 1545.82 2304.99 1545.82 Q2308.63 1545.82 2310.43 1542.27 Q2312.26 1538.71 2312.26 1531.6 Q2312.26 1524.47 2310.43 1520.93 Q2308.63 1517.37 2304.99 1517.37 M2304.99 1513.66 Q2310.8 1513.66 2313.86 1518.27 Q2316.94 1522.85 2316.94 1531.6 Q2316.94 1540.33 2313.86 1544.94 Q2310.8 1549.52 2304.99 1549.52 Q2299.18 1549.52 2296.11 1544.94 Q2293.05 1540.33 2293.05 1531.6 Q2293.05 1522.85 2296.11 1518.27 Q2299.18 1513.66 2304.99 1513.66 Z\" fill=\"#000000\" fill-rule=\"evenodd\" fill-opacity=\"1\" /><polyline clip-path=\"url(#clip862)\" style=\"stroke:#000000; stroke-linecap:round; stroke-linejoin:round; stroke-width:2; stroke-opacity:0.1; fill:none\" points=\"169.121,1294.99 2352.76,1294.99 \"/>\n",
       "<polyline clip-path=\"url(#clip862)\" style=\"stroke:#000000; stroke-linecap:round; stroke-linejoin:round; stroke-width:2; stroke-opacity:0.1; fill:none\" points=\"169.121,1012.1 2352.76,1012.1 \"/>\n",
       "<polyline clip-path=\"url(#clip862)\" style=\"stroke:#000000; stroke-linecap:round; stroke-linejoin:round; stroke-width:2; stroke-opacity:0.1; fill:none\" points=\"169.121,729.203 2352.76,729.203 \"/>\n",
       "<polyline clip-path=\"url(#clip862)\" style=\"stroke:#000000; stroke-linecap:round; stroke-linejoin:round; stroke-width:2; stroke-opacity:0.1; fill:none\" points=\"169.121,446.309 2352.76,446.309 \"/>\n",
       "<polyline clip-path=\"url(#clip862)\" style=\"stroke:#000000; stroke-linecap:round; stroke-linejoin:round; stroke-width:2; stroke-opacity:0.1; fill:none\" points=\"169.121,163.415 2352.76,163.415 \"/>\n",
       "<polyline clip-path=\"url(#clip860)\" style=\"stroke:#000000; stroke-linecap:round; stroke-linejoin:round; stroke-width:4; stroke-opacity:1; fill:none\" points=\"169.121,1486.45 169.121,47.2441 \"/>\n",
       "<polyline clip-path=\"url(#clip860)\" style=\"stroke:#000000; stroke-linecap:round; stroke-linejoin:round; stroke-width:4; stroke-opacity:1; fill:none\" points=\"169.121,1294.99 188.019,1294.99 \"/>\n",
       "<polyline clip-path=\"url(#clip860)\" style=\"stroke:#000000; stroke-linecap:round; stroke-linejoin:round; stroke-width:4; stroke-opacity:1; fill:none\" points=\"169.121,1012.1 188.019,1012.1 \"/>\n",
       "<polyline clip-path=\"url(#clip860)\" style=\"stroke:#000000; stroke-linecap:round; stroke-linejoin:round; stroke-width:4; stroke-opacity:1; fill:none\" points=\"169.121,729.203 188.019,729.203 \"/>\n",
       "<polyline clip-path=\"url(#clip860)\" style=\"stroke:#000000; stroke-linecap:round; stroke-linejoin:round; stroke-width:4; stroke-opacity:1; fill:none\" points=\"169.121,446.309 188.019,446.309 \"/>\n",
       "<polyline clip-path=\"url(#clip860)\" style=\"stroke:#000000; stroke-linecap:round; stroke-linejoin:round; stroke-width:4; stroke-opacity:1; fill:none\" points=\"169.121,163.415 188.019,163.415 \"/>\n",
       "<path clip-path=\"url(#clip860)\" d=\"M121.177 1280.79 Q117.566 1280.79 115.737 1284.35 Q113.932 1287.9 113.932 1295.03 Q113.932 1302.13 115.737 1305.7 Q117.566 1309.24 121.177 1309.24 Q124.811 1309.24 126.617 1305.7 Q128.445 1302.13 128.445 1295.03 Q128.445 1287.9 126.617 1284.35 Q124.811 1280.79 121.177 1280.79 M121.177 1277.09 Q126.987 1277.09 130.043 1281.69 Q133.121 1286.28 133.121 1295.03 Q133.121 1303.75 130.043 1308.36 Q126.987 1312.94 121.177 1312.94 Q115.367 1312.94 112.288 1308.36 Q109.233 1303.75 109.233 1295.03 Q109.233 1286.28 112.288 1281.69 Q115.367 1277.09 121.177 1277.09 Z\" fill=\"#000000\" fill-rule=\"evenodd\" fill-opacity=\"1\" /><path clip-path=\"url(#clip860)\" d=\"M95.1817 1010.74 Q98.5382 1011.46 100.413 1013.73 Q102.311 1016 102.311 1019.33 Q102.311 1024.45 98.7928 1027.25 Q95.2743 1030.05 88.7928 1030.05 Q86.6169 1030.05 84.3021 1029.61 Q82.0105 1029.19 79.5568 1028.34 L79.5568 1023.82 Q81.5012 1024.96 83.816 1025.53 Q86.1308 1026.11 88.654 1026.11 Q93.0521 1026.11 95.3437 1024.38 Q97.6585 1022.64 97.6585 1019.33 Q97.6585 1016.28 95.5058 1014.56 Q93.3762 1012.83 89.5567 1012.83 L85.529 1012.83 L85.529 1008.98 L89.7419 1008.98 Q93.191 1008.98 95.0197 1007.62 Q96.8484 1006.23 96.8484 1003.64 Q96.8484 1000.97 94.9502 999.562 Q93.0752 998.127 89.5567 998.127 Q87.6354 998.127 85.4364 998.544 Q83.2373 998.96 80.5984 999.84 L80.5984 995.673 Q83.2605 994.933 85.5753 994.562 Q87.9132 994.192 89.9734 994.192 Q95.2974 994.192 98.3993 996.623 Q101.501 999.03 101.501 1003.15 Q101.501 1006.02 99.8576 1008.01 Q98.2141 1009.98 95.1817 1010.74 Z\" fill=\"#000000\" fill-rule=\"evenodd\" fill-opacity=\"1\" /><path clip-path=\"url(#clip860)\" d=\"M121.177 997.896 Q117.566 997.896 115.737 1001.46 Q113.932 1005 113.932 1012.13 Q113.932 1019.24 115.737 1022.8 Q117.566 1026.34 121.177 1026.34 Q124.811 1026.34 126.617 1022.8 Q128.445 1019.24 128.445 1012.13 Q128.445 1005 126.617 1001.46 Q124.811 997.896 121.177 997.896 M121.177 994.192 Q126.987 994.192 130.043 998.798 Q133.121 1003.38 133.121 1012.13 Q133.121 1020.86 130.043 1025.46 Q126.987 1030.05 121.177 1030.05 Q115.367 1030.05 112.288 1025.46 Q109.233 1020.86 109.233 1012.13 Q109.233 1003.38 112.288 998.798 Q115.367 994.192 121.177 994.192 Z\" fill=\"#000000\" fill-rule=\"evenodd\" fill-opacity=\"1\" /><path clip-path=\"url(#clip860)\" d=\"M91.5938 727.339 Q88.4456 727.339 86.5938 729.492 Q84.7651 731.645 84.7651 735.395 Q84.7651 739.122 86.5938 741.298 Q88.4456 743.451 91.5938 743.451 Q94.7419 743.451 96.5706 741.298 Q98.4224 739.122 98.4224 735.395 Q98.4224 731.645 96.5706 729.492 Q94.7419 727.339 91.5938 727.339 M100.876 712.687 L100.876 716.946 Q99.1169 716.113 97.3113 715.673 Q95.5289 715.233 93.7697 715.233 Q89.1401 715.233 86.6864 718.358 Q84.2558 721.483 83.9086 727.802 Q85.2743 725.789 87.3345 724.724 Q89.3947 723.636 91.8715 723.636 Q97.0798 723.636 100.089 726.807 Q103.121 729.955 103.121 735.395 Q103.121 740.719 99.9733 743.937 Q96.8252 747.154 91.5938 747.154 Q85.5984 747.154 82.4271 742.571 Q79.2559 737.964 79.2559 729.238 Q79.2559 721.043 83.1447 716.182 Q87.0336 711.298 93.5845 711.298 Q95.3437 711.298 97.1261 711.645 Q98.9317 711.992 100.876 712.687 Z\" fill=\"#000000\" fill-rule=\"evenodd\" fill-opacity=\"1\" /><path clip-path=\"url(#clip860)\" d=\"M121.177 715.002 Q117.566 715.002 115.737 718.566 Q113.932 722.108 113.932 729.238 Q113.932 736.344 115.737 739.909 Q117.566 743.451 121.177 743.451 Q124.811 743.451 126.617 739.909 Q128.445 736.344 128.445 729.238 Q128.445 722.108 126.617 718.566 Q124.811 715.002 121.177 715.002 M121.177 711.298 Q126.987 711.298 130.043 715.904 Q133.121 720.488 133.121 729.238 Q133.121 737.964 130.043 742.571 Q126.987 747.154 121.177 747.154 Q115.367 747.154 112.288 742.571 Q109.233 737.964 109.233 729.238 Q109.233 720.488 112.288 715.904 Q115.367 711.298 121.177 711.298 Z\" fill=\"#000000\" fill-rule=\"evenodd\" fill-opacity=\"1\" /><path clip-path=\"url(#clip860)\" d=\"M81.154 462.871 L81.154 458.612 Q82.9133 459.445 84.7188 459.885 Q86.5243 460.325 88.2604 460.325 Q92.89 460.325 95.3206 457.223 Q97.7743 454.098 98.1215 447.756 Q96.7789 449.746 94.7187 450.811 Q92.6586 451.876 90.1586 451.876 Q84.9734 451.876 81.941 448.751 Q78.9318 445.603 78.9318 440.163 Q78.9318 434.839 82.0799 431.621 Q85.2281 428.404 90.4595 428.404 Q96.4548 428.404 99.603 433.01 Q102.774 437.594 102.774 446.344 Q102.774 454.515 98.8854 459.399 Q95.0197 464.26 88.4688 464.26 Q86.7095 464.26 84.904 463.913 Q83.0984 463.566 81.154 462.871 M90.4595 448.219 Q93.6076 448.219 95.4363 446.066 Q97.2882 443.913 97.2882 440.163 Q97.2882 436.436 95.4363 434.283 Q93.6076 432.107 90.4595 432.107 Q87.3114 432.107 85.4595 434.283 Q83.6308 436.436 83.6308 440.163 Q83.6308 443.913 85.4595 446.066 Q87.3114 448.219 90.4595 448.219 Z\" fill=\"#000000\" fill-rule=\"evenodd\" fill-opacity=\"1\" /><path clip-path=\"url(#clip860)\" d=\"M121.177 432.107 Q117.566 432.107 115.737 435.672 Q113.932 439.214 113.932 446.344 Q113.932 453.45 115.737 457.015 Q117.566 460.556 121.177 460.556 Q124.811 460.556 126.617 457.015 Q128.445 453.45 128.445 446.344 Q128.445 439.214 126.617 435.672 Q124.811 432.107 121.177 432.107 M121.177 428.404 Q126.987 428.404 130.043 433.01 Q133.121 437.594 133.121 446.344 Q133.121 455.07 130.043 459.677 Q126.987 464.26 121.177 464.26 Q115.367 464.26 112.288 459.677 Q109.233 455.07 109.233 446.344 Q109.233 437.594 112.288 433.01 Q115.367 428.404 121.177 428.404 Z\" fill=\"#000000\" fill-rule=\"evenodd\" fill-opacity=\"1\" /><path clip-path=\"url(#clip860)\" d=\"M51.6634 176.76 L59.3023 176.76 L59.3023 150.394 L50.9921 152.061 L50.9921 147.801 L59.256 146.135 L63.9319 146.135 L63.9319 176.76 L71.5707 176.76 L71.5707 180.695 L51.6634 180.695 L51.6634 176.76 Z\" fill=\"#000000\" fill-rule=\"evenodd\" fill-opacity=\"1\" /><path clip-path=\"url(#clip860)\" d=\"M85.0429 176.76 L101.362 176.76 L101.362 180.695 L79.4179 180.695 L79.4179 176.76 Q82.0799 174.005 86.6632 169.375 Q91.2697 164.723 92.4502 163.38 Q94.6956 160.857 95.5752 159.121 Q96.478 157.361 96.478 155.672 Q96.478 152.917 94.5336 151.181 Q92.6123 149.445 89.5104 149.445 Q87.3114 149.445 84.8577 150.209 Q82.4271 150.973 79.6494 152.524 L79.6494 147.801 Q82.4734 146.667 84.9271 146.088 Q87.3808 145.51 89.4178 145.51 Q94.7882 145.51 97.9826 148.195 Q101.177 150.88 101.177 155.371 Q101.177 157.5 100.367 159.422 Q99.5798 161.32 97.4734 163.912 Q96.8947 164.584 93.7928 167.801 Q90.691 170.996 85.0429 176.76 Z\" fill=\"#000000\" fill-rule=\"evenodd\" fill-opacity=\"1\" /><path clip-path=\"url(#clip860)\" d=\"M121.177 149.213 Q117.566 149.213 115.737 152.778 Q113.932 156.32 113.932 163.449 Q113.932 170.556 115.737 174.121 Q117.566 177.662 121.177 177.662 Q124.811 177.662 126.617 174.121 Q128.445 170.556 128.445 163.449 Q128.445 156.32 126.617 152.778 Q124.811 149.213 121.177 149.213 M121.177 145.51 Q126.987 145.51 130.043 150.116 Q133.121 154.699 133.121 163.449 Q133.121 172.176 130.043 176.783 Q126.987 181.366 121.177 181.366 Q115.367 181.366 112.288 176.783 Q109.233 172.176 109.233 163.449 Q109.233 154.699 112.288 150.116 Q115.367 145.51 121.177 145.51 Z\" fill=\"#000000\" fill-rule=\"evenodd\" fill-opacity=\"1\" /><circle clip-path=\"url(#clip862)\" cx=\"230.922\" cy=\"529.915\" r=\"14.4\" fill=\"#009af9\" fill-rule=\"evenodd\" fill-opacity=\"1\" stroke=\"#000000\" stroke-opacity=\"1\" stroke-width=\"3.2\"/>\n",
       "<circle clip-path=\"url(#clip862)\" cx=\"333.924\" cy=\"734.963\" r=\"14.4\" fill=\"#009af9\" fill-rule=\"evenodd\" fill-opacity=\"1\" stroke=\"#000000\" stroke-opacity=\"1\" stroke-width=\"3.2\"/>\n",
       "<circle clip-path=\"url(#clip862)\" cx=\"436.926\" cy=\"1044.01\" r=\"14.4\" fill=\"#009af9\" fill-rule=\"evenodd\" fill-opacity=\"1\" stroke=\"#000000\" stroke-opacity=\"1\" stroke-width=\"3.2\"/>\n",
       "<circle clip-path=\"url(#clip862)\" cx=\"539.927\" cy=\"1084.9\" r=\"14.4\" fill=\"#009af9\" fill-rule=\"evenodd\" fill-opacity=\"1\" stroke=\"#000000\" stroke-opacity=\"1\" stroke-width=\"3.2\"/>\n",
       "<circle clip-path=\"url(#clip862)\" cx=\"642.929\" cy=\"1301.71\" r=\"14.4\" fill=\"#009af9\" fill-rule=\"evenodd\" fill-opacity=\"1\" stroke=\"#000000\" stroke-opacity=\"1\" stroke-width=\"3.2\"/>\n",
       "<circle clip-path=\"url(#clip862)\" cx=\"745.93\" cy=\"1207.2\" r=\"14.4\" fill=\"#009af9\" fill-rule=\"evenodd\" fill-opacity=\"1\" stroke=\"#000000\" stroke-opacity=\"1\" stroke-width=\"3.2\"/>\n",
       "<circle clip-path=\"url(#clip862)\" cx=\"848.932\" cy=\"1219.07\" r=\"14.4\" fill=\"#009af9\" fill-rule=\"evenodd\" fill-opacity=\"1\" stroke=\"#000000\" stroke-opacity=\"1\" stroke-width=\"3.2\"/>\n",
       "<circle clip-path=\"url(#clip862)\" cx=\"951.934\" cy=\"1349.44\" r=\"14.4\" fill=\"#009af9\" fill-rule=\"evenodd\" fill-opacity=\"1\" stroke=\"#000000\" stroke-opacity=\"1\" stroke-width=\"3.2\"/>\n",
       "<circle clip-path=\"url(#clip862)\" cx=\"1054.94\" cy=\"1445.72\" r=\"14.4\" fill=\"#009af9\" fill-rule=\"evenodd\" fill-opacity=\"1\" stroke=\"#000000\" stroke-opacity=\"1\" stroke-width=\"3.2\"/>\n",
       "<circle clip-path=\"url(#clip862)\" cx=\"1157.94\" cy=\"1166.48\" r=\"14.4\" fill=\"#009af9\" fill-rule=\"evenodd\" fill-opacity=\"1\" stroke=\"#000000\" stroke-opacity=\"1\" stroke-width=\"3.2\"/>\n",
       "<circle clip-path=\"url(#clip862)\" cx=\"1260.94\" cy=\"1265.29\" r=\"14.4\" fill=\"#009af9\" fill-rule=\"evenodd\" fill-opacity=\"1\" stroke=\"#000000\" stroke-opacity=\"1\" stroke-width=\"3.2\"/>\n",
       "<circle clip-path=\"url(#clip862)\" cx=\"1363.94\" cy=\"1278.84\" r=\"14.4\" fill=\"#009af9\" fill-rule=\"evenodd\" fill-opacity=\"1\" stroke=\"#000000\" stroke-opacity=\"1\" stroke-width=\"3.2\"/>\n",
       "<circle clip-path=\"url(#clip862)\" cx=\"1466.94\" cy=\"1064.06\" r=\"14.4\" fill=\"#009af9\" fill-rule=\"evenodd\" fill-opacity=\"1\" stroke=\"#000000\" stroke-opacity=\"1\" stroke-width=\"3.2\"/>\n",
       "<circle clip-path=\"url(#clip862)\" cx=\"1569.94\" cy=\"1067.94\" r=\"14.4\" fill=\"#009af9\" fill-rule=\"evenodd\" fill-opacity=\"1\" stroke=\"#000000\" stroke-opacity=\"1\" stroke-width=\"3.2\"/>\n",
       "<circle clip-path=\"url(#clip862)\" cx=\"1672.95\" cy=\"1116.51\" r=\"14.4\" fill=\"#009af9\" fill-rule=\"evenodd\" fill-opacity=\"1\" stroke=\"#000000\" stroke-opacity=\"1\" stroke-width=\"3.2\"/>\n",
       "<circle clip-path=\"url(#clip862)\" cx=\"1775.95\" cy=\"1143.43\" r=\"14.4\" fill=\"#009af9\" fill-rule=\"evenodd\" fill-opacity=\"1\" stroke=\"#000000\" stroke-opacity=\"1\" stroke-width=\"3.2\"/>\n",
       "<circle clip-path=\"url(#clip862)\" cx=\"1878.95\" cy=\"739.246\" r=\"14.4\" fill=\"#009af9\" fill-rule=\"evenodd\" fill-opacity=\"1\" stroke=\"#000000\" stroke-opacity=\"1\" stroke-width=\"3.2\"/>\n",
       "<circle clip-path=\"url(#clip862)\" cx=\"1981.95\" cy=\"717.43\" r=\"14.4\" fill=\"#009af9\" fill-rule=\"evenodd\" fill-opacity=\"1\" stroke=\"#000000\" stroke-opacity=\"1\" stroke-width=\"3.2\"/>\n",
       "<circle clip-path=\"url(#clip862)\" cx=\"2084.95\" cy=\"453.006\" r=\"14.4\" fill=\"#009af9\" fill-rule=\"evenodd\" fill-opacity=\"1\" stroke=\"#000000\" stroke-opacity=\"1\" stroke-width=\"3.2\"/>\n",
       "<circle clip-path=\"url(#clip862)\" cx=\"2187.95\" cy=\"92.1391\" r=\"14.4\" fill=\"#009af9\" fill-rule=\"evenodd\" fill-opacity=\"1\" stroke=\"#000000\" stroke-opacity=\"1\" stroke-width=\"3.2\"/>\n",
       "<circle clip-path=\"url(#clip862)\" cx=\"2290.95\" cy=\"190.453\" r=\"14.4\" fill=\"#009af9\" fill-rule=\"evenodd\" fill-opacity=\"1\" stroke=\"#000000\" stroke-opacity=\"1\" stroke-width=\"3.2\"/>\n",
       "<polyline clip-path=\"url(#clip862)\" style=\"stroke:#e26f46; stroke-linecap:round; stroke-linejoin:round; stroke-width:4; stroke-opacity:1; fill:none\" points=\"230.922,653.764 333.924,804.641 436.926,936.659 539.927,1049.82 642.929,1144.11 745.93,1219.55 848.932,1276.13 951.934,1313.85 1054.94,1332.71 1157.94,1332.71 1260.94,1313.85 1363.94,1276.13 1466.94,1219.55 1569.94,1144.11 1672.95,1049.82 1775.95,936.659 1878.95,804.641 1981.95,653.764 2084.95,484.028 2187.95,295.432 2290.95,87.9763 \"/>\n",
       "<polyline clip-path=\"url(#clip862)\" style=\"stroke:#3da44d; stroke-linecap:round; stroke-linejoin:round; stroke-width:4; stroke-opacity:1; fill:none\" points=\"230.922,531.569 333.924,729.91 436.926,1032.1 539.927,1157.38 642.929,1193.81 745.93,1232.77 848.932,1289.45 951.934,1333.75 1054.94,1337.25 1157.94,1297.81 1260.94,1236.83 1363.94,1181 1466.94,1144.06 1569.94,1119.29 1672.95,1084.79 1775.95,1015.14 1878.95,889.284 1981.95,690.246 2084.95,411.066 2187.95,118.535 2290.95,185.701 \"/>\n",
       "<path clip-path=\"url(#clip860)\" d=\"M241.909 302.578 L632.61 302.578 L632.61 95.2176 L241.909 95.2176  Z\" fill=\"#ffffff\" fill-rule=\"evenodd\" fill-opacity=\"1\"/>\n",
       "<polyline clip-path=\"url(#clip860)\" style=\"stroke:#000000; stroke-linecap:round; stroke-linejoin:round; stroke-width:4; stroke-opacity:1; fill:none\" points=\"241.909,302.578 632.61,302.578 632.61,95.2176 241.909,95.2176 241.909,302.578 \"/>\n",
       "<circle clip-path=\"url(#clip860)\" cx=\"338.96\" cy=\"147.058\" r=\"23.04\" fill=\"#009af9\" fill-rule=\"evenodd\" fill-opacity=\"1\" stroke=\"#000000\" stroke-opacity=\"1\" stroke-width=\"5.12\"/>\n",
       "<path clip-path=\"url(#clip860)\" d=\"M440.686 133.62 L440.686 160.495 L446.334 160.495 Q453.487 160.495 456.797 157.254 Q460.13 154.014 460.13 147.023 Q460.13 140.078 456.797 136.861 Q453.487 133.62 446.334 133.62 L440.686 133.62 M436.01 129.778 L445.616 129.778 Q455.663 129.778 460.362 133.967 Q465.061 138.134 465.061 147.023 Q465.061 155.958 460.339 160.148 Q455.616 164.338 445.616 164.338 L436.01 164.338 L436.01 129.778 Z\" fill=\"#000000\" fill-rule=\"evenodd\" fill-opacity=\"1\" /><path clip-path=\"url(#clip860)\" d=\"M484.112 151.305 Q478.95 151.305 476.959 152.486 Q474.968 153.666 474.968 156.514 Q474.968 158.782 476.45 160.125 Q477.954 161.444 480.524 161.444 Q484.065 161.444 486.195 158.944 Q488.348 156.421 488.348 152.254 L488.348 151.305 L484.112 151.305 M492.607 149.546 L492.607 164.338 L488.348 164.338 L488.348 160.402 Q486.889 162.763 484.713 163.898 Q482.538 165.009 479.389 165.009 Q475.408 165.009 473.047 162.787 Q470.709 160.541 470.709 156.791 Q470.709 152.416 473.626 150.194 Q476.565 147.972 482.375 147.972 L488.348 147.972 L488.348 147.555 Q488.348 144.615 486.403 143.018 Q484.482 141.398 480.987 141.398 Q478.764 141.398 476.658 141.93 Q474.551 142.463 472.607 143.527 L472.607 139.592 Q474.945 138.69 477.144 138.25 Q479.343 137.787 481.426 137.787 Q487.051 137.787 489.829 140.703 Q492.607 143.62 492.607 149.546 Z\" fill=\"#000000\" fill-rule=\"evenodd\" fill-opacity=\"1\" /><path clip-path=\"url(#clip860)\" d=\"M505.593 131.051 L505.593 138.412 L514.366 138.412 L514.366 141.722 L505.593 141.722 L505.593 155.796 Q505.593 158.967 506.449 159.87 Q507.329 160.773 509.991 160.773 L514.366 160.773 L514.366 164.338 L509.991 164.338 Q505.061 164.338 503.186 162.509 Q501.311 160.657 501.311 155.796 L501.311 141.722 L498.186 141.722 L498.186 138.412 L501.311 138.412 L501.311 131.051 L505.593 131.051 Z\" fill=\"#000000\" fill-rule=\"evenodd\" fill-opacity=\"1\" /><path clip-path=\"url(#clip860)\" d=\"M531.75 151.305 Q526.588 151.305 524.597 152.486 Q522.607 153.666 522.607 156.514 Q522.607 158.782 524.088 160.125 Q525.593 161.444 528.162 161.444 Q531.704 161.444 533.834 158.944 Q535.986 156.421 535.986 152.254 L535.986 151.305 L531.75 151.305 M540.246 149.546 L540.246 164.338 L535.986 164.338 L535.986 160.402 Q534.528 162.763 532.352 163.898 Q530.176 165.009 527.028 165.009 Q523.047 165.009 520.685 162.787 Q518.348 160.541 518.348 156.791 Q518.348 152.416 521.264 150.194 Q524.204 147.972 530.014 147.972 L535.986 147.972 L535.986 147.555 Q535.986 144.615 534.042 143.018 Q532.121 141.398 528.625 141.398 Q526.403 141.398 524.297 141.93 Q522.19 142.463 520.246 143.527 L520.246 139.592 Q522.584 138.69 524.783 138.25 Q526.982 137.787 529.065 137.787 Q534.69 137.787 537.468 140.703 Q540.246 143.62 540.246 149.546 Z\" fill=\"#000000\" fill-rule=\"evenodd\" fill-opacity=\"1\" /><polyline clip-path=\"url(#clip860)\" style=\"stroke:#e26f46; stroke-linecap:round; stroke-linejoin:round; stroke-width:4; stroke-opacity:1; fill:none\" points=\"266.172,198.898 411.747,198.898 \"/>\n",
       "<path clip-path=\"url(#clip860)\" d=\"M449.853 218.585 Q448.047 223.215 446.334 224.627 Q444.621 226.039 441.751 226.039 L438.348 226.039 L438.348 222.474 L440.848 222.474 Q442.607 222.474 443.579 221.64 Q444.552 220.807 445.732 217.705 L446.496 215.761 L436.01 190.252 L440.524 190.252 L448.626 210.529 L456.727 190.252 L461.241 190.252 L449.853 218.585 Z\" fill=\"#000000\" fill-rule=\"evenodd\" fill-opacity=\"1\" /><path clip-path=\"url(#clip860)\" d=\"M486.82 224.048 L486.82 227.358 L462.19 227.358 L462.19 224.048 L486.82 224.048 Z\" fill=\"#000000\" fill-rule=\"evenodd\" fill-opacity=\"1\" /><path clip-path=\"url(#clip860)\" d=\"M495.037 182.891 L495.037 190.252 L503.811 190.252 L503.811 193.562 L495.037 193.562 L495.037 207.636 Q495.037 210.807 495.894 211.71 Q496.774 212.613 499.436 212.613 L503.811 212.613 L503.811 216.178 L499.436 216.178 Q494.505 216.178 492.63 214.349 Q490.755 212.497 490.755 207.636 L490.755 193.562 L487.63 193.562 L487.63 190.252 L490.755 190.252 L490.755 182.891 L495.037 182.891 Z\" fill=\"#000000\" fill-rule=\"evenodd\" fill-opacity=\"1\" /><path clip-path=\"url(#clip860)\" d=\"M524.435 194.233 Q523.718 193.817 522.861 193.631 Q522.028 193.423 521.01 193.423 Q517.398 193.423 515.454 195.784 Q513.533 198.122 513.533 202.52 L513.533 216.178 L509.25 216.178 L509.25 190.252 L513.533 190.252 L513.533 194.28 Q514.875 191.918 517.028 190.784 Q519.181 189.627 522.26 189.627 Q522.699 189.627 523.232 189.696 Q523.764 189.743 524.412 189.858 L524.435 194.233 Z\" fill=\"#000000\" fill-rule=\"evenodd\" fill-opacity=\"1\" /><path clip-path=\"url(#clip860)\" d=\"M528.463 205.946 L528.463 190.252 L532.722 190.252 L532.722 205.784 Q532.722 209.465 534.158 211.316 Q535.593 213.145 538.463 213.145 Q541.912 213.145 543.903 210.946 Q545.917 208.747 545.917 204.951 L545.917 190.252 L550.176 190.252 L550.176 216.178 L545.917 216.178 L545.917 212.196 Q544.366 214.557 542.306 215.715 Q540.269 216.849 537.56 216.849 Q533.093 216.849 530.778 214.071 Q528.463 211.293 528.463 205.946 M539.181 189.627 L539.181 189.627 Z\" fill=\"#000000\" fill-rule=\"evenodd\" fill-opacity=\"1\" /><path clip-path=\"url(#clip860)\" d=\"M581.125 202.15 L581.125 204.233 L561.542 204.233 Q561.819 208.631 564.181 210.946 Q566.565 213.238 570.801 213.238 Q573.255 213.238 575.546 212.636 Q577.861 212.034 580.13 210.83 L580.13 214.858 Q577.838 215.83 575.431 216.34 Q573.023 216.849 570.546 216.849 Q564.343 216.849 560.708 213.238 Q557.097 209.627 557.097 203.469 Q557.097 197.104 560.523 193.377 Q563.972 189.627 569.806 189.627 Q575.037 189.627 578.069 193.006 Q581.125 196.363 581.125 202.15 M576.866 200.9 Q576.819 197.405 574.898 195.321 Q573 193.238 569.852 193.238 Q566.287 193.238 564.134 195.252 Q562.005 197.266 561.681 200.923 L576.866 200.9 Z\" fill=\"#000000\" fill-rule=\"evenodd\" fill-opacity=\"1\" /><polyline clip-path=\"url(#clip860)\" style=\"stroke:#3da44d; stroke-linecap:round; stroke-linejoin:round; stroke-width:4; stroke-opacity:1; fill:none\" points=\"266.172,250.738 411.747,250.738 \"/>\n",
       "<path clip-path=\"url(#clip860)\" d=\"M449.853 270.425 Q448.047 275.055 446.334 276.467 Q444.621 277.879 441.751 277.879 L438.348 277.879 L438.348 274.314 L440.848 274.314 Q442.607 274.314 443.579 273.48 Q444.552 272.647 445.732 269.545 L446.496 267.601 L436.01 242.092 L440.524 242.092 L448.626 262.369 L456.727 242.092 L461.241 242.092 L449.853 270.425 Z\" fill=\"#000000\" fill-rule=\"evenodd\" fill-opacity=\"1\" /><path clip-path=\"url(#clip860)\" d=\"M486.82 275.888 L486.82 279.198 L462.19 279.198 L462.19 275.888 L486.82 275.888 Z\" fill=\"#000000\" fill-rule=\"evenodd\" fill-opacity=\"1\" /><path clip-path=\"url(#clip860)\" d=\"M503.949 231.999 L503.949 235.541 L499.875 235.541 Q497.584 235.541 496.681 236.467 Q495.801 237.393 495.801 239.8 L495.801 242.092 L502.815 242.092 L502.815 245.402 L495.801 245.402 L495.801 268.018 L491.519 268.018 L491.519 245.402 L487.445 245.402 L487.445 242.092 L491.519 242.092 L491.519 240.286 Q491.519 235.958 493.533 233.99 Q495.547 231.999 499.922 231.999 L503.949 231.999 Z\" fill=\"#000000\" fill-rule=\"evenodd\" fill-opacity=\"1\" /><path clip-path=\"url(#clip860)\" d=\"M507.514 242.092 L511.773 242.092 L511.773 268.018 L507.514 268.018 L507.514 242.092 M507.514 231.999 L511.773 231.999 L511.773 237.393 L507.514 237.393 L507.514 231.999 Z\" fill=\"#000000\" fill-rule=\"evenodd\" fill-opacity=\"1\" /><path clip-path=\"url(#clip860)\" d=\"M524.898 234.731 L524.898 242.092 L533.672 242.092 L533.672 245.402 L524.898 245.402 L524.898 259.476 Q524.898 262.647 525.755 263.55 Q526.635 264.453 529.297 264.453 L533.672 264.453 L533.672 268.018 L529.297 268.018 Q524.366 268.018 522.491 266.189 Q520.616 264.337 520.616 259.476 L520.616 245.402 L517.491 245.402 L517.491 242.092 L520.616 242.092 L520.616 234.731 L524.898 234.731 Z\" fill=\"#000000\" fill-rule=\"evenodd\" fill-opacity=\"1\" /><path clip-path=\"url(#clip860)\" d=\"M543.486 234.731 L543.486 242.092 L552.259 242.092 L552.259 245.402 L543.486 245.402 L543.486 259.476 Q543.486 262.647 544.343 263.55 Q545.222 264.453 547.884 264.453 L552.259 264.453 L552.259 268.018 L547.884 268.018 Q542.954 268.018 541.079 266.189 Q539.204 264.337 539.204 259.476 L539.204 245.402 L536.079 245.402 L536.079 242.092 L539.204 242.092 L539.204 234.731 L543.486 234.731 Z\" fill=\"#000000\" fill-rule=\"evenodd\" fill-opacity=\"1\" /><path clip-path=\"url(#clip860)\" d=\"M580.037 253.99 L580.037 256.073 L560.454 256.073 Q560.732 260.471 563.093 262.786 Q565.477 265.078 569.713 265.078 Q572.167 265.078 574.458 264.476 Q576.773 263.874 579.042 262.67 L579.042 266.698 Q576.75 267.67 574.343 268.18 Q571.935 268.689 569.458 268.689 Q563.255 268.689 559.62 265.078 Q556.009 261.467 556.009 255.309 Q556.009 248.944 559.435 245.217 Q562.884 241.467 568.718 241.467 Q573.949 241.467 576.981 244.846 Q580.037 248.203 580.037 253.99 M575.778 252.74 Q575.731 249.245 573.81 247.161 Q571.912 245.078 568.764 245.078 Q565.199 245.078 563.046 247.092 Q560.917 249.106 560.593 252.763 L575.778 252.74 Z\" fill=\"#000000\" fill-rule=\"evenodd\" fill-opacity=\"1\" /><path clip-path=\"url(#clip860)\" d=\"M604.088 246.027 L604.088 231.999 L608.347 231.999 L608.347 268.018 L604.088 268.018 L604.088 264.129 Q602.745 266.443 600.685 267.578 Q598.648 268.689 595.778 268.689 Q591.079 268.689 588.116 264.939 Q585.176 261.189 585.176 255.078 Q585.176 248.967 588.116 245.217 Q591.079 241.467 595.778 241.467 Q598.648 241.467 600.685 242.601 Q602.745 243.712 604.088 246.027 M589.574 255.078 Q589.574 259.777 591.495 262.462 Q593.44 265.124 596.819 265.124 Q600.199 265.124 602.143 262.462 Q604.088 259.777 604.088 255.078 Q604.088 250.379 602.143 247.717 Q600.199 245.032 596.819 245.032 Q593.44 245.032 591.495 247.717 Q589.574 250.379 589.574 255.078 Z\" fill=\"#000000\" fill-rule=\"evenodd\" fill-opacity=\"1\" /></svg>\n"
      ]
     },
     "execution_count": 53,
     "metadata": {},
     "output_type": "execute_result"
    }
   ],
   "source": [
    "noises=10\n",
    "d=di.Normal(0,noises)\n",
    "y_observed=y_true+rand(d,length(x))\n",
    "scatter(x,y_observed, label=\"Data\")\n",
    "plot!(x,y_true, label=\"y_true\")\n",
    "line_fit=Polynomials.fit(x,y_observed,10)\n",
    "fit_coeff=coeffs(line_fit)\n",
    "y_fitted=line_fit.(x)\n",
    "plot!(x,y_fitted, label=\"y_fitted\")"
   ]
  },
  {
   "cell_type": "markdown",
   "id": "36028ee0",
   "metadata": {},
   "source": [
    "### 2.6\n",
    "\n",
    "1. Create a new independent parameter x_fit ranging from -11 to 11 with an increment of 0.1\n",
    "2. Plot the same three plots as in 2.3 again but apply the tenth order polynomial to x_fit instead of x\n"
   ]
  },
  {
   "cell_type": "code",
   "execution_count": 5,
   "id": "6c67a977",
   "metadata": {
    "scrolled": true
   },
   "outputs": [
    {
     "data": {
      "image/svg+xml": [
       "<?xml version=\"1.0\" encoding=\"utf-8\"?>\n",
       "<svg xmlns=\"http://www.w3.org/2000/svg\" xmlns:xlink=\"http://www.w3.org/1999/xlink\" width=\"600\" height=\"400\" viewBox=\"0 0 2400 1600\">\n",
       "<defs>\n",
       "  <clipPath id=\"clip320\">\n",
       "    <rect x=\"0\" y=\"0\" width=\"2400\" height=\"1600\"/>\n",
       "  </clipPath>\n",
       "</defs>\n",
       "<path clip-path=\"url(#clip320)\" d=\"M0 1600 L2400 1600 L2400 0 L0 0  Z\" fill=\"#ffffff\" fill-rule=\"evenodd\" fill-opacity=\"1\"/>\n",
       "<defs>\n",
       "  <clipPath id=\"clip321\">\n",
       "    <rect x=\"480\" y=\"0\" width=\"1681\" height=\"1600\"/>\n",
       "  </clipPath>\n",
       "</defs>\n",
       "<path clip-path=\"url(#clip320)\" d=\"M170.857 1486.45 L2352.76 1486.45 L2352.76 47.2441 L170.857 47.2441  Z\" fill=\"#ffffff\" fill-rule=\"evenodd\" fill-opacity=\"1\"/>\n",
       "<defs>\n",
       "  <clipPath id=\"clip322\">\n",
       "    <rect x=\"170\" y=\"47\" width=\"2183\" height=\"1440\"/>\n",
       "  </clipPath>\n",
       "</defs>\n",
       "<polyline clip-path=\"url(#clip322)\" style=\"stroke:#000000; stroke-linecap:round; stroke-linejoin:round; stroke-width:2; stroke-opacity:0.1; fill:none\" points=\"326.173,1486.45 326.173,47.2441 \"/>\n",
       "<polyline clip-path=\"url(#clip322)\" style=\"stroke:#000000; stroke-linecap:round; stroke-linejoin:round; stroke-width:2; stroke-opacity:0.1; fill:none\" points=\"793.99,1486.45 793.99,47.2441 \"/>\n",
       "<polyline clip-path=\"url(#clip322)\" style=\"stroke:#000000; stroke-linecap:round; stroke-linejoin:round; stroke-width:2; stroke-opacity:0.1; fill:none\" points=\"1261.81,1486.45 1261.81,47.2441 \"/>\n",
       "<polyline clip-path=\"url(#clip322)\" style=\"stroke:#000000; stroke-linecap:round; stroke-linejoin:round; stroke-width:2; stroke-opacity:0.1; fill:none\" points=\"1729.62,1486.45 1729.62,47.2441 \"/>\n",
       "<polyline clip-path=\"url(#clip322)\" style=\"stroke:#000000; stroke-linecap:round; stroke-linejoin:round; stroke-width:2; stroke-opacity:0.1; fill:none\" points=\"2197.44,1486.45 2197.44,47.2441 \"/>\n",
       "<polyline clip-path=\"url(#clip320)\" style=\"stroke:#000000; stroke-linecap:round; stroke-linejoin:round; stroke-width:4; stroke-opacity:1; fill:none\" points=\"170.857,1486.45 2352.76,1486.45 \"/>\n",
       "<polyline clip-path=\"url(#clip320)\" style=\"stroke:#000000; stroke-linecap:round; stroke-linejoin:round; stroke-width:4; stroke-opacity:1; fill:none\" points=\"326.173,1486.45 326.173,1467.55 \"/>\n",
       "<polyline clip-path=\"url(#clip320)\" style=\"stroke:#000000; stroke-linecap:round; stroke-linejoin:round; stroke-width:4; stroke-opacity:1; fill:none\" points=\"793.99,1486.45 793.99,1467.55 \"/>\n",
       "<polyline clip-path=\"url(#clip320)\" style=\"stroke:#000000; stroke-linecap:round; stroke-linejoin:round; stroke-width:4; stroke-opacity:1; fill:none\" points=\"1261.81,1486.45 1261.81,1467.55 \"/>\n",
       "<polyline clip-path=\"url(#clip320)\" style=\"stroke:#000000; stroke-linecap:round; stroke-linejoin:round; stroke-width:4; stroke-opacity:1; fill:none\" points=\"1729.62,1486.45 1729.62,1467.55 \"/>\n",
       "<polyline clip-path=\"url(#clip320)\" style=\"stroke:#000000; stroke-linecap:round; stroke-linejoin:round; stroke-width:4; stroke-opacity:1; fill:none\" points=\"2197.44,1486.45 2197.44,1467.55 \"/>\n",
       "<path clip-path=\"url(#clip320)\" d=\"M280.235 1532.02 L309.911 1532.02 L309.911 1535.95 L280.235 1535.95 L280.235 1532.02 Z\" fill=\"#000000\" fill-rule=\"evenodd\" fill-opacity=\"1\" /><path clip-path=\"url(#clip320)\" d=\"M320.814 1544.91 L328.453 1544.91 L328.453 1518.55 L320.143 1520.21 L320.143 1515.95 L328.406 1514.29 L333.082 1514.29 L333.082 1544.91 L340.721 1544.91 L340.721 1548.85 L320.814 1548.85 L320.814 1544.91 Z\" fill=\"#000000\" fill-rule=\"evenodd\" fill-opacity=\"1\" /><path clip-path=\"url(#clip320)\" d=\"M360.166 1517.37 Q356.554 1517.37 354.726 1520.93 Q352.92 1524.47 352.92 1531.6 Q352.92 1538.71 354.726 1542.27 Q356.554 1545.82 360.166 1545.82 Q363.8 1545.82 365.605 1542.27 Q367.434 1538.71 367.434 1531.6 Q367.434 1524.47 365.605 1520.93 Q363.8 1517.37 360.166 1517.37 M360.166 1513.66 Q365.976 1513.66 369.031 1518.27 Q372.11 1522.85 372.11 1531.6 Q372.11 1540.33 369.031 1544.94 Q365.976 1549.52 360.166 1549.52 Q354.355 1549.52 351.277 1544.94 Q348.221 1540.33 348.221 1531.6 Q348.221 1522.85 351.277 1518.27 Q354.355 1513.66 360.166 1513.66 Z\" fill=\"#000000\" fill-rule=\"evenodd\" fill-opacity=\"1\" /><path clip-path=\"url(#clip320)\" d=\"M763.631 1532.02 L793.307 1532.02 L793.307 1535.95 L763.631 1535.95 L763.631 1532.02 Z\" fill=\"#000000\" fill-rule=\"evenodd\" fill-opacity=\"1\" /><path clip-path=\"url(#clip320)\" d=\"M803.446 1514.29 L821.802 1514.29 L821.802 1518.22 L807.728 1518.22 L807.728 1526.7 Q808.747 1526.35 809.765 1526.19 Q810.784 1526 811.802 1526 Q817.589 1526 820.969 1529.17 Q824.348 1532.34 824.348 1537.76 Q824.348 1543.34 820.876 1546.44 Q817.404 1549.52 811.084 1549.52 Q808.909 1549.52 806.64 1549.15 Q804.395 1548.78 801.987 1548.04 L801.987 1543.34 Q804.071 1544.47 806.293 1545.03 Q808.515 1545.58 810.992 1545.58 Q814.996 1545.58 817.334 1543.48 Q819.672 1541.37 819.672 1537.76 Q819.672 1534.15 817.334 1532.04 Q814.996 1529.94 810.992 1529.94 Q809.117 1529.94 807.242 1530.35 Q805.39 1530.77 803.446 1531.65 L803.446 1514.29 Z\" fill=\"#000000\" fill-rule=\"evenodd\" fill-opacity=\"1\" /><path clip-path=\"url(#clip320)\" d=\"M1261.81 1517.37 Q1258.2 1517.37 1256.37 1520.93 Q1254.56 1524.47 1254.56 1531.6 Q1254.56 1538.71 1256.37 1542.27 Q1258.2 1545.82 1261.81 1545.82 Q1265.44 1545.82 1267.25 1542.27 Q1269.08 1538.71 1269.08 1531.6 Q1269.08 1524.47 1267.25 1520.93 Q1265.44 1517.37 1261.81 1517.37 M1261.81 1513.66 Q1267.62 1513.66 1270.67 1518.27 Q1273.75 1522.85 1273.75 1531.6 Q1273.75 1540.33 1270.67 1544.94 Q1267.62 1549.52 1261.81 1549.52 Q1256 1549.52 1252.92 1544.94 Q1249.86 1540.33 1249.86 1531.6 Q1249.86 1522.85 1252.92 1518.27 Q1256 1513.66 1261.81 1513.66 Z\" fill=\"#000000\" fill-rule=\"evenodd\" fill-opacity=\"1\" /><path clip-path=\"url(#clip320)\" d=\"M1719.9 1514.29 L1738.26 1514.29 L1738.26 1518.22 L1724.18 1518.22 L1724.18 1526.7 Q1725.2 1526.35 1726.22 1526.19 Q1727.24 1526 1728.26 1526 Q1734.04 1526 1737.42 1529.17 Q1740.8 1532.34 1740.8 1537.76 Q1740.8 1543.34 1737.33 1546.44 Q1733.86 1549.52 1727.54 1549.52 Q1725.36 1549.52 1723.1 1549.15 Q1720.85 1548.78 1718.44 1548.04 L1718.44 1543.34 Q1720.53 1544.47 1722.75 1545.03 Q1724.97 1545.58 1727.45 1545.58 Q1731.45 1545.58 1733.79 1543.48 Q1736.13 1541.37 1736.13 1537.76 Q1736.13 1534.15 1733.79 1532.04 Q1731.45 1529.94 1727.45 1529.94 Q1725.57 1529.94 1723.7 1530.35 Q1721.85 1530.77 1719.9 1531.65 L1719.9 1514.29 Z\" fill=\"#000000\" fill-rule=\"evenodd\" fill-opacity=\"1\" /><path clip-path=\"url(#clip320)\" d=\"M2172.13 1544.91 L2179.77 1544.91 L2179.77 1518.55 L2171.46 1520.21 L2171.46 1515.95 L2179.72 1514.29 L2184.4 1514.29 L2184.4 1544.91 L2192.04 1544.91 L2192.04 1548.85 L2172.13 1548.85 L2172.13 1544.91 Z\" fill=\"#000000\" fill-rule=\"evenodd\" fill-opacity=\"1\" /><path clip-path=\"url(#clip320)\" d=\"M2211.48 1517.37 Q2207.87 1517.37 2206.04 1520.93 Q2204.23 1524.47 2204.23 1531.6 Q2204.23 1538.71 2206.04 1542.27 Q2207.87 1545.82 2211.48 1545.82 Q2215.11 1545.82 2216.92 1542.27 Q2218.75 1538.71 2218.75 1531.6 Q2218.75 1524.47 2216.92 1520.93 Q2215.11 1517.37 2211.48 1517.37 M2211.48 1513.66 Q2217.29 1513.66 2220.35 1518.27 Q2223.42 1522.85 2223.42 1531.6 Q2223.42 1540.33 2220.35 1544.94 Q2217.29 1549.52 2211.48 1549.52 Q2205.67 1549.52 2202.59 1544.94 Q2199.54 1540.33 2199.54 1531.6 Q2199.54 1522.85 2202.59 1518.27 Q2205.67 1513.66 2211.48 1513.66 Z\" fill=\"#000000\" fill-rule=\"evenodd\" fill-opacity=\"1\" /><polyline clip-path=\"url(#clip322)\" style=\"stroke:#000000; stroke-linecap:round; stroke-linejoin:round; stroke-width:2; stroke-opacity:0.1; fill:none\" points=\"170.857,1388.32 2352.76,1388.32 \"/>\n",
       "<polyline clip-path=\"url(#clip322)\" style=\"stroke:#000000; stroke-linecap:round; stroke-linejoin:round; stroke-width:2; stroke-opacity:0.1; fill:none\" points=\"170.857,946.697 2352.76,946.697 \"/>\n",
       "<polyline clip-path=\"url(#clip322)\" style=\"stroke:#000000; stroke-linecap:round; stroke-linejoin:round; stroke-width:2; stroke-opacity:0.1; fill:none\" points=\"170.857,505.071 2352.76,505.071 \"/>\n",
       "<polyline clip-path=\"url(#clip322)\" style=\"stroke:#000000; stroke-linecap:round; stroke-linejoin:round; stroke-width:2; stroke-opacity:0.1; fill:none\" points=\"170.857,63.4444 2352.76,63.4444 \"/>\n",
       "<polyline clip-path=\"url(#clip320)\" style=\"stroke:#000000; stroke-linecap:round; stroke-linejoin:round; stroke-width:4; stroke-opacity:1; fill:none\" points=\"170.857,1486.45 170.857,47.2441 \"/>\n",
       "<polyline clip-path=\"url(#clip320)\" style=\"stroke:#000000; stroke-linecap:round; stroke-linejoin:round; stroke-width:4; stroke-opacity:1; fill:none\" points=\"170.857,1388.32 189.755,1388.32 \"/>\n",
       "<polyline clip-path=\"url(#clip320)\" style=\"stroke:#000000; stroke-linecap:round; stroke-linejoin:round; stroke-width:4; stroke-opacity:1; fill:none\" points=\"170.857,946.697 189.755,946.697 \"/>\n",
       "<polyline clip-path=\"url(#clip320)\" style=\"stroke:#000000; stroke-linecap:round; stroke-linejoin:round; stroke-width:4; stroke-opacity:1; fill:none\" points=\"170.857,505.071 189.755,505.071 \"/>\n",
       "<polyline clip-path=\"url(#clip320)\" style=\"stroke:#000000; stroke-linecap:round; stroke-linejoin:round; stroke-width:4; stroke-opacity:1; fill:none\" points=\"170.857,63.4444 189.755,63.4444 \"/>\n",
       "<path clip-path=\"url(#clip320)\" d=\"M122.913 1374.12 Q119.302 1374.12 117.473 1377.69 Q115.668 1381.23 115.668 1388.36 Q115.668 1395.47 117.473 1399.03 Q119.302 1402.57 122.913 1402.57 Q126.547 1402.57 128.353 1399.03 Q130.182 1395.47 130.182 1388.36 Q130.182 1381.23 128.353 1377.69 Q126.547 1374.12 122.913 1374.12 M122.913 1370.42 Q128.723 1370.42 131.779 1375.03 Q134.857 1379.61 134.857 1388.36 Q134.857 1397.09 131.779 1401.69 Q128.723 1406.28 122.913 1406.28 Q117.103 1406.28 114.024 1401.69 Q110.969 1397.09 110.969 1388.36 Q110.969 1379.61 114.024 1375.03 Q117.103 1370.42 122.913 1370.42 Z\" fill=\"#000000\" fill-rule=\"evenodd\" fill-opacity=\"1\" /><path clip-path=\"url(#clip320)\" d=\"M53.3995 960.042 L61.0384 960.042 L61.0384 933.677 L52.7282 935.343 L52.7282 931.084 L60.9921 929.417 L65.668 929.417 L65.668 960.042 L73.3068 960.042 L73.3068 963.977 L53.3995 963.977 L53.3995 960.042 Z\" fill=\"#000000\" fill-rule=\"evenodd\" fill-opacity=\"1\" /><path clip-path=\"url(#clip320)\" d=\"M92.7512 932.496 Q89.1401 932.496 87.3114 936.061 Q85.5058 939.603 85.5058 946.732 Q85.5058 953.839 87.3114 957.403 Q89.1401 960.945 92.7512 960.945 Q96.3854 960.945 98.1909 957.403 Q100.02 953.839 100.02 946.732 Q100.02 939.603 98.1909 936.061 Q96.3854 932.496 92.7512 932.496 M92.7512 928.792 Q98.5613 928.792 101.617 933.399 Q104.696 937.982 104.696 946.732 Q104.696 955.459 101.617 960.065 Q98.5613 964.649 92.7512 964.649 Q86.941 964.649 83.8623 960.065 Q80.8068 955.459 80.8068 946.732 Q80.8068 937.982 83.8623 933.399 Q86.941 928.792 92.7512 928.792 Z\" fill=\"#000000\" fill-rule=\"evenodd\" fill-opacity=\"1\" /><path clip-path=\"url(#clip320)\" d=\"M122.913 932.496 Q119.302 932.496 117.473 936.061 Q115.668 939.603 115.668 946.732 Q115.668 953.839 117.473 957.403 Q119.302 960.945 122.913 960.945 Q126.547 960.945 128.353 957.403 Q130.182 953.839 130.182 946.732 Q130.182 939.603 128.353 936.061 Q126.547 932.496 122.913 932.496 M122.913 928.792 Q128.723 928.792 131.779 933.399 Q134.857 937.982 134.857 946.732 Q134.857 955.459 131.779 960.065 Q128.723 964.649 122.913 964.649 Q117.103 964.649 114.024 960.065 Q110.969 955.459 110.969 946.732 Q110.969 937.982 114.024 933.399 Q117.103 928.792 122.913 928.792 Z\" fill=\"#000000\" fill-rule=\"evenodd\" fill-opacity=\"1\" /><path clip-path=\"url(#clip320)\" d=\"M56.6171 518.416 L72.9365 518.416 L72.9365 522.351 L50.9921 522.351 L50.9921 518.416 Q53.6541 515.661 58.2375 511.031 Q62.8439 506.379 64.0245 505.036 Q66.2698 502.513 67.1494 500.777 Q68.0522 499.018 68.0522 497.328 Q68.0522 494.573 66.1078 492.837 Q64.1865 491.101 61.0847 491.101 Q58.8856 491.101 56.4319 491.865 Q54.0014 492.629 51.2236 494.18 L51.2236 489.458 Q54.0477 488.323 56.5014 487.745 Q58.955 487.166 60.9921 487.166 Q66.3624 487.166 69.5568 489.851 Q72.7513 492.536 72.7513 497.027 Q72.7513 499.157 71.9411 501.078 Q71.1541 502.976 69.0476 505.569 Q68.4689 506.24 65.367 509.457 Q62.2652 512.652 56.6171 518.416 Z\" fill=\"#000000\" fill-rule=\"evenodd\" fill-opacity=\"1\" /><path clip-path=\"url(#clip320)\" d=\"M92.7512 490.87 Q89.1401 490.87 87.3114 494.434 Q85.5058 497.976 85.5058 505.106 Q85.5058 512.212 87.3114 515.777 Q89.1401 519.318 92.7512 519.318 Q96.3854 519.318 98.1909 515.777 Q100.02 512.212 100.02 505.106 Q100.02 497.976 98.1909 494.434 Q96.3854 490.87 92.7512 490.87 M92.7512 487.166 Q98.5613 487.166 101.617 491.772 Q104.696 496.356 104.696 505.106 Q104.696 513.832 101.617 518.439 Q98.5613 523.022 92.7512 523.022 Q86.941 523.022 83.8623 518.439 Q80.8068 513.832 80.8068 505.106 Q80.8068 496.356 83.8623 491.772 Q86.941 487.166 92.7512 487.166 Z\" fill=\"#000000\" fill-rule=\"evenodd\" fill-opacity=\"1\" /><path clip-path=\"url(#clip320)\" d=\"M122.913 490.87 Q119.302 490.87 117.473 494.434 Q115.668 497.976 115.668 505.106 Q115.668 512.212 117.473 515.777 Q119.302 519.318 122.913 519.318 Q126.547 519.318 128.353 515.777 Q130.182 512.212 130.182 505.106 Q130.182 497.976 128.353 494.434 Q126.547 490.87 122.913 490.87 M122.913 487.166 Q128.723 487.166 131.779 491.772 Q134.857 496.356 134.857 505.106 Q134.857 513.832 131.779 518.439 Q128.723 523.022 122.913 523.022 Q117.103 523.022 114.024 518.439 Q110.969 513.832 110.969 505.106 Q110.969 496.356 114.024 491.772 Q117.103 487.166 122.913 487.166 Z\" fill=\"#000000\" fill-rule=\"evenodd\" fill-opacity=\"1\" /><path clip-path=\"url(#clip320)\" d=\"M66.7559 62.0902 Q70.1124 62.8078 71.9874 65.0763 Q73.8855 67.3448 73.8855 70.6781 Q73.8855 75.7938 70.367 78.5947 Q66.8485 81.3957 60.3671 81.3957 Q58.1912 81.3957 55.8764 80.9558 Q53.5847 80.5392 51.131 79.6827 L51.131 75.1688 Q53.0754 76.3031 55.3903 76.8818 Q57.7051 77.4605 60.2282 77.4605 Q64.6263 77.4605 66.918 75.7244 Q69.2328 73.9883 69.2328 70.6781 Q69.2328 67.6226 67.08 65.9096 Q64.9504 64.1735 61.131 64.1735 L57.1032 64.1735 L57.1032 60.3309 L61.3161 60.3309 Q64.7652 60.3309 66.5939 58.9652 Q68.4226 57.5763 68.4226 54.9838 Q68.4226 52.3217 66.5245 50.9097 Q64.6495 49.4745 61.131 49.4745 Q59.2097 49.4745 57.0106 49.8912 Q54.8115 50.3079 52.1727 51.1875 L52.1727 47.0208 Q54.8347 46.2801 57.1495 45.9097 Q59.4875 45.5394 61.5476 45.5394 Q66.8717 45.5394 69.9735 47.9699 Q73.0753 50.3773 73.0753 54.4976 Q73.0753 57.368 71.4318 59.3587 Q69.7883 61.3263 66.7559 62.0902 Z\" fill=\"#000000\" fill-rule=\"evenodd\" fill-opacity=\"1\" /><path clip-path=\"url(#clip320)\" d=\"M92.7512 49.243 Q89.1401 49.243 87.3114 52.8078 Q85.5058 56.3495 85.5058 63.4791 Q85.5058 70.5855 87.3114 74.1503 Q89.1401 77.692 92.7512 77.692 Q96.3854 77.692 98.1909 74.1503 Q100.02 70.5855 100.02 63.4791 Q100.02 56.3495 98.1909 52.8078 Q96.3854 49.243 92.7512 49.243 M92.7512 45.5394 Q98.5613 45.5394 101.617 50.1458 Q104.696 54.7291 104.696 63.4791 Q104.696 72.2059 101.617 76.8123 Q98.5613 81.3957 92.7512 81.3957 Q86.941 81.3957 83.8623 76.8123 Q80.8068 72.2059 80.8068 63.4791 Q80.8068 54.7291 83.8623 50.1458 Q86.941 45.5394 92.7512 45.5394 Z\" fill=\"#000000\" fill-rule=\"evenodd\" fill-opacity=\"1\" /><path clip-path=\"url(#clip320)\" d=\"M122.913 49.243 Q119.302 49.243 117.473 52.8078 Q115.668 56.3495 115.668 63.4791 Q115.668 70.5855 117.473 74.1503 Q119.302 77.692 122.913 77.692 Q126.547 77.692 128.353 74.1503 Q130.182 70.5855 130.182 63.4791 Q130.182 56.3495 128.353 52.8078 Q126.547 49.243 122.913 49.243 M122.913 45.5394 Q128.723 45.5394 131.779 50.1458 Q134.857 54.7291 134.857 63.4791 Q134.857 72.2059 131.779 76.8123 Q128.723 81.3957 122.913 81.3957 Q117.103 81.3957 114.024 76.8123 Q110.969 72.2059 110.969 63.4791 Q110.969 54.7291 114.024 50.1458 Q117.103 45.5394 122.913 45.5394 Z\" fill=\"#000000\" fill-rule=\"evenodd\" fill-opacity=\"1\" /><circle clip-path=\"url(#clip322)\" cx=\"326.173\" cy=\"1123.57\" r=\"14.4\" fill=\"#009af9\" fill-rule=\"evenodd\" fill-opacity=\"1\" stroke=\"#000000\" stroke-opacity=\"1\" stroke-width=\"3.2\"/>\n",
       "<circle clip-path=\"url(#clip322)\" cx=\"419.736\" cy=\"1133.58\" r=\"14.4\" fill=\"#009af9\" fill-rule=\"evenodd\" fill-opacity=\"1\" stroke=\"#000000\" stroke-opacity=\"1\" stroke-width=\"3.2\"/>\n",
       "<circle clip-path=\"url(#clip322)\" cx=\"513.299\" cy=\"1197.58\" r=\"14.4\" fill=\"#009af9\" fill-rule=\"evenodd\" fill-opacity=\"1\" stroke=\"#000000\" stroke-opacity=\"1\" stroke-width=\"3.2\"/>\n",
       "<circle clip-path=\"url(#clip322)\" cx=\"606.863\" cy=\"1191.08\" r=\"14.4\" fill=\"#009af9\" fill-rule=\"evenodd\" fill-opacity=\"1\" stroke=\"#000000\" stroke-opacity=\"1\" stroke-width=\"3.2\"/>\n",
       "<circle clip-path=\"url(#clip322)\" cx=\"700.426\" cy=\"1287.56\" r=\"14.4\" fill=\"#009af9\" fill-rule=\"evenodd\" fill-opacity=\"1\" stroke=\"#000000\" stroke-opacity=\"1\" stroke-width=\"3.2\"/>\n",
       "<circle clip-path=\"url(#clip322)\" cx=\"793.99\" cy=\"1348.6\" r=\"14.4\" fill=\"#009af9\" fill-rule=\"evenodd\" fill-opacity=\"1\" stroke=\"#000000\" stroke-opacity=\"1\" stroke-width=\"3.2\"/>\n",
       "<circle clip-path=\"url(#clip322)\" cx=\"887.553\" cy=\"1296.83\" r=\"14.4\" fill=\"#009af9\" fill-rule=\"evenodd\" fill-opacity=\"1\" stroke=\"#000000\" stroke-opacity=\"1\" stroke-width=\"3.2\"/>\n",
       "<circle clip-path=\"url(#clip322)\" cx=\"981.116\" cy=\"1381.93\" r=\"14.4\" fill=\"#009af9\" fill-rule=\"evenodd\" fill-opacity=\"1\" stroke=\"#000000\" stroke-opacity=\"1\" stroke-width=\"3.2\"/>\n",
       "<circle clip-path=\"url(#clip322)\" cx=\"1074.68\" cy=\"1387.79\" r=\"14.4\" fill=\"#009af9\" fill-rule=\"evenodd\" fill-opacity=\"1\" stroke=\"#000000\" stroke-opacity=\"1\" stroke-width=\"3.2\"/>\n",
       "<circle clip-path=\"url(#clip322)\" cx=\"1168.24\" cy=\"1398.28\" r=\"14.4\" fill=\"#009af9\" fill-rule=\"evenodd\" fill-opacity=\"1\" stroke=\"#000000\" stroke-opacity=\"1\" stroke-width=\"3.2\"/>\n",
       "<circle clip-path=\"url(#clip322)\" cx=\"1261.81\" cy=\"1445.72\" r=\"14.4\" fill=\"#009af9\" fill-rule=\"evenodd\" fill-opacity=\"1\" stroke=\"#000000\" stroke-opacity=\"1\" stroke-width=\"3.2\"/>\n",
       "<circle clip-path=\"url(#clip322)\" cx=\"1355.37\" cy=\"1438.9\" r=\"14.4\" fill=\"#009af9\" fill-rule=\"evenodd\" fill-opacity=\"1\" stroke=\"#000000\" stroke-opacity=\"1\" stroke-width=\"3.2\"/>\n",
       "<circle clip-path=\"url(#clip322)\" cx=\"1448.93\" cy=\"1350.86\" r=\"14.4\" fill=\"#009af9\" fill-rule=\"evenodd\" fill-opacity=\"1\" stroke=\"#000000\" stroke-opacity=\"1\" stroke-width=\"3.2\"/>\n",
       "<circle clip-path=\"url(#clip322)\" cx=\"1542.5\" cy=\"1230.62\" r=\"14.4\" fill=\"#009af9\" fill-rule=\"evenodd\" fill-opacity=\"1\" stroke=\"#000000\" stroke-opacity=\"1\" stroke-width=\"3.2\"/>\n",
       "<circle clip-path=\"url(#clip322)\" cx=\"1636.06\" cy=\"1290.14\" r=\"14.4\" fill=\"#009af9\" fill-rule=\"evenodd\" fill-opacity=\"1\" stroke=\"#000000\" stroke-opacity=\"1\" stroke-width=\"3.2\"/>\n",
       "<circle clip-path=\"url(#clip322)\" cx=\"1729.62\" cy=\"1241.15\" r=\"14.4\" fill=\"#009af9\" fill-rule=\"evenodd\" fill-opacity=\"1\" stroke=\"#000000\" stroke-opacity=\"1\" stroke-width=\"3.2\"/>\n",
       "<circle clip-path=\"url(#clip322)\" cx=\"1823.19\" cy=\"1104.83\" r=\"14.4\" fill=\"#009af9\" fill-rule=\"evenodd\" fill-opacity=\"1\" stroke=\"#000000\" stroke-opacity=\"1\" stroke-width=\"3.2\"/>\n",
       "<circle clip-path=\"url(#clip322)\" cx=\"1916.75\" cy=\"1168.94\" r=\"14.4\" fill=\"#009af9\" fill-rule=\"evenodd\" fill-opacity=\"1\" stroke=\"#000000\" stroke-opacity=\"1\" stroke-width=\"3.2\"/>\n",
       "<circle clip-path=\"url(#clip322)\" cx=\"2010.31\" cy=\"992.643\" r=\"14.4\" fill=\"#009af9\" fill-rule=\"evenodd\" fill-opacity=\"1\" stroke=\"#000000\" stroke-opacity=\"1\" stroke-width=\"3.2\"/>\n",
       "<circle clip-path=\"url(#clip322)\" cx=\"2103.88\" cy=\"943.586\" r=\"14.4\" fill=\"#009af9\" fill-rule=\"evenodd\" fill-opacity=\"1\" stroke=\"#000000\" stroke-opacity=\"1\" stroke-width=\"3.2\"/>\n",
       "<circle clip-path=\"url(#clip322)\" cx=\"2197.44\" cy=\"799.876\" r=\"14.4\" fill=\"#009af9\" fill-rule=\"evenodd\" fill-opacity=\"1\" stroke=\"#000000\" stroke-opacity=\"1\" stroke-width=\"3.2\"/>\n",
       "<polyline clip-path=\"url(#clip322)\" style=\"stroke:#e26f46; stroke-linecap:round; stroke-linejoin:round; stroke-width:4; stroke-opacity:1; fill:none\" points=\"326.173,1088.02 419.736,1158.68 513.299,1220.51 606.863,1273.5 700.426,1317.66 793.99,1352.99 887.553,1379.49 981.116,1397.16 1074.68,1405.99 1168.24,1405.99 1261.81,1397.16 1355.37,1379.49 1448.93,1352.99 1542.5,1317.66 1636.06,1273.5 1729.62,1220.51 1823.19,1158.68 1916.75,1088.02 2010.31,1008.53 2103.88,920.2 2197.44,823.042 \"/>\n",
       "<polyline clip-path=\"url(#clip322)\" style=\"stroke:#3da44d; stroke-linecap:round; stroke-linejoin:round; stroke-width:4; stroke-opacity:1; fill:none\" points=\"232.609,455.834 241.966,595.319 251.322,712.032 260.678,808.9 270.035,888.56 279.391,953.38 288.747,1005.48 298.104,1046.76 307.46,1078.89 316.816,1103.38 326.173,1121.53 335.529,1134.51 344.885,1143.33 354.242,1148.87 363.598,1151.88 372.954,1153.03 382.311,1152.85 391.667,1151.83 401.023,1150.34 410.38,1148.7 419.736,1147.18 429.092,1145.97 438.449,1145.22 447.805,1145.05 457.161,1145.53 466.518,1146.72 475.874,1148.61 485.23,1151.23 494.587,1154.53 503.943,1158.49 513.299,1163.05 522.656,1168.16 532.012,1173.76 541.368,1179.78 550.725,1186.15 560.081,1192.79 569.438,1199.64 578.794,1206.62 588.15,1213.68 597.507,1220.74 606.863,1227.76 616.219,1234.67 625.576,1241.44 634.932,1248.01 644.288,1254.35 653.645,1260.44 663.001,1266.25 672.357,1271.75 681.714,1276.93 691.07,1281.79 700.426,1286.33 709.783,1290.53 719.139,1294.42 728.495,1297.99 737.852,1301.26 747.208,1304.26 756.564,1306.99 765.921,1309.47 775.277,1311.74 784.633,1313.82 793.99,1315.73 803.346,1317.5 812.702,1319.16 822.059,1320.74 831.415,1322.25 840.771,1323.74 850.128,1325.22 859.484,1326.72 868.84,1328.26 878.197,1329.87 887.553,1331.56 896.909,1333.35 906.266,1335.26 915.622,1337.29 924.978,1339.46 934.335,1341.79 943.691,1344.26 953.047,1346.89 962.404,1349.68 971.76,1352.62 981.116,1355.71 990.473,1358.95 999.829,1362.32 1009.19,1365.81 1018.54,1369.42 1027.9,1373.12 1037.25,1376.89 1046.61,1380.73 1055.97,1384.61 1065.32,1388.51 1074.68,1392.41 1084.04,1396.28 1093.39,1400.1 1102.75,1403.85 1112.11,1407.5 1121.46,1411.03 1130.82,1414.41 1140.17,1417.62 1149.53,1420.64 1158.89,1423.44 1168.24,1426 1177.6,1428.3 1186.96,1430.33 1196.31,1432.06 1205.67,1433.48 1215.02,1434.56 1224.38,1435.31 1233.74,1435.71 1243.09,1435.75 1252.45,1435.41 1261.81,1434.71 1271.16,1433.63 1280.52,1432.17 1289.88,1430.33 1299.23,1428.13 1308.59,1425.56 1317.94,1422.62 1327.3,1419.35 1336.66,1415.73 1346.01,1411.79 1355.37,1407.54 1364.73,1403.01 1374.08,1398.2 1383.44,1393.14 1392.8,1387.85 1402.15,1382.36 1411.51,1376.68 1420.86,1370.84 1430.22,1364.87 1439.58,1358.79 1448.93,1352.63 1458.29,1346.4 1467.65,1340.15 1477,1333.89 1486.36,1327.64 1495.72,1321.44 1505.07,1315.29 1514.43,1309.24 1523.78,1303.28 1533.14,1297.45 1542.5,1291.75 1551.85,1286.21 1561.21,1280.83 1570.57,1275.63 1579.92,1270.61 1589.28,1265.78 1598.63,1261.14 1607.99,1256.7 1617.35,1252.45 1626.7,1248.39 1636.06,1244.51 1645.42,1240.79 1654.77,1237.24 1664.13,1233.83 1673.49,1230.55 1682.84,1227.37 1692.2,1224.28 1701.55,1221.26 1710.91,1218.28 1720.27,1215.31 1729.62,1212.33 1738.98,1209.3 1748.34,1206.2 1757.69,1203.01 1767.05,1199.68 1776.41,1196.2 1785.76,1192.53 1795.12,1188.65 1804.47,1184.53 1813.83,1180.14 1823.19,1175.48 1832.54,1170.5 1841.9,1165.21 1851.26,1159.59 1860.61,1153.63 1869.97,1147.32 1879.33,1140.66 1888.68,1133.65 1898.04,1126.31 1907.39,1118.65 1916.75,1110.67 1926.11,1102.41 1935.46,1093.88 1944.82,1085.13 1954.18,1076.17 1963.53,1067.06 1972.89,1057.83 1982.24,1048.52 1991.6,1039.18 2000.96,1029.86 2010.31,1020.58 2019.67,1011.41 2029.03,1002.36 2038.38,993.474 2047.74,984.77 2057.1,976.258 2066.45,967.934 2075.81,959.776 2085.16,951.743 2094.52,943.769 2103.88,935.757 2113.23,927.58 2122.59,919.068 2131.95,910.009 2141.3,900.14 2150.66,889.138 2160.02,876.618 2169.37,862.119 2178.73,845.1 2188.08,824.928 2197.44,800.868 2206.8,772.073 2216.15,737.574 2225.51,696.262 2234.87,646.881 2244.22,588.008 2253.58,518.043 2262.94,435.188 2272.29,337.43 2281.65,222.525 2291,87.9763 \"/>\n",
       "<path clip-path=\"url(#clip320)\" d=\"M243.587 302.578 L634.114 302.578 L634.114 95.2176 L243.587 95.2176  Z\" fill=\"#ffffff\" fill-rule=\"evenodd\" fill-opacity=\"1\"/>\n",
       "<polyline clip-path=\"url(#clip320)\" style=\"stroke:#000000; stroke-linecap:round; stroke-linejoin:round; stroke-width:4; stroke-opacity:1; fill:none\" points=\"243.587,302.578 634.114,302.578 634.114,95.2176 243.587,95.2176 243.587,302.578 \"/>\n",
       "<circle clip-path=\"url(#clip320)\" cx=\"340.561\" cy=\"147.058\" r=\"23.04\" fill=\"#009af9\" fill-rule=\"evenodd\" fill-opacity=\"1\" stroke=\"#000000\" stroke-opacity=\"1\" stroke-width=\"5.12\"/>\n",
       "<path clip-path=\"url(#clip320)\" d=\"M442.21 133.62 L442.21 160.495 L447.858 160.495 Q455.011 160.495 458.321 157.254 Q461.654 154.014 461.654 147.023 Q461.654 140.078 458.321 136.861 Q455.011 133.62 447.858 133.62 L442.21 133.62 M437.534 129.778 L447.14 129.778 Q457.187 129.778 461.886 133.967 Q466.585 138.134 466.585 147.023 Q466.585 155.958 461.862 160.148 Q457.14 164.338 447.14 164.338 L437.534 164.338 L437.534 129.778 Z\" fill=\"#000000\" fill-rule=\"evenodd\" fill-opacity=\"1\" /><path clip-path=\"url(#clip320)\" d=\"M485.635 151.305 Q480.473 151.305 478.483 152.486 Q476.492 153.666 476.492 156.514 Q476.492 158.782 477.973 160.125 Q479.478 161.444 482.048 161.444 Q485.589 161.444 487.719 158.944 Q489.872 156.421 489.872 152.254 L489.872 151.305 L485.635 151.305 M494.131 149.546 L494.131 164.338 L489.872 164.338 L489.872 160.402 Q488.413 162.763 486.237 163.898 Q484.061 165.009 480.913 165.009 Q476.932 165.009 474.571 162.787 Q472.233 160.541 472.233 156.791 Q472.233 152.416 475.149 150.194 Q478.089 147.972 483.899 147.972 L489.872 147.972 L489.872 147.555 Q489.872 144.615 487.927 143.018 Q486.006 141.398 482.511 141.398 Q480.288 141.398 478.182 141.93 Q476.075 142.463 474.131 143.527 L474.131 139.592 Q476.469 138.69 478.668 138.25 Q480.867 137.787 482.95 137.787 Q488.575 137.787 491.353 140.703 Q494.131 143.62 494.131 149.546 Z\" fill=\"#000000\" fill-rule=\"evenodd\" fill-opacity=\"1\" /><path clip-path=\"url(#clip320)\" d=\"M507.117 131.051 L507.117 138.412 L515.89 138.412 L515.89 141.722 L507.117 141.722 L507.117 155.796 Q507.117 158.967 507.973 159.87 Q508.853 160.773 511.515 160.773 L515.89 160.773 L515.89 164.338 L511.515 164.338 Q506.584 164.338 504.709 162.509 Q502.834 160.657 502.834 155.796 L502.834 141.722 L499.709 141.722 L499.709 138.412 L502.834 138.412 L502.834 131.051 L507.117 131.051 Z\" fill=\"#000000\" fill-rule=\"evenodd\" fill-opacity=\"1\" /><path clip-path=\"url(#clip320)\" d=\"M533.274 151.305 Q528.112 151.305 526.121 152.486 Q524.131 153.666 524.131 156.514 Q524.131 158.782 525.612 160.125 Q527.117 161.444 529.686 161.444 Q533.228 161.444 535.357 158.944 Q537.51 156.421 537.51 152.254 L537.51 151.305 L533.274 151.305 M541.769 149.546 L541.769 164.338 L537.51 164.338 L537.51 160.402 Q536.052 162.763 533.876 163.898 Q531.7 165.009 528.552 165.009 Q524.57 165.009 522.209 162.787 Q519.871 160.541 519.871 156.791 Q519.871 152.416 522.788 150.194 Q525.728 147.972 531.538 147.972 L537.51 147.972 L537.51 147.555 Q537.51 144.615 535.566 143.018 Q533.644 141.398 530.149 141.398 Q527.927 141.398 525.82 141.93 Q523.714 142.463 521.77 143.527 L521.77 139.592 Q524.108 138.69 526.307 138.25 Q528.506 137.787 530.589 137.787 Q536.214 137.787 538.992 140.703 Q541.769 143.62 541.769 149.546 Z\" fill=\"#000000\" fill-rule=\"evenodd\" fill-opacity=\"1\" /><polyline clip-path=\"url(#clip320)\" style=\"stroke:#e26f46; stroke-linecap:round; stroke-linejoin:round; stroke-width:4; stroke-opacity:1; fill:none\" points=\"267.831,198.898 413.291,198.898 \"/>\n",
       "<path clip-path=\"url(#clip320)\" d=\"M451.376 218.585 Q449.571 223.215 447.858 224.627 Q446.145 226.039 443.275 226.039 L439.872 226.039 L439.872 222.474 L442.372 222.474 Q444.131 222.474 445.103 221.64 Q446.076 220.807 447.256 217.705 L448.02 215.761 L437.534 190.252 L442.048 190.252 L450.15 210.529 L458.251 190.252 L462.765 190.252 L451.376 218.585 Z\" fill=\"#000000\" fill-rule=\"evenodd\" fill-opacity=\"1\" /><path clip-path=\"url(#clip320)\" d=\"M488.344 224.048 L488.344 227.358 L463.714 227.358 L463.714 224.048 L488.344 224.048 Z\" fill=\"#000000\" fill-rule=\"evenodd\" fill-opacity=\"1\" /><path clip-path=\"url(#clip320)\" d=\"M496.561 182.891 L496.561 190.252 L505.334 190.252 L505.334 193.562 L496.561 193.562 L496.561 207.636 Q496.561 210.807 497.418 211.71 Q498.297 212.613 500.959 212.613 L505.334 212.613 L505.334 216.178 L500.959 216.178 Q496.029 216.178 494.154 214.349 Q492.279 212.497 492.279 207.636 L492.279 193.562 L489.154 193.562 L489.154 190.252 L492.279 190.252 L492.279 182.891 L496.561 182.891 Z\" fill=\"#000000\" fill-rule=\"evenodd\" fill-opacity=\"1\" /><path clip-path=\"url(#clip320)\" d=\"M525.959 194.233 Q525.242 193.817 524.385 193.631 Q523.552 193.423 522.533 193.423 Q518.922 193.423 516.978 195.784 Q515.057 198.122 515.057 202.52 L515.057 216.178 L510.774 216.178 L510.774 190.252 L515.057 190.252 L515.057 194.28 Q516.399 191.918 518.552 190.784 Q520.705 189.627 523.783 189.627 Q524.223 189.627 524.756 189.696 Q525.288 189.743 525.936 189.858 L525.959 194.233 Z\" fill=\"#000000\" fill-rule=\"evenodd\" fill-opacity=\"1\" /><path clip-path=\"url(#clip320)\" d=\"M529.987 205.946 L529.987 190.252 L534.246 190.252 L534.246 205.784 Q534.246 209.465 535.682 211.316 Q537.117 213.145 539.987 213.145 Q543.436 213.145 545.427 210.946 Q547.441 208.747 547.441 204.951 L547.441 190.252 L551.7 190.252 L551.7 216.178 L547.441 216.178 L547.441 212.196 Q545.89 214.557 543.83 215.715 Q541.793 216.849 539.084 216.849 Q534.617 216.849 532.302 214.071 Q529.987 211.293 529.987 205.946 M540.705 189.627 L540.705 189.627 Z\" fill=\"#000000\" fill-rule=\"evenodd\" fill-opacity=\"1\" /><path clip-path=\"url(#clip320)\" d=\"M582.649 202.15 L582.649 204.233 L563.066 204.233 Q563.343 208.631 565.705 210.946 Q568.089 213.238 572.325 213.238 Q574.779 213.238 577.07 212.636 Q579.385 212.034 581.653 210.83 L581.653 214.858 Q579.362 215.83 576.954 216.34 Q574.547 216.849 572.07 216.849 Q565.867 216.849 562.232 213.238 Q558.621 209.627 558.621 203.469 Q558.621 197.104 562.047 193.377 Q565.496 189.627 571.329 189.627 Q576.561 189.627 579.593 193.006 Q582.649 196.363 582.649 202.15 M578.39 200.9 Q578.343 197.405 576.422 195.321 Q574.524 193.238 571.376 193.238 Q567.811 193.238 565.658 195.252 Q563.529 197.266 563.205 200.923 L578.39 200.9 Z\" fill=\"#000000\" fill-rule=\"evenodd\" fill-opacity=\"1\" /><polyline clip-path=\"url(#clip320)\" style=\"stroke:#3da44d; stroke-linecap:round; stroke-linejoin:round; stroke-width:4; stroke-opacity:1; fill:none\" points=\"267.831,250.738 413.291,250.738 \"/>\n",
       "<path clip-path=\"url(#clip320)\" d=\"M451.376 270.425 Q449.571 275.055 447.858 276.467 Q446.145 277.879 443.275 277.879 L439.872 277.879 L439.872 274.314 L442.372 274.314 Q444.131 274.314 445.103 273.48 Q446.076 272.647 447.256 269.545 L448.02 267.601 L437.534 242.092 L442.048 242.092 L450.15 262.369 L458.251 242.092 L462.765 242.092 L451.376 270.425 Z\" fill=\"#000000\" fill-rule=\"evenodd\" fill-opacity=\"1\" /><path clip-path=\"url(#clip320)\" d=\"M488.344 275.888 L488.344 279.198 L463.714 279.198 L463.714 275.888 L488.344 275.888 Z\" fill=\"#000000\" fill-rule=\"evenodd\" fill-opacity=\"1\" /><path clip-path=\"url(#clip320)\" d=\"M505.473 231.999 L505.473 235.541 L501.399 235.541 Q499.108 235.541 498.205 236.467 Q497.325 237.393 497.325 239.8 L497.325 242.092 L504.339 242.092 L504.339 245.402 L497.325 245.402 L497.325 268.018 L493.043 268.018 L493.043 245.402 L488.969 245.402 L488.969 242.092 L493.043 242.092 L493.043 240.286 Q493.043 235.958 495.057 233.99 Q497.071 231.999 501.446 231.999 L505.473 231.999 Z\" fill=\"#000000\" fill-rule=\"evenodd\" fill-opacity=\"1\" /><path clip-path=\"url(#clip320)\" d=\"M509.038 242.092 L513.297 242.092 L513.297 268.018 L509.038 268.018 L509.038 242.092 M509.038 231.999 L513.297 231.999 L513.297 237.393 L509.038 237.393 L509.038 231.999 Z\" fill=\"#000000\" fill-rule=\"evenodd\" fill-opacity=\"1\" /><path clip-path=\"url(#clip320)\" d=\"M526.422 234.731 L526.422 242.092 L535.195 242.092 L535.195 245.402 L526.422 245.402 L526.422 259.476 Q526.422 262.647 527.279 263.55 Q528.158 264.453 530.82 264.453 L535.195 264.453 L535.195 268.018 L530.82 268.018 Q525.89 268.018 524.015 266.189 Q522.14 264.337 522.14 259.476 L522.14 245.402 L519.015 245.402 L519.015 242.092 L522.14 242.092 L522.14 234.731 L526.422 234.731 Z\" fill=\"#000000\" fill-rule=\"evenodd\" fill-opacity=\"1\" /><path clip-path=\"url(#clip320)\" d=\"M545.01 234.731 L545.01 242.092 L553.783 242.092 L553.783 245.402 L545.01 245.402 L545.01 259.476 Q545.01 262.647 545.867 263.55 Q546.746 264.453 549.408 264.453 L553.783 264.453 L553.783 268.018 L549.408 268.018 Q544.478 268.018 542.603 266.189 Q540.728 264.337 540.728 259.476 L540.728 245.402 L537.603 245.402 L537.603 242.092 L540.728 242.092 L540.728 234.731 L545.01 234.731 Z\" fill=\"#000000\" fill-rule=\"evenodd\" fill-opacity=\"1\" /><path clip-path=\"url(#clip320)\" d=\"M581.561 253.99 L581.561 256.073 L561.978 256.073 Q562.255 260.471 564.617 262.786 Q567.001 265.078 571.237 265.078 Q573.691 265.078 575.982 264.476 Q578.297 263.874 580.566 262.67 L580.566 266.698 Q578.274 267.67 575.866 268.18 Q573.459 268.689 570.982 268.689 Q564.779 268.689 561.144 265.078 Q557.533 261.467 557.533 255.309 Q557.533 248.944 560.959 245.217 Q564.408 241.467 570.242 241.467 Q575.473 241.467 578.505 244.846 Q581.561 248.203 581.561 253.99 M577.302 252.74 Q577.255 249.245 575.334 247.161 Q573.436 245.078 570.288 245.078 Q566.723 245.078 564.57 247.092 Q562.441 249.106 562.117 252.763 L577.302 252.74 Z\" fill=\"#000000\" fill-rule=\"evenodd\" fill-opacity=\"1\" /><path clip-path=\"url(#clip320)\" d=\"M605.612 246.027 L605.612 231.999 L609.871 231.999 L609.871 268.018 L605.612 268.018 L605.612 264.129 Q604.269 266.443 602.209 267.578 Q600.172 268.689 597.302 268.689 Q592.603 268.689 589.64 264.939 Q586.7 261.189 586.7 255.078 Q586.7 248.967 589.64 245.217 Q592.603 241.467 597.302 241.467 Q600.172 241.467 602.209 242.601 Q604.269 243.712 605.612 246.027 M591.098 255.078 Q591.098 259.777 593.019 262.462 Q594.964 265.124 598.343 265.124 Q601.723 265.124 603.667 262.462 Q605.612 259.777 605.612 255.078 Q605.612 250.379 603.667 247.717 Q601.723 245.032 598.343 245.032 Q594.964 245.032 593.019 247.717 Q591.098 250.379 591.098 255.078 Z\" fill=\"#000000\" fill-rule=\"evenodd\" fill-opacity=\"1\" /></svg>\n"
      ]
     },
     "execution_count": 5,
     "metadata": {},
     "output_type": "execute_result"
    }
   ],
   "source": [
    "x_fit=(-11:0.1:11)\n",
    "noises=10\n",
    "d=di.Normal(0,noises)\n",
    "y_observed=y_true+rand(d,length(x))\n",
    "scatter(x,y_observed, label=\"Data\")\n",
    "plot!(x,y_true, label=\"y_true\")\n",
    "line_fit=Polynomials.fit(x,y_observed,10)\n",
    "fit_coeff=coeffs(line_fit)\n",
    "y_fitted=line_fit.(x_fit)\n",
    "plot!(x_fit,y_fitted, label=\"y_fitted\")"
   ]
  },
  {
   "cell_type": "markdown",
   "id": "bbcb4ef4",
   "metadata": {},
   "source": [
    "3. What do you observe in the plot? What is this phenomenon called?"
   ]
  },
  {
   "cell_type": "markdown",
   "id": "49a085b1",
   "metadata": {},
   "source": [
    "I observe the y_fitted matching the y_true more closely but is going up and down more. The polynomial may match this data but will not be able to predict future data. The phenomena is called overfitting."
   ]
  }
 ],
 "metadata": {
  "kernelspec": {
   "display_name": "Julia 1.8.5",
   "language": "julia",
   "name": "julia-1.8"
  },
  "language_info": {
   "file_extension": ".jl",
   "mimetype": "application/julia",
   "name": "julia",
   "version": "1.8.5"
  }
 },
 "nbformat": 4,
 "nbformat_minor": 5
}
