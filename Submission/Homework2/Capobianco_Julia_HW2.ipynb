{
 "cells": [
  {
   "cell_type": "markdown",
   "id": "0ce4edbf",
   "metadata": {},
   "source": [
    "<h1>HW2</h1>"
   ]
  },
  {
   "cell_type": "markdown",
   "id": "2e321dc4",
   "metadata": {},
   "source": [
    "#### Bayes' theorem:\n",
    "\\begin{equation*}\n",
    "P(A|B) = \\frac{P(B|A)P(A)}{P(B)} \\\\\n",
    "P(A|B): Posteior \\\\\n",
    "P(B|A): Likelihood \\\\\n",
    "P(A): Prior \\\\\n",
    "P(B): Marginal Probability \\\\\n",
    "\\end{equation*}"
   ]
  },
  {
   "cell_type": "markdown",
   "id": "1b6c2102",
   "metadata": {},
   "source": [
    "# Question 1\n",
    "### Read the following example and complete the exercises \n",
    "\n",
    "You are at the age of 21 and curious about if drinking alcohol would cause liver disease. You contacted a clinic site and got the following information.\n",
    "\n",
    "1. Past data tells you that 10% of patients entering the clinic have liver disease (**Prior**). \n",
    "\n",
    "2. Five percent of the clinic’s patients are alcoholics (**Marginal Probability**). \n",
    "\n",
    "3. Among the patients diagnosed with liver disease, 15% are alcoholics (**Likelihood**). \n",
    "\n",
    "Now you wonder what is the probability of a patient from the clinic have liver disease given that the patient is alcoholic (**Posterior**)"
   ]
  },
  {
   "cell_type": "markdown",
   "id": "e0c81ddf",
   "metadata": {},
   "source": [
    "### 1.1 \n",
    "\n",
    "#### If A represents the event of being an alcoholic patient in the clinic and L represents the event of being a patient with liver disease in the clinic, write the bayesian representation (P(A|B)) in the following cells\n"
   ]
  },
  {
   "cell_type": "markdown",
   "id": "90ef64bb",
   "metadata": {},
   "source": [
    "Posteria = (P(L|A)) = ((P(A|L)*P(L))/(P(A))"
   ]
  },
  {
   "cell_type": "markdown",
   "id": "658c4c0e",
   "metadata": {},
   "source": [
    "Prior = P(A)"
   ]
  },
  {
   "cell_type": "markdown",
   "id": "e5f1f140",
   "metadata": {},
   "source": [
    "Likelihood = P(B|A)"
   ]
  },
  {
   "cell_type": "markdown",
   "id": "ce4bee50",
   "metadata": {},
   "source": [
    "Marginal Probability = P(B)"
   ]
  },
  {
   "cell_type": "markdown",
   "id": "572cc5a7",
   "metadata": {},
   "source": [
    "### 1.2 \n",
    "\n",
    "#### Define all the information available and calculate the posteria probbability"
   ]
  },
  {
   "cell_type": "code",
   "execution_count": 4,
   "id": "fa180ac4",
   "metadata": {},
   "outputs": [
    {
     "data": {
      "text/plain": [
       "0.3"
      ]
     },
     "execution_count": 4,
     "metadata": {},
     "output_type": "execute_result"
    }
   ],
   "source": [
    "marginal_prob = 0.05\n",
    "prior = .10\n",
    "likelihood= 0.15\n",
    "posteria=(likelihood*prior)/(marginal_prob)"
   ]
  },
  {
   "cell_type": "markdown",
   "id": "ddce1bb4",
   "metadata": {},
   "source": [
    "# Question 2\n",
    "### Read the following example and complete the exercises \n",
    "Shown by a <a href=\"https://pubmed.ncbi.nlm.nih.gov/34242764/#:~:text=The%20overall%20sensitivity%20of%20the,%25%20CI%2024.4%2D65.1\">reaserch study</a>, the rapid antigen test for Covid has a sensitivity of 65.3% and a specificity of 99.9%. Assume 1% people have Covid. If randomly select a person and he/she tests positive using the rapid antigen test, what is the probability the person has Covid (posterior)."
   ]
  },
  {
   "cell_type": "markdown",
   "id": "1f01074b",
   "metadata": {},
   "source": [
    "### 2.1 \n",
    "\n",
    "#### The probability of which event is considered marginal probability in this case? Define it in the first cell below and calculate it in the second cell below"
   ]
  },
  {
   "cell_type": "markdown",
   "id": "fc0ce8a8",
   "metadata": {},
   "source": [
    "The event is: Receiving positive antigen test"
   ]
  },
  {
   "cell_type": "code",
   "execution_count": 30,
   "id": "9514d479",
   "metadata": {},
   "outputs": [
    {
     "data": {
      "text/plain": [
       "0.007529"
      ]
     },
     "execution_count": 30,
     "metadata": {},
     "output_type": "execute_result"
    }
   ],
   "source": [
    "# P(positive test| COVID) = 0.653\n",
    "# P(Covid)= 0.01\n",
    "# P(positive test| -COVID) = 0.001\n",
    "# P(-COVID) = 0.999\n",
    "\n",
    "#P(test positive) = marginal_prob = ? , solved below\n",
    "marginal_prob = (.653*0.01)+(0.001*0.999)"
   ]
  },
  {
   "cell_type": "markdown",
   "id": "cbb30a58",
   "metadata": {},
   "source": [
    "### 2.2 \n",
    "\n",
    "#### Define all the information and calculate the probability the randomly selected person has Covid"
   ]
  },
  {
   "cell_type": "code",
   "execution_count": 31,
   "id": "1af37a23",
   "metadata": {},
   "outputs": [
    {
     "data": {
      "text/plain": [
       "0.86731305618276"
      ]
     },
     "execution_count": 31,
     "metadata": {},
     "output_type": "execute_result"
    }
   ],
   "source": [
    "# marginal probability: probability of receiving a positive antigen test\n",
    "marginal_prob = 0.007529\n",
    "\n",
    "# P(Covid) = 0.01\n",
    "prior = 0.01\n",
    "\n",
    "# P(test positive | COVID) = likelihood = .653\n",
    "likelihood = 0.653\n",
    "\n",
    "# Have covid given positive test\n",
    "posteria=(likelihood*prior)/(marginal_prob)"
   ]
  },
  {
   "cell_type": "markdown",
   "id": "13c0b486",
   "metadata": {},
   "source": [
    "# Question 3\n",
    "### <a href=\"https://juliastats.org/Distributions.jl/stable/starting/\">This page</a> is the documentation for Distribution.jl and complete the exercies"
   ]
  },
  {
   "cell_type": "markdown",
   "id": "8a852a4a",
   "metadata": {},
   "source": [
    "### 3.1 \n",
    "\n",
    "#### Randomly draw 1000 samples from a normal distribution with mean = 5 and std = 2"
   ]
  },
  {
   "cell_type": "code",
   "execution_count": 13,
   "id": "a1539748",
   "metadata": {},
   "outputs": [
    {
     "data": {
      "text/plain": [
       "1000-element Vector{Float64}:\n",
       " -0.4187056889174112\n",
       "  1.3945847056269756\n",
       " -0.23843310715943303\n",
       " -0.024561783229949192\n",
       "  1.1265346329072201\n",
       "  0.011622867145823973\n",
       " -1.6608864431123662\n",
       "  0.3372558723569522\n",
       "  1.3227876173878859\n",
       "  0.179927532072682\n",
       " -0.15919812804470515\n",
       "  1.0368546087997697\n",
       "  0.5499321370683884\n",
       "  ⋮\n",
       " -1.7465119830374027\n",
       "  0.144297536934753\n",
       " -0.8920515453300059\n",
       " -0.4429698069025151\n",
       "  1.339964596682235\n",
       "  0.13859998308657048\n",
       "  0.5468528338737475\n",
       " -1.3213516544417196\n",
       " -0.8565158766671984\n",
       "  0.18237155571299452\n",
       "  0.8310082292965367\n",
       " -0.5121393236104786"
      ]
     },
     "execution_count": 13,
     "metadata": {},
     "output_type": "execute_result"
    }
   ],
   "source": [
    "using Random, Distributions, Plots\n",
    "d = Normal()\n",
    "Normal(5.0,2.0)\n",
    "x = rand(d,1000)"
   ]
  },
  {
   "cell_type": "markdown",
   "id": "0b89952d",
   "metadata": {},
   "source": [
    "### 3.2\n",
    "\n",
    "#### Plot  the distribution above in a histogram"
   ]
  },
  {
   "cell_type": "code",
   "execution_count": 27,
   "id": "677ef750",
   "metadata": {},
   "outputs": [
    {
     "data": {
      "image/svg+xml": [
       "<?xml version=\"1.0\" encoding=\"utf-8\"?>\n",
       "<svg xmlns=\"http://www.w3.org/2000/svg\" xmlns:xlink=\"http://www.w3.org/1999/xlink\" width=\"600\" height=\"400\" viewBox=\"0 0 2400 1600\">\n",
       "<defs>\n",
       "  <clipPath id=\"clip010\">\n",
       "    <rect x=\"0\" y=\"0\" width=\"2400\" height=\"1600\"/>\n",
       "  </clipPath>\n",
       "</defs>\n",
       "<path clip-path=\"url(#clip010)\" d=\"M0 1600 L2400 1600 L2400 0 L0 0  Z\" fill=\"#ffffff\" fill-rule=\"evenodd\" fill-opacity=\"1\"/>\n",
       "<defs>\n",
       "  <clipPath id=\"clip011\">\n",
       "    <rect x=\"480\" y=\"0\" width=\"1681\" height=\"1600\"/>\n",
       "  </clipPath>\n",
       "</defs>\n",
       "<path clip-path=\"url(#clip010)\" d=\"M169.121 1486.45 L2352.76 1486.45 L2352.76 47.2441 L169.121 47.2441  Z\" fill=\"#ffffff\" fill-rule=\"evenodd\" fill-opacity=\"1\"/>\n",
       "<defs>\n",
       "  <clipPath id=\"clip012\">\n",
       "    <rect x=\"169\" y=\"47\" width=\"2185\" height=\"1440\"/>\n",
       "  </clipPath>\n",
       "</defs>\n",
       "<polyline clip-path=\"url(#clip012)\" style=\"stroke:#000000; stroke-linecap:round; stroke-linejoin:round; stroke-width:2; stroke-opacity:0.1; fill:none\" points=\"289.225,1486.45 289.225,47.2441 \"/>\n",
       "<polyline clip-path=\"url(#clip012)\" style=\"stroke:#000000; stroke-linecap:round; stroke-linejoin:round; stroke-width:2; stroke-opacity:0.1; fill:none\" points=\"721.098,1486.45 721.098,47.2441 \"/>\n",
       "<polyline clip-path=\"url(#clip012)\" style=\"stroke:#000000; stroke-linecap:round; stroke-linejoin:round; stroke-width:2; stroke-opacity:0.1; fill:none\" points=\"1152.97,1486.45 1152.97,47.2441 \"/>\n",
       "<polyline clip-path=\"url(#clip012)\" style=\"stroke:#000000; stroke-linecap:round; stroke-linejoin:round; stroke-width:2; stroke-opacity:0.1; fill:none\" points=\"1584.84,1486.45 1584.84,47.2441 \"/>\n",
       "<polyline clip-path=\"url(#clip012)\" style=\"stroke:#000000; stroke-linecap:round; stroke-linejoin:round; stroke-width:2; stroke-opacity:0.1; fill:none\" points=\"2016.72,1486.45 2016.72,47.2441 \"/>\n",
       "<polyline clip-path=\"url(#clip010)\" style=\"stroke:#000000; stroke-linecap:round; stroke-linejoin:round; stroke-width:4; stroke-opacity:1; fill:none\" points=\"169.121,1486.45 2352.76,1486.45 \"/>\n",
       "<polyline clip-path=\"url(#clip010)\" style=\"stroke:#000000; stroke-linecap:round; stroke-linejoin:round; stroke-width:4; stroke-opacity:1; fill:none\" points=\"289.225,1486.45 289.225,1467.55 \"/>\n",
       "<polyline clip-path=\"url(#clip010)\" style=\"stroke:#000000; stroke-linecap:round; stroke-linejoin:round; stroke-width:4; stroke-opacity:1; fill:none\" points=\"721.098,1486.45 721.098,1467.55 \"/>\n",
       "<polyline clip-path=\"url(#clip010)\" style=\"stroke:#000000; stroke-linecap:round; stroke-linejoin:round; stroke-width:4; stroke-opacity:1; fill:none\" points=\"1152.97,1486.45 1152.97,1467.55 \"/>\n",
       "<polyline clip-path=\"url(#clip010)\" style=\"stroke:#000000; stroke-linecap:round; stroke-linejoin:round; stroke-width:4; stroke-opacity:1; fill:none\" points=\"1584.84,1486.45 1584.84,1467.55 \"/>\n",
       "<polyline clip-path=\"url(#clip010)\" style=\"stroke:#000000; stroke-linecap:round; stroke-linejoin:round; stroke-width:4; stroke-opacity:1; fill:none\" points=\"2016.72,1486.45 2016.72,1467.55 \"/>\n",
       "<path clip-path=\"url(#clip010)\" d=\"M258.126 1532.02 L287.802 1532.02 L287.802 1535.95 L258.126 1535.95 L258.126 1532.02 Z\" fill=\"#000000\" fill-rule=\"evenodd\" fill-opacity=\"1\" /><path clip-path=\"url(#clip010)\" d=\"M310.741 1518.36 L298.936 1536.81 L310.741 1536.81 L310.741 1518.36 M309.514 1514.29 L315.394 1514.29 L315.394 1536.81 L320.324 1536.81 L320.324 1540.7 L315.394 1540.7 L315.394 1548.85 L310.741 1548.85 L310.741 1540.7 L295.139 1540.7 L295.139 1536.19 L309.514 1514.29 Z\" fill=\"#000000\" fill-rule=\"evenodd\" fill-opacity=\"1\" /><path clip-path=\"url(#clip010)\" d=\"M691.04 1532.02 L720.716 1532.02 L720.716 1535.95 L691.04 1535.95 L691.04 1532.02 Z\" fill=\"#000000\" fill-rule=\"evenodd\" fill-opacity=\"1\" /><path clip-path=\"url(#clip010)\" d=\"M734.836 1544.91 L751.155 1544.91 L751.155 1548.85 L729.211 1548.85 L729.211 1544.91 Q731.873 1542.16 736.456 1537.53 Q741.063 1532.88 742.243 1531.53 Q744.489 1529.01 745.368 1527.27 Q746.271 1525.51 746.271 1523.82 Q746.271 1521.07 744.327 1519.33 Q742.406 1517.6 739.304 1517.6 Q737.105 1517.6 734.651 1518.36 Q732.22 1519.13 729.443 1520.68 L729.443 1515.95 Q732.267 1514.82 734.72 1514.24 Q737.174 1513.66 739.211 1513.66 Q744.581 1513.66 747.776 1516.35 Q750.97 1519.03 750.97 1523.52 Q750.97 1525.65 750.16 1527.57 Q749.373 1529.47 747.267 1532.07 Q746.688 1532.74 743.586 1535.95 Q740.484 1539.15 734.836 1544.91 Z\" fill=\"#000000\" fill-rule=\"evenodd\" fill-opacity=\"1\" /><path clip-path=\"url(#clip010)\" d=\"M1152.97 1517.37 Q1149.36 1517.37 1147.53 1520.93 Q1145.73 1524.47 1145.73 1531.6 Q1145.73 1538.71 1147.53 1542.27 Q1149.36 1545.82 1152.97 1545.82 Q1156.6 1545.82 1158.41 1542.27 Q1160.24 1538.71 1160.24 1531.6 Q1160.24 1524.47 1158.41 1520.93 Q1156.6 1517.37 1152.97 1517.37 M1152.97 1513.66 Q1158.78 1513.66 1161.84 1518.27 Q1164.91 1522.85 1164.91 1531.6 Q1164.91 1540.33 1161.84 1544.94 Q1158.78 1549.52 1152.97 1549.52 Q1147.16 1549.52 1144.08 1544.94 Q1141.03 1540.33 1141.03 1531.6 Q1141.03 1522.85 1144.08 1518.27 Q1147.16 1513.66 1152.97 1513.66 Z\" fill=\"#000000\" fill-rule=\"evenodd\" fill-opacity=\"1\" /><path clip-path=\"url(#clip010)\" d=\"M1579.5 1544.91 L1595.82 1544.91 L1595.82 1548.85 L1573.87 1548.85 L1573.87 1544.91 Q1576.53 1542.16 1581.12 1537.53 Q1585.72 1532.88 1586.9 1531.53 Q1589.15 1529.01 1590.03 1527.27 Q1590.93 1525.51 1590.93 1523.82 Q1590.93 1521.07 1588.99 1519.33 Q1587.07 1517.6 1583.96 1517.6 Q1581.76 1517.6 1579.31 1518.36 Q1576.88 1519.13 1574.1 1520.68 L1574.1 1515.95 Q1576.93 1514.82 1579.38 1514.24 Q1581.83 1513.66 1583.87 1513.66 Q1589.24 1513.66 1592.44 1516.35 Q1595.63 1519.03 1595.63 1523.52 Q1595.63 1525.65 1594.82 1527.57 Q1594.03 1529.47 1591.93 1532.07 Q1591.35 1532.74 1588.25 1535.95 Q1585.14 1539.15 1579.5 1544.91 Z\" fill=\"#000000\" fill-rule=\"evenodd\" fill-opacity=\"1\" /><path clip-path=\"url(#clip010)\" d=\"M2019.73 1518.36 L2007.92 1536.81 L2019.73 1536.81 L2019.73 1518.36 M2018.5 1514.29 L2024.38 1514.29 L2024.38 1536.81 L2029.31 1536.81 L2029.31 1540.7 L2024.38 1540.7 L2024.38 1548.85 L2019.73 1548.85 L2019.73 1540.7 L2004.12 1540.7 L2004.12 1536.19 L2018.5 1514.29 Z\" fill=\"#000000\" fill-rule=\"evenodd\" fill-opacity=\"1\" /><polyline clip-path=\"url(#clip012)\" style=\"stroke:#000000; stroke-linecap:round; stroke-linejoin:round; stroke-width:2; stroke-opacity:0.1; fill:none\" points=\"169.121,1445.72 2352.76,1445.72 \"/>\n",
       "<polyline clip-path=\"url(#clip012)\" style=\"stroke:#000000; stroke-linecap:round; stroke-linejoin:round; stroke-width:2; stroke-opacity:0.1; fill:none\" points=\"169.121,1084.61 2352.76,1084.61 \"/>\n",
       "<polyline clip-path=\"url(#clip012)\" style=\"stroke:#000000; stroke-linecap:round; stroke-linejoin:round; stroke-width:2; stroke-opacity:0.1; fill:none\" points=\"169.121,723.514 2352.76,723.514 \"/>\n",
       "<polyline clip-path=\"url(#clip012)\" style=\"stroke:#000000; stroke-linecap:round; stroke-linejoin:round; stroke-width:2; stroke-opacity:0.1; fill:none\" points=\"169.121,362.413 2352.76,362.413 \"/>\n",
       "<polyline clip-path=\"url(#clip010)\" style=\"stroke:#000000; stroke-linecap:round; stroke-linejoin:round; stroke-width:4; stroke-opacity:1; fill:none\" points=\"169.121,1486.45 169.121,47.2441 \"/>\n",
       "<polyline clip-path=\"url(#clip010)\" style=\"stroke:#000000; stroke-linecap:round; stroke-linejoin:round; stroke-width:4; stroke-opacity:1; fill:none\" points=\"169.121,1445.72 188.019,1445.72 \"/>\n",
       "<polyline clip-path=\"url(#clip010)\" style=\"stroke:#000000; stroke-linecap:round; stroke-linejoin:round; stroke-width:4; stroke-opacity:1; fill:none\" points=\"169.121,1084.61 188.019,1084.61 \"/>\n",
       "<polyline clip-path=\"url(#clip010)\" style=\"stroke:#000000; stroke-linecap:round; stroke-linejoin:round; stroke-width:4; stroke-opacity:1; fill:none\" points=\"169.121,723.514 188.019,723.514 \"/>\n",
       "<polyline clip-path=\"url(#clip010)\" style=\"stroke:#000000; stroke-linecap:round; stroke-linejoin:round; stroke-width:4; stroke-opacity:1; fill:none\" points=\"169.121,362.413 188.019,362.413 \"/>\n",
       "<path clip-path=\"url(#clip010)\" d=\"M121.177 1431.51 Q117.566 1431.51 115.737 1435.08 Q113.932 1438.62 113.932 1445.75 Q113.932 1452.86 115.737 1456.42 Q117.566 1459.96 121.177 1459.96 Q124.811 1459.96 126.617 1456.42 Q128.445 1452.86 128.445 1445.75 Q128.445 1438.62 126.617 1435.08 Q124.811 1431.51 121.177 1431.51 M121.177 1427.81 Q126.987 1427.81 130.043 1432.42 Q133.121 1437 133.121 1445.75 Q133.121 1454.48 130.043 1459.08 Q126.987 1463.67 121.177 1463.67 Q115.367 1463.67 112.288 1459.08 Q109.233 1454.48 109.233 1445.75 Q109.233 1437 112.288 1432.42 Q115.367 1427.81 121.177 1427.81 Z\" fill=\"#000000\" fill-rule=\"evenodd\" fill-opacity=\"1\" /><path clip-path=\"url(#clip010)\" d=\"M81.0614 1067.33 L99.4178 1067.33 L99.4178 1071.27 L85.3438 1071.27 L85.3438 1079.74 Q86.3623 1079.39 87.3808 1079.23 Q88.3993 1079.05 89.4178 1079.05 Q95.2049 1079.05 98.5845 1082.22 Q101.964 1085.39 101.964 1090.81 Q101.964 1096.39 98.4919 1099.49 Q95.0197 1102.57 88.7003 1102.57 Q86.5243 1102.57 84.2558 1102.2 Q82.0105 1101.83 79.6031 1101.08 L79.6031 1096.39 Q81.6864 1097.52 83.9086 1098.08 Q86.1308 1098.63 88.6077 1098.63 Q92.6123 1098.63 94.9502 1096.52 Q97.2882 1094.42 97.2882 1090.81 Q97.2882 1087.2 94.9502 1085.09 Q92.6123 1082.98 88.6077 1082.98 Q86.7327 1082.98 84.8577 1083.4 Q83.0058 1083.82 81.0614 1084.7 L81.0614 1067.33 Z\" fill=\"#000000\" fill-rule=\"evenodd\" fill-opacity=\"1\" /><path clip-path=\"url(#clip010)\" d=\"M121.177 1070.41 Q117.566 1070.41 115.737 1073.98 Q113.932 1077.52 113.932 1084.65 Q113.932 1091.76 115.737 1095.32 Q117.566 1098.86 121.177 1098.86 Q124.811 1098.86 126.617 1095.32 Q128.445 1091.76 128.445 1084.65 Q128.445 1077.52 126.617 1073.98 Q124.811 1070.41 121.177 1070.41 M121.177 1066.71 Q126.987 1066.71 130.043 1071.32 Q133.121 1075.9 133.121 1084.65 Q133.121 1093.38 130.043 1097.98 Q126.987 1102.57 121.177 1102.57 Q115.367 1102.57 112.288 1097.98 Q109.233 1093.38 109.233 1084.65 Q109.233 1075.9 112.288 1071.32 Q115.367 1066.71 121.177 1066.71 Z\" fill=\"#000000\" fill-rule=\"evenodd\" fill-opacity=\"1\" /><path clip-path=\"url(#clip010)\" d=\"M51.6634 736.859 L59.3023 736.859 L59.3023 710.493 L50.9921 712.16 L50.9921 707.901 L59.256 706.234 L63.9319 706.234 L63.9319 736.859 L71.5707 736.859 L71.5707 740.794 L51.6634 740.794 L51.6634 736.859 Z\" fill=\"#000000\" fill-rule=\"evenodd\" fill-opacity=\"1\" /><path clip-path=\"url(#clip010)\" d=\"M91.0151 709.313 Q87.404 709.313 85.5753 712.877 Q83.7697 716.419 83.7697 723.549 Q83.7697 730.655 85.5753 734.22 Q87.404 737.761 91.0151 737.761 Q94.6493 737.761 96.4548 734.22 Q98.2835 730.655 98.2835 723.549 Q98.2835 716.419 96.4548 712.877 Q94.6493 709.313 91.0151 709.313 M91.0151 705.609 Q96.8252 705.609 99.8808 710.215 Q102.959 714.799 102.959 723.549 Q102.959 732.275 99.8808 736.882 Q96.8252 741.465 91.0151 741.465 Q85.2049 741.465 82.1262 736.882 Q79.0707 732.275 79.0707 723.549 Q79.0707 714.799 82.1262 710.215 Q85.2049 705.609 91.0151 705.609 Z\" fill=\"#000000\" fill-rule=\"evenodd\" fill-opacity=\"1\" /><path clip-path=\"url(#clip010)\" d=\"M121.177 709.313 Q117.566 709.313 115.737 712.877 Q113.932 716.419 113.932 723.549 Q113.932 730.655 115.737 734.22 Q117.566 737.761 121.177 737.761 Q124.811 737.761 126.617 734.22 Q128.445 730.655 128.445 723.549 Q128.445 716.419 126.617 712.877 Q124.811 709.313 121.177 709.313 M121.177 705.609 Q126.987 705.609 130.043 710.215 Q133.121 714.799 133.121 723.549 Q133.121 732.275 130.043 736.882 Q126.987 741.465 121.177 741.465 Q115.367 741.465 112.288 736.882 Q109.233 732.275 109.233 723.549 Q109.233 714.799 112.288 710.215 Q115.367 705.609 121.177 705.609 Z\" fill=\"#000000\" fill-rule=\"evenodd\" fill-opacity=\"1\" /><path clip-path=\"url(#clip010)\" d=\"M51.6634 375.758 L59.3023 375.758 L59.3023 349.392 L50.9921 351.059 L50.9921 346.8 L59.256 345.133 L63.9319 345.133 L63.9319 375.758 L71.5707 375.758 L71.5707 379.693 L51.6634 379.693 L51.6634 375.758 Z\" fill=\"#000000\" fill-rule=\"evenodd\" fill-opacity=\"1\" /><path clip-path=\"url(#clip010)\" d=\"M81.0614 345.133 L99.4178 345.133 L99.4178 349.068 L85.3438 349.068 L85.3438 357.54 Q86.3623 357.193 87.3808 357.031 Q88.3993 356.846 89.4178 356.846 Q95.2049 356.846 98.5845 360.017 Q101.964 363.188 101.964 368.605 Q101.964 374.184 98.4919 377.286 Q95.0197 380.364 88.7003 380.364 Q86.5243 380.364 84.2558 379.994 Q82.0105 379.624 79.6031 378.883 L79.6031 374.184 Q81.6864 375.318 83.9086 375.874 Q86.1308 376.429 88.6077 376.429 Q92.6123 376.429 94.9502 374.323 Q97.2882 372.216 97.2882 368.605 Q97.2882 364.994 94.9502 362.888 Q92.6123 360.781 88.6077 360.781 Q86.7327 360.781 84.8577 361.198 Q83.0058 361.614 81.0614 362.494 L81.0614 345.133 Z\" fill=\"#000000\" fill-rule=\"evenodd\" fill-opacity=\"1\" /><path clip-path=\"url(#clip010)\" d=\"M121.177 348.212 Q117.566 348.212 115.737 351.776 Q113.932 355.318 113.932 362.448 Q113.932 369.554 115.737 373.119 Q117.566 376.661 121.177 376.661 Q124.811 376.661 126.617 373.119 Q128.445 369.554 128.445 362.448 Q128.445 355.318 126.617 351.776 Q124.811 348.212 121.177 348.212 M121.177 344.508 Q126.987 344.508 130.043 349.114 Q133.121 353.698 133.121 362.448 Q133.121 371.174 130.043 375.781 Q126.987 380.364 121.177 380.364 Q115.367 380.364 112.288 375.781 Q109.233 371.174 109.233 362.448 Q109.233 353.698 112.288 349.114 Q115.367 344.508 121.177 344.508 Z\" fill=\"#000000\" fill-rule=\"evenodd\" fill-opacity=\"1\" /><path clip-path=\"url(#clip012)\" d=\"M289.225 1438.49 L289.225 1445.72 L397.193 1445.72 L397.193 1438.49 L289.225 1438.49 L289.225 1438.49  Z\" fill=\"#009af9\" fill-rule=\"evenodd\" fill-opacity=\"1\"/>\n",
       "<polyline clip-path=\"url(#clip012)\" style=\"stroke:#000000; stroke-linecap:round; stroke-linejoin:round; stroke-width:4; stroke-opacity:1; fill:none\" points=\"289.225,1438.49 289.225,1445.72 397.193,1445.72 397.193,1438.49 289.225,1438.49 \"/>\n",
       "<path clip-path=\"url(#clip012)\" d=\"M397.193 1438.49 L397.193 1445.72 L505.161 1445.72 L505.161 1438.49 L397.193 1438.49 L397.193 1438.49  Z\" fill=\"#009af9\" fill-rule=\"evenodd\" fill-opacity=\"1\"/>\n",
       "<polyline clip-path=\"url(#clip012)\" style=\"stroke:#000000; stroke-linecap:round; stroke-linejoin:round; stroke-width:4; stroke-opacity:1; fill:none\" points=\"397.193,1438.49 397.193,1445.72 505.161,1445.72 505.161,1438.49 397.193,1438.49 \"/>\n",
       "<path clip-path=\"url(#clip012)\" d=\"M505.161 1409.61 L505.161 1445.72 L613.13 1445.72 L613.13 1409.61 L505.161 1409.61 L505.161 1409.61  Z\" fill=\"#009af9\" fill-rule=\"evenodd\" fill-opacity=\"1\"/>\n",
       "<polyline clip-path=\"url(#clip012)\" style=\"stroke:#000000; stroke-linecap:round; stroke-linejoin:round; stroke-width:4; stroke-opacity:1; fill:none\" points=\"505.161,1409.61 505.161,1445.72 613.13,1445.72 613.13,1409.61 505.161,1409.61 \"/>\n",
       "<path clip-path=\"url(#clip012)\" d=\"M613.13 1337.39 L613.13 1445.72 L721.098 1445.72 L721.098 1337.39 L613.13 1337.39 L613.13 1337.39  Z\" fill=\"#009af9\" fill-rule=\"evenodd\" fill-opacity=\"1\"/>\n",
       "<polyline clip-path=\"url(#clip012)\" style=\"stroke:#000000; stroke-linecap:round; stroke-linejoin:round; stroke-width:4; stroke-opacity:1; fill:none\" points=\"613.13,1337.39 613.13,1445.72 721.098,1445.72 721.098,1337.39 613.13,1337.39 \"/>\n",
       "<path clip-path=\"url(#clip012)\" d=\"M721.098 1113.5 L721.098 1445.72 L829.066 1445.72 L829.066 1113.5 L721.098 1113.5 L721.098 1113.5  Z\" fill=\"#009af9\" fill-rule=\"evenodd\" fill-opacity=\"1\"/>\n",
       "<polyline clip-path=\"url(#clip012)\" style=\"stroke:#000000; stroke-linecap:round; stroke-linejoin:round; stroke-width:4; stroke-opacity:1; fill:none\" points=\"721.098,1113.5 721.098,1445.72 829.066,1445.72 829.066,1113.5 721.098,1113.5 \"/>\n",
       "<path clip-path=\"url(#clip012)\" d=\"M829.066 774.068 L829.066 1445.72 L937.034 1445.72 L937.034 774.068 L829.066 774.068 L829.066 774.068  Z\" fill=\"#009af9\" fill-rule=\"evenodd\" fill-opacity=\"1\"/>\n",
       "<polyline clip-path=\"url(#clip012)\" style=\"stroke:#000000; stroke-linecap:round; stroke-linejoin:round; stroke-width:4; stroke-opacity:1; fill:none\" points=\"829.066,774.068 829.066,1445.72 937.034,1445.72 937.034,774.068 829.066,774.068 \"/>\n",
       "<path clip-path=\"url(#clip012)\" d=\"M937.034 282.971 L937.034 1445.72 L1045 1445.72 L1045 282.971 L937.034 282.971 L937.034 282.971  Z\" fill=\"#009af9\" fill-rule=\"evenodd\" fill-opacity=\"1\"/>\n",
       "<polyline clip-path=\"url(#clip012)\" style=\"stroke:#000000; stroke-linecap:round; stroke-linejoin:round; stroke-width:4; stroke-opacity:1; fill:none\" points=\"937.034,282.971 937.034,1445.72 1045,1445.72 1045,282.971 937.034,282.971 \"/>\n",
       "<path clip-path=\"url(#clip012)\" d=\"M1045 152.974 L1045 1445.72 L1152.97 1445.72 L1152.97 152.974 L1045 152.974 L1045 152.974  Z\" fill=\"#009af9\" fill-rule=\"evenodd\" fill-opacity=\"1\"/>\n",
       "<polyline clip-path=\"url(#clip012)\" style=\"stroke:#000000; stroke-linecap:round; stroke-linejoin:round; stroke-width:4; stroke-opacity:1; fill:none\" points=\"1045,152.974 1045,1445.72 1152.97,1445.72 1152.97,152.974 1045,152.974 \"/>\n",
       "<path clip-path=\"url(#clip012)\" d=\"M1152.97 87.9763 L1152.97 1445.72 L1260.94 1445.72 L1260.94 87.9763 L1152.97 87.9763 L1152.97 87.9763  Z\" fill=\"#009af9\" fill-rule=\"evenodd\" fill-opacity=\"1\"/>\n",
       "<polyline clip-path=\"url(#clip012)\" style=\"stroke:#000000; stroke-linecap:round; stroke-linejoin:round; stroke-width:4; stroke-opacity:1; fill:none\" points=\"1152.97,87.9763 1152.97,1445.72 1260.94,1445.72 1260.94,87.9763 1152.97,87.9763 \"/>\n",
       "<path clip-path=\"url(#clip012)\" d=\"M1260.94 297.415 L1260.94 1445.72 L1368.91 1445.72 L1368.91 297.415 L1260.94 297.415 L1260.94 297.415  Z\" fill=\"#009af9\" fill-rule=\"evenodd\" fill-opacity=\"1\"/>\n",
       "<polyline clip-path=\"url(#clip012)\" style=\"stroke:#000000; stroke-linecap:round; stroke-linejoin:round; stroke-width:4; stroke-opacity:1; fill:none\" points=\"1260.94,297.415 1260.94,1445.72 1368.91,1445.72 1368.91,297.415 1260.94,297.415 \"/>\n",
       "<path clip-path=\"url(#clip012)\" d=\"M1368.91 802.956 L1368.91 1445.72 L1476.87 1445.72 L1476.87 802.956 L1368.91 802.956 L1368.91 802.956  Z\" fill=\"#009af9\" fill-rule=\"evenodd\" fill-opacity=\"1\"/>\n",
       "<polyline clip-path=\"url(#clip012)\" style=\"stroke:#000000; stroke-linecap:round; stroke-linejoin:round; stroke-width:4; stroke-opacity:1; fill:none\" points=\"1368.91,802.956 1368.91,1445.72 1476.87,1445.72 1476.87,802.956 1368.91,802.956 \"/>\n",
       "<path clip-path=\"url(#clip012)\" d=\"M1476.87 1149.61 L1476.87 1445.72 L1584.84 1445.72 L1584.84 1149.61 L1476.87 1149.61 L1476.87 1149.61  Z\" fill=\"#009af9\" fill-rule=\"evenodd\" fill-opacity=\"1\"/>\n",
       "<polyline clip-path=\"url(#clip012)\" style=\"stroke:#000000; stroke-linecap:round; stroke-linejoin:round; stroke-width:4; stroke-opacity:1; fill:none\" points=\"1476.87,1149.61 1476.87,1445.72 1584.84,1445.72 1584.84,1149.61 1476.87,1149.61 \"/>\n",
       "<path clip-path=\"url(#clip012)\" d=\"M1584.84 1330.16 L1584.84 1445.72 L1692.81 1445.72 L1692.81 1330.16 L1584.84 1330.16 L1584.84 1330.16  Z\" fill=\"#009af9\" fill-rule=\"evenodd\" fill-opacity=\"1\"/>\n",
       "<polyline clip-path=\"url(#clip012)\" style=\"stroke:#000000; stroke-linecap:round; stroke-linejoin:round; stroke-width:4; stroke-opacity:1; fill:none\" points=\"1584.84,1330.16 1584.84,1445.72 1692.81,1445.72 1692.81,1330.16 1584.84,1330.16 \"/>\n",
       "<path clip-path=\"url(#clip012)\" d=\"M1692.81 1416.83 L1692.81 1445.72 L1800.78 1445.72 L1800.78 1416.83 L1692.81 1416.83 L1692.81 1416.83  Z\" fill=\"#009af9\" fill-rule=\"evenodd\" fill-opacity=\"1\"/>\n",
       "<polyline clip-path=\"url(#clip012)\" style=\"stroke:#000000; stroke-linecap:round; stroke-linejoin:round; stroke-width:4; stroke-opacity:1; fill:none\" points=\"1692.81,1416.83 1692.81,1445.72 1800.78,1445.72 1800.78,1416.83 1692.81,1416.83 \"/>\n",
       "<path clip-path=\"url(#clip012)\" d=\"M1800.78 1438.49 L1800.78 1445.72 L1908.75 1445.72 L1908.75 1438.49 L1800.78 1438.49 L1800.78 1438.49  Z\" fill=\"#009af9\" fill-rule=\"evenodd\" fill-opacity=\"1\"/>\n",
       "<polyline clip-path=\"url(#clip012)\" style=\"stroke:#000000; stroke-linecap:round; stroke-linejoin:round; stroke-width:4; stroke-opacity:1; fill:none\" points=\"1800.78,1438.49 1800.78,1445.72 1908.75,1445.72 1908.75,1438.49 1800.78,1438.49 \"/>\n",
       "<path clip-path=\"url(#clip012)\" d=\"M1908.75 1445.72 L1908.75 1445.72 L2016.72 1445.72 L2016.72 1445.72 L1908.75 1445.72 L1908.75 1445.72  Z\" fill=\"#009af9\" fill-rule=\"evenodd\" fill-opacity=\"1\"/>\n",
       "<polyline clip-path=\"url(#clip012)\" style=\"stroke:#000000; stroke-linecap:round; stroke-linejoin:round; stroke-width:4; stroke-opacity:1; fill:none\" points=\"1908.75,1445.72 1908.75,1445.72 2016.72,1445.72 1908.75,1445.72 \"/>\n",
       "<path clip-path=\"url(#clip012)\" d=\"M2016.72 1445.72 L2016.72 1445.72 L2124.68 1445.72 L2124.68 1445.72 L2016.72 1445.72 L2016.72 1445.72  Z\" fill=\"#009af9\" fill-rule=\"evenodd\" fill-opacity=\"1\"/>\n",
       "<polyline clip-path=\"url(#clip012)\" style=\"stroke:#000000; stroke-linecap:round; stroke-linejoin:round; stroke-width:4; stroke-opacity:1; fill:none\" points=\"2016.72,1445.72 2016.72,1445.72 2124.68,1445.72 2016.72,1445.72 \"/>\n",
       "<path clip-path=\"url(#clip012)\" d=\"M2124.68 1438.49 L2124.68 1445.72 L2232.65 1445.72 L2232.65 1438.49 L2124.68 1438.49 L2124.68 1438.49  Z\" fill=\"#009af9\" fill-rule=\"evenodd\" fill-opacity=\"1\"/>\n",
       "<polyline clip-path=\"url(#clip012)\" style=\"stroke:#000000; stroke-linecap:round; stroke-linejoin:round; stroke-width:4; stroke-opacity:1; fill:none\" points=\"2124.68,1438.49 2124.68,1445.72 2232.65,1445.72 2232.65,1438.49 2124.68,1438.49 \"/>\n",
       "<circle clip-path=\"url(#clip012)\" style=\"fill:#009af9; stroke:none; fill-opacity:0\" cx=\"343.209\" cy=\"1438.49\" r=\"2\"/>\n",
       "<circle clip-path=\"url(#clip012)\" style=\"fill:#009af9; stroke:none; fill-opacity:0\" cx=\"451.177\" cy=\"1438.49\" r=\"2\"/>\n",
       "<circle clip-path=\"url(#clip012)\" style=\"fill:#009af9; stroke:none; fill-opacity:0\" cx=\"559.146\" cy=\"1409.61\" r=\"2\"/>\n",
       "<circle clip-path=\"url(#clip012)\" style=\"fill:#009af9; stroke:none; fill-opacity:0\" cx=\"667.114\" cy=\"1337.39\" r=\"2\"/>\n",
       "<circle clip-path=\"url(#clip012)\" style=\"fill:#009af9; stroke:none; fill-opacity:0\" cx=\"775.082\" cy=\"1113.5\" r=\"2\"/>\n",
       "<circle clip-path=\"url(#clip012)\" style=\"fill:#009af9; stroke:none; fill-opacity:0\" cx=\"883.05\" cy=\"774.068\" r=\"2\"/>\n",
       "<circle clip-path=\"url(#clip012)\" style=\"fill:#009af9; stroke:none; fill-opacity:0\" cx=\"991.018\" cy=\"282.971\" r=\"2\"/>\n",
       "<circle clip-path=\"url(#clip012)\" style=\"fill:#009af9; stroke:none; fill-opacity:0\" cx=\"1098.99\" cy=\"152.974\" r=\"2\"/>\n",
       "<circle clip-path=\"url(#clip012)\" style=\"fill:#009af9; stroke:none; fill-opacity:0\" cx=\"1206.95\" cy=\"87.9763\" r=\"2\"/>\n",
       "<circle clip-path=\"url(#clip012)\" style=\"fill:#009af9; stroke:none; fill-opacity:0\" cx=\"1314.92\" cy=\"297.415\" r=\"2\"/>\n",
       "<circle clip-path=\"url(#clip012)\" style=\"fill:#009af9; stroke:none; fill-opacity:0\" cx=\"1422.89\" cy=\"802.956\" r=\"2\"/>\n",
       "<circle clip-path=\"url(#clip012)\" style=\"fill:#009af9; stroke:none; fill-opacity:0\" cx=\"1530.86\" cy=\"1149.61\" r=\"2\"/>\n",
       "<circle clip-path=\"url(#clip012)\" style=\"fill:#009af9; stroke:none; fill-opacity:0\" cx=\"1638.83\" cy=\"1330.16\" r=\"2\"/>\n",
       "<circle clip-path=\"url(#clip012)\" style=\"fill:#009af9; stroke:none; fill-opacity:0\" cx=\"1746.8\" cy=\"1416.83\" r=\"2\"/>\n",
       "<circle clip-path=\"url(#clip012)\" style=\"fill:#009af9; stroke:none; fill-opacity:0\" cx=\"1854.76\" cy=\"1438.49\" r=\"2\"/>\n",
       "<circle clip-path=\"url(#clip012)\" style=\"fill:#009af9; stroke:none; fill-opacity:0\" cx=\"1962.73\" cy=\"1445.72\" r=\"2\"/>\n",
       "<circle clip-path=\"url(#clip012)\" style=\"fill:#009af9; stroke:none; fill-opacity:0\" cx=\"2070.7\" cy=\"1445.72\" r=\"2\"/>\n",
       "<circle clip-path=\"url(#clip012)\" style=\"fill:#009af9; stroke:none; fill-opacity:0\" cx=\"2178.67\" cy=\"1438.49\" r=\"2\"/>\n",
       "<path clip-path=\"url(#clip010)\" d=\"M2009.17 198.898 L2279.97 198.898 L2279.97 95.2176 L2009.17 95.2176  Z\" fill=\"#ffffff\" fill-rule=\"evenodd\" fill-opacity=\"1\"/>\n",
       "<polyline clip-path=\"url(#clip010)\" style=\"stroke:#000000; stroke-linecap:round; stroke-linejoin:round; stroke-width:4; stroke-opacity:1; fill:none\" points=\"2009.17,198.898 2279.97,198.898 2279.97,95.2176 2009.17,95.2176 2009.17,198.898 \"/>\n",
       "<path clip-path=\"url(#clip010)\" d=\"M2033.44 167.794 L2179.01 167.794 L2179.01 126.322 L2033.44 126.322 L2033.44 167.794  Z\" fill=\"#009af9\" fill-rule=\"evenodd\" fill-opacity=\"1\"/>\n",
       "<polyline clip-path=\"url(#clip010)\" style=\"stroke:#000000; stroke-linecap:round; stroke-linejoin:round; stroke-width:4; stroke-opacity:1; fill:none\" points=\"2033.44,167.794 2179.01,167.794 2179.01,126.322 2033.44,126.322 2033.44,167.794 \"/>\n",
       "<path clip-path=\"url(#clip010)\" d=\"M2217.12 166.745 Q2215.31 171.375 2213.6 172.787 Q2211.89 174.199 2209.02 174.199 L2205.61 174.199 L2205.61 170.634 L2208.11 170.634 Q2209.87 170.634 2210.84 169.8 Q2211.82 168.967 2213 165.865 L2213.76 163.921 L2203.28 138.412 L2207.79 138.412 L2215.89 158.689 L2223.99 138.412 L2228.51 138.412 L2217.12 166.745 Z\" fill=\"#000000\" fill-rule=\"evenodd\" fill-opacity=\"1\" /><path clip-path=\"url(#clip010)\" d=\"M2235.8 160.402 L2243.44 160.402 L2243.44 134.037 L2235.13 135.703 L2235.13 131.444 L2243.39 129.778 L2248.07 129.778 L2248.07 160.402 L2255.71 160.402 L2255.71 164.338 L2235.8 164.338 L2235.8 160.402 Z\" fill=\"#000000\" fill-rule=\"evenodd\" fill-opacity=\"1\" /></svg>\n"
      ]
     },
     "execution_count": 27,
     "metadata": {},
     "output_type": "execute_result"
    }
   ],
   "source": [
    "histogram(x)"
   ]
  },
  {
   "cell_type": "markdown",
   "id": "acf09989",
   "metadata": {},
   "source": [
    "### 3.3\n",
    "\n",
    "#### Plot  the same distribution and change the bins to 50"
   ]
  },
  {
   "cell_type": "code",
   "execution_count": 26,
   "id": "f640420a",
   "metadata": {},
   "outputs": [
    {
     "data": {
      "image/svg+xml": [
       "<?xml version=\"1.0\" encoding=\"utf-8\"?>\n",
       "<svg xmlns=\"http://www.w3.org/2000/svg\" xmlns:xlink=\"http://www.w3.org/1999/xlink\" width=\"600\" height=\"400\" viewBox=\"0 0 2400 1600\">\n",
       "<defs>\n",
       "  <clipPath id=\"clip970\">\n",
       "    <rect x=\"0\" y=\"0\" width=\"2400\" height=\"1600\"/>\n",
       "  </clipPath>\n",
       "</defs>\n",
       "<path clip-path=\"url(#clip970)\" d=\"M0 1600 L2400 1600 L2400 0 L0 0  Z\" fill=\"#ffffff\" fill-rule=\"evenodd\" fill-opacity=\"1\"/>\n",
       "<defs>\n",
       "  <clipPath id=\"clip971\">\n",
       "    <rect x=\"480\" y=\"0\" width=\"1681\" height=\"1600\"/>\n",
       "  </clipPath>\n",
       "</defs>\n",
       "<path clip-path=\"url(#clip970)\" d=\"M141.853 1486.45 L2352.76 1486.45 L2352.76 47.2441 L141.853 47.2441  Z\" fill=\"#ffffff\" fill-rule=\"evenodd\" fill-opacity=\"1\"/>\n",
       "<defs>\n",
       "  <clipPath id=\"clip972\">\n",
       "    <rect x=\"141\" y=\"47\" width=\"2212\" height=\"1440\"/>\n",
       "  </clipPath>\n",
       "</defs>\n",
       "<polyline clip-path=\"url(#clip972)\" style=\"stroke:#000000; stroke-linecap:round; stroke-linejoin:round; stroke-width:2; stroke-opacity:0.1; fill:none\" points=\"216.607,1486.45 216.607,47.2441 \"/>\n",
       "<polyline clip-path=\"url(#clip972)\" style=\"stroke:#000000; stroke-linecap:round; stroke-linejoin:round; stroke-width:2; stroke-opacity:0.1; fill:none\" points=\"685.106,1486.45 685.106,47.2441 \"/>\n",
       "<polyline clip-path=\"url(#clip972)\" style=\"stroke:#000000; stroke-linecap:round; stroke-linejoin:round; stroke-width:2; stroke-opacity:0.1; fill:none\" points=\"1153.6,1486.45 1153.6,47.2441 \"/>\n",
       "<polyline clip-path=\"url(#clip972)\" style=\"stroke:#000000; stroke-linecap:round; stroke-linejoin:round; stroke-width:2; stroke-opacity:0.1; fill:none\" points=\"1622.1,1486.45 1622.1,47.2441 \"/>\n",
       "<polyline clip-path=\"url(#clip972)\" style=\"stroke:#000000; stroke-linecap:round; stroke-linejoin:round; stroke-width:2; stroke-opacity:0.1; fill:none\" points=\"2090.6,1486.45 2090.6,47.2441 \"/>\n",
       "<polyline clip-path=\"url(#clip970)\" style=\"stroke:#000000; stroke-linecap:round; stroke-linejoin:round; stroke-width:4; stroke-opacity:1; fill:none\" points=\"141.853,1486.45 2352.76,1486.45 \"/>\n",
       "<polyline clip-path=\"url(#clip970)\" style=\"stroke:#000000; stroke-linecap:round; stroke-linejoin:round; stroke-width:4; stroke-opacity:1; fill:none\" points=\"216.607,1486.45 216.607,1467.55 \"/>\n",
       "<polyline clip-path=\"url(#clip970)\" style=\"stroke:#000000; stroke-linecap:round; stroke-linejoin:round; stroke-width:4; stroke-opacity:1; fill:none\" points=\"685.106,1486.45 685.106,1467.55 \"/>\n",
       "<polyline clip-path=\"url(#clip970)\" style=\"stroke:#000000; stroke-linecap:round; stroke-linejoin:round; stroke-width:4; stroke-opacity:1; fill:none\" points=\"1153.6,1486.45 1153.6,1467.55 \"/>\n",
       "<polyline clip-path=\"url(#clip970)\" style=\"stroke:#000000; stroke-linecap:round; stroke-linejoin:round; stroke-width:4; stroke-opacity:1; fill:none\" points=\"1622.1,1486.45 1622.1,1467.55 \"/>\n",
       "<polyline clip-path=\"url(#clip970)\" style=\"stroke:#000000; stroke-linecap:round; stroke-linejoin:round; stroke-width:4; stroke-opacity:1; fill:none\" points=\"2090.6,1486.45 2090.6,1467.55 \"/>\n",
       "<path clip-path=\"url(#clip970)\" d=\"M185.507 1532.02 L215.183 1532.02 L215.183 1535.95 L185.507 1535.95 L185.507 1532.02 Z\" fill=\"#000000\" fill-rule=\"evenodd\" fill-opacity=\"1\" /><path clip-path=\"url(#clip970)\" d=\"M238.123 1518.36 L226.317 1536.81 L238.123 1536.81 L238.123 1518.36 M236.896 1514.29 L242.775 1514.29 L242.775 1536.81 L247.706 1536.81 L247.706 1540.7 L242.775 1540.7 L242.775 1548.85 L238.123 1548.85 L238.123 1540.7 L222.521 1540.7 L222.521 1536.19 L236.896 1514.29 Z\" fill=\"#000000\" fill-rule=\"evenodd\" fill-opacity=\"1\" /><path clip-path=\"url(#clip970)\" d=\"M655.048 1532.02 L684.724 1532.02 L684.724 1535.95 L655.048 1535.95 L655.048 1532.02 Z\" fill=\"#000000\" fill-rule=\"evenodd\" fill-opacity=\"1\" /><path clip-path=\"url(#clip970)\" d=\"M698.844 1544.91 L715.163 1544.91 L715.163 1548.85 L693.219 1548.85 L693.219 1544.91 Q695.881 1542.16 700.464 1537.53 Q705.071 1532.88 706.251 1531.53 Q708.497 1529.01 709.376 1527.27 Q710.279 1525.51 710.279 1523.82 Q710.279 1521.07 708.335 1519.33 Q706.413 1517.6 703.312 1517.6 Q701.112 1517.6 698.659 1518.36 Q696.228 1519.13 693.45 1520.68 L693.45 1515.95 Q696.275 1514.82 698.728 1514.24 Q701.182 1513.66 703.219 1513.66 Q708.589 1513.66 711.784 1516.35 Q714.978 1519.03 714.978 1523.52 Q714.978 1525.65 714.168 1527.57 Q713.381 1529.47 711.274 1532.07 Q710.696 1532.74 707.594 1535.95 Q704.492 1539.15 698.844 1544.91 Z\" fill=\"#000000\" fill-rule=\"evenodd\" fill-opacity=\"1\" /><path clip-path=\"url(#clip970)\" d=\"M1153.6 1517.37 Q1149.99 1517.37 1148.16 1520.93 Q1146.36 1524.47 1146.36 1531.6 Q1146.36 1538.71 1148.16 1542.27 Q1149.99 1545.82 1153.6 1545.82 Q1157.24 1545.82 1159.04 1542.27 Q1160.87 1538.71 1160.87 1531.6 Q1160.87 1524.47 1159.04 1520.93 Q1157.24 1517.37 1153.6 1517.37 M1153.6 1513.66 Q1159.41 1513.66 1162.47 1518.27 Q1165.55 1522.85 1165.55 1531.6 Q1165.55 1540.33 1162.47 1544.94 Q1159.41 1549.52 1153.6 1549.52 Q1147.79 1549.52 1144.72 1544.94 Q1141.66 1540.33 1141.66 1531.6 Q1141.66 1522.85 1144.72 1518.27 Q1147.79 1513.66 1153.6 1513.66 Z\" fill=\"#000000\" fill-rule=\"evenodd\" fill-opacity=\"1\" /><path clip-path=\"url(#clip970)\" d=\"M1616.76 1544.91 L1633.08 1544.91 L1633.08 1548.85 L1611.13 1548.85 L1611.13 1544.91 Q1613.79 1542.16 1618.38 1537.53 Q1622.98 1532.88 1624.16 1531.53 Q1626.41 1529.01 1627.29 1527.27 Q1628.19 1525.51 1628.19 1523.82 Q1628.19 1521.07 1626.25 1519.33 Q1624.33 1517.6 1621.22 1517.6 Q1619.02 1517.6 1616.57 1518.36 Q1614.14 1519.13 1611.36 1520.68 L1611.36 1515.95 Q1614.19 1514.82 1616.64 1514.24 Q1619.09 1513.66 1621.13 1513.66 Q1626.5 1513.66 1629.7 1516.35 Q1632.89 1519.03 1632.89 1523.52 Q1632.89 1525.65 1632.08 1527.57 Q1631.29 1529.47 1629.19 1532.07 Q1628.61 1532.74 1625.51 1535.95 Q1622.4 1539.15 1616.76 1544.91 Z\" fill=\"#000000\" fill-rule=\"evenodd\" fill-opacity=\"1\" /><path clip-path=\"url(#clip970)\" d=\"M2093.61 1518.36 L2081.81 1536.81 L2093.61 1536.81 L2093.61 1518.36 M2092.39 1514.29 L2098.26 1514.29 L2098.26 1536.81 L2103.2 1536.81 L2103.2 1540.7 L2098.26 1540.7 L2098.26 1548.85 L2093.61 1548.85 L2093.61 1540.7 L2078.01 1540.7 L2078.01 1536.19 L2092.39 1514.29 Z\" fill=\"#000000\" fill-rule=\"evenodd\" fill-opacity=\"1\" /><polyline clip-path=\"url(#clip972)\" style=\"stroke:#000000; stroke-linecap:round; stroke-linejoin:round; stroke-width:2; stroke-opacity:0.1; fill:none\" points=\"141.853,1445.72 2352.76,1445.72 \"/>\n",
       "<polyline clip-path=\"url(#clip972)\" style=\"stroke:#000000; stroke-linecap:round; stroke-linejoin:round; stroke-width:2; stroke-opacity:0.1; fill:none\" points=\"141.853,1106.28 2352.76,1106.28 \"/>\n",
       "<polyline clip-path=\"url(#clip972)\" style=\"stroke:#000000; stroke-linecap:round; stroke-linejoin:round; stroke-width:2; stroke-opacity:0.1; fill:none\" points=\"141.853,766.846 2352.76,766.846 \"/>\n",
       "<polyline clip-path=\"url(#clip972)\" style=\"stroke:#000000; stroke-linecap:round; stroke-linejoin:round; stroke-width:2; stroke-opacity:0.1; fill:none\" points=\"141.853,427.411 2352.76,427.411 \"/>\n",
       "<polyline clip-path=\"url(#clip972)\" style=\"stroke:#000000; stroke-linecap:round; stroke-linejoin:round; stroke-width:2; stroke-opacity:0.1; fill:none\" points=\"141.853,87.9763 2352.76,87.9763 \"/>\n",
       "<polyline clip-path=\"url(#clip970)\" style=\"stroke:#000000; stroke-linecap:round; stroke-linejoin:round; stroke-width:4; stroke-opacity:1; fill:none\" points=\"141.853,1486.45 141.853,47.2441 \"/>\n",
       "<polyline clip-path=\"url(#clip970)\" style=\"stroke:#000000; stroke-linecap:round; stroke-linejoin:round; stroke-width:4; stroke-opacity:1; fill:none\" points=\"141.853,1445.72 160.751,1445.72 \"/>\n",
       "<polyline clip-path=\"url(#clip970)\" style=\"stroke:#000000; stroke-linecap:round; stroke-linejoin:round; stroke-width:4; stroke-opacity:1; fill:none\" points=\"141.853,1106.28 160.751,1106.28 \"/>\n",
       "<polyline clip-path=\"url(#clip970)\" style=\"stroke:#000000; stroke-linecap:round; stroke-linejoin:round; stroke-width:4; stroke-opacity:1; fill:none\" points=\"141.853,766.846 160.751,766.846 \"/>\n",
       "<polyline clip-path=\"url(#clip970)\" style=\"stroke:#000000; stroke-linecap:round; stroke-linejoin:round; stroke-width:4; stroke-opacity:1; fill:none\" points=\"141.853,427.411 160.751,427.411 \"/>\n",
       "<polyline clip-path=\"url(#clip970)\" style=\"stroke:#000000; stroke-linecap:round; stroke-linejoin:round; stroke-width:4; stroke-opacity:1; fill:none\" points=\"141.853,87.9763 160.751,87.9763 \"/>\n",
       "<path clip-path=\"url(#clip970)\" d=\"M93.9086 1431.51 Q90.2975 1431.51 88.4688 1435.08 Q86.6632 1438.62 86.6632 1445.75 Q86.6632 1452.86 88.4688 1456.42 Q90.2975 1459.96 93.9086 1459.96 Q97.5428 1459.96 99.3483 1456.42 Q101.177 1452.86 101.177 1445.75 Q101.177 1438.62 99.3483 1435.08 Q97.5428 1431.51 93.9086 1431.51 M93.9086 1427.81 Q99.7187 1427.81 102.774 1432.42 Q105.853 1437 105.853 1445.75 Q105.853 1454.48 102.774 1459.08 Q99.7187 1463.67 93.9086 1463.67 Q88.0984 1463.67 85.0197 1459.08 Q81.9642 1454.48 81.9642 1445.75 Q81.9642 1437 85.0197 1432.42 Q88.0984 1427.81 93.9086 1427.81 Z\" fill=\"#000000\" fill-rule=\"evenodd\" fill-opacity=\"1\" /><path clip-path=\"url(#clip970)\" d=\"M57.7745 1119.63 L74.0939 1119.63 L74.0939 1123.56 L52.1495 1123.56 L52.1495 1119.63 Q54.8115 1116.87 59.3949 1112.24 Q64.0013 1107.59 65.1819 1106.25 Q67.4272 1103.72 68.3068 1101.99 Q69.2096 1100.23 69.2096 1098.54 Q69.2096 1095.78 67.2652 1094.05 Q65.3439 1092.31 62.2421 1092.31 Q60.043 1092.31 57.5893 1093.07 Q55.1588 1093.84 52.381 1095.39 L52.381 1090.67 Q55.2051 1089.53 57.6588 1088.95 Q60.1124 1088.38 62.1495 1088.38 Q67.5198 1088.38 70.7142 1091.06 Q73.9087 1093.75 73.9087 1098.24 Q73.9087 1100.37 73.0985 1102.29 Q72.3115 1104.19 70.205 1106.78 Q69.6263 1107.45 66.5245 1110.67 Q63.4226 1113.86 57.7745 1119.63 Z\" fill=\"#000000\" fill-rule=\"evenodd\" fill-opacity=\"1\" /><path clip-path=\"url(#clip970)\" d=\"M93.9086 1092.08 Q90.2975 1092.08 88.4688 1095.64 Q86.6632 1099.19 86.6632 1106.32 Q86.6632 1113.42 88.4688 1116.99 Q90.2975 1120.53 93.9086 1120.53 Q97.5428 1120.53 99.3483 1116.99 Q101.177 1113.42 101.177 1106.32 Q101.177 1099.19 99.3483 1095.64 Q97.5428 1092.08 93.9086 1092.08 M93.9086 1088.38 Q99.7187 1088.38 102.774 1092.98 Q105.853 1097.57 105.853 1106.32 Q105.853 1115.04 102.774 1119.65 Q99.7187 1124.23 93.9086 1124.23 Q88.0984 1124.23 85.0197 1119.65 Q81.9642 1115.04 81.9642 1106.32 Q81.9642 1097.57 85.0197 1092.98 Q88.0984 1088.38 93.9086 1088.38 Z\" fill=\"#000000\" fill-rule=\"evenodd\" fill-opacity=\"1\" /><path clip-path=\"url(#clip970)\" d=\"M66.5939 753.64 L54.7884 772.089 L66.5939 772.089 L66.5939 753.64 M65.367 749.566 L71.2466 749.566 L71.2466 772.089 L76.1772 772.089 L76.1772 775.978 L71.2466 775.978 L71.2466 784.126 L66.5939 784.126 L66.5939 775.978 L50.9921 775.978 L50.9921 771.464 L65.367 749.566 Z\" fill=\"#000000\" fill-rule=\"evenodd\" fill-opacity=\"1\" /><path clip-path=\"url(#clip970)\" d=\"M93.9086 752.645 Q90.2975 752.645 88.4688 756.209 Q86.6632 759.751 86.6632 766.881 Q86.6632 773.987 88.4688 777.552 Q90.2975 781.094 93.9086 781.094 Q97.5428 781.094 99.3483 777.552 Q101.177 773.987 101.177 766.881 Q101.177 759.751 99.3483 756.209 Q97.5428 752.645 93.9086 752.645 M93.9086 748.941 Q99.7187 748.941 102.774 753.547 Q105.853 758.131 105.853 766.881 Q105.853 775.608 102.774 780.214 Q99.7187 784.797 93.9086 784.797 Q88.0984 784.797 85.0197 780.214 Q81.9642 775.608 81.9642 766.881 Q81.9642 758.131 85.0197 753.547 Q88.0984 748.941 93.9086 748.941 Z\" fill=\"#000000\" fill-rule=\"evenodd\" fill-opacity=\"1\" /><path clip-path=\"url(#clip970)\" d=\"M64.3254 425.548 Q61.1773 425.548 59.3254 427.7 Q57.4967 429.853 57.4967 433.603 Q57.4967 437.33 59.3254 439.506 Q61.1773 441.659 64.3254 441.659 Q67.4735 441.659 69.3022 439.506 Q71.1541 437.33 71.1541 433.603 Q71.1541 429.853 69.3022 427.7 Q67.4735 425.548 64.3254 425.548 M73.6077 410.895 L73.6077 415.154 Q71.8485 414.321 70.0429 413.881 Q68.2606 413.441 66.5013 413.441 Q61.8717 413.441 59.418 416.566 Q56.9875 419.691 56.6402 426.011 Q58.006 423.997 60.0662 422.932 Q62.1263 421.844 64.6032 421.844 Q69.8115 421.844 72.8207 425.015 Q75.8531 428.163 75.8531 433.603 Q75.8531 438.927 72.705 442.145 Q69.5568 445.362 64.3254 445.362 Q58.33 445.362 55.1588 440.779 Q51.9875 436.173 51.9875 427.446 Q51.9875 419.251 55.8764 414.39 Q59.7652 409.506 66.3161 409.506 Q68.0754 409.506 69.8578 409.853 Q71.6633 410.201 73.6077 410.895 Z\" fill=\"#000000\" fill-rule=\"evenodd\" fill-opacity=\"1\" /><path clip-path=\"url(#clip970)\" d=\"M93.9086 413.21 Q90.2975 413.21 88.4688 416.775 Q86.6632 420.316 86.6632 427.446 Q86.6632 434.552 88.4688 438.117 Q90.2975 441.659 93.9086 441.659 Q97.5428 441.659 99.3483 438.117 Q101.177 434.552 101.177 427.446 Q101.177 420.316 99.3483 416.775 Q97.5428 413.21 93.9086 413.21 M93.9086 409.506 Q99.7187 409.506 102.774 414.113 Q105.853 418.696 105.853 427.446 Q105.853 436.173 102.774 440.779 Q99.7187 445.362 93.9086 445.362 Q88.0984 445.362 85.0197 440.779 Q81.9642 436.173 81.9642 427.446 Q81.9642 418.696 85.0197 414.113 Q88.0984 409.506 93.9086 409.506 Z\" fill=\"#000000\" fill-rule=\"evenodd\" fill-opacity=\"1\" /><path clip-path=\"url(#clip970)\" d=\"M63.7467 88.8443 Q60.4134 88.8443 58.4921 90.6267 Q56.5939 92.4091 56.5939 95.5341 Q56.5939 98.6591 58.4921 100.441 Q60.4134 102.224 63.7467 102.224 Q67.08 102.224 69.0013 100.441 Q70.9226 98.6359 70.9226 95.5341 Q70.9226 92.4091 69.0013 90.6267 Q67.1032 88.8443 63.7467 88.8443 M59.0708 86.8536 Q56.0615 86.1129 54.3717 84.0527 Q52.7051 81.9925 52.7051 79.0296 Q52.7051 74.8861 55.6449 72.4787 Q58.6078 70.0713 63.7467 70.0713 Q68.9087 70.0713 71.8485 72.4787 Q74.7883 74.8861 74.7883 79.0296 Q74.7883 81.9925 73.0985 84.0527 Q71.4318 86.1129 68.4457 86.8536 Q71.8253 87.6406 73.7003 89.9323 Q75.5985 92.2239 75.5985 95.5341 Q75.5985 100.557 72.5198 103.242 Q69.4642 105.928 63.7467 105.928 Q58.0291 105.928 54.9504 103.242 Q51.8949 100.557 51.8949 95.5341 Q51.8949 92.2239 53.793 89.9323 Q55.6912 87.6406 59.0708 86.8536 M57.3578 79.4694 Q57.3578 82.1545 59.0245 83.6592 Q60.7143 85.1638 63.7467 85.1638 Q66.7559 85.1638 68.4457 83.6592 Q70.1587 82.1545 70.1587 79.4694 Q70.1587 76.7842 68.4457 75.2796 Q66.7559 73.775 63.7467 73.775 Q60.7143 73.775 59.0245 75.2796 Q57.3578 76.7842 57.3578 79.4694 Z\" fill=\"#000000\" fill-rule=\"evenodd\" fill-opacity=\"1\" /><path clip-path=\"url(#clip970)\" d=\"M93.9086 73.775 Q90.2975 73.775 88.4688 77.3398 Q86.6632 80.8814 86.6632 88.011 Q86.6632 95.1174 88.4688 98.6822 Q90.2975 102.224 93.9086 102.224 Q97.5428 102.224 99.3483 98.6822 Q101.177 95.1174 101.177 88.011 Q101.177 80.8814 99.3483 77.3398 Q97.5428 73.775 93.9086 73.775 M93.9086 70.0713 Q99.7187 70.0713 102.774 74.6777 Q105.853 79.261 105.853 88.011 Q105.853 96.7378 102.774 101.344 Q99.7187 105.928 93.9086 105.928 Q88.0984 105.928 85.0197 101.344 Q81.9642 96.7378 81.9642 88.011 Q81.9642 79.261 85.0197 74.6777 Q88.0984 70.0713 93.9086 70.0713 Z\" fill=\"#000000\" fill-rule=\"evenodd\" fill-opacity=\"1\" /><path clip-path=\"url(#clip972)\" d=\"M263.457 1428.74 L263.457 1445.72 L310.306 1445.72 L310.306 1428.74 L263.457 1428.74 L263.457 1428.74  Z\" fill=\"#009af9\" fill-rule=\"evenodd\" fill-opacity=\"1\"/>\n",
       "<polyline clip-path=\"url(#clip972)\" style=\"stroke:#000000; stroke-linecap:round; stroke-linejoin:round; stroke-width:4; stroke-opacity:1; fill:none\" points=\"263.457,1428.74 263.457,1445.72 310.306,1445.72 310.306,1428.74 263.457,1428.74 \"/>\n",
       "<path clip-path=\"url(#clip972)\" d=\"M310.306 1428.74 L310.306 1445.72 L357.156 1445.72 L357.156 1428.74 L310.306 1428.74 L310.306 1428.74  Z\" fill=\"#009af9\" fill-rule=\"evenodd\" fill-opacity=\"1\"/>\n",
       "<polyline clip-path=\"url(#clip972)\" style=\"stroke:#000000; stroke-linecap:round; stroke-linejoin:round; stroke-width:4; stroke-opacity:1; fill:none\" points=\"310.306,1428.74 310.306,1445.72 357.156,1445.72 357.156,1428.74 310.306,1428.74 \"/>\n",
       "<path clip-path=\"url(#clip972)\" d=\"M357.156 1445.72 L357.156 1445.72 L404.006 1445.72 L404.006 1445.72 L357.156 1445.72 L357.156 1445.72  Z\" fill=\"#009af9\" fill-rule=\"evenodd\" fill-opacity=\"1\"/>\n",
       "<polyline clip-path=\"url(#clip972)\" style=\"stroke:#000000; stroke-linecap:round; stroke-linejoin:round; stroke-width:4; stroke-opacity:1; fill:none\" points=\"357.156,1445.72 357.156,1445.72 404.006,1445.72 357.156,1445.72 \"/>\n",
       "<path clip-path=\"url(#clip972)\" d=\"M404.006 1445.72 L404.006 1445.72 L450.856 1445.72 L450.856 1445.72 L404.006 1445.72 L404.006 1445.72  Z\" fill=\"#009af9\" fill-rule=\"evenodd\" fill-opacity=\"1\"/>\n",
       "<polyline clip-path=\"url(#clip972)\" style=\"stroke:#000000; stroke-linecap:round; stroke-linejoin:round; stroke-width:4; stroke-opacity:1; fill:none\" points=\"404.006,1445.72 404.006,1445.72 450.856,1445.72 404.006,1445.72 \"/>\n",
       "<path clip-path=\"url(#clip972)\" d=\"M450.856 1394.8 L450.856 1445.72 L497.706 1445.72 L497.706 1394.8 L450.856 1394.8 L450.856 1394.8  Z\" fill=\"#009af9\" fill-rule=\"evenodd\" fill-opacity=\"1\"/>\n",
       "<polyline clip-path=\"url(#clip972)\" style=\"stroke:#000000; stroke-linecap:round; stroke-linejoin:round; stroke-width:4; stroke-opacity:1; fill:none\" points=\"450.856,1394.8 450.856,1445.72 497.706,1445.72 497.706,1394.8 450.856,1394.8 \"/>\n",
       "<path clip-path=\"url(#clip972)\" d=\"M497.706 1411.77 L497.706 1445.72 L544.556 1445.72 L544.556 1411.77 L497.706 1411.77 L497.706 1411.77  Z\" fill=\"#009af9\" fill-rule=\"evenodd\" fill-opacity=\"1\"/>\n",
       "<polyline clip-path=\"url(#clip972)\" style=\"stroke:#000000; stroke-linecap:round; stroke-linejoin:round; stroke-width:4; stroke-opacity:1; fill:none\" points=\"497.706,1411.77 497.706,1445.72 544.556,1445.72 544.556,1411.77 497.706,1411.77 \"/>\n",
       "<path clip-path=\"url(#clip972)\" d=\"M544.556 1445.72 L544.556 1445.72 L591.406 1445.72 L591.406 1445.72 L544.556 1445.72 L544.556 1445.72  Z\" fill=\"#009af9\" fill-rule=\"evenodd\" fill-opacity=\"1\"/>\n",
       "<polyline clip-path=\"url(#clip972)\" style=\"stroke:#000000; stroke-linecap:round; stroke-linejoin:round; stroke-width:4; stroke-opacity:1; fill:none\" points=\"544.556,1445.72 544.556,1445.72 591.406,1445.72 544.556,1445.72 \"/>\n",
       "<path clip-path=\"url(#clip972)\" d=\"M591.406 1411.77 L591.406 1445.72 L638.256 1445.72 L638.256 1411.77 L591.406 1411.77 L591.406 1411.77  Z\" fill=\"#009af9\" fill-rule=\"evenodd\" fill-opacity=\"1\"/>\n",
       "<polyline clip-path=\"url(#clip972)\" style=\"stroke:#000000; stroke-linecap:round; stroke-linejoin:round; stroke-width:4; stroke-opacity:1; fill:none\" points=\"591.406,1411.77 591.406,1445.72 638.256,1445.72 638.256,1411.77 591.406,1411.77 \"/>\n",
       "<path clip-path=\"url(#clip972)\" d=\"M638.256 1225.08 L638.256 1445.72 L685.106 1445.72 L685.106 1225.08 L638.256 1225.08 L638.256 1225.08  Z\" fill=\"#009af9\" fill-rule=\"evenodd\" fill-opacity=\"1\"/>\n",
       "<polyline clip-path=\"url(#clip972)\" style=\"stroke:#000000; stroke-linecap:round; stroke-linejoin:round; stroke-width:4; stroke-opacity:1; fill:none\" points=\"638.256,1225.08 638.256,1445.72 685.106,1445.72 685.106,1225.08 638.256,1225.08 \"/>\n",
       "<path clip-path=\"url(#clip972)\" d=\"M685.106 1259.03 L685.106 1445.72 L731.956 1445.72 L731.956 1259.03 L685.106 1259.03 L685.106 1259.03  Z\" fill=\"#009af9\" fill-rule=\"evenodd\" fill-opacity=\"1\"/>\n",
       "<polyline clip-path=\"url(#clip972)\" style=\"stroke:#000000; stroke-linecap:round; stroke-linejoin:round; stroke-width:4; stroke-opacity:1; fill:none\" points=\"685.106,1259.03 685.106,1445.72 731.956,1445.72 731.956,1259.03 685.106,1259.03 \"/>\n",
       "<path clip-path=\"url(#clip972)\" d=\"M731.956 1055.37 L731.956 1445.72 L778.805 1445.72 L778.805 1055.37 L731.956 1055.37 L731.956 1055.37  Z\" fill=\"#009af9\" fill-rule=\"evenodd\" fill-opacity=\"1\"/>\n",
       "<polyline clip-path=\"url(#clip972)\" style=\"stroke:#000000; stroke-linecap:round; stroke-linejoin:round; stroke-width:4; stroke-opacity:1; fill:none\" points=\"731.956,1055.37 731.956,1445.72 778.805,1445.72 778.805,1055.37 731.956,1055.37 \"/>\n",
       "<path clip-path=\"url(#clip972)\" d=\"M778.805 1021.42 L778.805 1445.72 L825.655 1445.72 L825.655 1021.42 L778.805 1021.42 L778.805 1021.42  Z\" fill=\"#009af9\" fill-rule=\"evenodd\" fill-opacity=\"1\"/>\n",
       "<polyline clip-path=\"url(#clip972)\" style=\"stroke:#000000; stroke-linecap:round; stroke-linejoin:round; stroke-width:4; stroke-opacity:1; fill:none\" points=\"778.805,1021.42 778.805,1445.72 825.655,1445.72 825.655,1021.42 778.805,1021.42 \"/>\n",
       "<path clip-path=\"url(#clip972)\" d=\"M825.655 868.676 L825.655 1445.72 L872.505 1445.72 L872.505 868.676 L825.655 868.676 L825.655 868.676  Z\" fill=\"#009af9\" fill-rule=\"evenodd\" fill-opacity=\"1\"/>\n",
       "<polyline clip-path=\"url(#clip972)\" style=\"stroke:#000000; stroke-linecap:round; stroke-linejoin:round; stroke-width:4; stroke-opacity:1; fill:none\" points=\"825.655,868.676 825.655,1445.72 872.505,1445.72 872.505,868.676 825.655,868.676 \"/>\n",
       "<path clip-path=\"url(#clip972)\" d=\"M872.505 665.016 L872.505 1445.72 L919.355 1445.72 L919.355 665.016 L872.505 665.016 L872.505 665.016  Z\" fill=\"#009af9\" fill-rule=\"evenodd\" fill-opacity=\"1\"/>\n",
       "<polyline clip-path=\"url(#clip972)\" style=\"stroke:#000000; stroke-linecap:round; stroke-linejoin:round; stroke-width:4; stroke-opacity:1; fill:none\" points=\"872.505,665.016 872.505,1445.72 919.355,1445.72 919.355,665.016 872.505,665.016 \"/>\n",
       "<path clip-path=\"url(#clip972)\" d=\"M919.355 376.496 L919.355 1445.72 L966.205 1445.72 L966.205 376.496 L919.355 376.496 L919.355 376.496  Z\" fill=\"#009af9\" fill-rule=\"evenodd\" fill-opacity=\"1\"/>\n",
       "<polyline clip-path=\"url(#clip972)\" style=\"stroke:#000000; stroke-linecap:round; stroke-linejoin:round; stroke-width:4; stroke-opacity:1; fill:none\" points=\"919.355,376.496 919.355,1445.72 966.205,1445.72 966.205,376.496 919.355,376.496 \"/>\n",
       "<path clip-path=\"url(#clip972)\" d=\"M966.205 461.355 L966.205 1445.72 L1013.05 1445.72 L1013.05 461.355 L966.205 461.355 L966.205 461.355  Z\" fill=\"#009af9\" fill-rule=\"evenodd\" fill-opacity=\"1\"/>\n",
       "<polyline clip-path=\"url(#clip972)\" style=\"stroke:#000000; stroke-linecap:round; stroke-linejoin:round; stroke-width:4; stroke-opacity:1; fill:none\" points=\"966.205,461.355 966.205,1445.72 1013.05,1445.72 1013.05,461.355 966.205,461.355 \"/>\n",
       "<path clip-path=\"url(#clip972)\" d=\"M1013.05 223.75 L1013.05 1445.72 L1059.9 1445.72 L1059.9 223.75 L1013.05 223.75 L1013.05 223.75  Z\" fill=\"#009af9\" fill-rule=\"evenodd\" fill-opacity=\"1\"/>\n",
       "<polyline clip-path=\"url(#clip972)\" style=\"stroke:#000000; stroke-linecap:round; stroke-linejoin:round; stroke-width:4; stroke-opacity:1; fill:none\" points=\"1013.05,223.75 1013.05,1445.72 1059.9,1445.72 1059.9,223.75 1013.05,223.75 \"/>\n",
       "<path clip-path=\"url(#clip972)\" d=\"M1059.9 104.948 L1059.9 1445.72 L1106.75 1445.72 L1106.75 104.948 L1059.9 104.948 L1059.9 104.948  Z\" fill=\"#009af9\" fill-rule=\"evenodd\" fill-opacity=\"1\"/>\n",
       "<polyline clip-path=\"url(#clip972)\" style=\"stroke:#000000; stroke-linecap:round; stroke-linejoin:round; stroke-width:4; stroke-opacity:1; fill:none\" points=\"1059.9,104.948 1059.9,1445.72 1106.75,1445.72 1106.75,104.948 1059.9,104.948 \"/>\n",
       "<path clip-path=\"url(#clip972)\" d=\"M1106.75 291.637 L1106.75 1445.72 L1153.6 1445.72 L1153.6 291.637 L1106.75 291.637 L1106.75 291.637  Z\" fill=\"#009af9\" fill-rule=\"evenodd\" fill-opacity=\"1\"/>\n",
       "<polyline clip-path=\"url(#clip972)\" style=\"stroke:#000000; stroke-linecap:round; stroke-linejoin:round; stroke-width:4; stroke-opacity:1; fill:none\" points=\"1106.75,291.637 1106.75,1445.72 1153.6,1445.72 1153.6,291.637 1106.75,291.637 \"/>\n",
       "<path clip-path=\"url(#clip972)\" d=\"M1153.6 274.665 L1153.6 1445.72 L1200.45 1445.72 L1200.45 274.665 L1153.6 274.665 L1153.6 274.665  Z\" fill=\"#009af9\" fill-rule=\"evenodd\" fill-opacity=\"1\"/>\n",
       "<polyline clip-path=\"url(#clip972)\" style=\"stroke:#000000; stroke-linecap:round; stroke-linejoin:round; stroke-width:4; stroke-opacity:1; fill:none\" points=\"1153.6,274.665 1153.6,1445.72 1200.45,1445.72 1200.45,274.665 1153.6,274.665 \"/>\n",
       "<path clip-path=\"url(#clip972)\" d=\"M1200.45 104.948 L1200.45 1445.72 L1247.3 1445.72 L1247.3 104.948 L1200.45 104.948 L1200.45 104.948  Z\" fill=\"#009af9\" fill-rule=\"evenodd\" fill-opacity=\"1\"/>\n",
       "<polyline clip-path=\"url(#clip972)\" style=\"stroke:#000000; stroke-linecap:round; stroke-linejoin:round; stroke-width:4; stroke-opacity:1; fill:none\" points=\"1200.45,104.948 1200.45,1445.72 1247.3,1445.72 1247.3,104.948 1200.45,104.948 \"/>\n",
       "<path clip-path=\"url(#clip972)\" d=\"M1247.3 87.9763 L1247.3 1445.72 L1294.15 1445.72 L1294.15 87.9763 L1247.3 87.9763 L1247.3 87.9763  Z\" fill=\"#009af9\" fill-rule=\"evenodd\" fill-opacity=\"1\"/>\n",
       "<polyline clip-path=\"url(#clip972)\" style=\"stroke:#000000; stroke-linecap:round; stroke-linejoin:round; stroke-width:4; stroke-opacity:1; fill:none\" points=\"1247.3,87.9763 1247.3,1445.72 1294.15,1445.72 1294.15,87.9763 1247.3,87.9763 \"/>\n",
       "<path clip-path=\"url(#clip972)\" d=\"M1294.15 240.722 L1294.15 1445.72 L1341 1445.72 L1341 240.722 L1294.15 240.722 L1294.15 240.722  Z\" fill=\"#009af9\" fill-rule=\"evenodd\" fill-opacity=\"1\"/>\n",
       "<polyline clip-path=\"url(#clip972)\" style=\"stroke:#000000; stroke-linecap:round; stroke-linejoin:round; stroke-width:4; stroke-opacity:1; fill:none\" points=\"1294.15,240.722 1294.15,1445.72 1341,1445.72 1341,240.722 1294.15,240.722 \"/>\n",
       "<path clip-path=\"url(#clip972)\" d=\"M1341 631.072 L1341 1445.72 L1387.85 1445.72 L1387.85 631.072 L1341 631.072 L1341 631.072  Z\" fill=\"#009af9\" fill-rule=\"evenodd\" fill-opacity=\"1\"/>\n",
       "<polyline clip-path=\"url(#clip972)\" style=\"stroke:#000000; stroke-linecap:round; stroke-linejoin:round; stroke-width:4; stroke-opacity:1; fill:none\" points=\"1341,631.072 1341,1445.72 1387.85,1445.72 1387.85,631.072 1341,631.072 \"/>\n",
       "<path clip-path=\"url(#clip972)\" d=\"M1387.85 732.902 L1387.85 1445.72 L1434.7 1445.72 L1434.7 732.902 L1387.85 732.902 L1387.85 732.902  Z\" fill=\"#009af9\" fill-rule=\"evenodd\" fill-opacity=\"1\"/>\n",
       "<polyline clip-path=\"url(#clip972)\" style=\"stroke:#000000; stroke-linecap:round; stroke-linejoin:round; stroke-width:4; stroke-opacity:1; fill:none\" points=\"1387.85,732.902 1387.85,1445.72 1434.7,1445.72 1434.7,732.902 1387.85,732.902 \"/>\n",
       "<path clip-path=\"url(#clip972)\" d=\"M1434.7 817.761 L1434.7 1445.72 L1481.55 1445.72 L1481.55 817.761 L1434.7 817.761 L1434.7 817.761  Z\" fill=\"#009af9\" fill-rule=\"evenodd\" fill-opacity=\"1\"/>\n",
       "<polyline clip-path=\"url(#clip972)\" style=\"stroke:#000000; stroke-linecap:round; stroke-linejoin:round; stroke-width:4; stroke-opacity:1; fill:none\" points=\"1434.7,817.761 1434.7,1445.72 1481.55,1445.72 1481.55,817.761 1434.7,817.761 \"/>\n",
       "<path clip-path=\"url(#clip972)\" d=\"M1481.55 1106.28 L1481.55 1445.72 L1528.4 1445.72 L1528.4 1106.28 L1481.55 1106.28 L1481.55 1106.28  Z\" fill=\"#009af9\" fill-rule=\"evenodd\" fill-opacity=\"1\"/>\n",
       "<polyline clip-path=\"url(#clip972)\" style=\"stroke:#000000; stroke-linecap:round; stroke-linejoin:round; stroke-width:4; stroke-opacity:1; fill:none\" points=\"1481.55,1106.28 1481.55,1445.72 1528.4,1445.72 1528.4,1106.28 1481.55,1106.28 \"/>\n",
       "<path clip-path=\"url(#clip972)\" d=\"M1528.4 1123.25 L1528.4 1445.72 L1575.25 1445.72 L1575.25 1123.25 L1528.4 1123.25 L1528.4 1123.25  Z\" fill=\"#009af9\" fill-rule=\"evenodd\" fill-opacity=\"1\"/>\n",
       "<polyline clip-path=\"url(#clip972)\" style=\"stroke:#000000; stroke-linecap:round; stroke-linejoin:round; stroke-width:4; stroke-opacity:1; fill:none\" points=\"1528.4,1123.25 1528.4,1445.72 1575.25,1445.72 1575.25,1123.25 1528.4,1123.25 \"/>\n",
       "<path clip-path=\"url(#clip972)\" d=\"M1575.25 1242.05 L1575.25 1445.72 L1622.1 1445.72 L1622.1 1242.05 L1575.25 1242.05 L1575.25 1242.05  Z\" fill=\"#009af9\" fill-rule=\"evenodd\" fill-opacity=\"1\"/>\n",
       "<polyline clip-path=\"url(#clip972)\" style=\"stroke:#000000; stroke-linecap:round; stroke-linejoin:round; stroke-width:4; stroke-opacity:1; fill:none\" points=\"1575.25,1242.05 1575.25,1445.72 1622.1,1445.72 1622.1,1242.05 1575.25,1242.05 \"/>\n",
       "<path clip-path=\"url(#clip972)\" d=\"M1622.1 1326.91 L1622.1 1445.72 L1668.95 1445.72 L1668.95 1326.91 L1622.1 1326.91 L1622.1 1326.91  Z\" fill=\"#009af9\" fill-rule=\"evenodd\" fill-opacity=\"1\"/>\n",
       "<polyline clip-path=\"url(#clip972)\" style=\"stroke:#000000; stroke-linecap:round; stroke-linejoin:round; stroke-width:4; stroke-opacity:1; fill:none\" points=\"1622.1,1326.91 1622.1,1445.72 1668.95,1445.72 1668.95,1326.91 1622.1,1326.91 \"/>\n",
       "<path clip-path=\"url(#clip972)\" d=\"M1668.95 1292.97 L1668.95 1445.72 L1715.8 1445.72 L1715.8 1292.97 L1668.95 1292.97 L1668.95 1292.97  Z\" fill=\"#009af9\" fill-rule=\"evenodd\" fill-opacity=\"1\"/>\n",
       "<polyline clip-path=\"url(#clip972)\" style=\"stroke:#000000; stroke-linecap:round; stroke-linejoin:round; stroke-width:4; stroke-opacity:1; fill:none\" points=\"1668.95,1292.97 1668.95,1445.72 1715.8,1445.72 1715.8,1292.97 1668.95,1292.97 \"/>\n",
       "<path clip-path=\"url(#clip972)\" d=\"M1715.8 1428.74 L1715.8 1445.72 L1762.65 1445.72 L1762.65 1428.74 L1715.8 1428.74 L1715.8 1428.74  Z\" fill=\"#009af9\" fill-rule=\"evenodd\" fill-opacity=\"1\"/>\n",
       "<polyline clip-path=\"url(#clip972)\" style=\"stroke:#000000; stroke-linecap:round; stroke-linejoin:round; stroke-width:4; stroke-opacity:1; fill:none\" points=\"1715.8,1428.74 1715.8,1445.72 1762.65,1445.72 1762.65,1428.74 1715.8,1428.74 \"/>\n",
       "<path clip-path=\"url(#clip972)\" d=\"M1762.65 1394.8 L1762.65 1445.72 L1809.5 1445.72 L1809.5 1394.8 L1762.65 1394.8 L1762.65 1394.8  Z\" fill=\"#009af9\" fill-rule=\"evenodd\" fill-opacity=\"1\"/>\n",
       "<polyline clip-path=\"url(#clip972)\" style=\"stroke:#000000; stroke-linecap:round; stroke-linejoin:round; stroke-width:4; stroke-opacity:1; fill:none\" points=\"1762.65,1394.8 1762.65,1445.72 1809.5,1445.72 1809.5,1394.8 1762.65,1394.8 \"/>\n",
       "<path clip-path=\"url(#clip972)\" d=\"M1809.5 1445.72 L1809.5 1445.72 L1856.35 1445.72 L1856.35 1445.72 L1809.5 1445.72 L1809.5 1445.72  Z\" fill=\"#009af9\" fill-rule=\"evenodd\" fill-opacity=\"1\"/>\n",
       "<polyline clip-path=\"url(#clip972)\" style=\"stroke:#000000; stroke-linecap:round; stroke-linejoin:round; stroke-width:4; stroke-opacity:1; fill:none\" points=\"1809.5,1445.72 1809.5,1445.72 1856.35,1445.72 1809.5,1445.72 \"/>\n",
       "<path clip-path=\"url(#clip972)\" d=\"M1856.35 1428.74 L1856.35 1445.72 L1903.2 1445.72 L1903.2 1428.74 L1856.35 1428.74 L1856.35 1428.74  Z\" fill=\"#009af9\" fill-rule=\"evenodd\" fill-opacity=\"1\"/>\n",
       "<polyline clip-path=\"url(#clip972)\" style=\"stroke:#000000; stroke-linecap:round; stroke-linejoin:round; stroke-width:4; stroke-opacity:1; fill:none\" points=\"1856.35,1428.74 1856.35,1445.72 1903.2,1445.72 1903.2,1428.74 1856.35,1428.74 \"/>\n",
       "<path clip-path=\"url(#clip972)\" d=\"M1903.2 1445.72 L1903.2 1445.72 L1950.05 1445.72 L1950.05 1445.72 L1903.2 1445.72 L1903.2 1445.72  Z\" fill=\"#009af9\" fill-rule=\"evenodd\" fill-opacity=\"1\"/>\n",
       "<polyline clip-path=\"url(#clip972)\" style=\"stroke:#000000; stroke-linecap:round; stroke-linejoin:round; stroke-width:4; stroke-opacity:1; fill:none\" points=\"1903.2,1445.72 1903.2,1445.72 1950.05,1445.72 1903.2,1445.72 \"/>\n",
       "<path clip-path=\"url(#clip972)\" d=\"M1950.05 1445.72 L1950.05 1445.72 L1996.9 1445.72 L1996.9 1445.72 L1950.05 1445.72 L1950.05 1445.72  Z\" fill=\"#009af9\" fill-rule=\"evenodd\" fill-opacity=\"1\"/>\n",
       "<polyline clip-path=\"url(#clip972)\" style=\"stroke:#000000; stroke-linecap:round; stroke-linejoin:round; stroke-width:4; stroke-opacity:1; fill:none\" points=\"1950.05,1445.72 1950.05,1445.72 1996.9,1445.72 1950.05,1445.72 \"/>\n",
       "<path clip-path=\"url(#clip972)\" d=\"M1996.9 1445.72 L1996.9 1445.72 L2043.75 1445.72 L2043.75 1445.72 L1996.9 1445.72 L1996.9 1445.72  Z\" fill=\"#009af9\" fill-rule=\"evenodd\" fill-opacity=\"1\"/>\n",
       "<polyline clip-path=\"url(#clip972)\" style=\"stroke:#000000; stroke-linecap:round; stroke-linejoin:round; stroke-width:4; stroke-opacity:1; fill:none\" points=\"1996.9,1445.72 1996.9,1445.72 2043.75,1445.72 1996.9,1445.72 \"/>\n",
       "<path clip-path=\"url(#clip972)\" d=\"M2043.75 1445.72 L2043.75 1445.72 L2090.6 1445.72 L2090.6 1445.72 L2043.75 1445.72 L2043.75 1445.72  Z\" fill=\"#009af9\" fill-rule=\"evenodd\" fill-opacity=\"1\"/>\n",
       "<polyline clip-path=\"url(#clip972)\" style=\"stroke:#000000; stroke-linecap:round; stroke-linejoin:round; stroke-width:4; stroke-opacity:1; fill:none\" points=\"2043.75,1445.72 2043.75,1445.72 2090.6,1445.72 2043.75,1445.72 \"/>\n",
       "<path clip-path=\"url(#clip972)\" d=\"M2090.6 1445.72 L2090.6 1445.72 L2137.45 1445.72 L2137.45 1445.72 L2090.6 1445.72 L2090.6 1445.72  Z\" fill=\"#009af9\" fill-rule=\"evenodd\" fill-opacity=\"1\"/>\n",
       "<polyline clip-path=\"url(#clip972)\" style=\"stroke:#000000; stroke-linecap:round; stroke-linejoin:round; stroke-width:4; stroke-opacity:1; fill:none\" points=\"2090.6,1445.72 2090.6,1445.72 2137.45,1445.72 2090.6,1445.72 \"/>\n",
       "<path clip-path=\"url(#clip972)\" d=\"M2137.45 1445.72 L2137.45 1445.72 L2184.3 1445.72 L2184.3 1445.72 L2137.45 1445.72 L2137.45 1445.72  Z\" fill=\"#009af9\" fill-rule=\"evenodd\" fill-opacity=\"1\"/>\n",
       "<polyline clip-path=\"url(#clip972)\" style=\"stroke:#000000; stroke-linecap:round; stroke-linejoin:round; stroke-width:4; stroke-opacity:1; fill:none\" points=\"2137.45,1445.72 2137.45,1445.72 2184.3,1445.72 2137.45,1445.72 \"/>\n",
       "<path clip-path=\"url(#clip972)\" d=\"M2184.3 1428.74 L2184.3 1445.72 L2231.15 1445.72 L2231.15 1428.74 L2184.3 1428.74 L2184.3 1428.74  Z\" fill=\"#009af9\" fill-rule=\"evenodd\" fill-opacity=\"1\"/>\n",
       "<polyline clip-path=\"url(#clip972)\" style=\"stroke:#000000; stroke-linecap:round; stroke-linejoin:round; stroke-width:4; stroke-opacity:1; fill:none\" points=\"2184.3,1428.74 2184.3,1445.72 2231.15,1445.72 2231.15,1428.74 2184.3,1428.74 \"/>\n",
       "<circle clip-path=\"url(#clip972)\" style=\"fill:#009af9; stroke:none; fill-opacity:0\" cx=\"286.881\" cy=\"1428.74\" r=\"2\"/>\n",
       "<circle clip-path=\"url(#clip972)\" style=\"fill:#009af9; stroke:none; fill-opacity:0\" cx=\"333.731\" cy=\"1428.74\" r=\"2\"/>\n",
       "<circle clip-path=\"url(#clip972)\" style=\"fill:#009af9; stroke:none; fill-opacity:0\" cx=\"380.581\" cy=\"1445.72\" r=\"2\"/>\n",
       "<circle clip-path=\"url(#clip972)\" style=\"fill:#009af9; stroke:none; fill-opacity:0\" cx=\"427.431\" cy=\"1445.72\" r=\"2\"/>\n",
       "<circle clip-path=\"url(#clip972)\" style=\"fill:#009af9; stroke:none; fill-opacity:0\" cx=\"474.281\" cy=\"1394.8\" r=\"2\"/>\n",
       "<circle clip-path=\"url(#clip972)\" style=\"fill:#009af9; stroke:none; fill-opacity:0\" cx=\"521.131\" cy=\"1411.77\" r=\"2\"/>\n",
       "<circle clip-path=\"url(#clip972)\" style=\"fill:#009af9; stroke:none; fill-opacity:0\" cx=\"567.981\" cy=\"1445.72\" r=\"2\"/>\n",
       "<circle clip-path=\"url(#clip972)\" style=\"fill:#009af9; stroke:none; fill-opacity:0\" cx=\"614.831\" cy=\"1411.77\" r=\"2\"/>\n",
       "<circle clip-path=\"url(#clip972)\" style=\"fill:#009af9; stroke:none; fill-opacity:0\" cx=\"661.681\" cy=\"1225.08\" r=\"2\"/>\n",
       "<circle clip-path=\"url(#clip972)\" style=\"fill:#009af9; stroke:none; fill-opacity:0\" cx=\"708.531\" cy=\"1259.03\" r=\"2\"/>\n",
       "<circle clip-path=\"url(#clip972)\" style=\"fill:#009af9; stroke:none; fill-opacity:0\" cx=\"755.38\" cy=\"1055.37\" r=\"2\"/>\n",
       "<circle clip-path=\"url(#clip972)\" style=\"fill:#009af9; stroke:none; fill-opacity:0\" cx=\"802.23\" cy=\"1021.42\" r=\"2\"/>\n",
       "<circle clip-path=\"url(#clip972)\" style=\"fill:#009af9; stroke:none; fill-opacity:0\" cx=\"849.08\" cy=\"868.676\" r=\"2\"/>\n",
       "<circle clip-path=\"url(#clip972)\" style=\"fill:#009af9; stroke:none; fill-opacity:0\" cx=\"895.93\" cy=\"665.016\" r=\"2\"/>\n",
       "<circle clip-path=\"url(#clip972)\" style=\"fill:#009af9; stroke:none; fill-opacity:0\" cx=\"942.78\" cy=\"376.496\" r=\"2\"/>\n",
       "<circle clip-path=\"url(#clip972)\" style=\"fill:#009af9; stroke:none; fill-opacity:0\" cx=\"989.63\" cy=\"461.355\" r=\"2\"/>\n",
       "<circle clip-path=\"url(#clip972)\" style=\"fill:#009af9; stroke:none; fill-opacity:0\" cx=\"1036.48\" cy=\"223.75\" r=\"2\"/>\n",
       "<circle clip-path=\"url(#clip972)\" style=\"fill:#009af9; stroke:none; fill-opacity:0\" cx=\"1083.33\" cy=\"104.948\" r=\"2\"/>\n",
       "<circle clip-path=\"url(#clip972)\" style=\"fill:#009af9; stroke:none; fill-opacity:0\" cx=\"1130.18\" cy=\"291.637\" r=\"2\"/>\n",
       "<circle clip-path=\"url(#clip972)\" style=\"fill:#009af9; stroke:none; fill-opacity:0\" cx=\"1177.03\" cy=\"274.665\" r=\"2\"/>\n",
       "<circle clip-path=\"url(#clip972)\" style=\"fill:#009af9; stroke:none; fill-opacity:0\" cx=\"1223.88\" cy=\"104.948\" r=\"2\"/>\n",
       "<circle clip-path=\"url(#clip972)\" style=\"fill:#009af9; stroke:none; fill-opacity:0\" cx=\"1270.73\" cy=\"87.9763\" r=\"2\"/>\n",
       "<circle clip-path=\"url(#clip972)\" style=\"fill:#009af9; stroke:none; fill-opacity:0\" cx=\"1317.58\" cy=\"240.722\" r=\"2\"/>\n",
       "<circle clip-path=\"url(#clip972)\" style=\"fill:#009af9; stroke:none; fill-opacity:0\" cx=\"1364.43\" cy=\"631.072\" r=\"2\"/>\n",
       "<circle clip-path=\"url(#clip972)\" style=\"fill:#009af9; stroke:none; fill-opacity:0\" cx=\"1411.28\" cy=\"732.902\" r=\"2\"/>\n",
       "<circle clip-path=\"url(#clip972)\" style=\"fill:#009af9; stroke:none; fill-opacity:0\" cx=\"1458.13\" cy=\"817.761\" r=\"2\"/>\n",
       "<circle clip-path=\"url(#clip972)\" style=\"fill:#009af9; stroke:none; fill-opacity:0\" cx=\"1504.98\" cy=\"1106.28\" r=\"2\"/>\n",
       "<circle clip-path=\"url(#clip972)\" style=\"fill:#009af9; stroke:none; fill-opacity:0\" cx=\"1551.83\" cy=\"1123.25\" r=\"2\"/>\n",
       "<circle clip-path=\"url(#clip972)\" style=\"fill:#009af9; stroke:none; fill-opacity:0\" cx=\"1598.68\" cy=\"1242.05\" r=\"2\"/>\n",
       "<circle clip-path=\"url(#clip972)\" style=\"fill:#009af9; stroke:none; fill-opacity:0\" cx=\"1645.53\" cy=\"1326.91\" r=\"2\"/>\n",
       "<circle clip-path=\"url(#clip972)\" style=\"fill:#009af9; stroke:none; fill-opacity:0\" cx=\"1692.38\" cy=\"1292.97\" r=\"2\"/>\n",
       "<circle clip-path=\"url(#clip972)\" style=\"fill:#009af9; stroke:none; fill-opacity:0\" cx=\"1739.23\" cy=\"1428.74\" r=\"2\"/>\n",
       "<circle clip-path=\"url(#clip972)\" style=\"fill:#009af9; stroke:none; fill-opacity:0\" cx=\"1786.08\" cy=\"1394.8\" r=\"2\"/>\n",
       "<circle clip-path=\"url(#clip972)\" style=\"fill:#009af9; stroke:none; fill-opacity:0\" cx=\"1832.93\" cy=\"1445.72\" r=\"2\"/>\n",
       "<circle clip-path=\"url(#clip972)\" style=\"fill:#009af9; stroke:none; fill-opacity:0\" cx=\"1879.78\" cy=\"1428.74\" r=\"2\"/>\n",
       "<circle clip-path=\"url(#clip972)\" style=\"fill:#009af9; stroke:none; fill-opacity:0\" cx=\"1926.63\" cy=\"1445.72\" r=\"2\"/>\n",
       "<circle clip-path=\"url(#clip972)\" style=\"fill:#009af9; stroke:none; fill-opacity:0\" cx=\"1973.48\" cy=\"1445.72\" r=\"2\"/>\n",
       "<circle clip-path=\"url(#clip972)\" style=\"fill:#009af9; stroke:none; fill-opacity:0\" cx=\"2020.33\" cy=\"1445.72\" r=\"2\"/>\n",
       "<circle clip-path=\"url(#clip972)\" style=\"fill:#009af9; stroke:none; fill-opacity:0\" cx=\"2067.18\" cy=\"1445.72\" r=\"2\"/>\n",
       "<circle clip-path=\"url(#clip972)\" style=\"fill:#009af9; stroke:none; fill-opacity:0\" cx=\"2114.03\" cy=\"1445.72\" r=\"2\"/>\n",
       "<circle clip-path=\"url(#clip972)\" style=\"fill:#009af9; stroke:none; fill-opacity:0\" cx=\"2160.88\" cy=\"1445.72\" r=\"2\"/>\n",
       "<circle clip-path=\"url(#clip972)\" style=\"fill:#009af9; stroke:none; fill-opacity:0\" cx=\"2207.73\" cy=\"1428.74\" r=\"2\"/>\n",
       "<path clip-path=\"url(#clip970)\" d=\"M2005.54 198.898 L2279.06 198.898 L2279.06 95.2176 L2005.54 95.2176  Z\" fill=\"#ffffff\" fill-rule=\"evenodd\" fill-opacity=\"1\"/>\n",
       "<polyline clip-path=\"url(#clip970)\" style=\"stroke:#000000; stroke-linecap:round; stroke-linejoin:round; stroke-width:4; stroke-opacity:1; fill:none\" points=\"2005.54,198.898 2279.06,198.898 2279.06,95.2176 2005.54,95.2176 2005.54,198.898 \"/>\n",
       "<path clip-path=\"url(#clip970)\" d=\"M2030.1 167.794 L2177.5 167.794 L2177.5 126.322 L2030.1 126.322 L2030.1 167.794  Z\" fill=\"#009af9\" fill-rule=\"evenodd\" fill-opacity=\"1\"/>\n",
       "<polyline clip-path=\"url(#clip970)\" style=\"stroke:#000000; stroke-linecap:round; stroke-linejoin:round; stroke-width:4; stroke-opacity:1; fill:none\" points=\"2030.1,167.794 2177.5,167.794 2177.5,126.322 2030.1,126.322 2030.1,167.794 \"/>\n",
       "<path clip-path=\"url(#clip970)\" d=\"M2215.91 166.745 Q2214.1 171.375 2212.39 172.787 Q2210.67 174.199 2207.8 174.199 L2204.4 174.199 L2204.4 170.634 L2206.9 170.634 Q2208.66 170.634 2209.63 169.8 Q2210.6 168.967 2211.79 165.865 L2212.55 163.921 L2202.06 138.412 L2206.58 138.412 L2214.68 158.689 L2222.78 138.412 L2227.29 138.412 L2215.91 166.745 Z\" fill=\"#000000\" fill-rule=\"evenodd\" fill-opacity=\"1\" /><path clip-path=\"url(#clip970)\" d=\"M2234.59 160.402 L2242.23 160.402 L2242.23 134.037 L2233.91 135.703 L2233.91 131.444 L2242.18 129.778 L2246.85 129.778 L2246.85 160.402 L2254.49 160.402 L2254.49 164.338 L2234.59 164.338 L2234.59 160.402 Z\" fill=\"#000000\" fill-rule=\"evenodd\" fill-opacity=\"1\" /></svg>\n"
      ]
     },
     "execution_count": 26,
     "metadata": {},
     "output_type": "execute_result"
    }
   ],
   "source": [
    "histogram(x, bins=50)"
   ]
  },
  {
   "cell_type": "markdown",
   "id": "ad6cbc35",
   "metadata": {},
   "source": [
    "### 3.4 \n",
    "\n",
    "#### Choose a distribution other than normal distribution, Describe what it represents, and draw 1000 samples from the distribution and plot it using parameters of your choice"
   ]
  },
  {
   "cell_type": "markdown",
   "id": "6df4cb7e",
   "metadata": {},
   "source": [
    "Which distribution do you pick: Binomial(n,p)"
   ]
  },
  {
   "cell_type": "markdown",
   "id": "7ea6f75c",
   "metadata": {},
   "source": [
    "What does the distribution represent? A binomial distribution is a discrete univarible. It represents the probability for x successes in n trials, given a success probability p for each trial. "
   ]
  },
  {
   "cell_type": "code",
   "execution_count": 22,
   "id": "22a00c51",
   "metadata": {},
   "outputs": [
    {
     "data": {
      "text/plain": [
       "1000-element Vector{Int64}:\n",
       " 0\n",
       " 0\n",
       " 1\n",
       " 1\n",
       " 1\n",
       " 1\n",
       " 0\n",
       " 1\n",
       " 0\n",
       " 0\n",
       " 1\n",
       " 0\n",
       " 1\n",
       " ⋮\n",
       " 1\n",
       " 0\n",
       " 0\n",
       " 0\n",
       " 0\n",
       " 0\n",
       " 1\n",
       " 0\n",
       " 1\n",
       " 1\n",
       " 1\n",
       " 1"
      ]
     },
     "execution_count": 22,
     "metadata": {},
     "output_type": "execute_result"
    }
   ],
   "source": [
    "a=Binomial()\n",
    "Binomial(100,0.3)\n",
    "sample=rand(a,1000)"
   ]
  },
  {
   "cell_type": "markdown",
   "id": "9d56bbd5",
   "metadata": {},
   "source": [
    "### 3.5\n",
    "\n",
    "#### Plot  the two distributions in the same plot"
   ]
  },
  {
   "cell_type": "code",
   "execution_count": 25,
   "id": "447aeb72",
   "metadata": {
    "scrolled": true
   },
   "outputs": [
    {
     "data": {
      "image/svg+xml": [
       "<?xml version=\"1.0\" encoding=\"utf-8\"?>\n",
       "<svg xmlns=\"http://www.w3.org/2000/svg\" xmlns:xlink=\"http://www.w3.org/1999/xlink\" width=\"600\" height=\"400\" viewBox=\"0 0 2400 1600\">\n",
       "<defs>\n",
       "  <clipPath id=\"clip930\">\n",
       "    <rect x=\"0\" y=\"0\" width=\"2400\" height=\"1600\"/>\n",
       "  </clipPath>\n",
       "</defs>\n",
       "<path clip-path=\"url(#clip930)\" d=\"M0 1600 L2400 1600 L2400 0 L0 0  Z\" fill=\"#ffffff\" fill-rule=\"evenodd\" fill-opacity=\"1\"/>\n",
       "<defs>\n",
       "  <clipPath id=\"clip931\">\n",
       "    <rect x=\"480\" y=\"0\" width=\"1681\" height=\"1600\"/>\n",
       "  </clipPath>\n",
       "</defs>\n",
       "<path clip-path=\"url(#clip930)\" d=\"M202.177 1486.45 L2352.76 1486.45 L2352.76 47.2441 L202.177 47.2441  Z\" fill=\"#ffffff\" fill-rule=\"evenodd\" fill-opacity=\"1\"/>\n",
       "<defs>\n",
       "  <clipPath id=\"clip932\">\n",
       "    <rect x=\"202\" y=\"47\" width=\"2152\" height=\"1440\"/>\n",
       "  </clipPath>\n",
       "</defs>\n",
       "<polyline clip-path=\"url(#clip932)\" style=\"stroke:#000000; stroke-linecap:round; stroke-linejoin:round; stroke-width:2; stroke-opacity:0.1; fill:none\" points=\"320.462,1486.45 320.462,47.2441 \"/>\n",
       "<polyline clip-path=\"url(#clip932)\" style=\"stroke:#000000; stroke-linecap:round; stroke-linejoin:round; stroke-width:2; stroke-opacity:0.1; fill:none\" points=\"745.797,1486.45 745.797,47.2441 \"/>\n",
       "<polyline clip-path=\"url(#clip932)\" style=\"stroke:#000000; stroke-linecap:round; stroke-linejoin:round; stroke-width:2; stroke-opacity:0.1; fill:none\" points=\"1171.13,1486.45 1171.13,47.2441 \"/>\n",
       "<polyline clip-path=\"url(#clip932)\" style=\"stroke:#000000; stroke-linecap:round; stroke-linejoin:round; stroke-width:2; stroke-opacity:0.1; fill:none\" points=\"1596.47,1486.45 1596.47,47.2441 \"/>\n",
       "<polyline clip-path=\"url(#clip932)\" style=\"stroke:#000000; stroke-linecap:round; stroke-linejoin:round; stroke-width:2; stroke-opacity:0.1; fill:none\" points=\"2021.8,1486.45 2021.8,47.2441 \"/>\n",
       "<polyline clip-path=\"url(#clip930)\" style=\"stroke:#000000; stroke-linecap:round; stroke-linejoin:round; stroke-width:4; stroke-opacity:1; fill:none\" points=\"202.177,1486.45 2352.76,1486.45 \"/>\n",
       "<polyline clip-path=\"url(#clip930)\" style=\"stroke:#000000; stroke-linecap:round; stroke-linejoin:round; stroke-width:4; stroke-opacity:1; fill:none\" points=\"320.462,1486.45 320.462,1467.55 \"/>\n",
       "<polyline clip-path=\"url(#clip930)\" style=\"stroke:#000000; stroke-linecap:round; stroke-linejoin:round; stroke-width:4; stroke-opacity:1; fill:none\" points=\"745.797,1486.45 745.797,1467.55 \"/>\n",
       "<polyline clip-path=\"url(#clip930)\" style=\"stroke:#000000; stroke-linecap:round; stroke-linejoin:round; stroke-width:4; stroke-opacity:1; fill:none\" points=\"1171.13,1486.45 1171.13,1467.55 \"/>\n",
       "<polyline clip-path=\"url(#clip930)\" style=\"stroke:#000000; stroke-linecap:round; stroke-linejoin:round; stroke-width:4; stroke-opacity:1; fill:none\" points=\"1596.47,1486.45 1596.47,1467.55 \"/>\n",
       "<polyline clip-path=\"url(#clip930)\" style=\"stroke:#000000; stroke-linecap:round; stroke-linejoin:round; stroke-width:4; stroke-opacity:1; fill:none\" points=\"2021.8,1486.45 2021.8,1467.55 \"/>\n",
       "<path clip-path=\"url(#clip930)\" d=\"M289.363 1532.02 L319.039 1532.02 L319.039 1535.95 L289.363 1535.95 L289.363 1532.02 Z\" fill=\"#000000\" fill-rule=\"evenodd\" fill-opacity=\"1\" /><path clip-path=\"url(#clip930)\" d=\"M341.978 1518.36 L330.173 1536.81 L341.978 1536.81 L341.978 1518.36 M340.752 1514.29 L346.631 1514.29 L346.631 1536.81 L351.562 1536.81 L351.562 1540.7 L346.631 1540.7 L346.631 1548.85 L341.978 1548.85 L341.978 1540.7 L326.377 1540.7 L326.377 1536.19 L340.752 1514.29 Z\" fill=\"#000000\" fill-rule=\"evenodd\" fill-opacity=\"1\" /><path clip-path=\"url(#clip930)\" d=\"M715.74 1532.02 L745.416 1532.02 L745.416 1535.95 L715.74 1535.95 L715.74 1532.02 Z\" fill=\"#000000\" fill-rule=\"evenodd\" fill-opacity=\"1\" /><path clip-path=\"url(#clip930)\" d=\"M759.536 1544.91 L775.855 1544.91 L775.855 1548.85 L753.911 1548.85 L753.911 1544.91 Q756.573 1542.16 761.156 1537.53 Q765.763 1532.88 766.943 1531.53 Q769.189 1529.01 770.068 1527.27 Q770.971 1525.51 770.971 1523.82 Q770.971 1521.07 769.026 1519.33 Q767.105 1517.6 764.003 1517.6 Q761.804 1517.6 759.351 1518.36 Q756.92 1519.13 754.142 1520.68 L754.142 1515.95 Q756.966 1514.82 759.42 1514.24 Q761.874 1513.66 763.911 1513.66 Q769.281 1513.66 772.476 1516.35 Q775.67 1519.03 775.67 1523.52 Q775.67 1525.65 774.86 1527.57 Q774.073 1529.47 771.966 1532.07 Q771.388 1532.74 768.286 1535.95 Q765.184 1539.15 759.536 1544.91 Z\" fill=\"#000000\" fill-rule=\"evenodd\" fill-opacity=\"1\" /><path clip-path=\"url(#clip930)\" d=\"M1171.13 1517.37 Q1167.52 1517.37 1165.69 1520.93 Q1163.89 1524.47 1163.89 1531.6 Q1163.89 1538.71 1165.69 1542.27 Q1167.52 1545.82 1171.13 1545.82 Q1174.77 1545.82 1176.57 1542.27 Q1178.4 1538.71 1178.4 1531.6 Q1178.4 1524.47 1176.57 1520.93 Q1174.77 1517.37 1171.13 1517.37 M1171.13 1513.66 Q1176.94 1513.66 1180 1518.27 Q1183.08 1522.85 1183.08 1531.6 Q1183.08 1540.33 1180 1544.94 Q1176.94 1549.52 1171.13 1549.52 Q1165.32 1549.52 1162.24 1544.94 Q1159.19 1540.33 1159.19 1531.6 Q1159.19 1522.85 1162.24 1518.27 Q1165.32 1513.66 1171.13 1513.66 Z\" fill=\"#000000\" fill-rule=\"evenodd\" fill-opacity=\"1\" /><path clip-path=\"url(#clip930)\" d=\"M1591.12 1544.91 L1607.44 1544.91 L1607.44 1548.85 L1585.5 1548.85 L1585.5 1544.91 Q1588.16 1542.16 1592.74 1537.53 Q1597.35 1532.88 1598.53 1531.53 Q1600.77 1529.01 1601.65 1527.27 Q1602.56 1525.51 1602.56 1523.82 Q1602.56 1521.07 1600.61 1519.33 Q1598.69 1517.6 1595.59 1517.6 Q1593.39 1517.6 1590.94 1518.36 Q1588.5 1519.13 1585.73 1520.68 L1585.73 1515.95 Q1588.55 1514.82 1591 1514.24 Q1593.46 1513.66 1595.5 1513.66 Q1600.87 1513.66 1604.06 1516.35 Q1607.25 1519.03 1607.25 1523.52 Q1607.25 1525.65 1606.44 1527.57 Q1605.66 1529.47 1603.55 1532.07 Q1602.97 1532.74 1599.87 1535.95 Q1596.77 1539.15 1591.12 1544.91 Z\" fill=\"#000000\" fill-rule=\"evenodd\" fill-opacity=\"1\" /><path clip-path=\"url(#clip930)\" d=\"M2024.81 1518.36 L2013.01 1536.81 L2024.81 1536.81 L2024.81 1518.36 M2023.59 1514.29 L2029.46 1514.29 L2029.46 1536.81 L2034.4 1536.81 L2034.4 1540.7 L2029.46 1540.7 L2029.46 1548.85 L2024.81 1548.85 L2024.81 1540.7 L2009.21 1540.7 L2009.21 1536.19 L2023.59 1514.29 Z\" fill=\"#000000\" fill-rule=\"evenodd\" fill-opacity=\"1\" /><polyline clip-path=\"url(#clip932)\" style=\"stroke:#000000; stroke-linecap:round; stroke-linejoin:round; stroke-width:2; stroke-opacity:0.1; fill:none\" points=\"202.177,1445.72 2352.76,1445.72 \"/>\n",
       "<polyline clip-path=\"url(#clip932)\" style=\"stroke:#000000; stroke-linecap:round; stroke-linejoin:round; stroke-width:2; stroke-opacity:0.1; fill:none\" points=\"202.177,1178.18 2352.76,1178.18 \"/>\n",
       "<polyline clip-path=\"url(#clip932)\" style=\"stroke:#000000; stroke-linecap:round; stroke-linejoin:round; stroke-width:2; stroke-opacity:0.1; fill:none\" points=\"202.177,910.646 2352.76,910.646 \"/>\n",
       "<polyline clip-path=\"url(#clip932)\" style=\"stroke:#000000; stroke-linecap:round; stroke-linejoin:round; stroke-width:2; stroke-opacity:0.1; fill:none\" points=\"202.177,643.111 2352.76,643.111 \"/>\n",
       "<polyline clip-path=\"url(#clip932)\" style=\"stroke:#000000; stroke-linecap:round; stroke-linejoin:round; stroke-width:2; stroke-opacity:0.1; fill:none\" points=\"202.177,375.576 2352.76,375.576 \"/>\n",
       "<polyline clip-path=\"url(#clip932)\" style=\"stroke:#000000; stroke-linecap:round; stroke-linejoin:round; stroke-width:2; stroke-opacity:0.1; fill:none\" points=\"202.177,108.041 2352.76,108.041 \"/>\n",
       "<polyline clip-path=\"url(#clip930)\" style=\"stroke:#000000; stroke-linecap:round; stroke-linejoin:round; stroke-width:4; stroke-opacity:1; fill:none\" points=\"202.177,1486.45 202.177,47.2441 \"/>\n",
       "<polyline clip-path=\"url(#clip930)\" style=\"stroke:#000000; stroke-linecap:round; stroke-linejoin:round; stroke-width:4; stroke-opacity:1; fill:none\" points=\"202.177,1445.72 221.074,1445.72 \"/>\n",
       "<polyline clip-path=\"url(#clip930)\" style=\"stroke:#000000; stroke-linecap:round; stroke-linejoin:round; stroke-width:4; stroke-opacity:1; fill:none\" points=\"202.177,1178.18 221.074,1178.18 \"/>\n",
       "<polyline clip-path=\"url(#clip930)\" style=\"stroke:#000000; stroke-linecap:round; stroke-linejoin:round; stroke-width:4; stroke-opacity:1; fill:none\" points=\"202.177,910.646 221.074,910.646 \"/>\n",
       "<polyline clip-path=\"url(#clip930)\" style=\"stroke:#000000; stroke-linecap:round; stroke-linejoin:round; stroke-width:4; stroke-opacity:1; fill:none\" points=\"202.177,643.111 221.074,643.111 \"/>\n",
       "<polyline clip-path=\"url(#clip930)\" style=\"stroke:#000000; stroke-linecap:round; stroke-linejoin:round; stroke-width:4; stroke-opacity:1; fill:none\" points=\"202.177,375.576 221.074,375.576 \"/>\n",
       "<polyline clip-path=\"url(#clip930)\" style=\"stroke:#000000; stroke-linecap:round; stroke-linejoin:round; stroke-width:4; stroke-opacity:1; fill:none\" points=\"202.177,108.041 221.074,108.041 \"/>\n",
       "<path clip-path=\"url(#clip930)\" d=\"M154.232 1431.51 Q150.621 1431.51 148.793 1435.08 Q146.987 1438.62 146.987 1445.75 Q146.987 1452.86 148.793 1456.42 Q150.621 1459.96 154.232 1459.96 Q157.867 1459.96 159.672 1456.42 Q161.501 1452.86 161.501 1445.75 Q161.501 1438.62 159.672 1435.08 Q157.867 1431.51 154.232 1431.51 M154.232 1427.81 Q160.042 1427.81 163.098 1432.42 Q166.177 1437 166.177 1445.75 Q166.177 1454.48 163.098 1459.08 Q160.042 1463.67 154.232 1463.67 Q148.422 1463.67 145.343 1459.08 Q142.288 1454.48 142.288 1445.75 Q142.288 1437 145.343 1432.42 Q148.422 1427.81 154.232 1427.81 Z\" fill=\"#000000\" fill-rule=\"evenodd\" fill-opacity=\"1\" /><path clip-path=\"url(#clip930)\" d=\"M54.5569 1191.53 L62.1958 1191.53 L62.1958 1165.16 L53.8856 1166.83 L53.8856 1162.57 L62.1495 1160.9 L66.8254 1160.9 L66.8254 1191.53 L74.4642 1191.53 L74.4642 1195.46 L54.5569 1195.46 L54.5569 1191.53 Z\" fill=\"#000000\" fill-rule=\"evenodd\" fill-opacity=\"1\" /><path clip-path=\"url(#clip930)\" d=\"M93.9086 1163.98 Q90.2975 1163.98 88.4688 1167.54 Q86.6632 1171.09 86.6632 1178.22 Q86.6632 1185.32 88.4688 1188.89 Q90.2975 1192.43 93.9086 1192.43 Q97.5428 1192.43 99.3483 1188.89 Q101.177 1185.32 101.177 1178.22 Q101.177 1171.09 99.3483 1167.54 Q97.5428 1163.98 93.9086 1163.98 M93.9086 1160.28 Q99.7187 1160.28 102.774 1164.88 Q105.853 1169.47 105.853 1178.22 Q105.853 1186.94 102.774 1191.55 Q99.7187 1196.13 93.9086 1196.13 Q88.0984 1196.13 85.0197 1191.55 Q81.9642 1186.94 81.9642 1178.22 Q81.9642 1169.47 85.0197 1164.88 Q88.0984 1160.28 93.9086 1160.28 Z\" fill=\"#000000\" fill-rule=\"evenodd\" fill-opacity=\"1\" /><path clip-path=\"url(#clip930)\" d=\"M124.07 1163.98 Q120.459 1163.98 118.631 1167.54 Q116.825 1171.09 116.825 1178.22 Q116.825 1185.32 118.631 1188.89 Q120.459 1192.43 124.07 1192.43 Q127.705 1192.43 129.51 1188.89 Q131.339 1185.32 131.339 1178.22 Q131.339 1171.09 129.51 1167.54 Q127.705 1163.98 124.07 1163.98 M124.07 1160.28 Q129.881 1160.28 132.936 1164.88 Q136.015 1169.47 136.015 1178.22 Q136.015 1186.94 132.936 1191.55 Q129.881 1196.13 124.07 1196.13 Q118.26 1196.13 115.182 1191.55 Q112.126 1186.94 112.126 1178.22 Q112.126 1169.47 115.182 1164.88 Q118.26 1160.28 124.07 1160.28 Z\" fill=\"#000000\" fill-rule=\"evenodd\" fill-opacity=\"1\" /><path clip-path=\"url(#clip930)\" d=\"M154.232 1163.98 Q150.621 1163.98 148.793 1167.54 Q146.987 1171.09 146.987 1178.22 Q146.987 1185.32 148.793 1188.89 Q150.621 1192.43 154.232 1192.43 Q157.867 1192.43 159.672 1188.89 Q161.501 1185.32 161.501 1178.22 Q161.501 1171.09 159.672 1167.54 Q157.867 1163.98 154.232 1163.98 M154.232 1160.28 Q160.042 1160.28 163.098 1164.88 Q166.177 1169.47 166.177 1178.22 Q166.177 1186.94 163.098 1191.55 Q160.042 1196.13 154.232 1196.13 Q148.422 1196.13 145.343 1191.55 Q142.288 1186.94 142.288 1178.22 Q142.288 1169.47 145.343 1164.88 Q148.422 1160.28 154.232 1160.28 Z\" fill=\"#000000\" fill-rule=\"evenodd\" fill-opacity=\"1\" /><path clip-path=\"url(#clip930)\" d=\"M57.7745 923.991 L74.0939 923.991 L74.0939 927.926 L52.1495 927.926 L52.1495 923.991 Q54.8115 921.236 59.3949 916.607 Q64.0013 911.954 65.1819 910.611 Q67.4272 908.088 68.3068 906.352 Q69.2096 904.593 69.2096 902.903 Q69.2096 900.148 67.2652 898.412 Q65.3439 896.676 62.2421 896.676 Q60.043 896.676 57.5893 897.44 Q55.1588 898.204 52.381 899.755 L52.381 895.033 Q55.2051 893.898 57.6588 893.32 Q60.1124 892.741 62.1495 892.741 Q67.5198 892.741 70.7142 895.426 Q73.9087 898.111 73.9087 902.602 Q73.9087 904.732 73.0985 906.653 Q72.3115 908.551 70.205 911.144 Q69.6263 911.815 66.5245 915.033 Q63.4226 918.227 57.7745 923.991 Z\" fill=\"#000000\" fill-rule=\"evenodd\" fill-opacity=\"1\" /><path clip-path=\"url(#clip930)\" d=\"M93.9086 896.445 Q90.2975 896.445 88.4688 900.009 Q86.6632 903.551 86.6632 910.681 Q86.6632 917.787 88.4688 921.352 Q90.2975 924.894 93.9086 924.894 Q97.5428 924.894 99.3483 921.352 Q101.177 917.787 101.177 910.681 Q101.177 903.551 99.3483 900.009 Q97.5428 896.445 93.9086 896.445 M93.9086 892.741 Q99.7187 892.741 102.774 897.347 Q105.853 901.931 105.853 910.681 Q105.853 919.407 102.774 924.014 Q99.7187 928.597 93.9086 928.597 Q88.0984 928.597 85.0197 924.014 Q81.9642 919.407 81.9642 910.681 Q81.9642 901.931 85.0197 897.347 Q88.0984 892.741 93.9086 892.741 Z\" fill=\"#000000\" fill-rule=\"evenodd\" fill-opacity=\"1\" /><path clip-path=\"url(#clip930)\" d=\"M124.07 896.445 Q120.459 896.445 118.631 900.009 Q116.825 903.551 116.825 910.681 Q116.825 917.787 118.631 921.352 Q120.459 924.894 124.07 924.894 Q127.705 924.894 129.51 921.352 Q131.339 917.787 131.339 910.681 Q131.339 903.551 129.51 900.009 Q127.705 896.445 124.07 896.445 M124.07 892.741 Q129.881 892.741 132.936 897.347 Q136.015 901.931 136.015 910.681 Q136.015 919.407 132.936 924.014 Q129.881 928.597 124.07 928.597 Q118.26 928.597 115.182 924.014 Q112.126 919.407 112.126 910.681 Q112.126 901.931 115.182 897.347 Q118.26 892.741 124.07 892.741 Z\" fill=\"#000000\" fill-rule=\"evenodd\" fill-opacity=\"1\" /><path clip-path=\"url(#clip930)\" d=\"M154.232 896.445 Q150.621 896.445 148.793 900.009 Q146.987 903.551 146.987 910.681 Q146.987 917.787 148.793 921.352 Q150.621 924.894 154.232 924.894 Q157.867 924.894 159.672 921.352 Q161.501 917.787 161.501 910.681 Q161.501 903.551 159.672 900.009 Q157.867 896.445 154.232 896.445 M154.232 892.741 Q160.042 892.741 163.098 897.347 Q166.177 901.931 166.177 910.681 Q166.177 919.407 163.098 924.014 Q160.042 928.597 154.232 928.597 Q148.422 928.597 145.343 924.014 Q142.288 919.407 142.288 910.681 Q142.288 901.931 145.343 897.347 Q148.422 892.741 154.232 892.741 Z\" fill=\"#000000\" fill-rule=\"evenodd\" fill-opacity=\"1\" /><path clip-path=\"url(#clip930)\" d=\"M67.9133 641.757 Q71.2698 642.475 73.1448 644.743 Q75.0429 647.012 75.0429 650.345 Q75.0429 655.461 71.5244 658.261 Q68.0059 661.062 61.5245 661.062 Q59.3486 661.062 57.0338 660.623 Q54.7421 660.206 52.2884 659.349 L52.2884 654.836 Q54.2328 655.97 56.5477 656.549 Q58.8625 657.127 61.3856 657.127 Q65.7837 657.127 68.0754 655.391 Q70.3902 653.655 70.3902 650.345 Q70.3902 647.289 68.2374 645.576 Q66.1078 643.84 62.2884 643.84 L58.2606 643.84 L58.2606 639.998 L62.4735 639.998 Q65.9226 639.998 67.7513 638.632 Q69.58 637.243 69.58 634.651 Q69.58 631.988 67.6819 630.576 Q65.8069 629.141 62.2884 629.141 Q60.3671 629.141 58.168 629.558 Q55.969 629.975 53.3301 630.854 L53.3301 626.688 Q55.9921 625.947 58.3069 625.576 Q60.6449 625.206 62.705 625.206 Q68.0291 625.206 71.1309 627.637 Q74.2327 630.044 74.2327 634.164 Q74.2327 637.035 72.5892 639.025 Q70.9457 640.993 67.9133 641.757 Z\" fill=\"#000000\" fill-rule=\"evenodd\" fill-opacity=\"1\" /><path clip-path=\"url(#clip930)\" d=\"M93.9086 628.91 Q90.2975 628.91 88.4688 632.475 Q86.6632 636.016 86.6632 643.146 Q86.6632 650.252 88.4688 653.817 Q90.2975 657.359 93.9086 657.359 Q97.5428 657.359 99.3483 653.817 Q101.177 650.252 101.177 643.146 Q101.177 636.016 99.3483 632.475 Q97.5428 628.91 93.9086 628.91 M93.9086 625.206 Q99.7187 625.206 102.774 629.813 Q105.853 634.396 105.853 643.146 Q105.853 651.873 102.774 656.479 Q99.7187 661.062 93.9086 661.062 Q88.0984 661.062 85.0197 656.479 Q81.9642 651.873 81.9642 643.146 Q81.9642 634.396 85.0197 629.813 Q88.0984 625.206 93.9086 625.206 Z\" fill=\"#000000\" fill-rule=\"evenodd\" fill-opacity=\"1\" /><path clip-path=\"url(#clip930)\" d=\"M124.07 628.91 Q120.459 628.91 118.631 632.475 Q116.825 636.016 116.825 643.146 Q116.825 650.252 118.631 653.817 Q120.459 657.359 124.07 657.359 Q127.705 657.359 129.51 653.817 Q131.339 650.252 131.339 643.146 Q131.339 636.016 129.51 632.475 Q127.705 628.91 124.07 628.91 M124.07 625.206 Q129.881 625.206 132.936 629.813 Q136.015 634.396 136.015 643.146 Q136.015 651.873 132.936 656.479 Q129.881 661.062 124.07 661.062 Q118.26 661.062 115.182 656.479 Q112.126 651.873 112.126 643.146 Q112.126 634.396 115.182 629.813 Q118.26 625.206 124.07 625.206 Z\" fill=\"#000000\" fill-rule=\"evenodd\" fill-opacity=\"1\" /><path clip-path=\"url(#clip930)\" d=\"M154.232 628.91 Q150.621 628.91 148.793 632.475 Q146.987 636.016 146.987 643.146 Q146.987 650.252 148.793 653.817 Q150.621 657.359 154.232 657.359 Q157.867 657.359 159.672 653.817 Q161.501 650.252 161.501 643.146 Q161.501 636.016 159.672 632.475 Q157.867 628.91 154.232 628.91 M154.232 625.206 Q160.042 625.206 163.098 629.813 Q166.177 634.396 166.177 643.146 Q166.177 651.873 163.098 656.479 Q160.042 661.062 154.232 661.062 Q148.422 661.062 145.343 656.479 Q142.288 651.873 142.288 643.146 Q142.288 634.396 145.343 629.813 Q148.422 625.206 154.232 625.206 Z\" fill=\"#000000\" fill-rule=\"evenodd\" fill-opacity=\"1\" /><path clip-path=\"url(#clip930)\" d=\"M66.5939 362.37 L54.7884 380.819 L66.5939 380.819 L66.5939 362.37 M65.367 358.296 L71.2466 358.296 L71.2466 380.819 L76.1772 380.819 L76.1772 384.708 L71.2466 384.708 L71.2466 392.856 L66.5939 392.856 L66.5939 384.708 L50.9921 384.708 L50.9921 380.194 L65.367 358.296 Z\" fill=\"#000000\" fill-rule=\"evenodd\" fill-opacity=\"1\" /><path clip-path=\"url(#clip930)\" d=\"M93.9086 361.375 Q90.2975 361.375 88.4688 364.94 Q86.6632 368.481 86.6632 375.611 Q86.6632 382.717 88.4688 386.282 Q90.2975 389.824 93.9086 389.824 Q97.5428 389.824 99.3483 386.282 Q101.177 382.717 101.177 375.611 Q101.177 368.481 99.3483 364.94 Q97.5428 361.375 93.9086 361.375 M93.9086 357.671 Q99.7187 357.671 102.774 362.278 Q105.853 366.861 105.853 375.611 Q105.853 384.338 102.774 388.944 Q99.7187 393.528 93.9086 393.528 Q88.0984 393.528 85.0197 388.944 Q81.9642 384.338 81.9642 375.611 Q81.9642 366.861 85.0197 362.278 Q88.0984 357.671 93.9086 357.671 Z\" fill=\"#000000\" fill-rule=\"evenodd\" fill-opacity=\"1\" /><path clip-path=\"url(#clip930)\" d=\"M124.07 361.375 Q120.459 361.375 118.631 364.94 Q116.825 368.481 116.825 375.611 Q116.825 382.717 118.631 386.282 Q120.459 389.824 124.07 389.824 Q127.705 389.824 129.51 386.282 Q131.339 382.717 131.339 375.611 Q131.339 368.481 129.51 364.94 Q127.705 361.375 124.07 361.375 M124.07 357.671 Q129.881 357.671 132.936 362.278 Q136.015 366.861 136.015 375.611 Q136.015 384.338 132.936 388.944 Q129.881 393.528 124.07 393.528 Q118.26 393.528 115.182 388.944 Q112.126 384.338 112.126 375.611 Q112.126 366.861 115.182 362.278 Q118.26 357.671 124.07 357.671 Z\" fill=\"#000000\" fill-rule=\"evenodd\" fill-opacity=\"1\" /><path clip-path=\"url(#clip930)\" d=\"M154.232 361.375 Q150.621 361.375 148.793 364.94 Q146.987 368.481 146.987 375.611 Q146.987 382.717 148.793 386.282 Q150.621 389.824 154.232 389.824 Q157.867 389.824 159.672 386.282 Q161.501 382.717 161.501 375.611 Q161.501 368.481 159.672 364.94 Q157.867 361.375 154.232 361.375 M154.232 357.671 Q160.042 357.671 163.098 362.278 Q166.177 366.861 166.177 375.611 Q166.177 384.338 163.098 388.944 Q160.042 393.528 154.232 393.528 Q148.422 393.528 145.343 388.944 Q142.288 384.338 142.288 375.611 Q142.288 366.861 145.343 362.278 Q148.422 357.671 154.232 357.671 Z\" fill=\"#000000\" fill-rule=\"evenodd\" fill-opacity=\"1\" /><path clip-path=\"url(#clip930)\" d=\"M53.793 90.7614 L72.1494 90.7614 L72.1494 94.6966 L58.0754 94.6966 L58.0754 103.169 Q59.0939 102.822 60.1124 102.659 Q61.131 102.474 62.1495 102.474 Q67.9365 102.474 71.3161 105.646 Q74.6957 108.817 74.6957 114.233 Q74.6957 119.812 71.2235 122.914 Q67.7513 125.993 61.4319 125.993 Q59.256 125.993 56.9875 125.622 Q54.7421 125.252 52.3347 124.511 L52.3347 119.812 Q54.418 120.946 56.6402 121.502 Q58.8625 122.058 61.3393 122.058 Q65.3439 122.058 67.6819 119.951 Q70.0198 117.845 70.0198 114.233 Q70.0198 110.622 67.6819 108.516 Q65.3439 106.409 61.3393 106.409 Q59.4643 106.409 57.5893 106.826 Q55.7375 107.243 53.793 108.122 L53.793 90.7614 Z\" fill=\"#000000\" fill-rule=\"evenodd\" fill-opacity=\"1\" /><path clip-path=\"url(#clip930)\" d=\"M93.9086 93.8401 Q90.2975 93.8401 88.4688 97.4049 Q86.6632 100.947 86.6632 108.076 Q86.6632 115.183 88.4688 118.747 Q90.2975 122.289 93.9086 122.289 Q97.5428 122.289 99.3483 118.747 Q101.177 115.183 101.177 108.076 Q101.177 100.947 99.3483 97.4049 Q97.5428 93.8401 93.9086 93.8401 M93.9086 90.1364 Q99.7187 90.1364 102.774 94.7429 Q105.853 99.3262 105.853 108.076 Q105.853 116.803 102.774 121.409 Q99.7187 125.993 93.9086 125.993 Q88.0984 125.993 85.0197 121.409 Q81.9642 116.803 81.9642 108.076 Q81.9642 99.3262 85.0197 94.7429 Q88.0984 90.1364 93.9086 90.1364 Z\" fill=\"#000000\" fill-rule=\"evenodd\" fill-opacity=\"1\" /><path clip-path=\"url(#clip930)\" d=\"M124.07 93.8401 Q120.459 93.8401 118.631 97.4049 Q116.825 100.947 116.825 108.076 Q116.825 115.183 118.631 118.747 Q120.459 122.289 124.07 122.289 Q127.705 122.289 129.51 118.747 Q131.339 115.183 131.339 108.076 Q131.339 100.947 129.51 97.4049 Q127.705 93.8401 124.07 93.8401 M124.07 90.1364 Q129.881 90.1364 132.936 94.7429 Q136.015 99.3262 136.015 108.076 Q136.015 116.803 132.936 121.409 Q129.881 125.993 124.07 125.993 Q118.26 125.993 115.182 121.409 Q112.126 116.803 112.126 108.076 Q112.126 99.3262 115.182 94.7429 Q118.26 90.1364 124.07 90.1364 Z\" fill=\"#000000\" fill-rule=\"evenodd\" fill-opacity=\"1\" /><path clip-path=\"url(#clip930)\" d=\"M154.232 93.8401 Q150.621 93.8401 148.793 97.4049 Q146.987 100.947 146.987 108.076 Q146.987 115.183 148.793 118.747 Q150.621 122.289 154.232 122.289 Q157.867 122.289 159.672 118.747 Q161.501 115.183 161.501 108.076 Q161.501 100.947 159.672 97.4049 Q157.867 93.8401 154.232 93.8401 M154.232 90.1364 Q160.042 90.1364 163.098 94.7429 Q166.177 99.3262 166.177 108.076 Q166.177 116.803 163.098 121.409 Q160.042 125.993 154.232 125.993 Q148.422 125.993 145.343 121.409 Q142.288 116.803 142.288 108.076 Q142.288 99.3262 145.343 94.7429 Q148.422 90.1364 154.232 90.1364 Z\" fill=\"#000000\" fill-rule=\"evenodd\" fill-opacity=\"1\" /><path clip-path=\"url(#clip932)\" d=\"M320.462 1445.45 L320.462 1445.72 L426.796 1445.72 L426.796 1445.45 L320.462 1445.45 L320.462 1445.45  Z\" fill=\"#009af9\" fill-rule=\"evenodd\" fill-opacity=\"1\"/>\n",
       "<polyline clip-path=\"url(#clip932)\" style=\"stroke:#000000; stroke-linecap:round; stroke-linejoin:round; stroke-width:4; stroke-opacity:1; fill:none\" points=\"320.462,1445.45 320.462,1445.72 426.796,1445.72 426.796,1445.45 320.462,1445.45 \"/>\n",
       "<path clip-path=\"url(#clip932)\" d=\"M426.796 1445.45 L426.796 1445.72 L533.13 1445.72 L533.13 1445.45 L426.796 1445.45 L426.796 1445.45  Z\" fill=\"#009af9\" fill-rule=\"evenodd\" fill-opacity=\"1\"/>\n",
       "<polyline clip-path=\"url(#clip932)\" style=\"stroke:#000000; stroke-linecap:round; stroke-linejoin:round; stroke-width:4; stroke-opacity:1; fill:none\" points=\"426.796,1445.45 426.796,1445.72 533.13,1445.72 533.13,1445.45 426.796,1445.45 \"/>\n",
       "<path clip-path=\"url(#clip932)\" d=\"M533.13 1444.38 L533.13 1445.72 L639.464 1445.72 L639.464 1444.38 L533.13 1444.38 L533.13 1444.38  Z\" fill=\"#009af9\" fill-rule=\"evenodd\" fill-opacity=\"1\"/>\n",
       "<polyline clip-path=\"url(#clip932)\" style=\"stroke:#000000; stroke-linecap:round; stroke-linejoin:round; stroke-width:4; stroke-opacity:1; fill:none\" points=\"533.13,1444.38 533.13,1445.72 639.464,1445.72 639.464,1444.38 533.13,1444.38 \"/>\n",
       "<path clip-path=\"url(#clip932)\" d=\"M639.464 1441.7 L639.464 1445.72 L745.797 1445.72 L745.797 1441.7 L639.464 1441.7 L639.464 1441.7  Z\" fill=\"#009af9\" fill-rule=\"evenodd\" fill-opacity=\"1\"/>\n",
       "<polyline clip-path=\"url(#clip932)\" style=\"stroke:#000000; stroke-linecap:round; stroke-linejoin:round; stroke-width:4; stroke-opacity:1; fill:none\" points=\"639.464,1441.7 639.464,1445.72 745.797,1445.72 745.797,1441.7 639.464,1441.7 \"/>\n",
       "<path clip-path=\"url(#clip932)\" d=\"M745.797 1433.41 L745.797 1445.72 L852.131 1445.72 L852.131 1433.41 L745.797 1433.41 L745.797 1433.41  Z\" fill=\"#009af9\" fill-rule=\"evenodd\" fill-opacity=\"1\"/>\n",
       "<polyline clip-path=\"url(#clip932)\" style=\"stroke:#000000; stroke-linecap:round; stroke-linejoin:round; stroke-width:4; stroke-opacity:1; fill:none\" points=\"745.797,1433.41 745.797,1445.72 852.131,1445.72 852.131,1433.41 745.797,1433.41 \"/>\n",
       "<path clip-path=\"url(#clip932)\" d=\"M852.131 1420.83 L852.131 1445.72 L958.465 1445.72 L958.465 1420.83 L852.131 1420.83 L852.131 1420.83  Z\" fill=\"#009af9\" fill-rule=\"evenodd\" fill-opacity=\"1\"/>\n",
       "<polyline clip-path=\"url(#clip932)\" style=\"stroke:#000000; stroke-linecap:round; stroke-linejoin:round; stroke-width:4; stroke-opacity:1; fill:none\" points=\"852.131,1420.83 852.131,1445.72 958.465,1445.72 958.465,1420.83 852.131,1420.83 \"/>\n",
       "<path clip-path=\"url(#clip932)\" d=\"M958.465 1402.64 L958.465 1445.72 L1064.8 1445.72 L1064.8 1402.64 L958.465 1402.64 L958.465 1402.64  Z\" fill=\"#009af9\" fill-rule=\"evenodd\" fill-opacity=\"1\"/>\n",
       "<polyline clip-path=\"url(#clip932)\" style=\"stroke:#000000; stroke-linecap:round; stroke-linejoin:round; stroke-width:4; stroke-opacity:1; fill:none\" points=\"958.465,1402.64 958.465,1445.72 1064.8,1445.72 1064.8,1402.64 958.465,1402.64 \"/>\n",
       "<path clip-path=\"url(#clip932)\" d=\"M1064.8 1397.83 L1064.8 1445.72 L1171.13 1445.72 L1171.13 1397.83 L1064.8 1397.83 L1064.8 1397.83  Z\" fill=\"#009af9\" fill-rule=\"evenodd\" fill-opacity=\"1\"/>\n",
       "<polyline clip-path=\"url(#clip932)\" style=\"stroke:#000000; stroke-linecap:round; stroke-linejoin:round; stroke-width:4; stroke-opacity:1; fill:none\" points=\"1064.8,1397.83 1064.8,1445.72 1171.13,1445.72 1171.13,1397.83 1064.8,1397.83 \"/>\n",
       "<path clip-path=\"url(#clip932)\" d=\"M1171.13 1395.42 L1171.13 1445.72 L1277.47 1445.72 L1277.47 1395.42 L1171.13 1395.42 L1171.13 1395.42  Z\" fill=\"#009af9\" fill-rule=\"evenodd\" fill-opacity=\"1\"/>\n",
       "<polyline clip-path=\"url(#clip932)\" style=\"stroke:#000000; stroke-linecap:round; stroke-linejoin:round; stroke-width:4; stroke-opacity:1; fill:none\" points=\"1171.13,1395.42 1171.13,1445.72 1277.47,1445.72 1277.47,1395.42 1171.13,1395.42 \"/>\n",
       "<path clip-path=\"url(#clip932)\" d=\"M1277.47 1403.18 L1277.47 1445.72 L1383.8 1445.72 L1383.8 1403.18 L1277.47 1403.18 L1277.47 1403.18  Z\" fill=\"#009af9\" fill-rule=\"evenodd\" fill-opacity=\"1\"/>\n",
       "<polyline clip-path=\"url(#clip932)\" style=\"stroke:#000000; stroke-linecap:round; stroke-linejoin:round; stroke-width:4; stroke-opacity:1; fill:none\" points=\"1277.47,1403.18 1277.47,1445.72 1383.8,1445.72 1383.8,1403.18 1277.47,1403.18 \"/>\n",
       "<path clip-path=\"url(#clip932)\" d=\"M1383.8 1421.91 L1383.8 1445.72 L1490.13 1445.72 L1490.13 1421.91 L1383.8 1421.91 L1383.8 1421.91  Z\" fill=\"#009af9\" fill-rule=\"evenodd\" fill-opacity=\"1\"/>\n",
       "<polyline clip-path=\"url(#clip932)\" style=\"stroke:#000000; stroke-linecap:round; stroke-linejoin:round; stroke-width:4; stroke-opacity:1; fill:none\" points=\"1383.8,1421.91 1383.8,1445.72 1490.13,1445.72 1490.13,1421.91 1383.8,1421.91 \"/>\n",
       "<path clip-path=\"url(#clip932)\" d=\"M1490.13 1434.75 L1490.13 1445.72 L1596.47 1445.72 L1596.47 1434.75 L1490.13 1434.75 L1490.13 1434.75  Z\" fill=\"#009af9\" fill-rule=\"evenodd\" fill-opacity=\"1\"/>\n",
       "<polyline clip-path=\"url(#clip932)\" style=\"stroke:#000000; stroke-linecap:round; stroke-linejoin:round; stroke-width:4; stroke-opacity:1; fill:none\" points=\"1490.13,1434.75 1490.13,1445.72 1596.47,1445.72 1596.47,1434.75 1490.13,1434.75 \"/>\n",
       "<path clip-path=\"url(#clip932)\" d=\"M1596.47 1441.44 L1596.47 1445.72 L1702.8 1445.72 L1702.8 1441.44 L1596.47 1441.44 L1596.47 1441.44  Z\" fill=\"#009af9\" fill-rule=\"evenodd\" fill-opacity=\"1\"/>\n",
       "<polyline clip-path=\"url(#clip932)\" style=\"stroke:#000000; stroke-linecap:round; stroke-linejoin:round; stroke-width:4; stroke-opacity:1; fill:none\" points=\"1596.47,1441.44 1596.47,1445.72 1702.8,1445.72 1702.8,1441.44 1596.47,1441.44 \"/>\n",
       "<path clip-path=\"url(#clip932)\" d=\"M1702.8 1444.65 L1702.8 1445.72 L1809.14 1445.72 L1809.14 1444.65 L1702.8 1444.65 L1702.8 1444.65  Z\" fill=\"#009af9\" fill-rule=\"evenodd\" fill-opacity=\"1\"/>\n",
       "<polyline clip-path=\"url(#clip932)\" style=\"stroke:#000000; stroke-linecap:round; stroke-linejoin:round; stroke-width:4; stroke-opacity:1; fill:none\" points=\"1702.8,1444.65 1702.8,1445.72 1809.14,1445.72 1809.14,1444.65 1702.8,1444.65 \"/>\n",
       "<path clip-path=\"url(#clip932)\" d=\"M1809.14 1445.45 L1809.14 1445.72 L1915.47 1445.72 L1915.47 1445.45 L1809.14 1445.45 L1809.14 1445.45  Z\" fill=\"#009af9\" fill-rule=\"evenodd\" fill-opacity=\"1\"/>\n",
       "<polyline clip-path=\"url(#clip932)\" style=\"stroke:#000000; stroke-linecap:round; stroke-linejoin:round; stroke-width:4; stroke-opacity:1; fill:none\" points=\"1809.14,1445.45 1809.14,1445.72 1915.47,1445.72 1915.47,1445.45 1809.14,1445.45 \"/>\n",
       "<path clip-path=\"url(#clip932)\" d=\"M1915.47 1445.72 L1915.47 1445.72 L2021.8 1445.72 L2021.8 1445.72 L1915.47 1445.72 L1915.47 1445.72  Z\" fill=\"#009af9\" fill-rule=\"evenodd\" fill-opacity=\"1\"/>\n",
       "<polyline clip-path=\"url(#clip932)\" style=\"stroke:#000000; stroke-linecap:round; stroke-linejoin:round; stroke-width:4; stroke-opacity:1; fill:none\" points=\"1915.47,1445.72 1915.47,1445.72 2021.8,1445.72 1915.47,1445.72 \"/>\n",
       "<path clip-path=\"url(#clip932)\" d=\"M2021.8 1445.72 L2021.8 1445.72 L2128.14 1445.72 L2128.14 1445.72 L2021.8 1445.72 L2021.8 1445.72  Z\" fill=\"#009af9\" fill-rule=\"evenodd\" fill-opacity=\"1\"/>\n",
       "<polyline clip-path=\"url(#clip932)\" style=\"stroke:#000000; stroke-linecap:round; stroke-linejoin:round; stroke-width:4; stroke-opacity:1; fill:none\" points=\"2021.8,1445.72 2021.8,1445.72 2128.14,1445.72 2021.8,1445.72 \"/>\n",
       "<path clip-path=\"url(#clip932)\" d=\"M2128.14 1445.45 L2128.14 1445.72 L2234.47 1445.72 L2234.47 1445.45 L2128.14 1445.45 L2128.14 1445.45  Z\" fill=\"#009af9\" fill-rule=\"evenodd\" fill-opacity=\"1\"/>\n",
       "<polyline clip-path=\"url(#clip932)\" style=\"stroke:#000000; stroke-linecap:round; stroke-linejoin:round; stroke-width:4; stroke-opacity:1; fill:none\" points=\"2128.14,1445.45 2128.14,1445.72 2234.47,1445.72 2234.47,1445.45 2128.14,1445.45 \"/>\n",
       "<circle clip-path=\"url(#clip932)\" style=\"fill:#009af9; stroke:none; fill-opacity:0\" cx=\"373.629\" cy=\"1445.45\" r=\"2\"/>\n",
       "<circle clip-path=\"url(#clip932)\" style=\"fill:#009af9; stroke:none; fill-opacity:0\" cx=\"479.963\" cy=\"1445.45\" r=\"2\"/>\n",
       "<circle clip-path=\"url(#clip932)\" style=\"fill:#009af9; stroke:none; fill-opacity:0\" cx=\"586.297\" cy=\"1444.38\" r=\"2\"/>\n",
       "<circle clip-path=\"url(#clip932)\" style=\"fill:#009af9; stroke:none; fill-opacity:0\" cx=\"692.631\" cy=\"1441.7\" r=\"2\"/>\n",
       "<circle clip-path=\"url(#clip932)\" style=\"fill:#009af9; stroke:none; fill-opacity:0\" cx=\"798.964\" cy=\"1433.41\" r=\"2\"/>\n",
       "<circle clip-path=\"url(#clip932)\" style=\"fill:#009af9; stroke:none; fill-opacity:0\" cx=\"905.298\" cy=\"1420.83\" r=\"2\"/>\n",
       "<circle clip-path=\"url(#clip932)\" style=\"fill:#009af9; stroke:none; fill-opacity:0\" cx=\"1011.63\" cy=\"1402.64\" r=\"2\"/>\n",
       "<circle clip-path=\"url(#clip932)\" style=\"fill:#009af9; stroke:none; fill-opacity:0\" cx=\"1117.97\" cy=\"1397.83\" r=\"2\"/>\n",
       "<circle clip-path=\"url(#clip932)\" style=\"fill:#009af9; stroke:none; fill-opacity:0\" cx=\"1224.3\" cy=\"1395.42\" r=\"2\"/>\n",
       "<circle clip-path=\"url(#clip932)\" style=\"fill:#009af9; stroke:none; fill-opacity:0\" cx=\"1330.63\" cy=\"1403.18\" r=\"2\"/>\n",
       "<circle clip-path=\"url(#clip932)\" style=\"fill:#009af9; stroke:none; fill-opacity:0\" cx=\"1436.97\" cy=\"1421.91\" r=\"2\"/>\n",
       "<circle clip-path=\"url(#clip932)\" style=\"fill:#009af9; stroke:none; fill-opacity:0\" cx=\"1543.3\" cy=\"1434.75\" r=\"2\"/>\n",
       "<circle clip-path=\"url(#clip932)\" style=\"fill:#009af9; stroke:none; fill-opacity:0\" cx=\"1649.63\" cy=\"1441.44\" r=\"2\"/>\n",
       "<circle clip-path=\"url(#clip932)\" style=\"fill:#009af9; stroke:none; fill-opacity:0\" cx=\"1755.97\" cy=\"1444.65\" r=\"2\"/>\n",
       "<circle clip-path=\"url(#clip932)\" style=\"fill:#009af9; stroke:none; fill-opacity:0\" cx=\"1862.3\" cy=\"1445.45\" r=\"2\"/>\n",
       "<circle clip-path=\"url(#clip932)\" style=\"fill:#009af9; stroke:none; fill-opacity:0\" cx=\"1968.64\" cy=\"1445.72\" r=\"2\"/>\n",
       "<circle clip-path=\"url(#clip932)\" style=\"fill:#009af9; stroke:none; fill-opacity:0\" cx=\"2074.97\" cy=\"1445.72\" r=\"2\"/>\n",
       "<circle clip-path=\"url(#clip932)\" style=\"fill:#009af9; stroke:none; fill-opacity:0\" cx=\"2181.3\" cy=\"1445.45\" r=\"2\"/>\n",
       "<path clip-path=\"url(#clip932)\" d=\"M1171.13 128.107 L1171.13 1445.72 L1192.4 1445.72 L1192.4 128.107 L1171.13 128.107 L1171.13 128.107  Z\" fill=\"#e26f46\" fill-rule=\"evenodd\" fill-opacity=\"1\"/>\n",
       "<polyline clip-path=\"url(#clip932)\" style=\"stroke:#000000; stroke-linecap:round; stroke-linejoin:round; stroke-width:4; stroke-opacity:1; fill:none\" points=\"1171.13,128.107 1171.13,1445.72 1192.4,1445.72 1192.4,128.107 1171.13,128.107 \"/>\n",
       "<path clip-path=\"url(#clip932)\" d=\"M1192.4 1445.72 L1192.4 1445.72 L1213.67 1445.72 L1213.67 1445.72 L1192.4 1445.72 L1192.4 1445.72  Z\" fill=\"#e26f46\" fill-rule=\"evenodd\" fill-opacity=\"1\"/>\n",
       "<polyline clip-path=\"url(#clip932)\" style=\"stroke:#000000; stroke-linecap:round; stroke-linejoin:round; stroke-width:4; stroke-opacity:1; fill:none\" points=\"1192.4,1445.72 1192.4,1445.72 1213.67,1445.72 1192.4,1445.72 \"/>\n",
       "<path clip-path=\"url(#clip932)\" d=\"M1213.67 1445.72 L1213.67 1445.72 L1234.93 1445.72 L1234.93 1445.72 L1213.67 1445.72 L1213.67 1445.72  Z\" fill=\"#e26f46\" fill-rule=\"evenodd\" fill-opacity=\"1\"/>\n",
       "<polyline clip-path=\"url(#clip932)\" style=\"stroke:#000000; stroke-linecap:round; stroke-linejoin:round; stroke-width:4; stroke-opacity:1; fill:none\" points=\"1213.67,1445.72 1213.67,1445.72 1234.93,1445.72 1213.67,1445.72 \"/>\n",
       "<path clip-path=\"url(#clip932)\" d=\"M1234.93 1445.72 L1234.93 1445.72 L1256.2 1445.72 L1256.2 1445.72 L1234.93 1445.72 L1234.93 1445.72  Z\" fill=\"#e26f46\" fill-rule=\"evenodd\" fill-opacity=\"1\"/>\n",
       "<polyline clip-path=\"url(#clip932)\" style=\"stroke:#000000; stroke-linecap:round; stroke-linejoin:round; stroke-width:4; stroke-opacity:1; fill:none\" points=\"1234.93,1445.72 1234.93,1445.72 1256.2,1445.72 1234.93,1445.72 \"/>\n",
       "<path clip-path=\"url(#clip932)\" d=\"M1256.2 1445.72 L1256.2 1445.72 L1277.47 1445.72 L1277.47 1445.72 L1256.2 1445.72 L1256.2 1445.72  Z\" fill=\"#e26f46\" fill-rule=\"evenodd\" fill-opacity=\"1\"/>\n",
       "<polyline clip-path=\"url(#clip932)\" style=\"stroke:#000000; stroke-linecap:round; stroke-linejoin:round; stroke-width:4; stroke-opacity:1; fill:none\" points=\"1256.2,1445.72 1256.2,1445.72 1277.47,1445.72 1256.2,1445.72 \"/>\n",
       "<path clip-path=\"url(#clip932)\" d=\"M1277.47 1445.72 L1277.47 1445.72 L1298.73 1445.72 L1298.73 1445.72 L1277.47 1445.72 L1277.47 1445.72  Z\" fill=\"#e26f46\" fill-rule=\"evenodd\" fill-opacity=\"1\"/>\n",
       "<polyline clip-path=\"url(#clip932)\" style=\"stroke:#000000; stroke-linecap:round; stroke-linejoin:round; stroke-width:4; stroke-opacity:1; fill:none\" points=\"1277.47,1445.72 1277.47,1445.72 1298.73,1445.72 1277.47,1445.72 \"/>\n",
       "<path clip-path=\"url(#clip932)\" d=\"M1298.73 1445.72 L1298.73 1445.72 L1320 1445.72 L1320 1445.72 L1298.73 1445.72 L1298.73 1445.72  Z\" fill=\"#e26f46\" fill-rule=\"evenodd\" fill-opacity=\"1\"/>\n",
       "<polyline clip-path=\"url(#clip932)\" style=\"stroke:#000000; stroke-linecap:round; stroke-linejoin:round; stroke-width:4; stroke-opacity:1; fill:none\" points=\"1298.73,1445.72 1298.73,1445.72 1320,1445.72 1298.73,1445.72 \"/>\n",
       "<path clip-path=\"url(#clip932)\" d=\"M1320 1445.72 L1320 1445.72 L1341.27 1445.72 L1341.27 1445.72 L1320 1445.72 L1320 1445.72  Z\" fill=\"#e26f46\" fill-rule=\"evenodd\" fill-opacity=\"1\"/>\n",
       "<polyline clip-path=\"url(#clip932)\" style=\"stroke:#000000; stroke-linecap:round; stroke-linejoin:round; stroke-width:4; stroke-opacity:1; fill:none\" points=\"1320,1445.72 1320,1445.72 1341.27,1445.72 1320,1445.72 \"/>\n",
       "<path clip-path=\"url(#clip932)\" d=\"M1341.27 1445.72 L1341.27 1445.72 L1362.53 1445.72 L1362.53 1445.72 L1341.27 1445.72 L1341.27 1445.72  Z\" fill=\"#e26f46\" fill-rule=\"evenodd\" fill-opacity=\"1\"/>\n",
       "<polyline clip-path=\"url(#clip932)\" style=\"stroke:#000000; stroke-linecap:round; stroke-linejoin:round; stroke-width:4; stroke-opacity:1; fill:none\" points=\"1341.27,1445.72 1341.27,1445.72 1362.53,1445.72 1341.27,1445.72 \"/>\n",
       "<path clip-path=\"url(#clip932)\" d=\"M1362.53 1445.72 L1362.53 1445.72 L1383.8 1445.72 L1383.8 1445.72 L1362.53 1445.72 L1362.53 1445.72  Z\" fill=\"#e26f46\" fill-rule=\"evenodd\" fill-opacity=\"1\"/>\n",
       "<polyline clip-path=\"url(#clip932)\" style=\"stroke:#000000; stroke-linecap:round; stroke-linejoin:round; stroke-width:4; stroke-opacity:1; fill:none\" points=\"1362.53,1445.72 1362.53,1445.72 1383.8,1445.72 1362.53,1445.72 \"/>\n",
       "<path clip-path=\"url(#clip932)\" d=\"M1383.8 87.9763 L1383.8 1445.72 L1405.07 1445.72 L1405.07 87.9763 L1383.8 87.9763 L1383.8 87.9763  Z\" fill=\"#e26f46\" fill-rule=\"evenodd\" fill-opacity=\"1\"/>\n",
       "<polyline clip-path=\"url(#clip932)\" style=\"stroke:#000000; stroke-linecap:round; stroke-linejoin:round; stroke-width:4; stroke-opacity:1; fill:none\" points=\"1383.8,87.9763 1383.8,1445.72 1405.07,1445.72 1405.07,87.9763 1383.8,87.9763 \"/>\n",
       "<circle clip-path=\"url(#clip932)\" style=\"fill:#e26f46; stroke:none; fill-opacity:0\" cx=\"1181.77\" cy=\"128.107\" r=\"2\"/>\n",
       "<circle clip-path=\"url(#clip932)\" style=\"fill:#e26f46; stroke:none; fill-opacity:0\" cx=\"1203.03\" cy=\"1445.72\" r=\"2\"/>\n",
       "<circle clip-path=\"url(#clip932)\" style=\"fill:#e26f46; stroke:none; fill-opacity:0\" cx=\"1224.3\" cy=\"1445.72\" r=\"2\"/>\n",
       "<circle clip-path=\"url(#clip932)\" style=\"fill:#e26f46; stroke:none; fill-opacity:0\" cx=\"1245.57\" cy=\"1445.72\" r=\"2\"/>\n",
       "<circle clip-path=\"url(#clip932)\" style=\"fill:#e26f46; stroke:none; fill-opacity:0\" cx=\"1266.83\" cy=\"1445.72\" r=\"2\"/>\n",
       "<circle clip-path=\"url(#clip932)\" style=\"fill:#e26f46; stroke:none; fill-opacity:0\" cx=\"1288.1\" cy=\"1445.72\" r=\"2\"/>\n",
       "<circle clip-path=\"url(#clip932)\" style=\"fill:#e26f46; stroke:none; fill-opacity:0\" cx=\"1309.37\" cy=\"1445.72\" r=\"2\"/>\n",
       "<circle clip-path=\"url(#clip932)\" style=\"fill:#e26f46; stroke:none; fill-opacity:0\" cx=\"1330.63\" cy=\"1445.72\" r=\"2\"/>\n",
       "<circle clip-path=\"url(#clip932)\" style=\"fill:#e26f46; stroke:none; fill-opacity:0\" cx=\"1351.9\" cy=\"1445.72\" r=\"2\"/>\n",
       "<circle clip-path=\"url(#clip932)\" style=\"fill:#e26f46; stroke:none; fill-opacity:0\" cx=\"1373.17\" cy=\"1445.72\" r=\"2\"/>\n",
       "<circle clip-path=\"url(#clip932)\" style=\"fill:#e26f46; stroke:none; fill-opacity:0\" cx=\"1394.43\" cy=\"87.9763\" r=\"2\"/>\n",
       "<path clip-path=\"url(#clip930)\" d=\"M2013.58 250.738 L2281.07 250.738 L2281.07 95.2176 L2013.58 95.2176  Z\" fill=\"#ffffff\" fill-rule=\"evenodd\" fill-opacity=\"1\"/>\n",
       "<polyline clip-path=\"url(#clip930)\" style=\"stroke:#000000; stroke-linecap:round; stroke-linejoin:round; stroke-width:4; stroke-opacity:1; fill:none\" points=\"2013.58,250.738 2281.07,250.738 2281.07,95.2176 2013.58,95.2176 2013.58,250.738 \"/>\n",
       "<path clip-path=\"url(#clip930)\" d=\"M2037.48 167.794 L2180.85 167.794 L2180.85 126.322 L2037.48 126.322 L2037.48 167.794  Z\" fill=\"#009af9\" fill-rule=\"evenodd\" fill-opacity=\"1\"/>\n",
       "<polyline clip-path=\"url(#clip930)\" style=\"stroke:#000000; stroke-linecap:round; stroke-linejoin:round; stroke-width:4; stroke-opacity:1; fill:none\" points=\"2037.48,167.794 2180.85,167.794 2180.85,126.322 2037.48,126.322 2037.48,167.794 \"/>\n",
       "<path clip-path=\"url(#clip930)\" d=\"M2218.59 166.745 Q2216.78 171.375 2215.07 172.787 Q2213.36 174.199 2210.49 174.199 L2207.08 174.199 L2207.08 170.634 L2209.58 170.634 Q2211.34 170.634 2212.31 169.8 Q2213.29 168.967 2214.47 165.865 L2215.23 163.921 L2204.74 138.412 L2209.26 138.412 L2217.36 158.689 L2225.46 138.412 L2229.98 138.412 L2218.59 166.745 Z\" fill=\"#000000\" fill-rule=\"evenodd\" fill-opacity=\"1\" /><path clip-path=\"url(#clip930)\" d=\"M2237.27 160.402 L2244.91 160.402 L2244.91 134.037 L2236.6 135.703 L2236.6 131.444 L2244.86 129.778 L2249.54 129.778 L2249.54 160.402 L2257.17 160.402 L2257.17 164.338 L2237.27 164.338 L2237.27 160.402 Z\" fill=\"#000000\" fill-rule=\"evenodd\" fill-opacity=\"1\" /><path clip-path=\"url(#clip930)\" d=\"M2037.48 219.634 L2180.85 219.634 L2180.85 178.162 L2037.48 178.162 L2037.48 219.634  Z\" fill=\"#e26f46\" fill-rule=\"evenodd\" fill-opacity=\"1\"/>\n",
       "<polyline clip-path=\"url(#clip930)\" style=\"stroke:#000000; stroke-linecap:round; stroke-linejoin:round; stroke-width:4; stroke-opacity:1; fill:none\" points=\"2037.48,219.634 2180.85,219.634 2180.85,178.162 2037.48,178.162 2037.48,219.634 \"/>\n",
       "<path clip-path=\"url(#clip930)\" d=\"M2218.59 218.585 Q2216.78 223.215 2215.07 224.627 Q2213.36 226.039 2210.49 226.039 L2207.08 226.039 L2207.08 222.474 L2209.58 222.474 Q2211.34 222.474 2212.31 221.64 Q2213.29 220.807 2214.47 217.705 L2215.23 215.761 L2204.74 190.252 L2209.26 190.252 L2217.36 210.529 L2225.46 190.252 L2229.98 190.252 L2218.59 218.585 Z\" fill=\"#000000\" fill-rule=\"evenodd\" fill-opacity=\"1\" /><path clip-path=\"url(#clip930)\" d=\"M2240.48 212.242 L2256.8 212.242 L2256.8 216.178 L2234.86 216.178 L2234.86 212.242 Q2237.52 209.488 2242.11 204.858 Q2246.71 200.205 2247.89 198.863 Q2250.14 196.34 2251.02 194.604 Q2251.92 192.844 2251.92 191.155 Q2251.92 188.4 2249.98 186.664 Q2248.05 184.928 2244.95 184.928 Q2242.75 184.928 2240.3 185.692 Q2237.87 186.455 2235.09 188.006 L2235.09 183.284 Q2237.92 182.15 2240.37 181.571 Q2242.82 180.993 2244.86 180.993 Q2250.23 180.993 2253.42 183.678 Q2256.62 186.363 2256.62 190.854 Q2256.62 192.983 2255.81 194.905 Q2255.02 196.803 2252.92 199.395 Q2252.34 200.067 2249.23 203.284 Q2246.13 206.479 2240.48 212.242 Z\" fill=\"#000000\" fill-rule=\"evenodd\" fill-opacity=\"1\" /></svg>\n"
      ]
     },
     "execution_count": 25,
     "metadata": {},
     "output_type": "execute_result"
    }
   ],
   "source": [
    "histogram(x)\n",
    "histogram!(sample)"
   ]
  },
  {
   "cell_type": "markdown",
   "id": "b90287bd",
   "metadata": {},
   "source": [
    "### 3.6\n",
    "\n",
    "#### Draw 10000 samples from the two distributions separately and plot them in the same plot"
   ]
  },
  {
   "cell_type": "code",
   "execution_count": 28,
   "id": "98a69dd1",
   "metadata": {},
   "outputs": [
    {
     "data": {
      "image/svg+xml": [
       "<?xml version=\"1.0\" encoding=\"utf-8\"?>\n",
       "<svg xmlns=\"http://www.w3.org/2000/svg\" xmlns:xlink=\"http://www.w3.org/1999/xlink\" width=\"600\" height=\"400\" viewBox=\"0 0 2400 1600\">\n",
       "<defs>\n",
       "  <clipPath id=\"clip050\">\n",
       "    <rect x=\"0\" y=\"0\" width=\"2400\" height=\"1600\"/>\n",
       "  </clipPath>\n",
       "</defs>\n",
       "<path clip-path=\"url(#clip050)\" d=\"M0 1600 L2400 1600 L2400 0 L0 0  Z\" fill=\"#ffffff\" fill-rule=\"evenodd\" fill-opacity=\"1\"/>\n",
       "<defs>\n",
       "  <clipPath id=\"clip051\">\n",
       "    <rect x=\"480\" y=\"0\" width=\"1681\" height=\"1600\"/>\n",
       "  </clipPath>\n",
       "</defs>\n",
       "<path clip-path=\"url(#clip050)\" d=\"M202.177 1486.45 L2352.76 1486.45 L2352.76 47.2441 L202.177 47.2441  Z\" fill=\"#ffffff\" fill-rule=\"evenodd\" fill-opacity=\"1\"/>\n",
       "<defs>\n",
       "  <clipPath id=\"clip052\">\n",
       "    <rect x=\"202\" y=\"47\" width=\"2152\" height=\"1440\"/>\n",
       "  </clipPath>\n",
       "</defs>\n",
       "<polyline clip-path=\"url(#clip052)\" style=\"stroke:#000000; stroke-linecap:round; stroke-linejoin:round; stroke-width:2; stroke-opacity:0.1; fill:none\" points=\"320.462,1486.45 320.462,47.2441 \"/>\n",
       "<polyline clip-path=\"url(#clip052)\" style=\"stroke:#000000; stroke-linecap:round; stroke-linejoin:round; stroke-width:2; stroke-opacity:0.1; fill:none\" points=\"830.864,1486.45 830.864,47.2441 \"/>\n",
       "<polyline clip-path=\"url(#clip052)\" style=\"stroke:#000000; stroke-linecap:round; stroke-linejoin:round; stroke-width:2; stroke-opacity:0.1; fill:none\" points=\"1341.27,1486.45 1341.27,47.2441 \"/>\n",
       "<polyline clip-path=\"url(#clip052)\" style=\"stroke:#000000; stroke-linecap:round; stroke-linejoin:round; stroke-width:2; stroke-opacity:0.1; fill:none\" points=\"1851.67,1486.45 1851.67,47.2441 \"/>\n",
       "<polyline clip-path=\"url(#clip050)\" style=\"stroke:#000000; stroke-linecap:round; stroke-linejoin:round; stroke-width:4; stroke-opacity:1; fill:none\" points=\"202.177,1486.45 2352.76,1486.45 \"/>\n",
       "<polyline clip-path=\"url(#clip050)\" style=\"stroke:#000000; stroke-linecap:round; stroke-linejoin:round; stroke-width:4; stroke-opacity:1; fill:none\" points=\"320.462,1486.45 320.462,1467.55 \"/>\n",
       "<polyline clip-path=\"url(#clip050)\" style=\"stroke:#000000; stroke-linecap:round; stroke-linejoin:round; stroke-width:4; stroke-opacity:1; fill:none\" points=\"830.864,1486.45 830.864,1467.55 \"/>\n",
       "<polyline clip-path=\"url(#clip050)\" style=\"stroke:#000000; stroke-linecap:round; stroke-linejoin:round; stroke-width:4; stroke-opacity:1; fill:none\" points=\"1341.27,1486.45 1341.27,1467.55 \"/>\n",
       "<polyline clip-path=\"url(#clip050)\" style=\"stroke:#000000; stroke-linecap:round; stroke-linejoin:round; stroke-width:4; stroke-opacity:1; fill:none\" points=\"1851.67,1486.45 1851.67,1467.55 \"/>\n",
       "<path clip-path=\"url(#clip050)\" d=\"M289.363 1532.02 L319.039 1532.02 L319.039 1535.95 L289.363 1535.95 L289.363 1532.02 Z\" fill=\"#000000\" fill-rule=\"evenodd\" fill-opacity=\"1\" /><path clip-path=\"url(#clip050)\" d=\"M341.978 1518.36 L330.173 1536.81 L341.978 1536.81 L341.978 1518.36 M340.752 1514.29 L346.631 1514.29 L346.631 1536.81 L351.562 1536.81 L351.562 1540.7 L346.631 1540.7 L346.631 1548.85 L341.978 1548.85 L341.978 1540.7 L326.377 1540.7 L326.377 1536.19 L340.752 1514.29 Z\" fill=\"#000000\" fill-rule=\"evenodd\" fill-opacity=\"1\" /><path clip-path=\"url(#clip050)\" d=\"M800.807 1532.02 L830.483 1532.02 L830.483 1535.95 L800.807 1535.95 L800.807 1532.02 Z\" fill=\"#000000\" fill-rule=\"evenodd\" fill-opacity=\"1\" /><path clip-path=\"url(#clip050)\" d=\"M844.603 1544.91 L860.922 1544.91 L860.922 1548.85 L838.978 1548.85 L838.978 1544.91 Q841.64 1542.16 846.223 1537.53 Q850.83 1532.88 852.01 1531.53 Q854.256 1529.01 855.135 1527.27 Q856.038 1525.51 856.038 1523.82 Q856.038 1521.07 854.094 1519.33 Q852.172 1517.6 849.07 1517.6 Q846.871 1517.6 844.418 1518.36 Q841.987 1519.13 839.209 1520.68 L839.209 1515.95 Q842.033 1514.82 844.487 1514.24 Q846.941 1513.66 848.978 1513.66 Q854.348 1513.66 857.543 1516.35 Q860.737 1519.03 860.737 1523.52 Q860.737 1525.65 859.927 1527.57 Q859.14 1529.47 857.033 1532.07 Q856.455 1532.74 853.353 1535.95 Q850.251 1539.15 844.603 1544.91 Z\" fill=\"#000000\" fill-rule=\"evenodd\" fill-opacity=\"1\" /><path clip-path=\"url(#clip050)\" d=\"M1341.27 1517.37 Q1337.66 1517.37 1335.83 1520.93 Q1334.02 1524.47 1334.02 1531.6 Q1334.02 1538.71 1335.83 1542.27 Q1337.66 1545.82 1341.27 1545.82 Q1344.9 1545.82 1346.71 1542.27 Q1348.54 1538.71 1348.54 1531.6 Q1348.54 1524.47 1346.71 1520.93 Q1344.9 1517.37 1341.27 1517.37 M1341.27 1513.66 Q1347.08 1513.66 1350.13 1518.27 Q1353.21 1522.85 1353.21 1531.6 Q1353.21 1540.33 1350.13 1544.94 Q1347.08 1549.52 1341.27 1549.52 Q1335.46 1549.52 1332.38 1544.94 Q1329.32 1540.33 1329.32 1531.6 Q1329.32 1522.85 1332.38 1518.27 Q1335.46 1513.66 1341.27 1513.66 Z\" fill=\"#000000\" fill-rule=\"evenodd\" fill-opacity=\"1\" /><path clip-path=\"url(#clip050)\" d=\"M1846.32 1544.91 L1862.64 1544.91 L1862.64 1548.85 L1840.7 1548.85 L1840.7 1544.91 Q1843.36 1542.16 1847.94 1537.53 Q1852.55 1532.88 1853.73 1531.53 Q1855.97 1529.01 1856.85 1527.27 Q1857.76 1525.51 1857.76 1523.82 Q1857.76 1521.07 1855.81 1519.33 Q1853.89 1517.6 1850.79 1517.6 Q1848.59 1517.6 1846.14 1518.36 Q1843.71 1519.13 1840.93 1520.68 L1840.93 1515.95 Q1843.75 1514.82 1846.21 1514.24 Q1848.66 1513.66 1850.7 1513.66 Q1856.07 1513.66 1859.26 1516.35 Q1862.46 1519.03 1862.46 1523.52 Q1862.46 1525.65 1861.65 1527.57 Q1860.86 1529.47 1858.75 1532.07 Q1858.17 1532.74 1855.07 1535.95 Q1851.97 1539.15 1846.32 1544.91 Z\" fill=\"#000000\" fill-rule=\"evenodd\" fill-opacity=\"1\" /><polyline clip-path=\"url(#clip052)\" style=\"stroke:#000000; stroke-linecap:round; stroke-linejoin:round; stroke-width:2; stroke-opacity:0.1; fill:none\" points=\"202.177,1445.72 2352.76,1445.72 \"/>\n",
       "<polyline clip-path=\"url(#clip052)\" style=\"stroke:#000000; stroke-linecap:round; stroke-linejoin:round; stroke-width:2; stroke-opacity:0.1; fill:none\" points=\"202.177,1176.91 2352.76,1176.91 \"/>\n",
       "<polyline clip-path=\"url(#clip052)\" style=\"stroke:#000000; stroke-linecap:round; stroke-linejoin:round; stroke-width:2; stroke-opacity:0.1; fill:none\" points=\"202.177,908.104 2352.76,908.104 \"/>\n",
       "<polyline clip-path=\"url(#clip052)\" style=\"stroke:#000000; stroke-linecap:round; stroke-linejoin:round; stroke-width:2; stroke-opacity:0.1; fill:none\" points=\"202.177,639.298 2352.76,639.298 \"/>\n",
       "<polyline clip-path=\"url(#clip052)\" style=\"stroke:#000000; stroke-linecap:round; stroke-linejoin:round; stroke-width:2; stroke-opacity:0.1; fill:none\" points=\"202.177,370.491 2352.76,370.491 \"/>\n",
       "<polyline clip-path=\"url(#clip052)\" style=\"stroke:#000000; stroke-linecap:round; stroke-linejoin:round; stroke-width:2; stroke-opacity:0.1; fill:none\" points=\"202.177,101.685 2352.76,101.685 \"/>\n",
       "<polyline clip-path=\"url(#clip050)\" style=\"stroke:#000000; stroke-linecap:round; stroke-linejoin:round; stroke-width:4; stroke-opacity:1; fill:none\" points=\"202.177,1486.45 202.177,47.2441 \"/>\n",
       "<polyline clip-path=\"url(#clip050)\" style=\"stroke:#000000; stroke-linecap:round; stroke-linejoin:round; stroke-width:4; stroke-opacity:1; fill:none\" points=\"202.177,1445.72 221.074,1445.72 \"/>\n",
       "<polyline clip-path=\"url(#clip050)\" style=\"stroke:#000000; stroke-linecap:round; stroke-linejoin:round; stroke-width:4; stroke-opacity:1; fill:none\" points=\"202.177,1176.91 221.074,1176.91 \"/>\n",
       "<polyline clip-path=\"url(#clip050)\" style=\"stroke:#000000; stroke-linecap:round; stroke-linejoin:round; stroke-width:4; stroke-opacity:1; fill:none\" points=\"202.177,908.104 221.074,908.104 \"/>\n",
       "<polyline clip-path=\"url(#clip050)\" style=\"stroke:#000000; stroke-linecap:round; stroke-linejoin:round; stroke-width:4; stroke-opacity:1; fill:none\" points=\"202.177,639.298 221.074,639.298 \"/>\n",
       "<polyline clip-path=\"url(#clip050)\" style=\"stroke:#000000; stroke-linecap:round; stroke-linejoin:round; stroke-width:4; stroke-opacity:1; fill:none\" points=\"202.177,370.491 221.074,370.491 \"/>\n",
       "<polyline clip-path=\"url(#clip050)\" style=\"stroke:#000000; stroke-linecap:round; stroke-linejoin:round; stroke-width:4; stroke-opacity:1; fill:none\" points=\"202.177,101.685 221.074,101.685 \"/>\n",
       "<path clip-path=\"url(#clip050)\" d=\"M154.232 1431.51 Q150.621 1431.51 148.793 1435.08 Q146.987 1438.62 146.987 1445.75 Q146.987 1452.86 148.793 1456.42 Q150.621 1459.96 154.232 1459.96 Q157.867 1459.96 159.672 1456.42 Q161.501 1452.86 161.501 1445.75 Q161.501 1438.62 159.672 1435.08 Q157.867 1431.51 154.232 1431.51 M154.232 1427.81 Q160.042 1427.81 163.098 1432.42 Q166.177 1437 166.177 1445.75 Q166.177 1454.48 163.098 1459.08 Q160.042 1463.67 154.232 1463.67 Q148.422 1463.67 145.343 1459.08 Q142.288 1454.48 142.288 1445.75 Q142.288 1437 145.343 1432.42 Q148.422 1427.81 154.232 1427.81 Z\" fill=\"#000000\" fill-rule=\"evenodd\" fill-opacity=\"1\" /><path clip-path=\"url(#clip050)\" d=\"M54.5569 1190.25 L62.1958 1190.25 L62.1958 1163.89 L53.8856 1165.56 L53.8856 1161.3 L62.1495 1159.63 L66.8254 1159.63 L66.8254 1190.25 L74.4642 1190.25 L74.4642 1194.19 L54.5569 1194.19 L54.5569 1190.25 Z\" fill=\"#000000\" fill-rule=\"evenodd\" fill-opacity=\"1\" /><path clip-path=\"url(#clip050)\" d=\"M93.9086 1162.71 Q90.2975 1162.71 88.4688 1166.27 Q86.6632 1169.81 86.6632 1176.94 Q86.6632 1184.05 88.4688 1187.62 Q90.2975 1191.16 93.9086 1191.16 Q97.5428 1191.16 99.3483 1187.62 Q101.177 1184.05 101.177 1176.94 Q101.177 1169.81 99.3483 1166.27 Q97.5428 1162.71 93.9086 1162.71 M93.9086 1159 Q99.7187 1159 102.774 1163.61 Q105.853 1168.19 105.853 1176.94 Q105.853 1185.67 102.774 1190.28 Q99.7187 1194.86 93.9086 1194.86 Q88.0984 1194.86 85.0197 1190.28 Q81.9642 1185.67 81.9642 1176.94 Q81.9642 1168.19 85.0197 1163.61 Q88.0984 1159 93.9086 1159 Z\" fill=\"#000000\" fill-rule=\"evenodd\" fill-opacity=\"1\" /><path clip-path=\"url(#clip050)\" d=\"M124.07 1162.71 Q120.459 1162.71 118.631 1166.27 Q116.825 1169.81 116.825 1176.94 Q116.825 1184.05 118.631 1187.62 Q120.459 1191.16 124.07 1191.16 Q127.705 1191.16 129.51 1187.62 Q131.339 1184.05 131.339 1176.94 Q131.339 1169.81 129.51 1166.27 Q127.705 1162.71 124.07 1162.71 M124.07 1159 Q129.881 1159 132.936 1163.61 Q136.015 1168.19 136.015 1176.94 Q136.015 1185.67 132.936 1190.28 Q129.881 1194.86 124.07 1194.86 Q118.26 1194.86 115.182 1190.28 Q112.126 1185.67 112.126 1176.94 Q112.126 1168.19 115.182 1163.61 Q118.26 1159 124.07 1159 Z\" fill=\"#000000\" fill-rule=\"evenodd\" fill-opacity=\"1\" /><path clip-path=\"url(#clip050)\" d=\"M154.232 1162.71 Q150.621 1162.71 148.793 1166.27 Q146.987 1169.81 146.987 1176.94 Q146.987 1184.05 148.793 1187.62 Q150.621 1191.16 154.232 1191.16 Q157.867 1191.16 159.672 1187.62 Q161.501 1184.05 161.501 1176.94 Q161.501 1169.81 159.672 1166.27 Q157.867 1162.71 154.232 1162.71 M154.232 1159 Q160.042 1159 163.098 1163.61 Q166.177 1168.19 166.177 1176.94 Q166.177 1185.67 163.098 1190.28 Q160.042 1194.86 154.232 1194.86 Q148.422 1194.86 145.343 1190.28 Q142.288 1185.67 142.288 1176.94 Q142.288 1168.19 145.343 1163.61 Q148.422 1159 154.232 1159 Z\" fill=\"#000000\" fill-rule=\"evenodd\" fill-opacity=\"1\" /><path clip-path=\"url(#clip050)\" d=\"M57.7745 921.448 L74.0939 921.448 L74.0939 925.384 L52.1495 925.384 L52.1495 921.448 Q54.8115 918.694 59.3949 914.064 Q64.0013 909.411 65.1819 908.069 Q67.4272 905.546 68.3068 903.81 Q69.2096 902.05 69.2096 900.361 Q69.2096 897.606 67.2652 895.87 Q65.3439 894.134 62.2421 894.134 Q60.043 894.134 57.5893 894.898 Q55.1588 895.662 52.381 897.212 L52.381 892.49 Q55.2051 891.356 57.6588 890.777 Q60.1124 890.199 62.1495 890.199 Q67.5198 890.199 70.7142 892.884 Q73.9087 895.569 73.9087 900.06 Q73.9087 902.189 73.0985 904.111 Q72.3115 906.009 70.205 908.601 Q69.6263 909.273 66.5245 912.49 Q63.4226 915.685 57.7745 921.448 Z\" fill=\"#000000\" fill-rule=\"evenodd\" fill-opacity=\"1\" /><path clip-path=\"url(#clip050)\" d=\"M93.9086 893.902 Q90.2975 893.902 88.4688 897.467 Q86.6632 901.009 86.6632 908.138 Q86.6632 915.245 88.4688 918.81 Q90.2975 922.351 93.9086 922.351 Q97.5428 922.351 99.3483 918.81 Q101.177 915.245 101.177 908.138 Q101.177 901.009 99.3483 897.467 Q97.5428 893.902 93.9086 893.902 M93.9086 890.199 Q99.7187 890.199 102.774 894.805 Q105.853 899.388 105.853 908.138 Q105.853 916.865 102.774 921.472 Q99.7187 926.055 93.9086 926.055 Q88.0984 926.055 85.0197 921.472 Q81.9642 916.865 81.9642 908.138 Q81.9642 899.388 85.0197 894.805 Q88.0984 890.199 93.9086 890.199 Z\" fill=\"#000000\" fill-rule=\"evenodd\" fill-opacity=\"1\" /><path clip-path=\"url(#clip050)\" d=\"M124.07 893.902 Q120.459 893.902 118.631 897.467 Q116.825 901.009 116.825 908.138 Q116.825 915.245 118.631 918.81 Q120.459 922.351 124.07 922.351 Q127.705 922.351 129.51 918.81 Q131.339 915.245 131.339 908.138 Q131.339 901.009 129.51 897.467 Q127.705 893.902 124.07 893.902 M124.07 890.199 Q129.881 890.199 132.936 894.805 Q136.015 899.388 136.015 908.138 Q136.015 916.865 132.936 921.472 Q129.881 926.055 124.07 926.055 Q118.26 926.055 115.182 921.472 Q112.126 916.865 112.126 908.138 Q112.126 899.388 115.182 894.805 Q118.26 890.199 124.07 890.199 Z\" fill=\"#000000\" fill-rule=\"evenodd\" fill-opacity=\"1\" /><path clip-path=\"url(#clip050)\" d=\"M154.232 893.902 Q150.621 893.902 148.793 897.467 Q146.987 901.009 146.987 908.138 Q146.987 915.245 148.793 918.81 Q150.621 922.351 154.232 922.351 Q157.867 922.351 159.672 918.81 Q161.501 915.245 161.501 908.138 Q161.501 901.009 159.672 897.467 Q157.867 893.902 154.232 893.902 M154.232 890.199 Q160.042 890.199 163.098 894.805 Q166.177 899.388 166.177 908.138 Q166.177 916.865 163.098 921.472 Q160.042 926.055 154.232 926.055 Q148.422 926.055 145.343 921.472 Q142.288 916.865 142.288 908.138 Q142.288 899.388 145.343 894.805 Q148.422 890.199 154.232 890.199 Z\" fill=\"#000000\" fill-rule=\"evenodd\" fill-opacity=\"1\" /><path clip-path=\"url(#clip050)\" d=\"M67.9133 637.943 Q71.2698 638.661 73.1448 640.929 Q75.0429 643.198 75.0429 646.531 Q75.0429 651.647 71.5244 654.448 Q68.0059 657.249 61.5245 657.249 Q59.3486 657.249 57.0338 656.809 Q54.7421 656.392 52.2884 655.536 L52.2884 651.022 Q54.2328 652.156 56.5477 652.735 Q58.8625 653.314 61.3856 653.314 Q65.7837 653.314 68.0754 651.578 Q70.3902 649.841 70.3902 646.531 Q70.3902 643.476 68.2374 641.763 Q66.1078 640.027 62.2884 640.027 L58.2606 640.027 L58.2606 636.184 L62.4735 636.184 Q65.9226 636.184 67.7513 634.818 Q69.58 633.429 69.58 630.837 Q69.58 628.175 67.6819 626.763 Q65.8069 625.328 62.2884 625.328 Q60.3671 625.328 58.168 625.744 Q55.969 626.161 53.3301 627.041 L53.3301 622.874 Q55.9921 622.133 58.3069 621.763 Q60.6449 621.393 62.705 621.393 Q68.0291 621.393 71.1309 623.823 Q74.2327 626.23 74.2327 630.351 Q74.2327 633.221 72.5892 635.212 Q70.9457 637.179 67.9133 637.943 Z\" fill=\"#000000\" fill-rule=\"evenodd\" fill-opacity=\"1\" /><path clip-path=\"url(#clip050)\" d=\"M93.9086 625.096 Q90.2975 625.096 88.4688 628.661 Q86.6632 632.203 86.6632 639.332 Q86.6632 646.439 88.4688 650.003 Q90.2975 653.545 93.9086 653.545 Q97.5428 653.545 99.3483 650.003 Q101.177 646.439 101.177 639.332 Q101.177 632.203 99.3483 628.661 Q97.5428 625.096 93.9086 625.096 M93.9086 621.393 Q99.7187 621.393 102.774 625.999 Q105.853 630.582 105.853 639.332 Q105.853 648.059 102.774 652.665 Q99.7187 657.249 93.9086 657.249 Q88.0984 657.249 85.0197 652.665 Q81.9642 648.059 81.9642 639.332 Q81.9642 630.582 85.0197 625.999 Q88.0984 621.393 93.9086 621.393 Z\" fill=\"#000000\" fill-rule=\"evenodd\" fill-opacity=\"1\" /><path clip-path=\"url(#clip050)\" d=\"M124.07 625.096 Q120.459 625.096 118.631 628.661 Q116.825 632.203 116.825 639.332 Q116.825 646.439 118.631 650.003 Q120.459 653.545 124.07 653.545 Q127.705 653.545 129.51 650.003 Q131.339 646.439 131.339 639.332 Q131.339 632.203 129.51 628.661 Q127.705 625.096 124.07 625.096 M124.07 621.393 Q129.881 621.393 132.936 625.999 Q136.015 630.582 136.015 639.332 Q136.015 648.059 132.936 652.665 Q129.881 657.249 124.07 657.249 Q118.26 657.249 115.182 652.665 Q112.126 648.059 112.126 639.332 Q112.126 630.582 115.182 625.999 Q118.26 621.393 124.07 621.393 Z\" fill=\"#000000\" fill-rule=\"evenodd\" fill-opacity=\"1\" /><path clip-path=\"url(#clip050)\" d=\"M154.232 625.096 Q150.621 625.096 148.793 628.661 Q146.987 632.203 146.987 639.332 Q146.987 646.439 148.793 650.003 Q150.621 653.545 154.232 653.545 Q157.867 653.545 159.672 650.003 Q161.501 646.439 161.501 639.332 Q161.501 632.203 159.672 628.661 Q157.867 625.096 154.232 625.096 M154.232 621.393 Q160.042 621.393 163.098 625.999 Q166.177 630.582 166.177 639.332 Q166.177 648.059 163.098 652.665 Q160.042 657.249 154.232 657.249 Q148.422 657.249 145.343 652.665 Q142.288 648.059 142.288 639.332 Q142.288 630.582 145.343 625.999 Q148.422 621.393 154.232 621.393 Z\" fill=\"#000000\" fill-rule=\"evenodd\" fill-opacity=\"1\" /><path clip-path=\"url(#clip050)\" d=\"M66.5939 357.285 L54.7884 375.734 L66.5939 375.734 L66.5939 357.285 M65.367 353.211 L71.2466 353.211 L71.2466 375.734 L76.1772 375.734 L76.1772 379.623 L71.2466 379.623 L71.2466 387.771 L66.5939 387.771 L66.5939 379.623 L50.9921 379.623 L50.9921 375.109 L65.367 353.211 Z\" fill=\"#000000\" fill-rule=\"evenodd\" fill-opacity=\"1\" /><path clip-path=\"url(#clip050)\" d=\"M93.9086 356.29 Q90.2975 356.29 88.4688 359.855 Q86.6632 363.397 86.6632 370.526 Q86.6632 377.633 88.4688 381.197 Q90.2975 384.739 93.9086 384.739 Q97.5428 384.739 99.3483 381.197 Q101.177 377.633 101.177 370.526 Q101.177 363.397 99.3483 359.855 Q97.5428 356.29 93.9086 356.29 M93.9086 352.586 Q99.7187 352.586 102.774 357.193 Q105.853 361.776 105.853 370.526 Q105.853 379.253 102.774 383.859 Q99.7187 388.443 93.9086 388.443 Q88.0984 388.443 85.0197 383.859 Q81.9642 379.253 81.9642 370.526 Q81.9642 361.776 85.0197 357.193 Q88.0984 352.586 93.9086 352.586 Z\" fill=\"#000000\" fill-rule=\"evenodd\" fill-opacity=\"1\" /><path clip-path=\"url(#clip050)\" d=\"M124.07 356.29 Q120.459 356.29 118.631 359.855 Q116.825 363.397 116.825 370.526 Q116.825 377.633 118.631 381.197 Q120.459 384.739 124.07 384.739 Q127.705 384.739 129.51 381.197 Q131.339 377.633 131.339 370.526 Q131.339 363.397 129.51 359.855 Q127.705 356.29 124.07 356.29 M124.07 352.586 Q129.881 352.586 132.936 357.193 Q136.015 361.776 136.015 370.526 Q136.015 379.253 132.936 383.859 Q129.881 388.443 124.07 388.443 Q118.26 388.443 115.182 383.859 Q112.126 379.253 112.126 370.526 Q112.126 361.776 115.182 357.193 Q118.26 352.586 124.07 352.586 Z\" fill=\"#000000\" fill-rule=\"evenodd\" fill-opacity=\"1\" /><path clip-path=\"url(#clip050)\" d=\"M154.232 356.29 Q150.621 356.29 148.793 359.855 Q146.987 363.397 146.987 370.526 Q146.987 377.633 148.793 381.197 Q150.621 384.739 154.232 384.739 Q157.867 384.739 159.672 381.197 Q161.501 377.633 161.501 370.526 Q161.501 363.397 159.672 359.855 Q157.867 356.29 154.232 356.29 M154.232 352.586 Q160.042 352.586 163.098 357.193 Q166.177 361.776 166.177 370.526 Q166.177 379.253 163.098 383.859 Q160.042 388.443 154.232 388.443 Q148.422 388.443 145.343 383.859 Q142.288 379.253 142.288 370.526 Q142.288 361.776 145.343 357.193 Q148.422 352.586 154.232 352.586 Z\" fill=\"#000000\" fill-rule=\"evenodd\" fill-opacity=\"1\" /><path clip-path=\"url(#clip050)\" d=\"M53.793 84.4054 L72.1494 84.4054 L72.1494 88.3406 L58.0754 88.3406 L58.0754 96.8127 Q59.0939 96.4655 60.1124 96.3035 Q61.131 96.1183 62.1495 96.1183 Q67.9365 96.1183 71.3161 99.2896 Q74.6957 102.461 74.6957 107.877 Q74.6957 113.456 71.2235 116.558 Q67.7513 119.637 61.4319 119.637 Q59.256 119.637 56.9875 119.266 Q54.7421 118.896 52.3347 118.155 L52.3347 113.456 Q54.418 114.59 56.6402 115.146 Q58.8625 115.702 61.3393 115.702 Q65.3439 115.702 67.6819 113.595 Q70.0198 111.489 70.0198 107.877 Q70.0198 104.266 67.6819 102.16 Q65.3439 100.053 61.3393 100.053 Q59.4643 100.053 57.5893 100.47 Q55.7375 100.887 53.793 101.766 L53.793 84.4054 Z\" fill=\"#000000\" fill-rule=\"evenodd\" fill-opacity=\"1\" /><path clip-path=\"url(#clip050)\" d=\"M93.9086 87.4841 Q90.2975 87.4841 88.4688 91.0489 Q86.6632 94.5905 86.6632 101.72 Q86.6632 108.827 88.4688 112.391 Q90.2975 115.933 93.9086 115.933 Q97.5428 115.933 99.3483 112.391 Q101.177 108.827 101.177 101.72 Q101.177 94.5905 99.3483 91.0489 Q97.5428 87.4841 93.9086 87.4841 M93.9086 83.7804 Q99.7187 83.7804 102.774 88.3868 Q105.853 92.9702 105.853 101.72 Q105.853 110.447 102.774 115.053 Q99.7187 119.637 93.9086 119.637 Q88.0984 119.637 85.0197 115.053 Q81.9642 110.447 81.9642 101.72 Q81.9642 92.9702 85.0197 88.3868 Q88.0984 83.7804 93.9086 83.7804 Z\" fill=\"#000000\" fill-rule=\"evenodd\" fill-opacity=\"1\" /><path clip-path=\"url(#clip050)\" d=\"M124.07 87.4841 Q120.459 87.4841 118.631 91.0489 Q116.825 94.5905 116.825 101.72 Q116.825 108.827 118.631 112.391 Q120.459 115.933 124.07 115.933 Q127.705 115.933 129.51 112.391 Q131.339 108.827 131.339 101.72 Q131.339 94.5905 129.51 91.0489 Q127.705 87.4841 124.07 87.4841 M124.07 83.7804 Q129.881 83.7804 132.936 88.3868 Q136.015 92.9702 136.015 101.72 Q136.015 110.447 132.936 115.053 Q129.881 119.637 124.07 119.637 Q118.26 119.637 115.182 115.053 Q112.126 110.447 112.126 101.72 Q112.126 92.9702 115.182 88.3868 Q118.26 83.7804 124.07 83.7804 Z\" fill=\"#000000\" fill-rule=\"evenodd\" fill-opacity=\"1\" /><path clip-path=\"url(#clip050)\" d=\"M154.232 87.4841 Q150.621 87.4841 148.793 91.0489 Q146.987 94.5905 146.987 101.72 Q146.987 108.827 148.793 112.391 Q150.621 115.933 154.232 115.933 Q157.867 115.933 159.672 112.391 Q161.501 108.827 161.501 101.72 Q161.501 94.5905 159.672 91.0489 Q157.867 87.4841 154.232 87.4841 M154.232 83.7804 Q160.042 83.7804 163.098 88.3868 Q166.177 92.9702 166.177 101.72 Q166.177 110.447 163.098 115.053 Q160.042 119.637 154.232 119.637 Q148.422 119.637 145.343 115.053 Q142.288 110.447 142.288 101.72 Q142.288 92.9702 145.343 88.3868 Q148.422 83.7804 154.232 83.7804 Z\" fill=\"#000000\" fill-rule=\"evenodd\" fill-opacity=\"1\" /><path clip-path=\"url(#clip052)\" d=\"M320.462 1445.18 L320.462 1445.72 L448.063 1445.72 L448.063 1445.18 L320.462 1445.18 L320.462 1445.18  Z\" fill=\"#009af9\" fill-rule=\"evenodd\" fill-opacity=\"1\"/>\n",
       "<polyline clip-path=\"url(#clip052)\" style=\"stroke:#000000; stroke-linecap:round; stroke-linejoin:round; stroke-width:4; stroke-opacity:1; fill:none\" points=\"320.462,1445.18 320.462,1445.72 448.063,1445.72 448.063,1445.18 320.462,1445.18 \"/>\n",
       "<path clip-path=\"url(#clip052)\" d=\"M448.063 1445.45 L448.063 1445.72 L575.663 1445.72 L575.663 1445.45 L448.063 1445.45 L448.063 1445.45  Z\" fill=\"#009af9\" fill-rule=\"evenodd\" fill-opacity=\"1\"/>\n",
       "<polyline clip-path=\"url(#clip052)\" style=\"stroke:#000000; stroke-linecap:round; stroke-linejoin:round; stroke-width:4; stroke-opacity:1; fill:none\" points=\"448.063,1445.45 448.063,1445.72 575.663,1445.72 575.663,1445.45 448.063,1445.45 \"/>\n",
       "<path clip-path=\"url(#clip052)\" d=\"M575.663 1444.64 L575.663 1445.72 L703.264 1445.72 L703.264 1444.64 L575.663 1444.64 L575.663 1444.64  Z\" fill=\"#009af9\" fill-rule=\"evenodd\" fill-opacity=\"1\"/>\n",
       "<polyline clip-path=\"url(#clip052)\" style=\"stroke:#000000; stroke-linecap:round; stroke-linejoin:round; stroke-width:4; stroke-opacity:1; fill:none\" points=\"575.663,1444.64 575.663,1445.72 703.264,1445.72 703.264,1444.64 575.663,1444.64 \"/>\n",
       "<path clip-path=\"url(#clip052)\" d=\"M703.264 1442.49 L703.264 1445.72 L830.864 1445.72 L830.864 1442.49 L703.264 1442.49 L703.264 1442.49  Z\" fill=\"#009af9\" fill-rule=\"evenodd\" fill-opacity=\"1\"/>\n",
       "<polyline clip-path=\"url(#clip052)\" style=\"stroke:#000000; stroke-linecap:round; stroke-linejoin:round; stroke-width:4; stroke-opacity:1; fill:none\" points=\"703.264,1442.49 703.264,1445.72 830.864,1445.72 830.864,1442.49 703.264,1442.49 \"/>\n",
       "<path clip-path=\"url(#clip052)\" d=\"M830.864 1432.28 L830.864 1445.72 L958.465 1445.72 L958.465 1432.28 L830.864 1432.28 L830.864 1432.28  Z\" fill=\"#009af9\" fill-rule=\"evenodd\" fill-opacity=\"1\"/>\n",
       "<polyline clip-path=\"url(#clip052)\" style=\"stroke:#000000; stroke-linecap:round; stroke-linejoin:round; stroke-width:4; stroke-opacity:1; fill:none\" points=\"830.864,1432.28 830.864,1445.72 958.465,1445.72 958.465,1432.28 830.864,1432.28 \"/>\n",
       "<path clip-path=\"url(#clip052)\" d=\"M958.465 1418.84 L958.465 1445.72 L1086.07 1445.72 L1086.07 1418.84 L958.465 1418.84 L958.465 1418.84  Z\" fill=\"#009af9\" fill-rule=\"evenodd\" fill-opacity=\"1\"/>\n",
       "<polyline clip-path=\"url(#clip052)\" style=\"stroke:#000000; stroke-linecap:round; stroke-linejoin:round; stroke-width:4; stroke-opacity:1; fill:none\" points=\"958.465,1418.84 958.465,1445.72 1086.07,1445.72 1086.07,1418.84 958.465,1418.84 \"/>\n",
       "<path clip-path=\"url(#clip052)\" d=\"M1086.07 1405.39 L1086.07 1445.72 L1213.67 1445.72 L1213.67 1405.39 L1086.07 1405.39 L1086.07 1405.39  Z\" fill=\"#009af9\" fill-rule=\"evenodd\" fill-opacity=\"1\"/>\n",
       "<polyline clip-path=\"url(#clip052)\" style=\"stroke:#000000; stroke-linecap:round; stroke-linejoin:round; stroke-width:4; stroke-opacity:1; fill:none\" points=\"1086.07,1405.39 1086.07,1445.72 1213.67,1445.72 1213.67,1405.39 1086.07,1405.39 \"/>\n",
       "<path clip-path=\"url(#clip052)\" d=\"M1213.67 1397.87 L1213.67 1445.72 L1341.27 1445.72 L1341.27 1397.87 L1213.67 1397.87 L1213.67 1397.87  Z\" fill=\"#009af9\" fill-rule=\"evenodd\" fill-opacity=\"1\"/>\n",
       "<polyline clip-path=\"url(#clip052)\" style=\"stroke:#000000; stroke-linecap:round; stroke-linejoin:round; stroke-width:4; stroke-opacity:1; fill:none\" points=\"1213.67,1397.87 1213.67,1445.72 1341.27,1445.72 1341.27,1397.87 1213.67,1397.87 \"/>\n",
       "<path clip-path=\"url(#clip052)\" d=\"M1341.27 1392.76 L1341.27 1445.72 L1468.87 1445.72 L1468.87 1392.76 L1341.27 1392.76 L1341.27 1392.76  Z\" fill=\"#009af9\" fill-rule=\"evenodd\" fill-opacity=\"1\"/>\n",
       "<polyline clip-path=\"url(#clip052)\" style=\"stroke:#000000; stroke-linecap:round; stroke-linejoin:round; stroke-width:4; stroke-opacity:1; fill:none\" points=\"1341.27,1392.76 1341.27,1445.72 1468.87,1445.72 1468.87,1392.76 1341.27,1392.76 \"/>\n",
       "<path clip-path=\"url(#clip052)\" d=\"M1468.87 1405.66 L1468.87 1445.72 L1596.47 1445.72 L1596.47 1405.66 L1468.87 1405.66 L1468.87 1405.66  Z\" fill=\"#009af9\" fill-rule=\"evenodd\" fill-opacity=\"1\"/>\n",
       "<polyline clip-path=\"url(#clip052)\" style=\"stroke:#000000; stroke-linecap:round; stroke-linejoin:round; stroke-width:4; stroke-opacity:1; fill:none\" points=\"1468.87,1405.66 1468.87,1445.72 1596.47,1445.72 1596.47,1405.66 1468.87,1405.66 \"/>\n",
       "<path clip-path=\"url(#clip052)\" d=\"M1596.47 1420.18 L1596.47 1445.72 L1724.07 1445.72 L1724.07 1420.18 L1596.47 1420.18 L1596.47 1420.18  Z\" fill=\"#009af9\" fill-rule=\"evenodd\" fill-opacity=\"1\"/>\n",
       "<polyline clip-path=\"url(#clip052)\" style=\"stroke:#000000; stroke-linecap:round; stroke-linejoin:round; stroke-width:4; stroke-opacity:1; fill:none\" points=\"1596.47,1420.18 1596.47,1445.72 1724.07,1445.72 1724.07,1420.18 1596.47,1420.18 \"/>\n",
       "<path clip-path=\"url(#clip052)\" d=\"M1724.07 1435.23 L1724.07 1445.72 L1851.67 1445.72 L1851.67 1435.23 L1724.07 1435.23 L1724.07 1435.23  Z\" fill=\"#009af9\" fill-rule=\"evenodd\" fill-opacity=\"1\"/>\n",
       "<polyline clip-path=\"url(#clip052)\" style=\"stroke:#000000; stroke-linecap:round; stroke-linejoin:round; stroke-width:4; stroke-opacity:1; fill:none\" points=\"1724.07,1435.23 1724.07,1445.72 1851.67,1445.72 1851.67,1435.23 1724.07,1435.23 \"/>\n",
       "<path clip-path=\"url(#clip052)\" d=\"M1851.67 1443.03 L1851.67 1445.72 L1979.27 1445.72 L1979.27 1443.03 L1851.67 1443.03 L1851.67 1443.03  Z\" fill=\"#009af9\" fill-rule=\"evenodd\" fill-opacity=\"1\"/>\n",
       "<polyline clip-path=\"url(#clip052)\" style=\"stroke:#000000; stroke-linecap:round; stroke-linejoin:round; stroke-width:4; stroke-opacity:1; fill:none\" points=\"1851.67,1443.03 1851.67,1445.72 1979.27,1445.72 1979.27,1443.03 1851.67,1443.03 \"/>\n",
       "<path clip-path=\"url(#clip052)\" d=\"M1979.27 1443.03 L1979.27 1445.72 L2106.87 1445.72 L2106.87 1443.03 L1979.27 1443.03 L1979.27 1443.03  Z\" fill=\"#009af9\" fill-rule=\"evenodd\" fill-opacity=\"1\"/>\n",
       "<polyline clip-path=\"url(#clip052)\" style=\"stroke:#000000; stroke-linecap:round; stroke-linejoin:round; stroke-width:4; stroke-opacity:1; fill:none\" points=\"1979.27,1443.03 1979.27,1445.72 2106.87,1445.72 2106.87,1443.03 1979.27,1443.03 \"/>\n",
       "<path clip-path=\"url(#clip052)\" d=\"M2106.87 1444.91 L2106.87 1445.72 L2234.47 1445.72 L2234.47 1444.91 L2106.87 1444.91 L2106.87 1444.91  Z\" fill=\"#009af9\" fill-rule=\"evenodd\" fill-opacity=\"1\"/>\n",
       "<polyline clip-path=\"url(#clip052)\" style=\"stroke:#000000; stroke-linecap:round; stroke-linejoin:round; stroke-width:4; stroke-opacity:1; fill:none\" points=\"2106.87,1444.91 2106.87,1445.72 2234.47,1445.72 2234.47,1444.91 2106.87,1444.91 \"/>\n",
       "<circle clip-path=\"url(#clip052)\" style=\"fill:#009af9; stroke:none; fill-opacity:0\" cx=\"384.263\" cy=\"1445.18\" r=\"2\"/>\n",
       "<circle clip-path=\"url(#clip052)\" style=\"fill:#009af9; stroke:none; fill-opacity:0\" cx=\"511.863\" cy=\"1445.45\" r=\"2\"/>\n",
       "<circle clip-path=\"url(#clip052)\" style=\"fill:#009af9; stroke:none; fill-opacity:0\" cx=\"639.464\" cy=\"1444.64\" r=\"2\"/>\n",
       "<circle clip-path=\"url(#clip052)\" style=\"fill:#009af9; stroke:none; fill-opacity:0\" cx=\"767.064\" cy=\"1442.49\" r=\"2\"/>\n",
       "<circle clip-path=\"url(#clip052)\" style=\"fill:#009af9; stroke:none; fill-opacity:0\" cx=\"894.665\" cy=\"1432.28\" r=\"2\"/>\n",
       "<circle clip-path=\"url(#clip052)\" style=\"fill:#009af9; stroke:none; fill-opacity:0\" cx=\"1022.27\" cy=\"1418.84\" r=\"2\"/>\n",
       "<circle clip-path=\"url(#clip052)\" style=\"fill:#009af9; stroke:none; fill-opacity:0\" cx=\"1149.87\" cy=\"1405.39\" r=\"2\"/>\n",
       "<circle clip-path=\"url(#clip052)\" style=\"fill:#009af9; stroke:none; fill-opacity:0\" cx=\"1277.47\" cy=\"1397.87\" r=\"2\"/>\n",
       "<circle clip-path=\"url(#clip052)\" style=\"fill:#009af9; stroke:none; fill-opacity:0\" cx=\"1405.07\" cy=\"1392.76\" r=\"2\"/>\n",
       "<circle clip-path=\"url(#clip052)\" style=\"fill:#009af9; stroke:none; fill-opacity:0\" cx=\"1532.67\" cy=\"1405.66\" r=\"2\"/>\n",
       "<circle clip-path=\"url(#clip052)\" style=\"fill:#009af9; stroke:none; fill-opacity:0\" cx=\"1660.27\" cy=\"1420.18\" r=\"2\"/>\n",
       "<circle clip-path=\"url(#clip052)\" style=\"fill:#009af9; stroke:none; fill-opacity:0\" cx=\"1787.87\" cy=\"1435.23\" r=\"2\"/>\n",
       "<circle clip-path=\"url(#clip052)\" style=\"fill:#009af9; stroke:none; fill-opacity:0\" cx=\"1915.47\" cy=\"1443.03\" r=\"2\"/>\n",
       "<circle clip-path=\"url(#clip052)\" style=\"fill:#009af9; stroke:none; fill-opacity:0\" cx=\"2043.07\" cy=\"1443.03\" r=\"2\"/>\n",
       "<circle clip-path=\"url(#clip052)\" style=\"fill:#009af9; stroke:none; fill-opacity:0\" cx=\"2170.67\" cy=\"1444.91\" r=\"2\"/>\n",
       "<path clip-path=\"url(#clip052)\" d=\"M1341.27 115.394 L1341.27 1445.72 L1366.79 1445.72 L1366.79 115.394 L1341.27 115.394 L1341.27 115.394  Z\" fill=\"#e26f46\" fill-rule=\"evenodd\" fill-opacity=\"1\"/>\n",
       "<polyline clip-path=\"url(#clip052)\" style=\"stroke:#000000; stroke-linecap:round; stroke-linejoin:round; stroke-width:4; stroke-opacity:1; fill:none\" points=\"1341.27,115.394 1341.27,1445.72 1366.79,1445.72 1366.79,115.394 1341.27,115.394 \"/>\n",
       "<path clip-path=\"url(#clip052)\" d=\"M1366.79 1445.72 L1366.79 1445.72 L1392.31 1445.72 L1392.31 1445.72 L1366.79 1445.72 L1366.79 1445.72  Z\" fill=\"#e26f46\" fill-rule=\"evenodd\" fill-opacity=\"1\"/>\n",
       "<polyline clip-path=\"url(#clip052)\" style=\"stroke:#000000; stroke-linecap:round; stroke-linejoin:round; stroke-width:4; stroke-opacity:1; fill:none\" points=\"1366.79,1445.72 1366.79,1445.72 1392.31,1445.72 1366.79,1445.72 \"/>\n",
       "<path clip-path=\"url(#clip052)\" d=\"M1392.31 1445.72 L1392.31 1445.72 L1417.83 1445.72 L1417.83 1445.72 L1392.31 1445.72 L1392.31 1445.72  Z\" fill=\"#e26f46\" fill-rule=\"evenodd\" fill-opacity=\"1\"/>\n",
       "<polyline clip-path=\"url(#clip052)\" style=\"stroke:#000000; stroke-linecap:round; stroke-linejoin:round; stroke-width:4; stroke-opacity:1; fill:none\" points=\"1392.31,1445.72 1392.31,1445.72 1417.83,1445.72 1392.31,1445.72 \"/>\n",
       "<path clip-path=\"url(#clip052)\" d=\"M1417.83 1445.72 L1417.83 1445.72 L1443.35 1445.72 L1443.35 1445.72 L1417.83 1445.72 L1417.83 1445.72  Z\" fill=\"#e26f46\" fill-rule=\"evenodd\" fill-opacity=\"1\"/>\n",
       "<polyline clip-path=\"url(#clip052)\" style=\"stroke:#000000; stroke-linecap:round; stroke-linejoin:round; stroke-width:4; stroke-opacity:1; fill:none\" points=\"1417.83,1445.72 1417.83,1445.72 1443.35,1445.72 1417.83,1445.72 \"/>\n",
       "<path clip-path=\"url(#clip052)\" d=\"M1443.35 1445.72 L1443.35 1445.72 L1468.87 1445.72 L1468.87 1445.72 L1443.35 1445.72 L1443.35 1445.72  Z\" fill=\"#e26f46\" fill-rule=\"evenodd\" fill-opacity=\"1\"/>\n",
       "<polyline clip-path=\"url(#clip052)\" style=\"stroke:#000000; stroke-linecap:round; stroke-linejoin:round; stroke-width:4; stroke-opacity:1; fill:none\" points=\"1443.35,1445.72 1443.35,1445.72 1468.87,1445.72 1443.35,1445.72 \"/>\n",
       "<path clip-path=\"url(#clip052)\" d=\"M1468.87 1445.72 L1468.87 1445.72 L1494.39 1445.72 L1494.39 1445.72 L1468.87 1445.72 L1468.87 1445.72  Z\" fill=\"#e26f46\" fill-rule=\"evenodd\" fill-opacity=\"1\"/>\n",
       "<polyline clip-path=\"url(#clip052)\" style=\"stroke:#000000; stroke-linecap:round; stroke-linejoin:round; stroke-width:4; stroke-opacity:1; fill:none\" points=\"1468.87,1445.72 1468.87,1445.72 1494.39,1445.72 1468.87,1445.72 \"/>\n",
       "<path clip-path=\"url(#clip052)\" d=\"M1494.39 1445.72 L1494.39 1445.72 L1519.91 1445.72 L1519.91 1445.72 L1494.39 1445.72 L1494.39 1445.72  Z\" fill=\"#e26f46\" fill-rule=\"evenodd\" fill-opacity=\"1\"/>\n",
       "<polyline clip-path=\"url(#clip052)\" style=\"stroke:#000000; stroke-linecap:round; stroke-linejoin:round; stroke-width:4; stroke-opacity:1; fill:none\" points=\"1494.39,1445.72 1494.39,1445.72 1519.91,1445.72 1494.39,1445.72 \"/>\n",
       "<path clip-path=\"url(#clip052)\" d=\"M1519.91 1445.72 L1519.91 1445.72 L1545.43 1445.72 L1545.43 1445.72 L1519.91 1445.72 L1519.91 1445.72  Z\" fill=\"#e26f46\" fill-rule=\"evenodd\" fill-opacity=\"1\"/>\n",
       "<polyline clip-path=\"url(#clip052)\" style=\"stroke:#000000; stroke-linecap:round; stroke-linejoin:round; stroke-width:4; stroke-opacity:1; fill:none\" points=\"1519.91,1445.72 1519.91,1445.72 1545.43,1445.72 1519.91,1445.72 \"/>\n",
       "<path clip-path=\"url(#clip052)\" d=\"M1545.43 1445.72 L1545.43 1445.72 L1570.95 1445.72 L1570.95 1445.72 L1545.43 1445.72 L1545.43 1445.72  Z\" fill=\"#e26f46\" fill-rule=\"evenodd\" fill-opacity=\"1\"/>\n",
       "<polyline clip-path=\"url(#clip052)\" style=\"stroke:#000000; stroke-linecap:round; stroke-linejoin:round; stroke-width:4; stroke-opacity:1; fill:none\" points=\"1545.43,1445.72 1545.43,1445.72 1570.95,1445.72 1545.43,1445.72 \"/>\n",
       "<path clip-path=\"url(#clip052)\" d=\"M1570.95 1445.72 L1570.95 1445.72 L1596.47 1445.72 L1596.47 1445.72 L1570.95 1445.72 L1570.95 1445.72  Z\" fill=\"#e26f46\" fill-rule=\"evenodd\" fill-opacity=\"1\"/>\n",
       "<polyline clip-path=\"url(#clip052)\" style=\"stroke:#000000; stroke-linecap:round; stroke-linejoin:round; stroke-width:4; stroke-opacity:1; fill:none\" points=\"1570.95,1445.72 1570.95,1445.72 1596.47,1445.72 1570.95,1445.72 \"/>\n",
       "<path clip-path=\"url(#clip052)\" d=\"M1596.47 87.9763 L1596.47 1445.72 L1621.99 1445.72 L1621.99 87.9763 L1596.47 87.9763 L1596.47 87.9763  Z\" fill=\"#e26f46\" fill-rule=\"evenodd\" fill-opacity=\"1\"/>\n",
       "<polyline clip-path=\"url(#clip052)\" style=\"stroke:#000000; stroke-linecap:round; stroke-linejoin:round; stroke-width:4; stroke-opacity:1; fill:none\" points=\"1596.47,87.9763 1596.47,1445.72 1621.99,1445.72 1621.99,87.9763 1596.47,87.9763 \"/>\n",
       "<circle clip-path=\"url(#clip052)\" style=\"fill:#e26f46; stroke:none; fill-opacity:0\" cx=\"1354.03\" cy=\"115.394\" r=\"2\"/>\n",
       "<circle clip-path=\"url(#clip052)\" style=\"fill:#e26f46; stroke:none; fill-opacity:0\" cx=\"1379.55\" cy=\"1445.72\" r=\"2\"/>\n",
       "<circle clip-path=\"url(#clip052)\" style=\"fill:#e26f46; stroke:none; fill-opacity:0\" cx=\"1405.07\" cy=\"1445.72\" r=\"2\"/>\n",
       "<circle clip-path=\"url(#clip052)\" style=\"fill:#e26f46; stroke:none; fill-opacity:0\" cx=\"1430.59\" cy=\"1445.72\" r=\"2\"/>\n",
       "<circle clip-path=\"url(#clip052)\" style=\"fill:#e26f46; stroke:none; fill-opacity:0\" cx=\"1456.11\" cy=\"1445.72\" r=\"2\"/>\n",
       "<circle clip-path=\"url(#clip052)\" style=\"fill:#e26f46; stroke:none; fill-opacity:0\" cx=\"1481.63\" cy=\"1445.72\" r=\"2\"/>\n",
       "<circle clip-path=\"url(#clip052)\" style=\"fill:#e26f46; stroke:none; fill-opacity:0\" cx=\"1507.15\" cy=\"1445.72\" r=\"2\"/>\n",
       "<circle clip-path=\"url(#clip052)\" style=\"fill:#e26f46; stroke:none; fill-opacity:0\" cx=\"1532.67\" cy=\"1445.72\" r=\"2\"/>\n",
       "<circle clip-path=\"url(#clip052)\" style=\"fill:#e26f46; stroke:none; fill-opacity:0\" cx=\"1558.19\" cy=\"1445.72\" r=\"2\"/>\n",
       "<circle clip-path=\"url(#clip052)\" style=\"fill:#e26f46; stroke:none; fill-opacity:0\" cx=\"1583.71\" cy=\"1445.72\" r=\"2\"/>\n",
       "<circle clip-path=\"url(#clip052)\" style=\"fill:#e26f46; stroke:none; fill-opacity:0\" cx=\"1609.23\" cy=\"87.9763\" r=\"2\"/>\n",
       "<path clip-path=\"url(#clip050)\" d=\"M2013.58 250.738 L2281.07 250.738 L2281.07 95.2176 L2013.58 95.2176  Z\" fill=\"#ffffff\" fill-rule=\"evenodd\" fill-opacity=\"1\"/>\n",
       "<polyline clip-path=\"url(#clip050)\" style=\"stroke:#000000; stroke-linecap:round; stroke-linejoin:round; stroke-width:4; stroke-opacity:1; fill:none\" points=\"2013.58,250.738 2281.07,250.738 2281.07,95.2176 2013.58,95.2176 2013.58,250.738 \"/>\n",
       "<path clip-path=\"url(#clip050)\" d=\"M2037.48 167.794 L2180.85 167.794 L2180.85 126.322 L2037.48 126.322 L2037.48 167.794  Z\" fill=\"#009af9\" fill-rule=\"evenodd\" fill-opacity=\"1\"/>\n",
       "<polyline clip-path=\"url(#clip050)\" style=\"stroke:#000000; stroke-linecap:round; stroke-linejoin:round; stroke-width:4; stroke-opacity:1; fill:none\" points=\"2037.48,167.794 2180.85,167.794 2180.85,126.322 2037.48,126.322 2037.48,167.794 \"/>\n",
       "<path clip-path=\"url(#clip050)\" d=\"M2218.59 166.745 Q2216.78 171.375 2215.07 172.787 Q2213.36 174.199 2210.49 174.199 L2207.08 174.199 L2207.08 170.634 L2209.58 170.634 Q2211.34 170.634 2212.31 169.8 Q2213.29 168.967 2214.47 165.865 L2215.23 163.921 L2204.74 138.412 L2209.26 138.412 L2217.36 158.689 L2225.46 138.412 L2229.98 138.412 L2218.59 166.745 Z\" fill=\"#000000\" fill-rule=\"evenodd\" fill-opacity=\"1\" /><path clip-path=\"url(#clip050)\" d=\"M2237.27 160.402 L2244.91 160.402 L2244.91 134.037 L2236.6 135.703 L2236.6 131.444 L2244.86 129.778 L2249.54 129.778 L2249.54 160.402 L2257.17 160.402 L2257.17 164.338 L2237.27 164.338 L2237.27 160.402 Z\" fill=\"#000000\" fill-rule=\"evenodd\" fill-opacity=\"1\" /><path clip-path=\"url(#clip050)\" d=\"M2037.48 219.634 L2180.85 219.634 L2180.85 178.162 L2037.48 178.162 L2037.48 219.634  Z\" fill=\"#e26f46\" fill-rule=\"evenodd\" fill-opacity=\"1\"/>\n",
       "<polyline clip-path=\"url(#clip050)\" style=\"stroke:#000000; stroke-linecap:round; stroke-linejoin:round; stroke-width:4; stroke-opacity:1; fill:none\" points=\"2037.48,219.634 2180.85,219.634 2180.85,178.162 2037.48,178.162 2037.48,219.634 \"/>\n",
       "<path clip-path=\"url(#clip050)\" d=\"M2218.59 218.585 Q2216.78 223.215 2215.07 224.627 Q2213.36 226.039 2210.49 226.039 L2207.08 226.039 L2207.08 222.474 L2209.58 222.474 Q2211.34 222.474 2212.31 221.64 Q2213.29 220.807 2214.47 217.705 L2215.23 215.761 L2204.74 190.252 L2209.26 190.252 L2217.36 210.529 L2225.46 190.252 L2229.98 190.252 L2218.59 218.585 Z\" fill=\"#000000\" fill-rule=\"evenodd\" fill-opacity=\"1\" /><path clip-path=\"url(#clip050)\" d=\"M2240.48 212.242 L2256.8 212.242 L2256.8 216.178 L2234.86 216.178 L2234.86 212.242 Q2237.52 209.488 2242.11 204.858 Q2246.71 200.205 2247.89 198.863 Q2250.14 196.34 2251.02 194.604 Q2251.92 192.844 2251.92 191.155 Q2251.92 188.4 2249.98 186.664 Q2248.05 184.928 2244.95 184.928 Q2242.75 184.928 2240.3 185.692 Q2237.87 186.455 2235.09 188.006 L2235.09 183.284 Q2237.92 182.15 2240.37 181.571 Q2242.82 180.993 2244.86 180.993 Q2250.23 180.993 2253.42 183.678 Q2256.62 186.363 2256.62 190.854 Q2256.62 192.983 2255.81 194.905 Q2255.02 196.803 2252.92 199.395 Q2252.34 200.067 2249.23 203.284 Q2246.13 206.479 2240.48 212.242 Z\" fill=\"#000000\" fill-rule=\"evenodd\" fill-opacity=\"1\" /></svg>\n"
      ]
     },
     "execution_count": 28,
     "metadata": {},
     "output_type": "execute_result"
    }
   ],
   "source": [
    "x = rand(d,1000)\n",
    "sample=rand(a,10000)\n",
    "histogram(x)\n",
    "histogram!(sample)"
   ]
  },
  {
   "cell_type": "markdown",
   "id": "22b88d4d",
   "metadata": {},
   "source": [
    "# Question 4\n",
    "### Read the following example and complete the exercises \n",
    "Bayes is playing Russian roulette. The revolver has six chambers. He puts two bullets in two adjacent chambers, spin the cylinder, hold the gun to his head, and pull the trigger. It clicks. So it is now the second try: he can choose either to spin the cylinder again or leave it as it is. "
   ]
  },
  {
   "cell_type": "markdown",
   "id": "4718911a",
   "metadata": {},
   "source": [
    "### 4.1\n",
    "\n",
    "#### What is the probability that Bayes survives the second try given his survival in the first try if he spin the cylinder and explain"
   ]
  },
  {
   "cell_type": "markdown",
   "id": "96f8c663",
   "metadata": {},
   "source": [
    "There are bullets in 2 out of the 6 chambers of the gun, each adjacent to each other (the bullets are right next to each other). If Bayes survives the first try, this evidently means the chamber was empty. If the cylinder is spun after the trigger is pulled for the first time and Bayes survives, the risk of the second pull is the exact same as the first pull. There are two loaded rounds, and six possible spots for them to be loaded. Therefore, Bayes will survive the second try given he survives the first try spins the cylinder with probability 2/3."
   ]
  },
  {
   "cell_type": "markdown",
   "id": "9fd046a8",
   "metadata": {},
   "source": [
    "### 4.2\n",
    "#### In this case, what are the relation between P(B|A), P(B), and P(A) if A represents survival in the first try and B represents survival in the second try"
   ]
  },
  {
   "cell_type": "markdown",
   "id": "7a575296",
   "metadata": {},
   "source": [
    "P(A) is the probabiity that Bayes survives after the trigger is pulled once, while P(B) represents Bayes surviving after the trigger is pulled a second time. P(B|A) represents the probability of surviving the second try given you survive the first try. The probability of surviving the second try after the first try will be dependent on whether or not the cylinder is rotated after the first try. To calculate P(B|A), we can use the equation P(B|A)=P(AB)/P(A). "
   ]
  },
  {
   "cell_type": "markdown",
   "id": "4e03c813",
   "metadata": {},
   "source": [
    "### 4.3\n",
    "\n",
    "#### What is the probability that Bayes survives both tries without spinning the cylinder and explain"
   ]
  },
  {
   "cell_type": "markdown",
   "id": "9bef6b05",
   "metadata": {},
   "source": [
    "The probability of Bayes surviving the first try, P(A), is 2/3, given that 4 out of 6 chambers have no bullet. The probability of Bayes surviving the second try, P(B), is 3/4, if we assume that the cylinder is not respun. Out of these four possible positions, only one of the positions is deadly, meaning the up next position is loaded. There is a 1/4 chance we are at this deadly location (with bullet up next for the second trigger pull, which would kill Bayes on the second try). This means there is a 3/4 chance that the chamber next to the spot the gun is in after the fisrt try is also empty. \n",
    "\n",
    "Therefore, P(Bayes survives both tries without respinning cylinder)=(2/3)*(3/4)=1/2. In other words, there are 3 out of 6 positions that have empty consecutive chambers (1/2). "
   ]
  },
  {
   "cell_type": "markdown",
   "id": "b4de6d2c",
   "metadata": {},
   "source": [
    "### 4.4\n",
    "\n",
    "#### Use answers from 4.1 and 4.3 to calculate the probability that Bayes survives the second try given his survial in the first try if he doesn't spin the cylinder and explain "
   ]
  },
  {
   "cell_type": "markdown",
   "id": "c064134e",
   "metadata": {},
   "source": [
    "To calculate the probability that Bayes survives the second try given his survivial in the first try if he doesn't spin the cylinder, we can use the conditional probability formula P(B|A)=P(AB)/P(A). \n",
    "P(AB) = probability Bayes survives first and second round\n",
    "P(A) = probability Bayes survives first round"
   ]
  },
  {
   "cell_type": "code",
   "execution_count": 38,
   "id": "060dc990",
   "metadata": {},
   "outputs": [
    {
     "data": {
      "text/plain": [
       "0.75"
      ]
     },
     "execution_count": 38,
     "metadata": {},
     "output_type": "execute_result"
    }
   ],
   "source": [
    "prob_surviving_first_try=(2/3)\n",
    "prob_surviving_both=(1/2)\n",
    "\n",
    "conditional_prob=prob_surviving_both/prob_surviving_first_try"
   ]
  },
  {
   "cell_type": "markdown",
   "id": "47840457",
   "metadata": {},
   "source": [
    "Probability that Bayes survives the second try given his survival in the first try if he doesn't spin the cylinder is 3/4."
   ]
  }
 ],
 "metadata": {
  "kernelspec": {
   "display_name": "Julia 1.8.5",
   "language": "julia",
   "name": "julia-1.8"
  },
  "language_info": {
   "file_extension": ".jl",
   "mimetype": "application/julia",
   "name": "julia",
   "version": "1.8.5"
  }
 },
 "nbformat": 4,
 "nbformat_minor": 5
}
