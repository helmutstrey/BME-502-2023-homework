{
 "cells": [
  {
   "cell_type": "markdown",
   "id": "0ce4edbf",
   "metadata": {},
   "source": [
    "<h1>HW2</h1>"
   ]
  },
  {
   "cell_type": "markdown",
   "id": "2e321dc4",
   "metadata": {},
   "source": [
    "#### Bayes' theorem:\n",
    "\\begin{equation*}\n",
    "P(A|B) = \\frac{P(B|A)P(A)}{P(B)} \\\\\n",
    "P(A|B): Posteior \\\\\n",
    "P(B|A): Likelihood \\\\\n",
    "P(A): Prior \\\\\n",
    "P(B): Marginal Probability \\\\\n",
    "\\end{equation*}"
   ]
  },
  {
   "cell_type": "markdown",
   "id": "1b6c2102",
   "metadata": {},
   "source": [
    "# Question 1\n",
    "### Read the following example and complete the exercises \n",
    "\n",
    "You are at the age of 21 and curious about if drinking alcohol would cause liver disease. You contacted a clinic site and got the following information.\n",
    "\n",
    "1. Past data tells you that 10% of patients entering the clinic have liver disease (**Prior**). \n",
    "\n",
    "2. Five percent of the clinic’s patients are alcoholics (**Marginal Probability**). \n",
    "\n",
    "3. Among the patients diagnosed with liver disease, 15% are alcoholics (**Likelihood**). \n",
    "\n",
    "Now you wonder what is the probability of a patient from the clinic have liver disease given that the patient is alcoholic (**Posterior**)"
   ]
  },
  {
   "cell_type": "markdown",
   "id": "e0c81ddf",
   "metadata": {},
   "source": [
    "### 1.1 \n",
    "\n",
    "#### If A represents the event of being an alcoholic patient in the clinic and L represents the event of being a patient with liver disease in the clinic, write the bayesian representation (P(A|B)) in the following cells\n"
   ]
  },
  {
   "cell_type": "markdown",
   "id": "90ef64bb",
   "metadata": {},
   "source": [
    "Posteria_Probability = P(L|A) = (P(L) * P(A|L)) / (P(L)) = ? (The probability of a patient from the clinic having liver disease, given that the patient is alcoholic.)"
   ]
  },
  {
   "cell_type": "markdown",
   "id": "658c4c0e",
   "metadata": {},
   "source": [
    "Prior_Probability = P(L) = 10% ( The probability of being a patient with liver disease in the clinic. )"
   ]
  },
  {
   "cell_type": "markdown",
   "id": "e5f1f140",
   "metadata": {},
   "source": [
    "Marginal_Probability = P(A) = 5% ( The probability of being an alcoholic patient in the clinic. )"
   ]
  },
  {
   "cell_type": "markdown",
   "id": "ce4bee50",
   "metadata": {},
   "source": [
    "Likelihood_Probability = P(A|L) = 15% ( The probability of a patient from the clinic being alcoholic, given that the patient has liver disease.)"
   ]
  },
  {
   "cell_type": "markdown",
   "id": "572cc5a7",
   "metadata": {},
   "source": [
    "### 1.2 \n",
    "\n",
    "#### Define all the information available and calculate the posteria probbability"
   ]
  },
  {
   "cell_type": "code",
   "execution_count": 1,
   "id": "fa180ac4",
   "metadata": {},
   "outputs": [
    {
     "name": "stdout",
     "output_type": "stream",
     "text": [
      "Prior_Probability = 10%\n",
      "Marginal_Probability = 5%\n",
      "Likelihood_Probability = 15%\n",
      "Posteria_Probability = 30%\n"
     ]
    }
   ],
   "source": [
    "Prior_Probability = 10\n",
    "println(\"Prior_Probability = $Prior_Probability%\")\n",
    "Marginal_Probability = 5\n",
    "println(\"Marginal_Probability = $Marginal_Probability%\")\n",
    "Likelihood_Probability = 15\n",
    "println(\"Likelihood_Probability = $Likelihood_Probability%\")\n",
    "Posteria_Probability = Int.(((Likelihood_Probability) * (Prior_Probability))/(Marginal_Probability))\n",
    "println(\"Posteria_Probability = $Posteria_Probability%\")\n",
    "\n"
   ]
  },
  {
   "cell_type": "markdown",
   "id": "ddce1bb4",
   "metadata": {},
   "source": [
    "# Question 2\n",
    "### Read the following example and complete the exercises \n",
    "Shown by a <a href=\"https://pubmed.ncbi.nlm.nih.gov/34242764/#:~:text=The%20overall%20sensitivity%20of%20the,%25%20CI%2024.4%2D65.1\">reaserch study</a>, the rapid antigen test for Covid has a sensitivity of 65.3% and a specificity of 99.9%. Assume 1% people have Covid. If randomly select a person and he/she tests positive using the rapid antigen test, what is the probability the person has Covid (posterior)."
   ]
  },
  {
   "cell_type": "markdown",
   "id": "1f01074b",
   "metadata": {},
   "source": [
    "### 2.1 \n",
    "\n",
    "#### The probability of which event is considered marginal probability in this case? Define it in the first cell below and calculate it in the second cell below"
   ]
  },
  {
   "cell_type": "markdown",
   "id": "fc0ce8a8",
   "metadata": {},
   "source": [
    "The event is: "
   ]
  },
  {
   "cell_type": "code",
   "execution_count": 2,
   "id": "9514d479",
   "metadata": {},
   "outputs": [
    {
     "data": {
      "text/plain": [
       "0.3500599999999999"
      ]
     },
     "execution_count": 2,
     "metadata": {},
     "output_type": "execute_result"
    }
   ],
   "source": [
    "#=\n",
    "P(positive_test| positive_covid) = likelihood_probability = 0.635\n",
    "P(positive_test| negative_covid) = 1-0.653\n",
    "P(positive_covid) = prior_probability = 0.01\n",
    "P(negative_covid) = 1-0.01\n",
    "P(positive_test) = (P(positive_test|positive_covid)*P(positive_covid))+(P(positive_test|negative_covid)*P(negative_covid))\n",
    "=#\n",
    "positive_test_probibality = marginal_probability = (0.653*0.01) + ((1-0.653)*(1-0.01))"
   ]
  },
  {
   "cell_type": "markdown",
   "id": "cbb30a58",
   "metadata": {},
   "source": [
    "### 2.2 \n",
    "\n",
    "#### Define all the information and calculate the probability the randomly selected person has Covid"
   ]
  },
  {
   "cell_type": "code",
   "execution_count": 3,
   "id": "1af37a23",
   "metadata": {},
   "outputs": [
    {
     "data": {
      "text/plain": [
       "0.01813974747186197"
      ]
     },
     "execution_count": 3,
     "metadata": {},
     "output_type": "execute_result"
    }
   ],
   "source": [
    "marginal_probability = 0.3500599999999999 \n",
    "likelihood_probability = 0.635\n",
    "prior_probability = 0.01\n",
    "posterior_probability = (likelihood_probability * prior_probability)/marginal_probability"
   ]
  },
  {
   "cell_type": "markdown",
   "id": "13c0b486",
   "metadata": {},
   "source": [
    "# Question 3\n",
    "### <a href=\"https://juliastats.org/Distributions.jl/stable/starting/\">This page</a> is the documentation for Distribution.jl and complete the exercies"
   ]
  },
  {
   "cell_type": "markdown",
   "id": "8a852a4a",
   "metadata": {},
   "source": [
    "### 3.1 \n",
    "\n",
    "#### Randomly draw 1000 samples from a normal distribution with mean = 5 and std = 2"
   ]
  },
  {
   "cell_type": "code",
   "execution_count": 4,
   "id": "a1539748",
   "metadata": {},
   "outputs": [
    {
     "name": "stderr",
     "output_type": "stream",
     "text": [
      "\u001b[32m\u001b[1m    Updating\u001b[22m\u001b[39m registry at `C:\\Users\\akram\\.julia\\registries\\General.toml`\n",
      "\u001b[32m\u001b[1m   Resolving\u001b[22m\u001b[39m package versions...\n",
      "\u001b[32m\u001b[1m  No Changes\u001b[22m\u001b[39m to `C:\\Users\\akram\\.julia\\environments\\v1.8\\Project.toml`\n",
      "\u001b[32m\u001b[1m  No Changes\u001b[22m\u001b[39m to `C:\\Users\\akram\\.julia\\environments\\v1.8\\Manifest.toml`\n",
      "\u001b[32m\u001b[1m   Resolving\u001b[22m\u001b[39m package versions...\n",
      "\u001b[32m\u001b[1m  No Changes\u001b[22m\u001b[39m to `C:\\Users\\akram\\.julia\\environments\\v1.8\\Project.toml`\n",
      "\u001b[32m\u001b[1m  No Changes\u001b[22m\u001b[39m to `C:\\Users\\akram\\.julia\\environments\\v1.8\\Manifest.toml`\n",
      "\u001b[32m\u001b[1m   Resolving\u001b[22m\u001b[39m package versions...\n",
      "\u001b[32m\u001b[1m  No Changes\u001b[22m\u001b[39m to `C:\\Users\\akram\\.julia\\environments\\v1.8\\Project.toml`\n",
      "\u001b[32m\u001b[1m  No Changes\u001b[22m\u001b[39m to `C:\\Users\\akram\\.julia\\environments\\v1.8\\Manifest.toml`\n"
     ]
    }
   ],
   "source": [
    "import Pkg\n",
    "Pkg.add(\"Distributions\")\n",
    "Pkg.add(\"Random\")\n",
    "Pkg.add(\"Plots\")"
   ]
  },
  {
   "cell_type": "code",
   "execution_count": 5,
   "id": "373381f4",
   "metadata": {},
   "outputs": [
    {
     "data": {
      "text/plain": [
       "1000-element Vector{Float64}:\n",
       " -0.6457306721039767\n",
       " -1.4632513788889214\n",
       " -1.6236037455860806\n",
       " -0.21766510678354617\n",
       "  0.4922456865251828\n",
       "  0.9809798121241488\n",
       "  0.0799568295050599\n",
       "  1.5491245530427917\n",
       " -1.3416092408832219\n",
       "  0.41216163468296796\n",
       "  0.5931973881209758\n",
       " -0.768408918731307\n",
       " -0.07616794545243702\n",
       "  ⋮\n",
       "  0.6238953327731309\n",
       "  0.2190423925136854\n",
       "  0.14977648786147835\n",
       "  0.8011182793189421\n",
       "  0.4023647087849521\n",
       "  0.08937787423429465\n",
       "  0.4061635295508496\n",
       "  1.2843199522618483\n",
       " -0.09024710180806607\n",
       " -0.056353210014852384\n",
       " -0.027062419314432075\n",
       " -0.17230880567312984"
      ]
     },
     "execution_count": 5,
     "metadata": {},
     "output_type": "execute_result"
    }
   ],
   "source": [
    "using Random,Distributions,Plots\n",
    "Random.seed!(123)\n",
    "N = Normal()\n",
    "Normal(5,2)\n",
    "Sample_1 = rand(N,1000)"
   ]
  },
  {
   "cell_type": "markdown",
   "id": "0b89952d",
   "metadata": {},
   "source": [
    "### 3.2\n",
    "\n",
    "#### Plot  the distribution above in a histogram"
   ]
  },
  {
   "cell_type": "code",
   "execution_count": 6,
   "id": "677ef750",
   "metadata": {},
   "outputs": [
    {
     "data": {
      "image/svg+xml": [
       "<?xml version=\"1.0\" encoding=\"utf-8\"?>\n",
       "<svg xmlns=\"http://www.w3.org/2000/svg\" xmlns:xlink=\"http://www.w3.org/1999/xlink\" width=\"600\" height=\"400\" viewBox=\"0 0 2400 1600\">\n",
       "<defs>\n",
       "  <clipPath id=\"clip830\">\n",
       "    <rect x=\"0\" y=\"0\" width=\"2400\" height=\"1600\"/>\n",
       "  </clipPath>\n",
       "</defs>\n",
       "<path clip-path=\"url(#clip830)\" d=\"M0 1600 L2400 1600 L2400 0 L0 0  Z\" fill=\"#ffffff\" fill-rule=\"evenodd\" fill-opacity=\"1\"/>\n",
       "<defs>\n",
       "  <clipPath id=\"clip831\">\n",
       "    <rect x=\"480\" y=\"0\" width=\"1681\" height=\"1600\"/>\n",
       "  </clipPath>\n",
       "</defs>\n",
       "<path clip-path=\"url(#clip830)\" d=\"M169.121 1486.45 L2352.76 1486.45 L2352.76 47.2441 L169.121 47.2441  Z\" fill=\"#ffffff\" fill-rule=\"evenodd\" fill-opacity=\"1\"/>\n",
       "<defs>\n",
       "  <clipPath id=\"clip832\">\n",
       "    <rect x=\"169\" y=\"47\" width=\"2185\" height=\"1440\"/>\n",
       "  </clipPath>\n",
       "</defs>\n",
       "<polyline clip-path=\"url(#clip832)\" style=\"stroke:#000000; stroke-linecap:round; stroke-linejoin:round; stroke-width:2; stroke-opacity:0.1; fill:none\" points=\"677.911,1486.45 677.911,47.2441 \"/>\n",
       "<polyline clip-path=\"url(#clip832)\" style=\"stroke:#000000; stroke-linecap:round; stroke-linejoin:round; stroke-width:2; stroke-opacity:0.1; fill:none\" points=\"1196.16,1486.45 1196.16,47.2441 \"/>\n",
       "<polyline clip-path=\"url(#clip832)\" style=\"stroke:#000000; stroke-linecap:round; stroke-linejoin:round; stroke-width:2; stroke-opacity:0.1; fill:none\" points=\"1714.4,1486.45 1714.4,47.2441 \"/>\n",
       "<polyline clip-path=\"url(#clip832)\" style=\"stroke:#000000; stroke-linecap:round; stroke-linejoin:round; stroke-width:2; stroke-opacity:0.1; fill:none\" points=\"2232.65,1486.45 2232.65,47.2441 \"/>\n",
       "<polyline clip-path=\"url(#clip830)\" style=\"stroke:#000000; stroke-linecap:round; stroke-linejoin:round; stroke-width:4; stroke-opacity:1; fill:none\" points=\"169.121,1486.45 2352.76,1486.45 \"/>\n",
       "<polyline clip-path=\"url(#clip830)\" style=\"stroke:#000000; stroke-linecap:round; stroke-linejoin:round; stroke-width:4; stroke-opacity:1; fill:none\" points=\"677.911,1486.45 677.911,1467.55 \"/>\n",
       "<polyline clip-path=\"url(#clip830)\" style=\"stroke:#000000; stroke-linecap:round; stroke-linejoin:round; stroke-width:4; stroke-opacity:1; fill:none\" points=\"1196.16,1486.45 1196.16,1467.55 \"/>\n",
       "<polyline clip-path=\"url(#clip830)\" style=\"stroke:#000000; stroke-linecap:round; stroke-linejoin:round; stroke-width:4; stroke-opacity:1; fill:none\" points=\"1714.4,1486.45 1714.4,1467.55 \"/>\n",
       "<polyline clip-path=\"url(#clip830)\" style=\"stroke:#000000; stroke-linecap:round; stroke-linejoin:round; stroke-width:4; stroke-opacity:1; fill:none\" points=\"2232.65,1486.45 2232.65,1467.55 \"/>\n",
       "<path clip-path=\"url(#clip830)\" d=\"M647.853 1532.02 L677.529 1532.02 L677.529 1535.95 L647.853 1535.95 L647.853 1532.02 Z\" fill=\"#000000\" fill-rule=\"evenodd\" fill-opacity=\"1\" /><path clip-path=\"url(#clip830)\" d=\"M691.649 1544.91 L707.968 1544.91 L707.968 1548.85 L686.024 1548.85 L686.024 1544.91 Q688.686 1542.16 693.269 1537.53 Q697.876 1532.88 699.056 1531.53 Q701.302 1529.01 702.181 1527.27 Q703.084 1525.51 703.084 1523.82 Q703.084 1521.07 701.14 1519.33 Q699.218 1517.6 696.116 1517.6 Q693.917 1517.6 691.464 1518.36 Q689.033 1519.13 686.255 1520.68 L686.255 1515.95 Q689.079 1514.82 691.533 1514.24 Q693.987 1513.66 696.024 1513.66 Q701.394 1513.66 704.589 1516.35 Q707.783 1519.03 707.783 1523.52 Q707.783 1525.65 706.973 1527.57 Q706.186 1529.47 704.079 1532.07 Q703.501 1532.74 700.399 1535.95 Q697.297 1539.15 691.649 1544.91 Z\" fill=\"#000000\" fill-rule=\"evenodd\" fill-opacity=\"1\" /><path clip-path=\"url(#clip830)\" d=\"M1196.16 1517.37 Q1192.55 1517.37 1190.72 1520.93 Q1188.91 1524.47 1188.91 1531.6 Q1188.91 1538.71 1190.72 1542.27 Q1192.55 1545.82 1196.16 1545.82 Q1199.79 1545.82 1201.6 1542.27 Q1203.43 1538.71 1203.43 1531.6 Q1203.43 1524.47 1201.6 1520.93 Q1199.79 1517.37 1196.16 1517.37 M1196.16 1513.66 Q1201.97 1513.66 1205.02 1518.27 Q1208.1 1522.85 1208.1 1531.6 Q1208.1 1540.33 1205.02 1544.94 Q1201.97 1549.52 1196.16 1549.52 Q1190.35 1549.52 1187.27 1544.94 Q1184.21 1540.33 1184.21 1531.6 Q1184.21 1522.85 1187.27 1518.27 Q1190.35 1513.66 1196.16 1513.66 Z\" fill=\"#000000\" fill-rule=\"evenodd\" fill-opacity=\"1\" /><path clip-path=\"url(#clip830)\" d=\"M1709.06 1544.91 L1725.38 1544.91 L1725.38 1548.85 L1703.43 1548.85 L1703.43 1544.91 Q1706.09 1542.16 1710.68 1537.53 Q1715.28 1532.88 1716.47 1531.53 Q1718.71 1529.01 1719.59 1527.27 Q1720.49 1525.51 1720.49 1523.82 Q1720.49 1521.07 1718.55 1519.33 Q1716.63 1517.6 1713.53 1517.6 Q1711.33 1517.6 1708.87 1518.36 Q1706.44 1519.13 1703.66 1520.68 L1703.66 1515.95 Q1706.49 1514.82 1708.94 1514.24 Q1711.4 1513.66 1713.43 1513.66 Q1718.8 1513.66 1722 1516.35 Q1725.19 1519.03 1725.19 1523.52 Q1725.19 1525.65 1724.38 1527.57 Q1723.59 1529.47 1721.49 1532.07 Q1720.91 1532.74 1717.81 1535.95 Q1714.71 1539.15 1709.06 1544.91 Z\" fill=\"#000000\" fill-rule=\"evenodd\" fill-opacity=\"1\" /><path clip-path=\"url(#clip830)\" d=\"M2235.66 1518.36 L2223.86 1536.81 L2235.66 1536.81 L2235.66 1518.36 M2234.43 1514.29 L2240.31 1514.29 L2240.31 1536.81 L2245.24 1536.81 L2245.24 1540.7 L2240.31 1540.7 L2240.31 1548.85 L2235.66 1548.85 L2235.66 1540.7 L2220.06 1540.7 L2220.06 1536.19 L2234.43 1514.29 Z\" fill=\"#000000\" fill-rule=\"evenodd\" fill-opacity=\"1\" /><polyline clip-path=\"url(#clip832)\" style=\"stroke:#000000; stroke-linecap:round; stroke-linejoin:round; stroke-width:2; stroke-opacity:0.1; fill:none\" points=\"169.121,1445.72 2352.76,1445.72 \"/>\n",
       "<polyline clip-path=\"url(#clip832)\" style=\"stroke:#000000; stroke-linecap:round; stroke-linejoin:round; stroke-width:2; stroke-opacity:0.1; fill:none\" points=\"169.121,1076.76 2352.76,1076.76 \"/>\n",
       "<polyline clip-path=\"url(#clip832)\" style=\"stroke:#000000; stroke-linecap:round; stroke-linejoin:round; stroke-width:2; stroke-opacity:0.1; fill:none\" points=\"169.121,707.814 2352.76,707.814 \"/>\n",
       "<polyline clip-path=\"url(#clip832)\" style=\"stroke:#000000; stroke-linecap:round; stroke-linejoin:round; stroke-width:2; stroke-opacity:0.1; fill:none\" points=\"169.121,338.863 2352.76,338.863 \"/>\n",
       "<polyline clip-path=\"url(#clip830)\" style=\"stroke:#000000; stroke-linecap:round; stroke-linejoin:round; stroke-width:4; stroke-opacity:1; fill:none\" points=\"169.121,1486.45 169.121,47.2441 \"/>\n",
       "<polyline clip-path=\"url(#clip830)\" style=\"stroke:#000000; stroke-linecap:round; stroke-linejoin:round; stroke-width:4; stroke-opacity:1; fill:none\" points=\"169.121,1445.72 188.019,1445.72 \"/>\n",
       "<polyline clip-path=\"url(#clip830)\" style=\"stroke:#000000; stroke-linecap:round; stroke-linejoin:round; stroke-width:4; stroke-opacity:1; fill:none\" points=\"169.121,1076.76 188.019,1076.76 \"/>\n",
       "<polyline clip-path=\"url(#clip830)\" style=\"stroke:#000000; stroke-linecap:round; stroke-linejoin:round; stroke-width:4; stroke-opacity:1; fill:none\" points=\"169.121,707.814 188.019,707.814 \"/>\n",
       "<polyline clip-path=\"url(#clip830)\" style=\"stroke:#000000; stroke-linecap:round; stroke-linejoin:round; stroke-width:4; stroke-opacity:1; fill:none\" points=\"169.121,338.863 188.019,338.863 \"/>\n",
       "<path clip-path=\"url(#clip830)\" d=\"M121.177 1431.51 Q117.566 1431.51 115.737 1435.08 Q113.932 1438.62 113.932 1445.75 Q113.932 1452.86 115.737 1456.42 Q117.566 1459.96 121.177 1459.96 Q124.811 1459.96 126.617 1456.42 Q128.445 1452.86 128.445 1445.75 Q128.445 1438.62 126.617 1435.08 Q124.811 1431.51 121.177 1431.51 M121.177 1427.81 Q126.987 1427.81 130.043 1432.42 Q133.121 1437 133.121 1445.75 Q133.121 1454.48 130.043 1459.08 Q126.987 1463.67 121.177 1463.67 Q115.367 1463.67 112.288 1459.08 Q109.233 1454.48 109.233 1445.75 Q109.233 1437 112.288 1432.42 Q115.367 1427.81 121.177 1427.81 Z\" fill=\"#000000\" fill-rule=\"evenodd\" fill-opacity=\"1\" /><path clip-path=\"url(#clip830)\" d=\"M81.0614 1059.48 L99.4178 1059.48 L99.4178 1063.42 L85.3438 1063.42 L85.3438 1071.89 Q86.3623 1071.54 87.3808 1071.38 Q88.3993 1071.2 89.4178 1071.2 Q95.2049 1071.2 98.5845 1074.37 Q101.964 1077.54 101.964 1082.96 Q101.964 1088.54 98.4919 1091.64 Q95.0197 1094.72 88.7003 1094.72 Q86.5243 1094.72 84.2558 1094.35 Q82.0105 1093.98 79.6031 1093.23 L79.6031 1088.54 Q81.6864 1089.67 83.9086 1090.23 Q86.1308 1090.78 88.6077 1090.78 Q92.6123 1090.78 94.9502 1088.67 Q97.2882 1086.57 97.2882 1082.96 Q97.2882 1079.35 94.9502 1077.24 Q92.6123 1075.13 88.6077 1075.13 Q86.7327 1075.13 84.8577 1075.55 Q83.0058 1075.97 81.0614 1076.85 L81.0614 1059.48 Z\" fill=\"#000000\" fill-rule=\"evenodd\" fill-opacity=\"1\" /><path clip-path=\"url(#clip830)\" d=\"M121.177 1062.56 Q117.566 1062.56 115.737 1066.13 Q113.932 1069.67 113.932 1076.8 Q113.932 1083.91 115.737 1087.47 Q117.566 1091.01 121.177 1091.01 Q124.811 1091.01 126.617 1087.47 Q128.445 1083.91 128.445 1076.8 Q128.445 1069.67 126.617 1066.13 Q124.811 1062.56 121.177 1062.56 M121.177 1058.86 Q126.987 1058.86 130.043 1063.47 Q133.121 1068.05 133.121 1076.8 Q133.121 1085.53 130.043 1090.13 Q126.987 1094.72 121.177 1094.72 Q115.367 1094.72 112.288 1090.13 Q109.233 1085.53 109.233 1076.8 Q109.233 1068.05 112.288 1063.47 Q115.367 1058.86 121.177 1058.86 Z\" fill=\"#000000\" fill-rule=\"evenodd\" fill-opacity=\"1\" /><path clip-path=\"url(#clip830)\" d=\"M51.6634 721.159 L59.3023 721.159 L59.3023 694.793 L50.9921 696.46 L50.9921 692.2 L59.256 690.534 L63.9319 690.534 L63.9319 721.159 L71.5707 721.159 L71.5707 725.094 L51.6634 725.094 L51.6634 721.159 Z\" fill=\"#000000\" fill-rule=\"evenodd\" fill-opacity=\"1\" /><path clip-path=\"url(#clip830)\" d=\"M91.0151 693.613 Q87.404 693.613 85.5753 697.177 Q83.7697 700.719 83.7697 707.849 Q83.7697 714.955 85.5753 718.52 Q87.404 722.061 91.0151 722.061 Q94.6493 722.061 96.4548 718.52 Q98.2835 714.955 98.2835 707.849 Q98.2835 700.719 96.4548 697.177 Q94.6493 693.613 91.0151 693.613 M91.0151 689.909 Q96.8252 689.909 99.8808 694.515 Q102.959 699.099 102.959 707.849 Q102.959 716.575 99.8808 721.182 Q96.8252 725.765 91.0151 725.765 Q85.2049 725.765 82.1262 721.182 Q79.0707 716.575 79.0707 707.849 Q79.0707 699.099 82.1262 694.515 Q85.2049 689.909 91.0151 689.909 Z\" fill=\"#000000\" fill-rule=\"evenodd\" fill-opacity=\"1\" /><path clip-path=\"url(#clip830)\" d=\"M121.177 693.613 Q117.566 693.613 115.737 697.177 Q113.932 700.719 113.932 707.849 Q113.932 714.955 115.737 718.52 Q117.566 722.061 121.177 722.061 Q124.811 722.061 126.617 718.52 Q128.445 714.955 128.445 707.849 Q128.445 700.719 126.617 697.177 Q124.811 693.613 121.177 693.613 M121.177 689.909 Q126.987 689.909 130.043 694.515 Q133.121 699.099 133.121 707.849 Q133.121 716.575 130.043 721.182 Q126.987 725.765 121.177 725.765 Q115.367 725.765 112.288 721.182 Q109.233 716.575 109.233 707.849 Q109.233 699.099 112.288 694.515 Q115.367 689.909 121.177 689.909 Z\" fill=\"#000000\" fill-rule=\"evenodd\" fill-opacity=\"1\" /><path clip-path=\"url(#clip830)\" d=\"M51.6634 352.208 L59.3023 352.208 L59.3023 325.842 L50.9921 327.509 L50.9921 323.25 L59.256 321.583 L63.9319 321.583 L63.9319 352.208 L71.5707 352.208 L71.5707 356.143 L51.6634 356.143 L51.6634 352.208 Z\" fill=\"#000000\" fill-rule=\"evenodd\" fill-opacity=\"1\" /><path clip-path=\"url(#clip830)\" d=\"M81.0614 321.583 L99.4178 321.583 L99.4178 325.518 L85.3438 325.518 L85.3438 333.99 Q86.3623 333.643 87.3808 333.481 Q88.3993 333.296 89.4178 333.296 Q95.2049 333.296 98.5845 336.467 Q101.964 339.638 101.964 345.055 Q101.964 350.634 98.4919 353.736 Q95.0197 356.814 88.7003 356.814 Q86.5243 356.814 84.2558 356.444 Q82.0105 356.073 79.6031 355.333 L79.6031 350.634 Q81.6864 351.768 83.9086 352.323 Q86.1308 352.879 88.6077 352.879 Q92.6123 352.879 94.9502 350.773 Q97.2882 348.666 97.2882 345.055 Q97.2882 341.444 94.9502 339.337 Q92.6123 337.231 88.6077 337.231 Q86.7327 337.231 84.8577 337.648 Q83.0058 338.064 81.0614 338.944 L81.0614 321.583 Z\" fill=\"#000000\" fill-rule=\"evenodd\" fill-opacity=\"1\" /><path clip-path=\"url(#clip830)\" d=\"M121.177 324.662 Q117.566 324.662 115.737 328.226 Q113.932 331.768 113.932 338.898 Q113.932 346.004 115.737 349.569 Q117.566 353.111 121.177 353.111 Q124.811 353.111 126.617 349.569 Q128.445 346.004 128.445 338.898 Q128.445 331.768 126.617 328.226 Q124.811 324.662 121.177 324.662 M121.177 320.958 Q126.987 320.958 130.043 325.564 Q133.121 330.148 133.121 338.898 Q133.121 347.624 130.043 352.231 Q126.987 356.814 121.177 356.814 Q115.367 356.814 112.288 352.231 Q109.233 347.624 109.233 338.898 Q109.233 330.148 112.288 325.564 Q115.367 320.958 121.177 320.958 Z\" fill=\"#000000\" fill-rule=\"evenodd\" fill-opacity=\"1\" /><path clip-path=\"url(#clip832)\" d=\"M289.225 1430.96 L289.225 1445.72 L418.787 1445.72 L418.787 1430.96 L289.225 1430.96 L289.225 1430.96  Z\" fill=\"#009af9\" fill-rule=\"evenodd\" fill-opacity=\"1\"/>\n",
       "<polyline clip-path=\"url(#clip832)\" style=\"stroke:#000000; stroke-linecap:round; stroke-linejoin:round; stroke-width:4; stroke-opacity:1; fill:none\" points=\"289.225,1430.96 289.225,1445.72 418.787,1445.72 418.787,1430.96 289.225,1430.96 \"/>\n",
       "<path clip-path=\"url(#clip832)\" d=\"M418.787 1430.96 L418.787 1445.72 L548.349 1445.72 L548.349 1430.96 L418.787 1430.96 L418.787 1430.96  Z\" fill=\"#009af9\" fill-rule=\"evenodd\" fill-opacity=\"1\"/>\n",
       "<polyline clip-path=\"url(#clip832)\" style=\"stroke:#000000; stroke-linecap:round; stroke-linejoin:round; stroke-width:4; stroke-opacity:1; fill:none\" points=\"418.787,1430.96 418.787,1445.72 548.349,1445.72 548.349,1430.96 418.787,1430.96 \"/>\n",
       "<path clip-path=\"url(#clip832)\" d=\"M548.349 1312.89 L548.349 1445.72 L677.911 1445.72 L677.911 1312.89 L548.349 1312.89 L548.349 1312.89  Z\" fill=\"#009af9\" fill-rule=\"evenodd\" fill-opacity=\"1\"/>\n",
       "<polyline clip-path=\"url(#clip832)\" style=\"stroke:#000000; stroke-linecap:round; stroke-linejoin:round; stroke-width:4; stroke-opacity:1; fill:none\" points=\"548.349,1312.89 548.349,1445.72 677.911,1445.72 677.911,1312.89 548.349,1312.89 \"/>\n",
       "<path clip-path=\"url(#clip832)\" d=\"M677.911 1069.39 L677.911 1445.72 L807.472 1445.72 L807.472 1069.39 L677.911 1069.39 L677.911 1069.39  Z\" fill=\"#009af9\" fill-rule=\"evenodd\" fill-opacity=\"1\"/>\n",
       "<polyline clip-path=\"url(#clip832)\" style=\"stroke:#000000; stroke-linecap:round; stroke-linejoin:round; stroke-width:4; stroke-opacity:1; fill:none\" points=\"677.911,1069.39 677.911,1445.72 807.472,1445.72 807.472,1069.39 677.911,1069.39 \"/>\n",
       "<path clip-path=\"url(#clip832)\" d=\"M807.472 604.508 L807.472 1445.72 L937.034 1445.72 L937.034 604.508 L807.472 604.508 L807.472 604.508  Z\" fill=\"#009af9\" fill-rule=\"evenodd\" fill-opacity=\"1\"/>\n",
       "<polyline clip-path=\"url(#clip832)\" style=\"stroke:#000000; stroke-linecap:round; stroke-linejoin:round; stroke-width:4; stroke-opacity:1; fill:none\" points=\"807.472,604.508 807.472,1445.72 937.034,1445.72 937.034,604.508 807.472,604.508 \"/>\n",
       "<path clip-path=\"url(#clip832)\" d=\"M937.034 361 L937.034 1445.72 L1066.6 1445.72 L1066.6 361 L937.034 361 L937.034 361  Z\" fill=\"#009af9\" fill-rule=\"evenodd\" fill-opacity=\"1\"/>\n",
       "<polyline clip-path=\"url(#clip832)\" style=\"stroke:#000000; stroke-linecap:round; stroke-linejoin:round; stroke-width:4; stroke-opacity:1; fill:none\" points=\"937.034,361 937.034,1445.72 1066.6,1445.72 1066.6,361 937.034,361 \"/>\n",
       "<path clip-path=\"url(#clip832)\" d=\"M1066.6 87.9763 L1066.6 1445.72 L1196.16 1445.72 L1196.16 87.9763 L1066.6 87.9763 L1066.6 87.9763  Z\" fill=\"#009af9\" fill-rule=\"evenodd\" fill-opacity=\"1\"/>\n",
       "<polyline clip-path=\"url(#clip832)\" style=\"stroke:#000000; stroke-linecap:round; stroke-linejoin:round; stroke-width:4; stroke-opacity:1; fill:none\" points=\"1066.6,87.9763 1066.6,1445.72 1196.16,1445.72 1196.16,87.9763 1066.6,87.9763 \"/>\n",
       "<path clip-path=\"url(#clip832)\" d=\"M1196.16 102.734 L1196.16 1445.72 L1325.72 1445.72 L1325.72 102.734 L1196.16 102.734 L1196.16 102.734  Z\" fill=\"#009af9\" fill-rule=\"evenodd\" fill-opacity=\"1\"/>\n",
       "<polyline clip-path=\"url(#clip832)\" style=\"stroke:#000000; stroke-linecap:round; stroke-linejoin:round; stroke-width:4; stroke-opacity:1; fill:none\" points=\"1196.16,102.734 1196.16,1445.72 1325.72,1445.72 1325.72,102.734 1196.16,102.734 \"/>\n",
       "<path clip-path=\"url(#clip832)\" d=\"M1325.72 449.548 L1325.72 1445.72 L1455.28 1445.72 L1455.28 449.548 L1325.72 449.548 L1325.72 449.548  Z\" fill=\"#009af9\" fill-rule=\"evenodd\" fill-opacity=\"1\"/>\n",
       "<polyline clip-path=\"url(#clip832)\" style=\"stroke:#000000; stroke-linecap:round; stroke-linejoin:round; stroke-width:4; stroke-opacity:1; fill:none\" points=\"1325.72,449.548 1325.72,1445.72 1455.28,1445.72 1455.28,449.548 1325.72,449.548 \"/>\n",
       "<path clip-path=\"url(#clip832)\" d=\"M1455.28 722.572 L1455.28 1445.72 L1584.84 1445.72 L1584.84 722.572 L1455.28 722.572 L1455.28 722.572  Z\" fill=\"#009af9\" fill-rule=\"evenodd\" fill-opacity=\"1\"/>\n",
       "<polyline clip-path=\"url(#clip832)\" style=\"stroke:#000000; stroke-linecap:round; stroke-linejoin:round; stroke-width:4; stroke-opacity:1; fill:none\" points=\"1455.28,722.572 1455.28,1445.72 1584.84,1445.72 1584.84,722.572 1455.28,722.572 \"/>\n",
       "<path clip-path=\"url(#clip832)\" d=\"M1584.84 1128.42 L1584.84 1445.72 L1714.4 1445.72 L1714.4 1128.42 L1584.84 1128.42 L1584.84 1128.42  Z\" fill=\"#009af9\" fill-rule=\"evenodd\" fill-opacity=\"1\"/>\n",
       "<polyline clip-path=\"url(#clip832)\" style=\"stroke:#000000; stroke-linecap:round; stroke-linejoin:round; stroke-width:4; stroke-opacity:1; fill:none\" points=\"1584.84,1128.42 1584.84,1445.72 1714.4,1445.72 1714.4,1128.42 1584.84,1128.42 \"/>\n",
       "<path clip-path=\"url(#clip832)\" d=\"M1714.4 1342.41 L1714.4 1445.72 L1843.97 1445.72 L1843.97 1342.41 L1714.4 1342.41 L1714.4 1342.41  Z\" fill=\"#009af9\" fill-rule=\"evenodd\" fill-opacity=\"1\"/>\n",
       "<polyline clip-path=\"url(#clip832)\" style=\"stroke:#000000; stroke-linecap:round; stroke-linejoin:round; stroke-width:4; stroke-opacity:1; fill:none\" points=\"1714.4,1342.41 1714.4,1445.72 1843.97,1445.72 1843.97,1342.41 1714.4,1342.41 \"/>\n",
       "<path clip-path=\"url(#clip832)\" d=\"M1843.97 1408.82 L1843.97 1445.72 L1973.53 1445.72 L1973.53 1408.82 L1843.97 1408.82 L1843.97 1408.82  Z\" fill=\"#009af9\" fill-rule=\"evenodd\" fill-opacity=\"1\"/>\n",
       "<polyline clip-path=\"url(#clip832)\" style=\"stroke:#000000; stroke-linecap:round; stroke-linejoin:round; stroke-width:4; stroke-opacity:1; fill:none\" points=\"1843.97,1408.82 1843.97,1445.72 1973.53,1445.72 1973.53,1408.82 1843.97,1408.82 \"/>\n",
       "<path clip-path=\"url(#clip832)\" d=\"M1973.53 1416.2 L1973.53 1445.72 L2103.09 1445.72 L2103.09 1416.2 L1973.53 1416.2 L1973.53 1416.2  Z\" fill=\"#009af9\" fill-rule=\"evenodd\" fill-opacity=\"1\"/>\n",
       "<polyline clip-path=\"url(#clip832)\" style=\"stroke:#000000; stroke-linecap:round; stroke-linejoin:round; stroke-width:4; stroke-opacity:1; fill:none\" points=\"1973.53,1416.2 1973.53,1445.72 2103.09,1445.72 2103.09,1416.2 1973.53,1416.2 \"/>\n",
       "<path clip-path=\"url(#clip832)\" d=\"M2103.09 1438.34 L2103.09 1445.72 L2232.65 1445.72 L2232.65 1438.34 L2103.09 1438.34 L2103.09 1438.34  Z\" fill=\"#009af9\" fill-rule=\"evenodd\" fill-opacity=\"1\"/>\n",
       "<polyline clip-path=\"url(#clip832)\" style=\"stroke:#000000; stroke-linecap:round; stroke-linejoin:round; stroke-width:4; stroke-opacity:1; fill:none\" points=\"2103.09,1438.34 2103.09,1445.72 2232.65,1445.72 2232.65,1438.34 2103.09,1438.34 \"/>\n",
       "<circle clip-path=\"url(#clip832)\" style=\"fill:#009af9; stroke:none; fill-opacity:0\" cx=\"354.006\" cy=\"1430.96\" r=\"2\"/>\n",
       "<circle clip-path=\"url(#clip832)\" style=\"fill:#009af9; stroke:none; fill-opacity:0\" cx=\"483.568\" cy=\"1430.96\" r=\"2\"/>\n",
       "<circle clip-path=\"url(#clip832)\" style=\"fill:#009af9; stroke:none; fill-opacity:0\" cx=\"613.13\" cy=\"1312.89\" r=\"2\"/>\n",
       "<circle clip-path=\"url(#clip832)\" style=\"fill:#009af9; stroke:none; fill-opacity:0\" cx=\"742.691\" cy=\"1069.39\" r=\"2\"/>\n",
       "<circle clip-path=\"url(#clip832)\" style=\"fill:#009af9; stroke:none; fill-opacity:0\" cx=\"872.253\" cy=\"604.508\" r=\"2\"/>\n",
       "<circle clip-path=\"url(#clip832)\" style=\"fill:#009af9; stroke:none; fill-opacity:0\" cx=\"1001.82\" cy=\"361\" r=\"2\"/>\n",
       "<circle clip-path=\"url(#clip832)\" style=\"fill:#009af9; stroke:none; fill-opacity:0\" cx=\"1131.38\" cy=\"87.9763\" r=\"2\"/>\n",
       "<circle clip-path=\"url(#clip832)\" style=\"fill:#009af9; stroke:none; fill-opacity:0\" cx=\"1260.94\" cy=\"102.734\" r=\"2\"/>\n",
       "<circle clip-path=\"url(#clip832)\" style=\"fill:#009af9; stroke:none; fill-opacity:0\" cx=\"1390.5\" cy=\"449.548\" r=\"2\"/>\n",
       "<circle clip-path=\"url(#clip832)\" style=\"fill:#009af9; stroke:none; fill-opacity:0\" cx=\"1520.06\" cy=\"722.572\" r=\"2\"/>\n",
       "<circle clip-path=\"url(#clip832)\" style=\"fill:#009af9; stroke:none; fill-opacity:0\" cx=\"1649.62\" cy=\"1128.42\" r=\"2\"/>\n",
       "<circle clip-path=\"url(#clip832)\" style=\"fill:#009af9; stroke:none; fill-opacity:0\" cx=\"1779.19\" cy=\"1342.41\" r=\"2\"/>\n",
       "<circle clip-path=\"url(#clip832)\" style=\"fill:#009af9; stroke:none; fill-opacity:0\" cx=\"1908.75\" cy=\"1408.82\" r=\"2\"/>\n",
       "<circle clip-path=\"url(#clip832)\" style=\"fill:#009af9; stroke:none; fill-opacity:0\" cx=\"2038.31\" cy=\"1416.2\" r=\"2\"/>\n",
       "<circle clip-path=\"url(#clip832)\" style=\"fill:#009af9; stroke:none; fill-opacity:0\" cx=\"2167.87\" cy=\"1438.34\" r=\"2\"/>\n",
       "<path clip-path=\"url(#clip830)\" d=\"M1842.32 198.898 L2279.97 198.898 L2279.97 95.2176 L1842.32 95.2176  Z\" fill=\"#ffffff\" fill-rule=\"evenodd\" fill-opacity=\"1\"/>\n",
       "<polyline clip-path=\"url(#clip830)\" style=\"stroke:#000000; stroke-linecap:round; stroke-linejoin:round; stroke-width:4; stroke-opacity:1; fill:none\" points=\"1842.32,198.898 2279.97,198.898 2279.97,95.2176 1842.32,95.2176 1842.32,198.898 \"/>\n",
       "<path clip-path=\"url(#clip830)\" d=\"M1866.59 167.794 L2012.16 167.794 L2012.16 126.322 L1866.59 126.322 L1866.59 167.794  Z\" fill=\"#009af9\" fill-rule=\"evenodd\" fill-opacity=\"1\"/>\n",
       "<polyline clip-path=\"url(#clip830)\" style=\"stroke:#000000; stroke-linecap:round; stroke-linejoin:round; stroke-width:4; stroke-opacity:1; fill:none\" points=\"1866.59,167.794 2012.16,167.794 2012.16,126.322 1866.59,126.322 1866.59,167.794 \"/>\n",
       "<path clip-path=\"url(#clip830)\" d=\"M2054.85 139.176 L2054.85 143.203 Q2053.04 142.277 2051.1 141.815 Q2049.16 141.352 2047.07 141.352 Q2043.9 141.352 2042.3 142.324 Q2040.73 143.296 2040.73 145.24 Q2040.73 146.722 2041.86 147.578 Q2043 148.412 2046.42 149.176 L2047.88 149.5 Q2052.42 150.472 2054.32 152.254 Q2056.24 154.014 2056.24 157.185 Q2056.24 160.796 2053.37 162.902 Q2050.52 165.009 2045.52 165.009 Q2043.44 165.009 2041.17 164.592 Q2038.92 164.199 2036.42 163.388 L2036.42 158.99 Q2038.79 160.217 2041.08 160.842 Q2043.37 161.444 2045.61 161.444 Q2048.62 161.444 2050.24 160.426 Q2051.86 159.384 2051.86 157.509 Q2051.86 155.773 2050.68 154.847 Q2049.53 153.921 2045.57 153.064 L2044.09 152.717 Q2040.13 151.884 2038.37 150.171 Q2036.61 148.435 2036.61 145.426 Q2036.61 141.768 2039.2 139.778 Q2041.79 137.787 2046.56 137.787 Q2048.92 137.787 2051.01 138.134 Q2053.09 138.481 2054.85 139.176 Z\" fill=\"#000000\" fill-rule=\"evenodd\" fill-opacity=\"1\" /><path clip-path=\"url(#clip830)\" d=\"M2074.8 151.305 Q2069.64 151.305 2067.65 152.486 Q2065.66 153.666 2065.66 156.514 Q2065.66 158.782 2067.14 160.125 Q2068.65 161.444 2071.22 161.444 Q2074.76 161.444 2076.89 158.944 Q2079.04 156.421 2079.04 152.254 L2079.04 151.305 L2074.8 151.305 M2083.3 149.546 L2083.3 164.338 L2079.04 164.338 L2079.04 160.402 Q2077.58 162.763 2075.41 163.898 Q2073.23 165.009 2070.08 165.009 Q2066.1 165.009 2063.74 162.787 Q2061.4 160.541 2061.4 156.791 Q2061.4 152.416 2064.32 150.194 Q2067.26 147.972 2073.07 147.972 L2079.04 147.972 L2079.04 147.555 Q2079.04 144.615 2077.1 143.018 Q2075.17 141.398 2071.68 141.398 Q2069.46 141.398 2067.35 141.93 Q2065.24 142.463 2063.3 143.527 L2063.3 139.592 Q2065.64 138.69 2067.84 138.25 Q2070.04 137.787 2072.12 137.787 Q2077.74 137.787 2080.52 140.703 Q2083.3 143.62 2083.3 149.546 Z\" fill=\"#000000\" fill-rule=\"evenodd\" fill-opacity=\"1\" /><path clip-path=\"url(#clip830)\" d=\"M2112.26 143.389 Q2113.85 140.518 2116.08 139.153 Q2118.3 137.787 2121.31 137.787 Q2125.36 137.787 2127.56 140.634 Q2129.76 143.458 2129.76 148.689 L2129.76 164.338 L2125.47 164.338 L2125.47 148.828 Q2125.47 145.102 2124.16 143.296 Q2122.84 141.49 2120.13 141.49 Q2116.82 141.49 2114.9 143.69 Q2112.97 145.889 2112.97 149.685 L2112.97 164.338 L2108.69 164.338 L2108.69 148.828 Q2108.69 145.078 2107.37 143.296 Q2106.05 141.49 2103.3 141.49 Q2100.04 141.49 2098.11 143.713 Q2096.19 145.912 2096.19 149.685 L2096.19 164.338 L2091.91 164.338 L2091.91 138.412 L2096.19 138.412 L2096.19 142.44 Q2097.65 140.055 2099.69 138.921 Q2101.72 137.787 2104.53 137.787 Q2107.35 137.787 2109.32 139.222 Q2111.31 140.657 2112.26 143.389 Z\" fill=\"#000000\" fill-rule=\"evenodd\" fill-opacity=\"1\" /><path clip-path=\"url(#clip830)\" d=\"M2142.37 160.449 L2142.37 174.199 L2138.09 174.199 L2138.09 138.412 L2142.37 138.412 L2142.37 142.347 Q2143.72 140.032 2145.75 138.921 Q2147.81 137.787 2150.66 137.787 Q2155.38 137.787 2158.32 141.537 Q2161.28 145.287 2161.28 151.398 Q2161.28 157.509 2158.32 161.259 Q2155.38 165.009 2150.66 165.009 Q2147.81 165.009 2145.75 163.898 Q2143.72 162.763 2142.37 160.449 M2156.86 151.398 Q2156.86 146.699 2154.92 144.037 Q2153 141.352 2149.62 141.352 Q2146.24 141.352 2144.29 144.037 Q2142.37 146.699 2142.37 151.398 Q2142.37 156.097 2144.29 158.782 Q2146.24 161.444 2149.62 161.444 Q2153 161.444 2154.92 158.782 Q2156.86 156.097 2156.86 151.398 Z\" fill=\"#000000\" fill-rule=\"evenodd\" fill-opacity=\"1\" /><path clip-path=\"url(#clip830)\" d=\"M2168.34 128.319 L2172.6 128.319 L2172.6 164.338 L2168.34 164.338 L2168.34 128.319 Z\" fill=\"#000000\" fill-rule=\"evenodd\" fill-opacity=\"1\" /><path clip-path=\"url(#clip830)\" d=\"M2203.69 150.31 L2203.69 152.393 L2184.11 152.393 Q2184.39 156.791 2186.75 159.106 Q2189.13 161.398 2193.37 161.398 Q2195.82 161.398 2198.11 160.796 Q2200.43 160.194 2202.7 158.99 L2202.7 163.018 Q2200.4 163.99 2198 164.5 Q2195.59 165.009 2193.11 165.009 Q2186.91 165.009 2183.28 161.398 Q2179.66 157.787 2179.66 151.629 Q2179.66 145.264 2183.09 141.537 Q2186.54 137.787 2192.37 137.787 Q2197.6 137.787 2200.64 141.166 Q2203.69 144.523 2203.69 150.31 M2199.43 149.06 Q2199.39 145.565 2197.47 143.481 Q2195.57 141.398 2192.42 141.398 Q2188.85 141.398 2186.7 143.412 Q2184.57 145.426 2184.25 149.083 L2199.43 149.06 Z\" fill=\"#000000\" fill-rule=\"evenodd\" fill-opacity=\"1\" /><path clip-path=\"url(#clip830)\" d=\"M2230.38 172.208 L2230.38 175.518 L2205.75 175.518 L2205.75 172.208 L2230.38 172.208 Z\" fill=\"#000000\" fill-rule=\"evenodd\" fill-opacity=\"1\" /><path clip-path=\"url(#clip830)\" d=\"M2235.8 160.402 L2243.44 160.402 L2243.44 134.037 L2235.13 135.703 L2235.13 131.444 L2243.39 129.778 L2248.07 129.778 L2248.07 160.402 L2255.71 160.402 L2255.71 164.338 L2235.8 164.338 L2235.8 160.402 Z\" fill=\"#000000\" fill-rule=\"evenodd\" fill-opacity=\"1\" /></svg>\n"
      ]
     },
     "execution_count": 6,
     "metadata": {},
     "output_type": "execute_result"
    }
   ],
   "source": [
    "histogram(Sample_1, labels=\"sample_1\")"
   ]
  },
  {
   "cell_type": "markdown",
   "id": "acf09989",
   "metadata": {},
   "source": [
    "### 3.3\n",
    "\n",
    "#### Plot  the same distribution and change the bins to 50"
   ]
  },
  {
   "cell_type": "code",
   "execution_count": 7,
   "id": "f640420a",
   "metadata": {},
   "outputs": [
    {
     "data": {
      "image/svg+xml": [
       "<?xml version=\"1.0\" encoding=\"utf-8\"?>\n",
       "<svg xmlns=\"http://www.w3.org/2000/svg\" xmlns:xlink=\"http://www.w3.org/1999/xlink\" width=\"600\" height=\"400\" viewBox=\"0 0 2400 1600\">\n",
       "<defs>\n",
       "  <clipPath id=\"clip870\">\n",
       "    <rect x=\"0\" y=\"0\" width=\"2400\" height=\"1600\"/>\n",
       "  </clipPath>\n",
       "</defs>\n",
       "<path clip-path=\"url(#clip870)\" d=\"M0 1600 L2400 1600 L2400 0 L0 0  Z\" fill=\"#ffffff\" fill-rule=\"evenodd\" fill-opacity=\"1\"/>\n",
       "<defs>\n",
       "  <clipPath id=\"clip871\">\n",
       "    <rect x=\"480\" y=\"0\" width=\"1681\" height=\"1600\"/>\n",
       "  </clipPath>\n",
       "</defs>\n",
       "<path clip-path=\"url(#clip870)\" d=\"M141.853 1486.45 L2352.76 1486.45 L2352.76 47.2441 L141.853 47.2441  Z\" fill=\"#ffffff\" fill-rule=\"evenodd\" fill-opacity=\"1\"/>\n",
       "<defs>\n",
       "  <clipPath id=\"clip872\">\n",
       "    <rect x=\"141\" y=\"47\" width=\"2212\" height=\"1440\"/>\n",
       "  </clipPath>\n",
       "</defs>\n",
       "<polyline clip-path=\"url(#clip872)\" style=\"stroke:#000000; stroke-linecap:round; stroke-linejoin:round; stroke-width:2; stroke-opacity:0.1; fill:none\" points=\"591.406,1486.45 591.406,47.2441 \"/>\n",
       "<polyline clip-path=\"url(#clip872)\" style=\"stroke:#000000; stroke-linecap:round; stroke-linejoin:round; stroke-width:2; stroke-opacity:0.1; fill:none\" points=\"1137.99,1486.45 1137.99,47.2441 \"/>\n",
       "<polyline clip-path=\"url(#clip872)\" style=\"stroke:#000000; stroke-linecap:round; stroke-linejoin:round; stroke-width:2; stroke-opacity:0.1; fill:none\" points=\"1684.57,1486.45 1684.57,47.2441 \"/>\n",
       "<polyline clip-path=\"url(#clip872)\" style=\"stroke:#000000; stroke-linecap:round; stroke-linejoin:round; stroke-width:2; stroke-opacity:0.1; fill:none\" points=\"2231.15,1486.45 2231.15,47.2441 \"/>\n",
       "<polyline clip-path=\"url(#clip870)\" style=\"stroke:#000000; stroke-linecap:round; stroke-linejoin:round; stroke-width:4; stroke-opacity:1; fill:none\" points=\"141.853,1486.45 2352.76,1486.45 \"/>\n",
       "<polyline clip-path=\"url(#clip870)\" style=\"stroke:#000000; stroke-linecap:round; stroke-linejoin:round; stroke-width:4; stroke-opacity:1; fill:none\" points=\"591.406,1486.45 591.406,1467.55 \"/>\n",
       "<polyline clip-path=\"url(#clip870)\" style=\"stroke:#000000; stroke-linecap:round; stroke-linejoin:round; stroke-width:4; stroke-opacity:1; fill:none\" points=\"1137.99,1486.45 1137.99,1467.55 \"/>\n",
       "<polyline clip-path=\"url(#clip870)\" style=\"stroke:#000000; stroke-linecap:round; stroke-linejoin:round; stroke-width:4; stroke-opacity:1; fill:none\" points=\"1684.57,1486.45 1684.57,1467.55 \"/>\n",
       "<polyline clip-path=\"url(#clip870)\" style=\"stroke:#000000; stroke-linecap:round; stroke-linejoin:round; stroke-width:4; stroke-opacity:1; fill:none\" points=\"2231.15,1486.45 2231.15,1467.55 \"/>\n",
       "<path clip-path=\"url(#clip870)\" d=\"M561.348 1532.02 L591.024 1532.02 L591.024 1535.95 L561.348 1535.95 L561.348 1532.02 Z\" fill=\"#000000\" fill-rule=\"evenodd\" fill-opacity=\"1\" /><path clip-path=\"url(#clip870)\" d=\"M605.144 1544.91 L621.464 1544.91 L621.464 1548.85 L599.519 1548.85 L599.519 1544.91 Q602.181 1542.16 606.765 1537.53 Q611.371 1532.88 612.552 1531.53 Q614.797 1529.01 615.677 1527.27 Q616.579 1525.51 616.579 1523.82 Q616.579 1521.07 614.635 1519.33 Q612.714 1517.6 609.612 1517.6 Q607.413 1517.6 604.959 1518.36 Q602.528 1519.13 599.751 1520.68 L599.751 1515.95 Q602.575 1514.82 605.028 1514.24 Q607.482 1513.66 609.519 1513.66 Q614.89 1513.66 618.084 1516.35 Q621.278 1519.03 621.278 1523.52 Q621.278 1525.65 620.468 1527.57 Q619.681 1529.47 617.575 1532.07 Q616.996 1532.74 613.894 1535.95 Q610.792 1539.15 605.144 1544.91 Z\" fill=\"#000000\" fill-rule=\"evenodd\" fill-opacity=\"1\" /><path clip-path=\"url(#clip870)\" d=\"M1137.99 1517.37 Q1134.38 1517.37 1132.55 1520.93 Q1130.74 1524.47 1130.74 1531.6 Q1130.74 1538.71 1132.55 1542.27 Q1134.38 1545.82 1137.99 1545.82 Q1141.62 1545.82 1143.43 1542.27 Q1145.26 1538.71 1145.26 1531.6 Q1145.26 1524.47 1143.43 1520.93 Q1141.62 1517.37 1137.99 1517.37 M1137.99 1513.66 Q1143.8 1513.66 1146.85 1518.27 Q1149.93 1522.85 1149.93 1531.6 Q1149.93 1540.33 1146.85 1544.94 Q1143.8 1549.52 1137.99 1549.52 Q1132.18 1549.52 1129.1 1544.94 Q1126.04 1540.33 1126.04 1531.6 Q1126.04 1522.85 1129.1 1518.27 Q1132.18 1513.66 1137.99 1513.66 Z\" fill=\"#000000\" fill-rule=\"evenodd\" fill-opacity=\"1\" /><path clip-path=\"url(#clip870)\" d=\"M1679.22 1544.91 L1695.54 1544.91 L1695.54 1548.85 L1673.6 1548.85 L1673.6 1544.91 Q1676.26 1542.16 1680.84 1537.53 Q1685.45 1532.88 1686.63 1531.53 Q1688.88 1529.01 1689.76 1527.27 Q1690.66 1525.51 1690.66 1523.82 Q1690.66 1521.07 1688.71 1519.33 Q1686.79 1517.6 1683.69 1517.6 Q1681.49 1517.6 1679.04 1518.36 Q1676.61 1519.13 1673.83 1520.68 L1673.83 1515.95 Q1676.65 1514.82 1679.11 1514.24 Q1681.56 1513.66 1683.6 1513.66 Q1688.97 1513.66 1692.16 1516.35 Q1695.36 1519.03 1695.36 1523.52 Q1695.36 1525.65 1694.55 1527.57 Q1693.76 1529.47 1691.65 1532.07 Q1691.07 1532.74 1687.97 1535.95 Q1684.87 1539.15 1679.22 1544.91 Z\" fill=\"#000000\" fill-rule=\"evenodd\" fill-opacity=\"1\" /><path clip-path=\"url(#clip870)\" d=\"M2234.16 1518.36 L2222.36 1536.81 L2234.16 1536.81 L2234.16 1518.36 M2232.93 1514.29 L2238.81 1514.29 L2238.81 1536.81 L2243.74 1536.81 L2243.74 1540.7 L2238.81 1540.7 L2238.81 1548.85 L2234.16 1548.85 L2234.16 1540.7 L2218.56 1540.7 L2218.56 1536.19 L2232.93 1514.29 Z\" fill=\"#000000\" fill-rule=\"evenodd\" fill-opacity=\"1\" /><polyline clip-path=\"url(#clip872)\" style=\"stroke:#000000; stroke-linecap:round; stroke-linejoin:round; stroke-width:2; stroke-opacity:0.1; fill:none\" points=\"141.853,1445.72 2352.76,1445.72 \"/>\n",
       "<polyline clip-path=\"url(#clip872)\" style=\"stroke:#000000; stroke-linecap:round; stroke-linejoin:round; stroke-width:2; stroke-opacity:0.1; fill:none\" points=\"141.853,1110.47 2352.76,1110.47 \"/>\n",
       "<polyline clip-path=\"url(#clip872)\" style=\"stroke:#000000; stroke-linecap:round; stroke-linejoin:round; stroke-width:2; stroke-opacity:0.1; fill:none\" points=\"141.853,775.227 2352.76,775.227 \"/>\n",
       "<polyline clip-path=\"url(#clip872)\" style=\"stroke:#000000; stroke-linecap:round; stroke-linejoin:round; stroke-width:2; stroke-opacity:0.1; fill:none\" points=\"141.853,439.983 2352.76,439.983 \"/>\n",
       "<polyline clip-path=\"url(#clip872)\" style=\"stroke:#000000; stroke-linecap:round; stroke-linejoin:round; stroke-width:2; stroke-opacity:0.1; fill:none\" points=\"141.853,104.738 2352.76,104.738 \"/>\n",
       "<polyline clip-path=\"url(#clip870)\" style=\"stroke:#000000; stroke-linecap:round; stroke-linejoin:round; stroke-width:4; stroke-opacity:1; fill:none\" points=\"141.853,1486.45 141.853,47.2441 \"/>\n",
       "<polyline clip-path=\"url(#clip870)\" style=\"stroke:#000000; stroke-linecap:round; stroke-linejoin:round; stroke-width:4; stroke-opacity:1; fill:none\" points=\"141.853,1445.72 160.751,1445.72 \"/>\n",
       "<polyline clip-path=\"url(#clip870)\" style=\"stroke:#000000; stroke-linecap:round; stroke-linejoin:round; stroke-width:4; stroke-opacity:1; fill:none\" points=\"141.853,1110.47 160.751,1110.47 \"/>\n",
       "<polyline clip-path=\"url(#clip870)\" style=\"stroke:#000000; stroke-linecap:round; stroke-linejoin:round; stroke-width:4; stroke-opacity:1; fill:none\" points=\"141.853,775.227 160.751,775.227 \"/>\n",
       "<polyline clip-path=\"url(#clip870)\" style=\"stroke:#000000; stroke-linecap:round; stroke-linejoin:round; stroke-width:4; stroke-opacity:1; fill:none\" points=\"141.853,439.983 160.751,439.983 \"/>\n",
       "<polyline clip-path=\"url(#clip870)\" style=\"stroke:#000000; stroke-linecap:round; stroke-linejoin:round; stroke-width:4; stroke-opacity:1; fill:none\" points=\"141.853,104.738 160.751,104.738 \"/>\n",
       "<path clip-path=\"url(#clip870)\" d=\"M93.9086 1431.51 Q90.2975 1431.51 88.4688 1435.08 Q86.6632 1438.62 86.6632 1445.75 Q86.6632 1452.86 88.4688 1456.42 Q90.2975 1459.96 93.9086 1459.96 Q97.5428 1459.96 99.3483 1456.42 Q101.177 1452.86 101.177 1445.75 Q101.177 1438.62 99.3483 1435.08 Q97.5428 1431.51 93.9086 1431.51 M93.9086 1427.81 Q99.7187 1427.81 102.774 1432.42 Q105.853 1437 105.853 1445.75 Q105.853 1454.48 102.774 1459.08 Q99.7187 1463.67 93.9086 1463.67 Q88.0984 1463.67 85.0197 1459.08 Q81.9642 1454.48 81.9642 1445.75 Q81.9642 1437 85.0197 1432.42 Q88.0984 1427.81 93.9086 1427.81 Z\" fill=\"#000000\" fill-rule=\"evenodd\" fill-opacity=\"1\" /><path clip-path=\"url(#clip870)\" d=\"M57.7745 1123.82 L74.0939 1123.82 L74.0939 1127.75 L52.1495 1127.75 L52.1495 1123.82 Q54.8115 1121.06 59.3949 1116.43 Q64.0013 1111.78 65.1819 1110.44 Q67.4272 1107.91 68.3068 1106.18 Q69.2096 1104.42 69.2096 1102.73 Q69.2096 1099.97 67.2652 1098.24 Q65.3439 1096.5 62.2421 1096.5 Q60.043 1096.5 57.5893 1097.27 Q55.1588 1098.03 52.381 1099.58 L52.381 1094.86 Q55.2051 1093.72 57.6588 1093.15 Q60.1124 1092.57 62.1495 1092.57 Q67.5198 1092.57 70.7142 1095.25 Q73.9087 1097.94 73.9087 1102.43 Q73.9087 1104.56 73.0985 1106.48 Q72.3115 1108.38 70.205 1110.97 Q69.6263 1111.64 66.5245 1114.86 Q63.4226 1118.05 57.7745 1123.82 Z\" fill=\"#000000\" fill-rule=\"evenodd\" fill-opacity=\"1\" /><path clip-path=\"url(#clip870)\" d=\"M93.9086 1096.27 Q90.2975 1096.27 88.4688 1099.83 Q86.6632 1103.38 86.6632 1110.51 Q86.6632 1117.61 88.4688 1121.18 Q90.2975 1124.72 93.9086 1124.72 Q97.5428 1124.72 99.3483 1121.18 Q101.177 1117.61 101.177 1110.51 Q101.177 1103.38 99.3483 1099.83 Q97.5428 1096.27 93.9086 1096.27 M93.9086 1092.57 Q99.7187 1092.57 102.774 1097.17 Q105.853 1101.76 105.853 1110.51 Q105.853 1119.23 102.774 1123.84 Q99.7187 1128.42 93.9086 1128.42 Q88.0984 1128.42 85.0197 1123.84 Q81.9642 1119.23 81.9642 1110.51 Q81.9642 1101.76 85.0197 1097.17 Q88.0984 1092.57 93.9086 1092.57 Z\" fill=\"#000000\" fill-rule=\"evenodd\" fill-opacity=\"1\" /><path clip-path=\"url(#clip870)\" d=\"M66.5939 762.021 L54.7884 780.47 L66.5939 780.47 L66.5939 762.021 M65.367 757.947 L71.2466 757.947 L71.2466 780.47 L76.1772 780.47 L76.1772 784.359 L71.2466 784.359 L71.2466 792.507 L66.5939 792.507 L66.5939 784.359 L50.9921 784.359 L50.9921 779.845 L65.367 757.947 Z\" fill=\"#000000\" fill-rule=\"evenodd\" fill-opacity=\"1\" /><path clip-path=\"url(#clip870)\" d=\"M93.9086 761.026 Q90.2975 761.026 88.4688 764.591 Q86.6632 768.132 86.6632 775.262 Q86.6632 782.368 88.4688 785.933 Q90.2975 789.475 93.9086 789.475 Q97.5428 789.475 99.3483 785.933 Q101.177 782.368 101.177 775.262 Q101.177 768.132 99.3483 764.591 Q97.5428 761.026 93.9086 761.026 M93.9086 757.322 Q99.7187 757.322 102.774 761.929 Q105.853 766.512 105.853 775.262 Q105.853 783.989 102.774 788.595 Q99.7187 793.178 93.9086 793.178 Q88.0984 793.178 85.0197 788.595 Q81.9642 783.989 81.9642 775.262 Q81.9642 766.512 85.0197 761.929 Q88.0984 757.322 93.9086 757.322 Z\" fill=\"#000000\" fill-rule=\"evenodd\" fill-opacity=\"1\" /><path clip-path=\"url(#clip870)\" d=\"M64.3254 438.119 Q61.1773 438.119 59.3254 440.272 Q57.4967 442.425 57.4967 446.175 Q57.4967 449.902 59.3254 452.078 Q61.1773 454.23 64.3254 454.23 Q67.4735 454.23 69.3022 452.078 Q71.1541 449.902 71.1541 446.175 Q71.1541 442.425 69.3022 440.272 Q67.4735 438.119 64.3254 438.119 M73.6077 423.467 L73.6077 427.726 Q71.8485 426.893 70.0429 426.453 Q68.2606 426.013 66.5013 426.013 Q61.8717 426.013 59.418 429.138 Q56.9875 432.263 56.6402 438.582 Q58.006 436.568 60.0662 435.504 Q62.1263 434.416 64.6032 434.416 Q69.8115 434.416 72.8207 437.587 Q75.8531 440.735 75.8531 446.175 Q75.8531 451.499 72.705 454.717 Q69.5568 457.934 64.3254 457.934 Q58.33 457.934 55.1588 453.351 Q51.9875 448.744 51.9875 440.018 Q51.9875 431.823 55.8764 426.962 Q59.7652 422.078 66.3161 422.078 Q68.0754 422.078 69.8578 422.425 Q71.6633 422.772 73.6077 423.467 Z\" fill=\"#000000\" fill-rule=\"evenodd\" fill-opacity=\"1\" /><path clip-path=\"url(#clip870)\" d=\"M93.9086 425.781 Q90.2975 425.781 88.4688 429.346 Q86.6632 432.888 86.6632 440.018 Q86.6632 447.124 88.4688 450.689 Q90.2975 454.23 93.9086 454.23 Q97.5428 454.23 99.3483 450.689 Q101.177 447.124 101.177 440.018 Q101.177 432.888 99.3483 429.346 Q97.5428 425.781 93.9086 425.781 M93.9086 422.078 Q99.7187 422.078 102.774 426.684 Q105.853 431.268 105.853 440.018 Q105.853 448.744 102.774 453.351 Q99.7187 457.934 93.9086 457.934 Q88.0984 457.934 85.0197 453.351 Q81.9642 448.744 81.9642 440.018 Q81.9642 431.268 85.0197 426.684 Q88.0984 422.078 93.9086 422.078 Z\" fill=\"#000000\" fill-rule=\"evenodd\" fill-opacity=\"1\" /><path clip-path=\"url(#clip870)\" d=\"M63.7467 105.607 Q60.4134 105.607 58.4921 107.389 Q56.5939 109.171 56.5939 112.296 Q56.5939 115.421 58.4921 117.204 Q60.4134 118.986 63.7467 118.986 Q67.08 118.986 69.0013 117.204 Q70.9226 115.398 70.9226 112.296 Q70.9226 109.171 69.0013 107.389 Q67.1032 105.607 63.7467 105.607 M59.0708 103.616 Q56.0615 102.875 54.3717 100.815 Q52.7051 98.7547 52.7051 95.7918 Q52.7051 91.6483 55.6449 89.2409 Q58.6078 86.8335 63.7467 86.8335 Q68.9087 86.8335 71.8485 89.2409 Q74.7883 91.6483 74.7883 95.7918 Q74.7883 98.7547 73.0985 100.815 Q71.4318 102.875 68.4457 103.616 Q71.8253 104.403 73.7003 106.694 Q75.5985 108.986 75.5985 112.296 Q75.5985 117.319 72.5198 120.005 Q69.4642 122.69 63.7467 122.69 Q58.0291 122.69 54.9504 120.005 Q51.8949 117.319 51.8949 112.296 Q51.8949 108.986 53.793 106.694 Q55.6912 104.403 59.0708 103.616 M57.3578 96.2316 Q57.3578 98.9168 59.0245 100.421 Q60.7143 101.926 63.7467 101.926 Q66.7559 101.926 68.4457 100.421 Q70.1587 98.9168 70.1587 96.2316 Q70.1587 93.5464 68.4457 92.0418 Q66.7559 90.5372 63.7467 90.5372 Q60.7143 90.5372 59.0245 92.0418 Q57.3578 93.5464 57.3578 96.2316 Z\" fill=\"#000000\" fill-rule=\"evenodd\" fill-opacity=\"1\" /><path clip-path=\"url(#clip870)\" d=\"M93.9086 90.5372 Q90.2975 90.5372 88.4688 94.102 Q86.6632 97.6436 86.6632 104.773 Q86.6632 111.88 88.4688 115.444 Q90.2975 118.986 93.9086 118.986 Q97.5428 118.986 99.3483 115.444 Q101.177 111.88 101.177 104.773 Q101.177 97.6436 99.3483 94.102 Q97.5428 90.5372 93.9086 90.5372 M93.9086 86.8335 Q99.7187 86.8335 102.774 91.44 Q105.853 96.0233 105.853 104.773 Q105.853 113.5 102.774 118.106 Q99.7187 122.69 93.9086 122.69 Q88.0984 122.69 85.0197 118.106 Q81.9642 113.5 81.9642 104.773 Q81.9642 96.0233 85.0197 91.44 Q88.0984 86.8335 93.9086 86.8335 Z\" fill=\"#000000\" fill-rule=\"evenodd\" fill-opacity=\"1\" /><path clip-path=\"url(#clip872)\" d=\"M263.457 1412.19 L263.457 1445.72 L318.115 1445.72 L318.115 1412.19 L263.457 1412.19 L263.457 1412.19  Z\" fill=\"#009af9\" fill-rule=\"evenodd\" fill-opacity=\"1\"/>\n",
       "<polyline clip-path=\"url(#clip872)\" style=\"stroke:#000000; stroke-linecap:round; stroke-linejoin:round; stroke-width:4; stroke-opacity:1; fill:none\" points=\"263.457,1412.19 263.457,1445.72 318.115,1445.72 318.115,1412.19 263.457,1412.19 \"/>\n",
       "<path clip-path=\"url(#clip872)\" d=\"M318.115 1428.95 L318.115 1445.72 L372.773 1445.72 L372.773 1428.95 L318.115 1428.95 L318.115 1428.95  Z\" fill=\"#009af9\" fill-rule=\"evenodd\" fill-opacity=\"1\"/>\n",
       "<polyline clip-path=\"url(#clip872)\" style=\"stroke:#000000; stroke-linecap:round; stroke-linejoin:round; stroke-width:4; stroke-opacity:1; fill:none\" points=\"318.115,1428.95 318.115,1445.72 372.773,1445.72 372.773,1428.95 318.115,1428.95 \"/>\n",
       "<path clip-path=\"url(#clip872)\" d=\"M372.773 1445.72 L372.773 1445.72 L427.431 1445.72 L427.431 1445.72 L372.773 1445.72 L372.773 1445.72  Z\" fill=\"#009af9\" fill-rule=\"evenodd\" fill-opacity=\"1\"/>\n",
       "<polyline clip-path=\"url(#clip872)\" style=\"stroke:#000000; stroke-linecap:round; stroke-linejoin:round; stroke-width:4; stroke-opacity:1; fill:none\" points=\"372.773,1445.72 372.773,1445.72 427.431,1445.72 372.773,1445.72 \"/>\n",
       "<path clip-path=\"url(#clip872)\" d=\"M427.431 1378.67 L427.431 1445.72 L482.089 1445.72 L482.089 1378.67 L427.431 1378.67 L427.431 1378.67  Z\" fill=\"#009af9\" fill-rule=\"evenodd\" fill-opacity=\"1\"/>\n",
       "<polyline clip-path=\"url(#clip872)\" style=\"stroke:#000000; stroke-linecap:round; stroke-linejoin:round; stroke-width:4; stroke-opacity:1; fill:none\" points=\"427.431,1378.67 427.431,1445.72 482.089,1445.72 482.089,1378.67 427.431,1378.67 \"/>\n",
       "<path clip-path=\"url(#clip872)\" d=\"M482.089 1328.38 L482.089 1445.72 L536.748 1445.72 L536.748 1328.38 L482.089 1328.38 L482.089 1328.38  Z\" fill=\"#009af9\" fill-rule=\"evenodd\" fill-opacity=\"1\"/>\n",
       "<polyline clip-path=\"url(#clip872)\" style=\"stroke:#000000; stroke-linecap:round; stroke-linejoin:round; stroke-width:4; stroke-opacity:1; fill:none\" points=\"482.089,1328.38 482.089,1445.72 536.748,1445.72 536.748,1328.38 482.089,1328.38 \"/>\n",
       "<path clip-path=\"url(#clip872)\" d=\"M536.748 1311.62 L536.748 1445.72 L591.406 1445.72 L591.406 1311.62 L536.748 1311.62 L536.748 1311.62  Z\" fill=\"#009af9\" fill-rule=\"evenodd\" fill-opacity=\"1\"/>\n",
       "<polyline clip-path=\"url(#clip872)\" style=\"stroke:#000000; stroke-linecap:round; stroke-linejoin:round; stroke-width:4; stroke-opacity:1; fill:none\" points=\"536.748,1311.62 536.748,1445.72 591.406,1445.72 591.406,1311.62 536.748,1311.62 \"/>\n",
       "<path clip-path=\"url(#clip872)\" d=\"M591.406 1194.28 L591.406 1445.72 L646.064 1445.72 L646.064 1194.28 L591.406 1194.28 L591.406 1194.28  Z\" fill=\"#009af9\" fill-rule=\"evenodd\" fill-opacity=\"1\"/>\n",
       "<polyline clip-path=\"url(#clip872)\" style=\"stroke:#000000; stroke-linecap:round; stroke-linejoin:round; stroke-width:4; stroke-opacity:1; fill:none\" points=\"591.406,1194.28 591.406,1445.72 646.064,1445.72 646.064,1194.28 591.406,1194.28 \"/>\n",
       "<path clip-path=\"url(#clip872)\" d=\"M646.064 1060.18 L646.064 1445.72 L700.722 1445.72 L700.722 1060.18 L646.064 1060.18 L646.064 1060.18  Z\" fill=\"#009af9\" fill-rule=\"evenodd\" fill-opacity=\"1\"/>\n",
       "<polyline clip-path=\"url(#clip872)\" style=\"stroke:#000000; stroke-linecap:round; stroke-linejoin:round; stroke-width:4; stroke-opacity:1; fill:none\" points=\"646.064,1060.18 646.064,1445.72 700.722,1445.72 700.722,1060.18 646.064,1060.18 \"/>\n",
       "<path clip-path=\"url(#clip872)\" d=\"M700.722 926.087 L700.722 1445.72 L755.38 1445.72 L755.38 926.087 L700.722 926.087 L700.722 926.087  Z\" fill=\"#009af9\" fill-rule=\"evenodd\" fill-opacity=\"1\"/>\n",
       "<polyline clip-path=\"url(#clip872)\" style=\"stroke:#000000; stroke-linecap:round; stroke-linejoin:round; stroke-width:4; stroke-opacity:1; fill:none\" points=\"700.722,926.087 700.722,1445.72 755.38,1445.72 755.38,926.087 700.722,926.087 \"/>\n",
       "<path clip-path=\"url(#clip872)\" d=\"M755.38 775.227 L755.38 1445.72 L810.039 1445.72 L810.039 775.227 L755.38 775.227 L755.38 775.227  Z\" fill=\"#009af9\" fill-rule=\"evenodd\" fill-opacity=\"1\"/>\n",
       "<polyline clip-path=\"url(#clip872)\" style=\"stroke:#000000; stroke-linecap:round; stroke-linejoin:round; stroke-width:4; stroke-opacity:1; fill:none\" points=\"755.38,775.227 755.38,1445.72 810.039,1445.72 810.039,775.227 755.38,775.227 \"/>\n",
       "<path clip-path=\"url(#clip872)\" d=\"M810.039 507.032 L810.039 1445.72 L864.697 1445.72 L864.697 507.032 L810.039 507.032 L810.039 507.032  Z\" fill=\"#009af9\" fill-rule=\"evenodd\" fill-opacity=\"1\"/>\n",
       "<polyline clip-path=\"url(#clip872)\" style=\"stroke:#000000; stroke-linecap:round; stroke-linejoin:round; stroke-width:4; stroke-opacity:1; fill:none\" points=\"810.039,507.032 810.039,1445.72 864.697,1445.72 864.697,507.032 810.039,507.032 \"/>\n",
       "<path clip-path=\"url(#clip872)\" d=\"M864.697 507.032 L864.697 1445.72 L919.355 1445.72 L919.355 507.032 L864.697 507.032 L864.697 507.032  Z\" fill=\"#009af9\" fill-rule=\"evenodd\" fill-opacity=\"1\"/>\n",
       "<polyline clip-path=\"url(#clip872)\" style=\"stroke:#000000; stroke-linecap:round; stroke-linejoin:round; stroke-width:4; stroke-opacity:1; fill:none\" points=\"864.697,507.032 864.697,1445.72 919.355,1445.72 919.355,507.032 864.697,507.032 \"/>\n",
       "<path clip-path=\"url(#clip872)\" d=\"M919.355 490.269 L919.355 1445.72 L974.013 1445.72 L974.013 490.269 L919.355 490.269 L919.355 490.269  Z\" fill=\"#009af9\" fill-rule=\"evenodd\" fill-opacity=\"1\"/>\n",
       "<polyline clip-path=\"url(#clip872)\" style=\"stroke:#000000; stroke-linecap:round; stroke-linejoin:round; stroke-width:4; stroke-opacity:1; fill:none\" points=\"919.355,490.269 919.355,1445.72 974.013,1445.72 974.013,490.269 919.355,490.269 \"/>\n",
       "<path clip-path=\"url(#clip872)\" d=\"M974.013 272.361 L974.013 1445.72 L1028.67 1445.72 L1028.67 272.361 L974.013 272.361 L974.013 272.361  Z\" fill=\"#009af9\" fill-rule=\"evenodd\" fill-opacity=\"1\"/>\n",
       "<polyline clip-path=\"url(#clip872)\" style=\"stroke:#000000; stroke-linecap:round; stroke-linejoin:round; stroke-width:4; stroke-opacity:1; fill:none\" points=\"974.013,272.361 974.013,1445.72 1028.67,1445.72 1028.67,272.361 974.013,272.361 \"/>\n",
       "<path clip-path=\"url(#clip872)\" d=\"M1028.67 188.55 L1028.67 1445.72 L1083.33 1445.72 L1083.33 188.55 L1028.67 188.55 L1028.67 188.55  Z\" fill=\"#009af9\" fill-rule=\"evenodd\" fill-opacity=\"1\"/>\n",
       "<polyline clip-path=\"url(#clip872)\" style=\"stroke:#000000; stroke-linecap:round; stroke-linejoin:round; stroke-width:4; stroke-opacity:1; fill:none\" points=\"1028.67,188.55 1028.67,1445.72 1083.33,1445.72 1083.33,188.55 1028.67,188.55 \"/>\n",
       "<path clip-path=\"url(#clip872)\" d=\"M1083.33 222.074 L1083.33 1445.72 L1137.99 1445.72 L1137.99 222.074 L1083.33 222.074 L1083.33 222.074  Z\" fill=\"#009af9\" fill-rule=\"evenodd\" fill-opacity=\"1\"/>\n",
       "<polyline clip-path=\"url(#clip872)\" style=\"stroke:#000000; stroke-linecap:round; stroke-linejoin:round; stroke-width:4; stroke-opacity:1; fill:none\" points=\"1083.33,222.074 1083.33,1445.72 1137.99,1445.72 1137.99,222.074 1083.33,222.074 \"/>\n",
       "<path clip-path=\"url(#clip872)\" d=\"M1137.99 87.9763 L1137.99 1445.72 L1192.65 1445.72 L1192.65 87.9763 L1137.99 87.9763 L1137.99 87.9763  Z\" fill=\"#009af9\" fill-rule=\"evenodd\" fill-opacity=\"1\"/>\n",
       "<polyline clip-path=\"url(#clip872)\" style=\"stroke:#000000; stroke-linecap:round; stroke-linejoin:round; stroke-width:4; stroke-opacity:1; fill:none\" points=\"1137.99,87.9763 1137.99,1445.72 1192.65,1445.72 1192.65,87.9763 1137.99,87.9763 \"/>\n",
       "<path clip-path=\"url(#clip872)\" d=\"M1192.65 389.696 L1192.65 1445.72 L1247.3 1445.72 L1247.3 389.696 L1192.65 389.696 L1192.65 389.696  Z\" fill=\"#009af9\" fill-rule=\"evenodd\" fill-opacity=\"1\"/>\n",
       "<polyline clip-path=\"url(#clip872)\" style=\"stroke:#000000; stroke-linecap:round; stroke-linejoin:round; stroke-width:4; stroke-opacity:1; fill:none\" points=\"1192.65,389.696 1192.65,1445.72 1247.3,1445.72 1247.3,389.696 1192.65,389.696 \"/>\n",
       "<path clip-path=\"url(#clip872)\" d=\"M1247.3 339.41 L1247.3 1445.72 L1301.96 1445.72 L1301.96 339.41 L1247.3 339.41 L1247.3 339.41  Z\" fill=\"#009af9\" fill-rule=\"evenodd\" fill-opacity=\"1\"/>\n",
       "<polyline clip-path=\"url(#clip872)\" style=\"stroke:#000000; stroke-linecap:round; stroke-linejoin:round; stroke-width:4; stroke-opacity:1; fill:none\" points=\"1247.3,339.41 1247.3,1445.72 1301.96,1445.72 1301.96,339.41 1247.3,339.41 \"/>\n",
       "<path clip-path=\"url(#clip872)\" d=\"M1301.96 423.221 L1301.96 1445.72 L1356.62 1445.72 L1356.62 423.221 L1301.96 423.221 L1301.96 423.221  Z\" fill=\"#009af9\" fill-rule=\"evenodd\" fill-opacity=\"1\"/>\n",
       "<polyline clip-path=\"url(#clip872)\" style=\"stroke:#000000; stroke-linecap:round; stroke-linejoin:round; stroke-width:4; stroke-opacity:1; fill:none\" points=\"1301.96,423.221 1301.96,1445.72 1356.62,1445.72 1356.62,423.221 1301.96,423.221 \"/>\n",
       "<path clip-path=\"url(#clip872)\" d=\"M1356.62 674.654 L1356.62 1445.72 L1411.28 1445.72 L1411.28 674.654 L1356.62 674.654 L1356.62 674.654  Z\" fill=\"#009af9\" fill-rule=\"evenodd\" fill-opacity=\"1\"/>\n",
       "<polyline clip-path=\"url(#clip872)\" style=\"stroke:#000000; stroke-linecap:round; stroke-linejoin:round; stroke-width:4; stroke-opacity:1; fill:none\" points=\"1356.62,674.654 1356.62,1445.72 1411.28,1445.72 1411.28,674.654 1356.62,674.654 \"/>\n",
       "<path clip-path=\"url(#clip872)\" d=\"M1411.28 624.367 L1411.28 1445.72 L1465.94 1445.72 L1465.94 624.367 L1411.28 624.367 L1411.28 624.367  Z\" fill=\"#009af9\" fill-rule=\"evenodd\" fill-opacity=\"1\"/>\n",
       "<polyline clip-path=\"url(#clip872)\" style=\"stroke:#000000; stroke-linecap:round; stroke-linejoin:round; stroke-width:4; stroke-opacity:1; fill:none\" points=\"1411.28,624.367 1411.28,1445.72 1465.94,1445.72 1465.94,624.367 1411.28,624.367 \"/>\n",
       "<path clip-path=\"url(#clip872)\" d=\"M1465.94 859.038 L1465.94 1445.72 L1520.6 1445.72 L1520.6 859.038 L1465.94 859.038 L1465.94 859.038  Z\" fill=\"#009af9\" fill-rule=\"evenodd\" fill-opacity=\"1\"/>\n",
       "<polyline clip-path=\"url(#clip872)\" style=\"stroke:#000000; stroke-linecap:round; stroke-linejoin:round; stroke-width:4; stroke-opacity:1; fill:none\" points=\"1465.94,859.038 1465.94,1445.72 1520.6,1445.72 1520.6,859.038 1465.94,859.038 \"/>\n",
       "<path clip-path=\"url(#clip872)\" d=\"M1520.6 993.136 L1520.6 1445.72 L1575.25 1445.72 L1575.25 993.136 L1520.6 993.136 L1520.6 993.136  Z\" fill=\"#009af9\" fill-rule=\"evenodd\" fill-opacity=\"1\"/>\n",
       "<polyline clip-path=\"url(#clip872)\" style=\"stroke:#000000; stroke-linecap:round; stroke-linejoin:round; stroke-width:4; stroke-opacity:1; fill:none\" points=\"1520.6,993.136 1520.6,1445.72 1575.25,1445.72 1575.25,993.136 1520.6,993.136 \"/>\n",
       "<path clip-path=\"url(#clip872)\" d=\"M1575.25 1160.76 L1575.25 1445.72 L1629.91 1445.72 L1629.91 1160.76 L1575.25 1160.76 L1575.25 1160.76  Z\" fill=\"#009af9\" fill-rule=\"evenodd\" fill-opacity=\"1\"/>\n",
       "<polyline clip-path=\"url(#clip872)\" style=\"stroke:#000000; stroke-linecap:round; stroke-linejoin:round; stroke-width:4; stroke-opacity:1; fill:none\" points=\"1575.25,1160.76 1575.25,1445.72 1629.91,1445.72 1629.91,1160.76 1575.25,1160.76 \"/>\n",
       "<path clip-path=\"url(#clip872)\" d=\"M1629.91 1227.81 L1629.91 1445.72 L1684.57 1445.72 L1684.57 1227.81 L1629.91 1227.81 L1629.91 1227.81  Z\" fill=\"#009af9\" fill-rule=\"evenodd\" fill-opacity=\"1\"/>\n",
       "<polyline clip-path=\"url(#clip872)\" style=\"stroke:#000000; stroke-linecap:round; stroke-linejoin:round; stroke-width:4; stroke-opacity:1; fill:none\" points=\"1629.91,1227.81 1629.91,1445.72 1684.57,1445.72 1684.57,1227.81 1629.91,1227.81 \"/>\n",
       "<path clip-path=\"url(#clip872)\" d=\"M1684.57 1311.62 L1684.57 1445.72 L1739.23 1445.72 L1739.23 1311.62 L1684.57 1311.62 L1684.57 1311.62  Z\" fill=\"#009af9\" fill-rule=\"evenodd\" fill-opacity=\"1\"/>\n",
       "<polyline clip-path=\"url(#clip872)\" style=\"stroke:#000000; stroke-linecap:round; stroke-linejoin:round; stroke-width:4; stroke-opacity:1; fill:none\" points=\"1684.57,1311.62 1684.57,1445.72 1739.23,1445.72 1739.23,1311.62 1684.57,1311.62 \"/>\n",
       "<path clip-path=\"url(#clip872)\" d=\"M1739.23 1378.67 L1739.23 1445.72 L1793.89 1445.72 L1793.89 1378.67 L1739.23 1378.67 L1739.23 1378.67  Z\" fill=\"#009af9\" fill-rule=\"evenodd\" fill-opacity=\"1\"/>\n",
       "<polyline clip-path=\"url(#clip872)\" style=\"stroke:#000000; stroke-linecap:round; stroke-linejoin:round; stroke-width:4; stroke-opacity:1; fill:none\" points=\"1739.23,1378.67 1739.23,1445.72 1793.89,1445.72 1793.89,1378.67 1739.23,1378.67 \"/>\n",
       "<path clip-path=\"url(#clip872)\" d=\"M1793.89 1395.43 L1793.89 1445.72 L1848.54 1445.72 L1848.54 1395.43 L1793.89 1395.43 L1793.89 1395.43  Z\" fill=\"#009af9\" fill-rule=\"evenodd\" fill-opacity=\"1\"/>\n",
       "<polyline clip-path=\"url(#clip872)\" style=\"stroke:#000000; stroke-linecap:round; stroke-linejoin:round; stroke-width:4; stroke-opacity:1; fill:none\" points=\"1793.89,1395.43 1793.89,1445.72 1848.54,1445.72 1848.54,1395.43 1793.89,1395.43 \"/>\n",
       "<path clip-path=\"url(#clip872)\" d=\"M1848.54 1412.19 L1848.54 1445.72 L1903.2 1445.72 L1903.2 1412.19 L1848.54 1412.19 L1848.54 1412.19  Z\" fill=\"#009af9\" fill-rule=\"evenodd\" fill-opacity=\"1\"/>\n",
       "<polyline clip-path=\"url(#clip872)\" style=\"stroke:#000000; stroke-linecap:round; stroke-linejoin:round; stroke-width:4; stroke-opacity:1; fill:none\" points=\"1848.54,1412.19 1848.54,1445.72 1903.2,1445.72 1903.2,1412.19 1848.54,1412.19 \"/>\n",
       "<path clip-path=\"url(#clip872)\" d=\"M1903.2 1412.19 L1903.2 1445.72 L1957.86 1445.72 L1957.86 1412.19 L1903.2 1412.19 L1903.2 1412.19  Z\" fill=\"#009af9\" fill-rule=\"evenodd\" fill-opacity=\"1\"/>\n",
       "<polyline clip-path=\"url(#clip872)\" style=\"stroke:#000000; stroke-linecap:round; stroke-linejoin:round; stroke-width:4; stroke-opacity:1; fill:none\" points=\"1903.2,1412.19 1903.2,1445.72 1957.86,1445.72 1957.86,1412.19 1903.2,1412.19 \"/>\n",
       "<path clip-path=\"url(#clip872)\" d=\"M1957.86 1378.67 L1957.86 1445.72 L2012.52 1445.72 L2012.52 1378.67 L1957.86 1378.67 L1957.86 1378.67  Z\" fill=\"#009af9\" fill-rule=\"evenodd\" fill-opacity=\"1\"/>\n",
       "<polyline clip-path=\"url(#clip872)\" style=\"stroke:#000000; stroke-linecap:round; stroke-linejoin:round; stroke-width:4; stroke-opacity:1; fill:none\" points=\"1957.86,1378.67 1957.86,1445.72 2012.52,1445.72 2012.52,1378.67 1957.86,1378.67 \"/>\n",
       "<path clip-path=\"url(#clip872)\" d=\"M2012.52 1445.72 L2012.52 1445.72 L2067.18 1445.72 L2067.18 1445.72 L2012.52 1445.72 L2012.52 1445.72  Z\" fill=\"#009af9\" fill-rule=\"evenodd\" fill-opacity=\"1\"/>\n",
       "<polyline clip-path=\"url(#clip872)\" style=\"stroke:#000000; stroke-linecap:round; stroke-linejoin:round; stroke-width:4; stroke-opacity:1; fill:none\" points=\"2012.52,1445.72 2012.52,1445.72 2067.18,1445.72 2012.52,1445.72 \"/>\n",
       "<path clip-path=\"url(#clip872)\" d=\"M2067.18 1445.72 L2067.18 1445.72 L2121.84 1445.72 L2121.84 1445.72 L2067.18 1445.72 L2067.18 1445.72  Z\" fill=\"#009af9\" fill-rule=\"evenodd\" fill-opacity=\"1\"/>\n",
       "<polyline clip-path=\"url(#clip872)\" style=\"stroke:#000000; stroke-linecap:round; stroke-linejoin:round; stroke-width:4; stroke-opacity:1; fill:none\" points=\"2067.18,1445.72 2067.18,1445.72 2121.84,1445.72 2067.18,1445.72 \"/>\n",
       "<path clip-path=\"url(#clip872)\" d=\"M2121.84 1445.72 L2121.84 1445.72 L2176.49 1445.72 L2176.49 1445.72 L2121.84 1445.72 L2121.84 1445.72  Z\" fill=\"#009af9\" fill-rule=\"evenodd\" fill-opacity=\"1\"/>\n",
       "<polyline clip-path=\"url(#clip872)\" style=\"stroke:#000000; stroke-linecap:round; stroke-linejoin:round; stroke-width:4; stroke-opacity:1; fill:none\" points=\"2121.84,1445.72 2121.84,1445.72 2176.49,1445.72 2121.84,1445.72 \"/>\n",
       "<path clip-path=\"url(#clip872)\" d=\"M2176.49 1428.95 L2176.49 1445.72 L2231.15 1445.72 L2231.15 1428.95 L2176.49 1428.95 L2176.49 1428.95  Z\" fill=\"#009af9\" fill-rule=\"evenodd\" fill-opacity=\"1\"/>\n",
       "<polyline clip-path=\"url(#clip872)\" style=\"stroke:#000000; stroke-linecap:round; stroke-linejoin:round; stroke-width:4; stroke-opacity:1; fill:none\" points=\"2176.49,1428.95 2176.49,1445.72 2231.15,1445.72 2231.15,1428.95 2176.49,1428.95 \"/>\n",
       "<circle clip-path=\"url(#clip872)\" style=\"fill:#009af9; stroke:none; fill-opacity:0\" cx=\"290.786\" cy=\"1412.19\" r=\"2\"/>\n",
       "<circle clip-path=\"url(#clip872)\" style=\"fill:#009af9; stroke:none; fill-opacity:0\" cx=\"345.444\" cy=\"1428.95\" r=\"2\"/>\n",
       "<circle clip-path=\"url(#clip872)\" style=\"fill:#009af9; stroke:none; fill-opacity:0\" cx=\"400.102\" cy=\"1445.72\" r=\"2\"/>\n",
       "<circle clip-path=\"url(#clip872)\" style=\"fill:#009af9; stroke:none; fill-opacity:0\" cx=\"454.76\" cy=\"1378.67\" r=\"2\"/>\n",
       "<circle clip-path=\"url(#clip872)\" style=\"fill:#009af9; stroke:none; fill-opacity:0\" cx=\"509.419\" cy=\"1328.38\" r=\"2\"/>\n",
       "<circle clip-path=\"url(#clip872)\" style=\"fill:#009af9; stroke:none; fill-opacity:0\" cx=\"564.077\" cy=\"1311.62\" r=\"2\"/>\n",
       "<circle clip-path=\"url(#clip872)\" style=\"fill:#009af9; stroke:none; fill-opacity:0\" cx=\"618.735\" cy=\"1194.28\" r=\"2\"/>\n",
       "<circle clip-path=\"url(#clip872)\" style=\"fill:#009af9; stroke:none; fill-opacity:0\" cx=\"673.393\" cy=\"1060.18\" r=\"2\"/>\n",
       "<circle clip-path=\"url(#clip872)\" style=\"fill:#009af9; stroke:none; fill-opacity:0\" cx=\"728.051\" cy=\"926.087\" r=\"2\"/>\n",
       "<circle clip-path=\"url(#clip872)\" style=\"fill:#009af9; stroke:none; fill-opacity:0\" cx=\"782.71\" cy=\"775.227\" r=\"2\"/>\n",
       "<circle clip-path=\"url(#clip872)\" style=\"fill:#009af9; stroke:none; fill-opacity:0\" cx=\"837.368\" cy=\"507.032\" r=\"2\"/>\n",
       "<circle clip-path=\"url(#clip872)\" style=\"fill:#009af9; stroke:none; fill-opacity:0\" cx=\"892.026\" cy=\"507.032\" r=\"2\"/>\n",
       "<circle clip-path=\"url(#clip872)\" style=\"fill:#009af9; stroke:none; fill-opacity:0\" cx=\"946.684\" cy=\"490.269\" r=\"2\"/>\n",
       "<circle clip-path=\"url(#clip872)\" style=\"fill:#009af9; stroke:none; fill-opacity:0\" cx=\"1001.34\" cy=\"272.361\" r=\"2\"/>\n",
       "<circle clip-path=\"url(#clip872)\" style=\"fill:#009af9; stroke:none; fill-opacity:0\" cx=\"1056\" cy=\"188.55\" r=\"2\"/>\n",
       "<circle clip-path=\"url(#clip872)\" style=\"fill:#009af9; stroke:none; fill-opacity:0\" cx=\"1110.66\" cy=\"222.074\" r=\"2\"/>\n",
       "<circle clip-path=\"url(#clip872)\" style=\"fill:#009af9; stroke:none; fill-opacity:0\" cx=\"1165.32\" cy=\"87.9763\" r=\"2\"/>\n",
       "<circle clip-path=\"url(#clip872)\" style=\"fill:#009af9; stroke:none; fill-opacity:0\" cx=\"1219.98\" cy=\"389.696\" r=\"2\"/>\n",
       "<circle clip-path=\"url(#clip872)\" style=\"fill:#009af9; stroke:none; fill-opacity:0\" cx=\"1274.63\" cy=\"339.41\" r=\"2\"/>\n",
       "<circle clip-path=\"url(#clip872)\" style=\"fill:#009af9; stroke:none; fill-opacity:0\" cx=\"1329.29\" cy=\"423.221\" r=\"2\"/>\n",
       "<circle clip-path=\"url(#clip872)\" style=\"fill:#009af9; stroke:none; fill-opacity:0\" cx=\"1383.95\" cy=\"674.654\" r=\"2\"/>\n",
       "<circle clip-path=\"url(#clip872)\" style=\"fill:#009af9; stroke:none; fill-opacity:0\" cx=\"1438.61\" cy=\"624.367\" r=\"2\"/>\n",
       "<circle clip-path=\"url(#clip872)\" style=\"fill:#009af9; stroke:none; fill-opacity:0\" cx=\"1493.27\" cy=\"859.038\" r=\"2\"/>\n",
       "<circle clip-path=\"url(#clip872)\" style=\"fill:#009af9; stroke:none; fill-opacity:0\" cx=\"1547.92\" cy=\"993.136\" r=\"2\"/>\n",
       "<circle clip-path=\"url(#clip872)\" style=\"fill:#009af9; stroke:none; fill-opacity:0\" cx=\"1602.58\" cy=\"1160.76\" r=\"2\"/>\n",
       "<circle clip-path=\"url(#clip872)\" style=\"fill:#009af9; stroke:none; fill-opacity:0\" cx=\"1657.24\" cy=\"1227.81\" r=\"2\"/>\n",
       "<circle clip-path=\"url(#clip872)\" style=\"fill:#009af9; stroke:none; fill-opacity:0\" cx=\"1711.9\" cy=\"1311.62\" r=\"2\"/>\n",
       "<circle clip-path=\"url(#clip872)\" style=\"fill:#009af9; stroke:none; fill-opacity:0\" cx=\"1766.56\" cy=\"1378.67\" r=\"2\"/>\n",
       "<circle clip-path=\"url(#clip872)\" style=\"fill:#009af9; stroke:none; fill-opacity:0\" cx=\"1821.22\" cy=\"1395.43\" r=\"2\"/>\n",
       "<circle clip-path=\"url(#clip872)\" style=\"fill:#009af9; stroke:none; fill-opacity:0\" cx=\"1875.87\" cy=\"1412.19\" r=\"2\"/>\n",
       "<circle clip-path=\"url(#clip872)\" style=\"fill:#009af9; stroke:none; fill-opacity:0\" cx=\"1930.53\" cy=\"1412.19\" r=\"2\"/>\n",
       "<circle clip-path=\"url(#clip872)\" style=\"fill:#009af9; stroke:none; fill-opacity:0\" cx=\"1985.19\" cy=\"1378.67\" r=\"2\"/>\n",
       "<circle clip-path=\"url(#clip872)\" style=\"fill:#009af9; stroke:none; fill-opacity:0\" cx=\"2039.85\" cy=\"1445.72\" r=\"2\"/>\n",
       "<circle clip-path=\"url(#clip872)\" style=\"fill:#009af9; stroke:none; fill-opacity:0\" cx=\"2094.51\" cy=\"1445.72\" r=\"2\"/>\n",
       "<circle clip-path=\"url(#clip872)\" style=\"fill:#009af9; stroke:none; fill-opacity:0\" cx=\"2149.16\" cy=\"1445.72\" r=\"2\"/>\n",
       "<circle clip-path=\"url(#clip872)\" style=\"fill:#009af9; stroke:none; fill-opacity:0\" cx=\"2203.82\" cy=\"1428.95\" r=\"2\"/>\n",
       "<path clip-path=\"url(#clip870)\" d=\"M1838.69 198.898 L2279.06 198.898 L2279.06 95.2176 L1838.69 95.2176  Z\" fill=\"#ffffff\" fill-rule=\"evenodd\" fill-opacity=\"1\"/>\n",
       "<polyline clip-path=\"url(#clip870)\" style=\"stroke:#000000; stroke-linecap:round; stroke-linejoin:round; stroke-width:4; stroke-opacity:1; fill:none\" points=\"1838.69,198.898 2279.06,198.898 2279.06,95.2176 1838.69,95.2176 1838.69,198.898 \"/>\n",
       "<path clip-path=\"url(#clip870)\" d=\"M1863.25 167.794 L2010.65 167.794 L2010.65 126.322 L1863.25 126.322 L1863.25 167.794  Z\" fill=\"#009af9\" fill-rule=\"evenodd\" fill-opacity=\"1\"/>\n",
       "<polyline clip-path=\"url(#clip870)\" style=\"stroke:#000000; stroke-linecap:round; stroke-linejoin:round; stroke-width:4; stroke-opacity:1; fill:none\" points=\"1863.25,167.794 2010.65,167.794 2010.65,126.322 1863.25,126.322 1863.25,167.794 \"/>\n",
       "<path clip-path=\"url(#clip870)\" d=\"M2053.64 139.176 L2053.64 143.203 Q2051.83 142.277 2049.89 141.815 Q2047.94 141.352 2045.86 141.352 Q2042.69 141.352 2041.09 142.324 Q2039.52 143.296 2039.52 145.24 Q2039.52 146.722 2040.65 147.578 Q2041.79 148.412 2045.21 149.176 L2046.67 149.5 Q2051.21 150.472 2053.11 152.254 Q2055.03 154.014 2055.03 157.185 Q2055.03 160.796 2052.16 162.902 Q2049.31 165.009 2044.31 165.009 Q2042.23 165.009 2039.96 164.592 Q2037.71 164.199 2035.21 163.388 L2035.21 158.99 Q2037.57 160.217 2039.87 160.842 Q2042.16 161.444 2044.4 161.444 Q2047.41 161.444 2049.03 160.426 Q2050.65 159.384 2050.65 157.509 Q2050.65 155.773 2049.47 154.847 Q2048.31 153.921 2044.36 153.064 L2042.87 152.717 Q2038.92 151.884 2037.16 150.171 Q2035.4 148.435 2035.4 145.426 Q2035.4 141.768 2037.99 139.778 Q2040.58 137.787 2045.35 137.787 Q2047.71 137.787 2049.8 138.134 Q2051.88 138.481 2053.64 139.176 Z\" fill=\"#000000\" fill-rule=\"evenodd\" fill-opacity=\"1\" /><path clip-path=\"url(#clip870)\" d=\"M2073.59 151.305 Q2068.43 151.305 2066.44 152.486 Q2064.45 153.666 2064.45 156.514 Q2064.45 158.782 2065.93 160.125 Q2067.43 161.444 2070 161.444 Q2073.55 161.444 2075.68 158.944 Q2077.83 156.421 2077.83 152.254 L2077.83 151.305 L2073.59 151.305 M2082.09 149.546 L2082.09 164.338 L2077.83 164.338 L2077.83 160.402 Q2076.37 162.763 2074.19 163.898 Q2072.02 165.009 2068.87 165.009 Q2064.89 165.009 2062.53 162.787 Q2060.19 160.541 2060.19 156.791 Q2060.19 152.416 2063.11 150.194 Q2066.05 147.972 2071.86 147.972 L2077.83 147.972 L2077.83 147.555 Q2077.83 144.615 2075.88 143.018 Q2073.96 141.398 2070.47 141.398 Q2068.24 141.398 2066.14 141.93 Q2064.03 142.463 2062.09 143.527 L2062.09 139.592 Q2064.43 138.69 2066.62 138.25 Q2068.82 137.787 2070.91 137.787 Q2076.53 137.787 2079.31 140.703 Q2082.09 143.62 2082.09 149.546 Z\" fill=\"#000000\" fill-rule=\"evenodd\" fill-opacity=\"1\" /><path clip-path=\"url(#clip870)\" d=\"M2111.05 143.389 Q2112.64 140.518 2114.86 139.153 Q2117.09 137.787 2120.1 137.787 Q2124.15 137.787 2126.35 140.634 Q2128.55 143.458 2128.55 148.689 L2128.55 164.338 L2124.26 164.338 L2124.26 148.828 Q2124.26 145.102 2122.94 143.296 Q2121.62 141.49 2118.92 141.49 Q2115.61 141.49 2113.68 143.69 Q2111.76 145.889 2111.76 149.685 L2111.76 164.338 L2107.48 164.338 L2107.48 148.828 Q2107.48 145.078 2106.16 143.296 Q2104.84 141.49 2102.09 141.49 Q2098.82 141.49 2096.9 143.713 Q2094.98 145.912 2094.98 149.685 L2094.98 164.338 L2090.7 164.338 L2090.7 138.412 L2094.98 138.412 L2094.98 142.44 Q2096.44 140.055 2098.48 138.921 Q2100.51 137.787 2103.31 137.787 Q2106.14 137.787 2108.11 139.222 Q2110.1 140.657 2111.05 143.389 Z\" fill=\"#000000\" fill-rule=\"evenodd\" fill-opacity=\"1\" /><path clip-path=\"url(#clip870)\" d=\"M2141.16 160.449 L2141.16 174.199 L2136.88 174.199 L2136.88 138.412 L2141.16 138.412 L2141.16 142.347 Q2142.5 140.032 2144.54 138.921 Q2146.6 137.787 2149.45 137.787 Q2154.17 137.787 2157.11 141.537 Q2160.07 145.287 2160.07 151.398 Q2160.07 157.509 2157.11 161.259 Q2154.17 165.009 2149.45 165.009 Q2146.6 165.009 2144.54 163.898 Q2142.5 162.763 2141.16 160.449 M2155.65 151.398 Q2155.65 146.699 2153.71 144.037 Q2151.79 141.352 2148.41 141.352 Q2145.03 141.352 2143.08 144.037 Q2141.16 146.699 2141.16 151.398 Q2141.16 156.097 2143.08 158.782 Q2145.03 161.444 2148.41 161.444 Q2151.79 161.444 2153.71 158.782 Q2155.65 156.097 2155.65 151.398 Z\" fill=\"#000000\" fill-rule=\"evenodd\" fill-opacity=\"1\" /><path clip-path=\"url(#clip870)\" d=\"M2167.13 128.319 L2171.39 128.319 L2171.39 164.338 L2167.13 164.338 L2167.13 128.319 Z\" fill=\"#000000\" fill-rule=\"evenodd\" fill-opacity=\"1\" /><path clip-path=\"url(#clip870)\" d=\"M2202.48 150.31 L2202.48 152.393 L2182.9 152.393 Q2183.17 156.791 2185.54 159.106 Q2187.92 161.398 2192.16 161.398 Q2194.61 161.398 2196.9 160.796 Q2199.22 160.194 2201.48 158.99 L2201.48 163.018 Q2199.19 163.99 2196.79 164.5 Q2194.38 165.009 2191.9 165.009 Q2185.7 165.009 2182.06 161.398 Q2178.45 157.787 2178.45 151.629 Q2178.45 145.264 2181.88 141.537 Q2185.33 137.787 2191.16 137.787 Q2196.39 137.787 2199.42 141.166 Q2202.48 144.523 2202.48 150.31 M2198.22 149.06 Q2198.17 145.565 2196.25 143.481 Q2194.35 141.398 2191.21 141.398 Q2187.64 141.398 2185.49 143.412 Q2183.36 145.426 2183.04 149.083 L2198.22 149.06 Z\" fill=\"#000000\" fill-rule=\"evenodd\" fill-opacity=\"1\" /><path clip-path=\"url(#clip870)\" d=\"M2229.17 172.208 L2229.17 175.518 L2204.54 175.518 L2204.54 172.208 L2229.17 172.208 Z\" fill=\"#000000\" fill-rule=\"evenodd\" fill-opacity=\"1\" /><path clip-path=\"url(#clip870)\" d=\"M2234.59 160.402 L2242.23 160.402 L2242.23 134.037 L2233.91 135.703 L2233.91 131.444 L2242.18 129.778 L2246.85 129.778 L2246.85 160.402 L2254.49 160.402 L2254.49 164.338 L2234.59 164.338 L2234.59 160.402 Z\" fill=\"#000000\" fill-rule=\"evenodd\" fill-opacity=\"1\" /></svg>\n"
      ]
     },
     "execution_count": 7,
     "metadata": {},
     "output_type": "execute_result"
    }
   ],
   "source": [
    "histogram(Sample_1, bins=50, labels=\"sample_1\")"
   ]
  },
  {
   "cell_type": "markdown",
   "id": "ad6cbc35",
   "metadata": {},
   "source": [
    "### 3.4 \n",
    "\n",
    "#### Choose a distribution other than normal distribution, Describe what it represents, and draw 1000 samples from the distribution and plot it using parameters of your choice"
   ]
  },
  {
   "cell_type": "markdown",
   "id": "6df4cb7e",
   "metadata": {},
   "source": [
    "Which distribution do you pick: "
   ]
  },
  {
   "cell_type": "code",
   "execution_count": 10,
   "id": "c7c7345f",
   "metadata": {},
   "outputs": [],
   "source": [
    "#Binomial(n, p) "
   ]
  },
  {
   "cell_type": "markdown",
   "id": "7ea6f75c",
   "metadata": {},
   "source": [
    "What does the distribution represent?"
   ]
  },
  {
   "cell_type": "code",
   "execution_count": null,
   "id": "22a00c51",
   "metadata": {},
   "outputs": [],
   "source": [
    "#=\n",
    "the binomial distribution with parameters n and p is the discrete probability distribution of the number of successes in a \n",
    "sequence of n independent experiments, each asking a yes–no question, and each with its own Boolean-valued outcome: \n",
    "success (with probability p) or failure (with probability q=1-p).\n",
    "=#"
   ]
  },
  {
   "cell_type": "code",
   "execution_count": 9,
   "id": "d081346c",
   "metadata": {},
   "outputs": [
    {
     "data": {
      "text/plain": [
       "1000-element Vector{Int64}:\n",
       " 1\n",
       " 1\n",
       " 0\n",
       " 0\n",
       " 0\n",
       " 0\n",
       " 0\n",
       " 1\n",
       " 1\n",
       " 1\n",
       " 0\n",
       " 0\n",
       " 1\n",
       " ⋮\n",
       " 0\n",
       " 0\n",
       " 1\n",
       " 0\n",
       " 1\n",
       " 0\n",
       " 0\n",
       " 1\n",
       " 1\n",
       " 0\n",
       " 1\n",
       " 0"
      ]
     },
     "execution_count": 9,
     "metadata": {},
     "output_type": "execute_result"
    }
   ],
   "source": [
    "B = Binomial()\n",
    "Binomial(100,0.2)\n",
    "Sample_2 = rand(B,1000)"
   ]
  },
  {
   "cell_type": "markdown",
   "id": "9d56bbd5",
   "metadata": {},
   "source": [
    "### 3.5\n",
    "\n",
    "#### Plot  the two distributions in the same plot"
   ]
  },
  {
   "cell_type": "code",
   "execution_count": 11,
   "id": "447aeb72",
   "metadata": {},
   "outputs": [
    {
     "data": {
      "image/svg+xml": [
       "<?xml version=\"1.0\" encoding=\"utf-8\"?>\n",
       "<svg xmlns=\"http://www.w3.org/2000/svg\" xmlns:xlink=\"http://www.w3.org/1999/xlink\" width=\"600\" height=\"400\" viewBox=\"0 0 2400 1600\">\n",
       "<defs>\n",
       "  <clipPath id=\"clip910\">\n",
       "    <rect x=\"0\" y=\"0\" width=\"2400\" height=\"1600\"/>\n",
       "  </clipPath>\n",
       "</defs>\n",
       "<path clip-path=\"url(#clip910)\" d=\"M0 1600 L2400 1600 L2400 0 L0 0  Z\" fill=\"#ffffff\" fill-rule=\"evenodd\" fill-opacity=\"1\"/>\n",
       "<defs>\n",
       "  <clipPath id=\"clip911\">\n",
       "    <rect x=\"480\" y=\"0\" width=\"1681\" height=\"1600\"/>\n",
       "  </clipPath>\n",
       "</defs>\n",
       "<path clip-path=\"url(#clip910)\" d=\"M172.015 1486.45 L2352.76 1486.45 L2352.76 47.2441 L172.015 47.2441  Z\" fill=\"#ffffff\" fill-rule=\"evenodd\" fill-opacity=\"1\"/>\n",
       "<defs>\n",
       "  <clipPath id=\"clip912\">\n",
       "    <rect x=\"172\" y=\"47\" width=\"2182\" height=\"1440\"/>\n",
       "  </clipPath>\n",
       "</defs>\n",
       "<polyline clip-path=\"url(#clip912)\" style=\"stroke:#000000; stroke-linecap:round; stroke-linejoin:round; stroke-width:2; stroke-opacity:0.1; fill:none\" points=\"680.13,1486.45 680.13,47.2441 \"/>\n",
       "<polyline clip-path=\"url(#clip912)\" style=\"stroke:#000000; stroke-linecap:round; stroke-linejoin:round; stroke-width:2; stroke-opacity:0.1; fill:none\" points=\"1197.69,1486.45 1197.69,47.2441 \"/>\n",
       "<polyline clip-path=\"url(#clip912)\" style=\"stroke:#000000; stroke-linecap:round; stroke-linejoin:round; stroke-width:2; stroke-opacity:0.1; fill:none\" points=\"1715.25,1486.45 1715.25,47.2441 \"/>\n",
       "<polyline clip-path=\"url(#clip912)\" style=\"stroke:#000000; stroke-linecap:round; stroke-linejoin:round; stroke-width:2; stroke-opacity:0.1; fill:none\" points=\"2232.81,1486.45 2232.81,47.2441 \"/>\n",
       "<polyline clip-path=\"url(#clip910)\" style=\"stroke:#000000; stroke-linecap:round; stroke-linejoin:round; stroke-width:4; stroke-opacity:1; fill:none\" points=\"172.015,1486.45 2352.76,1486.45 \"/>\n",
       "<polyline clip-path=\"url(#clip910)\" style=\"stroke:#000000; stroke-linecap:round; stroke-linejoin:round; stroke-width:4; stroke-opacity:1; fill:none\" points=\"680.13,1486.45 680.13,1467.55 \"/>\n",
       "<polyline clip-path=\"url(#clip910)\" style=\"stroke:#000000; stroke-linecap:round; stroke-linejoin:round; stroke-width:4; stroke-opacity:1; fill:none\" points=\"1197.69,1486.45 1197.69,1467.55 \"/>\n",
       "<polyline clip-path=\"url(#clip910)\" style=\"stroke:#000000; stroke-linecap:round; stroke-linejoin:round; stroke-width:4; stroke-opacity:1; fill:none\" points=\"1715.25,1486.45 1715.25,1467.55 \"/>\n",
       "<polyline clip-path=\"url(#clip910)\" style=\"stroke:#000000; stroke-linecap:round; stroke-linejoin:round; stroke-width:4; stroke-opacity:1; fill:none\" points=\"2232.81,1486.45 2232.81,1467.55 \"/>\n",
       "<path clip-path=\"url(#clip910)\" d=\"M650.072 1532.02 L679.748 1532.02 L679.748 1535.95 L650.072 1535.95 L650.072 1532.02 Z\" fill=\"#000000\" fill-rule=\"evenodd\" fill-opacity=\"1\" /><path clip-path=\"url(#clip910)\" d=\"M693.868 1544.91 L710.188 1544.91 L710.188 1548.85 L688.243 1548.85 L688.243 1544.91 Q690.905 1542.16 695.489 1537.53 Q700.095 1532.88 701.276 1531.53 Q703.521 1529.01 704.401 1527.27 Q705.303 1525.51 705.303 1523.82 Q705.303 1521.07 703.359 1519.33 Q701.438 1517.6 698.336 1517.6 Q696.137 1517.6 693.683 1518.36 Q691.252 1519.13 688.475 1520.68 L688.475 1515.95 Q691.299 1514.82 693.752 1514.24 Q696.206 1513.66 698.243 1513.66 Q703.613 1513.66 706.808 1516.35 Q710.002 1519.03 710.002 1523.52 Q710.002 1525.65 709.192 1527.57 Q708.405 1529.47 706.299 1532.07 Q705.72 1532.74 702.618 1535.95 Q699.516 1539.15 693.868 1544.91 Z\" fill=\"#000000\" fill-rule=\"evenodd\" fill-opacity=\"1\" /><path clip-path=\"url(#clip910)\" d=\"M1197.69 1517.37 Q1194.08 1517.37 1192.25 1520.93 Q1190.44 1524.47 1190.44 1531.6 Q1190.44 1538.71 1192.25 1542.27 Q1194.08 1545.82 1197.69 1545.82 Q1201.32 1545.82 1203.13 1542.27 Q1204.96 1538.71 1204.96 1531.6 Q1204.96 1524.47 1203.13 1520.93 Q1201.32 1517.37 1197.69 1517.37 M1197.69 1513.66 Q1203.5 1513.66 1206.56 1518.27 Q1209.63 1522.85 1209.63 1531.6 Q1209.63 1540.33 1206.56 1544.94 Q1203.5 1549.52 1197.69 1549.52 Q1191.88 1549.52 1188.8 1544.94 Q1185.75 1540.33 1185.75 1531.6 Q1185.75 1522.85 1188.8 1518.27 Q1191.88 1513.66 1197.69 1513.66 Z\" fill=\"#000000\" fill-rule=\"evenodd\" fill-opacity=\"1\" /><path clip-path=\"url(#clip910)\" d=\"M1709.9 1544.91 L1726.22 1544.91 L1726.22 1548.85 L1704.28 1548.85 L1704.28 1544.91 Q1706.94 1542.16 1711.52 1537.53 Q1716.13 1532.88 1717.31 1531.53 Q1719.56 1529.01 1720.44 1527.27 Q1721.34 1525.51 1721.34 1523.82 Q1721.34 1521.07 1719.39 1519.33 Q1717.47 1517.6 1714.37 1517.6 Q1712.17 1517.6 1709.72 1518.36 Q1707.29 1519.13 1704.51 1520.68 L1704.51 1515.95 Q1707.33 1514.82 1709.79 1514.24 Q1712.24 1513.66 1714.28 1513.66 Q1719.65 1513.66 1722.84 1516.35 Q1726.04 1519.03 1726.04 1523.52 Q1726.04 1525.65 1725.23 1527.57 Q1724.44 1529.47 1722.33 1532.07 Q1721.76 1532.74 1718.65 1535.95 Q1715.55 1539.15 1709.9 1544.91 Z\" fill=\"#000000\" fill-rule=\"evenodd\" fill-opacity=\"1\" /><path clip-path=\"url(#clip910)\" d=\"M2235.82 1518.36 L2224.02 1536.81 L2235.82 1536.81 L2235.82 1518.36 M2234.59 1514.29 L2240.47 1514.29 L2240.47 1536.81 L2245.4 1536.81 L2245.4 1540.7 L2240.47 1540.7 L2240.47 1548.85 L2235.82 1548.85 L2235.82 1540.7 L2220.22 1540.7 L2220.22 1536.19 L2234.59 1514.29 Z\" fill=\"#000000\" fill-rule=\"evenodd\" fill-opacity=\"1\" /><polyline clip-path=\"url(#clip912)\" style=\"stroke:#000000; stroke-linecap:round; stroke-linejoin:round; stroke-width:2; stroke-opacity:0.1; fill:none\" points=\"172.015,1445.72 2352.76,1445.72 \"/>\n",
       "<polyline clip-path=\"url(#clip912)\" style=\"stroke:#000000; stroke-linecap:round; stroke-linejoin:round; stroke-width:2; stroke-opacity:0.1; fill:none\" points=\"172.015,1181.56 2352.76,1181.56 \"/>\n",
       "<polyline clip-path=\"url(#clip912)\" style=\"stroke:#000000; stroke-linecap:round; stroke-linejoin:round; stroke-width:2; stroke-opacity:0.1; fill:none\" points=\"172.015,917.412 2352.76,917.412 \"/>\n",
       "<polyline clip-path=\"url(#clip912)\" style=\"stroke:#000000; stroke-linecap:round; stroke-linejoin:round; stroke-width:2; stroke-opacity:0.1; fill:none\" points=\"172.015,653.261 2352.76,653.261 \"/>\n",
       "<polyline clip-path=\"url(#clip912)\" style=\"stroke:#000000; stroke-linecap:round; stroke-linejoin:round; stroke-width:2; stroke-opacity:0.1; fill:none\" points=\"172.015,389.109 2352.76,389.109 \"/>\n",
       "<polyline clip-path=\"url(#clip912)\" style=\"stroke:#000000; stroke-linecap:round; stroke-linejoin:round; stroke-width:2; stroke-opacity:0.1; fill:none\" points=\"172.015,124.958 2352.76,124.958 \"/>\n",
       "<polyline clip-path=\"url(#clip910)\" style=\"stroke:#000000; stroke-linecap:round; stroke-linejoin:round; stroke-width:4; stroke-opacity:1; fill:none\" points=\"172.015,1486.45 172.015,47.2441 \"/>\n",
       "<polyline clip-path=\"url(#clip910)\" style=\"stroke:#000000; stroke-linecap:round; stroke-linejoin:round; stroke-width:4; stroke-opacity:1; fill:none\" points=\"172.015,1445.72 190.912,1445.72 \"/>\n",
       "<polyline clip-path=\"url(#clip910)\" style=\"stroke:#000000; stroke-linecap:round; stroke-linejoin:round; stroke-width:4; stroke-opacity:1; fill:none\" points=\"172.015,1181.56 190.912,1181.56 \"/>\n",
       "<polyline clip-path=\"url(#clip910)\" style=\"stroke:#000000; stroke-linecap:round; stroke-linejoin:round; stroke-width:4; stroke-opacity:1; fill:none\" points=\"172.015,917.412 190.912,917.412 \"/>\n",
       "<polyline clip-path=\"url(#clip910)\" style=\"stroke:#000000; stroke-linecap:round; stroke-linejoin:round; stroke-width:4; stroke-opacity:1; fill:none\" points=\"172.015,653.261 190.912,653.261 \"/>\n",
       "<polyline clip-path=\"url(#clip910)\" style=\"stroke:#000000; stroke-linecap:round; stroke-linejoin:round; stroke-width:4; stroke-opacity:1; fill:none\" points=\"172.015,389.109 190.912,389.109 \"/>\n",
       "<polyline clip-path=\"url(#clip910)\" style=\"stroke:#000000; stroke-linecap:round; stroke-linejoin:round; stroke-width:4; stroke-opacity:1; fill:none\" points=\"172.015,124.958 190.912,124.958 \"/>\n",
       "<path clip-path=\"url(#clip910)\" d=\"M124.07 1431.51 Q120.459 1431.51 118.631 1435.08 Q116.825 1438.62 116.825 1445.75 Q116.825 1452.86 118.631 1456.42 Q120.459 1459.96 124.07 1459.96 Q127.705 1459.96 129.51 1456.42 Q131.339 1452.86 131.339 1445.75 Q131.339 1438.62 129.51 1435.08 Q127.705 1431.51 124.07 1431.51 M124.07 1427.81 Q129.881 1427.81 132.936 1432.42 Q136.015 1437 136.015 1445.75 Q136.015 1454.48 132.936 1459.08 Q129.881 1463.67 124.07 1463.67 Q118.26 1463.67 115.182 1459.08 Q112.126 1454.48 112.126 1445.75 Q112.126 1437 115.182 1432.42 Q118.26 1427.81 124.07 1427.81 Z\" fill=\"#000000\" fill-rule=\"evenodd\" fill-opacity=\"1\" /><path clip-path=\"url(#clip910)\" d=\"M54.5569 1194.91 L62.1958 1194.91 L62.1958 1168.54 L53.8856 1170.21 L53.8856 1165.95 L62.1495 1164.28 L66.8254 1164.28 L66.8254 1194.91 L74.4642 1194.91 L74.4642 1198.84 L54.5569 1198.84 L54.5569 1194.91 Z\" fill=\"#000000\" fill-rule=\"evenodd\" fill-opacity=\"1\" /><path clip-path=\"url(#clip910)\" d=\"M93.9086 1167.36 Q90.2975 1167.36 88.4688 1170.93 Q86.6632 1174.47 86.6632 1181.6 Q86.6632 1188.71 88.4688 1192.27 Q90.2975 1195.81 93.9086 1195.81 Q97.5428 1195.81 99.3483 1192.27 Q101.177 1188.71 101.177 1181.6 Q101.177 1174.47 99.3483 1170.93 Q97.5428 1167.36 93.9086 1167.36 M93.9086 1163.66 Q99.7187 1163.66 102.774 1168.27 Q105.853 1172.85 105.853 1181.6 Q105.853 1190.33 102.774 1194.93 Q99.7187 1199.52 93.9086 1199.52 Q88.0984 1199.52 85.0197 1194.93 Q81.9642 1190.33 81.9642 1181.6 Q81.9642 1172.85 85.0197 1168.27 Q88.0984 1163.66 93.9086 1163.66 Z\" fill=\"#000000\" fill-rule=\"evenodd\" fill-opacity=\"1\" /><path clip-path=\"url(#clip910)\" d=\"M124.07 1167.36 Q120.459 1167.36 118.631 1170.93 Q116.825 1174.47 116.825 1181.6 Q116.825 1188.71 118.631 1192.27 Q120.459 1195.81 124.07 1195.81 Q127.705 1195.81 129.51 1192.27 Q131.339 1188.71 131.339 1181.6 Q131.339 1174.47 129.51 1170.93 Q127.705 1167.36 124.07 1167.36 M124.07 1163.66 Q129.881 1163.66 132.936 1168.27 Q136.015 1172.85 136.015 1181.6 Q136.015 1190.33 132.936 1194.93 Q129.881 1199.52 124.07 1199.52 Q118.26 1199.52 115.182 1194.93 Q112.126 1190.33 112.126 1181.6 Q112.126 1172.85 115.182 1168.27 Q118.26 1163.66 124.07 1163.66 Z\" fill=\"#000000\" fill-rule=\"evenodd\" fill-opacity=\"1\" /><path clip-path=\"url(#clip910)\" d=\"M57.7745 930.757 L74.0939 930.757 L74.0939 934.692 L52.1495 934.692 L52.1495 930.757 Q54.8115 928.003 59.3949 923.373 Q64.0013 918.72 65.1819 917.378 Q67.4272 914.855 68.3068 913.118 Q69.2096 911.359 69.2096 909.669 Q69.2096 906.915 67.2652 905.179 Q65.3439 903.443 62.2421 903.443 Q60.043 903.443 57.5893 904.206 Q55.1588 904.97 52.381 906.521 L52.381 901.799 Q55.2051 900.665 57.6588 900.086 Q60.1124 899.507 62.1495 899.507 Q67.5198 899.507 70.7142 902.193 Q73.9087 904.878 73.9087 909.368 Q73.9087 911.498 73.0985 913.419 Q72.3115 915.318 70.205 917.91 Q69.6263 918.581 66.5245 921.799 Q63.4226 924.993 57.7745 930.757 Z\" fill=\"#000000\" fill-rule=\"evenodd\" fill-opacity=\"1\" /><path clip-path=\"url(#clip910)\" d=\"M93.9086 903.211 Q90.2975 903.211 88.4688 906.776 Q86.6632 910.318 86.6632 917.447 Q86.6632 924.554 88.4688 928.118 Q90.2975 931.66 93.9086 931.66 Q97.5428 931.66 99.3483 928.118 Q101.177 924.554 101.177 917.447 Q101.177 910.318 99.3483 906.776 Q97.5428 903.211 93.9086 903.211 M93.9086 899.507 Q99.7187 899.507 102.774 904.114 Q105.853 908.697 105.853 917.447 Q105.853 926.174 102.774 930.78 Q99.7187 935.364 93.9086 935.364 Q88.0984 935.364 85.0197 930.78 Q81.9642 926.174 81.9642 917.447 Q81.9642 908.697 85.0197 904.114 Q88.0984 899.507 93.9086 899.507 Z\" fill=\"#000000\" fill-rule=\"evenodd\" fill-opacity=\"1\" /><path clip-path=\"url(#clip910)\" d=\"M124.07 903.211 Q120.459 903.211 118.631 906.776 Q116.825 910.318 116.825 917.447 Q116.825 924.554 118.631 928.118 Q120.459 931.66 124.07 931.66 Q127.705 931.66 129.51 928.118 Q131.339 924.554 131.339 917.447 Q131.339 910.318 129.51 906.776 Q127.705 903.211 124.07 903.211 M124.07 899.507 Q129.881 899.507 132.936 904.114 Q136.015 908.697 136.015 917.447 Q136.015 926.174 132.936 930.78 Q129.881 935.364 124.07 935.364 Q118.26 935.364 115.182 930.78 Q112.126 926.174 112.126 917.447 Q112.126 908.697 115.182 904.114 Q118.26 899.507 124.07 899.507 Z\" fill=\"#000000\" fill-rule=\"evenodd\" fill-opacity=\"1\" /><path clip-path=\"url(#clip910)\" d=\"M67.9133 651.907 Q71.2698 652.624 73.1448 654.893 Q75.0429 657.161 75.0429 660.495 Q75.0429 665.61 71.5244 668.411 Q68.0059 671.212 61.5245 671.212 Q59.3486 671.212 57.0338 670.772 Q54.7421 670.356 52.2884 669.499 L52.2884 664.985 Q54.2328 666.12 56.5477 666.698 Q58.8625 667.277 61.3856 667.277 Q65.7837 667.277 68.0754 665.541 Q70.3902 663.805 70.3902 660.495 Q70.3902 657.439 68.2374 655.726 Q66.1078 653.99 62.2884 653.99 L58.2606 653.99 L58.2606 650.147 L62.4735 650.147 Q65.9226 650.147 67.7513 648.782 Q69.58 647.393 69.58 644.8 Q69.58 642.138 67.6819 640.726 Q65.8069 639.291 62.2884 639.291 Q60.3671 639.291 58.168 639.708 Q55.969 640.124 53.3301 641.004 L53.3301 636.837 Q55.9921 636.097 58.3069 635.726 Q60.6449 635.356 62.705 635.356 Q68.0291 635.356 71.1309 637.786 Q74.2327 640.194 74.2327 644.314 Q74.2327 647.184 72.5892 649.175 Q70.9457 651.143 67.9133 651.907 Z\" fill=\"#000000\" fill-rule=\"evenodd\" fill-opacity=\"1\" /><path clip-path=\"url(#clip910)\" d=\"M93.9086 639.059 Q90.2975 639.059 88.4688 642.624 Q86.6632 646.166 86.6632 653.296 Q86.6632 660.402 88.4688 663.967 Q90.2975 667.508 93.9086 667.508 Q97.5428 667.508 99.3483 663.967 Q101.177 660.402 101.177 653.296 Q101.177 646.166 99.3483 642.624 Q97.5428 639.059 93.9086 639.059 M93.9086 635.356 Q99.7187 635.356 102.774 639.962 Q105.853 644.546 105.853 653.296 Q105.853 662.022 102.774 666.629 Q99.7187 671.212 93.9086 671.212 Q88.0984 671.212 85.0197 666.629 Q81.9642 662.022 81.9642 653.296 Q81.9642 644.546 85.0197 639.962 Q88.0984 635.356 93.9086 635.356 Z\" fill=\"#000000\" fill-rule=\"evenodd\" fill-opacity=\"1\" /><path clip-path=\"url(#clip910)\" d=\"M124.07 639.059 Q120.459 639.059 118.631 642.624 Q116.825 646.166 116.825 653.296 Q116.825 660.402 118.631 663.967 Q120.459 667.508 124.07 667.508 Q127.705 667.508 129.51 663.967 Q131.339 660.402 131.339 653.296 Q131.339 646.166 129.51 642.624 Q127.705 639.059 124.07 639.059 M124.07 635.356 Q129.881 635.356 132.936 639.962 Q136.015 644.546 136.015 653.296 Q136.015 662.022 132.936 666.629 Q129.881 671.212 124.07 671.212 Q118.26 671.212 115.182 666.629 Q112.126 662.022 112.126 653.296 Q112.126 644.546 115.182 639.962 Q118.26 635.356 124.07 635.356 Z\" fill=\"#000000\" fill-rule=\"evenodd\" fill-opacity=\"1\" /><path clip-path=\"url(#clip910)\" d=\"M66.5939 375.903 L54.7884 394.352 L66.5939 394.352 L66.5939 375.903 M65.367 371.829 L71.2466 371.829 L71.2466 394.352 L76.1772 394.352 L76.1772 398.241 L71.2466 398.241 L71.2466 406.389 L66.5939 406.389 L66.5939 398.241 L50.9921 398.241 L50.9921 393.727 L65.367 371.829 Z\" fill=\"#000000\" fill-rule=\"evenodd\" fill-opacity=\"1\" /><path clip-path=\"url(#clip910)\" d=\"M93.9086 374.908 Q90.2975 374.908 88.4688 378.473 Q86.6632 382.014 86.6632 389.144 Q86.6632 396.25 88.4688 399.815 Q90.2975 403.357 93.9086 403.357 Q97.5428 403.357 99.3483 399.815 Q101.177 396.25 101.177 389.144 Q101.177 382.014 99.3483 378.473 Q97.5428 374.908 93.9086 374.908 M93.9086 371.204 Q99.7187 371.204 102.774 375.811 Q105.853 380.394 105.853 389.144 Q105.853 397.871 102.774 402.477 Q99.7187 407.06 93.9086 407.06 Q88.0984 407.06 85.0197 402.477 Q81.9642 397.871 81.9642 389.144 Q81.9642 380.394 85.0197 375.811 Q88.0984 371.204 93.9086 371.204 Z\" fill=\"#000000\" fill-rule=\"evenodd\" fill-opacity=\"1\" /><path clip-path=\"url(#clip910)\" d=\"M124.07 374.908 Q120.459 374.908 118.631 378.473 Q116.825 382.014 116.825 389.144 Q116.825 396.25 118.631 399.815 Q120.459 403.357 124.07 403.357 Q127.705 403.357 129.51 399.815 Q131.339 396.25 131.339 389.144 Q131.339 382.014 129.51 378.473 Q127.705 374.908 124.07 374.908 M124.07 371.204 Q129.881 371.204 132.936 375.811 Q136.015 380.394 136.015 389.144 Q136.015 397.871 132.936 402.477 Q129.881 407.06 124.07 407.06 Q118.26 407.06 115.182 402.477 Q112.126 397.871 112.126 389.144 Q112.126 380.394 115.182 375.811 Q118.26 371.204 124.07 371.204 Z\" fill=\"#000000\" fill-rule=\"evenodd\" fill-opacity=\"1\" /><path clip-path=\"url(#clip910)\" d=\"M53.793 107.678 L72.1494 107.678 L72.1494 111.613 L58.0754 111.613 L58.0754 120.085 Q59.0939 119.738 60.1124 119.576 Q61.131 119.39 62.1495 119.39 Q67.9365 119.39 71.3161 122.562 Q74.6957 125.733 74.6957 131.15 Q74.6957 136.728 71.2235 139.83 Q67.7513 142.909 61.4319 142.909 Q59.256 142.909 56.9875 142.538 Q54.7421 142.168 52.3347 141.427 L52.3347 136.728 Q54.418 137.863 56.6402 138.418 Q58.8625 138.974 61.3393 138.974 Q65.3439 138.974 67.6819 136.867 Q70.0198 134.761 70.0198 131.15 Q70.0198 127.539 67.6819 125.432 Q65.3439 123.326 61.3393 123.326 Q59.4643 123.326 57.5893 123.742 Q55.7375 124.159 53.793 125.039 L53.793 107.678 Z\" fill=\"#000000\" fill-rule=\"evenodd\" fill-opacity=\"1\" /><path clip-path=\"url(#clip910)\" d=\"M93.9086 110.756 Q90.2975 110.756 88.4688 114.321 Q86.6632 117.863 86.6632 124.992 Q86.6632 132.099 88.4688 135.663 Q90.2975 139.205 93.9086 139.205 Q97.5428 139.205 99.3483 135.663 Q101.177 132.099 101.177 124.992 Q101.177 117.863 99.3483 114.321 Q97.5428 110.756 93.9086 110.756 M93.9086 107.053 Q99.7187 107.053 102.774 111.659 Q105.853 116.242 105.853 124.992 Q105.853 133.719 102.774 138.325 Q99.7187 142.909 93.9086 142.909 Q88.0984 142.909 85.0197 138.325 Q81.9642 133.719 81.9642 124.992 Q81.9642 116.242 85.0197 111.659 Q88.0984 107.053 93.9086 107.053 Z\" fill=\"#000000\" fill-rule=\"evenodd\" fill-opacity=\"1\" /><path clip-path=\"url(#clip910)\" d=\"M124.07 110.756 Q120.459 110.756 118.631 114.321 Q116.825 117.863 116.825 124.992 Q116.825 132.099 118.631 135.663 Q120.459 139.205 124.07 139.205 Q127.705 139.205 129.51 135.663 Q131.339 132.099 131.339 124.992 Q131.339 117.863 129.51 114.321 Q127.705 110.756 124.07 110.756 M124.07 107.053 Q129.881 107.053 132.936 111.659 Q136.015 116.242 136.015 124.992 Q136.015 133.719 132.936 138.325 Q129.881 142.909 124.07 142.909 Q118.26 142.909 115.182 138.325 Q112.126 133.719 112.126 124.992 Q112.126 116.242 115.182 111.659 Q118.26 107.053 124.07 107.053 Z\" fill=\"#000000\" fill-rule=\"evenodd\" fill-opacity=\"1\" /><path clip-path=\"url(#clip912)\" d=\"M291.959 1440.43 L291.959 1445.72 L421.35 1445.72 L421.35 1440.43 L291.959 1440.43 L291.959 1440.43  Z\" fill=\"#009af9\" fill-rule=\"evenodd\" fill-opacity=\"1\"/>\n",
       "<polyline clip-path=\"url(#clip912)\" style=\"stroke:#000000; stroke-linecap:round; stroke-linejoin:round; stroke-width:4; stroke-opacity:1; fill:none\" points=\"291.959,1440.43 291.959,1445.72 421.35,1445.72 421.35,1440.43 291.959,1440.43 \"/>\n",
       "<path clip-path=\"url(#clip912)\" d=\"M421.35 1440.43 L421.35 1445.72 L550.74 1445.72 L550.74 1440.43 L421.35 1440.43 L421.35 1440.43  Z\" fill=\"#009af9\" fill-rule=\"evenodd\" fill-opacity=\"1\"/>\n",
       "<polyline clip-path=\"url(#clip912)\" style=\"stroke:#000000; stroke-linecap:round; stroke-linejoin:round; stroke-width:4; stroke-opacity:1; fill:none\" points=\"421.35,1440.43 421.35,1445.72 550.74,1445.72 550.74,1440.43 421.35,1440.43 \"/>\n",
       "<path clip-path=\"url(#clip912)\" d=\"M550.74 1398.17 L550.74 1445.72 L680.13 1445.72 L680.13 1398.17 L550.74 1398.17 L550.74 1398.17  Z\" fill=\"#009af9\" fill-rule=\"evenodd\" fill-opacity=\"1\"/>\n",
       "<polyline clip-path=\"url(#clip912)\" style=\"stroke:#000000; stroke-linecap:round; stroke-linejoin:round; stroke-width:4; stroke-opacity:1; fill:none\" points=\"550.74,1398.17 550.74,1445.72 680.13,1445.72 680.13,1398.17 550.74,1398.17 \"/>\n",
       "<path clip-path=\"url(#clip912)\" d=\"M680.13 1311 L680.13 1445.72 L809.52 1445.72 L809.52 1311 L680.13 1311 L680.13 1311  Z\" fill=\"#009af9\" fill-rule=\"evenodd\" fill-opacity=\"1\"/>\n",
       "<polyline clip-path=\"url(#clip912)\" style=\"stroke:#000000; stroke-linecap:round; stroke-linejoin:round; stroke-width:4; stroke-opacity:1; fill:none\" points=\"680.13,1311 680.13,1445.72 809.52,1445.72 809.52,1311 680.13,1311 \"/>\n",
       "<path clip-path=\"url(#clip912)\" d=\"M809.52 1144.58 L809.52 1445.72 L938.91 1445.72 L938.91 1144.58 L809.52 1144.58 L809.52 1144.58  Z\" fill=\"#009af9\" fill-rule=\"evenodd\" fill-opacity=\"1\"/>\n",
       "<polyline clip-path=\"url(#clip912)\" style=\"stroke:#000000; stroke-linecap:round; stroke-linejoin:round; stroke-width:4; stroke-opacity:1; fill:none\" points=\"809.52,1144.58 809.52,1445.72 938.91,1445.72 938.91,1144.58 809.52,1144.58 \"/>\n",
       "<path clip-path=\"url(#clip912)\" d=\"M938.91 1057.41 L938.91 1445.72 L1068.3 1445.72 L1068.3 1057.41 L938.91 1057.41 L938.91 1057.41  Z\" fill=\"#009af9\" fill-rule=\"evenodd\" fill-opacity=\"1\"/>\n",
       "<polyline clip-path=\"url(#clip912)\" style=\"stroke:#000000; stroke-linecap:round; stroke-linejoin:round; stroke-width:4; stroke-opacity:1; fill:none\" points=\"938.91,1057.41 938.91,1445.72 1068.3,1445.72 1068.3,1057.41 938.91,1057.41 \"/>\n",
       "<path clip-path=\"url(#clip912)\" d=\"M1068.3 959.677 L1068.3 1445.72 L1197.69 1445.72 L1197.69 959.677 L1068.3 959.677 L1068.3 959.677  Z\" fill=\"#009af9\" fill-rule=\"evenodd\" fill-opacity=\"1\"/>\n",
       "<polyline clip-path=\"url(#clip912)\" style=\"stroke:#000000; stroke-linecap:round; stroke-linejoin:round; stroke-width:4; stroke-opacity:1; fill:none\" points=\"1068.3,959.677 1068.3,1445.72 1197.69,1445.72 1197.69,959.677 1068.3,959.677 \"/>\n",
       "<path clip-path=\"url(#clip912)\" d=\"M1197.69 964.96 L1197.69 1445.72 L1327.08 1445.72 L1327.08 964.96 L1197.69 964.96 L1197.69 964.96  Z\" fill=\"#009af9\" fill-rule=\"evenodd\" fill-opacity=\"1\"/>\n",
       "<polyline clip-path=\"url(#clip912)\" style=\"stroke:#000000; stroke-linecap:round; stroke-linejoin:round; stroke-width:4; stroke-opacity:1; fill:none\" points=\"1197.69,964.96 1197.69,1445.72 1327.08,1445.72 1327.08,964.96 1197.69,964.96 \"/>\n",
       "<path clip-path=\"url(#clip912)\" d=\"M1327.08 1089.11 L1327.08 1445.72 L1456.47 1445.72 L1456.47 1089.11 L1327.08 1089.11 L1327.08 1089.11  Z\" fill=\"#009af9\" fill-rule=\"evenodd\" fill-opacity=\"1\"/>\n",
       "<polyline clip-path=\"url(#clip912)\" style=\"stroke:#000000; stroke-linecap:round; stroke-linejoin:round; stroke-width:4; stroke-opacity:1; fill:none\" points=\"1327.08,1089.11 1327.08,1445.72 1456.47,1445.72 1456.47,1089.11 1327.08,1089.11 \"/>\n",
       "<path clip-path=\"url(#clip912)\" d=\"M1456.47 1186.85 L1456.47 1445.72 L1585.86 1445.72 L1585.86 1186.85 L1456.47 1186.85 L1456.47 1186.85  Z\" fill=\"#009af9\" fill-rule=\"evenodd\" fill-opacity=\"1\"/>\n",
       "<polyline clip-path=\"url(#clip912)\" style=\"stroke:#000000; stroke-linecap:round; stroke-linejoin:round; stroke-width:4; stroke-opacity:1; fill:none\" points=\"1456.47,1186.85 1456.47,1445.72 1585.86,1445.72 1585.86,1186.85 1456.47,1186.85 \"/>\n",
       "<path clip-path=\"url(#clip912)\" d=\"M1585.86 1332.13 L1585.86 1445.72 L1715.25 1445.72 L1715.25 1332.13 L1585.86 1332.13 L1585.86 1332.13  Z\" fill=\"#009af9\" fill-rule=\"evenodd\" fill-opacity=\"1\"/>\n",
       "<polyline clip-path=\"url(#clip912)\" style=\"stroke:#000000; stroke-linecap:round; stroke-linejoin:round; stroke-width:4; stroke-opacity:1; fill:none\" points=\"1585.86,1332.13 1585.86,1445.72 1715.25,1445.72 1715.25,1332.13 1585.86,1332.13 \"/>\n",
       "<path clip-path=\"url(#clip912)\" d=\"M1715.25 1408.73 L1715.25 1445.72 L1844.64 1445.72 L1844.64 1408.73 L1715.25 1408.73 L1715.25 1408.73  Z\" fill=\"#009af9\" fill-rule=\"evenodd\" fill-opacity=\"1\"/>\n",
       "<polyline clip-path=\"url(#clip912)\" style=\"stroke:#000000; stroke-linecap:round; stroke-linejoin:round; stroke-width:4; stroke-opacity:1; fill:none\" points=\"1715.25,1408.73 1715.25,1445.72 1844.64,1445.72 1844.64,1408.73 1715.25,1408.73 \"/>\n",
       "<path clip-path=\"url(#clip912)\" d=\"M1844.64 1432.51 L1844.64 1445.72 L1974.03 1445.72 L1974.03 1432.51 L1844.64 1432.51 L1844.64 1432.51  Z\" fill=\"#009af9\" fill-rule=\"evenodd\" fill-opacity=\"1\"/>\n",
       "<polyline clip-path=\"url(#clip912)\" style=\"stroke:#000000; stroke-linecap:round; stroke-linejoin:round; stroke-width:4; stroke-opacity:1; fill:none\" points=\"1844.64,1432.51 1844.64,1445.72 1974.03,1445.72 1974.03,1432.51 1844.64,1432.51 \"/>\n",
       "<path clip-path=\"url(#clip912)\" d=\"M1974.03 1435.15 L1974.03 1445.72 L2103.42 1445.72 L2103.42 1435.15 L1974.03 1435.15 L1974.03 1435.15  Z\" fill=\"#009af9\" fill-rule=\"evenodd\" fill-opacity=\"1\"/>\n",
       "<polyline clip-path=\"url(#clip912)\" style=\"stroke:#000000; stroke-linecap:round; stroke-linejoin:round; stroke-width:4; stroke-opacity:1; fill:none\" points=\"1974.03,1435.15 1974.03,1445.72 2103.42,1445.72 2103.42,1435.15 1974.03,1435.15 \"/>\n",
       "<path clip-path=\"url(#clip912)\" d=\"M2103.42 1443.07 L2103.42 1445.72 L2232.81 1445.72 L2232.81 1443.07 L2103.42 1443.07 L2103.42 1443.07  Z\" fill=\"#009af9\" fill-rule=\"evenodd\" fill-opacity=\"1\"/>\n",
       "<polyline clip-path=\"url(#clip912)\" style=\"stroke:#000000; stroke-linecap:round; stroke-linejoin:round; stroke-width:4; stroke-opacity:1; fill:none\" points=\"2103.42,1443.07 2103.42,1445.72 2232.81,1445.72 2232.81,1443.07 2103.42,1443.07 \"/>\n",
       "<circle clip-path=\"url(#clip912)\" style=\"fill:#009af9; stroke:none; fill-opacity:0\" cx=\"356.655\" cy=\"1440.43\" r=\"2\"/>\n",
       "<circle clip-path=\"url(#clip912)\" style=\"fill:#009af9; stroke:none; fill-opacity:0\" cx=\"486.045\" cy=\"1440.43\" r=\"2\"/>\n",
       "<circle clip-path=\"url(#clip912)\" style=\"fill:#009af9; stroke:none; fill-opacity:0\" cx=\"615.435\" cy=\"1398.17\" r=\"2\"/>\n",
       "<circle clip-path=\"url(#clip912)\" style=\"fill:#009af9; stroke:none; fill-opacity:0\" cx=\"744.825\" cy=\"1311\" r=\"2\"/>\n",
       "<circle clip-path=\"url(#clip912)\" style=\"fill:#009af9; stroke:none; fill-opacity:0\" cx=\"874.215\" cy=\"1144.58\" r=\"2\"/>\n",
       "<circle clip-path=\"url(#clip912)\" style=\"fill:#009af9; stroke:none; fill-opacity:0\" cx=\"1003.61\" cy=\"1057.41\" r=\"2\"/>\n",
       "<circle clip-path=\"url(#clip912)\" style=\"fill:#009af9; stroke:none; fill-opacity:0\" cx=\"1133\" cy=\"959.677\" r=\"2\"/>\n",
       "<circle clip-path=\"url(#clip912)\" style=\"fill:#009af9; stroke:none; fill-opacity:0\" cx=\"1262.39\" cy=\"964.96\" r=\"2\"/>\n",
       "<circle clip-path=\"url(#clip912)\" style=\"fill:#009af9; stroke:none; fill-opacity:0\" cx=\"1391.78\" cy=\"1089.11\" r=\"2\"/>\n",
       "<circle clip-path=\"url(#clip912)\" style=\"fill:#009af9; stroke:none; fill-opacity:0\" cx=\"1521.17\" cy=\"1186.85\" r=\"2\"/>\n",
       "<circle clip-path=\"url(#clip912)\" style=\"fill:#009af9; stroke:none; fill-opacity:0\" cx=\"1650.56\" cy=\"1332.13\" r=\"2\"/>\n",
       "<circle clip-path=\"url(#clip912)\" style=\"fill:#009af9; stroke:none; fill-opacity:0\" cx=\"1779.95\" cy=\"1408.73\" r=\"2\"/>\n",
       "<circle clip-path=\"url(#clip912)\" style=\"fill:#009af9; stroke:none; fill-opacity:0\" cx=\"1909.34\" cy=\"1432.51\" r=\"2\"/>\n",
       "<circle clip-path=\"url(#clip912)\" style=\"fill:#009af9; stroke:none; fill-opacity:0\" cx=\"2038.73\" cy=\"1435.15\" r=\"2\"/>\n",
       "<circle clip-path=\"url(#clip912)\" style=\"fill:#009af9; stroke:none; fill-opacity:0\" cx=\"2168.12\" cy=\"1443.07\" r=\"2\"/>\n",
       "<path clip-path=\"url(#clip912)\" d=\"M1197.69 161.939 L1197.69 1445.72 L1249.45 1445.72 L1249.45 161.939 L1197.69 161.939 L1197.69 161.939  Z\" fill=\"#e26f46\" fill-rule=\"evenodd\" fill-opacity=\"1\"/>\n",
       "<polyline clip-path=\"url(#clip912)\" style=\"stroke:#000000; stroke-linecap:round; stroke-linejoin:round; stroke-width:4; stroke-opacity:1; fill:none\" points=\"1197.69,161.939 1197.69,1445.72 1249.45,1445.72 1249.45,161.939 1197.69,161.939 \"/>\n",
       "<path clip-path=\"url(#clip912)\" d=\"M1249.45 1445.72 L1249.45 1445.72 L1301.2 1445.72 L1301.2 1445.72 L1249.45 1445.72 L1249.45 1445.72  Z\" fill=\"#e26f46\" fill-rule=\"evenodd\" fill-opacity=\"1\"/>\n",
       "<polyline clip-path=\"url(#clip912)\" style=\"stroke:#000000; stroke-linecap:round; stroke-linejoin:round; stroke-width:4; stroke-opacity:1; fill:none\" points=\"1249.45,1445.72 1249.45,1445.72 1301.2,1445.72 1249.45,1445.72 \"/>\n",
       "<path clip-path=\"url(#clip912)\" d=\"M1301.2 1445.72 L1301.2 1445.72 L1352.96 1445.72 L1352.96 1445.72 L1301.2 1445.72 L1301.2 1445.72  Z\" fill=\"#e26f46\" fill-rule=\"evenodd\" fill-opacity=\"1\"/>\n",
       "<polyline clip-path=\"url(#clip912)\" style=\"stroke:#000000; stroke-linecap:round; stroke-linejoin:round; stroke-width:4; stroke-opacity:1; fill:none\" points=\"1301.2,1445.72 1301.2,1445.72 1352.96,1445.72 1301.2,1445.72 \"/>\n",
       "<path clip-path=\"url(#clip912)\" d=\"M1352.96 1445.72 L1352.96 1445.72 L1404.71 1445.72 L1404.71 1445.72 L1352.96 1445.72 L1352.96 1445.72  Z\" fill=\"#e26f46\" fill-rule=\"evenodd\" fill-opacity=\"1\"/>\n",
       "<polyline clip-path=\"url(#clip912)\" style=\"stroke:#000000; stroke-linecap:round; stroke-linejoin:round; stroke-width:4; stroke-opacity:1; fill:none\" points=\"1352.96,1445.72 1352.96,1445.72 1404.71,1445.72 1352.96,1445.72 \"/>\n",
       "<path clip-path=\"url(#clip912)\" d=\"M1404.71 1445.72 L1404.71 1445.72 L1456.47 1445.72 L1456.47 1445.72 L1404.71 1445.72 L1404.71 1445.72  Z\" fill=\"#e26f46\" fill-rule=\"evenodd\" fill-opacity=\"1\"/>\n",
       "<polyline clip-path=\"url(#clip912)\" style=\"stroke:#000000; stroke-linecap:round; stroke-linejoin:round; stroke-width:4; stroke-opacity:1; fill:none\" points=\"1404.71,1445.72 1404.71,1445.72 1456.47,1445.72 1404.71,1445.72 \"/>\n",
       "<path clip-path=\"url(#clip912)\" d=\"M1456.47 87.9763 L1456.47 1445.72 L1508.23 1445.72 L1508.23 87.9763 L1456.47 87.9763 L1456.47 87.9763  Z\" fill=\"#e26f46\" fill-rule=\"evenodd\" fill-opacity=\"1\"/>\n",
       "<polyline clip-path=\"url(#clip912)\" style=\"stroke:#000000; stroke-linecap:round; stroke-linejoin:round; stroke-width:4; stroke-opacity:1; fill:none\" points=\"1456.47,87.9763 1456.47,1445.72 1508.23,1445.72 1508.23,87.9763 1456.47,87.9763 \"/>\n",
       "<circle clip-path=\"url(#clip912)\" style=\"fill:#e26f46; stroke:none; fill-opacity:0\" cx=\"1223.57\" cy=\"161.939\" r=\"2\"/>\n",
       "<circle clip-path=\"url(#clip912)\" style=\"fill:#e26f46; stroke:none; fill-opacity:0\" cx=\"1275.32\" cy=\"1445.72\" r=\"2\"/>\n",
       "<circle clip-path=\"url(#clip912)\" style=\"fill:#e26f46; stroke:none; fill-opacity:0\" cx=\"1327.08\" cy=\"1445.72\" r=\"2\"/>\n",
       "<circle clip-path=\"url(#clip912)\" style=\"fill:#e26f46; stroke:none; fill-opacity:0\" cx=\"1378.84\" cy=\"1445.72\" r=\"2\"/>\n",
       "<circle clip-path=\"url(#clip912)\" style=\"fill:#e26f46; stroke:none; fill-opacity:0\" cx=\"1430.59\" cy=\"1445.72\" r=\"2\"/>\n",
       "<circle clip-path=\"url(#clip912)\" style=\"fill:#e26f46; stroke:none; fill-opacity:0\" cx=\"1482.35\" cy=\"87.9763\" r=\"2\"/>\n",
       "<path clip-path=\"url(#clip910)\" d=\"M1842.71 250.738 L2280.06 250.738 L2280.06 95.2176 L1842.71 95.2176  Z\" fill=\"#ffffff\" fill-rule=\"evenodd\" fill-opacity=\"1\"/>\n",
       "<polyline clip-path=\"url(#clip910)\" style=\"stroke:#000000; stroke-linecap:round; stroke-linejoin:round; stroke-width:4; stroke-opacity:1; fill:none\" points=\"1842.71,250.738 2280.06,250.738 2280.06,95.2176 1842.71,95.2176 1842.71,250.738 \"/>\n",
       "<path clip-path=\"url(#clip910)\" d=\"M1866.94 167.794 L2012.32 167.794 L2012.32 126.322 L1866.94 126.322 L1866.94 167.794  Z\" fill=\"#009af9\" fill-rule=\"evenodd\" fill-opacity=\"1\"/>\n",
       "<polyline clip-path=\"url(#clip910)\" style=\"stroke:#000000; stroke-linecap:round; stroke-linejoin:round; stroke-width:4; stroke-opacity:1; fill:none\" points=\"1866.94,167.794 2012.32,167.794 2012.32,126.322 1866.94,126.322 1866.94,167.794 \"/>\n",
       "<path clip-path=\"url(#clip910)\" d=\"M2054.98 139.176 L2054.98 143.203 Q2053.17 142.277 2051.23 141.815 Q2049.28 141.352 2047.2 141.352 Q2044.03 141.352 2042.43 142.324 Q2040.86 143.296 2040.86 145.24 Q2040.86 146.722 2041.99 147.578 Q2043.13 148.412 2046.55 149.176 L2048.01 149.5 Q2052.55 150.472 2054.45 152.254 Q2056.37 154.014 2056.37 157.185 Q2056.37 160.796 2053.5 162.902 Q2050.65 165.009 2045.65 165.009 Q2043.57 165.009 2041.3 164.592 Q2039.05 164.199 2036.55 163.388 L2036.55 158.99 Q2038.91 160.217 2041.21 160.842 Q2043.5 161.444 2045.74 161.444 Q2048.75 161.444 2050.37 160.426 Q2051.99 159.384 2051.99 157.509 Q2051.99 155.773 2050.81 154.847 Q2049.65 153.921 2045.7 153.064 L2044.21 152.717 Q2040.26 151.884 2038.5 150.171 Q2036.74 148.435 2036.74 145.426 Q2036.74 141.768 2039.33 139.778 Q2041.92 137.787 2046.69 137.787 Q2049.05 137.787 2051.14 138.134 Q2053.22 138.481 2054.98 139.176 Z\" fill=\"#000000\" fill-rule=\"evenodd\" fill-opacity=\"1\" /><path clip-path=\"url(#clip910)\" d=\"M2074.93 151.305 Q2069.77 151.305 2067.78 152.486 Q2065.79 153.666 2065.79 156.514 Q2065.79 158.782 2067.27 160.125 Q2068.77 161.444 2071.34 161.444 Q2074.89 161.444 2077.02 158.944 Q2079.17 156.421 2079.17 152.254 L2079.17 151.305 L2074.93 151.305 M2083.43 149.546 L2083.43 164.338 L2079.17 164.338 L2079.17 160.402 Q2077.71 162.763 2075.53 163.898 Q2073.36 165.009 2070.21 165.009 Q2066.23 165.009 2063.87 162.787 Q2061.53 160.541 2061.53 156.791 Q2061.53 152.416 2064.45 150.194 Q2067.39 147.972 2073.2 147.972 L2079.17 147.972 L2079.17 147.555 Q2079.17 144.615 2077.22 143.018 Q2075.3 141.398 2071.81 141.398 Q2069.59 141.398 2067.48 141.93 Q2065.37 142.463 2063.43 143.527 L2063.43 139.592 Q2065.77 138.69 2067.96 138.25 Q2070.16 137.787 2072.25 137.787 Q2077.87 137.787 2080.65 140.703 Q2083.43 143.62 2083.43 149.546 Z\" fill=\"#000000\" fill-rule=\"evenodd\" fill-opacity=\"1\" /><path clip-path=\"url(#clip910)\" d=\"M2112.39 143.389 Q2113.98 140.518 2116.21 139.153 Q2118.43 137.787 2121.44 137.787 Q2125.49 137.787 2127.69 140.634 Q2129.89 143.458 2129.89 148.689 L2129.89 164.338 L2125.6 164.338 L2125.6 148.828 Q2125.6 145.102 2124.28 143.296 Q2122.96 141.49 2120.26 141.49 Q2116.95 141.49 2115.02 143.69 Q2113.1 145.889 2113.1 149.685 L2113.1 164.338 L2108.82 164.338 L2108.82 148.828 Q2108.82 145.078 2107.5 143.296 Q2106.18 141.49 2103.43 141.49 Q2100.16 141.49 2098.24 143.713 Q2096.32 145.912 2096.32 149.685 L2096.32 164.338 L2092.04 164.338 L2092.04 138.412 L2096.32 138.412 L2096.32 142.44 Q2097.78 140.055 2099.82 138.921 Q2101.85 137.787 2104.65 137.787 Q2107.48 137.787 2109.45 139.222 Q2111.44 140.657 2112.39 143.389 Z\" fill=\"#000000\" fill-rule=\"evenodd\" fill-opacity=\"1\" /><path clip-path=\"url(#clip910)\" d=\"M2142.5 160.449 L2142.5 174.199 L2138.22 174.199 L2138.22 138.412 L2142.5 138.412 L2142.5 142.347 Q2143.84 140.032 2145.88 138.921 Q2147.94 137.787 2150.79 137.787 Q2155.51 137.787 2158.45 141.537 Q2161.41 145.287 2161.41 151.398 Q2161.41 157.509 2158.45 161.259 Q2155.51 165.009 2150.79 165.009 Q2147.94 165.009 2145.88 163.898 Q2143.84 162.763 2142.5 160.449 M2156.99 151.398 Q2156.99 146.699 2155.05 144.037 Q2153.13 141.352 2149.75 141.352 Q2146.37 141.352 2144.42 144.037 Q2142.5 146.699 2142.5 151.398 Q2142.5 156.097 2144.42 158.782 Q2146.37 161.444 2149.75 161.444 Q2153.13 161.444 2155.05 158.782 Q2156.99 156.097 2156.99 151.398 Z\" fill=\"#000000\" fill-rule=\"evenodd\" fill-opacity=\"1\" /><path clip-path=\"url(#clip910)\" d=\"M2168.47 128.319 L2172.73 128.319 L2172.73 164.338 L2168.47 164.338 L2168.47 128.319 Z\" fill=\"#000000\" fill-rule=\"evenodd\" fill-opacity=\"1\" /><path clip-path=\"url(#clip910)\" d=\"M2203.82 150.31 L2203.82 152.393 L2184.24 152.393 Q2184.52 156.791 2186.88 159.106 Q2189.26 161.398 2193.5 161.398 Q2195.95 161.398 2198.24 160.796 Q2200.56 160.194 2202.83 158.99 L2202.83 163.018 Q2200.53 163.99 2198.13 164.5 Q2195.72 165.009 2193.24 165.009 Q2187.04 165.009 2183.4 161.398 Q2179.79 157.787 2179.79 151.629 Q2179.79 145.264 2183.22 141.537 Q2186.67 137.787 2192.5 137.787 Q2197.73 137.787 2200.76 141.166 Q2203.82 144.523 2203.82 150.31 M2199.56 149.06 Q2199.51 145.565 2197.59 143.481 Q2195.7 141.398 2192.55 141.398 Q2188.98 141.398 2186.83 143.412 Q2184.7 145.426 2184.38 149.083 L2199.56 149.06 Z\" fill=\"#000000\" fill-rule=\"evenodd\" fill-opacity=\"1\" /><path clip-path=\"url(#clip910)\" d=\"M2230.51 172.208 L2230.51 175.518 L2205.88 175.518 L2205.88 172.208 L2230.51 172.208 Z\" fill=\"#000000\" fill-rule=\"evenodd\" fill-opacity=\"1\" /><path clip-path=\"url(#clip910)\" d=\"M2235.93 160.402 L2243.57 160.402 L2243.57 134.037 L2235.26 135.703 L2235.26 131.444 L2243.52 129.778 L2248.2 129.778 L2248.2 160.402 L2255.83 160.402 L2255.83 164.338 L2235.93 164.338 L2235.93 160.402 Z\" fill=\"#000000\" fill-rule=\"evenodd\" fill-opacity=\"1\" /><path clip-path=\"url(#clip910)\" d=\"M1866.94 219.634 L2012.32 219.634 L2012.32 178.162 L1866.94 178.162 L1866.94 219.634  Z\" fill=\"#e26f46\" fill-rule=\"evenodd\" fill-opacity=\"1\"/>\n",
       "<polyline clip-path=\"url(#clip910)\" style=\"stroke:#000000; stroke-linecap:round; stroke-linejoin:round; stroke-width:4; stroke-opacity:1; fill:none\" points=\"1866.94,219.634 2012.32,219.634 2012.32,178.162 1866.94,178.162 1866.94,219.634 \"/>\n",
       "<path clip-path=\"url(#clip910)\" d=\"M2054.98 191.016 L2054.98 195.043 Q2053.17 194.117 2051.23 193.655 Q2049.28 193.192 2047.2 193.192 Q2044.03 193.192 2042.43 194.164 Q2040.86 195.136 2040.86 197.08 Q2040.86 198.562 2041.99 199.418 Q2043.13 200.252 2046.55 201.016 L2048.01 201.34 Q2052.55 202.312 2054.45 204.094 Q2056.37 205.854 2056.37 209.025 Q2056.37 212.636 2053.5 214.742 Q2050.65 216.849 2045.65 216.849 Q2043.57 216.849 2041.3 216.432 Q2039.05 216.039 2036.55 215.228 L2036.55 210.83 Q2038.91 212.057 2041.21 212.682 Q2043.5 213.284 2045.74 213.284 Q2048.75 213.284 2050.37 212.266 Q2051.99 211.224 2051.99 209.349 Q2051.99 207.613 2050.81 206.687 Q2049.65 205.761 2045.7 204.904 L2044.21 204.557 Q2040.26 203.724 2038.5 202.011 Q2036.74 200.275 2036.74 197.266 Q2036.74 193.608 2039.33 191.618 Q2041.92 189.627 2046.69 189.627 Q2049.05 189.627 2051.14 189.974 Q2053.22 190.321 2054.98 191.016 Z\" fill=\"#000000\" fill-rule=\"evenodd\" fill-opacity=\"1\" /><path clip-path=\"url(#clip910)\" d=\"M2074.93 203.145 Q2069.77 203.145 2067.78 204.326 Q2065.79 205.506 2065.79 208.354 Q2065.79 210.622 2067.27 211.965 Q2068.77 213.284 2071.34 213.284 Q2074.89 213.284 2077.02 210.784 Q2079.17 208.261 2079.17 204.094 L2079.17 203.145 L2074.93 203.145 M2083.43 201.386 L2083.43 216.178 L2079.17 216.178 L2079.17 212.242 Q2077.71 214.603 2075.53 215.738 Q2073.36 216.849 2070.21 216.849 Q2066.23 216.849 2063.87 214.627 Q2061.53 212.381 2061.53 208.631 Q2061.53 204.256 2064.45 202.034 Q2067.39 199.812 2073.2 199.812 L2079.17 199.812 L2079.17 199.395 Q2079.17 196.455 2077.22 194.858 Q2075.3 193.238 2071.81 193.238 Q2069.59 193.238 2067.48 193.77 Q2065.37 194.303 2063.43 195.367 L2063.43 191.432 Q2065.77 190.53 2067.96 190.09 Q2070.16 189.627 2072.25 189.627 Q2077.87 189.627 2080.65 192.543 Q2083.43 195.46 2083.43 201.386 Z\" fill=\"#000000\" fill-rule=\"evenodd\" fill-opacity=\"1\" /><path clip-path=\"url(#clip910)\" d=\"M2112.39 195.229 Q2113.98 192.358 2116.21 190.993 Q2118.43 189.627 2121.44 189.627 Q2125.49 189.627 2127.69 192.474 Q2129.89 195.298 2129.89 200.529 L2129.89 216.178 L2125.6 216.178 L2125.6 200.668 Q2125.6 196.942 2124.28 195.136 Q2122.96 193.33 2120.26 193.33 Q2116.95 193.33 2115.02 195.53 Q2113.1 197.729 2113.1 201.525 L2113.1 216.178 L2108.82 216.178 L2108.82 200.668 Q2108.82 196.918 2107.5 195.136 Q2106.18 193.33 2103.43 193.33 Q2100.16 193.33 2098.24 195.553 Q2096.32 197.752 2096.32 201.525 L2096.32 216.178 L2092.04 216.178 L2092.04 190.252 L2096.32 190.252 L2096.32 194.28 Q2097.78 191.895 2099.82 190.761 Q2101.85 189.627 2104.65 189.627 Q2107.48 189.627 2109.45 191.062 Q2111.44 192.497 2112.39 195.229 Z\" fill=\"#000000\" fill-rule=\"evenodd\" fill-opacity=\"1\" /><path clip-path=\"url(#clip910)\" d=\"M2142.5 212.289 L2142.5 226.039 L2138.22 226.039 L2138.22 190.252 L2142.5 190.252 L2142.5 194.187 Q2143.84 191.872 2145.88 190.761 Q2147.94 189.627 2150.79 189.627 Q2155.51 189.627 2158.45 193.377 Q2161.41 197.127 2161.41 203.238 Q2161.41 209.349 2158.45 213.099 Q2155.51 216.849 2150.79 216.849 Q2147.94 216.849 2145.88 215.738 Q2143.84 214.603 2142.5 212.289 M2156.99 203.238 Q2156.99 198.539 2155.05 195.877 Q2153.13 193.192 2149.75 193.192 Q2146.37 193.192 2144.42 195.877 Q2142.5 198.539 2142.5 203.238 Q2142.5 207.937 2144.42 210.622 Q2146.37 213.284 2149.75 213.284 Q2153.13 213.284 2155.05 210.622 Q2156.99 207.937 2156.99 203.238 Z\" fill=\"#000000\" fill-rule=\"evenodd\" fill-opacity=\"1\" /><path clip-path=\"url(#clip910)\" d=\"M2168.47 180.159 L2172.73 180.159 L2172.73 216.178 L2168.47 216.178 L2168.47 180.159 Z\" fill=\"#000000\" fill-rule=\"evenodd\" fill-opacity=\"1\" /><path clip-path=\"url(#clip910)\" d=\"M2203.82 202.15 L2203.82 204.233 L2184.24 204.233 Q2184.52 208.631 2186.88 210.946 Q2189.26 213.238 2193.5 213.238 Q2195.95 213.238 2198.24 212.636 Q2200.56 212.034 2202.83 210.83 L2202.83 214.858 Q2200.53 215.83 2198.13 216.34 Q2195.72 216.849 2193.24 216.849 Q2187.04 216.849 2183.4 213.238 Q2179.79 209.627 2179.79 203.469 Q2179.79 197.104 2183.22 193.377 Q2186.67 189.627 2192.5 189.627 Q2197.73 189.627 2200.76 193.006 Q2203.82 196.363 2203.82 202.15 M2199.56 200.9 Q2199.51 197.405 2197.59 195.321 Q2195.7 193.238 2192.55 193.238 Q2188.98 193.238 2186.83 195.252 Q2184.7 197.266 2184.38 200.923 L2199.56 200.9 Z\" fill=\"#000000\" fill-rule=\"evenodd\" fill-opacity=\"1\" /><path clip-path=\"url(#clip910)\" d=\"M2230.51 224.048 L2230.51 227.358 L2205.88 227.358 L2205.88 224.048 L2230.51 224.048 Z\" fill=\"#000000\" fill-rule=\"evenodd\" fill-opacity=\"1\" /><path clip-path=\"url(#clip910)\" d=\"M2239.14 212.242 L2255.46 212.242 L2255.46 216.178 L2233.52 216.178 L2233.52 212.242 Q2236.18 209.488 2240.76 204.858 Q2245.37 200.205 2246.55 198.863 Q2248.8 196.34 2249.68 194.604 Q2250.58 192.844 2250.58 191.155 Q2250.58 188.4 2248.64 186.664 Q2246.71 184.928 2243.61 184.928 Q2241.41 184.928 2238.96 185.692 Q2236.53 186.455 2233.75 188.006 L2233.75 183.284 Q2236.57 182.15 2239.03 181.571 Q2241.48 180.993 2243.52 180.993 Q2248.89 180.993 2252.08 183.678 Q2255.28 186.363 2255.28 190.854 Q2255.28 192.983 2254.47 194.905 Q2253.68 196.803 2251.57 199.395 Q2251 200.067 2247.89 203.284 Q2244.79 206.479 2239.14 212.242 Z\" fill=\"#000000\" fill-rule=\"evenodd\" fill-opacity=\"1\" /></svg>\n"
      ]
     },
     "execution_count": 11,
     "metadata": {},
     "output_type": "execute_result"
    }
   ],
   "source": [
    "histogram(Sample_1, labels=\"sample_1\")\n",
    "histogram!(Sample_2, labels=\"sample_2\")"
   ]
  },
  {
   "cell_type": "markdown",
   "id": "b90287bd",
   "metadata": {},
   "source": [
    "### 3.6\n",
    "\n",
    "#### Draw 10000 samples from the two distributions separately and plot them in the same plot"
   ]
  },
  {
   "cell_type": "code",
   "execution_count": 12,
   "id": "98a69dd1",
   "metadata": {},
   "outputs": [
    {
     "data": {
      "image/svg+xml": [
       "<?xml version=\"1.0\" encoding=\"utf-8\"?>\n",
       "<svg xmlns=\"http://www.w3.org/2000/svg\" xmlns:xlink=\"http://www.w3.org/1999/xlink\" width=\"600\" height=\"400\" viewBox=\"0 0 2400 1600\">\n",
       "<defs>\n",
       "  <clipPath id=\"clip950\">\n",
       "    <rect x=\"0\" y=\"0\" width=\"2400\" height=\"1600\"/>\n",
       "  </clipPath>\n",
       "</defs>\n",
       "<path clip-path=\"url(#clip950)\" d=\"M0 1600 L2400 1600 L2400 0 L0 0  Z\" fill=\"#ffffff\" fill-rule=\"evenodd\" fill-opacity=\"1\"/>\n",
       "<defs>\n",
       "  <clipPath id=\"clip951\">\n",
       "    <rect x=\"480\" y=\"0\" width=\"1681\" height=\"1600\"/>\n",
       "  </clipPath>\n",
       "</defs>\n",
       "<path clip-path=\"url(#clip950)\" d=\"M202.177 1486.45 L2352.76 1486.45 L2352.76 47.2441 L202.177 47.2441  Z\" fill=\"#ffffff\" fill-rule=\"evenodd\" fill-opacity=\"1\"/>\n",
       "<defs>\n",
       "  <clipPath id=\"clip952\">\n",
       "    <rect x=\"202\" y=\"47\" width=\"2152\" height=\"1440\"/>\n",
       "  </clipPath>\n",
       "</defs>\n",
       "<polyline clip-path=\"url(#clip952)\" style=\"stroke:#000000; stroke-linecap:round; stroke-linejoin:round; stroke-width:2; stroke-opacity:0.1; fill:none\" points=\"214.129,1486.45 214.129,47.2441 \"/>\n",
       "<polyline clip-path=\"url(#clip952)\" style=\"stroke:#000000; stroke-linecap:round; stroke-linejoin:round; stroke-width:2; stroke-opacity:0.1; fill:none\" points=\"745.797,1486.45 745.797,47.2441 \"/>\n",
       "<polyline clip-path=\"url(#clip952)\" style=\"stroke:#000000; stroke-linecap:round; stroke-linejoin:round; stroke-width:2; stroke-opacity:0.1; fill:none\" points=\"1277.47,1486.45 1277.47,47.2441 \"/>\n",
       "<polyline clip-path=\"url(#clip952)\" style=\"stroke:#000000; stroke-linecap:round; stroke-linejoin:round; stroke-width:2; stroke-opacity:0.1; fill:none\" points=\"1809.14,1486.45 1809.14,47.2441 \"/>\n",
       "<polyline clip-path=\"url(#clip952)\" style=\"stroke:#000000; stroke-linecap:round; stroke-linejoin:round; stroke-width:2; stroke-opacity:0.1; fill:none\" points=\"2340.8,1486.45 2340.8,47.2441 \"/>\n",
       "<polyline clip-path=\"url(#clip950)\" style=\"stroke:#000000; stroke-linecap:round; stroke-linejoin:round; stroke-width:4; stroke-opacity:1; fill:none\" points=\"202.177,1486.45 2352.76,1486.45 \"/>\n",
       "<polyline clip-path=\"url(#clip950)\" style=\"stroke:#000000; stroke-linecap:round; stroke-linejoin:round; stroke-width:4; stroke-opacity:1; fill:none\" points=\"214.129,1486.45 214.129,1467.55 \"/>\n",
       "<polyline clip-path=\"url(#clip950)\" style=\"stroke:#000000; stroke-linecap:round; stroke-linejoin:round; stroke-width:4; stroke-opacity:1; fill:none\" points=\"745.797,1486.45 745.797,1467.55 \"/>\n",
       "<polyline clip-path=\"url(#clip950)\" style=\"stroke:#000000; stroke-linecap:round; stroke-linejoin:round; stroke-width:4; stroke-opacity:1; fill:none\" points=\"1277.47,1486.45 1277.47,1467.55 \"/>\n",
       "<polyline clip-path=\"url(#clip950)\" style=\"stroke:#000000; stroke-linecap:round; stroke-linejoin:round; stroke-width:4; stroke-opacity:1; fill:none\" points=\"1809.14,1486.45 1809.14,1467.55 \"/>\n",
       "<polyline clip-path=\"url(#clip950)\" style=\"stroke:#000000; stroke-linecap:round; stroke-linejoin:round; stroke-width:4; stroke-opacity:1; fill:none\" points=\"2340.8,1486.45 2340.8,1467.55 \"/>\n",
       "<path clip-path=\"url(#clip950)\" d=\"M183.029 1532.02 L212.705 1532.02 L212.705 1535.95 L183.029 1535.95 L183.029 1532.02 Z\" fill=\"#000000\" fill-rule=\"evenodd\" fill-opacity=\"1\" /><path clip-path=\"url(#clip950)\" d=\"M235.645 1518.36 L223.839 1536.81 L235.645 1536.81 L235.645 1518.36 M234.418 1514.29 L240.297 1514.29 L240.297 1536.81 L245.228 1536.81 L245.228 1540.7 L240.297 1540.7 L240.297 1548.85 L235.645 1548.85 L235.645 1540.7 L220.043 1540.7 L220.043 1536.19 L234.418 1514.29 Z\" fill=\"#000000\" fill-rule=\"evenodd\" fill-opacity=\"1\" /><path clip-path=\"url(#clip950)\" d=\"M715.74 1532.02 L745.416 1532.02 L745.416 1535.95 L715.74 1535.95 L715.74 1532.02 Z\" fill=\"#000000\" fill-rule=\"evenodd\" fill-opacity=\"1\" /><path clip-path=\"url(#clip950)\" d=\"M759.536 1544.91 L775.855 1544.91 L775.855 1548.85 L753.911 1548.85 L753.911 1544.91 Q756.573 1542.16 761.156 1537.53 Q765.763 1532.88 766.943 1531.53 Q769.189 1529.01 770.068 1527.27 Q770.971 1525.51 770.971 1523.82 Q770.971 1521.07 769.026 1519.33 Q767.105 1517.6 764.003 1517.6 Q761.804 1517.6 759.351 1518.36 Q756.92 1519.13 754.142 1520.68 L754.142 1515.95 Q756.966 1514.82 759.42 1514.24 Q761.874 1513.66 763.911 1513.66 Q769.281 1513.66 772.476 1516.35 Q775.67 1519.03 775.67 1523.52 Q775.67 1525.65 774.86 1527.57 Q774.073 1529.47 771.966 1532.07 Q771.388 1532.74 768.286 1535.95 Q765.184 1539.15 759.536 1544.91 Z\" fill=\"#000000\" fill-rule=\"evenodd\" fill-opacity=\"1\" /><path clip-path=\"url(#clip950)\" d=\"M1277.47 1517.37 Q1273.86 1517.37 1272.03 1520.93 Q1270.22 1524.47 1270.22 1531.6 Q1270.22 1538.71 1272.03 1542.27 Q1273.86 1545.82 1277.47 1545.82 Q1281.1 1545.82 1282.91 1542.27 Q1284.73 1538.71 1284.73 1531.6 Q1284.73 1524.47 1282.91 1520.93 Q1281.1 1517.37 1277.47 1517.37 M1277.47 1513.66 Q1283.28 1513.66 1286.33 1518.27 Q1289.41 1522.85 1289.41 1531.6 Q1289.41 1540.33 1286.33 1544.94 Q1283.28 1549.52 1277.47 1549.52 Q1271.66 1549.52 1268.58 1544.94 Q1265.52 1540.33 1265.52 1531.6 Q1265.52 1522.85 1268.58 1518.27 Q1271.66 1513.66 1277.47 1513.66 Z\" fill=\"#000000\" fill-rule=\"evenodd\" fill-opacity=\"1\" /><path clip-path=\"url(#clip950)\" d=\"M1803.79 1544.91 L1820.11 1544.91 L1820.11 1548.85 L1798.16 1548.85 L1798.16 1544.91 Q1800.83 1542.16 1805.41 1537.53 Q1810.01 1532.88 1811.2 1531.53 Q1813.44 1529.01 1814.32 1527.27 Q1815.22 1525.51 1815.22 1523.82 Q1815.22 1521.07 1813.28 1519.33 Q1811.36 1517.6 1808.26 1517.6 Q1806.06 1517.6 1803.6 1518.36 Q1801.17 1519.13 1798.39 1520.68 L1798.39 1515.95 Q1801.22 1514.82 1803.67 1514.24 Q1806.13 1513.66 1808.16 1513.66 Q1813.53 1513.66 1816.73 1516.35 Q1819.92 1519.03 1819.92 1523.52 Q1819.92 1525.65 1819.11 1527.57 Q1818.32 1529.47 1816.22 1532.07 Q1815.64 1532.74 1812.54 1535.95 Q1809.44 1539.15 1803.79 1544.91 Z\" fill=\"#000000\" fill-rule=\"evenodd\" fill-opacity=\"1\" /><path clip-path=\"url(#clip950)\" d=\"M2343.81 1518.36 L2332.01 1536.81 L2343.81 1536.81 L2343.81 1518.36 M2342.59 1514.29 L2348.47 1514.29 L2348.47 1536.81 L2353.4 1536.81 L2353.4 1540.7 L2348.47 1540.7 L2348.47 1548.85 L2343.81 1548.85 L2343.81 1540.7 L2328.21 1540.7 L2328.21 1536.19 L2342.59 1514.29 Z\" fill=\"#000000\" fill-rule=\"evenodd\" fill-opacity=\"1\" /><polyline clip-path=\"url(#clip952)\" style=\"stroke:#000000; stroke-linecap:round; stroke-linejoin:round; stroke-width:2; stroke-opacity:0.1; fill:none\" points=\"202.177,1445.72 2352.76,1445.72 \"/>\n",
       "<polyline clip-path=\"url(#clip952)\" style=\"stroke:#000000; stroke-linecap:round; stroke-linejoin:round; stroke-width:2; stroke-opacity:0.1; fill:none\" points=\"202.177,1175.47 2352.76,1175.47 \"/>\n",
       "<polyline clip-path=\"url(#clip952)\" style=\"stroke:#000000; stroke-linecap:round; stroke-linejoin:round; stroke-width:2; stroke-opacity:0.1; fill:none\" points=\"202.177,905.214 2352.76,905.214 \"/>\n",
       "<polyline clip-path=\"url(#clip952)\" style=\"stroke:#000000; stroke-linecap:round; stroke-linejoin:round; stroke-width:2; stroke-opacity:0.1; fill:none\" points=\"202.177,634.964 2352.76,634.964 \"/>\n",
       "<polyline clip-path=\"url(#clip952)\" style=\"stroke:#000000; stroke-linecap:round; stroke-linejoin:round; stroke-width:2; stroke-opacity:0.1; fill:none\" points=\"202.177,364.713 2352.76,364.713 \"/>\n",
       "<polyline clip-path=\"url(#clip952)\" style=\"stroke:#000000; stroke-linecap:round; stroke-linejoin:round; stroke-width:2; stroke-opacity:0.1; fill:none\" points=\"202.177,94.4623 2352.76,94.4623 \"/>\n",
       "<polyline clip-path=\"url(#clip950)\" style=\"stroke:#000000; stroke-linecap:round; stroke-linejoin:round; stroke-width:4; stroke-opacity:1; fill:none\" points=\"202.177,1486.45 202.177,47.2441 \"/>\n",
       "<polyline clip-path=\"url(#clip950)\" style=\"stroke:#000000; stroke-linecap:round; stroke-linejoin:round; stroke-width:4; stroke-opacity:1; fill:none\" points=\"202.177,1445.72 221.074,1445.72 \"/>\n",
       "<polyline clip-path=\"url(#clip950)\" style=\"stroke:#000000; stroke-linecap:round; stroke-linejoin:round; stroke-width:4; stroke-opacity:1; fill:none\" points=\"202.177,1175.47 221.074,1175.47 \"/>\n",
       "<polyline clip-path=\"url(#clip950)\" style=\"stroke:#000000; stroke-linecap:round; stroke-linejoin:round; stroke-width:4; stroke-opacity:1; fill:none\" points=\"202.177,905.214 221.074,905.214 \"/>\n",
       "<polyline clip-path=\"url(#clip950)\" style=\"stroke:#000000; stroke-linecap:round; stroke-linejoin:round; stroke-width:4; stroke-opacity:1; fill:none\" points=\"202.177,634.964 221.074,634.964 \"/>\n",
       "<polyline clip-path=\"url(#clip950)\" style=\"stroke:#000000; stroke-linecap:round; stroke-linejoin:round; stroke-width:4; stroke-opacity:1; fill:none\" points=\"202.177,364.713 221.074,364.713 \"/>\n",
       "<polyline clip-path=\"url(#clip950)\" style=\"stroke:#000000; stroke-linecap:round; stroke-linejoin:round; stroke-width:4; stroke-opacity:1; fill:none\" points=\"202.177,94.4623 221.074,94.4623 \"/>\n",
       "<path clip-path=\"url(#clip950)\" d=\"M154.232 1431.51 Q150.621 1431.51 148.793 1435.08 Q146.987 1438.62 146.987 1445.75 Q146.987 1452.86 148.793 1456.42 Q150.621 1459.96 154.232 1459.96 Q157.867 1459.96 159.672 1456.42 Q161.501 1452.86 161.501 1445.75 Q161.501 1438.62 159.672 1435.08 Q157.867 1431.51 154.232 1431.51 M154.232 1427.81 Q160.042 1427.81 163.098 1432.42 Q166.177 1437 166.177 1445.75 Q166.177 1454.48 163.098 1459.08 Q160.042 1463.67 154.232 1463.67 Q148.422 1463.67 145.343 1459.08 Q142.288 1454.48 142.288 1445.75 Q142.288 1437 145.343 1432.42 Q148.422 1427.81 154.232 1427.81 Z\" fill=\"#000000\" fill-rule=\"evenodd\" fill-opacity=\"1\" /><path clip-path=\"url(#clip950)\" d=\"M54.5569 1188.81 L62.1958 1188.81 L62.1958 1162.44 L53.8856 1164.11 L53.8856 1159.85 L62.1495 1158.19 L66.8254 1158.19 L66.8254 1188.81 L74.4642 1188.81 L74.4642 1192.75 L54.5569 1192.75 L54.5569 1188.81 Z\" fill=\"#000000\" fill-rule=\"evenodd\" fill-opacity=\"1\" /><path clip-path=\"url(#clip950)\" d=\"M93.9086 1161.26 Q90.2975 1161.26 88.4688 1164.83 Q86.6632 1168.37 86.6632 1175.5 Q86.6632 1182.61 88.4688 1186.17 Q90.2975 1189.71 93.9086 1189.71 Q97.5428 1189.71 99.3483 1186.17 Q101.177 1182.61 101.177 1175.5 Q101.177 1168.37 99.3483 1164.83 Q97.5428 1161.26 93.9086 1161.26 M93.9086 1157.56 Q99.7187 1157.56 102.774 1162.17 Q105.853 1166.75 105.853 1175.5 Q105.853 1184.23 102.774 1188.83 Q99.7187 1193.42 93.9086 1193.42 Q88.0984 1193.42 85.0197 1188.83 Q81.9642 1184.23 81.9642 1175.5 Q81.9642 1166.75 85.0197 1162.17 Q88.0984 1157.56 93.9086 1157.56 Z\" fill=\"#000000\" fill-rule=\"evenodd\" fill-opacity=\"1\" /><path clip-path=\"url(#clip950)\" d=\"M124.07 1161.26 Q120.459 1161.26 118.631 1164.83 Q116.825 1168.37 116.825 1175.5 Q116.825 1182.61 118.631 1186.17 Q120.459 1189.71 124.07 1189.71 Q127.705 1189.71 129.51 1186.17 Q131.339 1182.61 131.339 1175.5 Q131.339 1168.37 129.51 1164.83 Q127.705 1161.26 124.07 1161.26 M124.07 1157.56 Q129.881 1157.56 132.936 1162.17 Q136.015 1166.75 136.015 1175.5 Q136.015 1184.23 132.936 1188.83 Q129.881 1193.42 124.07 1193.42 Q118.26 1193.42 115.182 1188.83 Q112.126 1184.23 112.126 1175.5 Q112.126 1166.75 115.182 1162.17 Q118.26 1157.56 124.07 1157.56 Z\" fill=\"#000000\" fill-rule=\"evenodd\" fill-opacity=\"1\" /><path clip-path=\"url(#clip950)\" d=\"M154.232 1161.26 Q150.621 1161.26 148.793 1164.83 Q146.987 1168.37 146.987 1175.5 Q146.987 1182.61 148.793 1186.17 Q150.621 1189.71 154.232 1189.71 Q157.867 1189.71 159.672 1186.17 Q161.501 1182.61 161.501 1175.5 Q161.501 1168.37 159.672 1164.83 Q157.867 1161.26 154.232 1161.26 M154.232 1157.56 Q160.042 1157.56 163.098 1162.17 Q166.177 1166.75 166.177 1175.5 Q166.177 1184.23 163.098 1188.83 Q160.042 1193.42 154.232 1193.42 Q148.422 1193.42 145.343 1188.83 Q142.288 1184.23 142.288 1175.5 Q142.288 1166.75 145.343 1162.17 Q148.422 1157.56 154.232 1157.56 Z\" fill=\"#000000\" fill-rule=\"evenodd\" fill-opacity=\"1\" /><path clip-path=\"url(#clip950)\" d=\"M57.7745 918.559 L74.0939 918.559 L74.0939 922.494 L52.1495 922.494 L52.1495 918.559 Q54.8115 915.805 59.3949 911.175 Q64.0013 906.522 65.1819 905.18 Q67.4272 902.656 68.3068 900.92 Q69.2096 899.161 69.2096 897.471 Q69.2096 894.717 67.2652 892.981 Q65.3439 891.244 62.2421 891.244 Q60.043 891.244 57.5893 892.008 Q55.1588 892.772 52.381 894.323 L52.381 889.601 Q55.2051 888.467 57.6588 887.888 Q60.1124 887.309 62.1495 887.309 Q67.5198 887.309 70.7142 889.995 Q73.9087 892.68 73.9087 897.17 Q73.9087 899.3 73.0985 901.221 Q72.3115 903.119 70.205 905.712 Q69.6263 906.383 66.5245 909.601 Q63.4226 912.795 57.7745 918.559 Z\" fill=\"#000000\" fill-rule=\"evenodd\" fill-opacity=\"1\" /><path clip-path=\"url(#clip950)\" d=\"M93.9086 891.013 Q90.2975 891.013 88.4688 894.578 Q86.6632 898.119 86.6632 905.249 Q86.6632 912.355 88.4688 915.92 Q90.2975 919.462 93.9086 919.462 Q97.5428 919.462 99.3483 915.92 Q101.177 912.355 101.177 905.249 Q101.177 898.119 99.3483 894.578 Q97.5428 891.013 93.9086 891.013 M93.9086 887.309 Q99.7187 887.309 102.774 891.916 Q105.853 896.499 105.853 905.249 Q105.853 913.976 102.774 918.582 Q99.7187 923.166 93.9086 923.166 Q88.0984 923.166 85.0197 918.582 Q81.9642 913.976 81.9642 905.249 Q81.9642 896.499 85.0197 891.916 Q88.0984 887.309 93.9086 887.309 Z\" fill=\"#000000\" fill-rule=\"evenodd\" fill-opacity=\"1\" /><path clip-path=\"url(#clip950)\" d=\"M124.07 891.013 Q120.459 891.013 118.631 894.578 Q116.825 898.119 116.825 905.249 Q116.825 912.355 118.631 915.92 Q120.459 919.462 124.07 919.462 Q127.705 919.462 129.51 915.92 Q131.339 912.355 131.339 905.249 Q131.339 898.119 129.51 894.578 Q127.705 891.013 124.07 891.013 M124.07 887.309 Q129.881 887.309 132.936 891.916 Q136.015 896.499 136.015 905.249 Q136.015 913.976 132.936 918.582 Q129.881 923.166 124.07 923.166 Q118.26 923.166 115.182 918.582 Q112.126 913.976 112.126 905.249 Q112.126 896.499 115.182 891.916 Q118.26 887.309 124.07 887.309 Z\" fill=\"#000000\" fill-rule=\"evenodd\" fill-opacity=\"1\" /><path clip-path=\"url(#clip950)\" d=\"M154.232 891.013 Q150.621 891.013 148.793 894.578 Q146.987 898.119 146.987 905.249 Q146.987 912.355 148.793 915.92 Q150.621 919.462 154.232 919.462 Q157.867 919.462 159.672 915.92 Q161.501 912.355 161.501 905.249 Q161.501 898.119 159.672 894.578 Q157.867 891.013 154.232 891.013 M154.232 887.309 Q160.042 887.309 163.098 891.916 Q166.177 896.499 166.177 905.249 Q166.177 913.976 163.098 918.582 Q160.042 923.166 154.232 923.166 Q148.422 923.166 145.343 918.582 Q142.288 913.976 142.288 905.249 Q142.288 896.499 145.343 891.916 Q148.422 887.309 154.232 887.309 Z\" fill=\"#000000\" fill-rule=\"evenodd\" fill-opacity=\"1\" /><path clip-path=\"url(#clip950)\" d=\"M67.9133 633.609 Q71.2698 634.327 73.1448 636.596 Q75.0429 638.864 75.0429 642.197 Q75.0429 647.313 71.5244 650.114 Q68.0059 652.915 61.5245 652.915 Q59.3486 652.915 57.0338 652.475 Q54.7421 652.058 52.2884 651.202 L52.2884 646.688 Q54.2328 647.822 56.5477 648.401 Q58.8625 648.98 61.3856 648.98 Q65.7837 648.98 68.0754 647.244 Q70.3902 645.508 70.3902 642.197 Q70.3902 639.142 68.2374 637.429 Q66.1078 635.693 62.2884 635.693 L58.2606 635.693 L58.2606 631.85 L62.4735 631.85 Q65.9226 631.85 67.7513 630.485 Q69.58 629.096 69.58 626.503 Q69.58 623.841 67.6819 622.429 Q65.8069 620.994 62.2884 620.994 Q60.3671 620.994 58.168 621.41 Q55.969 621.827 53.3301 622.707 L53.3301 618.54 Q55.9921 617.799 58.3069 617.429 Q60.6449 617.059 62.705 617.059 Q68.0291 617.059 71.1309 619.489 Q74.2327 621.897 74.2327 626.017 Q74.2327 628.887 72.5892 630.878 Q70.9457 632.846 67.9133 633.609 Z\" fill=\"#000000\" fill-rule=\"evenodd\" fill-opacity=\"1\" /><path clip-path=\"url(#clip950)\" d=\"M93.9086 620.762 Q90.2975 620.762 88.4688 624.327 Q86.6632 627.869 86.6632 634.998 Q86.6632 642.105 88.4688 645.67 Q90.2975 649.211 93.9086 649.211 Q97.5428 649.211 99.3483 645.67 Q101.177 642.105 101.177 634.998 Q101.177 627.869 99.3483 624.327 Q97.5428 620.762 93.9086 620.762 M93.9086 617.059 Q99.7187 617.059 102.774 621.665 Q105.853 626.248 105.853 634.998 Q105.853 643.725 102.774 648.332 Q99.7187 652.915 93.9086 652.915 Q88.0984 652.915 85.0197 648.332 Q81.9642 643.725 81.9642 634.998 Q81.9642 626.248 85.0197 621.665 Q88.0984 617.059 93.9086 617.059 Z\" fill=\"#000000\" fill-rule=\"evenodd\" fill-opacity=\"1\" /><path clip-path=\"url(#clip950)\" d=\"M124.07 620.762 Q120.459 620.762 118.631 624.327 Q116.825 627.869 116.825 634.998 Q116.825 642.105 118.631 645.67 Q120.459 649.211 124.07 649.211 Q127.705 649.211 129.51 645.67 Q131.339 642.105 131.339 634.998 Q131.339 627.869 129.51 624.327 Q127.705 620.762 124.07 620.762 M124.07 617.059 Q129.881 617.059 132.936 621.665 Q136.015 626.248 136.015 634.998 Q136.015 643.725 132.936 648.332 Q129.881 652.915 124.07 652.915 Q118.26 652.915 115.182 648.332 Q112.126 643.725 112.126 634.998 Q112.126 626.248 115.182 621.665 Q118.26 617.059 124.07 617.059 Z\" fill=\"#000000\" fill-rule=\"evenodd\" fill-opacity=\"1\" /><path clip-path=\"url(#clip950)\" d=\"M154.232 620.762 Q150.621 620.762 148.793 624.327 Q146.987 627.869 146.987 634.998 Q146.987 642.105 148.793 645.67 Q150.621 649.211 154.232 649.211 Q157.867 649.211 159.672 645.67 Q161.501 642.105 161.501 634.998 Q161.501 627.869 159.672 624.327 Q157.867 620.762 154.232 620.762 M154.232 617.059 Q160.042 617.059 163.098 621.665 Q166.177 626.248 166.177 634.998 Q166.177 643.725 163.098 648.332 Q160.042 652.915 154.232 652.915 Q148.422 652.915 145.343 648.332 Q142.288 643.725 142.288 634.998 Q142.288 626.248 145.343 621.665 Q148.422 617.059 154.232 617.059 Z\" fill=\"#000000\" fill-rule=\"evenodd\" fill-opacity=\"1\" /><path clip-path=\"url(#clip950)\" d=\"M66.5939 351.507 L54.7884 369.956 L66.5939 369.956 L66.5939 351.507 M65.367 347.433 L71.2466 347.433 L71.2466 369.956 L76.1772 369.956 L76.1772 373.845 L71.2466 373.845 L71.2466 381.993 L66.5939 381.993 L66.5939 373.845 L50.9921 373.845 L50.9921 369.331 L65.367 347.433 Z\" fill=\"#000000\" fill-rule=\"evenodd\" fill-opacity=\"1\" /><path clip-path=\"url(#clip950)\" d=\"M93.9086 350.512 Q90.2975 350.512 88.4688 354.076 Q86.6632 357.618 86.6632 364.748 Q86.6632 371.854 88.4688 375.419 Q90.2975 378.961 93.9086 378.961 Q97.5428 378.961 99.3483 375.419 Q101.177 371.854 101.177 364.748 Q101.177 357.618 99.3483 354.076 Q97.5428 350.512 93.9086 350.512 M93.9086 346.808 Q99.7187 346.808 102.774 351.414 Q105.853 355.998 105.853 364.748 Q105.853 373.475 102.774 378.081 Q99.7187 382.664 93.9086 382.664 Q88.0984 382.664 85.0197 378.081 Q81.9642 373.475 81.9642 364.748 Q81.9642 355.998 85.0197 351.414 Q88.0984 346.808 93.9086 346.808 Z\" fill=\"#000000\" fill-rule=\"evenodd\" fill-opacity=\"1\" /><path clip-path=\"url(#clip950)\" d=\"M124.07 350.512 Q120.459 350.512 118.631 354.076 Q116.825 357.618 116.825 364.748 Q116.825 371.854 118.631 375.419 Q120.459 378.961 124.07 378.961 Q127.705 378.961 129.51 375.419 Q131.339 371.854 131.339 364.748 Q131.339 357.618 129.51 354.076 Q127.705 350.512 124.07 350.512 M124.07 346.808 Q129.881 346.808 132.936 351.414 Q136.015 355.998 136.015 364.748 Q136.015 373.475 132.936 378.081 Q129.881 382.664 124.07 382.664 Q118.26 382.664 115.182 378.081 Q112.126 373.475 112.126 364.748 Q112.126 355.998 115.182 351.414 Q118.26 346.808 124.07 346.808 Z\" fill=\"#000000\" fill-rule=\"evenodd\" fill-opacity=\"1\" /><path clip-path=\"url(#clip950)\" d=\"M154.232 350.512 Q150.621 350.512 148.793 354.076 Q146.987 357.618 146.987 364.748 Q146.987 371.854 148.793 375.419 Q150.621 378.961 154.232 378.961 Q157.867 378.961 159.672 375.419 Q161.501 371.854 161.501 364.748 Q161.501 357.618 159.672 354.076 Q157.867 350.512 154.232 350.512 M154.232 346.808 Q160.042 346.808 163.098 351.414 Q166.177 355.998 166.177 364.748 Q166.177 373.475 163.098 378.081 Q160.042 382.664 154.232 382.664 Q148.422 382.664 145.343 378.081 Q142.288 373.475 142.288 364.748 Q142.288 355.998 145.343 351.414 Q148.422 346.808 154.232 346.808 Z\" fill=\"#000000\" fill-rule=\"evenodd\" fill-opacity=\"1\" /><path clip-path=\"url(#clip950)\" d=\"M53.793 77.1823 L72.1494 77.1823 L72.1494 81.1175 L58.0754 81.1175 L58.0754 89.5896 Q59.0939 89.2424 60.1124 89.0804 Q61.131 88.8952 62.1495 88.8952 Q67.9365 88.8952 71.3161 92.0665 Q74.6957 95.2378 74.6957 100.654 Q74.6957 106.233 71.2235 109.335 Q67.7513 112.414 61.4319 112.414 Q59.256 112.414 56.9875 112.043 Q54.7421 111.673 52.3347 110.932 L52.3347 106.233 Q54.418 107.367 56.6402 107.923 Q58.8625 108.478 61.3393 108.478 Q65.3439 108.478 67.6819 106.372 Q70.0198 104.265 70.0198 100.654 Q70.0198 97.0433 67.6819 94.9368 Q65.3439 92.8304 61.3393 92.8304 Q59.4643 92.8304 57.5893 93.247 Q55.7375 93.6637 53.793 94.5433 L53.793 77.1823 Z\" fill=\"#000000\" fill-rule=\"evenodd\" fill-opacity=\"1\" /><path clip-path=\"url(#clip950)\" d=\"M93.9086 80.261 Q90.2975 80.261 88.4688 83.8258 Q86.6632 87.3674 86.6632 94.497 Q86.6632 101.603 88.4688 105.168 Q90.2975 108.71 93.9086 108.71 Q97.5428 108.71 99.3483 105.168 Q101.177 101.603 101.177 94.497 Q101.177 87.3674 99.3483 83.8258 Q97.5428 80.261 93.9086 80.261 M93.9086 76.5573 Q99.7187 76.5573 102.774 81.1638 Q105.853 85.7471 105.853 94.497 Q105.853 103.224 102.774 107.83 Q99.7187 112.414 93.9086 112.414 Q88.0984 112.414 85.0197 107.83 Q81.9642 103.224 81.9642 94.497 Q81.9642 85.7471 85.0197 81.1638 Q88.0984 76.5573 93.9086 76.5573 Z\" fill=\"#000000\" fill-rule=\"evenodd\" fill-opacity=\"1\" /><path clip-path=\"url(#clip950)\" d=\"M124.07 80.261 Q120.459 80.261 118.631 83.8258 Q116.825 87.3674 116.825 94.497 Q116.825 101.603 118.631 105.168 Q120.459 108.71 124.07 108.71 Q127.705 108.71 129.51 105.168 Q131.339 101.603 131.339 94.497 Q131.339 87.3674 129.51 83.8258 Q127.705 80.261 124.07 80.261 M124.07 76.5573 Q129.881 76.5573 132.936 81.1638 Q136.015 85.7471 136.015 94.497 Q136.015 103.224 132.936 107.83 Q129.881 112.414 124.07 112.414 Q118.26 112.414 115.182 107.83 Q112.126 103.224 112.126 94.497 Q112.126 85.7471 115.182 81.1638 Q118.26 76.5573 124.07 76.5573 Z\" fill=\"#000000\" fill-rule=\"evenodd\" fill-opacity=\"1\" /><path clip-path=\"url(#clip950)\" d=\"M154.232 80.261 Q150.621 80.261 148.793 83.8258 Q146.987 87.3674 146.987 94.497 Q146.987 101.603 148.793 105.168 Q150.621 108.71 154.232 108.71 Q157.867 108.71 159.672 105.168 Q161.501 101.603 161.501 94.497 Q161.501 87.3674 159.672 83.8258 Q157.867 80.261 154.232 80.261 M154.232 76.5573 Q160.042 76.5573 163.098 81.1638 Q166.177 85.7471 166.177 94.497 Q166.177 103.224 163.098 107.83 Q160.042 112.414 154.232 112.414 Q148.422 112.414 145.343 107.83 Q142.288 103.224 142.288 94.497 Q142.288 85.7471 145.343 81.1638 Q148.422 76.5573 154.232 76.5573 Z\" fill=\"#000000\" fill-rule=\"evenodd\" fill-opacity=\"1\" /><path clip-path=\"url(#clip952)\" d=\"M320.462 1444.9 L320.462 1445.72 L373.629 1445.72 L373.629 1444.9 L320.462 1444.9 L320.462 1444.9  Z\" fill=\"#009af9\" fill-rule=\"evenodd\" fill-opacity=\"1\"/>\n",
       "<polyline clip-path=\"url(#clip952)\" style=\"stroke:#000000; stroke-linecap:round; stroke-linejoin:round; stroke-width:4; stroke-opacity:1; fill:none\" points=\"320.462,1444.9 320.462,1445.72 373.629,1445.72 373.629,1444.9 320.462,1444.9 \"/>\n",
       "<path clip-path=\"url(#clip952)\" d=\"M373.629 1444.63 L373.629 1445.72 L426.796 1445.72 L426.796 1444.63 L373.629 1444.63 L373.629 1444.63  Z\" fill=\"#009af9\" fill-rule=\"evenodd\" fill-opacity=\"1\"/>\n",
       "<polyline clip-path=\"url(#clip952)\" style=\"stroke:#000000; stroke-linecap:round; stroke-linejoin:round; stroke-width:4; stroke-opacity:1; fill:none\" points=\"373.629,1444.63 373.629,1445.72 426.796,1445.72 426.796,1444.63 373.629,1444.63 \"/>\n",
       "<path clip-path=\"url(#clip952)\" d=\"M426.796 1444.09 L426.796 1445.72 L479.963 1445.72 L479.963 1444.09 L426.796 1444.09 L426.796 1444.09  Z\" fill=\"#009af9\" fill-rule=\"evenodd\" fill-opacity=\"1\"/>\n",
       "<polyline clip-path=\"url(#clip952)\" style=\"stroke:#000000; stroke-linecap:round; stroke-linejoin:round; stroke-width:4; stroke-opacity:1; fill:none\" points=\"426.796,1444.09 426.796,1445.72 479.963,1445.72 479.963,1444.09 426.796,1444.09 \"/>\n",
       "<path clip-path=\"url(#clip952)\" d=\"M479.963 1443.28 L479.963 1445.72 L533.13 1445.72 L533.13 1443.28 L479.963 1443.28 L479.963 1443.28  Z\" fill=\"#009af9\" fill-rule=\"evenodd\" fill-opacity=\"1\"/>\n",
       "<polyline clip-path=\"url(#clip952)\" style=\"stroke:#000000; stroke-linecap:round; stroke-linejoin:round; stroke-width:4; stroke-opacity:1; fill:none\" points=\"479.963,1443.28 479.963,1445.72 533.13,1445.72 533.13,1443.28 479.963,1443.28 \"/>\n",
       "<path clip-path=\"url(#clip952)\" d=\"M533.13 1440.04 L533.13 1445.72 L586.297 1445.72 L586.297 1440.04 L533.13 1440.04 L533.13 1440.04  Z\" fill=\"#009af9\" fill-rule=\"evenodd\" fill-opacity=\"1\"/>\n",
       "<polyline clip-path=\"url(#clip952)\" style=\"stroke:#000000; stroke-linecap:round; stroke-linejoin:round; stroke-width:4; stroke-opacity:1; fill:none\" points=\"533.13,1440.04 533.13,1445.72 586.297,1445.72 586.297,1440.04 533.13,1440.04 \"/>\n",
       "<path clip-path=\"url(#clip952)\" d=\"M586.297 1436.8 L586.297 1445.72 L639.464 1445.72 L639.464 1436.8 L586.297 1436.8 L586.297 1436.8  Z\" fill=\"#009af9\" fill-rule=\"evenodd\" fill-opacity=\"1\"/>\n",
       "<polyline clip-path=\"url(#clip952)\" style=\"stroke:#000000; stroke-linecap:round; stroke-linejoin:round; stroke-width:4; stroke-opacity:1; fill:none\" points=\"586.297,1436.8 586.297,1445.72 639.464,1445.72 639.464,1436.8 586.297,1436.8 \"/>\n",
       "<path clip-path=\"url(#clip952)\" d=\"M639.464 1430.58 L639.464 1445.72 L692.631 1445.72 L692.631 1430.58 L639.464 1430.58 L639.464 1430.58  Z\" fill=\"#009af9\" fill-rule=\"evenodd\" fill-opacity=\"1\"/>\n",
       "<polyline clip-path=\"url(#clip952)\" style=\"stroke:#000000; stroke-linecap:round; stroke-linejoin:round; stroke-width:4; stroke-opacity:1; fill:none\" points=\"639.464,1430.58 639.464,1445.72 692.631,1445.72 692.631,1430.58 639.464,1430.58 \"/>\n",
       "<path clip-path=\"url(#clip952)\" d=\"M692.631 1415.45 L692.631 1445.72 L745.797 1445.72 L745.797 1415.45 L692.631 1415.45 L692.631 1415.45  Z\" fill=\"#009af9\" fill-rule=\"evenodd\" fill-opacity=\"1\"/>\n",
       "<polyline clip-path=\"url(#clip952)\" style=\"stroke:#000000; stroke-linecap:round; stroke-linejoin:round; stroke-width:4; stroke-opacity:1; fill:none\" points=\"692.631,1415.45 692.631,1445.72 745.797,1445.72 745.797,1415.45 692.631,1415.45 \"/>\n",
       "<path clip-path=\"url(#clip952)\" d=\"M745.797 1407.88 L745.797 1445.72 L798.964 1445.72 L798.964 1407.88 L745.797 1407.88 L745.797 1407.88  Z\" fill=\"#009af9\" fill-rule=\"evenodd\" fill-opacity=\"1\"/>\n",
       "<polyline clip-path=\"url(#clip952)\" style=\"stroke:#000000; stroke-linecap:round; stroke-linejoin:round; stroke-width:4; stroke-opacity:1; fill:none\" points=\"745.797,1407.88 745.797,1445.72 798.964,1445.72 798.964,1407.88 745.797,1407.88 \"/>\n",
       "<path clip-path=\"url(#clip952)\" d=\"M798.964 1393.83 L798.964 1445.72 L852.131 1445.72 L852.131 1393.83 L798.964 1393.83 L798.964 1393.83  Z\" fill=\"#009af9\" fill-rule=\"evenodd\" fill-opacity=\"1\"/>\n",
       "<polyline clip-path=\"url(#clip952)\" style=\"stroke:#000000; stroke-linecap:round; stroke-linejoin:round; stroke-width:4; stroke-opacity:1; fill:none\" points=\"798.964,1393.83 798.964,1445.72 852.131,1445.72 852.131,1393.83 798.964,1393.83 \"/>\n",
       "<path clip-path=\"url(#clip952)\" d=\"M852.131 1373.02 L852.131 1445.72 L905.298 1445.72 L905.298 1373.02 L852.131 1373.02 L852.131 1373.02  Z\" fill=\"#009af9\" fill-rule=\"evenodd\" fill-opacity=\"1\"/>\n",
       "<polyline clip-path=\"url(#clip952)\" style=\"stroke:#000000; stroke-linecap:round; stroke-linejoin:round; stroke-width:4; stroke-opacity:1; fill:none\" points=\"852.131,1373.02 852.131,1445.72 905.298,1445.72 905.298,1373.02 852.131,1373.02 \"/>\n",
       "<path clip-path=\"url(#clip952)\" d=\"M905.298 1348.43 L905.298 1445.72 L958.465 1445.72 L958.465 1348.43 L905.298 1348.43 L905.298 1348.43  Z\" fill=\"#009af9\" fill-rule=\"evenodd\" fill-opacity=\"1\"/>\n",
       "<polyline clip-path=\"url(#clip952)\" style=\"stroke:#000000; stroke-linecap:round; stroke-linejoin:round; stroke-width:4; stroke-opacity:1; fill:none\" points=\"905.298,1348.43 905.298,1445.72 958.465,1445.72 958.465,1348.43 905.298,1348.43 \"/>\n",
       "<path clip-path=\"url(#clip952)\" d=\"M958.465 1326.54 L958.465 1445.72 L1011.63 1445.72 L1011.63 1326.54 L958.465 1326.54 L958.465 1326.54  Z\" fill=\"#009af9\" fill-rule=\"evenodd\" fill-opacity=\"1\"/>\n",
       "<polyline clip-path=\"url(#clip952)\" style=\"stroke:#000000; stroke-linecap:round; stroke-linejoin:round; stroke-width:4; stroke-opacity:1; fill:none\" points=\"958.465,1326.54 958.465,1445.72 1011.63,1445.72 1011.63,1326.54 958.465,1326.54 \"/>\n",
       "<path clip-path=\"url(#clip952)\" d=\"M1011.63 1297.08 L1011.63 1445.72 L1064.8 1445.72 L1064.8 1297.08 L1011.63 1297.08 L1011.63 1297.08  Z\" fill=\"#009af9\" fill-rule=\"evenodd\" fill-opacity=\"1\"/>\n",
       "<polyline clip-path=\"url(#clip952)\" style=\"stroke:#000000; stroke-linecap:round; stroke-linejoin:round; stroke-width:4; stroke-opacity:1; fill:none\" points=\"1011.63,1297.08 1011.63,1445.72 1064.8,1445.72 1064.8,1297.08 1011.63,1297.08 \"/>\n",
       "<path clip-path=\"url(#clip952)\" d=\"M1064.8 1281.94 L1064.8 1445.72 L1117.97 1445.72 L1117.97 1281.94 L1064.8 1281.94 L1064.8 1281.94  Z\" fill=\"#009af9\" fill-rule=\"evenodd\" fill-opacity=\"1\"/>\n",
       "<polyline clip-path=\"url(#clip952)\" style=\"stroke:#000000; stroke-linecap:round; stroke-linejoin:round; stroke-width:4; stroke-opacity:1; fill:none\" points=\"1064.8,1281.94 1064.8,1445.72 1117.97,1445.72 1117.97,1281.94 1064.8,1281.94 \"/>\n",
       "<path clip-path=\"url(#clip952)\" d=\"M1117.97 1257.62 L1117.97 1445.72 L1171.13 1445.72 L1171.13 1257.62 L1117.97 1257.62 L1117.97 1257.62  Z\" fill=\"#009af9\" fill-rule=\"evenodd\" fill-opacity=\"1\"/>\n",
       "<polyline clip-path=\"url(#clip952)\" style=\"stroke:#000000; stroke-linecap:round; stroke-linejoin:round; stroke-width:4; stroke-opacity:1; fill:none\" points=\"1117.97,1257.62 1117.97,1445.72 1171.13,1445.72 1171.13,1257.62 1117.97,1257.62 \"/>\n",
       "<path clip-path=\"url(#clip952)\" d=\"M1171.13 1243.03 L1171.13 1445.72 L1224.3 1445.72 L1224.3 1243.03 L1171.13 1243.03 L1171.13 1243.03  Z\" fill=\"#009af9\" fill-rule=\"evenodd\" fill-opacity=\"1\"/>\n",
       "<polyline clip-path=\"url(#clip952)\" style=\"stroke:#000000; stroke-linecap:round; stroke-linejoin:round; stroke-width:4; stroke-opacity:1; fill:none\" points=\"1171.13,1243.03 1171.13,1445.72 1224.3,1445.72 1224.3,1243.03 1171.13,1243.03 \"/>\n",
       "<path clip-path=\"url(#clip952)\" d=\"M1224.3 1252.49 L1224.3 1445.72 L1277.47 1445.72 L1277.47 1252.49 L1224.3 1252.49 L1224.3 1252.49  Z\" fill=\"#009af9\" fill-rule=\"evenodd\" fill-opacity=\"1\"/>\n",
       "<polyline clip-path=\"url(#clip952)\" style=\"stroke:#000000; stroke-linecap:round; stroke-linejoin:round; stroke-width:4; stroke-opacity:1; fill:none\" points=\"1224.3,1252.49 1224.3,1445.72 1277.47,1445.72 1277.47,1252.49 1224.3,1252.49 \"/>\n",
       "<path clip-path=\"url(#clip952)\" d=\"M1277.47 1231.14 L1277.47 1445.72 L1330.63 1445.72 L1330.63 1231.14 L1277.47 1231.14 L1277.47 1231.14  Z\" fill=\"#009af9\" fill-rule=\"evenodd\" fill-opacity=\"1\"/>\n",
       "<polyline clip-path=\"url(#clip952)\" style=\"stroke:#000000; stroke-linecap:round; stroke-linejoin:round; stroke-width:4; stroke-opacity:1; fill:none\" points=\"1277.47,1231.14 1277.47,1445.72 1330.63,1445.72 1330.63,1231.14 1277.47,1231.14 \"/>\n",
       "<path clip-path=\"url(#clip952)\" d=\"M1330.63 1243.3 L1330.63 1445.72 L1383.8 1445.72 L1383.8 1243.3 L1330.63 1243.3 L1330.63 1243.3  Z\" fill=\"#009af9\" fill-rule=\"evenodd\" fill-opacity=\"1\"/>\n",
       "<polyline clip-path=\"url(#clip952)\" style=\"stroke:#000000; stroke-linecap:round; stroke-linejoin:round; stroke-width:4; stroke-opacity:1; fill:none\" points=\"1330.63,1243.3 1330.63,1445.72 1383.8,1445.72 1383.8,1243.3 1330.63,1243.3 \"/>\n",
       "<path clip-path=\"url(#clip952)\" d=\"M1383.8 1255.46 L1383.8 1445.72 L1436.97 1445.72 L1436.97 1255.46 L1383.8 1255.46 L1383.8 1255.46  Z\" fill=\"#009af9\" fill-rule=\"evenodd\" fill-opacity=\"1\"/>\n",
       "<polyline clip-path=\"url(#clip952)\" style=\"stroke:#000000; stroke-linecap:round; stroke-linejoin:round; stroke-width:4; stroke-opacity:1; fill:none\" points=\"1383.8,1255.46 1383.8,1445.72 1436.97,1445.72 1436.97,1255.46 1383.8,1255.46 \"/>\n",
       "<path clip-path=\"url(#clip952)\" d=\"M1436.97 1270.32 L1436.97 1445.72 L1490.13 1445.72 L1490.13 1270.32 L1436.97 1270.32 L1436.97 1270.32  Z\" fill=\"#009af9\" fill-rule=\"evenodd\" fill-opacity=\"1\"/>\n",
       "<polyline clip-path=\"url(#clip952)\" style=\"stroke:#000000; stroke-linecap:round; stroke-linejoin:round; stroke-width:4; stroke-opacity:1; fill:none\" points=\"1436.97,1270.32 1436.97,1445.72 1490.13,1445.72 1490.13,1270.32 1436.97,1270.32 \"/>\n",
       "<path clip-path=\"url(#clip952)\" d=\"M1490.13 1302.21 L1490.13 1445.72 L1543.3 1445.72 L1543.3 1302.21 L1490.13 1302.21 L1490.13 1302.21  Z\" fill=\"#009af9\" fill-rule=\"evenodd\" fill-opacity=\"1\"/>\n",
       "<polyline clip-path=\"url(#clip952)\" style=\"stroke:#000000; stroke-linecap:round; stroke-linejoin:round; stroke-width:4; stroke-opacity:1; fill:none\" points=\"1490.13,1302.21 1490.13,1445.72 1543.3,1445.72 1543.3,1302.21 1490.13,1302.21 \"/>\n",
       "<path clip-path=\"url(#clip952)\" d=\"M1543.3 1333.56 L1543.3 1445.72 L1596.47 1445.72 L1596.47 1333.56 L1543.3 1333.56 L1543.3 1333.56  Z\" fill=\"#009af9\" fill-rule=\"evenodd\" fill-opacity=\"1\"/>\n",
       "<polyline clip-path=\"url(#clip952)\" style=\"stroke:#000000; stroke-linecap:round; stroke-linejoin:round; stroke-width:4; stroke-opacity:1; fill:none\" points=\"1543.3,1333.56 1543.3,1445.72 1596.47,1445.72 1596.47,1333.56 1543.3,1333.56 \"/>\n",
       "<path clip-path=\"url(#clip952)\" d=\"M1596.47 1348.7 L1596.47 1445.72 L1649.63 1445.72 L1649.63 1348.7 L1596.47 1348.7 L1596.47 1348.7  Z\" fill=\"#009af9\" fill-rule=\"evenodd\" fill-opacity=\"1\"/>\n",
       "<polyline clip-path=\"url(#clip952)\" style=\"stroke:#000000; stroke-linecap:round; stroke-linejoin:round; stroke-width:4; stroke-opacity:1; fill:none\" points=\"1596.47,1348.7 1596.47,1445.72 1649.63,1445.72 1649.63,1348.7 1596.47,1348.7 \"/>\n",
       "<path clip-path=\"url(#clip952)\" d=\"M1649.63 1374.64 L1649.63 1445.72 L1702.8 1445.72 L1702.8 1374.64 L1649.63 1374.64 L1649.63 1374.64  Z\" fill=\"#009af9\" fill-rule=\"evenodd\" fill-opacity=\"1\"/>\n",
       "<polyline clip-path=\"url(#clip952)\" style=\"stroke:#000000; stroke-linecap:round; stroke-linejoin:round; stroke-width:4; stroke-opacity:1; fill:none\" points=\"1649.63,1374.64 1649.63,1445.72 1702.8,1445.72 1702.8,1374.64 1649.63,1374.64 \"/>\n",
       "<path clip-path=\"url(#clip952)\" d=\"M1702.8 1395.72 L1702.8 1445.72 L1755.97 1445.72 L1755.97 1395.72 L1702.8 1395.72 L1702.8 1395.72  Z\" fill=\"#009af9\" fill-rule=\"evenodd\" fill-opacity=\"1\"/>\n",
       "<polyline clip-path=\"url(#clip952)\" style=\"stroke:#000000; stroke-linecap:round; stroke-linejoin:round; stroke-width:4; stroke-opacity:1; fill:none\" points=\"1702.8,1395.72 1702.8,1445.72 1755.97,1445.72 1755.97,1395.72 1702.8,1395.72 \"/>\n",
       "<path clip-path=\"url(#clip952)\" d=\"M1755.97 1409.77 L1755.97 1445.72 L1809.14 1445.72 L1809.14 1409.77 L1755.97 1409.77 L1755.97 1409.77  Z\" fill=\"#009af9\" fill-rule=\"evenodd\" fill-opacity=\"1\"/>\n",
       "<polyline clip-path=\"url(#clip952)\" style=\"stroke:#000000; stroke-linecap:round; stroke-linejoin:round; stroke-width:4; stroke-opacity:1; fill:none\" points=\"1755.97,1409.77 1755.97,1445.72 1809.14,1445.72 1809.14,1409.77 1755.97,1409.77 \"/>\n",
       "<path clip-path=\"url(#clip952)\" d=\"M1809.14 1420.58 L1809.14 1445.72 L1862.3 1445.72 L1862.3 1420.58 L1809.14 1420.58 L1809.14 1420.58  Z\" fill=\"#009af9\" fill-rule=\"evenodd\" fill-opacity=\"1\"/>\n",
       "<polyline clip-path=\"url(#clip952)\" style=\"stroke:#000000; stroke-linecap:round; stroke-linejoin:round; stroke-width:4; stroke-opacity:1; fill:none\" points=\"1809.14,1420.58 1809.14,1445.72 1862.3,1445.72 1862.3,1420.58 1809.14,1420.58 \"/>\n",
       "<path clip-path=\"url(#clip952)\" d=\"M1862.3 1428.96 L1862.3 1445.72 L1915.47 1445.72 L1915.47 1428.96 L1862.3 1428.96 L1862.3 1428.96  Z\" fill=\"#009af9\" fill-rule=\"evenodd\" fill-opacity=\"1\"/>\n",
       "<polyline clip-path=\"url(#clip952)\" style=\"stroke:#000000; stroke-linecap:round; stroke-linejoin:round; stroke-width:4; stroke-opacity:1; fill:none\" points=\"1862.3,1428.96 1862.3,1445.72 1915.47,1445.72 1915.47,1428.96 1862.3,1428.96 \"/>\n",
       "<path clip-path=\"url(#clip952)\" d=\"M1915.47 1435.72 L1915.47 1445.72 L1968.64 1445.72 L1968.64 1435.72 L1915.47 1435.72 L1915.47 1435.72  Z\" fill=\"#009af9\" fill-rule=\"evenodd\" fill-opacity=\"1\"/>\n",
       "<polyline clip-path=\"url(#clip952)\" style=\"stroke:#000000; stroke-linecap:round; stroke-linejoin:round; stroke-width:4; stroke-opacity:1; fill:none\" points=\"1915.47,1435.72 1915.47,1445.72 1968.64,1445.72 1968.64,1435.72 1915.47,1435.72 \"/>\n",
       "<path clip-path=\"url(#clip952)\" d=\"M1968.64 1438.96 L1968.64 1445.72 L2021.8 1445.72 L2021.8 1438.96 L1968.64 1438.96 L1968.64 1438.96  Z\" fill=\"#009af9\" fill-rule=\"evenodd\" fill-opacity=\"1\"/>\n",
       "<polyline clip-path=\"url(#clip952)\" style=\"stroke:#000000; stroke-linecap:round; stroke-linejoin:round; stroke-width:4; stroke-opacity:1; fill:none\" points=\"1968.64,1438.96 1968.64,1445.72 2021.8,1445.72 2021.8,1438.96 1968.64,1438.96 \"/>\n",
       "<path clip-path=\"url(#clip952)\" d=\"M2021.8 1440.04 L2021.8 1445.72 L2074.97 1445.72 L2074.97 1440.04 L2021.8 1440.04 L2021.8 1440.04  Z\" fill=\"#009af9\" fill-rule=\"evenodd\" fill-opacity=\"1\"/>\n",
       "<polyline clip-path=\"url(#clip952)\" style=\"stroke:#000000; stroke-linecap:round; stroke-linejoin:round; stroke-width:4; stroke-opacity:1; fill:none\" points=\"2021.8,1440.04 2021.8,1445.72 2074.97,1445.72 2074.97,1440.04 2021.8,1440.04 \"/>\n",
       "<path clip-path=\"url(#clip952)\" d=\"M2074.97 1442.74 L2074.97 1445.72 L2128.14 1445.72 L2128.14 1442.74 L2074.97 1442.74 L2074.97 1442.74  Z\" fill=\"#009af9\" fill-rule=\"evenodd\" fill-opacity=\"1\"/>\n",
       "<polyline clip-path=\"url(#clip952)\" style=\"stroke:#000000; stroke-linecap:round; stroke-linejoin:round; stroke-width:4; stroke-opacity:1; fill:none\" points=\"2074.97,1442.74 2074.97,1445.72 2128.14,1445.72 2128.14,1442.74 2074.97,1442.74 \"/>\n",
       "<path clip-path=\"url(#clip952)\" d=\"M2128.14 1444.63 L2128.14 1445.72 L2181.3 1445.72 L2181.3 1444.63 L2128.14 1444.63 L2128.14 1444.63  Z\" fill=\"#009af9\" fill-rule=\"evenodd\" fill-opacity=\"1\"/>\n",
       "<polyline clip-path=\"url(#clip952)\" style=\"stroke:#000000; stroke-linecap:round; stroke-linejoin:round; stroke-width:4; stroke-opacity:1; fill:none\" points=\"2128.14,1444.63 2128.14,1445.72 2181.3,1445.72 2181.3,1444.63 2128.14,1444.63 \"/>\n",
       "<path clip-path=\"url(#clip952)\" d=\"M2181.3 1445.18 L2181.3 1445.72 L2234.47 1445.72 L2234.47 1445.18 L2181.3 1445.18 L2181.3 1445.18  Z\" fill=\"#009af9\" fill-rule=\"evenodd\" fill-opacity=\"1\"/>\n",
       "<polyline clip-path=\"url(#clip952)\" style=\"stroke:#000000; stroke-linecap:round; stroke-linejoin:round; stroke-width:4; stroke-opacity:1; fill:none\" points=\"2181.3,1445.18 2181.3,1445.72 2234.47,1445.72 2234.47,1445.18 2181.3,1445.18 \"/>\n",
       "<circle clip-path=\"url(#clip952)\" style=\"fill:#009af9; stroke:none; fill-opacity:0\" cx=\"347.046\" cy=\"1444.9\" r=\"2\"/>\n",
       "<circle clip-path=\"url(#clip952)\" style=\"fill:#009af9; stroke:none; fill-opacity:0\" cx=\"400.213\" cy=\"1444.63\" r=\"2\"/>\n",
       "<circle clip-path=\"url(#clip952)\" style=\"fill:#009af9; stroke:none; fill-opacity:0\" cx=\"453.38\" cy=\"1444.09\" r=\"2\"/>\n",
       "<circle clip-path=\"url(#clip952)\" style=\"fill:#009af9; stroke:none; fill-opacity:0\" cx=\"506.546\" cy=\"1443.28\" r=\"2\"/>\n",
       "<circle clip-path=\"url(#clip952)\" style=\"fill:#009af9; stroke:none; fill-opacity:0\" cx=\"559.713\" cy=\"1440.04\" r=\"2\"/>\n",
       "<circle clip-path=\"url(#clip952)\" style=\"fill:#009af9; stroke:none; fill-opacity:0\" cx=\"612.88\" cy=\"1436.8\" r=\"2\"/>\n",
       "<circle clip-path=\"url(#clip952)\" style=\"fill:#009af9; stroke:none; fill-opacity:0\" cx=\"666.047\" cy=\"1430.58\" r=\"2\"/>\n",
       "<circle clip-path=\"url(#clip952)\" style=\"fill:#009af9; stroke:none; fill-opacity:0\" cx=\"719.214\" cy=\"1415.45\" r=\"2\"/>\n",
       "<circle clip-path=\"url(#clip952)\" style=\"fill:#009af9; stroke:none; fill-opacity:0\" cx=\"772.381\" cy=\"1407.88\" r=\"2\"/>\n",
       "<circle clip-path=\"url(#clip952)\" style=\"fill:#009af9; stroke:none; fill-opacity:0\" cx=\"825.548\" cy=\"1393.83\" r=\"2\"/>\n",
       "<circle clip-path=\"url(#clip952)\" style=\"fill:#009af9; stroke:none; fill-opacity:0\" cx=\"878.715\" cy=\"1373.02\" r=\"2\"/>\n",
       "<circle clip-path=\"url(#clip952)\" style=\"fill:#009af9; stroke:none; fill-opacity:0\" cx=\"931.882\" cy=\"1348.43\" r=\"2\"/>\n",
       "<circle clip-path=\"url(#clip952)\" style=\"fill:#009af9; stroke:none; fill-opacity:0\" cx=\"985.048\" cy=\"1326.54\" r=\"2\"/>\n",
       "<circle clip-path=\"url(#clip952)\" style=\"fill:#009af9; stroke:none; fill-opacity:0\" cx=\"1038.22\" cy=\"1297.08\" r=\"2\"/>\n",
       "<circle clip-path=\"url(#clip952)\" style=\"fill:#009af9; stroke:none; fill-opacity:0\" cx=\"1091.38\" cy=\"1281.94\" r=\"2\"/>\n",
       "<circle clip-path=\"url(#clip952)\" style=\"fill:#009af9; stroke:none; fill-opacity:0\" cx=\"1144.55\" cy=\"1257.62\" r=\"2\"/>\n",
       "<circle clip-path=\"url(#clip952)\" style=\"fill:#009af9; stroke:none; fill-opacity:0\" cx=\"1197.72\" cy=\"1243.03\" r=\"2\"/>\n",
       "<circle clip-path=\"url(#clip952)\" style=\"fill:#009af9; stroke:none; fill-opacity:0\" cx=\"1250.88\" cy=\"1252.49\" r=\"2\"/>\n",
       "<circle clip-path=\"url(#clip952)\" style=\"fill:#009af9; stroke:none; fill-opacity:0\" cx=\"1304.05\" cy=\"1231.14\" r=\"2\"/>\n",
       "<circle clip-path=\"url(#clip952)\" style=\"fill:#009af9; stroke:none; fill-opacity:0\" cx=\"1357.22\" cy=\"1243.3\" r=\"2\"/>\n",
       "<circle clip-path=\"url(#clip952)\" style=\"fill:#009af9; stroke:none; fill-opacity:0\" cx=\"1410.38\" cy=\"1255.46\" r=\"2\"/>\n",
       "<circle clip-path=\"url(#clip952)\" style=\"fill:#009af9; stroke:none; fill-opacity:0\" cx=\"1463.55\" cy=\"1270.32\" r=\"2\"/>\n",
       "<circle clip-path=\"url(#clip952)\" style=\"fill:#009af9; stroke:none; fill-opacity:0\" cx=\"1516.72\" cy=\"1302.21\" r=\"2\"/>\n",
       "<circle clip-path=\"url(#clip952)\" style=\"fill:#009af9; stroke:none; fill-opacity:0\" cx=\"1569.88\" cy=\"1333.56\" r=\"2\"/>\n",
       "<circle clip-path=\"url(#clip952)\" style=\"fill:#009af9; stroke:none; fill-opacity:0\" cx=\"1623.05\" cy=\"1348.7\" r=\"2\"/>\n",
       "<circle clip-path=\"url(#clip952)\" style=\"fill:#009af9; stroke:none; fill-opacity:0\" cx=\"1676.22\" cy=\"1374.64\" r=\"2\"/>\n",
       "<circle clip-path=\"url(#clip952)\" style=\"fill:#009af9; stroke:none; fill-opacity:0\" cx=\"1729.38\" cy=\"1395.72\" r=\"2\"/>\n",
       "<circle clip-path=\"url(#clip952)\" style=\"fill:#009af9; stroke:none; fill-opacity:0\" cx=\"1782.55\" cy=\"1409.77\" r=\"2\"/>\n",
       "<circle clip-path=\"url(#clip952)\" style=\"fill:#009af9; stroke:none; fill-opacity:0\" cx=\"1835.72\" cy=\"1420.58\" r=\"2\"/>\n",
       "<circle clip-path=\"url(#clip952)\" style=\"fill:#009af9; stroke:none; fill-opacity:0\" cx=\"1888.89\" cy=\"1428.96\" r=\"2\"/>\n",
       "<circle clip-path=\"url(#clip952)\" style=\"fill:#009af9; stroke:none; fill-opacity:0\" cx=\"1942.05\" cy=\"1435.72\" r=\"2\"/>\n",
       "<circle clip-path=\"url(#clip952)\" style=\"fill:#009af9; stroke:none; fill-opacity:0\" cx=\"1995.22\" cy=\"1438.96\" r=\"2\"/>\n",
       "<circle clip-path=\"url(#clip952)\" style=\"fill:#009af9; stroke:none; fill-opacity:0\" cx=\"2048.39\" cy=\"1440.04\" r=\"2\"/>\n",
       "<circle clip-path=\"url(#clip952)\" style=\"fill:#009af9; stroke:none; fill-opacity:0\" cx=\"2101.55\" cy=\"1442.74\" r=\"2\"/>\n",
       "<circle clip-path=\"url(#clip952)\" style=\"fill:#009af9; stroke:none; fill-opacity:0\" cx=\"2154.72\" cy=\"1444.63\" r=\"2\"/>\n",
       "<circle clip-path=\"url(#clip952)\" style=\"fill:#009af9; stroke:none; fill-opacity:0\" cx=\"2207.89\" cy=\"1445.18\" r=\"2\"/>\n",
       "<path clip-path=\"url(#clip952)\" d=\"M1277.47 87.9763 L1277.47 1445.72 L1304.05 1445.72 L1304.05 87.9763 L1277.47 87.9763 L1277.47 87.9763  Z\" fill=\"#e26f46\" fill-rule=\"evenodd\" fill-opacity=\"1\"/>\n",
       "<polyline clip-path=\"url(#clip952)\" style=\"stroke:#000000; stroke-linecap:round; stroke-linejoin:round; stroke-width:4; stroke-opacity:1; fill:none\" points=\"1277.47,87.9763 1277.47,1445.72 1304.05,1445.72 1304.05,87.9763 1277.47,87.9763 \"/>\n",
       "<path clip-path=\"url(#clip952)\" d=\"M1304.05 1445.72 L1304.05 1445.72 L1330.63 1445.72 L1330.63 1445.72 L1304.05 1445.72 L1304.05 1445.72  Z\" fill=\"#e26f46\" fill-rule=\"evenodd\" fill-opacity=\"1\"/>\n",
       "<polyline clip-path=\"url(#clip952)\" style=\"stroke:#000000; stroke-linecap:round; stroke-linejoin:round; stroke-width:4; stroke-opacity:1; fill:none\" points=\"1304.05,1445.72 1304.05,1445.72 1330.63,1445.72 1304.05,1445.72 \"/>\n",
       "<path clip-path=\"url(#clip952)\" d=\"M1330.63 1445.72 L1330.63 1445.72 L1357.22 1445.72 L1357.22 1445.72 L1330.63 1445.72 L1330.63 1445.72  Z\" fill=\"#e26f46\" fill-rule=\"evenodd\" fill-opacity=\"1\"/>\n",
       "<polyline clip-path=\"url(#clip952)\" style=\"stroke:#000000; stroke-linecap:round; stroke-linejoin:round; stroke-width:4; stroke-opacity:1; fill:none\" points=\"1330.63,1445.72 1330.63,1445.72 1357.22,1445.72 1330.63,1445.72 \"/>\n",
       "<path clip-path=\"url(#clip952)\" d=\"M1357.22 1445.72 L1357.22 1445.72 L1383.8 1445.72 L1383.8 1445.72 L1357.22 1445.72 L1357.22 1445.72  Z\" fill=\"#e26f46\" fill-rule=\"evenodd\" fill-opacity=\"1\"/>\n",
       "<polyline clip-path=\"url(#clip952)\" style=\"stroke:#000000; stroke-linecap:round; stroke-linejoin:round; stroke-width:4; stroke-opacity:1; fill:none\" points=\"1357.22,1445.72 1357.22,1445.72 1383.8,1445.72 1357.22,1445.72 \"/>\n",
       "<path clip-path=\"url(#clip952)\" d=\"M1383.8 1445.72 L1383.8 1445.72 L1410.38 1445.72 L1410.38 1445.72 L1383.8 1445.72 L1383.8 1445.72  Z\" fill=\"#e26f46\" fill-rule=\"evenodd\" fill-opacity=\"1\"/>\n",
       "<polyline clip-path=\"url(#clip952)\" style=\"stroke:#000000; stroke-linecap:round; stroke-linejoin:round; stroke-width:4; stroke-opacity:1; fill:none\" points=\"1383.8,1445.72 1383.8,1445.72 1410.38,1445.72 1383.8,1445.72 \"/>\n",
       "<path clip-path=\"url(#clip952)\" d=\"M1410.38 1445.72 L1410.38 1445.72 L1436.97 1445.72 L1436.97 1445.72 L1410.38 1445.72 L1410.38 1445.72  Z\" fill=\"#e26f46\" fill-rule=\"evenodd\" fill-opacity=\"1\"/>\n",
       "<polyline clip-path=\"url(#clip952)\" style=\"stroke:#000000; stroke-linecap:round; stroke-linejoin:round; stroke-width:4; stroke-opacity:1; fill:none\" points=\"1410.38,1445.72 1410.38,1445.72 1436.97,1445.72 1410.38,1445.72 \"/>\n",
       "<path clip-path=\"url(#clip952)\" d=\"M1436.97 1445.72 L1436.97 1445.72 L1463.55 1445.72 L1463.55 1445.72 L1436.97 1445.72 L1436.97 1445.72  Z\" fill=\"#e26f46\" fill-rule=\"evenodd\" fill-opacity=\"1\"/>\n",
       "<polyline clip-path=\"url(#clip952)\" style=\"stroke:#000000; stroke-linecap:round; stroke-linejoin:round; stroke-width:4; stroke-opacity:1; fill:none\" points=\"1436.97,1445.72 1436.97,1445.72 1463.55,1445.72 1436.97,1445.72 \"/>\n",
       "<path clip-path=\"url(#clip952)\" d=\"M1463.55 1445.72 L1463.55 1445.72 L1490.13 1445.72 L1490.13 1445.72 L1463.55 1445.72 L1463.55 1445.72  Z\" fill=\"#e26f46\" fill-rule=\"evenodd\" fill-opacity=\"1\"/>\n",
       "<polyline clip-path=\"url(#clip952)\" style=\"stroke:#000000; stroke-linecap:round; stroke-linejoin:round; stroke-width:4; stroke-opacity:1; fill:none\" points=\"1463.55,1445.72 1463.55,1445.72 1490.13,1445.72 1463.55,1445.72 \"/>\n",
       "<path clip-path=\"url(#clip952)\" d=\"M1490.13 1445.72 L1490.13 1445.72 L1516.72 1445.72 L1516.72 1445.72 L1490.13 1445.72 L1490.13 1445.72  Z\" fill=\"#e26f46\" fill-rule=\"evenodd\" fill-opacity=\"1\"/>\n",
       "<polyline clip-path=\"url(#clip952)\" style=\"stroke:#000000; stroke-linecap:round; stroke-linejoin:round; stroke-width:4; stroke-opacity:1; fill:none\" points=\"1490.13,1445.72 1490.13,1445.72 1516.72,1445.72 1490.13,1445.72 \"/>\n",
       "<path clip-path=\"url(#clip952)\" d=\"M1516.72 1445.72 L1516.72 1445.72 L1543.3 1445.72 L1543.3 1445.72 L1516.72 1445.72 L1516.72 1445.72  Z\" fill=\"#e26f46\" fill-rule=\"evenodd\" fill-opacity=\"1\"/>\n",
       "<polyline clip-path=\"url(#clip952)\" style=\"stroke:#000000; stroke-linecap:round; stroke-linejoin:round; stroke-width:4; stroke-opacity:1; fill:none\" points=\"1516.72,1445.72 1516.72,1445.72 1543.3,1445.72 1516.72,1445.72 \"/>\n",
       "<path clip-path=\"url(#clip952)\" d=\"M1543.3 100.948 L1543.3 1445.72 L1569.88 1445.72 L1569.88 100.948 L1543.3 100.948 L1543.3 100.948  Z\" fill=\"#e26f46\" fill-rule=\"evenodd\" fill-opacity=\"1\"/>\n",
       "<polyline clip-path=\"url(#clip952)\" style=\"stroke:#000000; stroke-linecap:round; stroke-linejoin:round; stroke-width:4; stroke-opacity:1; fill:none\" points=\"1543.3,100.948 1543.3,1445.72 1569.88,1445.72 1569.88,100.948 1543.3,100.948 \"/>\n",
       "<circle clip-path=\"url(#clip952)\" style=\"fill:#e26f46; stroke:none; fill-opacity:0\" cx=\"1290.76\" cy=\"87.9763\" r=\"2\"/>\n",
       "<circle clip-path=\"url(#clip952)\" style=\"fill:#e26f46; stroke:none; fill-opacity:0\" cx=\"1317.34\" cy=\"1445.72\" r=\"2\"/>\n",
       "<circle clip-path=\"url(#clip952)\" style=\"fill:#e26f46; stroke:none; fill-opacity:0\" cx=\"1343.92\" cy=\"1445.72\" r=\"2\"/>\n",
       "<circle clip-path=\"url(#clip952)\" style=\"fill:#e26f46; stroke:none; fill-opacity:0\" cx=\"1370.51\" cy=\"1445.72\" r=\"2\"/>\n",
       "<circle clip-path=\"url(#clip952)\" style=\"fill:#e26f46; stroke:none; fill-opacity:0\" cx=\"1397.09\" cy=\"1445.72\" r=\"2\"/>\n",
       "<circle clip-path=\"url(#clip952)\" style=\"fill:#e26f46; stroke:none; fill-opacity:0\" cx=\"1423.68\" cy=\"1445.72\" r=\"2\"/>\n",
       "<circle clip-path=\"url(#clip952)\" style=\"fill:#e26f46; stroke:none; fill-opacity:0\" cx=\"1450.26\" cy=\"1445.72\" r=\"2\"/>\n",
       "<circle clip-path=\"url(#clip952)\" style=\"fill:#e26f46; stroke:none; fill-opacity:0\" cx=\"1476.84\" cy=\"1445.72\" r=\"2\"/>\n",
       "<circle clip-path=\"url(#clip952)\" style=\"fill:#e26f46; stroke:none; fill-opacity:0\" cx=\"1503.43\" cy=\"1445.72\" r=\"2\"/>\n",
       "<circle clip-path=\"url(#clip952)\" style=\"fill:#e26f46; stroke:none; fill-opacity:0\" cx=\"1530.01\" cy=\"1445.72\" r=\"2\"/>\n",
       "<circle clip-path=\"url(#clip952)\" style=\"fill:#e26f46; stroke:none; fill-opacity:0\" cx=\"1556.59\" cy=\"100.948\" r=\"2\"/>\n",
       "<path clip-path=\"url(#clip950)\" d=\"M1845.02 250.738 L2281.07 250.738 L2281.07 95.2176 L1845.02 95.2176  Z\" fill=\"#ffffff\" fill-rule=\"evenodd\" fill-opacity=\"1\"/>\n",
       "<polyline clip-path=\"url(#clip950)\" style=\"stroke:#000000; stroke-linecap:round; stroke-linejoin:round; stroke-width:4; stroke-opacity:1; fill:none\" points=\"1845.02,250.738 2281.07,250.738 2281.07,95.2176 1845.02,95.2176 1845.02,250.738 \"/>\n",
       "<path clip-path=\"url(#clip950)\" d=\"M1868.91 167.794 L2012.29 167.794 L2012.29 126.322 L1868.91 126.322 L1868.91 167.794  Z\" fill=\"#009af9\" fill-rule=\"evenodd\" fill-opacity=\"1\"/>\n",
       "<polyline clip-path=\"url(#clip950)\" style=\"stroke:#000000; stroke-linecap:round; stroke-linejoin:round; stroke-width:4; stroke-opacity:1; fill:none\" points=\"1868.91,167.794 2012.29,167.794 2012.29,126.322 1868.91,126.322 1868.91,167.794 \"/>\n",
       "<path clip-path=\"url(#clip950)\" d=\"M2054.61 139.176 L2054.61 143.203 Q2052.8 142.277 2050.86 141.815 Q2048.91 141.352 2046.83 141.352 Q2043.66 141.352 2042.06 142.324 Q2040.49 143.296 2040.49 145.24 Q2040.49 146.722 2041.62 147.578 Q2042.75 148.412 2046.18 149.176 L2047.64 149.5 Q2052.18 150.472 2054.07 152.254 Q2056 154.014 2056 157.185 Q2056 160.796 2053.12 162.902 Q2050.28 165.009 2045.28 165.009 Q2043.19 165.009 2040.93 164.592 Q2038.68 164.199 2036.18 163.388 L2036.18 158.99 Q2038.54 160.217 2040.83 160.842 Q2043.12 161.444 2045.37 161.444 Q2048.38 161.444 2050 160.426 Q2051.62 159.384 2051.62 157.509 Q2051.62 155.773 2050.44 154.847 Q2049.28 153.921 2045.32 153.064 L2043.84 152.717 Q2039.88 151.884 2038.12 150.171 Q2036.37 148.435 2036.37 145.426 Q2036.37 141.768 2038.96 139.778 Q2041.55 137.787 2046.32 137.787 Q2048.68 137.787 2050.76 138.134 Q2052.85 138.481 2054.61 139.176 Z\" fill=\"#000000\" fill-rule=\"evenodd\" fill-opacity=\"1\" /><path clip-path=\"url(#clip950)\" d=\"M2074.56 151.305 Q2069.4 151.305 2067.41 152.486 Q2065.42 153.666 2065.42 156.514 Q2065.42 158.782 2066.9 160.125 Q2068.4 161.444 2070.97 161.444 Q2074.51 161.444 2076.64 158.944 Q2078.8 156.421 2078.8 152.254 L2078.8 151.305 L2074.56 151.305 M2083.06 149.546 L2083.06 164.338 L2078.8 164.338 L2078.8 160.402 Q2077.34 162.763 2075.16 163.898 Q2072.99 165.009 2069.84 165.009 Q2065.86 165.009 2063.5 162.787 Q2061.16 160.541 2061.16 156.791 Q2061.16 152.416 2064.07 150.194 Q2067.01 147.972 2072.82 147.972 L2078.8 147.972 L2078.8 147.555 Q2078.8 144.615 2076.85 143.018 Q2074.93 141.398 2071.43 141.398 Q2069.21 141.398 2067.11 141.93 Q2065 142.463 2063.06 143.527 L2063.06 139.592 Q2065.39 138.69 2067.59 138.25 Q2069.79 137.787 2071.87 137.787 Q2077.5 137.787 2080.28 140.703 Q2083.06 143.62 2083.06 149.546 Z\" fill=\"#000000\" fill-rule=\"evenodd\" fill-opacity=\"1\" /><path clip-path=\"url(#clip950)\" d=\"M2112.01 143.389 Q2113.61 140.518 2115.83 139.153 Q2118.05 137.787 2121.06 137.787 Q2125.12 137.787 2127.31 140.634 Q2129.51 143.458 2129.51 148.689 L2129.51 164.338 L2125.23 164.338 L2125.23 148.828 Q2125.23 145.102 2123.91 143.296 Q2122.59 141.49 2119.88 141.49 Q2116.57 141.49 2114.65 143.69 Q2112.73 145.889 2112.73 149.685 L2112.73 164.338 L2108.45 164.338 L2108.45 148.828 Q2108.45 145.078 2107.13 143.296 Q2105.81 141.49 2103.06 141.49 Q2099.79 141.49 2097.87 143.713 Q2095.95 145.912 2095.95 149.685 L2095.95 164.338 L2091.67 164.338 L2091.67 138.412 L2095.95 138.412 L2095.95 142.44 Q2097.41 140.055 2099.44 138.921 Q2101.48 137.787 2104.28 137.787 Q2107.11 137.787 2109.07 139.222 Q2111.06 140.657 2112.01 143.389 Z\" fill=\"#000000\" fill-rule=\"evenodd\" fill-opacity=\"1\" /><path clip-path=\"url(#clip950)\" d=\"M2142.13 160.449 L2142.13 174.199 L2137.85 174.199 L2137.85 138.412 L2142.13 138.412 L2142.13 142.347 Q2143.47 140.032 2145.51 138.921 Q2147.57 137.787 2150.42 137.787 Q2155.14 137.787 2158.08 141.537 Q2161.04 145.287 2161.04 151.398 Q2161.04 157.509 2158.08 161.259 Q2155.14 165.009 2150.42 165.009 Q2147.57 165.009 2145.51 163.898 Q2143.47 162.763 2142.13 160.449 M2156.62 151.398 Q2156.62 146.699 2154.68 144.037 Q2152.75 141.352 2149.37 141.352 Q2145.99 141.352 2144.05 144.037 Q2142.13 146.699 2142.13 151.398 Q2142.13 156.097 2144.05 158.782 Q2145.99 161.444 2149.37 161.444 Q2152.75 161.444 2154.68 158.782 Q2156.62 156.097 2156.62 151.398 Z\" fill=\"#000000\" fill-rule=\"evenodd\" fill-opacity=\"1\" /><path clip-path=\"url(#clip950)\" d=\"M2168.1 128.319 L2172.36 128.319 L2172.36 164.338 L2168.1 164.338 L2168.1 128.319 Z\" fill=\"#000000\" fill-rule=\"evenodd\" fill-opacity=\"1\" /><path clip-path=\"url(#clip950)\" d=\"M2203.45 150.31 L2203.45 152.393 L2183.86 152.393 Q2184.14 156.791 2186.5 159.106 Q2188.89 161.398 2193.12 161.398 Q2195.58 161.398 2197.87 160.796 Q2200.18 160.194 2202.45 158.99 L2202.45 163.018 Q2200.16 163.99 2197.75 164.5 Q2195.35 165.009 2192.87 165.009 Q2186.67 165.009 2183.03 161.398 Q2179.42 157.787 2179.42 151.629 Q2179.42 145.264 2182.85 141.537 Q2186.3 137.787 2192.13 137.787 Q2197.36 137.787 2200.39 141.166 Q2203.45 144.523 2203.45 150.31 M2199.19 149.06 Q2199.14 145.565 2197.22 143.481 Q2195.32 141.398 2192.17 141.398 Q2188.61 141.398 2186.46 143.412 Q2184.33 145.426 2184 149.083 L2199.19 149.06 Z\" fill=\"#000000\" fill-rule=\"evenodd\" fill-opacity=\"1\" /><path clip-path=\"url(#clip950)\" d=\"M2230.14 172.208 L2230.14 175.518 L2205.51 175.518 L2205.51 172.208 L2230.14 172.208 Z\" fill=\"#000000\" fill-rule=\"evenodd\" fill-opacity=\"1\" /><path clip-path=\"url(#clip950)\" d=\"M2248.91 145.703 Q2252.27 146.421 2254.14 148.689 Q2256.04 150.958 2256.04 154.291 Q2256.04 159.407 2252.52 162.208 Q2249 165.009 2242.52 165.009 Q2240.35 165.009 2238.03 164.569 Q2235.74 164.152 2233.29 163.296 L2233.29 158.782 Q2235.23 159.916 2237.55 160.495 Q2239.86 161.074 2242.38 161.074 Q2246.78 161.074 2249.07 159.338 Q2251.39 157.601 2251.39 154.291 Q2251.39 151.236 2249.23 149.523 Q2247.11 147.787 2243.29 147.787 L2239.26 147.787 L2239.26 143.944 L2243.47 143.944 Q2246.92 143.944 2248.75 142.578 Q2250.58 141.19 2250.58 138.597 Q2250.58 135.935 2248.68 134.523 Q2246.8 133.088 2243.29 133.088 Q2241.36 133.088 2239.17 133.504 Q2236.97 133.921 2234.33 134.801 L2234.33 130.634 Q2236.99 129.893 2239.3 129.523 Q2241.64 129.153 2243.7 129.153 Q2249.03 129.153 2252.13 131.583 Q2255.23 133.99 2255.23 138.111 Q2255.23 140.981 2253.59 142.972 Q2251.94 144.94 2248.91 145.703 Z\" fill=\"#000000\" fill-rule=\"evenodd\" fill-opacity=\"1\" /><path clip-path=\"url(#clip950)\" d=\"M1868.91 219.634 L2012.29 219.634 L2012.29 178.162 L1868.91 178.162 L1868.91 219.634  Z\" fill=\"#e26f46\" fill-rule=\"evenodd\" fill-opacity=\"1\"/>\n",
       "<polyline clip-path=\"url(#clip950)\" style=\"stroke:#000000; stroke-linecap:round; stroke-linejoin:round; stroke-width:4; stroke-opacity:1; fill:none\" points=\"1868.91,219.634 2012.29,219.634 2012.29,178.162 1868.91,178.162 1868.91,219.634 \"/>\n",
       "<path clip-path=\"url(#clip950)\" d=\"M2054.61 191.016 L2054.61 195.043 Q2052.8 194.117 2050.86 193.655 Q2048.91 193.192 2046.83 193.192 Q2043.66 193.192 2042.06 194.164 Q2040.49 195.136 2040.49 197.08 Q2040.49 198.562 2041.62 199.418 Q2042.75 200.252 2046.18 201.016 L2047.64 201.34 Q2052.18 202.312 2054.07 204.094 Q2056 205.854 2056 209.025 Q2056 212.636 2053.12 214.742 Q2050.28 216.849 2045.28 216.849 Q2043.19 216.849 2040.93 216.432 Q2038.68 216.039 2036.18 215.228 L2036.18 210.83 Q2038.54 212.057 2040.83 212.682 Q2043.12 213.284 2045.37 213.284 Q2048.38 213.284 2050 212.266 Q2051.62 211.224 2051.62 209.349 Q2051.62 207.613 2050.44 206.687 Q2049.28 205.761 2045.32 204.904 L2043.84 204.557 Q2039.88 203.724 2038.12 202.011 Q2036.37 200.275 2036.37 197.266 Q2036.37 193.608 2038.96 191.618 Q2041.55 189.627 2046.32 189.627 Q2048.68 189.627 2050.76 189.974 Q2052.85 190.321 2054.61 191.016 Z\" fill=\"#000000\" fill-rule=\"evenodd\" fill-opacity=\"1\" /><path clip-path=\"url(#clip950)\" d=\"M2074.56 203.145 Q2069.4 203.145 2067.41 204.326 Q2065.42 205.506 2065.42 208.354 Q2065.42 210.622 2066.9 211.965 Q2068.4 213.284 2070.97 213.284 Q2074.51 213.284 2076.64 210.784 Q2078.8 208.261 2078.8 204.094 L2078.8 203.145 L2074.56 203.145 M2083.06 201.386 L2083.06 216.178 L2078.8 216.178 L2078.8 212.242 Q2077.34 214.603 2075.16 215.738 Q2072.99 216.849 2069.84 216.849 Q2065.86 216.849 2063.5 214.627 Q2061.16 212.381 2061.16 208.631 Q2061.16 204.256 2064.07 202.034 Q2067.01 199.812 2072.82 199.812 L2078.8 199.812 L2078.8 199.395 Q2078.8 196.455 2076.85 194.858 Q2074.93 193.238 2071.43 193.238 Q2069.21 193.238 2067.11 193.77 Q2065 194.303 2063.06 195.367 L2063.06 191.432 Q2065.39 190.53 2067.59 190.09 Q2069.79 189.627 2071.87 189.627 Q2077.5 189.627 2080.28 192.543 Q2083.06 195.46 2083.06 201.386 Z\" fill=\"#000000\" fill-rule=\"evenodd\" fill-opacity=\"1\" /><path clip-path=\"url(#clip950)\" d=\"M2112.01 195.229 Q2113.61 192.358 2115.83 190.993 Q2118.05 189.627 2121.06 189.627 Q2125.12 189.627 2127.31 192.474 Q2129.51 195.298 2129.51 200.529 L2129.51 216.178 L2125.23 216.178 L2125.23 200.668 Q2125.23 196.942 2123.91 195.136 Q2122.59 193.33 2119.88 193.33 Q2116.57 193.33 2114.65 195.53 Q2112.73 197.729 2112.73 201.525 L2112.73 216.178 L2108.45 216.178 L2108.45 200.668 Q2108.45 196.918 2107.13 195.136 Q2105.81 193.33 2103.06 193.33 Q2099.79 193.33 2097.87 195.553 Q2095.95 197.752 2095.95 201.525 L2095.95 216.178 L2091.67 216.178 L2091.67 190.252 L2095.95 190.252 L2095.95 194.28 Q2097.41 191.895 2099.44 190.761 Q2101.48 189.627 2104.28 189.627 Q2107.11 189.627 2109.07 191.062 Q2111.06 192.497 2112.01 195.229 Z\" fill=\"#000000\" fill-rule=\"evenodd\" fill-opacity=\"1\" /><path clip-path=\"url(#clip950)\" d=\"M2142.13 212.289 L2142.13 226.039 L2137.85 226.039 L2137.85 190.252 L2142.13 190.252 L2142.13 194.187 Q2143.47 191.872 2145.51 190.761 Q2147.57 189.627 2150.42 189.627 Q2155.14 189.627 2158.08 193.377 Q2161.04 197.127 2161.04 203.238 Q2161.04 209.349 2158.08 213.099 Q2155.14 216.849 2150.42 216.849 Q2147.57 216.849 2145.51 215.738 Q2143.47 214.603 2142.13 212.289 M2156.62 203.238 Q2156.62 198.539 2154.68 195.877 Q2152.75 193.192 2149.37 193.192 Q2145.99 193.192 2144.05 195.877 Q2142.13 198.539 2142.13 203.238 Q2142.13 207.937 2144.05 210.622 Q2145.99 213.284 2149.37 213.284 Q2152.75 213.284 2154.68 210.622 Q2156.62 207.937 2156.62 203.238 Z\" fill=\"#000000\" fill-rule=\"evenodd\" fill-opacity=\"1\" /><path clip-path=\"url(#clip950)\" d=\"M2168.1 180.159 L2172.36 180.159 L2172.36 216.178 L2168.1 216.178 L2168.1 180.159 Z\" fill=\"#000000\" fill-rule=\"evenodd\" fill-opacity=\"1\" /><path clip-path=\"url(#clip950)\" d=\"M2203.45 202.15 L2203.45 204.233 L2183.86 204.233 Q2184.14 208.631 2186.5 210.946 Q2188.89 213.238 2193.12 213.238 Q2195.58 213.238 2197.87 212.636 Q2200.18 212.034 2202.45 210.83 L2202.45 214.858 Q2200.16 215.83 2197.75 216.34 Q2195.35 216.849 2192.87 216.849 Q2186.67 216.849 2183.03 213.238 Q2179.42 209.627 2179.42 203.469 Q2179.42 197.104 2182.85 193.377 Q2186.3 189.627 2192.13 189.627 Q2197.36 189.627 2200.39 193.006 Q2203.45 196.363 2203.45 202.15 M2199.19 200.9 Q2199.14 197.405 2197.22 195.321 Q2195.32 193.238 2192.17 193.238 Q2188.61 193.238 2186.46 195.252 Q2184.33 197.266 2184 200.923 L2199.19 200.9 Z\" fill=\"#000000\" fill-rule=\"evenodd\" fill-opacity=\"1\" /><path clip-path=\"url(#clip950)\" d=\"M2230.14 224.048 L2230.14 227.358 L2205.51 227.358 L2205.51 224.048 L2230.14 224.048 Z\" fill=\"#000000\" fill-rule=\"evenodd\" fill-opacity=\"1\" /><path clip-path=\"url(#clip950)\" d=\"M2247.59 185.692 L2235.79 204.141 L2247.59 204.141 L2247.59 185.692 M2246.36 181.618 L2252.24 181.618 L2252.24 204.141 L2257.17 204.141 L2257.17 208.029 L2252.24 208.029 L2252.24 216.178 L2247.59 216.178 L2247.59 208.029 L2231.99 208.029 L2231.99 203.516 L2246.36 181.618 Z\" fill=\"#000000\" fill-rule=\"evenodd\" fill-opacity=\"1\" /></svg>\n"
      ]
     },
     "execution_count": 12,
     "metadata": {},
     "output_type": "execute_result"
    }
   ],
   "source": [
    "N = Normal()\n",
    "Normal(5,2)\n",
    "Sample_3 = rand(N,10000)\n",
    "\n",
    "B = Binomial()\n",
    "Binomial(100,0.2)\n",
    "Sample_4 = rand(B,10000)\n",
    "\n",
    "histogram(Sample_3, labels=\"sample_3\")\n",
    "histogram!(Sample_4, labels=\"sample_4\")"
   ]
  },
  {
   "cell_type": "markdown",
   "id": "22b88d4d",
   "metadata": {},
   "source": [
    "# Question 4\n",
    "### Read the following example and complete the exercises \n",
    "Bayes is playing Russian roulette. The revolver has six chambers. He puts two bullets in two adjacent chambers, spin the cylinder, hold the gun to his head, and pull the trigger. It clicks. So it is now the second try: he can choose either to spin the cylinder again or leave it as it is. "
   ]
  },
  {
   "cell_type": "markdown",
   "id": "4718911a",
   "metadata": {},
   "source": [
    "### 4.1\n",
    "\n",
    "#### What is the probability that Bayes survives the second try given his survival in the first try if he spin the cylinder and explain"
   ]
  },
  {
   "cell_type": "markdown",
   "id": "96f8c663",
   "metadata": {},
   "source": [
    "Bayes has a 2/3 chance of making it through if he repeats the process of pulling the trigger. If he succeeds in the first attempt, the chamber was empty. If he spins the cylinder again, the possibility of an empty chamber remains unchanged, and the risk is still the same as the first attempt."
   ]
  },
  {
   "cell_type": "markdown",
   "id": "9fd046a8",
   "metadata": {},
   "source": [
    "### 4.2\n",
    "#### In this case, what are the relation between P(A|B), P(B), and P(A) if A represents survival in the first try and B represents survival in the second try"
   ]
  },
  {
   "cell_type": "markdown",
   "id": "7a575296",
   "metadata": {},
   "source": [
    "in the scenario that he spins the cylinder P(B|A) = P(B) = P(A) = 2/3 since A and B are indepent. So we have : P(A|B) = P(B|A)*P(A)/P(B) = P(A) = P(B)."
   ]
  },
  {
   "cell_type": "markdown",
   "id": "4e03c813",
   "metadata": {},
   "source": [
    "### 4.3\n",
    "\n",
    "#### What is the probability that Bayes survives both tries without spinning the cylinder and explain"
   ]
  },
  {
   "cell_type": "markdown",
   "id": "29c20dd7",
   "metadata": {},
   "source": [
    "The likelihood of Bayes surviving the first try, P(A), is calculated to be 2/3, as there are 4 empty chambers out of 6. The probability of Bayes making it through the second try, P(B), is 3/4, assuming the cylinder is not spun again. Out of 4 possibilities, only 1 of them is dangerous, meaning the next chamber has a bullet.\n",
    "\n",
    "As a result, the probability of Bayes surviving both tries without spinning the cylinder again is equal to (2/3) * (3/4) = 1/2. In other words, there are 3 out of 6 positions that have two consecutive empty chambers (1/2)."
   ]
  },
  {
   "cell_type": "markdown",
   "id": "b4de6d2c",
   "metadata": {},
   "source": [
    "### 4.4\n",
    "\n",
    "#### Use answers from 4.1 and 4.3 to calculate the probability that Bayes survives the second try given his survial in the first try if he doesn't spin the cylinder and explain "
   ]
  },
  {
   "cell_type": "markdown",
   "id": "ba46b235",
   "metadata": {},
   "source": [
    "To determine the probability of Bayes surviving the second try, given that he made it through the first try without spinning the cylinder, we can use the formula for conditional probability, P(B|A) = P(AB) / P(A).\n",
    "\n",
    "P(AB) represents the probability of Bayes surviving both the first and second rounds and is equal to 1/2. P(A) represents the probability of Bayes surviving the first round and is equal to 2/3.\n",
    "\n",
    "Therefore, P(B|A) = P(AB) / P(A) = (1/2) / (2/3) = (3/4). This means the probability of Bayes surviving the second try, given that he made it through the first try without spinning the cylinder, is 3/4."
   ]
  }
 ],
 "metadata": {
  "kernelspec": {
   "display_name": "Julia (4 threads) 1.8.5",
   "language": "julia",
   "name": "julia-_4-threads_-1.8"
  },
  "language_info": {
   "file_extension": ".jl",
   "mimetype": "application/julia",
   "name": "julia",
   "version": "1.8.5"
  }
 },
 "nbformat": 4,
 "nbformat_minor": 5
}
