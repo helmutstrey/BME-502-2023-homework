{
 "cells": [
  {
   "cell_type": "markdown",
   "id": "0ce4edbf",
   "metadata": {},
   "source": [
    "<h1>HW2</h1>"
   ]
  },
  {
   "cell_type": "markdown",
   "id": "2e321dc4",
   "metadata": {},
   "source": [
    "#### Bayes' theorem:\n",
    "\\begin{equation*}\n",
    "P(A|B) = \\frac{P(B|A)P(A)}{P(B)} \\\\\n",
    "P(A|B): Posteior \\\\\n",
    "P(B|A): Likelihood \\\\\n",
    "P(A): Prior \\\\\n",
    "P(B): Marginal Probability \\\\\n",
    "\\end{equation*}"
   ]
  },
  {
   "cell_type": "markdown",
   "id": "1b6c2102",
   "metadata": {},
   "source": [
    "# Question 1\n",
    "### Read the following example and complete the exercises \n",
    "\n",
    "You are at the age of 21 and curious about if drinking alcohol would cause liver disease. You contacted a clinic site and got the following information.\n",
    "\n",
    "1. Past data tells you that 10% of patients entering the clinic have liver disease (**Prior**). \n",
    "\n",
    "2. Five percent of the clinic’s patients are alcoholics (**Marginal Probability**). \n",
    "\n",
    "3. Among the patients diagnosed with liver disease, 15% are alcoholics (**Likelihood**). \n",
    "\n",
    "Now you wonder what is the probability of a patient from the clinic have liver disease given that the patient is alcoholic (**Posterior**)"
   ]
  },
  {
   "cell_type": "markdown",
   "id": "e0c81ddf",
   "metadata": {},
   "source": [
    "### 1.1 \n",
    "\n",
    "#### If A represents the event of being an alcoholic patient in the clinic and L represents the event of being a patient with liver disease in the clinic, write the bayesian representation (P(A|B)) in the following cells\n"
   ]
  },
  {
   "cell_type": "markdown",
   "id": "90ef64bb",
   "metadata": {},
   "source": [
    "Posteria = P(L|A)- the probability a patient has liver disease given the patient is an alcoholic"
   ]
  },
  {
   "cell_type": "markdown",
   "id": "658c4c0e",
   "metadata": {},
   "source": [
    "Prior =P(L)= percent of patients entering with liver disease"
   ]
  },
  {
   "cell_type": "markdown",
   "id": "e5f1f140",
   "metadata": {},
   "source": [
    "Likelihood = P(A|L)- among the patients diagnosed with liver disease, 15% are alcoholics"
   ]
  },
  {
   "cell_type": "markdown",
   "id": "ce4bee50",
   "metadata": {},
   "source": [
    "Marginal Probability = P(A)= percent of patients that are alcoholics"
   ]
  },
  {
   "cell_type": "markdown",
   "id": "572cc5a7",
   "metadata": {},
   "source": [
    "### 1.2 \n",
    "\n",
    "#### Define all the information available and calculate the posteria probbability"
   ]
  },
  {
   "cell_type": "code",
   "execution_count": 5,
   "id": "fa180ac4",
   "metadata": {},
   "outputs": [
    {
     "name": "stdout",
     "output_type": "stream",
     "text": [
      "P(L|A)=(P(L))*P(A|L))/P(A)=0.3\n"
     ]
    }
   ],
   "source": [
    "\n",
    "Prior=0.1\n",
    "Likelihood=0.15\n",
    "Marginal=0.05\n",
    "Posterior=(Likelihood*Prior)/(Marginal)\n",
    "println(\"P(L|A)=(P(L))*P(A|L))/P(A)=$Posterior\")"
   ]
  },
  {
   "cell_type": "markdown",
   "id": "ddce1bb4",
   "metadata": {},
   "source": [
    "# Question 2\n",
    "### Read the following example and complete the exercises \n",
    "Shown by a <a href=\"https://pubmed.ncbi.nlm.nih.gov/34242764/#:~:text=The%20overall%20sensitivity%20of%20the,%25%20CI%2024.4%2D65.1\">reaserch study</a>, the rapid antigen test for Covid has a sensitivity of 65.3% and a specificity of 99.9%. Assume 1% people have Covid. If randomly select a person and he/she tests positive using the rapid antigen test, what is the probability the person has Covid (posterior)."
   ]
  },
  {
   "cell_type": "markdown",
   "id": "1f01074b",
   "metadata": {},
   "source": [
    "### 2.1 \n",
    "\n",
    "#### The probability of which event is considered marginal probability in this case? Define it in the first cell below and calculate it in the second cell below"
   ]
  },
  {
   "cell_type": "markdown",
   "id": "fc0ce8a8",
   "metadata": {},
   "source": [
    "The event is: "
   ]
  },
  {
   "cell_type": "code",
   "execution_count": 1,
   "id": "9514d479",
   "metadata": {},
   "outputs": [
    {
     "name": "stdout",
     "output_type": "stream",
     "text": [
      "Marginal probability((P(T+))= the probability of recieving a positive test\n"
     ]
    }
   ],
   "source": [
    "Specificity=0.999\n",
    "Sensitivity=likelihood=0.653\n",
    "prevalence=prior=0.01\n",
    "println(\"Marginal probability((P(T+))= the probability of recieving a positive test\")"
   ]
  },
  {
   "cell_type": "code",
   "execution_count": 4,
   "id": "2a5a2172",
   "metadata": {},
   "outputs": [
    {
     "data": {
      "text/plain": [
       "0.007520000000000001"
      ]
     },
     "execution_count": 4,
     "metadata": {},
     "output_type": "execute_result"
    }
   ],
   "source": [
    "#Calculation of marginal probability\n",
    "\n",
    "Marginal=(Sensitivity*prevalence)+((1-prevalence)*(1-Specificity))"
   ]
  },
  {
   "cell_type": "markdown",
   "id": "cbb30a58",
   "metadata": {},
   "source": [
    "### 2.2 \n",
    "\n",
    "#### Define all the information and calculate the probability the randomly selected person has Covid"
   ]
  },
  {
   "cell_type": "code",
   "execution_count": 6,
   "id": "1af37a23",
   "metadata": {},
   "outputs": [
    {
     "name": "stdout",
     "output_type": "stream",
     "text": [
      "P(T+|D+)=Sensitivity=0.653\n",
      "P(T-|D-)=Specificity=0.999\n",
      "P(D+)=prevalence=0.01\n",
      "P(T+)=Marginal=0.007520000000000001\n",
      "Posterior(P(D+|T+))is the probability of having the disease given you tested positive\n",
      "P(D+|T+)=((P(D+)*P(T+|D+))/P(T+)=0.8683510638297872*\n"
     ]
    }
   ],
   "source": [
    "Posterior=(likelihood*prior)/Marginal\n",
    "println(\"P(T+|D+)=Sensitivity=$likelihood\")\n",
    "println(\"P(T-|D-)=Specificity=$Specificity\")\n",
    "println(\"P(D+)=prevalence=$prior\")\n",
    "println(\"P(T+)=Marginal=$Marginal\")\n",
    "println(\"Posterior(P(D+|T+))is the probability of having the disease given you tested positive\")\n",
    "println(\"P(D+|T+)=((P(D+)*P(T+|D+))/P(T+)=$Posterior\")\n"
   ]
  },
  {
   "cell_type": "markdown",
   "id": "13c0b486",
   "metadata": {},
   "source": [
    "# Question 3\n",
    "### <a href=\"https://juliastats.org/Distributions.jl/stable/starting/\">This page</a> is the documentation for Distribution.jl and complete the exercies"
   ]
  },
  {
   "cell_type": "markdown",
   "id": "8a852a4a",
   "metadata": {},
   "source": [
    "### 3.1 \n",
    "\n",
    "#### Randomly draw 1000 samples from a normal distribution with mean = 5 and std = 2"
   ]
  },
  {
   "cell_type": "code",
   "execution_count": 11,
   "id": "a1539748",
   "metadata": {},
   "outputs": [
    {
     "name": "stderr",
     "output_type": "stream",
     "text": [
      "\u001b[32m\u001b[1m    Updating\u001b[22m\u001b[39m registry at `~/.julia/registries/General.toml`\n",
      "\u001b[32m\u001b[1m   Resolving\u001b[22m\u001b[39m package versions...\n",
      "\u001b[32m\u001b[1m  No Changes\u001b[22m\u001b[39m to `~/.julia/environments/v1.8/Project.toml`\n",
      "\u001b[32m\u001b[1m  No Changes\u001b[22m\u001b[39m to `~/.julia/environments/v1.8/Manifest.toml`\n",
      "\u001b[32m\u001b[1m   Resolving\u001b[22m\u001b[39m package versions...\n",
      "\u001b[32m\u001b[1m  No Changes\u001b[22m\u001b[39m to `~/.julia/environments/v1.8/Project.toml`\n",
      "\u001b[32m\u001b[1m  No Changes\u001b[22m\u001b[39m to `~/.julia/environments/v1.8/Manifest.toml`\n"
     ]
    }
   ],
   "source": [
    "import Pkg\n",
    "Pkg.add(\"Distributions\")\n",
    "Pkg.add(\"Plots\")\n"
   ]
  },
  {
   "cell_type": "code",
   "execution_count": 10,
   "id": "c147c7d0",
   "metadata": {},
   "outputs": [],
   "source": [
    "using Random,Distributions,Plots"
   ]
  },
  {
   "cell_type": "code",
   "execution_count": 11,
   "id": "cd2b2809",
   "metadata": {},
   "outputs": [
    {
     "data": {
      "text/plain": [
       "1000-element Vector{Float64}:\n",
       " 3.7085386557920463\n",
       " 2.073497242222157\n",
       " 1.7527925088278389\n",
       " 4.5646697864329076\n",
       " 5.984491373050366\n",
       " 6.961959624248298\n",
       " 5.15991365901012\n",
       " 8.098249106085584\n",
       " 2.3167815182335563\n",
       " 5.8243232693659355\n",
       " 6.1863947762419516\n",
       " 3.463182162537386\n",
       " 4.847664109095126\n",
       " ⋮\n",
       " 6.247790665546262\n",
       " 5.438084785027371\n",
       " 5.299552975722957\n",
       " 6.602236558637884\n",
       " 5.804729417569904\n",
       " 5.178755748468589\n",
       " 5.812327059101699\n",
       " 7.568639904523696\n",
       " 4.819505796383868\n",
       " 4.8872935799702955\n",
       " 4.945875161371136\n",
       " 4.655382388653741"
      ]
     },
     "execution_count": 11,
     "metadata": {},
     "output_type": "execute_result"
    }
   ],
   "source": [
    "Random.seed!(123)\n",
    "x=rand(Normal(5, 2), 1000)"
   ]
  },
  {
   "cell_type": "markdown",
   "id": "0b89952d",
   "metadata": {},
   "source": [
    "### 3.2\n",
    "\n",
    "#### Plot  the distribution above in a histogram"
   ]
  },
  {
   "cell_type": "code",
   "execution_count": 12,
   "id": "677ef750",
   "metadata": {},
   "outputs": [
    {
     "data": {
      "image/svg+xml": [
       "<?xml version=\"1.0\" encoding=\"utf-8\"?>\n",
       "<svg xmlns=\"http://www.w3.org/2000/svg\" xmlns:xlink=\"http://www.w3.org/1999/xlink\" width=\"600\" height=\"400\" viewBox=\"0 0 2400 1600\">\n",
       "<defs>\n",
       "  <clipPath id=\"clip940\">\n",
       "    <rect x=\"0\" y=\"0\" width=\"2400\" height=\"1600\"/>\n",
       "  </clipPath>\n",
       "</defs>\n",
       "<path clip-path=\"url(#clip940)\" d=\"M0 1600 L2400 1600 L2400 0 L0 0  Z\" fill=\"#ffffff\" fill-rule=\"evenodd\" fill-opacity=\"1\"/>\n",
       "<defs>\n",
       "  <clipPath id=\"clip941\">\n",
       "    <rect x=\"480\" y=\"0\" width=\"1681\" height=\"1600\"/>\n",
       "  </clipPath>\n",
       "</defs>\n",
       "<path clip-path=\"url(#clip940)\" d=\"M169.121 1486.45 L2352.76 1486.45 L2352.76 47.2441 L169.121 47.2441  Z\" fill=\"#ffffff\" fill-rule=\"evenodd\" fill-opacity=\"1\"/>\n",
       "<defs>\n",
       "  <clipPath id=\"clip942\">\n",
       "    <rect x=\"169\" y=\"47\" width=\"2185\" height=\"1440\"/>\n",
       "  </clipPath>\n",
       "</defs>\n",
       "<polyline clip-path=\"url(#clip942)\" style=\"stroke:#000000; stroke-linecap:round; stroke-linejoin:round; stroke-width:2; stroke-opacity:0.1; fill:none\" points=\"548.349,1486.45 548.349,47.2441 \"/>\n",
       "<polyline clip-path=\"url(#clip942)\" style=\"stroke:#000000; stroke-linecap:round; stroke-linejoin:round; stroke-width:2; stroke-opacity:0.1; fill:none\" points=\"937.034,1486.45 937.034,47.2441 \"/>\n",
       "<polyline clip-path=\"url(#clip942)\" style=\"stroke:#000000; stroke-linecap:round; stroke-linejoin:round; stroke-width:2; stroke-opacity:0.1; fill:none\" points=\"1325.72,1486.45 1325.72,47.2441 \"/>\n",
       "<polyline clip-path=\"url(#clip942)\" style=\"stroke:#000000; stroke-linecap:round; stroke-linejoin:round; stroke-width:2; stroke-opacity:0.1; fill:none\" points=\"1714.4,1486.45 1714.4,47.2441 \"/>\n",
       "<polyline clip-path=\"url(#clip942)\" style=\"stroke:#000000; stroke-linecap:round; stroke-linejoin:round; stroke-width:2; stroke-opacity:0.1; fill:none\" points=\"2103.09,1486.45 2103.09,47.2441 \"/>\n",
       "<polyline clip-path=\"url(#clip940)\" style=\"stroke:#000000; stroke-linecap:round; stroke-linejoin:round; stroke-width:4; stroke-opacity:1; fill:none\" points=\"169.121,1486.45 2352.76,1486.45 \"/>\n",
       "<polyline clip-path=\"url(#clip940)\" style=\"stroke:#000000; stroke-linecap:round; stroke-linejoin:round; stroke-width:4; stroke-opacity:1; fill:none\" points=\"548.349,1486.45 548.349,1467.55 \"/>\n",
       "<polyline clip-path=\"url(#clip940)\" style=\"stroke:#000000; stroke-linecap:round; stroke-linejoin:round; stroke-width:4; stroke-opacity:1; fill:none\" points=\"937.034,1486.45 937.034,1467.55 \"/>\n",
       "<polyline clip-path=\"url(#clip940)\" style=\"stroke:#000000; stroke-linecap:round; stroke-linejoin:round; stroke-width:4; stroke-opacity:1; fill:none\" points=\"1325.72,1486.45 1325.72,1467.55 \"/>\n",
       "<polyline clip-path=\"url(#clip940)\" style=\"stroke:#000000; stroke-linecap:round; stroke-linejoin:round; stroke-width:4; stroke-opacity:1; fill:none\" points=\"1714.4,1486.45 1714.4,1467.55 \"/>\n",
       "<polyline clip-path=\"url(#clip940)\" style=\"stroke:#000000; stroke-linecap:round; stroke-linejoin:round; stroke-width:4; stroke-opacity:1; fill:none\" points=\"2103.09,1486.45 2103.09,1467.55 \"/>\n",
       "<path clip-path=\"url(#clip940)\" d=\"M548.349 1517.37 Q544.738 1517.37 542.909 1520.93 Q541.103 1524.47 541.103 1531.6 Q541.103 1538.71 542.909 1542.27 Q544.738 1545.82 548.349 1545.82 Q551.983 1545.82 553.788 1542.27 Q555.617 1538.71 555.617 1531.6 Q555.617 1524.47 553.788 1520.93 Q551.983 1517.37 548.349 1517.37 M548.349 1513.66 Q554.159 1513.66 557.214 1518.27 Q560.293 1522.85 560.293 1531.6 Q560.293 1540.33 557.214 1544.94 Q554.159 1549.52 548.349 1549.52 Q542.539 1549.52 539.46 1544.94 Q536.404 1540.33 536.404 1531.6 Q536.404 1522.85 539.46 1518.27 Q542.539 1513.66 548.349 1513.66 Z\" fill=\"#000000\" fill-rule=\"evenodd\" fill-opacity=\"1\" /><path clip-path=\"url(#clip940)\" d=\"M941.282 1530.21 Q944.638 1530.93 946.513 1533.2 Q948.411 1535.47 948.411 1538.8 Q948.411 1543.92 944.893 1546.72 Q941.374 1549.52 934.893 1549.52 Q932.717 1549.52 930.402 1549.08 Q928.111 1548.66 925.657 1547.81 L925.657 1543.29 Q927.601 1544.43 929.916 1545.01 Q932.231 1545.58 934.754 1545.58 Q939.152 1545.58 941.444 1543.85 Q943.759 1542.11 943.759 1538.8 Q943.759 1535.75 941.606 1534.03 Q939.476 1532.3 935.657 1532.3 L931.629 1532.3 L931.629 1528.45 L935.842 1528.45 Q939.291 1528.45 941.12 1527.09 Q942.948 1525.7 942.948 1523.11 Q942.948 1520.45 941.05 1519.03 Q939.175 1517.6 935.657 1517.6 Q933.736 1517.6 931.536 1518.01 Q929.337 1518.43 926.699 1519.31 L926.699 1515.14 Q929.361 1514.4 931.675 1514.03 Q934.013 1513.66 936.073 1513.66 Q941.398 1513.66 944.499 1516.09 Q947.601 1518.5 947.601 1522.62 Q947.601 1525.49 945.958 1527.48 Q944.314 1529.45 941.282 1530.21 Z\" fill=\"#000000\" fill-rule=\"evenodd\" fill-opacity=\"1\" /><path clip-path=\"url(#clip940)\" d=\"M1326.12 1529.7 Q1322.98 1529.7 1321.12 1531.86 Q1319.3 1534.01 1319.3 1537.76 Q1319.3 1541.49 1321.12 1543.66 Q1322.98 1545.82 1326.12 1545.82 Q1329.27 1545.82 1331.1 1543.66 Q1332.95 1541.49 1332.95 1537.76 Q1332.95 1534.01 1331.1 1531.86 Q1329.27 1529.7 1326.12 1529.7 M1335.41 1515.05 L1335.41 1519.31 Q1333.65 1518.48 1331.84 1518.04 Q1330.06 1517.6 1328.3 1517.6 Q1323.67 1517.6 1321.22 1520.72 Q1318.79 1523.85 1318.44 1530.17 Q1319.81 1528.15 1321.87 1527.09 Q1323.93 1526 1326.4 1526 Q1331.61 1526 1334.62 1529.17 Q1337.65 1532.32 1337.65 1537.76 Q1337.65 1543.08 1334.5 1546.3 Q1331.36 1549.52 1326.12 1549.52 Q1320.13 1549.52 1316.96 1544.94 Q1313.79 1540.33 1313.79 1531.6 Q1313.79 1523.41 1317.68 1518.55 Q1321.56 1513.66 1328.12 1513.66 Q1329.87 1513.66 1331.66 1514.01 Q1333.46 1514.36 1335.41 1515.05 Z\" fill=\"#000000\" fill-rule=\"evenodd\" fill-opacity=\"1\" /><path clip-path=\"url(#clip940)\" d=\"M1704.71 1548.13 L1704.71 1543.87 Q1706.47 1544.7 1708.27 1545.14 Q1710.08 1545.58 1711.81 1545.58 Q1716.44 1545.58 1718.87 1542.48 Q1721.33 1539.36 1721.67 1533.01 Q1720.33 1535.01 1718.27 1536.07 Q1716.21 1537.13 1713.71 1537.13 Q1708.53 1537.13 1705.49 1534.01 Q1702.48 1530.86 1702.48 1525.42 Q1702.48 1520.1 1705.63 1516.88 Q1708.78 1513.66 1714.01 1513.66 Q1720.01 1513.66 1723.15 1518.27 Q1726.33 1522.85 1726.33 1531.6 Q1726.33 1539.77 1722.44 1544.66 Q1718.57 1549.52 1712.02 1549.52 Q1710.26 1549.52 1708.46 1549.17 Q1706.65 1548.82 1704.71 1548.13 M1714.01 1533.48 Q1717.16 1533.48 1718.99 1531.32 Q1720.84 1529.17 1720.84 1525.42 Q1720.84 1521.7 1718.99 1519.54 Q1717.16 1517.37 1714.01 1517.37 Q1710.86 1517.37 1709.01 1519.54 Q1707.18 1521.7 1707.18 1525.42 Q1707.18 1529.17 1709.01 1531.32 Q1710.86 1533.48 1714.01 1533.48 Z\" fill=\"#000000\" fill-rule=\"evenodd\" fill-opacity=\"1\" /><path clip-path=\"url(#clip940)\" d=\"M2078.58 1544.91 L2086.22 1544.91 L2086.22 1518.55 L2077.91 1520.21 L2077.91 1515.95 L2086.17 1514.29 L2090.85 1514.29 L2090.85 1544.91 L2098.48 1544.91 L2098.48 1548.85 L2078.58 1548.85 L2078.58 1544.91 Z\" fill=\"#000000\" fill-rule=\"evenodd\" fill-opacity=\"1\" /><path clip-path=\"url(#clip940)\" d=\"M2111.96 1544.91 L2128.28 1544.91 L2128.28 1548.85 L2106.33 1548.85 L2106.33 1544.91 Q2108.99 1542.16 2113.58 1537.53 Q2118.18 1532.88 2119.36 1531.53 Q2121.61 1529.01 2122.49 1527.27 Q2123.39 1525.51 2123.39 1523.82 Q2123.39 1521.07 2121.45 1519.33 Q2119.53 1517.6 2116.42 1517.6 Q2114.22 1517.6 2111.77 1518.36 Q2109.34 1519.13 2106.56 1520.68 L2106.56 1515.95 Q2109.39 1514.82 2111.84 1514.24 Q2114.29 1513.66 2116.33 1513.66 Q2121.7 1513.66 2124.9 1516.35 Q2128.09 1519.03 2128.09 1523.52 Q2128.09 1525.65 2127.28 1527.57 Q2126.49 1529.47 2124.39 1532.07 Q2123.81 1532.74 2120.71 1535.95 Q2117.6 1539.15 2111.96 1544.91 Z\" fill=\"#000000\" fill-rule=\"evenodd\" fill-opacity=\"1\" /><polyline clip-path=\"url(#clip942)\" style=\"stroke:#000000; stroke-linecap:round; stroke-linejoin:round; stroke-width:2; stroke-opacity:0.1; fill:none\" points=\"169.121,1445.72 2352.76,1445.72 \"/>\n",
       "<polyline clip-path=\"url(#clip942)\" style=\"stroke:#000000; stroke-linecap:round; stroke-linejoin:round; stroke-width:2; stroke-opacity:0.1; fill:none\" points=\"169.121,1076.76 2352.76,1076.76 \"/>\n",
       "<polyline clip-path=\"url(#clip942)\" style=\"stroke:#000000; stroke-linecap:round; stroke-linejoin:round; stroke-width:2; stroke-opacity:0.1; fill:none\" points=\"169.121,707.814 2352.76,707.814 \"/>\n",
       "<polyline clip-path=\"url(#clip942)\" style=\"stroke:#000000; stroke-linecap:round; stroke-linejoin:round; stroke-width:2; stroke-opacity:0.1; fill:none\" points=\"169.121,338.863 2352.76,338.863 \"/>\n",
       "<polyline clip-path=\"url(#clip940)\" style=\"stroke:#000000; stroke-linecap:round; stroke-linejoin:round; stroke-width:4; stroke-opacity:1; fill:none\" points=\"169.121,1486.45 169.121,47.2441 \"/>\n",
       "<polyline clip-path=\"url(#clip940)\" style=\"stroke:#000000; stroke-linecap:round; stroke-linejoin:round; stroke-width:4; stroke-opacity:1; fill:none\" points=\"169.121,1445.72 188.019,1445.72 \"/>\n",
       "<polyline clip-path=\"url(#clip940)\" style=\"stroke:#000000; stroke-linecap:round; stroke-linejoin:round; stroke-width:4; stroke-opacity:1; fill:none\" points=\"169.121,1076.76 188.019,1076.76 \"/>\n",
       "<polyline clip-path=\"url(#clip940)\" style=\"stroke:#000000; stroke-linecap:round; stroke-linejoin:round; stroke-width:4; stroke-opacity:1; fill:none\" points=\"169.121,707.814 188.019,707.814 \"/>\n",
       "<polyline clip-path=\"url(#clip940)\" style=\"stroke:#000000; stroke-linecap:round; stroke-linejoin:round; stroke-width:4; stroke-opacity:1; fill:none\" points=\"169.121,338.863 188.019,338.863 \"/>\n",
       "<path clip-path=\"url(#clip940)\" d=\"M121.177 1431.51 Q117.566 1431.51 115.737 1435.08 Q113.932 1438.62 113.932 1445.75 Q113.932 1452.86 115.737 1456.42 Q117.566 1459.96 121.177 1459.96 Q124.811 1459.96 126.617 1456.42 Q128.445 1452.86 128.445 1445.75 Q128.445 1438.62 126.617 1435.08 Q124.811 1431.51 121.177 1431.51 M121.177 1427.81 Q126.987 1427.81 130.043 1432.42 Q133.121 1437 133.121 1445.75 Q133.121 1454.48 130.043 1459.08 Q126.987 1463.67 121.177 1463.67 Q115.367 1463.67 112.288 1459.08 Q109.233 1454.48 109.233 1445.75 Q109.233 1437 112.288 1432.42 Q115.367 1427.81 121.177 1427.81 Z\" fill=\"#000000\" fill-rule=\"evenodd\" fill-opacity=\"1\" /><path clip-path=\"url(#clip940)\" d=\"M81.0614 1059.48 L99.4178 1059.48 L99.4178 1063.42 L85.3438 1063.42 L85.3438 1071.89 Q86.3623 1071.54 87.3808 1071.38 Q88.3993 1071.2 89.4178 1071.2 Q95.2049 1071.2 98.5845 1074.37 Q101.964 1077.54 101.964 1082.96 Q101.964 1088.54 98.4919 1091.64 Q95.0197 1094.72 88.7003 1094.72 Q86.5243 1094.72 84.2558 1094.35 Q82.0105 1093.98 79.6031 1093.23 L79.6031 1088.54 Q81.6864 1089.67 83.9086 1090.23 Q86.1308 1090.78 88.6077 1090.78 Q92.6123 1090.78 94.9502 1088.67 Q97.2882 1086.57 97.2882 1082.96 Q97.2882 1079.35 94.9502 1077.24 Q92.6123 1075.13 88.6077 1075.13 Q86.7327 1075.13 84.8577 1075.55 Q83.0058 1075.97 81.0614 1076.85 L81.0614 1059.48 Z\" fill=\"#000000\" fill-rule=\"evenodd\" fill-opacity=\"1\" /><path clip-path=\"url(#clip940)\" d=\"M121.177 1062.56 Q117.566 1062.56 115.737 1066.13 Q113.932 1069.67 113.932 1076.8 Q113.932 1083.91 115.737 1087.47 Q117.566 1091.01 121.177 1091.01 Q124.811 1091.01 126.617 1087.47 Q128.445 1083.91 128.445 1076.8 Q128.445 1069.67 126.617 1066.13 Q124.811 1062.56 121.177 1062.56 M121.177 1058.86 Q126.987 1058.86 130.043 1063.47 Q133.121 1068.05 133.121 1076.8 Q133.121 1085.53 130.043 1090.13 Q126.987 1094.72 121.177 1094.72 Q115.367 1094.72 112.288 1090.13 Q109.233 1085.53 109.233 1076.8 Q109.233 1068.05 112.288 1063.47 Q115.367 1058.86 121.177 1058.86 Z\" fill=\"#000000\" fill-rule=\"evenodd\" fill-opacity=\"1\" /><path clip-path=\"url(#clip940)\" d=\"M51.6634 721.159 L59.3023 721.159 L59.3023 694.793 L50.9921 696.46 L50.9921 692.2 L59.256 690.534 L63.9319 690.534 L63.9319 721.159 L71.5707 721.159 L71.5707 725.094 L51.6634 725.094 L51.6634 721.159 Z\" fill=\"#000000\" fill-rule=\"evenodd\" fill-opacity=\"1\" /><path clip-path=\"url(#clip940)\" d=\"M91.0151 693.613 Q87.404 693.613 85.5753 697.177 Q83.7697 700.719 83.7697 707.849 Q83.7697 714.955 85.5753 718.52 Q87.404 722.061 91.0151 722.061 Q94.6493 722.061 96.4548 718.52 Q98.2835 714.955 98.2835 707.849 Q98.2835 700.719 96.4548 697.177 Q94.6493 693.613 91.0151 693.613 M91.0151 689.909 Q96.8252 689.909 99.8808 694.515 Q102.959 699.099 102.959 707.849 Q102.959 716.575 99.8808 721.182 Q96.8252 725.765 91.0151 725.765 Q85.2049 725.765 82.1262 721.182 Q79.0707 716.575 79.0707 707.849 Q79.0707 699.099 82.1262 694.515 Q85.2049 689.909 91.0151 689.909 Z\" fill=\"#000000\" fill-rule=\"evenodd\" fill-opacity=\"1\" /><path clip-path=\"url(#clip940)\" d=\"M121.177 693.613 Q117.566 693.613 115.737 697.177 Q113.932 700.719 113.932 707.849 Q113.932 714.955 115.737 718.52 Q117.566 722.061 121.177 722.061 Q124.811 722.061 126.617 718.52 Q128.445 714.955 128.445 707.849 Q128.445 700.719 126.617 697.177 Q124.811 693.613 121.177 693.613 M121.177 689.909 Q126.987 689.909 130.043 694.515 Q133.121 699.099 133.121 707.849 Q133.121 716.575 130.043 721.182 Q126.987 725.765 121.177 725.765 Q115.367 725.765 112.288 721.182 Q109.233 716.575 109.233 707.849 Q109.233 699.099 112.288 694.515 Q115.367 689.909 121.177 689.909 Z\" fill=\"#000000\" fill-rule=\"evenodd\" fill-opacity=\"1\" /><path clip-path=\"url(#clip940)\" d=\"M51.6634 352.208 L59.3023 352.208 L59.3023 325.842 L50.9921 327.509 L50.9921 323.25 L59.256 321.583 L63.9319 321.583 L63.9319 352.208 L71.5707 352.208 L71.5707 356.143 L51.6634 356.143 L51.6634 352.208 Z\" fill=\"#000000\" fill-rule=\"evenodd\" fill-opacity=\"1\" /><path clip-path=\"url(#clip940)\" d=\"M81.0614 321.583 L99.4178 321.583 L99.4178 325.518 L85.3438 325.518 L85.3438 333.99 Q86.3623 333.643 87.3808 333.481 Q88.3993 333.296 89.4178 333.296 Q95.2049 333.296 98.5845 336.467 Q101.964 339.638 101.964 345.055 Q101.964 350.634 98.4919 353.736 Q95.0197 356.814 88.7003 356.814 Q86.5243 356.814 84.2558 356.444 Q82.0105 356.073 79.6031 355.333 L79.6031 350.634 Q81.6864 351.768 83.9086 352.323 Q86.1308 352.879 88.6077 352.879 Q92.6123 352.879 94.9502 350.773 Q97.2882 348.666 97.2882 345.055 Q97.2882 341.444 94.9502 339.337 Q92.6123 337.231 88.6077 337.231 Q86.7327 337.231 84.8577 337.648 Q83.0058 338.064 81.0614 338.944 L81.0614 321.583 Z\" fill=\"#000000\" fill-rule=\"evenodd\" fill-opacity=\"1\" /><path clip-path=\"url(#clip940)\" d=\"M121.177 324.662 Q117.566 324.662 115.737 328.226 Q113.932 331.768 113.932 338.898 Q113.932 346.004 115.737 349.569 Q117.566 353.111 121.177 353.111 Q124.811 353.111 126.617 349.569 Q128.445 346.004 128.445 338.898 Q128.445 331.768 126.617 328.226 Q124.811 324.662 121.177 324.662 M121.177 320.958 Q126.987 320.958 130.043 325.564 Q133.121 330.148 133.121 338.898 Q133.121 347.624 130.043 352.231 Q126.987 356.814 121.177 356.814 Q115.367 356.814 112.288 352.231 Q109.233 347.624 109.233 338.898 Q109.233 330.148 112.288 325.564 Q115.367 320.958 121.177 320.958 Z\" fill=\"#000000\" fill-rule=\"evenodd\" fill-opacity=\"1\" /><path clip-path=\"url(#clip942)\" d=\"M289.225 1430.96 L289.225 1445.72 L418.787 1445.72 L418.787 1430.96 L289.225 1430.96 L289.225 1430.96  Z\" fill=\"#009af9\" fill-rule=\"evenodd\" fill-opacity=\"1\"/>\n",
       "<polyline clip-path=\"url(#clip942)\" style=\"stroke:#000000; stroke-linecap:round; stroke-linejoin:round; stroke-width:4; stroke-opacity:1; fill:none\" points=\"289.225,1430.96 289.225,1445.72 418.787,1445.72 418.787,1430.96 289.225,1430.96 \"/>\n",
       "<path clip-path=\"url(#clip942)\" d=\"M418.787 1430.96 L418.787 1445.72 L548.349 1445.72 L548.349 1430.96 L418.787 1430.96 L418.787 1430.96  Z\" fill=\"#009af9\" fill-rule=\"evenodd\" fill-opacity=\"1\"/>\n",
       "<polyline clip-path=\"url(#clip942)\" style=\"stroke:#000000; stroke-linecap:round; stroke-linejoin:round; stroke-width:4; stroke-opacity:1; fill:none\" points=\"418.787,1430.96 418.787,1445.72 548.349,1445.72 548.349,1430.96 418.787,1430.96 \"/>\n",
       "<path clip-path=\"url(#clip942)\" d=\"M548.349 1312.89 L548.349 1445.72 L677.911 1445.72 L677.911 1312.89 L548.349 1312.89 L548.349 1312.89  Z\" fill=\"#009af9\" fill-rule=\"evenodd\" fill-opacity=\"1\"/>\n",
       "<polyline clip-path=\"url(#clip942)\" style=\"stroke:#000000; stroke-linecap:round; stroke-linejoin:round; stroke-width:4; stroke-opacity:1; fill:none\" points=\"548.349,1312.89 548.349,1445.72 677.911,1445.72 677.911,1312.89 548.349,1312.89 \"/>\n",
       "<path clip-path=\"url(#clip942)\" d=\"M677.911 1069.39 L677.911 1445.72 L807.472 1445.72 L807.472 1069.39 L677.911 1069.39 L677.911 1069.39  Z\" fill=\"#009af9\" fill-rule=\"evenodd\" fill-opacity=\"1\"/>\n",
       "<polyline clip-path=\"url(#clip942)\" style=\"stroke:#000000; stroke-linecap:round; stroke-linejoin:round; stroke-width:4; stroke-opacity:1; fill:none\" points=\"677.911,1069.39 677.911,1445.72 807.472,1445.72 807.472,1069.39 677.911,1069.39 \"/>\n",
       "<path clip-path=\"url(#clip942)\" d=\"M807.472 604.508 L807.472 1445.72 L937.034 1445.72 L937.034 604.508 L807.472 604.508 L807.472 604.508  Z\" fill=\"#009af9\" fill-rule=\"evenodd\" fill-opacity=\"1\"/>\n",
       "<polyline clip-path=\"url(#clip942)\" style=\"stroke:#000000; stroke-linecap:round; stroke-linejoin:round; stroke-width:4; stroke-opacity:1; fill:none\" points=\"807.472,604.508 807.472,1445.72 937.034,1445.72 937.034,604.508 807.472,604.508 \"/>\n",
       "<path clip-path=\"url(#clip942)\" d=\"M937.034 361 L937.034 1445.72 L1066.6 1445.72 L1066.6 361 L937.034 361 L937.034 361  Z\" fill=\"#009af9\" fill-rule=\"evenodd\" fill-opacity=\"1\"/>\n",
       "<polyline clip-path=\"url(#clip942)\" style=\"stroke:#000000; stroke-linecap:round; stroke-linejoin:round; stroke-width:4; stroke-opacity:1; fill:none\" points=\"937.034,361 937.034,1445.72 1066.6,1445.72 1066.6,361 937.034,361 \"/>\n",
       "<path clip-path=\"url(#clip942)\" d=\"M1066.6 87.9763 L1066.6 1445.72 L1196.16 1445.72 L1196.16 87.9763 L1066.6 87.9763 L1066.6 87.9763  Z\" fill=\"#009af9\" fill-rule=\"evenodd\" fill-opacity=\"1\"/>\n",
       "<polyline clip-path=\"url(#clip942)\" style=\"stroke:#000000; stroke-linecap:round; stroke-linejoin:round; stroke-width:4; stroke-opacity:1; fill:none\" points=\"1066.6,87.9763 1066.6,1445.72 1196.16,1445.72 1196.16,87.9763 1066.6,87.9763 \"/>\n",
       "<path clip-path=\"url(#clip942)\" d=\"M1196.16 102.734 L1196.16 1445.72 L1325.72 1445.72 L1325.72 102.734 L1196.16 102.734 L1196.16 102.734  Z\" fill=\"#009af9\" fill-rule=\"evenodd\" fill-opacity=\"1\"/>\n",
       "<polyline clip-path=\"url(#clip942)\" style=\"stroke:#000000; stroke-linecap:round; stroke-linejoin:round; stroke-width:4; stroke-opacity:1; fill:none\" points=\"1196.16,102.734 1196.16,1445.72 1325.72,1445.72 1325.72,102.734 1196.16,102.734 \"/>\n",
       "<path clip-path=\"url(#clip942)\" d=\"M1325.72 449.548 L1325.72 1445.72 L1455.28 1445.72 L1455.28 449.548 L1325.72 449.548 L1325.72 449.548  Z\" fill=\"#009af9\" fill-rule=\"evenodd\" fill-opacity=\"1\"/>\n",
       "<polyline clip-path=\"url(#clip942)\" style=\"stroke:#000000; stroke-linecap:round; stroke-linejoin:round; stroke-width:4; stroke-opacity:1; fill:none\" points=\"1325.72,449.548 1325.72,1445.72 1455.28,1445.72 1455.28,449.548 1325.72,449.548 \"/>\n",
       "<path clip-path=\"url(#clip942)\" d=\"M1455.28 722.572 L1455.28 1445.72 L1584.84 1445.72 L1584.84 722.572 L1455.28 722.572 L1455.28 722.572  Z\" fill=\"#009af9\" fill-rule=\"evenodd\" fill-opacity=\"1\"/>\n",
       "<polyline clip-path=\"url(#clip942)\" style=\"stroke:#000000; stroke-linecap:round; stroke-linejoin:round; stroke-width:4; stroke-opacity:1; fill:none\" points=\"1455.28,722.572 1455.28,1445.72 1584.84,1445.72 1584.84,722.572 1455.28,722.572 \"/>\n",
       "<path clip-path=\"url(#clip942)\" d=\"M1584.84 1128.42 L1584.84 1445.72 L1714.4 1445.72 L1714.4 1128.42 L1584.84 1128.42 L1584.84 1128.42  Z\" fill=\"#009af9\" fill-rule=\"evenodd\" fill-opacity=\"1\"/>\n",
       "<polyline clip-path=\"url(#clip942)\" style=\"stroke:#000000; stroke-linecap:round; stroke-linejoin:round; stroke-width:4; stroke-opacity:1; fill:none\" points=\"1584.84,1128.42 1584.84,1445.72 1714.4,1445.72 1714.4,1128.42 1584.84,1128.42 \"/>\n",
       "<path clip-path=\"url(#clip942)\" d=\"M1714.4 1342.41 L1714.4 1445.72 L1843.97 1445.72 L1843.97 1342.41 L1714.4 1342.41 L1714.4 1342.41  Z\" fill=\"#009af9\" fill-rule=\"evenodd\" fill-opacity=\"1\"/>\n",
       "<polyline clip-path=\"url(#clip942)\" style=\"stroke:#000000; stroke-linecap:round; stroke-linejoin:round; stroke-width:4; stroke-opacity:1; fill:none\" points=\"1714.4,1342.41 1714.4,1445.72 1843.97,1445.72 1843.97,1342.41 1714.4,1342.41 \"/>\n",
       "<path clip-path=\"url(#clip942)\" d=\"M1843.97 1408.82 L1843.97 1445.72 L1973.53 1445.72 L1973.53 1408.82 L1843.97 1408.82 L1843.97 1408.82  Z\" fill=\"#009af9\" fill-rule=\"evenodd\" fill-opacity=\"1\"/>\n",
       "<polyline clip-path=\"url(#clip942)\" style=\"stroke:#000000; stroke-linecap:round; stroke-linejoin:round; stroke-width:4; stroke-opacity:1; fill:none\" points=\"1843.97,1408.82 1843.97,1445.72 1973.53,1445.72 1973.53,1408.82 1843.97,1408.82 \"/>\n",
       "<path clip-path=\"url(#clip942)\" d=\"M1973.53 1416.2 L1973.53 1445.72 L2103.09 1445.72 L2103.09 1416.2 L1973.53 1416.2 L1973.53 1416.2  Z\" fill=\"#009af9\" fill-rule=\"evenodd\" fill-opacity=\"1\"/>\n",
       "<polyline clip-path=\"url(#clip942)\" style=\"stroke:#000000; stroke-linecap:round; stroke-linejoin:round; stroke-width:4; stroke-opacity:1; fill:none\" points=\"1973.53,1416.2 1973.53,1445.72 2103.09,1445.72 2103.09,1416.2 1973.53,1416.2 \"/>\n",
       "<path clip-path=\"url(#clip942)\" d=\"M2103.09 1438.34 L2103.09 1445.72 L2232.65 1445.72 L2232.65 1438.34 L2103.09 1438.34 L2103.09 1438.34  Z\" fill=\"#009af9\" fill-rule=\"evenodd\" fill-opacity=\"1\"/>\n",
       "<polyline clip-path=\"url(#clip942)\" style=\"stroke:#000000; stroke-linecap:round; stroke-linejoin:round; stroke-width:4; stroke-opacity:1; fill:none\" points=\"2103.09,1438.34 2103.09,1445.72 2232.65,1445.72 2232.65,1438.34 2103.09,1438.34 \"/>\n",
       "<circle clip-path=\"url(#clip942)\" style=\"fill:#009af9; stroke:none; fill-opacity:0\" cx=\"354.006\" cy=\"1430.96\" r=\"2\"/>\n",
       "<circle clip-path=\"url(#clip942)\" style=\"fill:#009af9; stroke:none; fill-opacity:0\" cx=\"483.568\" cy=\"1430.96\" r=\"2\"/>\n",
       "<circle clip-path=\"url(#clip942)\" style=\"fill:#009af9; stroke:none; fill-opacity:0\" cx=\"613.13\" cy=\"1312.89\" r=\"2\"/>\n",
       "<circle clip-path=\"url(#clip942)\" style=\"fill:#009af9; stroke:none; fill-opacity:0\" cx=\"742.691\" cy=\"1069.39\" r=\"2\"/>\n",
       "<circle clip-path=\"url(#clip942)\" style=\"fill:#009af9; stroke:none; fill-opacity:0\" cx=\"872.253\" cy=\"604.508\" r=\"2\"/>\n",
       "<circle clip-path=\"url(#clip942)\" style=\"fill:#009af9; stroke:none; fill-opacity:0\" cx=\"1001.82\" cy=\"361\" r=\"2\"/>\n",
       "<circle clip-path=\"url(#clip942)\" style=\"fill:#009af9; stroke:none; fill-opacity:0\" cx=\"1131.38\" cy=\"87.9763\" r=\"2\"/>\n",
       "<circle clip-path=\"url(#clip942)\" style=\"fill:#009af9; stroke:none; fill-opacity:0\" cx=\"1260.94\" cy=\"102.734\" r=\"2\"/>\n",
       "<circle clip-path=\"url(#clip942)\" style=\"fill:#009af9; stroke:none; fill-opacity:0\" cx=\"1390.5\" cy=\"449.548\" r=\"2\"/>\n",
       "<circle clip-path=\"url(#clip942)\" style=\"fill:#009af9; stroke:none; fill-opacity:0\" cx=\"1520.06\" cy=\"722.572\" r=\"2\"/>\n",
       "<circle clip-path=\"url(#clip942)\" style=\"fill:#009af9; stroke:none; fill-opacity:0\" cx=\"1649.62\" cy=\"1128.42\" r=\"2\"/>\n",
       "<circle clip-path=\"url(#clip942)\" style=\"fill:#009af9; stroke:none; fill-opacity:0\" cx=\"1779.19\" cy=\"1342.41\" r=\"2\"/>\n",
       "<circle clip-path=\"url(#clip942)\" style=\"fill:#009af9; stroke:none; fill-opacity:0\" cx=\"1908.75\" cy=\"1408.82\" r=\"2\"/>\n",
       "<circle clip-path=\"url(#clip942)\" style=\"fill:#009af9; stroke:none; fill-opacity:0\" cx=\"2038.31\" cy=\"1416.2\" r=\"2\"/>\n",
       "<circle clip-path=\"url(#clip942)\" style=\"fill:#009af9; stroke:none; fill-opacity:0\" cx=\"2167.87\" cy=\"1438.34\" r=\"2\"/>\n",
       "<path clip-path=\"url(#clip940)\" d=\"M2009.17 198.898 L2279.97 198.898 L2279.97 95.2176 L2009.17 95.2176  Z\" fill=\"#ffffff\" fill-rule=\"evenodd\" fill-opacity=\"1\"/>\n",
       "<polyline clip-path=\"url(#clip940)\" style=\"stroke:#000000; stroke-linecap:round; stroke-linejoin:round; stroke-width:4; stroke-opacity:1; fill:none\" points=\"2009.17,198.898 2279.97,198.898 2279.97,95.2176 2009.17,95.2176 2009.17,198.898 \"/>\n",
       "<path clip-path=\"url(#clip940)\" d=\"M2033.44 167.794 L2179.01 167.794 L2179.01 126.322 L2033.44 126.322 L2033.44 167.794  Z\" fill=\"#009af9\" fill-rule=\"evenodd\" fill-opacity=\"1\"/>\n",
       "<polyline clip-path=\"url(#clip940)\" style=\"stroke:#000000; stroke-linecap:round; stroke-linejoin:round; stroke-width:4; stroke-opacity:1; fill:none\" points=\"2033.44,167.794 2179.01,167.794 2179.01,126.322 2033.44,126.322 2033.44,167.794 \"/>\n",
       "<path clip-path=\"url(#clip940)\" d=\"M2217.12 166.745 Q2215.31 171.375 2213.6 172.787 Q2211.89 174.199 2209.02 174.199 L2205.61 174.199 L2205.61 170.634 L2208.11 170.634 Q2209.87 170.634 2210.84 169.8 Q2211.82 168.967 2213 165.865 L2213.76 163.921 L2203.28 138.412 L2207.79 138.412 L2215.89 158.689 L2223.99 138.412 L2228.51 138.412 L2217.12 166.745 Z\" fill=\"#000000\" fill-rule=\"evenodd\" fill-opacity=\"1\" /><path clip-path=\"url(#clip940)\" d=\"M2235.8 160.402 L2243.44 160.402 L2243.44 134.037 L2235.13 135.703 L2235.13 131.444 L2243.39 129.778 L2248.07 129.778 L2248.07 160.402 L2255.71 160.402 L2255.71 164.338 L2235.8 164.338 L2235.8 160.402 Z\" fill=\"#000000\" fill-rule=\"evenodd\" fill-opacity=\"1\" /></svg>\n"
      ]
     },
     "execution_count": 12,
     "metadata": {},
     "output_type": "execute_result"
    }
   ],
   "source": [
    "histogram(x)"
   ]
  },
  {
   "cell_type": "markdown",
   "id": "acf09989",
   "metadata": {},
   "source": [
    "### 3.3\n",
    "\n",
    "#### Plot  the same distribution and change the bins to 50"
   ]
  },
  {
   "cell_type": "code",
   "execution_count": 13,
   "id": "f640420a",
   "metadata": {},
   "outputs": [
    {
     "data": {
      "image/svg+xml": [
       "<?xml version=\"1.0\" encoding=\"utf-8\"?>\n",
       "<svg xmlns=\"http://www.w3.org/2000/svg\" xmlns:xlink=\"http://www.w3.org/1999/xlink\" width=\"600\" height=\"400\" viewBox=\"0 0 2400 1600\">\n",
       "<defs>\n",
       "  <clipPath id=\"clip980\">\n",
       "    <rect x=\"0\" y=\"0\" width=\"2400\" height=\"1600\"/>\n",
       "  </clipPath>\n",
       "</defs>\n",
       "<path clip-path=\"url(#clip980)\" d=\"M0 1600 L2400 1600 L2400 0 L0 0  Z\" fill=\"#ffffff\" fill-rule=\"evenodd\" fill-opacity=\"1\"/>\n",
       "<defs>\n",
       "  <clipPath id=\"clip981\">\n",
       "    <rect x=\"480\" y=\"0\" width=\"1681\" height=\"1600\"/>\n",
       "  </clipPath>\n",
       "</defs>\n",
       "<path clip-path=\"url(#clip980)\" d=\"M169.121 1486.45 L2352.76 1486.45 L2352.76 47.2441 L169.121 47.2441  Z\" fill=\"#ffffff\" fill-rule=\"evenodd\" fill-opacity=\"1\"/>\n",
       "<defs>\n",
       "  <clipPath id=\"clip982\">\n",
       "    <rect x=\"169\" y=\"47\" width=\"2185\" height=\"1440\"/>\n",
       "  </clipPath>\n",
       "</defs>\n",
       "<polyline clip-path=\"url(#clip982)\" style=\"stroke:#000000; stroke-linecap:round; stroke-linejoin:round; stroke-width:2; stroke-opacity:0.1; fill:none\" points=\"490.269,1486.45 490.269,47.2441 \"/>\n",
       "<polyline clip-path=\"url(#clip982)\" style=\"stroke:#000000; stroke-linecap:round; stroke-linejoin:round; stroke-width:2; stroke-opacity:0.1; fill:none\" points=\"892.358,1486.45 892.358,47.2441 \"/>\n",
       "<polyline clip-path=\"url(#clip982)\" style=\"stroke:#000000; stroke-linecap:round; stroke-linejoin:round; stroke-width:2; stroke-opacity:0.1; fill:none\" points=\"1294.45,1486.45 1294.45,47.2441 \"/>\n",
       "<polyline clip-path=\"url(#clip982)\" style=\"stroke:#000000; stroke-linecap:round; stroke-linejoin:round; stroke-width:2; stroke-opacity:0.1; fill:none\" points=\"1696.53,1486.45 1696.53,47.2441 \"/>\n",
       "<polyline clip-path=\"url(#clip982)\" style=\"stroke:#000000; stroke-linecap:round; stroke-linejoin:round; stroke-width:2; stroke-opacity:0.1; fill:none\" points=\"2098.62,1486.45 2098.62,47.2441 \"/>\n",
       "<polyline clip-path=\"url(#clip980)\" style=\"stroke:#000000; stroke-linecap:round; stroke-linejoin:round; stroke-width:4; stroke-opacity:1; fill:none\" points=\"169.121,1486.45 2352.76,1486.45 \"/>\n",
       "<polyline clip-path=\"url(#clip980)\" style=\"stroke:#000000; stroke-linecap:round; stroke-linejoin:round; stroke-width:4; stroke-opacity:1; fill:none\" points=\"490.269,1486.45 490.269,1467.55 \"/>\n",
       "<polyline clip-path=\"url(#clip980)\" style=\"stroke:#000000; stroke-linecap:round; stroke-linejoin:round; stroke-width:4; stroke-opacity:1; fill:none\" points=\"892.358,1486.45 892.358,1467.55 \"/>\n",
       "<polyline clip-path=\"url(#clip980)\" style=\"stroke:#000000; stroke-linecap:round; stroke-linejoin:round; stroke-width:4; stroke-opacity:1; fill:none\" points=\"1294.45,1486.45 1294.45,1467.55 \"/>\n",
       "<polyline clip-path=\"url(#clip980)\" style=\"stroke:#000000; stroke-linecap:round; stroke-linejoin:round; stroke-width:4; stroke-opacity:1; fill:none\" points=\"1696.53,1486.45 1696.53,1467.55 \"/>\n",
       "<polyline clip-path=\"url(#clip980)\" style=\"stroke:#000000; stroke-linecap:round; stroke-linejoin:round; stroke-width:4; stroke-opacity:1; fill:none\" points=\"2098.62,1486.45 2098.62,1467.55 \"/>\n",
       "<path clip-path=\"url(#clip980)\" d=\"M490.269 1517.37 Q486.658 1517.37 484.829 1520.93 Q483.024 1524.47 483.024 1531.6 Q483.024 1538.71 484.829 1542.27 Q486.658 1545.82 490.269 1545.82 Q493.904 1545.82 495.709 1542.27 Q497.538 1538.71 497.538 1531.6 Q497.538 1524.47 495.709 1520.93 Q493.904 1517.37 490.269 1517.37 M490.269 1513.66 Q496.079 1513.66 499.135 1518.27 Q502.214 1522.85 502.214 1531.6 Q502.214 1540.33 499.135 1544.94 Q496.079 1549.52 490.269 1549.52 Q484.459 1549.52 481.38 1544.94 Q478.325 1540.33 478.325 1531.6 Q478.325 1522.85 481.38 1518.27 Q484.459 1513.66 490.269 1513.66 Z\" fill=\"#000000\" fill-rule=\"evenodd\" fill-opacity=\"1\" /><path clip-path=\"url(#clip980)\" d=\"M896.605 1530.21 Q899.962 1530.93 901.837 1533.2 Q903.735 1535.47 903.735 1538.8 Q903.735 1543.92 900.216 1546.72 Q896.698 1549.52 890.216 1549.52 Q888.041 1549.52 885.726 1549.08 Q883.434 1548.66 880.98 1547.81 L880.98 1543.29 Q882.925 1544.43 885.24 1545.01 Q887.554 1545.58 890.078 1545.58 Q894.476 1545.58 896.767 1543.85 Q899.082 1542.11 899.082 1538.8 Q899.082 1535.75 896.929 1534.03 Q894.8 1532.3 890.98 1532.3 L886.953 1532.3 L886.953 1528.45 L891.166 1528.45 Q894.615 1528.45 896.443 1527.09 Q898.272 1525.7 898.272 1523.11 Q898.272 1520.45 896.374 1519.03 Q894.499 1517.6 890.98 1517.6 Q889.059 1517.6 886.86 1518.01 Q884.661 1518.43 882.022 1519.31 L882.022 1515.14 Q884.684 1514.4 886.999 1514.03 Q889.337 1513.66 891.397 1513.66 Q896.721 1513.66 899.823 1516.09 Q902.925 1518.5 902.925 1522.62 Q902.925 1525.49 901.281 1527.48 Q899.638 1529.45 896.605 1530.21 Z\" fill=\"#000000\" fill-rule=\"evenodd\" fill-opacity=\"1\" /><path clip-path=\"url(#clip980)\" d=\"M1294.85 1529.7 Q1291.7 1529.7 1289.85 1531.86 Q1288.02 1534.01 1288.02 1537.76 Q1288.02 1541.49 1289.85 1543.66 Q1291.7 1545.82 1294.85 1545.82 Q1298 1545.82 1299.83 1543.66 Q1301.68 1541.49 1301.68 1537.76 Q1301.68 1534.01 1299.83 1531.86 Q1298 1529.7 1294.85 1529.7 M1304.13 1515.05 L1304.13 1519.31 Q1302.37 1518.48 1300.57 1518.04 Q1298.79 1517.6 1297.03 1517.6 Q1292.4 1517.6 1289.94 1520.72 Q1287.51 1523.85 1287.17 1530.17 Q1288.53 1528.15 1290.59 1527.09 Q1292.65 1526 1295.13 1526 Q1300.34 1526 1303.35 1529.17 Q1306.38 1532.32 1306.38 1537.76 Q1306.38 1543.08 1303.23 1546.3 Q1300.08 1549.52 1294.85 1549.52 Q1288.86 1549.52 1285.68 1544.94 Q1282.51 1540.33 1282.51 1531.6 Q1282.51 1523.41 1286.4 1518.55 Q1290.29 1513.66 1296.84 1513.66 Q1298.6 1513.66 1300.38 1514.01 Q1302.19 1514.36 1304.13 1515.05 Z\" fill=\"#000000\" fill-rule=\"evenodd\" fill-opacity=\"1\" /><path clip-path=\"url(#clip980)\" d=\"M1686.84 1548.13 L1686.84 1543.87 Q1688.59 1544.7 1690.4 1545.14 Q1692.21 1545.58 1693.94 1545.58 Q1698.57 1545.58 1701 1542.48 Q1703.46 1539.36 1703.8 1533.01 Q1702.46 1535.01 1700.4 1536.07 Q1698.34 1537.13 1695.84 1537.13 Q1690.65 1537.13 1687.62 1534.01 Q1684.61 1530.86 1684.61 1525.42 Q1684.61 1520.1 1687.76 1516.88 Q1690.91 1513.66 1696.14 1513.66 Q1702.14 1513.66 1705.28 1518.27 Q1708.46 1522.85 1708.46 1531.6 Q1708.46 1539.77 1704.57 1544.66 Q1700.7 1549.52 1694.15 1549.52 Q1692.39 1549.52 1690.59 1549.17 Q1688.78 1548.82 1686.84 1548.13 M1696.14 1533.48 Q1699.29 1533.48 1701.12 1531.32 Q1702.97 1529.17 1702.97 1525.42 Q1702.97 1521.7 1701.12 1519.54 Q1699.29 1517.37 1696.14 1517.37 Q1692.99 1517.37 1691.14 1519.54 Q1689.31 1521.7 1689.31 1525.42 Q1689.31 1529.17 1691.14 1531.32 Q1692.99 1533.48 1696.14 1533.48 Z\" fill=\"#000000\" fill-rule=\"evenodd\" fill-opacity=\"1\" /><path clip-path=\"url(#clip980)\" d=\"M2074.11 1544.91 L2081.75 1544.91 L2081.75 1518.55 L2073.44 1520.21 L2073.44 1515.95 L2081.7 1514.29 L2086.38 1514.29 L2086.38 1544.91 L2094.02 1544.91 L2094.02 1548.85 L2074.11 1548.85 L2074.11 1544.91 Z\" fill=\"#000000\" fill-rule=\"evenodd\" fill-opacity=\"1\" /><path clip-path=\"url(#clip980)\" d=\"M2107.49 1544.91 L2123.81 1544.91 L2123.81 1548.85 L2101.86 1548.85 L2101.86 1544.91 Q2104.53 1542.16 2109.11 1537.53 Q2113.72 1532.88 2114.9 1531.53 Q2117.14 1529.01 2118.02 1527.27 Q2118.92 1525.51 2118.92 1523.82 Q2118.92 1521.07 2116.98 1519.33 Q2115.06 1517.6 2111.96 1517.6 Q2109.76 1517.6 2107.3 1518.36 Q2104.87 1519.13 2102.09 1520.68 L2102.09 1515.95 Q2104.92 1514.82 2107.37 1514.24 Q2109.83 1513.66 2111.86 1513.66 Q2117.23 1513.66 2120.43 1516.35 Q2123.62 1519.03 2123.62 1523.52 Q2123.62 1525.65 2122.81 1527.57 Q2122.03 1529.47 2119.92 1532.07 Q2119.34 1532.74 2116.24 1535.95 Q2113.14 1539.15 2107.49 1544.91 Z\" fill=\"#000000\" fill-rule=\"evenodd\" fill-opacity=\"1\" /><polyline clip-path=\"url(#clip982)\" style=\"stroke:#000000; stroke-linecap:round; stroke-linejoin:round; stroke-width:2; stroke-opacity:0.1; fill:none\" points=\"169.121,1445.72 2352.76,1445.72 \"/>\n",
       "<polyline clip-path=\"url(#clip982)\" style=\"stroke:#000000; stroke-linecap:round; stroke-linejoin:round; stroke-width:2; stroke-opacity:0.1; fill:none\" points=\"169.121,1102.85 2352.76,1102.85 \"/>\n",
       "<polyline clip-path=\"url(#clip982)\" style=\"stroke:#000000; stroke-linecap:round; stroke-linejoin:round; stroke-width:2; stroke-opacity:0.1; fill:none\" points=\"169.121,759.989 2352.76,759.989 \"/>\n",
       "<polyline clip-path=\"url(#clip982)\" style=\"stroke:#000000; stroke-linecap:round; stroke-linejoin:round; stroke-width:2; stroke-opacity:0.1; fill:none\" points=\"169.121,417.125 2352.76,417.125 \"/>\n",
       "<polyline clip-path=\"url(#clip982)\" style=\"stroke:#000000; stroke-linecap:round; stroke-linejoin:round; stroke-width:2; stroke-opacity:0.1; fill:none\" points=\"169.121,74.2617 2352.76,74.2617 \"/>\n",
       "<polyline clip-path=\"url(#clip980)\" style=\"stroke:#000000; stroke-linecap:round; stroke-linejoin:round; stroke-width:4; stroke-opacity:1; fill:none\" points=\"169.121,1486.45 169.121,47.2441 \"/>\n",
       "<polyline clip-path=\"url(#clip980)\" style=\"stroke:#000000; stroke-linecap:round; stroke-linejoin:round; stroke-width:4; stroke-opacity:1; fill:none\" points=\"169.121,1445.72 188.019,1445.72 \"/>\n",
       "<polyline clip-path=\"url(#clip980)\" style=\"stroke:#000000; stroke-linecap:round; stroke-linejoin:round; stroke-width:4; stroke-opacity:1; fill:none\" points=\"169.121,1102.85 188.019,1102.85 \"/>\n",
       "<polyline clip-path=\"url(#clip980)\" style=\"stroke:#000000; stroke-linecap:round; stroke-linejoin:round; stroke-width:4; stroke-opacity:1; fill:none\" points=\"169.121,759.989 188.019,759.989 \"/>\n",
       "<polyline clip-path=\"url(#clip980)\" style=\"stroke:#000000; stroke-linecap:round; stroke-linejoin:round; stroke-width:4; stroke-opacity:1; fill:none\" points=\"169.121,417.125 188.019,417.125 \"/>\n",
       "<polyline clip-path=\"url(#clip980)\" style=\"stroke:#000000; stroke-linecap:round; stroke-linejoin:round; stroke-width:4; stroke-opacity:1; fill:none\" points=\"169.121,74.2617 188.019,74.2617 \"/>\n",
       "<path clip-path=\"url(#clip980)\" d=\"M121.177 1431.51 Q117.566 1431.51 115.737 1435.08 Q113.932 1438.62 113.932 1445.75 Q113.932 1452.86 115.737 1456.42 Q117.566 1459.96 121.177 1459.96 Q124.811 1459.96 126.617 1456.42 Q128.445 1452.86 128.445 1445.75 Q128.445 1438.62 126.617 1435.08 Q124.811 1431.51 121.177 1431.51 M121.177 1427.81 Q126.987 1427.81 130.043 1432.42 Q133.121 1437 133.121 1445.75 Q133.121 1454.48 130.043 1459.08 Q126.987 1463.67 121.177 1463.67 Q115.367 1463.67 112.288 1459.08 Q109.233 1454.48 109.233 1445.75 Q109.233 1437 112.288 1432.42 Q115.367 1427.81 121.177 1427.81 Z\" fill=\"#000000\" fill-rule=\"evenodd\" fill-opacity=\"1\" /><path clip-path=\"url(#clip980)\" d=\"M86.0382 1116.2 L102.358 1116.2 L102.358 1120.13 L80.4133 1120.13 L80.4133 1116.2 Q83.0753 1113.44 87.6586 1108.81 Q92.2651 1104.16 93.4456 1102.82 Q95.691 1100.29 96.5706 1098.56 Q97.4734 1096.8 97.4734 1095.11 Q97.4734 1092.35 95.5289 1090.62 Q93.6076 1088.88 90.5058 1088.88 Q88.3067 1088.88 85.8531 1089.65 Q83.4225 1090.41 80.6447 1091.96 L80.6447 1087.24 Q83.4688 1086.1 85.9225 1085.53 Q88.3762 1084.95 90.4132 1084.95 Q95.7836 1084.95 98.978 1087.63 Q102.172 1090.32 102.172 1094.81 Q102.172 1096.94 101.362 1098.86 Q100.575 1100.76 98.4687 1103.35 Q97.89 1104.02 94.7882 1107.24 Q91.6864 1110.43 86.0382 1116.2 Z\" fill=\"#000000\" fill-rule=\"evenodd\" fill-opacity=\"1\" /><path clip-path=\"url(#clip980)\" d=\"M112.219 1085.57 L130.575 1085.57 L130.575 1089.51 L116.501 1089.51 L116.501 1097.98 Q117.52 1097.63 118.538 1097.47 Q119.557 1097.29 120.575 1097.29 Q126.362 1097.29 129.742 1100.46 Q133.121 1103.63 133.121 1109.04 Q133.121 1114.62 129.649 1117.72 Q126.177 1120.8 119.857 1120.8 Q117.682 1120.8 115.413 1120.43 Q113.168 1120.06 110.76 1119.32 L110.76 1114.62 Q112.844 1115.76 115.066 1116.31 Q117.288 1116.87 119.765 1116.87 Q123.77 1116.87 126.107 1114.76 Q128.445 1112.66 128.445 1109.04 Q128.445 1105.43 126.107 1103.33 Q123.77 1101.22 119.765 1101.22 Q117.89 1101.22 116.015 1101.64 Q114.163 1102.05 112.219 1102.93 L112.219 1085.57 Z\" fill=\"#000000\" fill-rule=\"evenodd\" fill-opacity=\"1\" /><path clip-path=\"url(#clip980)\" d=\"M81.0614 742.709 L99.4178 742.709 L99.4178 746.644 L85.3438 746.644 L85.3438 755.116 Q86.3623 754.769 87.3808 754.607 Q88.3993 754.422 89.4178 754.422 Q95.2049 754.422 98.5845 757.593 Q101.964 760.764 101.964 766.181 Q101.964 771.759 98.4919 774.861 Q95.0197 777.94 88.7003 777.94 Q86.5243 777.94 84.2558 777.57 Q82.0105 777.199 79.6031 776.459 L79.6031 771.759 Q81.6864 772.894 83.9086 773.449 Q86.1308 774.005 88.6077 774.005 Q92.6123 774.005 94.9502 771.898 Q97.2882 769.792 97.2882 766.181 Q97.2882 762.57 94.9502 760.463 Q92.6123 758.357 88.6077 758.357 Q86.7327 758.357 84.8577 758.773 Q83.0058 759.19 81.0614 760.07 L81.0614 742.709 Z\" fill=\"#000000\" fill-rule=\"evenodd\" fill-opacity=\"1\" /><path clip-path=\"url(#clip980)\" d=\"M121.177 745.787 Q117.566 745.787 115.737 749.352 Q113.932 752.894 113.932 760.023 Q113.932 767.13 115.737 770.695 Q117.566 774.236 121.177 774.236 Q124.811 774.236 126.617 770.695 Q128.445 767.13 128.445 760.023 Q128.445 752.894 126.617 749.352 Q124.811 745.787 121.177 745.787 M121.177 742.084 Q126.987 742.084 130.043 746.69 Q133.121 751.273 133.121 760.023 Q133.121 768.75 130.043 773.357 Q126.987 777.94 121.177 777.94 Q115.367 777.94 112.288 773.357 Q109.233 768.75 109.233 760.023 Q109.233 751.273 112.288 746.69 Q115.367 742.084 121.177 742.084 Z\" fill=\"#000000\" fill-rule=\"evenodd\" fill-opacity=\"1\" /><path clip-path=\"url(#clip980)\" d=\"M80.8299 399.845 L103.052 399.845 L103.052 401.836 L90.5058 434.405 L85.6216 434.405 L97.4271 403.78 L80.8299 403.78 L80.8299 399.845 Z\" fill=\"#000000\" fill-rule=\"evenodd\" fill-opacity=\"1\" /><path clip-path=\"url(#clip980)\" d=\"M112.219 399.845 L130.575 399.845 L130.575 403.78 L116.501 403.78 L116.501 412.253 Q117.52 411.905 118.538 411.743 Q119.557 411.558 120.575 411.558 Q126.362 411.558 129.742 414.729 Q133.121 417.901 133.121 423.317 Q133.121 428.896 129.649 431.998 Q126.177 435.077 119.857 435.077 Q117.682 435.077 115.413 434.706 Q113.168 434.336 110.76 433.595 L110.76 428.896 Q112.844 430.03 115.066 430.586 Q117.288 431.141 119.765 431.141 Q123.77 431.141 126.107 429.035 Q128.445 426.928 128.445 423.317 Q128.445 419.706 126.107 417.6 Q123.77 415.493 119.765 415.493 Q117.89 415.493 116.015 415.91 Q114.163 416.327 112.219 417.206 L112.219 399.845 Z\" fill=\"#000000\" fill-rule=\"evenodd\" fill-opacity=\"1\" /><path clip-path=\"url(#clip980)\" d=\"M51.6634 87.6066 L59.3023 87.6066 L59.3023 61.241 L50.9921 62.9076 L50.9921 58.6484 L59.256 56.9817 L63.9319 56.9817 L63.9319 87.6066 L71.5707 87.6066 L71.5707 91.5417 L51.6634 91.5417 L51.6634 87.6066 Z\" fill=\"#000000\" fill-rule=\"evenodd\" fill-opacity=\"1\" /><path clip-path=\"url(#clip980)\" d=\"M91.0151 60.0604 Q87.404 60.0604 85.5753 63.6252 Q83.7697 67.1669 83.7697 74.2965 Q83.7697 81.4029 85.5753 84.9677 Q87.404 88.5093 91.0151 88.5093 Q94.6493 88.5093 96.4548 84.9677 Q98.2835 81.4029 98.2835 74.2965 Q98.2835 67.1669 96.4548 63.6252 Q94.6493 60.0604 91.0151 60.0604 M91.0151 56.3567 Q96.8252 56.3567 99.8808 60.9632 Q102.959 65.5465 102.959 74.2965 Q102.959 83.0233 99.8808 87.6297 Q96.8252 92.213 91.0151 92.213 Q85.2049 92.213 82.1262 87.6297 Q79.0707 83.0233 79.0707 74.2965 Q79.0707 65.5465 82.1262 60.9632 Q85.2049 56.3567 91.0151 56.3567 Z\" fill=\"#000000\" fill-rule=\"evenodd\" fill-opacity=\"1\" /><path clip-path=\"url(#clip980)\" d=\"M121.177 60.0604 Q117.566 60.0604 115.737 63.6252 Q113.932 67.1669 113.932 74.2965 Q113.932 81.4029 115.737 84.9677 Q117.566 88.5093 121.177 88.5093 Q124.811 88.5093 126.617 84.9677 Q128.445 81.4029 128.445 74.2965 Q128.445 67.1669 126.617 63.6252 Q124.811 60.0604 121.177 60.0604 M121.177 56.3567 Q126.987 56.3567 130.043 60.9632 Q133.121 65.5465 133.121 74.2965 Q133.121 83.0233 130.043 87.6297 Q126.987 92.213 121.177 92.213 Q115.367 92.213 112.288 87.6297 Q109.233 83.0233 109.233 74.2965 Q109.233 65.5465 112.288 60.9632 Q115.367 56.3567 121.177 56.3567 Z\" fill=\"#000000\" fill-rule=\"evenodd\" fill-opacity=\"1\" /><path clip-path=\"url(#clip982)\" d=\"M289.225 1418.29 L289.225 1445.72 L356.24 1445.72 L356.24 1418.29 L289.225 1418.29 L289.225 1418.29  Z\" fill=\"#009af9\" fill-rule=\"evenodd\" fill-opacity=\"1\"/>\n",
       "<polyline clip-path=\"url(#clip982)\" style=\"stroke:#000000; stroke-linecap:round; stroke-linejoin:round; stroke-width:4; stroke-opacity:1; fill:none\" points=\"289.225,1418.29 289.225,1445.72 356.24,1445.72 356.24,1418.29 289.225,1418.29 \"/>\n",
       "<path clip-path=\"url(#clip982)\" d=\"M356.24 1432 L356.24 1445.72 L423.255 1445.72 L423.255 1432 L356.24 1432 L356.24 1432  Z\" fill=\"#009af9\" fill-rule=\"evenodd\" fill-opacity=\"1\"/>\n",
       "<polyline clip-path=\"url(#clip982)\" style=\"stroke:#000000; stroke-linecap:round; stroke-linejoin:round; stroke-width:4; stroke-opacity:1; fill:none\" points=\"356.24,1432 356.24,1445.72 423.255,1445.72 423.255,1432 356.24,1432 \"/>\n",
       "<path clip-path=\"url(#clip982)\" d=\"M423.255 1432 L423.255 1445.72 L490.269 1445.72 L490.269 1432 L423.255 1432 L423.255 1432  Z\" fill=\"#009af9\" fill-rule=\"evenodd\" fill-opacity=\"1\"/>\n",
       "<polyline clip-path=\"url(#clip982)\" style=\"stroke:#000000; stroke-linecap:round; stroke-linejoin:round; stroke-width:4; stroke-opacity:1; fill:none\" points=\"423.255,1432 423.255,1445.72 490.269,1445.72 490.269,1432 423.255,1432 \"/>\n",
       "<path clip-path=\"url(#clip982)\" d=\"M490.269 1336 L490.269 1445.72 L557.284 1445.72 L557.284 1336 L490.269 1336 L490.269 1336  Z\" fill=\"#009af9\" fill-rule=\"evenodd\" fill-opacity=\"1\"/>\n",
       "<polyline clip-path=\"url(#clip982)\" style=\"stroke:#000000; stroke-linecap:round; stroke-linejoin:round; stroke-width:4; stroke-opacity:1; fill:none\" points=\"490.269,1336 490.269,1445.72 557.284,1445.72 557.284,1336 490.269,1336 \"/>\n",
       "<path clip-path=\"url(#clip982)\" d=\"M557.284 1308.57 L557.284 1445.72 L624.299 1445.72 L624.299 1308.57 L557.284 1308.57 L557.284 1308.57  Z\" fill=\"#009af9\" fill-rule=\"evenodd\" fill-opacity=\"1\"/>\n",
       "<polyline clip-path=\"url(#clip982)\" style=\"stroke:#000000; stroke-linecap:round; stroke-linejoin:round; stroke-width:4; stroke-opacity:1; fill:none\" points=\"557.284,1308.57 557.284,1445.72 624.299,1445.72 624.299,1308.57 557.284,1308.57 \"/>\n",
       "<path clip-path=\"url(#clip982)\" d=\"M624.299 1198.85 L624.299 1445.72 L691.313 1445.72 L691.313 1198.85 L624.299 1198.85 L624.299 1198.85  Z\" fill=\"#009af9\" fill-rule=\"evenodd\" fill-opacity=\"1\"/>\n",
       "<polyline clip-path=\"url(#clip982)\" style=\"stroke:#000000; stroke-linecap:round; stroke-linejoin:round; stroke-width:4; stroke-opacity:1; fill:none\" points=\"624.299,1198.85 624.299,1445.72 691.313,1445.72 691.313,1198.85 624.299,1198.85 \"/>\n",
       "<path clip-path=\"url(#clip982)\" d=\"M691.313 993.136 L691.313 1445.72 L758.328 1445.72 L758.328 993.136 L691.313 993.136 L691.313 993.136  Z\" fill=\"#009af9\" fill-rule=\"evenodd\" fill-opacity=\"1\"/>\n",
       "<polyline clip-path=\"url(#clip982)\" style=\"stroke:#000000; stroke-linecap:round; stroke-linejoin:round; stroke-width:4; stroke-opacity:1; fill:none\" points=\"691.313,993.136 691.313,1445.72 758.328,1445.72 758.328,993.136 691.313,993.136 \"/>\n",
       "<path clip-path=\"url(#clip982)\" d=\"M758.328 787.418 L758.328 1445.72 L825.343 1445.72 L825.343 787.418 L758.328 787.418 L758.328 787.418  Z\" fill=\"#009af9\" fill-rule=\"evenodd\" fill-opacity=\"1\"/>\n",
       "<polyline clip-path=\"url(#clip982)\" style=\"stroke:#000000; stroke-linecap:round; stroke-linejoin:round; stroke-width:4; stroke-opacity:1; fill:none\" points=\"758.328,787.418 758.328,1445.72 825.343,1445.72 825.343,787.418 758.328,787.418 \"/>\n",
       "<path clip-path=\"url(#clip982)\" d=\"M825.343 540.556 L825.343 1445.72 L892.358 1445.72 L892.358 540.556 L825.343 540.556 L825.343 540.556  Z\" fill=\"#009af9\" fill-rule=\"evenodd\" fill-opacity=\"1\"/>\n",
       "<polyline clip-path=\"url(#clip982)\" style=\"stroke:#000000; stroke-linecap:round; stroke-linejoin:round; stroke-width:4; stroke-opacity:1; fill:none\" points=\"825.343,540.556 825.343,1445.72 892.358,1445.72 892.358,540.556 825.343,540.556 \"/>\n",
       "<path clip-path=\"url(#clip982)\" d=\"M892.358 485.698 L892.358 1445.72 L959.372 1445.72 L959.372 485.698 L892.358 485.698 L892.358 485.698  Z\" fill=\"#009af9\" fill-rule=\"evenodd\" fill-opacity=\"1\"/>\n",
       "<polyline clip-path=\"url(#clip982)\" style=\"stroke:#000000; stroke-linecap:round; stroke-linejoin:round; stroke-width:4; stroke-opacity:1; fill:none\" points=\"892.358,485.698 892.358,1445.72 959.372,1445.72 959.372,485.698 892.358,485.698 \"/>\n",
       "<path clip-path=\"url(#clip982)\" d=\"M959.372 389.696 L959.372 1445.72 L1026.39 1445.72 L1026.39 389.696 L959.372 389.696 L959.372 389.696  Z\" fill=\"#009af9\" fill-rule=\"evenodd\" fill-opacity=\"1\"/>\n",
       "<polyline clip-path=\"url(#clip982)\" style=\"stroke:#000000; stroke-linecap:round; stroke-linejoin:round; stroke-width:4; stroke-opacity:1; fill:none\" points=\"959.372,389.696 959.372,1445.72 1026.39,1445.72 1026.39,389.696 959.372,389.696 \"/>\n",
       "<path clip-path=\"url(#clip982)\" d=\"M1026.39 197.693 L1026.39 1445.72 L1093.4 1445.72 L1093.4 197.693 L1026.39 197.693 L1026.39 197.693  Z\" fill=\"#009af9\" fill-rule=\"evenodd\" fill-opacity=\"1\"/>\n",
       "<polyline clip-path=\"url(#clip982)\" style=\"stroke:#000000; stroke-linecap:round; stroke-linejoin:round; stroke-width:4; stroke-opacity:1; fill:none\" points=\"1026.39,197.693 1026.39,1445.72 1093.4,1445.72 1093.4,197.693 1026.39,197.693 \"/>\n",
       "<path clip-path=\"url(#clip982)\" d=\"M1093.4 170.264 L1093.4 1445.72 L1160.42 1445.72 L1160.42 170.264 L1093.4 170.264 L1093.4 170.264  Z\" fill=\"#009af9\" fill-rule=\"evenodd\" fill-opacity=\"1\"/>\n",
       "<polyline clip-path=\"url(#clip982)\" style=\"stroke:#000000; stroke-linecap:round; stroke-linejoin:round; stroke-width:4; stroke-opacity:1; fill:none\" points=\"1093.4,170.264 1093.4,1445.72 1160.42,1445.72 1160.42,170.264 1093.4,170.264 \"/>\n",
       "<path clip-path=\"url(#clip982)\" d=\"M1160.42 87.9763 L1160.42 1445.72 L1227.43 1445.72 L1227.43 87.9763 L1160.42 87.9763 L1160.42 87.9763  Z\" fill=\"#009af9\" fill-rule=\"evenodd\" fill-opacity=\"1\"/>\n",
       "<polyline clip-path=\"url(#clip982)\" style=\"stroke:#000000; stroke-linecap:round; stroke-linejoin:round; stroke-width:4; stroke-opacity:1; fill:none\" points=\"1160.42,87.9763 1160.42,1445.72 1227.43,1445.72 1227.43,87.9763 1160.42,87.9763 \"/>\n",
       "<path clip-path=\"url(#clip982)\" d=\"M1227.43 307.409 L1227.43 1445.72 L1294.45 1445.72 L1294.45 307.409 L1227.43 307.409 L1227.43 307.409  Z\" fill=\"#009af9\" fill-rule=\"evenodd\" fill-opacity=\"1\"/>\n",
       "<polyline clip-path=\"url(#clip982)\" style=\"stroke:#000000; stroke-linecap:round; stroke-linejoin:round; stroke-width:4; stroke-opacity:1; fill:none\" points=\"1227.43,307.409 1227.43,1445.72 1294.45,1445.72 1294.45,307.409 1227.43,307.409 \"/>\n",
       "<path clip-path=\"url(#clip982)\" d=\"M1294.45 403.411 L1294.45 1445.72 L1361.46 1445.72 L1361.46 403.411 L1294.45 403.411 L1294.45 403.411  Z\" fill=\"#009af9\" fill-rule=\"evenodd\" fill-opacity=\"1\"/>\n",
       "<polyline clip-path=\"url(#clip982)\" style=\"stroke:#000000; stroke-linecap:round; stroke-linejoin:round; stroke-width:4; stroke-opacity:1; fill:none\" points=\"1294.45,403.411 1294.45,1445.72 1361.46,1445.72 1361.46,403.411 1294.45,403.411 \"/>\n",
       "<path clip-path=\"url(#clip982)\" d=\"M1361.46 636.558 L1361.46 1445.72 L1428.48 1445.72 L1428.48 636.558 L1361.46 636.558 L1361.46 636.558  Z\" fill=\"#009af9\" fill-rule=\"evenodd\" fill-opacity=\"1\"/>\n",
       "<polyline clip-path=\"url(#clip982)\" style=\"stroke:#000000; stroke-linecap:round; stroke-linejoin:round; stroke-width:4; stroke-opacity:1; fill:none\" points=\"1361.46,636.558 1361.46,1445.72 1428.48,1445.72 1428.48,636.558 1361.46,636.558 \"/>\n",
       "<path clip-path=\"url(#clip982)\" d=\"M1428.48 691.416 L1428.48 1445.72 L1495.49 1445.72 L1495.49 691.416 L1428.48 691.416 L1428.48 691.416  Z\" fill=\"#009af9\" fill-rule=\"evenodd\" fill-opacity=\"1\"/>\n",
       "<polyline clip-path=\"url(#clip982)\" style=\"stroke:#000000; stroke-linecap:round; stroke-linejoin:round; stroke-width:4; stroke-opacity:1; fill:none\" points=\"1428.48,691.416 1428.48,1445.72 1495.49,1445.72 1495.49,691.416 1428.48,691.416 \"/>\n",
       "<path clip-path=\"url(#clip982)\" d=\"M1495.49 855.99 L1495.49 1445.72 L1562.5 1445.72 L1562.5 855.99 L1495.49 855.99 L1495.49 855.99  Z\" fill=\"#009af9\" fill-rule=\"evenodd\" fill-opacity=\"1\"/>\n",
       "<polyline clip-path=\"url(#clip982)\" style=\"stroke:#000000; stroke-linecap:round; stroke-linejoin:round; stroke-width:4; stroke-opacity:1; fill:none\" points=\"1495.49,855.99 1495.49,1445.72 1562.5,1445.72 1562.5,855.99 1495.49,855.99 \"/>\n",
       "<path clip-path=\"url(#clip982)\" d=\"M1562.5 1102.85 L1562.5 1445.72 L1629.52 1445.72 L1629.52 1102.85 L1562.5 1102.85 L1562.5 1102.85  Z\" fill=\"#009af9\" fill-rule=\"evenodd\" fill-opacity=\"1\"/>\n",
       "<polyline clip-path=\"url(#clip982)\" style=\"stroke:#000000; stroke-linecap:round; stroke-linejoin:round; stroke-width:4; stroke-opacity:1; fill:none\" points=\"1562.5,1102.85 1562.5,1445.72 1629.52,1445.72 1629.52,1102.85 1562.5,1102.85 \"/>\n",
       "<path clip-path=\"url(#clip982)\" d=\"M1629.52 1198.85 L1629.52 1445.72 L1696.53 1445.72 L1696.53 1198.85 L1629.52 1198.85 L1629.52 1198.85  Z\" fill=\"#009af9\" fill-rule=\"evenodd\" fill-opacity=\"1\"/>\n",
       "<polyline clip-path=\"url(#clip982)\" style=\"stroke:#000000; stroke-linecap:round; stroke-linejoin:round; stroke-width:4; stroke-opacity:1; fill:none\" points=\"1629.52,1198.85 1629.52,1445.72 1696.53,1445.72 1696.53,1198.85 1629.52,1198.85 \"/>\n",
       "<path clip-path=\"url(#clip982)\" d=\"M1696.53 1336 L1696.53 1445.72 L1763.55 1445.72 L1763.55 1336 L1696.53 1336 L1696.53 1336  Z\" fill=\"#009af9\" fill-rule=\"evenodd\" fill-opacity=\"1\"/>\n",
       "<polyline clip-path=\"url(#clip982)\" style=\"stroke:#000000; stroke-linecap:round; stroke-linejoin:round; stroke-width:4; stroke-opacity:1; fill:none\" points=\"1696.53,1336 1696.53,1445.72 1763.55,1445.72 1763.55,1336 1696.53,1336 \"/>\n",
       "<path clip-path=\"url(#clip982)\" d=\"M1763.55 1363.43 L1763.55 1445.72 L1830.56 1445.72 L1830.56 1363.43 L1763.55 1363.43 L1763.55 1363.43  Z\" fill=\"#009af9\" fill-rule=\"evenodd\" fill-opacity=\"1\"/>\n",
       "<polyline clip-path=\"url(#clip982)\" style=\"stroke:#000000; stroke-linecap:round; stroke-linejoin:round; stroke-width:4; stroke-opacity:1; fill:none\" points=\"1763.55,1363.43 1763.55,1445.72 1830.56,1445.72 1830.56,1363.43 1763.55,1363.43 \"/>\n",
       "<path clip-path=\"url(#clip982)\" d=\"M1830.56 1404.57 L1830.56 1445.72 L1897.58 1445.72 L1897.58 1404.57 L1830.56 1404.57 L1830.56 1404.57  Z\" fill=\"#009af9\" fill-rule=\"evenodd\" fill-opacity=\"1\"/>\n",
       "<polyline clip-path=\"url(#clip982)\" style=\"stroke:#000000; stroke-linecap:round; stroke-linejoin:round; stroke-width:4; stroke-opacity:1; fill:none\" points=\"1830.56,1404.57 1830.56,1445.72 1897.58,1445.72 1897.58,1404.57 1830.56,1404.57 \"/>\n",
       "<path clip-path=\"url(#clip982)\" d=\"M1897.58 1418.29 L1897.58 1445.72 L1964.59 1445.72 L1964.59 1418.29 L1897.58 1418.29 L1897.58 1418.29  Z\" fill=\"#009af9\" fill-rule=\"evenodd\" fill-opacity=\"1\"/>\n",
       "<polyline clip-path=\"url(#clip982)\" style=\"stroke:#000000; stroke-linecap:round; stroke-linejoin:round; stroke-width:4; stroke-opacity:1; fill:none\" points=\"1897.58,1418.29 1897.58,1445.72 1964.59,1445.72 1964.59,1418.29 1897.58,1418.29 \"/>\n",
       "<path clip-path=\"url(#clip982)\" d=\"M1964.59 1390.86 L1964.59 1445.72 L2031.61 1445.72 L2031.61 1390.86 L1964.59 1390.86 L1964.59 1390.86  Z\" fill=\"#009af9\" fill-rule=\"evenodd\" fill-opacity=\"1\"/>\n",
       "<polyline clip-path=\"url(#clip982)\" style=\"stroke:#000000; stroke-linecap:round; stroke-linejoin:round; stroke-width:4; stroke-opacity:1; fill:none\" points=\"1964.59,1390.86 1964.59,1445.72 2031.61,1445.72 2031.61,1390.86 1964.59,1390.86 \"/>\n",
       "<path clip-path=\"url(#clip982)\" d=\"M2031.61 1445.72 L2031.61 1445.72 L2098.62 1445.72 L2098.62 1445.72 L2031.61 1445.72 L2031.61 1445.72  Z\" fill=\"#009af9\" fill-rule=\"evenodd\" fill-opacity=\"1\"/>\n",
       "<polyline clip-path=\"url(#clip982)\" style=\"stroke:#000000; stroke-linecap:round; stroke-linejoin:round; stroke-width:4; stroke-opacity:1; fill:none\" points=\"2031.61,1445.72 2031.61,1445.72 2098.62,1445.72 2031.61,1445.72 \"/>\n",
       "<path clip-path=\"url(#clip982)\" d=\"M2098.62 1445.72 L2098.62 1445.72 L2165.64 1445.72 L2165.64 1445.72 L2098.62 1445.72 L2098.62 1445.72  Z\" fill=\"#009af9\" fill-rule=\"evenodd\" fill-opacity=\"1\"/>\n",
       "<polyline clip-path=\"url(#clip982)\" style=\"stroke:#000000; stroke-linecap:round; stroke-linejoin:round; stroke-width:4; stroke-opacity:1; fill:none\" points=\"2098.62,1445.72 2098.62,1445.72 2165.64,1445.72 2098.62,1445.72 \"/>\n",
       "<path clip-path=\"url(#clip982)\" d=\"M2165.64 1432 L2165.64 1445.72 L2232.65 1445.72 L2232.65 1432 L2165.64 1432 L2165.64 1432  Z\" fill=\"#009af9\" fill-rule=\"evenodd\" fill-opacity=\"1\"/>\n",
       "<polyline clip-path=\"url(#clip982)\" style=\"stroke:#000000; stroke-linecap:round; stroke-linejoin:round; stroke-width:4; stroke-opacity:1; fill:none\" points=\"2165.64,1432 2165.64,1445.72 2232.65,1445.72 2232.65,1432 2165.64,1432 \"/>\n",
       "<circle clip-path=\"url(#clip982)\" style=\"fill:#009af9; stroke:none; fill-opacity:0\" cx=\"322.732\" cy=\"1418.29\" r=\"2\"/>\n",
       "<circle clip-path=\"url(#clip982)\" style=\"fill:#009af9; stroke:none; fill-opacity:0\" cx=\"389.747\" cy=\"1432\" r=\"2\"/>\n",
       "<circle clip-path=\"url(#clip982)\" style=\"fill:#009af9; stroke:none; fill-opacity:0\" cx=\"456.762\" cy=\"1432\" r=\"2\"/>\n",
       "<circle clip-path=\"url(#clip982)\" style=\"fill:#009af9; stroke:none; fill-opacity:0\" cx=\"523.777\" cy=\"1336\" r=\"2\"/>\n",
       "<circle clip-path=\"url(#clip982)\" style=\"fill:#009af9; stroke:none; fill-opacity:0\" cx=\"590.791\" cy=\"1308.57\" r=\"2\"/>\n",
       "<circle clip-path=\"url(#clip982)\" style=\"fill:#009af9; stroke:none; fill-opacity:0\" cx=\"657.806\" cy=\"1198.85\" r=\"2\"/>\n",
       "<circle clip-path=\"url(#clip982)\" style=\"fill:#009af9; stroke:none; fill-opacity:0\" cx=\"724.821\" cy=\"993.136\" r=\"2\"/>\n",
       "<circle clip-path=\"url(#clip982)\" style=\"fill:#009af9; stroke:none; fill-opacity:0\" cx=\"791.836\" cy=\"787.418\" r=\"2\"/>\n",
       "<circle clip-path=\"url(#clip982)\" style=\"fill:#009af9; stroke:none; fill-opacity:0\" cx=\"858.85\" cy=\"540.556\" r=\"2\"/>\n",
       "<circle clip-path=\"url(#clip982)\" style=\"fill:#009af9; stroke:none; fill-opacity:0\" cx=\"925.865\" cy=\"485.698\" r=\"2\"/>\n",
       "<circle clip-path=\"url(#clip982)\" style=\"fill:#009af9; stroke:none; fill-opacity:0\" cx=\"992.88\" cy=\"389.696\" r=\"2\"/>\n",
       "<circle clip-path=\"url(#clip982)\" style=\"fill:#009af9; stroke:none; fill-opacity:0\" cx=\"1059.89\" cy=\"197.693\" r=\"2\"/>\n",
       "<circle clip-path=\"url(#clip982)\" style=\"fill:#009af9; stroke:none; fill-opacity:0\" cx=\"1126.91\" cy=\"170.264\" r=\"2\"/>\n",
       "<circle clip-path=\"url(#clip982)\" style=\"fill:#009af9; stroke:none; fill-opacity:0\" cx=\"1193.92\" cy=\"87.9763\" r=\"2\"/>\n",
       "<circle clip-path=\"url(#clip982)\" style=\"fill:#009af9; stroke:none; fill-opacity:0\" cx=\"1260.94\" cy=\"307.409\" r=\"2\"/>\n",
       "<circle clip-path=\"url(#clip982)\" style=\"fill:#009af9; stroke:none; fill-opacity:0\" cx=\"1327.95\" cy=\"403.411\" r=\"2\"/>\n",
       "<circle clip-path=\"url(#clip982)\" style=\"fill:#009af9; stroke:none; fill-opacity:0\" cx=\"1394.97\" cy=\"636.558\" r=\"2\"/>\n",
       "<circle clip-path=\"url(#clip982)\" style=\"fill:#009af9; stroke:none; fill-opacity:0\" cx=\"1461.98\" cy=\"691.416\" r=\"2\"/>\n",
       "<circle clip-path=\"url(#clip982)\" style=\"fill:#009af9; stroke:none; fill-opacity:0\" cx=\"1529\" cy=\"855.99\" r=\"2\"/>\n",
       "<circle clip-path=\"url(#clip982)\" style=\"fill:#009af9; stroke:none; fill-opacity:0\" cx=\"1596.01\" cy=\"1102.85\" r=\"2\"/>\n",
       "<circle clip-path=\"url(#clip982)\" style=\"fill:#009af9; stroke:none; fill-opacity:0\" cx=\"1663.03\" cy=\"1198.85\" r=\"2\"/>\n",
       "<circle clip-path=\"url(#clip982)\" style=\"fill:#009af9; stroke:none; fill-opacity:0\" cx=\"1730.04\" cy=\"1336\" r=\"2\"/>\n",
       "<circle clip-path=\"url(#clip982)\" style=\"fill:#009af9; stroke:none; fill-opacity:0\" cx=\"1797.06\" cy=\"1363.43\" r=\"2\"/>\n",
       "<circle clip-path=\"url(#clip982)\" style=\"fill:#009af9; stroke:none; fill-opacity:0\" cx=\"1864.07\" cy=\"1404.57\" r=\"2\"/>\n",
       "<circle clip-path=\"url(#clip982)\" style=\"fill:#009af9; stroke:none; fill-opacity:0\" cx=\"1931.09\" cy=\"1418.29\" r=\"2\"/>\n",
       "<circle clip-path=\"url(#clip982)\" style=\"fill:#009af9; stroke:none; fill-opacity:0\" cx=\"1998.1\" cy=\"1390.86\" r=\"2\"/>\n",
       "<circle clip-path=\"url(#clip982)\" style=\"fill:#009af9; stroke:none; fill-opacity:0\" cx=\"2065.12\" cy=\"1445.72\" r=\"2\"/>\n",
       "<circle clip-path=\"url(#clip982)\" style=\"fill:#009af9; stroke:none; fill-opacity:0\" cx=\"2132.13\" cy=\"1445.72\" r=\"2\"/>\n",
       "<circle clip-path=\"url(#clip982)\" style=\"fill:#009af9; stroke:none; fill-opacity:0\" cx=\"2199.14\" cy=\"1432\" r=\"2\"/>\n",
       "<path clip-path=\"url(#clip980)\" d=\"M2009.17 198.898 L2279.97 198.898 L2279.97 95.2176 L2009.17 95.2176  Z\" fill=\"#ffffff\" fill-rule=\"evenodd\" fill-opacity=\"1\"/>\n",
       "<polyline clip-path=\"url(#clip980)\" style=\"stroke:#000000; stroke-linecap:round; stroke-linejoin:round; stroke-width:4; stroke-opacity:1; fill:none\" points=\"2009.17,198.898 2279.97,198.898 2279.97,95.2176 2009.17,95.2176 2009.17,198.898 \"/>\n",
       "<path clip-path=\"url(#clip980)\" d=\"M2033.44 167.794 L2179.01 167.794 L2179.01 126.322 L2033.44 126.322 L2033.44 167.794  Z\" fill=\"#009af9\" fill-rule=\"evenodd\" fill-opacity=\"1\"/>\n",
       "<polyline clip-path=\"url(#clip980)\" style=\"stroke:#000000; stroke-linecap:round; stroke-linejoin:round; stroke-width:4; stroke-opacity:1; fill:none\" points=\"2033.44,167.794 2179.01,167.794 2179.01,126.322 2033.44,126.322 2033.44,167.794 \"/>\n",
       "<path clip-path=\"url(#clip980)\" d=\"M2217.12 166.745 Q2215.31 171.375 2213.6 172.787 Q2211.89 174.199 2209.02 174.199 L2205.61 174.199 L2205.61 170.634 L2208.11 170.634 Q2209.87 170.634 2210.84 169.8 Q2211.82 168.967 2213 165.865 L2213.76 163.921 L2203.28 138.412 L2207.79 138.412 L2215.89 158.689 L2223.99 138.412 L2228.51 138.412 L2217.12 166.745 Z\" fill=\"#000000\" fill-rule=\"evenodd\" fill-opacity=\"1\" /><path clip-path=\"url(#clip980)\" d=\"M2235.8 160.402 L2243.44 160.402 L2243.44 134.037 L2235.13 135.703 L2235.13 131.444 L2243.39 129.778 L2248.07 129.778 L2248.07 160.402 L2255.71 160.402 L2255.71 164.338 L2235.8 164.338 L2235.8 160.402 Z\" fill=\"#000000\" fill-rule=\"evenodd\" fill-opacity=\"1\" /></svg>\n"
      ]
     },
     "execution_count": 13,
     "metadata": {},
     "output_type": "execute_result"
    }
   ],
   "source": [
    "histogram(x,bins=50)"
   ]
  },
  {
   "cell_type": "markdown",
   "id": "ad6cbc35",
   "metadata": {},
   "source": [
    "### 3.4 \n",
    "\n",
    "#### Choose a distribution other than normal distribution, Describe what it represents, and draw 1000 samples from the distribution and plot it using parameters of your choice"
   ]
  },
  {
   "cell_type": "markdown",
   "id": "6df4cb7e",
   "metadata": {},
   "source": [
    "Which distribution do you pick: "
   ]
  },
  {
   "cell_type": "markdown",
   "id": "7ea6f75c",
   "metadata": {},
   "source": [
    "What does the distribution represent?"
   ]
  },
  {
   "cell_type": "code",
   "execution_count": 29,
   "id": "22a00c51",
   "metadata": {},
   "outputs": [
    {
     "name": "stdout",
     "output_type": "stream",
     "text": [
      "I am using Beta distribution- which is a distribution used to model probabilities. It has characteristic values of \n",
      "    alpha and beta, and when we sample from alpha and beta each sample value will be between 0.0 and 1.0\n",
      "if we sample many values it will amount to a/a+b, so in this case all the values will average to about 3/4\n"
     ]
    }
   ],
   "source": [
    "Random.seed!(123)\n",
    "println(\"I am using Beta distribution- which is a distribution used to model probabilities. It has characteristic values of \n",
    "    alpha and beta, and when we sample from alpha and beta each sample value will be between 0.0 and 1.0\")\n",
    "println(\"if we sample many values it will amount to a/a+b, so in this case all the values will average to about 3/8\")\n"
   ]
  },
  {
   "cell_type": "code",
   "execution_count": 14,
   "id": "cc74a5b2",
   "metadata": {},
   "outputs": [
    {
     "data": {
      "text/plain": [
       "1000-element Vector{Float64}:\n",
       " 0.49591093065691044\n",
       " 0.1509142642706867\n",
       " 0.30473428308812844\n",
       " 0.3224272985798959\n",
       " 0.10972207296983204\n",
       " 0.3027013028195122\n",
       " 0.48529696113138365\n",
       " 0.4347658689573903\n",
       " 0.3549756846192116\n",
       " 0.4888188960524496\n",
       " 0.6861885767232464\n",
       " 0.40457535385023013\n",
       " 0.41198138983558646\n",
       " ⋮\n",
       " 0.7200357034498078\n",
       " 0.27209880648956475\n",
       " 0.11083103531925804\n",
       " 0.7257190338317255\n",
       " 0.5020738166021673\n",
       " 0.4915413348150879\n",
       " 0.451458541735427\n",
       " 0.48117758030325997\n",
       " 0.12880929642960842\n",
       " 0.3682286503048637\n",
       " 0.3771695659902222\n",
       " 0.3784230731222827"
      ]
     },
     "execution_count": 14,
     "metadata": {},
     "output_type": "execute_result"
    }
   ],
   "source": [
    "i=rand(Beta(3,5),1000)"
   ]
  },
  {
   "cell_type": "markdown",
   "id": "9d56bbd5",
   "metadata": {},
   "source": [
    "### 3.5\n",
    "\n",
    "#### Plot  the two distributions in the same plot"
   ]
  },
  {
   "cell_type": "code",
   "execution_count": 15,
   "id": "447aeb72",
   "metadata": {},
   "outputs": [
    {
     "data": {
      "image/svg+xml": [
       "<?xml version=\"1.0\" encoding=\"utf-8\"?>\n",
       "<svg xmlns=\"http://www.w3.org/2000/svg\" xmlns:xlink=\"http://www.w3.org/1999/xlink\" width=\"600\" height=\"400\" viewBox=\"0 0 2400 1600\">\n",
       "<defs>\n",
       "  <clipPath id=\"clip020\">\n",
       "    <rect x=\"0\" y=\"0\" width=\"2400\" height=\"1600\"/>\n",
       "  </clipPath>\n",
       "</defs>\n",
       "<path clip-path=\"url(#clip020)\" d=\"M0 1600 L2400 1600 L2400 0 L0 0  Z\" fill=\"#ffffff\" fill-rule=\"evenodd\" fill-opacity=\"1\"/>\n",
       "<defs>\n",
       "  <clipPath id=\"clip021\">\n",
       "    <rect x=\"480\" y=\"0\" width=\"1681\" height=\"1600\"/>\n",
       "  </clipPath>\n",
       "</defs>\n",
       "<path clip-path=\"url(#clip020)\" d=\"M170.857 1486.45 L2352.76 1486.45 L2352.76 47.2441 L170.857 47.2441  Z\" fill=\"#ffffff\" fill-rule=\"evenodd\" fill-opacity=\"1\"/>\n",
       "<defs>\n",
       "  <clipPath id=\"clip022\">\n",
       "    <rect x=\"170\" y=\"47\" width=\"2183\" height=\"1440\"/>\n",
       "  </clipPath>\n",
       "</defs>\n",
       "<polyline clip-path=\"url(#clip022)\" style=\"stroke:#000000; stroke-linecap:round; stroke-linejoin:round; stroke-width:2; stroke-opacity:0.1; fill:none\" points=\"549.783,1486.45 549.783,47.2441 \"/>\n",
       "<polyline clip-path=\"url(#clip022)\" style=\"stroke:#000000; stroke-linecap:round; stroke-linejoin:round; stroke-width:2; stroke-opacity:0.1; fill:none\" points=\"938.16,1486.45 938.16,47.2441 \"/>\n",
       "<polyline clip-path=\"url(#clip022)\" style=\"stroke:#000000; stroke-linecap:round; stroke-linejoin:round; stroke-width:2; stroke-opacity:0.1; fill:none\" points=\"1326.54,1486.45 1326.54,47.2441 \"/>\n",
       "<polyline clip-path=\"url(#clip022)\" style=\"stroke:#000000; stroke-linecap:round; stroke-linejoin:round; stroke-width:2; stroke-opacity:0.1; fill:none\" points=\"1714.91,1486.45 1714.91,47.2441 \"/>\n",
       "<polyline clip-path=\"url(#clip022)\" style=\"stroke:#000000; stroke-linecap:round; stroke-linejoin:round; stroke-width:2; stroke-opacity:0.1; fill:none\" points=\"2103.29,1486.45 2103.29,47.2441 \"/>\n",
       "<polyline clip-path=\"url(#clip020)\" style=\"stroke:#000000; stroke-linecap:round; stroke-linejoin:round; stroke-width:4; stroke-opacity:1; fill:none\" points=\"170.857,1486.45 2352.76,1486.45 \"/>\n",
       "<polyline clip-path=\"url(#clip020)\" style=\"stroke:#000000; stroke-linecap:round; stroke-linejoin:round; stroke-width:4; stroke-opacity:1; fill:none\" points=\"549.783,1486.45 549.783,1467.55 \"/>\n",
       "<polyline clip-path=\"url(#clip020)\" style=\"stroke:#000000; stroke-linecap:round; stroke-linejoin:round; stroke-width:4; stroke-opacity:1; fill:none\" points=\"938.16,1486.45 938.16,1467.55 \"/>\n",
       "<polyline clip-path=\"url(#clip020)\" style=\"stroke:#000000; stroke-linecap:round; stroke-linejoin:round; stroke-width:4; stroke-opacity:1; fill:none\" points=\"1326.54,1486.45 1326.54,1467.55 \"/>\n",
       "<polyline clip-path=\"url(#clip020)\" style=\"stroke:#000000; stroke-linecap:round; stroke-linejoin:round; stroke-width:4; stroke-opacity:1; fill:none\" points=\"1714.91,1486.45 1714.91,1467.55 \"/>\n",
       "<polyline clip-path=\"url(#clip020)\" style=\"stroke:#000000; stroke-linecap:round; stroke-linejoin:round; stroke-width:4; stroke-opacity:1; fill:none\" points=\"2103.29,1486.45 2103.29,1467.55 \"/>\n",
       "<path clip-path=\"url(#clip020)\" d=\"M549.783 1517.37 Q546.172 1517.37 544.344 1520.93 Q542.538 1524.47 542.538 1531.6 Q542.538 1538.71 544.344 1542.27 Q546.172 1545.82 549.783 1545.82 Q553.418 1545.82 555.223 1542.27 Q557.052 1538.71 557.052 1531.6 Q557.052 1524.47 555.223 1520.93 Q553.418 1517.37 549.783 1517.37 M549.783 1513.66 Q555.593 1513.66 558.649 1518.27 Q561.728 1522.85 561.728 1531.6 Q561.728 1540.33 558.649 1544.94 Q555.593 1549.52 549.783 1549.52 Q543.973 1549.52 540.894 1544.94 Q537.839 1540.33 537.839 1531.6 Q537.839 1522.85 540.894 1518.27 Q543.973 1513.66 549.783 1513.66 Z\" fill=\"#000000\" fill-rule=\"evenodd\" fill-opacity=\"1\" /><path clip-path=\"url(#clip020)\" d=\"M942.407 1530.21 Q945.764 1530.93 947.639 1533.2 Q949.537 1535.47 949.537 1538.8 Q949.537 1543.92 946.018 1546.72 Q942.5 1549.52 936.018 1549.52 Q933.843 1549.52 931.528 1549.08 Q929.236 1548.66 926.782 1547.81 L926.782 1543.29 Q928.727 1544.43 931.042 1545.01 Q933.356 1545.58 935.88 1545.58 Q940.278 1545.58 942.569 1543.85 Q944.884 1542.11 944.884 1538.8 Q944.884 1535.75 942.731 1534.03 Q940.602 1532.3 936.782 1532.3 L932.755 1532.3 L932.755 1528.45 L936.968 1528.45 Q940.417 1528.45 942.245 1527.09 Q944.074 1525.7 944.074 1523.11 Q944.074 1520.45 942.176 1519.03 Q940.301 1517.6 936.782 1517.6 Q934.861 1517.6 932.662 1518.01 Q930.463 1518.43 927.824 1519.31 L927.824 1515.14 Q930.486 1514.4 932.801 1514.03 Q935.139 1513.66 937.199 1513.66 Q942.523 1513.66 945.625 1516.09 Q948.727 1518.5 948.727 1522.62 Q948.727 1525.49 947.083 1527.48 Q945.44 1529.45 942.407 1530.21 Z\" fill=\"#000000\" fill-rule=\"evenodd\" fill-opacity=\"1\" /><path clip-path=\"url(#clip020)\" d=\"M1326.94 1529.7 Q1323.79 1529.7 1321.94 1531.86 Q1320.11 1534.01 1320.11 1537.76 Q1320.11 1541.49 1321.94 1543.66 Q1323.79 1545.82 1326.94 1545.82 Q1330.09 1545.82 1331.92 1543.66 Q1333.77 1541.49 1333.77 1537.76 Q1333.77 1534.01 1331.92 1531.86 Q1330.09 1529.7 1326.94 1529.7 M1336.22 1515.05 L1336.22 1519.31 Q1334.46 1518.48 1332.66 1518.04 Q1330.88 1517.6 1329.12 1517.6 Q1324.49 1517.6 1322.03 1520.72 Q1319.6 1523.85 1319.26 1530.17 Q1320.62 1528.15 1322.68 1527.09 Q1324.74 1526 1327.22 1526 Q1332.43 1526 1335.44 1529.17 Q1338.47 1532.32 1338.47 1537.76 Q1338.47 1543.08 1335.32 1546.3 Q1332.17 1549.52 1326.94 1549.52 Q1320.95 1549.52 1317.77 1544.94 Q1314.6 1540.33 1314.6 1531.6 Q1314.6 1523.41 1318.49 1518.55 Q1322.38 1513.66 1328.93 1513.66 Q1330.69 1513.66 1332.47 1514.01 Q1334.28 1514.36 1336.22 1515.05 Z\" fill=\"#000000\" fill-rule=\"evenodd\" fill-opacity=\"1\" /><path clip-path=\"url(#clip020)\" d=\"M1705.21 1548.13 L1705.21 1543.87 Q1706.97 1544.7 1708.78 1545.14 Q1710.58 1545.58 1712.32 1545.58 Q1716.95 1545.58 1719.38 1542.48 Q1721.83 1539.36 1722.18 1533.01 Q1720.84 1535.01 1718.78 1536.07 Q1716.72 1537.13 1714.22 1537.13 Q1709.03 1537.13 1706 1534.01 Q1702.99 1530.86 1702.99 1525.42 Q1702.99 1520.1 1706.14 1516.88 Q1709.29 1513.66 1714.52 1513.66 Q1720.51 1513.66 1723.66 1518.27 Q1726.83 1522.85 1726.83 1531.6 Q1726.83 1539.77 1722.94 1544.66 Q1719.08 1549.52 1712.53 1549.52 Q1710.77 1549.52 1708.96 1549.17 Q1707.16 1548.82 1705.21 1548.13 M1714.52 1533.48 Q1717.67 1533.48 1719.5 1531.32 Q1721.35 1529.17 1721.35 1525.42 Q1721.35 1521.7 1719.5 1519.54 Q1717.67 1517.37 1714.52 1517.37 Q1711.37 1517.37 1709.52 1519.54 Q1707.69 1521.7 1707.69 1525.42 Q1707.69 1529.17 1709.52 1531.32 Q1711.37 1533.48 1714.52 1533.48 Z\" fill=\"#000000\" fill-rule=\"evenodd\" fill-opacity=\"1\" /><path clip-path=\"url(#clip020)\" d=\"M2078.78 1544.91 L2086.41 1544.91 L2086.41 1518.55 L2078.1 1520.21 L2078.1 1515.95 L2086.37 1514.29 L2091.04 1514.29 L2091.04 1544.91 L2098.68 1544.91 L2098.68 1548.85 L2078.78 1548.85 L2078.78 1544.91 Z\" fill=\"#000000\" fill-rule=\"evenodd\" fill-opacity=\"1\" /><path clip-path=\"url(#clip020)\" d=\"M2112.15 1544.91 L2128.47 1544.91 L2128.47 1548.85 L2106.53 1548.85 L2106.53 1544.91 Q2109.19 1542.16 2113.77 1537.53 Q2118.38 1532.88 2119.56 1531.53 Q2121.81 1529.01 2122.69 1527.27 Q2123.59 1525.51 2123.59 1523.82 Q2123.59 1521.07 2121.65 1519.33 Q2119.72 1517.6 2116.62 1517.6 Q2114.42 1517.6 2111.97 1518.36 Q2109.54 1519.13 2106.76 1520.68 L2106.76 1515.95 Q2109.59 1514.82 2112.04 1514.24 Q2114.49 1513.66 2116.53 1513.66 Q2121.9 1513.66 2125.09 1516.35 Q2128.29 1519.03 2128.29 1523.52 Q2128.29 1525.65 2127.48 1527.57 Q2126.69 1529.47 2124.58 1532.07 Q2124.01 1532.74 2120.9 1535.95 Q2117.8 1539.15 2112.15 1544.91 Z\" fill=\"#000000\" fill-rule=\"evenodd\" fill-opacity=\"1\" /><polyline clip-path=\"url(#clip022)\" style=\"stroke:#000000; stroke-linecap:round; stroke-linejoin:round; stroke-width:2; stroke-opacity:0.1; fill:none\" points=\"170.857,1445.72 2352.76,1445.72 \"/>\n",
       "<polyline clip-path=\"url(#clip022)\" style=\"stroke:#000000; stroke-linecap:round; stroke-linejoin:round; stroke-width:2; stroke-opacity:0.1; fill:none\" points=\"170.857,1150.55 2352.76,1150.55 \"/>\n",
       "<polyline clip-path=\"url(#clip022)\" style=\"stroke:#000000; stroke-linecap:round; stroke-linejoin:round; stroke-width:2; stroke-opacity:0.1; fill:none\" points=\"170.857,855.394 2352.76,855.394 \"/>\n",
       "<polyline clip-path=\"url(#clip022)\" style=\"stroke:#000000; stroke-linecap:round; stroke-linejoin:round; stroke-width:2; stroke-opacity:0.1; fill:none\" points=\"170.857,560.233 2352.76,560.233 \"/>\n",
       "<polyline clip-path=\"url(#clip022)\" style=\"stroke:#000000; stroke-linecap:round; stroke-linejoin:round; stroke-width:2; stroke-opacity:0.1; fill:none\" points=\"170.857,265.073 2352.76,265.073 \"/>\n",
       "<polyline clip-path=\"url(#clip020)\" style=\"stroke:#000000; stroke-linecap:round; stroke-linejoin:round; stroke-width:4; stroke-opacity:1; fill:none\" points=\"170.857,1486.45 170.857,47.2441 \"/>\n",
       "<polyline clip-path=\"url(#clip020)\" style=\"stroke:#000000; stroke-linecap:round; stroke-linejoin:round; stroke-width:4; stroke-opacity:1; fill:none\" points=\"170.857,1445.72 189.755,1445.72 \"/>\n",
       "<polyline clip-path=\"url(#clip020)\" style=\"stroke:#000000; stroke-linecap:round; stroke-linejoin:round; stroke-width:4; stroke-opacity:1; fill:none\" points=\"170.857,1150.55 189.755,1150.55 \"/>\n",
       "<polyline clip-path=\"url(#clip020)\" style=\"stroke:#000000; stroke-linecap:round; stroke-linejoin:round; stroke-width:4; stroke-opacity:1; fill:none\" points=\"170.857,855.394 189.755,855.394 \"/>\n",
       "<polyline clip-path=\"url(#clip020)\" style=\"stroke:#000000; stroke-linecap:round; stroke-linejoin:round; stroke-width:4; stroke-opacity:1; fill:none\" points=\"170.857,560.233 189.755,560.233 \"/>\n",
       "<polyline clip-path=\"url(#clip020)\" style=\"stroke:#000000; stroke-linecap:round; stroke-linejoin:round; stroke-width:4; stroke-opacity:1; fill:none\" points=\"170.857,265.073 189.755,265.073 \"/>\n",
       "<path clip-path=\"url(#clip020)\" d=\"M122.913 1431.51 Q119.302 1431.51 117.473 1435.08 Q115.668 1438.62 115.668 1445.75 Q115.668 1452.86 117.473 1456.42 Q119.302 1459.96 122.913 1459.96 Q126.547 1459.96 128.353 1456.42 Q130.182 1452.86 130.182 1445.75 Q130.182 1438.62 128.353 1435.08 Q126.547 1431.51 122.913 1431.51 M122.913 1427.81 Q128.723 1427.81 131.779 1432.42 Q134.857 1437 134.857 1445.75 Q134.857 1454.48 131.779 1459.08 Q128.723 1463.67 122.913 1463.67 Q117.103 1463.67 114.024 1459.08 Q110.969 1454.48 110.969 1445.75 Q110.969 1437 114.024 1432.42 Q117.103 1427.81 122.913 1427.81 Z\" fill=\"#000000\" fill-rule=\"evenodd\" fill-opacity=\"1\" /><path clip-path=\"url(#clip020)\" d=\"M82.7975 1133.27 L101.154 1133.27 L101.154 1137.21 L87.0799 1137.21 L87.0799 1145.68 Q88.0984 1145.34 89.1169 1145.17 Q90.1354 1144.99 91.1539 1144.99 Q96.941 1144.99 100.321 1148.16 Q103.7 1151.33 103.7 1156.75 Q103.7 1162.33 100.228 1165.43 Q96.7558 1168.51 90.4364 1168.51 Q88.2604 1168.51 85.9919 1168.14 Q83.7466 1167.77 81.3392 1167.02 L81.3392 1162.33 Q83.4225 1163.46 85.6447 1164.02 Q87.8669 1164.57 90.3438 1164.57 Q94.3484 1164.57 96.6863 1162.46 Q99.0243 1160.36 99.0243 1156.75 Q99.0243 1153.14 96.6863 1151.03 Q94.3484 1148.92 90.3438 1148.92 Q88.4688 1148.92 86.5938 1149.34 Q84.7419 1149.76 82.7975 1150.64 L82.7975 1133.27 Z\" fill=\"#000000\" fill-rule=\"evenodd\" fill-opacity=\"1\" /><path clip-path=\"url(#clip020)\" d=\"M122.913 1136.35 Q119.302 1136.35 117.473 1139.92 Q115.668 1143.46 115.668 1150.59 Q115.668 1157.7 117.473 1161.26 Q119.302 1164.8 122.913 1164.8 Q126.547 1164.8 128.353 1161.26 Q130.182 1157.7 130.182 1150.59 Q130.182 1143.46 128.353 1139.92 Q126.547 1136.35 122.913 1136.35 M122.913 1132.65 Q128.723 1132.65 131.779 1137.26 Q134.857 1141.84 134.857 1150.59 Q134.857 1159.32 131.779 1163.92 Q128.723 1168.51 122.913 1168.51 Q117.103 1168.51 114.024 1163.92 Q110.969 1159.32 110.969 1150.59 Q110.969 1141.84 114.024 1137.26 Q117.103 1132.65 122.913 1132.65 Z\" fill=\"#000000\" fill-rule=\"evenodd\" fill-opacity=\"1\" /><path clip-path=\"url(#clip020)\" d=\"M53.3995 868.739 L61.0384 868.739 L61.0384 842.373 L52.7282 844.04 L52.7282 839.781 L60.9921 838.114 L65.668 838.114 L65.668 868.739 L73.3068 868.739 L73.3068 872.674 L53.3995 872.674 L53.3995 868.739 Z\" fill=\"#000000\" fill-rule=\"evenodd\" fill-opacity=\"1\" /><path clip-path=\"url(#clip020)\" d=\"M92.7512 841.193 Q89.1401 841.193 87.3114 844.758 Q85.5058 848.299 85.5058 855.429 Q85.5058 862.535 87.3114 866.1 Q89.1401 869.642 92.7512 869.642 Q96.3854 869.642 98.1909 866.1 Q100.02 862.535 100.02 855.429 Q100.02 848.299 98.1909 844.758 Q96.3854 841.193 92.7512 841.193 M92.7512 837.489 Q98.5613 837.489 101.617 842.096 Q104.696 846.679 104.696 855.429 Q104.696 864.156 101.617 868.762 Q98.5613 873.345 92.7512 873.345 Q86.941 873.345 83.8623 868.762 Q80.8068 864.156 80.8068 855.429 Q80.8068 846.679 83.8623 842.096 Q86.941 837.489 92.7512 837.489 Z\" fill=\"#000000\" fill-rule=\"evenodd\" fill-opacity=\"1\" /><path clip-path=\"url(#clip020)\" d=\"M122.913 841.193 Q119.302 841.193 117.473 844.758 Q115.668 848.299 115.668 855.429 Q115.668 862.535 117.473 866.1 Q119.302 869.642 122.913 869.642 Q126.547 869.642 128.353 866.1 Q130.182 862.535 130.182 855.429 Q130.182 848.299 128.353 844.758 Q126.547 841.193 122.913 841.193 M122.913 837.489 Q128.723 837.489 131.779 842.096 Q134.857 846.679 134.857 855.429 Q134.857 864.156 131.779 868.762 Q128.723 873.345 122.913 873.345 Q117.103 873.345 114.024 868.762 Q110.969 864.156 110.969 855.429 Q110.969 846.679 114.024 842.096 Q117.103 837.489 122.913 837.489 Z\" fill=\"#000000\" fill-rule=\"evenodd\" fill-opacity=\"1\" /><path clip-path=\"url(#clip020)\" d=\"M53.3995 573.578 L61.0384 573.578 L61.0384 547.213 L52.7282 548.879 L52.7282 544.62 L60.9921 542.953 L65.668 542.953 L65.668 573.578 L73.3068 573.578 L73.3068 577.513 L53.3995 577.513 L53.3995 573.578 Z\" fill=\"#000000\" fill-rule=\"evenodd\" fill-opacity=\"1\" /><path clip-path=\"url(#clip020)\" d=\"M82.7975 542.953 L101.154 542.953 L101.154 546.889 L87.0799 546.889 L87.0799 555.361 Q88.0984 555.014 89.1169 554.852 Q90.1354 554.666 91.1539 554.666 Q96.941 554.666 100.321 557.838 Q103.7 561.009 103.7 566.426 Q103.7 572.004 100.228 575.106 Q96.7558 578.185 90.4364 578.185 Q88.2604 578.185 85.9919 577.814 Q83.7466 577.444 81.3392 576.703 L81.3392 572.004 Q83.4225 573.138 85.6447 573.694 Q87.8669 574.25 90.3438 574.25 Q94.3484 574.25 96.6863 572.143 Q99.0243 570.037 99.0243 566.426 Q99.0243 562.814 96.6863 560.708 Q94.3484 558.602 90.3438 558.602 Q88.4688 558.602 86.5938 559.018 Q84.7419 559.435 82.7975 560.314 L82.7975 542.953 Z\" fill=\"#000000\" fill-rule=\"evenodd\" fill-opacity=\"1\" /><path clip-path=\"url(#clip020)\" d=\"M122.913 546.032 Q119.302 546.032 117.473 549.597 Q115.668 553.139 115.668 560.268 Q115.668 567.375 117.473 570.939 Q119.302 574.481 122.913 574.481 Q126.547 574.481 128.353 570.939 Q130.182 567.375 130.182 560.268 Q130.182 553.139 128.353 549.597 Q126.547 546.032 122.913 546.032 M122.913 542.328 Q128.723 542.328 131.779 546.935 Q134.857 551.518 134.857 560.268 Q134.857 568.995 131.779 573.601 Q128.723 578.185 122.913 578.185 Q117.103 578.185 114.024 573.601 Q110.969 568.995 110.969 560.268 Q110.969 551.518 114.024 546.935 Q117.103 542.328 122.913 542.328 Z\" fill=\"#000000\" fill-rule=\"evenodd\" fill-opacity=\"1\" /><path clip-path=\"url(#clip020)\" d=\"M56.6171 278.418 L72.9365 278.418 L72.9365 282.353 L50.9921 282.353 L50.9921 278.418 Q53.6541 275.663 58.2375 271.033 Q62.8439 266.381 64.0245 265.038 Q66.2698 262.515 67.1494 260.779 Q68.0522 259.02 68.0522 257.33 Q68.0522 254.575 66.1078 252.839 Q64.1865 251.103 61.0847 251.103 Q58.8856 251.103 56.4319 251.867 Q54.0014 252.631 51.2236 254.182 L51.2236 249.459 Q54.0477 248.325 56.5014 247.746 Q58.955 247.168 60.9921 247.168 Q66.3624 247.168 69.5568 249.853 Q72.7513 252.538 72.7513 257.029 Q72.7513 259.158 71.9411 261.08 Q71.1541 262.978 69.0476 265.57 Q68.4689 266.242 65.367 269.459 Q62.2652 272.654 56.6171 278.418 Z\" fill=\"#000000\" fill-rule=\"evenodd\" fill-opacity=\"1\" /><path clip-path=\"url(#clip020)\" d=\"M92.7512 250.871 Q89.1401 250.871 87.3114 254.436 Q85.5058 257.978 85.5058 265.107 Q85.5058 272.214 87.3114 275.779 Q89.1401 279.32 92.7512 279.32 Q96.3854 279.32 98.1909 275.779 Q100.02 272.214 100.02 265.107 Q100.02 257.978 98.1909 254.436 Q96.3854 250.871 92.7512 250.871 M92.7512 247.168 Q98.5613 247.168 101.617 251.774 Q104.696 256.357 104.696 265.107 Q104.696 273.834 101.617 278.441 Q98.5613 283.024 92.7512 283.024 Q86.941 283.024 83.8623 278.441 Q80.8068 273.834 80.8068 265.107 Q80.8068 256.357 83.8623 251.774 Q86.941 247.168 92.7512 247.168 Z\" fill=\"#000000\" fill-rule=\"evenodd\" fill-opacity=\"1\" /><path clip-path=\"url(#clip020)\" d=\"M122.913 250.871 Q119.302 250.871 117.473 254.436 Q115.668 257.978 115.668 265.107 Q115.668 272.214 117.473 275.779 Q119.302 279.32 122.913 279.32 Q126.547 279.32 128.353 275.779 Q130.182 272.214 130.182 265.107 Q130.182 257.978 128.353 254.436 Q126.547 250.871 122.913 250.871 M122.913 247.168 Q128.723 247.168 131.779 251.774 Q134.857 256.357 134.857 265.107 Q134.857 273.834 131.779 278.441 Q128.723 283.024 122.913 283.024 Q117.103 283.024 114.024 278.441 Q110.969 273.834 110.969 265.107 Q110.969 256.357 114.024 251.774 Q117.103 247.168 122.913 247.168 Z\" fill=\"#000000\" fill-rule=\"evenodd\" fill-opacity=\"1\" /><path clip-path=\"url(#clip022)\" d=\"M290.866 1433.91 L290.866 1445.72 L420.325 1445.72 L420.325 1433.91 L290.866 1433.91 L290.866 1433.91  Z\" fill=\"#009af9\" fill-rule=\"evenodd\" fill-opacity=\"1\"/>\n",
       "<polyline clip-path=\"url(#clip022)\" style=\"stroke:#000000; stroke-linecap:round; stroke-linejoin:round; stroke-width:4; stroke-opacity:1; fill:none\" points=\"290.866,1433.91 290.866,1445.72 420.325,1445.72 420.325,1433.91 290.866,1433.91 \"/>\n",
       "<path clip-path=\"url(#clip022)\" d=\"M420.325 1433.91 L420.325 1445.72 L549.783 1445.72 L549.783 1433.91 L420.325 1433.91 L420.325 1433.91  Z\" fill=\"#009af9\" fill-rule=\"evenodd\" fill-opacity=\"1\"/>\n",
       "<polyline clip-path=\"url(#clip022)\" style=\"stroke:#000000; stroke-linecap:round; stroke-linejoin:round; stroke-width:4; stroke-opacity:1; fill:none\" points=\"420.325,1433.91 420.325,1445.72 549.783,1445.72 549.783,1433.91 420.325,1433.91 \"/>\n",
       "<path clip-path=\"url(#clip022)\" d=\"M549.783 1339.46 L549.783 1445.72 L679.242 1445.72 L679.242 1339.46 L549.783 1339.46 L549.783 1339.46  Z\" fill=\"#009af9\" fill-rule=\"evenodd\" fill-opacity=\"1\"/>\n",
       "<polyline clip-path=\"url(#clip022)\" style=\"stroke:#000000; stroke-linecap:round; stroke-linejoin:round; stroke-width:4; stroke-opacity:1; fill:none\" points=\"549.783,1339.46 549.783,1445.72 679.242,1445.72 679.242,1339.46 549.783,1339.46 \"/>\n",
       "<path clip-path=\"url(#clip022)\" d=\"M679.242 1144.65 L679.242 1445.72 L808.701 1445.72 L808.701 1144.65 L679.242 1144.65 L679.242 1144.65  Z\" fill=\"#009af9\" fill-rule=\"evenodd\" fill-opacity=\"1\"/>\n",
       "<polyline clip-path=\"url(#clip022)\" style=\"stroke:#000000; stroke-linecap:round; stroke-linejoin:round; stroke-width:4; stroke-opacity:1; fill:none\" points=\"679.242,1144.65 679.242,1445.72 808.701,1445.72 808.701,1144.65 679.242,1144.65 \"/>\n",
       "<path clip-path=\"url(#clip022)\" d=\"M808.701 772.749 L808.701 1445.72 L938.16 1445.72 L938.16 772.749 L808.701 772.749 L808.701 772.749  Z\" fill=\"#009af9\" fill-rule=\"evenodd\" fill-opacity=\"1\"/>\n",
       "<polyline clip-path=\"url(#clip022)\" style=\"stroke:#000000; stroke-linecap:round; stroke-linejoin:round; stroke-width:4; stroke-opacity:1; fill:none\" points=\"808.701,772.749 808.701,1445.72 938.16,1445.72 938.16,772.749 808.701,772.749 \"/>\n",
       "<path clip-path=\"url(#clip022)\" d=\"M938.16 577.943 L938.16 1445.72 L1067.62 1445.72 L1067.62 577.943 L938.16 577.943 L938.16 577.943  Z\" fill=\"#009af9\" fill-rule=\"evenodd\" fill-opacity=\"1\"/>\n",
       "<polyline clip-path=\"url(#clip022)\" style=\"stroke:#000000; stroke-linecap:round; stroke-linejoin:round; stroke-width:4; stroke-opacity:1; fill:none\" points=\"938.16,577.943 938.16,1445.72 1067.62,1445.72 1067.62,577.943 938.16,577.943 \"/>\n",
       "<path clip-path=\"url(#clip022)\" d=\"M1067.62 359.524 L1067.62 1445.72 L1197.08 1445.72 L1197.08 359.524 L1067.62 359.524 L1067.62 359.524  Z\" fill=\"#009af9\" fill-rule=\"evenodd\" fill-opacity=\"1\"/>\n",
       "<polyline clip-path=\"url(#clip022)\" style=\"stroke:#000000; stroke-linecap:round; stroke-linejoin:round; stroke-width:4; stroke-opacity:1; fill:none\" points=\"1067.62,359.524 1067.62,1445.72 1197.08,1445.72 1197.08,359.524 1067.62,359.524 \"/>\n",
       "<path clip-path=\"url(#clip022)\" d=\"M1197.08 371.331 L1197.08 1445.72 L1326.54 1445.72 L1326.54 371.331 L1197.08 371.331 L1197.08 371.331  Z\" fill=\"#009af9\" fill-rule=\"evenodd\" fill-opacity=\"1\"/>\n",
       "<polyline clip-path=\"url(#clip022)\" style=\"stroke:#000000; stroke-linecap:round; stroke-linejoin:round; stroke-width:4; stroke-opacity:1; fill:none\" points=\"1197.08,371.331 1197.08,1445.72 1326.54,1445.72 1326.54,371.331 1197.08,371.331 \"/>\n",
       "<path clip-path=\"url(#clip022)\" d=\"M1326.54 648.782 L1326.54 1445.72 L1455.99 1445.72 L1455.99 648.782 L1326.54 648.782 L1326.54 648.782  Z\" fill=\"#009af9\" fill-rule=\"evenodd\" fill-opacity=\"1\"/>\n",
       "<polyline clip-path=\"url(#clip022)\" style=\"stroke:#000000; stroke-linecap:round; stroke-linejoin:round; stroke-width:4; stroke-opacity:1; fill:none\" points=\"1326.54,648.782 1326.54,1445.72 1455.99,1445.72 1455.99,648.782 1326.54,648.782 \"/>\n",
       "<path clip-path=\"url(#clip022)\" d=\"M1455.99 867.201 L1455.99 1445.72 L1585.45 1445.72 L1585.45 867.201 L1455.99 867.201 L1455.99 867.201  Z\" fill=\"#009af9\" fill-rule=\"evenodd\" fill-opacity=\"1\"/>\n",
       "<polyline clip-path=\"url(#clip022)\" style=\"stroke:#000000; stroke-linecap:round; stroke-linejoin:round; stroke-width:4; stroke-opacity:1; fill:none\" points=\"1455.99,867.201 1455.99,1445.72 1585.45,1445.72 1585.45,867.201 1455.99,867.201 \"/>\n",
       "<path clip-path=\"url(#clip022)\" d=\"M1585.45 1191.88 L1585.45 1445.72 L1714.91 1445.72 L1714.91 1191.88 L1585.45 1191.88 L1585.45 1191.88  Z\" fill=\"#009af9\" fill-rule=\"evenodd\" fill-opacity=\"1\"/>\n",
       "<polyline clip-path=\"url(#clip022)\" style=\"stroke:#000000; stroke-linecap:round; stroke-linejoin:round; stroke-width:4; stroke-opacity:1; fill:none\" points=\"1585.45,1191.88 1585.45,1445.72 1714.91,1445.72 1714.91,1191.88 1585.45,1191.88 \"/>\n",
       "<path clip-path=\"url(#clip022)\" d=\"M1714.91 1363.07 L1714.91 1445.72 L1844.37 1445.72 L1844.37 1363.07 L1714.91 1363.07 L1714.91 1363.07  Z\" fill=\"#009af9\" fill-rule=\"evenodd\" fill-opacity=\"1\"/>\n",
       "<polyline clip-path=\"url(#clip022)\" style=\"stroke:#000000; stroke-linecap:round; stroke-linejoin:round; stroke-width:4; stroke-opacity:1; fill:none\" points=\"1714.91,1363.07 1714.91,1445.72 1844.37,1445.72 1844.37,1363.07 1714.91,1363.07 \"/>\n",
       "<path clip-path=\"url(#clip022)\" d=\"M1844.37 1416.2 L1844.37 1445.72 L1973.83 1445.72 L1973.83 1416.2 L1844.37 1416.2 L1844.37 1416.2  Z\" fill=\"#009af9\" fill-rule=\"evenodd\" fill-opacity=\"1\"/>\n",
       "<polyline clip-path=\"url(#clip022)\" style=\"stroke:#000000; stroke-linecap:round; stroke-linejoin:round; stroke-width:4; stroke-opacity:1; fill:none\" points=\"1844.37,1416.2 1844.37,1445.72 1973.83,1445.72 1973.83,1416.2 1844.37,1416.2 \"/>\n",
       "<path clip-path=\"url(#clip022)\" d=\"M1973.83 1422.1 L1973.83 1445.72 L2103.29 1445.72 L2103.29 1422.1 L1973.83 1422.1 L1973.83 1422.1  Z\" fill=\"#009af9\" fill-rule=\"evenodd\" fill-opacity=\"1\"/>\n",
       "<polyline clip-path=\"url(#clip022)\" style=\"stroke:#000000; stroke-linecap:round; stroke-linejoin:round; stroke-width:4; stroke-opacity:1; fill:none\" points=\"1973.83,1422.1 1973.83,1445.72 2103.29,1445.72 2103.29,1422.1 1973.83,1422.1 \"/>\n",
       "<path clip-path=\"url(#clip022)\" d=\"M2103.29 1439.81 L2103.29 1445.72 L2232.75 1445.72 L2232.75 1439.81 L2103.29 1439.81 L2103.29 1439.81  Z\" fill=\"#009af9\" fill-rule=\"evenodd\" fill-opacity=\"1\"/>\n",
       "<polyline clip-path=\"url(#clip022)\" style=\"stroke:#000000; stroke-linecap:round; stroke-linejoin:round; stroke-width:4; stroke-opacity:1; fill:none\" points=\"2103.29,1439.81 2103.29,1445.72 2232.75,1445.72 2232.75,1439.81 2103.29,1439.81 \"/>\n",
       "<circle clip-path=\"url(#clip022)\" style=\"fill:#009af9; stroke:none; fill-opacity:0\" cx=\"355.595\" cy=\"1433.91\" r=\"2\"/>\n",
       "<circle clip-path=\"url(#clip022)\" style=\"fill:#009af9; stroke:none; fill-opacity:0\" cx=\"485.054\" cy=\"1433.91\" r=\"2\"/>\n",
       "<circle clip-path=\"url(#clip022)\" style=\"fill:#009af9; stroke:none; fill-opacity:0\" cx=\"614.513\" cy=\"1339.46\" r=\"2\"/>\n",
       "<circle clip-path=\"url(#clip022)\" style=\"fill:#009af9; stroke:none; fill-opacity:0\" cx=\"743.971\" cy=\"1144.65\" r=\"2\"/>\n",
       "<circle clip-path=\"url(#clip022)\" style=\"fill:#009af9; stroke:none; fill-opacity:0\" cx=\"873.43\" cy=\"772.749\" r=\"2\"/>\n",
       "<circle clip-path=\"url(#clip022)\" style=\"fill:#009af9; stroke:none; fill-opacity:0\" cx=\"1002.89\" cy=\"577.943\" r=\"2\"/>\n",
       "<circle clip-path=\"url(#clip022)\" style=\"fill:#009af9; stroke:none; fill-opacity:0\" cx=\"1132.35\" cy=\"359.524\" r=\"2\"/>\n",
       "<circle clip-path=\"url(#clip022)\" style=\"fill:#009af9; stroke:none; fill-opacity:0\" cx=\"1261.81\" cy=\"371.331\" r=\"2\"/>\n",
       "<circle clip-path=\"url(#clip022)\" style=\"fill:#009af9; stroke:none; fill-opacity:0\" cx=\"1391.27\" cy=\"648.782\" r=\"2\"/>\n",
       "<circle clip-path=\"url(#clip022)\" style=\"fill:#009af9; stroke:none; fill-opacity:0\" cx=\"1520.72\" cy=\"867.201\" r=\"2\"/>\n",
       "<circle clip-path=\"url(#clip022)\" style=\"fill:#009af9; stroke:none; fill-opacity:0\" cx=\"1650.18\" cy=\"1191.88\" r=\"2\"/>\n",
       "<circle clip-path=\"url(#clip022)\" style=\"fill:#009af9; stroke:none; fill-opacity:0\" cx=\"1779.64\" cy=\"1363.07\" r=\"2\"/>\n",
       "<circle clip-path=\"url(#clip022)\" style=\"fill:#009af9; stroke:none; fill-opacity:0\" cx=\"1909.1\" cy=\"1416.2\" r=\"2\"/>\n",
       "<circle clip-path=\"url(#clip022)\" style=\"fill:#009af9; stroke:none; fill-opacity:0\" cx=\"2038.56\" cy=\"1422.1\" r=\"2\"/>\n",
       "<circle clip-path=\"url(#clip022)\" style=\"fill:#009af9; stroke:none; fill-opacity:0\" cx=\"2168.02\" cy=\"1439.81\" r=\"2\"/>\n",
       "<path clip-path=\"url(#clip022)\" d=\"M549.783 1327.65 L549.783 1445.72 L562.729 1445.72 L562.729 1327.65 L549.783 1327.65 L549.783 1327.65  Z\" fill=\"#e26f46\" fill-rule=\"evenodd\" fill-opacity=\"1\"/>\n",
       "<polyline clip-path=\"url(#clip022)\" style=\"stroke:#000000; stroke-linecap:round; stroke-linejoin:round; stroke-width:4; stroke-opacity:1; fill:none\" points=\"549.783,1327.65 549.783,1445.72 562.729,1445.72 562.729,1327.65 549.783,1327.65 \"/>\n",
       "<path clip-path=\"url(#clip022)\" d=\"M562.729 672.395 L562.729 1445.72 L575.675 1445.72 L575.675 672.395 L562.729 672.395 L562.729 672.395  Z\" fill=\"#e26f46\" fill-rule=\"evenodd\" fill-opacity=\"1\"/>\n",
       "<polyline clip-path=\"url(#clip022)\" style=\"stroke:#000000; stroke-linecap:round; stroke-linejoin:round; stroke-width:4; stroke-opacity:1; fill:none\" points=\"562.729,672.395 562.729,1445.72 575.675,1445.72 575.675,672.395 562.729,672.395 \"/>\n",
       "<path clip-path=\"url(#clip022)\" d=\"M575.675 235.557 L575.675 1445.72 L588.621 1445.72 L588.621 235.557 L575.675 235.557 L575.675 235.557  Z\" fill=\"#e26f46\" fill-rule=\"evenodd\" fill-opacity=\"1\"/>\n",
       "<polyline clip-path=\"url(#clip022)\" style=\"stroke:#000000; stroke-linecap:round; stroke-linejoin:round; stroke-width:4; stroke-opacity:1; fill:none\" points=\"575.675,235.557 575.675,1445.72 588.621,1445.72 588.621,235.557 575.675,235.557 \"/>\n",
       "<path clip-path=\"url(#clip022)\" d=\"M588.621 206.041 L588.621 1445.72 L601.567 1445.72 L601.567 206.041 L588.621 206.041 L588.621 206.041  Z\" fill=\"#e26f46\" fill-rule=\"evenodd\" fill-opacity=\"1\"/>\n",
       "<polyline clip-path=\"url(#clip022)\" style=\"stroke:#000000; stroke-linecap:round; stroke-linejoin:round; stroke-width:4; stroke-opacity:1; fill:none\" points=\"588.621,206.041 588.621,1445.72 601.567,1445.72 601.567,206.041 588.621,206.041 \"/>\n",
       "<path clip-path=\"url(#clip022)\" d=\"M601.567 87.9763 L601.567 1445.72 L614.513 1445.72 L614.513 87.9763 L601.567 87.9763 L601.567 87.9763  Z\" fill=\"#e26f46\" fill-rule=\"evenodd\" fill-opacity=\"1\"/>\n",
       "<polyline clip-path=\"url(#clip022)\" style=\"stroke:#000000; stroke-linecap:round; stroke-linejoin:round; stroke-width:4; stroke-opacity:1; fill:none\" points=\"601.567,87.9763 601.567,1445.72 614.513,1445.72 614.513,87.9763 601.567,87.9763 \"/>\n",
       "<path clip-path=\"url(#clip022)\" d=\"M614.513 784.556 L614.513 1445.72 L627.459 1445.72 L627.459 784.556 L614.513 784.556 L614.513 784.556  Z\" fill=\"#e26f46\" fill-rule=\"evenodd\" fill-opacity=\"1\"/>\n",
       "<polyline clip-path=\"url(#clip022)\" style=\"stroke:#000000; stroke-linecap:round; stroke-linejoin:round; stroke-width:4; stroke-opacity:1; fill:none\" points=\"614.513,784.556 614.513,1445.72 627.459,1445.72 627.459,784.556 614.513,784.556 \"/>\n",
       "<path clip-path=\"url(#clip022)\" d=\"M627.459 1103.33 L627.459 1445.72 L640.404 1445.72 L640.404 1103.33 L627.459 1103.33 L627.459 1103.33  Z\" fill=\"#e26f46\" fill-rule=\"evenodd\" fill-opacity=\"1\"/>\n",
       "<polyline clip-path=\"url(#clip022)\" style=\"stroke:#000000; stroke-linecap:round; stroke-linejoin:round; stroke-width:4; stroke-opacity:1; fill:none\" points=\"627.459,1103.33 627.459,1445.72 640.404,1445.72 640.404,1103.33 627.459,1103.33 \"/>\n",
       "<path clip-path=\"url(#clip022)\" d=\"M640.404 1262.72 L640.404 1445.72 L653.35 1445.72 L653.35 1262.72 L640.404 1262.72 L640.404 1262.72  Z\" fill=\"#e26f46\" fill-rule=\"evenodd\" fill-opacity=\"1\"/>\n",
       "<polyline clip-path=\"url(#clip022)\" style=\"stroke:#000000; stroke-linecap:round; stroke-linejoin:round; stroke-width:4; stroke-opacity:1; fill:none\" points=\"640.404,1262.72 640.404,1445.72 653.35,1445.72 653.35,1262.72 640.404,1262.72 \"/>\n",
       "<path clip-path=\"url(#clip022)\" d=\"M653.35 1428.01 L653.35 1445.72 L666.296 1445.72 L666.296 1428.01 L653.35 1428.01 L653.35 1428.01  Z\" fill=\"#e26f46\" fill-rule=\"evenodd\" fill-opacity=\"1\"/>\n",
       "<polyline clip-path=\"url(#clip022)\" style=\"stroke:#000000; stroke-linecap:round; stroke-linejoin:round; stroke-width:4; stroke-opacity:1; fill:none\" points=\"653.35,1428.01 653.35,1445.72 666.296,1445.72 666.296,1428.01 653.35,1428.01 \"/>\n",
       "<circle clip-path=\"url(#clip022)\" style=\"fill:#e26f46; stroke:none; fill-opacity:0\" cx=\"556.256\" cy=\"1327.65\" r=\"2\"/>\n",
       "<circle clip-path=\"url(#clip022)\" style=\"fill:#e26f46; stroke:none; fill-opacity:0\" cx=\"569.202\" cy=\"672.395\" r=\"2\"/>\n",
       "<circle clip-path=\"url(#clip022)\" style=\"fill:#e26f46; stroke:none; fill-opacity:0\" cx=\"582.148\" cy=\"235.557\" r=\"2\"/>\n",
       "<circle clip-path=\"url(#clip022)\" style=\"fill:#e26f46; stroke:none; fill-opacity:0\" cx=\"595.094\" cy=\"206.041\" r=\"2\"/>\n",
       "<circle clip-path=\"url(#clip022)\" style=\"fill:#e26f46; stroke:none; fill-opacity:0\" cx=\"608.04\" cy=\"87.9763\" r=\"2\"/>\n",
       "<circle clip-path=\"url(#clip022)\" style=\"fill:#e26f46; stroke:none; fill-opacity:0\" cx=\"620.986\" cy=\"784.556\" r=\"2\"/>\n",
       "<circle clip-path=\"url(#clip022)\" style=\"fill:#e26f46; stroke:none; fill-opacity:0\" cx=\"633.932\" cy=\"1103.33\" r=\"2\"/>\n",
       "<circle clip-path=\"url(#clip022)\" style=\"fill:#e26f46; stroke:none; fill-opacity:0\" cx=\"646.877\" cy=\"1262.72\" r=\"2\"/>\n",
       "<circle clip-path=\"url(#clip022)\" style=\"fill:#e26f46; stroke:none; fill-opacity:0\" cx=\"659.823\" cy=\"1428.01\" r=\"2\"/>\n",
       "<path clip-path=\"url(#clip020)\" d=\"M1899.41 250.738 L2280.03 250.738 L2280.03 95.2176 L1899.41 95.2176  Z\" fill=\"#ffffff\" fill-rule=\"evenodd\" fill-opacity=\"1\"/>\n",
       "<polyline clip-path=\"url(#clip020)\" style=\"stroke:#000000; stroke-linecap:round; stroke-linejoin:round; stroke-width:4; stroke-opacity:1; fill:none\" points=\"1899.41,250.738 2280.03,250.738 2280.03,95.2176 1899.41,95.2176 1899.41,250.738 \"/>\n",
       "<path clip-path=\"url(#clip020)\" d=\"M1923.65 167.794 L2069.11 167.794 L2069.11 126.322 L1923.65 126.322 L1923.65 167.794  Z\" fill=\"#009af9\" fill-rule=\"evenodd\" fill-opacity=\"1\"/>\n",
       "<polyline clip-path=\"url(#clip020)\" style=\"stroke:#000000; stroke-linecap:round; stroke-linejoin:round; stroke-width:4; stroke-opacity:1; fill:none\" points=\"1923.65,167.794 2069.11,167.794 2069.11,126.322 1923.65,126.322 1923.65,167.794 \"/>\n",
       "<path clip-path=\"url(#clip020)\" d=\"M2093.35 129.778 L2099.65 129.778 L2114.97 158.689 L2114.97 129.778 L2119.51 129.778 L2119.51 164.338 L2113.21 164.338 L2097.89 135.426 L2097.89 164.338 L2093.35 164.338 L2093.35 129.778 Z\" fill=\"#000000\" fill-rule=\"evenodd\" fill-opacity=\"1\" /><path clip-path=\"url(#clip020)\" d=\"M2138.68 141.398 Q2135.25 141.398 2133.26 144.083 Q2131.27 146.745 2131.27 151.398 Q2131.27 156.051 2133.24 158.736 Q2135.23 161.398 2138.68 161.398 Q2142.08 161.398 2144.07 158.713 Q2146.06 156.027 2146.06 151.398 Q2146.06 146.791 2144.07 144.106 Q2142.08 141.398 2138.68 141.398 M2138.68 137.787 Q2144.23 137.787 2147.4 141.398 Q2150.57 145.009 2150.57 151.398 Q2150.57 157.764 2147.4 161.398 Q2144.23 165.009 2138.68 165.009 Q2133.1 165.009 2129.93 161.398 Q2126.78 157.764 2126.78 151.398 Q2126.78 145.009 2129.93 141.398 Q2133.1 137.787 2138.68 137.787 Z\" fill=\"#000000\" fill-rule=\"evenodd\" fill-opacity=\"1\" /><path clip-path=\"url(#clip020)\" d=\"M2172.66 142.393 Q2171.94 141.977 2171.08 141.791 Q2170.25 141.583 2169.23 141.583 Q2165.62 141.583 2163.68 143.944 Q2161.76 146.282 2161.76 150.68 L2161.76 164.338 L2157.47 164.338 L2157.47 138.412 L2161.76 138.412 L2161.76 142.44 Q2163.1 140.078 2165.25 138.944 Q2167.4 137.787 2170.48 137.787 Q2170.92 137.787 2171.45 137.856 Q2171.99 137.903 2172.63 138.018 L2172.66 142.393 Z\" fill=\"#000000\" fill-rule=\"evenodd\" fill-opacity=\"1\" /><path clip-path=\"url(#clip020)\" d=\"M2196.48 143.389 Q2198.07 140.518 2200.3 139.153 Q2202.52 137.787 2205.53 137.787 Q2209.58 137.787 2211.78 140.634 Q2213.98 143.458 2213.98 148.689 L2213.98 164.338 L2209.69 164.338 L2209.69 148.828 Q2209.69 145.102 2208.38 143.296 Q2207.06 141.49 2204.35 141.49 Q2201.04 141.49 2199.12 143.69 Q2197.19 145.889 2197.19 149.685 L2197.19 164.338 L2192.91 164.338 L2192.91 148.828 Q2192.91 145.078 2191.59 143.296 Q2190.27 141.49 2187.52 141.49 Q2184.26 141.49 2182.33 143.713 Q2180.41 145.912 2180.41 149.685 L2180.41 164.338 L2176.13 164.338 L2176.13 138.412 L2180.41 138.412 L2180.41 142.44 Q2181.87 140.055 2183.91 138.921 Q2185.95 137.787 2188.75 137.787 Q2191.57 137.787 2193.54 139.222 Q2195.53 140.657 2196.48 143.389 Z\" fill=\"#000000\" fill-rule=\"evenodd\" fill-opacity=\"1\" /><path clip-path=\"url(#clip020)\" d=\"M2234.25 151.305 Q2229.09 151.305 2227.1 152.486 Q2225.11 153.666 2225.11 156.514 Q2225.11 158.782 2226.59 160.125 Q2228.1 161.444 2230.67 161.444 Q2234.21 161.444 2236.34 158.944 Q2238.49 156.421 2238.49 152.254 L2238.49 151.305 L2234.25 151.305 M2242.75 149.546 L2242.75 164.338 L2238.49 164.338 L2238.49 160.402 Q2237.03 162.763 2234.86 163.898 Q2232.68 165.009 2229.53 165.009 Q2225.55 165.009 2223.19 162.787 Q2220.85 160.541 2220.85 156.791 Q2220.85 152.416 2223.77 150.194 Q2226.71 147.972 2232.52 147.972 L2238.49 147.972 L2238.49 147.555 Q2238.49 144.615 2236.55 143.018 Q2234.63 141.398 2231.13 141.398 Q2228.91 141.398 2226.8 141.93 Q2224.69 142.463 2222.75 143.527 L2222.75 139.592 Q2225.09 138.69 2227.29 138.25 Q2229.49 137.787 2231.57 137.787 Q2237.19 137.787 2239.97 140.703 Q2242.75 143.62 2242.75 149.546 Z\" fill=\"#000000\" fill-rule=\"evenodd\" fill-opacity=\"1\" /><path clip-path=\"url(#clip020)\" d=\"M2251.52 128.319 L2255.78 128.319 L2255.78 164.338 L2251.52 164.338 L2251.52 128.319 Z\" fill=\"#000000\" fill-rule=\"evenodd\" fill-opacity=\"1\" /><path clip-path=\"url(#clip020)\" d=\"M1923.65 219.634 L2069.11 219.634 L2069.11 178.162 L1923.65 178.162 L1923.65 219.634  Z\" fill=\"#e26f46\" fill-rule=\"evenodd\" fill-opacity=\"1\"/>\n",
       "<polyline clip-path=\"url(#clip020)\" style=\"stroke:#000000; stroke-linecap:round; stroke-linejoin:round; stroke-width:4; stroke-opacity:1; fill:none\" points=\"1923.65,219.634 2069.11,219.634 2069.11,178.162 1923.65,178.162 1923.65,219.634 \"/>\n",
       "<path clip-path=\"url(#clip020)\" d=\"M2098.03 199.673 L2098.03 212.335 L2105.53 212.335 Q2109.3 212.335 2111.11 210.784 Q2112.94 209.21 2112.94 205.992 Q2112.94 202.752 2111.11 201.224 Q2109.3 199.673 2105.53 199.673 L2098.03 199.673 M2098.03 185.46 L2098.03 195.877 L2104.95 195.877 Q2108.38 195.877 2110.04 194.604 Q2111.73 193.307 2111.73 190.668 Q2111.73 188.053 2110.04 186.756 Q2108.38 185.46 2104.95 185.46 L2098.03 185.46 M2093.35 181.618 L2105.3 181.618 Q2110.64 181.618 2113.54 183.84 Q2116.43 186.062 2116.43 190.159 Q2116.43 193.33 2114.95 195.205 Q2113.47 197.08 2110.6 197.543 Q2114.05 198.284 2115.95 200.645 Q2117.87 202.983 2117.87 206.502 Q2117.87 211.131 2114.72 213.654 Q2111.57 216.178 2105.76 216.178 L2093.35 216.178 L2093.35 181.618 Z\" fill=\"#000000\" fill-rule=\"evenodd\" fill-opacity=\"1\" /><path clip-path=\"url(#clip020)\" d=\"M2147.87 202.15 L2147.87 204.233 L2128.28 204.233 Q2128.56 208.631 2130.92 210.946 Q2133.31 213.238 2137.54 213.238 Q2140 213.238 2142.29 212.636 Q2144.6 212.034 2146.87 210.83 L2146.87 214.858 Q2144.58 215.83 2142.17 216.34 Q2139.76 216.849 2137.29 216.849 Q2131.08 216.849 2127.45 213.238 Q2123.84 209.627 2123.84 203.469 Q2123.84 197.104 2127.26 193.377 Q2130.71 189.627 2136.55 189.627 Q2141.78 189.627 2144.81 193.006 Q2147.87 196.363 2147.87 202.15 M2143.61 200.9 Q2143.56 197.405 2141.64 195.321 Q2139.74 193.238 2136.59 193.238 Q2133.03 193.238 2130.88 195.252 Q2128.75 197.266 2128.42 200.923 L2143.61 200.9 Z\" fill=\"#000000\" fill-rule=\"evenodd\" fill-opacity=\"1\" /><path clip-path=\"url(#clip020)\" d=\"M2159.07 182.891 L2159.07 190.252 L2167.84 190.252 L2167.84 193.562 L2159.07 193.562 L2159.07 207.636 Q2159.07 210.807 2159.93 211.71 Q2160.81 212.613 2163.47 212.613 L2167.84 212.613 L2167.84 216.178 L2163.47 216.178 Q2158.54 216.178 2156.66 214.349 Q2154.79 212.497 2154.79 207.636 L2154.79 193.562 L2151.66 193.562 L2151.66 190.252 L2154.79 190.252 L2154.79 182.891 L2159.07 182.891 Z\" fill=\"#000000\" fill-rule=\"evenodd\" fill-opacity=\"1\" /><path clip-path=\"url(#clip020)\" d=\"M2185.23 203.145 Q2180.07 203.145 2178.07 204.326 Q2176.08 205.506 2176.08 208.354 Q2176.08 210.622 2177.57 211.965 Q2179.07 213.284 2181.64 213.284 Q2185.18 213.284 2187.31 210.784 Q2189.46 208.261 2189.46 204.094 L2189.46 203.145 L2185.23 203.145 M2193.72 201.386 L2193.72 216.178 L2189.46 216.178 L2189.46 212.242 Q2188.01 214.603 2185.83 215.738 Q2183.65 216.849 2180.51 216.849 Q2176.52 216.849 2174.16 214.627 Q2171.82 212.381 2171.82 208.631 Q2171.82 204.256 2174.74 202.034 Q2177.68 199.812 2183.49 199.812 L2189.46 199.812 L2189.46 199.395 Q2189.46 196.455 2187.52 194.858 Q2185.6 193.238 2182.1 193.238 Q2179.88 193.238 2177.77 193.77 Q2175.67 194.303 2173.72 195.367 L2173.72 191.432 Q2176.06 190.53 2178.26 190.09 Q2180.46 189.627 2182.54 189.627 Q2188.17 189.627 2190.95 192.543 Q2193.72 195.46 2193.72 201.386 Z\" fill=\"#000000\" fill-rule=\"evenodd\" fill-opacity=\"1\" /></svg>\n"
      ]
     },
     "execution_count": 15,
     "metadata": {},
     "output_type": "execute_result"
    }
   ],
   "source": [
    "a=histogram(x,bins=15,label=\"Normal\")\n",
    "histogram!(a,i,bins=10,label=\"Beta\")"
   ]
  },
  {
   "cell_type": "markdown",
   "id": "b90287bd",
   "metadata": {},
   "source": [
    "### 3.6\n",
    "\n",
    "#### Draw 10000 samples from the two distributions separately and plot them in the same plot"
   ]
  },
  {
   "cell_type": "code",
   "execution_count": 16,
   "id": "98a69dd1",
   "metadata": {},
   "outputs": [
    {
     "data": {
      "text/plain": [
       "10000-element Vector{Float64}:\n",
       " 0.24741146608677736\n",
       " 0.4425615059251241\n",
       " 0.28195962161906396\n",
       " 0.2151359318687954\n",
       " 0.16031120637283608\n",
       " 0.5171928271358174\n",
       " 0.25950429245987106\n",
       " 0.5182519379014758\n",
       " 0.44015706164187224\n",
       " 0.3486454815165849\n",
       " 0.3596747074898225\n",
       " 0.3052569444315555\n",
       " 0.32310136462286587\n",
       " ⋮\n",
       " 0.19470730616413276\n",
       " 0.2589315200960612\n",
       " 0.37821589507857767\n",
       " 0.27397550875643567\n",
       " 0.2868840089852394\n",
       " 0.3560411382436648\n",
       " 0.28262022951287336\n",
       " 0.22955406238703743\n",
       " 0.5633474125963406\n",
       " 0.49628968581882343\n",
       " 0.35923688388602865\n",
       " 0.5763291559069716"
      ]
     },
     "execution_count": 16,
     "metadata": {},
     "output_type": "execute_result"
    }
   ],
   "source": [
    "x1=rand(Normal(5, 2), 10000)\n",
    "f2=rand(Beta(3,5),10000)\n"
   ]
  },
  {
   "cell_type": "code",
   "execution_count": 17,
   "id": "153b375c",
   "metadata": {},
   "outputs": [
    {
     "data": {
      "image/svg+xml": [
       "<?xml version=\"1.0\" encoding=\"utf-8\"?>\n",
       "<svg xmlns=\"http://www.w3.org/2000/svg\" xmlns:xlink=\"http://www.w3.org/1999/xlink\" width=\"600\" height=\"400\" viewBox=\"0 0 2400 1600\">\n",
       "<defs>\n",
       "  <clipPath id=\"clip060\">\n",
       "    <rect x=\"0\" y=\"0\" width=\"2400\" height=\"1600\"/>\n",
       "  </clipPath>\n",
       "</defs>\n",
       "<path clip-path=\"url(#clip060)\" d=\"M0 1600 L2400 1600 L2400 0 L0 0  Z\" fill=\"#ffffff\" fill-rule=\"evenodd\" fill-opacity=\"1\"/>\n",
       "<defs>\n",
       "  <clipPath id=\"clip061\">\n",
       "    <rect x=\"480\" y=\"0\" width=\"1681\" height=\"1600\"/>\n",
       "  </clipPath>\n",
       "</defs>\n",
       "<path clip-path=\"url(#clip060)\" d=\"M201.019 1486.45 L2352.76 1486.45 L2352.76 47.2441 L201.019 47.2441  Z\" fill=\"#ffffff\" fill-rule=\"evenodd\" fill-opacity=\"1\"/>\n",
       "<defs>\n",
       "  <clipPath id=\"clip062\">\n",
       "    <rect x=\"201\" y=\"47\" width=\"2153\" height=\"1440\"/>\n",
       "  </clipPath>\n",
       "</defs>\n",
       "<polyline clip-path=\"url(#clip062)\" style=\"stroke:#000000; stroke-linecap:round; stroke-linejoin:round; stroke-width:2; stroke-opacity:0.1; fill:none\" points=\"574.707,1486.45 574.707,47.2441 \"/>\n",
       "<polyline clip-path=\"url(#clip062)\" style=\"stroke:#000000; stroke-linecap:round; stroke-linejoin:round; stroke-width:2; stroke-opacity:0.1; fill:none\" points=\"957.715,1486.45 957.715,47.2441 \"/>\n",
       "<polyline clip-path=\"url(#clip062)\" style=\"stroke:#000000; stroke-linecap:round; stroke-linejoin:round; stroke-width:2; stroke-opacity:0.1; fill:none\" points=\"1340.72,1486.45 1340.72,47.2441 \"/>\n",
       "<polyline clip-path=\"url(#clip062)\" style=\"stroke:#000000; stroke-linecap:round; stroke-linejoin:round; stroke-width:2; stroke-opacity:0.1; fill:none\" points=\"1723.73,1486.45 1723.73,47.2441 \"/>\n",
       "<polyline clip-path=\"url(#clip062)\" style=\"stroke:#000000; stroke-linecap:round; stroke-linejoin:round; stroke-width:2; stroke-opacity:0.1; fill:none\" points=\"2106.74,1486.45 2106.74,47.2441 \"/>\n",
       "<polyline clip-path=\"url(#clip060)\" style=\"stroke:#000000; stroke-linecap:round; stroke-linejoin:round; stroke-width:4; stroke-opacity:1; fill:none\" points=\"201.019,1486.45 2352.76,1486.45 \"/>\n",
       "<polyline clip-path=\"url(#clip060)\" style=\"stroke:#000000; stroke-linecap:round; stroke-linejoin:round; stroke-width:4; stroke-opacity:1; fill:none\" points=\"574.707,1486.45 574.707,1467.55 \"/>\n",
       "<polyline clip-path=\"url(#clip060)\" style=\"stroke:#000000; stroke-linecap:round; stroke-linejoin:round; stroke-width:4; stroke-opacity:1; fill:none\" points=\"957.715,1486.45 957.715,1467.55 \"/>\n",
       "<polyline clip-path=\"url(#clip060)\" style=\"stroke:#000000; stroke-linecap:round; stroke-linejoin:round; stroke-width:4; stroke-opacity:1; fill:none\" points=\"1340.72,1486.45 1340.72,1467.55 \"/>\n",
       "<polyline clip-path=\"url(#clip060)\" style=\"stroke:#000000; stroke-linecap:round; stroke-linejoin:round; stroke-width:4; stroke-opacity:1; fill:none\" points=\"1723.73,1486.45 1723.73,1467.55 \"/>\n",
       "<polyline clip-path=\"url(#clip060)\" style=\"stroke:#000000; stroke-linecap:round; stroke-linejoin:round; stroke-width:4; stroke-opacity:1; fill:none\" points=\"2106.74,1486.45 2106.74,1467.55 \"/>\n",
       "<path clip-path=\"url(#clip060)\" d=\"M574.707 1517.37 Q571.096 1517.37 569.267 1520.93 Q567.462 1524.47 567.462 1531.6 Q567.462 1538.71 569.267 1542.27 Q571.096 1545.82 574.707 1545.82 Q578.341 1545.82 580.147 1542.27 Q581.976 1538.71 581.976 1531.6 Q581.976 1524.47 580.147 1520.93 Q578.341 1517.37 574.707 1517.37 M574.707 1513.66 Q580.517 1513.66 583.573 1518.27 Q586.651 1522.85 586.651 1531.6 Q586.651 1540.33 583.573 1544.94 Q580.517 1549.52 574.707 1549.52 Q568.897 1549.52 565.818 1544.94 Q562.763 1540.33 562.763 1531.6 Q562.763 1522.85 565.818 1518.27 Q568.897 1513.66 574.707 1513.66 Z\" fill=\"#000000\" fill-rule=\"evenodd\" fill-opacity=\"1\" /><path clip-path=\"url(#clip060)\" d=\"M961.962 1530.21 Q965.319 1530.93 967.194 1533.2 Q969.092 1535.47 969.092 1538.8 Q969.092 1543.92 965.573 1546.72 Q962.055 1549.52 955.573 1549.52 Q953.398 1549.52 951.083 1549.08 Q948.791 1548.66 946.337 1547.81 L946.337 1543.29 Q948.282 1544.43 950.597 1545.01 Q952.911 1545.58 955.435 1545.58 Q959.833 1545.58 962.124 1543.85 Q964.439 1542.11 964.439 1538.8 Q964.439 1535.75 962.286 1534.03 Q960.157 1532.3 956.337 1532.3 L952.31 1532.3 L952.31 1528.45 L956.522 1528.45 Q959.972 1528.45 961.8 1527.09 Q963.629 1525.7 963.629 1523.11 Q963.629 1520.45 961.731 1519.03 Q959.856 1517.6 956.337 1517.6 Q954.416 1517.6 952.217 1518.01 Q950.018 1518.43 947.379 1519.31 L947.379 1515.14 Q950.041 1514.4 952.356 1514.03 Q954.694 1513.66 956.754 1513.66 Q962.078 1513.66 965.18 1516.09 Q968.282 1518.5 968.282 1522.62 Q968.282 1525.49 966.638 1527.48 Q964.995 1529.45 961.962 1530.21 Z\" fill=\"#000000\" fill-rule=\"evenodd\" fill-opacity=\"1\" /><path clip-path=\"url(#clip060)\" d=\"M1341.13 1529.7 Q1337.98 1529.7 1336.13 1531.86 Q1334.3 1534.01 1334.3 1537.76 Q1334.3 1541.49 1336.13 1543.66 Q1337.98 1545.82 1341.13 1545.82 Q1344.28 1545.82 1346.1 1543.66 Q1347.96 1541.49 1347.96 1537.76 Q1347.96 1534.01 1346.1 1531.86 Q1344.28 1529.7 1341.13 1529.7 M1350.41 1515.05 L1350.41 1519.31 Q1348.65 1518.48 1346.84 1518.04 Q1345.06 1517.6 1343.3 1517.6 Q1338.67 1517.6 1336.22 1520.72 Q1333.79 1523.85 1333.44 1530.17 Q1334.81 1528.15 1336.87 1527.09 Q1338.93 1526 1341.41 1526 Q1346.61 1526 1349.62 1529.17 Q1352.66 1532.32 1352.66 1537.76 Q1352.66 1543.08 1349.51 1546.3 Q1346.36 1549.52 1341.13 1549.52 Q1335.13 1549.52 1331.96 1544.94 Q1328.79 1540.33 1328.79 1531.6 Q1328.79 1523.41 1332.68 1518.55 Q1336.57 1513.66 1343.12 1513.66 Q1344.88 1513.66 1346.66 1514.01 Q1348.47 1514.36 1350.41 1515.05 Z\" fill=\"#000000\" fill-rule=\"evenodd\" fill-opacity=\"1\" /><path clip-path=\"url(#clip060)\" d=\"M1714.03 1548.13 L1714.03 1543.87 Q1715.79 1544.7 1717.6 1545.14 Q1719.4 1545.58 1721.14 1545.58 Q1725.77 1545.58 1728.2 1542.48 Q1730.65 1539.36 1731 1533.01 Q1729.66 1535.01 1727.6 1536.07 Q1725.54 1537.13 1723.04 1537.13 Q1717.85 1537.13 1714.82 1534.01 Q1711.81 1530.86 1711.81 1525.42 Q1711.81 1520.1 1714.96 1516.88 Q1718.1 1513.66 1723.34 1513.66 Q1729.33 1513.66 1732.48 1518.27 Q1735.65 1522.85 1735.65 1531.6 Q1735.65 1539.77 1731.76 1544.66 Q1727.9 1549.52 1721.35 1549.52 Q1719.59 1549.52 1717.78 1549.17 Q1715.98 1548.82 1714.03 1548.13 M1723.34 1533.48 Q1726.48 1533.48 1728.31 1531.32 Q1730.16 1529.17 1730.16 1525.42 Q1730.16 1521.7 1728.31 1519.54 Q1726.48 1517.37 1723.34 1517.37 Q1720.19 1517.37 1718.34 1519.54 Q1716.51 1521.7 1716.51 1525.42 Q1716.51 1529.17 1718.34 1531.32 Q1720.19 1533.48 1723.34 1533.48 Z\" fill=\"#000000\" fill-rule=\"evenodd\" fill-opacity=\"1\" /><path clip-path=\"url(#clip060)\" d=\"M2082.22 1544.91 L2089.86 1544.91 L2089.86 1518.55 L2081.55 1520.21 L2081.55 1515.95 L2089.82 1514.29 L2094.49 1514.29 L2094.49 1544.91 L2102.13 1544.91 L2102.13 1548.85 L2082.22 1548.85 L2082.22 1544.91 Z\" fill=\"#000000\" fill-rule=\"evenodd\" fill-opacity=\"1\" /><path clip-path=\"url(#clip060)\" d=\"M2115.6 1544.91 L2131.92 1544.91 L2131.92 1548.85 L2109.98 1548.85 L2109.98 1544.91 Q2112.64 1542.16 2117.22 1537.53 Q2121.83 1532.88 2123.01 1531.53 Q2125.26 1529.01 2126.14 1527.27 Q2127.04 1525.51 2127.04 1523.82 Q2127.04 1521.07 2125.09 1519.33 Q2123.17 1517.6 2120.07 1517.6 Q2117.87 1517.6 2115.42 1518.36 Q2112.99 1519.13 2110.21 1520.68 L2110.21 1515.95 Q2113.03 1514.82 2115.49 1514.24 Q2117.94 1513.66 2119.98 1513.66 Q2125.35 1513.66 2128.54 1516.35 Q2131.74 1519.03 2131.74 1523.52 Q2131.74 1525.65 2130.93 1527.57 Q2130.14 1529.47 2128.03 1532.07 Q2127.45 1532.74 2124.35 1535.95 Q2121.25 1539.15 2115.6 1544.91 Z\" fill=\"#000000\" fill-rule=\"evenodd\" fill-opacity=\"1\" /><polyline clip-path=\"url(#clip062)\" style=\"stroke:#000000; stroke-linecap:round; stroke-linejoin:round; stroke-width:2; stroke-opacity:0.1; fill:none\" points=\"201.019,1445.72 2352.76,1445.72 \"/>\n",
       "<polyline clip-path=\"url(#clip062)\" style=\"stroke:#000000; stroke-linecap:round; stroke-linejoin:round; stroke-width:2; stroke-opacity:0.1; fill:none\" points=\"201.019,1148.75 2352.76,1148.75 \"/>\n",
       "<polyline clip-path=\"url(#clip062)\" style=\"stroke:#000000; stroke-linecap:round; stroke-linejoin:round; stroke-width:2; stroke-opacity:0.1; fill:none\" points=\"201.019,851.779 2352.76,851.779 \"/>\n",
       "<polyline clip-path=\"url(#clip062)\" style=\"stroke:#000000; stroke-linecap:round; stroke-linejoin:round; stroke-width:2; stroke-opacity:0.1; fill:none\" points=\"201.019,554.811 2352.76,554.811 \"/>\n",
       "<polyline clip-path=\"url(#clip062)\" style=\"stroke:#000000; stroke-linecap:round; stroke-linejoin:round; stroke-width:2; stroke-opacity:0.1; fill:none\" points=\"201.019,257.842 2352.76,257.842 \"/>\n",
       "<polyline clip-path=\"url(#clip060)\" style=\"stroke:#000000; stroke-linecap:round; stroke-linejoin:round; stroke-width:4; stroke-opacity:1; fill:none\" points=\"201.019,1486.45 201.019,47.2441 \"/>\n",
       "<polyline clip-path=\"url(#clip060)\" style=\"stroke:#000000; stroke-linecap:round; stroke-linejoin:round; stroke-width:4; stroke-opacity:1; fill:none\" points=\"201.019,1445.72 219.917,1445.72 \"/>\n",
       "<polyline clip-path=\"url(#clip060)\" style=\"stroke:#000000; stroke-linecap:round; stroke-linejoin:round; stroke-width:4; stroke-opacity:1; fill:none\" points=\"201.019,1148.75 219.917,1148.75 \"/>\n",
       "<polyline clip-path=\"url(#clip060)\" style=\"stroke:#000000; stroke-linecap:round; stroke-linejoin:round; stroke-width:4; stroke-opacity:1; fill:none\" points=\"201.019,851.779 219.917,851.779 \"/>\n",
       "<polyline clip-path=\"url(#clip060)\" style=\"stroke:#000000; stroke-linecap:round; stroke-linejoin:round; stroke-width:4; stroke-opacity:1; fill:none\" points=\"201.019,554.811 219.917,554.811 \"/>\n",
       "<polyline clip-path=\"url(#clip060)\" style=\"stroke:#000000; stroke-linecap:round; stroke-linejoin:round; stroke-width:4; stroke-opacity:1; fill:none\" points=\"201.019,257.842 219.917,257.842 \"/>\n",
       "<path clip-path=\"url(#clip060)\" d=\"M153.075 1431.51 Q149.464 1431.51 147.635 1435.08 Q145.83 1438.62 145.83 1445.75 Q145.83 1452.86 147.635 1456.42 Q149.464 1459.96 153.075 1459.96 Q156.709 1459.96 158.515 1456.42 Q160.343 1452.86 160.343 1445.75 Q160.343 1438.62 158.515 1435.08 Q156.709 1431.51 153.075 1431.51 M153.075 1427.81 Q158.885 1427.81 161.941 1432.42 Q165.019 1437 165.019 1445.75 Q165.019 1454.48 161.941 1459.08 Q158.885 1463.67 153.075 1463.67 Q147.265 1463.67 144.186 1459.08 Q141.131 1454.48 141.131 1445.75 Q141.131 1437 144.186 1432.42 Q147.265 1427.81 153.075 1427.81 Z\" fill=\"#000000\" fill-rule=\"evenodd\" fill-opacity=\"1\" /><path clip-path=\"url(#clip060)\" d=\"M82.7975 1131.47 L101.154 1131.47 L101.154 1135.4 L87.0799 1135.4 L87.0799 1143.87 Q88.0984 1143.53 89.1169 1143.37 Q90.1354 1143.18 91.1539 1143.18 Q96.941 1143.18 100.321 1146.35 Q103.7 1149.52 103.7 1154.94 Q103.7 1160.52 100.228 1163.62 Q96.7558 1166.7 90.4364 1166.7 Q88.2604 1166.7 85.9919 1166.33 Q83.7466 1165.96 81.3392 1165.22 L81.3392 1160.52 Q83.4225 1161.65 85.6447 1162.21 Q87.8669 1162.76 90.3438 1162.76 Q94.3484 1162.76 96.6863 1160.66 Q99.0243 1158.55 99.0243 1154.94 Q99.0243 1151.33 96.6863 1149.22 Q94.3484 1147.12 90.3438 1147.12 Q88.4688 1147.12 86.5938 1147.53 Q84.7419 1147.95 82.7975 1148.83 L82.7975 1131.47 Z\" fill=\"#000000\" fill-rule=\"evenodd\" fill-opacity=\"1\" /><path clip-path=\"url(#clip060)\" d=\"M122.913 1134.55 Q119.302 1134.55 117.473 1138.11 Q115.668 1141.65 115.668 1148.78 Q115.668 1155.89 117.473 1159.45 Q119.302 1162.99 122.913 1162.99 Q126.547 1162.99 128.353 1159.45 Q130.182 1155.89 130.182 1148.78 Q130.182 1141.65 128.353 1138.11 Q126.547 1134.55 122.913 1134.55 M122.913 1130.84 Q128.723 1130.84 131.779 1135.45 Q134.857 1140.03 134.857 1148.78 Q134.857 1157.51 131.779 1162.12 Q128.723 1166.7 122.913 1166.7 Q117.103 1166.7 114.024 1162.12 Q110.969 1157.51 110.969 1148.78 Q110.969 1140.03 114.024 1135.45 Q117.103 1130.84 122.913 1130.84 Z\" fill=\"#000000\" fill-rule=\"evenodd\" fill-opacity=\"1\" /><path clip-path=\"url(#clip060)\" d=\"M153.075 1134.55 Q149.464 1134.55 147.635 1138.11 Q145.83 1141.65 145.83 1148.78 Q145.83 1155.89 147.635 1159.45 Q149.464 1162.99 153.075 1162.99 Q156.709 1162.99 158.515 1159.45 Q160.343 1155.89 160.343 1148.78 Q160.343 1141.65 158.515 1138.11 Q156.709 1134.55 153.075 1134.55 M153.075 1130.84 Q158.885 1130.84 161.941 1135.45 Q165.019 1140.03 165.019 1148.78 Q165.019 1157.51 161.941 1162.12 Q158.885 1166.7 153.075 1166.7 Q147.265 1166.7 144.186 1162.12 Q141.131 1157.51 141.131 1148.78 Q141.131 1140.03 144.186 1135.45 Q147.265 1130.84 153.075 1130.84 Z\" fill=\"#000000\" fill-rule=\"evenodd\" fill-opacity=\"1\" /><path clip-path=\"url(#clip060)\" d=\"M53.3995 865.124 L61.0384 865.124 L61.0384 838.758 L52.7282 840.425 L52.7282 836.166 L60.9921 834.499 L65.668 834.499 L65.668 865.124 L73.3068 865.124 L73.3068 869.059 L53.3995 869.059 L53.3995 865.124 Z\" fill=\"#000000\" fill-rule=\"evenodd\" fill-opacity=\"1\" /><path clip-path=\"url(#clip060)\" d=\"M92.7512 837.578 Q89.1401 837.578 87.3114 841.142 Q85.5058 844.684 85.5058 851.814 Q85.5058 858.92 87.3114 862.485 Q89.1401 866.027 92.7512 866.027 Q96.3854 866.027 98.1909 862.485 Q100.02 858.92 100.02 851.814 Q100.02 844.684 98.1909 841.142 Q96.3854 837.578 92.7512 837.578 M92.7512 833.874 Q98.5613 833.874 101.617 838.48 Q104.696 843.064 104.696 851.814 Q104.696 860.54 101.617 865.147 Q98.5613 869.73 92.7512 869.73 Q86.941 869.73 83.8623 865.147 Q80.8068 860.54 80.8068 851.814 Q80.8068 843.064 83.8623 838.48 Q86.941 833.874 92.7512 833.874 Z\" fill=\"#000000\" fill-rule=\"evenodd\" fill-opacity=\"1\" /><path clip-path=\"url(#clip060)\" d=\"M122.913 837.578 Q119.302 837.578 117.473 841.142 Q115.668 844.684 115.668 851.814 Q115.668 858.92 117.473 862.485 Q119.302 866.027 122.913 866.027 Q126.547 866.027 128.353 862.485 Q130.182 858.92 130.182 851.814 Q130.182 844.684 128.353 841.142 Q126.547 837.578 122.913 837.578 M122.913 833.874 Q128.723 833.874 131.779 838.48 Q134.857 843.064 134.857 851.814 Q134.857 860.54 131.779 865.147 Q128.723 869.73 122.913 869.73 Q117.103 869.73 114.024 865.147 Q110.969 860.54 110.969 851.814 Q110.969 843.064 114.024 838.48 Q117.103 833.874 122.913 833.874 Z\" fill=\"#000000\" fill-rule=\"evenodd\" fill-opacity=\"1\" /><path clip-path=\"url(#clip060)\" d=\"M153.075 837.578 Q149.464 837.578 147.635 841.142 Q145.83 844.684 145.83 851.814 Q145.83 858.92 147.635 862.485 Q149.464 866.027 153.075 866.027 Q156.709 866.027 158.515 862.485 Q160.343 858.92 160.343 851.814 Q160.343 844.684 158.515 841.142 Q156.709 837.578 153.075 837.578 M153.075 833.874 Q158.885 833.874 161.941 838.48 Q165.019 843.064 165.019 851.814 Q165.019 860.54 161.941 865.147 Q158.885 869.73 153.075 869.73 Q147.265 869.73 144.186 865.147 Q141.131 860.54 141.131 851.814 Q141.131 843.064 144.186 838.48 Q147.265 833.874 153.075 833.874 Z\" fill=\"#000000\" fill-rule=\"evenodd\" fill-opacity=\"1\" /><path clip-path=\"url(#clip060)\" d=\"M53.3995 568.155 L61.0384 568.155 L61.0384 541.79 L52.7282 543.456 L52.7282 539.197 L60.9921 537.531 L65.668 537.531 L65.668 568.155 L73.3068 568.155 L73.3068 572.091 L53.3995 572.091 L53.3995 568.155 Z\" fill=\"#000000\" fill-rule=\"evenodd\" fill-opacity=\"1\" /><path clip-path=\"url(#clip060)\" d=\"M82.7975 537.531 L101.154 537.531 L101.154 541.466 L87.0799 541.466 L87.0799 549.938 Q88.0984 549.591 89.1169 549.429 Q90.1354 549.243 91.1539 549.243 Q96.941 549.243 100.321 552.415 Q103.7 555.586 103.7 561.003 Q103.7 566.581 100.228 569.683 Q96.7558 572.762 90.4364 572.762 Q88.2604 572.762 85.9919 572.391 Q83.7466 572.021 81.3392 571.28 L81.3392 566.581 Q83.4225 567.716 85.6447 568.271 Q87.8669 568.827 90.3438 568.827 Q94.3484 568.827 96.6863 566.72 Q99.0243 564.614 99.0243 561.003 Q99.0243 557.392 96.6863 555.285 Q94.3484 553.179 90.3438 553.179 Q88.4688 553.179 86.5938 553.595 Q84.7419 554.012 82.7975 554.892 L82.7975 537.531 Z\" fill=\"#000000\" fill-rule=\"evenodd\" fill-opacity=\"1\" /><path clip-path=\"url(#clip060)\" d=\"M122.913 540.609 Q119.302 540.609 117.473 544.174 Q115.668 547.716 115.668 554.845 Q115.668 561.952 117.473 565.517 Q119.302 569.058 122.913 569.058 Q126.547 569.058 128.353 565.517 Q130.182 561.952 130.182 554.845 Q130.182 547.716 128.353 544.174 Q126.547 540.609 122.913 540.609 M122.913 536.906 Q128.723 536.906 131.779 541.512 Q134.857 546.095 134.857 554.845 Q134.857 563.572 131.779 568.179 Q128.723 572.762 122.913 572.762 Q117.103 572.762 114.024 568.179 Q110.969 563.572 110.969 554.845 Q110.969 546.095 114.024 541.512 Q117.103 536.906 122.913 536.906 Z\" fill=\"#000000\" fill-rule=\"evenodd\" fill-opacity=\"1\" /><path clip-path=\"url(#clip060)\" d=\"M153.075 540.609 Q149.464 540.609 147.635 544.174 Q145.83 547.716 145.83 554.845 Q145.83 561.952 147.635 565.517 Q149.464 569.058 153.075 569.058 Q156.709 569.058 158.515 565.517 Q160.343 561.952 160.343 554.845 Q160.343 547.716 158.515 544.174 Q156.709 540.609 153.075 540.609 M153.075 536.906 Q158.885 536.906 161.941 541.512 Q165.019 546.095 165.019 554.845 Q165.019 563.572 161.941 568.179 Q158.885 572.762 153.075 572.762 Q147.265 572.762 144.186 568.179 Q141.131 563.572 141.131 554.845 Q141.131 546.095 144.186 541.512 Q147.265 536.906 153.075 536.906 Z\" fill=\"#000000\" fill-rule=\"evenodd\" fill-opacity=\"1\" /><path clip-path=\"url(#clip060)\" d=\"M56.6171 271.187 L72.9365 271.187 L72.9365 275.122 L50.9921 275.122 L50.9921 271.187 Q53.6541 268.432 58.2375 263.803 Q62.8439 259.15 64.0245 257.807 Q66.2698 255.284 67.1494 253.548 Q68.0522 251.789 68.0522 250.099 Q68.0522 247.345 66.1078 245.608 Q64.1865 243.872 61.0847 243.872 Q58.8856 243.872 56.4319 244.636 Q54.0014 245.4 51.2236 246.951 L51.2236 242.229 Q54.0477 241.095 56.5014 240.516 Q58.955 239.937 60.9921 239.937 Q66.3624 239.937 69.5568 242.622 Q72.7513 245.308 72.7513 249.798 Q72.7513 251.928 71.9411 253.849 Q71.1541 255.747 69.0476 258.34 Q68.4689 259.011 65.367 262.229 Q62.2652 265.423 56.6171 271.187 Z\" fill=\"#000000\" fill-rule=\"evenodd\" fill-opacity=\"1\" /><path clip-path=\"url(#clip060)\" d=\"M92.7512 243.641 Q89.1401 243.641 87.3114 247.206 Q85.5058 250.747 85.5058 257.877 Q85.5058 264.983 87.3114 268.548 Q89.1401 272.09 92.7512 272.09 Q96.3854 272.09 98.1909 268.548 Q100.02 264.983 100.02 257.877 Q100.02 250.747 98.1909 247.206 Q96.3854 243.641 92.7512 243.641 M92.7512 239.937 Q98.5613 239.937 101.617 244.544 Q104.696 249.127 104.696 257.877 Q104.696 266.604 101.617 271.21 Q98.5613 275.793 92.7512 275.793 Q86.941 275.793 83.8623 271.21 Q80.8068 266.604 80.8068 257.877 Q80.8068 249.127 83.8623 244.544 Q86.941 239.937 92.7512 239.937 Z\" fill=\"#000000\" fill-rule=\"evenodd\" fill-opacity=\"1\" /><path clip-path=\"url(#clip060)\" d=\"M122.913 243.641 Q119.302 243.641 117.473 247.206 Q115.668 250.747 115.668 257.877 Q115.668 264.983 117.473 268.548 Q119.302 272.09 122.913 272.09 Q126.547 272.09 128.353 268.548 Q130.182 264.983 130.182 257.877 Q130.182 250.747 128.353 247.206 Q126.547 243.641 122.913 243.641 M122.913 239.937 Q128.723 239.937 131.779 244.544 Q134.857 249.127 134.857 257.877 Q134.857 266.604 131.779 271.21 Q128.723 275.793 122.913 275.793 Q117.103 275.793 114.024 271.21 Q110.969 266.604 110.969 257.877 Q110.969 249.127 114.024 244.544 Q117.103 239.937 122.913 239.937 Z\" fill=\"#000000\" fill-rule=\"evenodd\" fill-opacity=\"1\" /><path clip-path=\"url(#clip060)\" d=\"M153.075 243.641 Q149.464 243.641 147.635 247.206 Q145.83 250.747 145.83 257.877 Q145.83 264.983 147.635 268.548 Q149.464 272.09 153.075 272.09 Q156.709 272.09 158.515 268.548 Q160.343 264.983 160.343 257.877 Q160.343 250.747 158.515 247.206 Q156.709 243.641 153.075 243.641 M153.075 239.937 Q158.885 239.937 161.941 244.544 Q165.019 249.127 165.019 257.877 Q165.019 266.604 161.941 271.21 Q158.885 275.793 153.075 275.793 Q147.265 275.793 144.186 271.21 Q141.131 266.604 141.131 257.877 Q141.131 249.127 144.186 244.544 Q147.265 239.937 153.075 239.937 Z\" fill=\"#000000\" fill-rule=\"evenodd\" fill-opacity=\"1\" /><path clip-path=\"url(#clip062)\" d=\"M319.369 1438.59 L319.369 1445.72 L447.038 1445.72 L447.038 1438.59 L319.369 1438.59 L319.369 1438.59  Z\" fill=\"#009af9\" fill-rule=\"evenodd\" fill-opacity=\"1\"/>\n",
       "<polyline clip-path=\"url(#clip062)\" style=\"stroke:#000000; stroke-linecap:round; stroke-linejoin:round; stroke-width:4; stroke-opacity:1; fill:none\" points=\"319.369,1438.59 319.369,1445.72 447.038,1445.72 447.038,1438.59 319.369,1438.59 \"/>\n",
       "<path clip-path=\"url(#clip062)\" d=\"M447.038 1417.8 L447.038 1445.72 L574.707 1445.72 L574.707 1417.8 L447.038 1417.8 L447.038 1417.8  Z\" fill=\"#009af9\" fill-rule=\"evenodd\" fill-opacity=\"1\"/>\n",
       "<polyline clip-path=\"url(#clip062)\" style=\"stroke:#000000; stroke-linecap:round; stroke-linejoin:round; stroke-width:4; stroke-opacity:1; fill:none\" points=\"447.038,1417.8 447.038,1445.72 574.707,1445.72 574.707,1417.8 447.038,1417.8 \"/>\n",
       "<path clip-path=\"url(#clip062)\" d=\"M574.707 1334.06 L574.707 1445.72 L702.376 1445.72 L702.376 1334.06 L574.707 1334.06 L574.707 1334.06  Z\" fill=\"#009af9\" fill-rule=\"evenodd\" fill-opacity=\"1\"/>\n",
       "<polyline clip-path=\"url(#clip062)\" style=\"stroke:#000000; stroke-linecap:round; stroke-linejoin:round; stroke-width:4; stroke-opacity:1; fill:none\" points=\"574.707,1334.06 574.707,1445.72 702.376,1445.72 702.376,1334.06 574.707,1334.06 \"/>\n",
       "<path clip-path=\"url(#clip062)\" d=\"M702.376 1169.54 L702.376 1445.72 L830.045 1445.72 L830.045 1169.54 L702.376 1169.54 L702.376 1169.54  Z\" fill=\"#009af9\" fill-rule=\"evenodd\" fill-opacity=\"1\"/>\n",
       "<polyline clip-path=\"url(#clip062)\" style=\"stroke:#000000; stroke-linecap:round; stroke-linejoin:round; stroke-width:4; stroke-opacity:1; fill:none\" points=\"702.376,1169.54 702.376,1445.72 830.045,1445.72 830.045,1169.54 702.376,1169.54 \"/>\n",
       "<path clip-path=\"url(#clip062)\" d=\"M830.045 890.385 L830.045 1445.72 L957.715 1445.72 L957.715 890.385 L830.045 890.385 L830.045 890.385  Z\" fill=\"#009af9\" fill-rule=\"evenodd\" fill-opacity=\"1\"/>\n",
       "<polyline clip-path=\"url(#clip062)\" style=\"stroke:#000000; stroke-linecap:round; stroke-linejoin:round; stroke-width:4; stroke-opacity:1; fill:none\" points=\"830.045,890.385 830.045,1445.72 957.715,1445.72 957.715,890.385 830.045,890.385 \"/>\n",
       "<path clip-path=\"url(#clip062)\" d=\"M957.715 548.277 L957.715 1445.72 L1085.38 1445.72 L1085.38 548.277 L957.715 548.277 L957.715 548.277  Z\" fill=\"#009af9\" fill-rule=\"evenodd\" fill-opacity=\"1\"/>\n",
       "<polyline clip-path=\"url(#clip062)\" style=\"stroke:#000000; stroke-linecap:round; stroke-linejoin:round; stroke-width:4; stroke-opacity:1; fill:none\" points=\"957.715,548.277 957.715,1445.72 1085.38,1445.72 1085.38,548.277 957.715,548.277 \"/>\n",
       "<path clip-path=\"url(#clip062)\" d=\"M1085.38 357.624 L1085.38 1445.72 L1213.05 1445.72 L1213.05 357.624 L1085.38 357.624 L1085.38 357.624  Z\" fill=\"#009af9\" fill-rule=\"evenodd\" fill-opacity=\"1\"/>\n",
       "<polyline clip-path=\"url(#clip062)\" style=\"stroke:#000000; stroke-linecap:round; stroke-linejoin:round; stroke-width:4; stroke-opacity:1; fill:none\" points=\"1085.38,357.624 1085.38,1445.72 1213.05,1445.72 1213.05,357.624 1085.38,357.624 \"/>\n",
       "<path clip-path=\"url(#clip062)\" d=\"M1213.05 314.266 L1213.05 1445.72 L1340.72 1445.72 L1340.72 314.266 L1213.05 314.266 L1213.05 314.266  Z\" fill=\"#009af9\" fill-rule=\"evenodd\" fill-opacity=\"1\"/>\n",
       "<polyline clip-path=\"url(#clip062)\" style=\"stroke:#000000; stroke-linecap:round; stroke-linejoin:round; stroke-width:4; stroke-opacity:1; fill:none\" points=\"1213.05,314.266 1213.05,1445.72 1340.72,1445.72 1340.72,314.266 1213.05,314.266 \"/>\n",
       "<path clip-path=\"url(#clip062)\" d=\"M1340.72 547.089 L1340.72 1445.72 L1468.39 1445.72 L1468.39 547.089 L1340.72 547.089 L1340.72 547.089  Z\" fill=\"#009af9\" fill-rule=\"evenodd\" fill-opacity=\"1\"/>\n",
       "<polyline clip-path=\"url(#clip062)\" style=\"stroke:#000000; stroke-linecap:round; stroke-linejoin:round; stroke-width:4; stroke-opacity:1; fill:none\" points=\"1340.72,547.089 1340.72,1445.72 1468.39,1445.72 1468.39,547.089 1340.72,547.089 \"/>\n",
       "<path clip-path=\"url(#clip062)\" d=\"M1468.39 906.421 L1468.39 1445.72 L1596.06 1445.72 L1596.06 906.421 L1468.39 906.421 L1468.39 906.421  Z\" fill=\"#009af9\" fill-rule=\"evenodd\" fill-opacity=\"1\"/>\n",
       "<polyline clip-path=\"url(#clip062)\" style=\"stroke:#000000; stroke-linecap:round; stroke-linejoin:round; stroke-width:4; stroke-opacity:1; fill:none\" points=\"1468.39,906.421 1468.39,1445.72 1596.06,1445.72 1596.06,906.421 1468.39,906.421 \"/>\n",
       "<path clip-path=\"url(#clip062)\" d=\"M1596.06 1177.85 L1596.06 1445.72 L1723.73 1445.72 L1723.73 1177.85 L1596.06 1177.85 L1596.06 1177.85  Z\" fill=\"#009af9\" fill-rule=\"evenodd\" fill-opacity=\"1\"/>\n",
       "<polyline clip-path=\"url(#clip062)\" style=\"stroke:#000000; stroke-linecap:round; stroke-linejoin:round; stroke-width:4; stroke-opacity:1; fill:none\" points=\"1596.06,1177.85 1596.06,1445.72 1723.73,1445.72 1723.73,1177.85 1596.06,1177.85 \"/>\n",
       "<path clip-path=\"url(#clip062)\" d=\"M1723.73 1350.09 L1723.73 1445.72 L1851.4 1445.72 L1851.4 1350.09 L1723.73 1350.09 L1723.73 1350.09  Z\" fill=\"#009af9\" fill-rule=\"evenodd\" fill-opacity=\"1\"/>\n",
       "<polyline clip-path=\"url(#clip062)\" style=\"stroke:#000000; stroke-linecap:round; stroke-linejoin:round; stroke-width:4; stroke-opacity:1; fill:none\" points=\"1723.73,1350.09 1723.73,1445.72 1851.4,1445.72 1851.4,1350.09 1723.73,1350.09 \"/>\n",
       "<path clip-path=\"url(#clip062)\" d=\"M1851.4 1414.24 L1851.4 1445.72 L1979.07 1445.72 L1979.07 1414.24 L1851.4 1414.24 L1851.4 1414.24  Z\" fill=\"#009af9\" fill-rule=\"evenodd\" fill-opacity=\"1\"/>\n",
       "<polyline clip-path=\"url(#clip062)\" style=\"stroke:#000000; stroke-linecap:round; stroke-linejoin:round; stroke-width:4; stroke-opacity:1; fill:none\" points=\"1851.4,1414.24 1851.4,1445.72 1979.07,1445.72 1979.07,1414.24 1851.4,1414.24 \"/>\n",
       "<path clip-path=\"url(#clip062)\" d=\"M1979.07 1435.02 L1979.07 1445.72 L2106.74 1445.72 L2106.74 1435.02 L1979.07 1435.02 L1979.07 1435.02  Z\" fill=\"#009af9\" fill-rule=\"evenodd\" fill-opacity=\"1\"/>\n",
       "<polyline clip-path=\"url(#clip062)\" style=\"stroke:#000000; stroke-linecap:round; stroke-linejoin:round; stroke-width:4; stroke-opacity:1; fill:none\" points=\"1979.07,1435.02 1979.07,1445.72 2106.74,1445.72 2106.74,1435.02 1979.07,1435.02 \"/>\n",
       "<path clip-path=\"url(#clip062)\" d=\"M2106.74 1445.12 L2106.74 1445.72 L2234.41 1445.72 L2234.41 1445.12 L2106.74 1445.12 L2106.74 1445.12  Z\" fill=\"#009af9\" fill-rule=\"evenodd\" fill-opacity=\"1\"/>\n",
       "<polyline clip-path=\"url(#clip062)\" style=\"stroke:#000000; stroke-linecap:round; stroke-linejoin:round; stroke-width:4; stroke-opacity:1; fill:none\" points=\"2106.74,1445.12 2106.74,1445.72 2234.41,1445.72 2234.41,1445.12 2106.74,1445.12 \"/>\n",
       "<circle clip-path=\"url(#clip062)\" style=\"fill:#009af9; stroke:none; fill-opacity:0\" cx=\"383.203\" cy=\"1438.59\" r=\"2\"/>\n",
       "<circle clip-path=\"url(#clip062)\" style=\"fill:#009af9; stroke:none; fill-opacity:0\" cx=\"510.872\" cy=\"1417.8\" r=\"2\"/>\n",
       "<circle clip-path=\"url(#clip062)\" style=\"fill:#009af9; stroke:none; fill-opacity:0\" cx=\"638.542\" cy=\"1334.06\" r=\"2\"/>\n",
       "<circle clip-path=\"url(#clip062)\" style=\"fill:#009af9; stroke:none; fill-opacity:0\" cx=\"766.211\" cy=\"1169.54\" r=\"2\"/>\n",
       "<circle clip-path=\"url(#clip062)\" style=\"fill:#009af9; stroke:none; fill-opacity:0\" cx=\"893.88\" cy=\"890.385\" r=\"2\"/>\n",
       "<circle clip-path=\"url(#clip062)\" style=\"fill:#009af9; stroke:none; fill-opacity:0\" cx=\"1021.55\" cy=\"548.277\" r=\"2\"/>\n",
       "<circle clip-path=\"url(#clip062)\" style=\"fill:#009af9; stroke:none; fill-opacity:0\" cx=\"1149.22\" cy=\"357.624\" r=\"2\"/>\n",
       "<circle clip-path=\"url(#clip062)\" style=\"fill:#009af9; stroke:none; fill-opacity:0\" cx=\"1276.89\" cy=\"314.266\" r=\"2\"/>\n",
       "<circle clip-path=\"url(#clip062)\" style=\"fill:#009af9; stroke:none; fill-opacity:0\" cx=\"1404.56\" cy=\"547.089\" r=\"2\"/>\n",
       "<circle clip-path=\"url(#clip062)\" style=\"fill:#009af9; stroke:none; fill-opacity:0\" cx=\"1532.23\" cy=\"906.421\" r=\"2\"/>\n",
       "<circle clip-path=\"url(#clip062)\" style=\"fill:#009af9; stroke:none; fill-opacity:0\" cx=\"1659.9\" cy=\"1177.85\" r=\"2\"/>\n",
       "<circle clip-path=\"url(#clip062)\" style=\"fill:#009af9; stroke:none; fill-opacity:0\" cx=\"1787.56\" cy=\"1350.09\" r=\"2\"/>\n",
       "<circle clip-path=\"url(#clip062)\" style=\"fill:#009af9; stroke:none; fill-opacity:0\" cx=\"1915.23\" cy=\"1414.24\" r=\"2\"/>\n",
       "<circle clip-path=\"url(#clip062)\" style=\"fill:#009af9; stroke:none; fill-opacity:0\" cx=\"2042.9\" cy=\"1435.02\" r=\"2\"/>\n",
       "<circle clip-path=\"url(#clip062)\" style=\"fill:#009af9; stroke:none; fill-opacity:0\" cx=\"2170.57\" cy=\"1445.12\" r=\"2\"/>\n",
       "<path clip-path=\"url(#clip062)\" d=\"M574.707 1284.16 L574.707 1445.72 L587.474 1445.72 L587.474 1284.16 L574.707 1284.16 L574.707 1284.16  Z\" fill=\"#e26f46\" fill-rule=\"evenodd\" fill-opacity=\"1\"/>\n",
       "<polyline clip-path=\"url(#clip062)\" style=\"stroke:#000000; stroke-linecap:round; stroke-linejoin:round; stroke-width:4; stroke-opacity:1; fill:none\" points=\"574.707,1284.16 574.707,1445.72 587.474,1445.72 587.474,1284.16 574.707,1284.16 \"/>\n",
       "<path clip-path=\"url(#clip062)\" d=\"M587.474 721.113 L587.474 1445.72 L600.241 1445.72 L600.241 721.113 L587.474 721.113 L587.474 721.113  Z\" fill=\"#e26f46\" fill-rule=\"evenodd\" fill-opacity=\"1\"/>\n",
       "<polyline clip-path=\"url(#clip062)\" style=\"stroke:#000000; stroke-linecap:round; stroke-linejoin:round; stroke-width:4; stroke-opacity:1; fill:none\" points=\"587.474,721.113 587.474,1445.72 600.241,1445.72 600.241,721.113 587.474,721.113 \"/>\n",
       "<path clip-path=\"url(#clip062)\" d=\"M600.241 218.048 L600.241 1445.72 L613.008 1445.72 L613.008 218.048 L600.241 218.048 L600.241 218.048  Z\" fill=\"#e26f46\" fill-rule=\"evenodd\" fill-opacity=\"1\"/>\n",
       "<polyline clip-path=\"url(#clip062)\" style=\"stroke:#000000; stroke-linecap:round; stroke-linejoin:round; stroke-width:4; stroke-opacity:1; fill:none\" points=\"600.241,218.048 600.241,1445.72 613.008,1445.72 613.008,218.048 600.241,218.048 \"/>\n",
       "<path clip-path=\"url(#clip062)\" d=\"M613.008 87.9763 L613.008 1445.72 L625.775 1445.72 L625.775 87.9763 L613.008 87.9763 L613.008 87.9763  Z\" fill=\"#e26f46\" fill-rule=\"evenodd\" fill-opacity=\"1\"/>\n",
       "<polyline clip-path=\"url(#clip062)\" style=\"stroke:#000000; stroke-linecap:round; stroke-linejoin:round; stroke-width:4; stroke-opacity:1; fill:none\" points=\"613.008,87.9763 613.008,1445.72 625.775,1445.72 625.775,87.9763 613.008,87.9763 \"/>\n",
       "<path clip-path=\"url(#clip062)\" d=\"M625.775 254.279 L625.775 1445.72 L638.542 1445.72 L638.542 254.279 L625.775 254.279 L625.775 254.279  Z\" fill=\"#e26f46\" fill-rule=\"evenodd\" fill-opacity=\"1\"/>\n",
       "<polyline clip-path=\"url(#clip062)\" style=\"stroke:#000000; stroke-linecap:round; stroke-linejoin:round; stroke-width:4; stroke-opacity:1; fill:none\" points=\"625.775,254.279 625.775,1445.72 638.542,1445.72 638.542,254.279 625.775,254.279 \"/>\n",
       "<path clip-path=\"url(#clip062)\" d=\"M638.542 705.077 L638.542 1445.72 L651.309 1445.72 L651.309 705.077 L638.542 705.077 L638.542 705.077  Z\" fill=\"#e26f46\" fill-rule=\"evenodd\" fill-opacity=\"1\"/>\n",
       "<polyline clip-path=\"url(#clip062)\" style=\"stroke:#000000; stroke-linecap:round; stroke-linejoin:round; stroke-width:4; stroke-opacity:1; fill:none\" points=\"638.542,705.077 638.542,1445.72 651.309,1445.72 651.309,705.077 638.542,705.077 \"/>\n",
       "<path clip-path=\"url(#clip062)\" d=\"M651.309 1052.53 L651.309 1445.72 L664.075 1445.72 L664.075 1052.53 L651.309 1052.53 L651.309 1052.53  Z\" fill=\"#e26f46\" fill-rule=\"evenodd\" fill-opacity=\"1\"/>\n",
       "<polyline clip-path=\"url(#clip062)\" style=\"stroke:#000000; stroke-linecap:round; stroke-linejoin:round; stroke-width:4; stroke-opacity:1; fill:none\" points=\"651.309,1052.53 651.309,1445.72 664.075,1445.72 664.075,1052.53 651.309,1052.53 \"/>\n",
       "<path clip-path=\"url(#clip062)\" d=\"M664.075 1329.9 L664.075 1445.72 L676.842 1445.72 L676.842 1329.9 L664.075 1329.9 L664.075 1329.9  Z\" fill=\"#e26f46\" fill-rule=\"evenodd\" fill-opacity=\"1\"/>\n",
       "<polyline clip-path=\"url(#clip062)\" style=\"stroke:#000000; stroke-linecap:round; stroke-linejoin:round; stroke-width:4; stroke-opacity:1; fill:none\" points=\"664.075,1329.9 664.075,1445.72 676.842,1445.72 676.842,1329.9 664.075,1329.9 \"/>\n",
       "<path clip-path=\"url(#clip062)\" d=\"M676.842 1419.58 L676.842 1445.72 L689.609 1445.72 L689.609 1419.58 L676.842 1419.58 L676.842 1419.58  Z\" fill=\"#e26f46\" fill-rule=\"evenodd\" fill-opacity=\"1\"/>\n",
       "<polyline clip-path=\"url(#clip062)\" style=\"stroke:#000000; stroke-linecap:round; stroke-linejoin:round; stroke-width:4; stroke-opacity:1; fill:none\" points=\"676.842,1419.58 676.842,1445.72 689.609,1445.72 689.609,1419.58 676.842,1419.58 \"/>\n",
       "<path clip-path=\"url(#clip062)\" d=\"M689.609 1445.12 L689.609 1445.72 L702.376 1445.72 L702.376 1445.12 L689.609 1445.12 L689.609 1445.12  Z\" fill=\"#e26f46\" fill-rule=\"evenodd\" fill-opacity=\"1\"/>\n",
       "<polyline clip-path=\"url(#clip062)\" style=\"stroke:#000000; stroke-linecap:round; stroke-linejoin:round; stroke-width:4; stroke-opacity:1; fill:none\" points=\"689.609,1445.12 689.609,1445.72 702.376,1445.72 702.376,1445.12 689.609,1445.12 \"/>\n",
       "<circle clip-path=\"url(#clip062)\" style=\"fill:#e26f46; stroke:none; fill-opacity:0\" cx=\"581.09\" cy=\"1284.16\" r=\"2\"/>\n",
       "<circle clip-path=\"url(#clip062)\" style=\"fill:#e26f46; stroke:none; fill-opacity:0\" cx=\"593.857\" cy=\"721.113\" r=\"2\"/>\n",
       "<circle clip-path=\"url(#clip062)\" style=\"fill:#e26f46; stroke:none; fill-opacity:0\" cx=\"606.624\" cy=\"218.048\" r=\"2\"/>\n",
       "<circle clip-path=\"url(#clip062)\" style=\"fill:#e26f46; stroke:none; fill-opacity:0\" cx=\"619.391\" cy=\"87.9763\" r=\"2\"/>\n",
       "<circle clip-path=\"url(#clip062)\" style=\"fill:#e26f46; stroke:none; fill-opacity:0\" cx=\"632.158\" cy=\"254.279\" r=\"2\"/>\n",
       "<circle clip-path=\"url(#clip062)\" style=\"fill:#e26f46; stroke:none; fill-opacity:0\" cx=\"644.925\" cy=\"705.077\" r=\"2\"/>\n",
       "<circle clip-path=\"url(#clip062)\" style=\"fill:#e26f46; stroke:none; fill-opacity:0\" cx=\"657.692\" cy=\"1052.53\" r=\"2\"/>\n",
       "<circle clip-path=\"url(#clip062)\" style=\"fill:#e26f46; stroke:none; fill-opacity:0\" cx=\"670.459\" cy=\"1329.9\" r=\"2\"/>\n",
       "<circle clip-path=\"url(#clip062)\" style=\"fill:#e26f46; stroke:none; fill-opacity:0\" cx=\"683.226\" cy=\"1419.58\" r=\"2\"/>\n",
       "<circle clip-path=\"url(#clip062)\" style=\"fill:#e26f46; stroke:none; fill-opacity:0\" cx=\"695.993\" cy=\"1445.12\" r=\"2\"/>\n",
       "<path clip-path=\"url(#clip060)\" d=\"M1620.61 250.738 L2281.03 250.738 L2281.03 95.2176 L1620.61 95.2176  Z\" fill=\"#ffffff\" fill-rule=\"evenodd\" fill-opacity=\"1\"/>\n",
       "<polyline clip-path=\"url(#clip060)\" style=\"stroke:#000000; stroke-linecap:round; stroke-linejoin:round; stroke-width:4; stroke-opacity:1; fill:none\" points=\"1620.61,250.738 2281.03,250.738 2281.03,95.2176 1620.61,95.2176 1620.61,250.738 \"/>\n",
       "<path clip-path=\"url(#clip060)\" d=\"M1644.51 167.794 L1787.96 167.794 L1787.96 126.322 L1644.51 126.322 L1644.51 167.794  Z\" fill=\"#009af9\" fill-rule=\"evenodd\" fill-opacity=\"1\"/>\n",
       "<polyline clip-path=\"url(#clip060)\" style=\"stroke:#000000; stroke-linecap:round; stroke-linejoin:round; stroke-width:4; stroke-opacity:1; fill:none\" points=\"1644.51,167.794 1787.96,167.794 1787.96,126.322 1644.51,126.322 1644.51,167.794 \"/>\n",
       "<path clip-path=\"url(#clip060)\" d=\"M1811.87 129.778 L1818.17 129.778 L1833.49 158.689 L1833.49 129.778 L1838.03 129.778 L1838.03 164.338 L1831.73 164.338 L1816.41 135.426 L1816.41 164.338 L1811.87 164.338 L1811.87 129.778 Z\" fill=\"#000000\" fill-rule=\"evenodd\" fill-opacity=\"1\" /><path clip-path=\"url(#clip060)\" d=\"M1857.19 141.398 Q1853.77 141.398 1851.78 144.083 Q1849.79 146.745 1849.79 151.398 Q1849.79 156.051 1851.75 158.736 Q1853.75 161.398 1857.19 161.398 Q1860.6 161.398 1862.59 158.713 Q1864.58 156.027 1864.58 151.398 Q1864.58 146.791 1862.59 144.106 Q1860.6 141.398 1857.19 141.398 M1857.19 137.787 Q1862.75 137.787 1865.92 141.398 Q1869.09 145.009 1869.09 151.398 Q1869.09 157.764 1865.92 161.398 Q1862.75 165.009 1857.19 165.009 Q1851.62 165.009 1848.44 161.398 Q1845.3 157.764 1845.3 151.398 Q1845.3 145.009 1848.44 141.398 Q1851.62 137.787 1857.19 137.787 Z\" fill=\"#000000\" fill-rule=\"evenodd\" fill-opacity=\"1\" /><path clip-path=\"url(#clip060)\" d=\"M1891.18 142.393 Q1890.46 141.977 1889.6 141.791 Q1888.77 141.583 1887.75 141.583 Q1884.14 141.583 1882.19 143.944 Q1880.27 146.282 1880.27 150.68 L1880.27 164.338 L1875.99 164.338 L1875.99 138.412 L1880.27 138.412 L1880.27 142.44 Q1881.62 140.078 1883.77 138.944 Q1885.92 137.787 1889 137.787 Q1889.44 137.787 1889.97 137.856 Q1890.5 137.903 1891.15 138.018 L1891.18 142.393 Z\" fill=\"#000000\" fill-rule=\"evenodd\" fill-opacity=\"1\" /><path clip-path=\"url(#clip060)\" d=\"M1915 143.389 Q1916.59 140.518 1918.81 139.153 Q1921.04 137.787 1924.05 137.787 Q1928.1 137.787 1930.3 140.634 Q1932.5 143.458 1932.5 148.689 L1932.5 164.338 L1928.21 164.338 L1928.21 148.828 Q1928.21 145.102 1926.89 143.296 Q1925.57 141.49 1922.87 141.49 Q1919.56 141.49 1917.63 143.69 Q1915.71 145.889 1915.71 149.685 L1915.71 164.338 L1911.43 164.338 L1911.43 148.828 Q1911.43 145.078 1910.11 143.296 Q1908.79 141.49 1906.04 141.49 Q1902.77 141.49 1900.85 143.713 Q1898.93 145.912 1898.93 149.685 L1898.93 164.338 L1894.65 164.338 L1894.65 138.412 L1898.93 138.412 L1898.93 142.44 Q1900.39 140.055 1902.43 138.921 Q1904.46 137.787 1907.26 137.787 Q1910.09 137.787 1912.06 139.222 Q1914.05 140.657 1915 143.389 Z\" fill=\"#000000\" fill-rule=\"evenodd\" fill-opacity=\"1\" /><path clip-path=\"url(#clip060)\" d=\"M1952.77 151.305 Q1947.61 151.305 1945.62 152.486 Q1943.63 153.666 1943.63 156.514 Q1943.63 158.782 1945.11 160.125 Q1946.62 161.444 1949.19 161.444 Q1952.73 161.444 1954.86 158.944 Q1957.01 156.421 1957.01 152.254 L1957.01 151.305 L1952.77 151.305 M1961.27 149.546 L1961.27 164.338 L1957.01 164.338 L1957.01 160.402 Q1955.55 162.763 1953.37 163.898 Q1951.2 165.009 1948.05 165.009 Q1944.07 165.009 1941.71 162.787 Q1939.37 160.541 1939.37 156.791 Q1939.37 152.416 1942.29 150.194 Q1945.23 147.972 1951.04 147.972 L1957.01 147.972 L1957.01 147.555 Q1957.01 144.615 1955.06 143.018 Q1953.14 141.398 1949.65 141.398 Q1947.43 141.398 1945.32 141.93 Q1943.21 142.463 1941.27 143.527 L1941.27 139.592 Q1943.61 138.69 1945.81 138.25 Q1948 137.787 1950.09 137.787 Q1955.71 137.787 1958.49 140.703 Q1961.27 143.62 1961.27 149.546 Z\" fill=\"#000000\" fill-rule=\"evenodd\" fill-opacity=\"1\" /><path clip-path=\"url(#clip060)\" d=\"M1970.04 128.319 L1974.3 128.319 L1974.3 164.338 L1970.04 164.338 L1970.04 128.319 Z\" fill=\"#000000\" fill-rule=\"evenodd\" fill-opacity=\"1\" /><path clip-path=\"url(#clip060)\" d=\"M1995.81 138.412 L2000.06 138.412 L2005.39 158.643 L2010.69 138.412 L2015.71 138.412 L2021.04 158.643 L2026.34 138.412 L2030.6 138.412 L2023.81 164.338 L2018.79 164.338 L2013.21 143.088 L2007.61 164.338 L2002.59 164.338 L1995.81 138.412 Z\" fill=\"#000000\" fill-rule=\"evenodd\" fill-opacity=\"1\" /><path clip-path=\"url(#clip060)\" d=\"M2037.05 138.412 L2041.31 138.412 L2041.31 164.338 L2037.05 164.338 L2037.05 138.412 M2037.05 128.319 L2041.31 128.319 L2041.31 133.713 L2037.05 133.713 L2037.05 128.319 Z\" fill=\"#000000\" fill-rule=\"evenodd\" fill-opacity=\"1\" /><path clip-path=\"url(#clip060)\" d=\"M2054.44 131.051 L2054.44 138.412 L2063.21 138.412 L2063.21 141.722 L2054.44 141.722 L2054.44 155.796 Q2054.44 158.967 2055.3 159.87 Q2056.18 160.773 2058.84 160.773 L2063.21 160.773 L2063.21 164.338 L2058.84 164.338 Q2053.91 164.338 2052.03 162.509 Q2050.16 160.657 2050.16 155.796 L2050.16 141.722 L2047.03 141.722 L2047.03 138.412 L2050.16 138.412 L2050.16 131.051 L2054.44 131.051 Z\" fill=\"#000000\" fill-rule=\"evenodd\" fill-opacity=\"1\" /><path clip-path=\"url(#clip060)\" d=\"M2090.36 148.689 L2090.36 164.338 L2086.11 164.338 L2086.11 148.828 Q2086.11 145.148 2084.67 143.319 Q2083.24 141.49 2080.36 141.49 Q2076.92 141.49 2074.93 143.69 Q2072.93 145.889 2072.93 149.685 L2072.93 164.338 L2068.65 164.338 L2068.65 128.319 L2072.93 128.319 L2072.93 142.44 Q2074.46 140.102 2076.52 138.944 Q2078.61 137.787 2081.31 137.787 Q2085.78 137.787 2088.07 140.565 Q2090.36 143.319 2090.36 148.689 Z\" fill=\"#000000\" fill-rule=\"evenodd\" fill-opacity=\"1\" /><path clip-path=\"url(#clip060)\" d=\"M2115.34 160.402 L2122.98 160.402 L2122.98 134.037 L2114.67 135.703 L2114.67 131.444 L2122.93 129.778 L2127.61 129.778 L2127.61 160.402 L2135.25 160.402 L2135.25 164.338 L2115.34 164.338 L2115.34 160.402 Z\" fill=\"#000000\" fill-rule=\"evenodd\" fill-opacity=\"1\" /><path clip-path=\"url(#clip060)\" d=\"M2154.69 132.856 Q2151.08 132.856 2149.25 136.421 Q2147.45 139.963 2147.45 147.092 Q2147.45 154.199 2149.25 157.764 Q2151.08 161.305 2154.69 161.305 Q2158.33 161.305 2160.13 157.764 Q2161.96 154.199 2161.96 147.092 Q2161.96 139.963 2160.13 136.421 Q2158.33 132.856 2154.69 132.856 M2154.69 129.153 Q2160.5 129.153 2163.56 133.759 Q2166.64 138.342 2166.64 147.092 Q2166.64 155.819 2163.56 160.426 Q2160.5 165.009 2154.69 165.009 Q2148.88 165.009 2145.8 160.426 Q2142.75 155.819 2142.75 147.092 Q2142.75 138.342 2145.8 133.759 Q2148.88 129.153 2154.69 129.153 Z\" fill=\"#000000\" fill-rule=\"evenodd\" fill-opacity=\"1\" /><path clip-path=\"url(#clip060)\" d=\"M2184.86 132.856 Q2181.24 132.856 2179.42 136.421 Q2177.61 139.963 2177.61 147.092 Q2177.61 154.199 2179.42 157.764 Q2181.24 161.305 2184.86 161.305 Q2188.49 161.305 2190.29 157.764 Q2192.12 154.199 2192.12 147.092 Q2192.12 139.963 2190.29 136.421 Q2188.49 132.856 2184.86 132.856 M2184.86 129.153 Q2190.67 129.153 2193.72 133.759 Q2196.8 138.342 2196.8 147.092 Q2196.8 155.819 2193.72 160.426 Q2190.67 165.009 2184.86 165.009 Q2179.04 165.009 2175.97 160.426 Q2172.91 155.819 2172.91 147.092 Q2172.91 138.342 2175.97 133.759 Q2179.04 129.153 2184.86 129.153 Z\" fill=\"#000000\" fill-rule=\"evenodd\" fill-opacity=\"1\" /><path clip-path=\"url(#clip060)\" d=\"M2215.02 132.856 Q2211.41 132.856 2209.58 136.421 Q2207.77 139.963 2207.77 147.092 Q2207.77 154.199 2209.58 157.764 Q2211.41 161.305 2215.02 161.305 Q2218.65 161.305 2220.46 157.764 Q2222.29 154.199 2222.29 147.092 Q2222.29 139.963 2220.46 136.421 Q2218.65 132.856 2215.02 132.856 M2215.02 129.153 Q2220.83 129.153 2223.88 133.759 Q2226.96 138.342 2226.96 147.092 Q2226.96 155.819 2223.88 160.426 Q2220.83 165.009 2215.02 165.009 Q2209.21 165.009 2206.13 160.426 Q2203.07 155.819 2203.07 147.092 Q2203.07 138.342 2206.13 133.759 Q2209.21 129.153 2215.02 129.153 Z\" fill=\"#000000\" fill-rule=\"evenodd\" fill-opacity=\"1\" /><path clip-path=\"url(#clip060)\" d=\"M2245.18 132.856 Q2241.57 132.856 2239.74 136.421 Q2237.93 139.963 2237.93 147.092 Q2237.93 154.199 2239.74 157.764 Q2241.57 161.305 2245.18 161.305 Q2248.81 161.305 2250.62 157.764 Q2252.45 154.199 2252.45 147.092 Q2252.45 139.963 2250.62 136.421 Q2248.81 132.856 2245.18 132.856 M2245.18 129.153 Q2250.99 129.153 2254.04 133.759 Q2257.12 138.342 2257.12 147.092 Q2257.12 155.819 2254.04 160.426 Q2250.99 165.009 2245.18 165.009 Q2239.37 165.009 2236.29 160.426 Q2233.23 155.819 2233.23 147.092 Q2233.23 138.342 2236.29 133.759 Q2239.37 129.153 2245.18 129.153 Z\" fill=\"#000000\" fill-rule=\"evenodd\" fill-opacity=\"1\" /><path clip-path=\"url(#clip060)\" d=\"M1644.51 219.634 L1787.96 219.634 L1787.96 178.162 L1644.51 178.162 L1644.51 219.634  Z\" fill=\"#e26f46\" fill-rule=\"evenodd\" fill-opacity=\"1\"/>\n",
       "<polyline clip-path=\"url(#clip060)\" style=\"stroke:#000000; stroke-linecap:round; stroke-linejoin:round; stroke-width:4; stroke-opacity:1; fill:none\" points=\"1644.51,219.634 1787.96,219.634 1787.96,178.162 1644.51,178.162 1644.51,219.634 \"/>\n",
       "<path clip-path=\"url(#clip060)\" d=\"M1816.55 199.673 L1816.55 212.335 L1824.05 212.335 Q1827.82 212.335 1829.63 210.784 Q1831.45 209.21 1831.45 205.992 Q1831.45 202.752 1829.63 201.224 Q1827.82 199.673 1824.05 199.673 L1816.55 199.673 M1816.55 185.46 L1816.55 195.877 L1823.47 195.877 Q1826.89 195.877 1828.56 194.604 Q1830.25 193.307 1830.25 190.668 Q1830.25 188.053 1828.56 186.756 Q1826.89 185.46 1823.47 185.46 L1816.55 185.46 M1811.87 181.618 L1823.82 181.618 Q1829.16 181.618 1832.06 183.84 Q1834.95 186.062 1834.95 190.159 Q1834.95 193.33 1833.47 195.205 Q1831.99 197.08 1829.12 197.543 Q1832.57 198.284 1834.46 200.645 Q1836.38 202.983 1836.38 206.502 Q1836.38 211.131 1833.24 213.654 Q1830.09 216.178 1824.28 216.178 L1811.87 216.178 L1811.87 181.618 Z\" fill=\"#000000\" fill-rule=\"evenodd\" fill-opacity=\"1\" /><path clip-path=\"url(#clip060)\" d=\"M1866.38 202.15 L1866.38 204.233 L1846.8 204.233 Q1847.08 208.631 1849.44 210.946 Q1851.82 213.238 1856.06 213.238 Q1858.51 213.238 1860.81 212.636 Q1863.12 212.034 1865.39 210.83 L1865.39 214.858 Q1863.1 215.83 1860.69 216.34 Q1858.28 216.849 1855.81 216.849 Q1849.6 216.849 1845.97 213.238 Q1842.36 209.627 1842.36 203.469 Q1842.36 197.104 1845.78 193.377 Q1849.23 189.627 1855.07 189.627 Q1860.3 189.627 1863.33 193.006 Q1866.38 196.363 1866.38 202.15 M1862.13 200.9 Q1862.08 197.405 1860.16 195.321 Q1858.26 193.238 1855.11 193.238 Q1851.55 193.238 1849.39 195.252 Q1847.26 197.266 1846.94 200.923 L1862.13 200.9 Z\" fill=\"#000000\" fill-rule=\"evenodd\" fill-opacity=\"1\" /><path clip-path=\"url(#clip060)\" d=\"M1877.59 182.891 L1877.59 190.252 L1886.36 190.252 L1886.36 193.562 L1877.59 193.562 L1877.59 207.636 Q1877.59 210.807 1878.44 211.71 Q1879.32 212.613 1881.99 212.613 L1886.36 212.613 L1886.36 216.178 L1881.99 216.178 Q1877.06 216.178 1875.18 214.349 Q1873.31 212.497 1873.31 207.636 L1873.31 193.562 L1870.18 193.562 L1870.18 190.252 L1873.31 190.252 L1873.31 182.891 L1877.59 182.891 Z\" fill=\"#000000\" fill-rule=\"evenodd\" fill-opacity=\"1\" /><path clip-path=\"url(#clip060)\" d=\"M1903.75 203.145 Q1898.58 203.145 1896.59 204.326 Q1894.6 205.506 1894.6 208.354 Q1894.6 210.622 1896.08 211.965 Q1897.59 213.284 1900.16 213.284 Q1903.7 213.284 1905.83 210.784 Q1907.98 208.261 1907.98 204.094 L1907.98 203.145 L1903.75 203.145 M1912.24 201.386 L1912.24 216.178 L1907.98 216.178 L1907.98 212.242 Q1906.52 214.603 1904.35 215.738 Q1902.17 216.849 1899.02 216.849 Q1895.04 216.849 1892.68 214.627 Q1890.34 212.381 1890.34 208.631 Q1890.34 204.256 1893.26 202.034 Q1896.2 199.812 1902.01 199.812 L1907.98 199.812 L1907.98 199.395 Q1907.98 196.455 1906.04 194.858 Q1904.12 193.238 1900.62 193.238 Q1898.4 193.238 1896.29 193.77 Q1894.19 194.303 1892.24 195.367 L1892.24 191.432 Q1894.58 190.53 1896.78 190.09 Q1898.98 189.627 1901.06 189.627 Q1906.69 189.627 1909.46 192.543 Q1912.24 195.46 1912.24 201.386 Z\" fill=\"#000000\" fill-rule=\"evenodd\" fill-opacity=\"1\" /><path clip-path=\"url(#clip060)\" d=\"M1933.61 190.252 L1937.87 190.252 L1943.19 210.483 L1948.49 190.252 L1953.51 190.252 L1958.84 210.483 L1964.14 190.252 L1968.4 190.252 L1961.62 216.178 L1956.59 216.178 L1951.01 194.928 L1945.41 216.178 L1940.39 216.178 L1933.61 190.252 Z\" fill=\"#000000\" fill-rule=\"evenodd\" fill-opacity=\"1\" /><path clip-path=\"url(#clip060)\" d=\"M1974.86 190.252 L1979.12 190.252 L1979.12 216.178 L1974.86 216.178 L1974.86 190.252 M1974.86 180.159 L1979.12 180.159 L1979.12 185.553 L1974.86 185.553 L1974.86 180.159 Z\" fill=\"#000000\" fill-rule=\"evenodd\" fill-opacity=\"1\" /><path clip-path=\"url(#clip060)\" d=\"M1992.24 182.891 L1992.24 190.252 L2001.01 190.252 L2001.01 193.562 L1992.24 193.562 L1992.24 207.636 Q1992.24 210.807 1993.1 211.71 Q1993.98 212.613 1996.64 212.613 L2001.01 212.613 L2001.01 216.178 L1996.64 216.178 Q1991.71 216.178 1989.83 214.349 Q1987.96 212.497 1987.96 207.636 L1987.96 193.562 L1984.83 193.562 L1984.83 190.252 L1987.96 190.252 L1987.96 182.891 L1992.24 182.891 Z\" fill=\"#000000\" fill-rule=\"evenodd\" fill-opacity=\"1\" /><path clip-path=\"url(#clip060)\" d=\"M2028.17 200.529 L2028.17 216.178 L2023.91 216.178 L2023.91 200.668 Q2023.91 196.988 2022.47 195.159 Q2021.04 193.33 2018.17 193.33 Q2014.72 193.33 2012.73 195.53 Q2010.74 197.729 2010.74 201.525 L2010.74 216.178 L2006.45 216.178 L2006.45 180.159 L2010.74 180.159 L2010.74 194.28 Q2012.26 191.942 2014.32 190.784 Q2016.41 189.627 2019.12 189.627 Q2023.58 189.627 2025.87 192.405 Q2028.17 195.159 2028.17 200.529 Z\" fill=\"#000000\" fill-rule=\"evenodd\" fill-opacity=\"1\" /><path clip-path=\"url(#clip060)\" d=\"M2053.14 212.242 L2060.78 212.242 L2060.78 185.877 L2052.47 187.543 L2052.47 183.284 L2060.74 181.618 L2065.41 181.618 L2065.41 212.242 L2073.05 212.242 L2073.05 216.178 L2053.14 216.178 L2053.14 212.242 Z\" fill=\"#000000\" fill-rule=\"evenodd\" fill-opacity=\"1\" /><path clip-path=\"url(#clip060)\" d=\"M2092.49 184.696 Q2088.88 184.696 2087.05 188.261 Q2085.25 191.803 2085.25 198.932 Q2085.25 206.039 2087.05 209.604 Q2088.88 213.145 2092.49 213.145 Q2096.13 213.145 2097.93 209.604 Q2099.76 206.039 2099.76 198.932 Q2099.76 191.803 2097.93 188.261 Q2096.13 184.696 2092.49 184.696 M2092.49 180.993 Q2098.3 180.993 2101.36 185.599 Q2104.44 190.182 2104.44 198.932 Q2104.44 207.659 2101.36 212.266 Q2098.3 216.849 2092.49 216.849 Q2086.68 216.849 2083.61 212.266 Q2080.55 207.659 2080.55 198.932 Q2080.55 190.182 2083.61 185.599 Q2086.68 180.993 2092.49 180.993 Z\" fill=\"#000000\" fill-rule=\"evenodd\" fill-opacity=\"1\" /><path clip-path=\"url(#clip060)\" d=\"M2122.66 184.696 Q2119.05 184.696 2117.22 188.261 Q2115.41 191.803 2115.41 198.932 Q2115.41 206.039 2117.22 209.604 Q2119.05 213.145 2122.66 213.145 Q2126.29 213.145 2128.1 209.604 Q2129.92 206.039 2129.92 198.932 Q2129.92 191.803 2128.1 188.261 Q2126.29 184.696 2122.66 184.696 M2122.66 180.993 Q2128.47 180.993 2131.52 185.599 Q2134.6 190.182 2134.6 198.932 Q2134.6 207.659 2131.52 212.266 Q2128.47 216.849 2122.66 216.849 Q2116.85 216.849 2113.77 212.266 Q2110.71 207.659 2110.71 198.932 Q2110.71 190.182 2113.77 185.599 Q2116.85 180.993 2122.66 180.993 Z\" fill=\"#000000\" fill-rule=\"evenodd\" fill-opacity=\"1\" /><path clip-path=\"url(#clip060)\" d=\"M2152.82 184.696 Q2149.21 184.696 2147.38 188.261 Q2145.57 191.803 2145.57 198.932 Q2145.57 206.039 2147.38 209.604 Q2149.21 213.145 2152.82 213.145 Q2156.45 213.145 2158.26 209.604 Q2160.09 206.039 2160.09 198.932 Q2160.09 191.803 2158.26 188.261 Q2156.45 184.696 2152.82 184.696 M2152.82 180.993 Q2158.63 180.993 2161.68 185.599 Q2164.76 190.182 2164.76 198.932 Q2164.76 207.659 2161.68 212.266 Q2158.63 216.849 2152.82 216.849 Q2147.01 216.849 2143.93 212.266 Q2140.87 207.659 2140.87 198.932 Q2140.87 190.182 2143.93 185.599 Q2147.01 180.993 2152.82 180.993 Z\" fill=\"#000000\" fill-rule=\"evenodd\" fill-opacity=\"1\" /><path clip-path=\"url(#clip060)\" d=\"M2182.98 184.696 Q2179.37 184.696 2177.54 188.261 Q2175.73 191.803 2175.73 198.932 Q2175.73 206.039 2177.54 209.604 Q2179.37 213.145 2182.98 213.145 Q2186.61 213.145 2188.42 209.604 Q2190.25 206.039 2190.25 198.932 Q2190.25 191.803 2188.42 188.261 Q2186.61 184.696 2182.98 184.696 M2182.98 180.993 Q2188.79 180.993 2191.85 185.599 Q2194.92 190.182 2194.92 198.932 Q2194.92 207.659 2191.85 212.266 Q2188.79 216.849 2182.98 216.849 Q2177.17 216.849 2174.09 212.266 Q2171.04 207.659 2171.04 198.932 Q2171.04 190.182 2174.09 185.599 Q2177.17 180.993 2182.98 180.993 Z\" fill=\"#000000\" fill-rule=\"evenodd\" fill-opacity=\"1\" /></svg>\n"
      ]
     },
     "execution_count": 17,
     "metadata": {},
     "output_type": "execute_result"
    }
   ],
   "source": [
    "a1=histogram(x1,bins=15,labels=\"Normal with 10000\")\n",
    "histogram!(a1,f2,bins=15,labels=\"Beta with 10000\")"
   ]
  },
  {
   "cell_type": "markdown",
   "id": "22b88d4d",
   "metadata": {},
   "source": [
    "# Question 4\n",
    "### Read the following example and complete the exercises \n",
    "Bayes is playing Russian roulette. The revolver has six chambers. He puts two bullets in two adjacent chambers, spin the cylinder, hold the gun to his head, and pull the trigger. It clicks. So it is now the second try: he can choose either to spin the cylinder again or leave it as it is. "
   ]
  },
  {
   "cell_type": "markdown",
   "id": "4718911a",
   "metadata": {},
   "source": [
    "### 4.1\n",
    "\n",
    "#### What is the probability that Bayes survives the second try given his survival in the first try if he spin the cylinder and explain"
   ]
  },
  {
   "cell_type": "markdown",
   "id": "96f8c663",
   "metadata": {},
   "source": [
    "P(A)=4/6\n",
    "if you rotate the wheel again, the probability of the surviving the second shot is equivalent to identical to the first one"
   ]
  },
  {
   "cell_type": "markdown",
   "id": "9fd046a8",
   "metadata": {},
   "source": [
    "### 4.2\n",
    "#### In this case, what are the relation between P(A|B), P(B), and P(A) if A represents survival in the first try and B represents survival in the second try"
   ]
  },
  {
   "cell_type": "markdown",
   "id": "7a575296",
   "metadata": {},
   "source": [
    "P(B|A)=(P(B)*P(A|B))/P(A)"
   ]
  },
  {
   "cell_type": "markdown",
   "id": "4e03c813",
   "metadata": {},
   "source": [
    "### 4.3\n",
    "\n",
    "#### What is the probability that Bayes survives both tries without spinning the cylinder and explain"
   ]
  },
  {
   "cell_type": "markdown",
   "id": "29c20dd7",
   "metadata": {},
   "source": [
    "Without spinning the cylinder, there are 4 empty slots and 2 filled ones.\n",
    "P(A)=4/6\n",
    "Assuming the first one is empty and I do not spin that means the bullet has to be in positions 2,3,4,or 5,\n",
    "meaning only 3 out of the 4 positions left are empty\n",
    "\n",
    "P(B)=3/4\n",
    "P(A and B)= (3/4)(4/6)=1/2"
   ]
  },
  {
   "cell_type": "markdown",
   "id": "b4de6d2c",
   "metadata": {},
   "source": [
    "### 4.4\n",
    "\n",
    "#### Use answers from 4.1 and 4.3 to calculate the probability that Bayes survives the second try given his survial in the first try if he doesn't spin the cylinder and explain "
   ]
  },
  {
   "cell_type": "markdown",
   "id": "ba46b235",
   "metadata": {},
   "source": [
    "Second shot is not identical to the first, there are three empty chambers such that the chamber and the one next to it are empty\n",
    "P(A and B)=1/2\n",
    "P(B|A)=(1/2)/(2/3)=0.75\n",
    "P(B|A)=75%"
   ]
  }
 ],
 "metadata": {
  "kernelspec": {
   "display_name": "Julia 1.8.5",
   "language": "julia",
   "name": "julia-1.8"
  },
  "language_info": {
   "file_extension": ".jl",
   "mimetype": "application/julia",
   "name": "julia",
   "version": "1.8.5"
  }
 },
 "nbformat": 4,
 "nbformat_minor": 5
}
