{
 "cells": [
  {
   "cell_type": "markdown",
   "id": "0ce4edbf",
   "metadata": {},
   "source": [
    "<h1>HW2</h1>"
   ]
  },
  {
   "cell_type": "markdown",
   "id": "2e321dc4",
   "metadata": {},
   "source": [
    "#### Bayes' theorem:\n",
    "\\begin{equation*}\n",
    "P(A|B) = \\frac{P(B|A)P(A)}{P(B)} \\\\\n",
    "P(A|B): Posteior \\\\\n",
    "P(B|A): Likelihood \\\\\n",
    "P(A): Prior \\\\\n",
    "P(B): Marginal Probability \\\\\n",
    "\\end{equation*}"
   ]
  },
  {
   "cell_type": "markdown",
   "id": "1b6c2102",
   "metadata": {},
   "source": [
    "# Question 1\n",
    "### Read the following example and complete the exercises \n",
    "\n",
    "You are at the age of 21 and curious about if drinking alcohol would cause liver disease. You contacted a clinic site and got the following information.\n",
    "\n",
    "1. Past data tells you that 10% of patients entering the clinic have liver disease (**Prior**). \n",
    "\n",
    "2. Five percent of the clinic’s patients are alcoholics (**Marginal Probability**). \n",
    "\n",
    "3. Among the patients diagnosed with liver disease, 15% are alcoholics (**Likelihood**). \n",
    "\n",
    "Now you wonder what is the probability of a patient from the clinic have liver disease given that the patient is alcoholic (**Posterior**)"
   ]
  },
  {
   "cell_type": "markdown",
   "id": "e0c81ddf",
   "metadata": {},
   "source": [
    "### 1.1 \n",
    "\n",
    "#### If A represents the event of being an alcoholic patient in the clinic and L represents the event of being a patient with liver disease in the clinic, write the bayesian representation (P(A|B)) in the following cells\n"
   ]
  },
  {
   "cell_type": "markdown",
   "id": "90ef64bb",
   "metadata": {},
   "source": [
    "Posteria = "
   ]
  },
  {
   "cell_type": "code",
   "execution_count": 1,
   "id": "80398be3",
   "metadata": {},
   "outputs": [
    {
     "name": "stdout",
     "output_type": "stream",
     "text": [
      "P(L|A)\n"
     ]
    }
   ],
   "source": [
    "println(\"P(L|A)\")"
   ]
  },
  {
   "cell_type": "markdown",
   "id": "658c4c0e",
   "metadata": {},
   "source": [
    "Prior = "
   ]
  },
  {
   "cell_type": "code",
   "execution_count": 2,
   "id": "beaac53e",
   "metadata": {},
   "outputs": [
    {
     "name": "stdout",
     "output_type": "stream",
     "text": [
      "P(L)\n"
     ]
    }
   ],
   "source": [
    "println(\"P(L)\")"
   ]
  },
  {
   "cell_type": "markdown",
   "id": "e5f1f140",
   "metadata": {},
   "source": [
    "Likelihood = "
   ]
  },
  {
   "cell_type": "code",
   "execution_count": 3,
   "id": "05ae8f13",
   "metadata": {},
   "outputs": [
    {
     "name": "stdout",
     "output_type": "stream",
     "text": [
      "P(A|L)\n"
     ]
    }
   ],
   "source": [
    "println(\"P(A|L)\")"
   ]
  },
  {
   "cell_type": "markdown",
   "id": "ce4bee50",
   "metadata": {},
   "source": [
    "Marginal Probability = "
   ]
  },
  {
   "cell_type": "code",
   "execution_count": 4,
   "id": "d1382b46",
   "metadata": {},
   "outputs": [
    {
     "name": "stdout",
     "output_type": "stream",
     "text": [
      "P(A)\n"
     ]
    }
   ],
   "source": [
    "println(\"P(A)\")"
   ]
  },
  {
   "cell_type": "markdown",
   "id": "572cc5a7",
   "metadata": {},
   "source": [
    "### 1.2 \n",
    "\n",
    "#### Define all the information available and calculate the posteria probbability"
   ]
  },
  {
   "cell_type": "code",
   "execution_count": 5,
   "id": "fa180ac4",
   "metadata": {},
   "outputs": [
    {
     "name": "stdout",
     "output_type": "stream",
     "text": [
      "0.3\n"
     ]
    }
   ],
   "source": [
    "prior = 0.10\n",
    "likelihood = 0.15\n",
    "marginal = 0.05\n",
    "posterior = (prior*likelihood) / marginal\n",
    "println(posterior)"
   ]
  },
  {
   "cell_type": "markdown",
   "id": "ddce1bb4",
   "metadata": {},
   "source": [
    "# Question 2\n",
    "### Read the following example and complete the exercises \n",
    "Shown by a <a href=\"https://pubmed.ncbi.nlm.nih.gov/34242764/#:~:text=The%20overall%20sensitivity%20of%20the,%25%20CI%2024.4%2D65.1\">reaserch study</a>, the rapid antigen test for Covid has a sensitivity of 65.3% and a specificity of 99.9%. Assume 1% people have Covid. If randomly select a person and he/she tests positive using the rapid antigen test, what is the probability the person has Covid (posterior)."
   ]
  },
  {
   "cell_type": "markdown",
   "id": "1f01074b",
   "metadata": {},
   "source": [
    "### 2.1 \n",
    "\n",
    "#### The probability of which event is considered marginal probability in this case? Define it in the first cell below and calculate it in the second cell below"
   ]
  },
  {
   "cell_type": "markdown",
   "id": "fc0ce8a8",
   "metadata": {},
   "source": [
    "The event is: "
   ]
  },
  {
   "cell_type": "code",
   "execution_count": 26,
   "id": "9514d479",
   "metadata": {},
   "outputs": [
    {
     "name": "stdout",
     "output_type": "stream",
     "text": [
      "The event with marginal probability is not having Covid and testing positive during the test; false positive\n",
      "0.0010000000000000009\n"
     ]
    }
   ],
   "source": [
    "println(\"The event with marginal probability is not having Covid and testing positive during the test; false positive\")\n",
    "#marginal probability = 1 - specificity\n",
    "specificity = 0.999\n",
    "marginal = 1 - specificity\n",
    "println(marginal)\n",
    "\n",
    "\n"
   ]
  },
  {
   "cell_type": "markdown",
   "id": "cbb30a58",
   "metadata": {},
   "source": [
    "### 2.2 \n",
    "\n",
    "#### Define all the information and calculate the probability the randomly selected person has Covid"
   ]
  },
  {
   "cell_type": "code",
   "execution_count": 27,
   "id": "1af37a23",
   "metadata": {},
   "outputs": [
    {
     "name": "stdout",
     "output_type": "stream",
     "text": [
      "0.653\n"
     ]
    }
   ],
   "source": [
    "likelihood = 0.653\n",
    "prior = 0.01\n",
    "marginal = 0.01\n",
    "posterior = (likelihood*prior) / marginal\n",
    "println(posterior)\n"
   ]
  },
  {
   "cell_type": "markdown",
   "id": "13c0b486",
   "metadata": {},
   "source": [
    "# Question 3\n",
    "### <a href=\"https://juliastats.org/Distributions.jl/stable/starting/\">This page</a> is the documentation for Distribution.jl and complete the exercies"
   ]
  },
  {
   "cell_type": "markdown",
   "id": "8a852a4a",
   "metadata": {},
   "source": [
    "### 3.1 \n",
    "\n",
    "#### Randomly draw 1000 samples from a normal distribution with mean = 5 and std = 2"
   ]
  },
  {
   "cell_type": "code",
   "execution_count": 7,
   "id": "a1539748",
   "metadata": {},
   "outputs": [
    {
     "data": {
      "text/plain": [
       "1000-element Vector{Int64}:\n",
       " 2\n",
       " 5\n",
       " 5\n",
       " 5\n",
       " 5\n",
       " 2\n",
       " 2\n",
       " 5\n",
       " 5\n",
       " 2\n",
       " 5\n",
       " 5\n",
       " 5\n",
       " ⋮\n",
       " 2\n",
       " 2\n",
       " 2\n",
       " 2\n",
       " 5\n",
       " 2\n",
       " 2\n",
       " 5\n",
       " 5\n",
       " 5\n",
       " 2\n",
       " 5"
      ]
     },
     "execution_count": 7,
     "metadata": {},
     "output_type": "execute_result"
    }
   ],
   "source": [
    "using Random, Distributions\n",
    "Random.seed!(123)\n",
    "d= Normal()\n",
    "x = rand((5,2),1000)"
   ]
  },
  {
   "cell_type": "markdown",
   "id": "0b89952d",
   "metadata": {},
   "source": [
    "### 3.2\n",
    "\n",
    "#### Plot  the distribution above in a histogram"
   ]
  },
  {
   "cell_type": "code",
   "execution_count": 8,
   "id": "677ef750",
   "metadata": {},
   "outputs": [
    {
     "data": {
      "image/svg+xml": [
       "<?xml version=\"1.0\" encoding=\"utf-8\"?>\n",
       "<svg xmlns=\"http://www.w3.org/2000/svg\" xmlns:xlink=\"http://www.w3.org/1999/xlink\" width=\"600\" height=\"400\" viewBox=\"0 0 2400 1600\">\n",
       "<defs>\n",
       "  <clipPath id=\"clip920\">\n",
       "    <rect x=\"0\" y=\"0\" width=\"2400\" height=\"1600\"/>\n",
       "  </clipPath>\n",
       "</defs>\n",
       "<path clip-path=\"url(#clip920)\" d=\"M0 1600 L2400 1600 L2400 0 L0 0  Z\" fill=\"#ffffff\" fill-rule=\"evenodd\" fill-opacity=\"1\"/>\n",
       "<defs>\n",
       "  <clipPath id=\"clip921\">\n",
       "    <rect x=\"480\" y=\"0\" width=\"1681\" height=\"1600\"/>\n",
       "  </clipPath>\n",
       "</defs>\n",
       "<path clip-path=\"url(#clip920)\" d=\"M172.015 1486.45 L2352.76 1486.45 L2352.76 47.2441 L172.015 47.2441  Z\" fill=\"#ffffff\" fill-rule=\"evenodd\" fill-opacity=\"1\"/>\n",
       "<defs>\n",
       "  <clipPath id=\"clip922\">\n",
       "    <rect x=\"172\" y=\"47\" width=\"2182\" height=\"1440\"/>\n",
       "  </clipPath>\n",
       "</defs>\n",
       "<polyline clip-path=\"url(#clip922)\" style=\"stroke:#000000; stroke-linecap:round; stroke-linejoin:round; stroke-width:2; stroke-opacity:0.1; fill:none\" points=\"291.959,1486.45 291.959,47.2441 \"/>\n",
       "<polyline clip-path=\"url(#clip922)\" style=\"stroke:#000000; stroke-linecap:round; stroke-linejoin:round; stroke-width:2; stroke-opacity:0.1; fill:none\" points=\"777.172,1486.45 777.172,47.2441 \"/>\n",
       "<polyline clip-path=\"url(#clip922)\" style=\"stroke:#000000; stroke-linecap:round; stroke-linejoin:round; stroke-width:2; stroke-opacity:0.1; fill:none\" points=\"1262.39,1486.45 1262.39,47.2441 \"/>\n",
       "<polyline clip-path=\"url(#clip922)\" style=\"stroke:#000000; stroke-linecap:round; stroke-linejoin:round; stroke-width:2; stroke-opacity:0.1; fill:none\" points=\"1747.6,1486.45 1747.6,47.2441 \"/>\n",
       "<polyline clip-path=\"url(#clip922)\" style=\"stroke:#000000; stroke-linecap:round; stroke-linejoin:round; stroke-width:2; stroke-opacity:0.1; fill:none\" points=\"2232.81,1486.45 2232.81,47.2441 \"/>\n",
       "<polyline clip-path=\"url(#clip920)\" style=\"stroke:#000000; stroke-linecap:round; stroke-linejoin:round; stroke-width:4; stroke-opacity:1; fill:none\" points=\"172.015,1486.45 2352.76,1486.45 \"/>\n",
       "<polyline clip-path=\"url(#clip920)\" style=\"stroke:#000000; stroke-linecap:round; stroke-linejoin:round; stroke-width:4; stroke-opacity:1; fill:none\" points=\"291.959,1486.45 291.959,1467.55 \"/>\n",
       "<polyline clip-path=\"url(#clip920)\" style=\"stroke:#000000; stroke-linecap:round; stroke-linejoin:round; stroke-width:4; stroke-opacity:1; fill:none\" points=\"777.172,1486.45 777.172,1467.55 \"/>\n",
       "<polyline clip-path=\"url(#clip920)\" style=\"stroke:#000000; stroke-linecap:round; stroke-linejoin:round; stroke-width:4; stroke-opacity:1; fill:none\" points=\"1262.39,1486.45 1262.39,1467.55 \"/>\n",
       "<polyline clip-path=\"url(#clip920)\" style=\"stroke:#000000; stroke-linecap:round; stroke-linejoin:round; stroke-width:4; stroke-opacity:1; fill:none\" points=\"1747.6,1486.45 1747.6,1467.55 \"/>\n",
       "<polyline clip-path=\"url(#clip920)\" style=\"stroke:#000000; stroke-linecap:round; stroke-linejoin:round; stroke-width:4; stroke-opacity:1; fill:none\" points=\"2232.81,1486.45 2232.81,1467.55 \"/>\n",
       "<path clip-path=\"url(#clip920)\" d=\"M286.612 1544.91 L302.932 1544.91 L302.932 1548.85 L280.987 1548.85 L280.987 1544.91 Q283.649 1542.16 288.233 1537.53 Q292.839 1532.88 294.02 1531.53 Q296.265 1529.01 297.145 1527.27 Q298.047 1525.51 298.047 1523.82 Q298.047 1521.07 296.103 1519.33 Q294.182 1517.6 291.08 1517.6 Q288.881 1517.6 286.427 1518.36 Q283.997 1519.13 281.219 1520.68 L281.219 1515.95 Q284.043 1514.82 286.497 1514.24 Q288.95 1513.66 290.987 1513.66 Q296.358 1513.66 299.552 1516.35 Q302.746 1519.03 302.746 1523.52 Q302.746 1525.65 301.936 1527.57 Q301.149 1529.47 299.043 1532.07 Q298.464 1532.74 295.362 1535.95 Q292.26 1539.15 286.612 1544.91 Z\" fill=\"#000000\" fill-rule=\"evenodd\" fill-opacity=\"1\" /><path clip-path=\"url(#clip920)\" d=\"M781.42 1530.21 Q784.777 1530.93 786.652 1533.2 Q788.55 1535.47 788.55 1538.8 Q788.55 1543.92 785.031 1546.72 Q781.513 1549.52 775.031 1549.52 Q772.855 1549.52 770.541 1549.08 Q768.249 1548.66 765.795 1547.81 L765.795 1543.29 Q767.74 1544.43 770.054 1545.01 Q772.369 1545.58 774.892 1545.58 Q779.29 1545.58 781.582 1543.85 Q783.897 1542.11 783.897 1538.8 Q783.897 1535.75 781.744 1534.03 Q779.615 1532.3 775.795 1532.3 L771.767 1532.3 L771.767 1528.45 L775.98 1528.45 Q779.429 1528.45 781.258 1527.09 Q783.087 1525.7 783.087 1523.11 Q783.087 1520.45 781.189 1519.03 Q779.314 1517.6 775.795 1517.6 Q773.874 1517.6 771.675 1518.01 Q769.476 1518.43 766.837 1519.31 L766.837 1515.14 Q769.499 1514.4 771.814 1514.03 Q774.152 1513.66 776.212 1513.66 Q781.536 1513.66 784.638 1516.09 Q787.739 1518.5 787.739 1522.62 Q787.739 1525.49 786.096 1527.48 Q784.452 1529.45 781.42 1530.21 Z\" fill=\"#000000\" fill-rule=\"evenodd\" fill-opacity=\"1\" /><path clip-path=\"url(#clip920)\" d=\"M1265.39 1518.36 L1253.59 1536.81 L1265.39 1536.81 L1265.39 1518.36 M1264.17 1514.29 L1270.05 1514.29 L1270.05 1536.81 L1274.98 1536.81 L1274.98 1540.7 L1270.05 1540.7 L1270.05 1548.85 L1265.39 1548.85 L1265.39 1540.7 L1249.79 1540.7 L1249.79 1536.19 L1264.17 1514.29 Z\" fill=\"#000000\" fill-rule=\"evenodd\" fill-opacity=\"1\" /><path clip-path=\"url(#clip920)\" d=\"M1737.88 1514.29 L1756.23 1514.29 L1756.23 1518.22 L1742.16 1518.22 L1742.16 1526.7 Q1743.18 1526.35 1744.2 1526.19 Q1745.21 1526 1746.23 1526 Q1752.02 1526 1755.4 1529.17 Q1758.78 1532.34 1758.78 1537.76 Q1758.78 1543.34 1755.31 1546.44 Q1751.83 1549.52 1745.51 1549.52 Q1743.34 1549.52 1741.07 1549.15 Q1738.83 1548.78 1736.42 1548.04 L1736.42 1543.34 Q1738.5 1544.47 1740.72 1545.03 Q1742.95 1545.58 1745.42 1545.58 Q1749.43 1545.58 1751.76 1543.48 Q1754.1 1541.37 1754.1 1537.76 Q1754.1 1534.15 1751.76 1532.04 Q1749.43 1529.94 1745.42 1529.94 Q1743.55 1529.94 1741.67 1530.35 Q1739.82 1530.77 1737.88 1531.65 L1737.88 1514.29 Z\" fill=\"#000000\" fill-rule=\"evenodd\" fill-opacity=\"1\" /><path clip-path=\"url(#clip920)\" d=\"M2233.22 1529.7 Q2230.07 1529.7 2228.22 1531.86 Q2226.39 1534.01 2226.39 1537.76 Q2226.39 1541.49 2228.22 1543.66 Q2230.07 1545.82 2233.22 1545.82 Q2236.36 1545.82 2238.19 1543.66 Q2240.05 1541.49 2240.05 1537.76 Q2240.05 1534.01 2238.19 1531.86 Q2236.36 1529.7 2233.22 1529.7 M2242.5 1515.05 L2242.5 1519.31 Q2240.74 1518.48 2238.93 1518.04 Q2237.15 1517.6 2235.39 1517.6 Q2230.76 1517.6 2228.31 1520.72 Q2225.88 1523.85 2225.53 1530.17 Q2226.9 1528.15 2228.96 1527.09 Q2231.02 1526 2233.49 1526 Q2238.7 1526 2241.71 1529.17 Q2244.74 1532.32 2244.74 1537.76 Q2244.74 1543.08 2241.6 1546.3 Q2238.45 1549.52 2233.22 1549.52 Q2227.22 1549.52 2224.05 1544.94 Q2220.88 1540.33 2220.88 1531.6 Q2220.88 1523.41 2224.77 1518.55 Q2228.66 1513.66 2235.21 1513.66 Q2236.97 1513.66 2238.75 1514.01 Q2240.55 1514.36 2242.5 1515.05 Z\" fill=\"#000000\" fill-rule=\"evenodd\" fill-opacity=\"1\" /><polyline clip-path=\"url(#clip922)\" style=\"stroke:#000000; stroke-linecap:round; stroke-linejoin:round; stroke-width:2; stroke-opacity:0.1; fill:none\" points=\"172.015,1445.72 2352.76,1445.72 \"/>\n",
       "<polyline clip-path=\"url(#clip922)\" style=\"stroke:#000000; stroke-linecap:round; stroke-linejoin:round; stroke-width:2; stroke-opacity:0.1; fill:none\" points=\"172.015,1184.11 2352.76,1184.11 \"/>\n",
       "<polyline clip-path=\"url(#clip922)\" style=\"stroke:#000000; stroke-linecap:round; stroke-linejoin:round; stroke-width:2; stroke-opacity:0.1; fill:none\" points=\"172.015,922.502 2352.76,922.502 \"/>\n",
       "<polyline clip-path=\"url(#clip922)\" style=\"stroke:#000000; stroke-linecap:round; stroke-linejoin:round; stroke-width:2; stroke-opacity:0.1; fill:none\" points=\"172.015,660.895 2352.76,660.895 \"/>\n",
       "<polyline clip-path=\"url(#clip922)\" style=\"stroke:#000000; stroke-linecap:round; stroke-linejoin:round; stroke-width:2; stroke-opacity:0.1; fill:none\" points=\"172.015,399.288 2352.76,399.288 \"/>\n",
       "<polyline clip-path=\"url(#clip922)\" style=\"stroke:#000000; stroke-linecap:round; stroke-linejoin:round; stroke-width:2; stroke-opacity:0.1; fill:none\" points=\"172.015,137.682 2352.76,137.682 \"/>\n",
       "<polyline clip-path=\"url(#clip920)\" style=\"stroke:#000000; stroke-linecap:round; stroke-linejoin:round; stroke-width:4; stroke-opacity:1; fill:none\" points=\"172.015,1486.45 172.015,47.2441 \"/>\n",
       "<polyline clip-path=\"url(#clip920)\" style=\"stroke:#000000; stroke-linecap:round; stroke-linejoin:round; stroke-width:4; stroke-opacity:1; fill:none\" points=\"172.015,1445.72 190.912,1445.72 \"/>\n",
       "<polyline clip-path=\"url(#clip920)\" style=\"stroke:#000000; stroke-linecap:round; stroke-linejoin:round; stroke-width:4; stroke-opacity:1; fill:none\" points=\"172.015,1184.11 190.912,1184.11 \"/>\n",
       "<polyline clip-path=\"url(#clip920)\" style=\"stroke:#000000; stroke-linecap:round; stroke-linejoin:round; stroke-width:4; stroke-opacity:1; fill:none\" points=\"172.015,922.502 190.912,922.502 \"/>\n",
       "<polyline clip-path=\"url(#clip920)\" style=\"stroke:#000000; stroke-linecap:round; stroke-linejoin:round; stroke-width:4; stroke-opacity:1; fill:none\" points=\"172.015,660.895 190.912,660.895 \"/>\n",
       "<polyline clip-path=\"url(#clip920)\" style=\"stroke:#000000; stroke-linecap:round; stroke-linejoin:round; stroke-width:4; stroke-opacity:1; fill:none\" points=\"172.015,399.288 190.912,399.288 \"/>\n",
       "<polyline clip-path=\"url(#clip920)\" style=\"stroke:#000000; stroke-linecap:round; stroke-linejoin:round; stroke-width:4; stroke-opacity:1; fill:none\" points=\"172.015,137.682 190.912,137.682 \"/>\n",
       "<path clip-path=\"url(#clip920)\" d=\"M124.07 1431.51 Q120.459 1431.51 118.631 1435.08 Q116.825 1438.62 116.825 1445.75 Q116.825 1452.86 118.631 1456.42 Q120.459 1459.96 124.07 1459.96 Q127.705 1459.96 129.51 1456.42 Q131.339 1452.86 131.339 1445.75 Q131.339 1438.62 129.51 1435.08 Q127.705 1431.51 124.07 1431.51 M124.07 1427.81 Q129.881 1427.81 132.936 1432.42 Q136.015 1437 136.015 1445.75 Q136.015 1454.48 132.936 1459.08 Q129.881 1463.67 124.07 1463.67 Q118.26 1463.67 115.182 1459.08 Q112.126 1454.48 112.126 1445.75 Q112.126 1437 115.182 1432.42 Q118.26 1427.81 124.07 1427.81 Z\" fill=\"#000000\" fill-rule=\"evenodd\" fill-opacity=\"1\" /><path clip-path=\"url(#clip920)\" d=\"M54.5569 1197.45 L62.1958 1197.45 L62.1958 1171.09 L53.8856 1172.75 L53.8856 1168.5 L62.1495 1166.83 L66.8254 1166.83 L66.8254 1197.45 L74.4642 1197.45 L74.4642 1201.39 L54.5569 1201.39 L54.5569 1197.45 Z\" fill=\"#000000\" fill-rule=\"evenodd\" fill-opacity=\"1\" /><path clip-path=\"url(#clip920)\" d=\"M93.9086 1169.91 Q90.2975 1169.91 88.4688 1173.47 Q86.6632 1177.01 86.6632 1184.14 Q86.6632 1191.25 88.4688 1194.81 Q90.2975 1198.36 93.9086 1198.36 Q97.5428 1198.36 99.3483 1194.81 Q101.177 1191.25 101.177 1184.14 Q101.177 1177.01 99.3483 1173.47 Q97.5428 1169.91 93.9086 1169.91 M93.9086 1166.2 Q99.7187 1166.2 102.774 1170.81 Q105.853 1175.39 105.853 1184.14 Q105.853 1192.87 102.774 1197.48 Q99.7187 1202.06 93.9086 1202.06 Q88.0984 1202.06 85.0197 1197.48 Q81.9642 1192.87 81.9642 1184.14 Q81.9642 1175.39 85.0197 1170.81 Q88.0984 1166.2 93.9086 1166.2 Z\" fill=\"#000000\" fill-rule=\"evenodd\" fill-opacity=\"1\" /><path clip-path=\"url(#clip920)\" d=\"M124.07 1169.91 Q120.459 1169.91 118.631 1173.47 Q116.825 1177.01 116.825 1184.14 Q116.825 1191.25 118.631 1194.81 Q120.459 1198.36 124.07 1198.36 Q127.705 1198.36 129.51 1194.81 Q131.339 1191.25 131.339 1184.14 Q131.339 1177.01 129.51 1173.47 Q127.705 1169.91 124.07 1169.91 M124.07 1166.2 Q129.881 1166.2 132.936 1170.81 Q136.015 1175.39 136.015 1184.14 Q136.015 1192.87 132.936 1197.48 Q129.881 1202.06 124.07 1202.06 Q118.26 1202.06 115.182 1197.48 Q112.126 1192.87 112.126 1184.14 Q112.126 1175.39 115.182 1170.81 Q118.26 1166.2 124.07 1166.2 Z\" fill=\"#000000\" fill-rule=\"evenodd\" fill-opacity=\"1\" /><path clip-path=\"url(#clip920)\" d=\"M57.7745 935.847 L74.0939 935.847 L74.0939 939.782 L52.1495 939.782 L52.1495 935.847 Q54.8115 933.092 59.3949 928.463 Q64.0013 923.81 65.1819 922.467 Q67.4272 919.944 68.3068 918.208 Q69.2096 916.449 69.2096 914.759 Q69.2096 912.004 67.2652 910.268 Q65.3439 908.532 62.2421 908.532 Q60.043 908.532 57.5893 909.296 Q55.1588 910.06 52.381 911.611 L52.381 906.889 Q55.2051 905.754 57.6588 905.176 Q60.1124 904.597 62.1495 904.597 Q67.5198 904.597 70.7142 907.282 Q73.9087 909.967 73.9087 914.458 Q73.9087 916.588 73.0985 918.509 Q72.3115 920.407 70.205 923 Q69.6263 923.671 66.5245 926.889 Q63.4226 930.083 57.7745 935.847 Z\" fill=\"#000000\" fill-rule=\"evenodd\" fill-opacity=\"1\" /><path clip-path=\"url(#clip920)\" d=\"M93.9086 908.301 Q90.2975 908.301 88.4688 911.866 Q86.6632 915.407 86.6632 922.537 Q86.6632 929.643 88.4688 933.208 Q90.2975 936.75 93.9086 936.75 Q97.5428 936.75 99.3483 933.208 Q101.177 929.643 101.177 922.537 Q101.177 915.407 99.3483 911.866 Q97.5428 908.301 93.9086 908.301 M93.9086 904.597 Q99.7187 904.597 102.774 909.204 Q105.853 913.787 105.853 922.537 Q105.853 931.264 102.774 935.87 Q99.7187 940.453 93.9086 940.453 Q88.0984 940.453 85.0197 935.87 Q81.9642 931.264 81.9642 922.537 Q81.9642 913.787 85.0197 909.204 Q88.0984 904.597 93.9086 904.597 Z\" fill=\"#000000\" fill-rule=\"evenodd\" fill-opacity=\"1\" /><path clip-path=\"url(#clip920)\" d=\"M124.07 908.301 Q120.459 908.301 118.631 911.866 Q116.825 915.407 116.825 922.537 Q116.825 929.643 118.631 933.208 Q120.459 936.75 124.07 936.75 Q127.705 936.75 129.51 933.208 Q131.339 929.643 131.339 922.537 Q131.339 915.407 129.51 911.866 Q127.705 908.301 124.07 908.301 M124.07 904.597 Q129.881 904.597 132.936 909.204 Q136.015 913.787 136.015 922.537 Q136.015 931.264 132.936 935.87 Q129.881 940.453 124.07 940.453 Q118.26 940.453 115.182 935.87 Q112.126 931.264 112.126 922.537 Q112.126 913.787 115.182 909.204 Q118.26 904.597 124.07 904.597 Z\" fill=\"#000000\" fill-rule=\"evenodd\" fill-opacity=\"1\" /><path clip-path=\"url(#clip920)\" d=\"M67.9133 659.541 Q71.2698 660.259 73.1448 662.527 Q75.0429 664.796 75.0429 668.129 Q75.0429 673.245 71.5244 676.046 Q68.0059 678.847 61.5245 678.847 Q59.3486 678.847 57.0338 678.407 Q54.7421 677.99 52.2884 677.134 L52.2884 672.62 Q54.2328 673.754 56.5477 674.333 Q58.8625 674.911 61.3856 674.911 Q65.7837 674.911 68.0754 673.175 Q70.3902 671.439 70.3902 668.129 Q70.3902 665.073 68.2374 663.36 Q66.1078 661.624 62.2884 661.624 L58.2606 661.624 L58.2606 657.782 L62.4735 657.782 Q65.9226 657.782 67.7513 656.416 Q69.58 655.027 69.58 652.435 Q69.58 649.773 67.6819 648.361 Q65.8069 646.925 62.2884 646.925 Q60.3671 646.925 58.168 647.342 Q55.969 647.759 53.3301 648.638 L53.3301 644.472 Q55.9921 643.731 58.3069 643.361 Q60.6449 642.99 62.705 642.99 Q68.0291 642.99 71.1309 645.421 Q74.2327 647.828 74.2327 651.949 Q74.2327 654.819 72.5892 656.81 Q70.9457 658.777 67.9133 659.541 Z\" fill=\"#000000\" fill-rule=\"evenodd\" fill-opacity=\"1\" /><path clip-path=\"url(#clip920)\" d=\"M93.9086 646.694 Q90.2975 646.694 88.4688 650.259 Q86.6632 653.8 86.6632 660.93 Q86.6632 668.036 88.4688 671.601 Q90.2975 675.143 93.9086 675.143 Q97.5428 675.143 99.3483 671.601 Q101.177 668.036 101.177 660.93 Q101.177 653.8 99.3483 650.259 Q97.5428 646.694 93.9086 646.694 M93.9086 642.99 Q99.7187 642.99 102.774 647.597 Q105.853 652.18 105.853 660.93 Q105.853 669.657 102.774 674.263 Q99.7187 678.847 93.9086 678.847 Q88.0984 678.847 85.0197 674.263 Q81.9642 669.657 81.9642 660.93 Q81.9642 652.18 85.0197 647.597 Q88.0984 642.99 93.9086 642.99 Z\" fill=\"#000000\" fill-rule=\"evenodd\" fill-opacity=\"1\" /><path clip-path=\"url(#clip920)\" d=\"M124.07 646.694 Q120.459 646.694 118.631 650.259 Q116.825 653.8 116.825 660.93 Q116.825 668.036 118.631 671.601 Q120.459 675.143 124.07 675.143 Q127.705 675.143 129.51 671.601 Q131.339 668.036 131.339 660.93 Q131.339 653.8 129.51 650.259 Q127.705 646.694 124.07 646.694 M124.07 642.99 Q129.881 642.99 132.936 647.597 Q136.015 652.18 136.015 660.93 Q136.015 669.657 132.936 674.263 Q129.881 678.847 124.07 678.847 Q118.26 678.847 115.182 674.263 Q112.126 669.657 112.126 660.93 Q112.126 652.18 115.182 647.597 Q118.26 642.99 124.07 642.99 Z\" fill=\"#000000\" fill-rule=\"evenodd\" fill-opacity=\"1\" /><path clip-path=\"url(#clip920)\" d=\"M66.5939 386.082 L54.7884 404.531 L66.5939 404.531 L66.5939 386.082 M65.367 382.008 L71.2466 382.008 L71.2466 404.531 L76.1772 404.531 L76.1772 408.42 L71.2466 408.42 L71.2466 416.568 L66.5939 416.568 L66.5939 408.42 L50.9921 408.42 L50.9921 403.906 L65.367 382.008 Z\" fill=\"#000000\" fill-rule=\"evenodd\" fill-opacity=\"1\" /><path clip-path=\"url(#clip920)\" d=\"M93.9086 385.087 Q90.2975 385.087 88.4688 388.652 Q86.6632 392.194 86.6632 399.323 Q86.6632 406.43 88.4688 409.994 Q90.2975 413.536 93.9086 413.536 Q97.5428 413.536 99.3483 409.994 Q101.177 406.43 101.177 399.323 Q101.177 392.194 99.3483 388.652 Q97.5428 385.087 93.9086 385.087 M93.9086 381.383 Q99.7187 381.383 102.774 385.99 Q105.853 390.573 105.853 399.323 Q105.853 408.05 102.774 412.656 Q99.7187 417.24 93.9086 417.24 Q88.0984 417.24 85.0197 412.656 Q81.9642 408.05 81.9642 399.323 Q81.9642 390.573 85.0197 385.99 Q88.0984 381.383 93.9086 381.383 Z\" fill=\"#000000\" fill-rule=\"evenodd\" fill-opacity=\"1\" /><path clip-path=\"url(#clip920)\" d=\"M124.07 385.087 Q120.459 385.087 118.631 388.652 Q116.825 392.194 116.825 399.323 Q116.825 406.43 118.631 409.994 Q120.459 413.536 124.07 413.536 Q127.705 413.536 129.51 409.994 Q131.339 406.43 131.339 399.323 Q131.339 392.194 129.51 388.652 Q127.705 385.087 124.07 385.087 M124.07 381.383 Q129.881 381.383 132.936 385.99 Q136.015 390.573 136.015 399.323 Q136.015 408.05 132.936 412.656 Q129.881 417.24 124.07 417.24 Q118.26 417.24 115.182 412.656 Q112.126 408.05 112.126 399.323 Q112.126 390.573 115.182 385.99 Q118.26 381.383 124.07 381.383 Z\" fill=\"#000000\" fill-rule=\"evenodd\" fill-opacity=\"1\" /><path clip-path=\"url(#clip920)\" d=\"M53.793 120.402 L72.1494 120.402 L72.1494 124.337 L58.0754 124.337 L58.0754 132.809 Q59.0939 132.462 60.1124 132.3 Q61.131 132.114 62.1495 132.114 Q67.9365 132.114 71.3161 135.286 Q74.6957 138.457 74.6957 143.874 Q74.6957 149.452 71.2235 152.554 Q67.7513 155.633 61.4319 155.633 Q59.256 155.633 56.9875 155.262 Q54.7421 154.892 52.3347 154.151 L52.3347 149.452 Q54.418 150.587 56.6402 151.142 Q58.8625 151.698 61.3393 151.698 Q65.3439 151.698 67.6819 149.591 Q70.0198 147.485 70.0198 143.874 Q70.0198 140.263 67.6819 138.156 Q65.3439 136.05 61.3393 136.05 Q59.4643 136.05 57.5893 136.466 Q55.7375 136.883 53.793 137.763 L53.793 120.402 Z\" fill=\"#000000\" fill-rule=\"evenodd\" fill-opacity=\"1\" /><path clip-path=\"url(#clip920)\" d=\"M93.9086 123.48 Q90.2975 123.48 88.4688 127.045 Q86.6632 130.587 86.6632 137.716 Q86.6632 144.823 88.4688 148.388 Q90.2975 151.929 93.9086 151.929 Q97.5428 151.929 99.3483 148.388 Q101.177 144.823 101.177 137.716 Q101.177 130.587 99.3483 127.045 Q97.5428 123.48 93.9086 123.48 M93.9086 119.777 Q99.7187 119.777 102.774 124.383 Q105.853 128.966 105.853 137.716 Q105.853 146.443 102.774 151.05 Q99.7187 155.633 93.9086 155.633 Q88.0984 155.633 85.0197 151.05 Q81.9642 146.443 81.9642 137.716 Q81.9642 128.966 85.0197 124.383 Q88.0984 119.777 93.9086 119.777 Z\" fill=\"#000000\" fill-rule=\"evenodd\" fill-opacity=\"1\" /><path clip-path=\"url(#clip920)\" d=\"M124.07 123.48 Q120.459 123.48 118.631 127.045 Q116.825 130.587 116.825 137.716 Q116.825 144.823 118.631 148.388 Q120.459 151.929 124.07 151.929 Q127.705 151.929 129.51 148.388 Q131.339 144.823 131.339 137.716 Q131.339 130.587 129.51 127.045 Q127.705 123.48 124.07 123.48 M124.07 119.777 Q129.881 119.777 132.936 124.383 Q136.015 128.966 136.015 137.716 Q136.015 146.443 132.936 151.05 Q129.881 155.633 124.07 155.633 Q118.26 155.633 115.182 151.05 Q112.126 146.443 112.126 137.716 Q112.126 128.966 115.182 124.383 Q118.26 119.777 124.07 119.777 Z\" fill=\"#000000\" fill-rule=\"evenodd\" fill-opacity=\"1\" /><path clip-path=\"url(#clip922)\" d=\"M291.959 187.387 L291.959 1445.72 L777.172 1445.72 L777.172 187.387 L291.959 187.387 L291.959 187.387  Z\" fill=\"#009af9\" fill-rule=\"evenodd\" fill-opacity=\"1\"/>\n",
       "<polyline clip-path=\"url(#clip922)\" style=\"stroke:#000000; stroke-linecap:round; stroke-linejoin:round; stroke-width:4; stroke-opacity:1; fill:none\" points=\"291.959,187.387 291.959,1445.72 777.172,1445.72 777.172,187.387 291.959,187.387 \"/>\n",
       "<path clip-path=\"url(#clip922)\" d=\"M777.172 1445.72 L777.172 1445.72 L1262.39 1445.72 L1262.39 1445.72 L777.172 1445.72 L777.172 1445.72  Z\" fill=\"#009af9\" fill-rule=\"evenodd\" fill-opacity=\"1\"/>\n",
       "<polyline clip-path=\"url(#clip922)\" style=\"stroke:#000000; stroke-linecap:round; stroke-linejoin:round; stroke-width:4; stroke-opacity:1; fill:none\" points=\"777.172,1445.72 777.172,1445.72 1262.39,1445.72 777.172,1445.72 \"/>\n",
       "<path clip-path=\"url(#clip922)\" d=\"M1262.39 1445.72 L1262.39 1445.72 L1747.6 1445.72 L1747.6 1445.72 L1262.39 1445.72 L1262.39 1445.72  Z\" fill=\"#009af9\" fill-rule=\"evenodd\" fill-opacity=\"1\"/>\n",
       "<polyline clip-path=\"url(#clip922)\" style=\"stroke:#000000; stroke-linecap:round; stroke-linejoin:round; stroke-width:4; stroke-opacity:1; fill:none\" points=\"1262.39,1445.72 1262.39,1445.72 1747.6,1445.72 1262.39,1445.72 \"/>\n",
       "<path clip-path=\"url(#clip922)\" d=\"M1747.6 87.9763 L1747.6 1445.72 L2232.81 1445.72 L2232.81 87.9763 L1747.6 87.9763 L1747.6 87.9763  Z\" fill=\"#009af9\" fill-rule=\"evenodd\" fill-opacity=\"1\"/>\n",
       "<polyline clip-path=\"url(#clip922)\" style=\"stroke:#000000; stroke-linecap:round; stroke-linejoin:round; stroke-width:4; stroke-opacity:1; fill:none\" points=\"1747.6,87.9763 1747.6,1445.72 2232.81,1445.72 2232.81,87.9763 1747.6,87.9763 \"/>\n",
       "<circle clip-path=\"url(#clip922)\" style=\"fill:#009af9; stroke:none; fill-opacity:0\" cx=\"534.566\" cy=\"187.387\" r=\"2\"/>\n",
       "<circle clip-path=\"url(#clip922)\" style=\"fill:#009af9; stroke:none; fill-opacity:0\" cx=\"1019.78\" cy=\"1445.72\" r=\"2\"/>\n",
       "<circle clip-path=\"url(#clip922)\" style=\"fill:#009af9; stroke:none; fill-opacity:0\" cx=\"1504.99\" cy=\"1445.72\" r=\"2\"/>\n",
       "<circle clip-path=\"url(#clip922)\" style=\"fill:#009af9; stroke:none; fill-opacity:0\" cx=\"1990.2\" cy=\"87.9763\" r=\"2\"/>\n",
       "<path clip-path=\"url(#clip920)\" d=\"M2009.56 1438.47 L2280.06 1438.47 L2280.06 1334.79 L2009.56 1334.79  Z\" fill=\"#ffffff\" fill-rule=\"evenodd\" fill-opacity=\"1\"/>\n",
       "<polyline clip-path=\"url(#clip920)\" style=\"stroke:#000000; stroke-linecap:round; stroke-linejoin:round; stroke-width:4; stroke-opacity:1; fill:none\" points=\"2009.56,1438.47 2280.06,1438.47 2280.06,1334.79 2009.56,1334.79 2009.56,1438.47 \"/>\n",
       "<path clip-path=\"url(#clip920)\" d=\"M2033.79 1407.37 L2179.17 1407.37 L2179.17 1365.9 L2033.79 1365.9 L2033.79 1407.37  Z\" fill=\"#009af9\" fill-rule=\"evenodd\" fill-opacity=\"1\"/>\n",
       "<polyline clip-path=\"url(#clip920)\" style=\"stroke:#000000; stroke-linecap:round; stroke-linejoin:round; stroke-width:4; stroke-opacity:1; fill:none\" points=\"2033.79,1407.37 2179.17,1407.37 2179.17,1365.9 2033.79,1365.9 2033.79,1407.37 \"/>\n",
       "<path clip-path=\"url(#clip920)\" d=\"M2217.25 1406.32 Q2215.44 1410.95 2213.73 1412.36 Q2212.01 1413.78 2209.14 1413.78 L2205.74 1413.78 L2205.74 1410.21 L2208.24 1410.21 Q2210 1410.21 2210.97 1409.38 Q2211.95 1408.54 2213.13 1405.44 L2213.89 1403.5 L2203.4 1377.99 L2207.92 1377.99 L2216.02 1398.27 L2224.12 1377.99 L2228.64 1377.99 L2217.25 1406.32 Z\" fill=\"#000000\" fill-rule=\"evenodd\" fill-opacity=\"1\" /><path clip-path=\"url(#clip920)\" d=\"M2235.93 1399.98 L2243.57 1399.98 L2243.57 1373.61 L2235.26 1375.28 L2235.26 1371.02 L2243.52 1369.35 L2248.2 1369.35 L2248.2 1399.98 L2255.83 1399.98 L2255.83 1403.91 L2235.93 1403.91 L2235.93 1399.98 Z\" fill=\"#000000\" fill-rule=\"evenodd\" fill-opacity=\"1\" /></svg>\n"
      ]
     },
     "execution_count": 8,
     "metadata": {},
     "output_type": "execute_result"
    }
   ],
   "source": [
    "using Plots\n",
    "histogram(x)"
   ]
  },
  {
   "cell_type": "markdown",
   "id": "acf09989",
   "metadata": {},
   "source": [
    "### 3.3\n",
    "\n",
    "#### Plot  the same distribution and change the bins to 50"
   ]
  },
  {
   "cell_type": "code",
   "execution_count": 9,
   "id": "f640420a",
   "metadata": {},
   "outputs": [
    {
     "data": {
      "image/svg+xml": [
       "<?xml version=\"1.0\" encoding=\"utf-8\"?>\n",
       "<svg xmlns=\"http://www.w3.org/2000/svg\" xmlns:xlink=\"http://www.w3.org/1999/xlink\" width=\"600\" height=\"400\" viewBox=\"0 0 2400 1600\">\n",
       "<defs>\n",
       "  <clipPath id=\"clip960\">\n",
       "    <rect x=\"0\" y=\"0\" width=\"2400\" height=\"1600\"/>\n",
       "  </clipPath>\n",
       "</defs>\n",
       "<path clip-path=\"url(#clip960)\" d=\"M0 1600 L2400 1600 L2400 0 L0 0  Z\" fill=\"#ffffff\" fill-rule=\"evenodd\" fill-opacity=\"1\"/>\n",
       "<defs>\n",
       "  <clipPath id=\"clip961\">\n",
       "    <rect x=\"480\" y=\"0\" width=\"1681\" height=\"1600\"/>\n",
       "  </clipPath>\n",
       "</defs>\n",
       "<path clip-path=\"url(#clip960)\" d=\"M172.015 1486.45 L2352.76 1486.45 L2352.76 47.2441 L172.015 47.2441  Z\" fill=\"#ffffff\" fill-rule=\"evenodd\" fill-opacity=\"1\"/>\n",
       "<defs>\n",
       "  <clipPath id=\"clip962\">\n",
       "    <rect x=\"172\" y=\"47\" width=\"2182\" height=\"1440\"/>\n",
       "  </clipPath>\n",
       "</defs>\n",
       "<polyline clip-path=\"url(#clip962)\" style=\"stroke:#000000; stroke-linecap:round; stroke-linejoin:round; stroke-width:2; stroke-opacity:0.1; fill:none\" points=\"291.959,1486.45 291.959,47.2441 \"/>\n",
       "<polyline clip-path=\"url(#clip962)\" style=\"stroke:#000000; stroke-linecap:round; stroke-linejoin:round; stroke-width:2; stroke-opacity:0.1; fill:none\" points=\"918.041,1486.45 918.041,47.2441 \"/>\n",
       "<polyline clip-path=\"url(#clip962)\" style=\"stroke:#000000; stroke-linecap:round; stroke-linejoin:round; stroke-width:2; stroke-opacity:0.1; fill:none\" points=\"1544.12,1486.45 1544.12,47.2441 \"/>\n",
       "<polyline clip-path=\"url(#clip962)\" style=\"stroke:#000000; stroke-linecap:round; stroke-linejoin:round; stroke-width:2; stroke-opacity:0.1; fill:none\" points=\"2170.2,1486.45 2170.2,47.2441 \"/>\n",
       "<polyline clip-path=\"url(#clip960)\" style=\"stroke:#000000; stroke-linecap:round; stroke-linejoin:round; stroke-width:4; stroke-opacity:1; fill:none\" points=\"172.015,1486.45 2352.76,1486.45 \"/>\n",
       "<polyline clip-path=\"url(#clip960)\" style=\"stroke:#000000; stroke-linecap:round; stroke-linejoin:round; stroke-width:4; stroke-opacity:1; fill:none\" points=\"291.959,1486.45 291.959,1467.55 \"/>\n",
       "<polyline clip-path=\"url(#clip960)\" style=\"stroke:#000000; stroke-linecap:round; stroke-linejoin:round; stroke-width:4; stroke-opacity:1; fill:none\" points=\"918.041,1486.45 918.041,1467.55 \"/>\n",
       "<polyline clip-path=\"url(#clip960)\" style=\"stroke:#000000; stroke-linecap:round; stroke-linejoin:round; stroke-width:4; stroke-opacity:1; fill:none\" points=\"1544.12,1486.45 1544.12,1467.55 \"/>\n",
       "<polyline clip-path=\"url(#clip960)\" style=\"stroke:#000000; stroke-linecap:round; stroke-linejoin:round; stroke-width:4; stroke-opacity:1; fill:none\" points=\"2170.2,1486.45 2170.2,1467.55 \"/>\n",
       "<path clip-path=\"url(#clip960)\" d=\"M286.612 1544.91 L302.932 1544.91 L302.932 1548.85 L280.987 1548.85 L280.987 1544.91 Q283.649 1542.16 288.233 1537.53 Q292.839 1532.88 294.02 1531.53 Q296.265 1529.01 297.145 1527.27 Q298.047 1525.51 298.047 1523.82 Q298.047 1521.07 296.103 1519.33 Q294.182 1517.6 291.08 1517.6 Q288.881 1517.6 286.427 1518.36 Q283.997 1519.13 281.219 1520.68 L281.219 1515.95 Q284.043 1514.82 286.497 1514.24 Q288.95 1513.66 290.987 1513.66 Q296.358 1513.66 299.552 1516.35 Q302.746 1519.03 302.746 1523.52 Q302.746 1525.65 301.936 1527.57 Q301.149 1529.47 299.043 1532.07 Q298.464 1532.74 295.362 1535.95 Q292.26 1539.15 286.612 1544.91 Z\" fill=\"#000000\" fill-rule=\"evenodd\" fill-opacity=\"1\" /><path clip-path=\"url(#clip960)\" d=\"M922.288 1530.21 Q925.645 1530.93 927.52 1533.2 Q929.418 1535.47 929.418 1538.8 Q929.418 1543.92 925.899 1546.72 Q922.381 1549.52 915.899 1549.52 Q913.724 1549.52 911.409 1549.08 Q909.117 1548.66 906.663 1547.81 L906.663 1543.29 Q908.608 1544.43 910.923 1545.01 Q913.237 1545.58 915.761 1545.58 Q920.159 1545.58 922.45 1543.85 Q924.765 1542.11 924.765 1538.8 Q924.765 1535.75 922.612 1534.03 Q920.483 1532.3 916.663 1532.3 L912.636 1532.3 L912.636 1528.45 L916.849 1528.45 Q920.298 1528.45 922.126 1527.09 Q923.955 1525.7 923.955 1523.11 Q923.955 1520.45 922.057 1519.03 Q920.182 1517.6 916.663 1517.6 Q914.742 1517.6 912.543 1518.01 Q910.344 1518.43 907.705 1519.31 L907.705 1515.14 Q910.367 1514.4 912.682 1514.03 Q915.02 1513.66 917.08 1513.66 Q922.404 1513.66 925.506 1516.09 Q928.608 1518.5 928.608 1522.62 Q928.608 1525.49 926.964 1527.48 Q925.321 1529.45 922.288 1530.21 Z\" fill=\"#000000\" fill-rule=\"evenodd\" fill-opacity=\"1\" /><path clip-path=\"url(#clip960)\" d=\"M1547.13 1518.36 L1535.33 1536.81 L1547.13 1536.81 L1547.13 1518.36 M1545.9 1514.29 L1551.78 1514.29 L1551.78 1536.81 L1556.71 1536.81 L1556.71 1540.7 L1551.78 1540.7 L1551.78 1548.85 L1547.13 1548.85 L1547.13 1540.7 L1531.53 1540.7 L1531.53 1536.19 L1545.9 1514.29 Z\" fill=\"#000000\" fill-rule=\"evenodd\" fill-opacity=\"1\" /><path clip-path=\"url(#clip960)\" d=\"M2160.48 1514.29 L2178.84 1514.29 L2178.84 1518.22 L2164.76 1518.22 L2164.76 1526.7 Q2165.78 1526.35 2166.8 1526.19 Q2167.82 1526 2168.84 1526 Q2174.62 1526 2178 1529.17 Q2181.38 1532.34 2181.38 1537.76 Q2181.38 1543.34 2177.91 1546.44 Q2174.44 1549.52 2168.12 1549.52 Q2165.94 1549.52 2163.68 1549.15 Q2161.43 1548.78 2159.02 1548.04 L2159.02 1543.34 Q2161.11 1544.47 2163.33 1545.03 Q2165.55 1545.58 2168.03 1545.58 Q2172.03 1545.58 2174.37 1543.48 Q2176.71 1541.37 2176.71 1537.76 Q2176.71 1534.15 2174.37 1532.04 Q2172.03 1529.94 2168.03 1529.94 Q2166.15 1529.94 2164.28 1530.35 Q2162.43 1530.77 2160.48 1531.65 L2160.48 1514.29 Z\" fill=\"#000000\" fill-rule=\"evenodd\" fill-opacity=\"1\" /><polyline clip-path=\"url(#clip962)\" style=\"stroke:#000000; stroke-linecap:round; stroke-linejoin:round; stroke-width:2; stroke-opacity:0.1; fill:none\" points=\"172.015,1445.72 2352.76,1445.72 \"/>\n",
       "<polyline clip-path=\"url(#clip962)\" style=\"stroke:#000000; stroke-linecap:round; stroke-linejoin:round; stroke-width:2; stroke-opacity:0.1; fill:none\" points=\"172.015,1184.11 2352.76,1184.11 \"/>\n",
       "<polyline clip-path=\"url(#clip962)\" style=\"stroke:#000000; stroke-linecap:round; stroke-linejoin:round; stroke-width:2; stroke-opacity:0.1; fill:none\" points=\"172.015,922.502 2352.76,922.502 \"/>\n",
       "<polyline clip-path=\"url(#clip962)\" style=\"stroke:#000000; stroke-linecap:round; stroke-linejoin:round; stroke-width:2; stroke-opacity:0.1; fill:none\" points=\"172.015,660.895 2352.76,660.895 \"/>\n",
       "<polyline clip-path=\"url(#clip962)\" style=\"stroke:#000000; stroke-linecap:round; stroke-linejoin:round; stroke-width:2; stroke-opacity:0.1; fill:none\" points=\"172.015,399.288 2352.76,399.288 \"/>\n",
       "<polyline clip-path=\"url(#clip962)\" style=\"stroke:#000000; stroke-linecap:round; stroke-linejoin:round; stroke-width:2; stroke-opacity:0.1; fill:none\" points=\"172.015,137.682 2352.76,137.682 \"/>\n",
       "<polyline clip-path=\"url(#clip960)\" style=\"stroke:#000000; stroke-linecap:round; stroke-linejoin:round; stroke-width:4; stroke-opacity:1; fill:none\" points=\"172.015,1486.45 172.015,47.2441 \"/>\n",
       "<polyline clip-path=\"url(#clip960)\" style=\"stroke:#000000; stroke-linecap:round; stroke-linejoin:round; stroke-width:4; stroke-opacity:1; fill:none\" points=\"172.015,1445.72 190.912,1445.72 \"/>\n",
       "<polyline clip-path=\"url(#clip960)\" style=\"stroke:#000000; stroke-linecap:round; stroke-linejoin:round; stroke-width:4; stroke-opacity:1; fill:none\" points=\"172.015,1184.11 190.912,1184.11 \"/>\n",
       "<polyline clip-path=\"url(#clip960)\" style=\"stroke:#000000; stroke-linecap:round; stroke-linejoin:round; stroke-width:4; stroke-opacity:1; fill:none\" points=\"172.015,922.502 190.912,922.502 \"/>\n",
       "<polyline clip-path=\"url(#clip960)\" style=\"stroke:#000000; stroke-linecap:round; stroke-linejoin:round; stroke-width:4; stroke-opacity:1; fill:none\" points=\"172.015,660.895 190.912,660.895 \"/>\n",
       "<polyline clip-path=\"url(#clip960)\" style=\"stroke:#000000; stroke-linecap:round; stroke-linejoin:round; stroke-width:4; stroke-opacity:1; fill:none\" points=\"172.015,399.288 190.912,399.288 \"/>\n",
       "<polyline clip-path=\"url(#clip960)\" style=\"stroke:#000000; stroke-linecap:round; stroke-linejoin:round; stroke-width:4; stroke-opacity:1; fill:none\" points=\"172.015,137.682 190.912,137.682 \"/>\n",
       "<path clip-path=\"url(#clip960)\" d=\"M124.07 1431.51 Q120.459 1431.51 118.631 1435.08 Q116.825 1438.62 116.825 1445.75 Q116.825 1452.86 118.631 1456.42 Q120.459 1459.96 124.07 1459.96 Q127.705 1459.96 129.51 1456.42 Q131.339 1452.86 131.339 1445.75 Q131.339 1438.62 129.51 1435.08 Q127.705 1431.51 124.07 1431.51 M124.07 1427.81 Q129.881 1427.81 132.936 1432.42 Q136.015 1437 136.015 1445.75 Q136.015 1454.48 132.936 1459.08 Q129.881 1463.67 124.07 1463.67 Q118.26 1463.67 115.182 1459.08 Q112.126 1454.48 112.126 1445.75 Q112.126 1437 115.182 1432.42 Q118.26 1427.81 124.07 1427.81 Z\" fill=\"#000000\" fill-rule=\"evenodd\" fill-opacity=\"1\" /><path clip-path=\"url(#clip960)\" d=\"M54.5569 1197.45 L62.1958 1197.45 L62.1958 1171.09 L53.8856 1172.75 L53.8856 1168.5 L62.1495 1166.83 L66.8254 1166.83 L66.8254 1197.45 L74.4642 1197.45 L74.4642 1201.39 L54.5569 1201.39 L54.5569 1197.45 Z\" fill=\"#000000\" fill-rule=\"evenodd\" fill-opacity=\"1\" /><path clip-path=\"url(#clip960)\" d=\"M93.9086 1169.91 Q90.2975 1169.91 88.4688 1173.47 Q86.6632 1177.01 86.6632 1184.14 Q86.6632 1191.25 88.4688 1194.81 Q90.2975 1198.36 93.9086 1198.36 Q97.5428 1198.36 99.3483 1194.81 Q101.177 1191.25 101.177 1184.14 Q101.177 1177.01 99.3483 1173.47 Q97.5428 1169.91 93.9086 1169.91 M93.9086 1166.2 Q99.7187 1166.2 102.774 1170.81 Q105.853 1175.39 105.853 1184.14 Q105.853 1192.87 102.774 1197.48 Q99.7187 1202.06 93.9086 1202.06 Q88.0984 1202.06 85.0197 1197.48 Q81.9642 1192.87 81.9642 1184.14 Q81.9642 1175.39 85.0197 1170.81 Q88.0984 1166.2 93.9086 1166.2 Z\" fill=\"#000000\" fill-rule=\"evenodd\" fill-opacity=\"1\" /><path clip-path=\"url(#clip960)\" d=\"M124.07 1169.91 Q120.459 1169.91 118.631 1173.47 Q116.825 1177.01 116.825 1184.14 Q116.825 1191.25 118.631 1194.81 Q120.459 1198.36 124.07 1198.36 Q127.705 1198.36 129.51 1194.81 Q131.339 1191.25 131.339 1184.14 Q131.339 1177.01 129.51 1173.47 Q127.705 1169.91 124.07 1169.91 M124.07 1166.2 Q129.881 1166.2 132.936 1170.81 Q136.015 1175.39 136.015 1184.14 Q136.015 1192.87 132.936 1197.48 Q129.881 1202.06 124.07 1202.06 Q118.26 1202.06 115.182 1197.48 Q112.126 1192.87 112.126 1184.14 Q112.126 1175.39 115.182 1170.81 Q118.26 1166.2 124.07 1166.2 Z\" fill=\"#000000\" fill-rule=\"evenodd\" fill-opacity=\"1\" /><path clip-path=\"url(#clip960)\" d=\"M57.7745 935.847 L74.0939 935.847 L74.0939 939.782 L52.1495 939.782 L52.1495 935.847 Q54.8115 933.092 59.3949 928.463 Q64.0013 923.81 65.1819 922.467 Q67.4272 919.944 68.3068 918.208 Q69.2096 916.449 69.2096 914.759 Q69.2096 912.004 67.2652 910.268 Q65.3439 908.532 62.2421 908.532 Q60.043 908.532 57.5893 909.296 Q55.1588 910.06 52.381 911.611 L52.381 906.889 Q55.2051 905.754 57.6588 905.176 Q60.1124 904.597 62.1495 904.597 Q67.5198 904.597 70.7142 907.282 Q73.9087 909.967 73.9087 914.458 Q73.9087 916.588 73.0985 918.509 Q72.3115 920.407 70.205 923 Q69.6263 923.671 66.5245 926.889 Q63.4226 930.083 57.7745 935.847 Z\" fill=\"#000000\" fill-rule=\"evenodd\" fill-opacity=\"1\" /><path clip-path=\"url(#clip960)\" d=\"M93.9086 908.301 Q90.2975 908.301 88.4688 911.866 Q86.6632 915.407 86.6632 922.537 Q86.6632 929.643 88.4688 933.208 Q90.2975 936.75 93.9086 936.75 Q97.5428 936.75 99.3483 933.208 Q101.177 929.643 101.177 922.537 Q101.177 915.407 99.3483 911.866 Q97.5428 908.301 93.9086 908.301 M93.9086 904.597 Q99.7187 904.597 102.774 909.204 Q105.853 913.787 105.853 922.537 Q105.853 931.264 102.774 935.87 Q99.7187 940.453 93.9086 940.453 Q88.0984 940.453 85.0197 935.87 Q81.9642 931.264 81.9642 922.537 Q81.9642 913.787 85.0197 909.204 Q88.0984 904.597 93.9086 904.597 Z\" fill=\"#000000\" fill-rule=\"evenodd\" fill-opacity=\"1\" /><path clip-path=\"url(#clip960)\" d=\"M124.07 908.301 Q120.459 908.301 118.631 911.866 Q116.825 915.407 116.825 922.537 Q116.825 929.643 118.631 933.208 Q120.459 936.75 124.07 936.75 Q127.705 936.75 129.51 933.208 Q131.339 929.643 131.339 922.537 Q131.339 915.407 129.51 911.866 Q127.705 908.301 124.07 908.301 M124.07 904.597 Q129.881 904.597 132.936 909.204 Q136.015 913.787 136.015 922.537 Q136.015 931.264 132.936 935.87 Q129.881 940.453 124.07 940.453 Q118.26 940.453 115.182 935.87 Q112.126 931.264 112.126 922.537 Q112.126 913.787 115.182 909.204 Q118.26 904.597 124.07 904.597 Z\" fill=\"#000000\" fill-rule=\"evenodd\" fill-opacity=\"1\" /><path clip-path=\"url(#clip960)\" d=\"M67.9133 659.541 Q71.2698 660.259 73.1448 662.527 Q75.0429 664.796 75.0429 668.129 Q75.0429 673.245 71.5244 676.046 Q68.0059 678.847 61.5245 678.847 Q59.3486 678.847 57.0338 678.407 Q54.7421 677.99 52.2884 677.134 L52.2884 672.62 Q54.2328 673.754 56.5477 674.333 Q58.8625 674.911 61.3856 674.911 Q65.7837 674.911 68.0754 673.175 Q70.3902 671.439 70.3902 668.129 Q70.3902 665.073 68.2374 663.36 Q66.1078 661.624 62.2884 661.624 L58.2606 661.624 L58.2606 657.782 L62.4735 657.782 Q65.9226 657.782 67.7513 656.416 Q69.58 655.027 69.58 652.435 Q69.58 649.773 67.6819 648.361 Q65.8069 646.925 62.2884 646.925 Q60.3671 646.925 58.168 647.342 Q55.969 647.759 53.3301 648.638 L53.3301 644.472 Q55.9921 643.731 58.3069 643.361 Q60.6449 642.99 62.705 642.99 Q68.0291 642.99 71.1309 645.421 Q74.2327 647.828 74.2327 651.949 Q74.2327 654.819 72.5892 656.81 Q70.9457 658.777 67.9133 659.541 Z\" fill=\"#000000\" fill-rule=\"evenodd\" fill-opacity=\"1\" /><path clip-path=\"url(#clip960)\" d=\"M93.9086 646.694 Q90.2975 646.694 88.4688 650.259 Q86.6632 653.8 86.6632 660.93 Q86.6632 668.036 88.4688 671.601 Q90.2975 675.143 93.9086 675.143 Q97.5428 675.143 99.3483 671.601 Q101.177 668.036 101.177 660.93 Q101.177 653.8 99.3483 650.259 Q97.5428 646.694 93.9086 646.694 M93.9086 642.99 Q99.7187 642.99 102.774 647.597 Q105.853 652.18 105.853 660.93 Q105.853 669.657 102.774 674.263 Q99.7187 678.847 93.9086 678.847 Q88.0984 678.847 85.0197 674.263 Q81.9642 669.657 81.9642 660.93 Q81.9642 652.18 85.0197 647.597 Q88.0984 642.99 93.9086 642.99 Z\" fill=\"#000000\" fill-rule=\"evenodd\" fill-opacity=\"1\" /><path clip-path=\"url(#clip960)\" d=\"M124.07 646.694 Q120.459 646.694 118.631 650.259 Q116.825 653.8 116.825 660.93 Q116.825 668.036 118.631 671.601 Q120.459 675.143 124.07 675.143 Q127.705 675.143 129.51 671.601 Q131.339 668.036 131.339 660.93 Q131.339 653.8 129.51 650.259 Q127.705 646.694 124.07 646.694 M124.07 642.99 Q129.881 642.99 132.936 647.597 Q136.015 652.18 136.015 660.93 Q136.015 669.657 132.936 674.263 Q129.881 678.847 124.07 678.847 Q118.26 678.847 115.182 674.263 Q112.126 669.657 112.126 660.93 Q112.126 652.18 115.182 647.597 Q118.26 642.99 124.07 642.99 Z\" fill=\"#000000\" fill-rule=\"evenodd\" fill-opacity=\"1\" /><path clip-path=\"url(#clip960)\" d=\"M66.5939 386.082 L54.7884 404.531 L66.5939 404.531 L66.5939 386.082 M65.367 382.008 L71.2466 382.008 L71.2466 404.531 L76.1772 404.531 L76.1772 408.42 L71.2466 408.42 L71.2466 416.568 L66.5939 416.568 L66.5939 408.42 L50.9921 408.42 L50.9921 403.906 L65.367 382.008 Z\" fill=\"#000000\" fill-rule=\"evenodd\" fill-opacity=\"1\" /><path clip-path=\"url(#clip960)\" d=\"M93.9086 385.087 Q90.2975 385.087 88.4688 388.652 Q86.6632 392.194 86.6632 399.323 Q86.6632 406.43 88.4688 409.994 Q90.2975 413.536 93.9086 413.536 Q97.5428 413.536 99.3483 409.994 Q101.177 406.43 101.177 399.323 Q101.177 392.194 99.3483 388.652 Q97.5428 385.087 93.9086 385.087 M93.9086 381.383 Q99.7187 381.383 102.774 385.99 Q105.853 390.573 105.853 399.323 Q105.853 408.05 102.774 412.656 Q99.7187 417.24 93.9086 417.24 Q88.0984 417.24 85.0197 412.656 Q81.9642 408.05 81.9642 399.323 Q81.9642 390.573 85.0197 385.99 Q88.0984 381.383 93.9086 381.383 Z\" fill=\"#000000\" fill-rule=\"evenodd\" fill-opacity=\"1\" /><path clip-path=\"url(#clip960)\" d=\"M124.07 385.087 Q120.459 385.087 118.631 388.652 Q116.825 392.194 116.825 399.323 Q116.825 406.43 118.631 409.994 Q120.459 413.536 124.07 413.536 Q127.705 413.536 129.51 409.994 Q131.339 406.43 131.339 399.323 Q131.339 392.194 129.51 388.652 Q127.705 385.087 124.07 385.087 M124.07 381.383 Q129.881 381.383 132.936 385.99 Q136.015 390.573 136.015 399.323 Q136.015 408.05 132.936 412.656 Q129.881 417.24 124.07 417.24 Q118.26 417.24 115.182 412.656 Q112.126 408.05 112.126 399.323 Q112.126 390.573 115.182 385.99 Q118.26 381.383 124.07 381.383 Z\" fill=\"#000000\" fill-rule=\"evenodd\" fill-opacity=\"1\" /><path clip-path=\"url(#clip960)\" d=\"M53.793 120.402 L72.1494 120.402 L72.1494 124.337 L58.0754 124.337 L58.0754 132.809 Q59.0939 132.462 60.1124 132.3 Q61.131 132.114 62.1495 132.114 Q67.9365 132.114 71.3161 135.286 Q74.6957 138.457 74.6957 143.874 Q74.6957 149.452 71.2235 152.554 Q67.7513 155.633 61.4319 155.633 Q59.256 155.633 56.9875 155.262 Q54.7421 154.892 52.3347 154.151 L52.3347 149.452 Q54.418 150.587 56.6402 151.142 Q58.8625 151.698 61.3393 151.698 Q65.3439 151.698 67.6819 149.591 Q70.0198 147.485 70.0198 143.874 Q70.0198 140.263 67.6819 138.156 Q65.3439 136.05 61.3393 136.05 Q59.4643 136.05 57.5893 136.466 Q55.7375 136.883 53.793 137.763 L53.793 120.402 Z\" fill=\"#000000\" fill-rule=\"evenodd\" fill-opacity=\"1\" /><path clip-path=\"url(#clip960)\" d=\"M93.9086 123.48 Q90.2975 123.48 88.4688 127.045 Q86.6632 130.587 86.6632 137.716 Q86.6632 144.823 88.4688 148.388 Q90.2975 151.929 93.9086 151.929 Q97.5428 151.929 99.3483 148.388 Q101.177 144.823 101.177 137.716 Q101.177 130.587 99.3483 127.045 Q97.5428 123.48 93.9086 123.48 M93.9086 119.777 Q99.7187 119.777 102.774 124.383 Q105.853 128.966 105.853 137.716 Q105.853 146.443 102.774 151.05 Q99.7187 155.633 93.9086 155.633 Q88.0984 155.633 85.0197 151.05 Q81.9642 146.443 81.9642 137.716 Q81.9642 128.966 85.0197 124.383 Q88.0984 119.777 93.9086 119.777 Z\" fill=\"#000000\" fill-rule=\"evenodd\" fill-opacity=\"1\" /><path clip-path=\"url(#clip960)\" d=\"M124.07 123.48 Q120.459 123.48 118.631 127.045 Q116.825 130.587 116.825 137.716 Q116.825 144.823 118.631 148.388 Q120.459 151.929 124.07 151.929 Q127.705 151.929 129.51 148.388 Q131.339 144.823 131.339 137.716 Q131.339 130.587 129.51 127.045 Q127.705 123.48 124.07 123.48 M124.07 119.777 Q129.881 119.777 132.936 124.383 Q136.015 128.966 136.015 137.716 Q136.015 146.443 132.936 151.05 Q129.881 155.633 124.07 155.633 Q118.26 155.633 115.182 151.05 Q112.126 146.443 112.126 137.716 Q112.126 128.966 115.182 124.383 Q118.26 119.777 124.07 119.777 Z\" fill=\"#000000\" fill-rule=\"evenodd\" fill-opacity=\"1\" /><path clip-path=\"url(#clip962)\" d=\"M291.959 187.387 L291.959 1445.72 L354.568 1445.72 L354.568 187.387 L291.959 187.387 L291.959 187.387  Z\" fill=\"#009af9\" fill-rule=\"evenodd\" fill-opacity=\"1\"/>\n",
       "<polyline clip-path=\"url(#clip962)\" style=\"stroke:#000000; stroke-linecap:round; stroke-linejoin:round; stroke-width:4; stroke-opacity:1; fill:none\" points=\"291.959,187.387 291.959,1445.72 354.568,1445.72 354.568,187.387 291.959,187.387 \"/>\n",
       "<path clip-path=\"url(#clip962)\" d=\"M354.568 1445.72 L354.568 1445.72 L417.176 1445.72 L417.176 1445.72 L354.568 1445.72 L354.568 1445.72  Z\" fill=\"#009af9\" fill-rule=\"evenodd\" fill-opacity=\"1\"/>\n",
       "<polyline clip-path=\"url(#clip962)\" style=\"stroke:#000000; stroke-linecap:round; stroke-linejoin:round; stroke-width:4; stroke-opacity:1; fill:none\" points=\"354.568,1445.72 354.568,1445.72 417.176,1445.72 354.568,1445.72 \"/>\n",
       "<path clip-path=\"url(#clip962)\" d=\"M417.176 1445.72 L417.176 1445.72 L479.784 1445.72 L479.784 1445.72 L417.176 1445.72 L417.176 1445.72  Z\" fill=\"#009af9\" fill-rule=\"evenodd\" fill-opacity=\"1\"/>\n",
       "<polyline clip-path=\"url(#clip962)\" style=\"stroke:#000000; stroke-linecap:round; stroke-linejoin:round; stroke-width:4; stroke-opacity:1; fill:none\" points=\"417.176,1445.72 417.176,1445.72 479.784,1445.72 417.176,1445.72 \"/>\n",
       "<path clip-path=\"url(#clip962)\" d=\"M479.784 1445.72 L479.784 1445.72 L542.392 1445.72 L542.392 1445.72 L479.784 1445.72 L479.784 1445.72  Z\" fill=\"#009af9\" fill-rule=\"evenodd\" fill-opacity=\"1\"/>\n",
       "<polyline clip-path=\"url(#clip962)\" style=\"stroke:#000000; stroke-linecap:round; stroke-linejoin:round; stroke-width:4; stroke-opacity:1; fill:none\" points=\"479.784,1445.72 479.784,1445.72 542.392,1445.72 479.784,1445.72 \"/>\n",
       "<path clip-path=\"url(#clip962)\" d=\"M542.392 1445.72 L542.392 1445.72 L605 1445.72 L605 1445.72 L542.392 1445.72 L542.392 1445.72  Z\" fill=\"#009af9\" fill-rule=\"evenodd\" fill-opacity=\"1\"/>\n",
       "<polyline clip-path=\"url(#clip962)\" style=\"stroke:#000000; stroke-linecap:round; stroke-linejoin:round; stroke-width:4; stroke-opacity:1; fill:none\" points=\"542.392,1445.72 542.392,1445.72 605,1445.72 542.392,1445.72 \"/>\n",
       "<path clip-path=\"url(#clip962)\" d=\"M605 1445.72 L605 1445.72 L667.608 1445.72 L667.608 1445.72 L605 1445.72 L605 1445.72  Z\" fill=\"#009af9\" fill-rule=\"evenodd\" fill-opacity=\"1\"/>\n",
       "<polyline clip-path=\"url(#clip962)\" style=\"stroke:#000000; stroke-linecap:round; stroke-linejoin:round; stroke-width:4; stroke-opacity:1; fill:none\" points=\"605,1445.72 605,1445.72 667.608,1445.72 605,1445.72 \"/>\n",
       "<path clip-path=\"url(#clip962)\" d=\"M667.608 1445.72 L667.608 1445.72 L730.216 1445.72 L730.216 1445.72 L667.608 1445.72 L667.608 1445.72  Z\" fill=\"#009af9\" fill-rule=\"evenodd\" fill-opacity=\"1\"/>\n",
       "<polyline clip-path=\"url(#clip962)\" style=\"stroke:#000000; stroke-linecap:round; stroke-linejoin:round; stroke-width:4; stroke-opacity:1; fill:none\" points=\"667.608,1445.72 667.608,1445.72 730.216,1445.72 667.608,1445.72 \"/>\n",
       "<path clip-path=\"url(#clip962)\" d=\"M730.216 1445.72 L730.216 1445.72 L792.824 1445.72 L792.824 1445.72 L730.216 1445.72 L730.216 1445.72  Z\" fill=\"#009af9\" fill-rule=\"evenodd\" fill-opacity=\"1\"/>\n",
       "<polyline clip-path=\"url(#clip962)\" style=\"stroke:#000000; stroke-linecap:round; stroke-linejoin:round; stroke-width:4; stroke-opacity:1; fill:none\" points=\"730.216,1445.72 730.216,1445.72 792.824,1445.72 730.216,1445.72 \"/>\n",
       "<path clip-path=\"url(#clip962)\" d=\"M792.824 1445.72 L792.824 1445.72 L855.433 1445.72 L855.433 1445.72 L792.824 1445.72 L792.824 1445.72  Z\" fill=\"#009af9\" fill-rule=\"evenodd\" fill-opacity=\"1\"/>\n",
       "<polyline clip-path=\"url(#clip962)\" style=\"stroke:#000000; stroke-linecap:round; stroke-linejoin:round; stroke-width:4; stroke-opacity:1; fill:none\" points=\"792.824,1445.72 792.824,1445.72 855.433,1445.72 792.824,1445.72 \"/>\n",
       "<path clip-path=\"url(#clip962)\" d=\"M855.433 1445.72 L855.433 1445.72 L918.041 1445.72 L918.041 1445.72 L855.433 1445.72 L855.433 1445.72  Z\" fill=\"#009af9\" fill-rule=\"evenodd\" fill-opacity=\"1\"/>\n",
       "<polyline clip-path=\"url(#clip962)\" style=\"stroke:#000000; stroke-linecap:round; stroke-linejoin:round; stroke-width:4; stroke-opacity:1; fill:none\" points=\"855.433,1445.72 855.433,1445.72 918.041,1445.72 855.433,1445.72 \"/>\n",
       "<path clip-path=\"url(#clip962)\" d=\"M918.041 1445.72 L918.041 1445.72 L980.649 1445.72 L980.649 1445.72 L918.041 1445.72 L918.041 1445.72  Z\" fill=\"#009af9\" fill-rule=\"evenodd\" fill-opacity=\"1\"/>\n",
       "<polyline clip-path=\"url(#clip962)\" style=\"stroke:#000000; stroke-linecap:round; stroke-linejoin:round; stroke-width:4; stroke-opacity:1; fill:none\" points=\"918.041,1445.72 918.041,1445.72 980.649,1445.72 918.041,1445.72 \"/>\n",
       "<path clip-path=\"url(#clip962)\" d=\"M980.649 1445.72 L980.649 1445.72 L1043.26 1445.72 L1043.26 1445.72 L980.649 1445.72 L980.649 1445.72  Z\" fill=\"#009af9\" fill-rule=\"evenodd\" fill-opacity=\"1\"/>\n",
       "<polyline clip-path=\"url(#clip962)\" style=\"stroke:#000000; stroke-linecap:round; stroke-linejoin:round; stroke-width:4; stroke-opacity:1; fill:none\" points=\"980.649,1445.72 980.649,1445.72 1043.26,1445.72 980.649,1445.72 \"/>\n",
       "<path clip-path=\"url(#clip962)\" d=\"M1043.26 1445.72 L1043.26 1445.72 L1105.87 1445.72 L1105.87 1445.72 L1043.26 1445.72 L1043.26 1445.72  Z\" fill=\"#009af9\" fill-rule=\"evenodd\" fill-opacity=\"1\"/>\n",
       "<polyline clip-path=\"url(#clip962)\" style=\"stroke:#000000; stroke-linecap:round; stroke-linejoin:round; stroke-width:4; stroke-opacity:1; fill:none\" points=\"1043.26,1445.72 1043.26,1445.72 1105.87,1445.72 1043.26,1445.72 \"/>\n",
       "<path clip-path=\"url(#clip962)\" d=\"M1105.87 1445.72 L1105.87 1445.72 L1168.47 1445.72 L1168.47 1445.72 L1105.87 1445.72 L1105.87 1445.72  Z\" fill=\"#009af9\" fill-rule=\"evenodd\" fill-opacity=\"1\"/>\n",
       "<polyline clip-path=\"url(#clip962)\" style=\"stroke:#000000; stroke-linecap:round; stroke-linejoin:round; stroke-width:4; stroke-opacity:1; fill:none\" points=\"1105.87,1445.72 1105.87,1445.72 1168.47,1445.72 1105.87,1445.72 \"/>\n",
       "<path clip-path=\"url(#clip962)\" d=\"M1168.47 1445.72 L1168.47 1445.72 L1231.08 1445.72 L1231.08 1445.72 L1168.47 1445.72 L1168.47 1445.72  Z\" fill=\"#009af9\" fill-rule=\"evenodd\" fill-opacity=\"1\"/>\n",
       "<polyline clip-path=\"url(#clip962)\" style=\"stroke:#000000; stroke-linecap:round; stroke-linejoin:round; stroke-width:4; stroke-opacity:1; fill:none\" points=\"1168.47,1445.72 1168.47,1445.72 1231.08,1445.72 1168.47,1445.72 \"/>\n",
       "<path clip-path=\"url(#clip962)\" d=\"M1231.08 1445.72 L1231.08 1445.72 L1293.69 1445.72 L1293.69 1445.72 L1231.08 1445.72 L1231.08 1445.72  Z\" fill=\"#009af9\" fill-rule=\"evenodd\" fill-opacity=\"1\"/>\n",
       "<polyline clip-path=\"url(#clip962)\" style=\"stroke:#000000; stroke-linecap:round; stroke-linejoin:round; stroke-width:4; stroke-opacity:1; fill:none\" points=\"1231.08,1445.72 1231.08,1445.72 1293.69,1445.72 1231.08,1445.72 \"/>\n",
       "<path clip-path=\"url(#clip962)\" d=\"M1293.69 1445.72 L1293.69 1445.72 L1356.3 1445.72 L1356.3 1445.72 L1293.69 1445.72 L1293.69 1445.72  Z\" fill=\"#009af9\" fill-rule=\"evenodd\" fill-opacity=\"1\"/>\n",
       "<polyline clip-path=\"url(#clip962)\" style=\"stroke:#000000; stroke-linecap:round; stroke-linejoin:round; stroke-width:4; stroke-opacity:1; fill:none\" points=\"1293.69,1445.72 1293.69,1445.72 1356.3,1445.72 1293.69,1445.72 \"/>\n",
       "<path clip-path=\"url(#clip962)\" d=\"M1356.3 1445.72 L1356.3 1445.72 L1418.91 1445.72 L1418.91 1445.72 L1356.3 1445.72 L1356.3 1445.72  Z\" fill=\"#009af9\" fill-rule=\"evenodd\" fill-opacity=\"1\"/>\n",
       "<polyline clip-path=\"url(#clip962)\" style=\"stroke:#000000; stroke-linecap:round; stroke-linejoin:round; stroke-width:4; stroke-opacity:1; fill:none\" points=\"1356.3,1445.72 1356.3,1445.72 1418.91,1445.72 1356.3,1445.72 \"/>\n",
       "<path clip-path=\"url(#clip962)\" d=\"M1418.91 1445.72 L1418.91 1445.72 L1481.51 1445.72 L1481.51 1445.72 L1418.91 1445.72 L1418.91 1445.72  Z\" fill=\"#009af9\" fill-rule=\"evenodd\" fill-opacity=\"1\"/>\n",
       "<polyline clip-path=\"url(#clip962)\" style=\"stroke:#000000; stroke-linecap:round; stroke-linejoin:round; stroke-width:4; stroke-opacity:1; fill:none\" points=\"1418.91,1445.72 1418.91,1445.72 1481.51,1445.72 1418.91,1445.72 \"/>\n",
       "<path clip-path=\"url(#clip962)\" d=\"M1481.51 1445.72 L1481.51 1445.72 L1544.12 1445.72 L1544.12 1445.72 L1481.51 1445.72 L1481.51 1445.72  Z\" fill=\"#009af9\" fill-rule=\"evenodd\" fill-opacity=\"1\"/>\n",
       "<polyline clip-path=\"url(#clip962)\" style=\"stroke:#000000; stroke-linecap:round; stroke-linejoin:round; stroke-width:4; stroke-opacity:1; fill:none\" points=\"1481.51,1445.72 1481.51,1445.72 1544.12,1445.72 1481.51,1445.72 \"/>\n",
       "<path clip-path=\"url(#clip962)\" d=\"M1544.12 1445.72 L1544.12 1445.72 L1606.73 1445.72 L1606.73 1445.72 L1544.12 1445.72 L1544.12 1445.72  Z\" fill=\"#009af9\" fill-rule=\"evenodd\" fill-opacity=\"1\"/>\n",
       "<polyline clip-path=\"url(#clip962)\" style=\"stroke:#000000; stroke-linecap:round; stroke-linejoin:round; stroke-width:4; stroke-opacity:1; fill:none\" points=\"1544.12,1445.72 1544.12,1445.72 1606.73,1445.72 1544.12,1445.72 \"/>\n",
       "<path clip-path=\"url(#clip962)\" d=\"M1606.73 1445.72 L1606.73 1445.72 L1669.34 1445.72 L1669.34 1445.72 L1606.73 1445.72 L1606.73 1445.72  Z\" fill=\"#009af9\" fill-rule=\"evenodd\" fill-opacity=\"1\"/>\n",
       "<polyline clip-path=\"url(#clip962)\" style=\"stroke:#000000; stroke-linecap:round; stroke-linejoin:round; stroke-width:4; stroke-opacity:1; fill:none\" points=\"1606.73,1445.72 1606.73,1445.72 1669.34,1445.72 1606.73,1445.72 \"/>\n",
       "<path clip-path=\"url(#clip962)\" d=\"M1669.34 1445.72 L1669.34 1445.72 L1731.95 1445.72 L1731.95 1445.72 L1669.34 1445.72 L1669.34 1445.72  Z\" fill=\"#009af9\" fill-rule=\"evenodd\" fill-opacity=\"1\"/>\n",
       "<polyline clip-path=\"url(#clip962)\" style=\"stroke:#000000; stroke-linecap:round; stroke-linejoin:round; stroke-width:4; stroke-opacity:1; fill:none\" points=\"1669.34,1445.72 1669.34,1445.72 1731.95,1445.72 1669.34,1445.72 \"/>\n",
       "<path clip-path=\"url(#clip962)\" d=\"M1731.95 1445.72 L1731.95 1445.72 L1794.55 1445.72 L1794.55 1445.72 L1731.95 1445.72 L1731.95 1445.72  Z\" fill=\"#009af9\" fill-rule=\"evenodd\" fill-opacity=\"1\"/>\n",
       "<polyline clip-path=\"url(#clip962)\" style=\"stroke:#000000; stroke-linecap:round; stroke-linejoin:round; stroke-width:4; stroke-opacity:1; fill:none\" points=\"1731.95,1445.72 1731.95,1445.72 1794.55,1445.72 1731.95,1445.72 \"/>\n",
       "<path clip-path=\"url(#clip962)\" d=\"M1794.55 1445.72 L1794.55 1445.72 L1857.16 1445.72 L1857.16 1445.72 L1794.55 1445.72 L1794.55 1445.72  Z\" fill=\"#009af9\" fill-rule=\"evenodd\" fill-opacity=\"1\"/>\n",
       "<polyline clip-path=\"url(#clip962)\" style=\"stroke:#000000; stroke-linecap:round; stroke-linejoin:round; stroke-width:4; stroke-opacity:1; fill:none\" points=\"1794.55,1445.72 1794.55,1445.72 1857.16,1445.72 1794.55,1445.72 \"/>\n",
       "<path clip-path=\"url(#clip962)\" d=\"M1857.16 1445.72 L1857.16 1445.72 L1919.77 1445.72 L1919.77 1445.72 L1857.16 1445.72 L1857.16 1445.72  Z\" fill=\"#009af9\" fill-rule=\"evenodd\" fill-opacity=\"1\"/>\n",
       "<polyline clip-path=\"url(#clip962)\" style=\"stroke:#000000; stroke-linecap:round; stroke-linejoin:round; stroke-width:4; stroke-opacity:1; fill:none\" points=\"1857.16,1445.72 1857.16,1445.72 1919.77,1445.72 1857.16,1445.72 \"/>\n",
       "<path clip-path=\"url(#clip962)\" d=\"M1919.77 1445.72 L1919.77 1445.72 L1982.38 1445.72 L1982.38 1445.72 L1919.77 1445.72 L1919.77 1445.72  Z\" fill=\"#009af9\" fill-rule=\"evenodd\" fill-opacity=\"1\"/>\n",
       "<polyline clip-path=\"url(#clip962)\" style=\"stroke:#000000; stroke-linecap:round; stroke-linejoin:round; stroke-width:4; stroke-opacity:1; fill:none\" points=\"1919.77,1445.72 1919.77,1445.72 1982.38,1445.72 1919.77,1445.72 \"/>\n",
       "<path clip-path=\"url(#clip962)\" d=\"M1982.38 1445.72 L1982.38 1445.72 L2044.99 1445.72 L2044.99 1445.72 L1982.38 1445.72 L1982.38 1445.72  Z\" fill=\"#009af9\" fill-rule=\"evenodd\" fill-opacity=\"1\"/>\n",
       "<polyline clip-path=\"url(#clip962)\" style=\"stroke:#000000; stroke-linecap:round; stroke-linejoin:round; stroke-width:4; stroke-opacity:1; fill:none\" points=\"1982.38,1445.72 1982.38,1445.72 2044.99,1445.72 1982.38,1445.72 \"/>\n",
       "<path clip-path=\"url(#clip962)\" d=\"M2044.99 1445.72 L2044.99 1445.72 L2107.6 1445.72 L2107.6 1445.72 L2044.99 1445.72 L2044.99 1445.72  Z\" fill=\"#009af9\" fill-rule=\"evenodd\" fill-opacity=\"1\"/>\n",
       "<polyline clip-path=\"url(#clip962)\" style=\"stroke:#000000; stroke-linecap:round; stroke-linejoin:round; stroke-width:4; stroke-opacity:1; fill:none\" points=\"2044.99,1445.72 2044.99,1445.72 2107.6,1445.72 2044.99,1445.72 \"/>\n",
       "<path clip-path=\"url(#clip962)\" d=\"M2107.6 1445.72 L2107.6 1445.72 L2170.2 1445.72 L2170.2 1445.72 L2107.6 1445.72 L2107.6 1445.72  Z\" fill=\"#009af9\" fill-rule=\"evenodd\" fill-opacity=\"1\"/>\n",
       "<polyline clip-path=\"url(#clip962)\" style=\"stroke:#000000; stroke-linecap:round; stroke-linejoin:round; stroke-width:4; stroke-opacity:1; fill:none\" points=\"2107.6,1445.72 2107.6,1445.72 2170.2,1445.72 2107.6,1445.72 \"/>\n",
       "<path clip-path=\"url(#clip962)\" d=\"M2170.2 87.9763 L2170.2 1445.72 L2232.81 1445.72 L2232.81 87.9763 L2170.2 87.9763 L2170.2 87.9763  Z\" fill=\"#009af9\" fill-rule=\"evenodd\" fill-opacity=\"1\"/>\n",
       "<polyline clip-path=\"url(#clip962)\" style=\"stroke:#000000; stroke-linecap:round; stroke-linejoin:round; stroke-width:4; stroke-opacity:1; fill:none\" points=\"2170.2,87.9763 2170.2,1445.72 2232.81,1445.72 2232.81,87.9763 2170.2,87.9763 \"/>\n",
       "<circle clip-path=\"url(#clip962)\" style=\"fill:#009af9; stroke:none; fill-opacity:0\" cx=\"323.264\" cy=\"187.387\" r=\"2\"/>\n",
       "<circle clip-path=\"url(#clip962)\" style=\"fill:#009af9; stroke:none; fill-opacity:0\" cx=\"385.872\" cy=\"1445.72\" r=\"2\"/>\n",
       "<circle clip-path=\"url(#clip962)\" style=\"fill:#009af9; stroke:none; fill-opacity:0\" cx=\"448.48\" cy=\"1445.72\" r=\"2\"/>\n",
       "<circle clip-path=\"url(#clip962)\" style=\"fill:#009af9; stroke:none; fill-opacity:0\" cx=\"511.088\" cy=\"1445.72\" r=\"2\"/>\n",
       "<circle clip-path=\"url(#clip962)\" style=\"fill:#009af9; stroke:none; fill-opacity:0\" cx=\"573.696\" cy=\"1445.72\" r=\"2\"/>\n",
       "<circle clip-path=\"url(#clip962)\" style=\"fill:#009af9; stroke:none; fill-opacity:0\" cx=\"636.304\" cy=\"1445.72\" r=\"2\"/>\n",
       "<circle clip-path=\"url(#clip962)\" style=\"fill:#009af9; stroke:none; fill-opacity:0\" cx=\"698.912\" cy=\"1445.72\" r=\"2\"/>\n",
       "<circle clip-path=\"url(#clip962)\" style=\"fill:#009af9; stroke:none; fill-opacity:0\" cx=\"761.52\" cy=\"1445.72\" r=\"2\"/>\n",
       "<circle clip-path=\"url(#clip962)\" style=\"fill:#009af9; stroke:none; fill-opacity:0\" cx=\"824.129\" cy=\"1445.72\" r=\"2\"/>\n",
       "<circle clip-path=\"url(#clip962)\" style=\"fill:#009af9; stroke:none; fill-opacity:0\" cx=\"886.737\" cy=\"1445.72\" r=\"2\"/>\n",
       "<circle clip-path=\"url(#clip962)\" style=\"fill:#009af9; stroke:none; fill-opacity:0\" cx=\"949.345\" cy=\"1445.72\" r=\"2\"/>\n",
       "<circle clip-path=\"url(#clip962)\" style=\"fill:#009af9; stroke:none; fill-opacity:0\" cx=\"1011.95\" cy=\"1445.72\" r=\"2\"/>\n",
       "<circle clip-path=\"url(#clip962)\" style=\"fill:#009af9; stroke:none; fill-opacity:0\" cx=\"1074.56\" cy=\"1445.72\" r=\"2\"/>\n",
       "<circle clip-path=\"url(#clip962)\" style=\"fill:#009af9; stroke:none; fill-opacity:0\" cx=\"1137.17\" cy=\"1445.72\" r=\"2\"/>\n",
       "<circle clip-path=\"url(#clip962)\" style=\"fill:#009af9; stroke:none; fill-opacity:0\" cx=\"1199.78\" cy=\"1445.72\" r=\"2\"/>\n",
       "<circle clip-path=\"url(#clip962)\" style=\"fill:#009af9; stroke:none; fill-opacity:0\" cx=\"1262.39\" cy=\"1445.72\" r=\"2\"/>\n",
       "<circle clip-path=\"url(#clip962)\" style=\"fill:#009af9; stroke:none; fill-opacity:0\" cx=\"1324.99\" cy=\"1445.72\" r=\"2\"/>\n",
       "<circle clip-path=\"url(#clip962)\" style=\"fill:#009af9; stroke:none; fill-opacity:0\" cx=\"1387.6\" cy=\"1445.72\" r=\"2\"/>\n",
       "<circle clip-path=\"url(#clip962)\" style=\"fill:#009af9; stroke:none; fill-opacity:0\" cx=\"1450.21\" cy=\"1445.72\" r=\"2\"/>\n",
       "<circle clip-path=\"url(#clip962)\" style=\"fill:#009af9; stroke:none; fill-opacity:0\" cx=\"1512.82\" cy=\"1445.72\" r=\"2\"/>\n",
       "<circle clip-path=\"url(#clip962)\" style=\"fill:#009af9; stroke:none; fill-opacity:0\" cx=\"1575.43\" cy=\"1445.72\" r=\"2\"/>\n",
       "<circle clip-path=\"url(#clip962)\" style=\"fill:#009af9; stroke:none; fill-opacity:0\" cx=\"1638.03\" cy=\"1445.72\" r=\"2\"/>\n",
       "<circle clip-path=\"url(#clip962)\" style=\"fill:#009af9; stroke:none; fill-opacity:0\" cx=\"1700.64\" cy=\"1445.72\" r=\"2\"/>\n",
       "<circle clip-path=\"url(#clip962)\" style=\"fill:#009af9; stroke:none; fill-opacity:0\" cx=\"1763.25\" cy=\"1445.72\" r=\"2\"/>\n",
       "<circle clip-path=\"url(#clip962)\" style=\"fill:#009af9; stroke:none; fill-opacity:0\" cx=\"1825.86\" cy=\"1445.72\" r=\"2\"/>\n",
       "<circle clip-path=\"url(#clip962)\" style=\"fill:#009af9; stroke:none; fill-opacity:0\" cx=\"1888.47\" cy=\"1445.72\" r=\"2\"/>\n",
       "<circle clip-path=\"url(#clip962)\" style=\"fill:#009af9; stroke:none; fill-opacity:0\" cx=\"1951.07\" cy=\"1445.72\" r=\"2\"/>\n",
       "<circle clip-path=\"url(#clip962)\" style=\"fill:#009af9; stroke:none; fill-opacity:0\" cx=\"2013.68\" cy=\"1445.72\" r=\"2\"/>\n",
       "<circle clip-path=\"url(#clip962)\" style=\"fill:#009af9; stroke:none; fill-opacity:0\" cx=\"2076.29\" cy=\"1445.72\" r=\"2\"/>\n",
       "<circle clip-path=\"url(#clip962)\" style=\"fill:#009af9; stroke:none; fill-opacity:0\" cx=\"2138.9\" cy=\"1445.72\" r=\"2\"/>\n",
       "<circle clip-path=\"url(#clip962)\" style=\"fill:#009af9; stroke:none; fill-opacity:0\" cx=\"2201.51\" cy=\"87.9763\" r=\"2\"/>\n",
       "<path clip-path=\"url(#clip960)\" d=\"M244.706 198.898 L515.211 198.898 L515.211 95.2176 L244.706 95.2176  Z\" fill=\"#ffffff\" fill-rule=\"evenodd\" fill-opacity=\"1\"/>\n",
       "<polyline clip-path=\"url(#clip960)\" style=\"stroke:#000000; stroke-linecap:round; stroke-linejoin:round; stroke-width:4; stroke-opacity:1; fill:none\" points=\"244.706,198.898 515.211,198.898 515.211,95.2176 244.706,95.2176 244.706,198.898 \"/>\n",
       "<path clip-path=\"url(#clip960)\" d=\"M268.937 167.794 L414.319 167.794 L414.319 126.322 L268.937 126.322 L268.937 167.794  Z\" fill=\"#009af9\" fill-rule=\"evenodd\" fill-opacity=\"1\"/>\n",
       "<polyline clip-path=\"url(#clip960)\" style=\"stroke:#000000; stroke-linecap:round; stroke-linejoin:round; stroke-width:4; stroke-opacity:1; fill:none\" points=\"268.937,167.794 414.319,167.794 414.319,126.322 268.937,126.322 268.937,167.794 \"/>\n",
       "<path clip-path=\"url(#clip960)\" d=\"M452.392 166.745 Q450.587 171.375 448.874 172.787 Q447.161 174.199 444.291 174.199 L440.888 174.199 L440.888 170.634 L443.388 170.634 Q445.147 170.634 446.119 169.8 Q447.091 168.967 448.272 165.865 L449.036 163.921 L438.55 138.412 L443.064 138.412 L451.166 158.689 L459.267 138.412 L463.781 138.412 L452.392 166.745 Z\" fill=\"#000000\" fill-rule=\"evenodd\" fill-opacity=\"1\" /><path clip-path=\"url(#clip960)\" d=\"M471.073 160.402 L478.712 160.402 L478.712 134.037 L470.402 135.703 L470.402 131.444 L478.665 129.778 L483.341 129.778 L483.341 160.402 L490.98 160.402 L490.98 164.338 L471.073 164.338 L471.073 160.402 Z\" fill=\"#000000\" fill-rule=\"evenodd\" fill-opacity=\"1\" /></svg>\n"
      ]
     },
     "execution_count": 9,
     "metadata": {},
     "output_type": "execute_result"
    }
   ],
   "source": [
    "histogram(x, bins = 50)"
   ]
  },
  {
   "cell_type": "markdown",
   "id": "ad6cbc35",
   "metadata": {},
   "source": [
    "### 3.4 \n",
    "\n",
    "#### Choose a distribution other than normal distribution, Describe what it represents, and draw 1000 samples from the distribution and plot it using parameters of your choice"
   ]
  },
  {
   "cell_type": "markdown",
   "id": "6df4cb7e",
   "metadata": {},
   "source": [
    "Which distribution do you pick: "
   ]
  },
  {
   "cell_type": "markdown",
   "id": "7ea6f75c",
   "metadata": {},
   "source": [
    "What does the distribution represent?"
   ]
  },
  {
   "cell_type": "code",
   "execution_count": 17,
   "id": "22a00c51",
   "metadata": {},
   "outputs": [
    {
     "data": {
      "text/plain": [
       "1000-element Vector{Int64}:\n",
       " 2\n",
       " 5\n",
       " 5\n",
       " 5\n",
       " 5\n",
       " 2\n",
       " 2\n",
       " 5\n",
       " 5\n",
       " 2\n",
       " 5\n",
       " 5\n",
       " 5\n",
       " ⋮\n",
       " 2\n",
       " 2\n",
       " 2\n",
       " 2\n",
       " 5\n",
       " 2\n",
       " 2\n",
       " 5\n",
       " 5\n",
       " 5\n",
       " 2\n",
       " 5"
      ]
     },
     "execution_count": 17,
     "metadata": {},
     "output_type": "execute_result"
    }
   ],
   "source": [
    "using Random, Distributions\n",
    "Random.seed!(123)\n",
    "c = Binomial()\n",
    "y = rand((5,2),1000)"
   ]
  },
  {
   "cell_type": "code",
   "execution_count": 18,
   "id": "81f84418",
   "metadata": {},
   "outputs": [
    {
     "data": {
      "image/svg+xml": [
       "<?xml version=\"1.0\" encoding=\"utf-8\"?>\n",
       "<svg xmlns=\"http://www.w3.org/2000/svg\" xmlns:xlink=\"http://www.w3.org/1999/xlink\" width=\"600\" height=\"400\" viewBox=\"0 0 2400 1600\">\n",
       "<defs>\n",
       "  <clipPath id=\"clip000\">\n",
       "    <rect x=\"0\" y=\"0\" width=\"2400\" height=\"1600\"/>\n",
       "  </clipPath>\n",
       "</defs>\n",
       "<path clip-path=\"url(#clip000)\" d=\"M0 1600 L2400 1600 L2400 0 L0 0  Z\" fill=\"#ffffff\" fill-rule=\"evenodd\" fill-opacity=\"1\"/>\n",
       "<defs>\n",
       "  <clipPath id=\"clip001\">\n",
       "    <rect x=\"480\" y=\"0\" width=\"1681\" height=\"1600\"/>\n",
       "  </clipPath>\n",
       "</defs>\n",
       "<path clip-path=\"url(#clip000)\" d=\"M172.015 1486.45 L2352.76 1486.45 L2352.76 47.2441 L172.015 47.2441  Z\" fill=\"#ffffff\" fill-rule=\"evenodd\" fill-opacity=\"1\"/>\n",
       "<defs>\n",
       "  <clipPath id=\"clip002\">\n",
       "    <rect x=\"172\" y=\"47\" width=\"2182\" height=\"1440\"/>\n",
       "  </clipPath>\n",
       "</defs>\n",
       "<polyline clip-path=\"url(#clip002)\" style=\"stroke:#000000; stroke-linecap:round; stroke-linejoin:round; stroke-width:2; stroke-opacity:0.1; fill:none\" points=\"291.959,1486.45 291.959,47.2441 \"/>\n",
       "<polyline clip-path=\"url(#clip002)\" style=\"stroke:#000000; stroke-linecap:round; stroke-linejoin:round; stroke-width:2; stroke-opacity:0.1; fill:none\" points=\"777.172,1486.45 777.172,47.2441 \"/>\n",
       "<polyline clip-path=\"url(#clip002)\" style=\"stroke:#000000; stroke-linecap:round; stroke-linejoin:round; stroke-width:2; stroke-opacity:0.1; fill:none\" points=\"1262.39,1486.45 1262.39,47.2441 \"/>\n",
       "<polyline clip-path=\"url(#clip002)\" style=\"stroke:#000000; stroke-linecap:round; stroke-linejoin:round; stroke-width:2; stroke-opacity:0.1; fill:none\" points=\"1747.6,1486.45 1747.6,47.2441 \"/>\n",
       "<polyline clip-path=\"url(#clip002)\" style=\"stroke:#000000; stroke-linecap:round; stroke-linejoin:round; stroke-width:2; stroke-opacity:0.1; fill:none\" points=\"2232.81,1486.45 2232.81,47.2441 \"/>\n",
       "<polyline clip-path=\"url(#clip000)\" style=\"stroke:#000000; stroke-linecap:round; stroke-linejoin:round; stroke-width:4; stroke-opacity:1; fill:none\" points=\"172.015,1486.45 2352.76,1486.45 \"/>\n",
       "<polyline clip-path=\"url(#clip000)\" style=\"stroke:#000000; stroke-linecap:round; stroke-linejoin:round; stroke-width:4; stroke-opacity:1; fill:none\" points=\"291.959,1486.45 291.959,1467.55 \"/>\n",
       "<polyline clip-path=\"url(#clip000)\" style=\"stroke:#000000; stroke-linecap:round; stroke-linejoin:round; stroke-width:4; stroke-opacity:1; fill:none\" points=\"777.172,1486.45 777.172,1467.55 \"/>\n",
       "<polyline clip-path=\"url(#clip000)\" style=\"stroke:#000000; stroke-linecap:round; stroke-linejoin:round; stroke-width:4; stroke-opacity:1; fill:none\" points=\"1262.39,1486.45 1262.39,1467.55 \"/>\n",
       "<polyline clip-path=\"url(#clip000)\" style=\"stroke:#000000; stroke-linecap:round; stroke-linejoin:round; stroke-width:4; stroke-opacity:1; fill:none\" points=\"1747.6,1486.45 1747.6,1467.55 \"/>\n",
       "<polyline clip-path=\"url(#clip000)\" style=\"stroke:#000000; stroke-linecap:round; stroke-linejoin:round; stroke-width:4; stroke-opacity:1; fill:none\" points=\"2232.81,1486.45 2232.81,1467.55 \"/>\n",
       "<path clip-path=\"url(#clip000)\" d=\"M286.612 1544.91 L302.932 1544.91 L302.932 1548.85 L280.987 1548.85 L280.987 1544.91 Q283.649 1542.16 288.233 1537.53 Q292.839 1532.88 294.02 1531.53 Q296.265 1529.01 297.145 1527.27 Q298.047 1525.51 298.047 1523.82 Q298.047 1521.07 296.103 1519.33 Q294.182 1517.6 291.08 1517.6 Q288.881 1517.6 286.427 1518.36 Q283.997 1519.13 281.219 1520.68 L281.219 1515.95 Q284.043 1514.82 286.497 1514.24 Q288.95 1513.66 290.987 1513.66 Q296.358 1513.66 299.552 1516.35 Q302.746 1519.03 302.746 1523.52 Q302.746 1525.65 301.936 1527.57 Q301.149 1529.47 299.043 1532.07 Q298.464 1532.74 295.362 1535.95 Q292.26 1539.15 286.612 1544.91 Z\" fill=\"#000000\" fill-rule=\"evenodd\" fill-opacity=\"1\" /><path clip-path=\"url(#clip000)\" d=\"M781.42 1530.21 Q784.777 1530.93 786.652 1533.2 Q788.55 1535.47 788.55 1538.8 Q788.55 1543.92 785.031 1546.72 Q781.513 1549.52 775.031 1549.52 Q772.855 1549.52 770.541 1549.08 Q768.249 1548.66 765.795 1547.81 L765.795 1543.29 Q767.74 1544.43 770.054 1545.01 Q772.369 1545.58 774.892 1545.58 Q779.29 1545.58 781.582 1543.85 Q783.897 1542.11 783.897 1538.8 Q783.897 1535.75 781.744 1534.03 Q779.615 1532.3 775.795 1532.3 L771.767 1532.3 L771.767 1528.45 L775.98 1528.45 Q779.429 1528.45 781.258 1527.09 Q783.087 1525.7 783.087 1523.11 Q783.087 1520.45 781.189 1519.03 Q779.314 1517.6 775.795 1517.6 Q773.874 1517.6 771.675 1518.01 Q769.476 1518.43 766.837 1519.31 L766.837 1515.14 Q769.499 1514.4 771.814 1514.03 Q774.152 1513.66 776.212 1513.66 Q781.536 1513.66 784.638 1516.09 Q787.739 1518.5 787.739 1522.62 Q787.739 1525.49 786.096 1527.48 Q784.452 1529.45 781.42 1530.21 Z\" fill=\"#000000\" fill-rule=\"evenodd\" fill-opacity=\"1\" /><path clip-path=\"url(#clip000)\" d=\"M1265.39 1518.36 L1253.59 1536.81 L1265.39 1536.81 L1265.39 1518.36 M1264.17 1514.29 L1270.05 1514.29 L1270.05 1536.81 L1274.98 1536.81 L1274.98 1540.7 L1270.05 1540.7 L1270.05 1548.85 L1265.39 1548.85 L1265.39 1540.7 L1249.79 1540.7 L1249.79 1536.19 L1264.17 1514.29 Z\" fill=\"#000000\" fill-rule=\"evenodd\" fill-opacity=\"1\" /><path clip-path=\"url(#clip000)\" d=\"M1737.88 1514.29 L1756.23 1514.29 L1756.23 1518.22 L1742.16 1518.22 L1742.16 1526.7 Q1743.18 1526.35 1744.2 1526.19 Q1745.21 1526 1746.23 1526 Q1752.02 1526 1755.4 1529.17 Q1758.78 1532.34 1758.78 1537.76 Q1758.78 1543.34 1755.31 1546.44 Q1751.83 1549.52 1745.51 1549.52 Q1743.34 1549.52 1741.07 1549.15 Q1738.83 1548.78 1736.42 1548.04 L1736.42 1543.34 Q1738.5 1544.47 1740.72 1545.03 Q1742.95 1545.58 1745.42 1545.58 Q1749.43 1545.58 1751.76 1543.48 Q1754.1 1541.37 1754.1 1537.76 Q1754.1 1534.15 1751.76 1532.04 Q1749.43 1529.94 1745.42 1529.94 Q1743.55 1529.94 1741.67 1530.35 Q1739.82 1530.77 1737.88 1531.65 L1737.88 1514.29 Z\" fill=\"#000000\" fill-rule=\"evenodd\" fill-opacity=\"1\" /><path clip-path=\"url(#clip000)\" d=\"M2233.22 1529.7 Q2230.07 1529.7 2228.22 1531.86 Q2226.39 1534.01 2226.39 1537.76 Q2226.39 1541.49 2228.22 1543.66 Q2230.07 1545.82 2233.22 1545.82 Q2236.36 1545.82 2238.19 1543.66 Q2240.05 1541.49 2240.05 1537.76 Q2240.05 1534.01 2238.19 1531.86 Q2236.36 1529.7 2233.22 1529.7 M2242.5 1515.05 L2242.5 1519.31 Q2240.74 1518.48 2238.93 1518.04 Q2237.15 1517.6 2235.39 1517.6 Q2230.76 1517.6 2228.31 1520.72 Q2225.88 1523.85 2225.53 1530.17 Q2226.9 1528.15 2228.96 1527.09 Q2231.02 1526 2233.49 1526 Q2238.7 1526 2241.71 1529.17 Q2244.74 1532.32 2244.74 1537.76 Q2244.74 1543.08 2241.6 1546.3 Q2238.45 1549.52 2233.22 1549.52 Q2227.22 1549.52 2224.05 1544.94 Q2220.88 1540.33 2220.88 1531.6 Q2220.88 1523.41 2224.77 1518.55 Q2228.66 1513.66 2235.21 1513.66 Q2236.97 1513.66 2238.75 1514.01 Q2240.55 1514.36 2242.5 1515.05 Z\" fill=\"#000000\" fill-rule=\"evenodd\" fill-opacity=\"1\" /><polyline clip-path=\"url(#clip002)\" style=\"stroke:#000000; stroke-linecap:round; stroke-linejoin:round; stroke-width:2; stroke-opacity:0.1; fill:none\" points=\"172.015,1445.72 2352.76,1445.72 \"/>\n",
       "<polyline clip-path=\"url(#clip002)\" style=\"stroke:#000000; stroke-linecap:round; stroke-linejoin:round; stroke-width:2; stroke-opacity:0.1; fill:none\" points=\"172.015,1184.11 2352.76,1184.11 \"/>\n",
       "<polyline clip-path=\"url(#clip002)\" style=\"stroke:#000000; stroke-linecap:round; stroke-linejoin:round; stroke-width:2; stroke-opacity:0.1; fill:none\" points=\"172.015,922.502 2352.76,922.502 \"/>\n",
       "<polyline clip-path=\"url(#clip002)\" style=\"stroke:#000000; stroke-linecap:round; stroke-linejoin:round; stroke-width:2; stroke-opacity:0.1; fill:none\" points=\"172.015,660.895 2352.76,660.895 \"/>\n",
       "<polyline clip-path=\"url(#clip002)\" style=\"stroke:#000000; stroke-linecap:round; stroke-linejoin:round; stroke-width:2; stroke-opacity:0.1; fill:none\" points=\"172.015,399.288 2352.76,399.288 \"/>\n",
       "<polyline clip-path=\"url(#clip002)\" style=\"stroke:#000000; stroke-linecap:round; stroke-linejoin:round; stroke-width:2; stroke-opacity:0.1; fill:none\" points=\"172.015,137.682 2352.76,137.682 \"/>\n",
       "<polyline clip-path=\"url(#clip000)\" style=\"stroke:#000000; stroke-linecap:round; stroke-linejoin:round; stroke-width:4; stroke-opacity:1; fill:none\" points=\"172.015,1486.45 172.015,47.2441 \"/>\n",
       "<polyline clip-path=\"url(#clip000)\" style=\"stroke:#000000; stroke-linecap:round; stroke-linejoin:round; stroke-width:4; stroke-opacity:1; fill:none\" points=\"172.015,1445.72 190.912,1445.72 \"/>\n",
       "<polyline clip-path=\"url(#clip000)\" style=\"stroke:#000000; stroke-linecap:round; stroke-linejoin:round; stroke-width:4; stroke-opacity:1; fill:none\" points=\"172.015,1184.11 190.912,1184.11 \"/>\n",
       "<polyline clip-path=\"url(#clip000)\" style=\"stroke:#000000; stroke-linecap:round; stroke-linejoin:round; stroke-width:4; stroke-opacity:1; fill:none\" points=\"172.015,922.502 190.912,922.502 \"/>\n",
       "<polyline clip-path=\"url(#clip000)\" style=\"stroke:#000000; stroke-linecap:round; stroke-linejoin:round; stroke-width:4; stroke-opacity:1; fill:none\" points=\"172.015,660.895 190.912,660.895 \"/>\n",
       "<polyline clip-path=\"url(#clip000)\" style=\"stroke:#000000; stroke-linecap:round; stroke-linejoin:round; stroke-width:4; stroke-opacity:1; fill:none\" points=\"172.015,399.288 190.912,399.288 \"/>\n",
       "<polyline clip-path=\"url(#clip000)\" style=\"stroke:#000000; stroke-linecap:round; stroke-linejoin:round; stroke-width:4; stroke-opacity:1; fill:none\" points=\"172.015,137.682 190.912,137.682 \"/>\n",
       "<path clip-path=\"url(#clip000)\" d=\"M124.07 1431.51 Q120.459 1431.51 118.631 1435.08 Q116.825 1438.62 116.825 1445.75 Q116.825 1452.86 118.631 1456.42 Q120.459 1459.96 124.07 1459.96 Q127.705 1459.96 129.51 1456.42 Q131.339 1452.86 131.339 1445.75 Q131.339 1438.62 129.51 1435.08 Q127.705 1431.51 124.07 1431.51 M124.07 1427.81 Q129.881 1427.81 132.936 1432.42 Q136.015 1437 136.015 1445.75 Q136.015 1454.48 132.936 1459.08 Q129.881 1463.67 124.07 1463.67 Q118.26 1463.67 115.182 1459.08 Q112.126 1454.48 112.126 1445.75 Q112.126 1437 115.182 1432.42 Q118.26 1427.81 124.07 1427.81 Z\" fill=\"#000000\" fill-rule=\"evenodd\" fill-opacity=\"1\" /><path clip-path=\"url(#clip000)\" d=\"M54.5569 1197.45 L62.1958 1197.45 L62.1958 1171.09 L53.8856 1172.75 L53.8856 1168.5 L62.1495 1166.83 L66.8254 1166.83 L66.8254 1197.45 L74.4642 1197.45 L74.4642 1201.39 L54.5569 1201.39 L54.5569 1197.45 Z\" fill=\"#000000\" fill-rule=\"evenodd\" fill-opacity=\"1\" /><path clip-path=\"url(#clip000)\" d=\"M93.9086 1169.91 Q90.2975 1169.91 88.4688 1173.47 Q86.6632 1177.01 86.6632 1184.14 Q86.6632 1191.25 88.4688 1194.81 Q90.2975 1198.36 93.9086 1198.36 Q97.5428 1198.36 99.3483 1194.81 Q101.177 1191.25 101.177 1184.14 Q101.177 1177.01 99.3483 1173.47 Q97.5428 1169.91 93.9086 1169.91 M93.9086 1166.2 Q99.7187 1166.2 102.774 1170.81 Q105.853 1175.39 105.853 1184.14 Q105.853 1192.87 102.774 1197.48 Q99.7187 1202.06 93.9086 1202.06 Q88.0984 1202.06 85.0197 1197.48 Q81.9642 1192.87 81.9642 1184.14 Q81.9642 1175.39 85.0197 1170.81 Q88.0984 1166.2 93.9086 1166.2 Z\" fill=\"#000000\" fill-rule=\"evenodd\" fill-opacity=\"1\" /><path clip-path=\"url(#clip000)\" d=\"M124.07 1169.91 Q120.459 1169.91 118.631 1173.47 Q116.825 1177.01 116.825 1184.14 Q116.825 1191.25 118.631 1194.81 Q120.459 1198.36 124.07 1198.36 Q127.705 1198.36 129.51 1194.81 Q131.339 1191.25 131.339 1184.14 Q131.339 1177.01 129.51 1173.47 Q127.705 1169.91 124.07 1169.91 M124.07 1166.2 Q129.881 1166.2 132.936 1170.81 Q136.015 1175.39 136.015 1184.14 Q136.015 1192.87 132.936 1197.48 Q129.881 1202.06 124.07 1202.06 Q118.26 1202.06 115.182 1197.48 Q112.126 1192.87 112.126 1184.14 Q112.126 1175.39 115.182 1170.81 Q118.26 1166.2 124.07 1166.2 Z\" fill=\"#000000\" fill-rule=\"evenodd\" fill-opacity=\"1\" /><path clip-path=\"url(#clip000)\" d=\"M57.7745 935.847 L74.0939 935.847 L74.0939 939.782 L52.1495 939.782 L52.1495 935.847 Q54.8115 933.092 59.3949 928.463 Q64.0013 923.81 65.1819 922.467 Q67.4272 919.944 68.3068 918.208 Q69.2096 916.449 69.2096 914.759 Q69.2096 912.004 67.2652 910.268 Q65.3439 908.532 62.2421 908.532 Q60.043 908.532 57.5893 909.296 Q55.1588 910.06 52.381 911.611 L52.381 906.889 Q55.2051 905.754 57.6588 905.176 Q60.1124 904.597 62.1495 904.597 Q67.5198 904.597 70.7142 907.282 Q73.9087 909.967 73.9087 914.458 Q73.9087 916.588 73.0985 918.509 Q72.3115 920.407 70.205 923 Q69.6263 923.671 66.5245 926.889 Q63.4226 930.083 57.7745 935.847 Z\" fill=\"#000000\" fill-rule=\"evenodd\" fill-opacity=\"1\" /><path clip-path=\"url(#clip000)\" d=\"M93.9086 908.301 Q90.2975 908.301 88.4688 911.866 Q86.6632 915.407 86.6632 922.537 Q86.6632 929.643 88.4688 933.208 Q90.2975 936.75 93.9086 936.75 Q97.5428 936.75 99.3483 933.208 Q101.177 929.643 101.177 922.537 Q101.177 915.407 99.3483 911.866 Q97.5428 908.301 93.9086 908.301 M93.9086 904.597 Q99.7187 904.597 102.774 909.204 Q105.853 913.787 105.853 922.537 Q105.853 931.264 102.774 935.87 Q99.7187 940.453 93.9086 940.453 Q88.0984 940.453 85.0197 935.87 Q81.9642 931.264 81.9642 922.537 Q81.9642 913.787 85.0197 909.204 Q88.0984 904.597 93.9086 904.597 Z\" fill=\"#000000\" fill-rule=\"evenodd\" fill-opacity=\"1\" /><path clip-path=\"url(#clip000)\" d=\"M124.07 908.301 Q120.459 908.301 118.631 911.866 Q116.825 915.407 116.825 922.537 Q116.825 929.643 118.631 933.208 Q120.459 936.75 124.07 936.75 Q127.705 936.75 129.51 933.208 Q131.339 929.643 131.339 922.537 Q131.339 915.407 129.51 911.866 Q127.705 908.301 124.07 908.301 M124.07 904.597 Q129.881 904.597 132.936 909.204 Q136.015 913.787 136.015 922.537 Q136.015 931.264 132.936 935.87 Q129.881 940.453 124.07 940.453 Q118.26 940.453 115.182 935.87 Q112.126 931.264 112.126 922.537 Q112.126 913.787 115.182 909.204 Q118.26 904.597 124.07 904.597 Z\" fill=\"#000000\" fill-rule=\"evenodd\" fill-opacity=\"1\" /><path clip-path=\"url(#clip000)\" d=\"M67.9133 659.541 Q71.2698 660.259 73.1448 662.527 Q75.0429 664.796 75.0429 668.129 Q75.0429 673.245 71.5244 676.046 Q68.0059 678.847 61.5245 678.847 Q59.3486 678.847 57.0338 678.407 Q54.7421 677.99 52.2884 677.134 L52.2884 672.62 Q54.2328 673.754 56.5477 674.333 Q58.8625 674.911 61.3856 674.911 Q65.7837 674.911 68.0754 673.175 Q70.3902 671.439 70.3902 668.129 Q70.3902 665.073 68.2374 663.36 Q66.1078 661.624 62.2884 661.624 L58.2606 661.624 L58.2606 657.782 L62.4735 657.782 Q65.9226 657.782 67.7513 656.416 Q69.58 655.027 69.58 652.435 Q69.58 649.773 67.6819 648.361 Q65.8069 646.925 62.2884 646.925 Q60.3671 646.925 58.168 647.342 Q55.969 647.759 53.3301 648.638 L53.3301 644.472 Q55.9921 643.731 58.3069 643.361 Q60.6449 642.99 62.705 642.99 Q68.0291 642.99 71.1309 645.421 Q74.2327 647.828 74.2327 651.949 Q74.2327 654.819 72.5892 656.81 Q70.9457 658.777 67.9133 659.541 Z\" fill=\"#000000\" fill-rule=\"evenodd\" fill-opacity=\"1\" /><path clip-path=\"url(#clip000)\" d=\"M93.9086 646.694 Q90.2975 646.694 88.4688 650.259 Q86.6632 653.8 86.6632 660.93 Q86.6632 668.036 88.4688 671.601 Q90.2975 675.143 93.9086 675.143 Q97.5428 675.143 99.3483 671.601 Q101.177 668.036 101.177 660.93 Q101.177 653.8 99.3483 650.259 Q97.5428 646.694 93.9086 646.694 M93.9086 642.99 Q99.7187 642.99 102.774 647.597 Q105.853 652.18 105.853 660.93 Q105.853 669.657 102.774 674.263 Q99.7187 678.847 93.9086 678.847 Q88.0984 678.847 85.0197 674.263 Q81.9642 669.657 81.9642 660.93 Q81.9642 652.18 85.0197 647.597 Q88.0984 642.99 93.9086 642.99 Z\" fill=\"#000000\" fill-rule=\"evenodd\" fill-opacity=\"1\" /><path clip-path=\"url(#clip000)\" d=\"M124.07 646.694 Q120.459 646.694 118.631 650.259 Q116.825 653.8 116.825 660.93 Q116.825 668.036 118.631 671.601 Q120.459 675.143 124.07 675.143 Q127.705 675.143 129.51 671.601 Q131.339 668.036 131.339 660.93 Q131.339 653.8 129.51 650.259 Q127.705 646.694 124.07 646.694 M124.07 642.99 Q129.881 642.99 132.936 647.597 Q136.015 652.18 136.015 660.93 Q136.015 669.657 132.936 674.263 Q129.881 678.847 124.07 678.847 Q118.26 678.847 115.182 674.263 Q112.126 669.657 112.126 660.93 Q112.126 652.18 115.182 647.597 Q118.26 642.99 124.07 642.99 Z\" fill=\"#000000\" fill-rule=\"evenodd\" fill-opacity=\"1\" /><path clip-path=\"url(#clip000)\" d=\"M66.5939 386.082 L54.7884 404.531 L66.5939 404.531 L66.5939 386.082 M65.367 382.008 L71.2466 382.008 L71.2466 404.531 L76.1772 404.531 L76.1772 408.42 L71.2466 408.42 L71.2466 416.568 L66.5939 416.568 L66.5939 408.42 L50.9921 408.42 L50.9921 403.906 L65.367 382.008 Z\" fill=\"#000000\" fill-rule=\"evenodd\" fill-opacity=\"1\" /><path clip-path=\"url(#clip000)\" d=\"M93.9086 385.087 Q90.2975 385.087 88.4688 388.652 Q86.6632 392.194 86.6632 399.323 Q86.6632 406.43 88.4688 409.994 Q90.2975 413.536 93.9086 413.536 Q97.5428 413.536 99.3483 409.994 Q101.177 406.43 101.177 399.323 Q101.177 392.194 99.3483 388.652 Q97.5428 385.087 93.9086 385.087 M93.9086 381.383 Q99.7187 381.383 102.774 385.99 Q105.853 390.573 105.853 399.323 Q105.853 408.05 102.774 412.656 Q99.7187 417.24 93.9086 417.24 Q88.0984 417.24 85.0197 412.656 Q81.9642 408.05 81.9642 399.323 Q81.9642 390.573 85.0197 385.99 Q88.0984 381.383 93.9086 381.383 Z\" fill=\"#000000\" fill-rule=\"evenodd\" fill-opacity=\"1\" /><path clip-path=\"url(#clip000)\" d=\"M124.07 385.087 Q120.459 385.087 118.631 388.652 Q116.825 392.194 116.825 399.323 Q116.825 406.43 118.631 409.994 Q120.459 413.536 124.07 413.536 Q127.705 413.536 129.51 409.994 Q131.339 406.43 131.339 399.323 Q131.339 392.194 129.51 388.652 Q127.705 385.087 124.07 385.087 M124.07 381.383 Q129.881 381.383 132.936 385.99 Q136.015 390.573 136.015 399.323 Q136.015 408.05 132.936 412.656 Q129.881 417.24 124.07 417.24 Q118.26 417.24 115.182 412.656 Q112.126 408.05 112.126 399.323 Q112.126 390.573 115.182 385.99 Q118.26 381.383 124.07 381.383 Z\" fill=\"#000000\" fill-rule=\"evenodd\" fill-opacity=\"1\" /><path clip-path=\"url(#clip000)\" d=\"M53.793 120.402 L72.1494 120.402 L72.1494 124.337 L58.0754 124.337 L58.0754 132.809 Q59.0939 132.462 60.1124 132.3 Q61.131 132.114 62.1495 132.114 Q67.9365 132.114 71.3161 135.286 Q74.6957 138.457 74.6957 143.874 Q74.6957 149.452 71.2235 152.554 Q67.7513 155.633 61.4319 155.633 Q59.256 155.633 56.9875 155.262 Q54.7421 154.892 52.3347 154.151 L52.3347 149.452 Q54.418 150.587 56.6402 151.142 Q58.8625 151.698 61.3393 151.698 Q65.3439 151.698 67.6819 149.591 Q70.0198 147.485 70.0198 143.874 Q70.0198 140.263 67.6819 138.156 Q65.3439 136.05 61.3393 136.05 Q59.4643 136.05 57.5893 136.466 Q55.7375 136.883 53.793 137.763 L53.793 120.402 Z\" fill=\"#000000\" fill-rule=\"evenodd\" fill-opacity=\"1\" /><path clip-path=\"url(#clip000)\" d=\"M93.9086 123.48 Q90.2975 123.48 88.4688 127.045 Q86.6632 130.587 86.6632 137.716 Q86.6632 144.823 88.4688 148.388 Q90.2975 151.929 93.9086 151.929 Q97.5428 151.929 99.3483 148.388 Q101.177 144.823 101.177 137.716 Q101.177 130.587 99.3483 127.045 Q97.5428 123.48 93.9086 123.48 M93.9086 119.777 Q99.7187 119.777 102.774 124.383 Q105.853 128.966 105.853 137.716 Q105.853 146.443 102.774 151.05 Q99.7187 155.633 93.9086 155.633 Q88.0984 155.633 85.0197 151.05 Q81.9642 146.443 81.9642 137.716 Q81.9642 128.966 85.0197 124.383 Q88.0984 119.777 93.9086 119.777 Z\" fill=\"#000000\" fill-rule=\"evenodd\" fill-opacity=\"1\" /><path clip-path=\"url(#clip000)\" d=\"M124.07 123.48 Q120.459 123.48 118.631 127.045 Q116.825 130.587 116.825 137.716 Q116.825 144.823 118.631 148.388 Q120.459 151.929 124.07 151.929 Q127.705 151.929 129.51 148.388 Q131.339 144.823 131.339 137.716 Q131.339 130.587 129.51 127.045 Q127.705 123.48 124.07 123.48 M124.07 119.777 Q129.881 119.777 132.936 124.383 Q136.015 128.966 136.015 137.716 Q136.015 146.443 132.936 151.05 Q129.881 155.633 124.07 155.633 Q118.26 155.633 115.182 151.05 Q112.126 146.443 112.126 137.716 Q112.126 128.966 115.182 124.383 Q118.26 119.777 124.07 119.777 Z\" fill=\"#000000\" fill-rule=\"evenodd\" fill-opacity=\"1\" /><path clip-path=\"url(#clip002)\" d=\"M291.959 187.387 L291.959 1445.72 L777.172 1445.72 L777.172 187.387 L291.959 187.387 L291.959 187.387  Z\" fill=\"#009af9\" fill-rule=\"evenodd\" fill-opacity=\"1\"/>\n",
       "<polyline clip-path=\"url(#clip002)\" style=\"stroke:#000000; stroke-linecap:round; stroke-linejoin:round; stroke-width:4; stroke-opacity:1; fill:none\" points=\"291.959,187.387 291.959,1445.72 777.172,1445.72 777.172,187.387 291.959,187.387 \"/>\n",
       "<path clip-path=\"url(#clip002)\" d=\"M777.172 1445.72 L777.172 1445.72 L1262.39 1445.72 L1262.39 1445.72 L777.172 1445.72 L777.172 1445.72  Z\" fill=\"#009af9\" fill-rule=\"evenodd\" fill-opacity=\"1\"/>\n",
       "<polyline clip-path=\"url(#clip002)\" style=\"stroke:#000000; stroke-linecap:round; stroke-linejoin:round; stroke-width:4; stroke-opacity:1; fill:none\" points=\"777.172,1445.72 777.172,1445.72 1262.39,1445.72 777.172,1445.72 \"/>\n",
       "<path clip-path=\"url(#clip002)\" d=\"M1262.39 1445.72 L1262.39 1445.72 L1747.6 1445.72 L1747.6 1445.72 L1262.39 1445.72 L1262.39 1445.72  Z\" fill=\"#009af9\" fill-rule=\"evenodd\" fill-opacity=\"1\"/>\n",
       "<polyline clip-path=\"url(#clip002)\" style=\"stroke:#000000; stroke-linecap:round; stroke-linejoin:round; stroke-width:4; stroke-opacity:1; fill:none\" points=\"1262.39,1445.72 1262.39,1445.72 1747.6,1445.72 1262.39,1445.72 \"/>\n",
       "<path clip-path=\"url(#clip002)\" d=\"M1747.6 87.9763 L1747.6 1445.72 L2232.81 1445.72 L2232.81 87.9763 L1747.6 87.9763 L1747.6 87.9763  Z\" fill=\"#009af9\" fill-rule=\"evenodd\" fill-opacity=\"1\"/>\n",
       "<polyline clip-path=\"url(#clip002)\" style=\"stroke:#000000; stroke-linecap:round; stroke-linejoin:round; stroke-width:4; stroke-opacity:1; fill:none\" points=\"1747.6,87.9763 1747.6,1445.72 2232.81,1445.72 2232.81,87.9763 1747.6,87.9763 \"/>\n",
       "<circle clip-path=\"url(#clip002)\" style=\"fill:#009af9; stroke:none; fill-opacity:0\" cx=\"534.566\" cy=\"187.387\" r=\"2\"/>\n",
       "<circle clip-path=\"url(#clip002)\" style=\"fill:#009af9; stroke:none; fill-opacity:0\" cx=\"1019.78\" cy=\"1445.72\" r=\"2\"/>\n",
       "<circle clip-path=\"url(#clip002)\" style=\"fill:#009af9; stroke:none; fill-opacity:0\" cx=\"1504.99\" cy=\"1445.72\" r=\"2\"/>\n",
       "<circle clip-path=\"url(#clip002)\" style=\"fill:#009af9; stroke:none; fill-opacity:0\" cx=\"1990.2\" cy=\"87.9763\" r=\"2\"/>\n",
       "<path clip-path=\"url(#clip000)\" d=\"M2009.56 1438.47 L2280.06 1438.47 L2280.06 1334.79 L2009.56 1334.79  Z\" fill=\"#ffffff\" fill-rule=\"evenodd\" fill-opacity=\"1\"/>\n",
       "<polyline clip-path=\"url(#clip000)\" style=\"stroke:#000000; stroke-linecap:round; stroke-linejoin:round; stroke-width:4; stroke-opacity:1; fill:none\" points=\"2009.56,1438.47 2280.06,1438.47 2280.06,1334.79 2009.56,1334.79 2009.56,1438.47 \"/>\n",
       "<path clip-path=\"url(#clip000)\" d=\"M2033.79 1407.37 L2179.17 1407.37 L2179.17 1365.9 L2033.79 1365.9 L2033.79 1407.37  Z\" fill=\"#009af9\" fill-rule=\"evenodd\" fill-opacity=\"1\"/>\n",
       "<polyline clip-path=\"url(#clip000)\" style=\"stroke:#000000; stroke-linecap:round; stroke-linejoin:round; stroke-width:4; stroke-opacity:1; fill:none\" points=\"2033.79,1407.37 2179.17,1407.37 2179.17,1365.9 2033.79,1365.9 2033.79,1407.37 \"/>\n",
       "<path clip-path=\"url(#clip000)\" d=\"M2217.25 1406.32 Q2215.44 1410.95 2213.73 1412.36 Q2212.01 1413.78 2209.14 1413.78 L2205.74 1413.78 L2205.74 1410.21 L2208.24 1410.21 Q2210 1410.21 2210.97 1409.38 Q2211.95 1408.54 2213.13 1405.44 L2213.89 1403.5 L2203.4 1377.99 L2207.92 1377.99 L2216.02 1398.27 L2224.12 1377.99 L2228.64 1377.99 L2217.25 1406.32 Z\" fill=\"#000000\" fill-rule=\"evenodd\" fill-opacity=\"1\" /><path clip-path=\"url(#clip000)\" d=\"M2235.93 1399.98 L2243.57 1399.98 L2243.57 1373.61 L2235.26 1375.28 L2235.26 1371.02 L2243.52 1369.35 L2248.2 1369.35 L2248.2 1399.98 L2255.83 1399.98 L2255.83 1403.91 L2235.93 1403.91 L2235.93 1399.98 Z\" fill=\"#000000\" fill-rule=\"evenodd\" fill-opacity=\"1\" /></svg>\n"
      ]
     },
     "execution_count": 18,
     "metadata": {},
     "output_type": "execute_result"
    }
   ],
   "source": [
    "histogram(y)"
   ]
  },
  {
   "cell_type": "markdown",
   "id": "9d56bbd5",
   "metadata": {},
   "source": [
    "### 3.5\n",
    "\n",
    "#### Plot  the two distributions in the same plot"
   ]
  },
  {
   "cell_type": "code",
   "execution_count": 23,
   "id": "447aeb72",
   "metadata": {},
   "outputs": [
    {
     "data": {
      "image/svg+xml": [
       "<?xml version=\"1.0\" encoding=\"utf-8\"?>\n",
       "<svg xmlns=\"http://www.w3.org/2000/svg\" xmlns:xlink=\"http://www.w3.org/1999/xlink\" width=\"600\" height=\"400\" viewBox=\"0 0 2400 1600\">\n",
       "<defs>\n",
       "  <clipPath id=\"clip040\">\n",
       "    <rect x=\"0\" y=\"0\" width=\"2400\" height=\"1600\"/>\n",
       "  </clipPath>\n",
       "</defs>\n",
       "<path clip-path=\"url(#clip040)\" d=\"M0 1600 L2400 1600 L2400 0 L0 0  Z\" fill=\"#ffffff\" fill-rule=\"evenodd\" fill-opacity=\"1\"/>\n",
       "<defs>\n",
       "  <clipPath id=\"clip041\">\n",
       "    <rect x=\"480\" y=\"0\" width=\"1681\" height=\"1600\"/>\n",
       "  </clipPath>\n",
       "</defs>\n",
       "<path clip-path=\"url(#clip040)\" d=\"M172.015 1486.45 L2352.76 1486.45 L2352.76 47.2441 L172.015 47.2441  Z\" fill=\"#ffffff\" fill-rule=\"evenodd\" fill-opacity=\"1\"/>\n",
       "<defs>\n",
       "  <clipPath id=\"clip042\">\n",
       "    <rect x=\"172\" y=\"47\" width=\"2182\" height=\"1440\"/>\n",
       "  </clipPath>\n",
       "</defs>\n",
       "<polyline clip-path=\"url(#clip042)\" style=\"stroke:#000000; stroke-linecap:round; stroke-linejoin:round; stroke-width:2; stroke-opacity:0.1; fill:none\" points=\"358.885,1486.45 358.885,47.2441 \"/>\n",
       "<polyline clip-path=\"url(#clip042)\" style=\"stroke:#000000; stroke-linecap:round; stroke-linejoin:round; stroke-width:2; stroke-opacity:0.1; fill:none\" points=\"626.589,1486.45 626.589,47.2441 \"/>\n",
       "<polyline clip-path=\"url(#clip042)\" style=\"stroke:#000000; stroke-linecap:round; stroke-linejoin:round; stroke-width:2; stroke-opacity:0.1; fill:none\" points=\"894.293,1486.45 894.293,47.2441 \"/>\n",
       "<polyline clip-path=\"url(#clip042)\" style=\"stroke:#000000; stroke-linecap:round; stroke-linejoin:round; stroke-width:2; stroke-opacity:0.1; fill:none\" points=\"1162,1486.45 1162,47.2441 \"/>\n",
       "<polyline clip-path=\"url(#clip042)\" style=\"stroke:#000000; stroke-linecap:round; stroke-linejoin:round; stroke-width:2; stroke-opacity:0.1; fill:none\" points=\"1429.7,1486.45 1429.7,47.2441 \"/>\n",
       "<polyline clip-path=\"url(#clip042)\" style=\"stroke:#000000; stroke-linecap:round; stroke-linejoin:round; stroke-width:2; stroke-opacity:0.1; fill:none\" points=\"1697.4,1486.45 1697.4,47.2441 \"/>\n",
       "<polyline clip-path=\"url(#clip042)\" style=\"stroke:#000000; stroke-linecap:round; stroke-linejoin:round; stroke-width:2; stroke-opacity:0.1; fill:none\" points=\"1965.11,1486.45 1965.11,47.2441 \"/>\n",
       "<polyline clip-path=\"url(#clip042)\" style=\"stroke:#000000; stroke-linecap:round; stroke-linejoin:round; stroke-width:2; stroke-opacity:0.1; fill:none\" points=\"2232.81,1486.45 2232.81,47.2441 \"/>\n",
       "<polyline clip-path=\"url(#clip040)\" style=\"stroke:#000000; stroke-linecap:round; stroke-linejoin:round; stroke-width:4; stroke-opacity:1; fill:none\" points=\"172.015,1486.45 2352.76,1486.45 \"/>\n",
       "<polyline clip-path=\"url(#clip040)\" style=\"stroke:#000000; stroke-linecap:round; stroke-linejoin:round; stroke-width:4; stroke-opacity:1; fill:none\" points=\"358.885,1486.45 358.885,1467.55 \"/>\n",
       "<polyline clip-path=\"url(#clip040)\" style=\"stroke:#000000; stroke-linecap:round; stroke-linejoin:round; stroke-width:4; stroke-opacity:1; fill:none\" points=\"626.589,1486.45 626.589,1467.55 \"/>\n",
       "<polyline clip-path=\"url(#clip040)\" style=\"stroke:#000000; stroke-linecap:round; stroke-linejoin:round; stroke-width:4; stroke-opacity:1; fill:none\" points=\"894.293,1486.45 894.293,1467.55 \"/>\n",
       "<polyline clip-path=\"url(#clip040)\" style=\"stroke:#000000; stroke-linecap:round; stroke-linejoin:round; stroke-width:4; stroke-opacity:1; fill:none\" points=\"1162,1486.45 1162,1467.55 \"/>\n",
       "<polyline clip-path=\"url(#clip040)\" style=\"stroke:#000000; stroke-linecap:round; stroke-linejoin:round; stroke-width:4; stroke-opacity:1; fill:none\" points=\"1429.7,1486.45 1429.7,1467.55 \"/>\n",
       "<polyline clip-path=\"url(#clip040)\" style=\"stroke:#000000; stroke-linecap:round; stroke-linejoin:round; stroke-width:4; stroke-opacity:1; fill:none\" points=\"1697.4,1486.45 1697.4,1467.55 \"/>\n",
       "<polyline clip-path=\"url(#clip040)\" style=\"stroke:#000000; stroke-linecap:round; stroke-linejoin:round; stroke-width:4; stroke-opacity:1; fill:none\" points=\"1965.11,1486.45 1965.11,1467.55 \"/>\n",
       "<polyline clip-path=\"url(#clip040)\" style=\"stroke:#000000; stroke-linecap:round; stroke-linejoin:round; stroke-width:4; stroke-opacity:1; fill:none\" points=\"2232.81,1486.45 2232.81,1467.55 \"/>\n",
       "<path clip-path=\"url(#clip040)\" d=\"M328.828 1532.02 L358.503 1532.02 L358.503 1535.95 L328.828 1535.95 L328.828 1532.02 Z\" fill=\"#000000\" fill-rule=\"evenodd\" fill-opacity=\"1\" /><path clip-path=\"url(#clip040)\" d=\"M372.624 1544.91 L388.943 1544.91 L388.943 1548.85 L366.999 1548.85 L366.999 1544.91 Q369.661 1542.16 374.244 1537.53 Q378.851 1532.88 380.031 1531.53 Q382.276 1529.01 383.156 1527.27 Q384.059 1525.51 384.059 1523.82 Q384.059 1521.07 382.114 1519.33 Q380.193 1517.6 377.091 1517.6 Q374.892 1517.6 372.439 1518.36 Q370.008 1519.13 367.23 1520.68 L367.23 1515.95 Q370.054 1514.82 372.508 1514.24 Q374.962 1513.66 376.999 1513.66 Q382.369 1513.66 385.563 1516.35 Q388.758 1519.03 388.758 1523.52 Q388.758 1525.65 387.948 1527.57 Q387.161 1529.47 385.054 1532.07 Q384.476 1532.74 381.374 1535.95 Q378.272 1539.15 372.624 1544.91 Z\" fill=\"#000000\" fill-rule=\"evenodd\" fill-opacity=\"1\" /><path clip-path=\"url(#clip040)\" d=\"M626.589 1517.37 Q622.978 1517.37 621.149 1520.93 Q619.344 1524.47 619.344 1531.6 Q619.344 1538.71 621.149 1542.27 Q622.978 1545.82 626.589 1545.82 Q630.223 1545.82 632.029 1542.27 Q633.858 1538.71 633.858 1531.6 Q633.858 1524.47 632.029 1520.93 Q630.223 1517.37 626.589 1517.37 M626.589 1513.66 Q632.399 1513.66 635.455 1518.27 Q638.533 1522.85 638.533 1531.6 Q638.533 1540.33 635.455 1544.94 Q632.399 1549.52 626.589 1549.52 Q620.779 1549.52 617.7 1544.94 Q614.645 1540.33 614.645 1531.6 Q614.645 1522.85 617.7 1518.27 Q620.779 1513.66 626.589 1513.66 Z\" fill=\"#000000\" fill-rule=\"evenodd\" fill-opacity=\"1\" /><path clip-path=\"url(#clip040)\" d=\"M888.946 1544.91 L905.265 1544.91 L905.265 1548.85 L883.321 1548.85 L883.321 1544.91 Q885.983 1542.16 890.566 1537.53 Q895.172 1532.88 896.353 1531.53 Q898.598 1529.01 899.478 1527.27 Q900.381 1525.51 900.381 1523.82 Q900.381 1521.07 898.436 1519.33 Q896.515 1517.6 893.413 1517.6 Q891.214 1517.6 888.76 1518.36 Q886.33 1519.13 883.552 1520.68 L883.552 1515.95 Q886.376 1514.82 888.83 1514.24 Q891.284 1513.66 893.321 1513.66 Q898.691 1513.66 901.885 1516.35 Q905.08 1519.03 905.08 1523.52 Q905.08 1525.65 904.27 1527.57 Q903.483 1529.47 901.376 1532.07 Q900.797 1532.74 897.696 1535.95 Q894.594 1539.15 888.946 1544.91 Z\" fill=\"#000000\" fill-rule=\"evenodd\" fill-opacity=\"1\" /><path clip-path=\"url(#clip040)\" d=\"M1165.01 1518.36 L1153.2 1536.81 L1165.01 1536.81 L1165.01 1518.36 M1163.78 1514.29 L1169.66 1514.29 L1169.66 1536.81 L1174.59 1536.81 L1174.59 1540.7 L1169.66 1540.7 L1169.66 1548.85 L1165.01 1548.85 L1165.01 1540.7 L1149.4 1540.7 L1149.4 1536.19 L1163.78 1514.29 Z\" fill=\"#000000\" fill-rule=\"evenodd\" fill-opacity=\"1\" /><path clip-path=\"url(#clip040)\" d=\"M1430.11 1529.7 Q1426.96 1529.7 1425.11 1531.86 Q1423.28 1534.01 1423.28 1537.76 Q1423.28 1541.49 1425.11 1543.66 Q1426.96 1545.82 1430.11 1545.82 Q1433.25 1545.82 1435.08 1543.66 Q1436.93 1541.49 1436.93 1537.76 Q1436.93 1534.01 1435.08 1531.86 Q1433.25 1529.7 1430.11 1529.7 M1439.39 1515.05 L1439.39 1519.31 Q1437.63 1518.48 1435.82 1518.04 Q1434.04 1517.6 1432.28 1517.6 Q1427.65 1517.6 1425.2 1520.72 Q1422.77 1523.85 1422.42 1530.17 Q1423.79 1528.15 1425.85 1527.09 Q1427.91 1526 1430.38 1526 Q1435.59 1526 1438.6 1529.17 Q1441.63 1532.32 1441.63 1537.76 Q1441.63 1543.08 1438.48 1546.3 Q1435.34 1549.52 1430.11 1549.52 Q1424.11 1549.52 1420.94 1544.94 Q1417.77 1540.33 1417.77 1531.6 Q1417.77 1523.41 1421.66 1518.55 Q1425.55 1513.66 1432.1 1513.66 Q1433.86 1513.66 1435.64 1514.01 Q1437.44 1514.36 1439.39 1515.05 Z\" fill=\"#000000\" fill-rule=\"evenodd\" fill-opacity=\"1\" /><path clip-path=\"url(#clip040)\" d=\"M1697.4 1532.44 Q1694.07 1532.44 1692.15 1534.22 Q1690.25 1536 1690.25 1539.13 Q1690.25 1542.25 1692.15 1544.03 Q1694.07 1545.82 1697.4 1545.82 Q1700.74 1545.82 1702.66 1544.03 Q1704.58 1542.23 1704.58 1539.13 Q1704.58 1536 1702.66 1534.22 Q1700.76 1532.44 1697.4 1532.44 M1692.73 1530.45 Q1689.72 1529.7 1688.03 1527.64 Q1686.36 1525.58 1686.36 1522.62 Q1686.36 1518.48 1689.3 1516.07 Q1692.27 1513.66 1697.4 1513.66 Q1702.57 1513.66 1705.51 1516.07 Q1708.45 1518.48 1708.45 1522.62 Q1708.45 1525.58 1706.76 1527.64 Q1705.09 1529.7 1702.1 1530.45 Q1705.48 1531.23 1707.36 1533.52 Q1709.26 1535.82 1709.26 1539.13 Q1709.26 1544.15 1706.18 1546.83 Q1703.12 1549.52 1697.4 1549.52 Q1691.69 1549.52 1688.61 1546.83 Q1685.55 1544.15 1685.55 1539.13 Q1685.55 1535.82 1687.45 1533.52 Q1689.35 1531.23 1692.73 1530.45 M1691.02 1523.06 Q1691.02 1525.75 1692.68 1527.25 Q1694.37 1528.76 1697.4 1528.76 Q1700.41 1528.76 1702.1 1527.25 Q1703.82 1525.75 1703.82 1523.06 Q1703.82 1520.38 1702.1 1518.87 Q1700.41 1517.37 1697.4 1517.37 Q1694.37 1517.37 1692.68 1518.87 Q1691.02 1520.38 1691.02 1523.06 Z\" fill=\"#000000\" fill-rule=\"evenodd\" fill-opacity=\"1\" /><path clip-path=\"url(#clip040)\" d=\"M1939.8 1544.91 L1947.43 1544.91 L1947.43 1518.55 L1939.12 1520.21 L1939.12 1515.95 L1947.39 1514.29 L1952.06 1514.29 L1952.06 1544.91 L1959.7 1544.91 L1959.7 1548.85 L1939.8 1548.85 L1939.8 1544.91 Z\" fill=\"#000000\" fill-rule=\"evenodd\" fill-opacity=\"1\" /><path clip-path=\"url(#clip040)\" d=\"M1979.15 1517.37 Q1975.54 1517.37 1973.71 1520.93 Q1971.9 1524.47 1971.9 1531.6 Q1971.9 1538.71 1973.71 1542.27 Q1975.54 1545.82 1979.15 1545.82 Q1982.78 1545.82 1984.59 1542.27 Q1986.42 1538.71 1986.42 1531.6 Q1986.42 1524.47 1984.59 1520.93 Q1982.78 1517.37 1979.15 1517.37 M1979.15 1513.66 Q1984.96 1513.66 1988.01 1518.27 Q1991.09 1522.85 1991.09 1531.6 Q1991.09 1540.33 1988.01 1544.94 Q1984.96 1549.52 1979.15 1549.52 Q1973.34 1549.52 1970.26 1544.94 Q1967.2 1540.33 1967.2 1531.6 Q1967.2 1522.85 1970.26 1518.27 Q1973.34 1513.66 1979.15 1513.66 Z\" fill=\"#000000\" fill-rule=\"evenodd\" fill-opacity=\"1\" /><path clip-path=\"url(#clip040)\" d=\"M2208.3 1544.91 L2215.94 1544.91 L2215.94 1518.55 L2207.63 1520.21 L2207.63 1515.95 L2215.89 1514.29 L2220.57 1514.29 L2220.57 1544.91 L2228.2 1544.91 L2228.2 1548.85 L2208.3 1548.85 L2208.3 1544.91 Z\" fill=\"#000000\" fill-rule=\"evenodd\" fill-opacity=\"1\" /><path clip-path=\"url(#clip040)\" d=\"M2241.68 1544.91 L2258 1544.91 L2258 1548.85 L2236.05 1548.85 L2236.05 1544.91 Q2238.71 1542.16 2243.3 1537.53 Q2247.9 1532.88 2249.08 1531.53 Q2251.33 1529.01 2252.21 1527.27 Q2253.11 1525.51 2253.11 1523.82 Q2253.11 1521.07 2251.17 1519.33 Q2249.25 1517.6 2246.14 1517.6 Q2243.95 1517.6 2241.49 1518.36 Q2239.06 1519.13 2236.28 1520.68 L2236.28 1515.95 Q2239.11 1514.82 2241.56 1514.24 Q2244.01 1513.66 2246.05 1513.66 Q2251.42 1513.66 2254.62 1516.35 Q2257.81 1519.03 2257.81 1523.52 Q2257.81 1525.65 2257 1527.57 Q2256.21 1529.47 2254.11 1532.07 Q2253.53 1532.74 2250.43 1535.95 Q2247.33 1539.15 2241.68 1544.91 Z\" fill=\"#000000\" fill-rule=\"evenodd\" fill-opacity=\"1\" /><polyline clip-path=\"url(#clip042)\" style=\"stroke:#000000; stroke-linecap:round; stroke-linejoin:round; stroke-width:2; stroke-opacity:0.1; fill:none\" points=\"172.015,1445.72 2352.76,1445.72 \"/>\n",
       "<polyline clip-path=\"url(#clip042)\" style=\"stroke:#000000; stroke-linecap:round; stroke-linejoin:round; stroke-width:2; stroke-opacity:0.1; fill:none\" points=\"172.015,1179.49 2352.76,1179.49 \"/>\n",
       "<polyline clip-path=\"url(#clip042)\" style=\"stroke:#000000; stroke-linecap:round; stroke-linejoin:round; stroke-width:2; stroke-opacity:0.1; fill:none\" points=\"172.015,913.269 2352.76,913.269 \"/>\n",
       "<polyline clip-path=\"url(#clip042)\" style=\"stroke:#000000; stroke-linecap:round; stroke-linejoin:round; stroke-width:2; stroke-opacity:0.1; fill:none\" points=\"172.015,647.045 2352.76,647.045 \"/>\n",
       "<polyline clip-path=\"url(#clip042)\" style=\"stroke:#000000; stroke-linecap:round; stroke-linejoin:round; stroke-width:2; stroke-opacity:0.1; fill:none\" points=\"172.015,380.822 2352.76,380.822 \"/>\n",
       "<polyline clip-path=\"url(#clip042)\" style=\"stroke:#000000; stroke-linecap:round; stroke-linejoin:round; stroke-width:2; stroke-opacity:0.1; fill:none\" points=\"172.015,114.599 2352.76,114.599 \"/>\n",
       "<polyline clip-path=\"url(#clip040)\" style=\"stroke:#000000; stroke-linecap:round; stroke-linejoin:round; stroke-width:4; stroke-opacity:1; fill:none\" points=\"172.015,1486.45 172.015,47.2441 \"/>\n",
       "<polyline clip-path=\"url(#clip040)\" style=\"stroke:#000000; stroke-linecap:round; stroke-linejoin:round; stroke-width:4; stroke-opacity:1; fill:none\" points=\"172.015,1445.72 190.912,1445.72 \"/>\n",
       "<polyline clip-path=\"url(#clip040)\" style=\"stroke:#000000; stroke-linecap:round; stroke-linejoin:round; stroke-width:4; stroke-opacity:1; fill:none\" points=\"172.015,1179.49 190.912,1179.49 \"/>\n",
       "<polyline clip-path=\"url(#clip040)\" style=\"stroke:#000000; stroke-linecap:round; stroke-linejoin:round; stroke-width:4; stroke-opacity:1; fill:none\" points=\"172.015,913.269 190.912,913.269 \"/>\n",
       "<polyline clip-path=\"url(#clip040)\" style=\"stroke:#000000; stroke-linecap:round; stroke-linejoin:round; stroke-width:4; stroke-opacity:1; fill:none\" points=\"172.015,647.045 190.912,647.045 \"/>\n",
       "<polyline clip-path=\"url(#clip040)\" style=\"stroke:#000000; stroke-linecap:round; stroke-linejoin:round; stroke-width:4; stroke-opacity:1; fill:none\" points=\"172.015,380.822 190.912,380.822 \"/>\n",
       "<polyline clip-path=\"url(#clip040)\" style=\"stroke:#000000; stroke-linecap:round; stroke-linejoin:round; stroke-width:4; stroke-opacity:1; fill:none\" points=\"172.015,114.599 190.912,114.599 \"/>\n",
       "<path clip-path=\"url(#clip040)\" d=\"M124.07 1431.51 Q120.459 1431.51 118.631 1435.08 Q116.825 1438.62 116.825 1445.75 Q116.825 1452.86 118.631 1456.42 Q120.459 1459.96 124.07 1459.96 Q127.705 1459.96 129.51 1456.42 Q131.339 1452.86 131.339 1445.75 Q131.339 1438.62 129.51 1435.08 Q127.705 1431.51 124.07 1431.51 M124.07 1427.81 Q129.881 1427.81 132.936 1432.42 Q136.015 1437 136.015 1445.75 Q136.015 1454.48 132.936 1459.08 Q129.881 1463.67 124.07 1463.67 Q118.26 1463.67 115.182 1459.08 Q112.126 1454.48 112.126 1445.75 Q112.126 1437 115.182 1432.42 Q118.26 1427.81 124.07 1427.81 Z\" fill=\"#000000\" fill-rule=\"evenodd\" fill-opacity=\"1\" /><path clip-path=\"url(#clip040)\" d=\"M54.5569 1192.84 L62.1958 1192.84 L62.1958 1166.47 L53.8856 1168.14 L53.8856 1163.88 L62.1495 1162.21 L66.8254 1162.21 L66.8254 1192.84 L74.4642 1192.84 L74.4642 1196.77 L54.5569 1196.77 L54.5569 1192.84 Z\" fill=\"#000000\" fill-rule=\"evenodd\" fill-opacity=\"1\" /><path clip-path=\"url(#clip040)\" d=\"M93.9086 1165.29 Q90.2975 1165.29 88.4688 1168.86 Q86.6632 1172.4 86.6632 1179.53 Q86.6632 1186.63 88.4688 1190.2 Q90.2975 1193.74 93.9086 1193.74 Q97.5428 1193.74 99.3483 1190.2 Q101.177 1186.63 101.177 1179.53 Q101.177 1172.4 99.3483 1168.86 Q97.5428 1165.29 93.9086 1165.29 M93.9086 1161.59 Q99.7187 1161.59 102.774 1166.19 Q105.853 1170.78 105.853 1179.53 Q105.853 1188.25 102.774 1192.86 Q99.7187 1197.44 93.9086 1197.44 Q88.0984 1197.44 85.0197 1192.86 Q81.9642 1188.25 81.9642 1179.53 Q81.9642 1170.78 85.0197 1166.19 Q88.0984 1161.59 93.9086 1161.59 Z\" fill=\"#000000\" fill-rule=\"evenodd\" fill-opacity=\"1\" /><path clip-path=\"url(#clip040)\" d=\"M124.07 1165.29 Q120.459 1165.29 118.631 1168.86 Q116.825 1172.4 116.825 1179.53 Q116.825 1186.63 118.631 1190.2 Q120.459 1193.74 124.07 1193.74 Q127.705 1193.74 129.51 1190.2 Q131.339 1186.63 131.339 1179.53 Q131.339 1172.4 129.51 1168.86 Q127.705 1165.29 124.07 1165.29 M124.07 1161.59 Q129.881 1161.59 132.936 1166.19 Q136.015 1170.78 136.015 1179.53 Q136.015 1188.25 132.936 1192.86 Q129.881 1197.44 124.07 1197.44 Q118.26 1197.44 115.182 1192.86 Q112.126 1188.25 112.126 1179.53 Q112.126 1170.78 115.182 1166.19 Q118.26 1161.59 124.07 1161.59 Z\" fill=\"#000000\" fill-rule=\"evenodd\" fill-opacity=\"1\" /><path clip-path=\"url(#clip040)\" d=\"M57.7745 926.614 L74.0939 926.614 L74.0939 930.549 L52.1495 930.549 L52.1495 926.614 Q54.8115 923.859 59.3949 919.229 Q64.0013 914.577 65.1819 913.234 Q67.4272 910.711 68.3068 908.975 Q69.2096 907.216 69.2096 905.526 Q69.2096 902.771 67.2652 901.035 Q65.3439 899.299 62.2421 899.299 Q60.043 899.299 57.5893 900.063 Q55.1588 900.827 52.381 902.378 L52.381 897.656 Q55.2051 896.521 57.6588 895.943 Q60.1124 895.364 62.1495 895.364 Q67.5198 895.364 70.7142 898.049 Q73.9087 900.734 73.9087 905.225 Q73.9087 907.355 73.0985 909.276 Q72.3115 911.174 70.205 913.767 Q69.6263 914.438 66.5245 917.655 Q63.4226 920.85 57.7745 926.614 Z\" fill=\"#000000\" fill-rule=\"evenodd\" fill-opacity=\"1\" /><path clip-path=\"url(#clip040)\" d=\"M93.9086 899.068 Q90.2975 899.068 88.4688 902.632 Q86.6632 906.174 86.6632 913.304 Q86.6632 920.41 88.4688 923.975 Q90.2975 927.516 93.9086 927.516 Q97.5428 927.516 99.3483 923.975 Q101.177 920.41 101.177 913.304 Q101.177 906.174 99.3483 902.632 Q97.5428 899.068 93.9086 899.068 M93.9086 895.364 Q99.7187 895.364 102.774 899.97 Q105.853 904.554 105.853 913.304 Q105.853 922.03 102.774 926.637 Q99.7187 931.22 93.9086 931.22 Q88.0984 931.22 85.0197 926.637 Q81.9642 922.03 81.9642 913.304 Q81.9642 904.554 85.0197 899.97 Q88.0984 895.364 93.9086 895.364 Z\" fill=\"#000000\" fill-rule=\"evenodd\" fill-opacity=\"1\" /><path clip-path=\"url(#clip040)\" d=\"M124.07 899.068 Q120.459 899.068 118.631 902.632 Q116.825 906.174 116.825 913.304 Q116.825 920.41 118.631 923.975 Q120.459 927.516 124.07 927.516 Q127.705 927.516 129.51 923.975 Q131.339 920.41 131.339 913.304 Q131.339 906.174 129.51 902.632 Q127.705 899.068 124.07 899.068 M124.07 895.364 Q129.881 895.364 132.936 899.97 Q136.015 904.554 136.015 913.304 Q136.015 922.03 132.936 926.637 Q129.881 931.22 124.07 931.22 Q118.26 931.22 115.182 926.637 Q112.126 922.03 112.126 913.304 Q112.126 904.554 115.182 899.97 Q118.26 895.364 124.07 895.364 Z\" fill=\"#000000\" fill-rule=\"evenodd\" fill-opacity=\"1\" /><path clip-path=\"url(#clip040)\" d=\"M67.9133 645.691 Q71.2698 646.409 73.1448 648.677 Q75.0429 650.946 75.0429 654.279 Q75.0429 659.395 71.5244 662.196 Q68.0059 664.997 61.5245 664.997 Q59.3486 664.997 57.0338 664.557 Q54.7421 664.14 52.2884 663.284 L52.2884 658.77 Q54.2328 659.904 56.5477 660.483 Q58.8625 661.062 61.3856 661.062 Q65.7837 661.062 68.0754 659.325 Q70.3902 657.589 70.3902 654.279 Q70.3902 651.224 68.2374 649.511 Q66.1078 647.775 62.2884 647.775 L58.2606 647.775 L58.2606 643.932 L62.4735 643.932 Q65.9226 643.932 67.7513 642.566 Q69.58 641.177 69.58 638.585 Q69.58 635.923 67.6819 634.511 Q65.8069 633.076 62.2884 633.076 Q60.3671 633.076 58.168 633.492 Q55.969 633.909 53.3301 634.789 L53.3301 630.622 Q55.9921 629.881 58.3069 629.511 Q60.6449 629.14 62.705 629.14 Q68.0291 629.14 71.1309 631.571 Q74.2327 633.978 74.2327 638.099 Q74.2327 640.969 72.5892 642.96 Q70.9457 644.927 67.9133 645.691 Z\" fill=\"#000000\" fill-rule=\"evenodd\" fill-opacity=\"1\" /><path clip-path=\"url(#clip040)\" d=\"M93.9086 632.844 Q90.2975 632.844 88.4688 636.409 Q86.6632 639.951 86.6632 647.08 Q86.6632 654.187 88.4688 657.751 Q90.2975 661.293 93.9086 661.293 Q97.5428 661.293 99.3483 657.751 Q101.177 654.187 101.177 647.08 Q101.177 639.951 99.3483 636.409 Q97.5428 632.844 93.9086 632.844 M93.9086 629.14 Q99.7187 629.14 102.774 633.747 Q105.853 638.33 105.853 647.08 Q105.853 655.807 102.774 660.413 Q99.7187 664.997 93.9086 664.997 Q88.0984 664.997 85.0197 660.413 Q81.9642 655.807 81.9642 647.08 Q81.9642 638.33 85.0197 633.747 Q88.0984 629.14 93.9086 629.14 Z\" fill=\"#000000\" fill-rule=\"evenodd\" fill-opacity=\"1\" /><path clip-path=\"url(#clip040)\" d=\"M124.07 632.844 Q120.459 632.844 118.631 636.409 Q116.825 639.951 116.825 647.08 Q116.825 654.187 118.631 657.751 Q120.459 661.293 124.07 661.293 Q127.705 661.293 129.51 657.751 Q131.339 654.187 131.339 647.08 Q131.339 639.951 129.51 636.409 Q127.705 632.844 124.07 632.844 M124.07 629.14 Q129.881 629.14 132.936 633.747 Q136.015 638.33 136.015 647.08 Q136.015 655.807 132.936 660.413 Q129.881 664.997 124.07 664.997 Q118.26 664.997 115.182 660.413 Q112.126 655.807 112.126 647.08 Q112.126 638.33 115.182 633.747 Q118.26 629.14 124.07 629.14 Z\" fill=\"#000000\" fill-rule=\"evenodd\" fill-opacity=\"1\" /><path clip-path=\"url(#clip040)\" d=\"M66.5939 367.616 L54.7884 386.065 L66.5939 386.065 L66.5939 367.616 M65.367 363.542 L71.2466 363.542 L71.2466 386.065 L76.1772 386.065 L76.1772 389.954 L71.2466 389.954 L71.2466 398.102 L66.5939 398.102 L66.5939 389.954 L50.9921 389.954 L50.9921 385.44 L65.367 363.542 Z\" fill=\"#000000\" fill-rule=\"evenodd\" fill-opacity=\"1\" /><path clip-path=\"url(#clip040)\" d=\"M93.9086 366.621 Q90.2975 366.621 88.4688 370.186 Q86.6632 373.727 86.6632 380.857 Q86.6632 387.963 88.4688 391.528 Q90.2975 395.07 93.9086 395.07 Q97.5428 395.07 99.3483 391.528 Q101.177 387.963 101.177 380.857 Q101.177 373.727 99.3483 370.186 Q97.5428 366.621 93.9086 366.621 M93.9086 362.917 Q99.7187 362.917 102.774 367.523 Q105.853 372.107 105.853 380.857 Q105.853 389.584 102.774 394.19 Q99.7187 398.773 93.9086 398.773 Q88.0984 398.773 85.0197 394.19 Q81.9642 389.584 81.9642 380.857 Q81.9642 372.107 85.0197 367.523 Q88.0984 362.917 93.9086 362.917 Z\" fill=\"#000000\" fill-rule=\"evenodd\" fill-opacity=\"1\" /><path clip-path=\"url(#clip040)\" d=\"M124.07 366.621 Q120.459 366.621 118.631 370.186 Q116.825 373.727 116.825 380.857 Q116.825 387.963 118.631 391.528 Q120.459 395.07 124.07 395.07 Q127.705 395.07 129.51 391.528 Q131.339 387.963 131.339 380.857 Q131.339 373.727 129.51 370.186 Q127.705 366.621 124.07 366.621 M124.07 362.917 Q129.881 362.917 132.936 367.523 Q136.015 372.107 136.015 380.857 Q136.015 389.584 132.936 394.19 Q129.881 398.773 124.07 398.773 Q118.26 398.773 115.182 394.19 Q112.126 389.584 112.126 380.857 Q112.126 372.107 115.182 367.523 Q118.26 362.917 124.07 362.917 Z\" fill=\"#000000\" fill-rule=\"evenodd\" fill-opacity=\"1\" /><path clip-path=\"url(#clip040)\" d=\"M53.793 97.3186 L72.1494 97.3186 L72.1494 101.254 L58.0754 101.254 L58.0754 109.726 Q59.0939 109.379 60.1124 109.217 Q61.131 109.032 62.1495 109.032 Q67.9365 109.032 71.3161 112.203 Q74.6957 115.374 74.6957 120.791 Q74.6957 126.369 71.2235 129.471 Q67.7513 132.55 61.4319 132.55 Q59.256 132.55 56.9875 132.18 Q54.7421 131.809 52.3347 131.068 L52.3347 126.369 Q54.418 127.504 56.6402 128.059 Q58.8625 128.615 61.3393 128.615 Q65.3439 128.615 67.6819 126.508 Q70.0198 124.402 70.0198 120.791 Q70.0198 117.18 67.6819 115.073 Q65.3439 112.967 61.3393 112.967 Q59.4643 112.967 57.5893 113.383 Q55.7375 113.8 53.793 114.68 L53.793 97.3186 Z\" fill=\"#000000\" fill-rule=\"evenodd\" fill-opacity=\"1\" /><path clip-path=\"url(#clip040)\" d=\"M93.9086 100.397 Q90.2975 100.397 88.4688 103.962 Q86.6632 107.504 86.6632 114.633 Q86.6632 121.74 88.4688 125.305 Q90.2975 128.846 93.9086 128.846 Q97.5428 128.846 99.3483 125.305 Q101.177 121.74 101.177 114.633 Q101.177 107.504 99.3483 103.962 Q97.5428 100.397 93.9086 100.397 M93.9086 96.6936 Q99.7187 96.6936 102.774 101.3 Q105.853 105.883 105.853 114.633 Q105.853 123.36 102.774 127.967 Q99.7187 132.55 93.9086 132.55 Q88.0984 132.55 85.0197 127.967 Q81.9642 123.36 81.9642 114.633 Q81.9642 105.883 85.0197 101.3 Q88.0984 96.6936 93.9086 96.6936 Z\" fill=\"#000000\" fill-rule=\"evenodd\" fill-opacity=\"1\" /><path clip-path=\"url(#clip040)\" d=\"M124.07 100.397 Q120.459 100.397 118.631 103.962 Q116.825 107.504 116.825 114.633 Q116.825 121.74 118.631 125.305 Q120.459 128.846 124.07 128.846 Q127.705 128.846 129.51 125.305 Q131.339 121.74 131.339 114.633 Q131.339 107.504 129.51 103.962 Q127.705 100.397 124.07 100.397 M124.07 96.6936 Q129.881 96.6936 132.936 101.3 Q136.015 105.883 136.015 114.633 Q136.015 123.36 132.936 127.967 Q129.881 132.55 124.07 132.55 Q118.26 132.55 115.182 127.967 Q112.126 123.36 112.126 114.633 Q112.126 105.883 115.182 101.3 Q118.26 96.6936 124.07 96.6936 Z\" fill=\"#000000\" fill-rule=\"evenodd\" fill-opacity=\"1\" /><path clip-path=\"url(#clip042)\" d=\"M291.959 1443.05 L291.959 1445.72 L358.885 1445.72 L358.885 1443.05 L291.959 1443.05 L291.959 1443.05  Z\" fill=\"#009af9\" fill-rule=\"evenodd\" fill-opacity=\"1\"/>\n",
       "<polyline clip-path=\"url(#clip042)\" style=\"stroke:#000000; stroke-linecap:round; stroke-linejoin:round; stroke-width:4; stroke-opacity:1; fill:none\" points=\"291.959,1443.05 291.959,1445.72 358.885,1445.72 358.885,1443.05 291.959,1443.05 \"/>\n",
       "<path clip-path=\"url(#clip042)\" d=\"M358.885 1443.05 L358.885 1445.72 L425.811 1445.72 L425.811 1443.05 L358.885 1443.05 L358.885 1443.05  Z\" fill=\"#009af9\" fill-rule=\"evenodd\" fill-opacity=\"1\"/>\n",
       "<polyline clip-path=\"url(#clip042)\" style=\"stroke:#000000; stroke-linecap:round; stroke-linejoin:round; stroke-width:4; stroke-opacity:1; fill:none\" points=\"358.885,1443.05 358.885,1445.72 425.811,1445.72 425.811,1443.05 358.885,1443.05 \"/>\n",
       "<path clip-path=\"url(#clip042)\" d=\"M425.811 1443.05 L425.811 1445.72 L492.737 1445.72 L492.737 1443.05 L425.811 1443.05 L425.811 1443.05  Z\" fill=\"#009af9\" fill-rule=\"evenodd\" fill-opacity=\"1\"/>\n",
       "<polyline clip-path=\"url(#clip042)\" style=\"stroke:#000000; stroke-linecap:round; stroke-linejoin:round; stroke-width:4; stroke-opacity:1; fill:none\" points=\"425.811,1443.05 425.811,1445.72 492.737,1445.72 492.737,1443.05 425.811,1443.05 \"/>\n",
       "<path clip-path=\"url(#clip042)\" d=\"M492.737 1445.72 L492.737 1445.72 L559.663 1445.72 L559.663 1445.72 L492.737 1445.72 L492.737 1445.72  Z\" fill=\"#009af9\" fill-rule=\"evenodd\" fill-opacity=\"1\"/>\n",
       "<polyline clip-path=\"url(#clip042)\" style=\"stroke:#000000; stroke-linecap:round; stroke-linejoin:round; stroke-width:4; stroke-opacity:1; fill:none\" points=\"492.737,1445.72 492.737,1445.72 559.663,1445.72 492.737,1445.72 \"/>\n",
       "<path clip-path=\"url(#clip042)\" d=\"M559.663 1440.39 L559.663 1445.72 L626.589 1445.72 L626.589 1440.39 L559.663 1440.39 L559.663 1440.39  Z\" fill=\"#009af9\" fill-rule=\"evenodd\" fill-opacity=\"1\"/>\n",
       "<polyline clip-path=\"url(#clip042)\" style=\"stroke:#000000; stroke-linecap:round; stroke-linejoin:round; stroke-width:4; stroke-opacity:1; fill:none\" points=\"559.663,1440.39 559.663,1445.72 626.589,1445.72 626.589,1440.39 559.663,1440.39 \"/>\n",
       "<path clip-path=\"url(#clip042)\" d=\"M626.589 1432.4 L626.589 1445.72 L693.515 1445.72 L693.515 1432.4 L626.589 1432.4 L626.589 1432.4  Z\" fill=\"#009af9\" fill-rule=\"evenodd\" fill-opacity=\"1\"/>\n",
       "<polyline clip-path=\"url(#clip042)\" style=\"stroke:#000000; stroke-linecap:round; stroke-linejoin:round; stroke-width:4; stroke-opacity:1; fill:none\" points=\"626.589,1432.4 626.589,1445.72 693.515,1445.72 693.515,1432.4 626.589,1432.4 \"/>\n",
       "<path clip-path=\"url(#clip042)\" d=\"M693.515 1400.46 L693.515 1445.72 L760.441 1445.72 L760.441 1400.46 L693.515 1400.46 L693.515 1400.46  Z\" fill=\"#009af9\" fill-rule=\"evenodd\" fill-opacity=\"1\"/>\n",
       "<polyline clip-path=\"url(#clip042)\" style=\"stroke:#000000; stroke-linecap:round; stroke-linejoin:round; stroke-width:4; stroke-opacity:1; fill:none\" points=\"693.515,1400.46 693.515,1445.72 760.441,1445.72 760.441,1400.46 693.515,1400.46 \"/>\n",
       "<path clip-path=\"url(#clip042)\" d=\"M760.441 1392.47 L760.441 1445.72 L827.367 1445.72 L827.367 1392.47 L760.441 1392.47 L760.441 1392.47  Z\" fill=\"#009af9\" fill-rule=\"evenodd\" fill-opacity=\"1\"/>\n",
       "<polyline clip-path=\"url(#clip042)\" style=\"stroke:#000000; stroke-linecap:round; stroke-linejoin:round; stroke-width:4; stroke-opacity:1; fill:none\" points=\"760.441,1392.47 760.441,1445.72 827.367,1445.72 827.367,1392.47 760.441,1392.47 \"/>\n",
       "<path clip-path=\"url(#clip042)\" d=\"M827.367 1384.48 L827.367 1445.72 L894.293 1445.72 L894.293 1384.48 L827.367 1384.48 L827.367 1384.48  Z\" fill=\"#009af9\" fill-rule=\"evenodd\" fill-opacity=\"1\"/>\n",
       "<polyline clip-path=\"url(#clip042)\" style=\"stroke:#000000; stroke-linecap:round; stroke-linejoin:round; stroke-width:4; stroke-opacity:1; fill:none\" points=\"827.367,1384.48 827.367,1445.72 894.293,1445.72 894.293,1384.48 827.367,1384.48 \"/>\n",
       "<path clip-path=\"url(#clip042)\" d=\"M894.293 1355.2 L894.293 1445.72 L961.219 1445.72 L961.219 1355.2 L894.293 1355.2 L894.293 1355.2  Z\" fill=\"#009af9\" fill-rule=\"evenodd\" fill-opacity=\"1\"/>\n",
       "<polyline clip-path=\"url(#clip042)\" style=\"stroke:#000000; stroke-linecap:round; stroke-linejoin:round; stroke-width:4; stroke-opacity:1; fill:none\" points=\"894.293,1355.2 894.293,1445.72 961.219,1445.72 961.219,1355.2 894.293,1355.2 \"/>\n",
       "<path clip-path=\"url(#clip042)\" d=\"M961.219 1304.62 L961.219 1445.72 L1028.14 1445.72 L1028.14 1304.62 L961.219 1304.62 L961.219 1304.62  Z\" fill=\"#009af9\" fill-rule=\"evenodd\" fill-opacity=\"1\"/>\n",
       "<polyline clip-path=\"url(#clip042)\" style=\"stroke:#000000; stroke-linecap:round; stroke-linejoin:round; stroke-width:4; stroke-opacity:1; fill:none\" points=\"961.219,1304.62 961.219,1445.72 1028.14,1445.72 1028.14,1304.62 961.219,1304.62 \"/>\n",
       "<path clip-path=\"url(#clip042)\" d=\"M1028.14 1246.05 L1028.14 1445.72 L1095.07 1445.72 L1095.07 1246.05 L1028.14 1246.05 L1028.14 1246.05  Z\" fill=\"#009af9\" fill-rule=\"evenodd\" fill-opacity=\"1\"/>\n",
       "<polyline clip-path=\"url(#clip042)\" style=\"stroke:#000000; stroke-linecap:round; stroke-linejoin:round; stroke-width:4; stroke-opacity:1; fill:none\" points=\"1028.14,1246.05 1028.14,1445.72 1095.07,1445.72 1095.07,1246.05 1028.14,1246.05 \"/>\n",
       "<path clip-path=\"url(#clip042)\" d=\"M1095.07 1259.36 L1095.07 1445.72 L1162 1445.72 L1162 1259.36 L1095.07 1259.36 L1095.07 1259.36  Z\" fill=\"#009af9\" fill-rule=\"evenodd\" fill-opacity=\"1\"/>\n",
       "<polyline clip-path=\"url(#clip042)\" style=\"stroke:#000000; stroke-linecap:round; stroke-linejoin:round; stroke-width:4; stroke-opacity:1; fill:none\" points=\"1095.07,1259.36 1095.07,1445.72 1162,1445.72 1162,1259.36 1095.07,1259.36 \"/>\n",
       "<path clip-path=\"url(#clip042)\" d=\"M1162 1206.11 L1162 1445.72 L1228.92 1445.72 L1228.92 1206.11 L1162 1206.11 L1162 1206.11  Z\" fill=\"#009af9\" fill-rule=\"evenodd\" fill-opacity=\"1\"/>\n",
       "<polyline clip-path=\"url(#clip042)\" style=\"stroke:#000000; stroke-linecap:round; stroke-linejoin:round; stroke-width:4; stroke-opacity:1; fill:none\" points=\"1162,1206.11 1162,1445.72 1228.92,1445.72 1228.92,1206.11 1162,1206.11 \"/>\n",
       "<path clip-path=\"url(#clip042)\" d=\"M1228.92 1182.15 L1228.92 1445.72 L1295.85 1445.72 L1295.85 1182.15 L1228.92 1182.15 L1228.92 1182.15  Z\" fill=\"#009af9\" fill-rule=\"evenodd\" fill-opacity=\"1\"/>\n",
       "<polyline clip-path=\"url(#clip042)\" style=\"stroke:#000000; stroke-linecap:round; stroke-linejoin:round; stroke-width:4; stroke-opacity:1; fill:none\" points=\"1228.92,1182.15 1228.92,1445.72 1295.85,1445.72 1295.85,1182.15 1228.92,1182.15 \"/>\n",
       "<path clip-path=\"url(#clip042)\" d=\"M1295.85 1179.49 L1295.85 1445.72 L1362.77 1445.72 L1362.77 1179.49 L1295.85 1179.49 L1295.85 1179.49  Z\" fill=\"#009af9\" fill-rule=\"evenodd\" fill-opacity=\"1\"/>\n",
       "<polyline clip-path=\"url(#clip042)\" style=\"stroke:#000000; stroke-linecap:round; stroke-linejoin:round; stroke-width:4; stroke-opacity:1; fill:none\" points=\"1295.85,1179.49 1295.85,1445.72 1362.77,1445.72 1362.77,1179.49 1295.85,1179.49 \"/>\n",
       "<path clip-path=\"url(#clip042)\" d=\"M1362.77 1184.82 L1362.77 1445.72 L1429.7 1445.72 L1429.7 1184.82 L1362.77 1184.82 L1362.77 1184.82  Z\" fill=\"#009af9\" fill-rule=\"evenodd\" fill-opacity=\"1\"/>\n",
       "<polyline clip-path=\"url(#clip042)\" style=\"stroke:#000000; stroke-linecap:round; stroke-linejoin:round; stroke-width:4; stroke-opacity:1; fill:none\" points=\"1362.77,1184.82 1362.77,1445.72 1429.7,1445.72 1429.7,1184.82 1362.77,1184.82 \"/>\n",
       "<path clip-path=\"url(#clip042)\" d=\"M1429.7 1208.78 L1429.7 1445.72 L1496.63 1445.72 L1496.63 1208.78 L1429.7 1208.78 L1429.7 1208.78  Z\" fill=\"#009af9\" fill-rule=\"evenodd\" fill-opacity=\"1\"/>\n",
       "<polyline clip-path=\"url(#clip042)\" style=\"stroke:#000000; stroke-linecap:round; stroke-linejoin:round; stroke-width:4; stroke-opacity:1; fill:none\" points=\"1429.7,1208.78 1429.7,1445.72 1496.63,1445.72 1496.63,1208.78 1429.7,1208.78 \"/>\n",
       "<path clip-path=\"url(#clip042)\" d=\"M1496.63 1291.31 L1496.63 1445.72 L1563.55 1445.72 L1563.55 1291.31 L1496.63 1291.31 L1496.63 1291.31  Z\" fill=\"#009af9\" fill-rule=\"evenodd\" fill-opacity=\"1\"/>\n",
       "<polyline clip-path=\"url(#clip042)\" style=\"stroke:#000000; stroke-linecap:round; stroke-linejoin:round; stroke-width:4; stroke-opacity:1; fill:none\" points=\"1496.63,1291.31 1496.63,1445.72 1563.55,1445.72 1563.55,1291.31 1496.63,1291.31 \"/>\n",
       "<path clip-path=\"url(#clip042)\" d=\"M1563.55 1317.93 L1563.55 1445.72 L1630.48 1445.72 L1630.48 1317.93 L1563.55 1317.93 L1563.55 1317.93  Z\" fill=\"#009af9\" fill-rule=\"evenodd\" fill-opacity=\"1\"/>\n",
       "<polyline clip-path=\"url(#clip042)\" style=\"stroke:#000000; stroke-linecap:round; stroke-linejoin:round; stroke-width:4; stroke-opacity:1; fill:none\" points=\"1563.55,1317.93 1563.55,1445.72 1630.48,1445.72 1630.48,1317.93 1563.55,1317.93 \"/>\n",
       "<path clip-path=\"url(#clip042)\" d=\"M1630.48 1336.56 L1630.48 1445.72 L1697.4 1445.72 L1697.4 1336.56 L1630.48 1336.56 L1630.48 1336.56  Z\" fill=\"#009af9\" fill-rule=\"evenodd\" fill-opacity=\"1\"/>\n",
       "<polyline clip-path=\"url(#clip042)\" style=\"stroke:#000000; stroke-linecap:round; stroke-linejoin:round; stroke-width:4; stroke-opacity:1; fill:none\" points=\"1630.48,1336.56 1630.48,1445.72 1697.4,1445.72 1697.4,1336.56 1630.48,1336.56 \"/>\n",
       "<path clip-path=\"url(#clip042)\" d=\"M1697.4 1387.15 L1697.4 1445.72 L1764.33 1445.72 L1764.33 1387.15 L1697.4 1387.15 L1697.4 1387.15  Z\" fill=\"#009af9\" fill-rule=\"evenodd\" fill-opacity=\"1\"/>\n",
       "<polyline clip-path=\"url(#clip042)\" style=\"stroke:#000000; stroke-linecap:round; stroke-linejoin:round; stroke-width:4; stroke-opacity:1; fill:none\" points=\"1697.4,1387.15 1697.4,1445.72 1764.33,1445.72 1764.33,1387.15 1697.4,1387.15 \"/>\n",
       "<path clip-path=\"url(#clip042)\" d=\"M1764.33 1381.82 L1764.33 1445.72 L1831.26 1445.72 L1831.26 1381.82 L1764.33 1381.82 L1764.33 1381.82  Z\" fill=\"#009af9\" fill-rule=\"evenodd\" fill-opacity=\"1\"/>\n",
       "<polyline clip-path=\"url(#clip042)\" style=\"stroke:#000000; stroke-linecap:round; stroke-linejoin:round; stroke-width:4; stroke-opacity:1; fill:none\" points=\"1764.33,1381.82 1764.33,1445.72 1831.26,1445.72 1831.26,1381.82 1764.33,1381.82 \"/>\n",
       "<path clip-path=\"url(#clip042)\" d=\"M1831.26 1397.8 L1831.26 1445.72 L1898.18 1445.72 L1898.18 1397.8 L1831.26 1397.8 L1831.26 1397.8  Z\" fill=\"#009af9\" fill-rule=\"evenodd\" fill-opacity=\"1\"/>\n",
       "<polyline clip-path=\"url(#clip042)\" style=\"stroke:#000000; stroke-linecap:round; stroke-linejoin:round; stroke-width:4; stroke-opacity:1; fill:none\" points=\"1831.26,1397.8 1831.26,1445.72 1898.18,1445.72 1898.18,1397.8 1831.26,1397.8 \"/>\n",
       "<path clip-path=\"url(#clip042)\" d=\"M1898.18 1440.39 L1898.18 1445.72 L1965.11 1445.72 L1965.11 1440.39 L1898.18 1440.39 L1898.18 1440.39  Z\" fill=\"#009af9\" fill-rule=\"evenodd\" fill-opacity=\"1\"/>\n",
       "<polyline clip-path=\"url(#clip042)\" style=\"stroke:#000000; stroke-linecap:round; stroke-linejoin:round; stroke-width:4; stroke-opacity:1; fill:none\" points=\"1898.18,1440.39 1898.18,1445.72 1965.11,1445.72 1965.11,1440.39 1898.18,1440.39 \"/>\n",
       "<path clip-path=\"url(#clip042)\" d=\"M1965.11 1432.4 L1965.11 1445.72 L2032.03 1445.72 L2032.03 1432.4 L1965.11 1432.4 L1965.11 1432.4  Z\" fill=\"#009af9\" fill-rule=\"evenodd\" fill-opacity=\"1\"/>\n",
       "<polyline clip-path=\"url(#clip042)\" style=\"stroke:#000000; stroke-linecap:round; stroke-linejoin:round; stroke-width:4; stroke-opacity:1; fill:none\" points=\"1965.11,1432.4 1965.11,1445.72 2032.03,1445.72 2032.03,1432.4 1965.11,1432.4 \"/>\n",
       "<path clip-path=\"url(#clip042)\" d=\"M2032.03 1437.73 L2032.03 1445.72 L2098.96 1445.72 L2098.96 1437.73 L2032.03 1437.73 L2032.03 1437.73  Z\" fill=\"#009af9\" fill-rule=\"evenodd\" fill-opacity=\"1\"/>\n",
       "<polyline clip-path=\"url(#clip042)\" style=\"stroke:#000000; stroke-linecap:round; stroke-linejoin:round; stroke-width:4; stroke-opacity:1; fill:none\" points=\"2032.03,1437.73 2032.03,1445.72 2098.96,1445.72 2098.96,1437.73 2032.03,1437.73 \"/>\n",
       "<path clip-path=\"url(#clip042)\" d=\"M2098.96 1445.72 L2098.96 1445.72 L2165.89 1445.72 L2165.89 1445.72 L2098.96 1445.72 L2098.96 1445.72  Z\" fill=\"#009af9\" fill-rule=\"evenodd\" fill-opacity=\"1\"/>\n",
       "<polyline clip-path=\"url(#clip042)\" style=\"stroke:#000000; stroke-linecap:round; stroke-linejoin:round; stroke-width:4; stroke-opacity:1; fill:none\" points=\"2098.96,1445.72 2098.96,1445.72 2165.89,1445.72 2098.96,1445.72 \"/>\n",
       "<path clip-path=\"url(#clip042)\" d=\"M2165.89 1443.05 L2165.89 1445.72 L2232.81 1445.72 L2232.81 1443.05 L2165.89 1443.05 L2165.89 1443.05  Z\" fill=\"#009af9\" fill-rule=\"evenodd\" fill-opacity=\"1\"/>\n",
       "<polyline clip-path=\"url(#clip042)\" style=\"stroke:#000000; stroke-linecap:round; stroke-linejoin:round; stroke-width:4; stroke-opacity:1; fill:none\" points=\"2165.89,1443.05 2165.89,1445.72 2232.81,1445.72 2232.81,1443.05 2165.89,1443.05 \"/>\n",
       "<circle clip-path=\"url(#clip042)\" style=\"fill:#009af9; stroke:none; fill-opacity:0\" cx=\"325.422\" cy=\"1443.05\" r=\"2\"/>\n",
       "<circle clip-path=\"url(#clip042)\" style=\"fill:#009af9; stroke:none; fill-opacity:0\" cx=\"392.348\" cy=\"1443.05\" r=\"2\"/>\n",
       "<circle clip-path=\"url(#clip042)\" style=\"fill:#009af9; stroke:none; fill-opacity:0\" cx=\"459.274\" cy=\"1443.05\" r=\"2\"/>\n",
       "<circle clip-path=\"url(#clip042)\" style=\"fill:#009af9; stroke:none; fill-opacity:0\" cx=\"526.2\" cy=\"1445.72\" r=\"2\"/>\n",
       "<circle clip-path=\"url(#clip042)\" style=\"fill:#009af9; stroke:none; fill-opacity:0\" cx=\"593.126\" cy=\"1440.39\" r=\"2\"/>\n",
       "<circle clip-path=\"url(#clip042)\" style=\"fill:#009af9; stroke:none; fill-opacity:0\" cx=\"660.052\" cy=\"1432.4\" r=\"2\"/>\n",
       "<circle clip-path=\"url(#clip042)\" style=\"fill:#009af9; stroke:none; fill-opacity:0\" cx=\"726.978\" cy=\"1400.46\" r=\"2\"/>\n",
       "<circle clip-path=\"url(#clip042)\" style=\"fill:#009af9; stroke:none; fill-opacity:0\" cx=\"793.904\" cy=\"1392.47\" r=\"2\"/>\n",
       "<circle clip-path=\"url(#clip042)\" style=\"fill:#009af9; stroke:none; fill-opacity:0\" cx=\"860.83\" cy=\"1384.48\" r=\"2\"/>\n",
       "<circle clip-path=\"url(#clip042)\" style=\"fill:#009af9; stroke:none; fill-opacity:0\" cx=\"927.756\" cy=\"1355.2\" r=\"2\"/>\n",
       "<circle clip-path=\"url(#clip042)\" style=\"fill:#009af9; stroke:none; fill-opacity:0\" cx=\"994.682\" cy=\"1304.62\" r=\"2\"/>\n",
       "<circle clip-path=\"url(#clip042)\" style=\"fill:#009af9; stroke:none; fill-opacity:0\" cx=\"1061.61\" cy=\"1246.05\" r=\"2\"/>\n",
       "<circle clip-path=\"url(#clip042)\" style=\"fill:#009af9; stroke:none; fill-opacity:0\" cx=\"1128.53\" cy=\"1259.36\" r=\"2\"/>\n",
       "<circle clip-path=\"url(#clip042)\" style=\"fill:#009af9; stroke:none; fill-opacity:0\" cx=\"1195.46\" cy=\"1206.11\" r=\"2\"/>\n",
       "<circle clip-path=\"url(#clip042)\" style=\"fill:#009af9; stroke:none; fill-opacity:0\" cx=\"1262.39\" cy=\"1182.15\" r=\"2\"/>\n",
       "<circle clip-path=\"url(#clip042)\" style=\"fill:#009af9; stroke:none; fill-opacity:0\" cx=\"1329.31\" cy=\"1179.49\" r=\"2\"/>\n",
       "<circle clip-path=\"url(#clip042)\" style=\"fill:#009af9; stroke:none; fill-opacity:0\" cx=\"1396.24\" cy=\"1184.82\" r=\"2\"/>\n",
       "<circle clip-path=\"url(#clip042)\" style=\"fill:#009af9; stroke:none; fill-opacity:0\" cx=\"1463.16\" cy=\"1208.78\" r=\"2\"/>\n",
       "<circle clip-path=\"url(#clip042)\" style=\"fill:#009af9; stroke:none; fill-opacity:0\" cx=\"1530.09\" cy=\"1291.31\" r=\"2\"/>\n",
       "<circle clip-path=\"url(#clip042)\" style=\"fill:#009af9; stroke:none; fill-opacity:0\" cx=\"1597.01\" cy=\"1317.93\" r=\"2\"/>\n",
       "<circle clip-path=\"url(#clip042)\" style=\"fill:#009af9; stroke:none; fill-opacity:0\" cx=\"1663.94\" cy=\"1336.56\" r=\"2\"/>\n",
       "<circle clip-path=\"url(#clip042)\" style=\"fill:#009af9; stroke:none; fill-opacity:0\" cx=\"1730.87\" cy=\"1387.15\" r=\"2\"/>\n",
       "<circle clip-path=\"url(#clip042)\" style=\"fill:#009af9; stroke:none; fill-opacity:0\" cx=\"1797.79\" cy=\"1381.82\" r=\"2\"/>\n",
       "<circle clip-path=\"url(#clip042)\" style=\"fill:#009af9; stroke:none; fill-opacity:0\" cx=\"1864.72\" cy=\"1397.8\" r=\"2\"/>\n",
       "<circle clip-path=\"url(#clip042)\" style=\"fill:#009af9; stroke:none; fill-opacity:0\" cx=\"1931.64\" cy=\"1440.39\" r=\"2\"/>\n",
       "<circle clip-path=\"url(#clip042)\" style=\"fill:#009af9; stroke:none; fill-opacity:0\" cx=\"1998.57\" cy=\"1432.4\" r=\"2\"/>\n",
       "<circle clip-path=\"url(#clip042)\" style=\"fill:#009af9; stroke:none; fill-opacity:0\" cx=\"2065.5\" cy=\"1437.73\" r=\"2\"/>\n",
       "<circle clip-path=\"url(#clip042)\" style=\"fill:#009af9; stroke:none; fill-opacity:0\" cx=\"2132.42\" cy=\"1445.72\" r=\"2\"/>\n",
       "<circle clip-path=\"url(#clip042)\" style=\"fill:#009af9; stroke:none; fill-opacity:0\" cx=\"2199.35\" cy=\"1443.05\" r=\"2\"/>\n",
       "<path clip-path=\"url(#clip042)\" d=\"M894.293 141.221 L894.293 1445.72 L907.678 1445.72 L907.678 141.221 L894.293 141.221 L894.293 141.221  Z\" fill=\"#e26f46\" fill-rule=\"evenodd\" fill-opacity=\"1\"/>\n",
       "<polyline clip-path=\"url(#clip042)\" style=\"stroke:#000000; stroke-linecap:round; stroke-linejoin:round; stroke-width:4; stroke-opacity:1; fill:none\" points=\"894.293,141.221 894.293,1445.72 907.678,1445.72 907.678,141.221 894.293,141.221 \"/>\n",
       "<path clip-path=\"url(#clip042)\" d=\"M907.678 1445.72 L907.678 1445.72 L921.063 1445.72 L921.063 1445.72 L907.678 1445.72 L907.678 1445.72  Z\" fill=\"#e26f46\" fill-rule=\"evenodd\" fill-opacity=\"1\"/>\n",
       "<polyline clip-path=\"url(#clip042)\" style=\"stroke:#000000; stroke-linecap:round; stroke-linejoin:round; stroke-width:4; stroke-opacity:1; fill:none\" points=\"907.678,1445.72 907.678,1445.72 921.063,1445.72 907.678,1445.72 \"/>\n",
       "<path clip-path=\"url(#clip042)\" d=\"M921.063 1445.72 L921.063 1445.72 L934.448 1445.72 L934.448 1445.72 L921.063 1445.72 L921.063 1445.72  Z\" fill=\"#e26f46\" fill-rule=\"evenodd\" fill-opacity=\"1\"/>\n",
       "<polyline clip-path=\"url(#clip042)\" style=\"stroke:#000000; stroke-linecap:round; stroke-linejoin:round; stroke-width:4; stroke-opacity:1; fill:none\" points=\"921.063,1445.72 921.063,1445.72 934.448,1445.72 921.063,1445.72 \"/>\n",
       "<path clip-path=\"url(#clip042)\" d=\"M934.448 1445.72 L934.448 1445.72 L947.834 1445.72 L947.834 1445.72 L934.448 1445.72 L934.448 1445.72  Z\" fill=\"#e26f46\" fill-rule=\"evenodd\" fill-opacity=\"1\"/>\n",
       "<polyline clip-path=\"url(#clip042)\" style=\"stroke:#000000; stroke-linecap:round; stroke-linejoin:round; stroke-width:4; stroke-opacity:1; fill:none\" points=\"934.448,1445.72 934.448,1445.72 947.834,1445.72 934.448,1445.72 \"/>\n",
       "<path clip-path=\"url(#clip042)\" d=\"M947.834 1445.72 L947.834 1445.72 L961.219 1445.72 L961.219 1445.72 L947.834 1445.72 L947.834 1445.72  Z\" fill=\"#e26f46\" fill-rule=\"evenodd\" fill-opacity=\"1\"/>\n",
       "<polyline clip-path=\"url(#clip042)\" style=\"stroke:#000000; stroke-linecap:round; stroke-linejoin:round; stroke-width:4; stroke-opacity:1; fill:none\" points=\"947.834,1445.72 947.834,1445.72 961.219,1445.72 947.834,1445.72 \"/>\n",
       "<path clip-path=\"url(#clip042)\" d=\"M961.219 1445.72 L961.219 1445.72 L974.604 1445.72 L974.604 1445.72 L961.219 1445.72 L961.219 1445.72  Z\" fill=\"#e26f46\" fill-rule=\"evenodd\" fill-opacity=\"1\"/>\n",
       "<polyline clip-path=\"url(#clip042)\" style=\"stroke:#000000; stroke-linecap:round; stroke-linejoin:round; stroke-width:4; stroke-opacity:1; fill:none\" points=\"961.219,1445.72 961.219,1445.72 974.604,1445.72 961.219,1445.72 \"/>\n",
       "<path clip-path=\"url(#clip042)\" d=\"M974.604 1445.72 L974.604 1445.72 L987.989 1445.72 L987.989 1445.72 L974.604 1445.72 L974.604 1445.72  Z\" fill=\"#e26f46\" fill-rule=\"evenodd\" fill-opacity=\"1\"/>\n",
       "<polyline clip-path=\"url(#clip042)\" style=\"stroke:#000000; stroke-linecap:round; stroke-linejoin:round; stroke-width:4; stroke-opacity:1; fill:none\" points=\"974.604,1445.72 974.604,1445.72 987.989,1445.72 974.604,1445.72 \"/>\n",
       "<path clip-path=\"url(#clip042)\" d=\"M987.989 1445.72 L987.989 1445.72 L1001.37 1445.72 L1001.37 1445.72 L987.989 1445.72 L987.989 1445.72  Z\" fill=\"#e26f46\" fill-rule=\"evenodd\" fill-opacity=\"1\"/>\n",
       "<polyline clip-path=\"url(#clip042)\" style=\"stroke:#000000; stroke-linecap:round; stroke-linejoin:round; stroke-width:4; stroke-opacity:1; fill:none\" points=\"987.989,1445.72 987.989,1445.72 1001.37,1445.72 987.989,1445.72 \"/>\n",
       "<path clip-path=\"url(#clip042)\" d=\"M1001.37 1445.72 L1001.37 1445.72 L1014.76 1445.72 L1014.76 1445.72 L1001.37 1445.72 L1001.37 1445.72  Z\" fill=\"#e26f46\" fill-rule=\"evenodd\" fill-opacity=\"1\"/>\n",
       "<polyline clip-path=\"url(#clip042)\" style=\"stroke:#000000; stroke-linecap:round; stroke-linejoin:round; stroke-width:4; stroke-opacity:1; fill:none\" points=\"1001.37,1445.72 1001.37,1445.72 1014.76,1445.72 1001.37,1445.72 \"/>\n",
       "<path clip-path=\"url(#clip042)\" d=\"M1014.76 1445.72 L1014.76 1445.72 L1028.14 1445.72 L1028.14 1445.72 L1014.76 1445.72 L1014.76 1445.72  Z\" fill=\"#e26f46\" fill-rule=\"evenodd\" fill-opacity=\"1\"/>\n",
       "<polyline clip-path=\"url(#clip042)\" style=\"stroke:#000000; stroke-linecap:round; stroke-linejoin:round; stroke-width:4; stroke-opacity:1; fill:none\" points=\"1014.76,1445.72 1014.76,1445.72 1028.14,1445.72 1014.76,1445.72 \"/>\n",
       "<path clip-path=\"url(#clip042)\" d=\"M1028.14 1445.72 L1028.14 1445.72 L1041.53 1445.72 L1041.53 1445.72 L1028.14 1445.72 L1028.14 1445.72  Z\" fill=\"#e26f46\" fill-rule=\"evenodd\" fill-opacity=\"1\"/>\n",
       "<polyline clip-path=\"url(#clip042)\" style=\"stroke:#000000; stroke-linecap:round; stroke-linejoin:round; stroke-width:4; stroke-opacity:1; fill:none\" points=\"1028.14,1445.72 1028.14,1445.72 1041.53,1445.72 1028.14,1445.72 \"/>\n",
       "<path clip-path=\"url(#clip042)\" d=\"M1041.53 1445.72 L1041.53 1445.72 L1054.91 1445.72 L1054.91 1445.72 L1041.53 1445.72 L1041.53 1445.72  Z\" fill=\"#e26f46\" fill-rule=\"evenodd\" fill-opacity=\"1\"/>\n",
       "<polyline clip-path=\"url(#clip042)\" style=\"stroke:#000000; stroke-linecap:round; stroke-linejoin:round; stroke-width:4; stroke-opacity:1; fill:none\" points=\"1041.53,1445.72 1041.53,1445.72 1054.91,1445.72 1041.53,1445.72 \"/>\n",
       "<path clip-path=\"url(#clip042)\" d=\"M1054.91 1445.72 L1054.91 1445.72 L1068.3 1445.72 L1068.3 1445.72 L1054.91 1445.72 L1054.91 1445.72  Z\" fill=\"#e26f46\" fill-rule=\"evenodd\" fill-opacity=\"1\"/>\n",
       "<polyline clip-path=\"url(#clip042)\" style=\"stroke:#000000; stroke-linecap:round; stroke-linejoin:round; stroke-width:4; stroke-opacity:1; fill:none\" points=\"1054.91,1445.72 1054.91,1445.72 1068.3,1445.72 1054.91,1445.72 \"/>\n",
       "<path clip-path=\"url(#clip042)\" d=\"M1068.3 1445.72 L1068.3 1445.72 L1081.69 1445.72 L1081.69 1445.72 L1068.3 1445.72 L1068.3 1445.72  Z\" fill=\"#e26f46\" fill-rule=\"evenodd\" fill-opacity=\"1\"/>\n",
       "<polyline clip-path=\"url(#clip042)\" style=\"stroke:#000000; stroke-linecap:round; stroke-linejoin:round; stroke-width:4; stroke-opacity:1; fill:none\" points=\"1068.3,1445.72 1068.3,1445.72 1081.69,1445.72 1068.3,1445.72 \"/>\n",
       "<path clip-path=\"url(#clip042)\" d=\"M1081.69 1445.72 L1081.69 1445.72 L1095.07 1445.72 L1095.07 1445.72 L1081.69 1445.72 L1081.69 1445.72  Z\" fill=\"#e26f46\" fill-rule=\"evenodd\" fill-opacity=\"1\"/>\n",
       "<polyline clip-path=\"url(#clip042)\" style=\"stroke:#000000; stroke-linecap:round; stroke-linejoin:round; stroke-width:4; stroke-opacity:1; fill:none\" points=\"1081.69,1445.72 1081.69,1445.72 1095.07,1445.72 1081.69,1445.72 \"/>\n",
       "<path clip-path=\"url(#clip042)\" d=\"M1095.07 1445.72 L1095.07 1445.72 L1108.46 1445.72 L1108.46 1445.72 L1095.07 1445.72 L1095.07 1445.72  Z\" fill=\"#e26f46\" fill-rule=\"evenodd\" fill-opacity=\"1\"/>\n",
       "<polyline clip-path=\"url(#clip042)\" style=\"stroke:#000000; stroke-linecap:round; stroke-linejoin:round; stroke-width:4; stroke-opacity:1; fill:none\" points=\"1095.07,1445.72 1095.07,1445.72 1108.46,1445.72 1095.07,1445.72 \"/>\n",
       "<path clip-path=\"url(#clip042)\" d=\"M1108.46 1445.72 L1108.46 1445.72 L1121.84 1445.72 L1121.84 1445.72 L1108.46 1445.72 L1108.46 1445.72  Z\" fill=\"#e26f46\" fill-rule=\"evenodd\" fill-opacity=\"1\"/>\n",
       "<polyline clip-path=\"url(#clip042)\" style=\"stroke:#000000; stroke-linecap:round; stroke-linejoin:round; stroke-width:4; stroke-opacity:1; fill:none\" points=\"1108.46,1445.72 1108.46,1445.72 1121.84,1445.72 1108.46,1445.72 \"/>\n",
       "<path clip-path=\"url(#clip042)\" d=\"M1121.84 1445.72 L1121.84 1445.72 L1135.23 1445.72 L1135.23 1445.72 L1121.84 1445.72 L1121.84 1445.72  Z\" fill=\"#e26f46\" fill-rule=\"evenodd\" fill-opacity=\"1\"/>\n",
       "<polyline clip-path=\"url(#clip042)\" style=\"stroke:#000000; stroke-linecap:round; stroke-linejoin:round; stroke-width:4; stroke-opacity:1; fill:none\" points=\"1121.84,1445.72 1121.84,1445.72 1135.23,1445.72 1121.84,1445.72 \"/>\n",
       "<path clip-path=\"url(#clip042)\" d=\"M1135.23 1445.72 L1135.23 1445.72 L1148.61 1445.72 L1148.61 1445.72 L1135.23 1445.72 L1135.23 1445.72  Z\" fill=\"#e26f46\" fill-rule=\"evenodd\" fill-opacity=\"1\"/>\n",
       "<polyline clip-path=\"url(#clip042)\" style=\"stroke:#000000; stroke-linecap:round; stroke-linejoin:round; stroke-width:4; stroke-opacity:1; fill:none\" points=\"1135.23,1445.72 1135.23,1445.72 1148.61,1445.72 1135.23,1445.72 \"/>\n",
       "<path clip-path=\"url(#clip042)\" d=\"M1148.61 1445.72 L1148.61 1445.72 L1162 1445.72 L1162 1445.72 L1148.61 1445.72 L1148.61 1445.72  Z\" fill=\"#e26f46\" fill-rule=\"evenodd\" fill-opacity=\"1\"/>\n",
       "<polyline clip-path=\"url(#clip042)\" style=\"stroke:#000000; stroke-linecap:round; stroke-linejoin:round; stroke-width:4; stroke-opacity:1; fill:none\" points=\"1148.61,1445.72 1148.61,1445.72 1162,1445.72 1148.61,1445.72 \"/>\n",
       "<path clip-path=\"url(#clip042)\" d=\"M1162 1445.72 L1162 1445.72 L1175.38 1445.72 L1175.38 1445.72 L1162 1445.72 L1162 1445.72  Z\" fill=\"#e26f46\" fill-rule=\"evenodd\" fill-opacity=\"1\"/>\n",
       "<polyline clip-path=\"url(#clip042)\" style=\"stroke:#000000; stroke-linecap:round; stroke-linejoin:round; stroke-width:4; stroke-opacity:1; fill:none\" points=\"1162,1445.72 1162,1445.72 1175.38,1445.72 1162,1445.72 \"/>\n",
       "<path clip-path=\"url(#clip042)\" d=\"M1175.38 1445.72 L1175.38 1445.72 L1188.77 1445.72 L1188.77 1445.72 L1175.38 1445.72 L1175.38 1445.72  Z\" fill=\"#e26f46\" fill-rule=\"evenodd\" fill-opacity=\"1\"/>\n",
       "<polyline clip-path=\"url(#clip042)\" style=\"stroke:#000000; stroke-linecap:round; stroke-linejoin:round; stroke-width:4; stroke-opacity:1; fill:none\" points=\"1175.38,1445.72 1175.38,1445.72 1188.77,1445.72 1175.38,1445.72 \"/>\n",
       "<path clip-path=\"url(#clip042)\" d=\"M1188.77 1445.72 L1188.77 1445.72 L1202.15 1445.72 L1202.15 1445.72 L1188.77 1445.72 L1188.77 1445.72  Z\" fill=\"#e26f46\" fill-rule=\"evenodd\" fill-opacity=\"1\"/>\n",
       "<polyline clip-path=\"url(#clip042)\" style=\"stroke:#000000; stroke-linecap:round; stroke-linejoin:round; stroke-width:4; stroke-opacity:1; fill:none\" points=\"1188.77,1445.72 1188.77,1445.72 1202.15,1445.72 1188.77,1445.72 \"/>\n",
       "<path clip-path=\"url(#clip042)\" d=\"M1202.15 1445.72 L1202.15 1445.72 L1215.54 1445.72 L1215.54 1445.72 L1202.15 1445.72 L1202.15 1445.72  Z\" fill=\"#e26f46\" fill-rule=\"evenodd\" fill-opacity=\"1\"/>\n",
       "<polyline clip-path=\"url(#clip042)\" style=\"stroke:#000000; stroke-linecap:round; stroke-linejoin:round; stroke-width:4; stroke-opacity:1; fill:none\" points=\"1202.15,1445.72 1202.15,1445.72 1215.54,1445.72 1202.15,1445.72 \"/>\n",
       "<path clip-path=\"url(#clip042)\" d=\"M1215.54 1445.72 L1215.54 1445.72 L1228.92 1445.72 L1228.92 1445.72 L1215.54 1445.72 L1215.54 1445.72  Z\" fill=\"#e26f46\" fill-rule=\"evenodd\" fill-opacity=\"1\"/>\n",
       "<polyline clip-path=\"url(#clip042)\" style=\"stroke:#000000; stroke-linecap:round; stroke-linejoin:round; stroke-width:4; stroke-opacity:1; fill:none\" points=\"1215.54,1445.72 1215.54,1445.72 1228.92,1445.72 1215.54,1445.72 \"/>\n",
       "<path clip-path=\"url(#clip042)\" d=\"M1228.92 1445.72 L1228.92 1445.72 L1242.31 1445.72 L1242.31 1445.72 L1228.92 1445.72 L1228.92 1445.72  Z\" fill=\"#e26f46\" fill-rule=\"evenodd\" fill-opacity=\"1\"/>\n",
       "<polyline clip-path=\"url(#clip042)\" style=\"stroke:#000000; stroke-linecap:round; stroke-linejoin:round; stroke-width:4; stroke-opacity:1; fill:none\" points=\"1228.92,1445.72 1228.92,1445.72 1242.31,1445.72 1228.92,1445.72 \"/>\n",
       "<path clip-path=\"url(#clip042)\" d=\"M1242.31 1445.72 L1242.31 1445.72 L1255.69 1445.72 L1255.69 1445.72 L1242.31 1445.72 L1242.31 1445.72  Z\" fill=\"#e26f46\" fill-rule=\"evenodd\" fill-opacity=\"1\"/>\n",
       "<polyline clip-path=\"url(#clip042)\" style=\"stroke:#000000; stroke-linecap:round; stroke-linejoin:round; stroke-width:4; stroke-opacity:1; fill:none\" points=\"1242.31,1445.72 1242.31,1445.72 1255.69,1445.72 1242.31,1445.72 \"/>\n",
       "<path clip-path=\"url(#clip042)\" d=\"M1255.69 1445.72 L1255.69 1445.72 L1269.08 1445.72 L1269.08 1445.72 L1255.69 1445.72 L1255.69 1445.72  Z\" fill=\"#e26f46\" fill-rule=\"evenodd\" fill-opacity=\"1\"/>\n",
       "<polyline clip-path=\"url(#clip042)\" style=\"stroke:#000000; stroke-linecap:round; stroke-linejoin:round; stroke-width:4; stroke-opacity:1; fill:none\" points=\"1255.69,1445.72 1255.69,1445.72 1269.08,1445.72 1255.69,1445.72 \"/>\n",
       "<path clip-path=\"url(#clip042)\" d=\"M1269.08 1445.72 L1269.08 1445.72 L1282.46 1445.72 L1282.46 1445.72 L1269.08 1445.72 L1269.08 1445.72  Z\" fill=\"#e26f46\" fill-rule=\"evenodd\" fill-opacity=\"1\"/>\n",
       "<polyline clip-path=\"url(#clip042)\" style=\"stroke:#000000; stroke-linecap:round; stroke-linejoin:round; stroke-width:4; stroke-opacity:1; fill:none\" points=\"1269.08,1445.72 1269.08,1445.72 1282.46,1445.72 1269.08,1445.72 \"/>\n",
       "<path clip-path=\"url(#clip042)\" d=\"M1282.46 1445.72 L1282.46 1445.72 L1295.85 1445.72 L1295.85 1445.72 L1282.46 1445.72 L1282.46 1445.72  Z\" fill=\"#e26f46\" fill-rule=\"evenodd\" fill-opacity=\"1\"/>\n",
       "<polyline clip-path=\"url(#clip042)\" style=\"stroke:#000000; stroke-linecap:round; stroke-linejoin:round; stroke-width:4; stroke-opacity:1; fill:none\" points=\"1282.46,1445.72 1282.46,1445.72 1295.85,1445.72 1282.46,1445.72 \"/>\n",
       "<path clip-path=\"url(#clip042)\" d=\"M1295.85 87.9763 L1295.85 1445.72 L1309.23 1445.72 L1309.23 87.9763 L1295.85 87.9763 L1295.85 87.9763  Z\" fill=\"#e26f46\" fill-rule=\"evenodd\" fill-opacity=\"1\"/>\n",
       "<polyline clip-path=\"url(#clip042)\" style=\"stroke:#000000; stroke-linecap:round; stroke-linejoin:round; stroke-width:4; stroke-opacity:1; fill:none\" points=\"1295.85,87.9763 1295.85,1445.72 1309.23,1445.72 1309.23,87.9763 1295.85,87.9763 \"/>\n",
       "<circle clip-path=\"url(#clip042)\" style=\"fill:#e26f46; stroke:none; fill-opacity:0\" cx=\"900.985\" cy=\"141.221\" r=\"2\"/>\n",
       "<circle clip-path=\"url(#clip042)\" style=\"fill:#e26f46; stroke:none; fill-opacity:0\" cx=\"914.371\" cy=\"1445.72\" r=\"2\"/>\n",
       "<circle clip-path=\"url(#clip042)\" style=\"fill:#e26f46; stroke:none; fill-opacity:0\" cx=\"927.756\" cy=\"1445.72\" r=\"2\"/>\n",
       "<circle clip-path=\"url(#clip042)\" style=\"fill:#e26f46; stroke:none; fill-opacity:0\" cx=\"941.141\" cy=\"1445.72\" r=\"2\"/>\n",
       "<circle clip-path=\"url(#clip042)\" style=\"fill:#e26f46; stroke:none; fill-opacity:0\" cx=\"954.526\" cy=\"1445.72\" r=\"2\"/>\n",
       "<circle clip-path=\"url(#clip042)\" style=\"fill:#e26f46; stroke:none; fill-opacity:0\" cx=\"967.911\" cy=\"1445.72\" r=\"2\"/>\n",
       "<circle clip-path=\"url(#clip042)\" style=\"fill:#e26f46; stroke:none; fill-opacity:0\" cx=\"981.296\" cy=\"1445.72\" r=\"2\"/>\n",
       "<circle clip-path=\"url(#clip042)\" style=\"fill:#e26f46; stroke:none; fill-opacity:0\" cx=\"994.682\" cy=\"1445.72\" r=\"2\"/>\n",
       "<circle clip-path=\"url(#clip042)\" style=\"fill:#e26f46; stroke:none; fill-opacity:0\" cx=\"1008.07\" cy=\"1445.72\" r=\"2\"/>\n",
       "<circle clip-path=\"url(#clip042)\" style=\"fill:#e26f46; stroke:none; fill-opacity:0\" cx=\"1021.45\" cy=\"1445.72\" r=\"2\"/>\n",
       "<circle clip-path=\"url(#clip042)\" style=\"fill:#e26f46; stroke:none; fill-opacity:0\" cx=\"1034.84\" cy=\"1445.72\" r=\"2\"/>\n",
       "<circle clip-path=\"url(#clip042)\" style=\"fill:#e26f46; stroke:none; fill-opacity:0\" cx=\"1048.22\" cy=\"1445.72\" r=\"2\"/>\n",
       "<circle clip-path=\"url(#clip042)\" style=\"fill:#e26f46; stroke:none; fill-opacity:0\" cx=\"1061.61\" cy=\"1445.72\" r=\"2\"/>\n",
       "<circle clip-path=\"url(#clip042)\" style=\"fill:#e26f46; stroke:none; fill-opacity:0\" cx=\"1074.99\" cy=\"1445.72\" r=\"2\"/>\n",
       "<circle clip-path=\"url(#clip042)\" style=\"fill:#e26f46; stroke:none; fill-opacity:0\" cx=\"1088.38\" cy=\"1445.72\" r=\"2\"/>\n",
       "<circle clip-path=\"url(#clip042)\" style=\"fill:#e26f46; stroke:none; fill-opacity:0\" cx=\"1101.76\" cy=\"1445.72\" r=\"2\"/>\n",
       "<circle clip-path=\"url(#clip042)\" style=\"fill:#e26f46; stroke:none; fill-opacity:0\" cx=\"1115.15\" cy=\"1445.72\" r=\"2\"/>\n",
       "<circle clip-path=\"url(#clip042)\" style=\"fill:#e26f46; stroke:none; fill-opacity:0\" cx=\"1128.53\" cy=\"1445.72\" r=\"2\"/>\n",
       "<circle clip-path=\"url(#clip042)\" style=\"fill:#e26f46; stroke:none; fill-opacity:0\" cx=\"1141.92\" cy=\"1445.72\" r=\"2\"/>\n",
       "<circle clip-path=\"url(#clip042)\" style=\"fill:#e26f46; stroke:none; fill-opacity:0\" cx=\"1155.3\" cy=\"1445.72\" r=\"2\"/>\n",
       "<circle clip-path=\"url(#clip042)\" style=\"fill:#e26f46; stroke:none; fill-opacity:0\" cx=\"1168.69\" cy=\"1445.72\" r=\"2\"/>\n",
       "<circle clip-path=\"url(#clip042)\" style=\"fill:#e26f46; stroke:none; fill-opacity:0\" cx=\"1182.07\" cy=\"1445.72\" r=\"2\"/>\n",
       "<circle clip-path=\"url(#clip042)\" style=\"fill:#e26f46; stroke:none; fill-opacity:0\" cx=\"1195.46\" cy=\"1445.72\" r=\"2\"/>\n",
       "<circle clip-path=\"url(#clip042)\" style=\"fill:#e26f46; stroke:none; fill-opacity:0\" cx=\"1208.84\" cy=\"1445.72\" r=\"2\"/>\n",
       "<circle clip-path=\"url(#clip042)\" style=\"fill:#e26f46; stroke:none; fill-opacity:0\" cx=\"1222.23\" cy=\"1445.72\" r=\"2\"/>\n",
       "<circle clip-path=\"url(#clip042)\" style=\"fill:#e26f46; stroke:none; fill-opacity:0\" cx=\"1235.61\" cy=\"1445.72\" r=\"2\"/>\n",
       "<circle clip-path=\"url(#clip042)\" style=\"fill:#e26f46; stroke:none; fill-opacity:0\" cx=\"1249\" cy=\"1445.72\" r=\"2\"/>\n",
       "<circle clip-path=\"url(#clip042)\" style=\"fill:#e26f46; stroke:none; fill-opacity:0\" cx=\"1262.39\" cy=\"1445.72\" r=\"2\"/>\n",
       "<circle clip-path=\"url(#clip042)\" style=\"fill:#e26f46; stroke:none; fill-opacity:0\" cx=\"1275.77\" cy=\"1445.72\" r=\"2\"/>\n",
       "<circle clip-path=\"url(#clip042)\" style=\"fill:#e26f46; stroke:none; fill-opacity:0\" cx=\"1289.16\" cy=\"1445.72\" r=\"2\"/>\n",
       "<circle clip-path=\"url(#clip042)\" style=\"fill:#e26f46; stroke:none; fill-opacity:0\" cx=\"1302.54\" cy=\"87.9763\" r=\"2\"/>\n",
       "<path clip-path=\"url(#clip040)\" d=\"M2009.56 250.738 L2280.06 250.738 L2280.06 95.2176 L2009.56 95.2176  Z\" fill=\"#ffffff\" fill-rule=\"evenodd\" fill-opacity=\"1\"/>\n",
       "<polyline clip-path=\"url(#clip040)\" style=\"stroke:#000000; stroke-linecap:round; stroke-linejoin:round; stroke-width:4; stroke-opacity:1; fill:none\" points=\"2009.56,250.738 2280.06,250.738 2280.06,95.2176 2009.56,95.2176 2009.56,250.738 \"/>\n",
       "<path clip-path=\"url(#clip040)\" d=\"M2033.79 167.794 L2179.17 167.794 L2179.17 126.322 L2033.79 126.322 L2033.79 167.794  Z\" fill=\"#009af9\" fill-rule=\"evenodd\" fill-opacity=\"1\"/>\n",
       "<polyline clip-path=\"url(#clip040)\" style=\"stroke:#000000; stroke-linecap:round; stroke-linejoin:round; stroke-width:4; stroke-opacity:1; fill:none\" points=\"2033.79,167.794 2179.17,167.794 2179.17,126.322 2033.79,126.322 2033.79,167.794 \"/>\n",
       "<path clip-path=\"url(#clip040)\" d=\"M2217.25 166.745 Q2215.44 171.375 2213.73 172.787 Q2212.01 174.199 2209.14 174.199 L2205.74 174.199 L2205.74 170.634 L2208.24 170.634 Q2210 170.634 2210.97 169.8 Q2211.95 168.967 2213.13 165.865 L2213.89 163.921 L2203.4 138.412 L2207.92 138.412 L2216.02 158.689 L2224.12 138.412 L2228.64 138.412 L2217.25 166.745 Z\" fill=\"#000000\" fill-rule=\"evenodd\" fill-opacity=\"1\" /><path clip-path=\"url(#clip040)\" d=\"M2235.93 160.402 L2243.57 160.402 L2243.57 134.037 L2235.26 135.703 L2235.26 131.444 L2243.52 129.778 L2248.2 129.778 L2248.2 160.402 L2255.83 160.402 L2255.83 164.338 L2235.93 164.338 L2235.93 160.402 Z\" fill=\"#000000\" fill-rule=\"evenodd\" fill-opacity=\"1\" /><path clip-path=\"url(#clip040)\" d=\"M2033.79 219.634 L2179.17 219.634 L2179.17 178.162 L2033.79 178.162 L2033.79 219.634  Z\" fill=\"#e26f46\" fill-rule=\"evenodd\" fill-opacity=\"1\"/>\n",
       "<polyline clip-path=\"url(#clip040)\" style=\"stroke:#000000; stroke-linecap:round; stroke-linejoin:round; stroke-width:4; stroke-opacity:1; fill:none\" points=\"2033.79,219.634 2179.17,219.634 2179.17,178.162 2033.79,178.162 2033.79,219.634 \"/>\n",
       "<path clip-path=\"url(#clip040)\" d=\"M2217.25 218.585 Q2215.44 223.215 2213.73 224.627 Q2212.01 226.039 2209.14 226.039 L2205.74 226.039 L2205.74 222.474 L2208.24 222.474 Q2210 222.474 2210.97 221.64 Q2211.95 220.807 2213.13 217.705 L2213.89 215.761 L2203.4 190.252 L2207.92 190.252 L2216.02 210.529 L2224.12 190.252 L2228.64 190.252 L2217.25 218.585 Z\" fill=\"#000000\" fill-rule=\"evenodd\" fill-opacity=\"1\" /><path clip-path=\"url(#clip040)\" d=\"M2239.14 212.242 L2255.46 212.242 L2255.46 216.178 L2233.52 216.178 L2233.52 212.242 Q2236.18 209.488 2240.76 204.858 Q2245.37 200.205 2246.55 198.863 Q2248.8 196.34 2249.68 194.604 Q2250.58 192.844 2250.58 191.155 Q2250.58 188.4 2248.64 186.664 Q2246.71 184.928 2243.61 184.928 Q2241.41 184.928 2238.96 185.692 Q2236.53 186.455 2233.75 188.006 L2233.75 183.284 Q2236.57 182.15 2239.03 181.571 Q2241.48 180.993 2243.52 180.993 Q2248.89 180.993 2252.08 183.678 Q2255.28 186.363 2255.28 190.854 Q2255.28 192.983 2254.47 194.905 Q2253.68 196.803 2251.57 199.395 Q2251 200.067 2247.89 203.284 Q2244.79 206.479 2239.14 212.242 Z\" fill=\"#000000\" fill-rule=\"evenodd\" fill-opacity=\"1\" /></svg>\n"
      ]
     },
     "execution_count": 23,
     "metadata": {},
     "output_type": "execute_result"
    }
   ],
   "source": [
    "x = rand(Normal(5, 2), 1000)\n",
    "c = Binomial()\n",
    "y = rand((5,2),1000)\n",
    "histogram(x,bins=50)\n",
    "histogram!(y,bins=50)"
   ]
  },
  {
   "cell_type": "markdown",
   "id": "b90287bd",
   "metadata": {},
   "source": [
    "### 3.6\n",
    "\n",
    "#### Draw 10000 samples from the two distributions separately and plot them in the same plot"
   ]
  },
  {
   "cell_type": "code",
   "execution_count": 25,
   "id": "98a69dd1",
   "metadata": {},
   "outputs": [
    {
     "data": {
      "image/svg+xml": [
       "<?xml version=\"1.0\" encoding=\"utf-8\"?>\n",
       "<svg xmlns=\"http://www.w3.org/2000/svg\" xmlns:xlink=\"http://www.w3.org/1999/xlink\" width=\"600\" height=\"400\" viewBox=\"0 0 2400 1600\">\n",
       "<defs>\n",
       "  <clipPath id=\"clip120\">\n",
       "    <rect x=\"0\" y=\"0\" width=\"2400\" height=\"1600\"/>\n",
       "  </clipPath>\n",
       "</defs>\n",
       "<path clip-path=\"url(#clip120)\" d=\"M0 1600 L2400 1600 L2400 0 L0 0  Z\" fill=\"#ffffff\" fill-rule=\"evenodd\" fill-opacity=\"1\"/>\n",
       "<defs>\n",
       "  <clipPath id=\"clip121\">\n",
       "    <rect x=\"480\" y=\"0\" width=\"1681\" height=\"1600\"/>\n",
       "  </clipPath>\n",
       "</defs>\n",
       "<path clip-path=\"url(#clip120)\" d=\"M202.177 1486.45 L2352.76 1486.45 L2352.76 47.2441 L202.177 47.2441  Z\" fill=\"#ffffff\" fill-rule=\"evenodd\" fill-opacity=\"1\"/>\n",
       "<defs>\n",
       "  <clipPath id=\"clip122\">\n",
       "    <rect x=\"202\" y=\"47\" width=\"2152\" height=\"1440\"/>\n",
       "  </clipPath>\n",
       "</defs>\n",
       "<polyline clip-path=\"url(#clip122)\" style=\"stroke:#000000; stroke-linecap:round; stroke-linejoin:round; stroke-width:2; stroke-opacity:0.1; fill:none\" points=\"443.947,1486.45 443.947,47.2441 \"/>\n",
       "<polyline clip-path=\"url(#clip122)\" style=\"stroke:#000000; stroke-linecap:round; stroke-linejoin:round; stroke-width:2; stroke-opacity:0.1; fill:none\" points=\"690.916,1486.45 690.916,47.2441 \"/>\n",
       "<polyline clip-path=\"url(#clip122)\" style=\"stroke:#000000; stroke-linecap:round; stroke-linejoin:round; stroke-width:2; stroke-opacity:0.1; fill:none\" points=\"937.884,1486.45 937.884,47.2441 \"/>\n",
       "<polyline clip-path=\"url(#clip122)\" style=\"stroke:#000000; stroke-linecap:round; stroke-linejoin:round; stroke-width:2; stroke-opacity:0.1; fill:none\" points=\"1184.85,1486.45 1184.85,47.2441 \"/>\n",
       "<polyline clip-path=\"url(#clip122)\" style=\"stroke:#000000; stroke-linecap:round; stroke-linejoin:round; stroke-width:2; stroke-opacity:0.1; fill:none\" points=\"1431.82,1486.45 1431.82,47.2441 \"/>\n",
       "<polyline clip-path=\"url(#clip122)\" style=\"stroke:#000000; stroke-linecap:round; stroke-linejoin:round; stroke-width:2; stroke-opacity:0.1; fill:none\" points=\"1678.79,1486.45 1678.79,47.2441 \"/>\n",
       "<polyline clip-path=\"url(#clip122)\" style=\"stroke:#000000; stroke-linecap:round; stroke-linejoin:round; stroke-width:2; stroke-opacity:0.1; fill:none\" points=\"1925.76,1486.45 1925.76,47.2441 \"/>\n",
       "<polyline clip-path=\"url(#clip122)\" style=\"stroke:#000000; stroke-linecap:round; stroke-linejoin:round; stroke-width:2; stroke-opacity:0.1; fill:none\" points=\"2172.73,1486.45 2172.73,47.2441 \"/>\n",
       "<polyline clip-path=\"url(#clip120)\" style=\"stroke:#000000; stroke-linecap:round; stroke-linejoin:round; stroke-width:4; stroke-opacity:1; fill:none\" points=\"202.177,1486.45 2352.76,1486.45 \"/>\n",
       "<polyline clip-path=\"url(#clip120)\" style=\"stroke:#000000; stroke-linecap:round; stroke-linejoin:round; stroke-width:4; stroke-opacity:1; fill:none\" points=\"443.947,1486.45 443.947,1467.55 \"/>\n",
       "<polyline clip-path=\"url(#clip120)\" style=\"stroke:#000000; stroke-linecap:round; stroke-linejoin:round; stroke-width:4; stroke-opacity:1; fill:none\" points=\"690.916,1486.45 690.916,1467.55 \"/>\n",
       "<polyline clip-path=\"url(#clip120)\" style=\"stroke:#000000; stroke-linecap:round; stroke-linejoin:round; stroke-width:4; stroke-opacity:1; fill:none\" points=\"937.884,1486.45 937.884,1467.55 \"/>\n",
       "<polyline clip-path=\"url(#clip120)\" style=\"stroke:#000000; stroke-linecap:round; stroke-linejoin:round; stroke-width:4; stroke-opacity:1; fill:none\" points=\"1184.85,1486.45 1184.85,1467.55 \"/>\n",
       "<polyline clip-path=\"url(#clip120)\" style=\"stroke:#000000; stroke-linecap:round; stroke-linejoin:round; stroke-width:4; stroke-opacity:1; fill:none\" points=\"1431.82,1486.45 1431.82,1467.55 \"/>\n",
       "<polyline clip-path=\"url(#clip120)\" style=\"stroke:#000000; stroke-linecap:round; stroke-linejoin:round; stroke-width:4; stroke-opacity:1; fill:none\" points=\"1678.79,1486.45 1678.79,1467.55 \"/>\n",
       "<polyline clip-path=\"url(#clip120)\" style=\"stroke:#000000; stroke-linecap:round; stroke-linejoin:round; stroke-width:4; stroke-opacity:1; fill:none\" points=\"1925.76,1486.45 1925.76,1467.55 \"/>\n",
       "<polyline clip-path=\"url(#clip120)\" style=\"stroke:#000000; stroke-linecap:round; stroke-linejoin:round; stroke-width:4; stroke-opacity:1; fill:none\" points=\"2172.73,1486.45 2172.73,1467.55 \"/>\n",
       "<path clip-path=\"url(#clip120)\" d=\"M413.889 1532.02 L443.565 1532.02 L443.565 1535.95 L413.889 1535.95 L413.889 1532.02 Z\" fill=\"#000000\" fill-rule=\"evenodd\" fill-opacity=\"1\" /><path clip-path=\"url(#clip120)\" d=\"M457.685 1544.91 L474.004 1544.91 L474.004 1548.85 L452.06 1548.85 L452.06 1544.91 Q454.722 1542.16 459.305 1537.53 Q463.912 1532.88 465.092 1531.53 Q467.338 1529.01 468.217 1527.27 Q469.12 1525.51 469.12 1523.82 Q469.12 1521.07 467.176 1519.33 Q465.255 1517.6 462.153 1517.6 Q459.954 1517.6 457.5 1518.36 Q455.069 1519.13 452.292 1520.68 L452.292 1515.95 Q455.116 1514.82 457.569 1514.24 Q460.023 1513.66 462.06 1513.66 Q467.43 1513.66 470.625 1516.35 Q473.819 1519.03 473.819 1523.52 Q473.819 1525.65 473.009 1527.57 Q472.222 1529.47 470.116 1532.07 Q469.537 1532.74 466.435 1535.95 Q463.333 1539.15 457.685 1544.91 Z\" fill=\"#000000\" fill-rule=\"evenodd\" fill-opacity=\"1\" /><path clip-path=\"url(#clip120)\" d=\"M690.916 1517.37 Q687.304 1517.37 685.476 1520.93 Q683.67 1524.47 683.67 1531.6 Q683.67 1538.71 685.476 1542.27 Q687.304 1545.82 690.916 1545.82 Q694.55 1545.82 696.355 1542.27 Q698.184 1538.71 698.184 1531.6 Q698.184 1524.47 696.355 1520.93 Q694.55 1517.37 690.916 1517.37 M690.916 1513.66 Q696.726 1513.66 699.781 1518.27 Q702.86 1522.85 702.86 1531.6 Q702.86 1540.33 699.781 1544.94 Q696.726 1549.52 690.916 1549.52 Q685.105 1549.52 682.027 1544.94 Q678.971 1540.33 678.971 1531.6 Q678.971 1522.85 682.027 1518.27 Q685.105 1513.66 690.916 1513.66 Z\" fill=\"#000000\" fill-rule=\"evenodd\" fill-opacity=\"1\" /><path clip-path=\"url(#clip120)\" d=\"M932.537 1544.91 L948.856 1544.91 L948.856 1548.85 L926.912 1548.85 L926.912 1544.91 Q929.574 1542.16 934.157 1537.53 Q938.764 1532.88 939.944 1531.53 Q942.19 1529.01 943.069 1527.27 Q943.972 1525.51 943.972 1523.82 Q943.972 1521.07 942.028 1519.33 Q940.106 1517.6 937.005 1517.6 Q934.806 1517.6 932.352 1518.36 Q929.921 1519.13 927.144 1520.68 L927.144 1515.95 Q929.968 1514.82 932.421 1514.24 Q934.875 1513.66 936.912 1513.66 Q942.282 1513.66 945.477 1516.35 Q948.671 1519.03 948.671 1523.52 Q948.671 1525.65 947.861 1527.57 Q947.074 1529.47 944.968 1532.07 Q944.389 1532.74 941.287 1535.95 Q938.185 1539.15 932.537 1544.91 Z\" fill=\"#000000\" fill-rule=\"evenodd\" fill-opacity=\"1\" /><path clip-path=\"url(#clip120)\" d=\"M1187.86 1518.36 L1176.06 1536.81 L1187.86 1536.81 L1187.86 1518.36 M1186.64 1514.29 L1192.52 1514.29 L1192.52 1536.81 L1197.45 1536.81 L1197.45 1540.7 L1192.52 1540.7 L1192.52 1548.85 L1187.86 1548.85 L1187.86 1540.7 L1172.26 1540.7 L1172.26 1536.19 L1186.64 1514.29 Z\" fill=\"#000000\" fill-rule=\"evenodd\" fill-opacity=\"1\" /><path clip-path=\"url(#clip120)\" d=\"M1432.23 1529.7 Q1429.08 1529.7 1427.23 1531.86 Q1425.4 1534.01 1425.4 1537.76 Q1425.4 1541.49 1427.23 1543.66 Q1429.08 1545.82 1432.23 1545.82 Q1435.37 1545.82 1437.2 1543.66 Q1439.06 1541.49 1439.06 1537.76 Q1439.06 1534.01 1437.2 1531.86 Q1435.37 1529.7 1432.23 1529.7 M1441.51 1515.05 L1441.51 1519.31 Q1439.75 1518.48 1437.94 1518.04 Q1436.16 1517.6 1434.4 1517.6 Q1429.77 1517.6 1427.32 1520.72 Q1424.89 1523.85 1424.54 1530.17 Q1425.91 1528.15 1427.97 1527.09 Q1430.03 1526 1432.5 1526 Q1437.71 1526 1440.72 1529.17 Q1443.75 1532.32 1443.75 1537.76 Q1443.75 1543.08 1440.61 1546.3 Q1437.46 1549.52 1432.23 1549.52 Q1426.23 1549.52 1423.06 1544.94 Q1419.89 1540.33 1419.89 1531.6 Q1419.89 1523.41 1423.78 1518.55 Q1427.67 1513.66 1434.22 1513.66 Q1435.98 1513.66 1437.76 1514.01 Q1439.56 1514.36 1441.51 1515.05 Z\" fill=\"#000000\" fill-rule=\"evenodd\" fill-opacity=\"1\" /><path clip-path=\"url(#clip120)\" d=\"M1678.79 1532.44 Q1675.46 1532.44 1673.54 1534.22 Q1671.64 1536 1671.64 1539.13 Q1671.64 1542.25 1673.54 1544.03 Q1675.46 1545.82 1678.79 1545.82 Q1682.12 1545.82 1684.05 1544.03 Q1685.97 1542.23 1685.97 1539.13 Q1685.97 1536 1684.05 1534.22 Q1682.15 1532.44 1678.79 1532.44 M1674.11 1530.45 Q1671.11 1529.7 1669.42 1527.64 Q1667.75 1525.58 1667.75 1522.62 Q1667.75 1518.48 1670.69 1516.07 Q1673.65 1513.66 1678.79 1513.66 Q1683.95 1513.66 1686.89 1516.07 Q1689.83 1518.48 1689.83 1522.62 Q1689.83 1525.58 1688.14 1527.64 Q1686.48 1529.7 1683.49 1530.45 Q1686.87 1531.23 1688.74 1533.52 Q1690.64 1535.82 1690.64 1539.13 Q1690.64 1544.15 1687.56 1546.83 Q1684.51 1549.52 1678.79 1549.52 Q1673.07 1549.52 1669.99 1546.83 Q1666.94 1544.15 1666.94 1539.13 Q1666.94 1535.82 1668.84 1533.52 Q1670.74 1531.23 1674.11 1530.45 M1672.4 1523.06 Q1672.4 1525.75 1674.07 1527.25 Q1675.76 1528.76 1678.79 1528.76 Q1681.8 1528.76 1683.49 1527.25 Q1685.2 1525.75 1685.2 1523.06 Q1685.2 1520.38 1683.49 1518.87 Q1681.8 1517.37 1678.79 1517.37 Q1675.76 1517.37 1674.07 1518.87 Q1672.4 1520.38 1672.4 1523.06 Z\" fill=\"#000000\" fill-rule=\"evenodd\" fill-opacity=\"1\" /><path clip-path=\"url(#clip120)\" d=\"M1900.45 1544.91 L1908.09 1544.91 L1908.09 1518.55 L1899.78 1520.21 L1899.78 1515.95 L1908.04 1514.29 L1912.72 1514.29 L1912.72 1544.91 L1920.35 1544.91 L1920.35 1548.85 L1900.45 1548.85 L1900.45 1544.91 Z\" fill=\"#000000\" fill-rule=\"evenodd\" fill-opacity=\"1\" /><path clip-path=\"url(#clip120)\" d=\"M1939.8 1517.37 Q1936.19 1517.37 1934.36 1520.93 Q1932.55 1524.47 1932.55 1531.6 Q1932.55 1538.71 1934.36 1542.27 Q1936.19 1545.82 1939.8 1545.82 Q1943.43 1545.82 1945.24 1542.27 Q1947.07 1538.71 1947.07 1531.6 Q1947.07 1524.47 1945.24 1520.93 Q1943.43 1517.37 1939.8 1517.37 M1939.8 1513.66 Q1945.61 1513.66 1948.66 1518.27 Q1951.74 1522.85 1951.74 1531.6 Q1951.74 1540.33 1948.66 1544.94 Q1945.61 1549.52 1939.8 1549.52 Q1933.99 1549.52 1930.91 1544.94 Q1927.85 1540.33 1927.85 1531.6 Q1927.85 1522.85 1930.91 1518.27 Q1933.99 1513.66 1939.8 1513.66 Z\" fill=\"#000000\" fill-rule=\"evenodd\" fill-opacity=\"1\" /><path clip-path=\"url(#clip120)\" d=\"M2148.21 1544.91 L2155.85 1544.91 L2155.85 1518.55 L2147.54 1520.21 L2147.54 1515.95 L2155.81 1514.29 L2160.48 1514.29 L2160.48 1544.91 L2168.12 1544.91 L2168.12 1548.85 L2148.21 1548.85 L2148.21 1544.91 Z\" fill=\"#000000\" fill-rule=\"evenodd\" fill-opacity=\"1\" /><path clip-path=\"url(#clip120)\" d=\"M2181.59 1544.91 L2197.91 1544.91 L2197.91 1548.85 L2175.97 1548.85 L2175.97 1544.91 Q2178.63 1542.16 2183.21 1537.53 Q2187.82 1532.88 2189 1531.53 Q2191.25 1529.01 2192.13 1527.27 Q2193.03 1525.51 2193.03 1523.82 Q2193.03 1521.07 2191.08 1519.33 Q2189.16 1517.6 2186.06 1517.6 Q2183.86 1517.6 2181.41 1518.36 Q2178.98 1519.13 2176.2 1520.68 L2176.2 1515.95 Q2179.02 1514.82 2181.48 1514.24 Q2183.93 1513.66 2185.97 1513.66 Q2191.34 1513.66 2194.53 1516.35 Q2197.73 1519.03 2197.73 1523.52 Q2197.73 1525.65 2196.92 1527.57 Q2196.13 1529.47 2194.02 1532.07 Q2193.45 1532.74 2190.34 1535.95 Q2187.24 1539.15 2181.59 1544.91 Z\" fill=\"#000000\" fill-rule=\"evenodd\" fill-opacity=\"1\" /><polyline clip-path=\"url(#clip122)\" style=\"stroke:#000000; stroke-linecap:round; stroke-linejoin:round; stroke-width:2; stroke-opacity:0.1; fill:none\" points=\"202.177,1445.72 2352.76,1445.72 \"/>\n",
       "<polyline clip-path=\"url(#clip122)\" style=\"stroke:#000000; stroke-linecap:round; stroke-linejoin:round; stroke-width:2; stroke-opacity:0.1; fill:none\" points=\"202.177,1175.63 2352.76,1175.63 \"/>\n",
       "<polyline clip-path=\"url(#clip122)\" style=\"stroke:#000000; stroke-linecap:round; stroke-linejoin:round; stroke-width:2; stroke-opacity:0.1; fill:none\" points=\"202.177,905.537 2352.76,905.537 \"/>\n",
       "<polyline clip-path=\"url(#clip122)\" style=\"stroke:#000000; stroke-linecap:round; stroke-linejoin:round; stroke-width:2; stroke-opacity:0.1; fill:none\" points=\"202.177,635.447 2352.76,635.447 \"/>\n",
       "<polyline clip-path=\"url(#clip122)\" style=\"stroke:#000000; stroke-linecap:round; stroke-linejoin:round; stroke-width:2; stroke-opacity:0.1; fill:none\" points=\"202.177,365.358 2352.76,365.358 \"/>\n",
       "<polyline clip-path=\"url(#clip122)\" style=\"stroke:#000000; stroke-linecap:round; stroke-linejoin:round; stroke-width:2; stroke-opacity:0.1; fill:none\" points=\"202.177,95.2687 2352.76,95.2687 \"/>\n",
       "<polyline clip-path=\"url(#clip120)\" style=\"stroke:#000000; stroke-linecap:round; stroke-linejoin:round; stroke-width:4; stroke-opacity:1; fill:none\" points=\"202.177,1486.45 202.177,47.2441 \"/>\n",
       "<polyline clip-path=\"url(#clip120)\" style=\"stroke:#000000; stroke-linecap:round; stroke-linejoin:round; stroke-width:4; stroke-opacity:1; fill:none\" points=\"202.177,1445.72 221.074,1445.72 \"/>\n",
       "<polyline clip-path=\"url(#clip120)\" style=\"stroke:#000000; stroke-linecap:round; stroke-linejoin:round; stroke-width:4; stroke-opacity:1; fill:none\" points=\"202.177,1175.63 221.074,1175.63 \"/>\n",
       "<polyline clip-path=\"url(#clip120)\" style=\"stroke:#000000; stroke-linecap:round; stroke-linejoin:round; stroke-width:4; stroke-opacity:1; fill:none\" points=\"202.177,905.537 221.074,905.537 \"/>\n",
       "<polyline clip-path=\"url(#clip120)\" style=\"stroke:#000000; stroke-linecap:round; stroke-linejoin:round; stroke-width:4; stroke-opacity:1; fill:none\" points=\"202.177,635.447 221.074,635.447 \"/>\n",
       "<polyline clip-path=\"url(#clip120)\" style=\"stroke:#000000; stroke-linecap:round; stroke-linejoin:round; stroke-width:4; stroke-opacity:1; fill:none\" points=\"202.177,365.358 221.074,365.358 \"/>\n",
       "<polyline clip-path=\"url(#clip120)\" style=\"stroke:#000000; stroke-linecap:round; stroke-linejoin:round; stroke-width:4; stroke-opacity:1; fill:none\" points=\"202.177,95.2687 221.074,95.2687 \"/>\n",
       "<path clip-path=\"url(#clip120)\" d=\"M154.232 1431.51 Q150.621 1431.51 148.793 1435.08 Q146.987 1438.62 146.987 1445.75 Q146.987 1452.86 148.793 1456.42 Q150.621 1459.96 154.232 1459.96 Q157.867 1459.96 159.672 1456.42 Q161.501 1452.86 161.501 1445.75 Q161.501 1438.62 159.672 1435.08 Q157.867 1431.51 154.232 1431.51 M154.232 1427.81 Q160.042 1427.81 163.098 1432.42 Q166.177 1437 166.177 1445.75 Q166.177 1454.48 163.098 1459.08 Q160.042 1463.67 154.232 1463.67 Q148.422 1463.67 145.343 1459.08 Q142.288 1454.48 142.288 1445.75 Q142.288 1437 145.343 1432.42 Q148.422 1427.81 154.232 1427.81 Z\" fill=\"#000000\" fill-rule=\"evenodd\" fill-opacity=\"1\" /><path clip-path=\"url(#clip120)\" d=\"M54.5569 1188.97 L62.1958 1188.97 L62.1958 1162.61 L53.8856 1164.27 L53.8856 1160.01 L62.1495 1158.35 L66.8254 1158.35 L66.8254 1188.97 L74.4642 1188.97 L74.4642 1192.91 L54.5569 1192.91 L54.5569 1188.97 Z\" fill=\"#000000\" fill-rule=\"evenodd\" fill-opacity=\"1\" /><path clip-path=\"url(#clip120)\" d=\"M93.9086 1161.42 Q90.2975 1161.42 88.4688 1164.99 Q86.6632 1168.53 86.6632 1175.66 Q86.6632 1182.77 88.4688 1186.33 Q90.2975 1189.87 93.9086 1189.87 Q97.5428 1189.87 99.3483 1186.33 Q101.177 1182.77 101.177 1175.66 Q101.177 1168.53 99.3483 1164.99 Q97.5428 1161.42 93.9086 1161.42 M93.9086 1157.72 Q99.7187 1157.72 102.774 1162.33 Q105.853 1166.91 105.853 1175.66 Q105.853 1184.39 102.774 1188.99 Q99.7187 1193.58 93.9086 1193.58 Q88.0984 1193.58 85.0197 1188.99 Q81.9642 1184.39 81.9642 1175.66 Q81.9642 1166.91 85.0197 1162.33 Q88.0984 1157.72 93.9086 1157.72 Z\" fill=\"#000000\" fill-rule=\"evenodd\" fill-opacity=\"1\" /><path clip-path=\"url(#clip120)\" d=\"M124.07 1161.42 Q120.459 1161.42 118.631 1164.99 Q116.825 1168.53 116.825 1175.66 Q116.825 1182.77 118.631 1186.33 Q120.459 1189.87 124.07 1189.87 Q127.705 1189.87 129.51 1186.33 Q131.339 1182.77 131.339 1175.66 Q131.339 1168.53 129.51 1164.99 Q127.705 1161.42 124.07 1161.42 M124.07 1157.72 Q129.881 1157.72 132.936 1162.33 Q136.015 1166.91 136.015 1175.66 Q136.015 1184.39 132.936 1188.99 Q129.881 1193.58 124.07 1193.58 Q118.26 1193.58 115.182 1188.99 Q112.126 1184.39 112.126 1175.66 Q112.126 1166.91 115.182 1162.33 Q118.26 1157.72 124.07 1157.72 Z\" fill=\"#000000\" fill-rule=\"evenodd\" fill-opacity=\"1\" /><path clip-path=\"url(#clip120)\" d=\"M154.232 1161.42 Q150.621 1161.42 148.793 1164.99 Q146.987 1168.53 146.987 1175.66 Q146.987 1182.77 148.793 1186.33 Q150.621 1189.87 154.232 1189.87 Q157.867 1189.87 159.672 1186.33 Q161.501 1182.77 161.501 1175.66 Q161.501 1168.53 159.672 1164.99 Q157.867 1161.42 154.232 1161.42 M154.232 1157.72 Q160.042 1157.72 163.098 1162.33 Q166.177 1166.91 166.177 1175.66 Q166.177 1184.39 163.098 1188.99 Q160.042 1193.58 154.232 1193.58 Q148.422 1193.58 145.343 1188.99 Q142.288 1184.39 142.288 1175.66 Q142.288 1166.91 145.343 1162.33 Q148.422 1157.72 154.232 1157.72 Z\" fill=\"#000000\" fill-rule=\"evenodd\" fill-opacity=\"1\" /><path clip-path=\"url(#clip120)\" d=\"M57.7745 918.882 L74.0939 918.882 L74.0939 922.817 L52.1495 922.817 L52.1495 918.882 Q54.8115 916.127 59.3949 911.498 Q64.0013 906.845 65.1819 905.502 Q67.4272 902.979 68.3068 901.243 Q69.2096 899.484 69.2096 897.794 Q69.2096 895.039 67.2652 893.303 Q65.3439 891.567 62.2421 891.567 Q60.043 891.567 57.5893 892.331 Q55.1588 893.095 52.381 894.646 L52.381 889.924 Q55.2051 888.789 57.6588 888.211 Q60.1124 887.632 62.1495 887.632 Q67.5198 887.632 70.7142 890.317 Q73.9087 893.002 73.9087 897.493 Q73.9087 899.623 73.0985 901.544 Q72.3115 903.442 70.205 906.035 Q69.6263 906.706 66.5245 909.923 Q63.4226 913.118 57.7745 918.882 Z\" fill=\"#000000\" fill-rule=\"evenodd\" fill-opacity=\"1\" /><path clip-path=\"url(#clip120)\" d=\"M93.9086 891.336 Q90.2975 891.336 88.4688 894.9 Q86.6632 898.442 86.6632 905.572 Q86.6632 912.678 88.4688 916.243 Q90.2975 919.785 93.9086 919.785 Q97.5428 919.785 99.3483 916.243 Q101.177 912.678 101.177 905.572 Q101.177 898.442 99.3483 894.9 Q97.5428 891.336 93.9086 891.336 M93.9086 887.632 Q99.7187 887.632 102.774 892.238 Q105.853 896.822 105.853 905.572 Q105.853 914.298 102.774 918.905 Q99.7187 923.488 93.9086 923.488 Q88.0984 923.488 85.0197 918.905 Q81.9642 914.298 81.9642 905.572 Q81.9642 896.822 85.0197 892.238 Q88.0984 887.632 93.9086 887.632 Z\" fill=\"#000000\" fill-rule=\"evenodd\" fill-opacity=\"1\" /><path clip-path=\"url(#clip120)\" d=\"M124.07 891.336 Q120.459 891.336 118.631 894.9 Q116.825 898.442 116.825 905.572 Q116.825 912.678 118.631 916.243 Q120.459 919.785 124.07 919.785 Q127.705 919.785 129.51 916.243 Q131.339 912.678 131.339 905.572 Q131.339 898.442 129.51 894.9 Q127.705 891.336 124.07 891.336 M124.07 887.632 Q129.881 887.632 132.936 892.238 Q136.015 896.822 136.015 905.572 Q136.015 914.298 132.936 918.905 Q129.881 923.488 124.07 923.488 Q118.26 923.488 115.182 918.905 Q112.126 914.298 112.126 905.572 Q112.126 896.822 115.182 892.238 Q118.26 887.632 124.07 887.632 Z\" fill=\"#000000\" fill-rule=\"evenodd\" fill-opacity=\"1\" /><path clip-path=\"url(#clip120)\" d=\"M154.232 891.336 Q150.621 891.336 148.793 894.9 Q146.987 898.442 146.987 905.572 Q146.987 912.678 148.793 916.243 Q150.621 919.785 154.232 919.785 Q157.867 919.785 159.672 916.243 Q161.501 912.678 161.501 905.572 Q161.501 898.442 159.672 894.9 Q157.867 891.336 154.232 891.336 M154.232 887.632 Q160.042 887.632 163.098 892.238 Q166.177 896.822 166.177 905.572 Q166.177 914.298 163.098 918.905 Q160.042 923.488 154.232 923.488 Q148.422 923.488 145.343 918.905 Q142.288 914.298 142.288 905.572 Q142.288 896.822 145.343 892.238 Q148.422 887.632 154.232 887.632 Z\" fill=\"#000000\" fill-rule=\"evenodd\" fill-opacity=\"1\" /><path clip-path=\"url(#clip120)\" d=\"M67.9133 634.093 Q71.2698 634.811 73.1448 637.079 Q75.0429 639.348 75.0429 642.681 Q75.0429 647.797 71.5244 650.598 Q68.0059 653.399 61.5245 653.399 Q59.3486 653.399 57.0338 652.959 Q54.7421 652.542 52.2884 651.686 L52.2884 647.172 Q54.2328 648.306 56.5477 648.885 Q58.8625 649.464 61.3856 649.464 Q65.7837 649.464 68.0754 647.728 Q70.3902 645.991 70.3902 642.681 Q70.3902 639.626 68.2374 637.913 Q66.1078 636.177 62.2884 636.177 L58.2606 636.177 L58.2606 632.334 L62.4735 632.334 Q65.9226 632.334 67.7513 630.968 Q69.58 629.579 69.58 626.987 Q69.58 624.325 67.6819 622.913 Q65.8069 621.478 62.2884 621.478 Q60.3671 621.478 58.168 621.894 Q55.969 622.311 53.3301 623.191 L53.3301 619.024 Q55.9921 618.283 58.3069 617.913 Q60.6449 617.542 62.705 617.542 Q68.0291 617.542 71.1309 619.973 Q74.2327 622.38 74.2327 626.501 Q74.2327 629.371 72.5892 631.362 Q70.9457 633.329 67.9133 634.093 Z\" fill=\"#000000\" fill-rule=\"evenodd\" fill-opacity=\"1\" /><path clip-path=\"url(#clip120)\" d=\"M93.9086 621.246 Q90.2975 621.246 88.4688 624.811 Q86.6632 628.353 86.6632 635.482 Q86.6632 642.589 88.4688 646.153 Q90.2975 649.695 93.9086 649.695 Q97.5428 649.695 99.3483 646.153 Q101.177 642.589 101.177 635.482 Q101.177 628.353 99.3483 624.811 Q97.5428 621.246 93.9086 621.246 M93.9086 617.542 Q99.7187 617.542 102.774 622.149 Q105.853 626.732 105.853 635.482 Q105.853 644.209 102.774 648.815 Q99.7187 653.399 93.9086 653.399 Q88.0984 653.399 85.0197 648.815 Q81.9642 644.209 81.9642 635.482 Q81.9642 626.732 85.0197 622.149 Q88.0984 617.542 93.9086 617.542 Z\" fill=\"#000000\" fill-rule=\"evenodd\" fill-opacity=\"1\" /><path clip-path=\"url(#clip120)\" d=\"M124.07 621.246 Q120.459 621.246 118.631 624.811 Q116.825 628.353 116.825 635.482 Q116.825 642.589 118.631 646.153 Q120.459 649.695 124.07 649.695 Q127.705 649.695 129.51 646.153 Q131.339 642.589 131.339 635.482 Q131.339 628.353 129.51 624.811 Q127.705 621.246 124.07 621.246 M124.07 617.542 Q129.881 617.542 132.936 622.149 Q136.015 626.732 136.015 635.482 Q136.015 644.209 132.936 648.815 Q129.881 653.399 124.07 653.399 Q118.26 653.399 115.182 648.815 Q112.126 644.209 112.126 635.482 Q112.126 626.732 115.182 622.149 Q118.26 617.542 124.07 617.542 Z\" fill=\"#000000\" fill-rule=\"evenodd\" fill-opacity=\"1\" /><path clip-path=\"url(#clip120)\" d=\"M154.232 621.246 Q150.621 621.246 148.793 624.811 Q146.987 628.353 146.987 635.482 Q146.987 642.589 148.793 646.153 Q150.621 649.695 154.232 649.695 Q157.867 649.695 159.672 646.153 Q161.501 642.589 161.501 635.482 Q161.501 628.353 159.672 624.811 Q157.867 621.246 154.232 621.246 M154.232 617.542 Q160.042 617.542 163.098 622.149 Q166.177 626.732 166.177 635.482 Q166.177 644.209 163.098 648.815 Q160.042 653.399 154.232 653.399 Q148.422 653.399 145.343 648.815 Q142.288 644.209 142.288 635.482 Q142.288 626.732 145.343 622.149 Q148.422 617.542 154.232 617.542 Z\" fill=\"#000000\" fill-rule=\"evenodd\" fill-opacity=\"1\" /><path clip-path=\"url(#clip120)\" d=\"M66.5939 352.152 L54.7884 370.601 L66.5939 370.601 L66.5939 352.152 M65.367 348.078 L71.2466 348.078 L71.2466 370.601 L76.1772 370.601 L76.1772 374.49 L71.2466 374.49 L71.2466 382.638 L66.5939 382.638 L66.5939 374.49 L50.9921 374.49 L50.9921 369.976 L65.367 348.078 Z\" fill=\"#000000\" fill-rule=\"evenodd\" fill-opacity=\"1\" /><path clip-path=\"url(#clip120)\" d=\"M93.9086 351.157 Q90.2975 351.157 88.4688 354.722 Q86.6632 358.263 86.6632 365.393 Q86.6632 372.499 88.4688 376.064 Q90.2975 379.606 93.9086 379.606 Q97.5428 379.606 99.3483 376.064 Q101.177 372.499 101.177 365.393 Q101.177 358.263 99.3483 354.722 Q97.5428 351.157 93.9086 351.157 M93.9086 347.453 Q99.7187 347.453 102.774 352.06 Q105.853 356.643 105.853 365.393 Q105.853 374.12 102.774 378.726 Q99.7187 383.309 93.9086 383.309 Q88.0984 383.309 85.0197 378.726 Q81.9642 374.12 81.9642 365.393 Q81.9642 356.643 85.0197 352.06 Q88.0984 347.453 93.9086 347.453 Z\" fill=\"#000000\" fill-rule=\"evenodd\" fill-opacity=\"1\" /><path clip-path=\"url(#clip120)\" d=\"M124.07 351.157 Q120.459 351.157 118.631 354.722 Q116.825 358.263 116.825 365.393 Q116.825 372.499 118.631 376.064 Q120.459 379.606 124.07 379.606 Q127.705 379.606 129.51 376.064 Q131.339 372.499 131.339 365.393 Q131.339 358.263 129.51 354.722 Q127.705 351.157 124.07 351.157 M124.07 347.453 Q129.881 347.453 132.936 352.06 Q136.015 356.643 136.015 365.393 Q136.015 374.12 132.936 378.726 Q129.881 383.309 124.07 383.309 Q118.26 383.309 115.182 378.726 Q112.126 374.12 112.126 365.393 Q112.126 356.643 115.182 352.06 Q118.26 347.453 124.07 347.453 Z\" fill=\"#000000\" fill-rule=\"evenodd\" fill-opacity=\"1\" /><path clip-path=\"url(#clip120)\" d=\"M154.232 351.157 Q150.621 351.157 148.793 354.722 Q146.987 358.263 146.987 365.393 Q146.987 372.499 148.793 376.064 Q150.621 379.606 154.232 379.606 Q157.867 379.606 159.672 376.064 Q161.501 372.499 161.501 365.393 Q161.501 358.263 159.672 354.722 Q157.867 351.157 154.232 351.157 M154.232 347.453 Q160.042 347.453 163.098 352.06 Q166.177 356.643 166.177 365.393 Q166.177 374.12 163.098 378.726 Q160.042 383.309 154.232 383.309 Q148.422 383.309 145.343 378.726 Q142.288 374.12 142.288 365.393 Q142.288 356.643 145.343 352.06 Q148.422 347.453 154.232 347.453 Z\" fill=\"#000000\" fill-rule=\"evenodd\" fill-opacity=\"1\" /><path clip-path=\"url(#clip120)\" d=\"M53.793 77.9887 L72.1494 77.9887 L72.1494 81.9239 L58.0754 81.9239 L58.0754 90.396 Q59.0939 90.0488 60.1124 89.8868 Q61.131 89.7016 62.1495 89.7016 Q67.9365 89.7016 71.3161 92.8729 Q74.6957 96.0441 74.6957 101.461 Q74.6957 107.039 71.2235 110.141 Q67.7513 113.22 61.4319 113.22 Q59.256 113.22 56.9875 112.85 Q54.7421 112.479 52.3347 111.739 L52.3347 107.039 Q54.418 108.174 56.6402 108.729 Q58.8625 109.285 61.3393 109.285 Q65.3439 109.285 67.6819 107.178 Q70.0198 105.072 70.0198 101.461 Q70.0198 97.8497 67.6819 95.7432 Q65.3439 93.6368 61.3393 93.6368 Q59.4643 93.6368 57.5893 94.0534 Q55.7375 94.4701 53.793 95.3497 L53.793 77.9887 Z\" fill=\"#000000\" fill-rule=\"evenodd\" fill-opacity=\"1\" /><path clip-path=\"url(#clip120)\" d=\"M93.9086 81.0674 Q90.2975 81.0674 88.4688 84.6322 Q86.6632 88.1738 86.6632 95.3034 Q86.6632 102.41 88.4688 105.975 Q90.2975 109.516 93.9086 109.516 Q97.5428 109.516 99.3483 105.975 Q101.177 102.41 101.177 95.3034 Q101.177 88.1738 99.3483 84.6322 Q97.5428 81.0674 93.9086 81.0674 M93.9086 77.3637 Q99.7187 77.3637 102.774 81.9702 Q105.853 86.5535 105.853 95.3034 Q105.853 104.03 102.774 108.637 Q99.7187 113.22 93.9086 113.22 Q88.0984 113.22 85.0197 108.637 Q81.9642 104.03 81.9642 95.3034 Q81.9642 86.5535 85.0197 81.9702 Q88.0984 77.3637 93.9086 77.3637 Z\" fill=\"#000000\" fill-rule=\"evenodd\" fill-opacity=\"1\" /><path clip-path=\"url(#clip120)\" d=\"M124.07 81.0674 Q120.459 81.0674 118.631 84.6322 Q116.825 88.1738 116.825 95.3034 Q116.825 102.41 118.631 105.975 Q120.459 109.516 124.07 109.516 Q127.705 109.516 129.51 105.975 Q131.339 102.41 131.339 95.3034 Q131.339 88.1738 129.51 84.6322 Q127.705 81.0674 124.07 81.0674 M124.07 77.3637 Q129.881 77.3637 132.936 81.9702 Q136.015 86.5535 136.015 95.3034 Q136.015 104.03 132.936 108.637 Q129.881 113.22 124.07 113.22 Q118.26 113.22 115.182 108.637 Q112.126 104.03 112.126 95.3034 Q112.126 86.5535 115.182 81.9702 Q118.26 77.3637 124.07 77.3637 Z\" fill=\"#000000\" fill-rule=\"evenodd\" fill-opacity=\"1\" /><path clip-path=\"url(#clip120)\" d=\"M154.232 81.0674 Q150.621 81.0674 148.793 84.6322 Q146.987 88.1738 146.987 95.3034 Q146.987 102.41 148.793 105.975 Q150.621 109.516 154.232 109.516 Q157.867 109.516 159.672 105.975 Q161.501 102.41 161.501 95.3034 Q161.501 88.1738 159.672 84.6322 Q157.867 81.0674 154.232 81.0674 M154.232 77.3637 Q160.042 77.3637 163.098 81.9702 Q166.177 86.5535 166.177 95.3034 Q166.177 104.03 163.098 108.637 Q160.042 113.22 154.232 113.22 Q148.422 113.22 145.343 108.637 Q142.288 104.03 142.288 95.3034 Q142.288 86.5535 145.343 81.9702 Q148.422 77.3637 154.232 77.3637 Z\" fill=\"#000000\" fill-rule=\"evenodd\" fill-opacity=\"1\" /><path clip-path=\"url(#clip122)\" d=\"M320.462 1445.45 L320.462 1445.72 L382.205 1445.72 L382.205 1445.45 L320.462 1445.45 L320.462 1445.45  Z\" fill=\"#009af9\" fill-rule=\"evenodd\" fill-opacity=\"1\"/>\n",
       "<polyline clip-path=\"url(#clip122)\" style=\"stroke:#000000; stroke-linecap:round; stroke-linejoin:round; stroke-width:4; stroke-opacity:1; fill:none\" points=\"320.462,1445.45 320.462,1445.72 382.205,1445.72 382.205,1445.45 320.462,1445.45 \"/>\n",
       "<path clip-path=\"url(#clip122)\" d=\"M382.205 1445.72 L382.205 1445.72 L443.947 1445.72 L443.947 1445.72 L382.205 1445.72 L382.205 1445.72  Z\" fill=\"#009af9\" fill-rule=\"evenodd\" fill-opacity=\"1\"/>\n",
       "<polyline clip-path=\"url(#clip122)\" style=\"stroke:#000000; stroke-linecap:round; stroke-linejoin:round; stroke-width:4; stroke-opacity:1; fill:none\" points=\"382.205,1445.72 382.205,1445.72 443.947,1445.72 382.205,1445.72 \"/>\n",
       "<path clip-path=\"url(#clip122)\" d=\"M443.947 1444.64 L443.947 1445.72 L505.689 1445.72 L505.689 1444.64 L443.947 1444.64 L443.947 1444.64  Z\" fill=\"#009af9\" fill-rule=\"evenodd\" fill-opacity=\"1\"/>\n",
       "<polyline clip-path=\"url(#clip122)\" style=\"stroke:#000000; stroke-linecap:round; stroke-linejoin:round; stroke-width:4; stroke-opacity:1; fill:none\" points=\"443.947,1444.64 443.947,1445.72 505.689,1445.72 505.689,1444.64 443.947,1444.64 \"/>\n",
       "<path clip-path=\"url(#clip122)\" d=\"M505.689 1443.55 L505.689 1445.72 L567.431 1445.72 L567.431 1443.55 L505.689 1443.55 L505.689 1443.55  Z\" fill=\"#009af9\" fill-rule=\"evenodd\" fill-opacity=\"1\"/>\n",
       "<polyline clip-path=\"url(#clip122)\" style=\"stroke:#000000; stroke-linecap:round; stroke-linejoin:round; stroke-width:4; stroke-opacity:1; fill:none\" points=\"505.689,1443.55 505.689,1445.72 567.431,1445.72 567.431,1443.55 505.689,1443.55 \"/>\n",
       "<path clip-path=\"url(#clip122)\" d=\"M567.431 1441.66 L567.431 1445.72 L629.173 1445.72 L629.173 1441.66 L567.431 1441.66 L567.431 1441.66  Z\" fill=\"#009af9\" fill-rule=\"evenodd\" fill-opacity=\"1\"/>\n",
       "<polyline clip-path=\"url(#clip122)\" style=\"stroke:#000000; stroke-linecap:round; stroke-linejoin:round; stroke-width:4; stroke-opacity:1; fill:none\" points=\"567.431,1441.66 567.431,1445.72 629.173,1445.72 629.173,1441.66 567.431,1441.66 \"/>\n",
       "<path clip-path=\"url(#clip122)\" d=\"M629.173 1438.42 L629.173 1445.72 L690.916 1445.72 L690.916 1438.42 L629.173 1438.42 L629.173 1438.42  Z\" fill=\"#009af9\" fill-rule=\"evenodd\" fill-opacity=\"1\"/>\n",
       "<polyline clip-path=\"url(#clip122)\" style=\"stroke:#000000; stroke-linecap:round; stroke-linejoin:round; stroke-width:4; stroke-opacity:1; fill:none\" points=\"629.173,1438.42 629.173,1445.72 690.916,1445.72 690.916,1438.42 629.173,1438.42 \"/>\n",
       "<path clip-path=\"url(#clip122)\" d=\"M690.916 1427.89 L690.916 1445.72 L752.658 1445.72 L752.658 1427.89 L690.916 1427.89 L690.916 1427.89  Z\" fill=\"#009af9\" fill-rule=\"evenodd\" fill-opacity=\"1\"/>\n",
       "<polyline clip-path=\"url(#clip122)\" style=\"stroke:#000000; stroke-linecap:round; stroke-linejoin:round; stroke-width:4; stroke-opacity:1; fill:none\" points=\"690.916,1427.89 690.916,1445.72 752.658,1445.72 752.658,1427.89 690.916,1427.89 \"/>\n",
       "<path clip-path=\"url(#clip122)\" d=\"M752.658 1414.66 L752.658 1445.72 L814.4 1445.72 L814.4 1414.66 L752.658 1414.66 L752.658 1414.66  Z\" fill=\"#009af9\" fill-rule=\"evenodd\" fill-opacity=\"1\"/>\n",
       "<polyline clip-path=\"url(#clip122)\" style=\"stroke:#000000; stroke-linecap:round; stroke-linejoin:round; stroke-width:4; stroke-opacity:1; fill:none\" points=\"752.658,1414.66 752.658,1445.72 814.4,1445.72 814.4,1414.66 752.658,1414.66 \"/>\n",
       "<path clip-path=\"url(#clip122)\" d=\"M814.4 1399.26 L814.4 1445.72 L876.142 1445.72 L876.142 1399.26 L814.4 1399.26 L814.4 1399.26  Z\" fill=\"#009af9\" fill-rule=\"evenodd\" fill-opacity=\"1\"/>\n",
       "<polyline clip-path=\"url(#clip122)\" style=\"stroke:#000000; stroke-linecap:round; stroke-linejoin:round; stroke-width:4; stroke-opacity:1; fill:none\" points=\"814.4,1399.26 814.4,1445.72 876.142,1445.72 876.142,1399.26 814.4,1399.26 \"/>\n",
       "<path clip-path=\"url(#clip122)\" d=\"M876.142 1362.26 L876.142 1445.72 L937.884 1445.72 L937.884 1362.26 L876.142 1362.26 L876.142 1362.26  Z\" fill=\"#009af9\" fill-rule=\"evenodd\" fill-opacity=\"1\"/>\n",
       "<polyline clip-path=\"url(#clip122)\" style=\"stroke:#000000; stroke-linecap:round; stroke-linejoin:round; stroke-width:4; stroke-opacity:1; fill:none\" points=\"876.142,1362.26 876.142,1445.72 937.884,1445.72 937.884,1362.26 876.142,1362.26 \"/>\n",
       "<path clip-path=\"url(#clip122)\" d=\"M937.884 1330.12 L937.884 1445.72 L999.626 1445.72 L999.626 1330.12 L937.884 1330.12 L937.884 1330.12  Z\" fill=\"#009af9\" fill-rule=\"evenodd\" fill-opacity=\"1\"/>\n",
       "<polyline clip-path=\"url(#clip122)\" style=\"stroke:#000000; stroke-linecap:round; stroke-linejoin:round; stroke-width:4; stroke-opacity:1; fill:none\" points=\"937.884,1330.12 937.884,1445.72 999.626,1445.72 999.626,1330.12 937.884,1330.12 \"/>\n",
       "<path clip-path=\"url(#clip122)\" d=\"M999.626 1304.19 L999.626 1445.72 L1061.37 1445.72 L1061.37 1304.19 L999.626 1304.19 L999.626 1304.19  Z\" fill=\"#009af9\" fill-rule=\"evenodd\" fill-opacity=\"1\"/>\n",
       "<polyline clip-path=\"url(#clip122)\" style=\"stroke:#000000; stroke-linecap:round; stroke-linejoin:round; stroke-width:4; stroke-opacity:1; fill:none\" points=\"999.626,1304.19 999.626,1445.72 1061.37,1445.72 1061.37,1304.19 999.626,1304.19 \"/>\n",
       "<path clip-path=\"url(#clip122)\" d=\"M1061.37 1258.54 L1061.37 1445.72 L1123.11 1445.72 L1123.11 1258.54 L1061.37 1258.54 L1061.37 1258.54  Z\" fill=\"#009af9\" fill-rule=\"evenodd\" fill-opacity=\"1\"/>\n",
       "<polyline clip-path=\"url(#clip122)\" style=\"stroke:#000000; stroke-linecap:round; stroke-linejoin:round; stroke-width:4; stroke-opacity:1; fill:none\" points=\"1061.37,1258.54 1061.37,1445.72 1123.11,1445.72 1123.11,1258.54 1061.37,1258.54 \"/>\n",
       "<path clip-path=\"url(#clip122)\" d=\"M1123.11 1223.43 L1123.11 1445.72 L1184.85 1445.72 L1184.85 1223.43 L1123.11 1223.43 L1123.11 1223.43  Z\" fill=\"#009af9\" fill-rule=\"evenodd\" fill-opacity=\"1\"/>\n",
       "<polyline clip-path=\"url(#clip122)\" style=\"stroke:#000000; stroke-linecap:round; stroke-linejoin:round; stroke-width:4; stroke-opacity:1; fill:none\" points=\"1123.11,1223.43 1123.11,1445.72 1184.85,1445.72 1184.85,1223.43 1123.11,1223.43 \"/>\n",
       "<path clip-path=\"url(#clip122)\" d=\"M1184.85 1194.8 L1184.85 1445.72 L1246.6 1445.72 L1246.6 1194.8 L1184.85 1194.8 L1184.85 1194.8  Z\" fill=\"#009af9\" fill-rule=\"evenodd\" fill-opacity=\"1\"/>\n",
       "<polyline clip-path=\"url(#clip122)\" style=\"stroke:#000000; stroke-linecap:round; stroke-linejoin:round; stroke-width:4; stroke-opacity:1; fill:none\" points=\"1184.85,1194.8 1184.85,1445.72 1246.6,1445.72 1246.6,1194.8 1184.85,1194.8 \"/>\n",
       "<path clip-path=\"url(#clip122)\" d=\"M1246.6 1196.69 L1246.6 1445.72 L1308.34 1445.72 L1308.34 1196.69 L1246.6 1196.69 L1246.6 1196.69  Z\" fill=\"#009af9\" fill-rule=\"evenodd\" fill-opacity=\"1\"/>\n",
       "<polyline clip-path=\"url(#clip122)\" style=\"stroke:#000000; stroke-linecap:round; stroke-linejoin:round; stroke-width:4; stroke-opacity:1; fill:none\" points=\"1246.6,1196.69 1246.6,1445.72 1308.34,1445.72 1308.34,1196.69 1246.6,1196.69 \"/>\n",
       "<path clip-path=\"url(#clip122)\" d=\"M1308.34 1176.98 L1308.34 1445.72 L1370.08 1445.72 L1370.08 1176.98 L1308.34 1176.98 L1308.34 1176.98  Z\" fill=\"#009af9\" fill-rule=\"evenodd\" fill-opacity=\"1\"/>\n",
       "<polyline clip-path=\"url(#clip122)\" style=\"stroke:#000000; stroke-linecap:round; stroke-linejoin:round; stroke-width:4; stroke-opacity:1; fill:none\" points=\"1308.34,1176.98 1308.34,1445.72 1370.08,1445.72 1370.08,1176.98 1308.34,1176.98 \"/>\n",
       "<path clip-path=\"url(#clip122)\" d=\"M1370.08 1199.12 L1370.08 1445.72 L1431.82 1445.72 L1431.82 1199.12 L1370.08 1199.12 L1370.08 1199.12  Z\" fill=\"#009af9\" fill-rule=\"evenodd\" fill-opacity=\"1\"/>\n",
       "<polyline clip-path=\"url(#clip122)\" style=\"stroke:#000000; stroke-linecap:round; stroke-linejoin:round; stroke-width:4; stroke-opacity:1; fill:none\" points=\"1370.08,1199.12 1370.08,1445.72 1431.82,1445.72 1431.82,1199.12 1370.08,1199.12 \"/>\n",
       "<path clip-path=\"url(#clip122)\" d=\"M1431.82 1229.64 L1431.82 1445.72 L1493.56 1445.72 L1493.56 1229.64 L1431.82 1229.64 L1431.82 1229.64  Z\" fill=\"#009af9\" fill-rule=\"evenodd\" fill-opacity=\"1\"/>\n",
       "<polyline clip-path=\"url(#clip122)\" style=\"stroke:#000000; stroke-linecap:round; stroke-linejoin:round; stroke-width:4; stroke-opacity:1; fill:none\" points=\"1431.82,1229.64 1431.82,1445.72 1493.56,1445.72 1493.56,1229.64 1431.82,1229.64 \"/>\n",
       "<path clip-path=\"url(#clip122)\" d=\"M1493.56 1266.65 L1493.56 1445.72 L1555.31 1445.72 L1555.31 1266.65 L1493.56 1266.65 L1493.56 1266.65  Z\" fill=\"#009af9\" fill-rule=\"evenodd\" fill-opacity=\"1\"/>\n",
       "<polyline clip-path=\"url(#clip122)\" style=\"stroke:#000000; stroke-linecap:round; stroke-linejoin:round; stroke-width:4; stroke-opacity:1; fill:none\" points=\"1493.56,1266.65 1493.56,1445.72 1555.31,1445.72 1555.31,1266.65 1493.56,1266.65 \"/>\n",
       "<path clip-path=\"url(#clip122)\" d=\"M1555.31 1304.19 L1555.31 1445.72 L1617.05 1445.72 L1617.05 1304.19 L1555.31 1304.19 L1555.31 1304.19  Z\" fill=\"#009af9\" fill-rule=\"evenodd\" fill-opacity=\"1\"/>\n",
       "<polyline clip-path=\"url(#clip122)\" style=\"stroke:#000000; stroke-linecap:round; stroke-linejoin:round; stroke-width:4; stroke-opacity:1; fill:none\" points=\"1555.31,1304.19 1555.31,1445.72 1617.05,1445.72 1617.05,1304.19 1555.31,1304.19 \"/>\n",
       "<path clip-path=\"url(#clip122)\" d=\"M1617.05 1338.22 L1617.05 1445.72 L1678.79 1445.72 L1678.79 1338.22 L1617.05 1338.22 L1617.05 1338.22  Z\" fill=\"#009af9\" fill-rule=\"evenodd\" fill-opacity=\"1\"/>\n",
       "<polyline clip-path=\"url(#clip122)\" style=\"stroke:#000000; stroke-linecap:round; stroke-linejoin:round; stroke-width:4; stroke-opacity:1; fill:none\" points=\"1617.05,1338.22 1617.05,1445.72 1678.79,1445.72 1678.79,1338.22 1617.05,1338.22 \"/>\n",
       "<path clip-path=\"url(#clip122)\" d=\"M1678.79 1374.41 L1678.79 1445.72 L1740.53 1445.72 L1740.53 1374.41 L1678.79 1374.41 L1678.79 1374.41  Z\" fill=\"#009af9\" fill-rule=\"evenodd\" fill-opacity=\"1\"/>\n",
       "<polyline clip-path=\"url(#clip122)\" style=\"stroke:#000000; stroke-linecap:round; stroke-linejoin:round; stroke-width:4; stroke-opacity:1; fill:none\" points=\"1678.79,1374.41 1678.79,1445.72 1740.53,1445.72 1740.53,1374.41 1678.79,1374.41 \"/>\n",
       "<path clip-path=\"url(#clip122)\" d=\"M1740.53 1398.18 L1740.53 1445.72 L1802.27 1445.72 L1802.27 1398.18 L1740.53 1398.18 L1740.53 1398.18  Z\" fill=\"#009af9\" fill-rule=\"evenodd\" fill-opacity=\"1\"/>\n",
       "<polyline clip-path=\"url(#clip122)\" style=\"stroke:#000000; stroke-linecap:round; stroke-linejoin:round; stroke-width:4; stroke-opacity:1; fill:none\" points=\"1740.53,1398.18 1740.53,1445.72 1802.27,1445.72 1802.27,1398.18 1740.53,1398.18 \"/>\n",
       "<path clip-path=\"url(#clip122)\" d=\"M1802.27 1420.6 L1802.27 1445.72 L1864.02 1445.72 L1864.02 1420.6 L1802.27 1420.6 L1802.27 1420.6  Z\" fill=\"#009af9\" fill-rule=\"evenodd\" fill-opacity=\"1\"/>\n",
       "<polyline clip-path=\"url(#clip122)\" style=\"stroke:#000000; stroke-linecap:round; stroke-linejoin:round; stroke-width:4; stroke-opacity:1; fill:none\" points=\"1802.27,1420.6 1802.27,1445.72 1864.02,1445.72 1864.02,1420.6 1802.27,1420.6 \"/>\n",
       "<path clip-path=\"url(#clip122)\" d=\"M1864.02 1428.97 L1864.02 1445.72 L1925.76 1445.72 L1925.76 1428.97 L1864.02 1428.97 L1864.02 1428.97  Z\" fill=\"#009af9\" fill-rule=\"evenodd\" fill-opacity=\"1\"/>\n",
       "<polyline clip-path=\"url(#clip122)\" style=\"stroke:#000000; stroke-linecap:round; stroke-linejoin:round; stroke-width:4; stroke-opacity:1; fill:none\" points=\"1864.02,1428.97 1864.02,1445.72 1925.76,1445.72 1925.76,1428.97 1864.02,1428.97 \"/>\n",
       "<path clip-path=\"url(#clip122)\" d=\"M1925.76 1436.53 L1925.76 1445.72 L1987.5 1445.72 L1987.5 1436.53 L1925.76 1436.53 L1925.76 1436.53  Z\" fill=\"#009af9\" fill-rule=\"evenodd\" fill-opacity=\"1\"/>\n",
       "<polyline clip-path=\"url(#clip122)\" style=\"stroke:#000000; stroke-linecap:round; stroke-linejoin:round; stroke-width:4; stroke-opacity:1; fill:none\" points=\"1925.76,1436.53 1925.76,1445.72 1987.5,1445.72 1987.5,1436.53 1925.76,1436.53 \"/>\n",
       "<path clip-path=\"url(#clip122)\" d=\"M1987.5 1439.77 L1987.5 1445.72 L2049.24 1445.72 L2049.24 1439.77 L1987.5 1439.77 L1987.5 1439.77  Z\" fill=\"#009af9\" fill-rule=\"evenodd\" fill-opacity=\"1\"/>\n",
       "<polyline clip-path=\"url(#clip122)\" style=\"stroke:#000000; stroke-linecap:round; stroke-linejoin:round; stroke-width:4; stroke-opacity:1; fill:none\" points=\"1987.5,1439.77 1987.5,1445.72 2049.24,1445.72 2049.24,1439.77 1987.5,1439.77 \"/>\n",
       "<path clip-path=\"url(#clip122)\" d=\"M2049.24 1441.39 L2049.24 1445.72 L2110.99 1445.72 L2110.99 1441.39 L2049.24 1441.39 L2049.24 1441.39  Z\" fill=\"#009af9\" fill-rule=\"evenodd\" fill-opacity=\"1\"/>\n",
       "<polyline clip-path=\"url(#clip122)\" style=\"stroke:#000000; stroke-linecap:round; stroke-linejoin:round; stroke-width:4; stroke-opacity:1; fill:none\" points=\"2049.24,1441.39 2049.24,1445.72 2110.99,1445.72 2110.99,1441.39 2049.24,1441.39 \"/>\n",
       "<path clip-path=\"url(#clip122)\" d=\"M2110.99 1445.18 L2110.99 1445.72 L2172.73 1445.72 L2172.73 1445.18 L2110.99 1445.18 L2110.99 1445.18  Z\" fill=\"#009af9\" fill-rule=\"evenodd\" fill-opacity=\"1\"/>\n",
       "<polyline clip-path=\"url(#clip122)\" style=\"stroke:#000000; stroke-linecap:round; stroke-linejoin:round; stroke-width:4; stroke-opacity:1; fill:none\" points=\"2110.99,1445.18 2110.99,1445.72 2172.73,1445.72 2172.73,1445.18 2110.99,1445.18 \"/>\n",
       "<path clip-path=\"url(#clip122)\" d=\"M2172.73 1445.18 L2172.73 1445.72 L2234.47 1445.72 L2234.47 1445.18 L2172.73 1445.18 L2172.73 1445.18  Z\" fill=\"#009af9\" fill-rule=\"evenodd\" fill-opacity=\"1\"/>\n",
       "<polyline clip-path=\"url(#clip122)\" style=\"stroke:#000000; stroke-linecap:round; stroke-linejoin:round; stroke-width:4; stroke-opacity:1; fill:none\" points=\"2172.73,1445.18 2172.73,1445.72 2234.47,1445.72 2234.47,1445.18 2172.73,1445.18 \"/>\n",
       "<circle clip-path=\"url(#clip122)\" style=\"fill:#009af9; stroke:none; fill-opacity:0\" cx=\"351.333\" cy=\"1445.45\" r=\"2\"/>\n",
       "<circle clip-path=\"url(#clip122)\" style=\"fill:#009af9; stroke:none; fill-opacity:0\" cx=\"413.076\" cy=\"1445.72\" r=\"2\"/>\n",
       "<circle clip-path=\"url(#clip122)\" style=\"fill:#009af9; stroke:none; fill-opacity:0\" cx=\"474.818\" cy=\"1444.64\" r=\"2\"/>\n",
       "<circle clip-path=\"url(#clip122)\" style=\"fill:#009af9; stroke:none; fill-opacity:0\" cx=\"536.56\" cy=\"1443.55\" r=\"2\"/>\n",
       "<circle clip-path=\"url(#clip122)\" style=\"fill:#009af9; stroke:none; fill-opacity:0\" cx=\"598.302\" cy=\"1441.66\" r=\"2\"/>\n",
       "<circle clip-path=\"url(#clip122)\" style=\"fill:#009af9; stroke:none; fill-opacity:0\" cx=\"660.044\" cy=\"1438.42\" r=\"2\"/>\n",
       "<circle clip-path=\"url(#clip122)\" style=\"fill:#009af9; stroke:none; fill-opacity:0\" cx=\"721.787\" cy=\"1427.89\" r=\"2\"/>\n",
       "<circle clip-path=\"url(#clip122)\" style=\"fill:#009af9; stroke:none; fill-opacity:0\" cx=\"783.529\" cy=\"1414.66\" r=\"2\"/>\n",
       "<circle clip-path=\"url(#clip122)\" style=\"fill:#009af9; stroke:none; fill-opacity:0\" cx=\"845.271\" cy=\"1399.26\" r=\"2\"/>\n",
       "<circle clip-path=\"url(#clip122)\" style=\"fill:#009af9; stroke:none; fill-opacity:0\" cx=\"907.013\" cy=\"1362.26\" r=\"2\"/>\n",
       "<circle clip-path=\"url(#clip122)\" style=\"fill:#009af9; stroke:none; fill-opacity:0\" cx=\"968.755\" cy=\"1330.12\" r=\"2\"/>\n",
       "<circle clip-path=\"url(#clip122)\" style=\"fill:#009af9; stroke:none; fill-opacity:0\" cx=\"1030.5\" cy=\"1304.19\" r=\"2\"/>\n",
       "<circle clip-path=\"url(#clip122)\" style=\"fill:#009af9; stroke:none; fill-opacity:0\" cx=\"1092.24\" cy=\"1258.54\" r=\"2\"/>\n",
       "<circle clip-path=\"url(#clip122)\" style=\"fill:#009af9; stroke:none; fill-opacity:0\" cx=\"1153.98\" cy=\"1223.43\" r=\"2\"/>\n",
       "<circle clip-path=\"url(#clip122)\" style=\"fill:#009af9; stroke:none; fill-opacity:0\" cx=\"1215.72\" cy=\"1194.8\" r=\"2\"/>\n",
       "<circle clip-path=\"url(#clip122)\" style=\"fill:#009af9; stroke:none; fill-opacity:0\" cx=\"1277.47\" cy=\"1196.69\" r=\"2\"/>\n",
       "<circle clip-path=\"url(#clip122)\" style=\"fill:#009af9; stroke:none; fill-opacity:0\" cx=\"1339.21\" cy=\"1176.98\" r=\"2\"/>\n",
       "<circle clip-path=\"url(#clip122)\" style=\"fill:#009af9; stroke:none; fill-opacity:0\" cx=\"1400.95\" cy=\"1199.12\" r=\"2\"/>\n",
       "<circle clip-path=\"url(#clip122)\" style=\"fill:#009af9; stroke:none; fill-opacity:0\" cx=\"1462.69\" cy=\"1229.64\" r=\"2\"/>\n",
       "<circle clip-path=\"url(#clip122)\" style=\"fill:#009af9; stroke:none; fill-opacity:0\" cx=\"1524.44\" cy=\"1266.65\" r=\"2\"/>\n",
       "<circle clip-path=\"url(#clip122)\" style=\"fill:#009af9; stroke:none; fill-opacity:0\" cx=\"1586.18\" cy=\"1304.19\" r=\"2\"/>\n",
       "<circle clip-path=\"url(#clip122)\" style=\"fill:#009af9; stroke:none; fill-opacity:0\" cx=\"1647.92\" cy=\"1338.22\" r=\"2\"/>\n",
       "<circle clip-path=\"url(#clip122)\" style=\"fill:#009af9; stroke:none; fill-opacity:0\" cx=\"1709.66\" cy=\"1374.41\" r=\"2\"/>\n",
       "<circle clip-path=\"url(#clip122)\" style=\"fill:#009af9; stroke:none; fill-opacity:0\" cx=\"1771.4\" cy=\"1398.18\" r=\"2\"/>\n",
       "<circle clip-path=\"url(#clip122)\" style=\"fill:#009af9; stroke:none; fill-opacity:0\" cx=\"1833.15\" cy=\"1420.6\" r=\"2\"/>\n",
       "<circle clip-path=\"url(#clip122)\" style=\"fill:#009af9; stroke:none; fill-opacity:0\" cx=\"1894.89\" cy=\"1428.97\" r=\"2\"/>\n",
       "<circle clip-path=\"url(#clip122)\" style=\"fill:#009af9; stroke:none; fill-opacity:0\" cx=\"1956.63\" cy=\"1436.53\" r=\"2\"/>\n",
       "<circle clip-path=\"url(#clip122)\" style=\"fill:#009af9; stroke:none; fill-opacity:0\" cx=\"2018.37\" cy=\"1439.77\" r=\"2\"/>\n",
       "<circle clip-path=\"url(#clip122)\" style=\"fill:#009af9; stroke:none; fill-opacity:0\" cx=\"2080.11\" cy=\"1441.39\" r=\"2\"/>\n",
       "<circle clip-path=\"url(#clip122)\" style=\"fill:#009af9; stroke:none; fill-opacity:0\" cx=\"2141.86\" cy=\"1445.18\" r=\"2\"/>\n",
       "<circle clip-path=\"url(#clip122)\" style=\"fill:#009af9; stroke:none; fill-opacity:0\" cx=\"2203.6\" cy=\"1445.18\" r=\"2\"/>\n",
       "<path clip-path=\"url(#clip122)\" d=\"M937.884 87.9763 L937.884 1445.72 L950.233 1445.72 L950.233 87.9763 L937.884 87.9763 L937.884 87.9763  Z\" fill=\"#e26f46\" fill-rule=\"evenodd\" fill-opacity=\"1\"/>\n",
       "<polyline clip-path=\"url(#clip122)\" style=\"stroke:#000000; stroke-linecap:round; stroke-linejoin:round; stroke-width:4; stroke-opacity:1; fill:none\" points=\"937.884,87.9763 937.884,1445.72 950.233,1445.72 950.233,87.9763 937.884,87.9763 \"/>\n",
       "<path clip-path=\"url(#clip122)\" d=\"M950.233 1445.72 L950.233 1445.72 L962.581 1445.72 L962.581 1445.72 L950.233 1445.72 L950.233 1445.72  Z\" fill=\"#e26f46\" fill-rule=\"evenodd\" fill-opacity=\"1\"/>\n",
       "<polyline clip-path=\"url(#clip122)\" style=\"stroke:#000000; stroke-linecap:round; stroke-linejoin:round; stroke-width:4; stroke-opacity:1; fill:none\" points=\"950.233,1445.72 950.233,1445.72 962.581,1445.72 950.233,1445.72 \"/>\n",
       "<path clip-path=\"url(#clip122)\" d=\"M962.581 1445.72 L962.581 1445.72 L974.93 1445.72 L974.93 1445.72 L962.581 1445.72 L962.581 1445.72  Z\" fill=\"#e26f46\" fill-rule=\"evenodd\" fill-opacity=\"1\"/>\n",
       "<polyline clip-path=\"url(#clip122)\" style=\"stroke:#000000; stroke-linecap:round; stroke-linejoin:round; stroke-width:4; stroke-opacity:1; fill:none\" points=\"962.581,1445.72 962.581,1445.72 974.93,1445.72 962.581,1445.72 \"/>\n",
       "<path clip-path=\"url(#clip122)\" d=\"M974.93 1445.72 L974.93 1445.72 L987.278 1445.72 L987.278 1445.72 L974.93 1445.72 L974.93 1445.72  Z\" fill=\"#e26f46\" fill-rule=\"evenodd\" fill-opacity=\"1\"/>\n",
       "<polyline clip-path=\"url(#clip122)\" style=\"stroke:#000000; stroke-linecap:round; stroke-linejoin:round; stroke-width:4; stroke-opacity:1; fill:none\" points=\"974.93,1445.72 974.93,1445.72 987.278,1445.72 974.93,1445.72 \"/>\n",
       "<path clip-path=\"url(#clip122)\" d=\"M987.278 1445.72 L987.278 1445.72 L999.626 1445.72 L999.626 1445.72 L987.278 1445.72 L987.278 1445.72  Z\" fill=\"#e26f46\" fill-rule=\"evenodd\" fill-opacity=\"1\"/>\n",
       "<polyline clip-path=\"url(#clip122)\" style=\"stroke:#000000; stroke-linecap:round; stroke-linejoin:round; stroke-width:4; stroke-opacity:1; fill:none\" points=\"987.278,1445.72 987.278,1445.72 999.626,1445.72 987.278,1445.72 \"/>\n",
       "<path clip-path=\"url(#clip122)\" d=\"M999.626 1445.72 L999.626 1445.72 L1011.97 1445.72 L1011.97 1445.72 L999.626 1445.72 L999.626 1445.72  Z\" fill=\"#e26f46\" fill-rule=\"evenodd\" fill-opacity=\"1\"/>\n",
       "<polyline clip-path=\"url(#clip122)\" style=\"stroke:#000000; stroke-linecap:round; stroke-linejoin:round; stroke-width:4; stroke-opacity:1; fill:none\" points=\"999.626,1445.72 999.626,1445.72 1011.97,1445.72 999.626,1445.72 \"/>\n",
       "<path clip-path=\"url(#clip122)\" d=\"M1011.97 1445.72 L1011.97 1445.72 L1024.32 1445.72 L1024.32 1445.72 L1011.97 1445.72 L1011.97 1445.72  Z\" fill=\"#e26f46\" fill-rule=\"evenodd\" fill-opacity=\"1\"/>\n",
       "<polyline clip-path=\"url(#clip122)\" style=\"stroke:#000000; stroke-linecap:round; stroke-linejoin:round; stroke-width:4; stroke-opacity:1; fill:none\" points=\"1011.97,1445.72 1011.97,1445.72 1024.32,1445.72 1011.97,1445.72 \"/>\n",
       "<path clip-path=\"url(#clip122)\" d=\"M1024.32 1445.72 L1024.32 1445.72 L1036.67 1445.72 L1036.67 1445.72 L1024.32 1445.72 L1024.32 1445.72  Z\" fill=\"#e26f46\" fill-rule=\"evenodd\" fill-opacity=\"1\"/>\n",
       "<polyline clip-path=\"url(#clip122)\" style=\"stroke:#000000; stroke-linecap:round; stroke-linejoin:round; stroke-width:4; stroke-opacity:1; fill:none\" points=\"1024.32,1445.72 1024.32,1445.72 1036.67,1445.72 1024.32,1445.72 \"/>\n",
       "<path clip-path=\"url(#clip122)\" d=\"M1036.67 1445.72 L1036.67 1445.72 L1049.02 1445.72 L1049.02 1445.72 L1036.67 1445.72 L1036.67 1445.72  Z\" fill=\"#e26f46\" fill-rule=\"evenodd\" fill-opacity=\"1\"/>\n",
       "<polyline clip-path=\"url(#clip122)\" style=\"stroke:#000000; stroke-linecap:round; stroke-linejoin:round; stroke-width:4; stroke-opacity:1; fill:none\" points=\"1036.67,1445.72 1036.67,1445.72 1049.02,1445.72 1036.67,1445.72 \"/>\n",
       "<path clip-path=\"url(#clip122)\" d=\"M1049.02 1445.72 L1049.02 1445.72 L1061.37 1445.72 L1061.37 1445.72 L1049.02 1445.72 L1049.02 1445.72  Z\" fill=\"#e26f46\" fill-rule=\"evenodd\" fill-opacity=\"1\"/>\n",
       "<polyline clip-path=\"url(#clip122)\" style=\"stroke:#000000; stroke-linecap:round; stroke-linejoin:round; stroke-width:4; stroke-opacity:1; fill:none\" points=\"1049.02,1445.72 1049.02,1445.72 1061.37,1445.72 1049.02,1445.72 \"/>\n",
       "<path clip-path=\"url(#clip122)\" d=\"M1061.37 1445.72 L1061.37 1445.72 L1073.72 1445.72 L1073.72 1445.72 L1061.37 1445.72 L1061.37 1445.72  Z\" fill=\"#e26f46\" fill-rule=\"evenodd\" fill-opacity=\"1\"/>\n",
       "<polyline clip-path=\"url(#clip122)\" style=\"stroke:#000000; stroke-linecap:round; stroke-linejoin:round; stroke-width:4; stroke-opacity:1; fill:none\" points=\"1061.37,1445.72 1061.37,1445.72 1073.72,1445.72 1061.37,1445.72 \"/>\n",
       "<path clip-path=\"url(#clip122)\" d=\"M1073.72 1445.72 L1073.72 1445.72 L1086.07 1445.72 L1086.07 1445.72 L1073.72 1445.72 L1073.72 1445.72  Z\" fill=\"#e26f46\" fill-rule=\"evenodd\" fill-opacity=\"1\"/>\n",
       "<polyline clip-path=\"url(#clip122)\" style=\"stroke:#000000; stroke-linecap:round; stroke-linejoin:round; stroke-width:4; stroke-opacity:1; fill:none\" points=\"1073.72,1445.72 1073.72,1445.72 1086.07,1445.72 1073.72,1445.72 \"/>\n",
       "<path clip-path=\"url(#clip122)\" d=\"M1086.07 1445.72 L1086.07 1445.72 L1098.41 1445.72 L1098.41 1445.72 L1086.07 1445.72 L1086.07 1445.72  Z\" fill=\"#e26f46\" fill-rule=\"evenodd\" fill-opacity=\"1\"/>\n",
       "<polyline clip-path=\"url(#clip122)\" style=\"stroke:#000000; stroke-linecap:round; stroke-linejoin:round; stroke-width:4; stroke-opacity:1; fill:none\" points=\"1086.07,1445.72 1086.07,1445.72 1098.41,1445.72 1086.07,1445.72 \"/>\n",
       "<path clip-path=\"url(#clip122)\" d=\"M1098.41 1445.72 L1098.41 1445.72 L1110.76 1445.72 L1110.76 1445.72 L1098.41 1445.72 L1098.41 1445.72  Z\" fill=\"#e26f46\" fill-rule=\"evenodd\" fill-opacity=\"1\"/>\n",
       "<polyline clip-path=\"url(#clip122)\" style=\"stroke:#000000; stroke-linecap:round; stroke-linejoin:round; stroke-width:4; stroke-opacity:1; fill:none\" points=\"1098.41,1445.72 1098.41,1445.72 1110.76,1445.72 1098.41,1445.72 \"/>\n",
       "<path clip-path=\"url(#clip122)\" d=\"M1110.76 1445.72 L1110.76 1445.72 L1123.11 1445.72 L1123.11 1445.72 L1110.76 1445.72 L1110.76 1445.72  Z\" fill=\"#e26f46\" fill-rule=\"evenodd\" fill-opacity=\"1\"/>\n",
       "<polyline clip-path=\"url(#clip122)\" style=\"stroke:#000000; stroke-linecap:round; stroke-linejoin:round; stroke-width:4; stroke-opacity:1; fill:none\" points=\"1110.76,1445.72 1110.76,1445.72 1123.11,1445.72 1110.76,1445.72 \"/>\n",
       "<path clip-path=\"url(#clip122)\" d=\"M1123.11 1445.72 L1123.11 1445.72 L1135.46 1445.72 L1135.46 1445.72 L1123.11 1445.72 L1123.11 1445.72  Z\" fill=\"#e26f46\" fill-rule=\"evenodd\" fill-opacity=\"1\"/>\n",
       "<polyline clip-path=\"url(#clip122)\" style=\"stroke:#000000; stroke-linecap:round; stroke-linejoin:round; stroke-width:4; stroke-opacity:1; fill:none\" points=\"1123.11,1445.72 1123.11,1445.72 1135.46,1445.72 1123.11,1445.72 \"/>\n",
       "<path clip-path=\"url(#clip122)\" d=\"M1135.46 1445.72 L1135.46 1445.72 L1147.81 1445.72 L1147.81 1445.72 L1135.46 1445.72 L1135.46 1445.72  Z\" fill=\"#e26f46\" fill-rule=\"evenodd\" fill-opacity=\"1\"/>\n",
       "<polyline clip-path=\"url(#clip122)\" style=\"stroke:#000000; stroke-linecap:round; stroke-linejoin:round; stroke-width:4; stroke-opacity:1; fill:none\" points=\"1135.46,1445.72 1135.46,1445.72 1147.81,1445.72 1135.46,1445.72 \"/>\n",
       "<path clip-path=\"url(#clip122)\" d=\"M1147.81 1445.72 L1147.81 1445.72 L1160.16 1445.72 L1160.16 1445.72 L1147.81 1445.72 L1147.81 1445.72  Z\" fill=\"#e26f46\" fill-rule=\"evenodd\" fill-opacity=\"1\"/>\n",
       "<polyline clip-path=\"url(#clip122)\" style=\"stroke:#000000; stroke-linecap:round; stroke-linejoin:round; stroke-width:4; stroke-opacity:1; fill:none\" points=\"1147.81,1445.72 1147.81,1445.72 1160.16,1445.72 1147.81,1445.72 \"/>\n",
       "<path clip-path=\"url(#clip122)\" d=\"M1160.16 1445.72 L1160.16 1445.72 L1172.5 1445.72 L1172.5 1445.72 L1160.16 1445.72 L1160.16 1445.72  Z\" fill=\"#e26f46\" fill-rule=\"evenodd\" fill-opacity=\"1\"/>\n",
       "<polyline clip-path=\"url(#clip122)\" style=\"stroke:#000000; stroke-linecap:round; stroke-linejoin:round; stroke-width:4; stroke-opacity:1; fill:none\" points=\"1160.16,1445.72 1160.16,1445.72 1172.5,1445.72 1160.16,1445.72 \"/>\n",
       "<path clip-path=\"url(#clip122)\" d=\"M1172.5 1445.72 L1172.5 1445.72 L1184.85 1445.72 L1184.85 1445.72 L1172.5 1445.72 L1172.5 1445.72  Z\" fill=\"#e26f46\" fill-rule=\"evenodd\" fill-opacity=\"1\"/>\n",
       "<polyline clip-path=\"url(#clip122)\" style=\"stroke:#000000; stroke-linecap:round; stroke-linejoin:round; stroke-width:4; stroke-opacity:1; fill:none\" points=\"1172.5,1445.72 1172.5,1445.72 1184.85,1445.72 1172.5,1445.72 \"/>\n",
       "<path clip-path=\"url(#clip122)\" d=\"M1184.85 1445.72 L1184.85 1445.72 L1197.2 1445.72 L1197.2 1445.72 L1184.85 1445.72 L1184.85 1445.72  Z\" fill=\"#e26f46\" fill-rule=\"evenodd\" fill-opacity=\"1\"/>\n",
       "<polyline clip-path=\"url(#clip122)\" style=\"stroke:#000000; stroke-linecap:round; stroke-linejoin:round; stroke-width:4; stroke-opacity:1; fill:none\" points=\"1184.85,1445.72 1184.85,1445.72 1197.2,1445.72 1184.85,1445.72 \"/>\n",
       "<path clip-path=\"url(#clip122)\" d=\"M1197.2 1445.72 L1197.2 1445.72 L1209.55 1445.72 L1209.55 1445.72 L1197.2 1445.72 L1197.2 1445.72  Z\" fill=\"#e26f46\" fill-rule=\"evenodd\" fill-opacity=\"1\"/>\n",
       "<polyline clip-path=\"url(#clip122)\" style=\"stroke:#000000; stroke-linecap:round; stroke-linejoin:round; stroke-width:4; stroke-opacity:1; fill:none\" points=\"1197.2,1445.72 1197.2,1445.72 1209.55,1445.72 1197.2,1445.72 \"/>\n",
       "<path clip-path=\"url(#clip122)\" d=\"M1209.55 1445.72 L1209.55 1445.72 L1221.9 1445.72 L1221.9 1445.72 L1209.55 1445.72 L1209.55 1445.72  Z\" fill=\"#e26f46\" fill-rule=\"evenodd\" fill-opacity=\"1\"/>\n",
       "<polyline clip-path=\"url(#clip122)\" style=\"stroke:#000000; stroke-linecap:round; stroke-linejoin:round; stroke-width:4; stroke-opacity:1; fill:none\" points=\"1209.55,1445.72 1209.55,1445.72 1221.9,1445.72 1209.55,1445.72 \"/>\n",
       "<path clip-path=\"url(#clip122)\" d=\"M1221.9 1445.72 L1221.9 1445.72 L1234.25 1445.72 L1234.25 1445.72 L1221.9 1445.72 L1221.9 1445.72  Z\" fill=\"#e26f46\" fill-rule=\"evenodd\" fill-opacity=\"1\"/>\n",
       "<polyline clip-path=\"url(#clip122)\" style=\"stroke:#000000; stroke-linecap:round; stroke-linejoin:round; stroke-width:4; stroke-opacity:1; fill:none\" points=\"1221.9,1445.72 1221.9,1445.72 1234.25,1445.72 1221.9,1445.72 \"/>\n",
       "<path clip-path=\"url(#clip122)\" d=\"M1234.25 1445.72 L1234.25 1445.72 L1246.6 1445.72 L1246.6 1445.72 L1234.25 1445.72 L1234.25 1445.72  Z\" fill=\"#e26f46\" fill-rule=\"evenodd\" fill-opacity=\"1\"/>\n",
       "<polyline clip-path=\"url(#clip122)\" style=\"stroke:#000000; stroke-linecap:round; stroke-linejoin:round; stroke-width:4; stroke-opacity:1; fill:none\" points=\"1234.25,1445.72 1234.25,1445.72 1246.6,1445.72 1234.25,1445.72 \"/>\n",
       "<path clip-path=\"url(#clip122)\" d=\"M1246.6 1445.72 L1246.6 1445.72 L1258.94 1445.72 L1258.94 1445.72 L1246.6 1445.72 L1246.6 1445.72  Z\" fill=\"#e26f46\" fill-rule=\"evenodd\" fill-opacity=\"1\"/>\n",
       "<polyline clip-path=\"url(#clip122)\" style=\"stroke:#000000; stroke-linecap:round; stroke-linejoin:round; stroke-width:4; stroke-opacity:1; fill:none\" points=\"1246.6,1445.72 1246.6,1445.72 1258.94,1445.72 1246.6,1445.72 \"/>\n",
       "<path clip-path=\"url(#clip122)\" d=\"M1258.94 1445.72 L1258.94 1445.72 L1271.29 1445.72 L1271.29 1445.72 L1258.94 1445.72 L1258.94 1445.72  Z\" fill=\"#e26f46\" fill-rule=\"evenodd\" fill-opacity=\"1\"/>\n",
       "<polyline clip-path=\"url(#clip122)\" style=\"stroke:#000000; stroke-linecap:round; stroke-linejoin:round; stroke-width:4; stroke-opacity:1; fill:none\" points=\"1258.94,1445.72 1258.94,1445.72 1271.29,1445.72 1258.94,1445.72 \"/>\n",
       "<path clip-path=\"url(#clip122)\" d=\"M1271.29 1445.72 L1271.29 1445.72 L1283.64 1445.72 L1283.64 1445.72 L1271.29 1445.72 L1271.29 1445.72  Z\" fill=\"#e26f46\" fill-rule=\"evenodd\" fill-opacity=\"1\"/>\n",
       "<polyline clip-path=\"url(#clip122)\" style=\"stroke:#000000; stroke-linecap:round; stroke-linejoin:round; stroke-width:4; stroke-opacity:1; fill:none\" points=\"1271.29,1445.72 1271.29,1445.72 1283.64,1445.72 1271.29,1445.72 \"/>\n",
       "<path clip-path=\"url(#clip122)\" d=\"M1283.64 1445.72 L1283.64 1445.72 L1295.99 1445.72 L1295.99 1445.72 L1283.64 1445.72 L1283.64 1445.72  Z\" fill=\"#e26f46\" fill-rule=\"evenodd\" fill-opacity=\"1\"/>\n",
       "<polyline clip-path=\"url(#clip122)\" style=\"stroke:#000000; stroke-linecap:round; stroke-linejoin:round; stroke-width:4; stroke-opacity:1; fill:none\" points=\"1283.64,1445.72 1283.64,1445.72 1295.99,1445.72 1283.64,1445.72 \"/>\n",
       "<path clip-path=\"url(#clip122)\" d=\"M1295.99 1445.72 L1295.99 1445.72 L1308.34 1445.72 L1308.34 1445.72 L1295.99 1445.72 L1295.99 1445.72  Z\" fill=\"#e26f46\" fill-rule=\"evenodd\" fill-opacity=\"1\"/>\n",
       "<polyline clip-path=\"url(#clip122)\" style=\"stroke:#000000; stroke-linecap:round; stroke-linejoin:round; stroke-width:4; stroke-opacity:1; fill:none\" points=\"1295.99,1445.72 1295.99,1445.72 1308.34,1445.72 1295.99,1445.72 \"/>\n",
       "<path clip-path=\"url(#clip122)\" d=\"M1308.34 102.561 L1308.34 1445.72 L1320.69 1445.72 L1320.69 102.561 L1308.34 102.561 L1308.34 102.561  Z\" fill=\"#e26f46\" fill-rule=\"evenodd\" fill-opacity=\"1\"/>\n",
       "<polyline clip-path=\"url(#clip122)\" style=\"stroke:#000000; stroke-linecap:round; stroke-linejoin:round; stroke-width:4; stroke-opacity:1; fill:none\" points=\"1308.34,102.561 1308.34,1445.72 1320.69,1445.72 1320.69,102.561 1308.34,102.561 \"/>\n",
       "<circle clip-path=\"url(#clip122)\" style=\"fill:#e26f46; stroke:none; fill-opacity:0\" cx=\"944.058\" cy=\"87.9763\" r=\"2\"/>\n",
       "<circle clip-path=\"url(#clip122)\" style=\"fill:#e26f46; stroke:none; fill-opacity:0\" cx=\"956.407\" cy=\"1445.72\" r=\"2\"/>\n",
       "<circle clip-path=\"url(#clip122)\" style=\"fill:#e26f46; stroke:none; fill-opacity:0\" cx=\"968.755\" cy=\"1445.72\" r=\"2\"/>\n",
       "<circle clip-path=\"url(#clip122)\" style=\"fill:#e26f46; stroke:none; fill-opacity:0\" cx=\"981.104\" cy=\"1445.72\" r=\"2\"/>\n",
       "<circle clip-path=\"url(#clip122)\" style=\"fill:#e26f46; stroke:none; fill-opacity:0\" cx=\"993.452\" cy=\"1445.72\" r=\"2\"/>\n",
       "<circle clip-path=\"url(#clip122)\" style=\"fill:#e26f46; stroke:none; fill-opacity:0\" cx=\"1005.8\" cy=\"1445.72\" r=\"2\"/>\n",
       "<circle clip-path=\"url(#clip122)\" style=\"fill:#e26f46; stroke:none; fill-opacity:0\" cx=\"1018.15\" cy=\"1445.72\" r=\"2\"/>\n",
       "<circle clip-path=\"url(#clip122)\" style=\"fill:#e26f46; stroke:none; fill-opacity:0\" cx=\"1030.5\" cy=\"1445.72\" r=\"2\"/>\n",
       "<circle clip-path=\"url(#clip122)\" style=\"fill:#e26f46; stroke:none; fill-opacity:0\" cx=\"1042.85\" cy=\"1445.72\" r=\"2\"/>\n",
       "<circle clip-path=\"url(#clip122)\" style=\"fill:#e26f46; stroke:none; fill-opacity:0\" cx=\"1055.19\" cy=\"1445.72\" r=\"2\"/>\n",
       "<circle clip-path=\"url(#clip122)\" style=\"fill:#e26f46; stroke:none; fill-opacity:0\" cx=\"1067.54\" cy=\"1445.72\" r=\"2\"/>\n",
       "<circle clip-path=\"url(#clip122)\" style=\"fill:#e26f46; stroke:none; fill-opacity:0\" cx=\"1079.89\" cy=\"1445.72\" r=\"2\"/>\n",
       "<circle clip-path=\"url(#clip122)\" style=\"fill:#e26f46; stroke:none; fill-opacity:0\" cx=\"1092.24\" cy=\"1445.72\" r=\"2\"/>\n",
       "<circle clip-path=\"url(#clip122)\" style=\"fill:#e26f46; stroke:none; fill-opacity:0\" cx=\"1104.59\" cy=\"1445.72\" r=\"2\"/>\n",
       "<circle clip-path=\"url(#clip122)\" style=\"fill:#e26f46; stroke:none; fill-opacity:0\" cx=\"1116.94\" cy=\"1445.72\" r=\"2\"/>\n",
       "<circle clip-path=\"url(#clip122)\" style=\"fill:#e26f46; stroke:none; fill-opacity:0\" cx=\"1129.29\" cy=\"1445.72\" r=\"2\"/>\n",
       "<circle clip-path=\"url(#clip122)\" style=\"fill:#e26f46; stroke:none; fill-opacity:0\" cx=\"1141.63\" cy=\"1445.72\" r=\"2\"/>\n",
       "<circle clip-path=\"url(#clip122)\" style=\"fill:#e26f46; stroke:none; fill-opacity:0\" cx=\"1153.98\" cy=\"1445.72\" r=\"2\"/>\n",
       "<circle clip-path=\"url(#clip122)\" style=\"fill:#e26f46; stroke:none; fill-opacity:0\" cx=\"1166.33\" cy=\"1445.72\" r=\"2\"/>\n",
       "<circle clip-path=\"url(#clip122)\" style=\"fill:#e26f46; stroke:none; fill-opacity:0\" cx=\"1178.68\" cy=\"1445.72\" r=\"2\"/>\n",
       "<circle clip-path=\"url(#clip122)\" style=\"fill:#e26f46; stroke:none; fill-opacity:0\" cx=\"1191.03\" cy=\"1445.72\" r=\"2\"/>\n",
       "<circle clip-path=\"url(#clip122)\" style=\"fill:#e26f46; stroke:none; fill-opacity:0\" cx=\"1203.38\" cy=\"1445.72\" r=\"2\"/>\n",
       "<circle clip-path=\"url(#clip122)\" style=\"fill:#e26f46; stroke:none; fill-opacity:0\" cx=\"1215.72\" cy=\"1445.72\" r=\"2\"/>\n",
       "<circle clip-path=\"url(#clip122)\" style=\"fill:#e26f46; stroke:none; fill-opacity:0\" cx=\"1228.07\" cy=\"1445.72\" r=\"2\"/>\n",
       "<circle clip-path=\"url(#clip122)\" style=\"fill:#e26f46; stroke:none; fill-opacity:0\" cx=\"1240.42\" cy=\"1445.72\" r=\"2\"/>\n",
       "<circle clip-path=\"url(#clip122)\" style=\"fill:#e26f46; stroke:none; fill-opacity:0\" cx=\"1252.77\" cy=\"1445.72\" r=\"2\"/>\n",
       "<circle clip-path=\"url(#clip122)\" style=\"fill:#e26f46; stroke:none; fill-opacity:0\" cx=\"1265.12\" cy=\"1445.72\" r=\"2\"/>\n",
       "<circle clip-path=\"url(#clip122)\" style=\"fill:#e26f46; stroke:none; fill-opacity:0\" cx=\"1277.47\" cy=\"1445.72\" r=\"2\"/>\n",
       "<circle clip-path=\"url(#clip122)\" style=\"fill:#e26f46; stroke:none; fill-opacity:0\" cx=\"1289.81\" cy=\"1445.72\" r=\"2\"/>\n",
       "<circle clip-path=\"url(#clip122)\" style=\"fill:#e26f46; stroke:none; fill-opacity:0\" cx=\"1302.16\" cy=\"1445.72\" r=\"2\"/>\n",
       "<circle clip-path=\"url(#clip122)\" style=\"fill:#e26f46; stroke:none; fill-opacity:0\" cx=\"1314.51\" cy=\"102.561\" r=\"2\"/>\n",
       "<path clip-path=\"url(#clip120)\" d=\"M2013.58 250.738 L2281.07 250.738 L2281.07 95.2176 L2013.58 95.2176  Z\" fill=\"#ffffff\" fill-rule=\"evenodd\" fill-opacity=\"1\"/>\n",
       "<polyline clip-path=\"url(#clip120)\" style=\"stroke:#000000; stroke-linecap:round; stroke-linejoin:round; stroke-width:4; stroke-opacity:1; fill:none\" points=\"2013.58,250.738 2281.07,250.738 2281.07,95.2176 2013.58,95.2176 2013.58,250.738 \"/>\n",
       "<path clip-path=\"url(#clip120)\" d=\"M2037.48 167.794 L2180.85 167.794 L2180.85 126.322 L2037.48 126.322 L2037.48 167.794  Z\" fill=\"#009af9\" fill-rule=\"evenodd\" fill-opacity=\"1\"/>\n",
       "<polyline clip-path=\"url(#clip120)\" style=\"stroke:#000000; stroke-linecap:round; stroke-linejoin:round; stroke-width:4; stroke-opacity:1; fill:none\" points=\"2037.48,167.794 2180.85,167.794 2180.85,126.322 2037.48,126.322 2037.48,167.794 \"/>\n",
       "<path clip-path=\"url(#clip120)\" d=\"M2218.59 166.745 Q2216.78 171.375 2215.07 172.787 Q2213.36 174.199 2210.49 174.199 L2207.08 174.199 L2207.08 170.634 L2209.58 170.634 Q2211.34 170.634 2212.31 169.8 Q2213.29 168.967 2214.47 165.865 L2215.23 163.921 L2204.74 138.412 L2209.26 138.412 L2217.36 158.689 L2225.46 138.412 L2229.98 138.412 L2218.59 166.745 Z\" fill=\"#000000\" fill-rule=\"evenodd\" fill-opacity=\"1\" /><path clip-path=\"url(#clip120)\" d=\"M2237.27 160.402 L2244.91 160.402 L2244.91 134.037 L2236.6 135.703 L2236.6 131.444 L2244.86 129.778 L2249.54 129.778 L2249.54 160.402 L2257.17 160.402 L2257.17 164.338 L2237.27 164.338 L2237.27 160.402 Z\" fill=\"#000000\" fill-rule=\"evenodd\" fill-opacity=\"1\" /><path clip-path=\"url(#clip120)\" d=\"M2037.48 219.634 L2180.85 219.634 L2180.85 178.162 L2037.48 178.162 L2037.48 219.634  Z\" fill=\"#e26f46\" fill-rule=\"evenodd\" fill-opacity=\"1\"/>\n",
       "<polyline clip-path=\"url(#clip120)\" style=\"stroke:#000000; stroke-linecap:round; stroke-linejoin:round; stroke-width:4; stroke-opacity:1; fill:none\" points=\"2037.48,219.634 2180.85,219.634 2180.85,178.162 2037.48,178.162 2037.48,219.634 \"/>\n",
       "<path clip-path=\"url(#clip120)\" d=\"M2218.59 218.585 Q2216.78 223.215 2215.07 224.627 Q2213.36 226.039 2210.49 226.039 L2207.08 226.039 L2207.08 222.474 L2209.58 222.474 Q2211.34 222.474 2212.31 221.64 Q2213.29 220.807 2214.47 217.705 L2215.23 215.761 L2204.74 190.252 L2209.26 190.252 L2217.36 210.529 L2225.46 190.252 L2229.98 190.252 L2218.59 218.585 Z\" fill=\"#000000\" fill-rule=\"evenodd\" fill-opacity=\"1\" /><path clip-path=\"url(#clip120)\" d=\"M2240.48 212.242 L2256.8 212.242 L2256.8 216.178 L2234.86 216.178 L2234.86 212.242 Q2237.52 209.488 2242.11 204.858 Q2246.71 200.205 2247.89 198.863 Q2250.14 196.34 2251.02 194.604 Q2251.92 192.844 2251.92 191.155 Q2251.92 188.4 2249.98 186.664 Q2248.05 184.928 2244.95 184.928 Q2242.75 184.928 2240.3 185.692 Q2237.87 186.455 2235.09 188.006 L2235.09 183.284 Q2237.92 182.15 2240.37 181.571 Q2242.82 180.993 2244.86 180.993 Q2250.23 180.993 2253.42 183.678 Q2256.62 186.363 2256.62 190.854 Q2256.62 192.983 2255.81 194.905 Q2255.02 196.803 2252.92 199.395 Q2252.34 200.067 2249.23 203.284 Q2246.13 206.479 2240.48 212.242 Z\" fill=\"#000000\" fill-rule=\"evenodd\" fill-opacity=\"1\" /></svg>\n"
      ]
     },
     "execution_count": 25,
     "metadata": {},
     "output_type": "execute_result"
    }
   ],
   "source": [
    "x = rand(Normal(5,2), 10000)\n",
    "c = Binomial()\n",
    "y = rand((5,2),10000)\n",
    "histogram(x,bins=50)\n",
    "histogram!(y,bins=50)\n"
   ]
  },
  {
   "cell_type": "markdown",
   "id": "22b88d4d",
   "metadata": {},
   "source": [
    "# Question 4\n",
    "### Read the following example and complete the exercises \n",
    "Bayes is playing Russian roulette. The revolver has six chambers. He puts two bullets in two adjacent chambers, spin the cylinder, hold the gun to his head, and pull the trigger. It clicks. So it is now the second try: he can choose either to spin the cylinder again or leave it as it is. "
   ]
  },
  {
   "cell_type": "markdown",
   "id": "4718911a",
   "metadata": {},
   "source": [
    "### 4.1\n",
    "\n",
    "#### What is the probability that Bayes survives the second try given his survival in the first try if he spin the cylinder and explain"
   ]
  },
  {
   "cell_type": "markdown",
   "id": "96f8c663",
   "metadata": {},
   "source": [
    "Probability of his survival P(A) = 4/6 = 2/3"
   ]
  },
  {
   "cell_type": "markdown",
   "id": "9fd046a8",
   "metadata": {},
   "source": [
    "### 4.2\n",
    "#### In this case, what are the relation between P(B|A), P(B), and P(A) if A represents survival in the first try and B represents survival in the second try"
   ]
  },
  {
   "cell_type": "markdown",
   "id": "7a575296",
   "metadata": {},
   "source": [
    "P(A|B) = P(B|A).P(A)/P(B)"
   ]
  },
  {
   "cell_type": "markdown",
   "id": "4e03c813",
   "metadata": {},
   "source": [
    "### 4.3\n",
    "\n",
    "#### What is the probability that Bayes survives both tries without spinning the cylinder and explain"
   ]
  },
  {
   "cell_type": "markdown",
   "id": "29c20dd7",
   "metadata": {},
   "source": [
    "P(B) = 3/6 = 1/2"
   ]
  },
  {
   "cell_type": "markdown",
   "id": "b4de6d2c",
   "metadata": {},
   "source": [
    "### 4.4\n",
    "\n",
    "#### Use answers from 4.1 and 4.3 to calculate the probability that Bayes survives the second try given his survial in the first try if he doesn't spin the cylinder and explain "
   ]
  },
  {
   "cell_type": "markdown",
   "id": "ba46b235",
   "metadata": {},
   "source": [
    "P(B|A) = (1/2)(2/3) = 0.75"
   ]
  }
 ],
 "metadata": {
  "kernelspec": {
   "display_name": "Julia 1.8.5",
   "language": "julia",
   "name": "julia-1.8"
  },
  "language_info": {
   "file_extension": ".jl",
   "mimetype": "application/julia",
   "name": "julia",
   "version": "1.8.5"
  }
 },
 "nbformat": 4,
 "nbformat_minor": 5
}
