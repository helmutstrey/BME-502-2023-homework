{
 "cells": [
  {
   "cell_type": "markdown",
   "id": "0ce4edbf",
   "metadata": {},
   "source": [
    "<h1>HW2</h1>"
   ]
  },
  {
   "cell_type": "markdown",
   "id": "2e321dc4",
   "metadata": {},
   "source": [
    "#### Bayes' theorem:\n",
    "\\begin{equation*}\n",
    "P(A|B) = \\frac{P(B|A)P(A)}{P(B)} \\\\\n",
    "P(A|B): Posteior \\\\\n",
    "P(B|A): Likelihood \\\\\n",
    "P(A): Prior \\\\\n",
    "P(B): Marginal Probability \\\\\n",
    "\\end{equation*}"
   ]
  },
  {
   "cell_type": "markdown",
   "id": "1b6c2102",
   "metadata": {},
   "source": [
    "# Question 1\n",
    "### Read the following example and complete the exercises \n",
    "\n",
    "You are at the age of 21 and curious about if drinking alcohol would cause liver disease. You contacted a clinic site and got the following information.\n",
    "\n",
    "1. Past data tells you that 10% of patients entering the clinic have liver disease (**Prior**). \n",
    "\n",
    "2. Five percent of the clinic’s patients are alcoholics (**Marginal Probability**). \n",
    "\n",
    "3. Among the patients diagnosed with liver disease, 15% are alcoholics (**Likelihood**). \n",
    "\n",
    "Now you wonder what is the probability of a patient from the clinic have liver disease given that the patient is alcoholic (**Posterior**)"
   ]
  },
  {
   "cell_type": "markdown",
   "id": "e0c81ddf",
   "metadata": {},
   "source": [
    "### 1.1 \n",
    "\n",
    "#### If A represents the event of being an alcoholic patient in the clinic and L represents the event of being a patient with liver disease in the clinic, write the bayesian representation (P(A|B)) in the following cells\n"
   ]
  },
  {
   "cell_type": "markdown",
   "id": "90ef64bb",
   "metadata": {},
   "source": [
    "Posteria = P(L|A)"
   ]
  },
  {
   "cell_type": "markdown",
   "id": "658c4c0e",
   "metadata": {},
   "source": [
    "Prior = P(L)"
   ]
  },
  {
   "cell_type": "markdown",
   "id": "e5f1f140",
   "metadata": {},
   "source": [
    "Likelihood = P(A|L)"
   ]
  },
  {
   "cell_type": "markdown",
   "id": "ce4bee50",
   "metadata": {},
   "source": [
    "Marginal Probability = P(A)"
   ]
  },
  {
   "cell_type": "markdown",
   "id": "572cc5a7",
   "metadata": {},
   "source": [
    "### 1.2 \n",
    "\n",
    "#### Define all the information available and calculate the posteria probbability"
   ]
  },
  {
   "cell_type": "code",
   "execution_count": 47,
   "id": "fa180ac4",
   "metadata": {},
   "outputs": [
    {
     "name": "stdout",
     "output_type": "stream",
     "text": [
      "P(L|A)= 30.0 %\n"
     ]
    }
   ],
   "source": [
    "prior = 0.10 # P(L)\n",
    "likelihood = 0.15 # P(A|L)\n",
    "marginal_probability = 0.05 # P(A)\n",
    "posterior = ((likelihood*prior)/marginal_probability)*100 # P(L|A)\n",
    "println(\"P(L|A)= \", \"$posterior\", \" %\")"
   ]
  },
  {
   "cell_type": "markdown",
   "id": "ddce1bb4",
   "metadata": {},
   "source": [
    "# Question 2\n",
    "### Read the following example and complete the exercises \n",
    "Shown by a <a href=\"https://pubmed.ncbi.nlm.nih.gov/34242764/#:~:text=The%20overall%20sensitivity%20of%20the,%25%20CI%2024.4%2D65.1\">reaserch study</a>, the rapid antigen test for Covid has a sensitivity of 65.3% and a specificity of 99.9%. Assume 1% people have Covid. If randomly select a person and he/she tests positive using the rapid antigen test, what is the probability the person has Covid (posterior)."
   ]
  },
  {
   "cell_type": "markdown",
   "id": "1f01074b",
   "metadata": {},
   "source": [
    "### 2.1 \n",
    "\n",
    "#### The probability of which event is considered marginal probability in this case? Define it in the first cell below and calculate it in the second cell below"
   ]
  },
  {
   "cell_type": "markdown",
   "id": "fc0ce8a8",
   "metadata": {},
   "source": [
    "The event is: "
   ]
  },
  {
   "cell_type": "code",
   "execution_count": 5,
   "id": "9514d479",
   "metadata": {},
   "outputs": [
    {
     "name": "stdout",
     "output_type": "stream",
     "text": [
      "A person testing positive using the rapid antigen test.\n"
     ]
    }
   ],
   "source": [
    "println(\"A person testing positive using the rapid antigen test.\")"
   ]
  },
  {
   "cell_type": "code",
   "execution_count": 48,
   "id": "504b99aa",
   "metadata": {},
   "outputs": [
    {
     "name": "stdout",
     "output_type": "stream",
     "text": [
      "Marginal Probability= 0.7520000000000001 %\n"
     ]
    }
   ],
   "source": [
    "Prior = 0.01 # P(A) (Has Covid)\n",
    "Likelihood = 0.653 # P(B|A), Sensitivity (Tested positive given that it has Covid)\n",
    "Specificity = 0.999\n",
    "Marginal_Probability = ((Prior*Likelihood) + ((1-Specificity)*(1-Prior)))*100 # P(B)\n",
    "println(\"Marginal Probability= \",\"$Marginal_Probability\", \" %\")"
   ]
  },
  {
   "cell_type": "markdown",
   "id": "cbb30a58",
   "metadata": {},
   "source": [
    "### 2.2 \n",
    "\n",
    "#### Define all the information and calculate the probability the randomly selected person has Covid"
   ]
  },
  {
   "cell_type": "code",
   "execution_count": 49,
   "id": "1af37a23",
   "metadata": {},
   "outputs": [
    {
     "name": "stdout",
     "output_type": "stream",
     "text": [
      "Posterior= 86.83510638297872 %\n"
     ]
    }
   ],
   "source": [
    "Prior = 0.01 # P(A) (Has Covid)\n",
    "Likelihood = 0.653 # P(B|A), Sensitivity (Tested positive given that it has Covid)\n",
    "Marginal_Probability = 0.007520000000000001 # P(B) (A person testing positive using the rapid antigen test)\n",
    "Posterior = ((Likelihood*Prior)/Marginal_Probability)*100 # P(A|B) (A person having covid given that it tested positive)\n",
    "println(\"Posterior= \", \"$Posterior\", \" %\")"
   ]
  },
  {
   "cell_type": "markdown",
   "id": "13c0b486",
   "metadata": {},
   "source": [
    "# Question 3\n",
    "### <a href=\"https://juliastats.org/Distributions.jl/stable/starting/\">This page</a> is the documentation for Distribution.jl and complete the exercies"
   ]
  },
  {
   "cell_type": "markdown",
   "id": "8a852a4a",
   "metadata": {},
   "source": [
    "### 3.1 \n",
    "\n",
    "#### Randomly draw 1000 samples from a normal distribution with mean = 5 and std = 2"
   ]
  },
  {
   "cell_type": "code",
   "execution_count": 4,
   "id": "a1539748",
   "metadata": {},
   "outputs": [
    {
     "name": "stderr",
     "output_type": "stream",
     "text": [
      "\u001b[32m\u001b[1m   Resolving\u001b[22m\u001b[39m package versions...\n",
      "\u001b[32m\u001b[1m  No Changes\u001b[22m\u001b[39m to `C:\\Users\\maria\\.julia\\environments\\v1.8\\Project.toml`\n",
      "\u001b[32m\u001b[1m  No Changes\u001b[22m\u001b[39m to `C:\\Users\\maria\\.julia\\environments\\v1.8\\Manifest.toml`\n"
     ]
    }
   ],
   "source": [
    "using Pkg\n",
    "Pkg.add(\"Distributions\")"
   ]
  },
  {
   "cell_type": "code",
   "execution_count": 8,
   "id": "7ddc0938",
   "metadata": {},
   "outputs": [
    {
     "data": {
      "text/plain": [
       "1000-element Vector{Float64}:\n",
       " 3.7085386557920463\n",
       " 2.073497242222157\n",
       " 1.7527925088278389\n",
       " 4.5646697864329076\n",
       " 5.984491373050366\n",
       " 6.961959624248298\n",
       " 5.15991365901012\n",
       " 8.098249106085584\n",
       " 2.3167815182335563\n",
       " 5.8243232693659355\n",
       " 6.1863947762419516\n",
       " 3.463182162537386\n",
       " 4.847664109095126\n",
       " ⋮\n",
       " 6.247790665546262\n",
       " 5.438084785027371\n",
       " 5.299552975722957\n",
       " 6.602236558637884\n",
       " 5.804729417569904\n",
       " 5.178755748468589\n",
       " 5.812327059101699\n",
       " 7.568639904523696\n",
       " 4.819505796383868\n",
       " 4.8872935799702955\n",
       " 4.945875161371136\n",
       " 4.655382388653741"
      ]
     },
     "execution_count": 8,
     "metadata": {},
     "output_type": "execute_result"
    }
   ],
   "source": [
    "using Random, Distributions\n",
    "Random.seed!(123)\n",
    "d= Normal()\n",
    "x= rand(Normal(5, 2), 1000)"
   ]
  },
  {
   "cell_type": "markdown",
   "id": "0b89952d",
   "metadata": {},
   "source": [
    "### 3.2\n",
    "\n",
    "#### Plot  the distribution above in a histogram"
   ]
  },
  {
   "cell_type": "code",
   "execution_count": 42,
   "id": "677ef750",
   "metadata": {},
   "outputs": [
    {
     "data": {
      "image/svg+xml": [
       "<?xml version=\"1.0\" encoding=\"utf-8\"?>\n",
       "<svg xmlns=\"http://www.w3.org/2000/svg\" xmlns:xlink=\"http://www.w3.org/1999/xlink\" width=\"600\" height=\"400\" viewBox=\"0 0 2400 1600\">\n",
       "<defs>\n",
       "  <clipPath id=\"clip510\">\n",
       "    <rect x=\"0\" y=\"0\" width=\"2400\" height=\"1600\"/>\n",
       "  </clipPath>\n",
       "</defs>\n",
       "<path clip-path=\"url(#clip510)\" d=\"M0 1600 L2400 1600 L2400 0 L0 0  Z\" fill=\"#ffffff\" fill-rule=\"evenodd\" fill-opacity=\"1\"/>\n",
       "<defs>\n",
       "  <clipPath id=\"clip511\">\n",
       "    <rect x=\"480\" y=\"0\" width=\"1681\" height=\"1600\"/>\n",
       "  </clipPath>\n",
       "</defs>\n",
       "<path clip-path=\"url(#clip510)\" d=\"M169.121 1486.45 L2352.76 1486.45 L2352.76 47.2441 L169.121 47.2441  Z\" fill=\"#ffffff\" fill-rule=\"evenodd\" fill-opacity=\"1\"/>\n",
       "<defs>\n",
       "  <clipPath id=\"clip512\">\n",
       "    <rect x=\"169\" y=\"47\" width=\"2185\" height=\"1440\"/>\n",
       "  </clipPath>\n",
       "</defs>\n",
       "<polyline clip-path=\"url(#clip512)\" style=\"stroke:#000000; stroke-linecap:round; stroke-linejoin:round; stroke-width:2; stroke-opacity:0.1; fill:none\" points=\"548.349,1486.45 548.349,47.2441 \"/>\n",
       "<polyline clip-path=\"url(#clip512)\" style=\"stroke:#000000; stroke-linecap:round; stroke-linejoin:round; stroke-width:2; stroke-opacity:0.1; fill:none\" points=\"937.034,1486.45 937.034,47.2441 \"/>\n",
       "<polyline clip-path=\"url(#clip512)\" style=\"stroke:#000000; stroke-linecap:round; stroke-linejoin:round; stroke-width:2; stroke-opacity:0.1; fill:none\" points=\"1325.72,1486.45 1325.72,47.2441 \"/>\n",
       "<polyline clip-path=\"url(#clip512)\" style=\"stroke:#000000; stroke-linecap:round; stroke-linejoin:round; stroke-width:2; stroke-opacity:0.1; fill:none\" points=\"1714.4,1486.45 1714.4,47.2441 \"/>\n",
       "<polyline clip-path=\"url(#clip512)\" style=\"stroke:#000000; stroke-linecap:round; stroke-linejoin:round; stroke-width:2; stroke-opacity:0.1; fill:none\" points=\"2103.09,1486.45 2103.09,47.2441 \"/>\n",
       "<polyline clip-path=\"url(#clip510)\" style=\"stroke:#000000; stroke-linecap:round; stroke-linejoin:round; stroke-width:4; stroke-opacity:1; fill:none\" points=\"169.121,1486.45 2352.76,1486.45 \"/>\n",
       "<polyline clip-path=\"url(#clip510)\" style=\"stroke:#000000; stroke-linecap:round; stroke-linejoin:round; stroke-width:4; stroke-opacity:1; fill:none\" points=\"548.349,1486.45 548.349,1467.55 \"/>\n",
       "<polyline clip-path=\"url(#clip510)\" style=\"stroke:#000000; stroke-linecap:round; stroke-linejoin:round; stroke-width:4; stroke-opacity:1; fill:none\" points=\"937.034,1486.45 937.034,1467.55 \"/>\n",
       "<polyline clip-path=\"url(#clip510)\" style=\"stroke:#000000; stroke-linecap:round; stroke-linejoin:round; stroke-width:4; stroke-opacity:1; fill:none\" points=\"1325.72,1486.45 1325.72,1467.55 \"/>\n",
       "<polyline clip-path=\"url(#clip510)\" style=\"stroke:#000000; stroke-linecap:round; stroke-linejoin:round; stroke-width:4; stroke-opacity:1; fill:none\" points=\"1714.4,1486.45 1714.4,1467.55 \"/>\n",
       "<polyline clip-path=\"url(#clip510)\" style=\"stroke:#000000; stroke-linecap:round; stroke-linejoin:round; stroke-width:4; stroke-opacity:1; fill:none\" points=\"2103.09,1486.45 2103.09,1467.55 \"/>\n",
       "<path clip-path=\"url(#clip510)\" d=\"M548.349 1517.37 Q544.738 1517.37 542.909 1520.93 Q541.103 1524.47 541.103 1531.6 Q541.103 1538.71 542.909 1542.27 Q544.738 1545.82 548.349 1545.82 Q551.983 1545.82 553.788 1542.27 Q555.617 1538.71 555.617 1531.6 Q555.617 1524.47 553.788 1520.93 Q551.983 1517.37 548.349 1517.37 M548.349 1513.66 Q554.159 1513.66 557.214 1518.27 Q560.293 1522.85 560.293 1531.6 Q560.293 1540.33 557.214 1544.94 Q554.159 1549.52 548.349 1549.52 Q542.539 1549.52 539.46 1544.94 Q536.404 1540.33 536.404 1531.6 Q536.404 1522.85 539.46 1518.27 Q542.539 1513.66 548.349 1513.66 Z\" fill=\"#000000\" fill-rule=\"evenodd\" fill-opacity=\"1\" /><path clip-path=\"url(#clip510)\" d=\"M941.282 1530.21 Q944.638 1530.93 946.513 1533.2 Q948.411 1535.47 948.411 1538.8 Q948.411 1543.92 944.893 1546.72 Q941.374 1549.52 934.893 1549.52 Q932.717 1549.52 930.402 1549.08 Q928.111 1548.66 925.657 1547.81 L925.657 1543.29 Q927.601 1544.43 929.916 1545.01 Q932.231 1545.58 934.754 1545.58 Q939.152 1545.58 941.444 1543.85 Q943.759 1542.11 943.759 1538.8 Q943.759 1535.75 941.606 1534.03 Q939.476 1532.3 935.657 1532.3 L931.629 1532.3 L931.629 1528.45 L935.842 1528.45 Q939.291 1528.45 941.12 1527.09 Q942.948 1525.7 942.948 1523.11 Q942.948 1520.45 941.05 1519.03 Q939.175 1517.6 935.657 1517.6 Q933.736 1517.6 931.536 1518.01 Q929.337 1518.43 926.699 1519.31 L926.699 1515.14 Q929.361 1514.4 931.675 1514.03 Q934.013 1513.66 936.073 1513.66 Q941.398 1513.66 944.499 1516.09 Q947.601 1518.5 947.601 1522.62 Q947.601 1525.49 945.958 1527.48 Q944.314 1529.45 941.282 1530.21 Z\" fill=\"#000000\" fill-rule=\"evenodd\" fill-opacity=\"1\" /><path clip-path=\"url(#clip510)\" d=\"M1326.12 1529.7 Q1322.98 1529.7 1321.12 1531.86 Q1319.3 1534.01 1319.3 1537.76 Q1319.3 1541.49 1321.12 1543.66 Q1322.98 1545.82 1326.12 1545.82 Q1329.27 1545.82 1331.1 1543.66 Q1332.95 1541.49 1332.95 1537.76 Q1332.95 1534.01 1331.1 1531.86 Q1329.27 1529.7 1326.12 1529.7 M1335.41 1515.05 L1335.41 1519.31 Q1333.65 1518.48 1331.84 1518.04 Q1330.06 1517.6 1328.3 1517.6 Q1323.67 1517.6 1321.22 1520.72 Q1318.79 1523.85 1318.44 1530.17 Q1319.81 1528.15 1321.87 1527.09 Q1323.93 1526 1326.4 1526 Q1331.61 1526 1334.62 1529.17 Q1337.65 1532.32 1337.65 1537.76 Q1337.65 1543.08 1334.5 1546.3 Q1331.36 1549.52 1326.12 1549.52 Q1320.13 1549.52 1316.96 1544.94 Q1313.79 1540.33 1313.79 1531.6 Q1313.79 1523.41 1317.68 1518.55 Q1321.56 1513.66 1328.12 1513.66 Q1329.87 1513.66 1331.66 1514.01 Q1333.46 1514.36 1335.41 1515.05 Z\" fill=\"#000000\" fill-rule=\"evenodd\" fill-opacity=\"1\" /><path clip-path=\"url(#clip510)\" d=\"M1704.71 1548.13 L1704.71 1543.87 Q1706.47 1544.7 1708.27 1545.14 Q1710.08 1545.58 1711.81 1545.58 Q1716.44 1545.58 1718.87 1542.48 Q1721.33 1539.36 1721.67 1533.01 Q1720.33 1535.01 1718.27 1536.07 Q1716.21 1537.13 1713.71 1537.13 Q1708.53 1537.13 1705.49 1534.01 Q1702.48 1530.86 1702.48 1525.42 Q1702.48 1520.1 1705.63 1516.88 Q1708.78 1513.66 1714.01 1513.66 Q1720.01 1513.66 1723.15 1518.27 Q1726.33 1522.85 1726.33 1531.6 Q1726.33 1539.77 1722.44 1544.66 Q1718.57 1549.52 1712.02 1549.52 Q1710.26 1549.52 1708.46 1549.17 Q1706.65 1548.82 1704.71 1548.13 M1714.01 1533.48 Q1717.16 1533.48 1718.99 1531.32 Q1720.84 1529.17 1720.84 1525.42 Q1720.84 1521.7 1718.99 1519.54 Q1717.16 1517.37 1714.01 1517.37 Q1710.86 1517.37 1709.01 1519.54 Q1707.18 1521.7 1707.18 1525.42 Q1707.18 1529.17 1709.01 1531.32 Q1710.86 1533.48 1714.01 1533.48 Z\" fill=\"#000000\" fill-rule=\"evenodd\" fill-opacity=\"1\" /><path clip-path=\"url(#clip510)\" d=\"M2078.58 1544.91 L2086.22 1544.91 L2086.22 1518.55 L2077.91 1520.21 L2077.91 1515.95 L2086.17 1514.29 L2090.85 1514.29 L2090.85 1544.91 L2098.48 1544.91 L2098.48 1548.85 L2078.58 1548.85 L2078.58 1544.91 Z\" fill=\"#000000\" fill-rule=\"evenodd\" fill-opacity=\"1\" /><path clip-path=\"url(#clip510)\" d=\"M2111.96 1544.91 L2128.28 1544.91 L2128.28 1548.85 L2106.33 1548.85 L2106.33 1544.91 Q2108.99 1542.16 2113.58 1537.53 Q2118.18 1532.88 2119.36 1531.53 Q2121.61 1529.01 2122.49 1527.27 Q2123.39 1525.51 2123.39 1523.82 Q2123.39 1521.07 2121.45 1519.33 Q2119.53 1517.6 2116.42 1517.6 Q2114.22 1517.6 2111.77 1518.36 Q2109.34 1519.13 2106.56 1520.68 L2106.56 1515.95 Q2109.39 1514.82 2111.84 1514.24 Q2114.29 1513.66 2116.33 1513.66 Q2121.7 1513.66 2124.9 1516.35 Q2128.09 1519.03 2128.09 1523.52 Q2128.09 1525.65 2127.28 1527.57 Q2126.49 1529.47 2124.39 1532.07 Q2123.81 1532.74 2120.71 1535.95 Q2117.6 1539.15 2111.96 1544.91 Z\" fill=\"#000000\" fill-rule=\"evenodd\" fill-opacity=\"1\" /><polyline clip-path=\"url(#clip512)\" style=\"stroke:#000000; stroke-linecap:round; stroke-linejoin:round; stroke-width:2; stroke-opacity:0.1; fill:none\" points=\"169.121,1445.72 2352.76,1445.72 \"/>\n",
       "<polyline clip-path=\"url(#clip512)\" style=\"stroke:#000000; stroke-linecap:round; stroke-linejoin:round; stroke-width:2; stroke-opacity:0.1; fill:none\" points=\"169.121,1076.76 2352.76,1076.76 \"/>\n",
       "<polyline clip-path=\"url(#clip512)\" style=\"stroke:#000000; stroke-linecap:round; stroke-linejoin:round; stroke-width:2; stroke-opacity:0.1; fill:none\" points=\"169.121,707.814 2352.76,707.814 \"/>\n",
       "<polyline clip-path=\"url(#clip512)\" style=\"stroke:#000000; stroke-linecap:round; stroke-linejoin:round; stroke-width:2; stroke-opacity:0.1; fill:none\" points=\"169.121,338.863 2352.76,338.863 \"/>\n",
       "<polyline clip-path=\"url(#clip510)\" style=\"stroke:#000000; stroke-linecap:round; stroke-linejoin:round; stroke-width:4; stroke-opacity:1; fill:none\" points=\"169.121,1486.45 169.121,47.2441 \"/>\n",
       "<polyline clip-path=\"url(#clip510)\" style=\"stroke:#000000; stroke-linecap:round; stroke-linejoin:round; stroke-width:4; stroke-opacity:1; fill:none\" points=\"169.121,1445.72 188.019,1445.72 \"/>\n",
       "<polyline clip-path=\"url(#clip510)\" style=\"stroke:#000000; stroke-linecap:round; stroke-linejoin:round; stroke-width:4; stroke-opacity:1; fill:none\" points=\"169.121,1076.76 188.019,1076.76 \"/>\n",
       "<polyline clip-path=\"url(#clip510)\" style=\"stroke:#000000; stroke-linecap:round; stroke-linejoin:round; stroke-width:4; stroke-opacity:1; fill:none\" points=\"169.121,707.814 188.019,707.814 \"/>\n",
       "<polyline clip-path=\"url(#clip510)\" style=\"stroke:#000000; stroke-linecap:round; stroke-linejoin:round; stroke-width:4; stroke-opacity:1; fill:none\" points=\"169.121,338.863 188.019,338.863 \"/>\n",
       "<path clip-path=\"url(#clip510)\" d=\"M121.177 1431.51 Q117.566 1431.51 115.737 1435.08 Q113.932 1438.62 113.932 1445.75 Q113.932 1452.86 115.737 1456.42 Q117.566 1459.96 121.177 1459.96 Q124.811 1459.96 126.617 1456.42 Q128.445 1452.86 128.445 1445.75 Q128.445 1438.62 126.617 1435.08 Q124.811 1431.51 121.177 1431.51 M121.177 1427.81 Q126.987 1427.81 130.043 1432.42 Q133.121 1437 133.121 1445.75 Q133.121 1454.48 130.043 1459.08 Q126.987 1463.67 121.177 1463.67 Q115.367 1463.67 112.288 1459.08 Q109.233 1454.48 109.233 1445.75 Q109.233 1437 112.288 1432.42 Q115.367 1427.81 121.177 1427.81 Z\" fill=\"#000000\" fill-rule=\"evenodd\" fill-opacity=\"1\" /><path clip-path=\"url(#clip510)\" d=\"M81.0614 1059.48 L99.4178 1059.48 L99.4178 1063.42 L85.3438 1063.42 L85.3438 1071.89 Q86.3623 1071.54 87.3808 1071.38 Q88.3993 1071.2 89.4178 1071.2 Q95.2049 1071.2 98.5845 1074.37 Q101.964 1077.54 101.964 1082.96 Q101.964 1088.54 98.4919 1091.64 Q95.0197 1094.72 88.7003 1094.72 Q86.5243 1094.72 84.2558 1094.35 Q82.0105 1093.98 79.6031 1093.23 L79.6031 1088.54 Q81.6864 1089.67 83.9086 1090.23 Q86.1308 1090.78 88.6077 1090.78 Q92.6123 1090.78 94.9502 1088.67 Q97.2882 1086.57 97.2882 1082.96 Q97.2882 1079.35 94.9502 1077.24 Q92.6123 1075.13 88.6077 1075.13 Q86.7327 1075.13 84.8577 1075.55 Q83.0058 1075.97 81.0614 1076.85 L81.0614 1059.48 Z\" fill=\"#000000\" fill-rule=\"evenodd\" fill-opacity=\"1\" /><path clip-path=\"url(#clip510)\" d=\"M121.177 1062.56 Q117.566 1062.56 115.737 1066.13 Q113.932 1069.67 113.932 1076.8 Q113.932 1083.91 115.737 1087.47 Q117.566 1091.01 121.177 1091.01 Q124.811 1091.01 126.617 1087.47 Q128.445 1083.91 128.445 1076.8 Q128.445 1069.67 126.617 1066.13 Q124.811 1062.56 121.177 1062.56 M121.177 1058.86 Q126.987 1058.86 130.043 1063.47 Q133.121 1068.05 133.121 1076.8 Q133.121 1085.53 130.043 1090.13 Q126.987 1094.72 121.177 1094.72 Q115.367 1094.72 112.288 1090.13 Q109.233 1085.53 109.233 1076.8 Q109.233 1068.05 112.288 1063.47 Q115.367 1058.86 121.177 1058.86 Z\" fill=\"#000000\" fill-rule=\"evenodd\" fill-opacity=\"1\" /><path clip-path=\"url(#clip510)\" d=\"M51.6634 721.159 L59.3023 721.159 L59.3023 694.793 L50.9921 696.46 L50.9921 692.2 L59.256 690.534 L63.9319 690.534 L63.9319 721.159 L71.5707 721.159 L71.5707 725.094 L51.6634 725.094 L51.6634 721.159 Z\" fill=\"#000000\" fill-rule=\"evenodd\" fill-opacity=\"1\" /><path clip-path=\"url(#clip510)\" d=\"M91.0151 693.613 Q87.404 693.613 85.5753 697.177 Q83.7697 700.719 83.7697 707.849 Q83.7697 714.955 85.5753 718.52 Q87.404 722.061 91.0151 722.061 Q94.6493 722.061 96.4548 718.52 Q98.2835 714.955 98.2835 707.849 Q98.2835 700.719 96.4548 697.177 Q94.6493 693.613 91.0151 693.613 M91.0151 689.909 Q96.8252 689.909 99.8808 694.515 Q102.959 699.099 102.959 707.849 Q102.959 716.575 99.8808 721.182 Q96.8252 725.765 91.0151 725.765 Q85.2049 725.765 82.1262 721.182 Q79.0707 716.575 79.0707 707.849 Q79.0707 699.099 82.1262 694.515 Q85.2049 689.909 91.0151 689.909 Z\" fill=\"#000000\" fill-rule=\"evenodd\" fill-opacity=\"1\" /><path clip-path=\"url(#clip510)\" d=\"M121.177 693.613 Q117.566 693.613 115.737 697.177 Q113.932 700.719 113.932 707.849 Q113.932 714.955 115.737 718.52 Q117.566 722.061 121.177 722.061 Q124.811 722.061 126.617 718.52 Q128.445 714.955 128.445 707.849 Q128.445 700.719 126.617 697.177 Q124.811 693.613 121.177 693.613 M121.177 689.909 Q126.987 689.909 130.043 694.515 Q133.121 699.099 133.121 707.849 Q133.121 716.575 130.043 721.182 Q126.987 725.765 121.177 725.765 Q115.367 725.765 112.288 721.182 Q109.233 716.575 109.233 707.849 Q109.233 699.099 112.288 694.515 Q115.367 689.909 121.177 689.909 Z\" fill=\"#000000\" fill-rule=\"evenodd\" fill-opacity=\"1\" /><path clip-path=\"url(#clip510)\" d=\"M51.6634 352.208 L59.3023 352.208 L59.3023 325.842 L50.9921 327.509 L50.9921 323.25 L59.256 321.583 L63.9319 321.583 L63.9319 352.208 L71.5707 352.208 L71.5707 356.143 L51.6634 356.143 L51.6634 352.208 Z\" fill=\"#000000\" fill-rule=\"evenodd\" fill-opacity=\"1\" /><path clip-path=\"url(#clip510)\" d=\"M81.0614 321.583 L99.4178 321.583 L99.4178 325.518 L85.3438 325.518 L85.3438 333.99 Q86.3623 333.643 87.3808 333.481 Q88.3993 333.296 89.4178 333.296 Q95.2049 333.296 98.5845 336.467 Q101.964 339.638 101.964 345.055 Q101.964 350.634 98.4919 353.736 Q95.0197 356.814 88.7003 356.814 Q86.5243 356.814 84.2558 356.444 Q82.0105 356.073 79.6031 355.333 L79.6031 350.634 Q81.6864 351.768 83.9086 352.323 Q86.1308 352.879 88.6077 352.879 Q92.6123 352.879 94.9502 350.773 Q97.2882 348.666 97.2882 345.055 Q97.2882 341.444 94.9502 339.337 Q92.6123 337.231 88.6077 337.231 Q86.7327 337.231 84.8577 337.648 Q83.0058 338.064 81.0614 338.944 L81.0614 321.583 Z\" fill=\"#000000\" fill-rule=\"evenodd\" fill-opacity=\"1\" /><path clip-path=\"url(#clip510)\" d=\"M121.177 324.662 Q117.566 324.662 115.737 328.226 Q113.932 331.768 113.932 338.898 Q113.932 346.004 115.737 349.569 Q117.566 353.111 121.177 353.111 Q124.811 353.111 126.617 349.569 Q128.445 346.004 128.445 338.898 Q128.445 331.768 126.617 328.226 Q124.811 324.662 121.177 324.662 M121.177 320.958 Q126.987 320.958 130.043 325.564 Q133.121 330.148 133.121 338.898 Q133.121 347.624 130.043 352.231 Q126.987 356.814 121.177 356.814 Q115.367 356.814 112.288 352.231 Q109.233 347.624 109.233 338.898 Q109.233 330.148 112.288 325.564 Q115.367 320.958 121.177 320.958 Z\" fill=\"#000000\" fill-rule=\"evenodd\" fill-opacity=\"1\" /><path clip-path=\"url(#clip512)\" d=\"M289.225 1430.96 L289.225 1445.72 L418.787 1445.72 L418.787 1430.96 L289.225 1430.96 L289.225 1430.96  Z\" fill=\"#009af9\" fill-rule=\"evenodd\" fill-opacity=\"1\"/>\n",
       "<polyline clip-path=\"url(#clip512)\" style=\"stroke:#000000; stroke-linecap:round; stroke-linejoin:round; stroke-width:4; stroke-opacity:1; fill:none\" points=\"289.225,1430.96 289.225,1445.72 418.787,1445.72 418.787,1430.96 289.225,1430.96 \"/>\n",
       "<path clip-path=\"url(#clip512)\" d=\"M418.787 1430.96 L418.787 1445.72 L548.349 1445.72 L548.349 1430.96 L418.787 1430.96 L418.787 1430.96  Z\" fill=\"#009af9\" fill-rule=\"evenodd\" fill-opacity=\"1\"/>\n",
       "<polyline clip-path=\"url(#clip512)\" style=\"stroke:#000000; stroke-linecap:round; stroke-linejoin:round; stroke-width:4; stroke-opacity:1; fill:none\" points=\"418.787,1430.96 418.787,1445.72 548.349,1445.72 548.349,1430.96 418.787,1430.96 \"/>\n",
       "<path clip-path=\"url(#clip512)\" d=\"M548.349 1312.89 L548.349 1445.72 L677.911 1445.72 L677.911 1312.89 L548.349 1312.89 L548.349 1312.89  Z\" fill=\"#009af9\" fill-rule=\"evenodd\" fill-opacity=\"1\"/>\n",
       "<polyline clip-path=\"url(#clip512)\" style=\"stroke:#000000; stroke-linecap:round; stroke-linejoin:round; stroke-width:4; stroke-opacity:1; fill:none\" points=\"548.349,1312.89 548.349,1445.72 677.911,1445.72 677.911,1312.89 548.349,1312.89 \"/>\n",
       "<path clip-path=\"url(#clip512)\" d=\"M677.911 1069.39 L677.911 1445.72 L807.472 1445.72 L807.472 1069.39 L677.911 1069.39 L677.911 1069.39  Z\" fill=\"#009af9\" fill-rule=\"evenodd\" fill-opacity=\"1\"/>\n",
       "<polyline clip-path=\"url(#clip512)\" style=\"stroke:#000000; stroke-linecap:round; stroke-linejoin:round; stroke-width:4; stroke-opacity:1; fill:none\" points=\"677.911,1069.39 677.911,1445.72 807.472,1445.72 807.472,1069.39 677.911,1069.39 \"/>\n",
       "<path clip-path=\"url(#clip512)\" d=\"M807.472 604.508 L807.472 1445.72 L937.034 1445.72 L937.034 604.508 L807.472 604.508 L807.472 604.508  Z\" fill=\"#009af9\" fill-rule=\"evenodd\" fill-opacity=\"1\"/>\n",
       "<polyline clip-path=\"url(#clip512)\" style=\"stroke:#000000; stroke-linecap:round; stroke-linejoin:round; stroke-width:4; stroke-opacity:1; fill:none\" points=\"807.472,604.508 807.472,1445.72 937.034,1445.72 937.034,604.508 807.472,604.508 \"/>\n",
       "<path clip-path=\"url(#clip512)\" d=\"M937.034 361 L937.034 1445.72 L1066.6 1445.72 L1066.6 361 L937.034 361 L937.034 361  Z\" fill=\"#009af9\" fill-rule=\"evenodd\" fill-opacity=\"1\"/>\n",
       "<polyline clip-path=\"url(#clip512)\" style=\"stroke:#000000; stroke-linecap:round; stroke-linejoin:round; stroke-width:4; stroke-opacity:1; fill:none\" points=\"937.034,361 937.034,1445.72 1066.6,1445.72 1066.6,361 937.034,361 \"/>\n",
       "<path clip-path=\"url(#clip512)\" d=\"M1066.6 87.9763 L1066.6 1445.72 L1196.16 1445.72 L1196.16 87.9763 L1066.6 87.9763 L1066.6 87.9763  Z\" fill=\"#009af9\" fill-rule=\"evenodd\" fill-opacity=\"1\"/>\n",
       "<polyline clip-path=\"url(#clip512)\" style=\"stroke:#000000; stroke-linecap:round; stroke-linejoin:round; stroke-width:4; stroke-opacity:1; fill:none\" points=\"1066.6,87.9763 1066.6,1445.72 1196.16,1445.72 1196.16,87.9763 1066.6,87.9763 \"/>\n",
       "<path clip-path=\"url(#clip512)\" d=\"M1196.16 102.734 L1196.16 1445.72 L1325.72 1445.72 L1325.72 102.734 L1196.16 102.734 L1196.16 102.734  Z\" fill=\"#009af9\" fill-rule=\"evenodd\" fill-opacity=\"1\"/>\n",
       "<polyline clip-path=\"url(#clip512)\" style=\"stroke:#000000; stroke-linecap:round; stroke-linejoin:round; stroke-width:4; stroke-opacity:1; fill:none\" points=\"1196.16,102.734 1196.16,1445.72 1325.72,1445.72 1325.72,102.734 1196.16,102.734 \"/>\n",
       "<path clip-path=\"url(#clip512)\" d=\"M1325.72 449.548 L1325.72 1445.72 L1455.28 1445.72 L1455.28 449.548 L1325.72 449.548 L1325.72 449.548  Z\" fill=\"#009af9\" fill-rule=\"evenodd\" fill-opacity=\"1\"/>\n",
       "<polyline clip-path=\"url(#clip512)\" style=\"stroke:#000000; stroke-linecap:round; stroke-linejoin:round; stroke-width:4; stroke-opacity:1; fill:none\" points=\"1325.72,449.548 1325.72,1445.72 1455.28,1445.72 1455.28,449.548 1325.72,449.548 \"/>\n",
       "<path clip-path=\"url(#clip512)\" d=\"M1455.28 722.572 L1455.28 1445.72 L1584.84 1445.72 L1584.84 722.572 L1455.28 722.572 L1455.28 722.572  Z\" fill=\"#009af9\" fill-rule=\"evenodd\" fill-opacity=\"1\"/>\n",
       "<polyline clip-path=\"url(#clip512)\" style=\"stroke:#000000; stroke-linecap:round; stroke-linejoin:round; stroke-width:4; stroke-opacity:1; fill:none\" points=\"1455.28,722.572 1455.28,1445.72 1584.84,1445.72 1584.84,722.572 1455.28,722.572 \"/>\n",
       "<path clip-path=\"url(#clip512)\" d=\"M1584.84 1128.42 L1584.84 1445.72 L1714.4 1445.72 L1714.4 1128.42 L1584.84 1128.42 L1584.84 1128.42  Z\" fill=\"#009af9\" fill-rule=\"evenodd\" fill-opacity=\"1\"/>\n",
       "<polyline clip-path=\"url(#clip512)\" style=\"stroke:#000000; stroke-linecap:round; stroke-linejoin:round; stroke-width:4; stroke-opacity:1; fill:none\" points=\"1584.84,1128.42 1584.84,1445.72 1714.4,1445.72 1714.4,1128.42 1584.84,1128.42 \"/>\n",
       "<path clip-path=\"url(#clip512)\" d=\"M1714.4 1342.41 L1714.4 1445.72 L1843.97 1445.72 L1843.97 1342.41 L1714.4 1342.41 L1714.4 1342.41  Z\" fill=\"#009af9\" fill-rule=\"evenodd\" fill-opacity=\"1\"/>\n",
       "<polyline clip-path=\"url(#clip512)\" style=\"stroke:#000000; stroke-linecap:round; stroke-linejoin:round; stroke-width:4; stroke-opacity:1; fill:none\" points=\"1714.4,1342.41 1714.4,1445.72 1843.97,1445.72 1843.97,1342.41 1714.4,1342.41 \"/>\n",
       "<path clip-path=\"url(#clip512)\" d=\"M1843.97 1408.82 L1843.97 1445.72 L1973.53 1445.72 L1973.53 1408.82 L1843.97 1408.82 L1843.97 1408.82  Z\" fill=\"#009af9\" fill-rule=\"evenodd\" fill-opacity=\"1\"/>\n",
       "<polyline clip-path=\"url(#clip512)\" style=\"stroke:#000000; stroke-linecap:round; stroke-linejoin:round; stroke-width:4; stroke-opacity:1; fill:none\" points=\"1843.97,1408.82 1843.97,1445.72 1973.53,1445.72 1973.53,1408.82 1843.97,1408.82 \"/>\n",
       "<path clip-path=\"url(#clip512)\" d=\"M1973.53 1416.2 L1973.53 1445.72 L2103.09 1445.72 L2103.09 1416.2 L1973.53 1416.2 L1973.53 1416.2  Z\" fill=\"#009af9\" fill-rule=\"evenodd\" fill-opacity=\"1\"/>\n",
       "<polyline clip-path=\"url(#clip512)\" style=\"stroke:#000000; stroke-linecap:round; stroke-linejoin:round; stroke-width:4; stroke-opacity:1; fill:none\" points=\"1973.53,1416.2 1973.53,1445.72 2103.09,1445.72 2103.09,1416.2 1973.53,1416.2 \"/>\n",
       "<path clip-path=\"url(#clip512)\" d=\"M2103.09 1438.34 L2103.09 1445.72 L2232.65 1445.72 L2232.65 1438.34 L2103.09 1438.34 L2103.09 1438.34  Z\" fill=\"#009af9\" fill-rule=\"evenodd\" fill-opacity=\"1\"/>\n",
       "<polyline clip-path=\"url(#clip512)\" style=\"stroke:#000000; stroke-linecap:round; stroke-linejoin:round; stroke-width:4; stroke-opacity:1; fill:none\" points=\"2103.09,1438.34 2103.09,1445.72 2232.65,1445.72 2232.65,1438.34 2103.09,1438.34 \"/>\n",
       "<circle clip-path=\"url(#clip512)\" style=\"fill:#009af9; stroke:none; fill-opacity:0\" cx=\"354.006\" cy=\"1430.96\" r=\"2\"/>\n",
       "<circle clip-path=\"url(#clip512)\" style=\"fill:#009af9; stroke:none; fill-opacity:0\" cx=\"483.568\" cy=\"1430.96\" r=\"2\"/>\n",
       "<circle clip-path=\"url(#clip512)\" style=\"fill:#009af9; stroke:none; fill-opacity:0\" cx=\"613.13\" cy=\"1312.89\" r=\"2\"/>\n",
       "<circle clip-path=\"url(#clip512)\" style=\"fill:#009af9; stroke:none; fill-opacity:0\" cx=\"742.691\" cy=\"1069.39\" r=\"2\"/>\n",
       "<circle clip-path=\"url(#clip512)\" style=\"fill:#009af9; stroke:none; fill-opacity:0\" cx=\"872.253\" cy=\"604.508\" r=\"2\"/>\n",
       "<circle clip-path=\"url(#clip512)\" style=\"fill:#009af9; stroke:none; fill-opacity:0\" cx=\"1001.82\" cy=\"361\" r=\"2\"/>\n",
       "<circle clip-path=\"url(#clip512)\" style=\"fill:#009af9; stroke:none; fill-opacity:0\" cx=\"1131.38\" cy=\"87.9763\" r=\"2\"/>\n",
       "<circle clip-path=\"url(#clip512)\" style=\"fill:#009af9; stroke:none; fill-opacity:0\" cx=\"1260.94\" cy=\"102.734\" r=\"2\"/>\n",
       "<circle clip-path=\"url(#clip512)\" style=\"fill:#009af9; stroke:none; fill-opacity:0\" cx=\"1390.5\" cy=\"449.548\" r=\"2\"/>\n",
       "<circle clip-path=\"url(#clip512)\" style=\"fill:#009af9; stroke:none; fill-opacity:0\" cx=\"1520.06\" cy=\"722.572\" r=\"2\"/>\n",
       "<circle clip-path=\"url(#clip512)\" style=\"fill:#009af9; stroke:none; fill-opacity:0\" cx=\"1649.62\" cy=\"1128.42\" r=\"2\"/>\n",
       "<circle clip-path=\"url(#clip512)\" style=\"fill:#009af9; stroke:none; fill-opacity:0\" cx=\"1779.19\" cy=\"1342.41\" r=\"2\"/>\n",
       "<circle clip-path=\"url(#clip512)\" style=\"fill:#009af9; stroke:none; fill-opacity:0\" cx=\"1908.75\" cy=\"1408.82\" r=\"2\"/>\n",
       "<circle clip-path=\"url(#clip512)\" style=\"fill:#009af9; stroke:none; fill-opacity:0\" cx=\"2038.31\" cy=\"1416.2\" r=\"2\"/>\n",
       "<circle clip-path=\"url(#clip512)\" style=\"fill:#009af9; stroke:none; fill-opacity:0\" cx=\"2167.87\" cy=\"1438.34\" r=\"2\"/>\n",
       "</svg>\n"
      ]
     },
     "execution_count": 42,
     "metadata": {},
     "output_type": "execute_result"
    }
   ],
   "source": [
    "using Plots\n",
    "histogram(x, legend = false)"
   ]
  },
  {
   "cell_type": "markdown",
   "id": "acf09989",
   "metadata": {},
   "source": [
    "### 3.3\n",
    "\n",
    "#### Plot  the same distribution and change the bins to 50"
   ]
  },
  {
   "cell_type": "code",
   "execution_count": 43,
   "id": "f640420a",
   "metadata": {},
   "outputs": [
    {
     "data": {
      "image/svg+xml": [
       "<?xml version=\"1.0\" encoding=\"utf-8\"?>\n",
       "<svg xmlns=\"http://www.w3.org/2000/svg\" xmlns:xlink=\"http://www.w3.org/1999/xlink\" width=\"600\" height=\"400\" viewBox=\"0 0 2400 1600\">\n",
       "<defs>\n",
       "  <clipPath id=\"clip550\">\n",
       "    <rect x=\"0\" y=\"0\" width=\"2400\" height=\"1600\"/>\n",
       "  </clipPath>\n",
       "</defs>\n",
       "<path clip-path=\"url(#clip550)\" d=\"M0 1600 L2400 1600 L2400 0 L0 0  Z\" fill=\"#ffffff\" fill-rule=\"evenodd\" fill-opacity=\"1\"/>\n",
       "<defs>\n",
       "  <clipPath id=\"clip551\">\n",
       "    <rect x=\"480\" y=\"0\" width=\"1681\" height=\"1600\"/>\n",
       "  </clipPath>\n",
       "</defs>\n",
       "<path clip-path=\"url(#clip550)\" d=\"M169.121 1486.45 L2352.76 1486.45 L2352.76 47.2441 L169.121 47.2441  Z\" fill=\"#ffffff\" fill-rule=\"evenodd\" fill-opacity=\"1\"/>\n",
       "<defs>\n",
       "  <clipPath id=\"clip552\">\n",
       "    <rect x=\"169\" y=\"47\" width=\"2185\" height=\"1440\"/>\n",
       "  </clipPath>\n",
       "</defs>\n",
       "<polyline clip-path=\"url(#clip552)\" style=\"stroke:#000000; stroke-linecap:round; stroke-linejoin:round; stroke-width:2; stroke-opacity:0.1; fill:none\" points=\"490.269,1486.45 490.269,47.2441 \"/>\n",
       "<polyline clip-path=\"url(#clip552)\" style=\"stroke:#000000; stroke-linecap:round; stroke-linejoin:round; stroke-width:2; stroke-opacity:0.1; fill:none\" points=\"892.358,1486.45 892.358,47.2441 \"/>\n",
       "<polyline clip-path=\"url(#clip552)\" style=\"stroke:#000000; stroke-linecap:round; stroke-linejoin:round; stroke-width:2; stroke-opacity:0.1; fill:none\" points=\"1294.45,1486.45 1294.45,47.2441 \"/>\n",
       "<polyline clip-path=\"url(#clip552)\" style=\"stroke:#000000; stroke-linecap:round; stroke-linejoin:round; stroke-width:2; stroke-opacity:0.1; fill:none\" points=\"1696.53,1486.45 1696.53,47.2441 \"/>\n",
       "<polyline clip-path=\"url(#clip552)\" style=\"stroke:#000000; stroke-linecap:round; stroke-linejoin:round; stroke-width:2; stroke-opacity:0.1; fill:none\" points=\"2098.62,1486.45 2098.62,47.2441 \"/>\n",
       "<polyline clip-path=\"url(#clip550)\" style=\"stroke:#000000; stroke-linecap:round; stroke-linejoin:round; stroke-width:4; stroke-opacity:1; fill:none\" points=\"169.121,1486.45 2352.76,1486.45 \"/>\n",
       "<polyline clip-path=\"url(#clip550)\" style=\"stroke:#000000; stroke-linecap:round; stroke-linejoin:round; stroke-width:4; stroke-opacity:1; fill:none\" points=\"490.269,1486.45 490.269,1467.55 \"/>\n",
       "<polyline clip-path=\"url(#clip550)\" style=\"stroke:#000000; stroke-linecap:round; stroke-linejoin:round; stroke-width:4; stroke-opacity:1; fill:none\" points=\"892.358,1486.45 892.358,1467.55 \"/>\n",
       "<polyline clip-path=\"url(#clip550)\" style=\"stroke:#000000; stroke-linecap:round; stroke-linejoin:round; stroke-width:4; stroke-opacity:1; fill:none\" points=\"1294.45,1486.45 1294.45,1467.55 \"/>\n",
       "<polyline clip-path=\"url(#clip550)\" style=\"stroke:#000000; stroke-linecap:round; stroke-linejoin:round; stroke-width:4; stroke-opacity:1; fill:none\" points=\"1696.53,1486.45 1696.53,1467.55 \"/>\n",
       "<polyline clip-path=\"url(#clip550)\" style=\"stroke:#000000; stroke-linecap:round; stroke-linejoin:round; stroke-width:4; stroke-opacity:1; fill:none\" points=\"2098.62,1486.45 2098.62,1467.55 \"/>\n",
       "<path clip-path=\"url(#clip550)\" d=\"M490.269 1517.37 Q486.658 1517.37 484.829 1520.93 Q483.024 1524.47 483.024 1531.6 Q483.024 1538.71 484.829 1542.27 Q486.658 1545.82 490.269 1545.82 Q493.904 1545.82 495.709 1542.27 Q497.538 1538.71 497.538 1531.6 Q497.538 1524.47 495.709 1520.93 Q493.904 1517.37 490.269 1517.37 M490.269 1513.66 Q496.079 1513.66 499.135 1518.27 Q502.214 1522.85 502.214 1531.6 Q502.214 1540.33 499.135 1544.94 Q496.079 1549.52 490.269 1549.52 Q484.459 1549.52 481.38 1544.94 Q478.325 1540.33 478.325 1531.6 Q478.325 1522.85 481.38 1518.27 Q484.459 1513.66 490.269 1513.66 Z\" fill=\"#000000\" fill-rule=\"evenodd\" fill-opacity=\"1\" /><path clip-path=\"url(#clip550)\" d=\"M896.605 1530.21 Q899.962 1530.93 901.837 1533.2 Q903.735 1535.47 903.735 1538.8 Q903.735 1543.92 900.216 1546.72 Q896.698 1549.52 890.216 1549.52 Q888.041 1549.52 885.726 1549.08 Q883.434 1548.66 880.98 1547.81 L880.98 1543.29 Q882.925 1544.43 885.24 1545.01 Q887.554 1545.58 890.078 1545.58 Q894.476 1545.58 896.767 1543.85 Q899.082 1542.11 899.082 1538.8 Q899.082 1535.75 896.929 1534.03 Q894.8 1532.3 890.98 1532.3 L886.953 1532.3 L886.953 1528.45 L891.166 1528.45 Q894.615 1528.45 896.443 1527.09 Q898.272 1525.7 898.272 1523.11 Q898.272 1520.45 896.374 1519.03 Q894.499 1517.6 890.98 1517.6 Q889.059 1517.6 886.86 1518.01 Q884.661 1518.43 882.022 1519.31 L882.022 1515.14 Q884.684 1514.4 886.999 1514.03 Q889.337 1513.66 891.397 1513.66 Q896.721 1513.66 899.823 1516.09 Q902.925 1518.5 902.925 1522.62 Q902.925 1525.49 901.281 1527.48 Q899.638 1529.45 896.605 1530.21 Z\" fill=\"#000000\" fill-rule=\"evenodd\" fill-opacity=\"1\" /><path clip-path=\"url(#clip550)\" d=\"M1294.85 1529.7 Q1291.7 1529.7 1289.85 1531.86 Q1288.02 1534.01 1288.02 1537.76 Q1288.02 1541.49 1289.85 1543.66 Q1291.7 1545.82 1294.85 1545.82 Q1298 1545.82 1299.83 1543.66 Q1301.68 1541.49 1301.68 1537.76 Q1301.68 1534.01 1299.83 1531.86 Q1298 1529.7 1294.85 1529.7 M1304.13 1515.05 L1304.13 1519.31 Q1302.37 1518.48 1300.57 1518.04 Q1298.79 1517.6 1297.03 1517.6 Q1292.4 1517.6 1289.94 1520.72 Q1287.51 1523.85 1287.17 1530.17 Q1288.53 1528.15 1290.59 1527.09 Q1292.65 1526 1295.13 1526 Q1300.34 1526 1303.35 1529.17 Q1306.38 1532.32 1306.38 1537.76 Q1306.38 1543.08 1303.23 1546.3 Q1300.08 1549.52 1294.85 1549.52 Q1288.86 1549.52 1285.68 1544.94 Q1282.51 1540.33 1282.51 1531.6 Q1282.51 1523.41 1286.4 1518.55 Q1290.29 1513.66 1296.84 1513.66 Q1298.6 1513.66 1300.38 1514.01 Q1302.19 1514.36 1304.13 1515.05 Z\" fill=\"#000000\" fill-rule=\"evenodd\" fill-opacity=\"1\" /><path clip-path=\"url(#clip550)\" d=\"M1686.84 1548.13 L1686.84 1543.87 Q1688.59 1544.7 1690.4 1545.14 Q1692.21 1545.58 1693.94 1545.58 Q1698.57 1545.58 1701 1542.48 Q1703.46 1539.36 1703.8 1533.01 Q1702.46 1535.01 1700.4 1536.07 Q1698.34 1537.13 1695.84 1537.13 Q1690.65 1537.13 1687.62 1534.01 Q1684.61 1530.86 1684.61 1525.42 Q1684.61 1520.1 1687.76 1516.88 Q1690.91 1513.66 1696.14 1513.66 Q1702.14 1513.66 1705.28 1518.27 Q1708.46 1522.85 1708.46 1531.6 Q1708.46 1539.77 1704.57 1544.66 Q1700.7 1549.52 1694.15 1549.52 Q1692.39 1549.52 1690.59 1549.17 Q1688.78 1548.82 1686.84 1548.13 M1696.14 1533.48 Q1699.29 1533.48 1701.12 1531.32 Q1702.97 1529.17 1702.97 1525.42 Q1702.97 1521.7 1701.12 1519.54 Q1699.29 1517.37 1696.14 1517.37 Q1692.99 1517.37 1691.14 1519.54 Q1689.31 1521.7 1689.31 1525.42 Q1689.31 1529.17 1691.14 1531.32 Q1692.99 1533.48 1696.14 1533.48 Z\" fill=\"#000000\" fill-rule=\"evenodd\" fill-opacity=\"1\" /><path clip-path=\"url(#clip550)\" d=\"M2074.11 1544.91 L2081.75 1544.91 L2081.75 1518.55 L2073.44 1520.21 L2073.44 1515.95 L2081.7 1514.29 L2086.38 1514.29 L2086.38 1544.91 L2094.02 1544.91 L2094.02 1548.85 L2074.11 1548.85 L2074.11 1544.91 Z\" fill=\"#000000\" fill-rule=\"evenodd\" fill-opacity=\"1\" /><path clip-path=\"url(#clip550)\" d=\"M2107.49 1544.91 L2123.81 1544.91 L2123.81 1548.85 L2101.86 1548.85 L2101.86 1544.91 Q2104.53 1542.16 2109.11 1537.53 Q2113.72 1532.88 2114.9 1531.53 Q2117.14 1529.01 2118.02 1527.27 Q2118.92 1525.51 2118.92 1523.82 Q2118.92 1521.07 2116.98 1519.33 Q2115.06 1517.6 2111.96 1517.6 Q2109.76 1517.6 2107.3 1518.36 Q2104.87 1519.13 2102.09 1520.68 L2102.09 1515.95 Q2104.92 1514.82 2107.37 1514.24 Q2109.83 1513.66 2111.86 1513.66 Q2117.23 1513.66 2120.43 1516.35 Q2123.62 1519.03 2123.62 1523.52 Q2123.62 1525.65 2122.81 1527.57 Q2122.03 1529.47 2119.92 1532.07 Q2119.34 1532.74 2116.24 1535.95 Q2113.14 1539.15 2107.49 1544.91 Z\" fill=\"#000000\" fill-rule=\"evenodd\" fill-opacity=\"1\" /><polyline clip-path=\"url(#clip552)\" style=\"stroke:#000000; stroke-linecap:round; stroke-linejoin:round; stroke-width:2; stroke-opacity:0.1; fill:none\" points=\"169.121,1445.72 2352.76,1445.72 \"/>\n",
       "<polyline clip-path=\"url(#clip552)\" style=\"stroke:#000000; stroke-linecap:round; stroke-linejoin:round; stroke-width:2; stroke-opacity:0.1; fill:none\" points=\"169.121,1102.85 2352.76,1102.85 \"/>\n",
       "<polyline clip-path=\"url(#clip552)\" style=\"stroke:#000000; stroke-linecap:round; stroke-linejoin:round; stroke-width:2; stroke-opacity:0.1; fill:none\" points=\"169.121,759.989 2352.76,759.989 \"/>\n",
       "<polyline clip-path=\"url(#clip552)\" style=\"stroke:#000000; stroke-linecap:round; stroke-linejoin:round; stroke-width:2; stroke-opacity:0.1; fill:none\" points=\"169.121,417.125 2352.76,417.125 \"/>\n",
       "<polyline clip-path=\"url(#clip552)\" style=\"stroke:#000000; stroke-linecap:round; stroke-linejoin:round; stroke-width:2; stroke-opacity:0.1; fill:none\" points=\"169.121,74.2617 2352.76,74.2617 \"/>\n",
       "<polyline clip-path=\"url(#clip550)\" style=\"stroke:#000000; stroke-linecap:round; stroke-linejoin:round; stroke-width:4; stroke-opacity:1; fill:none\" points=\"169.121,1486.45 169.121,47.2441 \"/>\n",
       "<polyline clip-path=\"url(#clip550)\" style=\"stroke:#000000; stroke-linecap:round; stroke-linejoin:round; stroke-width:4; stroke-opacity:1; fill:none\" points=\"169.121,1445.72 188.019,1445.72 \"/>\n",
       "<polyline clip-path=\"url(#clip550)\" style=\"stroke:#000000; stroke-linecap:round; stroke-linejoin:round; stroke-width:4; stroke-opacity:1; fill:none\" points=\"169.121,1102.85 188.019,1102.85 \"/>\n",
       "<polyline clip-path=\"url(#clip550)\" style=\"stroke:#000000; stroke-linecap:round; stroke-linejoin:round; stroke-width:4; stroke-opacity:1; fill:none\" points=\"169.121,759.989 188.019,759.989 \"/>\n",
       "<polyline clip-path=\"url(#clip550)\" style=\"stroke:#000000; stroke-linecap:round; stroke-linejoin:round; stroke-width:4; stroke-opacity:1; fill:none\" points=\"169.121,417.125 188.019,417.125 \"/>\n",
       "<polyline clip-path=\"url(#clip550)\" style=\"stroke:#000000; stroke-linecap:round; stroke-linejoin:round; stroke-width:4; stroke-opacity:1; fill:none\" points=\"169.121,74.2617 188.019,74.2617 \"/>\n",
       "<path clip-path=\"url(#clip550)\" d=\"M121.177 1431.51 Q117.566 1431.51 115.737 1435.08 Q113.932 1438.62 113.932 1445.75 Q113.932 1452.86 115.737 1456.42 Q117.566 1459.96 121.177 1459.96 Q124.811 1459.96 126.617 1456.42 Q128.445 1452.86 128.445 1445.75 Q128.445 1438.62 126.617 1435.08 Q124.811 1431.51 121.177 1431.51 M121.177 1427.81 Q126.987 1427.81 130.043 1432.42 Q133.121 1437 133.121 1445.75 Q133.121 1454.48 130.043 1459.08 Q126.987 1463.67 121.177 1463.67 Q115.367 1463.67 112.288 1459.08 Q109.233 1454.48 109.233 1445.75 Q109.233 1437 112.288 1432.42 Q115.367 1427.81 121.177 1427.81 Z\" fill=\"#000000\" fill-rule=\"evenodd\" fill-opacity=\"1\" /><path clip-path=\"url(#clip550)\" d=\"M86.0382 1116.2 L102.358 1116.2 L102.358 1120.13 L80.4133 1120.13 L80.4133 1116.2 Q83.0753 1113.44 87.6586 1108.81 Q92.2651 1104.16 93.4456 1102.82 Q95.691 1100.29 96.5706 1098.56 Q97.4734 1096.8 97.4734 1095.11 Q97.4734 1092.35 95.5289 1090.62 Q93.6076 1088.88 90.5058 1088.88 Q88.3067 1088.88 85.8531 1089.65 Q83.4225 1090.41 80.6447 1091.96 L80.6447 1087.24 Q83.4688 1086.1 85.9225 1085.53 Q88.3762 1084.95 90.4132 1084.95 Q95.7836 1084.95 98.978 1087.63 Q102.172 1090.32 102.172 1094.81 Q102.172 1096.94 101.362 1098.86 Q100.575 1100.76 98.4687 1103.35 Q97.89 1104.02 94.7882 1107.24 Q91.6864 1110.43 86.0382 1116.2 Z\" fill=\"#000000\" fill-rule=\"evenodd\" fill-opacity=\"1\" /><path clip-path=\"url(#clip550)\" d=\"M112.219 1085.57 L130.575 1085.57 L130.575 1089.51 L116.501 1089.51 L116.501 1097.98 Q117.52 1097.63 118.538 1097.47 Q119.557 1097.29 120.575 1097.29 Q126.362 1097.29 129.742 1100.46 Q133.121 1103.63 133.121 1109.04 Q133.121 1114.62 129.649 1117.72 Q126.177 1120.8 119.857 1120.8 Q117.682 1120.8 115.413 1120.43 Q113.168 1120.06 110.76 1119.32 L110.76 1114.62 Q112.844 1115.76 115.066 1116.31 Q117.288 1116.87 119.765 1116.87 Q123.77 1116.87 126.107 1114.76 Q128.445 1112.66 128.445 1109.04 Q128.445 1105.43 126.107 1103.33 Q123.77 1101.22 119.765 1101.22 Q117.89 1101.22 116.015 1101.64 Q114.163 1102.05 112.219 1102.93 L112.219 1085.57 Z\" fill=\"#000000\" fill-rule=\"evenodd\" fill-opacity=\"1\" /><path clip-path=\"url(#clip550)\" d=\"M81.0614 742.709 L99.4178 742.709 L99.4178 746.644 L85.3438 746.644 L85.3438 755.116 Q86.3623 754.769 87.3808 754.607 Q88.3993 754.422 89.4178 754.422 Q95.2049 754.422 98.5845 757.593 Q101.964 760.764 101.964 766.181 Q101.964 771.759 98.4919 774.861 Q95.0197 777.94 88.7003 777.94 Q86.5243 777.94 84.2558 777.57 Q82.0105 777.199 79.6031 776.459 L79.6031 771.759 Q81.6864 772.894 83.9086 773.449 Q86.1308 774.005 88.6077 774.005 Q92.6123 774.005 94.9502 771.898 Q97.2882 769.792 97.2882 766.181 Q97.2882 762.57 94.9502 760.463 Q92.6123 758.357 88.6077 758.357 Q86.7327 758.357 84.8577 758.773 Q83.0058 759.19 81.0614 760.07 L81.0614 742.709 Z\" fill=\"#000000\" fill-rule=\"evenodd\" fill-opacity=\"1\" /><path clip-path=\"url(#clip550)\" d=\"M121.177 745.787 Q117.566 745.787 115.737 749.352 Q113.932 752.894 113.932 760.023 Q113.932 767.13 115.737 770.695 Q117.566 774.236 121.177 774.236 Q124.811 774.236 126.617 770.695 Q128.445 767.13 128.445 760.023 Q128.445 752.894 126.617 749.352 Q124.811 745.787 121.177 745.787 M121.177 742.084 Q126.987 742.084 130.043 746.69 Q133.121 751.273 133.121 760.023 Q133.121 768.75 130.043 773.357 Q126.987 777.94 121.177 777.94 Q115.367 777.94 112.288 773.357 Q109.233 768.75 109.233 760.023 Q109.233 751.273 112.288 746.69 Q115.367 742.084 121.177 742.084 Z\" fill=\"#000000\" fill-rule=\"evenodd\" fill-opacity=\"1\" /><path clip-path=\"url(#clip550)\" d=\"M80.8299 399.845 L103.052 399.845 L103.052 401.836 L90.5058 434.405 L85.6216 434.405 L97.4271 403.78 L80.8299 403.78 L80.8299 399.845 Z\" fill=\"#000000\" fill-rule=\"evenodd\" fill-opacity=\"1\" /><path clip-path=\"url(#clip550)\" d=\"M112.219 399.845 L130.575 399.845 L130.575 403.78 L116.501 403.78 L116.501 412.253 Q117.52 411.905 118.538 411.743 Q119.557 411.558 120.575 411.558 Q126.362 411.558 129.742 414.729 Q133.121 417.901 133.121 423.317 Q133.121 428.896 129.649 431.998 Q126.177 435.077 119.857 435.077 Q117.682 435.077 115.413 434.706 Q113.168 434.336 110.76 433.595 L110.76 428.896 Q112.844 430.03 115.066 430.586 Q117.288 431.141 119.765 431.141 Q123.77 431.141 126.107 429.035 Q128.445 426.928 128.445 423.317 Q128.445 419.706 126.107 417.6 Q123.77 415.493 119.765 415.493 Q117.89 415.493 116.015 415.91 Q114.163 416.327 112.219 417.206 L112.219 399.845 Z\" fill=\"#000000\" fill-rule=\"evenodd\" fill-opacity=\"1\" /><path clip-path=\"url(#clip550)\" d=\"M51.6634 87.6066 L59.3023 87.6066 L59.3023 61.241 L50.9921 62.9076 L50.9921 58.6484 L59.256 56.9817 L63.9319 56.9817 L63.9319 87.6066 L71.5707 87.6066 L71.5707 91.5417 L51.6634 91.5417 L51.6634 87.6066 Z\" fill=\"#000000\" fill-rule=\"evenodd\" fill-opacity=\"1\" /><path clip-path=\"url(#clip550)\" d=\"M91.0151 60.0604 Q87.404 60.0604 85.5753 63.6252 Q83.7697 67.1669 83.7697 74.2965 Q83.7697 81.4029 85.5753 84.9677 Q87.404 88.5093 91.0151 88.5093 Q94.6493 88.5093 96.4548 84.9677 Q98.2835 81.4029 98.2835 74.2965 Q98.2835 67.1669 96.4548 63.6252 Q94.6493 60.0604 91.0151 60.0604 M91.0151 56.3567 Q96.8252 56.3567 99.8808 60.9632 Q102.959 65.5465 102.959 74.2965 Q102.959 83.0233 99.8808 87.6297 Q96.8252 92.213 91.0151 92.213 Q85.2049 92.213 82.1262 87.6297 Q79.0707 83.0233 79.0707 74.2965 Q79.0707 65.5465 82.1262 60.9632 Q85.2049 56.3567 91.0151 56.3567 Z\" fill=\"#000000\" fill-rule=\"evenodd\" fill-opacity=\"1\" /><path clip-path=\"url(#clip550)\" d=\"M121.177 60.0604 Q117.566 60.0604 115.737 63.6252 Q113.932 67.1669 113.932 74.2965 Q113.932 81.4029 115.737 84.9677 Q117.566 88.5093 121.177 88.5093 Q124.811 88.5093 126.617 84.9677 Q128.445 81.4029 128.445 74.2965 Q128.445 67.1669 126.617 63.6252 Q124.811 60.0604 121.177 60.0604 M121.177 56.3567 Q126.987 56.3567 130.043 60.9632 Q133.121 65.5465 133.121 74.2965 Q133.121 83.0233 130.043 87.6297 Q126.987 92.213 121.177 92.213 Q115.367 92.213 112.288 87.6297 Q109.233 83.0233 109.233 74.2965 Q109.233 65.5465 112.288 60.9632 Q115.367 56.3567 121.177 56.3567 Z\" fill=\"#000000\" fill-rule=\"evenodd\" fill-opacity=\"1\" /><path clip-path=\"url(#clip552)\" d=\"M289.225 1418.29 L289.225 1445.72 L356.24 1445.72 L356.24 1418.29 L289.225 1418.29 L289.225 1418.29  Z\" fill=\"#009af9\" fill-rule=\"evenodd\" fill-opacity=\"1\"/>\n",
       "<polyline clip-path=\"url(#clip552)\" style=\"stroke:#000000; stroke-linecap:round; stroke-linejoin:round; stroke-width:4; stroke-opacity:1; fill:none\" points=\"289.225,1418.29 289.225,1445.72 356.24,1445.72 356.24,1418.29 289.225,1418.29 \"/>\n",
       "<path clip-path=\"url(#clip552)\" d=\"M356.24 1432 L356.24 1445.72 L423.255 1445.72 L423.255 1432 L356.24 1432 L356.24 1432  Z\" fill=\"#009af9\" fill-rule=\"evenodd\" fill-opacity=\"1\"/>\n",
       "<polyline clip-path=\"url(#clip552)\" style=\"stroke:#000000; stroke-linecap:round; stroke-linejoin:round; stroke-width:4; stroke-opacity:1; fill:none\" points=\"356.24,1432 356.24,1445.72 423.255,1445.72 423.255,1432 356.24,1432 \"/>\n",
       "<path clip-path=\"url(#clip552)\" d=\"M423.255 1432 L423.255 1445.72 L490.269 1445.72 L490.269 1432 L423.255 1432 L423.255 1432  Z\" fill=\"#009af9\" fill-rule=\"evenodd\" fill-opacity=\"1\"/>\n",
       "<polyline clip-path=\"url(#clip552)\" style=\"stroke:#000000; stroke-linecap:round; stroke-linejoin:round; stroke-width:4; stroke-opacity:1; fill:none\" points=\"423.255,1432 423.255,1445.72 490.269,1445.72 490.269,1432 423.255,1432 \"/>\n",
       "<path clip-path=\"url(#clip552)\" d=\"M490.269 1336 L490.269 1445.72 L557.284 1445.72 L557.284 1336 L490.269 1336 L490.269 1336  Z\" fill=\"#009af9\" fill-rule=\"evenodd\" fill-opacity=\"1\"/>\n",
       "<polyline clip-path=\"url(#clip552)\" style=\"stroke:#000000; stroke-linecap:round; stroke-linejoin:round; stroke-width:4; stroke-opacity:1; fill:none\" points=\"490.269,1336 490.269,1445.72 557.284,1445.72 557.284,1336 490.269,1336 \"/>\n",
       "<path clip-path=\"url(#clip552)\" d=\"M557.284 1308.57 L557.284 1445.72 L624.299 1445.72 L624.299 1308.57 L557.284 1308.57 L557.284 1308.57  Z\" fill=\"#009af9\" fill-rule=\"evenodd\" fill-opacity=\"1\"/>\n",
       "<polyline clip-path=\"url(#clip552)\" style=\"stroke:#000000; stroke-linecap:round; stroke-linejoin:round; stroke-width:4; stroke-opacity:1; fill:none\" points=\"557.284,1308.57 557.284,1445.72 624.299,1445.72 624.299,1308.57 557.284,1308.57 \"/>\n",
       "<path clip-path=\"url(#clip552)\" d=\"M624.299 1198.85 L624.299 1445.72 L691.313 1445.72 L691.313 1198.85 L624.299 1198.85 L624.299 1198.85  Z\" fill=\"#009af9\" fill-rule=\"evenodd\" fill-opacity=\"1\"/>\n",
       "<polyline clip-path=\"url(#clip552)\" style=\"stroke:#000000; stroke-linecap:round; stroke-linejoin:round; stroke-width:4; stroke-opacity:1; fill:none\" points=\"624.299,1198.85 624.299,1445.72 691.313,1445.72 691.313,1198.85 624.299,1198.85 \"/>\n",
       "<path clip-path=\"url(#clip552)\" d=\"M691.313 993.136 L691.313 1445.72 L758.328 1445.72 L758.328 993.136 L691.313 993.136 L691.313 993.136  Z\" fill=\"#009af9\" fill-rule=\"evenodd\" fill-opacity=\"1\"/>\n",
       "<polyline clip-path=\"url(#clip552)\" style=\"stroke:#000000; stroke-linecap:round; stroke-linejoin:round; stroke-width:4; stroke-opacity:1; fill:none\" points=\"691.313,993.136 691.313,1445.72 758.328,1445.72 758.328,993.136 691.313,993.136 \"/>\n",
       "<path clip-path=\"url(#clip552)\" d=\"M758.328 787.418 L758.328 1445.72 L825.343 1445.72 L825.343 787.418 L758.328 787.418 L758.328 787.418  Z\" fill=\"#009af9\" fill-rule=\"evenodd\" fill-opacity=\"1\"/>\n",
       "<polyline clip-path=\"url(#clip552)\" style=\"stroke:#000000; stroke-linecap:round; stroke-linejoin:round; stroke-width:4; stroke-opacity:1; fill:none\" points=\"758.328,787.418 758.328,1445.72 825.343,1445.72 825.343,787.418 758.328,787.418 \"/>\n",
       "<path clip-path=\"url(#clip552)\" d=\"M825.343 540.556 L825.343 1445.72 L892.358 1445.72 L892.358 540.556 L825.343 540.556 L825.343 540.556  Z\" fill=\"#009af9\" fill-rule=\"evenodd\" fill-opacity=\"1\"/>\n",
       "<polyline clip-path=\"url(#clip552)\" style=\"stroke:#000000; stroke-linecap:round; stroke-linejoin:round; stroke-width:4; stroke-opacity:1; fill:none\" points=\"825.343,540.556 825.343,1445.72 892.358,1445.72 892.358,540.556 825.343,540.556 \"/>\n",
       "<path clip-path=\"url(#clip552)\" d=\"M892.358 485.698 L892.358 1445.72 L959.372 1445.72 L959.372 485.698 L892.358 485.698 L892.358 485.698  Z\" fill=\"#009af9\" fill-rule=\"evenodd\" fill-opacity=\"1\"/>\n",
       "<polyline clip-path=\"url(#clip552)\" style=\"stroke:#000000; stroke-linecap:round; stroke-linejoin:round; stroke-width:4; stroke-opacity:1; fill:none\" points=\"892.358,485.698 892.358,1445.72 959.372,1445.72 959.372,485.698 892.358,485.698 \"/>\n",
       "<path clip-path=\"url(#clip552)\" d=\"M959.372 389.696 L959.372 1445.72 L1026.39 1445.72 L1026.39 389.696 L959.372 389.696 L959.372 389.696  Z\" fill=\"#009af9\" fill-rule=\"evenodd\" fill-opacity=\"1\"/>\n",
       "<polyline clip-path=\"url(#clip552)\" style=\"stroke:#000000; stroke-linecap:round; stroke-linejoin:round; stroke-width:4; stroke-opacity:1; fill:none\" points=\"959.372,389.696 959.372,1445.72 1026.39,1445.72 1026.39,389.696 959.372,389.696 \"/>\n",
       "<path clip-path=\"url(#clip552)\" d=\"M1026.39 197.693 L1026.39 1445.72 L1093.4 1445.72 L1093.4 197.693 L1026.39 197.693 L1026.39 197.693  Z\" fill=\"#009af9\" fill-rule=\"evenodd\" fill-opacity=\"1\"/>\n",
       "<polyline clip-path=\"url(#clip552)\" style=\"stroke:#000000; stroke-linecap:round; stroke-linejoin:round; stroke-width:4; stroke-opacity:1; fill:none\" points=\"1026.39,197.693 1026.39,1445.72 1093.4,1445.72 1093.4,197.693 1026.39,197.693 \"/>\n",
       "<path clip-path=\"url(#clip552)\" d=\"M1093.4 170.264 L1093.4 1445.72 L1160.42 1445.72 L1160.42 170.264 L1093.4 170.264 L1093.4 170.264  Z\" fill=\"#009af9\" fill-rule=\"evenodd\" fill-opacity=\"1\"/>\n",
       "<polyline clip-path=\"url(#clip552)\" style=\"stroke:#000000; stroke-linecap:round; stroke-linejoin:round; stroke-width:4; stroke-opacity:1; fill:none\" points=\"1093.4,170.264 1093.4,1445.72 1160.42,1445.72 1160.42,170.264 1093.4,170.264 \"/>\n",
       "<path clip-path=\"url(#clip552)\" d=\"M1160.42 87.9763 L1160.42 1445.72 L1227.43 1445.72 L1227.43 87.9763 L1160.42 87.9763 L1160.42 87.9763  Z\" fill=\"#009af9\" fill-rule=\"evenodd\" fill-opacity=\"1\"/>\n",
       "<polyline clip-path=\"url(#clip552)\" style=\"stroke:#000000; stroke-linecap:round; stroke-linejoin:round; stroke-width:4; stroke-opacity:1; fill:none\" points=\"1160.42,87.9763 1160.42,1445.72 1227.43,1445.72 1227.43,87.9763 1160.42,87.9763 \"/>\n",
       "<path clip-path=\"url(#clip552)\" d=\"M1227.43 307.409 L1227.43 1445.72 L1294.45 1445.72 L1294.45 307.409 L1227.43 307.409 L1227.43 307.409  Z\" fill=\"#009af9\" fill-rule=\"evenodd\" fill-opacity=\"1\"/>\n",
       "<polyline clip-path=\"url(#clip552)\" style=\"stroke:#000000; stroke-linecap:round; stroke-linejoin:round; stroke-width:4; stroke-opacity:1; fill:none\" points=\"1227.43,307.409 1227.43,1445.72 1294.45,1445.72 1294.45,307.409 1227.43,307.409 \"/>\n",
       "<path clip-path=\"url(#clip552)\" d=\"M1294.45 403.411 L1294.45 1445.72 L1361.46 1445.72 L1361.46 403.411 L1294.45 403.411 L1294.45 403.411  Z\" fill=\"#009af9\" fill-rule=\"evenodd\" fill-opacity=\"1\"/>\n",
       "<polyline clip-path=\"url(#clip552)\" style=\"stroke:#000000; stroke-linecap:round; stroke-linejoin:round; stroke-width:4; stroke-opacity:1; fill:none\" points=\"1294.45,403.411 1294.45,1445.72 1361.46,1445.72 1361.46,403.411 1294.45,403.411 \"/>\n",
       "<path clip-path=\"url(#clip552)\" d=\"M1361.46 636.558 L1361.46 1445.72 L1428.48 1445.72 L1428.48 636.558 L1361.46 636.558 L1361.46 636.558  Z\" fill=\"#009af9\" fill-rule=\"evenodd\" fill-opacity=\"1\"/>\n",
       "<polyline clip-path=\"url(#clip552)\" style=\"stroke:#000000; stroke-linecap:round; stroke-linejoin:round; stroke-width:4; stroke-opacity:1; fill:none\" points=\"1361.46,636.558 1361.46,1445.72 1428.48,1445.72 1428.48,636.558 1361.46,636.558 \"/>\n",
       "<path clip-path=\"url(#clip552)\" d=\"M1428.48 691.416 L1428.48 1445.72 L1495.49 1445.72 L1495.49 691.416 L1428.48 691.416 L1428.48 691.416  Z\" fill=\"#009af9\" fill-rule=\"evenodd\" fill-opacity=\"1\"/>\n",
       "<polyline clip-path=\"url(#clip552)\" style=\"stroke:#000000; stroke-linecap:round; stroke-linejoin:round; stroke-width:4; stroke-opacity:1; fill:none\" points=\"1428.48,691.416 1428.48,1445.72 1495.49,1445.72 1495.49,691.416 1428.48,691.416 \"/>\n",
       "<path clip-path=\"url(#clip552)\" d=\"M1495.49 855.99 L1495.49 1445.72 L1562.5 1445.72 L1562.5 855.99 L1495.49 855.99 L1495.49 855.99  Z\" fill=\"#009af9\" fill-rule=\"evenodd\" fill-opacity=\"1\"/>\n",
       "<polyline clip-path=\"url(#clip552)\" style=\"stroke:#000000; stroke-linecap:round; stroke-linejoin:round; stroke-width:4; stroke-opacity:1; fill:none\" points=\"1495.49,855.99 1495.49,1445.72 1562.5,1445.72 1562.5,855.99 1495.49,855.99 \"/>\n",
       "<path clip-path=\"url(#clip552)\" d=\"M1562.5 1102.85 L1562.5 1445.72 L1629.52 1445.72 L1629.52 1102.85 L1562.5 1102.85 L1562.5 1102.85  Z\" fill=\"#009af9\" fill-rule=\"evenodd\" fill-opacity=\"1\"/>\n",
       "<polyline clip-path=\"url(#clip552)\" style=\"stroke:#000000; stroke-linecap:round; stroke-linejoin:round; stroke-width:4; stroke-opacity:1; fill:none\" points=\"1562.5,1102.85 1562.5,1445.72 1629.52,1445.72 1629.52,1102.85 1562.5,1102.85 \"/>\n",
       "<path clip-path=\"url(#clip552)\" d=\"M1629.52 1198.85 L1629.52 1445.72 L1696.53 1445.72 L1696.53 1198.85 L1629.52 1198.85 L1629.52 1198.85  Z\" fill=\"#009af9\" fill-rule=\"evenodd\" fill-opacity=\"1\"/>\n",
       "<polyline clip-path=\"url(#clip552)\" style=\"stroke:#000000; stroke-linecap:round; stroke-linejoin:round; stroke-width:4; stroke-opacity:1; fill:none\" points=\"1629.52,1198.85 1629.52,1445.72 1696.53,1445.72 1696.53,1198.85 1629.52,1198.85 \"/>\n",
       "<path clip-path=\"url(#clip552)\" d=\"M1696.53 1336 L1696.53 1445.72 L1763.55 1445.72 L1763.55 1336 L1696.53 1336 L1696.53 1336  Z\" fill=\"#009af9\" fill-rule=\"evenodd\" fill-opacity=\"1\"/>\n",
       "<polyline clip-path=\"url(#clip552)\" style=\"stroke:#000000; stroke-linecap:round; stroke-linejoin:round; stroke-width:4; stroke-opacity:1; fill:none\" points=\"1696.53,1336 1696.53,1445.72 1763.55,1445.72 1763.55,1336 1696.53,1336 \"/>\n",
       "<path clip-path=\"url(#clip552)\" d=\"M1763.55 1363.43 L1763.55 1445.72 L1830.56 1445.72 L1830.56 1363.43 L1763.55 1363.43 L1763.55 1363.43  Z\" fill=\"#009af9\" fill-rule=\"evenodd\" fill-opacity=\"1\"/>\n",
       "<polyline clip-path=\"url(#clip552)\" style=\"stroke:#000000; stroke-linecap:round; stroke-linejoin:round; stroke-width:4; stroke-opacity:1; fill:none\" points=\"1763.55,1363.43 1763.55,1445.72 1830.56,1445.72 1830.56,1363.43 1763.55,1363.43 \"/>\n",
       "<path clip-path=\"url(#clip552)\" d=\"M1830.56 1404.57 L1830.56 1445.72 L1897.58 1445.72 L1897.58 1404.57 L1830.56 1404.57 L1830.56 1404.57  Z\" fill=\"#009af9\" fill-rule=\"evenodd\" fill-opacity=\"1\"/>\n",
       "<polyline clip-path=\"url(#clip552)\" style=\"stroke:#000000; stroke-linecap:round; stroke-linejoin:round; stroke-width:4; stroke-opacity:1; fill:none\" points=\"1830.56,1404.57 1830.56,1445.72 1897.58,1445.72 1897.58,1404.57 1830.56,1404.57 \"/>\n",
       "<path clip-path=\"url(#clip552)\" d=\"M1897.58 1418.29 L1897.58 1445.72 L1964.59 1445.72 L1964.59 1418.29 L1897.58 1418.29 L1897.58 1418.29  Z\" fill=\"#009af9\" fill-rule=\"evenodd\" fill-opacity=\"1\"/>\n",
       "<polyline clip-path=\"url(#clip552)\" style=\"stroke:#000000; stroke-linecap:round; stroke-linejoin:round; stroke-width:4; stroke-opacity:1; fill:none\" points=\"1897.58,1418.29 1897.58,1445.72 1964.59,1445.72 1964.59,1418.29 1897.58,1418.29 \"/>\n",
       "<path clip-path=\"url(#clip552)\" d=\"M1964.59 1390.86 L1964.59 1445.72 L2031.61 1445.72 L2031.61 1390.86 L1964.59 1390.86 L1964.59 1390.86  Z\" fill=\"#009af9\" fill-rule=\"evenodd\" fill-opacity=\"1\"/>\n",
       "<polyline clip-path=\"url(#clip552)\" style=\"stroke:#000000; stroke-linecap:round; stroke-linejoin:round; stroke-width:4; stroke-opacity:1; fill:none\" points=\"1964.59,1390.86 1964.59,1445.72 2031.61,1445.72 2031.61,1390.86 1964.59,1390.86 \"/>\n",
       "<path clip-path=\"url(#clip552)\" d=\"M2031.61 1445.72 L2031.61 1445.72 L2098.62 1445.72 L2098.62 1445.72 L2031.61 1445.72 L2031.61 1445.72  Z\" fill=\"#009af9\" fill-rule=\"evenodd\" fill-opacity=\"1\"/>\n",
       "<polyline clip-path=\"url(#clip552)\" style=\"stroke:#000000; stroke-linecap:round; stroke-linejoin:round; stroke-width:4; stroke-opacity:1; fill:none\" points=\"2031.61,1445.72 2031.61,1445.72 2098.62,1445.72 2031.61,1445.72 \"/>\n",
       "<path clip-path=\"url(#clip552)\" d=\"M2098.62 1445.72 L2098.62 1445.72 L2165.64 1445.72 L2165.64 1445.72 L2098.62 1445.72 L2098.62 1445.72  Z\" fill=\"#009af9\" fill-rule=\"evenodd\" fill-opacity=\"1\"/>\n",
       "<polyline clip-path=\"url(#clip552)\" style=\"stroke:#000000; stroke-linecap:round; stroke-linejoin:round; stroke-width:4; stroke-opacity:1; fill:none\" points=\"2098.62,1445.72 2098.62,1445.72 2165.64,1445.72 2098.62,1445.72 \"/>\n",
       "<path clip-path=\"url(#clip552)\" d=\"M2165.64 1432 L2165.64 1445.72 L2232.65 1445.72 L2232.65 1432 L2165.64 1432 L2165.64 1432  Z\" fill=\"#009af9\" fill-rule=\"evenodd\" fill-opacity=\"1\"/>\n",
       "<polyline clip-path=\"url(#clip552)\" style=\"stroke:#000000; stroke-linecap:round; stroke-linejoin:round; stroke-width:4; stroke-opacity:1; fill:none\" points=\"2165.64,1432 2165.64,1445.72 2232.65,1445.72 2232.65,1432 2165.64,1432 \"/>\n",
       "<circle clip-path=\"url(#clip552)\" style=\"fill:#009af9; stroke:none; fill-opacity:0\" cx=\"322.732\" cy=\"1418.29\" r=\"2\"/>\n",
       "<circle clip-path=\"url(#clip552)\" style=\"fill:#009af9; stroke:none; fill-opacity:0\" cx=\"389.747\" cy=\"1432\" r=\"2\"/>\n",
       "<circle clip-path=\"url(#clip552)\" style=\"fill:#009af9; stroke:none; fill-opacity:0\" cx=\"456.762\" cy=\"1432\" r=\"2\"/>\n",
       "<circle clip-path=\"url(#clip552)\" style=\"fill:#009af9; stroke:none; fill-opacity:0\" cx=\"523.777\" cy=\"1336\" r=\"2\"/>\n",
       "<circle clip-path=\"url(#clip552)\" style=\"fill:#009af9; stroke:none; fill-opacity:0\" cx=\"590.791\" cy=\"1308.57\" r=\"2\"/>\n",
       "<circle clip-path=\"url(#clip552)\" style=\"fill:#009af9; stroke:none; fill-opacity:0\" cx=\"657.806\" cy=\"1198.85\" r=\"2\"/>\n",
       "<circle clip-path=\"url(#clip552)\" style=\"fill:#009af9; stroke:none; fill-opacity:0\" cx=\"724.821\" cy=\"993.136\" r=\"2\"/>\n",
       "<circle clip-path=\"url(#clip552)\" style=\"fill:#009af9; stroke:none; fill-opacity:0\" cx=\"791.836\" cy=\"787.418\" r=\"2\"/>\n",
       "<circle clip-path=\"url(#clip552)\" style=\"fill:#009af9; stroke:none; fill-opacity:0\" cx=\"858.85\" cy=\"540.556\" r=\"2\"/>\n",
       "<circle clip-path=\"url(#clip552)\" style=\"fill:#009af9; stroke:none; fill-opacity:0\" cx=\"925.865\" cy=\"485.698\" r=\"2\"/>\n",
       "<circle clip-path=\"url(#clip552)\" style=\"fill:#009af9; stroke:none; fill-opacity:0\" cx=\"992.88\" cy=\"389.696\" r=\"2\"/>\n",
       "<circle clip-path=\"url(#clip552)\" style=\"fill:#009af9; stroke:none; fill-opacity:0\" cx=\"1059.89\" cy=\"197.693\" r=\"2\"/>\n",
       "<circle clip-path=\"url(#clip552)\" style=\"fill:#009af9; stroke:none; fill-opacity:0\" cx=\"1126.91\" cy=\"170.264\" r=\"2\"/>\n",
       "<circle clip-path=\"url(#clip552)\" style=\"fill:#009af9; stroke:none; fill-opacity:0\" cx=\"1193.92\" cy=\"87.9763\" r=\"2\"/>\n",
       "<circle clip-path=\"url(#clip552)\" style=\"fill:#009af9; stroke:none; fill-opacity:0\" cx=\"1260.94\" cy=\"307.409\" r=\"2\"/>\n",
       "<circle clip-path=\"url(#clip552)\" style=\"fill:#009af9; stroke:none; fill-opacity:0\" cx=\"1327.95\" cy=\"403.411\" r=\"2\"/>\n",
       "<circle clip-path=\"url(#clip552)\" style=\"fill:#009af9; stroke:none; fill-opacity:0\" cx=\"1394.97\" cy=\"636.558\" r=\"2\"/>\n",
       "<circle clip-path=\"url(#clip552)\" style=\"fill:#009af9; stroke:none; fill-opacity:0\" cx=\"1461.98\" cy=\"691.416\" r=\"2\"/>\n",
       "<circle clip-path=\"url(#clip552)\" style=\"fill:#009af9; stroke:none; fill-opacity:0\" cx=\"1529\" cy=\"855.99\" r=\"2\"/>\n",
       "<circle clip-path=\"url(#clip552)\" style=\"fill:#009af9; stroke:none; fill-opacity:0\" cx=\"1596.01\" cy=\"1102.85\" r=\"2\"/>\n",
       "<circle clip-path=\"url(#clip552)\" style=\"fill:#009af9; stroke:none; fill-opacity:0\" cx=\"1663.03\" cy=\"1198.85\" r=\"2\"/>\n",
       "<circle clip-path=\"url(#clip552)\" style=\"fill:#009af9; stroke:none; fill-opacity:0\" cx=\"1730.04\" cy=\"1336\" r=\"2\"/>\n",
       "<circle clip-path=\"url(#clip552)\" style=\"fill:#009af9; stroke:none; fill-opacity:0\" cx=\"1797.06\" cy=\"1363.43\" r=\"2\"/>\n",
       "<circle clip-path=\"url(#clip552)\" style=\"fill:#009af9; stroke:none; fill-opacity:0\" cx=\"1864.07\" cy=\"1404.57\" r=\"2\"/>\n",
       "<circle clip-path=\"url(#clip552)\" style=\"fill:#009af9; stroke:none; fill-opacity:0\" cx=\"1931.09\" cy=\"1418.29\" r=\"2\"/>\n",
       "<circle clip-path=\"url(#clip552)\" style=\"fill:#009af9; stroke:none; fill-opacity:0\" cx=\"1998.1\" cy=\"1390.86\" r=\"2\"/>\n",
       "<circle clip-path=\"url(#clip552)\" style=\"fill:#009af9; stroke:none; fill-opacity:0\" cx=\"2065.12\" cy=\"1445.72\" r=\"2\"/>\n",
       "<circle clip-path=\"url(#clip552)\" style=\"fill:#009af9; stroke:none; fill-opacity:0\" cx=\"2132.13\" cy=\"1445.72\" r=\"2\"/>\n",
       "<circle clip-path=\"url(#clip552)\" style=\"fill:#009af9; stroke:none; fill-opacity:0\" cx=\"2199.14\" cy=\"1432\" r=\"2\"/>\n",
       "</svg>\n"
      ]
     },
     "execution_count": 43,
     "metadata": {},
     "output_type": "execute_result"
    }
   ],
   "source": [
    "using Plots\n",
    "histogram(x, bins = 50, legend = false)"
   ]
  },
  {
   "cell_type": "markdown",
   "id": "ad6cbc35",
   "metadata": {},
   "source": [
    "### 3.4 \n",
    "\n",
    "#### Choose a distribution other than normal distribution, Describe what it represents, and draw 1000 samples from the distribution and plot it using parameters of your choice"
   ]
  },
  {
   "cell_type": "markdown",
   "id": "6df4cb7e",
   "metadata": {},
   "source": [
    "Which distribution do you pick: Censored Distribution"
   ]
  },
  {
   "cell_type": "markdown",
   "id": "7ea6f75c",
   "metadata": {},
   "source": [
    "What does the distribution represent? The censored distribution represents a probabilistic distribution that censors data that is constrained by certain limits (upper, lower, or both limits), and where exact values might not be known. Values exceeding a limit are replaced by the corresponding limit itself."
   ]
  },
  {
   "cell_type": "code",
   "execution_count": 33,
   "id": "22a00c51",
   "metadata": {},
   "outputs": [
    {
     "data": {
      "text/plain": [
       "1000-element Vector{Float64}:\n",
       " 4.354269327896024\n",
       " 3.5367486211110784\n",
       " 3.3763962544139194\n",
       " 4.782334893216454\n",
       " 5.492245686525183\n",
       " 5.980979812124149\n",
       " 5.07995682950506\n",
       " 6.549124553042792\n",
       " 3.658390759116778\n",
       " 5.412161634682968\n",
       " 5.593197388120975\n",
       " 4.231591081268693\n",
       " 4.923832054547563\n",
       " ⋮\n",
       " 5.623895332773131\n",
       " 5.2190423925136855\n",
       " 5.1497764878614785\n",
       " 5.801118279318942\n",
       " 5.402364708784952\n",
       " 5.0893778742342946\n",
       " 5.40616352955085\n",
       " 6.284319952261848\n",
       " 4.909752898191934\n",
       " 4.943646789985148\n",
       " 4.972937580685568\n",
       " 4.82769119432687"
      ]
     },
     "execution_count": 33,
     "metadata": {},
     "output_type": "execute_result"
    }
   ],
   "source": [
    "using Random, Distributions\n",
    "Random.seed!(123)\n",
    "y= rand(censored(Normal(5,1),1,10), 1000)  "
   ]
  },
  {
   "cell_type": "code",
   "execution_count": 44,
   "id": "6154c3e3",
   "metadata": {},
   "outputs": [
    {
     "data": {
      "image/svg+xml": [
       "<?xml version=\"1.0\" encoding=\"utf-8\"?>\n",
       "<svg xmlns=\"http://www.w3.org/2000/svg\" xmlns:xlink=\"http://www.w3.org/1999/xlink\" width=\"600\" height=\"400\" viewBox=\"0 0 2400 1600\">\n",
       "<defs>\n",
       "  <clipPath id=\"clip590\">\n",
       "    <rect x=\"0\" y=\"0\" width=\"2400\" height=\"1600\"/>\n",
       "  </clipPath>\n",
       "</defs>\n",
       "<path clip-path=\"url(#clip590)\" d=\"M0 1600 L2400 1600 L2400 0 L0 0  Z\" fill=\"#ffffff\" fill-rule=\"evenodd\" fill-opacity=\"1\"/>\n",
       "<defs>\n",
       "  <clipPath id=\"clip591\">\n",
       "    <rect x=\"480\" y=\"0\" width=\"1681\" height=\"1600\"/>\n",
       "  </clipPath>\n",
       "</defs>\n",
       "<path clip-path=\"url(#clip590)\" d=\"M169.121 1486.45 L2352.76 1486.45 L2352.76 47.2441 L169.121 47.2441  Z\" fill=\"#ffffff\" fill-rule=\"evenodd\" fill-opacity=\"1\"/>\n",
       "<defs>\n",
       "  <clipPath id=\"clip592\">\n",
       "    <rect x=\"169\" y=\"47\" width=\"2185\" height=\"1440\"/>\n",
       "  </clipPath>\n",
       "</defs>\n",
       "<polyline clip-path=\"url(#clip592)\" style=\"stroke:#000000; stroke-linecap:round; stroke-linejoin:round; stroke-width:2; stroke-opacity:0.1; fill:none\" points=\"418.787,1486.45 418.787,47.2441 \"/>\n",
       "<polyline clip-path=\"url(#clip592)\" style=\"stroke:#000000; stroke-linecap:round; stroke-linejoin:round; stroke-width:2; stroke-opacity:0.1; fill:none\" points=\"937.034,1486.45 937.034,47.2441 \"/>\n",
       "<polyline clip-path=\"url(#clip592)\" style=\"stroke:#000000; stroke-linecap:round; stroke-linejoin:round; stroke-width:2; stroke-opacity:0.1; fill:none\" points=\"1455.28,1486.45 1455.28,47.2441 \"/>\n",
       "<polyline clip-path=\"url(#clip592)\" style=\"stroke:#000000; stroke-linecap:round; stroke-linejoin:round; stroke-width:2; stroke-opacity:0.1; fill:none\" points=\"1973.53,1486.45 1973.53,47.2441 \"/>\n",
       "<polyline clip-path=\"url(#clip590)\" style=\"stroke:#000000; stroke-linecap:round; stroke-linejoin:round; stroke-width:4; stroke-opacity:1; fill:none\" points=\"169.121,1486.45 2352.76,1486.45 \"/>\n",
       "<polyline clip-path=\"url(#clip590)\" style=\"stroke:#000000; stroke-linecap:round; stroke-linejoin:round; stroke-width:4; stroke-opacity:1; fill:none\" points=\"418.787,1486.45 418.787,1467.55 \"/>\n",
       "<polyline clip-path=\"url(#clip590)\" style=\"stroke:#000000; stroke-linecap:round; stroke-linejoin:round; stroke-width:4; stroke-opacity:1; fill:none\" points=\"937.034,1486.45 937.034,1467.55 \"/>\n",
       "<polyline clip-path=\"url(#clip590)\" style=\"stroke:#000000; stroke-linecap:round; stroke-linejoin:round; stroke-width:4; stroke-opacity:1; fill:none\" points=\"1455.28,1486.45 1455.28,1467.55 \"/>\n",
       "<polyline clip-path=\"url(#clip590)\" style=\"stroke:#000000; stroke-linecap:round; stroke-linejoin:round; stroke-width:4; stroke-opacity:1; fill:none\" points=\"1973.53,1486.45 1973.53,1467.55 \"/>\n",
       "<path clip-path=\"url(#clip590)\" d=\"M413.44 1544.91 L429.759 1544.91 L429.759 1548.85 L407.815 1548.85 L407.815 1544.91 Q410.477 1542.16 415.06 1537.53 Q419.667 1532.88 420.847 1531.53 Q423.092 1529.01 423.972 1527.27 Q424.875 1525.51 424.875 1523.82 Q424.875 1521.07 422.93 1519.33 Q421.009 1517.6 417.907 1517.6 Q415.708 1517.6 413.255 1518.36 Q410.824 1519.13 408.046 1520.68 L408.046 1515.95 Q410.87 1514.82 413.324 1514.24 Q415.778 1513.66 417.815 1513.66 Q423.185 1513.66 426.379 1516.35 Q429.574 1519.03 429.574 1523.52 Q429.574 1525.65 428.764 1527.57 Q427.977 1529.47 425.87 1532.07 Q425.292 1532.74 422.19 1535.95 Q419.088 1539.15 413.44 1544.91 Z\" fill=\"#000000\" fill-rule=\"evenodd\" fill-opacity=\"1\" /><path clip-path=\"url(#clip590)\" d=\"M940.043 1518.36 L928.238 1536.81 L940.043 1536.81 L940.043 1518.36 M938.817 1514.29 L944.696 1514.29 L944.696 1536.81 L949.627 1536.81 L949.627 1540.7 L944.696 1540.7 L944.696 1548.85 L940.043 1548.85 L940.043 1540.7 L924.442 1540.7 L924.442 1536.19 L938.817 1514.29 Z\" fill=\"#000000\" fill-rule=\"evenodd\" fill-opacity=\"1\" /><path clip-path=\"url(#clip590)\" d=\"M1455.69 1529.7 Q1452.54 1529.7 1450.69 1531.86 Q1448.86 1534.01 1448.86 1537.76 Q1448.86 1541.49 1450.69 1543.66 Q1452.54 1545.82 1455.69 1545.82 Q1458.83 1545.82 1460.66 1543.66 Q1462.52 1541.49 1462.52 1537.76 Q1462.52 1534.01 1460.66 1531.86 Q1458.83 1529.7 1455.69 1529.7 M1464.97 1515.05 L1464.97 1519.31 Q1463.21 1518.48 1461.4 1518.04 Q1459.62 1517.6 1457.86 1517.6 Q1453.23 1517.6 1450.78 1520.72 Q1448.35 1523.85 1448 1530.17 Q1449.37 1528.15 1451.43 1527.09 Q1453.49 1526 1455.96 1526 Q1461.17 1526 1464.18 1529.17 Q1467.21 1532.32 1467.21 1537.76 Q1467.21 1543.08 1464.07 1546.3 Q1460.92 1549.52 1455.69 1549.52 Q1449.69 1549.52 1446.52 1544.94 Q1443.35 1540.33 1443.35 1531.6 Q1443.35 1523.41 1447.24 1518.55 Q1451.13 1513.66 1457.68 1513.66 Q1459.44 1513.66 1461.22 1514.01 Q1463.02 1514.36 1464.97 1515.05 Z\" fill=\"#000000\" fill-rule=\"evenodd\" fill-opacity=\"1\" /><path clip-path=\"url(#clip590)\" d=\"M1973.53 1532.44 Q1970.2 1532.44 1968.27 1534.22 Q1966.38 1536 1966.38 1539.13 Q1966.38 1542.25 1968.27 1544.03 Q1970.2 1545.82 1973.53 1545.82 Q1976.86 1545.82 1978.78 1544.03 Q1980.7 1542.23 1980.7 1539.13 Q1980.7 1536 1978.78 1534.22 Q1976.88 1532.44 1973.53 1532.44 M1968.85 1530.45 Q1965.84 1529.7 1964.15 1527.64 Q1962.49 1525.58 1962.49 1522.62 Q1962.49 1518.48 1965.43 1516.07 Q1968.39 1513.66 1973.53 1513.66 Q1978.69 1513.66 1981.63 1516.07 Q1984.57 1518.48 1984.57 1522.62 Q1984.57 1525.58 1982.88 1527.64 Q1981.21 1529.7 1978.23 1530.45 Q1981.61 1531.23 1983.48 1533.52 Q1985.38 1535.82 1985.38 1539.13 Q1985.38 1544.15 1982.3 1546.83 Q1979.25 1549.52 1973.53 1549.52 Q1967.81 1549.52 1964.73 1546.83 Q1961.68 1544.15 1961.68 1539.13 Q1961.68 1535.82 1963.57 1533.52 Q1965.47 1531.23 1968.85 1530.45 M1967.14 1523.06 Q1967.14 1525.75 1968.81 1527.25 Q1970.5 1528.76 1973.53 1528.76 Q1976.54 1528.76 1978.23 1527.25 Q1979.94 1525.75 1979.94 1523.06 Q1979.94 1520.38 1978.23 1518.87 Q1976.54 1517.37 1973.53 1517.37 Q1970.5 1517.37 1968.81 1518.87 Q1967.14 1520.38 1967.14 1523.06 Z\" fill=\"#000000\" fill-rule=\"evenodd\" fill-opacity=\"1\" /><polyline clip-path=\"url(#clip592)\" style=\"stroke:#000000; stroke-linecap:round; stroke-linejoin:round; stroke-width:2; stroke-opacity:0.1; fill:none\" points=\"169.121,1445.72 2352.76,1445.72 \"/>\n",
       "<polyline clip-path=\"url(#clip592)\" style=\"stroke:#000000; stroke-linecap:round; stroke-linejoin:round; stroke-width:2; stroke-opacity:0.1; fill:none\" points=\"169.121,1076.76 2352.76,1076.76 \"/>\n",
       "<polyline clip-path=\"url(#clip592)\" style=\"stroke:#000000; stroke-linecap:round; stroke-linejoin:round; stroke-width:2; stroke-opacity:0.1; fill:none\" points=\"169.121,707.814 2352.76,707.814 \"/>\n",
       "<polyline clip-path=\"url(#clip592)\" style=\"stroke:#000000; stroke-linecap:round; stroke-linejoin:round; stroke-width:2; stroke-opacity:0.1; fill:none\" points=\"169.121,338.863 2352.76,338.863 \"/>\n",
       "<polyline clip-path=\"url(#clip590)\" style=\"stroke:#000000; stroke-linecap:round; stroke-linejoin:round; stroke-width:4; stroke-opacity:1; fill:none\" points=\"169.121,1486.45 169.121,47.2441 \"/>\n",
       "<polyline clip-path=\"url(#clip590)\" style=\"stroke:#000000; stroke-linecap:round; stroke-linejoin:round; stroke-width:4; stroke-opacity:1; fill:none\" points=\"169.121,1445.72 188.019,1445.72 \"/>\n",
       "<polyline clip-path=\"url(#clip590)\" style=\"stroke:#000000; stroke-linecap:round; stroke-linejoin:round; stroke-width:4; stroke-opacity:1; fill:none\" points=\"169.121,1076.76 188.019,1076.76 \"/>\n",
       "<polyline clip-path=\"url(#clip590)\" style=\"stroke:#000000; stroke-linecap:round; stroke-linejoin:round; stroke-width:4; stroke-opacity:1; fill:none\" points=\"169.121,707.814 188.019,707.814 \"/>\n",
       "<polyline clip-path=\"url(#clip590)\" style=\"stroke:#000000; stroke-linecap:round; stroke-linejoin:round; stroke-width:4; stroke-opacity:1; fill:none\" points=\"169.121,338.863 188.019,338.863 \"/>\n",
       "<path clip-path=\"url(#clip590)\" d=\"M121.177 1431.51 Q117.566 1431.51 115.737 1435.08 Q113.932 1438.62 113.932 1445.75 Q113.932 1452.86 115.737 1456.42 Q117.566 1459.96 121.177 1459.96 Q124.811 1459.96 126.617 1456.42 Q128.445 1452.86 128.445 1445.75 Q128.445 1438.62 126.617 1435.08 Q124.811 1431.51 121.177 1431.51 M121.177 1427.81 Q126.987 1427.81 130.043 1432.42 Q133.121 1437 133.121 1445.75 Q133.121 1454.48 130.043 1459.08 Q126.987 1463.67 121.177 1463.67 Q115.367 1463.67 112.288 1459.08 Q109.233 1454.48 109.233 1445.75 Q109.233 1437 112.288 1432.42 Q115.367 1427.81 121.177 1427.81 Z\" fill=\"#000000\" fill-rule=\"evenodd\" fill-opacity=\"1\" /><path clip-path=\"url(#clip590)\" d=\"M81.0614 1059.48 L99.4178 1059.48 L99.4178 1063.42 L85.3438 1063.42 L85.3438 1071.89 Q86.3623 1071.54 87.3808 1071.38 Q88.3993 1071.2 89.4178 1071.2 Q95.2049 1071.2 98.5845 1074.37 Q101.964 1077.54 101.964 1082.96 Q101.964 1088.54 98.4919 1091.64 Q95.0197 1094.72 88.7003 1094.72 Q86.5243 1094.72 84.2558 1094.35 Q82.0105 1093.98 79.6031 1093.23 L79.6031 1088.54 Q81.6864 1089.67 83.9086 1090.23 Q86.1308 1090.78 88.6077 1090.78 Q92.6123 1090.78 94.9502 1088.67 Q97.2882 1086.57 97.2882 1082.96 Q97.2882 1079.35 94.9502 1077.24 Q92.6123 1075.13 88.6077 1075.13 Q86.7327 1075.13 84.8577 1075.55 Q83.0058 1075.97 81.0614 1076.85 L81.0614 1059.48 Z\" fill=\"#000000\" fill-rule=\"evenodd\" fill-opacity=\"1\" /><path clip-path=\"url(#clip590)\" d=\"M121.177 1062.56 Q117.566 1062.56 115.737 1066.13 Q113.932 1069.67 113.932 1076.8 Q113.932 1083.91 115.737 1087.47 Q117.566 1091.01 121.177 1091.01 Q124.811 1091.01 126.617 1087.47 Q128.445 1083.91 128.445 1076.8 Q128.445 1069.67 126.617 1066.13 Q124.811 1062.56 121.177 1062.56 M121.177 1058.86 Q126.987 1058.86 130.043 1063.47 Q133.121 1068.05 133.121 1076.8 Q133.121 1085.53 130.043 1090.13 Q126.987 1094.72 121.177 1094.72 Q115.367 1094.72 112.288 1090.13 Q109.233 1085.53 109.233 1076.8 Q109.233 1068.05 112.288 1063.47 Q115.367 1058.86 121.177 1058.86 Z\" fill=\"#000000\" fill-rule=\"evenodd\" fill-opacity=\"1\" /><path clip-path=\"url(#clip590)\" d=\"M51.6634 721.159 L59.3023 721.159 L59.3023 694.793 L50.9921 696.46 L50.9921 692.2 L59.256 690.534 L63.9319 690.534 L63.9319 721.159 L71.5707 721.159 L71.5707 725.094 L51.6634 725.094 L51.6634 721.159 Z\" fill=\"#000000\" fill-rule=\"evenodd\" fill-opacity=\"1\" /><path clip-path=\"url(#clip590)\" d=\"M91.0151 693.613 Q87.404 693.613 85.5753 697.177 Q83.7697 700.719 83.7697 707.849 Q83.7697 714.955 85.5753 718.52 Q87.404 722.061 91.0151 722.061 Q94.6493 722.061 96.4548 718.52 Q98.2835 714.955 98.2835 707.849 Q98.2835 700.719 96.4548 697.177 Q94.6493 693.613 91.0151 693.613 M91.0151 689.909 Q96.8252 689.909 99.8808 694.515 Q102.959 699.099 102.959 707.849 Q102.959 716.575 99.8808 721.182 Q96.8252 725.765 91.0151 725.765 Q85.2049 725.765 82.1262 721.182 Q79.0707 716.575 79.0707 707.849 Q79.0707 699.099 82.1262 694.515 Q85.2049 689.909 91.0151 689.909 Z\" fill=\"#000000\" fill-rule=\"evenodd\" fill-opacity=\"1\" /><path clip-path=\"url(#clip590)\" d=\"M121.177 693.613 Q117.566 693.613 115.737 697.177 Q113.932 700.719 113.932 707.849 Q113.932 714.955 115.737 718.52 Q117.566 722.061 121.177 722.061 Q124.811 722.061 126.617 718.52 Q128.445 714.955 128.445 707.849 Q128.445 700.719 126.617 697.177 Q124.811 693.613 121.177 693.613 M121.177 689.909 Q126.987 689.909 130.043 694.515 Q133.121 699.099 133.121 707.849 Q133.121 716.575 130.043 721.182 Q126.987 725.765 121.177 725.765 Q115.367 725.765 112.288 721.182 Q109.233 716.575 109.233 707.849 Q109.233 699.099 112.288 694.515 Q115.367 689.909 121.177 689.909 Z\" fill=\"#000000\" fill-rule=\"evenodd\" fill-opacity=\"1\" /><path clip-path=\"url(#clip590)\" d=\"M51.6634 352.208 L59.3023 352.208 L59.3023 325.842 L50.9921 327.509 L50.9921 323.25 L59.256 321.583 L63.9319 321.583 L63.9319 352.208 L71.5707 352.208 L71.5707 356.143 L51.6634 356.143 L51.6634 352.208 Z\" fill=\"#000000\" fill-rule=\"evenodd\" fill-opacity=\"1\" /><path clip-path=\"url(#clip590)\" d=\"M81.0614 321.583 L99.4178 321.583 L99.4178 325.518 L85.3438 325.518 L85.3438 333.99 Q86.3623 333.643 87.3808 333.481 Q88.3993 333.296 89.4178 333.296 Q95.2049 333.296 98.5845 336.467 Q101.964 339.638 101.964 345.055 Q101.964 350.634 98.4919 353.736 Q95.0197 356.814 88.7003 356.814 Q86.5243 356.814 84.2558 356.444 Q82.0105 356.073 79.6031 355.333 L79.6031 350.634 Q81.6864 351.768 83.9086 352.323 Q86.1308 352.879 88.6077 352.879 Q92.6123 352.879 94.9502 350.773 Q97.2882 348.666 97.2882 345.055 Q97.2882 341.444 94.9502 339.337 Q92.6123 337.231 88.6077 337.231 Q86.7327 337.231 84.8577 337.648 Q83.0058 338.064 81.0614 338.944 L81.0614 321.583 Z\" fill=\"#000000\" fill-rule=\"evenodd\" fill-opacity=\"1\" /><path clip-path=\"url(#clip590)\" d=\"M121.177 324.662 Q117.566 324.662 115.737 328.226 Q113.932 331.768 113.932 338.898 Q113.932 346.004 115.737 349.569 Q117.566 353.111 121.177 353.111 Q124.811 353.111 126.617 349.569 Q128.445 346.004 128.445 338.898 Q128.445 331.768 126.617 328.226 Q124.811 324.662 121.177 324.662 M121.177 320.958 Q126.987 320.958 130.043 325.564 Q133.121 330.148 133.121 338.898 Q133.121 347.624 130.043 352.231 Q126.987 356.814 121.177 356.814 Q115.367 356.814 112.288 352.231 Q109.233 347.624 109.233 338.898 Q109.233 330.148 112.288 325.564 Q115.367 320.958 121.177 320.958 Z\" fill=\"#000000\" fill-rule=\"evenodd\" fill-opacity=\"1\" /><path clip-path=\"url(#clip592)\" d=\"M289.225 1430.96 L289.225 1445.72 L418.787 1445.72 L418.787 1430.96 L289.225 1430.96 L289.225 1430.96  Z\" fill=\"#009af9\" fill-rule=\"evenodd\" fill-opacity=\"1\"/>\n",
       "<polyline clip-path=\"url(#clip592)\" style=\"stroke:#000000; stroke-linecap:round; stroke-linejoin:round; stroke-width:4; stroke-opacity:1; fill:none\" points=\"289.225,1430.96 289.225,1445.72 418.787,1445.72 418.787,1430.96 289.225,1430.96 \"/>\n",
       "<path clip-path=\"url(#clip592)\" d=\"M418.787 1430.96 L418.787 1445.72 L548.349 1445.72 L548.349 1430.96 L418.787 1430.96 L418.787 1430.96  Z\" fill=\"#009af9\" fill-rule=\"evenodd\" fill-opacity=\"1\"/>\n",
       "<polyline clip-path=\"url(#clip592)\" style=\"stroke:#000000; stroke-linecap:round; stroke-linejoin:round; stroke-width:4; stroke-opacity:1; fill:none\" points=\"418.787,1430.96 418.787,1445.72 548.349,1445.72 548.349,1430.96 418.787,1430.96 \"/>\n",
       "<path clip-path=\"url(#clip592)\" d=\"M548.349 1312.89 L548.349 1445.72 L677.911 1445.72 L677.911 1312.89 L548.349 1312.89 L548.349 1312.89  Z\" fill=\"#009af9\" fill-rule=\"evenodd\" fill-opacity=\"1\"/>\n",
       "<polyline clip-path=\"url(#clip592)\" style=\"stroke:#000000; stroke-linecap:round; stroke-linejoin:round; stroke-width:4; stroke-opacity:1; fill:none\" points=\"548.349,1312.89 548.349,1445.72 677.911,1445.72 677.911,1312.89 548.349,1312.89 \"/>\n",
       "<path clip-path=\"url(#clip592)\" d=\"M677.911 1069.39 L677.911 1445.72 L807.472 1445.72 L807.472 1069.39 L677.911 1069.39 L677.911 1069.39  Z\" fill=\"#009af9\" fill-rule=\"evenodd\" fill-opacity=\"1\"/>\n",
       "<polyline clip-path=\"url(#clip592)\" style=\"stroke:#000000; stroke-linecap:round; stroke-linejoin:round; stroke-width:4; stroke-opacity:1; fill:none\" points=\"677.911,1069.39 677.911,1445.72 807.472,1445.72 807.472,1069.39 677.911,1069.39 \"/>\n",
       "<path clip-path=\"url(#clip592)\" d=\"M807.472 604.508 L807.472 1445.72 L937.034 1445.72 L937.034 604.508 L807.472 604.508 L807.472 604.508  Z\" fill=\"#009af9\" fill-rule=\"evenodd\" fill-opacity=\"1\"/>\n",
       "<polyline clip-path=\"url(#clip592)\" style=\"stroke:#000000; stroke-linecap:round; stroke-linejoin:round; stroke-width:4; stroke-opacity:1; fill:none\" points=\"807.472,604.508 807.472,1445.72 937.034,1445.72 937.034,604.508 807.472,604.508 \"/>\n",
       "<path clip-path=\"url(#clip592)\" d=\"M937.034 361 L937.034 1445.72 L1066.6 1445.72 L1066.6 361 L937.034 361 L937.034 361  Z\" fill=\"#009af9\" fill-rule=\"evenodd\" fill-opacity=\"1\"/>\n",
       "<polyline clip-path=\"url(#clip592)\" style=\"stroke:#000000; stroke-linecap:round; stroke-linejoin:round; stroke-width:4; stroke-opacity:1; fill:none\" points=\"937.034,361 937.034,1445.72 1066.6,1445.72 1066.6,361 937.034,361 \"/>\n",
       "<path clip-path=\"url(#clip592)\" d=\"M1066.6 87.9763 L1066.6 1445.72 L1196.16 1445.72 L1196.16 87.9763 L1066.6 87.9763 L1066.6 87.9763  Z\" fill=\"#009af9\" fill-rule=\"evenodd\" fill-opacity=\"1\"/>\n",
       "<polyline clip-path=\"url(#clip592)\" style=\"stroke:#000000; stroke-linecap:round; stroke-linejoin:round; stroke-width:4; stroke-opacity:1; fill:none\" points=\"1066.6,87.9763 1066.6,1445.72 1196.16,1445.72 1196.16,87.9763 1066.6,87.9763 \"/>\n",
       "<path clip-path=\"url(#clip592)\" d=\"M1196.16 102.734 L1196.16 1445.72 L1325.72 1445.72 L1325.72 102.734 L1196.16 102.734 L1196.16 102.734  Z\" fill=\"#009af9\" fill-rule=\"evenodd\" fill-opacity=\"1\"/>\n",
       "<polyline clip-path=\"url(#clip592)\" style=\"stroke:#000000; stroke-linecap:round; stroke-linejoin:round; stroke-width:4; stroke-opacity:1; fill:none\" points=\"1196.16,102.734 1196.16,1445.72 1325.72,1445.72 1325.72,102.734 1196.16,102.734 \"/>\n",
       "<path clip-path=\"url(#clip592)\" d=\"M1325.72 449.548 L1325.72 1445.72 L1455.28 1445.72 L1455.28 449.548 L1325.72 449.548 L1325.72 449.548  Z\" fill=\"#009af9\" fill-rule=\"evenodd\" fill-opacity=\"1\"/>\n",
       "<polyline clip-path=\"url(#clip592)\" style=\"stroke:#000000; stroke-linecap:round; stroke-linejoin:round; stroke-width:4; stroke-opacity:1; fill:none\" points=\"1325.72,449.548 1325.72,1445.72 1455.28,1445.72 1455.28,449.548 1325.72,449.548 \"/>\n",
       "<path clip-path=\"url(#clip592)\" d=\"M1455.28 722.572 L1455.28 1445.72 L1584.84 1445.72 L1584.84 722.572 L1455.28 722.572 L1455.28 722.572  Z\" fill=\"#009af9\" fill-rule=\"evenodd\" fill-opacity=\"1\"/>\n",
       "<polyline clip-path=\"url(#clip592)\" style=\"stroke:#000000; stroke-linecap:round; stroke-linejoin:round; stroke-width:4; stroke-opacity:1; fill:none\" points=\"1455.28,722.572 1455.28,1445.72 1584.84,1445.72 1584.84,722.572 1455.28,722.572 \"/>\n",
       "<path clip-path=\"url(#clip592)\" d=\"M1584.84 1128.42 L1584.84 1445.72 L1714.4 1445.72 L1714.4 1128.42 L1584.84 1128.42 L1584.84 1128.42  Z\" fill=\"#009af9\" fill-rule=\"evenodd\" fill-opacity=\"1\"/>\n",
       "<polyline clip-path=\"url(#clip592)\" style=\"stroke:#000000; stroke-linecap:round; stroke-linejoin:round; stroke-width:4; stroke-opacity:1; fill:none\" points=\"1584.84,1128.42 1584.84,1445.72 1714.4,1445.72 1714.4,1128.42 1584.84,1128.42 \"/>\n",
       "<path clip-path=\"url(#clip592)\" d=\"M1714.4 1342.41 L1714.4 1445.72 L1843.97 1445.72 L1843.97 1342.41 L1714.4 1342.41 L1714.4 1342.41  Z\" fill=\"#009af9\" fill-rule=\"evenodd\" fill-opacity=\"1\"/>\n",
       "<polyline clip-path=\"url(#clip592)\" style=\"stroke:#000000; stroke-linecap:round; stroke-linejoin:round; stroke-width:4; stroke-opacity:1; fill:none\" points=\"1714.4,1342.41 1714.4,1445.72 1843.97,1445.72 1843.97,1342.41 1714.4,1342.41 \"/>\n",
       "<path clip-path=\"url(#clip592)\" d=\"M1843.97 1408.82 L1843.97 1445.72 L1973.53 1445.72 L1973.53 1408.82 L1843.97 1408.82 L1843.97 1408.82  Z\" fill=\"#009af9\" fill-rule=\"evenodd\" fill-opacity=\"1\"/>\n",
       "<polyline clip-path=\"url(#clip592)\" style=\"stroke:#000000; stroke-linecap:round; stroke-linejoin:round; stroke-width:4; stroke-opacity:1; fill:none\" points=\"1843.97,1408.82 1843.97,1445.72 1973.53,1445.72 1973.53,1408.82 1843.97,1408.82 \"/>\n",
       "<path clip-path=\"url(#clip592)\" d=\"M1973.53 1416.2 L1973.53 1445.72 L2103.09 1445.72 L2103.09 1416.2 L1973.53 1416.2 L1973.53 1416.2  Z\" fill=\"#009af9\" fill-rule=\"evenodd\" fill-opacity=\"1\"/>\n",
       "<polyline clip-path=\"url(#clip592)\" style=\"stroke:#000000; stroke-linecap:round; stroke-linejoin:round; stroke-width:4; stroke-opacity:1; fill:none\" points=\"1973.53,1416.2 1973.53,1445.72 2103.09,1445.72 2103.09,1416.2 1973.53,1416.2 \"/>\n",
       "<path clip-path=\"url(#clip592)\" d=\"M2103.09 1438.34 L2103.09 1445.72 L2232.65 1445.72 L2232.65 1438.34 L2103.09 1438.34 L2103.09 1438.34  Z\" fill=\"#009af9\" fill-rule=\"evenodd\" fill-opacity=\"1\"/>\n",
       "<polyline clip-path=\"url(#clip592)\" style=\"stroke:#000000; stroke-linecap:round; stroke-linejoin:round; stroke-width:4; stroke-opacity:1; fill:none\" points=\"2103.09,1438.34 2103.09,1445.72 2232.65,1445.72 2232.65,1438.34 2103.09,1438.34 \"/>\n",
       "<circle clip-path=\"url(#clip592)\" style=\"fill:#009af9; stroke:none; fill-opacity:0\" cx=\"354.006\" cy=\"1430.96\" r=\"2\"/>\n",
       "<circle clip-path=\"url(#clip592)\" style=\"fill:#009af9; stroke:none; fill-opacity:0\" cx=\"483.568\" cy=\"1430.96\" r=\"2\"/>\n",
       "<circle clip-path=\"url(#clip592)\" style=\"fill:#009af9; stroke:none; fill-opacity:0\" cx=\"613.13\" cy=\"1312.89\" r=\"2\"/>\n",
       "<circle clip-path=\"url(#clip592)\" style=\"fill:#009af9; stroke:none; fill-opacity:0\" cx=\"742.691\" cy=\"1069.39\" r=\"2\"/>\n",
       "<circle clip-path=\"url(#clip592)\" style=\"fill:#009af9; stroke:none; fill-opacity:0\" cx=\"872.253\" cy=\"604.508\" r=\"2\"/>\n",
       "<circle clip-path=\"url(#clip592)\" style=\"fill:#009af9; stroke:none; fill-opacity:0\" cx=\"1001.82\" cy=\"361\" r=\"2\"/>\n",
       "<circle clip-path=\"url(#clip592)\" style=\"fill:#009af9; stroke:none; fill-opacity:0\" cx=\"1131.38\" cy=\"87.9763\" r=\"2\"/>\n",
       "<circle clip-path=\"url(#clip592)\" style=\"fill:#009af9; stroke:none; fill-opacity:0\" cx=\"1260.94\" cy=\"102.734\" r=\"2\"/>\n",
       "<circle clip-path=\"url(#clip592)\" style=\"fill:#009af9; stroke:none; fill-opacity:0\" cx=\"1390.5\" cy=\"449.548\" r=\"2\"/>\n",
       "<circle clip-path=\"url(#clip592)\" style=\"fill:#009af9; stroke:none; fill-opacity:0\" cx=\"1520.06\" cy=\"722.572\" r=\"2\"/>\n",
       "<circle clip-path=\"url(#clip592)\" style=\"fill:#009af9; stroke:none; fill-opacity:0\" cx=\"1649.62\" cy=\"1128.42\" r=\"2\"/>\n",
       "<circle clip-path=\"url(#clip592)\" style=\"fill:#009af9; stroke:none; fill-opacity:0\" cx=\"1779.19\" cy=\"1342.41\" r=\"2\"/>\n",
       "<circle clip-path=\"url(#clip592)\" style=\"fill:#009af9; stroke:none; fill-opacity:0\" cx=\"1908.75\" cy=\"1408.82\" r=\"2\"/>\n",
       "<circle clip-path=\"url(#clip592)\" style=\"fill:#009af9; stroke:none; fill-opacity:0\" cx=\"2038.31\" cy=\"1416.2\" r=\"2\"/>\n",
       "<circle clip-path=\"url(#clip592)\" style=\"fill:#009af9; stroke:none; fill-opacity:0\" cx=\"2167.87\" cy=\"1438.34\" r=\"2\"/>\n",
       "</svg>\n"
      ]
     },
     "execution_count": 44,
     "metadata": {},
     "output_type": "execute_result"
    }
   ],
   "source": [
    "using Plots\n",
    "histogram(y, legend = false)"
   ]
  },
  {
   "cell_type": "markdown",
   "id": "9d56bbd5",
   "metadata": {},
   "source": [
    "### 3.5\n",
    "\n",
    "#### Plot  the two distributions in the same plot"
   ]
  },
  {
   "cell_type": "code",
   "execution_count": 45,
   "id": "447aeb72",
   "metadata": {},
   "outputs": [
    {
     "data": {
      "image/svg+xml": [
       "<?xml version=\"1.0\" encoding=\"utf-8\"?>\n",
       "<svg xmlns=\"http://www.w3.org/2000/svg\" xmlns:xlink=\"http://www.w3.org/1999/xlink\" width=\"600\" height=\"400\" viewBox=\"0 0 2400 1600\">\n",
       "<defs>\n",
       "  <clipPath id=\"clip630\">\n",
       "    <rect x=\"0\" y=\"0\" width=\"2400\" height=\"1600\"/>\n",
       "  </clipPath>\n",
       "</defs>\n",
       "<path clip-path=\"url(#clip630)\" d=\"M0 1600 L2400 1600 L2400 0 L0 0  Z\" fill=\"#ffffff\" fill-rule=\"evenodd\" fill-opacity=\"1\"/>\n",
       "<defs>\n",
       "  <clipPath id=\"clip631\">\n",
       "    <rect x=\"480\" y=\"0\" width=\"1681\" height=\"1600\"/>\n",
       "  </clipPath>\n",
       "</defs>\n",
       "<path clip-path=\"url(#clip630)\" d=\"M169.121 1486.45 L2352.76 1486.45 L2352.76 47.2441 L169.121 47.2441  Z\" fill=\"#ffffff\" fill-rule=\"evenodd\" fill-opacity=\"1\"/>\n",
       "<defs>\n",
       "  <clipPath id=\"clip632\">\n",
       "    <rect x=\"169\" y=\"47\" width=\"2185\" height=\"1440\"/>\n",
       "  </clipPath>\n",
       "</defs>\n",
       "<polyline clip-path=\"url(#clip632)\" style=\"stroke:#000000; stroke-linecap:round; stroke-linejoin:round; stroke-width:2; stroke-opacity:0.1; fill:none\" points=\"548.349,1486.45 548.349,47.2441 \"/>\n",
       "<polyline clip-path=\"url(#clip632)\" style=\"stroke:#000000; stroke-linecap:round; stroke-linejoin:round; stroke-width:2; stroke-opacity:0.1; fill:none\" points=\"937.034,1486.45 937.034,47.2441 \"/>\n",
       "<polyline clip-path=\"url(#clip632)\" style=\"stroke:#000000; stroke-linecap:round; stroke-linejoin:round; stroke-width:2; stroke-opacity:0.1; fill:none\" points=\"1325.72,1486.45 1325.72,47.2441 \"/>\n",
       "<polyline clip-path=\"url(#clip632)\" style=\"stroke:#000000; stroke-linecap:round; stroke-linejoin:round; stroke-width:2; stroke-opacity:0.1; fill:none\" points=\"1714.4,1486.45 1714.4,47.2441 \"/>\n",
       "<polyline clip-path=\"url(#clip632)\" style=\"stroke:#000000; stroke-linecap:round; stroke-linejoin:round; stroke-width:2; stroke-opacity:0.1; fill:none\" points=\"2103.09,1486.45 2103.09,47.2441 \"/>\n",
       "<polyline clip-path=\"url(#clip630)\" style=\"stroke:#000000; stroke-linecap:round; stroke-linejoin:round; stroke-width:4; stroke-opacity:1; fill:none\" points=\"169.121,1486.45 2352.76,1486.45 \"/>\n",
       "<polyline clip-path=\"url(#clip630)\" style=\"stroke:#000000; stroke-linecap:round; stroke-linejoin:round; stroke-width:4; stroke-opacity:1; fill:none\" points=\"548.349,1486.45 548.349,1467.55 \"/>\n",
       "<polyline clip-path=\"url(#clip630)\" style=\"stroke:#000000; stroke-linecap:round; stroke-linejoin:round; stroke-width:4; stroke-opacity:1; fill:none\" points=\"937.034,1486.45 937.034,1467.55 \"/>\n",
       "<polyline clip-path=\"url(#clip630)\" style=\"stroke:#000000; stroke-linecap:round; stroke-linejoin:round; stroke-width:4; stroke-opacity:1; fill:none\" points=\"1325.72,1486.45 1325.72,1467.55 \"/>\n",
       "<polyline clip-path=\"url(#clip630)\" style=\"stroke:#000000; stroke-linecap:round; stroke-linejoin:round; stroke-width:4; stroke-opacity:1; fill:none\" points=\"1714.4,1486.45 1714.4,1467.55 \"/>\n",
       "<polyline clip-path=\"url(#clip630)\" style=\"stroke:#000000; stroke-linecap:round; stroke-linejoin:round; stroke-width:4; stroke-opacity:1; fill:none\" points=\"2103.09,1486.45 2103.09,1467.55 \"/>\n",
       "<path clip-path=\"url(#clip630)\" d=\"M548.349 1517.37 Q544.738 1517.37 542.909 1520.93 Q541.103 1524.47 541.103 1531.6 Q541.103 1538.71 542.909 1542.27 Q544.738 1545.82 548.349 1545.82 Q551.983 1545.82 553.788 1542.27 Q555.617 1538.71 555.617 1531.6 Q555.617 1524.47 553.788 1520.93 Q551.983 1517.37 548.349 1517.37 M548.349 1513.66 Q554.159 1513.66 557.214 1518.27 Q560.293 1522.85 560.293 1531.6 Q560.293 1540.33 557.214 1544.94 Q554.159 1549.52 548.349 1549.52 Q542.539 1549.52 539.46 1544.94 Q536.404 1540.33 536.404 1531.6 Q536.404 1522.85 539.46 1518.27 Q542.539 1513.66 548.349 1513.66 Z\" fill=\"#000000\" fill-rule=\"evenodd\" fill-opacity=\"1\" /><path clip-path=\"url(#clip630)\" d=\"M941.282 1530.21 Q944.638 1530.93 946.513 1533.2 Q948.411 1535.47 948.411 1538.8 Q948.411 1543.92 944.893 1546.72 Q941.374 1549.52 934.893 1549.52 Q932.717 1549.52 930.402 1549.08 Q928.111 1548.66 925.657 1547.81 L925.657 1543.29 Q927.601 1544.43 929.916 1545.01 Q932.231 1545.58 934.754 1545.58 Q939.152 1545.58 941.444 1543.85 Q943.759 1542.11 943.759 1538.8 Q943.759 1535.75 941.606 1534.03 Q939.476 1532.3 935.657 1532.3 L931.629 1532.3 L931.629 1528.45 L935.842 1528.45 Q939.291 1528.45 941.12 1527.09 Q942.948 1525.7 942.948 1523.11 Q942.948 1520.45 941.05 1519.03 Q939.175 1517.6 935.657 1517.6 Q933.736 1517.6 931.536 1518.01 Q929.337 1518.43 926.699 1519.31 L926.699 1515.14 Q929.361 1514.4 931.675 1514.03 Q934.013 1513.66 936.073 1513.66 Q941.398 1513.66 944.499 1516.09 Q947.601 1518.5 947.601 1522.62 Q947.601 1525.49 945.958 1527.48 Q944.314 1529.45 941.282 1530.21 Z\" fill=\"#000000\" fill-rule=\"evenodd\" fill-opacity=\"1\" /><path clip-path=\"url(#clip630)\" d=\"M1326.12 1529.7 Q1322.98 1529.7 1321.12 1531.86 Q1319.3 1534.01 1319.3 1537.76 Q1319.3 1541.49 1321.12 1543.66 Q1322.98 1545.82 1326.12 1545.82 Q1329.27 1545.82 1331.1 1543.66 Q1332.95 1541.49 1332.95 1537.76 Q1332.95 1534.01 1331.1 1531.86 Q1329.27 1529.7 1326.12 1529.7 M1335.41 1515.05 L1335.41 1519.31 Q1333.65 1518.48 1331.84 1518.04 Q1330.06 1517.6 1328.3 1517.6 Q1323.67 1517.6 1321.22 1520.72 Q1318.79 1523.85 1318.44 1530.17 Q1319.81 1528.15 1321.87 1527.09 Q1323.93 1526 1326.4 1526 Q1331.61 1526 1334.62 1529.17 Q1337.65 1532.32 1337.65 1537.76 Q1337.65 1543.08 1334.5 1546.3 Q1331.36 1549.52 1326.12 1549.52 Q1320.13 1549.52 1316.96 1544.94 Q1313.79 1540.33 1313.79 1531.6 Q1313.79 1523.41 1317.68 1518.55 Q1321.56 1513.66 1328.12 1513.66 Q1329.87 1513.66 1331.66 1514.01 Q1333.46 1514.36 1335.41 1515.05 Z\" fill=\"#000000\" fill-rule=\"evenodd\" fill-opacity=\"1\" /><path clip-path=\"url(#clip630)\" d=\"M1704.71 1548.13 L1704.71 1543.87 Q1706.47 1544.7 1708.27 1545.14 Q1710.08 1545.58 1711.81 1545.58 Q1716.44 1545.58 1718.87 1542.48 Q1721.33 1539.36 1721.67 1533.01 Q1720.33 1535.01 1718.27 1536.07 Q1716.21 1537.13 1713.71 1537.13 Q1708.53 1537.13 1705.49 1534.01 Q1702.48 1530.86 1702.48 1525.42 Q1702.48 1520.1 1705.63 1516.88 Q1708.78 1513.66 1714.01 1513.66 Q1720.01 1513.66 1723.15 1518.27 Q1726.33 1522.85 1726.33 1531.6 Q1726.33 1539.77 1722.44 1544.66 Q1718.57 1549.52 1712.02 1549.52 Q1710.26 1549.52 1708.46 1549.17 Q1706.65 1548.82 1704.71 1548.13 M1714.01 1533.48 Q1717.16 1533.48 1718.99 1531.32 Q1720.84 1529.17 1720.84 1525.42 Q1720.84 1521.7 1718.99 1519.54 Q1717.16 1517.37 1714.01 1517.37 Q1710.86 1517.37 1709.01 1519.54 Q1707.18 1521.7 1707.18 1525.42 Q1707.18 1529.17 1709.01 1531.32 Q1710.86 1533.48 1714.01 1533.48 Z\" fill=\"#000000\" fill-rule=\"evenodd\" fill-opacity=\"1\" /><path clip-path=\"url(#clip630)\" d=\"M2078.58 1544.91 L2086.22 1544.91 L2086.22 1518.55 L2077.91 1520.21 L2077.91 1515.95 L2086.17 1514.29 L2090.85 1514.29 L2090.85 1544.91 L2098.48 1544.91 L2098.48 1548.85 L2078.58 1548.85 L2078.58 1544.91 Z\" fill=\"#000000\" fill-rule=\"evenodd\" fill-opacity=\"1\" /><path clip-path=\"url(#clip630)\" d=\"M2111.96 1544.91 L2128.28 1544.91 L2128.28 1548.85 L2106.33 1548.85 L2106.33 1544.91 Q2108.99 1542.16 2113.58 1537.53 Q2118.18 1532.88 2119.36 1531.53 Q2121.61 1529.01 2122.49 1527.27 Q2123.39 1525.51 2123.39 1523.82 Q2123.39 1521.07 2121.45 1519.33 Q2119.53 1517.6 2116.42 1517.6 Q2114.22 1517.6 2111.77 1518.36 Q2109.34 1519.13 2106.56 1520.68 L2106.56 1515.95 Q2109.39 1514.82 2111.84 1514.24 Q2114.29 1513.66 2116.33 1513.66 Q2121.7 1513.66 2124.9 1516.35 Q2128.09 1519.03 2128.09 1523.52 Q2128.09 1525.65 2127.28 1527.57 Q2126.49 1529.47 2124.39 1532.07 Q2123.81 1532.74 2120.71 1535.95 Q2117.6 1539.15 2111.96 1544.91 Z\" fill=\"#000000\" fill-rule=\"evenodd\" fill-opacity=\"1\" /><polyline clip-path=\"url(#clip632)\" style=\"stroke:#000000; stroke-linecap:round; stroke-linejoin:round; stroke-width:2; stroke-opacity:0.1; fill:none\" points=\"169.121,1445.72 2352.76,1445.72 \"/>\n",
       "<polyline clip-path=\"url(#clip632)\" style=\"stroke:#000000; stroke-linecap:round; stroke-linejoin:round; stroke-width:2; stroke-opacity:0.1; fill:none\" points=\"169.121,1076.76 2352.76,1076.76 \"/>\n",
       "<polyline clip-path=\"url(#clip632)\" style=\"stroke:#000000; stroke-linecap:round; stroke-linejoin:round; stroke-width:2; stroke-opacity:0.1; fill:none\" points=\"169.121,707.814 2352.76,707.814 \"/>\n",
       "<polyline clip-path=\"url(#clip632)\" style=\"stroke:#000000; stroke-linecap:round; stroke-linejoin:round; stroke-width:2; stroke-opacity:0.1; fill:none\" points=\"169.121,338.863 2352.76,338.863 \"/>\n",
       "<polyline clip-path=\"url(#clip630)\" style=\"stroke:#000000; stroke-linecap:round; stroke-linejoin:round; stroke-width:4; stroke-opacity:1; fill:none\" points=\"169.121,1486.45 169.121,47.2441 \"/>\n",
       "<polyline clip-path=\"url(#clip630)\" style=\"stroke:#000000; stroke-linecap:round; stroke-linejoin:round; stroke-width:4; stroke-opacity:1; fill:none\" points=\"169.121,1445.72 188.019,1445.72 \"/>\n",
       "<polyline clip-path=\"url(#clip630)\" style=\"stroke:#000000; stroke-linecap:round; stroke-linejoin:round; stroke-width:4; stroke-opacity:1; fill:none\" points=\"169.121,1076.76 188.019,1076.76 \"/>\n",
       "<polyline clip-path=\"url(#clip630)\" style=\"stroke:#000000; stroke-linecap:round; stroke-linejoin:round; stroke-width:4; stroke-opacity:1; fill:none\" points=\"169.121,707.814 188.019,707.814 \"/>\n",
       "<polyline clip-path=\"url(#clip630)\" style=\"stroke:#000000; stroke-linecap:round; stroke-linejoin:round; stroke-width:4; stroke-opacity:1; fill:none\" points=\"169.121,338.863 188.019,338.863 \"/>\n",
       "<path clip-path=\"url(#clip630)\" d=\"M121.177 1431.51 Q117.566 1431.51 115.737 1435.08 Q113.932 1438.62 113.932 1445.75 Q113.932 1452.86 115.737 1456.42 Q117.566 1459.96 121.177 1459.96 Q124.811 1459.96 126.617 1456.42 Q128.445 1452.86 128.445 1445.75 Q128.445 1438.62 126.617 1435.08 Q124.811 1431.51 121.177 1431.51 M121.177 1427.81 Q126.987 1427.81 130.043 1432.42 Q133.121 1437 133.121 1445.75 Q133.121 1454.48 130.043 1459.08 Q126.987 1463.67 121.177 1463.67 Q115.367 1463.67 112.288 1459.08 Q109.233 1454.48 109.233 1445.75 Q109.233 1437 112.288 1432.42 Q115.367 1427.81 121.177 1427.81 Z\" fill=\"#000000\" fill-rule=\"evenodd\" fill-opacity=\"1\" /><path clip-path=\"url(#clip630)\" d=\"M81.0614 1059.48 L99.4178 1059.48 L99.4178 1063.42 L85.3438 1063.42 L85.3438 1071.89 Q86.3623 1071.54 87.3808 1071.38 Q88.3993 1071.2 89.4178 1071.2 Q95.2049 1071.2 98.5845 1074.37 Q101.964 1077.54 101.964 1082.96 Q101.964 1088.54 98.4919 1091.64 Q95.0197 1094.72 88.7003 1094.72 Q86.5243 1094.72 84.2558 1094.35 Q82.0105 1093.98 79.6031 1093.23 L79.6031 1088.54 Q81.6864 1089.67 83.9086 1090.23 Q86.1308 1090.78 88.6077 1090.78 Q92.6123 1090.78 94.9502 1088.67 Q97.2882 1086.57 97.2882 1082.96 Q97.2882 1079.35 94.9502 1077.24 Q92.6123 1075.13 88.6077 1075.13 Q86.7327 1075.13 84.8577 1075.55 Q83.0058 1075.97 81.0614 1076.85 L81.0614 1059.48 Z\" fill=\"#000000\" fill-rule=\"evenodd\" fill-opacity=\"1\" /><path clip-path=\"url(#clip630)\" d=\"M121.177 1062.56 Q117.566 1062.56 115.737 1066.13 Q113.932 1069.67 113.932 1076.8 Q113.932 1083.91 115.737 1087.47 Q117.566 1091.01 121.177 1091.01 Q124.811 1091.01 126.617 1087.47 Q128.445 1083.91 128.445 1076.8 Q128.445 1069.67 126.617 1066.13 Q124.811 1062.56 121.177 1062.56 M121.177 1058.86 Q126.987 1058.86 130.043 1063.47 Q133.121 1068.05 133.121 1076.8 Q133.121 1085.53 130.043 1090.13 Q126.987 1094.72 121.177 1094.72 Q115.367 1094.72 112.288 1090.13 Q109.233 1085.53 109.233 1076.8 Q109.233 1068.05 112.288 1063.47 Q115.367 1058.86 121.177 1058.86 Z\" fill=\"#000000\" fill-rule=\"evenodd\" fill-opacity=\"1\" /><path clip-path=\"url(#clip630)\" d=\"M51.6634 721.159 L59.3023 721.159 L59.3023 694.793 L50.9921 696.46 L50.9921 692.2 L59.256 690.534 L63.9319 690.534 L63.9319 721.159 L71.5707 721.159 L71.5707 725.094 L51.6634 725.094 L51.6634 721.159 Z\" fill=\"#000000\" fill-rule=\"evenodd\" fill-opacity=\"1\" /><path clip-path=\"url(#clip630)\" d=\"M91.0151 693.613 Q87.404 693.613 85.5753 697.177 Q83.7697 700.719 83.7697 707.849 Q83.7697 714.955 85.5753 718.52 Q87.404 722.061 91.0151 722.061 Q94.6493 722.061 96.4548 718.52 Q98.2835 714.955 98.2835 707.849 Q98.2835 700.719 96.4548 697.177 Q94.6493 693.613 91.0151 693.613 M91.0151 689.909 Q96.8252 689.909 99.8808 694.515 Q102.959 699.099 102.959 707.849 Q102.959 716.575 99.8808 721.182 Q96.8252 725.765 91.0151 725.765 Q85.2049 725.765 82.1262 721.182 Q79.0707 716.575 79.0707 707.849 Q79.0707 699.099 82.1262 694.515 Q85.2049 689.909 91.0151 689.909 Z\" fill=\"#000000\" fill-rule=\"evenodd\" fill-opacity=\"1\" /><path clip-path=\"url(#clip630)\" d=\"M121.177 693.613 Q117.566 693.613 115.737 697.177 Q113.932 700.719 113.932 707.849 Q113.932 714.955 115.737 718.52 Q117.566 722.061 121.177 722.061 Q124.811 722.061 126.617 718.52 Q128.445 714.955 128.445 707.849 Q128.445 700.719 126.617 697.177 Q124.811 693.613 121.177 693.613 M121.177 689.909 Q126.987 689.909 130.043 694.515 Q133.121 699.099 133.121 707.849 Q133.121 716.575 130.043 721.182 Q126.987 725.765 121.177 725.765 Q115.367 725.765 112.288 721.182 Q109.233 716.575 109.233 707.849 Q109.233 699.099 112.288 694.515 Q115.367 689.909 121.177 689.909 Z\" fill=\"#000000\" fill-rule=\"evenodd\" fill-opacity=\"1\" /><path clip-path=\"url(#clip630)\" d=\"M51.6634 352.208 L59.3023 352.208 L59.3023 325.842 L50.9921 327.509 L50.9921 323.25 L59.256 321.583 L63.9319 321.583 L63.9319 352.208 L71.5707 352.208 L71.5707 356.143 L51.6634 356.143 L51.6634 352.208 Z\" fill=\"#000000\" fill-rule=\"evenodd\" fill-opacity=\"1\" /><path clip-path=\"url(#clip630)\" d=\"M81.0614 321.583 L99.4178 321.583 L99.4178 325.518 L85.3438 325.518 L85.3438 333.99 Q86.3623 333.643 87.3808 333.481 Q88.3993 333.296 89.4178 333.296 Q95.2049 333.296 98.5845 336.467 Q101.964 339.638 101.964 345.055 Q101.964 350.634 98.4919 353.736 Q95.0197 356.814 88.7003 356.814 Q86.5243 356.814 84.2558 356.444 Q82.0105 356.073 79.6031 355.333 L79.6031 350.634 Q81.6864 351.768 83.9086 352.323 Q86.1308 352.879 88.6077 352.879 Q92.6123 352.879 94.9502 350.773 Q97.2882 348.666 97.2882 345.055 Q97.2882 341.444 94.9502 339.337 Q92.6123 337.231 88.6077 337.231 Q86.7327 337.231 84.8577 337.648 Q83.0058 338.064 81.0614 338.944 L81.0614 321.583 Z\" fill=\"#000000\" fill-rule=\"evenodd\" fill-opacity=\"1\" /><path clip-path=\"url(#clip630)\" d=\"M121.177 324.662 Q117.566 324.662 115.737 328.226 Q113.932 331.768 113.932 338.898 Q113.932 346.004 115.737 349.569 Q117.566 353.111 121.177 353.111 Q124.811 353.111 126.617 349.569 Q128.445 346.004 128.445 338.898 Q128.445 331.768 126.617 328.226 Q124.811 324.662 121.177 324.662 M121.177 320.958 Q126.987 320.958 130.043 325.564 Q133.121 330.148 133.121 338.898 Q133.121 347.624 130.043 352.231 Q126.987 356.814 121.177 356.814 Q115.367 356.814 112.288 352.231 Q109.233 347.624 109.233 338.898 Q109.233 330.148 112.288 325.564 Q115.367 320.958 121.177 320.958 Z\" fill=\"#000000\" fill-rule=\"evenodd\" fill-opacity=\"1\" /><path clip-path=\"url(#clip632)\" d=\"M289.225 1430.96 L289.225 1445.72 L418.787 1445.72 L418.787 1430.96 L289.225 1430.96 L289.225 1430.96  Z\" fill=\"#009af9\" fill-rule=\"evenodd\" fill-opacity=\"1\"/>\n",
       "<polyline clip-path=\"url(#clip632)\" style=\"stroke:#000000; stroke-linecap:round; stroke-linejoin:round; stroke-width:4; stroke-opacity:1; fill:none\" points=\"289.225,1430.96 289.225,1445.72 418.787,1445.72 418.787,1430.96 289.225,1430.96 \"/>\n",
       "<path clip-path=\"url(#clip632)\" d=\"M418.787 1430.96 L418.787 1445.72 L548.349 1445.72 L548.349 1430.96 L418.787 1430.96 L418.787 1430.96  Z\" fill=\"#009af9\" fill-rule=\"evenodd\" fill-opacity=\"1\"/>\n",
       "<polyline clip-path=\"url(#clip632)\" style=\"stroke:#000000; stroke-linecap:round; stroke-linejoin:round; stroke-width:4; stroke-opacity:1; fill:none\" points=\"418.787,1430.96 418.787,1445.72 548.349,1445.72 548.349,1430.96 418.787,1430.96 \"/>\n",
       "<path clip-path=\"url(#clip632)\" d=\"M548.349 1312.89 L548.349 1445.72 L677.911 1445.72 L677.911 1312.89 L548.349 1312.89 L548.349 1312.89  Z\" fill=\"#009af9\" fill-rule=\"evenodd\" fill-opacity=\"1\"/>\n",
       "<polyline clip-path=\"url(#clip632)\" style=\"stroke:#000000; stroke-linecap:round; stroke-linejoin:round; stroke-width:4; stroke-opacity:1; fill:none\" points=\"548.349,1312.89 548.349,1445.72 677.911,1445.72 677.911,1312.89 548.349,1312.89 \"/>\n",
       "<path clip-path=\"url(#clip632)\" d=\"M677.911 1069.39 L677.911 1445.72 L807.472 1445.72 L807.472 1069.39 L677.911 1069.39 L677.911 1069.39  Z\" fill=\"#009af9\" fill-rule=\"evenodd\" fill-opacity=\"1\"/>\n",
       "<polyline clip-path=\"url(#clip632)\" style=\"stroke:#000000; stroke-linecap:round; stroke-linejoin:round; stroke-width:4; stroke-opacity:1; fill:none\" points=\"677.911,1069.39 677.911,1445.72 807.472,1445.72 807.472,1069.39 677.911,1069.39 \"/>\n",
       "<path clip-path=\"url(#clip632)\" d=\"M807.472 604.508 L807.472 1445.72 L937.034 1445.72 L937.034 604.508 L807.472 604.508 L807.472 604.508  Z\" fill=\"#009af9\" fill-rule=\"evenodd\" fill-opacity=\"1\"/>\n",
       "<polyline clip-path=\"url(#clip632)\" style=\"stroke:#000000; stroke-linecap:round; stroke-linejoin:round; stroke-width:4; stroke-opacity:1; fill:none\" points=\"807.472,604.508 807.472,1445.72 937.034,1445.72 937.034,604.508 807.472,604.508 \"/>\n",
       "<path clip-path=\"url(#clip632)\" d=\"M937.034 361 L937.034 1445.72 L1066.6 1445.72 L1066.6 361 L937.034 361 L937.034 361  Z\" fill=\"#009af9\" fill-rule=\"evenodd\" fill-opacity=\"1\"/>\n",
       "<polyline clip-path=\"url(#clip632)\" style=\"stroke:#000000; stroke-linecap:round; stroke-linejoin:round; stroke-width:4; stroke-opacity:1; fill:none\" points=\"937.034,361 937.034,1445.72 1066.6,1445.72 1066.6,361 937.034,361 \"/>\n",
       "<path clip-path=\"url(#clip632)\" d=\"M1066.6 87.9763 L1066.6 1445.72 L1196.16 1445.72 L1196.16 87.9763 L1066.6 87.9763 L1066.6 87.9763  Z\" fill=\"#009af9\" fill-rule=\"evenodd\" fill-opacity=\"1\"/>\n",
       "<polyline clip-path=\"url(#clip632)\" style=\"stroke:#000000; stroke-linecap:round; stroke-linejoin:round; stroke-width:4; stroke-opacity:1; fill:none\" points=\"1066.6,87.9763 1066.6,1445.72 1196.16,1445.72 1196.16,87.9763 1066.6,87.9763 \"/>\n",
       "<path clip-path=\"url(#clip632)\" d=\"M1196.16 102.734 L1196.16 1445.72 L1325.72 1445.72 L1325.72 102.734 L1196.16 102.734 L1196.16 102.734  Z\" fill=\"#009af9\" fill-rule=\"evenodd\" fill-opacity=\"1\"/>\n",
       "<polyline clip-path=\"url(#clip632)\" style=\"stroke:#000000; stroke-linecap:round; stroke-linejoin:round; stroke-width:4; stroke-opacity:1; fill:none\" points=\"1196.16,102.734 1196.16,1445.72 1325.72,1445.72 1325.72,102.734 1196.16,102.734 \"/>\n",
       "<path clip-path=\"url(#clip632)\" d=\"M1325.72 449.548 L1325.72 1445.72 L1455.28 1445.72 L1455.28 449.548 L1325.72 449.548 L1325.72 449.548  Z\" fill=\"#009af9\" fill-rule=\"evenodd\" fill-opacity=\"1\"/>\n",
       "<polyline clip-path=\"url(#clip632)\" style=\"stroke:#000000; stroke-linecap:round; stroke-linejoin:round; stroke-width:4; stroke-opacity:1; fill:none\" points=\"1325.72,449.548 1325.72,1445.72 1455.28,1445.72 1455.28,449.548 1325.72,449.548 \"/>\n",
       "<path clip-path=\"url(#clip632)\" d=\"M1455.28 722.572 L1455.28 1445.72 L1584.84 1445.72 L1584.84 722.572 L1455.28 722.572 L1455.28 722.572  Z\" fill=\"#009af9\" fill-rule=\"evenodd\" fill-opacity=\"1\"/>\n",
       "<polyline clip-path=\"url(#clip632)\" style=\"stroke:#000000; stroke-linecap:round; stroke-linejoin:round; stroke-width:4; stroke-opacity:1; fill:none\" points=\"1455.28,722.572 1455.28,1445.72 1584.84,1445.72 1584.84,722.572 1455.28,722.572 \"/>\n",
       "<path clip-path=\"url(#clip632)\" d=\"M1584.84 1128.42 L1584.84 1445.72 L1714.4 1445.72 L1714.4 1128.42 L1584.84 1128.42 L1584.84 1128.42  Z\" fill=\"#009af9\" fill-rule=\"evenodd\" fill-opacity=\"1\"/>\n",
       "<polyline clip-path=\"url(#clip632)\" style=\"stroke:#000000; stroke-linecap:round; stroke-linejoin:round; stroke-width:4; stroke-opacity:1; fill:none\" points=\"1584.84,1128.42 1584.84,1445.72 1714.4,1445.72 1714.4,1128.42 1584.84,1128.42 \"/>\n",
       "<path clip-path=\"url(#clip632)\" d=\"M1714.4 1342.41 L1714.4 1445.72 L1843.97 1445.72 L1843.97 1342.41 L1714.4 1342.41 L1714.4 1342.41  Z\" fill=\"#009af9\" fill-rule=\"evenodd\" fill-opacity=\"1\"/>\n",
       "<polyline clip-path=\"url(#clip632)\" style=\"stroke:#000000; stroke-linecap:round; stroke-linejoin:round; stroke-width:4; stroke-opacity:1; fill:none\" points=\"1714.4,1342.41 1714.4,1445.72 1843.97,1445.72 1843.97,1342.41 1714.4,1342.41 \"/>\n",
       "<path clip-path=\"url(#clip632)\" d=\"M1843.97 1408.82 L1843.97 1445.72 L1973.53 1445.72 L1973.53 1408.82 L1843.97 1408.82 L1843.97 1408.82  Z\" fill=\"#009af9\" fill-rule=\"evenodd\" fill-opacity=\"1\"/>\n",
       "<polyline clip-path=\"url(#clip632)\" style=\"stroke:#000000; stroke-linecap:round; stroke-linejoin:round; stroke-width:4; stroke-opacity:1; fill:none\" points=\"1843.97,1408.82 1843.97,1445.72 1973.53,1445.72 1973.53,1408.82 1843.97,1408.82 \"/>\n",
       "<path clip-path=\"url(#clip632)\" d=\"M1973.53 1416.2 L1973.53 1445.72 L2103.09 1445.72 L2103.09 1416.2 L1973.53 1416.2 L1973.53 1416.2  Z\" fill=\"#009af9\" fill-rule=\"evenodd\" fill-opacity=\"1\"/>\n",
       "<polyline clip-path=\"url(#clip632)\" style=\"stroke:#000000; stroke-linecap:round; stroke-linejoin:round; stroke-width:4; stroke-opacity:1; fill:none\" points=\"1973.53,1416.2 1973.53,1445.72 2103.09,1445.72 2103.09,1416.2 1973.53,1416.2 \"/>\n",
       "<path clip-path=\"url(#clip632)\" d=\"M2103.09 1438.34 L2103.09 1445.72 L2232.65 1445.72 L2232.65 1438.34 L2103.09 1438.34 L2103.09 1438.34  Z\" fill=\"#009af9\" fill-rule=\"evenodd\" fill-opacity=\"1\"/>\n",
       "<polyline clip-path=\"url(#clip632)\" style=\"stroke:#000000; stroke-linecap:round; stroke-linejoin:round; stroke-width:4; stroke-opacity:1; fill:none\" points=\"2103.09,1438.34 2103.09,1445.72 2232.65,1445.72 2232.65,1438.34 2103.09,1438.34 \"/>\n",
       "<circle clip-path=\"url(#clip632)\" style=\"fill:#009af9; stroke:none; fill-opacity:0\" cx=\"354.006\" cy=\"1430.96\" r=\"2\"/>\n",
       "<circle clip-path=\"url(#clip632)\" style=\"fill:#009af9; stroke:none; fill-opacity:0\" cx=\"483.568\" cy=\"1430.96\" r=\"2\"/>\n",
       "<circle clip-path=\"url(#clip632)\" style=\"fill:#009af9; stroke:none; fill-opacity:0\" cx=\"613.13\" cy=\"1312.89\" r=\"2\"/>\n",
       "<circle clip-path=\"url(#clip632)\" style=\"fill:#009af9; stroke:none; fill-opacity:0\" cx=\"742.691\" cy=\"1069.39\" r=\"2\"/>\n",
       "<circle clip-path=\"url(#clip632)\" style=\"fill:#009af9; stroke:none; fill-opacity:0\" cx=\"872.253\" cy=\"604.508\" r=\"2\"/>\n",
       "<circle clip-path=\"url(#clip632)\" style=\"fill:#009af9; stroke:none; fill-opacity:0\" cx=\"1001.82\" cy=\"361\" r=\"2\"/>\n",
       "<circle clip-path=\"url(#clip632)\" style=\"fill:#009af9; stroke:none; fill-opacity:0\" cx=\"1131.38\" cy=\"87.9763\" r=\"2\"/>\n",
       "<circle clip-path=\"url(#clip632)\" style=\"fill:#009af9; stroke:none; fill-opacity:0\" cx=\"1260.94\" cy=\"102.734\" r=\"2\"/>\n",
       "<circle clip-path=\"url(#clip632)\" style=\"fill:#009af9; stroke:none; fill-opacity:0\" cx=\"1390.5\" cy=\"449.548\" r=\"2\"/>\n",
       "<circle clip-path=\"url(#clip632)\" style=\"fill:#009af9; stroke:none; fill-opacity:0\" cx=\"1520.06\" cy=\"722.572\" r=\"2\"/>\n",
       "<circle clip-path=\"url(#clip632)\" style=\"fill:#009af9; stroke:none; fill-opacity:0\" cx=\"1649.62\" cy=\"1128.42\" r=\"2\"/>\n",
       "<circle clip-path=\"url(#clip632)\" style=\"fill:#009af9; stroke:none; fill-opacity:0\" cx=\"1779.19\" cy=\"1342.41\" r=\"2\"/>\n",
       "<circle clip-path=\"url(#clip632)\" style=\"fill:#009af9; stroke:none; fill-opacity:0\" cx=\"1908.75\" cy=\"1408.82\" r=\"2\"/>\n",
       "<circle clip-path=\"url(#clip632)\" style=\"fill:#009af9; stroke:none; fill-opacity:0\" cx=\"2038.31\" cy=\"1416.2\" r=\"2\"/>\n",
       "<circle clip-path=\"url(#clip632)\" style=\"fill:#009af9; stroke:none; fill-opacity:0\" cx=\"2167.87\" cy=\"1438.34\" r=\"2\"/>\n",
       "<path clip-path=\"url(#clip632)\" d=\"M742.691 1430.96 L742.691 1445.72 L807.472 1445.72 L807.472 1430.96 L742.691 1430.96 L742.691 1430.96  Z\" fill=\"#e26f46\" fill-rule=\"evenodd\" fill-opacity=\"1\"/>\n",
       "<polyline clip-path=\"url(#clip632)\" style=\"stroke:#ffa500; stroke-linecap:round; stroke-linejoin:round; stroke-width:4; stroke-opacity:1; fill:none\" points=\"742.691,1430.96 742.691,1445.72 807.472,1445.72 807.472,1430.96 742.691,1430.96 \"/>\n",
       "<path clip-path=\"url(#clip632)\" d=\"M807.472 1430.96 L807.472 1445.72 L872.253 1445.72 L872.253 1430.96 L807.472 1430.96 L807.472 1430.96  Z\" fill=\"#e26f46\" fill-rule=\"evenodd\" fill-opacity=\"1\"/>\n",
       "<polyline clip-path=\"url(#clip632)\" style=\"stroke:#ffa500; stroke-linecap:round; stroke-linejoin:round; stroke-width:4; stroke-opacity:1; fill:none\" points=\"807.472,1430.96 807.472,1445.72 872.253,1445.72 872.253,1430.96 807.472,1430.96 \"/>\n",
       "<path clip-path=\"url(#clip632)\" d=\"M872.253 1312.89 L872.253 1445.72 L937.034 1445.72 L937.034 1312.89 L872.253 1312.89 L872.253 1312.89  Z\" fill=\"#e26f46\" fill-rule=\"evenodd\" fill-opacity=\"1\"/>\n",
       "<polyline clip-path=\"url(#clip632)\" style=\"stroke:#ffa500; stroke-linecap:round; stroke-linejoin:round; stroke-width:4; stroke-opacity:1; fill:none\" points=\"872.253,1312.89 872.253,1445.72 937.034,1445.72 937.034,1312.89 872.253,1312.89 \"/>\n",
       "<path clip-path=\"url(#clip632)\" d=\"M937.034 1069.39 L937.034 1445.72 L1001.82 1445.72 L1001.82 1069.39 L937.034 1069.39 L937.034 1069.39  Z\" fill=\"#e26f46\" fill-rule=\"evenodd\" fill-opacity=\"1\"/>\n",
       "<polyline clip-path=\"url(#clip632)\" style=\"stroke:#ffa500; stroke-linecap:round; stroke-linejoin:round; stroke-width:4; stroke-opacity:1; fill:none\" points=\"937.034,1069.39 937.034,1445.72 1001.82,1445.72 1001.82,1069.39 937.034,1069.39 \"/>\n",
       "<path clip-path=\"url(#clip632)\" d=\"M1001.82 604.508 L1001.82 1445.72 L1066.6 1445.72 L1066.6 604.508 L1001.82 604.508 L1001.82 604.508  Z\" fill=\"#e26f46\" fill-rule=\"evenodd\" fill-opacity=\"1\"/>\n",
       "<polyline clip-path=\"url(#clip632)\" style=\"stroke:#ffa500; stroke-linecap:round; stroke-linejoin:round; stroke-width:4; stroke-opacity:1; fill:none\" points=\"1001.82,604.508 1001.82,1445.72 1066.6,1445.72 1066.6,604.508 1001.82,604.508 \"/>\n",
       "<path clip-path=\"url(#clip632)\" d=\"M1066.6 361 L1066.6 1445.72 L1131.38 1445.72 L1131.38 361 L1066.6 361 L1066.6 361  Z\" fill=\"#e26f46\" fill-rule=\"evenodd\" fill-opacity=\"1\"/>\n",
       "<polyline clip-path=\"url(#clip632)\" style=\"stroke:#ffa500; stroke-linecap:round; stroke-linejoin:round; stroke-width:4; stroke-opacity:1; fill:none\" points=\"1066.6,361 1066.6,1445.72 1131.38,1445.72 1131.38,361 1066.6,361 \"/>\n",
       "<path clip-path=\"url(#clip632)\" d=\"M1131.38 87.9763 L1131.38 1445.72 L1196.16 1445.72 L1196.16 87.9763 L1131.38 87.9763 L1131.38 87.9763  Z\" fill=\"#e26f46\" fill-rule=\"evenodd\" fill-opacity=\"1\"/>\n",
       "<polyline clip-path=\"url(#clip632)\" style=\"stroke:#ffa500; stroke-linecap:round; stroke-linejoin:round; stroke-width:4; stroke-opacity:1; fill:none\" points=\"1131.38,87.9763 1131.38,1445.72 1196.16,1445.72 1196.16,87.9763 1131.38,87.9763 \"/>\n",
       "<path clip-path=\"url(#clip632)\" d=\"M1196.16 102.734 L1196.16 1445.72 L1260.94 1445.72 L1260.94 102.734 L1196.16 102.734 L1196.16 102.734  Z\" fill=\"#e26f46\" fill-rule=\"evenodd\" fill-opacity=\"1\"/>\n",
       "<polyline clip-path=\"url(#clip632)\" style=\"stroke:#ffa500; stroke-linecap:round; stroke-linejoin:round; stroke-width:4; stroke-opacity:1; fill:none\" points=\"1196.16,102.734 1196.16,1445.72 1260.94,1445.72 1260.94,102.734 1196.16,102.734 \"/>\n",
       "<path clip-path=\"url(#clip632)\" d=\"M1260.94 449.548 L1260.94 1445.72 L1325.72 1445.72 L1325.72 449.548 L1260.94 449.548 L1260.94 449.548  Z\" fill=\"#e26f46\" fill-rule=\"evenodd\" fill-opacity=\"1\"/>\n",
       "<polyline clip-path=\"url(#clip632)\" style=\"stroke:#ffa500; stroke-linecap:round; stroke-linejoin:round; stroke-width:4; stroke-opacity:1; fill:none\" points=\"1260.94,449.548 1260.94,1445.72 1325.72,1445.72 1325.72,449.548 1260.94,449.548 \"/>\n",
       "<path clip-path=\"url(#clip632)\" d=\"M1325.72 722.572 L1325.72 1445.72 L1390.5 1445.72 L1390.5 722.572 L1325.72 722.572 L1325.72 722.572  Z\" fill=\"#e26f46\" fill-rule=\"evenodd\" fill-opacity=\"1\"/>\n",
       "<polyline clip-path=\"url(#clip632)\" style=\"stroke:#ffa500; stroke-linecap:round; stroke-linejoin:round; stroke-width:4; stroke-opacity:1; fill:none\" points=\"1325.72,722.572 1325.72,1445.72 1390.5,1445.72 1390.5,722.572 1325.72,722.572 \"/>\n",
       "<path clip-path=\"url(#clip632)\" d=\"M1390.5 1128.42 L1390.5 1445.72 L1455.28 1445.72 L1455.28 1128.42 L1390.5 1128.42 L1390.5 1128.42  Z\" fill=\"#e26f46\" fill-rule=\"evenodd\" fill-opacity=\"1\"/>\n",
       "<polyline clip-path=\"url(#clip632)\" style=\"stroke:#ffa500; stroke-linecap:round; stroke-linejoin:round; stroke-width:4; stroke-opacity:1; fill:none\" points=\"1390.5,1128.42 1390.5,1445.72 1455.28,1445.72 1455.28,1128.42 1390.5,1128.42 \"/>\n",
       "<path clip-path=\"url(#clip632)\" d=\"M1455.28 1342.41 L1455.28 1445.72 L1520.06 1445.72 L1520.06 1342.41 L1455.28 1342.41 L1455.28 1342.41  Z\" fill=\"#e26f46\" fill-rule=\"evenodd\" fill-opacity=\"1\"/>\n",
       "<polyline clip-path=\"url(#clip632)\" style=\"stroke:#ffa500; stroke-linecap:round; stroke-linejoin:round; stroke-width:4; stroke-opacity:1; fill:none\" points=\"1455.28,1342.41 1455.28,1445.72 1520.06,1445.72 1520.06,1342.41 1455.28,1342.41 \"/>\n",
       "<path clip-path=\"url(#clip632)\" d=\"M1520.06 1408.82 L1520.06 1445.72 L1584.84 1445.72 L1584.84 1408.82 L1520.06 1408.82 L1520.06 1408.82  Z\" fill=\"#e26f46\" fill-rule=\"evenodd\" fill-opacity=\"1\"/>\n",
       "<polyline clip-path=\"url(#clip632)\" style=\"stroke:#ffa500; stroke-linecap:round; stroke-linejoin:round; stroke-width:4; stroke-opacity:1; fill:none\" points=\"1520.06,1408.82 1520.06,1445.72 1584.84,1445.72 1584.84,1408.82 1520.06,1408.82 \"/>\n",
       "<path clip-path=\"url(#clip632)\" d=\"M1584.84 1416.2 L1584.84 1445.72 L1649.62 1445.72 L1649.62 1416.2 L1584.84 1416.2 L1584.84 1416.2  Z\" fill=\"#e26f46\" fill-rule=\"evenodd\" fill-opacity=\"1\"/>\n",
       "<polyline clip-path=\"url(#clip632)\" style=\"stroke:#ffa500; stroke-linecap:round; stroke-linejoin:round; stroke-width:4; stroke-opacity:1; fill:none\" points=\"1584.84,1416.2 1584.84,1445.72 1649.62,1445.72 1649.62,1416.2 1584.84,1416.2 \"/>\n",
       "<path clip-path=\"url(#clip632)\" d=\"M1649.62 1438.34 L1649.62 1445.72 L1714.4 1445.72 L1714.4 1438.34 L1649.62 1438.34 L1649.62 1438.34  Z\" fill=\"#e26f46\" fill-rule=\"evenodd\" fill-opacity=\"1\"/>\n",
       "<polyline clip-path=\"url(#clip632)\" style=\"stroke:#ffa500; stroke-linecap:round; stroke-linejoin:round; stroke-width:4; stroke-opacity:1; fill:none\" points=\"1649.62,1438.34 1649.62,1445.72 1714.4,1445.72 1714.4,1438.34 1649.62,1438.34 \"/>\n",
       "<circle clip-path=\"url(#clip632)\" style=\"fill:#e26f46; stroke:none; fill-opacity:0\" cx=\"775.082\" cy=\"1430.96\" r=\"2\"/>\n",
       "<circle clip-path=\"url(#clip632)\" style=\"fill:#e26f46; stroke:none; fill-opacity:0\" cx=\"839.863\" cy=\"1430.96\" r=\"2\"/>\n",
       "<circle clip-path=\"url(#clip632)\" style=\"fill:#e26f46; stroke:none; fill-opacity:0\" cx=\"904.644\" cy=\"1312.89\" r=\"2\"/>\n",
       "<circle clip-path=\"url(#clip632)\" style=\"fill:#e26f46; stroke:none; fill-opacity:0\" cx=\"969.425\" cy=\"1069.39\" r=\"2\"/>\n",
       "<circle clip-path=\"url(#clip632)\" style=\"fill:#e26f46; stroke:none; fill-opacity:0\" cx=\"1034.21\" cy=\"604.508\" r=\"2\"/>\n",
       "<circle clip-path=\"url(#clip632)\" style=\"fill:#e26f46; stroke:none; fill-opacity:0\" cx=\"1098.99\" cy=\"361\" r=\"2\"/>\n",
       "<circle clip-path=\"url(#clip632)\" style=\"fill:#e26f46; stroke:none; fill-opacity:0\" cx=\"1163.77\" cy=\"87.9763\" r=\"2\"/>\n",
       "<circle clip-path=\"url(#clip632)\" style=\"fill:#e26f46; stroke:none; fill-opacity:0\" cx=\"1228.55\" cy=\"102.734\" r=\"2\"/>\n",
       "<circle clip-path=\"url(#clip632)\" style=\"fill:#e26f46; stroke:none; fill-opacity:0\" cx=\"1293.33\" cy=\"449.548\" r=\"2\"/>\n",
       "<circle clip-path=\"url(#clip632)\" style=\"fill:#e26f46; stroke:none; fill-opacity:0\" cx=\"1358.11\" cy=\"722.572\" r=\"2\"/>\n",
       "<circle clip-path=\"url(#clip632)\" style=\"fill:#e26f46; stroke:none; fill-opacity:0\" cx=\"1422.89\" cy=\"1128.42\" r=\"2\"/>\n",
       "<circle clip-path=\"url(#clip632)\" style=\"fill:#e26f46; stroke:none; fill-opacity:0\" cx=\"1487.67\" cy=\"1342.41\" r=\"2\"/>\n",
       "<circle clip-path=\"url(#clip632)\" style=\"fill:#e26f46; stroke:none; fill-opacity:0\" cx=\"1552.45\" cy=\"1408.82\" r=\"2\"/>\n",
       "<circle clip-path=\"url(#clip632)\" style=\"fill:#e26f46; stroke:none; fill-opacity:0\" cx=\"1617.23\" cy=\"1416.2\" r=\"2\"/>\n",
       "<circle clip-path=\"url(#clip632)\" style=\"fill:#e26f46; stroke:none; fill-opacity:0\" cx=\"1682.01\" cy=\"1438.34\" r=\"2\"/>\n",
       "<path clip-path=\"url(#clip630)\" d=\"M1552.93 250.738 L2279.97 250.738 L2279.97 95.2176 L1552.93 95.2176  Z\" fill=\"#ffffff\" fill-rule=\"evenodd\" fill-opacity=\"1\"/>\n",
       "<polyline clip-path=\"url(#clip630)\" style=\"stroke:#000000; stroke-linecap:round; stroke-linejoin:round; stroke-width:4; stroke-opacity:1; fill:none\" points=\"1552.93,250.738 2279.97,250.738 2279.97,95.2176 1552.93,95.2176 1552.93,250.738 \"/>\n",
       "<path clip-path=\"url(#clip630)\" d=\"M1577.19 167.794 L1722.77 167.794 L1722.77 126.322 L1577.19 126.322 L1577.19 167.794  Z\" fill=\"#009af9\" fill-rule=\"evenodd\" fill-opacity=\"1\"/>\n",
       "<polyline clip-path=\"url(#clip630)\" style=\"stroke:#000000; stroke-linecap:round; stroke-linejoin:round; stroke-width:4; stroke-opacity:1; fill:none\" points=\"1577.19,167.794 1722.77,167.794 1722.77,126.322 1577.19,126.322 1577.19,167.794 \"/>\n",
       "<path clip-path=\"url(#clip630)\" d=\"M1747.03 129.778 L1753.32 129.778 L1768.65 158.689 L1768.65 129.778 L1773.18 129.778 L1773.18 164.338 L1766.89 164.338 L1751.56 135.426 L1751.56 164.338 L1747.03 164.338 L1747.03 129.778 Z\" fill=\"#000000\" fill-rule=\"evenodd\" fill-opacity=\"1\" /><path clip-path=\"url(#clip630)\" d=\"M1792.35 141.398 Q1788.93 141.398 1786.93 144.083 Q1784.94 146.745 1784.94 151.398 Q1784.94 156.051 1786.91 158.736 Q1788.9 161.398 1792.35 161.398 Q1795.75 161.398 1797.74 158.713 Q1799.74 156.027 1799.74 151.398 Q1799.74 146.791 1797.74 144.106 Q1795.75 141.398 1792.35 141.398 M1792.35 137.787 Q1797.91 137.787 1801.08 141.398 Q1804.25 145.009 1804.25 151.398 Q1804.25 157.764 1801.08 161.398 Q1797.91 165.009 1792.35 165.009 Q1786.77 165.009 1783.6 161.398 Q1780.45 157.764 1780.45 151.398 Q1780.45 145.009 1783.6 141.398 Q1786.77 137.787 1792.35 137.787 Z\" fill=\"#000000\" fill-rule=\"evenodd\" fill-opacity=\"1\" /><path clip-path=\"url(#clip630)\" d=\"M1826.33 142.393 Q1825.62 141.977 1824.76 141.791 Q1823.93 141.583 1822.91 141.583 Q1819.3 141.583 1817.35 143.944 Q1815.43 146.282 1815.43 150.68 L1815.43 164.338 L1811.15 164.338 L1811.15 138.412 L1815.43 138.412 L1815.43 142.44 Q1816.77 140.078 1818.93 138.944 Q1821.08 137.787 1824.16 137.787 Q1824.6 137.787 1825.13 137.856 Q1825.66 137.903 1826.31 138.018 L1826.33 142.393 Z\" fill=\"#000000\" fill-rule=\"evenodd\" fill-opacity=\"1\" /><path clip-path=\"url(#clip630)\" d=\"M1850.15 143.389 Q1851.75 140.518 1853.97 139.153 Q1856.19 137.787 1859.2 137.787 Q1863.25 137.787 1865.45 140.634 Q1867.65 143.458 1867.65 148.689 L1867.65 164.338 L1863.37 164.338 L1863.37 148.828 Q1863.37 145.102 1862.05 143.296 Q1860.73 141.49 1858.02 141.49 Q1854.71 141.49 1852.79 143.69 Q1850.87 145.889 1850.87 149.685 L1850.87 164.338 L1846.59 164.338 L1846.59 148.828 Q1846.59 145.078 1845.27 143.296 Q1843.95 141.49 1841.19 141.49 Q1837.93 141.49 1836.01 143.713 Q1834.09 145.912 1834.09 149.685 L1834.09 164.338 L1829.8 164.338 L1829.8 138.412 L1834.09 138.412 L1834.09 142.44 Q1835.55 140.055 1837.58 138.921 Q1839.62 137.787 1842.42 137.787 Q1845.24 137.787 1847.21 139.222 Q1849.2 140.657 1850.15 143.389 Z\" fill=\"#000000\" fill-rule=\"evenodd\" fill-opacity=\"1\" /><path clip-path=\"url(#clip630)\" d=\"M1887.93 151.305 Q1882.77 151.305 1880.78 152.486 Q1878.79 153.666 1878.79 156.514 Q1878.79 158.782 1880.27 160.125 Q1881.77 161.444 1884.34 161.444 Q1887.88 161.444 1890.01 158.944 Q1892.17 156.421 1892.17 152.254 L1892.17 151.305 L1887.93 151.305 M1896.42 149.546 L1896.42 164.338 L1892.17 164.338 L1892.17 160.402 Q1890.71 162.763 1888.53 163.898 Q1886.36 165.009 1883.21 165.009 Q1879.23 165.009 1876.86 162.787 Q1874.53 160.541 1874.53 156.791 Q1874.53 152.416 1877.44 150.194 Q1880.38 147.972 1886.19 147.972 L1892.17 147.972 L1892.17 147.555 Q1892.17 144.615 1890.22 143.018 Q1888.3 141.398 1884.8 141.398 Q1882.58 141.398 1880.48 141.93 Q1878.37 142.463 1876.43 143.527 L1876.43 139.592 Q1878.76 138.69 1880.96 138.25 Q1883.16 137.787 1885.24 137.787 Q1890.87 137.787 1893.65 140.703 Q1896.42 143.62 1896.42 149.546 Z\" fill=\"#000000\" fill-rule=\"evenodd\" fill-opacity=\"1\" /><path clip-path=\"url(#clip630)\" d=\"M1905.2 128.319 L1909.46 128.319 L1909.46 164.338 L1905.2 164.338 L1905.2 128.319 Z\" fill=\"#000000\" fill-rule=\"evenodd\" fill-opacity=\"1\" /><path clip-path=\"url(#clip630)\" d=\"M1938.3 133.62 L1938.3 160.495 L1943.95 160.495 Q1951.1 160.495 1954.41 157.254 Q1957.74 154.014 1957.74 147.023 Q1957.74 140.078 1954.41 136.861 Q1951.1 133.62 1943.95 133.62 L1938.3 133.62 M1933.62 129.778 L1943.23 129.778 Q1953.28 129.778 1957.98 133.967 Q1962.67 138.134 1962.67 147.023 Q1962.67 155.958 1957.95 160.148 Q1953.23 164.338 1943.23 164.338 L1933.62 164.338 L1933.62 129.778 Z\" fill=\"#000000\" fill-rule=\"evenodd\" fill-opacity=\"1\" /><path clip-path=\"url(#clip630)\" d=\"M1969.94 138.412 L1974.2 138.412 L1974.2 164.338 L1969.94 164.338 L1969.94 138.412 M1969.94 128.319 L1974.2 128.319 L1974.2 133.713 L1969.94 133.713 L1969.94 128.319 Z\" fill=\"#000000\" fill-rule=\"evenodd\" fill-opacity=\"1\" /><path clip-path=\"url(#clip630)\" d=\"M1999.64 139.176 L1999.64 143.203 Q1997.84 142.277 1995.89 141.815 Q1993.95 141.352 1991.86 141.352 Q1988.69 141.352 1987.1 142.324 Q1985.52 143.296 1985.52 145.24 Q1985.52 146.722 1986.66 147.578 Q1987.79 148.412 1991.22 149.176 L1992.67 149.5 Q1997.21 150.472 1999.11 152.254 Q2001.03 154.014 2001.03 157.185 Q2001.03 160.796 1998.16 162.902 Q1995.31 165.009 1990.31 165.009 Q1988.23 165.009 1985.96 164.592 Q1983.72 164.199 1981.22 163.388 L1981.22 158.99 Q1983.58 160.217 1985.87 160.842 Q1988.16 161.444 1990.41 161.444 Q1993.42 161.444 1995.04 160.426 Q1996.66 159.384 1996.66 157.509 Q1996.66 155.773 1995.48 154.847 Q1994.32 153.921 1990.36 153.064 L1988.88 152.717 Q1984.92 151.884 1983.16 150.171 Q1981.4 148.435 1981.4 145.426 Q1981.4 141.768 1983.99 139.778 Q1986.59 137.787 1991.36 137.787 Q1993.72 137.787 1995.8 138.134 Q1997.88 138.481 1999.64 139.176 Z\" fill=\"#000000\" fill-rule=\"evenodd\" fill-opacity=\"1\" /><path clip-path=\"url(#clip630)\" d=\"M2012.03 131.051 L2012.03 138.412 L2020.8 138.412 L2020.8 141.722 L2012.03 141.722 L2012.03 155.796 Q2012.03 158.967 2012.88 159.87 Q2013.76 160.773 2016.42 160.773 L2020.8 160.773 L2020.8 164.338 L2016.42 164.338 Q2011.49 164.338 2009.62 162.509 Q2007.74 160.657 2007.74 155.796 L2007.74 141.722 L2004.62 141.722 L2004.62 138.412 L2007.74 138.412 L2007.74 131.051 L2012.03 131.051 Z\" fill=\"#000000\" fill-rule=\"evenodd\" fill-opacity=\"1\" /><path clip-path=\"url(#clip630)\" d=\"M2041.42 142.393 Q2040.71 141.977 2039.85 141.791 Q2039.02 141.583 2038 141.583 Q2034.39 141.583 2032.44 143.944 Q2030.52 146.282 2030.52 150.68 L2030.52 164.338 L2026.24 164.338 L2026.24 138.412 L2030.52 138.412 L2030.52 142.44 Q2031.86 140.078 2034.02 138.944 Q2036.17 137.787 2039.25 137.787 Q2039.69 137.787 2040.22 137.856 Q2040.75 137.903 2041.4 138.018 L2041.42 142.393 Z\" fill=\"#000000\" fill-rule=\"evenodd\" fill-opacity=\"1\" /><path clip-path=\"url(#clip630)\" d=\"M2045.89 138.412 L2050.15 138.412 L2050.15 164.338 L2045.89 164.338 L2045.89 138.412 M2045.89 128.319 L2050.15 128.319 L2050.15 133.713 L2045.89 133.713 L2045.89 128.319 Z\" fill=\"#000000\" fill-rule=\"evenodd\" fill-opacity=\"1\" /><path clip-path=\"url(#clip630)\" d=\"M2077.67 151.398 Q2077.67 146.699 2075.73 144.037 Q2073.81 141.352 2070.43 141.352 Q2067.05 141.352 2065.1 144.037 Q2063.18 146.699 2063.18 151.398 Q2063.18 156.097 2065.1 158.782 Q2067.05 161.444 2070.43 161.444 Q2073.81 161.444 2075.73 158.782 Q2077.67 156.097 2077.67 151.398 M2063.18 142.347 Q2064.53 140.032 2066.56 138.921 Q2068.62 137.787 2071.47 137.787 Q2076.19 137.787 2079.13 141.537 Q2082.1 145.287 2082.1 151.398 Q2082.1 157.509 2079.13 161.259 Q2076.19 165.009 2071.47 165.009 Q2068.62 165.009 2066.56 163.898 Q2064.53 162.763 2063.18 160.449 L2063.18 164.338 L2058.9 164.338 L2058.9 128.319 L2063.18 128.319 L2063.18 142.347 Z\" fill=\"#000000\" fill-rule=\"evenodd\" fill-opacity=\"1\" /><path clip-path=\"url(#clip630)\" d=\"M2088.72 154.106 L2088.72 138.412 L2092.97 138.412 L2092.97 153.944 Q2092.97 157.625 2094.41 159.476 Q2095.85 161.305 2098.72 161.305 Q2102.16 161.305 2104.16 159.106 Q2106.17 156.907 2106.17 153.111 L2106.17 138.412 L2110.43 138.412 L2110.43 164.338 L2106.17 164.338 L2106.17 160.356 Q2104.62 162.717 2102.56 163.875 Q2100.52 165.009 2097.81 165.009 Q2093.35 165.009 2091.03 162.231 Q2088.72 159.453 2088.72 154.106 M2099.43 137.787 L2099.43 137.787 Z\" fill=\"#000000\" fill-rule=\"evenodd\" fill-opacity=\"1\" /><path clip-path=\"url(#clip630)\" d=\"M2123.41 131.051 L2123.41 138.412 L2132.19 138.412 L2132.19 141.722 L2123.41 141.722 L2123.41 155.796 Q2123.41 158.967 2124.27 159.87 Q2125.15 160.773 2127.81 160.773 L2132.19 160.773 L2132.19 164.338 L2127.81 164.338 Q2122.88 164.338 2121.01 162.509 Q2119.13 160.657 2119.13 155.796 L2119.13 141.722 L2116.01 141.722 L2116.01 138.412 L2119.13 138.412 L2119.13 131.051 L2123.41 131.051 Z\" fill=\"#000000\" fill-rule=\"evenodd\" fill-opacity=\"1\" /><path clip-path=\"url(#clip630)\" d=\"M2137.79 138.412 L2142.05 138.412 L2142.05 164.338 L2137.79 164.338 L2137.79 138.412 M2137.79 128.319 L2142.05 128.319 L2142.05 133.713 L2137.79 133.713 L2137.79 128.319 Z\" fill=\"#000000\" fill-rule=\"evenodd\" fill-opacity=\"1\" /><path clip-path=\"url(#clip630)\" d=\"M2161.01 141.398 Q2157.58 141.398 2155.59 144.083 Q2153.6 146.745 2153.6 151.398 Q2153.6 156.051 2155.57 158.736 Q2157.56 161.398 2161.01 161.398 Q2164.41 161.398 2166.4 158.713 Q2168.39 156.027 2168.39 151.398 Q2168.39 146.791 2166.4 144.106 Q2164.41 141.398 2161.01 141.398 M2161.01 137.787 Q2166.56 137.787 2169.73 141.398 Q2172.9 145.009 2172.9 151.398 Q2172.9 157.764 2169.73 161.398 Q2166.56 165.009 2161.01 165.009 Q2155.43 165.009 2152.26 161.398 Q2149.11 157.764 2149.11 151.398 Q2149.11 145.009 2152.26 141.398 Q2155.43 137.787 2161.01 137.787 Z\" fill=\"#000000\" fill-rule=\"evenodd\" fill-opacity=\"1\" /><path clip-path=\"url(#clip630)\" d=\"M2201.52 148.689 L2201.52 164.338 L2197.26 164.338 L2197.26 148.828 Q2197.26 145.148 2195.82 143.319 Q2194.39 141.49 2191.52 141.49 Q2188.07 141.49 2186.08 143.69 Q2184.09 145.889 2184.09 149.685 L2184.09 164.338 L2179.8 164.338 L2179.8 138.412 L2184.09 138.412 L2184.09 142.44 Q2185.61 140.102 2187.67 138.944 Q2189.76 137.787 2192.47 137.787 Q2196.93 137.787 2199.22 140.565 Q2201.52 143.319 2201.52 148.689 Z\" fill=\"#000000\" fill-rule=\"evenodd\" fill-opacity=\"1\" /><path clip-path=\"url(#clip630)\" d=\"M1577.19 219.634 L1722.77 219.634 L1722.77 178.162 L1577.19 178.162 L1577.19 219.634  Z\" fill=\"#e26f46\" fill-rule=\"evenodd\" fill-opacity=\"1\"/>\n",
       "<polyline clip-path=\"url(#clip630)\" style=\"stroke:#ffa500; stroke-linecap:round; stroke-linejoin:round; stroke-width:4; stroke-opacity:1; fill:none\" points=\"1577.19,219.634 1722.77,219.634 1722.77,178.162 1577.19,178.162 1577.19,219.634 \"/>\n",
       "<path clip-path=\"url(#clip630)\" d=\"M1774.9 184.28 L1774.9 189.21 Q1772.54 187.011 1769.85 185.923 Q1767.19 184.835 1764.18 184.835 Q1758.25 184.835 1755.11 188.469 Q1751.96 192.08 1751.96 198.932 Q1751.96 205.761 1755.11 209.395 Q1758.25 213.006 1764.18 213.006 Q1767.19 213.006 1769.85 211.918 Q1772.54 210.83 1774.9 208.631 L1774.9 213.516 Q1772.44 215.182 1769.69 216.016 Q1766.96 216.849 1763.9 216.849 Q1756.06 216.849 1751.54 212.057 Q1747.03 207.242 1747.03 198.932 Q1747.03 190.599 1751.54 185.807 Q1756.06 180.993 1763.9 180.993 Q1767 180.993 1769.74 181.826 Q1772.49 182.636 1774.9 184.28 Z\" fill=\"#000000\" fill-rule=\"evenodd\" fill-opacity=\"1\" /><path clip-path=\"url(#clip630)\" d=\"M1804.11 202.15 L1804.11 204.233 L1784.53 204.233 Q1784.81 208.631 1787.17 210.946 Q1789.55 213.238 1793.79 213.238 Q1796.24 213.238 1798.53 212.636 Q1800.85 212.034 1803.12 210.83 L1803.12 214.858 Q1800.82 215.83 1798.42 216.34 Q1796.01 216.849 1793.53 216.849 Q1787.33 216.849 1783.69 213.238 Q1780.08 209.627 1780.08 203.469 Q1780.08 197.104 1783.51 193.377 Q1786.96 189.627 1792.79 189.627 Q1798.02 189.627 1801.06 193.006 Q1804.11 196.363 1804.11 202.15 M1799.85 200.9 Q1799.81 197.405 1797.88 195.321 Q1795.99 193.238 1792.84 193.238 Q1789.27 193.238 1787.12 195.252 Q1784.99 197.266 1784.67 200.923 L1799.85 200.9 Z\" fill=\"#000000\" fill-rule=\"evenodd\" fill-opacity=\"1\" /><path clip-path=\"url(#clip630)\" d=\"M1832.65 200.529 L1832.65 216.178 L1828.39 216.178 L1828.39 200.668 Q1828.39 196.988 1826.96 195.159 Q1825.52 193.33 1822.65 193.33 Q1819.2 193.33 1817.21 195.53 Q1815.22 197.729 1815.22 201.525 L1815.22 216.178 L1810.94 216.178 L1810.94 190.252 L1815.22 190.252 L1815.22 194.28 Q1816.75 191.942 1818.81 190.784 Q1820.89 189.627 1823.6 189.627 Q1828.07 189.627 1830.36 192.405 Q1832.65 195.159 1832.65 200.529 Z\" fill=\"#000000\" fill-rule=\"evenodd\" fill-opacity=\"1\" /><path clip-path=\"url(#clip630)\" d=\"M1857.68 191.016 L1857.68 195.043 Q1855.87 194.117 1853.93 193.655 Q1851.98 193.192 1849.9 193.192 Q1846.73 193.192 1845.13 194.164 Q1843.55 195.136 1843.55 197.08 Q1843.55 198.562 1844.69 199.418 Q1845.82 200.252 1849.25 201.016 L1850.71 201.34 Q1855.24 202.312 1857.14 204.094 Q1859.06 205.854 1859.06 209.025 Q1859.06 212.636 1856.19 214.742 Q1853.35 216.849 1848.35 216.849 Q1846.26 216.849 1843.99 216.432 Q1841.75 216.039 1839.25 215.228 L1839.25 210.83 Q1841.61 212.057 1843.9 212.682 Q1846.19 213.284 1848.44 213.284 Q1851.45 213.284 1853.07 212.266 Q1854.69 211.224 1854.69 209.349 Q1854.69 207.613 1853.51 206.687 Q1852.35 205.761 1848.39 204.904 L1846.91 204.557 Q1842.95 203.724 1841.19 202.011 Q1839.43 200.275 1839.43 197.266 Q1839.43 193.608 1842.03 191.618 Q1844.62 189.627 1849.39 189.627 Q1851.75 189.627 1853.83 189.974 Q1855.92 190.321 1857.68 191.016 Z\" fill=\"#000000\" fill-rule=\"evenodd\" fill-opacity=\"1\" /><path clip-path=\"url(#clip630)\" d=\"M1875.89 193.238 Q1872.47 193.238 1870.48 195.923 Q1868.49 198.585 1868.49 203.238 Q1868.49 207.891 1870.45 210.576 Q1872.44 213.238 1875.89 213.238 Q1879.3 213.238 1881.29 210.553 Q1883.28 207.867 1883.28 203.238 Q1883.28 198.631 1881.29 195.946 Q1879.3 193.238 1875.89 193.238 M1875.89 189.627 Q1881.45 189.627 1884.62 193.238 Q1887.79 196.849 1887.79 203.238 Q1887.79 209.604 1884.62 213.238 Q1881.45 216.849 1875.89 216.849 Q1870.31 216.849 1867.14 213.238 Q1863.99 209.604 1863.99 203.238 Q1863.99 196.849 1867.14 193.238 Q1870.31 189.627 1875.89 189.627 Z\" fill=\"#000000\" fill-rule=\"evenodd\" fill-opacity=\"1\" /><path clip-path=\"url(#clip630)\" d=\"M1909.87 194.233 Q1909.16 193.817 1908.3 193.631 Q1907.47 193.423 1906.45 193.423 Q1902.84 193.423 1900.89 195.784 Q1898.97 198.122 1898.97 202.52 L1898.97 216.178 L1894.69 216.178 L1894.69 190.252 L1898.97 190.252 L1898.97 194.28 Q1900.31 191.918 1902.47 190.784 Q1904.62 189.627 1907.7 189.627 Q1908.14 189.627 1908.67 189.696 Q1909.2 189.743 1909.85 189.858 L1909.87 194.233 Z\" fill=\"#000000\" fill-rule=\"evenodd\" fill-opacity=\"1\" /><path clip-path=\"url(#clip630)\" d=\"M1935.48 202.15 L1935.48 204.233 L1915.89 204.233 Q1916.17 208.631 1918.53 210.946 Q1920.92 213.238 1925.15 213.238 Q1927.61 213.238 1929.9 212.636 Q1932.21 212.034 1934.48 210.83 L1934.48 214.858 Q1932.19 215.83 1929.78 216.34 Q1927.37 216.849 1924.9 216.849 Q1918.69 216.849 1915.06 213.238 Q1911.45 209.627 1911.45 203.469 Q1911.45 197.104 1914.87 193.377 Q1918.32 189.627 1924.16 189.627 Q1929.39 189.627 1932.42 193.006 Q1935.48 196.363 1935.48 202.15 M1931.22 200.9 Q1931.17 197.405 1929.25 195.321 Q1927.35 193.238 1924.2 193.238 Q1920.64 193.238 1918.49 195.252 Q1916.36 197.266 1916.03 200.923 L1931.22 200.9 Z\" fill=\"#000000\" fill-rule=\"evenodd\" fill-opacity=\"1\" /><path clip-path=\"url(#clip630)\" d=\"M1959.53 194.187 L1959.53 180.159 L1963.79 180.159 L1963.79 216.178 L1959.53 216.178 L1959.53 212.289 Q1958.18 214.603 1956.12 215.738 Q1954.09 216.849 1951.22 216.849 Q1946.52 216.849 1943.55 213.099 Q1940.61 209.349 1940.61 203.238 Q1940.61 197.127 1943.55 193.377 Q1946.52 189.627 1951.22 189.627 Q1954.09 189.627 1956.12 190.761 Q1958.18 191.872 1959.53 194.187 M1945.01 203.238 Q1945.01 207.937 1946.93 210.622 Q1948.88 213.284 1952.26 213.284 Q1955.64 213.284 1957.58 210.622 Q1959.53 207.937 1959.53 203.238 Q1959.53 198.539 1957.58 195.877 Q1955.64 193.192 1952.26 193.192 Q1948.88 193.192 1946.93 195.877 Q1945.01 198.539 1945.01 203.238 Z\" fill=\"#000000\" fill-rule=\"evenodd\" fill-opacity=\"1\" /><path clip-path=\"url(#clip630)\" d=\"M1992.49 185.46 L1992.49 212.335 L1998.14 212.335 Q2005.29 212.335 2008.6 209.094 Q2011.93 205.854 2011.93 198.863 Q2011.93 191.918 2008.6 188.701 Q2005.29 185.46 1998.14 185.46 L1992.49 185.46 M1987.81 181.618 L1997.42 181.618 Q2007.47 181.618 2012.17 185.807 Q2016.86 189.974 2016.86 198.863 Q2016.86 207.798 2012.14 211.988 Q2007.42 216.178 1997.42 216.178 L1987.81 216.178 L1987.81 181.618 Z\" fill=\"#000000\" fill-rule=\"evenodd\" fill-opacity=\"1\" /><path clip-path=\"url(#clip630)\" d=\"M2024.13 190.252 L2028.39 190.252 L2028.39 216.178 L2024.13 216.178 L2024.13 190.252 M2024.13 180.159 L2028.39 180.159 L2028.39 185.553 L2024.13 185.553 L2024.13 180.159 Z\" fill=\"#000000\" fill-rule=\"evenodd\" fill-opacity=\"1\" /><path clip-path=\"url(#clip630)\" d=\"M2053.83 191.016 L2053.83 195.043 Q2052.03 194.117 2050.08 193.655 Q2048.14 193.192 2046.05 193.192 Q2042.88 193.192 2041.29 194.164 Q2039.71 195.136 2039.71 197.08 Q2039.71 198.562 2040.85 199.418 Q2041.98 200.252 2045.41 201.016 L2046.86 201.34 Q2051.4 202.312 2053.3 204.094 Q2055.22 205.854 2055.22 209.025 Q2055.22 212.636 2052.35 214.742 Q2049.5 216.849 2044.5 216.849 Q2042.42 216.849 2040.15 216.432 Q2037.91 216.039 2035.41 215.228 L2035.41 210.83 Q2037.77 212.057 2040.06 212.682 Q2042.35 213.284 2044.6 213.284 Q2047.6 213.284 2049.23 212.266 Q2050.85 211.224 2050.85 209.349 Q2050.85 207.613 2049.66 206.687 Q2048.51 205.761 2044.55 204.904 L2043.07 204.557 Q2039.11 203.724 2037.35 202.011 Q2035.59 200.275 2035.59 197.266 Q2035.59 193.608 2038.18 191.618 Q2040.78 189.627 2045.54 189.627 Q2047.91 189.627 2049.99 189.974 Q2052.07 190.321 2053.83 191.016 Z\" fill=\"#000000\" fill-rule=\"evenodd\" fill-opacity=\"1\" /><path clip-path=\"url(#clip630)\" d=\"M2066.22 182.891 L2066.22 190.252 L2074.99 190.252 L2074.99 193.562 L2066.22 193.562 L2066.22 207.636 Q2066.22 210.807 2067.07 211.71 Q2067.95 212.613 2070.61 212.613 L2074.99 212.613 L2074.99 216.178 L2070.61 216.178 Q2065.68 216.178 2063.81 214.349 Q2061.93 212.497 2061.93 207.636 L2061.93 193.562 L2058.81 193.562 L2058.81 190.252 L2061.93 190.252 L2061.93 182.891 L2066.22 182.891 Z\" fill=\"#000000\" fill-rule=\"evenodd\" fill-opacity=\"1\" /><path clip-path=\"url(#clip630)\" d=\"M2095.61 194.233 Q2094.9 193.817 2094.04 193.631 Q2093.21 193.423 2092.19 193.423 Q2088.58 193.423 2086.63 195.784 Q2084.71 198.122 2084.71 202.52 L2084.71 216.178 L2080.43 216.178 L2080.43 190.252 L2084.71 190.252 L2084.71 194.28 Q2086.05 191.918 2088.21 190.784 Q2090.36 189.627 2093.44 189.627 Q2093.88 189.627 2094.41 189.696 Q2094.94 189.743 2095.59 189.858 L2095.61 194.233 Z\" fill=\"#000000\" fill-rule=\"evenodd\" fill-opacity=\"1\" /><path clip-path=\"url(#clip630)\" d=\"M2100.08 190.252 L2104.34 190.252 L2104.34 216.178 L2100.08 216.178 L2100.08 190.252 M2100.08 180.159 L2104.34 180.159 L2104.34 185.553 L2100.08 185.553 L2100.08 180.159 Z\" fill=\"#000000\" fill-rule=\"evenodd\" fill-opacity=\"1\" /><path clip-path=\"url(#clip630)\" d=\"M2131.86 203.238 Q2131.86 198.539 2129.92 195.877 Q2128 193.192 2124.62 193.192 Q2121.24 193.192 2119.29 195.877 Q2117.37 198.539 2117.37 203.238 Q2117.37 207.937 2119.29 210.622 Q2121.24 213.284 2124.62 213.284 Q2128 213.284 2129.92 210.622 Q2131.86 207.937 2131.86 203.238 M2117.37 194.187 Q2118.72 191.872 2120.75 190.761 Q2122.81 189.627 2125.66 189.627 Q2130.38 189.627 2133.32 193.377 Q2136.28 197.127 2136.28 203.238 Q2136.28 209.349 2133.32 213.099 Q2130.38 216.849 2125.66 216.849 Q2122.81 216.849 2120.75 215.738 Q2118.72 214.603 2117.37 212.289 L2117.37 216.178 L2113.09 216.178 L2113.09 180.159 L2117.37 180.159 L2117.37 194.187 Z\" fill=\"#000000\" fill-rule=\"evenodd\" fill-opacity=\"1\" /><path clip-path=\"url(#clip630)\" d=\"M2142.91 205.946 L2142.91 190.252 L2147.16 190.252 L2147.16 205.784 Q2147.16 209.465 2148.6 211.316 Q2150.03 213.145 2152.91 213.145 Q2156.35 213.145 2158.34 210.946 Q2160.36 208.747 2160.36 204.951 L2160.36 190.252 L2164.62 190.252 L2164.62 216.178 L2160.36 216.178 L2160.36 212.196 Q2158.81 214.557 2156.75 215.715 Q2154.71 216.849 2152 216.849 Q2147.53 216.849 2145.22 214.071 Q2142.91 211.293 2142.91 205.946 M2153.62 189.627 L2153.62 189.627 Z\" fill=\"#000000\" fill-rule=\"evenodd\" fill-opacity=\"1\" /><path clip-path=\"url(#clip630)\" d=\"M2177.6 182.891 L2177.6 190.252 L2186.38 190.252 L2186.38 193.562 L2177.6 193.562 L2177.6 207.636 Q2177.6 210.807 2178.46 211.71 Q2179.34 212.613 2182 212.613 L2186.38 212.613 L2186.38 216.178 L2182 216.178 Q2177.07 216.178 2175.2 214.349 Q2173.32 212.497 2173.32 207.636 L2173.32 193.562 L2170.2 193.562 L2170.2 190.252 L2173.32 190.252 L2173.32 182.891 L2177.6 182.891 Z\" fill=\"#000000\" fill-rule=\"evenodd\" fill-opacity=\"1\" /><path clip-path=\"url(#clip630)\" d=\"M2191.98 190.252 L2196.24 190.252 L2196.24 216.178 L2191.98 216.178 L2191.98 190.252 M2191.98 180.159 L2196.24 180.159 L2196.24 185.553 L2191.98 185.553 L2191.98 180.159 Z\" fill=\"#000000\" fill-rule=\"evenodd\" fill-opacity=\"1\" /><path clip-path=\"url(#clip630)\" d=\"M2215.2 193.238 Q2211.77 193.238 2209.78 195.923 Q2207.79 198.585 2207.79 203.238 Q2207.79 207.891 2209.76 210.576 Q2211.75 213.238 2215.2 213.238 Q2218.6 213.238 2220.59 210.553 Q2222.58 207.867 2222.58 203.238 Q2222.58 198.631 2220.59 195.946 Q2218.6 193.238 2215.2 193.238 M2215.2 189.627 Q2220.75 189.627 2223.92 193.238 Q2227.09 196.849 2227.09 203.238 Q2227.09 209.604 2223.92 213.238 Q2220.75 216.849 2215.2 216.849 Q2209.62 216.849 2206.45 213.238 Q2203.3 209.604 2203.3 203.238 Q2203.3 196.849 2206.45 193.238 Q2209.62 189.627 2215.2 189.627 Z\" fill=\"#000000\" fill-rule=\"evenodd\" fill-opacity=\"1\" /><path clip-path=\"url(#clip630)\" d=\"M2255.71 200.529 L2255.71 216.178 L2251.45 216.178 L2251.45 200.668 Q2251.45 196.988 2250.01 195.159 Q2248.58 193.33 2245.71 193.33 Q2242.26 193.33 2240.27 195.53 Q2238.28 197.729 2238.28 201.525 L2238.28 216.178 L2233.99 216.178 L2233.99 190.252 L2238.28 190.252 L2238.28 194.28 Q2239.8 191.942 2241.86 190.784 Q2243.95 189.627 2246.65 189.627 Q2251.12 189.627 2253.41 192.405 Q2255.71 195.159 2255.71 200.529 Z\" fill=\"#000000\" fill-rule=\"evenodd\" fill-opacity=\"1\" /></svg>\n"
      ]
     },
     "execution_count": 45,
     "metadata": {},
     "output_type": "execute_result"
    }
   ],
   "source": [
    "using Plots\n",
    "histogram(x, label = \"Normal Distribution\")\n",
    "histogram!(y, linecolor = :orange, label = \"Censored Distribution\")"
   ]
  },
  {
   "cell_type": "markdown",
   "id": "b90287bd",
   "metadata": {},
   "source": [
    "### 3.6\n",
    "\n",
    "#### Draw 10000 samples from the two distributions separately and plot them in the same plot"
   ]
  },
  {
   "cell_type": "code",
   "execution_count": 38,
   "id": "98a69dd1",
   "metadata": {},
   "outputs": [
    {
     "data": {
      "text/plain": [
       "10000-element Vector{Float64}:\n",
       "  3.7085386557920463\n",
       "  2.073497242222157\n",
       "  1.7527925088278389\n",
       "  4.5646697864329076\n",
       "  5.984491373050366\n",
       "  6.961959624248298\n",
       "  5.15991365901012\n",
       "  8.098249106085584\n",
       "  2.3167815182335563\n",
       "  5.8243232693659355\n",
       "  6.1863947762419516\n",
       "  3.463182162537386\n",
       "  4.847664109095126\n",
       "  ⋮\n",
       "  4.876349478786456\n",
       "  3.701077332845433\n",
       "  9.272559029370719\n",
       "  4.192392371751674\n",
       "  7.312769681977816\n",
       " 10.062859363250436\n",
       "  7.259367675461242\n",
       "  6.644784080712956\n",
       "  4.470812125848034\n",
       "  6.863892174961929\n",
       "  2.819952380086302\n",
       "  7.100217258933119"
      ]
     },
     "execution_count": 38,
     "metadata": {},
     "output_type": "execute_result"
    }
   ],
   "source": [
    "using Random, Distributions\n",
    "Random.seed!(123)\n",
    "X = rand(Normal(5, 2), 10000)"
   ]
  },
  {
   "cell_type": "code",
   "execution_count": 39,
   "id": "0a0e8a5f",
   "metadata": {},
   "outputs": [
    {
     "data": {
      "text/plain": [
       "10000-element Vector{Float64}:\n",
       " 4.354269327896024\n",
       " 3.5367486211110784\n",
       " 3.3763962544139194\n",
       " 4.782334893216454\n",
       " 5.492245686525183\n",
       " 5.980979812124149\n",
       " 5.07995682950506\n",
       " 6.549124553042792\n",
       " 3.658390759116778\n",
       " 5.412161634682968\n",
       " 5.593197388120975\n",
       " 4.231591081268693\n",
       " 4.923832054547563\n",
       " ⋮\n",
       " 4.9381747393932285\n",
       " 4.350538666422716\n",
       " 7.136279514685359\n",
       " 4.5961961858758364\n",
       " 6.156384840988908\n",
       " 7.531429681625218\n",
       " 6.129683837730621\n",
       " 5.822392040356478\n",
       " 4.735406062924017\n",
       " 5.931946087480965\n",
       " 3.909976190043151\n",
       " 6.05010862946656"
      ]
     },
     "execution_count": 39,
     "metadata": {},
     "output_type": "execute_result"
    }
   ],
   "source": [
    "using Random, Distributions\n",
    "Random.seed!(123)\n",
    "Y = rand(censored(Normal(5,1),1,10), 10000)"
   ]
  },
  {
   "cell_type": "code",
   "execution_count": 46,
   "id": "f3b6de27",
   "metadata": {},
   "outputs": [
    {
     "data": {
      "image/svg+xml": [
       "<?xml version=\"1.0\" encoding=\"utf-8\"?>\n",
       "<svg xmlns=\"http://www.w3.org/2000/svg\" xmlns:xlink=\"http://www.w3.org/1999/xlink\" width=\"600\" height=\"400\" viewBox=\"0 0 2400 1600\">\n",
       "<defs>\n",
       "  <clipPath id=\"clip670\">\n",
       "    <rect x=\"0\" y=\"0\" width=\"2400\" height=\"1600\"/>\n",
       "  </clipPath>\n",
       "</defs>\n",
       "<path clip-path=\"url(#clip670)\" d=\"M0 1600 L2400 1600 L2400 0 L0 0  Z\" fill=\"#ffffff\" fill-rule=\"evenodd\" fill-opacity=\"1\"/>\n",
       "<defs>\n",
       "  <clipPath id=\"clip671\">\n",
       "    <rect x=\"480\" y=\"0\" width=\"1681\" height=\"1600\"/>\n",
       "  </clipPath>\n",
       "</defs>\n",
       "<path clip-path=\"url(#clip670)\" d=\"M199.283 1486.45 L2352.76 1486.45 L2352.76 47.2441 L199.283 47.2441  Z\" fill=\"#ffffff\" fill-rule=\"evenodd\" fill-opacity=\"1\"/>\n",
       "<defs>\n",
       "  <clipPath id=\"clip672\">\n",
       "    <rect x=\"199\" y=\"47\" width=\"2154\" height=\"1440\"/>\n",
       "  </clipPath>\n",
       "</defs>\n",
       "<polyline clip-path=\"url(#clip672)\" style=\"stroke:#000000; stroke-linecap:round; stroke-linejoin:round; stroke-width:2; stroke-opacity:0.1; fill:none\" points=\"379.553,1486.45 379.553,47.2441 \"/>\n",
       "<polyline clip-path=\"url(#clip672)\" style=\"stroke:#000000; stroke-linecap:round; stroke-linejoin:round; stroke-width:2; stroke-opacity:0.1; fill:none\" points=\"626.854,1486.45 626.854,47.2441 \"/>\n",
       "<polyline clip-path=\"url(#clip672)\" style=\"stroke:#000000; stroke-linecap:round; stroke-linejoin:round; stroke-width:2; stroke-opacity:0.1; fill:none\" points=\"874.155,1486.45 874.155,47.2441 \"/>\n",
       "<polyline clip-path=\"url(#clip672)\" style=\"stroke:#000000; stroke-linecap:round; stroke-linejoin:round; stroke-width:2; stroke-opacity:0.1; fill:none\" points=\"1121.46,1486.45 1121.46,47.2441 \"/>\n",
       "<polyline clip-path=\"url(#clip672)\" style=\"stroke:#000000; stroke-linecap:round; stroke-linejoin:round; stroke-width:2; stroke-opacity:0.1; fill:none\" points=\"1368.76,1486.45 1368.76,47.2441 \"/>\n",
       "<polyline clip-path=\"url(#clip672)\" style=\"stroke:#000000; stroke-linecap:round; stroke-linejoin:round; stroke-width:2; stroke-opacity:0.1; fill:none\" points=\"1616.06,1486.45 1616.06,47.2441 \"/>\n",
       "<polyline clip-path=\"url(#clip672)\" style=\"stroke:#000000; stroke-linecap:round; stroke-linejoin:round; stroke-width:2; stroke-opacity:0.1; fill:none\" points=\"1863.36,1486.45 1863.36,47.2441 \"/>\n",
       "<polyline clip-path=\"url(#clip672)\" style=\"stroke:#000000; stroke-linecap:round; stroke-linejoin:round; stroke-width:2; stroke-opacity:0.1; fill:none\" points=\"2110.66,1486.45 2110.66,47.2441 \"/>\n",
       "<polyline clip-path=\"url(#clip670)\" style=\"stroke:#000000; stroke-linecap:round; stroke-linejoin:round; stroke-width:4; stroke-opacity:1; fill:none\" points=\"199.283,1486.45 2352.76,1486.45 \"/>\n",
       "<polyline clip-path=\"url(#clip670)\" style=\"stroke:#000000; stroke-linecap:round; stroke-linejoin:round; stroke-width:4; stroke-opacity:1; fill:none\" points=\"379.553,1486.45 379.553,1467.55 \"/>\n",
       "<polyline clip-path=\"url(#clip670)\" style=\"stroke:#000000; stroke-linecap:round; stroke-linejoin:round; stroke-width:4; stroke-opacity:1; fill:none\" points=\"626.854,1486.45 626.854,1467.55 \"/>\n",
       "<polyline clip-path=\"url(#clip670)\" style=\"stroke:#000000; stroke-linecap:round; stroke-linejoin:round; stroke-width:4; stroke-opacity:1; fill:none\" points=\"874.155,1486.45 874.155,1467.55 \"/>\n",
       "<polyline clip-path=\"url(#clip670)\" style=\"stroke:#000000; stroke-linecap:round; stroke-linejoin:round; stroke-width:4; stroke-opacity:1; fill:none\" points=\"1121.46,1486.45 1121.46,1467.55 \"/>\n",
       "<polyline clip-path=\"url(#clip670)\" style=\"stroke:#000000; stroke-linecap:round; stroke-linejoin:round; stroke-width:4; stroke-opacity:1; fill:none\" points=\"1368.76,1486.45 1368.76,1467.55 \"/>\n",
       "<polyline clip-path=\"url(#clip670)\" style=\"stroke:#000000; stroke-linecap:round; stroke-linejoin:round; stroke-width:4; stroke-opacity:1; fill:none\" points=\"1616.06,1486.45 1616.06,1467.55 \"/>\n",
       "<polyline clip-path=\"url(#clip670)\" style=\"stroke:#000000; stroke-linecap:round; stroke-linejoin:round; stroke-width:4; stroke-opacity:1; fill:none\" points=\"1863.36,1486.45 1863.36,1467.55 \"/>\n",
       "<polyline clip-path=\"url(#clip670)\" style=\"stroke:#000000; stroke-linecap:round; stroke-linejoin:round; stroke-width:4; stroke-opacity:1; fill:none\" points=\"2110.66,1486.45 2110.66,1467.55 \"/>\n",
       "<path clip-path=\"url(#clip670)\" d=\"M349.496 1532.02 L379.171 1532.02 L379.171 1535.95 L349.496 1535.95 L349.496 1532.02 Z\" fill=\"#000000\" fill-rule=\"evenodd\" fill-opacity=\"1\" /><path clip-path=\"url(#clip670)\" d=\"M393.292 1544.91 L409.611 1544.91 L409.611 1548.85 L387.667 1548.85 L387.667 1544.91 Q390.329 1542.16 394.912 1537.53 Q399.518 1532.88 400.699 1531.53 Q402.944 1529.01 403.824 1527.27 Q404.727 1525.51 404.727 1523.82 Q404.727 1521.07 402.782 1519.33 Q400.861 1517.6 397.759 1517.6 Q395.56 1517.6 393.106 1518.36 Q390.676 1519.13 387.898 1520.68 L387.898 1515.95 Q390.722 1514.82 393.176 1514.24 Q395.63 1513.66 397.667 1513.66 Q403.037 1513.66 406.231 1516.35 Q409.426 1519.03 409.426 1523.52 Q409.426 1525.65 408.616 1527.57 Q407.829 1529.47 405.722 1532.07 Q405.143 1532.74 402.042 1535.95 Q398.94 1539.15 393.292 1544.91 Z\" fill=\"#000000\" fill-rule=\"evenodd\" fill-opacity=\"1\" /><path clip-path=\"url(#clip670)\" d=\"M626.854 1517.37 Q623.243 1517.37 621.415 1520.93 Q619.609 1524.47 619.609 1531.6 Q619.609 1538.71 621.415 1542.27 Q623.243 1545.82 626.854 1545.82 Q630.489 1545.82 632.294 1542.27 Q634.123 1538.71 634.123 1531.6 Q634.123 1524.47 632.294 1520.93 Q630.489 1517.37 626.854 1517.37 M626.854 1513.66 Q632.664 1513.66 635.72 1518.27 Q638.799 1522.85 638.799 1531.6 Q638.799 1540.33 635.72 1544.94 Q632.664 1549.52 626.854 1549.52 Q621.044 1549.52 617.965 1544.94 Q614.91 1540.33 614.91 1531.6 Q614.91 1522.85 617.965 1518.27 Q621.044 1513.66 626.854 1513.66 Z\" fill=\"#000000\" fill-rule=\"evenodd\" fill-opacity=\"1\" /><path clip-path=\"url(#clip670)\" d=\"M868.808 1544.91 L885.128 1544.91 L885.128 1548.85 L863.183 1548.85 L863.183 1544.91 Q865.845 1542.16 870.429 1537.53 Q875.035 1532.88 876.216 1531.53 Q878.461 1529.01 879.341 1527.27 Q880.243 1525.51 880.243 1523.82 Q880.243 1521.07 878.299 1519.33 Q876.378 1517.6 873.276 1517.6 Q871.077 1517.6 868.623 1518.36 Q866.192 1519.13 863.415 1520.68 L863.415 1515.95 Q866.239 1514.82 868.692 1514.24 Q871.146 1513.66 873.183 1513.66 Q878.553 1513.66 881.748 1516.35 Q884.942 1519.03 884.942 1523.52 Q884.942 1525.65 884.132 1527.57 Q883.345 1529.47 881.239 1532.07 Q880.66 1532.74 877.558 1535.95 Q874.456 1539.15 868.808 1544.91 Z\" fill=\"#000000\" fill-rule=\"evenodd\" fill-opacity=\"1\" /><path clip-path=\"url(#clip670)\" d=\"M1124.47 1518.36 L1112.66 1536.81 L1124.47 1536.81 L1124.47 1518.36 M1123.24 1514.29 L1129.12 1514.29 L1129.12 1536.81 L1134.05 1536.81 L1134.05 1540.7 L1129.12 1540.7 L1129.12 1548.85 L1124.47 1548.85 L1124.47 1540.7 L1108.86 1540.7 L1108.86 1536.19 L1123.24 1514.29 Z\" fill=\"#000000\" fill-rule=\"evenodd\" fill-opacity=\"1\" /><path clip-path=\"url(#clip670)\" d=\"M1369.16 1529.7 Q1366.01 1529.7 1364.16 1531.86 Q1362.33 1534.01 1362.33 1537.76 Q1362.33 1541.49 1364.16 1543.66 Q1366.01 1545.82 1369.16 1545.82 Q1372.31 1545.82 1374.14 1543.66 Q1375.99 1541.49 1375.99 1537.76 Q1375.99 1534.01 1374.14 1531.86 Q1372.31 1529.7 1369.16 1529.7 M1378.44 1515.05 L1378.44 1519.31 Q1376.69 1518.48 1374.88 1518.04 Q1373.1 1517.6 1371.34 1517.6 Q1366.71 1517.6 1364.26 1520.72 Q1361.82 1523.85 1361.48 1530.17 Q1362.84 1528.15 1364.9 1527.09 Q1366.96 1526 1369.44 1526 Q1374.65 1526 1377.66 1529.17 Q1380.69 1532.32 1380.69 1537.76 Q1380.69 1543.08 1377.54 1546.3 Q1374.39 1549.52 1369.16 1549.52 Q1363.17 1549.52 1360 1544.94 Q1356.82 1540.33 1356.82 1531.6 Q1356.82 1523.41 1360.71 1518.55 Q1364.6 1513.66 1371.15 1513.66 Q1372.91 1513.66 1374.69 1514.01 Q1376.5 1514.36 1378.44 1515.05 Z\" fill=\"#000000\" fill-rule=\"evenodd\" fill-opacity=\"1\" /><path clip-path=\"url(#clip670)\" d=\"M1616.06 1532.44 Q1612.73 1532.44 1610.8 1534.22 Q1608.91 1536 1608.91 1539.13 Q1608.91 1542.25 1610.8 1544.03 Q1612.73 1545.82 1616.06 1545.82 Q1619.39 1545.82 1621.31 1544.03 Q1623.23 1542.23 1623.23 1539.13 Q1623.23 1536 1621.31 1534.22 Q1619.41 1532.44 1616.06 1532.44 M1611.38 1530.45 Q1608.37 1529.7 1606.68 1527.64 Q1605.02 1525.58 1605.02 1522.62 Q1605.02 1518.48 1607.96 1516.07 Q1610.92 1513.66 1616.06 1513.66 Q1621.22 1513.66 1624.16 1516.07 Q1627.1 1518.48 1627.1 1522.62 Q1627.1 1525.58 1625.41 1527.64 Q1623.74 1529.7 1620.76 1530.45 Q1624.14 1531.23 1626.01 1533.52 Q1627.91 1535.82 1627.91 1539.13 Q1627.91 1544.15 1624.83 1546.83 Q1621.78 1549.52 1616.06 1549.52 Q1610.34 1549.52 1607.26 1546.83 Q1604.21 1544.15 1604.21 1539.13 Q1604.21 1535.82 1606.1 1533.52 Q1608 1531.23 1611.38 1530.45 M1609.67 1523.06 Q1609.67 1525.75 1611.34 1527.25 Q1613.03 1528.76 1616.06 1528.76 Q1619.07 1528.76 1620.76 1527.25 Q1622.47 1525.75 1622.47 1523.06 Q1622.47 1520.38 1620.76 1518.87 Q1619.07 1517.37 1616.06 1517.37 Q1613.03 1517.37 1611.34 1518.87 Q1609.67 1520.38 1609.67 1523.06 Z\" fill=\"#000000\" fill-rule=\"evenodd\" fill-opacity=\"1\" /><path clip-path=\"url(#clip670)\" d=\"M1838.05 1544.91 L1845.69 1544.91 L1845.69 1518.55 L1837.38 1520.21 L1837.38 1515.95 L1845.64 1514.29 L1850.32 1514.29 L1850.32 1544.91 L1857.95 1544.91 L1857.95 1548.85 L1838.05 1548.85 L1838.05 1544.91 Z\" fill=\"#000000\" fill-rule=\"evenodd\" fill-opacity=\"1\" /><path clip-path=\"url(#clip670)\" d=\"M1877.4 1517.37 Q1873.79 1517.37 1871.96 1520.93 Q1870.15 1524.47 1870.15 1531.6 Q1870.15 1538.71 1871.96 1542.27 Q1873.79 1545.82 1877.4 1545.82 Q1881.03 1545.82 1882.84 1542.27 Q1884.67 1538.71 1884.67 1531.6 Q1884.67 1524.47 1882.84 1520.93 Q1881.03 1517.37 1877.4 1517.37 M1877.4 1513.66 Q1883.21 1513.66 1886.26 1518.27 Q1889.34 1522.85 1889.34 1531.6 Q1889.34 1540.33 1886.26 1544.94 Q1883.21 1549.52 1877.4 1549.52 Q1871.59 1549.52 1868.51 1544.94 Q1865.45 1540.33 1865.45 1531.6 Q1865.45 1522.85 1868.51 1518.27 Q1871.59 1513.66 1877.4 1513.66 Z\" fill=\"#000000\" fill-rule=\"evenodd\" fill-opacity=\"1\" /><path clip-path=\"url(#clip670)\" d=\"M2086.15 1544.91 L2093.79 1544.91 L2093.79 1518.55 L2085.48 1520.21 L2085.48 1515.95 L2093.74 1514.29 L2098.42 1514.29 L2098.42 1544.91 L2106.05 1544.91 L2106.05 1548.85 L2086.15 1548.85 L2086.15 1544.91 Z\" fill=\"#000000\" fill-rule=\"evenodd\" fill-opacity=\"1\" /><path clip-path=\"url(#clip670)\" d=\"M2119.53 1544.91 L2135.85 1544.91 L2135.85 1548.85 L2113.9 1548.85 L2113.9 1544.91 Q2116.56 1542.16 2121.15 1537.53 Q2125.75 1532.88 2126.93 1531.53 Q2129.18 1529.01 2130.06 1527.27 Q2130.96 1525.51 2130.96 1523.82 Q2130.96 1521.07 2129.02 1519.33 Q2127.1 1517.6 2123.99 1517.6 Q2121.79 1517.6 2119.34 1518.36 Q2116.91 1519.13 2114.13 1520.68 L2114.13 1515.95 Q2116.96 1514.82 2119.41 1514.24 Q2121.86 1513.66 2123.9 1513.66 Q2129.27 1513.66 2132.47 1516.35 Q2135.66 1519.03 2135.66 1523.52 Q2135.66 1525.65 2134.85 1527.57 Q2134.06 1529.47 2131.96 1532.07 Q2131.38 1532.74 2128.28 1535.95 Q2125.17 1539.15 2119.53 1544.91 Z\" fill=\"#000000\" fill-rule=\"evenodd\" fill-opacity=\"1\" /><polyline clip-path=\"url(#clip672)\" style=\"stroke:#000000; stroke-linecap:round; stroke-linejoin:round; stroke-width:2; stroke-opacity:0.1; fill:none\" points=\"199.283,1445.72 2352.76,1445.72 \"/>\n",
       "<polyline clip-path=\"url(#clip672)\" style=\"stroke:#000000; stroke-linecap:round; stroke-linejoin:round; stroke-width:2; stroke-opacity:0.1; fill:none\" points=\"199.283,1117.12 2352.76,1117.12 \"/>\n",
       "<polyline clip-path=\"url(#clip672)\" style=\"stroke:#000000; stroke-linecap:round; stroke-linejoin:round; stroke-width:2; stroke-opacity:0.1; fill:none\" points=\"199.283,788.533 2352.76,788.533 \"/>\n",
       "<polyline clip-path=\"url(#clip672)\" style=\"stroke:#000000; stroke-linecap:round; stroke-linejoin:round; stroke-width:2; stroke-opacity:0.1; fill:none\" points=\"199.283,459.942 2352.76,459.942 \"/>\n",
       "<polyline clip-path=\"url(#clip672)\" style=\"stroke:#000000; stroke-linecap:round; stroke-linejoin:round; stroke-width:2; stroke-opacity:0.1; fill:none\" points=\"199.283,131.35 2352.76,131.35 \"/>\n",
       "<polyline clip-path=\"url(#clip670)\" style=\"stroke:#000000; stroke-linecap:round; stroke-linejoin:round; stroke-width:4; stroke-opacity:1; fill:none\" points=\"199.283,1486.45 199.283,47.2441 \"/>\n",
       "<polyline clip-path=\"url(#clip670)\" style=\"stroke:#000000; stroke-linecap:round; stroke-linejoin:round; stroke-width:4; stroke-opacity:1; fill:none\" points=\"199.283,1445.72 218.181,1445.72 \"/>\n",
       "<polyline clip-path=\"url(#clip670)\" style=\"stroke:#000000; stroke-linecap:round; stroke-linejoin:round; stroke-width:4; stroke-opacity:1; fill:none\" points=\"199.283,1117.12 218.181,1117.12 \"/>\n",
       "<polyline clip-path=\"url(#clip670)\" style=\"stroke:#000000; stroke-linecap:round; stroke-linejoin:round; stroke-width:4; stroke-opacity:1; fill:none\" points=\"199.283,788.533 218.181,788.533 \"/>\n",
       "<polyline clip-path=\"url(#clip670)\" style=\"stroke:#000000; stroke-linecap:round; stroke-linejoin:round; stroke-width:4; stroke-opacity:1; fill:none\" points=\"199.283,459.942 218.181,459.942 \"/>\n",
       "<polyline clip-path=\"url(#clip670)\" style=\"stroke:#000000; stroke-linecap:round; stroke-linejoin:round; stroke-width:4; stroke-opacity:1; fill:none\" points=\"199.283,131.35 218.181,131.35 \"/>\n",
       "<path clip-path=\"url(#clip670)\" d=\"M151.339 1431.51 Q147.728 1431.51 145.899 1435.08 Q144.093 1438.62 144.093 1445.75 Q144.093 1452.86 145.899 1456.42 Q147.728 1459.96 151.339 1459.96 Q154.973 1459.96 156.779 1456.42 Q158.607 1452.86 158.607 1445.75 Q158.607 1438.62 156.779 1435.08 Q154.973 1431.51 151.339 1431.51 M151.339 1427.81 Q157.149 1427.81 160.205 1432.42 Q163.283 1437 163.283 1445.75 Q163.283 1454.48 160.205 1459.08 Q157.149 1463.67 151.339 1463.67 Q145.529 1463.67 142.45 1459.08 Q139.394 1454.48 139.394 1445.75 Q139.394 1437 142.45 1432.42 Q145.529 1427.81 151.339 1427.81 Z\" fill=\"#000000\" fill-rule=\"evenodd\" fill-opacity=\"1\" /><path clip-path=\"url(#clip670)\" d=\"M85.0429 1130.47 L101.362 1130.47 L101.362 1134.4 L79.4179 1134.4 L79.4179 1130.47 Q82.0799 1127.71 86.6632 1123.08 Q91.2697 1118.43 92.4502 1117.09 Q94.6956 1114.57 95.5752 1112.83 Q96.478 1111.07 96.478 1109.38 Q96.478 1106.63 94.5336 1104.89 Q92.6123 1103.15 89.5104 1103.15 Q87.3114 1103.15 84.8577 1103.92 Q82.4271 1104.68 79.6494 1106.23 L79.6494 1101.51 Q82.4734 1100.38 84.9271 1099.8 Q87.3808 1099.22 89.4178 1099.22 Q94.7882 1099.22 97.9826 1101.9 Q101.177 1104.59 101.177 1109.08 Q101.177 1111.21 100.367 1113.13 Q99.5798 1115.03 97.4734 1117.62 Q96.8947 1118.29 93.7928 1121.51 Q90.691 1124.71 85.0429 1130.47 Z\" fill=\"#000000\" fill-rule=\"evenodd\" fill-opacity=\"1\" /><path clip-path=\"url(#clip670)\" d=\"M111.223 1099.84 L129.58 1099.84 L129.58 1103.78 L115.506 1103.78 L115.506 1112.25 Q116.524 1111.9 117.543 1111.74 Q118.561 1111.56 119.58 1111.56 Q125.367 1111.56 128.746 1114.73 Q132.126 1117.9 132.126 1123.32 Q132.126 1128.9 128.654 1132 Q125.182 1135.08 118.862 1135.08 Q116.686 1135.08 114.418 1134.71 Q112.172 1134.33 109.765 1133.59 L109.765 1128.9 Q111.848 1130.03 114.07 1130.58 Q116.293 1131.14 118.77 1131.14 Q122.774 1131.14 125.112 1129.03 Q127.45 1126.93 127.45 1123.32 Q127.45 1119.71 125.112 1117.6 Q122.774 1115.49 118.77 1115.49 Q116.895 1115.49 115.02 1115.91 Q113.168 1116.33 111.223 1117.21 L111.223 1099.84 Z\" fill=\"#000000\" fill-rule=\"evenodd\" fill-opacity=\"1\" /><path clip-path=\"url(#clip670)\" d=\"M151.339 1102.92 Q147.728 1102.92 145.899 1106.49 Q144.093 1110.03 144.093 1117.16 Q144.093 1124.27 145.899 1127.83 Q147.728 1131.37 151.339 1131.37 Q154.973 1131.37 156.779 1127.83 Q158.607 1124.27 158.607 1117.16 Q158.607 1110.03 156.779 1106.49 Q154.973 1102.92 151.339 1102.92 M151.339 1099.22 Q157.149 1099.22 160.205 1103.83 Q163.283 1108.41 163.283 1117.16 Q163.283 1125.89 160.205 1130.49 Q157.149 1135.08 151.339 1135.08 Q145.529 1135.08 142.45 1130.49 Q139.394 1125.89 139.394 1117.16 Q139.394 1108.41 142.45 1103.83 Q145.529 1099.22 151.339 1099.22 Z\" fill=\"#000000\" fill-rule=\"evenodd\" fill-opacity=\"1\" /><path clip-path=\"url(#clip670)\" d=\"M81.0614 771.253 L99.4178 771.253 L99.4178 775.188 L85.3438 775.188 L85.3438 783.66 Q86.3623 783.313 87.3808 783.151 Q88.3993 782.966 89.4178 782.966 Q95.2049 782.966 98.5845 786.137 Q101.964 789.308 101.964 794.725 Q101.964 800.304 98.4919 803.406 Q95.0197 806.484 88.7003 806.484 Q86.5243 806.484 84.2558 806.114 Q82.0105 805.744 79.6031 805.003 L79.6031 800.304 Q81.6864 801.438 83.9086 801.994 Q86.1308 802.549 88.6077 802.549 Q92.6123 802.549 94.9502 800.443 Q97.2882 798.336 97.2882 794.725 Q97.2882 791.114 94.9502 789.008 Q92.6123 786.901 88.6077 786.901 Q86.7327 786.901 84.8577 787.318 Q83.0058 787.734 81.0614 788.614 L81.0614 771.253 Z\" fill=\"#000000\" fill-rule=\"evenodd\" fill-opacity=\"1\" /><path clip-path=\"url(#clip670)\" d=\"M121.177 774.332 Q117.566 774.332 115.737 777.896 Q113.932 781.438 113.932 788.568 Q113.932 795.674 115.737 799.239 Q117.566 802.781 121.177 802.781 Q124.811 802.781 126.617 799.239 Q128.445 795.674 128.445 788.568 Q128.445 781.438 126.617 777.896 Q124.811 774.332 121.177 774.332 M121.177 770.628 Q126.987 770.628 130.043 775.234 Q133.121 779.818 133.121 788.568 Q133.121 797.295 130.043 801.901 Q126.987 806.484 121.177 806.484 Q115.367 806.484 112.288 801.901 Q109.233 797.295 109.233 788.568 Q109.233 779.818 112.288 775.234 Q115.367 770.628 121.177 770.628 Z\" fill=\"#000000\" fill-rule=\"evenodd\" fill-opacity=\"1\" /><path clip-path=\"url(#clip670)\" d=\"M151.339 774.332 Q147.728 774.332 145.899 777.896 Q144.093 781.438 144.093 788.568 Q144.093 795.674 145.899 799.239 Q147.728 802.781 151.339 802.781 Q154.973 802.781 156.779 799.239 Q158.607 795.674 158.607 788.568 Q158.607 781.438 156.779 777.896 Q154.973 774.332 151.339 774.332 M151.339 770.628 Q157.149 770.628 160.205 775.234 Q163.283 779.818 163.283 788.568 Q163.283 797.295 160.205 801.901 Q157.149 806.484 151.339 806.484 Q145.529 806.484 142.45 801.901 Q139.394 797.295 139.394 788.568 Q139.394 779.818 142.45 775.234 Q145.529 770.628 151.339 770.628 Z\" fill=\"#000000\" fill-rule=\"evenodd\" fill-opacity=\"1\" /><path clip-path=\"url(#clip670)\" d=\"M79.8346 442.662 L102.057 442.662 L102.057 444.652 L89.5104 477.222 L84.6262 477.222 L96.4317 446.597 L79.8346 446.597 L79.8346 442.662 Z\" fill=\"#000000\" fill-rule=\"evenodd\" fill-opacity=\"1\" /><path clip-path=\"url(#clip670)\" d=\"M111.223 442.662 L129.58 442.662 L129.58 446.597 L115.506 446.597 L115.506 455.069 Q116.524 454.722 117.543 454.56 Q118.561 454.375 119.58 454.375 Q125.367 454.375 128.746 457.546 Q132.126 460.717 132.126 466.134 Q132.126 471.712 128.654 474.814 Q125.182 477.893 118.862 477.893 Q116.686 477.893 114.418 477.523 Q112.172 477.152 109.765 476.411 L109.765 471.712 Q111.848 472.847 114.07 473.402 Q116.293 473.958 118.77 473.958 Q122.774 473.958 125.112 471.851 Q127.45 469.745 127.45 466.134 Q127.45 462.523 125.112 460.416 Q122.774 458.31 118.77 458.31 Q116.895 458.31 115.02 458.726 Q113.168 459.143 111.223 460.023 L111.223 442.662 Z\" fill=\"#000000\" fill-rule=\"evenodd\" fill-opacity=\"1\" /><path clip-path=\"url(#clip670)\" d=\"M151.339 445.74 Q147.728 445.74 145.899 449.305 Q144.093 452.847 144.093 459.976 Q144.093 467.083 145.899 470.648 Q147.728 474.189 151.339 474.189 Q154.973 474.189 156.779 470.648 Q158.607 467.083 158.607 459.976 Q158.607 452.847 156.779 449.305 Q154.973 445.74 151.339 445.74 M151.339 442.037 Q157.149 442.037 160.205 446.643 Q163.283 451.226 163.283 459.976 Q163.283 468.703 160.205 473.31 Q157.149 477.893 151.339 477.893 Q145.529 477.893 142.45 473.31 Q139.394 468.703 139.394 459.976 Q139.394 451.226 142.45 446.643 Q145.529 442.037 151.339 442.037 Z\" fill=\"#000000\" fill-rule=\"evenodd\" fill-opacity=\"1\" /><path clip-path=\"url(#clip670)\" d=\"M51.6634 144.695 L59.3023 144.695 L59.3023 118.33 L50.9921 119.996 L50.9921 115.737 L59.256 114.07 L63.9319 114.07 L63.9319 144.695 L71.5707 144.695 L71.5707 148.63 L51.6634 148.63 L51.6634 144.695 Z\" fill=\"#000000\" fill-rule=\"evenodd\" fill-opacity=\"1\" /><path clip-path=\"url(#clip670)\" d=\"M91.0151 117.149 Q87.404 117.149 85.5753 120.714 Q83.7697 124.255 83.7697 131.385 Q83.7697 138.491 85.5753 142.056 Q87.404 145.598 91.0151 145.598 Q94.6493 145.598 96.4548 142.056 Q98.2835 138.491 98.2835 131.385 Q98.2835 124.255 96.4548 120.714 Q94.6493 117.149 91.0151 117.149 M91.0151 113.445 Q96.8252 113.445 99.8808 118.052 Q102.959 122.635 102.959 131.385 Q102.959 140.112 99.8808 144.718 Q96.8252 149.302 91.0151 149.302 Q85.2049 149.302 82.1262 144.718 Q79.0707 140.112 79.0707 131.385 Q79.0707 122.635 82.1262 118.052 Q85.2049 113.445 91.0151 113.445 Z\" fill=\"#000000\" fill-rule=\"evenodd\" fill-opacity=\"1\" /><path clip-path=\"url(#clip670)\" d=\"M121.177 117.149 Q117.566 117.149 115.737 120.714 Q113.932 124.255 113.932 131.385 Q113.932 138.491 115.737 142.056 Q117.566 145.598 121.177 145.598 Q124.811 145.598 126.617 142.056 Q128.445 138.491 128.445 131.385 Q128.445 124.255 126.617 120.714 Q124.811 117.149 121.177 117.149 M121.177 113.445 Q126.987 113.445 130.043 118.052 Q133.121 122.635 133.121 131.385 Q133.121 140.112 130.043 144.718 Q126.987 149.302 121.177 149.302 Q115.367 149.302 112.288 144.718 Q109.233 140.112 109.233 131.385 Q109.233 122.635 112.288 118.052 Q115.367 113.445 121.177 113.445 Z\" fill=\"#000000\" fill-rule=\"evenodd\" fill-opacity=\"1\" /><path clip-path=\"url(#clip670)\" d=\"M151.339 117.149 Q147.728 117.149 145.899 120.714 Q144.093 124.255 144.093 131.385 Q144.093 138.491 145.899 142.056 Q147.728 145.598 151.339 145.598 Q154.973 145.598 156.779 142.056 Q158.607 138.491 158.607 131.385 Q158.607 124.255 156.779 120.714 Q154.973 117.149 151.339 117.149 M151.339 113.445 Q157.149 113.445 160.205 118.052 Q163.283 122.635 163.283 131.385 Q163.283 140.112 160.205 144.718 Q157.149 149.302 151.339 149.302 Q145.529 149.302 142.45 144.718 Q139.394 140.112 139.394 131.385 Q139.394 122.635 142.45 118.052 Q145.529 113.445 151.339 113.445 Z\" fill=\"#000000\" fill-rule=\"evenodd\" fill-opacity=\"1\" /><path clip-path=\"url(#clip672)\" d=\"M317.728 1443.09 L317.728 1445.72 L379.553 1445.72 L379.553 1443.09 L317.728 1443.09 L317.728 1443.09  Z\" fill=\"#009af9\" fill-rule=\"evenodd\" fill-opacity=\"1\"/>\n",
       "<polyline clip-path=\"url(#clip672)\" style=\"stroke:#000000; stroke-linecap:round; stroke-linejoin:round; stroke-width:4; stroke-opacity:1; fill:none\" points=\"317.728,1443.09 317.728,1445.72 379.553,1445.72 379.553,1443.09 317.728,1443.09 \"/>\n",
       "<path clip-path=\"url(#clip672)\" d=\"M379.553 1439.14 L379.553 1445.72 L441.379 1445.72 L441.379 1439.14 L379.553 1439.14 L379.553 1439.14  Z\" fill=\"#009af9\" fill-rule=\"evenodd\" fill-opacity=\"1\"/>\n",
       "<polyline clip-path=\"url(#clip672)\" style=\"stroke:#000000; stroke-linecap:round; stroke-linejoin:round; stroke-width:4; stroke-opacity:1; fill:none\" points=\"379.553,1439.14 379.553,1445.72 441.379,1445.72 441.379,1439.14 379.553,1439.14 \"/>\n",
       "<path clip-path=\"url(#clip672)\" d=\"M441.379 1435.2 L441.379 1445.72 L503.204 1445.72 L503.204 1435.2 L441.379 1435.2 L441.379 1435.2  Z\" fill=\"#009af9\" fill-rule=\"evenodd\" fill-opacity=\"1\"/>\n",
       "<polyline clip-path=\"url(#clip672)\" style=\"stroke:#000000; stroke-linecap:round; stroke-linejoin:round; stroke-width:4; stroke-opacity:1; fill:none\" points=\"441.379,1435.2 441.379,1445.72 503.204,1445.72 503.204,1435.2 441.379,1435.2 \"/>\n",
       "<path clip-path=\"url(#clip672)\" d=\"M503.204 1432.57 L503.204 1445.72 L565.029 1445.72 L565.029 1432.57 L503.204 1432.57 L503.204 1432.57  Z\" fill=\"#009af9\" fill-rule=\"evenodd\" fill-opacity=\"1\"/>\n",
       "<polyline clip-path=\"url(#clip672)\" style=\"stroke:#000000; stroke-linecap:round; stroke-linejoin:round; stroke-width:4; stroke-opacity:1; fill:none\" points=\"503.204,1432.57 503.204,1445.72 565.029,1445.72 565.029,1432.57 503.204,1432.57 \"/>\n",
       "<path clip-path=\"url(#clip672)\" d=\"M565.029 1403.66 L565.029 1445.72 L626.854 1445.72 L626.854 1403.66 L565.029 1403.66 L565.029 1403.66  Z\" fill=\"#009af9\" fill-rule=\"evenodd\" fill-opacity=\"1\"/>\n",
       "<polyline clip-path=\"url(#clip672)\" style=\"stroke:#000000; stroke-linecap:round; stroke-linejoin:round; stroke-width:4; stroke-opacity:1; fill:none\" points=\"565.029,1403.66 565.029,1445.72 626.854,1445.72 626.854,1403.66 565.029,1403.66 \"/>\n",
       "<path clip-path=\"url(#clip672)\" d=\"M626.854 1380 L626.854 1445.72 L688.68 1445.72 L688.68 1380 L626.854 1380 L626.854 1380  Z\" fill=\"#009af9\" fill-rule=\"evenodd\" fill-opacity=\"1\"/>\n",
       "<polyline clip-path=\"url(#clip672)\" style=\"stroke:#000000; stroke-linecap:round; stroke-linejoin:round; stroke-width:4; stroke-opacity:1; fill:none\" points=\"626.854,1380 626.854,1445.72 688.68,1445.72 688.68,1380 626.854,1380 \"/>\n",
       "<path clip-path=\"url(#clip672)\" d=\"M688.68 1277.48 L688.68 1445.72 L750.505 1445.72 L750.505 1277.48 L688.68 1277.48 L688.68 1277.48  Z\" fill=\"#009af9\" fill-rule=\"evenodd\" fill-opacity=\"1\"/>\n",
       "<polyline clip-path=\"url(#clip672)\" style=\"stroke:#000000; stroke-linecap:round; stroke-linejoin:round; stroke-width:4; stroke-opacity:1; fill:none\" points=\"688.68,1277.48 688.68,1445.72 750.505,1445.72 750.505,1277.48 688.68,1277.48 \"/>\n",
       "<path clip-path=\"url(#clip672)\" d=\"M750.505 1195.99 L750.505 1445.72 L812.33 1445.72 L812.33 1195.99 L750.505 1195.99 L750.505 1195.99  Z\" fill=\"#009af9\" fill-rule=\"evenodd\" fill-opacity=\"1\"/>\n",
       "<polyline clip-path=\"url(#clip672)\" style=\"stroke:#000000; stroke-linecap:round; stroke-linejoin:round; stroke-width:4; stroke-opacity:1; fill:none\" points=\"750.505,1195.99 750.505,1445.72 812.33,1445.72 812.33,1195.99 750.505,1195.99 \"/>\n",
       "<path clip-path=\"url(#clip672)\" d=\"M812.33 1093.47 L812.33 1445.72 L874.155 1445.72 L874.155 1093.47 L812.33 1093.47 L812.33 1093.47  Z\" fill=\"#009af9\" fill-rule=\"evenodd\" fill-opacity=\"1\"/>\n",
       "<polyline clip-path=\"url(#clip672)\" style=\"stroke:#000000; stroke-linecap:round; stroke-linejoin:round; stroke-width:4; stroke-opacity:1; fill:none\" points=\"812.33,1093.47 812.33,1445.72 874.155,1445.72 874.155,1093.47 812.33,1093.47 \"/>\n",
       "<path clip-path=\"url(#clip672)\" d=\"M874.155 913.398 L874.155 1445.72 L935.981 1445.72 L935.981 913.398 L874.155 913.398 L874.155 913.398  Z\" fill=\"#009af9\" fill-rule=\"evenodd\" fill-opacity=\"1\"/>\n",
       "<polyline clip-path=\"url(#clip672)\" style=\"stroke:#000000; stroke-linecap:round; stroke-linejoin:round; stroke-width:4; stroke-opacity:1; fill:none\" points=\"874.155,913.398 874.155,1445.72 935.981,1445.72 935.981,913.398 874.155,913.398 \"/>\n",
       "<path clip-path=\"url(#clip672)\" d=\"M935.981 750.416 L935.981 1445.72 L997.806 1445.72 L997.806 750.416 L935.981 750.416 L935.981 750.416  Z\" fill=\"#009af9\" fill-rule=\"evenodd\" fill-opacity=\"1\"/>\n",
       "<polyline clip-path=\"url(#clip672)\" style=\"stroke:#000000; stroke-linecap:round; stroke-linejoin:round; stroke-width:4; stroke-opacity:1; fill:none\" points=\"935.981,750.416 935.981,1445.72 997.806,1445.72 997.806,750.416 935.981,750.416 \"/>\n",
       "<path clip-path=\"url(#clip672)\" d=\"M997.806 538.804 L997.806 1445.72 L1059.63 1445.72 L1059.63 538.804 L997.806 538.804 L997.806 538.804  Z\" fill=\"#009af9\" fill-rule=\"evenodd\" fill-opacity=\"1\"/>\n",
       "<polyline clip-path=\"url(#clip672)\" style=\"stroke:#000000; stroke-linecap:round; stroke-linejoin:round; stroke-width:4; stroke-opacity:1; fill:none\" points=\"997.806,538.804 997.806,1445.72 1059.63,1445.72 1059.63,538.804 997.806,538.804 \"/>\n",
       "<path clip-path=\"url(#clip672)\" d=\"M1059.63 420.511 L1059.63 1445.72 L1121.46 1445.72 L1121.46 420.511 L1059.63 420.511 L1059.63 420.511  Z\" fill=\"#009af9\" fill-rule=\"evenodd\" fill-opacity=\"1\"/>\n",
       "<polyline clip-path=\"url(#clip672)\" style=\"stroke:#000000; stroke-linecap:round; stroke-linejoin:round; stroke-width:4; stroke-opacity:1; fill:none\" points=\"1059.63,420.511 1059.63,1445.72 1121.46,1445.72 1121.46,420.511 1059.63,420.511 \"/>\n",
       "<path clip-path=\"url(#clip672)\" d=\"M1121.46 215.47 L1121.46 1445.72 L1183.28 1445.72 L1183.28 215.47 L1121.46 215.47 L1121.46 215.47  Z\" fill=\"#009af9\" fill-rule=\"evenodd\" fill-opacity=\"1\"/>\n",
       "<polyline clip-path=\"url(#clip672)\" style=\"stroke:#000000; stroke-linecap:round; stroke-linejoin:round; stroke-width:4; stroke-opacity:1; fill:none\" points=\"1121.46,215.47 1121.46,1445.72 1183.28,1445.72 1183.28,215.47 1121.46,215.47 \"/>\n",
       "<path clip-path=\"url(#clip672)\" d=\"M1183.28 250.958 L1183.28 1445.72 L1245.11 1445.72 L1245.11 250.958 L1183.28 250.958 L1183.28 250.958  Z\" fill=\"#009af9\" fill-rule=\"evenodd\" fill-opacity=\"1\"/>\n",
       "<polyline clip-path=\"url(#clip672)\" style=\"stroke:#000000; stroke-linecap:round; stroke-linejoin:round; stroke-width:4; stroke-opacity:1; fill:none\" points=\"1183.28,250.958 1183.28,1445.72 1245.11,1445.72 1245.11,250.958 1183.28,250.958 \"/>\n",
       "<path clip-path=\"url(#clip672)\" d=\"M1245.11 87.9763 L1245.11 1445.72 L1306.93 1445.72 L1306.93 87.9763 L1245.11 87.9763 L1245.11 87.9763  Z\" fill=\"#009af9\" fill-rule=\"evenodd\" fill-opacity=\"1\"/>\n",
       "<polyline clip-path=\"url(#clip672)\" style=\"stroke:#000000; stroke-linecap:round; stroke-linejoin:round; stroke-width:4; stroke-opacity:1; fill:none\" points=\"1245.11,87.9763 1245.11,1445.72 1306.93,1445.72 1306.93,87.9763 1245.11,87.9763 \"/>\n",
       "<path clip-path=\"url(#clip672)\" d=\"M1306.93 258.844 L1306.93 1445.72 L1368.76 1445.72 L1368.76 258.844 L1306.93 258.844 L1306.93 258.844  Z\" fill=\"#009af9\" fill-rule=\"evenodd\" fill-opacity=\"1\"/>\n",
       "<polyline clip-path=\"url(#clip672)\" style=\"stroke:#000000; stroke-linecap:round; stroke-linejoin:round; stroke-width:4; stroke-opacity:1; fill:none\" points=\"1306.93,258.844 1306.93,1445.72 1368.76,1445.72 1368.76,258.844 1306.93,258.844 \"/>\n",
       "<path clip-path=\"url(#clip672)\" d=\"M1368.76 358.736 L1368.76 1445.72 L1430.58 1445.72 L1430.58 358.736 L1368.76 358.736 L1368.76 358.736  Z\" fill=\"#009af9\" fill-rule=\"evenodd\" fill-opacity=\"1\"/>\n",
       "<polyline clip-path=\"url(#clip672)\" style=\"stroke:#000000; stroke-linecap:round; stroke-linejoin:round; stroke-width:4; stroke-opacity:1; fill:none\" points=\"1368.76,358.736 1368.76,1445.72 1430.58,1445.72 1430.58,358.736 1368.76,358.736 \"/>\n",
       "<path clip-path=\"url(#clip672)\" d=\"M1430.58 565.091 L1430.58 1445.72 L1492.41 1445.72 L1492.41 565.091 L1430.58 565.091 L1430.58 565.091  Z\" fill=\"#009af9\" fill-rule=\"evenodd\" fill-opacity=\"1\"/>\n",
       "<polyline clip-path=\"url(#clip672)\" style=\"stroke:#000000; stroke-linecap:round; stroke-linejoin:round; stroke-width:4; stroke-opacity:1; fill:none\" points=\"1430.58,565.091 1430.58,1445.72 1492.41,1445.72 1492.41,565.091 1430.58,565.091 \"/>\n",
       "<path clip-path=\"url(#clip672)\" d=\"M1492.41 732.015 L1492.41 1445.72 L1554.23 1445.72 L1554.23 732.015 L1492.41 732.015 L1492.41 732.015  Z\" fill=\"#009af9\" fill-rule=\"evenodd\" fill-opacity=\"1\"/>\n",
       "<polyline clip-path=\"url(#clip672)\" style=\"stroke:#000000; stroke-linecap:round; stroke-linejoin:round; stroke-width:4; stroke-opacity:1; fill:none\" points=\"1492.41,732.015 1492.41,1445.72 1554.23,1445.72 1554.23,732.015 1492.41,732.015 \"/>\n",
       "<path clip-path=\"url(#clip672)\" d=\"M1554.23 912.083 L1554.23 1445.72 L1616.06 1445.72 L1616.06 912.083 L1554.23 912.083 L1554.23 912.083  Z\" fill=\"#009af9\" fill-rule=\"evenodd\" fill-opacity=\"1\"/>\n",
       "<polyline clip-path=\"url(#clip672)\" style=\"stroke:#000000; stroke-linecap:round; stroke-linejoin:round; stroke-width:4; stroke-opacity:1; fill:none\" points=\"1554.23,912.083 1554.23,1445.72 1616.06,1445.72 1616.06,912.083 1554.23,912.083 \"/>\n",
       "<path clip-path=\"url(#clip672)\" d=\"M1616.06 1107.92 L1616.06 1445.72 L1677.88 1445.72 L1677.88 1107.92 L1616.06 1107.92 L1616.06 1107.92  Z\" fill=\"#009af9\" fill-rule=\"evenodd\" fill-opacity=\"1\"/>\n",
       "<polyline clip-path=\"url(#clip672)\" style=\"stroke:#000000; stroke-linecap:round; stroke-linejoin:round; stroke-width:4; stroke-opacity:1; fill:none\" points=\"1616.06,1107.92 1616.06,1445.72 1677.88,1445.72 1677.88,1107.92 1616.06,1107.92 \"/>\n",
       "<path clip-path=\"url(#clip672)\" d=\"M1677.88 1215.7 L1677.88 1445.72 L1739.71 1445.72 L1739.71 1215.7 L1677.88 1215.7 L1677.88 1215.7  Z\" fill=\"#009af9\" fill-rule=\"evenodd\" fill-opacity=\"1\"/>\n",
       "<polyline clip-path=\"url(#clip672)\" style=\"stroke:#000000; stroke-linecap:round; stroke-linejoin:round; stroke-width:4; stroke-opacity:1; fill:none\" points=\"1677.88,1215.7 1677.88,1445.72 1739.71,1445.72 1739.71,1215.7 1677.88,1215.7 \"/>\n",
       "<path clip-path=\"url(#clip672)\" d=\"M1739.71 1309.02 L1739.71 1445.72 L1801.53 1445.72 L1801.53 1309.02 L1739.71 1309.02 L1739.71 1309.02  Z\" fill=\"#009af9\" fill-rule=\"evenodd\" fill-opacity=\"1\"/>\n",
       "<polyline clip-path=\"url(#clip672)\" style=\"stroke:#000000; stroke-linecap:round; stroke-linejoin:round; stroke-width:4; stroke-opacity:1; fill:none\" points=\"1739.71,1309.02 1739.71,1445.72 1801.53,1445.72 1801.53,1309.02 1739.71,1309.02 \"/>\n",
       "<path clip-path=\"url(#clip672)\" d=\"M1801.53 1369.48 L1801.53 1445.72 L1863.36 1445.72 L1863.36 1369.48 L1801.53 1369.48 L1801.53 1369.48  Z\" fill=\"#009af9\" fill-rule=\"evenodd\" fill-opacity=\"1\"/>\n",
       "<polyline clip-path=\"url(#clip672)\" style=\"stroke:#000000; stroke-linecap:round; stroke-linejoin:round; stroke-width:4; stroke-opacity:1; fill:none\" points=\"1801.53,1369.48 1801.53,1445.72 1863.36,1445.72 1863.36,1369.48 1801.53,1369.48 \"/>\n",
       "<path clip-path=\"url(#clip672)\" d=\"M1863.36 1393.14 L1863.36 1445.72 L1925.18 1445.72 L1925.18 1393.14 L1863.36 1393.14 L1863.36 1393.14  Z\" fill=\"#009af9\" fill-rule=\"evenodd\" fill-opacity=\"1\"/>\n",
       "<polyline clip-path=\"url(#clip672)\" style=\"stroke:#000000; stroke-linecap:round; stroke-linejoin:round; stroke-width:4; stroke-opacity:1; fill:none\" points=\"1863.36,1393.14 1863.36,1445.72 1925.18,1445.72 1925.18,1393.14 1863.36,1393.14 \"/>\n",
       "<path clip-path=\"url(#clip672)\" d=\"M1925.18 1416.8 L1925.18 1445.72 L1987.01 1445.72 L1987.01 1416.8 L1925.18 1416.8 L1925.18 1416.8  Z\" fill=\"#009af9\" fill-rule=\"evenodd\" fill-opacity=\"1\"/>\n",
       "<polyline clip-path=\"url(#clip672)\" style=\"stroke:#000000; stroke-linecap:round; stroke-linejoin:round; stroke-width:4; stroke-opacity:1; fill:none\" points=\"1925.18,1416.8 1925.18,1445.72 1987.01,1445.72 1987.01,1416.8 1925.18,1416.8 \"/>\n",
       "<path clip-path=\"url(#clip672)\" d=\"M1987.01 1427.31 L1987.01 1445.72 L2048.84 1445.72 L2048.84 1427.31 L1987.01 1427.31 L1987.01 1427.31  Z\" fill=\"#009af9\" fill-rule=\"evenodd\" fill-opacity=\"1\"/>\n",
       "<polyline clip-path=\"url(#clip672)\" style=\"stroke:#000000; stroke-linecap:round; stroke-linejoin:round; stroke-width:4; stroke-opacity:1; fill:none\" points=\"1987.01,1427.31 1987.01,1445.72 2048.84,1445.72 2048.84,1427.31 1987.01,1427.31 \"/>\n",
       "<path clip-path=\"url(#clip672)\" d=\"M2048.84 1441.77 L2048.84 1445.72 L2110.66 1445.72 L2110.66 1441.77 L2048.84 1441.77 L2048.84 1441.77  Z\" fill=\"#009af9\" fill-rule=\"evenodd\" fill-opacity=\"1\"/>\n",
       "<polyline clip-path=\"url(#clip672)\" style=\"stroke:#000000; stroke-linecap:round; stroke-linejoin:round; stroke-width:4; stroke-opacity:1; fill:none\" points=\"2048.84,1441.77 2048.84,1445.72 2110.66,1445.72 2110.66,1441.77 2048.84,1441.77 \"/>\n",
       "<path clip-path=\"url(#clip672)\" d=\"M2110.66 1444.4 L2110.66 1445.72 L2172.49 1445.72 L2172.49 1444.4 L2110.66 1444.4 L2110.66 1444.4  Z\" fill=\"#009af9\" fill-rule=\"evenodd\" fill-opacity=\"1\"/>\n",
       "<polyline clip-path=\"url(#clip672)\" style=\"stroke:#000000; stroke-linecap:round; stroke-linejoin:round; stroke-width:4; stroke-opacity:1; fill:none\" points=\"2110.66,1444.4 2110.66,1445.72 2172.49,1445.72 2172.49,1444.4 2110.66,1444.4 \"/>\n",
       "<path clip-path=\"url(#clip672)\" d=\"M2172.49 1443.09 L2172.49 1445.72 L2234.31 1445.72 L2234.31 1443.09 L2172.49 1443.09 L2172.49 1443.09  Z\" fill=\"#009af9\" fill-rule=\"evenodd\" fill-opacity=\"1\"/>\n",
       "<polyline clip-path=\"url(#clip672)\" style=\"stroke:#000000; stroke-linecap:round; stroke-linejoin:round; stroke-width:4; stroke-opacity:1; fill:none\" points=\"2172.49,1443.09 2172.49,1445.72 2234.31,1445.72 2234.31,1443.09 2172.49,1443.09 \"/>\n",
       "<circle clip-path=\"url(#clip672)\" style=\"fill:#009af9; stroke:none; fill-opacity:0\" cx=\"348.641\" cy=\"1443.09\" r=\"2\"/>\n",
       "<circle clip-path=\"url(#clip672)\" style=\"fill:#009af9; stroke:none; fill-opacity:0\" cx=\"410.466\" cy=\"1439.14\" r=\"2\"/>\n",
       "<circle clip-path=\"url(#clip672)\" style=\"fill:#009af9; stroke:none; fill-opacity:0\" cx=\"472.291\" cy=\"1435.2\" r=\"2\"/>\n",
       "<circle clip-path=\"url(#clip672)\" style=\"fill:#009af9; stroke:none; fill-opacity:0\" cx=\"534.116\" cy=\"1432.57\" r=\"2\"/>\n",
       "<circle clip-path=\"url(#clip672)\" style=\"fill:#009af9; stroke:none; fill-opacity:0\" cx=\"595.942\" cy=\"1403.66\" r=\"2\"/>\n",
       "<circle clip-path=\"url(#clip672)\" style=\"fill:#009af9; stroke:none; fill-opacity:0\" cx=\"657.767\" cy=\"1380\" r=\"2\"/>\n",
       "<circle clip-path=\"url(#clip672)\" style=\"fill:#009af9; stroke:none; fill-opacity:0\" cx=\"719.592\" cy=\"1277.48\" r=\"2\"/>\n",
       "<circle clip-path=\"url(#clip672)\" style=\"fill:#009af9; stroke:none; fill-opacity:0\" cx=\"781.417\" cy=\"1195.99\" r=\"2\"/>\n",
       "<circle clip-path=\"url(#clip672)\" style=\"fill:#009af9; stroke:none; fill-opacity:0\" cx=\"843.243\" cy=\"1093.47\" r=\"2\"/>\n",
       "<circle clip-path=\"url(#clip672)\" style=\"fill:#009af9; stroke:none; fill-opacity:0\" cx=\"905.068\" cy=\"913.398\" r=\"2\"/>\n",
       "<circle clip-path=\"url(#clip672)\" style=\"fill:#009af9; stroke:none; fill-opacity:0\" cx=\"966.893\" cy=\"750.416\" r=\"2\"/>\n",
       "<circle clip-path=\"url(#clip672)\" style=\"fill:#009af9; stroke:none; fill-opacity:0\" cx=\"1028.72\" cy=\"538.804\" r=\"2\"/>\n",
       "<circle clip-path=\"url(#clip672)\" style=\"fill:#009af9; stroke:none; fill-opacity:0\" cx=\"1090.54\" cy=\"420.511\" r=\"2\"/>\n",
       "<circle clip-path=\"url(#clip672)\" style=\"fill:#009af9; stroke:none; fill-opacity:0\" cx=\"1152.37\" cy=\"215.47\" r=\"2\"/>\n",
       "<circle clip-path=\"url(#clip672)\" style=\"fill:#009af9; stroke:none; fill-opacity:0\" cx=\"1214.19\" cy=\"250.958\" r=\"2\"/>\n",
       "<circle clip-path=\"url(#clip672)\" style=\"fill:#009af9; stroke:none; fill-opacity:0\" cx=\"1276.02\" cy=\"87.9763\" r=\"2\"/>\n",
       "<circle clip-path=\"url(#clip672)\" style=\"fill:#009af9; stroke:none; fill-opacity:0\" cx=\"1337.84\" cy=\"258.844\" r=\"2\"/>\n",
       "<circle clip-path=\"url(#clip672)\" style=\"fill:#009af9; stroke:none; fill-opacity:0\" cx=\"1399.67\" cy=\"358.736\" r=\"2\"/>\n",
       "<circle clip-path=\"url(#clip672)\" style=\"fill:#009af9; stroke:none; fill-opacity:0\" cx=\"1461.5\" cy=\"565.091\" r=\"2\"/>\n",
       "<circle clip-path=\"url(#clip672)\" style=\"fill:#009af9; stroke:none; fill-opacity:0\" cx=\"1523.32\" cy=\"732.015\" r=\"2\"/>\n",
       "<circle clip-path=\"url(#clip672)\" style=\"fill:#009af9; stroke:none; fill-opacity:0\" cx=\"1585.15\" cy=\"912.083\" r=\"2\"/>\n",
       "<circle clip-path=\"url(#clip672)\" style=\"fill:#009af9; stroke:none; fill-opacity:0\" cx=\"1646.97\" cy=\"1107.92\" r=\"2\"/>\n",
       "<circle clip-path=\"url(#clip672)\" style=\"fill:#009af9; stroke:none; fill-opacity:0\" cx=\"1708.8\" cy=\"1215.7\" r=\"2\"/>\n",
       "<circle clip-path=\"url(#clip672)\" style=\"fill:#009af9; stroke:none; fill-opacity:0\" cx=\"1770.62\" cy=\"1309.02\" r=\"2\"/>\n",
       "<circle clip-path=\"url(#clip672)\" style=\"fill:#009af9; stroke:none; fill-opacity:0\" cx=\"1832.45\" cy=\"1369.48\" r=\"2\"/>\n",
       "<circle clip-path=\"url(#clip672)\" style=\"fill:#009af9; stroke:none; fill-opacity:0\" cx=\"1894.27\" cy=\"1393.14\" r=\"2\"/>\n",
       "<circle clip-path=\"url(#clip672)\" style=\"fill:#009af9; stroke:none; fill-opacity:0\" cx=\"1956.1\" cy=\"1416.8\" r=\"2\"/>\n",
       "<circle clip-path=\"url(#clip672)\" style=\"fill:#009af9; stroke:none; fill-opacity:0\" cx=\"2017.92\" cy=\"1427.31\" r=\"2\"/>\n",
       "<circle clip-path=\"url(#clip672)\" style=\"fill:#009af9; stroke:none; fill-opacity:0\" cx=\"2079.75\" cy=\"1441.77\" r=\"2\"/>\n",
       "<circle clip-path=\"url(#clip672)\" style=\"fill:#009af9; stroke:none; fill-opacity:0\" cx=\"2141.57\" cy=\"1444.4\" r=\"2\"/>\n",
       "<circle clip-path=\"url(#clip672)\" style=\"fill:#009af9; stroke:none; fill-opacity:0\" cx=\"2203.4\" cy=\"1443.09\" r=\"2\"/>\n",
       "<path clip-path=\"url(#clip672)\" d=\"M799.965 1441.77 L799.965 1445.72 L824.695 1445.72 L824.695 1441.77 L799.965 1441.77 L799.965 1441.77  Z\" fill=\"#e26f46\" fill-rule=\"evenodd\" fill-opacity=\"1\"/>\n",
       "<polyline clip-path=\"url(#clip672)\" style=\"stroke:#ffa500; stroke-linecap:round; stroke-linejoin:round; stroke-width:4; stroke-opacity:1; fill:none\" points=\"799.965,1441.77 799.965,1445.72 824.695,1445.72 824.695,1441.77 799.965,1441.77 \"/>\n",
       "<path clip-path=\"url(#clip672)\" d=\"M824.695 1439.14 L824.695 1445.72 L849.425 1445.72 L849.425 1439.14 L824.695 1439.14 L824.695 1439.14  Z\" fill=\"#e26f46\" fill-rule=\"evenodd\" fill-opacity=\"1\"/>\n",
       "<polyline clip-path=\"url(#clip672)\" style=\"stroke:#ffa500; stroke-linecap:round; stroke-linejoin:round; stroke-width:4; stroke-opacity:1; fill:none\" points=\"824.695,1439.14 824.695,1445.72 849.425,1445.72 849.425,1439.14 824.695,1439.14 \"/>\n",
       "<path clip-path=\"url(#clip672)\" d=\"M849.425 1436.52 L849.425 1445.72 L874.155 1445.72 L874.155 1436.52 L849.425 1436.52 L849.425 1436.52  Z\" fill=\"#e26f46\" fill-rule=\"evenodd\" fill-opacity=\"1\"/>\n",
       "<polyline clip-path=\"url(#clip672)\" style=\"stroke:#ffa500; stroke-linecap:round; stroke-linejoin:round; stroke-width:4; stroke-opacity:1; fill:none\" points=\"849.425,1436.52 849.425,1445.72 874.155,1445.72 874.155,1436.52 849.425,1436.52 \"/>\n",
       "<path clip-path=\"url(#clip672)\" d=\"M874.155 1435.2 L874.155 1445.72 L898.885 1445.72 L898.885 1435.2 L874.155 1435.2 L874.155 1435.2  Z\" fill=\"#e26f46\" fill-rule=\"evenodd\" fill-opacity=\"1\"/>\n",
       "<polyline clip-path=\"url(#clip672)\" style=\"stroke:#ffa500; stroke-linecap:round; stroke-linejoin:round; stroke-width:4; stroke-opacity:1; fill:none\" points=\"874.155,1435.2 874.155,1445.72 898.885,1445.72 898.885,1435.2 874.155,1435.2 \"/>\n",
       "<path clip-path=\"url(#clip672)\" d=\"M898.885 1418.11 L898.885 1445.72 L923.616 1445.72 L923.616 1418.11 L898.885 1418.11 L898.885 1418.11  Z\" fill=\"#e26f46\" fill-rule=\"evenodd\" fill-opacity=\"1\"/>\n",
       "<polyline clip-path=\"url(#clip672)\" style=\"stroke:#ffa500; stroke-linecap:round; stroke-linejoin:round; stroke-width:4; stroke-opacity:1; fill:none\" points=\"898.885,1418.11 898.885,1445.72 923.616,1445.72 923.616,1418.11 898.885,1418.11 \"/>\n",
       "<path clip-path=\"url(#clip672)\" d=\"M923.616 1403.66 L923.616 1445.72 L948.346 1445.72 L948.346 1403.66 L923.616 1403.66 L923.616 1403.66  Z\" fill=\"#e26f46\" fill-rule=\"evenodd\" fill-opacity=\"1\"/>\n",
       "<polyline clip-path=\"url(#clip672)\" style=\"stroke:#ffa500; stroke-linecap:round; stroke-linejoin:round; stroke-width:4; stroke-opacity:1; fill:none\" points=\"923.616,1403.66 923.616,1445.72 948.346,1445.72 948.346,1403.66 923.616,1403.66 \"/>\n",
       "<path clip-path=\"url(#clip672)\" d=\"M948.346 1380 L948.346 1445.72 L973.076 1445.72 L973.076 1380 L948.346 1380 L948.346 1380  Z\" fill=\"#e26f46\" fill-rule=\"evenodd\" fill-opacity=\"1\"/>\n",
       "<polyline clip-path=\"url(#clip672)\" style=\"stroke:#ffa500; stroke-linecap:round; stroke-linejoin:round; stroke-width:4; stroke-opacity:1; fill:none\" points=\"948.346,1380 948.346,1445.72 973.076,1445.72 973.076,1380 948.346,1380 \"/>\n",
       "<path clip-path=\"url(#clip672)\" d=\"M973.076 1302.45 L973.076 1445.72 L997.806 1445.72 L997.806 1302.45 L973.076 1302.45 L973.076 1302.45  Z\" fill=\"#e26f46\" fill-rule=\"evenodd\" fill-opacity=\"1\"/>\n",
       "<polyline clip-path=\"url(#clip672)\" style=\"stroke:#ffa500; stroke-linecap:round; stroke-linejoin:round; stroke-width:4; stroke-opacity:1; fill:none\" points=\"973.076,1302.45 973.076,1445.72 997.806,1445.72 997.806,1302.45 973.076,1302.45 \"/>\n",
       "<path clip-path=\"url(#clip672)\" d=\"M997.806 1253.82 L997.806 1445.72 L1022.54 1445.72 L1022.54 1253.82 L997.806 1253.82 L997.806 1253.82  Z\" fill=\"#e26f46\" fill-rule=\"evenodd\" fill-opacity=\"1\"/>\n",
       "<polyline clip-path=\"url(#clip672)\" style=\"stroke:#ffa500; stroke-linecap:round; stroke-linejoin:round; stroke-width:4; stroke-opacity:1; fill:none\" points=\"997.806,1253.82 997.806,1445.72 1022.54,1445.72 1022.54,1253.82 997.806,1253.82 \"/>\n",
       "<path clip-path=\"url(#clip672)\" d=\"M1022.54 1199.93 L1022.54 1445.72 L1047.27 1445.72 L1047.27 1199.93 L1022.54 1199.93 L1022.54 1199.93  Z\" fill=\"#e26f46\" fill-rule=\"evenodd\" fill-opacity=\"1\"/>\n",
       "<polyline clip-path=\"url(#clip672)\" style=\"stroke:#ffa500; stroke-linecap:round; stroke-linejoin:round; stroke-width:4; stroke-opacity:1; fill:none\" points=\"1022.54,1199.93 1022.54,1445.72 1047.27,1445.72 1047.27,1199.93 1022.54,1199.93 \"/>\n",
       "<path clip-path=\"url(#clip672)\" d=\"M1047.27 1085.58 L1047.27 1445.72 L1072 1445.72 L1072 1085.58 L1047.27 1085.58 L1047.27 1085.58  Z\" fill=\"#e26f46\" fill-rule=\"evenodd\" fill-opacity=\"1\"/>\n",
       "<polyline clip-path=\"url(#clip672)\" style=\"stroke:#ffa500; stroke-linecap:round; stroke-linejoin:round; stroke-width:4; stroke-opacity:1; fill:none\" points=\"1047.27,1085.58 1047.27,1445.72 1072,1445.72 1072,1085.58 1047.27,1085.58 \"/>\n",
       "<path clip-path=\"url(#clip672)\" d=\"M1072 985.688 L1072 1445.72 L1096.73 1445.72 L1096.73 985.688 L1072 985.688 L1072 985.688  Z\" fill=\"#e26f46\" fill-rule=\"evenodd\" fill-opacity=\"1\"/>\n",
       "<polyline clip-path=\"url(#clip672)\" style=\"stroke:#ffa500; stroke-linecap:round; stroke-linejoin:round; stroke-width:4; stroke-opacity:1; fill:none\" points=\"1072,985.688 1072,1445.72 1096.73,1445.72 1096.73,985.688 1072,985.688 \"/>\n",
       "<path clip-path=\"url(#clip672)\" d=\"M1096.73 873.967 L1096.73 1445.72 L1121.46 1445.72 L1121.46 873.967 L1096.73 873.967 L1096.73 873.967  Z\" fill=\"#e26f46\" fill-rule=\"evenodd\" fill-opacity=\"1\"/>\n",
       "<polyline clip-path=\"url(#clip672)\" style=\"stroke:#ffa500; stroke-linecap:round; stroke-linejoin:round; stroke-width:4; stroke-opacity:1; fill:none\" points=\"1096.73,873.967 1096.73,1445.72 1121.46,1445.72 1121.46,873.967 1096.73,873.967 \"/>\n",
       "<path clip-path=\"url(#clip672)\" d=\"M1121.46 708.357 L1121.46 1445.72 L1146.19 1445.72 L1146.19 708.357 L1121.46 708.357 L1121.46 708.357  Z\" fill=\"#e26f46\" fill-rule=\"evenodd\" fill-opacity=\"1\"/>\n",
       "<polyline clip-path=\"url(#clip672)\" style=\"stroke:#ffa500; stroke-linecap:round; stroke-linejoin:round; stroke-width:4; stroke-opacity:1; fill:none\" points=\"1121.46,708.357 1121.46,1445.72 1146.19,1445.72 1146.19,708.357 1121.46,708.357 \"/>\n",
       "<path clip-path=\"url(#clip672)\" d=\"M1146.19 672.869 L1146.19 1445.72 L1170.92 1445.72 L1170.92 672.869 L1146.19 672.869 L1146.19 672.869  Z\" fill=\"#e26f46\" fill-rule=\"evenodd\" fill-opacity=\"1\"/>\n",
       "<polyline clip-path=\"url(#clip672)\" style=\"stroke:#ffa500; stroke-linecap:round; stroke-linejoin:round; stroke-width:4; stroke-opacity:1; fill:none\" points=\"1146.19,672.869 1146.19,1445.72 1170.92,1445.72 1170.92,672.869 1146.19,672.869 \"/>\n",
       "<path clip-path=\"url(#clip672)\" d=\"M1170.92 548.004 L1170.92 1445.72 L1195.65 1445.72 L1195.65 548.004 L1170.92 548.004 L1170.92 548.004  Z\" fill=\"#e26f46\" fill-rule=\"evenodd\" fill-opacity=\"1\"/>\n",
       "<polyline clip-path=\"url(#clip672)\" style=\"stroke:#ffa500; stroke-linecap:round; stroke-linejoin:round; stroke-width:4; stroke-opacity:1; fill:none\" points=\"1170.92,548.004 1170.92,1445.72 1195.65,1445.72 1195.65,548.004 1170.92,548.004 \"/>\n",
       "<path clip-path=\"url(#clip672)\" d=\"M1195.65 440.226 L1195.65 1445.72 L1220.38 1445.72 L1220.38 440.226 L1195.65 440.226 L1195.65 440.226  Z\" fill=\"#e26f46\" fill-rule=\"evenodd\" fill-opacity=\"1\"/>\n",
       "<polyline clip-path=\"url(#clip672)\" style=\"stroke:#ffa500; stroke-linecap:round; stroke-linejoin:round; stroke-width:4; stroke-opacity:1; fill:none\" points=\"1195.65,440.226 1195.65,1445.72 1220.38,1445.72 1220.38,440.226 1195.65,440.226 \"/>\n",
       "<path clip-path=\"url(#clip672)\" d=\"M1220.38 502.001 L1220.38 1445.72 L1245.11 1445.72 L1245.11 502.001 L1220.38 502.001 L1220.38 502.001  Z\" fill=\"#e26f46\" fill-rule=\"evenodd\" fill-opacity=\"1\"/>\n",
       "<polyline clip-path=\"url(#clip672)\" style=\"stroke:#ffa500; stroke-linecap:round; stroke-linejoin:round; stroke-width:4; stroke-opacity:1; fill:none\" points=\"1220.38,502.001 1220.38,1445.72 1245.11,1445.72 1245.11,502.001 1220.38,502.001 \"/>\n",
       "<path clip-path=\"url(#clip672)\" d=\"M1245.11 361.364 L1245.11 1445.72 L1269.84 1445.72 L1269.84 361.364 L1245.11 361.364 L1245.11 361.364  Z\" fill=\"#e26f46\" fill-rule=\"evenodd\" fill-opacity=\"1\"/>\n",
       "<polyline clip-path=\"url(#clip672)\" style=\"stroke:#ffa500; stroke-linecap:round; stroke-linejoin:round; stroke-width:4; stroke-opacity:1; fill:none\" points=\"1245.11,361.364 1245.11,1445.72 1269.84,1445.72 1269.84,361.364 1245.11,361.364 \"/>\n",
       "<path clip-path=\"url(#clip672)\" d=\"M1269.84 467.828 L1269.84 1445.72 L1294.57 1445.72 L1294.57 467.828 L1269.84 467.828 L1269.84 467.828  Z\" fill=\"#e26f46\" fill-rule=\"evenodd\" fill-opacity=\"1\"/>\n",
       "<polyline clip-path=\"url(#clip672)\" style=\"stroke:#ffa500; stroke-linecap:round; stroke-linejoin:round; stroke-width:4; stroke-opacity:1; fill:none\" points=\"1269.84,467.828 1269.84,1445.72 1294.57,1445.72 1294.57,467.828 1269.84,467.828 \"/>\n",
       "<path clip-path=\"url(#clip672)\" d=\"M1294.57 521.717 L1294.57 1445.72 L1319.3 1445.72 L1319.3 521.717 L1294.57 521.717 L1294.57 521.717  Z\" fill=\"#e26f46\" fill-rule=\"evenodd\" fill-opacity=\"1\"/>\n",
       "<polyline clip-path=\"url(#clip672)\" style=\"stroke:#ffa500; stroke-linecap:round; stroke-linejoin:round; stroke-width:4; stroke-opacity:1; fill:none\" points=\"1294.57,521.717 1294.57,1445.72 1319.3,1445.72 1319.3,521.717 1294.57,521.717 \"/>\n",
       "<path clip-path=\"url(#clip672)\" d=\"M1319.3 618.98 L1319.3 1445.72 L1344.03 1445.72 L1344.03 618.98 L1319.3 618.98 L1319.3 618.98  Z\" fill=\"#e26f46\" fill-rule=\"evenodd\" fill-opacity=\"1\"/>\n",
       "<polyline clip-path=\"url(#clip672)\" style=\"stroke:#ffa500; stroke-linecap:round; stroke-linejoin:round; stroke-width:4; stroke-opacity:1; fill:none\" points=\"1319.3,618.98 1319.3,1445.72 1344.03,1445.72 1344.03,618.98 1319.3,618.98 \"/>\n",
       "<path clip-path=\"url(#clip672)\" d=\"M1344.03 746.473 L1344.03 1445.72 L1368.76 1445.72 L1368.76 746.473 L1344.03 746.473 L1344.03 746.473  Z\" fill=\"#e26f46\" fill-rule=\"evenodd\" fill-opacity=\"1\"/>\n",
       "<polyline clip-path=\"url(#clip672)\" style=\"stroke:#ffa500; stroke-linecap:round; stroke-linejoin:round; stroke-width:4; stroke-opacity:1; fill:none\" points=\"1344.03,746.473 1344.03,1445.72 1368.76,1445.72 1368.76,746.473 1344.03,746.473 \"/>\n",
       "<path clip-path=\"url(#clip672)\" d=\"M1368.76 860.823 L1368.76 1445.72 L1393.49 1445.72 L1393.49 860.823 L1368.76 860.823 L1368.76 860.823  Z\" fill=\"#e26f46\" fill-rule=\"evenodd\" fill-opacity=\"1\"/>\n",
       "<polyline clip-path=\"url(#clip672)\" style=\"stroke:#ffa500; stroke-linecap:round; stroke-linejoin:round; stroke-width:4; stroke-opacity:1; fill:none\" points=\"1368.76,860.823 1368.76,1445.72 1393.49,1445.72 1393.49,860.823 1368.76,860.823 \"/>\n",
       "<path clip-path=\"url(#clip672)\" d=\"M1393.49 971.23 L1393.49 1445.72 L1418.22 1445.72 L1418.22 971.23 L1393.49 971.23 L1393.49 971.23  Z\" fill=\"#e26f46\" fill-rule=\"evenodd\" fill-opacity=\"1\"/>\n",
       "<polyline clip-path=\"url(#clip672)\" style=\"stroke:#ffa500; stroke-linecap:round; stroke-linejoin:round; stroke-width:4; stroke-opacity:1; fill:none\" points=\"1393.49,971.23 1393.49,1445.72 1418.22,1445.72 1418.22,971.23 1393.49,971.23 \"/>\n",
       "<path clip-path=\"url(#clip672)\" d=\"M1418.22 1106.61 L1418.22 1445.72 L1442.95 1445.72 L1442.95 1106.61 L1418.22 1106.61 L1418.22 1106.61  Z\" fill=\"#e26f46\" fill-rule=\"evenodd\" fill-opacity=\"1\"/>\n",
       "<polyline clip-path=\"url(#clip672)\" style=\"stroke:#ffa500; stroke-linecap:round; stroke-linejoin:round; stroke-width:4; stroke-opacity:1; fill:none\" points=\"1418.22,1106.61 1418.22,1445.72 1442.95,1445.72 1442.95,1106.61 1418.22,1106.61 \"/>\n",
       "<path clip-path=\"url(#clip672)\" d=\"M1442.95 1203.87 L1442.95 1445.72 L1467.68 1445.72 L1467.68 1203.87 L1442.95 1203.87 L1442.95 1203.87  Z\" fill=\"#e26f46\" fill-rule=\"evenodd\" fill-opacity=\"1\"/>\n",
       "<polyline clip-path=\"url(#clip672)\" style=\"stroke:#ffa500; stroke-linecap:round; stroke-linejoin:round; stroke-width:4; stroke-opacity:1; fill:none\" points=\"1442.95,1203.87 1442.95,1445.72 1467.68,1445.72 1467.68,1203.87 1442.95,1203.87 \"/>\n",
       "<path clip-path=\"url(#clip672)\" d=\"M1467.68 1270.91 L1467.68 1445.72 L1492.41 1445.72 L1492.41 1270.91 L1467.68 1270.91 L1467.68 1270.91  Z\" fill=\"#e26f46\" fill-rule=\"evenodd\" fill-opacity=\"1\"/>\n",
       "<polyline clip-path=\"url(#clip672)\" style=\"stroke:#ffa500; stroke-linecap:round; stroke-linejoin:round; stroke-width:4; stroke-opacity:1; fill:none\" points=\"1467.68,1270.91 1467.68,1445.72 1492.41,1445.72 1492.41,1270.91 1467.68,1270.91 \"/>\n",
       "<path clip-path=\"url(#clip672)\" d=\"M1492.41 1326.11 L1492.41 1445.72 L1517.14 1445.72 L1517.14 1326.11 L1492.41 1326.11 L1492.41 1326.11  Z\" fill=\"#e26f46\" fill-rule=\"evenodd\" fill-opacity=\"1\"/>\n",
       "<polyline clip-path=\"url(#clip672)\" style=\"stroke:#ffa500; stroke-linecap:round; stroke-linejoin:round; stroke-width:4; stroke-opacity:1; fill:none\" points=\"1492.41,1326.11 1492.41,1445.72 1517.14,1445.72 1517.14,1326.11 1492.41,1326.11 \"/>\n",
       "<path clip-path=\"url(#clip672)\" d=\"M1517.14 1374.74 L1517.14 1445.72 L1541.87 1445.72 L1541.87 1374.74 L1517.14 1374.74 L1517.14 1374.74  Z\" fill=\"#e26f46\" fill-rule=\"evenodd\" fill-opacity=\"1\"/>\n",
       "<polyline clip-path=\"url(#clip672)\" style=\"stroke:#ffa500; stroke-linecap:round; stroke-linejoin:round; stroke-width:4; stroke-opacity:1; fill:none\" points=\"1517.14,1374.74 1517.14,1445.72 1541.87,1445.72 1541.87,1374.74 1517.14,1374.74 \"/>\n",
       "<path clip-path=\"url(#clip672)\" d=\"M1541.87 1399.71 L1541.87 1445.72 L1566.6 1445.72 L1566.6 1399.71 L1541.87 1399.71 L1541.87 1399.71  Z\" fill=\"#e26f46\" fill-rule=\"evenodd\" fill-opacity=\"1\"/>\n",
       "<polyline clip-path=\"url(#clip672)\" style=\"stroke:#ffa500; stroke-linecap:round; stroke-linejoin:round; stroke-width:4; stroke-opacity:1; fill:none\" points=\"1541.87,1399.71 1541.87,1445.72 1566.6,1445.72 1566.6,1399.71 1541.87,1399.71 \"/>\n",
       "<path clip-path=\"url(#clip672)\" d=\"M1566.6 1412.86 L1566.6 1445.72 L1591.33 1445.72 L1591.33 1412.86 L1566.6 1412.86 L1566.6 1412.86  Z\" fill=\"#e26f46\" fill-rule=\"evenodd\" fill-opacity=\"1\"/>\n",
       "<polyline clip-path=\"url(#clip672)\" style=\"stroke:#ffa500; stroke-linecap:round; stroke-linejoin:round; stroke-width:4; stroke-opacity:1; fill:none\" points=\"1566.6,1412.86 1566.6,1445.72 1591.33,1445.72 1591.33,1412.86 1566.6,1412.86 \"/>\n",
       "<path clip-path=\"url(#clip672)\" d=\"M1591.33 1420.74 L1591.33 1445.72 L1616.06 1445.72 L1616.06 1420.74 L1591.33 1420.74 L1591.33 1420.74  Z\" fill=\"#e26f46\" fill-rule=\"evenodd\" fill-opacity=\"1\"/>\n",
       "<polyline clip-path=\"url(#clip672)\" style=\"stroke:#ffa500; stroke-linecap:round; stroke-linejoin:round; stroke-width:4; stroke-opacity:1; fill:none\" points=\"1591.33,1420.74 1591.33,1445.72 1616.06,1445.72 1616.06,1420.74 1591.33,1420.74 \"/>\n",
       "<path clip-path=\"url(#clip672)\" d=\"M1616.06 1428.63 L1616.06 1445.72 L1640.79 1445.72 L1640.79 1428.63 L1616.06 1428.63 L1616.06 1428.63  Z\" fill=\"#e26f46\" fill-rule=\"evenodd\" fill-opacity=\"1\"/>\n",
       "<polyline clip-path=\"url(#clip672)\" style=\"stroke:#ffa500; stroke-linecap:round; stroke-linejoin:round; stroke-width:4; stroke-opacity:1; fill:none\" points=\"1616.06,1428.63 1616.06,1445.72 1640.79,1445.72 1640.79,1428.63 1616.06,1428.63 \"/>\n",
       "<path clip-path=\"url(#clip672)\" d=\"M1640.79 1441.77 L1640.79 1445.72 L1665.52 1445.72 L1665.52 1441.77 L1640.79 1441.77 L1640.79 1441.77  Z\" fill=\"#e26f46\" fill-rule=\"evenodd\" fill-opacity=\"1\"/>\n",
       "<polyline clip-path=\"url(#clip672)\" style=\"stroke:#ffa500; stroke-linecap:round; stroke-linejoin:round; stroke-width:4; stroke-opacity:1; fill:none\" points=\"1640.79,1441.77 1640.79,1445.72 1665.52,1445.72 1665.52,1441.77 1640.79,1441.77 \"/>\n",
       "<path clip-path=\"url(#clip672)\" d=\"M1665.52 1443.09 L1665.52 1445.72 L1690.25 1445.72 L1690.25 1443.09 L1665.52 1443.09 L1665.52 1443.09  Z\" fill=\"#e26f46\" fill-rule=\"evenodd\" fill-opacity=\"1\"/>\n",
       "<polyline clip-path=\"url(#clip672)\" style=\"stroke:#ffa500; stroke-linecap:round; stroke-linejoin:round; stroke-width:4; stroke-opacity:1; fill:none\" points=\"1665.52,1443.09 1665.52,1445.72 1690.25,1445.72 1690.25,1443.09 1665.52,1443.09 \"/>\n",
       "<path clip-path=\"url(#clip672)\" d=\"M1690.25 1445.72 L1690.25 1445.72 L1714.98 1445.72 L1714.98 1445.72 L1690.25 1445.72 L1690.25 1445.72  Z\" fill=\"#e26f46\" fill-rule=\"evenodd\" fill-opacity=\"1\"/>\n",
       "<polyline clip-path=\"url(#clip672)\" style=\"stroke:#ffa500; stroke-linecap:round; stroke-linejoin:round; stroke-width:4; stroke-opacity:1; fill:none\" points=\"1690.25,1445.72 1690.25,1445.72 1714.98,1445.72 1690.25,1445.72 \"/>\n",
       "<path clip-path=\"url(#clip672)\" d=\"M1714.98 1443.09 L1714.98 1445.72 L1739.71 1445.72 L1739.71 1443.09 L1714.98 1443.09 L1714.98 1443.09  Z\" fill=\"#e26f46\" fill-rule=\"evenodd\" fill-opacity=\"1\"/>\n",
       "<polyline clip-path=\"url(#clip672)\" style=\"stroke:#ffa500; stroke-linecap:round; stroke-linejoin:round; stroke-width:4; stroke-opacity:1; fill:none\" points=\"1714.98,1443.09 1714.98,1445.72 1739.71,1445.72 1739.71,1443.09 1714.98,1443.09 \"/>\n",
       "<circle clip-path=\"url(#clip672)\" style=\"fill:#e26f46; stroke:none; fill-opacity:0\" cx=\"812.33\" cy=\"1441.77\" r=\"2\"/>\n",
       "<circle clip-path=\"url(#clip672)\" style=\"fill:#e26f46; stroke:none; fill-opacity:0\" cx=\"837.06\" cy=\"1439.14\" r=\"2\"/>\n",
       "<circle clip-path=\"url(#clip672)\" style=\"fill:#e26f46; stroke:none; fill-opacity:0\" cx=\"861.79\" cy=\"1436.52\" r=\"2\"/>\n",
       "<circle clip-path=\"url(#clip672)\" style=\"fill:#e26f46; stroke:none; fill-opacity:0\" cx=\"886.52\" cy=\"1435.2\" r=\"2\"/>\n",
       "<circle clip-path=\"url(#clip672)\" style=\"fill:#e26f46; stroke:none; fill-opacity:0\" cx=\"911.251\" cy=\"1418.11\" r=\"2\"/>\n",
       "<circle clip-path=\"url(#clip672)\" style=\"fill:#e26f46; stroke:none; fill-opacity:0\" cx=\"935.981\" cy=\"1403.66\" r=\"2\"/>\n",
       "<circle clip-path=\"url(#clip672)\" style=\"fill:#e26f46; stroke:none; fill-opacity:0\" cx=\"960.711\" cy=\"1380\" r=\"2\"/>\n",
       "<circle clip-path=\"url(#clip672)\" style=\"fill:#e26f46; stroke:none; fill-opacity:0\" cx=\"985.441\" cy=\"1302.45\" r=\"2\"/>\n",
       "<circle clip-path=\"url(#clip672)\" style=\"fill:#e26f46; stroke:none; fill-opacity:0\" cx=\"1010.17\" cy=\"1253.82\" r=\"2\"/>\n",
       "<circle clip-path=\"url(#clip672)\" style=\"fill:#e26f46; stroke:none; fill-opacity:0\" cx=\"1034.9\" cy=\"1199.93\" r=\"2\"/>\n",
       "<circle clip-path=\"url(#clip672)\" style=\"fill:#e26f46; stroke:none; fill-opacity:0\" cx=\"1059.63\" cy=\"1085.58\" r=\"2\"/>\n",
       "<circle clip-path=\"url(#clip672)\" style=\"fill:#e26f46; stroke:none; fill-opacity:0\" cx=\"1084.36\" cy=\"985.688\" r=\"2\"/>\n",
       "<circle clip-path=\"url(#clip672)\" style=\"fill:#e26f46; stroke:none; fill-opacity:0\" cx=\"1109.09\" cy=\"873.967\" r=\"2\"/>\n",
       "<circle clip-path=\"url(#clip672)\" style=\"fill:#e26f46; stroke:none; fill-opacity:0\" cx=\"1133.82\" cy=\"708.357\" r=\"2\"/>\n",
       "<circle clip-path=\"url(#clip672)\" style=\"fill:#e26f46; stroke:none; fill-opacity:0\" cx=\"1158.55\" cy=\"672.869\" r=\"2\"/>\n",
       "<circle clip-path=\"url(#clip672)\" style=\"fill:#e26f46; stroke:none; fill-opacity:0\" cx=\"1183.28\" cy=\"548.004\" r=\"2\"/>\n",
       "<circle clip-path=\"url(#clip672)\" style=\"fill:#e26f46; stroke:none; fill-opacity:0\" cx=\"1208.01\" cy=\"440.226\" r=\"2\"/>\n",
       "<circle clip-path=\"url(#clip672)\" style=\"fill:#e26f46; stroke:none; fill-opacity:0\" cx=\"1232.74\" cy=\"502.001\" r=\"2\"/>\n",
       "<circle clip-path=\"url(#clip672)\" style=\"fill:#e26f46; stroke:none; fill-opacity:0\" cx=\"1257.47\" cy=\"361.364\" r=\"2\"/>\n",
       "<circle clip-path=\"url(#clip672)\" style=\"fill:#e26f46; stroke:none; fill-opacity:0\" cx=\"1282.2\" cy=\"467.828\" r=\"2\"/>\n",
       "<circle clip-path=\"url(#clip672)\" style=\"fill:#e26f46; stroke:none; fill-opacity:0\" cx=\"1306.93\" cy=\"521.717\" r=\"2\"/>\n",
       "<circle clip-path=\"url(#clip672)\" style=\"fill:#e26f46; stroke:none; fill-opacity:0\" cx=\"1331.66\" cy=\"618.98\" r=\"2\"/>\n",
       "<circle clip-path=\"url(#clip672)\" style=\"fill:#e26f46; stroke:none; fill-opacity:0\" cx=\"1356.39\" cy=\"746.473\" r=\"2\"/>\n",
       "<circle clip-path=\"url(#clip672)\" style=\"fill:#e26f46; stroke:none; fill-opacity:0\" cx=\"1381.12\" cy=\"860.823\" r=\"2\"/>\n",
       "<circle clip-path=\"url(#clip672)\" style=\"fill:#e26f46; stroke:none; fill-opacity:0\" cx=\"1405.85\" cy=\"971.23\" r=\"2\"/>\n",
       "<circle clip-path=\"url(#clip672)\" style=\"fill:#e26f46; stroke:none; fill-opacity:0\" cx=\"1430.58\" cy=\"1106.61\" r=\"2\"/>\n",
       "<circle clip-path=\"url(#clip672)\" style=\"fill:#e26f46; stroke:none; fill-opacity:0\" cx=\"1455.31\" cy=\"1203.87\" r=\"2\"/>\n",
       "<circle clip-path=\"url(#clip672)\" style=\"fill:#e26f46; stroke:none; fill-opacity:0\" cx=\"1480.04\" cy=\"1270.91\" r=\"2\"/>\n",
       "<circle clip-path=\"url(#clip672)\" style=\"fill:#e26f46; stroke:none; fill-opacity:0\" cx=\"1504.77\" cy=\"1326.11\" r=\"2\"/>\n",
       "<circle clip-path=\"url(#clip672)\" style=\"fill:#e26f46; stroke:none; fill-opacity:0\" cx=\"1529.5\" cy=\"1374.74\" r=\"2\"/>\n",
       "<circle clip-path=\"url(#clip672)\" style=\"fill:#e26f46; stroke:none; fill-opacity:0\" cx=\"1554.23\" cy=\"1399.71\" r=\"2\"/>\n",
       "<circle clip-path=\"url(#clip672)\" style=\"fill:#e26f46; stroke:none; fill-opacity:0\" cx=\"1578.96\" cy=\"1412.86\" r=\"2\"/>\n",
       "<circle clip-path=\"url(#clip672)\" style=\"fill:#e26f46; stroke:none; fill-opacity:0\" cx=\"1603.69\" cy=\"1420.74\" r=\"2\"/>\n",
       "<circle clip-path=\"url(#clip672)\" style=\"fill:#e26f46; stroke:none; fill-opacity:0\" cx=\"1628.42\" cy=\"1428.63\" r=\"2\"/>\n",
       "<circle clip-path=\"url(#clip672)\" style=\"fill:#e26f46; stroke:none; fill-opacity:0\" cx=\"1653.15\" cy=\"1441.77\" r=\"2\"/>\n",
       "<circle clip-path=\"url(#clip672)\" style=\"fill:#e26f46; stroke:none; fill-opacity:0\" cx=\"1677.88\" cy=\"1443.09\" r=\"2\"/>\n",
       "<circle clip-path=\"url(#clip672)\" style=\"fill:#e26f46; stroke:none; fill-opacity:0\" cx=\"1702.61\" cy=\"1445.72\" r=\"2\"/>\n",
       "<circle clip-path=\"url(#clip672)\" style=\"fill:#e26f46; stroke:none; fill-opacity:0\" cx=\"1727.34\" cy=\"1443.09\" r=\"2\"/>\n",
       "<path clip-path=\"url(#clip670)\" d=\"M1556.95 250.738 L2280.97 250.738 L2280.97 95.2176 L1556.95 95.2176  Z\" fill=\"#ffffff\" fill-rule=\"evenodd\" fill-opacity=\"1\"/>\n",
       "<polyline clip-path=\"url(#clip670)\" style=\"stroke:#000000; stroke-linecap:round; stroke-linejoin:round; stroke-width:4; stroke-opacity:1; fill:none\" points=\"1556.95,250.738 2280.97,250.738 2280.97,95.2176 1556.95,95.2176 1556.95,250.738 \"/>\n",
       "<path clip-path=\"url(#clip670)\" d=\"M1580.88 167.794 L1724.44 167.794 L1724.44 126.322 L1580.88 126.322 L1580.88 167.794  Z\" fill=\"#009af9\" fill-rule=\"evenodd\" fill-opacity=\"1\"/>\n",
       "<polyline clip-path=\"url(#clip670)\" style=\"stroke:#000000; stroke-linecap:round; stroke-linejoin:round; stroke-width:4; stroke-opacity:1; fill:none\" points=\"1580.88,167.794 1724.44,167.794 1724.44,126.322 1580.88,126.322 1580.88,167.794 \"/>\n",
       "<path clip-path=\"url(#clip670)\" d=\"M1748.37 129.778 L1754.66 129.778 L1769.99 158.689 L1769.99 129.778 L1774.53 129.778 L1774.53 164.338 L1768.23 164.338 L1752.91 135.426 L1752.91 164.338 L1748.37 164.338 L1748.37 129.778 Z\" fill=\"#000000\" fill-rule=\"evenodd\" fill-opacity=\"1\" /><path clip-path=\"url(#clip670)\" d=\"M1793.69 141.398 Q1790.27 141.398 1788.28 144.083 Q1786.28 146.745 1786.28 151.398 Q1786.28 156.051 1788.25 158.736 Q1790.24 161.398 1793.69 161.398 Q1797.09 161.398 1799.09 158.713 Q1801.08 156.027 1801.08 151.398 Q1801.08 146.791 1799.09 144.106 Q1797.09 141.398 1793.69 141.398 M1793.69 137.787 Q1799.25 137.787 1802.42 141.398 Q1805.59 145.009 1805.59 151.398 Q1805.59 157.764 1802.42 161.398 Q1799.25 165.009 1793.69 165.009 Q1788.11 165.009 1784.94 161.398 Q1781.79 157.764 1781.79 151.398 Q1781.79 145.009 1784.94 141.398 Q1788.11 137.787 1793.69 137.787 Z\" fill=\"#000000\" fill-rule=\"evenodd\" fill-opacity=\"1\" /><path clip-path=\"url(#clip670)\" d=\"M1827.67 142.393 Q1826.96 141.977 1826.1 141.791 Q1825.27 141.583 1824.25 141.583 Q1820.64 141.583 1818.69 143.944 Q1816.77 146.282 1816.77 150.68 L1816.77 164.338 L1812.49 164.338 L1812.49 138.412 L1816.77 138.412 L1816.77 142.44 Q1818.11 140.078 1820.27 138.944 Q1822.42 137.787 1825.5 137.787 Q1825.94 137.787 1826.47 137.856 Q1827 137.903 1827.65 138.018 L1827.67 142.393 Z\" fill=\"#000000\" fill-rule=\"evenodd\" fill-opacity=\"1\" /><path clip-path=\"url(#clip670)\" d=\"M1851.49 143.389 Q1853.09 140.518 1855.31 139.153 Q1857.53 137.787 1860.54 137.787 Q1864.59 137.787 1866.79 140.634 Q1868.99 143.458 1868.99 148.689 L1868.99 164.338 L1864.71 164.338 L1864.71 148.828 Q1864.71 145.102 1863.39 143.296 Q1862.07 141.49 1859.36 141.49 Q1856.05 141.49 1854.13 143.69 Q1852.21 145.889 1852.21 149.685 L1852.21 164.338 L1847.93 164.338 L1847.93 148.828 Q1847.93 145.078 1846.61 143.296 Q1845.29 141.49 1842.53 141.49 Q1839.27 141.49 1837.35 143.713 Q1835.43 145.912 1835.43 149.685 L1835.43 164.338 L1831.15 164.338 L1831.15 138.412 L1835.43 138.412 L1835.43 142.44 Q1836.89 140.055 1838.92 138.921 Q1840.96 137.787 1843.76 137.787 Q1846.59 137.787 1848.55 139.222 Q1850.54 140.657 1851.49 143.389 Z\" fill=\"#000000\" fill-rule=\"evenodd\" fill-opacity=\"1\" /><path clip-path=\"url(#clip670)\" d=\"M1889.27 151.305 Q1884.11 151.305 1882.12 152.486 Q1880.13 153.666 1880.13 156.514 Q1880.13 158.782 1881.61 160.125 Q1883.11 161.444 1885.68 161.444 Q1889.22 161.444 1891.35 158.944 Q1893.51 156.421 1893.51 152.254 L1893.51 151.305 L1889.27 151.305 M1897.77 149.546 L1897.77 164.338 L1893.51 164.338 L1893.51 160.402 Q1892.05 162.763 1889.87 163.898 Q1887.7 165.009 1884.55 165.009 Q1880.57 165.009 1878.21 162.787 Q1875.87 160.541 1875.87 156.791 Q1875.87 152.416 1878.78 150.194 Q1881.72 147.972 1887.53 147.972 L1893.51 147.972 L1893.51 147.555 Q1893.51 144.615 1891.56 143.018 Q1889.64 141.398 1886.15 141.398 Q1883.92 141.398 1881.82 141.93 Q1879.71 142.463 1877.77 143.527 L1877.77 139.592 Q1880.1 138.69 1882.3 138.25 Q1884.5 137.787 1886.59 137.787 Q1892.21 137.787 1894.99 140.703 Q1897.77 143.62 1897.77 149.546 Z\" fill=\"#000000\" fill-rule=\"evenodd\" fill-opacity=\"1\" /><path clip-path=\"url(#clip670)\" d=\"M1906.54 128.319 L1910.8 128.319 L1910.8 164.338 L1906.54 164.338 L1906.54 128.319 Z\" fill=\"#000000\" fill-rule=\"evenodd\" fill-opacity=\"1\" /><path clip-path=\"url(#clip670)\" d=\"M1939.64 133.62 L1939.64 160.495 L1945.29 160.495 Q1952.44 160.495 1955.75 157.254 Q1959.08 154.014 1959.08 147.023 Q1959.08 140.078 1955.75 136.861 Q1952.44 133.62 1945.29 133.62 L1939.64 133.62 M1934.96 129.778 L1944.57 129.778 Q1954.62 129.778 1959.32 133.967 Q1964.02 138.134 1964.02 147.023 Q1964.02 155.958 1959.29 160.148 Q1954.57 164.338 1944.57 164.338 L1934.96 164.338 L1934.96 129.778 Z\" fill=\"#000000\" fill-rule=\"evenodd\" fill-opacity=\"1\" /><path clip-path=\"url(#clip670)\" d=\"M1971.28 138.412 L1975.54 138.412 L1975.54 164.338 L1971.28 164.338 L1971.28 138.412 M1971.28 128.319 L1975.54 128.319 L1975.54 133.713 L1971.28 133.713 L1971.28 128.319 Z\" fill=\"#000000\" fill-rule=\"evenodd\" fill-opacity=\"1\" /><path clip-path=\"url(#clip670)\" d=\"M2000.98 139.176 L2000.98 143.203 Q1999.18 142.277 1997.23 141.815 Q1995.29 141.352 1993.2 141.352 Q1990.03 141.352 1988.44 142.324 Q1986.86 143.296 1986.86 145.24 Q1986.86 146.722 1988 147.578 Q1989.13 148.412 1992.56 149.176 L1994.02 149.5 Q1998.55 150.472 2000.45 152.254 Q2002.37 154.014 2002.37 157.185 Q2002.37 160.796 1999.5 162.902 Q1996.65 165.009 1991.65 165.009 Q1989.57 165.009 1987.3 164.592 Q1985.06 164.199 1982.56 163.388 L1982.56 158.99 Q1984.92 160.217 1987.21 160.842 Q1989.5 161.444 1991.75 161.444 Q1994.76 161.444 1996.38 160.426 Q1998 159.384 1998 157.509 Q1998 155.773 1996.82 154.847 Q1995.66 153.921 1991.7 153.064 L1990.22 152.717 Q1986.26 151.884 1984.5 150.171 Q1982.74 148.435 1982.74 145.426 Q1982.74 141.768 1985.33 139.778 Q1987.93 137.787 1992.7 137.787 Q1995.06 137.787 1997.14 138.134 Q1999.22 138.481 2000.98 139.176 Z\" fill=\"#000000\" fill-rule=\"evenodd\" fill-opacity=\"1\" /><path clip-path=\"url(#clip670)\" d=\"M2013.37 131.051 L2013.37 138.412 L2022.14 138.412 L2022.14 141.722 L2013.37 141.722 L2013.37 155.796 Q2013.37 158.967 2014.22 159.87 Q2015.1 160.773 2017.76 160.773 L2022.14 160.773 L2022.14 164.338 L2017.76 164.338 Q2012.83 164.338 2010.96 162.509 Q2009.08 160.657 2009.08 155.796 L2009.08 141.722 L2005.96 141.722 L2005.96 138.412 L2009.08 138.412 L2009.08 131.051 L2013.37 131.051 Z\" fill=\"#000000\" fill-rule=\"evenodd\" fill-opacity=\"1\" /><path clip-path=\"url(#clip670)\" d=\"M2042.76 142.393 Q2042.05 141.977 2041.19 141.791 Q2040.36 141.583 2039.34 141.583 Q2035.73 141.583 2033.78 143.944 Q2031.86 146.282 2031.86 150.68 L2031.86 164.338 L2027.58 164.338 L2027.58 138.412 L2031.86 138.412 L2031.86 142.44 Q2033.2 140.078 2035.36 138.944 Q2037.51 137.787 2040.59 137.787 Q2041.03 137.787 2041.56 137.856 Q2042.09 137.903 2042.74 138.018 L2042.76 142.393 Z\" fill=\"#000000\" fill-rule=\"evenodd\" fill-opacity=\"1\" /><path clip-path=\"url(#clip670)\" d=\"M2047.23 138.412 L2051.49 138.412 L2051.49 164.338 L2047.23 164.338 L2047.23 138.412 M2047.23 128.319 L2051.49 128.319 L2051.49 133.713 L2047.23 133.713 L2047.23 128.319 Z\" fill=\"#000000\" fill-rule=\"evenodd\" fill-opacity=\"1\" /><path clip-path=\"url(#clip670)\" d=\"M2079.01 151.398 Q2079.01 146.699 2077.07 144.037 Q2075.15 141.352 2071.77 141.352 Q2068.39 141.352 2066.45 144.037 Q2064.52 146.699 2064.52 151.398 Q2064.52 156.097 2066.45 158.782 Q2068.39 161.444 2071.77 161.444 Q2075.15 161.444 2077.07 158.782 Q2079.01 156.097 2079.01 151.398 M2064.52 142.347 Q2065.87 140.032 2067.9 138.921 Q2069.96 137.787 2072.81 137.787 Q2077.53 137.787 2080.47 141.537 Q2083.44 145.287 2083.44 151.398 Q2083.44 157.509 2080.47 161.259 Q2077.53 165.009 2072.81 165.009 Q2069.96 165.009 2067.9 163.898 Q2065.87 162.763 2064.52 160.449 L2064.52 164.338 L2060.24 164.338 L2060.24 128.319 L2064.52 128.319 L2064.52 142.347 Z\" fill=\"#000000\" fill-rule=\"evenodd\" fill-opacity=\"1\" /><path clip-path=\"url(#clip670)\" d=\"M2090.06 154.106 L2090.06 138.412 L2094.32 138.412 L2094.32 153.944 Q2094.32 157.625 2095.75 159.476 Q2097.19 161.305 2100.06 161.305 Q2103.51 161.305 2105.5 159.106 Q2107.51 156.907 2107.51 153.111 L2107.51 138.412 L2111.77 138.412 L2111.77 164.338 L2107.51 164.338 L2107.51 160.356 Q2105.96 162.717 2103.9 163.875 Q2101.86 165.009 2099.15 165.009 Q2094.69 165.009 2092.37 162.231 Q2090.06 159.453 2090.06 154.106 M2100.77 137.787 L2100.77 137.787 Z\" fill=\"#000000\" fill-rule=\"evenodd\" fill-opacity=\"1\" /><path clip-path=\"url(#clip670)\" d=\"M2124.76 131.051 L2124.76 138.412 L2133.53 138.412 L2133.53 141.722 L2124.76 141.722 L2124.76 155.796 Q2124.76 158.967 2125.61 159.87 Q2126.49 160.773 2129.15 160.773 L2133.53 160.773 L2133.53 164.338 L2129.15 164.338 Q2124.22 164.338 2122.35 162.509 Q2120.47 160.657 2120.47 155.796 L2120.47 141.722 L2117.35 141.722 L2117.35 138.412 L2120.47 138.412 L2120.47 131.051 L2124.76 131.051 Z\" fill=\"#000000\" fill-rule=\"evenodd\" fill-opacity=\"1\" /><path clip-path=\"url(#clip670)\" d=\"M2139.13 138.412 L2143.39 138.412 L2143.39 164.338 L2139.13 164.338 L2139.13 138.412 M2139.13 128.319 L2143.39 128.319 L2143.39 133.713 L2139.13 133.713 L2139.13 128.319 Z\" fill=\"#000000\" fill-rule=\"evenodd\" fill-opacity=\"1\" /><path clip-path=\"url(#clip670)\" d=\"M2162.35 141.398 Q2158.92 141.398 2156.93 144.083 Q2154.94 146.745 2154.94 151.398 Q2154.94 156.051 2156.91 158.736 Q2158.9 161.398 2162.35 161.398 Q2165.75 161.398 2167.74 158.713 Q2169.73 156.027 2169.73 151.398 Q2169.73 146.791 2167.74 144.106 Q2165.75 141.398 2162.35 141.398 M2162.35 137.787 Q2167.9 137.787 2171.07 141.398 Q2174.25 145.009 2174.25 151.398 Q2174.25 157.764 2171.07 161.398 Q2167.9 165.009 2162.35 165.009 Q2156.77 165.009 2153.6 161.398 Q2150.45 157.764 2150.45 151.398 Q2150.45 145.009 2153.6 141.398 Q2156.77 137.787 2162.35 137.787 Z\" fill=\"#000000\" fill-rule=\"evenodd\" fill-opacity=\"1\" /><path clip-path=\"url(#clip670)\" d=\"M2202.86 148.689 L2202.86 164.338 L2198.6 164.338 L2198.6 148.828 Q2198.6 145.148 2197.16 143.319 Q2195.73 141.49 2192.86 141.49 Q2189.41 141.49 2187.42 143.69 Q2185.43 145.889 2185.43 149.685 L2185.43 164.338 L2181.14 164.338 L2181.14 138.412 L2185.43 138.412 L2185.43 142.44 Q2186.95 140.102 2189.01 138.944 Q2191.1 137.787 2193.81 137.787 Q2198.27 137.787 2200.56 140.565 Q2202.86 143.319 2202.86 148.689 Z\" fill=\"#000000\" fill-rule=\"evenodd\" fill-opacity=\"1\" /><path clip-path=\"url(#clip670)\" d=\"M1580.88 219.634 L1724.44 219.634 L1724.44 178.162 L1580.88 178.162 L1580.88 219.634  Z\" fill=\"#e26f46\" fill-rule=\"evenodd\" fill-opacity=\"1\"/>\n",
       "<polyline clip-path=\"url(#clip670)\" style=\"stroke:#ffa500; stroke-linecap:round; stroke-linejoin:round; stroke-width:4; stroke-opacity:1; fill:none\" points=\"1580.88,219.634 1724.44,219.634 1724.44,178.162 1580.88,178.162 1580.88,219.634 \"/>\n",
       "<path clip-path=\"url(#clip670)\" d=\"M1776.24 184.28 L1776.24 189.21 Q1773.88 187.011 1771.19 185.923 Q1768.53 184.835 1765.52 184.835 Q1759.59 184.835 1756.45 188.469 Q1753.3 192.08 1753.3 198.932 Q1753.3 205.761 1756.45 209.395 Q1759.59 213.006 1765.52 213.006 Q1768.53 213.006 1771.19 211.918 Q1773.88 210.83 1776.24 208.631 L1776.24 213.516 Q1773.78 215.182 1771.03 216.016 Q1768.3 216.849 1765.24 216.849 Q1757.4 216.849 1752.88 212.057 Q1748.37 207.242 1748.37 198.932 Q1748.37 190.599 1752.88 185.807 Q1757.4 180.993 1765.24 180.993 Q1768.34 180.993 1771.08 181.826 Q1773.83 182.636 1776.24 184.28 Z\" fill=\"#000000\" fill-rule=\"evenodd\" fill-opacity=\"1\" /><path clip-path=\"url(#clip670)\" d=\"M1805.45 202.15 L1805.45 204.233 L1785.87 204.233 Q1786.15 208.631 1788.51 210.946 Q1790.89 213.238 1795.13 213.238 Q1797.58 213.238 1799.87 212.636 Q1802.19 212.034 1804.46 210.83 L1804.46 214.858 Q1802.16 215.83 1799.76 216.34 Q1797.35 216.849 1794.87 216.849 Q1788.67 216.849 1785.03 213.238 Q1781.42 209.627 1781.42 203.469 Q1781.42 197.104 1784.85 193.377 Q1788.3 189.627 1794.13 189.627 Q1799.36 189.627 1802.4 193.006 Q1805.45 196.363 1805.45 202.15 M1801.19 200.9 Q1801.15 197.405 1799.22 195.321 Q1797.33 193.238 1794.18 193.238 Q1790.61 193.238 1788.46 195.252 Q1786.33 197.266 1786.01 200.923 L1801.19 200.9 Z\" fill=\"#000000\" fill-rule=\"evenodd\" fill-opacity=\"1\" /><path clip-path=\"url(#clip670)\" d=\"M1833.99 200.529 L1833.99 216.178 L1829.73 216.178 L1829.73 200.668 Q1829.73 196.988 1828.3 195.159 Q1826.86 193.33 1823.99 193.33 Q1820.54 193.33 1818.55 195.53 Q1816.56 197.729 1816.56 201.525 L1816.56 216.178 L1812.28 216.178 L1812.28 190.252 L1816.56 190.252 L1816.56 194.28 Q1818.09 191.942 1820.15 190.784 Q1822.23 189.627 1824.94 189.627 Q1829.41 189.627 1831.7 192.405 Q1833.99 195.159 1833.99 200.529 Z\" fill=\"#000000\" fill-rule=\"evenodd\" fill-opacity=\"1\" /><path clip-path=\"url(#clip670)\" d=\"M1859.02 191.016 L1859.02 195.043 Q1857.21 194.117 1855.27 193.655 Q1853.32 193.192 1851.24 193.192 Q1848.07 193.192 1846.47 194.164 Q1844.9 195.136 1844.9 197.08 Q1844.9 198.562 1846.03 199.418 Q1847.16 200.252 1850.59 201.016 L1852.05 201.34 Q1856.59 202.312 1858.48 204.094 Q1860.4 205.854 1860.4 209.025 Q1860.4 212.636 1857.53 214.742 Q1854.69 216.849 1849.69 216.849 Q1847.6 216.849 1845.34 216.432 Q1843.09 216.039 1840.59 215.228 L1840.59 210.83 Q1842.95 212.057 1845.24 212.682 Q1847.53 213.284 1849.78 213.284 Q1852.79 213.284 1854.41 212.266 Q1856.03 211.224 1856.03 209.349 Q1856.03 207.613 1854.85 206.687 Q1853.69 205.761 1849.73 204.904 L1848.25 204.557 Q1844.29 203.724 1842.53 202.011 Q1840.78 200.275 1840.78 197.266 Q1840.78 193.608 1843.37 191.618 Q1845.96 189.627 1850.73 189.627 Q1853.09 189.627 1855.17 189.974 Q1857.26 190.321 1859.02 191.016 Z\" fill=\"#000000\" fill-rule=\"evenodd\" fill-opacity=\"1\" /><path clip-path=\"url(#clip670)\" d=\"M1877.23 193.238 Q1873.81 193.238 1871.82 195.923 Q1869.83 198.585 1869.83 203.238 Q1869.83 207.891 1871.79 210.576 Q1873.78 213.238 1877.23 213.238 Q1880.64 213.238 1882.63 210.553 Q1884.62 207.867 1884.62 203.238 Q1884.62 198.631 1882.63 195.946 Q1880.64 193.238 1877.23 193.238 M1877.23 189.627 Q1882.79 189.627 1885.96 193.238 Q1889.13 196.849 1889.13 203.238 Q1889.13 209.604 1885.96 213.238 Q1882.79 216.849 1877.23 216.849 Q1871.65 216.849 1868.48 213.238 Q1865.34 209.604 1865.34 203.238 Q1865.34 196.849 1868.48 193.238 Q1871.65 189.627 1877.23 189.627 Z\" fill=\"#000000\" fill-rule=\"evenodd\" fill-opacity=\"1\" /><path clip-path=\"url(#clip670)\" d=\"M1911.21 194.233 Q1910.5 193.817 1909.64 193.631 Q1908.81 193.423 1907.79 193.423 Q1904.18 193.423 1902.23 195.784 Q1900.31 198.122 1900.31 202.52 L1900.31 216.178 L1896.03 216.178 L1896.03 190.252 L1900.31 190.252 L1900.31 194.28 Q1901.65 191.918 1903.81 190.784 Q1905.96 189.627 1909.04 189.627 Q1909.48 189.627 1910.01 189.696 Q1910.54 189.743 1911.19 189.858 L1911.21 194.233 Z\" fill=\"#000000\" fill-rule=\"evenodd\" fill-opacity=\"1\" /><path clip-path=\"url(#clip670)\" d=\"M1936.82 202.15 L1936.82 204.233 L1917.23 204.233 Q1917.51 208.631 1919.87 210.946 Q1922.26 213.238 1926.49 213.238 Q1928.95 213.238 1931.24 212.636 Q1933.55 212.034 1935.82 210.83 L1935.82 214.858 Q1933.53 215.83 1931.12 216.34 Q1928.71 216.849 1926.24 216.849 Q1920.03 216.849 1916.4 213.238 Q1912.79 209.627 1912.79 203.469 Q1912.79 197.104 1916.21 193.377 Q1919.66 189.627 1925.5 189.627 Q1930.73 189.627 1933.76 193.006 Q1936.82 196.363 1936.82 202.15 M1932.56 200.9 Q1932.51 197.405 1930.59 195.321 Q1928.69 193.238 1925.54 193.238 Q1921.98 193.238 1919.83 195.252 Q1917.7 197.266 1917.37 200.923 L1932.56 200.9 Z\" fill=\"#000000\" fill-rule=\"evenodd\" fill-opacity=\"1\" /><path clip-path=\"url(#clip670)\" d=\"M1960.87 194.187 L1960.87 180.159 L1965.13 180.159 L1965.13 216.178 L1960.87 216.178 L1960.87 212.289 Q1959.52 214.603 1957.46 215.738 Q1955.43 216.849 1952.56 216.849 Q1947.86 216.849 1944.89 213.099 Q1941.96 209.349 1941.96 203.238 Q1941.96 197.127 1944.89 193.377 Q1947.86 189.627 1952.56 189.627 Q1955.43 189.627 1957.46 190.761 Q1959.52 191.872 1960.87 194.187 M1946.35 203.238 Q1946.35 207.937 1948.27 210.622 Q1950.22 213.284 1953.6 213.284 Q1956.98 213.284 1958.92 210.622 Q1960.87 207.937 1960.87 203.238 Q1960.87 198.539 1958.92 195.877 Q1956.98 193.192 1953.6 193.192 Q1950.22 193.192 1948.27 195.877 Q1946.35 198.539 1946.35 203.238 Z\" fill=\"#000000\" fill-rule=\"evenodd\" fill-opacity=\"1\" /><path clip-path=\"url(#clip670)\" d=\"M1993.83 185.46 L1993.83 212.335 L1999.48 212.335 Q2006.63 212.335 2009.94 209.094 Q2013.27 205.854 2013.27 198.863 Q2013.27 191.918 2009.94 188.701 Q2006.63 185.46 1999.48 185.46 L1993.83 185.46 M1989.15 181.618 L1998.76 181.618 Q2008.81 181.618 2013.51 185.807 Q2018.2 189.974 2018.2 198.863 Q2018.2 207.798 2013.48 211.988 Q2008.76 216.178 1998.76 216.178 L1989.15 216.178 L1989.15 181.618 Z\" fill=\"#000000\" fill-rule=\"evenodd\" fill-opacity=\"1\" /><path clip-path=\"url(#clip670)\" d=\"M2025.47 190.252 L2029.73 190.252 L2029.73 216.178 L2025.47 216.178 L2025.47 190.252 M2025.47 180.159 L2029.73 180.159 L2029.73 185.553 L2025.47 185.553 L2025.47 180.159 Z\" fill=\"#000000\" fill-rule=\"evenodd\" fill-opacity=\"1\" /><path clip-path=\"url(#clip670)\" d=\"M2055.17 191.016 L2055.17 195.043 Q2053.37 194.117 2051.42 193.655 Q2049.48 193.192 2047.39 193.192 Q2044.22 193.192 2042.63 194.164 Q2041.05 195.136 2041.05 197.08 Q2041.05 198.562 2042.19 199.418 Q2043.32 200.252 2046.75 201.016 L2048.2 201.34 Q2052.74 202.312 2054.64 204.094 Q2056.56 205.854 2056.56 209.025 Q2056.56 212.636 2053.69 214.742 Q2050.84 216.849 2045.84 216.849 Q2043.76 216.849 2041.49 216.432 Q2039.25 216.039 2036.75 215.228 L2036.75 210.83 Q2039.11 212.057 2041.4 212.682 Q2043.69 213.284 2045.94 213.284 Q2048.95 213.284 2050.57 212.266 Q2052.19 211.224 2052.19 209.349 Q2052.19 207.613 2051.01 206.687 Q2049.85 205.761 2045.89 204.904 L2044.41 204.557 Q2040.45 203.724 2038.69 202.011 Q2036.93 200.275 2036.93 197.266 Q2036.93 193.608 2039.52 191.618 Q2042.12 189.627 2046.89 189.627 Q2049.25 189.627 2051.33 189.974 Q2053.41 190.321 2055.17 191.016 Z\" fill=\"#000000\" fill-rule=\"evenodd\" fill-opacity=\"1\" /><path clip-path=\"url(#clip670)\" d=\"M2067.56 182.891 L2067.56 190.252 L2076.33 190.252 L2076.33 193.562 L2067.56 193.562 L2067.56 207.636 Q2067.56 210.807 2068.41 211.71 Q2069.29 212.613 2071.95 212.613 L2076.33 212.613 L2076.33 216.178 L2071.95 216.178 Q2067.02 216.178 2065.15 214.349 Q2063.27 212.497 2063.27 207.636 L2063.27 193.562 L2060.15 193.562 L2060.15 190.252 L2063.27 190.252 L2063.27 182.891 L2067.56 182.891 Z\" fill=\"#000000\" fill-rule=\"evenodd\" fill-opacity=\"1\" /><path clip-path=\"url(#clip670)\" d=\"M2096.95 194.233 Q2096.24 193.817 2095.38 193.631 Q2094.55 193.423 2093.53 193.423 Q2089.92 193.423 2087.97 195.784 Q2086.05 198.122 2086.05 202.52 L2086.05 216.178 L2081.77 216.178 L2081.77 190.252 L2086.05 190.252 L2086.05 194.28 Q2087.39 191.918 2089.55 190.784 Q2091.7 189.627 2094.78 189.627 Q2095.22 189.627 2095.75 189.696 Q2096.28 189.743 2096.93 189.858 L2096.95 194.233 Z\" fill=\"#000000\" fill-rule=\"evenodd\" fill-opacity=\"1\" /><path clip-path=\"url(#clip670)\" d=\"M2101.42 190.252 L2105.68 190.252 L2105.68 216.178 L2101.42 216.178 L2101.42 190.252 M2101.42 180.159 L2105.68 180.159 L2105.68 185.553 L2101.42 185.553 L2101.42 180.159 Z\" fill=\"#000000\" fill-rule=\"evenodd\" fill-opacity=\"1\" /><path clip-path=\"url(#clip670)\" d=\"M2133.2 203.238 Q2133.2 198.539 2131.26 195.877 Q2129.34 193.192 2125.96 193.192 Q2122.58 193.192 2120.63 195.877 Q2118.71 198.539 2118.71 203.238 Q2118.71 207.937 2120.63 210.622 Q2122.58 213.284 2125.96 213.284 Q2129.34 213.284 2131.26 210.622 Q2133.2 207.937 2133.2 203.238 M2118.71 194.187 Q2120.06 191.872 2122.09 190.761 Q2124.15 189.627 2127 189.627 Q2131.72 189.627 2134.66 193.377 Q2137.63 197.127 2137.63 203.238 Q2137.63 209.349 2134.66 213.099 Q2131.72 216.849 2127 216.849 Q2124.15 216.849 2122.09 215.738 Q2120.06 214.603 2118.71 212.289 L2118.71 216.178 L2114.43 216.178 L2114.43 180.159 L2118.71 180.159 L2118.71 194.187 Z\" fill=\"#000000\" fill-rule=\"evenodd\" fill-opacity=\"1\" /><path clip-path=\"url(#clip670)\" d=\"M2144.25 205.946 L2144.25 190.252 L2148.5 190.252 L2148.5 205.784 Q2148.5 209.465 2149.94 211.316 Q2151.38 213.145 2154.25 213.145 Q2157.69 213.145 2159.69 210.946 Q2161.7 208.747 2161.7 204.951 L2161.7 190.252 L2165.96 190.252 L2165.96 216.178 L2161.7 216.178 L2161.7 212.196 Q2160.15 214.557 2158.09 215.715 Q2156.05 216.849 2153.34 216.849 Q2148.88 216.849 2146.56 214.071 Q2144.25 211.293 2144.25 205.946 M2154.96 189.627 L2154.96 189.627 Z\" fill=\"#000000\" fill-rule=\"evenodd\" fill-opacity=\"1\" /><path clip-path=\"url(#clip670)\" d=\"M2178.94 182.891 L2178.94 190.252 L2187.72 190.252 L2187.72 193.562 L2178.94 193.562 L2178.94 207.636 Q2178.94 210.807 2179.8 211.71 Q2180.68 212.613 2183.34 212.613 L2187.72 212.613 L2187.72 216.178 L2183.34 216.178 Q2178.41 216.178 2176.54 214.349 Q2174.66 212.497 2174.66 207.636 L2174.66 193.562 L2171.54 193.562 L2171.54 190.252 L2174.66 190.252 L2174.66 182.891 L2178.94 182.891 Z\" fill=\"#000000\" fill-rule=\"evenodd\" fill-opacity=\"1\" /><path clip-path=\"url(#clip670)\" d=\"M2193.32 190.252 L2197.58 190.252 L2197.58 216.178 L2193.32 216.178 L2193.32 190.252 M2193.32 180.159 L2197.58 180.159 L2197.58 185.553 L2193.32 185.553 L2193.32 180.159 Z\" fill=\"#000000\" fill-rule=\"evenodd\" fill-opacity=\"1\" /><path clip-path=\"url(#clip670)\" d=\"M2216.54 193.238 Q2213.11 193.238 2211.12 195.923 Q2209.13 198.585 2209.13 203.238 Q2209.13 207.891 2211.1 210.576 Q2213.09 213.238 2216.54 213.238 Q2219.94 213.238 2221.93 210.553 Q2223.92 207.867 2223.92 203.238 Q2223.92 198.631 2221.93 195.946 Q2219.94 193.238 2216.54 193.238 M2216.54 189.627 Q2222.09 189.627 2225.26 193.238 Q2228.44 196.849 2228.44 203.238 Q2228.44 209.604 2225.26 213.238 Q2222.09 216.849 2216.54 216.849 Q2210.96 216.849 2207.79 213.238 Q2204.64 209.604 2204.64 203.238 Q2204.64 196.849 2207.79 193.238 Q2210.96 189.627 2216.54 189.627 Z\" fill=\"#000000\" fill-rule=\"evenodd\" fill-opacity=\"1\" /><path clip-path=\"url(#clip670)\" d=\"M2257.05 200.529 L2257.05 216.178 L2252.79 216.178 L2252.79 200.668 Q2252.79 196.988 2251.35 195.159 Q2249.92 193.33 2247.05 193.33 Q2243.6 193.33 2241.61 195.53 Q2239.62 197.729 2239.62 201.525 L2239.62 216.178 L2235.33 216.178 L2235.33 190.252 L2239.62 190.252 L2239.62 194.28 Q2241.14 191.942 2243.2 190.784 Q2245.29 189.627 2248 189.627 Q2252.46 189.627 2254.75 192.405 Q2257.05 195.159 2257.05 200.529 Z\" fill=\"#000000\" fill-rule=\"evenodd\" fill-opacity=\"1\" /></svg>\n"
      ]
     },
     "execution_count": 46,
     "metadata": {},
     "output_type": "execute_result"
    }
   ],
   "source": [
    "using Plots\n",
    "histogram(X, label = \"Normal Distribution\")\n",
    "histogram!(Y, linecolor = :orange, label = \"Censored Distribution\")"
   ]
  },
  {
   "cell_type": "markdown",
   "id": "22b88d4d",
   "metadata": {},
   "source": [
    "# Question 4\n",
    "### Read the following example and complete the exercises \n",
    "Bayes is playing Russian roulette. The revolver has six chambers. He puts two bullets in two adjacent chambers, spin the cylinder, hold the gun to his head, and pull the trigger. It clicks. So it is now the second try: he can choose either to spin the cylinder again or leave it as it is. "
   ]
  },
  {
   "cell_type": "markdown",
   "id": "4718911a",
   "metadata": {},
   "source": [
    "### 4.1\n",
    "\n",
    "#### What is the probability that Bayes survives the second try given his survival in the first try if he spin the cylinder and explain"
   ]
  },
  {
   "cell_type": "markdown",
   "id": "96f8c663",
   "metadata": {},
   "source": [
    "If the cylinder is spinned all over again, then the chances of survival are the same as they were the first time around (the experiment is reset). If there are 2 bullets in a total of 6 chambers, then Bayes will survive 4 out of 6 times, since 4 chambers will be empty. This means that the probability of survival is 4/6 = 2/3."
   ]
  },
  {
   "cell_type": "markdown",
   "id": "9fd046a8",
   "metadata": {},
   "source": [
    "### 4.2\n",
    "#### In this case, what are the relation between P(B|A), P(B), and P(A) if A represents survival in the first try and B represents survival in the second try"
   ]
  },
  {
   "cell_type": "markdown",
   "id": "7a575296",
   "metadata": {},
   "source": [
    "If P(A) represents the probability of survival in the first try, and P(B) represents the probability of survival in the second try, then P(B|A) represents the probability of survival in the second try given his survival in the first try.\n",
    "The relationship is: P(B|A) = (P(A|B)*P(B))/P(A). Since in the case above P(A) and P(B) are independent probabilities, then P(B|A) = P(B). Also, P(A) = P(B) for this example."
   ]
  },
  {
   "cell_type": "markdown",
   "id": "4e03c813",
   "metadata": {},
   "source": [
    "### 4.3\n",
    "\n",
    "#### What is the probability that Bayes survives both tries without spinning the cylinder and explain"
   ]
  },
  {
   "cell_type": "markdown",
   "id": "29c20dd7",
   "metadata": {},
   "source": [
    "The probability of Bayes surviving both tries without spinning the cylinder is the intersection of both probabilities of first and second try: P(AB).\n",
    "P(AB) is defined by the relationship of P(B)* P(A). P(A)= 2/3, as calculated previously. In this case, P(B) will be 3/4, since there was a survival in the first try, it means that there are only 3 more empty chambers out of 4 chambers that the cylinder could roll into.\n",
    "Hence, P(AB) = P(A)* P(B) = (2/3) * (3/4) = 1/2."
   ]
  },
  {
   "cell_type": "markdown",
   "id": "b4de6d2c",
   "metadata": {},
   "source": [
    "### 4.4\n",
    "\n",
    "#### Use answers from 4.1 and 4.3 to calculate the probability that Bayes survives the second try given his survial in the first try if he doesn't spin the cylinder and explain "
   ]
  },
  {
   "cell_type": "markdown",
   "id": "ba46b235",
   "metadata": {},
   "source": [
    "The probability of Bayes surviving the second try given his survial in the first try if he doesn't spin the cylinder is represented by P(B|A) = P(AB)/P(A) = (1/2)/(2/3) = 3/4. This is true because the probabilities P(A) and P(B) become dependent from each other."
   ]
  }
 ],
 "metadata": {
  "kernelspec": {
   "display_name": "Julia 1.8.5",
   "language": "julia",
   "name": "julia-1.8"
  },
  "language_info": {
   "file_extension": ".jl",
   "mimetype": "application/julia",
   "name": "julia",
   "version": "1.8.5"
  }
 },
 "nbformat": 4,
 "nbformat_minor": 5
}
