{
 "cells": [
  {
   "cell_type": "markdown",
   "id": "0ce4edbf",
   "metadata": {},
   "source": [
    "<h1>HW2</h1>"
   ]
  },
  {
   "cell_type": "markdown",
   "id": "2e321dc4",
   "metadata": {},
   "source": [
    "#### Bayes' theorem:\n",
    "\\begin{equation*}\n",
    "P(A|B) = \\frac{P(B|A)P(A)}{P(B)} \\\\\n",
    "P(A|B): Posteior \\\\\n",
    "P(B|A): Likelihood \\\\\n",
    "P(A): Prior \\\\\n",
    "P(B): Marginal Probability \\\\\n",
    "\\end{equation*}"
   ]
  },
  {
   "cell_type": "markdown",
   "id": "1b6c2102",
   "metadata": {},
   "source": [
    "# Question 1\n",
    "### Read the following example and complete the exercises \n",
    "\n",
    "You are at the age of 21 and curious about if drinking alcohol would cause liver disease. You contacted a clinic site and got the following information.\n",
    "\n",
    "1. Past data tells you that 10% of patients entering the clinic have liver disease (**Prior**). \n",
    "\n",
    "2. Five percent of the clinic’s patients are alcoholics (**Marginal Probability**). \n",
    "\n",
    "3. Among the patients diagnosed with liver disease, 15% are alcoholics (**Likelihood**). \n",
    "\n",
    "Now you wonder what is the probability of a patient from the clinic have liver disease given that the patient is alcoholic (**Posterior**)"
   ]
  },
  {
   "cell_type": "markdown",
   "id": "e0c81ddf",
   "metadata": {},
   "source": [
    "### 1.1 \n",
    "\n",
    "#### If A represents the event of being an alcoholic patient in the clinic and L represents the event of being a patient with liver disease in the clinic, write the bayesian representation (P(A|B)) in the following cells\n"
   ]
  },
  {
   "cell_type": "markdown",
   "id": "90ef64bb",
   "metadata": {},
   "source": [
    "Posteria = P(L|A)"
   ]
  },
  {
   "cell_type": "markdown",
   "id": "658c4c0e",
   "metadata": {},
   "source": [
    "Prior = P(L) "
   ]
  },
  {
   "cell_type": "markdown",
   "id": "e5f1f140",
   "metadata": {},
   "source": [
    "Likelihood = P(A|L) "
   ]
  },
  {
   "cell_type": "markdown",
   "id": "ce4bee50",
   "metadata": {},
   "source": [
    "Marginal Probability = P(A)"
   ]
  },
  {
   "cell_type": "markdown",
   "id": "572cc5a7",
   "metadata": {},
   "source": [
    "### 1.2 \n",
    "\n",
    "#### Define all the information available and calculate the posteria probbability"
   ]
  },
  {
   "cell_type": "code",
   "execution_count": 63,
   "id": "fa180ac4",
   "metadata": {},
   "outputs": [
    {
     "data": {
      "text/plain": [
       "0.3"
      ]
     },
     "execution_count": 63,
     "metadata": {},
     "output_type": "execute_result"
    }
   ],
   "source": [
    "Prior = 0.1\n",
    "Marginal_Probability = 0.05\n",
    "Likelihood = 0.15\n",
    "Posteria = (Prior * Likelihood)/Marginal_Probability"
   ]
  },
  {
   "cell_type": "markdown",
   "id": "ddce1bb4",
   "metadata": {},
   "source": [
    "# Question 2\n",
    "### Read the following example and complete the exercises \n",
    "Shown by a <a href=\"https://pubmed.ncbi.nlm.nih.gov/34242764/#:~:text=The%20overall%20sensitivity%20of%20the,%25%20CI%2024.4%2D65.1\">reaserch study</a>, the rapid antigen test for Covid has a sensitivity of 65.3% and a specificity of 99.9%. Assume 1% people have Covid. If randomly select a person and he/she tests positive using the rapid antigen test, what is the probability the person has Covid (posterior)."
   ]
  },
  {
   "cell_type": "markdown",
   "id": "1f01074b",
   "metadata": {},
   "source": [
    "### 2.1 \n",
    "\n",
    "#### The probability of which event is considered marginal probability in this case? Define it in the first cell below and calculate it in the second cell below"
   ]
  },
  {
   "cell_type": "markdown",
   "id": "fc0ce8a8",
   "metadata": {},
   "source": [
    "The event is: Antigen test it positive\n"
   ]
  },
  {
   "cell_type": "code",
   "execution_count": 66,
   "id": "9514d479",
   "metadata": {},
   "outputs": [
    {
     "data": {
      "text/plain": [
       "0.3500599999999999"
      ]
     },
     "execution_count": 66,
     "metadata": {},
     "output_type": "execute_result"
    }
   ],
   "source": [
    "covid = 0.01\n",
    "no_covid = 1 - covid\n",
    "true_pos = 0.653\n",
    "false_pos = 1- true_pos\n",
    "\n",
    "marginal_probability = (covid*true_pos)+(no_covid*false_pos)"
   ]
  },
  {
   "cell_type": "markdown",
   "id": "cbb30a58",
   "metadata": {},
   "source": [
    "### 2.2 \n",
    "\n",
    "#### Define all the information and calculate the probability the randomly selected person has Covid"
   ]
  },
  {
   "cell_type": "code",
   "execution_count": 67,
   "id": "1af37a23",
   "metadata": {},
   "outputs": [
    {
     "data": {
      "text/plain": [
       "0.018653945037993492"
      ]
     },
     "execution_count": 67,
     "metadata": {},
     "output_type": "execute_result"
    }
   ],
   "source": [
    "likelihood = 0.653\n",
    "posterior = (likelihood * covid)/marginal_probability"
   ]
  },
  {
   "cell_type": "markdown",
   "id": "13c0b486",
   "metadata": {},
   "source": [
    "# Question 3\n",
    "### <a href=\"https://juliastats.org/Distributions.jl/stable/starting/\">This page</a> is the documentation for Distribution.jl and complete the exercies"
   ]
  },
  {
   "cell_type": "markdown",
   "id": "8a852a4a",
   "metadata": {},
   "source": [
    "### 3.1 \n",
    "\n",
    "#### Randomly draw 1000 samples from a normal distribution with mean = 5 and std = 2"
   ]
  },
  {
   "cell_type": "code",
   "execution_count": 37,
   "id": "a1539748",
   "metadata": {},
   "outputs": [
    {
     "name": "stderr",
     "output_type": "stream",
     "text": [
      "\u001b[32m\u001b[1m   Resolving\u001b[22m\u001b[39m package versions...\n",
      "\u001b[32m\u001b[1m  No Changes\u001b[22m\u001b[39m to `~/.julia/environments/v1.8/Project.toml`\n",
      "\u001b[32m\u001b[1m  No Changes\u001b[22m\u001b[39m to `~/.julia/environments/v1.8/Manifest.toml`\n",
      "\u001b[32m\u001b[1m   Resolving\u001b[22m\u001b[39m package versions...\n",
      "\u001b[32m\u001b[1m  No Changes\u001b[22m\u001b[39m to `~/.julia/environments/v1.8/Project.toml`\n",
      "\u001b[32m\u001b[1m  No Changes\u001b[22m\u001b[39m to `~/.julia/environments/v1.8/Manifest.toml`\n",
      "\u001b[32m\u001b[1m   Resolving\u001b[22m\u001b[39m package versions...\n",
      "\u001b[32m\u001b[1m  No Changes\u001b[22m\u001b[39m to `~/.julia/environments/v1.8/Project.toml`\n",
      "\u001b[32m\u001b[1m  No Changes\u001b[22m\u001b[39m to `~/.julia/environments/v1.8/Manifest.toml`\n"
     ]
    },
    {
     "data": {
      "text/plain": [
       "1000-element Vector{Float64}:\n",
       " -0.6457306721039767\n",
       " -1.4632513788889214\n",
       " -1.6236037455860806\n",
       " -0.21766510678354617\n",
       "  0.4922456865251828\n",
       "  0.9809798121241488\n",
       "  0.0799568295050599\n",
       "  1.5491245530427917\n",
       " -1.3416092408832219\n",
       "  0.41216163468296796\n",
       "  0.5931973881209758\n",
       " -0.768408918731307\n",
       " -0.07616794545243702\n",
       "  ⋮\n",
       "  0.6238953327731309\n",
       "  0.2190423925136854\n",
       "  0.14977648786147835\n",
       "  0.8011182793189421\n",
       "  0.4023647087849521\n",
       "  0.08937787423429465\n",
       "  0.4061635295508496\n",
       "  1.2843199522618483\n",
       " -0.09024710180806607\n",
       " -0.056353210014852384\n",
       " -0.027062419314432075\n",
       " -0.17230880567312984"
      ]
     },
     "execution_count": 37,
     "metadata": {},
     "output_type": "execute_result"
    }
   ],
   "source": [
    "import Pkg\n",
    "Pkg.add(\"Distributions\")\n",
    "Pkg.add(\"Random\")\n",
    "Pkg.add(\"Statistics\")\n",
    "using Random, Distributions, Statistics\n",
    "Random.seed!(123)\n",
    "d = Normal()\n",
    "Normal(5,2)\n",
    "random = rand(d,1000)"
   ]
  },
  {
   "cell_type": "markdown",
   "id": "0b89952d",
   "metadata": {},
   "source": [
    "### 3.2\n",
    "\n",
    "#### Plot  the distribution above in a histogram"
   ]
  },
  {
   "cell_type": "code",
   "execution_count": 45,
   "id": "677ef750",
   "metadata": {},
   "outputs": [
    {
     "data": {
      "image/svg+xml": [
       "<?xml version=\"1.0\" encoding=\"utf-8\"?>\n",
       "<svg xmlns=\"http://www.w3.org/2000/svg\" xmlns:xlink=\"http://www.w3.org/1999/xlink\" width=\"600\" height=\"400\" viewBox=\"0 0 2400 1600\">\n",
       "<defs>\n",
       "  <clipPath id=\"clip380\">\n",
       "    <rect x=\"0\" y=\"0\" width=\"2400\" height=\"1600\"/>\n",
       "  </clipPath>\n",
       "</defs>\n",
       "<path clip-path=\"url(#clip380)\" d=\"M0 1600 L2400 1600 L2400 0 L0 0  Z\" fill=\"#ffffff\" fill-rule=\"evenodd\" fill-opacity=\"1\"/>\n",
       "<defs>\n",
       "  <clipPath id=\"clip381\">\n",
       "    <rect x=\"480\" y=\"0\" width=\"1681\" height=\"1600\"/>\n",
       "  </clipPath>\n",
       "</defs>\n",
       "<path clip-path=\"url(#clip380)\" d=\"M169.121 1486.45 L2352.76 1486.45 L2352.76 47.2441 L169.121 47.2441  Z\" fill=\"#ffffff\" fill-rule=\"evenodd\" fill-opacity=\"1\"/>\n",
       "<defs>\n",
       "  <clipPath id=\"clip382\">\n",
       "    <rect x=\"169\" y=\"47\" width=\"2185\" height=\"1440\"/>\n",
       "  </clipPath>\n",
       "</defs>\n",
       "<polyline clip-path=\"url(#clip382)\" style=\"stroke:#000000; stroke-linecap:round; stroke-linejoin:round; stroke-width:2; stroke-opacity:0.1; fill:none\" points=\"677.911,1486.45 677.911,47.2441 \"/>\n",
       "<polyline clip-path=\"url(#clip382)\" style=\"stroke:#000000; stroke-linecap:round; stroke-linejoin:round; stroke-width:2; stroke-opacity:0.1; fill:none\" points=\"1196.16,1486.45 1196.16,47.2441 \"/>\n",
       "<polyline clip-path=\"url(#clip382)\" style=\"stroke:#000000; stroke-linecap:round; stroke-linejoin:round; stroke-width:2; stroke-opacity:0.1; fill:none\" points=\"1714.4,1486.45 1714.4,47.2441 \"/>\n",
       "<polyline clip-path=\"url(#clip382)\" style=\"stroke:#000000; stroke-linecap:round; stroke-linejoin:round; stroke-width:2; stroke-opacity:0.1; fill:none\" points=\"2232.65,1486.45 2232.65,47.2441 \"/>\n",
       "<polyline clip-path=\"url(#clip380)\" style=\"stroke:#000000; stroke-linecap:round; stroke-linejoin:round; stroke-width:4; stroke-opacity:1; fill:none\" points=\"169.121,1486.45 2352.76,1486.45 \"/>\n",
       "<polyline clip-path=\"url(#clip380)\" style=\"stroke:#000000; stroke-linecap:round; stroke-linejoin:round; stroke-width:4; stroke-opacity:1; fill:none\" points=\"677.911,1486.45 677.911,1467.55 \"/>\n",
       "<polyline clip-path=\"url(#clip380)\" style=\"stroke:#000000; stroke-linecap:round; stroke-linejoin:round; stroke-width:4; stroke-opacity:1; fill:none\" points=\"1196.16,1486.45 1196.16,1467.55 \"/>\n",
       "<polyline clip-path=\"url(#clip380)\" style=\"stroke:#000000; stroke-linecap:round; stroke-linejoin:round; stroke-width:4; stroke-opacity:1; fill:none\" points=\"1714.4,1486.45 1714.4,1467.55 \"/>\n",
       "<polyline clip-path=\"url(#clip380)\" style=\"stroke:#000000; stroke-linecap:round; stroke-linejoin:round; stroke-width:4; stroke-opacity:1; fill:none\" points=\"2232.65,1486.45 2232.65,1467.55 \"/>\n",
       "<path clip-path=\"url(#clip380)\" d=\"M647.853 1532.02 L677.529 1532.02 L677.529 1535.95 L647.853 1535.95 L647.853 1532.02 Z\" fill=\"#000000\" fill-rule=\"evenodd\" fill-opacity=\"1\" /><path clip-path=\"url(#clip380)\" d=\"M691.649 1544.91 L707.968 1544.91 L707.968 1548.85 L686.024 1548.85 L686.024 1544.91 Q688.686 1542.16 693.269 1537.53 Q697.876 1532.88 699.056 1531.53 Q701.302 1529.01 702.181 1527.27 Q703.084 1525.51 703.084 1523.82 Q703.084 1521.07 701.14 1519.33 Q699.218 1517.6 696.116 1517.6 Q693.917 1517.6 691.464 1518.36 Q689.033 1519.13 686.255 1520.68 L686.255 1515.95 Q689.079 1514.82 691.533 1514.24 Q693.987 1513.66 696.024 1513.66 Q701.394 1513.66 704.589 1516.35 Q707.783 1519.03 707.783 1523.52 Q707.783 1525.65 706.973 1527.57 Q706.186 1529.47 704.079 1532.07 Q703.501 1532.74 700.399 1535.95 Q697.297 1539.15 691.649 1544.91 Z\" fill=\"#000000\" fill-rule=\"evenodd\" fill-opacity=\"1\" /><path clip-path=\"url(#clip380)\" d=\"M1196.16 1517.37 Q1192.55 1517.37 1190.72 1520.93 Q1188.91 1524.47 1188.91 1531.6 Q1188.91 1538.71 1190.72 1542.27 Q1192.55 1545.82 1196.16 1545.82 Q1199.79 1545.82 1201.6 1542.27 Q1203.43 1538.71 1203.43 1531.6 Q1203.43 1524.47 1201.6 1520.93 Q1199.79 1517.37 1196.16 1517.37 M1196.16 1513.66 Q1201.97 1513.66 1205.02 1518.27 Q1208.1 1522.85 1208.1 1531.6 Q1208.1 1540.33 1205.02 1544.94 Q1201.97 1549.52 1196.16 1549.52 Q1190.35 1549.52 1187.27 1544.94 Q1184.21 1540.33 1184.21 1531.6 Q1184.21 1522.85 1187.27 1518.27 Q1190.35 1513.66 1196.16 1513.66 Z\" fill=\"#000000\" fill-rule=\"evenodd\" fill-opacity=\"1\" /><path clip-path=\"url(#clip380)\" d=\"M1709.06 1544.91 L1725.38 1544.91 L1725.38 1548.85 L1703.43 1548.85 L1703.43 1544.91 Q1706.09 1542.16 1710.68 1537.53 Q1715.28 1532.88 1716.47 1531.53 Q1718.71 1529.01 1719.59 1527.27 Q1720.49 1525.51 1720.49 1523.82 Q1720.49 1521.07 1718.55 1519.33 Q1716.63 1517.6 1713.53 1517.6 Q1711.33 1517.6 1708.87 1518.36 Q1706.44 1519.13 1703.66 1520.68 L1703.66 1515.95 Q1706.49 1514.82 1708.94 1514.24 Q1711.4 1513.66 1713.43 1513.66 Q1718.8 1513.66 1722 1516.35 Q1725.19 1519.03 1725.19 1523.52 Q1725.19 1525.65 1724.38 1527.57 Q1723.59 1529.47 1721.49 1532.07 Q1720.91 1532.74 1717.81 1535.95 Q1714.71 1539.15 1709.06 1544.91 Z\" fill=\"#000000\" fill-rule=\"evenodd\" fill-opacity=\"1\" /><path clip-path=\"url(#clip380)\" d=\"M2235.66 1518.36 L2223.86 1536.81 L2235.66 1536.81 L2235.66 1518.36 M2234.43 1514.29 L2240.31 1514.29 L2240.31 1536.81 L2245.24 1536.81 L2245.24 1540.7 L2240.31 1540.7 L2240.31 1548.85 L2235.66 1548.85 L2235.66 1540.7 L2220.06 1540.7 L2220.06 1536.19 L2234.43 1514.29 Z\" fill=\"#000000\" fill-rule=\"evenodd\" fill-opacity=\"1\" /><polyline clip-path=\"url(#clip382)\" style=\"stroke:#000000; stroke-linecap:round; stroke-linejoin:round; stroke-width:2; stroke-opacity:0.1; fill:none\" points=\"169.121,1445.72 2352.76,1445.72 \"/>\n",
       "<polyline clip-path=\"url(#clip382)\" style=\"stroke:#000000; stroke-linecap:round; stroke-linejoin:round; stroke-width:2; stroke-opacity:0.1; fill:none\" points=\"169.121,1076.76 2352.76,1076.76 \"/>\n",
       "<polyline clip-path=\"url(#clip382)\" style=\"stroke:#000000; stroke-linecap:round; stroke-linejoin:round; stroke-width:2; stroke-opacity:0.1; fill:none\" points=\"169.121,707.814 2352.76,707.814 \"/>\n",
       "<polyline clip-path=\"url(#clip382)\" style=\"stroke:#000000; stroke-linecap:round; stroke-linejoin:round; stroke-width:2; stroke-opacity:0.1; fill:none\" points=\"169.121,338.863 2352.76,338.863 \"/>\n",
       "<polyline clip-path=\"url(#clip380)\" style=\"stroke:#000000; stroke-linecap:round; stroke-linejoin:round; stroke-width:4; stroke-opacity:1; fill:none\" points=\"169.121,1486.45 169.121,47.2441 \"/>\n",
       "<polyline clip-path=\"url(#clip380)\" style=\"stroke:#000000; stroke-linecap:round; stroke-linejoin:round; stroke-width:4; stroke-opacity:1; fill:none\" points=\"169.121,1445.72 188.019,1445.72 \"/>\n",
       "<polyline clip-path=\"url(#clip380)\" style=\"stroke:#000000; stroke-linecap:round; stroke-linejoin:round; stroke-width:4; stroke-opacity:1; fill:none\" points=\"169.121,1076.76 188.019,1076.76 \"/>\n",
       "<polyline clip-path=\"url(#clip380)\" style=\"stroke:#000000; stroke-linecap:round; stroke-linejoin:round; stroke-width:4; stroke-opacity:1; fill:none\" points=\"169.121,707.814 188.019,707.814 \"/>\n",
       "<polyline clip-path=\"url(#clip380)\" style=\"stroke:#000000; stroke-linecap:round; stroke-linejoin:round; stroke-width:4; stroke-opacity:1; fill:none\" points=\"169.121,338.863 188.019,338.863 \"/>\n",
       "<path clip-path=\"url(#clip380)\" d=\"M121.177 1431.51 Q117.566 1431.51 115.737 1435.08 Q113.932 1438.62 113.932 1445.75 Q113.932 1452.86 115.737 1456.42 Q117.566 1459.96 121.177 1459.96 Q124.811 1459.96 126.617 1456.42 Q128.445 1452.86 128.445 1445.75 Q128.445 1438.62 126.617 1435.08 Q124.811 1431.51 121.177 1431.51 M121.177 1427.81 Q126.987 1427.81 130.043 1432.42 Q133.121 1437 133.121 1445.75 Q133.121 1454.48 130.043 1459.08 Q126.987 1463.67 121.177 1463.67 Q115.367 1463.67 112.288 1459.08 Q109.233 1454.48 109.233 1445.75 Q109.233 1437 112.288 1432.42 Q115.367 1427.81 121.177 1427.81 Z\" fill=\"#000000\" fill-rule=\"evenodd\" fill-opacity=\"1\" /><path clip-path=\"url(#clip380)\" d=\"M81.0614 1059.48 L99.4178 1059.48 L99.4178 1063.42 L85.3438 1063.42 L85.3438 1071.89 Q86.3623 1071.54 87.3808 1071.38 Q88.3993 1071.2 89.4178 1071.2 Q95.2049 1071.2 98.5845 1074.37 Q101.964 1077.54 101.964 1082.96 Q101.964 1088.54 98.4919 1091.64 Q95.0197 1094.72 88.7003 1094.72 Q86.5243 1094.72 84.2558 1094.35 Q82.0105 1093.98 79.6031 1093.23 L79.6031 1088.54 Q81.6864 1089.67 83.9086 1090.23 Q86.1308 1090.78 88.6077 1090.78 Q92.6123 1090.78 94.9502 1088.67 Q97.2882 1086.57 97.2882 1082.96 Q97.2882 1079.35 94.9502 1077.24 Q92.6123 1075.13 88.6077 1075.13 Q86.7327 1075.13 84.8577 1075.55 Q83.0058 1075.97 81.0614 1076.85 L81.0614 1059.48 Z\" fill=\"#000000\" fill-rule=\"evenodd\" fill-opacity=\"1\" /><path clip-path=\"url(#clip380)\" d=\"M121.177 1062.56 Q117.566 1062.56 115.737 1066.13 Q113.932 1069.67 113.932 1076.8 Q113.932 1083.91 115.737 1087.47 Q117.566 1091.01 121.177 1091.01 Q124.811 1091.01 126.617 1087.47 Q128.445 1083.91 128.445 1076.8 Q128.445 1069.67 126.617 1066.13 Q124.811 1062.56 121.177 1062.56 M121.177 1058.86 Q126.987 1058.86 130.043 1063.47 Q133.121 1068.05 133.121 1076.8 Q133.121 1085.53 130.043 1090.13 Q126.987 1094.72 121.177 1094.72 Q115.367 1094.72 112.288 1090.13 Q109.233 1085.53 109.233 1076.8 Q109.233 1068.05 112.288 1063.47 Q115.367 1058.86 121.177 1058.86 Z\" fill=\"#000000\" fill-rule=\"evenodd\" fill-opacity=\"1\" /><path clip-path=\"url(#clip380)\" d=\"M51.6634 721.159 L59.3023 721.159 L59.3023 694.793 L50.9921 696.46 L50.9921 692.2 L59.256 690.534 L63.9319 690.534 L63.9319 721.159 L71.5707 721.159 L71.5707 725.094 L51.6634 725.094 L51.6634 721.159 Z\" fill=\"#000000\" fill-rule=\"evenodd\" fill-opacity=\"1\" /><path clip-path=\"url(#clip380)\" d=\"M91.0151 693.613 Q87.404 693.613 85.5753 697.177 Q83.7697 700.719 83.7697 707.849 Q83.7697 714.955 85.5753 718.52 Q87.404 722.061 91.0151 722.061 Q94.6493 722.061 96.4548 718.52 Q98.2835 714.955 98.2835 707.849 Q98.2835 700.719 96.4548 697.177 Q94.6493 693.613 91.0151 693.613 M91.0151 689.909 Q96.8252 689.909 99.8808 694.515 Q102.959 699.099 102.959 707.849 Q102.959 716.575 99.8808 721.182 Q96.8252 725.765 91.0151 725.765 Q85.2049 725.765 82.1262 721.182 Q79.0707 716.575 79.0707 707.849 Q79.0707 699.099 82.1262 694.515 Q85.2049 689.909 91.0151 689.909 Z\" fill=\"#000000\" fill-rule=\"evenodd\" fill-opacity=\"1\" /><path clip-path=\"url(#clip380)\" d=\"M121.177 693.613 Q117.566 693.613 115.737 697.177 Q113.932 700.719 113.932 707.849 Q113.932 714.955 115.737 718.52 Q117.566 722.061 121.177 722.061 Q124.811 722.061 126.617 718.52 Q128.445 714.955 128.445 707.849 Q128.445 700.719 126.617 697.177 Q124.811 693.613 121.177 693.613 M121.177 689.909 Q126.987 689.909 130.043 694.515 Q133.121 699.099 133.121 707.849 Q133.121 716.575 130.043 721.182 Q126.987 725.765 121.177 725.765 Q115.367 725.765 112.288 721.182 Q109.233 716.575 109.233 707.849 Q109.233 699.099 112.288 694.515 Q115.367 689.909 121.177 689.909 Z\" fill=\"#000000\" fill-rule=\"evenodd\" fill-opacity=\"1\" /><path clip-path=\"url(#clip380)\" d=\"M51.6634 352.208 L59.3023 352.208 L59.3023 325.842 L50.9921 327.509 L50.9921 323.25 L59.256 321.583 L63.9319 321.583 L63.9319 352.208 L71.5707 352.208 L71.5707 356.143 L51.6634 356.143 L51.6634 352.208 Z\" fill=\"#000000\" fill-rule=\"evenodd\" fill-opacity=\"1\" /><path clip-path=\"url(#clip380)\" d=\"M81.0614 321.583 L99.4178 321.583 L99.4178 325.518 L85.3438 325.518 L85.3438 333.99 Q86.3623 333.643 87.3808 333.481 Q88.3993 333.296 89.4178 333.296 Q95.2049 333.296 98.5845 336.467 Q101.964 339.638 101.964 345.055 Q101.964 350.634 98.4919 353.736 Q95.0197 356.814 88.7003 356.814 Q86.5243 356.814 84.2558 356.444 Q82.0105 356.073 79.6031 355.333 L79.6031 350.634 Q81.6864 351.768 83.9086 352.323 Q86.1308 352.879 88.6077 352.879 Q92.6123 352.879 94.9502 350.773 Q97.2882 348.666 97.2882 345.055 Q97.2882 341.444 94.9502 339.337 Q92.6123 337.231 88.6077 337.231 Q86.7327 337.231 84.8577 337.648 Q83.0058 338.064 81.0614 338.944 L81.0614 321.583 Z\" fill=\"#000000\" fill-rule=\"evenodd\" fill-opacity=\"1\" /><path clip-path=\"url(#clip380)\" d=\"M121.177 324.662 Q117.566 324.662 115.737 328.226 Q113.932 331.768 113.932 338.898 Q113.932 346.004 115.737 349.569 Q117.566 353.111 121.177 353.111 Q124.811 353.111 126.617 349.569 Q128.445 346.004 128.445 338.898 Q128.445 331.768 126.617 328.226 Q124.811 324.662 121.177 324.662 M121.177 320.958 Q126.987 320.958 130.043 325.564 Q133.121 330.148 133.121 338.898 Q133.121 347.624 130.043 352.231 Q126.987 356.814 121.177 356.814 Q115.367 356.814 112.288 352.231 Q109.233 347.624 109.233 338.898 Q109.233 330.148 112.288 325.564 Q115.367 320.958 121.177 320.958 Z\" fill=\"#000000\" fill-rule=\"evenodd\" fill-opacity=\"1\" /><path clip-path=\"url(#clip382)\" d=\"M289.225 1430.96 L289.225 1445.72 L418.787 1445.72 L418.787 1430.96 L289.225 1430.96 L289.225 1430.96  Z\" fill=\"#009af9\" fill-rule=\"evenodd\" fill-opacity=\"1\"/>\n",
       "<polyline clip-path=\"url(#clip382)\" style=\"stroke:#000000; stroke-linecap:round; stroke-linejoin:round; stroke-width:4; stroke-opacity:1; fill:none\" points=\"289.225,1430.96 289.225,1445.72 418.787,1445.72 418.787,1430.96 289.225,1430.96 \"/>\n",
       "<path clip-path=\"url(#clip382)\" d=\"M418.787 1430.96 L418.787 1445.72 L548.349 1445.72 L548.349 1430.96 L418.787 1430.96 L418.787 1430.96  Z\" fill=\"#009af9\" fill-rule=\"evenodd\" fill-opacity=\"1\"/>\n",
       "<polyline clip-path=\"url(#clip382)\" style=\"stroke:#000000; stroke-linecap:round; stroke-linejoin:round; stroke-width:4; stroke-opacity:1; fill:none\" points=\"418.787,1430.96 418.787,1445.72 548.349,1445.72 548.349,1430.96 418.787,1430.96 \"/>\n",
       "<path clip-path=\"url(#clip382)\" d=\"M548.349 1312.89 L548.349 1445.72 L677.911 1445.72 L677.911 1312.89 L548.349 1312.89 L548.349 1312.89  Z\" fill=\"#009af9\" fill-rule=\"evenodd\" fill-opacity=\"1\"/>\n",
       "<polyline clip-path=\"url(#clip382)\" style=\"stroke:#000000; stroke-linecap:round; stroke-linejoin:round; stroke-width:4; stroke-opacity:1; fill:none\" points=\"548.349,1312.89 548.349,1445.72 677.911,1445.72 677.911,1312.89 548.349,1312.89 \"/>\n",
       "<path clip-path=\"url(#clip382)\" d=\"M677.911 1069.39 L677.911 1445.72 L807.472 1445.72 L807.472 1069.39 L677.911 1069.39 L677.911 1069.39  Z\" fill=\"#009af9\" fill-rule=\"evenodd\" fill-opacity=\"1\"/>\n",
       "<polyline clip-path=\"url(#clip382)\" style=\"stroke:#000000; stroke-linecap:round; stroke-linejoin:round; stroke-width:4; stroke-opacity:1; fill:none\" points=\"677.911,1069.39 677.911,1445.72 807.472,1445.72 807.472,1069.39 677.911,1069.39 \"/>\n",
       "<path clip-path=\"url(#clip382)\" d=\"M807.472 604.508 L807.472 1445.72 L937.034 1445.72 L937.034 604.508 L807.472 604.508 L807.472 604.508  Z\" fill=\"#009af9\" fill-rule=\"evenodd\" fill-opacity=\"1\"/>\n",
       "<polyline clip-path=\"url(#clip382)\" style=\"stroke:#000000; stroke-linecap:round; stroke-linejoin:round; stroke-width:4; stroke-opacity:1; fill:none\" points=\"807.472,604.508 807.472,1445.72 937.034,1445.72 937.034,604.508 807.472,604.508 \"/>\n",
       "<path clip-path=\"url(#clip382)\" d=\"M937.034 361 L937.034 1445.72 L1066.6 1445.72 L1066.6 361 L937.034 361 L937.034 361  Z\" fill=\"#009af9\" fill-rule=\"evenodd\" fill-opacity=\"1\"/>\n",
       "<polyline clip-path=\"url(#clip382)\" style=\"stroke:#000000; stroke-linecap:round; stroke-linejoin:round; stroke-width:4; stroke-opacity:1; fill:none\" points=\"937.034,361 937.034,1445.72 1066.6,1445.72 1066.6,361 937.034,361 \"/>\n",
       "<path clip-path=\"url(#clip382)\" d=\"M1066.6 87.9763 L1066.6 1445.72 L1196.16 1445.72 L1196.16 87.9763 L1066.6 87.9763 L1066.6 87.9763  Z\" fill=\"#009af9\" fill-rule=\"evenodd\" fill-opacity=\"1\"/>\n",
       "<polyline clip-path=\"url(#clip382)\" style=\"stroke:#000000; stroke-linecap:round; stroke-linejoin:round; stroke-width:4; stroke-opacity:1; fill:none\" points=\"1066.6,87.9763 1066.6,1445.72 1196.16,1445.72 1196.16,87.9763 1066.6,87.9763 \"/>\n",
       "<path clip-path=\"url(#clip382)\" d=\"M1196.16 102.734 L1196.16 1445.72 L1325.72 1445.72 L1325.72 102.734 L1196.16 102.734 L1196.16 102.734  Z\" fill=\"#009af9\" fill-rule=\"evenodd\" fill-opacity=\"1\"/>\n",
       "<polyline clip-path=\"url(#clip382)\" style=\"stroke:#000000; stroke-linecap:round; stroke-linejoin:round; stroke-width:4; stroke-opacity:1; fill:none\" points=\"1196.16,102.734 1196.16,1445.72 1325.72,1445.72 1325.72,102.734 1196.16,102.734 \"/>\n",
       "<path clip-path=\"url(#clip382)\" d=\"M1325.72 449.548 L1325.72 1445.72 L1455.28 1445.72 L1455.28 449.548 L1325.72 449.548 L1325.72 449.548  Z\" fill=\"#009af9\" fill-rule=\"evenodd\" fill-opacity=\"1\"/>\n",
       "<polyline clip-path=\"url(#clip382)\" style=\"stroke:#000000; stroke-linecap:round; stroke-linejoin:round; stroke-width:4; stroke-opacity:1; fill:none\" points=\"1325.72,449.548 1325.72,1445.72 1455.28,1445.72 1455.28,449.548 1325.72,449.548 \"/>\n",
       "<path clip-path=\"url(#clip382)\" d=\"M1455.28 722.572 L1455.28 1445.72 L1584.84 1445.72 L1584.84 722.572 L1455.28 722.572 L1455.28 722.572  Z\" fill=\"#009af9\" fill-rule=\"evenodd\" fill-opacity=\"1\"/>\n",
       "<polyline clip-path=\"url(#clip382)\" style=\"stroke:#000000; stroke-linecap:round; stroke-linejoin:round; stroke-width:4; stroke-opacity:1; fill:none\" points=\"1455.28,722.572 1455.28,1445.72 1584.84,1445.72 1584.84,722.572 1455.28,722.572 \"/>\n",
       "<path clip-path=\"url(#clip382)\" d=\"M1584.84 1128.42 L1584.84 1445.72 L1714.4 1445.72 L1714.4 1128.42 L1584.84 1128.42 L1584.84 1128.42  Z\" fill=\"#009af9\" fill-rule=\"evenodd\" fill-opacity=\"1\"/>\n",
       "<polyline clip-path=\"url(#clip382)\" style=\"stroke:#000000; stroke-linecap:round; stroke-linejoin:round; stroke-width:4; stroke-opacity:1; fill:none\" points=\"1584.84,1128.42 1584.84,1445.72 1714.4,1445.72 1714.4,1128.42 1584.84,1128.42 \"/>\n",
       "<path clip-path=\"url(#clip382)\" d=\"M1714.4 1342.41 L1714.4 1445.72 L1843.97 1445.72 L1843.97 1342.41 L1714.4 1342.41 L1714.4 1342.41  Z\" fill=\"#009af9\" fill-rule=\"evenodd\" fill-opacity=\"1\"/>\n",
       "<polyline clip-path=\"url(#clip382)\" style=\"stroke:#000000; stroke-linecap:round; stroke-linejoin:round; stroke-width:4; stroke-opacity:1; fill:none\" points=\"1714.4,1342.41 1714.4,1445.72 1843.97,1445.72 1843.97,1342.41 1714.4,1342.41 \"/>\n",
       "<path clip-path=\"url(#clip382)\" d=\"M1843.97 1408.82 L1843.97 1445.72 L1973.53 1445.72 L1973.53 1408.82 L1843.97 1408.82 L1843.97 1408.82  Z\" fill=\"#009af9\" fill-rule=\"evenodd\" fill-opacity=\"1\"/>\n",
       "<polyline clip-path=\"url(#clip382)\" style=\"stroke:#000000; stroke-linecap:round; stroke-linejoin:round; stroke-width:4; stroke-opacity:1; fill:none\" points=\"1843.97,1408.82 1843.97,1445.72 1973.53,1445.72 1973.53,1408.82 1843.97,1408.82 \"/>\n",
       "<path clip-path=\"url(#clip382)\" d=\"M1973.53 1416.2 L1973.53 1445.72 L2103.09 1445.72 L2103.09 1416.2 L1973.53 1416.2 L1973.53 1416.2  Z\" fill=\"#009af9\" fill-rule=\"evenodd\" fill-opacity=\"1\"/>\n",
       "<polyline clip-path=\"url(#clip382)\" style=\"stroke:#000000; stroke-linecap:round; stroke-linejoin:round; stroke-width:4; stroke-opacity:1; fill:none\" points=\"1973.53,1416.2 1973.53,1445.72 2103.09,1445.72 2103.09,1416.2 1973.53,1416.2 \"/>\n",
       "<path clip-path=\"url(#clip382)\" d=\"M2103.09 1438.34 L2103.09 1445.72 L2232.65 1445.72 L2232.65 1438.34 L2103.09 1438.34 L2103.09 1438.34  Z\" fill=\"#009af9\" fill-rule=\"evenodd\" fill-opacity=\"1\"/>\n",
       "<polyline clip-path=\"url(#clip382)\" style=\"stroke:#000000; stroke-linecap:round; stroke-linejoin:round; stroke-width:4; stroke-opacity:1; fill:none\" points=\"2103.09,1438.34 2103.09,1445.72 2232.65,1445.72 2232.65,1438.34 2103.09,1438.34 \"/>\n",
       "<circle clip-path=\"url(#clip382)\" style=\"fill:#009af9; stroke:none; fill-opacity:0\" cx=\"354.006\" cy=\"1430.96\" r=\"2\"/>\n",
       "<circle clip-path=\"url(#clip382)\" style=\"fill:#009af9; stroke:none; fill-opacity:0\" cx=\"483.568\" cy=\"1430.96\" r=\"2\"/>\n",
       "<circle clip-path=\"url(#clip382)\" style=\"fill:#009af9; stroke:none; fill-opacity:0\" cx=\"613.13\" cy=\"1312.89\" r=\"2\"/>\n",
       "<circle clip-path=\"url(#clip382)\" style=\"fill:#009af9; stroke:none; fill-opacity:0\" cx=\"742.691\" cy=\"1069.39\" r=\"2\"/>\n",
       "<circle clip-path=\"url(#clip382)\" style=\"fill:#009af9; stroke:none; fill-opacity:0\" cx=\"872.253\" cy=\"604.508\" r=\"2\"/>\n",
       "<circle clip-path=\"url(#clip382)\" style=\"fill:#009af9; stroke:none; fill-opacity:0\" cx=\"1001.82\" cy=\"361\" r=\"2\"/>\n",
       "<circle clip-path=\"url(#clip382)\" style=\"fill:#009af9; stroke:none; fill-opacity:0\" cx=\"1131.38\" cy=\"87.9763\" r=\"2\"/>\n",
       "<circle clip-path=\"url(#clip382)\" style=\"fill:#009af9; stroke:none; fill-opacity:0\" cx=\"1260.94\" cy=\"102.734\" r=\"2\"/>\n",
       "<circle clip-path=\"url(#clip382)\" style=\"fill:#009af9; stroke:none; fill-opacity:0\" cx=\"1390.5\" cy=\"449.548\" r=\"2\"/>\n",
       "<circle clip-path=\"url(#clip382)\" style=\"fill:#009af9; stroke:none; fill-opacity:0\" cx=\"1520.06\" cy=\"722.572\" r=\"2\"/>\n",
       "<circle clip-path=\"url(#clip382)\" style=\"fill:#009af9; stroke:none; fill-opacity:0\" cx=\"1649.62\" cy=\"1128.42\" r=\"2\"/>\n",
       "<circle clip-path=\"url(#clip382)\" style=\"fill:#009af9; stroke:none; fill-opacity:0\" cx=\"1779.19\" cy=\"1342.41\" r=\"2\"/>\n",
       "<circle clip-path=\"url(#clip382)\" style=\"fill:#009af9; stroke:none; fill-opacity:0\" cx=\"1908.75\" cy=\"1408.82\" r=\"2\"/>\n",
       "<circle clip-path=\"url(#clip382)\" style=\"fill:#009af9; stroke:none; fill-opacity:0\" cx=\"2038.31\" cy=\"1416.2\" r=\"2\"/>\n",
       "<circle clip-path=\"url(#clip382)\" style=\"fill:#009af9; stroke:none; fill-opacity:0\" cx=\"2167.87\" cy=\"1438.34\" r=\"2\"/>\n",
       "<path clip-path=\"url(#clip380)\" d=\"M2009.17 198.898 L2279.97 198.898 L2279.97 95.2176 L2009.17 95.2176  Z\" fill=\"#ffffff\" fill-rule=\"evenodd\" fill-opacity=\"1\"/>\n",
       "<polyline clip-path=\"url(#clip380)\" style=\"stroke:#000000; stroke-linecap:round; stroke-linejoin:round; stroke-width:4; stroke-opacity:1; fill:none\" points=\"2009.17,198.898 2279.97,198.898 2279.97,95.2176 2009.17,95.2176 2009.17,198.898 \"/>\n",
       "<path clip-path=\"url(#clip380)\" d=\"M2033.44 167.794 L2179.01 167.794 L2179.01 126.322 L2033.44 126.322 L2033.44 167.794  Z\" fill=\"#009af9\" fill-rule=\"evenodd\" fill-opacity=\"1\"/>\n",
       "<polyline clip-path=\"url(#clip380)\" style=\"stroke:#000000; stroke-linecap:round; stroke-linejoin:round; stroke-width:4; stroke-opacity:1; fill:none\" points=\"2033.44,167.794 2179.01,167.794 2179.01,126.322 2033.44,126.322 2033.44,167.794 \"/>\n",
       "<path clip-path=\"url(#clip380)\" d=\"M2217.12 166.745 Q2215.31 171.375 2213.6 172.787 Q2211.89 174.199 2209.02 174.199 L2205.61 174.199 L2205.61 170.634 L2208.11 170.634 Q2209.87 170.634 2210.84 169.8 Q2211.82 168.967 2213 165.865 L2213.76 163.921 L2203.28 138.412 L2207.79 138.412 L2215.89 158.689 L2223.99 138.412 L2228.51 138.412 L2217.12 166.745 Z\" fill=\"#000000\" fill-rule=\"evenodd\" fill-opacity=\"1\" /><path clip-path=\"url(#clip380)\" d=\"M2235.8 160.402 L2243.44 160.402 L2243.44 134.037 L2235.13 135.703 L2235.13 131.444 L2243.39 129.778 L2248.07 129.778 L2248.07 160.402 L2255.71 160.402 L2255.71 164.338 L2235.8 164.338 L2235.8 160.402 Z\" fill=\"#000000\" fill-rule=\"evenodd\" fill-opacity=\"1\" /></svg>\n"
      ]
     },
     "execution_count": 45,
     "metadata": {},
     "output_type": "execute_result"
    }
   ],
   "source": [
    "using Plots\n",
    "histogram(random)"
   ]
  },
  {
   "cell_type": "markdown",
   "id": "acf09989",
   "metadata": {},
   "source": [
    "### 3.3\n",
    "\n",
    "#### Plot  the same distribution and change the bins to 50"
   ]
  },
  {
   "cell_type": "code",
   "execution_count": 47,
   "id": "f640420a",
   "metadata": {},
   "outputs": [
    {
     "data": {
      "image/svg+xml": [
       "<?xml version=\"1.0\" encoding=\"utf-8\"?>\n",
       "<svg xmlns=\"http://www.w3.org/2000/svg\" xmlns:xlink=\"http://www.w3.org/1999/xlink\" width=\"600\" height=\"400\" viewBox=\"0 0 2400 1600\">\n",
       "<defs>\n",
       "  <clipPath id=\"clip460\">\n",
       "    <rect x=\"0\" y=\"0\" width=\"2400\" height=\"1600\"/>\n",
       "  </clipPath>\n",
       "</defs>\n",
       "<path clip-path=\"url(#clip460)\" d=\"M0 1600 L2400 1600 L2400 0 L0 0  Z\" fill=\"#ffffff\" fill-rule=\"evenodd\" fill-opacity=\"1\"/>\n",
       "<defs>\n",
       "  <clipPath id=\"clip461\">\n",
       "    <rect x=\"480\" y=\"0\" width=\"1681\" height=\"1600\"/>\n",
       "  </clipPath>\n",
       "</defs>\n",
       "<path clip-path=\"url(#clip460)\" d=\"M141.853 1486.45 L2352.76 1486.45 L2352.76 47.2441 L141.853 47.2441  Z\" fill=\"#ffffff\" fill-rule=\"evenodd\" fill-opacity=\"1\"/>\n",
       "<defs>\n",
       "  <clipPath id=\"clip462\">\n",
       "    <rect x=\"141\" y=\"47\" width=\"2212\" height=\"1440\"/>\n",
       "  </clipPath>\n",
       "</defs>\n",
       "<polyline clip-path=\"url(#clip462)\" style=\"stroke:#000000; stroke-linecap:round; stroke-linejoin:round; stroke-width:2; stroke-opacity:0.1; fill:none\" points=\"591.406,1486.45 591.406,47.2441 \"/>\n",
       "<polyline clip-path=\"url(#clip462)\" style=\"stroke:#000000; stroke-linecap:round; stroke-linejoin:round; stroke-width:2; stroke-opacity:0.1; fill:none\" points=\"1137.99,1486.45 1137.99,47.2441 \"/>\n",
       "<polyline clip-path=\"url(#clip462)\" style=\"stroke:#000000; stroke-linecap:round; stroke-linejoin:round; stroke-width:2; stroke-opacity:0.1; fill:none\" points=\"1684.57,1486.45 1684.57,47.2441 \"/>\n",
       "<polyline clip-path=\"url(#clip462)\" style=\"stroke:#000000; stroke-linecap:round; stroke-linejoin:round; stroke-width:2; stroke-opacity:0.1; fill:none\" points=\"2231.15,1486.45 2231.15,47.2441 \"/>\n",
       "<polyline clip-path=\"url(#clip460)\" style=\"stroke:#000000; stroke-linecap:round; stroke-linejoin:round; stroke-width:4; stroke-opacity:1; fill:none\" points=\"141.853,1486.45 2352.76,1486.45 \"/>\n",
       "<polyline clip-path=\"url(#clip460)\" style=\"stroke:#000000; stroke-linecap:round; stroke-linejoin:round; stroke-width:4; stroke-opacity:1; fill:none\" points=\"591.406,1486.45 591.406,1467.55 \"/>\n",
       "<polyline clip-path=\"url(#clip460)\" style=\"stroke:#000000; stroke-linecap:round; stroke-linejoin:round; stroke-width:4; stroke-opacity:1; fill:none\" points=\"1137.99,1486.45 1137.99,1467.55 \"/>\n",
       "<polyline clip-path=\"url(#clip460)\" style=\"stroke:#000000; stroke-linecap:round; stroke-linejoin:round; stroke-width:4; stroke-opacity:1; fill:none\" points=\"1684.57,1486.45 1684.57,1467.55 \"/>\n",
       "<polyline clip-path=\"url(#clip460)\" style=\"stroke:#000000; stroke-linecap:round; stroke-linejoin:round; stroke-width:4; stroke-opacity:1; fill:none\" points=\"2231.15,1486.45 2231.15,1467.55 \"/>\n",
       "<path clip-path=\"url(#clip460)\" d=\"M561.348 1532.02 L591.024 1532.02 L591.024 1535.95 L561.348 1535.95 L561.348 1532.02 Z\" fill=\"#000000\" fill-rule=\"evenodd\" fill-opacity=\"1\" /><path clip-path=\"url(#clip460)\" d=\"M605.144 1544.91 L621.464 1544.91 L621.464 1548.85 L599.519 1548.85 L599.519 1544.91 Q602.181 1542.16 606.765 1537.53 Q611.371 1532.88 612.552 1531.53 Q614.797 1529.01 615.677 1527.27 Q616.579 1525.51 616.579 1523.82 Q616.579 1521.07 614.635 1519.33 Q612.714 1517.6 609.612 1517.6 Q607.413 1517.6 604.959 1518.36 Q602.528 1519.13 599.751 1520.68 L599.751 1515.95 Q602.575 1514.82 605.028 1514.24 Q607.482 1513.66 609.519 1513.66 Q614.89 1513.66 618.084 1516.35 Q621.278 1519.03 621.278 1523.52 Q621.278 1525.65 620.468 1527.57 Q619.681 1529.47 617.575 1532.07 Q616.996 1532.74 613.894 1535.95 Q610.792 1539.15 605.144 1544.91 Z\" fill=\"#000000\" fill-rule=\"evenodd\" fill-opacity=\"1\" /><path clip-path=\"url(#clip460)\" d=\"M1137.99 1517.37 Q1134.38 1517.37 1132.55 1520.93 Q1130.74 1524.47 1130.74 1531.6 Q1130.74 1538.71 1132.55 1542.27 Q1134.38 1545.82 1137.99 1545.82 Q1141.62 1545.82 1143.43 1542.27 Q1145.26 1538.71 1145.26 1531.6 Q1145.26 1524.47 1143.43 1520.93 Q1141.62 1517.37 1137.99 1517.37 M1137.99 1513.66 Q1143.8 1513.66 1146.85 1518.27 Q1149.93 1522.85 1149.93 1531.6 Q1149.93 1540.33 1146.85 1544.94 Q1143.8 1549.52 1137.99 1549.52 Q1132.18 1549.52 1129.1 1544.94 Q1126.04 1540.33 1126.04 1531.6 Q1126.04 1522.85 1129.1 1518.27 Q1132.18 1513.66 1137.99 1513.66 Z\" fill=\"#000000\" fill-rule=\"evenodd\" fill-opacity=\"1\" /><path clip-path=\"url(#clip460)\" d=\"M1679.22 1544.91 L1695.54 1544.91 L1695.54 1548.85 L1673.6 1548.85 L1673.6 1544.91 Q1676.26 1542.16 1680.84 1537.53 Q1685.45 1532.88 1686.63 1531.53 Q1688.88 1529.01 1689.76 1527.27 Q1690.66 1525.51 1690.66 1523.82 Q1690.66 1521.07 1688.71 1519.33 Q1686.79 1517.6 1683.69 1517.6 Q1681.49 1517.6 1679.04 1518.36 Q1676.61 1519.13 1673.83 1520.68 L1673.83 1515.95 Q1676.65 1514.82 1679.11 1514.24 Q1681.56 1513.66 1683.6 1513.66 Q1688.97 1513.66 1692.16 1516.35 Q1695.36 1519.03 1695.36 1523.52 Q1695.36 1525.65 1694.55 1527.57 Q1693.76 1529.47 1691.65 1532.07 Q1691.07 1532.74 1687.97 1535.95 Q1684.87 1539.15 1679.22 1544.91 Z\" fill=\"#000000\" fill-rule=\"evenodd\" fill-opacity=\"1\" /><path clip-path=\"url(#clip460)\" d=\"M2234.16 1518.36 L2222.36 1536.81 L2234.16 1536.81 L2234.16 1518.36 M2232.93 1514.29 L2238.81 1514.29 L2238.81 1536.81 L2243.74 1536.81 L2243.74 1540.7 L2238.81 1540.7 L2238.81 1548.85 L2234.16 1548.85 L2234.16 1540.7 L2218.56 1540.7 L2218.56 1536.19 L2232.93 1514.29 Z\" fill=\"#000000\" fill-rule=\"evenodd\" fill-opacity=\"1\" /><polyline clip-path=\"url(#clip462)\" style=\"stroke:#000000; stroke-linecap:round; stroke-linejoin:round; stroke-width:2; stroke-opacity:0.1; fill:none\" points=\"141.853,1445.72 2352.76,1445.72 \"/>\n",
       "<polyline clip-path=\"url(#clip462)\" style=\"stroke:#000000; stroke-linecap:round; stroke-linejoin:round; stroke-width:2; stroke-opacity:0.1; fill:none\" points=\"141.853,1110.47 2352.76,1110.47 \"/>\n",
       "<polyline clip-path=\"url(#clip462)\" style=\"stroke:#000000; stroke-linecap:round; stroke-linejoin:round; stroke-width:2; stroke-opacity:0.1; fill:none\" points=\"141.853,775.227 2352.76,775.227 \"/>\n",
       "<polyline clip-path=\"url(#clip462)\" style=\"stroke:#000000; stroke-linecap:round; stroke-linejoin:round; stroke-width:2; stroke-opacity:0.1; fill:none\" points=\"141.853,439.983 2352.76,439.983 \"/>\n",
       "<polyline clip-path=\"url(#clip462)\" style=\"stroke:#000000; stroke-linecap:round; stroke-linejoin:round; stroke-width:2; stroke-opacity:0.1; fill:none\" points=\"141.853,104.738 2352.76,104.738 \"/>\n",
       "<polyline clip-path=\"url(#clip460)\" style=\"stroke:#000000; stroke-linecap:round; stroke-linejoin:round; stroke-width:4; stroke-opacity:1; fill:none\" points=\"141.853,1486.45 141.853,47.2441 \"/>\n",
       "<polyline clip-path=\"url(#clip460)\" style=\"stroke:#000000; stroke-linecap:round; stroke-linejoin:round; stroke-width:4; stroke-opacity:1; fill:none\" points=\"141.853,1445.72 160.751,1445.72 \"/>\n",
       "<polyline clip-path=\"url(#clip460)\" style=\"stroke:#000000; stroke-linecap:round; stroke-linejoin:round; stroke-width:4; stroke-opacity:1; fill:none\" points=\"141.853,1110.47 160.751,1110.47 \"/>\n",
       "<polyline clip-path=\"url(#clip460)\" style=\"stroke:#000000; stroke-linecap:round; stroke-linejoin:round; stroke-width:4; stroke-opacity:1; fill:none\" points=\"141.853,775.227 160.751,775.227 \"/>\n",
       "<polyline clip-path=\"url(#clip460)\" style=\"stroke:#000000; stroke-linecap:round; stroke-linejoin:round; stroke-width:4; stroke-opacity:1; fill:none\" points=\"141.853,439.983 160.751,439.983 \"/>\n",
       "<polyline clip-path=\"url(#clip460)\" style=\"stroke:#000000; stroke-linecap:round; stroke-linejoin:round; stroke-width:4; stroke-opacity:1; fill:none\" points=\"141.853,104.738 160.751,104.738 \"/>\n",
       "<path clip-path=\"url(#clip460)\" d=\"M93.9086 1431.51 Q90.2975 1431.51 88.4688 1435.08 Q86.6632 1438.62 86.6632 1445.75 Q86.6632 1452.86 88.4688 1456.42 Q90.2975 1459.96 93.9086 1459.96 Q97.5428 1459.96 99.3483 1456.42 Q101.177 1452.86 101.177 1445.75 Q101.177 1438.62 99.3483 1435.08 Q97.5428 1431.51 93.9086 1431.51 M93.9086 1427.81 Q99.7187 1427.81 102.774 1432.42 Q105.853 1437 105.853 1445.75 Q105.853 1454.48 102.774 1459.08 Q99.7187 1463.67 93.9086 1463.67 Q88.0984 1463.67 85.0197 1459.08 Q81.9642 1454.48 81.9642 1445.75 Q81.9642 1437 85.0197 1432.42 Q88.0984 1427.81 93.9086 1427.81 Z\" fill=\"#000000\" fill-rule=\"evenodd\" fill-opacity=\"1\" /><path clip-path=\"url(#clip460)\" d=\"M57.7745 1123.82 L74.0939 1123.82 L74.0939 1127.75 L52.1495 1127.75 L52.1495 1123.82 Q54.8115 1121.06 59.3949 1116.43 Q64.0013 1111.78 65.1819 1110.44 Q67.4272 1107.91 68.3068 1106.18 Q69.2096 1104.42 69.2096 1102.73 Q69.2096 1099.97 67.2652 1098.24 Q65.3439 1096.5 62.2421 1096.5 Q60.043 1096.5 57.5893 1097.27 Q55.1588 1098.03 52.381 1099.58 L52.381 1094.86 Q55.2051 1093.72 57.6588 1093.15 Q60.1124 1092.57 62.1495 1092.57 Q67.5198 1092.57 70.7142 1095.25 Q73.9087 1097.94 73.9087 1102.43 Q73.9087 1104.56 73.0985 1106.48 Q72.3115 1108.38 70.205 1110.97 Q69.6263 1111.64 66.5245 1114.86 Q63.4226 1118.05 57.7745 1123.82 Z\" fill=\"#000000\" fill-rule=\"evenodd\" fill-opacity=\"1\" /><path clip-path=\"url(#clip460)\" d=\"M93.9086 1096.27 Q90.2975 1096.27 88.4688 1099.83 Q86.6632 1103.38 86.6632 1110.51 Q86.6632 1117.61 88.4688 1121.18 Q90.2975 1124.72 93.9086 1124.72 Q97.5428 1124.72 99.3483 1121.18 Q101.177 1117.61 101.177 1110.51 Q101.177 1103.38 99.3483 1099.83 Q97.5428 1096.27 93.9086 1096.27 M93.9086 1092.57 Q99.7187 1092.57 102.774 1097.17 Q105.853 1101.76 105.853 1110.51 Q105.853 1119.23 102.774 1123.84 Q99.7187 1128.42 93.9086 1128.42 Q88.0984 1128.42 85.0197 1123.84 Q81.9642 1119.23 81.9642 1110.51 Q81.9642 1101.76 85.0197 1097.17 Q88.0984 1092.57 93.9086 1092.57 Z\" fill=\"#000000\" fill-rule=\"evenodd\" fill-opacity=\"1\" /><path clip-path=\"url(#clip460)\" d=\"M66.5939 762.021 L54.7884 780.47 L66.5939 780.47 L66.5939 762.021 M65.367 757.947 L71.2466 757.947 L71.2466 780.47 L76.1772 780.47 L76.1772 784.359 L71.2466 784.359 L71.2466 792.507 L66.5939 792.507 L66.5939 784.359 L50.9921 784.359 L50.9921 779.845 L65.367 757.947 Z\" fill=\"#000000\" fill-rule=\"evenodd\" fill-opacity=\"1\" /><path clip-path=\"url(#clip460)\" d=\"M93.9086 761.026 Q90.2975 761.026 88.4688 764.591 Q86.6632 768.132 86.6632 775.262 Q86.6632 782.368 88.4688 785.933 Q90.2975 789.475 93.9086 789.475 Q97.5428 789.475 99.3483 785.933 Q101.177 782.368 101.177 775.262 Q101.177 768.132 99.3483 764.591 Q97.5428 761.026 93.9086 761.026 M93.9086 757.322 Q99.7187 757.322 102.774 761.929 Q105.853 766.512 105.853 775.262 Q105.853 783.989 102.774 788.595 Q99.7187 793.178 93.9086 793.178 Q88.0984 793.178 85.0197 788.595 Q81.9642 783.989 81.9642 775.262 Q81.9642 766.512 85.0197 761.929 Q88.0984 757.322 93.9086 757.322 Z\" fill=\"#000000\" fill-rule=\"evenodd\" fill-opacity=\"1\" /><path clip-path=\"url(#clip460)\" d=\"M64.3254 438.119 Q61.1773 438.119 59.3254 440.272 Q57.4967 442.425 57.4967 446.175 Q57.4967 449.902 59.3254 452.078 Q61.1773 454.23 64.3254 454.23 Q67.4735 454.23 69.3022 452.078 Q71.1541 449.902 71.1541 446.175 Q71.1541 442.425 69.3022 440.272 Q67.4735 438.119 64.3254 438.119 M73.6077 423.467 L73.6077 427.726 Q71.8485 426.893 70.0429 426.453 Q68.2606 426.013 66.5013 426.013 Q61.8717 426.013 59.418 429.138 Q56.9875 432.263 56.6402 438.582 Q58.006 436.568 60.0662 435.504 Q62.1263 434.416 64.6032 434.416 Q69.8115 434.416 72.8207 437.587 Q75.8531 440.735 75.8531 446.175 Q75.8531 451.499 72.705 454.717 Q69.5568 457.934 64.3254 457.934 Q58.33 457.934 55.1588 453.351 Q51.9875 448.744 51.9875 440.018 Q51.9875 431.823 55.8764 426.962 Q59.7652 422.078 66.3161 422.078 Q68.0754 422.078 69.8578 422.425 Q71.6633 422.772 73.6077 423.467 Z\" fill=\"#000000\" fill-rule=\"evenodd\" fill-opacity=\"1\" /><path clip-path=\"url(#clip460)\" d=\"M93.9086 425.781 Q90.2975 425.781 88.4688 429.346 Q86.6632 432.888 86.6632 440.018 Q86.6632 447.124 88.4688 450.689 Q90.2975 454.23 93.9086 454.23 Q97.5428 454.23 99.3483 450.689 Q101.177 447.124 101.177 440.018 Q101.177 432.888 99.3483 429.346 Q97.5428 425.781 93.9086 425.781 M93.9086 422.078 Q99.7187 422.078 102.774 426.684 Q105.853 431.268 105.853 440.018 Q105.853 448.744 102.774 453.351 Q99.7187 457.934 93.9086 457.934 Q88.0984 457.934 85.0197 453.351 Q81.9642 448.744 81.9642 440.018 Q81.9642 431.268 85.0197 426.684 Q88.0984 422.078 93.9086 422.078 Z\" fill=\"#000000\" fill-rule=\"evenodd\" fill-opacity=\"1\" /><path clip-path=\"url(#clip460)\" d=\"M63.7467 105.607 Q60.4134 105.607 58.4921 107.389 Q56.5939 109.171 56.5939 112.296 Q56.5939 115.421 58.4921 117.204 Q60.4134 118.986 63.7467 118.986 Q67.08 118.986 69.0013 117.204 Q70.9226 115.398 70.9226 112.296 Q70.9226 109.171 69.0013 107.389 Q67.1032 105.607 63.7467 105.607 M59.0708 103.616 Q56.0615 102.875 54.3717 100.815 Q52.7051 98.7547 52.7051 95.7918 Q52.7051 91.6483 55.6449 89.2409 Q58.6078 86.8335 63.7467 86.8335 Q68.9087 86.8335 71.8485 89.2409 Q74.7883 91.6483 74.7883 95.7918 Q74.7883 98.7547 73.0985 100.815 Q71.4318 102.875 68.4457 103.616 Q71.8253 104.403 73.7003 106.694 Q75.5985 108.986 75.5985 112.296 Q75.5985 117.319 72.5198 120.005 Q69.4642 122.69 63.7467 122.69 Q58.0291 122.69 54.9504 120.005 Q51.8949 117.319 51.8949 112.296 Q51.8949 108.986 53.793 106.694 Q55.6912 104.403 59.0708 103.616 M57.3578 96.2316 Q57.3578 98.9168 59.0245 100.421 Q60.7143 101.926 63.7467 101.926 Q66.7559 101.926 68.4457 100.421 Q70.1587 98.9168 70.1587 96.2316 Q70.1587 93.5464 68.4457 92.0418 Q66.7559 90.5372 63.7467 90.5372 Q60.7143 90.5372 59.0245 92.0418 Q57.3578 93.5464 57.3578 96.2316 Z\" fill=\"#000000\" fill-rule=\"evenodd\" fill-opacity=\"1\" /><path clip-path=\"url(#clip460)\" d=\"M93.9086 90.5372 Q90.2975 90.5372 88.4688 94.102 Q86.6632 97.6436 86.6632 104.773 Q86.6632 111.88 88.4688 115.444 Q90.2975 118.986 93.9086 118.986 Q97.5428 118.986 99.3483 115.444 Q101.177 111.88 101.177 104.773 Q101.177 97.6436 99.3483 94.102 Q97.5428 90.5372 93.9086 90.5372 M93.9086 86.8335 Q99.7187 86.8335 102.774 91.44 Q105.853 96.0233 105.853 104.773 Q105.853 113.5 102.774 118.106 Q99.7187 122.69 93.9086 122.69 Q88.0984 122.69 85.0197 118.106 Q81.9642 113.5 81.9642 104.773 Q81.9642 96.0233 85.0197 91.44 Q88.0984 86.8335 93.9086 86.8335 Z\" fill=\"#000000\" fill-rule=\"evenodd\" fill-opacity=\"1\" /><path clip-path=\"url(#clip462)\" d=\"M263.457 1412.19 L263.457 1445.72 L318.115 1445.72 L318.115 1412.19 L263.457 1412.19 L263.457 1412.19  Z\" fill=\"#009af9\" fill-rule=\"evenodd\" fill-opacity=\"1\"/>\n",
       "<polyline clip-path=\"url(#clip462)\" style=\"stroke:#000000; stroke-linecap:round; stroke-linejoin:round; stroke-width:4; stroke-opacity:1; fill:none\" points=\"263.457,1412.19 263.457,1445.72 318.115,1445.72 318.115,1412.19 263.457,1412.19 \"/>\n",
       "<path clip-path=\"url(#clip462)\" d=\"M318.115 1428.95 L318.115 1445.72 L372.773 1445.72 L372.773 1428.95 L318.115 1428.95 L318.115 1428.95  Z\" fill=\"#009af9\" fill-rule=\"evenodd\" fill-opacity=\"1\"/>\n",
       "<polyline clip-path=\"url(#clip462)\" style=\"stroke:#000000; stroke-linecap:round; stroke-linejoin:round; stroke-width:4; stroke-opacity:1; fill:none\" points=\"318.115,1428.95 318.115,1445.72 372.773,1445.72 372.773,1428.95 318.115,1428.95 \"/>\n",
       "<path clip-path=\"url(#clip462)\" d=\"M372.773 1445.72 L372.773 1445.72 L427.431 1445.72 L427.431 1445.72 L372.773 1445.72 L372.773 1445.72  Z\" fill=\"#009af9\" fill-rule=\"evenodd\" fill-opacity=\"1\"/>\n",
       "<polyline clip-path=\"url(#clip462)\" style=\"stroke:#000000; stroke-linecap:round; stroke-linejoin:round; stroke-width:4; stroke-opacity:1; fill:none\" points=\"372.773,1445.72 372.773,1445.72 427.431,1445.72 372.773,1445.72 \"/>\n",
       "<path clip-path=\"url(#clip462)\" d=\"M427.431 1378.67 L427.431 1445.72 L482.089 1445.72 L482.089 1378.67 L427.431 1378.67 L427.431 1378.67  Z\" fill=\"#009af9\" fill-rule=\"evenodd\" fill-opacity=\"1\"/>\n",
       "<polyline clip-path=\"url(#clip462)\" style=\"stroke:#000000; stroke-linecap:round; stroke-linejoin:round; stroke-width:4; stroke-opacity:1; fill:none\" points=\"427.431,1378.67 427.431,1445.72 482.089,1445.72 482.089,1378.67 427.431,1378.67 \"/>\n",
       "<path clip-path=\"url(#clip462)\" d=\"M482.089 1328.38 L482.089 1445.72 L536.748 1445.72 L536.748 1328.38 L482.089 1328.38 L482.089 1328.38  Z\" fill=\"#009af9\" fill-rule=\"evenodd\" fill-opacity=\"1\"/>\n",
       "<polyline clip-path=\"url(#clip462)\" style=\"stroke:#000000; stroke-linecap:round; stroke-linejoin:round; stroke-width:4; stroke-opacity:1; fill:none\" points=\"482.089,1328.38 482.089,1445.72 536.748,1445.72 536.748,1328.38 482.089,1328.38 \"/>\n",
       "<path clip-path=\"url(#clip462)\" d=\"M536.748 1311.62 L536.748 1445.72 L591.406 1445.72 L591.406 1311.62 L536.748 1311.62 L536.748 1311.62  Z\" fill=\"#009af9\" fill-rule=\"evenodd\" fill-opacity=\"1\"/>\n",
       "<polyline clip-path=\"url(#clip462)\" style=\"stroke:#000000; stroke-linecap:round; stroke-linejoin:round; stroke-width:4; stroke-opacity:1; fill:none\" points=\"536.748,1311.62 536.748,1445.72 591.406,1445.72 591.406,1311.62 536.748,1311.62 \"/>\n",
       "<path clip-path=\"url(#clip462)\" d=\"M591.406 1194.28 L591.406 1445.72 L646.064 1445.72 L646.064 1194.28 L591.406 1194.28 L591.406 1194.28  Z\" fill=\"#009af9\" fill-rule=\"evenodd\" fill-opacity=\"1\"/>\n",
       "<polyline clip-path=\"url(#clip462)\" style=\"stroke:#000000; stroke-linecap:round; stroke-linejoin:round; stroke-width:4; stroke-opacity:1; fill:none\" points=\"591.406,1194.28 591.406,1445.72 646.064,1445.72 646.064,1194.28 591.406,1194.28 \"/>\n",
       "<path clip-path=\"url(#clip462)\" d=\"M646.064 1060.18 L646.064 1445.72 L700.722 1445.72 L700.722 1060.18 L646.064 1060.18 L646.064 1060.18  Z\" fill=\"#009af9\" fill-rule=\"evenodd\" fill-opacity=\"1\"/>\n",
       "<polyline clip-path=\"url(#clip462)\" style=\"stroke:#000000; stroke-linecap:round; stroke-linejoin:round; stroke-width:4; stroke-opacity:1; fill:none\" points=\"646.064,1060.18 646.064,1445.72 700.722,1445.72 700.722,1060.18 646.064,1060.18 \"/>\n",
       "<path clip-path=\"url(#clip462)\" d=\"M700.722 926.087 L700.722 1445.72 L755.38 1445.72 L755.38 926.087 L700.722 926.087 L700.722 926.087  Z\" fill=\"#009af9\" fill-rule=\"evenodd\" fill-opacity=\"1\"/>\n",
       "<polyline clip-path=\"url(#clip462)\" style=\"stroke:#000000; stroke-linecap:round; stroke-linejoin:round; stroke-width:4; stroke-opacity:1; fill:none\" points=\"700.722,926.087 700.722,1445.72 755.38,1445.72 755.38,926.087 700.722,926.087 \"/>\n",
       "<path clip-path=\"url(#clip462)\" d=\"M755.38 775.227 L755.38 1445.72 L810.039 1445.72 L810.039 775.227 L755.38 775.227 L755.38 775.227  Z\" fill=\"#009af9\" fill-rule=\"evenodd\" fill-opacity=\"1\"/>\n",
       "<polyline clip-path=\"url(#clip462)\" style=\"stroke:#000000; stroke-linecap:round; stroke-linejoin:round; stroke-width:4; stroke-opacity:1; fill:none\" points=\"755.38,775.227 755.38,1445.72 810.039,1445.72 810.039,775.227 755.38,775.227 \"/>\n",
       "<path clip-path=\"url(#clip462)\" d=\"M810.039 507.032 L810.039 1445.72 L864.697 1445.72 L864.697 507.032 L810.039 507.032 L810.039 507.032  Z\" fill=\"#009af9\" fill-rule=\"evenodd\" fill-opacity=\"1\"/>\n",
       "<polyline clip-path=\"url(#clip462)\" style=\"stroke:#000000; stroke-linecap:round; stroke-linejoin:round; stroke-width:4; stroke-opacity:1; fill:none\" points=\"810.039,507.032 810.039,1445.72 864.697,1445.72 864.697,507.032 810.039,507.032 \"/>\n",
       "<path clip-path=\"url(#clip462)\" d=\"M864.697 507.032 L864.697 1445.72 L919.355 1445.72 L919.355 507.032 L864.697 507.032 L864.697 507.032  Z\" fill=\"#009af9\" fill-rule=\"evenodd\" fill-opacity=\"1\"/>\n",
       "<polyline clip-path=\"url(#clip462)\" style=\"stroke:#000000; stroke-linecap:round; stroke-linejoin:round; stroke-width:4; stroke-opacity:1; fill:none\" points=\"864.697,507.032 864.697,1445.72 919.355,1445.72 919.355,507.032 864.697,507.032 \"/>\n",
       "<path clip-path=\"url(#clip462)\" d=\"M919.355 490.269 L919.355 1445.72 L974.013 1445.72 L974.013 490.269 L919.355 490.269 L919.355 490.269  Z\" fill=\"#009af9\" fill-rule=\"evenodd\" fill-opacity=\"1\"/>\n",
       "<polyline clip-path=\"url(#clip462)\" style=\"stroke:#000000; stroke-linecap:round; stroke-linejoin:round; stroke-width:4; stroke-opacity:1; fill:none\" points=\"919.355,490.269 919.355,1445.72 974.013,1445.72 974.013,490.269 919.355,490.269 \"/>\n",
       "<path clip-path=\"url(#clip462)\" d=\"M974.013 272.361 L974.013 1445.72 L1028.67 1445.72 L1028.67 272.361 L974.013 272.361 L974.013 272.361  Z\" fill=\"#009af9\" fill-rule=\"evenodd\" fill-opacity=\"1\"/>\n",
       "<polyline clip-path=\"url(#clip462)\" style=\"stroke:#000000; stroke-linecap:round; stroke-linejoin:round; stroke-width:4; stroke-opacity:1; fill:none\" points=\"974.013,272.361 974.013,1445.72 1028.67,1445.72 1028.67,272.361 974.013,272.361 \"/>\n",
       "<path clip-path=\"url(#clip462)\" d=\"M1028.67 188.55 L1028.67 1445.72 L1083.33 1445.72 L1083.33 188.55 L1028.67 188.55 L1028.67 188.55  Z\" fill=\"#009af9\" fill-rule=\"evenodd\" fill-opacity=\"1\"/>\n",
       "<polyline clip-path=\"url(#clip462)\" style=\"stroke:#000000; stroke-linecap:round; stroke-linejoin:round; stroke-width:4; stroke-opacity:1; fill:none\" points=\"1028.67,188.55 1028.67,1445.72 1083.33,1445.72 1083.33,188.55 1028.67,188.55 \"/>\n",
       "<path clip-path=\"url(#clip462)\" d=\"M1083.33 222.074 L1083.33 1445.72 L1137.99 1445.72 L1137.99 222.074 L1083.33 222.074 L1083.33 222.074  Z\" fill=\"#009af9\" fill-rule=\"evenodd\" fill-opacity=\"1\"/>\n",
       "<polyline clip-path=\"url(#clip462)\" style=\"stroke:#000000; stroke-linecap:round; stroke-linejoin:round; stroke-width:4; stroke-opacity:1; fill:none\" points=\"1083.33,222.074 1083.33,1445.72 1137.99,1445.72 1137.99,222.074 1083.33,222.074 \"/>\n",
       "<path clip-path=\"url(#clip462)\" d=\"M1137.99 87.9763 L1137.99 1445.72 L1192.65 1445.72 L1192.65 87.9763 L1137.99 87.9763 L1137.99 87.9763  Z\" fill=\"#009af9\" fill-rule=\"evenodd\" fill-opacity=\"1\"/>\n",
       "<polyline clip-path=\"url(#clip462)\" style=\"stroke:#000000; stroke-linecap:round; stroke-linejoin:round; stroke-width:4; stroke-opacity:1; fill:none\" points=\"1137.99,87.9763 1137.99,1445.72 1192.65,1445.72 1192.65,87.9763 1137.99,87.9763 \"/>\n",
       "<path clip-path=\"url(#clip462)\" d=\"M1192.65 389.696 L1192.65 1445.72 L1247.3 1445.72 L1247.3 389.696 L1192.65 389.696 L1192.65 389.696  Z\" fill=\"#009af9\" fill-rule=\"evenodd\" fill-opacity=\"1\"/>\n",
       "<polyline clip-path=\"url(#clip462)\" style=\"stroke:#000000; stroke-linecap:round; stroke-linejoin:round; stroke-width:4; stroke-opacity:1; fill:none\" points=\"1192.65,389.696 1192.65,1445.72 1247.3,1445.72 1247.3,389.696 1192.65,389.696 \"/>\n",
       "<path clip-path=\"url(#clip462)\" d=\"M1247.3 339.41 L1247.3 1445.72 L1301.96 1445.72 L1301.96 339.41 L1247.3 339.41 L1247.3 339.41  Z\" fill=\"#009af9\" fill-rule=\"evenodd\" fill-opacity=\"1\"/>\n",
       "<polyline clip-path=\"url(#clip462)\" style=\"stroke:#000000; stroke-linecap:round; stroke-linejoin:round; stroke-width:4; stroke-opacity:1; fill:none\" points=\"1247.3,339.41 1247.3,1445.72 1301.96,1445.72 1301.96,339.41 1247.3,339.41 \"/>\n",
       "<path clip-path=\"url(#clip462)\" d=\"M1301.96 423.221 L1301.96 1445.72 L1356.62 1445.72 L1356.62 423.221 L1301.96 423.221 L1301.96 423.221  Z\" fill=\"#009af9\" fill-rule=\"evenodd\" fill-opacity=\"1\"/>\n",
       "<polyline clip-path=\"url(#clip462)\" style=\"stroke:#000000; stroke-linecap:round; stroke-linejoin:round; stroke-width:4; stroke-opacity:1; fill:none\" points=\"1301.96,423.221 1301.96,1445.72 1356.62,1445.72 1356.62,423.221 1301.96,423.221 \"/>\n",
       "<path clip-path=\"url(#clip462)\" d=\"M1356.62 674.654 L1356.62 1445.72 L1411.28 1445.72 L1411.28 674.654 L1356.62 674.654 L1356.62 674.654  Z\" fill=\"#009af9\" fill-rule=\"evenodd\" fill-opacity=\"1\"/>\n",
       "<polyline clip-path=\"url(#clip462)\" style=\"stroke:#000000; stroke-linecap:round; stroke-linejoin:round; stroke-width:4; stroke-opacity:1; fill:none\" points=\"1356.62,674.654 1356.62,1445.72 1411.28,1445.72 1411.28,674.654 1356.62,674.654 \"/>\n",
       "<path clip-path=\"url(#clip462)\" d=\"M1411.28 624.367 L1411.28 1445.72 L1465.94 1445.72 L1465.94 624.367 L1411.28 624.367 L1411.28 624.367  Z\" fill=\"#009af9\" fill-rule=\"evenodd\" fill-opacity=\"1\"/>\n",
       "<polyline clip-path=\"url(#clip462)\" style=\"stroke:#000000; stroke-linecap:round; stroke-linejoin:round; stroke-width:4; stroke-opacity:1; fill:none\" points=\"1411.28,624.367 1411.28,1445.72 1465.94,1445.72 1465.94,624.367 1411.28,624.367 \"/>\n",
       "<path clip-path=\"url(#clip462)\" d=\"M1465.94 859.038 L1465.94 1445.72 L1520.6 1445.72 L1520.6 859.038 L1465.94 859.038 L1465.94 859.038  Z\" fill=\"#009af9\" fill-rule=\"evenodd\" fill-opacity=\"1\"/>\n",
       "<polyline clip-path=\"url(#clip462)\" style=\"stroke:#000000; stroke-linecap:round; stroke-linejoin:round; stroke-width:4; stroke-opacity:1; fill:none\" points=\"1465.94,859.038 1465.94,1445.72 1520.6,1445.72 1520.6,859.038 1465.94,859.038 \"/>\n",
       "<path clip-path=\"url(#clip462)\" d=\"M1520.6 993.136 L1520.6 1445.72 L1575.25 1445.72 L1575.25 993.136 L1520.6 993.136 L1520.6 993.136  Z\" fill=\"#009af9\" fill-rule=\"evenodd\" fill-opacity=\"1\"/>\n",
       "<polyline clip-path=\"url(#clip462)\" style=\"stroke:#000000; stroke-linecap:round; stroke-linejoin:round; stroke-width:4; stroke-opacity:1; fill:none\" points=\"1520.6,993.136 1520.6,1445.72 1575.25,1445.72 1575.25,993.136 1520.6,993.136 \"/>\n",
       "<path clip-path=\"url(#clip462)\" d=\"M1575.25 1160.76 L1575.25 1445.72 L1629.91 1445.72 L1629.91 1160.76 L1575.25 1160.76 L1575.25 1160.76  Z\" fill=\"#009af9\" fill-rule=\"evenodd\" fill-opacity=\"1\"/>\n",
       "<polyline clip-path=\"url(#clip462)\" style=\"stroke:#000000; stroke-linecap:round; stroke-linejoin:round; stroke-width:4; stroke-opacity:1; fill:none\" points=\"1575.25,1160.76 1575.25,1445.72 1629.91,1445.72 1629.91,1160.76 1575.25,1160.76 \"/>\n",
       "<path clip-path=\"url(#clip462)\" d=\"M1629.91 1227.81 L1629.91 1445.72 L1684.57 1445.72 L1684.57 1227.81 L1629.91 1227.81 L1629.91 1227.81  Z\" fill=\"#009af9\" fill-rule=\"evenodd\" fill-opacity=\"1\"/>\n",
       "<polyline clip-path=\"url(#clip462)\" style=\"stroke:#000000; stroke-linecap:round; stroke-linejoin:round; stroke-width:4; stroke-opacity:1; fill:none\" points=\"1629.91,1227.81 1629.91,1445.72 1684.57,1445.72 1684.57,1227.81 1629.91,1227.81 \"/>\n",
       "<path clip-path=\"url(#clip462)\" d=\"M1684.57 1311.62 L1684.57 1445.72 L1739.23 1445.72 L1739.23 1311.62 L1684.57 1311.62 L1684.57 1311.62  Z\" fill=\"#009af9\" fill-rule=\"evenodd\" fill-opacity=\"1\"/>\n",
       "<polyline clip-path=\"url(#clip462)\" style=\"stroke:#000000; stroke-linecap:round; stroke-linejoin:round; stroke-width:4; stroke-opacity:1; fill:none\" points=\"1684.57,1311.62 1684.57,1445.72 1739.23,1445.72 1739.23,1311.62 1684.57,1311.62 \"/>\n",
       "<path clip-path=\"url(#clip462)\" d=\"M1739.23 1378.67 L1739.23 1445.72 L1793.89 1445.72 L1793.89 1378.67 L1739.23 1378.67 L1739.23 1378.67  Z\" fill=\"#009af9\" fill-rule=\"evenodd\" fill-opacity=\"1\"/>\n",
       "<polyline clip-path=\"url(#clip462)\" style=\"stroke:#000000; stroke-linecap:round; stroke-linejoin:round; stroke-width:4; stroke-opacity:1; fill:none\" points=\"1739.23,1378.67 1739.23,1445.72 1793.89,1445.72 1793.89,1378.67 1739.23,1378.67 \"/>\n",
       "<path clip-path=\"url(#clip462)\" d=\"M1793.89 1395.43 L1793.89 1445.72 L1848.54 1445.72 L1848.54 1395.43 L1793.89 1395.43 L1793.89 1395.43  Z\" fill=\"#009af9\" fill-rule=\"evenodd\" fill-opacity=\"1\"/>\n",
       "<polyline clip-path=\"url(#clip462)\" style=\"stroke:#000000; stroke-linecap:round; stroke-linejoin:round; stroke-width:4; stroke-opacity:1; fill:none\" points=\"1793.89,1395.43 1793.89,1445.72 1848.54,1445.72 1848.54,1395.43 1793.89,1395.43 \"/>\n",
       "<path clip-path=\"url(#clip462)\" d=\"M1848.54 1412.19 L1848.54 1445.72 L1903.2 1445.72 L1903.2 1412.19 L1848.54 1412.19 L1848.54 1412.19  Z\" fill=\"#009af9\" fill-rule=\"evenodd\" fill-opacity=\"1\"/>\n",
       "<polyline clip-path=\"url(#clip462)\" style=\"stroke:#000000; stroke-linecap:round; stroke-linejoin:round; stroke-width:4; stroke-opacity:1; fill:none\" points=\"1848.54,1412.19 1848.54,1445.72 1903.2,1445.72 1903.2,1412.19 1848.54,1412.19 \"/>\n",
       "<path clip-path=\"url(#clip462)\" d=\"M1903.2 1412.19 L1903.2 1445.72 L1957.86 1445.72 L1957.86 1412.19 L1903.2 1412.19 L1903.2 1412.19  Z\" fill=\"#009af9\" fill-rule=\"evenodd\" fill-opacity=\"1\"/>\n",
       "<polyline clip-path=\"url(#clip462)\" style=\"stroke:#000000; stroke-linecap:round; stroke-linejoin:round; stroke-width:4; stroke-opacity:1; fill:none\" points=\"1903.2,1412.19 1903.2,1445.72 1957.86,1445.72 1957.86,1412.19 1903.2,1412.19 \"/>\n",
       "<path clip-path=\"url(#clip462)\" d=\"M1957.86 1378.67 L1957.86 1445.72 L2012.52 1445.72 L2012.52 1378.67 L1957.86 1378.67 L1957.86 1378.67  Z\" fill=\"#009af9\" fill-rule=\"evenodd\" fill-opacity=\"1\"/>\n",
       "<polyline clip-path=\"url(#clip462)\" style=\"stroke:#000000; stroke-linecap:round; stroke-linejoin:round; stroke-width:4; stroke-opacity:1; fill:none\" points=\"1957.86,1378.67 1957.86,1445.72 2012.52,1445.72 2012.52,1378.67 1957.86,1378.67 \"/>\n",
       "<path clip-path=\"url(#clip462)\" d=\"M2012.52 1445.72 L2012.52 1445.72 L2067.18 1445.72 L2067.18 1445.72 L2012.52 1445.72 L2012.52 1445.72  Z\" fill=\"#009af9\" fill-rule=\"evenodd\" fill-opacity=\"1\"/>\n",
       "<polyline clip-path=\"url(#clip462)\" style=\"stroke:#000000; stroke-linecap:round; stroke-linejoin:round; stroke-width:4; stroke-opacity:1; fill:none\" points=\"2012.52,1445.72 2012.52,1445.72 2067.18,1445.72 2012.52,1445.72 \"/>\n",
       "<path clip-path=\"url(#clip462)\" d=\"M2067.18 1445.72 L2067.18 1445.72 L2121.84 1445.72 L2121.84 1445.72 L2067.18 1445.72 L2067.18 1445.72  Z\" fill=\"#009af9\" fill-rule=\"evenodd\" fill-opacity=\"1\"/>\n",
       "<polyline clip-path=\"url(#clip462)\" style=\"stroke:#000000; stroke-linecap:round; stroke-linejoin:round; stroke-width:4; stroke-opacity:1; fill:none\" points=\"2067.18,1445.72 2067.18,1445.72 2121.84,1445.72 2067.18,1445.72 \"/>\n",
       "<path clip-path=\"url(#clip462)\" d=\"M2121.84 1445.72 L2121.84 1445.72 L2176.49 1445.72 L2176.49 1445.72 L2121.84 1445.72 L2121.84 1445.72  Z\" fill=\"#009af9\" fill-rule=\"evenodd\" fill-opacity=\"1\"/>\n",
       "<polyline clip-path=\"url(#clip462)\" style=\"stroke:#000000; stroke-linecap:round; stroke-linejoin:round; stroke-width:4; stroke-opacity:1; fill:none\" points=\"2121.84,1445.72 2121.84,1445.72 2176.49,1445.72 2121.84,1445.72 \"/>\n",
       "<path clip-path=\"url(#clip462)\" d=\"M2176.49 1428.95 L2176.49 1445.72 L2231.15 1445.72 L2231.15 1428.95 L2176.49 1428.95 L2176.49 1428.95  Z\" fill=\"#009af9\" fill-rule=\"evenodd\" fill-opacity=\"1\"/>\n",
       "<polyline clip-path=\"url(#clip462)\" style=\"stroke:#000000; stroke-linecap:round; stroke-linejoin:round; stroke-width:4; stroke-opacity:1; fill:none\" points=\"2176.49,1428.95 2176.49,1445.72 2231.15,1445.72 2231.15,1428.95 2176.49,1428.95 \"/>\n",
       "<circle clip-path=\"url(#clip462)\" style=\"fill:#009af9; stroke:none; fill-opacity:0\" cx=\"290.786\" cy=\"1412.19\" r=\"2\"/>\n",
       "<circle clip-path=\"url(#clip462)\" style=\"fill:#009af9; stroke:none; fill-opacity:0\" cx=\"345.444\" cy=\"1428.95\" r=\"2\"/>\n",
       "<circle clip-path=\"url(#clip462)\" style=\"fill:#009af9; stroke:none; fill-opacity:0\" cx=\"400.102\" cy=\"1445.72\" r=\"2\"/>\n",
       "<circle clip-path=\"url(#clip462)\" style=\"fill:#009af9; stroke:none; fill-opacity:0\" cx=\"454.76\" cy=\"1378.67\" r=\"2\"/>\n",
       "<circle clip-path=\"url(#clip462)\" style=\"fill:#009af9; stroke:none; fill-opacity:0\" cx=\"509.419\" cy=\"1328.38\" r=\"2\"/>\n",
       "<circle clip-path=\"url(#clip462)\" style=\"fill:#009af9; stroke:none; fill-opacity:0\" cx=\"564.077\" cy=\"1311.62\" r=\"2\"/>\n",
       "<circle clip-path=\"url(#clip462)\" style=\"fill:#009af9; stroke:none; fill-opacity:0\" cx=\"618.735\" cy=\"1194.28\" r=\"2\"/>\n",
       "<circle clip-path=\"url(#clip462)\" style=\"fill:#009af9; stroke:none; fill-opacity:0\" cx=\"673.393\" cy=\"1060.18\" r=\"2\"/>\n",
       "<circle clip-path=\"url(#clip462)\" style=\"fill:#009af9; stroke:none; fill-opacity:0\" cx=\"728.051\" cy=\"926.087\" r=\"2\"/>\n",
       "<circle clip-path=\"url(#clip462)\" style=\"fill:#009af9; stroke:none; fill-opacity:0\" cx=\"782.71\" cy=\"775.227\" r=\"2\"/>\n",
       "<circle clip-path=\"url(#clip462)\" style=\"fill:#009af9; stroke:none; fill-opacity:0\" cx=\"837.368\" cy=\"507.032\" r=\"2\"/>\n",
       "<circle clip-path=\"url(#clip462)\" style=\"fill:#009af9; stroke:none; fill-opacity:0\" cx=\"892.026\" cy=\"507.032\" r=\"2\"/>\n",
       "<circle clip-path=\"url(#clip462)\" style=\"fill:#009af9; stroke:none; fill-opacity:0\" cx=\"946.684\" cy=\"490.269\" r=\"2\"/>\n",
       "<circle clip-path=\"url(#clip462)\" style=\"fill:#009af9; stroke:none; fill-opacity:0\" cx=\"1001.34\" cy=\"272.361\" r=\"2\"/>\n",
       "<circle clip-path=\"url(#clip462)\" style=\"fill:#009af9; stroke:none; fill-opacity:0\" cx=\"1056\" cy=\"188.55\" r=\"2\"/>\n",
       "<circle clip-path=\"url(#clip462)\" style=\"fill:#009af9; stroke:none; fill-opacity:0\" cx=\"1110.66\" cy=\"222.074\" r=\"2\"/>\n",
       "<circle clip-path=\"url(#clip462)\" style=\"fill:#009af9; stroke:none; fill-opacity:0\" cx=\"1165.32\" cy=\"87.9763\" r=\"2\"/>\n",
       "<circle clip-path=\"url(#clip462)\" style=\"fill:#009af9; stroke:none; fill-opacity:0\" cx=\"1219.98\" cy=\"389.696\" r=\"2\"/>\n",
       "<circle clip-path=\"url(#clip462)\" style=\"fill:#009af9; stroke:none; fill-opacity:0\" cx=\"1274.63\" cy=\"339.41\" r=\"2\"/>\n",
       "<circle clip-path=\"url(#clip462)\" style=\"fill:#009af9; stroke:none; fill-opacity:0\" cx=\"1329.29\" cy=\"423.221\" r=\"2\"/>\n",
       "<circle clip-path=\"url(#clip462)\" style=\"fill:#009af9; stroke:none; fill-opacity:0\" cx=\"1383.95\" cy=\"674.654\" r=\"2\"/>\n",
       "<circle clip-path=\"url(#clip462)\" style=\"fill:#009af9; stroke:none; fill-opacity:0\" cx=\"1438.61\" cy=\"624.367\" r=\"2\"/>\n",
       "<circle clip-path=\"url(#clip462)\" style=\"fill:#009af9; stroke:none; fill-opacity:0\" cx=\"1493.27\" cy=\"859.038\" r=\"2\"/>\n",
       "<circle clip-path=\"url(#clip462)\" style=\"fill:#009af9; stroke:none; fill-opacity:0\" cx=\"1547.92\" cy=\"993.136\" r=\"2\"/>\n",
       "<circle clip-path=\"url(#clip462)\" style=\"fill:#009af9; stroke:none; fill-opacity:0\" cx=\"1602.58\" cy=\"1160.76\" r=\"2\"/>\n",
       "<circle clip-path=\"url(#clip462)\" style=\"fill:#009af9; stroke:none; fill-opacity:0\" cx=\"1657.24\" cy=\"1227.81\" r=\"2\"/>\n",
       "<circle clip-path=\"url(#clip462)\" style=\"fill:#009af9; stroke:none; fill-opacity:0\" cx=\"1711.9\" cy=\"1311.62\" r=\"2\"/>\n",
       "<circle clip-path=\"url(#clip462)\" style=\"fill:#009af9; stroke:none; fill-opacity:0\" cx=\"1766.56\" cy=\"1378.67\" r=\"2\"/>\n",
       "<circle clip-path=\"url(#clip462)\" style=\"fill:#009af9; stroke:none; fill-opacity:0\" cx=\"1821.22\" cy=\"1395.43\" r=\"2\"/>\n",
       "<circle clip-path=\"url(#clip462)\" style=\"fill:#009af9; stroke:none; fill-opacity:0\" cx=\"1875.87\" cy=\"1412.19\" r=\"2\"/>\n",
       "<circle clip-path=\"url(#clip462)\" style=\"fill:#009af9; stroke:none; fill-opacity:0\" cx=\"1930.53\" cy=\"1412.19\" r=\"2\"/>\n",
       "<circle clip-path=\"url(#clip462)\" style=\"fill:#009af9; stroke:none; fill-opacity:0\" cx=\"1985.19\" cy=\"1378.67\" r=\"2\"/>\n",
       "<circle clip-path=\"url(#clip462)\" style=\"fill:#009af9; stroke:none; fill-opacity:0\" cx=\"2039.85\" cy=\"1445.72\" r=\"2\"/>\n",
       "<circle clip-path=\"url(#clip462)\" style=\"fill:#009af9; stroke:none; fill-opacity:0\" cx=\"2094.51\" cy=\"1445.72\" r=\"2\"/>\n",
       "<circle clip-path=\"url(#clip462)\" style=\"fill:#009af9; stroke:none; fill-opacity:0\" cx=\"2149.16\" cy=\"1445.72\" r=\"2\"/>\n",
       "<circle clip-path=\"url(#clip462)\" style=\"fill:#009af9; stroke:none; fill-opacity:0\" cx=\"2203.82\" cy=\"1428.95\" r=\"2\"/>\n",
       "<path clip-path=\"url(#clip460)\" d=\"M2005.54 198.898 L2279.06 198.898 L2279.06 95.2176 L2005.54 95.2176  Z\" fill=\"#ffffff\" fill-rule=\"evenodd\" fill-opacity=\"1\"/>\n",
       "<polyline clip-path=\"url(#clip460)\" style=\"stroke:#000000; stroke-linecap:round; stroke-linejoin:round; stroke-width:4; stroke-opacity:1; fill:none\" points=\"2005.54,198.898 2279.06,198.898 2279.06,95.2176 2005.54,95.2176 2005.54,198.898 \"/>\n",
       "<path clip-path=\"url(#clip460)\" d=\"M2030.1 167.794 L2177.5 167.794 L2177.5 126.322 L2030.1 126.322 L2030.1 167.794  Z\" fill=\"#009af9\" fill-rule=\"evenodd\" fill-opacity=\"1\"/>\n",
       "<polyline clip-path=\"url(#clip460)\" style=\"stroke:#000000; stroke-linecap:round; stroke-linejoin:round; stroke-width:4; stroke-opacity:1; fill:none\" points=\"2030.1,167.794 2177.5,167.794 2177.5,126.322 2030.1,126.322 2030.1,167.794 \"/>\n",
       "<path clip-path=\"url(#clip460)\" d=\"M2215.91 166.745 Q2214.1 171.375 2212.39 172.787 Q2210.67 174.199 2207.8 174.199 L2204.4 174.199 L2204.4 170.634 L2206.9 170.634 Q2208.66 170.634 2209.63 169.8 Q2210.6 168.967 2211.79 165.865 L2212.55 163.921 L2202.06 138.412 L2206.58 138.412 L2214.68 158.689 L2222.78 138.412 L2227.29 138.412 L2215.91 166.745 Z\" fill=\"#000000\" fill-rule=\"evenodd\" fill-opacity=\"1\" /><path clip-path=\"url(#clip460)\" d=\"M2234.59 160.402 L2242.23 160.402 L2242.23 134.037 L2233.91 135.703 L2233.91 131.444 L2242.18 129.778 L2246.85 129.778 L2246.85 160.402 L2254.49 160.402 L2254.49 164.338 L2234.59 164.338 L2234.59 160.402 Z\" fill=\"#000000\" fill-rule=\"evenodd\" fill-opacity=\"1\" /></svg>\n"
      ]
     },
     "execution_count": 47,
     "metadata": {},
     "output_type": "execute_result"
    }
   ],
   "source": [
    "using Plots\n",
    "histogram(random, bins=50)"
   ]
  },
  {
   "cell_type": "markdown",
   "id": "ad6cbc35",
   "metadata": {},
   "source": [
    "### 3.4 \n",
    "\n",
    "#### Choose a distribution other than normal distribution, Describe what it represents, and draw 1000 samples from the distribution and plot it using parameters of your choice"
   ]
  },
  {
   "cell_type": "markdown",
   "id": "6df4cb7e",
   "metadata": {},
   "source": [
    "Which distribution do you pick: Univariate, binomial"
   ]
  },
  {
   "cell_type": "markdown",
   "id": "7ea6f75c",
   "metadata": {},
   "source": [
    "What does the distribution represent?"
   ]
  },
  {
   "cell_type": "code",
   "execution_count": 59,
   "id": "22a00c51",
   "metadata": {},
   "outputs": [
    {
     "data": {
      "text/plain": [
       "1000-element Vector{Int64}:\n",
       " 0\n",
       " 1\n",
       " 0\n",
       " 0\n",
       " 1\n",
       " 0\n",
       " 0\n",
       " 0\n",
       " 1\n",
       " 0\n",
       " 0\n",
       " 0\n",
       " 0\n",
       " ⋮\n",
       " 0\n",
       " 0\n",
       " 0\n",
       " 1\n",
       " 0\n",
       " 1\n",
       " 0\n",
       " 0\n",
       " 0\n",
       " 1\n",
       " 0\n",
       " 1"
      ]
     },
     "execution_count": 59,
     "metadata": {},
     "output_type": "execute_result"
    }
   ],
   "source": [
    "Univariate == ArrayLikeVariate{0}\n",
    "d2 = Binomial()\n",
    "random2 = rand(d2, 1000)"
   ]
  },
  {
   "cell_type": "markdown",
   "id": "9d56bbd5",
   "metadata": {},
   "source": [
    "### 3.5\n",
    "\n",
    "#### Plot  the two distributions in the same plot"
   ]
  },
  {
   "cell_type": "code",
   "execution_count": 60,
   "id": "447aeb72",
   "metadata": {},
   "outputs": [
    {
     "data": {
      "image/svg+xml": [
       "<?xml version=\"1.0\" encoding=\"utf-8\"?>\n",
       "<svg xmlns=\"http://www.w3.org/2000/svg\" xmlns:xlink=\"http://www.w3.org/1999/xlink\" width=\"600\" height=\"400\" viewBox=\"0 0 2400 1600\">\n",
       "<defs>\n",
       "  <clipPath id=\"clip580\">\n",
       "    <rect x=\"0\" y=\"0\" width=\"2400\" height=\"1600\"/>\n",
       "  </clipPath>\n",
       "</defs>\n",
       "<path clip-path=\"url(#clip580)\" d=\"M0 1600 L2400 1600 L2400 0 L0 0  Z\" fill=\"#ffffff\" fill-rule=\"evenodd\" fill-opacity=\"1\"/>\n",
       "<defs>\n",
       "  <clipPath id=\"clip581\">\n",
       "    <rect x=\"480\" y=\"0\" width=\"1681\" height=\"1600\"/>\n",
       "  </clipPath>\n",
       "</defs>\n",
       "<path clip-path=\"url(#clip580)\" d=\"M172.015 1486.45 L2352.76 1486.45 L2352.76 47.2441 L172.015 47.2441  Z\" fill=\"#ffffff\" fill-rule=\"evenodd\" fill-opacity=\"1\"/>\n",
       "<defs>\n",
       "  <clipPath id=\"clip582\">\n",
       "    <rect x=\"172\" y=\"47\" width=\"2182\" height=\"1440\"/>\n",
       "  </clipPath>\n",
       "</defs>\n",
       "<polyline clip-path=\"url(#clip582)\" style=\"stroke:#000000; stroke-linecap:round; stroke-linejoin:round; stroke-width:2; stroke-opacity:0.1; fill:none\" points=\"680.13,1486.45 680.13,47.2441 \"/>\n",
       "<polyline clip-path=\"url(#clip582)\" style=\"stroke:#000000; stroke-linecap:round; stroke-linejoin:round; stroke-width:2; stroke-opacity:0.1; fill:none\" points=\"1197.69,1486.45 1197.69,47.2441 \"/>\n",
       "<polyline clip-path=\"url(#clip582)\" style=\"stroke:#000000; stroke-linecap:round; stroke-linejoin:round; stroke-width:2; stroke-opacity:0.1; fill:none\" points=\"1715.25,1486.45 1715.25,47.2441 \"/>\n",
       "<polyline clip-path=\"url(#clip582)\" style=\"stroke:#000000; stroke-linecap:round; stroke-linejoin:round; stroke-width:2; stroke-opacity:0.1; fill:none\" points=\"2232.81,1486.45 2232.81,47.2441 \"/>\n",
       "<polyline clip-path=\"url(#clip580)\" style=\"stroke:#000000; stroke-linecap:round; stroke-linejoin:round; stroke-width:4; stroke-opacity:1; fill:none\" points=\"172.015,1486.45 2352.76,1486.45 \"/>\n",
       "<polyline clip-path=\"url(#clip580)\" style=\"stroke:#000000; stroke-linecap:round; stroke-linejoin:round; stroke-width:4; stroke-opacity:1; fill:none\" points=\"680.13,1486.45 680.13,1467.55 \"/>\n",
       "<polyline clip-path=\"url(#clip580)\" style=\"stroke:#000000; stroke-linecap:round; stroke-linejoin:round; stroke-width:4; stroke-opacity:1; fill:none\" points=\"1197.69,1486.45 1197.69,1467.55 \"/>\n",
       "<polyline clip-path=\"url(#clip580)\" style=\"stroke:#000000; stroke-linecap:round; stroke-linejoin:round; stroke-width:4; stroke-opacity:1; fill:none\" points=\"1715.25,1486.45 1715.25,1467.55 \"/>\n",
       "<polyline clip-path=\"url(#clip580)\" style=\"stroke:#000000; stroke-linecap:round; stroke-linejoin:round; stroke-width:4; stroke-opacity:1; fill:none\" points=\"2232.81,1486.45 2232.81,1467.55 \"/>\n",
       "<path clip-path=\"url(#clip580)\" d=\"M650.072 1532.02 L679.748 1532.02 L679.748 1535.95 L650.072 1535.95 L650.072 1532.02 Z\" fill=\"#000000\" fill-rule=\"evenodd\" fill-opacity=\"1\" /><path clip-path=\"url(#clip580)\" d=\"M693.868 1544.91 L710.188 1544.91 L710.188 1548.85 L688.243 1548.85 L688.243 1544.91 Q690.905 1542.16 695.489 1537.53 Q700.095 1532.88 701.276 1531.53 Q703.521 1529.01 704.401 1527.27 Q705.303 1525.51 705.303 1523.82 Q705.303 1521.07 703.359 1519.33 Q701.438 1517.6 698.336 1517.6 Q696.137 1517.6 693.683 1518.36 Q691.252 1519.13 688.475 1520.68 L688.475 1515.95 Q691.299 1514.82 693.752 1514.24 Q696.206 1513.66 698.243 1513.66 Q703.613 1513.66 706.808 1516.35 Q710.002 1519.03 710.002 1523.52 Q710.002 1525.65 709.192 1527.57 Q708.405 1529.47 706.299 1532.07 Q705.72 1532.74 702.618 1535.95 Q699.516 1539.15 693.868 1544.91 Z\" fill=\"#000000\" fill-rule=\"evenodd\" fill-opacity=\"1\" /><path clip-path=\"url(#clip580)\" d=\"M1197.69 1517.37 Q1194.08 1517.37 1192.25 1520.93 Q1190.44 1524.47 1190.44 1531.6 Q1190.44 1538.71 1192.25 1542.27 Q1194.08 1545.82 1197.69 1545.82 Q1201.32 1545.82 1203.13 1542.27 Q1204.96 1538.71 1204.96 1531.6 Q1204.96 1524.47 1203.13 1520.93 Q1201.32 1517.37 1197.69 1517.37 M1197.69 1513.66 Q1203.5 1513.66 1206.56 1518.27 Q1209.63 1522.85 1209.63 1531.6 Q1209.63 1540.33 1206.56 1544.94 Q1203.5 1549.52 1197.69 1549.52 Q1191.88 1549.52 1188.8 1544.94 Q1185.75 1540.33 1185.75 1531.6 Q1185.75 1522.85 1188.8 1518.27 Q1191.88 1513.66 1197.69 1513.66 Z\" fill=\"#000000\" fill-rule=\"evenodd\" fill-opacity=\"1\" /><path clip-path=\"url(#clip580)\" d=\"M1709.9 1544.91 L1726.22 1544.91 L1726.22 1548.85 L1704.28 1548.85 L1704.28 1544.91 Q1706.94 1542.16 1711.52 1537.53 Q1716.13 1532.88 1717.31 1531.53 Q1719.56 1529.01 1720.44 1527.27 Q1721.34 1525.51 1721.34 1523.82 Q1721.34 1521.07 1719.39 1519.33 Q1717.47 1517.6 1714.37 1517.6 Q1712.17 1517.6 1709.72 1518.36 Q1707.29 1519.13 1704.51 1520.68 L1704.51 1515.95 Q1707.33 1514.82 1709.79 1514.24 Q1712.24 1513.66 1714.28 1513.66 Q1719.65 1513.66 1722.84 1516.35 Q1726.04 1519.03 1726.04 1523.52 Q1726.04 1525.65 1725.23 1527.57 Q1724.44 1529.47 1722.33 1532.07 Q1721.76 1532.74 1718.65 1535.95 Q1715.55 1539.15 1709.9 1544.91 Z\" fill=\"#000000\" fill-rule=\"evenodd\" fill-opacity=\"1\" /><path clip-path=\"url(#clip580)\" d=\"M2235.82 1518.36 L2224.02 1536.81 L2235.82 1536.81 L2235.82 1518.36 M2234.59 1514.29 L2240.47 1514.29 L2240.47 1536.81 L2245.4 1536.81 L2245.4 1540.7 L2240.47 1540.7 L2240.47 1548.85 L2235.82 1548.85 L2235.82 1540.7 L2220.22 1540.7 L2220.22 1536.19 L2234.59 1514.29 Z\" fill=\"#000000\" fill-rule=\"evenodd\" fill-opacity=\"1\" /><polyline clip-path=\"url(#clip582)\" style=\"stroke:#000000; stroke-linecap:round; stroke-linejoin:round; stroke-width:2; stroke-opacity:0.1; fill:none\" points=\"172.015,1445.72 2352.76,1445.72 \"/>\n",
       "<polyline clip-path=\"url(#clip582)\" style=\"stroke:#000000; stroke-linecap:round; stroke-linejoin:round; stroke-width:2; stroke-opacity:0.1; fill:none\" points=\"172.015,1176.86 2352.76,1176.86 \"/>\n",
       "<polyline clip-path=\"url(#clip582)\" style=\"stroke:#000000; stroke-linecap:round; stroke-linejoin:round; stroke-width:2; stroke-opacity:0.1; fill:none\" points=\"172.015,907.997 2352.76,907.997 \"/>\n",
       "<polyline clip-path=\"url(#clip582)\" style=\"stroke:#000000; stroke-linecap:round; stroke-linejoin:round; stroke-width:2; stroke-opacity:0.1; fill:none\" points=\"172.015,639.138 2352.76,639.138 \"/>\n",
       "<polyline clip-path=\"url(#clip582)\" style=\"stroke:#000000; stroke-linecap:round; stroke-linejoin:round; stroke-width:2; stroke-opacity:0.1; fill:none\" points=\"172.015,370.279 2352.76,370.279 \"/>\n",
       "<polyline clip-path=\"url(#clip582)\" style=\"stroke:#000000; stroke-linecap:round; stroke-linejoin:round; stroke-width:2; stroke-opacity:0.1; fill:none\" points=\"172.015,101.419 2352.76,101.419 \"/>\n",
       "<polyline clip-path=\"url(#clip580)\" style=\"stroke:#000000; stroke-linecap:round; stroke-linejoin:round; stroke-width:4; stroke-opacity:1; fill:none\" points=\"172.015,1486.45 172.015,47.2441 \"/>\n",
       "<polyline clip-path=\"url(#clip580)\" style=\"stroke:#000000; stroke-linecap:round; stroke-linejoin:round; stroke-width:4; stroke-opacity:1; fill:none\" points=\"172.015,1445.72 190.912,1445.72 \"/>\n",
       "<polyline clip-path=\"url(#clip580)\" style=\"stroke:#000000; stroke-linecap:round; stroke-linejoin:round; stroke-width:4; stroke-opacity:1; fill:none\" points=\"172.015,1176.86 190.912,1176.86 \"/>\n",
       "<polyline clip-path=\"url(#clip580)\" style=\"stroke:#000000; stroke-linecap:round; stroke-linejoin:round; stroke-width:4; stroke-opacity:1; fill:none\" points=\"172.015,907.997 190.912,907.997 \"/>\n",
       "<polyline clip-path=\"url(#clip580)\" style=\"stroke:#000000; stroke-linecap:round; stroke-linejoin:round; stroke-width:4; stroke-opacity:1; fill:none\" points=\"172.015,639.138 190.912,639.138 \"/>\n",
       "<polyline clip-path=\"url(#clip580)\" style=\"stroke:#000000; stroke-linecap:round; stroke-linejoin:round; stroke-width:4; stroke-opacity:1; fill:none\" points=\"172.015,370.279 190.912,370.279 \"/>\n",
       "<polyline clip-path=\"url(#clip580)\" style=\"stroke:#000000; stroke-linecap:round; stroke-linejoin:round; stroke-width:4; stroke-opacity:1; fill:none\" points=\"172.015,101.419 190.912,101.419 \"/>\n",
       "<path clip-path=\"url(#clip580)\" d=\"M124.07 1431.51 Q120.459 1431.51 118.631 1435.08 Q116.825 1438.62 116.825 1445.75 Q116.825 1452.86 118.631 1456.42 Q120.459 1459.96 124.07 1459.96 Q127.705 1459.96 129.51 1456.42 Q131.339 1452.86 131.339 1445.75 Q131.339 1438.62 129.51 1435.08 Q127.705 1431.51 124.07 1431.51 M124.07 1427.81 Q129.881 1427.81 132.936 1432.42 Q136.015 1437 136.015 1445.75 Q136.015 1454.48 132.936 1459.08 Q129.881 1463.67 124.07 1463.67 Q118.26 1463.67 115.182 1459.08 Q112.126 1454.48 112.126 1445.75 Q112.126 1437 115.182 1432.42 Q118.26 1427.81 124.07 1427.81 Z\" fill=\"#000000\" fill-rule=\"evenodd\" fill-opacity=\"1\" /><path clip-path=\"url(#clip580)\" d=\"M54.5569 1190.2 L62.1958 1190.2 L62.1958 1163.84 L53.8856 1165.5 L53.8856 1161.24 L62.1495 1159.58 L66.8254 1159.58 L66.8254 1190.2 L74.4642 1190.2 L74.4642 1194.14 L54.5569 1194.14 L54.5569 1190.2 Z\" fill=\"#000000\" fill-rule=\"evenodd\" fill-opacity=\"1\" /><path clip-path=\"url(#clip580)\" d=\"M93.9086 1162.66 Q90.2975 1162.66 88.4688 1166.22 Q86.6632 1169.76 86.6632 1176.89 Q86.6632 1184 88.4688 1187.56 Q90.2975 1191.1 93.9086 1191.1 Q97.5428 1191.1 99.3483 1187.56 Q101.177 1184 101.177 1176.89 Q101.177 1169.76 99.3483 1166.22 Q97.5428 1162.66 93.9086 1162.66 M93.9086 1158.95 Q99.7187 1158.95 102.774 1163.56 Q105.853 1168.14 105.853 1176.89 Q105.853 1185.62 102.774 1190.22 Q99.7187 1194.81 93.9086 1194.81 Q88.0984 1194.81 85.0197 1190.22 Q81.9642 1185.62 81.9642 1176.89 Q81.9642 1168.14 85.0197 1163.56 Q88.0984 1158.95 93.9086 1158.95 Z\" fill=\"#000000\" fill-rule=\"evenodd\" fill-opacity=\"1\" /><path clip-path=\"url(#clip580)\" d=\"M124.07 1162.66 Q120.459 1162.66 118.631 1166.22 Q116.825 1169.76 116.825 1176.89 Q116.825 1184 118.631 1187.56 Q120.459 1191.1 124.07 1191.1 Q127.705 1191.1 129.51 1187.56 Q131.339 1184 131.339 1176.89 Q131.339 1169.76 129.51 1166.22 Q127.705 1162.66 124.07 1162.66 M124.07 1158.95 Q129.881 1158.95 132.936 1163.56 Q136.015 1168.14 136.015 1176.89 Q136.015 1185.62 132.936 1190.22 Q129.881 1194.81 124.07 1194.81 Q118.26 1194.81 115.182 1190.22 Q112.126 1185.62 112.126 1176.89 Q112.126 1168.14 115.182 1163.56 Q118.26 1158.95 124.07 1158.95 Z\" fill=\"#000000\" fill-rule=\"evenodd\" fill-opacity=\"1\" /><path clip-path=\"url(#clip580)\" d=\"M57.7745 921.342 L74.0939 921.342 L74.0939 925.277 L52.1495 925.277 L52.1495 921.342 Q54.8115 918.587 59.3949 913.958 Q64.0013 909.305 65.1819 907.962 Q67.4272 905.439 68.3068 903.703 Q69.2096 901.944 69.2096 900.254 Q69.2096 897.499 67.2652 895.763 Q65.3439 894.027 62.2421 894.027 Q60.043 894.027 57.5893 894.791 Q55.1588 895.555 52.381 897.106 L52.381 892.384 Q55.2051 891.25 57.6588 890.671 Q60.1124 890.092 62.1495 890.092 Q67.5198 890.092 70.7142 892.777 Q73.9087 895.462 73.9087 899.953 Q73.9087 902.083 73.0985 904.004 Q72.3115 905.902 70.205 908.495 Q69.6263 909.166 66.5245 912.384 Q63.4226 915.578 57.7745 921.342 Z\" fill=\"#000000\" fill-rule=\"evenodd\" fill-opacity=\"1\" /><path clip-path=\"url(#clip580)\" d=\"M93.9086 893.796 Q90.2975 893.796 88.4688 897.361 Q86.6632 900.902 86.6632 908.032 Q86.6632 915.138 88.4688 918.703 Q90.2975 922.245 93.9086 922.245 Q97.5428 922.245 99.3483 918.703 Q101.177 915.138 101.177 908.032 Q101.177 900.902 99.3483 897.361 Q97.5428 893.796 93.9086 893.796 M93.9086 890.092 Q99.7187 890.092 102.774 894.699 Q105.853 899.282 105.853 908.032 Q105.853 916.759 102.774 921.365 Q99.7187 925.948 93.9086 925.948 Q88.0984 925.948 85.0197 921.365 Q81.9642 916.759 81.9642 908.032 Q81.9642 899.282 85.0197 894.699 Q88.0984 890.092 93.9086 890.092 Z\" fill=\"#000000\" fill-rule=\"evenodd\" fill-opacity=\"1\" /><path clip-path=\"url(#clip580)\" d=\"M124.07 893.796 Q120.459 893.796 118.631 897.361 Q116.825 900.902 116.825 908.032 Q116.825 915.138 118.631 918.703 Q120.459 922.245 124.07 922.245 Q127.705 922.245 129.51 918.703 Q131.339 915.138 131.339 908.032 Q131.339 900.902 129.51 897.361 Q127.705 893.796 124.07 893.796 M124.07 890.092 Q129.881 890.092 132.936 894.699 Q136.015 899.282 136.015 908.032 Q136.015 916.759 132.936 921.365 Q129.881 925.948 124.07 925.948 Q118.26 925.948 115.182 921.365 Q112.126 916.759 112.126 908.032 Q112.126 899.282 115.182 894.699 Q118.26 890.092 124.07 890.092 Z\" fill=\"#000000\" fill-rule=\"evenodd\" fill-opacity=\"1\" /><path clip-path=\"url(#clip580)\" d=\"M67.9133 637.784 Q71.2698 638.501 73.1448 640.77 Q75.0429 643.038 75.0429 646.372 Q75.0429 651.487 71.5244 654.288 Q68.0059 657.089 61.5245 657.089 Q59.3486 657.089 57.0338 656.649 Q54.7421 656.233 52.2884 655.376 L52.2884 650.862 Q54.2328 651.997 56.5477 652.575 Q58.8625 653.154 61.3856 653.154 Q65.7837 653.154 68.0754 651.418 Q70.3902 649.682 70.3902 646.372 Q70.3902 643.316 68.2374 641.603 Q66.1078 639.867 62.2884 639.867 L58.2606 639.867 L58.2606 636.024 L62.4735 636.024 Q65.9226 636.024 67.7513 634.659 Q69.58 633.27 69.58 630.677 Q69.58 628.015 67.6819 626.603 Q65.8069 625.168 62.2884 625.168 Q60.3671 625.168 58.168 625.585 Q55.969 626.001 53.3301 626.881 L53.3301 622.714 Q55.9921 621.974 58.3069 621.603 Q60.6449 621.233 62.705 621.233 Q68.0291 621.233 71.1309 623.663 Q74.2327 626.071 74.2327 630.191 Q74.2327 633.061 72.5892 635.052 Q70.9457 637.02 67.9133 637.784 Z\" fill=\"#000000\" fill-rule=\"evenodd\" fill-opacity=\"1\" /><path clip-path=\"url(#clip580)\" d=\"M93.9086 624.937 Q90.2975 624.937 88.4688 628.501 Q86.6632 632.043 86.6632 639.173 Q86.6632 646.279 88.4688 649.844 Q90.2975 653.385 93.9086 653.385 Q97.5428 653.385 99.3483 649.844 Q101.177 646.279 101.177 639.173 Q101.177 632.043 99.3483 628.501 Q97.5428 624.937 93.9086 624.937 M93.9086 621.233 Q99.7187 621.233 102.774 625.839 Q105.853 630.423 105.853 639.173 Q105.853 647.899 102.774 652.506 Q99.7187 657.089 93.9086 657.089 Q88.0984 657.089 85.0197 652.506 Q81.9642 647.899 81.9642 639.173 Q81.9642 630.423 85.0197 625.839 Q88.0984 621.233 93.9086 621.233 Z\" fill=\"#000000\" fill-rule=\"evenodd\" fill-opacity=\"1\" /><path clip-path=\"url(#clip580)\" d=\"M124.07 624.937 Q120.459 624.937 118.631 628.501 Q116.825 632.043 116.825 639.173 Q116.825 646.279 118.631 649.844 Q120.459 653.385 124.07 653.385 Q127.705 653.385 129.51 649.844 Q131.339 646.279 131.339 639.173 Q131.339 632.043 129.51 628.501 Q127.705 624.937 124.07 624.937 M124.07 621.233 Q129.881 621.233 132.936 625.839 Q136.015 630.423 136.015 639.173 Q136.015 647.899 132.936 652.506 Q129.881 657.089 124.07 657.089 Q118.26 657.089 115.182 652.506 Q112.126 647.899 112.126 639.173 Q112.126 630.423 115.182 625.839 Q118.26 621.233 124.07 621.233 Z\" fill=\"#000000\" fill-rule=\"evenodd\" fill-opacity=\"1\" /><path clip-path=\"url(#clip580)\" d=\"M66.5939 357.073 L54.7884 375.522 L66.5939 375.522 L66.5939 357.073 M65.367 352.999 L71.2466 352.999 L71.2466 375.522 L76.1772 375.522 L76.1772 379.41 L71.2466 379.41 L71.2466 387.559 L66.5939 387.559 L66.5939 379.41 L50.9921 379.41 L50.9921 374.897 L65.367 352.999 Z\" fill=\"#000000\" fill-rule=\"evenodd\" fill-opacity=\"1\" /><path clip-path=\"url(#clip580)\" d=\"M93.9086 356.077 Q90.2975 356.077 88.4688 359.642 Q86.6632 363.184 86.6632 370.313 Q86.6632 377.42 88.4688 380.984 Q90.2975 384.526 93.9086 384.526 Q97.5428 384.526 99.3483 380.984 Q101.177 377.42 101.177 370.313 Q101.177 363.184 99.3483 359.642 Q97.5428 356.077 93.9086 356.077 M93.9086 352.374 Q99.7187 352.374 102.774 356.98 Q105.853 361.563 105.853 370.313 Q105.853 379.04 102.774 383.647 Q99.7187 388.23 93.9086 388.23 Q88.0984 388.23 85.0197 383.647 Q81.9642 379.04 81.9642 370.313 Q81.9642 361.563 85.0197 356.98 Q88.0984 352.374 93.9086 352.374 Z\" fill=\"#000000\" fill-rule=\"evenodd\" fill-opacity=\"1\" /><path clip-path=\"url(#clip580)\" d=\"M124.07 356.077 Q120.459 356.077 118.631 359.642 Q116.825 363.184 116.825 370.313 Q116.825 377.42 118.631 380.984 Q120.459 384.526 124.07 384.526 Q127.705 384.526 129.51 380.984 Q131.339 377.42 131.339 370.313 Q131.339 363.184 129.51 359.642 Q127.705 356.077 124.07 356.077 M124.07 352.374 Q129.881 352.374 132.936 356.98 Q136.015 361.563 136.015 370.313 Q136.015 379.04 132.936 383.647 Q129.881 388.23 124.07 388.23 Q118.26 388.23 115.182 383.647 Q112.126 379.04 112.126 370.313 Q112.126 361.563 115.182 356.98 Q118.26 352.374 124.07 352.374 Z\" fill=\"#000000\" fill-rule=\"evenodd\" fill-opacity=\"1\" /><path clip-path=\"url(#clip580)\" d=\"M53.793 84.1392 L72.1494 84.1392 L72.1494 88.0744 L58.0754 88.0744 L58.0754 96.5466 Q59.0939 96.1994 60.1124 96.0373 Q61.131 95.8521 62.1495 95.8521 Q67.9365 95.8521 71.3161 99.0234 Q74.6957 102.195 74.6957 107.611 Q74.6957 113.19 71.2235 116.292 Q67.7513 119.371 61.4319 119.371 Q59.256 119.371 56.9875 119 Q54.7421 118.63 52.3347 117.889 L52.3347 113.19 Q54.418 114.324 56.6402 114.88 Q58.8625 115.435 61.3393 115.435 Q65.3439 115.435 67.6819 113.329 Q70.0198 111.222 70.0198 107.611 Q70.0198 104 67.6819 101.894 Q65.3439 99.7873 61.3393 99.7873 Q59.4643 99.7873 57.5893 100.204 Q55.7375 100.621 53.793 101.5 L53.793 84.1392 Z\" fill=\"#000000\" fill-rule=\"evenodd\" fill-opacity=\"1\" /><path clip-path=\"url(#clip580)\" d=\"M93.9086 87.2179 Q90.2975 87.2179 88.4688 90.7827 Q86.6632 94.3244 86.6632 101.454 Q86.6632 108.56 88.4688 112.125 Q90.2975 115.667 93.9086 115.667 Q97.5428 115.667 99.3483 112.125 Q101.177 108.56 101.177 101.454 Q101.177 94.3244 99.3483 90.7827 Q97.5428 87.2179 93.9086 87.2179 M93.9086 83.5142 Q99.7187 83.5142 102.774 88.1207 Q105.853 92.704 105.853 101.454 Q105.853 110.181 102.774 114.787 Q99.7187 119.371 93.9086 119.371 Q88.0984 119.371 85.0197 114.787 Q81.9642 110.181 81.9642 101.454 Q81.9642 92.704 85.0197 88.1207 Q88.0984 83.5142 93.9086 83.5142 Z\" fill=\"#000000\" fill-rule=\"evenodd\" fill-opacity=\"1\" /><path clip-path=\"url(#clip580)\" d=\"M124.07 87.2179 Q120.459 87.2179 118.631 90.7827 Q116.825 94.3244 116.825 101.454 Q116.825 108.56 118.631 112.125 Q120.459 115.667 124.07 115.667 Q127.705 115.667 129.51 112.125 Q131.339 108.56 131.339 101.454 Q131.339 94.3244 129.51 90.7827 Q127.705 87.2179 124.07 87.2179 M124.07 83.5142 Q129.881 83.5142 132.936 88.1207 Q136.015 92.704 136.015 101.454 Q136.015 110.181 132.936 114.787 Q129.881 119.371 124.07 119.371 Q118.26 119.371 115.182 114.787 Q112.126 110.181 112.126 101.454 Q112.126 92.704 115.182 88.1207 Q118.26 83.5142 124.07 83.5142 Z\" fill=\"#000000\" fill-rule=\"evenodd\" fill-opacity=\"1\" /><path clip-path=\"url(#clip582)\" d=\"M291.959 1440.34 L291.959 1445.72 L421.35 1445.72 L421.35 1440.34 L291.959 1440.34 L291.959 1440.34  Z\" fill=\"#009af9\" fill-rule=\"evenodd\" fill-opacity=\"1\"/>\n",
       "<polyline clip-path=\"url(#clip582)\" style=\"stroke:#000000; stroke-linecap:round; stroke-linejoin:round; stroke-width:4; stroke-opacity:1; fill:none\" points=\"291.959,1440.34 291.959,1445.72 421.35,1445.72 421.35,1440.34 291.959,1440.34 \"/>\n",
       "<path clip-path=\"url(#clip582)\" d=\"M421.35 1440.34 L421.35 1445.72 L550.74 1445.72 L550.74 1440.34 L421.35 1440.34 L421.35 1440.34  Z\" fill=\"#009af9\" fill-rule=\"evenodd\" fill-opacity=\"1\"/>\n",
       "<polyline clip-path=\"url(#clip582)\" style=\"stroke:#000000; stroke-linecap:round; stroke-linejoin:round; stroke-width:4; stroke-opacity:1; fill:none\" points=\"421.35,1440.34 421.35,1445.72 550.74,1445.72 550.74,1440.34 421.35,1440.34 \"/>\n",
       "<path clip-path=\"url(#clip582)\" d=\"M550.74 1397.32 L550.74 1445.72 L680.13 1445.72 L680.13 1397.32 L550.74 1397.32 L550.74 1397.32  Z\" fill=\"#009af9\" fill-rule=\"evenodd\" fill-opacity=\"1\"/>\n",
       "<polyline clip-path=\"url(#clip582)\" style=\"stroke:#000000; stroke-linecap:round; stroke-linejoin:round; stroke-width:4; stroke-opacity:1; fill:none\" points=\"550.74,1397.32 550.74,1445.72 680.13,1445.72 680.13,1397.32 550.74,1397.32 \"/>\n",
       "<path clip-path=\"url(#clip582)\" d=\"M680.13 1308.6 L680.13 1445.72 L809.52 1445.72 L809.52 1308.6 L680.13 1308.6 L680.13 1308.6  Z\" fill=\"#009af9\" fill-rule=\"evenodd\" fill-opacity=\"1\"/>\n",
       "<polyline clip-path=\"url(#clip582)\" style=\"stroke:#000000; stroke-linecap:round; stroke-linejoin:round; stroke-width:4; stroke-opacity:1; fill:none\" points=\"680.13,1308.6 680.13,1445.72 809.52,1445.72 809.52,1308.6 680.13,1308.6 \"/>\n",
       "<path clip-path=\"url(#clip582)\" d=\"M809.52 1139.22 L809.52 1445.72 L938.91 1445.72 L938.91 1139.22 L809.52 1139.22 L809.52 1139.22  Z\" fill=\"#009af9\" fill-rule=\"evenodd\" fill-opacity=\"1\"/>\n",
       "<polyline clip-path=\"url(#clip582)\" style=\"stroke:#000000; stroke-linecap:round; stroke-linejoin:round; stroke-width:4; stroke-opacity:1; fill:none\" points=\"809.52,1139.22 809.52,1445.72 938.91,1445.72 938.91,1139.22 809.52,1139.22 \"/>\n",
       "<path clip-path=\"url(#clip582)\" d=\"M938.91 1050.49 L938.91 1445.72 L1068.3 1445.72 L1068.3 1050.49 L938.91 1050.49 L938.91 1050.49  Z\" fill=\"#009af9\" fill-rule=\"evenodd\" fill-opacity=\"1\"/>\n",
       "<polyline clip-path=\"url(#clip582)\" style=\"stroke:#000000; stroke-linecap:round; stroke-linejoin:round; stroke-width:4; stroke-opacity:1; fill:none\" points=\"938.91,1050.49 938.91,1445.72 1068.3,1445.72 1068.3,1050.49 938.91,1050.49 \"/>\n",
       "<path clip-path=\"url(#clip582)\" d=\"M1068.3 951.015 L1068.3 1445.72 L1197.69 1445.72 L1197.69 951.015 L1068.3 951.015 L1068.3 951.015  Z\" fill=\"#009af9\" fill-rule=\"evenodd\" fill-opacity=\"1\"/>\n",
       "<polyline clip-path=\"url(#clip582)\" style=\"stroke:#000000; stroke-linecap:round; stroke-linejoin:round; stroke-width:4; stroke-opacity:1; fill:none\" points=\"1068.3,951.015 1068.3,1445.72 1197.69,1445.72 1197.69,951.015 1068.3,951.015 \"/>\n",
       "<path clip-path=\"url(#clip582)\" d=\"M1197.69 956.392 L1197.69 1445.72 L1327.08 1445.72 L1327.08 956.392 L1197.69 956.392 L1197.69 956.392  Z\" fill=\"#009af9\" fill-rule=\"evenodd\" fill-opacity=\"1\"/>\n",
       "<polyline clip-path=\"url(#clip582)\" style=\"stroke:#000000; stroke-linecap:round; stroke-linejoin:round; stroke-width:4; stroke-opacity:1; fill:none\" points=\"1197.69,956.392 1197.69,1445.72 1327.08,1445.72 1327.08,956.392 1197.69,956.392 \"/>\n",
       "<path clip-path=\"url(#clip582)\" d=\"M1327.08 1082.76 L1327.08 1445.72 L1456.47 1445.72 L1456.47 1082.76 L1327.08 1082.76 L1327.08 1082.76  Z\" fill=\"#009af9\" fill-rule=\"evenodd\" fill-opacity=\"1\"/>\n",
       "<polyline clip-path=\"url(#clip582)\" style=\"stroke:#000000; stroke-linecap:round; stroke-linejoin:round; stroke-width:4; stroke-opacity:1; fill:none\" points=\"1327.08,1082.76 1327.08,1445.72 1456.47,1445.72 1456.47,1082.76 1327.08,1082.76 \"/>\n",
       "<path clip-path=\"url(#clip582)\" d=\"M1456.47 1182.23 L1456.47 1445.72 L1585.86 1445.72 L1585.86 1182.23 L1456.47 1182.23 L1456.47 1182.23  Z\" fill=\"#009af9\" fill-rule=\"evenodd\" fill-opacity=\"1\"/>\n",
       "<polyline clip-path=\"url(#clip582)\" style=\"stroke:#000000; stroke-linecap:round; stroke-linejoin:round; stroke-width:4; stroke-opacity:1; fill:none\" points=\"1456.47,1182.23 1456.47,1445.72 1585.86,1445.72 1585.86,1182.23 1456.47,1182.23 \"/>\n",
       "<path clip-path=\"url(#clip582)\" d=\"M1585.86 1330.11 L1585.86 1445.72 L1715.25 1445.72 L1715.25 1330.11 L1585.86 1330.11 L1585.86 1330.11  Z\" fill=\"#009af9\" fill-rule=\"evenodd\" fill-opacity=\"1\"/>\n",
       "<polyline clip-path=\"url(#clip582)\" style=\"stroke:#000000; stroke-linecap:round; stroke-linejoin:round; stroke-width:4; stroke-opacity:1; fill:none\" points=\"1585.86,1330.11 1585.86,1445.72 1715.25,1445.72 1715.25,1330.11 1585.86,1330.11 \"/>\n",
       "<path clip-path=\"url(#clip582)\" d=\"M1715.25 1408.08 L1715.25 1445.72 L1844.64 1445.72 L1844.64 1408.08 L1715.25 1408.08 L1715.25 1408.08  Z\" fill=\"#009af9\" fill-rule=\"evenodd\" fill-opacity=\"1\"/>\n",
       "<polyline clip-path=\"url(#clip582)\" style=\"stroke:#000000; stroke-linecap:round; stroke-linejoin:round; stroke-width:4; stroke-opacity:1; fill:none\" points=\"1715.25,1408.08 1715.25,1445.72 1844.64,1445.72 1844.64,1408.08 1715.25,1408.08 \"/>\n",
       "<path clip-path=\"url(#clip582)\" d=\"M1844.64 1432.27 L1844.64 1445.72 L1974.03 1445.72 L1974.03 1432.27 L1844.64 1432.27 L1844.64 1432.27  Z\" fill=\"#009af9\" fill-rule=\"evenodd\" fill-opacity=\"1\"/>\n",
       "<polyline clip-path=\"url(#clip582)\" style=\"stroke:#000000; stroke-linecap:round; stroke-linejoin:round; stroke-width:4; stroke-opacity:1; fill:none\" points=\"1844.64,1432.27 1844.64,1445.72 1974.03,1445.72 1974.03,1432.27 1844.64,1432.27 \"/>\n",
       "<path clip-path=\"url(#clip582)\" d=\"M1974.03 1434.96 L1974.03 1445.72 L2103.42 1445.72 L2103.42 1434.96 L1974.03 1434.96 L1974.03 1434.96  Z\" fill=\"#009af9\" fill-rule=\"evenodd\" fill-opacity=\"1\"/>\n",
       "<polyline clip-path=\"url(#clip582)\" style=\"stroke:#000000; stroke-linecap:round; stroke-linejoin:round; stroke-width:4; stroke-opacity:1; fill:none\" points=\"1974.03,1434.96 1974.03,1445.72 2103.42,1445.72 2103.42,1434.96 1974.03,1434.96 \"/>\n",
       "<path clip-path=\"url(#clip582)\" d=\"M2103.42 1443.03 L2103.42 1445.72 L2232.81 1445.72 L2232.81 1443.03 L2103.42 1443.03 L2103.42 1443.03  Z\" fill=\"#009af9\" fill-rule=\"evenodd\" fill-opacity=\"1\"/>\n",
       "<polyline clip-path=\"url(#clip582)\" style=\"stroke:#000000; stroke-linecap:round; stroke-linejoin:round; stroke-width:4; stroke-opacity:1; fill:none\" points=\"2103.42,1443.03 2103.42,1445.72 2232.81,1445.72 2232.81,1443.03 2103.42,1443.03 \"/>\n",
       "<circle clip-path=\"url(#clip582)\" style=\"fill:#009af9; stroke:none; fill-opacity:0\" cx=\"356.655\" cy=\"1440.34\" r=\"2\"/>\n",
       "<circle clip-path=\"url(#clip582)\" style=\"fill:#009af9; stroke:none; fill-opacity:0\" cx=\"486.045\" cy=\"1440.34\" r=\"2\"/>\n",
       "<circle clip-path=\"url(#clip582)\" style=\"fill:#009af9; stroke:none; fill-opacity:0\" cx=\"615.435\" cy=\"1397.32\" r=\"2\"/>\n",
       "<circle clip-path=\"url(#clip582)\" style=\"fill:#009af9; stroke:none; fill-opacity:0\" cx=\"744.825\" cy=\"1308.6\" r=\"2\"/>\n",
       "<circle clip-path=\"url(#clip582)\" style=\"fill:#009af9; stroke:none; fill-opacity:0\" cx=\"874.215\" cy=\"1139.22\" r=\"2\"/>\n",
       "<circle clip-path=\"url(#clip582)\" style=\"fill:#009af9; stroke:none; fill-opacity:0\" cx=\"1003.61\" cy=\"1050.49\" r=\"2\"/>\n",
       "<circle clip-path=\"url(#clip582)\" style=\"fill:#009af9; stroke:none; fill-opacity:0\" cx=\"1133\" cy=\"951.015\" r=\"2\"/>\n",
       "<circle clip-path=\"url(#clip582)\" style=\"fill:#009af9; stroke:none; fill-opacity:0\" cx=\"1262.39\" cy=\"956.392\" r=\"2\"/>\n",
       "<circle clip-path=\"url(#clip582)\" style=\"fill:#009af9; stroke:none; fill-opacity:0\" cx=\"1391.78\" cy=\"1082.76\" r=\"2\"/>\n",
       "<circle clip-path=\"url(#clip582)\" style=\"fill:#009af9; stroke:none; fill-opacity:0\" cx=\"1521.17\" cy=\"1182.23\" r=\"2\"/>\n",
       "<circle clip-path=\"url(#clip582)\" style=\"fill:#009af9; stroke:none; fill-opacity:0\" cx=\"1650.56\" cy=\"1330.11\" r=\"2\"/>\n",
       "<circle clip-path=\"url(#clip582)\" style=\"fill:#009af9; stroke:none; fill-opacity:0\" cx=\"1779.95\" cy=\"1408.08\" r=\"2\"/>\n",
       "<circle clip-path=\"url(#clip582)\" style=\"fill:#009af9; stroke:none; fill-opacity:0\" cx=\"1909.34\" cy=\"1432.27\" r=\"2\"/>\n",
       "<circle clip-path=\"url(#clip582)\" style=\"fill:#009af9; stroke:none; fill-opacity:0\" cx=\"2038.73\" cy=\"1434.96\" r=\"2\"/>\n",
       "<circle clip-path=\"url(#clip582)\" style=\"fill:#009af9; stroke:none; fill-opacity:0\" cx=\"2168.12\" cy=\"1443.03\" r=\"2\"/>\n",
       "<path clip-path=\"url(#clip582)\" d=\"M1197.69 114.862 L1197.69 1445.72 L1249.45 1445.72 L1249.45 114.862 L1197.69 114.862 L1197.69 114.862  Z\" fill=\"#e26f46\" fill-rule=\"evenodd\" fill-opacity=\"1\"/>\n",
       "<polyline clip-path=\"url(#clip582)\" style=\"stroke:#000000; stroke-linecap:round; stroke-linejoin:round; stroke-width:4; stroke-opacity:1; fill:none\" points=\"1197.69,114.862 1197.69,1445.72 1249.45,1445.72 1249.45,114.862 1197.69,114.862 \"/>\n",
       "<path clip-path=\"url(#clip582)\" d=\"M1249.45 1445.72 L1249.45 1445.72 L1301.2 1445.72 L1301.2 1445.72 L1249.45 1445.72 L1249.45 1445.72  Z\" fill=\"#e26f46\" fill-rule=\"evenodd\" fill-opacity=\"1\"/>\n",
       "<polyline clip-path=\"url(#clip582)\" style=\"stroke:#000000; stroke-linecap:round; stroke-linejoin:round; stroke-width:4; stroke-opacity:1; fill:none\" points=\"1249.45,1445.72 1249.45,1445.72 1301.2,1445.72 1249.45,1445.72 \"/>\n",
       "<path clip-path=\"url(#clip582)\" d=\"M1301.2 1445.72 L1301.2 1445.72 L1352.96 1445.72 L1352.96 1445.72 L1301.2 1445.72 L1301.2 1445.72  Z\" fill=\"#e26f46\" fill-rule=\"evenodd\" fill-opacity=\"1\"/>\n",
       "<polyline clip-path=\"url(#clip582)\" style=\"stroke:#000000; stroke-linecap:round; stroke-linejoin:round; stroke-width:4; stroke-opacity:1; fill:none\" points=\"1301.2,1445.72 1301.2,1445.72 1352.96,1445.72 1301.2,1445.72 \"/>\n",
       "<path clip-path=\"url(#clip582)\" d=\"M1352.96 1445.72 L1352.96 1445.72 L1404.71 1445.72 L1404.71 1445.72 L1352.96 1445.72 L1352.96 1445.72  Z\" fill=\"#e26f46\" fill-rule=\"evenodd\" fill-opacity=\"1\"/>\n",
       "<polyline clip-path=\"url(#clip582)\" style=\"stroke:#000000; stroke-linecap:round; stroke-linejoin:round; stroke-width:4; stroke-opacity:1; fill:none\" points=\"1352.96,1445.72 1352.96,1445.72 1404.71,1445.72 1352.96,1445.72 \"/>\n",
       "<path clip-path=\"url(#clip582)\" d=\"M1404.71 1445.72 L1404.71 1445.72 L1456.47 1445.72 L1456.47 1445.72 L1404.71 1445.72 L1404.71 1445.72  Z\" fill=\"#e26f46\" fill-rule=\"evenodd\" fill-opacity=\"1\"/>\n",
       "<polyline clip-path=\"url(#clip582)\" style=\"stroke:#000000; stroke-linecap:round; stroke-linejoin:round; stroke-width:4; stroke-opacity:1; fill:none\" points=\"1404.71,1445.72 1404.71,1445.72 1456.47,1445.72 1404.71,1445.72 \"/>\n",
       "<path clip-path=\"url(#clip582)\" d=\"M1456.47 87.9763 L1456.47 1445.72 L1508.23 1445.72 L1508.23 87.9763 L1456.47 87.9763 L1456.47 87.9763  Z\" fill=\"#e26f46\" fill-rule=\"evenodd\" fill-opacity=\"1\"/>\n",
       "<polyline clip-path=\"url(#clip582)\" style=\"stroke:#000000; stroke-linecap:round; stroke-linejoin:round; stroke-width:4; stroke-opacity:1; fill:none\" points=\"1456.47,87.9763 1456.47,1445.72 1508.23,1445.72 1508.23,87.9763 1456.47,87.9763 \"/>\n",
       "<circle clip-path=\"url(#clip582)\" style=\"fill:#e26f46; stroke:none; fill-opacity:0\" cx=\"1223.57\" cy=\"114.862\" r=\"2\"/>\n",
       "<circle clip-path=\"url(#clip582)\" style=\"fill:#e26f46; stroke:none; fill-opacity:0\" cx=\"1275.32\" cy=\"1445.72\" r=\"2\"/>\n",
       "<circle clip-path=\"url(#clip582)\" style=\"fill:#e26f46; stroke:none; fill-opacity:0\" cx=\"1327.08\" cy=\"1445.72\" r=\"2\"/>\n",
       "<circle clip-path=\"url(#clip582)\" style=\"fill:#e26f46; stroke:none; fill-opacity:0\" cx=\"1378.84\" cy=\"1445.72\" r=\"2\"/>\n",
       "<circle clip-path=\"url(#clip582)\" style=\"fill:#e26f46; stroke:none; fill-opacity:0\" cx=\"1430.59\" cy=\"1445.72\" r=\"2\"/>\n",
       "<circle clip-path=\"url(#clip582)\" style=\"fill:#e26f46; stroke:none; fill-opacity:0\" cx=\"1482.35\" cy=\"87.9763\" r=\"2\"/>\n",
       "<path clip-path=\"url(#clip580)\" d=\"M2009.56 250.738 L2280.06 250.738 L2280.06 95.2176 L2009.56 95.2176  Z\" fill=\"#ffffff\" fill-rule=\"evenodd\" fill-opacity=\"1\"/>\n",
       "<polyline clip-path=\"url(#clip580)\" style=\"stroke:#000000; stroke-linecap:round; stroke-linejoin:round; stroke-width:4; stroke-opacity:1; fill:none\" points=\"2009.56,250.738 2280.06,250.738 2280.06,95.2176 2009.56,95.2176 2009.56,250.738 \"/>\n",
       "<path clip-path=\"url(#clip580)\" d=\"M2033.79 167.794 L2179.17 167.794 L2179.17 126.322 L2033.79 126.322 L2033.79 167.794  Z\" fill=\"#009af9\" fill-rule=\"evenodd\" fill-opacity=\"1\"/>\n",
       "<polyline clip-path=\"url(#clip580)\" style=\"stroke:#000000; stroke-linecap:round; stroke-linejoin:round; stroke-width:4; stroke-opacity:1; fill:none\" points=\"2033.79,167.794 2179.17,167.794 2179.17,126.322 2033.79,126.322 2033.79,167.794 \"/>\n",
       "<path clip-path=\"url(#clip580)\" d=\"M2217.25 166.745 Q2215.44 171.375 2213.73 172.787 Q2212.01 174.199 2209.14 174.199 L2205.74 174.199 L2205.74 170.634 L2208.24 170.634 Q2210 170.634 2210.97 169.8 Q2211.95 168.967 2213.13 165.865 L2213.89 163.921 L2203.4 138.412 L2207.92 138.412 L2216.02 158.689 L2224.12 138.412 L2228.64 138.412 L2217.25 166.745 Z\" fill=\"#000000\" fill-rule=\"evenodd\" fill-opacity=\"1\" /><path clip-path=\"url(#clip580)\" d=\"M2235.93 160.402 L2243.57 160.402 L2243.57 134.037 L2235.26 135.703 L2235.26 131.444 L2243.52 129.778 L2248.2 129.778 L2248.2 160.402 L2255.83 160.402 L2255.83 164.338 L2235.93 164.338 L2235.93 160.402 Z\" fill=\"#000000\" fill-rule=\"evenodd\" fill-opacity=\"1\" /><path clip-path=\"url(#clip580)\" d=\"M2033.79 219.634 L2179.17 219.634 L2179.17 178.162 L2033.79 178.162 L2033.79 219.634  Z\" fill=\"#e26f46\" fill-rule=\"evenodd\" fill-opacity=\"1\"/>\n",
       "<polyline clip-path=\"url(#clip580)\" style=\"stroke:#000000; stroke-linecap:round; stroke-linejoin:round; stroke-width:4; stroke-opacity:1; fill:none\" points=\"2033.79,219.634 2179.17,219.634 2179.17,178.162 2033.79,178.162 2033.79,219.634 \"/>\n",
       "<path clip-path=\"url(#clip580)\" d=\"M2217.25 218.585 Q2215.44 223.215 2213.73 224.627 Q2212.01 226.039 2209.14 226.039 L2205.74 226.039 L2205.74 222.474 L2208.24 222.474 Q2210 222.474 2210.97 221.64 Q2211.95 220.807 2213.13 217.705 L2213.89 215.761 L2203.4 190.252 L2207.92 190.252 L2216.02 210.529 L2224.12 190.252 L2228.64 190.252 L2217.25 218.585 Z\" fill=\"#000000\" fill-rule=\"evenodd\" fill-opacity=\"1\" /><path clip-path=\"url(#clip580)\" d=\"M2239.14 212.242 L2255.46 212.242 L2255.46 216.178 L2233.52 216.178 L2233.52 212.242 Q2236.18 209.488 2240.76 204.858 Q2245.37 200.205 2246.55 198.863 Q2248.8 196.34 2249.68 194.604 Q2250.58 192.844 2250.58 191.155 Q2250.58 188.4 2248.64 186.664 Q2246.71 184.928 2243.61 184.928 Q2241.41 184.928 2238.96 185.692 Q2236.53 186.455 2233.75 188.006 L2233.75 183.284 Q2236.57 182.15 2239.03 181.571 Q2241.48 180.993 2243.52 180.993 Q2248.89 180.993 2252.08 183.678 Q2255.28 186.363 2255.28 190.854 Q2255.28 192.983 2254.47 194.905 Q2253.68 196.803 2251.57 199.395 Q2251 200.067 2247.89 203.284 Q2244.79 206.479 2239.14 212.242 Z\" fill=\"#000000\" fill-rule=\"evenodd\" fill-opacity=\"1\" /></svg>\n"
      ]
     },
     "execution_count": 60,
     "metadata": {},
     "output_type": "execute_result"
    }
   ],
   "source": [
    "using Plots\n",
    "using Plots\n",
    "histogram(random)\n",
    "histogram!(random2)"
   ]
  },
  {
   "cell_type": "markdown",
   "id": "b90287bd",
   "metadata": {},
   "source": [
    "### 3.6\n",
    "\n",
    "#### Draw 10000 samples from the two distributions separately and plot them in the same plot"
   ]
  },
  {
   "cell_type": "code",
   "execution_count": 61,
   "id": "98a69dd1",
   "metadata": {},
   "outputs": [
    {
     "data": {
      "image/svg+xml": [
       "<?xml version=\"1.0\" encoding=\"utf-8\"?>\n",
       "<svg xmlns=\"http://www.w3.org/2000/svg\" xmlns:xlink=\"http://www.w3.org/1999/xlink\" width=\"600\" height=\"400\" viewBox=\"0 0 2400 1600\">\n",
       "<defs>\n",
       "  <clipPath id=\"clip620\">\n",
       "    <rect x=\"0\" y=\"0\" width=\"2400\" height=\"1600\"/>\n",
       "  </clipPath>\n",
       "</defs>\n",
       "<path clip-path=\"url(#clip620)\" d=\"M0 1600 L2400 1600 L2400 0 L0 0  Z\" fill=\"#ffffff\" fill-rule=\"evenodd\" fill-opacity=\"1\"/>\n",
       "<defs>\n",
       "  <clipPath id=\"clip621\">\n",
       "    <rect x=\"480\" y=\"0\" width=\"1681\" height=\"1600\"/>\n",
       "  </clipPath>\n",
       "</defs>\n",
       "<path clip-path=\"url(#clip620)\" d=\"M202.177 1486.45 L2352.76 1486.45 L2352.76 47.2441 L202.177 47.2441  Z\" fill=\"#ffffff\" fill-rule=\"evenodd\" fill-opacity=\"1\"/>\n",
       "<defs>\n",
       "  <clipPath id=\"clip622\">\n",
       "    <rect x=\"202\" y=\"47\" width=\"2152\" height=\"1440\"/>\n",
       "  </clipPath>\n",
       "</defs>\n",
       "<polyline clip-path=\"url(#clip622)\" style=\"stroke:#000000; stroke-linecap:round; stroke-linejoin:round; stroke-width:2; stroke-opacity:0.1; fill:none\" points=\"214.129,1486.45 214.129,47.2441 \"/>\n",
       "<polyline clip-path=\"url(#clip622)\" style=\"stroke:#000000; stroke-linecap:round; stroke-linejoin:round; stroke-width:2; stroke-opacity:0.1; fill:none\" points=\"745.797,1486.45 745.797,47.2441 \"/>\n",
       "<polyline clip-path=\"url(#clip622)\" style=\"stroke:#000000; stroke-linecap:round; stroke-linejoin:round; stroke-width:2; stroke-opacity:0.1; fill:none\" points=\"1277.47,1486.45 1277.47,47.2441 \"/>\n",
       "<polyline clip-path=\"url(#clip622)\" style=\"stroke:#000000; stroke-linecap:round; stroke-linejoin:round; stroke-width:2; stroke-opacity:0.1; fill:none\" points=\"1809.14,1486.45 1809.14,47.2441 \"/>\n",
       "<polyline clip-path=\"url(#clip622)\" style=\"stroke:#000000; stroke-linecap:round; stroke-linejoin:round; stroke-width:2; stroke-opacity:0.1; fill:none\" points=\"2340.8,1486.45 2340.8,47.2441 \"/>\n",
       "<polyline clip-path=\"url(#clip620)\" style=\"stroke:#000000; stroke-linecap:round; stroke-linejoin:round; stroke-width:4; stroke-opacity:1; fill:none\" points=\"202.177,1486.45 2352.76,1486.45 \"/>\n",
       "<polyline clip-path=\"url(#clip620)\" style=\"stroke:#000000; stroke-linecap:round; stroke-linejoin:round; stroke-width:4; stroke-opacity:1; fill:none\" points=\"214.129,1486.45 214.129,1467.55 \"/>\n",
       "<polyline clip-path=\"url(#clip620)\" style=\"stroke:#000000; stroke-linecap:round; stroke-linejoin:round; stroke-width:4; stroke-opacity:1; fill:none\" points=\"745.797,1486.45 745.797,1467.55 \"/>\n",
       "<polyline clip-path=\"url(#clip620)\" style=\"stroke:#000000; stroke-linecap:round; stroke-linejoin:round; stroke-width:4; stroke-opacity:1; fill:none\" points=\"1277.47,1486.45 1277.47,1467.55 \"/>\n",
       "<polyline clip-path=\"url(#clip620)\" style=\"stroke:#000000; stroke-linecap:round; stroke-linejoin:round; stroke-width:4; stroke-opacity:1; fill:none\" points=\"1809.14,1486.45 1809.14,1467.55 \"/>\n",
       "<polyline clip-path=\"url(#clip620)\" style=\"stroke:#000000; stroke-linecap:round; stroke-linejoin:round; stroke-width:4; stroke-opacity:1; fill:none\" points=\"2340.8,1486.45 2340.8,1467.55 \"/>\n",
       "<path clip-path=\"url(#clip620)\" d=\"M183.029 1532.02 L212.705 1532.02 L212.705 1535.95 L183.029 1535.95 L183.029 1532.02 Z\" fill=\"#000000\" fill-rule=\"evenodd\" fill-opacity=\"1\" /><path clip-path=\"url(#clip620)\" d=\"M235.645 1518.36 L223.839 1536.81 L235.645 1536.81 L235.645 1518.36 M234.418 1514.29 L240.297 1514.29 L240.297 1536.81 L245.228 1536.81 L245.228 1540.7 L240.297 1540.7 L240.297 1548.85 L235.645 1548.85 L235.645 1540.7 L220.043 1540.7 L220.043 1536.19 L234.418 1514.29 Z\" fill=\"#000000\" fill-rule=\"evenodd\" fill-opacity=\"1\" /><path clip-path=\"url(#clip620)\" d=\"M715.74 1532.02 L745.416 1532.02 L745.416 1535.95 L715.74 1535.95 L715.74 1532.02 Z\" fill=\"#000000\" fill-rule=\"evenodd\" fill-opacity=\"1\" /><path clip-path=\"url(#clip620)\" d=\"M759.536 1544.91 L775.855 1544.91 L775.855 1548.85 L753.911 1548.85 L753.911 1544.91 Q756.573 1542.16 761.156 1537.53 Q765.763 1532.88 766.943 1531.53 Q769.189 1529.01 770.068 1527.27 Q770.971 1525.51 770.971 1523.82 Q770.971 1521.07 769.026 1519.33 Q767.105 1517.6 764.003 1517.6 Q761.804 1517.6 759.351 1518.36 Q756.92 1519.13 754.142 1520.68 L754.142 1515.95 Q756.966 1514.82 759.42 1514.24 Q761.874 1513.66 763.911 1513.66 Q769.281 1513.66 772.476 1516.35 Q775.67 1519.03 775.67 1523.52 Q775.67 1525.65 774.86 1527.57 Q774.073 1529.47 771.966 1532.07 Q771.388 1532.74 768.286 1535.95 Q765.184 1539.15 759.536 1544.91 Z\" fill=\"#000000\" fill-rule=\"evenodd\" fill-opacity=\"1\" /><path clip-path=\"url(#clip620)\" d=\"M1277.47 1517.37 Q1273.86 1517.37 1272.03 1520.93 Q1270.22 1524.47 1270.22 1531.6 Q1270.22 1538.71 1272.03 1542.27 Q1273.86 1545.82 1277.47 1545.82 Q1281.1 1545.82 1282.91 1542.27 Q1284.73 1538.71 1284.73 1531.6 Q1284.73 1524.47 1282.91 1520.93 Q1281.1 1517.37 1277.47 1517.37 M1277.47 1513.66 Q1283.28 1513.66 1286.33 1518.27 Q1289.41 1522.85 1289.41 1531.6 Q1289.41 1540.33 1286.33 1544.94 Q1283.28 1549.52 1277.47 1549.52 Q1271.66 1549.52 1268.58 1544.94 Q1265.52 1540.33 1265.52 1531.6 Q1265.52 1522.85 1268.58 1518.27 Q1271.66 1513.66 1277.47 1513.66 Z\" fill=\"#000000\" fill-rule=\"evenodd\" fill-opacity=\"1\" /><path clip-path=\"url(#clip620)\" d=\"M1803.79 1544.91 L1820.11 1544.91 L1820.11 1548.85 L1798.16 1548.85 L1798.16 1544.91 Q1800.83 1542.16 1805.41 1537.53 Q1810.01 1532.88 1811.2 1531.53 Q1813.44 1529.01 1814.32 1527.27 Q1815.22 1525.51 1815.22 1523.82 Q1815.22 1521.07 1813.28 1519.33 Q1811.36 1517.6 1808.26 1517.6 Q1806.06 1517.6 1803.6 1518.36 Q1801.17 1519.13 1798.39 1520.68 L1798.39 1515.95 Q1801.22 1514.82 1803.67 1514.24 Q1806.13 1513.66 1808.16 1513.66 Q1813.53 1513.66 1816.73 1516.35 Q1819.92 1519.03 1819.92 1523.52 Q1819.92 1525.65 1819.11 1527.57 Q1818.32 1529.47 1816.22 1532.07 Q1815.64 1532.74 1812.54 1535.95 Q1809.44 1539.15 1803.79 1544.91 Z\" fill=\"#000000\" fill-rule=\"evenodd\" fill-opacity=\"1\" /><path clip-path=\"url(#clip620)\" d=\"M2343.81 1518.36 L2332.01 1536.81 L2343.81 1536.81 L2343.81 1518.36 M2342.59 1514.29 L2348.47 1514.29 L2348.47 1536.81 L2353.4 1536.81 L2353.4 1540.7 L2348.47 1540.7 L2348.47 1548.85 L2343.81 1548.85 L2343.81 1540.7 L2328.21 1540.7 L2328.21 1536.19 L2342.59 1514.29 Z\" fill=\"#000000\" fill-rule=\"evenodd\" fill-opacity=\"1\" /><polyline clip-path=\"url(#clip622)\" style=\"stroke:#000000; stroke-linecap:round; stroke-linejoin:round; stroke-width:2; stroke-opacity:0.1; fill:none\" points=\"202.177,1445.72 2352.76,1445.72 \"/>\n",
       "<polyline clip-path=\"url(#clip622)\" style=\"stroke:#000000; stroke-linecap:round; stroke-linejoin:round; stroke-width:2; stroke-opacity:0.1; fill:none\" points=\"202.177,1176.8 2352.76,1176.8 \"/>\n",
       "<polyline clip-path=\"url(#clip622)\" style=\"stroke:#000000; stroke-linecap:round; stroke-linejoin:round; stroke-width:2; stroke-opacity:0.1; fill:none\" points=\"202.177,907.891 2352.76,907.891 \"/>\n",
       "<polyline clip-path=\"url(#clip622)\" style=\"stroke:#000000; stroke-linecap:round; stroke-linejoin:round; stroke-width:2; stroke-opacity:0.1; fill:none\" points=\"202.177,638.978 2352.76,638.978 \"/>\n",
       "<polyline clip-path=\"url(#clip622)\" style=\"stroke:#000000; stroke-linecap:round; stroke-linejoin:round; stroke-width:2; stroke-opacity:0.1; fill:none\" points=\"202.177,370.066 2352.76,370.066 \"/>\n",
       "<polyline clip-path=\"url(#clip622)\" style=\"stroke:#000000; stroke-linecap:round; stroke-linejoin:round; stroke-width:2; stroke-opacity:0.1; fill:none\" points=\"202.177,101.153 2352.76,101.153 \"/>\n",
       "<polyline clip-path=\"url(#clip620)\" style=\"stroke:#000000; stroke-linecap:round; stroke-linejoin:round; stroke-width:4; stroke-opacity:1; fill:none\" points=\"202.177,1486.45 202.177,47.2441 \"/>\n",
       "<polyline clip-path=\"url(#clip620)\" style=\"stroke:#000000; stroke-linecap:round; stroke-linejoin:round; stroke-width:4; stroke-opacity:1; fill:none\" points=\"202.177,1445.72 221.074,1445.72 \"/>\n",
       "<polyline clip-path=\"url(#clip620)\" style=\"stroke:#000000; stroke-linecap:round; stroke-linejoin:round; stroke-width:4; stroke-opacity:1; fill:none\" points=\"202.177,1176.8 221.074,1176.8 \"/>\n",
       "<polyline clip-path=\"url(#clip620)\" style=\"stroke:#000000; stroke-linecap:round; stroke-linejoin:round; stroke-width:4; stroke-opacity:1; fill:none\" points=\"202.177,907.891 221.074,907.891 \"/>\n",
       "<polyline clip-path=\"url(#clip620)\" style=\"stroke:#000000; stroke-linecap:round; stroke-linejoin:round; stroke-width:4; stroke-opacity:1; fill:none\" points=\"202.177,638.978 221.074,638.978 \"/>\n",
       "<polyline clip-path=\"url(#clip620)\" style=\"stroke:#000000; stroke-linecap:round; stroke-linejoin:round; stroke-width:4; stroke-opacity:1; fill:none\" points=\"202.177,370.066 221.074,370.066 \"/>\n",
       "<polyline clip-path=\"url(#clip620)\" style=\"stroke:#000000; stroke-linecap:round; stroke-linejoin:round; stroke-width:4; stroke-opacity:1; fill:none\" points=\"202.177,101.153 221.074,101.153 \"/>\n",
       "<path clip-path=\"url(#clip620)\" d=\"M154.232 1431.51 Q150.621 1431.51 148.793 1435.08 Q146.987 1438.62 146.987 1445.75 Q146.987 1452.86 148.793 1456.42 Q150.621 1459.96 154.232 1459.96 Q157.867 1459.96 159.672 1456.42 Q161.501 1452.86 161.501 1445.75 Q161.501 1438.62 159.672 1435.08 Q157.867 1431.51 154.232 1431.51 M154.232 1427.81 Q160.042 1427.81 163.098 1432.42 Q166.177 1437 166.177 1445.75 Q166.177 1454.48 163.098 1459.08 Q160.042 1463.67 154.232 1463.67 Q148.422 1463.67 145.343 1459.08 Q142.288 1454.48 142.288 1445.75 Q142.288 1437 145.343 1432.42 Q148.422 1427.81 154.232 1427.81 Z\" fill=\"#000000\" fill-rule=\"evenodd\" fill-opacity=\"1\" /><path clip-path=\"url(#clip620)\" d=\"M54.5569 1190.15 L62.1958 1190.15 L62.1958 1163.78 L53.8856 1165.45 L53.8856 1161.19 L62.1495 1159.52 L66.8254 1159.52 L66.8254 1190.15 L74.4642 1190.15 L74.4642 1194.08 L54.5569 1194.08 L54.5569 1190.15 Z\" fill=\"#000000\" fill-rule=\"evenodd\" fill-opacity=\"1\" /><path clip-path=\"url(#clip620)\" d=\"M93.9086 1162.6 Q90.2975 1162.6 88.4688 1166.17 Q86.6632 1169.71 86.6632 1176.84 Q86.6632 1183.94 88.4688 1187.51 Q90.2975 1191.05 93.9086 1191.05 Q97.5428 1191.05 99.3483 1187.51 Q101.177 1183.94 101.177 1176.84 Q101.177 1169.71 99.3483 1166.17 Q97.5428 1162.6 93.9086 1162.6 M93.9086 1158.9 Q99.7187 1158.9 102.774 1163.5 Q105.853 1168.09 105.853 1176.84 Q105.853 1185.56 102.774 1190.17 Q99.7187 1194.75 93.9086 1194.75 Q88.0984 1194.75 85.0197 1190.17 Q81.9642 1185.56 81.9642 1176.84 Q81.9642 1168.09 85.0197 1163.5 Q88.0984 1158.9 93.9086 1158.9 Z\" fill=\"#000000\" fill-rule=\"evenodd\" fill-opacity=\"1\" /><path clip-path=\"url(#clip620)\" d=\"M124.07 1162.6 Q120.459 1162.6 118.631 1166.17 Q116.825 1169.71 116.825 1176.84 Q116.825 1183.94 118.631 1187.51 Q120.459 1191.05 124.07 1191.05 Q127.705 1191.05 129.51 1187.51 Q131.339 1183.94 131.339 1176.84 Q131.339 1169.71 129.51 1166.17 Q127.705 1162.6 124.07 1162.6 M124.07 1158.9 Q129.881 1158.9 132.936 1163.5 Q136.015 1168.09 136.015 1176.84 Q136.015 1185.56 132.936 1190.17 Q129.881 1194.75 124.07 1194.75 Q118.26 1194.75 115.182 1190.17 Q112.126 1185.56 112.126 1176.84 Q112.126 1168.09 115.182 1163.5 Q118.26 1158.9 124.07 1158.9 Z\" fill=\"#000000\" fill-rule=\"evenodd\" fill-opacity=\"1\" /><path clip-path=\"url(#clip620)\" d=\"M154.232 1162.6 Q150.621 1162.6 148.793 1166.17 Q146.987 1169.71 146.987 1176.84 Q146.987 1183.94 148.793 1187.51 Q150.621 1191.05 154.232 1191.05 Q157.867 1191.05 159.672 1187.51 Q161.501 1183.94 161.501 1176.84 Q161.501 1169.71 159.672 1166.17 Q157.867 1162.6 154.232 1162.6 M154.232 1158.9 Q160.042 1158.9 163.098 1163.5 Q166.177 1168.09 166.177 1176.84 Q166.177 1185.56 163.098 1190.17 Q160.042 1194.75 154.232 1194.75 Q148.422 1194.75 145.343 1190.17 Q142.288 1185.56 142.288 1176.84 Q142.288 1168.09 145.343 1163.5 Q148.422 1158.9 154.232 1158.9 Z\" fill=\"#000000\" fill-rule=\"evenodd\" fill-opacity=\"1\" /><path clip-path=\"url(#clip620)\" d=\"M57.7745 921.235 L74.0939 921.235 L74.0939 925.171 L52.1495 925.171 L52.1495 921.235 Q54.8115 918.481 59.3949 913.851 Q64.0013 909.198 65.1819 907.856 Q67.4272 905.333 68.3068 903.597 Q69.2096 901.837 69.2096 900.148 Q69.2096 897.393 67.2652 895.657 Q65.3439 893.921 62.2421 893.921 Q60.043 893.921 57.5893 894.685 Q55.1588 895.449 52.381 896.999 L52.381 892.277 Q55.2051 891.143 57.6588 890.564 Q60.1124 889.986 62.1495 889.986 Q67.5198 889.986 70.7142 892.671 Q73.9087 895.356 73.9087 899.847 Q73.9087 901.976 73.0985 903.898 Q72.3115 905.796 70.205 908.388 Q69.6263 909.06 66.5245 912.277 Q63.4226 915.472 57.7745 921.235 Z\" fill=\"#000000\" fill-rule=\"evenodd\" fill-opacity=\"1\" /><path clip-path=\"url(#clip620)\" d=\"M93.9086 893.689 Q90.2975 893.689 88.4688 897.254 Q86.6632 900.796 86.6632 907.925 Q86.6632 915.032 88.4688 918.597 Q90.2975 922.138 93.9086 922.138 Q97.5428 922.138 99.3483 918.597 Q101.177 915.032 101.177 907.925 Q101.177 900.796 99.3483 897.254 Q97.5428 893.689 93.9086 893.689 M93.9086 889.986 Q99.7187 889.986 102.774 894.592 Q105.853 899.175 105.853 907.925 Q105.853 916.652 102.774 921.259 Q99.7187 925.842 93.9086 925.842 Q88.0984 925.842 85.0197 921.259 Q81.9642 916.652 81.9642 907.925 Q81.9642 899.175 85.0197 894.592 Q88.0984 889.986 93.9086 889.986 Z\" fill=\"#000000\" fill-rule=\"evenodd\" fill-opacity=\"1\" /><path clip-path=\"url(#clip620)\" d=\"M124.07 893.689 Q120.459 893.689 118.631 897.254 Q116.825 900.796 116.825 907.925 Q116.825 915.032 118.631 918.597 Q120.459 922.138 124.07 922.138 Q127.705 922.138 129.51 918.597 Q131.339 915.032 131.339 907.925 Q131.339 900.796 129.51 897.254 Q127.705 893.689 124.07 893.689 M124.07 889.986 Q129.881 889.986 132.936 894.592 Q136.015 899.175 136.015 907.925 Q136.015 916.652 132.936 921.259 Q129.881 925.842 124.07 925.842 Q118.26 925.842 115.182 921.259 Q112.126 916.652 112.126 907.925 Q112.126 899.175 115.182 894.592 Q118.26 889.986 124.07 889.986 Z\" fill=\"#000000\" fill-rule=\"evenodd\" fill-opacity=\"1\" /><path clip-path=\"url(#clip620)\" d=\"M154.232 893.689 Q150.621 893.689 148.793 897.254 Q146.987 900.796 146.987 907.925 Q146.987 915.032 148.793 918.597 Q150.621 922.138 154.232 922.138 Q157.867 922.138 159.672 918.597 Q161.501 915.032 161.501 907.925 Q161.501 900.796 159.672 897.254 Q157.867 893.689 154.232 893.689 M154.232 889.986 Q160.042 889.986 163.098 894.592 Q166.177 899.175 166.177 907.925 Q166.177 916.652 163.098 921.259 Q160.042 925.842 154.232 925.842 Q148.422 925.842 145.343 921.259 Q142.288 916.652 142.288 907.925 Q142.288 899.175 145.343 894.592 Q148.422 889.986 154.232 889.986 Z\" fill=\"#000000\" fill-rule=\"evenodd\" fill-opacity=\"1\" /><path clip-path=\"url(#clip620)\" d=\"M67.9133 637.624 Q71.2698 638.342 73.1448 640.61 Q75.0429 642.879 75.0429 646.212 Q75.0429 651.328 71.5244 654.128 Q68.0059 656.929 61.5245 656.929 Q59.3486 656.929 57.0338 656.49 Q54.7421 656.073 52.2884 655.216 L52.2884 650.703 Q54.2328 651.837 56.5477 652.415 Q58.8625 652.994 61.3856 652.994 Q65.7837 652.994 68.0754 651.258 Q70.3902 649.522 70.3902 646.212 Q70.3902 643.156 68.2374 641.443 Q66.1078 639.707 62.2884 639.707 L58.2606 639.707 L58.2606 635.865 L62.4735 635.865 Q65.9226 635.865 67.7513 634.499 Q69.58 633.11 69.58 630.517 Q69.58 627.855 67.6819 626.443 Q65.8069 625.008 62.2884 625.008 Q60.3671 625.008 58.168 625.425 Q55.969 625.842 53.3301 626.721 L53.3301 622.555 Q55.9921 621.814 58.3069 621.443 Q60.6449 621.073 62.705 621.073 Q68.0291 621.073 71.1309 623.504 Q74.2327 625.911 74.2327 630.031 Q74.2327 632.902 72.5892 634.892 Q70.9457 636.86 67.9133 637.624 Z\" fill=\"#000000\" fill-rule=\"evenodd\" fill-opacity=\"1\" /><path clip-path=\"url(#clip620)\" d=\"M93.9086 624.777 Q90.2975 624.777 88.4688 628.342 Q86.6632 631.883 86.6632 639.013 Q86.6632 646.119 88.4688 649.684 Q90.2975 653.226 93.9086 653.226 Q97.5428 653.226 99.3483 649.684 Q101.177 646.119 101.177 639.013 Q101.177 631.883 99.3483 628.342 Q97.5428 624.777 93.9086 624.777 M93.9086 621.073 Q99.7187 621.073 102.774 625.68 Q105.853 630.263 105.853 639.013 Q105.853 647.74 102.774 652.346 Q99.7187 656.929 93.9086 656.929 Q88.0984 656.929 85.0197 652.346 Q81.9642 647.74 81.9642 639.013 Q81.9642 630.263 85.0197 625.68 Q88.0984 621.073 93.9086 621.073 Z\" fill=\"#000000\" fill-rule=\"evenodd\" fill-opacity=\"1\" /><path clip-path=\"url(#clip620)\" d=\"M124.07 624.777 Q120.459 624.777 118.631 628.342 Q116.825 631.883 116.825 639.013 Q116.825 646.119 118.631 649.684 Q120.459 653.226 124.07 653.226 Q127.705 653.226 129.51 649.684 Q131.339 646.119 131.339 639.013 Q131.339 631.883 129.51 628.342 Q127.705 624.777 124.07 624.777 M124.07 621.073 Q129.881 621.073 132.936 625.68 Q136.015 630.263 136.015 639.013 Q136.015 647.74 132.936 652.346 Q129.881 656.929 124.07 656.929 Q118.26 656.929 115.182 652.346 Q112.126 647.74 112.126 639.013 Q112.126 630.263 115.182 625.68 Q118.26 621.073 124.07 621.073 Z\" fill=\"#000000\" fill-rule=\"evenodd\" fill-opacity=\"1\" /><path clip-path=\"url(#clip620)\" d=\"M154.232 624.777 Q150.621 624.777 148.793 628.342 Q146.987 631.883 146.987 639.013 Q146.987 646.119 148.793 649.684 Q150.621 653.226 154.232 653.226 Q157.867 653.226 159.672 649.684 Q161.501 646.119 161.501 639.013 Q161.501 631.883 159.672 628.342 Q157.867 624.777 154.232 624.777 M154.232 621.073 Q160.042 621.073 163.098 625.68 Q166.177 630.263 166.177 639.013 Q166.177 647.74 163.098 652.346 Q160.042 656.929 154.232 656.929 Q148.422 656.929 145.343 652.346 Q142.288 647.74 142.288 639.013 Q142.288 630.263 145.343 625.68 Q148.422 621.073 154.232 621.073 Z\" fill=\"#000000\" fill-rule=\"evenodd\" fill-opacity=\"1\" /><path clip-path=\"url(#clip620)\" d=\"M66.5939 356.86 L54.7884 375.309 L66.5939 375.309 L66.5939 356.86 M65.367 352.786 L71.2466 352.786 L71.2466 375.309 L76.1772 375.309 L76.1772 379.197 L71.2466 379.197 L71.2466 387.346 L66.5939 387.346 L66.5939 379.197 L50.9921 379.197 L50.9921 374.684 L65.367 352.786 Z\" fill=\"#000000\" fill-rule=\"evenodd\" fill-opacity=\"1\" /><path clip-path=\"url(#clip620)\" d=\"M93.9086 355.864 Q90.2975 355.864 88.4688 359.429 Q86.6632 362.971 86.6632 370.1 Q86.6632 377.207 88.4688 380.771 Q90.2975 384.313 93.9086 384.313 Q97.5428 384.313 99.3483 380.771 Q101.177 377.207 101.177 370.1 Q101.177 362.971 99.3483 359.429 Q97.5428 355.864 93.9086 355.864 M93.9086 352.161 Q99.7187 352.161 102.774 356.767 Q105.853 361.35 105.853 370.1 Q105.853 378.827 102.774 383.434 Q99.7187 388.017 93.9086 388.017 Q88.0984 388.017 85.0197 383.434 Q81.9642 378.827 81.9642 370.1 Q81.9642 361.35 85.0197 356.767 Q88.0984 352.161 93.9086 352.161 Z\" fill=\"#000000\" fill-rule=\"evenodd\" fill-opacity=\"1\" /><path clip-path=\"url(#clip620)\" d=\"M124.07 355.864 Q120.459 355.864 118.631 359.429 Q116.825 362.971 116.825 370.1 Q116.825 377.207 118.631 380.771 Q120.459 384.313 124.07 384.313 Q127.705 384.313 129.51 380.771 Q131.339 377.207 131.339 370.1 Q131.339 362.971 129.51 359.429 Q127.705 355.864 124.07 355.864 M124.07 352.161 Q129.881 352.161 132.936 356.767 Q136.015 361.35 136.015 370.1 Q136.015 378.827 132.936 383.434 Q129.881 388.017 124.07 388.017 Q118.26 388.017 115.182 383.434 Q112.126 378.827 112.126 370.1 Q112.126 361.35 115.182 356.767 Q118.26 352.161 124.07 352.161 Z\" fill=\"#000000\" fill-rule=\"evenodd\" fill-opacity=\"1\" /><path clip-path=\"url(#clip620)\" d=\"M154.232 355.864 Q150.621 355.864 148.793 359.429 Q146.987 362.971 146.987 370.1 Q146.987 377.207 148.793 380.771 Q150.621 384.313 154.232 384.313 Q157.867 384.313 159.672 380.771 Q161.501 377.207 161.501 370.1 Q161.501 362.971 159.672 359.429 Q157.867 355.864 154.232 355.864 M154.232 352.161 Q160.042 352.161 163.098 356.767 Q166.177 361.35 166.177 370.1 Q166.177 378.827 163.098 383.434 Q160.042 388.017 154.232 388.017 Q148.422 388.017 145.343 383.434 Q142.288 378.827 142.288 370.1 Q142.288 361.35 145.343 356.767 Q148.422 352.161 154.232 352.161 Z\" fill=\"#000000\" fill-rule=\"evenodd\" fill-opacity=\"1\" /><path clip-path=\"url(#clip620)\" d=\"M53.793 83.873 L72.1494 83.873 L72.1494 87.8082 L58.0754 87.8082 L58.0754 96.2803 Q59.0939 95.9331 60.1124 95.7711 Q61.131 95.5859 62.1495 95.5859 Q67.9365 95.5859 71.3161 98.7572 Q74.6957 101.928 74.6957 107.345 Q74.6957 112.924 71.2235 116.026 Q67.7513 119.104 61.4319 119.104 Q59.256 119.104 56.9875 118.734 Q54.7421 118.364 52.3347 117.623 L52.3347 112.924 Q54.418 114.058 56.6402 114.614 Q58.8625 115.169 61.3393 115.169 Q65.3439 115.169 67.6819 113.063 Q70.0198 110.956 70.0198 107.345 Q70.0198 103.734 67.6819 101.628 Q65.3439 99.5211 61.3393 99.5211 Q59.4643 99.5211 57.5893 99.9377 Q55.7375 100.354 53.793 101.234 L53.793 83.873 Z\" fill=\"#000000\" fill-rule=\"evenodd\" fill-opacity=\"1\" /><path clip-path=\"url(#clip620)\" d=\"M93.9086 86.9517 Q90.2975 86.9517 88.4688 90.5165 Q86.6632 94.0581 86.6632 101.188 Q86.6632 108.294 88.4688 111.859 Q90.2975 115.401 93.9086 115.401 Q97.5428 115.401 99.3483 111.859 Q101.177 108.294 101.177 101.188 Q101.177 94.0581 99.3483 90.5165 Q97.5428 86.9517 93.9086 86.9517 M93.9086 83.248 Q99.7187 83.248 102.774 87.8545 Q105.853 92.4378 105.853 101.188 Q105.853 109.915 102.774 114.521 Q99.7187 119.104 93.9086 119.104 Q88.0984 119.104 85.0197 114.521 Q81.9642 109.915 81.9642 101.188 Q81.9642 92.4378 85.0197 87.8545 Q88.0984 83.248 93.9086 83.248 Z\" fill=\"#000000\" fill-rule=\"evenodd\" fill-opacity=\"1\" /><path clip-path=\"url(#clip620)\" d=\"M124.07 86.9517 Q120.459 86.9517 118.631 90.5165 Q116.825 94.0581 116.825 101.188 Q116.825 108.294 118.631 111.859 Q120.459 115.401 124.07 115.401 Q127.705 115.401 129.51 111.859 Q131.339 108.294 131.339 101.188 Q131.339 94.0581 129.51 90.5165 Q127.705 86.9517 124.07 86.9517 M124.07 83.248 Q129.881 83.248 132.936 87.8545 Q136.015 92.4378 136.015 101.188 Q136.015 109.915 132.936 114.521 Q129.881 119.104 124.07 119.104 Q118.26 119.104 115.182 114.521 Q112.126 109.915 112.126 101.188 Q112.126 92.4378 115.182 87.8545 Q118.26 83.248 124.07 83.248 Z\" fill=\"#000000\" fill-rule=\"evenodd\" fill-opacity=\"1\" /><path clip-path=\"url(#clip620)\" d=\"M154.232 86.9517 Q150.621 86.9517 148.793 90.5165 Q146.987 94.0581 146.987 101.188 Q146.987 108.294 148.793 111.859 Q150.621 115.401 154.232 115.401 Q157.867 115.401 159.672 111.859 Q161.501 108.294 161.501 101.188 Q161.501 94.0581 159.672 90.5165 Q157.867 86.9517 154.232 86.9517 M154.232 83.248 Q160.042 83.248 163.098 87.8545 Q166.177 92.4378 166.177 101.188 Q166.177 109.915 163.098 114.521 Q160.042 119.104 154.232 119.104 Q148.422 119.104 145.343 114.521 Q142.288 109.915 142.288 101.188 Q142.288 92.4378 145.343 87.8545 Q148.422 83.248 154.232 83.248 Z\" fill=\"#000000\" fill-rule=\"evenodd\" fill-opacity=\"1\" /><path clip-path=\"url(#clip622)\" d=\"M320.462 1445.45 L320.462 1445.72 L373.629 1445.72 L373.629 1445.45 L320.462 1445.45 L320.462 1445.45  Z\" fill=\"#009af9\" fill-rule=\"evenodd\" fill-opacity=\"1\"/>\n",
       "<polyline clip-path=\"url(#clip622)\" style=\"stroke:#000000; stroke-linecap:round; stroke-linejoin:round; stroke-width:4; stroke-opacity:1; fill:none\" points=\"320.462,1445.45 320.462,1445.72 373.629,1445.72 373.629,1445.45 320.462,1445.45 \"/>\n",
       "<path clip-path=\"url(#clip622)\" d=\"M373.629 1444.91 L373.629 1445.72 L426.796 1445.72 L426.796 1444.91 L373.629 1444.91 L373.629 1444.91  Z\" fill=\"#009af9\" fill-rule=\"evenodd\" fill-opacity=\"1\"/>\n",
       "<polyline clip-path=\"url(#clip622)\" style=\"stroke:#000000; stroke-linecap:round; stroke-linejoin:round; stroke-width:4; stroke-opacity:1; fill:none\" points=\"373.629,1444.91 373.629,1445.72 426.796,1445.72 426.796,1444.91 373.629,1444.91 \"/>\n",
       "<path clip-path=\"url(#clip622)\" d=\"M426.796 1443.83 L426.796 1445.72 L479.963 1445.72 L479.963 1443.83 L426.796 1443.83 L426.796 1443.83  Z\" fill=\"#009af9\" fill-rule=\"evenodd\" fill-opacity=\"1\"/>\n",
       "<polyline clip-path=\"url(#clip622)\" style=\"stroke:#000000; stroke-linecap:round; stroke-linejoin:round; stroke-width:4; stroke-opacity:1; fill:none\" points=\"426.796,1443.83 426.796,1445.72 479.963,1445.72 479.963,1443.83 426.796,1443.83 \"/>\n",
       "<path clip-path=\"url(#clip622)\" d=\"M479.963 1442.49 L479.963 1445.72 L533.13 1445.72 L533.13 1442.49 L479.963 1442.49 L479.963 1442.49  Z\" fill=\"#009af9\" fill-rule=\"evenodd\" fill-opacity=\"1\"/>\n",
       "<polyline clip-path=\"url(#clip622)\" style=\"stroke:#000000; stroke-linecap:round; stroke-linejoin:round; stroke-width:4; stroke-opacity:1; fill:none\" points=\"479.963,1442.49 479.963,1445.72 533.13,1445.72 533.13,1442.49 479.963,1442.49 \"/>\n",
       "<path clip-path=\"url(#clip622)\" d=\"M533.13 1440.88 L533.13 1445.72 L586.297 1445.72 L586.297 1440.88 L533.13 1440.88 L533.13 1440.88  Z\" fill=\"#009af9\" fill-rule=\"evenodd\" fill-opacity=\"1\"/>\n",
       "<polyline clip-path=\"url(#clip622)\" style=\"stroke:#000000; stroke-linecap:round; stroke-linejoin:round; stroke-width:4; stroke-opacity:1; fill:none\" points=\"533.13,1440.88 533.13,1445.72 586.297,1445.72 586.297,1440.88 533.13,1440.88 \"/>\n",
       "<path clip-path=\"url(#clip622)\" d=\"M586.297 1436.03 L586.297 1445.72 L639.464 1445.72 L639.464 1436.03 L586.297 1436.03 L586.297 1436.03  Z\" fill=\"#009af9\" fill-rule=\"evenodd\" fill-opacity=\"1\"/>\n",
       "<polyline clip-path=\"url(#clip622)\" style=\"stroke:#000000; stroke-linecap:round; stroke-linejoin:round; stroke-width:4; stroke-opacity:1; fill:none\" points=\"586.297,1436.03 586.297,1445.72 639.464,1445.72 639.464,1436.03 586.297,1436.03 \"/>\n",
       "<path clip-path=\"url(#clip622)\" d=\"M639.464 1429.85 L639.464 1445.72 L692.631 1445.72 L692.631 1429.85 L639.464 1429.85 L639.464 1429.85  Z\" fill=\"#009af9\" fill-rule=\"evenodd\" fill-opacity=\"1\"/>\n",
       "<polyline clip-path=\"url(#clip622)\" style=\"stroke:#000000; stroke-linecap:round; stroke-linejoin:round; stroke-width:4; stroke-opacity:1; fill:none\" points=\"639.464,1429.85 639.464,1445.72 692.631,1445.72 692.631,1429.85 639.464,1429.85 \"/>\n",
       "<path clip-path=\"url(#clip622)\" d=\"M692.631 1417.48 L692.631 1445.72 L745.797 1445.72 L745.797 1417.48 L692.631 1417.48 L692.631 1417.48  Z\" fill=\"#009af9\" fill-rule=\"evenodd\" fill-opacity=\"1\"/>\n",
       "<polyline clip-path=\"url(#clip622)\" style=\"stroke:#000000; stroke-linecap:round; stroke-linejoin:round; stroke-width:4; stroke-opacity:1; fill:none\" points=\"692.631,1417.48 692.631,1445.72 745.797,1445.72 745.797,1417.48 692.631,1417.48 \"/>\n",
       "<path clip-path=\"url(#clip622)\" d=\"M745.797 1411.56 L745.797 1445.72 L798.964 1445.72 L798.964 1411.56 L745.797 1411.56 L745.797 1411.56  Z\" fill=\"#009af9\" fill-rule=\"evenodd\" fill-opacity=\"1\"/>\n",
       "<polyline clip-path=\"url(#clip622)\" style=\"stroke:#000000; stroke-linecap:round; stroke-linejoin:round; stroke-width:4; stroke-opacity:1; fill:none\" points=\"745.797,1411.56 745.797,1445.72 798.964,1445.72 798.964,1411.56 745.797,1411.56 \"/>\n",
       "<path clip-path=\"url(#clip622)\" d=\"M798.964 1390.05 L798.964 1445.72 L852.131 1445.72 L852.131 1390.05 L798.964 1390.05 L798.964 1390.05  Z\" fill=\"#009af9\" fill-rule=\"evenodd\" fill-opacity=\"1\"/>\n",
       "<polyline clip-path=\"url(#clip622)\" style=\"stroke:#000000; stroke-linecap:round; stroke-linejoin:round; stroke-width:4; stroke-opacity:1; fill:none\" points=\"798.964,1390.05 798.964,1445.72 852.131,1445.72 852.131,1390.05 798.964,1390.05 \"/>\n",
       "<path clip-path=\"url(#clip622)\" d=\"M852.131 1372.57 L852.131 1445.72 L905.298 1445.72 L905.298 1372.57 L852.131 1372.57 L852.131 1372.57  Z\" fill=\"#009af9\" fill-rule=\"evenodd\" fill-opacity=\"1\"/>\n",
       "<polyline clip-path=\"url(#clip622)\" style=\"stroke:#000000; stroke-linecap:round; stroke-linejoin:round; stroke-width:4; stroke-opacity:1; fill:none\" points=\"852.131,1372.57 852.131,1445.72 905.298,1445.72 905.298,1372.57 852.131,1372.57 \"/>\n",
       "<path clip-path=\"url(#clip622)\" d=\"M905.298 1345.68 L905.298 1445.72 L958.465 1445.72 L958.465 1345.68 L905.298 1345.68 L905.298 1345.68  Z\" fill=\"#009af9\" fill-rule=\"evenodd\" fill-opacity=\"1\"/>\n",
       "<polyline clip-path=\"url(#clip622)\" style=\"stroke:#000000; stroke-linecap:round; stroke-linejoin:round; stroke-width:4; stroke-opacity:1; fill:none\" points=\"905.298,1345.68 905.298,1445.72 958.465,1445.72 958.465,1345.68 905.298,1345.68 \"/>\n",
       "<path clip-path=\"url(#clip622)\" d=\"M958.465 1327.93 L958.465 1445.72 L1011.63 1445.72 L1011.63 1327.93 L958.465 1327.93 L958.465 1327.93  Z\" fill=\"#009af9\" fill-rule=\"evenodd\" fill-opacity=\"1\"/>\n",
       "<polyline clip-path=\"url(#clip622)\" style=\"stroke:#000000; stroke-linecap:round; stroke-linejoin:round; stroke-width:4; stroke-opacity:1; fill:none\" points=\"958.465,1327.93 958.465,1445.72 1011.63,1445.72 1011.63,1327.93 958.465,1327.93 \"/>\n",
       "<path clip-path=\"url(#clip622)\" d=\"M1011.63 1290.82 L1011.63 1445.72 L1064.8 1445.72 L1064.8 1290.82 L1011.63 1290.82 L1011.63 1290.82  Z\" fill=\"#009af9\" fill-rule=\"evenodd\" fill-opacity=\"1\"/>\n",
       "<polyline clip-path=\"url(#clip622)\" style=\"stroke:#000000; stroke-linecap:round; stroke-linejoin:round; stroke-width:4; stroke-opacity:1; fill:none\" points=\"1011.63,1290.82 1011.63,1445.72 1064.8,1445.72 1064.8,1290.82 1011.63,1290.82 \"/>\n",
       "<path clip-path=\"url(#clip622)\" d=\"M1064.8 1275.23 L1064.8 1445.72 L1117.97 1445.72 L1117.97 1275.23 L1064.8 1275.23 L1064.8 1275.23  Z\" fill=\"#009af9\" fill-rule=\"evenodd\" fill-opacity=\"1\"/>\n",
       "<polyline clip-path=\"url(#clip622)\" style=\"stroke:#000000; stroke-linecap:round; stroke-linejoin:round; stroke-width:4; stroke-opacity:1; fill:none\" points=\"1064.8,1275.23 1064.8,1445.72 1117.97,1445.72 1117.97,1275.23 1064.8,1275.23 \"/>\n",
       "<path clip-path=\"url(#clip622)\" d=\"M1117.97 1260.17 L1117.97 1445.72 L1171.13 1445.72 L1171.13 1260.17 L1117.97 1260.17 L1117.97 1260.17  Z\" fill=\"#009af9\" fill-rule=\"evenodd\" fill-opacity=\"1\"/>\n",
       "<polyline clip-path=\"url(#clip622)\" style=\"stroke:#000000; stroke-linecap:round; stroke-linejoin:round; stroke-width:4; stroke-opacity:1; fill:none\" points=\"1117.97,1260.17 1117.97,1445.72 1171.13,1445.72 1171.13,1260.17 1117.97,1260.17 \"/>\n",
       "<path clip-path=\"url(#clip622)\" d=\"M1171.13 1241.07 L1171.13 1445.72 L1224.3 1445.72 L1224.3 1241.07 L1171.13 1241.07 L1171.13 1241.07  Z\" fill=\"#009af9\" fill-rule=\"evenodd\" fill-opacity=\"1\"/>\n",
       "<polyline clip-path=\"url(#clip622)\" style=\"stroke:#000000; stroke-linecap:round; stroke-linejoin:round; stroke-width:4; stroke-opacity:1; fill:none\" points=\"1171.13,1241.07 1171.13,1445.72 1224.3,1445.72 1224.3,1241.07 1171.13,1241.07 \"/>\n",
       "<path clip-path=\"url(#clip622)\" d=\"M1224.3 1254.52 L1224.3 1445.72 L1277.47 1445.72 L1277.47 1254.52 L1224.3 1254.52 L1224.3 1254.52  Z\" fill=\"#009af9\" fill-rule=\"evenodd\" fill-opacity=\"1\"/>\n",
       "<polyline clip-path=\"url(#clip622)\" style=\"stroke:#000000; stroke-linecap:round; stroke-linejoin:round; stroke-width:4; stroke-opacity:1; fill:none\" points=\"1224.3,1254.52 1224.3,1445.72 1277.47,1445.72 1277.47,1254.52 1224.3,1254.52 \"/>\n",
       "<path clip-path=\"url(#clip622)\" d=\"M1277.47 1232.2 L1277.47 1445.72 L1330.63 1445.72 L1330.63 1232.2 L1277.47 1232.2 L1277.47 1232.2  Z\" fill=\"#009af9\" fill-rule=\"evenodd\" fill-opacity=\"1\"/>\n",
       "<polyline clip-path=\"url(#clip622)\" style=\"stroke:#000000; stroke-linecap:round; stroke-linejoin:round; stroke-width:4; stroke-opacity:1; fill:none\" points=\"1277.47,1232.2 1277.47,1445.72 1330.63,1445.72 1330.63,1232.2 1277.47,1232.2 \"/>\n",
       "<path clip-path=\"url(#clip622)\" d=\"M1330.63 1240.8 L1330.63 1445.72 L1383.8 1445.72 L1383.8 1240.8 L1330.63 1240.8 L1330.63 1240.8  Z\" fill=\"#009af9\" fill-rule=\"evenodd\" fill-opacity=\"1\"/>\n",
       "<polyline clip-path=\"url(#clip622)\" style=\"stroke:#000000; stroke-linecap:round; stroke-linejoin:round; stroke-width:4; stroke-opacity:1; fill:none\" points=\"1330.63,1240.8 1330.63,1445.72 1383.8,1445.72 1383.8,1240.8 1330.63,1240.8 \"/>\n",
       "<path clip-path=\"url(#clip622)\" d=\"M1383.8 1262.86 L1383.8 1445.72 L1436.97 1445.72 L1436.97 1262.86 L1383.8 1262.86 L1383.8 1262.86  Z\" fill=\"#009af9\" fill-rule=\"evenodd\" fill-opacity=\"1\"/>\n",
       "<polyline clip-path=\"url(#clip622)\" style=\"stroke:#000000; stroke-linecap:round; stroke-linejoin:round; stroke-width:4; stroke-opacity:1; fill:none\" points=\"1383.8,1262.86 1383.8,1445.72 1436.97,1445.72 1436.97,1262.86 1383.8,1262.86 \"/>\n",
       "<path clip-path=\"url(#clip622)\" d=\"M1436.97 1272.27 L1436.97 1445.72 L1490.13 1445.72 L1490.13 1272.27 L1436.97 1272.27 L1436.97 1272.27  Z\" fill=\"#009af9\" fill-rule=\"evenodd\" fill-opacity=\"1\"/>\n",
       "<polyline clip-path=\"url(#clip622)\" style=\"stroke:#000000; stroke-linecap:round; stroke-linejoin:round; stroke-width:4; stroke-opacity:1; fill:none\" points=\"1436.97,1272.27 1436.97,1445.72 1490.13,1445.72 1490.13,1272.27 1436.97,1272.27 \"/>\n",
       "<path clip-path=\"url(#clip622)\" d=\"M1490.13 1304.27 L1490.13 1445.72 L1543.3 1445.72 L1543.3 1304.27 L1490.13 1304.27 L1490.13 1304.27  Z\" fill=\"#009af9\" fill-rule=\"evenodd\" fill-opacity=\"1\"/>\n",
       "<polyline clip-path=\"url(#clip622)\" style=\"stroke:#000000; stroke-linecap:round; stroke-linejoin:round; stroke-width:4; stroke-opacity:1; fill:none\" points=\"1490.13,1304.27 1490.13,1445.72 1543.3,1445.72 1543.3,1304.27 1490.13,1304.27 \"/>\n",
       "<path clip-path=\"url(#clip622)\" d=\"M1543.3 1337.08 L1543.3 1445.72 L1596.47 1445.72 L1596.47 1337.08 L1543.3 1337.08 L1543.3 1337.08  Z\" fill=\"#009af9\" fill-rule=\"evenodd\" fill-opacity=\"1\"/>\n",
       "<polyline clip-path=\"url(#clip622)\" style=\"stroke:#000000; stroke-linecap:round; stroke-linejoin:round; stroke-width:4; stroke-opacity:1; fill:none\" points=\"1543.3,1337.08 1543.3,1445.72 1596.47,1445.72 1596.47,1337.08 1543.3,1337.08 \"/>\n",
       "<path clip-path=\"url(#clip622)\" d=\"M1596.47 1352.13 L1596.47 1445.72 L1649.63 1445.72 L1649.63 1352.13 L1596.47 1352.13 L1596.47 1352.13  Z\" fill=\"#009af9\" fill-rule=\"evenodd\" fill-opacity=\"1\"/>\n",
       "<polyline clip-path=\"url(#clip622)\" style=\"stroke:#000000; stroke-linecap:round; stroke-linejoin:round; stroke-width:4; stroke-opacity:1; fill:none\" points=\"1596.47,1352.13 1596.47,1445.72 1649.63,1445.72 1649.63,1352.13 1596.47,1352.13 \"/>\n",
       "<path clip-path=\"url(#clip622)\" d=\"M1649.63 1378.22 L1649.63 1445.72 L1702.8 1445.72 L1702.8 1378.22 L1649.63 1378.22 L1649.63 1378.22  Z\" fill=\"#009af9\" fill-rule=\"evenodd\" fill-opacity=\"1\"/>\n",
       "<polyline clip-path=\"url(#clip622)\" style=\"stroke:#000000; stroke-linecap:round; stroke-linejoin:round; stroke-width:4; stroke-opacity:1; fill:none\" points=\"1649.63,1378.22 1649.63,1445.72 1702.8,1445.72 1702.8,1378.22 1649.63,1378.22 \"/>\n",
       "<path clip-path=\"url(#clip622)\" d=\"M1702.8 1393.55 L1702.8 1445.72 L1755.97 1445.72 L1755.97 1393.55 L1702.8 1393.55 L1702.8 1393.55  Z\" fill=\"#009af9\" fill-rule=\"evenodd\" fill-opacity=\"1\"/>\n",
       "<polyline clip-path=\"url(#clip622)\" style=\"stroke:#000000; stroke-linecap:round; stroke-linejoin:round; stroke-width:4; stroke-opacity:1; fill:none\" points=\"1702.8,1393.55 1702.8,1445.72 1755.97,1445.72 1755.97,1393.55 1702.8,1393.55 \"/>\n",
       "<path clip-path=\"url(#clip622)\" d=\"M1755.97 1409.95 L1755.97 1445.72 L1809.14 1445.72 L1809.14 1409.95 L1755.97 1409.95 L1755.97 1409.95  Z\" fill=\"#009af9\" fill-rule=\"evenodd\" fill-opacity=\"1\"/>\n",
       "<polyline clip-path=\"url(#clip622)\" style=\"stroke:#000000; stroke-linecap:round; stroke-linejoin:round; stroke-width:4; stroke-opacity:1; fill:none\" points=\"1755.97,1409.95 1755.97,1445.72 1809.14,1445.72 1809.14,1409.95 1755.97,1409.95 \"/>\n",
       "<path clip-path=\"url(#clip622)\" d=\"M1809.14 1422.59 L1809.14 1445.72 L1862.3 1445.72 L1862.3 1422.59 L1809.14 1422.59 L1809.14 1422.59  Z\" fill=\"#009af9\" fill-rule=\"evenodd\" fill-opacity=\"1\"/>\n",
       "<polyline clip-path=\"url(#clip622)\" style=\"stroke:#000000; stroke-linecap:round; stroke-linejoin:round; stroke-width:4; stroke-opacity:1; fill:none\" points=\"1809.14,1422.59 1809.14,1445.72 1862.3,1445.72 1862.3,1422.59 1809.14,1422.59 \"/>\n",
       "<path clip-path=\"url(#clip622)\" d=\"M1862.3 1430.39 L1862.3 1445.72 L1915.47 1445.72 L1915.47 1430.39 L1862.3 1430.39 L1862.3 1430.39  Z\" fill=\"#009af9\" fill-rule=\"evenodd\" fill-opacity=\"1\"/>\n",
       "<polyline clip-path=\"url(#clip622)\" style=\"stroke:#000000; stroke-linecap:round; stroke-linejoin:round; stroke-width:4; stroke-opacity:1; fill:none\" points=\"1862.3,1430.39 1862.3,1445.72 1915.47,1445.72 1915.47,1430.39 1862.3,1430.39 \"/>\n",
       "<path clip-path=\"url(#clip622)\" d=\"M1915.47 1437.11 L1915.47 1445.72 L1968.64 1445.72 L1968.64 1437.11 L1915.47 1437.11 L1915.47 1437.11  Z\" fill=\"#009af9\" fill-rule=\"evenodd\" fill-opacity=\"1\"/>\n",
       "<polyline clip-path=\"url(#clip622)\" style=\"stroke:#000000; stroke-linecap:round; stroke-linejoin:round; stroke-width:4; stroke-opacity:1; fill:none\" points=\"1915.47,1437.11 1915.47,1445.72 1968.64,1445.72 1968.64,1437.11 1915.47,1437.11 \"/>\n",
       "<path clip-path=\"url(#clip622)\" d=\"M1968.64 1439.8 L1968.64 1445.72 L2021.8 1445.72 L2021.8 1439.8 L1968.64 1439.8 L1968.64 1439.8  Z\" fill=\"#009af9\" fill-rule=\"evenodd\" fill-opacity=\"1\"/>\n",
       "<polyline clip-path=\"url(#clip622)\" style=\"stroke:#000000; stroke-linecap:round; stroke-linejoin:round; stroke-width:4; stroke-opacity:1; fill:none\" points=\"1968.64,1439.8 1968.64,1445.72 2021.8,1445.72 2021.8,1439.8 1968.64,1439.8 \"/>\n",
       "<path clip-path=\"url(#clip622)\" d=\"M2021.8 1441.41 L2021.8 1445.72 L2074.97 1445.72 L2074.97 1441.41 L2021.8 1441.41 L2021.8 1441.41  Z\" fill=\"#009af9\" fill-rule=\"evenodd\" fill-opacity=\"1\"/>\n",
       "<polyline clip-path=\"url(#clip622)\" style=\"stroke:#000000; stroke-linecap:round; stroke-linejoin:round; stroke-width:4; stroke-opacity:1; fill:none\" points=\"2021.8,1441.41 2021.8,1445.72 2074.97,1445.72 2074.97,1441.41 2021.8,1441.41 \"/>\n",
       "<path clip-path=\"url(#clip622)\" d=\"M2074.97 1442.22 L2074.97 1445.72 L2128.14 1445.72 L2128.14 1442.22 L2074.97 1442.22 L2074.97 1442.22  Z\" fill=\"#009af9\" fill-rule=\"evenodd\" fill-opacity=\"1\"/>\n",
       "<polyline clip-path=\"url(#clip622)\" style=\"stroke:#000000; stroke-linecap:round; stroke-linejoin:round; stroke-width:4; stroke-opacity:1; fill:none\" points=\"2074.97,1442.22 2074.97,1445.72 2128.14,1445.72 2128.14,1442.22 2074.97,1442.22 \"/>\n",
       "<path clip-path=\"url(#clip622)\" d=\"M2128.14 1444.1 L2128.14 1445.72 L2181.3 1445.72 L2181.3 1444.1 L2128.14 1444.1 L2128.14 1444.1  Z\" fill=\"#009af9\" fill-rule=\"evenodd\" fill-opacity=\"1\"/>\n",
       "<polyline clip-path=\"url(#clip622)\" style=\"stroke:#000000; stroke-linecap:round; stroke-linejoin:round; stroke-width:4; stroke-opacity:1; fill:none\" points=\"2128.14,1444.1 2128.14,1445.72 2181.3,1445.72 2181.3,1444.1 2128.14,1444.1 \"/>\n",
       "<path clip-path=\"url(#clip622)\" d=\"M2181.3 1445.18 L2181.3 1445.72 L2234.47 1445.72 L2234.47 1445.18 L2181.3 1445.18 L2181.3 1445.18  Z\" fill=\"#009af9\" fill-rule=\"evenodd\" fill-opacity=\"1\"/>\n",
       "<polyline clip-path=\"url(#clip622)\" style=\"stroke:#000000; stroke-linecap:round; stroke-linejoin:round; stroke-width:4; stroke-opacity:1; fill:none\" points=\"2181.3,1445.18 2181.3,1445.72 2234.47,1445.72 2234.47,1445.18 2181.3,1445.18 \"/>\n",
       "<circle clip-path=\"url(#clip622)\" style=\"fill:#009af9; stroke:none; fill-opacity:0\" cx=\"347.046\" cy=\"1445.45\" r=\"2\"/>\n",
       "<circle clip-path=\"url(#clip622)\" style=\"fill:#009af9; stroke:none; fill-opacity:0\" cx=\"400.213\" cy=\"1444.91\" r=\"2\"/>\n",
       "<circle clip-path=\"url(#clip622)\" style=\"fill:#009af9; stroke:none; fill-opacity:0\" cx=\"453.38\" cy=\"1443.83\" r=\"2\"/>\n",
       "<circle clip-path=\"url(#clip622)\" style=\"fill:#009af9; stroke:none; fill-opacity:0\" cx=\"506.546\" cy=\"1442.49\" r=\"2\"/>\n",
       "<circle clip-path=\"url(#clip622)\" style=\"fill:#009af9; stroke:none; fill-opacity:0\" cx=\"559.713\" cy=\"1440.88\" r=\"2\"/>\n",
       "<circle clip-path=\"url(#clip622)\" style=\"fill:#009af9; stroke:none; fill-opacity:0\" cx=\"612.88\" cy=\"1436.03\" r=\"2\"/>\n",
       "<circle clip-path=\"url(#clip622)\" style=\"fill:#009af9; stroke:none; fill-opacity:0\" cx=\"666.047\" cy=\"1429.85\" r=\"2\"/>\n",
       "<circle clip-path=\"url(#clip622)\" style=\"fill:#009af9; stroke:none; fill-opacity:0\" cx=\"719.214\" cy=\"1417.48\" r=\"2\"/>\n",
       "<circle clip-path=\"url(#clip622)\" style=\"fill:#009af9; stroke:none; fill-opacity:0\" cx=\"772.381\" cy=\"1411.56\" r=\"2\"/>\n",
       "<circle clip-path=\"url(#clip622)\" style=\"fill:#009af9; stroke:none; fill-opacity:0\" cx=\"825.548\" cy=\"1390.05\" r=\"2\"/>\n",
       "<circle clip-path=\"url(#clip622)\" style=\"fill:#009af9; stroke:none; fill-opacity:0\" cx=\"878.715\" cy=\"1372.57\" r=\"2\"/>\n",
       "<circle clip-path=\"url(#clip622)\" style=\"fill:#009af9; stroke:none; fill-opacity:0\" cx=\"931.882\" cy=\"1345.68\" r=\"2\"/>\n",
       "<circle clip-path=\"url(#clip622)\" style=\"fill:#009af9; stroke:none; fill-opacity:0\" cx=\"985.048\" cy=\"1327.93\" r=\"2\"/>\n",
       "<circle clip-path=\"url(#clip622)\" style=\"fill:#009af9; stroke:none; fill-opacity:0\" cx=\"1038.22\" cy=\"1290.82\" r=\"2\"/>\n",
       "<circle clip-path=\"url(#clip622)\" style=\"fill:#009af9; stroke:none; fill-opacity:0\" cx=\"1091.38\" cy=\"1275.23\" r=\"2\"/>\n",
       "<circle clip-path=\"url(#clip622)\" style=\"fill:#009af9; stroke:none; fill-opacity:0\" cx=\"1144.55\" cy=\"1260.17\" r=\"2\"/>\n",
       "<circle clip-path=\"url(#clip622)\" style=\"fill:#009af9; stroke:none; fill-opacity:0\" cx=\"1197.72\" cy=\"1241.07\" r=\"2\"/>\n",
       "<circle clip-path=\"url(#clip622)\" style=\"fill:#009af9; stroke:none; fill-opacity:0\" cx=\"1250.88\" cy=\"1254.52\" r=\"2\"/>\n",
       "<circle clip-path=\"url(#clip622)\" style=\"fill:#009af9; stroke:none; fill-opacity:0\" cx=\"1304.05\" cy=\"1232.2\" r=\"2\"/>\n",
       "<circle clip-path=\"url(#clip622)\" style=\"fill:#009af9; stroke:none; fill-opacity:0\" cx=\"1357.22\" cy=\"1240.8\" r=\"2\"/>\n",
       "<circle clip-path=\"url(#clip622)\" style=\"fill:#009af9; stroke:none; fill-opacity:0\" cx=\"1410.38\" cy=\"1262.86\" r=\"2\"/>\n",
       "<circle clip-path=\"url(#clip622)\" style=\"fill:#009af9; stroke:none; fill-opacity:0\" cx=\"1463.55\" cy=\"1272.27\" r=\"2\"/>\n",
       "<circle clip-path=\"url(#clip622)\" style=\"fill:#009af9; stroke:none; fill-opacity:0\" cx=\"1516.72\" cy=\"1304.27\" r=\"2\"/>\n",
       "<circle clip-path=\"url(#clip622)\" style=\"fill:#009af9; stroke:none; fill-opacity:0\" cx=\"1569.88\" cy=\"1337.08\" r=\"2\"/>\n",
       "<circle clip-path=\"url(#clip622)\" style=\"fill:#009af9; stroke:none; fill-opacity:0\" cx=\"1623.05\" cy=\"1352.13\" r=\"2\"/>\n",
       "<circle clip-path=\"url(#clip622)\" style=\"fill:#009af9; stroke:none; fill-opacity:0\" cx=\"1676.22\" cy=\"1378.22\" r=\"2\"/>\n",
       "<circle clip-path=\"url(#clip622)\" style=\"fill:#009af9; stroke:none; fill-opacity:0\" cx=\"1729.38\" cy=\"1393.55\" r=\"2\"/>\n",
       "<circle clip-path=\"url(#clip622)\" style=\"fill:#009af9; stroke:none; fill-opacity:0\" cx=\"1782.55\" cy=\"1409.95\" r=\"2\"/>\n",
       "<circle clip-path=\"url(#clip622)\" style=\"fill:#009af9; stroke:none; fill-opacity:0\" cx=\"1835.72\" cy=\"1422.59\" r=\"2\"/>\n",
       "<circle clip-path=\"url(#clip622)\" style=\"fill:#009af9; stroke:none; fill-opacity:0\" cx=\"1888.89\" cy=\"1430.39\" r=\"2\"/>\n",
       "<circle clip-path=\"url(#clip622)\" style=\"fill:#009af9; stroke:none; fill-opacity:0\" cx=\"1942.05\" cy=\"1437.11\" r=\"2\"/>\n",
       "<circle clip-path=\"url(#clip622)\" style=\"fill:#009af9; stroke:none; fill-opacity:0\" cx=\"1995.22\" cy=\"1439.8\" r=\"2\"/>\n",
       "<circle clip-path=\"url(#clip622)\" style=\"fill:#009af9; stroke:none; fill-opacity:0\" cx=\"2048.39\" cy=\"1441.41\" r=\"2\"/>\n",
       "<circle clip-path=\"url(#clip622)\" style=\"fill:#009af9; stroke:none; fill-opacity:0\" cx=\"2101.55\" cy=\"1442.22\" r=\"2\"/>\n",
       "<circle clip-path=\"url(#clip622)\" style=\"fill:#009af9; stroke:none; fill-opacity:0\" cx=\"2154.72\" cy=\"1444.1\" r=\"2\"/>\n",
       "<circle clip-path=\"url(#clip622)\" style=\"fill:#009af9; stroke:none; fill-opacity:0\" cx=\"2207.89\" cy=\"1445.18\" r=\"2\"/>\n",
       "<path clip-path=\"url(#clip622)\" d=\"M1277.47 87.9763 L1277.47 1445.72 L1304.05 1445.72 L1304.05 87.9763 L1277.47 87.9763 L1277.47 87.9763  Z\" fill=\"#e26f46\" fill-rule=\"evenodd\" fill-opacity=\"1\"/>\n",
       "<polyline clip-path=\"url(#clip622)\" style=\"stroke:#000000; stroke-linecap:round; stroke-linejoin:round; stroke-width:4; stroke-opacity:1; fill:none\" points=\"1277.47,87.9763 1277.47,1445.72 1304.05,1445.72 1304.05,87.9763 1277.47,87.9763 \"/>\n",
       "<path clip-path=\"url(#clip622)\" d=\"M1304.05 1445.72 L1304.05 1445.72 L1330.63 1445.72 L1330.63 1445.72 L1304.05 1445.72 L1304.05 1445.72  Z\" fill=\"#e26f46\" fill-rule=\"evenodd\" fill-opacity=\"1\"/>\n",
       "<polyline clip-path=\"url(#clip622)\" style=\"stroke:#000000; stroke-linecap:round; stroke-linejoin:round; stroke-width:4; stroke-opacity:1; fill:none\" points=\"1304.05,1445.72 1304.05,1445.72 1330.63,1445.72 1304.05,1445.72 \"/>\n",
       "<path clip-path=\"url(#clip622)\" d=\"M1330.63 1445.72 L1330.63 1445.72 L1357.22 1445.72 L1357.22 1445.72 L1330.63 1445.72 L1330.63 1445.72  Z\" fill=\"#e26f46\" fill-rule=\"evenodd\" fill-opacity=\"1\"/>\n",
       "<polyline clip-path=\"url(#clip622)\" style=\"stroke:#000000; stroke-linecap:round; stroke-linejoin:round; stroke-width:4; stroke-opacity:1; fill:none\" points=\"1330.63,1445.72 1330.63,1445.72 1357.22,1445.72 1330.63,1445.72 \"/>\n",
       "<path clip-path=\"url(#clip622)\" d=\"M1357.22 1445.72 L1357.22 1445.72 L1383.8 1445.72 L1383.8 1445.72 L1357.22 1445.72 L1357.22 1445.72  Z\" fill=\"#e26f46\" fill-rule=\"evenodd\" fill-opacity=\"1\"/>\n",
       "<polyline clip-path=\"url(#clip622)\" style=\"stroke:#000000; stroke-linecap:round; stroke-linejoin:round; stroke-width:4; stroke-opacity:1; fill:none\" points=\"1357.22,1445.72 1357.22,1445.72 1383.8,1445.72 1357.22,1445.72 \"/>\n",
       "<path clip-path=\"url(#clip622)\" d=\"M1383.8 1445.72 L1383.8 1445.72 L1410.38 1445.72 L1410.38 1445.72 L1383.8 1445.72 L1383.8 1445.72  Z\" fill=\"#e26f46\" fill-rule=\"evenodd\" fill-opacity=\"1\"/>\n",
       "<polyline clip-path=\"url(#clip622)\" style=\"stroke:#000000; stroke-linecap:round; stroke-linejoin:round; stroke-width:4; stroke-opacity:1; fill:none\" points=\"1383.8,1445.72 1383.8,1445.72 1410.38,1445.72 1383.8,1445.72 \"/>\n",
       "<path clip-path=\"url(#clip622)\" d=\"M1410.38 1445.72 L1410.38 1445.72 L1436.97 1445.72 L1436.97 1445.72 L1410.38 1445.72 L1410.38 1445.72  Z\" fill=\"#e26f46\" fill-rule=\"evenodd\" fill-opacity=\"1\"/>\n",
       "<polyline clip-path=\"url(#clip622)\" style=\"stroke:#000000; stroke-linecap:round; stroke-linejoin:round; stroke-width:4; stroke-opacity:1; fill:none\" points=\"1410.38,1445.72 1410.38,1445.72 1436.97,1445.72 1410.38,1445.72 \"/>\n",
       "<path clip-path=\"url(#clip622)\" d=\"M1436.97 1445.72 L1436.97 1445.72 L1463.55 1445.72 L1463.55 1445.72 L1436.97 1445.72 L1436.97 1445.72  Z\" fill=\"#e26f46\" fill-rule=\"evenodd\" fill-opacity=\"1\"/>\n",
       "<polyline clip-path=\"url(#clip622)\" style=\"stroke:#000000; stroke-linecap:round; stroke-linejoin:round; stroke-width:4; stroke-opacity:1; fill:none\" points=\"1436.97,1445.72 1436.97,1445.72 1463.55,1445.72 1436.97,1445.72 \"/>\n",
       "<path clip-path=\"url(#clip622)\" d=\"M1463.55 1445.72 L1463.55 1445.72 L1490.13 1445.72 L1490.13 1445.72 L1463.55 1445.72 L1463.55 1445.72  Z\" fill=\"#e26f46\" fill-rule=\"evenodd\" fill-opacity=\"1\"/>\n",
       "<polyline clip-path=\"url(#clip622)\" style=\"stroke:#000000; stroke-linecap:round; stroke-linejoin:round; stroke-width:4; stroke-opacity:1; fill:none\" points=\"1463.55,1445.72 1463.55,1445.72 1490.13,1445.72 1463.55,1445.72 \"/>\n",
       "<path clip-path=\"url(#clip622)\" d=\"M1490.13 1445.72 L1490.13 1445.72 L1516.72 1445.72 L1516.72 1445.72 L1490.13 1445.72 L1490.13 1445.72  Z\" fill=\"#e26f46\" fill-rule=\"evenodd\" fill-opacity=\"1\"/>\n",
       "<polyline clip-path=\"url(#clip622)\" style=\"stroke:#000000; stroke-linecap:round; stroke-linejoin:round; stroke-width:4; stroke-opacity:1; fill:none\" points=\"1490.13,1445.72 1490.13,1445.72 1516.72,1445.72 1490.13,1445.72 \"/>\n",
       "<path clip-path=\"url(#clip622)\" d=\"M1516.72 1445.72 L1516.72 1445.72 L1543.3 1445.72 L1543.3 1445.72 L1516.72 1445.72 L1516.72 1445.72  Z\" fill=\"#e26f46\" fill-rule=\"evenodd\" fill-opacity=\"1\"/>\n",
       "<polyline clip-path=\"url(#clip622)\" style=\"stroke:#000000; stroke-linecap:round; stroke-linejoin:round; stroke-width:4; stroke-opacity:1; fill:none\" points=\"1516.72,1445.72 1516.72,1445.72 1543.3,1445.72 1516.72,1445.72 \"/>\n",
       "<path clip-path=\"url(#clip622)\" d=\"M1543.3 114.33 L1543.3 1445.72 L1569.88 1445.72 L1569.88 114.33 L1543.3 114.33 L1543.3 114.33  Z\" fill=\"#e26f46\" fill-rule=\"evenodd\" fill-opacity=\"1\"/>\n",
       "<polyline clip-path=\"url(#clip622)\" style=\"stroke:#000000; stroke-linecap:round; stroke-linejoin:round; stroke-width:4; stroke-opacity:1; fill:none\" points=\"1543.3,114.33 1543.3,1445.72 1569.88,1445.72 1569.88,114.33 1543.3,114.33 \"/>\n",
       "<circle clip-path=\"url(#clip622)\" style=\"fill:#e26f46; stroke:none; fill-opacity:0\" cx=\"1290.76\" cy=\"87.9763\" r=\"2\"/>\n",
       "<circle clip-path=\"url(#clip622)\" style=\"fill:#e26f46; stroke:none; fill-opacity:0\" cx=\"1317.34\" cy=\"1445.72\" r=\"2\"/>\n",
       "<circle clip-path=\"url(#clip622)\" style=\"fill:#e26f46; stroke:none; fill-opacity:0\" cx=\"1343.92\" cy=\"1445.72\" r=\"2\"/>\n",
       "<circle clip-path=\"url(#clip622)\" style=\"fill:#e26f46; stroke:none; fill-opacity:0\" cx=\"1370.51\" cy=\"1445.72\" r=\"2\"/>\n",
       "<circle clip-path=\"url(#clip622)\" style=\"fill:#e26f46; stroke:none; fill-opacity:0\" cx=\"1397.09\" cy=\"1445.72\" r=\"2\"/>\n",
       "<circle clip-path=\"url(#clip622)\" style=\"fill:#e26f46; stroke:none; fill-opacity:0\" cx=\"1423.68\" cy=\"1445.72\" r=\"2\"/>\n",
       "<circle clip-path=\"url(#clip622)\" style=\"fill:#e26f46; stroke:none; fill-opacity:0\" cx=\"1450.26\" cy=\"1445.72\" r=\"2\"/>\n",
       "<circle clip-path=\"url(#clip622)\" style=\"fill:#e26f46; stroke:none; fill-opacity:0\" cx=\"1476.84\" cy=\"1445.72\" r=\"2\"/>\n",
       "<circle clip-path=\"url(#clip622)\" style=\"fill:#e26f46; stroke:none; fill-opacity:0\" cx=\"1503.43\" cy=\"1445.72\" r=\"2\"/>\n",
       "<circle clip-path=\"url(#clip622)\" style=\"fill:#e26f46; stroke:none; fill-opacity:0\" cx=\"1530.01\" cy=\"1445.72\" r=\"2\"/>\n",
       "<circle clip-path=\"url(#clip622)\" style=\"fill:#e26f46; stroke:none; fill-opacity:0\" cx=\"1556.59\" cy=\"114.33\" r=\"2\"/>\n",
       "<path clip-path=\"url(#clip620)\" d=\"M2013.58 250.738 L2281.07 250.738 L2281.07 95.2176 L2013.58 95.2176  Z\" fill=\"#ffffff\" fill-rule=\"evenodd\" fill-opacity=\"1\"/>\n",
       "<polyline clip-path=\"url(#clip620)\" style=\"stroke:#000000; stroke-linecap:round; stroke-linejoin:round; stroke-width:4; stroke-opacity:1; fill:none\" points=\"2013.58,250.738 2281.07,250.738 2281.07,95.2176 2013.58,95.2176 2013.58,250.738 \"/>\n",
       "<path clip-path=\"url(#clip620)\" d=\"M2037.48 167.794 L2180.85 167.794 L2180.85 126.322 L2037.48 126.322 L2037.48 167.794  Z\" fill=\"#009af9\" fill-rule=\"evenodd\" fill-opacity=\"1\"/>\n",
       "<polyline clip-path=\"url(#clip620)\" style=\"stroke:#000000; stroke-linecap:round; stroke-linejoin:round; stroke-width:4; stroke-opacity:1; fill:none\" points=\"2037.48,167.794 2180.85,167.794 2180.85,126.322 2037.48,126.322 2037.48,167.794 \"/>\n",
       "<path clip-path=\"url(#clip620)\" d=\"M2218.59 166.745 Q2216.78 171.375 2215.07 172.787 Q2213.36 174.199 2210.49 174.199 L2207.08 174.199 L2207.08 170.634 L2209.58 170.634 Q2211.34 170.634 2212.31 169.8 Q2213.29 168.967 2214.47 165.865 L2215.23 163.921 L2204.74 138.412 L2209.26 138.412 L2217.36 158.689 L2225.46 138.412 L2229.98 138.412 L2218.59 166.745 Z\" fill=\"#000000\" fill-rule=\"evenodd\" fill-opacity=\"1\" /><path clip-path=\"url(#clip620)\" d=\"M2237.27 160.402 L2244.91 160.402 L2244.91 134.037 L2236.6 135.703 L2236.6 131.444 L2244.86 129.778 L2249.54 129.778 L2249.54 160.402 L2257.17 160.402 L2257.17 164.338 L2237.27 164.338 L2237.27 160.402 Z\" fill=\"#000000\" fill-rule=\"evenodd\" fill-opacity=\"1\" /><path clip-path=\"url(#clip620)\" d=\"M2037.48 219.634 L2180.85 219.634 L2180.85 178.162 L2037.48 178.162 L2037.48 219.634  Z\" fill=\"#e26f46\" fill-rule=\"evenodd\" fill-opacity=\"1\"/>\n",
       "<polyline clip-path=\"url(#clip620)\" style=\"stroke:#000000; stroke-linecap:round; stroke-linejoin:round; stroke-width:4; stroke-opacity:1; fill:none\" points=\"2037.48,219.634 2180.85,219.634 2180.85,178.162 2037.48,178.162 2037.48,219.634 \"/>\n",
       "<path clip-path=\"url(#clip620)\" d=\"M2218.59 218.585 Q2216.78 223.215 2215.07 224.627 Q2213.36 226.039 2210.49 226.039 L2207.08 226.039 L2207.08 222.474 L2209.58 222.474 Q2211.34 222.474 2212.31 221.64 Q2213.29 220.807 2214.47 217.705 L2215.23 215.761 L2204.74 190.252 L2209.26 190.252 L2217.36 210.529 L2225.46 190.252 L2229.98 190.252 L2218.59 218.585 Z\" fill=\"#000000\" fill-rule=\"evenodd\" fill-opacity=\"1\" /><path clip-path=\"url(#clip620)\" d=\"M2240.48 212.242 L2256.8 212.242 L2256.8 216.178 L2234.86 216.178 L2234.86 212.242 Q2237.52 209.488 2242.11 204.858 Q2246.71 200.205 2247.89 198.863 Q2250.14 196.34 2251.02 194.604 Q2251.92 192.844 2251.92 191.155 Q2251.92 188.4 2249.98 186.664 Q2248.05 184.928 2244.95 184.928 Q2242.75 184.928 2240.3 185.692 Q2237.87 186.455 2235.09 188.006 L2235.09 183.284 Q2237.92 182.15 2240.37 181.571 Q2242.82 180.993 2244.86 180.993 Q2250.23 180.993 2253.42 183.678 Q2256.62 186.363 2256.62 190.854 Q2256.62 192.983 2255.81 194.905 Q2255.02 196.803 2252.92 199.395 Q2252.34 200.067 2249.23 203.284 Q2246.13 206.479 2240.48 212.242 Z\" fill=\"#000000\" fill-rule=\"evenodd\" fill-opacity=\"1\" /></svg>\n"
      ]
     },
     "execution_count": 61,
     "metadata": {},
     "output_type": "execute_result"
    }
   ],
   "source": [
    "d = Normal()\n",
    "Normal(5,2)\n",
    "random = rand(d,10000)\n",
    "\n",
    "Univariate == ArrayLikeVariate{0}\n",
    "d2 = Binomial()\n",
    "random2 = rand(d2, 10000)\n",
    "histogram(random)\n",
    "histogram!(random2)"
   ]
  },
  {
   "cell_type": "markdown",
   "id": "22b88d4d",
   "metadata": {},
   "source": [
    "# Question 4\n",
    "### Read the following example and complete the exercises \n",
    "Bayes is playing Russian roulette. The revolver has six chambers. He puts two bullets in two adjacent chambers, spin the cylinder, hold the gun to his head, and pull the trigger. It clicks. So it is now the second try: he can choose either to spin the cylinder again or leave it as it is. "
   ]
  },
  {
   "cell_type": "markdown",
   "id": "4718911a",
   "metadata": {},
   "source": [
    "### 4.1\n",
    "\n",
    "#### What is the probability that Bayes survives the second try given his survival in the first try if he spin the cylinder and explain"
   ]
  },
  {
   "cell_type": "markdown",
   "id": "96f8c663",
   "metadata": {},
   "source": [
    "The probability that Bayes survives the second try if he spins the cyliner is 2/3. Since the first shot did not fire a bullet, it was from one of the empty chambers. If he chooses to spin the cyliner again, he will have a possibilty of landing on a empty chamber is 4/6 as him surviving the first time did not lower the number of bullets in the cylinder and spinning it essentially reset the roulette."
   ]
  },
  {
   "cell_type": "markdown",
   "id": "9fd046a8",
   "metadata": {},
   "source": [
    "### 4.2\n",
    "#### In this case, what are the relation between P(B|A), P(B), and P(A) if A represents survival in the first try and B represents survival in the second try"
   ]
  },
  {
   "cell_type": "markdown",
   "id": "7a575296",
   "metadata": {},
   "source": [
    "Since P(A) and P(B) are equivalent if Bayes spins the cylinder, P(B|A) will also be equivalent to 4/6 (2/3) due to the formula, P(AnB)/P(A) or P(B) coming out to 2/3."
   ]
  },
  {
   "cell_type": "markdown",
   "id": "4e03c813",
   "metadata": {},
   "source": [
    "### 4.3\n",
    "\n",
    "#### What is the probability that Bayes survives both tries without spinning the cylinder and explain"
   ]
  },
  {
   "cell_type": "markdown",
   "id": "29c20dd7",
   "metadata": {},
   "source": [
    "The probability of Bayes surviving both tries without spinning is 3/6 (1/2) since there are 3 possible positions where there are consecutive empty chambers out of 6 total chambers. "
   ]
  },
  {
   "cell_type": "markdown",
   "id": "b4de6d2c",
   "metadata": {},
   "source": [
    "### 4.4\n",
    "\n",
    "#### Use answers from 4.1 and 4.3 to calculate the probability that Bayes survives the second try given his survial in the first try if he doesn't spin the cylinder and explain "
   ]
  },
  {
   "cell_type": "markdown",
   "id": "ba46b235",
   "metadata": {},
   "source": [
    "let P(A) = Bayes survives 1st round\n",
    "Let P(AnB) = Bayes survives 1st and 2nd round\n",
    "P(B|A) = P(AnB)/P(A) = (1/2)/(2/3) = (3/4)\n",
    "The probability of Bayes surviving the second try given his survival in the first try is 3/4.\n"
   ]
  }
 ],
 "metadata": {
  "kernelspec": {
   "display_name": "Julia 1.8.5",
   "language": "julia",
   "name": "julia-1.8"
  },
  "language_info": {
   "file_extension": ".jl",
   "mimetype": "application/julia",
   "name": "julia",
   "version": "1.8.5"
  }
 },
 "nbformat": 4,
 "nbformat_minor": 5
}
