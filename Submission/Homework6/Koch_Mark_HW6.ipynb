{
 "cells": [
  {
   "cell_type": "markdown",
   "id": "1fbe377b",
   "metadata": {},
   "source": [
    "<h1>HW6</h1>"
   ]
  },
  {
   "cell_type": "markdown",
   "id": "7151419f",
   "metadata": {},
   "source": [
    "# Question\n",
    "### (Inverse Transform Sampling) Complete the following exercises "
   ]
  },
  {
   "cell_type": "markdown",
   "id": "00367d25",
   "metadata": {},
   "source": [
    "### 1.1\n",
    "\n",
    "Create a function to sample from a Gaussian distribution with mean $\\mu$ and standard deviation $\\sigma$:\n",
    "\n",
    "* Function name: sample_gaussian\n",
    "\n",
    "* Input: $\\mu$, $\\sigma$, n\n",
    "\n",
    "* Output: a n-element vector of random sample from Gaussian~N($\\mu$, $\\sigma$)\n",
    "\n",
    "* You are `not allowed` to use the Distributions.jl package or any existing sampler\n",
    "* You are `allowed` to use SpecialFunctions.jl for special functions and rand for random number generation\n"
   ]
  },
  {
   "cell_type": "markdown",
   "id": "6793badb",
   "metadata": {},
   "source": [
    "An [example](https://stephens999.github.io/fiveMinuteStats/inverse_transform_sampling.html) of inverse transform sampling"
   ]
  },
  {
   "cell_type": "code",
   "execution_count": 44,
   "id": "137bc2e7",
   "metadata": {},
   "outputs": [
    {
     "name": "stderr",
     "output_type": "stream",
     "text": [
      "\u001b[32m\u001b[1m   Resolving\u001b[22m\u001b[39m package versions...\n",
      "\u001b[32m\u001b[1m  No Changes\u001b[22m\u001b[39m to `C:\\Users\\mckoc\\.julia\\environments\\v1.8\\Project.toml`\n",
      "\u001b[32m\u001b[1m  No Changes\u001b[22m\u001b[39m to `C:\\Users\\mckoc\\.julia\\environments\\v1.8\\Manifest.toml`\n"
     ]
    }
   ],
   "source": [
    "import Pkg\n",
    "Pkg.add([\"SpecialFunctions\", \"Plots\",\"Random\", \"Distributions\"])"
   ]
  },
  {
   "cell_type": "code",
   "execution_count": 58,
   "id": "cff81c75",
   "metadata": {},
   "outputs": [],
   "source": [
    "import SpecialFunctions\n",
    "import Plots\n",
    "import Random\n",
    "import Distributions as di"
   ]
  },
  {
   "cell_type": "code",
   "execution_count": 2,
   "id": "f8f81560",
   "metadata": {},
   "outputs": [
    {
     "data": {
      "text/plain": [
       "sample_guassian (generic function with 1 method)"
      ]
     },
     "execution_count": 2,
     "metadata": {},
     "output_type": "execute_result"
    }
   ],
   "source": [
    "using SpecialFunctions\n",
    "using Plots\n",
    "using Random\n",
    "\n",
    "function sample_guassian(μ,σ,n)\n",
    "    x=rand(n)\n",
    "    sample_x=[]\n",
    "    for a in x\n",
    "    ####@. guass=1/(σ*sqrt(2*pi))*exp(-.5*((x-μ)/σ)^2)\n",
    "        inv_cdf= μ+erfinv(2*a-1)*sqrt(2)*σ\n",
    "        push!(sample_x,inv_cdf)\n",
    "    end\n",
    "    return(sample_x)\n",
    "end\n",
    "        \n",
    "        \n",
    "    "
   ]
  },
  {
   "cell_type": "code",
   "execution_count": 43,
   "id": "22414d74",
   "metadata": {},
   "outputs": [
    {
     "data": {
      "text/plain": [
       "1000-element Vector{Any}:\n",
       "  0.49143612983270973\n",
       "  1.0518492227619691\n",
       " -1.012638880569409\n",
       " -0.13259981844730898\n",
       "  0.49312828128336417\n",
       " -0.6161243372057537\n",
       " -0.09121296452624378\n",
       "  1.5064468763032912\n",
       "  0.43399201394834064\n",
       " -1.5125553278347506\n",
       "  0.5906298478706069\n",
       "  0.5953511396926289\n",
       " -1.206494903109164\n",
       "  ⋮\n",
       " -0.9481071748999214\n",
       " -0.2184241842716876\n",
       " -0.11431734276033306\n",
       " -0.36119915169834377\n",
       "  0.2251716238713763\n",
       " -0.014177564616399886\n",
       " -2.197589471628429\n",
       "  0.7968878490178776\n",
       "  1.4751261829650597\n",
       " -1.588233464407025\n",
       " -0.6341578208302531\n",
       "  0.06962499228256364"
      ]
     },
     "execution_count": 43,
     "metadata": {},
     "output_type": "execute_result"
    }
   ],
   "source": [
    "sample_guassian(0,1,1000)\n"
   ]
  },
  {
   "cell_type": "markdown",
   "id": "5d664f44",
   "metadata": {},
   "source": [
    "### 1.2\n",
    "\n",
    "\n",
    "1. Use the sampler above to draw 10000 samples from a Gaussian distribution~N($\\mu$ = -1, $\\sigma$ = 2)\n",
    "2. Plot the histogram of the 10000 samples \n",
    "3. Use the Distributions.jl package to obtain the pdf of the same Gaussian distribution~N($\\mu$ = -1, $\\sigma$ = 2) using x = -8:0.001:6\n",
    "4. Plot the pdf on top of the histogram from step 2"
   ]
  },
  {
   "cell_type": "code",
   "execution_count": 1,
   "id": "bf03f438",
   "metadata": {},
   "outputs": [
    {
     "ename": "LoadError",
     "evalue": "UndefVarError: sample_guassian not defined",
     "output_type": "error",
     "traceback": [
      "UndefVarError: sample_guassian not defined",
      "",
      "Stacktrace:",
      " [1] top-level scope",
      "   @ In[1]:2"
     ]
    }
   ],
   "source": [
    "\n",
    "y=sample_guassian(-1,2,10000)\n",
    "histogram(y,bin=100,normalize=true,label=\"sample_guassian\")\n",
    "\n",
    "x=-8:0.001:6\n",
    "y=di.Normal(-1,2)\n",
    "plot!(x,di.pdf.(y,x),label=\"Distribution package gaussian\")\n"
   ]
  },
  {
   "cell_type": "code",
   "execution_count": 57,
   "id": "a8119407",
   "metadata": {},
   "outputs": [
    {
     "ename": "LoadError",
     "evalue": "syntax: incomplete: premature end of input",
     "output_type": "error",
     "traceback": [
      "syntax: incomplete: premature end of input",
      "",
      "Stacktrace:",
      " [1] top-level scope",
      "   @ In[57]:1"
     ]
    }
   ],
   "source": []
  },
  {
   "cell_type": "code",
   "execution_count": null,
   "id": "4fdcf9b7",
   "metadata": {},
   "outputs": [],
   "source": []
  }
 ],
 "metadata": {
  "kernelspec": {
   "display_name": "Julia 1.8.5",
   "language": "julia",
   "name": "julia-1.8"
  },
  "language_info": {
   "file_extension": ".jl",
   "mimetype": "application/julia",
   "name": "julia",
   "version": "1.8.5"
  }
 },
 "nbformat": 4,
 "nbformat_minor": 5
}
