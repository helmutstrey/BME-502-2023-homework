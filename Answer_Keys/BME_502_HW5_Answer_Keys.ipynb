{
 "cells": [
  {
   "cell_type": "markdown",
   "id": "1fbe377b",
   "metadata": {},
   "source": [
    "<h1>HW5</h1>"
   ]
  },
  {
   "cell_type": "markdown",
   "id": "7151419f",
   "metadata": {},
   "source": [
    "# Question 1\n",
    "### (Beta Distribution) Complete the following exercises "
   ]
  },
  {
   "cell_type": "markdown",
   "id": "00367d25",
   "metadata": {},
   "source": [
    "### 1.1 \n",
    "\n",
    "Create a function to calculate the probability density function (PDF) of  beta distribution:\n",
    "\n",
    "\\begin{equation*}\n",
    "f(x;\\alpha,\\beta) = \\frac{\\Gamma(\\alpha+\\beta)}{\\Gamma(\\alpha)\\Gamma(\\beta)}x^{\\alpha-1}(1-x)^{\\beta-1}\n",
    "\\end{equation*}\n",
    "\n",
    "\n",
    "* Function name: pdf_beta\n",
    "\n",
    "* Input: $\\alpha$, $\\beta$, x\n",
    "\n",
    "* Output: f(x;$\\alpha$,$\\beta$)\n",
    "\n",
    "* Use SpecialFunctions.gamma() for the gamma function\n"
   ]
  },
  {
   "cell_type": "code",
   "execution_count": 12,
   "id": "137bc2e7",
   "metadata": {},
   "outputs": [
    {
     "name": "stderr",
     "output_type": "stream",
     "text": [
      "\u001b[32m\u001b[1m   Resolving\u001b[22m\u001b[39m package versions...\n",
      "\u001b[32m\u001b[1m  No Changes\u001b[22m\u001b[39m to `~/.julia/environments/v1.7/Project.toml`\n",
      "\u001b[32m\u001b[1m  No Changes\u001b[22m\u001b[39m to `~/.julia/environments/v1.7/Manifest.toml`\n"
     ]
    }
   ],
   "source": [
    "import Pkg\n",
    "Pkg.add([\"SpecialFunctions\", \"Plots\"])"
   ]
  },
  {
   "cell_type": "code",
   "execution_count": 13,
   "id": "cff81c75",
   "metadata": {},
   "outputs": [],
   "source": [
    "import SpecialFunctions\n",
    "import Plots"
   ]
  },
  {
   "cell_type": "code",
   "execution_count": 9,
   "id": "11c0b4ad",
   "metadata": {},
   "outputs": [
    {
     "data": {
      "text/plain": [
       "beta (generic function with 1 method)"
      ]
     },
     "execution_count": 9,
     "metadata": {},
     "output_type": "execute_result"
    }
   ],
   "source": [
    "beta(α,β,p) = p^(α-1)*(1-p)^(β-1)/(SpecialFunctions.gamma(α)*SpecialFunctions.gamma(β)/SpecialFunctions.gamma(α+β))"
   ]
  },
  {
   "cell_type": "markdown",
   "id": "3e284e4a",
   "metadata": {},
   "source": [
    "### 1.2\n",
    "\n",
    "1. Create a x from 0 to 1 with increment of 0.001 as the probability of the event. \n",
    "2. Create $\\alpha$ = 0.5 and $\\beta$ = 0.5\n",
    "3. Calculate the pdf of the beta distribution over x \n",
    "4. Plot pdf vs. x\n",
    "5. What is the shape of the beta distribution"
   ]
  },
  {
   "cell_type": "code",
   "execution_count": 70,
   "id": "3bcb109a",
   "metadata": {},
   "outputs": [
    {
     "data": {
      "image/svg+xml": [
       "<?xml version=\"1.0\" encoding=\"utf-8\"?>\n",
       "<svg xmlns=\"http://www.w3.org/2000/svg\" xmlns:xlink=\"http://www.w3.org/1999/xlink\" width=\"600\" height=\"400\" viewBox=\"0 0 2400 1600\">\n",
       "<defs>\n",
       "  <clipPath id=\"clip560\">\n",
       "    <rect x=\"0\" y=\"0\" width=\"2400\" height=\"1600\"/>\n",
       "  </clipPath>\n",
       "</defs>\n",
       "<path clip-path=\"url(#clip560)\" d=\"M0 1600 L2400 1600 L2400 0 L0 0  Z\" fill=\"#ffffff\" fill-rule=\"evenodd\" fill-opacity=\"1\"/>\n",
       "<defs>\n",
       "  <clipPath id=\"clip561\">\n",
       "    <rect x=\"480\" y=\"0\" width=\"1681\" height=\"1600\"/>\n",
       "  </clipPath>\n",
       "</defs>\n",
       "<path clip-path=\"url(#clip560)\" d=\"M156.112 1486.45 L2352.76 1486.45 L2352.76 47.2441 L156.112 47.2441  Z\" fill=\"#ffffff\" fill-rule=\"evenodd\" fill-opacity=\"1\"/>\n",
       "<defs>\n",
       "  <clipPath id=\"clip562\">\n",
       "    <rect x=\"156\" y=\"47\" width=\"2198\" height=\"1440\"/>\n",
       "  </clipPath>\n",
       "</defs>\n",
       "<polyline clip-path=\"url(#clip562)\" style=\"stroke:#000000; stroke-linecap:round; stroke-linejoin:round; stroke-width:2; stroke-opacity:0.1; fill:none\" points=\"218.281,1486.45 218.281,47.2441 \"/>\n",
       "<polyline clip-path=\"url(#clip562)\" style=\"stroke:#000000; stroke-linecap:round; stroke-linejoin:round; stroke-width:2; stroke-opacity:0.1; fill:none\" points=\"736.358,1486.45 736.358,47.2441 \"/>\n",
       "<polyline clip-path=\"url(#clip562)\" style=\"stroke:#000000; stroke-linecap:round; stroke-linejoin:round; stroke-width:2; stroke-opacity:0.1; fill:none\" points=\"1254.43,1486.45 1254.43,47.2441 \"/>\n",
       "<polyline clip-path=\"url(#clip562)\" style=\"stroke:#000000; stroke-linecap:round; stroke-linejoin:round; stroke-width:2; stroke-opacity:0.1; fill:none\" points=\"1772.51,1486.45 1772.51,47.2441 \"/>\n",
       "<polyline clip-path=\"url(#clip562)\" style=\"stroke:#000000; stroke-linecap:round; stroke-linejoin:round; stroke-width:2; stroke-opacity:0.1; fill:none\" points=\"2290.59,1486.45 2290.59,47.2441 \"/>\n",
       "<polyline clip-path=\"url(#clip560)\" style=\"stroke:#000000; stroke-linecap:round; stroke-linejoin:round; stroke-width:4; stroke-opacity:1; fill:none\" points=\"156.112,1486.45 2352.76,1486.45 \"/>\n",
       "<polyline clip-path=\"url(#clip560)\" style=\"stroke:#000000; stroke-linecap:round; stroke-linejoin:round; stroke-width:4; stroke-opacity:1; fill:none\" points=\"218.281,1486.45 218.281,1467.55 \"/>\n",
       "<polyline clip-path=\"url(#clip560)\" style=\"stroke:#000000; stroke-linecap:round; stroke-linejoin:round; stroke-width:4; stroke-opacity:1; fill:none\" points=\"736.358,1486.45 736.358,1467.55 \"/>\n",
       "<polyline clip-path=\"url(#clip560)\" style=\"stroke:#000000; stroke-linecap:round; stroke-linejoin:round; stroke-width:4; stroke-opacity:1; fill:none\" points=\"1254.43,1486.45 1254.43,1467.55 \"/>\n",
       "<polyline clip-path=\"url(#clip560)\" style=\"stroke:#000000; stroke-linecap:round; stroke-linejoin:round; stroke-width:4; stroke-opacity:1; fill:none\" points=\"1772.51,1486.45 1772.51,1467.55 \"/>\n",
       "<polyline clip-path=\"url(#clip560)\" style=\"stroke:#000000; stroke-linecap:round; stroke-linejoin:round; stroke-width:4; stroke-opacity:1; fill:none\" points=\"2290.59,1486.45 2290.59,1467.55 \"/>\n",
       "<path clip-path=\"url(#clip560)\" d=\"M180.585 1517.37 Q176.974 1517.37 175.145 1520.93 Q173.339 1524.47 173.339 1531.6 Q173.339 1538.71 175.145 1542.27 Q176.974 1545.82 180.585 1545.82 Q184.219 1545.82 186.025 1542.27 Q187.853 1538.71 187.853 1531.6 Q187.853 1524.47 186.025 1520.93 Q184.219 1517.37 180.585 1517.37 M180.585 1513.66 Q186.395 1513.66 189.45 1518.27 Q192.529 1522.85 192.529 1531.6 Q192.529 1540.33 189.45 1544.94 Q186.395 1549.52 180.585 1549.52 Q174.775 1549.52 171.696 1544.94 Q168.64 1540.33 168.64 1531.6 Q168.64 1522.85 171.696 1518.27 Q174.775 1513.66 180.585 1513.66 Z\" fill=\"#000000\" fill-rule=\"evenodd\" fill-opacity=\"1\" /><path clip-path=\"url(#clip560)\" d=\"M200.747 1542.97 L205.631 1542.97 L205.631 1548.85 L200.747 1548.85 L200.747 1542.97 Z\" fill=\"#000000\" fill-rule=\"evenodd\" fill-opacity=\"1\" /><path clip-path=\"url(#clip560)\" d=\"M225.816 1517.37 Q222.205 1517.37 220.376 1520.93 Q218.571 1524.47 218.571 1531.6 Q218.571 1538.71 220.376 1542.27 Q222.205 1545.82 225.816 1545.82 Q229.45 1545.82 231.256 1542.27 Q233.084 1538.71 233.084 1531.6 Q233.084 1524.47 231.256 1520.93 Q229.45 1517.37 225.816 1517.37 M225.816 1513.66 Q231.626 1513.66 234.682 1518.27 Q237.76 1522.85 237.76 1531.6 Q237.76 1540.33 234.682 1544.94 Q231.626 1549.52 225.816 1549.52 Q220.006 1549.52 216.927 1544.94 Q213.872 1540.33 213.872 1531.6 Q213.872 1522.85 216.927 1518.27 Q220.006 1513.66 225.816 1513.66 Z\" fill=\"#000000\" fill-rule=\"evenodd\" fill-opacity=\"1\" /><path clip-path=\"url(#clip560)\" d=\"M255.978 1517.37 Q252.367 1517.37 250.538 1520.93 Q248.733 1524.47 248.733 1531.6 Q248.733 1538.71 250.538 1542.27 Q252.367 1545.82 255.978 1545.82 Q259.612 1545.82 261.418 1542.27 Q263.246 1538.71 263.246 1531.6 Q263.246 1524.47 261.418 1520.93 Q259.612 1517.37 255.978 1517.37 M255.978 1513.66 Q261.788 1513.66 264.844 1518.27 Q267.922 1522.85 267.922 1531.6 Q267.922 1540.33 264.844 1544.94 Q261.788 1549.52 255.978 1549.52 Q250.168 1549.52 247.089 1544.94 Q244.033 1540.33 244.033 1531.6 Q244.033 1522.85 247.089 1518.27 Q250.168 1513.66 255.978 1513.66 Z\" fill=\"#000000\" fill-rule=\"evenodd\" fill-opacity=\"1\" /><path clip-path=\"url(#clip560)\" d=\"M699.159 1517.37 Q695.548 1517.37 693.719 1520.93 Q691.913 1524.47 691.913 1531.6 Q691.913 1538.71 693.719 1542.27 Q695.548 1545.82 699.159 1545.82 Q702.793 1545.82 704.599 1542.27 Q706.427 1538.71 706.427 1531.6 Q706.427 1524.47 704.599 1520.93 Q702.793 1517.37 699.159 1517.37 M699.159 1513.66 Q704.969 1513.66 708.024 1518.27 Q711.103 1522.85 711.103 1531.6 Q711.103 1540.33 708.024 1544.94 Q704.969 1549.52 699.159 1549.52 Q693.349 1549.52 690.27 1544.94 Q687.214 1540.33 687.214 1531.6 Q687.214 1522.85 690.27 1518.27 Q693.349 1513.66 699.159 1513.66 Z\" fill=\"#000000\" fill-rule=\"evenodd\" fill-opacity=\"1\" /><path clip-path=\"url(#clip560)\" d=\"M719.321 1542.97 L724.205 1542.97 L724.205 1548.85 L719.321 1548.85 L719.321 1542.97 Z\" fill=\"#000000\" fill-rule=\"evenodd\" fill-opacity=\"1\" /><path clip-path=\"url(#clip560)\" d=\"M738.418 1544.91 L754.737 1544.91 L754.737 1548.85 L732.793 1548.85 L732.793 1544.91 Q735.455 1542.16 740.038 1537.53 Q744.645 1532.88 745.825 1531.53 Q748.071 1529.01 748.95 1527.27 Q749.853 1525.51 749.853 1523.82 Q749.853 1521.07 747.909 1519.33 Q745.987 1517.6 742.885 1517.6 Q740.686 1517.6 738.233 1518.36 Q735.802 1519.13 733.024 1520.68 L733.024 1515.95 Q735.848 1514.82 738.302 1514.24 Q740.756 1513.66 742.793 1513.66 Q748.163 1513.66 751.358 1516.35 Q754.552 1519.03 754.552 1523.52 Q754.552 1525.65 753.742 1527.57 Q752.955 1529.47 750.848 1532.07 Q750.27 1532.74 747.168 1535.95 Q744.066 1539.15 738.418 1544.91 Z\" fill=\"#000000\" fill-rule=\"evenodd\" fill-opacity=\"1\" /><path clip-path=\"url(#clip560)\" d=\"M764.598 1514.29 L782.955 1514.29 L782.955 1518.22 L768.881 1518.22 L768.881 1526.7 Q769.899 1526.35 770.918 1526.19 Q771.936 1526 772.955 1526 Q778.742 1526 782.121 1529.17 Q785.501 1532.34 785.501 1537.76 Q785.501 1543.34 782.029 1546.44 Q778.557 1549.52 772.237 1549.52 Q770.061 1549.52 767.793 1549.15 Q765.547 1548.78 763.14 1548.04 L763.14 1543.34 Q765.223 1544.47 767.445 1545.03 Q769.668 1545.58 772.144 1545.58 Q776.149 1545.58 778.487 1543.48 Q780.825 1541.37 780.825 1537.76 Q780.825 1534.15 778.487 1532.04 Q776.149 1529.94 772.144 1529.94 Q770.27 1529.94 768.395 1530.35 Q766.543 1530.77 764.598 1531.65 L764.598 1514.29 Z\" fill=\"#000000\" fill-rule=\"evenodd\" fill-opacity=\"1\" /><path clip-path=\"url(#clip560)\" d=\"M1216.74 1517.37 Q1213.13 1517.37 1211.3 1520.93 Q1209.49 1524.47 1209.49 1531.6 Q1209.49 1538.71 1211.3 1542.27 Q1213.13 1545.82 1216.74 1545.82 Q1220.37 1545.82 1222.18 1542.27 Q1224.01 1538.71 1224.01 1531.6 Q1224.01 1524.47 1222.18 1520.93 Q1220.37 1517.37 1216.74 1517.37 M1216.74 1513.66 Q1222.55 1513.66 1225.6 1518.27 Q1228.68 1522.85 1228.68 1531.6 Q1228.68 1540.33 1225.6 1544.94 Q1222.55 1549.52 1216.74 1549.52 Q1210.93 1549.52 1207.85 1544.94 Q1204.79 1540.33 1204.79 1531.6 Q1204.79 1522.85 1207.85 1518.27 Q1210.93 1513.66 1216.74 1513.66 Z\" fill=\"#000000\" fill-rule=\"evenodd\" fill-opacity=\"1\" /><path clip-path=\"url(#clip560)\" d=\"M1236.9 1542.97 L1241.78 1542.97 L1241.78 1548.85 L1236.9 1548.85 L1236.9 1542.97 Z\" fill=\"#000000\" fill-rule=\"evenodd\" fill-opacity=\"1\" /><path clip-path=\"url(#clip560)\" d=\"M1252.02 1514.29 L1270.37 1514.29 L1270.37 1518.22 L1256.3 1518.22 L1256.3 1526.7 Q1257.32 1526.35 1258.33 1526.19 Q1259.35 1526 1260.37 1526 Q1266.16 1526 1269.54 1529.17 Q1272.92 1532.34 1272.92 1537.76 Q1272.92 1543.34 1269.45 1546.44 Q1265.97 1549.52 1259.65 1549.52 Q1257.48 1549.52 1255.21 1549.15 Q1252.96 1548.78 1250.56 1548.04 L1250.56 1543.34 Q1252.64 1544.47 1254.86 1545.03 Q1257.08 1545.58 1259.56 1545.58 Q1263.57 1545.58 1265.9 1543.48 Q1268.24 1541.37 1268.24 1537.76 Q1268.24 1534.15 1265.9 1532.04 Q1263.57 1529.94 1259.56 1529.94 Q1257.69 1529.94 1255.81 1530.35 Q1253.96 1530.77 1252.02 1531.65 L1252.02 1514.29 Z\" fill=\"#000000\" fill-rule=\"evenodd\" fill-opacity=\"1\" /><path clip-path=\"url(#clip560)\" d=\"M1292.13 1517.37 Q1288.52 1517.37 1286.69 1520.93 Q1284.89 1524.47 1284.89 1531.6 Q1284.89 1538.71 1286.69 1542.27 Q1288.52 1545.82 1292.13 1545.82 Q1295.76 1545.82 1297.57 1542.27 Q1299.4 1538.71 1299.4 1531.6 Q1299.4 1524.47 1297.57 1520.93 Q1295.76 1517.37 1292.13 1517.37 M1292.13 1513.66 Q1297.94 1513.66 1301 1518.27 Q1304.07 1522.85 1304.07 1531.6 Q1304.07 1540.33 1301 1544.94 Q1297.94 1549.52 1292.13 1549.52 Q1286.32 1549.52 1283.24 1544.94 Q1280.19 1540.33 1280.19 1531.6 Q1280.19 1522.85 1283.24 1518.27 Q1286.32 1513.66 1292.13 1513.66 Z\" fill=\"#000000\" fill-rule=\"evenodd\" fill-opacity=\"1\" /><path clip-path=\"url(#clip560)\" d=\"M1735.31 1517.37 Q1731.7 1517.37 1729.87 1520.93 Q1728.07 1524.47 1728.07 1531.6 Q1728.07 1538.71 1729.87 1542.27 Q1731.7 1545.82 1735.31 1545.82 Q1738.95 1545.82 1740.75 1542.27 Q1742.58 1538.71 1742.58 1531.6 Q1742.58 1524.47 1740.75 1520.93 Q1738.95 1517.37 1735.31 1517.37 M1735.31 1513.66 Q1741.12 1513.66 1744.18 1518.27 Q1747.26 1522.85 1747.26 1531.6 Q1747.26 1540.33 1744.18 1544.94 Q1741.12 1549.52 1735.31 1549.52 Q1729.5 1549.52 1726.42 1544.94 Q1723.37 1540.33 1723.37 1531.6 Q1723.37 1522.85 1726.42 1518.27 Q1729.5 1513.66 1735.31 1513.66 Z\" fill=\"#000000\" fill-rule=\"evenodd\" fill-opacity=\"1\" /><path clip-path=\"url(#clip560)\" d=\"M1755.47 1542.97 L1760.36 1542.97 L1760.36 1548.85 L1755.47 1548.85 L1755.47 1542.97 Z\" fill=\"#000000\" fill-rule=\"evenodd\" fill-opacity=\"1\" /><path clip-path=\"url(#clip560)\" d=\"M1769.36 1514.29 L1791.58 1514.29 L1791.58 1516.28 L1779.04 1548.85 L1774.15 1548.85 L1785.96 1518.22 L1769.36 1518.22 L1769.36 1514.29 Z\" fill=\"#000000\" fill-rule=\"evenodd\" fill-opacity=\"1\" /><path clip-path=\"url(#clip560)\" d=\"M1800.75 1514.29 L1819.11 1514.29 L1819.11 1518.22 L1805.03 1518.22 L1805.03 1526.7 Q1806.05 1526.35 1807.07 1526.19 Q1808.09 1526 1809.11 1526 Q1814.89 1526 1818.27 1529.17 Q1821.65 1532.34 1821.65 1537.76 Q1821.65 1543.34 1818.18 1546.44 Q1814.71 1549.52 1808.39 1549.52 Q1806.21 1549.52 1803.95 1549.15 Q1801.7 1548.78 1799.29 1548.04 L1799.29 1543.34 Q1801.38 1544.47 1803.6 1545.03 Q1805.82 1545.58 1808.3 1545.58 Q1812.3 1545.58 1814.64 1543.48 Q1816.98 1541.37 1816.98 1537.76 Q1816.98 1534.15 1814.64 1532.04 Q1812.3 1529.94 1808.3 1529.94 Q1806.42 1529.94 1804.55 1530.35 Q1802.7 1530.77 1800.75 1531.65 L1800.75 1514.29 Z\" fill=\"#000000\" fill-rule=\"evenodd\" fill-opacity=\"1\" /><path clip-path=\"url(#clip560)\" d=\"M2242.66 1544.91 L2250.3 1544.91 L2250.3 1518.55 L2241.99 1520.21 L2241.99 1515.95 L2250.25 1514.29 L2254.93 1514.29 L2254.93 1544.91 L2262.57 1544.91 L2262.57 1548.85 L2242.66 1548.85 L2242.66 1544.91 Z\" fill=\"#000000\" fill-rule=\"evenodd\" fill-opacity=\"1\" /><path clip-path=\"url(#clip560)\" d=\"M2272.01 1542.97 L2276.89 1542.97 L2276.89 1548.85 L2272.01 1548.85 L2272.01 1542.97 Z\" fill=\"#000000\" fill-rule=\"evenodd\" fill-opacity=\"1\" /><path clip-path=\"url(#clip560)\" d=\"M2297.08 1517.37 Q2293.47 1517.37 2291.64 1520.93 Q2289.83 1524.47 2289.83 1531.6 Q2289.83 1538.71 2291.64 1542.27 Q2293.47 1545.82 2297.08 1545.82 Q2300.71 1545.82 2302.52 1542.27 Q2304.35 1538.71 2304.35 1531.6 Q2304.35 1524.47 2302.52 1520.93 Q2300.71 1517.37 2297.08 1517.37 M2297.08 1513.66 Q2302.89 1513.66 2305.95 1518.27 Q2309.02 1522.85 2309.02 1531.6 Q2309.02 1540.33 2305.95 1544.94 Q2302.89 1549.52 2297.08 1549.52 Q2291.27 1549.52 2288.19 1544.94 Q2285.14 1540.33 2285.14 1531.6 Q2285.14 1522.85 2288.19 1518.27 Q2291.27 1513.66 2297.08 1513.66 Z\" fill=\"#000000\" fill-rule=\"evenodd\" fill-opacity=\"1\" /><path clip-path=\"url(#clip560)\" d=\"M2327.24 1517.37 Q2323.63 1517.37 2321.8 1520.93 Q2320 1524.47 2320 1531.6 Q2320 1538.71 2321.8 1542.27 Q2323.63 1545.82 2327.24 1545.82 Q2330.88 1545.82 2332.68 1542.27 Q2334.51 1538.71 2334.51 1531.6 Q2334.51 1524.47 2332.68 1520.93 Q2330.88 1517.37 2327.24 1517.37 M2327.24 1513.66 Q2333.05 1513.66 2336.11 1518.27 Q2339.19 1522.85 2339.19 1531.6 Q2339.19 1540.33 2336.11 1544.94 Q2333.05 1549.52 2327.24 1549.52 Q2321.43 1549.52 2318.35 1544.94 Q2315.3 1540.33 2315.3 1531.6 Q2315.3 1522.85 2318.35 1518.27 Q2321.43 1513.66 2327.24 1513.66 Z\" fill=\"#000000\" fill-rule=\"evenodd\" fill-opacity=\"1\" /><polyline clip-path=\"url(#clip562)\" style=\"stroke:#000000; stroke-linecap:round; stroke-linejoin:round; stroke-width:2; stroke-opacity:0.1; fill:none\" points=\"156.112,1445.72 2352.76,1445.72 \"/>\n",
       "<polyline clip-path=\"url(#clip562)\" style=\"stroke:#000000; stroke-linecap:round; stroke-linejoin:round; stroke-width:2; stroke-opacity:0.1; fill:none\" points=\"156.112,1169.86 2352.76,1169.86 \"/>\n",
       "<polyline clip-path=\"url(#clip562)\" style=\"stroke:#000000; stroke-linecap:round; stroke-linejoin:round; stroke-width:2; stroke-opacity:0.1; fill:none\" points=\"156.112,893.999 2352.76,893.999 \"/>\n",
       "<polyline clip-path=\"url(#clip562)\" style=\"stroke:#000000; stroke-linecap:round; stroke-linejoin:round; stroke-width:2; stroke-opacity:0.1; fill:none\" points=\"156.112,618.141 2352.76,618.141 \"/>\n",
       "<polyline clip-path=\"url(#clip562)\" style=\"stroke:#000000; stroke-linecap:round; stroke-linejoin:round; stroke-width:2; stroke-opacity:0.1; fill:none\" points=\"156.112,342.283 2352.76,342.283 \"/>\n",
       "<polyline clip-path=\"url(#clip562)\" style=\"stroke:#000000; stroke-linecap:round; stroke-linejoin:round; stroke-width:2; stroke-opacity:0.1; fill:none\" points=\"156.112,66.4249 2352.76,66.4249 \"/>\n",
       "<polyline clip-path=\"url(#clip560)\" style=\"stroke:#000000; stroke-linecap:round; stroke-linejoin:round; stroke-width:4; stroke-opacity:1; fill:none\" points=\"156.112,1486.45 156.112,47.2441 \"/>\n",
       "<polyline clip-path=\"url(#clip560)\" style=\"stroke:#000000; stroke-linecap:round; stroke-linejoin:round; stroke-width:4; stroke-opacity:1; fill:none\" points=\"156.112,1445.72 175.01,1445.72 \"/>\n",
       "<polyline clip-path=\"url(#clip560)\" style=\"stroke:#000000; stroke-linecap:round; stroke-linejoin:round; stroke-width:4; stroke-opacity:1; fill:none\" points=\"156.112,1169.86 175.01,1169.86 \"/>\n",
       "<polyline clip-path=\"url(#clip560)\" style=\"stroke:#000000; stroke-linecap:round; stroke-linejoin:round; stroke-width:4; stroke-opacity:1; fill:none\" points=\"156.112,893.999 175.01,893.999 \"/>\n",
       "<polyline clip-path=\"url(#clip560)\" style=\"stroke:#000000; stroke-linecap:round; stroke-linejoin:round; stroke-width:4; stroke-opacity:1; fill:none\" points=\"156.112,618.141 175.01,618.141 \"/>\n",
       "<polyline clip-path=\"url(#clip560)\" style=\"stroke:#000000; stroke-linecap:round; stroke-linejoin:round; stroke-width:4; stroke-opacity:1; fill:none\" points=\"156.112,342.283 175.01,342.283 \"/>\n",
       "<polyline clip-path=\"url(#clip560)\" style=\"stroke:#000000; stroke-linecap:round; stroke-linejoin:round; stroke-width:4; stroke-opacity:1; fill:none\" points=\"156.112,66.4249 175.01,66.4249 \"/>\n",
       "<path clip-path=\"url(#clip560)\" d=\"M62.9365 1431.51 Q59.3254 1431.51 57.4967 1435.08 Q55.6912 1438.62 55.6912 1445.75 Q55.6912 1452.86 57.4967 1456.42 Q59.3254 1459.96 62.9365 1459.96 Q66.5707 1459.96 68.3763 1456.42 Q70.205 1452.86 70.205 1445.75 Q70.205 1438.62 68.3763 1435.08 Q66.5707 1431.51 62.9365 1431.51 M62.9365 1427.81 Q68.7467 1427.81 71.8022 1432.42 Q74.8809 1437 74.8809 1445.75 Q74.8809 1454.48 71.8022 1459.08 Q68.7467 1463.67 62.9365 1463.67 Q57.1264 1463.67 54.0477 1459.08 Q50.9921 1454.48 50.9921 1445.75 Q50.9921 1437 54.0477 1432.42 Q57.1264 1427.81 62.9365 1427.81 Z\" fill=\"#000000\" fill-rule=\"evenodd\" fill-opacity=\"1\" /><path clip-path=\"url(#clip560)\" d=\"M83.0984 1457.12 L87.9827 1457.12 L87.9827 1463 L83.0984 1463 L83.0984 1457.12 Z\" fill=\"#000000\" fill-rule=\"evenodd\" fill-opacity=\"1\" /><path clip-path=\"url(#clip560)\" d=\"M108.168 1431.51 Q104.557 1431.51 102.728 1435.08 Q100.922 1438.62 100.922 1445.75 Q100.922 1452.86 102.728 1456.42 Q104.557 1459.96 108.168 1459.96 Q111.802 1459.96 113.608 1456.42 Q115.436 1452.86 115.436 1445.75 Q115.436 1438.62 113.608 1435.08 Q111.802 1431.51 108.168 1431.51 M108.168 1427.81 Q113.978 1427.81 117.033 1432.42 Q120.112 1437 120.112 1445.75 Q120.112 1454.48 117.033 1459.08 Q113.978 1463.67 108.168 1463.67 Q102.358 1463.67 99.2789 1459.08 Q96.2234 1454.48 96.2234 1445.75 Q96.2234 1437 99.2789 1432.42 Q102.358 1427.81 108.168 1427.81 Z\" fill=\"#000000\" fill-rule=\"evenodd\" fill-opacity=\"1\" /><path clip-path=\"url(#clip560)\" d=\"M63.9319 1155.66 Q60.3208 1155.66 58.4921 1159.22 Q56.6865 1162.76 56.6865 1169.89 Q56.6865 1177 58.4921 1180.56 Q60.3208 1184.11 63.9319 1184.11 Q67.5661 1184.11 69.3717 1180.56 Q71.2004 1177 71.2004 1169.89 Q71.2004 1162.76 69.3717 1159.22 Q67.5661 1155.66 63.9319 1155.66 M63.9319 1151.95 Q69.742 1151.95 72.7976 1156.56 Q75.8763 1161.14 75.8763 1169.89 Q75.8763 1178.62 72.7976 1183.23 Q69.742 1187.81 63.9319 1187.81 Q58.1217 1187.81 55.043 1183.23 Q51.9875 1178.62 51.9875 1169.89 Q51.9875 1161.14 55.043 1156.56 Q58.1217 1151.95 63.9319 1151.95 Z\" fill=\"#000000\" fill-rule=\"evenodd\" fill-opacity=\"1\" /><path clip-path=\"url(#clip560)\" d=\"M84.0938 1181.26 L88.978 1181.26 L88.978 1187.14 L84.0938 1187.14 L84.0938 1181.26 Z\" fill=\"#000000\" fill-rule=\"evenodd\" fill-opacity=\"1\" /><path clip-path=\"url(#clip560)\" d=\"M99.2095 1152.58 L117.566 1152.58 L117.566 1156.51 L103.492 1156.51 L103.492 1164.98 Q104.51 1164.64 105.529 1164.48 Q106.547 1164.29 107.566 1164.29 Q113.353 1164.29 116.733 1167.46 Q120.112 1170.63 120.112 1176.05 Q120.112 1181.63 116.64 1184.73 Q113.168 1187.81 106.848 1187.81 Q104.672 1187.81 102.404 1187.44 Q100.159 1187.07 97.7511 1186.33 L97.7511 1181.63 Q99.8345 1182.76 102.057 1183.32 Q104.279 1183.87 106.756 1183.87 Q110.76 1183.87 113.098 1181.77 Q115.436 1179.66 115.436 1176.05 Q115.436 1172.44 113.098 1170.33 Q110.76 1168.23 106.756 1168.23 Q104.881 1168.23 103.006 1168.64 Q101.154 1169.06 99.2095 1169.94 L99.2095 1152.58 Z\" fill=\"#000000\" fill-rule=\"evenodd\" fill-opacity=\"1\" /><path clip-path=\"url(#clip560)\" d=\"M53.7467 907.344 L61.3856 907.344 L61.3856 880.979 L53.0754 882.645 L53.0754 878.386 L61.3393 876.719 L66.0152 876.719 L66.0152 907.344 L73.654 907.344 L73.654 911.279 L53.7467 911.279 L53.7467 907.344 Z\" fill=\"#000000\" fill-rule=\"evenodd\" fill-opacity=\"1\" /><path clip-path=\"url(#clip560)\" d=\"M83.0984 905.4 L87.9827 905.4 L87.9827 911.279 L83.0984 911.279 L83.0984 905.4 Z\" fill=\"#000000\" fill-rule=\"evenodd\" fill-opacity=\"1\" /><path clip-path=\"url(#clip560)\" d=\"M108.168 879.798 Q104.557 879.798 102.728 883.363 Q100.922 886.904 100.922 894.034 Q100.922 901.141 102.728 904.705 Q104.557 908.247 108.168 908.247 Q111.802 908.247 113.608 904.705 Q115.436 901.141 115.436 894.034 Q115.436 886.904 113.608 883.363 Q111.802 879.798 108.168 879.798 M108.168 876.094 Q113.978 876.094 117.033 880.701 Q120.112 885.284 120.112 894.034 Q120.112 902.761 117.033 907.367 Q113.978 911.951 108.168 911.951 Q102.358 911.951 99.2789 907.367 Q96.2234 902.761 96.2234 894.034 Q96.2234 885.284 99.2789 880.701 Q102.358 876.094 108.168 876.094 Z\" fill=\"#000000\" fill-rule=\"evenodd\" fill-opacity=\"1\" /><path clip-path=\"url(#clip560)\" d=\"M54.7421 631.486 L62.381 631.486 L62.381 605.12 L54.0708 606.787 L54.0708 602.528 L62.3347 600.861 L67.0106 600.861 L67.0106 631.486 L74.6494 631.486 L74.6494 635.421 L54.7421 635.421 L54.7421 631.486 Z\" fill=\"#000000\" fill-rule=\"evenodd\" fill-opacity=\"1\" /><path clip-path=\"url(#clip560)\" d=\"M84.0938 629.542 L88.978 629.542 L88.978 635.421 L84.0938 635.421 L84.0938 629.542 Z\" fill=\"#000000\" fill-rule=\"evenodd\" fill-opacity=\"1\" /><path clip-path=\"url(#clip560)\" d=\"M99.2095 600.861 L117.566 600.861 L117.566 604.796 L103.492 604.796 L103.492 613.269 Q104.51 612.921 105.529 612.759 Q106.547 612.574 107.566 612.574 Q113.353 612.574 116.733 615.745 Q120.112 618.917 120.112 624.333 Q120.112 629.912 116.64 633.014 Q113.168 636.092 106.848 636.092 Q104.672 636.092 102.404 635.722 Q100.159 635.352 97.7511 634.611 L97.7511 629.912 Q99.8345 631.046 102.057 631.602 Q104.279 632.157 106.756 632.157 Q110.76 632.157 113.098 630.051 Q115.436 627.944 115.436 624.333 Q115.436 620.722 113.098 618.616 Q110.76 616.509 106.756 616.509 Q104.881 616.509 103.006 616.926 Q101.154 617.343 99.2095 618.222 L99.2095 600.861 Z\" fill=\"#000000\" fill-rule=\"evenodd\" fill-opacity=\"1\" /><path clip-path=\"url(#clip560)\" d=\"M56.9643 355.628 L73.2837 355.628 L73.2837 359.563 L51.3393 359.563 L51.3393 355.628 Q54.0014 352.873 58.5847 348.244 Q63.1911 343.591 64.3717 342.248 Q66.617 339.725 67.4967 337.989 Q68.3994 336.23 68.3994 334.54 Q68.3994 331.785 66.455 330.049 Q64.5337 328.313 61.4319 328.313 Q59.2328 328.313 56.7791 329.077 Q54.3486 329.841 51.5708 331.392 L51.5708 326.67 Q54.3949 325.535 56.8486 324.957 Q59.3023 324.378 61.3393 324.378 Q66.7096 324.378 69.9041 327.063 Q73.0985 329.748 73.0985 334.239 Q73.0985 336.369 72.2883 338.29 Q71.5013 340.188 69.3948 342.781 Q68.8161 343.452 65.7143 346.67 Q62.6124 349.864 56.9643 355.628 Z\" fill=\"#000000\" fill-rule=\"evenodd\" fill-opacity=\"1\" /><path clip-path=\"url(#clip560)\" d=\"M83.0984 353.683 L87.9827 353.683 L87.9827 359.563 L83.0984 359.563 L83.0984 353.683 Z\" fill=\"#000000\" fill-rule=\"evenodd\" fill-opacity=\"1\" /><path clip-path=\"url(#clip560)\" d=\"M108.168 328.082 Q104.557 328.082 102.728 331.647 Q100.922 335.188 100.922 342.318 Q100.922 349.424 102.728 352.989 Q104.557 356.531 108.168 356.531 Q111.802 356.531 113.608 352.989 Q115.436 349.424 115.436 342.318 Q115.436 335.188 113.608 331.647 Q111.802 328.082 108.168 328.082 M108.168 324.378 Q113.978 324.378 117.033 328.984 Q120.112 333.568 120.112 342.318 Q120.112 351.045 117.033 355.651 Q113.978 360.234 108.168 360.234 Q102.358 360.234 99.2789 355.651 Q96.2234 351.045 96.2234 342.318 Q96.2234 333.568 99.2789 328.984 Q102.358 324.378 108.168 324.378 Z\" fill=\"#000000\" fill-rule=\"evenodd\" fill-opacity=\"1\" /><path clip-path=\"url(#clip560)\" d=\"M57.9597 79.7697 L74.279 79.7697 L74.279 83.7049 L52.3347 83.7049 L52.3347 79.7697 Q54.9967 77.0151 59.58 72.3855 Q64.1865 67.7327 65.367 66.3901 Q67.6124 63.867 68.492 62.1309 Q69.3948 60.3716 69.3948 58.6818 Q69.3948 55.9272 67.4504 54.1911 Q65.5291 52.455 62.4272 52.455 Q60.2282 52.455 57.7745 53.2189 Q55.344 53.9828 52.5662 55.5337 L52.5662 50.8115 Q55.3903 49.6773 57.8439 49.0986 Q60.2976 48.5199 62.3347 48.5199 Q67.705 48.5199 70.8994 51.205 Q74.0939 53.8902 74.0939 58.3809 Q74.0939 60.5105 73.2837 62.4318 Q72.4966 64.33 70.3902 66.9225 Q69.8115 67.5938 66.7096 70.8114 Q63.6078 74.0058 57.9597 79.7697 Z\" fill=\"#000000\" fill-rule=\"evenodd\" fill-opacity=\"1\" /><path clip-path=\"url(#clip560)\" d=\"M84.0938 77.8253 L88.978 77.8253 L88.978 83.7049 L84.0938 83.7049 L84.0938 77.8253 Z\" fill=\"#000000\" fill-rule=\"evenodd\" fill-opacity=\"1\" /><path clip-path=\"url(#clip560)\" d=\"M99.2095 49.1449 L117.566 49.1449 L117.566 53.08 L103.492 53.08 L103.492 61.5522 Q104.51 61.205 105.529 61.0429 Q106.547 60.8578 107.566 60.8578 Q113.353 60.8578 116.733 64.029 Q120.112 67.2003 120.112 72.617 Q120.112 78.1956 116.64 81.2975 Q113.168 84.3762 106.848 84.3762 Q104.672 84.3762 102.404 84.0058 Q100.159 83.6354 97.7511 82.8947 L97.7511 78.1956 Q99.8345 79.3299 102.057 79.8854 Q104.279 80.441 106.756 80.441 Q110.76 80.441 113.098 78.3345 Q115.436 76.228 115.436 72.617 Q115.436 69.0059 113.098 66.8994 Q110.76 64.7929 106.756 64.7929 Q104.881 64.7929 103.006 65.2096 Q101.154 65.6263 99.2095 66.5059 L99.2095 49.1449 Z\" fill=\"#000000\" fill-rule=\"evenodd\" fill-opacity=\"1\" /><polyline clip-path=\"url(#clip562)\" style=\"stroke:#009af9; stroke-linecap:round; stroke-linejoin:round; stroke-width:4; stroke-opacity:1; fill:none\" points=\"218.281,1445.72 239.004,1445.71 259.727,1445.66 280.45,1445.47 301.174,1444.96 321.897,1443.95 342.62,1442.2 363.343,1439.47 384.066,1435.52 404.789,1430.08 425.512,1422.91 446.235,1413.79 466.958,1402.49 487.681,1388.84 508.404,1372.68 529.127,1353.86 549.85,1332.31 570.573,1307.94 591.296,1280.75 612.019,1250.73 632.742,1217.92 653.465,1182.42 674.188,1144.33 694.912,1103.79 715.635,1060.99 736.358,1016.12 757.081,969.42 777.804,921.146 798.527,871.575 819.25,821.001 839.973,769.736 860.696,718.104 881.419,666.439 902.142,615.079 922.865,564.367 943.588,514.646 964.311,466.257 985.034,419.531 1005.76,374.794 1026.48,332.359 1047.2,292.524 1067.93,255.571 1088.65,221.76 1109.37,191.334 1130.1,164.509 1150.82,141.477 1171.54,122.402 1192.26,107.422 1212.99,96.645 1233.71,90.1474 1254.43,87.9763 1275.16,90.1474 1295.88,96.645 1316.6,107.422 1337.33,122.402 1358.05,141.477 1378.77,164.509 1399.5,191.334 1420.22,221.76 1440.94,255.571 1461.66,292.524 1482.39,332.359 1503.11,374.794 1523.83,419.531 1544.56,466.257 1565.28,514.646 1586,564.367 1606.73,615.079 1627.45,666.439 1648.17,718.104 1668.9,769.736 1689.62,821.001 1710.34,871.575 1731.06,921.146 1751.79,969.42 1772.51,1016.12 1793.23,1060.99 1813.96,1103.79 1834.68,1144.33 1855.4,1182.42 1876.13,1217.92 1896.85,1250.73 1917.57,1280.75 1938.29,1307.94 1959.02,1332.31 1979.74,1353.86 2000.46,1372.68 2021.19,1388.84 2041.91,1402.49 2062.63,1413.79 2083.36,1422.91 2104.08,1430.08 2124.8,1435.52 2145.53,1439.47 2166.25,1442.2 2186.97,1443.95 2207.69,1444.96 2228.42,1445.47 2249.14,1445.66 2269.86,1445.71 2290.59,1445.72 \"/>\n",
       "<path clip-path=\"url(#clip560)\" d=\"M2007.44 198.898 L2279.53 198.898 L2279.53 95.2176 L2007.44 95.2176  Z\" fill=\"#ffffff\" fill-rule=\"evenodd\" fill-opacity=\"1\"/>\n",
       "<polyline clip-path=\"url(#clip560)\" style=\"stroke:#000000; stroke-linecap:round; stroke-linejoin:round; stroke-width:4; stroke-opacity:1; fill:none\" points=\"2007.44,198.898 2279.53,198.898 2279.53,95.2176 2007.44,95.2176 2007.44,198.898 \"/>\n",
       "<polyline clip-path=\"url(#clip560)\" style=\"stroke:#009af9; stroke-linecap:round; stroke-linejoin:round; stroke-width:4; stroke-opacity:1; fill:none\" points=\"2031.85,147.058 2178.29,147.058 \"/>\n",
       "<path clip-path=\"url(#clip560)\" d=\"M2216.54 166.745 Q2214.73 171.375 2213.02 172.787 Q2211.31 174.199 2208.44 174.199 L2205.03 174.199 L2205.03 170.634 L2207.53 170.634 Q2209.29 170.634 2210.27 169.8 Q2211.24 168.967 2212.42 165.865 L2213.18 163.921 L2202.7 138.412 L2207.21 138.412 L2215.31 158.689 L2223.41 138.412 L2227.93 138.412 L2216.54 166.745 Z\" fill=\"#000000\" fill-rule=\"evenodd\" fill-opacity=\"1\" /><path clip-path=\"url(#clip560)\" d=\"M2235.22 160.402 L2242.86 160.402 L2242.86 134.037 L2234.55 135.703 L2234.55 131.444 L2242.81 129.778 L2247.49 129.778 L2247.49 160.402 L2255.13 160.402 L2255.13 164.338 L2235.22 164.338 L2235.22 160.402 Z\" fill=\"#000000\" fill-rule=\"evenodd\" fill-opacity=\"1\" /></svg>\n"
      ]
     },
     "execution_count": 70,
     "metadata": {},
     "output_type": "execute_result"
    }
   ],
   "source": [
    "x = 0:0.001:1\n",
    "α = 0.5\n",
    "β = 0.5\n",
    "pdf_beta = beta.(α,β,x)\n",
    "Plots.plot(x,pdf_beta)"
   ]
  },
  {
   "cell_type": "markdown",
   "id": "f16b469a",
   "metadata": {},
   "source": [
    "U shape"
   ]
  },
  {
   "cell_type": "markdown",
   "id": "da25327c",
   "metadata": {},
   "source": [
    "### 1.3\n",
    "\n",
    "1. Change $\\alpha$ = 1 and $\\beta$ = 1\n",
    "2. Calculate the pdf of the beta distribution over x \n",
    "3. Plot pdf vs. x\n",
    "4. What is the shape of the beta distribution"
   ]
  },
  {
   "cell_type": "code",
   "execution_count": null,
   "id": "02f7d2e4",
   "metadata": {},
   "outputs": [],
   "source": [
    "x = 0:0.001:1\n",
    "α = 1\n",
    "β = 1\n",
    "pdf_beta = beta.(α,β,x)\n",
    "Plots.plot(x,pdf_beta)"
   ]
  },
  {
   "cell_type": "markdown",
   "id": "90926e05",
   "metadata": {},
   "source": [
    "Uniform distribution shape"
   ]
  },
  {
   "cell_type": "markdown",
   "id": "e22eec43",
   "metadata": {},
   "source": [
    "### 1.4\n",
    "\n",
    "1. Change $\\alpha$ = 5 and $\\beta$ = 5\n",
    "2. Calculate the pdf of the beta distribution over x \n",
    "3. Plot pdf vs. x\n",
    "4. What is the shape of the beta distribution"
   ]
  },
  {
   "cell_type": "code",
   "execution_count": null,
   "id": "ffe99096",
   "metadata": {},
   "outputs": [],
   "source": [
    "x = 0:0.001:1\n",
    "α = 5\n",
    "β = 5\n",
    "pdf_beta = beta.(α,β,x)\n",
    "Plots.plot(x,pdf_beta)"
   ]
  },
  {
   "cell_type": "markdown",
   "id": "c3c507ab",
   "metadata": {},
   "source": [
    "\"bell curve\" (Gaussian) shape"
   ]
  },
  {
   "cell_type": "markdown",
   "id": "775b8acf",
   "metadata": {},
   "source": [
    "#### In our class on Tuesday, we went through how a Beta distribution is the conjugate prior of a binomial distribution that can be used in a bayesian inference. \n",
    "\n",
    "If you forgot the derivation, [here is an example](https://towardsdatascience.com/conjugate-prior-explained-75957dc80bfb). "
   ]
  },
  {
   "cell_type": "markdown",
   "id": "f178fa2c",
   "metadata": {},
   "source": [
    "### 1.5\n",
    "\n",
    "#### Assume we are using the beta distribution from 1.4 as our prior distribution for a coin flipping experiment to calculate the true distribution of flipping the coin (posterior distribution).\n",
    "\n",
    "Given the experiment results in 35 heads and 65 tails.\n",
    "\n",
    "1. Calculate the pdf of the posterior distribution given the prior and the results.\n",
    "2. Plot pdf of the prior distribution in the same plot\n",
    "3. Describe how the distribution is changed after the data came in"
   ]
  },
  {
   "cell_type": "code",
   "execution_count": 71,
   "id": "668b3246",
   "metadata": {},
   "outputs": [
    {
     "data": {
      "image/svg+xml": [
       "<?xml version=\"1.0\" encoding=\"utf-8\"?>\n",
       "<svg xmlns=\"http://www.w3.org/2000/svg\" xmlns:xlink=\"http://www.w3.org/1999/xlink\" width=\"600\" height=\"400\" viewBox=\"0 0 2400 1600\">\n",
       "<defs>\n",
       "  <clipPath id=\"clip600\">\n",
       "    <rect x=\"0\" y=\"0\" width=\"2400\" height=\"1600\"/>\n",
       "  </clipPath>\n",
       "</defs>\n",
       "<path clip-path=\"url(#clip600)\" d=\"M0 1600 L2400 1600 L2400 0 L0 0  Z\" fill=\"#ffffff\" fill-rule=\"evenodd\" fill-opacity=\"1\"/>\n",
       "<defs>\n",
       "  <clipPath id=\"clip601\">\n",
       "    <rect x=\"480\" y=\"0\" width=\"1681\" height=\"1600\"/>\n",
       "  </clipPath>\n",
       "</defs>\n",
       "<path clip-path=\"url(#clip600)\" d=\"M112.177 1486.45 L2352.76 1486.45 L2352.76 47.2441 L112.177 47.2441  Z\" fill=\"#ffffff\" fill-rule=\"evenodd\" fill-opacity=\"1\"/>\n",
       "<defs>\n",
       "  <clipPath id=\"clip602\">\n",
       "    <rect x=\"112\" y=\"47\" width=\"2242\" height=\"1440\"/>\n",
       "  </clipPath>\n",
       "</defs>\n",
       "<polyline clip-path=\"url(#clip602)\" style=\"stroke:#000000; stroke-linecap:round; stroke-linejoin:round; stroke-width:2; stroke-opacity:0.1; fill:none\" points=\"175.59,1486.45 175.59,47.2441 \"/>\n",
       "<polyline clip-path=\"url(#clip602)\" style=\"stroke:#000000; stroke-linecap:round; stroke-linejoin:round; stroke-width:2; stroke-opacity:0.1; fill:none\" points=\"704.028,1486.45 704.028,47.2441 \"/>\n",
       "<polyline clip-path=\"url(#clip602)\" style=\"stroke:#000000; stroke-linecap:round; stroke-linejoin:round; stroke-width:2; stroke-opacity:0.1; fill:none\" points=\"1232.47,1486.45 1232.47,47.2441 \"/>\n",
       "<polyline clip-path=\"url(#clip602)\" style=\"stroke:#000000; stroke-linecap:round; stroke-linejoin:round; stroke-width:2; stroke-opacity:0.1; fill:none\" points=\"1760.9,1486.45 1760.9,47.2441 \"/>\n",
       "<polyline clip-path=\"url(#clip602)\" style=\"stroke:#000000; stroke-linecap:round; stroke-linejoin:round; stroke-width:2; stroke-opacity:0.1; fill:none\" points=\"2289.34,1486.45 2289.34,47.2441 \"/>\n",
       "<polyline clip-path=\"url(#clip600)\" style=\"stroke:#000000; stroke-linecap:round; stroke-linejoin:round; stroke-width:4; stroke-opacity:1; fill:none\" points=\"112.177,1486.45 2352.76,1486.45 \"/>\n",
       "<polyline clip-path=\"url(#clip600)\" style=\"stroke:#000000; stroke-linecap:round; stroke-linejoin:round; stroke-width:4; stroke-opacity:1; fill:none\" points=\"175.59,1486.45 175.59,1467.55 \"/>\n",
       "<polyline clip-path=\"url(#clip600)\" style=\"stroke:#000000; stroke-linecap:round; stroke-linejoin:round; stroke-width:4; stroke-opacity:1; fill:none\" points=\"704.028,1486.45 704.028,1467.55 \"/>\n",
       "<polyline clip-path=\"url(#clip600)\" style=\"stroke:#000000; stroke-linecap:round; stroke-linejoin:round; stroke-width:4; stroke-opacity:1; fill:none\" points=\"1232.47,1486.45 1232.47,1467.55 \"/>\n",
       "<polyline clip-path=\"url(#clip600)\" style=\"stroke:#000000; stroke-linecap:round; stroke-linejoin:round; stroke-width:4; stroke-opacity:1; fill:none\" points=\"1760.9,1486.45 1760.9,1467.55 \"/>\n",
       "<polyline clip-path=\"url(#clip600)\" style=\"stroke:#000000; stroke-linecap:round; stroke-linejoin:round; stroke-width:4; stroke-opacity:1; fill:none\" points=\"2289.34,1486.45 2289.34,1467.55 \"/>\n",
       "<path clip-path=\"url(#clip600)\" d=\"M137.893 1517.37 Q134.282 1517.37 132.453 1520.93 Q130.648 1524.47 130.648 1531.6 Q130.648 1538.71 132.453 1542.27 Q134.282 1545.82 137.893 1545.82 Q141.527 1545.82 143.333 1542.27 Q145.162 1538.71 145.162 1531.6 Q145.162 1524.47 143.333 1520.93 Q141.527 1517.37 137.893 1517.37 M137.893 1513.66 Q143.703 1513.66 146.759 1518.27 Q149.838 1522.85 149.838 1531.6 Q149.838 1540.33 146.759 1544.94 Q143.703 1549.52 137.893 1549.52 Q132.083 1549.52 129.004 1544.94 Q125.949 1540.33 125.949 1531.6 Q125.949 1522.85 129.004 1518.27 Q132.083 1513.66 137.893 1513.66 Z\" fill=\"#000000\" fill-rule=\"evenodd\" fill-opacity=\"1\" /><path clip-path=\"url(#clip600)\" d=\"M158.055 1542.97 L162.939 1542.97 L162.939 1548.85 L158.055 1548.85 L158.055 1542.97 Z\" fill=\"#000000\" fill-rule=\"evenodd\" fill-opacity=\"1\" /><path clip-path=\"url(#clip600)\" d=\"M183.124 1517.37 Q179.513 1517.37 177.685 1520.93 Q175.879 1524.47 175.879 1531.6 Q175.879 1538.71 177.685 1542.27 Q179.513 1545.82 183.124 1545.82 Q186.759 1545.82 188.564 1542.27 Q190.393 1538.71 190.393 1531.6 Q190.393 1524.47 188.564 1520.93 Q186.759 1517.37 183.124 1517.37 M183.124 1513.66 Q188.935 1513.66 191.99 1518.27 Q195.069 1522.85 195.069 1531.6 Q195.069 1540.33 191.99 1544.94 Q188.935 1549.52 183.124 1549.52 Q177.314 1549.52 174.236 1544.94 Q171.18 1540.33 171.18 1531.6 Q171.18 1522.85 174.236 1518.27 Q177.314 1513.66 183.124 1513.66 Z\" fill=\"#000000\" fill-rule=\"evenodd\" fill-opacity=\"1\" /><path clip-path=\"url(#clip600)\" d=\"M213.286 1517.37 Q209.675 1517.37 207.847 1520.93 Q206.041 1524.47 206.041 1531.6 Q206.041 1538.71 207.847 1542.27 Q209.675 1545.82 213.286 1545.82 Q216.921 1545.82 218.726 1542.27 Q220.555 1538.71 220.555 1531.6 Q220.555 1524.47 218.726 1520.93 Q216.921 1517.37 213.286 1517.37 M213.286 1513.66 Q219.096 1513.66 222.152 1518.27 Q225.231 1522.85 225.231 1531.6 Q225.231 1540.33 222.152 1544.94 Q219.096 1549.52 213.286 1549.52 Q207.476 1549.52 204.397 1544.94 Q201.342 1540.33 201.342 1531.6 Q201.342 1522.85 204.397 1518.27 Q207.476 1513.66 213.286 1513.66 Z\" fill=\"#000000\" fill-rule=\"evenodd\" fill-opacity=\"1\" /><path clip-path=\"url(#clip600)\" d=\"M666.829 1517.37 Q663.218 1517.37 661.39 1520.93 Q659.584 1524.47 659.584 1531.6 Q659.584 1538.71 661.39 1542.27 Q663.218 1545.82 666.829 1545.82 Q670.464 1545.82 672.269 1542.27 Q674.098 1538.71 674.098 1531.6 Q674.098 1524.47 672.269 1520.93 Q670.464 1517.37 666.829 1517.37 M666.829 1513.66 Q672.639 1513.66 675.695 1518.27 Q678.774 1522.85 678.774 1531.6 Q678.774 1540.33 675.695 1544.94 Q672.639 1549.52 666.829 1549.52 Q661.019 1549.52 657.94 1544.94 Q654.885 1540.33 654.885 1531.6 Q654.885 1522.85 657.94 1518.27 Q661.019 1513.66 666.829 1513.66 Z\" fill=\"#000000\" fill-rule=\"evenodd\" fill-opacity=\"1\" /><path clip-path=\"url(#clip600)\" d=\"M686.991 1542.97 L691.875 1542.97 L691.875 1548.85 L686.991 1548.85 L686.991 1542.97 Z\" fill=\"#000000\" fill-rule=\"evenodd\" fill-opacity=\"1\" /><path clip-path=\"url(#clip600)\" d=\"M706.088 1544.91 L722.408 1544.91 L722.408 1548.85 L700.463 1548.85 L700.463 1544.91 Q703.125 1542.16 707.709 1537.53 Q712.315 1532.88 713.496 1531.53 Q715.741 1529.01 716.621 1527.27 Q717.523 1525.51 717.523 1523.82 Q717.523 1521.07 715.579 1519.33 Q713.658 1517.6 710.556 1517.6 Q708.357 1517.6 705.903 1518.36 Q703.473 1519.13 700.695 1520.68 L700.695 1515.95 Q703.519 1514.82 705.973 1514.24 Q708.426 1513.66 710.463 1513.66 Q715.834 1513.66 719.028 1516.35 Q722.223 1519.03 722.223 1523.52 Q722.223 1525.65 721.412 1527.57 Q720.625 1529.47 718.519 1532.07 Q717.94 1532.74 714.838 1535.95 Q711.736 1539.15 706.088 1544.91 Z\" fill=\"#000000\" fill-rule=\"evenodd\" fill-opacity=\"1\" /><path clip-path=\"url(#clip600)\" d=\"M732.269 1514.29 L750.625 1514.29 L750.625 1518.22 L736.551 1518.22 L736.551 1526.7 Q737.57 1526.35 738.588 1526.19 Q739.607 1526 740.625 1526 Q746.412 1526 749.792 1529.17 Q753.171 1532.34 753.171 1537.76 Q753.171 1543.34 749.699 1546.44 Q746.227 1549.52 739.908 1549.52 Q737.732 1549.52 735.463 1549.15 Q733.218 1548.78 730.81 1548.04 L730.81 1543.34 Q732.894 1544.47 735.116 1545.03 Q737.338 1545.58 739.815 1545.58 Q743.82 1545.58 746.158 1543.48 Q748.496 1541.37 748.496 1537.76 Q748.496 1534.15 746.158 1532.04 Q743.82 1529.94 739.815 1529.94 Q737.94 1529.94 736.065 1530.35 Q734.213 1530.77 732.269 1531.65 L732.269 1514.29 Z\" fill=\"#000000\" fill-rule=\"evenodd\" fill-opacity=\"1\" /><path clip-path=\"url(#clip600)\" d=\"M1194.77 1517.37 Q1191.16 1517.37 1189.33 1520.93 Q1187.52 1524.47 1187.52 1531.6 Q1187.52 1538.71 1189.33 1542.27 Q1191.16 1545.82 1194.77 1545.82 Q1198.4 1545.82 1200.21 1542.27 Q1202.04 1538.71 1202.04 1531.6 Q1202.04 1524.47 1200.21 1520.93 Q1198.4 1517.37 1194.77 1517.37 M1194.77 1513.66 Q1200.58 1513.66 1203.64 1518.27 Q1206.71 1522.85 1206.71 1531.6 Q1206.71 1540.33 1203.64 1544.94 Q1200.58 1549.52 1194.77 1549.52 Q1188.96 1549.52 1185.88 1544.94 Q1182.83 1540.33 1182.83 1531.6 Q1182.83 1522.85 1185.88 1518.27 Q1188.96 1513.66 1194.77 1513.66 Z\" fill=\"#000000\" fill-rule=\"evenodd\" fill-opacity=\"1\" /><path clip-path=\"url(#clip600)\" d=\"M1214.93 1542.97 L1219.82 1542.97 L1219.82 1548.85 L1214.93 1548.85 L1214.93 1542.97 Z\" fill=\"#000000\" fill-rule=\"evenodd\" fill-opacity=\"1\" /><path clip-path=\"url(#clip600)\" d=\"M1230.05 1514.29 L1248.4 1514.29 L1248.4 1518.22 L1234.33 1518.22 L1234.33 1526.7 Q1235.35 1526.35 1236.37 1526.19 Q1237.39 1526 1238.4 1526 Q1244.19 1526 1247.57 1529.17 Q1250.95 1532.34 1250.95 1537.76 Q1250.95 1543.34 1247.48 1546.44 Q1244.01 1549.52 1237.69 1549.52 Q1235.51 1549.52 1233.24 1549.15 Q1231 1548.78 1228.59 1548.04 L1228.59 1543.34 Q1230.67 1544.47 1232.89 1545.03 Q1235.12 1545.58 1237.59 1545.58 Q1241.6 1545.58 1243.94 1543.48 Q1246.27 1541.37 1246.27 1537.76 Q1246.27 1534.15 1243.94 1532.04 Q1241.6 1529.94 1237.59 1529.94 Q1235.72 1529.94 1233.84 1530.35 Q1231.99 1530.77 1230.05 1531.65 L1230.05 1514.29 Z\" fill=\"#000000\" fill-rule=\"evenodd\" fill-opacity=\"1\" /><path clip-path=\"url(#clip600)\" d=\"M1270.16 1517.37 Q1266.55 1517.37 1264.72 1520.93 Q1262.92 1524.47 1262.92 1531.6 Q1262.92 1538.71 1264.72 1542.27 Q1266.55 1545.82 1270.16 1545.82 Q1273.8 1545.82 1275.6 1542.27 Q1277.43 1538.71 1277.43 1531.6 Q1277.43 1524.47 1275.6 1520.93 Q1273.8 1517.37 1270.16 1517.37 M1270.16 1513.66 Q1275.97 1513.66 1279.03 1518.27 Q1282.11 1522.85 1282.11 1531.6 Q1282.11 1540.33 1279.03 1544.94 Q1275.97 1549.52 1270.16 1549.52 Q1264.35 1549.52 1261.27 1544.94 Q1258.22 1540.33 1258.22 1531.6 Q1258.22 1522.85 1261.27 1518.27 Q1264.35 1513.66 1270.16 1513.66 Z\" fill=\"#000000\" fill-rule=\"evenodd\" fill-opacity=\"1\" /><path clip-path=\"url(#clip600)\" d=\"M1723.71 1517.37 Q1720.09 1517.37 1718.27 1520.93 Q1716.46 1524.47 1716.46 1531.6 Q1716.46 1538.71 1718.27 1542.27 Q1720.09 1545.82 1723.71 1545.82 Q1727.34 1545.82 1729.15 1542.27 Q1730.97 1538.71 1730.97 1531.6 Q1730.97 1524.47 1729.15 1520.93 Q1727.34 1517.37 1723.71 1517.37 M1723.71 1513.66 Q1729.52 1513.66 1732.57 1518.27 Q1735.65 1522.85 1735.65 1531.6 Q1735.65 1540.33 1732.57 1544.94 Q1729.52 1549.52 1723.71 1549.52 Q1717.9 1549.52 1714.82 1544.94 Q1711.76 1540.33 1711.76 1531.6 Q1711.76 1522.85 1714.82 1518.27 Q1717.9 1513.66 1723.71 1513.66 Z\" fill=\"#000000\" fill-rule=\"evenodd\" fill-opacity=\"1\" /><path clip-path=\"url(#clip600)\" d=\"M1743.87 1542.97 L1748.75 1542.97 L1748.75 1548.85 L1743.87 1548.85 L1743.87 1542.97 Z\" fill=\"#000000\" fill-rule=\"evenodd\" fill-opacity=\"1\" /><path clip-path=\"url(#clip600)\" d=\"M1757.76 1514.29 L1779.98 1514.29 L1779.98 1516.28 L1767.43 1548.85 L1762.55 1548.85 L1774.35 1518.22 L1757.76 1518.22 L1757.76 1514.29 Z\" fill=\"#000000\" fill-rule=\"evenodd\" fill-opacity=\"1\" /><path clip-path=\"url(#clip600)\" d=\"M1789.15 1514.29 L1807.5 1514.29 L1807.5 1518.22 L1793.43 1518.22 L1793.43 1526.7 Q1794.45 1526.35 1795.46 1526.19 Q1796.48 1526 1797.5 1526 Q1803.29 1526 1806.67 1529.17 Q1810.05 1532.34 1810.05 1537.76 Q1810.05 1543.34 1806.58 1546.44 Q1803.1 1549.52 1796.78 1549.52 Q1794.61 1549.52 1792.34 1549.15 Q1790.09 1548.78 1787.69 1548.04 L1787.69 1543.34 Q1789.77 1544.47 1791.99 1545.03 Q1794.21 1545.58 1796.69 1545.58 Q1800.7 1545.58 1803.03 1543.48 Q1805.37 1541.37 1805.37 1537.76 Q1805.37 1534.15 1803.03 1532.04 Q1800.7 1529.94 1796.69 1529.94 Q1794.82 1529.94 1792.94 1530.35 Q1791.09 1530.77 1789.15 1531.65 L1789.15 1514.29 Z\" fill=\"#000000\" fill-rule=\"evenodd\" fill-opacity=\"1\" /><path clip-path=\"url(#clip600)\" d=\"M2241.42 1544.91 L2249.05 1544.91 L2249.05 1518.55 L2240.74 1520.21 L2240.74 1515.95 L2249.01 1514.29 L2253.68 1514.29 L2253.68 1544.91 L2261.32 1544.91 L2261.32 1548.85 L2241.42 1548.85 L2241.42 1544.91 Z\" fill=\"#000000\" fill-rule=\"evenodd\" fill-opacity=\"1\" /><path clip-path=\"url(#clip600)\" d=\"M2270.77 1542.97 L2275.65 1542.97 L2275.65 1548.85 L2270.77 1548.85 L2270.77 1542.97 Z\" fill=\"#000000\" fill-rule=\"evenodd\" fill-opacity=\"1\" /><path clip-path=\"url(#clip600)\" d=\"M2295.84 1517.37 Q2292.23 1517.37 2290.4 1520.93 Q2288.59 1524.47 2288.59 1531.6 Q2288.59 1538.71 2290.4 1542.27 Q2292.23 1545.82 2295.84 1545.82 Q2299.47 1545.82 2301.28 1542.27 Q2303.1 1538.71 2303.1 1531.6 Q2303.1 1524.47 2301.28 1520.93 Q2299.47 1517.37 2295.84 1517.37 M2295.84 1513.66 Q2301.65 1513.66 2304.7 1518.27 Q2307.78 1522.85 2307.78 1531.6 Q2307.78 1540.33 2304.7 1544.94 Q2301.65 1549.52 2295.84 1549.52 Q2290.03 1549.52 2286.95 1544.94 Q2283.89 1540.33 2283.89 1531.6 Q2283.89 1522.85 2286.95 1518.27 Q2290.03 1513.66 2295.84 1513.66 Z\" fill=\"#000000\" fill-rule=\"evenodd\" fill-opacity=\"1\" /><path clip-path=\"url(#clip600)\" d=\"M2326 1517.37 Q2322.39 1517.37 2320.56 1520.93 Q2318.75 1524.47 2318.75 1531.6 Q2318.75 1538.71 2320.56 1542.27 Q2322.39 1545.82 2326 1545.82 Q2329.63 1545.82 2331.44 1542.27 Q2333.27 1538.71 2333.27 1531.6 Q2333.27 1524.47 2331.44 1520.93 Q2329.63 1517.37 2326 1517.37 M2326 1513.66 Q2331.81 1513.66 2334.86 1518.27 Q2337.94 1522.85 2337.94 1531.6 Q2337.94 1540.33 2334.86 1544.94 Q2331.81 1549.52 2326 1549.52 Q2320.19 1549.52 2317.11 1544.94 Q2314.05 1540.33 2314.05 1531.6 Q2314.05 1522.85 2317.11 1518.27 Q2320.19 1513.66 2326 1513.66 Z\" fill=\"#000000\" fill-rule=\"evenodd\" fill-opacity=\"1\" /><polyline clip-path=\"url(#clip602)\" style=\"stroke:#000000; stroke-linecap:round; stroke-linejoin:round; stroke-width:2; stroke-opacity:0.1; fill:none\" points=\"112.177,1445.72 2352.76,1445.72 \"/>\n",
       "<polyline clip-path=\"url(#clip602)\" style=\"stroke:#000000; stroke-linecap:round; stroke-linejoin:round; stroke-width:2; stroke-opacity:0.1; fill:none\" points=\"112.177,1133.11 2352.76,1133.11 \"/>\n",
       "<polyline clip-path=\"url(#clip602)\" style=\"stroke:#000000; stroke-linecap:round; stroke-linejoin:round; stroke-width:2; stroke-opacity:0.1; fill:none\" points=\"112.177,820.503 2352.76,820.503 \"/>\n",
       "<polyline clip-path=\"url(#clip602)\" style=\"stroke:#000000; stroke-linecap:round; stroke-linejoin:round; stroke-width:2; stroke-opacity:0.1; fill:none\" points=\"112.177,507.897 2352.76,507.897 \"/>\n",
       "<polyline clip-path=\"url(#clip602)\" style=\"stroke:#000000; stroke-linecap:round; stroke-linejoin:round; stroke-width:2; stroke-opacity:0.1; fill:none\" points=\"112.177,195.29 2352.76,195.29 \"/>\n",
       "<polyline clip-path=\"url(#clip600)\" style=\"stroke:#000000; stroke-linecap:round; stroke-linejoin:round; stroke-width:4; stroke-opacity:1; fill:none\" points=\"112.177,1486.45 112.177,47.2441 \"/>\n",
       "<polyline clip-path=\"url(#clip600)\" style=\"stroke:#000000; stroke-linecap:round; stroke-linejoin:round; stroke-width:4; stroke-opacity:1; fill:none\" points=\"112.177,1445.72 131.075,1445.72 \"/>\n",
       "<polyline clip-path=\"url(#clip600)\" style=\"stroke:#000000; stroke-linecap:round; stroke-linejoin:round; stroke-width:4; stroke-opacity:1; fill:none\" points=\"112.177,1133.11 131.075,1133.11 \"/>\n",
       "<polyline clip-path=\"url(#clip600)\" style=\"stroke:#000000; stroke-linecap:round; stroke-linejoin:round; stroke-width:4; stroke-opacity:1; fill:none\" points=\"112.177,820.503 131.075,820.503 \"/>\n",
       "<polyline clip-path=\"url(#clip600)\" style=\"stroke:#000000; stroke-linecap:round; stroke-linejoin:round; stroke-width:4; stroke-opacity:1; fill:none\" points=\"112.177,507.897 131.075,507.897 \"/>\n",
       "<polyline clip-path=\"url(#clip600)\" style=\"stroke:#000000; stroke-linecap:round; stroke-linejoin:round; stroke-width:4; stroke-opacity:1; fill:none\" points=\"112.177,195.29 131.075,195.29 \"/>\n",
       "<path clip-path=\"url(#clip600)\" d=\"M64.2328 1431.51 Q60.6217 1431.51 58.793 1435.08 Q56.9875 1438.62 56.9875 1445.75 Q56.9875 1452.86 58.793 1456.42 Q60.6217 1459.96 64.2328 1459.96 Q67.867 1459.96 69.6726 1456.42 Q71.5013 1452.86 71.5013 1445.75 Q71.5013 1438.62 69.6726 1435.08 Q67.867 1431.51 64.2328 1431.51 M64.2328 1427.81 Q70.0429 1427.81 73.0985 1432.42 Q76.1772 1437 76.1772 1445.75 Q76.1772 1454.48 73.0985 1459.08 Q70.0429 1463.67 64.2328 1463.67 Q58.4226 1463.67 55.344 1459.08 Q52.2884 1454.48 52.2884 1445.75 Q52.2884 1437 55.344 1432.42 Q58.4226 1427.81 64.2328 1427.81 Z\" fill=\"#000000\" fill-rule=\"evenodd\" fill-opacity=\"1\" /><path clip-path=\"url(#clip600)\" d=\"M59.8578 1146.45 L76.1772 1146.45 L76.1772 1150.39 L54.2328 1150.39 L54.2328 1146.45 Q56.8949 1143.7 61.4782 1139.07 Q66.0846 1134.42 67.2652 1133.07 Q69.5105 1130.55 70.3902 1128.82 Q71.2929 1127.06 71.2929 1125.37 Q71.2929 1122.61 69.3485 1120.88 Q67.4272 1119.14 64.3254 1119.14 Q62.1263 1119.14 59.6726 1119.9 Q57.2421 1120.67 54.4643 1122.22 L54.4643 1117.5 Q57.2884 1116.36 59.7421 1115.78 Q62.1958 1115.2 64.2328 1115.2 Q69.6031 1115.2 72.7976 1117.89 Q75.992 1120.57 75.992 1125.07 Q75.992 1127.2 75.1818 1129.12 Q74.3948 1131.01 72.2883 1133.61 Q71.7096 1134.28 68.6078 1137.5 Q65.5059 1140.69 59.8578 1146.45 Z\" fill=\"#000000\" fill-rule=\"evenodd\" fill-opacity=\"1\" /><path clip-path=\"url(#clip600)\" d=\"M66.5939 807.297 L54.7884 825.746 L66.5939 825.746 L66.5939 807.297 M65.367 803.223 L71.2466 803.223 L71.2466 825.746 L76.1772 825.746 L76.1772 829.635 L71.2466 829.635 L71.2466 837.783 L66.5939 837.783 L66.5939 829.635 L50.9921 829.635 L50.9921 825.121 L65.367 803.223 Z\" fill=\"#000000\" fill-rule=\"evenodd\" fill-opacity=\"1\" /><path clip-path=\"url(#clip600)\" d=\"M64.6495 506.033 Q61.5013 506.033 59.6495 508.186 Q57.8208 510.339 57.8208 514.089 Q57.8208 517.816 59.6495 519.991 Q61.5013 522.144 64.6495 522.144 Q67.7976 522.144 69.6263 519.991 Q71.4781 517.816 71.4781 514.089 Q71.4781 510.339 69.6263 508.186 Q67.7976 506.033 64.6495 506.033 M73.9318 491.381 L73.9318 495.64 Q72.1726 494.806 70.367 494.367 Q68.5846 493.927 66.8254 493.927 Q62.1958 493.927 59.7421 497.052 Q57.3115 500.177 56.9643 506.496 Q58.33 504.482 60.3902 503.417 Q62.4504 502.33 64.9272 502.33 Q70.1355 502.33 73.1448 505.501 Q76.1772 508.649 76.1772 514.089 Q76.1772 519.413 73.029 522.63 Q69.8809 525.848 64.6495 525.848 Q58.6541 525.848 55.4828 521.265 Q52.3116 516.658 52.3116 507.931 Q52.3116 499.737 56.2004 494.876 Q60.0893 489.992 66.6402 489.992 Q68.3994 489.992 70.1818 490.339 Q71.9874 490.686 73.9318 491.381 Z\" fill=\"#000000\" fill-rule=\"evenodd\" fill-opacity=\"1\" /><path clip-path=\"url(#clip600)\" d=\"M64.3254 196.158 Q60.9921 196.158 59.0708 197.941 Q57.1726 199.723 57.1726 202.848 Q57.1726 205.973 59.0708 207.755 Q60.9921 209.538 64.3254 209.538 Q67.6587 209.538 69.58 207.755 Q71.5013 205.95 71.5013 202.848 Q71.5013 199.723 69.58 197.941 Q67.6819 196.158 64.3254 196.158 M59.6495 194.168 Q56.6402 193.427 54.9504 191.367 Q53.2838 189.307 53.2838 186.344 Q53.2838 182.2 56.2236 179.793 Q59.1865 177.385 64.3254 177.385 Q69.4874 177.385 72.4272 179.793 Q75.367 182.2 75.367 186.344 Q75.367 189.307 73.6772 191.367 Q72.0105 193.427 69.0244 194.168 Q72.404 194.955 74.279 197.246 Q76.1772 199.538 76.1772 202.848 Q76.1772 207.871 73.0985 210.556 Q70.0429 213.242 64.3254 213.242 Q58.6078 213.242 55.5291 210.556 Q52.4736 207.871 52.4736 202.848 Q52.4736 199.538 54.3717 197.246 Q56.2699 194.955 59.6495 194.168 M57.9365 186.783 Q57.9365 189.469 59.6032 190.973 Q61.293 192.478 64.3254 192.478 Q67.3346 192.478 69.0244 190.973 Q70.7374 189.469 70.7374 186.783 Q70.7374 184.098 69.0244 182.594 Q67.3346 181.089 64.3254 181.089 Q61.293 181.089 59.6032 182.594 Q57.9365 184.098 57.9365 186.783 Z\" fill=\"#000000\" fill-rule=\"evenodd\" fill-opacity=\"1\" /><polyline clip-path=\"url(#clip602)\" style=\"stroke:#009af9; stroke-linecap:round; stroke-linejoin:round; stroke-width:4; stroke-opacity:1; fill:none\" points=\"175.59,1445.72 196.727,1445.72 217.865,1445.72 239.002,1445.72 260.14,1445.72 281.277,1445.72 302.415,1445.72 323.553,1445.72 344.69,1445.72 365.828,1445.72 386.965,1445.72 408.103,1445.72 429.24,1445.72 450.378,1445.72 471.515,1445.72 492.653,1445.72 513.79,1445.71 534.928,1445.7 556.065,1445.65 577.203,1445.48 598.34,1444.98 619.478,1443.66 640.616,1440.47 661.753,1433.53 682.891,1419.72 704.028,1394.49 725.166,1352.06 746.303,1286.1 767.441,1191.2 788.578,1064.69 809.716,908.567 830.853,730.735 851.991,545.048 873.128,369.732 894.266,224.45 915.404,126.621 936.541,87.9763 957.679,112.299 978.816,194.917 999.954,324.01 1021.09,483.269 1042.23,655.11 1063.37,823.624 1084.5,976.648 1105.64,1106.69 1126.78,1210.8 1147.92,1289.64 1169.05,1346.3 1190.19,1385.01 1211.33,1410.19 1232.47,1425.79 1253.6,1435.02 1274.74,1440.22 1295.88,1443.01 1317.02,1444.44 1338.15,1445.14 1359.29,1445.47 1380.43,1445.62 1401.57,1445.68 1422.7,1445.7 1443.84,1445.71 1464.98,1445.71 1486.12,1445.72 1507.25,1445.72 1528.39,1445.72 1549.53,1445.72 1570.67,1445.72 1591.8,1445.72 1612.94,1445.72 1634.08,1445.72 1655.22,1445.72 1676.35,1445.72 1697.49,1445.72 1718.63,1445.72 1739.77,1445.72 1760.9,1445.72 1782.04,1445.72 1803.18,1445.72 1824.32,1445.72 1845.46,1445.72 1866.59,1445.72 1887.73,1445.72 1908.87,1445.72 1930.01,1445.72 1951.14,1445.72 1972.28,1445.72 1993.42,1445.72 2014.56,1445.72 2035.69,1445.72 2056.83,1445.72 2077.97,1445.72 2099.11,1445.72 2120.24,1445.72 2141.38,1445.72 2162.52,1445.72 2183.66,1445.72 2204.79,1445.72 2225.93,1445.72 2247.07,1445.72 2268.21,1445.72 2289.34,1445.72 \"/>\n",
       "<path clip-path=\"url(#clip600)\" d=\"M2001.58 198.898 L2278.07 198.898 L2278.07 95.2176 L2001.58 95.2176  Z\" fill=\"#ffffff\" fill-rule=\"evenodd\" fill-opacity=\"1\"/>\n",
       "<polyline clip-path=\"url(#clip600)\" style=\"stroke:#000000; stroke-linecap:round; stroke-linejoin:round; stroke-width:4; stroke-opacity:1; fill:none\" points=\"2001.58,198.898 2278.07,198.898 2278.07,95.2176 2001.58,95.2176 2001.58,198.898 \"/>\n",
       "<polyline clip-path=\"url(#clip600)\" style=\"stroke:#009af9; stroke-linecap:round; stroke-linejoin:round; stroke-width:4; stroke-opacity:1; fill:none\" points=\"2026.48,147.058 2175.85,147.058 \"/>\n",
       "<path clip-path=\"url(#clip600)\" d=\"M2214.59 166.745 Q2212.78 171.375 2211.07 172.787 Q2209.36 174.199 2206.49 174.199 L2203.08 174.199 L2203.08 170.634 L2205.58 170.634 Q2207.34 170.634 2208.31 169.8 Q2209.29 168.967 2210.47 165.865 L2211.23 163.921 L2200.74 138.412 L2205.26 138.412 L2213.36 158.689 L2221.46 138.412 L2225.98 138.412 L2214.59 166.745 Z\" fill=\"#000000\" fill-rule=\"evenodd\" fill-opacity=\"1\" /><path clip-path=\"url(#clip600)\" d=\"M2233.27 160.402 L2240.91 160.402 L2240.91 134.037 L2232.6 135.703 L2232.6 131.444 L2240.86 129.778 L2245.54 129.778 L2245.54 160.402 L2253.17 160.402 L2253.17 164.338 L2233.27 164.338 L2233.27 160.402 Z\" fill=\"#000000\" fill-rule=\"evenodd\" fill-opacity=\"1\" /></svg>\n"
      ]
     },
     "execution_count": 71,
     "metadata": {},
     "output_type": "execute_result"
    }
   ],
   "source": [
    "α = 40\n",
    "β = 70\n",
    "pdf_beta_updated = beta.(α,β,x)\n",
    "Plots.plot(x,pdf_beta_updated)\n",
    "Plots.plot!(x,pdf_beta)"
   ]
  },
  {
   "cell_type": "markdown",
   "id": "3ebf57c4",
   "metadata": {},
   "source": [
    "The posterior is shifted to the left and less deviated"
   ]
  },
  {
   "cell_type": "markdown",
   "id": "e225b154",
   "metadata": {},
   "source": [
    "Let k represents the number of heads, n represents the total number of flips, $\\pi$ represents the probability of success, and X represents data. \n",
    "\\begin{equation*}\n",
    "f(\\pi|X) = \\frac{\\Gamma(\\alpha+\\beta)}{\\Gamma(\\alpha)\\Gamma(\\beta)}x^{\\alpha-1}(1-x)^{\\beta-1}\n",
    "\\end{equation*}\n",
    "You can ignore the marginal probability calculation since P(B) is hard to compute and it mainly work as a normalization factor. "
   ]
  },
  {
   "cell_type": "markdown",
   "id": "79813e24",
   "metadata": {},
   "source": [
    "# Question 2\n",
    "### (Conjugate Prior) Read the following example and complete the exercises \n",
    "\n",
    "#### In question 1, you see when a Beta distribution is used as the prior for a event that follows a binomial distribution (P(B|A)), the posterior distribution (P(A|B)) follows a Beta distribution. Using a conjugate prior simplify the posterior computation by keeping the posterior distribution identical to the prior distribution.\n"
   ]
  },
  {
   "cell_type": "markdown",
   "id": "425f8583",
   "metadata": {},
   "source": [
    "### 2.1 \n",
    "\n",
    "Gaussian distribution is a conjugate prior of itself. Below is the probability density function of gaussian distribution. Given your likelihood P(Data|Hypothesis) follows N($\\mu_1$, $\\sigma_1$) and prior P(Hypothesis) follows N($\\mu_2$, $\\sigma_2$), derive the probability density function of the posterior distribution with updated $\\mu$ and $\\sigma$. Please show the whole derivation process to earn full credit.\n",
    "\n",
    "\\begin{equation*}\n",
    "f(x) = \\frac{1}{\\sqrt{2\\pi\\sigma^2}}e^{-\\frac{1}{2}(\\frac{x-\\mu}{\\sigma})^2}\n",
    "\\end{equation*}\n",
    "\n",
    "*You can ignore the marginal probability during the derivation.\n",
    "\n",
    "\\begin{equation*}\n",
    "P(A|B) \\propto P(B|A)P(A) \n",
    "\\end{equation*}"
   ]
  },
  {
   "cell_type": "markdown",
   "id": "c481ac53",
   "metadata": {},
   "source": [
    "### Hint 1\n",
    "See [this page](https://jupyterbook.org/en/stable/content/math.html) for how to write equations in jupyter notebook"
   ]
  },
  {
   "cell_type": "markdown",
   "id": "5b6f48d2",
   "metadata": {},
   "source": [
    "### Hint 2\n",
    "The posterior probability is gaussian "
   ]
  },
  {
   "cell_type": "markdown",
   "id": "7df48de5",
   "metadata": {},
   "source": [
    "### Hint 3\n",
    "$x^a*x^b = x^{(a+b)}$"
   ]
  },
  {
   "cell_type": "markdown",
   "id": "30c85840",
   "metadata": {},
   "source": [
    "Prior: \n",
    "\n",
    "\\begin{equation*}\n",
    "P(\\mu_1) = N(\\mu_1;\\mu_2,\\sigma_2) \n",
    "\\end{equation*}\n",
    "\n",
    "\\begin{equation*}\n",
    "P(\\mu_1) = \\frac{1}{\\sqrt{2\\pi\\sigma_2^2}}e^{-\\frac{1}{2}(\\frac{\\mu_1-\\mu_2}{\\sigma_2})^2}\n",
    "\\end{equation*}\n",
    "\n",
    "Likelihood:\n",
    "\n",
    "\\begin{equation*}\n",
    "P(x|\\mu_1) = \\prod_{i=1}^n N(x_i;\\mu_1,\\sigma_1) \n",
    "\\end{equation*}\n",
    "\n",
    "\\begin{equation*}\n",
    "P(x|\\mu_1)= \\prod_{i=1}^n\\frac{1}{\\sqrt{2\\pi\\sigma_1^2}}e^{-\\frac{1}{2}(\\frac{x_i-\\mu_1}{\\sigma_1})^2} \n",
    "\\end{equation*}\n",
    "\n",
    "\\begin{equation*}\n",
    "P(x|\\mu_1)= \\frac{1}{\\sqrt{2\\pi\\sigma_1^2}}e^{\\sum_{i=1}^n-\\frac{1}{2}(\\frac{x_i-\\mu_1}{\\sigma_1})^2} \n",
    "\\end{equation*}\n",
    "\n",
    "\\begin{equation*}\n",
    "P(x|\\mu_1)= \\frac{1}{\\sqrt{2\\pi\\sigma_1^2}}e^{-\\frac{1}{2}\\frac{\\sum_{i=1}^n (x_i-\\mu_1)^2}{\\sigma_1^2}} \n",
    "\\end{equation*}\n",
    "\n",
    "Posterior:\n",
    "\n",
    "\\begin{equation*}\n",
    "P(\\mu_1|x) \\propto P(x|\\mu_1)P(\\mu_1)\n",
    "\\end{equation*}\n"
   ]
  },
  {
   "cell_type": "markdown",
   "id": "8ca74f94",
   "metadata": {},
   "source": [
    "\\begin{equation*}\n",
    "P(\\mu_1|x) \\propto \\frac{1}{\\sqrt{2\\pi\\sigma_1^2}}e^{-\\frac{1}{2}\\frac{\\sum_{i=1}^n (x_i-\\mu_1)^2}{\\sigma_1^2}}\\frac{1}{\\sqrt{2\\pi\\sigma_2^2}}e^{-\\frac{1}{2}(\\frac{\\mu_1-\\mu_2}{\\sigma_2})^2}\n",
    "\\end{equation*}\n",
    "\n",
    "if $\\sigma_1^2$ is constant, we can rewrite the equation as:\n",
    "\n",
    "\\begin{equation*}\n",
    "P(\\mu_1|x) \\propto e^{-\\frac{1}{2}\\frac{\\sum_{i=1}^n (x_i-\\mu_1)^2}{\\sigma_1^2}}e^{-\\frac{1}{2}(\\frac{\\mu_1-\\mu_2}{\\sigma_2})^2}\n",
    "\\end{equation*}\n",
    "\n",
    "$x^a*x^b = x^{(a+b)}$\n",
    "\n",
    "\\begin{equation*}\n",
    "P(\\mu_1|x) \\propto e^{-\\frac{1}{2}(\\frac{\\sum_{i=1}^n (x_i-\\mu_1)^2}{\\sigma_1^2}+(\\frac{\\mu_1-\\mu_2}{\\sigma_2})^2)}\n",
    "\\end{equation*}\n",
    "\n",
    "\\begin{equation*}\n",
    "P(\\mu_1|x) \\propto e^{-\\frac{1}{2}(\\frac{\\sum_{i=1}^n (x_i^2-2x_i\\mu_1+\\mu_1^2)}{\\sigma_1^2}+\\frac{\\mu_1^2-2\\mu_1\\mu_2+\\mu_2^2}{\\sigma_2^2})}\n",
    "\\end{equation*}\n",
    "\n",
    "Terms that don't contain $\\mu_1$ can be considered constant and factored out\n",
    "\n",
    "\\begin{equation*}\n",
    "P(\\mu_1|x) \\propto e^{-\\frac{1}{2}(\\frac{\\sum_{i=1}^n(-2x_i\\mu_1+\\mu_1^2)}{\\sigma_1^2}+\\frac{\\mu_1^2-2\\mu_1\\mu_2}{\\sigma_2^2})}e^{-\\frac{1}{2}(\\frac{\\sum_{i=1}^nx_i^2}{\\sigma_1^2}+\\frac{\\mu_2^2}{\\sigma_2^2})}\n",
    "\\end{equation*}\n",
    "\n",
    "\\begin{equation*}\n",
    "P(\\mu_1|x) \\propto e^{-\\frac{1}{2}(\\frac{\\sum_{i=1}^n(-2x_i\\mu_1+\\mu_1^2)}{\\sigma_1^2}+\\frac{\\mu_1^2-2\\mu_1\\mu_2}{\\sigma_2^2})}\n",
    "\\end{equation*}\n",
    "\n",
    "We want to map the exponent of $P(\\mu_1|x)$ into the format: $\n",
    "{-\\frac{1}{2}(\\frac{\\mu_1-\\mu_{new}}{\\sigma_{new}})^2} = {-\\frac{1}{2}\\frac{\\mu_1^2-2\\mu_1\\mu_{new}+\\mu_{new}^2}{\\sigma_{new}^2}}\n",
    "$\n",
    "\n",
    "\\begin{equation*}\n",
    "-\\frac{1}{2}(\\frac{\\sum_{i=1}^n(-2x_i\\mu_1+\\mu_1^2)}{\\sigma_1^2}+\\frac{\\mu_1^2-2\\mu_1\\mu_2}{\\sigma_2^2})\n",
    "\\end{equation*}\n",
    "\n",
    "\\begin{equation*}\n",
    "\\bar{x} = \\frac{\\sum_{i=1}^nx_i}{n}\\\\\n",
    "\\end{equation*}\n",
    "\n",
    "\\begin{equation*}\n",
    "-\\frac{1}{2}(\\frac{-2n\\bar{x}\\mu_1+n\\mu_1^2}{\\sigma_1^2}+\\frac{\\mu_1^2-2\\mu_1\\mu_2}{\\sigma_2^2})\\\\\n",
    "\\end{equation*}\n",
    "\n",
    "\\begin{equation*}\n",
    "-\\frac{1}{2}(\\mu_1^2(\\frac{n}{\\sigma_1^2}+\\frac{1}{\\sigma_2^2})-2\\mu_1(\\frac{n\\bar{x}}{\\sigma_1^2}+\\frac{\\mu_2}{\\sigma_2^2}))\\\\\n",
    "\\end{equation*}\n",
    "\n",
    "By mapping the equation to $\n",
    "{-\\frac{1}{2}\\frac{\\mu_1^2-2\\mu_1\\mu_{new}+\\mu_{new}^2}{\\sigma_{new}^2}}\n",
    "$:\n",
    "\n",
    "\\begin{equation*}\n",
    "\\frac{\\mu_1^2}{\\sigma_{new}^2} = \\mu_1^2(\\frac{n}{\\sigma_1^2}+\\frac{1}{\\sigma_2^2})\n",
    "\\end{equation*}\n",
    "\n",
    "\\begin{equation*}\n",
    "\\sigma_{new}^2 = \\frac{1}{\\frac{n}{\\sigma_1^2}+\\frac{1}{\\sigma_2^2}}\n",
    "\\end{equation*}\n",
    "\n",
    "\\begin{equation*}\n",
    "\\sigma_{new}^2 = \\frac{\\sigma_1^2\\sigma_2^2}{\\sigma_1^2+n\\sigma_2^2}\n",
    "\\end{equation*}\n",
    "\n",
    "\\begin{equation*}\n",
    "\\frac{-2\\mu_1\\mu_{new}}{\\sigma_{new}^2} = -2\\mu_1(\\frac{n\\bar{x}}{\\sigma_1^2}+\\frac{\\mu_2}{\\sigma_2^2})\n",
    "\\end{equation*}\n",
    "\n",
    "\\begin{equation*}\n",
    "\\frac{\\mu_{new}}{\\sigma_{new}^2} = \\frac{n\\bar{x}}{\\sigma_1^2}+\\frac{\\mu_2}{\\sigma_2^2}\n",
    "\\end{equation*}\n",
    "\n",
    "\\begin{equation*}\n",
    "\\frac{\\mu_{new}}{\\sigma_{new}^2} = \\frac{n\\bar{x}\\sigma_2^2+\\mu_2\\sigma_1^2}{\\sigma_1^2\\sigma_2^2}\n",
    "\\end{equation*}\n",
    "\n",
    "\\begin{equation*}\n",
    "\\mu_{new} = \\frac{n\\bar{x}\\sigma_2^2+\\mu_2\\sigma_1^2}{\\sigma_1^2\\sigma_2^2}\\frac{\\sigma_1^2\\sigma_2^2}{\\sigma_1^2+n\\sigma_2^2}\n",
    "\\end{equation*}\n",
    "\n",
    "\\begin{equation*}\n",
    "\\mu_{new} = \\frac{n\\bar{x}\\sigma_2^2+\\mu_2\\sigma_1^2}{\\sigma_1^2+n\\sigma_2^2}\n",
    "\\end{equation*}"
   ]
  },
  {
   "cell_type": "markdown",
   "id": "6f3dda2f",
   "metadata": {},
   "source": [
    "### 2.2 \n",
    "\n",
    "Based on the results you got in 2.1, what normalization factor is needed for the posterior to satisfy $$\\int_{-\\infty}^{\\infty}P(A|B) = 1$$"
   ]
  },
  {
   "cell_type": "markdown",
   "id": "54dac510",
   "metadata": {},
   "source": [
    "In order to normalize a gaussian probability density function, $\\frac{1}{\\sqrt{2\\pi\\sigma^2}}$ is used.\n",
    "\n",
    "With the updated $\\sigma$, the normalization factor become:\n",
    "\n",
    "\\begin{equation*}\n",
    "\\frac{1}{\\sqrt{2\\pi\\sigma_{new}^2}} = \\frac{1}{\\sqrt{2\\pi\\frac{\\sigma_1^2\\sigma_2^2}{\\sigma_1^2+n\\sigma_2^2}}}\n",
    "\\end{equation*}\n",
    "\n",
    "\\begin{equation*}\n",
    "\\frac{1}{\\sqrt{2\\pi\\sigma_{new}^2}} = \\sqrt{\\frac{\\sigma_1^2+n\\sigma_2^2}{2\\pi\\sigma_1^2\\sigma_2^2}}\n",
    "\\end{equation*}\n"
   ]
  }
 ],
 "metadata": {
  "kernelspec": {
   "display_name": "Julia 1.7.2",
   "language": "julia",
   "name": "julia-1.7"
  },
  "language_info": {
   "file_extension": ".jl",
   "mimetype": "application/julia",
   "name": "julia",
   "version": "1.7.2"
  }
 },
 "nbformat": 4,
 "nbformat_minor": 5
}
