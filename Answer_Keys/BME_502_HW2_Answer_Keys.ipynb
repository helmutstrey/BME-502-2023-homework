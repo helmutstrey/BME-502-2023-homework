{
 "cells": [
  {
   "cell_type": "markdown",
   "id": "0ce4edbf",
   "metadata": {},
   "source": [
    "<h1>HW2</h1>"
   ]
  },
  {
   "cell_type": "markdown",
   "id": "2e321dc4",
   "metadata": {},
   "source": [
    "#### Bayes' theorem:\n",
    "\\begin{equation*}\n",
    "P(A|B) = \\frac{P(B|A)P(A)}{P(B)} \\\\\n",
    "P(A|B): Posteior \\\\\n",
    "P(B|A): Likelihood \\\\\n",
    "P(A): Prior \\\\\n",
    "P(B): Marginal Probability \\\\\n",
    "\\end{equation*}"
   ]
  },
  {
   "cell_type": "markdown",
   "id": "1b6c2102",
   "metadata": {},
   "source": [
    "# Question 1\n",
    "### Read the following example and complete the exercises \n",
    "\n",
    "You are at the age of 21 and curious about if drinking alcohol would cause liver disease. You contacted a clinic site and got the following information.\n",
    "\n",
    "1. Past data tells you that 10% of patients entering the clinic have liver disease (**Prior**). \n",
    "\n",
    "2. Five percent of the clinic’s patients are alcoholics (**Marginal Probability**). \n",
    "\n",
    "3. Among the patients diagnosed with liver disease, 15% are alcoholics (**Likelihood**). \n",
    "\n",
    "Now you wonder what is the probability of a patient from the clinic have liver disease given that the patient is alcoholic (**Posterior**)"
   ]
  },
  {
   "cell_type": "markdown",
   "id": "e0c81ddf",
   "metadata": {},
   "source": [
    "### 1.1 \n",
    "\n",
    "#### If A represents the event of being an alcoholic patient in the clinic and L represents the event of being a patient with liver disease in the clinic, write the bayesian representation (P(A|B)) in the following cells\n"
   ]
  },
  {
   "cell_type": "markdown",
   "id": "90ef64bb",
   "metadata": {},
   "source": [
    "Posteria = P(L|A)"
   ]
  },
  {
   "cell_type": "markdown",
   "id": "658c4c0e",
   "metadata": {},
   "source": [
    "Prior = P(L)"
   ]
  },
  {
   "cell_type": "markdown",
   "id": "e5f1f140",
   "metadata": {},
   "source": [
    "Likelihood = P(A|L)"
   ]
  },
  {
   "cell_type": "markdown",
   "id": "ce4bee50",
   "metadata": {},
   "source": [
    "Marginal Probability = P(A)"
   ]
  },
  {
   "cell_type": "markdown",
   "id": "572cc5a7",
   "metadata": {},
   "source": [
    "### 1.2 \n",
    "\n",
    "#### Define all the information available and calculate the posteria probbability"
   ]
  },
  {
   "cell_type": "code",
   "execution_count": 1,
   "id": "fa180ac4",
   "metadata": {},
   "outputs": [
    {
     "data": {
      "text/plain": [
       "0.3"
      ]
     },
     "execution_count": 1,
     "metadata": {},
     "output_type": "execute_result"
    }
   ],
   "source": [
    "Prior = 0.1\n",
    "Marginal_Probability = 0.05\n",
    "Likelihood = 0.15\n",
    "Posterior = (Likelihood*Prior)/Marginal_Probability"
   ]
  },
  {
   "cell_type": "markdown",
   "id": "ddce1bb4",
   "metadata": {},
   "source": [
    "# Question 2\n",
    "### Read the following example and complete the exercises \n",
    "Shown by a <a href=\"https://pubmed.ncbi.nlm.nih.gov/34242764/#:~:text=The%20overall%20sensitivity%20of%20the,%25%20CI%2024.4%2D65.1\">reaserch study</a>, the rapid antigen test for Covid has a sensitivity of 65.3% and a specificity of 99.9%. Assume 1% people have Covid. If randomly select a person and he/she tests positive using the rapid antigen test, what is the probability the person has Covid (posterior)."
   ]
  },
  {
   "cell_type": "markdown",
   "id": "1f01074b",
   "metadata": {},
   "source": [
    "### 2.1 \n",
    "\n",
    "#### The probability of which event is considered marginal probability in this case? Define it in the first cell below and calculate it in the second cell below"
   ]
  },
  {
   "cell_type": "markdown",
   "id": "fc0ce8a8",
   "metadata": {},
   "source": [
    "The event is: Being tested positive with rapid antigen test"
   ]
  },
  {
   "cell_type": "code",
   "execution_count": 6,
   "id": "9514d479",
   "metadata": {},
   "outputs": [
    {
     "data": {
      "text/plain": [
       "0.007520000000000001"
      ]
     },
     "execution_count": 6,
     "metadata": {},
     "output_type": "execute_result"
    }
   ],
   "source": [
    "# C: Covid; NC: Non-Covid; P: Positive; N: Negative\n",
    "# P(C|P) = P(P|C)*P(C)/P(P)\n",
    "# P(P) = P(P|C)*P(C) + P(P|NC)*(NC)\n",
    "# Sensitivity: True positive/(True positive + False negative)\n",
    "# P(P|C): True positive\n",
    "# Specificity: True negative/(True negative + False positive)\n",
    "# P(P|NC): False positive\n",
    "# P(P) = Sensitivity*P(C) + (1-Specificaty)*(NC)\n",
    "Marginal_Probability = 0.01*0.653 + 0.99*(1-0.999)"
   ]
  },
  {
   "cell_type": "markdown",
   "id": "cbb30a58",
   "metadata": {},
   "source": [
    "### 2.2 \n",
    "\n",
    "#### Define all the information and calculate the probability the randomly selected person has Covid"
   ]
  },
  {
   "cell_type": "code",
   "execution_count": 7,
   "id": "1af37a23",
   "metadata": {},
   "outputs": [
    {
     "data": {
      "text/plain": [
       "0.8683510638297872"
      ]
     },
     "execution_count": 7,
     "metadata": {},
     "output_type": "execute_result"
    }
   ],
   "source": [
    "Prior = 0.01\n",
    "Likelihood = 0.653\n",
    "Posterior = (Likelihood*Prior)/Marginal_Probability"
   ]
  },
  {
   "cell_type": "markdown",
   "id": "13c0b486",
   "metadata": {},
   "source": [
    "# Question 3\n",
    "### <a href=\"https://juliastats.org/Distributions.jl/stable/starting/\">This page</a> is the documentation for Distribution.jl and complete the exercies"
   ]
  },
  {
   "cell_type": "code",
   "execution_count": 8,
   "id": "1dcceb5b",
   "metadata": {},
   "outputs": [
    {
     "name": "stderr",
     "output_type": "stream",
     "text": [
      "\u001b[32m\u001b[1m    Updating\u001b[22m\u001b[39m registry at `~/.julia/registries/General.toml`\n",
      "\u001b[32m\u001b[1m   Resolving\u001b[22m\u001b[39m package versions...\n",
      "\u001b[32m\u001b[1m   Installed\u001b[22m\u001b[39m Ghostscript_jll ─ v9.55.0+4\n",
      "\u001b[32m\u001b[1m    Updating\u001b[22m\u001b[39m `~/.julia/environments/v1.7/Project.toml`\n",
      " \u001b[90m [9a3f8284] \u001b[39m\u001b[92m+ Random\u001b[39m\n",
      "\u001b[32m\u001b[1m    Updating\u001b[22m\u001b[39m `~/.julia/environments/v1.7/Manifest.toml`\n",
      " \u001b[90m [61579ee1] \u001b[39m\u001b[93m↑ Ghostscript_jll v9.55.0+0 ⇒ v9.55.0+4\u001b[39m\n",
      "\u001b[32m\u001b[1mPrecompiling\u001b[22m\u001b[39m project...\n",
      "\u001b[32m  ✓ \u001b[39m\u001b[90mGhostscript_jll\u001b[39m\n",
      "\u001b[32m  ✓ \u001b[39m\u001b[90mImageMagick_jll\u001b[39m\n",
      "\u001b[32m  ✓ \u001b[39m\u001b[90mImageMagick\u001b[39m\n",
      "\u001b[32m  ✓ \u001b[39mImages\n",
      "  4 dependencies successfully precompiled in 7 seconds (377 already precompiled)\n",
      "\u001b[32m\u001b[1m   Resolving\u001b[22m\u001b[39m package versions...\n",
      "\u001b[32m\u001b[1m  No Changes\u001b[22m\u001b[39m to `~/.julia/environments/v1.7/Project.toml`\n",
      "\u001b[32m\u001b[1m  No Changes\u001b[22m\u001b[39m to `~/.julia/environments/v1.7/Manifest.toml`\n",
      "\u001b[32m\u001b[1m   Resolving\u001b[22m\u001b[39m package versions...\n",
      "\u001b[32m\u001b[1m  No Changes\u001b[22m\u001b[39m to `~/.julia/environments/v1.7/Project.toml`\n",
      "\u001b[32m\u001b[1m  No Changes\u001b[22m\u001b[39m to `~/.julia/environments/v1.7/Manifest.toml`\n"
     ]
    }
   ],
   "source": [
    "import Pkg\n",
    "Pkg.add(\"Random\")\n",
    "Pkg.add(\"Distributions\")\n",
    "Pkg.add(\"Plots\")\n",
    "using Random, Distributions, Plots, Statistics"
   ]
  },
  {
   "cell_type": "markdown",
   "id": "8a852a4a",
   "metadata": {},
   "source": [
    "### 3.1 \n",
    "\n",
    "#### Randomly draw 1000 samples from a normal distribution with mean = 5 and std = 2"
   ]
  },
  {
   "cell_type": "code",
   "execution_count": 9,
   "id": "a1539748",
   "metadata": {},
   "outputs": [],
   "source": [
    "n = Normal(5,2)\n",
    "normal_sample = rand(n,1000);"
   ]
  },
  {
   "cell_type": "markdown",
   "id": "0b89952d",
   "metadata": {},
   "source": [
    "### 3.2\n",
    "\n",
    "#### Plot  the distribution above in a histogram"
   ]
  },
  {
   "cell_type": "code",
   "execution_count": 10,
   "id": "677ef750",
   "metadata": {},
   "outputs": [
    {
     "data": {
      "image/svg+xml": [
       "<?xml version=\"1.0\" encoding=\"utf-8\"?>\n",
       "<svg xmlns=\"http://www.w3.org/2000/svg\" xmlns:xlink=\"http://www.w3.org/1999/xlink\" width=\"600\" height=\"400\" viewBox=\"0 0 2400 1600\">\n",
       "<defs>\n",
       "  <clipPath id=\"clip330\">\n",
       "    <rect x=\"0\" y=\"0\" width=\"2400\" height=\"1600\"/>\n",
       "  </clipPath>\n",
       "</defs>\n",
       "<path clip-path=\"url(#clip330)\" d=\"M0 1600 L2400 1600 L2400 0 L0 0  Z\" fill=\"#ffffff\" fill-rule=\"evenodd\" fill-opacity=\"1\"/>\n",
       "<defs>\n",
       "  <clipPath id=\"clip331\">\n",
       "    <rect x=\"480\" y=\"0\" width=\"1681\" height=\"1600\"/>\n",
       "  </clipPath>\n",
       "</defs>\n",
       "<path clip-path=\"url(#clip330)\" d=\"M169.121 1486.45 L2352.76 1486.45 L2352.76 47.2441 L169.121 47.2441  Z\" fill=\"#ffffff\" fill-rule=\"evenodd\" fill-opacity=\"1\"/>\n",
       "<defs>\n",
       "  <clipPath id=\"clip332\">\n",
       "    <rect x=\"169\" y=\"47\" width=\"2185\" height=\"1440\"/>\n",
       "  </clipPath>\n",
       "</defs>\n",
       "<polyline clip-path=\"url(#clip332)\" style=\"stroke:#000000; stroke-linecap:round; stroke-linejoin:round; stroke-width:2; stroke-opacity:0.1; fill:none\" points=\"513.467,1486.45 513.467,47.2441 \"/>\n",
       "<polyline clip-path=\"url(#clip332)\" style=\"stroke:#000000; stroke-linecap:round; stroke-linejoin:round; stroke-width:2; stroke-opacity:0.1; fill:none\" points=\"887.203,1486.45 887.203,47.2441 \"/>\n",
       "<polyline clip-path=\"url(#clip332)\" style=\"stroke:#000000; stroke-linecap:round; stroke-linejoin:round; stroke-width:2; stroke-opacity:0.1; fill:none\" points=\"1260.94,1486.45 1260.94,47.2441 \"/>\n",
       "<polyline clip-path=\"url(#clip332)\" style=\"stroke:#000000; stroke-linecap:round; stroke-linejoin:round; stroke-width:2; stroke-opacity:0.1; fill:none\" points=\"1634.67,1486.45 1634.67,47.2441 \"/>\n",
       "<polyline clip-path=\"url(#clip332)\" style=\"stroke:#000000; stroke-linecap:round; stroke-linejoin:round; stroke-width:2; stroke-opacity:0.1; fill:none\" points=\"2008.41,1486.45 2008.41,47.2441 \"/>\n",
       "<polyline clip-path=\"url(#clip330)\" style=\"stroke:#000000; stroke-linecap:round; stroke-linejoin:round; stroke-width:4; stroke-opacity:1; fill:none\" points=\"169.121,1486.45 2352.76,1486.45 \"/>\n",
       "<polyline clip-path=\"url(#clip330)\" style=\"stroke:#000000; stroke-linecap:round; stroke-linejoin:round; stroke-width:4; stroke-opacity:1; fill:none\" points=\"513.467,1486.45 513.467,1467.55 \"/>\n",
       "<polyline clip-path=\"url(#clip330)\" style=\"stroke:#000000; stroke-linecap:round; stroke-linejoin:round; stroke-width:4; stroke-opacity:1; fill:none\" points=\"887.203,1486.45 887.203,1467.55 \"/>\n",
       "<polyline clip-path=\"url(#clip330)\" style=\"stroke:#000000; stroke-linecap:round; stroke-linejoin:round; stroke-width:4; stroke-opacity:1; fill:none\" points=\"1260.94,1486.45 1260.94,1467.55 \"/>\n",
       "<polyline clip-path=\"url(#clip330)\" style=\"stroke:#000000; stroke-linecap:round; stroke-linejoin:round; stroke-width:4; stroke-opacity:1; fill:none\" points=\"1634.67,1486.45 1634.67,1467.55 \"/>\n",
       "<polyline clip-path=\"url(#clip330)\" style=\"stroke:#000000; stroke-linecap:round; stroke-linejoin:round; stroke-width:4; stroke-opacity:1; fill:none\" points=\"2008.41,1486.45 2008.41,1467.55 \"/>\n",
       "<path clip-path=\"url(#clip330)\" d=\"M490.851 1517.37 Q487.24 1517.37 485.411 1520.93 Q483.606 1524.47 483.606 1531.6 Q483.606 1538.71 485.411 1542.27 Q487.24 1545.82 490.851 1545.82 Q494.485 1545.82 496.291 1542.27 Q498.12 1538.71 498.12 1531.6 Q498.12 1524.47 496.291 1520.93 Q494.485 1517.37 490.851 1517.37 M490.851 1513.66 Q496.661 1513.66 499.717 1518.27 Q502.795 1522.85 502.795 1531.6 Q502.795 1540.33 499.717 1544.94 Q496.661 1549.52 490.851 1549.52 Q485.041 1549.52 481.962 1544.94 Q478.907 1540.33 478.907 1531.6 Q478.907 1522.85 481.962 1518.27 Q485.041 1513.66 490.851 1513.66 Z\" fill=\"#000000\" fill-rule=\"evenodd\" fill-opacity=\"1\" /><path clip-path=\"url(#clip330)\" d=\"M511.013 1542.97 L515.897 1542.97 L515.897 1548.85 L511.013 1548.85 L511.013 1542.97 Z\" fill=\"#000000\" fill-rule=\"evenodd\" fill-opacity=\"1\" /><path clip-path=\"url(#clip330)\" d=\"M536.082 1517.37 Q532.471 1517.37 530.643 1520.93 Q528.837 1524.47 528.837 1531.6 Q528.837 1538.71 530.643 1542.27 Q532.471 1545.82 536.082 1545.82 Q539.717 1545.82 541.522 1542.27 Q543.351 1538.71 543.351 1531.6 Q543.351 1524.47 541.522 1520.93 Q539.717 1517.37 536.082 1517.37 M536.082 1513.66 Q541.892 1513.66 544.948 1518.27 Q548.027 1522.85 548.027 1531.6 Q548.027 1540.33 544.948 1544.94 Q541.892 1549.52 536.082 1549.52 Q530.272 1549.52 527.193 1544.94 Q524.138 1540.33 524.138 1531.6 Q524.138 1522.85 527.193 1518.27 Q530.272 1513.66 536.082 1513.66 Z\" fill=\"#000000\" fill-rule=\"evenodd\" fill-opacity=\"1\" /><path clip-path=\"url(#clip330)\" d=\"M858.939 1544.91 L875.258 1544.91 L875.258 1548.85 L853.314 1548.85 L853.314 1544.91 Q855.976 1542.16 860.559 1537.53 Q865.166 1532.88 866.346 1531.53 Q868.592 1529.01 869.471 1527.27 Q870.374 1525.51 870.374 1523.82 Q870.374 1521.07 868.43 1519.33 Q866.508 1517.6 863.406 1517.6 Q861.207 1517.6 858.754 1518.36 Q856.323 1519.13 853.545 1520.68 L853.545 1515.95 Q856.369 1514.82 858.823 1514.24 Q861.277 1513.66 863.314 1513.66 Q868.684 1513.66 871.879 1516.35 Q875.073 1519.03 875.073 1523.52 Q875.073 1525.65 874.263 1527.57 Q873.476 1529.47 871.369 1532.07 Q870.791 1532.74 867.689 1535.95 Q864.587 1539.15 858.939 1544.91 Z\" fill=\"#000000\" fill-rule=\"evenodd\" fill-opacity=\"1\" /><path clip-path=\"url(#clip330)\" d=\"M885.073 1542.97 L889.957 1542.97 L889.957 1548.85 L885.073 1548.85 L885.073 1542.97 Z\" fill=\"#000000\" fill-rule=\"evenodd\" fill-opacity=\"1\" /><path clip-path=\"url(#clip330)\" d=\"M900.189 1514.29 L918.545 1514.29 L918.545 1518.22 L904.471 1518.22 L904.471 1526.7 Q905.49 1526.35 906.508 1526.19 Q907.527 1526 908.545 1526 Q914.332 1526 917.712 1529.17 Q921.091 1532.34 921.091 1537.76 Q921.091 1543.34 917.619 1546.44 Q914.147 1549.52 907.828 1549.52 Q905.652 1549.52 903.383 1549.15 Q901.138 1548.78 898.73 1548.04 L898.73 1543.34 Q900.814 1544.47 903.036 1545.03 Q905.258 1545.58 907.735 1545.58 Q911.74 1545.58 914.078 1543.48 Q916.415 1541.37 916.415 1537.76 Q916.415 1534.15 914.078 1532.04 Q911.74 1529.94 907.735 1529.94 Q905.86 1529.94 903.985 1530.35 Q902.133 1530.77 900.189 1531.65 L900.189 1514.29 Z\" fill=\"#000000\" fill-rule=\"evenodd\" fill-opacity=\"1\" /><path clip-path=\"url(#clip330)\" d=\"M1228.1 1514.29 L1246.46 1514.29 L1246.46 1518.22 L1232.39 1518.22 L1232.39 1526.7 Q1233.4 1526.35 1234.42 1526.19 Q1235.44 1526 1236.46 1526 Q1242.25 1526 1245.63 1529.17 Q1249.01 1532.34 1249.01 1537.76 Q1249.01 1543.34 1245.53 1546.44 Q1242.06 1549.52 1235.74 1549.52 Q1233.57 1549.52 1231.3 1549.15 Q1229.05 1548.78 1226.64 1548.04 L1226.64 1543.34 Q1228.73 1544.47 1230.95 1545.03 Q1233.17 1545.58 1235.65 1545.58 Q1239.65 1545.58 1241.99 1543.48 Q1244.33 1541.37 1244.33 1537.76 Q1244.33 1534.15 1241.99 1532.04 Q1239.65 1529.94 1235.65 1529.94 Q1233.77 1529.94 1231.9 1530.35 Q1230.05 1530.77 1228.1 1531.65 L1228.1 1514.29 Z\" fill=\"#000000\" fill-rule=\"evenodd\" fill-opacity=\"1\" /><path clip-path=\"url(#clip330)\" d=\"M1258.22 1542.97 L1263.1 1542.97 L1263.1 1548.85 L1258.22 1548.85 L1258.22 1542.97 Z\" fill=\"#000000\" fill-rule=\"evenodd\" fill-opacity=\"1\" /><path clip-path=\"url(#clip330)\" d=\"M1283.29 1517.37 Q1279.68 1517.37 1277.85 1520.93 Q1276.04 1524.47 1276.04 1531.6 Q1276.04 1538.71 1277.85 1542.27 Q1279.68 1545.82 1283.29 1545.82 Q1286.92 1545.82 1288.73 1542.27 Q1290.56 1538.71 1290.56 1531.6 Q1290.56 1524.47 1288.73 1520.93 Q1286.92 1517.37 1283.29 1517.37 M1283.29 1513.66 Q1289.1 1513.66 1292.15 1518.27 Q1295.23 1522.85 1295.23 1531.6 Q1295.23 1540.33 1292.15 1544.94 Q1289.1 1549.52 1283.29 1549.52 Q1277.48 1549.52 1274.4 1544.94 Q1271.34 1540.33 1271.34 1531.6 Q1271.34 1522.85 1274.4 1518.27 Q1277.48 1513.66 1283.29 1513.66 Z\" fill=\"#000000\" fill-rule=\"evenodd\" fill-opacity=\"1\" /><path clip-path=\"url(#clip330)\" d=\"M1600.99 1514.29 L1623.22 1514.29 L1623.22 1516.28 L1610.67 1548.85 L1605.79 1548.85 L1617.59 1518.22 L1600.99 1518.22 L1600.99 1514.29 Z\" fill=\"#000000\" fill-rule=\"evenodd\" fill-opacity=\"1\" /><path clip-path=\"url(#clip330)\" d=\"M1632.34 1542.97 L1637.22 1542.97 L1637.22 1548.85 L1632.34 1548.85 L1632.34 1542.97 Z\" fill=\"#000000\" fill-rule=\"evenodd\" fill-opacity=\"1\" /><path clip-path=\"url(#clip330)\" d=\"M1647.45 1514.29 L1665.81 1514.29 L1665.81 1518.22 L1651.73 1518.22 L1651.73 1526.7 Q1652.75 1526.35 1653.77 1526.19 Q1654.79 1526 1655.81 1526 Q1661.6 1526 1664.98 1529.17 Q1668.35 1532.34 1668.35 1537.76 Q1668.35 1543.34 1664.88 1546.44 Q1661.41 1549.52 1655.09 1549.52 Q1652.92 1549.52 1650.65 1549.15 Q1648.4 1548.78 1645.99 1548.04 L1645.99 1543.34 Q1648.08 1544.47 1650.3 1545.03 Q1652.52 1545.58 1655 1545.58 Q1659 1545.58 1661.34 1543.48 Q1663.68 1541.37 1663.68 1537.76 Q1663.68 1534.15 1661.34 1532.04 Q1659 1529.94 1655 1529.94 Q1653.12 1529.94 1651.25 1530.35 Q1649.4 1530.77 1647.45 1531.65 L1647.45 1514.29 Z\" fill=\"#000000\" fill-rule=\"evenodd\" fill-opacity=\"1\" /><path clip-path=\"url(#clip330)\" d=\"M1960.48 1544.91 L1968.12 1544.91 L1968.12 1518.55 L1959.81 1520.21 L1959.81 1515.95 L1968.08 1514.29 L1972.75 1514.29 L1972.75 1544.91 L1980.39 1544.91 L1980.39 1548.85 L1960.48 1548.85 L1960.48 1544.91 Z\" fill=\"#000000\" fill-rule=\"evenodd\" fill-opacity=\"1\" /><path clip-path=\"url(#clip330)\" d=\"M1999.83 1517.37 Q1996.22 1517.37 1994.39 1520.93 Q1992.59 1524.47 1992.59 1531.6 Q1992.59 1538.71 1994.39 1542.27 Q1996.22 1545.82 1999.83 1545.82 Q2003.47 1545.82 2005.27 1542.27 Q2007.1 1538.71 2007.1 1531.6 Q2007.1 1524.47 2005.27 1520.93 Q2003.47 1517.37 1999.83 1517.37 M1999.83 1513.66 Q2005.64 1513.66 2008.7 1518.27 Q2011.78 1522.85 2011.78 1531.6 Q2011.78 1540.33 2008.7 1544.94 Q2005.64 1549.52 1999.83 1549.52 Q1994.02 1549.52 1990.95 1544.94 Q1987.89 1540.33 1987.89 1531.6 Q1987.89 1522.85 1990.95 1518.27 Q1994.02 1513.66 1999.83 1513.66 Z\" fill=\"#000000\" fill-rule=\"evenodd\" fill-opacity=\"1\" /><path clip-path=\"url(#clip330)\" d=\"M2020 1542.97 L2024.88 1542.97 L2024.88 1548.85 L2020 1548.85 L2020 1542.97 Z\" fill=\"#000000\" fill-rule=\"evenodd\" fill-opacity=\"1\" /><path clip-path=\"url(#clip330)\" d=\"M2045.07 1517.37 Q2041.45 1517.37 2039.63 1520.93 Q2037.82 1524.47 2037.82 1531.6 Q2037.82 1538.71 2039.63 1542.27 Q2041.45 1545.82 2045.07 1545.82 Q2048.7 1545.82 2050.51 1542.27 Q2052.33 1538.71 2052.33 1531.6 Q2052.33 1524.47 2050.51 1520.93 Q2048.7 1517.37 2045.07 1517.37 M2045.07 1513.66 Q2050.88 1513.66 2053.93 1518.27 Q2057.01 1522.85 2057.01 1531.6 Q2057.01 1540.33 2053.93 1544.94 Q2050.88 1549.52 2045.07 1549.52 Q2039.26 1549.52 2036.18 1544.94 Q2033.12 1540.33 2033.12 1531.6 Q2033.12 1522.85 2036.18 1518.27 Q2039.26 1513.66 2045.07 1513.66 Z\" fill=\"#000000\" fill-rule=\"evenodd\" fill-opacity=\"1\" /><polyline clip-path=\"url(#clip332)\" style=\"stroke:#000000; stroke-linecap:round; stroke-linejoin:round; stroke-width:2; stroke-opacity:0.1; fill:none\" points=\"169.121,1445.72 2352.76,1445.72 \"/>\n",
       "<polyline clip-path=\"url(#clip332)\" style=\"stroke:#000000; stroke-linecap:round; stroke-linejoin:round; stroke-width:2; stroke-opacity:0.1; fill:none\" points=\"169.121,1139.92 2352.76,1139.92 \"/>\n",
       "<polyline clip-path=\"url(#clip332)\" style=\"stroke:#000000; stroke-linecap:round; stroke-linejoin:round; stroke-width:2; stroke-opacity:0.1; fill:none\" points=\"169.121,834.121 2352.76,834.121 \"/>\n",
       "<polyline clip-path=\"url(#clip332)\" style=\"stroke:#000000; stroke-linecap:round; stroke-linejoin:round; stroke-width:2; stroke-opacity:0.1; fill:none\" points=\"169.121,528.324 2352.76,528.324 \"/>\n",
       "<polyline clip-path=\"url(#clip332)\" style=\"stroke:#000000; stroke-linecap:round; stroke-linejoin:round; stroke-width:2; stroke-opacity:0.1; fill:none\" points=\"169.121,222.527 2352.76,222.527 \"/>\n",
       "<polyline clip-path=\"url(#clip330)\" style=\"stroke:#000000; stroke-linecap:round; stroke-linejoin:round; stroke-width:4; stroke-opacity:1; fill:none\" points=\"169.121,1486.45 169.121,47.2441 \"/>\n",
       "<polyline clip-path=\"url(#clip330)\" style=\"stroke:#000000; stroke-linecap:round; stroke-linejoin:round; stroke-width:4; stroke-opacity:1; fill:none\" points=\"169.121,1445.72 188.019,1445.72 \"/>\n",
       "<polyline clip-path=\"url(#clip330)\" style=\"stroke:#000000; stroke-linecap:round; stroke-linejoin:round; stroke-width:4; stroke-opacity:1; fill:none\" points=\"169.121,1139.92 188.019,1139.92 \"/>\n",
       "<polyline clip-path=\"url(#clip330)\" style=\"stroke:#000000; stroke-linecap:round; stroke-linejoin:round; stroke-width:4; stroke-opacity:1; fill:none\" points=\"169.121,834.121 188.019,834.121 \"/>\n",
       "<polyline clip-path=\"url(#clip330)\" style=\"stroke:#000000; stroke-linecap:round; stroke-linejoin:round; stroke-width:4; stroke-opacity:1; fill:none\" points=\"169.121,528.324 188.019,528.324 \"/>\n",
       "<polyline clip-path=\"url(#clip330)\" style=\"stroke:#000000; stroke-linecap:round; stroke-linejoin:round; stroke-width:4; stroke-opacity:1; fill:none\" points=\"169.121,222.527 188.019,222.527 \"/>\n",
       "<path clip-path=\"url(#clip330)\" d=\"M121.177 1431.51 Q117.566 1431.51 115.737 1435.08 Q113.932 1438.62 113.932 1445.75 Q113.932 1452.86 115.737 1456.42 Q117.566 1459.96 121.177 1459.96 Q124.811 1459.96 126.617 1456.42 Q128.445 1452.86 128.445 1445.75 Q128.445 1438.62 126.617 1435.08 Q124.811 1431.51 121.177 1431.51 M121.177 1427.81 Q126.987 1427.81 130.043 1432.42 Q133.121 1437 133.121 1445.75 Q133.121 1454.48 130.043 1459.08 Q126.987 1463.67 121.177 1463.67 Q115.367 1463.67 112.288 1459.08 Q109.233 1454.48 109.233 1445.75 Q109.233 1437 112.288 1432.42 Q115.367 1427.81 121.177 1427.81 Z\" fill=\"#000000\" fill-rule=\"evenodd\" fill-opacity=\"1\" /><path clip-path=\"url(#clip330)\" d=\"M86.0382 1153.26 L102.358 1153.26 L102.358 1157.2 L80.4133 1157.2 L80.4133 1153.26 Q83.0753 1150.51 87.6586 1145.88 Q92.2651 1141.23 93.4456 1139.88 Q95.691 1137.36 96.5706 1135.62 Q97.4734 1133.87 97.4734 1132.18 Q97.4734 1129.42 95.5289 1127.68 Q93.6076 1125.95 90.5058 1125.95 Q88.3067 1125.95 85.8531 1126.71 Q83.4225 1127.48 80.6447 1129.03 L80.6447 1124.31 Q83.4688 1123.17 85.9225 1122.59 Q88.3762 1122.01 90.4132 1122.01 Q95.7836 1122.01 98.978 1124.7 Q102.172 1127.38 102.172 1131.87 Q102.172 1134 101.362 1135.93 Q100.575 1137.82 98.4687 1140.42 Q97.89 1141.09 94.7882 1144.31 Q91.6864 1147.5 86.0382 1153.26 Z\" fill=\"#000000\" fill-rule=\"evenodd\" fill-opacity=\"1\" /><path clip-path=\"url(#clip330)\" d=\"M112.219 1122.64 L130.575 1122.64 L130.575 1126.57 L116.501 1126.57 L116.501 1135.05 Q117.52 1134.7 118.538 1134.54 Q119.557 1134.35 120.575 1134.35 Q126.362 1134.35 129.742 1137.52 Q133.121 1140.69 133.121 1146.11 Q133.121 1151.69 129.649 1154.79 Q126.177 1157.87 119.857 1157.87 Q117.682 1157.87 115.413 1157.5 Q113.168 1157.13 110.76 1156.39 L110.76 1151.69 Q112.844 1152.82 115.066 1153.38 Q117.288 1153.93 119.765 1153.93 Q123.77 1153.93 126.107 1151.83 Q128.445 1149.72 128.445 1146.11 Q128.445 1142.5 126.107 1140.39 Q123.77 1138.29 119.765 1138.29 Q117.89 1138.29 116.015 1138.7 Q114.163 1139.12 112.219 1140 L112.219 1122.64 Z\" fill=\"#000000\" fill-rule=\"evenodd\" fill-opacity=\"1\" /><path clip-path=\"url(#clip330)\" d=\"M81.0614 816.841 L99.4178 816.841 L99.4178 820.777 L85.3438 820.777 L85.3438 829.249 Q86.3623 828.901 87.3808 828.739 Q88.3993 828.554 89.4178 828.554 Q95.2049 828.554 98.5845 831.726 Q101.964 834.897 101.964 840.313 Q101.964 845.892 98.4919 848.994 Q95.0197 852.073 88.7003 852.073 Q86.5243 852.073 84.2558 851.702 Q82.0105 851.332 79.6031 850.591 L79.6031 845.892 Q81.6864 847.026 83.9086 847.582 Q86.1308 848.137 88.6077 848.137 Q92.6123 848.137 94.9502 846.031 Q97.2882 843.925 97.2882 840.313 Q97.2882 836.702 94.9502 834.596 Q92.6123 832.489 88.6077 832.489 Q86.7327 832.489 84.8577 832.906 Q83.0058 833.323 81.0614 834.202 L81.0614 816.841 Z\" fill=\"#000000\" fill-rule=\"evenodd\" fill-opacity=\"1\" /><path clip-path=\"url(#clip330)\" d=\"M121.177 819.92 Q117.566 819.92 115.737 823.485 Q113.932 827.026 113.932 834.156 Q113.932 841.263 115.737 844.827 Q117.566 848.369 121.177 848.369 Q124.811 848.369 126.617 844.827 Q128.445 841.263 128.445 834.156 Q128.445 827.026 126.617 823.485 Q124.811 819.92 121.177 819.92 M121.177 816.216 Q126.987 816.216 130.043 820.823 Q133.121 825.406 133.121 834.156 Q133.121 842.883 130.043 847.489 Q126.987 852.073 121.177 852.073 Q115.367 852.073 112.288 847.489 Q109.233 842.883 109.233 834.156 Q109.233 825.406 112.288 820.823 Q115.367 816.216 121.177 816.216 Z\" fill=\"#000000\" fill-rule=\"evenodd\" fill-opacity=\"1\" /><path clip-path=\"url(#clip330)\" d=\"M80.8299 511.044 L103.052 511.044 L103.052 513.035 L90.5058 545.604 L85.6216 545.604 L97.4271 514.979 L80.8299 514.979 L80.8299 511.044 Z\" fill=\"#000000\" fill-rule=\"evenodd\" fill-opacity=\"1\" /><path clip-path=\"url(#clip330)\" d=\"M112.219 511.044 L130.575 511.044 L130.575 514.979 L116.501 514.979 L116.501 523.452 Q117.52 523.104 118.538 522.942 Q119.557 522.757 120.575 522.757 Q126.362 522.757 129.742 525.928 Q133.121 529.1 133.121 534.516 Q133.121 540.095 129.649 543.197 Q126.177 546.275 119.857 546.275 Q117.682 546.275 115.413 545.905 Q113.168 545.535 110.76 544.794 L110.76 540.095 Q112.844 541.229 115.066 541.785 Q117.288 542.34 119.765 542.34 Q123.77 542.34 126.107 540.234 Q128.445 538.127 128.445 534.516 Q128.445 530.905 126.107 528.799 Q123.77 526.692 119.765 526.692 Q117.89 526.692 116.015 527.109 Q114.163 527.526 112.219 528.405 L112.219 511.044 Z\" fill=\"#000000\" fill-rule=\"evenodd\" fill-opacity=\"1\" /><path clip-path=\"url(#clip330)\" d=\"M51.6634 235.872 L59.3023 235.872 L59.3023 209.506 L50.9921 211.173 L50.9921 206.914 L59.256 205.247 L63.9319 205.247 L63.9319 235.872 L71.5707 235.872 L71.5707 239.807 L51.6634 239.807 L51.6634 235.872 Z\" fill=\"#000000\" fill-rule=\"evenodd\" fill-opacity=\"1\" /><path clip-path=\"url(#clip330)\" d=\"M91.0151 208.326 Q87.404 208.326 85.5753 211.891 Q83.7697 215.432 83.7697 222.562 Q83.7697 229.668 85.5753 233.233 Q87.404 236.775 91.0151 236.775 Q94.6493 236.775 96.4548 233.233 Q98.2835 229.668 98.2835 222.562 Q98.2835 215.432 96.4548 211.891 Q94.6493 208.326 91.0151 208.326 M91.0151 204.622 Q96.8252 204.622 99.8808 209.228 Q102.959 213.812 102.959 222.562 Q102.959 231.289 99.8808 235.895 Q96.8252 240.478 91.0151 240.478 Q85.2049 240.478 82.1262 235.895 Q79.0707 231.289 79.0707 222.562 Q79.0707 213.812 82.1262 209.228 Q85.2049 204.622 91.0151 204.622 Z\" fill=\"#000000\" fill-rule=\"evenodd\" fill-opacity=\"1\" /><path clip-path=\"url(#clip330)\" d=\"M121.177 208.326 Q117.566 208.326 115.737 211.891 Q113.932 215.432 113.932 222.562 Q113.932 229.668 115.737 233.233 Q117.566 236.775 121.177 236.775 Q124.811 236.775 126.617 233.233 Q128.445 229.668 128.445 222.562 Q128.445 215.432 126.617 211.891 Q124.811 208.326 121.177 208.326 M121.177 204.622 Q126.987 204.622 130.043 209.228 Q133.121 213.812 133.121 222.562 Q133.121 231.289 130.043 235.895 Q126.987 240.478 121.177 240.478 Q115.367 240.478 112.288 235.895 Q109.233 231.289 109.233 222.562 Q109.233 213.812 112.288 209.228 Q115.367 204.622 121.177 204.622 Z\" fill=\"#000000\" fill-rule=\"evenodd\" fill-opacity=\"1\" /><path clip-path=\"url(#clip332)\" d=\"M289.225 1433.48 L289.225 1445.72 L363.972 1445.72 L363.972 1433.48 L289.225 1433.48 L289.225 1433.48  Z\" fill=\"#009af9\" fill-rule=\"evenodd\" fill-opacity=\"1\"/>\n",
       "<polyline clip-path=\"url(#clip332)\" style=\"stroke:#000000; stroke-linecap:round; stroke-linejoin:round; stroke-width:4; stroke-opacity:1; fill:none\" points=\"289.225,1433.48 289.225,1445.72 363.972,1445.72 363.972,1433.48 289.225,1433.48 \"/>\n",
       "<path clip-path=\"url(#clip332)\" d=\"M363.972 1421.25 L363.972 1445.72 L438.719 1445.72 L438.719 1421.25 L363.972 1421.25 L363.972 1421.25  Z\" fill=\"#009af9\" fill-rule=\"evenodd\" fill-opacity=\"1\"/>\n",
       "<polyline clip-path=\"url(#clip332)\" style=\"stroke:#000000; stroke-linecap:round; stroke-linejoin:round; stroke-width:4; stroke-opacity:1; fill:none\" points=\"363.972,1421.25 363.972,1445.72 438.719,1445.72 438.719,1421.25 363.972,1421.25 \"/>\n",
       "<path clip-path=\"url(#clip332)\" d=\"M438.719 1384.56 L438.719 1445.72 L513.467 1445.72 L513.467 1384.56 L438.719 1384.56 L438.719 1384.56  Z\" fill=\"#009af9\" fill-rule=\"evenodd\" fill-opacity=\"1\"/>\n",
       "<polyline clip-path=\"url(#clip332)\" style=\"stroke:#000000; stroke-linecap:round; stroke-linejoin:round; stroke-width:4; stroke-opacity:1; fill:none\" points=\"438.719,1384.56 438.719,1445.72 513.467,1445.72 513.467,1384.56 438.719,1384.56 \"/>\n",
       "<path clip-path=\"url(#clip332)\" d=\"M513.467 1360.09 L513.467 1445.72 L588.214 1445.72 L588.214 1360.09 L513.467 1360.09 L513.467 1360.09  Z\" fill=\"#009af9\" fill-rule=\"evenodd\" fill-opacity=\"1\"/>\n",
       "<polyline clip-path=\"url(#clip332)\" style=\"stroke:#000000; stroke-linecap:round; stroke-linejoin:round; stroke-width:4; stroke-opacity:1; fill:none\" points=\"513.467,1360.09 513.467,1445.72 588.214,1445.72 588.214,1360.09 513.467,1360.09 \"/>\n",
       "<path clip-path=\"url(#clip332)\" d=\"M588.214 1335.63 L588.214 1445.72 L662.961 1445.72 L662.961 1335.63 L588.214 1335.63 L588.214 1335.63  Z\" fill=\"#009af9\" fill-rule=\"evenodd\" fill-opacity=\"1\"/>\n",
       "<polyline clip-path=\"url(#clip332)\" style=\"stroke:#000000; stroke-linecap:round; stroke-linejoin:round; stroke-width:4; stroke-opacity:1; fill:none\" points=\"588.214,1335.63 588.214,1445.72 662.961,1445.72 662.961,1335.63 588.214,1335.63 \"/>\n",
       "<path clip-path=\"url(#clip332)\" d=\"M662.961 1213.31 L662.961 1445.72 L737.708 1445.72 L737.708 1213.31 L662.961 1213.31 L662.961 1213.31  Z\" fill=\"#009af9\" fill-rule=\"evenodd\" fill-opacity=\"1\"/>\n",
       "<polyline clip-path=\"url(#clip332)\" style=\"stroke:#000000; stroke-linecap:round; stroke-linejoin:round; stroke-width:4; stroke-opacity:1; fill:none\" points=\"662.961,1213.31 662.961,1445.72 737.708,1445.72 737.708,1213.31 662.961,1213.31 \"/>\n",
       "<path clip-path=\"url(#clip332)\" d=\"M737.708 1115.45 L737.708 1445.72 L812.455 1445.72 L812.455 1115.45 L737.708 1115.45 L737.708 1115.45  Z\" fill=\"#009af9\" fill-rule=\"evenodd\" fill-opacity=\"1\"/>\n",
       "<polyline clip-path=\"url(#clip332)\" style=\"stroke:#000000; stroke-linecap:round; stroke-linejoin:round; stroke-width:4; stroke-opacity:1; fill:none\" points=\"737.708,1115.45 737.708,1445.72 812.455,1445.72 812.455,1115.45 737.708,1115.45 \"/>\n",
       "<path clip-path=\"url(#clip332)\" d=\"M812.455 980.904 L812.455 1445.72 L887.203 1445.72 L887.203 980.904 L812.455 980.904 L812.455 980.904  Z\" fill=\"#009af9\" fill-rule=\"evenodd\" fill-opacity=\"1\"/>\n",
       "<polyline clip-path=\"url(#clip332)\" style=\"stroke:#000000; stroke-linecap:round; stroke-linejoin:round; stroke-width:4; stroke-opacity:1; fill:none\" points=\"812.455,980.904 812.455,1445.72 887.203,1445.72 887.203,980.904 812.455,980.904 \"/>\n",
       "<path clip-path=\"url(#clip332)\" d=\"M887.203 931.976 L887.203 1445.72 L961.95 1445.72 L961.95 931.976 L887.203 931.976 L887.203 931.976  Z\" fill=\"#009af9\" fill-rule=\"evenodd\" fill-opacity=\"1\"/>\n",
       "<polyline clip-path=\"url(#clip332)\" style=\"stroke:#000000; stroke-linecap:round; stroke-linejoin:round; stroke-width:4; stroke-opacity:1; fill:none\" points=\"887.203,931.976 887.203,1445.72 961.95,1445.72 961.95,931.976 887.203,931.976 \"/>\n",
       "<path clip-path=\"url(#clip332)\" d=\"M961.95 724.034 L961.95 1445.72 L1036.7 1445.72 L1036.7 724.034 L961.95 724.034 L961.95 724.034  Z\" fill=\"#009af9\" fill-rule=\"evenodd\" fill-opacity=\"1\"/>\n",
       "<polyline clip-path=\"url(#clip332)\" style=\"stroke:#000000; stroke-linecap:round; stroke-linejoin:round; stroke-width:4; stroke-opacity:1; fill:none\" points=\"961.95,724.034 961.95,1445.72 1036.7,1445.72 1036.7,724.034 961.95,724.034 \"/>\n",
       "<path clip-path=\"url(#clip332)\" d=\"M1036.7 467.165 L1036.7 1445.72 L1111.44 1445.72 L1111.44 467.165 L1036.7 467.165 L1036.7 467.165  Z\" fill=\"#009af9\" fill-rule=\"evenodd\" fill-opacity=\"1\"/>\n",
       "<polyline clip-path=\"url(#clip332)\" style=\"stroke:#000000; stroke-linecap:round; stroke-linejoin:round; stroke-width:4; stroke-opacity:1; fill:none\" points=\"1036.7,467.165 1036.7,1445.72 1111.44,1445.72 1111.44,467.165 1036.7,467.165 \"/>\n",
       "<path clip-path=\"url(#clip332)\" d=\"M1111.44 161.368 L1111.44 1445.72 L1186.19 1445.72 L1186.19 161.368 L1111.44 161.368 L1111.44 161.368  Z\" fill=\"#009af9\" fill-rule=\"evenodd\" fill-opacity=\"1\"/>\n",
       "<polyline clip-path=\"url(#clip332)\" style=\"stroke:#000000; stroke-linecap:round; stroke-linejoin:round; stroke-width:4; stroke-opacity:1; fill:none\" points=\"1111.44,161.368 1111.44,1445.72 1186.19,1445.72 1186.19,161.368 1111.44,161.368 \"/>\n",
       "<path clip-path=\"url(#clip332)\" d=\"M1186.19 406.005 L1186.19 1445.72 L1260.94 1445.72 L1260.94 406.005 L1186.19 406.005 L1186.19 406.005  Z\" fill=\"#009af9\" fill-rule=\"evenodd\" fill-opacity=\"1\"/>\n",
       "<polyline clip-path=\"url(#clip332)\" style=\"stroke:#000000; stroke-linecap:round; stroke-linejoin:round; stroke-width:4; stroke-opacity:1; fill:none\" points=\"1186.19,406.005 1186.19,1445.72 1260.94,1445.72 1260.94,406.005 1186.19,406.005 \"/>\n",
       "<path clip-path=\"url(#clip332)\" d=\"M1260.94 87.9763 L1260.94 1445.72 L1335.69 1445.72 L1335.69 87.9763 L1260.94 87.9763 L1260.94 87.9763  Z\" fill=\"#009af9\" fill-rule=\"evenodd\" fill-opacity=\"1\"/>\n",
       "<polyline clip-path=\"url(#clip332)\" style=\"stroke:#000000; stroke-linecap:round; stroke-linejoin:round; stroke-width:4; stroke-opacity:1; fill:none\" points=\"1260.94,87.9763 1260.94,1445.72 1335.69,1445.72 1335.69,87.9763 1260.94,87.9763 \"/>\n",
       "<path clip-path=\"url(#clip332)\" d=\"M1335.69 210.295 L1335.69 1445.72 L1410.43 1445.72 L1410.43 210.295 L1335.69 210.295 L1335.69 210.295  Z\" fill=\"#009af9\" fill-rule=\"evenodd\" fill-opacity=\"1\"/>\n",
       "<polyline clip-path=\"url(#clip332)\" style=\"stroke:#000000; stroke-linecap:round; stroke-linejoin:round; stroke-width:4; stroke-opacity:1; fill:none\" points=\"1335.69,210.295 1335.69,1445.72 1410.43,1445.72 1410.43,210.295 1335.69,210.295 \"/>\n",
       "<path clip-path=\"url(#clip332)\" d=\"M1410.43 406.005 L1410.43 1445.72 L1485.18 1445.72 L1485.18 406.005 L1410.43 406.005 L1410.43 406.005  Z\" fill=\"#009af9\" fill-rule=\"evenodd\" fill-opacity=\"1\"/>\n",
       "<polyline clip-path=\"url(#clip332)\" style=\"stroke:#000000; stroke-linecap:round; stroke-linejoin:round; stroke-width:4; stroke-opacity:1; fill:none\" points=\"1410.43,406.005 1410.43,1445.72 1485.18,1445.72 1485.18,406.005 1410.43,406.005 \"/>\n",
       "<path clip-path=\"url(#clip332)\" d=\"M1485.18 552.788 L1485.18 1445.72 L1559.93 1445.72 L1559.93 552.788 L1485.18 552.788 L1485.18 552.788  Z\" fill=\"#009af9\" fill-rule=\"evenodd\" fill-opacity=\"1\"/>\n",
       "<polyline clip-path=\"url(#clip332)\" style=\"stroke:#000000; stroke-linecap:round; stroke-linejoin:round; stroke-width:4; stroke-opacity:1; fill:none\" points=\"1485.18,552.788 1485.18,1445.72 1559.93,1445.72 1559.93,552.788 1485.18,552.788 \"/>\n",
       "<path clip-path=\"url(#clip332)\" d=\"M1559.93 760.73 L1559.93 1445.72 L1634.67 1445.72 L1634.67 760.73 L1559.93 760.73 L1559.93 760.73  Z\" fill=\"#009af9\" fill-rule=\"evenodd\" fill-opacity=\"1\"/>\n",
       "<polyline clip-path=\"url(#clip332)\" style=\"stroke:#000000; stroke-linecap:round; stroke-linejoin:round; stroke-width:4; stroke-opacity:1; fill:none\" points=\"1559.93,760.73 1559.93,1445.72 1634.67,1445.72 1634.67,760.73 1559.93,760.73 \"/>\n",
       "<path clip-path=\"url(#clip332)\" d=\"M1634.67 1066.53 L1634.67 1445.72 L1709.42 1445.72 L1709.42 1066.53 L1634.67 1066.53 L1634.67 1066.53  Z\" fill=\"#009af9\" fill-rule=\"evenodd\" fill-opacity=\"1\"/>\n",
       "<polyline clip-path=\"url(#clip332)\" style=\"stroke:#000000; stroke-linecap:round; stroke-linejoin:round; stroke-width:4; stroke-opacity:1; fill:none\" points=\"1634.67,1066.53 1634.67,1445.72 1709.42,1445.72 1709.42,1066.53 1634.67,1066.53 \"/>\n",
       "<path clip-path=\"url(#clip332)\" d=\"M1709.42 1213.31 L1709.42 1445.72 L1784.17 1445.72 L1784.17 1213.31 L1709.42 1213.31 L1709.42 1213.31  Z\" fill=\"#009af9\" fill-rule=\"evenodd\" fill-opacity=\"1\"/>\n",
       "<polyline clip-path=\"url(#clip332)\" style=\"stroke:#000000; stroke-linecap:round; stroke-linejoin:round; stroke-width:4; stroke-opacity:1; fill:none\" points=\"1709.42,1213.31 1709.42,1445.72 1784.17,1445.72 1784.17,1213.31 1709.42,1213.31 \"/>\n",
       "<path clip-path=\"url(#clip332)\" d=\"M1784.17 1176.61 L1784.17 1445.72 L1858.92 1445.72 L1858.92 1176.61 L1784.17 1176.61 L1784.17 1176.61  Z\" fill=\"#009af9\" fill-rule=\"evenodd\" fill-opacity=\"1\"/>\n",
       "<polyline clip-path=\"url(#clip332)\" style=\"stroke:#000000; stroke-linecap:round; stroke-linejoin:round; stroke-width:4; stroke-opacity:1; fill:none\" points=\"1784.17,1176.61 1784.17,1445.72 1858.92,1445.72 1858.92,1176.61 1784.17,1176.61 \"/>\n",
       "<path clip-path=\"url(#clip332)\" d=\"M1858.92 1274.47 L1858.92 1445.72 L1933.66 1445.72 L1933.66 1274.47 L1858.92 1274.47 L1858.92 1274.47  Z\" fill=\"#009af9\" fill-rule=\"evenodd\" fill-opacity=\"1\"/>\n",
       "<polyline clip-path=\"url(#clip332)\" style=\"stroke:#000000; stroke-linecap:round; stroke-linejoin:round; stroke-width:4; stroke-opacity:1; fill:none\" points=\"1858.92,1274.47 1858.92,1445.72 1933.66,1445.72 1933.66,1274.47 1858.92,1274.47 \"/>\n",
       "<path clip-path=\"url(#clip332)\" d=\"M1933.66 1433.48 L1933.66 1445.72 L2008.41 1445.72 L2008.41 1433.48 L1933.66 1433.48 L1933.66 1433.48  Z\" fill=\"#009af9\" fill-rule=\"evenodd\" fill-opacity=\"1\"/>\n",
       "<polyline clip-path=\"url(#clip332)\" style=\"stroke:#000000; stroke-linecap:round; stroke-linejoin:round; stroke-width:4; stroke-opacity:1; fill:none\" points=\"1933.66,1433.48 1933.66,1445.72 2008.41,1445.72 2008.41,1433.48 1933.66,1433.48 \"/>\n",
       "<path clip-path=\"url(#clip332)\" d=\"M2008.41 1372.32 L2008.41 1445.72 L2083.16 1445.72 L2083.16 1372.32 L2008.41 1372.32 L2008.41 1372.32  Z\" fill=\"#009af9\" fill-rule=\"evenodd\" fill-opacity=\"1\"/>\n",
       "<polyline clip-path=\"url(#clip332)\" style=\"stroke:#000000; stroke-linecap:round; stroke-linejoin:round; stroke-width:4; stroke-opacity:1; fill:none\" points=\"2008.41,1372.32 2008.41,1445.72 2083.16,1445.72 2083.16,1372.32 2008.41,1372.32 \"/>\n",
       "<path clip-path=\"url(#clip332)\" d=\"M2083.16 1433.48 L2083.16 1445.72 L2157.9 1445.72 L2157.9 1433.48 L2083.16 1433.48 L2083.16 1433.48  Z\" fill=\"#009af9\" fill-rule=\"evenodd\" fill-opacity=\"1\"/>\n",
       "<polyline clip-path=\"url(#clip332)\" style=\"stroke:#000000; stroke-linecap:round; stroke-linejoin:round; stroke-width:4; stroke-opacity:1; fill:none\" points=\"2083.16,1433.48 2083.16,1445.72 2157.9,1445.72 2157.9,1433.48 2083.16,1433.48 \"/>\n",
       "<path clip-path=\"url(#clip332)\" d=\"M2157.9 1433.48 L2157.9 1445.72 L2232.65 1445.72 L2232.65 1433.48 L2157.9 1433.48 L2157.9 1433.48  Z\" fill=\"#009af9\" fill-rule=\"evenodd\" fill-opacity=\"1\"/>\n",
       "<polyline clip-path=\"url(#clip332)\" style=\"stroke:#000000; stroke-linecap:round; stroke-linejoin:round; stroke-width:4; stroke-opacity:1; fill:none\" points=\"2157.9,1433.48 2157.9,1445.72 2232.65,1445.72 2232.65,1433.48 2157.9,1433.48 \"/>\n",
       "<circle clip-path=\"url(#clip332)\" style=\"fill:#009af9; stroke:none; fill-opacity:0\" cx=\"326.599\" cy=\"1433.48\" r=\"2\"/>\n",
       "<circle clip-path=\"url(#clip332)\" style=\"fill:#009af9; stroke:none; fill-opacity:0\" cx=\"401.346\" cy=\"1421.25\" r=\"2\"/>\n",
       "<circle clip-path=\"url(#clip332)\" style=\"fill:#009af9; stroke:none; fill-opacity:0\" cx=\"476.093\" cy=\"1384.56\" r=\"2\"/>\n",
       "<circle clip-path=\"url(#clip332)\" style=\"fill:#009af9; stroke:none; fill-opacity:0\" cx=\"550.84\" cy=\"1360.09\" r=\"2\"/>\n",
       "<circle clip-path=\"url(#clip332)\" style=\"fill:#009af9; stroke:none; fill-opacity:0\" cx=\"625.587\" cy=\"1335.63\" r=\"2\"/>\n",
       "<circle clip-path=\"url(#clip332)\" style=\"fill:#009af9; stroke:none; fill-opacity:0\" cx=\"700.335\" cy=\"1213.31\" r=\"2\"/>\n",
       "<circle clip-path=\"url(#clip332)\" style=\"fill:#009af9; stroke:none; fill-opacity:0\" cx=\"775.082\" cy=\"1115.45\" r=\"2\"/>\n",
       "<circle clip-path=\"url(#clip332)\" style=\"fill:#009af9; stroke:none; fill-opacity:0\" cx=\"849.829\" cy=\"980.904\" r=\"2\"/>\n",
       "<circle clip-path=\"url(#clip332)\" style=\"fill:#009af9; stroke:none; fill-opacity:0\" cx=\"924.576\" cy=\"931.976\" r=\"2\"/>\n",
       "<circle clip-path=\"url(#clip332)\" style=\"fill:#009af9; stroke:none; fill-opacity:0\" cx=\"999.323\" cy=\"724.034\" r=\"2\"/>\n",
       "<circle clip-path=\"url(#clip332)\" style=\"fill:#009af9; stroke:none; fill-opacity:0\" cx=\"1074.07\" cy=\"467.165\" r=\"2\"/>\n",
       "<circle clip-path=\"url(#clip332)\" style=\"fill:#009af9; stroke:none; fill-opacity:0\" cx=\"1148.82\" cy=\"161.368\" r=\"2\"/>\n",
       "<circle clip-path=\"url(#clip332)\" style=\"fill:#009af9; stroke:none; fill-opacity:0\" cx=\"1223.57\" cy=\"406.005\" r=\"2\"/>\n",
       "<circle clip-path=\"url(#clip332)\" style=\"fill:#009af9; stroke:none; fill-opacity:0\" cx=\"1298.31\" cy=\"87.9763\" r=\"2\"/>\n",
       "<circle clip-path=\"url(#clip332)\" style=\"fill:#009af9; stroke:none; fill-opacity:0\" cx=\"1373.06\" cy=\"210.295\" r=\"2\"/>\n",
       "<circle clip-path=\"url(#clip332)\" style=\"fill:#009af9; stroke:none; fill-opacity:0\" cx=\"1447.81\" cy=\"406.005\" r=\"2\"/>\n",
       "<circle clip-path=\"url(#clip332)\" style=\"fill:#009af9; stroke:none; fill-opacity:0\" cx=\"1522.55\" cy=\"552.788\" r=\"2\"/>\n",
       "<circle clip-path=\"url(#clip332)\" style=\"fill:#009af9; stroke:none; fill-opacity:0\" cx=\"1597.3\" cy=\"760.73\" r=\"2\"/>\n",
       "<circle clip-path=\"url(#clip332)\" style=\"fill:#009af9; stroke:none; fill-opacity:0\" cx=\"1672.05\" cy=\"1066.53\" r=\"2\"/>\n",
       "<circle clip-path=\"url(#clip332)\" style=\"fill:#009af9; stroke:none; fill-opacity:0\" cx=\"1746.8\" cy=\"1213.31\" r=\"2\"/>\n",
       "<circle clip-path=\"url(#clip332)\" style=\"fill:#009af9; stroke:none; fill-opacity:0\" cx=\"1821.54\" cy=\"1176.61\" r=\"2\"/>\n",
       "<circle clip-path=\"url(#clip332)\" style=\"fill:#009af9; stroke:none; fill-opacity:0\" cx=\"1896.29\" cy=\"1274.47\" r=\"2\"/>\n",
       "<circle clip-path=\"url(#clip332)\" style=\"fill:#009af9; stroke:none; fill-opacity:0\" cx=\"1971.04\" cy=\"1433.48\" r=\"2\"/>\n",
       "<circle clip-path=\"url(#clip332)\" style=\"fill:#009af9; stroke:none; fill-opacity:0\" cx=\"2045.78\" cy=\"1372.32\" r=\"2\"/>\n",
       "<circle clip-path=\"url(#clip332)\" style=\"fill:#009af9; stroke:none; fill-opacity:0\" cx=\"2120.53\" cy=\"1433.48\" r=\"2\"/>\n",
       "<circle clip-path=\"url(#clip332)\" style=\"fill:#009af9; stroke:none; fill-opacity:0\" cx=\"2195.28\" cy=\"1433.48\" r=\"2\"/>\n",
       "<path clip-path=\"url(#clip330)\" d=\"M2009.17 198.898 L2279.97 198.898 L2279.97 95.2176 L2009.17 95.2176  Z\" fill=\"#ffffff\" fill-rule=\"evenodd\" fill-opacity=\"1\"/>\n",
       "<polyline clip-path=\"url(#clip330)\" style=\"stroke:#000000; stroke-linecap:round; stroke-linejoin:round; stroke-width:4; stroke-opacity:1; fill:none\" points=\"2009.17,198.898 2279.97,198.898 2279.97,95.2176 2009.17,95.2176 2009.17,198.898 \"/>\n",
       "<path clip-path=\"url(#clip330)\" d=\"M2033.44 167.794 L2179.01 167.794 L2179.01 126.322 L2033.44 126.322 L2033.44 167.794  Z\" fill=\"#009af9\" fill-rule=\"evenodd\" fill-opacity=\"1\"/>\n",
       "<polyline clip-path=\"url(#clip330)\" style=\"stroke:#000000; stroke-linecap:round; stroke-linejoin:round; stroke-width:4; stroke-opacity:1; fill:none\" points=\"2033.44,167.794 2179.01,167.794 2179.01,126.322 2033.44,126.322 2033.44,167.794 \"/>\n",
       "<path clip-path=\"url(#clip330)\" d=\"M2217.12 166.745 Q2215.31 171.375 2213.6 172.787 Q2211.89 174.199 2209.02 174.199 L2205.61 174.199 L2205.61 170.634 L2208.11 170.634 Q2209.87 170.634 2210.84 169.8 Q2211.82 168.967 2213 165.865 L2213.76 163.921 L2203.28 138.412 L2207.79 138.412 L2215.89 158.689 L2223.99 138.412 L2228.51 138.412 L2217.12 166.745 Z\" fill=\"#000000\" fill-rule=\"evenodd\" fill-opacity=\"1\" /><path clip-path=\"url(#clip330)\" d=\"M2235.8 160.402 L2243.44 160.402 L2243.44 134.037 L2235.13 135.703 L2235.13 131.444 L2243.39 129.778 L2248.07 129.778 L2248.07 160.402 L2255.71 160.402 L2255.71 164.338 L2235.8 164.338 L2235.8 160.402 Z\" fill=\"#000000\" fill-rule=\"evenodd\" fill-opacity=\"1\" /></svg>\n"
      ]
     },
     "execution_count": 10,
     "metadata": {},
     "output_type": "execute_result"
    }
   ],
   "source": [
    "histogram(normal_sample)"
   ]
  },
  {
   "cell_type": "markdown",
   "id": "acf09989",
   "metadata": {},
   "source": [
    "### 3.3\n",
    "\n",
    "#### Plot  the same distribution and change the bins to 50"
   ]
  },
  {
   "cell_type": "code",
   "execution_count": 11,
   "id": "f640420a",
   "metadata": {},
   "outputs": [
    {
     "data": {
      "image/svg+xml": [
       "<?xml version=\"1.0\" encoding=\"utf-8\"?>\n",
       "<svg xmlns=\"http://www.w3.org/2000/svg\" xmlns:xlink=\"http://www.w3.org/1999/xlink\" width=\"600\" height=\"400\" viewBox=\"0 0 2400 1600\">\n",
       "<defs>\n",
       "  <clipPath id=\"clip370\">\n",
       "    <rect x=\"0\" y=\"0\" width=\"2400\" height=\"1600\"/>\n",
       "  </clipPath>\n",
       "</defs>\n",
       "<path clip-path=\"url(#clip370)\" d=\"M0 1600 L2400 1600 L2400 0 L0 0  Z\" fill=\"#ffffff\" fill-rule=\"evenodd\" fill-opacity=\"1\"/>\n",
       "<defs>\n",
       "  <clipPath id=\"clip371\">\n",
       "    <rect x=\"480\" y=\"0\" width=\"1681\" height=\"1600\"/>\n",
       "  </clipPath>\n",
       "</defs>\n",
       "<path clip-path=\"url(#clip370)\" d=\"M169.121 1486.45 L2352.76 1486.45 L2352.76 47.2441 L169.121 47.2441  Z\" fill=\"#ffffff\" fill-rule=\"evenodd\" fill-opacity=\"1\"/>\n",
       "<defs>\n",
       "  <clipPath id=\"clip372\">\n",
       "    <rect x=\"169\" y=\"47\" width=\"2185\" height=\"1440\"/>\n",
       "  </clipPath>\n",
       "</defs>\n",
       "<polyline clip-path=\"url(#clip372)\" style=\"stroke:#000000; stroke-linecap:round; stroke-linejoin:round; stroke-width:2; stroke-opacity:0.1; fill:none\" points=\"513.467,1486.45 513.467,47.2441 \"/>\n",
       "<polyline clip-path=\"url(#clip372)\" style=\"stroke:#000000; stroke-linecap:round; stroke-linejoin:round; stroke-width:2; stroke-opacity:0.1; fill:none\" points=\"887.203,1486.45 887.203,47.2441 \"/>\n",
       "<polyline clip-path=\"url(#clip372)\" style=\"stroke:#000000; stroke-linecap:round; stroke-linejoin:round; stroke-width:2; stroke-opacity:0.1; fill:none\" points=\"1260.94,1486.45 1260.94,47.2441 \"/>\n",
       "<polyline clip-path=\"url(#clip372)\" style=\"stroke:#000000; stroke-linecap:round; stroke-linejoin:round; stroke-width:2; stroke-opacity:0.1; fill:none\" points=\"1634.67,1486.45 1634.67,47.2441 \"/>\n",
       "<polyline clip-path=\"url(#clip372)\" style=\"stroke:#000000; stroke-linecap:round; stroke-linejoin:round; stroke-width:2; stroke-opacity:0.1; fill:none\" points=\"2008.41,1486.45 2008.41,47.2441 \"/>\n",
       "<polyline clip-path=\"url(#clip370)\" style=\"stroke:#000000; stroke-linecap:round; stroke-linejoin:round; stroke-width:4; stroke-opacity:1; fill:none\" points=\"169.121,1486.45 2352.76,1486.45 \"/>\n",
       "<polyline clip-path=\"url(#clip370)\" style=\"stroke:#000000; stroke-linecap:round; stroke-linejoin:round; stroke-width:4; stroke-opacity:1; fill:none\" points=\"513.467,1486.45 513.467,1467.55 \"/>\n",
       "<polyline clip-path=\"url(#clip370)\" style=\"stroke:#000000; stroke-linecap:round; stroke-linejoin:round; stroke-width:4; stroke-opacity:1; fill:none\" points=\"887.203,1486.45 887.203,1467.55 \"/>\n",
       "<polyline clip-path=\"url(#clip370)\" style=\"stroke:#000000; stroke-linecap:round; stroke-linejoin:round; stroke-width:4; stroke-opacity:1; fill:none\" points=\"1260.94,1486.45 1260.94,1467.55 \"/>\n",
       "<polyline clip-path=\"url(#clip370)\" style=\"stroke:#000000; stroke-linecap:round; stroke-linejoin:round; stroke-width:4; stroke-opacity:1; fill:none\" points=\"1634.67,1486.45 1634.67,1467.55 \"/>\n",
       "<polyline clip-path=\"url(#clip370)\" style=\"stroke:#000000; stroke-linecap:round; stroke-linejoin:round; stroke-width:4; stroke-opacity:1; fill:none\" points=\"2008.41,1486.45 2008.41,1467.55 \"/>\n",
       "<path clip-path=\"url(#clip370)\" d=\"M490.851 1517.37 Q487.24 1517.37 485.411 1520.93 Q483.606 1524.47 483.606 1531.6 Q483.606 1538.71 485.411 1542.27 Q487.24 1545.82 490.851 1545.82 Q494.485 1545.82 496.291 1542.27 Q498.12 1538.71 498.12 1531.6 Q498.12 1524.47 496.291 1520.93 Q494.485 1517.37 490.851 1517.37 M490.851 1513.66 Q496.661 1513.66 499.717 1518.27 Q502.795 1522.85 502.795 1531.6 Q502.795 1540.33 499.717 1544.94 Q496.661 1549.52 490.851 1549.52 Q485.041 1549.52 481.962 1544.94 Q478.907 1540.33 478.907 1531.6 Q478.907 1522.85 481.962 1518.27 Q485.041 1513.66 490.851 1513.66 Z\" fill=\"#000000\" fill-rule=\"evenodd\" fill-opacity=\"1\" /><path clip-path=\"url(#clip370)\" d=\"M511.013 1542.97 L515.897 1542.97 L515.897 1548.85 L511.013 1548.85 L511.013 1542.97 Z\" fill=\"#000000\" fill-rule=\"evenodd\" fill-opacity=\"1\" /><path clip-path=\"url(#clip370)\" d=\"M536.082 1517.37 Q532.471 1517.37 530.643 1520.93 Q528.837 1524.47 528.837 1531.6 Q528.837 1538.71 530.643 1542.27 Q532.471 1545.82 536.082 1545.82 Q539.717 1545.82 541.522 1542.27 Q543.351 1538.71 543.351 1531.6 Q543.351 1524.47 541.522 1520.93 Q539.717 1517.37 536.082 1517.37 M536.082 1513.66 Q541.892 1513.66 544.948 1518.27 Q548.027 1522.85 548.027 1531.6 Q548.027 1540.33 544.948 1544.94 Q541.892 1549.52 536.082 1549.52 Q530.272 1549.52 527.193 1544.94 Q524.138 1540.33 524.138 1531.6 Q524.138 1522.85 527.193 1518.27 Q530.272 1513.66 536.082 1513.66 Z\" fill=\"#000000\" fill-rule=\"evenodd\" fill-opacity=\"1\" /><path clip-path=\"url(#clip370)\" d=\"M858.939 1544.91 L875.258 1544.91 L875.258 1548.85 L853.314 1548.85 L853.314 1544.91 Q855.976 1542.16 860.559 1537.53 Q865.166 1532.88 866.346 1531.53 Q868.592 1529.01 869.471 1527.27 Q870.374 1525.51 870.374 1523.82 Q870.374 1521.07 868.43 1519.33 Q866.508 1517.6 863.406 1517.6 Q861.207 1517.6 858.754 1518.36 Q856.323 1519.13 853.545 1520.68 L853.545 1515.95 Q856.369 1514.82 858.823 1514.24 Q861.277 1513.66 863.314 1513.66 Q868.684 1513.66 871.879 1516.35 Q875.073 1519.03 875.073 1523.52 Q875.073 1525.65 874.263 1527.57 Q873.476 1529.47 871.369 1532.07 Q870.791 1532.74 867.689 1535.95 Q864.587 1539.15 858.939 1544.91 Z\" fill=\"#000000\" fill-rule=\"evenodd\" fill-opacity=\"1\" /><path clip-path=\"url(#clip370)\" d=\"M885.073 1542.97 L889.957 1542.97 L889.957 1548.85 L885.073 1548.85 L885.073 1542.97 Z\" fill=\"#000000\" fill-rule=\"evenodd\" fill-opacity=\"1\" /><path clip-path=\"url(#clip370)\" d=\"M900.189 1514.29 L918.545 1514.29 L918.545 1518.22 L904.471 1518.22 L904.471 1526.7 Q905.49 1526.35 906.508 1526.19 Q907.527 1526 908.545 1526 Q914.332 1526 917.712 1529.17 Q921.091 1532.34 921.091 1537.76 Q921.091 1543.34 917.619 1546.44 Q914.147 1549.52 907.828 1549.52 Q905.652 1549.52 903.383 1549.15 Q901.138 1548.78 898.73 1548.04 L898.73 1543.34 Q900.814 1544.47 903.036 1545.03 Q905.258 1545.58 907.735 1545.58 Q911.74 1545.58 914.078 1543.48 Q916.415 1541.37 916.415 1537.76 Q916.415 1534.15 914.078 1532.04 Q911.74 1529.94 907.735 1529.94 Q905.86 1529.94 903.985 1530.35 Q902.133 1530.77 900.189 1531.65 L900.189 1514.29 Z\" fill=\"#000000\" fill-rule=\"evenodd\" fill-opacity=\"1\" /><path clip-path=\"url(#clip370)\" d=\"M1228.1 1514.29 L1246.46 1514.29 L1246.46 1518.22 L1232.39 1518.22 L1232.39 1526.7 Q1233.4 1526.35 1234.42 1526.19 Q1235.44 1526 1236.46 1526 Q1242.25 1526 1245.63 1529.17 Q1249.01 1532.34 1249.01 1537.76 Q1249.01 1543.34 1245.53 1546.44 Q1242.06 1549.52 1235.74 1549.52 Q1233.57 1549.52 1231.3 1549.15 Q1229.05 1548.78 1226.64 1548.04 L1226.64 1543.34 Q1228.73 1544.47 1230.95 1545.03 Q1233.17 1545.58 1235.65 1545.58 Q1239.65 1545.58 1241.99 1543.48 Q1244.33 1541.37 1244.33 1537.76 Q1244.33 1534.15 1241.99 1532.04 Q1239.65 1529.94 1235.65 1529.94 Q1233.77 1529.94 1231.9 1530.35 Q1230.05 1530.77 1228.1 1531.65 L1228.1 1514.29 Z\" fill=\"#000000\" fill-rule=\"evenodd\" fill-opacity=\"1\" /><path clip-path=\"url(#clip370)\" d=\"M1258.22 1542.97 L1263.1 1542.97 L1263.1 1548.85 L1258.22 1548.85 L1258.22 1542.97 Z\" fill=\"#000000\" fill-rule=\"evenodd\" fill-opacity=\"1\" /><path clip-path=\"url(#clip370)\" d=\"M1283.29 1517.37 Q1279.68 1517.37 1277.85 1520.93 Q1276.04 1524.47 1276.04 1531.6 Q1276.04 1538.71 1277.85 1542.27 Q1279.68 1545.82 1283.29 1545.82 Q1286.92 1545.82 1288.73 1542.27 Q1290.56 1538.71 1290.56 1531.6 Q1290.56 1524.47 1288.73 1520.93 Q1286.92 1517.37 1283.29 1517.37 M1283.29 1513.66 Q1289.1 1513.66 1292.15 1518.27 Q1295.23 1522.85 1295.23 1531.6 Q1295.23 1540.33 1292.15 1544.94 Q1289.1 1549.52 1283.29 1549.52 Q1277.48 1549.52 1274.4 1544.94 Q1271.34 1540.33 1271.34 1531.6 Q1271.34 1522.85 1274.4 1518.27 Q1277.48 1513.66 1283.29 1513.66 Z\" fill=\"#000000\" fill-rule=\"evenodd\" fill-opacity=\"1\" /><path clip-path=\"url(#clip370)\" d=\"M1600.99 1514.29 L1623.22 1514.29 L1623.22 1516.28 L1610.67 1548.85 L1605.79 1548.85 L1617.59 1518.22 L1600.99 1518.22 L1600.99 1514.29 Z\" fill=\"#000000\" fill-rule=\"evenodd\" fill-opacity=\"1\" /><path clip-path=\"url(#clip370)\" d=\"M1632.34 1542.97 L1637.22 1542.97 L1637.22 1548.85 L1632.34 1548.85 L1632.34 1542.97 Z\" fill=\"#000000\" fill-rule=\"evenodd\" fill-opacity=\"1\" /><path clip-path=\"url(#clip370)\" d=\"M1647.45 1514.29 L1665.81 1514.29 L1665.81 1518.22 L1651.73 1518.22 L1651.73 1526.7 Q1652.75 1526.35 1653.77 1526.19 Q1654.79 1526 1655.81 1526 Q1661.6 1526 1664.98 1529.17 Q1668.35 1532.34 1668.35 1537.76 Q1668.35 1543.34 1664.88 1546.44 Q1661.41 1549.52 1655.09 1549.52 Q1652.92 1549.52 1650.65 1549.15 Q1648.4 1548.78 1645.99 1548.04 L1645.99 1543.34 Q1648.08 1544.47 1650.3 1545.03 Q1652.52 1545.58 1655 1545.58 Q1659 1545.58 1661.34 1543.48 Q1663.68 1541.37 1663.68 1537.76 Q1663.68 1534.15 1661.34 1532.04 Q1659 1529.94 1655 1529.94 Q1653.12 1529.94 1651.25 1530.35 Q1649.4 1530.77 1647.45 1531.65 L1647.45 1514.29 Z\" fill=\"#000000\" fill-rule=\"evenodd\" fill-opacity=\"1\" /><path clip-path=\"url(#clip370)\" d=\"M1960.48 1544.91 L1968.12 1544.91 L1968.12 1518.55 L1959.81 1520.21 L1959.81 1515.95 L1968.08 1514.29 L1972.75 1514.29 L1972.75 1544.91 L1980.39 1544.91 L1980.39 1548.85 L1960.48 1548.85 L1960.48 1544.91 Z\" fill=\"#000000\" fill-rule=\"evenodd\" fill-opacity=\"1\" /><path clip-path=\"url(#clip370)\" d=\"M1999.83 1517.37 Q1996.22 1517.37 1994.39 1520.93 Q1992.59 1524.47 1992.59 1531.6 Q1992.59 1538.71 1994.39 1542.27 Q1996.22 1545.82 1999.83 1545.82 Q2003.47 1545.82 2005.27 1542.27 Q2007.1 1538.71 2007.1 1531.6 Q2007.1 1524.47 2005.27 1520.93 Q2003.47 1517.37 1999.83 1517.37 M1999.83 1513.66 Q2005.64 1513.66 2008.7 1518.27 Q2011.78 1522.85 2011.78 1531.6 Q2011.78 1540.33 2008.7 1544.94 Q2005.64 1549.52 1999.83 1549.52 Q1994.02 1549.52 1990.95 1544.94 Q1987.89 1540.33 1987.89 1531.6 Q1987.89 1522.85 1990.95 1518.27 Q1994.02 1513.66 1999.83 1513.66 Z\" fill=\"#000000\" fill-rule=\"evenodd\" fill-opacity=\"1\" /><path clip-path=\"url(#clip370)\" d=\"M2020 1542.97 L2024.88 1542.97 L2024.88 1548.85 L2020 1548.85 L2020 1542.97 Z\" fill=\"#000000\" fill-rule=\"evenodd\" fill-opacity=\"1\" /><path clip-path=\"url(#clip370)\" d=\"M2045.07 1517.37 Q2041.45 1517.37 2039.63 1520.93 Q2037.82 1524.47 2037.82 1531.6 Q2037.82 1538.71 2039.63 1542.27 Q2041.45 1545.82 2045.07 1545.82 Q2048.7 1545.82 2050.51 1542.27 Q2052.33 1538.71 2052.33 1531.6 Q2052.33 1524.47 2050.51 1520.93 Q2048.7 1517.37 2045.07 1517.37 M2045.07 1513.66 Q2050.88 1513.66 2053.93 1518.27 Q2057.01 1522.85 2057.01 1531.6 Q2057.01 1540.33 2053.93 1544.94 Q2050.88 1549.52 2045.07 1549.52 Q2039.26 1549.52 2036.18 1544.94 Q2033.12 1540.33 2033.12 1531.6 Q2033.12 1522.85 2036.18 1518.27 Q2039.26 1513.66 2045.07 1513.66 Z\" fill=\"#000000\" fill-rule=\"evenodd\" fill-opacity=\"1\" /><polyline clip-path=\"url(#clip372)\" style=\"stroke:#000000; stroke-linecap:round; stroke-linejoin:round; stroke-width:2; stroke-opacity:0.1; fill:none\" points=\"169.121,1445.72 2352.76,1445.72 \"/>\n",
       "<polyline clip-path=\"url(#clip372)\" style=\"stroke:#000000; stroke-linecap:round; stroke-linejoin:round; stroke-width:2; stroke-opacity:0.1; fill:none\" points=\"169.121,1139.92 2352.76,1139.92 \"/>\n",
       "<polyline clip-path=\"url(#clip372)\" style=\"stroke:#000000; stroke-linecap:round; stroke-linejoin:round; stroke-width:2; stroke-opacity:0.1; fill:none\" points=\"169.121,834.121 2352.76,834.121 \"/>\n",
       "<polyline clip-path=\"url(#clip372)\" style=\"stroke:#000000; stroke-linecap:round; stroke-linejoin:round; stroke-width:2; stroke-opacity:0.1; fill:none\" points=\"169.121,528.324 2352.76,528.324 \"/>\n",
       "<polyline clip-path=\"url(#clip372)\" style=\"stroke:#000000; stroke-linecap:round; stroke-linejoin:round; stroke-width:2; stroke-opacity:0.1; fill:none\" points=\"169.121,222.527 2352.76,222.527 \"/>\n",
       "<polyline clip-path=\"url(#clip370)\" style=\"stroke:#000000; stroke-linecap:round; stroke-linejoin:round; stroke-width:4; stroke-opacity:1; fill:none\" points=\"169.121,1486.45 169.121,47.2441 \"/>\n",
       "<polyline clip-path=\"url(#clip370)\" style=\"stroke:#000000; stroke-linecap:round; stroke-linejoin:round; stroke-width:4; stroke-opacity:1; fill:none\" points=\"169.121,1445.72 188.019,1445.72 \"/>\n",
       "<polyline clip-path=\"url(#clip370)\" style=\"stroke:#000000; stroke-linecap:round; stroke-linejoin:round; stroke-width:4; stroke-opacity:1; fill:none\" points=\"169.121,1139.92 188.019,1139.92 \"/>\n",
       "<polyline clip-path=\"url(#clip370)\" style=\"stroke:#000000; stroke-linecap:round; stroke-linejoin:round; stroke-width:4; stroke-opacity:1; fill:none\" points=\"169.121,834.121 188.019,834.121 \"/>\n",
       "<polyline clip-path=\"url(#clip370)\" style=\"stroke:#000000; stroke-linecap:round; stroke-linejoin:round; stroke-width:4; stroke-opacity:1; fill:none\" points=\"169.121,528.324 188.019,528.324 \"/>\n",
       "<polyline clip-path=\"url(#clip370)\" style=\"stroke:#000000; stroke-linecap:round; stroke-linejoin:round; stroke-width:4; stroke-opacity:1; fill:none\" points=\"169.121,222.527 188.019,222.527 \"/>\n",
       "<path clip-path=\"url(#clip370)\" d=\"M121.177 1431.51 Q117.566 1431.51 115.737 1435.08 Q113.932 1438.62 113.932 1445.75 Q113.932 1452.86 115.737 1456.42 Q117.566 1459.96 121.177 1459.96 Q124.811 1459.96 126.617 1456.42 Q128.445 1452.86 128.445 1445.75 Q128.445 1438.62 126.617 1435.08 Q124.811 1431.51 121.177 1431.51 M121.177 1427.81 Q126.987 1427.81 130.043 1432.42 Q133.121 1437 133.121 1445.75 Q133.121 1454.48 130.043 1459.08 Q126.987 1463.67 121.177 1463.67 Q115.367 1463.67 112.288 1459.08 Q109.233 1454.48 109.233 1445.75 Q109.233 1437 112.288 1432.42 Q115.367 1427.81 121.177 1427.81 Z\" fill=\"#000000\" fill-rule=\"evenodd\" fill-opacity=\"1\" /><path clip-path=\"url(#clip370)\" d=\"M86.0382 1153.26 L102.358 1153.26 L102.358 1157.2 L80.4133 1157.2 L80.4133 1153.26 Q83.0753 1150.51 87.6586 1145.88 Q92.2651 1141.23 93.4456 1139.88 Q95.691 1137.36 96.5706 1135.62 Q97.4734 1133.87 97.4734 1132.18 Q97.4734 1129.42 95.5289 1127.68 Q93.6076 1125.95 90.5058 1125.95 Q88.3067 1125.95 85.8531 1126.71 Q83.4225 1127.48 80.6447 1129.03 L80.6447 1124.31 Q83.4688 1123.17 85.9225 1122.59 Q88.3762 1122.01 90.4132 1122.01 Q95.7836 1122.01 98.978 1124.7 Q102.172 1127.38 102.172 1131.87 Q102.172 1134 101.362 1135.93 Q100.575 1137.82 98.4687 1140.42 Q97.89 1141.09 94.7882 1144.31 Q91.6864 1147.5 86.0382 1153.26 Z\" fill=\"#000000\" fill-rule=\"evenodd\" fill-opacity=\"1\" /><path clip-path=\"url(#clip370)\" d=\"M112.219 1122.64 L130.575 1122.64 L130.575 1126.57 L116.501 1126.57 L116.501 1135.05 Q117.52 1134.7 118.538 1134.54 Q119.557 1134.35 120.575 1134.35 Q126.362 1134.35 129.742 1137.52 Q133.121 1140.69 133.121 1146.11 Q133.121 1151.69 129.649 1154.79 Q126.177 1157.87 119.857 1157.87 Q117.682 1157.87 115.413 1157.5 Q113.168 1157.13 110.76 1156.39 L110.76 1151.69 Q112.844 1152.82 115.066 1153.38 Q117.288 1153.93 119.765 1153.93 Q123.77 1153.93 126.107 1151.83 Q128.445 1149.72 128.445 1146.11 Q128.445 1142.5 126.107 1140.39 Q123.77 1138.29 119.765 1138.29 Q117.89 1138.29 116.015 1138.7 Q114.163 1139.12 112.219 1140 L112.219 1122.64 Z\" fill=\"#000000\" fill-rule=\"evenodd\" fill-opacity=\"1\" /><path clip-path=\"url(#clip370)\" d=\"M81.0614 816.841 L99.4178 816.841 L99.4178 820.777 L85.3438 820.777 L85.3438 829.249 Q86.3623 828.901 87.3808 828.739 Q88.3993 828.554 89.4178 828.554 Q95.2049 828.554 98.5845 831.726 Q101.964 834.897 101.964 840.313 Q101.964 845.892 98.4919 848.994 Q95.0197 852.073 88.7003 852.073 Q86.5243 852.073 84.2558 851.702 Q82.0105 851.332 79.6031 850.591 L79.6031 845.892 Q81.6864 847.026 83.9086 847.582 Q86.1308 848.137 88.6077 848.137 Q92.6123 848.137 94.9502 846.031 Q97.2882 843.925 97.2882 840.313 Q97.2882 836.702 94.9502 834.596 Q92.6123 832.489 88.6077 832.489 Q86.7327 832.489 84.8577 832.906 Q83.0058 833.323 81.0614 834.202 L81.0614 816.841 Z\" fill=\"#000000\" fill-rule=\"evenodd\" fill-opacity=\"1\" /><path clip-path=\"url(#clip370)\" d=\"M121.177 819.92 Q117.566 819.92 115.737 823.485 Q113.932 827.026 113.932 834.156 Q113.932 841.263 115.737 844.827 Q117.566 848.369 121.177 848.369 Q124.811 848.369 126.617 844.827 Q128.445 841.263 128.445 834.156 Q128.445 827.026 126.617 823.485 Q124.811 819.92 121.177 819.92 M121.177 816.216 Q126.987 816.216 130.043 820.823 Q133.121 825.406 133.121 834.156 Q133.121 842.883 130.043 847.489 Q126.987 852.073 121.177 852.073 Q115.367 852.073 112.288 847.489 Q109.233 842.883 109.233 834.156 Q109.233 825.406 112.288 820.823 Q115.367 816.216 121.177 816.216 Z\" fill=\"#000000\" fill-rule=\"evenodd\" fill-opacity=\"1\" /><path clip-path=\"url(#clip370)\" d=\"M80.8299 511.044 L103.052 511.044 L103.052 513.035 L90.5058 545.604 L85.6216 545.604 L97.4271 514.979 L80.8299 514.979 L80.8299 511.044 Z\" fill=\"#000000\" fill-rule=\"evenodd\" fill-opacity=\"1\" /><path clip-path=\"url(#clip370)\" d=\"M112.219 511.044 L130.575 511.044 L130.575 514.979 L116.501 514.979 L116.501 523.452 Q117.52 523.104 118.538 522.942 Q119.557 522.757 120.575 522.757 Q126.362 522.757 129.742 525.928 Q133.121 529.1 133.121 534.516 Q133.121 540.095 129.649 543.197 Q126.177 546.275 119.857 546.275 Q117.682 546.275 115.413 545.905 Q113.168 545.535 110.76 544.794 L110.76 540.095 Q112.844 541.229 115.066 541.785 Q117.288 542.34 119.765 542.34 Q123.77 542.34 126.107 540.234 Q128.445 538.127 128.445 534.516 Q128.445 530.905 126.107 528.799 Q123.77 526.692 119.765 526.692 Q117.89 526.692 116.015 527.109 Q114.163 527.526 112.219 528.405 L112.219 511.044 Z\" fill=\"#000000\" fill-rule=\"evenodd\" fill-opacity=\"1\" /><path clip-path=\"url(#clip370)\" d=\"M51.6634 235.872 L59.3023 235.872 L59.3023 209.506 L50.9921 211.173 L50.9921 206.914 L59.256 205.247 L63.9319 205.247 L63.9319 235.872 L71.5707 235.872 L71.5707 239.807 L51.6634 239.807 L51.6634 235.872 Z\" fill=\"#000000\" fill-rule=\"evenodd\" fill-opacity=\"1\" /><path clip-path=\"url(#clip370)\" d=\"M91.0151 208.326 Q87.404 208.326 85.5753 211.891 Q83.7697 215.432 83.7697 222.562 Q83.7697 229.668 85.5753 233.233 Q87.404 236.775 91.0151 236.775 Q94.6493 236.775 96.4548 233.233 Q98.2835 229.668 98.2835 222.562 Q98.2835 215.432 96.4548 211.891 Q94.6493 208.326 91.0151 208.326 M91.0151 204.622 Q96.8252 204.622 99.8808 209.228 Q102.959 213.812 102.959 222.562 Q102.959 231.289 99.8808 235.895 Q96.8252 240.478 91.0151 240.478 Q85.2049 240.478 82.1262 235.895 Q79.0707 231.289 79.0707 222.562 Q79.0707 213.812 82.1262 209.228 Q85.2049 204.622 91.0151 204.622 Z\" fill=\"#000000\" fill-rule=\"evenodd\" fill-opacity=\"1\" /><path clip-path=\"url(#clip370)\" d=\"M121.177 208.326 Q117.566 208.326 115.737 211.891 Q113.932 215.432 113.932 222.562 Q113.932 229.668 115.737 233.233 Q117.566 236.775 121.177 236.775 Q124.811 236.775 126.617 233.233 Q128.445 229.668 128.445 222.562 Q128.445 215.432 126.617 211.891 Q124.811 208.326 121.177 208.326 M121.177 204.622 Q126.987 204.622 130.043 209.228 Q133.121 213.812 133.121 222.562 Q133.121 231.289 130.043 235.895 Q126.987 240.478 121.177 240.478 Q115.367 240.478 112.288 235.895 Q109.233 231.289 109.233 222.562 Q109.233 213.812 112.288 209.228 Q115.367 204.622 121.177 204.622 Z\" fill=\"#000000\" fill-rule=\"evenodd\" fill-opacity=\"1\" /><path clip-path=\"url(#clip372)\" d=\"M289.225 1433.48 L289.225 1445.72 L363.972 1445.72 L363.972 1433.48 L289.225 1433.48 L289.225 1433.48  Z\" fill=\"#009af9\" fill-rule=\"evenodd\" fill-opacity=\"1\"/>\n",
       "<polyline clip-path=\"url(#clip372)\" style=\"stroke:#000000; stroke-linecap:round; stroke-linejoin:round; stroke-width:4; stroke-opacity:1; fill:none\" points=\"289.225,1433.48 289.225,1445.72 363.972,1445.72 363.972,1433.48 289.225,1433.48 \"/>\n",
       "<path clip-path=\"url(#clip372)\" d=\"M363.972 1421.25 L363.972 1445.72 L438.719 1445.72 L438.719 1421.25 L363.972 1421.25 L363.972 1421.25  Z\" fill=\"#009af9\" fill-rule=\"evenodd\" fill-opacity=\"1\"/>\n",
       "<polyline clip-path=\"url(#clip372)\" style=\"stroke:#000000; stroke-linecap:round; stroke-linejoin:round; stroke-width:4; stroke-opacity:1; fill:none\" points=\"363.972,1421.25 363.972,1445.72 438.719,1445.72 438.719,1421.25 363.972,1421.25 \"/>\n",
       "<path clip-path=\"url(#clip372)\" d=\"M438.719 1384.56 L438.719 1445.72 L513.467 1445.72 L513.467 1384.56 L438.719 1384.56 L438.719 1384.56  Z\" fill=\"#009af9\" fill-rule=\"evenodd\" fill-opacity=\"1\"/>\n",
       "<polyline clip-path=\"url(#clip372)\" style=\"stroke:#000000; stroke-linecap:round; stroke-linejoin:round; stroke-width:4; stroke-opacity:1; fill:none\" points=\"438.719,1384.56 438.719,1445.72 513.467,1445.72 513.467,1384.56 438.719,1384.56 \"/>\n",
       "<path clip-path=\"url(#clip372)\" d=\"M513.467 1360.09 L513.467 1445.72 L588.214 1445.72 L588.214 1360.09 L513.467 1360.09 L513.467 1360.09  Z\" fill=\"#009af9\" fill-rule=\"evenodd\" fill-opacity=\"1\"/>\n",
       "<polyline clip-path=\"url(#clip372)\" style=\"stroke:#000000; stroke-linecap:round; stroke-linejoin:round; stroke-width:4; stroke-opacity:1; fill:none\" points=\"513.467,1360.09 513.467,1445.72 588.214,1445.72 588.214,1360.09 513.467,1360.09 \"/>\n",
       "<path clip-path=\"url(#clip372)\" d=\"M588.214 1335.63 L588.214 1445.72 L662.961 1445.72 L662.961 1335.63 L588.214 1335.63 L588.214 1335.63  Z\" fill=\"#009af9\" fill-rule=\"evenodd\" fill-opacity=\"1\"/>\n",
       "<polyline clip-path=\"url(#clip372)\" style=\"stroke:#000000; stroke-linecap:round; stroke-linejoin:round; stroke-width:4; stroke-opacity:1; fill:none\" points=\"588.214,1335.63 588.214,1445.72 662.961,1445.72 662.961,1335.63 588.214,1335.63 \"/>\n",
       "<path clip-path=\"url(#clip372)\" d=\"M662.961 1213.31 L662.961 1445.72 L737.708 1445.72 L737.708 1213.31 L662.961 1213.31 L662.961 1213.31  Z\" fill=\"#009af9\" fill-rule=\"evenodd\" fill-opacity=\"1\"/>\n",
       "<polyline clip-path=\"url(#clip372)\" style=\"stroke:#000000; stroke-linecap:round; stroke-linejoin:round; stroke-width:4; stroke-opacity:1; fill:none\" points=\"662.961,1213.31 662.961,1445.72 737.708,1445.72 737.708,1213.31 662.961,1213.31 \"/>\n",
       "<path clip-path=\"url(#clip372)\" d=\"M737.708 1115.45 L737.708 1445.72 L812.455 1445.72 L812.455 1115.45 L737.708 1115.45 L737.708 1115.45  Z\" fill=\"#009af9\" fill-rule=\"evenodd\" fill-opacity=\"1\"/>\n",
       "<polyline clip-path=\"url(#clip372)\" style=\"stroke:#000000; stroke-linecap:round; stroke-linejoin:round; stroke-width:4; stroke-opacity:1; fill:none\" points=\"737.708,1115.45 737.708,1445.72 812.455,1445.72 812.455,1115.45 737.708,1115.45 \"/>\n",
       "<path clip-path=\"url(#clip372)\" d=\"M812.455 980.904 L812.455 1445.72 L887.203 1445.72 L887.203 980.904 L812.455 980.904 L812.455 980.904  Z\" fill=\"#009af9\" fill-rule=\"evenodd\" fill-opacity=\"1\"/>\n",
       "<polyline clip-path=\"url(#clip372)\" style=\"stroke:#000000; stroke-linecap:round; stroke-linejoin:round; stroke-width:4; stroke-opacity:1; fill:none\" points=\"812.455,980.904 812.455,1445.72 887.203,1445.72 887.203,980.904 812.455,980.904 \"/>\n",
       "<path clip-path=\"url(#clip372)\" d=\"M887.203 931.976 L887.203 1445.72 L961.95 1445.72 L961.95 931.976 L887.203 931.976 L887.203 931.976  Z\" fill=\"#009af9\" fill-rule=\"evenodd\" fill-opacity=\"1\"/>\n",
       "<polyline clip-path=\"url(#clip372)\" style=\"stroke:#000000; stroke-linecap:round; stroke-linejoin:round; stroke-width:4; stroke-opacity:1; fill:none\" points=\"887.203,931.976 887.203,1445.72 961.95,1445.72 961.95,931.976 887.203,931.976 \"/>\n",
       "<path clip-path=\"url(#clip372)\" d=\"M961.95 724.034 L961.95 1445.72 L1036.7 1445.72 L1036.7 724.034 L961.95 724.034 L961.95 724.034  Z\" fill=\"#009af9\" fill-rule=\"evenodd\" fill-opacity=\"1\"/>\n",
       "<polyline clip-path=\"url(#clip372)\" style=\"stroke:#000000; stroke-linecap:round; stroke-linejoin:round; stroke-width:4; stroke-opacity:1; fill:none\" points=\"961.95,724.034 961.95,1445.72 1036.7,1445.72 1036.7,724.034 961.95,724.034 \"/>\n",
       "<path clip-path=\"url(#clip372)\" d=\"M1036.7 467.165 L1036.7 1445.72 L1111.44 1445.72 L1111.44 467.165 L1036.7 467.165 L1036.7 467.165  Z\" fill=\"#009af9\" fill-rule=\"evenodd\" fill-opacity=\"1\"/>\n",
       "<polyline clip-path=\"url(#clip372)\" style=\"stroke:#000000; stroke-linecap:round; stroke-linejoin:round; stroke-width:4; stroke-opacity:1; fill:none\" points=\"1036.7,467.165 1036.7,1445.72 1111.44,1445.72 1111.44,467.165 1036.7,467.165 \"/>\n",
       "<path clip-path=\"url(#clip372)\" d=\"M1111.44 161.368 L1111.44 1445.72 L1186.19 1445.72 L1186.19 161.368 L1111.44 161.368 L1111.44 161.368  Z\" fill=\"#009af9\" fill-rule=\"evenodd\" fill-opacity=\"1\"/>\n",
       "<polyline clip-path=\"url(#clip372)\" style=\"stroke:#000000; stroke-linecap:round; stroke-linejoin:round; stroke-width:4; stroke-opacity:1; fill:none\" points=\"1111.44,161.368 1111.44,1445.72 1186.19,1445.72 1186.19,161.368 1111.44,161.368 \"/>\n",
       "<path clip-path=\"url(#clip372)\" d=\"M1186.19 406.005 L1186.19 1445.72 L1260.94 1445.72 L1260.94 406.005 L1186.19 406.005 L1186.19 406.005  Z\" fill=\"#009af9\" fill-rule=\"evenodd\" fill-opacity=\"1\"/>\n",
       "<polyline clip-path=\"url(#clip372)\" style=\"stroke:#000000; stroke-linecap:round; stroke-linejoin:round; stroke-width:4; stroke-opacity:1; fill:none\" points=\"1186.19,406.005 1186.19,1445.72 1260.94,1445.72 1260.94,406.005 1186.19,406.005 \"/>\n",
       "<path clip-path=\"url(#clip372)\" d=\"M1260.94 87.9763 L1260.94 1445.72 L1335.69 1445.72 L1335.69 87.9763 L1260.94 87.9763 L1260.94 87.9763  Z\" fill=\"#009af9\" fill-rule=\"evenodd\" fill-opacity=\"1\"/>\n",
       "<polyline clip-path=\"url(#clip372)\" style=\"stroke:#000000; stroke-linecap:round; stroke-linejoin:round; stroke-width:4; stroke-opacity:1; fill:none\" points=\"1260.94,87.9763 1260.94,1445.72 1335.69,1445.72 1335.69,87.9763 1260.94,87.9763 \"/>\n",
       "<path clip-path=\"url(#clip372)\" d=\"M1335.69 210.295 L1335.69 1445.72 L1410.43 1445.72 L1410.43 210.295 L1335.69 210.295 L1335.69 210.295  Z\" fill=\"#009af9\" fill-rule=\"evenodd\" fill-opacity=\"1\"/>\n",
       "<polyline clip-path=\"url(#clip372)\" style=\"stroke:#000000; stroke-linecap:round; stroke-linejoin:round; stroke-width:4; stroke-opacity:1; fill:none\" points=\"1335.69,210.295 1335.69,1445.72 1410.43,1445.72 1410.43,210.295 1335.69,210.295 \"/>\n",
       "<path clip-path=\"url(#clip372)\" d=\"M1410.43 406.005 L1410.43 1445.72 L1485.18 1445.72 L1485.18 406.005 L1410.43 406.005 L1410.43 406.005  Z\" fill=\"#009af9\" fill-rule=\"evenodd\" fill-opacity=\"1\"/>\n",
       "<polyline clip-path=\"url(#clip372)\" style=\"stroke:#000000; stroke-linecap:round; stroke-linejoin:round; stroke-width:4; stroke-opacity:1; fill:none\" points=\"1410.43,406.005 1410.43,1445.72 1485.18,1445.72 1485.18,406.005 1410.43,406.005 \"/>\n",
       "<path clip-path=\"url(#clip372)\" d=\"M1485.18 552.788 L1485.18 1445.72 L1559.93 1445.72 L1559.93 552.788 L1485.18 552.788 L1485.18 552.788  Z\" fill=\"#009af9\" fill-rule=\"evenodd\" fill-opacity=\"1\"/>\n",
       "<polyline clip-path=\"url(#clip372)\" style=\"stroke:#000000; stroke-linecap:round; stroke-linejoin:round; stroke-width:4; stroke-opacity:1; fill:none\" points=\"1485.18,552.788 1485.18,1445.72 1559.93,1445.72 1559.93,552.788 1485.18,552.788 \"/>\n",
       "<path clip-path=\"url(#clip372)\" d=\"M1559.93 760.73 L1559.93 1445.72 L1634.67 1445.72 L1634.67 760.73 L1559.93 760.73 L1559.93 760.73  Z\" fill=\"#009af9\" fill-rule=\"evenodd\" fill-opacity=\"1\"/>\n",
       "<polyline clip-path=\"url(#clip372)\" style=\"stroke:#000000; stroke-linecap:round; stroke-linejoin:round; stroke-width:4; stroke-opacity:1; fill:none\" points=\"1559.93,760.73 1559.93,1445.72 1634.67,1445.72 1634.67,760.73 1559.93,760.73 \"/>\n",
       "<path clip-path=\"url(#clip372)\" d=\"M1634.67 1066.53 L1634.67 1445.72 L1709.42 1445.72 L1709.42 1066.53 L1634.67 1066.53 L1634.67 1066.53  Z\" fill=\"#009af9\" fill-rule=\"evenodd\" fill-opacity=\"1\"/>\n",
       "<polyline clip-path=\"url(#clip372)\" style=\"stroke:#000000; stroke-linecap:round; stroke-linejoin:round; stroke-width:4; stroke-opacity:1; fill:none\" points=\"1634.67,1066.53 1634.67,1445.72 1709.42,1445.72 1709.42,1066.53 1634.67,1066.53 \"/>\n",
       "<path clip-path=\"url(#clip372)\" d=\"M1709.42 1213.31 L1709.42 1445.72 L1784.17 1445.72 L1784.17 1213.31 L1709.42 1213.31 L1709.42 1213.31  Z\" fill=\"#009af9\" fill-rule=\"evenodd\" fill-opacity=\"1\"/>\n",
       "<polyline clip-path=\"url(#clip372)\" style=\"stroke:#000000; stroke-linecap:round; stroke-linejoin:round; stroke-width:4; stroke-opacity:1; fill:none\" points=\"1709.42,1213.31 1709.42,1445.72 1784.17,1445.72 1784.17,1213.31 1709.42,1213.31 \"/>\n",
       "<path clip-path=\"url(#clip372)\" d=\"M1784.17 1176.61 L1784.17 1445.72 L1858.92 1445.72 L1858.92 1176.61 L1784.17 1176.61 L1784.17 1176.61  Z\" fill=\"#009af9\" fill-rule=\"evenodd\" fill-opacity=\"1\"/>\n",
       "<polyline clip-path=\"url(#clip372)\" style=\"stroke:#000000; stroke-linecap:round; stroke-linejoin:round; stroke-width:4; stroke-opacity:1; fill:none\" points=\"1784.17,1176.61 1784.17,1445.72 1858.92,1445.72 1858.92,1176.61 1784.17,1176.61 \"/>\n",
       "<path clip-path=\"url(#clip372)\" d=\"M1858.92 1274.47 L1858.92 1445.72 L1933.66 1445.72 L1933.66 1274.47 L1858.92 1274.47 L1858.92 1274.47  Z\" fill=\"#009af9\" fill-rule=\"evenodd\" fill-opacity=\"1\"/>\n",
       "<polyline clip-path=\"url(#clip372)\" style=\"stroke:#000000; stroke-linecap:round; stroke-linejoin:round; stroke-width:4; stroke-opacity:1; fill:none\" points=\"1858.92,1274.47 1858.92,1445.72 1933.66,1445.72 1933.66,1274.47 1858.92,1274.47 \"/>\n",
       "<path clip-path=\"url(#clip372)\" d=\"M1933.66 1433.48 L1933.66 1445.72 L2008.41 1445.72 L2008.41 1433.48 L1933.66 1433.48 L1933.66 1433.48  Z\" fill=\"#009af9\" fill-rule=\"evenodd\" fill-opacity=\"1\"/>\n",
       "<polyline clip-path=\"url(#clip372)\" style=\"stroke:#000000; stroke-linecap:round; stroke-linejoin:round; stroke-width:4; stroke-opacity:1; fill:none\" points=\"1933.66,1433.48 1933.66,1445.72 2008.41,1445.72 2008.41,1433.48 1933.66,1433.48 \"/>\n",
       "<path clip-path=\"url(#clip372)\" d=\"M2008.41 1372.32 L2008.41 1445.72 L2083.16 1445.72 L2083.16 1372.32 L2008.41 1372.32 L2008.41 1372.32  Z\" fill=\"#009af9\" fill-rule=\"evenodd\" fill-opacity=\"1\"/>\n",
       "<polyline clip-path=\"url(#clip372)\" style=\"stroke:#000000; stroke-linecap:round; stroke-linejoin:round; stroke-width:4; stroke-opacity:1; fill:none\" points=\"2008.41,1372.32 2008.41,1445.72 2083.16,1445.72 2083.16,1372.32 2008.41,1372.32 \"/>\n",
       "<path clip-path=\"url(#clip372)\" d=\"M2083.16 1433.48 L2083.16 1445.72 L2157.9 1445.72 L2157.9 1433.48 L2083.16 1433.48 L2083.16 1433.48  Z\" fill=\"#009af9\" fill-rule=\"evenodd\" fill-opacity=\"1\"/>\n",
       "<polyline clip-path=\"url(#clip372)\" style=\"stroke:#000000; stroke-linecap:round; stroke-linejoin:round; stroke-width:4; stroke-opacity:1; fill:none\" points=\"2083.16,1433.48 2083.16,1445.72 2157.9,1445.72 2157.9,1433.48 2083.16,1433.48 \"/>\n",
       "<path clip-path=\"url(#clip372)\" d=\"M2157.9 1433.48 L2157.9 1445.72 L2232.65 1445.72 L2232.65 1433.48 L2157.9 1433.48 L2157.9 1433.48  Z\" fill=\"#009af9\" fill-rule=\"evenodd\" fill-opacity=\"1\"/>\n",
       "<polyline clip-path=\"url(#clip372)\" style=\"stroke:#000000; stroke-linecap:round; stroke-linejoin:round; stroke-width:4; stroke-opacity:1; fill:none\" points=\"2157.9,1433.48 2157.9,1445.72 2232.65,1445.72 2232.65,1433.48 2157.9,1433.48 \"/>\n",
       "<circle clip-path=\"url(#clip372)\" style=\"fill:#009af9; stroke:none; fill-opacity:0\" cx=\"326.599\" cy=\"1433.48\" r=\"2\"/>\n",
       "<circle clip-path=\"url(#clip372)\" style=\"fill:#009af9; stroke:none; fill-opacity:0\" cx=\"401.346\" cy=\"1421.25\" r=\"2\"/>\n",
       "<circle clip-path=\"url(#clip372)\" style=\"fill:#009af9; stroke:none; fill-opacity:0\" cx=\"476.093\" cy=\"1384.56\" r=\"2\"/>\n",
       "<circle clip-path=\"url(#clip372)\" style=\"fill:#009af9; stroke:none; fill-opacity:0\" cx=\"550.84\" cy=\"1360.09\" r=\"2\"/>\n",
       "<circle clip-path=\"url(#clip372)\" style=\"fill:#009af9; stroke:none; fill-opacity:0\" cx=\"625.587\" cy=\"1335.63\" r=\"2\"/>\n",
       "<circle clip-path=\"url(#clip372)\" style=\"fill:#009af9; stroke:none; fill-opacity:0\" cx=\"700.335\" cy=\"1213.31\" r=\"2\"/>\n",
       "<circle clip-path=\"url(#clip372)\" style=\"fill:#009af9; stroke:none; fill-opacity:0\" cx=\"775.082\" cy=\"1115.45\" r=\"2\"/>\n",
       "<circle clip-path=\"url(#clip372)\" style=\"fill:#009af9; stroke:none; fill-opacity:0\" cx=\"849.829\" cy=\"980.904\" r=\"2\"/>\n",
       "<circle clip-path=\"url(#clip372)\" style=\"fill:#009af9; stroke:none; fill-opacity:0\" cx=\"924.576\" cy=\"931.976\" r=\"2\"/>\n",
       "<circle clip-path=\"url(#clip372)\" style=\"fill:#009af9; stroke:none; fill-opacity:0\" cx=\"999.323\" cy=\"724.034\" r=\"2\"/>\n",
       "<circle clip-path=\"url(#clip372)\" style=\"fill:#009af9; stroke:none; fill-opacity:0\" cx=\"1074.07\" cy=\"467.165\" r=\"2\"/>\n",
       "<circle clip-path=\"url(#clip372)\" style=\"fill:#009af9; stroke:none; fill-opacity:0\" cx=\"1148.82\" cy=\"161.368\" r=\"2\"/>\n",
       "<circle clip-path=\"url(#clip372)\" style=\"fill:#009af9; stroke:none; fill-opacity:0\" cx=\"1223.57\" cy=\"406.005\" r=\"2\"/>\n",
       "<circle clip-path=\"url(#clip372)\" style=\"fill:#009af9; stroke:none; fill-opacity:0\" cx=\"1298.31\" cy=\"87.9763\" r=\"2\"/>\n",
       "<circle clip-path=\"url(#clip372)\" style=\"fill:#009af9; stroke:none; fill-opacity:0\" cx=\"1373.06\" cy=\"210.295\" r=\"2\"/>\n",
       "<circle clip-path=\"url(#clip372)\" style=\"fill:#009af9; stroke:none; fill-opacity:0\" cx=\"1447.81\" cy=\"406.005\" r=\"2\"/>\n",
       "<circle clip-path=\"url(#clip372)\" style=\"fill:#009af9; stroke:none; fill-opacity:0\" cx=\"1522.55\" cy=\"552.788\" r=\"2\"/>\n",
       "<circle clip-path=\"url(#clip372)\" style=\"fill:#009af9; stroke:none; fill-opacity:0\" cx=\"1597.3\" cy=\"760.73\" r=\"2\"/>\n",
       "<circle clip-path=\"url(#clip372)\" style=\"fill:#009af9; stroke:none; fill-opacity:0\" cx=\"1672.05\" cy=\"1066.53\" r=\"2\"/>\n",
       "<circle clip-path=\"url(#clip372)\" style=\"fill:#009af9; stroke:none; fill-opacity:0\" cx=\"1746.8\" cy=\"1213.31\" r=\"2\"/>\n",
       "<circle clip-path=\"url(#clip372)\" style=\"fill:#009af9; stroke:none; fill-opacity:0\" cx=\"1821.54\" cy=\"1176.61\" r=\"2\"/>\n",
       "<circle clip-path=\"url(#clip372)\" style=\"fill:#009af9; stroke:none; fill-opacity:0\" cx=\"1896.29\" cy=\"1274.47\" r=\"2\"/>\n",
       "<circle clip-path=\"url(#clip372)\" style=\"fill:#009af9; stroke:none; fill-opacity:0\" cx=\"1971.04\" cy=\"1433.48\" r=\"2\"/>\n",
       "<circle clip-path=\"url(#clip372)\" style=\"fill:#009af9; stroke:none; fill-opacity:0\" cx=\"2045.78\" cy=\"1372.32\" r=\"2\"/>\n",
       "<circle clip-path=\"url(#clip372)\" style=\"fill:#009af9; stroke:none; fill-opacity:0\" cx=\"2120.53\" cy=\"1433.48\" r=\"2\"/>\n",
       "<circle clip-path=\"url(#clip372)\" style=\"fill:#009af9; stroke:none; fill-opacity:0\" cx=\"2195.28\" cy=\"1433.48\" r=\"2\"/>\n",
       "<path clip-path=\"url(#clip370)\" d=\"M2009.17 198.898 L2279.97 198.898 L2279.97 95.2176 L2009.17 95.2176  Z\" fill=\"#ffffff\" fill-rule=\"evenodd\" fill-opacity=\"1\"/>\n",
       "<polyline clip-path=\"url(#clip370)\" style=\"stroke:#000000; stroke-linecap:round; stroke-linejoin:round; stroke-width:4; stroke-opacity:1; fill:none\" points=\"2009.17,198.898 2279.97,198.898 2279.97,95.2176 2009.17,95.2176 2009.17,198.898 \"/>\n",
       "<path clip-path=\"url(#clip370)\" d=\"M2033.44 167.794 L2179.01 167.794 L2179.01 126.322 L2033.44 126.322 L2033.44 167.794  Z\" fill=\"#009af9\" fill-rule=\"evenodd\" fill-opacity=\"1\"/>\n",
       "<polyline clip-path=\"url(#clip370)\" style=\"stroke:#000000; stroke-linecap:round; stroke-linejoin:round; stroke-width:4; stroke-opacity:1; fill:none\" points=\"2033.44,167.794 2179.01,167.794 2179.01,126.322 2033.44,126.322 2033.44,167.794 \"/>\n",
       "<path clip-path=\"url(#clip370)\" d=\"M2217.12 166.745 Q2215.31 171.375 2213.6 172.787 Q2211.89 174.199 2209.02 174.199 L2205.61 174.199 L2205.61 170.634 L2208.11 170.634 Q2209.87 170.634 2210.84 169.8 Q2211.82 168.967 2213 165.865 L2213.76 163.921 L2203.28 138.412 L2207.79 138.412 L2215.89 158.689 L2223.99 138.412 L2228.51 138.412 L2217.12 166.745 Z\" fill=\"#000000\" fill-rule=\"evenodd\" fill-opacity=\"1\" /><path clip-path=\"url(#clip370)\" d=\"M2235.8 160.402 L2243.44 160.402 L2243.44 134.037 L2235.13 135.703 L2235.13 131.444 L2243.39 129.778 L2248.07 129.778 L2248.07 160.402 L2255.71 160.402 L2255.71 164.338 L2235.8 164.338 L2235.8 160.402 Z\" fill=\"#000000\" fill-rule=\"evenodd\" fill-opacity=\"1\" /></svg>\n"
      ]
     },
     "execution_count": 11,
     "metadata": {},
     "output_type": "execute_result"
    }
   ],
   "source": [
    "histogram(normal_sample, bins=50)"
   ]
  },
  {
   "cell_type": "markdown",
   "id": "ad6cbc35",
   "metadata": {},
   "source": [
    "### 3.4 \n",
    "\n",
    "#### Choose a distribution other than normal distribution, Describe what it represents, and draw 1000 samples from the distribution and plot it using parameters of your choice"
   ]
  },
  {
   "cell_type": "markdown",
   "id": "6df4cb7e",
   "metadata": {},
   "source": [
    "Which distribution do you pick: Binomial "
   ]
  },
  {
   "cell_type": "markdown",
   "id": "7ea6f75c",
   "metadata": {},
   "source": [
    "What does the distribution represent? The discrete probability distribution of the number of successes in a sequence of n independent experiments"
   ]
  },
  {
   "cell_type": "code",
   "execution_count": 17,
   "id": "22a00c51",
   "metadata": {},
   "outputs": [],
   "source": [
    "b = Binomial(10, 0.8)\n",
    "binomial_sample = rand(b,1000);"
   ]
  },
  {
   "cell_type": "markdown",
   "id": "9d56bbd5",
   "metadata": {},
   "source": [
    "### 3.5\n",
    "\n",
    "#### Plot  the two distributions in the same plot"
   ]
  },
  {
   "cell_type": "code",
   "execution_count": 18,
   "id": "447aeb72",
   "metadata": {},
   "outputs": [
    {
     "data": {
      "image/svg+xml": [
       "<?xml version=\"1.0\" encoding=\"utf-8\"?>\n",
       "<svg xmlns=\"http://www.w3.org/2000/svg\" xmlns:xlink=\"http://www.w3.org/1999/xlink\" width=\"600\" height=\"400\" viewBox=\"0 0 2400 1600\">\n",
       "<defs>\n",
       "  <clipPath id=\"clip530\">\n",
       "    <rect x=\"0\" y=\"0\" width=\"2400\" height=\"1600\"/>\n",
       "  </clipPath>\n",
       "</defs>\n",
       "<path clip-path=\"url(#clip530)\" d=\"M0 1600 L2400 1600 L2400 0 L0 0  Z\" fill=\"#ffffff\" fill-rule=\"evenodd\" fill-opacity=\"1\"/>\n",
       "<defs>\n",
       "  <clipPath id=\"clip531\">\n",
       "    <rect x=\"480\" y=\"0\" width=\"1681\" height=\"1600\"/>\n",
       "  </clipPath>\n",
       "</defs>\n",
       "<path clip-path=\"url(#clip530)\" d=\"M170.857 1486.45 L2352.76 1486.45 L2352.76 47.2441 L170.857 47.2441  Z\" fill=\"#ffffff\" fill-rule=\"evenodd\" fill-opacity=\"1\"/>\n",
       "<defs>\n",
       "  <clipPath id=\"clip532\">\n",
       "    <rect x=\"170\" y=\"47\" width=\"2183\" height=\"1440\"/>\n",
       "  </clipPath>\n",
       "</defs>\n",
       "<polyline clip-path=\"url(#clip532)\" style=\"stroke:#000000; stroke-linecap:round; stroke-linejoin:round; stroke-width:2; stroke-opacity:0.1; fill:none\" points=\"290.866,1486.45 290.866,47.2441 \"/>\n",
       "<polyline clip-path=\"url(#clip532)\" style=\"stroke:#000000; stroke-linecap:round; stroke-linejoin:round; stroke-width:2; stroke-opacity:0.1; fill:none\" points=\"589.617,1486.45 589.617,47.2441 \"/>\n",
       "<polyline clip-path=\"url(#clip532)\" style=\"stroke:#000000; stroke-linecap:round; stroke-linejoin:round; stroke-width:2; stroke-opacity:0.1; fill:none\" points=\"888.368,1486.45 888.368,47.2441 \"/>\n",
       "<polyline clip-path=\"url(#clip532)\" style=\"stroke:#000000; stroke-linecap:round; stroke-linejoin:round; stroke-width:2; stroke-opacity:0.1; fill:none\" points=\"1187.12,1486.45 1187.12,47.2441 \"/>\n",
       "<polyline clip-path=\"url(#clip532)\" style=\"stroke:#000000; stroke-linecap:round; stroke-linejoin:round; stroke-width:2; stroke-opacity:0.1; fill:none\" points=\"1485.87,1486.45 1485.87,47.2441 \"/>\n",
       "<polyline clip-path=\"url(#clip532)\" style=\"stroke:#000000; stroke-linecap:round; stroke-linejoin:round; stroke-width:2; stroke-opacity:0.1; fill:none\" points=\"1784.62,1486.45 1784.62,47.2441 \"/>\n",
       "<polyline clip-path=\"url(#clip532)\" style=\"stroke:#000000; stroke-linecap:round; stroke-linejoin:round; stroke-width:2; stroke-opacity:0.1; fill:none\" points=\"2083.37,1486.45 2083.37,47.2441 \"/>\n",
       "<polyline clip-path=\"url(#clip530)\" style=\"stroke:#000000; stroke-linecap:round; stroke-linejoin:round; stroke-width:4; stroke-opacity:1; fill:none\" points=\"170.857,1486.45 2352.76,1486.45 \"/>\n",
       "<polyline clip-path=\"url(#clip530)\" style=\"stroke:#000000; stroke-linecap:round; stroke-linejoin:round; stroke-width:4; stroke-opacity:1; fill:none\" points=\"290.866,1486.45 290.866,1467.55 \"/>\n",
       "<polyline clip-path=\"url(#clip530)\" style=\"stroke:#000000; stroke-linecap:round; stroke-linejoin:round; stroke-width:4; stroke-opacity:1; fill:none\" points=\"589.617,1486.45 589.617,1467.55 \"/>\n",
       "<polyline clip-path=\"url(#clip530)\" style=\"stroke:#000000; stroke-linecap:round; stroke-linejoin:round; stroke-width:4; stroke-opacity:1; fill:none\" points=\"888.368,1486.45 888.368,1467.55 \"/>\n",
       "<polyline clip-path=\"url(#clip530)\" style=\"stroke:#000000; stroke-linecap:round; stroke-linejoin:round; stroke-width:4; stroke-opacity:1; fill:none\" points=\"1187.12,1486.45 1187.12,1467.55 \"/>\n",
       "<polyline clip-path=\"url(#clip530)\" style=\"stroke:#000000; stroke-linecap:round; stroke-linejoin:round; stroke-width:4; stroke-opacity:1; fill:none\" points=\"1485.87,1486.45 1485.87,1467.55 \"/>\n",
       "<polyline clip-path=\"url(#clip530)\" style=\"stroke:#000000; stroke-linecap:round; stroke-linejoin:round; stroke-width:4; stroke-opacity:1; fill:none\" points=\"1784.62,1486.45 1784.62,1467.55 \"/>\n",
       "<polyline clip-path=\"url(#clip530)\" style=\"stroke:#000000; stroke-linecap:round; stroke-linejoin:round; stroke-width:4; stroke-opacity:1; fill:none\" points=\"2083.37,1486.45 2083.37,1467.55 \"/>\n",
       "<path clip-path=\"url(#clip530)\" d=\"M293.875 1518.36 L282.069 1536.81 L293.875 1536.81 L293.875 1518.36 M292.648 1514.29 L298.528 1514.29 L298.528 1536.81 L303.458 1536.81 L303.458 1540.7 L298.528 1540.7 L298.528 1548.85 L293.875 1548.85 L293.875 1540.7 L278.273 1540.7 L278.273 1536.19 L292.648 1514.29 Z\" fill=\"#000000\" fill-rule=\"evenodd\" fill-opacity=\"1\" /><path clip-path=\"url(#clip530)\" d=\"M579.895 1514.29 L598.251 1514.29 L598.251 1518.22 L584.177 1518.22 L584.177 1526.7 Q585.196 1526.35 586.214 1526.19 Q587.233 1526 588.251 1526 Q594.038 1526 597.418 1529.17 Q600.797 1532.34 600.797 1537.76 Q600.797 1543.34 597.325 1546.44 Q593.853 1549.52 587.533 1549.52 Q585.358 1549.52 583.089 1549.15 Q580.844 1548.78 578.436 1548.04 L578.436 1543.34 Q580.52 1544.47 582.742 1545.03 Q584.964 1545.58 587.441 1545.58 Q591.445 1545.58 593.783 1543.48 Q596.121 1541.37 596.121 1537.76 Q596.121 1534.15 593.783 1532.04 Q591.445 1529.94 587.441 1529.94 Q585.566 1529.94 583.691 1530.35 Q581.839 1530.77 579.895 1531.65 L579.895 1514.29 Z\" fill=\"#000000\" fill-rule=\"evenodd\" fill-opacity=\"1\" /><path clip-path=\"url(#clip530)\" d=\"M888.773 1529.7 Q885.625 1529.7 883.773 1531.86 Q881.944 1534.01 881.944 1537.76 Q881.944 1541.49 883.773 1543.66 Q885.625 1545.82 888.773 1545.82 Q891.921 1545.82 893.75 1543.66 Q895.602 1541.49 895.602 1537.76 Q895.602 1534.01 893.75 1531.86 Q891.921 1529.7 888.773 1529.7 M898.055 1515.05 L898.055 1519.31 Q896.296 1518.48 894.49 1518.04 Q892.708 1517.6 890.949 1517.6 Q886.319 1517.6 883.866 1520.72 Q881.435 1523.85 881.088 1530.17 Q882.454 1528.15 884.514 1527.09 Q886.574 1526 889.051 1526 Q894.259 1526 897.268 1529.17 Q900.301 1532.32 900.301 1537.76 Q900.301 1543.08 897.153 1546.3 Q894.004 1549.52 888.773 1549.52 Q882.778 1549.52 879.606 1544.94 Q876.435 1540.33 876.435 1531.6 Q876.435 1523.41 880.324 1518.55 Q884.213 1513.66 890.764 1513.66 Q892.523 1513.66 894.305 1514.01 Q896.111 1514.36 898.055 1515.05 Z\" fill=\"#000000\" fill-rule=\"evenodd\" fill-opacity=\"1\" /><path clip-path=\"url(#clip530)\" d=\"M1176.01 1514.29 L1198.23 1514.29 L1198.23 1516.28 L1185.68 1548.85 L1180.8 1548.85 L1192.6 1518.22 L1176.01 1518.22 L1176.01 1514.29 Z\" fill=\"#000000\" fill-rule=\"evenodd\" fill-opacity=\"1\" /><path clip-path=\"url(#clip530)\" d=\"M1485.87 1532.44 Q1482.54 1532.44 1480.62 1534.22 Q1478.72 1536 1478.72 1539.13 Q1478.72 1542.25 1480.62 1544.03 Q1482.54 1545.82 1485.87 1545.82 Q1489.2 1545.82 1491.12 1544.03 Q1493.05 1542.23 1493.05 1539.13 Q1493.05 1536 1491.12 1534.22 Q1489.23 1532.44 1485.87 1532.44 M1481.19 1530.45 Q1478.18 1529.7 1476.5 1527.64 Q1474.83 1525.58 1474.83 1522.62 Q1474.83 1518.48 1477.77 1516.07 Q1480.73 1513.66 1485.87 1513.66 Q1491.03 1513.66 1493.97 1516.07 Q1496.91 1518.48 1496.91 1522.62 Q1496.91 1525.58 1495.22 1527.64 Q1493.56 1529.7 1490.57 1530.45 Q1493.95 1531.23 1495.82 1533.52 Q1497.72 1535.82 1497.72 1539.13 Q1497.72 1544.15 1494.64 1546.83 Q1491.59 1549.52 1485.87 1549.52 Q1480.15 1549.52 1477.07 1546.83 Q1474.02 1544.15 1474.02 1539.13 Q1474.02 1535.82 1475.92 1533.52 Q1477.81 1531.23 1481.19 1530.45 M1479.48 1523.06 Q1479.48 1525.75 1481.15 1527.25 Q1482.84 1528.76 1485.87 1528.76 Q1488.88 1528.76 1490.57 1527.25 Q1492.28 1525.75 1492.28 1523.06 Q1492.28 1520.38 1490.57 1518.87 Q1488.88 1517.37 1485.87 1517.37 Q1482.84 1517.37 1481.15 1518.87 Q1479.48 1520.38 1479.48 1523.06 Z\" fill=\"#000000\" fill-rule=\"evenodd\" fill-opacity=\"1\" /><path clip-path=\"url(#clip530)\" d=\"M1774.92 1548.13 L1774.92 1543.87 Q1776.68 1544.7 1778.49 1545.14 Q1780.29 1545.58 1782.03 1545.58 Q1786.66 1545.58 1789.09 1542.48 Q1791.54 1539.36 1791.89 1533.01 Q1790.55 1535.01 1788.49 1536.07 Q1786.43 1537.13 1783.93 1537.13 Q1778.74 1537.13 1775.71 1534.01 Q1772.7 1530.86 1772.7 1525.42 Q1772.7 1520.1 1775.85 1516.88 Q1779 1513.66 1784.23 1513.66 Q1790.22 1513.66 1793.37 1518.27 Q1796.54 1522.85 1796.54 1531.6 Q1796.54 1539.77 1792.65 1544.66 Q1788.79 1549.52 1782.24 1549.52 Q1780.48 1549.52 1778.67 1549.17 Q1776.87 1548.82 1774.92 1548.13 M1784.23 1533.48 Q1787.38 1533.48 1789.2 1531.32 Q1791.06 1529.17 1791.06 1525.42 Q1791.06 1521.7 1789.2 1519.54 Q1787.38 1517.37 1784.23 1517.37 Q1781.08 1517.37 1779.23 1519.54 Q1777.4 1521.7 1777.4 1525.42 Q1777.4 1529.17 1779.23 1531.32 Q1781.08 1533.48 1784.23 1533.48 Z\" fill=\"#000000\" fill-rule=\"evenodd\" fill-opacity=\"1\" /><path clip-path=\"url(#clip530)\" d=\"M2058.06 1544.91 L2065.7 1544.91 L2065.7 1518.55 L2057.39 1520.21 L2057.39 1515.95 L2065.65 1514.29 L2070.33 1514.29 L2070.33 1544.91 L2077.97 1544.91 L2077.97 1548.85 L2058.06 1548.85 L2058.06 1544.91 Z\" fill=\"#000000\" fill-rule=\"evenodd\" fill-opacity=\"1\" /><path clip-path=\"url(#clip530)\" d=\"M2097.41 1517.37 Q2093.8 1517.37 2091.97 1520.93 Q2090.17 1524.47 2090.17 1531.6 Q2090.17 1538.71 2091.97 1542.27 Q2093.8 1545.82 2097.41 1545.82 Q2101.05 1545.82 2102.85 1542.27 Q2104.68 1538.71 2104.68 1531.6 Q2104.68 1524.47 2102.85 1520.93 Q2101.05 1517.37 2097.41 1517.37 M2097.41 1513.66 Q2103.22 1513.66 2106.28 1518.27 Q2109.36 1522.85 2109.36 1531.6 Q2109.36 1540.33 2106.28 1544.94 Q2103.22 1549.52 2097.41 1549.52 Q2091.6 1549.52 2088.52 1544.94 Q2085.47 1540.33 2085.47 1531.6 Q2085.47 1522.85 2088.52 1518.27 Q2091.6 1513.66 2097.41 1513.66 Z\" fill=\"#000000\" fill-rule=\"evenodd\" fill-opacity=\"1\" /><polyline clip-path=\"url(#clip532)\" style=\"stroke:#000000; stroke-linecap:round; stroke-linejoin:round; stroke-width:2; stroke-opacity:0.1; fill:none\" points=\"170.857,1445.72 2352.76,1445.72 \"/>\n",
       "<polyline clip-path=\"url(#clip532)\" style=\"stroke:#000000; stroke-linecap:round; stroke-linejoin:round; stroke-width:2; stroke-opacity:0.1; fill:none\" points=\"170.857,1004.89 2352.76,1004.89 \"/>\n",
       "<polyline clip-path=\"url(#clip532)\" style=\"stroke:#000000; stroke-linecap:round; stroke-linejoin:round; stroke-width:2; stroke-opacity:0.1; fill:none\" points=\"170.857,564.067 2352.76,564.067 \"/>\n",
       "<polyline clip-path=\"url(#clip532)\" style=\"stroke:#000000; stroke-linecap:round; stroke-linejoin:round; stroke-width:2; stroke-opacity:0.1; fill:none\" points=\"170.857,123.242 2352.76,123.242 \"/>\n",
       "<polyline clip-path=\"url(#clip530)\" style=\"stroke:#000000; stroke-linecap:round; stroke-linejoin:round; stroke-width:4; stroke-opacity:1; fill:none\" points=\"170.857,1486.45 170.857,47.2441 \"/>\n",
       "<polyline clip-path=\"url(#clip530)\" style=\"stroke:#000000; stroke-linecap:round; stroke-linejoin:round; stroke-width:4; stroke-opacity:1; fill:none\" points=\"170.857,1445.72 189.755,1445.72 \"/>\n",
       "<polyline clip-path=\"url(#clip530)\" style=\"stroke:#000000; stroke-linecap:round; stroke-linejoin:round; stroke-width:4; stroke-opacity:1; fill:none\" points=\"170.857,1004.89 189.755,1004.89 \"/>\n",
       "<polyline clip-path=\"url(#clip530)\" style=\"stroke:#000000; stroke-linecap:round; stroke-linejoin:round; stroke-width:4; stroke-opacity:1; fill:none\" points=\"170.857,564.067 189.755,564.067 \"/>\n",
       "<polyline clip-path=\"url(#clip530)\" style=\"stroke:#000000; stroke-linecap:round; stroke-linejoin:round; stroke-width:4; stroke-opacity:1; fill:none\" points=\"170.857,123.242 189.755,123.242 \"/>\n",
       "<path clip-path=\"url(#clip530)\" d=\"M122.913 1431.51 Q119.302 1431.51 117.473 1435.08 Q115.668 1438.62 115.668 1445.75 Q115.668 1452.86 117.473 1456.42 Q119.302 1459.96 122.913 1459.96 Q126.547 1459.96 128.353 1456.42 Q130.182 1452.86 130.182 1445.75 Q130.182 1438.62 128.353 1435.08 Q126.547 1431.51 122.913 1431.51 M122.913 1427.81 Q128.723 1427.81 131.779 1432.42 Q134.857 1437 134.857 1445.75 Q134.857 1454.48 131.779 1459.08 Q128.723 1463.67 122.913 1463.67 Q117.103 1463.67 114.024 1459.08 Q110.969 1454.48 110.969 1445.75 Q110.969 1437 114.024 1432.42 Q117.103 1427.81 122.913 1427.81 Z\" fill=\"#000000\" fill-rule=\"evenodd\" fill-opacity=\"1\" /><path clip-path=\"url(#clip530)\" d=\"M53.3995 1018.24 L61.0384 1018.24 L61.0384 991.87 L52.7282 993.537 L52.7282 989.278 L60.9921 987.611 L65.668 987.611 L65.668 1018.24 L73.3068 1018.24 L73.3068 1022.17 L53.3995 1022.17 L53.3995 1018.24 Z\" fill=\"#000000\" fill-rule=\"evenodd\" fill-opacity=\"1\" /><path clip-path=\"url(#clip530)\" d=\"M92.7512 990.69 Q89.1401 990.69 87.3114 994.255 Q85.5058 997.796 85.5058 1004.93 Q85.5058 1012.03 87.3114 1015.6 Q89.1401 1019.14 92.7512 1019.14 Q96.3854 1019.14 98.1909 1015.6 Q100.02 1012.03 100.02 1004.93 Q100.02 997.796 98.1909 994.255 Q96.3854 990.69 92.7512 990.69 M92.7512 986.986 Q98.5613 986.986 101.617 991.593 Q104.696 996.176 104.696 1004.93 Q104.696 1013.65 101.617 1018.26 Q98.5613 1022.84 92.7512 1022.84 Q86.941 1022.84 83.8623 1018.26 Q80.8068 1013.65 80.8068 1004.93 Q80.8068 996.176 83.8623 991.593 Q86.941 986.986 92.7512 986.986 Z\" fill=\"#000000\" fill-rule=\"evenodd\" fill-opacity=\"1\" /><path clip-path=\"url(#clip530)\" d=\"M122.913 990.69 Q119.302 990.69 117.473 994.255 Q115.668 997.796 115.668 1004.93 Q115.668 1012.03 117.473 1015.6 Q119.302 1019.14 122.913 1019.14 Q126.547 1019.14 128.353 1015.6 Q130.182 1012.03 130.182 1004.93 Q130.182 997.796 128.353 994.255 Q126.547 990.69 122.913 990.69 M122.913 986.986 Q128.723 986.986 131.779 991.593 Q134.857 996.176 134.857 1004.93 Q134.857 1013.65 131.779 1018.26 Q128.723 1022.84 122.913 1022.84 Q117.103 1022.84 114.024 1018.26 Q110.969 1013.65 110.969 1004.93 Q110.969 996.176 114.024 991.593 Q117.103 986.986 122.913 986.986 Z\" fill=\"#000000\" fill-rule=\"evenodd\" fill-opacity=\"1\" /><path clip-path=\"url(#clip530)\" d=\"M56.6171 577.412 L72.9365 577.412 L72.9365 581.347 L50.9921 581.347 L50.9921 577.412 Q53.6541 574.657 58.2375 570.027 Q62.8439 565.375 64.0245 564.032 Q66.2698 561.509 67.1494 559.773 Q68.0522 558.014 68.0522 556.324 Q68.0522 553.569 66.1078 551.833 Q64.1865 550.097 61.0847 550.097 Q58.8856 550.097 56.4319 550.861 Q54.0014 551.625 51.2236 553.176 L51.2236 548.453 Q54.0477 547.319 56.5014 546.74 Q58.955 546.162 60.9921 546.162 Q66.3624 546.162 69.5568 548.847 Q72.7513 551.532 72.7513 556.023 Q72.7513 558.152 71.9411 560.074 Q71.1541 561.972 69.0476 564.564 Q68.4689 565.236 65.367 568.453 Q62.2652 571.648 56.6171 577.412 Z\" fill=\"#000000\" fill-rule=\"evenodd\" fill-opacity=\"1\" /><path clip-path=\"url(#clip530)\" d=\"M92.7512 549.865 Q89.1401 549.865 87.3114 553.43 Q85.5058 556.972 85.5058 564.101 Q85.5058 571.208 87.3114 574.773 Q89.1401 578.314 92.7512 578.314 Q96.3854 578.314 98.1909 574.773 Q100.02 571.208 100.02 564.101 Q100.02 556.972 98.1909 553.43 Q96.3854 549.865 92.7512 549.865 M92.7512 546.162 Q98.5613 546.162 101.617 550.768 Q104.696 555.351 104.696 564.101 Q104.696 572.828 101.617 577.435 Q98.5613 582.018 92.7512 582.018 Q86.941 582.018 83.8623 577.435 Q80.8068 572.828 80.8068 564.101 Q80.8068 555.351 83.8623 550.768 Q86.941 546.162 92.7512 546.162 Z\" fill=\"#000000\" fill-rule=\"evenodd\" fill-opacity=\"1\" /><path clip-path=\"url(#clip530)\" d=\"M122.913 549.865 Q119.302 549.865 117.473 553.43 Q115.668 556.972 115.668 564.101 Q115.668 571.208 117.473 574.773 Q119.302 578.314 122.913 578.314 Q126.547 578.314 128.353 574.773 Q130.182 571.208 130.182 564.101 Q130.182 556.972 128.353 553.43 Q126.547 549.865 122.913 549.865 M122.913 546.162 Q128.723 546.162 131.779 550.768 Q134.857 555.351 134.857 564.101 Q134.857 572.828 131.779 577.435 Q128.723 582.018 122.913 582.018 Q117.103 582.018 114.024 577.435 Q110.969 572.828 110.969 564.101 Q110.969 555.351 114.024 550.768 Q117.103 546.162 122.913 546.162 Z\" fill=\"#000000\" fill-rule=\"evenodd\" fill-opacity=\"1\" /><path clip-path=\"url(#clip530)\" d=\"M66.7559 121.888 Q70.1124 122.606 71.9874 124.874 Q73.8855 127.143 73.8855 130.476 Q73.8855 135.592 70.367 138.393 Q66.8485 141.194 60.3671 141.194 Q58.1912 141.194 55.8764 140.754 Q53.5847 140.337 51.131 139.481 L51.131 134.967 Q53.0754 136.101 55.3903 136.68 Q57.7051 137.258 60.2282 137.258 Q64.6263 137.258 66.918 135.522 Q69.2328 133.786 69.2328 130.476 Q69.2328 127.42 67.08 125.708 Q64.9504 123.971 61.131 123.971 L57.1032 123.971 L57.1032 120.129 L61.3161 120.129 Q64.7652 120.129 66.5939 118.763 Q68.4226 117.374 68.4226 114.782 Q68.4226 112.12 66.5245 110.708 Q64.6495 109.272 61.131 109.272 Q59.2097 109.272 57.0106 109.689 Q54.8115 110.106 52.1727 110.985 L52.1727 106.819 Q54.8347 106.078 57.1495 105.708 Q59.4875 105.337 61.5476 105.337 Q66.8717 105.337 69.9735 107.768 Q73.0753 110.175 73.0753 114.296 Q73.0753 117.166 71.4318 119.157 Q69.7883 121.124 66.7559 121.888 Z\" fill=\"#000000\" fill-rule=\"evenodd\" fill-opacity=\"1\" /><path clip-path=\"url(#clip530)\" d=\"M92.7512 109.041 Q89.1401 109.041 87.3114 112.606 Q85.5058 116.147 85.5058 123.277 Q85.5058 130.383 87.3114 133.948 Q89.1401 137.49 92.7512 137.49 Q96.3854 137.49 98.1909 133.948 Q100.02 130.383 100.02 123.277 Q100.02 116.147 98.1909 112.606 Q96.3854 109.041 92.7512 109.041 M92.7512 105.337 Q98.5613 105.337 101.617 109.944 Q104.696 114.527 104.696 123.277 Q104.696 132.004 101.617 136.61 Q98.5613 141.194 92.7512 141.194 Q86.941 141.194 83.8623 136.61 Q80.8068 132.004 80.8068 123.277 Q80.8068 114.527 83.8623 109.944 Q86.941 105.337 92.7512 105.337 Z\" fill=\"#000000\" fill-rule=\"evenodd\" fill-opacity=\"1\" /><path clip-path=\"url(#clip530)\" d=\"M122.913 109.041 Q119.302 109.041 117.473 112.606 Q115.668 116.147 115.668 123.277 Q115.668 130.383 117.473 133.948 Q119.302 137.49 122.913 137.49 Q126.547 137.49 128.353 133.948 Q130.182 130.383 130.182 123.277 Q130.182 116.147 128.353 112.606 Q126.547 109.041 122.913 109.041 M122.913 105.337 Q128.723 105.337 131.779 109.944 Q134.857 114.527 134.857 123.277 Q134.857 132.004 131.779 136.61 Q128.723 141.194 122.913 141.194 Q117.103 141.194 114.024 136.61 Q110.969 132.004 110.969 123.277 Q110.969 114.527 114.024 109.944 Q117.103 105.337 122.913 105.337 Z\" fill=\"#000000\" fill-rule=\"evenodd\" fill-opacity=\"1\" /><path clip-path=\"url(#clip532)\" d=\"M290.866 1410.45 L290.866 1445.72 L440.241 1445.72 L440.241 1410.45 L290.866 1410.45 L290.866 1410.45  Z\" fill=\"#009af9\" fill-rule=\"evenodd\" fill-opacity=\"1\"/>\n",
       "<polyline clip-path=\"url(#clip532)\" style=\"stroke:#000000; stroke-linecap:round; stroke-linejoin:round; stroke-width:4; stroke-opacity:1; fill:none\" points=\"290.866,1410.45 290.866,1445.72 440.241,1445.72 440.241,1410.45 290.866,1410.45 \"/>\n",
       "<path clip-path=\"url(#clip532)\" d=\"M440.241 1445.72 L440.241 1445.72 L589.617 1445.72 L589.617 1445.72 L440.241 1445.72 L440.241 1445.72  Z\" fill=\"#009af9\" fill-rule=\"evenodd\" fill-opacity=\"1\"/>\n",
       "<polyline clip-path=\"url(#clip532)\" style=\"stroke:#000000; stroke-linecap:round; stroke-linejoin:round; stroke-width:4; stroke-opacity:1; fill:none\" points=\"440.241,1445.72 440.241,1445.72 589.617,1445.72 440.241,1445.72 \"/>\n",
       "<path clip-path=\"url(#clip532)\" d=\"M589.617 1282.61 L589.617 1445.72 L738.992 1445.72 L738.992 1282.61 L589.617 1282.61 L589.617 1282.61  Z\" fill=\"#009af9\" fill-rule=\"evenodd\" fill-opacity=\"1\"/>\n",
       "<polyline clip-path=\"url(#clip532)\" style=\"stroke:#000000; stroke-linecap:round; stroke-linejoin:round; stroke-width:4; stroke-opacity:1; fill:none\" points=\"589.617,1282.61 589.617,1445.72 738.992,1445.72 738.992,1282.61 589.617,1282.61 \"/>\n",
       "<path clip-path=\"url(#clip532)\" d=\"M738.992 1445.72 L738.992 1445.72 L888.368 1445.72 L888.368 1445.72 L738.992 1445.72 L738.992 1445.72  Z\" fill=\"#009af9\" fill-rule=\"evenodd\" fill-opacity=\"1\"/>\n",
       "<polyline clip-path=\"url(#clip532)\" style=\"stroke:#000000; stroke-linecap:round; stroke-linejoin:round; stroke-width:4; stroke-opacity:1; fill:none\" points=\"738.992,1445.72 738.992,1445.72 888.368,1445.72 738.992,1445.72 \"/>\n",
       "<path clip-path=\"url(#clip532)\" d=\"M888.368 1071.01 L888.368 1445.72 L1037.74 1445.72 L1037.74 1071.01 L888.368 1071.01 L888.368 1071.01  Z\" fill=\"#009af9\" fill-rule=\"evenodd\" fill-opacity=\"1\"/>\n",
       "<polyline clip-path=\"url(#clip532)\" style=\"stroke:#000000; stroke-linecap:round; stroke-linejoin:round; stroke-width:4; stroke-opacity:1; fill:none\" points=\"888.368,1071.01 888.368,1445.72 1037.74,1445.72 1037.74,1071.01 888.368,1071.01 \"/>\n",
       "<path clip-path=\"url(#clip532)\" d=\"M1037.74 1445.72 L1037.74 1445.72 L1187.12 1445.72 L1187.12 1445.72 L1037.74 1445.72 L1037.74 1445.72  Z\" fill=\"#009af9\" fill-rule=\"evenodd\" fill-opacity=\"1\"/>\n",
       "<polyline clip-path=\"url(#clip532)\" style=\"stroke:#000000; stroke-linecap:round; stroke-linejoin:round; stroke-width:4; stroke-opacity:1; fill:none\" points=\"1037.74,1445.72 1037.74,1445.72 1187.12,1445.72 1037.74,1445.72 \"/>\n",
       "<path clip-path=\"url(#clip532)\" d=\"M1187.12 643.415 L1187.12 1445.72 L1336.49 1445.72 L1336.49 643.415 L1187.12 643.415 L1187.12 643.415  Z\" fill=\"#009af9\" fill-rule=\"evenodd\" fill-opacity=\"1\"/>\n",
       "<polyline clip-path=\"url(#clip532)\" style=\"stroke:#000000; stroke-linecap:round; stroke-linejoin:round; stroke-width:4; stroke-opacity:1; fill:none\" points=\"1187.12,643.415 1187.12,1445.72 1336.49,1445.72 1336.49,643.415 1187.12,643.415 \"/>\n",
       "<path clip-path=\"url(#clip532)\" d=\"M1336.49 1445.72 L1336.49 1445.72 L1485.87 1445.72 L1485.87 1445.72 L1336.49 1445.72 L1336.49 1445.72  Z\" fill=\"#009af9\" fill-rule=\"evenodd\" fill-opacity=\"1\"/>\n",
       "<polyline clip-path=\"url(#clip532)\" style=\"stroke:#000000; stroke-linecap:round; stroke-linejoin:round; stroke-width:4; stroke-opacity:1; fill:none\" points=\"1336.49,1445.72 1336.49,1445.72 1485.87,1445.72 1336.49,1445.72 \"/>\n",
       "<path clip-path=\"url(#clip532)\" d=\"M1485.87 87.9763 L1485.87 1445.72 L1635.25 1445.72 L1635.25 87.9763 L1485.87 87.9763 L1485.87 87.9763  Z\" fill=\"#009af9\" fill-rule=\"evenodd\" fill-opacity=\"1\"/>\n",
       "<polyline clip-path=\"url(#clip532)\" style=\"stroke:#000000; stroke-linecap:round; stroke-linejoin:round; stroke-width:4; stroke-opacity:1; fill:none\" points=\"1485.87,87.9763 1485.87,1445.72 1635.25,1445.72 1635.25,87.9763 1485.87,87.9763 \"/>\n",
       "<path clip-path=\"url(#clip532)\" d=\"M1635.25 1445.72 L1635.25 1445.72 L1784.62 1445.72 L1784.62 1445.72 L1635.25 1445.72 L1635.25 1445.72  Z\" fill=\"#009af9\" fill-rule=\"evenodd\" fill-opacity=\"1\"/>\n",
       "<polyline clip-path=\"url(#clip532)\" style=\"stroke:#000000; stroke-linecap:round; stroke-linejoin:round; stroke-width:4; stroke-opacity:1; fill:none\" points=\"1635.25,1445.72 1635.25,1445.72 1784.62,1445.72 1635.25,1445.72 \"/>\n",
       "<path clip-path=\"url(#clip532)\" d=\"M1784.62 237.857 L1784.62 1445.72 L1934 1445.72 L1934 237.857 L1784.62 237.857 L1784.62 237.857  Z\" fill=\"#009af9\" fill-rule=\"evenodd\" fill-opacity=\"1\"/>\n",
       "<polyline clip-path=\"url(#clip532)\" style=\"stroke:#000000; stroke-linecap:round; stroke-linejoin:round; stroke-width:4; stroke-opacity:1; fill:none\" points=\"1784.62,237.857 1784.62,1445.72 1934,1445.72 1934,237.857 1784.62,237.857 \"/>\n",
       "<path clip-path=\"url(#clip532)\" d=\"M1934 1445.72 L1934 1445.72 L2083.37 1445.72 L2083.37 1445.72 L1934 1445.72 L1934 1445.72  Z\" fill=\"#009af9\" fill-rule=\"evenodd\" fill-opacity=\"1\"/>\n",
       "<polyline clip-path=\"url(#clip532)\" style=\"stroke:#000000; stroke-linecap:round; stroke-linejoin:round; stroke-width:4; stroke-opacity:1; fill:none\" points=\"1934,1445.72 1934,1445.72 2083.37,1445.72 1934,1445.72 \"/>\n",
       "<path clip-path=\"url(#clip532)\" d=\"M2083.37 978.442 L2083.37 1445.72 L2232.75 1445.72 L2232.75 978.442 L2083.37 978.442 L2083.37 978.442  Z\" fill=\"#009af9\" fill-rule=\"evenodd\" fill-opacity=\"1\"/>\n",
       "<polyline clip-path=\"url(#clip532)\" style=\"stroke:#000000; stroke-linecap:round; stroke-linejoin:round; stroke-width:4; stroke-opacity:1; fill:none\" points=\"2083.37,978.442 2083.37,1445.72 2232.75,1445.72 2232.75,978.442 2083.37,978.442 \"/>\n",
       "<circle clip-path=\"url(#clip532)\" style=\"fill:#009af9; stroke:none; fill-opacity:0\" cx=\"365.553\" cy=\"1410.45\" r=\"2\"/>\n",
       "<circle clip-path=\"url(#clip532)\" style=\"fill:#009af9; stroke:none; fill-opacity:0\" cx=\"514.929\" cy=\"1445.72\" r=\"2\"/>\n",
       "<circle clip-path=\"url(#clip532)\" style=\"fill:#009af9; stroke:none; fill-opacity:0\" cx=\"664.305\" cy=\"1282.61\" r=\"2\"/>\n",
       "<circle clip-path=\"url(#clip532)\" style=\"fill:#009af9; stroke:none; fill-opacity:0\" cx=\"813.68\" cy=\"1445.72\" r=\"2\"/>\n",
       "<circle clip-path=\"url(#clip532)\" style=\"fill:#009af9; stroke:none; fill-opacity:0\" cx=\"963.056\" cy=\"1071.01\" r=\"2\"/>\n",
       "<circle clip-path=\"url(#clip532)\" style=\"fill:#009af9; stroke:none; fill-opacity:0\" cx=\"1112.43\" cy=\"1445.72\" r=\"2\"/>\n",
       "<circle clip-path=\"url(#clip532)\" style=\"fill:#009af9; stroke:none; fill-opacity:0\" cx=\"1261.81\" cy=\"643.415\" r=\"2\"/>\n",
       "<circle clip-path=\"url(#clip532)\" style=\"fill:#009af9; stroke:none; fill-opacity:0\" cx=\"1411.18\" cy=\"1445.72\" r=\"2\"/>\n",
       "<circle clip-path=\"url(#clip532)\" style=\"fill:#009af9; stroke:none; fill-opacity:0\" cx=\"1560.56\" cy=\"87.9763\" r=\"2\"/>\n",
       "<circle clip-path=\"url(#clip532)\" style=\"fill:#009af9; stroke:none; fill-opacity:0\" cx=\"1709.93\" cy=\"1445.72\" r=\"2\"/>\n",
       "<circle clip-path=\"url(#clip532)\" style=\"fill:#009af9; stroke:none; fill-opacity:0\" cx=\"1859.31\" cy=\"237.857\" r=\"2\"/>\n",
       "<circle clip-path=\"url(#clip532)\" style=\"fill:#009af9; stroke:none; fill-opacity:0\" cx=\"2008.68\" cy=\"1445.72\" r=\"2\"/>\n",
       "<circle clip-path=\"url(#clip532)\" style=\"fill:#009af9; stroke:none; fill-opacity:0\" cx=\"2158.06\" cy=\"978.442\" r=\"2\"/>\n",
       "<path clip-path=\"url(#clip530)\" d=\"M243.587 198.898 L514.207 198.898 L514.207 95.2176 L243.587 95.2176  Z\" fill=\"#ffffff\" fill-rule=\"evenodd\" fill-opacity=\"1\"/>\n",
       "<polyline clip-path=\"url(#clip530)\" style=\"stroke:#000000; stroke-linecap:round; stroke-linejoin:round; stroke-width:4; stroke-opacity:1; fill:none\" points=\"243.587,198.898 514.207,198.898 514.207,95.2176 243.587,95.2176 243.587,198.898 \"/>\n",
       "<path clip-path=\"url(#clip530)\" d=\"M267.831 167.794 L413.291 167.794 L413.291 126.322 L267.831 126.322 L267.831 167.794  Z\" fill=\"#009af9\" fill-rule=\"evenodd\" fill-opacity=\"1\"/>\n",
       "<polyline clip-path=\"url(#clip530)\" style=\"stroke:#000000; stroke-linecap:round; stroke-linejoin:round; stroke-width:4; stroke-opacity:1; fill:none\" points=\"267.831,167.794 413.291,167.794 413.291,126.322 267.831,126.322 267.831,167.794 \"/>\n",
       "<path clip-path=\"url(#clip530)\" d=\"M451.376 166.745 Q449.571 171.375 447.858 172.787 Q446.145 174.199 443.275 174.199 L439.872 174.199 L439.872 170.634 L442.372 170.634 Q444.131 170.634 445.103 169.8 Q446.076 168.967 447.256 165.865 L448.02 163.921 L437.534 138.412 L442.048 138.412 L450.15 158.689 L458.251 138.412 L462.765 138.412 L451.376 166.745 Z\" fill=\"#000000\" fill-rule=\"evenodd\" fill-opacity=\"1\" /><path clip-path=\"url(#clip530)\" d=\"M470.057 160.402 L477.696 160.402 L477.696 134.037 L469.386 135.703 L469.386 131.444 L477.649 129.778 L482.325 129.778 L482.325 160.402 L489.964 160.402 L489.964 164.338 L470.057 164.338 L470.057 160.402 Z\" fill=\"#000000\" fill-rule=\"evenodd\" fill-opacity=\"1\" /></svg>\n"
      ]
     },
     "execution_count": 18,
     "metadata": {},
     "output_type": "execute_result"
    }
   ],
   "source": [
    "histogram(binomial_sample)"
   ]
  },
  {
   "cell_type": "markdown",
   "id": "b90287bd",
   "metadata": {},
   "source": [
    "### 3.6\n",
    "\n",
    "#### Draw 10000 samples from the two distributions separately and plot them in the same plot"
   ]
  },
  {
   "cell_type": "code",
   "execution_count": 19,
   "id": "98a69dd1",
   "metadata": {},
   "outputs": [
    {
     "data": {
      "image/svg+xml": [
       "<?xml version=\"1.0\" encoding=\"utf-8\"?>\n",
       "<svg xmlns=\"http://www.w3.org/2000/svg\" xmlns:xlink=\"http://www.w3.org/1999/xlink\" width=\"600\" height=\"400\" viewBox=\"0 0 2400 1600\">\n",
       "<defs>\n",
       "  <clipPath id=\"clip570\">\n",
       "    <rect x=\"0\" y=\"0\" width=\"2400\" height=\"1600\"/>\n",
       "  </clipPath>\n",
       "</defs>\n",
       "<path clip-path=\"url(#clip570)\" d=\"M0 1600 L2400 1600 L2400 0 L0 0  Z\" fill=\"#ffffff\" fill-rule=\"evenodd\" fill-opacity=\"1\"/>\n",
       "<defs>\n",
       "  <clipPath id=\"clip571\">\n",
       "    <rect x=\"480\" y=\"0\" width=\"1681\" height=\"1600\"/>\n",
       "  </clipPath>\n",
       "</defs>\n",
       "<path clip-path=\"url(#clip570)\" d=\"M201.019 1486.45 L2352.76 1486.45 L2352.76 47.2441 L201.019 47.2441  Z\" fill=\"#ffffff\" fill-rule=\"evenodd\" fill-opacity=\"1\"/>\n",
       "<defs>\n",
       "  <clipPath id=\"clip572\">\n",
       "    <rect x=\"201\" y=\"47\" width=\"2153\" height=\"1440\"/>\n",
       "  </clipPath>\n",
       "</defs>\n",
       "<polyline clip-path=\"url(#clip572)\" style=\"stroke:#000000; stroke-linecap:round; stroke-linejoin:round; stroke-width:2; stroke-opacity:0.1; fill:none\" points=\"442.919,1486.45 442.919,47.2441 \"/>\n",
       "<polyline clip-path=\"url(#clip572)\" style=\"stroke:#000000; stroke-linecap:round; stroke-linejoin:round; stroke-width:2; stroke-opacity:0.1; fill:none\" points=\"690.021,1486.45 690.021,47.2441 \"/>\n",
       "<polyline clip-path=\"url(#clip572)\" style=\"stroke:#000000; stroke-linecap:round; stroke-linejoin:round; stroke-width:2; stroke-opacity:0.1; fill:none\" points=\"937.123,1486.45 937.123,47.2441 \"/>\n",
       "<polyline clip-path=\"url(#clip572)\" style=\"stroke:#000000; stroke-linecap:round; stroke-linejoin:round; stroke-width:2; stroke-opacity:0.1; fill:none\" points=\"1184.22,1486.45 1184.22,47.2441 \"/>\n",
       "<polyline clip-path=\"url(#clip572)\" style=\"stroke:#000000; stroke-linecap:round; stroke-linejoin:round; stroke-width:2; stroke-opacity:0.1; fill:none\" points=\"1431.33,1486.45 1431.33,47.2441 \"/>\n",
       "<polyline clip-path=\"url(#clip572)\" style=\"stroke:#000000; stroke-linecap:round; stroke-linejoin:round; stroke-width:2; stroke-opacity:0.1; fill:none\" points=\"1678.43,1486.45 1678.43,47.2441 \"/>\n",
       "<polyline clip-path=\"url(#clip572)\" style=\"stroke:#000000; stroke-linecap:round; stroke-linejoin:round; stroke-width:2; stroke-opacity:0.1; fill:none\" points=\"1925.53,1486.45 1925.53,47.2441 \"/>\n",
       "<polyline clip-path=\"url(#clip572)\" style=\"stroke:#000000; stroke-linecap:round; stroke-linejoin:round; stroke-width:2; stroke-opacity:0.1; fill:none\" points=\"2172.63,1486.45 2172.63,47.2441 \"/>\n",
       "<polyline clip-path=\"url(#clip570)\" style=\"stroke:#000000; stroke-linecap:round; stroke-linejoin:round; stroke-width:4; stroke-opacity:1; fill:none\" points=\"201.019,1486.45 2352.76,1486.45 \"/>\n",
       "<polyline clip-path=\"url(#clip570)\" style=\"stroke:#000000; stroke-linecap:round; stroke-linejoin:round; stroke-width:4; stroke-opacity:1; fill:none\" points=\"442.919,1486.45 442.919,1467.55 \"/>\n",
       "<polyline clip-path=\"url(#clip570)\" style=\"stroke:#000000; stroke-linecap:round; stroke-linejoin:round; stroke-width:4; stroke-opacity:1; fill:none\" points=\"690.021,1486.45 690.021,1467.55 \"/>\n",
       "<polyline clip-path=\"url(#clip570)\" style=\"stroke:#000000; stroke-linecap:round; stroke-linejoin:round; stroke-width:4; stroke-opacity:1; fill:none\" points=\"937.123,1486.45 937.123,1467.55 \"/>\n",
       "<polyline clip-path=\"url(#clip570)\" style=\"stroke:#000000; stroke-linecap:round; stroke-linejoin:round; stroke-width:4; stroke-opacity:1; fill:none\" points=\"1184.22,1486.45 1184.22,1467.55 \"/>\n",
       "<polyline clip-path=\"url(#clip570)\" style=\"stroke:#000000; stroke-linecap:round; stroke-linejoin:round; stroke-width:4; stroke-opacity:1; fill:none\" points=\"1431.33,1486.45 1431.33,1467.55 \"/>\n",
       "<polyline clip-path=\"url(#clip570)\" style=\"stroke:#000000; stroke-linecap:round; stroke-linejoin:round; stroke-width:4; stroke-opacity:1; fill:none\" points=\"1678.43,1486.45 1678.43,1467.55 \"/>\n",
       "<polyline clip-path=\"url(#clip570)\" style=\"stroke:#000000; stroke-linecap:round; stroke-linejoin:round; stroke-width:4; stroke-opacity:1; fill:none\" points=\"1925.53,1486.45 1925.53,1467.55 \"/>\n",
       "<polyline clip-path=\"url(#clip570)\" style=\"stroke:#000000; stroke-linecap:round; stroke-linejoin:round; stroke-width:4; stroke-opacity:1; fill:none\" points=\"2172.63,1486.45 2172.63,1467.55 \"/>\n",
       "<path clip-path=\"url(#clip570)\" d=\"M412.862 1532.02 L442.538 1532.02 L442.538 1535.95 L412.862 1535.95 L412.862 1532.02 Z\" fill=\"#000000\" fill-rule=\"evenodd\" fill-opacity=\"1\" /><path clip-path=\"url(#clip570)\" d=\"M456.658 1544.91 L472.977 1544.91 L472.977 1548.85 L451.033 1548.85 L451.033 1544.91 Q453.695 1542.16 458.278 1537.53 Q462.885 1532.88 464.065 1531.53 Q466.311 1529.01 467.19 1527.27 Q468.093 1525.51 468.093 1523.82 Q468.093 1521.07 466.149 1519.33 Q464.227 1517.6 461.125 1517.6 Q458.926 1517.6 456.473 1518.36 Q454.042 1519.13 451.264 1520.68 L451.264 1515.95 Q454.088 1514.82 456.542 1514.24 Q458.996 1513.66 461.033 1513.66 Q466.403 1513.66 469.598 1516.35 Q472.792 1519.03 472.792 1523.52 Q472.792 1525.65 471.982 1527.57 Q471.195 1529.47 469.088 1532.07 Q468.51 1532.74 465.408 1535.95 Q462.306 1539.15 456.658 1544.91 Z\" fill=\"#000000\" fill-rule=\"evenodd\" fill-opacity=\"1\" /><path clip-path=\"url(#clip570)\" d=\"M690.021 1517.37 Q686.41 1517.37 684.581 1520.93 Q682.776 1524.47 682.776 1531.6 Q682.776 1538.71 684.581 1542.27 Q686.41 1545.82 690.021 1545.82 Q693.655 1545.82 695.461 1542.27 Q697.29 1538.71 697.29 1531.6 Q697.29 1524.47 695.461 1520.93 Q693.655 1517.37 690.021 1517.37 M690.021 1513.66 Q695.831 1513.66 698.887 1518.27 Q701.966 1522.85 701.966 1531.6 Q701.966 1540.33 698.887 1544.94 Q695.831 1549.52 690.021 1549.52 Q684.211 1549.52 681.132 1544.94 Q678.077 1540.33 678.077 1531.6 Q678.077 1522.85 681.132 1518.27 Q684.211 1513.66 690.021 1513.66 Z\" fill=\"#000000\" fill-rule=\"evenodd\" fill-opacity=\"1\" /><path clip-path=\"url(#clip570)\" d=\"M931.776 1544.91 L948.095 1544.91 L948.095 1548.85 L926.151 1548.85 L926.151 1544.91 Q928.813 1542.16 933.396 1537.53 Q938.002 1532.88 939.183 1531.53 Q941.428 1529.01 942.308 1527.27 Q943.211 1525.51 943.211 1523.82 Q943.211 1521.07 941.266 1519.33 Q939.345 1517.6 936.243 1517.6 Q934.044 1517.6 931.59 1518.36 Q929.16 1519.13 926.382 1520.68 L926.382 1515.95 Q929.206 1514.82 931.66 1514.24 Q934.114 1513.66 936.151 1513.66 Q941.521 1513.66 944.715 1516.35 Q947.91 1519.03 947.91 1523.52 Q947.91 1525.65 947.1 1527.57 Q946.313 1529.47 944.206 1532.07 Q943.627 1532.74 940.526 1535.95 Q937.424 1539.15 931.776 1544.91 Z\" fill=\"#000000\" fill-rule=\"evenodd\" fill-opacity=\"1\" /><path clip-path=\"url(#clip570)\" d=\"M1187.23 1518.36 L1175.43 1536.81 L1187.23 1536.81 L1187.23 1518.36 M1186.01 1514.29 L1191.89 1514.29 L1191.89 1536.81 L1196.82 1536.81 L1196.82 1540.7 L1191.89 1540.7 L1191.89 1548.85 L1187.23 1548.85 L1187.23 1540.7 L1171.63 1540.7 L1171.63 1536.19 L1186.01 1514.29 Z\" fill=\"#000000\" fill-rule=\"evenodd\" fill-opacity=\"1\" /><path clip-path=\"url(#clip570)\" d=\"M1431.73 1529.7 Q1428.58 1529.7 1426.73 1531.86 Q1424.9 1534.01 1424.9 1537.76 Q1424.9 1541.49 1426.73 1543.66 Q1428.58 1545.82 1431.73 1545.82 Q1434.88 1545.82 1436.71 1543.66 Q1438.56 1541.49 1438.56 1537.76 Q1438.56 1534.01 1436.71 1531.86 Q1434.88 1529.7 1431.73 1529.7 M1441.01 1515.05 L1441.01 1519.31 Q1439.25 1518.48 1437.45 1518.04 Q1435.67 1517.6 1433.91 1517.6 Q1429.28 1517.6 1426.82 1520.72 Q1424.39 1523.85 1424.05 1530.17 Q1425.41 1528.15 1427.47 1527.09 Q1429.53 1526 1432.01 1526 Q1437.22 1526 1440.23 1529.17 Q1443.26 1532.32 1443.26 1537.76 Q1443.26 1543.08 1440.11 1546.3 Q1436.96 1549.52 1431.73 1549.52 Q1425.74 1549.52 1422.56 1544.94 Q1419.39 1540.33 1419.39 1531.6 Q1419.39 1523.41 1423.28 1518.55 Q1427.17 1513.66 1433.72 1513.66 Q1435.48 1513.66 1437.26 1514.01 Q1439.07 1514.36 1441.01 1515.05 Z\" fill=\"#000000\" fill-rule=\"evenodd\" fill-opacity=\"1\" /><path clip-path=\"url(#clip570)\" d=\"M1678.43 1532.44 Q1675.09 1532.44 1673.17 1534.22 Q1671.28 1536 1671.28 1539.13 Q1671.28 1542.25 1673.17 1544.03 Q1675.09 1545.82 1678.43 1545.82 Q1681.76 1545.82 1683.68 1544.03 Q1685.6 1542.23 1685.6 1539.13 Q1685.6 1536 1683.68 1534.22 Q1681.78 1532.44 1678.43 1532.44 M1673.75 1530.45 Q1670.74 1529.7 1669.05 1527.64 Q1667.39 1525.58 1667.39 1522.62 Q1667.39 1518.48 1670.33 1516.07 Q1673.29 1513.66 1678.43 1513.66 Q1683.59 1513.66 1686.53 1516.07 Q1689.47 1518.48 1689.47 1522.62 Q1689.47 1525.58 1687.78 1527.64 Q1686.11 1529.7 1683.13 1530.45 Q1686.51 1531.23 1688.38 1533.52 Q1690.28 1535.82 1690.28 1539.13 Q1690.28 1544.15 1687.2 1546.83 Q1684.15 1549.52 1678.43 1549.52 Q1672.71 1549.52 1669.63 1546.83 Q1666.58 1544.15 1666.58 1539.13 Q1666.58 1535.82 1668.47 1533.52 Q1670.37 1531.23 1673.75 1530.45 M1672.04 1523.06 Q1672.04 1525.75 1673.71 1527.25 Q1675.4 1528.76 1678.43 1528.76 Q1681.44 1528.76 1683.13 1527.25 Q1684.84 1525.75 1684.84 1523.06 Q1684.84 1520.38 1683.13 1518.87 Q1681.44 1517.37 1678.43 1517.37 Q1675.4 1517.37 1673.71 1518.87 Q1672.04 1520.38 1672.04 1523.06 Z\" fill=\"#000000\" fill-rule=\"evenodd\" fill-opacity=\"1\" /><path clip-path=\"url(#clip570)\" d=\"M1900.22 1544.91 L1907.86 1544.91 L1907.86 1518.55 L1899.55 1520.21 L1899.55 1515.95 L1907.81 1514.29 L1912.49 1514.29 L1912.49 1544.91 L1920.12 1544.91 L1920.12 1548.85 L1900.22 1548.85 L1900.22 1544.91 Z\" fill=\"#000000\" fill-rule=\"evenodd\" fill-opacity=\"1\" /><path clip-path=\"url(#clip570)\" d=\"M1939.57 1517.37 Q1935.96 1517.37 1934.13 1520.93 Q1932.32 1524.47 1932.32 1531.6 Q1932.32 1538.71 1934.13 1542.27 Q1935.96 1545.82 1939.57 1545.82 Q1943.2 1545.82 1945.01 1542.27 Q1946.84 1538.71 1946.84 1531.6 Q1946.84 1524.47 1945.01 1520.93 Q1943.2 1517.37 1939.57 1517.37 M1939.57 1513.66 Q1945.38 1513.66 1948.43 1518.27 Q1951.51 1522.85 1951.51 1531.6 Q1951.51 1540.33 1948.43 1544.94 Q1945.38 1549.52 1939.57 1549.52 Q1933.76 1549.52 1930.68 1544.94 Q1927.62 1540.33 1927.62 1531.6 Q1927.62 1522.85 1930.68 1518.27 Q1933.76 1513.66 1939.57 1513.66 Z\" fill=\"#000000\" fill-rule=\"evenodd\" fill-opacity=\"1\" /><path clip-path=\"url(#clip570)\" d=\"M2148.12 1544.91 L2155.76 1544.91 L2155.76 1518.55 L2147.45 1520.21 L2147.45 1515.95 L2155.71 1514.29 L2160.39 1514.29 L2160.39 1544.91 L2168.02 1544.91 L2168.02 1548.85 L2148.12 1548.85 L2148.12 1544.91 Z\" fill=\"#000000\" fill-rule=\"evenodd\" fill-opacity=\"1\" /><path clip-path=\"url(#clip570)\" d=\"M2181.5 1544.91 L2197.82 1544.91 L2197.82 1548.85 L2175.87 1548.85 L2175.87 1544.91 Q2178.53 1542.16 2183.12 1537.53 Q2187.72 1532.88 2188.9 1531.53 Q2191.15 1529.01 2192.03 1527.27 Q2192.93 1525.51 2192.93 1523.82 Q2192.93 1521.07 2190.99 1519.33 Q2189.07 1517.6 2185.96 1517.6 Q2183.77 1517.6 2181.31 1518.36 Q2178.88 1519.13 2176.1 1520.68 L2176.1 1515.95 Q2178.93 1514.82 2181.38 1514.24 Q2183.83 1513.66 2185.87 1513.66 Q2191.24 1513.66 2194.44 1516.35 Q2197.63 1519.03 2197.63 1523.52 Q2197.63 1525.65 2196.82 1527.57 Q2196.03 1529.47 2193.93 1532.07 Q2193.35 1532.74 2190.25 1535.95 Q2187.14 1539.15 2181.5 1544.91 Z\" fill=\"#000000\" fill-rule=\"evenodd\" fill-opacity=\"1\" /><polyline clip-path=\"url(#clip572)\" style=\"stroke:#000000; stroke-linecap:round; stroke-linejoin:round; stroke-width:2; stroke-opacity:0.1; fill:none\" points=\"201.019,1445.72 2352.76,1445.72 \"/>\n",
       "<polyline clip-path=\"url(#clip572)\" style=\"stroke:#000000; stroke-linecap:round; stroke-linejoin:round; stroke-width:2; stroke-opacity:0.1; fill:none\" points=\"201.019,995.089 2352.76,995.089 \"/>\n",
       "<polyline clip-path=\"url(#clip572)\" style=\"stroke:#000000; stroke-linecap:round; stroke-linejoin:round; stroke-width:2; stroke-opacity:0.1; fill:none\" points=\"201.019,544.462 2352.76,544.462 \"/>\n",
       "<polyline clip-path=\"url(#clip572)\" style=\"stroke:#000000; stroke-linecap:round; stroke-linejoin:round; stroke-width:2; stroke-opacity:0.1; fill:none\" points=\"201.019,93.8344 2352.76,93.8344 \"/>\n",
       "<polyline clip-path=\"url(#clip570)\" style=\"stroke:#000000; stroke-linecap:round; stroke-linejoin:round; stroke-width:4; stroke-opacity:1; fill:none\" points=\"201.019,1486.45 201.019,47.2441 \"/>\n",
       "<polyline clip-path=\"url(#clip570)\" style=\"stroke:#000000; stroke-linecap:round; stroke-linejoin:round; stroke-width:4; stroke-opacity:1; fill:none\" points=\"201.019,1445.72 219.917,1445.72 \"/>\n",
       "<polyline clip-path=\"url(#clip570)\" style=\"stroke:#000000; stroke-linecap:round; stroke-linejoin:round; stroke-width:4; stroke-opacity:1; fill:none\" points=\"201.019,995.089 219.917,995.089 \"/>\n",
       "<polyline clip-path=\"url(#clip570)\" style=\"stroke:#000000; stroke-linecap:round; stroke-linejoin:round; stroke-width:4; stroke-opacity:1; fill:none\" points=\"201.019,544.462 219.917,544.462 \"/>\n",
       "<polyline clip-path=\"url(#clip570)\" style=\"stroke:#000000; stroke-linecap:round; stroke-linejoin:round; stroke-width:4; stroke-opacity:1; fill:none\" points=\"201.019,93.8344 219.917,93.8344 \"/>\n",
       "<path clip-path=\"url(#clip570)\" d=\"M153.075 1431.51 Q149.464 1431.51 147.635 1435.08 Q145.83 1438.62 145.83 1445.75 Q145.83 1452.86 147.635 1456.42 Q149.464 1459.96 153.075 1459.96 Q156.709 1459.96 158.515 1456.42 Q160.343 1452.86 160.343 1445.75 Q160.343 1438.62 158.515 1435.08 Q156.709 1431.51 153.075 1431.51 M153.075 1427.81 Q158.885 1427.81 161.941 1432.42 Q165.019 1437 165.019 1445.75 Q165.019 1454.48 161.941 1459.08 Q158.885 1463.67 153.075 1463.67 Q147.265 1463.67 144.186 1459.08 Q141.131 1454.48 141.131 1445.75 Q141.131 1437 144.186 1432.42 Q147.265 1427.81 153.075 1427.81 Z\" fill=\"#000000\" fill-rule=\"evenodd\" fill-opacity=\"1\" /><path clip-path=\"url(#clip570)\" d=\"M53.3995 1008.43 L61.0384 1008.43 L61.0384 982.068 L52.7282 983.734 L52.7282 979.475 L60.9921 977.809 L65.668 977.809 L65.668 1008.43 L73.3068 1008.43 L73.3068 1012.37 L53.3995 1012.37 L53.3995 1008.43 Z\" fill=\"#000000\" fill-rule=\"evenodd\" fill-opacity=\"1\" /><path clip-path=\"url(#clip570)\" d=\"M92.7512 980.887 Q89.1401 980.887 87.3114 984.452 Q85.5058 987.994 85.5058 995.123 Q85.5058 1002.23 87.3114 1005.79 Q89.1401 1009.34 92.7512 1009.34 Q96.3854 1009.34 98.1909 1005.79 Q100.02 1002.23 100.02 995.123 Q100.02 987.994 98.1909 984.452 Q96.3854 980.887 92.7512 980.887 M92.7512 977.184 Q98.5613 977.184 101.617 981.79 Q104.696 986.373 104.696 995.123 Q104.696 1003.85 101.617 1008.46 Q98.5613 1013.04 92.7512 1013.04 Q86.941 1013.04 83.8623 1008.46 Q80.8068 1003.85 80.8068 995.123 Q80.8068 986.373 83.8623 981.79 Q86.941 977.184 92.7512 977.184 Z\" fill=\"#000000\" fill-rule=\"evenodd\" fill-opacity=\"1\" /><path clip-path=\"url(#clip570)\" d=\"M122.913 980.887 Q119.302 980.887 117.473 984.452 Q115.668 987.994 115.668 995.123 Q115.668 1002.23 117.473 1005.79 Q119.302 1009.34 122.913 1009.34 Q126.547 1009.34 128.353 1005.79 Q130.182 1002.23 130.182 995.123 Q130.182 987.994 128.353 984.452 Q126.547 980.887 122.913 980.887 M122.913 977.184 Q128.723 977.184 131.779 981.79 Q134.857 986.373 134.857 995.123 Q134.857 1003.85 131.779 1008.46 Q128.723 1013.04 122.913 1013.04 Q117.103 1013.04 114.024 1008.46 Q110.969 1003.85 110.969 995.123 Q110.969 986.373 114.024 981.79 Q117.103 977.184 122.913 977.184 Z\" fill=\"#000000\" fill-rule=\"evenodd\" fill-opacity=\"1\" /><path clip-path=\"url(#clip570)\" d=\"M153.075 980.887 Q149.464 980.887 147.635 984.452 Q145.83 987.994 145.83 995.123 Q145.83 1002.23 147.635 1005.79 Q149.464 1009.34 153.075 1009.34 Q156.709 1009.34 158.515 1005.79 Q160.343 1002.23 160.343 995.123 Q160.343 987.994 158.515 984.452 Q156.709 980.887 153.075 980.887 M153.075 977.184 Q158.885 977.184 161.941 981.79 Q165.019 986.373 165.019 995.123 Q165.019 1003.85 161.941 1008.46 Q158.885 1013.04 153.075 1013.04 Q147.265 1013.04 144.186 1008.46 Q141.131 1003.85 141.131 995.123 Q141.131 986.373 144.186 981.79 Q147.265 977.184 153.075 977.184 Z\" fill=\"#000000\" fill-rule=\"evenodd\" fill-opacity=\"1\" /><path clip-path=\"url(#clip570)\" d=\"M56.6171 557.806 L72.9365 557.806 L72.9365 561.742 L50.9921 561.742 L50.9921 557.806 Q53.6541 555.052 58.2375 550.422 Q62.8439 545.769 64.0245 544.427 Q66.2698 541.904 67.1494 540.168 Q68.0522 538.408 68.0522 536.719 Q68.0522 533.964 66.1078 532.228 Q64.1865 530.492 61.0847 530.492 Q58.8856 530.492 56.4319 531.256 Q54.0014 532.019 51.2236 533.57 L51.2236 528.848 Q54.0477 527.714 56.5014 527.135 Q58.955 526.557 60.9921 526.557 Q66.3624 526.557 69.5568 529.242 Q72.7513 531.927 72.7513 536.418 Q72.7513 538.547 71.9411 540.468 Q71.1541 542.367 69.0476 544.959 Q68.4689 545.63 65.367 548.848 Q62.2652 552.042 56.6171 557.806 Z\" fill=\"#000000\" fill-rule=\"evenodd\" fill-opacity=\"1\" /><path clip-path=\"url(#clip570)\" d=\"M92.7512 530.26 Q89.1401 530.26 87.3114 533.825 Q85.5058 537.367 85.5058 544.496 Q85.5058 551.603 87.3114 555.167 Q89.1401 558.709 92.7512 558.709 Q96.3854 558.709 98.1909 555.167 Q100.02 551.603 100.02 544.496 Q100.02 537.367 98.1909 533.825 Q96.3854 530.26 92.7512 530.26 M92.7512 526.557 Q98.5613 526.557 101.617 531.163 Q104.696 535.746 104.696 544.496 Q104.696 553.223 101.617 557.83 Q98.5613 562.413 92.7512 562.413 Q86.941 562.413 83.8623 557.83 Q80.8068 553.223 80.8068 544.496 Q80.8068 535.746 83.8623 531.163 Q86.941 526.557 92.7512 526.557 Z\" fill=\"#000000\" fill-rule=\"evenodd\" fill-opacity=\"1\" /><path clip-path=\"url(#clip570)\" d=\"M122.913 530.26 Q119.302 530.26 117.473 533.825 Q115.668 537.367 115.668 544.496 Q115.668 551.603 117.473 555.167 Q119.302 558.709 122.913 558.709 Q126.547 558.709 128.353 555.167 Q130.182 551.603 130.182 544.496 Q130.182 537.367 128.353 533.825 Q126.547 530.26 122.913 530.26 M122.913 526.557 Q128.723 526.557 131.779 531.163 Q134.857 535.746 134.857 544.496 Q134.857 553.223 131.779 557.83 Q128.723 562.413 122.913 562.413 Q117.103 562.413 114.024 557.83 Q110.969 553.223 110.969 544.496 Q110.969 535.746 114.024 531.163 Q117.103 526.557 122.913 526.557 Z\" fill=\"#000000\" fill-rule=\"evenodd\" fill-opacity=\"1\" /><path clip-path=\"url(#clip570)\" d=\"M153.075 530.26 Q149.464 530.26 147.635 533.825 Q145.83 537.367 145.83 544.496 Q145.83 551.603 147.635 555.167 Q149.464 558.709 153.075 558.709 Q156.709 558.709 158.515 555.167 Q160.343 551.603 160.343 544.496 Q160.343 537.367 158.515 533.825 Q156.709 530.26 153.075 530.26 M153.075 526.557 Q158.885 526.557 161.941 531.163 Q165.019 535.746 165.019 544.496 Q165.019 553.223 161.941 557.83 Q158.885 562.413 153.075 562.413 Q147.265 562.413 144.186 557.83 Q141.131 553.223 141.131 544.496 Q141.131 535.746 144.186 531.163 Q147.265 526.557 153.075 526.557 Z\" fill=\"#000000\" fill-rule=\"evenodd\" fill-opacity=\"1\" /><path clip-path=\"url(#clip570)\" d=\"M66.7559 92.4803 Q70.1124 93.1979 71.9874 95.4664 Q73.8855 97.7349 73.8855 101.068 Q73.8855 106.184 70.367 108.985 Q66.8485 111.786 60.3671 111.786 Q58.1912 111.786 55.8764 111.346 Q53.5847 110.929 51.131 110.073 L51.131 105.559 Q53.0754 106.693 55.3903 107.272 Q57.7051 107.851 60.2282 107.851 Q64.6263 107.851 66.918 106.114 Q69.2328 104.378 69.2328 101.068 Q69.2328 98.0126 67.08 96.2997 Q64.9504 94.5636 61.131 94.5636 L57.1032 94.5636 L57.1032 90.721 L61.3161 90.721 Q64.7652 90.721 66.5939 89.3553 Q68.4226 87.9664 68.4226 85.3738 Q68.4226 82.7118 66.5245 81.2998 Q64.6495 79.8646 61.131 79.8646 Q59.2097 79.8646 57.0106 80.2813 Q54.8115 80.6979 52.1727 81.5776 L52.1727 77.4109 Q54.8347 76.6702 57.1495 76.2998 Q59.4875 75.9294 61.5476 75.9294 Q66.8717 75.9294 69.9735 78.36 Q73.0753 80.7674 73.0753 84.8877 Q73.0753 87.7581 71.4318 89.7488 Q69.7883 91.7164 66.7559 92.4803 Z\" fill=\"#000000\" fill-rule=\"evenodd\" fill-opacity=\"1\" /><path clip-path=\"url(#clip570)\" d=\"M92.7512 79.6331 Q89.1401 79.6331 87.3114 83.1979 Q85.5058 86.7396 85.5058 93.8692 Q85.5058 100.976 87.3114 104.54 Q89.1401 108.082 92.7512 108.082 Q96.3854 108.082 98.1909 104.54 Q100.02 100.976 100.02 93.8692 Q100.02 86.7396 98.1909 83.1979 Q96.3854 79.6331 92.7512 79.6331 M92.7512 75.9294 Q98.5613 75.9294 101.617 80.5359 Q104.696 85.1192 104.696 93.8692 Q104.696 102.596 101.617 107.202 Q98.5613 111.786 92.7512 111.786 Q86.941 111.786 83.8623 107.202 Q80.8068 102.596 80.8068 93.8692 Q80.8068 85.1192 83.8623 80.5359 Q86.941 75.9294 92.7512 75.9294 Z\" fill=\"#000000\" fill-rule=\"evenodd\" fill-opacity=\"1\" /><path clip-path=\"url(#clip570)\" d=\"M122.913 79.6331 Q119.302 79.6331 117.473 83.1979 Q115.668 86.7396 115.668 93.8692 Q115.668 100.976 117.473 104.54 Q119.302 108.082 122.913 108.082 Q126.547 108.082 128.353 104.54 Q130.182 100.976 130.182 93.8692 Q130.182 86.7396 128.353 83.1979 Q126.547 79.6331 122.913 79.6331 M122.913 75.9294 Q128.723 75.9294 131.779 80.5359 Q134.857 85.1192 134.857 93.8692 Q134.857 102.596 131.779 107.202 Q128.723 111.786 122.913 111.786 Q117.103 111.786 114.024 107.202 Q110.969 102.596 110.969 93.8692 Q110.969 85.1192 114.024 80.5359 Q117.103 75.9294 122.913 75.9294 Z\" fill=\"#000000\" fill-rule=\"evenodd\" fill-opacity=\"1\" /><path clip-path=\"url(#clip570)\" d=\"M153.075 79.6331 Q149.464 79.6331 147.635 83.1979 Q145.83 86.7396 145.83 93.8692 Q145.83 100.976 147.635 104.54 Q149.464 108.082 153.075 108.082 Q156.709 108.082 158.515 104.54 Q160.343 100.976 160.343 93.8692 Q160.343 86.7396 158.515 83.1979 Q156.709 79.6331 153.075 79.6331 M153.075 75.9294 Q158.885 75.9294 161.941 80.5359 Q165.019 85.1192 165.019 93.8692 Q165.019 102.596 161.941 107.202 Q158.885 111.786 153.075 111.786 Q147.265 111.786 144.186 107.202 Q141.131 102.596 141.131 93.8692 Q141.131 85.1192 144.186 80.5359 Q147.265 75.9294 153.075 75.9294 Z\" fill=\"#000000\" fill-rule=\"evenodd\" fill-opacity=\"1\" /><path clip-path=\"url(#clip572)\" d=\"M319.369 1445.27 L319.369 1445.72 L381.144 1445.72 L381.144 1445.27 L319.369 1445.27 L319.369 1445.27  Z\" fill=\"#009af9\" fill-rule=\"evenodd\" fill-opacity=\"1\"/>\n",
       "<polyline clip-path=\"url(#clip572)\" style=\"stroke:#000000; stroke-linecap:round; stroke-linejoin:round; stroke-width:4; stroke-opacity:1; fill:none\" points=\"319.369,1445.27 319.369,1445.72 381.144,1445.72 381.144,1445.27 319.369,1445.27 \"/>\n",
       "<path clip-path=\"url(#clip572)\" d=\"M381.144 1444.81 L381.144 1445.72 L442.919 1445.72 L442.919 1444.81 L381.144 1444.81 L381.144 1444.81  Z\" fill=\"#009af9\" fill-rule=\"evenodd\" fill-opacity=\"1\"/>\n",
       "<polyline clip-path=\"url(#clip572)\" style=\"stroke:#000000; stroke-linecap:round; stroke-linejoin:round; stroke-width:4; stroke-opacity:1; fill:none\" points=\"381.144,1444.81 381.144,1445.72 442.919,1445.72 442.919,1444.81 381.144,1444.81 \"/>\n",
       "<path clip-path=\"url(#clip572)\" d=\"M442.919 1445.72 L442.919 1445.72 L504.695 1445.72 L504.695 1445.72 L442.919 1445.72 L442.919 1445.72  Z\" fill=\"#009af9\" fill-rule=\"evenodd\" fill-opacity=\"1\"/>\n",
       "<polyline clip-path=\"url(#clip572)\" style=\"stroke:#000000; stroke-linecap:round; stroke-linejoin:round; stroke-width:4; stroke-opacity:1; fill:none\" points=\"442.919,1445.72 442.919,1445.72 504.695,1445.72 442.919,1445.72 \"/>\n",
       "<path clip-path=\"url(#clip572)\" d=\"M504.695 1441.21 L504.695 1445.72 L566.47 1445.72 L566.47 1441.21 L504.695 1441.21 L504.695 1441.21  Z\" fill=\"#009af9\" fill-rule=\"evenodd\" fill-opacity=\"1\"/>\n",
       "<polyline clip-path=\"url(#clip572)\" style=\"stroke:#000000; stroke-linecap:round; stroke-linejoin:round; stroke-width:4; stroke-opacity:1; fill:none\" points=\"504.695,1441.21 504.695,1445.72 566.47,1445.72 566.47,1441.21 504.695,1441.21 \"/>\n",
       "<path clip-path=\"url(#clip572)\" d=\"M566.47 1437.6 L566.47 1445.72 L628.246 1445.72 L628.246 1437.6 L566.47 1437.6 L566.47 1437.6  Z\" fill=\"#009af9\" fill-rule=\"evenodd\" fill-opacity=\"1\"/>\n",
       "<polyline clip-path=\"url(#clip572)\" style=\"stroke:#000000; stroke-linecap:round; stroke-linejoin:round; stroke-width:4; stroke-opacity:1; fill:none\" points=\"566.47,1437.6 566.47,1445.72 628.246,1445.72 628.246,1437.6 566.47,1437.6 \"/>\n",
       "<path clip-path=\"url(#clip572)\" d=\"M628.246 1428.14 L628.246 1445.72 L690.021 1445.72 L690.021 1428.14 L628.246 1428.14 L628.246 1428.14  Z\" fill=\"#009af9\" fill-rule=\"evenodd\" fill-opacity=\"1\"/>\n",
       "<polyline clip-path=\"url(#clip572)\" style=\"stroke:#000000; stroke-linecap:round; stroke-linejoin:round; stroke-width:4; stroke-opacity:1; fill:none\" points=\"628.246,1428.14 628.246,1445.72 690.021,1445.72 690.021,1428.14 628.246,1428.14 \"/>\n",
       "<path clip-path=\"url(#clip572)\" d=\"M690.021 1418.68 L690.021 1445.72 L751.797 1445.72 L751.797 1418.68 L690.021 1418.68 L690.021 1418.68  Z\" fill=\"#009af9\" fill-rule=\"evenodd\" fill-opacity=\"1\"/>\n",
       "<polyline clip-path=\"url(#clip572)\" style=\"stroke:#000000; stroke-linecap:round; stroke-linejoin:round; stroke-width:4; stroke-opacity:1; fill:none\" points=\"690.021,1418.68 690.021,1445.72 751.797,1445.72 751.797,1418.68 690.021,1418.68 \"/>\n",
       "<path clip-path=\"url(#clip572)\" d=\"M751.797 1394.34 L751.797 1445.72 L813.572 1445.72 L813.572 1394.34 L751.797 1394.34 L751.797 1394.34  Z\" fill=\"#009af9\" fill-rule=\"evenodd\" fill-opacity=\"1\"/>\n",
       "<polyline clip-path=\"url(#clip572)\" style=\"stroke:#000000; stroke-linecap:round; stroke-linejoin:round; stroke-width:4; stroke-opacity:1; fill:none\" points=\"751.797,1394.34 751.797,1445.72 813.572,1445.72 813.572,1394.34 751.797,1394.34 \"/>\n",
       "<path clip-path=\"url(#clip572)\" d=\"M813.572 1362.8 L813.572 1445.72 L875.347 1445.72 L875.347 1362.8 L813.572 1362.8 L813.572 1362.8  Z\" fill=\"#009af9\" fill-rule=\"evenodd\" fill-opacity=\"1\"/>\n",
       "<polyline clip-path=\"url(#clip572)\" style=\"stroke:#000000; stroke-linecap:round; stroke-linejoin:round; stroke-width:4; stroke-opacity:1; fill:none\" points=\"813.572,1362.8 813.572,1445.72 875.347,1445.72 875.347,1362.8 813.572,1362.8 \"/>\n",
       "<path clip-path=\"url(#clip572)\" d=\"M875.347 1311.88 L875.347 1445.72 L937.123 1445.72 L937.123 1311.88 L875.347 1311.88 L875.347 1311.88  Z\" fill=\"#009af9\" fill-rule=\"evenodd\" fill-opacity=\"1\"/>\n",
       "<polyline clip-path=\"url(#clip572)\" style=\"stroke:#000000; stroke-linecap:round; stroke-linejoin:round; stroke-width:4; stroke-opacity:1; fill:none\" points=\"875.347,1311.88 875.347,1445.72 937.123,1445.72 937.123,1311.88 875.347,1311.88 \"/>\n",
       "<path clip-path=\"url(#clip572)\" d=\"M937.123 1279.88 L937.123 1445.72 L998.898 1445.72 L998.898 1279.88 L937.123 1279.88 L937.123 1279.88  Z\" fill=\"#009af9\" fill-rule=\"evenodd\" fill-opacity=\"1\"/>\n",
       "<polyline clip-path=\"url(#clip572)\" style=\"stroke:#000000; stroke-linecap:round; stroke-linejoin:round; stroke-width:4; stroke-opacity:1; fill:none\" points=\"937.123,1279.88 937.123,1445.72 998.898,1445.72 998.898,1279.88 937.123,1279.88 \"/>\n",
       "<path clip-path=\"url(#clip572)\" d=\"M998.898 1214.99 L998.898 1445.72 L1060.67 1445.72 L1060.67 1214.99 L998.898 1214.99 L998.898 1214.99  Z\" fill=\"#009af9\" fill-rule=\"evenodd\" fill-opacity=\"1\"/>\n",
       "<polyline clip-path=\"url(#clip572)\" style=\"stroke:#000000; stroke-linecap:round; stroke-linejoin:round; stroke-width:4; stroke-opacity:1; fill:none\" points=\"998.898,1214.99 998.898,1445.72 1060.67,1445.72 1060.67,1214.99 998.898,1214.99 \"/>\n",
       "<path clip-path=\"url(#clip572)\" d=\"M1060.67 1146.5 L1060.67 1445.72 L1122.45 1445.72 L1122.45 1146.5 L1060.67 1146.5 L1060.67 1146.5  Z\" fill=\"#009af9\" fill-rule=\"evenodd\" fill-opacity=\"1\"/>\n",
       "<polyline clip-path=\"url(#clip572)\" style=\"stroke:#000000; stroke-linecap:round; stroke-linejoin:round; stroke-width:4; stroke-opacity:1; fill:none\" points=\"1060.67,1146.5 1060.67,1445.72 1122.45,1445.72 1122.45,1146.5 1060.67,1146.5 \"/>\n",
       "<path clip-path=\"url(#clip572)\" d=\"M1122.45 1079.36 L1122.45 1445.72 L1184.22 1445.72 L1184.22 1079.36 L1122.45 1079.36 L1122.45 1079.36  Z\" fill=\"#009af9\" fill-rule=\"evenodd\" fill-opacity=\"1\"/>\n",
       "<polyline clip-path=\"url(#clip572)\" style=\"stroke:#000000; stroke-linecap:round; stroke-linejoin:round; stroke-width:4; stroke-opacity:1; fill:none\" points=\"1122.45,1079.36 1122.45,1445.72 1184.22,1445.72 1184.22,1079.36 1122.45,1079.36 \"/>\n",
       "<path clip-path=\"url(#clip572)\" d=\"M1184.22 1023.93 L1184.22 1445.72 L1246 1445.72 L1246 1023.93 L1184.22 1023.93 L1184.22 1023.93  Z\" fill=\"#009af9\" fill-rule=\"evenodd\" fill-opacity=\"1\"/>\n",
       "<polyline clip-path=\"url(#clip572)\" style=\"stroke:#000000; stroke-linecap:round; stroke-linejoin:round; stroke-width:4; stroke-opacity:1; fill:none\" points=\"1184.22,1023.93 1184.22,1445.72 1246,1445.72 1246,1023.93 1184.22,1023.93 \"/>\n",
       "<path clip-path=\"url(#clip572)\" d=\"M1246 1021.22 L1246 1445.72 L1307.78 1445.72 L1307.78 1021.22 L1246 1021.22 L1246 1021.22  Z\" fill=\"#009af9\" fill-rule=\"evenodd\" fill-opacity=\"1\"/>\n",
       "<polyline clip-path=\"url(#clip572)\" style=\"stroke:#000000; stroke-linecap:round; stroke-linejoin:round; stroke-width:4; stroke-opacity:1; fill:none\" points=\"1246,1021.22 1246,1445.72 1307.78,1445.72 1307.78,1021.22 1246,1021.22 \"/>\n",
       "<path clip-path=\"url(#clip572)\" d=\"M1307.78 998.243 L1307.78 1445.72 L1369.55 1445.72 L1369.55 998.243 L1307.78 998.243 L1307.78 998.243  Z\" fill=\"#009af9\" fill-rule=\"evenodd\" fill-opacity=\"1\"/>\n",
       "<polyline clip-path=\"url(#clip572)\" style=\"stroke:#000000; stroke-linecap:round; stroke-linejoin:round; stroke-width:4; stroke-opacity:1; fill:none\" points=\"1307.78,998.243 1307.78,1445.72 1369.55,1445.72 1369.55,998.243 1307.78,998.243 \"/>\n",
       "<path clip-path=\"url(#clip572)\" d=\"M1369.55 1033.84 L1369.55 1445.72 L1431.33 1445.72 L1431.33 1033.84 L1369.55 1033.84 L1369.55 1033.84  Z\" fill=\"#009af9\" fill-rule=\"evenodd\" fill-opacity=\"1\"/>\n",
       "<polyline clip-path=\"url(#clip572)\" style=\"stroke:#000000; stroke-linecap:round; stroke-linejoin:round; stroke-width:4; stroke-opacity:1; fill:none\" points=\"1369.55,1033.84 1369.55,1445.72 1431.33,1445.72 1431.33,1033.84 1369.55,1033.84 \"/>\n",
       "<path clip-path=\"url(#clip572)\" d=\"M1431.33 1094.23 L1431.33 1445.72 L1493.1 1445.72 L1493.1 1094.23 L1431.33 1094.23 L1431.33 1094.23  Z\" fill=\"#009af9\" fill-rule=\"evenodd\" fill-opacity=\"1\"/>\n",
       "<polyline clip-path=\"url(#clip572)\" style=\"stroke:#000000; stroke-linecap:round; stroke-linejoin:round; stroke-width:4; stroke-opacity:1; fill:none\" points=\"1431.33,1094.23 1431.33,1445.72 1493.1,1445.72 1493.1,1094.23 1431.33,1094.23 \"/>\n",
       "<path clip-path=\"url(#clip572)\" d=\"M1493.1 1120.36 L1493.1 1445.72 L1554.88 1445.72 L1554.88 1120.36 L1493.1 1120.36 L1493.1 1120.36  Z\" fill=\"#009af9\" fill-rule=\"evenodd\" fill-opacity=\"1\"/>\n",
       "<polyline clip-path=\"url(#clip572)\" style=\"stroke:#000000; stroke-linecap:round; stroke-linejoin:round; stroke-width:4; stroke-opacity:1; fill:none\" points=\"1493.1,1120.36 1493.1,1445.72 1554.88,1445.72 1554.88,1120.36 1493.1,1120.36 \"/>\n",
       "<path clip-path=\"url(#clip572)\" d=\"M1554.88 1207.33 L1554.88 1445.72 L1616.65 1445.72 L1616.65 1207.33 L1554.88 1207.33 L1554.88 1207.33  Z\" fill=\"#009af9\" fill-rule=\"evenodd\" fill-opacity=\"1\"/>\n",
       "<polyline clip-path=\"url(#clip572)\" style=\"stroke:#000000; stroke-linecap:round; stroke-linejoin:round; stroke-width:4; stroke-opacity:1; fill:none\" points=\"1554.88,1207.33 1554.88,1445.72 1616.65,1445.72 1616.65,1207.33 1554.88,1207.33 \"/>\n",
       "<path clip-path=\"url(#clip572)\" d=\"M1616.65 1273.58 L1616.65 1445.72 L1678.43 1445.72 L1678.43 1273.58 L1616.65 1273.58 L1616.65 1273.58  Z\" fill=\"#009af9\" fill-rule=\"evenodd\" fill-opacity=\"1\"/>\n",
       "<polyline clip-path=\"url(#clip572)\" style=\"stroke:#000000; stroke-linecap:round; stroke-linejoin:round; stroke-width:4; stroke-opacity:1; fill:none\" points=\"1616.65,1273.58 1616.65,1445.72 1678.43,1445.72 1678.43,1273.58 1616.65,1273.58 \"/>\n",
       "<path clip-path=\"url(#clip572)\" d=\"M1678.43 1313.68 L1678.43 1445.72 L1740.2 1445.72 L1740.2 1313.68 L1678.43 1313.68 L1678.43 1313.68  Z\" fill=\"#009af9\" fill-rule=\"evenodd\" fill-opacity=\"1\"/>\n",
       "<polyline clip-path=\"url(#clip572)\" style=\"stroke:#000000; stroke-linecap:round; stroke-linejoin:round; stroke-width:4; stroke-opacity:1; fill:none\" points=\"1678.43,1313.68 1678.43,1445.72 1740.2,1445.72 1740.2,1313.68 1678.43,1313.68 \"/>\n",
       "<path clip-path=\"url(#clip572)\" d=\"M1740.2 1365.5 L1740.2 1445.72 L1801.98 1445.72 L1801.98 1365.5 L1740.2 1365.5 L1740.2 1365.5  Z\" fill=\"#009af9\" fill-rule=\"evenodd\" fill-opacity=\"1\"/>\n",
       "<polyline clip-path=\"url(#clip572)\" style=\"stroke:#000000; stroke-linecap:round; stroke-linejoin:round; stroke-width:4; stroke-opacity:1; fill:none\" points=\"1740.2,1365.5 1740.2,1445.72 1801.98,1445.72 1801.98,1365.5 1740.2,1365.5 \"/>\n",
       "<path clip-path=\"url(#clip572)\" d=\"M1801.98 1400.2 L1801.98 1445.72 L1863.75 1445.72 L1863.75 1400.2 L1801.98 1400.2 L1801.98 1400.2  Z\" fill=\"#009af9\" fill-rule=\"evenodd\" fill-opacity=\"1\"/>\n",
       "<polyline clip-path=\"url(#clip572)\" style=\"stroke:#000000; stroke-linecap:round; stroke-linejoin:round; stroke-width:4; stroke-opacity:1; fill:none\" points=\"1801.98,1400.2 1801.98,1445.72 1863.75,1445.72 1863.75,1400.2 1801.98,1400.2 \"/>\n",
       "<path clip-path=\"url(#clip572)\" d=\"M1863.75 1413.27 L1863.75 1445.72 L1925.53 1445.72 L1925.53 1413.27 L1863.75 1413.27 L1863.75 1413.27  Z\" fill=\"#009af9\" fill-rule=\"evenodd\" fill-opacity=\"1\"/>\n",
       "<polyline clip-path=\"url(#clip572)\" style=\"stroke:#000000; stroke-linecap:round; stroke-linejoin:round; stroke-width:4; stroke-opacity:1; fill:none\" points=\"1863.75,1413.27 1863.75,1445.72 1925.53,1445.72 1925.53,1413.27 1863.75,1413.27 \"/>\n",
       "<path clip-path=\"url(#clip572)\" d=\"M1925.53 1425.89 L1925.53 1445.72 L1987.3 1445.72 L1987.3 1425.89 L1925.53 1425.89 L1925.53 1425.89  Z\" fill=\"#009af9\" fill-rule=\"evenodd\" fill-opacity=\"1\"/>\n",
       "<polyline clip-path=\"url(#clip572)\" style=\"stroke:#000000; stroke-linecap:round; stroke-linejoin:round; stroke-width:4; stroke-opacity:1; fill:none\" points=\"1925.53,1425.89 1925.53,1445.72 1987.3,1445.72 1987.3,1425.89 1925.53,1425.89 \"/>\n",
       "<path clip-path=\"url(#clip572)\" d=\"M1987.3 1438.51 L1987.3 1445.72 L2049.08 1445.72 L2049.08 1438.51 L1987.3 1438.51 L1987.3 1438.51  Z\" fill=\"#009af9\" fill-rule=\"evenodd\" fill-opacity=\"1\"/>\n",
       "<polyline clip-path=\"url(#clip572)\" style=\"stroke:#000000; stroke-linecap:round; stroke-linejoin:round; stroke-width:4; stroke-opacity:1; fill:none\" points=\"1987.3,1438.51 1987.3,1445.72 2049.08,1445.72 2049.08,1438.51 1987.3,1438.51 \"/>\n",
       "<path clip-path=\"url(#clip572)\" d=\"M2049.08 1443.01 L2049.08 1445.72 L2110.86 1445.72 L2110.86 1443.01 L2049.08 1443.01 L2049.08 1443.01  Z\" fill=\"#009af9\" fill-rule=\"evenodd\" fill-opacity=\"1\"/>\n",
       "<polyline clip-path=\"url(#clip572)\" style=\"stroke:#000000; stroke-linecap:round; stroke-linejoin:round; stroke-width:4; stroke-opacity:1; fill:none\" points=\"2049.08,1443.01 2049.08,1445.72 2110.86,1445.72 2110.86,1443.01 2049.08,1443.01 \"/>\n",
       "<path clip-path=\"url(#clip572)\" d=\"M2110.86 1443.01 L2110.86 1445.72 L2172.63 1445.72 L2172.63 1443.01 L2110.86 1443.01 L2110.86 1443.01  Z\" fill=\"#009af9\" fill-rule=\"evenodd\" fill-opacity=\"1\"/>\n",
       "<polyline clip-path=\"url(#clip572)\" style=\"stroke:#000000; stroke-linecap:round; stroke-linejoin:round; stroke-width:4; stroke-opacity:1; fill:none\" points=\"2110.86,1443.01 2110.86,1445.72 2172.63,1445.72 2172.63,1443.01 2110.86,1443.01 \"/>\n",
       "<path clip-path=\"url(#clip572)\" d=\"M2172.63 1443.91 L2172.63 1445.72 L2234.41 1445.72 L2234.41 1443.91 L2172.63 1443.91 L2172.63 1443.91  Z\" fill=\"#009af9\" fill-rule=\"evenodd\" fill-opacity=\"1\"/>\n",
       "<polyline clip-path=\"url(#clip572)\" style=\"stroke:#000000; stroke-linecap:round; stroke-linejoin:round; stroke-width:4; stroke-opacity:1; fill:none\" points=\"2172.63,1443.91 2172.63,1445.72 2234.41,1445.72 2234.41,1443.91 2172.63,1443.91 \"/>\n",
       "<circle clip-path=\"url(#clip572)\" style=\"fill:#009af9; stroke:none; fill-opacity:0\" cx=\"350.256\" cy=\"1445.27\" r=\"2\"/>\n",
       "<circle clip-path=\"url(#clip572)\" style=\"fill:#009af9; stroke:none; fill-opacity:0\" cx=\"412.032\" cy=\"1444.81\" r=\"2\"/>\n",
       "<circle clip-path=\"url(#clip572)\" style=\"fill:#009af9; stroke:none; fill-opacity:0\" cx=\"473.807\" cy=\"1445.72\" r=\"2\"/>\n",
       "<circle clip-path=\"url(#clip572)\" style=\"fill:#009af9; stroke:none; fill-opacity:0\" cx=\"535.583\" cy=\"1441.21\" r=\"2\"/>\n",
       "<circle clip-path=\"url(#clip572)\" style=\"fill:#009af9; stroke:none; fill-opacity:0\" cx=\"597.358\" cy=\"1437.6\" r=\"2\"/>\n",
       "<circle clip-path=\"url(#clip572)\" style=\"fill:#009af9; stroke:none; fill-opacity:0\" cx=\"659.133\" cy=\"1428.14\" r=\"2\"/>\n",
       "<circle clip-path=\"url(#clip572)\" style=\"fill:#009af9; stroke:none; fill-opacity:0\" cx=\"720.909\" cy=\"1418.68\" r=\"2\"/>\n",
       "<circle clip-path=\"url(#clip572)\" style=\"fill:#009af9; stroke:none; fill-opacity:0\" cx=\"782.684\" cy=\"1394.34\" r=\"2\"/>\n",
       "<circle clip-path=\"url(#clip572)\" style=\"fill:#009af9; stroke:none; fill-opacity:0\" cx=\"844.46\" cy=\"1362.8\" r=\"2\"/>\n",
       "<circle clip-path=\"url(#clip572)\" style=\"fill:#009af9; stroke:none; fill-opacity:0\" cx=\"906.235\" cy=\"1311.88\" r=\"2\"/>\n",
       "<circle clip-path=\"url(#clip572)\" style=\"fill:#009af9; stroke:none; fill-opacity:0\" cx=\"968.011\" cy=\"1279.88\" r=\"2\"/>\n",
       "<circle clip-path=\"url(#clip572)\" style=\"fill:#009af9; stroke:none; fill-opacity:0\" cx=\"1029.79\" cy=\"1214.99\" r=\"2\"/>\n",
       "<circle clip-path=\"url(#clip572)\" style=\"fill:#009af9; stroke:none; fill-opacity:0\" cx=\"1091.56\" cy=\"1146.5\" r=\"2\"/>\n",
       "<circle clip-path=\"url(#clip572)\" style=\"fill:#009af9; stroke:none; fill-opacity:0\" cx=\"1153.34\" cy=\"1079.36\" r=\"2\"/>\n",
       "<circle clip-path=\"url(#clip572)\" style=\"fill:#009af9; stroke:none; fill-opacity:0\" cx=\"1215.11\" cy=\"1023.93\" r=\"2\"/>\n",
       "<circle clip-path=\"url(#clip572)\" style=\"fill:#009af9; stroke:none; fill-opacity:0\" cx=\"1276.89\" cy=\"1021.22\" r=\"2\"/>\n",
       "<circle clip-path=\"url(#clip572)\" style=\"fill:#009af9; stroke:none; fill-opacity:0\" cx=\"1338.66\" cy=\"998.243\" r=\"2\"/>\n",
       "<circle clip-path=\"url(#clip572)\" style=\"fill:#009af9; stroke:none; fill-opacity:0\" cx=\"1400.44\" cy=\"1033.84\" r=\"2\"/>\n",
       "<circle clip-path=\"url(#clip572)\" style=\"fill:#009af9; stroke:none; fill-opacity:0\" cx=\"1462.21\" cy=\"1094.23\" r=\"2\"/>\n",
       "<circle clip-path=\"url(#clip572)\" style=\"fill:#009af9; stroke:none; fill-opacity:0\" cx=\"1523.99\" cy=\"1120.36\" r=\"2\"/>\n",
       "<circle clip-path=\"url(#clip572)\" style=\"fill:#009af9; stroke:none; fill-opacity:0\" cx=\"1585.76\" cy=\"1207.33\" r=\"2\"/>\n",
       "<circle clip-path=\"url(#clip572)\" style=\"fill:#009af9; stroke:none; fill-opacity:0\" cx=\"1647.54\" cy=\"1273.58\" r=\"2\"/>\n",
       "<circle clip-path=\"url(#clip572)\" style=\"fill:#009af9; stroke:none; fill-opacity:0\" cx=\"1709.32\" cy=\"1313.68\" r=\"2\"/>\n",
       "<circle clip-path=\"url(#clip572)\" style=\"fill:#009af9; stroke:none; fill-opacity:0\" cx=\"1771.09\" cy=\"1365.5\" r=\"2\"/>\n",
       "<circle clip-path=\"url(#clip572)\" style=\"fill:#009af9; stroke:none; fill-opacity:0\" cx=\"1832.87\" cy=\"1400.2\" r=\"2\"/>\n",
       "<circle clip-path=\"url(#clip572)\" style=\"fill:#009af9; stroke:none; fill-opacity:0\" cx=\"1894.64\" cy=\"1413.27\" r=\"2\"/>\n",
       "<circle clip-path=\"url(#clip572)\" style=\"fill:#009af9; stroke:none; fill-opacity:0\" cx=\"1956.42\" cy=\"1425.89\" r=\"2\"/>\n",
       "<circle clip-path=\"url(#clip572)\" style=\"fill:#009af9; stroke:none; fill-opacity:0\" cx=\"2018.19\" cy=\"1438.51\" r=\"2\"/>\n",
       "<circle clip-path=\"url(#clip572)\" style=\"fill:#009af9; stroke:none; fill-opacity:0\" cx=\"2079.97\" cy=\"1443.01\" r=\"2\"/>\n",
       "<circle clip-path=\"url(#clip572)\" style=\"fill:#009af9; stroke:none; fill-opacity:0\" cx=\"2141.74\" cy=\"1443.01\" r=\"2\"/>\n",
       "<circle clip-path=\"url(#clip572)\" style=\"fill:#009af9; stroke:none; fill-opacity:0\" cx=\"2203.52\" cy=\"1443.91\" r=\"2\"/>\n",
       "<path clip-path=\"url(#clip572)\" d=\"M937.123 1445.27 L937.123 1445.72 L961.833 1445.72 L961.833 1445.27 L937.123 1445.27 L937.123 1445.27  Z\" fill=\"#e26f46\" fill-rule=\"evenodd\" fill-opacity=\"1\"/>\n",
       "<polyline clip-path=\"url(#clip572)\" style=\"stroke:#000000; stroke-linecap:round; stroke-linejoin:round; stroke-width:4; stroke-opacity:1; fill:none\" points=\"937.123,1445.27 937.123,1445.72 961.833,1445.72 961.833,1445.27 937.123,1445.27 \"/>\n",
       "<path clip-path=\"url(#clip572)\" d=\"M961.833 1445.72 L961.833 1445.72 L986.543 1445.72 L986.543 1445.72 L961.833 1445.72 L961.833 1445.72  Z\" fill=\"#e26f46\" fill-rule=\"evenodd\" fill-opacity=\"1\"/>\n",
       "<polyline clip-path=\"url(#clip572)\" style=\"stroke:#000000; stroke-linecap:round; stroke-linejoin:round; stroke-width:4; stroke-opacity:1; fill:none\" points=\"961.833,1445.72 961.833,1445.72 986.543,1445.72 961.833,1445.72 \"/>\n",
       "<path clip-path=\"url(#clip572)\" d=\"M986.543 1445.72 L986.543 1445.72 L1011.25 1445.72 L1011.25 1445.72 L986.543 1445.72 L986.543 1445.72  Z\" fill=\"#e26f46\" fill-rule=\"evenodd\" fill-opacity=\"1\"/>\n",
       "<polyline clip-path=\"url(#clip572)\" style=\"stroke:#000000; stroke-linecap:round; stroke-linejoin:round; stroke-width:4; stroke-opacity:1; fill:none\" points=\"986.543,1445.72 986.543,1445.72 1011.25,1445.72 986.543,1445.72 \"/>\n",
       "<path clip-path=\"url(#clip572)\" d=\"M1011.25 1445.72 L1011.25 1445.72 L1035.96 1445.72 L1035.96 1445.72 L1011.25 1445.72 L1011.25 1445.72  Z\" fill=\"#e26f46\" fill-rule=\"evenodd\" fill-opacity=\"1\"/>\n",
       "<polyline clip-path=\"url(#clip572)\" style=\"stroke:#000000; stroke-linecap:round; stroke-linejoin:round; stroke-width:4; stroke-opacity:1; fill:none\" points=\"1011.25,1445.72 1011.25,1445.72 1035.96,1445.72 1011.25,1445.72 \"/>\n",
       "<path clip-path=\"url(#clip572)\" d=\"M1035.96 1445.72 L1035.96 1445.72 L1060.67 1445.72 L1060.67 1445.72 L1035.96 1445.72 L1035.96 1445.72  Z\" fill=\"#e26f46\" fill-rule=\"evenodd\" fill-opacity=\"1\"/>\n",
       "<polyline clip-path=\"url(#clip572)\" style=\"stroke:#000000; stroke-linecap:round; stroke-linejoin:round; stroke-width:4; stroke-opacity:1; fill:none\" points=\"1035.96,1445.72 1035.96,1445.72 1060.67,1445.72 1035.96,1445.72 \"/>\n",
       "<path clip-path=\"url(#clip572)\" d=\"M1060.67 1441.21 L1060.67 1445.72 L1085.38 1445.72 L1085.38 1441.21 L1060.67 1441.21 L1060.67 1441.21  Z\" fill=\"#e26f46\" fill-rule=\"evenodd\" fill-opacity=\"1\"/>\n",
       "<polyline clip-path=\"url(#clip572)\" style=\"stroke:#000000; stroke-linecap:round; stroke-linejoin:round; stroke-width:4; stroke-opacity:1; fill:none\" points=\"1060.67,1441.21 1060.67,1445.72 1085.38,1445.72 1085.38,1441.21 1060.67,1441.21 \"/>\n",
       "<path clip-path=\"url(#clip572)\" d=\"M1085.38 1445.72 L1085.38 1445.72 L1110.09 1445.72 L1110.09 1445.72 L1085.38 1445.72 L1085.38 1445.72  Z\" fill=\"#e26f46\" fill-rule=\"evenodd\" fill-opacity=\"1\"/>\n",
       "<polyline clip-path=\"url(#clip572)\" style=\"stroke:#000000; stroke-linecap:round; stroke-linejoin:round; stroke-width:4; stroke-opacity:1; fill:none\" points=\"1085.38,1445.72 1085.38,1445.72 1110.09,1445.72 1085.38,1445.72 \"/>\n",
       "<path clip-path=\"url(#clip572)\" d=\"M1110.09 1445.72 L1110.09 1445.72 L1134.8 1445.72 L1134.8 1445.72 L1110.09 1445.72 L1110.09 1445.72  Z\" fill=\"#e26f46\" fill-rule=\"evenodd\" fill-opacity=\"1\"/>\n",
       "<polyline clip-path=\"url(#clip572)\" style=\"stroke:#000000; stroke-linecap:round; stroke-linejoin:round; stroke-width:4; stroke-opacity:1; fill:none\" points=\"1110.09,1445.72 1110.09,1445.72 1134.8,1445.72 1110.09,1445.72 \"/>\n",
       "<path clip-path=\"url(#clip572)\" d=\"M1134.8 1445.72 L1134.8 1445.72 L1159.51 1445.72 L1159.51 1445.72 L1134.8 1445.72 L1134.8 1445.72  Z\" fill=\"#e26f46\" fill-rule=\"evenodd\" fill-opacity=\"1\"/>\n",
       "<polyline clip-path=\"url(#clip572)\" style=\"stroke:#000000; stroke-linecap:round; stroke-linejoin:round; stroke-width:4; stroke-opacity:1; fill:none\" points=\"1134.8,1445.72 1134.8,1445.72 1159.51,1445.72 1134.8,1445.72 \"/>\n",
       "<path clip-path=\"url(#clip572)\" d=\"M1159.51 1445.72 L1159.51 1445.72 L1184.22 1445.72 L1184.22 1445.72 L1159.51 1445.72 L1159.51 1445.72  Z\" fill=\"#e26f46\" fill-rule=\"evenodd\" fill-opacity=\"1\"/>\n",
       "<polyline clip-path=\"url(#clip572)\" style=\"stroke:#000000; stroke-linecap:round; stroke-linejoin:round; stroke-width:4; stroke-opacity:1; fill:none\" points=\"1159.51,1445.72 1159.51,1445.72 1184.22,1445.72 1159.51,1445.72 \"/>\n",
       "<path clip-path=\"url(#clip572)\" d=\"M1184.22 1424.54 L1184.22 1445.72 L1208.93 1445.72 L1208.93 1424.54 L1184.22 1424.54 L1184.22 1424.54  Z\" fill=\"#e26f46\" fill-rule=\"evenodd\" fill-opacity=\"1\"/>\n",
       "<polyline clip-path=\"url(#clip572)\" style=\"stroke:#000000; stroke-linecap:round; stroke-linejoin:round; stroke-width:4; stroke-opacity:1; fill:none\" points=\"1184.22,1424.54 1184.22,1445.72 1208.93,1445.72 1208.93,1424.54 1184.22,1424.54 \"/>\n",
       "<path clip-path=\"url(#clip572)\" d=\"M1208.93 1445.72 L1208.93 1445.72 L1233.64 1445.72 L1233.64 1445.72 L1208.93 1445.72 L1208.93 1445.72  Z\" fill=\"#e26f46\" fill-rule=\"evenodd\" fill-opacity=\"1\"/>\n",
       "<polyline clip-path=\"url(#clip572)\" style=\"stroke:#000000; stroke-linecap:round; stroke-linejoin:round; stroke-width:4; stroke-opacity:1; fill:none\" points=\"1208.93,1445.72 1208.93,1445.72 1233.64,1445.72 1208.93,1445.72 \"/>\n",
       "<path clip-path=\"url(#clip572)\" d=\"M1233.64 1445.72 L1233.64 1445.72 L1258.35 1445.72 L1258.35 1445.72 L1233.64 1445.72 L1233.64 1445.72  Z\" fill=\"#e26f46\" fill-rule=\"evenodd\" fill-opacity=\"1\"/>\n",
       "<polyline clip-path=\"url(#clip572)\" style=\"stroke:#000000; stroke-linecap:round; stroke-linejoin:round; stroke-width:4; stroke-opacity:1; fill:none\" points=\"1233.64,1445.72 1233.64,1445.72 1258.35,1445.72 1233.64,1445.72 \"/>\n",
       "<path clip-path=\"url(#clip572)\" d=\"M1258.35 1445.72 L1258.35 1445.72 L1283.07 1445.72 L1283.07 1445.72 L1258.35 1445.72 L1258.35 1445.72  Z\" fill=\"#e26f46\" fill-rule=\"evenodd\" fill-opacity=\"1\"/>\n",
       "<polyline clip-path=\"url(#clip572)\" style=\"stroke:#000000; stroke-linecap:round; stroke-linejoin:round; stroke-width:4; stroke-opacity:1; fill:none\" points=\"1258.35,1445.72 1258.35,1445.72 1283.07,1445.72 1258.35,1445.72 \"/>\n",
       "<path clip-path=\"url(#clip572)\" d=\"M1283.07 1445.72 L1283.07 1445.72 L1307.78 1445.72 L1307.78 1445.72 L1283.07 1445.72 L1283.07 1445.72  Z\" fill=\"#e26f46\" fill-rule=\"evenodd\" fill-opacity=\"1\"/>\n",
       "<polyline clip-path=\"url(#clip572)\" style=\"stroke:#000000; stroke-linecap:round; stroke-linejoin:round; stroke-width:4; stroke-opacity:1; fill:none\" points=\"1283.07,1445.72 1283.07,1445.72 1307.78,1445.72 1283.07,1445.72 \"/>\n",
       "<path clip-path=\"url(#clip572)\" d=\"M1307.78 1326.75 L1307.78 1445.72 L1332.49 1445.72 L1332.49 1326.75 L1307.78 1326.75 L1307.78 1326.75  Z\" fill=\"#e26f46\" fill-rule=\"evenodd\" fill-opacity=\"1\"/>\n",
       "<polyline clip-path=\"url(#clip572)\" style=\"stroke:#000000; stroke-linecap:round; stroke-linejoin:round; stroke-width:4; stroke-opacity:1; fill:none\" points=\"1307.78,1326.75 1307.78,1445.72 1332.49,1445.72 1332.49,1326.75 1307.78,1326.75 \"/>\n",
       "<path clip-path=\"url(#clip572)\" d=\"M1332.49 1445.72 L1332.49 1445.72 L1357.2 1445.72 L1357.2 1445.72 L1332.49 1445.72 L1332.49 1445.72  Z\" fill=\"#e26f46\" fill-rule=\"evenodd\" fill-opacity=\"1\"/>\n",
       "<polyline clip-path=\"url(#clip572)\" style=\"stroke:#000000; stroke-linecap:round; stroke-linejoin:round; stroke-width:4; stroke-opacity:1; fill:none\" points=\"1332.49,1445.72 1332.49,1445.72 1357.2,1445.72 1332.49,1445.72 \"/>\n",
       "<path clip-path=\"url(#clip572)\" d=\"M1357.2 1445.72 L1357.2 1445.72 L1381.91 1445.72 L1381.91 1445.72 L1357.2 1445.72 L1357.2 1445.72  Z\" fill=\"#e26f46\" fill-rule=\"evenodd\" fill-opacity=\"1\"/>\n",
       "<polyline clip-path=\"url(#clip572)\" style=\"stroke:#000000; stroke-linecap:round; stroke-linejoin:round; stroke-width:4; stroke-opacity:1; fill:none\" points=\"1357.2,1445.72 1357.2,1445.72 1381.91,1445.72 1357.2,1445.72 \"/>\n",
       "<path clip-path=\"url(#clip572)\" d=\"M1381.91 1445.72 L1381.91 1445.72 L1406.62 1445.72 L1406.62 1445.72 L1381.91 1445.72 L1381.91 1445.72  Z\" fill=\"#e26f46\" fill-rule=\"evenodd\" fill-opacity=\"1\"/>\n",
       "<polyline clip-path=\"url(#clip572)\" style=\"stroke:#000000; stroke-linecap:round; stroke-linejoin:round; stroke-width:4; stroke-opacity:1; fill:none\" points=\"1381.91,1445.72 1381.91,1445.72 1406.62,1445.72 1381.91,1445.72 \"/>\n",
       "<path clip-path=\"url(#clip572)\" d=\"M1406.62 1445.72 L1406.62 1445.72 L1431.33 1445.72 L1431.33 1445.72 L1406.62 1445.72 L1406.62 1445.72  Z\" fill=\"#e26f46\" fill-rule=\"evenodd\" fill-opacity=\"1\"/>\n",
       "<polyline clip-path=\"url(#clip572)\" style=\"stroke:#000000; stroke-linecap:round; stroke-linejoin:round; stroke-width:4; stroke-opacity:1; fill:none\" points=\"1406.62,1445.72 1406.62,1445.72 1431.33,1445.72 1406.62,1445.72 \"/>\n",
       "<path clip-path=\"url(#clip572)\" d=\"M1431.33 1054.57 L1431.33 1445.72 L1456.04 1445.72 L1456.04 1054.57 L1431.33 1054.57 L1431.33 1054.57  Z\" fill=\"#e26f46\" fill-rule=\"evenodd\" fill-opacity=\"1\"/>\n",
       "<polyline clip-path=\"url(#clip572)\" style=\"stroke:#000000; stroke-linecap:round; stroke-linejoin:round; stroke-width:4; stroke-opacity:1; fill:none\" points=\"1431.33,1054.57 1431.33,1445.72 1456.04,1445.72 1456.04,1054.57 1431.33,1054.57 \"/>\n",
       "<path clip-path=\"url(#clip572)\" d=\"M1456.04 1445.72 L1456.04 1445.72 L1480.75 1445.72 L1480.75 1445.72 L1456.04 1445.72 L1456.04 1445.72  Z\" fill=\"#e26f46\" fill-rule=\"evenodd\" fill-opacity=\"1\"/>\n",
       "<polyline clip-path=\"url(#clip572)\" style=\"stroke:#000000; stroke-linecap:round; stroke-linejoin:round; stroke-width:4; stroke-opacity:1; fill:none\" points=\"1456.04,1445.72 1456.04,1445.72 1480.75,1445.72 1456.04,1445.72 \"/>\n",
       "<path clip-path=\"url(#clip572)\" d=\"M1480.75 1445.72 L1480.75 1445.72 L1505.46 1445.72 L1505.46 1445.72 L1480.75 1445.72 L1480.75 1445.72  Z\" fill=\"#e26f46\" fill-rule=\"evenodd\" fill-opacity=\"1\"/>\n",
       "<polyline clip-path=\"url(#clip572)\" style=\"stroke:#000000; stroke-linecap:round; stroke-linejoin:round; stroke-width:4; stroke-opacity:1; fill:none\" points=\"1480.75,1445.72 1480.75,1445.72 1505.46,1445.72 1480.75,1445.72 \"/>\n",
       "<path clip-path=\"url(#clip572)\" d=\"M1505.46 1445.72 L1505.46 1445.72 L1530.17 1445.72 L1530.17 1445.72 L1505.46 1445.72 L1505.46 1445.72  Z\" fill=\"#e26f46\" fill-rule=\"evenodd\" fill-opacity=\"1\"/>\n",
       "<polyline clip-path=\"url(#clip572)\" style=\"stroke:#000000; stroke-linecap:round; stroke-linejoin:round; stroke-width:4; stroke-opacity:1; fill:none\" points=\"1505.46,1445.72 1505.46,1445.72 1530.17,1445.72 1505.46,1445.72 \"/>\n",
       "<path clip-path=\"url(#clip572)\" d=\"M1530.17 1445.72 L1530.17 1445.72 L1554.88 1445.72 L1554.88 1445.72 L1530.17 1445.72 L1530.17 1445.72  Z\" fill=\"#e26f46\" fill-rule=\"evenodd\" fill-opacity=\"1\"/>\n",
       "<polyline clip-path=\"url(#clip572)\" style=\"stroke:#000000; stroke-linecap:round; stroke-linejoin:round; stroke-width:4; stroke-opacity:1; fill:none\" points=\"1530.17,1445.72 1530.17,1445.72 1554.88,1445.72 1530.17,1445.72 \"/>\n",
       "<path clip-path=\"url(#clip572)\" d=\"M1554.88 566.092 L1554.88 1445.72 L1579.59 1445.72 L1579.59 566.092 L1554.88 566.092 L1554.88 566.092  Z\" fill=\"#e26f46\" fill-rule=\"evenodd\" fill-opacity=\"1\"/>\n",
       "<polyline clip-path=\"url(#clip572)\" style=\"stroke:#000000; stroke-linecap:round; stroke-linejoin:round; stroke-width:4; stroke-opacity:1; fill:none\" points=\"1554.88,566.092 1554.88,1445.72 1579.59,1445.72 1579.59,566.092 1554.88,566.092 \"/>\n",
       "<path clip-path=\"url(#clip572)\" d=\"M1579.59 1445.72 L1579.59 1445.72 L1604.3 1445.72 L1604.3 1445.72 L1579.59 1445.72 L1579.59 1445.72  Z\" fill=\"#e26f46\" fill-rule=\"evenodd\" fill-opacity=\"1\"/>\n",
       "<polyline clip-path=\"url(#clip572)\" style=\"stroke:#000000; stroke-linecap:round; stroke-linejoin:round; stroke-width:4; stroke-opacity:1; fill:none\" points=\"1579.59,1445.72 1579.59,1445.72 1604.3,1445.72 1579.59,1445.72 \"/>\n",
       "<path clip-path=\"url(#clip572)\" d=\"M1604.3 1445.72 L1604.3 1445.72 L1629.01 1445.72 L1629.01 1445.72 L1604.3 1445.72 L1604.3 1445.72  Z\" fill=\"#e26f46\" fill-rule=\"evenodd\" fill-opacity=\"1\"/>\n",
       "<polyline clip-path=\"url(#clip572)\" style=\"stroke:#000000; stroke-linecap:round; stroke-linejoin:round; stroke-width:4; stroke-opacity:1; fill:none\" points=\"1604.3,1445.72 1604.3,1445.72 1629.01,1445.72 1604.3,1445.72 \"/>\n",
       "<path clip-path=\"url(#clip572)\" d=\"M1629.01 1445.72 L1629.01 1445.72 L1653.72 1445.72 L1653.72 1445.72 L1629.01 1445.72 L1629.01 1445.72  Z\" fill=\"#e26f46\" fill-rule=\"evenodd\" fill-opacity=\"1\"/>\n",
       "<polyline clip-path=\"url(#clip572)\" style=\"stroke:#000000; stroke-linecap:round; stroke-linejoin:round; stroke-width:4; stroke-opacity:1; fill:none\" points=\"1629.01,1445.72 1629.01,1445.72 1653.72,1445.72 1629.01,1445.72 \"/>\n",
       "<path clip-path=\"url(#clip572)\" d=\"M1653.72 1445.72 L1653.72 1445.72 L1678.43 1445.72 L1678.43 1445.72 L1653.72 1445.72 L1653.72 1445.72  Z\" fill=\"#e26f46\" fill-rule=\"evenodd\" fill-opacity=\"1\"/>\n",
       "<polyline clip-path=\"url(#clip572)\" style=\"stroke:#000000; stroke-linecap:round; stroke-linejoin:round; stroke-width:4; stroke-opacity:1; fill:none\" points=\"1653.72,1445.72 1653.72,1445.72 1678.43,1445.72 1653.72,1445.72 \"/>\n",
       "<path clip-path=\"url(#clip572)\" d=\"M1678.43 87.9763 L1678.43 1445.72 L1703.14 1445.72 L1703.14 87.9763 L1678.43 87.9763 L1678.43 87.9763  Z\" fill=\"#e26f46\" fill-rule=\"evenodd\" fill-opacity=\"1\"/>\n",
       "<polyline clip-path=\"url(#clip572)\" style=\"stroke:#000000; stroke-linecap:round; stroke-linejoin:round; stroke-width:4; stroke-opacity:1; fill:none\" points=\"1678.43,87.9763 1678.43,1445.72 1703.14,1445.72 1703.14,87.9763 1678.43,87.9763 \"/>\n",
       "<path clip-path=\"url(#clip572)\" d=\"M1703.14 1445.72 L1703.14 1445.72 L1727.85 1445.72 L1727.85 1445.72 L1703.14 1445.72 L1703.14 1445.72  Z\" fill=\"#e26f46\" fill-rule=\"evenodd\" fill-opacity=\"1\"/>\n",
       "<polyline clip-path=\"url(#clip572)\" style=\"stroke:#000000; stroke-linecap:round; stroke-linejoin:round; stroke-width:4; stroke-opacity:1; fill:none\" points=\"1703.14,1445.72 1703.14,1445.72 1727.85,1445.72 1703.14,1445.72 \"/>\n",
       "<path clip-path=\"url(#clip572)\" d=\"M1727.85 1445.72 L1727.85 1445.72 L1752.56 1445.72 L1752.56 1445.72 L1727.85 1445.72 L1727.85 1445.72  Z\" fill=\"#e26f46\" fill-rule=\"evenodd\" fill-opacity=\"1\"/>\n",
       "<polyline clip-path=\"url(#clip572)\" style=\"stroke:#000000; stroke-linecap:round; stroke-linejoin:round; stroke-width:4; stroke-opacity:1; fill:none\" points=\"1727.85,1445.72 1727.85,1445.72 1752.56,1445.72 1727.85,1445.72 \"/>\n",
       "<path clip-path=\"url(#clip572)\" d=\"M1752.56 1445.72 L1752.56 1445.72 L1777.27 1445.72 L1777.27 1445.72 L1752.56 1445.72 L1752.56 1445.72  Z\" fill=\"#e26f46\" fill-rule=\"evenodd\" fill-opacity=\"1\"/>\n",
       "<polyline clip-path=\"url(#clip572)\" style=\"stroke:#000000; stroke-linecap:round; stroke-linejoin:round; stroke-width:4; stroke-opacity:1; fill:none\" points=\"1752.56,1445.72 1752.56,1445.72 1777.27,1445.72 1752.56,1445.72 \"/>\n",
       "<path clip-path=\"url(#clip572)\" d=\"M1777.27 1445.72 L1777.27 1445.72 L1801.98 1445.72 L1801.98 1445.72 L1777.27 1445.72 L1777.27 1445.72  Z\" fill=\"#e26f46\" fill-rule=\"evenodd\" fill-opacity=\"1\"/>\n",
       "<polyline clip-path=\"url(#clip572)\" style=\"stroke:#000000; stroke-linecap:round; stroke-linejoin:round; stroke-width:4; stroke-opacity:1; fill:none\" points=\"1777.27,1445.72 1777.27,1445.72 1801.98,1445.72 1777.27,1445.72 \"/>\n",
       "<path clip-path=\"url(#clip572)\" d=\"M1801.98 202.886 L1801.98 1445.72 L1826.69 1445.72 L1826.69 202.886 L1801.98 202.886 L1801.98 202.886  Z\" fill=\"#e26f46\" fill-rule=\"evenodd\" fill-opacity=\"1\"/>\n",
       "<polyline clip-path=\"url(#clip572)\" style=\"stroke:#000000; stroke-linecap:round; stroke-linejoin:round; stroke-width:4; stroke-opacity:1; fill:none\" points=\"1801.98,202.886 1801.98,1445.72 1826.69,1445.72 1826.69,202.886 1801.98,202.886 \"/>\n",
       "<path clip-path=\"url(#clip572)\" d=\"M1826.69 1445.72 L1826.69 1445.72 L1851.4 1445.72 L1851.4 1445.72 L1826.69 1445.72 L1826.69 1445.72  Z\" fill=\"#e26f46\" fill-rule=\"evenodd\" fill-opacity=\"1\"/>\n",
       "<polyline clip-path=\"url(#clip572)\" style=\"stroke:#000000; stroke-linecap:round; stroke-linejoin:round; stroke-width:4; stroke-opacity:1; fill:none\" points=\"1826.69,1445.72 1826.69,1445.72 1851.4,1445.72 1826.69,1445.72 \"/>\n",
       "<path clip-path=\"url(#clip572)\" d=\"M1851.4 1445.72 L1851.4 1445.72 L1876.11 1445.72 L1876.11 1445.72 L1851.4 1445.72 L1851.4 1445.72  Z\" fill=\"#e26f46\" fill-rule=\"evenodd\" fill-opacity=\"1\"/>\n",
       "<polyline clip-path=\"url(#clip572)\" style=\"stroke:#000000; stroke-linecap:round; stroke-linejoin:round; stroke-width:4; stroke-opacity:1; fill:none\" points=\"1851.4,1445.72 1851.4,1445.72 1876.11,1445.72 1851.4,1445.72 \"/>\n",
       "<path clip-path=\"url(#clip572)\" d=\"M1876.11 1445.72 L1876.11 1445.72 L1900.82 1445.72 L1900.82 1445.72 L1876.11 1445.72 L1876.11 1445.72  Z\" fill=\"#e26f46\" fill-rule=\"evenodd\" fill-opacity=\"1\"/>\n",
       "<polyline clip-path=\"url(#clip572)\" style=\"stroke:#000000; stroke-linecap:round; stroke-linejoin:round; stroke-width:4; stroke-opacity:1; fill:none\" points=\"1876.11,1445.72 1876.11,1445.72 1900.82,1445.72 1876.11,1445.72 \"/>\n",
       "<path clip-path=\"url(#clip572)\" d=\"M1900.82 1445.72 L1900.82 1445.72 L1925.53 1445.72 L1925.53 1445.72 L1900.82 1445.72 L1900.82 1445.72  Z\" fill=\"#e26f46\" fill-rule=\"evenodd\" fill-opacity=\"1\"/>\n",
       "<polyline clip-path=\"url(#clip572)\" style=\"stroke:#000000; stroke-linecap:round; stroke-linejoin:round; stroke-width:4; stroke-opacity:1; fill:none\" points=\"1900.82,1445.72 1900.82,1445.72 1925.53,1445.72 1900.82,1445.72 \"/>\n",
       "<path clip-path=\"url(#clip572)\" d=\"M1925.53 955.884 L1925.53 1445.72 L1950.24 1445.72 L1950.24 955.884 L1925.53 955.884 L1925.53 955.884  Z\" fill=\"#e26f46\" fill-rule=\"evenodd\" fill-opacity=\"1\"/>\n",
       "<polyline clip-path=\"url(#clip572)\" style=\"stroke:#000000; stroke-linecap:round; stroke-linejoin:round; stroke-width:4; stroke-opacity:1; fill:none\" points=\"1925.53,955.884 1925.53,1445.72 1950.24,1445.72 1950.24,955.884 1925.53,955.884 \"/>\n",
       "<circle clip-path=\"url(#clip572)\" style=\"fill:#e26f46; stroke:none; fill-opacity:0\" cx=\"949.478\" cy=\"1445.27\" r=\"2\"/>\n",
       "<circle clip-path=\"url(#clip572)\" style=\"fill:#e26f46; stroke:none; fill-opacity:0\" cx=\"974.188\" cy=\"1445.72\" r=\"2\"/>\n",
       "<circle clip-path=\"url(#clip572)\" style=\"fill:#e26f46; stroke:none; fill-opacity:0\" cx=\"998.898\" cy=\"1445.72\" r=\"2\"/>\n",
       "<circle clip-path=\"url(#clip572)\" style=\"fill:#e26f46; stroke:none; fill-opacity:0\" cx=\"1023.61\" cy=\"1445.72\" r=\"2\"/>\n",
       "<circle clip-path=\"url(#clip572)\" style=\"fill:#e26f46; stroke:none; fill-opacity:0\" cx=\"1048.32\" cy=\"1445.72\" r=\"2\"/>\n",
       "<circle clip-path=\"url(#clip572)\" style=\"fill:#e26f46; stroke:none; fill-opacity:0\" cx=\"1073.03\" cy=\"1441.21\" r=\"2\"/>\n",
       "<circle clip-path=\"url(#clip572)\" style=\"fill:#e26f46; stroke:none; fill-opacity:0\" cx=\"1097.74\" cy=\"1445.72\" r=\"2\"/>\n",
       "<circle clip-path=\"url(#clip572)\" style=\"fill:#e26f46; stroke:none; fill-opacity:0\" cx=\"1122.45\" cy=\"1445.72\" r=\"2\"/>\n",
       "<circle clip-path=\"url(#clip572)\" style=\"fill:#e26f46; stroke:none; fill-opacity:0\" cx=\"1147.16\" cy=\"1445.72\" r=\"2\"/>\n",
       "<circle clip-path=\"url(#clip572)\" style=\"fill:#e26f46; stroke:none; fill-opacity:0\" cx=\"1171.87\" cy=\"1445.72\" r=\"2\"/>\n",
       "<circle clip-path=\"url(#clip572)\" style=\"fill:#e26f46; stroke:none; fill-opacity:0\" cx=\"1196.58\" cy=\"1424.54\" r=\"2\"/>\n",
       "<circle clip-path=\"url(#clip572)\" style=\"fill:#e26f46; stroke:none; fill-opacity:0\" cx=\"1221.29\" cy=\"1445.72\" r=\"2\"/>\n",
       "<circle clip-path=\"url(#clip572)\" style=\"fill:#e26f46; stroke:none; fill-opacity:0\" cx=\"1246\" cy=\"1445.72\" r=\"2\"/>\n",
       "<circle clip-path=\"url(#clip572)\" style=\"fill:#e26f46; stroke:none; fill-opacity:0\" cx=\"1270.71\" cy=\"1445.72\" r=\"2\"/>\n",
       "<circle clip-path=\"url(#clip572)\" style=\"fill:#e26f46; stroke:none; fill-opacity:0\" cx=\"1295.42\" cy=\"1445.72\" r=\"2\"/>\n",
       "<circle clip-path=\"url(#clip572)\" style=\"fill:#e26f46; stroke:none; fill-opacity:0\" cx=\"1320.13\" cy=\"1326.75\" r=\"2\"/>\n",
       "<circle clip-path=\"url(#clip572)\" style=\"fill:#e26f46; stroke:none; fill-opacity:0\" cx=\"1344.84\" cy=\"1445.72\" r=\"2\"/>\n",
       "<circle clip-path=\"url(#clip572)\" style=\"fill:#e26f46; stroke:none; fill-opacity:0\" cx=\"1369.55\" cy=\"1445.72\" r=\"2\"/>\n",
       "<circle clip-path=\"url(#clip572)\" style=\"fill:#e26f46; stroke:none; fill-opacity:0\" cx=\"1394.26\" cy=\"1445.72\" r=\"2\"/>\n",
       "<circle clip-path=\"url(#clip572)\" style=\"fill:#e26f46; stroke:none; fill-opacity:0\" cx=\"1418.97\" cy=\"1445.72\" r=\"2\"/>\n",
       "<circle clip-path=\"url(#clip572)\" style=\"fill:#e26f46; stroke:none; fill-opacity:0\" cx=\"1443.68\" cy=\"1054.57\" r=\"2\"/>\n",
       "<circle clip-path=\"url(#clip572)\" style=\"fill:#e26f46; stroke:none; fill-opacity:0\" cx=\"1468.39\" cy=\"1445.72\" r=\"2\"/>\n",
       "<circle clip-path=\"url(#clip572)\" style=\"fill:#e26f46; stroke:none; fill-opacity:0\" cx=\"1493.1\" cy=\"1445.72\" r=\"2\"/>\n",
       "<circle clip-path=\"url(#clip572)\" style=\"fill:#e26f46; stroke:none; fill-opacity:0\" cx=\"1517.81\" cy=\"1445.72\" r=\"2\"/>\n",
       "<circle clip-path=\"url(#clip572)\" style=\"fill:#e26f46; stroke:none; fill-opacity:0\" cx=\"1542.52\" cy=\"1445.72\" r=\"2\"/>\n",
       "<circle clip-path=\"url(#clip572)\" style=\"fill:#e26f46; stroke:none; fill-opacity:0\" cx=\"1567.23\" cy=\"566.092\" r=\"2\"/>\n",
       "<circle clip-path=\"url(#clip572)\" style=\"fill:#e26f46; stroke:none; fill-opacity:0\" cx=\"1591.94\" cy=\"1445.72\" r=\"2\"/>\n",
       "<circle clip-path=\"url(#clip572)\" style=\"fill:#e26f46; stroke:none; fill-opacity:0\" cx=\"1616.65\" cy=\"1445.72\" r=\"2\"/>\n",
       "<circle clip-path=\"url(#clip572)\" style=\"fill:#e26f46; stroke:none; fill-opacity:0\" cx=\"1641.36\" cy=\"1445.72\" r=\"2\"/>\n",
       "<circle clip-path=\"url(#clip572)\" style=\"fill:#e26f46; stroke:none; fill-opacity:0\" cx=\"1666.07\" cy=\"1445.72\" r=\"2\"/>\n",
       "<circle clip-path=\"url(#clip572)\" style=\"fill:#e26f46; stroke:none; fill-opacity:0\" cx=\"1690.78\" cy=\"87.9763\" r=\"2\"/>\n",
       "<circle clip-path=\"url(#clip572)\" style=\"fill:#e26f46; stroke:none; fill-opacity:0\" cx=\"1715.49\" cy=\"1445.72\" r=\"2\"/>\n",
       "<circle clip-path=\"url(#clip572)\" style=\"fill:#e26f46; stroke:none; fill-opacity:0\" cx=\"1740.2\" cy=\"1445.72\" r=\"2\"/>\n",
       "<circle clip-path=\"url(#clip572)\" style=\"fill:#e26f46; stroke:none; fill-opacity:0\" cx=\"1764.91\" cy=\"1445.72\" r=\"2\"/>\n",
       "<circle clip-path=\"url(#clip572)\" style=\"fill:#e26f46; stroke:none; fill-opacity:0\" cx=\"1789.62\" cy=\"1445.72\" r=\"2\"/>\n",
       "<circle clip-path=\"url(#clip572)\" style=\"fill:#e26f46; stroke:none; fill-opacity:0\" cx=\"1814.33\" cy=\"202.886\" r=\"2\"/>\n",
       "<circle clip-path=\"url(#clip572)\" style=\"fill:#e26f46; stroke:none; fill-opacity:0\" cx=\"1839.04\" cy=\"1445.72\" r=\"2\"/>\n",
       "<circle clip-path=\"url(#clip572)\" style=\"fill:#e26f46; stroke:none; fill-opacity:0\" cx=\"1863.75\" cy=\"1445.72\" r=\"2\"/>\n",
       "<circle clip-path=\"url(#clip572)\" style=\"fill:#e26f46; stroke:none; fill-opacity:0\" cx=\"1888.46\" cy=\"1445.72\" r=\"2\"/>\n",
       "<circle clip-path=\"url(#clip572)\" style=\"fill:#e26f46; stroke:none; fill-opacity:0\" cx=\"1913.17\" cy=\"1445.72\" r=\"2\"/>\n",
       "<circle clip-path=\"url(#clip572)\" style=\"fill:#e26f46; stroke:none; fill-opacity:0\" cx=\"1937.88\" cy=\"955.884\" r=\"2\"/>\n",
       "<path clip-path=\"url(#clip570)\" d=\"M272.744 250.738 L540.348 250.738 L540.348 95.2176 L272.744 95.2176  Z\" fill=\"#ffffff\" fill-rule=\"evenodd\" fill-opacity=\"1\"/>\n",
       "<polyline clip-path=\"url(#clip570)\" style=\"stroke:#000000; stroke-linecap:round; stroke-linejoin:round; stroke-width:4; stroke-opacity:1; fill:none\" points=\"272.744,250.738 540.348,250.738 540.348,95.2176 272.744,95.2176 272.744,250.738 \"/>\n",
       "<path clip-path=\"url(#clip570)\" d=\"M296.652 167.794 L440.101 167.794 L440.101 126.322 L296.652 126.322 L296.652 167.794  Z\" fill=\"#009af9\" fill-rule=\"evenodd\" fill-opacity=\"1\"/>\n",
       "<polyline clip-path=\"url(#clip570)\" style=\"stroke:#000000; stroke-linecap:round; stroke-linejoin:round; stroke-width:4; stroke-opacity:1; fill:none\" points=\"296.652,167.794 440.101,167.794 440.101,126.322 296.652,126.322 296.652,167.794 \"/>\n",
       "<path clip-path=\"url(#clip570)\" d=\"M477.852 166.745 Q476.046 171.375 474.333 172.787 Q472.62 174.199 469.75 174.199 L466.347 174.199 L466.347 170.634 L468.847 170.634 Q470.607 170.634 471.579 169.8 Q472.551 168.967 473.731 165.865 L474.495 163.921 L464.009 138.412 L468.523 138.412 L476.625 158.689 L484.727 138.412 L489.241 138.412 L477.852 166.745 Z\" fill=\"#000000\" fill-rule=\"evenodd\" fill-opacity=\"1\" /><path clip-path=\"url(#clip570)\" d=\"M496.532 160.402 L504.171 160.402 L504.171 134.037 L495.861 135.703 L495.861 131.444 L504.125 129.778 L508.801 129.778 L508.801 160.402 L516.44 160.402 L516.44 164.338 L496.532 164.338 L496.532 160.402 Z\" fill=\"#000000\" fill-rule=\"evenodd\" fill-opacity=\"1\" /><path clip-path=\"url(#clip570)\" d=\"M296.652 219.634 L440.101 219.634 L440.101 178.162 L296.652 178.162 L296.652 219.634  Z\" fill=\"#e26f46\" fill-rule=\"evenodd\" fill-opacity=\"1\"/>\n",
       "<polyline clip-path=\"url(#clip570)\" style=\"stroke:#000000; stroke-linecap:round; stroke-linejoin:round; stroke-width:4; stroke-opacity:1; fill:none\" points=\"296.652,219.634 440.101,219.634 440.101,178.162 296.652,178.162 296.652,219.634 \"/>\n",
       "<path clip-path=\"url(#clip570)\" d=\"M477.852 218.585 Q476.046 223.215 474.333 224.627 Q472.62 226.039 469.75 226.039 L466.347 226.039 L466.347 222.474 L468.847 222.474 Q470.607 222.474 471.579 221.64 Q472.551 220.807 473.731 217.705 L474.495 215.761 L464.009 190.252 L468.523 190.252 L476.625 210.529 L484.727 190.252 L489.241 190.252 L477.852 218.585 Z\" fill=\"#000000\" fill-rule=\"evenodd\" fill-opacity=\"1\" /><path clip-path=\"url(#clip570)\" d=\"M499.75 212.242 L516.069 212.242 L516.069 216.178 L494.125 216.178 L494.125 212.242 Q496.787 209.488 501.37 204.858 Q505.977 200.205 507.157 198.863 Q509.403 196.34 510.282 194.604 Q511.185 192.844 511.185 191.155 Q511.185 188.4 509.241 186.664 Q507.319 184.928 504.217 184.928 Q502.018 184.928 499.565 185.692 Q497.134 186.455 494.356 188.006 L494.356 183.284 Q497.18 182.15 499.634 181.571 Q502.088 180.993 504.125 180.993 Q509.495 180.993 512.69 183.678 Q515.884 186.363 515.884 190.854 Q515.884 192.983 515.074 194.905 Q514.287 196.803 512.18 199.395 Q511.602 200.067 508.5 203.284 Q505.398 206.479 499.75 212.242 Z\" fill=\"#000000\" fill-rule=\"evenodd\" fill-opacity=\"1\" /></svg>\n"
      ]
     },
     "execution_count": 19,
     "metadata": {},
     "output_type": "execute_result"
    }
   ],
   "source": [
    "normal_sample1 = rand(n,10000);\n",
    "binomial_sample1 = rand(b,10000);\n",
    "histogram(normal_sample1)\n",
    "histogram!(binomial_sample1)"
   ]
  },
  {
   "cell_type": "markdown",
   "id": "22b88d4d",
   "metadata": {},
   "source": [
    "# Question 4\n",
    "### Read the following example and complete the exercises \n",
    "Bayes is playing Russian roulette. The revolver has six chambers. He puts two bullets in two adjacent chambers, spin the cylinder, hold the gun to his head, and pull the trigger. It clicks. So it is now the second try: he can choose either to spin the cylinder again or leave it as it is. "
   ]
  },
  {
   "cell_type": "markdown",
   "id": "4718911a",
   "metadata": {},
   "source": [
    "### 4.1\n",
    "\n",
    "#### What is the probability that Bayes survives the second try given his survival in the first try if he spin the cylinder and explain"
   ]
  },
  {
   "cell_type": "markdown",
   "id": "96f8c663",
   "metadata": {},
   "source": [
    "P(B|A) = 4/6"
   ]
  },
  {
   "cell_type": "markdown",
   "id": "9fd046a8",
   "metadata": {},
   "source": [
    "### 4.2\n",
    "#### In this case, what are the relation between P(B|A), P(B), and P(A) if A represents survival in the first try and B represents survival in the second try"
   ]
  },
  {
   "cell_type": "markdown",
   "id": "7a575296",
   "metadata": {},
   "source": [
    "P(B|A) equals to P(B) and P(B) equals to P(A) in this case since P(B) and P(A) are independent when the cylinder was spun. "
   ]
  },
  {
   "cell_type": "markdown",
   "id": "4e03c813",
   "metadata": {},
   "source": [
    "### 4.3\n",
    "\n",
    "#### What is the probability that Bayes survives both tries without spinning the cylinder and explain"
   ]
  },
  {
   "cell_type": "markdown",
   "id": "29c20dd7",
   "metadata": {},
   "source": [
    "P(A and B) = 3/6 "
   ]
  },
  {
   "cell_type": "markdown",
   "id": "b4de6d2c",
   "metadata": {},
   "source": [
    "### 4.4\n",
    "\n",
    "#### Use answers from 4.1 and 4.3 to calculate the probability that Bayes survives the second try given his survial in the first try if he doesn't spin the cylinder and explain "
   ]
  },
  {
   "cell_type": "markdown",
   "id": "ba46b235",
   "metadata": {},
   "source": [
    "P(B|A) = P(B and A)/P(A) = P(B)/P(A) since B and A are dependent in this case \\\n",
    "P(B|A) = 3/6 / 4/6 = 3/4"
   ]
  }
 ],
 "metadata": {
  "kernelspec": {
   "display_name": "Julia 1.7.2",
   "language": "julia",
   "name": "julia-1.7"
  },
  "language_info": {
   "file_extension": ".jl",
   "mimetype": "application/julia",
   "name": "julia",
   "version": "1.7.2"
  }
 },
 "nbformat": 4,
 "nbformat_minor": 5
}
