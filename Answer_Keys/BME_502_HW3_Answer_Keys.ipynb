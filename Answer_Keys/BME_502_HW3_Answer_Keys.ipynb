{
 "cells": [
  {
   "cell_type": "markdown",
   "id": "e99b061f",
   "metadata": {},
   "source": [
    "<h1>HW3</h1>"
   ]
  },
  {
   "cell_type": "markdown",
   "id": "164902cc",
   "metadata": {},
   "source": [
    "# Question 1\n",
    "### (Bayes Theorem) Read the following example and complete the exercises \n",
    "\n",
    "Trolls Under the Bridge\n",
    "1. Trolls(T) are bad\n",
    "2. Gnomes(G) are benign\n",
    "3. Every bridge has 5 creatures under it\n",
    "\n",
    "Below are the probabilities of what creatures live under a bridge:\n",
    "1. TTGGG: 20% (E1)\n",
    "2. TGGGG: 20% (E2)\n",
    "3. GGGGG: 60% (E3)\n",
    "\n",
    "A knight is approaching a bridge and he wants to know his chance of crossing the bridge safely."
   ]
  },
  {
   "cell_type": "markdown",
   "id": "d4a78038",
   "metadata": {},
   "source": [
    "### 1.1 \n",
    "\n",
    "#### What is the chance of the knight crossing the bridge safely?\n"
   ]
  },
  {
   "cell_type": "code",
   "execution_count": 2,
   "id": "ceda3254",
   "metadata": {},
   "outputs": [],
   "source": [
    "0.6;"
   ]
  },
  {
   "cell_type": "markdown",
   "id": "fbc65b17",
   "metadata": {},
   "source": [
    "### 1.2\n",
    "\n",
    "#### Before crossing a bridge, a knight captures a troll. “I now have an 80% chance of crossing safely,” he reasons, “since only the case 20% had TTGGG (E1) now have TGGG is still a threat.”\n",
    "\n",
    "#### Do you agree with him? Why?"
   ]
  },
  {
   "cell_type": "markdown",
   "id": "06cb0a0b",
   "metadata": {},
   "source": [
    "No, he didn't take the new information (captured the troll) into account."
   ]
  },
  {
   "cell_type": "markdown",
   "id": "7c53d6e4",
   "metadata": {},
   "source": [
    "### 1.3\n",
    "\n",
    "#### Now he wants to use Bayes' theorem to calculate his chance of crossing safely given a troll captured \n",
    "\n",
    "\\begin{equation*}\n",
    "P(A|B) = \\frac{P(B|A)P(A)}{P(B)} \\\\\n",
    "P(A|B): Posteior \\\\\n",
    "P(B|A): Likelihood \\\\\n",
    "P(A): Prior \\\\\n",
    "P(B): Marginal Probability \\\\\n",
    "\\end{equation*}\n",
    "\n",
    "#### Given the three events, E1, E2, and E3, which two of the three events does the knight need to consider after a troll was captured?"
   ]
  },
  {
   "cell_type": "markdown",
   "id": "8c1c13b0",
   "metadata": {},
   "source": [
    "E1 and E2"
   ]
  },
  {
   "cell_type": "markdown",
   "id": "5ff4469d",
   "metadata": {},
   "source": [
    "### 1.4\n",
    "\n",
    "#### Use Bayes' theorem to calculate the probability of the two events in 1.3 (separately) given the troll was captured. "
   ]
  },
  {
   "cell_type": "markdown",
   "id": "b55595c7",
   "metadata": {},
   "source": [
    "Probability of one event given a troll captured: "
   ]
  },
  {
   "cell_type": "code",
   "execution_count": 5,
   "id": "5414786e",
   "metadata": {},
   "outputs": [],
   "source": [
    "(2/5*1/5)/(2/5*1/5+1/5*1/5+0*3/5);"
   ]
  },
  {
   "cell_type": "markdown",
   "id": "f8223528",
   "metadata": {},
   "source": [
    "Probability of the other event given a troll captured: "
   ]
  },
  {
   "cell_type": "code",
   "execution_count": 4,
   "id": "a3bb6f48",
   "metadata": {},
   "outputs": [],
   "source": [
    "(1/5*1/5)/(2/5*1/5+1/5*1/5+0*3/5);"
   ]
  },
  {
   "cell_type": "markdown",
   "id": "a9bc2e53",
   "metadata": {},
   "source": [
    "### 1.5\n",
    "\n",
    "#### What is the chance of the knight crossing safely?"
   ]
  },
  {
   "cell_type": "code",
   "execution_count": 7,
   "id": "da1bcd2f",
   "metadata": {},
   "outputs": [],
   "source": [
    "1/3;"
   ]
  },
  {
   "cell_type": "markdown",
   "id": "420ad8bb",
   "metadata": {},
   "source": [
    "#### Now looking back to 1.1, the probabilities were changed after assimilating data! "
   ]
  },
  {
   "cell_type": "markdown",
   "id": "b7e4150c",
   "metadata": {},
   "source": [
    "# Question 2\n",
    "### (Polynomial Fitting) Read the following example and complete the exercises \n",
    "\n",
    "Biological data always comes with errors that influence the intepretation of the data significantly. In this question, we will simulate data and see how noises affect the parameter estimation."
   ]
  },
  {
   "cell_type": "code",
   "execution_count": 8,
   "id": "bc0a7617",
   "metadata": {},
   "outputs": [
    {
     "name": "stderr",
     "output_type": "stream",
     "text": [
      "\u001b[32m\u001b[1m    Updating\u001b[22m\u001b[39m registry at `~/.julia/registries/General.toml`\n",
      "\u001b[32m\u001b[1m   Resolving\u001b[22m\u001b[39m package versions...\n",
      "\u001b[32m\u001b[1m  No Changes\u001b[22m\u001b[39m to `~/.julia/environments/v1.7/Project.toml`\n",
      "\u001b[32m\u001b[1m  No Changes\u001b[22m\u001b[39m to `~/.julia/environments/v1.7/Manifest.toml`\n"
     ]
    }
   ],
   "source": [
    "import Pkg\n",
    "Pkg.add([\"Distributions\", \"Plots\", \"Polynomials\", \"Random\"])"
   ]
  },
  {
   "cell_type": "code",
   "execution_count": 9,
   "id": "63337160",
   "metadata": {},
   "outputs": [],
   "source": [
    "import Distributions as di\n",
    "import Plots\n",
    "import Polynomials\n",
    "import Random"
   ]
  },
  {
   "cell_type": "markdown",
   "id": "298d3a9f",
   "metadata": {},
   "source": [
    "### 2.1\n",
    "\n",
    "1. Generate the independent variable x ranging from -10 to 10 with an increment of 1\n",
    "2. Generate the dependent variable y_true using the equation y_true = x^2 + 3x - 2\n"
   ]
  },
  {
   "cell_type": "code",
   "execution_count": 10,
   "id": "4fce72d0",
   "metadata": {},
   "outputs": [],
   "source": [
    "x = -10:1:10;"
   ]
  },
  {
   "cell_type": "code",
   "execution_count": 11,
   "id": "dbeaaeb6",
   "metadata": {},
   "outputs": [],
   "source": [
    "y_true = x .^2 .+ 3 .* x .- 2;"
   ]
  },
  {
   "cell_type": "markdown",
   "id": "104de963",
   "metadata": {},
   "source": [
    "### 2.2\n",
    "\n",
    "1. Generate the Guassian noises with zero mean and a standard deviation of 10\n",
    "\n",
    "2. Add the noises to y_true to obtain y_observed\n"
   ]
  },
  {
   "cell_type": "code",
   "execution_count": 12,
   "id": "47d536c4",
   "metadata": {},
   "outputs": [],
   "source": [
    "noise = Random.rand(di.Normal(0,10),length(x));"
   ]
  },
  {
   "cell_type": "code",
   "execution_count": 13,
   "id": "a792079f",
   "metadata": {},
   "outputs": [],
   "source": [
    "y_observed = y_true .+ noise;"
   ]
  },
  {
   "cell_type": "markdown",
   "id": "575f2a1a",
   "metadata": {},
   "source": [
    "### 2.3\n",
    "\n",
    "#### Fit the data (x, y_observed) with a second order polynomial. \n",
    "\n",
    "1. Make a scatter plot of y_observed along x\n",
    "2. Plot a line of y_true along x on the scatter plot\n",
    "3. Plot a line of the fitted polynomial along x on the same plot"
   ]
  },
  {
   "cell_type": "code",
   "execution_count": 14,
   "id": "a7ce2264",
   "metadata": {},
   "outputs": [
    {
     "data": {
      "text/html": [
       "&#45;6.569415245140771 &#43; 3.524406229869887&#8729;x &#43; 1.0854847518660002&#8729;x<sup>2</sup>"
      ],
      "text/latex": [
       "$-6.569415245140771 + 3.524406229869887\\cdot x + 1.0854847518660002\\cdot x^{2}$"
      ],
      "text/plain": [
       "Polynomials.Polynomial(-6.569415245140771 + 3.524406229869887*x + 1.0854847518660002*x^2)"
      ]
     },
     "execution_count": 14,
     "metadata": {},
     "output_type": "execute_result"
    }
   ],
   "source": [
    "poly_fit = Polynomials.fit(x,y_observed,2)"
   ]
  },
  {
   "cell_type": "code",
   "execution_count": 15,
   "id": "21eb578f",
   "metadata": {},
   "outputs": [
    {
     "data": {
      "image/svg+xml": [
       "<?xml version=\"1.0\" encoding=\"utf-8\"?>\n",
       "<svg xmlns=\"http://www.w3.org/2000/svg\" xmlns:xlink=\"http://www.w3.org/1999/xlink\" width=\"600\" height=\"400\" viewBox=\"0 0 2400 1600\">\n",
       "<defs>\n",
       "  <clipPath id=\"clip860\">\n",
       "    <rect x=\"0\" y=\"0\" width=\"2400\" height=\"1600\"/>\n",
       "  </clipPath>\n",
       "</defs>\n",
       "<path clip-path=\"url(#clip860)\" d=\"M0 1600 L2400 1600 L2400 0 L0 0  Z\" fill=\"#ffffff\" fill-rule=\"evenodd\" fill-opacity=\"1\"/>\n",
       "<defs>\n",
       "  <clipPath id=\"clip861\">\n",
       "    <rect x=\"480\" y=\"0\" width=\"1681\" height=\"1600\"/>\n",
       "  </clipPath>\n",
       "</defs>\n",
       "<path clip-path=\"url(#clip860)\" d=\"M169.121 1486.45 L2352.76 1486.45 L2352.76 47.2441 L169.121 47.2441  Z\" fill=\"#ffffff\" fill-rule=\"evenodd\" fill-opacity=\"1\"/>\n",
       "<defs>\n",
       "  <clipPath id=\"clip862\">\n",
       "    <rect x=\"169\" y=\"47\" width=\"2185\" height=\"1440\"/>\n",
       "  </clipPath>\n",
       "</defs>\n",
       "<polyline clip-path=\"url(#clip862)\" style=\"stroke:#000000; stroke-linecap:round; stroke-linejoin:round; stroke-width:2; stroke-opacity:0.1; fill:none\" points=\"230.922,1486.45 230.922,47.2441 \"/>\n",
       "<polyline clip-path=\"url(#clip862)\" style=\"stroke:#000000; stroke-linecap:round; stroke-linejoin:round; stroke-width:2; stroke-opacity:0.1; fill:none\" points=\"745.93,1486.45 745.93,47.2441 \"/>\n",
       "<polyline clip-path=\"url(#clip862)\" style=\"stroke:#000000; stroke-linecap:round; stroke-linejoin:round; stroke-width:2; stroke-opacity:0.1; fill:none\" points=\"1260.94,1486.45 1260.94,47.2441 \"/>\n",
       "<polyline clip-path=\"url(#clip862)\" style=\"stroke:#000000; stroke-linecap:round; stroke-linejoin:round; stroke-width:2; stroke-opacity:0.1; fill:none\" points=\"1775.95,1486.45 1775.95,47.2441 \"/>\n",
       "<polyline clip-path=\"url(#clip862)\" style=\"stroke:#000000; stroke-linecap:round; stroke-linejoin:round; stroke-width:2; stroke-opacity:0.1; fill:none\" points=\"2290.95,1486.45 2290.95,47.2441 \"/>\n",
       "<polyline clip-path=\"url(#clip860)\" style=\"stroke:#000000; stroke-linecap:round; stroke-linejoin:round; stroke-width:4; stroke-opacity:1; fill:none\" points=\"169.121,1486.45 2352.76,1486.45 \"/>\n",
       "<polyline clip-path=\"url(#clip860)\" style=\"stroke:#000000; stroke-linecap:round; stroke-linejoin:round; stroke-width:4; stroke-opacity:1; fill:none\" points=\"230.922,1486.45 230.922,1467.55 \"/>\n",
       "<polyline clip-path=\"url(#clip860)\" style=\"stroke:#000000; stroke-linecap:round; stroke-linejoin:round; stroke-width:4; stroke-opacity:1; fill:none\" points=\"745.93,1486.45 745.93,1467.55 \"/>\n",
       "<polyline clip-path=\"url(#clip860)\" style=\"stroke:#000000; stroke-linecap:round; stroke-linejoin:round; stroke-width:4; stroke-opacity:1; fill:none\" points=\"1260.94,1486.45 1260.94,1467.55 \"/>\n",
       "<polyline clip-path=\"url(#clip860)\" style=\"stroke:#000000; stroke-linecap:round; stroke-linejoin:round; stroke-width:4; stroke-opacity:1; fill:none\" points=\"1775.95,1486.45 1775.95,1467.55 \"/>\n",
       "<polyline clip-path=\"url(#clip860)\" style=\"stroke:#000000; stroke-linecap:round; stroke-linejoin:round; stroke-width:4; stroke-opacity:1; fill:none\" points=\"2290.95,1486.45 2290.95,1467.55 \"/>\n",
       "<path clip-path=\"url(#clip860)\" d=\"M184.985 1532.02 L214.661 1532.02 L214.661 1535.95 L184.985 1535.95 L184.985 1532.02 Z\" fill=\"#000000\" fill-rule=\"evenodd\" fill-opacity=\"1\" /><path clip-path=\"url(#clip860)\" d=\"M225.564 1544.91 L233.202 1544.91 L233.202 1518.55 L224.892 1520.21 L224.892 1515.95 L233.156 1514.29 L237.832 1514.29 L237.832 1544.91 L245.471 1544.91 L245.471 1548.85 L225.564 1548.85 L225.564 1544.91 Z\" fill=\"#000000\" fill-rule=\"evenodd\" fill-opacity=\"1\" /><path clip-path=\"url(#clip860)\" d=\"M264.915 1517.37 Q261.304 1517.37 259.475 1520.93 Q257.67 1524.47 257.67 1531.6 Q257.67 1538.71 259.475 1542.27 Q261.304 1545.82 264.915 1545.82 Q268.549 1545.82 270.355 1542.27 Q272.184 1538.71 272.184 1531.6 Q272.184 1524.47 270.355 1520.93 Q268.549 1517.37 264.915 1517.37 M264.915 1513.66 Q270.725 1513.66 273.781 1518.27 Q276.86 1522.85 276.86 1531.6 Q276.86 1540.33 273.781 1544.94 Q270.725 1549.52 264.915 1549.52 Q259.105 1549.52 256.026 1544.94 Q252.971 1540.33 252.971 1531.6 Q252.971 1522.85 256.026 1518.27 Q259.105 1513.66 264.915 1513.66 Z\" fill=\"#000000\" fill-rule=\"evenodd\" fill-opacity=\"1\" /><path clip-path=\"url(#clip860)\" d=\"M715.572 1532.02 L745.248 1532.02 L745.248 1535.95 L715.572 1535.95 L715.572 1532.02 Z\" fill=\"#000000\" fill-rule=\"evenodd\" fill-opacity=\"1\" /><path clip-path=\"url(#clip860)\" d=\"M755.386 1514.29 L773.743 1514.29 L773.743 1518.22 L759.669 1518.22 L759.669 1526.7 Q760.687 1526.35 761.706 1526.19 Q762.724 1526 763.743 1526 Q769.53 1526 772.909 1529.17 Q776.289 1532.34 776.289 1537.76 Q776.289 1543.34 772.817 1546.44 Q769.345 1549.52 763.025 1549.52 Q760.849 1549.52 758.581 1549.15 Q756.335 1548.78 753.928 1548.04 L753.928 1543.34 Q756.011 1544.47 758.234 1545.03 Q760.456 1545.58 762.933 1545.58 Q766.937 1545.58 769.275 1543.48 Q771.613 1541.37 771.613 1537.76 Q771.613 1534.15 769.275 1532.04 Q766.937 1529.94 762.933 1529.94 Q761.058 1529.94 759.183 1530.35 Q757.331 1530.77 755.386 1531.65 L755.386 1514.29 Z\" fill=\"#000000\" fill-rule=\"evenodd\" fill-opacity=\"1\" /><path clip-path=\"url(#clip860)\" d=\"M1260.94 1517.37 Q1257.33 1517.37 1255.5 1520.93 Q1253.69 1524.47 1253.69 1531.6 Q1253.69 1538.71 1255.5 1542.27 Q1257.33 1545.82 1260.94 1545.82 Q1264.57 1545.82 1266.38 1542.27 Q1268.21 1538.71 1268.21 1531.6 Q1268.21 1524.47 1266.38 1520.93 Q1264.57 1517.37 1260.94 1517.37 M1260.94 1513.66 Q1266.75 1513.66 1269.8 1518.27 Q1272.88 1522.85 1272.88 1531.6 Q1272.88 1540.33 1269.8 1544.94 Q1266.75 1549.52 1260.94 1549.52 Q1255.13 1549.52 1252.05 1544.94 Q1248.99 1540.33 1248.99 1531.6 Q1248.99 1522.85 1252.05 1518.27 Q1255.13 1513.66 1260.94 1513.66 Z\" fill=\"#000000\" fill-rule=\"evenodd\" fill-opacity=\"1\" /><path clip-path=\"url(#clip860)\" d=\"M1766.22 1514.29 L1784.58 1514.29 L1784.58 1518.22 L1770.51 1518.22 L1770.51 1526.7 Q1771.53 1526.35 1772.54 1526.19 Q1773.56 1526 1774.58 1526 Q1780.37 1526 1783.75 1529.17 Q1787.13 1532.34 1787.13 1537.76 Q1787.13 1543.34 1783.66 1546.44 Q1780.18 1549.52 1773.86 1549.52 Q1771.69 1549.52 1769.42 1549.15 Q1767.17 1548.78 1764.77 1548.04 L1764.77 1543.34 Q1766.85 1544.47 1769.07 1545.03 Q1771.29 1545.58 1773.77 1545.58 Q1777.78 1545.58 1780.11 1543.48 Q1782.45 1541.37 1782.45 1537.76 Q1782.45 1534.15 1780.11 1532.04 Q1777.78 1529.94 1773.77 1529.94 Q1771.9 1529.94 1770.02 1530.35 Q1768.17 1530.77 1766.22 1531.65 L1766.22 1514.29 Z\" fill=\"#000000\" fill-rule=\"evenodd\" fill-opacity=\"1\" /><path clip-path=\"url(#clip860)\" d=\"M2265.64 1544.91 L2273.28 1544.91 L2273.28 1518.55 L2264.97 1520.21 L2264.97 1515.95 L2273.24 1514.29 L2277.91 1514.29 L2277.91 1544.91 L2285.55 1544.91 L2285.55 1548.85 L2265.64 1548.85 L2265.64 1544.91 Z\" fill=\"#000000\" fill-rule=\"evenodd\" fill-opacity=\"1\" /><path clip-path=\"url(#clip860)\" d=\"M2304.99 1517.37 Q2301.38 1517.37 2299.55 1520.93 Q2297.75 1524.47 2297.75 1531.6 Q2297.75 1538.71 2299.55 1542.27 Q2301.38 1545.82 2304.99 1545.82 Q2308.63 1545.82 2310.43 1542.27 Q2312.26 1538.71 2312.26 1531.6 Q2312.26 1524.47 2310.43 1520.93 Q2308.63 1517.37 2304.99 1517.37 M2304.99 1513.66 Q2310.8 1513.66 2313.86 1518.27 Q2316.94 1522.85 2316.94 1531.6 Q2316.94 1540.33 2313.86 1544.94 Q2310.8 1549.52 2304.99 1549.52 Q2299.18 1549.52 2296.11 1544.94 Q2293.05 1540.33 2293.05 1531.6 Q2293.05 1522.85 2296.11 1518.27 Q2299.18 1513.66 2304.99 1513.66 Z\" fill=\"#000000\" fill-rule=\"evenodd\" fill-opacity=\"1\" /><polyline clip-path=\"url(#clip862)\" style=\"stroke:#000000; stroke-linecap:round; stroke-linejoin:round; stroke-width:2; stroke-opacity:0.1; fill:none\" points=\"169.121,1309.67 2352.76,1309.67 \"/>\n",
       "<polyline clip-path=\"url(#clip862)\" style=\"stroke:#000000; stroke-linecap:round; stroke-linejoin:round; stroke-width:2; stroke-opacity:0.1; fill:none\" points=\"169.121,1042.58 2352.76,1042.58 \"/>\n",
       "<polyline clip-path=\"url(#clip862)\" style=\"stroke:#000000; stroke-linecap:round; stroke-linejoin:round; stroke-width:2; stroke-opacity:0.1; fill:none\" points=\"169.121,775.494 2352.76,775.494 \"/>\n",
       "<polyline clip-path=\"url(#clip862)\" style=\"stroke:#000000; stroke-linecap:round; stroke-linejoin:round; stroke-width:2; stroke-opacity:0.1; fill:none\" points=\"169.121,508.404 2352.76,508.404 \"/>\n",
       "<polyline clip-path=\"url(#clip862)\" style=\"stroke:#000000; stroke-linecap:round; stroke-linejoin:round; stroke-width:2; stroke-opacity:0.1; fill:none\" points=\"169.121,241.314 2352.76,241.314 \"/>\n",
       "<polyline clip-path=\"url(#clip860)\" style=\"stroke:#000000; stroke-linecap:round; stroke-linejoin:round; stroke-width:4; stroke-opacity:1; fill:none\" points=\"169.121,1486.45 169.121,47.2441 \"/>\n",
       "<polyline clip-path=\"url(#clip860)\" style=\"stroke:#000000; stroke-linecap:round; stroke-linejoin:round; stroke-width:4; stroke-opacity:1; fill:none\" points=\"169.121,1309.67 188.019,1309.67 \"/>\n",
       "<polyline clip-path=\"url(#clip860)\" style=\"stroke:#000000; stroke-linecap:round; stroke-linejoin:round; stroke-width:4; stroke-opacity:1; fill:none\" points=\"169.121,1042.58 188.019,1042.58 \"/>\n",
       "<polyline clip-path=\"url(#clip860)\" style=\"stroke:#000000; stroke-linecap:round; stroke-linejoin:round; stroke-width:4; stroke-opacity:1; fill:none\" points=\"169.121,775.494 188.019,775.494 \"/>\n",
       "<polyline clip-path=\"url(#clip860)\" style=\"stroke:#000000; stroke-linecap:round; stroke-linejoin:round; stroke-width:4; stroke-opacity:1; fill:none\" points=\"169.121,508.404 188.019,508.404 \"/>\n",
       "<polyline clip-path=\"url(#clip860)\" style=\"stroke:#000000; stroke-linecap:round; stroke-linejoin:round; stroke-width:4; stroke-opacity:1; fill:none\" points=\"169.121,241.314 188.019,241.314 \"/>\n",
       "<path clip-path=\"url(#clip860)\" d=\"M121.177 1295.47 Q117.566 1295.47 115.737 1299.04 Q113.932 1302.58 113.932 1309.71 Q113.932 1316.82 115.737 1320.38 Q117.566 1323.92 121.177 1323.92 Q124.811 1323.92 126.617 1320.38 Q128.445 1316.82 128.445 1309.71 Q128.445 1302.58 126.617 1299.04 Q124.811 1295.47 121.177 1295.47 M121.177 1291.77 Q126.987 1291.77 130.043 1296.38 Q133.121 1300.96 133.121 1309.71 Q133.121 1318.44 130.043 1323.04 Q126.987 1327.63 121.177 1327.63 Q115.367 1327.63 112.288 1323.04 Q109.233 1318.44 109.233 1309.71 Q109.233 1300.96 112.288 1296.38 Q115.367 1291.77 121.177 1291.77 Z\" fill=\"#000000\" fill-rule=\"evenodd\" fill-opacity=\"1\" /><path clip-path=\"url(#clip860)\" d=\"M95.1817 1041.23 Q98.5382 1041.95 100.413 1044.22 Q102.311 1046.48 102.311 1049.82 Q102.311 1054.93 98.7928 1057.73 Q95.2743 1060.54 88.7928 1060.54 Q86.6169 1060.54 84.3021 1060.1 Q82.0105 1059.68 79.5568 1058.82 L79.5568 1054.31 Q81.5012 1055.44 83.816 1056.02 Q86.1308 1056.6 88.654 1056.6 Q93.0521 1056.6 95.3437 1054.86 Q97.6585 1053.13 97.6585 1049.82 Q97.6585 1046.76 95.5058 1045.05 Q93.3762 1043.31 89.5567 1043.31 L85.529 1043.31 L85.529 1039.47 L89.7419 1039.47 Q93.191 1039.47 95.0197 1038.11 Q96.8484 1036.72 96.8484 1034.12 Q96.8484 1031.46 94.9502 1030.05 Q93.0752 1028.61 89.5567 1028.61 Q87.6354 1028.61 85.4364 1029.03 Q83.2373 1029.45 80.5984 1030.33 L80.5984 1026.16 Q83.2605 1025.42 85.5753 1025.05 Q87.9132 1024.68 89.9734 1024.68 Q95.2974 1024.68 98.3993 1027.11 Q101.501 1029.52 101.501 1033.64 Q101.501 1036.51 99.8576 1038.5 Q98.2141 1040.47 95.1817 1041.23 Z\" fill=\"#000000\" fill-rule=\"evenodd\" fill-opacity=\"1\" /><path clip-path=\"url(#clip860)\" d=\"M121.177 1028.38 Q117.566 1028.38 115.737 1031.95 Q113.932 1035.49 113.932 1042.62 Q113.932 1049.73 115.737 1053.29 Q117.566 1056.83 121.177 1056.83 Q124.811 1056.83 126.617 1053.29 Q128.445 1049.73 128.445 1042.62 Q128.445 1035.49 126.617 1031.95 Q124.811 1028.38 121.177 1028.38 M121.177 1024.68 Q126.987 1024.68 130.043 1029.29 Q133.121 1033.87 133.121 1042.62 Q133.121 1051.35 130.043 1055.95 Q126.987 1060.54 121.177 1060.54 Q115.367 1060.54 112.288 1055.95 Q109.233 1051.35 109.233 1042.62 Q109.233 1033.87 112.288 1029.29 Q115.367 1024.68 121.177 1024.68 Z\" fill=\"#000000\" fill-rule=\"evenodd\" fill-opacity=\"1\" /><path clip-path=\"url(#clip860)\" d=\"M91.5938 773.631 Q88.4456 773.631 86.5938 775.783 Q84.7651 777.936 84.7651 781.686 Q84.7651 785.413 86.5938 787.589 Q88.4456 789.742 91.5938 789.742 Q94.7419 789.742 96.5706 787.589 Q98.4224 785.413 98.4224 781.686 Q98.4224 777.936 96.5706 775.783 Q94.7419 773.631 91.5938 773.631 M100.876 758.978 L100.876 763.237 Q99.1169 762.404 97.3113 761.964 Q95.5289 761.524 93.7697 761.524 Q89.1401 761.524 86.6864 764.649 Q84.2558 767.774 83.9086 774.094 Q85.2743 772.08 87.3345 771.015 Q89.3947 769.927 91.8715 769.927 Q97.0798 769.927 100.089 773.098 Q103.121 776.246 103.121 781.686 Q103.121 787.01 99.9733 790.228 Q96.8252 793.445 91.5938 793.445 Q85.5984 793.445 82.4271 788.862 Q79.2559 784.256 79.2559 775.529 Q79.2559 767.334 83.1447 762.473 Q87.0336 757.589 93.5845 757.589 Q95.3437 757.589 97.1261 757.936 Q98.9317 758.284 100.876 758.978 Z\" fill=\"#000000\" fill-rule=\"evenodd\" fill-opacity=\"1\" /><path clip-path=\"url(#clip860)\" d=\"M121.177 761.293 Q117.566 761.293 115.737 764.858 Q113.932 768.399 113.932 775.529 Q113.932 782.635 115.737 786.2 Q117.566 789.742 121.177 789.742 Q124.811 789.742 126.617 786.2 Q128.445 782.635 128.445 775.529 Q128.445 768.399 126.617 764.858 Q124.811 761.293 121.177 761.293 M121.177 757.589 Q126.987 757.589 130.043 762.196 Q133.121 766.779 133.121 775.529 Q133.121 784.256 130.043 788.862 Q126.987 793.445 121.177 793.445 Q115.367 793.445 112.288 788.862 Q109.233 784.256 109.233 775.529 Q109.233 766.779 112.288 762.196 Q115.367 757.589 121.177 757.589 Z\" fill=\"#000000\" fill-rule=\"evenodd\" fill-opacity=\"1\" /><path clip-path=\"url(#clip860)\" d=\"M81.154 524.966 L81.154 520.707 Q82.9133 521.54 84.7188 521.98 Q86.5243 522.42 88.2604 522.42 Q92.89 522.42 95.3206 519.318 Q97.7743 516.193 98.1215 509.851 Q96.7789 511.841 94.7187 512.906 Q92.6586 513.971 90.1586 513.971 Q84.9734 513.971 81.941 510.846 Q78.9318 507.698 78.9318 502.258 Q78.9318 496.934 82.0799 493.717 Q85.2281 490.499 90.4595 490.499 Q96.4548 490.499 99.603 495.105 Q102.774 499.689 102.774 508.439 Q102.774 516.61 98.8854 521.494 Q95.0197 526.355 88.4688 526.355 Q86.7095 526.355 84.904 526.008 Q83.0984 525.661 81.154 524.966 M90.4595 510.314 Q93.6076 510.314 95.4363 508.161 Q97.2882 506.008 97.2882 502.258 Q97.2882 498.531 95.4363 496.379 Q93.6076 494.203 90.4595 494.203 Q87.3114 494.203 85.4595 496.379 Q83.6308 498.531 83.6308 502.258 Q83.6308 506.008 85.4595 508.161 Q87.3114 510.314 90.4595 510.314 Z\" fill=\"#000000\" fill-rule=\"evenodd\" fill-opacity=\"1\" /><path clip-path=\"url(#clip860)\" d=\"M121.177 494.203 Q117.566 494.203 115.737 497.767 Q113.932 501.309 113.932 508.439 Q113.932 515.545 115.737 519.11 Q117.566 522.652 121.177 522.652 Q124.811 522.652 126.617 519.11 Q128.445 515.545 128.445 508.439 Q128.445 501.309 126.617 497.767 Q124.811 494.203 121.177 494.203 M121.177 490.499 Q126.987 490.499 130.043 495.105 Q133.121 499.689 133.121 508.439 Q133.121 517.166 130.043 521.772 Q126.987 526.355 121.177 526.355 Q115.367 526.355 112.288 521.772 Q109.233 517.166 109.233 508.439 Q109.233 499.689 112.288 495.105 Q115.367 490.499 121.177 490.499 Z\" fill=\"#000000\" fill-rule=\"evenodd\" fill-opacity=\"1\" /><path clip-path=\"url(#clip860)\" d=\"M51.6634 254.659 L59.3023 254.659 L59.3023 228.293 L50.9921 229.96 L50.9921 225.7 L59.256 224.034 L63.9319 224.034 L63.9319 254.659 L71.5707 254.659 L71.5707 258.594 L51.6634 258.594 L51.6634 254.659 Z\" fill=\"#000000\" fill-rule=\"evenodd\" fill-opacity=\"1\" /><path clip-path=\"url(#clip860)\" d=\"M85.0429 254.659 L101.362 254.659 L101.362 258.594 L79.4179 258.594 L79.4179 254.659 Q82.0799 251.904 86.6632 247.274 Q91.2697 242.622 92.4502 241.279 Q94.6956 238.756 95.5752 237.02 Q96.478 235.261 96.478 233.571 Q96.478 230.816 94.5336 229.08 Q92.6123 227.344 89.5104 227.344 Q87.3114 227.344 84.8577 228.108 Q82.4271 228.872 79.6494 230.423 L79.6494 225.7 Q82.4734 224.566 84.9271 223.988 Q87.3808 223.409 89.4178 223.409 Q94.7882 223.409 97.9826 226.094 Q101.177 228.779 101.177 233.27 Q101.177 235.4 100.367 237.321 Q99.5798 239.219 97.4734 241.812 Q96.8947 242.483 93.7928 245.7 Q90.691 248.895 85.0429 254.659 Z\" fill=\"#000000\" fill-rule=\"evenodd\" fill-opacity=\"1\" /><path clip-path=\"url(#clip860)\" d=\"M121.177 227.113 Q117.566 227.113 115.737 230.677 Q113.932 234.219 113.932 241.349 Q113.932 248.455 115.737 252.02 Q117.566 255.561 121.177 255.561 Q124.811 255.561 126.617 252.02 Q128.445 248.455 128.445 241.349 Q128.445 234.219 126.617 230.677 Q124.811 227.113 121.177 227.113 M121.177 223.409 Q126.987 223.409 130.043 228.015 Q133.121 232.599 133.121 241.349 Q133.121 250.075 130.043 254.682 Q126.987 259.265 121.177 259.265 Q115.367 259.265 112.288 254.682 Q109.233 250.075 109.233 241.349 Q109.233 232.599 112.288 228.015 Q115.367 223.409 121.177 223.409 Z\" fill=\"#000000\" fill-rule=\"evenodd\" fill-opacity=\"1\" /><circle clip-path=\"url(#clip862)\" cx=\"230.922\" cy=\"621.591\" r=\"14.4\" fill=\"#009af9\" fill-rule=\"evenodd\" fill-opacity=\"1\" stroke=\"#000000\" stroke-opacity=\"1\" stroke-width=\"3.2\"/>\n",
       "<circle clip-path=\"url(#clip862)\" cx=\"333.924\" cy=\"925.379\" r=\"14.4\" fill=\"#009af9\" fill-rule=\"evenodd\" fill-opacity=\"1\" stroke=\"#000000\" stroke-opacity=\"1\" stroke-width=\"3.2\"/>\n",
       "<circle clip-path=\"url(#clip862)\" cx=\"436.926\" cy=\"1088.73\" r=\"14.4\" fill=\"#009af9\" fill-rule=\"evenodd\" fill-opacity=\"1\" stroke=\"#000000\" stroke-opacity=\"1\" stroke-width=\"3.2\"/>\n",
       "<circle clip-path=\"url(#clip862)\" cx=\"539.927\" cy=\"1199.9\" r=\"14.4\" fill=\"#009af9\" fill-rule=\"evenodd\" fill-opacity=\"1\" stroke=\"#000000\" stroke-opacity=\"1\" stroke-width=\"3.2\"/>\n",
       "<circle clip-path=\"url(#clip862)\" cx=\"642.929\" cy=\"1130.3\" r=\"14.4\" fill=\"#009af9\" fill-rule=\"evenodd\" fill-opacity=\"1\" stroke=\"#000000\" stroke-opacity=\"1\" stroke-width=\"3.2\"/>\n",
       "<circle clip-path=\"url(#clip862)\" cx=\"745.93\" cy=\"1090.85\" r=\"14.4\" fill=\"#009af9\" fill-rule=\"evenodd\" fill-opacity=\"1\" stroke=\"#000000\" stroke-opacity=\"1\" stroke-width=\"3.2\"/>\n",
       "<circle clip-path=\"url(#clip862)\" cx=\"848.932\" cy=\"1396.95\" r=\"14.4\" fill=\"#009af9\" fill-rule=\"evenodd\" fill-opacity=\"1\" stroke=\"#000000\" stroke-opacity=\"1\" stroke-width=\"3.2\"/>\n",
       "<circle clip-path=\"url(#clip862)\" cx=\"951.934\" cy=\"1445.72\" r=\"14.4\" fill=\"#009af9\" fill-rule=\"evenodd\" fill-opacity=\"1\" stroke=\"#000000\" stroke-opacity=\"1\" stroke-width=\"3.2\"/>\n",
       "<circle clip-path=\"url(#clip862)\" cx=\"1054.94\" cy=\"1444.55\" r=\"14.4\" fill=\"#009af9\" fill-rule=\"evenodd\" fill-opacity=\"1\" stroke=\"#000000\" stroke-opacity=\"1\" stroke-width=\"3.2\"/>\n",
       "<circle clip-path=\"url(#clip862)\" cx=\"1157.94\" cy=\"1310.34\" r=\"14.4\" fill=\"#009af9\" fill-rule=\"evenodd\" fill-opacity=\"1\" stroke=\"#000000\" stroke-opacity=\"1\" stroke-width=\"3.2\"/>\n",
       "<circle clip-path=\"url(#clip862)\" cx=\"1260.94\" cy=\"1386.85\" r=\"14.4\" fill=\"#009af9\" fill-rule=\"evenodd\" fill-opacity=\"1\" stroke=\"#000000\" stroke-opacity=\"1\" stroke-width=\"3.2\"/>\n",
       "<circle clip-path=\"url(#clip862)\" cx=\"1363.94\" cy=\"1392.3\" r=\"14.4\" fill=\"#009af9\" fill-rule=\"evenodd\" fill-opacity=\"1\" stroke=\"#000000\" stroke-opacity=\"1\" stroke-width=\"3.2\"/>\n",
       "<circle clip-path=\"url(#clip862)\" cx=\"1466.94\" cy=\"1266.28\" r=\"14.4\" fill=\"#009af9\" fill-rule=\"evenodd\" fill-opacity=\"1\" stroke=\"#000000\" stroke-opacity=\"1\" stroke-width=\"3.2\"/>\n",
       "<circle clip-path=\"url(#clip862)\" cx=\"1569.94\" cy=\"1186.67\" r=\"14.4\" fill=\"#009af9\" fill-rule=\"evenodd\" fill-opacity=\"1\" stroke=\"#000000\" stroke-opacity=\"1\" stroke-width=\"3.2\"/>\n",
       "<circle clip-path=\"url(#clip862)\" cx=\"1672.95\" cy=\"1100.74\" r=\"14.4\" fill=\"#009af9\" fill-rule=\"evenodd\" fill-opacity=\"1\" stroke=\"#000000\" stroke-opacity=\"1\" stroke-width=\"3.2\"/>\n",
       "<circle clip-path=\"url(#clip862)\" cx=\"1775.95\" cy=\"976.406\" r=\"14.4\" fill=\"#009af9\" fill-rule=\"evenodd\" fill-opacity=\"1\" stroke=\"#000000\" stroke-opacity=\"1\" stroke-width=\"3.2\"/>\n",
       "<circle clip-path=\"url(#clip862)\" cx=\"1878.95\" cy=\"718.397\" r=\"14.4\" fill=\"#009af9\" fill-rule=\"evenodd\" fill-opacity=\"1\" stroke=\"#000000\" stroke-opacity=\"1\" stroke-width=\"3.2\"/>\n",
       "<circle clip-path=\"url(#clip862)\" cx=\"1981.95\" cy=\"595.92\" r=\"14.4\" fill=\"#009af9\" fill-rule=\"evenodd\" fill-opacity=\"1\" stroke=\"#000000\" stroke-opacity=\"1\" stroke-width=\"3.2\"/>\n",
       "<circle clip-path=\"url(#clip862)\" cx=\"2084.95\" cy=\"646.427\" r=\"14.4\" fill=\"#009af9\" fill-rule=\"evenodd\" fill-opacity=\"1\" stroke=\"#000000\" stroke-opacity=\"1\" stroke-width=\"3.2\"/>\n",
       "<circle clip-path=\"url(#clip862)\" cx=\"2187.95\" cy=\"227.683\" r=\"14.4\" fill=\"#009af9\" fill-rule=\"evenodd\" fill-opacity=\"1\" stroke=\"#000000\" stroke-opacity=\"1\" stroke-width=\"3.2\"/>\n",
       "<circle clip-path=\"url(#clip862)\" cx=\"2290.95\" cy=\"138.072\" r=\"14.4\" fill=\"#009af9\" fill-rule=\"evenodd\" fill-opacity=\"1\" stroke=\"#000000\" stroke-opacity=\"1\" stroke-width=\"3.2\"/>\n",
       "<polyline clip-path=\"url(#clip862)\" style=\"stroke:#e26f46; stroke-linecap:round; stroke-linejoin:round; stroke-width:4; stroke-opacity:1; fill:none\" points=\"230.922,715.532 333.924,867.772 436.926,1000.68 539.927,1114.27 642.929,1208.52 745.93,1283.45 848.932,1339.05 951.934,1375.32 1054.94,1392.26 1157.94,1389.88 1260.94,1368.16 1363.94,1327.12 1466.94,1266.75 1569.94,1187.05 1672.95,1088.03 1775.95,969.671 1878.95,831.988 1981.95,674.978 2084.95,498.639 2187.95,302.972 2290.95,87.9763 \"/>\n",
       "<polyline clip-path=\"url(#clip862)\" style=\"stroke:#3da44d; stroke-linecap:round; stroke-linejoin:round; stroke-width:4; stroke-opacity:1; fill:none\" points=\"230.922,704.27 333.924,846.718 436.926,971.36 539.927,1078.2 642.929,1167.23 745.93,1238.45 848.932,1291.87 951.934,1327.48 1054.94,1345.29 1157.94,1345.29 1260.94,1327.48 1363.94,1291.87 1466.94,1238.45 1569.94,1167.23 1672.95,1078.2 1775.95,971.36 1878.95,846.718 1981.95,704.27 2084.95,544.016 2187.95,365.956 2290.95,170.09 \"/>\n",
       "<path clip-path=\"url(#clip860)\" d=\"M241.909 302.578 L513.282 302.578 L513.282 95.2176 L241.909 95.2176  Z\" fill=\"#ffffff\" fill-rule=\"evenodd\" fill-opacity=\"1\"/>\n",
       "<polyline clip-path=\"url(#clip860)\" style=\"stroke:#000000; stroke-linecap:round; stroke-linejoin:round; stroke-width:4; stroke-opacity:1; fill:none\" points=\"241.909,302.578 513.282,302.578 513.282,95.2176 241.909,95.2176 241.909,302.578 \"/>\n",
       "<circle clip-path=\"url(#clip860)\" cx=\"338.96\" cy=\"147.058\" r=\"23.04\" fill=\"#009af9\" fill-rule=\"evenodd\" fill-opacity=\"1\" stroke=\"#000000\" stroke-opacity=\"1\" stroke-width=\"5.12\"/>\n",
       "<path clip-path=\"url(#clip860)\" d=\"M449.853 166.745 Q448.047 171.375 446.334 172.787 Q444.621 174.199 441.751 174.199 L438.348 174.199 L438.348 170.634 L440.848 170.634 Q442.607 170.634 443.579 169.8 Q444.552 168.967 445.732 165.865 L446.496 163.921 L436.01 138.412 L440.524 138.412 L448.626 158.689 L456.727 138.412 L461.241 138.412 L449.853 166.745 Z\" fill=\"#000000\" fill-rule=\"evenodd\" fill-opacity=\"1\" /><path clip-path=\"url(#clip860)\" d=\"M468.533 160.402 L476.172 160.402 L476.172 134.037 L467.862 135.703 L467.862 131.444 L476.126 129.778 L480.801 129.778 L480.801 160.402 L488.44 160.402 L488.44 164.338 L468.533 164.338 L468.533 160.402 Z\" fill=\"#000000\" fill-rule=\"evenodd\" fill-opacity=\"1\" /><polyline clip-path=\"url(#clip860)\" style=\"stroke:#e26f46; stroke-linecap:round; stroke-linejoin:round; stroke-width:4; stroke-opacity:1; fill:none\" points=\"266.172,198.898 411.747,198.898 \"/>\n",
       "<path clip-path=\"url(#clip860)\" d=\"M449.853 218.585 Q448.047 223.215 446.334 224.627 Q444.621 226.039 441.751 226.039 L438.348 226.039 L438.348 222.474 L440.848 222.474 Q442.607 222.474 443.579 221.64 Q444.552 220.807 445.732 217.705 L446.496 215.761 L436.01 190.252 L440.524 190.252 L448.626 210.529 L456.727 190.252 L461.241 190.252 L449.853 218.585 Z\" fill=\"#000000\" fill-rule=\"evenodd\" fill-opacity=\"1\" /><path clip-path=\"url(#clip860)\" d=\"M471.751 212.242 L488.07 212.242 L488.07 216.178 L466.126 216.178 L466.126 212.242 Q468.788 209.488 473.371 204.858 Q477.977 200.205 479.158 198.863 Q481.403 196.34 482.283 194.604 Q483.186 192.844 483.186 191.155 Q483.186 188.4 481.241 186.664 Q479.32 184.928 476.218 184.928 Q474.019 184.928 471.565 185.692 Q469.135 186.455 466.357 188.006 L466.357 183.284 Q469.181 182.15 471.635 181.571 Q474.088 180.993 476.126 180.993 Q481.496 180.993 484.69 183.678 Q487.885 186.363 487.885 190.854 Q487.885 192.983 487.075 194.905 Q486.287 196.803 484.181 199.395 Q483.602 200.067 480.5 203.284 Q477.399 206.479 471.751 212.242 Z\" fill=\"#000000\" fill-rule=\"evenodd\" fill-opacity=\"1\" /><polyline clip-path=\"url(#clip860)\" style=\"stroke:#3da44d; stroke-linecap:round; stroke-linejoin:round; stroke-width:4; stroke-opacity:1; fill:none\" points=\"266.172,250.738 411.747,250.738 \"/>\n",
       "<path clip-path=\"url(#clip860)\" d=\"M449.853 270.425 Q448.047 275.055 446.334 276.467 Q444.621 277.879 441.751 277.879 L438.348 277.879 L438.348 274.314 L440.848 274.314 Q442.607 274.314 443.579 273.48 Q444.552 272.647 445.732 269.545 L446.496 267.601 L436.01 242.092 L440.524 242.092 L448.626 262.369 L456.727 242.092 L461.241 242.092 L449.853 270.425 Z\" fill=\"#000000\" fill-rule=\"evenodd\" fill-opacity=\"1\" /><path clip-path=\"url(#clip860)\" d=\"M481.889 249.383 Q485.246 250.101 487.121 252.369 Q489.019 254.638 489.019 257.971 Q489.019 263.087 485.5 265.888 Q481.982 268.689 475.501 268.689 Q473.325 268.689 471.01 268.249 Q468.718 267.832 466.264 266.976 L466.264 262.462 Q468.209 263.596 470.524 264.175 Q472.838 264.754 475.362 264.754 Q479.76 264.754 482.051 263.018 Q484.366 261.281 484.366 257.971 Q484.366 254.916 482.213 253.203 Q480.084 251.467 476.264 251.467 L472.237 251.467 L472.237 247.624 L476.45 247.624 Q479.899 247.624 481.727 246.258 Q483.556 244.87 483.556 242.277 Q483.556 239.615 481.658 238.203 Q479.783 236.768 476.264 236.768 Q474.343 236.768 472.144 237.184 Q469.945 237.601 467.306 238.481 L467.306 234.314 Q469.968 233.573 472.283 233.203 Q474.621 232.833 476.681 232.833 Q482.005 232.833 485.107 235.263 Q488.209 237.67 488.209 241.791 Q488.209 244.661 486.565 246.652 Q484.922 248.62 481.889 249.383 Z\" fill=\"#000000\" fill-rule=\"evenodd\" fill-opacity=\"1\" /></svg>\n"
      ]
     },
     "execution_count": 15,
     "metadata": {},
     "output_type": "execute_result"
    }
   ],
   "source": [
    "Plots.scatter(x,y_observed)\n",
    "Plots.plot!(x,poly_fit.(x))\n",
    "Plots.plot!(x,y_true)"
   ]
  },
  {
   "cell_type": "markdown",
   "id": "0f779f14",
   "metadata": {},
   "source": [
    "### 2.4\n",
    "\n",
    "1. Repeat 2.2 and 2.3 with a noise with a standard deviation of 50\n",
    "2. Compare the plot with the plot in 2.3. Is the fit closer to y_true or not, and why?"
   ]
  },
  {
   "cell_type": "code",
   "execution_count": 16,
   "id": "d561637d",
   "metadata": {},
   "outputs": [
    {
     "data": {
      "image/svg+xml": [
       "<?xml version=\"1.0\" encoding=\"utf-8\"?>\n",
       "<svg xmlns=\"http://www.w3.org/2000/svg\" xmlns:xlink=\"http://www.w3.org/1999/xlink\" width=\"600\" height=\"400\" viewBox=\"0 0 2400 1600\">\n",
       "<defs>\n",
       "  <clipPath id=\"clip900\">\n",
       "    <rect x=\"0\" y=\"0\" width=\"2400\" height=\"1600\"/>\n",
       "  </clipPath>\n",
       "</defs>\n",
       "<path clip-path=\"url(#clip900)\" d=\"M0 1600 L2400 1600 L2400 0 L0 0  Z\" fill=\"#ffffff\" fill-rule=\"evenodd\" fill-opacity=\"1\"/>\n",
       "<defs>\n",
       "  <clipPath id=\"clip901\">\n",
       "    <rect x=\"480\" y=\"0\" width=\"1681\" height=\"1600\"/>\n",
       "  </clipPath>\n",
       "</defs>\n",
       "<path clip-path=\"url(#clip900)\" d=\"M178.867 1486.45 L2352.76 1486.45 L2352.76 47.2441 L178.867 47.2441  Z\" fill=\"#ffffff\" fill-rule=\"evenodd\" fill-opacity=\"1\"/>\n",
       "<defs>\n",
       "  <clipPath id=\"clip902\">\n",
       "    <rect x=\"178\" y=\"47\" width=\"2175\" height=\"1440\"/>\n",
       "  </clipPath>\n",
       "</defs>\n",
       "<polyline clip-path=\"url(#clip902)\" style=\"stroke:#000000; stroke-linecap:round; stroke-linejoin:round; stroke-width:2; stroke-opacity:0.1; fill:none\" points=\"240.392,1486.45 240.392,47.2441 \"/>\n",
       "<polyline clip-path=\"url(#clip902)\" style=\"stroke:#000000; stroke-linecap:round; stroke-linejoin:round; stroke-width:2; stroke-opacity:0.1; fill:none\" points=\"753.102,1486.45 753.102,47.2441 \"/>\n",
       "<polyline clip-path=\"url(#clip902)\" style=\"stroke:#000000; stroke-linecap:round; stroke-linejoin:round; stroke-width:2; stroke-opacity:0.1; fill:none\" points=\"1265.81,1486.45 1265.81,47.2441 \"/>\n",
       "<polyline clip-path=\"url(#clip902)\" style=\"stroke:#000000; stroke-linecap:round; stroke-linejoin:round; stroke-width:2; stroke-opacity:0.1; fill:none\" points=\"1778.52,1486.45 1778.52,47.2441 \"/>\n",
       "<polyline clip-path=\"url(#clip902)\" style=\"stroke:#000000; stroke-linecap:round; stroke-linejoin:round; stroke-width:2; stroke-opacity:0.1; fill:none\" points=\"2291.23,1486.45 2291.23,47.2441 \"/>\n",
       "<polyline clip-path=\"url(#clip900)\" style=\"stroke:#000000; stroke-linecap:round; stroke-linejoin:round; stroke-width:4; stroke-opacity:1; fill:none\" points=\"178.867,1486.45 2352.76,1486.45 \"/>\n",
       "<polyline clip-path=\"url(#clip900)\" style=\"stroke:#000000; stroke-linecap:round; stroke-linejoin:round; stroke-width:4; stroke-opacity:1; fill:none\" points=\"240.392,1486.45 240.392,1467.55 \"/>\n",
       "<polyline clip-path=\"url(#clip900)\" style=\"stroke:#000000; stroke-linecap:round; stroke-linejoin:round; stroke-width:4; stroke-opacity:1; fill:none\" points=\"753.102,1486.45 753.102,1467.55 \"/>\n",
       "<polyline clip-path=\"url(#clip900)\" style=\"stroke:#000000; stroke-linecap:round; stroke-linejoin:round; stroke-width:4; stroke-opacity:1; fill:none\" points=\"1265.81,1486.45 1265.81,1467.55 \"/>\n",
       "<polyline clip-path=\"url(#clip900)\" style=\"stroke:#000000; stroke-linecap:round; stroke-linejoin:round; stroke-width:4; stroke-opacity:1; fill:none\" points=\"1778.52,1486.45 1778.52,1467.55 \"/>\n",
       "<polyline clip-path=\"url(#clip900)\" style=\"stroke:#000000; stroke-linecap:round; stroke-linejoin:round; stroke-width:4; stroke-opacity:1; fill:none\" points=\"2291.23,1486.45 2291.23,1467.55 \"/>\n",
       "<path clip-path=\"url(#clip900)\" d=\"M194.455 1532.02 L224.13 1532.02 L224.13 1535.95 L194.455 1535.95 L194.455 1532.02 Z\" fill=\"#000000\" fill-rule=\"evenodd\" fill-opacity=\"1\" /><path clip-path=\"url(#clip900)\" d=\"M235.033 1544.91 L242.672 1544.91 L242.672 1518.55 L234.362 1520.21 L234.362 1515.95 L242.626 1514.29 L247.301 1514.29 L247.301 1544.91 L254.94 1544.91 L254.94 1548.85 L235.033 1548.85 L235.033 1544.91 Z\" fill=\"#000000\" fill-rule=\"evenodd\" fill-opacity=\"1\" /><path clip-path=\"url(#clip900)\" d=\"M274.385 1517.37 Q270.774 1517.37 268.945 1520.93 Q267.139 1524.47 267.139 1531.6 Q267.139 1538.71 268.945 1542.27 Q270.774 1545.82 274.385 1545.82 Q278.019 1545.82 279.824 1542.27 Q281.653 1538.71 281.653 1531.6 Q281.653 1524.47 279.824 1520.93 Q278.019 1517.37 274.385 1517.37 M274.385 1513.66 Q280.195 1513.66 283.25 1518.27 Q286.329 1522.85 286.329 1531.6 Q286.329 1540.33 283.25 1544.94 Q280.195 1549.52 274.385 1549.52 Q268.575 1549.52 265.496 1544.94 Q262.44 1540.33 262.44 1531.6 Q262.44 1522.85 265.496 1518.27 Q268.575 1513.66 274.385 1513.66 Z\" fill=\"#000000\" fill-rule=\"evenodd\" fill-opacity=\"1\" /><path clip-path=\"url(#clip900)\" d=\"M722.743 1532.02 L752.419 1532.02 L752.419 1535.95 L722.743 1535.95 L722.743 1532.02 Z\" fill=\"#000000\" fill-rule=\"evenodd\" fill-opacity=\"1\" /><path clip-path=\"url(#clip900)\" d=\"M762.558 1514.29 L780.914 1514.29 L780.914 1518.22 L766.84 1518.22 L766.84 1526.7 Q767.858 1526.35 768.877 1526.19 Q769.895 1526 770.914 1526 Q776.701 1526 780.081 1529.17 Q783.46 1532.34 783.46 1537.76 Q783.46 1543.34 779.988 1546.44 Q776.516 1549.52 770.196 1549.52 Q768.02 1549.52 765.752 1549.15 Q763.507 1548.78 761.099 1548.04 L761.099 1543.34 Q763.183 1544.47 765.405 1545.03 Q767.627 1545.58 770.104 1545.58 Q774.108 1545.58 776.446 1543.48 Q778.784 1541.37 778.784 1537.76 Q778.784 1534.15 776.446 1532.04 Q774.108 1529.94 770.104 1529.94 Q768.229 1529.94 766.354 1530.35 Q764.502 1530.77 762.558 1531.65 L762.558 1514.29 Z\" fill=\"#000000\" fill-rule=\"evenodd\" fill-opacity=\"1\" /><path clip-path=\"url(#clip900)\" d=\"M1265.81 1517.37 Q1262.2 1517.37 1260.37 1520.93 Q1258.57 1524.47 1258.57 1531.6 Q1258.57 1538.71 1260.37 1542.27 Q1262.2 1545.82 1265.81 1545.82 Q1269.45 1545.82 1271.25 1542.27 Q1273.08 1538.71 1273.08 1531.6 Q1273.08 1524.47 1271.25 1520.93 Q1269.45 1517.37 1265.81 1517.37 M1265.81 1513.66 Q1271.62 1513.66 1274.68 1518.27 Q1277.76 1522.85 1277.76 1531.6 Q1277.76 1540.33 1274.68 1544.94 Q1271.62 1549.52 1265.81 1549.52 Q1260 1549.52 1256.92 1544.94 Q1253.87 1540.33 1253.87 1531.6 Q1253.87 1522.85 1256.92 1518.27 Q1260 1513.66 1265.81 1513.66 Z\" fill=\"#000000\" fill-rule=\"evenodd\" fill-opacity=\"1\" /><path clip-path=\"url(#clip900)\" d=\"M1768.8 1514.29 L1787.16 1514.29 L1787.16 1518.22 L1773.08 1518.22 L1773.08 1526.7 Q1774.1 1526.35 1775.12 1526.19 Q1776.14 1526 1777.16 1526 Q1782.94 1526 1786.32 1529.17 Q1789.7 1532.34 1789.7 1537.76 Q1789.7 1543.34 1786.23 1546.44 Q1782.76 1549.52 1776.44 1549.52 Q1774.26 1549.52 1771.99 1549.15 Q1769.75 1548.78 1767.34 1548.04 L1767.34 1543.34 Q1769.42 1544.47 1771.65 1545.03 Q1773.87 1545.58 1776.35 1545.58 Q1780.35 1545.58 1782.69 1543.48 Q1785.03 1541.37 1785.03 1537.76 Q1785.03 1534.15 1782.69 1532.04 Q1780.35 1529.94 1776.35 1529.94 Q1774.47 1529.94 1772.6 1530.35 Q1770.74 1530.77 1768.8 1531.65 L1768.8 1514.29 Z\" fill=\"#000000\" fill-rule=\"evenodd\" fill-opacity=\"1\" /><path clip-path=\"url(#clip900)\" d=\"M2265.92 1544.91 L2273.56 1544.91 L2273.56 1518.55 L2265.25 1520.21 L2265.25 1515.95 L2273.51 1514.29 L2278.19 1514.29 L2278.19 1544.91 L2285.83 1544.91 L2285.83 1548.85 L2265.92 1548.85 L2265.92 1544.91 Z\" fill=\"#000000\" fill-rule=\"evenodd\" fill-opacity=\"1\" /><path clip-path=\"url(#clip900)\" d=\"M2305.27 1517.37 Q2301.66 1517.37 2299.83 1520.93 Q2298.02 1524.47 2298.02 1531.6 Q2298.02 1538.71 2299.83 1542.27 Q2301.66 1545.82 2305.27 1545.82 Q2308.9 1545.82 2310.71 1542.27 Q2312.54 1538.71 2312.54 1531.6 Q2312.54 1524.47 2310.71 1520.93 Q2308.9 1517.37 2305.27 1517.37 M2305.27 1513.66 Q2311.08 1513.66 2314.14 1518.27 Q2317.21 1522.85 2317.21 1531.6 Q2317.21 1540.33 2314.14 1544.94 Q2311.08 1549.52 2305.27 1549.52 Q2299.46 1549.52 2296.38 1544.94 Q2293.33 1540.33 2293.33 1531.6 Q2293.33 1522.85 2296.38 1518.27 Q2299.46 1513.66 2305.27 1513.66 Z\" fill=\"#000000\" fill-rule=\"evenodd\" fill-opacity=\"1\" /><polyline clip-path=\"url(#clip902)\" style=\"stroke:#000000; stroke-linecap:round; stroke-linejoin:round; stroke-width:2; stroke-opacity:0.1; fill:none\" points=\"178.867,1448.34 2352.76,1448.34 \"/>\n",
       "<polyline clip-path=\"url(#clip902)\" style=\"stroke:#000000; stroke-linecap:round; stroke-linejoin:round; stroke-width:2; stroke-opacity:0.1; fill:none\" points=\"178.867,1199.54 2352.76,1199.54 \"/>\n",
       "<polyline clip-path=\"url(#clip902)\" style=\"stroke:#000000; stroke-linecap:round; stroke-linejoin:round; stroke-width:2; stroke-opacity:0.1; fill:none\" points=\"178.867,950.741 2352.76,950.741 \"/>\n",
       "<polyline clip-path=\"url(#clip902)\" style=\"stroke:#000000; stroke-linecap:round; stroke-linejoin:round; stroke-width:2; stroke-opacity:0.1; fill:none\" points=\"178.867,701.941 2352.76,701.941 \"/>\n",
       "<polyline clip-path=\"url(#clip902)\" style=\"stroke:#000000; stroke-linecap:round; stroke-linejoin:round; stroke-width:2; stroke-opacity:0.1; fill:none\" points=\"178.867,453.141 2352.76,453.141 \"/>\n",
       "<polyline clip-path=\"url(#clip902)\" style=\"stroke:#000000; stroke-linecap:round; stroke-linejoin:round; stroke-width:2; stroke-opacity:0.1; fill:none\" points=\"178.867,204.341 2352.76,204.341 \"/>\n",
       "<polyline clip-path=\"url(#clip900)\" style=\"stroke:#000000; stroke-linecap:round; stroke-linejoin:round; stroke-width:4; stroke-opacity:1; fill:none\" points=\"178.867,1486.45 178.867,47.2441 \"/>\n",
       "<polyline clip-path=\"url(#clip900)\" style=\"stroke:#000000; stroke-linecap:round; stroke-linejoin:round; stroke-width:4; stroke-opacity:1; fill:none\" points=\"178.867,1448.34 197.764,1448.34 \"/>\n",
       "<polyline clip-path=\"url(#clip900)\" style=\"stroke:#000000; stroke-linecap:round; stroke-linejoin:round; stroke-width:4; stroke-opacity:1; fill:none\" points=\"178.867,1199.54 197.764,1199.54 \"/>\n",
       "<polyline clip-path=\"url(#clip900)\" style=\"stroke:#000000; stroke-linecap:round; stroke-linejoin:round; stroke-width:4; stroke-opacity:1; fill:none\" points=\"178.867,950.741 197.764,950.741 \"/>\n",
       "<polyline clip-path=\"url(#clip900)\" style=\"stroke:#000000; stroke-linecap:round; stroke-linejoin:round; stroke-width:4; stroke-opacity:1; fill:none\" points=\"178.867,701.941 197.764,701.941 \"/>\n",
       "<polyline clip-path=\"url(#clip900)\" style=\"stroke:#000000; stroke-linecap:round; stroke-linejoin:round; stroke-width:4; stroke-opacity:1; fill:none\" points=\"178.867,453.141 197.764,453.141 \"/>\n",
       "<polyline clip-path=\"url(#clip900)\" style=\"stroke:#000000; stroke-linecap:round; stroke-linejoin:round; stroke-width:4; stroke-opacity:1; fill:none\" points=\"178.867,204.341 197.764,204.341 \"/>\n",
       "<path clip-path=\"url(#clip900)\" d=\"M50.9921 1448.79 L80.6679 1448.79 L80.6679 1452.73 L50.9921 1452.73 L50.9921 1448.79 Z\" fill=\"#000000\" fill-rule=\"evenodd\" fill-opacity=\"1\" /><path clip-path=\"url(#clip900)\" d=\"M90.8067 1431.06 L109.163 1431.06 L109.163 1435 L95.0891 1435 L95.0891 1443.47 Q96.1076 1443.12 97.1261 1442.96 Q98.1447 1442.77 99.1632 1442.77 Q104.95 1442.77 108.33 1445.95 Q111.709 1449.12 111.709 1454.53 Q111.709 1460.11 108.237 1463.21 Q104.765 1466.29 98.4456 1466.29 Q96.2697 1466.29 94.0012 1465.92 Q91.7558 1465.55 89.3484 1464.81 L89.3484 1460.11 Q91.4317 1461.25 93.6539 1461.8 Q95.8761 1462.36 98.353 1462.36 Q102.358 1462.36 104.696 1460.25 Q107.033 1458.14 107.033 1454.53 Q107.033 1450.92 104.696 1448.82 Q102.358 1446.71 98.353 1446.71 Q96.478 1446.71 94.603 1447.13 Q92.7512 1447.54 90.8067 1448.42 L90.8067 1431.06 Z\" fill=\"#000000\" fill-rule=\"evenodd\" fill-opacity=\"1\" /><path clip-path=\"url(#clip900)\" d=\"M130.922 1434.14 Q127.311 1434.14 125.482 1437.71 Q123.677 1441.25 123.677 1448.38 Q123.677 1455.48 125.482 1459.05 Q127.311 1462.59 130.922 1462.59 Q134.556 1462.59 136.362 1459.05 Q138.191 1455.48 138.191 1448.38 Q138.191 1441.25 136.362 1437.71 Q134.556 1434.14 130.922 1434.14 M130.922 1430.44 Q136.732 1430.44 139.788 1435.04 Q142.867 1439.63 142.867 1448.38 Q142.867 1457.1 139.788 1461.71 Q136.732 1466.29 130.922 1466.29 Q125.112 1466.29 122.033 1461.71 Q118.978 1457.1 118.978 1448.38 Q118.978 1439.63 122.033 1435.04 Q125.112 1430.44 130.922 1430.44 Z\" fill=\"#000000\" fill-rule=\"evenodd\" fill-opacity=\"1\" /><path clip-path=\"url(#clip900)\" d=\"M130.922 1185.34 Q127.311 1185.34 125.482 1188.91 Q123.677 1192.45 123.677 1199.58 Q123.677 1206.68 125.482 1210.25 Q127.311 1213.79 130.922 1213.79 Q134.556 1213.79 136.362 1210.25 Q138.191 1206.68 138.191 1199.58 Q138.191 1192.45 136.362 1188.91 Q134.556 1185.34 130.922 1185.34 M130.922 1181.64 Q136.732 1181.64 139.788 1186.24 Q142.867 1190.83 142.867 1199.58 Q142.867 1208.3 139.788 1212.91 Q136.732 1217.49 130.922 1217.49 Q125.112 1217.49 122.033 1212.91 Q118.978 1208.3 118.978 1199.58 Q118.978 1190.83 122.033 1186.24 Q125.112 1181.64 130.922 1181.64 Z\" fill=\"#000000\" fill-rule=\"evenodd\" fill-opacity=\"1\" /><path clip-path=\"url(#clip900)\" d=\"M90.8067 933.461 L109.163 933.461 L109.163 937.397 L95.0891 937.397 L95.0891 945.869 Q96.1076 945.521 97.1261 945.359 Q98.1447 945.174 99.1632 945.174 Q104.95 945.174 108.33 948.346 Q111.709 951.517 111.709 956.933 Q111.709 962.512 108.237 965.614 Q104.765 968.693 98.4456 968.693 Q96.2697 968.693 94.0012 968.322 Q91.7558 967.952 89.3484 967.211 L89.3484 962.512 Q91.4317 963.646 93.6539 964.202 Q95.8761 964.758 98.353 964.758 Q102.358 964.758 104.696 962.651 Q107.033 960.545 107.033 956.933 Q107.033 953.322 104.696 951.216 Q102.358 949.109 98.353 949.109 Q96.478 949.109 94.603 949.526 Q92.7512 949.943 90.8067 950.822 L90.8067 933.461 Z\" fill=\"#000000\" fill-rule=\"evenodd\" fill-opacity=\"1\" /><path clip-path=\"url(#clip900)\" d=\"M130.922 936.54 Q127.311 936.54 125.482 940.105 Q123.677 943.647 123.677 950.776 Q123.677 957.883 125.482 961.447 Q127.311 964.989 130.922 964.989 Q134.556 964.989 136.362 961.447 Q138.191 957.883 138.191 950.776 Q138.191 943.647 136.362 940.105 Q134.556 936.54 130.922 936.54 M130.922 932.836 Q136.732 932.836 139.788 937.443 Q142.867 942.026 142.867 950.776 Q142.867 959.503 139.788 964.109 Q136.732 968.693 130.922 968.693 Q125.112 968.693 122.033 964.109 Q118.978 959.503 118.978 950.776 Q118.978 942.026 122.033 937.443 Q125.112 932.836 130.922 932.836 Z\" fill=\"#000000\" fill-rule=\"evenodd\" fill-opacity=\"1\" /><path clip-path=\"url(#clip900)\" d=\"M61.4087 715.286 L69.0476 715.286 L69.0476 688.92 L60.7374 690.587 L60.7374 686.328 L69.0013 684.661 L73.6772 684.661 L73.6772 715.286 L81.316 715.286 L81.316 719.221 L61.4087 719.221 L61.4087 715.286 Z\" fill=\"#000000\" fill-rule=\"evenodd\" fill-opacity=\"1\" /><path clip-path=\"url(#clip900)\" d=\"M100.76 687.74 Q97.1493 687.74 95.3206 691.305 Q93.515 694.846 93.515 701.976 Q93.515 709.082 95.3206 712.647 Q97.1493 716.189 100.76 716.189 Q104.395 716.189 106.2 712.647 Q108.029 709.082 108.029 701.976 Q108.029 694.846 106.2 691.305 Q104.395 687.74 100.76 687.74 M100.76 684.036 Q106.571 684.036 109.626 688.643 Q112.705 693.226 112.705 701.976 Q112.705 710.703 109.626 715.309 Q106.571 719.892 100.76 719.892 Q94.9502 719.892 91.8715 715.309 Q88.816 710.703 88.816 701.976 Q88.816 693.226 91.8715 688.643 Q94.9502 684.036 100.76 684.036 Z\" fill=\"#000000\" fill-rule=\"evenodd\" fill-opacity=\"1\" /><path clip-path=\"url(#clip900)\" d=\"M130.922 687.74 Q127.311 687.74 125.482 691.305 Q123.677 694.846 123.677 701.976 Q123.677 709.082 125.482 712.647 Q127.311 716.189 130.922 716.189 Q134.556 716.189 136.362 712.647 Q138.191 709.082 138.191 701.976 Q138.191 694.846 136.362 691.305 Q134.556 687.74 130.922 687.74 M130.922 684.036 Q136.732 684.036 139.788 688.643 Q142.867 693.226 142.867 701.976 Q142.867 710.703 139.788 715.309 Q136.732 719.892 130.922 719.892 Q125.112 719.892 122.033 715.309 Q118.978 710.703 118.978 701.976 Q118.978 693.226 122.033 688.643 Q125.112 684.036 130.922 684.036 Z\" fill=\"#000000\" fill-rule=\"evenodd\" fill-opacity=\"1\" /><path clip-path=\"url(#clip900)\" d=\"M61.4087 466.486 L69.0476 466.486 L69.0476 440.12 L60.7374 441.787 L60.7374 437.528 L69.0013 435.861 L73.6772 435.861 L73.6772 466.486 L81.316 466.486 L81.316 470.421 L61.4087 470.421 L61.4087 466.486 Z\" fill=\"#000000\" fill-rule=\"evenodd\" fill-opacity=\"1\" /><path clip-path=\"url(#clip900)\" d=\"M90.8067 435.861 L109.163 435.861 L109.163 439.796 L95.0891 439.796 L95.0891 448.268 Q96.1076 447.921 97.1261 447.759 Q98.1447 447.574 99.1632 447.574 Q104.95 447.574 108.33 450.745 Q111.709 453.916 111.709 459.333 Q111.709 464.912 108.237 468.014 Q104.765 471.092 98.4456 471.092 Q96.2697 471.092 94.0012 470.722 Q91.7558 470.352 89.3484 469.611 L89.3484 464.912 Q91.4317 466.046 93.6539 466.602 Q95.8761 467.157 98.353 467.157 Q102.358 467.157 104.696 465.051 Q107.033 462.944 107.033 459.333 Q107.033 455.722 104.696 453.615 Q102.358 451.509 98.353 451.509 Q96.478 451.509 94.603 451.926 Q92.7512 452.342 90.8067 453.222 L90.8067 435.861 Z\" fill=\"#000000\" fill-rule=\"evenodd\" fill-opacity=\"1\" /><path clip-path=\"url(#clip900)\" d=\"M130.922 438.94 Q127.311 438.94 125.482 442.504 Q123.677 446.046 123.677 453.176 Q123.677 460.282 125.482 463.847 Q127.311 467.389 130.922 467.389 Q134.556 467.389 136.362 463.847 Q138.191 460.282 138.191 453.176 Q138.191 446.046 136.362 442.504 Q134.556 438.94 130.922 438.94 M130.922 435.236 Q136.732 435.236 139.788 439.842 Q142.867 444.426 142.867 453.176 Q142.867 461.902 139.788 466.509 Q136.732 471.092 130.922 471.092 Q125.112 471.092 122.033 466.509 Q118.978 461.902 118.978 453.176 Q118.978 444.426 122.033 439.842 Q125.112 435.236 130.922 435.236 Z\" fill=\"#000000\" fill-rule=\"evenodd\" fill-opacity=\"1\" /><path clip-path=\"url(#clip900)\" d=\"M64.6263 217.686 L80.9457 217.686 L80.9457 221.621 L59.0013 221.621 L59.0013 217.686 Q61.6634 214.931 66.2467 210.301 Q70.8531 205.649 72.0337 204.306 Q74.279 201.783 75.1587 200.047 Q76.0614 198.288 76.0614 196.598 Q76.0614 193.843 74.117 192.107 Q72.1957 190.371 69.0939 190.371 Q66.8948 190.371 64.4411 191.135 Q62.0106 191.899 59.2328 193.45 L59.2328 188.727 Q62.0569 187.593 64.5106 187.014 Q66.9643 186.436 69.0013 186.436 Q74.3716 186.436 77.5661 189.121 Q80.7605 191.806 80.7605 196.297 Q80.7605 198.426 79.9503 200.348 Q79.1633 202.246 77.0568 204.838 Q76.4781 205.51 73.3763 208.727 Q70.2744 211.922 64.6263 217.686 Z\" fill=\"#000000\" fill-rule=\"evenodd\" fill-opacity=\"1\" /><path clip-path=\"url(#clip900)\" d=\"M100.76 190.139 Q97.1493 190.139 95.3206 193.704 Q93.515 197.246 93.515 204.375 Q93.515 211.482 95.3206 215.047 Q97.1493 218.588 100.76 218.588 Q104.395 218.588 106.2 215.047 Q108.029 211.482 108.029 204.375 Q108.029 197.246 106.2 193.704 Q104.395 190.139 100.76 190.139 M100.76 186.436 Q106.571 186.436 109.626 191.042 Q112.705 195.626 112.705 204.375 Q112.705 213.102 109.626 217.709 Q106.571 222.292 100.76 222.292 Q94.9502 222.292 91.8715 217.709 Q88.816 213.102 88.816 204.375 Q88.816 195.626 91.8715 191.042 Q94.9502 186.436 100.76 186.436 Z\" fill=\"#000000\" fill-rule=\"evenodd\" fill-opacity=\"1\" /><path clip-path=\"url(#clip900)\" d=\"M130.922 190.139 Q127.311 190.139 125.482 193.704 Q123.677 197.246 123.677 204.375 Q123.677 211.482 125.482 215.047 Q127.311 218.588 130.922 218.588 Q134.556 218.588 136.362 215.047 Q138.191 211.482 138.191 204.375 Q138.191 197.246 136.362 193.704 Q134.556 190.139 130.922 190.139 M130.922 186.436 Q136.732 186.436 139.788 191.042 Q142.867 195.626 142.867 204.375 Q142.867 213.102 139.788 217.709 Q136.732 222.292 130.922 222.292 Q125.112 222.292 122.033 217.709 Q118.978 213.102 118.978 204.375 Q118.978 195.626 122.033 191.042 Q125.112 186.436 130.922 186.436 Z\" fill=\"#000000\" fill-rule=\"evenodd\" fill-opacity=\"1\" /><circle clip-path=\"url(#clip902)\" cx=\"240.392\" cy=\"719.446\" r=\"14.4\" fill=\"#009af9\" fill-rule=\"evenodd\" fill-opacity=\"1\" stroke=\"#000000\" stroke-opacity=\"1\" stroke-width=\"3.2\"/>\n",
       "<circle clip-path=\"url(#clip902)\" cx=\"342.934\" cy=\"890.817\" r=\"14.4\" fill=\"#009af9\" fill-rule=\"evenodd\" fill-opacity=\"1\" stroke=\"#000000\" stroke-opacity=\"1\" stroke-width=\"3.2\"/>\n",
       "<circle clip-path=\"url(#clip902)\" cx=\"445.476\" cy=\"1322.48\" r=\"14.4\" fill=\"#009af9\" fill-rule=\"evenodd\" fill-opacity=\"1\" stroke=\"#000000\" stroke-opacity=\"1\" stroke-width=\"3.2\"/>\n",
       "<circle clip-path=\"url(#clip902)\" cx=\"548.018\" cy=\"853.469\" r=\"14.4\" fill=\"#009af9\" fill-rule=\"evenodd\" fill-opacity=\"1\" stroke=\"#000000\" stroke-opacity=\"1\" stroke-width=\"3.2\"/>\n",
       "<circle clip-path=\"url(#clip902)\" cx=\"650.56\" cy=\"856.378\" r=\"14.4\" fill=\"#009af9\" fill-rule=\"evenodd\" fill-opacity=\"1\" stroke=\"#000000\" stroke-opacity=\"1\" stroke-width=\"3.2\"/>\n",
       "<circle clip-path=\"url(#clip902)\" cx=\"753.102\" cy=\"1180.04\" r=\"14.4\" fill=\"#009af9\" fill-rule=\"evenodd\" fill-opacity=\"1\" stroke=\"#000000\" stroke-opacity=\"1\" stroke-width=\"3.2\"/>\n",
       "<circle clip-path=\"url(#clip902)\" cx=\"855.643\" cy=\"1445.72\" r=\"14.4\" fill=\"#009af9\" fill-rule=\"evenodd\" fill-opacity=\"1\" stroke=\"#000000\" stroke-opacity=\"1\" stroke-width=\"3.2\"/>\n",
       "<circle clip-path=\"url(#clip902)\" cx=\"958.185\" cy=\"1189.18\" r=\"14.4\" fill=\"#009af9\" fill-rule=\"evenodd\" fill-opacity=\"1\" stroke=\"#000000\" stroke-opacity=\"1\" stroke-width=\"3.2\"/>\n",
       "<circle clip-path=\"url(#clip902)\" cx=\"1060.73\" cy=\"1083.49\" r=\"14.4\" fill=\"#009af9\" fill-rule=\"evenodd\" fill-opacity=\"1\" stroke=\"#000000\" stroke-opacity=\"1\" stroke-width=\"3.2\"/>\n",
       "<circle clip-path=\"url(#clip902)\" cx=\"1163.27\" cy=\"1225.22\" r=\"14.4\" fill=\"#009af9\" fill-rule=\"evenodd\" fill-opacity=\"1\" stroke=\"#000000\" stroke-opacity=\"1\" stroke-width=\"3.2\"/>\n",
       "<circle clip-path=\"url(#clip902)\" cx=\"1265.81\" cy=\"1217.17\" r=\"14.4\" fill=\"#009af9\" fill-rule=\"evenodd\" fill-opacity=\"1\" stroke=\"#000000\" stroke-opacity=\"1\" stroke-width=\"3.2\"/>\n",
       "<circle clip-path=\"url(#clip902)\" cx=\"1368.35\" cy=\"1013.21\" r=\"14.4\" fill=\"#009af9\" fill-rule=\"evenodd\" fill-opacity=\"1\" stroke=\"#000000\" stroke-opacity=\"1\" stroke-width=\"3.2\"/>\n",
       "<circle clip-path=\"url(#clip902)\" cx=\"1470.9\" cy=\"875.695\" r=\"14.4\" fill=\"#009af9\" fill-rule=\"evenodd\" fill-opacity=\"1\" stroke=\"#000000\" stroke-opacity=\"1\" stroke-width=\"3.2\"/>\n",
       "<circle clip-path=\"url(#clip902)\" cx=\"1573.44\" cy=\"1266.49\" r=\"14.4\" fill=\"#009af9\" fill-rule=\"evenodd\" fill-opacity=\"1\" stroke=\"#000000\" stroke-opacity=\"1\" stroke-width=\"3.2\"/>\n",
       "<circle clip-path=\"url(#clip902)\" cx=\"1675.98\" cy=\"1119.68\" r=\"14.4\" fill=\"#009af9\" fill-rule=\"evenodd\" fill-opacity=\"1\" stroke=\"#000000\" stroke-opacity=\"1\" stroke-width=\"3.2\"/>\n",
       "<circle clip-path=\"url(#clip902)\" cx=\"1778.52\" cy=\"1063.63\" r=\"14.4\" fill=\"#009af9\" fill-rule=\"evenodd\" fill-opacity=\"1\" stroke=\"#000000\" stroke-opacity=\"1\" stroke-width=\"3.2\"/>\n",
       "<circle clip-path=\"url(#clip902)\" cx=\"1881.06\" cy=\"765.635\" r=\"14.4\" fill=\"#009af9\" fill-rule=\"evenodd\" fill-opacity=\"1\" stroke=\"#000000\" stroke-opacity=\"1\" stroke-width=\"3.2\"/>\n",
       "<circle clip-path=\"url(#clip902)\" cx=\"1983.6\" cy=\"914.787\" r=\"14.4\" fill=\"#009af9\" fill-rule=\"evenodd\" fill-opacity=\"1\" stroke=\"#000000\" stroke-opacity=\"1\" stroke-width=\"3.2\"/>\n",
       "<circle clip-path=\"url(#clip902)\" cx=\"2086.15\" cy=\"762.727\" r=\"14.4\" fill=\"#009af9\" fill-rule=\"evenodd\" fill-opacity=\"1\" stroke=\"#000000\" stroke-opacity=\"1\" stroke-width=\"3.2\"/>\n",
       "<circle clip-path=\"url(#clip902)\" cx=\"2188.69\" cy=\"846.666\" r=\"14.4\" fill=\"#009af9\" fill-rule=\"evenodd\" fill-opacity=\"1\" stroke=\"#000000\" stroke-opacity=\"1\" stroke-width=\"3.2\"/>\n",
       "<circle clip-path=\"url(#clip902)\" cx=\"2291.23\" cy=\"87.9763\" r=\"14.4\" fill=\"#009af9\" fill-rule=\"evenodd\" fill-opacity=\"1\" stroke=\"#000000\" stroke-opacity=\"1\" stroke-width=\"3.2\"/>\n",
       "<polyline clip-path=\"url(#clip902)\" style=\"stroke:#e26f46; stroke-linecap:round; stroke-linejoin:round; stroke-width:4; stroke-opacity:1; fill:none\" points=\"240.392,795.951 342.934,888.17 445.476,968.824 548.018,1037.91 650.56,1095.44 753.102,1141.4 855.643,1175.79 958.185,1198.62 1060.73,1209.89 1163.27,1209.59 1265.81,1197.73 1368.35,1174.3 1470.9,1139.31 1573.44,1092.75 1675.98,1034.63 1778.52,964.942 1881.06,883.69 1983.6,790.874 2086.15,686.493 2188.69,570.548 2291.23,443.037 \"/>\n",
       "<polyline clip-path=\"url(#clip902)\" style=\"stroke:#3da44d; stroke-linecap:round; stroke-linejoin:round; stroke-width:4; stroke-opacity:1; fill:none\" points=\"240.392,861.173 342.934,940.789 445.476,1010.45 548.018,1070.17 650.56,1119.93 753.102,1159.73 855.643,1189.59 958.185,1209.49 1060.73,1219.45 1163.27,1219.45 1265.81,1209.49 1368.35,1189.59 1470.9,1159.73 1573.44,1119.93 1675.98,1070.17 1778.52,1010.45 1881.06,940.789 1983.6,861.173 2086.15,771.605 2188.69,672.085 2291.23,562.613 \"/>\n",
       "<path clip-path=\"url(#clip900)\" d=\"M251.33 302.578 L521.728 302.578 L521.728 95.2176 L251.33 95.2176  Z\" fill=\"#ffffff\" fill-rule=\"evenodd\" fill-opacity=\"1\"/>\n",
       "<polyline clip-path=\"url(#clip900)\" style=\"stroke:#000000; stroke-linecap:round; stroke-linejoin:round; stroke-width:4; stroke-opacity:1; fill:none\" points=\"251.33,302.578 521.728,302.578 521.728,95.2176 251.33,95.2176 251.33,302.578 \"/>\n",
       "<circle clip-path=\"url(#clip900)\" cx=\"347.947\" cy=\"147.058\" r=\"23.04\" fill=\"#009af9\" fill-rule=\"evenodd\" fill-opacity=\"1\" stroke=\"#000000\" stroke-opacity=\"1\" stroke-width=\"5.12\"/>\n",
       "<path clip-path=\"url(#clip900)\" d=\"M458.407 166.745 Q456.601 171.375 454.888 172.787 Q453.175 174.199 450.305 174.199 L446.902 174.199 L446.902 170.634 L449.402 170.634 Q451.161 170.634 452.134 169.8 Q453.106 168.967 454.286 165.865 L455.05 163.921 L444.564 138.412 L449.078 138.412 L457.18 158.689 L465.282 138.412 L469.796 138.412 L458.407 166.745 Z\" fill=\"#000000\" fill-rule=\"evenodd\" fill-opacity=\"1\" /><path clip-path=\"url(#clip900)\" d=\"M477.087 160.402 L484.726 160.402 L484.726 134.037 L476.416 135.703 L476.416 131.444 L484.68 129.778 L489.356 129.778 L489.356 160.402 L496.994 160.402 L496.994 164.338 L477.087 164.338 L477.087 160.402 Z\" fill=\"#000000\" fill-rule=\"evenodd\" fill-opacity=\"1\" /><polyline clip-path=\"url(#clip900)\" style=\"stroke:#e26f46; stroke-linecap:round; stroke-linejoin:round; stroke-width:4; stroke-opacity:1; fill:none\" points=\"275.484,198.898 420.41,198.898 \"/>\n",
       "<path clip-path=\"url(#clip900)\" d=\"M458.407 218.585 Q456.601 223.215 454.888 224.627 Q453.175 226.039 450.305 226.039 L446.902 226.039 L446.902 222.474 L449.402 222.474 Q451.161 222.474 452.134 221.64 Q453.106 220.807 454.286 217.705 L455.05 215.761 L444.564 190.252 L449.078 190.252 L457.18 210.529 L465.282 190.252 L469.796 190.252 L458.407 218.585 Z\" fill=\"#000000\" fill-rule=\"evenodd\" fill-opacity=\"1\" /><path clip-path=\"url(#clip900)\" d=\"M480.305 212.242 L496.624 212.242 L496.624 216.178 L474.68 216.178 L474.68 212.242 Q477.342 209.488 481.925 204.858 Q486.532 200.205 487.712 198.863 Q489.957 196.34 490.837 194.604 Q491.74 192.844 491.74 191.155 Q491.74 188.4 489.795 186.664 Q487.874 184.928 484.772 184.928 Q482.573 184.928 480.12 185.692 Q477.689 186.455 474.911 188.006 L474.911 183.284 Q477.735 182.15 480.189 181.571 Q482.643 180.993 484.68 180.993 Q490.05 180.993 493.245 183.678 Q496.439 186.363 496.439 190.854 Q496.439 192.983 495.629 194.905 Q494.842 196.803 492.735 199.395 Q492.157 200.067 489.055 203.284 Q485.953 206.479 480.305 212.242 Z\" fill=\"#000000\" fill-rule=\"evenodd\" fill-opacity=\"1\" /><polyline clip-path=\"url(#clip900)\" style=\"stroke:#3da44d; stroke-linecap:round; stroke-linejoin:round; stroke-width:4; stroke-opacity:1; fill:none\" points=\"275.484,250.738 420.41,250.738 \"/>\n",
       "<path clip-path=\"url(#clip900)\" d=\"M458.407 270.425 Q456.601 275.055 454.888 276.467 Q453.175 277.879 450.305 277.879 L446.902 277.879 L446.902 274.314 L449.402 274.314 Q451.161 274.314 452.134 273.48 Q453.106 272.647 454.286 269.545 L455.05 267.601 L444.564 242.092 L449.078 242.092 L457.18 262.369 L465.282 242.092 L469.796 242.092 L458.407 270.425 Z\" fill=\"#000000\" fill-rule=\"evenodd\" fill-opacity=\"1\" /><path clip-path=\"url(#clip900)\" d=\"M490.444 249.383 Q493.8 250.101 495.675 252.369 Q497.573 254.638 497.573 257.971 Q497.573 263.087 494.055 265.888 Q490.536 268.689 484.055 268.689 Q481.879 268.689 479.564 268.249 Q477.272 267.832 474.819 266.976 L474.819 262.462 Q476.763 263.596 479.078 264.175 Q481.393 264.754 483.916 264.754 Q488.314 264.754 490.606 263.018 Q492.92 261.281 492.92 257.971 Q492.92 254.916 490.768 253.203 Q488.638 251.467 484.819 251.467 L480.791 251.467 L480.791 247.624 L485.004 247.624 Q488.453 247.624 490.282 246.258 Q492.11 244.87 492.11 242.277 Q492.11 239.615 490.212 238.203 Q488.337 236.768 484.819 236.768 Q482.897 236.768 480.698 237.184 Q478.499 237.601 475.86 238.481 L475.86 234.314 Q478.522 233.573 480.837 233.203 Q483.175 232.833 485.235 232.833 Q490.559 232.833 493.661 235.263 Q496.763 237.67 496.763 241.791 Q496.763 244.661 495.119 246.652 Q493.476 248.62 490.444 249.383 Z\" fill=\"#000000\" fill-rule=\"evenodd\" fill-opacity=\"1\" /></svg>\n"
      ]
     },
     "execution_count": 16,
     "metadata": {},
     "output_type": "execute_result"
    }
   ],
   "source": [
    "noise = Random.rand(di.Normal(0,50),length(x));\n",
    "y_observed = y_true .+ noise;\n",
    "poly_fit = Polynomials.fit(x,y_observed,2)\n",
    "Plots.scatter(x,y_observed)\n",
    "Plots.plot!(x,poly_fit.(x))\n",
    "Plots.plot!(x,y_true)"
   ]
  },
  {
   "cell_type": "markdown",
   "id": "d740efe5",
   "metadata": {},
   "source": [
    "### 2.5\n",
    "\n",
    "#### Repeat 2.2 and 2.3 with a tenth order polynomial fit\n"
   ]
  },
  {
   "cell_type": "code",
   "execution_count": 17,
   "id": "31d5d269",
   "metadata": {},
   "outputs": [
    {
     "data": {
      "image/svg+xml": [
       "<?xml version=\"1.0\" encoding=\"utf-8\"?>\n",
       "<svg xmlns=\"http://www.w3.org/2000/svg\" xmlns:xlink=\"http://www.w3.org/1999/xlink\" width=\"600\" height=\"400\" viewBox=\"0 0 2400 1600\">\n",
       "<defs>\n",
       "  <clipPath id=\"clip940\">\n",
       "    <rect x=\"0\" y=\"0\" width=\"2400\" height=\"1600\"/>\n",
       "  </clipPath>\n",
       "</defs>\n",
       "<path clip-path=\"url(#clip940)\" d=\"M0 1600 L2400 1600 L2400 0 L0 0  Z\" fill=\"#ffffff\" fill-rule=\"evenodd\" fill-opacity=\"1\"/>\n",
       "<defs>\n",
       "  <clipPath id=\"clip941\">\n",
       "    <rect x=\"480\" y=\"0\" width=\"1681\" height=\"1600\"/>\n",
       "  </clipPath>\n",
       "</defs>\n",
       "<path clip-path=\"url(#clip940)\" d=\"M169.121 1486.45 L2352.76 1486.45 L2352.76 47.2441 L169.121 47.2441  Z\" fill=\"#ffffff\" fill-rule=\"evenodd\" fill-opacity=\"1\"/>\n",
       "<defs>\n",
       "  <clipPath id=\"clip942\">\n",
       "    <rect x=\"169\" y=\"47\" width=\"2185\" height=\"1440\"/>\n",
       "  </clipPath>\n",
       "</defs>\n",
       "<polyline clip-path=\"url(#clip942)\" style=\"stroke:#000000; stroke-linecap:round; stroke-linejoin:round; stroke-width:2; stroke-opacity:0.1; fill:none\" points=\"230.922,1486.45 230.922,47.2441 \"/>\n",
       "<polyline clip-path=\"url(#clip942)\" style=\"stroke:#000000; stroke-linecap:round; stroke-linejoin:round; stroke-width:2; stroke-opacity:0.1; fill:none\" points=\"745.93,1486.45 745.93,47.2441 \"/>\n",
       "<polyline clip-path=\"url(#clip942)\" style=\"stroke:#000000; stroke-linecap:round; stroke-linejoin:round; stroke-width:2; stroke-opacity:0.1; fill:none\" points=\"1260.94,1486.45 1260.94,47.2441 \"/>\n",
       "<polyline clip-path=\"url(#clip942)\" style=\"stroke:#000000; stroke-linecap:round; stroke-linejoin:round; stroke-width:2; stroke-opacity:0.1; fill:none\" points=\"1775.95,1486.45 1775.95,47.2441 \"/>\n",
       "<polyline clip-path=\"url(#clip942)\" style=\"stroke:#000000; stroke-linecap:round; stroke-linejoin:round; stroke-width:2; stroke-opacity:0.1; fill:none\" points=\"2290.95,1486.45 2290.95,47.2441 \"/>\n",
       "<polyline clip-path=\"url(#clip940)\" style=\"stroke:#000000; stroke-linecap:round; stroke-linejoin:round; stroke-width:4; stroke-opacity:1; fill:none\" points=\"169.121,1486.45 2352.76,1486.45 \"/>\n",
       "<polyline clip-path=\"url(#clip940)\" style=\"stroke:#000000; stroke-linecap:round; stroke-linejoin:round; stroke-width:4; stroke-opacity:1; fill:none\" points=\"230.922,1486.45 230.922,1467.55 \"/>\n",
       "<polyline clip-path=\"url(#clip940)\" style=\"stroke:#000000; stroke-linecap:round; stroke-linejoin:round; stroke-width:4; stroke-opacity:1; fill:none\" points=\"745.93,1486.45 745.93,1467.55 \"/>\n",
       "<polyline clip-path=\"url(#clip940)\" style=\"stroke:#000000; stroke-linecap:round; stroke-linejoin:round; stroke-width:4; stroke-opacity:1; fill:none\" points=\"1260.94,1486.45 1260.94,1467.55 \"/>\n",
       "<polyline clip-path=\"url(#clip940)\" style=\"stroke:#000000; stroke-linecap:round; stroke-linejoin:round; stroke-width:4; stroke-opacity:1; fill:none\" points=\"1775.95,1486.45 1775.95,1467.55 \"/>\n",
       "<polyline clip-path=\"url(#clip940)\" style=\"stroke:#000000; stroke-linecap:round; stroke-linejoin:round; stroke-width:4; stroke-opacity:1; fill:none\" points=\"2290.95,1486.45 2290.95,1467.55 \"/>\n",
       "<path clip-path=\"url(#clip940)\" d=\"M184.985 1532.02 L214.661 1532.02 L214.661 1535.95 L184.985 1535.95 L184.985 1532.02 Z\" fill=\"#000000\" fill-rule=\"evenodd\" fill-opacity=\"1\" /><path clip-path=\"url(#clip940)\" d=\"M225.564 1544.91 L233.202 1544.91 L233.202 1518.55 L224.892 1520.21 L224.892 1515.95 L233.156 1514.29 L237.832 1514.29 L237.832 1544.91 L245.471 1544.91 L245.471 1548.85 L225.564 1548.85 L225.564 1544.91 Z\" fill=\"#000000\" fill-rule=\"evenodd\" fill-opacity=\"1\" /><path clip-path=\"url(#clip940)\" d=\"M264.915 1517.37 Q261.304 1517.37 259.475 1520.93 Q257.67 1524.47 257.67 1531.6 Q257.67 1538.71 259.475 1542.27 Q261.304 1545.82 264.915 1545.82 Q268.549 1545.82 270.355 1542.27 Q272.184 1538.71 272.184 1531.6 Q272.184 1524.47 270.355 1520.93 Q268.549 1517.37 264.915 1517.37 M264.915 1513.66 Q270.725 1513.66 273.781 1518.27 Q276.86 1522.85 276.86 1531.6 Q276.86 1540.33 273.781 1544.94 Q270.725 1549.52 264.915 1549.52 Q259.105 1549.52 256.026 1544.94 Q252.971 1540.33 252.971 1531.6 Q252.971 1522.85 256.026 1518.27 Q259.105 1513.66 264.915 1513.66 Z\" fill=\"#000000\" fill-rule=\"evenodd\" fill-opacity=\"1\" /><path clip-path=\"url(#clip940)\" d=\"M715.572 1532.02 L745.248 1532.02 L745.248 1535.95 L715.572 1535.95 L715.572 1532.02 Z\" fill=\"#000000\" fill-rule=\"evenodd\" fill-opacity=\"1\" /><path clip-path=\"url(#clip940)\" d=\"M755.386 1514.29 L773.743 1514.29 L773.743 1518.22 L759.669 1518.22 L759.669 1526.7 Q760.687 1526.35 761.706 1526.19 Q762.724 1526 763.743 1526 Q769.53 1526 772.909 1529.17 Q776.289 1532.34 776.289 1537.76 Q776.289 1543.34 772.817 1546.44 Q769.345 1549.52 763.025 1549.52 Q760.849 1549.52 758.581 1549.15 Q756.335 1548.78 753.928 1548.04 L753.928 1543.34 Q756.011 1544.47 758.234 1545.03 Q760.456 1545.58 762.933 1545.58 Q766.937 1545.58 769.275 1543.48 Q771.613 1541.37 771.613 1537.76 Q771.613 1534.15 769.275 1532.04 Q766.937 1529.94 762.933 1529.94 Q761.058 1529.94 759.183 1530.35 Q757.331 1530.77 755.386 1531.65 L755.386 1514.29 Z\" fill=\"#000000\" fill-rule=\"evenodd\" fill-opacity=\"1\" /><path clip-path=\"url(#clip940)\" d=\"M1260.94 1517.37 Q1257.33 1517.37 1255.5 1520.93 Q1253.69 1524.47 1253.69 1531.6 Q1253.69 1538.71 1255.5 1542.27 Q1257.33 1545.82 1260.94 1545.82 Q1264.57 1545.82 1266.38 1542.27 Q1268.21 1538.71 1268.21 1531.6 Q1268.21 1524.47 1266.38 1520.93 Q1264.57 1517.37 1260.94 1517.37 M1260.94 1513.66 Q1266.75 1513.66 1269.8 1518.27 Q1272.88 1522.85 1272.88 1531.6 Q1272.88 1540.33 1269.8 1544.94 Q1266.75 1549.52 1260.94 1549.52 Q1255.13 1549.52 1252.05 1544.94 Q1248.99 1540.33 1248.99 1531.6 Q1248.99 1522.85 1252.05 1518.27 Q1255.13 1513.66 1260.94 1513.66 Z\" fill=\"#000000\" fill-rule=\"evenodd\" fill-opacity=\"1\" /><path clip-path=\"url(#clip940)\" d=\"M1766.22 1514.29 L1784.58 1514.29 L1784.58 1518.22 L1770.51 1518.22 L1770.51 1526.7 Q1771.53 1526.35 1772.54 1526.19 Q1773.56 1526 1774.58 1526 Q1780.37 1526 1783.75 1529.17 Q1787.13 1532.34 1787.13 1537.76 Q1787.13 1543.34 1783.66 1546.44 Q1780.18 1549.52 1773.86 1549.52 Q1771.69 1549.52 1769.42 1549.15 Q1767.17 1548.78 1764.77 1548.04 L1764.77 1543.34 Q1766.85 1544.47 1769.07 1545.03 Q1771.29 1545.58 1773.77 1545.58 Q1777.78 1545.58 1780.11 1543.48 Q1782.45 1541.37 1782.45 1537.76 Q1782.45 1534.15 1780.11 1532.04 Q1777.78 1529.94 1773.77 1529.94 Q1771.9 1529.94 1770.02 1530.35 Q1768.17 1530.77 1766.22 1531.65 L1766.22 1514.29 Z\" fill=\"#000000\" fill-rule=\"evenodd\" fill-opacity=\"1\" /><path clip-path=\"url(#clip940)\" d=\"M2265.64 1544.91 L2273.28 1544.91 L2273.28 1518.55 L2264.97 1520.21 L2264.97 1515.95 L2273.24 1514.29 L2277.91 1514.29 L2277.91 1544.91 L2285.55 1544.91 L2285.55 1548.85 L2265.64 1548.85 L2265.64 1544.91 Z\" fill=\"#000000\" fill-rule=\"evenodd\" fill-opacity=\"1\" /><path clip-path=\"url(#clip940)\" d=\"M2304.99 1517.37 Q2301.38 1517.37 2299.55 1520.93 Q2297.75 1524.47 2297.75 1531.6 Q2297.75 1538.71 2299.55 1542.27 Q2301.38 1545.82 2304.99 1545.82 Q2308.63 1545.82 2310.43 1542.27 Q2312.26 1538.71 2312.26 1531.6 Q2312.26 1524.47 2310.43 1520.93 Q2308.63 1517.37 2304.99 1517.37 M2304.99 1513.66 Q2310.8 1513.66 2313.86 1518.27 Q2316.94 1522.85 2316.94 1531.6 Q2316.94 1540.33 2313.86 1544.94 Q2310.8 1549.52 2304.99 1549.52 Q2299.18 1549.52 2296.11 1544.94 Q2293.05 1540.33 2293.05 1531.6 Q2293.05 1522.85 2296.11 1518.27 Q2299.18 1513.66 2304.99 1513.66 Z\" fill=\"#000000\" fill-rule=\"evenodd\" fill-opacity=\"1\" /><polyline clip-path=\"url(#clip942)\" style=\"stroke:#000000; stroke-linecap:round; stroke-linejoin:round; stroke-width:2; stroke-opacity:0.1; fill:none\" points=\"169.121,1377.83 2352.76,1377.83 \"/>\n",
       "<polyline clip-path=\"url(#clip942)\" style=\"stroke:#000000; stroke-linecap:round; stroke-linejoin:round; stroke-width:2; stroke-opacity:0.1; fill:none\" points=\"169.121,1187.55 2352.76,1187.55 \"/>\n",
       "<polyline clip-path=\"url(#clip942)\" style=\"stroke:#000000; stroke-linecap:round; stroke-linejoin:round; stroke-width:2; stroke-opacity:0.1; fill:none\" points=\"169.121,997.278 2352.76,997.278 \"/>\n",
       "<polyline clip-path=\"url(#clip942)\" style=\"stroke:#000000; stroke-linecap:round; stroke-linejoin:round; stroke-width:2; stroke-opacity:0.1; fill:none\" points=\"169.121,807.003 2352.76,807.003 \"/>\n",
       "<polyline clip-path=\"url(#clip942)\" style=\"stroke:#000000; stroke-linecap:round; stroke-linejoin:round; stroke-width:2; stroke-opacity:0.1; fill:none\" points=\"169.121,616.727 2352.76,616.727 \"/>\n",
       "<polyline clip-path=\"url(#clip942)\" style=\"stroke:#000000; stroke-linecap:round; stroke-linejoin:round; stroke-width:2; stroke-opacity:0.1; fill:none\" points=\"169.121,426.452 2352.76,426.452 \"/>\n",
       "<polyline clip-path=\"url(#clip942)\" style=\"stroke:#000000; stroke-linecap:round; stroke-linejoin:round; stroke-width:2; stroke-opacity:0.1; fill:none\" points=\"169.121,236.177 2352.76,236.177 \"/>\n",
       "<polyline clip-path=\"url(#clip940)\" style=\"stroke:#000000; stroke-linecap:round; stroke-linejoin:round; stroke-width:4; stroke-opacity:1; fill:none\" points=\"169.121,1486.45 169.121,47.2441 \"/>\n",
       "<polyline clip-path=\"url(#clip940)\" style=\"stroke:#000000; stroke-linecap:round; stroke-linejoin:round; stroke-width:4; stroke-opacity:1; fill:none\" points=\"169.121,1377.83 188.019,1377.83 \"/>\n",
       "<polyline clip-path=\"url(#clip940)\" style=\"stroke:#000000; stroke-linecap:round; stroke-linejoin:round; stroke-width:4; stroke-opacity:1; fill:none\" points=\"169.121,1187.55 188.019,1187.55 \"/>\n",
       "<polyline clip-path=\"url(#clip940)\" style=\"stroke:#000000; stroke-linecap:round; stroke-linejoin:round; stroke-width:4; stroke-opacity:1; fill:none\" points=\"169.121,997.278 188.019,997.278 \"/>\n",
       "<polyline clip-path=\"url(#clip940)\" style=\"stroke:#000000; stroke-linecap:round; stroke-linejoin:round; stroke-width:4; stroke-opacity:1; fill:none\" points=\"169.121,807.003 188.019,807.003 \"/>\n",
       "<polyline clip-path=\"url(#clip940)\" style=\"stroke:#000000; stroke-linecap:round; stroke-linejoin:round; stroke-width:4; stroke-opacity:1; fill:none\" points=\"169.121,616.727 188.019,616.727 \"/>\n",
       "<polyline clip-path=\"url(#clip940)\" style=\"stroke:#000000; stroke-linecap:round; stroke-linejoin:round; stroke-width:4; stroke-opacity:1; fill:none\" points=\"169.121,426.452 188.019,426.452 \"/>\n",
       "<polyline clip-path=\"url(#clip940)\" style=\"stroke:#000000; stroke-linecap:round; stroke-linejoin:round; stroke-width:4; stroke-opacity:1; fill:none\" points=\"169.121,236.177 188.019,236.177 \"/>\n",
       "<path clip-path=\"url(#clip940)\" d=\"M121.177 1363.63 Q117.566 1363.63 115.737 1367.19 Q113.932 1370.73 113.932 1377.86 Q113.932 1384.97 115.737 1388.53 Q117.566 1392.08 121.177 1392.08 Q124.811 1392.08 126.617 1388.53 Q128.445 1384.97 128.445 1377.86 Q128.445 1370.73 126.617 1367.19 Q124.811 1363.63 121.177 1363.63 M121.177 1359.92 Q126.987 1359.92 130.043 1364.53 Q133.121 1369.11 133.121 1377.86 Q133.121 1386.59 130.043 1391.2 Q126.987 1395.78 121.177 1395.78 Q115.367 1395.78 112.288 1391.2 Q109.233 1386.59 109.233 1377.86 Q109.233 1369.11 112.288 1364.53 Q115.367 1359.92 121.177 1359.92 Z\" fill=\"#000000\" fill-rule=\"evenodd\" fill-opacity=\"1\" /><path clip-path=\"url(#clip940)\" d=\"M85.0429 1200.9 L101.362 1200.9 L101.362 1204.83 L79.4179 1204.83 L79.4179 1200.9 Q82.0799 1198.14 86.6632 1193.51 Q91.2697 1188.86 92.4502 1187.52 Q94.6956 1185 95.5752 1183.26 Q96.478 1181.5 96.478 1179.81 Q96.478 1177.06 94.5336 1175.32 Q92.6123 1173.58 89.5104 1173.58 Q87.3114 1173.58 84.8577 1174.35 Q82.4271 1175.11 79.6494 1176.66 L79.6494 1171.94 Q82.4734 1170.81 84.9271 1170.23 Q87.3808 1169.65 89.4178 1169.65 Q94.7882 1169.65 97.9826 1172.33 Q101.177 1175.02 101.177 1179.51 Q101.177 1181.64 100.367 1183.56 Q99.5798 1185.46 97.4734 1188.05 Q96.8947 1188.72 93.7928 1191.94 Q90.691 1195.13 85.0429 1200.9 Z\" fill=\"#000000\" fill-rule=\"evenodd\" fill-opacity=\"1\" /><path clip-path=\"url(#clip940)\" d=\"M121.177 1173.35 Q117.566 1173.35 115.737 1176.92 Q113.932 1180.46 113.932 1187.59 Q113.932 1194.69 115.737 1198.26 Q117.566 1201.8 121.177 1201.8 Q124.811 1201.8 126.617 1198.26 Q128.445 1194.69 128.445 1187.59 Q128.445 1180.46 126.617 1176.92 Q124.811 1173.35 121.177 1173.35 M121.177 1169.65 Q126.987 1169.65 130.043 1174.25 Q133.121 1178.84 133.121 1187.59 Q133.121 1196.31 130.043 1200.92 Q126.987 1205.5 121.177 1205.5 Q115.367 1205.5 112.288 1200.92 Q109.233 1196.31 109.233 1187.59 Q109.233 1178.84 112.288 1174.25 Q115.367 1169.65 121.177 1169.65 Z\" fill=\"#000000\" fill-rule=\"evenodd\" fill-opacity=\"1\" /><path clip-path=\"url(#clip940)\" d=\"M93.8623 984.072 L82.0568 1002.52 L93.8623 1002.52 L93.8623 984.072 M92.6354 979.998 L98.515 979.998 L98.515 1002.52 L103.446 1002.52 L103.446 1006.41 L98.515 1006.41 L98.515 1014.56 L93.8623 1014.56 L93.8623 1006.41 L78.2605 1006.41 L78.2605 1001.9 L92.6354 979.998 Z\" fill=\"#000000\" fill-rule=\"evenodd\" fill-opacity=\"1\" /><path clip-path=\"url(#clip940)\" d=\"M121.177 983.077 Q117.566 983.077 115.737 986.641 Q113.932 990.183 113.932 997.313 Q113.932 1004.42 115.737 1007.98 Q117.566 1011.53 121.177 1011.53 Q124.811 1011.53 126.617 1007.98 Q128.445 1004.42 128.445 997.313 Q128.445 990.183 126.617 986.641 Q124.811 983.077 121.177 983.077 M121.177 979.373 Q126.987 979.373 130.043 983.979 Q133.121 988.563 133.121 997.313 Q133.121 1006.04 130.043 1010.65 Q126.987 1015.23 121.177 1015.23 Q115.367 1015.23 112.288 1010.65 Q109.233 1006.04 109.233 997.313 Q109.233 988.563 112.288 983.979 Q115.367 979.373 121.177 979.373 Z\" fill=\"#000000\" fill-rule=\"evenodd\" fill-opacity=\"1\" /><path clip-path=\"url(#clip940)\" d=\"M91.5938 805.139 Q88.4456 805.139 86.5938 807.292 Q84.7651 809.445 84.7651 813.195 Q84.7651 816.922 86.5938 819.097 Q88.4456 821.25 91.5938 821.25 Q94.7419 821.25 96.5706 819.097 Q98.4224 816.922 98.4224 813.195 Q98.4224 809.445 96.5706 807.292 Q94.7419 805.139 91.5938 805.139 M100.876 790.486 L100.876 794.746 Q99.1169 793.912 97.3113 793.473 Q95.5289 793.033 93.7697 793.033 Q89.1401 793.033 86.6864 796.158 Q84.2558 799.283 83.9086 805.602 Q85.2743 803.588 87.3345 802.523 Q89.3947 801.435 91.8715 801.435 Q97.0798 801.435 100.089 804.607 Q103.121 807.755 103.121 813.195 Q103.121 818.519 99.9733 821.736 Q96.8252 824.954 91.5938 824.954 Q85.5984 824.954 82.4271 820.371 Q79.2559 815.764 79.2559 807.037 Q79.2559 798.843 83.1447 793.982 Q87.0336 789.098 93.5845 789.098 Q95.3437 789.098 97.1261 789.445 Q98.9317 789.792 100.876 790.486 Z\" fill=\"#000000\" fill-rule=\"evenodd\" fill-opacity=\"1\" /><path clip-path=\"url(#clip940)\" d=\"M121.177 792.801 Q117.566 792.801 115.737 796.366 Q113.932 799.908 113.932 807.037 Q113.932 814.144 115.737 817.709 Q117.566 821.25 121.177 821.25 Q124.811 821.25 126.617 817.709 Q128.445 814.144 128.445 807.037 Q128.445 799.908 126.617 796.366 Q124.811 792.801 121.177 792.801 M121.177 789.098 Q126.987 789.098 130.043 793.704 Q133.121 798.287 133.121 807.037 Q133.121 815.764 130.043 820.371 Q126.987 824.954 121.177 824.954 Q115.367 824.954 112.288 820.371 Q109.233 815.764 109.233 807.037 Q109.233 798.287 112.288 793.704 Q115.367 789.098 121.177 789.098 Z\" fill=\"#000000\" fill-rule=\"evenodd\" fill-opacity=\"1\" /><path clip-path=\"url(#clip940)\" d=\"M91.0151 617.595 Q87.6817 617.595 85.7605 619.378 Q83.8623 621.16 83.8623 624.285 Q83.8623 627.41 85.7605 629.193 Q87.6817 630.975 91.0151 630.975 Q94.3484 630.975 96.2697 629.193 Q98.1909 627.387 98.1909 624.285 Q98.1909 621.16 96.2697 619.378 Q94.3715 617.595 91.0151 617.595 M86.3392 615.605 Q83.3299 614.864 81.6401 612.804 Q79.9735 610.744 79.9735 607.781 Q79.9735 603.637 82.9133 601.23 Q85.8762 598.822 91.0151 598.822 Q96.1771 598.822 99.1169 601.23 Q102.057 603.637 102.057 607.781 Q102.057 610.744 100.367 612.804 Q98.7002 614.864 95.7141 615.605 Q99.0937 616.392 100.969 618.683 Q102.867 620.975 102.867 624.285 Q102.867 629.308 99.7882 631.993 Q96.7326 634.679 91.0151 634.679 Q85.2975 634.679 82.2188 631.993 Q79.1633 629.308 79.1633 624.285 Q79.1633 620.975 81.0614 618.683 Q82.9595 616.392 86.3392 615.605 M84.6262 608.22 Q84.6262 610.906 86.2929 612.41 Q87.9827 613.915 91.0151 613.915 Q94.0243 613.915 95.7141 612.41 Q97.4271 610.906 97.4271 608.22 Q97.4271 605.535 95.7141 604.031 Q94.0243 602.526 91.0151 602.526 Q87.9827 602.526 86.2929 604.031 Q84.6262 605.535 84.6262 608.22 Z\" fill=\"#000000\" fill-rule=\"evenodd\" fill-opacity=\"1\" /><path clip-path=\"url(#clip940)\" d=\"M121.177 602.526 Q117.566 602.526 115.737 606.091 Q113.932 609.632 113.932 616.762 Q113.932 623.869 115.737 627.433 Q117.566 630.975 121.177 630.975 Q124.811 630.975 126.617 627.433 Q128.445 623.869 128.445 616.762 Q128.445 609.632 126.617 606.091 Q124.811 602.526 121.177 602.526 M121.177 598.822 Q126.987 598.822 130.043 603.429 Q133.121 608.012 133.121 616.762 Q133.121 625.489 130.043 630.095 Q126.987 634.679 121.177 634.679 Q115.367 634.679 112.288 630.095 Q109.233 625.489 109.233 616.762 Q109.233 608.012 112.288 603.429 Q115.367 598.822 121.177 598.822 Z\" fill=\"#000000\" fill-rule=\"evenodd\" fill-opacity=\"1\" /><path clip-path=\"url(#clip940)\" d=\"M51.6634 439.797 L59.3023 439.797 L59.3023 413.431 L50.9921 415.098 L50.9921 410.839 L59.256 409.172 L63.9319 409.172 L63.9319 439.797 L71.5707 439.797 L71.5707 443.732 L51.6634 443.732 L51.6634 439.797 Z\" fill=\"#000000\" fill-rule=\"evenodd\" fill-opacity=\"1\" /><path clip-path=\"url(#clip940)\" d=\"M91.0151 412.251 Q87.404 412.251 85.5753 415.816 Q83.7697 419.357 83.7697 426.487 Q83.7697 433.593 85.5753 437.158 Q87.404 440.7 91.0151 440.7 Q94.6493 440.7 96.4548 437.158 Q98.2835 433.593 98.2835 426.487 Q98.2835 419.357 96.4548 415.816 Q94.6493 412.251 91.0151 412.251 M91.0151 408.547 Q96.8252 408.547 99.8808 413.154 Q102.959 417.737 102.959 426.487 Q102.959 435.214 99.8808 439.82 Q96.8252 444.403 91.0151 444.403 Q85.2049 444.403 82.1262 439.82 Q79.0707 435.214 79.0707 426.487 Q79.0707 417.737 82.1262 413.154 Q85.2049 408.547 91.0151 408.547 Z\" fill=\"#000000\" fill-rule=\"evenodd\" fill-opacity=\"1\" /><path clip-path=\"url(#clip940)\" d=\"M121.177 412.251 Q117.566 412.251 115.737 415.816 Q113.932 419.357 113.932 426.487 Q113.932 433.593 115.737 437.158 Q117.566 440.7 121.177 440.7 Q124.811 440.7 126.617 437.158 Q128.445 433.593 128.445 426.487 Q128.445 419.357 126.617 415.816 Q124.811 412.251 121.177 412.251 M121.177 408.547 Q126.987 408.547 130.043 413.154 Q133.121 417.737 133.121 426.487 Q133.121 435.214 130.043 439.82 Q126.987 444.403 121.177 444.403 Q115.367 444.403 112.288 439.82 Q109.233 435.214 109.233 426.487 Q109.233 417.737 112.288 413.154 Q115.367 408.547 121.177 408.547 Z\" fill=\"#000000\" fill-rule=\"evenodd\" fill-opacity=\"1\" /><path clip-path=\"url(#clip940)\" d=\"M51.6634 249.522 L59.3023 249.522 L59.3023 223.156 L50.9921 224.823 L50.9921 220.564 L59.256 218.897 L63.9319 218.897 L63.9319 249.522 L71.5707 249.522 L71.5707 253.457 L51.6634 253.457 L51.6634 249.522 Z\" fill=\"#000000\" fill-rule=\"evenodd\" fill-opacity=\"1\" /><path clip-path=\"url(#clip940)\" d=\"M85.0429 249.522 L101.362 249.522 L101.362 253.457 L79.4179 253.457 L79.4179 249.522 Q82.0799 246.767 86.6632 242.137 Q91.2697 237.485 92.4502 236.142 Q94.6956 233.619 95.5752 231.883 Q96.478 230.124 96.478 228.434 Q96.478 225.679 94.5336 223.943 Q92.6123 222.207 89.5104 222.207 Q87.3114 222.207 84.8577 222.971 Q82.4271 223.735 79.6494 225.286 L79.6494 220.564 Q82.4734 219.429 84.9271 218.851 Q87.3808 218.272 89.4178 218.272 Q94.7882 218.272 97.9826 220.957 Q101.177 223.642 101.177 228.133 Q101.177 230.263 100.367 232.184 Q99.5798 234.082 97.4734 236.675 Q96.8947 237.346 93.7928 240.563 Q90.691 243.758 85.0429 249.522 Z\" fill=\"#000000\" fill-rule=\"evenodd\" fill-opacity=\"1\" /><path clip-path=\"url(#clip940)\" d=\"M121.177 221.976 Q117.566 221.976 115.737 225.54 Q113.932 229.082 113.932 236.212 Q113.932 243.318 115.737 246.883 Q117.566 250.424 121.177 250.424 Q124.811 250.424 126.617 246.883 Q128.445 243.318 128.445 236.212 Q128.445 229.082 126.617 225.54 Q124.811 221.976 121.177 221.976 M121.177 218.272 Q126.987 218.272 130.043 222.878 Q133.121 227.462 133.121 236.212 Q133.121 244.938 130.043 249.545 Q126.987 254.128 121.177 254.128 Q115.367 254.128 112.288 249.545 Q109.233 244.938 109.233 236.212 Q109.233 227.462 112.288 222.878 Q115.367 218.272 121.177 218.272 Z\" fill=\"#000000\" fill-rule=\"evenodd\" fill-opacity=\"1\" /><circle clip-path=\"url(#clip942)\" cx=\"230.922\" cy=\"410.392\" r=\"14.4\" fill=\"#009af9\" fill-rule=\"evenodd\" fill-opacity=\"1\" stroke=\"#000000\" stroke-opacity=\"1\" stroke-width=\"3.2\"/>\n",
       "<circle clip-path=\"url(#clip942)\" cx=\"333.924\" cy=\"808.669\" r=\"14.4\" fill=\"#009af9\" fill-rule=\"evenodd\" fill-opacity=\"1\" stroke=\"#000000\" stroke-opacity=\"1\" stroke-width=\"3.2\"/>\n",
       "<circle clip-path=\"url(#clip942)\" cx=\"436.926\" cy=\"1138.44\" r=\"14.4\" fill=\"#009af9\" fill-rule=\"evenodd\" fill-opacity=\"1\" stroke=\"#000000\" stroke-opacity=\"1\" stroke-width=\"3.2\"/>\n",
       "<circle clip-path=\"url(#clip942)\" cx=\"539.927\" cy=\"1224.38\" r=\"14.4\" fill=\"#009af9\" fill-rule=\"evenodd\" fill-opacity=\"1\" stroke=\"#000000\" stroke-opacity=\"1\" stroke-width=\"3.2\"/>\n",
       "<circle clip-path=\"url(#clip942)\" cx=\"642.929\" cy=\"1316.87\" r=\"14.4\" fill=\"#009af9\" fill-rule=\"evenodd\" fill-opacity=\"1\" stroke=\"#000000\" stroke-opacity=\"1\" stroke-width=\"3.2\"/>\n",
       "<circle clip-path=\"url(#clip942)\" cx=\"745.93\" cy=\"1239.31\" r=\"14.4\" fill=\"#009af9\" fill-rule=\"evenodd\" fill-opacity=\"1\" stroke=\"#000000\" stroke-opacity=\"1\" stroke-width=\"3.2\"/>\n",
       "<circle clip-path=\"url(#clip942)\" cx=\"848.932\" cy=\"1445.72\" r=\"14.4\" fill=\"#009af9\" fill-rule=\"evenodd\" fill-opacity=\"1\" stroke=\"#000000\" stroke-opacity=\"1\" stroke-width=\"3.2\"/>\n",
       "<circle clip-path=\"url(#clip942)\" cx=\"951.934\" cy=\"1282.04\" r=\"14.4\" fill=\"#009af9\" fill-rule=\"evenodd\" fill-opacity=\"1\" stroke=\"#000000\" stroke-opacity=\"1\" stroke-width=\"3.2\"/>\n",
       "<circle clip-path=\"url(#clip942)\" cx=\"1054.94\" cy=\"1406.85\" r=\"14.4\" fill=\"#009af9\" fill-rule=\"evenodd\" fill-opacity=\"1\" stroke=\"#000000\" stroke-opacity=\"1\" stroke-width=\"3.2\"/>\n",
       "<circle clip-path=\"url(#clip942)\" cx=\"1157.94\" cy=\"1400.86\" r=\"14.4\" fill=\"#009af9\" fill-rule=\"evenodd\" fill-opacity=\"1\" stroke=\"#000000\" stroke-opacity=\"1\" stroke-width=\"3.2\"/>\n",
       "<circle clip-path=\"url(#clip942)\" cx=\"1260.94\" cy=\"1353.18\" r=\"14.4\" fill=\"#009af9\" fill-rule=\"evenodd\" fill-opacity=\"1\" stroke=\"#000000\" stroke-opacity=\"1\" stroke-width=\"3.2\"/>\n",
       "<circle clip-path=\"url(#clip942)\" cx=\"1363.94\" cy=\"1318.26\" r=\"14.4\" fill=\"#009af9\" fill-rule=\"evenodd\" fill-opacity=\"1\" stroke=\"#000000\" stroke-opacity=\"1\" stroke-width=\"3.2\"/>\n",
       "<circle clip-path=\"url(#clip942)\" cx=\"1466.94\" cy=\"1329.65\" r=\"14.4\" fill=\"#009af9\" fill-rule=\"evenodd\" fill-opacity=\"1\" stroke=\"#000000\" stroke-opacity=\"1\" stroke-width=\"3.2\"/>\n",
       "<circle clip-path=\"url(#clip942)\" cx=\"1569.94\" cy=\"1275.19\" r=\"14.4\" fill=\"#009af9\" fill-rule=\"evenodd\" fill-opacity=\"1\" stroke=\"#000000\" stroke-opacity=\"1\" stroke-width=\"3.2\"/>\n",
       "<circle clip-path=\"url(#clip942)\" cx=\"1672.95\" cy=\"1252.28\" r=\"14.4\" fill=\"#009af9\" fill-rule=\"evenodd\" fill-opacity=\"1\" stroke=\"#000000\" stroke-opacity=\"1\" stroke-width=\"3.2\"/>\n",
       "<circle clip-path=\"url(#clip942)\" cx=\"1775.95\" cy=\"1056.03\" r=\"14.4\" fill=\"#009af9\" fill-rule=\"evenodd\" fill-opacity=\"1\" stroke=\"#000000\" stroke-opacity=\"1\" stroke-width=\"3.2\"/>\n",
       "<circle clip-path=\"url(#clip942)\" cx=\"1878.95\" cy=\"1038.51\" r=\"14.4\" fill=\"#009af9\" fill-rule=\"evenodd\" fill-opacity=\"1\" stroke=\"#000000\" stroke-opacity=\"1\" stroke-width=\"3.2\"/>\n",
       "<circle clip-path=\"url(#clip942)\" cx=\"1981.95\" cy=\"707.626\" r=\"14.4\" fill=\"#009af9\" fill-rule=\"evenodd\" fill-opacity=\"1\" stroke=\"#000000\" stroke-opacity=\"1\" stroke-width=\"3.2\"/>\n",
       "<circle clip-path=\"url(#clip942)\" cx=\"2084.95\" cy=\"595.844\" r=\"14.4\" fill=\"#009af9\" fill-rule=\"evenodd\" fill-opacity=\"1\" stroke=\"#000000\" stroke-opacity=\"1\" stroke-width=\"3.2\"/>\n",
       "<circle clip-path=\"url(#clip942)\" cx=\"2187.95\" cy=\"385.137\" r=\"14.4\" fill=\"#009af9\" fill-rule=\"evenodd\" fill-opacity=\"1\" stroke=\"#000000\" stroke-opacity=\"1\" stroke-width=\"3.2\"/>\n",
       "<circle clip-path=\"url(#clip942)\" cx=\"2290.95\" cy=\"88.3422\" r=\"14.4\" fill=\"#009af9\" fill-rule=\"evenodd\" fill-opacity=\"1\" stroke=\"#000000\" stroke-opacity=\"1\" stroke-width=\"3.2\"/>\n",
       "<polyline clip-path=\"url(#clip942)\" style=\"stroke:#e26f46; stroke-linecap:round; stroke-linejoin:round; stroke-width:4; stroke-opacity:1; fill:none\" points=\"230.922,409.391 333.924,815.235 436.926,1121.39 539.927,1248.46 642.929,1284.35 745.93,1306.02 848.932,1338.43 951.934,1371.3 1054.94,1387.38 1157.94,1380.67 1260.94,1358.92 1363.94,1334.66 1466.94,1312.99 1569.94,1284.31 1672.95,1226.99 1775.95,1119.75 1878.95,958.145 1981.95,763.973 2084.95,573.501 2187.95,389.741 2290.95,87.9763 \"/>\n",
       "<polyline clip-path=\"url(#clip942)\" style=\"stroke:#3da44d; stroke-linecap:round; stroke-linejoin:round; stroke-width:4; stroke-opacity:1; fill:none\" points=\"230.922,730.892 333.924,883.113 436.926,1016.31 539.927,1130.47 642.929,1225.61 745.93,1301.72 848.932,1358.8 951.934,1396.86 1054.94,1415.88 1157.94,1415.88 1260.94,1396.86 1363.94,1358.8 1466.94,1301.72 1569.94,1225.61 1672.95,1130.47 1775.95,1016.31 1878.95,883.113 1981.95,730.892 2084.95,559.645 2187.95,369.37 2290.95,160.067 \"/>\n",
       "<path clip-path=\"url(#clip940)\" d=\"M241.909 302.578 L513.282 302.578 L513.282 95.2176 L241.909 95.2176  Z\" fill=\"#ffffff\" fill-rule=\"evenodd\" fill-opacity=\"1\"/>\n",
       "<polyline clip-path=\"url(#clip940)\" style=\"stroke:#000000; stroke-linecap:round; stroke-linejoin:round; stroke-width:4; stroke-opacity:1; fill:none\" points=\"241.909,302.578 513.282,302.578 513.282,95.2176 241.909,95.2176 241.909,302.578 \"/>\n",
       "<circle clip-path=\"url(#clip940)\" cx=\"338.96\" cy=\"147.058\" r=\"23.04\" fill=\"#009af9\" fill-rule=\"evenodd\" fill-opacity=\"1\" stroke=\"#000000\" stroke-opacity=\"1\" stroke-width=\"5.12\"/>\n",
       "<path clip-path=\"url(#clip940)\" d=\"M449.853 166.745 Q448.047 171.375 446.334 172.787 Q444.621 174.199 441.751 174.199 L438.348 174.199 L438.348 170.634 L440.848 170.634 Q442.607 170.634 443.579 169.8 Q444.552 168.967 445.732 165.865 L446.496 163.921 L436.01 138.412 L440.524 138.412 L448.626 158.689 L456.727 138.412 L461.241 138.412 L449.853 166.745 Z\" fill=\"#000000\" fill-rule=\"evenodd\" fill-opacity=\"1\" /><path clip-path=\"url(#clip940)\" d=\"M468.533 160.402 L476.172 160.402 L476.172 134.037 L467.862 135.703 L467.862 131.444 L476.126 129.778 L480.801 129.778 L480.801 160.402 L488.44 160.402 L488.44 164.338 L468.533 164.338 L468.533 160.402 Z\" fill=\"#000000\" fill-rule=\"evenodd\" fill-opacity=\"1\" /><polyline clip-path=\"url(#clip940)\" style=\"stroke:#e26f46; stroke-linecap:round; stroke-linejoin:round; stroke-width:4; stroke-opacity:1; fill:none\" points=\"266.172,198.898 411.747,198.898 \"/>\n",
       "<path clip-path=\"url(#clip940)\" d=\"M449.853 218.585 Q448.047 223.215 446.334 224.627 Q444.621 226.039 441.751 226.039 L438.348 226.039 L438.348 222.474 L440.848 222.474 Q442.607 222.474 443.579 221.64 Q444.552 220.807 445.732 217.705 L446.496 215.761 L436.01 190.252 L440.524 190.252 L448.626 210.529 L456.727 190.252 L461.241 190.252 L449.853 218.585 Z\" fill=\"#000000\" fill-rule=\"evenodd\" fill-opacity=\"1\" /><path clip-path=\"url(#clip940)\" d=\"M471.751 212.242 L488.07 212.242 L488.07 216.178 L466.126 216.178 L466.126 212.242 Q468.788 209.488 473.371 204.858 Q477.977 200.205 479.158 198.863 Q481.403 196.34 482.283 194.604 Q483.186 192.844 483.186 191.155 Q483.186 188.4 481.241 186.664 Q479.32 184.928 476.218 184.928 Q474.019 184.928 471.565 185.692 Q469.135 186.455 466.357 188.006 L466.357 183.284 Q469.181 182.15 471.635 181.571 Q474.088 180.993 476.126 180.993 Q481.496 180.993 484.69 183.678 Q487.885 186.363 487.885 190.854 Q487.885 192.983 487.075 194.905 Q486.287 196.803 484.181 199.395 Q483.602 200.067 480.5 203.284 Q477.399 206.479 471.751 212.242 Z\" fill=\"#000000\" fill-rule=\"evenodd\" fill-opacity=\"1\" /><polyline clip-path=\"url(#clip940)\" style=\"stroke:#3da44d; stroke-linecap:round; stroke-linejoin:round; stroke-width:4; stroke-opacity:1; fill:none\" points=\"266.172,250.738 411.747,250.738 \"/>\n",
       "<path clip-path=\"url(#clip940)\" d=\"M449.853 270.425 Q448.047 275.055 446.334 276.467 Q444.621 277.879 441.751 277.879 L438.348 277.879 L438.348 274.314 L440.848 274.314 Q442.607 274.314 443.579 273.48 Q444.552 272.647 445.732 269.545 L446.496 267.601 L436.01 242.092 L440.524 242.092 L448.626 262.369 L456.727 242.092 L461.241 242.092 L449.853 270.425 Z\" fill=\"#000000\" fill-rule=\"evenodd\" fill-opacity=\"1\" /><path clip-path=\"url(#clip940)\" d=\"M481.889 249.383 Q485.246 250.101 487.121 252.369 Q489.019 254.638 489.019 257.971 Q489.019 263.087 485.5 265.888 Q481.982 268.689 475.501 268.689 Q473.325 268.689 471.01 268.249 Q468.718 267.832 466.264 266.976 L466.264 262.462 Q468.209 263.596 470.524 264.175 Q472.838 264.754 475.362 264.754 Q479.76 264.754 482.051 263.018 Q484.366 261.281 484.366 257.971 Q484.366 254.916 482.213 253.203 Q480.084 251.467 476.264 251.467 L472.237 251.467 L472.237 247.624 L476.45 247.624 Q479.899 247.624 481.727 246.258 Q483.556 244.87 483.556 242.277 Q483.556 239.615 481.658 238.203 Q479.783 236.768 476.264 236.768 Q474.343 236.768 472.144 237.184 Q469.945 237.601 467.306 238.481 L467.306 234.314 Q469.968 233.573 472.283 233.203 Q474.621 232.833 476.681 232.833 Q482.005 232.833 485.107 235.263 Q488.209 237.67 488.209 241.791 Q488.209 244.661 486.565 246.652 Q484.922 248.62 481.889 249.383 Z\" fill=\"#000000\" fill-rule=\"evenodd\" fill-opacity=\"1\" /></svg>\n"
      ]
     },
     "execution_count": 17,
     "metadata": {},
     "output_type": "execute_result"
    }
   ],
   "source": [
    "noise = Random.rand(di.Normal(0,10),length(x));\n",
    "y_observed = y_true .+ noise;\n",
    "poly_fit = Polynomials.fit(x,y_observed,10)\n",
    "Plots.scatter(x,y_observed)\n",
    "Plots.plot!(x,poly_fit.(x))\n",
    "Plots.plot!(x,y_true)"
   ]
  },
  {
   "cell_type": "markdown",
   "id": "c6219fe6",
   "metadata": {},
   "source": [
    "### 2.5\n",
    "\n",
    "1. Create a new independent parameter x_fit ranging from -11 to 11 with an increment of 0.1\n",
    "2. Plot the same three plots as in 2.3 again but apply the tenth order polynomial to x_fit instead of x\n",
    "3. What do you observe in the plot? What this phenomenon is called?"
   ]
  },
  {
   "cell_type": "code",
   "execution_count": 18,
   "id": "d0685652",
   "metadata": {},
   "outputs": [
    {
     "data": {
      "image/svg+xml": [
       "<?xml version=\"1.0\" encoding=\"utf-8\"?>\n",
       "<svg xmlns=\"http://www.w3.org/2000/svg\" xmlns:xlink=\"http://www.w3.org/1999/xlink\" width=\"600\" height=\"400\" viewBox=\"0 0 2400 1600\">\n",
       "<defs>\n",
       "  <clipPath id=\"clip980\">\n",
       "    <rect x=\"0\" y=\"0\" width=\"2400\" height=\"1600\"/>\n",
       "  </clipPath>\n",
       "</defs>\n",
       "<path clip-path=\"url(#clip980)\" d=\"M0 1600 L2400 1600 L2400 0 L0 0  Z\" fill=\"#ffffff\" fill-rule=\"evenodd\" fill-opacity=\"1\"/>\n",
       "<defs>\n",
       "  <clipPath id=\"clip981\">\n",
       "    <rect x=\"480\" y=\"0\" width=\"1681\" height=\"1600\"/>\n",
       "  </clipPath>\n",
       "</defs>\n",
       "<path clip-path=\"url(#clip980)\" d=\"M170.857 1486.45 L2352.76 1486.45 L2352.76 47.2441 L170.857 47.2441  Z\" fill=\"#ffffff\" fill-rule=\"evenodd\" fill-opacity=\"1\"/>\n",
       "<defs>\n",
       "  <clipPath id=\"clip982\">\n",
       "    <rect x=\"170\" y=\"47\" width=\"2183\" height=\"1440\"/>\n",
       "  </clipPath>\n",
       "</defs>\n",
       "<polyline clip-path=\"url(#clip982)\" style=\"stroke:#000000; stroke-linecap:round; stroke-linejoin:round; stroke-width:2; stroke-opacity:0.1; fill:none\" points=\"326.173,1486.45 326.173,47.2441 \"/>\n",
       "<polyline clip-path=\"url(#clip982)\" style=\"stroke:#000000; stroke-linecap:round; stroke-linejoin:round; stroke-width:2; stroke-opacity:0.1; fill:none\" points=\"793.99,1486.45 793.99,47.2441 \"/>\n",
       "<polyline clip-path=\"url(#clip982)\" style=\"stroke:#000000; stroke-linecap:round; stroke-linejoin:round; stroke-width:2; stroke-opacity:0.1; fill:none\" points=\"1261.81,1486.45 1261.81,47.2441 \"/>\n",
       "<polyline clip-path=\"url(#clip982)\" style=\"stroke:#000000; stroke-linecap:round; stroke-linejoin:round; stroke-width:2; stroke-opacity:0.1; fill:none\" points=\"1729.62,1486.45 1729.62,47.2441 \"/>\n",
       "<polyline clip-path=\"url(#clip982)\" style=\"stroke:#000000; stroke-linecap:round; stroke-linejoin:round; stroke-width:2; stroke-opacity:0.1; fill:none\" points=\"2197.44,1486.45 2197.44,47.2441 \"/>\n",
       "<polyline clip-path=\"url(#clip980)\" style=\"stroke:#000000; stroke-linecap:round; stroke-linejoin:round; stroke-width:4; stroke-opacity:1; fill:none\" points=\"170.857,1486.45 2352.76,1486.45 \"/>\n",
       "<polyline clip-path=\"url(#clip980)\" style=\"stroke:#000000; stroke-linecap:round; stroke-linejoin:round; stroke-width:4; stroke-opacity:1; fill:none\" points=\"326.173,1486.45 326.173,1467.55 \"/>\n",
       "<polyline clip-path=\"url(#clip980)\" style=\"stroke:#000000; stroke-linecap:round; stroke-linejoin:round; stroke-width:4; stroke-opacity:1; fill:none\" points=\"793.99,1486.45 793.99,1467.55 \"/>\n",
       "<polyline clip-path=\"url(#clip980)\" style=\"stroke:#000000; stroke-linecap:round; stroke-linejoin:round; stroke-width:4; stroke-opacity:1; fill:none\" points=\"1261.81,1486.45 1261.81,1467.55 \"/>\n",
       "<polyline clip-path=\"url(#clip980)\" style=\"stroke:#000000; stroke-linecap:round; stroke-linejoin:round; stroke-width:4; stroke-opacity:1; fill:none\" points=\"1729.62,1486.45 1729.62,1467.55 \"/>\n",
       "<polyline clip-path=\"url(#clip980)\" style=\"stroke:#000000; stroke-linecap:round; stroke-linejoin:round; stroke-width:4; stroke-opacity:1; fill:none\" points=\"2197.44,1486.45 2197.44,1467.55 \"/>\n",
       "<path clip-path=\"url(#clip980)\" d=\"M280.235 1532.02 L309.911 1532.02 L309.911 1535.95 L280.235 1535.95 L280.235 1532.02 Z\" fill=\"#000000\" fill-rule=\"evenodd\" fill-opacity=\"1\" /><path clip-path=\"url(#clip980)\" d=\"M320.814 1544.91 L328.453 1544.91 L328.453 1518.55 L320.143 1520.21 L320.143 1515.95 L328.406 1514.29 L333.082 1514.29 L333.082 1544.91 L340.721 1544.91 L340.721 1548.85 L320.814 1548.85 L320.814 1544.91 Z\" fill=\"#000000\" fill-rule=\"evenodd\" fill-opacity=\"1\" /><path clip-path=\"url(#clip980)\" d=\"M360.166 1517.37 Q356.554 1517.37 354.726 1520.93 Q352.92 1524.47 352.92 1531.6 Q352.92 1538.71 354.726 1542.27 Q356.554 1545.82 360.166 1545.82 Q363.8 1545.82 365.605 1542.27 Q367.434 1538.71 367.434 1531.6 Q367.434 1524.47 365.605 1520.93 Q363.8 1517.37 360.166 1517.37 M360.166 1513.66 Q365.976 1513.66 369.031 1518.27 Q372.11 1522.85 372.11 1531.6 Q372.11 1540.33 369.031 1544.94 Q365.976 1549.52 360.166 1549.52 Q354.355 1549.52 351.277 1544.94 Q348.221 1540.33 348.221 1531.6 Q348.221 1522.85 351.277 1518.27 Q354.355 1513.66 360.166 1513.66 Z\" fill=\"#000000\" fill-rule=\"evenodd\" fill-opacity=\"1\" /><path clip-path=\"url(#clip980)\" d=\"M763.631 1532.02 L793.307 1532.02 L793.307 1535.95 L763.631 1535.95 L763.631 1532.02 Z\" fill=\"#000000\" fill-rule=\"evenodd\" fill-opacity=\"1\" /><path clip-path=\"url(#clip980)\" d=\"M803.446 1514.29 L821.802 1514.29 L821.802 1518.22 L807.728 1518.22 L807.728 1526.7 Q808.747 1526.35 809.765 1526.19 Q810.784 1526 811.802 1526 Q817.589 1526 820.969 1529.17 Q824.348 1532.34 824.348 1537.76 Q824.348 1543.34 820.876 1546.44 Q817.404 1549.52 811.084 1549.52 Q808.909 1549.52 806.64 1549.15 Q804.395 1548.78 801.987 1548.04 L801.987 1543.34 Q804.071 1544.47 806.293 1545.03 Q808.515 1545.58 810.992 1545.58 Q814.996 1545.58 817.334 1543.48 Q819.672 1541.37 819.672 1537.76 Q819.672 1534.15 817.334 1532.04 Q814.996 1529.94 810.992 1529.94 Q809.117 1529.94 807.242 1530.35 Q805.39 1530.77 803.446 1531.65 L803.446 1514.29 Z\" fill=\"#000000\" fill-rule=\"evenodd\" fill-opacity=\"1\" /><path clip-path=\"url(#clip980)\" d=\"M1261.81 1517.37 Q1258.2 1517.37 1256.37 1520.93 Q1254.56 1524.47 1254.56 1531.6 Q1254.56 1538.71 1256.37 1542.27 Q1258.2 1545.82 1261.81 1545.82 Q1265.44 1545.82 1267.25 1542.27 Q1269.08 1538.71 1269.08 1531.6 Q1269.08 1524.47 1267.25 1520.93 Q1265.44 1517.37 1261.81 1517.37 M1261.81 1513.66 Q1267.62 1513.66 1270.67 1518.27 Q1273.75 1522.85 1273.75 1531.6 Q1273.75 1540.33 1270.67 1544.94 Q1267.62 1549.52 1261.81 1549.52 Q1256 1549.52 1252.92 1544.94 Q1249.86 1540.33 1249.86 1531.6 Q1249.86 1522.85 1252.92 1518.27 Q1256 1513.66 1261.81 1513.66 Z\" fill=\"#000000\" fill-rule=\"evenodd\" fill-opacity=\"1\" /><path clip-path=\"url(#clip980)\" d=\"M1719.9 1514.29 L1738.26 1514.29 L1738.26 1518.22 L1724.18 1518.22 L1724.18 1526.7 Q1725.2 1526.35 1726.22 1526.19 Q1727.24 1526 1728.26 1526 Q1734.04 1526 1737.42 1529.17 Q1740.8 1532.34 1740.8 1537.76 Q1740.8 1543.34 1737.33 1546.44 Q1733.86 1549.52 1727.54 1549.52 Q1725.36 1549.52 1723.1 1549.15 Q1720.85 1548.78 1718.44 1548.04 L1718.44 1543.34 Q1720.53 1544.47 1722.75 1545.03 Q1724.97 1545.58 1727.45 1545.58 Q1731.45 1545.58 1733.79 1543.48 Q1736.13 1541.37 1736.13 1537.76 Q1736.13 1534.15 1733.79 1532.04 Q1731.45 1529.94 1727.45 1529.94 Q1725.57 1529.94 1723.7 1530.35 Q1721.85 1530.77 1719.9 1531.65 L1719.9 1514.29 Z\" fill=\"#000000\" fill-rule=\"evenodd\" fill-opacity=\"1\" /><path clip-path=\"url(#clip980)\" d=\"M2172.13 1544.91 L2179.77 1544.91 L2179.77 1518.55 L2171.46 1520.21 L2171.46 1515.95 L2179.72 1514.29 L2184.4 1514.29 L2184.4 1544.91 L2192.04 1544.91 L2192.04 1548.85 L2172.13 1548.85 L2172.13 1544.91 Z\" fill=\"#000000\" fill-rule=\"evenodd\" fill-opacity=\"1\" /><path clip-path=\"url(#clip980)\" d=\"M2211.48 1517.37 Q2207.87 1517.37 2206.04 1520.93 Q2204.23 1524.47 2204.23 1531.6 Q2204.23 1538.71 2206.04 1542.27 Q2207.87 1545.82 2211.48 1545.82 Q2215.11 1545.82 2216.92 1542.27 Q2218.75 1538.71 2218.75 1531.6 Q2218.75 1524.47 2216.92 1520.93 Q2215.11 1517.37 2211.48 1517.37 M2211.48 1513.66 Q2217.29 1513.66 2220.35 1518.27 Q2223.42 1522.85 2223.42 1531.6 Q2223.42 1540.33 2220.35 1544.94 Q2217.29 1549.52 2211.48 1549.52 Q2205.67 1549.52 2202.59 1544.94 Q2199.54 1540.33 2199.54 1531.6 Q2199.54 1522.85 2202.59 1518.27 Q2205.67 1513.66 2211.48 1513.66 Z\" fill=\"#000000\" fill-rule=\"evenodd\" fill-opacity=\"1\" /><polyline clip-path=\"url(#clip982)\" style=\"stroke:#000000; stroke-linecap:round; stroke-linejoin:round; stroke-width:2; stroke-opacity:0.1; fill:none\" points=\"170.857,1403.29 2352.76,1403.29 \"/>\n",
       "<polyline clip-path=\"url(#clip982)\" style=\"stroke:#000000; stroke-linecap:round; stroke-linejoin:round; stroke-width:2; stroke-opacity:0.1; fill:none\" points=\"170.857,1106.04 2352.76,1106.04 \"/>\n",
       "<polyline clip-path=\"url(#clip982)\" style=\"stroke:#000000; stroke-linecap:round; stroke-linejoin:round; stroke-width:2; stroke-opacity:0.1; fill:none\" points=\"170.857,808.786 2352.76,808.786 \"/>\n",
       "<polyline clip-path=\"url(#clip982)\" style=\"stroke:#000000; stroke-linecap:round; stroke-linejoin:round; stroke-width:2; stroke-opacity:0.1; fill:none\" points=\"170.857,511.533 2352.76,511.533 \"/>\n",
       "<polyline clip-path=\"url(#clip982)\" style=\"stroke:#000000; stroke-linecap:round; stroke-linejoin:round; stroke-width:2; stroke-opacity:0.1; fill:none\" points=\"170.857,214.279 2352.76,214.279 \"/>\n",
       "<polyline clip-path=\"url(#clip980)\" style=\"stroke:#000000; stroke-linecap:round; stroke-linejoin:round; stroke-width:4; stroke-opacity:1; fill:none\" points=\"170.857,1486.45 170.857,47.2441 \"/>\n",
       "<polyline clip-path=\"url(#clip980)\" style=\"stroke:#000000; stroke-linecap:round; stroke-linejoin:round; stroke-width:4; stroke-opacity:1; fill:none\" points=\"170.857,1403.29 189.755,1403.29 \"/>\n",
       "<polyline clip-path=\"url(#clip980)\" style=\"stroke:#000000; stroke-linecap:round; stroke-linejoin:round; stroke-width:4; stroke-opacity:1; fill:none\" points=\"170.857,1106.04 189.755,1106.04 \"/>\n",
       "<polyline clip-path=\"url(#clip980)\" style=\"stroke:#000000; stroke-linecap:round; stroke-linejoin:round; stroke-width:4; stroke-opacity:1; fill:none\" points=\"170.857,808.786 189.755,808.786 \"/>\n",
       "<polyline clip-path=\"url(#clip980)\" style=\"stroke:#000000; stroke-linecap:round; stroke-linejoin:round; stroke-width:4; stroke-opacity:1; fill:none\" points=\"170.857,511.533 189.755,511.533 \"/>\n",
       "<polyline clip-path=\"url(#clip980)\" style=\"stroke:#000000; stroke-linecap:round; stroke-linejoin:round; stroke-width:4; stroke-opacity:1; fill:none\" points=\"170.857,214.279 189.755,214.279 \"/>\n",
       "<path clip-path=\"url(#clip980)\" d=\"M122.913 1389.09 Q119.302 1389.09 117.473 1392.66 Q115.668 1396.2 115.668 1403.33 Q115.668 1410.43 117.473 1414 Q119.302 1417.54 122.913 1417.54 Q126.547 1417.54 128.353 1414 Q130.182 1410.43 130.182 1403.33 Q130.182 1396.2 128.353 1392.66 Q126.547 1389.09 122.913 1389.09 M122.913 1385.39 Q128.723 1385.39 131.779 1389.99 Q134.857 1394.58 134.857 1403.33 Q134.857 1412.05 131.779 1416.66 Q128.723 1421.24 122.913 1421.24 Q117.103 1421.24 114.024 1416.66 Q110.969 1412.05 110.969 1403.33 Q110.969 1394.58 114.024 1389.99 Q117.103 1385.39 122.913 1385.39 Z\" fill=\"#000000\" fill-rule=\"evenodd\" fill-opacity=\"1\" /><path clip-path=\"url(#clip980)\" d=\"M82.7975 1088.76 L101.154 1088.76 L101.154 1092.7 L87.0799 1092.7 L87.0799 1101.17 Q88.0984 1100.82 89.1169 1100.66 Q90.1354 1100.47 91.1539 1100.47 Q96.941 1100.47 100.321 1103.64 Q103.7 1106.82 103.7 1112.23 Q103.7 1117.81 100.228 1120.91 Q96.7558 1123.99 90.4364 1123.99 Q88.2604 1123.99 85.9919 1123.62 Q83.7466 1123.25 81.3392 1122.51 L81.3392 1117.81 Q83.4225 1118.94 85.6447 1119.5 Q87.8669 1120.06 90.3438 1120.06 Q94.3484 1120.06 96.6863 1117.95 Q99.0243 1115.84 99.0243 1112.23 Q99.0243 1108.62 96.6863 1106.51 Q94.3484 1104.41 90.3438 1104.41 Q88.4688 1104.41 86.5938 1104.82 Q84.7419 1105.24 82.7975 1106.12 L82.7975 1088.76 Z\" fill=\"#000000\" fill-rule=\"evenodd\" fill-opacity=\"1\" /><path clip-path=\"url(#clip980)\" d=\"M122.913 1091.84 Q119.302 1091.84 117.473 1095.4 Q115.668 1098.95 115.668 1106.07 Q115.668 1113.18 117.473 1116.75 Q119.302 1120.29 122.913 1120.29 Q126.547 1120.29 128.353 1116.75 Q130.182 1113.18 130.182 1106.07 Q130.182 1098.95 128.353 1095.4 Q126.547 1091.84 122.913 1091.84 M122.913 1088.13 Q128.723 1088.13 131.779 1092.74 Q134.857 1097.32 134.857 1106.07 Q134.857 1114.8 131.779 1119.41 Q128.723 1123.99 122.913 1123.99 Q117.103 1123.99 114.024 1119.41 Q110.969 1114.8 110.969 1106.07 Q110.969 1097.32 114.024 1092.74 Q117.103 1088.13 122.913 1088.13 Z\" fill=\"#000000\" fill-rule=\"evenodd\" fill-opacity=\"1\" /><path clip-path=\"url(#clip980)\" d=\"M53.3995 822.131 L61.0384 822.131 L61.0384 795.766 L52.7282 797.432 L52.7282 793.173 L60.9921 791.506 L65.668 791.506 L65.668 822.131 L73.3068 822.131 L73.3068 826.066 L53.3995 826.066 L53.3995 822.131 Z\" fill=\"#000000\" fill-rule=\"evenodd\" fill-opacity=\"1\" /><path clip-path=\"url(#clip980)\" d=\"M92.7512 794.585 Q89.1401 794.585 87.3114 798.15 Q85.5058 801.691 85.5058 808.821 Q85.5058 815.928 87.3114 819.492 Q89.1401 823.034 92.7512 823.034 Q96.3854 823.034 98.1909 819.492 Q100.02 815.928 100.02 808.821 Q100.02 801.691 98.1909 798.15 Q96.3854 794.585 92.7512 794.585 M92.7512 790.881 Q98.5613 790.881 101.617 795.488 Q104.696 800.071 104.696 808.821 Q104.696 817.548 101.617 822.154 Q98.5613 826.738 92.7512 826.738 Q86.941 826.738 83.8623 822.154 Q80.8068 817.548 80.8068 808.821 Q80.8068 800.071 83.8623 795.488 Q86.941 790.881 92.7512 790.881 Z\" fill=\"#000000\" fill-rule=\"evenodd\" fill-opacity=\"1\" /><path clip-path=\"url(#clip980)\" d=\"M122.913 794.585 Q119.302 794.585 117.473 798.15 Q115.668 801.691 115.668 808.821 Q115.668 815.928 117.473 819.492 Q119.302 823.034 122.913 823.034 Q126.547 823.034 128.353 819.492 Q130.182 815.928 130.182 808.821 Q130.182 801.691 128.353 798.15 Q126.547 794.585 122.913 794.585 M122.913 790.881 Q128.723 790.881 131.779 795.488 Q134.857 800.071 134.857 808.821 Q134.857 817.548 131.779 822.154 Q128.723 826.738 122.913 826.738 Q117.103 826.738 114.024 822.154 Q110.969 817.548 110.969 808.821 Q110.969 800.071 114.024 795.488 Q117.103 790.881 122.913 790.881 Z\" fill=\"#000000\" fill-rule=\"evenodd\" fill-opacity=\"1\" /><path clip-path=\"url(#clip980)\" d=\"M53.3995 524.878 L61.0384 524.878 L61.0384 498.512 L52.7282 500.179 L52.7282 495.919 L60.9921 494.253 L65.668 494.253 L65.668 524.878 L73.3068 524.878 L73.3068 528.813 L53.3995 528.813 L53.3995 524.878 Z\" fill=\"#000000\" fill-rule=\"evenodd\" fill-opacity=\"1\" /><path clip-path=\"url(#clip980)\" d=\"M82.7975 494.253 L101.154 494.253 L101.154 498.188 L87.0799 498.188 L87.0799 506.66 Q88.0984 506.313 89.1169 506.151 Q90.1354 505.966 91.1539 505.966 Q96.941 505.966 100.321 509.137 Q103.7 512.308 103.7 517.725 Q103.7 523.304 100.228 526.405 Q96.7558 529.484 90.4364 529.484 Q88.2604 529.484 85.9919 529.114 Q83.7466 528.743 81.3392 528.003 L81.3392 523.304 Q83.4225 524.438 85.6447 524.993 Q87.8669 525.549 90.3438 525.549 Q94.3484 525.549 96.6863 523.442 Q99.0243 521.336 99.0243 517.725 Q99.0243 514.114 96.6863 512.007 Q94.3484 509.901 90.3438 509.901 Q88.4688 509.901 86.5938 510.318 Q84.7419 510.734 82.7975 511.614 L82.7975 494.253 Z\" fill=\"#000000\" fill-rule=\"evenodd\" fill-opacity=\"1\" /><path clip-path=\"url(#clip980)\" d=\"M122.913 497.332 Q119.302 497.332 117.473 500.896 Q115.668 504.438 115.668 511.568 Q115.668 518.674 117.473 522.239 Q119.302 525.78 122.913 525.78 Q126.547 525.78 128.353 522.239 Q130.182 518.674 130.182 511.568 Q130.182 504.438 128.353 500.896 Q126.547 497.332 122.913 497.332 M122.913 493.628 Q128.723 493.628 131.779 498.234 Q134.857 502.818 134.857 511.568 Q134.857 520.294 131.779 524.901 Q128.723 529.484 122.913 529.484 Q117.103 529.484 114.024 524.901 Q110.969 520.294 110.969 511.568 Q110.969 502.818 114.024 498.234 Q117.103 493.628 122.913 493.628 Z\" fill=\"#000000\" fill-rule=\"evenodd\" fill-opacity=\"1\" /><path clip-path=\"url(#clip980)\" d=\"M56.6171 227.624 L72.9365 227.624 L72.9365 231.559 L50.9921 231.559 L50.9921 227.624 Q53.6541 224.87 58.2375 220.24 Q62.8439 215.587 64.0245 214.245 Q66.2698 211.721 67.1494 209.985 Q68.0522 208.226 68.0522 206.536 Q68.0522 203.782 66.1078 202.046 Q64.1865 200.309 61.0847 200.309 Q58.8856 200.309 56.4319 201.073 Q54.0014 201.837 51.2236 203.388 L51.2236 198.666 Q54.0477 197.532 56.5014 196.953 Q58.955 196.374 60.9921 196.374 Q66.3624 196.374 69.5568 199.059 Q72.7513 201.745 72.7513 206.235 Q72.7513 208.365 71.9411 210.286 Q71.1541 212.184 69.0476 214.777 Q68.4689 215.448 65.367 218.666 Q62.2652 221.86 56.6171 227.624 Z\" fill=\"#000000\" fill-rule=\"evenodd\" fill-opacity=\"1\" /><path clip-path=\"url(#clip980)\" d=\"M92.7512 200.078 Q89.1401 200.078 87.3114 203.643 Q85.5058 207.184 85.5058 214.314 Q85.5058 221.42 87.3114 224.985 Q89.1401 228.527 92.7512 228.527 Q96.3854 228.527 98.1909 224.985 Q100.02 221.42 100.02 214.314 Q100.02 207.184 98.1909 203.643 Q96.3854 200.078 92.7512 200.078 M92.7512 196.374 Q98.5613 196.374 101.617 200.981 Q104.696 205.564 104.696 214.314 Q104.696 223.041 101.617 227.647 Q98.5613 232.231 92.7512 232.231 Q86.941 232.231 83.8623 227.647 Q80.8068 223.041 80.8068 214.314 Q80.8068 205.564 83.8623 200.981 Q86.941 196.374 92.7512 196.374 Z\" fill=\"#000000\" fill-rule=\"evenodd\" fill-opacity=\"1\" /><path clip-path=\"url(#clip980)\" d=\"M122.913 200.078 Q119.302 200.078 117.473 203.643 Q115.668 207.184 115.668 214.314 Q115.668 221.42 117.473 224.985 Q119.302 228.527 122.913 228.527 Q126.547 228.527 128.353 224.985 Q130.182 221.42 130.182 214.314 Q130.182 207.184 128.353 203.643 Q126.547 200.078 122.913 200.078 M122.913 196.374 Q128.723 196.374 131.779 200.981 Q134.857 205.564 134.857 214.314 Q134.857 223.041 131.779 227.647 Q128.723 232.231 122.913 232.231 Q117.103 232.231 114.024 227.647 Q110.969 223.041 110.969 214.314 Q110.969 205.564 114.024 200.981 Q117.103 196.374 122.913 196.374 Z\" fill=\"#000000\" fill-rule=\"evenodd\" fill-opacity=\"1\" /><circle clip-path=\"url(#clip982)\" cx=\"326.173\" cy=\"798.751\" r=\"14.4\" fill=\"#009af9\" fill-rule=\"evenodd\" fill-opacity=\"1\" stroke=\"#000000\" stroke-opacity=\"1\" stroke-width=\"3.2\"/>\n",
       "<circle clip-path=\"url(#clip982)\" cx=\"419.736\" cy=\"1047.63\" r=\"14.4\" fill=\"#009af9\" fill-rule=\"evenodd\" fill-opacity=\"1\" stroke=\"#000000\" stroke-opacity=\"1\" stroke-width=\"3.2\"/>\n",
       "<circle clip-path=\"url(#clip982)\" cx=\"513.299\" cy=\"1253.7\" r=\"14.4\" fill=\"#009af9\" fill-rule=\"evenodd\" fill-opacity=\"1\" stroke=\"#000000\" stroke-opacity=\"1\" stroke-width=\"3.2\"/>\n",
       "<circle clip-path=\"url(#clip982)\" cx=\"606.863\" cy=\"1307.41\" r=\"14.4\" fill=\"#009af9\" fill-rule=\"evenodd\" fill-opacity=\"1\" stroke=\"#000000\" stroke-opacity=\"1\" stroke-width=\"3.2\"/>\n",
       "<circle clip-path=\"url(#clip982)\" cx=\"700.426\" cy=\"1365.2\" r=\"14.4\" fill=\"#009af9\" fill-rule=\"evenodd\" fill-opacity=\"1\" stroke=\"#000000\" stroke-opacity=\"1\" stroke-width=\"3.2\"/>\n",
       "<circle clip-path=\"url(#clip982)\" cx=\"793.99\" cy=\"1316.74\" r=\"14.4\" fill=\"#009af9\" fill-rule=\"evenodd\" fill-opacity=\"1\" stroke=\"#000000\" stroke-opacity=\"1\" stroke-width=\"3.2\"/>\n",
       "<circle clip-path=\"url(#clip982)\" cx=\"887.553\" cy=\"1445.72\" r=\"14.4\" fill=\"#009af9\" fill-rule=\"evenodd\" fill-opacity=\"1\" stroke=\"#000000\" stroke-opacity=\"1\" stroke-width=\"3.2\"/>\n",
       "<circle clip-path=\"url(#clip982)\" cx=\"981.116\" cy=\"1343.43\" r=\"14.4\" fill=\"#009af9\" fill-rule=\"evenodd\" fill-opacity=\"1\" stroke=\"#000000\" stroke-opacity=\"1\" stroke-width=\"3.2\"/>\n",
       "<circle clip-path=\"url(#clip982)\" cx=\"1074.68\" cy=\"1421.43\" r=\"14.4\" fill=\"#009af9\" fill-rule=\"evenodd\" fill-opacity=\"1\" stroke=\"#000000\" stroke-opacity=\"1\" stroke-width=\"3.2\"/>\n",
       "<circle clip-path=\"url(#clip982)\" cx=\"1168.24\" cy=\"1417.69\" r=\"14.4\" fill=\"#009af9\" fill-rule=\"evenodd\" fill-opacity=\"1\" stroke=\"#000000\" stroke-opacity=\"1\" stroke-width=\"3.2\"/>\n",
       "<circle clip-path=\"url(#clip982)\" cx=\"1261.81\" cy=\"1387.89\" r=\"14.4\" fill=\"#009af9\" fill-rule=\"evenodd\" fill-opacity=\"1\" stroke=\"#000000\" stroke-opacity=\"1\" stroke-width=\"3.2\"/>\n",
       "<circle clip-path=\"url(#clip982)\" cx=\"1355.37\" cy=\"1366.07\" r=\"14.4\" fill=\"#009af9\" fill-rule=\"evenodd\" fill-opacity=\"1\" stroke=\"#000000\" stroke-opacity=\"1\" stroke-width=\"3.2\"/>\n",
       "<circle clip-path=\"url(#clip982)\" cx=\"1448.93\" cy=\"1373.19\" r=\"14.4\" fill=\"#009af9\" fill-rule=\"evenodd\" fill-opacity=\"1\" stroke=\"#000000\" stroke-opacity=\"1\" stroke-width=\"3.2\"/>\n",
       "<circle clip-path=\"url(#clip982)\" cx=\"1542.5\" cy=\"1339.15\" r=\"14.4\" fill=\"#009af9\" fill-rule=\"evenodd\" fill-opacity=\"1\" stroke=\"#000000\" stroke-opacity=\"1\" stroke-width=\"3.2\"/>\n",
       "<circle clip-path=\"url(#clip982)\" cx=\"1636.06\" cy=\"1324.84\" r=\"14.4\" fill=\"#009af9\" fill-rule=\"evenodd\" fill-opacity=\"1\" stroke=\"#000000\" stroke-opacity=\"1\" stroke-width=\"3.2\"/>\n",
       "<circle clip-path=\"url(#clip982)\" cx=\"1729.62\" cy=\"1202.21\" r=\"14.4\" fill=\"#009af9\" fill-rule=\"evenodd\" fill-opacity=\"1\" stroke=\"#000000\" stroke-opacity=\"1\" stroke-width=\"3.2\"/>\n",
       "<circle clip-path=\"url(#clip982)\" cx=\"1823.19\" cy=\"1191.26\" r=\"14.4\" fill=\"#009af9\" fill-rule=\"evenodd\" fill-opacity=\"1\" stroke=\"#000000\" stroke-opacity=\"1\" stroke-width=\"3.2\"/>\n",
       "<circle clip-path=\"url(#clip982)\" cx=\"1916.75\" cy=\"984.489\" r=\"14.4\" fill=\"#009af9\" fill-rule=\"evenodd\" fill-opacity=\"1\" stroke=\"#000000\" stroke-opacity=\"1\" stroke-width=\"3.2\"/>\n",
       "<circle clip-path=\"url(#clip982)\" cx=\"2010.31\" cy=\"914.638\" r=\"14.4\" fill=\"#009af9\" fill-rule=\"evenodd\" fill-opacity=\"1\" stroke=\"#000000\" stroke-opacity=\"1\" stroke-width=\"3.2\"/>\n",
       "<circle clip-path=\"url(#clip982)\" cx=\"2103.88\" cy=\"782.969\" r=\"14.4\" fill=\"#009af9\" fill-rule=\"evenodd\" fill-opacity=\"1\" stroke=\"#000000\" stroke-opacity=\"1\" stroke-width=\"3.2\"/>\n",
       "<circle clip-path=\"url(#clip982)\" cx=\"2197.44\" cy=\"597.504\" r=\"14.4\" fill=\"#009af9\" fill-rule=\"evenodd\" fill-opacity=\"1\" stroke=\"#000000\" stroke-opacity=\"1\" stroke-width=\"3.2\"/>\n",
       "<polyline clip-path=\"url(#clip982)\" style=\"stroke:#e26f46; stroke-linecap:round; stroke-linejoin:round; stroke-width:4; stroke-opacity:1; fill:none\" points=\"232.609,910.397 241.966,854.947 251.322,813.293 260.678,783.695 270.035,764.568 279.391,754.472 288.747,752.105 298.104,756.292 307.46,765.974 316.816,780.201 326.173,798.125 335.529,818.989 344.885,842.122 354.242,866.935 363.598,892.907 372.954,919.587 382.311,946.584 391.667,973.56 401.023,1000.23 410.38,1026.35 419.736,1051.73 429.092,1076.21 438.449,1099.65 447.805,1121.95 457.161,1143.06 466.518,1162.91 475.874,1181.49 485.23,1198.77 494.587,1214.78 503.943,1229.53 513.299,1243.04 522.656,1255.37 532.012,1266.56 541.368,1276.67 550.725,1285.75 560.081,1293.88 569.438,1301.1 578.794,1307.51 588.15,1313.16 597.507,1318.12 606.863,1322.45 616.219,1326.24 625.576,1329.53 634.932,1332.39 644.288,1334.88 653.645,1337.05 663.001,1338.96 672.357,1340.66 681.714,1342.18 691.07,1343.58 700.426,1344.88 709.783,1346.13 719.139,1347.34 728.495,1348.56 737.852,1349.79 747.208,1351.06 756.564,1352.38 765.921,1353.78 775.277,1355.24 784.633,1356.79 793.99,1358.42 803.346,1360.14 812.702,1361.94 822.059,1363.82 831.415,1365.78 840.771,1367.81 850.128,1369.9 859.484,1372.04 868.84,1374.23 878.197,1376.44 887.553,1378.67 896.909,1380.91 906.266,1383.14 915.622,1385.35 924.978,1387.53 934.335,1389.66 943.691,1391.73 953.047,1393.74 962.404,1395.66 971.76,1397.49 981.116,1399.21 990.473,1400.83 999.829,1402.32 1009.19,1403.69 1018.54,1404.92 1027.9,1406.01 1037.25,1406.96 1046.61,1407.76 1055.97,1408.41 1065.32,1408.91 1074.68,1409.26 1084.04,1409.46 1093.39,1409.51 1102.75,1409.41 1112.11,1409.18 1121.46,1408.8 1130.82,1408.29 1140.17,1407.66 1149.53,1406.91 1158.89,1406.04 1168.24,1405.07 1177.6,1404 1186.96,1402.84 1196.31,1401.61 1205.67,1400.3 1215.02,1398.93 1224.38,1397.51 1233.74,1396.05 1243.09,1394.55 1252.45,1393.02 1261.81,1391.48 1271.16,1389.92 1280.52,1388.36 1289.88,1386.8 1299.23,1385.25 1308.59,1383.71 1317.94,1382.19 1327.3,1380.68 1336.66,1379.21 1346.01,1377.75 1355.37,1376.32 1364.73,1374.91 1374.08,1373.53 1383.44,1372.17 1392.8,1370.83 1402.15,1369.49 1411.51,1368.17 1420.86,1366.84 1430.22,1365.51 1439.58,1364.15 1448.93,1362.78 1458.29,1361.36 1467.65,1359.9 1477,1358.38 1486.36,1356.78 1495.72,1355.1 1505.07,1353.31 1514.43,1351.41 1523.78,1349.38 1533.14,1347.2 1542.5,1344.86 1551.85,1342.33 1561.21,1339.62 1570.57,1336.69 1579.92,1333.54 1589.28,1330.14 1598.63,1326.49 1607.99,1322.56 1617.35,1318.36 1626.7,1313.85 1636.06,1309.03 1645.42,1303.9 1654.77,1298.43 1664.13,1292.62 1673.49,1286.46 1682.84,1279.96 1692.2,1273.09 1701.55,1265.87 1710.91,1258.28 1720.27,1250.33 1729.62,1242.02 1738.98,1233.36 1748.34,1224.35 1757.69,1215 1767.05,1205.31 1776.41,1195.31 1785.76,1185 1795.12,1174.4 1804.47,1163.53 1813.83,1152.4 1823.19,1141.04 1832.54,1129.46 1841.9,1117.69 1851.26,1105.76 1860.61,1093.68 1869.97,1081.49 1879.33,1069.21 1888.68,1056.86 1898.04,1044.48 1907.39,1032.08 1916.75,1019.7 1926.11,1007.36 1935.46,995.07 1944.82,982.863 1954.18,970.754 1963.53,958.756 1972.89,946.881 1982.24,935.136 1991.6,923.523 2000.96,912.04 2010.31,900.676 2019.67,889.417 2029.03,878.239 2038.38,867.11 2047.74,855.99 2057.1,844.83 2066.45,833.567 2075.81,822.129 2085.16,810.431 2094.52,798.374 2103.88,785.846 2113.23,772.717 2122.59,758.842 2131.95,744.059 2141.3,728.186 2150.66,711.022 2160.02,692.346 2169.37,671.912 2178.73,649.455 2188.08,624.682 2197.44,597.276 2206.8,566.893 2216.15,533.162 2225.51,495.681 2234.87,454.019 2244.22,407.714 2253.58,356.269 2262.94,299.156 2272.29,235.809 2281.65,165.629 2291,87.9763 \"/>\n",
       "<polyline clip-path=\"url(#clip982)\" style=\"stroke:#3da44d; stroke-linecap:round; stroke-linejoin:round; stroke-width:4; stroke-opacity:1; fill:none\" points=\"326.173,999.029 419.736,1094.15 513.299,1177.38 606.863,1248.72 700.426,1308.17 793.99,1355.73 887.553,1391.4 981.116,1415.18 1074.68,1427.07 1168.24,1427.07 1261.81,1415.18 1355.37,1391.4 1448.93,1355.73 1542.5,1308.17 1636.06,1248.72 1729.62,1177.38 1823.19,1094.15 1916.75,999.029 2010.31,892.017 2103.88,773.116 2197.44,642.324 \"/>\n",
       "<path clip-path=\"url(#clip980)\" d=\"M243.587 302.578 L514.786 302.578 L514.786 95.2176 L243.587 95.2176  Z\" fill=\"#ffffff\" fill-rule=\"evenodd\" fill-opacity=\"1\"/>\n",
       "<polyline clip-path=\"url(#clip980)\" style=\"stroke:#000000; stroke-linecap:round; stroke-linejoin:round; stroke-width:4; stroke-opacity:1; fill:none\" points=\"243.587,302.578 514.786,302.578 514.786,95.2176 243.587,95.2176 243.587,302.578 \"/>\n",
       "<circle clip-path=\"url(#clip980)\" cx=\"340.561\" cy=\"147.058\" r=\"23.04\" fill=\"#009af9\" fill-rule=\"evenodd\" fill-opacity=\"1\" stroke=\"#000000\" stroke-opacity=\"1\" stroke-width=\"5.12\"/>\n",
       "<path clip-path=\"url(#clip980)\" d=\"M451.376 166.745 Q449.571 171.375 447.858 172.787 Q446.145 174.199 443.275 174.199 L439.872 174.199 L439.872 170.634 L442.372 170.634 Q444.131 170.634 445.103 169.8 Q446.076 168.967 447.256 165.865 L448.02 163.921 L437.534 138.412 L442.048 138.412 L450.15 158.689 L458.251 138.412 L462.765 138.412 L451.376 166.745 Z\" fill=\"#000000\" fill-rule=\"evenodd\" fill-opacity=\"1\" /><path clip-path=\"url(#clip980)\" d=\"M470.057 160.402 L477.696 160.402 L477.696 134.037 L469.386 135.703 L469.386 131.444 L477.649 129.778 L482.325 129.778 L482.325 160.402 L489.964 160.402 L489.964 164.338 L470.057 164.338 L470.057 160.402 Z\" fill=\"#000000\" fill-rule=\"evenodd\" fill-opacity=\"1\" /><polyline clip-path=\"url(#clip980)\" style=\"stroke:#e26f46; stroke-linecap:round; stroke-linejoin:round; stroke-width:4; stroke-opacity:1; fill:none\" points=\"267.831,198.898 413.291,198.898 \"/>\n",
       "<path clip-path=\"url(#clip980)\" d=\"M451.376 218.585 Q449.571 223.215 447.858 224.627 Q446.145 226.039 443.275 226.039 L439.872 226.039 L439.872 222.474 L442.372 222.474 Q444.131 222.474 445.103 221.64 Q446.076 220.807 447.256 217.705 L448.02 215.761 L437.534 190.252 L442.048 190.252 L450.15 210.529 L458.251 190.252 L462.765 190.252 L451.376 218.585 Z\" fill=\"#000000\" fill-rule=\"evenodd\" fill-opacity=\"1\" /><path clip-path=\"url(#clip980)\" d=\"M473.274 212.242 L489.594 212.242 L489.594 216.178 L467.649 216.178 L467.649 212.242 Q470.312 209.488 474.895 204.858 Q479.501 200.205 480.682 198.863 Q482.927 196.34 483.807 194.604 Q484.71 192.844 484.71 191.155 Q484.71 188.4 482.765 186.664 Q480.844 184.928 477.742 184.928 Q475.543 184.928 473.089 185.692 Q470.659 186.455 467.881 188.006 L467.881 183.284 Q470.705 182.15 473.159 181.571 Q475.612 180.993 477.649 180.993 Q483.02 180.993 486.214 183.678 Q489.409 186.363 489.409 190.854 Q489.409 192.983 488.598 194.905 Q487.811 196.803 485.705 199.395 Q485.126 200.067 482.024 203.284 Q478.923 206.479 473.274 212.242 Z\" fill=\"#000000\" fill-rule=\"evenodd\" fill-opacity=\"1\" /><polyline clip-path=\"url(#clip980)\" style=\"stroke:#3da44d; stroke-linecap:round; stroke-linejoin:round; stroke-width:4; stroke-opacity:1; fill:none\" points=\"267.831,250.738 413.291,250.738 \"/>\n",
       "<path clip-path=\"url(#clip980)\" d=\"M451.376 270.425 Q449.571 275.055 447.858 276.467 Q446.145 277.879 443.275 277.879 L439.872 277.879 L439.872 274.314 L442.372 274.314 Q444.131 274.314 445.103 273.48 Q446.076 272.647 447.256 269.545 L448.02 267.601 L437.534 242.092 L442.048 242.092 L450.15 262.369 L458.251 242.092 L462.765 242.092 L451.376 270.425 Z\" fill=\"#000000\" fill-rule=\"evenodd\" fill-opacity=\"1\" /><path clip-path=\"url(#clip980)\" d=\"M483.413 249.383 Q486.77 250.101 488.645 252.369 Q490.543 254.638 490.543 257.971 Q490.543 263.087 487.024 265.888 Q483.506 268.689 477.024 268.689 Q474.849 268.689 472.534 268.249 Q470.242 267.832 467.788 266.976 L467.788 262.462 Q469.733 263.596 472.048 264.175 Q474.362 264.754 476.886 264.754 Q481.284 264.754 483.575 263.018 Q485.89 261.281 485.89 257.971 Q485.89 254.916 483.737 253.203 Q481.608 251.467 477.788 251.467 L473.761 251.467 L473.761 247.624 L477.973 247.624 Q481.423 247.624 483.251 246.258 Q485.08 244.87 485.08 242.277 Q485.08 239.615 483.182 238.203 Q481.307 236.768 477.788 236.768 Q475.867 236.768 473.668 237.184 Q471.469 237.601 468.83 238.481 L468.83 234.314 Q471.492 233.573 473.807 233.203 Q476.145 232.833 478.205 232.833 Q483.529 232.833 486.631 235.263 Q489.733 237.67 489.733 241.791 Q489.733 244.661 488.089 246.652 Q486.446 248.62 483.413 249.383 Z\" fill=\"#000000\" fill-rule=\"evenodd\" fill-opacity=\"1\" /></svg>\n"
      ]
     },
     "execution_count": 18,
     "metadata": {},
     "output_type": "execute_result"
    }
   ],
   "source": [
    "x_fit = -11:0.1:11\n",
    "Plots.scatter(x,y_observed)\n",
    "Plots.plot!(x_fit,poly_fit.(x_fit))\n",
    "Plots.plot!(x,y_true)"
   ]
  },
  {
   "cell_type": "markdown",
   "id": "4450ddc6",
   "metadata": {},
   "source": [
    "The fit doesn't make sense outside the training dataset. It is one of the cases when the model is overfitted, which means the model becomes too specific to the training dataset. "
   ]
  }
 ],
 "metadata": {
  "kernelspec": {
   "display_name": "Julia 1.7.2",
   "language": "julia",
   "name": "julia-1.7"
  },
  "language_info": {
   "file_extension": ".jl",
   "mimetype": "application/julia",
   "name": "julia",
   "version": "1.7.2"
  }
 },
 "nbformat": 4,
 "nbformat_minor": 5
}
