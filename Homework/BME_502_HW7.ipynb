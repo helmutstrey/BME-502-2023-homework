{
 "cells": [
  {
   "cell_type": "markdown",
   "id": "1fbe377b",
   "metadata": {},
   "source": [
    "<h1>HW7</h1>"
   ]
  },
  {
   "cell_type": "markdown",
   "id": "7151419f",
   "metadata": {},
   "source": [
    "# Question\n",
    "### (Maximum Likelihood Estimation) Complete the following exercise "
   ]
  },
  {
   "cell_type": "markdown",
   "id": "00367d25",
   "metadata": {},
   "source": [
    "Given a dataset $\\{x_1, x_2,x_3, ...x_n\\}$ that each data point is independently distributed. We assume the data distribute as gaussian and want to comptue the maximum likelihood estimation $\\{\\mu_{mle}, \\sigma_{mle}\\}$ of the distribution.\n",
    "\n",
    "Given the conditional probability we want to maximize is: \n",
    "\n",
    "\\begin{equation*}\n",
    "f(x_1, x_2,x_3, ...x_n|\\mu_{mle}, \\sigma_{mle}) = \\prod_i^n f(x_i|\\mu_{mle}, \\sigma_{mle})\n",
    "\\end{equation*}\n",
    "\n",
    "and the pdf of gaussian is: \n",
    "\n",
    "\\begin{equation*}\n",
    "f(x) = \\frac{1}{\\sqrt{2\\pi\\sigma^2}}e^{-\\frac{1}{2}(\\frac{x-\\mu}{\\sigma})^2}\n",
    "\\end{equation*}\n",
    "\n",
    "Derive the representation of $\\{\\mu_{mle}, \\sigma_{mle}\\}$ in terms of n and x using maximum likelihood method. `Please show the whole derivation process to earn full credit.`"
   ]
  },
  {
   "cell_type": "markdown",
   "id": "86bfe8f9",
   "metadata": {},
   "source": []
  }
 ],
 "metadata": {
  "kernelspec": {
   "display_name": "Julia 1.7.2",
   "language": "julia",
   "name": "julia-1.7"
  },
  "language_info": {
   "file_extension": ".jl",
   "mimetype": "application/julia",
   "name": "julia",
   "version": "1.7.2"
  }
 },
 "nbformat": 4,
 "nbformat_minor": 5
}
