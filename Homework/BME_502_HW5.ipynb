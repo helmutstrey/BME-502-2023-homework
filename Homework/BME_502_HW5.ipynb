{
 "cells": [
  {
   "cell_type": "markdown",
   "id": "1fbe377b",
   "metadata": {},
   "source": [
    "<h1>HW5</h1>"
   ]
  },
  {
   "cell_type": "markdown",
   "id": "7151419f",
   "metadata": {},
   "source": [
    "# Question 1\n",
    "### (Beta Distribution) Complete the following exercises "
   ]
  },
  {
   "cell_type": "markdown",
   "id": "00367d25",
   "metadata": {},
   "source": [
    "### 1.1 \n",
    "\n",
    "Create a function to calculate the probability density function (PDF) of  beta distribution:\n",
    "\n",
    "\\begin{equation*}\n",
    "f(x;\\alpha,\\beta) = \\frac{\\Gamma(\\alpha+\\beta)}{\\Gamma(\\alpha)\\Gamma(\\beta)}x^{\\alpha-1}(1-x)^{\\beta-1}\n",
    "\\end{equation*}\n",
    "\n",
    "\n",
    "* Function name: pdf_beta\n",
    "\n",
    "* Input: $\\alpha$, $\\beta$, x\n",
    "\n",
    "* Output: f(x;$\\alpha$,$\\beta$)\n",
    "\n",
    "* Use SpecialFunctions.gamma() for the gamma function\n"
   ]
  },
  {
   "cell_type": "code",
   "execution_count": 12,
   "id": "137bc2e7",
   "metadata": {},
   "outputs": [
    {
     "name": "stderr",
     "output_type": "stream",
     "text": [
      "\u001b[32m\u001b[1m   Resolving\u001b[22m\u001b[39m package versions...\n",
      "\u001b[32m\u001b[1m  No Changes\u001b[22m\u001b[39m to `~/.julia/environments/v1.7/Project.toml`\n",
      "\u001b[32m\u001b[1m  No Changes\u001b[22m\u001b[39m to `~/.julia/environments/v1.7/Manifest.toml`\n"
     ]
    }
   ],
   "source": [
    "import Pkg\n",
    "Pkg.add([\"SpecialFunctions\", \"Plots\"])"
   ]
  },
  {
   "cell_type": "code",
   "execution_count": 13,
   "id": "cff81c75",
   "metadata": {},
   "outputs": [],
   "source": [
    "import SpecialFunctions\n",
    "import Plots"
   ]
  },
  {
   "cell_type": "code",
   "execution_count": null,
   "id": "11c0b4ad",
   "metadata": {},
   "outputs": [],
   "source": []
  },
  {
   "cell_type": "markdown",
   "id": "3e284e4a",
   "metadata": {},
   "source": [
    "### 1.2\n",
    "\n",
    "1. Create a x from 0 to 1 with increment of 0.001 as the probability of event. \n",
    "2. Create $\\alpha$ = 0.5 and $\\beta$ = 0.5\n",
    "3. Calculate the pdf of the beta distribution over x \n",
    "4. Plot pdf vs. x\n",
    "5. What is the shape of the beta distribution"
   ]
  },
  {
   "cell_type": "code",
   "execution_count": null,
   "id": "3bcb109a",
   "metadata": {},
   "outputs": [],
   "source": []
  },
  {
   "cell_type": "markdown",
   "id": "f16b469a",
   "metadata": {},
   "source": []
  },
  {
   "cell_type": "markdown",
   "id": "da25327c",
   "metadata": {},
   "source": [
    "### 1.3\n",
    "\n",
    "1. Change $\\alpha$ = 1 and $\\beta$ = 1\n",
    "2. Calculate the pdf of the beta distribution over x \n",
    "3. Plot pdf vs. x\n",
    "4. What is the shape of the beta distribution"
   ]
  },
  {
   "cell_type": "code",
   "execution_count": null,
   "id": "02f7d2e4",
   "metadata": {},
   "outputs": [],
   "source": []
  },
  {
   "cell_type": "markdown",
   "id": "90926e05",
   "metadata": {},
   "source": []
  },
  {
   "cell_type": "markdown",
   "id": "e22eec43",
   "metadata": {},
   "source": [
    "### 1.4\n",
    "\n",
    "1. Change $\\alpha$ = 5 and $\\beta$ = 5\n",
    "2. Calculate the pdf of the beta distribution over x \n",
    "3. Plot pdf vs. x\n",
    "4. What is the shape of the beta distribution"
   ]
  },
  {
   "cell_type": "code",
   "execution_count": null,
   "id": "ffe99096",
   "metadata": {},
   "outputs": [],
   "source": []
  },
  {
   "cell_type": "markdown",
   "id": "c3c507ab",
   "metadata": {},
   "source": []
  },
  {
   "cell_type": "markdown",
   "id": "775b8acf",
   "metadata": {},
   "source": [
    "#### In our class on Tuesday, we went through how a Beta distribution is used as the conjugate prior of a binomial distribution that can be used in bayesian inference. \n",
    "\n",
    "If you forgot the derivation, [here is an example](https://towardsdatascience.com/conjugate-prior-explained-75957dc80bfb). "
   ]
  },
  {
   "cell_type": "markdown",
   "id": "f178fa2c",
   "metadata": {},
   "source": [
    "### 1.5\n",
    "\n",
    "#### Assume we are using the beta distribution from 1.4 as our prior distribution for a coin flipping experiment to calculate the true distribution of flipping the coin (posterior distribution).\n",
    "\n",
    "Given the experiment results in 35 heads and 65 tails. \n",
    "\n",
    "1. Calculate the pdf of the posterior distribution given the prior and the results.\n",
    "2. Plot pdf of the prior distribution in the same plot\n",
    "3. Describe how the distribution is changed after the data came in"
   ]
  },
  {
   "cell_type": "code",
   "execution_count": null,
   "id": "668b3246",
   "metadata": {},
   "outputs": [],
   "source": []
  },
  {
   "cell_type": "markdown",
   "id": "01d0bbdf",
   "metadata": {},
   "source": []
  },
  {
   "cell_type": "markdown",
   "id": "79813e24",
   "metadata": {},
   "source": [
    "# Question 2\n",
    "### (Conjugate Prior) Read the following example and complete the exercises \n",
    "\n",
    "#### In question 1, you see when a Beta distribution is used as the prior for a event that follows a binomial distribution (P(B|A)), the posterior distribution (P(A|B)) follows a Beta distribution. Using a conjugate prior simplify the posterior computation by keeping the posterior distribution identical to the prior distribution.\n"
   ]
  },
  {
   "cell_type": "markdown",
   "id": "425f8583",
   "metadata": {},
   "source": [
    "### 2.1 \n",
    "\n",
    "Gaussian distribution is a conjugate prior of itself. Below is the probability density function of gaussian distribution. Given your likelihood P(Data|Hypothesis) follows N($\\mu_1$, $\\sigma_1$) and prior P(Hypothesis) follows N($\\mu_2$, $\\sigma_2$), derive the probability density function of the posterior distribution P(Hypothesis|Data) with updated $\\mu$ and $\\sigma$. Please show the `whole derivation process` to earn full credit.\n",
    "\n",
    "\\begin{equation*}\n",
    "f(x) = \\frac{1}{\\sqrt{2\\pi\\sigma^2}}e^{-\\frac{1}{2}(\\frac{x-\\mu}{\\sigma})^2}\n",
    "\\end{equation*}\n",
    "\n",
    "*You can ignore the marginal probability during the derivation.\n",
    "\n",
    "\\begin{equation*}\n",
    "P(A|B) \\propto P(B|A)P(A) \n",
    "\\end{equation*}"
   ]
  },
  {
   "cell_type": "markdown",
   "id": "c481ac53",
   "metadata": {},
   "source": [
    "### Hint 1\n",
    "See [this page](https://jupyterbook.org/en/stable/content/math.html) for how to write equations in jupyter notebook"
   ]
  },
  {
   "cell_type": "markdown",
   "id": "5b6f48d2",
   "metadata": {},
   "source": [
    "### Hint 2\n",
    "The posterior probability is gaussian "
   ]
  },
  {
   "cell_type": "markdown",
   "id": "7df48de5",
   "metadata": {},
   "source": [
    "### Hint 3\n",
    "$x^a*x^b = x^{(a+b)}$"
   ]
  },
  {
   "cell_type": "markdown",
   "id": "30c85840",
   "metadata": {},
   "source": []
  },
  {
   "cell_type": "markdown",
   "id": "6f3dda2f",
   "metadata": {},
   "source": [
    "### 2.2 \n",
    "\n",
    "Based on the results you got in 2.1, what normalization factor is needed for the posterior to satisfy $$\\int_{-\\infty}^{\\infty}P(A|B) = 1$$"
   ]
  },
  {
   "cell_type": "markdown",
   "id": "54dac510",
   "metadata": {},
   "source": []
  }
 ],
 "metadata": {
  "kernelspec": {
   "display_name": "Julia 1.7.2",
   "language": "julia",
   "name": "julia-1.7"
  },
  "language_info": {
   "file_extension": ".jl",
   "mimetype": "application/julia",
   "name": "julia",
   "version": "1.7.2"
  }
 },
 "nbformat": 4,
 "nbformat_minor": 5
}
