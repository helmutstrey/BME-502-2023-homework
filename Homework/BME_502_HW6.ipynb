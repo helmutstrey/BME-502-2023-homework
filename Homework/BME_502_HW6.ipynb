{
 "cells": [
  {
   "cell_type": "markdown",
   "id": "1fbe377b",
   "metadata": {},
   "source": [
    "<h1>HW6</h1>"
   ]
  },
  {
   "cell_type": "markdown",
   "id": "7151419f",
   "metadata": {},
   "source": [
    "# Question\n",
    "### (Inverse Transform Sampling) Complete the following exercises "
   ]
  },
  {
   "cell_type": "markdown",
   "id": "00367d25",
   "metadata": {},
   "source": [
    "### 1.1\n",
    "\n",
    "Create a function to sample from a Gaussian distribution with mean $\\mu$ and standard deviation $\\sigma$:\n",
    "\n",
    "* Function name: sample_gaussian\n",
    "\n",
    "* Input: $\\mu$, $\\sigma$, n\n",
    "\n",
    "* Output: a n-element vector of random sample from Gaussian~N($\\mu$, $\\sigma$)\n",
    "\n",
    "* You are `not allowed` to use the Distributions.jl package or any existing sampler\n",
    "* You are `allowed` to use SpecialFunctions.jl for special functions and rand for random number generation\n"
   ]
  },
  {
   "cell_type": "markdown",
   "id": "6793badb",
   "metadata": {},
   "source": [
    "An [example](https://stephens999.github.io/fiveMinuteStats/inverse_transform_sampling.html) of inverse transform sampling"
   ]
  },
  {
   "cell_type": "code",
   "execution_count": 1,
   "id": "137bc2e7",
   "metadata": {},
   "outputs": [
    {
     "name": "stderr",
     "output_type": "stream",
     "text": [
      "\u001b[32m\u001b[1m    Updating\u001b[22m\u001b[39m registry at `~/.julia/registries/General.toml`\n",
      "\u001b[32m\u001b[1m   Resolving\u001b[22m\u001b[39m package versions...\n",
      "\u001b[32m\u001b[1m  No Changes\u001b[22m\u001b[39m to `~/.julia/environments/v1.7/Project.toml`\n",
      "\u001b[32m\u001b[1m  No Changes\u001b[22m\u001b[39m to `~/.julia/environments/v1.7/Manifest.toml`\n"
     ]
    }
   ],
   "source": [
    "import Pkg\n",
    "Pkg.add([\"SpecialFunctions\", \"Plots\"])"
   ]
  },
  {
   "cell_type": "code",
   "execution_count": 2,
   "id": "cff81c75",
   "metadata": {},
   "outputs": [],
   "source": [
    "import SpecialFunctions\n",
    "import Plots"
   ]
  },
  {
   "cell_type": "code",
   "execution_count": null,
   "id": "f8f81560",
   "metadata": {},
   "outputs": [],
   "source": []
  },
  {
   "cell_type": "markdown",
   "id": "5d664f44",
   "metadata": {},
   "source": [
    "### 1.2\n",
    "\n",
    "\n",
    "1. Use the sampler above to draw 10000 samples from a Gaussian distribution~N($\\mu$ = -1, $\\sigma$ = 2)\n",
    "2. Plot the histogram of the 10000 samples \n",
    "3. Use the Distributions.jl package to obtain the pdf of the same Gaussian distribution~N($\\mu$ = -1, $\\sigma$ = 2) using x = -8:0.001:6\n",
    "4. Plot the pdf on top of the histogram from step 2"
   ]
  },
  {
   "cell_type": "code",
   "execution_count": null,
   "id": "bf03f438",
   "metadata": {},
   "outputs": [],
   "source": []
  }
 ],
 "metadata": {
  "kernelspec": {
   "display_name": "Julia 1.7.2",
   "language": "julia",
   "name": "julia-1.7"
  },
  "language_info": {
   "file_extension": ".jl",
   "mimetype": "application/julia",
   "name": "julia",
   "version": "1.7.2"
  }
 },
 "nbformat": 4,
 "nbformat_minor": 5
}
